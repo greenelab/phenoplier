{
 "cells": [
  {
   "cell_type": "markdown",
   "id": "7a6632fb",
   "metadata": {
    "papermill": {
     "duration": 0.005888,
     "end_time": "2022-06-06T11:47:01.753187",
     "exception": false,
     "start_time": "2022-06-06T11:47:01.747299",
     "status": "completed"
    },
    "tags": []
   },
   "source": [
    "# Description"
   ]
  },
  {
   "cell_type": "markdown",
   "id": "7097c346",
   "metadata": {
    "papermill": {
     "duration": 0.005154,
     "end_time": "2022-06-06T11:47:01.763827",
     "exception": false,
     "start_time": "2022-06-06T11:47:01.758673",
     "status": "completed"
    },
    "tags": []
   },
   "source": [
    "(Please, take a look at the README.md file in this directory for instructions on how to run this notebook)\n",
    "\n",
    "This notebook computes predicted expression correlations between all genes in the MultiPLIER models.\n",
    "\n",
    "It also has a parameter set for papermill to run on a single chromosome to run in parallel (see under `Settings` below).\n",
    "\n",
    "This notebook does not have an output because it is not directly run. If you want to see outputs for each chromosome, check out the `gene_corrs` folder, which contains a copy of this notebook for each chromosome."
   ]
  },
  {
   "cell_type": "markdown",
   "id": "c61d8427",
   "metadata": {
    "papermill": {
     "duration": 0.005158,
     "end_time": "2022-06-06T11:47:01.774367",
     "exception": false,
     "start_time": "2022-06-06T11:47:01.769209",
     "status": "completed"
    },
    "tags": []
   },
   "source": [
    "# Modules"
   ]
  },
  {
   "cell_type": "code",
   "execution_count": 1,
   "id": "bbc0234f",
   "metadata": {
    "execution": {
     "iopub.execute_input": "2022-06-06T11:47:01.786099Z",
     "iopub.status.busy": "2022-06-06T11:47:01.785882Z",
     "iopub.status.idle": "2022-06-06T11:47:01.803321Z",
     "shell.execute_reply": "2022-06-06T11:47:01.802729Z"
    },
    "papermill": {
     "duration": 0.025199,
     "end_time": "2022-06-06T11:47:01.804952",
     "exception": false,
     "start_time": "2022-06-06T11:47:01.779753",
     "status": "completed"
    },
    "tags": []
   },
   "outputs": [],
   "source": [
    "%load_ext autoreload\n",
    "%autoreload 2"
   ]
  },
  {
   "cell_type": "code",
   "execution_count": 2,
   "id": "1d5f5a59",
   "metadata": {
    "execution": {
     "iopub.execute_input": "2022-06-06T11:47:01.817462Z",
     "iopub.status.busy": "2022-06-06T11:47:01.817039Z",
     "iopub.status.idle": "2022-06-06T11:47:02.428674Z",
     "shell.execute_reply": "2022-06-06T11:47:02.428044Z"
    },
    "papermill": {
     "duration": 0.619658,
     "end_time": "2022-06-06T11:47:02.430340",
     "exception": false,
     "start_time": "2022-06-06T11:47:01.810682",
     "status": "completed"
    },
    "tags": []
   },
   "outputs": [],
   "source": [
    "import numpy as np\n",
    "from scipy.spatial.distance import squareform\n",
    "import pandas as pd\n",
    "from tqdm import tqdm\n",
    "\n",
    "import conf\n",
    "from entity import Gene"
   ]
  },
  {
   "cell_type": "markdown",
   "id": "1eac24b5",
   "metadata": {
    "papermill": {
     "duration": 0.00572,
     "end_time": "2022-06-06T11:47:02.442252",
     "exception": false,
     "start_time": "2022-06-06T11:47:02.436532",
     "status": "completed"
    },
    "tags": []
   },
   "source": [
    "# Settings"
   ]
  },
  {
   "cell_type": "code",
   "execution_count": 3,
   "id": "ca4560ba",
   "metadata": {
    "execution": {
     "iopub.execute_input": "2022-06-06T11:47:02.454868Z",
     "iopub.status.busy": "2022-06-06T11:47:02.454668Z",
     "iopub.status.idle": "2022-06-06T11:47:02.469955Z",
     "shell.execute_reply": "2022-06-06T11:47:02.469373Z"
    },
    "papermill": {
     "duration": 0.023589,
     "end_time": "2022-06-06T11:47:02.471672",
     "exception": false,
     "start_time": "2022-06-06T11:47:02.448083",
     "status": "completed"
    },
    "tags": [
     "parameters"
    ]
   },
   "outputs": [],
   "source": [
    "# reference panel\n",
    "REFERENCE_PANEL = \"GTEX_V8\"\n",
    "# REFERENCE_PANEL = \"1000G\"\n",
    "\n",
    "# prediction models\n",
    "## mashr\n",
    "EQTL_MODEL = \"MASHR\"\n",
    "EQTL_MODEL_FILES_PREFIX = \"mashr_\"\n",
    "\n",
    "# ## elastic net\n",
    "# EQTL_MODEL = \"ELASTIC_NET\"\n",
    "# EQTL_MODEL_FILES_PREFIX = \"en_\"\n",
    "\n",
    "# make it read the prefix from conf.py\n",
    "EQTL_MODEL_FILES_PREFIX = None\n",
    "\n",
    "# specifies a single chromosome value\n",
    "# by default, run on all chromosomes\n",
    "chromosome = \"all\""
   ]
  },
  {
   "cell_type": "code",
   "execution_count": 4,
   "id": "22ce8027",
   "metadata": {
    "execution": {
     "iopub.execute_input": "2022-06-06T11:47:02.484792Z",
     "iopub.status.busy": "2022-06-06T11:47:02.484210Z",
     "iopub.status.idle": "2022-06-06T11:47:02.498829Z",
     "shell.execute_reply": "2022-06-06T11:47:02.498251Z"
    },
    "papermill": {
     "duration": 0.022878,
     "end_time": "2022-06-06T11:47:02.500545",
     "exception": false,
     "start_time": "2022-06-06T11:47:02.477667",
     "status": "completed"
    },
    "tags": [
     "injected-parameters"
    ]
   },
   "outputs": [],
   "source": [
    "# Parameters\n",
    "chromosome = 21\n",
    "REFERENCE_PANEL = \"GTEX_V8\"\n",
    "EQTL_MODEL = \"MASHR\"\n"
   ]
  },
  {
   "cell_type": "code",
   "execution_count": 5,
   "id": "a089c9ff",
   "metadata": {
    "execution": {
     "iopub.execute_input": "2022-06-06T11:47:02.514040Z",
     "iopub.status.busy": "2022-06-06T11:47:02.513851Z",
     "iopub.status.idle": "2022-06-06T11:47:02.528349Z",
     "shell.execute_reply": "2022-06-06T11:47:02.527750Z"
    },
    "papermill": {
     "duration": 0.023154,
     "end_time": "2022-06-06T11:47:02.530063",
     "exception": false,
     "start_time": "2022-06-06T11:47:02.506909",
     "status": "completed"
    },
    "tags": []
   },
   "outputs": [],
   "source": [
    "if EQTL_MODEL_FILES_PREFIX is None:\n",
    "    EQTL_MODEL_FILES_PREFIX = conf.PHENOMEXCAN[\"PREDICTION_MODELS\"][\n",
    "        f\"{EQTL_MODEL}_PREFIX\"\n",
    "    ]"
   ]
  },
  {
   "cell_type": "code",
   "execution_count": 6,
   "id": "8fe24bef",
   "metadata": {
    "execution": {
     "iopub.execute_input": "2022-06-06T11:47:02.543306Z",
     "iopub.status.busy": "2022-06-06T11:47:02.542858Z",
     "iopub.status.idle": "2022-06-06T11:47:02.563412Z",
     "shell.execute_reply": "2022-06-06T11:47:02.562881Z"
    },
    "papermill": {
     "duration": 0.029332,
     "end_time": "2022-06-06T11:47:02.565430",
     "exception": false,
     "start_time": "2022-06-06T11:47:02.536098",
     "status": "completed"
    },
    "tags": []
   },
   "outputs": [
    {
     "data": {
      "text/plain": [
       "'Using eQTL model: MASHR / mashr_'"
      ]
     },
     "metadata": {},
     "output_type": "display_data"
    }
   ],
   "source": [
    "display(f\"Using eQTL model: {EQTL_MODEL} / {EQTL_MODEL_FILES_PREFIX}\")"
   ]
  },
  {
   "cell_type": "code",
   "execution_count": 7,
   "id": "0230ebcb-2c32-4b95-9292-d9a52038e70d",
   "metadata": {
    "execution": {
     "iopub.execute_input": "2022-06-06T11:47:02.578678Z",
     "iopub.status.busy": "2022-06-06T11:47:02.578159Z",
     "iopub.status.idle": "2022-06-06T11:47:02.592622Z",
     "shell.execute_reply": "2022-06-06T11:47:02.592045Z"
    },
    "papermill": {
     "duration": 0.022756,
     "end_time": "2022-06-06T11:47:02.594218",
     "exception": false,
     "start_time": "2022-06-06T11:47:02.571462",
     "status": "completed"
    },
    "tags": []
   },
   "outputs": [],
   "source": [
    "REFERENCE_PANEL_DIR = conf.PHENOMEXCAN[\"LD_BLOCKS\"][f\"{REFERENCE_PANEL}_GENOTYPE_DIR\"]"
   ]
  },
  {
   "cell_type": "code",
   "execution_count": 8,
   "id": "98c4a159-601d-4a22-a1ab-35bd451c25f9",
   "metadata": {
    "execution": {
     "iopub.execute_input": "2022-06-06T11:47:02.608719Z",
     "iopub.status.busy": "2022-06-06T11:47:02.608362Z",
     "iopub.status.idle": "2022-06-06T11:47:02.623509Z",
     "shell.execute_reply": "2022-06-06T11:47:02.622997Z"
    },
    "papermill": {
     "duration": 0.024084,
     "end_time": "2022-06-06T11:47:02.625270",
     "exception": false,
     "start_time": "2022-06-06T11:47:02.601186",
     "status": "completed"
    },
    "tags": []
   },
   "outputs": [
    {
     "data": {
      "text/plain": [
       "'Using reference panel folder: /opt/data/data/phenomexcan/ld_blocks/reference_panel_gtex_v8'"
      ]
     },
     "metadata": {},
     "output_type": "display_data"
    }
   ],
   "source": [
    "display(f\"Using reference panel folder: {str(REFERENCE_PANEL_DIR)}\")"
   ]
  },
  {
   "cell_type": "code",
   "execution_count": 9,
   "id": "396392dc-0340-4540-9b02-e182b833f909",
   "metadata": {
    "execution": {
     "iopub.execute_input": "2022-06-06T11:47:02.640555Z",
     "iopub.status.busy": "2022-06-06T11:47:02.640196Z",
     "iopub.status.idle": "2022-06-06T11:47:02.655155Z",
     "shell.execute_reply": "2022-06-06T11:47:02.654592Z"
    },
    "papermill": {
     "duration": 0.023732,
     "end_time": "2022-06-06T11:47:02.656828",
     "exception": false,
     "start_time": "2022-06-06T11:47:02.633096",
     "status": "completed"
    },
    "tags": []
   },
   "outputs": [],
   "source": [
    "OUTPUT_DIR_BASE = (\n",
    "    conf.PHENOMEXCAN[\"LD_BLOCKS\"][f\"GENE_CORRS_DIR\"]\n",
    "    / REFERENCE_PANEL.lower()\n",
    "    / EQTL_MODEL.lower()\n",
    ")\n",
    "OUTPUT_DIR_BASE.mkdir(parents=True, exist_ok=True)"
   ]
  },
  {
   "cell_type": "code",
   "execution_count": 10,
   "id": "8942c2d3-e53c-4d63-a0eb-b6fce0574d36",
   "metadata": {
    "execution": {
     "iopub.execute_input": "2022-06-06T11:47:02.670651Z",
     "iopub.status.busy": "2022-06-06T11:47:02.670136Z",
     "iopub.status.idle": "2022-06-06T11:47:02.685234Z",
     "shell.execute_reply": "2022-06-06T11:47:02.684741Z"
    },
    "papermill": {
     "duration": 0.023779,
     "end_time": "2022-06-06T11:47:02.686939",
     "exception": false,
     "start_time": "2022-06-06T11:47:02.663160",
     "status": "completed"
    },
    "tags": []
   },
   "outputs": [
    {
     "data": {
      "text/plain": [
       "'Using output dir base: /opt/data/data/phenomexcan/ld_blocks/gene_corrs/gtex_v8/mashr'"
      ]
     },
     "metadata": {},
     "output_type": "display_data"
    }
   ],
   "source": [
    "display(f\"Using output dir base: {OUTPUT_DIR_BASE}\")"
   ]
  },
  {
   "cell_type": "code",
   "execution_count": 11,
   "id": "408aa590",
   "metadata": {
    "execution": {
     "iopub.execute_input": "2022-06-06T11:47:02.731284Z",
     "iopub.status.busy": "2022-06-06T11:47:02.730617Z",
     "iopub.status.idle": "2022-06-06T11:47:02.746943Z",
     "shell.execute_reply": "2022-06-06T11:47:02.746387Z"
    },
    "papermill": {
     "duration": 0.025785,
     "end_time": "2022-06-06T11:47:02.748615",
     "exception": false,
     "start_time": "2022-06-06T11:47:02.722830",
     "status": "completed"
    },
    "tags": []
   },
   "outputs": [],
   "source": [
    "if chromosome == \"all\":\n",
    "    from time import sleep\n",
    "\n",
    "    message = \"\"\"\n",
    "    WARNING: you are going to compute correlations of gene predicted expression across all chromosomes without parallelism.\n",
    "    It is recommended that you look at the README.md file in this subfolder (nbs/08_gsa_gls/README.md) to know how to do that.\n",
    "    \n",
    "    It will continue in 20 seconds.\n",
    "    \"\"\"\n",
    "    print(message)\n",
    "    sleep(20)"
   ]
  },
  {
   "cell_type": "markdown",
   "id": "d2ba085e",
   "metadata": {
    "papermill": {
     "duration": 0.006617,
     "end_time": "2022-06-06T11:47:02.762225",
     "exception": false,
     "start_time": "2022-06-06T11:47:02.755608",
     "status": "completed"
    },
    "tags": []
   },
   "source": [
    "# Load data"
   ]
  },
  {
   "cell_type": "markdown",
   "id": "abcc4b3d",
   "metadata": {
    "papermill": {
     "duration": 0.00642,
     "end_time": "2022-06-06T11:47:02.775292",
     "exception": false,
     "start_time": "2022-06-06T11:47:02.768872",
     "status": "completed"
    },
    "tags": []
   },
   "source": [
    "## MultiPLIER Z"
   ]
  },
  {
   "cell_type": "code",
   "execution_count": 12,
   "id": "c48ef527",
   "metadata": {
    "execution": {
     "iopub.execute_input": "2022-06-06T11:47:02.789643Z",
     "iopub.status.busy": "2022-06-06T11:47:02.789000Z",
     "iopub.status.idle": "2022-06-06T11:47:02.830610Z",
     "shell.execute_reply": "2022-06-06T11:47:02.830042Z"
    },
    "papermill": {
     "duration": 0.050514,
     "end_time": "2022-06-06T11:47:02.832377",
     "exception": false,
     "start_time": "2022-06-06T11:47:02.781863",
     "status": "completed"
    },
    "tags": []
   },
   "outputs": [],
   "source": [
    "multiplier_z_genes = pd.read_pickle(\n",
    "    conf.MULTIPLIER[\"MODEL_Z_MATRIX_FILE\"]\n",
    ").index.tolist()"
   ]
  },
  {
   "cell_type": "code",
   "execution_count": 13,
   "id": "0a4ecbd9",
   "metadata": {
    "execution": {
     "iopub.execute_input": "2022-06-06T11:47:02.847769Z",
     "iopub.status.busy": "2022-06-06T11:47:02.847563Z",
     "iopub.status.idle": "2022-06-06T11:47:02.862807Z",
     "shell.execute_reply": "2022-06-06T11:47:02.862297Z"
    },
    "papermill": {
     "duration": 0.024911,
     "end_time": "2022-06-06T11:47:02.864636",
     "exception": false,
     "start_time": "2022-06-06T11:47:02.839725",
     "status": "completed"
    },
    "tags": []
   },
   "outputs": [
    {
     "data": {
      "text/plain": [
       "6750"
      ]
     },
     "execution_count": 13,
     "metadata": {},
     "output_type": "execute_result"
    }
   ],
   "source": [
    "len(multiplier_z_genes)"
   ]
  },
  {
   "cell_type": "code",
   "execution_count": 14,
   "id": "115e8864",
   "metadata": {
    "execution": {
     "iopub.execute_input": "2022-06-06T11:47:02.879560Z",
     "iopub.status.busy": "2022-06-06T11:47:02.878987Z",
     "iopub.status.idle": "2022-06-06T11:47:02.894694Z",
     "shell.execute_reply": "2022-06-06T11:47:02.894151Z"
    },
    "papermill": {
     "duration": 0.024787,
     "end_time": "2022-06-06T11:47:02.896339",
     "exception": false,
     "start_time": "2022-06-06T11:47:02.871552",
     "status": "completed"
    },
    "tags": []
   },
   "outputs": [
    {
     "data": {
      "text/plain": [
       "['GAS6',\n",
       " 'MMP14',\n",
       " 'DSP',\n",
       " 'MARCKSL1',\n",
       " 'SPARC',\n",
       " 'CTSD',\n",
       " 'EPAS1',\n",
       " 'PALLD',\n",
       " 'PHC2',\n",
       " 'LGALS3BP']"
      ]
     },
     "execution_count": 14,
     "metadata": {},
     "output_type": "execute_result"
    }
   ],
   "source": [
    "multiplier_z_genes[:10]"
   ]
  },
  {
   "cell_type": "markdown",
   "id": "7dcb8db7",
   "metadata": {
    "papermill": {
     "duration": 0.006639,
     "end_time": "2022-06-06T11:47:02.909926",
     "exception": false,
     "start_time": "2022-06-06T11:47:02.903287",
     "status": "completed"
    },
    "tags": []
   },
   "source": [
    "## Get gene objects"
   ]
  },
  {
   "cell_type": "code",
   "execution_count": 15,
   "id": "bb932812",
   "metadata": {
    "execution": {
     "iopub.execute_input": "2022-06-06T11:47:02.924587Z",
     "iopub.status.busy": "2022-06-06T11:47:02.924161Z",
     "iopub.status.idle": "2022-06-06T11:47:02.947088Z",
     "shell.execute_reply": "2022-06-06T11:47:02.946569Z"
    },
    "papermill": {
     "duration": 0.031894,
     "end_time": "2022-06-06T11:47:02.948737",
     "exception": false,
     "start_time": "2022-06-06T11:47:02.916843",
     "status": "completed"
    },
    "tags": []
   },
   "outputs": [],
   "source": [
    "multiplier_gene_obj = {\n",
    "    gene_name: Gene(name=gene_name)\n",
    "    for gene_name in multiplier_z_genes\n",
    "    if gene_name in Gene.GENE_NAME_TO_ID_MAP\n",
    "}"
   ]
  },
  {
   "cell_type": "code",
   "execution_count": 16,
   "id": "39533214",
   "metadata": {
    "execution": {
     "iopub.execute_input": "2022-06-06T11:47:02.964947Z",
     "iopub.status.busy": "2022-06-06T11:47:02.964352Z",
     "iopub.status.idle": "2022-06-06T11:47:02.979780Z",
     "shell.execute_reply": "2022-06-06T11:47:02.979222Z"
    },
    "papermill": {
     "duration": 0.025043,
     "end_time": "2022-06-06T11:47:02.981267",
     "exception": false,
     "start_time": "2022-06-06T11:47:02.956224",
     "status": "completed"
    },
    "tags": []
   },
   "outputs": [
    {
     "data": {
      "text/plain": [
       "6454"
      ]
     },
     "execution_count": 16,
     "metadata": {},
     "output_type": "execute_result"
    }
   ],
   "source": [
    "len(multiplier_gene_obj)"
   ]
  },
  {
   "cell_type": "code",
   "execution_count": 17,
   "id": "9a5d0b84",
   "metadata": {
    "execution": {
     "iopub.execute_input": "2022-06-06T11:47:02.996499Z",
     "iopub.status.busy": "2022-06-06T11:47:02.995990Z",
     "iopub.status.idle": "2022-06-06T11:47:03.011107Z",
     "shell.execute_reply": "2022-06-06T11:47:03.010624Z"
    },
    "papermill": {
     "duration": 0.024341,
     "end_time": "2022-06-06T11:47:03.012713",
     "exception": false,
     "start_time": "2022-06-06T11:47:02.988372",
     "status": "completed"
    },
    "tags": []
   },
   "outputs": [
    {
     "data": {
      "text/plain": [
       "'ENSG00000183087'"
      ]
     },
     "execution_count": 17,
     "metadata": {},
     "output_type": "execute_result"
    }
   ],
   "source": [
    "multiplier_gene_obj[\"GAS6\"].ensembl_id"
   ]
  },
  {
   "cell_type": "code",
   "execution_count": 18,
   "id": "e3ffabc7",
   "metadata": {
    "execution": {
     "iopub.execute_input": "2022-06-06T11:47:03.028224Z",
     "iopub.status.busy": "2022-06-06T11:47:03.027687Z",
     "iopub.status.idle": "2022-06-06T11:47:03.908845Z",
     "shell.execute_reply": "2022-06-06T11:47:03.908351Z"
    },
    "papermill": {
     "duration": 0.890448,
     "end_time": "2022-06-06T11:47:03.910416",
     "exception": false,
     "start_time": "2022-06-06T11:47:03.019968",
     "status": "completed"
    },
    "tags": []
   },
   "outputs": [],
   "source": [
    "_gene_obj = list(multiplier_gene_obj.values())\n",
    "\n",
    "genes_info = pd.DataFrame(\n",
    "    {\n",
    "        \"name\": [g.name for g in _gene_obj],\n",
    "        \"id\": [g.ensembl_id for g in _gene_obj],\n",
    "        \"chr\": [g.chromosome for g in _gene_obj],\n",
    "    }\n",
    ")"
   ]
  },
  {
   "cell_type": "code",
   "execution_count": 19,
   "id": "e23519b8",
   "metadata": {
    "execution": {
     "iopub.execute_input": "2022-06-06T11:47:03.925432Z",
     "iopub.status.busy": "2022-06-06T11:47:03.924993Z",
     "iopub.status.idle": "2022-06-06T11:47:03.939793Z",
     "shell.execute_reply": "2022-06-06T11:47:03.939276Z"
    },
    "papermill": {
     "duration": 0.024105,
     "end_time": "2022-06-06T11:47:03.941466",
     "exception": false,
     "start_time": "2022-06-06T11:47:03.917361",
     "status": "completed"
    },
    "tags": []
   },
   "outputs": [
    {
     "data": {
      "text/plain": [
       "(6454, 3)"
      ]
     },
     "execution_count": 19,
     "metadata": {},
     "output_type": "execute_result"
    }
   ],
   "source": [
    "genes_info.shape"
   ]
  },
  {
   "cell_type": "code",
   "execution_count": 20,
   "id": "0d71881c",
   "metadata": {
    "execution": {
     "iopub.execute_input": "2022-06-06T11:47:03.956712Z",
     "iopub.status.busy": "2022-06-06T11:47:03.956517Z",
     "iopub.status.idle": "2022-06-06T11:47:03.976312Z",
     "shell.execute_reply": "2022-06-06T11:47:03.975779Z"
    },
    "papermill": {
     "duration": 0.029664,
     "end_time": "2022-06-06T11:47:03.978424",
     "exception": false,
     "start_time": "2022-06-06T11:47:03.948760",
     "status": "completed"
    },
    "tags": []
   },
   "outputs": [
    {
     "data": {
      "text/html": [
       "<div>\n",
       "<style scoped>\n",
       "    .dataframe tbody tr th:only-of-type {\n",
       "        vertical-align: middle;\n",
       "    }\n",
       "\n",
       "    .dataframe tbody tr th {\n",
       "        vertical-align: top;\n",
       "    }\n",
       "\n",
       "    .dataframe thead th {\n",
       "        text-align: right;\n",
       "    }\n",
       "</style>\n",
       "<table border=\"1\" class=\"dataframe\">\n",
       "  <thead>\n",
       "    <tr style=\"text-align: right;\">\n",
       "      <th></th>\n",
       "      <th>name</th>\n",
       "      <th>id</th>\n",
       "      <th>chr</th>\n",
       "    </tr>\n",
       "  </thead>\n",
       "  <tbody>\n",
       "    <tr>\n",
       "      <th>0</th>\n",
       "      <td>GAS6</td>\n",
       "      <td>ENSG00000183087</td>\n",
       "      <td>13</td>\n",
       "    </tr>\n",
       "    <tr>\n",
       "      <th>1</th>\n",
       "      <td>MMP14</td>\n",
       "      <td>ENSG00000157227</td>\n",
       "      <td>14</td>\n",
       "    </tr>\n",
       "    <tr>\n",
       "      <th>2</th>\n",
       "      <td>DSP</td>\n",
       "      <td>ENSG00000096696</td>\n",
       "      <td>6</td>\n",
       "    </tr>\n",
       "    <tr>\n",
       "      <th>3</th>\n",
       "      <td>MARCKSL1</td>\n",
       "      <td>ENSG00000175130</td>\n",
       "      <td>1</td>\n",
       "    </tr>\n",
       "    <tr>\n",
       "      <th>4</th>\n",
       "      <td>SPARC</td>\n",
       "      <td>ENSG00000113140</td>\n",
       "      <td>5</td>\n",
       "    </tr>\n",
       "  </tbody>\n",
       "</table>\n",
       "</div>"
      ],
      "text/plain": [
       "       name               id chr\n",
       "0      GAS6  ENSG00000183087  13\n",
       "1     MMP14  ENSG00000157227  14\n",
       "2       DSP  ENSG00000096696   6\n",
       "3  MARCKSL1  ENSG00000175130   1\n",
       "4     SPARC  ENSG00000113140   5"
      ]
     },
     "execution_count": 20,
     "metadata": {},
     "output_type": "execute_result"
    }
   ],
   "source": [
    "genes_info.head()"
   ]
  },
  {
   "cell_type": "markdown",
   "id": "8c9dbb4a",
   "metadata": {
    "papermill": {
     "duration": 0.007652,
     "end_time": "2022-06-06T11:47:03.994133",
     "exception": false,
     "start_time": "2022-06-06T11:47:03.986481",
     "status": "completed"
    },
    "tags": []
   },
   "source": [
    "## Get tissues names"
   ]
  },
  {
   "cell_type": "code",
   "execution_count": 21,
   "id": "2bc52419",
   "metadata": {
    "execution": {
     "iopub.execute_input": "2022-06-06T11:47:04.012497Z",
     "iopub.status.busy": "2022-06-06T11:47:04.012115Z",
     "iopub.status.idle": "2022-06-06T11:47:04.026500Z",
     "shell.execute_reply": "2022-06-06T11:47:04.025923Z"
    },
    "papermill": {
     "duration": 0.024269,
     "end_time": "2022-06-06T11:47:04.028071",
     "exception": false,
     "start_time": "2022-06-06T11:47:04.003802",
     "status": "completed"
    },
    "tags": []
   },
   "outputs": [],
   "source": [
    "tissues = conf.PHENOMEXCAN[\"PREDICTION_MODELS\"][f\"{EQTL_MODEL}_TISSUES\"].split(\" \")"
   ]
  },
  {
   "cell_type": "code",
   "execution_count": 22,
   "id": "64b293a1",
   "metadata": {
    "execution": {
     "iopub.execute_input": "2022-06-06T11:47:04.044177Z",
     "iopub.status.busy": "2022-06-06T11:47:04.043670Z",
     "iopub.status.idle": "2022-06-06T11:47:04.058874Z",
     "shell.execute_reply": "2022-06-06T11:47:04.058339Z"
    },
    "papermill": {
     "duration": 0.024778,
     "end_time": "2022-06-06T11:47:04.060366",
     "exception": false,
     "start_time": "2022-06-06T11:47:04.035588",
     "status": "completed"
    },
    "tags": []
   },
   "outputs": [
    {
     "data": {
      "text/plain": [
       "['Skin_Not_Sun_Exposed_Suprapubic',\n",
       " 'Cells_EBV-transformed_lymphocytes',\n",
       " 'Brain_Frontal_Cortex_BA9',\n",
       " 'Kidney_Cortex',\n",
       " 'Brain_Substantia_nigra']"
      ]
     },
     "execution_count": 22,
     "metadata": {},
     "output_type": "execute_result"
    }
   ],
   "source": [
    "tissues[:5]"
   ]
  },
  {
   "cell_type": "code",
   "execution_count": 23,
   "id": "48a7202a",
   "metadata": {
    "execution": {
     "iopub.execute_input": "2022-06-06T11:47:04.082981Z",
     "iopub.status.busy": "2022-06-06T11:47:04.082572Z",
     "iopub.status.idle": "2022-06-06T11:47:04.099387Z",
     "shell.execute_reply": "2022-06-06T11:47:04.098844Z"
    },
    "papermill": {
     "duration": 0.033171,
     "end_time": "2022-06-06T11:47:04.101336",
     "exception": false,
     "start_time": "2022-06-06T11:47:04.068165",
     "status": "completed"
    },
    "tags": []
   },
   "outputs": [],
   "source": [
    "assert len(tissues) == 49"
   ]
  },
  {
   "cell_type": "markdown",
   "id": "dff2491f",
   "metadata": {
    "papermill": {
     "duration": 0.007918,
     "end_time": "2022-06-06T11:47:04.117897",
     "exception": false,
     "start_time": "2022-06-06T11:47:04.109979",
     "status": "completed"
    },
    "tags": []
   },
   "source": [
    "# Test"
   ]
  },
  {
   "cell_type": "code",
   "execution_count": 24,
   "id": "f2e3e8bb",
   "metadata": {
    "execution": {
     "iopub.execute_input": "2022-06-06T11:47:04.135076Z",
     "iopub.status.busy": "2022-06-06T11:47:04.134549Z",
     "iopub.status.idle": "2022-06-06T11:47:04.156974Z",
     "shell.execute_reply": "2022-06-06T11:47:04.156494Z"
    },
    "papermill": {
     "duration": 0.032481,
     "end_time": "2022-06-06T11:47:04.158537",
     "exception": false,
     "start_time": "2022-06-06T11:47:04.126056",
     "status": "completed"
    },
    "tags": []
   },
   "outputs": [
    {
     "data": {
      "text/html": [
       "<div>\n",
       "<style scoped>\n",
       "    .dataframe tbody tr th:only-of-type {\n",
       "        vertical-align: middle;\n",
       "    }\n",
       "\n",
       "    .dataframe tbody tr th {\n",
       "        vertical-align: top;\n",
       "    }\n",
       "\n",
       "    .dataframe thead th {\n",
       "        text-align: right;\n",
       "    }\n",
       "</style>\n",
       "<table border=\"1\" class=\"dataframe\">\n",
       "  <thead>\n",
       "    <tr style=\"text-align: right;\">\n",
       "      <th></th>\n",
       "      <th>name</th>\n",
       "      <th>id</th>\n",
       "      <th>chr</th>\n",
       "    </tr>\n",
       "  </thead>\n",
       "  <tbody>\n",
       "    <tr>\n",
       "      <th>0</th>\n",
       "      <td>GAS6</td>\n",
       "      <td>ENSG00000183087</td>\n",
       "      <td>13</td>\n",
       "    </tr>\n",
       "    <tr>\n",
       "      <th>139</th>\n",
       "      <td>FRY</td>\n",
       "      <td>ENSG00000073910</td>\n",
       "      <td>13</td>\n",
       "    </tr>\n",
       "    <tr>\n",
       "      <th>239</th>\n",
       "      <td>CCNA1</td>\n",
       "      <td>ENSG00000133101</td>\n",
       "      <td>13</td>\n",
       "    </tr>\n",
       "    <tr>\n",
       "      <th>283</th>\n",
       "      <td>FLT3</td>\n",
       "      <td>ENSG00000122025</td>\n",
       "      <td>13</td>\n",
       "    </tr>\n",
       "    <tr>\n",
       "      <th>412</th>\n",
       "      <td>TNFSF11</td>\n",
       "      <td>ENSG00000120659</td>\n",
       "      <td>13</td>\n",
       "    </tr>\n",
       "    <tr>\n",
       "      <th>...</th>\n",
       "      <td>...</td>\n",
       "      <td>...</td>\n",
       "      <td>...</td>\n",
       "    </tr>\n",
       "    <tr>\n",
       "      <th>6269</th>\n",
       "      <td>KL</td>\n",
       "      <td>ENSG00000133116</td>\n",
       "      <td>13</td>\n",
       "    </tr>\n",
       "    <tr>\n",
       "      <th>6351</th>\n",
       "      <td>MTMR6</td>\n",
       "      <td>ENSG00000139505</td>\n",
       "      <td>13</td>\n",
       "    </tr>\n",
       "    <tr>\n",
       "      <th>6379</th>\n",
       "      <td>ABCC4</td>\n",
       "      <td>ENSG00000125257</td>\n",
       "      <td>13</td>\n",
       "    </tr>\n",
       "    <tr>\n",
       "      <th>6416</th>\n",
       "      <td>RFXAP</td>\n",
       "      <td>ENSG00000133111</td>\n",
       "      <td>13</td>\n",
       "    </tr>\n",
       "    <tr>\n",
       "      <th>6436</th>\n",
       "      <td>ELF1</td>\n",
       "      <td>ENSG00000120690</td>\n",
       "      <td>13</td>\n",
       "    </tr>\n",
       "  </tbody>\n",
       "</table>\n",
       "<p>118 rows × 3 columns</p>\n",
       "</div>"
      ],
      "text/plain": [
       "         name               id chr\n",
       "0        GAS6  ENSG00000183087  13\n",
       "139       FRY  ENSG00000073910  13\n",
       "239     CCNA1  ENSG00000133101  13\n",
       "283      FLT3  ENSG00000122025  13\n",
       "412   TNFSF11  ENSG00000120659  13\n",
       "...       ...              ...  ..\n",
       "6269       KL  ENSG00000133116  13\n",
       "6351    MTMR6  ENSG00000139505  13\n",
       "6379    ABCC4  ENSG00000125257  13\n",
       "6416    RFXAP  ENSG00000133111  13\n",
       "6436     ELF1  ENSG00000120690  13\n",
       "\n",
       "[118 rows x 3 columns]"
      ]
     },
     "execution_count": 24,
     "metadata": {},
     "output_type": "execute_result"
    }
   ],
   "source": [
    "genes_info[genes_info[\"chr\"] == \"13\"]"
   ]
  },
  {
   "cell_type": "code",
   "execution_count": 25,
   "id": "91fb17bc",
   "metadata": {
    "execution": {
     "iopub.execute_input": "2022-06-06T11:47:04.175595Z",
     "iopub.status.busy": "2022-06-06T11:47:04.175081Z",
     "iopub.status.idle": "2022-06-06T11:47:04.190040Z",
     "shell.execute_reply": "2022-06-06T11:47:04.189441Z"
    },
    "papermill": {
     "duration": 0.025012,
     "end_time": "2022-06-06T11:47:04.191649",
     "exception": false,
     "start_time": "2022-06-06T11:47:04.166637",
     "status": "completed"
    },
    "tags": []
   },
   "outputs": [],
   "source": [
    "_gene_list = [\n",
    "    Gene(\"ENSG00000134871\"),\n",
    "    Gene(\"ENSG00000187498\"),\n",
    "    Gene(\"ENSG00000183087\"),\n",
    "    Gene(\"ENSG00000073910\"),\n",
    "    Gene(\"ENSG00000133101\"),\n",
    "    Gene(\"ENSG00000122025\"),\n",
    "    Gene(\"ENSG00000120659\"),\n",
    "    Gene(\"ENSG00000133116\"),\n",
    "]\n",
    "\n",
    "tissue = \"Whole_Blood\""
   ]
  },
  {
   "cell_type": "code",
   "execution_count": 26,
   "id": "06dc744f",
   "metadata": {
    "execution": {
     "iopub.execute_input": "2022-06-06T11:47:04.208772Z",
     "iopub.status.busy": "2022-06-06T11:47:04.208158Z",
     "iopub.status.idle": "2022-06-06T11:47:05.042500Z",
     "shell.execute_reply": "2022-06-06T11:47:05.041992Z"
    },
    "papermill": {
     "duration": 0.844307,
     "end_time": "2022-06-06T11:47:05.043937",
     "exception": false,
     "start_time": "2022-06-06T11:47:04.199630",
     "status": "completed"
    },
    "tags": []
   },
   "outputs": [
    {
     "name": "stdout",
     "output_type": "stream",
     "text": [
      "77.9 ms ± 1.12 ms per loop (mean ± std. dev. of 7 runs, 1 loop each)\n"
     ]
    }
   ],
   "source": [
    "%%timeit\n",
    "for gene_idx1 in range(0, len(_gene_list) - 1):\n",
    "    gene_obj1 = _gene_list[gene_idx1]\n",
    "\n",
    "    for gene_idx2 in range(gene_idx1 + 1, len(_gene_list)):\n",
    "        gene_obj2 = _gene_list[gene_idx2]\n",
    "\n",
    "        gene_obj1.get_expression_correlation(\n",
    "            gene_obj2,\n",
    "            tissue,\n",
    "        )"
   ]
  },
  {
   "cell_type": "markdown",
   "id": "d3843e06",
   "metadata": {
    "papermill": {
     "duration": 0.007709,
     "end_time": "2022-06-06T11:47:05.059600",
     "exception": false,
     "start_time": "2022-06-06T11:47:05.051891",
     "status": "completed"
    },
    "tags": []
   },
   "source": [
    "# Compute correlation per chromosome"
   ]
  },
  {
   "cell_type": "code",
   "execution_count": 27,
   "id": "cdbb90a1",
   "metadata": {
    "execution": {
     "iopub.execute_input": "2022-06-06T11:47:05.084059Z",
     "iopub.status.busy": "2022-06-06T11:47:05.083626Z",
     "iopub.status.idle": "2022-06-06T11:52:26.818040Z",
     "shell.execute_reply": "2022-06-06T11:52:26.817559Z"
    },
    "papermill": {
     "duration": 321.752172,
     "end_time": "2022-06-06T11:52:26.819484",
     "exception": false,
     "start_time": "2022-06-06T11:47:05.067312",
     "status": "completed"
    },
    "tags": []
   },
   "outputs": [
    {
     "name": "stdout",
     "output_type": "stream",
     "text": [
      "Chromosome 21\n",
      "Genes in chromosome(62, 3)\n",
      "Number of gene combinations: 1891\n",
      "Tissue Skin_Not_Sun_Exposed_Suprapubic\n"
     ]
    },
    {
     "name": "stderr",
     "output_type": "stream",
     "text": [
      "100%|██████████████████████████████████████████████████████████| 1891/1891 [00:07<00:00, 267.83it/s]"
     ]
    },
    {
     "name": "stdout",
     "output_type": "stream",
     "text": [
      "Min/max values: -0.668723863762322 / 0.6814481314784152\n"
     ]
    },
    {
     "name": "stderr",
     "output_type": "stream",
     "text": [
      "\n"
     ]
    },
    {
     "data": {
      "text/plain": [
       "PosixPath('/opt/data/data/phenomexcan/ld_blocks/gene_corrs/gtex_v8/mashr/by_tissue/gene_corrs-Skin_Not_Sun_Exposed_Suprapubic-chr21.pkl')"
      ]
     },
     "metadata": {},
     "output_type": "display_data"
    },
    {
     "name": "stdout",
     "output_type": "stream",
     "text": [
      "Tissue Cells_EBV-transformed_lymphocytes\n"
     ]
    },
    {
     "name": "stderr",
     "output_type": "stream",
     "text": [
      "100%|██████████████████████████████████████████████████████████| 1891/1891 [00:05<00:00, 330.45it/s]"
     ]
    },
    {
     "name": "stdout",
     "output_type": "stream",
     "text": [
      "Min/max values: -0.3804193628909028 / 0.6333359560234614\n"
     ]
    },
    {
     "name": "stderr",
     "output_type": "stream",
     "text": [
      "\n"
     ]
    },
    {
     "data": {
      "text/plain": [
       "PosixPath('/opt/data/data/phenomexcan/ld_blocks/gene_corrs/gtex_v8/mashr/by_tissue/gene_corrs-Cells_EBV-transformed_lymphocytes-chr21.pkl')"
      ]
     },
     "metadata": {},
     "output_type": "display_data"
    },
    {
     "name": "stdout",
     "output_type": "stream",
     "text": [
      "Tissue Brain_Frontal_Cortex_BA9\n"
     ]
    },
    {
     "name": "stderr",
     "output_type": "stream",
     "text": [
      "100%|██████████████████████████████████████████████████████████| 1891/1891 [00:05<00:00, 337.83it/s]"
     ]
    },
    {
     "name": "stdout",
     "output_type": "stream",
     "text": [
      "Min/max values: -0.6871133357676799 / 0.5982834917087508\n"
     ]
    },
    {
     "name": "stderr",
     "output_type": "stream",
     "text": [
      "\n"
     ]
    },
    {
     "data": {
      "text/plain": [
       "PosixPath('/opt/data/data/phenomexcan/ld_blocks/gene_corrs/gtex_v8/mashr/by_tissue/gene_corrs-Brain_Frontal_Cortex_BA9-chr21.pkl')"
      ]
     },
     "metadata": {},
     "output_type": "display_data"
    },
    {
     "name": "stdout",
     "output_type": "stream",
     "text": [
      "Tissue Kidney_Cortex\n"
     ]
    },
    {
     "name": "stderr",
     "output_type": "stream",
     "text": [
      "100%|██████████████████████████████████████████████████████████| 1891/1891 [00:04<00:00, 425.69it/s]"
     ]
    },
    {
     "name": "stdout",
     "output_type": "stream",
     "text": [
      "Min/max values: -0.17554941332171067 / 0.39429262011783367\n"
     ]
    },
    {
     "name": "stderr",
     "output_type": "stream",
     "text": [
      "\n"
     ]
    },
    {
     "data": {
      "text/plain": [
       "PosixPath('/opt/data/data/phenomexcan/ld_blocks/gene_corrs/gtex_v8/mashr/by_tissue/gene_corrs-Kidney_Cortex-chr21.pkl')"
      ]
     },
     "metadata": {},
     "output_type": "display_data"
    },
    {
     "name": "stdout",
     "output_type": "stream",
     "text": [
      "Tissue Brain_Substantia_nigra\n"
     ]
    },
    {
     "name": "stderr",
     "output_type": "stream",
     "text": [
      "100%|██████████████████████████████████████████████████████████| 1891/1891 [00:04<00:00, 400.79it/s]"
     ]
    },
    {
     "name": "stdout",
     "output_type": "stream",
     "text": [
      "Min/max values: -0.41283456379298417 / 0.39429262011783367\n"
     ]
    },
    {
     "name": "stderr",
     "output_type": "stream",
     "text": [
      "\n"
     ]
    },
    {
     "data": {
      "text/plain": [
       "PosixPath('/opt/data/data/phenomexcan/ld_blocks/gene_corrs/gtex_v8/mashr/by_tissue/gene_corrs-Brain_Substantia_nigra-chr21.pkl')"
      ]
     },
     "metadata": {},
     "output_type": "display_data"
    },
    {
     "name": "stdout",
     "output_type": "stream",
     "text": [
      "Tissue Spleen\n"
     ]
    },
    {
     "name": "stderr",
     "output_type": "stream",
     "text": [
      "100%|██████████████████████████████████████████████████████████| 1891/1891 [00:07<00:00, 263.27it/s]"
     ]
    },
    {
     "name": "stdout",
     "output_type": "stream",
     "text": [
      "Min/max values: -0.3725940327076219 / 0.7464130069471815\n"
     ]
    },
    {
     "name": "stderr",
     "output_type": "stream",
     "text": [
      "\n"
     ]
    },
    {
     "data": {
      "text/plain": [
       "PosixPath('/opt/data/data/phenomexcan/ld_blocks/gene_corrs/gtex_v8/mashr/by_tissue/gene_corrs-Spleen-chr21.pkl')"
      ]
     },
     "metadata": {},
     "output_type": "display_data"
    },
    {
     "name": "stdout",
     "output_type": "stream",
     "text": [
      "Tissue Colon_Transverse\n"
     ]
    },
    {
     "name": "stderr",
     "output_type": "stream",
     "text": [
      "100%|██████████████████████████████████████████████████████████| 1891/1891 [00:06<00:00, 270.58it/s]"
     ]
    },
    {
     "name": "stdout",
     "output_type": "stream",
     "text": [
      "Min/max values: -0.2858762577140061 / 0.7482615500173526\n"
     ]
    },
    {
     "name": "stderr",
     "output_type": "stream",
     "text": [
      "\n"
     ]
    },
    {
     "data": {
      "text/plain": [
       "PosixPath('/opt/data/data/phenomexcan/ld_blocks/gene_corrs/gtex_v8/mashr/by_tissue/gene_corrs-Colon_Transverse-chr21.pkl')"
      ]
     },
     "metadata": {},
     "output_type": "display_data"
    },
    {
     "name": "stdout",
     "output_type": "stream",
     "text": [
      "Tissue Heart_Left_Ventricle\n"
     ]
    },
    {
     "name": "stderr",
     "output_type": "stream",
     "text": [
      "100%|██████████████████████████████████████████████████████████| 1891/1891 [00:06<00:00, 282.15it/s]"
     ]
    },
    {
     "name": "stdout",
     "output_type": "stream",
     "text": [
      "Min/max values: -0.47893798594806775 / 0.5040953865334296\n"
     ]
    },
    {
     "name": "stderr",
     "output_type": "stream",
     "text": [
      "\n"
     ]
    },
    {
     "data": {
      "text/plain": [
       "PosixPath('/opt/data/data/phenomexcan/ld_blocks/gene_corrs/gtex_v8/mashr/by_tissue/gene_corrs-Heart_Left_Ventricle-chr21.pkl')"
      ]
     },
     "metadata": {},
     "output_type": "display_data"
    },
    {
     "name": "stdout",
     "output_type": "stream",
     "text": [
      "Tissue Lung\n"
     ]
    },
    {
     "name": "stderr",
     "output_type": "stream",
     "text": [
      "100%|██████████████████████████████████████████████████████████| 1891/1891 [00:07<00:00, 251.43it/s]"
     ]
    },
    {
     "name": "stdout",
     "output_type": "stream",
     "text": [
      "Min/max values: -0.5115495638780848 / 0.6543710937316574\n"
     ]
    },
    {
     "name": "stderr",
     "output_type": "stream",
     "text": [
      "\n"
     ]
    },
    {
     "data": {
      "text/plain": [
       "PosixPath('/opt/data/data/phenomexcan/ld_blocks/gene_corrs/gtex_v8/mashr/by_tissue/gene_corrs-Lung-chr21.pkl')"
      ]
     },
     "metadata": {},
     "output_type": "display_data"
    },
    {
     "name": "stdout",
     "output_type": "stream",
     "text": [
      "Tissue Muscle_Skeletal\n"
     ]
    },
    {
     "name": "stderr",
     "output_type": "stream",
     "text": [
      "100%|██████████████████████████████████████████████████████████| 1891/1891 [00:06<00:00, 286.63it/s]"
     ]
    },
    {
     "name": "stdout",
     "output_type": "stream",
     "text": [
      "Min/max values: -0.680887743616191 / 0.7584263023123021\n"
     ]
    },
    {
     "name": "stderr",
     "output_type": "stream",
     "text": [
      "\n"
     ]
    },
    {
     "data": {
      "text/plain": [
       "PosixPath('/opt/data/data/phenomexcan/ld_blocks/gene_corrs/gtex_v8/mashr/by_tissue/gene_corrs-Muscle_Skeletal-chr21.pkl')"
      ]
     },
     "metadata": {},
     "output_type": "display_data"
    },
    {
     "name": "stdout",
     "output_type": "stream",
     "text": [
      "Tissue Brain_Hypothalamus\n"
     ]
    },
    {
     "name": "stderr",
     "output_type": "stream",
     "text": [
      "100%|██████████████████████████████████████████████████████████| 1891/1891 [00:06<00:00, 304.54it/s]"
     ]
    },
    {
     "name": "stdout",
     "output_type": "stream",
     "text": [
      "Min/max values: -0.6994657044677202 / 0.3942926201178336\n"
     ]
    },
    {
     "name": "stderr",
     "output_type": "stream",
     "text": [
      "\n"
     ]
    },
    {
     "data": {
      "text/plain": [
       "PosixPath('/opt/data/data/phenomexcan/ld_blocks/gene_corrs/gtex_v8/mashr/by_tissue/gene_corrs-Brain_Hypothalamus-chr21.pkl')"
      ]
     },
     "metadata": {},
     "output_type": "display_data"
    },
    {
     "name": "stdout",
     "output_type": "stream",
     "text": [
      "Tissue Brain_Cortex\n"
     ]
    },
    {
     "name": "stderr",
     "output_type": "stream",
     "text": [
      "100%|██████████████████████████████████████████████████████████| 1891/1891 [00:05<00:00, 316.49it/s]"
     ]
    },
    {
     "name": "stdout",
     "output_type": "stream",
     "text": [
      "Min/max values: -0.7016688330658564 / 0.33067211834003435\n"
     ]
    },
    {
     "name": "stderr",
     "output_type": "stream",
     "text": [
      "\n"
     ]
    },
    {
     "data": {
      "text/plain": [
       "PosixPath('/opt/data/data/phenomexcan/ld_blocks/gene_corrs/gtex_v8/mashr/by_tissue/gene_corrs-Brain_Cortex-chr21.pkl')"
      ]
     },
     "metadata": {},
     "output_type": "display_data"
    },
    {
     "name": "stdout",
     "output_type": "stream",
     "text": [
      "Tissue Brain_Amygdala\n"
     ]
    },
    {
     "name": "stderr",
     "output_type": "stream",
     "text": [
      "100%|██████████████████████████████████████████████████████████| 1891/1891 [00:05<00:00, 366.14it/s]"
     ]
    },
    {
     "name": "stdout",
     "output_type": "stream",
     "text": [
      "Min/max values: -0.49235190021245656 / 0.29173101371018706\n"
     ]
    },
    {
     "name": "stderr",
     "output_type": "stream",
     "text": [
      "\n"
     ]
    },
    {
     "data": {
      "text/plain": [
       "PosixPath('/opt/data/data/phenomexcan/ld_blocks/gene_corrs/gtex_v8/mashr/by_tissue/gene_corrs-Brain_Amygdala-chr21.pkl')"
      ]
     },
     "metadata": {},
     "output_type": "display_data"
    },
    {
     "name": "stdout",
     "output_type": "stream",
     "text": [
      "Tissue Esophagus_Mucosa\n"
     ]
    },
    {
     "name": "stderr",
     "output_type": "stream",
     "text": [
      "100%|██████████████████████████████████████████████████████████| 1891/1891 [00:08<00:00, 228.08it/s]"
     ]
    },
    {
     "name": "stdout",
     "output_type": "stream",
     "text": [
      "Min/max values: -0.39728123829618717 / 0.5308641273224708\n"
     ]
    },
    {
     "name": "stderr",
     "output_type": "stream",
     "text": [
      "\n"
     ]
    },
    {
     "data": {
      "text/plain": [
       "PosixPath('/opt/data/data/phenomexcan/ld_blocks/gene_corrs/gtex_v8/mashr/by_tissue/gene_corrs-Esophagus_Mucosa-chr21.pkl')"
      ]
     },
     "metadata": {},
     "output_type": "display_data"
    },
    {
     "name": "stdout",
     "output_type": "stream",
     "text": [
      "Tissue Adrenal_Gland\n"
     ]
    },
    {
     "name": "stderr",
     "output_type": "stream",
     "text": [
      "100%|██████████████████████████████████████████████████████████| 1891/1891 [00:06<00:00, 271.68it/s]"
     ]
    },
    {
     "name": "stdout",
     "output_type": "stream",
     "text": [
      "Min/max values: -0.7324817722425969 / 0.5140108231764857\n"
     ]
    },
    {
     "name": "stderr",
     "output_type": "stream",
     "text": [
      "\n"
     ]
    },
    {
     "data": {
      "text/plain": [
       "PosixPath('/opt/data/data/phenomexcan/ld_blocks/gene_corrs/gtex_v8/mashr/by_tissue/gene_corrs-Adrenal_Gland-chr21.pkl')"
      ]
     },
     "metadata": {},
     "output_type": "display_data"
    },
    {
     "name": "stdout",
     "output_type": "stream",
     "text": [
      "Tissue Uterus\n"
     ]
    },
    {
     "name": "stderr",
     "output_type": "stream",
     "text": [
      "100%|██████████████████████████████████████████████████████████| 1891/1891 [00:06<00:00, 307.04it/s]"
     ]
    },
    {
     "name": "stdout",
     "output_type": "stream",
     "text": [
      "Min/max values: -0.2965499298413235 / 0.49235190021245656\n"
     ]
    },
    {
     "name": "stderr",
     "output_type": "stream",
     "text": [
      "\n"
     ]
    },
    {
     "data": {
      "text/plain": [
       "PosixPath('/opt/data/data/phenomexcan/ld_blocks/gene_corrs/gtex_v8/mashr/by_tissue/gene_corrs-Uterus-chr21.pkl')"
      ]
     },
     "metadata": {},
     "output_type": "display_data"
    },
    {
     "name": "stdout",
     "output_type": "stream",
     "text": [
      "Tissue Prostate\n"
     ]
    },
    {
     "name": "stderr",
     "output_type": "stream",
     "text": [
      "100%|██████████████████████████████████████████████████████████| 1891/1891 [00:05<00:00, 340.69it/s]"
     ]
    },
    {
     "name": "stdout",
     "output_type": "stream",
     "text": [
      "Min/max values: -0.4380338982743602 / 0.5266238939817212\n"
     ]
    },
    {
     "name": "stderr",
     "output_type": "stream",
     "text": [
      "\n"
     ]
    },
    {
     "data": {
      "text/plain": [
       "PosixPath('/opt/data/data/phenomexcan/ld_blocks/gene_corrs/gtex_v8/mashr/by_tissue/gene_corrs-Prostate-chr21.pkl')"
      ]
     },
     "metadata": {},
     "output_type": "display_data"
    },
    {
     "name": "stdout",
     "output_type": "stream",
     "text": [
      "Tissue Whole_Blood\n"
     ]
    },
    {
     "name": "stderr",
     "output_type": "stream",
     "text": [
      "100%|██████████████████████████████████████████████████████████| 1891/1891 [00:08<00:00, 225.01it/s]"
     ]
    },
    {
     "name": "stdout",
     "output_type": "stream",
     "text": [
      "Min/max values: -0.581554691072453 / 0.8946406704127139\n"
     ]
    },
    {
     "name": "stderr",
     "output_type": "stream",
     "text": [
      "\n"
     ]
    },
    {
     "data": {
      "text/plain": [
       "PosixPath('/opt/data/data/phenomexcan/ld_blocks/gene_corrs/gtex_v8/mashr/by_tissue/gene_corrs-Whole_Blood-chr21.pkl')"
      ]
     },
     "metadata": {},
     "output_type": "display_data"
    },
    {
     "name": "stdout",
     "output_type": "stream",
     "text": [
      "Tissue Pituitary\n"
     ]
    },
    {
     "name": "stderr",
     "output_type": "stream",
     "text": [
      "100%|██████████████████████████████████████████████████████████| 1891/1891 [00:06<00:00, 280.54it/s]"
     ]
    },
    {
     "name": "stdout",
     "output_type": "stream",
     "text": [
      "Min/max values: -0.5743511469762916 / 0.6333359560234615\n"
     ]
    },
    {
     "name": "stderr",
     "output_type": "stream",
     "text": [
      "\n"
     ]
    },
    {
     "data": {
      "text/plain": [
       "PosixPath('/opt/data/data/phenomexcan/ld_blocks/gene_corrs/gtex_v8/mashr/by_tissue/gene_corrs-Pituitary-chr21.pkl')"
      ]
     },
     "metadata": {},
     "output_type": "display_data"
    },
    {
     "name": "stdout",
     "output_type": "stream",
     "text": [
      "Tissue Esophagus_Gastroesophageal_Junction\n"
     ]
    },
    {
     "name": "stderr",
     "output_type": "stream",
     "text": [
      "100%|██████████████████████████████████████████████████████████| 1891/1891 [00:06<00:00, 271.15it/s]"
     ]
    },
    {
     "name": "stdout",
     "output_type": "stream",
     "text": [
      "Min/max values: -0.25492845864055347 / 0.6581162443057975\n"
     ]
    },
    {
     "name": "stderr",
     "output_type": "stream",
     "text": [
      "\n"
     ]
    },
    {
     "data": {
      "text/plain": [
       "PosixPath('/opt/data/data/phenomexcan/ld_blocks/gene_corrs/gtex_v8/mashr/by_tissue/gene_corrs-Esophagus_Gastroesophageal_Junction-chr21.pkl')"
      ]
     },
     "metadata": {},
     "output_type": "display_data"
    },
    {
     "name": "stdout",
     "output_type": "stream",
     "text": [
      "Tissue Stomach\n"
     ]
    },
    {
     "name": "stderr",
     "output_type": "stream",
     "text": [
      "100%|██████████████████████████████████████████████████████████| 1891/1891 [00:06<00:00, 290.41it/s]"
     ]
    },
    {
     "name": "stdout",
     "output_type": "stream",
     "text": [
      "Min/max values: -0.40782367775840644 / 0.7386421941221198\n"
     ]
    },
    {
     "name": "stderr",
     "output_type": "stream",
     "text": [
      "\n"
     ]
    },
    {
     "data": {
      "text/plain": [
       "PosixPath('/opt/data/data/phenomexcan/ld_blocks/gene_corrs/gtex_v8/mashr/by_tissue/gene_corrs-Stomach-chr21.pkl')"
      ]
     },
     "metadata": {},
     "output_type": "display_data"
    },
    {
     "name": "stdout",
     "output_type": "stream",
     "text": [
      "Tissue Heart_Atrial_Appendage\n"
     ]
    },
    {
     "name": "stderr",
     "output_type": "stream",
     "text": [
      "100%|██████████████████████████████████████████████████████████| 1891/1891 [00:07<00:00, 255.80it/s]"
     ]
    },
    {
     "name": "stdout",
     "output_type": "stream",
     "text": [
      "Min/max values: -0.622553432746946 / 0.4917683963810984\n"
     ]
    },
    {
     "name": "stderr",
     "output_type": "stream",
     "text": [
      "\n"
     ]
    },
    {
     "data": {
      "text/plain": [
       "PosixPath('/opt/data/data/phenomexcan/ld_blocks/gene_corrs/gtex_v8/mashr/by_tissue/gene_corrs-Heart_Atrial_Appendage-chr21.pkl')"
      ]
     },
     "metadata": {},
     "output_type": "display_data"
    },
    {
     "name": "stdout",
     "output_type": "stream",
     "text": [
      "Tissue Brain_Cerebellum\n"
     ]
    },
    {
     "name": "stderr",
     "output_type": "stream",
     "text": [
      "100%|██████████████████████████████████████████████████████████| 1891/1891 [00:06<00:00, 295.79it/s]"
     ]
    },
    {
     "name": "stdout",
     "output_type": "stream",
     "text": [
      "Min/max values: -0.6465726398480152 / 0.6695660319218368\n"
     ]
    },
    {
     "name": "stderr",
     "output_type": "stream",
     "text": [
      "\n"
     ]
    },
    {
     "data": {
      "text/plain": [
       "PosixPath('/opt/data/data/phenomexcan/ld_blocks/gene_corrs/gtex_v8/mashr/by_tissue/gene_corrs-Brain_Cerebellum-chr21.pkl')"
      ]
     },
     "metadata": {},
     "output_type": "display_data"
    },
    {
     "name": "stdout",
     "output_type": "stream",
     "text": [
      "Tissue Breast_Mammary_Tissue\n"
     ]
    },
    {
     "name": "stderr",
     "output_type": "stream",
     "text": [
      "100%|██████████████████████████████████████████████████████████| 1891/1891 [00:08<00:00, 235.12it/s]"
     ]
    },
    {
     "name": "stdout",
     "output_type": "stream",
     "text": [
      "Min/max values: -0.38677125053514905 / 0.6333359560234615\n"
     ]
    },
    {
     "name": "stderr",
     "output_type": "stream",
     "text": [
      "\n"
     ]
    },
    {
     "data": {
      "text/plain": [
       "PosixPath('/opt/data/data/phenomexcan/ld_blocks/gene_corrs/gtex_v8/mashr/by_tissue/gene_corrs-Breast_Mammary_Tissue-chr21.pkl')"
      ]
     },
     "metadata": {},
     "output_type": "display_data"
    },
    {
     "name": "stdout",
     "output_type": "stream",
     "text": [
      "Tissue Artery_Tibial\n"
     ]
    },
    {
     "name": "stderr",
     "output_type": "stream",
     "text": [
      "100%|██████████████████████████████████████████████████████████| 1891/1891 [00:07<00:00, 266.96it/s]"
     ]
    },
    {
     "name": "stdout",
     "output_type": "stream",
     "text": [
      "Min/max values: -0.41643568534045716 / 0.6575970449086193\n"
     ]
    },
    {
     "name": "stderr",
     "output_type": "stream",
     "text": [
      "\n"
     ]
    },
    {
     "data": {
      "text/plain": [
       "PosixPath('/opt/data/data/phenomexcan/ld_blocks/gene_corrs/gtex_v8/mashr/by_tissue/gene_corrs-Artery_Tibial-chr21.pkl')"
      ]
     },
     "metadata": {},
     "output_type": "display_data"
    },
    {
     "name": "stdout",
     "output_type": "stream",
     "text": [
      "Tissue Artery_Aorta\n"
     ]
    },
    {
     "name": "stderr",
     "output_type": "stream",
     "text": [
      "100%|██████████████████████████████████████████████████████████| 1891/1891 [00:07<00:00, 262.50it/s]"
     ]
    },
    {
     "name": "stdout",
     "output_type": "stream",
     "text": [
      "Min/max values: -0.3668832007192992 / 1.0\n"
     ]
    },
    {
     "name": "stderr",
     "output_type": "stream",
     "text": [
      "\n"
     ]
    },
    {
     "data": {
      "text/plain": [
       "PosixPath('/opt/data/data/phenomexcan/ld_blocks/gene_corrs/gtex_v8/mashr/by_tissue/gene_corrs-Artery_Aorta-chr21.pkl')"
      ]
     },
     "metadata": {},
     "output_type": "display_data"
    },
    {
     "name": "stdout",
     "output_type": "stream",
     "text": [
      "Tissue Small_Intestine_Terminal_Ileum\n"
     ]
    },
    {
     "name": "stderr",
     "output_type": "stream",
     "text": [
      "100%|██████████████████████████████████████████████████████████| 1891/1891 [00:06<00:00, 304.46it/s]"
     ]
    },
    {
     "name": "stdout",
     "output_type": "stream",
     "text": [
      "Min/max values: -0.40513775416649456 / 1.0\n"
     ]
    },
    {
     "name": "stderr",
     "output_type": "stream",
     "text": [
      "\n"
     ]
    },
    {
     "data": {
      "text/plain": [
       "PosixPath('/opt/data/data/phenomexcan/ld_blocks/gene_corrs/gtex_v8/mashr/by_tissue/gene_corrs-Small_Intestine_Terminal_Ileum-chr21.pkl')"
      ]
     },
     "metadata": {},
     "output_type": "display_data"
    },
    {
     "name": "stdout",
     "output_type": "stream",
     "text": [
      "Tissue Brain_Hippocampus\n"
     ]
    },
    {
     "name": "stderr",
     "output_type": "stream",
     "text": [
      "100%|██████████████████████████████████████████████████████████| 1891/1891 [00:05<00:00, 330.31it/s]"
     ]
    },
    {
     "name": "stdout",
     "output_type": "stream",
     "text": [
      "Min/max values: -0.6428017001056092 / 0.5417520034350998\n"
     ]
    },
    {
     "name": "stderr",
     "output_type": "stream",
     "text": [
      "\n"
     ]
    },
    {
     "data": {
      "text/plain": [
       "PosixPath('/opt/data/data/phenomexcan/ld_blocks/gene_corrs/gtex_v8/mashr/by_tissue/gene_corrs-Brain_Hippocampus-chr21.pkl')"
      ]
     },
     "metadata": {},
     "output_type": "display_data"
    },
    {
     "name": "stdout",
     "output_type": "stream",
     "text": [
      "Tissue Testis\n"
     ]
    },
    {
     "name": "stderr",
     "output_type": "stream",
     "text": [
      "100%|██████████████████████████████████████████████████████████| 1891/1891 [00:07<00:00, 239.26it/s]"
     ]
    },
    {
     "name": "stdout",
     "output_type": "stream",
     "text": [
      "Min/max values: -0.34741348760572005 / 0.32552144383832093\n"
     ]
    },
    {
     "name": "stderr",
     "output_type": "stream",
     "text": [
      "\n"
     ]
    },
    {
     "data": {
      "text/plain": [
       "PosixPath('/opt/data/data/phenomexcan/ld_blocks/gene_corrs/gtex_v8/mashr/by_tissue/gene_corrs-Testis-chr21.pkl')"
      ]
     },
     "metadata": {},
     "output_type": "display_data"
    },
    {
     "name": "stdout",
     "output_type": "stream",
     "text": [
      "Tissue Brain_Putamen_basal_ganglia\n"
     ]
    },
    {
     "name": "stderr",
     "output_type": "stream",
     "text": [
      "100%|██████████████████████████████████████████████████████████| 1891/1891 [00:05<00:00, 367.41it/s]"
     ]
    },
    {
     "name": "stdout",
     "output_type": "stream",
     "text": [
      "Min/max values: -0.36576689261613216 / 0.37321303275001655\n"
     ]
    },
    {
     "name": "stderr",
     "output_type": "stream",
     "text": [
      "\n"
     ]
    },
    {
     "data": {
      "text/plain": [
       "PosixPath('/opt/data/data/phenomexcan/ld_blocks/gene_corrs/gtex_v8/mashr/by_tissue/gene_corrs-Brain_Putamen_basal_ganglia-chr21.pkl')"
      ]
     },
     "metadata": {},
     "output_type": "display_data"
    },
    {
     "name": "stdout",
     "output_type": "stream",
     "text": [
      "Tissue Pancreas\n"
     ]
    },
    {
     "name": "stderr",
     "output_type": "stream",
     "text": [
      "100%|██████████████████████████████████████████████████████████| 1891/1891 [00:05<00:00, 325.54it/s]"
     ]
    },
    {
     "name": "stdout",
     "output_type": "stream",
     "text": [
      "Min/max values: -0.3359385067067808 / 0.72858721245845\n"
     ]
    },
    {
     "name": "stderr",
     "output_type": "stream",
     "text": [
      "\n"
     ]
    },
    {
     "data": {
      "text/plain": [
       "PosixPath('/opt/data/data/phenomexcan/ld_blocks/gene_corrs/gtex_v8/mashr/by_tissue/gene_corrs-Pancreas-chr21.pkl')"
      ]
     },
     "metadata": {},
     "output_type": "display_data"
    },
    {
     "name": "stdout",
     "output_type": "stream",
     "text": [
      "Tissue Adipose_Subcutaneous\n"
     ]
    },
    {
     "name": "stderr",
     "output_type": "stream",
     "text": [
      "100%|██████████████████████████████████████████████████████████| 1891/1891 [00:07<00:00, 270.06it/s]"
     ]
    },
    {
     "name": "stdout",
     "output_type": "stream",
     "text": [
      "Min/max values: -0.5601801515234062 / 0.7532545973993428\n"
     ]
    },
    {
     "name": "stderr",
     "output_type": "stream",
     "text": [
      "\n"
     ]
    },
    {
     "data": {
      "text/plain": [
       "PosixPath('/opt/data/data/phenomexcan/ld_blocks/gene_corrs/gtex_v8/mashr/by_tissue/gene_corrs-Adipose_Subcutaneous-chr21.pkl')"
      ]
     },
     "metadata": {},
     "output_type": "display_data"
    },
    {
     "name": "stdout",
     "output_type": "stream",
     "text": [
      "Tissue Brain_Cerebellar_Hemisphere\n"
     ]
    },
    {
     "name": "stderr",
     "output_type": "stream",
     "text": [
      "100%|██████████████████████████████████████████████████████████| 1891/1891 [00:05<00:00, 326.49it/s]"
     ]
    },
    {
     "name": "stdout",
     "output_type": "stream",
     "text": [
      "Min/max values: -0.9065913496990866 / 0.41883257375846694\n"
     ]
    },
    {
     "name": "stderr",
     "output_type": "stream",
     "text": [
      "\n"
     ]
    },
    {
     "data": {
      "text/plain": [
       "PosixPath('/opt/data/data/phenomexcan/ld_blocks/gene_corrs/gtex_v8/mashr/by_tissue/gene_corrs-Brain_Cerebellar_Hemisphere-chr21.pkl')"
      ]
     },
     "metadata": {},
     "output_type": "display_data"
    },
    {
     "name": "stdout",
     "output_type": "stream",
     "text": [
      "Tissue Colon_Sigmoid\n"
     ]
    },
    {
     "name": "stderr",
     "output_type": "stream",
     "text": [
      "100%|██████████████████████████████████████████████████████████| 1891/1891 [00:06<00:00, 272.18it/s]"
     ]
    },
    {
     "name": "stdout",
     "output_type": "stream",
     "text": [
      "Min/max values: -0.3505248257064314 / 0.574183703589962\n"
     ]
    },
    {
     "name": "stderr",
     "output_type": "stream",
     "text": [
      "\n"
     ]
    },
    {
     "data": {
      "text/plain": [
       "PosixPath('/opt/data/data/phenomexcan/ld_blocks/gene_corrs/gtex_v8/mashr/by_tissue/gene_corrs-Colon_Sigmoid-chr21.pkl')"
      ]
     },
     "metadata": {},
     "output_type": "display_data"
    },
    {
     "name": "stdout",
     "output_type": "stream",
     "text": [
      "Tissue Minor_Salivary_Gland\n"
     ]
    },
    {
     "name": "stderr",
     "output_type": "stream",
     "text": [
      "100%|██████████████████████████████████████████████████████████| 1891/1891 [00:06<00:00, 278.77it/s]"
     ]
    },
    {
     "name": "stdout",
     "output_type": "stream",
     "text": [
      "Min/max values: -0.4923519002124567 / 0.5105492502584426\n"
     ]
    },
    {
     "name": "stderr",
     "output_type": "stream",
     "text": [
      "\n"
     ]
    },
    {
     "data": {
      "text/plain": [
       "PosixPath('/opt/data/data/phenomexcan/ld_blocks/gene_corrs/gtex_v8/mashr/by_tissue/gene_corrs-Minor_Salivary_Gland-chr21.pkl')"
      ]
     },
     "metadata": {},
     "output_type": "display_data"
    },
    {
     "name": "stdout",
     "output_type": "stream",
     "text": [
      "Tissue Cells_Cultured_fibroblasts\n"
     ]
    },
    {
     "name": "stderr",
     "output_type": "stream",
     "text": [
      "100%|██████████████████████████████████████████████████████████| 1891/1891 [00:07<00:00, 250.40it/s]"
     ]
    },
    {
     "name": "stdout",
     "output_type": "stream",
     "text": [
      "Min/max values: -0.8151951410355631 / 0.9923102094513551\n"
     ]
    },
    {
     "name": "stderr",
     "output_type": "stream",
     "text": [
      "\n"
     ]
    },
    {
     "data": {
      "text/plain": [
       "PosixPath('/opt/data/data/phenomexcan/ld_blocks/gene_corrs/gtex_v8/mashr/by_tissue/gene_corrs-Cells_Cultured_fibroblasts-chr21.pkl')"
      ]
     },
     "metadata": {},
     "output_type": "display_data"
    },
    {
     "name": "stdout",
     "output_type": "stream",
     "text": [
      "Tissue Brain_Nucleus_accumbens_basal_ganglia\n"
     ]
    },
    {
     "name": "stderr",
     "output_type": "stream",
     "text": [
      "100%|██████████████████████████████████████████████████████████| 1891/1891 [00:05<00:00, 344.99it/s]"
     ]
    },
    {
     "name": "stdout",
     "output_type": "stream",
     "text": [
      "Min/max values: -0.6826807811295903 / 0.30057748988113997\n"
     ]
    },
    {
     "name": "stderr",
     "output_type": "stream",
     "text": [
      "\n"
     ]
    },
    {
     "data": {
      "text/plain": [
       "PosixPath('/opt/data/data/phenomexcan/ld_blocks/gene_corrs/gtex_v8/mashr/by_tissue/gene_corrs-Brain_Nucleus_accumbens_basal_ganglia-chr21.pkl')"
      ]
     },
     "metadata": {},
     "output_type": "display_data"
    },
    {
     "name": "stdout",
     "output_type": "stream",
     "text": [
      "Tissue Brain_Anterior_cingulate_cortex_BA24\n"
     ]
    },
    {
     "name": "stderr",
     "output_type": "stream",
     "text": [
      "100%|██████████████████████████████████████████████████████████| 1891/1891 [00:05<00:00, 331.98it/s]"
     ]
    },
    {
     "name": "stdout",
     "output_type": "stream",
     "text": [
      "Min/max values: -0.6860266344436691 / 0.23283606602337878\n"
     ]
    },
    {
     "name": "stderr",
     "output_type": "stream",
     "text": [
      "\n"
     ]
    },
    {
     "data": {
      "text/plain": [
       "PosixPath('/opt/data/data/phenomexcan/ld_blocks/gene_corrs/gtex_v8/mashr/by_tissue/gene_corrs-Brain_Anterior_cingulate_cortex_BA24-chr21.pkl')"
      ]
     },
     "metadata": {},
     "output_type": "display_data"
    },
    {
     "name": "stdout",
     "output_type": "stream",
     "text": [
      "Tissue Vagina\n"
     ]
    },
    {
     "name": "stderr",
     "output_type": "stream",
     "text": [
      "100%|██████████████████████████████████████████████████████████| 1891/1891 [00:05<00:00, 316.88it/s]"
     ]
    },
    {
     "name": "stdout",
     "output_type": "stream",
     "text": [
      "Min/max values: -0.24569252394711497 / 0.6483960621414113\n"
     ]
    },
    {
     "name": "stderr",
     "output_type": "stream",
     "text": [
      "\n"
     ]
    },
    {
     "data": {
      "text/plain": [
       "PosixPath('/opt/data/data/phenomexcan/ld_blocks/gene_corrs/gtex_v8/mashr/by_tissue/gene_corrs-Vagina-chr21.pkl')"
      ]
     },
     "metadata": {},
     "output_type": "display_data"
    },
    {
     "name": "stdout",
     "output_type": "stream",
     "text": [
      "Tissue Ovary\n"
     ]
    },
    {
     "name": "stderr",
     "output_type": "stream",
     "text": [
      "100%|██████████████████████████████████████████████████████████| 1891/1891 [00:06<00:00, 293.10it/s]"
     ]
    },
    {
     "name": "stdout",
     "output_type": "stream",
     "text": [
      "Min/max values: -0.6211608749936814 / 0.27608021556290646\n"
     ]
    },
    {
     "name": "stderr",
     "output_type": "stream",
     "text": [
      "\n"
     ]
    },
    {
     "data": {
      "text/plain": [
       "PosixPath('/opt/data/data/phenomexcan/ld_blocks/gene_corrs/gtex_v8/mashr/by_tissue/gene_corrs-Ovary-chr21.pkl')"
      ]
     },
     "metadata": {},
     "output_type": "display_data"
    },
    {
     "name": "stdout",
     "output_type": "stream",
     "text": [
      "Tissue Skin_Sun_Exposed_Lower_leg\n"
     ]
    },
    {
     "name": "stderr",
     "output_type": "stream",
     "text": [
      "100%|██████████████████████████████████████████████████████████| 1891/1891 [00:07<00:00, 236.96it/s]"
     ]
    },
    {
     "name": "stdout",
     "output_type": "stream",
     "text": [
      "Min/max values: -0.6674854994503138 / 0.7032524275558151\n"
     ]
    },
    {
     "name": "stderr",
     "output_type": "stream",
     "text": [
      "\n"
     ]
    },
    {
     "data": {
      "text/plain": [
       "PosixPath('/opt/data/data/phenomexcan/ld_blocks/gene_corrs/gtex_v8/mashr/by_tissue/gene_corrs-Skin_Sun_Exposed_Lower_leg-chr21.pkl')"
      ]
     },
     "metadata": {},
     "output_type": "display_data"
    },
    {
     "name": "stdout",
     "output_type": "stream",
     "text": [
      "Tissue Esophagus_Muscularis\n"
     ]
    },
    {
     "name": "stderr",
     "output_type": "stream",
     "text": [
      "100%|██████████████████████████████████████████████████████████| 1891/1891 [00:07<00:00, 251.23it/s]"
     ]
    },
    {
     "name": "stdout",
     "output_type": "stream",
     "text": [
      "Min/max values: -0.5201811625657589 / 0.3809219948451565\n"
     ]
    },
    {
     "name": "stderr",
     "output_type": "stream",
     "text": [
      "\n"
     ]
    },
    {
     "data": {
      "text/plain": [
       "PosixPath('/opt/data/data/phenomexcan/ld_blocks/gene_corrs/gtex_v8/mashr/by_tissue/gene_corrs-Esophagus_Muscularis-chr21.pkl')"
      ]
     },
     "metadata": {},
     "output_type": "display_data"
    },
    {
     "name": "stdout",
     "output_type": "stream",
     "text": [
      "Tissue Brain_Spinal_cord_cervical_c-1\n"
     ]
    },
    {
     "name": "stderr",
     "output_type": "stream",
     "text": [
      "100%|██████████████████████████████████████████████████████████| 1891/1891 [00:05<00:00, 344.02it/s]"
     ]
    },
    {
     "name": "stdout",
     "output_type": "stream",
     "text": [
      "Min/max values: -0.6333359560234614 / 0.41138281343831556\n"
     ]
    },
    {
     "name": "stderr",
     "output_type": "stream",
     "text": [
      "\n"
     ]
    },
    {
     "data": {
      "text/plain": [
       "PosixPath('/opt/data/data/phenomexcan/ld_blocks/gene_corrs/gtex_v8/mashr/by_tissue/gene_corrs-Brain_Spinal_cord_cervical_c-1-chr21.pkl')"
      ]
     },
     "metadata": {},
     "output_type": "display_data"
    },
    {
     "name": "stdout",
     "output_type": "stream",
     "text": [
      "Tissue Artery_Coronary\n"
     ]
    },
    {
     "name": "stderr",
     "output_type": "stream",
     "text": [
      "100%|██████████████████████████████████████████████████████████| 1891/1891 [00:06<00:00, 294.71it/s]"
     ]
    },
    {
     "name": "stdout",
     "output_type": "stream",
     "text": [
      "Min/max values: -0.48453471732962333 / 0.4712647598722362\n"
     ]
    },
    {
     "name": "stderr",
     "output_type": "stream",
     "text": [
      "\n"
     ]
    },
    {
     "data": {
      "text/plain": [
       "PosixPath('/opt/data/data/phenomexcan/ld_blocks/gene_corrs/gtex_v8/mashr/by_tissue/gene_corrs-Artery_Coronary-chr21.pkl')"
      ]
     },
     "metadata": {},
     "output_type": "display_data"
    },
    {
     "name": "stdout",
     "output_type": "stream",
     "text": [
      "Tissue Thyroid\n"
     ]
    },
    {
     "name": "stderr",
     "output_type": "stream",
     "text": [
      "100%|██████████████████████████████████████████████████████████| 1891/1891 [00:06<00:00, 279.97it/s]"
     ]
    },
    {
     "name": "stdout",
     "output_type": "stream",
     "text": [
      "Min/max values: -0.4508945934104069 / 0.517115072122272\n"
     ]
    },
    {
     "name": "stderr",
     "output_type": "stream",
     "text": [
      "\n"
     ]
    },
    {
     "data": {
      "text/plain": [
       "PosixPath('/opt/data/data/phenomexcan/ld_blocks/gene_corrs/gtex_v8/mashr/by_tissue/gene_corrs-Thyroid-chr21.pkl')"
      ]
     },
     "metadata": {},
     "output_type": "display_data"
    },
    {
     "name": "stdout",
     "output_type": "stream",
     "text": [
      "Tissue Brain_Caudate_basal_ganglia\n"
     ]
    },
    {
     "name": "stderr",
     "output_type": "stream",
     "text": [
      "100%|██████████████████████████████████████████████████████████| 1891/1891 [00:06<00:00, 282.80it/s]"
     ]
    },
    {
     "name": "stdout",
     "output_type": "stream",
     "text": [
      "Min/max values: -0.6335469104168351 / 0.7616023757172621\n"
     ]
    },
    {
     "name": "stderr",
     "output_type": "stream",
     "text": [
      "\n"
     ]
    },
    {
     "data": {
      "text/plain": [
       "PosixPath('/opt/data/data/phenomexcan/ld_blocks/gene_corrs/gtex_v8/mashr/by_tissue/gene_corrs-Brain_Caudate_basal_ganglia-chr21.pkl')"
      ]
     },
     "metadata": {},
     "output_type": "display_data"
    },
    {
     "name": "stdout",
     "output_type": "stream",
     "text": [
      "Tissue Adipose_Visceral_Omentum\n"
     ]
    },
    {
     "name": "stderr",
     "output_type": "stream",
     "text": [
      "100%|██████████████████████████████████████████████████████████| 1891/1891 [00:07<00:00, 263.17it/s]"
     ]
    },
    {
     "name": "stdout",
     "output_type": "stream",
     "text": [
      "Min/max values: -0.2611248432817681 / 0.6812192782320141\n"
     ]
    },
    {
     "name": "stderr",
     "output_type": "stream",
     "text": [
      "\n"
     ]
    },
    {
     "data": {
      "text/plain": [
       "PosixPath('/opt/data/data/phenomexcan/ld_blocks/gene_corrs/gtex_v8/mashr/by_tissue/gene_corrs-Adipose_Visceral_Omentum-chr21.pkl')"
      ]
     },
     "metadata": {},
     "output_type": "display_data"
    },
    {
     "name": "stdout",
     "output_type": "stream",
     "text": [
      "Tissue Nerve_Tibial\n"
     ]
    },
    {
     "name": "stderr",
     "output_type": "stream",
     "text": [
      "100%|██████████████████████████████████████████████████████████| 1891/1891 [00:07<00:00, 259.70it/s]"
     ]
    },
    {
     "name": "stdout",
     "output_type": "stream",
     "text": [
      "Min/max values: -0.394136943292155 / 0.8119821449593336\n"
     ]
    },
    {
     "name": "stderr",
     "output_type": "stream",
     "text": [
      "\n"
     ]
    },
    {
     "data": {
      "text/plain": [
       "PosixPath('/opt/data/data/phenomexcan/ld_blocks/gene_corrs/gtex_v8/mashr/by_tissue/gene_corrs-Nerve_Tibial-chr21.pkl')"
      ]
     },
     "metadata": {},
     "output_type": "display_data"
    },
    {
     "name": "stdout",
     "output_type": "stream",
     "text": [
      "Tissue Liver\n"
     ]
    },
    {
     "name": "stderr",
     "output_type": "stream",
     "text": [
      "100%|██████████████████████████████████████████████████████████| 1891/1891 [00:05<00:00, 319.83it/s]"
     ]
    },
    {
     "name": "stdout",
     "output_type": "stream",
     "text": [
      "Min/max values: -0.4796251823409044 / 0.8857470093649068\n"
     ]
    },
    {
     "name": "stderr",
     "output_type": "stream",
     "text": [
      "\n"
     ]
    },
    {
     "data": {
      "text/plain": [
       "PosixPath('/opt/data/data/phenomexcan/ld_blocks/gene_corrs/gtex_v8/mashr/by_tissue/gene_corrs-Liver-chr21.pkl')"
      ]
     },
     "metadata": {},
     "output_type": "display_data"
    }
   ],
   "source": [
    "all_chrs = genes_info[\"chr\"].dropna().unique()\n",
    "assert all_chrs.shape[0] == 22\n",
    "\n",
    "if chromosome != \"all\":\n",
    "    chromosome = str(chromosome)\n",
    "    assert chromosome in all_chrs\n",
    "\n",
    "    # run only on the chromosome specified\n",
    "    all_chrs = [chromosome]\n",
    "\n",
    "# # For testing purposes\n",
    "# all_chrs = [\"13\"]\n",
    "# tissues = [\"Whole_Blood\"]\n",
    "# genes_info = genes_info[genes_info[\"id\"].isin([\"ENSG00000134871\", \"ENSG00000187498\", \"ENSG00000183087\", \"ENSG00000073910\"])]\n",
    "\n",
    "for chr_num in all_chrs:\n",
    "    print(f\"Chromosome {chr_num}\", flush=True)\n",
    "\n",
    "    genes_chr = genes_info[genes_info[\"chr\"] == chr_num]\n",
    "    print(f\"Genes in chromosome{genes_chr.shape}\", flush=True)\n",
    "\n",
    "    gene_chr_objs = [Gene(ensembl_id=gene_id) for gene_id in genes_chr[\"id\"]]\n",
    "    gene_chr_ids = [g.ensembl_id for g in gene_chr_objs]\n",
    "\n",
    "    n = len(gene_chr_objs)\n",
    "    n_comb = int(n * (n - 1) / 2.0)\n",
    "    print(f\"Number of gene combinations: {n_comb}\", flush=True)\n",
    "\n",
    "    for tissue in tissues:\n",
    "        print(f\"Tissue {tissue}\", flush=True)\n",
    "\n",
    "        # check if results exist\n",
    "        output_dir = OUTPUT_DIR_BASE / \"by_tissue\"\n",
    "        output_file = output_dir / f\"gene_corrs-{tissue}-chr{chr_num}.pkl\"\n",
    "\n",
    "        if output_file.exists():\n",
    "            _tmp_data = pd.read_pickle(output_file)\n",
    "\n",
    "            if _tmp_data.shape[0] > 0:\n",
    "                print(\"Already run, stopping.\")\n",
    "                continue\n",
    "\n",
    "        gene_corrs = []\n",
    "\n",
    "        pbar = tqdm(ncols=100, total=n_comb)\n",
    "        i = 0\n",
    "        for gene_idx1 in range(0, len(gene_chr_objs) - 1):\n",
    "            gene_obj1 = gene_chr_objs[gene_idx1]\n",
    "\n",
    "            for gene_idx2 in range(gene_idx1 + 1, len(gene_chr_objs)):\n",
    "                gene_obj2 = gene_chr_objs[gene_idx2]\n",
    "\n",
    "                gene_corrs.append(\n",
    "                    gene_obj1.get_expression_correlation(\n",
    "                        gene_obj2,\n",
    "                        tissue,\n",
    "                        reference_panel=REFERENCE_PANEL,\n",
    "                        model_type=EQTL_MODEL,\n",
    "                    )\n",
    "                )\n",
    "\n",
    "                pbar.update(1)\n",
    "\n",
    "        pbar.close()\n",
    "\n",
    "        # testing\n",
    "        gene_corrs_flat = pd.Series(gene_corrs)\n",
    "        print(f\"Min/max values: {gene_corrs_flat.min()} / {gene_corrs_flat.max()}\")\n",
    "        assert gene_corrs_flat.min() >= -1.001\n",
    "        assert gene_corrs_flat.max() <= 1.001\n",
    "\n",
    "        # save\n",
    "        # FIXME: consider saving only the condenced matrix here. See here for\n",
    "        # more details: https://github.com/greenelab/phenoplier/pull/38#discussion_r634600813\n",
    "        gene_corrs_data = squareform(np.array(gene_corrs, dtype=np.float32))\n",
    "        np.fill_diagonal(gene_corrs_data, 1.0)\n",
    "\n",
    "        gene_corrs_df = pd.DataFrame(\n",
    "            data=gene_corrs_data,\n",
    "            index=gene_chr_ids,\n",
    "            columns=gene_chr_ids,\n",
    "        )\n",
    "\n",
    "        output_dir.mkdir(exist_ok=True, parents=True)\n",
    "        display(output_file)\n",
    "\n",
    "        gene_corrs_df.to_pickle(output_file)"
   ]
  },
  {
   "cell_type": "markdown",
   "id": "aeb1322a",
   "metadata": {
    "papermill": {
     "duration": 0.145072,
     "end_time": "2022-06-06T11:52:27.133665",
     "exception": false,
     "start_time": "2022-06-06T11:52:26.988593",
     "status": "completed"
    },
    "tags": []
   },
   "source": [
    "# Testing"
   ]
  },
  {
   "cell_type": "code",
   "execution_count": 28,
   "id": "635cff44",
   "metadata": {
    "execution": {
     "iopub.execute_input": "2022-06-06T11:52:27.413843Z",
     "iopub.status.busy": "2022-06-06T11:52:27.413655Z",
     "iopub.status.idle": "2022-06-06T11:52:27.428579Z",
     "shell.execute_reply": "2022-06-06T11:52:27.428001Z"
    },
    "papermill": {
     "duration": 0.150664,
     "end_time": "2022-06-06T11:52:27.430149",
     "exception": false,
     "start_time": "2022-06-06T11:52:27.279485",
     "status": "completed"
    },
    "tags": []
   },
   "outputs": [],
   "source": [
    "# data = pd.read_pickle(\n",
    "#     conf.PHENOMEXCAN[\"LD_BLOCKS\"][\"BASE_DIR\"] / \"gene_corrs\" / \"Whole_Blood\" / \"gene_corrs-Whole_Blood-chr13.pkl\"\n",
    "# )"
   ]
  },
  {
   "cell_type": "code",
   "execution_count": 29,
   "id": "4fac26ad",
   "metadata": {
    "execution": {
     "iopub.execute_input": "2022-06-06T11:52:27.694687Z",
     "iopub.status.busy": "2022-06-06T11:52:27.694249Z",
     "iopub.status.idle": "2022-06-06T11:52:27.710199Z",
     "shell.execute_reply": "2022-06-06T11:52:27.709665Z"
    },
    "papermill": {
     "duration": 0.149823,
     "end_time": "2022-06-06T11:52:27.711750",
     "exception": false,
     "start_time": "2022-06-06T11:52:27.561927",
     "status": "completed"
    },
    "tags": []
   },
   "outputs": [],
   "source": [
    "# assert data.loc[\"ENSG00000134871\", \"ENSG00000187498\"] > 0.97"
   ]
  },
  {
   "cell_type": "code",
   "execution_count": null,
   "id": "b25e3ead",
   "metadata": {
    "papermill": {
     "duration": 0.132153,
     "end_time": "2022-06-06T11:52:27.976984",
     "exception": false,
     "start_time": "2022-06-06T11:52:27.844831",
     "status": "completed"
    },
    "tags": []
   },
   "outputs": [],
   "source": []
  }
 ],
 "metadata": {
  "jupytext": {
   "cell_metadata_filter": "all,-execution,-papermill,-trusted",
   "formats": "ipynb,py//py:percent"
  },
  "kernelspec": {
   "display_name": "Python 3 (ipykernel)",
   "language": "python",
   "name": "python3"
  },
  "language_info": {
   "codemirror_mode": {
    "name": "ipython",
    "version": 3
   },
   "file_extension": ".py",
   "mimetype": "text/x-python",
   "name": "python",
   "nbconvert_exporter": "python",
   "pygments_lexer": "ipython3",
   "version": "3.8.13"
  },
  "papermill": {
   "default_parameters": {},
   "duration": 328.008441,
   "end_time": "2022-06-06T11:52:28.458855",
   "environment_variables": {},
   "exception": null,
   "input_path": "nbs/15_gsa_gls/10-gene_expr_correlations.ipynb",
   "output_path": "nbs/15_gsa_gls/gene_corrs/gtex_v8/mashr/10-gene_expr_correlations-chr21.run.ipynb",
   "parameters": {
    "EQTL_MODEL": "MASHR",
    "REFERENCE_PANEL": "GTEX_V8",
    "chromosome": 21
   },
   "start_time": "2022-06-06T11:47:00.450414",
   "version": "2.2.2"
  }
 },
 "nbformat": 4,
 "nbformat_minor": 5
}
