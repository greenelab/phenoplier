{
 "cells": [
  {
   "cell_type": "markdown",
   "id": "94cc4ea0",
   "metadata": {
    "papermill": {
     "duration": 0.025319,
     "end_time": "2022-02-28T15:17:20.212903",
     "exception": false,
     "start_time": "2022-02-28T15:17:20.187584",
     "status": "completed"
    },
    "tags": []
   },
   "source": [
    "# Description"
   ]
  },
  {
   "cell_type": "markdown",
   "id": "5faaa1e2",
   "metadata": {
    "papermill": {
     "duration": 0.023188,
     "end_time": "2022-02-28T15:17:20.259598",
     "exception": false,
     "start_time": "2022-02-28T15:17:20.236410",
     "status": "completed"
    },
    "tags": []
   },
   "source": [
    "This notebook computes predicted expression correlations between all genes in the MultiPLIER models.\n",
    "\n",
    "It also has a parameter set for papermill to run on a single chromosome to run in parallel (see under `Settings` below).\n",
    "\n",
    "This notebook does not have an output because it is not directly run. If you want to see outputs for each chromosome, check out the `gene_corrs` folder, which contains a copy of this notebook for each chromosome."
   ]
  },
  {
   "cell_type": "markdown",
   "id": "dc309e70",
   "metadata": {
    "papermill": {
     "duration": 0.022985,
     "end_time": "2022-02-28T15:17:20.305948",
     "exception": false,
     "start_time": "2022-02-28T15:17:20.282963",
     "status": "completed"
    },
    "tags": []
   },
   "source": [
    "# Modules"
   ]
  },
  {
   "cell_type": "code",
   "execution_count": 1,
   "id": "43913724",
   "metadata": {
    "execution": {
     "iopub.execute_input": "2022-02-28T15:17:20.356180Z",
     "iopub.status.busy": "2022-02-28T15:17:20.355621Z",
     "iopub.status.idle": "2022-02-28T15:17:20.375103Z",
     "shell.execute_reply": "2022-02-28T15:17:20.374500Z"
    },
    "papermill": {
     "duration": 0.047668,
     "end_time": "2022-02-28T15:17:20.376951",
     "exception": false,
     "start_time": "2022-02-28T15:17:20.329283",
     "status": "completed"
    },
    "tags": []
   },
   "outputs": [],
   "source": [
    "%load_ext autoreload\n",
    "%autoreload 2"
   ]
  },
  {
   "cell_type": "code",
   "execution_count": 2,
   "id": "f853fabe",
   "metadata": {
    "execution": {
     "iopub.execute_input": "2022-02-28T15:17:20.428759Z",
     "iopub.status.busy": "2022-02-28T15:17:20.428238Z",
     "iopub.status.idle": "2022-02-28T15:17:21.089869Z",
     "shell.execute_reply": "2022-02-28T15:17:21.089214Z"
    },
    "papermill": {
     "duration": 0.688659,
     "end_time": "2022-02-28T15:17:21.091546",
     "exception": false,
     "start_time": "2022-02-28T15:17:20.402887",
     "status": "completed"
    },
    "tags": []
   },
   "outputs": [],
   "source": [
    "import numpy as np\n",
    "from scipy.spatial.distance import squareform\n",
    "import pandas as pd\n",
    "from tqdm import tqdm\n",
    "\n",
    "import conf\n",
    "from entity import Gene"
   ]
  },
  {
   "cell_type": "markdown",
   "id": "1188ecb0",
   "metadata": {
    "papermill": {
     "duration": 0.025159,
     "end_time": "2022-02-28T15:17:21.143329",
     "exception": false,
     "start_time": "2022-02-28T15:17:21.118170",
     "status": "completed"
    },
    "tags": []
   },
   "source": [
    "# Settings"
   ]
  },
  {
   "cell_type": "code",
   "execution_count": 3,
   "id": "efc384fc",
   "metadata": {
    "execution": {
     "iopub.execute_input": "2022-02-28T15:17:21.194893Z",
     "iopub.status.busy": "2022-02-28T15:17:21.194379Z",
     "iopub.status.idle": "2022-02-28T15:17:21.209892Z",
     "shell.execute_reply": "2022-02-28T15:17:21.209193Z"
    },
    "papermill": {
     "duration": 0.042596,
     "end_time": "2022-02-28T15:17:21.211612",
     "exception": false,
     "start_time": "2022-02-28T15:17:21.169016",
     "status": "completed"
    },
    "tags": [
     "parameters"
    ]
   },
   "outputs": [],
   "source": [
    "# mashr\n",
    "EQTL_MODEL = \"MASHR\"\n",
    "EQTL_MODEL_FILES_PREFIX = \"mashr_\"\n",
    "\n",
    "# # elastic net\n",
    "# EQTL_MODEL = \"ELASTIC_NET\"\n",
    "# EQTL_MODEL_FILES_PREFIX = \"en_\"\n",
    "\n",
    "# make it read the prefix from conf.py\n",
    "EQTL_MODEL_FILES_PREFIX = None\n",
    "\n",
    "# specifies a single chromosome value\n",
    "# by default, run on all chromosomes\n",
    "chromosome = \"all\""
   ]
  },
  {
   "cell_type": "code",
   "execution_count": 4,
   "id": "bf7bebb1",
   "metadata": {
    "execution": {
     "iopub.execute_input": "2022-02-28T15:17:21.261608Z",
     "iopub.status.busy": "2022-02-28T15:17:21.261068Z",
     "iopub.status.idle": "2022-02-28T15:17:21.275763Z",
     "shell.execute_reply": "2022-02-28T15:17:21.275123Z"
    },
    "papermill": {
     "duration": 0.041108,
     "end_time": "2022-02-28T15:17:21.277519",
     "exception": false,
     "start_time": "2022-02-28T15:17:21.236411",
     "status": "completed"
    },
    "tags": [
     "injected-parameters"
    ]
   },
   "outputs": [],
   "source": [
    "# Parameters\n",
    "chromosome = 14\n",
    "EQTL_MODEL = \"ELASTIC_NET\"\n"
   ]
  },
  {
   "cell_type": "code",
   "execution_count": 5,
   "id": "6273f87b",
   "metadata": {
    "execution": {
     "iopub.execute_input": "2022-02-28T15:17:21.328747Z",
     "iopub.status.busy": "2022-02-28T15:17:21.328369Z",
     "iopub.status.idle": "2022-02-28T15:17:21.343295Z",
     "shell.execute_reply": "2022-02-28T15:17:21.342683Z"
    },
    "papermill": {
     "duration": 0.0423,
     "end_time": "2022-02-28T15:17:21.345043",
     "exception": false,
     "start_time": "2022-02-28T15:17:21.302743",
     "status": "completed"
    },
    "tags": []
   },
   "outputs": [],
   "source": [
    "if EQTL_MODEL_FILES_PREFIX is None:\n",
    "    EQTL_MODEL_FILES_PREFIX = conf.PHENOMEXCAN[\"PREDICTION_MODELS_PREFIXES\"][EQTL_MODEL]"
   ]
  },
  {
   "cell_type": "code",
   "execution_count": 6,
   "id": "c5dbb802",
   "metadata": {
    "execution": {
     "iopub.execute_input": "2022-02-28T15:17:21.395373Z",
     "iopub.status.busy": "2022-02-28T15:17:21.394699Z",
     "iopub.status.idle": "2022-02-28T15:17:21.416191Z",
     "shell.execute_reply": "2022-02-28T15:17:21.415704Z"
    },
    "papermill": {
     "duration": 0.04794,
     "end_time": "2022-02-28T15:17:21.417804",
     "exception": false,
     "start_time": "2022-02-28T15:17:21.369864",
     "status": "completed"
    },
    "tags": []
   },
   "outputs": [
    {
     "data": {
      "text/plain": [
       "'Using eQTL model: ELASTIC_NET / en_'"
      ]
     },
     "metadata": {},
     "output_type": "display_data"
    }
   ],
   "source": [
    "display(f\"Using eQTL model: {EQTL_MODEL} / {EQTL_MODEL_FILES_PREFIX}\")"
   ]
  },
  {
   "cell_type": "code",
   "execution_count": 7,
   "id": "7ea885ec",
   "metadata": {
    "execution": {
     "iopub.execute_input": "2022-02-28T15:17:21.471714Z",
     "iopub.status.busy": "2022-02-28T15:17:21.471065Z",
     "iopub.status.idle": "2022-02-28T15:17:21.486842Z",
     "shell.execute_reply": "2022-02-28T15:17:21.486178Z"
    },
    "papermill": {
     "duration": 0.044129,
     "end_time": "2022-02-28T15:17:21.488508",
     "exception": false,
     "start_time": "2022-02-28T15:17:21.444379",
     "status": "completed"
    },
    "tags": []
   },
   "outputs": [],
   "source": [
    "if chromosome == \"all\":\n",
    "    from time import sleep\n",
    "\n",
    "    message = \"\"\"\n",
    "    WARNING: you are going to compute correlations of gene predicted expression across all chromosomes without parallelism.\n",
    "    It is recommended that you look at the README.md file in this subfolder (nbs/08_gsa_gls/README.md) to know how to do that.\n",
    "    \n",
    "    It will continue in 20 seconds.\n",
    "    \"\"\"\n",
    "    print(message)\n",
    "    sleep(20)"
   ]
  },
  {
   "cell_type": "markdown",
   "id": "2aae4936",
   "metadata": {
    "papermill": {
     "duration": 0.024754,
     "end_time": "2022-02-28T15:17:21.538912",
     "exception": false,
     "start_time": "2022-02-28T15:17:21.514158",
     "status": "completed"
    },
    "tags": []
   },
   "source": [
    "# Load data"
   ]
  },
  {
   "cell_type": "markdown",
   "id": "24e10368",
   "metadata": {
    "papermill": {
     "duration": 0.024766,
     "end_time": "2022-02-28T15:17:21.588796",
     "exception": false,
     "start_time": "2022-02-28T15:17:21.564030",
     "status": "completed"
    },
    "tags": []
   },
   "source": [
    "## MultiPLIER Z"
   ]
  },
  {
   "cell_type": "code",
   "execution_count": 8,
   "id": "df154b08",
   "metadata": {
    "execution": {
     "iopub.execute_input": "2022-02-28T15:17:21.640531Z",
     "iopub.status.busy": "2022-02-28T15:17:21.640045Z",
     "iopub.status.idle": "2022-02-28T15:17:21.685052Z",
     "shell.execute_reply": "2022-02-28T15:17:21.684472Z"
    },
    "papermill": {
     "duration": 0.072532,
     "end_time": "2022-02-28T15:17:21.686812",
     "exception": false,
     "start_time": "2022-02-28T15:17:21.614280",
     "status": "completed"
    },
    "tags": []
   },
   "outputs": [],
   "source": [
    "multiplier_z_genes = pd.read_pickle(\n",
    "    conf.MULTIPLIER[\"MODEL_Z_MATRIX_FILE\"]\n",
    ").index.tolist()"
   ]
  },
  {
   "cell_type": "code",
   "execution_count": 9,
   "id": "9919b407",
   "metadata": {
    "execution": {
     "iopub.execute_input": "2022-02-28T15:17:21.742492Z",
     "iopub.status.busy": "2022-02-28T15:17:21.742279Z",
     "iopub.status.idle": "2022-02-28T15:17:21.758248Z",
     "shell.execute_reply": "2022-02-28T15:17:21.757741Z"
    },
    "papermill": {
     "duration": 0.0455,
     "end_time": "2022-02-28T15:17:21.759920",
     "exception": false,
     "start_time": "2022-02-28T15:17:21.714420",
     "status": "completed"
    },
    "tags": []
   },
   "outputs": [
    {
     "data": {
      "text/plain": [
       "6750"
      ]
     },
     "execution_count": 9,
     "metadata": {},
     "output_type": "execute_result"
    }
   ],
   "source": [
    "len(multiplier_z_genes)"
   ]
  },
  {
   "cell_type": "code",
   "execution_count": 10,
   "id": "d297bd8d",
   "metadata": {
    "execution": {
     "iopub.execute_input": "2022-02-28T15:17:21.813958Z",
     "iopub.status.busy": "2022-02-28T15:17:21.813446Z",
     "iopub.status.idle": "2022-02-28T15:17:21.829349Z",
     "shell.execute_reply": "2022-02-28T15:17:21.828790Z"
    },
    "papermill": {
     "duration": 0.044254,
     "end_time": "2022-02-28T15:17:21.830964",
     "exception": false,
     "start_time": "2022-02-28T15:17:21.786710",
     "status": "completed"
    },
    "tags": []
   },
   "outputs": [
    {
     "data": {
      "text/plain": [
       "['GAS6',\n",
       " 'MMP14',\n",
       " 'DSP',\n",
       " 'MARCKSL1',\n",
       " 'SPARC',\n",
       " 'CTSD',\n",
       " 'EPAS1',\n",
       " 'PALLD',\n",
       " 'PHC2',\n",
       " 'LGALS3BP']"
      ]
     },
     "execution_count": 10,
     "metadata": {},
     "output_type": "execute_result"
    }
   ],
   "source": [
    "multiplier_z_genes[:10]"
   ]
  },
  {
   "cell_type": "markdown",
   "id": "b8bbc4fd",
   "metadata": {
    "papermill": {
     "duration": 0.026092,
     "end_time": "2022-02-28T15:17:21.884004",
     "exception": false,
     "start_time": "2022-02-28T15:17:21.857912",
     "status": "completed"
    },
    "tags": []
   },
   "source": [
    "## Get gene objects"
   ]
  },
  {
   "cell_type": "code",
   "execution_count": 11,
   "id": "6f785c35",
   "metadata": {
    "execution": {
     "iopub.execute_input": "2022-02-28T15:17:21.936671Z",
     "iopub.status.busy": "2022-02-28T15:17:21.936160Z",
     "iopub.status.idle": "2022-02-28T15:17:21.959425Z",
     "shell.execute_reply": "2022-02-28T15:17:21.958335Z"
    },
    "papermill": {
     "duration": 0.051414,
     "end_time": "2022-02-28T15:17:21.961132",
     "exception": false,
     "start_time": "2022-02-28T15:17:21.909718",
     "status": "completed"
    },
    "tags": []
   },
   "outputs": [],
   "source": [
    "multiplier_gene_obj = {\n",
    "    gene_name: Gene(name=gene_name)\n",
    "    for gene_name in multiplier_z_genes\n",
    "    if gene_name in Gene.GENE_NAME_TO_ID_MAP\n",
    "}"
   ]
  },
  {
   "cell_type": "code",
   "execution_count": 12,
   "id": "8249f836",
   "metadata": {
    "execution": {
     "iopub.execute_input": "2022-02-28T15:17:22.015595Z",
     "iopub.status.busy": "2022-02-28T15:17:22.015294Z",
     "iopub.status.idle": "2022-02-28T15:17:22.030821Z",
     "shell.execute_reply": "2022-02-28T15:17:22.030277Z"
    },
    "papermill": {
     "duration": 0.044193,
     "end_time": "2022-02-28T15:17:22.032398",
     "exception": false,
     "start_time": "2022-02-28T15:17:21.988205",
     "status": "completed"
    },
    "tags": []
   },
   "outputs": [
    {
     "data": {
      "text/plain": [
       "6454"
      ]
     },
     "execution_count": 12,
     "metadata": {},
     "output_type": "execute_result"
    }
   ],
   "source": [
    "len(multiplier_gene_obj)"
   ]
  },
  {
   "cell_type": "code",
   "execution_count": 13,
   "id": "46f78e0a",
   "metadata": {
    "execution": {
     "iopub.execute_input": "2022-02-28T15:17:22.089177Z",
     "iopub.status.busy": "2022-02-28T15:17:22.088525Z",
     "iopub.status.idle": "2022-02-28T15:17:22.104186Z",
     "shell.execute_reply": "2022-02-28T15:17:22.103589Z"
    },
    "papermill": {
     "duration": 0.04603,
     "end_time": "2022-02-28T15:17:22.105856",
     "exception": false,
     "start_time": "2022-02-28T15:17:22.059826",
     "status": "completed"
    },
    "tags": []
   },
   "outputs": [
    {
     "data": {
      "text/plain": [
       "'ENSG00000183087'"
      ]
     },
     "execution_count": 13,
     "metadata": {},
     "output_type": "execute_result"
    }
   ],
   "source": [
    "multiplier_gene_obj[\"GAS6\"].ensembl_id"
   ]
  },
  {
   "cell_type": "code",
   "execution_count": 14,
   "id": "97644699",
   "metadata": {
    "execution": {
     "iopub.execute_input": "2022-02-28T15:17:22.162933Z",
     "iopub.status.busy": "2022-02-28T15:17:22.162341Z",
     "iopub.status.idle": "2022-02-28T15:17:23.167427Z",
     "shell.execute_reply": "2022-02-28T15:17:23.166959Z"
    },
    "papermill": {
     "duration": 1.035081,
     "end_time": "2022-02-28T15:17:23.168959",
     "exception": false,
     "start_time": "2022-02-28T15:17:22.133878",
     "status": "completed"
    },
    "tags": []
   },
   "outputs": [],
   "source": [
    "_gene_obj = list(multiplier_gene_obj.values())\n",
    "\n",
    "genes_info = pd.DataFrame(\n",
    "    {\n",
    "        \"name\": [g.name for g in _gene_obj],\n",
    "        \"id\": [g.ensembl_id for g in _gene_obj],\n",
    "        \"chr\": [g.chromosome for g in _gene_obj],\n",
    "    }\n",
    ")"
   ]
  },
  {
   "cell_type": "code",
   "execution_count": 15,
   "id": "e4477eed",
   "metadata": {
    "execution": {
     "iopub.execute_input": "2022-02-28T15:17:23.224021Z",
     "iopub.status.busy": "2022-02-28T15:17:23.223831Z",
     "iopub.status.idle": "2022-02-28T15:17:23.238786Z",
     "shell.execute_reply": "2022-02-28T15:17:23.238286Z"
    },
    "papermill": {
     "duration": 0.04402,
     "end_time": "2022-02-28T15:17:23.240297",
     "exception": false,
     "start_time": "2022-02-28T15:17:23.196277",
     "status": "completed"
    },
    "tags": []
   },
   "outputs": [
    {
     "data": {
      "text/plain": [
       "(6454, 3)"
      ]
     },
     "execution_count": 15,
     "metadata": {},
     "output_type": "execute_result"
    }
   ],
   "source": [
    "genes_info.shape"
   ]
  },
  {
   "cell_type": "code",
   "execution_count": 16,
   "id": "797ebef5",
   "metadata": {
    "execution": {
     "iopub.execute_input": "2022-02-28T15:17:23.295357Z",
     "iopub.status.busy": "2022-02-28T15:17:23.295161Z",
     "iopub.status.idle": "2022-02-28T15:17:23.314979Z",
     "shell.execute_reply": "2022-02-28T15:17:23.314440Z"
    },
    "papermill": {
     "duration": 0.048793,
     "end_time": "2022-02-28T15:17:23.316783",
     "exception": false,
     "start_time": "2022-02-28T15:17:23.267990",
     "status": "completed"
    },
    "tags": []
   },
   "outputs": [
    {
     "data": {
      "text/html": [
       "<div>\n",
       "<style scoped>\n",
       "    .dataframe tbody tr th:only-of-type {\n",
       "        vertical-align: middle;\n",
       "    }\n",
       "\n",
       "    .dataframe tbody tr th {\n",
       "        vertical-align: top;\n",
       "    }\n",
       "\n",
       "    .dataframe thead th {\n",
       "        text-align: right;\n",
       "    }\n",
       "</style>\n",
       "<table border=\"1\" class=\"dataframe\">\n",
       "  <thead>\n",
       "    <tr style=\"text-align: right;\">\n",
       "      <th></th>\n",
       "      <th>name</th>\n",
       "      <th>id</th>\n",
       "      <th>chr</th>\n",
       "    </tr>\n",
       "  </thead>\n",
       "  <tbody>\n",
       "    <tr>\n",
       "      <th>0</th>\n",
       "      <td>GAS6</td>\n",
       "      <td>ENSG00000183087</td>\n",
       "      <td>13</td>\n",
       "    </tr>\n",
       "    <tr>\n",
       "      <th>1</th>\n",
       "      <td>MMP14</td>\n",
       "      <td>ENSG00000157227</td>\n",
       "      <td>14</td>\n",
       "    </tr>\n",
       "    <tr>\n",
       "      <th>2</th>\n",
       "      <td>DSP</td>\n",
       "      <td>ENSG00000096696</td>\n",
       "      <td>6</td>\n",
       "    </tr>\n",
       "    <tr>\n",
       "      <th>3</th>\n",
       "      <td>MARCKSL1</td>\n",
       "      <td>ENSG00000175130</td>\n",
       "      <td>1</td>\n",
       "    </tr>\n",
       "    <tr>\n",
       "      <th>4</th>\n",
       "      <td>SPARC</td>\n",
       "      <td>ENSG00000113140</td>\n",
       "      <td>5</td>\n",
       "    </tr>\n",
       "  </tbody>\n",
       "</table>\n",
       "</div>"
      ],
      "text/plain": [
       "       name               id chr\n",
       "0      GAS6  ENSG00000183087  13\n",
       "1     MMP14  ENSG00000157227  14\n",
       "2       DSP  ENSG00000096696   6\n",
       "3  MARCKSL1  ENSG00000175130   1\n",
       "4     SPARC  ENSG00000113140   5"
      ]
     },
     "execution_count": 16,
     "metadata": {},
     "output_type": "execute_result"
    }
   ],
   "source": [
    "genes_info.head()"
   ]
  },
  {
   "cell_type": "markdown",
   "id": "993a0d2d",
   "metadata": {
    "papermill": {
     "duration": 0.028467,
     "end_time": "2022-02-28T15:17:23.374135",
     "exception": false,
     "start_time": "2022-02-28T15:17:23.345668",
     "status": "completed"
    },
    "tags": []
   },
   "source": [
    "## Get tissues names"
   ]
  },
  {
   "cell_type": "code",
   "execution_count": 17,
   "id": "783dbd29",
   "metadata": {
    "execution": {
     "iopub.execute_input": "2022-02-28T15:17:23.431411Z",
     "iopub.status.busy": "2022-02-28T15:17:23.431163Z",
     "iopub.status.idle": "2022-02-28T15:17:23.447179Z",
     "shell.execute_reply": "2022-02-28T15:17:23.446676Z"
    },
    "papermill": {
     "duration": 0.04644,
     "end_time": "2022-02-28T15:17:23.448956",
     "exception": false,
     "start_time": "2022-02-28T15:17:23.402516",
     "status": "completed"
    },
    "tags": []
   },
   "outputs": [],
   "source": [
    "db_files = list(conf.PHENOMEXCAN[\"PREDICTION_MODELS\"][EQTL_MODEL].glob(\"*.db\"))"
   ]
  },
  {
   "cell_type": "code",
   "execution_count": 18,
   "id": "04664f7d",
   "metadata": {
    "execution": {
     "iopub.execute_input": "2022-02-28T15:17:23.505805Z",
     "iopub.status.busy": "2022-02-28T15:17:23.505556Z",
     "iopub.status.idle": "2022-02-28T15:17:23.521358Z",
     "shell.execute_reply": "2022-02-28T15:17:23.520851Z"
    },
    "papermill": {
     "duration": 0.045996,
     "end_time": "2022-02-28T15:17:23.523003",
     "exception": false,
     "start_time": "2022-02-28T15:17:23.477007",
     "status": "completed"
    },
    "tags": []
   },
   "outputs": [],
   "source": [
    "assert len(db_files) == 49"
   ]
  },
  {
   "cell_type": "code",
   "execution_count": 19,
   "id": "4717fbb3",
   "metadata": {
    "execution": {
     "iopub.execute_input": "2022-02-28T15:17:23.579580Z",
     "iopub.status.busy": "2022-02-28T15:17:23.579329Z",
     "iopub.status.idle": "2022-02-28T15:17:23.593965Z",
     "shell.execute_reply": "2022-02-28T15:17:23.593481Z"
    },
    "papermill": {
     "duration": 0.044307,
     "end_time": "2022-02-28T15:17:23.595541",
     "exception": false,
     "start_time": "2022-02-28T15:17:23.551234",
     "status": "completed"
    },
    "tags": []
   },
   "outputs": [],
   "source": [
    "tissues = [\n",
    "    str(f).split(EQTL_MODEL_FILES_PREFIX, maxsplit=1)[1].split(\".db\")[0]\n",
    "    for f in db_files\n",
    "]"
   ]
  },
  {
   "cell_type": "code",
   "execution_count": 20,
   "id": "3cc28e7c",
   "metadata": {
    "execution": {
     "iopub.execute_input": "2022-02-28T15:17:23.651906Z",
     "iopub.status.busy": "2022-02-28T15:17:23.651695Z",
     "iopub.status.idle": "2022-02-28T15:17:23.666898Z",
     "shell.execute_reply": "2022-02-28T15:17:23.666296Z"
    },
    "papermill": {
     "duration": 0.045592,
     "end_time": "2022-02-28T15:17:23.668801",
     "exception": false,
     "start_time": "2022-02-28T15:17:23.623209",
     "status": "completed"
    },
    "tags": []
   },
   "outputs": [
    {
     "data": {
      "text/plain": [
       "['Vagina',\n",
       " 'Colon_Sigmoid',\n",
       " 'Brain_Caudate_basal_ganglia',\n",
       " 'Stomach',\n",
       " 'Skin_Not_Sun_Exposed_Suprapubic']"
      ]
     },
     "execution_count": 20,
     "metadata": {},
     "output_type": "execute_result"
    }
   ],
   "source": [
    "tissues[:5]"
   ]
  },
  {
   "cell_type": "markdown",
   "id": "65fba569",
   "metadata": {
    "papermill": {
     "duration": 0.029225,
     "end_time": "2022-02-28T15:17:23.730636",
     "exception": false,
     "start_time": "2022-02-28T15:17:23.701411",
     "status": "completed"
    },
    "tags": []
   },
   "source": [
    "# Test"
   ]
  },
  {
   "cell_type": "code",
   "execution_count": 21,
   "id": "c557bc63",
   "metadata": {
    "execution": {
     "iopub.execute_input": "2022-02-28T15:17:23.788197Z",
     "iopub.status.busy": "2022-02-28T15:17:23.787935Z",
     "iopub.status.idle": "2022-02-28T15:17:23.810482Z",
     "shell.execute_reply": "2022-02-28T15:17:23.809977Z"
    },
    "papermill": {
     "duration": 0.053378,
     "end_time": "2022-02-28T15:17:23.812000",
     "exception": false,
     "start_time": "2022-02-28T15:17:23.758622",
     "status": "completed"
    },
    "tags": []
   },
   "outputs": [
    {
     "data": {
      "text/html": [
       "<div>\n",
       "<style scoped>\n",
       "    .dataframe tbody tr th:only-of-type {\n",
       "        vertical-align: middle;\n",
       "    }\n",
       "\n",
       "    .dataframe tbody tr th {\n",
       "        vertical-align: top;\n",
       "    }\n",
       "\n",
       "    .dataframe thead th {\n",
       "        text-align: right;\n",
       "    }\n",
       "</style>\n",
       "<table border=\"1\" class=\"dataframe\">\n",
       "  <thead>\n",
       "    <tr style=\"text-align: right;\">\n",
       "      <th></th>\n",
       "      <th>name</th>\n",
       "      <th>id</th>\n",
       "      <th>chr</th>\n",
       "    </tr>\n",
       "  </thead>\n",
       "  <tbody>\n",
       "    <tr>\n",
       "      <th>0</th>\n",
       "      <td>GAS6</td>\n",
       "      <td>ENSG00000183087</td>\n",
       "      <td>13</td>\n",
       "    </tr>\n",
       "    <tr>\n",
       "      <th>139</th>\n",
       "      <td>FRY</td>\n",
       "      <td>ENSG00000073910</td>\n",
       "      <td>13</td>\n",
       "    </tr>\n",
       "    <tr>\n",
       "      <th>239</th>\n",
       "      <td>CCNA1</td>\n",
       "      <td>ENSG00000133101</td>\n",
       "      <td>13</td>\n",
       "    </tr>\n",
       "    <tr>\n",
       "      <th>283</th>\n",
       "      <td>FLT3</td>\n",
       "      <td>ENSG00000122025</td>\n",
       "      <td>13</td>\n",
       "    </tr>\n",
       "    <tr>\n",
       "      <th>412</th>\n",
       "      <td>TNFSF11</td>\n",
       "      <td>ENSG00000120659</td>\n",
       "      <td>13</td>\n",
       "    </tr>\n",
       "    <tr>\n",
       "      <th>...</th>\n",
       "      <td>...</td>\n",
       "      <td>...</td>\n",
       "      <td>...</td>\n",
       "    </tr>\n",
       "    <tr>\n",
       "      <th>6269</th>\n",
       "      <td>KL</td>\n",
       "      <td>ENSG00000133116</td>\n",
       "      <td>13</td>\n",
       "    </tr>\n",
       "    <tr>\n",
       "      <th>6351</th>\n",
       "      <td>MTMR6</td>\n",
       "      <td>ENSG00000139505</td>\n",
       "      <td>13</td>\n",
       "    </tr>\n",
       "    <tr>\n",
       "      <th>6379</th>\n",
       "      <td>ABCC4</td>\n",
       "      <td>ENSG00000125257</td>\n",
       "      <td>13</td>\n",
       "    </tr>\n",
       "    <tr>\n",
       "      <th>6416</th>\n",
       "      <td>RFXAP</td>\n",
       "      <td>ENSG00000133111</td>\n",
       "      <td>13</td>\n",
       "    </tr>\n",
       "    <tr>\n",
       "      <th>6436</th>\n",
       "      <td>ELF1</td>\n",
       "      <td>ENSG00000120690</td>\n",
       "      <td>13</td>\n",
       "    </tr>\n",
       "  </tbody>\n",
       "</table>\n",
       "<p>118 rows × 3 columns</p>\n",
       "</div>"
      ],
      "text/plain": [
       "         name               id chr\n",
       "0        GAS6  ENSG00000183087  13\n",
       "139       FRY  ENSG00000073910  13\n",
       "239     CCNA1  ENSG00000133101  13\n",
       "283      FLT3  ENSG00000122025  13\n",
       "412   TNFSF11  ENSG00000120659  13\n",
       "...       ...              ...  ..\n",
       "6269       KL  ENSG00000133116  13\n",
       "6351    MTMR6  ENSG00000139505  13\n",
       "6379    ABCC4  ENSG00000125257  13\n",
       "6416    RFXAP  ENSG00000133111  13\n",
       "6436     ELF1  ENSG00000120690  13\n",
       "\n",
       "[118 rows x 3 columns]"
      ]
     },
     "execution_count": 21,
     "metadata": {},
     "output_type": "execute_result"
    }
   ],
   "source": [
    "genes_info[genes_info[\"chr\"] == \"13\"]"
   ]
  },
  {
   "cell_type": "code",
   "execution_count": 22,
   "id": "d9a014bc",
   "metadata": {
    "execution": {
     "iopub.execute_input": "2022-02-28T15:17:23.871781Z",
     "iopub.status.busy": "2022-02-28T15:17:23.871580Z",
     "iopub.status.idle": "2022-02-28T15:17:23.886602Z",
     "shell.execute_reply": "2022-02-28T15:17:23.886073Z"
    },
    "papermill": {
     "duration": 0.046961,
     "end_time": "2022-02-28T15:17:23.888215",
     "exception": false,
     "start_time": "2022-02-28T15:17:23.841254",
     "status": "completed"
    },
    "tags": []
   },
   "outputs": [],
   "source": [
    "_gene_list = [\n",
    "    Gene(\"ENSG00000134871\"),\n",
    "    Gene(\"ENSG00000187498\"),\n",
    "    Gene(\"ENSG00000183087\"),\n",
    "    Gene(\"ENSG00000073910\"),\n",
    "    Gene(\"ENSG00000133101\"),\n",
    "    Gene(\"ENSG00000122025\"),\n",
    "    Gene(\"ENSG00000120659\"),\n",
    "    Gene(\"ENSG00000133116\"),\n",
    "]\n",
    "\n",
    "tissue = \"Whole_Blood\""
   ]
  },
  {
   "cell_type": "code",
   "execution_count": 23,
   "id": "14337f6d",
   "metadata": {
    "execution": {
     "iopub.execute_input": "2022-02-28T15:17:23.948497Z",
     "iopub.status.busy": "2022-02-28T15:17:23.948289Z",
     "iopub.status.idle": "2022-02-28T15:17:24.868734Z",
     "shell.execute_reply": "2022-02-28T15:17:24.868180Z"
    },
    "papermill": {
     "duration": 0.952307,
     "end_time": "2022-02-28T15:17:24.870255",
     "exception": false,
     "start_time": "2022-02-28T15:17:23.917948",
     "status": "completed"
    },
    "tags": []
   },
   "outputs": [
    {
     "name": "stdout",
     "output_type": "stream",
     "text": [
      "87.4 ms ± 1.02 ms per loop (mean ± std. dev. of 7 runs, 1 loop each)\n"
     ]
    }
   ],
   "source": [
    "%%timeit\n",
    "for gene_idx1 in range(0, len(_gene_list) - 1):\n",
    "    gene_obj1 = _gene_list[gene_idx1]\n",
    "\n",
    "    for gene_idx2 in range(gene_idx1 + 1, len(_gene_list)):\n",
    "        gene_obj2 = _gene_list[gene_idx2]\n",
    "\n",
    "        gene_obj1.get_expression_correlation(\n",
    "            gene_obj2,\n",
    "            tissue,\n",
    "        )"
   ]
  },
  {
   "cell_type": "markdown",
   "id": "7787172c",
   "metadata": {
    "papermill": {
     "duration": 0.0299,
     "end_time": "2022-02-28T15:17:24.935494",
     "exception": false,
     "start_time": "2022-02-28T15:17:24.905594",
     "status": "completed"
    },
    "tags": []
   },
   "source": [
    "# Compute correlation per chromosome"
   ]
  },
  {
   "cell_type": "code",
   "execution_count": 24,
   "id": "53bac8a2",
   "metadata": {
    "execution": {
     "iopub.execute_input": "2022-02-28T15:17:25.001874Z",
     "iopub.status.busy": "2022-02-28T15:17:25.001656Z",
     "iopub.status.idle": "2022-02-28T15:42:08.099694Z",
     "shell.execute_reply": "2022-02-28T15:42:08.099009Z"
    },
    "papermill": {
     "duration": 1483.136193,
     "end_time": "2022-02-28T15:42:08.101320",
     "exception": false,
     "start_time": "2022-02-28T15:17:24.965127",
     "status": "completed"
    },
    "tags": []
   },
   "outputs": [
    {
     "name": "stdout",
     "output_type": "stream",
     "text": [
      "Chromosome 14\n",
      "Genes in chromosome(211, 3)\n",
      "Number of gene combinations: 22155\n",
      "Tissue Vagina\n"
     ]
    },
    {
     "name": "stderr",
     "output_type": "stream",
     "text": [
      "100%|████████████████████████████████████████████████████████| 22155/22155 [00:28<00:00, 765.85it/s]"
     ]
    },
    {
     "name": "stdout",
     "output_type": "stream",
     "text": [
      "Min/max values: -0.14683690055085666 / 0.11505935496371658\n"
     ]
    },
    {
     "name": "stderr",
     "output_type": "stream",
     "text": [
      "\n"
     ]
    },
    {
     "data": {
      "text/plain": [
       "PosixPath('/opt/data/data/phenomexcan/ld_blocks/en_gene_corrs/Vagina/gene_corrs-Vagina-chr14.pkl')"
      ]
     },
     "metadata": {},
     "output_type": "display_data"
    },
    {
     "name": "stdout",
     "output_type": "stream",
     "text": [
      "Tissue Colon_Sigmoid\n"
     ]
    },
    {
     "name": "stderr",
     "output_type": "stream",
     "text": [
      "100%|████████████████████████████████████████████████████████| 22155/22155 [00:25<00:00, 859.36it/s]"
     ]
    },
    {
     "name": "stdout",
     "output_type": "stream",
     "text": [
      "Min/max values: -0.9387092258534274 / 0.39372741587832544\n"
     ]
    },
    {
     "name": "stderr",
     "output_type": "stream",
     "text": [
      "\n"
     ]
    },
    {
     "data": {
      "text/plain": [
       "PosixPath('/opt/data/data/phenomexcan/ld_blocks/en_gene_corrs/Colon_Sigmoid/gene_corrs-Colon_Sigmoid-chr14.pkl')"
      ]
     },
     "metadata": {},
     "output_type": "display_data"
    },
    {
     "name": "stdout",
     "output_type": "stream",
     "text": [
      "Tissue Brain_Caudate_basal_ganglia\n"
     ]
    },
    {
     "name": "stderr",
     "output_type": "stream",
     "text": [
      "100%|███████████████████████████████████████████████████████| 22155/22155 [00:13<00:00, 1631.08it/s]"
     ]
    },
    {
     "name": "stdout",
     "output_type": "stream",
     "text": [
      "Min/max values: -0.5154336836618014 / 0.3373454940750394\n"
     ]
    },
    {
     "name": "stderr",
     "output_type": "stream",
     "text": [
      "\n"
     ]
    },
    {
     "data": {
      "text/plain": [
       "PosixPath('/opt/data/data/phenomexcan/ld_blocks/en_gene_corrs/Brain_Caudate_basal_ganglia/gene_corrs-Brain_Caudate_basal_ganglia-chr14.pkl')"
      ]
     },
     "metadata": {},
     "output_type": "display_data"
    },
    {
     "name": "stdout",
     "output_type": "stream",
     "text": [
      "Tissue Stomach\n"
     ]
    },
    {
     "name": "stderr",
     "output_type": "stream",
     "text": [
      "100%|███████████████████████████████████████████████████████| 22155/22155 [00:18<00:00, 1191.05it/s]"
     ]
    },
    {
     "name": "stdout",
     "output_type": "stream",
     "text": [
      "Min/max values: -0.6597848088717875 / 0.5525845378604572\n"
     ]
    },
    {
     "name": "stderr",
     "output_type": "stream",
     "text": [
      "\n"
     ]
    },
    {
     "data": {
      "text/plain": [
       "PosixPath('/opt/data/data/phenomexcan/ld_blocks/en_gene_corrs/Stomach/gene_corrs-Stomach-chr14.pkl')"
      ]
     },
     "metadata": {},
     "output_type": "display_data"
    },
    {
     "name": "stdout",
     "output_type": "stream",
     "text": [
      "Tissue Skin_Not_Sun_Exposed_Suprapubic\n"
     ]
    },
    {
     "name": "stderr",
     "output_type": "stream",
     "text": [
      "100%|████████████████████████████████████████████████████████| 22155/22155 [01:03<00:00, 347.33it/s]"
     ]
    },
    {
     "name": "stdout",
     "output_type": "stream",
     "text": [
      "Min/max values: -0.7978556850621347 / 0.9495341521523007\n"
     ]
    },
    {
     "name": "stderr",
     "output_type": "stream",
     "text": [
      "\n"
     ]
    },
    {
     "data": {
      "text/plain": [
       "PosixPath('/opt/data/data/phenomexcan/ld_blocks/en_gene_corrs/Skin_Not_Sun_Exposed_Suprapubic/gene_corrs-Skin_Not_Sun_Exposed_Suprapubic-chr14.pkl')"
      ]
     },
     "metadata": {},
     "output_type": "display_data"
    },
    {
     "name": "stdout",
     "output_type": "stream",
     "text": [
      "Tissue Artery_Tibial\n"
     ]
    },
    {
     "name": "stderr",
     "output_type": "stream",
     "text": [
      "100%|████████████████████████████████████████████████████████| 22155/22155 [00:49<00:00, 451.45it/s]\n"
     ]
    },
    {
     "name": "stdout",
     "output_type": "stream",
     "text": [
      "Min/max values: -0.6868269140261575 / 0.9414904509029229\n"
     ]
    },
    {
     "data": {
      "text/plain": [
       "PosixPath('/opt/data/data/phenomexcan/ld_blocks/en_gene_corrs/Artery_Tibial/gene_corrs-Artery_Tibial-chr14.pkl')"
      ]
     },
     "metadata": {},
     "output_type": "display_data"
    },
    {
     "name": "stdout",
     "output_type": "stream",
     "text": [
      "Tissue Brain_Hippocampus\n"
     ]
    },
    {
     "name": "stderr",
     "output_type": "stream",
     "text": [
      "100%|███████████████████████████████████████████████████████| 22155/22155 [00:09<00:00, 2278.76it/s]"
     ]
    },
    {
     "name": "stdout",
     "output_type": "stream",
     "text": [
      "Min/max values: -0.15737972465425054 / 0.7956615733261206\n"
     ]
    },
    {
     "name": "stderr",
     "output_type": "stream",
     "text": [
      "\n"
     ]
    },
    {
     "data": {
      "text/plain": [
       "PosixPath('/opt/data/data/phenomexcan/ld_blocks/en_gene_corrs/Brain_Hippocampus/gene_corrs-Brain_Hippocampus-chr14.pkl')"
      ]
     },
     "metadata": {},
     "output_type": "display_data"
    },
    {
     "name": "stdout",
     "output_type": "stream",
     "text": [
      "Tissue Esophagus_Gastroesophageal_Junction\n"
     ]
    },
    {
     "name": "stderr",
     "output_type": "stream",
     "text": [
      "100%|████████████████████████████████████████████████████████| 22155/22155 [00:36<00:00, 602.75it/s]"
     ]
    },
    {
     "name": "stdout",
     "output_type": "stream",
     "text": [
      "Min/max values: -0.5830326792840782 / 0.5406685887896109\n"
     ]
    },
    {
     "name": "stderr",
     "output_type": "stream",
     "text": [
      "\n"
     ]
    },
    {
     "data": {
      "text/plain": [
       "PosixPath('/opt/data/data/phenomexcan/ld_blocks/en_gene_corrs/Esophagus_Gastroesophageal_Junction/gene_corrs-Esophagus_Gastroesophageal_Junction-chr14.pkl')"
      ]
     },
     "metadata": {},
     "output_type": "display_data"
    },
    {
     "name": "stdout",
     "output_type": "stream",
     "text": [
      "Tissue Esophagus_Muscularis\n"
     ]
    },
    {
     "name": "stderr",
     "output_type": "stream",
     "text": [
      "100%|████████████████████████████████████████████████████████| 22155/22155 [00:55<00:00, 396.77it/s]"
     ]
    },
    {
     "name": "stdout",
     "output_type": "stream",
     "text": [
      "Min/max values: -0.8380969009039574 / 0.7645258512613344\n"
     ]
    },
    {
     "name": "stderr",
     "output_type": "stream",
     "text": [
      "\n"
     ]
    },
    {
     "data": {
      "text/plain": [
       "PosixPath('/opt/data/data/phenomexcan/ld_blocks/en_gene_corrs/Esophagus_Muscularis/gene_corrs-Esophagus_Muscularis-chr14.pkl')"
      ]
     },
     "metadata": {},
     "output_type": "display_data"
    },
    {
     "name": "stdout",
     "output_type": "stream",
     "text": [
      "Tissue Cells_Cultured_fibroblasts\n"
     ]
    },
    {
     "name": "stderr",
     "output_type": "stream",
     "text": [
      "100%|████████████████████████████████████████████████████████| 22155/22155 [01:09<00:00, 319.25it/s]"
     ]
    },
    {
     "name": "stdout",
     "output_type": "stream",
     "text": [
      "Min/max values: -0.7911332071888615 / 0.9513044138913089\n"
     ]
    },
    {
     "name": "stderr",
     "output_type": "stream",
     "text": [
      "\n"
     ]
    },
    {
     "data": {
      "text/plain": [
       "PosixPath('/opt/data/data/phenomexcan/ld_blocks/en_gene_corrs/Cells_Cultured_fibroblasts/gene_corrs-Cells_Cultured_fibroblasts-chr14.pkl')"
      ]
     },
     "metadata": {},
     "output_type": "display_data"
    },
    {
     "name": "stdout",
     "output_type": "stream",
     "text": [
      "Tissue Brain_Nucleus_accumbens_basal_ganglia\n"
     ]
    },
    {
     "name": "stderr",
     "output_type": "stream",
     "text": [
      "100%|███████████████████████████████████████████████████████| 22155/22155 [00:14<00:00, 1496.13it/s]"
     ]
    },
    {
     "name": "stdout",
     "output_type": "stream",
     "text": [
      "Min/max values: -0.2400928238259059 / 0.6136535554620541\n"
     ]
    },
    {
     "name": "stderr",
     "output_type": "stream",
     "text": [
      "\n"
     ]
    },
    {
     "data": {
      "text/plain": [
       "PosixPath('/opt/data/data/phenomexcan/ld_blocks/en_gene_corrs/Brain_Nucleus_accumbens_basal_ganglia/gene_corrs-Brain_Nucleus_accumbens_basal_ganglia-chr14.pkl')"
      ]
     },
     "metadata": {},
     "output_type": "display_data"
    },
    {
     "name": "stdout",
     "output_type": "stream",
     "text": [
      "Tissue Brain_Frontal_Cortex_BA9\n"
     ]
    },
    {
     "name": "stderr",
     "output_type": "stream",
     "text": [
      "100%|███████████████████████████████████████████████████████| 22155/22155 [00:11<00:00, 1936.45it/s]"
     ]
    },
    {
     "name": "stdout",
     "output_type": "stream",
     "text": [
      "Min/max values: -0.4765314224906348 / 0.17890693651486245\n"
     ]
    },
    {
     "name": "stderr",
     "output_type": "stream",
     "text": [
      "\n"
     ]
    },
    {
     "data": {
      "text/plain": [
       "PosixPath('/opt/data/data/phenomexcan/ld_blocks/en_gene_corrs/Brain_Frontal_Cortex_BA9/gene_corrs-Brain_Frontal_Cortex_BA9-chr14.pkl')"
      ]
     },
     "metadata": {},
     "output_type": "display_data"
    },
    {
     "name": "stdout",
     "output_type": "stream",
     "text": [
      "Tissue Brain_Hypothalamus\n"
     ]
    },
    {
     "name": "stderr",
     "output_type": "stream",
     "text": [
      "100%|███████████████████████████████████████████████████████| 22155/22155 [00:08<00:00, 2719.44it/s]"
     ]
    },
    {
     "name": "stdout",
     "output_type": "stream",
     "text": [
      "Min/max values: -0.390369143575181 / 0.16236076768406824\n"
     ]
    },
    {
     "name": "stderr",
     "output_type": "stream",
     "text": [
      "\n"
     ]
    },
    {
     "data": {
      "text/plain": [
       "PosixPath('/opt/data/data/phenomexcan/ld_blocks/en_gene_corrs/Brain_Hypothalamus/gene_corrs-Brain_Hypothalamus-chr14.pkl')"
      ]
     },
     "metadata": {},
     "output_type": "display_data"
    },
    {
     "name": "stdout",
     "output_type": "stream",
     "text": [
      "Tissue Breast_Mammary_Tissue\n"
     ]
    },
    {
     "name": "stderr",
     "output_type": "stream",
     "text": [
      "100%|████████████████████████████████████████████████████████| 22155/22155 [00:26<00:00, 843.79it/s]"
     ]
    },
    {
     "name": "stdout",
     "output_type": "stream",
     "text": [
      "Min/max values: -0.7371739546927966 / 0.925564743559308\n"
     ]
    },
    {
     "name": "stderr",
     "output_type": "stream",
     "text": [
      "\n"
     ]
    },
    {
     "data": {
      "text/plain": [
       "PosixPath('/opt/data/data/phenomexcan/ld_blocks/en_gene_corrs/Breast_Mammary_Tissue/gene_corrs-Breast_Mammary_Tissue-chr14.pkl')"
      ]
     },
     "metadata": {},
     "output_type": "display_data"
    },
    {
     "name": "stdout",
     "output_type": "stream",
     "text": [
      "Tissue Colon_Transverse\n"
     ]
    },
    {
     "name": "stderr",
     "output_type": "stream",
     "text": [
      "100%|████████████████████████████████████████████████████████| 22155/22155 [00:31<00:00, 708.16it/s]"
     ]
    },
    {
     "name": "stdout",
     "output_type": "stream",
     "text": [
      "Min/max values: -0.8494943002373524 / 0.7384822889926654\n"
     ]
    },
    {
     "name": "stderr",
     "output_type": "stream",
     "text": [
      "\n"
     ]
    },
    {
     "data": {
      "text/plain": [
       "PosixPath('/opt/data/data/phenomexcan/ld_blocks/en_gene_corrs/Colon_Transverse/gene_corrs-Colon_Transverse-chr14.pkl')"
      ]
     },
     "metadata": {},
     "output_type": "display_data"
    },
    {
     "name": "stdout",
     "output_type": "stream",
     "text": [
      "Tissue Lung\n"
     ]
    },
    {
     "name": "stderr",
     "output_type": "stream",
     "text": [
      "100%|████████████████████████████████████████████████████████| 22155/22155 [00:45<00:00, 489.07it/s]"
     ]
    },
    {
     "name": "stdout",
     "output_type": "stream",
     "text": [
      "Min/max values: -0.7925594931151215 / 0.8586529154876598\n"
     ]
    },
    {
     "name": "stderr",
     "output_type": "stream",
     "text": [
      "\n"
     ]
    },
    {
     "data": {
      "text/plain": [
       "PosixPath('/opt/data/data/phenomexcan/ld_blocks/en_gene_corrs/Lung/gene_corrs-Lung-chr14.pkl')"
      ]
     },
     "metadata": {},
     "output_type": "display_data"
    },
    {
     "name": "stdout",
     "output_type": "stream",
     "text": [
      "Tissue Esophagus_Mucosa\n"
     ]
    },
    {
     "name": "stderr",
     "output_type": "stream",
     "text": [
      "100%|████████████████████████████████████████████████████████| 22155/22155 [00:57<00:00, 387.23it/s]"
     ]
    },
    {
     "name": "stdout",
     "output_type": "stream",
     "text": [
      "Min/max values: -0.906749552133255 / 0.8843436157828948\n"
     ]
    },
    {
     "name": "stderr",
     "output_type": "stream",
     "text": [
      "\n"
     ]
    },
    {
     "data": {
      "text/plain": [
       "PosixPath('/opt/data/data/phenomexcan/ld_blocks/en_gene_corrs/Esophagus_Mucosa/gene_corrs-Esophagus_Mucosa-chr14.pkl')"
      ]
     },
     "metadata": {},
     "output_type": "display_data"
    },
    {
     "name": "stdout",
     "output_type": "stream",
     "text": [
      "Tissue Brain_Cerebellum\n"
     ]
    },
    {
     "name": "stderr",
     "output_type": "stream",
     "text": [
      "100%|████████████████████████████████████████████████████████| 22155/22155 [00:33<00:00, 661.69it/s]"
     ]
    },
    {
     "name": "stdout",
     "output_type": "stream",
     "text": [
      "Min/max values: -0.4871070045130711 / 0.5887044121610747\n"
     ]
    },
    {
     "name": "stderr",
     "output_type": "stream",
     "text": [
      "\n"
     ]
    },
    {
     "data": {
      "text/plain": [
       "PosixPath('/opt/data/data/phenomexcan/ld_blocks/en_gene_corrs/Brain_Cerebellum/gene_corrs-Brain_Cerebellum-chr14.pkl')"
      ]
     },
     "metadata": {},
     "output_type": "display_data"
    },
    {
     "name": "stdout",
     "output_type": "stream",
     "text": [
      "Tissue Brain_Putamen_basal_ganglia\n"
     ]
    },
    {
     "name": "stderr",
     "output_type": "stream",
     "text": [
      "100%|███████████████████████████████████████████████████████| 22155/22155 [00:14<00:00, 1494.51it/s]"
     ]
    },
    {
     "name": "stdout",
     "output_type": "stream",
     "text": [
      "Min/max values: -0.46052907565731904 / 0.5010549180713617\n"
     ]
    },
    {
     "name": "stderr",
     "output_type": "stream",
     "text": [
      "\n"
     ]
    },
    {
     "data": {
      "text/plain": [
       "PosixPath('/opt/data/data/phenomexcan/ld_blocks/en_gene_corrs/Brain_Putamen_basal_ganglia/gene_corrs-Brain_Putamen_basal_ganglia-chr14.pkl')"
      ]
     },
     "metadata": {},
     "output_type": "display_data"
    },
    {
     "name": "stdout",
     "output_type": "stream",
     "text": [
      "Tissue Heart_Atrial_Appendage\n"
     ]
    },
    {
     "name": "stderr",
     "output_type": "stream",
     "text": [
      "100%|████████████████████████████████████████████████████████| 22155/22155 [00:37<00:00, 593.61it/s]"
     ]
    },
    {
     "name": "stdout",
     "output_type": "stream",
     "text": [
      "Min/max values: -0.7206249019802017 / 0.8706674826203189\n"
     ]
    },
    {
     "name": "stderr",
     "output_type": "stream",
     "text": [
      "\n"
     ]
    },
    {
     "data": {
      "text/plain": [
       "PosixPath('/opt/data/data/phenomexcan/ld_blocks/en_gene_corrs/Heart_Atrial_Appendage/gene_corrs-Heart_Atrial_Appendage-chr14.pkl')"
      ]
     },
     "metadata": {},
     "output_type": "display_data"
    },
    {
     "name": "stdout",
     "output_type": "stream",
     "text": [
      "Tissue Heart_Left_Ventricle\n"
     ]
    },
    {
     "name": "stderr",
     "output_type": "stream",
     "text": [
      "100%|████████████████████████████████████████████████████████| 22155/22155 [00:28<00:00, 772.03it/s]"
     ]
    },
    {
     "name": "stdout",
     "output_type": "stream",
     "text": [
      "Min/max values: -0.7089942455594432 / 0.4835780162248107\n"
     ]
    },
    {
     "name": "stderr",
     "output_type": "stream",
     "text": [
      "\n"
     ]
    },
    {
     "data": {
      "text/plain": [
       "PosixPath('/opt/data/data/phenomexcan/ld_blocks/en_gene_corrs/Heart_Left_Ventricle/gene_corrs-Heart_Left_Ventricle-chr14.pkl')"
      ]
     },
     "metadata": {},
     "output_type": "display_data"
    },
    {
     "name": "stdout",
     "output_type": "stream",
     "text": [
      "Tissue Brain_Anterior_cingulate_cortex_BA24\n"
     ]
    },
    {
     "name": "stderr",
     "output_type": "stream",
     "text": [
      "100%|███████████████████████████████████████████████████████| 22155/22155 [00:08<00:00, 2666.24it/s]"
     ]
    },
    {
     "name": "stdout",
     "output_type": "stream",
     "text": [
      "Min/max values: -0.31979582732129513 / 0.13917862133146547\n"
     ]
    },
    {
     "name": "stderr",
     "output_type": "stream",
     "text": [
      "\n"
     ]
    },
    {
     "data": {
      "text/plain": [
       "PosixPath('/opt/data/data/phenomexcan/ld_blocks/en_gene_corrs/Brain_Anterior_cingulate_cortex_BA24/gene_corrs-Brain_Anterior_cingulate_cortex_BA24-chr14.pkl')"
      ]
     },
     "metadata": {},
     "output_type": "display_data"
    },
    {
     "name": "stdout",
     "output_type": "stream",
     "text": [
      "Tissue Nerve_Tibial\n"
     ]
    },
    {
     "name": "stderr",
     "output_type": "stream",
     "text": [
      "100%|████████████████████████████████████████████████████████| 22155/22155 [01:13<00:00, 299.41it/s]"
     ]
    },
    {
     "name": "stdout",
     "output_type": "stream",
     "text": [
      "Min/max values: -0.9817485814949081 / 0.9880984075830961\n"
     ]
    },
    {
     "name": "stderr",
     "output_type": "stream",
     "text": [
      "\n"
     ]
    },
    {
     "data": {
      "text/plain": [
       "PosixPath('/opt/data/data/phenomexcan/ld_blocks/en_gene_corrs/Nerve_Tibial/gene_corrs-Nerve_Tibial-chr14.pkl')"
      ]
     },
     "metadata": {},
     "output_type": "display_data"
    },
    {
     "name": "stdout",
     "output_type": "stream",
     "text": [
      "Tissue Prostate\n"
     ]
    },
    {
     "name": "stderr",
     "output_type": "stream",
     "text": [
      "100%|███████████████████████████████████████████████████████| 22155/22155 [00:10<00:00, 2108.43it/s]"
     ]
    },
    {
     "name": "stdout",
     "output_type": "stream",
     "text": [
      "Min/max values: -0.6993104457722239 / 0.670136923846312\n"
     ]
    },
    {
     "name": "stderr",
     "output_type": "stream",
     "text": [
      "\n"
     ]
    },
    {
     "data": {
      "text/plain": [
       "PosixPath('/opt/data/data/phenomexcan/ld_blocks/en_gene_corrs/Prostate/gene_corrs-Prostate-chr14.pkl')"
      ]
     },
     "metadata": {},
     "output_type": "display_data"
    },
    {
     "name": "stdout",
     "output_type": "stream",
     "text": [
      "Tissue Adrenal_Gland\n"
     ]
    },
    {
     "name": "stderr",
     "output_type": "stream",
     "text": [
      "100%|███████████████████████████████████████████████████████| 22155/22155 [00:19<00:00, 1126.40it/s]"
     ]
    },
    {
     "name": "stdout",
     "output_type": "stream",
     "text": [
      "Min/max values: -0.5977887794252666 / 0.9230842397733747\n"
     ]
    },
    {
     "name": "stderr",
     "output_type": "stream",
     "text": [
      "\n"
     ]
    },
    {
     "data": {
      "text/plain": [
       "PosixPath('/opt/data/data/phenomexcan/ld_blocks/en_gene_corrs/Adrenal_Gland/gene_corrs-Adrenal_Gland-chr14.pkl')"
      ]
     },
     "metadata": {},
     "output_type": "display_data"
    },
    {
     "name": "stdout",
     "output_type": "stream",
     "text": [
      "Tissue Minor_Salivary_Gland\n"
     ]
    },
    {
     "name": "stderr",
     "output_type": "stream",
     "text": [
      "100%|███████████████████████████████████████████████████████| 22155/22155 [00:10<00:00, 2059.74it/s]"
     ]
    },
    {
     "name": "stdout",
     "output_type": "stream",
     "text": [
      "Min/max values: -0.43116580013795125 / 0.6471897050887243\n"
     ]
    },
    {
     "name": "stderr",
     "output_type": "stream",
     "text": [
      "\n"
     ]
    },
    {
     "data": {
      "text/plain": [
       "PosixPath('/opt/data/data/phenomexcan/ld_blocks/en_gene_corrs/Minor_Salivary_Gland/gene_corrs-Minor_Salivary_Gland-chr14.pkl')"
      ]
     },
     "metadata": {},
     "output_type": "display_data"
    },
    {
     "name": "stdout",
     "output_type": "stream",
     "text": [
      "Tissue Testis\n"
     ]
    },
    {
     "name": "stderr",
     "output_type": "stream",
     "text": [
      "100%|████████████████████████████████████████████████████████| 22155/22155 [00:53<00:00, 412.63it/s]"
     ]
    },
    {
     "name": "stdout",
     "output_type": "stream",
     "text": [
      "Min/max values: -0.679030549388767 / 0.8983145477454056\n"
     ]
    },
    {
     "name": "stderr",
     "output_type": "stream",
     "text": [
      "\n"
     ]
    },
    {
     "data": {
      "text/plain": [
       "PosixPath('/opt/data/data/phenomexcan/ld_blocks/en_gene_corrs/Testis/gene_corrs-Testis-chr14.pkl')"
      ]
     },
     "metadata": {},
     "output_type": "display_data"
    },
    {
     "name": "stdout",
     "output_type": "stream",
     "text": [
      "Tissue Whole_Blood\n"
     ]
    },
    {
     "name": "stderr",
     "output_type": "stream",
     "text": [
      "100%|████████████████████████████████████████████████████████| 22155/22155 [01:02<00:00, 353.82it/s]"
     ]
    },
    {
     "name": "stdout",
     "output_type": "stream",
     "text": [
      "Min/max values: -0.7178146255183981 / 0.8868449167405378\n"
     ]
    },
    {
     "name": "stderr",
     "output_type": "stream",
     "text": [
      "\n"
     ]
    },
    {
     "data": {
      "text/plain": [
       "PosixPath('/opt/data/data/phenomexcan/ld_blocks/en_gene_corrs/Whole_Blood/gene_corrs-Whole_Blood-chr14.pkl')"
      ]
     },
     "metadata": {},
     "output_type": "display_data"
    },
    {
     "name": "stdout",
     "output_type": "stream",
     "text": [
      "Tissue Thyroid\n"
     ]
    },
    {
     "name": "stderr",
     "output_type": "stream",
     "text": [
      "100%|████████████████████████████████████████████████████████| 22155/22155 [01:19<00:00, 277.82it/s]"
     ]
    },
    {
     "name": "stdout",
     "output_type": "stream",
     "text": [
      "Min/max values: -0.9396239999756634 / 0.9318176921019309\n"
     ]
    },
    {
     "name": "stderr",
     "output_type": "stream",
     "text": [
      "\n"
     ]
    },
    {
     "data": {
      "text/plain": [
       "PosixPath('/opt/data/data/phenomexcan/ld_blocks/en_gene_corrs/Thyroid/gene_corrs-Thyroid-chr14.pkl')"
      ]
     },
     "metadata": {},
     "output_type": "display_data"
    },
    {
     "name": "stdout",
     "output_type": "stream",
     "text": [
      "Tissue Liver\n"
     ]
    },
    {
     "name": "stderr",
     "output_type": "stream",
     "text": [
      "100%|███████████████████████████████████████████████████████| 22155/22155 [00:11<00:00, 1860.70it/s]"
     ]
    },
    {
     "name": "stdout",
     "output_type": "stream",
     "text": [
      "Min/max values: -0.3242630842256536 / 0.7191540865414263\n"
     ]
    },
    {
     "name": "stderr",
     "output_type": "stream",
     "text": [
      "\n"
     ]
    },
    {
     "data": {
      "text/plain": [
       "PosixPath('/opt/data/data/phenomexcan/ld_blocks/en_gene_corrs/Liver/gene_corrs-Liver-chr14.pkl')"
      ]
     },
     "metadata": {},
     "output_type": "display_data"
    },
    {
     "name": "stdout",
     "output_type": "stream",
     "text": [
      "Tissue Pancreas\n"
     ]
    },
    {
     "name": "stderr",
     "output_type": "stream",
     "text": [
      "100%|████████████████████████████████████████████████████████| 22155/22155 [00:29<00:00, 744.23it/s]"
     ]
    },
    {
     "name": "stdout",
     "output_type": "stream",
     "text": [
      "Min/max values: -0.7405460204483918 / 0.9232053284625168\n"
     ]
    },
    {
     "name": "stderr",
     "output_type": "stream",
     "text": [
      "\n"
     ]
    },
    {
     "data": {
      "text/plain": [
       "PosixPath('/opt/data/data/phenomexcan/ld_blocks/en_gene_corrs/Pancreas/gene_corrs-Pancreas-chr14.pkl')"
      ]
     },
     "metadata": {},
     "output_type": "display_data"
    },
    {
     "name": "stdout",
     "output_type": "stream",
     "text": [
      "Tissue Kidney_Cortex\n"
     ]
    },
    {
     "name": "stderr",
     "output_type": "stream",
     "text": [
      "100%|███████████████████████████████████████████████████████| 22155/22155 [00:03<00:00, 5752.66it/s]"
     ]
    },
    {
     "name": "stdout",
     "output_type": "stream",
     "text": [
      "Min/max values: -0.07933546366321888 / 0.08267716117767267\n"
     ]
    },
    {
     "name": "stderr",
     "output_type": "stream",
     "text": [
      "\n"
     ]
    },
    {
     "data": {
      "text/plain": [
       "PosixPath('/opt/data/data/phenomexcan/ld_blocks/en_gene_corrs/Kidney_Cortex/gene_corrs-Kidney_Cortex-chr14.pkl')"
      ]
     },
     "metadata": {},
     "output_type": "display_data"
    },
    {
     "name": "stdout",
     "output_type": "stream",
     "text": [
      "Tissue Small_Intestine_Terminal_Ileum\n"
     ]
    },
    {
     "name": "stderr",
     "output_type": "stream",
     "text": [
      "100%|███████████████████████████████████████████████████████| 22155/22155 [00:10<00:00, 2210.10it/s]"
     ]
    },
    {
     "name": "stdout",
     "output_type": "stream",
     "text": [
      "Min/max values: -0.6603487342907659 / 0.33609663760076736\n"
     ]
    },
    {
     "name": "stderr",
     "output_type": "stream",
     "text": [
      "\n"
     ]
    },
    {
     "data": {
      "text/plain": [
       "PosixPath('/opt/data/data/phenomexcan/ld_blocks/en_gene_corrs/Small_Intestine_Terminal_Ileum/gene_corrs-Small_Intestine_Terminal_Ileum-chr14.pkl')"
      ]
     },
     "metadata": {},
     "output_type": "display_data"
    },
    {
     "name": "stdout",
     "output_type": "stream",
     "text": [
      "Tissue Artery_Coronary\n"
     ]
    },
    {
     "name": "stderr",
     "output_type": "stream",
     "text": [
      "100%|███████████████████████████████████████████████████████| 22155/22155 [00:11<00:00, 1875.38it/s]"
     ]
    },
    {
     "name": "stdout",
     "output_type": "stream",
     "text": [
      "Min/max values: -0.5975404976199474 / 0.3249595371798224\n"
     ]
    },
    {
     "name": "stderr",
     "output_type": "stream",
     "text": [
      "\n"
     ]
    },
    {
     "data": {
      "text/plain": [
       "PosixPath('/opt/data/data/phenomexcan/ld_blocks/en_gene_corrs/Artery_Coronary/gene_corrs-Artery_Coronary-chr14.pkl')"
      ]
     },
     "metadata": {},
     "output_type": "display_data"
    },
    {
     "name": "stdout",
     "output_type": "stream",
     "text": [
      "Tissue Brain_Cerebellar_Hemisphere\n"
     ]
    },
    {
     "name": "stderr",
     "output_type": "stream",
     "text": [
      "100%|████████████████████████████████████████████████████████| 22155/22155 [00:34<00:00, 648.85it/s]"
     ]
    },
    {
     "name": "stdout",
     "output_type": "stream",
     "text": [
      "Min/max values: -0.5806815901879003 / 0.8009219695614685\n"
     ]
    },
    {
     "name": "stderr",
     "output_type": "stream",
     "text": [
      "\n"
     ]
    },
    {
     "data": {
      "text/plain": [
       "PosixPath('/opt/data/data/phenomexcan/ld_blocks/en_gene_corrs/Brain_Cerebellar_Hemisphere/gene_corrs-Brain_Cerebellar_Hemisphere-chr14.pkl')"
      ]
     },
     "metadata": {},
     "output_type": "display_data"
    },
    {
     "name": "stdout",
     "output_type": "stream",
     "text": [
      "Tissue Cells_EBV-transformed_lymphocytes\n"
     ]
    },
    {
     "name": "stderr",
     "output_type": "stream",
     "text": [
      "100%|███████████████████████████████████████████████████████| 22155/22155 [00:10<00:00, 2131.58it/s]\n"
     ]
    },
    {
     "name": "stdout",
     "output_type": "stream",
     "text": [
      "Min/max values: -0.35967440147729823 / 0.6055759012159646\n"
     ]
    },
    {
     "data": {
      "text/plain": [
       "PosixPath('/opt/data/data/phenomexcan/ld_blocks/en_gene_corrs/Cells_EBV-transformed_lymphocytes/gene_corrs-Cells_EBV-transformed_lymphocytes-chr14.pkl')"
      ]
     },
     "metadata": {},
     "output_type": "display_data"
    },
    {
     "name": "stdout",
     "output_type": "stream",
     "text": [
      "Tissue Brain_Spinal_cord_cervical_c-1\n"
     ]
    },
    {
     "name": "stderr",
     "output_type": "stream",
     "text": [
      "100%|███████████████████████████████████████████████████████| 22155/22155 [00:06<00:00, 3350.32it/s]"
     ]
    },
    {
     "name": "stdout",
     "output_type": "stream",
     "text": [
      "Min/max values: -0.12447924419040572 / 0.29969589800476887\n"
     ]
    },
    {
     "name": "stderr",
     "output_type": "stream",
     "text": [
      "\n"
     ]
    },
    {
     "data": {
      "text/plain": [
       "PosixPath('/opt/data/data/phenomexcan/ld_blocks/en_gene_corrs/Brain_Spinal_cord_cervical_c-1/gene_corrs-Brain_Spinal_cord_cervical_c-1-chr14.pkl')"
      ]
     },
     "metadata": {},
     "output_type": "display_data"
    },
    {
     "name": "stdout",
     "output_type": "stream",
     "text": [
      "Tissue Adipose_Visceral_Omentum\n"
     ]
    },
    {
     "name": "stderr",
     "output_type": "stream",
     "text": [
      "100%|████████████████████████████████████████████████████████| 22155/22155 [00:39<00:00, 561.81it/s]"
     ]
    },
    {
     "name": "stdout",
     "output_type": "stream",
     "text": [
      "Min/max values: -0.6529140994201913 / 0.9674634223498164\n"
     ]
    },
    {
     "name": "stderr",
     "output_type": "stream",
     "text": [
      "\n"
     ]
    },
    {
     "data": {
      "text/plain": [
       "PosixPath('/opt/data/data/phenomexcan/ld_blocks/en_gene_corrs/Adipose_Visceral_Omentum/gene_corrs-Adipose_Visceral_Omentum-chr14.pkl')"
      ]
     },
     "metadata": {},
     "output_type": "display_data"
    },
    {
     "name": "stdout",
     "output_type": "stream",
     "text": [
      "Tissue Brain_Amygdala\n"
     ]
    },
    {
     "name": "stderr",
     "output_type": "stream",
     "text": [
      "100%|███████████████████████████████████████████████████████| 22155/22155 [00:05<00:00, 4263.86it/s]"
     ]
    },
    {
     "name": "stdout",
     "output_type": "stream",
     "text": [
      "Min/max values: -0.11730405236605576 / 0.15777612649323094\n"
     ]
    },
    {
     "name": "stderr",
     "output_type": "stream",
     "text": [
      "\n"
     ]
    },
    {
     "data": {
      "text/plain": [
       "PosixPath('/opt/data/data/phenomexcan/ld_blocks/en_gene_corrs/Brain_Amygdala/gene_corrs-Brain_Amygdala-chr14.pkl')"
      ]
     },
     "metadata": {},
     "output_type": "display_data"
    },
    {
     "name": "stdout",
     "output_type": "stream",
     "text": [
      "Tissue Adipose_Subcutaneous\n"
     ]
    },
    {
     "name": "stderr",
     "output_type": "stream",
     "text": [
      "100%|████████████████████████████████████████████████████████| 22155/22155 [00:59<00:00, 371.62it/s]"
     ]
    },
    {
     "name": "stdout",
     "output_type": "stream",
     "text": [
      "Min/max values: -0.672242661786447 / 0.9491063163322178\n"
     ]
    },
    {
     "name": "stderr",
     "output_type": "stream",
     "text": [
      "\n"
     ]
    },
    {
     "data": {
      "text/plain": [
       "PosixPath('/opt/data/data/phenomexcan/ld_blocks/en_gene_corrs/Adipose_Subcutaneous/gene_corrs-Adipose_Subcutaneous-chr14.pkl')"
      ]
     },
     "metadata": {},
     "output_type": "display_data"
    },
    {
     "name": "stdout",
     "output_type": "stream",
     "text": [
      "Tissue Spleen\n"
     ]
    },
    {
     "name": "stderr",
     "output_type": "stream",
     "text": [
      "100%|████████████████████████████████████████████████████████| 22155/22155 [00:27<00:00, 803.53it/s]"
     ]
    },
    {
     "name": "stdout",
     "output_type": "stream",
     "text": [
      "Min/max values: -0.7701749220475076 / 0.6686559798428068\n"
     ]
    },
    {
     "name": "stderr",
     "output_type": "stream",
     "text": [
      "\n"
     ]
    },
    {
     "data": {
      "text/plain": [
       "PosixPath('/opt/data/data/phenomexcan/ld_blocks/en_gene_corrs/Spleen/gene_corrs-Spleen-chr14.pkl')"
      ]
     },
     "metadata": {},
     "output_type": "display_data"
    },
    {
     "name": "stdout",
     "output_type": "stream",
     "text": [
      "Tissue Muscle_Skeletal\n"
     ]
    },
    {
     "name": "stderr",
     "output_type": "stream",
     "text": [
      "100%|████████████████████████████████████████████████████████| 22155/22155 [00:43<00:00, 504.46it/s]"
     ]
    },
    {
     "name": "stdout",
     "output_type": "stream",
     "text": [
      "Min/max values: -0.7153598186322381 / 0.7600568554780881\n"
     ]
    },
    {
     "name": "stderr",
     "output_type": "stream",
     "text": [
      "\n"
     ]
    },
    {
     "data": {
      "text/plain": [
       "PosixPath('/opt/data/data/phenomexcan/ld_blocks/en_gene_corrs/Muscle_Skeletal/gene_corrs-Muscle_Skeletal-chr14.pkl')"
      ]
     },
     "metadata": {},
     "output_type": "display_data"
    },
    {
     "name": "stdout",
     "output_type": "stream",
     "text": [
      "Tissue Skin_Sun_Exposed_Lower_leg\n"
     ]
    },
    {
     "name": "stderr",
     "output_type": "stream",
     "text": [
      "100%|████████████████████████████████████████████████████████| 22155/22155 [01:16<00:00, 289.55it/s]"
     ]
    },
    {
     "name": "stdout",
     "output_type": "stream",
     "text": [
      "Min/max values: -0.836555675663862 / 0.9698169639211499\n"
     ]
    },
    {
     "name": "stderr",
     "output_type": "stream",
     "text": [
      "\n"
     ]
    },
    {
     "data": {
      "text/plain": [
       "PosixPath('/opt/data/data/phenomexcan/ld_blocks/en_gene_corrs/Skin_Sun_Exposed_Lower_leg/gene_corrs-Skin_Sun_Exposed_Lower_leg-chr14.pkl')"
      ]
     },
     "metadata": {},
     "output_type": "display_data"
    },
    {
     "name": "stdout",
     "output_type": "stream",
     "text": [
      "Tissue Brain_Substantia_nigra\n"
     ]
    },
    {
     "name": "stderr",
     "output_type": "stream",
     "text": [
      "100%|███████████████████████████████████████████████████████| 22155/22155 [00:05<00:00, 4226.82it/s]"
     ]
    },
    {
     "name": "stdout",
     "output_type": "stream",
     "text": [
      "Min/max values: -0.6350685349502658 / 0.09909056503412397\n"
     ]
    },
    {
     "name": "stderr",
     "output_type": "stream",
     "text": [
      "\n"
     ]
    },
    {
     "data": {
      "text/plain": [
       "PosixPath('/opt/data/data/phenomexcan/ld_blocks/en_gene_corrs/Brain_Substantia_nigra/gene_corrs-Brain_Substantia_nigra-chr14.pkl')"
      ]
     },
     "metadata": {},
     "output_type": "display_data"
    },
    {
     "name": "stdout",
     "output_type": "stream",
     "text": [
      "Tissue Artery_Aorta\n"
     ]
    },
    {
     "name": "stderr",
     "output_type": "stream",
     "text": [
      "100%|████████████████████████████████████████████████████████| 22155/22155 [00:45<00:00, 488.81it/s]"
     ]
    },
    {
     "name": "stdout",
     "output_type": "stream",
     "text": [
      "Min/max values: -0.701361756604879 / 0.568474859130643\n"
     ]
    },
    {
     "name": "stderr",
     "output_type": "stream",
     "text": [
      "\n"
     ]
    },
    {
     "data": {
      "text/plain": [
       "PosixPath('/opt/data/data/phenomexcan/ld_blocks/en_gene_corrs/Artery_Aorta/gene_corrs-Artery_Aorta-chr14.pkl')"
      ]
     },
     "metadata": {},
     "output_type": "display_data"
    },
    {
     "name": "stdout",
     "output_type": "stream",
     "text": [
      "Tissue Ovary\n"
     ]
    },
    {
     "name": "stderr",
     "output_type": "stream",
     "text": [
      "100%|███████████████████████████████████████████████████████| 22155/22155 [00:12<00:00, 1798.33it/s]"
     ]
    },
    {
     "name": "stdout",
     "output_type": "stream",
     "text": [
      "Min/max values: -0.5628096041355752 / 0.6397838813493826\n"
     ]
    },
    {
     "name": "stderr",
     "output_type": "stream",
     "text": [
      "\n"
     ]
    },
    {
     "data": {
      "text/plain": [
       "PosixPath('/opt/data/data/phenomexcan/ld_blocks/en_gene_corrs/Ovary/gene_corrs-Ovary-chr14.pkl')"
      ]
     },
     "metadata": {},
     "output_type": "display_data"
    },
    {
     "name": "stdout",
     "output_type": "stream",
     "text": [
      "Tissue Pituitary\n"
     ]
    },
    {
     "name": "stderr",
     "output_type": "stream",
     "text": [
      "100%|███████████████████████████████████████████████████████| 22155/22155 [00:20<00:00, 1100.00it/s]"
     ]
    },
    {
     "name": "stdout",
     "output_type": "stream",
     "text": [
      "Min/max values: -0.9063340304041989 / 0.8583893721162058\n"
     ]
    },
    {
     "name": "stderr",
     "output_type": "stream",
     "text": [
      "\n"
     ]
    },
    {
     "data": {
      "text/plain": [
       "PosixPath('/opt/data/data/phenomexcan/ld_blocks/en_gene_corrs/Pituitary/gene_corrs-Pituitary-chr14.pkl')"
      ]
     },
     "metadata": {},
     "output_type": "display_data"
    },
    {
     "name": "stdout",
     "output_type": "stream",
     "text": [
      "Tissue Uterus\n"
     ]
    },
    {
     "name": "stderr",
     "output_type": "stream",
     "text": [
      "100%|███████████████████████████████████████████████████████| 22155/22155 [00:09<00:00, 2408.56it/s]"
     ]
    },
    {
     "name": "stdout",
     "output_type": "stream",
     "text": [
      "Min/max values: -0.2679264868439203 / 0.2698149019014807\n"
     ]
    },
    {
     "name": "stderr",
     "output_type": "stream",
     "text": [
      "\n"
     ]
    },
    {
     "data": {
      "text/plain": [
       "PosixPath('/opt/data/data/phenomexcan/ld_blocks/en_gene_corrs/Uterus/gene_corrs-Uterus-chr14.pkl')"
      ]
     },
     "metadata": {},
     "output_type": "display_data"
    },
    {
     "name": "stdout",
     "output_type": "stream",
     "text": [
      "Tissue Brain_Cortex\n"
     ]
    },
    {
     "name": "stderr",
     "output_type": "stream",
     "text": [
      "100%|███████████████████████████████████████████████████████| 22155/22155 [00:19<00:00, 1113.32it/s]"
     ]
    },
    {
     "name": "stdout",
     "output_type": "stream",
     "text": [
      "Min/max values: -0.5690238292795134 / 0.5898696225233542\n"
     ]
    },
    {
     "name": "stderr",
     "output_type": "stream",
     "text": [
      "\n"
     ]
    },
    {
     "data": {
      "text/plain": [
       "PosixPath('/opt/data/data/phenomexcan/ld_blocks/en_gene_corrs/Brain_Cortex/gene_corrs-Brain_Cortex-chr14.pkl')"
      ]
     },
     "metadata": {},
     "output_type": "display_data"
    }
   ],
   "source": [
    "all_chrs = genes_info[\"chr\"].dropna().unique()\n",
    "assert all_chrs.shape[0] == 22\n",
    "\n",
    "if chromosome != \"all\":\n",
    "    chromosome = str(chromosome)\n",
    "    assert chromosome in all_chrs\n",
    "\n",
    "    # run only on the chromosome specified\n",
    "    all_chrs = [chromosome]\n",
    "\n",
    "# # For testing purposes\n",
    "# all_chrs = [\"13\"]\n",
    "# tissues = [\"Whole_Blood\"]\n",
    "# genes_info = genes_info[genes_info[\"id\"].isin([\"ENSG00000134871\", \"ENSG00000187498\", \"ENSG00000183087\", \"ENSG00000073910\"])]\n",
    "\n",
    "for chr_num in all_chrs:\n",
    "    print(f\"Chromosome {chr_num}\", flush=True)\n",
    "\n",
    "    genes_chr = genes_info[genes_info[\"chr\"] == chr_num]\n",
    "    print(f\"Genes in chromosome{genes_chr.shape}\", flush=True)\n",
    "\n",
    "    gene_chr_objs = [Gene(ensembl_id=gene_id) for gene_id in genes_chr[\"id\"]]\n",
    "    gene_chr_ids = [g.ensembl_id for g in gene_chr_objs]\n",
    "\n",
    "    n = len(gene_chr_objs)\n",
    "    n_comb = int(n * (n - 1) / 2.0)\n",
    "    print(f\"Number of gene combinations: {n_comb}\", flush=True)\n",
    "\n",
    "    for tissue in tissues:\n",
    "        print(f\"Tissue {tissue}\", flush=True)\n",
    "\n",
    "        # check if results exist\n",
    "        output_dir = (\n",
    "            conf.PHENOMEXCAN[\"LD_BLOCKS\"][\"BASE_DIR\"]\n",
    "            / f\"{EQTL_MODEL_FILES_PREFIX}gene_corrs\"\n",
    "            / tissue\n",
    "        )\n",
    "        output_file = output_dir / f\"gene_corrs-{tissue}-chr{chr_num}.pkl\"\n",
    "\n",
    "        if output_file.exists():\n",
    "            _tmp_data = pd.read_pickle(output_file)\n",
    "\n",
    "            if _tmp_data.shape[0] > 0:\n",
    "                print(\"Already run, stopping.\")\n",
    "                continue\n",
    "\n",
    "        gene_corrs = []\n",
    "\n",
    "        pbar = tqdm(ncols=100, total=n_comb)\n",
    "        i = 0\n",
    "        for gene_idx1 in range(0, len(gene_chr_objs) - 1):\n",
    "            gene_obj1 = gene_chr_objs[gene_idx1]\n",
    "\n",
    "            for gene_idx2 in range(gene_idx1 + 1, len(gene_chr_objs)):\n",
    "                gene_obj2 = gene_chr_objs[gene_idx2]\n",
    "\n",
    "                gene_corrs.append(\n",
    "                    gene_obj1.get_expression_correlation(\n",
    "                        gene_obj2, tissue, model_type=EQTL_MODEL\n",
    "                    )\n",
    "                )\n",
    "\n",
    "                pbar.update(1)\n",
    "\n",
    "        pbar.close()\n",
    "\n",
    "        # testing\n",
    "        gene_corrs_flat = pd.Series(gene_corrs)\n",
    "        print(f\"Min/max values: {gene_corrs_flat.min()} / {gene_corrs_flat.max()}\")\n",
    "        assert gene_corrs_flat.min() >= -1.001\n",
    "        assert gene_corrs_flat.max() <= 1.001\n",
    "\n",
    "        # save\n",
    "        # FIXME: consider saving only the condenced matrix here. See here for\n",
    "        # more details: https://github.com/greenelab/phenoplier/pull/38#discussion_r634600813\n",
    "        gene_corrs_data = squareform(np.array(gene_corrs, dtype=np.float32))\n",
    "        np.fill_diagonal(gene_corrs_data, 1.0)\n",
    "\n",
    "        gene_corrs_df = pd.DataFrame(\n",
    "            data=gene_corrs_data,\n",
    "            index=gene_chr_ids,\n",
    "            columns=gene_chr_ids,\n",
    "        )\n",
    "\n",
    "        output_dir.mkdir(exist_ok=True, parents=True)\n",
    "        display(output_file)\n",
    "\n",
    "        gene_corrs_df.to_pickle(output_file)"
   ]
  },
  {
   "cell_type": "markdown",
   "id": "eab5a00b",
   "metadata": {
    "papermill": {
     "duration": 1.496393,
     "end_time": "2022-02-28T15:42:11.049468",
     "exception": false,
     "start_time": "2022-02-28T15:42:09.553075",
     "status": "completed"
    },
    "tags": []
   },
   "source": [
    "# Testing"
   ]
  },
  {
   "cell_type": "code",
   "execution_count": 25,
   "id": "7803c342",
   "metadata": {
    "execution": {
     "iopub.execute_input": "2022-02-28T15:42:13.902785Z",
     "iopub.status.busy": "2022-02-28T15:42:13.902166Z",
     "iopub.status.idle": "2022-02-28T15:42:13.932051Z",
     "shell.execute_reply": "2022-02-28T15:42:13.931502Z"
    },
    "papermill": {
     "duration": 1.461632,
     "end_time": "2022-02-28T15:42:13.933759",
     "exception": false,
     "start_time": "2022-02-28T15:42:12.472127",
     "status": "completed"
    },
    "tags": []
   },
   "outputs": [],
   "source": [
    "# data = pd.read_pickle(\n",
    "#     conf.PHENOMEXCAN[\"LD_BLOCKS\"][\"BASE_DIR\"] / \"gene_corrs\" / \"Whole_Blood\" / \"gene_corrs-Whole_Blood-chr13.pkl\"\n",
    "# )"
   ]
  },
  {
   "cell_type": "code",
   "execution_count": 26,
   "id": "d8e42e9e",
   "metadata": {
    "execution": {
     "iopub.execute_input": "2022-02-28T15:42:16.815612Z",
     "iopub.status.busy": "2022-02-28T15:42:16.815407Z",
     "iopub.status.idle": "2022-02-28T15:42:16.830894Z",
     "shell.execute_reply": "2022-02-28T15:42:16.830265Z"
    },
    "papermill": {
     "duration": 1.463142,
     "end_time": "2022-02-28T15:42:16.832509",
     "exception": false,
     "start_time": "2022-02-28T15:42:15.369367",
     "status": "completed"
    },
    "tags": []
   },
   "outputs": [],
   "source": [
    "# assert data.loc[\"ENSG00000134871\", \"ENSG00000187498\"] > 0.97"
   ]
  },
  {
   "cell_type": "code",
   "execution_count": null,
   "id": "43918bdb",
   "metadata": {
    "papermill": {
     "duration": 1.480905,
     "end_time": "2022-02-28T15:42:19.774286",
     "exception": false,
     "start_time": "2022-02-28T15:42:18.293381",
     "status": "completed"
    },
    "tags": []
   },
   "outputs": [],
   "source": []
  }
 ],
 "metadata": {
  "jupytext": {
   "cell_metadata_filter": "all,-execution,-papermill,-trusted",
   "formats": "ipynb,py//py:percent"
  },
  "kernelspec": {
   "display_name": "Python 3 (ipykernel)",
   "language": "python",
   "name": "python3"
  },
  "language_info": {
   "codemirror_mode": {
    "name": "ipython",
    "version": 3
   },
   "file_extension": ".py",
   "mimetype": "text/x-python",
   "name": "python",
   "nbconvert_exporter": "python",
   "pygments_lexer": "ipython3",
   "version": "3.8.12"
  },
  "papermill": {
   "default_parameters": {},
   "duration": 1502.971041,
   "end_time": "2022-02-28T15:42:21.544065",
   "environment_variables": {},
   "exception": null,
   "input_path": "nbs/15_gsa_gls/10-gene_expr_correlations.ipynb",
   "output_path": "nbs/15_gsa_gls/en_gene_corrs/10-gene_expr_correlations-chr14.run.ipynb",
   "parameters": {
    "EQTL_MODEL": "ELASTIC_NET",
    "chromosome": 14
   },
   "start_time": "2022-02-28T15:17:18.573024",
   "version": "2.2.2"
  }
 },
 "nbformat": 4,
 "nbformat_minor": 5
}
