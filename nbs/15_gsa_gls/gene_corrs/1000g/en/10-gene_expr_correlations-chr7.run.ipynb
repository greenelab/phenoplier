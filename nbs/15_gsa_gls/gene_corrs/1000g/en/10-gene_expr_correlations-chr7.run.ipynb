{
 "cells": [
  {
   "cell_type": "markdown",
   "id": "94cc4ea0",
   "metadata": {
    "papermill": {
     "duration": 0.050763,
     "end_time": "2022-02-28T14:11:27.852538",
     "exception": false,
     "start_time": "2022-02-28T14:11:27.801775",
     "status": "completed"
    },
    "tags": []
   },
   "source": [
    "# Description"
   ]
  },
  {
   "cell_type": "markdown",
   "id": "5faaa1e2",
   "metadata": {
    "papermill": {
     "duration": 0.018648,
     "end_time": "2022-02-28T14:11:27.890632",
     "exception": false,
     "start_time": "2022-02-28T14:11:27.871984",
     "status": "completed"
    },
    "tags": []
   },
   "source": [
    "This notebook computes predicted expression correlations between all genes in the MultiPLIER models.\n",
    "\n",
    "It also has a parameter set for papermill to run on a single chromosome to run in parallel (see under `Settings` below).\n",
    "\n",
    "This notebook does not have an output because it is not directly run. If you want to see outputs for each chromosome, check out the `gene_corrs` folder, which contains a copy of this notebook for each chromosome."
   ]
  },
  {
   "cell_type": "markdown",
   "id": "dc309e70",
   "metadata": {
    "papermill": {
     "duration": 0.019145,
     "end_time": "2022-02-28T14:11:27.928828",
     "exception": false,
     "start_time": "2022-02-28T14:11:27.909683",
     "status": "completed"
    },
    "tags": []
   },
   "source": [
    "# Modules"
   ]
  },
  {
   "cell_type": "code",
   "execution_count": 1,
   "id": "43913724",
   "metadata": {
    "execution": {
     "iopub.execute_input": "2022-02-28T14:11:27.970337Z",
     "iopub.status.busy": "2022-02-28T14:11:27.970082Z",
     "iopub.status.idle": "2022-02-28T14:11:27.986334Z",
     "shell.execute_reply": "2022-02-28T14:11:27.985780Z"
    },
    "papermill": {
     "duration": 0.039655,
     "end_time": "2022-02-28T14:11:27.987926",
     "exception": false,
     "start_time": "2022-02-28T14:11:27.948271",
     "status": "completed"
    },
    "tags": []
   },
   "outputs": [],
   "source": [
    "%load_ext autoreload\n",
    "%autoreload 2"
   ]
  },
  {
   "cell_type": "code",
   "execution_count": 2,
   "id": "f853fabe",
   "metadata": {
    "execution": {
     "iopub.execute_input": "2022-02-28T14:11:28.029630Z",
     "iopub.status.busy": "2022-02-28T14:11:28.028924Z",
     "iopub.status.idle": "2022-02-28T14:11:28.623625Z",
     "shell.execute_reply": "2022-02-28T14:11:28.623051Z"
    },
    "papermill": {
     "duration": 0.616961,
     "end_time": "2022-02-28T14:11:28.625136",
     "exception": false,
     "start_time": "2022-02-28T14:11:28.008175",
     "status": "completed"
    },
    "tags": []
   },
   "outputs": [],
   "source": [
    "import numpy as np\n",
    "from scipy.spatial.distance import squareform\n",
    "import pandas as pd\n",
    "from tqdm import tqdm\n",
    "\n",
    "import conf\n",
    "from entity import Gene"
   ]
  },
  {
   "cell_type": "markdown",
   "id": "1188ecb0",
   "metadata": {
    "papermill": {
     "duration": 0.023044,
     "end_time": "2022-02-28T14:11:28.671123",
     "exception": false,
     "start_time": "2022-02-28T14:11:28.648079",
     "status": "completed"
    },
    "tags": []
   },
   "source": [
    "# Settings"
   ]
  },
  {
   "cell_type": "code",
   "execution_count": 3,
   "id": "efc384fc",
   "metadata": {
    "execution": {
     "iopub.execute_input": "2022-02-28T14:11:28.718193Z",
     "iopub.status.busy": "2022-02-28T14:11:28.717727Z",
     "iopub.status.idle": "2022-02-28T14:11:28.731114Z",
     "shell.execute_reply": "2022-02-28T14:11:28.730577Z"
    },
    "papermill": {
     "duration": 0.038231,
     "end_time": "2022-02-28T14:11:28.732586",
     "exception": false,
     "start_time": "2022-02-28T14:11:28.694355",
     "status": "completed"
    },
    "tags": [
     "parameters"
    ]
   },
   "outputs": [],
   "source": [
    "# mashr\n",
    "EQTL_MODEL = \"MASHR\"\n",
    "EQTL_MODEL_FILES_PREFIX = \"mashr_\"\n",
    "\n",
    "# # elastic net\n",
    "# EQTL_MODEL = \"ELASTIC_NET\"\n",
    "# EQTL_MODEL_FILES_PREFIX = \"en_\"\n",
    "\n",
    "# make it read the prefix from conf.py\n",
    "EQTL_MODEL_FILES_PREFIX = None\n",
    "\n",
    "# specifies a single chromosome value\n",
    "# by default, run on all chromosomes\n",
    "chromosome = \"all\""
   ]
  },
  {
   "cell_type": "code",
   "execution_count": 4,
   "id": "f7ec0518",
   "metadata": {
    "execution": {
     "iopub.execute_input": "2022-02-28T14:11:28.775363Z",
     "iopub.status.busy": "2022-02-28T14:11:28.774605Z",
     "iopub.status.idle": "2022-02-28T14:11:28.787961Z",
     "shell.execute_reply": "2022-02-28T14:11:28.787416Z"
    },
    "papermill": {
     "duration": 0.036133,
     "end_time": "2022-02-28T14:11:28.789452",
     "exception": false,
     "start_time": "2022-02-28T14:11:28.753319",
     "status": "completed"
    },
    "tags": [
     "injected-parameters"
    ]
   },
   "outputs": [],
   "source": [
    "# Parameters\n",
    "chromosome = 7\n",
    "EQTL_MODEL = \"ELASTIC_NET\"\n"
   ]
  },
  {
   "cell_type": "code",
   "execution_count": 5,
   "id": "6273f87b",
   "metadata": {
    "execution": {
     "iopub.execute_input": "2022-02-28T14:11:28.834913Z",
     "iopub.status.busy": "2022-02-28T14:11:28.834713Z",
     "iopub.status.idle": "2022-02-28T14:11:28.848229Z",
     "shell.execute_reply": "2022-02-28T14:11:28.847798Z"
    },
    "papermill": {
     "duration": 0.037533,
     "end_time": "2022-02-28T14:11:28.849691",
     "exception": false,
     "start_time": "2022-02-28T14:11:28.812158",
     "status": "completed"
    },
    "tags": []
   },
   "outputs": [],
   "source": [
    "if EQTL_MODEL_FILES_PREFIX is None:\n",
    "    EQTL_MODEL_FILES_PREFIX = conf.PHENOMEXCAN[\"PREDICTION_MODELS_PREFIXES\"][EQTL_MODEL]"
   ]
  },
  {
   "cell_type": "code",
   "execution_count": 6,
   "id": "c5dbb802",
   "metadata": {
    "execution": {
     "iopub.execute_input": "2022-02-28T14:11:28.893481Z",
     "iopub.status.busy": "2022-02-28T14:11:28.893036Z",
     "iopub.status.idle": "2022-02-28T14:11:28.911335Z",
     "shell.execute_reply": "2022-02-28T14:11:28.910922Z"
    },
    "papermill": {
     "duration": 0.041427,
     "end_time": "2022-02-28T14:11:28.912695",
     "exception": false,
     "start_time": "2022-02-28T14:11:28.871268",
     "status": "completed"
    },
    "tags": []
   },
   "outputs": [
    {
     "data": {
      "text/plain": [
       "'Using eQTL model: ELASTIC_NET / en_'"
      ]
     },
     "metadata": {},
     "output_type": "display_data"
    }
   ],
   "source": [
    "display(f\"Using eQTL model: {EQTL_MODEL} / {EQTL_MODEL_FILES_PREFIX}\")"
   ]
  },
  {
   "cell_type": "code",
   "execution_count": 7,
   "id": "7ea885ec",
   "metadata": {
    "execution": {
     "iopub.execute_input": "2022-02-28T14:11:28.957859Z",
     "iopub.status.busy": "2022-02-28T14:11:28.957681Z",
     "iopub.status.idle": "2022-02-28T14:11:28.970962Z",
     "shell.execute_reply": "2022-02-28T14:11:28.970448Z"
    },
    "papermill": {
     "duration": 0.037034,
     "end_time": "2022-02-28T14:11:28.972387",
     "exception": false,
     "start_time": "2022-02-28T14:11:28.935353",
     "status": "completed"
    },
    "tags": []
   },
   "outputs": [],
   "source": [
    "if chromosome == \"all\":\n",
    "    from time import sleep\n",
    "\n",
    "    message = \"\"\"\n",
    "    WARNING: you are going to compute correlations of gene predicted expression across all chromosomes without parallelism.\n",
    "    It is recommended that you look at the README.md file in this subfolder (nbs/08_gsa_gls/README.md) to know how to do that.\n",
    "    \n",
    "    It will continue in 20 seconds.\n",
    "    \"\"\"\n",
    "    print(message)\n",
    "    sleep(20)"
   ]
  },
  {
   "cell_type": "markdown",
   "id": "2aae4936",
   "metadata": {
    "papermill": {
     "duration": 0.021572,
     "end_time": "2022-02-28T14:11:29.016131",
     "exception": false,
     "start_time": "2022-02-28T14:11:28.994559",
     "status": "completed"
    },
    "tags": []
   },
   "source": [
    "# Load data"
   ]
  },
  {
   "cell_type": "markdown",
   "id": "24e10368",
   "metadata": {
    "papermill": {
     "duration": 0.021788,
     "end_time": "2022-02-28T14:11:29.059294",
     "exception": false,
     "start_time": "2022-02-28T14:11:29.037506",
     "status": "completed"
    },
    "tags": []
   },
   "source": [
    "## MultiPLIER Z"
   ]
  },
  {
   "cell_type": "code",
   "execution_count": 8,
   "id": "df154b08",
   "metadata": {
    "execution": {
     "iopub.execute_input": "2022-02-28T14:11:29.103355Z",
     "iopub.status.busy": "2022-02-28T14:11:29.102747Z",
     "iopub.status.idle": "2022-02-28T14:11:29.139826Z",
     "shell.execute_reply": "2022-02-28T14:11:29.139324Z"
    },
    "papermill": {
     "duration": 0.060708,
     "end_time": "2022-02-28T14:11:29.141291",
     "exception": false,
     "start_time": "2022-02-28T14:11:29.080583",
     "status": "completed"
    },
    "tags": []
   },
   "outputs": [],
   "source": [
    "multiplier_z_genes = pd.read_pickle(\n",
    "    conf.MULTIPLIER[\"MODEL_Z_MATRIX_FILE\"]\n",
    ").index.tolist()"
   ]
  },
  {
   "cell_type": "code",
   "execution_count": 9,
   "id": "9919b407",
   "metadata": {
    "execution": {
     "iopub.execute_input": "2022-02-28T14:11:29.185943Z",
     "iopub.status.busy": "2022-02-28T14:11:29.185698Z",
     "iopub.status.idle": "2022-02-28T14:11:29.199589Z",
     "shell.execute_reply": "2022-02-28T14:11:29.199100Z"
    },
    "papermill": {
     "duration": 0.037695,
     "end_time": "2022-02-28T14:11:29.200905",
     "exception": false,
     "start_time": "2022-02-28T14:11:29.163210",
     "status": "completed"
    },
    "tags": []
   },
   "outputs": [
    {
     "data": {
      "text/plain": [
       "6750"
      ]
     },
     "execution_count": 9,
     "metadata": {},
     "output_type": "execute_result"
    }
   ],
   "source": [
    "len(multiplier_z_genes)"
   ]
  },
  {
   "cell_type": "code",
   "execution_count": 10,
   "id": "d297bd8d",
   "metadata": {
    "execution": {
     "iopub.execute_input": "2022-02-28T14:11:29.252674Z",
     "iopub.status.busy": "2022-02-28T14:11:29.248532Z",
     "iopub.status.idle": "2022-02-28T14:11:29.269941Z",
     "shell.execute_reply": "2022-02-28T14:11:29.269398Z"
    },
    "papermill": {
     "duration": 0.048134,
     "end_time": "2022-02-28T14:11:29.271683",
     "exception": false,
     "start_time": "2022-02-28T14:11:29.223549",
     "status": "completed"
    },
    "tags": []
   },
   "outputs": [
    {
     "data": {
      "text/plain": [
       "['GAS6',\n",
       " 'MMP14',\n",
       " 'DSP',\n",
       " 'MARCKSL1',\n",
       " 'SPARC',\n",
       " 'CTSD',\n",
       " 'EPAS1',\n",
       " 'PALLD',\n",
       " 'PHC2',\n",
       " 'LGALS3BP']"
      ]
     },
     "execution_count": 10,
     "metadata": {},
     "output_type": "execute_result"
    }
   ],
   "source": [
    "multiplier_z_genes[:10]"
   ]
  },
  {
   "cell_type": "markdown",
   "id": "b8bbc4fd",
   "metadata": {
    "papermill": {
     "duration": 0.022565,
     "end_time": "2022-02-28T14:11:29.320665",
     "exception": false,
     "start_time": "2022-02-28T14:11:29.298100",
     "status": "completed"
    },
    "tags": []
   },
   "source": [
    "## Get gene objects"
   ]
  },
  {
   "cell_type": "code",
   "execution_count": 11,
   "id": "6f785c35",
   "metadata": {
    "execution": {
     "iopub.execute_input": "2022-02-28T14:11:29.368269Z",
     "iopub.status.busy": "2022-02-28T14:11:29.368088Z",
     "iopub.status.idle": "2022-02-28T14:11:29.388219Z",
     "shell.execute_reply": "2022-02-28T14:11:29.387717Z"
    },
    "papermill": {
     "duration": 0.045969,
     "end_time": "2022-02-28T14:11:29.389698",
     "exception": false,
     "start_time": "2022-02-28T14:11:29.343729",
     "status": "completed"
    },
    "tags": []
   },
   "outputs": [],
   "source": [
    "multiplier_gene_obj = {\n",
    "    gene_name: Gene(name=gene_name)\n",
    "    for gene_name in multiplier_z_genes\n",
    "    if gene_name in Gene.GENE_NAME_TO_ID_MAP\n",
    "}"
   ]
  },
  {
   "cell_type": "code",
   "execution_count": 12,
   "id": "8249f836",
   "metadata": {
    "execution": {
     "iopub.execute_input": "2022-02-28T14:11:29.437163Z",
     "iopub.status.busy": "2022-02-28T14:11:29.436667Z",
     "iopub.status.idle": "2022-02-28T14:11:29.449867Z",
     "shell.execute_reply": "2022-02-28T14:11:29.449388Z"
    },
    "papermill": {
     "duration": 0.038214,
     "end_time": "2022-02-28T14:11:29.451180",
     "exception": false,
     "start_time": "2022-02-28T14:11:29.412966",
     "status": "completed"
    },
    "tags": []
   },
   "outputs": [
    {
     "data": {
      "text/plain": [
       "6454"
      ]
     },
     "execution_count": 12,
     "metadata": {},
     "output_type": "execute_result"
    }
   ],
   "source": [
    "len(multiplier_gene_obj)"
   ]
  },
  {
   "cell_type": "code",
   "execution_count": 13,
   "id": "46f78e0a",
   "metadata": {
    "execution": {
     "iopub.execute_input": "2022-02-28T14:11:29.498449Z",
     "iopub.status.busy": "2022-02-28T14:11:29.498176Z",
     "iopub.status.idle": "2022-02-28T14:11:29.511603Z",
     "shell.execute_reply": "2022-02-28T14:11:29.510995Z"
    },
    "papermill": {
     "duration": 0.038554,
     "end_time": "2022-02-28T14:11:29.512948",
     "exception": false,
     "start_time": "2022-02-28T14:11:29.474394",
     "status": "completed"
    },
    "tags": []
   },
   "outputs": [
    {
     "data": {
      "text/plain": [
       "'ENSG00000183087'"
      ]
     },
     "execution_count": 13,
     "metadata": {},
     "output_type": "execute_result"
    }
   ],
   "source": [
    "multiplier_gene_obj[\"GAS6\"].ensembl_id"
   ]
  },
  {
   "cell_type": "code",
   "execution_count": 14,
   "id": "97644699",
   "metadata": {
    "execution": {
     "iopub.execute_input": "2022-02-28T14:11:29.561084Z",
     "iopub.status.busy": "2022-02-28T14:11:29.560607Z",
     "iopub.status.idle": "2022-02-28T14:11:30.414087Z",
     "shell.execute_reply": "2022-02-28T14:11:30.413522Z"
    },
    "papermill": {
     "duration": 0.879019,
     "end_time": "2022-02-28T14:11:30.415596",
     "exception": false,
     "start_time": "2022-02-28T14:11:29.536577",
     "status": "completed"
    },
    "tags": []
   },
   "outputs": [],
   "source": [
    "_gene_obj = list(multiplier_gene_obj.values())\n",
    "\n",
    "genes_info = pd.DataFrame(\n",
    "    {\n",
    "        \"name\": [g.name for g in _gene_obj],\n",
    "        \"id\": [g.ensembl_id for g in _gene_obj],\n",
    "        \"chr\": [g.chromosome for g in _gene_obj],\n",
    "    }\n",
    ")"
   ]
  },
  {
   "cell_type": "code",
   "execution_count": 15,
   "id": "e4477eed",
   "metadata": {
    "execution": {
     "iopub.execute_input": "2022-02-28T14:11:30.462503Z",
     "iopub.status.busy": "2022-02-28T14:11:30.462123Z",
     "iopub.status.idle": "2022-02-28T14:11:30.475864Z",
     "shell.execute_reply": "2022-02-28T14:11:30.475292Z"
    },
    "papermill": {
     "duration": 0.038727,
     "end_time": "2022-02-28T14:11:30.477331",
     "exception": false,
     "start_time": "2022-02-28T14:11:30.438604",
     "status": "completed"
    },
    "tags": []
   },
   "outputs": [
    {
     "data": {
      "text/plain": [
       "(6454, 3)"
      ]
     },
     "execution_count": 15,
     "metadata": {},
     "output_type": "execute_result"
    }
   ],
   "source": [
    "genes_info.shape"
   ]
  },
  {
   "cell_type": "code",
   "execution_count": 16,
   "id": "797ebef5",
   "metadata": {
    "execution": {
     "iopub.execute_input": "2022-02-28T14:11:30.526089Z",
     "iopub.status.busy": "2022-02-28T14:11:30.525416Z",
     "iopub.status.idle": "2022-02-28T14:11:30.543147Z",
     "shell.execute_reply": "2022-02-28T14:11:30.542739Z"
    },
    "papermill": {
     "duration": 0.043523,
     "end_time": "2022-02-28T14:11:30.544530",
     "exception": false,
     "start_time": "2022-02-28T14:11:30.501007",
     "status": "completed"
    },
    "tags": []
   },
   "outputs": [
    {
     "data": {
      "text/html": [
       "<div>\n",
       "<style scoped>\n",
       "    .dataframe tbody tr th:only-of-type {\n",
       "        vertical-align: middle;\n",
       "    }\n",
       "\n",
       "    .dataframe tbody tr th {\n",
       "        vertical-align: top;\n",
       "    }\n",
       "\n",
       "    .dataframe thead th {\n",
       "        text-align: right;\n",
       "    }\n",
       "</style>\n",
       "<table border=\"1\" class=\"dataframe\">\n",
       "  <thead>\n",
       "    <tr style=\"text-align: right;\">\n",
       "      <th></th>\n",
       "      <th>name</th>\n",
       "      <th>id</th>\n",
       "      <th>chr</th>\n",
       "    </tr>\n",
       "  </thead>\n",
       "  <tbody>\n",
       "    <tr>\n",
       "      <th>0</th>\n",
       "      <td>GAS6</td>\n",
       "      <td>ENSG00000183087</td>\n",
       "      <td>13</td>\n",
       "    </tr>\n",
       "    <tr>\n",
       "      <th>1</th>\n",
       "      <td>MMP14</td>\n",
       "      <td>ENSG00000157227</td>\n",
       "      <td>14</td>\n",
       "    </tr>\n",
       "    <tr>\n",
       "      <th>2</th>\n",
       "      <td>DSP</td>\n",
       "      <td>ENSG00000096696</td>\n",
       "      <td>6</td>\n",
       "    </tr>\n",
       "    <tr>\n",
       "      <th>3</th>\n",
       "      <td>MARCKSL1</td>\n",
       "      <td>ENSG00000175130</td>\n",
       "      <td>1</td>\n",
       "    </tr>\n",
       "    <tr>\n",
       "      <th>4</th>\n",
       "      <td>SPARC</td>\n",
       "      <td>ENSG00000113140</td>\n",
       "      <td>5</td>\n",
       "    </tr>\n",
       "  </tbody>\n",
       "</table>\n",
       "</div>"
      ],
      "text/plain": [
       "       name               id chr\n",
       "0      GAS6  ENSG00000183087  13\n",
       "1     MMP14  ENSG00000157227  14\n",
       "2       DSP  ENSG00000096696   6\n",
       "3  MARCKSL1  ENSG00000175130   1\n",
       "4     SPARC  ENSG00000113140   5"
      ]
     },
     "execution_count": 16,
     "metadata": {},
     "output_type": "execute_result"
    }
   ],
   "source": [
    "genes_info.head()"
   ]
  },
  {
   "cell_type": "markdown",
   "id": "993a0d2d",
   "metadata": {
    "papermill": {
     "duration": 0.023688,
     "end_time": "2022-02-28T14:11:30.592718",
     "exception": false,
     "start_time": "2022-02-28T14:11:30.569030",
     "status": "completed"
    },
    "tags": []
   },
   "source": [
    "## Get tissues names"
   ]
  },
  {
   "cell_type": "code",
   "execution_count": 17,
   "id": "783dbd29",
   "metadata": {
    "execution": {
     "iopub.execute_input": "2022-02-28T14:11:30.642873Z",
     "iopub.status.busy": "2022-02-28T14:11:30.642473Z",
     "iopub.status.idle": "2022-02-28T14:11:30.656111Z",
     "shell.execute_reply": "2022-02-28T14:11:30.655684Z"
    },
    "papermill": {
     "duration": 0.044454,
     "end_time": "2022-02-28T14:11:30.661468",
     "exception": false,
     "start_time": "2022-02-28T14:11:30.617014",
     "status": "completed"
    },
    "tags": []
   },
   "outputs": [],
   "source": [
    "db_files = list(conf.PHENOMEXCAN[\"PREDICTION_MODELS\"][EQTL_MODEL].glob(\"*.db\"))"
   ]
  },
  {
   "cell_type": "code",
   "execution_count": 18,
   "id": "04664f7d",
   "metadata": {
    "execution": {
     "iopub.execute_input": "2022-02-28T14:11:30.711557Z",
     "iopub.status.busy": "2022-02-28T14:11:30.710943Z",
     "iopub.status.idle": "2022-02-28T14:11:30.723911Z",
     "shell.execute_reply": "2022-02-28T14:11:30.723334Z"
    },
    "papermill": {
     "duration": 0.039451,
     "end_time": "2022-02-28T14:11:30.725430",
     "exception": false,
     "start_time": "2022-02-28T14:11:30.685979",
     "status": "completed"
    },
    "tags": []
   },
   "outputs": [],
   "source": [
    "assert len(db_files) == 49"
   ]
  },
  {
   "cell_type": "code",
   "execution_count": 19,
   "id": "4717fbb3",
   "metadata": {
    "execution": {
     "iopub.execute_input": "2022-02-28T14:11:30.781975Z",
     "iopub.status.busy": "2022-02-28T14:11:30.781482Z",
     "iopub.status.idle": "2022-02-28T14:11:30.795138Z",
     "shell.execute_reply": "2022-02-28T14:11:30.794621Z"
    },
    "papermill": {
     "duration": 0.04028,
     "end_time": "2022-02-28T14:11:30.796526",
     "exception": false,
     "start_time": "2022-02-28T14:11:30.756246",
     "status": "completed"
    },
    "tags": []
   },
   "outputs": [],
   "source": [
    "tissues = [\n",
    "    str(f).split(EQTL_MODEL_FILES_PREFIX, maxsplit=1)[1].split(\".db\")[0]\n",
    "    for f in db_files\n",
    "]"
   ]
  },
  {
   "cell_type": "code",
   "execution_count": 20,
   "id": "3cc28e7c",
   "metadata": {
    "execution": {
     "iopub.execute_input": "2022-02-28T14:11:30.846873Z",
     "iopub.status.busy": "2022-02-28T14:11:30.846250Z",
     "iopub.status.idle": "2022-02-28T14:11:30.859630Z",
     "shell.execute_reply": "2022-02-28T14:11:30.859172Z"
    },
    "papermill": {
     "duration": 0.039552,
     "end_time": "2022-02-28T14:11:30.860930",
     "exception": false,
     "start_time": "2022-02-28T14:11:30.821378",
     "status": "completed"
    },
    "tags": []
   },
   "outputs": [
    {
     "data": {
      "text/plain": [
       "['Vagina',\n",
       " 'Colon_Sigmoid',\n",
       " 'Brain_Caudate_basal_ganglia',\n",
       " 'Stomach',\n",
       " 'Skin_Not_Sun_Exposed_Suprapubic']"
      ]
     },
     "execution_count": 20,
     "metadata": {},
     "output_type": "execute_result"
    }
   ],
   "source": [
    "tissues[:5]"
   ]
  },
  {
   "cell_type": "markdown",
   "id": "65fba569",
   "metadata": {
    "papermill": {
     "duration": 0.025255,
     "end_time": "2022-02-28T14:11:30.911290",
     "exception": false,
     "start_time": "2022-02-28T14:11:30.886035",
     "status": "completed"
    },
    "tags": []
   },
   "source": [
    "# Test"
   ]
  },
  {
   "cell_type": "code",
   "execution_count": 21,
   "id": "c557bc63",
   "metadata": {
    "execution": {
     "iopub.execute_input": "2022-02-28T14:11:30.963215Z",
     "iopub.status.busy": "2022-02-28T14:11:30.962749Z",
     "iopub.status.idle": "2022-02-28T14:11:30.982487Z",
     "shell.execute_reply": "2022-02-28T14:11:30.982077Z"
    },
    "papermill": {
     "duration": 0.047197,
     "end_time": "2022-02-28T14:11:30.983824",
     "exception": false,
     "start_time": "2022-02-28T14:11:30.936627",
     "status": "completed"
    },
    "tags": []
   },
   "outputs": [
    {
     "data": {
      "text/html": [
       "<div>\n",
       "<style scoped>\n",
       "    .dataframe tbody tr th:only-of-type {\n",
       "        vertical-align: middle;\n",
       "    }\n",
       "\n",
       "    .dataframe tbody tr th {\n",
       "        vertical-align: top;\n",
       "    }\n",
       "\n",
       "    .dataframe thead th {\n",
       "        text-align: right;\n",
       "    }\n",
       "</style>\n",
       "<table border=\"1\" class=\"dataframe\">\n",
       "  <thead>\n",
       "    <tr style=\"text-align: right;\">\n",
       "      <th></th>\n",
       "      <th>name</th>\n",
       "      <th>id</th>\n",
       "      <th>chr</th>\n",
       "    </tr>\n",
       "  </thead>\n",
       "  <tbody>\n",
       "    <tr>\n",
       "      <th>0</th>\n",
       "      <td>GAS6</td>\n",
       "      <td>ENSG00000183087</td>\n",
       "      <td>13</td>\n",
       "    </tr>\n",
       "    <tr>\n",
       "      <th>139</th>\n",
       "      <td>FRY</td>\n",
       "      <td>ENSG00000073910</td>\n",
       "      <td>13</td>\n",
       "    </tr>\n",
       "    <tr>\n",
       "      <th>239</th>\n",
       "      <td>CCNA1</td>\n",
       "      <td>ENSG00000133101</td>\n",
       "      <td>13</td>\n",
       "    </tr>\n",
       "    <tr>\n",
       "      <th>283</th>\n",
       "      <td>FLT3</td>\n",
       "      <td>ENSG00000122025</td>\n",
       "      <td>13</td>\n",
       "    </tr>\n",
       "    <tr>\n",
       "      <th>412</th>\n",
       "      <td>TNFSF11</td>\n",
       "      <td>ENSG00000120659</td>\n",
       "      <td>13</td>\n",
       "    </tr>\n",
       "    <tr>\n",
       "      <th>...</th>\n",
       "      <td>...</td>\n",
       "      <td>...</td>\n",
       "      <td>...</td>\n",
       "    </tr>\n",
       "    <tr>\n",
       "      <th>6269</th>\n",
       "      <td>KL</td>\n",
       "      <td>ENSG00000133116</td>\n",
       "      <td>13</td>\n",
       "    </tr>\n",
       "    <tr>\n",
       "      <th>6351</th>\n",
       "      <td>MTMR6</td>\n",
       "      <td>ENSG00000139505</td>\n",
       "      <td>13</td>\n",
       "    </tr>\n",
       "    <tr>\n",
       "      <th>6379</th>\n",
       "      <td>ABCC4</td>\n",
       "      <td>ENSG00000125257</td>\n",
       "      <td>13</td>\n",
       "    </tr>\n",
       "    <tr>\n",
       "      <th>6416</th>\n",
       "      <td>RFXAP</td>\n",
       "      <td>ENSG00000133111</td>\n",
       "      <td>13</td>\n",
       "    </tr>\n",
       "    <tr>\n",
       "      <th>6436</th>\n",
       "      <td>ELF1</td>\n",
       "      <td>ENSG00000120690</td>\n",
       "      <td>13</td>\n",
       "    </tr>\n",
       "  </tbody>\n",
       "</table>\n",
       "<p>118 rows × 3 columns</p>\n",
       "</div>"
      ],
      "text/plain": [
       "         name               id chr\n",
       "0        GAS6  ENSG00000183087  13\n",
       "139       FRY  ENSG00000073910  13\n",
       "239     CCNA1  ENSG00000133101  13\n",
       "283      FLT3  ENSG00000122025  13\n",
       "412   TNFSF11  ENSG00000120659  13\n",
       "...       ...              ...  ..\n",
       "6269       KL  ENSG00000133116  13\n",
       "6351    MTMR6  ENSG00000139505  13\n",
       "6379    ABCC4  ENSG00000125257  13\n",
       "6416    RFXAP  ENSG00000133111  13\n",
       "6436     ELF1  ENSG00000120690  13\n",
       "\n",
       "[118 rows x 3 columns]"
      ]
     },
     "execution_count": 21,
     "metadata": {},
     "output_type": "execute_result"
    }
   ],
   "source": [
    "genes_info[genes_info[\"chr\"] == \"13\"]"
   ]
  },
  {
   "cell_type": "code",
   "execution_count": 22,
   "id": "d9a014bc",
   "metadata": {
    "execution": {
     "iopub.execute_input": "2022-02-28T14:11:31.035981Z",
     "iopub.status.busy": "2022-02-28T14:11:31.035609Z",
     "iopub.status.idle": "2022-02-28T14:11:31.051347Z",
     "shell.execute_reply": "2022-02-28T14:11:31.050870Z"
    },
    "papermill": {
     "duration": 0.043675,
     "end_time": "2022-02-28T14:11:31.052837",
     "exception": false,
     "start_time": "2022-02-28T14:11:31.009162",
     "status": "completed"
    },
    "tags": []
   },
   "outputs": [],
   "source": [
    "_gene_list = [\n",
    "    Gene(\"ENSG00000134871\"),\n",
    "    Gene(\"ENSG00000187498\"),\n",
    "    Gene(\"ENSG00000183087\"),\n",
    "    Gene(\"ENSG00000073910\"),\n",
    "    Gene(\"ENSG00000133101\"),\n",
    "    Gene(\"ENSG00000122025\"),\n",
    "    Gene(\"ENSG00000120659\"),\n",
    "    Gene(\"ENSG00000133116\"),\n",
    "]\n",
    "\n",
    "tissue = \"Whole_Blood\""
   ]
  },
  {
   "cell_type": "code",
   "execution_count": 23,
   "id": "14337f6d",
   "metadata": {
    "execution": {
     "iopub.execute_input": "2022-02-28T14:11:31.105585Z",
     "iopub.status.busy": "2022-02-28T14:11:31.105185Z",
     "iopub.status.idle": "2022-02-28T14:11:31.890183Z",
     "shell.execute_reply": "2022-02-28T14:11:31.889577Z"
    },
    "papermill": {
     "duration": 0.813009,
     "end_time": "2022-02-28T14:11:31.891886",
     "exception": false,
     "start_time": "2022-02-28T14:11:31.078877",
     "status": "completed"
    },
    "tags": []
   },
   "outputs": [
    {
     "name": "stdout",
     "output_type": "stream",
     "text": [
      "72.6 ms ± 2.14 ms per loop (mean ± std. dev. of 7 runs, 1 loop each)\n"
     ]
    }
   ],
   "source": [
    "%%timeit\n",
    "for gene_idx1 in range(0, len(_gene_list) - 1):\n",
    "    gene_obj1 = _gene_list[gene_idx1]\n",
    "\n",
    "    for gene_idx2 in range(gene_idx1 + 1, len(_gene_list)):\n",
    "        gene_obj2 = _gene_list[gene_idx2]\n",
    "\n",
    "        gene_obj1.get_expression_correlation(\n",
    "            gene_obj2,\n",
    "            tissue,\n",
    "        )"
   ]
  },
  {
   "cell_type": "markdown",
   "id": "7787172c",
   "metadata": {
    "papermill": {
     "duration": 0.025619,
     "end_time": "2022-02-28T14:11:31.943920",
     "exception": false,
     "start_time": "2022-02-28T14:11:31.918301",
     "status": "completed"
    },
    "tags": []
   },
   "source": [
    "# Compute correlation per chromosome"
   ]
  },
  {
   "cell_type": "code",
   "execution_count": 24,
   "id": "53bac8a2",
   "metadata": {
    "execution": {
     "iopub.execute_input": "2022-02-28T14:11:31.997425Z",
     "iopub.status.busy": "2022-02-28T14:11:31.996916Z",
     "iopub.status.idle": "2022-02-28T14:11:32.103461Z",
     "shell.execute_reply": "2022-02-28T14:11:32.101483Z"
    },
    "papermill": {
     "duration": 0.135307,
     "end_time": "2022-02-28T14:11:32.105059",
     "exception": false,
     "start_time": "2022-02-28T14:11:31.969752",
     "status": "completed"
    },
    "tags": []
   },
   "outputs": [
    {
     "name": "stdout",
     "output_type": "stream",
     "text": [
      "Chromosome 7\n",
      "Genes in chromosome(281, 3)\n",
      "Number of gene combinations: 39340\n",
      "Tissue Vagina\n",
      "Already run, stopping.\n",
      "Tissue Colon_Sigmoid\n",
      "Already run, stopping.\n",
      "Tissue Brain_Caudate_basal_ganglia\n",
      "Already run, stopping.\n",
      "Tissue Stomach\n",
      "Already run, stopping.\n",
      "Tissue Skin_Not_Sun_Exposed_Suprapubic\n",
      "Already run, stopping.\n",
      "Tissue Artery_Tibial\n",
      "Already run, stopping.\n",
      "Tissue Brain_Hippocampus\n",
      "Already run, stopping.\n",
      "Tissue Esophagus_Gastroesophageal_Junction\n",
      "Already run, stopping.\n",
      "Tissue Esophagus_Muscularis\n",
      "Already run, stopping.\n",
      "Tissue Cells_Cultured_fibroblasts\n",
      "Already run, stopping.\n",
      "Tissue Brain_Nucleus_accumbens_basal_ganglia\n",
      "Already run, stopping.\n",
      "Tissue Brain_Frontal_Cortex_BA9\n",
      "Already run, stopping.\n",
      "Tissue Brain_Hypothalamus\n",
      "Already run, stopping.\n",
      "Tissue Breast_Mammary_Tissue\n",
      "Already run, stopping.\n",
      "Tissue Colon_Transverse\n",
      "Already run, stopping.\n",
      "Tissue Lung\n",
      "Already run, stopping.\n",
      "Tissue Esophagus_Mucosa\n",
      "Already run, stopping.\n",
      "Tissue Brain_Cerebellum\n",
      "Already run, stopping.\n",
      "Tissue Brain_Putamen_basal_ganglia\n",
      "Already run, stopping.\n",
      "Tissue Heart_Atrial_Appendage\n",
      "Already run, stopping.\n",
      "Tissue Heart_Left_Ventricle\n",
      "Already run, stopping.\n",
      "Tissue Brain_Anterior_cingulate_cortex_BA24\n",
      "Already run, stopping.\n",
      "Tissue Nerve_Tibial\n",
      "Already run, stopping.\n",
      "Tissue Prostate\n",
      "Already run, stopping.\n",
      "Tissue Adrenal_Gland\n",
      "Already run, stopping.\n",
      "Tissue Minor_Salivary_Gland\n",
      "Already run, stopping.\n",
      "Tissue Testis\n",
      "Already run, stopping.\n",
      "Tissue Whole_Blood\n",
      "Already run, stopping.\n",
      "Tissue Thyroid\n",
      "Already run, stopping.\n",
      "Tissue Liver\n",
      "Already run, stopping.\n",
      "Tissue Pancreas\n",
      "Already run, stopping.\n",
      "Tissue Kidney_Cortex\n",
      "Already run, stopping.\n",
      "Tissue Small_Intestine_Terminal_Ileum\n",
      "Already run, stopping.\n",
      "Tissue Artery_Coronary\n",
      "Already run, stopping.\n",
      "Tissue Brain_Cerebellar_Hemisphere\n",
      "Already run, stopping.\n",
      "Tissue Cells_EBV-transformed_lymphocytes\n",
      "Already run, stopping.\n",
      "Tissue Brain_Spinal_cord_cervical_c-1\n",
      "Already run, stopping.\n",
      "Tissue Adipose_Visceral_Omentum\n",
      "Already run, stopping.\n",
      "Tissue Brain_Amygdala\n",
      "Already run, stopping.\n",
      "Tissue Adipose_Subcutaneous\n",
      "Already run, stopping.\n",
      "Tissue Spleen\n",
      "Already run, stopping.\n",
      "Tissue Muscle_Skeletal\n",
      "Already run, stopping.\n",
      "Tissue Skin_Sun_Exposed_Lower_leg\n",
      "Already run, stopping.\n",
      "Tissue Brain_Substantia_nigra\n",
      "Already run, stopping.\n",
      "Tissue Artery_Aorta\n",
      "Already run, stopping.\n",
      "Tissue Ovary\n",
      "Already run, stopping.\n",
      "Tissue Pituitary\n",
      "Already run, stopping.\n",
      "Tissue Uterus\n",
      "Already run, stopping.\n",
      "Tissue Brain_Cortex\n",
      "Already run, stopping.\n"
     ]
    }
   ],
   "source": [
    "all_chrs = genes_info[\"chr\"].dropna().unique()\n",
    "assert all_chrs.shape[0] == 22\n",
    "\n",
    "if chromosome != \"all\":\n",
    "    chromosome = str(chromosome)\n",
    "    assert chromosome in all_chrs\n",
    "\n",
    "    # run only on the chromosome specified\n",
    "    all_chrs = [chromosome]\n",
    "\n",
    "# # For testing purposes\n",
    "# all_chrs = [\"13\"]\n",
    "# tissues = [\"Whole_Blood\"]\n",
    "# genes_info = genes_info[genes_info[\"id\"].isin([\"ENSG00000134871\", \"ENSG00000187498\", \"ENSG00000183087\", \"ENSG00000073910\"])]\n",
    "\n",
    "for chr_num in all_chrs:\n",
    "    print(f\"Chromosome {chr_num}\", flush=True)\n",
    "\n",
    "    genes_chr = genes_info[genes_info[\"chr\"] == chr_num]\n",
    "    print(f\"Genes in chromosome{genes_chr.shape}\", flush=True)\n",
    "\n",
    "    gene_chr_objs = [Gene(ensembl_id=gene_id) for gene_id in genes_chr[\"id\"]]\n",
    "    gene_chr_ids = [g.ensembl_id for g in gene_chr_objs]\n",
    "\n",
    "    n = len(gene_chr_objs)\n",
    "    n_comb = int(n * (n - 1) / 2.0)\n",
    "    print(f\"Number of gene combinations: {n_comb}\", flush=True)\n",
    "\n",
    "    for tissue in tissues:\n",
    "        print(f\"Tissue {tissue}\", flush=True)\n",
    "\n",
    "        # check if results exist\n",
    "        output_dir = (\n",
    "            conf.PHENOMEXCAN[\"LD_BLOCKS\"][\"BASE_DIR\"]\n",
    "            / f\"{EQTL_MODEL_FILES_PREFIX}gene_corrs\"\n",
    "            / tissue\n",
    "        )\n",
    "        output_file = output_dir / f\"gene_corrs-{tissue}-chr{chr_num}.pkl\"\n",
    "\n",
    "        if output_file.exists():\n",
    "            _tmp_data = pd.read_pickle(output_file)\n",
    "\n",
    "            if _tmp_data.shape[0] > 0:\n",
    "                print(\"Already run, stopping.\")\n",
    "                continue\n",
    "\n",
    "        gene_corrs = []\n",
    "\n",
    "        pbar = tqdm(ncols=100, total=n_comb)\n",
    "        i = 0\n",
    "        for gene_idx1 in range(0, len(gene_chr_objs) - 1):\n",
    "            gene_obj1 = gene_chr_objs[gene_idx1]\n",
    "\n",
    "            for gene_idx2 in range(gene_idx1 + 1, len(gene_chr_objs)):\n",
    "                gene_obj2 = gene_chr_objs[gene_idx2]\n",
    "\n",
    "                gene_corrs.append(\n",
    "                    gene_obj1.get_expression_correlation(\n",
    "                        gene_obj2, tissue, model_type=EQTL_MODEL\n",
    "                    )\n",
    "                )\n",
    "\n",
    "                pbar.update(1)\n",
    "\n",
    "        pbar.close()\n",
    "\n",
    "        # testing\n",
    "        gene_corrs_flat = pd.Series(gene_corrs)\n",
    "        print(f\"Min/max values: {gene_corrs_flat.min()} / {gene_corrs_flat.max()}\")\n",
    "        assert gene_corrs_flat.min() >= -1.001\n",
    "        assert gene_corrs_flat.max() <= 1.001\n",
    "\n",
    "        # save\n",
    "        # FIXME: consider saving only the condenced matrix here. See here for\n",
    "        # more details: https://github.com/greenelab/phenoplier/pull/38#discussion_r634600813\n",
    "        gene_corrs_data = squareform(np.array(gene_corrs, dtype=np.float32))\n",
    "        np.fill_diagonal(gene_corrs_data, 1.0)\n",
    "\n",
    "        gene_corrs_df = pd.DataFrame(\n",
    "            data=gene_corrs_data,\n",
    "            index=gene_chr_ids,\n",
    "            columns=gene_chr_ids,\n",
    "        )\n",
    "\n",
    "        output_dir.mkdir(exist_ok=True, parents=True)\n",
    "        display(output_file)\n",
    "\n",
    "        gene_corrs_df.to_pickle(output_file)"
   ]
  },
  {
   "cell_type": "markdown",
   "id": "eab5a00b",
   "metadata": {
    "papermill": {
     "duration": 0.043029,
     "end_time": "2022-02-28T14:11:32.193574",
     "exception": false,
     "start_time": "2022-02-28T14:11:32.150545",
     "status": "completed"
    },
    "tags": []
   },
   "source": [
    "# Testing"
   ]
  },
  {
   "cell_type": "code",
   "execution_count": 25,
   "id": "7803c342",
   "metadata": {
    "execution": {
     "iopub.execute_input": "2022-02-28T14:11:32.275694Z",
     "iopub.status.busy": "2022-02-28T14:11:32.275500Z",
     "iopub.status.idle": "2022-02-28T14:11:32.291203Z",
     "shell.execute_reply": "2022-02-28T14:11:32.290701Z"
    },
    "papermill": {
     "duration": 0.059578,
     "end_time": "2022-02-28T14:11:32.293406",
     "exception": false,
     "start_time": "2022-02-28T14:11:32.233828",
     "status": "completed"
    },
    "tags": []
   },
   "outputs": [],
   "source": [
    "# data = pd.read_pickle(\n",
    "#     conf.PHENOMEXCAN[\"LD_BLOCKS\"][\"BASE_DIR\"] / \"gene_corrs\" / \"Whole_Blood\" / \"gene_corrs-Whole_Blood-chr13.pkl\"\n",
    "# )"
   ]
  },
  {
   "cell_type": "code",
   "execution_count": 26,
   "id": "d8e42e9e",
   "metadata": {
    "execution": {
     "iopub.execute_input": "2022-02-28T14:11:32.379384Z",
     "iopub.status.busy": "2022-02-28T14:11:32.378988Z",
     "iopub.status.idle": "2022-02-28T14:11:32.393232Z",
     "shell.execute_reply": "2022-02-28T14:11:32.392630Z"
    },
    "papermill": {
     "duration": 0.057411,
     "end_time": "2022-02-28T14:11:32.394787",
     "exception": false,
     "start_time": "2022-02-28T14:11:32.337376",
     "status": "completed"
    },
    "tags": []
   },
   "outputs": [],
   "source": [
    "# assert data.loc[\"ENSG00000134871\", \"ENSG00000187498\"] > 0.97"
   ]
  },
  {
   "cell_type": "code",
   "execution_count": null,
   "id": "43918bdb",
   "metadata": {
    "papermill": {
     "duration": 0.040103,
     "end_time": "2022-02-28T14:11:32.477759",
     "exception": false,
     "start_time": "2022-02-28T14:11:32.437656",
     "status": "completed"
    },
    "tags": []
   },
   "outputs": [],
   "source": []
  }
 ],
 "metadata": {
  "jupytext": {
   "cell_metadata_filter": "all,-execution,-papermill,-trusted",
   "formats": "ipynb,py//py:percent"
  },
  "kernelspec": {
   "display_name": "Python 3 (ipykernel)",
   "language": "python",
   "name": "python3"
  },
  "language_info": {
   "codemirror_mode": {
    "name": "ipython",
    "version": 3
   },
   "file_extension": ".py",
   "mimetype": "text/x-python",
   "name": "python",
   "nbconvert_exporter": "python",
   "pygments_lexer": "ipython3",
   "version": "3.8.12"
  },
  "papermill": {
   "default_parameters": {},
   "duration": 6.209813,
   "end_time": "2022-02-28T14:11:32.734288",
   "environment_variables": {},
   "exception": null,
   "input_path": "nbs/15_gsa_gls/10-gene_expr_correlations.ipynb",
   "output_path": "nbs/15_gsa_gls/en_gene_corrs/10-gene_expr_correlations-chr7.run.ipynb",
   "parameters": {
    "EQTL_MODEL": "ELASTIC_NET",
    "chromosome": 7
   },
   "start_time": "2022-02-28T14:11:26.524475",
   "version": "2.2.2"
  }
 },
 "nbformat": 4,
 "nbformat_minor": 5
}
