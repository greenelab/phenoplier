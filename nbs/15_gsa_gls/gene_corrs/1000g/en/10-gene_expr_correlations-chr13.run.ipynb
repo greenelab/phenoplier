{
 "cells": [
  {
   "cell_type": "markdown",
   "id": "94cc4ea0",
   "metadata": {
    "papermill": {
     "duration": 0.02192,
     "end_time": "2022-02-28T15:06:53.285865",
     "exception": false,
     "start_time": "2022-02-28T15:06:53.263945",
     "status": "completed"
    },
    "tags": []
   },
   "source": [
    "# Description"
   ]
  },
  {
   "cell_type": "markdown",
   "id": "5faaa1e2",
   "metadata": {
    "papermill": {
     "duration": 0.022039,
     "end_time": "2022-02-28T15:06:53.330416",
     "exception": false,
     "start_time": "2022-02-28T15:06:53.308377",
     "status": "completed"
    },
    "tags": []
   },
   "source": [
    "This notebook computes predicted expression correlations between all genes in the MultiPLIER models.\n",
    "\n",
    "It also has a parameter set for papermill to run on a single chromosome to run in parallel (see under `Settings` below).\n",
    "\n",
    "This notebook does not have an output because it is not directly run. If you want to see outputs for each chromosome, check out the `gene_corrs` folder, which contains a copy of this notebook for each chromosome."
   ]
  },
  {
   "cell_type": "markdown",
   "id": "dc309e70",
   "metadata": {
    "papermill": {
     "duration": 0.022439,
     "end_time": "2022-02-28T15:06:53.375127",
     "exception": false,
     "start_time": "2022-02-28T15:06:53.352688",
     "status": "completed"
    },
    "tags": []
   },
   "source": [
    "# Modules"
   ]
  },
  {
   "cell_type": "code",
   "execution_count": 1,
   "id": "43913724",
   "metadata": {
    "execution": {
     "iopub.execute_input": "2022-02-28T15:06:53.421584Z",
     "iopub.status.busy": "2022-02-28T15:06:53.421356Z",
     "iopub.status.idle": "2022-02-28T15:06:53.439297Z",
     "shell.execute_reply": "2022-02-28T15:06:53.438719Z"
    },
    "papermill": {
     "duration": 0.04344,
     "end_time": "2022-02-28T15:06:53.441056",
     "exception": false,
     "start_time": "2022-02-28T15:06:53.397616",
     "status": "completed"
    },
    "tags": []
   },
   "outputs": [],
   "source": [
    "%load_ext autoreload\n",
    "%autoreload 2"
   ]
  },
  {
   "cell_type": "code",
   "execution_count": 2,
   "id": "f853fabe",
   "metadata": {
    "execution": {
     "iopub.execute_input": "2022-02-28T15:06:53.497295Z",
     "iopub.status.busy": "2022-02-28T15:06:53.496944Z",
     "iopub.status.idle": "2022-02-28T15:06:54.155670Z",
     "shell.execute_reply": "2022-02-28T15:06:54.155117Z"
    },
    "papermill": {
     "duration": 0.692229,
     "end_time": "2022-02-28T15:06:54.157850",
     "exception": false,
     "start_time": "2022-02-28T15:06:53.465621",
     "status": "completed"
    },
    "tags": []
   },
   "outputs": [],
   "source": [
    "import numpy as np\n",
    "from scipy.spatial.distance import squareform\n",
    "import pandas as pd\n",
    "from tqdm import tqdm\n",
    "\n",
    "import conf\n",
    "from entity import Gene"
   ]
  },
  {
   "cell_type": "markdown",
   "id": "1188ecb0",
   "metadata": {
    "papermill": {
     "duration": 0.023096,
     "end_time": "2022-02-28T15:06:54.206150",
     "exception": false,
     "start_time": "2022-02-28T15:06:54.183054",
     "status": "completed"
    },
    "tags": []
   },
   "source": [
    "# Settings"
   ]
  },
  {
   "cell_type": "code",
   "execution_count": 3,
   "id": "efc384fc",
   "metadata": {
    "execution": {
     "iopub.execute_input": "2022-02-28T15:06:54.251103Z",
     "iopub.status.busy": "2022-02-28T15:06:54.250914Z",
     "iopub.status.idle": "2022-02-28T15:06:54.265321Z",
     "shell.execute_reply": "2022-02-28T15:06:54.264642Z"
    },
    "papermill": {
     "duration": 0.038698,
     "end_time": "2022-02-28T15:06:54.267059",
     "exception": false,
     "start_time": "2022-02-28T15:06:54.228361",
     "status": "completed"
    },
    "tags": [
     "parameters"
    ]
   },
   "outputs": [],
   "source": [
    "# mashr\n",
    "EQTL_MODEL = \"MASHR\"\n",
    "EQTL_MODEL_FILES_PREFIX = \"mashr_\"\n",
    "\n",
    "# # elastic net\n",
    "# EQTL_MODEL = \"ELASTIC_NET\"\n",
    "# EQTL_MODEL_FILES_PREFIX = \"en_\"\n",
    "\n",
    "# make it read the prefix from conf.py\n",
    "EQTL_MODEL_FILES_PREFIX = None\n",
    "\n",
    "# specifies a single chromosome value\n",
    "# by default, run on all chromosomes\n",
    "chromosome = \"all\""
   ]
  },
  {
   "cell_type": "code",
   "execution_count": 4,
   "id": "8c0c6dfe",
   "metadata": {
    "execution": {
     "iopub.execute_input": "2022-02-28T15:06:54.316608Z",
     "iopub.status.busy": "2022-02-28T15:06:54.316105Z",
     "iopub.status.idle": "2022-02-28T15:06:54.329918Z",
     "shell.execute_reply": "2022-02-28T15:06:54.329361Z"
    },
    "papermill": {
     "duration": 0.039359,
     "end_time": "2022-02-28T15:06:54.331525",
     "exception": false,
     "start_time": "2022-02-28T15:06:54.292166",
     "status": "completed"
    },
    "tags": [
     "injected-parameters"
    ]
   },
   "outputs": [],
   "source": [
    "# Parameters\n",
    "chromosome = 13\n",
    "EQTL_MODEL = \"ELASTIC_NET\"\n"
   ]
  },
  {
   "cell_type": "code",
   "execution_count": 5,
   "id": "6273f87b",
   "metadata": {
    "execution": {
     "iopub.execute_input": "2022-02-28T15:06:54.377674Z",
     "iopub.status.busy": "2022-02-28T15:06:54.377176Z",
     "iopub.status.idle": "2022-02-28T15:06:54.391735Z",
     "shell.execute_reply": "2022-02-28T15:06:54.391101Z"
    },
    "papermill": {
     "duration": 0.038887,
     "end_time": "2022-02-28T15:06:54.393368",
     "exception": false,
     "start_time": "2022-02-28T15:06:54.354481",
     "status": "completed"
    },
    "tags": []
   },
   "outputs": [],
   "source": [
    "if EQTL_MODEL_FILES_PREFIX is None:\n",
    "    EQTL_MODEL_FILES_PREFIX = conf.PHENOMEXCAN[\"PREDICTION_MODELS_PREFIXES\"][EQTL_MODEL]"
   ]
  },
  {
   "cell_type": "code",
   "execution_count": 6,
   "id": "c5dbb802",
   "metadata": {
    "execution": {
     "iopub.execute_input": "2022-02-28T15:06:54.443581Z",
     "iopub.status.busy": "2022-02-28T15:06:54.443112Z",
     "iopub.status.idle": "2022-02-28T15:06:54.462695Z",
     "shell.execute_reply": "2022-02-28T15:06:54.462212Z"
    },
    "papermill": {
     "duration": 0.045342,
     "end_time": "2022-02-28T15:06:54.464295",
     "exception": false,
     "start_time": "2022-02-28T15:06:54.418953",
     "status": "completed"
    },
    "tags": []
   },
   "outputs": [
    {
     "data": {
      "text/plain": [
       "'Using eQTL model: ELASTIC_NET / en_'"
      ]
     },
     "metadata": {},
     "output_type": "display_data"
    }
   ],
   "source": [
    "display(f\"Using eQTL model: {EQTL_MODEL} / {EQTL_MODEL_FILES_PREFIX}\")"
   ]
  },
  {
   "cell_type": "code",
   "execution_count": 7,
   "id": "7ea885ec",
   "metadata": {
    "execution": {
     "iopub.execute_input": "2022-02-28T15:06:54.523923Z",
     "iopub.status.busy": "2022-02-28T15:06:54.523710Z",
     "iopub.status.idle": "2022-02-28T15:06:54.539027Z",
     "shell.execute_reply": "2022-02-28T15:06:54.538431Z"
    },
    "papermill": {
     "duration": 0.047409,
     "end_time": "2022-02-28T15:06:54.540704",
     "exception": false,
     "start_time": "2022-02-28T15:06:54.493295",
     "status": "completed"
    },
    "tags": []
   },
   "outputs": [],
   "source": [
    "if chromosome == \"all\":\n",
    "    from time import sleep\n",
    "\n",
    "    message = \"\"\"\n",
    "    WARNING: you are going to compute correlations of gene predicted expression across all chromosomes without parallelism.\n",
    "    It is recommended that you look at the README.md file in this subfolder (nbs/08_gsa_gls/README.md) to know how to do that.\n",
    "    \n",
    "    It will continue in 20 seconds.\n",
    "    \"\"\"\n",
    "    print(message)\n",
    "    sleep(20)"
   ]
  },
  {
   "cell_type": "markdown",
   "id": "2aae4936",
   "metadata": {
    "papermill": {
     "duration": 0.023556,
     "end_time": "2022-02-28T15:06:54.589677",
     "exception": false,
     "start_time": "2022-02-28T15:06:54.566121",
     "status": "completed"
    },
    "tags": []
   },
   "source": [
    "# Load data"
   ]
  },
  {
   "cell_type": "markdown",
   "id": "24e10368",
   "metadata": {
    "papermill": {
     "duration": 0.023158,
     "end_time": "2022-02-28T15:06:54.642825",
     "exception": false,
     "start_time": "2022-02-28T15:06:54.619667",
     "status": "completed"
    },
    "tags": []
   },
   "source": [
    "## MultiPLIER Z"
   ]
  },
  {
   "cell_type": "code",
   "execution_count": 8,
   "id": "df154b08",
   "metadata": {
    "execution": {
     "iopub.execute_input": "2022-02-28T15:06:54.691726Z",
     "iopub.status.busy": "2022-02-28T15:06:54.691228Z",
     "iopub.status.idle": "2022-02-28T15:06:54.734167Z",
     "shell.execute_reply": "2022-02-28T15:06:54.733533Z"
    },
    "papermill": {
     "duration": 0.069312,
     "end_time": "2022-02-28T15:06:54.736007",
     "exception": false,
     "start_time": "2022-02-28T15:06:54.666695",
     "status": "completed"
    },
    "tags": []
   },
   "outputs": [],
   "source": [
    "multiplier_z_genes = pd.read_pickle(\n",
    "    conf.MULTIPLIER[\"MODEL_Z_MATRIX_FILE\"]\n",
    ").index.tolist()"
   ]
  },
  {
   "cell_type": "code",
   "execution_count": 9,
   "id": "9919b407",
   "metadata": {
    "execution": {
     "iopub.execute_input": "2022-02-28T15:06:54.786879Z",
     "iopub.status.busy": "2022-02-28T15:06:54.786411Z",
     "iopub.status.idle": "2022-02-28T15:06:54.800954Z",
     "shell.execute_reply": "2022-02-28T15:06:54.800479Z"
    },
    "papermill": {
     "duration": 0.040397,
     "end_time": "2022-02-28T15:06:54.802545",
     "exception": false,
     "start_time": "2022-02-28T15:06:54.762148",
     "status": "completed"
    },
    "tags": []
   },
   "outputs": [
    {
     "data": {
      "text/plain": [
       "6750"
      ]
     },
     "execution_count": 9,
     "metadata": {},
     "output_type": "execute_result"
    }
   ],
   "source": [
    "len(multiplier_z_genes)"
   ]
  },
  {
   "cell_type": "code",
   "execution_count": 10,
   "id": "d297bd8d",
   "metadata": {
    "execution": {
     "iopub.execute_input": "2022-02-28T15:06:54.853281Z",
     "iopub.status.busy": "2022-02-28T15:06:54.852791Z",
     "iopub.status.idle": "2022-02-28T15:06:54.868218Z",
     "shell.execute_reply": "2022-02-28T15:06:54.867724Z"
    },
    "papermill": {
     "duration": 0.041874,
     "end_time": "2022-02-28T15:06:54.869816",
     "exception": false,
     "start_time": "2022-02-28T15:06:54.827942",
     "status": "completed"
    },
    "tags": []
   },
   "outputs": [
    {
     "data": {
      "text/plain": [
       "['GAS6',\n",
       " 'MMP14',\n",
       " 'DSP',\n",
       " 'MARCKSL1',\n",
       " 'SPARC',\n",
       " 'CTSD',\n",
       " 'EPAS1',\n",
       " 'PALLD',\n",
       " 'PHC2',\n",
       " 'LGALS3BP']"
      ]
     },
     "execution_count": 10,
     "metadata": {},
     "output_type": "execute_result"
    }
   ],
   "source": [
    "multiplier_z_genes[:10]"
   ]
  },
  {
   "cell_type": "markdown",
   "id": "b8bbc4fd",
   "metadata": {
    "papermill": {
     "duration": 0.0241,
     "end_time": "2022-02-28T15:06:54.919504",
     "exception": false,
     "start_time": "2022-02-28T15:06:54.895404",
     "status": "completed"
    },
    "tags": []
   },
   "source": [
    "## Get gene objects"
   ]
  },
  {
   "cell_type": "code",
   "execution_count": 11,
   "id": "6f785c35",
   "metadata": {
    "execution": {
     "iopub.execute_input": "2022-02-28T15:06:54.967830Z",
     "iopub.status.busy": "2022-02-28T15:06:54.967301Z",
     "iopub.status.idle": "2022-02-28T15:06:54.988099Z",
     "shell.execute_reply": "2022-02-28T15:06:54.987533Z"
    },
    "papermill": {
     "duration": 0.046459,
     "end_time": "2022-02-28T15:06:54.989707",
     "exception": false,
     "start_time": "2022-02-28T15:06:54.943248",
     "status": "completed"
    },
    "tags": []
   },
   "outputs": [],
   "source": [
    "multiplier_gene_obj = {\n",
    "    gene_name: Gene(name=gene_name)\n",
    "    for gene_name in multiplier_z_genes\n",
    "    if gene_name in Gene.GENE_NAME_TO_ID_MAP\n",
    "}"
   ]
  },
  {
   "cell_type": "code",
   "execution_count": 12,
   "id": "8249f836",
   "metadata": {
    "execution": {
     "iopub.execute_input": "2022-02-28T15:06:55.039580Z",
     "iopub.status.busy": "2022-02-28T15:06:55.039104Z",
     "iopub.status.idle": "2022-02-28T15:06:55.053933Z",
     "shell.execute_reply": "2022-02-28T15:06:55.053436Z"
    },
    "papermill": {
     "duration": 0.041283,
     "end_time": "2022-02-28T15:06:55.055505",
     "exception": false,
     "start_time": "2022-02-28T15:06:55.014222",
     "status": "completed"
    },
    "tags": []
   },
   "outputs": [
    {
     "data": {
      "text/plain": [
       "6454"
      ]
     },
     "execution_count": 12,
     "metadata": {},
     "output_type": "execute_result"
    }
   ],
   "source": [
    "len(multiplier_gene_obj)"
   ]
  },
  {
   "cell_type": "code",
   "execution_count": 13,
   "id": "46f78e0a",
   "metadata": {
    "execution": {
     "iopub.execute_input": "2022-02-28T15:06:55.109687Z",
     "iopub.status.busy": "2022-02-28T15:06:55.109194Z",
     "iopub.status.idle": "2022-02-28T15:06:55.124258Z",
     "shell.execute_reply": "2022-02-28T15:06:55.123804Z"
    },
    "papermill": {
     "duration": 0.044288,
     "end_time": "2022-02-28T15:06:55.125792",
     "exception": false,
     "start_time": "2022-02-28T15:06:55.081504",
     "status": "completed"
    },
    "tags": []
   },
   "outputs": [
    {
     "data": {
      "text/plain": [
       "'ENSG00000183087'"
      ]
     },
     "execution_count": 13,
     "metadata": {},
     "output_type": "execute_result"
    }
   ],
   "source": [
    "multiplier_gene_obj[\"GAS6\"].ensembl_id"
   ]
  },
  {
   "cell_type": "code",
   "execution_count": 14,
   "id": "97644699",
   "metadata": {
    "execution": {
     "iopub.execute_input": "2022-02-28T15:06:55.179104Z",
     "iopub.status.busy": "2022-02-28T15:06:55.178433Z",
     "iopub.status.idle": "2022-02-28T15:06:56.100546Z",
     "shell.execute_reply": "2022-02-28T15:06:56.099943Z"
    },
    "papermill": {
     "duration": 0.950012,
     "end_time": "2022-02-28T15:06:56.102270",
     "exception": false,
     "start_time": "2022-02-28T15:06:55.152258",
     "status": "completed"
    },
    "tags": []
   },
   "outputs": [],
   "source": [
    "_gene_obj = list(multiplier_gene_obj.values())\n",
    "\n",
    "genes_info = pd.DataFrame(\n",
    "    {\n",
    "        \"name\": [g.name for g in _gene_obj],\n",
    "        \"id\": [g.ensembl_id for g in _gene_obj],\n",
    "        \"chr\": [g.chromosome for g in _gene_obj],\n",
    "    }\n",
    ")"
   ]
  },
  {
   "cell_type": "code",
   "execution_count": 15,
   "id": "e4477eed",
   "metadata": {
    "execution": {
     "iopub.execute_input": "2022-02-28T15:06:56.157395Z",
     "iopub.status.busy": "2022-02-28T15:06:56.156882Z",
     "iopub.status.idle": "2022-02-28T15:06:56.171882Z",
     "shell.execute_reply": "2022-02-28T15:06:56.171409Z"
    },
    "papermill": {
     "duration": 0.044476,
     "end_time": "2022-02-28T15:06:56.173394",
     "exception": false,
     "start_time": "2022-02-28T15:06:56.128918",
     "status": "completed"
    },
    "tags": []
   },
   "outputs": [
    {
     "data": {
      "text/plain": [
       "(6454, 3)"
      ]
     },
     "execution_count": 15,
     "metadata": {},
     "output_type": "execute_result"
    }
   ],
   "source": [
    "genes_info.shape"
   ]
  },
  {
   "cell_type": "code",
   "execution_count": 16,
   "id": "797ebef5",
   "metadata": {
    "execution": {
     "iopub.execute_input": "2022-02-28T15:06:56.226785Z",
     "iopub.status.busy": "2022-02-28T15:06:56.226288Z",
     "iopub.status.idle": "2022-02-28T15:06:56.245417Z",
     "shell.execute_reply": "2022-02-28T15:06:56.244944Z"
    },
    "papermill": {
     "duration": 0.046996,
     "end_time": "2022-02-28T15:06:56.247003",
     "exception": false,
     "start_time": "2022-02-28T15:06:56.200007",
     "status": "completed"
    },
    "tags": []
   },
   "outputs": [
    {
     "data": {
      "text/html": [
       "<div>\n",
       "<style scoped>\n",
       "    .dataframe tbody tr th:only-of-type {\n",
       "        vertical-align: middle;\n",
       "    }\n",
       "\n",
       "    .dataframe tbody tr th {\n",
       "        vertical-align: top;\n",
       "    }\n",
       "\n",
       "    .dataframe thead th {\n",
       "        text-align: right;\n",
       "    }\n",
       "</style>\n",
       "<table border=\"1\" class=\"dataframe\">\n",
       "  <thead>\n",
       "    <tr style=\"text-align: right;\">\n",
       "      <th></th>\n",
       "      <th>name</th>\n",
       "      <th>id</th>\n",
       "      <th>chr</th>\n",
       "    </tr>\n",
       "  </thead>\n",
       "  <tbody>\n",
       "    <tr>\n",
       "      <th>0</th>\n",
       "      <td>GAS6</td>\n",
       "      <td>ENSG00000183087</td>\n",
       "      <td>13</td>\n",
       "    </tr>\n",
       "    <tr>\n",
       "      <th>1</th>\n",
       "      <td>MMP14</td>\n",
       "      <td>ENSG00000157227</td>\n",
       "      <td>14</td>\n",
       "    </tr>\n",
       "    <tr>\n",
       "      <th>2</th>\n",
       "      <td>DSP</td>\n",
       "      <td>ENSG00000096696</td>\n",
       "      <td>6</td>\n",
       "    </tr>\n",
       "    <tr>\n",
       "      <th>3</th>\n",
       "      <td>MARCKSL1</td>\n",
       "      <td>ENSG00000175130</td>\n",
       "      <td>1</td>\n",
       "    </tr>\n",
       "    <tr>\n",
       "      <th>4</th>\n",
       "      <td>SPARC</td>\n",
       "      <td>ENSG00000113140</td>\n",
       "      <td>5</td>\n",
       "    </tr>\n",
       "  </tbody>\n",
       "</table>\n",
       "</div>"
      ],
      "text/plain": [
       "       name               id chr\n",
       "0      GAS6  ENSG00000183087  13\n",
       "1     MMP14  ENSG00000157227  14\n",
       "2       DSP  ENSG00000096696   6\n",
       "3  MARCKSL1  ENSG00000175130   1\n",
       "4     SPARC  ENSG00000113140   5"
      ]
     },
     "execution_count": 16,
     "metadata": {},
     "output_type": "execute_result"
    }
   ],
   "source": [
    "genes_info.head()"
   ]
  },
  {
   "cell_type": "markdown",
   "id": "993a0d2d",
   "metadata": {
    "papermill": {
     "duration": 0.026052,
     "end_time": "2022-02-28T15:06:56.300487",
     "exception": false,
     "start_time": "2022-02-28T15:06:56.274435",
     "status": "completed"
    },
    "tags": []
   },
   "source": [
    "## Get tissues names"
   ]
  },
  {
   "cell_type": "code",
   "execution_count": 17,
   "id": "783dbd29",
   "metadata": {
    "execution": {
     "iopub.execute_input": "2022-02-28T15:06:56.354883Z",
     "iopub.status.busy": "2022-02-28T15:06:56.354305Z",
     "iopub.status.idle": "2022-02-28T15:06:56.368405Z",
     "shell.execute_reply": "2022-02-28T15:06:56.367889Z"
    },
    "papermill": {
     "duration": 0.042984,
     "end_time": "2022-02-28T15:06:56.369888",
     "exception": false,
     "start_time": "2022-02-28T15:06:56.326904",
     "status": "completed"
    },
    "tags": []
   },
   "outputs": [],
   "source": [
    "db_files = list(conf.PHENOMEXCAN[\"PREDICTION_MODELS\"][EQTL_MODEL].glob(\"*.db\"))"
   ]
  },
  {
   "cell_type": "code",
   "execution_count": 18,
   "id": "04664f7d",
   "metadata": {
    "execution": {
     "iopub.execute_input": "2022-02-28T15:06:56.424271Z",
     "iopub.status.busy": "2022-02-28T15:06:56.423673Z",
     "iopub.status.idle": "2022-02-28T15:06:56.437238Z",
     "shell.execute_reply": "2022-02-28T15:06:56.436646Z"
    },
    "papermill": {
     "duration": 0.042421,
     "end_time": "2022-02-28T15:06:56.438846",
     "exception": false,
     "start_time": "2022-02-28T15:06:56.396425",
     "status": "completed"
    },
    "tags": []
   },
   "outputs": [],
   "source": [
    "assert len(db_files) == 49"
   ]
  },
  {
   "cell_type": "code",
   "execution_count": 19,
   "id": "4717fbb3",
   "metadata": {
    "execution": {
     "iopub.execute_input": "2022-02-28T15:06:56.498105Z",
     "iopub.status.busy": "2022-02-28T15:06:56.497500Z",
     "iopub.status.idle": "2022-02-28T15:06:56.518408Z",
     "shell.execute_reply": "2022-02-28T15:06:56.517897Z"
    },
    "papermill": {
     "duration": 0.055551,
     "end_time": "2022-02-28T15:06:56.521231",
     "exception": false,
     "start_time": "2022-02-28T15:06:56.465680",
     "status": "completed"
    },
    "tags": []
   },
   "outputs": [],
   "source": [
    "tissues = [\n",
    "    str(f).split(EQTL_MODEL_FILES_PREFIX, maxsplit=1)[1].split(\".db\")[0]\n",
    "    for f in db_files\n",
    "]"
   ]
  },
  {
   "cell_type": "code",
   "execution_count": 20,
   "id": "3cc28e7c",
   "metadata": {
    "execution": {
     "iopub.execute_input": "2022-02-28T15:06:56.578191Z",
     "iopub.status.busy": "2022-02-28T15:06:56.578005Z",
     "iopub.status.idle": "2022-02-28T15:06:56.592448Z",
     "shell.execute_reply": "2022-02-28T15:06:56.591888Z"
    },
    "papermill": {
     "duration": 0.044217,
     "end_time": "2022-02-28T15:06:56.594294",
     "exception": false,
     "start_time": "2022-02-28T15:06:56.550077",
     "status": "completed"
    },
    "tags": []
   },
   "outputs": [
    {
     "data": {
      "text/plain": [
       "['Vagina',\n",
       " 'Colon_Sigmoid',\n",
       " 'Brain_Caudate_basal_ganglia',\n",
       " 'Stomach',\n",
       " 'Skin_Not_Sun_Exposed_Suprapubic']"
      ]
     },
     "execution_count": 20,
     "metadata": {},
     "output_type": "execute_result"
    }
   ],
   "source": [
    "tissues[:5]"
   ]
  },
  {
   "cell_type": "markdown",
   "id": "65fba569",
   "metadata": {
    "papermill": {
     "duration": 0.027253,
     "end_time": "2022-02-28T15:06:56.650568",
     "exception": false,
     "start_time": "2022-02-28T15:06:56.623315",
     "status": "completed"
    },
    "tags": []
   },
   "source": [
    "# Test"
   ]
  },
  {
   "cell_type": "code",
   "execution_count": 21,
   "id": "c557bc63",
   "metadata": {
    "execution": {
     "iopub.execute_input": "2022-02-28T15:06:56.705821Z",
     "iopub.status.busy": "2022-02-28T15:06:56.705365Z",
     "iopub.status.idle": "2022-02-28T15:06:56.726714Z",
     "shell.execute_reply": "2022-02-28T15:06:56.726209Z"
    },
    "papermill": {
     "duration": 0.051082,
     "end_time": "2022-02-28T15:06:56.728234",
     "exception": false,
     "start_time": "2022-02-28T15:06:56.677152",
     "status": "completed"
    },
    "tags": []
   },
   "outputs": [
    {
     "data": {
      "text/html": [
       "<div>\n",
       "<style scoped>\n",
       "    .dataframe tbody tr th:only-of-type {\n",
       "        vertical-align: middle;\n",
       "    }\n",
       "\n",
       "    .dataframe tbody tr th {\n",
       "        vertical-align: top;\n",
       "    }\n",
       "\n",
       "    .dataframe thead th {\n",
       "        text-align: right;\n",
       "    }\n",
       "</style>\n",
       "<table border=\"1\" class=\"dataframe\">\n",
       "  <thead>\n",
       "    <tr style=\"text-align: right;\">\n",
       "      <th></th>\n",
       "      <th>name</th>\n",
       "      <th>id</th>\n",
       "      <th>chr</th>\n",
       "    </tr>\n",
       "  </thead>\n",
       "  <tbody>\n",
       "    <tr>\n",
       "      <th>0</th>\n",
       "      <td>GAS6</td>\n",
       "      <td>ENSG00000183087</td>\n",
       "      <td>13</td>\n",
       "    </tr>\n",
       "    <tr>\n",
       "      <th>139</th>\n",
       "      <td>FRY</td>\n",
       "      <td>ENSG00000073910</td>\n",
       "      <td>13</td>\n",
       "    </tr>\n",
       "    <tr>\n",
       "      <th>239</th>\n",
       "      <td>CCNA1</td>\n",
       "      <td>ENSG00000133101</td>\n",
       "      <td>13</td>\n",
       "    </tr>\n",
       "    <tr>\n",
       "      <th>283</th>\n",
       "      <td>FLT3</td>\n",
       "      <td>ENSG00000122025</td>\n",
       "      <td>13</td>\n",
       "    </tr>\n",
       "    <tr>\n",
       "      <th>412</th>\n",
       "      <td>TNFSF11</td>\n",
       "      <td>ENSG00000120659</td>\n",
       "      <td>13</td>\n",
       "    </tr>\n",
       "    <tr>\n",
       "      <th>...</th>\n",
       "      <td>...</td>\n",
       "      <td>...</td>\n",
       "      <td>...</td>\n",
       "    </tr>\n",
       "    <tr>\n",
       "      <th>6269</th>\n",
       "      <td>KL</td>\n",
       "      <td>ENSG00000133116</td>\n",
       "      <td>13</td>\n",
       "    </tr>\n",
       "    <tr>\n",
       "      <th>6351</th>\n",
       "      <td>MTMR6</td>\n",
       "      <td>ENSG00000139505</td>\n",
       "      <td>13</td>\n",
       "    </tr>\n",
       "    <tr>\n",
       "      <th>6379</th>\n",
       "      <td>ABCC4</td>\n",
       "      <td>ENSG00000125257</td>\n",
       "      <td>13</td>\n",
       "    </tr>\n",
       "    <tr>\n",
       "      <th>6416</th>\n",
       "      <td>RFXAP</td>\n",
       "      <td>ENSG00000133111</td>\n",
       "      <td>13</td>\n",
       "    </tr>\n",
       "    <tr>\n",
       "      <th>6436</th>\n",
       "      <td>ELF1</td>\n",
       "      <td>ENSG00000120690</td>\n",
       "      <td>13</td>\n",
       "    </tr>\n",
       "  </tbody>\n",
       "</table>\n",
       "<p>118 rows × 3 columns</p>\n",
       "</div>"
      ],
      "text/plain": [
       "         name               id chr\n",
       "0        GAS6  ENSG00000183087  13\n",
       "139       FRY  ENSG00000073910  13\n",
       "239     CCNA1  ENSG00000133101  13\n",
       "283      FLT3  ENSG00000122025  13\n",
       "412   TNFSF11  ENSG00000120659  13\n",
       "...       ...              ...  ..\n",
       "6269       KL  ENSG00000133116  13\n",
       "6351    MTMR6  ENSG00000139505  13\n",
       "6379    ABCC4  ENSG00000125257  13\n",
       "6416    RFXAP  ENSG00000133111  13\n",
       "6436     ELF1  ENSG00000120690  13\n",
       "\n",
       "[118 rows x 3 columns]"
      ]
     },
     "execution_count": 21,
     "metadata": {},
     "output_type": "execute_result"
    }
   ],
   "source": [
    "genes_info[genes_info[\"chr\"] == \"13\"]"
   ]
  },
  {
   "cell_type": "code",
   "execution_count": 22,
   "id": "d9a014bc",
   "metadata": {
    "execution": {
     "iopub.execute_input": "2022-02-28T15:06:56.787406Z",
     "iopub.status.busy": "2022-02-28T15:06:56.787176Z",
     "iopub.status.idle": "2022-02-28T15:06:56.805729Z",
     "shell.execute_reply": "2022-02-28T15:06:56.805222Z"
    },
    "papermill": {
     "duration": 0.049275,
     "end_time": "2022-02-28T15:06:56.807319",
     "exception": false,
     "start_time": "2022-02-28T15:06:56.758044",
     "status": "completed"
    },
    "tags": []
   },
   "outputs": [],
   "source": [
    "_gene_list = [\n",
    "    Gene(\"ENSG00000134871\"),\n",
    "    Gene(\"ENSG00000187498\"),\n",
    "    Gene(\"ENSG00000183087\"),\n",
    "    Gene(\"ENSG00000073910\"),\n",
    "    Gene(\"ENSG00000133101\"),\n",
    "    Gene(\"ENSG00000122025\"),\n",
    "    Gene(\"ENSG00000120659\"),\n",
    "    Gene(\"ENSG00000133116\"),\n",
    "]\n",
    "\n",
    "tissue = \"Whole_Blood\""
   ]
  },
  {
   "cell_type": "code",
   "execution_count": 23,
   "id": "14337f6d",
   "metadata": {
    "execution": {
     "iopub.execute_input": "2022-02-28T15:06:56.863711Z",
     "iopub.status.busy": "2022-02-28T15:06:56.863451Z",
     "iopub.status.idle": "2022-02-28T15:06:57.718052Z",
     "shell.execute_reply": "2022-02-28T15:06:57.717556Z"
    },
    "papermill": {
     "duration": 0.883774,
     "end_time": "2022-02-28T15:06:57.719441",
     "exception": false,
     "start_time": "2022-02-28T15:06:56.835667",
     "status": "completed"
    },
    "tags": []
   },
   "outputs": [
    {
     "name": "stdout",
     "output_type": "stream",
     "text": [
      "81.6 ms ± 11.9 ms per loop (mean ± std. dev. of 7 runs, 1 loop each)\n"
     ]
    }
   ],
   "source": [
    "%%timeit\n",
    "for gene_idx1 in range(0, len(_gene_list) - 1):\n",
    "    gene_obj1 = _gene_list[gene_idx1]\n",
    "\n",
    "    for gene_idx2 in range(gene_idx1 + 1, len(_gene_list)):\n",
    "        gene_obj2 = _gene_list[gene_idx2]\n",
    "\n",
    "        gene_obj1.get_expression_correlation(\n",
    "            gene_obj2,\n",
    "            tissue,\n",
    "        )"
   ]
  },
  {
   "cell_type": "markdown",
   "id": "7787172c",
   "metadata": {
    "papermill": {
     "duration": 0.027056,
     "end_time": "2022-02-28T15:06:57.774781",
     "exception": false,
     "start_time": "2022-02-28T15:06:57.747725",
     "status": "completed"
    },
    "tags": []
   },
   "source": [
    "# Compute correlation per chromosome"
   ]
  },
  {
   "cell_type": "code",
   "execution_count": 24,
   "id": "53bac8a2",
   "metadata": {
    "execution": {
     "iopub.execute_input": "2022-02-28T15:06:57.829251Z",
     "iopub.status.busy": "2022-02-28T15:06:57.828770Z",
     "iopub.status.idle": "2022-02-28T15:17:03.711679Z",
     "shell.execute_reply": "2022-02-28T15:17:03.709969Z"
    },
    "papermill": {
     "duration": 605.912066,
     "end_time": "2022-02-28T15:17:03.713317",
     "exception": false,
     "start_time": "2022-02-28T15:06:57.801251",
     "status": "completed"
    },
    "tags": []
   },
   "outputs": [
    {
     "name": "stdout",
     "output_type": "stream",
     "text": [
      "Chromosome 13\n",
      "Genes in chromosome(118, 3)\n",
      "Number of gene combinations: 6903\n",
      "Tissue Vagina\n"
     ]
    },
    {
     "name": "stderr",
     "output_type": "stream",
     "text": [
      "100%|██████████████████████████████████████████████████████████| 6903/6903 [00:18<00:00, 378.22it/s]"
     ]
    },
    {
     "name": "stdout",
     "output_type": "stream",
     "text": [
      "Min/max values: -0.38466992368585873 / 0.6450809032575108\n"
     ]
    },
    {
     "name": "stderr",
     "output_type": "stream",
     "text": [
      "\n"
     ]
    },
    {
     "data": {
      "text/plain": [
       "PosixPath('/opt/data/data/phenomexcan/ld_blocks/en_gene_corrs/Vagina/gene_corrs-Vagina-chr13.pkl')"
      ]
     },
     "metadata": {},
     "output_type": "display_data"
    },
    {
     "name": "stdout",
     "output_type": "stream",
     "text": [
      "Tissue Colon_Sigmoid\n"
     ]
    },
    {
     "name": "stderr",
     "output_type": "stream",
     "text": [
      "100%|██████████████████████████████████████████████████████████| 6903/6903 [00:11<00:00, 625.32it/s]"
     ]
    },
    {
     "name": "stdout",
     "output_type": "stream",
     "text": [
      "Min/max values: -0.7178334743674241 / 0.7248155409339067\n"
     ]
    },
    {
     "name": "stderr",
     "output_type": "stream",
     "text": [
      "\n"
     ]
    },
    {
     "data": {
      "text/plain": [
       "PosixPath('/opt/data/data/phenomexcan/ld_blocks/en_gene_corrs/Colon_Sigmoid/gene_corrs-Colon_Sigmoid-chr13.pkl')"
      ]
     },
     "metadata": {},
     "output_type": "display_data"
    },
    {
     "name": "stdout",
     "output_type": "stream",
     "text": [
      "Tissue Brain_Caudate_basal_ganglia\n"
     ]
    },
    {
     "name": "stderr",
     "output_type": "stream",
     "text": [
      "100%|█████████████████████████████████████████████████████████| 6903/6903 [00:06<00:00, 1004.89it/s]"
     ]
    },
    {
     "name": "stdout",
     "output_type": "stream",
     "text": [
      "Min/max values: -0.551966657359251 / 0.30980166627360717\n"
     ]
    },
    {
     "name": "stderr",
     "output_type": "stream",
     "text": [
      "\n"
     ]
    },
    {
     "data": {
      "text/plain": [
       "PosixPath('/opt/data/data/phenomexcan/ld_blocks/en_gene_corrs/Brain_Caudate_basal_ganglia/gene_corrs-Brain_Caudate_basal_ganglia-chr13.pkl')"
      ]
     },
     "metadata": {},
     "output_type": "display_data"
    },
    {
     "name": "stdout",
     "output_type": "stream",
     "text": [
      "Tissue Stomach\n"
     ]
    },
    {
     "name": "stderr",
     "output_type": "stream",
     "text": [
      "100%|██████████████████████████████████████████████████████████| 6903/6903 [00:09<00:00, 695.76it/s]"
     ]
    },
    {
     "name": "stdout",
     "output_type": "stream",
     "text": [
      "Min/max values: -0.8232350834466894 / 0.37937912239455107\n"
     ]
    },
    {
     "name": "stderr",
     "output_type": "stream",
     "text": [
      "\n"
     ]
    },
    {
     "data": {
      "text/plain": [
       "PosixPath('/opt/data/data/phenomexcan/ld_blocks/en_gene_corrs/Stomach/gene_corrs-Stomach-chr13.pkl')"
      ]
     },
     "metadata": {},
     "output_type": "display_data"
    },
    {
     "name": "stdout",
     "output_type": "stream",
     "text": [
      "Tissue Skin_Not_Sun_Exposed_Suprapubic\n"
     ]
    },
    {
     "name": "stderr",
     "output_type": "stream",
     "text": [
      "100%|██████████████████████████████████████████████████████████| 6903/6903 [00:19<00:00, 356.23it/s]"
     ]
    },
    {
     "name": "stdout",
     "output_type": "stream",
     "text": [
      "Min/max values: -0.5571878977270063 / 0.7964858854976163\n"
     ]
    },
    {
     "name": "stderr",
     "output_type": "stream",
     "text": [
      "\n"
     ]
    },
    {
     "data": {
      "text/plain": [
       "PosixPath('/opt/data/data/phenomexcan/ld_blocks/en_gene_corrs/Skin_Not_Sun_Exposed_Suprapubic/gene_corrs-Skin_Not_Sun_Exposed_Suprapubic-chr13.pkl')"
      ]
     },
     "metadata": {},
     "output_type": "display_data"
    },
    {
     "name": "stdout",
     "output_type": "stream",
     "text": [
      "Tissue Artery_Tibial\n"
     ]
    },
    {
     "name": "stderr",
     "output_type": "stream",
     "text": [
      "100%|██████████████████████████████████████████████████████████| 6903/6903 [00:24<00:00, 285.82it/s]"
     ]
    },
    {
     "name": "stdout",
     "output_type": "stream",
     "text": [
      "Min/max values: -0.7298068798803592 / 0.7682212404589888\n"
     ]
    },
    {
     "name": "stderr",
     "output_type": "stream",
     "text": [
      "\n"
     ]
    },
    {
     "data": {
      "text/plain": [
       "PosixPath('/opt/data/data/phenomexcan/ld_blocks/en_gene_corrs/Artery_Tibial/gene_corrs-Artery_Tibial-chr13.pkl')"
      ]
     },
     "metadata": {},
     "output_type": "display_data"
    },
    {
     "name": "stdout",
     "output_type": "stream",
     "text": [
      "Tissue Brain_Hippocampus\n"
     ]
    },
    {
     "name": "stderr",
     "output_type": "stream",
     "text": [
      "100%|█████████████████████████████████████████████████████████| 6903/6903 [00:03<00:00, 1923.25it/s]"
     ]
    },
    {
     "name": "stdout",
     "output_type": "stream",
     "text": [
      "Min/max values: -0.08678883711249968 / 0.0966851656753856\n"
     ]
    },
    {
     "name": "stderr",
     "output_type": "stream",
     "text": [
      "\n"
     ]
    },
    {
     "data": {
      "text/plain": [
       "PosixPath('/opt/data/data/phenomexcan/ld_blocks/en_gene_corrs/Brain_Hippocampus/gene_corrs-Brain_Hippocampus-chr13.pkl')"
      ]
     },
     "metadata": {},
     "output_type": "display_data"
    },
    {
     "name": "stdout",
     "output_type": "stream",
     "text": [
      "Tissue Esophagus_Gastroesophageal_Junction\n"
     ]
    },
    {
     "name": "stderr",
     "output_type": "stream",
     "text": [
      "100%|██████████████████████████████████████████████████████████| 6903/6903 [00:11<00:00, 607.89it/s]"
     ]
    },
    {
     "name": "stdout",
     "output_type": "stream",
     "text": [
      "Min/max values: -0.6159173669356214 / 0.5978609385291601\n"
     ]
    },
    {
     "name": "stderr",
     "output_type": "stream",
     "text": [
      "\n"
     ]
    },
    {
     "data": {
      "text/plain": [
       "PosixPath('/opt/data/data/phenomexcan/ld_blocks/en_gene_corrs/Esophagus_Gastroesophageal_Junction/gene_corrs-Esophagus_Gastroesophageal_Junction-chr13.pkl')"
      ]
     },
     "metadata": {},
     "output_type": "display_data"
    },
    {
     "name": "stdout",
     "output_type": "stream",
     "text": [
      "Tissue Esophagus_Muscularis\n"
     ]
    },
    {
     "name": "stderr",
     "output_type": "stream",
     "text": [
      "100%|██████████████████████████████████████████████████████████| 6903/6903 [00:16<00:00, 414.43it/s]"
     ]
    },
    {
     "name": "stdout",
     "output_type": "stream",
     "text": [
      "Min/max values: -0.7329987422341311 / 0.6964954685797613\n"
     ]
    },
    {
     "name": "stderr",
     "output_type": "stream",
     "text": [
      "\n"
     ]
    },
    {
     "data": {
      "text/plain": [
       "PosixPath('/opt/data/data/phenomexcan/ld_blocks/en_gene_corrs/Esophagus_Muscularis/gene_corrs-Esophagus_Muscularis-chr13.pkl')"
      ]
     },
     "metadata": {},
     "output_type": "display_data"
    },
    {
     "name": "stdout",
     "output_type": "stream",
     "text": [
      "Tissue Cells_Cultured_fibroblasts\n"
     ]
    },
    {
     "name": "stderr",
     "output_type": "stream",
     "text": [
      "100%|██████████████████████████████████████████████████████████| 6903/6903 [00:28<00:00, 239.39it/s]"
     ]
    },
    {
     "name": "stdout",
     "output_type": "stream",
     "text": [
      "Min/max values: -0.885024405275239 / 0.9300838122394849\n"
     ]
    },
    {
     "name": "stderr",
     "output_type": "stream",
     "text": [
      "\n"
     ]
    },
    {
     "data": {
      "text/plain": [
       "PosixPath('/opt/data/data/phenomexcan/ld_blocks/en_gene_corrs/Cells_Cultured_fibroblasts/gene_corrs-Cells_Cultured_fibroblasts-chr13.pkl')"
      ]
     },
     "metadata": {},
     "output_type": "display_data"
    },
    {
     "name": "stdout",
     "output_type": "stream",
     "text": [
      "Tissue Brain_Nucleus_accumbens_basal_ganglia\n"
     ]
    },
    {
     "name": "stderr",
     "output_type": "stream",
     "text": [
      "100%|█████████████████████████████████████████████████████████| 6903/6903 [00:06<00:00, 1007.88it/s]"
     ]
    },
    {
     "name": "stdout",
     "output_type": "stream",
     "text": [
      "Min/max values: -0.4024643182126458 / 0.16848213955349983\n"
     ]
    },
    {
     "name": "stderr",
     "output_type": "stream",
     "text": [
      "\n"
     ]
    },
    {
     "data": {
      "text/plain": [
       "PosixPath('/opt/data/data/phenomexcan/ld_blocks/en_gene_corrs/Brain_Nucleus_accumbens_basal_ganglia/gene_corrs-Brain_Nucleus_accumbens_basal_ganglia-chr13.pkl')"
      ]
     },
     "metadata": {},
     "output_type": "display_data"
    },
    {
     "name": "stdout",
     "output_type": "stream",
     "text": [
      "Tissue Brain_Frontal_Cortex_BA9\n"
     ]
    },
    {
     "name": "stderr",
     "output_type": "stream",
     "text": [
      "100%|█████████████████████████████████████████████████████████| 6903/6903 [00:06<00:00, 1046.88it/s]"
     ]
    },
    {
     "name": "stdout",
     "output_type": "stream",
     "text": [
      "Min/max values: -0.13126185387776643 / 0.12917179749302854\n"
     ]
    },
    {
     "name": "stderr",
     "output_type": "stream",
     "text": [
      "\n"
     ]
    },
    {
     "data": {
      "text/plain": [
       "PosixPath('/opt/data/data/phenomexcan/ld_blocks/en_gene_corrs/Brain_Frontal_Cortex_BA9/gene_corrs-Brain_Frontal_Cortex_BA9-chr13.pkl')"
      ]
     },
     "metadata": {},
     "output_type": "display_data"
    },
    {
     "name": "stdout",
     "output_type": "stream",
     "text": [
      "Tissue Brain_Hypothalamus\n"
     ]
    },
    {
     "name": "stderr",
     "output_type": "stream",
     "text": [
      "100%|█████████████████████████████████████████████████████████| 6903/6903 [00:04<00:00, 1425.81it/s]"
     ]
    },
    {
     "name": "stdout",
     "output_type": "stream",
     "text": [
      "Min/max values: -0.14551453264770053 / 0.13398215634671917\n"
     ]
    },
    {
     "name": "stderr",
     "output_type": "stream",
     "text": [
      "\n"
     ]
    },
    {
     "data": {
      "text/plain": [
       "PosixPath('/opt/data/data/phenomexcan/ld_blocks/en_gene_corrs/Brain_Hypothalamus/gene_corrs-Brain_Hypothalamus-chr13.pkl')"
      ]
     },
     "metadata": {},
     "output_type": "display_data"
    },
    {
     "name": "stdout",
     "output_type": "stream",
     "text": [
      "Tissue Breast_Mammary_Tissue\n"
     ]
    },
    {
     "name": "stderr",
     "output_type": "stream",
     "text": [
      "100%|██████████████████████████████████████████████████████████| 6903/6903 [00:11<00:00, 600.01it/s]"
     ]
    },
    {
     "name": "stdout",
     "output_type": "stream",
     "text": [
      "Min/max values: -0.8062952914595595 / 0.6456507834948358\n"
     ]
    },
    {
     "name": "stderr",
     "output_type": "stream",
     "text": [
      "\n"
     ]
    },
    {
     "data": {
      "text/plain": [
       "PosixPath('/opt/data/data/phenomexcan/ld_blocks/en_gene_corrs/Breast_Mammary_Tissue/gene_corrs-Breast_Mammary_Tissue-chr13.pkl')"
      ]
     },
     "metadata": {},
     "output_type": "display_data"
    },
    {
     "name": "stdout",
     "output_type": "stream",
     "text": [
      "Tissue Colon_Transverse\n"
     ]
    },
    {
     "name": "stderr",
     "output_type": "stream",
     "text": [
      "100%|██████████████████████████████████████████████████████████| 6903/6903 [00:12<00:00, 555.40it/s]"
     ]
    },
    {
     "name": "stdout",
     "output_type": "stream",
     "text": [
      "Min/max values: -0.7907745297223252 / 0.7055558916311174\n"
     ]
    },
    {
     "name": "stderr",
     "output_type": "stream",
     "text": [
      "\n"
     ]
    },
    {
     "data": {
      "text/plain": [
       "PosixPath('/opt/data/data/phenomexcan/ld_blocks/en_gene_corrs/Colon_Transverse/gene_corrs-Colon_Transverse-chr13.pkl')"
      ]
     },
     "metadata": {},
     "output_type": "display_data"
    },
    {
     "name": "stdout",
     "output_type": "stream",
     "text": [
      "Tissue Lung\n"
     ]
    },
    {
     "name": "stderr",
     "output_type": "stream",
     "text": [
      "100%|██████████████████████████████████████████████████████████| 6903/6903 [00:18<00:00, 383.03it/s]"
     ]
    },
    {
     "name": "stdout",
     "output_type": "stream",
     "text": [
      "Min/max values: -0.6847495912145205 / 0.7923715650185331\n"
     ]
    },
    {
     "name": "stderr",
     "output_type": "stream",
     "text": [
      "\n"
     ]
    },
    {
     "data": {
      "text/plain": [
       "PosixPath('/opt/data/data/phenomexcan/ld_blocks/en_gene_corrs/Lung/gene_corrs-Lung-chr13.pkl')"
      ]
     },
     "metadata": {},
     "output_type": "display_data"
    },
    {
     "name": "stdout",
     "output_type": "stream",
     "text": [
      "Tissue Esophagus_Mucosa\n"
     ]
    },
    {
     "name": "stderr",
     "output_type": "stream",
     "text": [
      "100%|██████████████████████████████████████████████████████████| 6903/6903 [00:20<00:00, 333.43it/s]"
     ]
    },
    {
     "name": "stdout",
     "output_type": "stream",
     "text": [
      "Min/max values: -0.6455829086634268 / 0.46104341765203366\n"
     ]
    },
    {
     "name": "stderr",
     "output_type": "stream",
     "text": [
      "\n"
     ]
    },
    {
     "data": {
      "text/plain": [
       "PosixPath('/opt/data/data/phenomexcan/ld_blocks/en_gene_corrs/Esophagus_Mucosa/gene_corrs-Esophagus_Mucosa-chr13.pkl')"
      ]
     },
     "metadata": {},
     "output_type": "display_data"
    },
    {
     "name": "stdout",
     "output_type": "stream",
     "text": [
      "Tissue Brain_Cerebellum\n"
     ]
    },
    {
     "name": "stderr",
     "output_type": "stream",
     "text": [
      "100%|██████████████████████████████████████████████████████████| 6903/6903 [00:15<00:00, 449.65it/s]"
     ]
    },
    {
     "name": "stdout",
     "output_type": "stream",
     "text": [
      "Min/max values: -0.9436239816817138 / 0.9762235928861425\n"
     ]
    },
    {
     "name": "stderr",
     "output_type": "stream",
     "text": [
      "\n"
     ]
    },
    {
     "data": {
      "text/plain": [
       "PosixPath('/opt/data/data/phenomexcan/ld_blocks/en_gene_corrs/Brain_Cerebellum/gene_corrs-Brain_Cerebellum-chr13.pkl')"
      ]
     },
     "metadata": {},
     "output_type": "display_data"
    },
    {
     "name": "stdout",
     "output_type": "stream",
     "text": [
      "Tissue Brain_Putamen_basal_ganglia\n"
     ]
    },
    {
     "name": "stderr",
     "output_type": "stream",
     "text": [
      "100%|██████████████████████████████████████████████████████████| 6903/6903 [00:07<00:00, 881.79it/s]"
     ]
    },
    {
     "name": "stdout",
     "output_type": "stream",
     "text": [
      "Min/max values: -0.5826119272111444 / 0.13474136825203\n"
     ]
    },
    {
     "name": "stderr",
     "output_type": "stream",
     "text": [
      "\n"
     ]
    },
    {
     "data": {
      "text/plain": [
       "PosixPath('/opt/data/data/phenomexcan/ld_blocks/en_gene_corrs/Brain_Putamen_basal_ganglia/gene_corrs-Brain_Putamen_basal_ganglia-chr13.pkl')"
      ]
     },
     "metadata": {},
     "output_type": "display_data"
    },
    {
     "name": "stdout",
     "output_type": "stream",
     "text": [
      "Tissue Heart_Atrial_Appendage\n"
     ]
    },
    {
     "name": "stderr",
     "output_type": "stream",
     "text": [
      "100%|██████████████████████████████████████████████████████████| 6903/6903 [00:15<00:00, 454.87it/s]"
     ]
    },
    {
     "name": "stdout",
     "output_type": "stream",
     "text": [
      "Min/max values: -0.7461978823901869 / 0.7214695375273388\n"
     ]
    },
    {
     "name": "stderr",
     "output_type": "stream",
     "text": [
      "\n"
     ]
    },
    {
     "data": {
      "text/plain": [
       "PosixPath('/opt/data/data/phenomexcan/ld_blocks/en_gene_corrs/Heart_Atrial_Appendage/gene_corrs-Heart_Atrial_Appendage-chr13.pkl')"
      ]
     },
     "metadata": {},
     "output_type": "display_data"
    },
    {
     "name": "stdout",
     "output_type": "stream",
     "text": [
      "Tissue Heart_Left_Ventricle\n"
     ]
    },
    {
     "name": "stderr",
     "output_type": "stream",
     "text": [
      "100%|██████████████████████████████████████████████████████████| 6903/6903 [00:13<00:00, 524.83it/s]"
     ]
    },
    {
     "name": "stdout",
     "output_type": "stream",
     "text": [
      "Min/max values: -0.6818463089051068 / 0.5245790489850878\n"
     ]
    },
    {
     "name": "stderr",
     "output_type": "stream",
     "text": [
      "\n"
     ]
    },
    {
     "data": {
      "text/plain": [
       "PosixPath('/opt/data/data/phenomexcan/ld_blocks/en_gene_corrs/Heart_Left_Ventricle/gene_corrs-Heart_Left_Ventricle-chr13.pkl')"
      ]
     },
     "metadata": {},
     "output_type": "display_data"
    },
    {
     "name": "stdout",
     "output_type": "stream",
     "text": [
      "Tissue Brain_Anterior_cingulate_cortex_BA24\n"
     ]
    },
    {
     "name": "stderr",
     "output_type": "stream",
     "text": [
      "100%|█████████████████████████████████████████████████████████| 6903/6903 [00:03<00:00, 2010.39it/s]"
     ]
    },
    {
     "name": "stdout",
     "output_type": "stream",
     "text": [
      "Min/max values: -0.29438386647792136 / 0.08606728410769264\n"
     ]
    },
    {
     "name": "stderr",
     "output_type": "stream",
     "text": [
      "\n"
     ]
    },
    {
     "data": {
      "text/plain": [
       "PosixPath('/opt/data/data/phenomexcan/ld_blocks/en_gene_corrs/Brain_Anterior_cingulate_cortex_BA24/gene_corrs-Brain_Anterior_cingulate_cortex_BA24-chr13.pkl')"
      ]
     },
     "metadata": {},
     "output_type": "display_data"
    },
    {
     "name": "stdout",
     "output_type": "stream",
     "text": [
      "Tissue Nerve_Tibial\n"
     ]
    },
    {
     "name": "stderr",
     "output_type": "stream",
     "text": [
      "100%|██████████████████████████████████████████████████████████| 6903/6903 [00:30<00:00, 228.63it/s]"
     ]
    },
    {
     "name": "stdout",
     "output_type": "stream",
     "text": [
      "Min/max values: -0.8375442821928033 / 0.5894426093860778\n"
     ]
    },
    {
     "name": "stderr",
     "output_type": "stream",
     "text": [
      "\n"
     ]
    },
    {
     "data": {
      "text/plain": [
       "PosixPath('/opt/data/data/phenomexcan/ld_blocks/en_gene_corrs/Nerve_Tibial/gene_corrs-Nerve_Tibial-chr13.pkl')"
      ]
     },
     "metadata": {},
     "output_type": "display_data"
    },
    {
     "name": "stdout",
     "output_type": "stream",
     "text": [
      "Tissue Prostate\n"
     ]
    },
    {
     "name": "stderr",
     "output_type": "stream",
     "text": [
      "100%|█████████████████████████████████████████████████████████| 6903/6903 [00:05<00:00, 1344.21it/s]"
     ]
    },
    {
     "name": "stdout",
     "output_type": "stream",
     "text": [
      "Min/max values: -0.3044067195989264 / 0.883876083945302\n"
     ]
    },
    {
     "name": "stderr",
     "output_type": "stream",
     "text": [
      "\n"
     ]
    },
    {
     "data": {
      "text/plain": [
       "PosixPath('/opt/data/data/phenomexcan/ld_blocks/en_gene_corrs/Prostate/gene_corrs-Prostate-chr13.pkl')"
      ]
     },
     "metadata": {},
     "output_type": "display_data"
    },
    {
     "name": "stdout",
     "output_type": "stream",
     "text": [
      "Tissue Adrenal_Gland\n"
     ]
    },
    {
     "name": "stderr",
     "output_type": "stream",
     "text": [
      "100%|██████████████████████████████████████████████████████████| 6903/6903 [00:08<00:00, 832.83it/s]"
     ]
    },
    {
     "name": "stdout",
     "output_type": "stream",
     "text": [
      "Min/max values: -0.6468254904775615 / 0.46177476481068963\n"
     ]
    },
    {
     "name": "stderr",
     "output_type": "stream",
     "text": [
      "\n"
     ]
    },
    {
     "data": {
      "text/plain": [
       "PosixPath('/opt/data/data/phenomexcan/ld_blocks/en_gene_corrs/Adrenal_Gland/gene_corrs-Adrenal_Gland-chr13.pkl')"
      ]
     },
     "metadata": {},
     "output_type": "display_data"
    },
    {
     "name": "stdout",
     "output_type": "stream",
     "text": [
      "Tissue Minor_Salivary_Gland\n"
     ]
    },
    {
     "name": "stderr",
     "output_type": "stream",
     "text": [
      "100%|█████████████████████████████████████████████████████████| 6903/6903 [00:03<00:00, 2281.54it/s]"
     ]
    },
    {
     "name": "stdout",
     "output_type": "stream",
     "text": [
      "Min/max values: -0.10400671044263103 / 0.09598501431721708\n"
     ]
    },
    {
     "name": "stderr",
     "output_type": "stream",
     "text": [
      "\n"
     ]
    },
    {
     "data": {
      "text/plain": [
       "PosixPath('/opt/data/data/phenomexcan/ld_blocks/en_gene_corrs/Minor_Salivary_Gland/gene_corrs-Minor_Salivary_Gland-chr13.pkl')"
      ]
     },
     "metadata": {},
     "output_type": "display_data"
    },
    {
     "name": "stdout",
     "output_type": "stream",
     "text": [
      "Tissue Testis\n"
     ]
    },
    {
     "name": "stderr",
     "output_type": "stream",
     "text": [
      "100%|██████████████████████████████████████████████████████████| 6903/6903 [00:19<00:00, 347.95it/s]"
     ]
    },
    {
     "name": "stdout",
     "output_type": "stream",
     "text": [
      "Min/max values: -0.7331961072013412 / 0.8464504715287497\n"
     ]
    },
    {
     "name": "stderr",
     "output_type": "stream",
     "text": [
      "\n"
     ]
    },
    {
     "data": {
      "text/plain": [
       "PosixPath('/opt/data/data/phenomexcan/ld_blocks/en_gene_corrs/Testis/gene_corrs-Testis-chr13.pkl')"
      ]
     },
     "metadata": {},
     "output_type": "display_data"
    },
    {
     "name": "stdout",
     "output_type": "stream",
     "text": [
      "Tissue Whole_Blood\n"
     ]
    },
    {
     "name": "stderr",
     "output_type": "stream",
     "text": [
      "100%|██████████████████████████████████████████████████████████| 6903/6903 [00:20<00:00, 341.12it/s]"
     ]
    },
    {
     "name": "stdout",
     "output_type": "stream",
     "text": [
      "Min/max values: -0.5793524815530673 / 0.7753461046463818\n"
     ]
    },
    {
     "name": "stderr",
     "output_type": "stream",
     "text": [
      "\n"
     ]
    },
    {
     "data": {
      "text/plain": [
       "PosixPath('/opt/data/data/phenomexcan/ld_blocks/en_gene_corrs/Whole_Blood/gene_corrs-Whole_Blood-chr13.pkl')"
      ]
     },
     "metadata": {},
     "output_type": "display_data"
    },
    {
     "name": "stdout",
     "output_type": "stream",
     "text": [
      "Tissue Thyroid\n"
     ]
    },
    {
     "name": "stderr",
     "output_type": "stream",
     "text": [
      "100%|██████████████████████████████████████████████████████████| 6903/6903 [00:27<00:00, 250.28it/s]"
     ]
    },
    {
     "name": "stdout",
     "output_type": "stream",
     "text": [
      "Min/max values: -0.836471473444557 / 0.896023476640296\n"
     ]
    },
    {
     "name": "stderr",
     "output_type": "stream",
     "text": [
      "\n"
     ]
    },
    {
     "data": {
      "text/plain": [
       "PosixPath('/opt/data/data/phenomexcan/ld_blocks/en_gene_corrs/Thyroid/gene_corrs-Thyroid-chr13.pkl')"
      ]
     },
     "metadata": {},
     "output_type": "display_data"
    },
    {
     "name": "stdout",
     "output_type": "stream",
     "text": [
      "Tissue Liver\n"
     ]
    },
    {
     "name": "stderr",
     "output_type": "stream",
     "text": [
      "100%|██████████████████████████████████████████████████████████| 6903/6903 [00:07<00:00, 895.27it/s]"
     ]
    },
    {
     "name": "stdout",
     "output_type": "stream",
     "text": [
      "Min/max values: -0.2092227140589381 / 0.7790288300225495\n"
     ]
    },
    {
     "name": "stderr",
     "output_type": "stream",
     "text": [
      "\n"
     ]
    },
    {
     "data": {
      "text/plain": [
       "PosixPath('/opt/data/data/phenomexcan/ld_blocks/en_gene_corrs/Liver/gene_corrs-Liver-chr13.pkl')"
      ]
     },
     "metadata": {},
     "output_type": "display_data"
    },
    {
     "name": "stdout",
     "output_type": "stream",
     "text": [
      "Tissue Pancreas\n"
     ]
    },
    {
     "name": "stderr",
     "output_type": "stream",
     "text": [
      "100%|██████████████████████████████████████████████████████████| 6903/6903 [00:13<00:00, 512.35it/s]"
     ]
    },
    {
     "name": "stdout",
     "output_type": "stream",
     "text": [
      "Min/max values: -0.8125684885061436 / 0.6708784873865853\n"
     ]
    },
    {
     "name": "stderr",
     "output_type": "stream",
     "text": [
      "\n"
     ]
    },
    {
     "data": {
      "text/plain": [
       "PosixPath('/opt/data/data/phenomexcan/ld_blocks/en_gene_corrs/Pancreas/gene_corrs-Pancreas-chr13.pkl')"
      ]
     },
     "metadata": {},
     "output_type": "display_data"
    },
    {
     "name": "stdout",
     "output_type": "stream",
     "text": [
      "Tissue Kidney_Cortex\n"
     ]
    },
    {
     "name": "stderr",
     "output_type": "stream",
     "text": [
      "100%|█████████████████████████████████████████████████████████| 6903/6903 [00:01<00:00, 4120.39it/s]"
     ]
    },
    {
     "name": "stdout",
     "output_type": "stream",
     "text": [
      "Min/max values: -0.37784322225388217 / 0.08571262369721595\n"
     ]
    },
    {
     "name": "stderr",
     "output_type": "stream",
     "text": [
      "\n"
     ]
    },
    {
     "data": {
      "text/plain": [
       "PosixPath('/opt/data/data/phenomexcan/ld_blocks/en_gene_corrs/Kidney_Cortex/gene_corrs-Kidney_Cortex-chr13.pkl')"
      ]
     },
     "metadata": {},
     "output_type": "display_data"
    },
    {
     "name": "stdout",
     "output_type": "stream",
     "text": [
      "Tissue Small_Intestine_Terminal_Ileum\n"
     ]
    },
    {
     "name": "stderr",
     "output_type": "stream",
     "text": [
      "100%|█████████████████████████████████████████████████████████| 6903/6903 [00:04<00:00, 1676.21it/s]"
     ]
    },
    {
     "name": "stdout",
     "output_type": "stream",
     "text": [
      "Min/max values: -0.1045342527187874 / 0.6448305143437394\n"
     ]
    },
    {
     "name": "stderr",
     "output_type": "stream",
     "text": [
      "\n"
     ]
    },
    {
     "data": {
      "text/plain": [
       "PosixPath('/opt/data/data/phenomexcan/ld_blocks/en_gene_corrs/Small_Intestine_Terminal_Ileum/gene_corrs-Small_Intestine_Terminal_Ileum-chr13.pkl')"
      ]
     },
     "metadata": {},
     "output_type": "display_data"
    },
    {
     "name": "stdout",
     "output_type": "stream",
     "text": [
      "Tissue Artery_Coronary\n"
     ]
    },
    {
     "name": "stderr",
     "output_type": "stream",
     "text": [
      "100%|██████████████████████████████████████████████████████████| 6903/6903 [00:07<00:00, 891.35it/s]"
     ]
    },
    {
     "name": "stdout",
     "output_type": "stream",
     "text": [
      "Min/max values: -0.32336503611306966 / 0.5037994992077834\n"
     ]
    },
    {
     "name": "stderr",
     "output_type": "stream",
     "text": [
      "\n"
     ]
    },
    {
     "data": {
      "text/plain": [
       "PosixPath('/opt/data/data/phenomexcan/ld_blocks/en_gene_corrs/Artery_Coronary/gene_corrs-Artery_Coronary-chr13.pkl')"
      ]
     },
     "metadata": {},
     "output_type": "display_data"
    },
    {
     "name": "stdout",
     "output_type": "stream",
     "text": [
      "Tissue Brain_Cerebellar_Hemisphere\n"
     ]
    },
    {
     "name": "stderr",
     "output_type": "stream",
     "text": [
      "100%|██████████████████████████████████████████████████████████| 6903/6903 [00:09<00:00, 705.73it/s]"
     ]
    },
    {
     "name": "stdout",
     "output_type": "stream",
     "text": [
      "Min/max values: -0.4803518649853133 / 0.16736194993657014\n"
     ]
    },
    {
     "name": "stderr",
     "output_type": "stream",
     "text": [
      "\n"
     ]
    },
    {
     "data": {
      "text/plain": [
       "PosixPath('/opt/data/data/phenomexcan/ld_blocks/en_gene_corrs/Brain_Cerebellar_Hemisphere/gene_corrs-Brain_Cerebellar_Hemisphere-chr13.pkl')"
      ]
     },
     "metadata": {},
     "output_type": "display_data"
    },
    {
     "name": "stdout",
     "output_type": "stream",
     "text": [
      "Tissue Cells_EBV-transformed_lymphocytes\n"
     ]
    },
    {
     "name": "stderr",
     "output_type": "stream",
     "text": [
      "100%|█████████████████████████████████████████████████████████| 6903/6903 [00:04<00:00, 1438.56it/s]"
     ]
    },
    {
     "name": "stdout",
     "output_type": "stream",
     "text": [
      "Min/max values: -0.36264741585294136 / 0.1503645219276775\n"
     ]
    },
    {
     "name": "stderr",
     "output_type": "stream",
     "text": [
      "\n"
     ]
    },
    {
     "data": {
      "text/plain": [
       "PosixPath('/opt/data/data/phenomexcan/ld_blocks/en_gene_corrs/Cells_EBV-transformed_lymphocytes/gene_corrs-Cells_EBV-transformed_lymphocytes-chr13.pkl')"
      ]
     },
     "metadata": {},
     "output_type": "display_data"
    },
    {
     "name": "stdout",
     "output_type": "stream",
     "text": [
      "Tissue Brain_Spinal_cord_cervical_c-1\n"
     ]
    },
    {
     "name": "stderr",
     "output_type": "stream",
     "text": [
      "100%|█████████████████████████████████████████████████████████| 6903/6903 [00:05<00:00, 1359.83it/s]"
     ]
    },
    {
     "name": "stdout",
     "output_type": "stream",
     "text": [
      "Min/max values: -0.20331544940088606 / 0.14632426043655009\n"
     ]
    },
    {
     "name": "stderr",
     "output_type": "stream",
     "text": [
      "\n"
     ]
    },
    {
     "data": {
      "text/plain": [
       "PosixPath('/opt/data/data/phenomexcan/ld_blocks/en_gene_corrs/Brain_Spinal_cord_cervical_c-1/gene_corrs-Brain_Spinal_cord_cervical_c-1-chr13.pkl')"
      ]
     },
     "metadata": {},
     "output_type": "display_data"
    },
    {
     "name": "stdout",
     "output_type": "stream",
     "text": [
      "Tissue Adipose_Visceral_Omentum\n"
     ]
    },
    {
     "name": "stderr",
     "output_type": "stream",
     "text": [
      "100%|██████████████████████████████████████████████████████████| 6903/6903 [00:19<00:00, 362.81it/s]"
     ]
    },
    {
     "name": "stdout",
     "output_type": "stream",
     "text": [
      "Min/max values: -0.7698021214323771 / 0.48642012958939934\n"
     ]
    },
    {
     "name": "stderr",
     "output_type": "stream",
     "text": [
      "\n"
     ]
    },
    {
     "data": {
      "text/plain": [
       "PosixPath('/opt/data/data/phenomexcan/ld_blocks/en_gene_corrs/Adipose_Visceral_Omentum/gene_corrs-Adipose_Visceral_Omentum-chr13.pkl')"
      ]
     },
     "metadata": {},
     "output_type": "display_data"
    },
    {
     "name": "stdout",
     "output_type": "stream",
     "text": [
      "Tissue Brain_Amygdala\n"
     ]
    },
    {
     "name": "stderr",
     "output_type": "stream",
     "text": [
      "100%|█████████████████████████████████████████████████████████| 6903/6903 [00:03<00:00, 1726.18it/s]"
     ]
    },
    {
     "name": "stdout",
     "output_type": "stream",
     "text": [
      "Min/max values: -0.1171638759242001 / 0.10401917722732842\n"
     ]
    },
    {
     "name": "stderr",
     "output_type": "stream",
     "text": [
      "\n"
     ]
    },
    {
     "data": {
      "text/plain": [
       "PosixPath('/opt/data/data/phenomexcan/ld_blocks/en_gene_corrs/Brain_Amygdala/gene_corrs-Brain_Amygdala-chr13.pkl')"
      ]
     },
     "metadata": {},
     "output_type": "display_data"
    },
    {
     "name": "stdout",
     "output_type": "stream",
     "text": [
      "Tissue Adipose_Subcutaneous\n"
     ]
    },
    {
     "name": "stderr",
     "output_type": "stream",
     "text": [
      "100%|██████████████████████████████████████████████████████████| 6903/6903 [00:21<00:00, 317.98it/s]"
     ]
    },
    {
     "name": "stdout",
     "output_type": "stream",
     "text": [
      "Min/max values: -0.892398824037277 / 0.5503625931427246\n"
     ]
    },
    {
     "name": "stderr",
     "output_type": "stream",
     "text": [
      "\n"
     ]
    },
    {
     "data": {
      "text/plain": [
       "PosixPath('/opt/data/data/phenomexcan/ld_blocks/en_gene_corrs/Adipose_Subcutaneous/gene_corrs-Adipose_Subcutaneous-chr13.pkl')"
      ]
     },
     "metadata": {},
     "output_type": "display_data"
    },
    {
     "name": "stdout",
     "output_type": "stream",
     "text": [
      "Tissue Spleen\n"
     ]
    },
    {
     "name": "stderr",
     "output_type": "stream",
     "text": [
      "100%|██████████████████████████████████████████████████████████| 6903/6903 [00:14<00:00, 472.38it/s]"
     ]
    },
    {
     "name": "stdout",
     "output_type": "stream",
     "text": [
      "Min/max values: -0.7550742018575851 / 0.3016290966929717\n"
     ]
    },
    {
     "name": "stderr",
     "output_type": "stream",
     "text": [
      "\n"
     ]
    },
    {
     "data": {
      "text/plain": [
       "PosixPath('/opt/data/data/phenomexcan/ld_blocks/en_gene_corrs/Spleen/gene_corrs-Spleen-chr13.pkl')"
      ]
     },
     "metadata": {},
     "output_type": "display_data"
    },
    {
     "name": "stdout",
     "output_type": "stream",
     "text": [
      "Tissue Muscle_Skeletal\n"
     ]
    },
    {
     "name": "stderr",
     "output_type": "stream",
     "text": [
      "100%|██████████████████████████████████████████████████████████| 6903/6903 [00:18<00:00, 370.67it/s]"
     ]
    },
    {
     "name": "stdout",
     "output_type": "stream",
     "text": [
      "Min/max values: -0.7626500851680094 / 0.722224259697265\n"
     ]
    },
    {
     "name": "stderr",
     "output_type": "stream",
     "text": [
      "\n"
     ]
    },
    {
     "data": {
      "text/plain": [
       "PosixPath('/opt/data/data/phenomexcan/ld_blocks/en_gene_corrs/Muscle_Skeletal/gene_corrs-Muscle_Skeletal-chr13.pkl')"
      ]
     },
     "metadata": {},
     "output_type": "display_data"
    },
    {
     "name": "stdout",
     "output_type": "stream",
     "text": [
      "Tissue Skin_Sun_Exposed_Lower_leg\n"
     ]
    },
    {
     "name": "stderr",
     "output_type": "stream",
     "text": [
      "100%|██████████████████████████████████████████████████████████| 6903/6903 [00:23<00:00, 290.70it/s]"
     ]
    },
    {
     "name": "stdout",
     "output_type": "stream",
     "text": [
      "Min/max values: -0.6436927232448302 / 0.45816613025005204\n"
     ]
    },
    {
     "name": "stderr",
     "output_type": "stream",
     "text": [
      "\n"
     ]
    },
    {
     "data": {
      "text/plain": [
       "PosixPath('/opt/data/data/phenomexcan/ld_blocks/en_gene_corrs/Skin_Sun_Exposed_Lower_leg/gene_corrs-Skin_Sun_Exposed_Lower_leg-chr13.pkl')"
      ]
     },
     "metadata": {},
     "output_type": "display_data"
    },
    {
     "name": "stdout",
     "output_type": "stream",
     "text": [
      "Tissue Brain_Substantia_nigra\n"
     ]
    },
    {
     "name": "stderr",
     "output_type": "stream",
     "text": [
      "100%|█████████████████████████████████████████████████████████| 6903/6903 [00:03<00:00, 2007.30it/s]"
     ]
    },
    {
     "name": "stdout",
     "output_type": "stream",
     "text": [
      "Min/max values: -0.35198693041772033 / 0.10433258724592986\n"
     ]
    },
    {
     "name": "stderr",
     "output_type": "stream",
     "text": [
      "\n"
     ]
    },
    {
     "data": {
      "text/plain": [
       "PosixPath('/opt/data/data/phenomexcan/ld_blocks/en_gene_corrs/Brain_Substantia_nigra/gene_corrs-Brain_Substantia_nigra-chr13.pkl')"
      ]
     },
     "metadata": {},
     "output_type": "display_data"
    },
    {
     "name": "stdout",
     "output_type": "stream",
     "text": [
      "Tissue Artery_Aorta\n"
     ]
    },
    {
     "name": "stderr",
     "output_type": "stream",
     "text": [
      "100%|██████████████████████████████████████████████████████████| 6903/6903 [00:19<00:00, 356.46it/s]"
     ]
    },
    {
     "name": "stdout",
     "output_type": "stream",
     "text": [
      "Min/max values: -0.790674025118039 / 0.661819850433321\n"
     ]
    },
    {
     "name": "stderr",
     "output_type": "stream",
     "text": [
      "\n"
     ]
    },
    {
     "data": {
      "text/plain": [
       "PosixPath('/opt/data/data/phenomexcan/ld_blocks/en_gene_corrs/Artery_Aorta/gene_corrs-Artery_Aorta-chr13.pkl')"
      ]
     },
     "metadata": {},
     "output_type": "display_data"
    },
    {
     "name": "stdout",
     "output_type": "stream",
     "text": [
      "Tissue Ovary\n"
     ]
    },
    {
     "name": "stderr",
     "output_type": "stream",
     "text": [
      "100%|█████████████████████████████████████████████████████████| 6903/6903 [00:06<00:00, 1079.99it/s]"
     ]
    },
    {
     "name": "stdout",
     "output_type": "stream",
     "text": [
      "Min/max values: -0.7903525073246865 / 0.5775126255854947\n"
     ]
    },
    {
     "name": "stderr",
     "output_type": "stream",
     "text": [
      "\n"
     ]
    },
    {
     "data": {
      "text/plain": [
       "PosixPath('/opt/data/data/phenomexcan/ld_blocks/en_gene_corrs/Ovary/gene_corrs-Ovary-chr13.pkl')"
      ]
     },
     "metadata": {},
     "output_type": "display_data"
    },
    {
     "name": "stdout",
     "output_type": "stream",
     "text": [
      "Tissue Pituitary\n"
     ]
    },
    {
     "name": "stderr",
     "output_type": "stream",
     "text": [
      "100%|██████████████████████████████████████████████████████████| 6903/6903 [00:09<00:00, 712.97it/s]"
     ]
    },
    {
     "name": "stdout",
     "output_type": "stream",
     "text": [
      "Min/max values: -0.9069559277916305 / 0.5991312013389508\n"
     ]
    },
    {
     "name": "stderr",
     "output_type": "stream",
     "text": [
      "\n"
     ]
    },
    {
     "data": {
      "text/plain": [
       "PosixPath('/opt/data/data/phenomexcan/ld_blocks/en_gene_corrs/Pituitary/gene_corrs-Pituitary-chr13.pkl')"
      ]
     },
     "metadata": {},
     "output_type": "display_data"
    },
    {
     "name": "stdout",
     "output_type": "stream",
     "text": [
      "Tissue Uterus\n"
     ]
    },
    {
     "name": "stderr",
     "output_type": "stream",
     "text": [
      "100%|█████████████████████████████████████████████████████████| 6903/6903 [00:03<00:00, 2102.12it/s]"
     ]
    },
    {
     "name": "stdout",
     "output_type": "stream",
     "text": [
      "Min/max values: -0.16106392382144108 / 0.4551139930597315\n"
     ]
    },
    {
     "name": "stderr",
     "output_type": "stream",
     "text": [
      "\n"
     ]
    },
    {
     "data": {
      "text/plain": [
       "PosixPath('/opt/data/data/phenomexcan/ld_blocks/en_gene_corrs/Uterus/gene_corrs-Uterus-chr13.pkl')"
      ]
     },
     "metadata": {},
     "output_type": "display_data"
    },
    {
     "name": "stdout",
     "output_type": "stream",
     "text": [
      "Tissue Brain_Cortex\n"
     ]
    },
    {
     "name": "stderr",
     "output_type": "stream",
     "text": [
      "100%|█████████████████████████████████████████████████████████| 6903/6903 [00:06<00:00, 1006.08it/s]"
     ]
    },
    {
     "name": "stdout",
     "output_type": "stream",
     "text": [
      "Min/max values: -0.14447673411067757 / 0.15009077711656935\n"
     ]
    },
    {
     "name": "stderr",
     "output_type": "stream",
     "text": [
      "\n"
     ]
    },
    {
     "data": {
      "text/plain": [
       "PosixPath('/opt/data/data/phenomexcan/ld_blocks/en_gene_corrs/Brain_Cortex/gene_corrs-Brain_Cortex-chr13.pkl')"
      ]
     },
     "metadata": {},
     "output_type": "display_data"
    }
   ],
   "source": [
    "all_chrs = genes_info[\"chr\"].dropna().unique()\n",
    "assert all_chrs.shape[0] == 22\n",
    "\n",
    "if chromosome != \"all\":\n",
    "    chromosome = str(chromosome)\n",
    "    assert chromosome in all_chrs\n",
    "\n",
    "    # run only on the chromosome specified\n",
    "    all_chrs = [chromosome]\n",
    "\n",
    "# # For testing purposes\n",
    "# all_chrs = [\"13\"]\n",
    "# tissues = [\"Whole_Blood\"]\n",
    "# genes_info = genes_info[genes_info[\"id\"].isin([\"ENSG00000134871\", \"ENSG00000187498\", \"ENSG00000183087\", \"ENSG00000073910\"])]\n",
    "\n",
    "for chr_num in all_chrs:\n",
    "    print(f\"Chromosome {chr_num}\", flush=True)\n",
    "\n",
    "    genes_chr = genes_info[genes_info[\"chr\"] == chr_num]\n",
    "    print(f\"Genes in chromosome{genes_chr.shape}\", flush=True)\n",
    "\n",
    "    gene_chr_objs = [Gene(ensembl_id=gene_id) for gene_id in genes_chr[\"id\"]]\n",
    "    gene_chr_ids = [g.ensembl_id for g in gene_chr_objs]\n",
    "\n",
    "    n = len(gene_chr_objs)\n",
    "    n_comb = int(n * (n - 1) / 2.0)\n",
    "    print(f\"Number of gene combinations: {n_comb}\", flush=True)\n",
    "\n",
    "    for tissue in tissues:\n",
    "        print(f\"Tissue {tissue}\", flush=True)\n",
    "\n",
    "        # check if results exist\n",
    "        output_dir = (\n",
    "            conf.PHENOMEXCAN[\"LD_BLOCKS\"][\"BASE_DIR\"]\n",
    "            / f\"{EQTL_MODEL_FILES_PREFIX}gene_corrs\"\n",
    "            / tissue\n",
    "        )\n",
    "        output_file = output_dir / f\"gene_corrs-{tissue}-chr{chr_num}.pkl\"\n",
    "\n",
    "        if output_file.exists():\n",
    "            _tmp_data = pd.read_pickle(output_file)\n",
    "\n",
    "            if _tmp_data.shape[0] > 0:\n",
    "                print(\"Already run, stopping.\")\n",
    "                continue\n",
    "\n",
    "        gene_corrs = []\n",
    "\n",
    "        pbar = tqdm(ncols=100, total=n_comb)\n",
    "        i = 0\n",
    "        for gene_idx1 in range(0, len(gene_chr_objs) - 1):\n",
    "            gene_obj1 = gene_chr_objs[gene_idx1]\n",
    "\n",
    "            for gene_idx2 in range(gene_idx1 + 1, len(gene_chr_objs)):\n",
    "                gene_obj2 = gene_chr_objs[gene_idx2]\n",
    "\n",
    "                gene_corrs.append(\n",
    "                    gene_obj1.get_expression_correlation(\n",
    "                        gene_obj2, tissue, model_type=EQTL_MODEL\n",
    "                    )\n",
    "                )\n",
    "\n",
    "                pbar.update(1)\n",
    "\n",
    "        pbar.close()\n",
    "\n",
    "        # testing\n",
    "        gene_corrs_flat = pd.Series(gene_corrs)\n",
    "        print(f\"Min/max values: {gene_corrs_flat.min()} / {gene_corrs_flat.max()}\")\n",
    "        assert gene_corrs_flat.min() >= -1.001\n",
    "        assert gene_corrs_flat.max() <= 1.001\n",
    "\n",
    "        # save\n",
    "        # FIXME: consider saving only the condenced matrix here. See here for\n",
    "        # more details: https://github.com/greenelab/phenoplier/pull/38#discussion_r634600813\n",
    "        gene_corrs_data = squareform(np.array(gene_corrs, dtype=np.float32))\n",
    "        np.fill_diagonal(gene_corrs_data, 1.0)\n",
    "\n",
    "        gene_corrs_df = pd.DataFrame(\n",
    "            data=gene_corrs_data,\n",
    "            index=gene_chr_ids,\n",
    "            columns=gene_chr_ids,\n",
    "        )\n",
    "\n",
    "        output_dir.mkdir(exist_ok=True, parents=True)\n",
    "        display(output_file)\n",
    "\n",
    "        gene_corrs_df.to_pickle(output_file)"
   ]
  },
  {
   "cell_type": "markdown",
   "id": "eab5a00b",
   "metadata": {
    "papermill": {
     "duration": 0.787431,
     "end_time": "2022-02-28T15:17:05.321042",
     "exception": false,
     "start_time": "2022-02-28T15:17:04.533611",
     "status": "completed"
    },
    "tags": []
   },
   "source": [
    "# Testing"
   ]
  },
  {
   "cell_type": "code",
   "execution_count": 25,
   "id": "7803c342",
   "metadata": {
    "execution": {
     "iopub.execute_input": "2022-02-28T15:17:06.884608Z",
     "iopub.status.busy": "2022-02-28T15:17:06.884408Z",
     "iopub.status.idle": "2022-02-28T15:17:06.906072Z",
     "shell.execute_reply": "2022-02-28T15:17:06.905458Z"
    },
    "papermill": {
     "duration": 0.795603,
     "end_time": "2022-02-28T15:17:06.908245",
     "exception": false,
     "start_time": "2022-02-28T15:17:06.112642",
     "status": "completed"
    },
    "tags": []
   },
   "outputs": [],
   "source": [
    "# data = pd.read_pickle(\n",
    "#     conf.PHENOMEXCAN[\"LD_BLOCKS\"][\"BASE_DIR\"] / \"gene_corrs\" / \"Whole_Blood\" / \"gene_corrs-Whole_Blood-chr13.pkl\"\n",
    "# )"
   ]
  },
  {
   "cell_type": "code",
   "execution_count": 26,
   "id": "d8e42e9e",
   "metadata": {
    "execution": {
     "iopub.execute_input": "2022-02-28T15:17:08.486274Z",
     "iopub.status.busy": "2022-02-28T15:17:08.486034Z",
     "iopub.status.idle": "2022-02-28T15:17:08.501967Z",
     "shell.execute_reply": "2022-02-28T15:17:08.501492Z"
    },
    "papermill": {
     "duration": 0.804555,
     "end_time": "2022-02-28T15:17:08.503456",
     "exception": false,
     "start_time": "2022-02-28T15:17:07.698901",
     "status": "completed"
    },
    "tags": []
   },
   "outputs": [],
   "source": [
    "# assert data.loc[\"ENSG00000134871\", \"ENSG00000187498\"] > 0.97"
   ]
  },
  {
   "cell_type": "code",
   "execution_count": null,
   "id": "43918bdb",
   "metadata": {
    "papermill": {
     "duration": 0.803601,
     "end_time": "2022-02-28T15:17:10.108824",
     "exception": false,
     "start_time": "2022-02-28T15:17:09.305223",
     "status": "completed"
    },
    "tags": []
   },
   "outputs": [],
   "source": []
  }
 ],
 "metadata": {
  "jupytext": {
   "cell_metadata_filter": "all,-execution,-papermill,-trusted",
   "formats": "ipynb,py//py:percent"
  },
  "kernelspec": {
   "display_name": "Python 3 (ipykernel)",
   "language": "python",
   "name": "python3"
  },
  "language_info": {
   "codemirror_mode": {
    "name": "ipython",
    "version": 3
   },
   "file_extension": ".py",
   "mimetype": "text/x-python",
   "name": "python",
   "nbconvert_exporter": "python",
   "pygments_lexer": "ipython3",
   "version": "3.8.12"
  },
  "papermill": {
   "default_parameters": {},
   "duration": 619.321634,
   "end_time": "2022-02-28T15:17:11.211976",
   "environment_variables": {},
   "exception": null,
   "input_path": "nbs/15_gsa_gls/10-gene_expr_correlations.ipynb",
   "output_path": "nbs/15_gsa_gls/en_gene_corrs/10-gene_expr_correlations-chr13.run.ipynb",
   "parameters": {
    "EQTL_MODEL": "ELASTIC_NET",
    "chromosome": 13
   },
   "start_time": "2022-02-28T15:06:51.890342",
   "version": "2.2.2"
  }
 },
 "nbformat": 4,
 "nbformat_minor": 5
}
