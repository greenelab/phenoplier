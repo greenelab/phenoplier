{
 "cells": [
  {
   "cell_type": "markdown",
   "id": "d88b3ffc",
   "metadata": {
    "papermill": {
     "duration": 0.081438,
     "end_time": "2022-02-26T22:58:46.561674",
     "exception": false,
     "start_time": "2022-02-26T22:58:46.480236",
     "status": "completed"
    },
    "tags": []
   },
   "source": [
    "# Description"
   ]
  },
  {
   "cell_type": "markdown",
   "id": "69f66c44",
   "metadata": {
    "papermill": {
     "duration": 0.042429,
     "end_time": "2022-02-26T22:58:46.646669",
     "exception": false,
     "start_time": "2022-02-26T22:58:46.604240",
     "status": "completed"
    },
    "tags": []
   },
   "source": [
    "This notebook computes the covariance of SNPs for each chr."
   ]
  },
  {
   "cell_type": "markdown",
   "id": "0cb79cbe",
   "metadata": {
    "papermill": {
     "duration": 0.042391,
     "end_time": "2022-02-26T22:58:46.732356",
     "exception": false,
     "start_time": "2022-02-26T22:58:46.689965",
     "status": "completed"
    },
    "tags": []
   },
   "source": [
    "# Modules"
   ]
  },
  {
   "cell_type": "code",
   "execution_count": 1,
   "id": "0a4272be",
   "metadata": {
    "execution": {
     "iopub.execute_input": "2022-02-26T22:58:46.818872Z",
     "iopub.status.busy": "2022-02-26T22:58:46.818623Z",
     "iopub.status.idle": "2022-02-26T22:58:46.840892Z",
     "shell.execute_reply": "2022-02-26T22:58:46.840177Z"
    },
    "papermill": {
     "duration": 0.067878,
     "end_time": "2022-02-26T22:58:46.842501",
     "exception": false,
     "start_time": "2022-02-26T22:58:46.774623",
     "status": "completed"
    },
    "tags": []
   },
   "outputs": [],
   "source": [
    "%load_ext autoreload\n",
    "%autoreload 2"
   ]
  },
  {
   "cell_type": "code",
   "execution_count": 2,
   "id": "4141c781",
   "metadata": {
    "execution": {
     "iopub.execute_input": "2022-02-26T22:58:46.929410Z",
     "iopub.status.busy": "2022-02-26T22:58:46.929196Z",
     "iopub.status.idle": "2022-02-26T22:58:47.846758Z",
     "shell.execute_reply": "2022-02-26T22:58:47.846179Z"
    },
    "papermill": {
     "duration": 0.96244,
     "end_time": "2022-02-26T22:58:47.848322",
     "exception": false,
     "start_time": "2022-02-26T22:58:46.885882",
     "status": "completed"
    },
    "tags": []
   },
   "outputs": [],
   "source": [
    "import gc\n",
    "import sqlite3\n",
    "\n",
    "import numpy as np\n",
    "import pandas as pd\n",
    "from tqdm import tqdm\n",
    "\n",
    "import conf\n",
    "from entity import Gene"
   ]
  },
  {
   "cell_type": "markdown",
   "id": "37055abe",
   "metadata": {
    "papermill": {
     "duration": 0.070111,
     "end_time": "2022-02-26T22:58:47.963516",
     "exception": false,
     "start_time": "2022-02-26T22:58:47.893405",
     "status": "completed"
    },
    "tags": []
   },
   "source": [
    "# Settings"
   ]
  },
  {
   "cell_type": "code",
   "execution_count": 3,
   "id": "c264a67f",
   "metadata": {
    "execution": {
     "iopub.execute_input": "2022-02-26T22:58:48.061067Z",
     "iopub.status.busy": "2022-02-26T22:58:48.060844Z",
     "iopub.status.idle": "2022-02-26T22:58:48.073787Z",
     "shell.execute_reply": "2022-02-26T22:58:48.073259Z"
    },
    "papermill": {
     "duration": 0.058169,
     "end_time": "2022-02-26T22:58:48.075209",
     "exception": false,
     "start_time": "2022-02-26T22:58:48.017040",
     "status": "completed"
    },
    "tags": []
   },
   "outputs": [],
   "source": [
    "COV_DTYPE = np.float32"
   ]
  },
  {
   "cell_type": "code",
   "execution_count": 4,
   "id": "ac93914d",
   "metadata": {
    "execution": {
     "iopub.execute_input": "2022-02-26T22:58:48.161897Z",
     "iopub.status.busy": "2022-02-26T22:58:48.161667Z",
     "iopub.status.idle": "2022-02-26T22:58:48.173575Z",
     "shell.execute_reply": "2022-02-26T22:58:48.173052Z"
    },
    "papermill": {
     "duration": 0.056792,
     "end_time": "2022-02-26T22:58:48.174945",
     "exception": false,
     "start_time": "2022-02-26T22:58:48.118153",
     "status": "completed"
    },
    "tags": [
     "parameters"
    ]
   },
   "outputs": [],
   "source": [
    "# mashr\n",
    "EQTL_MODEL = \"MASHR\"\n",
    "EQTL_MODEL_FILES_PREFIX = \"mashr_\"\n",
    "\n",
    "# # elastic net\n",
    "# EQTL_MODEL = \"ELASTIC_NET\"\n",
    "# EQTL_MODEL_FILES_PREFIX = \"en_\"\n",
    "\n",
    "# make it read the prefix from conf.py\n",
    "EQTL_MODEL_FILES_PREFIX = None"
   ]
  },
  {
   "cell_type": "code",
   "execution_count": 5,
   "id": "002a6dfe",
   "metadata": {
    "execution": {
     "iopub.execute_input": "2022-02-26T22:58:48.261798Z",
     "iopub.status.busy": "2022-02-26T22:58:48.261582Z",
     "iopub.status.idle": "2022-02-26T22:58:48.273381Z",
     "shell.execute_reply": "2022-02-26T22:58:48.272723Z"
    },
    "papermill": {
     "duration": 0.056591,
     "end_time": "2022-02-26T22:58:48.274809",
     "exception": false,
     "start_time": "2022-02-26T22:58:48.218218",
     "status": "completed"
    },
    "tags": [
     "injected-parameters"
    ]
   },
   "outputs": [],
   "source": [
    "# Parameters\n",
    "EQTL_MODEL = \"ELASTIC_NET\"\n"
   ]
  },
  {
   "cell_type": "code",
   "execution_count": 6,
   "id": "455c2e55",
   "metadata": {
    "execution": {
     "iopub.execute_input": "2022-02-26T22:58:48.365346Z",
     "iopub.status.busy": "2022-02-26T22:58:48.365128Z",
     "iopub.status.idle": "2022-02-26T22:58:48.377344Z",
     "shell.execute_reply": "2022-02-26T22:58:48.376845Z"
    },
    "papermill": {
     "duration": 0.060079,
     "end_time": "2022-02-26T22:58:48.378758",
     "exception": false,
     "start_time": "2022-02-26T22:58:48.318679",
     "status": "completed"
    },
    "tags": []
   },
   "outputs": [],
   "source": [
    "if EQTL_MODEL_FILES_PREFIX is None:\n",
    "    EQTL_MODEL_FILES_PREFIX = conf.PHENOMEXCAN[\"PREDICTION_MODELS_PREFIXES\"][EQTL_MODEL]"
   ]
  },
  {
   "cell_type": "code",
   "execution_count": 7,
   "id": "a2ea1be5",
   "metadata": {
    "execution": {
     "iopub.execute_input": "2022-02-26T22:58:48.469176Z",
     "iopub.status.busy": "2022-02-26T22:58:48.468958Z",
     "iopub.status.idle": "2022-02-26T22:58:48.486298Z",
     "shell.execute_reply": "2022-02-26T22:58:48.485801Z"
    },
    "papermill": {
     "duration": 0.062951,
     "end_time": "2022-02-26T22:58:48.487750",
     "exception": false,
     "start_time": "2022-02-26T22:58:48.424799",
     "status": "completed"
    },
    "tags": []
   },
   "outputs": [
    {
     "data": {
      "text/plain": [
       "'Using eQTL model: ELASTIC_NET / en_'"
      ]
     },
     "metadata": {},
     "output_type": "display_data"
    }
   ],
   "source": [
    "display(f\"Using eQTL model: {EQTL_MODEL} / {EQTL_MODEL_FILES_PREFIX}\")"
   ]
  },
  {
   "cell_type": "markdown",
   "id": "37dfafb8",
   "metadata": {
    "papermill": {
     "duration": 0.043625,
     "end_time": "2022-02-26T22:58:48.575547",
     "exception": false,
     "start_time": "2022-02-26T22:58:48.531922",
     "status": "completed"
    },
    "tags": []
   },
   "source": [
    "# Load data"
   ]
  },
  {
   "cell_type": "markdown",
   "id": "c6f55abd",
   "metadata": {
    "papermill": {
     "duration": 0.043796,
     "end_time": "2022-02-26T22:58:48.662534",
     "exception": false,
     "start_time": "2022-02-26T22:58:48.618738",
     "status": "completed"
    },
    "tags": []
   },
   "source": [
    "## SNPs in predictions models"
   ]
  },
  {
   "cell_type": "code",
   "execution_count": 8,
   "id": "c94c4cbb",
   "metadata": {
    "execution": {
     "iopub.execute_input": "2022-02-26T22:58:48.763425Z",
     "iopub.status.busy": "2022-02-26T22:58:48.763206Z",
     "iopub.status.idle": "2022-02-26T22:58:48.775323Z",
     "shell.execute_reply": "2022-02-26T22:58:48.774848Z"
    },
    "papermill": {
     "duration": 0.059347,
     "end_time": "2022-02-26T22:58:48.776856",
     "exception": false,
     "start_time": "2022-02-26T22:58:48.717509",
     "status": "completed"
    },
    "tags": []
   },
   "outputs": [],
   "source": [
    "mashr_models_db_files = list(\n",
    "    conf.PHENOMEXCAN[\"PREDICTION_MODELS\"][EQTL_MODEL].glob(\"*.db\")\n",
    ")"
   ]
  },
  {
   "cell_type": "code",
   "execution_count": 9,
   "id": "9015c1d7",
   "metadata": {
    "execution": {
     "iopub.execute_input": "2022-02-26T22:58:48.865533Z",
     "iopub.status.busy": "2022-02-26T22:58:48.865317Z",
     "iopub.status.idle": "2022-02-26T22:58:48.877331Z",
     "shell.execute_reply": "2022-02-26T22:58:48.876715Z"
    },
    "papermill": {
     "duration": 0.058084,
     "end_time": "2022-02-26T22:58:48.878844",
     "exception": false,
     "start_time": "2022-02-26T22:58:48.820760",
     "status": "completed"
    },
    "tags": []
   },
   "outputs": [],
   "source": [
    "assert len(mashr_models_db_files) == 49"
   ]
  },
  {
   "cell_type": "code",
   "execution_count": 10,
   "id": "d5a28a46",
   "metadata": {
    "execution": {
     "iopub.execute_input": "2022-02-26T22:58:48.974720Z",
     "iopub.status.busy": "2022-02-26T22:58:48.974064Z",
     "iopub.status.idle": "2022-02-26T22:59:02.904074Z",
     "shell.execute_reply": "2022-02-26T22:59:02.903442Z"
    },
    "papermill": {
     "duration": 13.981997,
     "end_time": "2022-02-26T22:59:02.905914",
     "exception": false,
     "start_time": "2022-02-26T22:58:48.923917",
     "status": "completed"
    },
    "tags": []
   },
   "outputs": [
    {
     "name": "stdout",
     "output_type": "stream",
     "text": [
      "Processing en_Vagina.db\n",
      "Processing en_Colon_Sigmoid.db\n",
      "Processing en_Brain_Caudate_basal_ganglia.db\n",
      "Processing en_Stomach.db\n",
      "Processing en_Skin_Not_Sun_Exposed_Suprapubic.db\n",
      "Processing en_Artery_Tibial.db\n",
      "Processing en_Brain_Hippocampus.db\n",
      "Processing en_Esophagus_Gastroesophageal_Junction.db\n",
      "Processing en_Esophagus_Muscularis.db\n",
      "Processing en_Cells_Cultured_fibroblasts.db\n",
      "Processing en_Brain_Nucleus_accumbens_basal_ganglia.db\n",
      "Processing en_Brain_Frontal_Cortex_BA9.db\n",
      "Processing en_Brain_Hypothalamus.db\n",
      "Processing en_Breast_Mammary_Tissue.db\n",
      "Processing en_Colon_Transverse.db\n",
      "Processing en_Lung.db\n",
      "Processing en_Esophagus_Mucosa.db\n",
      "Processing en_Brain_Cerebellum.db\n",
      "Processing en_Brain_Putamen_basal_ganglia.db\n",
      "Processing en_Heart_Atrial_Appendage.db\n",
      "Processing en_Heart_Left_Ventricle.db\n",
      "Processing en_Brain_Anterior_cingulate_cortex_BA24.db\n",
      "Processing en_Nerve_Tibial.db\n",
      "Processing en_Prostate.db\n",
      "Processing en_Adrenal_Gland.db\n",
      "Processing en_Minor_Salivary_Gland.db\n",
      "Processing en_Testis.db\n",
      "Processing en_Whole_Blood.db\n",
      "Processing en_Thyroid.db\n",
      "Processing en_Liver.db\n",
      "Processing en_Pancreas.db\n",
      "Processing en_Kidney_Cortex.db\n",
      "Processing en_Small_Intestine_Terminal_Ileum.db\n",
      "Processing en_Artery_Coronary.db\n",
      "Processing en_Brain_Cerebellar_Hemisphere.db\n",
      "Processing en_Cells_EBV-transformed_lymphocytes.db\n",
      "Processing en_Brain_Spinal_cord_cervical_c-1.db\n",
      "Processing en_Adipose_Visceral_Omentum.db\n",
      "Processing en_Brain_Amygdala.db\n",
      "Processing en_Adipose_Subcutaneous.db\n",
      "Processing en_Spleen.db\n",
      "Processing en_Muscle_Skeletal.db\n",
      "Processing en_Skin_Sun_Exposed_Lower_leg.db\n",
      "Processing en_Brain_Substantia_nigra.db\n",
      "Processing en_Artery_Aorta.db\n",
      "Processing en_Ovary.db\n",
      "Processing en_Pituitary.db\n",
      "Processing en_Uterus.db\n",
      "Processing en_Brain_Cortex.db\n"
     ]
    }
   ],
   "source": [
    "all_variants_ids = []\n",
    "\n",
    "for m in mashr_models_db_files:\n",
    "    print(f\"Processing {m.name}\")\n",
    "    tissue = m.name.split(EQTL_MODEL_FILES_PREFIX)[1].split(\".db\")[0]\n",
    "\n",
    "    with sqlite3.connect(m) as conn:\n",
    "        df = pd.read_sql(\"select gene, varID from weights\", conn)\n",
    "        df[\"gene\"] = df[\"gene\"].apply(lambda x: x.split(\".\")[0])\n",
    "        df = df.assign(tissue=tissue)\n",
    "\n",
    "        all_variants_ids.append(df)"
   ]
  },
  {
   "cell_type": "code",
   "execution_count": 11,
   "id": "986feda1",
   "metadata": {
    "execution": {
     "iopub.execute_input": "2022-02-26T22:59:03.025709Z",
     "iopub.status.busy": "2022-02-26T22:59:03.025455Z",
     "iopub.status.idle": "2022-02-26T22:59:04.206789Z",
     "shell.execute_reply": "2022-02-26T22:59:04.206137Z"
    },
    "papermill": {
     "duration": 1.238105,
     "end_time": "2022-02-26T22:59:04.208555",
     "exception": false,
     "start_time": "2022-02-26T22:59:02.970450",
     "status": "completed"
    },
    "tags": []
   },
   "outputs": [],
   "source": [
    "all_gene_snps = pd.concat(all_variants_ids, ignore_index=True)"
   ]
  },
  {
   "cell_type": "code",
   "execution_count": 12,
   "id": "cdbb12ef",
   "metadata": {
    "execution": {
     "iopub.execute_input": "2022-02-26T22:59:04.326048Z",
     "iopub.status.busy": "2022-02-26T22:59:04.325818Z",
     "iopub.status.idle": "2022-02-26T22:59:04.338709Z",
     "shell.execute_reply": "2022-02-26T22:59:04.338094Z"
    },
    "papermill": {
     "duration": 0.069009,
     "end_time": "2022-02-26T22:59:04.340042",
     "exception": false,
     "start_time": "2022-02-26T22:59:04.271033",
     "status": "completed"
    },
    "tags": []
   },
   "outputs": [
    {
     "data": {
      "text/plain": [
       "(8558894, 3)"
      ]
     },
     "execution_count": 12,
     "metadata": {},
     "output_type": "execute_result"
    }
   ],
   "source": [
    "all_gene_snps.shape"
   ]
  },
  {
   "cell_type": "code",
   "execution_count": 13,
   "id": "c5300203",
   "metadata": {
    "execution": {
     "iopub.execute_input": "2022-02-26T22:59:04.453303Z",
     "iopub.status.busy": "2022-02-26T22:59:04.452769Z",
     "iopub.status.idle": "2022-02-26T22:59:04.475784Z",
     "shell.execute_reply": "2022-02-26T22:59:04.475187Z"
    },
    "papermill": {
     "duration": 0.082609,
     "end_time": "2022-02-26T22:59:04.477108",
     "exception": false,
     "start_time": "2022-02-26T22:59:04.394499",
     "status": "completed"
    },
    "tags": []
   },
   "outputs": [
    {
     "data": {
      "text/html": [
       "<div>\n",
       "<style scoped>\n",
       "    .dataframe tbody tr th:only-of-type {\n",
       "        vertical-align: middle;\n",
       "    }\n",
       "\n",
       "    .dataframe tbody tr th {\n",
       "        vertical-align: top;\n",
       "    }\n",
       "\n",
       "    .dataframe thead th {\n",
       "        text-align: right;\n",
       "    }\n",
       "</style>\n",
       "<table border=\"1\" class=\"dataframe\">\n",
       "  <thead>\n",
       "    <tr style=\"text-align: right;\">\n",
       "      <th></th>\n",
       "      <th>gene</th>\n",
       "      <th>varID</th>\n",
       "      <th>tissue</th>\n",
       "    </tr>\n",
       "  </thead>\n",
       "  <tbody>\n",
       "    <tr>\n",
       "      <th>0</th>\n",
       "      <td>ENSG00000272983</td>\n",
       "      <td>chr10_37251057_C_T_b38</td>\n",
       "      <td>Vagina</td>\n",
       "    </tr>\n",
       "    <tr>\n",
       "      <th>1</th>\n",
       "      <td>ENSG00000272983</td>\n",
       "      <td>chr10_37307461_G_T_b38</td>\n",
       "      <td>Vagina</td>\n",
       "    </tr>\n",
       "    <tr>\n",
       "      <th>2</th>\n",
       "      <td>ENSG00000272983</td>\n",
       "      <td>chr10_37535769_T_C_b38</td>\n",
       "      <td>Vagina</td>\n",
       "    </tr>\n",
       "    <tr>\n",
       "      <th>3</th>\n",
       "      <td>ENSG00000272983</td>\n",
       "      <td>chr10_37537564_T_C_b38</td>\n",
       "      <td>Vagina</td>\n",
       "    </tr>\n",
       "    <tr>\n",
       "      <th>4</th>\n",
       "      <td>ENSG00000272983</td>\n",
       "      <td>chr10_37544467_T_C_b38</td>\n",
       "      <td>Vagina</td>\n",
       "    </tr>\n",
       "  </tbody>\n",
       "</table>\n",
       "</div>"
      ],
      "text/plain": [
       "              gene                   varID  tissue\n",
       "0  ENSG00000272983  chr10_37251057_C_T_b38  Vagina\n",
       "1  ENSG00000272983  chr10_37307461_G_T_b38  Vagina\n",
       "2  ENSG00000272983  chr10_37535769_T_C_b38  Vagina\n",
       "3  ENSG00000272983  chr10_37537564_T_C_b38  Vagina\n",
       "4  ENSG00000272983  chr10_37544467_T_C_b38  Vagina"
      ]
     },
     "execution_count": 13,
     "metadata": {},
     "output_type": "execute_result"
    }
   ],
   "source": [
    "all_gene_snps.head()"
   ]
  },
  {
   "cell_type": "code",
   "execution_count": 14,
   "id": "e5a2d4be",
   "metadata": {
    "execution": {
     "iopub.execute_input": "2022-02-26T22:59:04.588401Z",
     "iopub.status.busy": "2022-02-26T22:59:04.588145Z",
     "iopub.status.idle": "2022-02-26T22:59:08.001113Z",
     "shell.execute_reply": "2022-02-26T22:59:08.000237Z"
    },
    "papermill": {
     "duration": 3.471245,
     "end_time": "2022-02-26T22:59:08.003396",
     "exception": false,
     "start_time": "2022-02-26T22:59:04.532151",
     "status": "completed"
    },
    "tags": []
   },
   "outputs": [],
   "source": [
    "all_snps_in_models = set(all_gene_snps[\"varID\"].unique())"
   ]
  },
  {
   "cell_type": "markdown",
   "id": "e2cfb3d9",
   "metadata": {
    "papermill": {
     "duration": 0.055657,
     "end_time": "2022-02-26T22:59:08.130912",
     "exception": false,
     "start_time": "2022-02-26T22:59:08.075255",
     "status": "completed"
    },
    "tags": []
   },
   "source": [
    "## MultiPLIER Z"
   ]
  },
  {
   "cell_type": "code",
   "execution_count": 15,
   "id": "0e901bf8",
   "metadata": {
    "execution": {
     "iopub.execute_input": "2022-02-26T22:59:08.242907Z",
     "iopub.status.busy": "2022-02-26T22:59:08.242670Z",
     "iopub.status.idle": "2022-02-26T22:59:08.517568Z",
     "shell.execute_reply": "2022-02-26T22:59:08.515582Z"
    },
    "papermill": {
     "duration": 0.336651,
     "end_time": "2022-02-26T22:59:08.522966",
     "exception": false,
     "start_time": "2022-02-26T22:59:08.186315",
     "status": "completed"
    },
    "tags": []
   },
   "outputs": [],
   "source": [
    "multiplier_z = pd.read_pickle(conf.MULTIPLIER[\"MODEL_Z_MATRIX_FILE\"])"
   ]
  },
  {
   "cell_type": "code",
   "execution_count": 16,
   "id": "55da6f21",
   "metadata": {
    "execution": {
     "iopub.execute_input": "2022-02-26T22:59:08.638611Z",
     "iopub.status.busy": "2022-02-26T22:59:08.638396Z",
     "iopub.status.idle": "2022-02-26T22:59:08.651365Z",
     "shell.execute_reply": "2022-02-26T22:59:08.650773Z"
    },
    "papermill": {
     "duration": 0.071205,
     "end_time": "2022-02-26T22:59:08.652728",
     "exception": false,
     "start_time": "2022-02-26T22:59:08.581523",
     "status": "completed"
    },
    "tags": []
   },
   "outputs": [
    {
     "data": {
      "text/plain": [
       "(6750, 987)"
      ]
     },
     "execution_count": 16,
     "metadata": {},
     "output_type": "execute_result"
    }
   ],
   "source": [
    "multiplier_z.shape"
   ]
  },
  {
   "cell_type": "code",
   "execution_count": 17,
   "id": "5efd6fc7",
   "metadata": {
    "execution": {
     "iopub.execute_input": "2022-02-26T22:59:08.765606Z",
     "iopub.status.busy": "2022-02-26T22:59:08.765413Z",
     "iopub.status.idle": "2022-02-26T22:59:08.895722Z",
     "shell.execute_reply": "2022-02-26T22:59:08.895077Z"
    },
    "papermill": {
     "duration": 0.188319,
     "end_time": "2022-02-26T22:59:08.897463",
     "exception": false,
     "start_time": "2022-02-26T22:59:08.709144",
     "status": "completed"
    },
    "tags": []
   },
   "outputs": [
    {
     "data": {
      "text/html": [
       "<div>\n",
       "<style scoped>\n",
       "    .dataframe tbody tr th:only-of-type {\n",
       "        vertical-align: middle;\n",
       "    }\n",
       "\n",
       "    .dataframe tbody tr th {\n",
       "        vertical-align: top;\n",
       "    }\n",
       "\n",
       "    .dataframe thead th {\n",
       "        text-align: right;\n",
       "    }\n",
       "</style>\n",
       "<table border=\"1\" class=\"dataframe\">\n",
       "  <thead>\n",
       "    <tr style=\"text-align: right;\">\n",
       "      <th></th>\n",
       "      <th>LV1</th>\n",
       "      <th>LV2</th>\n",
       "      <th>LV3</th>\n",
       "      <th>LV4</th>\n",
       "      <th>LV5</th>\n",
       "      <th>LV6</th>\n",
       "      <th>LV7</th>\n",
       "      <th>LV8</th>\n",
       "      <th>LV9</th>\n",
       "      <th>LV10</th>\n",
       "      <th>...</th>\n",
       "      <th>LV978</th>\n",
       "      <th>LV979</th>\n",
       "      <th>LV980</th>\n",
       "      <th>LV981</th>\n",
       "      <th>LV982</th>\n",
       "      <th>LV983</th>\n",
       "      <th>LV984</th>\n",
       "      <th>LV985</th>\n",
       "      <th>LV986</th>\n",
       "      <th>LV987</th>\n",
       "    </tr>\n",
       "  </thead>\n",
       "  <tbody>\n",
       "    <tr>\n",
       "      <th>GAS6</th>\n",
       "      <td>0.000000</td>\n",
       "      <td>0.0</td>\n",
       "      <td>0.039438</td>\n",
       "      <td>0.0</td>\n",
       "      <td>0.050476</td>\n",
       "      <td>0.000000</td>\n",
       "      <td>0.0</td>\n",
       "      <td>0.000000</td>\n",
       "      <td>0.590949</td>\n",
       "      <td>0.000000</td>\n",
       "      <td>...</td>\n",
       "      <td>0.050125</td>\n",
       "      <td>0.00000</td>\n",
       "      <td>0.033407</td>\n",
       "      <td>0.000000</td>\n",
       "      <td>0.000000</td>\n",
       "      <td>0.005963</td>\n",
       "      <td>0.347362</td>\n",
       "      <td>0.0</td>\n",
       "      <td>0.000000</td>\n",
       "      <td>0.000000</td>\n",
       "    </tr>\n",
       "    <tr>\n",
       "      <th>MMP14</th>\n",
       "      <td>0.000000</td>\n",
       "      <td>0.0</td>\n",
       "      <td>0.000000</td>\n",
       "      <td>0.0</td>\n",
       "      <td>0.070072</td>\n",
       "      <td>0.000000</td>\n",
       "      <td>0.0</td>\n",
       "      <td>0.004904</td>\n",
       "      <td>1.720179</td>\n",
       "      <td>2.423595</td>\n",
       "      <td>...</td>\n",
       "      <td>0.000000</td>\n",
       "      <td>0.00000</td>\n",
       "      <td>0.001007</td>\n",
       "      <td>0.000000</td>\n",
       "      <td>0.035747</td>\n",
       "      <td>0.000000</td>\n",
       "      <td>0.000000</td>\n",
       "      <td>0.0</td>\n",
       "      <td>0.014978</td>\n",
       "      <td>0.000000</td>\n",
       "    </tr>\n",
       "    <tr>\n",
       "      <th>DSP</th>\n",
       "      <td>0.000000</td>\n",
       "      <td>0.0</td>\n",
       "      <td>0.000000</td>\n",
       "      <td>0.0</td>\n",
       "      <td>0.000000</td>\n",
       "      <td>0.041697</td>\n",
       "      <td>0.0</td>\n",
       "      <td>0.005718</td>\n",
       "      <td>0.000000</td>\n",
       "      <td>0.000000</td>\n",
       "      <td>...</td>\n",
       "      <td>0.020853</td>\n",
       "      <td>0.00000</td>\n",
       "      <td>0.000000</td>\n",
       "      <td>0.000000</td>\n",
       "      <td>0.000000</td>\n",
       "      <td>0.005774</td>\n",
       "      <td>0.000000</td>\n",
       "      <td>0.0</td>\n",
       "      <td>0.000000</td>\n",
       "      <td>0.416405</td>\n",
       "    </tr>\n",
       "    <tr>\n",
       "      <th>MARCKSL1</th>\n",
       "      <td>0.305212</td>\n",
       "      <td>0.0</td>\n",
       "      <td>0.000000</td>\n",
       "      <td>0.0</td>\n",
       "      <td>0.000000</td>\n",
       "      <td>0.000000</td>\n",
       "      <td>0.0</td>\n",
       "      <td>0.000000</td>\n",
       "      <td>0.161843</td>\n",
       "      <td>0.149471</td>\n",
       "      <td>...</td>\n",
       "      <td>0.027134</td>\n",
       "      <td>0.05272</td>\n",
       "      <td>0.000000</td>\n",
       "      <td>0.030189</td>\n",
       "      <td>0.060884</td>\n",
       "      <td>0.000000</td>\n",
       "      <td>0.000000</td>\n",
       "      <td>0.0</td>\n",
       "      <td>0.000000</td>\n",
       "      <td>0.448480</td>\n",
       "    </tr>\n",
       "    <tr>\n",
       "      <th>SPARC</th>\n",
       "      <td>0.000000</td>\n",
       "      <td>0.0</td>\n",
       "      <td>0.000000</td>\n",
       "      <td>0.0</td>\n",
       "      <td>0.000000</td>\n",
       "      <td>0.000000</td>\n",
       "      <td>0.0</td>\n",
       "      <td>0.000000</td>\n",
       "      <td>0.000000</td>\n",
       "      <td>0.014014</td>\n",
       "      <td>...</td>\n",
       "      <td>0.000000</td>\n",
       "      <td>0.00000</td>\n",
       "      <td>0.000000</td>\n",
       "      <td>0.000000</td>\n",
       "      <td>0.000000</td>\n",
       "      <td>0.000000</td>\n",
       "      <td>0.067779</td>\n",
       "      <td>0.0</td>\n",
       "      <td>0.122417</td>\n",
       "      <td>0.062665</td>\n",
       "    </tr>\n",
       "  </tbody>\n",
       "</table>\n",
       "<p>5 rows × 987 columns</p>\n",
       "</div>"
      ],
      "text/plain": [
       "               LV1  LV2       LV3  LV4       LV5       LV6  LV7       LV8  \\\n",
       "GAS6      0.000000  0.0  0.039438  0.0  0.050476  0.000000  0.0  0.000000   \n",
       "MMP14     0.000000  0.0  0.000000  0.0  0.070072  0.000000  0.0  0.004904   \n",
       "DSP       0.000000  0.0  0.000000  0.0  0.000000  0.041697  0.0  0.005718   \n",
       "MARCKSL1  0.305212  0.0  0.000000  0.0  0.000000  0.000000  0.0  0.000000   \n",
       "SPARC     0.000000  0.0  0.000000  0.0  0.000000  0.000000  0.0  0.000000   \n",
       "\n",
       "               LV9      LV10  ...     LV978    LV979     LV980     LV981  \\\n",
       "GAS6      0.590949  0.000000  ...  0.050125  0.00000  0.033407  0.000000   \n",
       "MMP14     1.720179  2.423595  ...  0.000000  0.00000  0.001007  0.000000   \n",
       "DSP       0.000000  0.000000  ...  0.020853  0.00000  0.000000  0.000000   \n",
       "MARCKSL1  0.161843  0.149471  ...  0.027134  0.05272  0.000000  0.030189   \n",
       "SPARC     0.000000  0.014014  ...  0.000000  0.00000  0.000000  0.000000   \n",
       "\n",
       "             LV982     LV983     LV984  LV985     LV986     LV987  \n",
       "GAS6      0.000000  0.005963  0.347362    0.0  0.000000  0.000000  \n",
       "MMP14     0.035747  0.000000  0.000000    0.0  0.014978  0.000000  \n",
       "DSP       0.000000  0.005774  0.000000    0.0  0.000000  0.416405  \n",
       "MARCKSL1  0.060884  0.000000  0.000000    0.0  0.000000  0.448480  \n",
       "SPARC     0.000000  0.000000  0.067779    0.0  0.122417  0.062665  \n",
       "\n",
       "[5 rows x 987 columns]"
      ]
     },
     "execution_count": 17,
     "metadata": {},
     "output_type": "execute_result"
    }
   ],
   "source": [
    "multiplier_z.head()"
   ]
  },
  {
   "cell_type": "markdown",
   "id": "c2109617",
   "metadata": {
    "papermill": {
     "duration": 0.055948,
     "end_time": "2022-02-26T22:59:09.019123",
     "exception": false,
     "start_time": "2022-02-26T22:59:08.963175",
     "status": "completed"
    },
    "tags": []
   },
   "source": [
    "## 1000G variants metadata"
   ]
  },
  {
   "cell_type": "code",
   "execution_count": 18,
   "id": "f69e80b2",
   "metadata": {
    "execution": {
     "iopub.execute_input": "2022-02-26T22:59:09.132278Z",
     "iopub.status.busy": "2022-02-26T22:59:09.131622Z",
     "iopub.status.idle": "2022-02-26T22:59:09.144857Z",
     "shell.execute_reply": "2022-02-26T22:59:09.144128Z"
    },
    "papermill": {
     "duration": 0.070977,
     "end_time": "2022-02-26T22:59:09.146183",
     "exception": false,
     "start_time": "2022-02-26T22:59:09.075206",
     "status": "completed"
    },
    "tags": []
   },
   "outputs": [
    {
     "data": {
      "text/plain": [
       "PosixPath('/opt/data/data/phenomexcan/ld_blocks/reference_panel_1000G/variant_metadata.parquet')"
      ]
     },
     "metadata": {},
     "output_type": "display_data"
    }
   ],
   "source": [
    "input_file = (\n",
    "    conf.PHENOMEXCAN[\"LD_BLOCKS\"][\"1000G_GENOTYPE_DIR\"] / \"variant_metadata.parquet\"\n",
    ")\n",
    "display(input_file)"
   ]
  },
  {
   "cell_type": "code",
   "execution_count": 19,
   "id": "41e34ee0",
   "metadata": {
    "execution": {
     "iopub.execute_input": "2022-02-26T22:59:09.259841Z",
     "iopub.status.busy": "2022-02-26T22:59:09.259338Z",
     "iopub.status.idle": "2022-02-26T22:59:18.567539Z",
     "shell.execute_reply": "2022-02-26T22:59:18.566835Z"
    },
    "papermill": {
     "duration": 9.366823,
     "end_time": "2022-02-26T22:59:18.569238",
     "exception": false,
     "start_time": "2022-02-26T22:59:09.202415",
     "status": "completed"
    },
    "tags": []
   },
   "outputs": [],
   "source": [
    "variants_metadata = pd.read_parquet(input_file, columns=[\"id\"])"
   ]
  },
  {
   "cell_type": "code",
   "execution_count": 20,
   "id": "81410760",
   "metadata": {
    "execution": {
     "iopub.execute_input": "2022-02-26T22:59:18.687231Z",
     "iopub.status.busy": "2022-02-26T22:59:18.687013Z",
     "iopub.status.idle": "2022-02-26T22:59:18.702355Z",
     "shell.execute_reply": "2022-02-26T22:59:18.701714Z"
    },
    "papermill": {
     "duration": 0.074343,
     "end_time": "2022-02-26T22:59:18.703814",
     "exception": false,
     "start_time": "2022-02-26T22:59:18.629471",
     "status": "completed"
    },
    "tags": []
   },
   "outputs": [
    {
     "data": {
      "text/plain": [
       "(27731498, 1)"
      ]
     },
     "execution_count": 20,
     "metadata": {},
     "output_type": "execute_result"
    }
   ],
   "source": [
    "variants_metadata.shape"
   ]
  },
  {
   "cell_type": "code",
   "execution_count": 21,
   "id": "1d008de7",
   "metadata": {
    "execution": {
     "iopub.execute_input": "2022-02-26T22:59:18.819592Z",
     "iopub.status.busy": "2022-02-26T22:59:18.819015Z",
     "iopub.status.idle": "2022-02-26T22:59:18.836462Z",
     "shell.execute_reply": "2022-02-26T22:59:18.835896Z"
    },
    "papermill": {
     "duration": 0.076671,
     "end_time": "2022-02-26T22:59:18.837826",
     "exception": false,
     "start_time": "2022-02-26T22:59:18.761155",
     "status": "completed"
    },
    "tags": []
   },
   "outputs": [
    {
     "data": {
      "text/html": [
       "<div>\n",
       "<style scoped>\n",
       "    .dataframe tbody tr th:only-of-type {\n",
       "        vertical-align: middle;\n",
       "    }\n",
       "\n",
       "    .dataframe tbody tr th {\n",
       "        vertical-align: top;\n",
       "    }\n",
       "\n",
       "    .dataframe thead th {\n",
       "        text-align: right;\n",
       "    }\n",
       "</style>\n",
       "<table border=\"1\" class=\"dataframe\">\n",
       "  <thead>\n",
       "    <tr style=\"text-align: right;\">\n",
       "      <th></th>\n",
       "      <th>id</th>\n",
       "    </tr>\n",
       "  </thead>\n",
       "  <tbody>\n",
       "    <tr>\n",
       "      <th>0</th>\n",
       "      <td>chr1_17496_AC_A_b38</td>\n",
       "    </tr>\n",
       "    <tr>\n",
       "      <th>1</th>\n",
       "      <td>chr1_54490_G_A_b38</td>\n",
       "    </tr>\n",
       "    <tr>\n",
       "      <th>2</th>\n",
       "      <td>chr1_55330_G_A_b38</td>\n",
       "    </tr>\n",
       "    <tr>\n",
       "      <th>3</th>\n",
       "      <td>chr1_55416_G_A_b38</td>\n",
       "    </tr>\n",
       "    <tr>\n",
       "      <th>4</th>\n",
       "      <td>chr1_62157_G_A_b38</td>\n",
       "    </tr>\n",
       "  </tbody>\n",
       "</table>\n",
       "</div>"
      ],
      "text/plain": [
       "                    id\n",
       "0  chr1_17496_AC_A_b38\n",
       "1   chr1_54490_G_A_b38\n",
       "2   chr1_55330_G_A_b38\n",
       "3   chr1_55416_G_A_b38\n",
       "4   chr1_62157_G_A_b38"
      ]
     },
     "execution_count": 21,
     "metadata": {},
     "output_type": "execute_result"
    }
   ],
   "source": [
    "variants_metadata.head()"
   ]
  },
  {
   "cell_type": "code",
   "execution_count": 22,
   "id": "45bd2164",
   "metadata": {
    "execution": {
     "iopub.execute_input": "2022-02-26T22:59:18.955786Z",
     "iopub.status.busy": "2022-02-26T22:59:18.955567Z",
     "iopub.status.idle": "2022-02-26T22:59:27.067476Z",
     "shell.execute_reply": "2022-02-26T22:59:27.066789Z"
    },
    "papermill": {
     "duration": 8.171615,
     "end_time": "2022-02-26T22:59:27.069282",
     "exception": false,
     "start_time": "2022-02-26T22:59:18.897667",
     "status": "completed"
    },
    "tags": []
   },
   "outputs": [],
   "source": [
    "variants_ids_with_genotype = set(variants_metadata[\"id\"])"
   ]
  },
  {
   "cell_type": "code",
   "execution_count": 23,
   "id": "8f2937d7",
   "metadata": {
    "execution": {
     "iopub.execute_input": "2022-02-26T22:59:27.193681Z",
     "iopub.status.busy": "2022-02-26T22:59:27.193446Z",
     "iopub.status.idle": "2022-02-26T22:59:27.209114Z",
     "shell.execute_reply": "2022-02-26T22:59:27.208500Z"
    },
    "papermill": {
     "duration": 0.07524,
     "end_time": "2022-02-26T22:59:27.210434",
     "exception": false,
     "start_time": "2022-02-26T22:59:27.135194",
     "status": "completed"
    },
    "tags": []
   },
   "outputs": [
    {
     "data": {
      "text/plain": [
       "27731498"
      ]
     },
     "execution_count": 23,
     "metadata": {},
     "output_type": "execute_result"
    }
   ],
   "source": [
    "len(variants_ids_with_genotype)"
   ]
  },
  {
   "cell_type": "code",
   "execution_count": 24,
   "id": "6b160cc3",
   "metadata": {
    "execution": {
     "iopub.execute_input": "2022-02-26T22:59:27.328194Z",
     "iopub.status.busy": "2022-02-26T22:59:27.327975Z",
     "iopub.status.idle": "2022-02-26T22:59:30.297126Z",
     "shell.execute_reply": "2022-02-26T22:59:30.296176Z"
    },
    "papermill": {
     "duration": 3.030432,
     "end_time": "2022-02-26T22:59:30.299462",
     "exception": false,
     "start_time": "2022-02-26T22:59:27.269030",
     "status": "completed"
    },
    "tags": []
   },
   "outputs": [
    {
     "data": {
      "text/plain": [
       "['chr3_186521343_T_C_b38',\n",
       " 'chr3_108074862_A_G_b38',\n",
       " 'chr5_8971881_G_T_b38',\n",
       " 'chr5_124122193_A_G_b38',\n",
       " 'chr8_104851626_C_A_b38',\n",
       " 'chr4_40375674_A_G_b38',\n",
       " 'chr7_2009149_C_T_b38',\n",
       " 'chr11_129490939_G_C_b38',\n",
       " 'chr16_83721731_C_T_b38',\n",
       " 'chr7_153007320_G_T_b38']"
      ]
     },
     "execution_count": 24,
     "metadata": {},
     "output_type": "execute_result"
    }
   ],
   "source": [
    "list(variants_ids_with_genotype)[:10]"
   ]
  },
  {
   "cell_type": "code",
   "execution_count": 25,
   "id": "0a38a43c",
   "metadata": {
    "execution": {
     "iopub.execute_input": "2022-02-26T22:59:30.433271Z",
     "iopub.status.busy": "2022-02-26T22:59:30.432634Z",
     "iopub.status.idle": "2022-02-26T22:59:30.447215Z",
     "shell.execute_reply": "2022-02-26T22:59:30.446557Z"
    },
    "papermill": {
     "duration": 0.075072,
     "end_time": "2022-02-26T22:59:30.448757",
     "exception": false,
     "start_time": "2022-02-26T22:59:30.373685",
     "status": "completed"
    },
    "tags": []
   },
   "outputs": [],
   "source": [
    "del variants_metadata"
   ]
  },
  {
   "cell_type": "markdown",
   "id": "4b7ca4c8",
   "metadata": {
    "papermill": {
     "duration": 0.061706,
     "end_time": "2022-02-26T22:59:30.568791",
     "exception": false,
     "start_time": "2022-02-26T22:59:30.507085",
     "status": "completed"
    },
    "tags": []
   },
   "source": [
    "# How many variants in predictions models are present in 1000G?"
   ]
  },
  {
   "cell_type": "code",
   "execution_count": 26,
   "id": "4e323c11",
   "metadata": {
    "execution": {
     "iopub.execute_input": "2022-02-26T22:59:30.687089Z",
     "iopub.status.busy": "2022-02-26T22:59:30.686870Z",
     "iopub.status.idle": "2022-02-26T22:59:30.702824Z",
     "shell.execute_reply": "2022-02-26T22:59:30.702139Z"
    },
    "papermill": {
     "duration": 0.077068,
     "end_time": "2022-02-26T22:59:30.704272",
     "exception": false,
     "start_time": "2022-02-26T22:59:30.627204",
     "status": "completed"
    },
    "tags": []
   },
   "outputs": [
    {
     "data": {
      "text/plain": [
       "1657598"
      ]
     },
     "metadata": {},
     "output_type": "display_data"
    }
   ],
   "source": [
    "n_snps_in_models = len(all_snps_in_models)\n",
    "display(n_snps_in_models)"
   ]
  },
  {
   "cell_type": "code",
   "execution_count": 27,
   "id": "a9ecb68e",
   "metadata": {
    "execution": {
     "iopub.execute_input": "2022-02-26T22:59:30.823185Z",
     "iopub.status.busy": "2022-02-26T22:59:30.822523Z",
     "iopub.status.idle": "2022-02-26T22:59:31.324571Z",
     "shell.execute_reply": "2022-02-26T22:59:31.323740Z"
    },
    "papermill": {
     "duration": 0.563318,
     "end_time": "2022-02-26T22:59:31.326744",
     "exception": false,
     "start_time": "2022-02-26T22:59:30.763426",
     "status": "completed"
    },
    "tags": []
   },
   "outputs": [
    {
     "data": {
      "text/plain": [
       "1651538"
      ]
     },
     "metadata": {},
     "output_type": "display_data"
    }
   ],
   "source": [
    "n_snps_in_1000g = len(all_snps_in_models.intersection(variants_ids_with_genotype))\n",
    "display(n_snps_in_1000g)"
   ]
  },
  {
   "cell_type": "code",
   "execution_count": 28,
   "id": "5f2f5991",
   "metadata": {
    "execution": {
     "iopub.execute_input": "2022-02-26T22:59:31.460410Z",
     "iopub.status.busy": "2022-02-26T22:59:31.459824Z",
     "iopub.status.idle": "2022-02-26T22:59:31.475352Z",
     "shell.execute_reply": "2022-02-26T22:59:31.474692Z"
    },
    "papermill": {
     "duration": 0.076697,
     "end_time": "2022-02-26T22:59:31.476721",
     "exception": false,
     "start_time": "2022-02-26T22:59:31.400024",
     "status": "completed"
    },
    "tags": []
   },
   "outputs": [
    {
     "data": {
      "text/plain": [
       "0.9963441075580448"
      ]
     },
     "execution_count": 28,
     "metadata": {},
     "output_type": "execute_result"
    }
   ],
   "source": [
    "n_snps_in_1000g / n_snps_in_models"
   ]
  },
  {
   "cell_type": "markdown",
   "id": "a9a0d07c",
   "metadata": {
    "papermill": {
     "duration": 0.060184,
     "end_time": "2022-02-26T22:59:31.600486",
     "exception": false,
     "start_time": "2022-02-26T22:59:31.540302",
     "status": "completed"
    },
    "tags": []
   },
   "source": [
    "# Get final list of genes in MultiPLIER"
   ]
  },
  {
   "cell_type": "code",
   "execution_count": 29,
   "id": "e9801fec",
   "metadata": {
    "execution": {
     "iopub.execute_input": "2022-02-26T22:59:31.720839Z",
     "iopub.status.busy": "2022-02-26T22:59:31.720616Z",
     "iopub.status.idle": "2022-02-26T22:59:31.741263Z",
     "shell.execute_reply": "2022-02-26T22:59:31.740595Z"
    },
    "papermill": {
     "duration": 0.083059,
     "end_time": "2022-02-26T22:59:31.742854",
     "exception": false,
     "start_time": "2022-02-26T22:59:31.659795",
     "status": "completed"
    },
    "tags": []
   },
   "outputs": [],
   "source": [
    "genes_in_z = [\n",
    "    Gene(name=gene_name).ensembl_id\n",
    "    for gene_name in multiplier_z.index\n",
    "    if gene_name in Gene.GENE_NAME_TO_ID_MAP\n",
    "]"
   ]
  },
  {
   "cell_type": "code",
   "execution_count": 30,
   "id": "4cde8776",
   "metadata": {
    "execution": {
     "iopub.execute_input": "2022-02-26T22:59:31.863913Z",
     "iopub.status.busy": "2022-02-26T22:59:31.863696Z",
     "iopub.status.idle": "2022-02-26T22:59:31.879391Z",
     "shell.execute_reply": "2022-02-26T22:59:31.878722Z"
    },
    "papermill": {
     "duration": 0.077131,
     "end_time": "2022-02-26T22:59:31.880780",
     "exception": false,
     "start_time": "2022-02-26T22:59:31.803649",
     "status": "completed"
    },
    "tags": []
   },
   "outputs": [
    {
     "data": {
      "text/plain": [
       "6454"
      ]
     },
     "execution_count": 30,
     "metadata": {},
     "output_type": "execute_result"
    }
   ],
   "source": [
    "len(genes_in_z)"
   ]
  },
  {
   "cell_type": "code",
   "execution_count": 31,
   "id": "577cf614",
   "metadata": {
    "execution": {
     "iopub.execute_input": "2022-02-26T22:59:32.003329Z",
     "iopub.status.busy": "2022-02-26T22:59:32.002764Z",
     "iopub.status.idle": "2022-02-26T22:59:32.018925Z",
     "shell.execute_reply": "2022-02-26T22:59:32.018188Z"
    },
    "papermill": {
     "duration": 0.078464,
     "end_time": "2022-02-26T22:59:32.020446",
     "exception": false,
     "start_time": "2022-02-26T22:59:31.941982",
     "status": "completed"
    },
    "tags": []
   },
   "outputs": [
    {
     "data": {
      "text/plain": [
       "['ENSG00000183087',\n",
       " 'ENSG00000157227',\n",
       " 'ENSG00000096696',\n",
       " 'ENSG00000175130',\n",
       " 'ENSG00000113140']"
      ]
     },
     "execution_count": 31,
     "metadata": {},
     "output_type": "execute_result"
    }
   ],
   "source": [
    "genes_in_z[:5]"
   ]
  },
  {
   "cell_type": "code",
   "execution_count": 32,
   "id": "3136fc66",
   "metadata": {
    "execution": {
     "iopub.execute_input": "2022-02-26T22:59:32.143197Z",
     "iopub.status.busy": "2022-02-26T22:59:32.142962Z",
     "iopub.status.idle": "2022-02-26T22:59:32.158784Z",
     "shell.execute_reply": "2022-02-26T22:59:32.158111Z"
    },
    "papermill": {
     "duration": 0.079424,
     "end_time": "2022-02-26T22:59:32.160456",
     "exception": false,
     "start_time": "2022-02-26T22:59:32.081032",
     "status": "completed"
    },
    "tags": []
   },
   "outputs": [],
   "source": [
    "genes_in_z = set(genes_in_z)"
   ]
  },
  {
   "cell_type": "code",
   "execution_count": 33,
   "id": "0f1cace8",
   "metadata": {
    "execution": {
     "iopub.execute_input": "2022-02-26T22:59:32.282473Z",
     "iopub.status.busy": "2022-02-26T22:59:32.282253Z",
     "iopub.status.idle": "2022-02-26T22:59:32.297447Z",
     "shell.execute_reply": "2022-02-26T22:59:32.296863Z"
    },
    "papermill": {
     "duration": 0.077471,
     "end_time": "2022-02-26T22:59:32.298854",
     "exception": false,
     "start_time": "2022-02-26T22:59:32.221383",
     "status": "completed"
    },
    "tags": []
   },
   "outputs": [
    {
     "data": {
      "text/plain": [
       "6454"
      ]
     },
     "execution_count": 33,
     "metadata": {},
     "output_type": "execute_result"
    }
   ],
   "source": [
    "len(genes_in_z)"
   ]
  },
  {
   "cell_type": "code",
   "execution_count": 34,
   "id": "b9dc4d3e",
   "metadata": {
    "execution": {
     "iopub.execute_input": "2022-02-26T22:59:32.421510Z",
     "iopub.status.busy": "2022-02-26T22:59:32.421291Z",
     "iopub.status.idle": "2022-02-26T22:59:33.018680Z",
     "shell.execute_reply": "2022-02-26T22:59:33.018034Z"
    },
    "papermill": {
     "duration": 0.660036,
     "end_time": "2022-02-26T22:59:33.020283",
     "exception": false,
     "start_time": "2022-02-26T22:59:32.360247",
     "status": "completed"
    },
    "tags": []
   },
   "outputs": [
    {
     "data": {
      "text/plain": [
       "(8558894, 3)"
      ]
     },
     "metadata": {},
     "output_type": "display_data"
    },
    {
     "data": {
      "text/plain": [
       "(2826818, 3)"
      ]
     },
     "metadata": {},
     "output_type": "display_data"
    }
   ],
   "source": [
    "# keep genes in MultiPLIER only\n",
    "display(all_gene_snps.shape)\n",
    "\n",
    "all_gene_snps = all_gene_snps[all_gene_snps[\"gene\"].isin(genes_in_z)]\n",
    "\n",
    "display(all_gene_snps.shape)"
   ]
  },
  {
   "cell_type": "markdown",
   "id": "69e77b6e",
   "metadata": {
    "papermill": {
     "duration": 0.061614,
     "end_time": "2022-02-26T22:59:33.148746",
     "exception": false,
     "start_time": "2022-02-26T22:59:33.087132",
     "status": "completed"
    },
    "tags": []
   },
   "source": [
    "# (For MultiPLIER genes): How many variants in predictions models are present in 1000G?"
   ]
  },
  {
   "cell_type": "code",
   "execution_count": 35,
   "id": "c8a3405c",
   "metadata": {
    "execution": {
     "iopub.execute_input": "2022-02-26T22:59:33.273480Z",
     "iopub.status.busy": "2022-02-26T22:59:33.273259Z",
     "iopub.status.idle": "2022-02-26T22:59:34.113981Z",
     "shell.execute_reply": "2022-02-26T22:59:34.113289Z"
    },
    "papermill": {
     "duration": 0.904507,
     "end_time": "2022-02-26T22:59:34.115712",
     "exception": false,
     "start_time": "2022-02-26T22:59:33.211205",
     "status": "completed"
    },
    "tags": []
   },
   "outputs": [
    {
     "data": {
      "text/plain": [
       "949171"
      ]
     },
     "metadata": {},
     "output_type": "display_data"
    }
   ],
   "source": [
    "all_snps_in_models_multiplier = set(all_gene_snps[\"varID\"])\n",
    "\n",
    "n_snps_in_models = len(all_snps_in_models_multiplier)\n",
    "display(n_snps_in_models)"
   ]
  },
  {
   "cell_type": "code",
   "execution_count": 36,
   "id": "a118deab",
   "metadata": {
    "execution": {
     "iopub.execute_input": "2022-02-26T22:59:34.250544Z",
     "iopub.status.busy": "2022-02-26T22:59:34.250302Z",
     "iopub.status.idle": "2022-02-26T22:59:34.539292Z",
     "shell.execute_reply": "2022-02-26T22:59:34.538438Z"
    },
    "papermill": {
     "duration": 0.353853,
     "end_time": "2022-02-26T22:59:34.541534",
     "exception": false,
     "start_time": "2022-02-26T22:59:34.187681",
     "status": "completed"
    },
    "tags": []
   },
   "outputs": [
    {
     "data": {
      "text/plain": [
       "945425"
      ]
     },
     "metadata": {},
     "output_type": "display_data"
    }
   ],
   "source": [
    "n_snps_in_1000g = len(\n",
    "    all_snps_in_models_multiplier.intersection(variants_ids_with_genotype)\n",
    ")\n",
    "display(n_snps_in_1000g)"
   ]
  },
  {
   "cell_type": "code",
   "execution_count": 37,
   "id": "cb5b96f3",
   "metadata": {
    "execution": {
     "iopub.execute_input": "2022-02-26T22:59:34.684647Z",
     "iopub.status.busy": "2022-02-26T22:59:34.684401Z",
     "iopub.status.idle": "2022-02-26T22:59:34.699938Z",
     "shell.execute_reply": "2022-02-26T22:59:34.699342Z"
    },
    "papermill": {
     "duration": 0.080955,
     "end_time": "2022-02-26T22:59:34.701437",
     "exception": false,
     "start_time": "2022-02-26T22:59:34.620482",
     "status": "completed"
    },
    "tags": []
   },
   "outputs": [
    {
     "data": {
      "text/plain": [
       "0.9960533981758819"
      ]
     },
     "execution_count": 37,
     "metadata": {},
     "output_type": "execute_result"
    }
   ],
   "source": [
    "n_snps_in_1000g / n_snps_in_models"
   ]
  },
  {
   "cell_type": "markdown",
   "id": "dbabf1c1",
   "metadata": {
    "papermill": {
     "duration": 0.062817,
     "end_time": "2022-02-26T22:59:34.829044",
     "exception": false,
     "start_time": "2022-02-26T22:59:34.766227",
     "status": "completed"
    },
    "tags": []
   },
   "source": [
    "## Preprocess SNPs data"
   ]
  },
  {
   "cell_type": "code",
   "execution_count": 38,
   "id": "19838f0a",
   "metadata": {
    "execution": {
     "iopub.execute_input": "2022-02-26T22:59:34.956391Z",
     "iopub.status.busy": "2022-02-26T22:59:34.955860Z",
     "iopub.status.idle": "2022-02-26T22:59:36.087744Z",
     "shell.execute_reply": "2022-02-26T22:59:36.086834Z"
    },
    "papermill": {
     "duration": 1.197986,
     "end_time": "2022-02-26T22:59:36.090159",
     "exception": false,
     "start_time": "2022-02-26T22:59:34.892173",
     "status": "completed"
    },
    "tags": []
   },
   "outputs": [],
   "source": [
    "variants_ld_block_df = all_gene_snps[[\"varID\"]].drop_duplicates()"
   ]
  },
  {
   "cell_type": "code",
   "execution_count": 39,
   "id": "d015b20d",
   "metadata": {
    "execution": {
     "iopub.execute_input": "2022-02-26T22:59:36.234376Z",
     "iopub.status.busy": "2022-02-26T22:59:36.234155Z",
     "iopub.status.idle": "2022-02-26T22:59:36.249616Z",
     "shell.execute_reply": "2022-02-26T22:59:36.249030Z"
    },
    "papermill": {
     "duration": 0.080527,
     "end_time": "2022-02-26T22:59:36.251041",
     "exception": false,
     "start_time": "2022-02-26T22:59:36.170514",
     "status": "completed"
    },
    "tags": []
   },
   "outputs": [
    {
     "data": {
      "text/plain": [
       "(949171, 1)"
      ]
     },
     "execution_count": 39,
     "metadata": {},
     "output_type": "execute_result"
    }
   ],
   "source": [
    "variants_ld_block_df.shape"
   ]
  },
  {
   "cell_type": "code",
   "execution_count": 40,
   "id": "ed4a5faa",
   "metadata": {
    "execution": {
     "iopub.execute_input": "2022-02-26T22:59:36.379209Z",
     "iopub.status.busy": "2022-02-26T22:59:36.378978Z",
     "iopub.status.idle": "2022-02-26T22:59:36.396767Z",
     "shell.execute_reply": "2022-02-26T22:59:36.396051Z"
    },
    "papermill": {
     "duration": 0.083494,
     "end_time": "2022-02-26T22:59:36.398183",
     "exception": false,
     "start_time": "2022-02-26T22:59:36.314689",
     "status": "completed"
    },
    "tags": []
   },
   "outputs": [
    {
     "data": {
      "text/html": [
       "<div>\n",
       "<style scoped>\n",
       "    .dataframe tbody tr th:only-of-type {\n",
       "        vertical-align: middle;\n",
       "    }\n",
       "\n",
       "    .dataframe tbody tr th {\n",
       "        vertical-align: top;\n",
       "    }\n",
       "\n",
       "    .dataframe thead th {\n",
       "        text-align: right;\n",
       "    }\n",
       "</style>\n",
       "<table border=\"1\" class=\"dataframe\">\n",
       "  <thead>\n",
       "    <tr style=\"text-align: right;\">\n",
       "      <th></th>\n",
       "      <th>varID</th>\n",
       "    </tr>\n",
       "  </thead>\n",
       "  <tbody>\n",
       "    <tr>\n",
       "      <th>58</th>\n",
       "      <td>chr10_42564881_C_T_b38</td>\n",
       "    </tr>\n",
       "    <tr>\n",
       "      <th>59</th>\n",
       "      <td>chr10_42567504_T_C_b38</td>\n",
       "    </tr>\n",
       "    <tr>\n",
       "      <th>60</th>\n",
       "      <td>chr10_42568462_G_T_b38</td>\n",
       "    </tr>\n",
       "    <tr>\n",
       "      <th>61</th>\n",
       "      <td>chr10_42569289_A_G_b38</td>\n",
       "    </tr>\n",
       "    <tr>\n",
       "      <th>62</th>\n",
       "      <td>chr10_42570991_C_T_b38</td>\n",
       "    </tr>\n",
       "  </tbody>\n",
       "</table>\n",
       "</div>"
      ],
      "text/plain": [
       "                     varID\n",
       "58  chr10_42564881_C_T_b38\n",
       "59  chr10_42567504_T_C_b38\n",
       "60  chr10_42568462_G_T_b38\n",
       "61  chr10_42569289_A_G_b38\n",
       "62  chr10_42570991_C_T_b38"
      ]
     },
     "execution_count": 40,
     "metadata": {},
     "output_type": "execute_result"
    }
   ],
   "source": [
    "variants_ld_block_df.head()"
   ]
  },
  {
   "cell_type": "code",
   "execution_count": 41,
   "id": "3557d870",
   "metadata": {
    "execution": {
     "iopub.execute_input": "2022-02-26T22:59:36.529118Z",
     "iopub.status.busy": "2022-02-26T22:59:36.528390Z",
     "iopub.status.idle": "2022-02-26T23:00:02.465968Z",
     "shell.execute_reply": "2022-02-26T23:00:02.465222Z"
    },
    "papermill": {
     "duration": 26.004094,
     "end_time": "2022-02-26T23:00:02.468003",
     "exception": false,
     "start_time": "2022-02-26T22:59:36.463909",
     "status": "completed"
    },
    "tags": []
   },
   "outputs": [],
   "source": [
    "variants_info = variants_ld_block_df[\"varID\"].str.split(\"_\", expand=True)"
   ]
  },
  {
   "cell_type": "code",
   "execution_count": 42,
   "id": "bd49aa4c",
   "metadata": {
    "execution": {
     "iopub.execute_input": "2022-02-26T23:00:02.602828Z",
     "iopub.status.busy": "2022-02-26T23:00:02.602371Z",
     "iopub.status.idle": "2022-02-26T23:00:02.617909Z",
     "shell.execute_reply": "2022-02-26T23:00:02.617216Z"
    },
    "papermill": {
     "duration": 0.081643,
     "end_time": "2022-02-26T23:00:02.619353",
     "exception": false,
     "start_time": "2022-02-26T23:00:02.537710",
     "status": "completed"
    },
    "tags": []
   },
   "outputs": [
    {
     "data": {
      "text/plain": [
       "(949171, 5)"
      ]
     },
     "execution_count": 42,
     "metadata": {},
     "output_type": "execute_result"
    }
   ],
   "source": [
    "variants_info.shape"
   ]
  },
  {
   "cell_type": "code",
   "execution_count": 43,
   "id": "7e2b7606",
   "metadata": {
    "execution": {
     "iopub.execute_input": "2022-02-26T23:00:02.754226Z",
     "iopub.status.busy": "2022-02-26T23:00:02.753506Z",
     "iopub.status.idle": "2022-02-26T23:00:02.768202Z",
     "shell.execute_reply": "2022-02-26T23:00:02.767542Z"
    },
    "papermill": {
     "duration": 0.082429,
     "end_time": "2022-02-26T23:00:02.769754",
     "exception": false,
     "start_time": "2022-02-26T23:00:02.687325",
     "status": "completed"
    },
    "tags": []
   },
   "outputs": [],
   "source": [
    "assert variants_ld_block_df.shape[0] == variants_info.shape[0]"
   ]
  },
  {
   "cell_type": "code",
   "execution_count": 44,
   "id": "048abd7f",
   "metadata": {
    "execution": {
     "iopub.execute_input": "2022-02-26T23:00:02.900420Z",
     "iopub.status.busy": "2022-02-26T23:00:02.900178Z",
     "iopub.status.idle": "2022-02-26T23:00:03.467000Z",
     "shell.execute_reply": "2022-02-26T23:00:03.466167Z"
    },
    "papermill": {
     "duration": 0.63447,
     "end_time": "2022-02-26T23:00:03.469255",
     "exception": false,
     "start_time": "2022-02-26T23:00:02.834785",
     "status": "completed"
    },
    "tags": []
   },
   "outputs": [],
   "source": [
    "variants_ld_block_df = variants_ld_block_df.join(variants_info)[[\"varID\", 0, 1, 2, 3]]"
   ]
  },
  {
   "cell_type": "code",
   "execution_count": 45,
   "id": "5bfb6a7a",
   "metadata": {
    "execution": {
     "iopub.execute_input": "2022-02-26T23:00:03.615067Z",
     "iopub.status.busy": "2022-02-26T23:00:03.614834Z",
     "iopub.status.idle": "2022-02-26T23:00:03.630144Z",
     "shell.execute_reply": "2022-02-26T23:00:03.629662Z"
    },
    "papermill": {
     "duration": 0.082867,
     "end_time": "2022-02-26T23:00:03.631651",
     "exception": false,
     "start_time": "2022-02-26T23:00:03.548784",
     "status": "completed"
    },
    "tags": []
   },
   "outputs": [],
   "source": [
    "assert variants_ld_block_df.shape[0] == variants_info.shape[0]"
   ]
  },
  {
   "cell_type": "code",
   "execution_count": 46,
   "id": "4d8cf1da",
   "metadata": {
    "execution": {
     "iopub.execute_input": "2022-02-26T23:00:03.765341Z",
     "iopub.status.busy": "2022-02-26T23:00:03.765123Z",
     "iopub.status.idle": "2022-02-26T23:00:03.784789Z",
     "shell.execute_reply": "2022-02-26T23:00:03.784233Z"
    },
    "papermill": {
     "duration": 0.086967,
     "end_time": "2022-02-26T23:00:03.786183",
     "exception": false,
     "start_time": "2022-02-26T23:00:03.699216",
     "status": "completed"
    },
    "tags": []
   },
   "outputs": [
    {
     "data": {
      "text/html": [
       "<div>\n",
       "<style scoped>\n",
       "    .dataframe tbody tr th:only-of-type {\n",
       "        vertical-align: middle;\n",
       "    }\n",
       "\n",
       "    .dataframe tbody tr th {\n",
       "        vertical-align: top;\n",
       "    }\n",
       "\n",
       "    .dataframe thead th {\n",
       "        text-align: right;\n",
       "    }\n",
       "</style>\n",
       "<table border=\"1\" class=\"dataframe\">\n",
       "  <thead>\n",
       "    <tr style=\"text-align: right;\">\n",
       "      <th></th>\n",
       "      <th>varID</th>\n",
       "      <th>0</th>\n",
       "      <th>1</th>\n",
       "      <th>2</th>\n",
       "      <th>3</th>\n",
       "    </tr>\n",
       "  </thead>\n",
       "  <tbody>\n",
       "    <tr>\n",
       "      <th>58</th>\n",
       "      <td>chr10_42564881_C_T_b38</td>\n",
       "      <td>chr10</td>\n",
       "      <td>42564881</td>\n",
       "      <td>C</td>\n",
       "      <td>T</td>\n",
       "    </tr>\n",
       "    <tr>\n",
       "      <th>59</th>\n",
       "      <td>chr10_42567504_T_C_b38</td>\n",
       "      <td>chr10</td>\n",
       "      <td>42567504</td>\n",
       "      <td>T</td>\n",
       "      <td>C</td>\n",
       "    </tr>\n",
       "    <tr>\n",
       "      <th>60</th>\n",
       "      <td>chr10_42568462_G_T_b38</td>\n",
       "      <td>chr10</td>\n",
       "      <td>42568462</td>\n",
       "      <td>G</td>\n",
       "      <td>T</td>\n",
       "    </tr>\n",
       "    <tr>\n",
       "      <th>61</th>\n",
       "      <td>chr10_42569289_A_G_b38</td>\n",
       "      <td>chr10</td>\n",
       "      <td>42569289</td>\n",
       "      <td>A</td>\n",
       "      <td>G</td>\n",
       "    </tr>\n",
       "    <tr>\n",
       "      <th>62</th>\n",
       "      <td>chr10_42570991_C_T_b38</td>\n",
       "      <td>chr10</td>\n",
       "      <td>42570991</td>\n",
       "      <td>C</td>\n",
       "      <td>T</td>\n",
       "    </tr>\n",
       "  </tbody>\n",
       "</table>\n",
       "</div>"
      ],
      "text/plain": [
       "                     varID      0         1  2  3\n",
       "58  chr10_42564881_C_T_b38  chr10  42564881  C  T\n",
       "59  chr10_42567504_T_C_b38  chr10  42567504  T  C\n",
       "60  chr10_42568462_G_T_b38  chr10  42568462  G  T\n",
       "61  chr10_42569289_A_G_b38  chr10  42569289  A  G\n",
       "62  chr10_42570991_C_T_b38  chr10  42570991  C  T"
      ]
     },
     "execution_count": 46,
     "metadata": {},
     "output_type": "execute_result"
    }
   ],
   "source": [
    "variants_ld_block_df.head()"
   ]
  },
  {
   "cell_type": "code",
   "execution_count": 47,
   "id": "47448229",
   "metadata": {
    "execution": {
     "iopub.execute_input": "2022-02-26T23:00:03.920756Z",
     "iopub.status.busy": "2022-02-26T23:00:03.920538Z",
     "iopub.status.idle": "2022-02-26T23:00:03.999635Z",
     "shell.execute_reply": "2022-02-26T23:00:03.998919Z"
    },
    "papermill": {
     "duration": 0.147608,
     "end_time": "2022-02-26T23:00:04.001402",
     "exception": false,
     "start_time": "2022-02-26T23:00:03.853794",
     "status": "completed"
    },
    "tags": []
   },
   "outputs": [],
   "source": [
    "variants_ld_block_df = variants_ld_block_df.rename(\n",
    "    columns={\n",
    "        0: \"chr\",\n",
    "        1: \"position\",\n",
    "        2: \"ref_allele\",\n",
    "        3: \"eff_allele\",\n",
    "    }\n",
    ")"
   ]
  },
  {
   "cell_type": "code",
   "execution_count": 48,
   "id": "3beadcf8",
   "metadata": {
    "execution": {
     "iopub.execute_input": "2022-02-26T23:00:04.141152Z",
     "iopub.status.busy": "2022-02-26T23:00:04.140930Z",
     "iopub.status.idle": "2022-02-26T23:00:04.654159Z",
     "shell.execute_reply": "2022-02-26T23:00:04.649831Z"
    },
    "papermill": {
     "duration": 0.582877,
     "end_time": "2022-02-26T23:00:04.657199",
     "exception": false,
     "start_time": "2022-02-26T23:00:04.074322",
     "status": "completed"
    },
    "tags": []
   },
   "outputs": [],
   "source": [
    "variants_ld_block_df[\"chr\"] = variants_ld_block_df[\"chr\"].apply(lambda x: int(x[3:]))"
   ]
  },
  {
   "cell_type": "code",
   "execution_count": 49,
   "id": "b18c25c1",
   "metadata": {
    "execution": {
     "iopub.execute_input": "2022-02-26T23:00:04.802929Z",
     "iopub.status.busy": "2022-02-26T23:00:04.802694Z",
     "iopub.status.idle": "2022-02-26T23:00:04.938254Z",
     "shell.execute_reply": "2022-02-26T23:00:04.937678Z"
    },
    "papermill": {
     "duration": 0.204223,
     "end_time": "2022-02-26T23:00:04.940102",
     "exception": false,
     "start_time": "2022-02-26T23:00:04.735879",
     "status": "completed"
    },
    "tags": []
   },
   "outputs": [],
   "source": [
    "variants_ld_block_df[\"position\"] = variants_ld_block_df[\"position\"].astype(int)"
   ]
  },
  {
   "cell_type": "code",
   "execution_count": 50,
   "id": "13af12ae",
   "metadata": {
    "execution": {
     "iopub.execute_input": "2022-02-26T23:00:05.083619Z",
     "iopub.status.busy": "2022-02-26T23:00:05.083386Z",
     "iopub.status.idle": "2022-02-26T23:00:05.099694Z",
     "shell.execute_reply": "2022-02-26T23:00:05.099105Z"
    },
    "papermill": {
     "duration": 0.083417,
     "end_time": "2022-02-26T23:00:05.101204",
     "exception": false,
     "start_time": "2022-02-26T23:00:05.017787",
     "status": "completed"
    },
    "tags": []
   },
   "outputs": [
    {
     "data": {
      "text/plain": [
       "(949171, 5)"
      ]
     },
     "execution_count": 50,
     "metadata": {},
     "output_type": "execute_result"
    }
   ],
   "source": [
    "variants_ld_block_df.shape"
   ]
  },
  {
   "cell_type": "code",
   "execution_count": 51,
   "id": "431d8602",
   "metadata": {
    "execution": {
     "iopub.execute_input": "2022-02-26T23:00:05.234001Z",
     "iopub.status.busy": "2022-02-26T23:00:05.233774Z",
     "iopub.status.idle": "2022-02-26T23:00:05.252927Z",
     "shell.execute_reply": "2022-02-26T23:00:05.252251Z"
    },
    "papermill": {
     "duration": 0.087103,
     "end_time": "2022-02-26T23:00:05.254375",
     "exception": false,
     "start_time": "2022-02-26T23:00:05.167272",
     "status": "completed"
    },
    "tags": []
   },
   "outputs": [
    {
     "data": {
      "text/html": [
       "<div>\n",
       "<style scoped>\n",
       "    .dataframe tbody tr th:only-of-type {\n",
       "        vertical-align: middle;\n",
       "    }\n",
       "\n",
       "    .dataframe tbody tr th {\n",
       "        vertical-align: top;\n",
       "    }\n",
       "\n",
       "    .dataframe thead th {\n",
       "        text-align: right;\n",
       "    }\n",
       "</style>\n",
       "<table border=\"1\" class=\"dataframe\">\n",
       "  <thead>\n",
       "    <tr style=\"text-align: right;\">\n",
       "      <th></th>\n",
       "      <th>varID</th>\n",
       "      <th>chr</th>\n",
       "      <th>position</th>\n",
       "      <th>ref_allele</th>\n",
       "      <th>eff_allele</th>\n",
       "    </tr>\n",
       "  </thead>\n",
       "  <tbody>\n",
       "    <tr>\n",
       "      <th>58</th>\n",
       "      <td>chr10_42564881_C_T_b38</td>\n",
       "      <td>10</td>\n",
       "      <td>42564881</td>\n",
       "      <td>C</td>\n",
       "      <td>T</td>\n",
       "    </tr>\n",
       "    <tr>\n",
       "      <th>59</th>\n",
       "      <td>chr10_42567504_T_C_b38</td>\n",
       "      <td>10</td>\n",
       "      <td>42567504</td>\n",
       "      <td>T</td>\n",
       "      <td>C</td>\n",
       "    </tr>\n",
       "    <tr>\n",
       "      <th>60</th>\n",
       "      <td>chr10_42568462_G_T_b38</td>\n",
       "      <td>10</td>\n",
       "      <td>42568462</td>\n",
       "      <td>G</td>\n",
       "      <td>T</td>\n",
       "    </tr>\n",
       "    <tr>\n",
       "      <th>61</th>\n",
       "      <td>chr10_42569289_A_G_b38</td>\n",
       "      <td>10</td>\n",
       "      <td>42569289</td>\n",
       "      <td>A</td>\n",
       "      <td>G</td>\n",
       "    </tr>\n",
       "    <tr>\n",
       "      <th>62</th>\n",
       "      <td>chr10_42570991_C_T_b38</td>\n",
       "      <td>10</td>\n",
       "      <td>42570991</td>\n",
       "      <td>C</td>\n",
       "      <td>T</td>\n",
       "    </tr>\n",
       "  </tbody>\n",
       "</table>\n",
       "</div>"
      ],
      "text/plain": [
       "                     varID  chr  position ref_allele eff_allele\n",
       "58  chr10_42564881_C_T_b38   10  42564881          C          T\n",
       "59  chr10_42567504_T_C_b38   10  42567504          T          C\n",
       "60  chr10_42568462_G_T_b38   10  42568462          G          T\n",
       "61  chr10_42569289_A_G_b38   10  42569289          A          G\n",
       "62  chr10_42570991_C_T_b38   10  42570991          C          T"
      ]
     },
     "execution_count": 51,
     "metadata": {},
     "output_type": "execute_result"
    }
   ],
   "source": [
    "variants_ld_block_df.head()"
   ]
  },
  {
   "cell_type": "code",
   "execution_count": 52,
   "id": "35fc8e6d",
   "metadata": {
    "execution": {
     "iopub.execute_input": "2022-02-26T23:00:05.389966Z",
     "iopub.status.busy": "2022-02-26T23:00:05.389746Z",
     "iopub.status.idle": "2022-02-26T23:00:05.406194Z",
     "shell.execute_reply": "2022-02-26T23:00:05.405588Z"
    },
    "papermill": {
     "duration": 0.085837,
     "end_time": "2022-02-26T23:00:05.407490",
     "exception": false,
     "start_time": "2022-02-26T23:00:05.321653",
     "status": "completed"
    },
    "tags": []
   },
   "outputs": [
    {
     "data": {
      "text/plain": [
       "varID         object\n",
       "chr            int64\n",
       "position       int64\n",
       "ref_allele    object\n",
       "eff_allele    object\n",
       "dtype: object"
      ]
     },
     "execution_count": 52,
     "metadata": {},
     "output_type": "execute_result"
    }
   ],
   "source": [
    "variants_ld_block_df.dtypes"
   ]
  },
  {
   "cell_type": "markdown",
   "id": "ec84177c",
   "metadata": {
    "papermill": {
     "duration": 0.066969,
     "end_time": "2022-02-26T23:00:05.541523",
     "exception": false,
     "start_time": "2022-02-26T23:00:05.474554",
     "status": "completed"
    },
    "tags": []
   },
   "source": [
    "# Covariance for each chromosome block"
   ]
  },
  {
   "cell_type": "markdown",
   "id": "d43e1890",
   "metadata": {
    "papermill": {
     "duration": 0.069393,
     "end_time": "2022-02-26T23:00:05.678256",
     "exception": false,
     "start_time": "2022-02-26T23:00:05.608863",
     "status": "completed"
    },
    "tags": []
   },
   "source": [
    "## Functions"
   ]
  },
  {
   "cell_type": "code",
   "execution_count": 53,
   "id": "394c6b4d",
   "metadata": {
    "execution": {
     "iopub.execute_input": "2022-02-26T23:00:05.814214Z",
     "iopub.status.busy": "2022-02-26T23:00:05.813990Z",
     "iopub.status.idle": "2022-02-26T23:00:05.829369Z",
     "shell.execute_reply": "2022-02-26T23:00:05.828695Z"
    },
    "papermill": {
     "duration": 0.084936,
     "end_time": "2022-02-26T23:00:05.830715",
     "exception": false,
     "start_time": "2022-02-26T23:00:05.745779",
     "status": "completed"
    },
    "tags": []
   },
   "outputs": [],
   "source": [
    "def covariance(df, dtype):\n",
    "    n = df.shape[0]\n",
    "    df = df.sub(df.mean(), axis=1).astype(dtype)\n",
    "    return df.T.dot(df) / (n - 1)"
   ]
  },
  {
   "cell_type": "code",
   "execution_count": 54,
   "id": "ed702fd0",
   "metadata": {
    "execution": {
     "iopub.execute_input": "2022-02-26T23:00:05.968225Z",
     "iopub.status.busy": "2022-02-26T23:00:05.968004Z",
     "iopub.status.idle": "2022-02-26T23:00:06.039234Z",
     "shell.execute_reply": "2022-02-26T23:00:06.038716Z"
    },
    "papermill": {
     "duration": 0.140988,
     "end_time": "2022-02-26T23:00:06.040752",
     "exception": false,
     "start_time": "2022-02-26T23:00:05.899764",
     "status": "completed"
    },
    "tags": []
   },
   "outputs": [],
   "source": [
    "# testing\n",
    "rs = np.random.RandomState(0)\n",
    "\n",
    "_test_data = pd.DataFrame(rs.normal(size=(50, 5)), columns=[f\"c{i}\" for i in range(5)])\n",
    "\n",
    "# float64\n",
    "pd.testing.assert_frame_equal(\n",
    "    covariance(_test_data, np.float64),\n",
    "    _test_data.cov(),\n",
    "    rtol=1e-10,\n",
    "    atol=1e-10,\n",
    "    check_dtype=True,\n",
    ")\n",
    "\n",
    "# float32\n",
    "pd.testing.assert_frame_equal(\n",
    "    covariance(_test_data, np.float32),\n",
    "    _test_data.cov(),\n",
    "    rtol=1e-5,\n",
    "    atol=1e-8,\n",
    "    check_dtype=False,\n",
    ")\n",
    "\n",
    "del _test_data"
   ]
  },
  {
   "cell_type": "code",
   "execution_count": 55,
   "id": "417717ae",
   "metadata": {
    "execution": {
     "iopub.execute_input": "2022-02-26T23:00:06.177827Z",
     "iopub.status.busy": "2022-02-26T23:00:06.177594Z",
     "iopub.status.idle": "2022-02-26T23:00:06.194162Z",
     "shell.execute_reply": "2022-02-26T23:00:06.193532Z"
    },
    "lines_to_next_cell": 2,
    "papermill": {
     "duration": 0.086031,
     "end_time": "2022-02-26T23:00:06.195703",
     "exception": false,
     "start_time": "2022-02-26T23:00:06.109672",
     "status": "completed"
    },
    "tags": []
   },
   "outputs": [],
   "source": [
    "def compute_snps_cov(snps_df):\n",
    "    assert snps_df[\"chr\"].unique().shape[0] == 1\n",
    "    chromosome = snps_df[\"chr\"].unique()[0]\n",
    "\n",
    "    # keep variants only present in genotype\n",
    "    snps_ids = list(set(snps_df[\"varID\"]).intersection(variants_ids_with_genotype))\n",
    "\n",
    "    chromosome_file = (\n",
    "        conf.PHENOMEXCAN[\"LD_BLOCKS\"][\"1000G_GENOTYPE_DIR\"]\n",
    "        / f\"chr{chromosome}.variants.parquet\"\n",
    "    )\n",
    "    snps_genotypes = pd.read_parquet(chromosome_file, columns=snps_ids)\n",
    "\n",
    "    return covariance(snps_genotypes, COV_DTYPE)\n",
    "\n",
    "\n",
    "#     return snps_genotypes.cov()"
   ]
  },
  {
   "cell_type": "code",
   "execution_count": 56,
   "id": "db4aed3c",
   "metadata": {
    "execution": {
     "iopub.execute_input": "2022-02-26T23:00:06.330349Z",
     "iopub.status.busy": "2022-02-26T23:00:06.330129Z",
     "iopub.status.idle": "2022-02-26T23:00:06.354562Z",
     "shell.execute_reply": "2022-02-26T23:00:06.353997Z"
    },
    "papermill": {
     "duration": 0.093557,
     "end_time": "2022-02-26T23:00:06.356070",
     "exception": false,
     "start_time": "2022-02-26T23:00:06.262513",
     "status": "completed"
    },
    "tags": []
   },
   "outputs": [],
   "source": [
    "# testing\n",
    "_tmp_snps = variants_ld_block_df[variants_ld_block_df[\"chr\"] == 22]\n",
    "assert _tmp_snps.shape[0] > 0"
   ]
  },
  {
   "cell_type": "code",
   "execution_count": 57,
   "id": "db520e6e",
   "metadata": {
    "execution": {
     "iopub.execute_input": "2022-02-26T23:00:06.492186Z",
     "iopub.status.busy": "2022-02-26T23:00:06.491724Z",
     "iopub.status.idle": "2022-02-26T23:00:06.508499Z",
     "shell.execute_reply": "2022-02-26T23:00:06.507761Z"
    },
    "papermill": {
     "duration": 0.086103,
     "end_time": "2022-02-26T23:00:06.509912",
     "exception": false,
     "start_time": "2022-02-26T23:00:06.423809",
     "status": "completed"
    },
    "tags": []
   },
   "outputs": [
    {
     "data": {
      "text/plain": [
       "(20774, 5)"
      ]
     },
     "execution_count": 57,
     "metadata": {},
     "output_type": "execute_result"
    }
   ],
   "source": [
    "_tmp_snps.shape"
   ]
  },
  {
   "cell_type": "code",
   "execution_count": 58,
   "id": "7f7bb541",
   "metadata": {
    "execution": {
     "iopub.execute_input": "2022-02-26T23:00:06.645662Z",
     "iopub.status.busy": "2022-02-26T23:00:06.645441Z",
     "iopub.status.idle": "2022-02-26T23:00:06.671553Z",
     "shell.execute_reply": "2022-02-26T23:00:06.670966Z"
    },
    "papermill": {
     "duration": 0.09598,
     "end_time": "2022-02-26T23:00:06.673072",
     "exception": false,
     "start_time": "2022-02-26T23:00:06.577092",
     "status": "completed"
    },
    "tags": []
   },
   "outputs": [
    {
     "data": {
      "text/plain": [
       "20660"
      ]
     },
     "metadata": {},
     "output_type": "display_data"
    }
   ],
   "source": [
    "n_expected = len(set(_tmp_snps[\"varID\"]).intersection(variants_ids_with_genotype))\n",
    "display(n_expected)"
   ]
  },
  {
   "cell_type": "code",
   "execution_count": 59,
   "id": "f9de93c0",
   "metadata": {
    "execution": {
     "iopub.execute_input": "2022-02-26T23:00:06.814082Z",
     "iopub.status.busy": "2022-02-26T23:00:06.813857Z",
     "iopub.status.idle": "2022-02-26T23:03:55.717390Z",
     "shell.execute_reply": "2022-02-26T23:03:55.716762Z"
    },
    "papermill": {
     "duration": 228.974042,
     "end_time": "2022-02-26T23:03:55.718909",
     "exception": false,
     "start_time": "2022-02-26T23:00:06.744867",
     "status": "completed"
    },
    "tags": []
   },
   "outputs": [],
   "source": [
    "_tmp = compute_snps_cov(_tmp_snps)"
   ]
  },
  {
   "cell_type": "code",
   "execution_count": 60,
   "id": "46ab35a8",
   "metadata": {
    "execution": {
     "iopub.execute_input": "2022-02-26T23:03:55.860167Z",
     "iopub.status.busy": "2022-02-26T23:03:55.859947Z",
     "iopub.status.idle": "2022-02-26T23:03:56.104559Z",
     "shell.execute_reply": "2022-02-26T23:03:56.103875Z"
    },
    "papermill": {
     "duration": 0.316351,
     "end_time": "2022-02-26T23:03:56.106299",
     "exception": false,
     "start_time": "2022-02-26T23:03:55.789948",
     "status": "completed"
    },
    "tags": []
   },
   "outputs": [],
   "source": [
    "assert _tmp.shape == (n_expected, n_expected)\n",
    "assert not _tmp.isna().any().any()"
   ]
  },
  {
   "cell_type": "code",
   "execution_count": 61,
   "id": "9320eeb4",
   "metadata": {
    "execution": {
     "iopub.execute_input": "2022-02-26T23:03:56.247530Z",
     "iopub.status.busy": "2022-02-26T23:03:56.247310Z",
     "iopub.status.idle": "2022-02-26T23:03:56.265587Z",
     "shell.execute_reply": "2022-02-26T23:03:56.265022Z"
    },
    "papermill": {
     "duration": 0.088941,
     "end_time": "2022-02-26T23:03:56.267068",
     "exception": false,
     "start_time": "2022-02-26T23:03:56.178127",
     "status": "completed"
    },
    "tags": []
   },
   "outputs": [],
   "source": [
    "del _tmp_snps, _tmp"
   ]
  },
  {
   "cell_type": "markdown",
   "id": "1264f97f",
   "metadata": {
    "papermill": {
     "duration": 0.067997,
     "end_time": "2022-02-26T23:03:56.405914",
     "exception": false,
     "start_time": "2022-02-26T23:03:56.337917",
     "status": "completed"
    },
    "tags": []
   },
   "source": [
    "## Compute covariance and save"
   ]
  },
  {
   "cell_type": "code",
   "execution_count": 62,
   "id": "b938ae8a",
   "metadata": {
    "execution": {
     "iopub.execute_input": "2022-02-26T23:03:56.543637Z",
     "iopub.status.busy": "2022-02-26T23:03:56.543412Z",
     "iopub.status.idle": "2022-02-26T23:03:56.560125Z",
     "shell.execute_reply": "2022-02-26T23:03:56.559607Z"
    },
    "papermill": {
     "duration": 0.087385,
     "end_time": "2022-02-26T23:03:56.561562",
     "exception": false,
     "start_time": "2022-02-26T23:03:56.474177",
     "status": "completed"
    },
    "tags": []
   },
   "outputs": [
    {
     "data": {
      "text/plain": [
       "PosixPath('/opt/data/data/phenomexcan/ld_blocks/en_snps_chr_blocks_cov.h5')"
      ]
     },
     "metadata": {},
     "output_type": "display_data"
    }
   ],
   "source": [
    "output_file = conf.PHENOMEXCAN[\"LD_BLOCKS\"][EQTL_MODEL][\"SNPS_COVARIANCE_FILE\"]\n",
    "display(output_file)"
   ]
  },
  {
   "cell_type": "code",
   "execution_count": 63,
   "id": "8953db89",
   "metadata": {
    "execution": {
     "iopub.execute_input": "2022-02-26T23:03:56.703231Z",
     "iopub.status.busy": "2022-02-26T23:03:56.703009Z",
     "iopub.status.idle": "2022-02-27T21:53:23.738138Z",
     "shell.execute_reply": "2022-02-27T21:53:23.696175Z"
    },
    "papermill": {
     "duration": 82167.232954,
     "end_time": "2022-02-27T21:53:23.866540",
     "exception": false,
     "start_time": "2022-02-26T23:03:56.633586",
     "status": "completed"
    },
    "tags": []
   },
   "outputs": [
    {
     "name": "stderr",
     "output_type": "stream",
     "text": [
      "22 (20774, 5): 100%|███████████████████████████████████████████| 22/22 [22:49:26<00:00, 3734.85s/it]\n"
     ]
    }
   ],
   "source": [
    "with pd.HDFStore(output_file, mode=\"w\", complevel=4) as store:\n",
    "    pbar = tqdm(\n",
    "        variants_ld_block_df.groupby(\"chr\"),\n",
    "        ncols=100,\n",
    "        total=variants_ld_block_df[\"chr\"].unique().shape[0],\n",
    "    )\n",
    "\n",
    "    store[\"metadata\"] = variants_ld_block_df\n",
    "\n",
    "    for grp_name, grp_data in pbar:\n",
    "        pbar.set_description(f\"{grp_name} {grp_data.shape}\")\n",
    "        snps_cov = compute_snps_cov(grp_data)  # .astype(COV_DTYPE)\n",
    "        assert not snps_cov.isna().any().any()\n",
    "        store[f\"chr{grp_name}\"] = snps_cov\n",
    "\n",
    "        del snps_cov\n",
    "        store.flush()\n",
    "\n",
    "        gc.collect()"
   ]
  },
  {
   "cell_type": "markdown",
   "id": "1de34e70",
   "metadata": {
    "papermill": {
     "duration": 0.101284,
     "end_time": "2022-02-27T21:53:24.083881",
     "exception": false,
     "start_time": "2022-02-27T21:53:23.982597",
     "status": "completed"
    },
    "tags": []
   },
   "source": [
    "# Testing"
   ]
  },
  {
   "cell_type": "code",
   "execution_count": 64,
   "id": "54fc512c",
   "metadata": {
    "execution": {
     "iopub.execute_input": "2022-02-27T21:53:24.294314Z",
     "iopub.status.busy": "2022-02-27T21:53:24.293489Z",
     "iopub.status.idle": "2022-02-27T21:53:26.022151Z",
     "shell.execute_reply": "2022-02-27T21:53:26.020036Z"
    },
    "papermill": {
     "duration": 1.862568,
     "end_time": "2022-02-27T21:53:26.027761",
     "exception": false,
     "start_time": "2022-02-27T21:53:24.165193",
     "status": "completed"
    },
    "tags": []
   },
   "outputs": [],
   "source": [
    "_tmp = variants_ld_block_df[variants_ld_block_df[\"chr\"] == 1]"
   ]
  },
  {
   "cell_type": "code",
   "execution_count": 65,
   "id": "a3bd8ede",
   "metadata": {
    "execution": {
     "iopub.execute_input": "2022-02-27T21:53:26.222326Z",
     "iopub.status.busy": "2022-02-27T21:53:26.222103Z",
     "iopub.status.idle": "2022-02-27T21:53:26.296167Z",
     "shell.execute_reply": "2022-02-27T21:53:26.294687Z"
    },
    "papermill": {
     "duration": 0.16007,
     "end_time": "2022-02-27T21:53:26.300051",
     "exception": false,
     "start_time": "2022-02-27T21:53:26.139981",
     "status": "completed"
    },
    "tags": []
   },
   "outputs": [
    {
     "data": {
      "text/plain": [
       "(91597, 5)"
      ]
     },
     "execution_count": 65,
     "metadata": {},
     "output_type": "execute_result"
    }
   ],
   "source": [
    "_tmp.shape"
   ]
  },
  {
   "cell_type": "code",
   "execution_count": 66,
   "id": "6149cee4",
   "metadata": {
    "execution": {
     "iopub.execute_input": "2022-02-27T21:53:26.466311Z",
     "iopub.status.busy": "2022-02-27T21:53:26.466078Z",
     "iopub.status.idle": "2022-02-27T21:53:26.492186Z",
     "shell.execute_reply": "2022-02-27T21:53:26.491600Z"
    },
    "papermill": {
     "duration": 0.109731,
     "end_time": "2022-02-27T21:53:26.493738",
     "exception": false,
     "start_time": "2022-02-27T21:53:26.384007",
     "status": "completed"
    },
    "tags": []
   },
   "outputs": [],
   "source": [
    "assert _tmp.shape[0] > 0"
   ]
  },
  {
   "cell_type": "code",
   "execution_count": 67,
   "id": "8aceb74a",
   "metadata": {
    "execution": {
     "iopub.execute_input": "2022-02-27T21:53:26.659042Z",
     "iopub.status.busy": "2022-02-27T21:53:26.658821Z",
     "iopub.status.idle": "2022-02-27T21:53:26.804474Z",
     "shell.execute_reply": "2022-02-27T21:53:26.803808Z"
    },
    "papermill": {
     "duration": 0.228995,
     "end_time": "2022-02-27T21:53:26.806121",
     "exception": false,
     "start_time": "2022-02-27T21:53:26.577126",
     "status": "completed"
    },
    "tags": []
   },
   "outputs": [
    {
     "data": {
      "text/plain": [
       "91199"
      ]
     },
     "metadata": {},
     "output_type": "display_data"
    }
   ],
   "source": [
    "n_expected = len(set(_tmp[\"varID\"]).intersection(variants_ids_with_genotype))\n",
    "display(n_expected)\n",
    "assert n_expected > 0"
   ]
  },
  {
   "cell_type": "code",
   "execution_count": 68,
   "id": "ffdb4c4b",
   "metadata": {
    "execution": {
     "iopub.execute_input": "2022-02-27T21:53:26.984900Z",
     "iopub.status.busy": "2022-02-27T21:53:26.984426Z",
     "iopub.status.idle": "2022-02-27T22:12:30.288104Z",
     "shell.execute_reply": "2022-02-27T22:12:29.897067Z"
    },
    "papermill": {
     "duration": 1144.941968,
     "end_time": "2022-02-27T22:12:31.843301",
     "exception": false,
     "start_time": "2022-02-27T21:53:26.901333",
     "status": "completed"
    },
    "tags": []
   },
   "outputs": [],
   "source": [
    "with pd.HDFStore(output_file, mode=\"r\") as store:\n",
    "    df = store[\"chr1\"]\n",
    "    assert df.shape == (n_expected, n_expected)\n",
    "    assert not df.isna().any().any()"
   ]
  },
  {
   "cell_type": "code",
   "execution_count": null,
   "id": "49dccd49",
   "metadata": {
    "papermill": {
     "duration": 0.185921,
     "end_time": "2022-02-27T22:12:34.609660",
     "exception": false,
     "start_time": "2022-02-27T22:12:34.423739",
     "status": "completed"
    },
    "tags": []
   },
   "outputs": [],
   "source": []
  }
 ],
 "metadata": {
  "jupytext": {
   "cell_metadata_filter": "all,-execution,-papermill,-trusted",
   "formats": "ipynb,py//py:percent"
  },
  "kernelspec": {
   "display_name": "Python 3 (ipykernel)",
   "language": "python",
   "name": "python3"
  },
  "language_info": {
   "codemirror_mode": {
    "name": "ipython",
    "version": 3
   },
   "file_extension": ".py",
   "mimetype": "text/x-python",
   "name": "python",
   "nbconvert_exporter": "python",
   "pygments_lexer": "ipython3",
   "version": "3.8.12"
  },
  "papermill": {
   "default_parameters": {},
   "duration": 83656.573022,
   "end_time": "2022-02-27T22:13:01.595400",
   "environment_variables": {},
   "exception": null,
   "input_path": "nbs/15_gsa_gls/05-snps_into_chr_cov.ipynb",
   "output_path": "nbs/15_gsa_gls/en_gene_corrs/05-snps_into_chr_cov.ipynb",
   "parameters": {
    "EQTL_MODEL": "ELASTIC_NET"
   },
   "start_time": "2022-02-26T22:58:45.022378",
   "version": "2.2.2"
  }
 },
 "nbformat": 4,
 "nbformat_minor": 5
}
