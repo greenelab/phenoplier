{
 "cells": [
  {
   "cell_type": "markdown",
   "id": "28fc82fa-c3f6-4184-8054-cc91c7c6e2e7",
   "metadata": {
    "papermill": {
     "duration": 0.004338,
     "end_time": "2022-07-12T13:07:40.863796",
     "exception": false,
     "start_time": "2022-07-12T13:07:40.859458",
     "status": "completed"
    },
    "tags": []
   },
   "source": [
    "# Description"
   ]
  },
  {
   "cell_type": "markdown",
   "id": "36839b17-916e-4aec-8fee-96faf1097e78",
   "metadata": {
    "papermill": {
     "duration": 0.003358,
     "end_time": "2022-07-12T13:07:40.870659",
     "exception": false,
     "start_time": "2022-07-12T13:07:40.867301",
     "status": "completed"
    },
    "tags": []
   },
   "source": [
    "**TODO**"
   ]
  },
  {
   "cell_type": "markdown",
   "id": "249e8aa3-ef1a-4bba-a6dd-58120ad80794",
   "metadata": {
    "papermill": {
     "duration": 0.003286,
     "end_time": "2022-07-12T13:07:40.877507",
     "exception": false,
     "start_time": "2022-07-12T13:07:40.874221",
     "status": "completed"
    },
    "tags": []
   },
   "source": [
    "# Modules"
   ]
  },
  {
   "cell_type": "code",
   "execution_count": 1,
   "id": "f9b5022b-7c5e-4d37-9c7a-fdb91777c7f9",
   "metadata": {
    "execution": {
     "iopub.execute_input": "2022-07-12T13:07:40.909721Z",
     "iopub.status.busy": "2022-07-12T13:07:40.908008Z",
     "iopub.status.idle": "2022-07-12T13:07:44.233056Z",
     "shell.execute_reply": "2022-07-12T13:07:44.231734Z"
    },
    "papermill": {
     "duration": 3.354116,
     "end_time": "2022-07-12T13:07:44.235010",
     "exception": false,
     "start_time": "2022-07-12T13:07:40.880894",
     "status": "completed"
    },
    "tags": []
   },
   "outputs": [],
   "source": [
    "library(reticulate)\n",
    "pd <- import(\"pandas\")"
   ]
  },
  {
   "cell_type": "markdown",
   "id": "69e80173-3a39-4b6a-b723-602687cb255b",
   "metadata": {
    "papermill": {
     "duration": 0.003866,
     "end_time": "2022-07-12T13:07:44.242974",
     "exception": false,
     "start_time": "2022-07-12T13:07:44.239108",
     "status": "completed"
    },
    "tags": []
   },
   "source": [
    "# Settings"
   ]
  },
  {
   "cell_type": "code",
   "execution_count": 2,
   "id": "22d12bb4-1699-4a6b-b1b9-d3fdd3d547d7",
   "metadata": {
    "execution": {
     "iopub.execute_input": "2022-07-12T13:07:44.274995Z",
     "iopub.status.busy": "2022-07-12T13:07:44.251409Z",
     "iopub.status.idle": "2022-07-12T13:07:44.288141Z",
     "shell.execute_reply": "2022-07-12T13:07:44.286028Z"
    },
    "papermill": {
     "duration": 0.043232,
     "end_time": "2022-07-12T13:07:44.289978",
     "exception": false,
     "start_time": "2022-07-12T13:07:44.246746",
     "status": "completed"
    },
    "tags": [
     "parameters"
    ]
   },
   "outputs": [],
   "source": [
    "# reference panel\n",
    "REFERENCE_PANEL <- \"GTEX_V8\"\n",
    "# REFERENCE_PANEL = \"1000G\"\n",
    "\n",
    "# prediction models\n",
    "## mashr\n",
    "EQTL_MODEL <- \"MASHR\"\n",
    "\n",
    "chromosome <- NULL"
   ]
  },
  {
   "cell_type": "code",
   "execution_count": 3,
   "id": "07cc7cf1",
   "metadata": {
    "execution": {
     "iopub.execute_input": "2022-07-12T13:07:44.299952Z",
     "iopub.status.busy": "2022-07-12T13:07:44.298792Z",
     "iopub.status.idle": "2022-07-12T13:07:44.318809Z",
     "shell.execute_reply": "2022-07-12T13:07:44.316775Z"
    },
    "papermill": {
     "duration": 0.026885,
     "end_time": "2022-07-12T13:07:44.320585",
     "exception": false,
     "start_time": "2022-07-12T13:07:44.293700",
     "status": "completed"
    },
    "tags": [
     "injected-parameters"
    ]
   },
   "outputs": [],
   "source": [
    "# Parameters\n",
    "chromosome = 19\n",
    "REFERENCE_PANEL = \"1000G\"\n",
    "EQTL_MODEL = \"MASHR\"\n"
   ]
  },
  {
   "cell_type": "code",
   "execution_count": 4,
   "id": "8fe24bef",
   "metadata": {
    "execution": {
     "iopub.execute_input": "2022-07-12T13:07:44.329668Z",
     "iopub.status.busy": "2022-07-12T13:07:44.328629Z",
     "iopub.status.idle": "2022-07-12T13:07:44.345593Z",
     "shell.execute_reply": "2022-07-12T13:07:44.343600Z"
    },
    "papermill": {
     "duration": 0.023077,
     "end_time": "2022-07-12T13:07:44.347284",
     "exception": false,
     "start_time": "2022-07-12T13:07:44.324207",
     "status": "completed"
    },
    "tags": []
   },
   "outputs": [
    {
     "data": {
      "text/html": [
       "'Using reference panel: 1000G'"
      ],
      "text/latex": [
       "'Using reference panel: 1000G'"
      ],
      "text/markdown": [
       "'Using reference panel: 1000G'"
      ],
      "text/plain": [
       "[1] \"Using reference panel: 1000G\""
      ]
     },
     "metadata": {},
     "output_type": "display_data"
    }
   ],
   "source": [
    "paste0(\"Using reference panel: \", REFERENCE_PANEL)"
   ]
  },
  {
   "cell_type": "code",
   "execution_count": 5,
   "id": "d62c28f8-186c-478b-948c-58e14f00df4b",
   "metadata": {
    "execution": {
     "iopub.execute_input": "2022-07-12T13:07:44.356674Z",
     "iopub.status.busy": "2022-07-12T13:07:44.355615Z",
     "iopub.status.idle": "2022-07-12T13:07:44.370150Z",
     "shell.execute_reply": "2022-07-12T13:07:44.368136Z"
    },
    "papermill": {
     "duration": 0.020787,
     "end_time": "2022-07-12T13:07:44.371941",
     "exception": false,
     "start_time": "2022-07-12T13:07:44.351154",
     "status": "completed"
    },
    "tags": []
   },
   "outputs": [
    {
     "data": {
      "text/html": [
       "'Using eQTL model: MASHR'"
      ],
      "text/latex": [
       "'Using eQTL model: MASHR'"
      ],
      "text/markdown": [
       "'Using eQTL model: MASHR'"
      ],
      "text/plain": [
       "[1] \"Using eQTL model: MASHR\""
      ]
     },
     "metadata": {},
     "output_type": "display_data"
    }
   ],
   "source": [
    "paste0(\"Using eQTL model: \", EQTL_MODEL)"
   ]
  },
  {
   "cell_type": "code",
   "execution_count": 6,
   "id": "5243676f-c889-4405-9a4d-262f0f044614",
   "metadata": {
    "execution": {
     "iopub.execute_input": "2022-07-12T13:07:44.381512Z",
     "iopub.status.busy": "2022-07-12T13:07:44.380435Z",
     "iopub.status.idle": "2022-07-12T13:07:44.390346Z",
     "shell.execute_reply": "2022-07-12T13:07:44.389097Z"
    },
    "papermill": {
     "duration": 0.01653,
     "end_time": "2022-07-12T13:07:44.392302",
     "exception": false,
     "start_time": "2022-07-12T13:07:44.375772",
     "status": "completed"
    },
    "tags": []
   },
   "outputs": [],
   "source": [
    "# chromosome must be provided as parameter\n",
    "stopifnot(!is.null(chromosome))"
   ]
  },
  {
   "cell_type": "markdown",
   "id": "c05e4d34-e115-48cd-8a2e-225109eb0042",
   "metadata": {
    "papermill": {
     "duration": 0.004453,
     "end_time": "2022-07-12T13:07:44.400701",
     "exception": false,
     "start_time": "2022-07-12T13:07:44.396248",
     "status": "completed"
    },
    "tags": []
   },
   "source": [
    "# Paths"
   ]
  },
  {
   "cell_type": "code",
   "execution_count": 7,
   "id": "eb6aa8aa-b452-4a2f-a780-93dd80ad4285",
   "metadata": {
    "execution": {
     "iopub.execute_input": "2022-07-12T13:07:44.413397Z",
     "iopub.status.busy": "2022-07-12T13:07:44.410606Z",
     "iopub.status.idle": "2022-07-12T13:07:44.433274Z",
     "shell.execute_reply": "2022-07-12T13:07:44.430635Z"
    },
    "papermill": {
     "duration": 0.03031,
     "end_time": "2022-07-12T13:07:44.435426",
     "exception": false,
     "start_time": "2022-07-12T13:07:44.405116",
     "status": "completed"
    },
    "tags": []
   },
   "outputs": [
    {
     "data": {
      "text/html": [
       "'/opt/data/data/phenomexcan/ld_blocks/gene_corrs'"
      ],
      "text/latex": [
       "'/opt/data/data/phenomexcan/ld\\_blocks/gene\\_corrs'"
      ],
      "text/markdown": [
       "'/opt/data/data/phenomexcan/ld_blocks/gene_corrs'"
      ],
      "text/plain": [
       "[1] \"/opt/data/data/phenomexcan/ld_blocks/gene_corrs\""
      ]
     },
     "metadata": {},
     "output_type": "display_data"
    }
   ],
   "source": [
    "GENE_CORRS_DIR <- Sys.getenv(\"PHENOPLIER_PHENOMEXCAN_LD_BLOCKS_GENE_CORRS_DIR\")\n",
    "IRdisplay::display(GENE_CORRS_DIR)"
   ]
  },
  {
   "cell_type": "code",
   "execution_count": 8,
   "id": "eb24f15f-f282-4476-8943-8413c4483f12",
   "metadata": {
    "execution": {
     "iopub.execute_input": "2022-07-12T13:07:44.448745Z",
     "iopub.status.busy": "2022-07-12T13:07:44.447345Z",
     "iopub.status.idle": "2022-07-12T13:07:44.468048Z",
     "shell.execute_reply": "2022-07-12T13:07:44.465383Z"
    },
    "papermill": {
     "duration": 0.028715,
     "end_time": "2022-07-12T13:07:44.470267",
     "exception": false,
     "start_time": "2022-07-12T13:07:44.441552",
     "status": "completed"
    },
    "tags": []
   },
   "outputs": [
    {
     "data": {
      "text/html": [
       "'/opt/data/data/phenomexcan/ld_blocks/gene_corrs/1000g/mashr/by_chr'"
      ],
      "text/latex": [
       "'/opt/data/data/phenomexcan/ld\\_blocks/gene\\_corrs/1000g/mashr/by\\_chr'"
      ],
      "text/markdown": [
       "'/opt/data/data/phenomexcan/ld_blocks/gene_corrs/1000g/mashr/by_chr'"
      ],
      "text/plain": [
       "[1] \"/opt/data/data/phenomexcan/ld_blocks/gene_corrs/1000g/mashr/by_chr\""
      ]
     },
     "metadata": {},
     "output_type": "display_data"
    }
   ],
   "source": [
    "INPUT_DIR <- file.path(GENE_CORRS_DIR, tolower(REFERENCE_PANEL), tolower(EQTL_MODEL), \"by_chr\")\n",
    "IRdisplay::display(INPUT_DIR)"
   ]
  },
  {
   "cell_type": "code",
   "execution_count": 9,
   "id": "43c1daba-0da9-4822-8d1e-968e9767e251",
   "metadata": {
    "execution": {
     "iopub.execute_input": "2022-07-12T13:07:44.482460Z",
     "iopub.status.busy": "2022-07-12T13:07:44.481328Z",
     "iopub.status.idle": "2022-07-12T13:07:44.504036Z",
     "shell.execute_reply": "2022-07-12T13:07:44.500996Z"
    },
    "papermill": {
     "duration": 0.031392,
     "end_time": "2022-07-12T13:07:44.506947",
     "exception": false,
     "start_time": "2022-07-12T13:07:44.475555",
     "status": "completed"
    },
    "tags": []
   },
   "outputs": [
    {
     "data": {
      "text/html": [
       "'/opt/data/data/phenomexcan/ld_blocks/gene_corrs/1000g/mashr/by_chr/gene_corrs-chr19.pkl'"
      ],
      "text/latex": [
       "'/opt/data/data/phenomexcan/ld\\_blocks/gene\\_corrs/1000g/mashr/by\\_chr/gene\\_corrs-chr19.pkl'"
      ],
      "text/markdown": [
       "'/opt/data/data/phenomexcan/ld_blocks/gene_corrs/1000g/mashr/by_chr/gene_corrs-chr19.pkl'"
      ],
      "text/plain": [
       "[1] \"/opt/data/data/phenomexcan/ld_blocks/gene_corrs/1000g/mashr/by_chr/gene_corrs-chr19.pkl\""
      ]
     },
     "metadata": {},
     "output_type": "display_data"
    }
   ],
   "source": [
    "INPUT_FILE <- file.path(INPUT_DIR, paste0(\"gene_corrs-chr\", chromosome, \".pkl\"))\n",
    "IRdisplay::display(INPUT_FILE)\n",
    "stopifnot(file.exists(INPUT_FILE))"
   ]
  },
  {
   "cell_type": "code",
   "execution_count": 10,
   "id": "72386fbf-982b-420a-9057-ea9a97a5e571",
   "metadata": {
    "execution": {
     "iopub.execute_input": "2022-07-12T13:07:44.522336Z",
     "iopub.status.busy": "2022-07-12T13:07:44.520655Z",
     "iopub.status.idle": "2022-07-12T13:07:44.544389Z",
     "shell.execute_reply": "2022-07-12T13:07:44.542845Z"
    },
    "papermill": {
     "duration": 0.032172,
     "end_time": "2022-07-12T13:07:44.546230",
     "exception": false,
     "start_time": "2022-07-12T13:07:44.514058",
     "status": "completed"
    },
    "tags": []
   },
   "outputs": [
    {
     "data": {
      "text/html": [
       "'/opt/data/data/phenomexcan/ld_blocks/gene_corrs/1000g/mashr/by_chr/corrected_positive_definite'"
      ],
      "text/latex": [
       "'/opt/data/data/phenomexcan/ld\\_blocks/gene\\_corrs/1000g/mashr/by\\_chr/corrected\\_positive\\_definite'"
      ],
      "text/markdown": [
       "'/opt/data/data/phenomexcan/ld_blocks/gene_corrs/1000g/mashr/by_chr/corrected_positive_definite'"
      ],
      "text/plain": [
       "[1] \"/opt/data/data/phenomexcan/ld_blocks/gene_corrs/1000g/mashr/by_chr/corrected_positive_definite\""
      ]
     },
     "metadata": {},
     "output_type": "display_data"
    }
   ],
   "source": [
    "OUTPUT_DIR <- file.path(INPUT_DIR, \"corrected_positive_definite\")\n",
    "IRdisplay::display(OUTPUT_DIR)\n",
    "dir.create(OUTPUT_DIR, recursive = TRUE, showWarnings = FALSE)"
   ]
  },
  {
   "cell_type": "code",
   "execution_count": 11,
   "id": "f9f19d1d-ce4c-4099-a26e-250fec751de7",
   "metadata": {
    "execution": {
     "iopub.execute_input": "2022-07-12T13:07:44.566885Z",
     "iopub.status.busy": "2022-07-12T13:07:44.565596Z",
     "iopub.status.idle": "2022-07-12T13:07:44.585045Z",
     "shell.execute_reply": "2022-07-12T13:07:44.583359Z"
    },
    "papermill": {
     "duration": 0.032163,
     "end_time": "2022-07-12T13:07:44.587183",
     "exception": false,
     "start_time": "2022-07-12T13:07:44.555020",
     "status": "completed"
    },
    "tags": []
   },
   "outputs": [
    {
     "data": {
      "text/html": [
       "'/opt/data/data/phenomexcan/ld_blocks/gene_corrs/1000g/mashr/by_chr/corrected_positive_definite/gene_corrs-chr19.pkl'"
      ],
      "text/latex": [
       "'/opt/data/data/phenomexcan/ld\\_blocks/gene\\_corrs/1000g/mashr/by\\_chr/corrected\\_positive\\_definite/gene\\_corrs-chr19.pkl'"
      ],
      "text/markdown": [
       "'/opt/data/data/phenomexcan/ld_blocks/gene_corrs/1000g/mashr/by_chr/corrected_positive_definite/gene_corrs-chr19.pkl'"
      ],
      "text/plain": [
       "[1] \"/opt/data/data/phenomexcan/ld_blocks/gene_corrs/1000g/mashr/by_chr/corrected_positive_definite/gene_corrs-chr19.pkl\""
      ]
     },
     "metadata": {},
     "output_type": "display_data"
    }
   ],
   "source": [
    "OUTPUT_FILE <- file.path(OUTPUT_DIR, paste0(\"gene_corrs-chr\", chromosome, \".pkl\"))\n",
    "IRdisplay::display(OUTPUT_FILE)\n",
    "if (file.exists(OUTPUT_FILE)) {\n",
    "  IRdisplay::display(\"Output file exists, it will be overwritten\")\n",
    "}"
   ]
  },
  {
   "cell_type": "markdown",
   "id": "24973e62-e888-4b56-843f-489d8d0762b5",
   "metadata": {
    "papermill": {
     "duration": 0.004934,
     "end_time": "2022-07-12T13:07:44.598525",
     "exception": false,
     "start_time": "2022-07-12T13:07:44.593591",
     "status": "completed"
    },
    "tags": []
   },
   "source": [
    "# Functions"
   ]
  },
  {
   "cell_type": "code",
   "execution_count": 12,
   "id": "f828f081-7358-4cc8-8a89-1ee293bcc1a7",
   "metadata": {
    "execution": {
     "iopub.execute_input": "2022-07-12T13:07:44.621793Z",
     "iopub.status.busy": "2022-07-12T13:07:44.614380Z",
     "iopub.status.idle": "2022-07-12T13:07:44.632935Z",
     "shell.execute_reply": "2022-07-12T13:07:44.631564Z"
    },
    "papermill": {
     "duration": 0.029527,
     "end_time": "2022-07-12T13:07:44.634941",
     "exception": false,
     "start_time": "2022-07-12T13:07:44.605414",
     "status": "completed"
    },
    "tags": []
   },
   "outputs": [],
   "source": [
    "# taken from https://www.r-bloggers.com/2013/08/correcting-a-pseudo-correlation-matrix-to-be-positive-semidefinite/\n",
    "# TODO: add documentation\n",
    "CorrectCM <- function(CM, p = 0) {\n",
    "  n <- dim(var(CM))[1L]\n",
    "  E <- eigen(CM)\n",
    "  CM1 <- E$vectors %*% tcrossprod(diag(pmax(E$values, p), n), E$vectors)\n",
    "  Balance <- diag(1 / sqrt(diag(CM1)))\n",
    "  CM2 <- Balance %*% CM1 %*% Balance\n",
    "  return(CM2)\n",
    "}"
   ]
  },
  {
   "cell_type": "code",
   "execution_count": 13,
   "id": "7ab9bebf-50a1-4e6f-b16a-e23cae93d02a",
   "metadata": {
    "execution": {
     "iopub.execute_input": "2022-07-12T13:07:44.648684Z",
     "iopub.status.busy": "2022-07-12T13:07:44.647474Z",
     "iopub.status.idle": "2022-07-12T13:07:44.658049Z",
     "shell.execute_reply": "2022-07-12T13:07:44.656723Z"
    },
    "papermill": {
     "duration": 0.019302,
     "end_time": "2022-07-12T13:07:44.659999",
     "exception": false,
     "start_time": "2022-07-12T13:07:44.640697",
     "status": "completed"
    },
    "tags": []
   },
   "outputs": [],
   "source": [
    "is_positive_definite <- function(data) {\n",
    "  # eigenvalues <- eigen(data)$values\n",
    "  # nonpositive_eigenvalues <- eigenvalues[eigenvalues <= 0]\n",
    "\n",
    "  cholStatus <- try(u <- chol(data), silent = FALSE)\n",
    "  cholError <- ifelse(class(cholStatus) == \"try-error\", TRUE, FALSE)\n",
    "\n",
    "  if (cholError) {\n",
    "    return(FALSE)\n",
    "  } else {\n",
    "    return(TRUE)\n",
    "  }\n",
    "}"
   ]
  },
  {
   "cell_type": "markdown",
   "id": "7403fd78-00b2-4941-9c07-3c3af1ddc636",
   "metadata": {
    "papermill": {
     "duration": 0.004536,
     "end_time": "2022-07-12T13:07:44.669839",
     "exception": false,
     "start_time": "2022-07-12T13:07:44.665303",
     "status": "completed"
    },
    "tags": []
   },
   "source": [
    "# Load data"
   ]
  },
  {
   "cell_type": "code",
   "execution_count": 14,
   "id": "3a7744e1-2e5a-450e-9dcf-945ec181347d",
   "metadata": {
    "execution": {
     "iopub.execute_input": "2022-07-12T13:07:44.681543Z",
     "iopub.status.busy": "2022-07-12T13:07:44.679887Z",
     "iopub.status.idle": "2022-07-12T13:07:44.776808Z",
     "shell.execute_reply": "2022-07-12T13:07:44.775608Z"
    },
    "papermill": {
     "duration": 0.10414,
     "end_time": "2022-07-12T13:07:44.778509",
     "exception": false,
     "start_time": "2022-07-12T13:07:44.674369",
     "status": "completed"
    },
    "tags": []
   },
   "outputs": [],
   "source": [
    "gene_corrs <- pd$read_pickle(INPUT_FILE)"
   ]
  },
  {
   "cell_type": "code",
   "execution_count": 15,
   "id": "6fb150b2-4c68-4e9b-9aa5-1890d3f762e3",
   "metadata": {
    "execution": {
     "iopub.execute_input": "2022-07-12T13:07:44.790423Z",
     "iopub.status.busy": "2022-07-12T13:07:44.788452Z",
     "iopub.status.idle": "2022-07-12T13:07:44.802358Z",
     "shell.execute_reply": "2022-07-12T13:07:44.801033Z"
    },
    "papermill": {
     "duration": 0.020973,
     "end_time": "2022-07-12T13:07:44.804156",
     "exception": false,
     "start_time": "2022-07-12T13:07:44.783183",
     "status": "completed"
    },
    "tags": []
   },
   "outputs": [
    {
     "data": {
      "text/html": [
       "<style>\n",
       ".list-inline {list-style: none; margin:0; padding: 0}\n",
       ".list-inline>li {display: inline-block}\n",
       ".list-inline>li:not(:last-child)::after {content: \"\\00b7\"; padding: 0 .5ex}\n",
       "</style>\n",
       "<ol class=list-inline><li>540</li><li>540</li></ol>\n"
      ],
      "text/latex": [
       "\\begin{enumerate*}\n",
       "\\item 540\n",
       "\\item 540\n",
       "\\end{enumerate*}\n"
      ],
      "text/markdown": [
       "1. 540\n",
       "2. 540\n",
       "\n",
       "\n"
      ],
      "text/plain": [
       "[1] 540 540"
      ]
     },
     "metadata": {},
     "output_type": "display_data"
    }
   ],
   "source": [
    "dim(gene_corrs)"
   ]
  },
  {
   "cell_type": "code",
   "execution_count": 16,
   "id": "0d4e53b5-7586-4a68-8ce5-d930d74ba943",
   "metadata": {
    "execution": {
     "iopub.execute_input": "2022-07-12T13:07:44.815875Z",
     "iopub.status.busy": "2022-07-12T13:07:44.814667Z",
     "iopub.status.idle": "2022-07-12T13:07:44.836791Z",
     "shell.execute_reply": "2022-07-12T13:07:44.835515Z"
    },
    "papermill": {
     "duration": 0.029855,
     "end_time": "2022-07-12T13:07:44.838742",
     "exception": false,
     "start_time": "2022-07-12T13:07:44.808887",
     "status": "completed"
    },
    "tags": []
   },
   "outputs": [
    {
     "data": {
      "text/html": [
       "<table class=\"dataframe\">\n",
       "<caption>A data.frame: 6 × 10</caption>\n",
       "<thead>\n",
       "\t<tr><th></th><th scope=col>ENSG00000129946</th><th scope=col>ENSG00000099866</th><th scope=col>ENSG00000099804</th><th scope=col>ENSG00000197540</th><th scope=col>ENSG00000172270</th><th scope=col>ENSG00000099822</th><th scope=col>ENSG00000099821</th><th scope=col>ENSG00000011304</th><th scope=col>ENSG00000172232</th><th scope=col>ENSG00000196415</th></tr>\n",
       "\t<tr><th></th><th scope=col>&lt;dbl&gt;</th><th scope=col>&lt;dbl&gt;</th><th scope=col>&lt;dbl&gt;</th><th scope=col>&lt;dbl&gt;</th><th scope=col>&lt;dbl&gt;</th><th scope=col>&lt;dbl&gt;</th><th scope=col>&lt;dbl&gt;</th><th scope=col>&lt;dbl&gt;</th><th scope=col>&lt;dbl&gt;</th><th scope=col>&lt;dbl&gt;</th></tr>\n",
       "</thead>\n",
       "<tbody>\n",
       "\t<tr><th scope=row>ENSG00000129946</th><td>1.00000000</td><td>0.24758303</td><td>0.10293333</td><td>0.02615774</td><td>0.02449524</td><td>0.02283882</td><td>0.015234731</td><td>0.016965634</td><td>0.01001226</td><td>0.01114491</td></tr>\n",
       "\t<tr><th scope=row>ENSG00000099866</th><td>0.24758303</td><td>1.00000000</td><td>0.02139386</td><td>0.01422006</td><td>0.01775026</td><td>0.01617738</td><td>0.008638915</td><td>0.007614611</td><td>0.01024569</td><td>0.01295409</td></tr>\n",
       "\t<tr><th scope=row>ENSG00000099804</th><td>0.10293333</td><td>0.02139386</td><td>1.00000000</td><td>0.26936767</td><td>0.13144870</td><td>0.06836161</td><td>0.023100407</td><td>0.015096934</td><td>0.01514286</td><td>0.01862968</td></tr>\n",
       "\t<tr><th scope=row>ENSG00000197540</th><td>0.02615774</td><td>0.01422006</td><td>0.26936767</td><td>1.00000000</td><td>0.13611036</td><td>0.09974282</td><td>0.032082484</td><td>0.018248978</td><td>0.01709169</td><td>0.01684760</td></tr>\n",
       "\t<tr><th scope=row>ENSG00000172270</th><td>0.02449524</td><td>0.01775026</td><td>0.13144870</td><td>0.13611036</td><td>1.00000000</td><td>0.30689890</td><td>0.026971921</td><td>0.038783471</td><td>0.06543742</td><td>0.05269646</td></tr>\n",
       "\t<tr><th scope=row>ENSG00000099822</th><td>0.02283882</td><td>0.01617738</td><td>0.06836161</td><td>0.09974282</td><td>0.30689890</td><td>1.00000000</td><td>0.251714137</td><td>0.039372490</td><td>0.05218674</td><td>0.02598139</td></tr>\n",
       "</tbody>\n",
       "</table>\n"
      ],
      "text/latex": [
       "A data.frame: 6 × 10\n",
       "\\begin{tabular}{r|llllllllll}\n",
       "  & ENSG00000129946 & ENSG00000099866 & ENSG00000099804 & ENSG00000197540 & ENSG00000172270 & ENSG00000099822 & ENSG00000099821 & ENSG00000011304 & ENSG00000172232 & ENSG00000196415\\\\\n",
       "  & <dbl> & <dbl> & <dbl> & <dbl> & <dbl> & <dbl> & <dbl> & <dbl> & <dbl> & <dbl>\\\\\n",
       "\\hline\n",
       "\tENSG00000129946 & 1.00000000 & 0.24758303 & 0.10293333 & 0.02615774 & 0.02449524 & 0.02283882 & 0.015234731 & 0.016965634 & 0.01001226 & 0.01114491\\\\\n",
       "\tENSG00000099866 & 0.24758303 & 1.00000000 & 0.02139386 & 0.01422006 & 0.01775026 & 0.01617738 & 0.008638915 & 0.007614611 & 0.01024569 & 0.01295409\\\\\n",
       "\tENSG00000099804 & 0.10293333 & 0.02139386 & 1.00000000 & 0.26936767 & 0.13144870 & 0.06836161 & 0.023100407 & 0.015096934 & 0.01514286 & 0.01862968\\\\\n",
       "\tENSG00000197540 & 0.02615774 & 0.01422006 & 0.26936767 & 1.00000000 & 0.13611036 & 0.09974282 & 0.032082484 & 0.018248978 & 0.01709169 & 0.01684760\\\\\n",
       "\tENSG00000172270 & 0.02449524 & 0.01775026 & 0.13144870 & 0.13611036 & 1.00000000 & 0.30689890 & 0.026971921 & 0.038783471 & 0.06543742 & 0.05269646\\\\\n",
       "\tENSG00000099822 & 0.02283882 & 0.01617738 & 0.06836161 & 0.09974282 & 0.30689890 & 1.00000000 & 0.251714137 & 0.039372490 & 0.05218674 & 0.02598139\\\\\n",
       "\\end{tabular}\n"
      ],
      "text/markdown": [
       "\n",
       "A data.frame: 6 × 10\n",
       "\n",
       "| <!--/--> | ENSG00000129946 &lt;dbl&gt; | ENSG00000099866 &lt;dbl&gt; | ENSG00000099804 &lt;dbl&gt; | ENSG00000197540 &lt;dbl&gt; | ENSG00000172270 &lt;dbl&gt; | ENSG00000099822 &lt;dbl&gt; | ENSG00000099821 &lt;dbl&gt; | ENSG00000011304 &lt;dbl&gt; | ENSG00000172232 &lt;dbl&gt; | ENSG00000196415 &lt;dbl&gt; |\n",
       "|---|---|---|---|---|---|---|---|---|---|---|\n",
       "| ENSG00000129946 | 1.00000000 | 0.24758303 | 0.10293333 | 0.02615774 | 0.02449524 | 0.02283882 | 0.015234731 | 0.016965634 | 0.01001226 | 0.01114491 |\n",
       "| ENSG00000099866 | 0.24758303 | 1.00000000 | 0.02139386 | 0.01422006 | 0.01775026 | 0.01617738 | 0.008638915 | 0.007614611 | 0.01024569 | 0.01295409 |\n",
       "| ENSG00000099804 | 0.10293333 | 0.02139386 | 1.00000000 | 0.26936767 | 0.13144870 | 0.06836161 | 0.023100407 | 0.015096934 | 0.01514286 | 0.01862968 |\n",
       "| ENSG00000197540 | 0.02615774 | 0.01422006 | 0.26936767 | 1.00000000 | 0.13611036 | 0.09974282 | 0.032082484 | 0.018248978 | 0.01709169 | 0.01684760 |\n",
       "| ENSG00000172270 | 0.02449524 | 0.01775026 | 0.13144870 | 0.13611036 | 1.00000000 | 0.30689890 | 0.026971921 | 0.038783471 | 0.06543742 | 0.05269646 |\n",
       "| ENSG00000099822 | 0.02283882 | 0.01617738 | 0.06836161 | 0.09974282 | 0.30689890 | 1.00000000 | 0.251714137 | 0.039372490 | 0.05218674 | 0.02598139 |\n",
       "\n"
      ],
      "text/plain": [
       "                ENSG00000129946 ENSG00000099866 ENSG00000099804 ENSG00000197540\n",
       "ENSG00000129946 1.00000000      0.24758303      0.10293333      0.02615774     \n",
       "ENSG00000099866 0.24758303      1.00000000      0.02139386      0.01422006     \n",
       "ENSG00000099804 0.10293333      0.02139386      1.00000000      0.26936767     \n",
       "ENSG00000197540 0.02615774      0.01422006      0.26936767      1.00000000     \n",
       "ENSG00000172270 0.02449524      0.01775026      0.13144870      0.13611036     \n",
       "ENSG00000099822 0.02283882      0.01617738      0.06836161      0.09974282     \n",
       "                ENSG00000172270 ENSG00000099822 ENSG00000099821 ENSG00000011304\n",
       "ENSG00000129946 0.02449524      0.02283882      0.015234731     0.016965634    \n",
       "ENSG00000099866 0.01775026      0.01617738      0.008638915     0.007614611    \n",
       "ENSG00000099804 0.13144870      0.06836161      0.023100407     0.015096934    \n",
       "ENSG00000197540 0.13611036      0.09974282      0.032082484     0.018248978    \n",
       "ENSG00000172270 1.00000000      0.30689890      0.026971921     0.038783471    \n",
       "ENSG00000099822 0.30689890      1.00000000      0.251714137     0.039372490    \n",
       "                ENSG00000172232 ENSG00000196415\n",
       "ENSG00000129946 0.01001226      0.01114491     \n",
       "ENSG00000099866 0.01024569      0.01295409     \n",
       "ENSG00000099804 0.01514286      0.01862968     \n",
       "ENSG00000197540 0.01709169      0.01684760     \n",
       "ENSG00000172270 0.06543742      0.05269646     \n",
       "ENSG00000099822 0.05218674      0.02598139     "
      ]
     },
     "metadata": {},
     "output_type": "display_data"
    }
   ],
   "source": [
    "head(gene_corrs[1:10, 1:10])"
   ]
  },
  {
   "cell_type": "markdown",
   "id": "d6cbc88a-2c90-4d11-b7dd-434f046fd03c",
   "metadata": {
    "papermill": {
     "duration": 0.004813,
     "end_time": "2022-07-12T13:07:44.849123",
     "exception": false,
     "start_time": "2022-07-12T13:07:44.844310",
     "status": "completed"
    },
    "tags": []
   },
   "source": [
    "# Check positive definiteness"
   ]
  },
  {
   "cell_type": "code",
   "execution_count": 17,
   "id": "a858a061-7c5a-4a6b-8026-fe4de50c1f26",
   "metadata": {
    "execution": {
     "iopub.execute_input": "2022-07-12T13:07:44.860849Z",
     "iopub.status.busy": "2022-07-12T13:07:44.859809Z",
     "iopub.status.idle": "2022-07-12T13:07:44.878994Z",
     "shell.execute_reply": "2022-07-12T13:07:44.877660Z"
    },
    "papermill": {
     "duration": 0.026806,
     "end_time": "2022-07-12T13:07:44.880784",
     "exception": false,
     "start_time": "2022-07-12T13:07:44.853978",
     "status": "completed"
    },
    "tags": []
   },
   "outputs": [],
   "source": [
    "orig_matrix_is_positive_definite <- is_positive_definite(gene_corrs)"
   ]
  },
  {
   "cell_type": "code",
   "execution_count": 18,
   "id": "410ee452-488f-4518-b93a-2acd608ba99c",
   "metadata": {
    "execution": {
     "iopub.execute_input": "2022-07-12T13:07:44.894448Z",
     "iopub.status.busy": "2022-07-12T13:07:44.893247Z",
     "iopub.status.idle": "2022-07-12T13:07:44.914594Z",
     "shell.execute_reply": "2022-07-12T13:07:44.912695Z"
    },
    "papermill": {
     "duration": 0.029094,
     "end_time": "2022-07-12T13:07:44.916296",
     "exception": false,
     "start_time": "2022-07-12T13:07:44.887202",
     "status": "completed"
    },
    "tags": []
   },
   "outputs": [
    {
     "data": {
      "text/html": [
       "'Matrix is already positive definite!'"
      ],
      "text/latex": [
       "'Matrix is already positive definite!'"
      ],
      "text/markdown": [
       "'Matrix is already positive definite!'"
      ],
      "text/plain": [
       "[1] \"Matrix is already positive definite!\""
      ]
     },
     "metadata": {},
     "output_type": "display_data"
    },
    {
     "data": {
      "text/html": [
       "TRUE"
      ],
      "text/latex": [
       "TRUE"
      ],
      "text/markdown": [
       "TRUE"
      ],
      "text/plain": [
       "[1] TRUE"
      ]
     },
     "metadata": {},
     "output_type": "display_data"
    }
   ],
   "source": [
    "if (orig_matrix_is_positive_definite) {\n",
    "  IRdisplay::display(\"Matrix is already positive definite!\")\n",
    "  file.copy(INPUT_FILE, OUTPUT_FILE)\n",
    "} else {\n",
    "  IRdisplay::display(\"We need to correct the data and make the matrix positive definite\")\n",
    "\n",
    "  eigenvalues <- eigen(gene_corrs)$values\n",
    "  nonpositive_eigenvalues <- eigenvalues[eigenvalues <= 0]\n",
    "  IRdisplay::display(length(nonpositive_eigenvalues))\n",
    "  IRdisplay::display(nonpositive_eigenvalues)\n",
    "\n",
    "  # Make matrix positive definite\n",
    "  gene_corrs_corrected <- CorrectCM(gene_corrs, 1e-10)\n",
    "  dimnames(gene_corrs_corrected)[[1]] <- rownames(gene_corrs)\n",
    "  dimnames(gene_corrs_corrected)[[2]] <- colnames(gene_corrs)\n",
    "  gene_corrs_corrected <- as.data.frame(gene_corrs_corrected)\n",
    "\n",
    "  # check if new matrix is really positive definite\n",
    "  matrix_is_positive_definite <- is_positive_definite(gene_corrs_corrected)\n",
    "  if (matrix_is_positive_definite) {\n",
    "    IRdisplay::display(\"It worked!\")\n",
    "    IRdisplay::display(head(gene_corrs[1:10, 1:10]))\n",
    "    IRdisplay::display(head(gene_corrs_corrected[1:10, 1:10]))\n",
    "    py_save_object(gene_corrs_corrected, OUTPUT_FILE)\n",
    "  } else {\n",
    "    eigenvalues <- eigen(gene_corrs_corrected)$values\n",
    "    nonpositive_eigenvalues <- eigenvalues[eigenvalues <= 0]\n",
    "    IRdisplay::display(length(nonpositive_eigenvalues))\n",
    "    IRdisplay::display(nonpositive_eigenvalues)\n",
    "\n",
    "    stop(\"Method failed to adjust matrix\")\n",
    "  }\n",
    "}"
   ]
  },
  {
   "cell_type": "markdown",
   "id": "6c196700-7491-462f-bab8-ab9d40c63499",
   "metadata": {
    "papermill": {
     "duration": 0.009504,
     "end_time": "2022-07-12T13:07:44.933044",
     "exception": false,
     "start_time": "2022-07-12T13:07:44.923540",
     "status": "completed"
    },
    "tags": []
   },
   "source": [
    "Both matrices should \"look\" similar. We are not interested in perfectly accurate correlation values (they are already inaccurate)."
   ]
  },
  {
   "cell_type": "code",
   "execution_count": null,
   "id": "d8ae4220-2171-460c-9231-cd5219f3fe77",
   "metadata": {
    "papermill": {
     "duration": 0.009281,
     "end_time": "2022-07-12T13:07:44.952047",
     "exception": false,
     "start_time": "2022-07-12T13:07:44.942766",
     "status": "completed"
    },
    "tags": []
   },
   "outputs": [],
   "source": []
  }
 ],
 "metadata": {
  "jupytext": {
   "cell_metadata_filter": "all,-execution,-papermill,-trusted"
  },
  "kernelspec": {
   "display_name": "R",
   "language": "R",
   "name": "ir"
  },
  "language_info": {
   "codemirror_mode": "r",
   "file_extension": ".r",
   "mimetype": "text/x-r-source",
   "name": "R",
   "pygments_lexer": "r",
   "version": "3.6.3"
  },
  "papermill": {
   "default_parameters": {},
   "duration": 5.283835,
   "end_time": "2022-07-12T13:07:45.082323",
   "environment_variables": {},
   "exception": null,
   "input_path": "nbs/15_gsa_gls/12-gene_expr_correlations-adjust.ipynb",
   "output_path": "nbs/15_gsa_gls/gene_corrs/1000g/mashr/12-gene_expr_correlations-adjust-chr19.run.ipynb",
   "parameters": {
    "EQTL_MODEL": "MASHR",
    "REFERENCE_PANEL": "1000G",
    "chromosome": 19
   },
   "start_time": "2022-07-12T13:07:39.798488",
   "version": "2.3.4"
  }
 },
 "nbformat": 4,
 "nbformat_minor": 5
}
