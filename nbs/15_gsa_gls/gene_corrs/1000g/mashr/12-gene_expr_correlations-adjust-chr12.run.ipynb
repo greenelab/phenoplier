{
 "cells": [
  {
   "cell_type": "markdown",
   "id": "28fc82fa-c3f6-4184-8054-cc91c7c6e2e7",
   "metadata": {
    "papermill": {
     "duration": 0.004289,
     "end_time": "2022-07-11T13:17:45.848400",
     "exception": false,
     "start_time": "2022-07-11T13:17:45.844111",
     "status": "completed"
    },
    "tags": []
   },
   "source": [
    "# Description"
   ]
  },
  {
   "cell_type": "markdown",
   "id": "36839b17-916e-4aec-8fee-96faf1097e78",
   "metadata": {
    "papermill": {
     "duration": 0.00342,
     "end_time": "2022-07-11T13:17:45.855371",
     "exception": false,
     "start_time": "2022-07-11T13:17:45.851951",
     "status": "completed"
    },
    "tags": []
   },
   "source": [
    "**TODO**"
   ]
  },
  {
   "cell_type": "markdown",
   "id": "249e8aa3-ef1a-4bba-a6dd-58120ad80794",
   "metadata": {
    "papermill": {
     "duration": 0.00339,
     "end_time": "2022-07-11T13:17:45.862389",
     "exception": false,
     "start_time": "2022-07-11T13:17:45.858999",
     "status": "completed"
    },
    "tags": []
   },
   "source": [
    "# Modules"
   ]
  },
  {
   "cell_type": "code",
   "execution_count": 1,
   "id": "f9b5022b-7c5e-4d37-9c7a-fdb91777c7f9",
   "metadata": {
    "execution": {
     "iopub.execute_input": "2022-07-11T13:17:45.872211Z",
     "iopub.status.busy": "2022-07-11T13:17:45.870509Z",
     "iopub.status.idle": "2022-07-11T13:17:49.279099Z",
     "shell.execute_reply": "2022-07-11T13:17:49.276007Z"
    },
    "papermill": {
     "duration": 3.415098,
     "end_time": "2022-07-11T13:17:49.280952",
     "exception": false,
     "start_time": "2022-07-11T13:17:45.865854",
     "status": "completed"
    },
    "tags": []
   },
   "outputs": [],
   "source": [
    "library(reticulate)\n",
    "pd <- import(\"pandas\")"
   ]
  },
  {
   "cell_type": "markdown",
   "id": "69e80173-3a39-4b6a-b723-602687cb255b",
   "metadata": {
    "papermill": {
     "duration": 0.003569,
     "end_time": "2022-07-11T13:17:49.288783",
     "exception": false,
     "start_time": "2022-07-11T13:17:49.285214",
     "status": "completed"
    },
    "tags": []
   },
   "source": [
    "# Settings"
   ]
  },
  {
   "cell_type": "code",
   "execution_count": 2,
   "id": "22d12bb4-1699-4a6b-b1b9-d3fdd3d547d7",
   "metadata": {
    "execution": {
     "iopub.execute_input": "2022-07-11T13:17:49.318596Z",
     "iopub.status.busy": "2022-07-11T13:17:49.296750Z",
     "iopub.status.idle": "2022-07-11T13:17:49.331143Z",
     "shell.execute_reply": "2022-07-11T13:17:49.329397Z"
    },
    "papermill": {
     "duration": 0.04066,
     "end_time": "2022-07-11T13:17:49.332827",
     "exception": false,
     "start_time": "2022-07-11T13:17:49.292167",
     "status": "completed"
    },
    "tags": [
     "parameters"
    ]
   },
   "outputs": [],
   "source": [
    "# reference panel\n",
    "REFERENCE_PANEL <- \"GTEX_V8\"\n",
    "# REFERENCE_PANEL = \"1000G\"\n",
    "\n",
    "# prediction models\n",
    "## mashr\n",
    "EQTL_MODEL <- \"MASHR\"\n",
    "\n",
    "chromosome <- NULL"
   ]
  },
  {
   "cell_type": "code",
   "execution_count": 3,
   "id": "90e89e76",
   "metadata": {
    "execution": {
     "iopub.execute_input": "2022-07-11T13:17:49.341441Z",
     "iopub.status.busy": "2022-07-11T13:17:49.340416Z",
     "iopub.status.idle": "2022-07-11T13:17:49.357088Z",
     "shell.execute_reply": "2022-07-11T13:17:49.355893Z"
    },
    "papermill": {
     "duration": 0.022439,
     "end_time": "2022-07-11T13:17:49.358578",
     "exception": false,
     "start_time": "2022-07-11T13:17:49.336139",
     "status": "completed"
    },
    "tags": [
     "injected-parameters"
    ]
   },
   "outputs": [],
   "source": [
    "# Parameters\n",
    "chromosome = 12\n",
    "REFERENCE_PANEL = \"1000G\"\n",
    "EQTL_MODEL = \"MASHR\"\n"
   ]
  },
  {
   "cell_type": "code",
   "execution_count": 4,
   "id": "8fe24bef",
   "metadata": {
    "execution": {
     "iopub.execute_input": "2022-07-11T13:17:49.370830Z",
     "iopub.status.busy": "2022-07-11T13:17:49.369905Z",
     "iopub.status.idle": "2022-07-11T13:17:49.389697Z",
     "shell.execute_reply": "2022-07-11T13:17:49.388587Z"
    },
    "papermill": {
     "duration": 0.034416,
     "end_time": "2022-07-11T13:17:49.396855",
     "exception": false,
     "start_time": "2022-07-11T13:17:49.362439",
     "status": "completed"
    },
    "tags": []
   },
   "outputs": [
    {
     "data": {
      "text/html": [
       "'Using reference panel: 1000G'"
      ],
      "text/latex": [
       "'Using reference panel: 1000G'"
      ],
      "text/markdown": [
       "'Using reference panel: 1000G'"
      ],
      "text/plain": [
       "[1] \"Using reference panel: 1000G\""
      ]
     },
     "metadata": {},
     "output_type": "display_data"
    }
   ],
   "source": [
    "paste0(\"Using reference panel: \", REFERENCE_PANEL)"
   ]
  },
  {
   "cell_type": "code",
   "execution_count": 5,
   "id": "d62c28f8-186c-478b-948c-58e14f00df4b",
   "metadata": {
    "execution": {
     "iopub.execute_input": "2022-07-11T13:17:49.408879Z",
     "iopub.status.busy": "2022-07-11T13:17:49.407977Z",
     "iopub.status.idle": "2022-07-11T13:17:49.425840Z",
     "shell.execute_reply": "2022-07-11T13:17:49.424799Z"
    },
    "papermill": {
     "duration": 0.026485,
     "end_time": "2022-07-11T13:17:49.427240",
     "exception": false,
     "start_time": "2022-07-11T13:17:49.400755",
     "status": "completed"
    },
    "tags": []
   },
   "outputs": [
    {
     "data": {
      "text/html": [
       "'Using eQTL model: MASHR'"
      ],
      "text/latex": [
       "'Using eQTL model: MASHR'"
      ],
      "text/markdown": [
       "'Using eQTL model: MASHR'"
      ],
      "text/plain": [
       "[1] \"Using eQTL model: MASHR\""
      ]
     },
     "metadata": {},
     "output_type": "display_data"
    }
   ],
   "source": [
    "paste0(\"Using eQTL model: \", EQTL_MODEL)"
   ]
  },
  {
   "cell_type": "code",
   "execution_count": 6,
   "id": "5243676f-c889-4405-9a4d-262f0f044614",
   "metadata": {
    "execution": {
     "iopub.execute_input": "2022-07-11T13:17:49.440088Z",
     "iopub.status.busy": "2022-07-11T13:17:49.439153Z",
     "iopub.status.idle": "2022-07-11T13:17:49.459963Z",
     "shell.execute_reply": "2022-07-11T13:17:49.450814Z"
    },
    "papermill": {
     "duration": 0.029717,
     "end_time": "2022-07-11T13:17:49.461405",
     "exception": false,
     "start_time": "2022-07-11T13:17:49.431688",
     "status": "completed"
    },
    "tags": []
   },
   "outputs": [],
   "source": [
    "# chromosome must be provided as parameter\n",
    "stopifnot(!is.null(chromosome))"
   ]
  },
  {
   "cell_type": "markdown",
   "id": "c05e4d34-e115-48cd-8a2e-225109eb0042",
   "metadata": {
    "papermill": {
     "duration": 0.006549,
     "end_time": "2022-07-11T13:17:49.472019",
     "exception": false,
     "start_time": "2022-07-11T13:17:49.465470",
     "status": "completed"
    },
    "tags": []
   },
   "source": [
    "# Paths"
   ]
  },
  {
   "cell_type": "code",
   "execution_count": 7,
   "id": "eb6aa8aa-b452-4a2f-a780-93dd80ad4285",
   "metadata": {
    "execution": {
     "iopub.execute_input": "2022-07-11T13:17:49.484295Z",
     "iopub.status.busy": "2022-07-11T13:17:49.483289Z",
     "iopub.status.idle": "2022-07-11T13:17:49.505396Z",
     "shell.execute_reply": "2022-07-11T13:17:49.504283Z"
    },
    "papermill": {
     "duration": 0.031668,
     "end_time": "2022-07-11T13:17:49.506982",
     "exception": false,
     "start_time": "2022-07-11T13:17:49.475314",
     "status": "completed"
    },
    "tags": []
   },
   "outputs": [
    {
     "data": {
      "text/html": [
       "'/opt/data/data/phenomexcan/ld_blocks/gene_corrs'"
      ],
      "text/latex": [
       "'/opt/data/data/phenomexcan/ld\\_blocks/gene\\_corrs'"
      ],
      "text/markdown": [
       "'/opt/data/data/phenomexcan/ld_blocks/gene_corrs'"
      ],
      "text/plain": [
       "[1] \"/opt/data/data/phenomexcan/ld_blocks/gene_corrs\""
      ]
     },
     "metadata": {},
     "output_type": "display_data"
    }
   ],
   "source": [
    "GENE_CORRS_DIR <- Sys.getenv(\"PHENOPLIER_PHENOMEXCAN_LD_BLOCKS_GENE_CORRS_DIR\")\n",
    "IRdisplay::display(GENE_CORRS_DIR)"
   ]
  },
  {
   "cell_type": "code",
   "execution_count": 8,
   "id": "eb24f15f-f282-4476-8943-8413c4483f12",
   "metadata": {
    "execution": {
     "iopub.execute_input": "2022-07-11T13:17:49.516317Z",
     "iopub.status.busy": "2022-07-11T13:17:49.515258Z",
     "iopub.status.idle": "2022-07-11T13:17:49.528040Z",
     "shell.execute_reply": "2022-07-11T13:17:49.526778Z"
    },
    "papermill": {
     "duration": 0.019254,
     "end_time": "2022-07-11T13:17:49.529834",
     "exception": false,
     "start_time": "2022-07-11T13:17:49.510580",
     "status": "completed"
    },
    "tags": []
   },
   "outputs": [
    {
     "data": {
      "text/html": [
       "'/opt/data/data/phenomexcan/ld_blocks/gene_corrs/1000g/mashr/by_chr'"
      ],
      "text/latex": [
       "'/opt/data/data/phenomexcan/ld\\_blocks/gene\\_corrs/1000g/mashr/by\\_chr'"
      ],
      "text/markdown": [
       "'/opt/data/data/phenomexcan/ld_blocks/gene_corrs/1000g/mashr/by_chr'"
      ],
      "text/plain": [
       "[1] \"/opt/data/data/phenomexcan/ld_blocks/gene_corrs/1000g/mashr/by_chr\""
      ]
     },
     "metadata": {},
     "output_type": "display_data"
    }
   ],
   "source": [
    "INPUT_DIR <- file.path(GENE_CORRS_DIR, tolower(REFERENCE_PANEL), tolower(EQTL_MODEL), \"by_chr\")\n",
    "IRdisplay::display(INPUT_DIR)"
   ]
  },
  {
   "cell_type": "code",
   "execution_count": 9,
   "id": "43c1daba-0da9-4822-8d1e-968e9767e251",
   "metadata": {
    "execution": {
     "iopub.execute_input": "2022-07-11T13:17:49.540736Z",
     "iopub.status.busy": "2022-07-11T13:17:49.539672Z",
     "iopub.status.idle": "2022-07-11T13:17:49.553772Z",
     "shell.execute_reply": "2022-07-11T13:17:49.552588Z"
    },
    "papermill": {
     "duration": 0.021117,
     "end_time": "2022-07-11T13:17:49.555442",
     "exception": false,
     "start_time": "2022-07-11T13:17:49.534325",
     "status": "completed"
    },
    "tags": []
   },
   "outputs": [
    {
     "data": {
      "text/html": [
       "'/opt/data/data/phenomexcan/ld_blocks/gene_corrs/1000g/mashr/by_chr/gene_corrs-chr12.pkl'"
      ],
      "text/latex": [
       "'/opt/data/data/phenomexcan/ld\\_blocks/gene\\_corrs/1000g/mashr/by\\_chr/gene\\_corrs-chr12.pkl'"
      ],
      "text/markdown": [
       "'/opt/data/data/phenomexcan/ld_blocks/gene_corrs/1000g/mashr/by_chr/gene_corrs-chr12.pkl'"
      ],
      "text/plain": [
       "[1] \"/opt/data/data/phenomexcan/ld_blocks/gene_corrs/1000g/mashr/by_chr/gene_corrs-chr12.pkl\""
      ]
     },
     "metadata": {},
     "output_type": "display_data"
    }
   ],
   "source": [
    "INPUT_FILE <- file.path(INPUT_DIR, paste0(\"gene_corrs-chr\", chromosome, \".pkl\"))\n",
    "IRdisplay::display(INPUT_FILE)\n",
    "stopifnot(file.exists(INPUT_FILE))"
   ]
  },
  {
   "cell_type": "code",
   "execution_count": 10,
   "id": "72386fbf-982b-420a-9057-ea9a97a5e571",
   "metadata": {
    "execution": {
     "iopub.execute_input": "2022-07-11T13:17:49.565670Z",
     "iopub.status.busy": "2022-07-11T13:17:49.564702Z",
     "iopub.status.idle": "2022-07-11T13:17:49.577925Z",
     "shell.execute_reply": "2022-07-11T13:17:49.576792Z"
    },
    "papermill": {
     "duration": 0.019871,
     "end_time": "2022-07-11T13:17:49.579506",
     "exception": false,
     "start_time": "2022-07-11T13:17:49.559635",
     "status": "completed"
    },
    "tags": []
   },
   "outputs": [
    {
     "data": {
      "text/html": [
       "'/opt/data/data/phenomexcan/ld_blocks/gene_corrs/1000g/mashr/by_chr/corrected_positive_definite'"
      ],
      "text/latex": [
       "'/opt/data/data/phenomexcan/ld\\_blocks/gene\\_corrs/1000g/mashr/by\\_chr/corrected\\_positive\\_definite'"
      ],
      "text/markdown": [
       "'/opt/data/data/phenomexcan/ld_blocks/gene_corrs/1000g/mashr/by_chr/corrected_positive_definite'"
      ],
      "text/plain": [
       "[1] \"/opt/data/data/phenomexcan/ld_blocks/gene_corrs/1000g/mashr/by_chr/corrected_positive_definite\""
      ]
     },
     "metadata": {},
     "output_type": "display_data"
    }
   ],
   "source": [
    "OUTPUT_DIR <- file.path(INPUT_DIR, \"corrected_positive_definite\")\n",
    "IRdisplay::display(OUTPUT_DIR)\n",
    "dir.create(OUTPUT_DIR, recursive = TRUE, showWarnings = FALSE)"
   ]
  },
  {
   "cell_type": "code",
   "execution_count": 11,
   "id": "f9f19d1d-ce4c-4099-a26e-250fec751de7",
   "metadata": {
    "execution": {
     "iopub.execute_input": "2022-07-11T13:17:49.589552Z",
     "iopub.status.busy": "2022-07-11T13:17:49.588626Z",
     "iopub.status.idle": "2022-07-11T13:17:49.601305Z",
     "shell.execute_reply": "2022-07-11T13:17:49.600211Z"
    },
    "papermill": {
     "duration": 0.01916,
     "end_time": "2022-07-11T13:17:49.602872",
     "exception": false,
     "start_time": "2022-07-11T13:17:49.583712",
     "status": "completed"
    },
    "tags": []
   },
   "outputs": [
    {
     "data": {
      "text/html": [
       "'/opt/data/data/phenomexcan/ld_blocks/gene_corrs/1000g/mashr/by_chr/corrected_positive_definite/gene_corrs-chr12.pkl'"
      ],
      "text/latex": [
       "'/opt/data/data/phenomexcan/ld\\_blocks/gene\\_corrs/1000g/mashr/by\\_chr/corrected\\_positive\\_definite/gene\\_corrs-chr12.pkl'"
      ],
      "text/markdown": [
       "'/opt/data/data/phenomexcan/ld_blocks/gene_corrs/1000g/mashr/by_chr/corrected_positive_definite/gene_corrs-chr12.pkl'"
      ],
      "text/plain": [
       "[1] \"/opt/data/data/phenomexcan/ld_blocks/gene_corrs/1000g/mashr/by_chr/corrected_positive_definite/gene_corrs-chr12.pkl\""
      ]
     },
     "metadata": {},
     "output_type": "display_data"
    }
   ],
   "source": [
    "OUTPUT_FILE <- file.path(OUTPUT_DIR, paste0(\"gene_corrs-chr\", chromosome, \".pkl\"))\n",
    "IRdisplay::display(OUTPUT_FILE)\n",
    "if (file.exists(OUTPUT_FILE)) {\n",
    "  IRdisplay::display(\"Output file exists, it will be overwritten\")\n",
    "}"
   ]
  },
  {
   "cell_type": "markdown",
   "id": "24973e62-e888-4b56-843f-489d8d0762b5",
   "metadata": {
    "papermill": {
     "duration": 0.003923,
     "end_time": "2022-07-11T13:17:49.610828",
     "exception": false,
     "start_time": "2022-07-11T13:17:49.606905",
     "status": "completed"
    },
    "tags": []
   },
   "source": [
    "# Functions"
   ]
  },
  {
   "cell_type": "code",
   "execution_count": 12,
   "id": "f828f081-7358-4cc8-8a89-1ee293bcc1a7",
   "metadata": {
    "execution": {
     "iopub.execute_input": "2022-07-11T13:17:49.623764Z",
     "iopub.status.busy": "2022-07-11T13:17:49.619525Z",
     "iopub.status.idle": "2022-07-11T13:17:49.631974Z",
     "shell.execute_reply": "2022-07-11T13:17:49.630815Z"
    },
    "papermill": {
     "duration": 0.018818,
     "end_time": "2022-07-11T13:17:49.633596",
     "exception": false,
     "start_time": "2022-07-11T13:17:49.614778",
     "status": "completed"
    },
    "tags": []
   },
   "outputs": [],
   "source": [
    "# taken from https://www.r-bloggers.com/2013/08/correcting-a-pseudo-correlation-matrix-to-be-positive-semidefinite/\n",
    "# TODO: add documentation\n",
    "CorrectCM <- function(CM, p = 0) {\n",
    "  n <- dim(var(CM))[1L]\n",
    "  E <- eigen(CM)\n",
    "  CM1 <- E$vectors %*% tcrossprod(diag(pmax(E$values, p), n), E$vectors)\n",
    "  Balance <- diag(1 / sqrt(diag(CM1)))\n",
    "  CM2 <- Balance %*% CM1 %*% Balance\n",
    "  return(CM2)\n",
    "}"
   ]
  },
  {
   "cell_type": "code",
   "execution_count": 13,
   "id": "7ab9bebf-50a1-4e6f-b16a-e23cae93d02a",
   "metadata": {
    "execution": {
     "iopub.execute_input": "2022-07-11T13:17:49.644619Z",
     "iopub.status.busy": "2022-07-11T13:17:49.643411Z",
     "iopub.status.idle": "2022-07-11T13:17:49.653325Z",
     "shell.execute_reply": "2022-07-11T13:17:49.652016Z"
    },
    "papermill": {
     "duration": 0.017251,
     "end_time": "2022-07-11T13:17:49.655103",
     "exception": false,
     "start_time": "2022-07-11T13:17:49.637852",
     "status": "completed"
    },
    "tags": []
   },
   "outputs": [],
   "source": [
    "is_positive_definite <- function(data) {\n",
    "  # eigenvalues <- eigen(data)$values\n",
    "  # nonpositive_eigenvalues <- eigenvalues[eigenvalues <= 0]\n",
    "\n",
    "  cholStatus <- try(u <- chol(data), silent = FALSE)\n",
    "  cholError <- ifelse(class(cholStatus) == \"try-error\", TRUE, FALSE)\n",
    "\n",
    "  if (cholError) {\n",
    "    return(FALSE)\n",
    "  } else {\n",
    "    return(TRUE)\n",
    "  }\n",
    "}"
   ]
  },
  {
   "cell_type": "markdown",
   "id": "7403fd78-00b2-4941-9c07-3c3af1ddc636",
   "metadata": {
    "papermill": {
     "duration": 0.004828,
     "end_time": "2022-07-11T13:17:49.665369",
     "exception": false,
     "start_time": "2022-07-11T13:17:49.660541",
     "status": "completed"
    },
    "tags": []
   },
   "source": [
    "# Load data"
   ]
  },
  {
   "cell_type": "code",
   "execution_count": 14,
   "id": "3a7744e1-2e5a-450e-9dcf-945ec181347d",
   "metadata": {
    "execution": {
     "iopub.execute_input": "2022-07-11T13:17:49.677350Z",
     "iopub.status.busy": "2022-07-11T13:17:49.676205Z",
     "iopub.status.idle": "2022-07-11T13:17:49.749075Z",
     "shell.execute_reply": "2022-07-11T13:17:49.747800Z"
    },
    "papermill": {
     "duration": 0.080622,
     "end_time": "2022-07-11T13:17:49.750894",
     "exception": false,
     "start_time": "2022-07-11T13:17:49.670272",
     "status": "completed"
    },
    "tags": []
   },
   "outputs": [],
   "source": [
    "gene_corrs <- pd$read_pickle(INPUT_FILE)"
   ]
  },
  {
   "cell_type": "code",
   "execution_count": 15,
   "id": "6fb150b2-4c68-4e9b-9aa5-1890d3f762e3",
   "metadata": {
    "execution": {
     "iopub.execute_input": "2022-07-11T13:17:49.762612Z",
     "iopub.status.busy": "2022-07-11T13:17:49.761519Z",
     "iopub.status.idle": "2022-07-11T13:17:49.773493Z",
     "shell.execute_reply": "2022-07-11T13:17:49.772139Z"
    },
    "papermill": {
     "duration": 0.01943,
     "end_time": "2022-07-11T13:17:49.775229",
     "exception": false,
     "start_time": "2022-07-11T13:17:49.755799",
     "status": "completed"
    },
    "tags": []
   },
   "outputs": [
    {
     "data": {
      "text/html": [
       "<style>\n",
       ".list-inline {list-style: none; margin:0; padding: 0}\n",
       ".list-inline>li {display: inline-block}\n",
       ".list-inline>li:not(:last-child)::after {content: \"\\00b7\"; padding: 0 .5ex}\n",
       "</style>\n",
       "<ol class=list-inline><li>389</li><li>389</li></ol>\n"
      ],
      "text/latex": [
       "\\begin{enumerate*}\n",
       "\\item 389\n",
       "\\item 389\n",
       "\\end{enumerate*}\n"
      ],
      "text/markdown": [
       "1. 389\n",
       "2. 389\n",
       "\n",
       "\n"
      ],
      "text/plain": [
       "[1] 389 389"
      ]
     },
     "metadata": {},
     "output_type": "display_data"
    }
   ],
   "source": [
    "dim(gene_corrs)"
   ]
  },
  {
   "cell_type": "code",
   "execution_count": 16,
   "id": "0d4e53b5-7586-4a68-8ce5-d930d74ba943",
   "metadata": {
    "execution": {
     "iopub.execute_input": "2022-07-11T13:17:49.786554Z",
     "iopub.status.busy": "2022-07-11T13:17:49.785522Z",
     "iopub.status.idle": "2022-07-11T13:17:49.806146Z",
     "shell.execute_reply": "2022-07-11T13:17:49.804902Z"
    },
    "papermill": {
     "duration": 0.028022,
     "end_time": "2022-07-11T13:17:49.807878",
     "exception": false,
     "start_time": "2022-07-11T13:17:49.779856",
     "status": "completed"
    },
    "tags": []
   },
   "outputs": [
    {
     "data": {
      "text/html": [
       "<table class=\"dataframe\">\n",
       "<caption>A data.frame: 6 × 10</caption>\n",
       "<thead>\n",
       "\t<tr><th></th><th scope=col>ENSG00000120645</th><th scope=col>ENSG00000111181</th><th scope=col>ENSG00000171840</th><th scope=col>ENSG00000060237</th><th scope=col>ENSG00000002016</th><th scope=col>ENSG00000082805</th><th scope=col>ENSG00000111186</th><th scope=col>ENSG00000006831</th><th scope=col>ENSG00000151062</th><th scope=col>ENSG00000151065</th></tr>\n",
       "\t<tr><th></th><th scope=col>&lt;dbl&gt;</th><th scope=col>&lt;dbl&gt;</th><th scope=col>&lt;dbl&gt;</th><th scope=col>&lt;dbl&gt;</th><th scope=col>&lt;dbl&gt;</th><th scope=col>&lt;dbl&gt;</th><th scope=col>&lt;dbl&gt;</th><th scope=col>&lt;dbl&gt;</th><th scope=col>&lt;dbl&gt;</th><th scope=col>&lt;dbl&gt;</th></tr>\n",
       "</thead>\n",
       "<tbody>\n",
       "\t<tr><th scope=row>ENSG00000120645</th><td>1.000000000</td><td>0.082722583</td><td>0.01644917</td><td>0.01630049</td><td>0.007930999</td><td>0.01262378</td><td>0.009412586</td><td>0.013591059</td><td>0.01187203</td><td>0.011276547</td></tr>\n",
       "\t<tr><th scope=row>ENSG00000111181</th><td>0.082722583</td><td>1.000000000</td><td>0.01666816</td><td>0.01604548</td><td>0.004979664</td><td>0.01788684</td><td>0.015020390</td><td>0.013956040</td><td>0.01272389</td><td>0.011573915</td></tr>\n",
       "\t<tr><th scope=row>ENSG00000171840</th><td>0.016449170</td><td>0.016668163</td><td>1.00000000</td><td>0.13973255</td><td>0.010345402</td><td>0.02052182</td><td>0.016926274</td><td>0.013257508</td><td>0.01582615</td><td>0.009954466</td></tr>\n",
       "\t<tr><th scope=row>ENSG00000060237</th><td>0.016300489</td><td>0.016045478</td><td>0.13973255</td><td>1.00000000</td><td>0.208445670</td><td>0.02714353</td><td>0.015065353</td><td>0.010928490</td><td>0.01447965</td><td>0.010851103</td></tr>\n",
       "\t<tr><th scope=row>ENSG00000002016</th><td>0.007930999</td><td>0.004979664</td><td>0.01034540</td><td>0.20844567</td><td>1.000000000</td><td>0.02590133</td><td>0.015070122</td><td>0.007501334</td><td>0.01173014</td><td>0.006956180</td></tr>\n",
       "\t<tr><th scope=row>ENSG00000082805</th><td>0.012623780</td><td>0.017886843</td><td>0.02052182</td><td>0.02714353</td><td>0.025901330</td><td>1.00000000</td><td>0.034333961</td><td>0.013125431</td><td>0.02150922</td><td>0.020115600</td></tr>\n",
       "</tbody>\n",
       "</table>\n"
      ],
      "text/latex": [
       "A data.frame: 6 × 10\n",
       "\\begin{tabular}{r|llllllllll}\n",
       "  & ENSG00000120645 & ENSG00000111181 & ENSG00000171840 & ENSG00000060237 & ENSG00000002016 & ENSG00000082805 & ENSG00000111186 & ENSG00000006831 & ENSG00000151062 & ENSG00000151065\\\\\n",
       "  & <dbl> & <dbl> & <dbl> & <dbl> & <dbl> & <dbl> & <dbl> & <dbl> & <dbl> & <dbl>\\\\\n",
       "\\hline\n",
       "\tENSG00000120645 & 1.000000000 & 0.082722583 & 0.01644917 & 0.01630049 & 0.007930999 & 0.01262378 & 0.009412586 & 0.013591059 & 0.01187203 & 0.011276547\\\\\n",
       "\tENSG00000111181 & 0.082722583 & 1.000000000 & 0.01666816 & 0.01604548 & 0.004979664 & 0.01788684 & 0.015020390 & 0.013956040 & 0.01272389 & 0.011573915\\\\\n",
       "\tENSG00000171840 & 0.016449170 & 0.016668163 & 1.00000000 & 0.13973255 & 0.010345402 & 0.02052182 & 0.016926274 & 0.013257508 & 0.01582615 & 0.009954466\\\\\n",
       "\tENSG00000060237 & 0.016300489 & 0.016045478 & 0.13973255 & 1.00000000 & 0.208445670 & 0.02714353 & 0.015065353 & 0.010928490 & 0.01447965 & 0.010851103\\\\\n",
       "\tENSG00000002016 & 0.007930999 & 0.004979664 & 0.01034540 & 0.20844567 & 1.000000000 & 0.02590133 & 0.015070122 & 0.007501334 & 0.01173014 & 0.006956180\\\\\n",
       "\tENSG00000082805 & 0.012623780 & 0.017886843 & 0.02052182 & 0.02714353 & 0.025901330 & 1.00000000 & 0.034333961 & 0.013125431 & 0.02150922 & 0.020115600\\\\\n",
       "\\end{tabular}\n"
      ],
      "text/markdown": [
       "\n",
       "A data.frame: 6 × 10\n",
       "\n",
       "| <!--/--> | ENSG00000120645 &lt;dbl&gt; | ENSG00000111181 &lt;dbl&gt; | ENSG00000171840 &lt;dbl&gt; | ENSG00000060237 &lt;dbl&gt; | ENSG00000002016 &lt;dbl&gt; | ENSG00000082805 &lt;dbl&gt; | ENSG00000111186 &lt;dbl&gt; | ENSG00000006831 &lt;dbl&gt; | ENSG00000151062 &lt;dbl&gt; | ENSG00000151065 &lt;dbl&gt; |\n",
       "|---|---|---|---|---|---|---|---|---|---|---|\n",
       "| ENSG00000120645 | 1.000000000 | 0.082722583 | 0.01644917 | 0.01630049 | 0.007930999 | 0.01262378 | 0.009412586 | 0.013591059 | 0.01187203 | 0.011276547 |\n",
       "| ENSG00000111181 | 0.082722583 | 1.000000000 | 0.01666816 | 0.01604548 | 0.004979664 | 0.01788684 | 0.015020390 | 0.013956040 | 0.01272389 | 0.011573915 |\n",
       "| ENSG00000171840 | 0.016449170 | 0.016668163 | 1.00000000 | 0.13973255 | 0.010345402 | 0.02052182 | 0.016926274 | 0.013257508 | 0.01582615 | 0.009954466 |\n",
       "| ENSG00000060237 | 0.016300489 | 0.016045478 | 0.13973255 | 1.00000000 | 0.208445670 | 0.02714353 | 0.015065353 | 0.010928490 | 0.01447965 | 0.010851103 |\n",
       "| ENSG00000002016 | 0.007930999 | 0.004979664 | 0.01034540 | 0.20844567 | 1.000000000 | 0.02590133 | 0.015070122 | 0.007501334 | 0.01173014 | 0.006956180 |\n",
       "| ENSG00000082805 | 0.012623780 | 0.017886843 | 0.02052182 | 0.02714353 | 0.025901330 | 1.00000000 | 0.034333961 | 0.013125431 | 0.02150922 | 0.020115600 |\n",
       "\n"
      ],
      "text/plain": [
       "                ENSG00000120645 ENSG00000111181 ENSG00000171840 ENSG00000060237\n",
       "ENSG00000120645 1.000000000     0.082722583     0.01644917      0.01630049     \n",
       "ENSG00000111181 0.082722583     1.000000000     0.01666816      0.01604548     \n",
       "ENSG00000171840 0.016449170     0.016668163     1.00000000      0.13973255     \n",
       "ENSG00000060237 0.016300489     0.016045478     0.13973255      1.00000000     \n",
       "ENSG00000002016 0.007930999     0.004979664     0.01034540      0.20844567     \n",
       "ENSG00000082805 0.012623780     0.017886843     0.02052182      0.02714353     \n",
       "                ENSG00000002016 ENSG00000082805 ENSG00000111186 ENSG00000006831\n",
       "ENSG00000120645 0.007930999     0.01262378      0.009412586     0.013591059    \n",
       "ENSG00000111181 0.004979664     0.01788684      0.015020390     0.013956040    \n",
       "ENSG00000171840 0.010345402     0.02052182      0.016926274     0.013257508    \n",
       "ENSG00000060237 0.208445670     0.02714353      0.015065353     0.010928490    \n",
       "ENSG00000002016 1.000000000     0.02590133      0.015070122     0.007501334    \n",
       "ENSG00000082805 0.025901330     1.00000000      0.034333961     0.013125431    \n",
       "                ENSG00000151062 ENSG00000151065\n",
       "ENSG00000120645 0.01187203      0.011276547    \n",
       "ENSG00000111181 0.01272389      0.011573915    \n",
       "ENSG00000171840 0.01582615      0.009954466    \n",
       "ENSG00000060237 0.01447965      0.010851103    \n",
       "ENSG00000002016 0.01173014      0.006956180    \n",
       "ENSG00000082805 0.02150922      0.020115600    "
      ]
     },
     "metadata": {},
     "output_type": "display_data"
    }
   ],
   "source": [
    "head(gene_corrs[1:10, 1:10])"
   ]
  },
  {
   "cell_type": "markdown",
   "id": "d6cbc88a-2c90-4d11-b7dd-434f046fd03c",
   "metadata": {
    "papermill": {
     "duration": 0.005071,
     "end_time": "2022-07-11T13:17:49.817763",
     "exception": false,
     "start_time": "2022-07-11T13:17:49.812692",
     "status": "completed"
    },
    "tags": []
   },
   "source": [
    "# Check positive definiteness"
   ]
  },
  {
   "cell_type": "code",
   "execution_count": 17,
   "id": "a858a061-7c5a-4a6b-8026-fe4de50c1f26",
   "metadata": {
    "execution": {
     "iopub.execute_input": "2022-07-11T13:17:49.830527Z",
     "iopub.status.busy": "2022-07-11T13:17:49.829377Z",
     "iopub.status.idle": "2022-07-11T13:17:49.845897Z",
     "shell.execute_reply": "2022-07-11T13:17:49.844476Z"
    },
    "papermill": {
     "duration": 0.026108,
     "end_time": "2022-07-11T13:17:49.849145",
     "exception": false,
     "start_time": "2022-07-11T13:17:49.823037",
     "status": "completed"
    },
    "tags": []
   },
   "outputs": [
    {
     "name": "stdout",
     "output_type": "stream",
     "text": [
      "Error in chol.default(data) : \n",
      "  the leading minor of order 183 is not positive definite\n"
     ]
    }
   ],
   "source": [
    "orig_matrix_is_positive_definite <- is_positive_definite(gene_corrs)"
   ]
  },
  {
   "cell_type": "code",
   "execution_count": 18,
   "id": "410ee452-488f-4518-b93a-2acd608ba99c",
   "metadata": {
    "execution": {
     "iopub.execute_input": "2022-07-11T13:17:49.866499Z",
     "iopub.status.busy": "2022-07-11T13:17:49.865403Z",
     "iopub.status.idle": "2022-07-11T13:17:50.066756Z",
     "shell.execute_reply": "2022-07-11T13:17:50.065562Z"
    },
    "papermill": {
     "duration": 0.209531,
     "end_time": "2022-07-11T13:17:50.068257",
     "exception": false,
     "start_time": "2022-07-11T13:17:49.858726",
     "status": "completed"
    },
    "tags": []
   },
   "outputs": [
    {
     "data": {
      "text/html": [
       "'We need to correct the data and make the matrix positive definite'"
      ],
      "text/latex": [
       "'We need to correct the data and make the matrix positive definite'"
      ],
      "text/markdown": [
       "'We need to correct the data and make the matrix positive definite'"
      ],
      "text/plain": [
       "[1] \"We need to correct the data and make the matrix positive definite\""
      ]
     },
     "metadata": {},
     "output_type": "display_data"
    },
    {
     "data": {
      "text/html": [
       "1"
      ],
      "text/latex": [
       "1"
      ],
      "text/markdown": [
       "1"
      ],
      "text/plain": [
       "[1] 1"
      ]
     },
     "metadata": {},
     "output_type": "display_data"
    },
    {
     "data": {
      "text/html": [
       "-7.18465078384111e-17"
      ],
      "text/latex": [
       "-7.18465078384111e-17"
      ],
      "text/markdown": [
       "-7.18465078384111e-17"
      ],
      "text/plain": [
       "[1] -7.184651e-17"
      ]
     },
     "metadata": {},
     "output_type": "display_data"
    },
    {
     "data": {
      "text/html": [
       "'It worked!'"
      ],
      "text/latex": [
       "'It worked!'"
      ],
      "text/markdown": [
       "'It worked!'"
      ],
      "text/plain": [
       "[1] \"It worked!\""
      ]
     },
     "metadata": {},
     "output_type": "display_data"
    },
    {
     "data": {
      "text/html": [
       "<table class=\"dataframe\">\n",
       "<caption>A data.frame: 6 × 10</caption>\n",
       "<thead>\n",
       "\t<tr><th></th><th scope=col>ENSG00000120645</th><th scope=col>ENSG00000111181</th><th scope=col>ENSG00000171840</th><th scope=col>ENSG00000060237</th><th scope=col>ENSG00000002016</th><th scope=col>ENSG00000082805</th><th scope=col>ENSG00000111186</th><th scope=col>ENSG00000006831</th><th scope=col>ENSG00000151062</th><th scope=col>ENSG00000151065</th></tr>\n",
       "\t<tr><th></th><th scope=col>&lt;dbl&gt;</th><th scope=col>&lt;dbl&gt;</th><th scope=col>&lt;dbl&gt;</th><th scope=col>&lt;dbl&gt;</th><th scope=col>&lt;dbl&gt;</th><th scope=col>&lt;dbl&gt;</th><th scope=col>&lt;dbl&gt;</th><th scope=col>&lt;dbl&gt;</th><th scope=col>&lt;dbl&gt;</th><th scope=col>&lt;dbl&gt;</th></tr>\n",
       "</thead>\n",
       "<tbody>\n",
       "\t<tr><th scope=row>ENSG00000120645</th><td>1.000000000</td><td>0.082722583</td><td>0.01644917</td><td>0.01630049</td><td>0.007930999</td><td>0.01262378</td><td>0.009412586</td><td>0.013591059</td><td>0.01187203</td><td>0.011276547</td></tr>\n",
       "\t<tr><th scope=row>ENSG00000111181</th><td>0.082722583</td><td>1.000000000</td><td>0.01666816</td><td>0.01604548</td><td>0.004979664</td><td>0.01788684</td><td>0.015020390</td><td>0.013956040</td><td>0.01272389</td><td>0.011573915</td></tr>\n",
       "\t<tr><th scope=row>ENSG00000171840</th><td>0.016449170</td><td>0.016668163</td><td>1.00000000</td><td>0.13973255</td><td>0.010345402</td><td>0.02052182</td><td>0.016926274</td><td>0.013257508</td><td>0.01582615</td><td>0.009954466</td></tr>\n",
       "\t<tr><th scope=row>ENSG00000060237</th><td>0.016300489</td><td>0.016045478</td><td>0.13973255</td><td>1.00000000</td><td>0.208445670</td><td>0.02714353</td><td>0.015065353</td><td>0.010928490</td><td>0.01447965</td><td>0.010851103</td></tr>\n",
       "\t<tr><th scope=row>ENSG00000002016</th><td>0.007930999</td><td>0.004979664</td><td>0.01034540</td><td>0.20844567</td><td>1.000000000</td><td>0.02590133</td><td>0.015070122</td><td>0.007501334</td><td>0.01173014</td><td>0.006956180</td></tr>\n",
       "\t<tr><th scope=row>ENSG00000082805</th><td>0.012623780</td><td>0.017886843</td><td>0.02052182</td><td>0.02714353</td><td>0.025901330</td><td>1.00000000</td><td>0.034333961</td><td>0.013125431</td><td>0.02150922</td><td>0.020115600</td></tr>\n",
       "</tbody>\n",
       "</table>\n"
      ],
      "text/latex": [
       "A data.frame: 6 × 10\n",
       "\\begin{tabular}{r|llllllllll}\n",
       "  & ENSG00000120645 & ENSG00000111181 & ENSG00000171840 & ENSG00000060237 & ENSG00000002016 & ENSG00000082805 & ENSG00000111186 & ENSG00000006831 & ENSG00000151062 & ENSG00000151065\\\\\n",
       "  & <dbl> & <dbl> & <dbl> & <dbl> & <dbl> & <dbl> & <dbl> & <dbl> & <dbl> & <dbl>\\\\\n",
       "\\hline\n",
       "\tENSG00000120645 & 1.000000000 & 0.082722583 & 0.01644917 & 0.01630049 & 0.007930999 & 0.01262378 & 0.009412586 & 0.013591059 & 0.01187203 & 0.011276547\\\\\n",
       "\tENSG00000111181 & 0.082722583 & 1.000000000 & 0.01666816 & 0.01604548 & 0.004979664 & 0.01788684 & 0.015020390 & 0.013956040 & 0.01272389 & 0.011573915\\\\\n",
       "\tENSG00000171840 & 0.016449170 & 0.016668163 & 1.00000000 & 0.13973255 & 0.010345402 & 0.02052182 & 0.016926274 & 0.013257508 & 0.01582615 & 0.009954466\\\\\n",
       "\tENSG00000060237 & 0.016300489 & 0.016045478 & 0.13973255 & 1.00000000 & 0.208445670 & 0.02714353 & 0.015065353 & 0.010928490 & 0.01447965 & 0.010851103\\\\\n",
       "\tENSG00000002016 & 0.007930999 & 0.004979664 & 0.01034540 & 0.20844567 & 1.000000000 & 0.02590133 & 0.015070122 & 0.007501334 & 0.01173014 & 0.006956180\\\\\n",
       "\tENSG00000082805 & 0.012623780 & 0.017886843 & 0.02052182 & 0.02714353 & 0.025901330 & 1.00000000 & 0.034333961 & 0.013125431 & 0.02150922 & 0.020115600\\\\\n",
       "\\end{tabular}\n"
      ],
      "text/markdown": [
       "\n",
       "A data.frame: 6 × 10\n",
       "\n",
       "| <!--/--> | ENSG00000120645 &lt;dbl&gt; | ENSG00000111181 &lt;dbl&gt; | ENSG00000171840 &lt;dbl&gt; | ENSG00000060237 &lt;dbl&gt; | ENSG00000002016 &lt;dbl&gt; | ENSG00000082805 &lt;dbl&gt; | ENSG00000111186 &lt;dbl&gt; | ENSG00000006831 &lt;dbl&gt; | ENSG00000151062 &lt;dbl&gt; | ENSG00000151065 &lt;dbl&gt; |\n",
       "|---|---|---|---|---|---|---|---|---|---|---|\n",
       "| ENSG00000120645 | 1.000000000 | 0.082722583 | 0.01644917 | 0.01630049 | 0.007930999 | 0.01262378 | 0.009412586 | 0.013591059 | 0.01187203 | 0.011276547 |\n",
       "| ENSG00000111181 | 0.082722583 | 1.000000000 | 0.01666816 | 0.01604548 | 0.004979664 | 0.01788684 | 0.015020390 | 0.013956040 | 0.01272389 | 0.011573915 |\n",
       "| ENSG00000171840 | 0.016449170 | 0.016668163 | 1.00000000 | 0.13973255 | 0.010345402 | 0.02052182 | 0.016926274 | 0.013257508 | 0.01582615 | 0.009954466 |\n",
       "| ENSG00000060237 | 0.016300489 | 0.016045478 | 0.13973255 | 1.00000000 | 0.208445670 | 0.02714353 | 0.015065353 | 0.010928490 | 0.01447965 | 0.010851103 |\n",
       "| ENSG00000002016 | 0.007930999 | 0.004979664 | 0.01034540 | 0.20844567 | 1.000000000 | 0.02590133 | 0.015070122 | 0.007501334 | 0.01173014 | 0.006956180 |\n",
       "| ENSG00000082805 | 0.012623780 | 0.017886843 | 0.02052182 | 0.02714353 | 0.025901330 | 1.00000000 | 0.034333961 | 0.013125431 | 0.02150922 | 0.020115600 |\n",
       "\n"
      ],
      "text/plain": [
       "                ENSG00000120645 ENSG00000111181 ENSG00000171840 ENSG00000060237\n",
       "ENSG00000120645 1.000000000     0.082722583     0.01644917      0.01630049     \n",
       "ENSG00000111181 0.082722583     1.000000000     0.01666816      0.01604548     \n",
       "ENSG00000171840 0.016449170     0.016668163     1.00000000      0.13973255     \n",
       "ENSG00000060237 0.016300489     0.016045478     0.13973255      1.00000000     \n",
       "ENSG00000002016 0.007930999     0.004979664     0.01034540      0.20844567     \n",
       "ENSG00000082805 0.012623780     0.017886843     0.02052182      0.02714353     \n",
       "                ENSG00000002016 ENSG00000082805 ENSG00000111186 ENSG00000006831\n",
       "ENSG00000120645 0.007930999     0.01262378      0.009412586     0.013591059    \n",
       "ENSG00000111181 0.004979664     0.01788684      0.015020390     0.013956040    \n",
       "ENSG00000171840 0.010345402     0.02052182      0.016926274     0.013257508    \n",
       "ENSG00000060237 0.208445670     0.02714353      0.015065353     0.010928490    \n",
       "ENSG00000002016 1.000000000     0.02590133      0.015070122     0.007501334    \n",
       "ENSG00000082805 0.025901330     1.00000000      0.034333961     0.013125431    \n",
       "                ENSG00000151062 ENSG00000151065\n",
       "ENSG00000120645 0.01187203      0.011276547    \n",
       "ENSG00000111181 0.01272389      0.011573915    \n",
       "ENSG00000171840 0.01582615      0.009954466    \n",
       "ENSG00000060237 0.01447965      0.010851103    \n",
       "ENSG00000002016 0.01173014      0.006956180    \n",
       "ENSG00000082805 0.02150922      0.020115600    "
      ]
     },
     "metadata": {},
     "output_type": "display_data"
    },
    {
     "data": {
      "text/html": [
       "<table class=\"dataframe\">\n",
       "<caption>A data.frame: 6 × 10</caption>\n",
       "<thead>\n",
       "\t<tr><th></th><th scope=col>ENSG00000120645</th><th scope=col>ENSG00000111181</th><th scope=col>ENSG00000171840</th><th scope=col>ENSG00000060237</th><th scope=col>ENSG00000002016</th><th scope=col>ENSG00000082805</th><th scope=col>ENSG00000111186</th><th scope=col>ENSG00000006831</th><th scope=col>ENSG00000151062</th><th scope=col>ENSG00000151065</th></tr>\n",
       "\t<tr><th></th><th scope=col>&lt;dbl&gt;</th><th scope=col>&lt;dbl&gt;</th><th scope=col>&lt;dbl&gt;</th><th scope=col>&lt;dbl&gt;</th><th scope=col>&lt;dbl&gt;</th><th scope=col>&lt;dbl&gt;</th><th scope=col>&lt;dbl&gt;</th><th scope=col>&lt;dbl&gt;</th><th scope=col>&lt;dbl&gt;</th><th scope=col>&lt;dbl&gt;</th></tr>\n",
       "</thead>\n",
       "<tbody>\n",
       "\t<tr><th scope=row>ENSG00000120645</th><td>1.000000000</td><td>0.082722583</td><td>0.01644917</td><td>0.01630049</td><td>0.007930999</td><td>0.01262378</td><td>0.009412586</td><td>0.013591059</td><td>0.01187203</td><td>0.011276547</td></tr>\n",
       "\t<tr><th scope=row>ENSG00000111181</th><td>0.082722583</td><td>1.000000000</td><td>0.01666816</td><td>0.01604548</td><td>0.004979664</td><td>0.01788684</td><td>0.015020390</td><td>0.013956040</td><td>0.01272389</td><td>0.011573915</td></tr>\n",
       "\t<tr><th scope=row>ENSG00000171840</th><td>0.016449170</td><td>0.016668163</td><td>1.00000000</td><td>0.13973255</td><td>0.010345402</td><td>0.02052182</td><td>0.016926274</td><td>0.013257508</td><td>0.01582615</td><td>0.009954466</td></tr>\n",
       "\t<tr><th scope=row>ENSG00000060237</th><td>0.016300489</td><td>0.016045478</td><td>0.13973255</td><td>1.00000000</td><td>0.208445670</td><td>0.02714353</td><td>0.015065353</td><td>0.010928490</td><td>0.01447965</td><td>0.010851103</td></tr>\n",
       "\t<tr><th scope=row>ENSG00000002016</th><td>0.007930999</td><td>0.004979664</td><td>0.01034540</td><td>0.20844567</td><td>1.000000000</td><td>0.02590133</td><td>0.015070122</td><td>0.007501334</td><td>0.01173014</td><td>0.006956180</td></tr>\n",
       "\t<tr><th scope=row>ENSG00000082805</th><td>0.012623780</td><td>0.017886843</td><td>0.02052182</td><td>0.02714353</td><td>0.025901330</td><td>1.00000000</td><td>0.034333961</td><td>0.013125431</td><td>0.02150922</td><td>0.020115600</td></tr>\n",
       "</tbody>\n",
       "</table>\n"
      ],
      "text/latex": [
       "A data.frame: 6 × 10\n",
       "\\begin{tabular}{r|llllllllll}\n",
       "  & ENSG00000120645 & ENSG00000111181 & ENSG00000171840 & ENSG00000060237 & ENSG00000002016 & ENSG00000082805 & ENSG00000111186 & ENSG00000006831 & ENSG00000151062 & ENSG00000151065\\\\\n",
       "  & <dbl> & <dbl> & <dbl> & <dbl> & <dbl> & <dbl> & <dbl> & <dbl> & <dbl> & <dbl>\\\\\n",
       "\\hline\n",
       "\tENSG00000120645 & 1.000000000 & 0.082722583 & 0.01644917 & 0.01630049 & 0.007930999 & 0.01262378 & 0.009412586 & 0.013591059 & 0.01187203 & 0.011276547\\\\\n",
       "\tENSG00000111181 & 0.082722583 & 1.000000000 & 0.01666816 & 0.01604548 & 0.004979664 & 0.01788684 & 0.015020390 & 0.013956040 & 0.01272389 & 0.011573915\\\\\n",
       "\tENSG00000171840 & 0.016449170 & 0.016668163 & 1.00000000 & 0.13973255 & 0.010345402 & 0.02052182 & 0.016926274 & 0.013257508 & 0.01582615 & 0.009954466\\\\\n",
       "\tENSG00000060237 & 0.016300489 & 0.016045478 & 0.13973255 & 1.00000000 & 0.208445670 & 0.02714353 & 0.015065353 & 0.010928490 & 0.01447965 & 0.010851103\\\\\n",
       "\tENSG00000002016 & 0.007930999 & 0.004979664 & 0.01034540 & 0.20844567 & 1.000000000 & 0.02590133 & 0.015070122 & 0.007501334 & 0.01173014 & 0.006956180\\\\\n",
       "\tENSG00000082805 & 0.012623780 & 0.017886843 & 0.02052182 & 0.02714353 & 0.025901330 & 1.00000000 & 0.034333961 & 0.013125431 & 0.02150922 & 0.020115600\\\\\n",
       "\\end{tabular}\n"
      ],
      "text/markdown": [
       "\n",
       "A data.frame: 6 × 10\n",
       "\n",
       "| <!--/--> | ENSG00000120645 &lt;dbl&gt; | ENSG00000111181 &lt;dbl&gt; | ENSG00000171840 &lt;dbl&gt; | ENSG00000060237 &lt;dbl&gt; | ENSG00000002016 &lt;dbl&gt; | ENSG00000082805 &lt;dbl&gt; | ENSG00000111186 &lt;dbl&gt; | ENSG00000006831 &lt;dbl&gt; | ENSG00000151062 &lt;dbl&gt; | ENSG00000151065 &lt;dbl&gt; |\n",
       "|---|---|---|---|---|---|---|---|---|---|---|\n",
       "| ENSG00000120645 | 1.000000000 | 0.082722583 | 0.01644917 | 0.01630049 | 0.007930999 | 0.01262378 | 0.009412586 | 0.013591059 | 0.01187203 | 0.011276547 |\n",
       "| ENSG00000111181 | 0.082722583 | 1.000000000 | 0.01666816 | 0.01604548 | 0.004979664 | 0.01788684 | 0.015020390 | 0.013956040 | 0.01272389 | 0.011573915 |\n",
       "| ENSG00000171840 | 0.016449170 | 0.016668163 | 1.00000000 | 0.13973255 | 0.010345402 | 0.02052182 | 0.016926274 | 0.013257508 | 0.01582615 | 0.009954466 |\n",
       "| ENSG00000060237 | 0.016300489 | 0.016045478 | 0.13973255 | 1.00000000 | 0.208445670 | 0.02714353 | 0.015065353 | 0.010928490 | 0.01447965 | 0.010851103 |\n",
       "| ENSG00000002016 | 0.007930999 | 0.004979664 | 0.01034540 | 0.20844567 | 1.000000000 | 0.02590133 | 0.015070122 | 0.007501334 | 0.01173014 | 0.006956180 |\n",
       "| ENSG00000082805 | 0.012623780 | 0.017886843 | 0.02052182 | 0.02714353 | 0.025901330 | 1.00000000 | 0.034333961 | 0.013125431 | 0.02150922 | 0.020115600 |\n",
       "\n"
      ],
      "text/plain": [
       "                ENSG00000120645 ENSG00000111181 ENSG00000171840 ENSG00000060237\n",
       "ENSG00000120645 1.000000000     0.082722583     0.01644917      0.01630049     \n",
       "ENSG00000111181 0.082722583     1.000000000     0.01666816      0.01604548     \n",
       "ENSG00000171840 0.016449170     0.016668163     1.00000000      0.13973255     \n",
       "ENSG00000060237 0.016300489     0.016045478     0.13973255      1.00000000     \n",
       "ENSG00000002016 0.007930999     0.004979664     0.01034540      0.20844567     \n",
       "ENSG00000082805 0.012623780     0.017886843     0.02052182      0.02714353     \n",
       "                ENSG00000002016 ENSG00000082805 ENSG00000111186 ENSG00000006831\n",
       "ENSG00000120645 0.007930999     0.01262378      0.009412586     0.013591059    \n",
       "ENSG00000111181 0.004979664     0.01788684      0.015020390     0.013956040    \n",
       "ENSG00000171840 0.010345402     0.02052182      0.016926274     0.013257508    \n",
       "ENSG00000060237 0.208445670     0.02714353      0.015065353     0.010928490    \n",
       "ENSG00000002016 1.000000000     0.02590133      0.015070122     0.007501334    \n",
       "ENSG00000082805 0.025901330     1.00000000      0.034333961     0.013125431    \n",
       "                ENSG00000151062 ENSG00000151065\n",
       "ENSG00000120645 0.01187203      0.011276547    \n",
       "ENSG00000111181 0.01272389      0.011573915    \n",
       "ENSG00000171840 0.01582615      0.009954466    \n",
       "ENSG00000060237 0.01447965      0.010851103    \n",
       "ENSG00000002016 0.01173014      0.006956180    \n",
       "ENSG00000082805 0.02150922      0.020115600    "
      ]
     },
     "metadata": {},
     "output_type": "display_data"
    }
   ],
   "source": [
    "if (orig_matrix_is_positive_definite) {\n",
    "  IRdisplay::display(\"Matrix is already positive definite!\")\n",
    "  file.copy(INPUT_FILE, OUTPUT_FILE)\n",
    "} else {\n",
    "  IRdisplay::display(\"We need to correct the data and make the matrix positive definite\")\n",
    "\n",
    "  eigenvalues <- eigen(gene_corrs)$values\n",
    "  nonpositive_eigenvalues <- eigenvalues[eigenvalues <= 0]\n",
    "  IRdisplay::display(length(nonpositive_eigenvalues))\n",
    "  IRdisplay::display(nonpositive_eigenvalues)\n",
    "\n",
    "  # Make matrix positive definite\n",
    "  gene_corrs_corrected <- CorrectCM(gene_corrs, 1e-10)\n",
    "  dimnames(gene_corrs_corrected)[[1]] <- rownames(gene_corrs)\n",
    "  dimnames(gene_corrs_corrected)[[2]] <- colnames(gene_corrs)\n",
    "  gene_corrs_corrected <- as.data.frame(gene_corrs_corrected)\n",
    "\n",
    "  # check if new matrix is really positive definite\n",
    "  matrix_is_positive_definite <- is_positive_definite(gene_corrs_corrected)\n",
    "  if (matrix_is_positive_definite) {\n",
    "    IRdisplay::display(\"It worked!\")\n",
    "    IRdisplay::display(head(gene_corrs[1:10, 1:10]))\n",
    "    IRdisplay::display(head(gene_corrs_corrected[1:10, 1:10]))\n",
    "    py_save_object(gene_corrs_corrected, OUTPUT_FILE)\n",
    "  } else {\n",
    "    eigenvalues <- eigen(gene_corrs_corrected)$values\n",
    "    nonpositive_eigenvalues <- eigenvalues[eigenvalues <= 0]\n",
    "    IRdisplay::display(length(nonpositive_eigenvalues))\n",
    "    IRdisplay::display(nonpositive_eigenvalues)\n",
    "\n",
    "    stop(\"Method failed to adjust matrix\")\n",
    "  }\n",
    "}"
   ]
  },
  {
   "cell_type": "markdown",
   "id": "6c196700-7491-462f-bab8-ab9d40c63499",
   "metadata": {
    "papermill": {
     "duration": 0.010666,
     "end_time": "2022-07-11T13:17:50.091965",
     "exception": false,
     "start_time": "2022-07-11T13:17:50.081299",
     "status": "completed"
    },
    "tags": []
   },
   "source": [
    "Both matrices should \"look\" similar. We are not interested in perfectly accurate correlation values (they are already inaccurate)."
   ]
  },
  {
   "cell_type": "code",
   "execution_count": null,
   "id": "d8ae4220-2171-460c-9231-cd5219f3fe77",
   "metadata": {
    "papermill": {
     "duration": 0.012301,
     "end_time": "2022-07-11T13:17:50.112033",
     "exception": false,
     "start_time": "2022-07-11T13:17:50.099732",
     "status": "completed"
    },
    "tags": []
   },
   "outputs": [],
   "source": []
  }
 ],
 "metadata": {
  "jupytext": {
   "cell_metadata_filter": "all,-execution,-papermill,-trusted"
  },
  "kernelspec": {
   "display_name": "R",
   "language": "R",
   "name": "ir"
  },
  "language_info": {
   "codemirror_mode": "r",
   "file_extension": ".r",
   "mimetype": "text/x-r-source",
   "name": "R",
   "pygments_lexer": "r",
   "version": "3.6.3"
  },
  "papermill": {
   "default_parameters": {},
   "duration": 5.651632,
   "end_time": "2022-07-11T13:17:50.234637",
   "environment_variables": {},
   "exception": null,
   "input_path": "nbs/15_gsa_gls/12-gene_expr_correlations-adjust.ipynb",
   "output_path": "nbs/15_gsa_gls/gene_corrs/1000g/mashr/12-gene_expr_correlations-adjust-chr12.run.ipynb",
   "parameters": {
    "EQTL_MODEL": "MASHR",
    "REFERENCE_PANEL": "1000G",
    "chromosome": 12
   },
   "start_time": "2022-07-11T13:17:44.583005",
   "version": "2.3.4"
  }
 },
 "nbformat": 4,
 "nbformat_minor": 5
}
