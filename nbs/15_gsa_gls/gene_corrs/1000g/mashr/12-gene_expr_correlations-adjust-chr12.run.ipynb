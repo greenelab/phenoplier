{
 "cells": [
  {
   "cell_type": "markdown",
   "id": "28fc82fa-c3f6-4184-8054-cc91c7c6e2e7",
   "metadata": {
    "papermill": {
     "duration": 0.003571,
     "end_time": "2022-07-12T13:07:22.075615",
     "exception": false,
     "start_time": "2022-07-12T13:07:22.072044",
     "status": "completed"
    },
    "tags": []
   },
   "source": [
    "# Description"
   ]
  },
  {
   "cell_type": "markdown",
   "id": "36839b17-916e-4aec-8fee-96faf1097e78",
   "metadata": {
    "papermill": {
     "duration": 0.002982,
     "end_time": "2022-07-12T13:07:22.081672",
     "exception": false,
     "start_time": "2022-07-12T13:07:22.078690",
     "status": "completed"
    },
    "tags": []
   },
   "source": [
    "**TODO**"
   ]
  },
  {
   "cell_type": "markdown",
   "id": "249e8aa3-ef1a-4bba-a6dd-58120ad80794",
   "metadata": {
    "papermill": {
     "duration": 0.002906,
     "end_time": "2022-07-12T13:07:22.087787",
     "exception": false,
     "start_time": "2022-07-12T13:07:22.084881",
     "status": "completed"
    },
    "tags": []
   },
   "source": [
    "# Modules"
   ]
  },
  {
   "cell_type": "code",
   "execution_count": 1,
   "id": "f9b5022b-7c5e-4d37-9c7a-fdb91777c7f9",
   "metadata": {
    "execution": {
     "iopub.execute_input": "2022-07-12T13:07:22.096666Z",
     "iopub.status.busy": "2022-07-12T13:07:22.095072Z",
     "iopub.status.idle": "2022-07-12T13:07:25.502764Z",
     "shell.execute_reply": "2022-07-12T13:07:25.501532Z"
    },
    "papermill": {
     "duration": 3.413663,
     "end_time": "2022-07-12T13:07:25.504480",
     "exception": false,
     "start_time": "2022-07-12T13:07:22.090817",
     "status": "completed"
    },
    "tags": []
   },
   "outputs": [],
   "source": [
    "library(reticulate)\n",
    "pd <- import(\"pandas\")"
   ]
  },
  {
   "cell_type": "markdown",
   "id": "69e80173-3a39-4b6a-b723-602687cb255b",
   "metadata": {
    "papermill": {
     "duration": 0.003492,
     "end_time": "2022-07-12T13:07:25.511533",
     "exception": false,
     "start_time": "2022-07-12T13:07:25.508041",
     "status": "completed"
    },
    "tags": []
   },
   "source": [
    "# Settings"
   ]
  },
  {
   "cell_type": "code",
   "execution_count": 2,
   "id": "22d12bb4-1699-4a6b-b1b9-d3fdd3d547d7",
   "metadata": {
    "execution": {
     "iopub.execute_input": "2022-07-12T13:07:25.542628Z",
     "iopub.status.busy": "2022-07-12T13:07:25.519841Z",
     "iopub.status.idle": "2022-07-12T13:07:25.555055Z",
     "shell.execute_reply": "2022-07-12T13:07:25.553789Z"
    },
    "papermill": {
     "duration": 0.041624,
     "end_time": "2022-07-12T13:07:25.556817",
     "exception": false,
     "start_time": "2022-07-12T13:07:25.515193",
     "status": "completed"
    },
    "tags": [
     "parameters"
    ]
   },
   "outputs": [],
   "source": [
    "# reference panel\n",
    "REFERENCE_PANEL <- \"GTEX_V8\"\n",
    "# REFERENCE_PANEL = \"1000G\"\n",
    "\n",
    "# prediction models\n",
    "## mashr\n",
    "EQTL_MODEL <- \"MASHR\"\n",
    "\n",
    "chromosome <- NULL"
   ]
  },
  {
   "cell_type": "code",
   "execution_count": 3,
   "id": "527b38d1",
   "metadata": {
    "execution": {
     "iopub.execute_input": "2022-07-12T13:07:25.566413Z",
     "iopub.status.busy": "2022-07-12T13:07:25.565306Z",
     "iopub.status.idle": "2022-07-12T13:07:25.582873Z",
     "shell.execute_reply": "2022-07-12T13:07:25.581656Z"
    },
    "papermill": {
     "duration": 0.024097,
     "end_time": "2022-07-12T13:07:25.584619",
     "exception": false,
     "start_time": "2022-07-12T13:07:25.560522",
     "status": "completed"
    },
    "tags": [
     "injected-parameters"
    ]
   },
   "outputs": [],
   "source": [
    "# Parameters\n",
    "chromosome = 12\n",
    "REFERENCE_PANEL = \"1000G\"\n",
    "EQTL_MODEL = \"MASHR\"\n"
   ]
  },
  {
   "cell_type": "code",
   "execution_count": 4,
   "id": "8fe24bef",
   "metadata": {
    "execution": {
     "iopub.execute_input": "2022-07-12T13:07:25.593704Z",
     "iopub.status.busy": "2022-07-12T13:07:25.592679Z",
     "iopub.status.idle": "2022-07-12T13:07:25.604966Z",
     "shell.execute_reply": "2022-07-12T13:07:25.603812Z"
    },
    "papermill": {
     "duration": 0.01836,
     "end_time": "2022-07-12T13:07:25.606573",
     "exception": false,
     "start_time": "2022-07-12T13:07:25.588213",
     "status": "completed"
    },
    "tags": []
   },
   "outputs": [
    {
     "data": {
      "text/html": [
       "'Using reference panel: 1000G'"
      ],
      "text/latex": [
       "'Using reference panel: 1000G'"
      ],
      "text/markdown": [
       "'Using reference panel: 1000G'"
      ],
      "text/plain": [
       "[1] \"Using reference panel: 1000G\""
      ]
     },
     "metadata": {},
     "output_type": "display_data"
    }
   ],
   "source": [
    "paste0(\"Using reference panel: \", REFERENCE_PANEL)"
   ]
  },
  {
   "cell_type": "code",
   "execution_count": 5,
   "id": "d62c28f8-186c-478b-948c-58e14f00df4b",
   "metadata": {
    "execution": {
     "iopub.execute_input": "2022-07-12T13:07:25.615696Z",
     "iopub.status.busy": "2022-07-12T13:07:25.614691Z",
     "iopub.status.idle": "2022-07-12T13:07:25.625898Z",
     "shell.execute_reply": "2022-07-12T13:07:25.624550Z"
    },
    "papermill": {
     "duration": 0.017527,
     "end_time": "2022-07-12T13:07:25.627836",
     "exception": false,
     "start_time": "2022-07-12T13:07:25.610309",
     "status": "completed"
    },
    "tags": []
   },
   "outputs": [
    {
     "data": {
      "text/html": [
       "'Using eQTL model: MASHR'"
      ],
      "text/latex": [
       "'Using eQTL model: MASHR'"
      ],
      "text/markdown": [
       "'Using eQTL model: MASHR'"
      ],
      "text/plain": [
       "[1] \"Using eQTL model: MASHR\""
      ]
     },
     "metadata": {},
     "output_type": "display_data"
    }
   ],
   "source": [
    "paste0(\"Using eQTL model: \", EQTL_MODEL)"
   ]
  },
  {
   "cell_type": "code",
   "execution_count": 6,
   "id": "5243676f-c889-4405-9a4d-262f0f044614",
   "metadata": {
    "execution": {
     "iopub.execute_input": "2022-07-12T13:07:25.638261Z",
     "iopub.status.busy": "2022-07-12T13:07:25.637129Z",
     "iopub.status.idle": "2022-07-12T13:07:25.647293Z",
     "shell.execute_reply": "2022-07-12T13:07:25.645954Z"
    },
    "papermill": {
     "duration": 0.017242,
     "end_time": "2022-07-12T13:07:25.649176",
     "exception": false,
     "start_time": "2022-07-12T13:07:25.631934",
     "status": "completed"
    },
    "tags": []
   },
   "outputs": [],
   "source": [
    "# chromosome must be provided as parameter\n",
    "stopifnot(!is.null(chromosome))"
   ]
  },
  {
   "cell_type": "markdown",
   "id": "c05e4d34-e115-48cd-8a2e-225109eb0042",
   "metadata": {
    "papermill": {
     "duration": 0.004071,
     "end_time": "2022-07-12T13:07:25.657391",
     "exception": false,
     "start_time": "2022-07-12T13:07:25.653320",
     "status": "completed"
    },
    "tags": []
   },
   "source": [
    "# Paths"
   ]
  },
  {
   "cell_type": "code",
   "execution_count": 7,
   "id": "eb6aa8aa-b452-4a2f-a780-93dd80ad4285",
   "metadata": {
    "execution": {
     "iopub.execute_input": "2022-07-12T13:07:25.667740Z",
     "iopub.status.busy": "2022-07-12T13:07:25.666620Z",
     "iopub.status.idle": "2022-07-12T13:07:25.680644Z",
     "shell.execute_reply": "2022-07-12T13:07:25.679318Z"
    },
    "papermill": {
     "duration": 0.021,
     "end_time": "2022-07-12T13:07:25.682539",
     "exception": false,
     "start_time": "2022-07-12T13:07:25.661539",
     "status": "completed"
    },
    "tags": []
   },
   "outputs": [
    {
     "data": {
      "text/html": [
       "'/opt/data/data/phenomexcan/ld_blocks/gene_corrs'"
      ],
      "text/latex": [
       "'/opt/data/data/phenomexcan/ld\\_blocks/gene\\_corrs'"
      ],
      "text/markdown": [
       "'/opt/data/data/phenomexcan/ld_blocks/gene_corrs'"
      ],
      "text/plain": [
       "[1] \"/opt/data/data/phenomexcan/ld_blocks/gene_corrs\""
      ]
     },
     "metadata": {},
     "output_type": "display_data"
    }
   ],
   "source": [
    "GENE_CORRS_DIR <- Sys.getenv(\"PHENOPLIER_PHENOMEXCAN_LD_BLOCKS_GENE_CORRS_DIR\")\n",
    "IRdisplay::display(GENE_CORRS_DIR)"
   ]
  },
  {
   "cell_type": "code",
   "execution_count": 8,
   "id": "eb24f15f-f282-4476-8943-8413c4483f12",
   "metadata": {
    "execution": {
     "iopub.execute_input": "2022-07-12T13:07:25.693370Z",
     "iopub.status.busy": "2022-07-12T13:07:25.692229Z",
     "iopub.status.idle": "2022-07-12T13:07:25.706021Z",
     "shell.execute_reply": "2022-07-12T13:07:25.704712Z"
    },
    "papermill": {
     "duration": 0.021043,
     "end_time": "2022-07-12T13:07:25.707841",
     "exception": false,
     "start_time": "2022-07-12T13:07:25.686798",
     "status": "completed"
    },
    "tags": []
   },
   "outputs": [
    {
     "data": {
      "text/html": [
       "'/opt/data/data/phenomexcan/ld_blocks/gene_corrs/1000g/mashr/by_chr'"
      ],
      "text/latex": [
       "'/opt/data/data/phenomexcan/ld\\_blocks/gene\\_corrs/1000g/mashr/by\\_chr'"
      ],
      "text/markdown": [
       "'/opt/data/data/phenomexcan/ld_blocks/gene_corrs/1000g/mashr/by_chr'"
      ],
      "text/plain": [
       "[1] \"/opt/data/data/phenomexcan/ld_blocks/gene_corrs/1000g/mashr/by_chr\""
      ]
     },
     "metadata": {},
     "output_type": "display_data"
    }
   ],
   "source": [
    "INPUT_DIR <- file.path(GENE_CORRS_DIR, tolower(REFERENCE_PANEL), tolower(EQTL_MODEL), \"by_chr\")\n",
    "IRdisplay::display(INPUT_DIR)"
   ]
  },
  {
   "cell_type": "code",
   "execution_count": 9,
   "id": "43c1daba-0da9-4822-8d1e-968e9767e251",
   "metadata": {
    "execution": {
     "iopub.execute_input": "2022-07-12T13:07:25.718780Z",
     "iopub.status.busy": "2022-07-12T13:07:25.717686Z",
     "iopub.status.idle": "2022-07-12T13:07:25.732525Z",
     "shell.execute_reply": "2022-07-12T13:07:25.731253Z"
    },
    "papermill": {
     "duration": 0.021898,
     "end_time": "2022-07-12T13:07:25.734332",
     "exception": false,
     "start_time": "2022-07-12T13:07:25.712434",
     "status": "completed"
    },
    "tags": []
   },
   "outputs": [
    {
     "data": {
      "text/html": [
       "'/opt/data/data/phenomexcan/ld_blocks/gene_corrs/1000g/mashr/by_chr/gene_corrs-chr12.pkl'"
      ],
      "text/latex": [
       "'/opt/data/data/phenomexcan/ld\\_blocks/gene\\_corrs/1000g/mashr/by\\_chr/gene\\_corrs-chr12.pkl'"
      ],
      "text/markdown": [
       "'/opt/data/data/phenomexcan/ld_blocks/gene_corrs/1000g/mashr/by_chr/gene_corrs-chr12.pkl'"
      ],
      "text/plain": [
       "[1] \"/opt/data/data/phenomexcan/ld_blocks/gene_corrs/1000g/mashr/by_chr/gene_corrs-chr12.pkl\""
      ]
     },
     "metadata": {},
     "output_type": "display_data"
    }
   ],
   "source": [
    "INPUT_FILE <- file.path(INPUT_DIR, paste0(\"gene_corrs-chr\", chromosome, \".pkl\"))\n",
    "IRdisplay::display(INPUT_FILE)\n",
    "stopifnot(file.exists(INPUT_FILE))"
   ]
  },
  {
   "cell_type": "code",
   "execution_count": 10,
   "id": "72386fbf-982b-420a-9057-ea9a97a5e571",
   "metadata": {
    "execution": {
     "iopub.execute_input": "2022-07-12T13:07:25.745267Z",
     "iopub.status.busy": "2022-07-12T13:07:25.744175Z",
     "iopub.status.idle": "2022-07-12T13:07:25.758842Z",
     "shell.execute_reply": "2022-07-12T13:07:25.757603Z"
    },
    "papermill": {
     "duration": 0.021805,
     "end_time": "2022-07-12T13:07:25.760597",
     "exception": false,
     "start_time": "2022-07-12T13:07:25.738792",
     "status": "completed"
    },
    "tags": []
   },
   "outputs": [
    {
     "data": {
      "text/html": [
       "'/opt/data/data/phenomexcan/ld_blocks/gene_corrs/1000g/mashr/by_chr/corrected_positive_definite'"
      ],
      "text/latex": [
       "'/opt/data/data/phenomexcan/ld\\_blocks/gene\\_corrs/1000g/mashr/by\\_chr/corrected\\_positive\\_definite'"
      ],
      "text/markdown": [
       "'/opt/data/data/phenomexcan/ld_blocks/gene_corrs/1000g/mashr/by_chr/corrected_positive_definite'"
      ],
      "text/plain": [
       "[1] \"/opt/data/data/phenomexcan/ld_blocks/gene_corrs/1000g/mashr/by_chr/corrected_positive_definite\""
      ]
     },
     "metadata": {},
     "output_type": "display_data"
    }
   ],
   "source": [
    "OUTPUT_DIR <- file.path(INPUT_DIR, \"corrected_positive_definite\")\n",
    "IRdisplay::display(OUTPUT_DIR)\n",
    "dir.create(OUTPUT_DIR, recursive = TRUE, showWarnings = FALSE)"
   ]
  },
  {
   "cell_type": "code",
   "execution_count": 11,
   "id": "f9f19d1d-ce4c-4099-a26e-250fec751de7",
   "metadata": {
    "execution": {
     "iopub.execute_input": "2022-07-12T13:07:25.771199Z",
     "iopub.status.busy": "2022-07-12T13:07:25.770190Z",
     "iopub.status.idle": "2022-07-12T13:07:25.784104Z",
     "shell.execute_reply": "2022-07-12T13:07:25.782934Z"
    },
    "papermill": {
     "duration": 0.020727,
     "end_time": "2022-07-12T13:07:25.785768",
     "exception": false,
     "start_time": "2022-07-12T13:07:25.765041",
     "status": "completed"
    },
    "tags": []
   },
   "outputs": [
    {
     "data": {
      "text/html": [
       "'/opt/data/data/phenomexcan/ld_blocks/gene_corrs/1000g/mashr/by_chr/corrected_positive_definite/gene_corrs-chr12.pkl'"
      ],
      "text/latex": [
       "'/opt/data/data/phenomexcan/ld\\_blocks/gene\\_corrs/1000g/mashr/by\\_chr/corrected\\_positive\\_definite/gene\\_corrs-chr12.pkl'"
      ],
      "text/markdown": [
       "'/opt/data/data/phenomexcan/ld_blocks/gene_corrs/1000g/mashr/by_chr/corrected_positive_definite/gene_corrs-chr12.pkl'"
      ],
      "text/plain": [
       "[1] \"/opt/data/data/phenomexcan/ld_blocks/gene_corrs/1000g/mashr/by_chr/corrected_positive_definite/gene_corrs-chr12.pkl\""
      ]
     },
     "metadata": {},
     "output_type": "display_data"
    }
   ],
   "source": [
    "OUTPUT_FILE <- file.path(OUTPUT_DIR, paste0(\"gene_corrs-chr\", chromosome, \".pkl\"))\n",
    "IRdisplay::display(OUTPUT_FILE)\n",
    "if (file.exists(OUTPUT_FILE)) {\n",
    "  IRdisplay::display(\"Output file exists, it will be overwritten\")\n",
    "}"
   ]
  },
  {
   "cell_type": "markdown",
   "id": "24973e62-e888-4b56-843f-489d8d0762b5",
   "metadata": {
    "papermill": {
     "duration": 0.00398,
     "end_time": "2022-07-12T13:07:25.793928",
     "exception": false,
     "start_time": "2022-07-12T13:07:25.789948",
     "status": "completed"
    },
    "tags": []
   },
   "source": [
    "# Functions"
   ]
  },
  {
   "cell_type": "code",
   "execution_count": 12,
   "id": "f828f081-7358-4cc8-8a89-1ee293bcc1a7",
   "metadata": {
    "execution": {
     "iopub.execute_input": "2022-07-12T13:07:25.807088Z",
     "iopub.status.busy": "2022-07-12T13:07:25.803079Z",
     "iopub.status.idle": "2022-07-12T13:07:25.815292Z",
     "shell.execute_reply": "2022-07-12T13:07:25.814152Z"
    },
    "papermill": {
     "duration": 0.018948,
     "end_time": "2022-07-12T13:07:25.816972",
     "exception": false,
     "start_time": "2022-07-12T13:07:25.798024",
     "status": "completed"
    },
    "tags": []
   },
   "outputs": [],
   "source": [
    "# taken from https://www.r-bloggers.com/2013/08/correcting-a-pseudo-correlation-matrix-to-be-positive-semidefinite/\n",
    "# TODO: add documentation\n",
    "CorrectCM <- function(CM, p = 0) {\n",
    "  n <- dim(var(CM))[1L]\n",
    "  E <- eigen(CM)\n",
    "  CM1 <- E$vectors %*% tcrossprod(diag(pmax(E$values, p), n), E$vectors)\n",
    "  Balance <- diag(1 / sqrt(diag(CM1)))\n",
    "  CM2 <- Balance %*% CM1 %*% Balance\n",
    "  return(CM2)\n",
    "}"
   ]
  },
  {
   "cell_type": "code",
   "execution_count": 13,
   "id": "7ab9bebf-50a1-4e6f-b16a-e23cae93d02a",
   "metadata": {
    "execution": {
     "iopub.execute_input": "2022-07-12T13:07:25.827368Z",
     "iopub.status.busy": "2022-07-12T13:07:25.826321Z",
     "iopub.status.idle": "2022-07-12T13:07:25.835083Z",
     "shell.execute_reply": "2022-07-12T13:07:25.833934Z"
    },
    "papermill": {
     "duration": 0.015506,
     "end_time": "2022-07-12T13:07:25.836704",
     "exception": false,
     "start_time": "2022-07-12T13:07:25.821198",
     "status": "completed"
    },
    "tags": []
   },
   "outputs": [],
   "source": [
    "is_positive_definite <- function(data) {\n",
    "  # eigenvalues <- eigen(data)$values\n",
    "  # nonpositive_eigenvalues <- eigenvalues[eigenvalues <= 0]\n",
    "\n",
    "  cholStatus <- try(u <- chol(data), silent = FALSE)\n",
    "  cholError <- ifelse(class(cholStatus) == \"try-error\", TRUE, FALSE)\n",
    "\n",
    "  if (cholError) {\n",
    "    return(FALSE)\n",
    "  } else {\n",
    "    return(TRUE)\n",
    "  }\n",
    "}"
   ]
  },
  {
   "cell_type": "markdown",
   "id": "7403fd78-00b2-4941-9c07-3c3af1ddc636",
   "metadata": {
    "papermill": {
     "duration": 0.003938,
     "end_time": "2022-07-12T13:07:25.845401",
     "exception": false,
     "start_time": "2022-07-12T13:07:25.841463",
     "status": "completed"
    },
    "tags": []
   },
   "source": [
    "# Load data"
   ]
  },
  {
   "cell_type": "code",
   "execution_count": 14,
   "id": "3a7744e1-2e5a-450e-9dcf-945ec181347d",
   "metadata": {
    "execution": {
     "iopub.execute_input": "2022-07-12T13:07:25.855145Z",
     "iopub.status.busy": "2022-07-12T13:07:25.854162Z",
     "iopub.status.idle": "2022-07-12T13:07:25.917565Z",
     "shell.execute_reply": "2022-07-12T13:07:25.916189Z"
    },
    "papermill": {
     "duration": 0.070536,
     "end_time": "2022-07-12T13:07:25.919903",
     "exception": false,
     "start_time": "2022-07-12T13:07:25.849367",
     "status": "completed"
    },
    "tags": []
   },
   "outputs": [],
   "source": [
    "gene_corrs <- pd$read_pickle(INPUT_FILE)"
   ]
  },
  {
   "cell_type": "code",
   "execution_count": 15,
   "id": "6fb150b2-4c68-4e9b-9aa5-1890d3f762e3",
   "metadata": {
    "execution": {
     "iopub.execute_input": "2022-07-12T13:07:25.932341Z",
     "iopub.status.busy": "2022-07-12T13:07:25.931047Z",
     "iopub.status.idle": "2022-07-12T13:07:25.947563Z",
     "shell.execute_reply": "2022-07-12T13:07:25.945457Z"
    },
    "papermill": {
     "duration": 0.024145,
     "end_time": "2022-07-12T13:07:25.949348",
     "exception": false,
     "start_time": "2022-07-12T13:07:25.925203",
     "status": "completed"
    },
    "tags": []
   },
   "outputs": [
    {
     "data": {
      "text/html": [
       "<style>\n",
       ".list-inline {list-style: none; margin:0; padding: 0}\n",
       ".list-inline>li {display: inline-block}\n",
       ".list-inline>li:not(:last-child)::after {content: \"\\00b7\"; padding: 0 .5ex}\n",
       "</style>\n",
       "<ol class=list-inline><li>389</li><li>389</li></ol>\n"
      ],
      "text/latex": [
       "\\begin{enumerate*}\n",
       "\\item 389\n",
       "\\item 389\n",
       "\\end{enumerate*}\n"
      ],
      "text/markdown": [
       "1. 389\n",
       "2. 389\n",
       "\n",
       "\n"
      ],
      "text/plain": [
       "[1] 389 389"
      ]
     },
     "metadata": {},
     "output_type": "display_data"
    }
   ],
   "source": [
    "dim(gene_corrs)"
   ]
  },
  {
   "cell_type": "code",
   "execution_count": 16,
   "id": "0d4e53b5-7586-4a68-8ce5-d930d74ba943",
   "metadata": {
    "execution": {
     "iopub.execute_input": "2022-07-12T13:07:25.961363Z",
     "iopub.status.busy": "2022-07-12T13:07:25.960327Z",
     "iopub.status.idle": "2022-07-12T13:07:25.981301Z",
     "shell.execute_reply": "2022-07-12T13:07:25.980080Z"
    },
    "papermill": {
     "duration": 0.028438,
     "end_time": "2022-07-12T13:07:25.983013",
     "exception": false,
     "start_time": "2022-07-12T13:07:25.954575",
     "status": "completed"
    },
    "tags": []
   },
   "outputs": [
    {
     "data": {
      "text/html": [
       "<table class=\"dataframe\">\n",
       "<caption>A data.frame: 6 × 10</caption>\n",
       "<thead>\n",
       "\t<tr><th></th><th scope=col>ENSG00000120645</th><th scope=col>ENSG00000111181</th><th scope=col>ENSG00000171840</th><th scope=col>ENSG00000060237</th><th scope=col>ENSG00000002016</th><th scope=col>ENSG00000082805</th><th scope=col>ENSG00000111186</th><th scope=col>ENSG00000006831</th><th scope=col>ENSG00000151062</th><th scope=col>ENSG00000151065</th></tr>\n",
       "\t<tr><th></th><th scope=col>&lt;dbl&gt;</th><th scope=col>&lt;dbl&gt;</th><th scope=col>&lt;dbl&gt;</th><th scope=col>&lt;dbl&gt;</th><th scope=col>&lt;dbl&gt;</th><th scope=col>&lt;dbl&gt;</th><th scope=col>&lt;dbl&gt;</th><th scope=col>&lt;dbl&gt;</th><th scope=col>&lt;dbl&gt;</th><th scope=col>&lt;dbl&gt;</th></tr>\n",
       "</thead>\n",
       "<tbody>\n",
       "\t<tr><th scope=row>ENSG00000120645</th><td>1.000000000</td><td>0.082722583</td><td>0.01644917</td><td>0.01630049</td><td>0.007930999</td><td>0.01262378</td><td>0.009412586</td><td>0.013591059</td><td>0.01187203</td><td>0.011276547</td></tr>\n",
       "\t<tr><th scope=row>ENSG00000111181</th><td>0.082722583</td><td>1.000000000</td><td>0.01666816</td><td>0.01604548</td><td>0.004979664</td><td>0.01788684</td><td>0.015020390</td><td>0.013956040</td><td>0.01272389</td><td>0.011573915</td></tr>\n",
       "\t<tr><th scope=row>ENSG00000171840</th><td>0.016449170</td><td>0.016668163</td><td>1.00000000</td><td>0.13973255</td><td>0.010345402</td><td>0.02052182</td><td>0.016926274</td><td>0.013257508</td><td>0.01582615</td><td>0.009954466</td></tr>\n",
       "\t<tr><th scope=row>ENSG00000060237</th><td>0.016300489</td><td>0.016045478</td><td>0.13973255</td><td>1.00000000</td><td>0.208445670</td><td>0.02714353</td><td>0.015065353</td><td>0.010928490</td><td>0.01447965</td><td>0.010851103</td></tr>\n",
       "\t<tr><th scope=row>ENSG00000002016</th><td>0.007930999</td><td>0.004979664</td><td>0.01034540</td><td>0.20844567</td><td>1.000000000</td><td>0.02590133</td><td>0.015070122</td><td>0.007501334</td><td>0.01173014</td><td>0.006956180</td></tr>\n",
       "\t<tr><th scope=row>ENSG00000082805</th><td>0.012623780</td><td>0.017886843</td><td>0.02052182</td><td>0.02714353</td><td>0.025901330</td><td>1.00000000</td><td>0.034333961</td><td>0.013125431</td><td>0.02150922</td><td>0.020115600</td></tr>\n",
       "</tbody>\n",
       "</table>\n"
      ],
      "text/latex": [
       "A data.frame: 6 × 10\n",
       "\\begin{tabular}{r|llllllllll}\n",
       "  & ENSG00000120645 & ENSG00000111181 & ENSG00000171840 & ENSG00000060237 & ENSG00000002016 & ENSG00000082805 & ENSG00000111186 & ENSG00000006831 & ENSG00000151062 & ENSG00000151065\\\\\n",
       "  & <dbl> & <dbl> & <dbl> & <dbl> & <dbl> & <dbl> & <dbl> & <dbl> & <dbl> & <dbl>\\\\\n",
       "\\hline\n",
       "\tENSG00000120645 & 1.000000000 & 0.082722583 & 0.01644917 & 0.01630049 & 0.007930999 & 0.01262378 & 0.009412586 & 0.013591059 & 0.01187203 & 0.011276547\\\\\n",
       "\tENSG00000111181 & 0.082722583 & 1.000000000 & 0.01666816 & 0.01604548 & 0.004979664 & 0.01788684 & 0.015020390 & 0.013956040 & 0.01272389 & 0.011573915\\\\\n",
       "\tENSG00000171840 & 0.016449170 & 0.016668163 & 1.00000000 & 0.13973255 & 0.010345402 & 0.02052182 & 0.016926274 & 0.013257508 & 0.01582615 & 0.009954466\\\\\n",
       "\tENSG00000060237 & 0.016300489 & 0.016045478 & 0.13973255 & 1.00000000 & 0.208445670 & 0.02714353 & 0.015065353 & 0.010928490 & 0.01447965 & 0.010851103\\\\\n",
       "\tENSG00000002016 & 0.007930999 & 0.004979664 & 0.01034540 & 0.20844567 & 1.000000000 & 0.02590133 & 0.015070122 & 0.007501334 & 0.01173014 & 0.006956180\\\\\n",
       "\tENSG00000082805 & 0.012623780 & 0.017886843 & 0.02052182 & 0.02714353 & 0.025901330 & 1.00000000 & 0.034333961 & 0.013125431 & 0.02150922 & 0.020115600\\\\\n",
       "\\end{tabular}\n"
      ],
      "text/markdown": [
       "\n",
       "A data.frame: 6 × 10\n",
       "\n",
       "| <!--/--> | ENSG00000120645 &lt;dbl&gt; | ENSG00000111181 &lt;dbl&gt; | ENSG00000171840 &lt;dbl&gt; | ENSG00000060237 &lt;dbl&gt; | ENSG00000002016 &lt;dbl&gt; | ENSG00000082805 &lt;dbl&gt; | ENSG00000111186 &lt;dbl&gt; | ENSG00000006831 &lt;dbl&gt; | ENSG00000151062 &lt;dbl&gt; | ENSG00000151065 &lt;dbl&gt; |\n",
       "|---|---|---|---|---|---|---|---|---|---|---|\n",
       "| ENSG00000120645 | 1.000000000 | 0.082722583 | 0.01644917 | 0.01630049 | 0.007930999 | 0.01262378 | 0.009412586 | 0.013591059 | 0.01187203 | 0.011276547 |\n",
       "| ENSG00000111181 | 0.082722583 | 1.000000000 | 0.01666816 | 0.01604548 | 0.004979664 | 0.01788684 | 0.015020390 | 0.013956040 | 0.01272389 | 0.011573915 |\n",
       "| ENSG00000171840 | 0.016449170 | 0.016668163 | 1.00000000 | 0.13973255 | 0.010345402 | 0.02052182 | 0.016926274 | 0.013257508 | 0.01582615 | 0.009954466 |\n",
       "| ENSG00000060237 | 0.016300489 | 0.016045478 | 0.13973255 | 1.00000000 | 0.208445670 | 0.02714353 | 0.015065353 | 0.010928490 | 0.01447965 | 0.010851103 |\n",
       "| ENSG00000002016 | 0.007930999 | 0.004979664 | 0.01034540 | 0.20844567 | 1.000000000 | 0.02590133 | 0.015070122 | 0.007501334 | 0.01173014 | 0.006956180 |\n",
       "| ENSG00000082805 | 0.012623780 | 0.017886843 | 0.02052182 | 0.02714353 | 0.025901330 | 1.00000000 | 0.034333961 | 0.013125431 | 0.02150922 | 0.020115600 |\n",
       "\n"
      ],
      "text/plain": [
       "                ENSG00000120645 ENSG00000111181 ENSG00000171840 ENSG00000060237\n",
       "ENSG00000120645 1.000000000     0.082722583     0.01644917      0.01630049     \n",
       "ENSG00000111181 0.082722583     1.000000000     0.01666816      0.01604548     \n",
       "ENSG00000171840 0.016449170     0.016668163     1.00000000      0.13973255     \n",
       "ENSG00000060237 0.016300489     0.016045478     0.13973255      1.00000000     \n",
       "ENSG00000002016 0.007930999     0.004979664     0.01034540      0.20844567     \n",
       "ENSG00000082805 0.012623780     0.017886843     0.02052182      0.02714353     \n",
       "                ENSG00000002016 ENSG00000082805 ENSG00000111186 ENSG00000006831\n",
       "ENSG00000120645 0.007930999     0.01262378      0.009412586     0.013591059    \n",
       "ENSG00000111181 0.004979664     0.01788684      0.015020390     0.013956040    \n",
       "ENSG00000171840 0.010345402     0.02052182      0.016926274     0.013257508    \n",
       "ENSG00000060237 0.208445670     0.02714353      0.015065353     0.010928490    \n",
       "ENSG00000002016 1.000000000     0.02590133      0.015070122     0.007501334    \n",
       "ENSG00000082805 0.025901330     1.00000000      0.034333961     0.013125431    \n",
       "                ENSG00000151062 ENSG00000151065\n",
       "ENSG00000120645 0.01187203      0.011276547    \n",
       "ENSG00000111181 0.01272389      0.011573915    \n",
       "ENSG00000171840 0.01582615      0.009954466    \n",
       "ENSG00000060237 0.01447965      0.010851103    \n",
       "ENSG00000002016 0.01173014      0.006956180    \n",
       "ENSG00000082805 0.02150922      0.020115600    "
      ]
     },
     "metadata": {},
     "output_type": "display_data"
    }
   ],
   "source": [
    "head(gene_corrs[1:10, 1:10])"
   ]
  },
  {
   "cell_type": "markdown",
   "id": "d6cbc88a-2c90-4d11-b7dd-434f046fd03c",
   "metadata": {
    "papermill": {
     "duration": 0.004623,
     "end_time": "2022-07-12T13:07:25.992618",
     "exception": false,
     "start_time": "2022-07-12T13:07:25.987995",
     "status": "completed"
    },
    "tags": []
   },
   "source": [
    "# Check positive definiteness"
   ]
  },
  {
   "cell_type": "code",
   "execution_count": 17,
   "id": "a858a061-7c5a-4a6b-8026-fe4de50c1f26",
   "metadata": {
    "execution": {
     "iopub.execute_input": "2022-07-12T13:07:26.004099Z",
     "iopub.status.busy": "2022-07-12T13:07:26.003073Z",
     "iopub.status.idle": "2022-07-12T13:07:26.017387Z",
     "shell.execute_reply": "2022-07-12T13:07:26.016102Z"
    },
    "papermill": {
     "duration": 0.021595,
     "end_time": "2022-07-12T13:07:26.018980",
     "exception": false,
     "start_time": "2022-07-12T13:07:25.997385",
     "status": "completed"
    },
    "tags": []
   },
   "outputs": [],
   "source": [
    "orig_matrix_is_positive_definite <- is_positive_definite(gene_corrs)"
   ]
  },
  {
   "cell_type": "code",
   "execution_count": 18,
   "id": "410ee452-488f-4518-b93a-2acd608ba99c",
   "metadata": {
    "execution": {
     "iopub.execute_input": "2022-07-12T13:07:26.038100Z",
     "iopub.status.busy": "2022-07-12T13:07:26.037015Z",
     "iopub.status.idle": "2022-07-12T13:07:26.065792Z",
     "shell.execute_reply": "2022-07-12T13:07:26.062611Z"
    },
    "papermill": {
     "duration": 0.041115,
     "end_time": "2022-07-12T13:07:26.067328",
     "exception": false,
     "start_time": "2022-07-12T13:07:26.026213",
     "status": "completed"
    },
    "tags": []
   },
   "outputs": [
    {
     "data": {
      "text/html": [
       "'Matrix is already positive definite!'"
      ],
      "text/latex": [
       "'Matrix is already positive definite!'"
      ],
      "text/markdown": [
       "'Matrix is already positive definite!'"
      ],
      "text/plain": [
       "[1] \"Matrix is already positive definite!\""
      ]
     },
     "metadata": {},
     "output_type": "display_data"
    },
    {
     "data": {
      "text/html": [
       "TRUE"
      ],
      "text/latex": [
       "TRUE"
      ],
      "text/markdown": [
       "TRUE"
      ],
      "text/plain": [
       "[1] TRUE"
      ]
     },
     "metadata": {},
     "output_type": "display_data"
    }
   ],
   "source": [
    "if (orig_matrix_is_positive_definite) {\n",
    "  IRdisplay::display(\"Matrix is already positive definite!\")\n",
    "  file.copy(INPUT_FILE, OUTPUT_FILE)\n",
    "} else {\n",
    "  IRdisplay::display(\"We need to correct the data and make the matrix positive definite\")\n",
    "\n",
    "  eigenvalues <- eigen(gene_corrs)$values\n",
    "  nonpositive_eigenvalues <- eigenvalues[eigenvalues <= 0]\n",
    "  IRdisplay::display(length(nonpositive_eigenvalues))\n",
    "  IRdisplay::display(nonpositive_eigenvalues)\n",
    "\n",
    "  # Make matrix positive definite\n",
    "  gene_corrs_corrected <- CorrectCM(gene_corrs, 1e-10)\n",
    "  dimnames(gene_corrs_corrected)[[1]] <- rownames(gene_corrs)\n",
    "  dimnames(gene_corrs_corrected)[[2]] <- colnames(gene_corrs)\n",
    "  gene_corrs_corrected <- as.data.frame(gene_corrs_corrected)\n",
    "\n",
    "  # check if new matrix is really positive definite\n",
    "  matrix_is_positive_definite <- is_positive_definite(gene_corrs_corrected)\n",
    "  if (matrix_is_positive_definite) {\n",
    "    IRdisplay::display(\"It worked!\")\n",
    "    IRdisplay::display(head(gene_corrs[1:10, 1:10]))\n",
    "    IRdisplay::display(head(gene_corrs_corrected[1:10, 1:10]))\n",
    "    py_save_object(gene_corrs_corrected, OUTPUT_FILE)\n",
    "  } else {\n",
    "    eigenvalues <- eigen(gene_corrs_corrected)$values\n",
    "    nonpositive_eigenvalues <- eigenvalues[eigenvalues <= 0]\n",
    "    IRdisplay::display(length(nonpositive_eigenvalues))\n",
    "    IRdisplay::display(nonpositive_eigenvalues)\n",
    "\n",
    "    stop(\"Method failed to adjust matrix\")\n",
    "  }\n",
    "}"
   ]
  },
  {
   "cell_type": "markdown",
   "id": "6c196700-7491-462f-bab8-ab9d40c63499",
   "metadata": {
    "papermill": {
     "duration": 0.008917,
     "end_time": "2022-07-12T13:07:26.082556",
     "exception": false,
     "start_time": "2022-07-12T13:07:26.073639",
     "status": "completed"
    },
    "tags": []
   },
   "source": [
    "Both matrices should \"look\" similar. We are not interested in perfectly accurate correlation values (they are already inaccurate)."
   ]
  },
  {
   "cell_type": "code",
   "execution_count": null,
   "id": "d8ae4220-2171-460c-9231-cd5219f3fe77",
   "metadata": {
    "papermill": {
     "duration": 0.008124,
     "end_time": "2022-07-12T13:07:26.100170",
     "exception": false,
     "start_time": "2022-07-12T13:07:26.092046",
     "status": "completed"
    },
    "tags": []
   },
   "outputs": [],
   "source": []
  }
 ],
 "metadata": {
  "jupytext": {
   "cell_metadata_filter": "all,-execution,-papermill,-trusted"
  },
  "kernelspec": {
   "display_name": "R",
   "language": "R",
   "name": "ir"
  },
  "language_info": {
   "codemirror_mode": "r",
   "file_extension": ".r",
   "mimetype": "text/x-r-source",
   "name": "R",
   "pygments_lexer": "r",
   "version": "3.6.3"
  },
  "papermill": {
   "default_parameters": {},
   "duration": 5.427221,
   "end_time": "2022-07-12T13:07:26.222495",
   "environment_variables": {},
   "exception": null,
   "input_path": "nbs/15_gsa_gls/12-gene_expr_correlations-adjust.ipynb",
   "output_path": "nbs/15_gsa_gls/gene_corrs/1000g/mashr/12-gene_expr_correlations-adjust-chr12.run.ipynb",
   "parameters": {
    "EQTL_MODEL": "MASHR",
    "REFERENCE_PANEL": "1000G",
    "chromosome": 12
   },
   "start_time": "2022-07-12T13:07:20.795274",
   "version": "2.3.4"
  }
 },
 "nbformat": 4,
 "nbformat_minor": 5
}
