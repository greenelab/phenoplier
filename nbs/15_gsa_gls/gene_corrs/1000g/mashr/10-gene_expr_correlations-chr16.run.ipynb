{
 "cells": [
  {
   "cell_type": "markdown",
   "id": "7a6632fb",
   "metadata": {
    "papermill": {
     "duration": 0.006511,
     "end_time": "2022-07-12T08:39:11.556401",
     "exception": false,
     "start_time": "2022-07-12T08:39:11.549890",
     "status": "completed"
    },
    "tags": []
   },
   "source": [
    "# Description"
   ]
  },
  {
   "cell_type": "markdown",
   "id": "7097c346",
   "metadata": {
    "papermill": {
     "duration": 0.007076,
     "end_time": "2022-07-12T08:39:11.570887",
     "exception": false,
     "start_time": "2022-07-12T08:39:11.563811",
     "status": "completed"
    },
    "tags": []
   },
   "source": [
    "(Please, take a look at the README.md file in this directory for instructions on how to run this notebook)\n",
    "\n",
    "This notebook computes predicted expression correlations between all genes in the MultiPLIER models.\n",
    "\n",
    "It also has a parameter set for papermill to run on a single chromosome to run in parallel (see under `Settings` below).\n",
    "\n",
    "This notebook is not directly run. See README.md."
   ]
  },
  {
   "cell_type": "markdown",
   "id": "c61d8427",
   "metadata": {
    "papermill": {
     "duration": 0.006628,
     "end_time": "2022-07-12T08:39:11.584435",
     "exception": false,
     "start_time": "2022-07-12T08:39:11.577807",
     "status": "completed"
    },
    "tags": []
   },
   "source": [
    "# Modules"
   ]
  },
  {
   "cell_type": "code",
   "execution_count": 1,
   "id": "bbc0234f",
   "metadata": {
    "execution": {
     "iopub.execute_input": "2022-07-12T08:39:11.599594Z",
     "iopub.status.busy": "2022-07-12T08:39:11.599389Z",
     "iopub.status.idle": "2022-07-12T08:39:11.613597Z",
     "shell.execute_reply": "2022-07-12T08:39:11.613073Z"
    },
    "papermill": {
     "duration": 0.024278,
     "end_time": "2022-07-12T08:39:11.614968",
     "exception": false,
     "start_time": "2022-07-12T08:39:11.590690",
     "status": "completed"
    },
    "tags": []
   },
   "outputs": [],
   "source": [
    "%load_ext autoreload\n",
    "%autoreload 2"
   ]
  },
  {
   "cell_type": "code",
   "execution_count": 2,
   "id": "1d5f5a59",
   "metadata": {
    "execution": {
     "iopub.execute_input": "2022-07-12T08:39:11.654235Z",
     "iopub.status.busy": "2022-07-12T08:39:11.653910Z",
     "iopub.status.idle": "2022-07-12T08:39:12.535640Z",
     "shell.execute_reply": "2022-07-12T08:39:12.535167Z"
    },
    "papermill": {
     "duration": 0.890367,
     "end_time": "2022-07-12T08:39:12.536950",
     "exception": false,
     "start_time": "2022-07-12T08:39:11.646583",
     "status": "completed"
    },
    "tags": []
   },
   "outputs": [],
   "source": [
    "from random import sample, seed\n",
    "import warnings\n",
    "from pathlib import Path\n",
    "\n",
    "import numpy as np\n",
    "from scipy.spatial.distance import squareform\n",
    "import pandas as pd\n",
    "from tqdm import tqdm\n",
    "import matplotlib.pyplot as plt\n",
    "import seaborn as sns\n",
    "\n",
    "import conf\n",
    "from entity import Gene"
   ]
  },
  {
   "cell_type": "markdown",
   "id": "1eac24b5",
   "metadata": {
    "papermill": {
     "duration": 0.005348,
     "end_time": "2022-07-12T08:39:12.547931",
     "exception": false,
     "start_time": "2022-07-12T08:39:12.542583",
     "status": "completed"
    },
    "tags": []
   },
   "source": [
    "# Settings"
   ]
  },
  {
   "cell_type": "code",
   "execution_count": 3,
   "id": "ca4560ba",
   "metadata": {
    "execution": {
     "iopub.execute_input": "2022-07-12T08:39:12.560021Z",
     "iopub.status.busy": "2022-07-12T08:39:12.559666Z",
     "iopub.status.idle": "2022-07-12T08:39:12.574345Z",
     "shell.execute_reply": "2022-07-12T08:39:12.573885Z"
    },
    "papermill": {
     "duration": 0.022343,
     "end_time": "2022-07-12T08:39:12.575665",
     "exception": false,
     "start_time": "2022-07-12T08:39:12.553322",
     "status": "completed"
    },
    "tags": [
     "parameters"
    ]
   },
   "outputs": [],
   "source": [
    "# reference panel\n",
    "REFERENCE_PANEL = \"GTEX_V8\"\n",
    "# REFERENCE_PANEL = \"1000G\"\n",
    "\n",
    "# prediction models\n",
    "## mashr\n",
    "EQTL_MODEL = \"MASHR\"\n",
    "\n",
    "# this is the default value used in S-MultiXcan to select the\n",
    "# top principal components of the expression correlation matrix\n",
    "SMULTIXCAN_CONDITION_NUMBER = 30\n",
    "\n",
    "# specifies a single chromosome value\n",
    "# by default, run on all chromosomes\n",
    "chromosome = None"
   ]
  },
  {
   "cell_type": "code",
   "execution_count": 4,
   "id": "272a8621",
   "metadata": {
    "execution": {
     "iopub.execute_input": "2022-07-12T08:39:12.587819Z",
     "iopub.status.busy": "2022-07-12T08:39:12.587480Z",
     "iopub.status.idle": "2022-07-12T08:39:12.601877Z",
     "shell.execute_reply": "2022-07-12T08:39:12.601372Z"
    },
    "papermill": {
     "duration": 0.021875,
     "end_time": "2022-07-12T08:39:12.603168",
     "exception": false,
     "start_time": "2022-07-12T08:39:12.581293",
     "status": "completed"
    },
    "tags": [
     "injected-parameters"
    ]
   },
   "outputs": [],
   "source": [
    "# Parameters\n",
    "chromosome = 16\n",
    "REFERENCE_PANEL = \"1000G\"\n",
    "EQTL_MODEL = \"MASHR\"\n"
   ]
  },
  {
   "cell_type": "code",
   "execution_count": 5,
   "id": "a089c9ff",
   "metadata": {
    "execution": {
     "iopub.execute_input": "2022-07-12T08:39:12.615327Z",
     "iopub.status.busy": "2022-07-12T08:39:12.615105Z",
     "iopub.status.idle": "2022-07-12T08:39:12.631110Z",
     "shell.execute_reply": "2022-07-12T08:39:12.630712Z"
    },
    "papermill": {
     "duration": 0.023478,
     "end_time": "2022-07-12T08:39:12.632389",
     "exception": false,
     "start_time": "2022-07-12T08:39:12.608911",
     "status": "completed"
    },
    "tags": []
   },
   "outputs": [],
   "source": [
    "EQTL_MODEL_FILES_PREFIX = conf.PHENOMEXCAN[\"PREDICTION_MODELS\"][f\"{EQTL_MODEL}_PREFIX\"]"
   ]
  },
  {
   "cell_type": "code",
   "execution_count": 6,
   "id": "8fe24bef",
   "metadata": {
    "execution": {
     "iopub.execute_input": "2022-07-12T08:39:12.644421Z",
     "iopub.status.busy": "2022-07-12T08:39:12.644223Z",
     "iopub.status.idle": "2022-07-12T08:39:12.660664Z",
     "shell.execute_reply": "2022-07-12T08:39:12.660182Z"
    },
    "papermill": {
     "duration": 0.024226,
     "end_time": "2022-07-12T08:39:12.662223",
     "exception": false,
     "start_time": "2022-07-12T08:39:12.637997",
     "status": "completed"
    },
    "tags": []
   },
   "outputs": [
    {
     "data": {
      "text/plain": [
       "'Using eQTL model: MASHR / mashr_'"
      ]
     },
     "metadata": {},
     "output_type": "display_data"
    }
   ],
   "source": [
    "display(f\"Using eQTL model: {EQTL_MODEL} / {EQTL_MODEL_FILES_PREFIX}\")"
   ]
  },
  {
   "cell_type": "code",
   "execution_count": 7,
   "id": "552a7f63-a18c-4d3e-bb6a-94f99b431291",
   "metadata": {
    "execution": {
     "iopub.execute_input": "2022-07-12T08:39:12.674773Z",
     "iopub.status.busy": "2022-07-12T08:39:12.674580Z",
     "iopub.status.idle": "2022-07-12T08:39:12.689973Z",
     "shell.execute_reply": "2022-07-12T08:39:12.689554Z"
    },
    "papermill": {
     "duration": 0.02301,
     "end_time": "2022-07-12T08:39:12.691231",
     "exception": false,
     "start_time": "2022-07-12T08:39:12.668221",
     "status": "completed"
    },
    "tags": []
   },
   "outputs": [
    {
     "data": {
      "text/plain": [
       "'S-MultiXcan condition number: 30'"
      ]
     },
     "metadata": {},
     "output_type": "display_data"
    }
   ],
   "source": [
    "display(f\"S-MultiXcan condition number: {SMULTIXCAN_CONDITION_NUMBER}\")"
   ]
  },
  {
   "cell_type": "code",
   "execution_count": 8,
   "id": "0230ebcb-2c32-4b95-9292-d9a52038e70d",
   "metadata": {
    "execution": {
     "iopub.execute_input": "2022-07-12T08:39:12.704411Z",
     "iopub.status.busy": "2022-07-12T08:39:12.704064Z",
     "iopub.status.idle": "2022-07-12T08:39:12.718689Z",
     "shell.execute_reply": "2022-07-12T08:39:12.718213Z"
    },
    "papermill": {
     "duration": 0.022608,
     "end_time": "2022-07-12T08:39:12.720007",
     "exception": false,
     "start_time": "2022-07-12T08:39:12.697399",
     "status": "completed"
    },
    "tags": []
   },
   "outputs": [],
   "source": [
    "REFERENCE_PANEL_DIR = conf.PHENOMEXCAN[\"LD_BLOCKS\"][f\"{REFERENCE_PANEL}_GENOTYPE_DIR\"]"
   ]
  },
  {
   "cell_type": "code",
   "execution_count": 9,
   "id": "98c4a159-601d-4a22-a1ab-35bd451c25f9",
   "metadata": {
    "execution": {
     "iopub.execute_input": "2022-07-12T08:39:12.732270Z",
     "iopub.status.busy": "2022-07-12T08:39:12.732069Z",
     "iopub.status.idle": "2022-07-12T08:39:12.746966Z",
     "shell.execute_reply": "2022-07-12T08:39:12.746544Z"
    },
    "papermill": {
     "duration": 0.022383,
     "end_time": "2022-07-12T08:39:12.748208",
     "exception": false,
     "start_time": "2022-07-12T08:39:12.725825",
     "status": "completed"
    },
    "tags": []
   },
   "outputs": [
    {
     "data": {
      "text/plain": [
       "'Using reference panel folder: /opt/data/data/phenomexcan/ld_blocks/reference_panel_1000G'"
      ]
     },
     "metadata": {},
     "output_type": "display_data"
    }
   ],
   "source": [
    "display(f\"Using reference panel folder: {str(REFERENCE_PANEL_DIR)}\")"
   ]
  },
  {
   "cell_type": "code",
   "execution_count": 10,
   "id": "396392dc-0340-4540-9b02-e182b833f909",
   "metadata": {
    "execution": {
     "iopub.execute_input": "2022-07-12T08:39:12.761129Z",
     "iopub.status.busy": "2022-07-12T08:39:12.760932Z",
     "iopub.status.idle": "2022-07-12T08:39:12.775522Z",
     "shell.execute_reply": "2022-07-12T08:39:12.775132Z"
    },
    "papermill": {
     "duration": 0.022463,
     "end_time": "2022-07-12T08:39:12.776771",
     "exception": false,
     "start_time": "2022-07-12T08:39:12.754308",
     "status": "completed"
    },
    "tags": []
   },
   "outputs": [],
   "source": [
    "OUTPUT_DIR_BASE = (\n",
    "    conf.PHENOMEXCAN[\"LD_BLOCKS\"][f\"GENE_CORRS_DIR\"]\n",
    "    / REFERENCE_PANEL.lower()\n",
    "    / EQTL_MODEL.lower()\n",
    ")\n",
    "OUTPUT_DIR_BASE.mkdir(parents=True, exist_ok=True)"
   ]
  },
  {
   "cell_type": "code",
   "execution_count": 11,
   "id": "8942c2d3-e53c-4d63-a0eb-b6fce0574d36",
   "metadata": {
    "execution": {
     "iopub.execute_input": "2022-07-12T08:39:12.789587Z",
     "iopub.status.busy": "2022-07-12T08:39:12.789295Z",
     "iopub.status.idle": "2022-07-12T08:39:12.804146Z",
     "shell.execute_reply": "2022-07-12T08:39:12.803716Z"
    },
    "papermill": {
     "duration": 0.022651,
     "end_time": "2022-07-12T08:39:12.805403",
     "exception": false,
     "start_time": "2022-07-12T08:39:12.782752",
     "status": "completed"
    },
    "tags": []
   },
   "outputs": [
    {
     "data": {
      "text/plain": [
       "'Using output dir base: /opt/data/data/phenomexcan/ld_blocks/gene_corrs/1000g/mashr'"
      ]
     },
     "metadata": {},
     "output_type": "display_data"
    }
   ],
   "source": [
    "display(f\"Using output dir base: {OUTPUT_DIR_BASE}\")"
   ]
  },
  {
   "cell_type": "code",
   "execution_count": 12,
   "id": "408aa590",
   "metadata": {
    "execution": {
     "iopub.execute_input": "2022-07-12T08:39:12.818579Z",
     "iopub.status.busy": "2022-07-12T08:39:12.818387Z",
     "iopub.status.idle": "2022-07-12T08:39:12.832585Z",
     "shell.execute_reply": "2022-07-12T08:39:12.832149Z"
    },
    "papermill": {
     "duration": 0.022172,
     "end_time": "2022-07-12T08:39:12.833838",
     "exception": false,
     "start_time": "2022-07-12T08:39:12.811666",
     "status": "completed"
    },
    "tags": []
   },
   "outputs": [],
   "source": [
    "assert (\n",
    "    chromosome is not None\n",
    "), \"You have to select one chromosome (format: number between 1 and 22)\""
   ]
  },
  {
   "cell_type": "code",
   "execution_count": 13,
   "id": "c1c7dd06-80ff-453c-bcb7-0899edce75da",
   "metadata": {
    "execution": {
     "iopub.execute_input": "2022-07-12T08:39:12.849364Z",
     "iopub.status.busy": "2022-07-12T08:39:12.849166Z",
     "iopub.status.idle": "2022-07-12T08:39:12.863040Z",
     "shell.execute_reply": "2022-07-12T08:39:12.862644Z"
    },
    "papermill": {
     "duration": 0.023493,
     "end_time": "2022-07-12T08:39:12.864669",
     "exception": false,
     "start_time": "2022-07-12T08:39:12.841176",
     "status": "completed"
    },
    "tags": []
   },
   "outputs": [],
   "source": [
    "chromosome = str(chromosome)"
   ]
  },
  {
   "cell_type": "code",
   "execution_count": 14,
   "id": "bc17b84c-9c26-47a5-a3ab-7046e72f3ef4",
   "metadata": {
    "execution": {
     "iopub.execute_input": "2022-07-12T08:39:12.877872Z",
     "iopub.status.busy": "2022-07-12T08:39:12.877604Z",
     "iopub.status.idle": "2022-07-12T08:39:12.895082Z",
     "shell.execute_reply": "2022-07-12T08:39:12.894667Z"
    },
    "papermill": {
     "duration": 0.025445,
     "end_time": "2022-07-12T08:39:12.896287",
     "exception": false,
     "start_time": "2022-07-12T08:39:12.870842",
     "status": "completed"
    },
    "tags": []
   },
   "outputs": [
    {
     "data": {
      "text/plain": [
       "'Working on chromosome 16'"
      ]
     },
     "metadata": {},
     "output_type": "display_data"
    }
   ],
   "source": [
    "display(f\"Working on chromosome {chromosome}\")"
   ]
  },
  {
   "cell_type": "code",
   "execution_count": 15,
   "id": "3c7d8574-90c7-4d09-bc8c-469ed0a34737",
   "metadata": {
    "execution": {
     "iopub.execute_input": "2022-07-12T08:39:12.909547Z",
     "iopub.status.busy": "2022-07-12T08:39:12.909323Z",
     "iopub.status.idle": "2022-07-12T08:39:12.924121Z",
     "shell.execute_reply": "2022-07-12T08:39:12.923690Z"
    },
    "papermill": {
     "duration": 0.022762,
     "end_time": "2022-07-12T08:39:12.925252",
     "exception": false,
     "start_time": "2022-07-12T08:39:12.902490",
     "status": "completed"
    },
    "tags": []
   },
   "outputs": [
    {
     "data": {
      "text/plain": [
       "'Compute correlation within distance False'"
      ]
     },
     "metadata": {},
     "output_type": "display_data"
    }
   ],
   "source": [
    "# This paramter, if True, computes the correlation between closeby genes only\n",
    "COMPUTE_CORRELATIONS_WITHIN_DISTANCE = False\n",
    "display(f\"Compute correlation within distance {COMPUTE_CORRELATIONS_WITHIN_DISTANCE}\")"
   ]
  },
  {
   "cell_type": "markdown",
   "id": "d2ba085e",
   "metadata": {
    "papermill": {
     "duration": 0.006068,
     "end_time": "2022-07-12T08:39:12.937558",
     "exception": false,
     "start_time": "2022-07-12T08:39:12.931490",
     "status": "completed"
    },
    "tags": []
   },
   "source": [
    "# Load data"
   ]
  },
  {
   "cell_type": "markdown",
   "id": "7bed0ce0-e7c7-4300-9a61-5412450b1904",
   "metadata": {
    "papermill": {
     "duration": 0.005961,
     "end_time": "2022-07-12T08:39:12.949752",
     "exception": false,
     "start_time": "2022-07-12T08:39:12.943791",
     "status": "completed"
    },
    "tags": []
   },
   "source": [
    "## Prediction model tissues"
   ]
  },
  {
   "cell_type": "code",
   "execution_count": 16,
   "id": "0847c065-0d69-4830-a07f-1c75115d17f5",
   "metadata": {
    "execution": {
     "iopub.execute_input": "2022-07-12T08:39:12.963096Z",
     "iopub.status.busy": "2022-07-12T08:39:12.962824Z",
     "iopub.status.idle": "2022-07-12T08:39:12.977214Z",
     "shell.execute_reply": "2022-07-12T08:39:12.976700Z"
    },
    "papermill": {
     "duration": 0.022539,
     "end_time": "2022-07-12T08:39:12.978452",
     "exception": false,
     "start_time": "2022-07-12T08:39:12.955913",
     "status": "completed"
    },
    "tags": []
   },
   "outputs": [],
   "source": [
    "prediction_model_tissues = conf.PHENOMEXCAN[\"PREDICTION_MODELS\"][\n",
    "    f\"{EQTL_MODEL}_TISSUES\"\n",
    "].split(\" \")"
   ]
  },
  {
   "cell_type": "code",
   "execution_count": 17,
   "id": "aaef70d1-30c6-4c6f-9d6b-abc8e9a0081f",
   "metadata": {
    "execution": {
     "iopub.execute_input": "2022-07-12T08:39:12.992069Z",
     "iopub.status.busy": "2022-07-12T08:39:12.991739Z",
     "iopub.status.idle": "2022-07-12T08:39:13.007968Z",
     "shell.execute_reply": "2022-07-12T08:39:13.006993Z"
    },
    "papermill": {
     "duration": 0.024192,
     "end_time": "2022-07-12T08:39:13.009132",
     "exception": false,
     "start_time": "2022-07-12T08:39:12.984940",
     "status": "completed"
    },
    "tags": []
   },
   "outputs": [
    {
     "data": {
      "text/plain": [
       "49"
      ]
     },
     "execution_count": 17,
     "metadata": {},
     "output_type": "execute_result"
    }
   ],
   "source": [
    "len(prediction_model_tissues)"
   ]
  },
  {
   "cell_type": "code",
   "execution_count": 18,
   "id": "ff35a099-c52d-465d-b863-0ee70c26208c",
   "metadata": {
    "execution": {
     "iopub.execute_input": "2022-07-12T08:39:13.022974Z",
     "iopub.status.busy": "2022-07-12T08:39:13.022767Z",
     "iopub.status.idle": "2022-07-12T08:39:13.040018Z",
     "shell.execute_reply": "2022-07-12T08:39:13.039598Z"
    },
    "papermill": {
     "duration": 0.025592,
     "end_time": "2022-07-12T08:39:13.041166",
     "exception": false,
     "start_time": "2022-07-12T08:39:13.015574",
     "status": "completed"
    },
    "tags": []
   },
   "outputs": [
    {
     "data": {
      "text/plain": [
       "['Skin_Not_Sun_Exposed_Suprapubic',\n",
       " 'Cells_EBV-transformed_lymphocytes',\n",
       " 'Brain_Frontal_Cortex_BA9',\n",
       " 'Kidney_Cortex',\n",
       " 'Brain_Substantia_nigra']"
      ]
     },
     "execution_count": 18,
     "metadata": {},
     "output_type": "execute_result"
    }
   ],
   "source": [
    "prediction_model_tissues[:5]"
   ]
  },
  {
   "cell_type": "markdown",
   "id": "abcc4b3d",
   "metadata": {
    "papermill": {
     "duration": 0.006412,
     "end_time": "2022-07-12T08:39:13.054103",
     "exception": false,
     "start_time": "2022-07-12T08:39:13.047691",
     "status": "completed"
    },
    "tags": []
   },
   "source": [
    "## MultiPLIER Z"
   ]
  },
  {
   "cell_type": "code",
   "execution_count": 19,
   "id": "c48ef527",
   "metadata": {
    "execution": {
     "iopub.execute_input": "2022-07-12T08:39:13.068124Z",
     "iopub.status.busy": "2022-07-12T08:39:13.067786Z",
     "iopub.status.idle": "2022-07-12T08:39:13.107313Z",
     "shell.execute_reply": "2022-07-12T08:39:13.106896Z"
    },
    "papermill": {
     "duration": 0.047939,
     "end_time": "2022-07-12T08:39:13.108658",
     "exception": false,
     "start_time": "2022-07-12T08:39:13.060719",
     "status": "completed"
    },
    "tags": []
   },
   "outputs": [],
   "source": [
    "multiplier_z_genes = pd.read_pickle(\n",
    "    conf.MULTIPLIER[\"MODEL_Z_MATRIX_FILE\"]\n",
    ").index.tolist()"
   ]
  },
  {
   "cell_type": "code",
   "execution_count": 20,
   "id": "0a4ecbd9",
   "metadata": {
    "execution": {
     "iopub.execute_input": "2022-07-12T08:39:13.122505Z",
     "iopub.status.busy": "2022-07-12T08:39:13.122310Z",
     "iopub.status.idle": "2022-07-12T08:39:13.137066Z",
     "shell.execute_reply": "2022-07-12T08:39:13.136541Z"
    },
    "papermill": {
     "duration": 0.023029,
     "end_time": "2022-07-12T08:39:13.138285",
     "exception": false,
     "start_time": "2022-07-12T08:39:13.115256",
     "status": "completed"
    },
    "tags": []
   },
   "outputs": [
    {
     "data": {
      "text/plain": [
       "6750"
      ]
     },
     "execution_count": 20,
     "metadata": {},
     "output_type": "execute_result"
    }
   ],
   "source": [
    "len(multiplier_z_genes)"
   ]
  },
  {
   "cell_type": "code",
   "execution_count": 21,
   "id": "115e8864",
   "metadata": {
    "execution": {
     "iopub.execute_input": "2022-07-12T08:39:13.154642Z",
     "iopub.status.busy": "2022-07-12T08:39:13.154446Z",
     "iopub.status.idle": "2022-07-12T08:39:13.169153Z",
     "shell.execute_reply": "2022-07-12T08:39:13.168741Z"
    },
    "papermill": {
     "duration": 0.024533,
     "end_time": "2022-07-12T08:39:13.170341",
     "exception": false,
     "start_time": "2022-07-12T08:39:13.145808",
     "status": "completed"
    },
    "tags": []
   },
   "outputs": [
    {
     "data": {
      "text/plain": [
       "['GAS6',\n",
       " 'MMP14',\n",
       " 'DSP',\n",
       " 'MARCKSL1',\n",
       " 'SPARC',\n",
       " 'CTSD',\n",
       " 'EPAS1',\n",
       " 'PALLD',\n",
       " 'PHC2',\n",
       " 'LGALS3BP']"
      ]
     },
     "execution_count": 21,
     "metadata": {},
     "output_type": "execute_result"
    }
   ],
   "source": [
    "multiplier_z_genes[:10]"
   ]
  },
  {
   "cell_type": "markdown",
   "id": "7dcb8db7",
   "metadata": {
    "papermill": {
     "duration": 0.00644,
     "end_time": "2022-07-12T08:39:13.183424",
     "exception": false,
     "start_time": "2022-07-12T08:39:13.176984",
     "status": "completed"
    },
    "tags": []
   },
   "source": [
    "## Get gene objects"
   ]
  },
  {
   "cell_type": "code",
   "execution_count": 22,
   "id": "bb932812",
   "metadata": {
    "execution": {
     "iopub.execute_input": "2022-07-12T08:39:13.197557Z",
     "iopub.status.busy": "2022-07-12T08:39:13.197348Z",
     "iopub.status.idle": "2022-07-12T08:39:13.217884Z",
     "shell.execute_reply": "2022-07-12T08:39:13.217423Z"
    },
    "papermill": {
     "duration": 0.029067,
     "end_time": "2022-07-12T08:39:13.219148",
     "exception": false,
     "start_time": "2022-07-12T08:39:13.190081",
     "status": "completed"
    },
    "tags": []
   },
   "outputs": [],
   "source": [
    "multiplier_gene_obj = {\n",
    "    gene_name: Gene(name=gene_name)\n",
    "    for gene_name in multiplier_z_genes\n",
    "    if gene_name in Gene.GENE_NAME_TO_ID_MAP\n",
    "}"
   ]
  },
  {
   "cell_type": "code",
   "execution_count": 23,
   "id": "39533214",
   "metadata": {
    "execution": {
     "iopub.execute_input": "2022-07-12T08:39:13.237465Z",
     "iopub.status.busy": "2022-07-12T08:39:13.237172Z",
     "iopub.status.idle": "2022-07-12T08:39:13.258909Z",
     "shell.execute_reply": "2022-07-12T08:39:13.258491Z"
    },
    "papermill": {
     "duration": 0.036755,
     "end_time": "2022-07-12T08:39:13.262928",
     "exception": false,
     "start_time": "2022-07-12T08:39:13.226173",
     "status": "completed"
    },
    "tags": []
   },
   "outputs": [
    {
     "data": {
      "text/plain": [
       "6454"
      ]
     },
     "execution_count": 23,
     "metadata": {},
     "output_type": "execute_result"
    }
   ],
   "source": [
    "len(multiplier_gene_obj)"
   ]
  },
  {
   "cell_type": "code",
   "execution_count": 24,
   "id": "9a5d0b84",
   "metadata": {
    "execution": {
     "iopub.execute_input": "2022-07-12T08:39:13.277521Z",
     "iopub.status.busy": "2022-07-12T08:39:13.277181Z",
     "iopub.status.idle": "2022-07-12T08:39:13.292028Z",
     "shell.execute_reply": "2022-07-12T08:39:13.291585Z"
    },
    "papermill": {
     "duration": 0.023386,
     "end_time": "2022-07-12T08:39:13.293233",
     "exception": false,
     "start_time": "2022-07-12T08:39:13.269847",
     "status": "completed"
    },
    "tags": []
   },
   "outputs": [
    {
     "data": {
      "text/plain": [
       "'ENSG00000183087'"
      ]
     },
     "execution_count": 24,
     "metadata": {},
     "output_type": "execute_result"
    }
   ],
   "source": [
    "multiplier_gene_obj[\"GAS6\"].ensembl_id"
   ]
  },
  {
   "cell_type": "code",
   "execution_count": 25,
   "id": "e3ffabc7",
   "metadata": {
    "execution": {
     "iopub.execute_input": "2022-07-12T08:39:13.308176Z",
     "iopub.status.busy": "2022-07-12T08:39:13.307708Z",
     "iopub.status.idle": "2022-07-12T08:39:15.406502Z",
     "shell.execute_reply": "2022-07-12T08:39:15.405890Z"
    },
    "papermill": {
     "duration": 2.10768,
     "end_time": "2022-07-12T08:39:15.407898",
     "exception": false,
     "start_time": "2022-07-12T08:39:13.300218",
     "status": "completed"
    },
    "tags": []
   },
   "outputs": [],
   "source": [
    "_gene_obj = list(multiplier_gene_obj.values())\n",
    "\n",
    "genes_info = pd.DataFrame(\n",
    "    {\n",
    "        \"name\": [g.name for g in _gene_obj],\n",
    "        \"id\": [g.ensembl_id for g in _gene_obj],\n",
    "        \"chr\": [g.chromosome for g in _gene_obj],\n",
    "        \"band\": [g.band for g in _gene_obj],\n",
    "        \"start_position\": [g.get_attribute(\"start_position\") for g in _gene_obj],\n",
    "    }\n",
    ")"
   ]
  },
  {
   "cell_type": "code",
   "execution_count": 26,
   "id": "e23519b8",
   "metadata": {
    "execution": {
     "iopub.execute_input": "2022-07-12T08:39:15.429032Z",
     "iopub.status.busy": "2022-07-12T08:39:15.428720Z",
     "iopub.status.idle": "2022-07-12T08:39:15.444981Z",
     "shell.execute_reply": "2022-07-12T08:39:15.444522Z"
    },
    "papermill": {
     "duration": 0.030932,
     "end_time": "2022-07-12T08:39:15.446258",
     "exception": false,
     "start_time": "2022-07-12T08:39:15.415326",
     "status": "completed"
    },
    "tags": []
   },
   "outputs": [
    {
     "data": {
      "text/plain": [
       "(6454, 5)"
      ]
     },
     "execution_count": 26,
     "metadata": {},
     "output_type": "execute_result"
    }
   ],
   "source": [
    "genes_info.shape"
   ]
  },
  {
   "cell_type": "code",
   "execution_count": 27,
   "id": "0d71881c",
   "metadata": {
    "execution": {
     "iopub.execute_input": "2022-07-12T08:39:15.461010Z",
     "iopub.status.busy": "2022-07-12T08:39:15.460848Z",
     "iopub.status.idle": "2022-07-12T08:39:15.480481Z",
     "shell.execute_reply": "2022-07-12T08:39:15.480044Z"
    },
    "papermill": {
     "duration": 0.028518,
     "end_time": "2022-07-12T08:39:15.481761",
     "exception": false,
     "start_time": "2022-07-12T08:39:15.453243",
     "status": "completed"
    },
    "tags": []
   },
   "outputs": [
    {
     "data": {
      "text/html": [
       "<div>\n",
       "<style scoped>\n",
       "    .dataframe tbody tr th:only-of-type {\n",
       "        vertical-align: middle;\n",
       "    }\n",
       "\n",
       "    .dataframe tbody tr th {\n",
       "        vertical-align: top;\n",
       "    }\n",
       "\n",
       "    .dataframe thead th {\n",
       "        text-align: right;\n",
       "    }\n",
       "</style>\n",
       "<table border=\"1\" class=\"dataframe\">\n",
       "  <thead>\n",
       "    <tr style=\"text-align: right;\">\n",
       "      <th></th>\n",
       "      <th>name</th>\n",
       "      <th>id</th>\n",
       "      <th>chr</th>\n",
       "      <th>band</th>\n",
       "      <th>start_position</th>\n",
       "    </tr>\n",
       "  </thead>\n",
       "  <tbody>\n",
       "    <tr>\n",
       "      <th>0</th>\n",
       "      <td>GAS6</td>\n",
       "      <td>ENSG00000183087</td>\n",
       "      <td>13</td>\n",
       "      <td>13q34</td>\n",
       "      <td>113820549.0</td>\n",
       "    </tr>\n",
       "    <tr>\n",
       "      <th>1</th>\n",
       "      <td>MMP14</td>\n",
       "      <td>ENSG00000157227</td>\n",
       "      <td>14</td>\n",
       "      <td>14q11.2</td>\n",
       "      <td>22836560.0</td>\n",
       "    </tr>\n",
       "    <tr>\n",
       "      <th>2</th>\n",
       "      <td>DSP</td>\n",
       "      <td>ENSG00000096696</td>\n",
       "      <td>6</td>\n",
       "      <td>6p24.3</td>\n",
       "      <td>7541617.0</td>\n",
       "    </tr>\n",
       "    <tr>\n",
       "      <th>3</th>\n",
       "      <td>MARCKSL1</td>\n",
       "      <td>ENSG00000175130</td>\n",
       "      <td>1</td>\n",
       "      <td>1p35.1</td>\n",
       "      <td>32333839.0</td>\n",
       "    </tr>\n",
       "    <tr>\n",
       "      <th>4</th>\n",
       "      <td>SPARC</td>\n",
       "      <td>ENSG00000113140</td>\n",
       "      <td>5</td>\n",
       "      <td>5q33.1</td>\n",
       "      <td>151661096.0</td>\n",
       "    </tr>\n",
       "  </tbody>\n",
       "</table>\n",
       "</div>"
      ],
      "text/plain": [
       "       name               id chr     band  start_position\n",
       "0      GAS6  ENSG00000183087  13    13q34     113820549.0\n",
       "1     MMP14  ENSG00000157227  14  14q11.2      22836560.0\n",
       "2       DSP  ENSG00000096696   6   6p24.3       7541617.0\n",
       "3  MARCKSL1  ENSG00000175130   1   1p35.1      32333839.0\n",
       "4     SPARC  ENSG00000113140   5   5q33.1     151661096.0"
      ]
     },
     "execution_count": 27,
     "metadata": {},
     "output_type": "execute_result"
    }
   ],
   "source": [
    "genes_info.head()"
   ]
  },
  {
   "cell_type": "markdown",
   "id": "c8d1038f",
   "metadata": {
    "papermill": {
     "duration": 0.006929,
     "end_time": "2022-07-12T08:39:15.496001",
     "exception": false,
     "start_time": "2022-07-12T08:39:15.489072",
     "status": "completed"
    },
    "tags": []
   },
   "source": [
    "# Test"
   ]
  },
  {
   "cell_type": "code",
   "execution_count": 28,
   "id": "64993abf",
   "metadata": {
    "execution": {
     "iopub.execute_input": "2022-07-12T08:39:15.510950Z",
     "iopub.status.busy": "2022-07-12T08:39:15.510752Z",
     "iopub.status.idle": "2022-07-12T08:39:15.533738Z",
     "shell.execute_reply": "2022-07-12T08:39:15.533300Z"
    },
    "papermill": {
     "duration": 0.031807,
     "end_time": "2022-07-12T08:39:15.534984",
     "exception": false,
     "start_time": "2022-07-12T08:39:15.503177",
     "status": "completed"
    },
    "tags": []
   },
   "outputs": [
    {
     "data": {
      "text/html": [
       "<div>\n",
       "<style scoped>\n",
       "    .dataframe tbody tr th:only-of-type {\n",
       "        vertical-align: middle;\n",
       "    }\n",
       "\n",
       "    .dataframe tbody tr th {\n",
       "        vertical-align: top;\n",
       "    }\n",
       "\n",
       "    .dataframe thead th {\n",
       "        text-align: right;\n",
       "    }\n",
       "</style>\n",
       "<table border=\"1\" class=\"dataframe\">\n",
       "  <thead>\n",
       "    <tr style=\"text-align: right;\">\n",
       "      <th></th>\n",
       "      <th>name</th>\n",
       "      <th>id</th>\n",
       "      <th>chr</th>\n",
       "      <th>band</th>\n",
       "      <th>start_position</th>\n",
       "    </tr>\n",
       "  </thead>\n",
       "  <tbody>\n",
       "    <tr>\n",
       "      <th>172</th>\n",
       "      <td>RRAD</td>\n",
       "      <td>ENSG00000166592</td>\n",
       "      <td>16</td>\n",
       "      <td>16q22.1</td>\n",
       "      <td>66921679.0</td>\n",
       "    </tr>\n",
       "    <tr>\n",
       "      <th>268</th>\n",
       "      <td>CD19</td>\n",
       "      <td>ENSG00000177455</td>\n",
       "      <td>16</td>\n",
       "      <td>16p11.2</td>\n",
       "      <td>28931761.0</td>\n",
       "    </tr>\n",
       "    <tr>\n",
       "      <th>270</th>\n",
       "      <td>IGSF6</td>\n",
       "      <td>ENSG00000140749</td>\n",
       "      <td>16</td>\n",
       "      <td>16p12.2</td>\n",
       "      <td>21639550.0</td>\n",
       "    </tr>\n",
       "    <tr>\n",
       "      <th>281</th>\n",
       "      <td>TNFRSF17</td>\n",
       "      <td>ENSG00000048462</td>\n",
       "      <td>16</td>\n",
       "      <td>16p13.13</td>\n",
       "      <td>11965210.0</td>\n",
       "    </tr>\n",
       "    <tr>\n",
       "      <th>335</th>\n",
       "      <td>MMP25</td>\n",
       "      <td>ENSG00000008516</td>\n",
       "      <td>16</td>\n",
       "      <td>16p13.3</td>\n",
       "      <td>3046561.0</td>\n",
       "    </tr>\n",
       "    <tr>\n",
       "      <th>...</th>\n",
       "      <td>...</td>\n",
       "      <td>...</td>\n",
       "      <td>...</td>\n",
       "      <td>...</td>\n",
       "      <td>...</td>\n",
       "    </tr>\n",
       "    <tr>\n",
       "      <th>6380</th>\n",
       "      <td>ABCC1</td>\n",
       "      <td>ENSG00000103222</td>\n",
       "      <td>16</td>\n",
       "      <td>16p13.11</td>\n",
       "      <td>15949577.0</td>\n",
       "    </tr>\n",
       "    <tr>\n",
       "      <th>6390</th>\n",
       "      <td>PDPR</td>\n",
       "      <td>ENSG00000090857</td>\n",
       "      <td>16</td>\n",
       "      <td>16q22.1</td>\n",
       "      <td>70113626.0</td>\n",
       "    </tr>\n",
       "    <tr>\n",
       "      <th>6392</th>\n",
       "      <td>CSNK2A2</td>\n",
       "      <td>ENSG00000070770</td>\n",
       "      <td>16</td>\n",
       "      <td>16q21</td>\n",
       "      <td>58157907.0</td>\n",
       "    </tr>\n",
       "    <tr>\n",
       "      <th>6438</th>\n",
       "      <td>EXOSC6</td>\n",
       "      <td>ENSG00000223496</td>\n",
       "      <td>16</td>\n",
       "      <td>16q22.1</td>\n",
       "      <td>70246778.0</td>\n",
       "    </tr>\n",
       "    <tr>\n",
       "      <th>6441</th>\n",
       "      <td>LDHD</td>\n",
       "      <td>ENSG00000166816</td>\n",
       "      <td>16</td>\n",
       "      <td>16q23.1</td>\n",
       "      <td>75111860.0</td>\n",
       "    </tr>\n",
       "  </tbody>\n",
       "</table>\n",
       "<p>274 rows × 5 columns</p>\n",
       "</div>"
      ],
      "text/plain": [
       "          name               id chr      band  start_position\n",
       "172       RRAD  ENSG00000166592  16   16q22.1      66921679.0\n",
       "268       CD19  ENSG00000177455  16   16p11.2      28931761.0\n",
       "270      IGSF6  ENSG00000140749  16   16p12.2      21639550.0\n",
       "281   TNFRSF17  ENSG00000048462  16  16p13.13      11965210.0\n",
       "335      MMP25  ENSG00000008516  16   16p13.3       3046561.0\n",
       "...        ...              ...  ..       ...             ...\n",
       "6380     ABCC1  ENSG00000103222  16  16p13.11      15949577.0\n",
       "6390      PDPR  ENSG00000090857  16   16q22.1      70113626.0\n",
       "6392   CSNK2A2  ENSG00000070770  16     16q21      58157907.0\n",
       "6438    EXOSC6  ENSG00000223496  16   16q22.1      70246778.0\n",
       "6441      LDHD  ENSG00000166816  16   16q23.1      75111860.0\n",
       "\n",
       "[274 rows x 5 columns]"
      ]
     },
     "metadata": {},
     "output_type": "display_data"
    }
   ],
   "source": [
    "chromosome_genes_info = genes_info[genes_info[\"chr\"] == chromosome]\n",
    "display(chromosome_genes_info)"
   ]
  },
  {
   "cell_type": "code",
   "execution_count": 29,
   "id": "d2e42726-7de6-46eb-acfc-6323eaa8fae6",
   "metadata": {
    "execution": {
     "iopub.execute_input": "2022-07-12T08:39:15.550829Z",
     "iopub.status.busy": "2022-07-12T08:39:15.550635Z",
     "iopub.status.idle": "2022-07-12T08:39:15.567023Z",
     "shell.execute_reply": "2022-07-12T08:39:15.566615Z"
    },
    "papermill": {
     "duration": 0.025616,
     "end_time": "2022-07-12T08:39:15.568269",
     "exception": false,
     "start_time": "2022-07-12T08:39:15.542653",
     "status": "completed"
    },
    "tags": []
   },
   "outputs": [
    {
     "data": {
      "text/plain": [
       "5"
      ]
     },
     "metadata": {},
     "output_type": "display_data"
    }
   ],
   "source": [
    "seed(0)\n",
    "_gene_list_ids = sample(chromosome_genes_info[\"id\"].tolist(), 5)\n",
    "selected_chromosome_genes_obj = [Gene(ensembl_id=g_id) for g_id in _gene_list_ids]\n",
    "display(len(selected_chromosome_genes_obj))"
   ]
  },
  {
   "cell_type": "code",
   "execution_count": 30,
   "id": "1b355359",
   "metadata": {
    "execution": {
     "iopub.execute_input": "2022-07-12T08:39:15.584580Z",
     "iopub.status.busy": "2022-07-12T08:39:15.584384Z",
     "iopub.status.idle": "2022-07-12T08:39:17.135231Z",
     "shell.execute_reply": "2022-07-12T08:39:17.134850Z"
    },
    "papermill": {
     "duration": 1.560291,
     "end_time": "2022-07-12T08:39:17.136360",
     "exception": false,
     "start_time": "2022-07-12T08:39:15.576069",
     "status": "completed"
    },
    "tags": []
   },
   "outputs": [
    {
     "name": "stdout",
     "output_type": "stream",
     "text": [
      "AMDHD2 / AP1G1: 0.0\n",
      "AMDHD2 / YPEL3: 0.0\n",
      "AMDHD2 / MBTPS1: 0.0\n",
      "AMDHD2 / BCAR1: 0.0\n",
      "AP1G1 / YPEL3: 0.0\n",
      "AP1G1 / MBTPS1: 0.0\n",
      "AP1G1 / BCAR1: 0.00526544041489675\n",
      "YPEL3 / MBTPS1: 0.0\n",
      "YPEL3 / BCAR1: 0.0\n",
      "MBTPS1 / BCAR1: 0.0\n"
     ]
    }
   ],
   "source": [
    "for gene_idx1 in range(0, len(selected_chromosome_genes_obj) - 1):\n",
    "    gene_obj1 = selected_chromosome_genes_obj[gene_idx1]\n",
    "\n",
    "    for gene_idx2 in range(gene_idx1 + 1, len(selected_chromosome_genes_obj)):\n",
    "        gene_obj2 = selected_chromosome_genes_obj[gene_idx2]\n",
    "\n",
    "        c = gene_obj1.get_ssm_correlation(\n",
    "            gene_obj2,\n",
    "        )\n",
    "\n",
    "        print(f\"{gene_obj1.name} / {gene_obj2.name}: {c}\")"
   ]
  },
  {
   "cell_type": "markdown",
   "id": "d3843e06",
   "metadata": {
    "papermill": {
     "duration": 0.007221,
     "end_time": "2022-07-12T08:39:17.152042",
     "exception": false,
     "start_time": "2022-07-12T08:39:17.144821",
     "status": "completed"
    },
    "tags": []
   },
   "source": [
    "# Compute correlation per chromosome"
   ]
  },
  {
   "cell_type": "code",
   "execution_count": 31,
   "id": "cb859c15-d1f3-4006-a74c-2b83c0db9611",
   "metadata": {
    "execution": {
     "iopub.execute_input": "2022-07-12T08:39:17.167672Z",
     "iopub.status.busy": "2022-07-12T08:39:17.167460Z",
     "iopub.status.idle": "2022-07-12T08:39:17.185254Z",
     "shell.execute_reply": "2022-07-12T08:39:17.184815Z"
    },
    "papermill": {
     "duration": 0.027219,
     "end_time": "2022-07-12T08:39:17.186487",
     "exception": false,
     "start_time": "2022-07-12T08:39:17.159268",
     "status": "completed"
    },
    "tags": []
   },
   "outputs": [
    {
     "data": {
      "text/plain": [
       "PosixPath('/opt/data/data/phenomexcan/ld_blocks/gene_corrs/1000g/mashr/by_chr/gene_corrs-chr16.pkl')"
      ]
     },
     "metadata": {},
     "output_type": "display_data"
    }
   ],
   "source": [
    "output_dir = OUTPUT_DIR_BASE / \"by_chr\"\n",
    "output_dir.mkdir(exist_ok=True, parents=True)\n",
    "output_file = output_dir / f\"gene_corrs-chr{chromosome}.pkl\"\n",
    "display(output_file)"
   ]
  },
  {
   "cell_type": "code",
   "execution_count": 32,
   "id": "aa674fe4-6794-4eed-98fa-32b39d1d4ace",
   "metadata": {
    "execution": {
     "iopub.execute_input": "2022-07-12T08:39:17.203025Z",
     "iopub.status.busy": "2022-07-12T08:39:17.202829Z",
     "iopub.status.idle": "2022-07-12T08:39:17.217741Z",
     "shell.execute_reply": "2022-07-12T08:39:17.217290Z"
    },
    "papermill": {
     "duration": 0.025952,
     "end_time": "2022-07-12T08:39:17.220415",
     "exception": false,
     "start_time": "2022-07-12T08:39:17.194463",
     "status": "completed"
    },
    "tags": []
   },
   "outputs": [],
   "source": [
    "warnings.filterwarnings(\"error\")"
   ]
  },
  {
   "cell_type": "code",
   "execution_count": 33,
   "id": "cdbb90a1",
   "metadata": {
    "execution": {
     "iopub.execute_input": "2022-07-12T08:39:17.239050Z",
     "iopub.status.busy": "2022-07-12T08:39:17.238503Z",
     "iopub.status.idle": "2022-07-12T09:30:02.604107Z",
     "shell.execute_reply": "2022-07-12T09:30:02.603609Z"
    },
    "papermill": {
     "duration": 3046.583535,
     "end_time": "2022-07-12T09:30:03.811988",
     "exception": false,
     "start_time": "2022-07-12T08:39:17.228453",
     "status": "completed"
    },
    "tags": []
   },
   "outputs": [
    {
     "name": "stdout",
     "output_type": "stream",
     "text": [
      "Number of genes in chromosome: 274\n",
      "Number of gene combinations: 37401\n"
     ]
    },
    {
     "name": "stderr",
     "output_type": "stream",
     "text": [
      "ENSG00000258839 / ENSG00000258947: 100%|██████████████████████| 37401/37401 [50:45<00:00, 12.28it/s]"
     ]
    },
    {
     "name": "stdout",
     "output_type": "stream",
     "text": [
      "Min/max values: 3.123912164804141e-08 / 0.9835109982855849\n"
     ]
    },
    {
     "name": "stderr",
     "output_type": "stream",
     "text": [
      "\n"
     ]
    },
    {
     "data": {
      "text/plain": [
       "PosixPath('/opt/data/data/phenomexcan/ld_blocks/gene_corrs/1000g/mashr/by_chr/gene_corrs-chr16.pkl')"
      ]
     },
     "metadata": {},
     "output_type": "display_data"
    }
   ],
   "source": [
    "# standard checks\n",
    "all_chrs = genes_info[\"chr\"].dropna().unique()\n",
    "assert all_chrs.shape[0] == 22\n",
    "\n",
    "# select chromosome given by the user\n",
    "assert chromosome in all_chrs\n",
    "\n",
    "# run only on the chromosome specified\n",
    "all_chrs = [chromosome]\n",
    "genes_chr = genes_info[genes_info[\"chr\"] == chromosome]\n",
    "\n",
    "# For testing purposes\n",
    "# genes_chr = genes_chr.sample(n=20)\n",
    "\n",
    "print(f\"Number of genes in chromosome: {genes_chr.shape[0]}\", flush=True)\n",
    "\n",
    "# sort genes by starting position to make visualizations better later\n",
    "genes_chr = genes_chr.sort_values(\"start_position\")\n",
    "\n",
    "gene_chr_objs = [Gene(ensembl_id=gene_id) for gene_id in genes_chr[\"id\"]]\n",
    "gene_chr_ids = [g.ensembl_id for g in gene_chr_objs]\n",
    "\n",
    "n = len(gene_chr_objs)\n",
    "n_comb = int(n * (n - 1) / 2.0)\n",
    "print(f\"Number of gene combinations: {n_comb}\", flush=True)\n",
    "\n",
    "gene_corrs = []\n",
    "\n",
    "pbar = tqdm(ncols=100, total=n_comb)\n",
    "i = 0\n",
    "for gene_idx1 in range(0, len(gene_chr_objs) - 1):\n",
    "    gene_obj1 = gene_chr_objs[gene_idx1]\n",
    "\n",
    "    for gene_idx2 in range(gene_idx1 + 1, len(gene_chr_objs)):\n",
    "        gene_obj2 = gene_chr_objs[gene_idx2]\n",
    "\n",
    "        pbar.set_description(f\"{gene_obj1.ensembl_id} / {gene_obj2.ensembl_id}\")\n",
    "\n",
    "        try:\n",
    "            # FIXME: compute the correlation of the sum of squares of the model using all\n",
    "            # the available tissues; this could be problematic because for some results\n",
    "            # (computed on a specific phenotype/GWAS) we might not have all the tissues\n",
    "            # available, which can certainly bias the correlation estimation.\n",
    "            # Since this depends on the GWAS on a specific phenotype, we should ideally have\n",
    "            # one correlation matrix per GWAS. I should look at how we can improve this.\n",
    "            r = gene_obj1.get_ssm_correlation(\n",
    "                other_gene=gene_obj2,\n",
    "                condition_number=SMULTIXCAN_CONDITION_NUMBER,\n",
    "                reference_panel=REFERENCE_PANEL,\n",
    "                model_type=EQTL_MODEL,\n",
    "                use_within_distance=COMPUTE_CORRELATIONS_WITHIN_DISTANCE,\n",
    "            )\n",
    "\n",
    "            if r is None:\n",
    "                # if r is None, it's very likely because:\n",
    "                #  * one of the genes has no prediction models\n",
    "                #  * all the SNPs predictors for the gene are not present in the reference\n",
    "                #    panel\n",
    "\n",
    "                r = 0.0\n",
    "\n",
    "            gene_corrs.append(r)\n",
    "        except Warning:\n",
    "            print(\n",
    "                f\"RuntimeWarning for genes {gene_obj1.ensembl_id} and {gene_obj2.ensembl_id}\",\n",
    "                flush=True,\n",
    "            )\n",
    "            import traceback\n",
    "\n",
    "            print(traceback.format_exc(), flush=True)\n",
    "        except Exception as e:\n",
    "            print(\n",
    "                f\"Exception for genes {gene_obj1.ensembl_id} and {gene_obj2.ensembl_id}\",\n",
    "                flush=True,\n",
    "            )\n",
    "            import traceback\n",
    "\n",
    "            print(traceback.format_exc(), flush=True)\n",
    "            gene_corrs.append(np.nan)\n",
    "\n",
    "        pbar.update(1)\n",
    "\n",
    "pbar.close()\n",
    "\n",
    "# testing\n",
    "gene_corrs_flat = pd.Series(gene_corrs)\n",
    "print(f\"Min/max values: {gene_corrs_flat.min()} / {gene_corrs_flat.max()}\")\n",
    "assert gene_corrs_flat.min() >= -1.001\n",
    "assert gene_corrs_flat.max() <= 1.001\n",
    "\n",
    "# save\n",
    "# FIXME: consider saving only the condenced matrix here. See here for\n",
    "# more details: https://github.com/greenelab/phenoplier/pull/38#discussion_r634600813\n",
    "gene_corrs_data = squareform(np.array(gene_corrs, dtype=np.float64))\n",
    "np.fill_diagonal(gene_corrs_data, 1.0)\n",
    "\n",
    "gene_corrs_df = pd.DataFrame(\n",
    "    data=gene_corrs_data,\n",
    "    index=gene_chr_ids,\n",
    "    columns=gene_chr_ids,\n",
    ")\n",
    "\n",
    "output_dir.mkdir(exist_ok=True, parents=True)\n",
    "display(output_file)\n",
    "\n",
    "gene_corrs_df.to_pickle(output_file)"
   ]
  },
  {
   "cell_type": "markdown",
   "id": "faa67b51-5373-470f-aa72-2ded53fa6dfe",
   "metadata": {
    "papermill": {
     "duration": 2.100338,
     "end_time": "2022-07-12T09:30:08.010315",
     "exception": false,
     "start_time": "2022-07-12T09:30:05.909977",
     "status": "completed"
    },
    "tags": []
   },
   "source": [
    "# Testing"
   ]
  },
  {
   "cell_type": "code",
   "execution_count": 34,
   "id": "14f7d046-4b55-4896-a56b-990127bcc388",
   "metadata": {
    "execution": {
     "iopub.execute_input": "2022-07-12T09:30:12.151311Z",
     "iopub.status.busy": "2022-07-12T09:30:12.150648Z",
     "iopub.status.idle": "2022-07-12T09:30:12.167092Z",
     "shell.execute_reply": "2022-07-12T09:30:12.166673Z"
    },
    "papermill": {
     "duration": 2.122903,
     "end_time": "2022-07-12T09:30:12.168283",
     "exception": false,
     "start_time": "2022-07-12T09:30:10.045380",
     "status": "completed"
    },
    "tags": []
   },
   "outputs": [
    {
     "data": {
      "text/plain": [
       "(274, 274)"
      ]
     },
     "execution_count": 34,
     "metadata": {},
     "output_type": "execute_result"
    }
   ],
   "source": [
    "gene_corrs_df.shape"
   ]
  },
  {
   "cell_type": "code",
   "execution_count": 35,
   "id": "c7d15414-3297-4537-a7c6-7588c0baeb75",
   "metadata": {
    "execution": {
     "iopub.execute_input": "2022-07-12T09:30:16.285125Z",
     "iopub.status.busy": "2022-07-12T09:30:16.284958Z",
     "iopub.status.idle": "2022-07-12T09:30:16.314070Z",
     "shell.execute_reply": "2022-07-12T09:30:16.313636Z"
    },
    "papermill": {
     "duration": 2.100466,
     "end_time": "2022-07-12T09:30:16.315265",
     "exception": false,
     "start_time": "2022-07-12T09:30:14.214799",
     "status": "completed"
    },
    "tags": []
   },
   "outputs": [
    {
     "data": {
      "text/html": [
       "<div>\n",
       "<style scoped>\n",
       "    .dataframe tbody tr th:only-of-type {\n",
       "        vertical-align: middle;\n",
       "    }\n",
       "\n",
       "    .dataframe tbody tr th {\n",
       "        vertical-align: top;\n",
       "    }\n",
       "\n",
       "    .dataframe thead th {\n",
       "        text-align: right;\n",
       "    }\n",
       "</style>\n",
       "<table border=\"1\" class=\"dataframe\">\n",
       "  <thead>\n",
       "    <tr style=\"text-align: right;\">\n",
       "      <th></th>\n",
       "      <th>ENSG00000161980</th>\n",
       "      <th>ENSG00000103152</th>\n",
       "      <th>ENSG00000206172</th>\n",
       "      <th>ENSG00000086506</th>\n",
       "      <th>ENSG00000076344</th>\n",
       "      <th>ENSG00000103126</th>\n",
       "      <th>ENSG00000086504</th>\n",
       "      <th>ENSG00000103202</th>\n",
       "      <th>ENSG00000242612</th>\n",
       "      <th>ENSG00000090565</th>\n",
       "      <th>...</th>\n",
       "      <th>ENSG00000051523</th>\n",
       "      <th>ENSG00000167508</th>\n",
       "      <th>ENSG00000167513</th>\n",
       "      <th>ENSG00000198931</th>\n",
       "      <th>ENSG00000141012</th>\n",
       "      <th>ENSG00000129993</th>\n",
       "      <th>ENSG00000167526</th>\n",
       "      <th>ENSG00000187741</th>\n",
       "      <th>ENSG00000258839</th>\n",
       "      <th>ENSG00000258947</th>\n",
       "    </tr>\n",
       "  </thead>\n",
       "  <tbody>\n",
       "    <tr>\n",
       "      <th>ENSG00000161980</th>\n",
       "      <td>1.000000</td>\n",
       "      <td>0.293162</td>\n",
       "      <td>0.014457</td>\n",
       "      <td>0.028432</td>\n",
       "      <td>0.015662</td>\n",
       "      <td>0.007811</td>\n",
       "      <td>0.007649</td>\n",
       "      <td>0.007966</td>\n",
       "      <td>0.003933</td>\n",
       "      <td>0.008701</td>\n",
       "      <td>...</td>\n",
       "      <td>0.002026</td>\n",
       "      <td>0.007375</td>\n",
       "      <td>0.010046</td>\n",
       "      <td>0.003813</td>\n",
       "      <td>0.009857</td>\n",
       "      <td>0.007633</td>\n",
       "      <td>0.005263</td>\n",
       "      <td>0.004385</td>\n",
       "      <td>0.001849</td>\n",
       "      <td>0.010001</td>\n",
       "    </tr>\n",
       "    <tr>\n",
       "      <th>ENSG00000103152</th>\n",
       "      <td>0.293162</td>\n",
       "      <td>1.000000</td>\n",
       "      <td>0.042662</td>\n",
       "      <td>0.098599</td>\n",
       "      <td>0.044781</td>\n",
       "      <td>0.016318</td>\n",
       "      <td>0.025287</td>\n",
       "      <td>0.012652</td>\n",
       "      <td>0.006490</td>\n",
       "      <td>0.008929</td>\n",
       "      <td>...</td>\n",
       "      <td>0.008902</td>\n",
       "      <td>0.013373</td>\n",
       "      <td>0.007605</td>\n",
       "      <td>0.005172</td>\n",
       "      <td>0.008916</td>\n",
       "      <td>0.011612</td>\n",
       "      <td>0.006894</td>\n",
       "      <td>0.006259</td>\n",
       "      <td>0.001973</td>\n",
       "      <td>0.007939</td>\n",
       "    </tr>\n",
       "    <tr>\n",
       "      <th>ENSG00000206172</th>\n",
       "      <td>0.014457</td>\n",
       "      <td>0.042662</td>\n",
       "      <td>1.000000</td>\n",
       "      <td>0.080993</td>\n",
       "      <td>0.062229</td>\n",
       "      <td>0.039482</td>\n",
       "      <td>0.134139</td>\n",
       "      <td>0.022356</td>\n",
       "      <td>0.016887</td>\n",
       "      <td>0.009029</td>\n",
       "      <td>...</td>\n",
       "      <td>0.006363</td>\n",
       "      <td>0.011188</td>\n",
       "      <td>0.003609</td>\n",
       "      <td>0.002801</td>\n",
       "      <td>0.005902</td>\n",
       "      <td>0.003569</td>\n",
       "      <td>0.000148</td>\n",
       "      <td>0.003438</td>\n",
       "      <td>0.000564</td>\n",
       "      <td>0.004112</td>\n",
       "    </tr>\n",
       "    <tr>\n",
       "      <th>ENSG00000086506</th>\n",
       "      <td>0.028432</td>\n",
       "      <td>0.098599</td>\n",
       "      <td>0.080993</td>\n",
       "      <td>1.000000</td>\n",
       "      <td>0.146734</td>\n",
       "      <td>0.066133</td>\n",
       "      <td>0.085225</td>\n",
       "      <td>0.027480</td>\n",
       "      <td>0.016960</td>\n",
       "      <td>0.025167</td>\n",
       "      <td>...</td>\n",
       "      <td>0.008670</td>\n",
       "      <td>0.010652</td>\n",
       "      <td>0.013715</td>\n",
       "      <td>0.008830</td>\n",
       "      <td>0.013083</td>\n",
       "      <td>0.008792</td>\n",
       "      <td>0.003089</td>\n",
       "      <td>0.006359</td>\n",
       "      <td>0.002827</td>\n",
       "      <td>0.014845</td>\n",
       "    </tr>\n",
       "    <tr>\n",
       "      <th>ENSG00000076344</th>\n",
       "      <td>0.015662</td>\n",
       "      <td>0.044781</td>\n",
       "      <td>0.062229</td>\n",
       "      <td>0.146734</td>\n",
       "      <td>1.000000</td>\n",
       "      <td>0.104772</td>\n",
       "      <td>0.101072</td>\n",
       "      <td>0.019538</td>\n",
       "      <td>0.014887</td>\n",
       "      <td>0.023975</td>\n",
       "      <td>...</td>\n",
       "      <td>0.015462</td>\n",
       "      <td>0.004269</td>\n",
       "      <td>0.004177</td>\n",
       "      <td>0.003577</td>\n",
       "      <td>0.005734</td>\n",
       "      <td>0.010353</td>\n",
       "      <td>0.001792</td>\n",
       "      <td>0.002738</td>\n",
       "      <td>0.001559</td>\n",
       "      <td>0.007632</td>\n",
       "    </tr>\n",
       "  </tbody>\n",
       "</table>\n",
       "<p>5 rows × 274 columns</p>\n",
       "</div>"
      ],
      "text/plain": [
       "                 ENSG00000161980  ENSG00000103152  ENSG00000206172  \\\n",
       "ENSG00000161980         1.000000         0.293162         0.014457   \n",
       "ENSG00000103152         0.293162         1.000000         0.042662   \n",
       "ENSG00000206172         0.014457         0.042662         1.000000   \n",
       "ENSG00000086506         0.028432         0.098599         0.080993   \n",
       "ENSG00000076344         0.015662         0.044781         0.062229   \n",
       "\n",
       "                 ENSG00000086506  ENSG00000076344  ENSG00000103126  \\\n",
       "ENSG00000161980         0.028432         0.015662         0.007811   \n",
       "ENSG00000103152         0.098599         0.044781         0.016318   \n",
       "ENSG00000206172         0.080993         0.062229         0.039482   \n",
       "ENSG00000086506         1.000000         0.146734         0.066133   \n",
       "ENSG00000076344         0.146734         1.000000         0.104772   \n",
       "\n",
       "                 ENSG00000086504  ENSG00000103202  ENSG00000242612  \\\n",
       "ENSG00000161980         0.007649         0.007966         0.003933   \n",
       "ENSG00000103152         0.025287         0.012652         0.006490   \n",
       "ENSG00000206172         0.134139         0.022356         0.016887   \n",
       "ENSG00000086506         0.085225         0.027480         0.016960   \n",
       "ENSG00000076344         0.101072         0.019538         0.014887   \n",
       "\n",
       "                 ENSG00000090565  ...  ENSG00000051523  ENSG00000167508  \\\n",
       "ENSG00000161980         0.008701  ...         0.002026         0.007375   \n",
       "ENSG00000103152         0.008929  ...         0.008902         0.013373   \n",
       "ENSG00000206172         0.009029  ...         0.006363         0.011188   \n",
       "ENSG00000086506         0.025167  ...         0.008670         0.010652   \n",
       "ENSG00000076344         0.023975  ...         0.015462         0.004269   \n",
       "\n",
       "                 ENSG00000167513  ENSG00000198931  ENSG00000141012  \\\n",
       "ENSG00000161980         0.010046         0.003813         0.009857   \n",
       "ENSG00000103152         0.007605         0.005172         0.008916   \n",
       "ENSG00000206172         0.003609         0.002801         0.005902   \n",
       "ENSG00000086506         0.013715         0.008830         0.013083   \n",
       "ENSG00000076344         0.004177         0.003577         0.005734   \n",
       "\n",
       "                 ENSG00000129993  ENSG00000167526  ENSG00000187741  \\\n",
       "ENSG00000161980         0.007633         0.005263         0.004385   \n",
       "ENSG00000103152         0.011612         0.006894         0.006259   \n",
       "ENSG00000206172         0.003569         0.000148         0.003438   \n",
       "ENSG00000086506         0.008792         0.003089         0.006359   \n",
       "ENSG00000076344         0.010353         0.001792         0.002738   \n",
       "\n",
       "                 ENSG00000258839  ENSG00000258947  \n",
       "ENSG00000161980         0.001849         0.010001  \n",
       "ENSG00000103152         0.001973         0.007939  \n",
       "ENSG00000206172         0.000564         0.004112  \n",
       "ENSG00000086506         0.002827         0.014845  \n",
       "ENSG00000076344         0.001559         0.007632  \n",
       "\n",
       "[5 rows x 274 columns]"
      ]
     },
     "execution_count": 35,
     "metadata": {},
     "output_type": "execute_result"
    }
   ],
   "source": [
    "gene_corrs_df.head()"
   ]
  },
  {
   "cell_type": "code",
   "execution_count": 36,
   "id": "286686af-1b7b-4440-8453-6bdcbd8de19c",
   "metadata": {
    "execution": {
     "iopub.execute_input": "2022-07-12T09:30:20.477759Z",
     "iopub.status.busy": "2022-07-12T09:30:20.477534Z",
     "iopub.status.idle": "2022-07-12T09:30:20.494070Z",
     "shell.execute_reply": "2022-07-12T09:30:20.493330Z"
    },
    "papermill": {
     "duration": 2.101391,
     "end_time": "2022-07-12T09:30:20.495390",
     "exception": false,
     "start_time": "2022-07-12T09:30:18.393999",
     "status": "completed"
    },
    "tags": []
   },
   "outputs": [],
   "source": [
    "assert not gene_corrs_df.isna().any().any()"
   ]
  },
  {
   "cell_type": "code",
   "execution_count": 37,
   "id": "00583efc-7068-4270-ad1e-4a418e91db96",
   "metadata": {
    "execution": {
     "iopub.execute_input": "2022-07-12T09:30:24.686448Z",
     "iopub.status.busy": "2022-07-12T09:30:24.686230Z",
     "iopub.status.idle": "2022-07-12T09:30:24.703629Z",
     "shell.execute_reply": "2022-07-12T09:30:24.703201Z"
    },
    "papermill": {
     "duration": 2.115306,
     "end_time": "2022-07-12T09:30:24.704747",
     "exception": false,
     "start_time": "2022-07-12T09:30:22.589441",
     "status": "completed"
    },
    "tags": []
   },
   "outputs": [
    {
     "data": {
      "text/plain": [
       "3.123912164804141e-08"
      ]
     },
     "metadata": {},
     "output_type": "display_data"
    }
   ],
   "source": [
    "_min_val = gene_corrs_df.min().min()\n",
    "display(_min_val)\n",
    "assert _min_val >= 0.0"
   ]
  },
  {
   "cell_type": "code",
   "execution_count": 38,
   "id": "d04fb2cf-1050-475b-b855-f5f7cc04092b",
   "metadata": {
    "execution": {
     "iopub.execute_input": "2022-07-12T09:30:28.889194Z",
     "iopub.status.busy": "2022-07-12T09:30:28.888984Z",
     "iopub.status.idle": "2022-07-12T09:30:28.907245Z",
     "shell.execute_reply": "2022-07-12T09:30:28.906814Z"
    },
    "papermill": {
     "duration": 2.111665,
     "end_time": "2022-07-12T09:30:28.908412",
     "exception": false,
     "start_time": "2022-07-12T09:30:26.796747",
     "status": "completed"
    },
    "tags": []
   },
   "outputs": [
    {
     "data": {
      "text/plain": [
       "1.0"
      ]
     },
     "metadata": {},
     "output_type": "display_data"
    }
   ],
   "source": [
    "_max_val = gene_corrs_df.max().max()  # this captures the diagonal\n",
    "display(_max_val)\n",
    "assert _max_val <= 1.0"
   ]
  },
  {
   "cell_type": "code",
   "execution_count": 39,
   "id": "96d02c44-1fba-47be-8a93-8f2608420b9c",
   "metadata": {
    "execution": {
     "iopub.execute_input": "2022-07-12T09:30:33.054905Z",
     "iopub.status.busy": "2022-07-12T09:30:33.054688Z",
     "iopub.status.idle": "2022-07-12T09:30:33.071689Z",
     "shell.execute_reply": "2022-07-12T09:30:33.071199Z"
    },
    "papermill": {
     "duration": 2.088973,
     "end_time": "2022-07-12T09:30:33.073006",
     "exception": false,
     "start_time": "2022-07-12T09:30:30.984033",
     "status": "completed"
    },
    "tags": []
   },
   "outputs": [],
   "source": [
    "# check upper triangular values\n",
    "assert len(gene_corrs) == int(genes_chr.shape[0] * (genes_chr.shape[0] - 1) / 2)"
   ]
  },
  {
   "cell_type": "code",
   "execution_count": 40,
   "id": "aaa51627-f4e3-4744-a41f-7d25adcc0a78",
   "metadata": {
    "execution": {
     "iopub.execute_input": "2022-07-12T09:30:37.218195Z",
     "iopub.status.busy": "2022-07-12T09:30:37.217993Z",
     "iopub.status.idle": "2022-07-12T09:30:37.244698Z",
     "shell.execute_reply": "2022-07-12T09:30:37.244253Z"
    },
    "papermill": {
     "duration": 2.107452,
     "end_time": "2022-07-12T09:30:37.246099",
     "exception": false,
     "start_time": "2022-07-12T09:30:35.138647",
     "status": "completed"
    },
    "tags": []
   },
   "outputs": [],
   "source": [
    "gene_corrs = pd.Series(gene_corrs)"
   ]
  },
  {
   "cell_type": "code",
   "execution_count": 41,
   "id": "fe283586-c348-40e0-8841-f6d97bfb021c",
   "metadata": {
    "execution": {
     "iopub.execute_input": "2022-07-12T09:30:41.390362Z",
     "iopub.status.busy": "2022-07-12T09:30:41.390199Z",
     "iopub.status.idle": "2022-07-12T09:30:41.411477Z",
     "shell.execute_reply": "2022-07-12T09:30:41.411014Z"
    },
    "papermill": {
     "duration": 2.09902,
     "end_time": "2022-07-12T09:30:41.413123",
     "exception": false,
     "start_time": "2022-07-12T09:30:39.314103",
     "status": "completed"
    },
    "tags": []
   },
   "outputs": [
    {
     "data": {
      "text/plain": [
       "count    3.740100e+04\n",
       "mean     1.307399e-02\n",
       "std      4.499049e-02\n",
       "min      3.123912e-08\n",
       "25%      4.664798e-03\n",
       "50%      7.392007e-03\n",
       "75%      1.067741e-02\n",
       "max      9.835110e-01\n",
       "dtype: float64"
      ]
     },
     "execution_count": 41,
     "metadata": {},
     "output_type": "execute_result"
    }
   ],
   "source": [
    "gene_corrs.describe()"
   ]
  },
  {
   "cell_type": "code",
   "execution_count": 42,
   "id": "b3815678-0f93-4b35-897b-a9d047a2aa78",
   "metadata": {
    "execution": {
     "iopub.execute_input": "2022-07-12T09:30:45.584187Z",
     "iopub.status.busy": "2022-07-12T09:30:45.583985Z",
     "iopub.status.idle": "2022-07-12T09:30:45.603637Z",
     "shell.execute_reply": "2022-07-12T09:30:45.603178Z"
    },
    "papermill": {
     "duration": 2.095635,
     "end_time": "2022-07-12T09:30:45.604832",
     "exception": false,
     "start_time": "2022-07-12T09:30:43.509197",
     "status": "completed"
    },
    "tags": []
   },
   "outputs": [
    {
     "data": {
      "text/plain": [
       "0.00    3.123912e-08\n",
       "0.05    1.712974e-03\n",
       "0.10    2.681204e-03\n",
       "0.15    3.434856e-03\n",
       "0.20    4.080785e-03\n",
       "0.25    4.664798e-03\n",
       "0.30    5.231405e-03\n",
       "0.35    5.790318e-03\n",
       "0.40    6.328196e-03\n",
       "0.45    6.845576e-03\n",
       "0.50    7.392007e-03\n",
       "0.55    7.954148e-03\n",
       "0.60    8.549974e-03\n",
       "0.65    9.189336e-03\n",
       "0.70    9.899484e-03\n",
       "0.75    1.067741e-02\n",
       "0.80    1.159487e-02\n",
       "0.85    1.276428e-02\n",
       "0.90    1.440104e-02\n",
       "0.95    1.802102e-02\n",
       "dtype: float64"
      ]
     },
     "metadata": {},
     "output_type": "display_data"
    }
   ],
   "source": [
    "gene_corrs_quantiles = gene_corrs.quantile(np.arange(0, 1, 0.05))\n",
    "display(gene_corrs_quantiles)"
   ]
  },
  {
   "cell_type": "markdown",
   "id": "8e60a080-edb2-4e9c-b2ef-22961693200c",
   "metadata": {
    "papermill": {
     "duration": 2.079981,
     "end_time": "2022-07-12T09:30:49.735070",
     "exception": false,
     "start_time": "2022-07-12T09:30:47.655089",
     "status": "completed"
    },
    "tags": []
   },
   "source": [
    "## Plot: distribution"
   ]
  },
  {
   "cell_type": "code",
   "execution_count": 43,
   "id": "8301126b-a7d4-4744-9c7d-f0f86eb6f54c",
   "metadata": {
    "execution": {
     "iopub.execute_input": "2022-07-12T09:30:53.922979Z",
     "iopub.status.busy": "2022-07-12T09:30:53.922778Z",
     "iopub.status.idle": "2022-07-12T09:30:58.579976Z",
     "shell.execute_reply": "2022-07-12T09:30:58.579247Z"
    },
    "papermill": {
     "duration": 6.747979,
     "end_time": "2022-07-12T09:30:58.581285",
     "exception": false,
     "start_time": "2022-07-12T09:30:51.833306",
     "status": "completed"
    },
    "tags": []
   },
   "outputs": [
    {
     "data": {
      "image/png": "[encoded data removed]",
      "text/plain": [
       "<Figure size 504x504 with 1 Axes>"
      ]
     },
     "metadata": {
      "needs_background": "light"
     },
     "output_type": "display_data"
    }
   ],
   "source": [
    "with sns.plotting_context(\"paper\", font_scale=1.5):\n",
    "    g = sns.displot(gene_corrs, kde=True, height=7)\n",
    "    g.ax.set_title(\n",
    "        f\"Distribution of gene correlation values in chromosome {chromosome}\"\n",
    "    )"
   ]
  },
  {
   "cell_type": "markdown",
   "id": "cbd52bca-d878-4a2f-b684-5c83aa3038d4",
   "metadata": {
    "papermill": {
     "duration": 2.070144,
     "end_time": "2022-07-12T09:31:02.745774",
     "exception": false,
     "start_time": "2022-07-12T09:31:00.675630",
     "status": "completed"
    },
    "tags": []
   },
   "source": [
    "## Plot: heatmap"
   ]
  },
  {
   "cell_type": "code",
   "execution_count": 44,
   "id": "d03fe63a-c7b2-4fb9-a53c-db362ce843c9",
   "metadata": {
    "execution": {
     "iopub.execute_input": "2022-07-12T09:31:06.928438Z",
     "iopub.status.busy": "2022-07-12T09:31:06.928196Z",
     "iopub.status.idle": "2022-07-12T09:31:06.944497Z",
     "shell.execute_reply": "2022-07-12T09:31:06.944075Z"
    },
    "papermill": {
     "duration": 2.130129,
     "end_time": "2022-07-12T09:31:06.945669",
     "exception": false,
     "start_time": "2022-07-12T09:31:04.815540",
     "status": "completed"
    },
    "tags": []
   },
   "outputs": [
    {
     "data": {
      "text/plain": [
       "'-0.05 / 0.05'"
      ]
     },
     "metadata": {},
     "output_type": "display_data"
    }
   ],
   "source": [
    "vmin_val = min(-0.05, gene_corrs_quantiles[0.10])\n",
    "vmax_val = max(0.05, gene_corrs_quantiles[0.90])\n",
    "display(f\"{vmin_val} / {vmax_val}\")"
   ]
  },
  {
   "cell_type": "code",
   "execution_count": 45,
   "id": "dc41b70b-5bcc-4d9e-9f33-a22c4a94dab5",
   "metadata": {
    "execution": {
     "iopub.execute_input": "2022-07-12T09:31:11.100881Z",
     "iopub.status.busy": "2022-07-12T09:31:11.100643Z",
     "iopub.status.idle": "2022-07-12T09:31:11.331556Z",
     "shell.execute_reply": "2022-07-12T09:31:11.331022Z"
    },
    "papermill": {
     "duration": 2.311432,
     "end_time": "2022-07-12T09:31:11.332829",
     "exception": false,
     "start_time": "2022-07-12T09:31:09.021397",
     "status": "completed"
    },
    "tags": []
   },
   "outputs": [
    {
     "data": {
      "text/plain": [
       "Text(0.5, 1.0, 'Gene correlations in chromosome 16')"
      ]
     },
     "execution_count": 45,
     "metadata": {},
     "output_type": "execute_result"
    },
    {
     "data": {
      "image/png": "[encoded data removed]",
      "text/plain": [
       "<Figure size 720x720 with 2 Axes>"
      ]
     },
     "metadata": {
      "needs_background": "light"
     },
     "output_type": "display_data"
    }
   ],
   "source": [
    "f, ax = plt.subplots(figsize=(10, 10))\n",
    "sns.heatmap(\n",
    "    gene_corrs_df,\n",
    "    xticklabels=False,\n",
    "    yticklabels=False,\n",
    "    square=True,\n",
    "    vmin=vmin_val,\n",
    "    vmax=vmax_val,\n",
    "    cmap=\"YlGnBu\",\n",
    "    ax=ax,\n",
    ")\n",
    "ax.set_title(f\"Gene correlations in chromosome {chromosome}\")"
   ]
  },
  {
   "cell_type": "code",
   "execution_count": null,
   "id": "b25e3ead",
   "metadata": {
    "papermill": {
     "duration": 2.07573,
     "end_time": "2022-07-12T09:31:15.495114",
     "exception": false,
     "start_time": "2022-07-12T09:31:13.419384",
     "status": "completed"
    },
    "tags": []
   },
   "outputs": [],
   "source": []
  }
 ],
 "metadata": {
  "jupytext": {
   "cell_metadata_filter": "all,-execution,-papermill,-trusted",
   "formats": "ipynb,py//py:percent"
  },
  "kernelspec": {
   "display_name": "Python 3 (ipykernel)",
   "language": "python",
   "name": "python3"
  },
  "language_info": {
   "codemirror_mode": {
    "name": "ipython",
    "version": 3
   },
   "file_extension": ".py",
   "mimetype": "text/x-python",
   "name": "python",
   "nbconvert_exporter": "python",
   "pygments_lexer": "ipython3",
   "version": "3.8.13"
  },
  "papermill": {
   "default_parameters": {},
   "duration": 3130.156937,
   "end_time": "2022-07-12T09:31:20.503548",
   "environment_variables": {},
   "exception": null,
   "input_path": "nbs/15_gsa_gls/10-gene_expr_correlations.ipynb",
   "output_path": "nbs/15_gsa_gls/gene_corrs/1000g/mashr/10-gene_expr_correlations-chr16.run.ipynb",
   "parameters": {
    "EQTL_MODEL": "MASHR",
    "REFERENCE_PANEL": "1000G",
    "chromosome": 16
   },
   "start_time": "2022-07-12T08:39:10.346611",
   "version": "2.2.2"
  }
 },
 "nbformat": 4,
 "nbformat_minor": 5
}
