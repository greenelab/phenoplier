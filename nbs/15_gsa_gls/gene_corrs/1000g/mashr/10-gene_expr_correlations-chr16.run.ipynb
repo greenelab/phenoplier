{
 "cells": [
  {
   "cell_type": "markdown",
   "id": "7a6632fb",
   "metadata": {
    "papermill": {
     "duration": 0.007721,
     "end_time": "2022-07-11T07:25:36.338697",
     "exception": false,
     "start_time": "2022-07-11T07:25:36.330976",
     "status": "completed"
    },
    "tags": []
   },
   "source": [
    "# Description"
   ]
  },
  {
   "cell_type": "markdown",
   "id": "7097c346",
   "metadata": {
    "papermill": {
     "duration": 0.006328,
     "end_time": "2022-07-11T07:25:36.351881",
     "exception": false,
     "start_time": "2022-07-11T07:25:36.345553",
     "status": "completed"
    },
    "tags": []
   },
   "source": [
    "(Please, take a look at the README.md file in this directory for instructions on how to run this notebook)\n",
    "\n",
    "This notebook computes predicted expression correlations between all genes in the MultiPLIER models.\n",
    "\n",
    "It also has a parameter set for papermill to run on a single chromosome to run in parallel (see under `Settings` below).\n",
    "\n",
    "This notebook is not directly run. See README.md."
   ]
  },
  {
   "cell_type": "markdown",
   "id": "c61d8427",
   "metadata": {
    "papermill": {
     "duration": 0.006262,
     "end_time": "2022-07-11T07:25:36.364597",
     "exception": false,
     "start_time": "2022-07-11T07:25:36.358335",
     "status": "completed"
    },
    "tags": []
   },
   "source": [
    "# Modules"
   ]
  },
  {
   "cell_type": "code",
   "execution_count": 1,
   "id": "bbc0234f",
   "metadata": {
    "execution": {
     "iopub.execute_input": "2022-07-11T07:25:36.378974Z",
     "iopub.status.busy": "2022-07-11T07:25:36.378410Z",
     "iopub.status.idle": "2022-07-11T07:25:36.394729Z",
     "shell.execute_reply": "2022-07-11T07:25:36.394167Z"
    },
    "papermill": {
     "duration": 0.025248,
     "end_time": "2022-07-11T07:25:36.396307",
     "exception": false,
     "start_time": "2022-07-11T07:25:36.371059",
     "status": "completed"
    },
    "tags": []
   },
   "outputs": [],
   "source": [
    "%load_ext autoreload\n",
    "%autoreload 2"
   ]
  },
  {
   "cell_type": "code",
   "execution_count": 2,
   "id": "1d5f5a59",
   "metadata": {
    "execution": {
     "iopub.execute_input": "2022-07-11T07:25:36.410054Z",
     "iopub.status.busy": "2022-07-11T07:25:36.409882Z",
     "iopub.status.idle": "2022-07-11T07:25:37.259029Z",
     "shell.execute_reply": "2022-07-11T07:25:37.258472Z"
    },
    "papermill": {
     "duration": 0.857829,
     "end_time": "2022-07-11T07:25:37.260535",
     "exception": false,
     "start_time": "2022-07-11T07:25:36.402706",
     "status": "completed"
    },
    "tags": []
   },
   "outputs": [],
   "source": [
    "from random import sample, seed\n",
    "import warnings\n",
    "from pathlib import Path\n",
    "\n",
    "import numpy as np\n",
    "from scipy.spatial.distance import squareform\n",
    "import pandas as pd\n",
    "from tqdm import tqdm\n",
    "import matplotlib.pyplot as plt\n",
    "import seaborn as sns\n",
    "\n",
    "import conf\n",
    "from entity import Gene"
   ]
  },
  {
   "cell_type": "markdown",
   "id": "1eac24b5",
   "metadata": {
    "papermill": {
     "duration": 0.006386,
     "end_time": "2022-07-11T07:25:37.301051",
     "exception": false,
     "start_time": "2022-07-11T07:25:37.294665",
     "status": "completed"
    },
    "tags": []
   },
   "source": [
    "# Settings"
   ]
  },
  {
   "cell_type": "code",
   "execution_count": 3,
   "id": "ca4560ba",
   "metadata": {
    "execution": {
     "iopub.execute_input": "2022-07-11T07:25:37.315215Z",
     "iopub.status.busy": "2022-07-11T07:25:37.315022Z",
     "iopub.status.idle": "2022-07-11T07:25:37.331496Z",
     "shell.execute_reply": "2022-07-11T07:25:37.330919Z"
    },
    "papermill": {
     "duration": 0.025366,
     "end_time": "2022-07-11T07:25:37.332964",
     "exception": false,
     "start_time": "2022-07-11T07:25:37.307598",
     "status": "completed"
    },
    "tags": [
     "parameters"
    ]
   },
   "outputs": [],
   "source": [
    "# reference panel\n",
    "REFERENCE_PANEL = \"GTEX_V8\"\n",
    "# REFERENCE_PANEL = \"1000G\"\n",
    "\n",
    "# prediction models\n",
    "## mashr\n",
    "EQTL_MODEL = \"MASHR\"\n",
    "\n",
    "# this is the default value used in S-MultiXcan to select the\n",
    "# top principal components of the expression correlation matrix\n",
    "SMULTIXCAN_CONDITION_NUMBER = 30\n",
    "\n",
    "# specifies a single chromosome value\n",
    "# by default, run on all chromosomes\n",
    "chromosome = None"
   ]
  },
  {
   "cell_type": "code",
   "execution_count": 4,
   "id": "b4df6280",
   "metadata": {
    "execution": {
     "iopub.execute_input": "2022-07-11T07:25:37.346357Z",
     "iopub.status.busy": "2022-07-11T07:25:37.345888Z",
     "iopub.status.idle": "2022-07-11T07:25:37.361164Z",
     "shell.execute_reply": "2022-07-11T07:25:37.360592Z"
    },
    "papermill": {
     "duration": 0.023422,
     "end_time": "2022-07-11T07:25:37.362640",
     "exception": false,
     "start_time": "2022-07-11T07:25:37.339218",
     "status": "completed"
    },
    "tags": [
     "injected-parameters"
    ]
   },
   "outputs": [],
   "source": [
    "# Parameters\n",
    "chromosome = 16\n",
    "REFERENCE_PANEL = \"1000G\"\n",
    "EQTL_MODEL = \"MASHR\"\n"
   ]
  },
  {
   "cell_type": "code",
   "execution_count": 5,
   "id": "a089c9ff",
   "metadata": {
    "execution": {
     "iopub.execute_input": "2022-07-11T07:25:37.375533Z",
     "iopub.status.busy": "2022-07-11T07:25:37.375360Z",
     "iopub.status.idle": "2022-07-11T07:25:37.390537Z",
     "shell.execute_reply": "2022-07-11T07:25:37.390007Z"
    },
    "papermill": {
     "duration": 0.023082,
     "end_time": "2022-07-11T07:25:37.391938",
     "exception": false,
     "start_time": "2022-07-11T07:25:37.368856",
     "status": "completed"
    },
    "tags": []
   },
   "outputs": [],
   "source": [
    "EQTL_MODEL_FILES_PREFIX = conf.PHENOMEXCAN[\"PREDICTION_MODELS\"][f\"{EQTL_MODEL}_PREFIX\"]"
   ]
  },
  {
   "cell_type": "code",
   "execution_count": 6,
   "id": "8fe24bef",
   "metadata": {
    "execution": {
     "iopub.execute_input": "2022-07-11T07:25:37.404723Z",
     "iopub.status.busy": "2022-07-11T07:25:37.404550Z",
     "iopub.status.idle": "2022-07-11T07:25:37.421548Z",
     "shell.execute_reply": "2022-07-11T07:25:37.421027Z"
    },
    "papermill": {
     "duration": 0.024831,
     "end_time": "2022-07-11T07:25:37.422913",
     "exception": false,
     "start_time": "2022-07-11T07:25:37.398082",
     "status": "completed"
    },
    "tags": []
   },
   "outputs": [
    {
     "data": {
      "text/plain": [
       "'Using eQTL model: MASHR / mashr_'"
      ]
     },
     "metadata": {},
     "output_type": "display_data"
    }
   ],
   "source": [
    "display(f\"Using eQTL model: {EQTL_MODEL} / {EQTL_MODEL_FILES_PREFIX}\")"
   ]
  },
  {
   "cell_type": "code",
   "execution_count": 7,
   "id": "552a7f63-a18c-4d3e-bb6a-94f99b431291",
   "metadata": {
    "execution": {
     "iopub.execute_input": "2022-07-11T07:25:37.435555Z",
     "iopub.status.busy": "2022-07-11T07:25:37.435390Z",
     "iopub.status.idle": "2022-07-11T07:25:37.451610Z",
     "shell.execute_reply": "2022-07-11T07:25:37.451142Z"
    },
    "papermill": {
     "duration": 0.023941,
     "end_time": "2022-07-11T07:25:37.452954",
     "exception": false,
     "start_time": "2022-07-11T07:25:37.429013",
     "status": "completed"
    },
    "tags": []
   },
   "outputs": [
    {
     "data": {
      "text/plain": [
       "'S-MultiXcan condition number: 30'"
      ]
     },
     "metadata": {},
     "output_type": "display_data"
    }
   ],
   "source": [
    "display(f\"S-MultiXcan condition number: {SMULTIXCAN_CONDITION_NUMBER}\")"
   ]
  },
  {
   "cell_type": "code",
   "execution_count": 8,
   "id": "0230ebcb-2c32-4b95-9292-d9a52038e70d",
   "metadata": {
    "execution": {
     "iopub.execute_input": "2022-07-11T07:25:37.465814Z",
     "iopub.status.busy": "2022-07-11T07:25:37.465645Z",
     "iopub.status.idle": "2022-07-11T07:25:37.480618Z",
     "shell.execute_reply": "2022-07-11T07:25:37.480027Z"
    },
    "papermill": {
     "duration": 0.022924,
     "end_time": "2022-07-11T07:25:37.481976",
     "exception": false,
     "start_time": "2022-07-11T07:25:37.459052",
     "status": "completed"
    },
    "tags": []
   },
   "outputs": [],
   "source": [
    "REFERENCE_PANEL_DIR = conf.PHENOMEXCAN[\"LD_BLOCKS\"][f\"{REFERENCE_PANEL}_GENOTYPE_DIR\"]"
   ]
  },
  {
   "cell_type": "code",
   "execution_count": 9,
   "id": "98c4a159-601d-4a22-a1ab-35bd451c25f9",
   "metadata": {
    "execution": {
     "iopub.execute_input": "2022-07-11T07:25:37.494824Z",
     "iopub.status.busy": "2022-07-11T07:25:37.494656Z",
     "iopub.status.idle": "2022-07-11T07:25:37.510207Z",
     "shell.execute_reply": "2022-07-11T07:25:37.509701Z"
    },
    "papermill": {
     "duration": 0.023462,
     "end_time": "2022-07-11T07:25:37.511558",
     "exception": false,
     "start_time": "2022-07-11T07:25:37.488096",
     "status": "completed"
    },
    "tags": []
   },
   "outputs": [
    {
     "data": {
      "text/plain": [
       "'Using reference panel folder: /opt/data/data/phenomexcan/ld_blocks/reference_panel_1000G'"
      ]
     },
     "metadata": {},
     "output_type": "display_data"
    }
   ],
   "source": [
    "display(f\"Using reference panel folder: {str(REFERENCE_PANEL_DIR)}\")"
   ]
  },
  {
   "cell_type": "code",
   "execution_count": 10,
   "id": "396392dc-0340-4540-9b02-e182b833f909",
   "metadata": {
    "execution": {
     "iopub.execute_input": "2022-07-11T07:25:37.524685Z",
     "iopub.status.busy": "2022-07-11T07:25:37.524516Z",
     "iopub.status.idle": "2022-07-11T07:25:37.540201Z",
     "shell.execute_reply": "2022-07-11T07:25:37.539656Z"
    },
    "papermill": {
     "duration": 0.023815,
     "end_time": "2022-07-11T07:25:37.541642",
     "exception": false,
     "start_time": "2022-07-11T07:25:37.517827",
     "status": "completed"
    },
    "tags": []
   },
   "outputs": [],
   "source": [
    "OUTPUT_DIR_BASE = (\n",
    "    conf.PHENOMEXCAN[\"LD_BLOCKS\"][f\"GENE_CORRS_DIR\"]\n",
    "    / REFERENCE_PANEL.lower()\n",
    "    / EQTL_MODEL.lower()\n",
    ")\n",
    "OUTPUT_DIR_BASE.mkdir(parents=True, exist_ok=True)"
   ]
  },
  {
   "cell_type": "code",
   "execution_count": 11,
   "id": "8942c2d3-e53c-4d63-a0eb-b6fce0574d36",
   "metadata": {
    "execution": {
     "iopub.execute_input": "2022-07-11T07:25:37.554943Z",
     "iopub.status.busy": "2022-07-11T07:25:37.554768Z",
     "iopub.status.idle": "2022-07-11T07:25:37.570153Z",
     "shell.execute_reply": "2022-07-11T07:25:37.569695Z"
    },
    "papermill": {
     "duration": 0.023547,
     "end_time": "2022-07-11T07:25:37.571487",
     "exception": false,
     "start_time": "2022-07-11T07:25:37.547940",
     "status": "completed"
    },
    "tags": []
   },
   "outputs": [
    {
     "data": {
      "text/plain": [
       "'Using output dir base: /opt/data/data/phenomexcan/ld_blocks/gene_corrs/1000g/mashr'"
      ]
     },
     "metadata": {},
     "output_type": "display_data"
    }
   ],
   "source": [
    "display(f\"Using output dir base: {OUTPUT_DIR_BASE}\")"
   ]
  },
  {
   "cell_type": "code",
   "execution_count": 12,
   "id": "408aa590",
   "metadata": {
    "execution": {
     "iopub.execute_input": "2022-07-11T07:25:37.584965Z",
     "iopub.status.busy": "2022-07-11T07:25:37.584797Z",
     "iopub.status.idle": "2022-07-11T07:25:37.599340Z",
     "shell.execute_reply": "2022-07-11T07:25:37.598853Z"
    },
    "papermill": {
     "duration": 0.022898,
     "end_time": "2022-07-11T07:25:37.600679",
     "exception": false,
     "start_time": "2022-07-11T07:25:37.577781",
     "status": "completed"
    },
    "tags": []
   },
   "outputs": [],
   "source": [
    "assert (\n",
    "    chromosome is not None\n",
    "), \"You have to select one chromosome (format: number between 1 and 22)\""
   ]
  },
  {
   "cell_type": "code",
   "execution_count": 13,
   "id": "c1c7dd06-80ff-453c-bcb7-0899edce75da",
   "metadata": {
    "execution": {
     "iopub.execute_input": "2022-07-11T07:25:37.614041Z",
     "iopub.status.busy": "2022-07-11T07:25:37.613872Z",
     "iopub.status.idle": "2022-07-11T07:25:37.628459Z",
     "shell.execute_reply": "2022-07-11T07:25:37.627892Z"
    },
    "papermill": {
     "duration": 0.022852,
     "end_time": "2022-07-11T07:25:37.629896",
     "exception": false,
     "start_time": "2022-07-11T07:25:37.607044",
     "status": "completed"
    },
    "tags": []
   },
   "outputs": [],
   "source": [
    "chromosome = str(chromosome)"
   ]
  },
  {
   "cell_type": "code",
   "execution_count": 14,
   "id": "bc17b84c-9c26-47a5-a3ab-7046e72f3ef4",
   "metadata": {
    "execution": {
     "iopub.execute_input": "2022-07-11T07:25:37.643536Z",
     "iopub.status.busy": "2022-07-11T07:25:37.643364Z",
     "iopub.status.idle": "2022-07-11T07:25:37.659374Z",
     "shell.execute_reply": "2022-07-11T07:25:37.658883Z"
    },
    "papermill": {
     "duration": 0.02433,
     "end_time": "2022-07-11T07:25:37.660727",
     "exception": false,
     "start_time": "2022-07-11T07:25:37.636397",
     "status": "completed"
    },
    "tags": []
   },
   "outputs": [
    {
     "data": {
      "text/plain": [
       "'Working on chromosome 16'"
      ]
     },
     "metadata": {},
     "output_type": "display_data"
    }
   ],
   "source": [
    "display(f\"Working on chromosome {chromosome}\")"
   ]
  },
  {
   "cell_type": "markdown",
   "id": "d2ba085e",
   "metadata": {
    "papermill": {
     "duration": 0.006151,
     "end_time": "2022-07-11T07:25:37.673438",
     "exception": false,
     "start_time": "2022-07-11T07:25:37.667287",
     "status": "completed"
    },
    "tags": []
   },
   "source": [
    "# Load data"
   ]
  },
  {
   "cell_type": "markdown",
   "id": "7bed0ce0-e7c7-4300-9a61-5412450b1904",
   "metadata": {
    "papermill": {
     "duration": 0.005965,
     "end_time": "2022-07-11T07:25:37.685564",
     "exception": false,
     "start_time": "2022-07-11T07:25:37.679599",
     "status": "completed"
    },
    "tags": []
   },
   "source": [
    "## Prediction model tissues"
   ]
  },
  {
   "cell_type": "code",
   "execution_count": 15,
   "id": "0847c065-0d69-4830-a07f-1c75115d17f5",
   "metadata": {
    "execution": {
     "iopub.execute_input": "2022-07-11T07:25:37.698582Z",
     "iopub.status.busy": "2022-07-11T07:25:37.698420Z",
     "iopub.status.idle": "2022-07-11T07:25:37.713268Z",
     "shell.execute_reply": "2022-07-11T07:25:37.712747Z"
    },
    "papermill": {
     "duration": 0.02291,
     "end_time": "2022-07-11T07:25:37.714668",
     "exception": false,
     "start_time": "2022-07-11T07:25:37.691758",
     "status": "completed"
    },
    "tags": []
   },
   "outputs": [],
   "source": [
    "prediction_model_tissues = conf.PHENOMEXCAN[\"PREDICTION_MODELS\"][\n",
    "    f\"{EQTL_MODEL}_TISSUES\"\n",
    "].split(\" \")"
   ]
  },
  {
   "cell_type": "code",
   "execution_count": 16,
   "id": "aaef70d1-30c6-4c6f-9d6b-abc8e9a0081f",
   "metadata": {
    "execution": {
     "iopub.execute_input": "2022-07-11T07:25:37.728256Z",
     "iopub.status.busy": "2022-07-11T07:25:37.728091Z",
     "iopub.status.idle": "2022-07-11T07:25:37.743761Z",
     "shell.execute_reply": "2022-07-11T07:25:37.743225Z"
    },
    "papermill": {
     "duration": 0.023866,
     "end_time": "2022-07-11T07:25:37.745080",
     "exception": false,
     "start_time": "2022-07-11T07:25:37.721214",
     "status": "completed"
    },
    "tags": []
   },
   "outputs": [
    {
     "data": {
      "text/plain": [
       "49"
      ]
     },
     "execution_count": 16,
     "metadata": {},
     "output_type": "execute_result"
    }
   ],
   "source": [
    "len(prediction_model_tissues)"
   ]
  },
  {
   "cell_type": "code",
   "execution_count": 17,
   "id": "ff35a099-c52d-465d-b863-0ee70c26208c",
   "metadata": {
    "execution": {
     "iopub.execute_input": "2022-07-11T07:25:37.758841Z",
     "iopub.status.busy": "2022-07-11T07:25:37.758674Z",
     "iopub.status.idle": "2022-07-11T07:25:37.775313Z",
     "shell.execute_reply": "2022-07-11T07:25:37.774792Z"
    },
    "papermill": {
     "duration": 0.025004,
     "end_time": "2022-07-11T07:25:37.776628",
     "exception": false,
     "start_time": "2022-07-11T07:25:37.751624",
     "status": "completed"
    },
    "tags": []
   },
   "outputs": [
    {
     "data": {
      "text/plain": [
       "['Skin_Not_Sun_Exposed_Suprapubic',\n",
       " 'Cells_EBV-transformed_lymphocytes',\n",
       " 'Brain_Frontal_Cortex_BA9',\n",
       " 'Kidney_Cortex',\n",
       " 'Brain_Substantia_nigra']"
      ]
     },
     "execution_count": 17,
     "metadata": {},
     "output_type": "execute_result"
    }
   ],
   "source": [
    "prediction_model_tissues[:5]"
   ]
  },
  {
   "cell_type": "markdown",
   "id": "abcc4b3d",
   "metadata": {
    "papermill": {
     "duration": 0.00644,
     "end_time": "2022-07-11T07:25:37.789807",
     "exception": false,
     "start_time": "2022-07-11T07:25:37.783367",
     "status": "completed"
    },
    "tags": []
   },
   "source": [
    "## MultiPLIER Z"
   ]
  },
  {
   "cell_type": "code",
   "execution_count": 18,
   "id": "c48ef527",
   "metadata": {
    "execution": {
     "iopub.execute_input": "2022-07-11T07:25:37.803634Z",
     "iopub.status.busy": "2022-07-11T07:25:37.803415Z",
     "iopub.status.idle": "2022-07-11T07:25:37.844008Z",
     "shell.execute_reply": "2022-07-11T07:25:37.843384Z"
    },
    "papermill": {
     "duration": 0.049196,
     "end_time": "2022-07-11T07:25:37.845587",
     "exception": false,
     "start_time": "2022-07-11T07:25:37.796391",
     "status": "completed"
    },
    "tags": []
   },
   "outputs": [],
   "source": [
    "multiplier_z_genes = pd.read_pickle(\n",
    "    conf.MULTIPLIER[\"MODEL_Z_MATRIX_FILE\"]\n",
    ").index.tolist()"
   ]
  },
  {
   "cell_type": "code",
   "execution_count": 19,
   "id": "0a4ecbd9",
   "metadata": {
    "execution": {
     "iopub.execute_input": "2022-07-11T07:25:37.860560Z",
     "iopub.status.busy": "2022-07-11T07:25:37.860387Z",
     "iopub.status.idle": "2022-07-11T07:25:37.877263Z",
     "shell.execute_reply": "2022-07-11T07:25:37.876724Z"
    },
    "papermill": {
     "duration": 0.025711,
     "end_time": "2022-07-11T07:25:37.878545",
     "exception": false,
     "start_time": "2022-07-11T07:25:37.852834",
     "status": "completed"
    },
    "tags": []
   },
   "outputs": [
    {
     "data": {
      "text/plain": [
       "6750"
      ]
     },
     "execution_count": 19,
     "metadata": {},
     "output_type": "execute_result"
    }
   ],
   "source": [
    "len(multiplier_z_genes)"
   ]
  },
  {
   "cell_type": "code",
   "execution_count": 20,
   "id": "115e8864",
   "metadata": {
    "execution": {
     "iopub.execute_input": "2022-07-11T07:25:37.892941Z",
     "iopub.status.busy": "2022-07-11T07:25:37.892768Z",
     "iopub.status.idle": "2022-07-11T07:25:37.908640Z",
     "shell.execute_reply": "2022-07-11T07:25:37.908074Z"
    },
    "papermill": {
     "duration": 0.024447,
     "end_time": "2022-07-11T07:25:37.909915",
     "exception": false,
     "start_time": "2022-07-11T07:25:37.885468",
     "status": "completed"
    },
    "tags": []
   },
   "outputs": [
    {
     "data": {
      "text/plain": [
       "['GAS6',\n",
       " 'MMP14',\n",
       " 'DSP',\n",
       " 'MARCKSL1',\n",
       " 'SPARC',\n",
       " 'CTSD',\n",
       " 'EPAS1',\n",
       " 'PALLD',\n",
       " 'PHC2',\n",
       " 'LGALS3BP']"
      ]
     },
     "execution_count": 20,
     "metadata": {},
     "output_type": "execute_result"
    }
   ],
   "source": [
    "multiplier_z_genes[:10]"
   ]
  },
  {
   "cell_type": "markdown",
   "id": "7dcb8db7",
   "metadata": {
    "papermill": {
     "duration": 0.00654,
     "end_time": "2022-07-11T07:25:37.923362",
     "exception": false,
     "start_time": "2022-07-11T07:25:37.916822",
     "status": "completed"
    },
    "tags": []
   },
   "source": [
    "## Get gene objects"
   ]
  },
  {
   "cell_type": "code",
   "execution_count": 21,
   "id": "bb932812",
   "metadata": {
    "execution": {
     "iopub.execute_input": "2022-07-11T07:25:37.937477Z",
     "iopub.status.busy": "2022-07-11T07:25:37.937311Z",
     "iopub.status.idle": "2022-07-11T07:25:37.959141Z",
     "shell.execute_reply": "2022-07-11T07:25:37.958569Z"
    },
    "papermill": {
     "duration": 0.030476,
     "end_time": "2022-07-11T07:25:37.960622",
     "exception": false,
     "start_time": "2022-07-11T07:25:37.930146",
     "status": "completed"
    },
    "tags": []
   },
   "outputs": [],
   "source": [
    "multiplier_gene_obj = {\n",
    "    gene_name: Gene(name=gene_name)\n",
    "    for gene_name in multiplier_z_genes\n",
    "    if gene_name in Gene.GENE_NAME_TO_ID_MAP\n",
    "}"
   ]
  },
  {
   "cell_type": "code",
   "execution_count": 22,
   "id": "39533214",
   "metadata": {
    "execution": {
     "iopub.execute_input": "2022-07-11T07:25:37.975213Z",
     "iopub.status.busy": "2022-07-11T07:25:37.975048Z",
     "iopub.status.idle": "2022-07-11T07:25:37.990701Z",
     "shell.execute_reply": "2022-07-11T07:25:37.990184Z"
    },
    "papermill": {
     "duration": 0.02426,
     "end_time": "2022-07-11T07:25:37.991999",
     "exception": false,
     "start_time": "2022-07-11T07:25:37.967739",
     "status": "completed"
    },
    "tags": []
   },
   "outputs": [
    {
     "data": {
      "text/plain": [
       "6454"
      ]
     },
     "execution_count": 22,
     "metadata": {},
     "output_type": "execute_result"
    }
   ],
   "source": [
    "len(multiplier_gene_obj)"
   ]
  },
  {
   "cell_type": "code",
   "execution_count": 23,
   "id": "9a5d0b84",
   "metadata": {
    "execution": {
     "iopub.execute_input": "2022-07-11T07:25:38.006734Z",
     "iopub.status.busy": "2022-07-11T07:25:38.006562Z",
     "iopub.status.idle": "2022-07-11T07:25:38.022067Z",
     "shell.execute_reply": "2022-07-11T07:25:38.021550Z"
    },
    "papermill": {
     "duration": 0.024429,
     "end_time": "2022-07-11T07:25:38.023419",
     "exception": false,
     "start_time": "2022-07-11T07:25:37.998990",
     "status": "completed"
    },
    "tags": []
   },
   "outputs": [
    {
     "data": {
      "text/plain": [
       "'ENSG00000183087'"
      ]
     },
     "execution_count": 23,
     "metadata": {},
     "output_type": "execute_result"
    }
   ],
   "source": [
    "multiplier_gene_obj[\"GAS6\"].ensembl_id"
   ]
  },
  {
   "cell_type": "code",
   "execution_count": 24,
   "id": "e3ffabc7",
   "metadata": {
    "execution": {
     "iopub.execute_input": "2022-07-11T07:25:38.038441Z",
     "iopub.status.busy": "2022-07-11T07:25:38.038269Z",
     "iopub.status.idle": "2022-07-11T07:25:40.041230Z",
     "shell.execute_reply": "2022-07-11T07:25:40.040684Z"
    },
    "papermill": {
     "duration": 2.012057,
     "end_time": "2022-07-11T07:25:40.042595",
     "exception": false,
     "start_time": "2022-07-11T07:25:38.030538",
     "status": "completed"
    },
    "tags": []
   },
   "outputs": [],
   "source": [
    "_gene_obj = list(multiplier_gene_obj.values())\n",
    "\n",
    "genes_info = pd.DataFrame(\n",
    "    {\n",
    "        \"name\": [g.name for g in _gene_obj],\n",
    "        \"id\": [g.ensembl_id for g in _gene_obj],\n",
    "        \"chr\": [g.chromosome for g in _gene_obj],\n",
    "        \"band\": [g.band for g in _gene_obj],\n",
    "        \"start_position\": [g.get_attribute(\"start_position\") for g in _gene_obj],\n",
    "    }\n",
    ")"
   ]
  },
  {
   "cell_type": "code",
   "execution_count": 25,
   "id": "e23519b8",
   "metadata": {
    "execution": {
     "iopub.execute_input": "2022-07-11T07:25:40.056806Z",
     "iopub.status.busy": "2022-07-11T07:25:40.056637Z",
     "iopub.status.idle": "2022-07-11T07:25:40.075073Z",
     "shell.execute_reply": "2022-07-11T07:25:40.074416Z"
    },
    "papermill": {
     "duration": 0.02751,
     "end_time": "2022-07-11T07:25:40.076847",
     "exception": false,
     "start_time": "2022-07-11T07:25:40.049337",
     "status": "completed"
    },
    "tags": []
   },
   "outputs": [
    {
     "data": {
      "text/plain": [
       "(6454, 5)"
      ]
     },
     "execution_count": 25,
     "metadata": {},
     "output_type": "execute_result"
    }
   ],
   "source": [
    "genes_info.shape"
   ]
  },
  {
   "cell_type": "code",
   "execution_count": 26,
   "id": "0d71881c",
   "metadata": {
    "execution": {
     "iopub.execute_input": "2022-07-11T07:25:40.094608Z",
     "iopub.status.busy": "2022-07-11T07:25:40.094415Z",
     "iopub.status.idle": "2022-07-11T07:25:40.118842Z",
     "shell.execute_reply": "2022-07-11T07:25:40.118193Z"
    },
    "papermill": {
     "duration": 0.03517,
     "end_time": "2022-07-11T07:25:40.120519",
     "exception": false,
     "start_time": "2022-07-11T07:25:40.085349",
     "status": "completed"
    },
    "tags": []
   },
   "outputs": [
    {
     "data": {
      "text/html": [
       "<div>\n",
       "<style scoped>\n",
       "    .dataframe tbody tr th:only-of-type {\n",
       "        vertical-align: middle;\n",
       "    }\n",
       "\n",
       "    .dataframe tbody tr th {\n",
       "        vertical-align: top;\n",
       "    }\n",
       "\n",
       "    .dataframe thead th {\n",
       "        text-align: right;\n",
       "    }\n",
       "</style>\n",
       "<table border=\"1\" class=\"dataframe\">\n",
       "  <thead>\n",
       "    <tr style=\"text-align: right;\">\n",
       "      <th></th>\n",
       "      <th>name</th>\n",
       "      <th>id</th>\n",
       "      <th>chr</th>\n",
       "      <th>band</th>\n",
       "      <th>start_position</th>\n",
       "    </tr>\n",
       "  </thead>\n",
       "  <tbody>\n",
       "    <tr>\n",
       "      <th>0</th>\n",
       "      <td>GAS6</td>\n",
       "      <td>ENSG00000183087</td>\n",
       "      <td>13</td>\n",
       "      <td>13q34</td>\n",
       "      <td>113820549.0</td>\n",
       "    </tr>\n",
       "    <tr>\n",
       "      <th>1</th>\n",
       "      <td>MMP14</td>\n",
       "      <td>ENSG00000157227</td>\n",
       "      <td>14</td>\n",
       "      <td>14q11.2</td>\n",
       "      <td>22836560.0</td>\n",
       "    </tr>\n",
       "    <tr>\n",
       "      <th>2</th>\n",
       "      <td>DSP</td>\n",
       "      <td>ENSG00000096696</td>\n",
       "      <td>6</td>\n",
       "      <td>6p24.3</td>\n",
       "      <td>7541617.0</td>\n",
       "    </tr>\n",
       "    <tr>\n",
       "      <th>3</th>\n",
       "      <td>MARCKSL1</td>\n",
       "      <td>ENSG00000175130</td>\n",
       "      <td>1</td>\n",
       "      <td>1p35.1</td>\n",
       "      <td>32333839.0</td>\n",
       "    </tr>\n",
       "    <tr>\n",
       "      <th>4</th>\n",
       "      <td>SPARC</td>\n",
       "      <td>ENSG00000113140</td>\n",
       "      <td>5</td>\n",
       "      <td>5q33.1</td>\n",
       "      <td>151661096.0</td>\n",
       "    </tr>\n",
       "  </tbody>\n",
       "</table>\n",
       "</div>"
      ],
      "text/plain": [
       "       name               id chr     band  start_position\n",
       "0      GAS6  ENSG00000183087  13    13q34     113820549.0\n",
       "1     MMP14  ENSG00000157227  14  14q11.2      22836560.0\n",
       "2       DSP  ENSG00000096696   6   6p24.3       7541617.0\n",
       "3  MARCKSL1  ENSG00000175130   1   1p35.1      32333839.0\n",
       "4     SPARC  ENSG00000113140   5   5q33.1     151661096.0"
      ]
     },
     "execution_count": 26,
     "metadata": {},
     "output_type": "execute_result"
    }
   ],
   "source": [
    "genes_info.head()"
   ]
  },
  {
   "cell_type": "markdown",
   "id": "c8d1038f",
   "metadata": {
    "papermill": {
     "duration": 0.007586,
     "end_time": "2022-07-11T07:25:40.136267",
     "exception": false,
     "start_time": "2022-07-11T07:25:40.128681",
     "status": "completed"
    },
    "tags": []
   },
   "source": [
    "# Test"
   ]
  },
  {
   "cell_type": "code",
   "execution_count": 27,
   "id": "64993abf",
   "metadata": {
    "execution": {
     "iopub.execute_input": "2022-07-11T07:25:40.152165Z",
     "iopub.status.busy": "2022-07-11T07:25:40.151753Z",
     "iopub.status.idle": "2022-07-11T07:25:40.176056Z",
     "shell.execute_reply": "2022-07-11T07:25:40.175511Z"
    },
    "papermill": {
     "duration": 0.033682,
     "end_time": "2022-07-11T07:25:40.177371",
     "exception": false,
     "start_time": "2022-07-11T07:25:40.143689",
     "status": "completed"
    },
    "tags": []
   },
   "outputs": [
    {
     "data": {
      "text/html": [
       "<div>\n",
       "<style scoped>\n",
       "    .dataframe tbody tr th:only-of-type {\n",
       "        vertical-align: middle;\n",
       "    }\n",
       "\n",
       "    .dataframe tbody tr th {\n",
       "        vertical-align: top;\n",
       "    }\n",
       "\n",
       "    .dataframe thead th {\n",
       "        text-align: right;\n",
       "    }\n",
       "</style>\n",
       "<table border=\"1\" class=\"dataframe\">\n",
       "  <thead>\n",
       "    <tr style=\"text-align: right;\">\n",
       "      <th></th>\n",
       "      <th>name</th>\n",
       "      <th>id</th>\n",
       "      <th>chr</th>\n",
       "      <th>band</th>\n",
       "      <th>start_position</th>\n",
       "    </tr>\n",
       "  </thead>\n",
       "  <tbody>\n",
       "    <tr>\n",
       "      <th>172</th>\n",
       "      <td>RRAD</td>\n",
       "      <td>ENSG00000166592</td>\n",
       "      <td>16</td>\n",
       "      <td>16q22.1</td>\n",
       "      <td>66921679.0</td>\n",
       "    </tr>\n",
       "    <tr>\n",
       "      <th>268</th>\n",
       "      <td>CD19</td>\n",
       "      <td>ENSG00000177455</td>\n",
       "      <td>16</td>\n",
       "      <td>16p11.2</td>\n",
       "      <td>28931761.0</td>\n",
       "    </tr>\n",
       "    <tr>\n",
       "      <th>270</th>\n",
       "      <td>IGSF6</td>\n",
       "      <td>ENSG00000140749</td>\n",
       "      <td>16</td>\n",
       "      <td>16p12.2</td>\n",
       "      <td>21639550.0</td>\n",
       "    </tr>\n",
       "    <tr>\n",
       "      <th>281</th>\n",
       "      <td>TNFRSF17</td>\n",
       "      <td>ENSG00000048462</td>\n",
       "      <td>16</td>\n",
       "      <td>16p13.13</td>\n",
       "      <td>11965210.0</td>\n",
       "    </tr>\n",
       "    <tr>\n",
       "      <th>335</th>\n",
       "      <td>MMP25</td>\n",
       "      <td>ENSG00000008516</td>\n",
       "      <td>16</td>\n",
       "      <td>16p13.3</td>\n",
       "      <td>3046561.0</td>\n",
       "    </tr>\n",
       "    <tr>\n",
       "      <th>...</th>\n",
       "      <td>...</td>\n",
       "      <td>...</td>\n",
       "      <td>...</td>\n",
       "      <td>...</td>\n",
       "      <td>...</td>\n",
       "    </tr>\n",
       "    <tr>\n",
       "      <th>6380</th>\n",
       "      <td>ABCC1</td>\n",
       "      <td>ENSG00000103222</td>\n",
       "      <td>16</td>\n",
       "      <td>16p13.11</td>\n",
       "      <td>15949577.0</td>\n",
       "    </tr>\n",
       "    <tr>\n",
       "      <th>6390</th>\n",
       "      <td>PDPR</td>\n",
       "      <td>ENSG00000090857</td>\n",
       "      <td>16</td>\n",
       "      <td>16q22.1</td>\n",
       "      <td>70113626.0</td>\n",
       "    </tr>\n",
       "    <tr>\n",
       "      <th>6392</th>\n",
       "      <td>CSNK2A2</td>\n",
       "      <td>ENSG00000070770</td>\n",
       "      <td>16</td>\n",
       "      <td>16q21</td>\n",
       "      <td>58157907.0</td>\n",
       "    </tr>\n",
       "    <tr>\n",
       "      <th>6438</th>\n",
       "      <td>EXOSC6</td>\n",
       "      <td>ENSG00000223496</td>\n",
       "      <td>16</td>\n",
       "      <td>16q22.1</td>\n",
       "      <td>70246778.0</td>\n",
       "    </tr>\n",
       "    <tr>\n",
       "      <th>6441</th>\n",
       "      <td>LDHD</td>\n",
       "      <td>ENSG00000166816</td>\n",
       "      <td>16</td>\n",
       "      <td>16q23.1</td>\n",
       "      <td>75111860.0</td>\n",
       "    </tr>\n",
       "  </tbody>\n",
       "</table>\n",
       "<p>274 rows × 5 columns</p>\n",
       "</div>"
      ],
      "text/plain": [
       "          name               id chr      band  start_position\n",
       "172       RRAD  ENSG00000166592  16   16q22.1      66921679.0\n",
       "268       CD19  ENSG00000177455  16   16p11.2      28931761.0\n",
       "270      IGSF6  ENSG00000140749  16   16p12.2      21639550.0\n",
       "281   TNFRSF17  ENSG00000048462  16  16p13.13      11965210.0\n",
       "335      MMP25  ENSG00000008516  16   16p13.3       3046561.0\n",
       "...        ...              ...  ..       ...             ...\n",
       "6380     ABCC1  ENSG00000103222  16  16p13.11      15949577.0\n",
       "6390      PDPR  ENSG00000090857  16   16q22.1      70113626.0\n",
       "6392   CSNK2A2  ENSG00000070770  16     16q21      58157907.0\n",
       "6438    EXOSC6  ENSG00000223496  16   16q22.1      70246778.0\n",
       "6441      LDHD  ENSG00000166816  16   16q23.1      75111860.0\n",
       "\n",
       "[274 rows x 5 columns]"
      ]
     },
     "metadata": {},
     "output_type": "display_data"
    }
   ],
   "source": [
    "chromosome_genes_info = genes_info[genes_info[\"chr\"] == chromosome]\n",
    "display(chromosome_genes_info)"
   ]
  },
  {
   "cell_type": "code",
   "execution_count": 28,
   "id": "d2e42726-7de6-46eb-acfc-6323eaa8fae6",
   "metadata": {
    "execution": {
     "iopub.execute_input": "2022-07-11T07:25:40.193195Z",
     "iopub.status.busy": "2022-07-11T07:25:40.192886Z",
     "iopub.status.idle": "2022-07-11T07:25:40.210150Z",
     "shell.execute_reply": "2022-07-11T07:25:40.209591Z"
    },
    "papermill": {
     "duration": 0.02655,
     "end_time": "2022-07-11T07:25:40.211467",
     "exception": false,
     "start_time": "2022-07-11T07:25:40.184917",
     "status": "completed"
    },
    "tags": []
   },
   "outputs": [
    {
     "data": {
      "text/plain": [
       "5"
      ]
     },
     "metadata": {},
     "output_type": "display_data"
    }
   ],
   "source": [
    "seed(0)\n",
    "_gene_list_ids = sample(chromosome_genes_info[\"id\"].tolist(), 5)\n",
    "selected_chromosome_genes_obj = [Gene(ensembl_id=g_id) for g_id in _gene_list_ids]\n",
    "display(len(selected_chromosome_genes_obj))"
   ]
  },
  {
   "cell_type": "code",
   "execution_count": 29,
   "id": "1b355359",
   "metadata": {
    "execution": {
     "iopub.execute_input": "2022-07-11T07:25:40.227586Z",
     "iopub.status.busy": "2022-07-11T07:25:40.227224Z",
     "iopub.status.idle": "2022-07-11T07:25:41.876413Z",
     "shell.execute_reply": "2022-07-11T07:25:41.875868Z"
    },
    "papermill": {
     "duration": 1.658602,
     "end_time": "2022-07-11T07:25:41.877695",
     "exception": false,
     "start_time": "2022-07-11T07:25:40.219093",
     "status": "completed"
    },
    "tags": []
   },
   "outputs": [
    {
     "name": "stdout",
     "output_type": "stream",
     "text": [
      "AMDHD2 / AP1G1: 0.0\n",
      "AMDHD2 / YPEL3: 0.0\n",
      "AMDHD2 / MBTPS1: 0.0\n",
      "AMDHD2 / BCAR1: 0.0\n",
      "AP1G1 / YPEL3: 0.0\n",
      "AP1G1 / MBTPS1: 0.0\n",
      "AP1G1 / BCAR1: 0.00526544041489675\n",
      "YPEL3 / MBTPS1: 0.0\n",
      "YPEL3 / BCAR1: 0.0\n",
      "MBTPS1 / BCAR1: 0.0\n"
     ]
    }
   ],
   "source": [
    "for gene_idx1 in range(0, len(selected_chromosome_genes_obj) - 1):\n",
    "    gene_obj1 = selected_chromosome_genes_obj[gene_idx1]\n",
    "\n",
    "    for gene_idx2 in range(gene_idx1 + 1, len(selected_chromosome_genes_obj)):\n",
    "        gene_obj2 = selected_chromosome_genes_obj[gene_idx2]\n",
    "\n",
    "        c = gene_obj1.get_ssm_correlation(\n",
    "            gene_obj2,\n",
    "        )\n",
    "\n",
    "        print(f\"{gene_obj1.name} / {gene_obj2.name}: {c}\")"
   ]
  },
  {
   "cell_type": "markdown",
   "id": "d3843e06",
   "metadata": {
    "papermill": {
     "duration": 0.007734,
     "end_time": "2022-07-11T07:25:41.893437",
     "exception": false,
     "start_time": "2022-07-11T07:25:41.885703",
     "status": "completed"
    },
    "tags": []
   },
   "source": [
    "# Compute correlation per chromosome"
   ]
  },
  {
   "cell_type": "code",
   "execution_count": 30,
   "id": "cb859c15-d1f3-4006-a74c-2b83c0db9611",
   "metadata": {
    "execution": {
     "iopub.execute_input": "2022-07-11T07:25:41.910071Z",
     "iopub.status.busy": "2022-07-11T07:25:41.909893Z",
     "iopub.status.idle": "2022-07-11T07:25:41.926738Z",
     "shell.execute_reply": "2022-07-11T07:25:41.926220Z"
    },
    "papermill": {
     "duration": 0.026745,
     "end_time": "2022-07-11T07:25:41.928089",
     "exception": false,
     "start_time": "2022-07-11T07:25:41.901344",
     "status": "completed"
    },
    "tags": []
   },
   "outputs": [
    {
     "data": {
      "text/plain": [
       "PosixPath('/opt/data/data/phenomexcan/ld_blocks/gene_corrs/1000g/mashr/by_chr/gene_corrs-chr16.pkl')"
      ]
     },
     "metadata": {},
     "output_type": "display_data"
    }
   ],
   "source": [
    "output_dir = OUTPUT_DIR_BASE / \"by_chr\"\n",
    "output_dir.mkdir(exist_ok=True, parents=True)\n",
    "output_file = output_dir / f\"gene_corrs-chr{chromosome}.pkl\"\n",
    "display(output_file)"
   ]
  },
  {
   "cell_type": "code",
   "execution_count": 31,
   "id": "aa674fe4-6794-4eed-98fa-32b39d1d4ace",
   "metadata": {
    "execution": {
     "iopub.execute_input": "2022-07-11T07:25:41.945374Z",
     "iopub.status.busy": "2022-07-11T07:25:41.944894Z",
     "iopub.status.idle": "2022-07-11T07:25:41.960670Z",
     "shell.execute_reply": "2022-07-11T07:25:41.960105Z"
    },
    "papermill": {
     "duration": 0.025882,
     "end_time": "2022-07-11T07:25:41.962094",
     "exception": false,
     "start_time": "2022-07-11T07:25:41.936212",
     "status": "completed"
    },
    "tags": []
   },
   "outputs": [],
   "source": [
    "warnings.filterwarnings(\"error\")"
   ]
  },
  {
   "cell_type": "code",
   "execution_count": 32,
   "id": "cdbb90a1",
   "metadata": {
    "execution": {
     "iopub.execute_input": "2022-07-11T07:25:41.980944Z",
     "iopub.status.busy": "2022-07-11T07:25:41.980416Z",
     "iopub.status.idle": "2022-07-11T07:37:53.939853Z",
     "shell.execute_reply": "2022-07-11T07:37:53.939428Z"
    },
    "papermill": {
     "duration": 731.970564,
     "end_time": "2022-07-11T07:37:53.941221",
     "exception": false,
     "start_time": "2022-07-11T07:25:41.970657",
     "status": "completed"
    },
    "tags": []
   },
   "outputs": [
    {
     "name": "stdout",
     "output_type": "stream",
     "text": [
      "Number of genes in chromosome: 274\n",
      "Number of gene combinations: 37401\n"
     ]
    },
    {
     "name": "stderr",
     "output_type": "stream",
     "text": [
      "ENSG00000258839 / ENSG00000258947: 100%|██████████████████████| 37401/37401 [12:11<00:00, 51.10it/s]\n"
     ]
    },
    {
     "name": "stdout",
     "output_type": "stream",
     "text": [
      "Min/max values: 0.0 / 0.9835109982855849\n"
     ]
    },
    {
     "data": {
      "text/plain": [
       "PosixPath('/opt/data/data/phenomexcan/ld_blocks/gene_corrs/1000g/mashr/by_chr/gene_corrs-chr16.pkl')"
      ]
     },
     "metadata": {},
     "output_type": "display_data"
    }
   ],
   "source": [
    "# standard checks\n",
    "all_chrs = genes_info[\"chr\"].dropna().unique()\n",
    "assert all_chrs.shape[0] == 22\n",
    "\n",
    "# select chromosome given by the user\n",
    "assert chromosome in all_chrs\n",
    "\n",
    "# run only on the chromosome specified\n",
    "all_chrs = [chromosome]\n",
    "genes_chr = genes_info[genes_info[\"chr\"] == chromosome]\n",
    "\n",
    "# For testing purposes\n",
    "# genes_chr = genes_chr.sample(n=20)\n",
    "\n",
    "print(f\"Number of genes in chromosome: {genes_chr.shape[0]}\", flush=True)\n",
    "\n",
    "# sort genes by starting position to make visualizations better later\n",
    "genes_chr = genes_chr.sort_values(\"start_position\")\n",
    "\n",
    "gene_chr_objs = [Gene(ensembl_id=gene_id) for gene_id in genes_chr[\"id\"]]\n",
    "gene_chr_ids = [g.ensembl_id for g in gene_chr_objs]\n",
    "\n",
    "n = len(gene_chr_objs)\n",
    "n_comb = int(n * (n - 1) / 2.0)\n",
    "print(f\"Number of gene combinations: {n_comb}\", flush=True)\n",
    "\n",
    "gene_corrs = []\n",
    "\n",
    "pbar = tqdm(ncols=100, total=n_comb)\n",
    "i = 0\n",
    "for gene_idx1 in range(0, len(gene_chr_objs) - 1):\n",
    "    gene_obj1 = gene_chr_objs[gene_idx1]\n",
    "\n",
    "    for gene_idx2 in range(gene_idx1 + 1, len(gene_chr_objs)):\n",
    "        gene_obj2 = gene_chr_objs[gene_idx2]\n",
    "\n",
    "        pbar.set_description(f\"{gene_obj1.ensembl_id} / {gene_obj2.ensembl_id}\")\n",
    "\n",
    "        try:\n",
    "            # FIXME: compute the correlation of the sum of squares of the model using all\n",
    "            # the available tissues; this could be problematic because for some results\n",
    "            # (computed on a specific phenotype/GWAS) we might not have all the tissues\n",
    "            # available, which can certainly bias the correlation estimation.\n",
    "            # Since this depends on the GWAS on a specific phenotype, we should ideally have\n",
    "            # one correlation matrix per GWAS. I should look at how we can improve this.\n",
    "            r = gene_obj1.get_ssm_correlation(\n",
    "                other_gene=gene_obj2,\n",
    "                condition_number=SMULTIXCAN_CONDITION_NUMBER,\n",
    "                reference_panel=REFERENCE_PANEL,\n",
    "                model_type=EQTL_MODEL,\n",
    "            )\n",
    "\n",
    "            if r is None:\n",
    "                # if r is None, it's very likely because:\n",
    "                #  * one of the genes has no prediction models\n",
    "                #  * all the SNPs predictors for the gene are not present in the reference\n",
    "                #    panel\n",
    "\n",
    "                r = 0.0\n",
    "\n",
    "            gene_corrs.append(r)\n",
    "        except Warning:\n",
    "            print(\n",
    "                f\"RuntimeWarning for genes {gene_obj1.ensembl_id} and {gene_obj2.ensembl_id}\",\n",
    "                flush=True,\n",
    "            )\n",
    "            import traceback\n",
    "\n",
    "            print(traceback.format_exc(), flush=True)\n",
    "        except Exception as e:\n",
    "            print(\n",
    "                f\"Exception for genes {gene_obj1.ensembl_id} and {gene_obj2.ensembl_id}\",\n",
    "                flush=True,\n",
    "            )\n",
    "            import traceback\n",
    "\n",
    "            print(traceback.format_exc(), flush=True)\n",
    "            gene_corrs.append(np.nan)\n",
    "\n",
    "        pbar.update(1)\n",
    "\n",
    "pbar.close()\n",
    "\n",
    "# testing\n",
    "gene_corrs_flat = pd.Series(gene_corrs)\n",
    "print(f\"Min/max values: {gene_corrs_flat.min()} / {gene_corrs_flat.max()}\")\n",
    "assert gene_corrs_flat.min() >= -1.001\n",
    "assert gene_corrs_flat.max() <= 1.001\n",
    "\n",
    "# save\n",
    "# FIXME: consider saving only the condenced matrix here. See here for\n",
    "# more details: https://github.com/greenelab/phenoplier/pull/38#discussion_r634600813\n",
    "gene_corrs_data = squareform(np.array(gene_corrs, dtype=np.float64))\n",
    "np.fill_diagonal(gene_corrs_data, 1.0)\n",
    "\n",
    "gene_corrs_df = pd.DataFrame(\n",
    "    data=gene_corrs_data,\n",
    "    index=gene_chr_ids,\n",
    "    columns=gene_chr_ids,\n",
    ")\n",
    "\n",
    "output_dir.mkdir(exist_ok=True, parents=True)\n",
    "display(output_file)\n",
    "\n",
    "gene_corrs_df.to_pickle(output_file)"
   ]
  },
  {
   "cell_type": "markdown",
   "id": "faa67b51-5373-470f-aa72-2ded53fa6dfe",
   "metadata": {
    "papermill": {
     "duration": 1.708705,
     "end_time": "2022-07-11T07:37:57.397140",
     "exception": false,
     "start_time": "2022-07-11T07:37:55.688435",
     "status": "completed"
    },
    "tags": []
   },
   "source": [
    "# Testing"
   ]
  },
  {
   "cell_type": "code",
   "execution_count": 33,
   "id": "14f7d046-4b55-4896-a56b-990127bcc388",
   "metadata": {
    "execution": {
     "iopub.execute_input": "2022-07-11T07:38:00.995130Z",
     "iopub.status.busy": "2022-07-11T07:38:00.994969Z",
     "iopub.status.idle": "2022-07-11T07:38:01.026347Z",
     "shell.execute_reply": "2022-07-11T07:38:01.025941Z"
    },
    "papermill": {
     "duration": 1.917614,
     "end_time": "2022-07-11T07:38:01.027514",
     "exception": false,
     "start_time": "2022-07-11T07:37:59.109900",
     "status": "completed"
    },
    "tags": []
   },
   "outputs": [
    {
     "data": {
      "text/plain": [
       "(274, 274)"
      ]
     },
     "execution_count": 33,
     "metadata": {},
     "output_type": "execute_result"
    }
   ],
   "source": [
    "gene_corrs_df.shape"
   ]
  },
  {
   "cell_type": "code",
   "execution_count": 34,
   "id": "c7d15414-3297-4537-a7c6-7588c0baeb75",
   "metadata": {
    "execution": {
     "iopub.execute_input": "2022-07-11T07:38:04.522733Z",
     "iopub.status.busy": "2022-07-11T07:38:04.522564Z",
     "iopub.status.idle": "2022-07-11T07:38:04.580023Z",
     "shell.execute_reply": "2022-07-11T07:38:04.579606Z"
    },
    "papermill": {
     "duration": 1.826093,
     "end_time": "2022-07-11T07:38:04.581462",
     "exception": false,
     "start_time": "2022-07-11T07:38:02.755369",
     "status": "completed"
    },
    "tags": []
   },
   "outputs": [
    {
     "data": {
      "text/html": [
       "<div>\n",
       "<style scoped>\n",
       "    .dataframe tbody tr th:only-of-type {\n",
       "        vertical-align: middle;\n",
       "    }\n",
       "\n",
       "    .dataframe tbody tr th {\n",
       "        vertical-align: top;\n",
       "    }\n",
       "\n",
       "    .dataframe thead th {\n",
       "        text-align: right;\n",
       "    }\n",
       "</style>\n",
       "<table border=\"1\" class=\"dataframe\">\n",
       "  <thead>\n",
       "    <tr style=\"text-align: right;\">\n",
       "      <th></th>\n",
       "      <th>ENSG00000161980</th>\n",
       "      <th>ENSG00000103152</th>\n",
       "      <th>ENSG00000206172</th>\n",
       "      <th>ENSG00000086506</th>\n",
       "      <th>ENSG00000076344</th>\n",
       "      <th>ENSG00000103126</th>\n",
       "      <th>ENSG00000086504</th>\n",
       "      <th>ENSG00000103202</th>\n",
       "      <th>ENSG00000242612</th>\n",
       "      <th>ENSG00000090565</th>\n",
       "      <th>...</th>\n",
       "      <th>ENSG00000051523</th>\n",
       "      <th>ENSG00000167508</th>\n",
       "      <th>ENSG00000167513</th>\n",
       "      <th>ENSG00000198931</th>\n",
       "      <th>ENSG00000141012</th>\n",
       "      <th>ENSG00000129993</th>\n",
       "      <th>ENSG00000167526</th>\n",
       "      <th>ENSG00000187741</th>\n",
       "      <th>ENSG00000258839</th>\n",
       "      <th>ENSG00000258947</th>\n",
       "    </tr>\n",
       "  </thead>\n",
       "  <tbody>\n",
       "    <tr>\n",
       "      <th>ENSG00000161980</th>\n",
       "      <td>1.000000</td>\n",
       "      <td>0.293162</td>\n",
       "      <td>0.014457</td>\n",
       "      <td>0.028432</td>\n",
       "      <td>0.015662</td>\n",
       "      <td>0.007811</td>\n",
       "      <td>0.007649</td>\n",
       "      <td>0.007966</td>\n",
       "      <td>0.003933</td>\n",
       "      <td>0.008701</td>\n",
       "      <td>...</td>\n",
       "      <td>0.0</td>\n",
       "      <td>0.0</td>\n",
       "      <td>0.0</td>\n",
       "      <td>0.0</td>\n",
       "      <td>0.0</td>\n",
       "      <td>0.0</td>\n",
       "      <td>0.0</td>\n",
       "      <td>0.0</td>\n",
       "      <td>0.0</td>\n",
       "      <td>0.0</td>\n",
       "    </tr>\n",
       "    <tr>\n",
       "      <th>ENSG00000103152</th>\n",
       "      <td>0.293162</td>\n",
       "      <td>1.000000</td>\n",
       "      <td>0.042662</td>\n",
       "      <td>0.098599</td>\n",
       "      <td>0.044781</td>\n",
       "      <td>0.016318</td>\n",
       "      <td>0.025287</td>\n",
       "      <td>0.012652</td>\n",
       "      <td>0.006490</td>\n",
       "      <td>0.008929</td>\n",
       "      <td>...</td>\n",
       "      <td>0.0</td>\n",
       "      <td>0.0</td>\n",
       "      <td>0.0</td>\n",
       "      <td>0.0</td>\n",
       "      <td>0.0</td>\n",
       "      <td>0.0</td>\n",
       "      <td>0.0</td>\n",
       "      <td>0.0</td>\n",
       "      <td>0.0</td>\n",
       "      <td>0.0</td>\n",
       "    </tr>\n",
       "    <tr>\n",
       "      <th>ENSG00000206172</th>\n",
       "      <td>0.014457</td>\n",
       "      <td>0.042662</td>\n",
       "      <td>1.000000</td>\n",
       "      <td>0.080993</td>\n",
       "      <td>0.062229</td>\n",
       "      <td>0.039482</td>\n",
       "      <td>0.134139</td>\n",
       "      <td>0.022356</td>\n",
       "      <td>0.016887</td>\n",
       "      <td>0.009029</td>\n",
       "      <td>...</td>\n",
       "      <td>0.0</td>\n",
       "      <td>0.0</td>\n",
       "      <td>0.0</td>\n",
       "      <td>0.0</td>\n",
       "      <td>0.0</td>\n",
       "      <td>0.0</td>\n",
       "      <td>0.0</td>\n",
       "      <td>0.0</td>\n",
       "      <td>0.0</td>\n",
       "      <td>0.0</td>\n",
       "    </tr>\n",
       "    <tr>\n",
       "      <th>ENSG00000086506</th>\n",
       "      <td>0.028432</td>\n",
       "      <td>0.098599</td>\n",
       "      <td>0.080993</td>\n",
       "      <td>1.000000</td>\n",
       "      <td>0.146734</td>\n",
       "      <td>0.066133</td>\n",
       "      <td>0.085225</td>\n",
       "      <td>0.027480</td>\n",
       "      <td>0.016960</td>\n",
       "      <td>0.025167</td>\n",
       "      <td>...</td>\n",
       "      <td>0.0</td>\n",
       "      <td>0.0</td>\n",
       "      <td>0.0</td>\n",
       "      <td>0.0</td>\n",
       "      <td>0.0</td>\n",
       "      <td>0.0</td>\n",
       "      <td>0.0</td>\n",
       "      <td>0.0</td>\n",
       "      <td>0.0</td>\n",
       "      <td>0.0</td>\n",
       "    </tr>\n",
       "    <tr>\n",
       "      <th>ENSG00000076344</th>\n",
       "      <td>0.015662</td>\n",
       "      <td>0.044781</td>\n",
       "      <td>0.062229</td>\n",
       "      <td>0.146734</td>\n",
       "      <td>1.000000</td>\n",
       "      <td>0.104772</td>\n",
       "      <td>0.101072</td>\n",
       "      <td>0.019538</td>\n",
       "      <td>0.014887</td>\n",
       "      <td>0.023975</td>\n",
       "      <td>...</td>\n",
       "      <td>0.0</td>\n",
       "      <td>0.0</td>\n",
       "      <td>0.0</td>\n",
       "      <td>0.0</td>\n",
       "      <td>0.0</td>\n",
       "      <td>0.0</td>\n",
       "      <td>0.0</td>\n",
       "      <td>0.0</td>\n",
       "      <td>0.0</td>\n",
       "      <td>0.0</td>\n",
       "    </tr>\n",
       "  </tbody>\n",
       "</table>\n",
       "<p>5 rows × 274 columns</p>\n",
       "</div>"
      ],
      "text/plain": [
       "                 ENSG00000161980  ENSG00000103152  ENSG00000206172  \\\n",
       "ENSG00000161980         1.000000         0.293162         0.014457   \n",
       "ENSG00000103152         0.293162         1.000000         0.042662   \n",
       "ENSG00000206172         0.014457         0.042662         1.000000   \n",
       "ENSG00000086506         0.028432         0.098599         0.080993   \n",
       "ENSG00000076344         0.015662         0.044781         0.062229   \n",
       "\n",
       "                 ENSG00000086506  ENSG00000076344  ENSG00000103126  \\\n",
       "ENSG00000161980         0.028432         0.015662         0.007811   \n",
       "ENSG00000103152         0.098599         0.044781         0.016318   \n",
       "ENSG00000206172         0.080993         0.062229         0.039482   \n",
       "ENSG00000086506         1.000000         0.146734         0.066133   \n",
       "ENSG00000076344         0.146734         1.000000         0.104772   \n",
       "\n",
       "                 ENSG00000086504  ENSG00000103202  ENSG00000242612  \\\n",
       "ENSG00000161980         0.007649         0.007966         0.003933   \n",
       "ENSG00000103152         0.025287         0.012652         0.006490   \n",
       "ENSG00000206172         0.134139         0.022356         0.016887   \n",
       "ENSG00000086506         0.085225         0.027480         0.016960   \n",
       "ENSG00000076344         0.101072         0.019538         0.014887   \n",
       "\n",
       "                 ENSG00000090565  ...  ENSG00000051523  ENSG00000167508  \\\n",
       "ENSG00000161980         0.008701  ...              0.0              0.0   \n",
       "ENSG00000103152         0.008929  ...              0.0              0.0   \n",
       "ENSG00000206172         0.009029  ...              0.0              0.0   \n",
       "ENSG00000086506         0.025167  ...              0.0              0.0   \n",
       "ENSG00000076344         0.023975  ...              0.0              0.0   \n",
       "\n",
       "                 ENSG00000167513  ENSG00000198931  ENSG00000141012  \\\n",
       "ENSG00000161980              0.0              0.0              0.0   \n",
       "ENSG00000103152              0.0              0.0              0.0   \n",
       "ENSG00000206172              0.0              0.0              0.0   \n",
       "ENSG00000086506              0.0              0.0              0.0   \n",
       "ENSG00000076344              0.0              0.0              0.0   \n",
       "\n",
       "                 ENSG00000129993  ENSG00000167526  ENSG00000187741  \\\n",
       "ENSG00000161980              0.0              0.0              0.0   \n",
       "ENSG00000103152              0.0              0.0              0.0   \n",
       "ENSG00000206172              0.0              0.0              0.0   \n",
       "ENSG00000086506              0.0              0.0              0.0   \n",
       "ENSG00000076344              0.0              0.0              0.0   \n",
       "\n",
       "                 ENSG00000258839  ENSG00000258947  \n",
       "ENSG00000161980              0.0              0.0  \n",
       "ENSG00000103152              0.0              0.0  \n",
       "ENSG00000206172              0.0              0.0  \n",
       "ENSG00000086506              0.0              0.0  \n",
       "ENSG00000076344              0.0              0.0  \n",
       "\n",
       "[5 rows x 274 columns]"
      ]
     },
     "execution_count": 34,
     "metadata": {},
     "output_type": "execute_result"
    }
   ],
   "source": [
    "gene_corrs_df.head()"
   ]
  },
  {
   "cell_type": "code",
   "execution_count": 35,
   "id": "286686af-1b7b-4440-8453-6bdcbd8de19c",
   "metadata": {
    "execution": {
     "iopub.execute_input": "2022-07-11T07:38:07.803760Z",
     "iopub.status.busy": "2022-07-11T07:38:07.803597Z",
     "iopub.status.idle": "2022-07-11T07:38:07.830778Z",
     "shell.execute_reply": "2022-07-11T07:38:07.830391Z"
    },
    "papermill": {
     "duration": 1.599896,
     "end_time": "2022-07-11T07:38:07.832195",
     "exception": false,
     "start_time": "2022-07-11T07:38:06.232299",
     "status": "completed"
    },
    "tags": []
   },
   "outputs": [],
   "source": [
    "assert not gene_corrs_df.isna().any().any()"
   ]
  },
  {
   "cell_type": "code",
   "execution_count": 36,
   "id": "00583efc-7068-4270-ad1e-4a418e91db96",
   "metadata": {
    "execution": {
     "iopub.execute_input": "2022-07-11T07:38:11.341490Z",
     "iopub.status.busy": "2022-07-11T07:38:11.341330Z",
     "iopub.status.idle": "2022-07-11T07:38:11.383567Z",
     "shell.execute_reply": "2022-07-11T07:38:11.383183Z"
    },
    "papermill": {
     "duration": 1.932847,
     "end_time": "2022-07-11T07:38:11.384674",
     "exception": false,
     "start_time": "2022-07-11T07:38:09.451827",
     "status": "completed"
    },
    "tags": []
   },
   "outputs": [
    {
     "data": {
      "text/plain": [
       "0.0"
      ]
     },
     "metadata": {},
     "output_type": "display_data"
    }
   ],
   "source": [
    "_min_val = gene_corrs_df.min().min()\n",
    "display(_min_val)\n",
    "assert _min_val >= 0.0"
   ]
  },
  {
   "cell_type": "code",
   "execution_count": 37,
   "id": "d04fb2cf-1050-475b-b855-f5f7cc04092b",
   "metadata": {
    "execution": {
     "iopub.execute_input": "2022-07-11T07:38:14.590764Z",
     "iopub.status.busy": "2022-07-11T07:38:14.590601Z",
     "iopub.status.idle": "2022-07-11T07:38:14.612015Z",
     "shell.execute_reply": "2022-07-11T07:38:14.611604Z"
    },
    "papermill": {
     "duration": 1.654054,
     "end_time": "2022-07-11T07:38:14.613320",
     "exception": false,
     "start_time": "2022-07-11T07:38:12.959266",
     "status": "completed"
    },
    "tags": []
   },
   "outputs": [
    {
     "data": {
      "text/plain": [
       "1.0"
      ]
     },
     "metadata": {},
     "output_type": "display_data"
    }
   ],
   "source": [
    "_max_val = gene_corrs_df.max().max()  # this captures the diagonal\n",
    "display(_max_val)\n",
    "assert _max_val <= 1.0"
   ]
  },
  {
   "cell_type": "code",
   "execution_count": 38,
   "id": "96d02c44-1fba-47be-8a93-8f2608420b9c",
   "metadata": {
    "execution": {
     "iopub.execute_input": "2022-07-11T07:38:17.848597Z",
     "iopub.status.busy": "2022-07-11T07:38:17.848435Z",
     "iopub.status.idle": "2022-07-11T07:38:17.876019Z",
     "shell.execute_reply": "2022-07-11T07:38:17.875604Z"
    },
    "papermill": {
     "duration": 1.757528,
     "end_time": "2022-07-11T07:38:17.877313",
     "exception": false,
     "start_time": "2022-07-11T07:38:16.119785",
     "status": "completed"
    },
    "tags": []
   },
   "outputs": [],
   "source": [
    "# check upper triangular values\n",
    "assert len(gene_corrs) == int(genes_chr.shape[0] * (genes_chr.shape[0] - 1) / 2)"
   ]
  },
  {
   "cell_type": "code",
   "execution_count": 39,
   "id": "aaa51627-f4e3-4744-a41f-7d25adcc0a78",
   "metadata": {
    "execution": {
     "iopub.execute_input": "2022-07-11T07:38:21.022824Z",
     "iopub.status.busy": "2022-07-11T07:38:21.022661Z",
     "iopub.status.idle": "2022-07-11T07:38:21.068561Z",
     "shell.execute_reply": "2022-07-11T07:38:21.068131Z"
    },
    "papermill": {
     "duration": 1.537899,
     "end_time": "2022-07-11T07:38:21.069856",
     "exception": false,
     "start_time": "2022-07-11T07:38:19.531957",
     "status": "completed"
    },
    "tags": []
   },
   "outputs": [],
   "source": [
    "gene_corrs = pd.Series(gene_corrs)"
   ]
  },
  {
   "cell_type": "code",
   "execution_count": 40,
   "id": "fe283586-c348-40e0-8841-f6d97bfb021c",
   "metadata": {
    "execution": {
     "iopub.execute_input": "2022-07-11T07:38:24.173365Z",
     "iopub.status.busy": "2022-07-11T07:38:24.172904Z",
     "iopub.status.idle": "2022-07-11T07:38:24.194554Z",
     "shell.execute_reply": "2022-07-11T07:38:24.194144Z"
    },
    "papermill": {
     "duration": 1.61073,
     "end_time": "2022-07-11T07:38:24.195831",
     "exception": false,
     "start_time": "2022-07-11T07:38:22.585101",
     "status": "completed"
    },
    "tags": []
   },
   "outputs": [
    {
     "data": {
      "text/plain": [
       "count    37401.000000\n",
       "mean         0.006652\n",
       "std          0.045690\n",
       "min          0.000000\n",
       "25%          0.000000\n",
       "50%          0.000000\n",
       "75%          0.000000\n",
       "max          0.983511\n",
       "dtype: float64"
      ]
     },
     "execution_count": 40,
     "metadata": {},
     "output_type": "execute_result"
    }
   ],
   "source": [
    "gene_corrs.describe()"
   ]
  },
  {
   "cell_type": "code",
   "execution_count": 41,
   "id": "b3815678-0f93-4b35-897b-a9d047a2aa78",
   "metadata": {
    "execution": {
     "iopub.execute_input": "2022-07-11T07:38:27.401245Z",
     "iopub.status.busy": "2022-07-11T07:38:27.401028Z",
     "iopub.status.idle": "2022-07-11T07:38:27.421978Z",
     "shell.execute_reply": "2022-07-11T07:38:27.420611Z"
    },
    "papermill": {
     "duration": 1.705247,
     "end_time": "2022-07-11T07:38:27.423468",
     "exception": false,
     "start_time": "2022-07-11T07:38:25.718221",
     "status": "completed"
    },
    "tags": []
   },
   "outputs": [
    {
     "data": {
      "text/plain": [
       "0.00    0.000000\n",
       "0.05    0.000000\n",
       "0.10    0.000000\n",
       "0.15    0.000000\n",
       "0.20    0.000000\n",
       "0.25    0.000000\n",
       "0.30    0.000000\n",
       "0.35    0.000000\n",
       "0.40    0.000000\n",
       "0.45    0.000000\n",
       "0.50    0.000000\n",
       "0.55    0.000000\n",
       "0.60    0.000000\n",
       "0.65    0.000000\n",
       "0.70    0.000000\n",
       "0.75    0.000000\n",
       "0.80    0.000000\n",
       "0.85    0.001555\n",
       "0.90    0.007272\n",
       "0.95    0.013504\n",
       "dtype: float64"
      ]
     },
     "metadata": {},
     "output_type": "display_data"
    }
   ],
   "source": [
    "gene_corrs_quantiles = gene_corrs.quantile(np.arange(0, 1, 0.05))\n",
    "display(gene_corrs_quantiles)"
   ]
  },
  {
   "cell_type": "markdown",
   "id": "8e60a080-edb2-4e9c-b2ef-22961693200c",
   "metadata": {
    "papermill": {
     "duration": 1.776184,
     "end_time": "2022-07-11T07:38:31.050956",
     "exception": false,
     "start_time": "2022-07-11T07:38:29.274772",
     "status": "completed"
    },
    "tags": []
   },
   "source": [
    "## Plot: distribution"
   ]
  },
  {
   "cell_type": "code",
   "execution_count": 42,
   "id": "8301126b-a7d4-4744-9c7d-f0f86eb6f54c",
   "metadata": {
    "execution": {
     "iopub.execute_input": "2022-07-11T07:38:34.228484Z",
     "iopub.status.busy": "2022-07-11T07:38:34.228324Z",
     "iopub.status.idle": "2022-07-11T07:38:34.644120Z",
     "shell.execute_reply": "2022-07-11T07:38:34.643725Z"
    },
    "papermill": {
     "duration": 1.945417,
     "end_time": "2022-07-11T07:38:34.645259",
     "exception": false,
     "start_time": "2022-07-11T07:38:32.699842",
     "status": "completed"
    },
    "tags": []
   },
   "outputs": [
    {
     "data": {
      "image/png": "[encoded data removed]",
      "text/plain": [
       "<Figure size 504x504 with 1 Axes>"
      ]
     },
     "metadata": {
      "needs_background": "light"
     },
     "output_type": "display_data"
    }
   ],
   "source": [
    "with sns.plotting_context(\"paper\", font_scale=1.5):\n",
    "    g = sns.displot(gene_corrs, kde=True, height=7)\n",
    "    g.ax.set_title(\n",
    "        f\"Distribution of gene correlation values in chromosome {chromosome}\"\n",
    "    )"
   ]
  },
  {
   "cell_type": "markdown",
   "id": "cbd52bca-d878-4a2f-b684-5c83aa3038d4",
   "metadata": {
    "papermill": {
     "duration": 1.49598,
     "end_time": "2022-07-11T07:38:37.652576",
     "exception": false,
     "start_time": "2022-07-11T07:38:36.156596",
     "status": "completed"
    },
    "tags": []
   },
   "source": [
    "## Plot: heatmap"
   ]
  },
  {
   "cell_type": "code",
   "execution_count": 43,
   "id": "d03fe63a-c7b2-4fb9-a53c-db362ce843c9",
   "metadata": {
    "execution": {
     "iopub.execute_input": "2022-07-11T07:38:40.838266Z",
     "iopub.status.busy": "2022-07-11T07:38:40.837851Z",
     "iopub.status.idle": "2022-07-11T07:38:40.869528Z",
     "shell.execute_reply": "2022-07-11T07:38:40.869130Z"
    },
    "papermill": {
     "duration": 1.618922,
     "end_time": "2022-07-11T07:38:40.870686",
     "exception": false,
     "start_time": "2022-07-11T07:38:39.251764",
     "status": "completed"
    },
    "tags": []
   },
   "outputs": [
    {
     "data": {
      "text/plain": [
       "'-0.05 / 0.05'"
      ]
     },
     "metadata": {},
     "output_type": "display_data"
    }
   ],
   "source": [
    "vmin_val = min(-0.05, gene_corrs_quantiles[0.10])\n",
    "vmax_val = max(0.05, gene_corrs_quantiles[0.90])\n",
    "display(f\"{vmin_val} / {vmax_val}\")"
   ]
  },
  {
   "cell_type": "code",
   "execution_count": 44,
   "id": "dc41b70b-5bcc-4d9e-9f33-a22c4a94dab5",
   "metadata": {
    "execution": {
     "iopub.execute_input": "2022-07-11T07:38:44.406923Z",
     "iopub.status.busy": "2022-07-11T07:38:44.406442Z",
     "iopub.status.idle": "2022-07-11T07:38:44.634915Z",
     "shell.execute_reply": "2022-07-11T07:38:44.634527Z"
    },
    "papermill": {
     "duration": 1.936104,
     "end_time": "2022-07-11T07:38:44.636055",
     "exception": false,
     "start_time": "2022-07-11T07:38:42.699951",
     "status": "completed"
    },
    "tags": []
   },
   "outputs": [
    {
     "data": {
      "text/plain": [
       "Text(0.5, 1.0, 'Gene correlations in chromosome 16')"
      ]
     },
     "execution_count": 44,
     "metadata": {},
     "output_type": "execute_result"
    },
    {
     "data": {
      "image/png": "[encoded data removed]",
      "text/plain": [
       "<Figure size 720x720 with 2 Axes>"
      ]
     },
     "metadata": {
      "needs_background": "light"
     },
     "output_type": "display_data"
    }
   ],
   "source": [
    "f, ax = plt.subplots(figsize=(10, 10))\n",
    "sns.heatmap(\n",
    "    gene_corrs_df,\n",
    "    xticklabels=False,\n",
    "    yticklabels=False,\n",
    "    square=True,\n",
    "    vmin=vmin_val,\n",
    "    vmax=vmax_val,\n",
    "    cmap=\"YlGnBu\",\n",
    "    ax=ax,\n",
    ")\n",
    "ax.set_title(f\"Gene correlations in chromosome {chromosome}\")"
   ]
  },
  {
   "cell_type": "code",
   "execution_count": null,
   "id": "b25e3ead",
   "metadata": {
    "papermill": {
     "duration": 1.806187,
     "end_time": "2022-07-11T07:38:48.284583",
     "exception": false,
     "start_time": "2022-07-11T07:38:46.478396",
     "status": "completed"
    },
    "tags": []
   },
   "outputs": [],
   "source": []
  }
 ],
 "metadata": {
  "jupytext": {
   "cell_metadata_filter": "all,-execution,-papermill,-trusted",
   "formats": "ipynb,py//py:percent"
  },
  "kernelspec": {
   "display_name": "Python 3 (ipykernel)",
   "language": "python",
   "name": "python3"
  },
  "language_info": {
   "codemirror_mode": {
    "name": "ipython",
    "version": 3
   },
   "file_extension": ".py",
   "mimetype": "text/x-python",
   "name": "python",
   "nbconvert_exporter": "python",
   "pygments_lexer": "ipython3",
   "version": "3.8.13"
  },
  "papermill": {
   "default_parameters": {},
   "duration": 797.63227,
   "end_time": "2022-07-11T07:38:52.751830",
   "environment_variables": {},
   "exception": null,
   "input_path": "nbs/15_gsa_gls/10-gene_expr_correlations.ipynb",
   "output_path": "nbs/15_gsa_gls/gene_corrs/1000g/mashr/10-gene_expr_correlations-chr16.run.ipynb",
   "parameters": {
    "EQTL_MODEL": "MASHR",
    "REFERENCE_PANEL": "1000G",
    "chromosome": 16
   },
   "start_time": "2022-07-11T07:25:35.119560",
   "version": "2.2.2"
  }
 },
 "nbformat": 4,
 "nbformat_minor": 5
}
