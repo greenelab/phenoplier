{
 "cells": [
  {
   "cell_type": "markdown",
   "id": "7a6632fb",
   "metadata": {
    "papermill": {
     "duration": 0.006164,
     "end_time": "2022-07-11T07:34:26.999999",
     "exception": false,
     "start_time": "2022-07-11T07:34:26.993835",
     "status": "completed"
    },
    "tags": []
   },
   "source": [
    "# Description"
   ]
  },
  {
   "cell_type": "markdown",
   "id": "7097c346",
   "metadata": {
    "papermill": {
     "duration": 0.005489,
     "end_time": "2022-07-11T07:34:27.011092",
     "exception": false,
     "start_time": "2022-07-11T07:34:27.005603",
     "status": "completed"
    },
    "tags": []
   },
   "source": [
    "(Please, take a look at the README.md file in this directory for instructions on how to run this notebook)\n",
    "\n",
    "This notebook computes predicted expression correlations between all genes in the MultiPLIER models.\n",
    "\n",
    "It also has a parameter set for papermill to run on a single chromosome to run in parallel (see under `Settings` below).\n",
    "\n",
    "This notebook is not directly run. See README.md."
   ]
  },
  {
   "cell_type": "markdown",
   "id": "c61d8427",
   "metadata": {
    "papermill": {
     "duration": 0.005364,
     "end_time": "2022-07-11T07:34:27.021977",
     "exception": false,
     "start_time": "2022-07-11T07:34:27.016613",
     "status": "completed"
    },
    "tags": []
   },
   "source": [
    "# Modules"
   ]
  },
  {
   "cell_type": "code",
   "execution_count": 1,
   "id": "bbc0234f",
   "metadata": {
    "execution": {
     "iopub.execute_input": "2022-07-11T07:34:27.033934Z",
     "iopub.status.busy": "2022-07-11T07:34:27.033714Z",
     "iopub.status.idle": "2022-07-11T07:34:27.049009Z",
     "shell.execute_reply": "2022-07-11T07:34:27.048567Z"
    },
    "papermill": {
     "duration": 0.022996,
     "end_time": "2022-07-11T07:34:27.050516",
     "exception": false,
     "start_time": "2022-07-11T07:34:27.027520",
     "status": "completed"
    },
    "tags": []
   },
   "outputs": [],
   "source": [
    "%load_ext autoreload\n",
    "%autoreload 2"
   ]
  },
  {
   "cell_type": "code",
   "execution_count": 2,
   "id": "1d5f5a59",
   "metadata": {
    "execution": {
     "iopub.execute_input": "2022-07-11T07:34:27.063342Z",
     "iopub.status.busy": "2022-07-11T07:34:27.063188Z",
     "iopub.status.idle": "2022-07-11T07:34:28.203446Z",
     "shell.execute_reply": "2022-07-11T07:34:28.203053Z"
    },
    "papermill": {
     "duration": 1.148428,
     "end_time": "2022-07-11T07:34:28.204820",
     "exception": false,
     "start_time": "2022-07-11T07:34:27.056392",
     "status": "completed"
    },
    "tags": []
   },
   "outputs": [],
   "source": [
    "from random import sample, seed\n",
    "import warnings\n",
    "from pathlib import Path\n",
    "\n",
    "import numpy as np\n",
    "from scipy.spatial.distance import squareform\n",
    "import pandas as pd\n",
    "from tqdm import tqdm\n",
    "import matplotlib.pyplot as plt\n",
    "import seaborn as sns\n",
    "\n",
    "import conf\n",
    "from entity import Gene"
   ]
  },
  {
   "cell_type": "markdown",
   "id": "1eac24b5",
   "metadata": {
    "papermill": {
     "duration": 0.011353,
     "end_time": "2022-07-11T07:34:28.271417",
     "exception": false,
     "start_time": "2022-07-11T07:34:28.260064",
     "status": "completed"
    },
    "tags": []
   },
   "source": [
    "# Settings"
   ]
  },
  {
   "cell_type": "code",
   "execution_count": 3,
   "id": "ca4560ba",
   "metadata": {
    "execution": {
     "iopub.execute_input": "2022-07-11T07:34:28.294592Z",
     "iopub.status.busy": "2022-07-11T07:34:28.294430Z",
     "iopub.status.idle": "2022-07-11T07:34:28.312026Z",
     "shell.execute_reply": "2022-07-11T07:34:28.311600Z"
    },
    "papermill": {
     "duration": 0.030966,
     "end_time": "2022-07-11T07:34:28.313473",
     "exception": false,
     "start_time": "2022-07-11T07:34:28.282507",
     "status": "completed"
    },
    "tags": [
     "parameters"
    ]
   },
   "outputs": [],
   "source": [
    "# reference panel\n",
    "REFERENCE_PANEL = \"GTEX_V8\"\n",
    "# REFERENCE_PANEL = \"1000G\"\n",
    "\n",
    "# prediction models\n",
    "## mashr\n",
    "EQTL_MODEL = \"MASHR\"\n",
    "\n",
    "# this is the default value used in S-MultiXcan to select the\n",
    "# top principal components of the expression correlation matrix\n",
    "SMULTIXCAN_CONDITION_NUMBER = 30\n",
    "\n",
    "# specifies a single chromosome value\n",
    "# by default, run on all chromosomes\n",
    "chromosome = None"
   ]
  },
  {
   "cell_type": "code",
   "execution_count": 4,
   "id": "4ddcd996",
   "metadata": {
    "execution": {
     "iopub.execute_input": "2022-07-11T07:34:28.325535Z",
     "iopub.status.busy": "2022-07-11T07:34:28.325378Z",
     "iopub.status.idle": "2022-07-11T07:34:28.341869Z",
     "shell.execute_reply": "2022-07-11T07:34:28.341488Z"
    },
    "papermill": {
     "duration": 0.024094,
     "end_time": "2022-07-11T07:34:28.343320",
     "exception": false,
     "start_time": "2022-07-11T07:34:28.319226",
     "status": "completed"
    },
    "tags": [
     "injected-parameters"
    ]
   },
   "outputs": [],
   "source": [
    "# Parameters\n",
    "chromosome = 19\n",
    "REFERENCE_PANEL = \"1000G\"\n",
    "EQTL_MODEL = \"MASHR\"\n"
   ]
  },
  {
   "cell_type": "code",
   "execution_count": 5,
   "id": "a089c9ff",
   "metadata": {
    "execution": {
     "iopub.execute_input": "2022-07-11T07:34:28.355513Z",
     "iopub.status.busy": "2022-07-11T07:34:28.355352Z",
     "iopub.status.idle": "2022-07-11T07:34:28.371688Z",
     "shell.execute_reply": "2022-07-11T07:34:28.371257Z"
    },
    "papermill": {
     "duration": 0.023997,
     "end_time": "2022-07-11T07:34:28.373158",
     "exception": false,
     "start_time": "2022-07-11T07:34:28.349161",
     "status": "completed"
    },
    "tags": []
   },
   "outputs": [],
   "source": [
    "EQTL_MODEL_FILES_PREFIX = conf.PHENOMEXCAN[\"PREDICTION_MODELS\"][f\"{EQTL_MODEL}_PREFIX\"]"
   ]
  },
  {
   "cell_type": "code",
   "execution_count": 6,
   "id": "8fe24bef",
   "metadata": {
    "execution": {
     "iopub.execute_input": "2022-07-11T07:34:28.395365Z",
     "iopub.status.busy": "2022-07-11T07:34:28.395203Z",
     "iopub.status.idle": "2022-07-11T07:34:28.425840Z",
     "shell.execute_reply": "2022-07-11T07:34:28.425404Z"
    },
    "papermill": {
     "duration": 0.04424,
     "end_time": "2022-07-11T07:34:28.427257",
     "exception": false,
     "start_time": "2022-07-11T07:34:28.383017",
     "status": "completed"
    },
    "tags": []
   },
   "outputs": [
    {
     "data": {
      "text/plain": [
       "'Using eQTL model: MASHR / mashr_'"
      ]
     },
     "metadata": {},
     "output_type": "display_data"
    }
   ],
   "source": [
    "display(f\"Using eQTL model: {EQTL_MODEL} / {EQTL_MODEL_FILES_PREFIX}\")"
   ]
  },
  {
   "cell_type": "code",
   "execution_count": 7,
   "id": "552a7f63-a18c-4d3e-bb6a-94f99b431291",
   "metadata": {
    "execution": {
     "iopub.execute_input": "2022-07-11T07:34:28.450297Z",
     "iopub.status.busy": "2022-07-11T07:34:28.450125Z",
     "iopub.status.idle": "2022-07-11T07:34:28.471570Z",
     "shell.execute_reply": "2022-07-11T07:34:28.471115Z"
    },
    "papermill": {
     "duration": 0.03597,
     "end_time": "2022-07-11T07:34:28.473229",
     "exception": false,
     "start_time": "2022-07-11T07:34:28.437259",
     "status": "completed"
    },
    "tags": []
   },
   "outputs": [
    {
     "data": {
      "text/plain": [
       "'S-MultiXcan condition number: 30'"
      ]
     },
     "metadata": {},
     "output_type": "display_data"
    }
   ],
   "source": [
    "display(f\"S-MultiXcan condition number: {SMULTIXCAN_CONDITION_NUMBER}\")"
   ]
  },
  {
   "cell_type": "code",
   "execution_count": 8,
   "id": "0230ebcb-2c32-4b95-9292-d9a52038e70d",
   "metadata": {
    "execution": {
     "iopub.execute_input": "2022-07-11T07:34:28.516116Z",
     "iopub.status.busy": "2022-07-11T07:34:28.515946Z",
     "iopub.status.idle": "2022-07-11T07:34:28.532078Z",
     "shell.execute_reply": "2022-07-11T07:34:28.531493Z"
    },
    "papermill": {
     "duration": 0.052552,
     "end_time": "2022-07-11T07:34:28.533478",
     "exception": false,
     "start_time": "2022-07-11T07:34:28.480926",
     "status": "completed"
    },
    "tags": []
   },
   "outputs": [],
   "source": [
    "REFERENCE_PANEL_DIR = conf.PHENOMEXCAN[\"LD_BLOCKS\"][f\"{REFERENCE_PANEL}_GENOTYPE_DIR\"]"
   ]
  },
  {
   "cell_type": "code",
   "execution_count": 9,
   "id": "98c4a159-601d-4a22-a1ab-35bd451c25f9",
   "metadata": {
    "execution": {
     "iopub.execute_input": "2022-07-11T07:34:28.564684Z",
     "iopub.status.busy": "2022-07-11T07:34:28.564306Z",
     "iopub.status.idle": "2022-07-11T07:34:28.578863Z",
     "shell.execute_reply": "2022-07-11T07:34:28.578494Z"
    },
    "papermill": {
     "duration": 0.040138,
     "end_time": "2022-07-11T07:34:28.580041",
     "exception": false,
     "start_time": "2022-07-11T07:34:28.539903",
     "status": "completed"
    },
    "tags": []
   },
   "outputs": [
    {
     "data": {
      "text/plain": [
       "'Using reference panel folder: /opt/data/data/phenomexcan/ld_blocks/reference_panel_1000G'"
      ]
     },
     "metadata": {},
     "output_type": "display_data"
    }
   ],
   "source": [
    "display(f\"Using reference panel folder: {str(REFERENCE_PANEL_DIR)}\")"
   ]
  },
  {
   "cell_type": "code",
   "execution_count": 10,
   "id": "396392dc-0340-4540-9b02-e182b833f909",
   "metadata": {
    "execution": {
     "iopub.execute_input": "2022-07-11T07:34:28.603392Z",
     "iopub.status.busy": "2022-07-11T07:34:28.603236Z",
     "iopub.status.idle": "2022-07-11T07:34:28.627826Z",
     "shell.execute_reply": "2022-07-11T07:34:28.624214Z"
    },
    "papermill": {
     "duration": 0.039054,
     "end_time": "2022-07-11T07:34:28.629088",
     "exception": false,
     "start_time": "2022-07-11T07:34:28.590034",
     "status": "completed"
    },
    "tags": []
   },
   "outputs": [],
   "source": [
    "OUTPUT_DIR_BASE = (\n",
    "    conf.PHENOMEXCAN[\"LD_BLOCKS\"][f\"GENE_CORRS_DIR\"]\n",
    "    / REFERENCE_PANEL.lower()\n",
    "    / EQTL_MODEL.lower()\n",
    ")\n",
    "OUTPUT_DIR_BASE.mkdir(parents=True, exist_ok=True)"
   ]
  },
  {
   "cell_type": "code",
   "execution_count": 11,
   "id": "8942c2d3-e53c-4d63-a0eb-b6fce0574d36",
   "metadata": {
    "execution": {
     "iopub.execute_input": "2022-07-11T07:34:28.660365Z",
     "iopub.status.busy": "2022-07-11T07:34:28.660198Z",
     "iopub.status.idle": "2022-07-11T07:34:28.682211Z",
     "shell.execute_reply": "2022-07-11T07:34:28.681280Z"
    },
    "papermill": {
     "duration": 0.035457,
     "end_time": "2022-07-11T07:34:28.683502",
     "exception": false,
     "start_time": "2022-07-11T07:34:28.648045",
     "status": "completed"
    },
    "tags": []
   },
   "outputs": [
    {
     "data": {
      "text/plain": [
       "'Using output dir base: /opt/data/data/phenomexcan/ld_blocks/gene_corrs/1000g/mashr'"
      ]
     },
     "metadata": {},
     "output_type": "display_data"
    }
   ],
   "source": [
    "display(f\"Using output dir base: {OUTPUT_DIR_BASE}\")"
   ]
  },
  {
   "cell_type": "code",
   "execution_count": 12,
   "id": "408aa590",
   "metadata": {
    "execution": {
     "iopub.execute_input": "2022-07-11T07:34:28.710516Z",
     "iopub.status.busy": "2022-07-11T07:34:28.710351Z",
     "iopub.status.idle": "2022-07-11T07:34:28.730540Z",
     "shell.execute_reply": "2022-07-11T07:34:28.730120Z"
    },
    "papermill": {
     "duration": 0.036196,
     "end_time": "2022-07-11T07:34:28.731891",
     "exception": false,
     "start_time": "2022-07-11T07:34:28.695695",
     "status": "completed"
    },
    "tags": []
   },
   "outputs": [],
   "source": [
    "assert (\n",
    "    chromosome is not None\n",
    "), \"You have to select one chromosome (format: number between 1 and 22)\""
   ]
  },
  {
   "cell_type": "code",
   "execution_count": 13,
   "id": "c1c7dd06-80ff-453c-bcb7-0899edce75da",
   "metadata": {
    "execution": {
     "iopub.execute_input": "2022-07-11T07:34:28.745395Z",
     "iopub.status.busy": "2022-07-11T07:34:28.745222Z",
     "iopub.status.idle": "2022-07-11T07:34:28.761493Z",
     "shell.execute_reply": "2022-07-11T07:34:28.760785Z"
    },
    "papermill": {
     "duration": 0.024668,
     "end_time": "2022-07-11T07:34:28.762933",
     "exception": false,
     "start_time": "2022-07-11T07:34:28.738265",
     "status": "completed"
    },
    "tags": []
   },
   "outputs": [],
   "source": [
    "chromosome = str(chromosome)"
   ]
  },
  {
   "cell_type": "code",
   "execution_count": 14,
   "id": "bc17b84c-9c26-47a5-a3ab-7046e72f3ef4",
   "metadata": {
    "execution": {
     "iopub.execute_input": "2022-07-11T07:34:28.792869Z",
     "iopub.status.busy": "2022-07-11T07:34:28.792654Z",
     "iopub.status.idle": "2022-07-11T07:34:28.818911Z",
     "shell.execute_reply": "2022-07-11T07:34:28.818385Z"
    },
    "papermill": {
     "duration": 0.049137,
     "end_time": "2022-07-11T07:34:28.820264",
     "exception": false,
     "start_time": "2022-07-11T07:34:28.771127",
     "status": "completed"
    },
    "tags": []
   },
   "outputs": [
    {
     "data": {
      "text/plain": [
       "'Working on chromosome 19'"
      ]
     },
     "metadata": {},
     "output_type": "display_data"
    }
   ],
   "source": [
    "display(f\"Working on chromosome {chromosome}\")"
   ]
  },
  {
   "cell_type": "markdown",
   "id": "d2ba085e",
   "metadata": {
    "papermill": {
     "duration": 0.014012,
     "end_time": "2022-07-11T07:34:28.848812",
     "exception": false,
     "start_time": "2022-07-11T07:34:28.834800",
     "status": "completed"
    },
    "tags": []
   },
   "source": [
    "# Load data"
   ]
  },
  {
   "cell_type": "markdown",
   "id": "7bed0ce0-e7c7-4300-9a61-5412450b1904",
   "metadata": {
    "papermill": {
     "duration": 0.010448,
     "end_time": "2022-07-11T07:34:28.865436",
     "exception": false,
     "start_time": "2022-07-11T07:34:28.854988",
     "status": "completed"
    },
    "tags": []
   },
   "source": [
    "## Prediction model tissues"
   ]
  },
  {
   "cell_type": "code",
   "execution_count": 15,
   "id": "0847c065-0d69-4830-a07f-1c75115d17f5",
   "metadata": {
    "execution": {
     "iopub.execute_input": "2022-07-11T07:34:28.879567Z",
     "iopub.status.busy": "2022-07-11T07:34:28.879365Z",
     "iopub.status.idle": "2022-07-11T07:34:28.893684Z",
     "shell.execute_reply": "2022-07-11T07:34:28.893286Z"
    },
    "papermill": {
     "duration": 0.022617,
     "end_time": "2022-07-11T07:34:28.894985",
     "exception": false,
     "start_time": "2022-07-11T07:34:28.872368",
     "status": "completed"
    },
    "tags": []
   },
   "outputs": [],
   "source": [
    "prediction_model_tissues = conf.PHENOMEXCAN[\"PREDICTION_MODELS\"][\n",
    "    f\"{EQTL_MODEL}_TISSUES\"\n",
    "].split(\" \")"
   ]
  },
  {
   "cell_type": "code",
   "execution_count": 16,
   "id": "aaef70d1-30c6-4c6f-9d6b-abc8e9a0081f",
   "metadata": {
    "execution": {
     "iopub.execute_input": "2022-07-11T07:34:28.908697Z",
     "iopub.status.busy": "2022-07-11T07:34:28.908431Z",
     "iopub.status.idle": "2022-07-11T07:34:28.923419Z",
     "shell.execute_reply": "2022-07-11T07:34:28.923023Z"
    },
    "papermill": {
     "duration": 0.023401,
     "end_time": "2022-07-11T07:34:28.924739",
     "exception": false,
     "start_time": "2022-07-11T07:34:28.901338",
     "status": "completed"
    },
    "tags": []
   },
   "outputs": [
    {
     "data": {
      "text/plain": [
       "49"
      ]
     },
     "execution_count": 16,
     "metadata": {},
     "output_type": "execute_result"
    }
   ],
   "source": [
    "len(prediction_model_tissues)"
   ]
  },
  {
   "cell_type": "code",
   "execution_count": 17,
   "id": "ff35a099-c52d-465d-b863-0ee70c26208c",
   "metadata": {
    "execution": {
     "iopub.execute_input": "2022-07-11T07:34:28.938631Z",
     "iopub.status.busy": "2022-07-11T07:34:28.938354Z",
     "iopub.status.idle": "2022-07-11T07:34:28.953956Z",
     "shell.execute_reply": "2022-07-11T07:34:28.953493Z"
    },
    "papermill": {
     "duration": 0.023954,
     "end_time": "2022-07-11T07:34:28.955285",
     "exception": false,
     "start_time": "2022-07-11T07:34:28.931331",
     "status": "completed"
    },
    "tags": []
   },
   "outputs": [
    {
     "data": {
      "text/plain": [
       "['Skin_Not_Sun_Exposed_Suprapubic',\n",
       " 'Cells_EBV-transformed_lymphocytes',\n",
       " 'Brain_Frontal_Cortex_BA9',\n",
       " 'Kidney_Cortex',\n",
       " 'Brain_Substantia_nigra']"
      ]
     },
     "execution_count": 17,
     "metadata": {},
     "output_type": "execute_result"
    }
   ],
   "source": [
    "prediction_model_tissues[:5]"
   ]
  },
  {
   "cell_type": "markdown",
   "id": "abcc4b3d",
   "metadata": {
    "papermill": {
     "duration": 0.01445,
     "end_time": "2022-07-11T07:34:28.980901",
     "exception": false,
     "start_time": "2022-07-11T07:34:28.966451",
     "status": "completed"
    },
    "tags": []
   },
   "source": [
    "## MultiPLIER Z"
   ]
  },
  {
   "cell_type": "code",
   "execution_count": 18,
   "id": "c48ef527",
   "metadata": {
    "execution": {
     "iopub.execute_input": "2022-07-11T07:34:29.007678Z",
     "iopub.status.busy": "2022-07-11T07:34:29.007511Z",
     "iopub.status.idle": "2022-07-11T07:34:29.061595Z",
     "shell.execute_reply": "2022-07-11T07:34:29.061148Z"
    },
    "papermill": {
     "duration": 0.067579,
     "end_time": "2022-07-11T07:34:29.062902",
     "exception": false,
     "start_time": "2022-07-11T07:34:28.995323",
     "status": "completed"
    },
    "tags": []
   },
   "outputs": [],
   "source": [
    "multiplier_z_genes = pd.read_pickle(\n",
    "    conf.MULTIPLIER[\"MODEL_Z_MATRIX_FILE\"]\n",
    ").index.tolist()"
   ]
  },
  {
   "cell_type": "code",
   "execution_count": 19,
   "id": "0a4ecbd9",
   "metadata": {
    "execution": {
     "iopub.execute_input": "2022-07-11T07:34:29.086247Z",
     "iopub.status.busy": "2022-07-11T07:34:29.086089Z",
     "iopub.status.idle": "2022-07-11T07:34:29.100267Z",
     "shell.execute_reply": "2022-07-11T07:34:29.099901Z"
    },
    "papermill": {
     "duration": 0.02799,
     "end_time": "2022-07-11T07:34:29.101351",
     "exception": false,
     "start_time": "2022-07-11T07:34:29.073361",
     "status": "completed"
    },
    "tags": []
   },
   "outputs": [
    {
     "data": {
      "text/plain": [
       "6750"
      ]
     },
     "execution_count": 19,
     "metadata": {},
     "output_type": "execute_result"
    }
   ],
   "source": [
    "len(multiplier_z_genes)"
   ]
  },
  {
   "cell_type": "code",
   "execution_count": 20,
   "id": "115e8864",
   "metadata": {
    "execution": {
     "iopub.execute_input": "2022-07-11T07:34:29.124710Z",
     "iopub.status.busy": "2022-07-11T07:34:29.124553Z",
     "iopub.status.idle": "2022-07-11T07:34:29.143338Z",
     "shell.execute_reply": "2022-07-11T07:34:29.142939Z"
    },
    "papermill": {
     "duration": 0.032829,
     "end_time": "2022-07-11T07:34:29.144465",
     "exception": false,
     "start_time": "2022-07-11T07:34:29.111636",
     "status": "completed"
    },
    "tags": []
   },
   "outputs": [
    {
     "data": {
      "text/plain": [
       "['GAS6',\n",
       " 'MMP14',\n",
       " 'DSP',\n",
       " 'MARCKSL1',\n",
       " 'SPARC',\n",
       " 'CTSD',\n",
       " 'EPAS1',\n",
       " 'PALLD',\n",
       " 'PHC2',\n",
       " 'LGALS3BP']"
      ]
     },
     "execution_count": 20,
     "metadata": {},
     "output_type": "execute_result"
    }
   ],
   "source": [
    "multiplier_z_genes[:10]"
   ]
  },
  {
   "cell_type": "markdown",
   "id": "7dcb8db7",
   "metadata": {
    "papermill": {
     "duration": 0.006473,
     "end_time": "2022-07-11T07:34:29.157329",
     "exception": false,
     "start_time": "2022-07-11T07:34:29.150856",
     "status": "completed"
    },
    "tags": []
   },
   "source": [
    "## Get gene objects"
   ]
  },
  {
   "cell_type": "code",
   "execution_count": 21,
   "id": "bb932812",
   "metadata": {
    "execution": {
     "iopub.execute_input": "2022-07-11T07:34:29.173082Z",
     "iopub.status.busy": "2022-07-11T07:34:29.172924Z",
     "iopub.status.idle": "2022-07-11T07:34:29.227343Z",
     "shell.execute_reply": "2022-07-11T07:34:29.226946Z"
    },
    "papermill": {
     "duration": 0.064337,
     "end_time": "2022-07-11T07:34:29.228572",
     "exception": false,
     "start_time": "2022-07-11T07:34:29.164235",
     "status": "completed"
    },
    "tags": []
   },
   "outputs": [],
   "source": [
    "multiplier_gene_obj = {\n",
    "    gene_name: Gene(name=gene_name)\n",
    "    for gene_name in multiplier_z_genes\n",
    "    if gene_name in Gene.GENE_NAME_TO_ID_MAP\n",
    "}"
   ]
  },
  {
   "cell_type": "code",
   "execution_count": 22,
   "id": "39533214",
   "metadata": {
    "execution": {
     "iopub.execute_input": "2022-07-11T07:34:29.252154Z",
     "iopub.status.busy": "2022-07-11T07:34:29.251997Z",
     "iopub.status.idle": "2022-07-11T07:34:29.270143Z",
     "shell.execute_reply": "2022-07-11T07:34:29.269766Z"
    },
    "papermill": {
     "duration": 0.032487,
     "end_time": "2022-07-11T07:34:29.271392",
     "exception": false,
     "start_time": "2022-07-11T07:34:29.238905",
     "status": "completed"
    },
    "tags": []
   },
   "outputs": [
    {
     "data": {
      "text/plain": [
       "6454"
      ]
     },
     "execution_count": 22,
     "metadata": {},
     "output_type": "execute_result"
    }
   ],
   "source": [
    "len(multiplier_gene_obj)"
   ]
  },
  {
   "cell_type": "code",
   "execution_count": 23,
   "id": "9a5d0b84",
   "metadata": {
    "execution": {
     "iopub.execute_input": "2022-07-11T07:34:29.287235Z",
     "iopub.status.busy": "2022-07-11T07:34:29.286794Z",
     "iopub.status.idle": "2022-07-11T07:34:29.311467Z",
     "shell.execute_reply": "2022-07-11T07:34:29.311084Z"
    },
    "papermill": {
     "duration": 0.034014,
     "end_time": "2022-07-11T07:34:29.312629",
     "exception": false,
     "start_time": "2022-07-11T07:34:29.278615",
     "status": "completed"
    },
    "tags": []
   },
   "outputs": [
    {
     "data": {
      "text/plain": [
       "'ENSG00000183087'"
      ]
     },
     "execution_count": 23,
     "metadata": {},
     "output_type": "execute_result"
    }
   ],
   "source": [
    "multiplier_gene_obj[\"GAS6\"].ensembl_id"
   ]
  },
  {
   "cell_type": "code",
   "execution_count": 24,
   "id": "e3ffabc7",
   "metadata": {
    "execution": {
     "iopub.execute_input": "2022-07-11T07:34:29.341676Z",
     "iopub.status.busy": "2022-07-11T07:34:29.341517Z",
     "iopub.status.idle": "2022-07-11T07:34:31.837130Z",
     "shell.execute_reply": "2022-07-11T07:34:31.836697Z"
    },
    "papermill": {
     "duration": 2.514956,
     "end_time": "2022-07-11T07:34:31.838436",
     "exception": false,
     "start_time": "2022-07-11T07:34:29.323480",
     "status": "completed"
    },
    "tags": []
   },
   "outputs": [],
   "source": [
    "_gene_obj = list(multiplier_gene_obj.values())\n",
    "\n",
    "genes_info = pd.DataFrame(\n",
    "    {\n",
    "        \"name\": [g.name for g in _gene_obj],\n",
    "        \"id\": [g.ensembl_id for g in _gene_obj],\n",
    "        \"chr\": [g.chromosome for g in _gene_obj],\n",
    "        \"band\": [g.band for g in _gene_obj],\n",
    "        \"start_position\": [g.get_attribute(\"start_position\") for g in _gene_obj],\n",
    "    }\n",
    ")"
   ]
  },
  {
   "cell_type": "code",
   "execution_count": 25,
   "id": "e23519b8",
   "metadata": {
    "execution": {
     "iopub.execute_input": "2022-07-11T07:34:31.865800Z",
     "iopub.status.busy": "2022-07-11T07:34:31.865369Z",
     "iopub.status.idle": "2022-07-11T07:34:31.888707Z",
     "shell.execute_reply": "2022-07-11T07:34:31.888251Z"
    },
    "papermill": {
     "duration": 0.036676,
     "end_time": "2022-07-11T07:34:31.889843",
     "exception": false,
     "start_time": "2022-07-11T07:34:31.853167",
     "status": "completed"
    },
    "tags": []
   },
   "outputs": [
    {
     "data": {
      "text/plain": [
       "(6454, 5)"
      ]
     },
     "execution_count": 25,
     "metadata": {},
     "output_type": "execute_result"
    }
   ],
   "source": [
    "genes_info.shape"
   ]
  },
  {
   "cell_type": "code",
   "execution_count": 26,
   "id": "0d71881c",
   "metadata": {
    "execution": {
     "iopub.execute_input": "2022-07-11T07:34:31.904201Z",
     "iopub.status.busy": "2022-07-11T07:34:31.903911Z",
     "iopub.status.idle": "2022-07-11T07:34:31.924685Z",
     "shell.execute_reply": "2022-07-11T07:34:31.924279Z"
    },
    "papermill": {
     "duration": 0.029364,
     "end_time": "2022-07-11T07:34:31.926020",
     "exception": false,
     "start_time": "2022-07-11T07:34:31.896656",
     "status": "completed"
    },
    "tags": []
   },
   "outputs": [
    {
     "data": {
      "text/html": [
       "<div>\n",
       "<style scoped>\n",
       "    .dataframe tbody tr th:only-of-type {\n",
       "        vertical-align: middle;\n",
       "    }\n",
       "\n",
       "    .dataframe tbody tr th {\n",
       "        vertical-align: top;\n",
       "    }\n",
       "\n",
       "    .dataframe thead th {\n",
       "        text-align: right;\n",
       "    }\n",
       "</style>\n",
       "<table border=\"1\" class=\"dataframe\">\n",
       "  <thead>\n",
       "    <tr style=\"text-align: right;\">\n",
       "      <th></th>\n",
       "      <th>name</th>\n",
       "      <th>id</th>\n",
       "      <th>chr</th>\n",
       "      <th>band</th>\n",
       "      <th>start_position</th>\n",
       "    </tr>\n",
       "  </thead>\n",
       "  <tbody>\n",
       "    <tr>\n",
       "      <th>0</th>\n",
       "      <td>GAS6</td>\n",
       "      <td>ENSG00000183087</td>\n",
       "      <td>13</td>\n",
       "      <td>13q34</td>\n",
       "      <td>113820549.0</td>\n",
       "    </tr>\n",
       "    <tr>\n",
       "      <th>1</th>\n",
       "      <td>MMP14</td>\n",
       "      <td>ENSG00000157227</td>\n",
       "      <td>14</td>\n",
       "      <td>14q11.2</td>\n",
       "      <td>22836560.0</td>\n",
       "    </tr>\n",
       "    <tr>\n",
       "      <th>2</th>\n",
       "      <td>DSP</td>\n",
       "      <td>ENSG00000096696</td>\n",
       "      <td>6</td>\n",
       "      <td>6p24.3</td>\n",
       "      <td>7541617.0</td>\n",
       "    </tr>\n",
       "    <tr>\n",
       "      <th>3</th>\n",
       "      <td>MARCKSL1</td>\n",
       "      <td>ENSG00000175130</td>\n",
       "      <td>1</td>\n",
       "      <td>1p35.1</td>\n",
       "      <td>32333839.0</td>\n",
       "    </tr>\n",
       "    <tr>\n",
       "      <th>4</th>\n",
       "      <td>SPARC</td>\n",
       "      <td>ENSG00000113140</td>\n",
       "      <td>5</td>\n",
       "      <td>5q33.1</td>\n",
       "      <td>151661096.0</td>\n",
       "    </tr>\n",
       "  </tbody>\n",
       "</table>\n",
       "</div>"
      ],
      "text/plain": [
       "       name               id chr     band  start_position\n",
       "0      GAS6  ENSG00000183087  13    13q34     113820549.0\n",
       "1     MMP14  ENSG00000157227  14  14q11.2      22836560.0\n",
       "2       DSP  ENSG00000096696   6   6p24.3       7541617.0\n",
       "3  MARCKSL1  ENSG00000175130   1   1p35.1      32333839.0\n",
       "4     SPARC  ENSG00000113140   5   5q33.1     151661096.0"
      ]
     },
     "execution_count": 26,
     "metadata": {},
     "output_type": "execute_result"
    }
   ],
   "source": [
    "genes_info.head()"
   ]
  },
  {
   "cell_type": "markdown",
   "id": "c8d1038f",
   "metadata": {
    "papermill": {
     "duration": 0.006675,
     "end_time": "2022-07-11T07:34:31.939795",
     "exception": false,
     "start_time": "2022-07-11T07:34:31.933120",
     "status": "completed"
    },
    "tags": []
   },
   "source": [
    "# Test"
   ]
  },
  {
   "cell_type": "code",
   "execution_count": 27,
   "id": "64993abf",
   "metadata": {
    "execution": {
     "iopub.execute_input": "2022-07-11T07:34:31.965542Z",
     "iopub.status.busy": "2022-07-11T07:34:31.965379Z",
     "iopub.status.idle": "2022-07-11T07:34:32.007318Z",
     "shell.execute_reply": "2022-07-11T07:34:32.006944Z"
    },
    "papermill": {
     "duration": 0.057419,
     "end_time": "2022-07-11T07:34:32.008587",
     "exception": false,
     "start_time": "2022-07-11T07:34:31.951168",
     "status": "completed"
    },
    "tags": []
   },
   "outputs": [
    {
     "data": {
      "text/html": [
       "<div>\n",
       "<style scoped>\n",
       "    .dataframe tbody tr th:only-of-type {\n",
       "        vertical-align: middle;\n",
       "    }\n",
       "\n",
       "    .dataframe tbody tr th {\n",
       "        vertical-align: top;\n",
       "    }\n",
       "\n",
       "    .dataframe thead th {\n",
       "        text-align: right;\n",
       "    }\n",
       "</style>\n",
       "<table border=\"1\" class=\"dataframe\">\n",
       "  <thead>\n",
       "    <tr style=\"text-align: right;\">\n",
       "      <th></th>\n",
       "      <th>name</th>\n",
       "      <th>id</th>\n",
       "      <th>chr</th>\n",
       "      <th>band</th>\n",
       "      <th>start_position</th>\n",
       "    </tr>\n",
       "  </thead>\n",
       "  <tbody>\n",
       "    <tr>\n",
       "      <th>51</th>\n",
       "      <td>BLVRB</td>\n",
       "      <td>ENSG00000090013</td>\n",
       "      <td>19</td>\n",
       "      <td>19q13.2</td>\n",
       "      <td>40447765.0</td>\n",
       "    </tr>\n",
       "    <tr>\n",
       "      <th>68</th>\n",
       "      <td>TRIP10</td>\n",
       "      <td>ENSG00000125733</td>\n",
       "      <td>19</td>\n",
       "      <td>19p13.3</td>\n",
       "      <td>6737925.0</td>\n",
       "    </tr>\n",
       "    <tr>\n",
       "      <th>96</th>\n",
       "      <td>FCGBP</td>\n",
       "      <td>ENSG00000275395</td>\n",
       "      <td>19</td>\n",
       "      <td>19q13.2</td>\n",
       "      <td>39863323.0</td>\n",
       "    </tr>\n",
       "    <tr>\n",
       "      <th>113</th>\n",
       "      <td>ERF</td>\n",
       "      <td>ENSG00000105722</td>\n",
       "      <td>19</td>\n",
       "      <td>19q13.2</td>\n",
       "      <td>42247569.0</td>\n",
       "    </tr>\n",
       "    <tr>\n",
       "      <th>152</th>\n",
       "      <td>GMFG</td>\n",
       "      <td>ENSG00000130755</td>\n",
       "      <td>19</td>\n",
       "      <td>19q13.2</td>\n",
       "      <td>39328353.0</td>\n",
       "    </tr>\n",
       "    <tr>\n",
       "      <th>...</th>\n",
       "      <td>...</td>\n",
       "      <td>...</td>\n",
       "      <td>...</td>\n",
       "      <td>...</td>\n",
       "      <td>...</td>\n",
       "    </tr>\n",
       "    <tr>\n",
       "      <th>6367</th>\n",
       "      <td>MAP2K7</td>\n",
       "      <td>ENSG00000076984</td>\n",
       "      <td>19</td>\n",
       "      <td>19p13.2</td>\n",
       "      <td>7903843.0</td>\n",
       "    </tr>\n",
       "    <tr>\n",
       "      <th>6391</th>\n",
       "      <td>GIPC1</td>\n",
       "      <td>ENSG00000123159</td>\n",
       "      <td>19</td>\n",
       "      <td>19p13.12</td>\n",
       "      <td>14477760.0</td>\n",
       "    </tr>\n",
       "    <tr>\n",
       "      <th>6403</th>\n",
       "      <td>DNM2</td>\n",
       "      <td>ENSG00000079805</td>\n",
       "      <td>19</td>\n",
       "      <td>19p13.2</td>\n",
       "      <td>10718079.0</td>\n",
       "    </tr>\n",
       "    <tr>\n",
       "      <th>6411</th>\n",
       "      <td>GYS1</td>\n",
       "      <td>ENSG00000104812</td>\n",
       "      <td>19</td>\n",
       "      <td>19q13.33</td>\n",
       "      <td>48968130.0</td>\n",
       "    </tr>\n",
       "    <tr>\n",
       "      <th>6425</th>\n",
       "      <td>PLEKHG2</td>\n",
       "      <td>ENSG00000090924</td>\n",
       "      <td>19</td>\n",
       "      <td>19q13.2</td>\n",
       "      <td>39412669.0</td>\n",
       "    </tr>\n",
       "  </tbody>\n",
       "</table>\n",
       "<p>540 rows × 5 columns</p>\n",
       "</div>"
      ],
      "text/plain": [
       "         name               id chr      band  start_position\n",
       "51      BLVRB  ENSG00000090013  19   19q13.2      40447765.0\n",
       "68     TRIP10  ENSG00000125733  19   19p13.3       6737925.0\n",
       "96      FCGBP  ENSG00000275395  19   19q13.2      39863323.0\n",
       "113       ERF  ENSG00000105722  19   19q13.2      42247569.0\n",
       "152      GMFG  ENSG00000130755  19   19q13.2      39328353.0\n",
       "...       ...              ...  ..       ...             ...\n",
       "6367   MAP2K7  ENSG00000076984  19   19p13.2       7903843.0\n",
       "6391    GIPC1  ENSG00000123159  19  19p13.12      14477760.0\n",
       "6403     DNM2  ENSG00000079805  19   19p13.2      10718079.0\n",
       "6411     GYS1  ENSG00000104812  19  19q13.33      48968130.0\n",
       "6425  PLEKHG2  ENSG00000090924  19   19q13.2      39412669.0\n",
       "\n",
       "[540 rows x 5 columns]"
      ]
     },
     "metadata": {},
     "output_type": "display_data"
    }
   ],
   "source": [
    "chromosome_genes_info = genes_info[genes_info[\"chr\"] == chromosome]\n",
    "display(chromosome_genes_info)"
   ]
  },
  {
   "cell_type": "code",
   "execution_count": 28,
   "id": "d2e42726-7de6-46eb-acfc-6323eaa8fae6",
   "metadata": {
    "execution": {
     "iopub.execute_input": "2022-07-11T07:34:32.035105Z",
     "iopub.status.busy": "2022-07-11T07:34:32.034946Z",
     "iopub.status.idle": "2022-07-11T07:34:32.053642Z",
     "shell.execute_reply": "2022-07-11T07:34:32.053242Z"
    },
    "papermill": {
     "duration": 0.034467,
     "end_time": "2022-07-11T07:34:32.055024",
     "exception": false,
     "start_time": "2022-07-11T07:34:32.020557",
     "status": "completed"
    },
    "tags": []
   },
   "outputs": [
    {
     "data": {
      "text/plain": [
       "5"
      ]
     },
     "metadata": {},
     "output_type": "display_data"
    }
   ],
   "source": [
    "seed(0)\n",
    "_gene_list_ids = sample(chromosome_genes_info[\"id\"].tolist(), 5)\n",
    "selected_chromosome_genes_obj = [Gene(ensembl_id=g_id) for g_id in _gene_list_ids]\n",
    "display(len(selected_chromosome_genes_obj))"
   ]
  },
  {
   "cell_type": "code",
   "execution_count": 29,
   "id": "1b355359",
   "metadata": {
    "execution": {
     "iopub.execute_input": "2022-07-11T07:34:32.074892Z",
     "iopub.status.busy": "2022-07-11T07:34:32.074259Z",
     "iopub.status.idle": "2022-07-11T07:34:35.855662Z",
     "shell.execute_reply": "2022-07-11T07:34:35.855240Z"
    },
    "papermill": {
     "duration": 3.790326,
     "end_time": "2022-07-11T07:34:35.856842",
     "exception": false,
     "start_time": "2022-07-11T07:34:32.066516",
     "status": "completed"
    },
    "tags": []
   },
   "outputs": [
    {
     "name": "stdout",
     "output_type": "stream",
     "text": [
      "ZNF160 / PSENEN: 0.0\n",
      "ZNF160 / EBI3: 0.0\n",
      "ZNF160 / POLR2E: 0.0\n",
      "ZNF160 / CIRBP: 0.0\n",
      "PSENEN / EBI3: 0.0\n",
      "PSENEN / POLR2E: 0.0\n",
      "PSENEN / CIRBP: 0.0\n",
      "EBI3 / POLR2E: 0.007131615739372744\n",
      "EBI3 / CIRBP: 0.00855872791617936\n",
      "POLR2E / CIRBP: 0.01168323394609607\n"
     ]
    }
   ],
   "source": [
    "for gene_idx1 in range(0, len(selected_chromosome_genes_obj) - 1):\n",
    "    gene_obj1 = selected_chromosome_genes_obj[gene_idx1]\n",
    "\n",
    "    for gene_idx2 in range(gene_idx1 + 1, len(selected_chromosome_genes_obj)):\n",
    "        gene_obj2 = selected_chromosome_genes_obj[gene_idx2]\n",
    "\n",
    "        c = gene_obj1.get_ssm_correlation(\n",
    "            gene_obj2,\n",
    "        )\n",
    "\n",
    "        print(f\"{gene_obj1.name} / {gene_obj2.name}: {c}\")"
   ]
  },
  {
   "cell_type": "markdown",
   "id": "d3843e06",
   "metadata": {
    "papermill": {
     "duration": 0.015241,
     "end_time": "2022-07-11T07:34:35.884310",
     "exception": false,
     "start_time": "2022-07-11T07:34:35.869069",
     "status": "completed"
    },
    "tags": []
   },
   "source": [
    "# Compute correlation per chromosome"
   ]
  },
  {
   "cell_type": "code",
   "execution_count": 30,
   "id": "cb859c15-d1f3-4006-a74c-2b83c0db9611",
   "metadata": {
    "execution": {
     "iopub.execute_input": "2022-07-11T07:34:35.915735Z",
     "iopub.status.busy": "2022-07-11T07:34:35.915566Z",
     "iopub.status.idle": "2022-07-11T07:34:35.932086Z",
     "shell.execute_reply": "2022-07-11T07:34:35.931699Z"
    },
    "papermill": {
     "duration": 0.033541,
     "end_time": "2022-07-11T07:34:35.933203",
     "exception": false,
     "start_time": "2022-07-11T07:34:35.899662",
     "status": "completed"
    },
    "tags": []
   },
   "outputs": [
    {
     "data": {
      "text/plain": [
       "PosixPath('/opt/data/data/phenomexcan/ld_blocks/gene_corrs/1000g/mashr/by_chr/gene_corrs-chr19.pkl')"
      ]
     },
     "metadata": {},
     "output_type": "display_data"
    }
   ],
   "source": [
    "output_dir = OUTPUT_DIR_BASE / \"by_chr\"\n",
    "output_dir.mkdir(exist_ok=True, parents=True)\n",
    "output_file = output_dir / f\"gene_corrs-chr{chromosome}.pkl\"\n",
    "display(output_file)"
   ]
  },
  {
   "cell_type": "code",
   "execution_count": 31,
   "id": "aa674fe4-6794-4eed-98fa-32b39d1d4ace",
   "metadata": {
    "execution": {
     "iopub.execute_input": "2022-07-11T07:34:35.962682Z",
     "iopub.status.busy": "2022-07-11T07:34:35.962524Z",
     "iopub.status.idle": "2022-07-11T07:34:35.986267Z",
     "shell.execute_reply": "2022-07-11T07:34:35.985887Z"
    },
    "papermill": {
     "duration": 0.040915,
     "end_time": "2022-07-11T07:34:35.987450",
     "exception": false,
     "start_time": "2022-07-11T07:34:35.946535",
     "status": "completed"
    },
    "tags": []
   },
   "outputs": [],
   "source": [
    "warnings.filterwarnings(\"error\")"
   ]
  },
  {
   "cell_type": "code",
   "execution_count": 32,
   "id": "cdbb90a1",
   "metadata": {
    "execution": {
     "iopub.execute_input": "2022-07-11T07:34:36.012349Z",
     "iopub.status.busy": "2022-07-11T07:34:36.012193Z",
     "iopub.status.idle": "2022-07-11T08:19:25.746706Z",
     "shell.execute_reply": "2022-07-11T08:19:25.746254Z"
    },
    "papermill": {
     "duration": 2689.743781,
     "end_time": "2022-07-11T08:19:25.748062",
     "exception": false,
     "start_time": "2022-07-11T07:34:36.004281",
     "status": "completed"
    },
    "tags": []
   },
   "outputs": [
    {
     "name": "stdout",
     "output_type": "stream",
     "text": [
      "Number of genes in chromosome: 540\n",
      "Number of gene combinations: 145530\n"
     ]
    },
    {
     "name": "stderr",
     "output_type": "stream",
     "text": [
      "ENSG00000130724 / ENSG00000130725: 100%|████████████████████| 145530/145530 [44:49<00:00, 54.11it/s]"
     ]
    },
    {
     "name": "stdout",
     "output_type": "stream",
     "text": [
      "Min/max values: 0.0 / 0.9723781582344448\n"
     ]
    },
    {
     "name": "stderr",
     "output_type": "stream",
     "text": [
      "\n"
     ]
    },
    {
     "data": {
      "text/plain": [
       "PosixPath('/opt/data/data/phenomexcan/ld_blocks/gene_corrs/1000g/mashr/by_chr/gene_corrs-chr19.pkl')"
      ]
     },
     "metadata": {},
     "output_type": "display_data"
    }
   ],
   "source": [
    "# standard checks\n",
    "all_chrs = genes_info[\"chr\"].dropna().unique()\n",
    "assert all_chrs.shape[0] == 22\n",
    "\n",
    "# select chromosome given by the user\n",
    "assert chromosome in all_chrs\n",
    "\n",
    "# run only on the chromosome specified\n",
    "all_chrs = [chromosome]\n",
    "genes_chr = genes_info[genes_info[\"chr\"] == chromosome]\n",
    "\n",
    "# For testing purposes\n",
    "# genes_chr = genes_chr.sample(n=20)\n",
    "\n",
    "print(f\"Number of genes in chromosome: {genes_chr.shape[0]}\", flush=True)\n",
    "\n",
    "# sort genes by starting position to make visualizations better later\n",
    "genes_chr = genes_chr.sort_values(\"start_position\")\n",
    "\n",
    "gene_chr_objs = [Gene(ensembl_id=gene_id) for gene_id in genes_chr[\"id\"]]\n",
    "gene_chr_ids = [g.ensembl_id for g in gene_chr_objs]\n",
    "\n",
    "n = len(gene_chr_objs)\n",
    "n_comb = int(n * (n - 1) / 2.0)\n",
    "print(f\"Number of gene combinations: {n_comb}\", flush=True)\n",
    "\n",
    "gene_corrs = []\n",
    "\n",
    "pbar = tqdm(ncols=100, total=n_comb)\n",
    "i = 0\n",
    "for gene_idx1 in range(0, len(gene_chr_objs) - 1):\n",
    "    gene_obj1 = gene_chr_objs[gene_idx1]\n",
    "\n",
    "    for gene_idx2 in range(gene_idx1 + 1, len(gene_chr_objs)):\n",
    "        gene_obj2 = gene_chr_objs[gene_idx2]\n",
    "\n",
    "        pbar.set_description(f\"{gene_obj1.ensembl_id} / {gene_obj2.ensembl_id}\")\n",
    "\n",
    "        try:\n",
    "            # FIXME: compute the correlation of the sum of squares of the model using all\n",
    "            # the available tissues; this could be problematic because for some results\n",
    "            # (computed on a specific phenotype/GWAS) we might not have all the tissues\n",
    "            # available, which can certainly bias the correlation estimation.\n",
    "            # Since this depends on the GWAS on a specific phenotype, we should ideally have\n",
    "            # one correlation matrix per GWAS. I should look at how we can improve this.\n",
    "            r = gene_obj1.get_ssm_correlation(\n",
    "                other_gene=gene_obj2,\n",
    "                condition_number=SMULTIXCAN_CONDITION_NUMBER,\n",
    "                reference_panel=REFERENCE_PANEL,\n",
    "                model_type=EQTL_MODEL,\n",
    "            )\n",
    "\n",
    "            if r is None:\n",
    "                # if r is None, it's very likely because:\n",
    "                #  * one of the genes has no prediction models\n",
    "                #  * all the SNPs predictors for the gene are not present in the reference\n",
    "                #    panel\n",
    "\n",
    "                r = 0.0\n",
    "\n",
    "            gene_corrs.append(r)\n",
    "        except Warning:\n",
    "            print(\n",
    "                f\"RuntimeWarning for genes {gene_obj1.ensembl_id} and {gene_obj2.ensembl_id}\",\n",
    "                flush=True,\n",
    "            )\n",
    "            import traceback\n",
    "\n",
    "            print(traceback.format_exc(), flush=True)\n",
    "        except Exception as e:\n",
    "            print(\n",
    "                f\"Exception for genes {gene_obj1.ensembl_id} and {gene_obj2.ensembl_id}\",\n",
    "                flush=True,\n",
    "            )\n",
    "            import traceback\n",
    "\n",
    "            print(traceback.format_exc(), flush=True)\n",
    "            gene_corrs.append(np.nan)\n",
    "\n",
    "        pbar.update(1)\n",
    "\n",
    "pbar.close()\n",
    "\n",
    "# testing\n",
    "gene_corrs_flat = pd.Series(gene_corrs)\n",
    "print(f\"Min/max values: {gene_corrs_flat.min()} / {gene_corrs_flat.max()}\")\n",
    "assert gene_corrs_flat.min() >= -1.001\n",
    "assert gene_corrs_flat.max() <= 1.001\n",
    "\n",
    "# save\n",
    "# FIXME: consider saving only the condenced matrix here. See here for\n",
    "# more details: https://github.com/greenelab/phenoplier/pull/38#discussion_r634600813\n",
    "gene_corrs_data = squareform(np.array(gene_corrs, dtype=np.float64))\n",
    "np.fill_diagonal(gene_corrs_data, 1.0)\n",
    "\n",
    "gene_corrs_df = pd.DataFrame(\n",
    "    data=gene_corrs_data,\n",
    "    index=gene_chr_ids,\n",
    "    columns=gene_chr_ids,\n",
    ")\n",
    "\n",
    "output_dir.mkdir(exist_ok=True, parents=True)\n",
    "display(output_file)\n",
    "\n",
    "gene_corrs_df.to_pickle(output_file)"
   ]
  },
  {
   "cell_type": "markdown",
   "id": "faa67b51-5373-470f-aa72-2ded53fa6dfe",
   "metadata": {
    "papermill": {
     "duration": 5.168422,
     "end_time": "2022-07-11T08:19:36.068577",
     "exception": false,
     "start_time": "2022-07-11T08:19:30.900155",
     "status": "completed"
    },
    "tags": []
   },
   "source": [
    "# Testing"
   ]
  },
  {
   "cell_type": "code",
   "execution_count": 33,
   "id": "14f7d046-4b55-4896-a56b-990127bcc388",
   "metadata": {
    "execution": {
     "iopub.execute_input": "2022-07-11T08:19:46.395537Z",
     "iopub.status.busy": "2022-07-11T08:19:46.394965Z",
     "iopub.status.idle": "2022-07-11T08:19:46.411999Z",
     "shell.execute_reply": "2022-07-11T08:19:46.411493Z"
    },
    "papermill": {
     "duration": 5.189696,
     "end_time": "2022-07-11T08:19:46.413258",
     "exception": false,
     "start_time": "2022-07-11T08:19:41.223562",
     "status": "completed"
    },
    "tags": []
   },
   "outputs": [
    {
     "data": {
      "text/plain": [
       "(540, 540)"
      ]
     },
     "execution_count": 33,
     "metadata": {},
     "output_type": "execute_result"
    }
   ],
   "source": [
    "gene_corrs_df.shape"
   ]
  },
  {
   "cell_type": "code",
   "execution_count": 34,
   "id": "c7d15414-3297-4537-a7c6-7588c0baeb75",
   "metadata": {
    "execution": {
     "iopub.execute_input": "2022-07-11T08:19:56.807651Z",
     "iopub.status.busy": "2022-07-11T08:19:56.807053Z",
     "iopub.status.idle": "2022-07-11T08:19:56.846811Z",
     "shell.execute_reply": "2022-07-11T08:19:56.846289Z"
    },
    "papermill": {
     "duration": 5.280787,
     "end_time": "2022-07-11T08:19:56.848109",
     "exception": false,
     "start_time": "2022-07-11T08:19:51.567322",
     "status": "completed"
    },
    "tags": []
   },
   "outputs": [
    {
     "data": {
      "text/html": [
       "<div>\n",
       "<style scoped>\n",
       "    .dataframe tbody tr th:only-of-type {\n",
       "        vertical-align: middle;\n",
       "    }\n",
       "\n",
       "    .dataframe tbody tr th {\n",
       "        vertical-align: top;\n",
       "    }\n",
       "\n",
       "    .dataframe thead th {\n",
       "        text-align: right;\n",
       "    }\n",
       "</style>\n",
       "<table border=\"1\" class=\"dataframe\">\n",
       "  <thead>\n",
       "    <tr style=\"text-align: right;\">\n",
       "      <th></th>\n",
       "      <th>ENSG00000129946</th>\n",
       "      <th>ENSG00000099866</th>\n",
       "      <th>ENSG00000099804</th>\n",
       "      <th>ENSG00000197540</th>\n",
       "      <th>ENSG00000172270</th>\n",
       "      <th>ENSG00000099822</th>\n",
       "      <th>ENSG00000099821</th>\n",
       "      <th>ENSG00000011304</th>\n",
       "      <th>ENSG00000172232</th>\n",
       "      <th>ENSG00000196415</th>\n",
       "      <th>...</th>\n",
       "      <th>ENSG00000171606</th>\n",
       "      <th>ENSG00000198131</th>\n",
       "      <th>ENSG00000083845</th>\n",
       "      <th>ENSG00000171574</th>\n",
       "      <th>ENSG00000083812</th>\n",
       "      <th>ENSG00000083838</th>\n",
       "      <th>ENSG00000083807</th>\n",
       "      <th>ENSG00000130726</th>\n",
       "      <th>ENSG00000130724</th>\n",
       "      <th>ENSG00000130725</th>\n",
       "    </tr>\n",
       "  </thead>\n",
       "  <tbody>\n",
       "    <tr>\n",
       "      <th>ENSG00000129946</th>\n",
       "      <td>1.000000</td>\n",
       "      <td>0.247583</td>\n",
       "      <td>0.102933</td>\n",
       "      <td>0.026158</td>\n",
       "      <td>0.024495</td>\n",
       "      <td>0.022839</td>\n",
       "      <td>0.015235</td>\n",
       "      <td>0.016966</td>\n",
       "      <td>0.010012</td>\n",
       "      <td>0.011145</td>\n",
       "      <td>...</td>\n",
       "      <td>0.0</td>\n",
       "      <td>0.0</td>\n",
       "      <td>0.0</td>\n",
       "      <td>0.0</td>\n",
       "      <td>0.0</td>\n",
       "      <td>0.0</td>\n",
       "      <td>0.0</td>\n",
       "      <td>0.0</td>\n",
       "      <td>0.0</td>\n",
       "      <td>0.0</td>\n",
       "    </tr>\n",
       "    <tr>\n",
       "      <th>ENSG00000099866</th>\n",
       "      <td>0.247583</td>\n",
       "      <td>1.000000</td>\n",
       "      <td>0.021394</td>\n",
       "      <td>0.014220</td>\n",
       "      <td>0.017750</td>\n",
       "      <td>0.016177</td>\n",
       "      <td>0.008639</td>\n",
       "      <td>0.007615</td>\n",
       "      <td>0.010246</td>\n",
       "      <td>0.012954</td>\n",
       "      <td>...</td>\n",
       "      <td>0.0</td>\n",
       "      <td>0.0</td>\n",
       "      <td>0.0</td>\n",
       "      <td>0.0</td>\n",
       "      <td>0.0</td>\n",
       "      <td>0.0</td>\n",
       "      <td>0.0</td>\n",
       "      <td>0.0</td>\n",
       "      <td>0.0</td>\n",
       "      <td>0.0</td>\n",
       "    </tr>\n",
       "    <tr>\n",
       "      <th>ENSG00000099804</th>\n",
       "      <td>0.102933</td>\n",
       "      <td>0.021394</td>\n",
       "      <td>1.000000</td>\n",
       "      <td>0.269368</td>\n",
       "      <td>0.131449</td>\n",
       "      <td>0.068362</td>\n",
       "      <td>0.023100</td>\n",
       "      <td>0.015097</td>\n",
       "      <td>0.015143</td>\n",
       "      <td>0.018630</td>\n",
       "      <td>...</td>\n",
       "      <td>0.0</td>\n",
       "      <td>0.0</td>\n",
       "      <td>0.0</td>\n",
       "      <td>0.0</td>\n",
       "      <td>0.0</td>\n",
       "      <td>0.0</td>\n",
       "      <td>0.0</td>\n",
       "      <td>0.0</td>\n",
       "      <td>0.0</td>\n",
       "      <td>0.0</td>\n",
       "    </tr>\n",
       "    <tr>\n",
       "      <th>ENSG00000197540</th>\n",
       "      <td>0.026158</td>\n",
       "      <td>0.014220</td>\n",
       "      <td>0.269368</td>\n",
       "      <td>1.000000</td>\n",
       "      <td>0.136110</td>\n",
       "      <td>0.099743</td>\n",
       "      <td>0.032082</td>\n",
       "      <td>0.018249</td>\n",
       "      <td>0.017092</td>\n",
       "      <td>0.016848</td>\n",
       "      <td>...</td>\n",
       "      <td>0.0</td>\n",
       "      <td>0.0</td>\n",
       "      <td>0.0</td>\n",
       "      <td>0.0</td>\n",
       "      <td>0.0</td>\n",
       "      <td>0.0</td>\n",
       "      <td>0.0</td>\n",
       "      <td>0.0</td>\n",
       "      <td>0.0</td>\n",
       "      <td>0.0</td>\n",
       "    </tr>\n",
       "    <tr>\n",
       "      <th>ENSG00000172270</th>\n",
       "      <td>0.024495</td>\n",
       "      <td>0.017750</td>\n",
       "      <td>0.131449</td>\n",
       "      <td>0.136110</td>\n",
       "      <td>1.000000</td>\n",
       "      <td>0.306899</td>\n",
       "      <td>0.026972</td>\n",
       "      <td>0.038783</td>\n",
       "      <td>0.065437</td>\n",
       "      <td>0.052696</td>\n",
       "      <td>...</td>\n",
       "      <td>0.0</td>\n",
       "      <td>0.0</td>\n",
       "      <td>0.0</td>\n",
       "      <td>0.0</td>\n",
       "      <td>0.0</td>\n",
       "      <td>0.0</td>\n",
       "      <td>0.0</td>\n",
       "      <td>0.0</td>\n",
       "      <td>0.0</td>\n",
       "      <td>0.0</td>\n",
       "    </tr>\n",
       "  </tbody>\n",
       "</table>\n",
       "<p>5 rows × 540 columns</p>\n",
       "</div>"
      ],
      "text/plain": [
       "                 ENSG00000129946  ENSG00000099866  ENSG00000099804  \\\n",
       "ENSG00000129946         1.000000         0.247583         0.102933   \n",
       "ENSG00000099866         0.247583         1.000000         0.021394   \n",
       "ENSG00000099804         0.102933         0.021394         1.000000   \n",
       "ENSG00000197540         0.026158         0.014220         0.269368   \n",
       "ENSG00000172270         0.024495         0.017750         0.131449   \n",
       "\n",
       "                 ENSG00000197540  ENSG00000172270  ENSG00000099822  \\\n",
       "ENSG00000129946         0.026158         0.024495         0.022839   \n",
       "ENSG00000099866         0.014220         0.017750         0.016177   \n",
       "ENSG00000099804         0.269368         0.131449         0.068362   \n",
       "ENSG00000197540         1.000000         0.136110         0.099743   \n",
       "ENSG00000172270         0.136110         1.000000         0.306899   \n",
       "\n",
       "                 ENSG00000099821  ENSG00000011304  ENSG00000172232  \\\n",
       "ENSG00000129946         0.015235         0.016966         0.010012   \n",
       "ENSG00000099866         0.008639         0.007615         0.010246   \n",
       "ENSG00000099804         0.023100         0.015097         0.015143   \n",
       "ENSG00000197540         0.032082         0.018249         0.017092   \n",
       "ENSG00000172270         0.026972         0.038783         0.065437   \n",
       "\n",
       "                 ENSG00000196415  ...  ENSG00000171606  ENSG00000198131  \\\n",
       "ENSG00000129946         0.011145  ...              0.0              0.0   \n",
       "ENSG00000099866         0.012954  ...              0.0              0.0   \n",
       "ENSG00000099804         0.018630  ...              0.0              0.0   \n",
       "ENSG00000197540         0.016848  ...              0.0              0.0   \n",
       "ENSG00000172270         0.052696  ...              0.0              0.0   \n",
       "\n",
       "                 ENSG00000083845  ENSG00000171574  ENSG00000083812  \\\n",
       "ENSG00000129946              0.0              0.0              0.0   \n",
       "ENSG00000099866              0.0              0.0              0.0   \n",
       "ENSG00000099804              0.0              0.0              0.0   \n",
       "ENSG00000197540              0.0              0.0              0.0   \n",
       "ENSG00000172270              0.0              0.0              0.0   \n",
       "\n",
       "                 ENSG00000083838  ENSG00000083807  ENSG00000130726  \\\n",
       "ENSG00000129946              0.0              0.0              0.0   \n",
       "ENSG00000099866              0.0              0.0              0.0   \n",
       "ENSG00000099804              0.0              0.0              0.0   \n",
       "ENSG00000197540              0.0              0.0              0.0   \n",
       "ENSG00000172270              0.0              0.0              0.0   \n",
       "\n",
       "                 ENSG00000130724  ENSG00000130725  \n",
       "ENSG00000129946              0.0              0.0  \n",
       "ENSG00000099866              0.0              0.0  \n",
       "ENSG00000099804              0.0              0.0  \n",
       "ENSG00000197540              0.0              0.0  \n",
       "ENSG00000172270              0.0              0.0  \n",
       "\n",
       "[5 rows x 540 columns]"
      ]
     },
     "execution_count": 34,
     "metadata": {},
     "output_type": "execute_result"
    }
   ],
   "source": [
    "gene_corrs_df.head()"
   ]
  },
  {
   "cell_type": "code",
   "execution_count": 35,
   "id": "286686af-1b7b-4440-8453-6bdcbd8de19c",
   "metadata": {
    "execution": {
     "iopub.execute_input": "2022-07-11T08:20:07.209876Z",
     "iopub.status.busy": "2022-07-11T08:20:07.209307Z",
     "iopub.status.idle": "2022-07-11T08:20:07.230592Z",
     "shell.execute_reply": "2022-07-11T08:20:07.230012Z"
    },
    "papermill": {
     "duration": 5.31788,
     "end_time": "2022-07-11T08:20:07.232150",
     "exception": false,
     "start_time": "2022-07-11T08:20:01.914270",
     "status": "completed"
    },
    "tags": []
   },
   "outputs": [],
   "source": [
    "assert not gene_corrs_df.isna().any().any()"
   ]
  },
  {
   "cell_type": "code",
   "execution_count": 36,
   "id": "00583efc-7068-4270-ad1e-4a418e91db96",
   "metadata": {
    "execution": {
     "iopub.execute_input": "2022-07-11T08:20:17.575157Z",
     "iopub.status.busy": "2022-07-11T08:20:17.574586Z",
     "iopub.status.idle": "2022-07-11T08:20:17.602755Z",
     "shell.execute_reply": "2022-07-11T08:20:17.602181Z"
    },
    "papermill": {
     "duration": 5.308846,
     "end_time": "2022-07-11T08:20:17.604165",
     "exception": false,
     "start_time": "2022-07-11T08:20:12.295319",
     "status": "completed"
    },
    "tags": []
   },
   "outputs": [
    {
     "data": {
      "text/plain": [
       "0.0"
      ]
     },
     "metadata": {},
     "output_type": "display_data"
    }
   ],
   "source": [
    "_min_val = gene_corrs_df.min().min()\n",
    "display(_min_val)\n",
    "assert _min_val >= 0.0"
   ]
  },
  {
   "cell_type": "code",
   "execution_count": 37,
   "id": "d04fb2cf-1050-475b-b855-f5f7cc04092b",
   "metadata": {
    "execution": {
     "iopub.execute_input": "2022-07-11T08:20:27.972519Z",
     "iopub.status.busy": "2022-07-11T08:20:27.971171Z",
     "iopub.status.idle": "2022-07-11T08:20:27.998644Z",
     "shell.execute_reply": "2022-07-11T08:20:27.997967Z"
    },
    "papermill": {
     "duration": 5.327222,
     "end_time": "2022-07-11T08:20:28.000131",
     "exception": false,
     "start_time": "2022-07-11T08:20:22.672909",
     "status": "completed"
    },
    "tags": []
   },
   "outputs": [
    {
     "data": {
      "text/plain": [
       "1.0"
      ]
     },
     "metadata": {},
     "output_type": "display_data"
    }
   ],
   "source": [
    "_max_val = gene_corrs_df.max().max()  # this captures the diagonal\n",
    "display(_max_val)\n",
    "assert _max_val <= 1.0"
   ]
  },
  {
   "cell_type": "code",
   "execution_count": 38,
   "id": "96d02c44-1fba-47be-8a93-8f2608420b9c",
   "metadata": {
    "execution": {
     "iopub.execute_input": "2022-07-11T08:20:38.309845Z",
     "iopub.status.busy": "2022-07-11T08:20:38.309276Z",
     "iopub.status.idle": "2022-07-11T08:20:38.329163Z",
     "shell.execute_reply": "2022-07-11T08:20:38.328584Z"
    },
    "papermill": {
     "duration": 5.28942,
     "end_time": "2022-07-11T08:20:38.330701",
     "exception": false,
     "start_time": "2022-07-11T08:20:33.041281",
     "status": "completed"
    },
    "tags": []
   },
   "outputs": [],
   "source": [
    "# check upper triangular values\n",
    "assert len(gene_corrs) == int(genes_chr.shape[0] * (genes_chr.shape[0] - 1) / 2)"
   ]
  },
  {
   "cell_type": "code",
   "execution_count": 39,
   "id": "aaa51627-f4e3-4744-a41f-7d25adcc0a78",
   "metadata": {
    "execution": {
     "iopub.execute_input": "2022-07-11T08:20:48.661385Z",
     "iopub.status.busy": "2022-07-11T08:20:48.661209Z",
     "iopub.status.idle": "2022-07-11T08:20:48.696769Z",
     "shell.execute_reply": "2022-07-11T08:20:48.696043Z"
    },
    "papermill": {
     "duration": 5.279566,
     "end_time": "2022-07-11T08:20:48.698310",
     "exception": false,
     "start_time": "2022-07-11T08:20:43.418744",
     "status": "completed"
    },
    "tags": []
   },
   "outputs": [],
   "source": [
    "gene_corrs = pd.Series(gene_corrs)"
   ]
  },
  {
   "cell_type": "code",
   "execution_count": 40,
   "id": "fe283586-c348-40e0-8841-f6d97bfb021c",
   "metadata": {
    "execution": {
     "iopub.execute_input": "2022-07-11T08:20:59.014142Z",
     "iopub.status.busy": "2022-07-11T08:20:59.013960Z",
     "iopub.status.idle": "2022-07-11T08:20:59.038247Z",
     "shell.execute_reply": "2022-07-11T08:20:59.037685Z"
    },
    "papermill": {
     "duration": 5.278256,
     "end_time": "2022-07-11T08:20:59.039618",
     "exception": false,
     "start_time": "2022-07-11T08:20:53.761362",
     "status": "completed"
    },
    "tags": []
   },
   "outputs": [
    {
     "data": {
      "text/plain": [
       "count    145530.000000\n",
       "mean          0.003455\n",
       "std           0.025549\n",
       "min           0.000000\n",
       "25%           0.000000\n",
       "50%           0.000000\n",
       "75%           0.000000\n",
       "max           0.972378\n",
       "dtype: float64"
      ]
     },
     "execution_count": 40,
     "metadata": {},
     "output_type": "execute_result"
    }
   ],
   "source": [
    "gene_corrs.describe()"
   ]
  },
  {
   "cell_type": "code",
   "execution_count": 41,
   "id": "b3815678-0f93-4b35-897b-a9d047a2aa78",
   "metadata": {
    "execution": {
     "iopub.execute_input": "2022-07-11T08:21:09.370226Z",
     "iopub.status.busy": "2022-07-11T08:21:09.369662Z",
     "iopub.status.idle": "2022-07-11T08:21:09.394674Z",
     "shell.execute_reply": "2022-07-11T08:21:09.394121Z"
    },
    "papermill": {
     "duration": 5.291208,
     "end_time": "2022-07-11T08:21:09.396143",
     "exception": false,
     "start_time": "2022-07-11T08:21:04.104935",
     "status": "completed"
    },
    "tags": []
   },
   "outputs": [
    {
     "data": {
      "text/plain": [
       "0.00    0.000000\n",
       "0.05    0.000000\n",
       "0.10    0.000000\n",
       "0.15    0.000000\n",
       "0.20    0.000000\n",
       "0.25    0.000000\n",
       "0.30    0.000000\n",
       "0.35    0.000000\n",
       "0.40    0.000000\n",
       "0.45    0.000000\n",
       "0.50    0.000000\n",
       "0.55    0.000000\n",
       "0.60    0.000000\n",
       "0.65    0.000000\n",
       "0.70    0.000000\n",
       "0.75    0.000000\n",
       "0.80    0.000000\n",
       "0.85    0.004831\n",
       "0.90    0.008097\n",
       "0.95    0.012051\n",
       "dtype: float64"
      ]
     },
     "metadata": {},
     "output_type": "display_data"
    }
   ],
   "source": [
    "gene_corrs_quantiles = gene_corrs.quantile(np.arange(0, 1, 0.05))\n",
    "display(gene_corrs_quantiles)"
   ]
  },
  {
   "cell_type": "markdown",
   "id": "8e60a080-edb2-4e9c-b2ef-22961693200c",
   "metadata": {
    "papermill": {
     "duration": 5.236147,
     "end_time": "2022-07-11T08:21:19.697090",
     "exception": false,
     "start_time": "2022-07-11T08:21:14.460943",
     "status": "completed"
    },
    "tags": []
   },
   "source": [
    "## Plot: distribution"
   ]
  },
  {
   "cell_type": "code",
   "execution_count": 42,
   "id": "8301126b-a7d4-4744-9c7d-f0f86eb6f54c",
   "metadata": {
    "execution": {
     "iopub.execute_input": "2022-07-11T08:21:30.033311Z",
     "iopub.status.busy": "2022-07-11T08:21:30.032099Z",
     "iopub.status.idle": "2022-07-11T08:21:30.665989Z",
     "shell.execute_reply": "2022-07-11T08:21:30.665460Z"
    },
    "papermill": {
     "duration": 5.885266,
     "end_time": "2022-07-11T08:21:30.667334",
     "exception": false,
     "start_time": "2022-07-11T08:21:24.782068",
     "status": "completed"
    },
    "tags": []
   },
   "outputs": [
    {
     "data": {
      "image/png": "[encoded data removed]",
      "text/plain": [
       "<Figure size 504x504 with 1 Axes>"
      ]
     },
     "metadata": {
      "needs_background": "light"
     },
     "output_type": "display_data"
    }
   ],
   "source": [
    "with sns.plotting_context(\"paper\", font_scale=1.5):\n",
    "    g = sns.displot(gene_corrs, kde=True, height=7)\n",
    "    g.ax.set_title(\n",
    "        f\"Distribution of gene correlation values in chromosome {chromosome}\"\n",
    "    )"
   ]
  },
  {
   "cell_type": "markdown",
   "id": "cbd52bca-d878-4a2f-b684-5c83aa3038d4",
   "metadata": {
    "papermill": {
     "duration": 5.232074,
     "end_time": "2022-07-11T08:21:40.910064",
     "exception": false,
     "start_time": "2022-07-11T08:21:35.677990",
     "status": "completed"
    },
    "tags": []
   },
   "source": [
    "## Plot: heatmap"
   ]
  },
  {
   "cell_type": "code",
   "execution_count": 43,
   "id": "d03fe63a-c7b2-4fb9-a53c-db362ce843c9",
   "metadata": {
    "execution": {
     "iopub.execute_input": "2022-07-11T08:21:51.278370Z",
     "iopub.status.busy": "2022-07-11T08:21:51.277795Z",
     "iopub.status.idle": "2022-07-11T08:21:51.322976Z",
     "shell.execute_reply": "2022-07-11T08:21:51.322264Z"
    },
    "papermill": {
     "duration": 5.299233,
     "end_time": "2022-07-11T08:21:51.324728",
     "exception": false,
     "start_time": "2022-07-11T08:21:46.025495",
     "status": "completed"
    },
    "tags": []
   },
   "outputs": [
    {
     "data": {
      "text/plain": [
       "'-0.05 / 0.05'"
      ]
     },
     "metadata": {},
     "output_type": "display_data"
    }
   ],
   "source": [
    "vmin_val = min(-0.05, gene_corrs_quantiles[0.10])\n",
    "vmax_val = max(0.05, gene_corrs_quantiles[0.90])\n",
    "display(f\"{vmin_val} / {vmax_val}\")"
   ]
  },
  {
   "cell_type": "code",
   "execution_count": 44,
   "id": "dc41b70b-5bcc-4d9e-9f33-a22c4a94dab5",
   "metadata": {
    "execution": {
     "iopub.execute_input": "2022-07-11T08:22:01.636217Z",
     "iopub.status.busy": "2022-07-11T08:22:01.635653Z",
     "iopub.status.idle": "2022-07-11T08:22:01.964650Z",
     "shell.execute_reply": "2022-07-11T08:22:01.964128Z"
    },
    "papermill": {
     "duration": 5.60488,
     "end_time": "2022-07-11T08:22:01.966371",
     "exception": false,
     "start_time": "2022-07-11T08:21:56.361491",
     "status": "completed"
    },
    "tags": []
   },
   "outputs": [
    {
     "data": {
      "text/plain": [
       "Text(0.5, 1.0, 'Gene correlations in chromosome 19')"
      ]
     },
     "execution_count": 44,
     "metadata": {},
     "output_type": "execute_result"
    },
    {
     "data": {
      "image/png": "[encoded data removed]",
      "text/plain": [
       "<Figure size 720x720 with 2 Axes>"
      ]
     },
     "metadata": {
      "needs_background": "light"
     },
     "output_type": "display_data"
    }
   ],
   "source": [
    "f, ax = plt.subplots(figsize=(10, 10))\n",
    "sns.heatmap(\n",
    "    gene_corrs_df,\n",
    "    xticklabels=False,\n",
    "    yticklabels=False,\n",
    "    square=True,\n",
    "    vmin=vmin_val,\n",
    "    vmax=vmax_val,\n",
    "    cmap=\"YlGnBu\",\n",
    "    ax=ax,\n",
    ")\n",
    "ax.set_title(f\"Gene correlations in chromosome {chromosome}\")"
   ]
  },
  {
   "cell_type": "code",
   "execution_count": null,
   "id": "b25e3ead",
   "metadata": {
    "papermill": {
     "duration": 5.309951,
     "end_time": "2022-07-11T08:22:12.311942",
     "exception": false,
     "start_time": "2022-07-11T08:22:07.001991",
     "status": "completed"
    },
    "tags": []
   },
   "outputs": [],
   "source": []
  }
 ],
 "metadata": {
  "jupytext": {
   "cell_metadata_filter": "all,-execution,-papermill,-trusted",
   "formats": "ipynb,py//py:percent"
  },
  "kernelspec": {
   "display_name": "Python 3 (ipykernel)",
   "language": "python",
   "name": "python3"
  },
  "language_info": {
   "codemirror_mode": {
    "name": "ipython",
    "version": 3
   },
   "file_extension": ".py",
   "mimetype": "text/x-python",
   "name": "python",
   "nbconvert_exporter": "python",
   "pygments_lexer": "ipython3",
   "version": "3.8.13"
  },
  "papermill": {
   "default_parameters": {},
   "duration": 2875.210128,
   "end_time": "2022-07-11T08:22:20.994943",
   "environment_variables": {},
   "exception": null,
   "input_path": "nbs/15_gsa_gls/10-gene_expr_correlations.ipynb",
   "output_path": "nbs/15_gsa_gls/gene_corrs/1000g/mashr/10-gene_expr_correlations-chr19.run.ipynb",
   "parameters": {
    "EQTL_MODEL": "MASHR",
    "REFERENCE_PANEL": "1000G",
    "chromosome": 19
   },
   "start_time": "2022-07-11T07:34:25.784815",
   "version": "2.2.2"
  }
 },
 "nbformat": 4,
 "nbformat_minor": 5
}
