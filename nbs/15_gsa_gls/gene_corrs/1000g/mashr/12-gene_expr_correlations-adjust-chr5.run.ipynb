{
 "cells": [
  {
   "cell_type": "markdown",
   "id": "28fc82fa-c3f6-4184-8054-cc91c7c6e2e7",
   "metadata": {
    "papermill": {
     "duration": 0.003735,
     "end_time": "2022-07-12T13:07:08.171594",
     "exception": false,
     "start_time": "2022-07-12T13:07:08.167859",
     "status": "completed"
    },
    "tags": []
   },
   "source": [
    "# Description"
   ]
  },
  {
   "cell_type": "markdown",
   "id": "36839b17-916e-4aec-8fee-96faf1097e78",
   "metadata": {
    "papermill": {
     "duration": 0.002952,
     "end_time": "2022-07-12T13:07:08.177664",
     "exception": false,
     "start_time": "2022-07-12T13:07:08.174712",
     "status": "completed"
    },
    "tags": []
   },
   "source": [
    "**TODO**"
   ]
  },
  {
   "cell_type": "markdown",
   "id": "249e8aa3-ef1a-4bba-a6dd-58120ad80794",
   "metadata": {
    "papermill": {
     "duration": 0.002944,
     "end_time": "2022-07-12T13:07:08.183795",
     "exception": false,
     "start_time": "2022-07-12T13:07:08.180851",
     "status": "completed"
    },
    "tags": []
   },
   "source": [
    "# Modules"
   ]
  },
  {
   "cell_type": "code",
   "execution_count": 1,
   "id": "f9b5022b-7c5e-4d37-9c7a-fdb91777c7f9",
   "metadata": {
    "execution": {
     "iopub.execute_input": "2022-07-12T13:07:08.213405Z",
     "iopub.status.busy": "2022-07-12T13:07:08.211959Z",
     "iopub.status.idle": "2022-07-12T13:07:11.453494Z",
     "shell.execute_reply": "2022-07-12T13:07:11.452136Z"
    },
    "papermill": {
     "duration": 3.268622,
     "end_time": "2022-07-12T13:07:11.455445",
     "exception": false,
     "start_time": "2022-07-12T13:07:08.186823",
     "status": "completed"
    },
    "tags": []
   },
   "outputs": [],
   "source": [
    "library(reticulate)\n",
    "pd <- import(\"pandas\")"
   ]
  },
  {
   "cell_type": "markdown",
   "id": "69e80173-3a39-4b6a-b723-602687cb255b",
   "metadata": {
    "papermill": {
     "duration": 0.003726,
     "end_time": "2022-07-12T13:07:11.463010",
     "exception": false,
     "start_time": "2022-07-12T13:07:11.459284",
     "status": "completed"
    },
    "tags": []
   },
   "source": [
    "# Settings"
   ]
  },
  {
   "cell_type": "code",
   "execution_count": 2,
   "id": "22d12bb4-1699-4a6b-b1b9-d3fdd3d547d7",
   "metadata": {
    "execution": {
     "iopub.execute_input": "2022-07-12T13:07:11.495142Z",
     "iopub.status.busy": "2022-07-12T13:07:11.471430Z",
     "iopub.status.idle": "2022-07-12T13:07:11.507722Z",
     "shell.execute_reply": "2022-07-12T13:07:11.506436Z"
    },
    "papermill": {
     "duration": 0.04319,
     "end_time": "2022-07-12T13:07:11.509954",
     "exception": false,
     "start_time": "2022-07-12T13:07:11.466764",
     "status": "completed"
    },
    "tags": [
     "parameters"
    ]
   },
   "outputs": [],
   "source": [
    "# reference panel\n",
    "REFERENCE_PANEL <- \"GTEX_V8\"\n",
    "# REFERENCE_PANEL = \"1000G\"\n",
    "\n",
    "# prediction models\n",
    "## mashr\n",
    "EQTL_MODEL <- \"MASHR\"\n",
    "\n",
    "chromosome <- NULL"
   ]
  },
  {
   "cell_type": "code",
   "execution_count": 3,
   "id": "a8dc40d6",
   "metadata": {
    "execution": {
     "iopub.execute_input": "2022-07-12T13:07:11.519824Z",
     "iopub.status.busy": "2022-07-12T13:07:11.518677Z",
     "iopub.status.idle": "2022-07-12T13:07:11.537027Z",
     "shell.execute_reply": "2022-07-12T13:07:11.535791Z"
    },
    "papermill": {
     "duration": 0.025283,
     "end_time": "2022-07-12T13:07:11.538948",
     "exception": false,
     "start_time": "2022-07-12T13:07:11.513665",
     "status": "completed"
    },
    "tags": [
     "injected-parameters"
    ]
   },
   "outputs": [],
   "source": [
    "# Parameters\n",
    "chromosome = 5\n",
    "REFERENCE_PANEL = \"1000G\"\n",
    "EQTL_MODEL = \"MASHR\"\n"
   ]
  },
  {
   "cell_type": "code",
   "execution_count": 4,
   "id": "8fe24bef",
   "metadata": {
    "execution": {
     "iopub.execute_input": "2022-07-12T13:07:11.548336Z",
     "iopub.status.busy": "2022-07-12T13:07:11.547287Z",
     "iopub.status.idle": "2022-07-12T13:07:11.561783Z",
     "shell.execute_reply": "2022-07-12T13:07:11.560503Z"
    },
    "papermill": {
     "duration": 0.021978,
     "end_time": "2022-07-12T13:07:11.564611",
     "exception": false,
     "start_time": "2022-07-12T13:07:11.542633",
     "status": "completed"
    },
    "tags": []
   },
   "outputs": [
    {
     "data": {
      "text/html": [
       "'Using reference panel: 1000G'"
      ],
      "text/latex": [
       "'Using reference panel: 1000G'"
      ],
      "text/markdown": [
       "'Using reference panel: 1000G'"
      ],
      "text/plain": [
       "[1] \"Using reference panel: 1000G\""
      ]
     },
     "metadata": {},
     "output_type": "display_data"
    }
   ],
   "source": [
    "paste0(\"Using reference panel: \", REFERENCE_PANEL)"
   ]
  },
  {
   "cell_type": "code",
   "execution_count": 5,
   "id": "d62c28f8-186c-478b-948c-58e14f00df4b",
   "metadata": {
    "execution": {
     "iopub.execute_input": "2022-07-12T13:07:11.574595Z",
     "iopub.status.busy": "2022-07-12T13:07:11.573410Z",
     "iopub.status.idle": "2022-07-12T13:07:11.585524Z",
     "shell.execute_reply": "2022-07-12T13:07:11.584206Z"
    },
    "papermill": {
     "duration": 0.019749,
     "end_time": "2022-07-12T13:07:11.588431",
     "exception": false,
     "start_time": "2022-07-12T13:07:11.568682",
     "status": "completed"
    },
    "tags": []
   },
   "outputs": [
    {
     "data": {
      "text/html": [
       "'Using eQTL model: MASHR'"
      ],
      "text/latex": [
       "'Using eQTL model: MASHR'"
      ],
      "text/markdown": [
       "'Using eQTL model: MASHR'"
      ],
      "text/plain": [
       "[1] \"Using eQTL model: MASHR\""
      ]
     },
     "metadata": {},
     "output_type": "display_data"
    }
   ],
   "source": [
    "paste0(\"Using eQTL model: \", EQTL_MODEL)"
   ]
  },
  {
   "cell_type": "code",
   "execution_count": 6,
   "id": "5243676f-c889-4405-9a4d-262f0f044614",
   "metadata": {
    "execution": {
     "iopub.execute_input": "2022-07-12T13:07:11.598624Z",
     "iopub.status.busy": "2022-07-12T13:07:11.597543Z",
     "iopub.status.idle": "2022-07-12T13:07:11.607659Z",
     "shell.execute_reply": "2022-07-12T13:07:11.606375Z"
    },
    "papermill": {
     "duration": 0.017005,
     "end_time": "2022-07-12T13:07:11.609543",
     "exception": false,
     "start_time": "2022-07-12T13:07:11.592538",
     "status": "completed"
    },
    "tags": []
   },
   "outputs": [],
   "source": [
    "# chromosome must be provided as parameter\n",
    "stopifnot(!is.null(chromosome))"
   ]
  },
  {
   "cell_type": "markdown",
   "id": "c05e4d34-e115-48cd-8a2e-225109eb0042",
   "metadata": {
    "papermill": {
     "duration": 0.004087,
     "end_time": "2022-07-12T13:07:11.617779",
     "exception": false,
     "start_time": "2022-07-12T13:07:11.613692",
     "status": "completed"
    },
    "tags": []
   },
   "source": [
    "# Paths"
   ]
  },
  {
   "cell_type": "code",
   "execution_count": 7,
   "id": "eb6aa8aa-b452-4a2f-a780-93dd80ad4285",
   "metadata": {
    "execution": {
     "iopub.execute_input": "2022-07-12T13:07:11.627917Z",
     "iopub.status.busy": "2022-07-12T13:07:11.626814Z",
     "iopub.status.idle": "2022-07-12T13:07:11.640572Z",
     "shell.execute_reply": "2022-07-12T13:07:11.639169Z"
    },
    "papermill": {
     "duration": 0.020565,
     "end_time": "2022-07-12T13:07:11.642348",
     "exception": false,
     "start_time": "2022-07-12T13:07:11.621783",
     "status": "completed"
    },
    "tags": []
   },
   "outputs": [
    {
     "data": {
      "text/html": [
       "'/opt/data/data/phenomexcan/ld_blocks/gene_corrs'"
      ],
      "text/latex": [
       "'/opt/data/data/phenomexcan/ld\\_blocks/gene\\_corrs'"
      ],
      "text/markdown": [
       "'/opt/data/data/phenomexcan/ld_blocks/gene_corrs'"
      ],
      "text/plain": [
       "[1] \"/opt/data/data/phenomexcan/ld_blocks/gene_corrs\""
      ]
     },
     "metadata": {},
     "output_type": "display_data"
    }
   ],
   "source": [
    "GENE_CORRS_DIR <- Sys.getenv(\"PHENOPLIER_PHENOMEXCAN_LD_BLOCKS_GENE_CORRS_DIR\")\n",
    "IRdisplay::display(GENE_CORRS_DIR)"
   ]
  },
  {
   "cell_type": "code",
   "execution_count": 8,
   "id": "eb24f15f-f282-4476-8943-8413c4483f12",
   "metadata": {
    "execution": {
     "iopub.execute_input": "2022-07-12T13:07:11.652756Z",
     "iopub.status.busy": "2022-07-12T13:07:11.651660Z",
     "iopub.status.idle": "2022-07-12T13:07:11.667598Z",
     "shell.execute_reply": "2022-07-12T13:07:11.666183Z"
    },
    "papermill": {
     "duration": 0.022918,
     "end_time": "2022-07-12T13:07:11.669482",
     "exception": false,
     "start_time": "2022-07-12T13:07:11.646564",
     "status": "completed"
    },
    "tags": []
   },
   "outputs": [
    {
     "data": {
      "text/html": [
       "'/opt/data/data/phenomexcan/ld_blocks/gene_corrs/1000g/mashr/by_chr'"
      ],
      "text/latex": [
       "'/opt/data/data/phenomexcan/ld\\_blocks/gene\\_corrs/1000g/mashr/by\\_chr'"
      ],
      "text/markdown": [
       "'/opt/data/data/phenomexcan/ld_blocks/gene_corrs/1000g/mashr/by_chr'"
      ],
      "text/plain": [
       "[1] \"/opt/data/data/phenomexcan/ld_blocks/gene_corrs/1000g/mashr/by_chr\""
      ]
     },
     "metadata": {},
     "output_type": "display_data"
    }
   ],
   "source": [
    "INPUT_DIR <- file.path(GENE_CORRS_DIR, tolower(REFERENCE_PANEL), tolower(EQTL_MODEL), \"by_chr\")\n",
    "IRdisplay::display(INPUT_DIR)"
   ]
  },
  {
   "cell_type": "code",
   "execution_count": 9,
   "id": "43c1daba-0da9-4822-8d1e-968e9767e251",
   "metadata": {
    "execution": {
     "iopub.execute_input": "2022-07-12T13:07:11.680468Z",
     "iopub.status.busy": "2022-07-12T13:07:11.679300Z",
     "iopub.status.idle": "2022-07-12T13:07:11.694336Z",
     "shell.execute_reply": "2022-07-12T13:07:11.693036Z"
    },
    "papermill": {
     "duration": 0.023014,
     "end_time": "2022-07-12T13:07:11.697030",
     "exception": false,
     "start_time": "2022-07-12T13:07:11.674016",
     "status": "completed"
    },
    "tags": []
   },
   "outputs": [
    {
     "data": {
      "text/html": [
       "'/opt/data/data/phenomexcan/ld_blocks/gene_corrs/1000g/mashr/by_chr/gene_corrs-chr5.pkl'"
      ],
      "text/latex": [
       "'/opt/data/data/phenomexcan/ld\\_blocks/gene\\_corrs/1000g/mashr/by\\_chr/gene\\_corrs-chr5.pkl'"
      ],
      "text/markdown": [
       "'/opt/data/data/phenomexcan/ld_blocks/gene_corrs/1000g/mashr/by_chr/gene_corrs-chr5.pkl'"
      ],
      "text/plain": [
       "[1] \"/opt/data/data/phenomexcan/ld_blocks/gene_corrs/1000g/mashr/by_chr/gene_corrs-chr5.pkl\""
      ]
     },
     "metadata": {},
     "output_type": "display_data"
    }
   ],
   "source": [
    "INPUT_FILE <- file.path(INPUT_DIR, paste0(\"gene_corrs-chr\", chromosome, \".pkl\"))\n",
    "IRdisplay::display(INPUT_FILE)\n",
    "stopifnot(file.exists(INPUT_FILE))"
   ]
  },
  {
   "cell_type": "code",
   "execution_count": 10,
   "id": "72386fbf-982b-420a-9057-ea9a97a5e571",
   "metadata": {
    "execution": {
     "iopub.execute_input": "2022-07-12T13:07:11.708385Z",
     "iopub.status.busy": "2022-07-12T13:07:11.707277Z",
     "iopub.status.idle": "2022-07-12T13:07:11.722547Z",
     "shell.execute_reply": "2022-07-12T13:07:11.721196Z"
    },
    "papermill": {
     "duration": 0.022665,
     "end_time": "2022-07-12T13:07:11.724365",
     "exception": false,
     "start_time": "2022-07-12T13:07:11.701700",
     "status": "completed"
    },
    "tags": []
   },
   "outputs": [
    {
     "data": {
      "text/html": [
       "'/opt/data/data/phenomexcan/ld_blocks/gene_corrs/1000g/mashr/by_chr/corrected_positive_definite'"
      ],
      "text/latex": [
       "'/opt/data/data/phenomexcan/ld\\_blocks/gene\\_corrs/1000g/mashr/by\\_chr/corrected\\_positive\\_definite'"
      ],
      "text/markdown": [
       "'/opt/data/data/phenomexcan/ld_blocks/gene_corrs/1000g/mashr/by_chr/corrected_positive_definite'"
      ],
      "text/plain": [
       "[1] \"/opt/data/data/phenomexcan/ld_blocks/gene_corrs/1000g/mashr/by_chr/corrected_positive_definite\""
      ]
     },
     "metadata": {},
     "output_type": "display_data"
    }
   ],
   "source": [
    "OUTPUT_DIR <- file.path(INPUT_DIR, \"corrected_positive_definite\")\n",
    "IRdisplay::display(OUTPUT_DIR)\n",
    "dir.create(OUTPUT_DIR, recursive = TRUE, showWarnings = FALSE)"
   ]
  },
  {
   "cell_type": "code",
   "execution_count": 11,
   "id": "f9f19d1d-ce4c-4099-a26e-250fec751de7",
   "metadata": {
    "execution": {
     "iopub.execute_input": "2022-07-12T13:07:11.736590Z",
     "iopub.status.busy": "2022-07-12T13:07:11.735536Z",
     "iopub.status.idle": "2022-07-12T13:07:11.750277Z",
     "shell.execute_reply": "2022-07-12T13:07:11.748974Z"
    },
    "papermill": {
     "duration": 0.022452,
     "end_time": "2022-07-12T13:07:11.752440",
     "exception": false,
     "start_time": "2022-07-12T13:07:11.729988",
     "status": "completed"
    },
    "tags": []
   },
   "outputs": [
    {
     "data": {
      "text/html": [
       "'/opt/data/data/phenomexcan/ld_blocks/gene_corrs/1000g/mashr/by_chr/corrected_positive_definite/gene_corrs-chr5.pkl'"
      ],
      "text/latex": [
       "'/opt/data/data/phenomexcan/ld\\_blocks/gene\\_corrs/1000g/mashr/by\\_chr/corrected\\_positive\\_definite/gene\\_corrs-chr5.pkl'"
      ],
      "text/markdown": [
       "'/opt/data/data/phenomexcan/ld_blocks/gene_corrs/1000g/mashr/by_chr/corrected_positive_definite/gene_corrs-chr5.pkl'"
      ],
      "text/plain": [
       "[1] \"/opt/data/data/phenomexcan/ld_blocks/gene_corrs/1000g/mashr/by_chr/corrected_positive_definite/gene_corrs-chr5.pkl\""
      ]
     },
     "metadata": {},
     "output_type": "display_data"
    }
   ],
   "source": [
    "OUTPUT_FILE <- file.path(OUTPUT_DIR, paste0(\"gene_corrs-chr\", chromosome, \".pkl\"))\n",
    "IRdisplay::display(OUTPUT_FILE)\n",
    "if (file.exists(OUTPUT_FILE)) {\n",
    "  IRdisplay::display(\"Output file exists, it will be overwritten\")\n",
    "}"
   ]
  },
  {
   "cell_type": "markdown",
   "id": "24973e62-e888-4b56-843f-489d8d0762b5",
   "metadata": {
    "papermill": {
     "duration": 0.004738,
     "end_time": "2022-07-12T13:07:11.761992",
     "exception": false,
     "start_time": "2022-07-12T13:07:11.757254",
     "status": "completed"
    },
    "tags": []
   },
   "source": [
    "# Functions"
   ]
  },
  {
   "cell_type": "code",
   "execution_count": 12,
   "id": "f828f081-7358-4cc8-8a89-1ee293bcc1a7",
   "metadata": {
    "execution": {
     "iopub.execute_input": "2022-07-12T13:07:11.776033Z",
     "iopub.status.busy": "2022-07-12T13:07:11.771994Z",
     "iopub.status.idle": "2022-07-12T13:07:11.784859Z",
     "shell.execute_reply": "2022-07-12T13:07:11.783654Z"
    },
    "papermill": {
     "duration": 0.020008,
     "end_time": "2022-07-12T13:07:11.786612",
     "exception": false,
     "start_time": "2022-07-12T13:07:11.766604",
     "status": "completed"
    },
    "tags": []
   },
   "outputs": [],
   "source": [
    "# taken from https://www.r-bloggers.com/2013/08/correcting-a-pseudo-correlation-matrix-to-be-positive-semidefinite/\n",
    "# TODO: add documentation\n",
    "CorrectCM <- function(CM, p = 0) {\n",
    "  n <- dim(var(CM))[1L]\n",
    "  E <- eigen(CM)\n",
    "  CM1 <- E$vectors %*% tcrossprod(diag(pmax(E$values, p), n), E$vectors)\n",
    "  Balance <- diag(1 / sqrt(diag(CM1)))\n",
    "  CM2 <- Balance %*% CM1 %*% Balance\n",
    "  return(CM2)\n",
    "}"
   ]
  },
  {
   "cell_type": "code",
   "execution_count": 13,
   "id": "7ab9bebf-50a1-4e6f-b16a-e23cae93d02a",
   "metadata": {
    "execution": {
     "iopub.execute_input": "2022-07-12T13:07:11.797544Z",
     "iopub.status.busy": "2022-07-12T13:07:11.796493Z",
     "iopub.status.idle": "2022-07-12T13:07:11.806000Z",
     "shell.execute_reply": "2022-07-12T13:07:11.804673Z"
    },
    "papermill": {
     "duration": 0.016871,
     "end_time": "2022-07-12T13:07:11.807953",
     "exception": false,
     "start_time": "2022-07-12T13:07:11.791082",
     "status": "completed"
    },
    "tags": []
   },
   "outputs": [],
   "source": [
    "is_positive_definite <- function(data) {\n",
    "  # eigenvalues <- eigen(data)$values\n",
    "  # nonpositive_eigenvalues <- eigenvalues[eigenvalues <= 0]\n",
    "\n",
    "  cholStatus <- try(u <- chol(data), silent = FALSE)\n",
    "  cholError <- ifelse(class(cholStatus) == \"try-error\", TRUE, FALSE)\n",
    "\n",
    "  if (cholError) {\n",
    "    return(FALSE)\n",
    "  } else {\n",
    "    return(TRUE)\n",
    "  }\n",
    "}"
   ]
  },
  {
   "cell_type": "markdown",
   "id": "7403fd78-00b2-4941-9c07-3c3af1ddc636",
   "metadata": {
    "papermill": {
     "duration": 0.004587,
     "end_time": "2022-07-12T13:07:11.817854",
     "exception": false,
     "start_time": "2022-07-12T13:07:11.813267",
     "status": "completed"
    },
    "tags": []
   },
   "source": [
    "# Load data"
   ]
  },
  {
   "cell_type": "code",
   "execution_count": 14,
   "id": "3a7744e1-2e5a-450e-9dcf-945ec181347d",
   "metadata": {
    "execution": {
     "iopub.execute_input": "2022-07-12T13:07:11.828903Z",
     "iopub.status.busy": "2022-07-12T13:07:11.827891Z",
     "iopub.status.idle": "2022-07-12T13:07:11.887857Z",
     "shell.execute_reply": "2022-07-12T13:07:11.886531Z"
    },
    "papermill": {
     "duration": 0.067283,
     "end_time": "2022-07-12T13:07:11.889689",
     "exception": false,
     "start_time": "2022-07-12T13:07:11.822406",
     "status": "completed"
    },
    "tags": []
   },
   "outputs": [],
   "source": [
    "gene_corrs <- pd$read_pickle(INPUT_FILE)"
   ]
  },
  {
   "cell_type": "code",
   "execution_count": 15,
   "id": "6fb150b2-4c68-4e9b-9aa5-1890d3f762e3",
   "metadata": {
    "execution": {
     "iopub.execute_input": "2022-07-12T13:07:11.903384Z",
     "iopub.status.busy": "2022-07-12T13:07:11.902345Z",
     "iopub.status.idle": "2022-07-12T13:07:11.913907Z",
     "shell.execute_reply": "2022-07-12T13:07:11.912659Z"
    },
    "papermill": {
     "duration": 0.018844,
     "end_time": "2022-07-12T13:07:11.915461",
     "exception": false,
     "start_time": "2022-07-12T13:07:11.896617",
     "status": "completed"
    },
    "tags": []
   },
   "outputs": [
    {
     "data": {
      "text/html": [
       "<style>\n",
       ".list-inline {list-style: none; margin:0; padding: 0}\n",
       ".list-inline>li {display: inline-block}\n",
       ".list-inline>li:not(:last-child)::after {content: \"\\00b7\"; padding: 0 .5ex}\n",
       "</style>\n",
       "<ol class=list-inline><li>306</li><li>306</li></ol>\n"
      ],
      "text/latex": [
       "\\begin{enumerate*}\n",
       "\\item 306\n",
       "\\item 306\n",
       "\\end{enumerate*}\n"
      ],
      "text/markdown": [
       "1. 306\n",
       "2. 306\n",
       "\n",
       "\n"
      ],
      "text/plain": [
       "[1] 306 306"
      ]
     },
     "metadata": {},
     "output_type": "display_data"
    }
   ],
   "source": [
    "dim(gene_corrs)"
   ]
  },
  {
   "cell_type": "code",
   "execution_count": 16,
   "id": "0d4e53b5-7586-4a68-8ce5-d930d74ba943",
   "metadata": {
    "execution": {
     "iopub.execute_input": "2022-07-12T13:07:11.934428Z",
     "iopub.status.busy": "2022-07-12T13:07:11.933323Z",
     "iopub.status.idle": "2022-07-12T13:07:11.973744Z",
     "shell.execute_reply": "2022-07-12T13:07:11.971616Z"
    },
    "papermill": {
     "duration": 0.052399,
     "end_time": "2022-07-12T13:07:11.975297",
     "exception": false,
     "start_time": "2022-07-12T13:07:11.922898",
     "status": "completed"
    },
    "tags": []
   },
   "outputs": [
    {
     "data": {
      "text/html": [
       "<table class=\"dataframe\">\n",
       "<caption>A data.frame: 6 × 10</caption>\n",
       "<thead>\n",
       "\t<tr><th></th><th scope=col>ENSG00000073578</th><th scope=col>ENSG00000180104</th><th scope=col>ENSG00000066230</th><th scope=col>ENSG00000112877</th><th scope=col>ENSG00000113504</th><th scope=col>ENSG00000174358</th><th scope=col>ENSG00000164362</th><th scope=col>ENSG00000049656</th><th scope=col>ENSG00000153395</th><th scope=col>ENSG00000171421</th></tr>\n",
       "\t<tr><th></th><th scope=col>&lt;dbl&gt;</th><th scope=col>&lt;dbl&gt;</th><th scope=col>&lt;dbl&gt;</th><th scope=col>&lt;dbl&gt;</th><th scope=col>&lt;dbl&gt;</th><th scope=col>&lt;dbl&gt;</th><th scope=col>&lt;dbl&gt;</th><th scope=col>&lt;dbl&gt;</th><th scope=col>&lt;dbl&gt;</th><th scope=col>&lt;dbl&gt;</th></tr>\n",
       "</thead>\n",
       "<tbody>\n",
       "\t<tr><th scope=row>ENSG00000073578</th><td>1.00000000</td><td>0.225269830</td><td>0.164262967</td><td>0.05772567</td><td>0.01717158</td><td>0.013518615</td><td>0.011427424</td><td>0.009907002</td><td>0.017185522</td><td>0.012018625</td></tr>\n",
       "\t<tr><th scope=row>ENSG00000180104</th><td>0.22526983</td><td>1.000000000</td><td>0.393816296</td><td>0.09142029</td><td>0.01558749</td><td>0.007592081</td><td>0.007367703</td><td>0.010794232</td><td>0.008879006</td><td>0.007667495</td></tr>\n",
       "\t<tr><th scope=row>ENSG00000066230</th><td>0.16426297</td><td>0.393816296</td><td>1.000000000</td><td>0.22307692</td><td>0.02029307</td><td>0.008162533</td><td>0.010617491</td><td>0.005243533</td><td>0.012261342</td><td>0.007169285</td></tr>\n",
       "\t<tr><th scope=row>ENSG00000112877</th><td>0.05772567</td><td>0.091420291</td><td>0.223076918</td><td>1.00000000</td><td>0.02321981</td><td>0.013198067</td><td>0.007208327</td><td>0.014335098</td><td>0.014422478</td><td>0.008983460</td></tr>\n",
       "\t<tr><th scope=row>ENSG00000113504</th><td>0.01717158</td><td>0.015587486</td><td>0.020293070</td><td>0.02321981</td><td>1.00000000</td><td>0.042886354</td><td>0.017868285</td><td>0.016642780</td><td>0.130195157</td><td>0.014295265</td></tr>\n",
       "\t<tr><th scope=row>ENSG00000174358</th><td>0.01351861</td><td>0.007592081</td><td>0.008162533</td><td>0.01319807</td><td>0.04288635</td><td>1.000000000</td><td>0.014594251</td><td>0.018236387</td><td>0.025115491</td><td>0.008791503</td></tr>\n",
       "</tbody>\n",
       "</table>\n"
      ],
      "text/latex": [
       "A data.frame: 6 × 10\n",
       "\\begin{tabular}{r|llllllllll}\n",
       "  & ENSG00000073578 & ENSG00000180104 & ENSG00000066230 & ENSG00000112877 & ENSG00000113504 & ENSG00000174358 & ENSG00000164362 & ENSG00000049656 & ENSG00000153395 & ENSG00000171421\\\\\n",
       "  & <dbl> & <dbl> & <dbl> & <dbl> & <dbl> & <dbl> & <dbl> & <dbl> & <dbl> & <dbl>\\\\\n",
       "\\hline\n",
       "\tENSG00000073578 & 1.00000000 & 0.225269830 & 0.164262967 & 0.05772567 & 0.01717158 & 0.013518615 & 0.011427424 & 0.009907002 & 0.017185522 & 0.012018625\\\\\n",
       "\tENSG00000180104 & 0.22526983 & 1.000000000 & 0.393816296 & 0.09142029 & 0.01558749 & 0.007592081 & 0.007367703 & 0.010794232 & 0.008879006 & 0.007667495\\\\\n",
       "\tENSG00000066230 & 0.16426297 & 0.393816296 & 1.000000000 & 0.22307692 & 0.02029307 & 0.008162533 & 0.010617491 & 0.005243533 & 0.012261342 & 0.007169285\\\\\n",
       "\tENSG00000112877 & 0.05772567 & 0.091420291 & 0.223076918 & 1.00000000 & 0.02321981 & 0.013198067 & 0.007208327 & 0.014335098 & 0.014422478 & 0.008983460\\\\\n",
       "\tENSG00000113504 & 0.01717158 & 0.015587486 & 0.020293070 & 0.02321981 & 1.00000000 & 0.042886354 & 0.017868285 & 0.016642780 & 0.130195157 & 0.014295265\\\\\n",
       "\tENSG00000174358 & 0.01351861 & 0.007592081 & 0.008162533 & 0.01319807 & 0.04288635 & 1.000000000 & 0.014594251 & 0.018236387 & 0.025115491 & 0.008791503\\\\\n",
       "\\end{tabular}\n"
      ],
      "text/markdown": [
       "\n",
       "A data.frame: 6 × 10\n",
       "\n",
       "| <!--/--> | ENSG00000073578 &lt;dbl&gt; | ENSG00000180104 &lt;dbl&gt; | ENSG00000066230 &lt;dbl&gt; | ENSG00000112877 &lt;dbl&gt; | ENSG00000113504 &lt;dbl&gt; | ENSG00000174358 &lt;dbl&gt; | ENSG00000164362 &lt;dbl&gt; | ENSG00000049656 &lt;dbl&gt; | ENSG00000153395 &lt;dbl&gt; | ENSG00000171421 &lt;dbl&gt; |\n",
       "|---|---|---|---|---|---|---|---|---|---|---|\n",
       "| ENSG00000073578 | 1.00000000 | 0.225269830 | 0.164262967 | 0.05772567 | 0.01717158 | 0.013518615 | 0.011427424 | 0.009907002 | 0.017185522 | 0.012018625 |\n",
       "| ENSG00000180104 | 0.22526983 | 1.000000000 | 0.393816296 | 0.09142029 | 0.01558749 | 0.007592081 | 0.007367703 | 0.010794232 | 0.008879006 | 0.007667495 |\n",
       "| ENSG00000066230 | 0.16426297 | 0.393816296 | 1.000000000 | 0.22307692 | 0.02029307 | 0.008162533 | 0.010617491 | 0.005243533 | 0.012261342 | 0.007169285 |\n",
       "| ENSG00000112877 | 0.05772567 | 0.091420291 | 0.223076918 | 1.00000000 | 0.02321981 | 0.013198067 | 0.007208327 | 0.014335098 | 0.014422478 | 0.008983460 |\n",
       "| ENSG00000113504 | 0.01717158 | 0.015587486 | 0.020293070 | 0.02321981 | 1.00000000 | 0.042886354 | 0.017868285 | 0.016642780 | 0.130195157 | 0.014295265 |\n",
       "| ENSG00000174358 | 0.01351861 | 0.007592081 | 0.008162533 | 0.01319807 | 0.04288635 | 1.000000000 | 0.014594251 | 0.018236387 | 0.025115491 | 0.008791503 |\n",
       "\n"
      ],
      "text/plain": [
       "                ENSG00000073578 ENSG00000180104 ENSG00000066230 ENSG00000112877\n",
       "ENSG00000073578 1.00000000      0.225269830     0.164262967     0.05772567     \n",
       "ENSG00000180104 0.22526983      1.000000000     0.393816296     0.09142029     \n",
       "ENSG00000066230 0.16426297      0.393816296     1.000000000     0.22307692     \n",
       "ENSG00000112877 0.05772567      0.091420291     0.223076918     1.00000000     \n",
       "ENSG00000113504 0.01717158      0.015587486     0.020293070     0.02321981     \n",
       "ENSG00000174358 0.01351861      0.007592081     0.008162533     0.01319807     \n",
       "                ENSG00000113504 ENSG00000174358 ENSG00000164362 ENSG00000049656\n",
       "ENSG00000073578 0.01717158      0.013518615     0.011427424     0.009907002    \n",
       "ENSG00000180104 0.01558749      0.007592081     0.007367703     0.010794232    \n",
       "ENSG00000066230 0.02029307      0.008162533     0.010617491     0.005243533    \n",
       "ENSG00000112877 0.02321981      0.013198067     0.007208327     0.014335098    \n",
       "ENSG00000113504 1.00000000      0.042886354     0.017868285     0.016642780    \n",
       "ENSG00000174358 0.04288635      1.000000000     0.014594251     0.018236387    \n",
       "                ENSG00000153395 ENSG00000171421\n",
       "ENSG00000073578 0.017185522     0.012018625    \n",
       "ENSG00000180104 0.008879006     0.007667495    \n",
       "ENSG00000066230 0.012261342     0.007169285    \n",
       "ENSG00000112877 0.014422478     0.008983460    \n",
       "ENSG00000113504 0.130195157     0.014295265    \n",
       "ENSG00000174358 0.025115491     0.008791503    "
      ]
     },
     "metadata": {},
     "output_type": "display_data"
    }
   ],
   "source": [
    "head(gene_corrs[1:10, 1:10])"
   ]
  },
  {
   "cell_type": "markdown",
   "id": "d6cbc88a-2c90-4d11-b7dd-434f046fd03c",
   "metadata": {
    "papermill": {
     "duration": 0.00495,
     "end_time": "2022-07-12T13:07:11.985015",
     "exception": false,
     "start_time": "2022-07-12T13:07:11.980065",
     "status": "completed"
    },
    "tags": []
   },
   "source": [
    "# Check positive definiteness"
   ]
  },
  {
   "cell_type": "code",
   "execution_count": 17,
   "id": "a858a061-7c5a-4a6b-8026-fe4de50c1f26",
   "metadata": {
    "execution": {
     "iopub.execute_input": "2022-07-12T13:07:11.997488Z",
     "iopub.status.busy": "2022-07-12T13:07:11.996397Z",
     "iopub.status.idle": "2022-07-12T13:07:12.009897Z",
     "shell.execute_reply": "2022-07-12T13:07:12.008548Z"
    },
    "papermill": {
     "duration": 0.021328,
     "end_time": "2022-07-12T13:07:12.011545",
     "exception": false,
     "start_time": "2022-07-12T13:07:11.990217",
     "status": "completed"
    },
    "tags": []
   },
   "outputs": [],
   "source": [
    "orig_matrix_is_positive_definite <- is_positive_definite(gene_corrs)"
   ]
  },
  {
   "cell_type": "code",
   "execution_count": 18,
   "id": "410ee452-488f-4518-b93a-2acd608ba99c",
   "metadata": {
    "execution": {
     "iopub.execute_input": "2022-07-12T13:07:12.028587Z",
     "iopub.status.busy": "2022-07-12T13:07:12.026787Z",
     "iopub.status.idle": "2022-07-12T13:07:12.046174Z",
     "shell.execute_reply": "2022-07-12T13:07:12.044349Z"
    },
    "papermill": {
     "duration": 0.026916,
     "end_time": "2022-07-12T13:07:12.047817",
     "exception": false,
     "start_time": "2022-07-12T13:07:12.020901",
     "status": "completed"
    },
    "tags": []
   },
   "outputs": [
    {
     "data": {
      "text/html": [
       "'Matrix is already positive definite!'"
      ],
      "text/latex": [
       "'Matrix is already positive definite!'"
      ],
      "text/markdown": [
       "'Matrix is already positive definite!'"
      ],
      "text/plain": [
       "[1] \"Matrix is already positive definite!\""
      ]
     },
     "metadata": {},
     "output_type": "display_data"
    },
    {
     "data": {
      "text/html": [
       "TRUE"
      ],
      "text/latex": [
       "TRUE"
      ],
      "text/markdown": [
       "TRUE"
      ],
      "text/plain": [
       "[1] TRUE"
      ]
     },
     "metadata": {},
     "output_type": "display_data"
    }
   ],
   "source": [
    "if (orig_matrix_is_positive_definite) {\n",
    "  IRdisplay::display(\"Matrix is already positive definite!\")\n",
    "  file.copy(INPUT_FILE, OUTPUT_FILE)\n",
    "} else {\n",
    "  IRdisplay::display(\"We need to correct the data and make the matrix positive definite\")\n",
    "\n",
    "  eigenvalues <- eigen(gene_corrs)$values\n",
    "  nonpositive_eigenvalues <- eigenvalues[eigenvalues <= 0]\n",
    "  IRdisplay::display(length(nonpositive_eigenvalues))\n",
    "  IRdisplay::display(nonpositive_eigenvalues)\n",
    "\n",
    "  # Make matrix positive definite\n",
    "  gene_corrs_corrected <- CorrectCM(gene_corrs, 1e-10)\n",
    "  dimnames(gene_corrs_corrected)[[1]] <- rownames(gene_corrs)\n",
    "  dimnames(gene_corrs_corrected)[[2]] <- colnames(gene_corrs)\n",
    "  gene_corrs_corrected <- as.data.frame(gene_corrs_corrected)\n",
    "\n",
    "  # check if new matrix is really positive definite\n",
    "  matrix_is_positive_definite <- is_positive_definite(gene_corrs_corrected)\n",
    "  if (matrix_is_positive_definite) {\n",
    "    IRdisplay::display(\"It worked!\")\n",
    "    IRdisplay::display(head(gene_corrs[1:10, 1:10]))\n",
    "    IRdisplay::display(head(gene_corrs_corrected[1:10, 1:10]))\n",
    "    py_save_object(gene_corrs_corrected, OUTPUT_FILE)\n",
    "  } else {\n",
    "    eigenvalues <- eigen(gene_corrs_corrected)$values\n",
    "    nonpositive_eigenvalues <- eigenvalues[eigenvalues <= 0]\n",
    "    IRdisplay::display(length(nonpositive_eigenvalues))\n",
    "    IRdisplay::display(nonpositive_eigenvalues)\n",
    "\n",
    "    stop(\"Method failed to adjust matrix\")\n",
    "  }\n",
    "}"
   ]
  },
  {
   "cell_type": "markdown",
   "id": "6c196700-7491-462f-bab8-ab9d40c63499",
   "metadata": {
    "papermill": {
     "duration": 0.00796,
     "end_time": "2022-07-12T13:07:12.060579",
     "exception": false,
     "start_time": "2022-07-12T13:07:12.052619",
     "status": "completed"
    },
    "tags": []
   },
   "source": [
    "Both matrices should \"look\" similar. We are not interested in perfectly accurate correlation values (they are already inaccurate)."
   ]
  },
  {
   "cell_type": "code",
   "execution_count": null,
   "id": "d8ae4220-2171-460c-9231-cd5219f3fe77",
   "metadata": {
    "papermill": {
     "duration": 0.004905,
     "end_time": "2022-07-12T13:07:12.073234",
     "exception": false,
     "start_time": "2022-07-12T13:07:12.068329",
     "status": "completed"
    },
    "tags": []
   },
   "outputs": [],
   "source": []
  }
 ],
 "metadata": {
  "jupytext": {
   "cell_metadata_filter": "all,-execution,-papermill,-trusted"
  },
  "kernelspec": {
   "display_name": "R",
   "language": "R",
   "name": "ir"
  },
  "language_info": {
   "codemirror_mode": "r",
   "file_extension": ".r",
   "mimetype": "text/x-r-source",
   "name": "R",
   "pygments_lexer": "r",
   "version": "3.6.3"
  },
  "papermill": {
   "default_parameters": {},
   "duration": 5.12544,
   "end_time": "2022-07-12T13:07:12.196583",
   "environment_variables": {},
   "exception": null,
   "input_path": "nbs/15_gsa_gls/12-gene_expr_correlations-adjust.ipynb",
   "output_path": "nbs/15_gsa_gls/gene_corrs/1000g/mashr/12-gene_expr_correlations-adjust-chr5.run.ipynb",
   "parameters": {
    "EQTL_MODEL": "MASHR",
    "REFERENCE_PANEL": "1000G",
    "chromosome": 5
   },
   "start_time": "2022-07-12T13:07:07.071143",
   "version": "2.3.4"
  }
 },
 "nbformat": 4,
 "nbformat_minor": 5
}
