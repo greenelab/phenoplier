{
 "cells": [
  {
   "cell_type": "markdown",
   "id": "28fc82fa-c3f6-4184-8054-cc91c7c6e2e7",
   "metadata": {
    "papermill": {
     "duration": 0.003581,
     "end_time": "2022-07-11T13:17:51.459149",
     "exception": false,
     "start_time": "2022-07-11T13:17:51.455568",
     "status": "completed"
    },
    "tags": []
   },
   "source": [
    "# Description"
   ]
  },
  {
   "cell_type": "markdown",
   "id": "36839b17-916e-4aec-8fee-96faf1097e78",
   "metadata": {
    "papermill": {
     "duration": 0.003181,
     "end_time": "2022-07-11T13:17:51.465587",
     "exception": false,
     "start_time": "2022-07-11T13:17:51.462406",
     "status": "completed"
    },
    "tags": []
   },
   "source": [
    "**TODO**"
   ]
  },
  {
   "cell_type": "markdown",
   "id": "249e8aa3-ef1a-4bba-a6dd-58120ad80794",
   "metadata": {
    "papermill": {
     "duration": 0.003184,
     "end_time": "2022-07-11T13:17:51.472251",
     "exception": false,
     "start_time": "2022-07-11T13:17:51.469067",
     "status": "completed"
    },
    "tags": []
   },
   "source": [
    "# Modules"
   ]
  },
  {
   "cell_type": "code",
   "execution_count": 1,
   "id": "f9b5022b-7c5e-4d37-9c7a-fdb91777c7f9",
   "metadata": {
    "execution": {
     "iopub.execute_input": "2022-07-11T13:17:51.481442Z",
     "iopub.status.busy": "2022-07-11T13:17:51.479875Z",
     "iopub.status.idle": "2022-07-11T13:17:54.825643Z",
     "shell.execute_reply": "2022-07-11T13:17:54.824298Z"
    },
    "papermill": {
     "duration": 3.352204,
     "end_time": "2022-07-11T13:17:54.827671",
     "exception": false,
     "start_time": "2022-07-11T13:17:51.475467",
     "status": "completed"
    },
    "tags": []
   },
   "outputs": [],
   "source": [
    "library(reticulate)\n",
    "pd <- import(\"pandas\")"
   ]
  },
  {
   "cell_type": "markdown",
   "id": "69e80173-3a39-4b6a-b723-602687cb255b",
   "metadata": {
    "papermill": {
     "duration": 0.00385,
     "end_time": "2022-07-11T13:17:54.835467",
     "exception": false,
     "start_time": "2022-07-11T13:17:54.831617",
     "status": "completed"
    },
    "tags": []
   },
   "source": [
    "# Settings"
   ]
  },
  {
   "cell_type": "code",
   "execution_count": 2,
   "id": "22d12bb4-1699-4a6b-b1b9-d3fdd3d547d7",
   "metadata": {
    "execution": {
     "iopub.execute_input": "2022-07-11T13:17:54.869144Z",
     "iopub.status.busy": "2022-07-11T13:17:54.844959Z",
     "iopub.status.idle": "2022-07-11T13:17:54.881981Z",
     "shell.execute_reply": "2022-07-11T13:17:54.880185Z"
    },
    "papermill": {
     "duration": 0.044177,
     "end_time": "2022-07-11T13:17:54.884006",
     "exception": false,
     "start_time": "2022-07-11T13:17:54.839829",
     "status": "completed"
    },
    "tags": [
     "parameters"
    ]
   },
   "outputs": [],
   "source": [
    "# reference panel\n",
    "REFERENCE_PANEL <- \"GTEX_V8\"\n",
    "# REFERENCE_PANEL = \"1000G\"\n",
    "\n",
    "# prediction models\n",
    "## mashr\n",
    "EQTL_MODEL <- \"MASHR\"\n",
    "\n",
    "chromosome <- NULL"
   ]
  },
  {
   "cell_type": "code",
   "execution_count": 3,
   "id": "dcb9a567",
   "metadata": {
    "execution": {
     "iopub.execute_input": "2022-07-11T13:17:54.893238Z",
     "iopub.status.busy": "2022-07-11T13:17:54.892192Z",
     "iopub.status.idle": "2022-07-11T13:17:54.910239Z",
     "shell.execute_reply": "2022-07-11T13:17:54.909024Z"
    },
    "papermill": {
     "duration": 0.024596,
     "end_time": "2022-07-11T13:17:54.912109",
     "exception": false,
     "start_time": "2022-07-11T13:17:54.887513",
     "status": "completed"
    },
    "tags": [
     "injected-parameters"
    ]
   },
   "outputs": [],
   "source": [
    "# Parameters\n",
    "chromosome = 13\n",
    "REFERENCE_PANEL = \"1000G\"\n",
    "EQTL_MODEL = \"MASHR\"\n"
   ]
  },
  {
   "cell_type": "code",
   "execution_count": 4,
   "id": "8fe24bef",
   "metadata": {
    "execution": {
     "iopub.execute_input": "2022-07-11T13:17:54.922360Z",
     "iopub.status.busy": "2022-07-11T13:17:54.921239Z",
     "iopub.status.idle": "2022-07-11T13:17:54.935369Z",
     "shell.execute_reply": "2022-07-11T13:17:54.934070Z"
    },
    "papermill": {
     "duration": 0.021229,
     "end_time": "2022-07-11T13:17:54.937404",
     "exception": false,
     "start_time": "2022-07-11T13:17:54.916175",
     "status": "completed"
    },
    "tags": []
   },
   "outputs": [
    {
     "data": {
      "text/html": [
       "'Using reference panel: 1000G'"
      ],
      "text/latex": [
       "'Using reference panel: 1000G'"
      ],
      "text/markdown": [
       "'Using reference panel: 1000G'"
      ],
      "text/plain": [
       "[1] \"Using reference panel: 1000G\""
      ]
     },
     "metadata": {},
     "output_type": "display_data"
    }
   ],
   "source": [
    "paste0(\"Using reference panel: \", REFERENCE_PANEL)"
   ]
  },
  {
   "cell_type": "code",
   "execution_count": 5,
   "id": "d62c28f8-186c-478b-948c-58e14f00df4b",
   "metadata": {
    "execution": {
     "iopub.execute_input": "2022-07-11T13:17:54.947737Z",
     "iopub.status.busy": "2022-07-11T13:17:54.946407Z",
     "iopub.status.idle": "2022-07-11T13:17:54.960052Z",
     "shell.execute_reply": "2022-07-11T13:17:54.958141Z"
    },
    "papermill": {
     "duration": 0.020726,
     "end_time": "2022-07-11T13:17:54.961986",
     "exception": false,
     "start_time": "2022-07-11T13:17:54.941260",
     "status": "completed"
    },
    "tags": []
   },
   "outputs": [
    {
     "data": {
      "text/html": [
       "'Using eQTL model: MASHR'"
      ],
      "text/latex": [
       "'Using eQTL model: MASHR'"
      ],
      "text/markdown": [
       "'Using eQTL model: MASHR'"
      ],
      "text/plain": [
       "[1] \"Using eQTL model: MASHR\""
      ]
     },
     "metadata": {},
     "output_type": "display_data"
    }
   ],
   "source": [
    "paste0(\"Using eQTL model: \", EQTL_MODEL)"
   ]
  },
  {
   "cell_type": "code",
   "execution_count": 6,
   "id": "5243676f-c889-4405-9a4d-262f0f044614",
   "metadata": {
    "execution": {
     "iopub.execute_input": "2022-07-11T13:17:54.972425Z",
     "iopub.status.busy": "2022-07-11T13:17:54.970694Z",
     "iopub.status.idle": "2022-07-11T13:17:54.982176Z",
     "shell.execute_reply": "2022-07-11T13:17:54.980878Z"
    },
    "papermill": {
     "duration": 0.01837,
     "end_time": "2022-07-11T13:17:54.984107",
     "exception": false,
     "start_time": "2022-07-11T13:17:54.965737",
     "status": "completed"
    },
    "tags": []
   },
   "outputs": [],
   "source": [
    "# chromosome must be provided as parameter\n",
    "stopifnot(!is.null(chromosome))"
   ]
  },
  {
   "cell_type": "markdown",
   "id": "c05e4d34-e115-48cd-8a2e-225109eb0042",
   "metadata": {
    "papermill": {
     "duration": 0.003584,
     "end_time": "2022-07-11T13:17:54.991535",
     "exception": false,
     "start_time": "2022-07-11T13:17:54.987951",
     "status": "completed"
    },
    "tags": []
   },
   "source": [
    "# Paths"
   ]
  },
  {
   "cell_type": "code",
   "execution_count": 7,
   "id": "eb6aa8aa-b452-4a2f-a780-93dd80ad4285",
   "metadata": {
    "execution": {
     "iopub.execute_input": "2022-07-11T13:17:55.001509Z",
     "iopub.status.busy": "2022-07-11T13:17:55.000264Z",
     "iopub.status.idle": "2022-07-11T13:17:55.014764Z",
     "shell.execute_reply": "2022-07-11T13:17:55.013429Z"
    },
    "papermill": {
     "duration": 0.021262,
     "end_time": "2022-07-11T13:17:55.016559",
     "exception": false,
     "start_time": "2022-07-11T13:17:54.995297",
     "status": "completed"
    },
    "tags": []
   },
   "outputs": [
    {
     "data": {
      "text/html": [
       "'/opt/data/data/phenomexcan/ld_blocks/gene_corrs'"
      ],
      "text/latex": [
       "'/opt/data/data/phenomexcan/ld\\_blocks/gene\\_corrs'"
      ],
      "text/markdown": [
       "'/opt/data/data/phenomexcan/ld_blocks/gene_corrs'"
      ],
      "text/plain": [
       "[1] \"/opt/data/data/phenomexcan/ld_blocks/gene_corrs\""
      ]
     },
     "metadata": {},
     "output_type": "display_data"
    }
   ],
   "source": [
    "GENE_CORRS_DIR <- Sys.getenv(\"PHENOPLIER_PHENOMEXCAN_LD_BLOCKS_GENE_CORRS_DIR\")\n",
    "IRdisplay::display(GENE_CORRS_DIR)"
   ]
  },
  {
   "cell_type": "code",
   "execution_count": 8,
   "id": "eb24f15f-f282-4476-8943-8413c4483f12",
   "metadata": {
    "execution": {
     "iopub.execute_input": "2022-07-11T13:17:55.026553Z",
     "iopub.status.busy": "2022-07-11T13:17:55.025497Z",
     "iopub.status.idle": "2022-07-11T13:17:55.039744Z",
     "shell.execute_reply": "2022-07-11T13:17:55.038295Z"
    },
    "papermill": {
     "duration": 0.020966,
     "end_time": "2022-07-11T13:17:55.041621",
     "exception": false,
     "start_time": "2022-07-11T13:17:55.020655",
     "status": "completed"
    },
    "tags": []
   },
   "outputs": [
    {
     "data": {
      "text/html": [
       "'/opt/data/data/phenomexcan/ld_blocks/gene_corrs/1000g/mashr/by_chr'"
      ],
      "text/latex": [
       "'/opt/data/data/phenomexcan/ld\\_blocks/gene\\_corrs/1000g/mashr/by\\_chr'"
      ],
      "text/markdown": [
       "'/opt/data/data/phenomexcan/ld_blocks/gene_corrs/1000g/mashr/by_chr'"
      ],
      "text/plain": [
       "[1] \"/opt/data/data/phenomexcan/ld_blocks/gene_corrs/1000g/mashr/by_chr\""
      ]
     },
     "metadata": {},
     "output_type": "display_data"
    }
   ],
   "source": [
    "INPUT_DIR <- file.path(GENE_CORRS_DIR, tolower(REFERENCE_PANEL), tolower(EQTL_MODEL), \"by_chr\")\n",
    "IRdisplay::display(INPUT_DIR)"
   ]
  },
  {
   "cell_type": "code",
   "execution_count": 9,
   "id": "43c1daba-0da9-4822-8d1e-968e9767e251",
   "metadata": {
    "execution": {
     "iopub.execute_input": "2022-07-11T13:17:55.052714Z",
     "iopub.status.busy": "2022-07-11T13:17:55.051025Z",
     "iopub.status.idle": "2022-07-11T13:17:55.066224Z",
     "shell.execute_reply": "2022-07-11T13:17:55.065046Z"
    },
    "papermill": {
     "duration": 0.022078,
     "end_time": "2022-07-11T13:17:55.067901",
     "exception": false,
     "start_time": "2022-07-11T13:17:55.045823",
     "status": "completed"
    },
    "tags": []
   },
   "outputs": [
    {
     "data": {
      "text/html": [
       "'/opt/data/data/phenomexcan/ld_blocks/gene_corrs/1000g/mashr/by_chr/gene_corrs-chr13.pkl'"
      ],
      "text/latex": [
       "'/opt/data/data/phenomexcan/ld\\_blocks/gene\\_corrs/1000g/mashr/by\\_chr/gene\\_corrs-chr13.pkl'"
      ],
      "text/markdown": [
       "'/opt/data/data/phenomexcan/ld_blocks/gene_corrs/1000g/mashr/by_chr/gene_corrs-chr13.pkl'"
      ],
      "text/plain": [
       "[1] \"/opt/data/data/phenomexcan/ld_blocks/gene_corrs/1000g/mashr/by_chr/gene_corrs-chr13.pkl\""
      ]
     },
     "metadata": {},
     "output_type": "display_data"
    }
   ],
   "source": [
    "INPUT_FILE <- file.path(INPUT_DIR, paste0(\"gene_corrs-chr\", chromosome, \".pkl\"))\n",
    "IRdisplay::display(INPUT_FILE)\n",
    "stopifnot(file.exists(INPUT_FILE))"
   ]
  },
  {
   "cell_type": "code",
   "execution_count": 10,
   "id": "72386fbf-982b-420a-9057-ea9a97a5e571",
   "metadata": {
    "execution": {
     "iopub.execute_input": "2022-07-11T13:17:55.078056Z",
     "iopub.status.busy": "2022-07-11T13:17:55.077047Z",
     "iopub.status.idle": "2022-07-11T13:17:55.091094Z",
     "shell.execute_reply": "2022-07-11T13:17:55.089934Z"
    },
    "papermill": {
     "duration": 0.020809,
     "end_time": "2022-07-11T13:17:55.092797",
     "exception": false,
     "start_time": "2022-07-11T13:17:55.071988",
     "status": "completed"
    },
    "tags": []
   },
   "outputs": [
    {
     "data": {
      "text/html": [
       "'/opt/data/data/phenomexcan/ld_blocks/gene_corrs/1000g/mashr/by_chr/corrected_positive_definite'"
      ],
      "text/latex": [
       "'/opt/data/data/phenomexcan/ld\\_blocks/gene\\_corrs/1000g/mashr/by\\_chr/corrected\\_positive\\_definite'"
      ],
      "text/markdown": [
       "'/opt/data/data/phenomexcan/ld_blocks/gene_corrs/1000g/mashr/by_chr/corrected_positive_definite'"
      ],
      "text/plain": [
       "[1] \"/opt/data/data/phenomexcan/ld_blocks/gene_corrs/1000g/mashr/by_chr/corrected_positive_definite\""
      ]
     },
     "metadata": {},
     "output_type": "display_data"
    }
   ],
   "source": [
    "OUTPUT_DIR <- file.path(INPUT_DIR, \"corrected_positive_definite\")\n",
    "IRdisplay::display(OUTPUT_DIR)\n",
    "dir.create(OUTPUT_DIR, recursive = TRUE, showWarnings = FALSE)"
   ]
  },
  {
   "cell_type": "code",
   "execution_count": 11,
   "id": "f9f19d1d-ce4c-4099-a26e-250fec751de7",
   "metadata": {
    "execution": {
     "iopub.execute_input": "2022-07-11T13:17:55.103554Z",
     "iopub.status.busy": "2022-07-11T13:17:55.102526Z",
     "iopub.status.idle": "2022-07-11T13:17:55.116629Z",
     "shell.execute_reply": "2022-07-11T13:17:55.115353Z"
    },
    "papermill": {
     "duration": 0.021187,
     "end_time": "2022-07-11T13:17:55.118306",
     "exception": false,
     "start_time": "2022-07-11T13:17:55.097119",
     "status": "completed"
    },
    "tags": []
   },
   "outputs": [
    {
     "data": {
      "text/html": [
       "'/opt/data/data/phenomexcan/ld_blocks/gene_corrs/1000g/mashr/by_chr/corrected_positive_definite/gene_corrs-chr13.pkl'"
      ],
      "text/latex": [
       "'/opt/data/data/phenomexcan/ld\\_blocks/gene\\_corrs/1000g/mashr/by\\_chr/corrected\\_positive\\_definite/gene\\_corrs-chr13.pkl'"
      ],
      "text/markdown": [
       "'/opt/data/data/phenomexcan/ld_blocks/gene_corrs/1000g/mashr/by_chr/corrected_positive_definite/gene_corrs-chr13.pkl'"
      ],
      "text/plain": [
       "[1] \"/opt/data/data/phenomexcan/ld_blocks/gene_corrs/1000g/mashr/by_chr/corrected_positive_definite/gene_corrs-chr13.pkl\""
      ]
     },
     "metadata": {},
     "output_type": "display_data"
    }
   ],
   "source": [
    "OUTPUT_FILE <- file.path(OUTPUT_DIR, paste0(\"gene_corrs-chr\", chromosome, \".pkl\"))\n",
    "IRdisplay::display(OUTPUT_FILE)\n",
    "if (file.exists(OUTPUT_FILE)) {\n",
    "  IRdisplay::display(\"Output file exists, it will be overwritten\")\n",
    "}"
   ]
  },
  {
   "cell_type": "markdown",
   "id": "24973e62-e888-4b56-843f-489d8d0762b5",
   "metadata": {
    "papermill": {
     "duration": 0.004237,
     "end_time": "2022-07-11T13:17:55.126853",
     "exception": false,
     "start_time": "2022-07-11T13:17:55.122616",
     "status": "completed"
    },
    "tags": []
   },
   "source": [
    "# Functions"
   ]
  },
  {
   "cell_type": "code",
   "execution_count": 12,
   "id": "f828f081-7358-4cc8-8a89-1ee293bcc1a7",
   "metadata": {
    "execution": {
     "iopub.execute_input": "2022-07-11T13:17:55.140379Z",
     "iopub.status.busy": "2022-07-11T13:17:55.136265Z",
     "iopub.status.idle": "2022-07-11T13:17:55.149347Z",
     "shell.execute_reply": "2022-07-11T13:17:55.147996Z"
    },
    "papermill": {
     "duration": 0.019873,
     "end_time": "2022-07-11T13:17:55.150961",
     "exception": false,
     "start_time": "2022-07-11T13:17:55.131088",
     "status": "completed"
    },
    "tags": []
   },
   "outputs": [],
   "source": [
    "# taken from https://www.r-bloggers.com/2013/08/correcting-a-pseudo-correlation-matrix-to-be-positive-semidefinite/\n",
    "# TODO: add documentation\n",
    "CorrectCM <- function(CM, p = 0) {\n",
    "  n <- dim(var(CM))[1L]\n",
    "  E <- eigen(CM)\n",
    "  CM1 <- E$vectors %*% tcrossprod(diag(pmax(E$values, p), n), E$vectors)\n",
    "  Balance <- diag(1 / sqrt(diag(CM1)))\n",
    "  CM2 <- Balance %*% CM1 %*% Balance\n",
    "  return(CM2)\n",
    "}"
   ]
  },
  {
   "cell_type": "code",
   "execution_count": 13,
   "id": "7ab9bebf-50a1-4e6f-b16a-e23cae93d02a",
   "metadata": {
    "execution": {
     "iopub.execute_input": "2022-07-11T13:17:55.167663Z",
     "iopub.status.busy": "2022-07-11T13:17:55.166597Z",
     "iopub.status.idle": "2022-07-11T13:17:55.181643Z",
     "shell.execute_reply": "2022-07-11T13:17:55.178409Z"
    },
    "papermill": {
     "duration": 0.026243,
     "end_time": "2022-07-11T13:17:55.183279",
     "exception": false,
     "start_time": "2022-07-11T13:17:55.157036",
     "status": "completed"
    },
    "tags": []
   },
   "outputs": [],
   "source": [
    "is_positive_definite <- function(data) {\n",
    "  # eigenvalues <- eigen(data)$values\n",
    "  # nonpositive_eigenvalues <- eigenvalues[eigenvalues <= 0]\n",
    "\n",
    "  cholStatus <- try(u <- chol(data), silent = FALSE)\n",
    "  cholError <- ifelse(class(cholStatus) == \"try-error\", TRUE, FALSE)\n",
    "\n",
    "  if (cholError) {\n",
    "    return(FALSE)\n",
    "  } else {\n",
    "    return(TRUE)\n",
    "  }\n",
    "}"
   ]
  },
  {
   "cell_type": "markdown",
   "id": "7403fd78-00b2-4941-9c07-3c3af1ddc636",
   "metadata": {
    "papermill": {
     "duration": 0.007959,
     "end_time": "2022-07-11T13:17:55.197914",
     "exception": false,
     "start_time": "2022-07-11T13:17:55.189955",
     "status": "completed"
    },
    "tags": []
   },
   "source": [
    "# Load data"
   ]
  },
  {
   "cell_type": "code",
   "execution_count": 14,
   "id": "3a7744e1-2e5a-450e-9dcf-945ec181347d",
   "metadata": {
    "execution": {
     "iopub.execute_input": "2022-07-11T13:17:55.216721Z",
     "iopub.status.busy": "2022-07-11T13:17:55.215568Z",
     "iopub.status.idle": "2022-07-11T13:17:55.244274Z",
     "shell.execute_reply": "2022-07-11T13:17:55.243002Z"
    },
    "papermill": {
     "duration": 0.039875,
     "end_time": "2022-07-11T13:17:55.246064",
     "exception": false,
     "start_time": "2022-07-11T13:17:55.206189",
     "status": "completed"
    },
    "tags": []
   },
   "outputs": [],
   "source": [
    "gene_corrs <- pd$read_pickle(INPUT_FILE)"
   ]
  },
  {
   "cell_type": "code",
   "execution_count": 15,
   "id": "6fb150b2-4c68-4e9b-9aa5-1890d3f762e3",
   "metadata": {
    "execution": {
     "iopub.execute_input": "2022-07-11T13:17:55.257409Z",
     "iopub.status.busy": "2022-07-11T13:17:55.256357Z",
     "iopub.status.idle": "2022-07-11T13:17:55.268131Z",
     "shell.execute_reply": "2022-07-11T13:17:55.266813Z"
    },
    "papermill": {
     "duration": 0.019135,
     "end_time": "2022-07-11T13:17:55.269921",
     "exception": false,
     "start_time": "2022-07-11T13:17:55.250786",
     "status": "completed"
    },
    "tags": []
   },
   "outputs": [
    {
     "data": {
      "text/html": [
       "<style>\n",
       ".list-inline {list-style: none; margin:0; padding: 0}\n",
       ".list-inline>li {display: inline-block}\n",
       ".list-inline>li:not(:last-child)::after {content: \"\\00b7\"; padding: 0 .5ex}\n",
       "</style>\n",
       "<ol class=list-inline><li>118</li><li>118</li></ol>\n"
      ],
      "text/latex": [
       "\\begin{enumerate*}\n",
       "\\item 118\n",
       "\\item 118\n",
       "\\end{enumerate*}\n"
      ],
      "text/markdown": [
       "1. 118\n",
       "2. 118\n",
       "\n",
       "\n"
      ],
      "text/plain": [
       "[1] 118 118"
      ]
     },
     "metadata": {},
     "output_type": "display_data"
    }
   ],
   "source": [
    "dim(gene_corrs)"
   ]
  },
  {
   "cell_type": "code",
   "execution_count": 16,
   "id": "0d4e53b5-7586-4a68-8ce5-d930d74ba943",
   "metadata": {
    "execution": {
     "iopub.execute_input": "2022-07-11T13:17:55.281524Z",
     "iopub.status.busy": "2022-07-11T13:17:55.280419Z",
     "iopub.status.idle": "2022-07-11T13:17:55.313191Z",
     "shell.execute_reply": "2022-07-11T13:17:55.311193Z"
    },
    "papermill": {
     "duration": 0.040644,
     "end_time": "2022-07-11T13:17:55.315289",
     "exception": false,
     "start_time": "2022-07-11T13:17:55.274645",
     "status": "completed"
    },
    "tags": []
   },
   "outputs": [
    {
     "data": {
      "text/html": [
       "<table class=\"dataframe\">\n",
       "<caption>A data.frame: 6 × 10</caption>\n",
       "<thead>\n",
       "\t<tr><th></th><th scope=col>ENSG00000121741</th><th scope=col>ENSG00000121743</th><th scope=col>ENSG00000121742</th><th scope=col>ENSG00000032742</th><th scope=col>ENSG00000150457</th><th scope=col>ENSG00000150459</th><th scope=col>ENSG00000102678</th><th scope=col>ENSG00000127863</th><th scope=col>ENSG00000228741</th><th scope=col>ENSG00000102699</th></tr>\n",
       "\t<tr><th></th><th scope=col>&lt;dbl&gt;</th><th scope=col>&lt;dbl&gt;</th><th scope=col>&lt;dbl&gt;</th><th scope=col>&lt;dbl&gt;</th><th scope=col>&lt;dbl&gt;</th><th scope=col>&lt;dbl&gt;</th><th scope=col>&lt;dbl&gt;</th><th scope=col>&lt;dbl&gt;</th><th scope=col>&lt;dbl&gt;</th><th scope=col>&lt;dbl&gt;</th></tr>\n",
       "</thead>\n",
       "<tbody>\n",
       "\t<tr><th scope=row>ENSG00000121741</th><td>1.000000000</td><td>0.02461334</td><td>0.001492074</td><td>0.003547938</td><td>0.003638847</td><td>0.008222915</td><td>0.002423058</td><td>0.007003640</td><td>0.008127834</td><td>0.003151855</td></tr>\n",
       "\t<tr><th scope=row>ENSG00000121743</th><td>0.024613336</td><td>1.00000000</td><td>0.021913678</td><td>0.011445845</td><td>0.011739049</td><td>0.019022287</td><td>0.005606346</td><td>0.013556793</td><td>0.012527194</td><td>0.010330033</td></tr>\n",
       "\t<tr><th scope=row>ENSG00000121742</th><td>0.001492074</td><td>0.02191368</td><td>1.000000000</td><td>0.012935994</td><td>0.004079176</td><td>0.010813023</td><td>0.011753870</td><td>0.010937710</td><td>0.015148399</td><td>0.010537581</td></tr>\n",
       "\t<tr><th scope=row>ENSG00000032742</th><td>0.003547938</td><td>0.01144584</td><td>0.012935994</td><td>1.000000000</td><td>0.018501463</td><td>0.012046928</td><td>0.015445333</td><td>0.013732105</td><td>0.007979684</td><td>0.005515936</td></tr>\n",
       "\t<tr><th scope=row>ENSG00000150457</th><td>0.003638847</td><td>0.01173905</td><td>0.004079176</td><td>0.018501463</td><td>1.000000000</td><td>0.008389088</td><td>0.005360748</td><td>0.009502627</td><td>0.009889910</td><td>0.005387629</td></tr>\n",
       "\t<tr><th scope=row>ENSG00000150459</th><td>0.008222915</td><td>0.01902229</td><td>0.010813023</td><td>0.012046928</td><td>0.008389088</td><td>1.000000000</td><td>0.004102948</td><td>0.009264142</td><td>0.008254268</td><td>0.008289539</td></tr>\n",
       "</tbody>\n",
       "</table>\n"
      ],
      "text/latex": [
       "A data.frame: 6 × 10\n",
       "\\begin{tabular}{r|llllllllll}\n",
       "  & ENSG00000121741 & ENSG00000121743 & ENSG00000121742 & ENSG00000032742 & ENSG00000150457 & ENSG00000150459 & ENSG00000102678 & ENSG00000127863 & ENSG00000228741 & ENSG00000102699\\\\\n",
       "  & <dbl> & <dbl> & <dbl> & <dbl> & <dbl> & <dbl> & <dbl> & <dbl> & <dbl> & <dbl>\\\\\n",
       "\\hline\n",
       "\tENSG00000121741 & 1.000000000 & 0.02461334 & 0.001492074 & 0.003547938 & 0.003638847 & 0.008222915 & 0.002423058 & 0.007003640 & 0.008127834 & 0.003151855\\\\\n",
       "\tENSG00000121743 & 0.024613336 & 1.00000000 & 0.021913678 & 0.011445845 & 0.011739049 & 0.019022287 & 0.005606346 & 0.013556793 & 0.012527194 & 0.010330033\\\\\n",
       "\tENSG00000121742 & 0.001492074 & 0.02191368 & 1.000000000 & 0.012935994 & 0.004079176 & 0.010813023 & 0.011753870 & 0.010937710 & 0.015148399 & 0.010537581\\\\\n",
       "\tENSG00000032742 & 0.003547938 & 0.01144584 & 0.012935994 & 1.000000000 & 0.018501463 & 0.012046928 & 0.015445333 & 0.013732105 & 0.007979684 & 0.005515936\\\\\n",
       "\tENSG00000150457 & 0.003638847 & 0.01173905 & 0.004079176 & 0.018501463 & 1.000000000 & 0.008389088 & 0.005360748 & 0.009502627 & 0.009889910 & 0.005387629\\\\\n",
       "\tENSG00000150459 & 0.008222915 & 0.01902229 & 0.010813023 & 0.012046928 & 0.008389088 & 1.000000000 & 0.004102948 & 0.009264142 & 0.008254268 & 0.008289539\\\\\n",
       "\\end{tabular}\n"
      ],
      "text/markdown": [
       "\n",
       "A data.frame: 6 × 10\n",
       "\n",
       "| <!--/--> | ENSG00000121741 &lt;dbl&gt; | ENSG00000121743 &lt;dbl&gt; | ENSG00000121742 &lt;dbl&gt; | ENSG00000032742 &lt;dbl&gt; | ENSG00000150457 &lt;dbl&gt; | ENSG00000150459 &lt;dbl&gt; | ENSG00000102678 &lt;dbl&gt; | ENSG00000127863 &lt;dbl&gt; | ENSG00000228741 &lt;dbl&gt; | ENSG00000102699 &lt;dbl&gt; |\n",
       "|---|---|---|---|---|---|---|---|---|---|---|\n",
       "| ENSG00000121741 | 1.000000000 | 0.02461334 | 0.001492074 | 0.003547938 | 0.003638847 | 0.008222915 | 0.002423058 | 0.007003640 | 0.008127834 | 0.003151855 |\n",
       "| ENSG00000121743 | 0.024613336 | 1.00000000 | 0.021913678 | 0.011445845 | 0.011739049 | 0.019022287 | 0.005606346 | 0.013556793 | 0.012527194 | 0.010330033 |\n",
       "| ENSG00000121742 | 0.001492074 | 0.02191368 | 1.000000000 | 0.012935994 | 0.004079176 | 0.010813023 | 0.011753870 | 0.010937710 | 0.015148399 | 0.010537581 |\n",
       "| ENSG00000032742 | 0.003547938 | 0.01144584 | 0.012935994 | 1.000000000 | 0.018501463 | 0.012046928 | 0.015445333 | 0.013732105 | 0.007979684 | 0.005515936 |\n",
       "| ENSG00000150457 | 0.003638847 | 0.01173905 | 0.004079176 | 0.018501463 | 1.000000000 | 0.008389088 | 0.005360748 | 0.009502627 | 0.009889910 | 0.005387629 |\n",
       "| ENSG00000150459 | 0.008222915 | 0.01902229 | 0.010813023 | 0.012046928 | 0.008389088 | 1.000000000 | 0.004102948 | 0.009264142 | 0.008254268 | 0.008289539 |\n",
       "\n"
      ],
      "text/plain": [
       "                ENSG00000121741 ENSG00000121743 ENSG00000121742 ENSG00000032742\n",
       "ENSG00000121741 1.000000000     0.02461334      0.001492074     0.003547938    \n",
       "ENSG00000121743 0.024613336     1.00000000      0.021913678     0.011445845    \n",
       "ENSG00000121742 0.001492074     0.02191368      1.000000000     0.012935994    \n",
       "ENSG00000032742 0.003547938     0.01144584      0.012935994     1.000000000    \n",
       "ENSG00000150457 0.003638847     0.01173905      0.004079176     0.018501463    \n",
       "ENSG00000150459 0.008222915     0.01902229      0.010813023     0.012046928    \n",
       "                ENSG00000150457 ENSG00000150459 ENSG00000102678 ENSG00000127863\n",
       "ENSG00000121741 0.003638847     0.008222915     0.002423058     0.007003640    \n",
       "ENSG00000121743 0.011739049     0.019022287     0.005606346     0.013556793    \n",
       "ENSG00000121742 0.004079176     0.010813023     0.011753870     0.010937710    \n",
       "ENSG00000032742 0.018501463     0.012046928     0.015445333     0.013732105    \n",
       "ENSG00000150457 1.000000000     0.008389088     0.005360748     0.009502627    \n",
       "ENSG00000150459 0.008389088     1.000000000     0.004102948     0.009264142    \n",
       "                ENSG00000228741 ENSG00000102699\n",
       "ENSG00000121741 0.008127834     0.003151855    \n",
       "ENSG00000121743 0.012527194     0.010330033    \n",
       "ENSG00000121742 0.015148399     0.010537581    \n",
       "ENSG00000032742 0.007979684     0.005515936    \n",
       "ENSG00000150457 0.009889910     0.005387629    \n",
       "ENSG00000150459 0.008254268     0.008289539    "
      ]
     },
     "metadata": {},
     "output_type": "display_data"
    }
   ],
   "source": [
    "head(gene_corrs[1:10, 1:10])"
   ]
  },
  {
   "cell_type": "markdown",
   "id": "d6cbc88a-2c90-4d11-b7dd-434f046fd03c",
   "metadata": {
    "papermill": {
     "duration": 0.006008,
     "end_time": "2022-07-11T13:17:55.326583",
     "exception": false,
     "start_time": "2022-07-11T13:17:55.320575",
     "status": "completed"
    },
    "tags": []
   },
   "source": [
    "# Check positive definiteness"
   ]
  },
  {
   "cell_type": "code",
   "execution_count": 17,
   "id": "a858a061-7c5a-4a6b-8026-fe4de50c1f26",
   "metadata": {
    "execution": {
     "iopub.execute_input": "2022-07-11T13:17:55.340230Z",
     "iopub.status.busy": "2022-07-11T13:17:55.339066Z",
     "iopub.status.idle": "2022-07-11T13:17:55.351271Z",
     "shell.execute_reply": "2022-07-11T13:17:55.349150Z"
    },
    "papermill": {
     "duration": 0.022167,
     "end_time": "2022-07-11T13:17:55.354601",
     "exception": false,
     "start_time": "2022-07-11T13:17:55.332434",
     "status": "completed"
    },
    "tags": []
   },
   "outputs": [],
   "source": [
    "orig_matrix_is_positive_definite <- is_positive_definite(gene_corrs)"
   ]
  },
  {
   "cell_type": "code",
   "execution_count": 18,
   "id": "410ee452-488f-4518-b93a-2acd608ba99c",
   "metadata": {
    "execution": {
     "iopub.execute_input": "2022-07-11T13:17:55.367708Z",
     "iopub.status.busy": "2022-07-11T13:17:55.366607Z",
     "iopub.status.idle": "2022-07-11T13:17:55.385902Z",
     "shell.execute_reply": "2022-07-11T13:17:55.384000Z"
    },
    "papermill": {
     "duration": 0.027291,
     "end_time": "2022-07-11T13:17:55.387444",
     "exception": false,
     "start_time": "2022-07-11T13:17:55.360153",
     "status": "completed"
    },
    "tags": []
   },
   "outputs": [
    {
     "data": {
      "text/html": [
       "'Matrix is already positive definite!'"
      ],
      "text/latex": [
       "'Matrix is already positive definite!'"
      ],
      "text/markdown": [
       "'Matrix is already positive definite!'"
      ],
      "text/plain": [
       "[1] \"Matrix is already positive definite!\""
      ]
     },
     "metadata": {},
     "output_type": "display_data"
    },
    {
     "data": {
      "text/html": [
       "TRUE"
      ],
      "text/latex": [
       "TRUE"
      ],
      "text/markdown": [
       "TRUE"
      ],
      "text/plain": [
       "[1] TRUE"
      ]
     },
     "metadata": {},
     "output_type": "display_data"
    }
   ],
   "source": [
    "if (orig_matrix_is_positive_definite) {\n",
    "  IRdisplay::display(\"Matrix is already positive definite!\")\n",
    "  file.copy(INPUT_FILE, OUTPUT_FILE)\n",
    "} else {\n",
    "  IRdisplay::display(\"We need to correct the data and make the matrix positive definite\")\n",
    "\n",
    "  eigenvalues <- eigen(gene_corrs)$values\n",
    "  nonpositive_eigenvalues <- eigenvalues[eigenvalues <= 0]\n",
    "  IRdisplay::display(length(nonpositive_eigenvalues))\n",
    "  IRdisplay::display(nonpositive_eigenvalues)\n",
    "\n",
    "  # Make matrix positive definite\n",
    "  gene_corrs_corrected <- CorrectCM(gene_corrs, 1e-10)\n",
    "  dimnames(gene_corrs_corrected)[[1]] <- rownames(gene_corrs)\n",
    "  dimnames(gene_corrs_corrected)[[2]] <- colnames(gene_corrs)\n",
    "  gene_corrs_corrected <- as.data.frame(gene_corrs_corrected)\n",
    "\n",
    "  # check if new matrix is really positive definite\n",
    "  matrix_is_positive_definite <- is_positive_definite(gene_corrs_corrected)\n",
    "  if (matrix_is_positive_definite) {\n",
    "    IRdisplay::display(\"It worked!\")\n",
    "    IRdisplay::display(head(gene_corrs[1:10, 1:10]))\n",
    "    IRdisplay::display(head(gene_corrs_corrected[1:10, 1:10]))\n",
    "    py_save_object(gene_corrs_corrected, OUTPUT_FILE)\n",
    "  } else {\n",
    "    eigenvalues <- eigen(gene_corrs_corrected)$values\n",
    "    nonpositive_eigenvalues <- eigenvalues[eigenvalues <= 0]\n",
    "    IRdisplay::display(length(nonpositive_eigenvalues))\n",
    "    IRdisplay::display(nonpositive_eigenvalues)\n",
    "\n",
    "    stop(\"Method failed to adjust matrix\")\n",
    "  }\n",
    "}"
   ]
  },
  {
   "cell_type": "markdown",
   "id": "6c196700-7491-462f-bab8-ab9d40c63499",
   "metadata": {
    "papermill": {
     "duration": 0.004676,
     "end_time": "2022-07-11T13:17:55.397317",
     "exception": false,
     "start_time": "2022-07-11T13:17:55.392641",
     "status": "completed"
    },
    "tags": []
   },
   "source": [
    "Both matrices should \"look\" similar. We are not interested in perfectly accurate correlation values (they are already inaccurate)."
   ]
  },
  {
   "cell_type": "code",
   "execution_count": null,
   "id": "d8ae4220-2171-460c-9231-cd5219f3fe77",
   "metadata": {
    "papermill": {
     "duration": 0.004518,
     "end_time": "2022-07-11T13:17:55.406720",
     "exception": false,
     "start_time": "2022-07-11T13:17:55.402202",
     "status": "completed"
    },
    "tags": []
   },
   "outputs": [],
   "source": []
  }
 ],
 "metadata": {
  "jupytext": {
   "cell_metadata_filter": "all,-execution,-papermill,-trusted"
  },
  "kernelspec": {
   "display_name": "R",
   "language": "R",
   "name": "ir"
  },
  "language_info": {
   "codemirror_mode": "r",
   "file_extension": ".r",
   "mimetype": "text/x-r-source",
   "name": "R",
   "pygments_lexer": "r",
   "version": "3.6.3"
  },
  "papermill": {
   "default_parameters": {},
   "duration": 5.325675,
   "end_time": "2022-07-11T13:17:55.528923",
   "environment_variables": {},
   "exception": null,
   "input_path": "nbs/15_gsa_gls/12-gene_expr_correlations-adjust.ipynb",
   "output_path": "nbs/15_gsa_gls/gene_corrs/1000g/mashr/12-gene_expr_correlations-adjust-chr13.run.ipynb",
   "parameters": {
    "EQTL_MODEL": "MASHR",
    "REFERENCE_PANEL": "1000G",
    "chromosome": 13
   },
   "start_time": "2022-07-11T13:17:50.203248",
   "version": "2.3.4"
  }
 },
 "nbformat": 4,
 "nbformat_minor": 5
}
