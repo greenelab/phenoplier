{
 "cells": [
  {
   "cell_type": "markdown",
   "id": "28fc82fa-c3f6-4184-8054-cc91c7c6e2e7",
   "metadata": {
    "papermill": {
     "duration": 0.004232,
     "end_time": "2022-07-12T13:07:21.430243",
     "exception": false,
     "start_time": "2022-07-12T13:07:21.426011",
     "status": "completed"
    },
    "tags": []
   },
   "source": [
    "# Description"
   ]
  },
  {
   "cell_type": "markdown",
   "id": "36839b17-916e-4aec-8fee-96faf1097e78",
   "metadata": {
    "papermill": {
     "duration": 0.003368,
     "end_time": "2022-07-12T13:07:21.437151",
     "exception": false,
     "start_time": "2022-07-12T13:07:21.433783",
     "status": "completed"
    },
    "tags": []
   },
   "source": [
    "**TODO**"
   ]
  },
  {
   "cell_type": "markdown",
   "id": "249e8aa3-ef1a-4bba-a6dd-58120ad80794",
   "metadata": {
    "papermill": {
     "duration": 0.003608,
     "end_time": "2022-07-12T13:07:21.444629",
     "exception": false,
     "start_time": "2022-07-12T13:07:21.441021",
     "status": "completed"
    },
    "tags": []
   },
   "source": [
    "# Modules"
   ]
  },
  {
   "cell_type": "code",
   "execution_count": 1,
   "id": "f9b5022b-7c5e-4d37-9c7a-fdb91777c7f9",
   "metadata": {
    "execution": {
     "iopub.execute_input": "2022-07-12T13:07:21.455476Z",
     "iopub.status.busy": "2022-07-12T13:07:21.453619Z",
     "iopub.status.idle": "2022-07-12T13:07:24.838392Z",
     "shell.execute_reply": "2022-07-12T13:07:24.836992Z"
    },
    "papermill": {
     "duration": 3.391906,
     "end_time": "2022-07-12T13:07:24.840327",
     "exception": false,
     "start_time": "2022-07-12T13:07:21.448421",
     "status": "completed"
    },
    "tags": []
   },
   "outputs": [],
   "source": [
    "library(reticulate)\n",
    "pd <- import(\"pandas\")"
   ]
  },
  {
   "cell_type": "markdown",
   "id": "69e80173-3a39-4b6a-b723-602687cb255b",
   "metadata": {
    "papermill": {
     "duration": 0.007997,
     "end_time": "2022-07-12T13:07:24.859950",
     "exception": false,
     "start_time": "2022-07-12T13:07:24.851953",
     "status": "completed"
    },
    "tags": []
   },
   "source": [
    "# Settings"
   ]
  },
  {
   "cell_type": "code",
   "execution_count": 2,
   "id": "22d12bb4-1699-4a6b-b1b9-d3fdd3d547d7",
   "metadata": {
    "execution": {
     "iopub.execute_input": "2022-07-12T13:07:24.901080Z",
     "iopub.status.busy": "2022-07-12T13:07:24.870740Z",
     "iopub.status.idle": "2022-07-12T13:07:24.920269Z",
     "shell.execute_reply": "2022-07-12T13:07:24.918153Z"
    },
    "papermill": {
     "duration": 0.056517,
     "end_time": "2022-07-12T13:07:24.922108",
     "exception": false,
     "start_time": "2022-07-12T13:07:24.865591",
     "status": "completed"
    },
    "tags": [
     "parameters"
    ]
   },
   "outputs": [],
   "source": [
    "# reference panel\n",
    "REFERENCE_PANEL <- \"GTEX_V8\"\n",
    "# REFERENCE_PANEL = \"1000G\"\n",
    "\n",
    "# prediction models\n",
    "## mashr\n",
    "EQTL_MODEL <- \"MASHR\"\n",
    "\n",
    "chromosome <- NULL"
   ]
  },
  {
   "cell_type": "code",
   "execution_count": 3,
   "id": "be8beccb",
   "metadata": {
    "execution": {
     "iopub.execute_input": "2022-07-12T13:07:24.933478Z",
     "iopub.status.busy": "2022-07-12T13:07:24.931720Z",
     "iopub.status.idle": "2022-07-12T13:07:24.951275Z",
     "shell.execute_reply": "2022-07-12T13:07:24.949964Z"
    },
    "papermill": {
     "duration": 0.027255,
     "end_time": "2022-07-12T13:07:24.953127",
     "exception": false,
     "start_time": "2022-07-12T13:07:24.925872",
     "status": "completed"
    },
    "tags": [
     "injected-parameters"
    ]
   },
   "outputs": [],
   "source": [
    "# Parameters\n",
    "chromosome = 11\n",
    "REFERENCE_PANEL = \"1000G\"\n",
    "EQTL_MODEL = \"MASHR\"\n"
   ]
  },
  {
   "cell_type": "code",
   "execution_count": 4,
   "id": "8fe24bef",
   "metadata": {
    "execution": {
     "iopub.execute_input": "2022-07-12T13:07:24.963964Z",
     "iopub.status.busy": "2022-07-12T13:07:24.962088Z",
     "iopub.status.idle": "2022-07-12T13:07:24.977189Z",
     "shell.execute_reply": "2022-07-12T13:07:24.975868Z"
    },
    "papermill": {
     "duration": 0.022042,
     "end_time": "2022-07-12T13:07:24.979002",
     "exception": false,
     "start_time": "2022-07-12T13:07:24.956960",
     "status": "completed"
    },
    "tags": []
   },
   "outputs": [
    {
     "data": {
      "text/html": [
       "'Using reference panel: 1000G'"
      ],
      "text/latex": [
       "'Using reference panel: 1000G'"
      ],
      "text/markdown": [
       "'Using reference panel: 1000G'"
      ],
      "text/plain": [
       "[1] \"Using reference panel: 1000G\""
      ]
     },
     "metadata": {},
     "output_type": "display_data"
    }
   ],
   "source": [
    "paste0(\"Using reference panel: \", REFERENCE_PANEL)"
   ]
  },
  {
   "cell_type": "code",
   "execution_count": 5,
   "id": "d62c28f8-186c-478b-948c-58e14f00df4b",
   "metadata": {
    "execution": {
     "iopub.execute_input": "2022-07-12T13:07:24.989167Z",
     "iopub.status.busy": "2022-07-12T13:07:24.988069Z",
     "iopub.status.idle": "2022-07-12T13:07:25.000082Z",
     "shell.execute_reply": "2022-07-12T13:07:24.998786Z"
    },
    "papermill": {
     "duration": 0.018822,
     "end_time": "2022-07-12T13:07:25.001867",
     "exception": false,
     "start_time": "2022-07-12T13:07:24.983045",
     "status": "completed"
    },
    "tags": []
   },
   "outputs": [
    {
     "data": {
      "text/html": [
       "'Using eQTL model: MASHR'"
      ],
      "text/latex": [
       "'Using eQTL model: MASHR'"
      ],
      "text/markdown": [
       "'Using eQTL model: MASHR'"
      ],
      "text/plain": [
       "[1] \"Using eQTL model: MASHR\""
      ]
     },
     "metadata": {},
     "output_type": "display_data"
    }
   ],
   "source": [
    "paste0(\"Using eQTL model: \", EQTL_MODEL)"
   ]
  },
  {
   "cell_type": "code",
   "execution_count": 6,
   "id": "5243676f-c889-4405-9a4d-262f0f044614",
   "metadata": {
    "execution": {
     "iopub.execute_input": "2022-07-12T13:07:25.012380Z",
     "iopub.status.busy": "2022-07-12T13:07:25.011210Z",
     "iopub.status.idle": "2022-07-12T13:07:25.021250Z",
     "shell.execute_reply": "2022-07-12T13:07:25.019951Z"
    },
    "papermill": {
     "duration": 0.017076,
     "end_time": "2022-07-12T13:07:25.023052",
     "exception": false,
     "start_time": "2022-07-12T13:07:25.005976",
     "status": "completed"
    },
    "tags": []
   },
   "outputs": [],
   "source": [
    "# chromosome must be provided as parameter\n",
    "stopifnot(!is.null(chromosome))"
   ]
  },
  {
   "cell_type": "markdown",
   "id": "c05e4d34-e115-48cd-8a2e-225109eb0042",
   "metadata": {
    "papermill": {
     "duration": 0.003979,
     "end_time": "2022-07-12T13:07:25.031048",
     "exception": false,
     "start_time": "2022-07-12T13:07:25.027069",
     "status": "completed"
    },
    "tags": []
   },
   "source": [
    "# Paths"
   ]
  },
  {
   "cell_type": "code",
   "execution_count": 7,
   "id": "eb6aa8aa-b452-4a2f-a780-93dd80ad4285",
   "metadata": {
    "execution": {
     "iopub.execute_input": "2022-07-12T13:07:25.041387Z",
     "iopub.status.busy": "2022-07-12T13:07:25.040279Z",
     "iopub.status.idle": "2022-07-12T13:07:25.055352Z",
     "shell.execute_reply": "2022-07-12T13:07:25.053178Z"
    },
    "papermill": {
     "duration": 0.022183,
     "end_time": "2022-07-12T13:07:25.057340",
     "exception": false,
     "start_time": "2022-07-12T13:07:25.035157",
     "status": "completed"
    },
    "tags": []
   },
   "outputs": [
    {
     "data": {
      "text/html": [
       "'/opt/data/data/phenomexcan/ld_blocks/gene_corrs'"
      ],
      "text/latex": [
       "'/opt/data/data/phenomexcan/ld\\_blocks/gene\\_corrs'"
      ],
      "text/markdown": [
       "'/opt/data/data/phenomexcan/ld_blocks/gene_corrs'"
      ],
      "text/plain": [
       "[1] \"/opt/data/data/phenomexcan/ld_blocks/gene_corrs\""
      ]
     },
     "metadata": {},
     "output_type": "display_data"
    }
   ],
   "source": [
    "GENE_CORRS_DIR <- Sys.getenv(\"PHENOPLIER_PHENOMEXCAN_LD_BLOCKS_GENE_CORRS_DIR\")\n",
    "IRdisplay::display(GENE_CORRS_DIR)"
   ]
  },
  {
   "cell_type": "code",
   "execution_count": 8,
   "id": "eb24f15f-f282-4476-8943-8413c4483f12",
   "metadata": {
    "execution": {
     "iopub.execute_input": "2022-07-12T13:07:25.068031Z",
     "iopub.status.busy": "2022-07-12T13:07:25.066855Z",
     "iopub.status.idle": "2022-07-12T13:07:25.081260Z",
     "shell.execute_reply": "2022-07-12T13:07:25.079910Z"
    },
    "papermill": {
     "duration": 0.021824,
     "end_time": "2022-07-12T13:07:25.083351",
     "exception": false,
     "start_time": "2022-07-12T13:07:25.061527",
     "status": "completed"
    },
    "tags": []
   },
   "outputs": [
    {
     "data": {
      "text/html": [
       "'/opt/data/data/phenomexcan/ld_blocks/gene_corrs/1000g/mashr/by_chr'"
      ],
      "text/latex": [
       "'/opt/data/data/phenomexcan/ld\\_blocks/gene\\_corrs/1000g/mashr/by\\_chr'"
      ],
      "text/markdown": [
       "'/opt/data/data/phenomexcan/ld_blocks/gene_corrs/1000g/mashr/by_chr'"
      ],
      "text/plain": [
       "[1] \"/opt/data/data/phenomexcan/ld_blocks/gene_corrs/1000g/mashr/by_chr\""
      ]
     },
     "metadata": {},
     "output_type": "display_data"
    }
   ],
   "source": [
    "INPUT_DIR <- file.path(GENE_CORRS_DIR, tolower(REFERENCE_PANEL), tolower(EQTL_MODEL), \"by_chr\")\n",
    "IRdisplay::display(INPUT_DIR)"
   ]
  },
  {
   "cell_type": "code",
   "execution_count": 9,
   "id": "43c1daba-0da9-4822-8d1e-968e9767e251",
   "metadata": {
    "execution": {
     "iopub.execute_input": "2022-07-12T13:07:25.096068Z",
     "iopub.status.busy": "2022-07-12T13:07:25.093995Z",
     "iopub.status.idle": "2022-07-12T13:07:25.112878Z",
     "shell.execute_reply": "2022-07-12T13:07:25.110431Z"
    },
    "papermill": {
     "duration": 0.026819,
     "end_time": "2022-07-12T13:07:25.114962",
     "exception": false,
     "start_time": "2022-07-12T13:07:25.088143",
     "status": "completed"
    },
    "tags": []
   },
   "outputs": [
    {
     "data": {
      "text/html": [
       "'/opt/data/data/phenomexcan/ld_blocks/gene_corrs/1000g/mashr/by_chr/gene_corrs-chr11.pkl'"
      ],
      "text/latex": [
       "'/opt/data/data/phenomexcan/ld\\_blocks/gene\\_corrs/1000g/mashr/by\\_chr/gene\\_corrs-chr11.pkl'"
      ],
      "text/markdown": [
       "'/opt/data/data/phenomexcan/ld_blocks/gene_corrs/1000g/mashr/by_chr/gene_corrs-chr11.pkl'"
      ],
      "text/plain": [
       "[1] \"/opt/data/data/phenomexcan/ld_blocks/gene_corrs/1000g/mashr/by_chr/gene_corrs-chr11.pkl\""
      ]
     },
     "metadata": {},
     "output_type": "display_data"
    }
   ],
   "source": [
    "INPUT_FILE <- file.path(INPUT_DIR, paste0(\"gene_corrs-chr\", chromosome, \".pkl\"))\n",
    "IRdisplay::display(INPUT_FILE)\n",
    "stopifnot(file.exists(INPUT_FILE))"
   ]
  },
  {
   "cell_type": "code",
   "execution_count": 10,
   "id": "72386fbf-982b-420a-9057-ea9a97a5e571",
   "metadata": {
    "execution": {
     "iopub.execute_input": "2022-07-12T13:07:25.126791Z",
     "iopub.status.busy": "2022-07-12T13:07:25.125510Z",
     "iopub.status.idle": "2022-07-12T13:07:25.141681Z",
     "shell.execute_reply": "2022-07-12T13:07:25.140385Z"
    },
    "papermill": {
     "duration": 0.023809,
     "end_time": "2022-07-12T13:07:25.143443",
     "exception": false,
     "start_time": "2022-07-12T13:07:25.119634",
     "status": "completed"
    },
    "tags": []
   },
   "outputs": [
    {
     "data": {
      "text/html": [
       "'/opt/data/data/phenomexcan/ld_blocks/gene_corrs/1000g/mashr/by_chr/corrected_positive_definite'"
      ],
      "text/latex": [
       "'/opt/data/data/phenomexcan/ld\\_blocks/gene\\_corrs/1000g/mashr/by\\_chr/corrected\\_positive\\_definite'"
      ],
      "text/markdown": [
       "'/opt/data/data/phenomexcan/ld_blocks/gene_corrs/1000g/mashr/by_chr/corrected_positive_definite'"
      ],
      "text/plain": [
       "[1] \"/opt/data/data/phenomexcan/ld_blocks/gene_corrs/1000g/mashr/by_chr/corrected_positive_definite\""
      ]
     },
     "metadata": {},
     "output_type": "display_data"
    }
   ],
   "source": [
    "OUTPUT_DIR <- file.path(INPUT_DIR, \"corrected_positive_definite\")\n",
    "IRdisplay::display(OUTPUT_DIR)\n",
    "dir.create(OUTPUT_DIR, recursive = TRUE, showWarnings = FALSE)"
   ]
  },
  {
   "cell_type": "code",
   "execution_count": 11,
   "id": "f9f19d1d-ce4c-4099-a26e-250fec751de7",
   "metadata": {
    "execution": {
     "iopub.execute_input": "2022-07-12T13:07:25.155192Z",
     "iopub.status.busy": "2022-07-12T13:07:25.154012Z",
     "iopub.status.idle": "2022-07-12T13:07:25.169340Z",
     "shell.execute_reply": "2022-07-12T13:07:25.168090Z"
    },
    "papermill": {
     "duration": 0.02286,
     "end_time": "2022-07-12T13:07:25.171149",
     "exception": false,
     "start_time": "2022-07-12T13:07:25.148289",
     "status": "completed"
    },
    "tags": []
   },
   "outputs": [
    {
     "data": {
      "text/html": [
       "'/opt/data/data/phenomexcan/ld_blocks/gene_corrs/1000g/mashr/by_chr/corrected_positive_definite/gene_corrs-chr11.pkl'"
      ],
      "text/latex": [
       "'/opt/data/data/phenomexcan/ld\\_blocks/gene\\_corrs/1000g/mashr/by\\_chr/corrected\\_positive\\_definite/gene\\_corrs-chr11.pkl'"
      ],
      "text/markdown": [
       "'/opt/data/data/phenomexcan/ld_blocks/gene_corrs/1000g/mashr/by_chr/corrected_positive_definite/gene_corrs-chr11.pkl'"
      ],
      "text/plain": [
       "[1] \"/opt/data/data/phenomexcan/ld_blocks/gene_corrs/1000g/mashr/by_chr/corrected_positive_definite/gene_corrs-chr11.pkl\""
      ]
     },
     "metadata": {},
     "output_type": "display_data"
    }
   ],
   "source": [
    "OUTPUT_FILE <- file.path(OUTPUT_DIR, paste0(\"gene_corrs-chr\", chromosome, \".pkl\"))\n",
    "IRdisplay::display(OUTPUT_FILE)\n",
    "if (file.exists(OUTPUT_FILE)) {\n",
    "  IRdisplay::display(\"Output file exists, it will be overwritten\")\n",
    "}"
   ]
  },
  {
   "cell_type": "markdown",
   "id": "24973e62-e888-4b56-843f-489d8d0762b5",
   "metadata": {
    "papermill": {
     "duration": 0.004672,
     "end_time": "2022-07-12T13:07:25.180498",
     "exception": false,
     "start_time": "2022-07-12T13:07:25.175826",
     "status": "completed"
    },
    "tags": []
   },
   "source": [
    "# Functions"
   ]
  },
  {
   "cell_type": "code",
   "execution_count": 12,
   "id": "f828f081-7358-4cc8-8a89-1ee293bcc1a7",
   "metadata": {
    "execution": {
     "iopub.execute_input": "2022-07-12T13:07:25.195336Z",
     "iopub.status.busy": "2022-07-12T13:07:25.191016Z",
     "iopub.status.idle": "2022-07-12T13:07:25.204530Z",
     "shell.execute_reply": "2022-07-12T13:07:25.203255Z"
    },
    "papermill": {
     "duration": 0.02136,
     "end_time": "2022-07-12T13:07:25.206629",
     "exception": false,
     "start_time": "2022-07-12T13:07:25.185269",
     "status": "completed"
    },
    "tags": []
   },
   "outputs": [],
   "source": [
    "# taken from https://www.r-bloggers.com/2013/08/correcting-a-pseudo-correlation-matrix-to-be-positive-semidefinite/\n",
    "# TODO: add documentation\n",
    "CorrectCM <- function(CM, p = 0) {\n",
    "  n <- dim(var(CM))[1L]\n",
    "  E <- eigen(CM)\n",
    "  CM1 <- E$vectors %*% tcrossprod(diag(pmax(E$values, p), n), E$vectors)\n",
    "  Balance <- diag(1 / sqrt(diag(CM1)))\n",
    "  CM2 <- Balance %*% CM1 %*% Balance\n",
    "  return(CM2)\n",
    "}"
   ]
  },
  {
   "cell_type": "code",
   "execution_count": 13,
   "id": "7ab9bebf-50a1-4e6f-b16a-e23cae93d02a",
   "metadata": {
    "execution": {
     "iopub.execute_input": "2022-07-12T13:07:25.217800Z",
     "iopub.status.busy": "2022-07-12T13:07:25.216755Z",
     "iopub.status.idle": "2022-07-12T13:07:25.225854Z",
     "shell.execute_reply": "2022-07-12T13:07:25.224632Z"
    },
    "papermill": {
     "duration": 0.016389,
     "end_time": "2022-07-12T13:07:25.227606",
     "exception": false,
     "start_time": "2022-07-12T13:07:25.211217",
     "status": "completed"
    },
    "tags": []
   },
   "outputs": [],
   "source": [
    "is_positive_definite <- function(data) {\n",
    "  # eigenvalues <- eigen(data)$values\n",
    "  # nonpositive_eigenvalues <- eigenvalues[eigenvalues <= 0]\n",
    "\n",
    "  cholStatus <- try(u <- chol(data), silent = FALSE)\n",
    "  cholError <- ifelse(class(cholStatus) == \"try-error\", TRUE, FALSE)\n",
    "\n",
    "  if (cholError) {\n",
    "    return(FALSE)\n",
    "  } else {\n",
    "    return(TRUE)\n",
    "  }\n",
    "}"
   ]
  },
  {
   "cell_type": "markdown",
   "id": "7403fd78-00b2-4941-9c07-3c3af1ddc636",
   "metadata": {
    "papermill": {
     "duration": 0.004253,
     "end_time": "2022-07-12T13:07:25.236941",
     "exception": false,
     "start_time": "2022-07-12T13:07:25.232688",
     "status": "completed"
    },
    "tags": []
   },
   "source": [
    "# Load data"
   ]
  },
  {
   "cell_type": "code",
   "execution_count": 14,
   "id": "3a7744e1-2e5a-450e-9dcf-945ec181347d",
   "metadata": {
    "execution": {
     "iopub.execute_input": "2022-07-12T13:07:25.247364Z",
     "iopub.status.busy": "2022-07-12T13:07:25.246344Z",
     "iopub.status.idle": "2022-07-12T13:07:25.310840Z",
     "shell.execute_reply": "2022-07-12T13:07:25.309642Z"
    },
    "papermill": {
     "duration": 0.071304,
     "end_time": "2022-07-12T13:07:25.312540",
     "exception": false,
     "start_time": "2022-07-12T13:07:25.241236",
     "status": "completed"
    },
    "tags": []
   },
   "outputs": [],
   "source": [
    "gene_corrs <- pd$read_pickle(INPUT_FILE)"
   ]
  },
  {
   "cell_type": "code",
   "execution_count": 15,
   "id": "6fb150b2-4c68-4e9b-9aa5-1890d3f762e3",
   "metadata": {
    "execution": {
     "iopub.execute_input": "2022-07-12T13:07:25.323487Z",
     "iopub.status.busy": "2022-07-12T13:07:25.322452Z",
     "iopub.status.idle": "2022-07-12T13:07:25.333881Z",
     "shell.execute_reply": "2022-07-12T13:07:25.332670Z"
    },
    "papermill": {
     "duration": 0.018481,
     "end_time": "2022-07-12T13:07:25.335591",
     "exception": false,
     "start_time": "2022-07-12T13:07:25.317110",
     "status": "completed"
    },
    "tags": []
   },
   "outputs": [
    {
     "data": {
      "text/html": [
       "<style>\n",
       ".list-inline {list-style: none; margin:0; padding: 0}\n",
       ".list-inline>li {display: inline-block}\n",
       ".list-inline>li:not(:last-child)::after {content: \"\\00b7\"; padding: 0 .5ex}\n",
       "</style>\n",
       "<ol class=list-inline><li>387</li><li>387</li></ol>\n"
      ],
      "text/latex": [
       "\\begin{enumerate*}\n",
       "\\item 387\n",
       "\\item 387\n",
       "\\end{enumerate*}\n"
      ],
      "text/markdown": [
       "1. 387\n",
       "2. 387\n",
       "\n",
       "\n"
      ],
      "text/plain": [
       "[1] 387 387"
      ]
     },
     "metadata": {},
     "output_type": "display_data"
    }
   ],
   "source": [
    "dim(gene_corrs)"
   ]
  },
  {
   "cell_type": "code",
   "execution_count": 16,
   "id": "0d4e53b5-7586-4a68-8ce5-d930d74ba943",
   "metadata": {
    "execution": {
     "iopub.execute_input": "2022-07-12T13:07:25.346900Z",
     "iopub.status.busy": "2022-07-12T13:07:25.345854Z",
     "iopub.status.idle": "2022-07-12T13:07:25.366647Z",
     "shell.execute_reply": "2022-07-12T13:07:25.365434Z"
    },
    "papermill": {
     "duration": 0.028095,
     "end_time": "2022-07-12T13:07:25.368384",
     "exception": false,
     "start_time": "2022-07-12T13:07:25.340289",
     "status": "completed"
    },
    "tags": []
   },
   "outputs": [
    {
     "data": {
      "text/html": [
       "<table class=\"dataframe\">\n",
       "<caption>A data.frame: 6 × 10</caption>\n",
       "<thead>\n",
       "\t<tr><th></th><th scope=col>ENSG00000177951</th><th scope=col>ENSG00000142082</th><th scope=col>ENSG00000185627</th><th scope=col>ENSG00000185201</th><th scope=col>ENSG00000185885</th><th scope=col>ENSG00000142089</th><th scope=col>ENSG00000185187</th><th scope=col>ENSG00000174915</th><th scope=col>ENSG00000174775</th><th scope=col>ENSG00000185507</th></tr>\n",
       "\t<tr><th></th><th scope=col>&lt;dbl&gt;</th><th scope=col>&lt;dbl&gt;</th><th scope=col>&lt;dbl&gt;</th><th scope=col>&lt;dbl&gt;</th><th scope=col>&lt;dbl&gt;</th><th scope=col>&lt;dbl&gt;</th><th scope=col>&lt;dbl&gt;</th><th scope=col>&lt;dbl&gt;</th><th scope=col>&lt;dbl&gt;</th><th scope=col>&lt;dbl&gt;</th></tr>\n",
       "</thead>\n",
       "<tbody>\n",
       "\t<tr><th scope=row>ENSG00000177951</th><td>1.00000000</td><td>0.65016430</td><td>0.368633421</td><td>0.027438349</td><td>0.034184289</td><td>0.042160520</td><td>0.024643373</td><td>0.013066360</td><td>0.008997865</td><td>0.019275807</td></tr>\n",
       "\t<tr><th scope=row>ENSG00000142082</th><td>0.65016430</td><td>1.00000000</td><td>0.497737996</td><td>0.023876339</td><td>0.032387455</td><td>0.040001792</td><td>0.020308102</td><td>0.007991734</td><td>0.006318134</td><td>0.012884593</td></tr>\n",
       "\t<tr><th scope=row>ENSG00000185627</th><td>0.36863342</td><td>0.49773800</td><td>1.000000000</td><td>0.004245929</td><td>0.002988533</td><td>0.007482132</td><td>0.001871539</td><td>0.002354053</td><td>0.002784756</td><td>0.004509935</td></tr>\n",
       "\t<tr><th scope=row>ENSG00000185201</th><td>0.02743835</td><td>0.02387634</td><td>0.004245929</td><td>1.000000000</td><td>0.352130627</td><td>0.319249880</td><td>0.014194959</td><td>0.015451824</td><td>0.012130742</td><td>0.018634432</td></tr>\n",
       "\t<tr><th scope=row>ENSG00000185885</th><td>0.03418429</td><td>0.03238746</td><td>0.002988533</td><td>0.352130627</td><td>1.000000000</td><td>0.423384542</td><td>0.022931724</td><td>0.019608184</td><td>0.022478339</td><td>0.024738363</td></tr>\n",
       "\t<tr><th scope=row>ENSG00000142089</th><td>0.04216052</td><td>0.04000179</td><td>0.007482132</td><td>0.319249880</td><td>0.423384542</td><td>1.000000000</td><td>0.020262312</td><td>0.021287045</td><td>0.009602914</td><td>0.038486181</td></tr>\n",
       "</tbody>\n",
       "</table>\n"
      ],
      "text/latex": [
       "A data.frame: 6 × 10\n",
       "\\begin{tabular}{r|llllllllll}\n",
       "  & ENSG00000177951 & ENSG00000142082 & ENSG00000185627 & ENSG00000185201 & ENSG00000185885 & ENSG00000142089 & ENSG00000185187 & ENSG00000174915 & ENSG00000174775 & ENSG00000185507\\\\\n",
       "  & <dbl> & <dbl> & <dbl> & <dbl> & <dbl> & <dbl> & <dbl> & <dbl> & <dbl> & <dbl>\\\\\n",
       "\\hline\n",
       "\tENSG00000177951 & 1.00000000 & 0.65016430 & 0.368633421 & 0.027438349 & 0.034184289 & 0.042160520 & 0.024643373 & 0.013066360 & 0.008997865 & 0.019275807\\\\\n",
       "\tENSG00000142082 & 0.65016430 & 1.00000000 & 0.497737996 & 0.023876339 & 0.032387455 & 0.040001792 & 0.020308102 & 0.007991734 & 0.006318134 & 0.012884593\\\\\n",
       "\tENSG00000185627 & 0.36863342 & 0.49773800 & 1.000000000 & 0.004245929 & 0.002988533 & 0.007482132 & 0.001871539 & 0.002354053 & 0.002784756 & 0.004509935\\\\\n",
       "\tENSG00000185201 & 0.02743835 & 0.02387634 & 0.004245929 & 1.000000000 & 0.352130627 & 0.319249880 & 0.014194959 & 0.015451824 & 0.012130742 & 0.018634432\\\\\n",
       "\tENSG00000185885 & 0.03418429 & 0.03238746 & 0.002988533 & 0.352130627 & 1.000000000 & 0.423384542 & 0.022931724 & 0.019608184 & 0.022478339 & 0.024738363\\\\\n",
       "\tENSG00000142089 & 0.04216052 & 0.04000179 & 0.007482132 & 0.319249880 & 0.423384542 & 1.000000000 & 0.020262312 & 0.021287045 & 0.009602914 & 0.038486181\\\\\n",
       "\\end{tabular}\n"
      ],
      "text/markdown": [
       "\n",
       "A data.frame: 6 × 10\n",
       "\n",
       "| <!--/--> | ENSG00000177951 &lt;dbl&gt; | ENSG00000142082 &lt;dbl&gt; | ENSG00000185627 &lt;dbl&gt; | ENSG00000185201 &lt;dbl&gt; | ENSG00000185885 &lt;dbl&gt; | ENSG00000142089 &lt;dbl&gt; | ENSG00000185187 &lt;dbl&gt; | ENSG00000174915 &lt;dbl&gt; | ENSG00000174775 &lt;dbl&gt; | ENSG00000185507 &lt;dbl&gt; |\n",
       "|---|---|---|---|---|---|---|---|---|---|---|\n",
       "| ENSG00000177951 | 1.00000000 | 0.65016430 | 0.368633421 | 0.027438349 | 0.034184289 | 0.042160520 | 0.024643373 | 0.013066360 | 0.008997865 | 0.019275807 |\n",
       "| ENSG00000142082 | 0.65016430 | 1.00000000 | 0.497737996 | 0.023876339 | 0.032387455 | 0.040001792 | 0.020308102 | 0.007991734 | 0.006318134 | 0.012884593 |\n",
       "| ENSG00000185627 | 0.36863342 | 0.49773800 | 1.000000000 | 0.004245929 | 0.002988533 | 0.007482132 | 0.001871539 | 0.002354053 | 0.002784756 | 0.004509935 |\n",
       "| ENSG00000185201 | 0.02743835 | 0.02387634 | 0.004245929 | 1.000000000 | 0.352130627 | 0.319249880 | 0.014194959 | 0.015451824 | 0.012130742 | 0.018634432 |\n",
       "| ENSG00000185885 | 0.03418429 | 0.03238746 | 0.002988533 | 0.352130627 | 1.000000000 | 0.423384542 | 0.022931724 | 0.019608184 | 0.022478339 | 0.024738363 |\n",
       "| ENSG00000142089 | 0.04216052 | 0.04000179 | 0.007482132 | 0.319249880 | 0.423384542 | 1.000000000 | 0.020262312 | 0.021287045 | 0.009602914 | 0.038486181 |\n",
       "\n"
      ],
      "text/plain": [
       "                ENSG00000177951 ENSG00000142082 ENSG00000185627 ENSG00000185201\n",
       "ENSG00000177951 1.00000000      0.65016430      0.368633421     0.027438349    \n",
       "ENSG00000142082 0.65016430      1.00000000      0.497737996     0.023876339    \n",
       "ENSG00000185627 0.36863342      0.49773800      1.000000000     0.004245929    \n",
       "ENSG00000185201 0.02743835      0.02387634      0.004245929     1.000000000    \n",
       "ENSG00000185885 0.03418429      0.03238746      0.002988533     0.352130627    \n",
       "ENSG00000142089 0.04216052      0.04000179      0.007482132     0.319249880    \n",
       "                ENSG00000185885 ENSG00000142089 ENSG00000185187 ENSG00000174915\n",
       "ENSG00000177951 0.034184289     0.042160520     0.024643373     0.013066360    \n",
       "ENSG00000142082 0.032387455     0.040001792     0.020308102     0.007991734    \n",
       "ENSG00000185627 0.002988533     0.007482132     0.001871539     0.002354053    \n",
       "ENSG00000185201 0.352130627     0.319249880     0.014194959     0.015451824    \n",
       "ENSG00000185885 1.000000000     0.423384542     0.022931724     0.019608184    \n",
       "ENSG00000142089 0.423384542     1.000000000     0.020262312     0.021287045    \n",
       "                ENSG00000174775 ENSG00000185507\n",
       "ENSG00000177951 0.008997865     0.019275807    \n",
       "ENSG00000142082 0.006318134     0.012884593    \n",
       "ENSG00000185627 0.002784756     0.004509935    \n",
       "ENSG00000185201 0.012130742     0.018634432    \n",
       "ENSG00000185885 0.022478339     0.024738363    \n",
       "ENSG00000142089 0.009602914     0.038486181    "
      ]
     },
     "metadata": {},
     "output_type": "display_data"
    }
   ],
   "source": [
    "head(gene_corrs[1:10, 1:10])"
   ]
  },
  {
   "cell_type": "markdown",
   "id": "d6cbc88a-2c90-4d11-b7dd-434f046fd03c",
   "metadata": {
    "papermill": {
     "duration": 0.004606,
     "end_time": "2022-07-12T13:07:25.377833",
     "exception": false,
     "start_time": "2022-07-12T13:07:25.373227",
     "status": "completed"
    },
    "tags": []
   },
   "source": [
    "# Check positive definiteness"
   ]
  },
  {
   "cell_type": "code",
   "execution_count": 17,
   "id": "a858a061-7c5a-4a6b-8026-fe4de50c1f26",
   "metadata": {
    "execution": {
     "iopub.execute_input": "2022-07-12T13:07:25.389310Z",
     "iopub.status.busy": "2022-07-12T13:07:25.388293Z",
     "iopub.status.idle": "2022-07-12T13:07:25.405609Z",
     "shell.execute_reply": "2022-07-12T13:07:25.402097Z"
    },
    "papermill": {
     "duration": 0.024791,
     "end_time": "2022-07-12T13:07:25.407429",
     "exception": false,
     "start_time": "2022-07-12T13:07:25.382638",
     "status": "completed"
    },
    "tags": []
   },
   "outputs": [],
   "source": [
    "orig_matrix_is_positive_definite <- is_positive_definite(gene_corrs)"
   ]
  },
  {
   "cell_type": "code",
   "execution_count": 18,
   "id": "410ee452-488f-4518-b93a-2acd608ba99c",
   "metadata": {
    "execution": {
     "iopub.execute_input": "2022-07-12T13:07:25.425681Z",
     "iopub.status.busy": "2022-07-12T13:07:25.424625Z",
     "iopub.status.idle": "2022-07-12T13:07:25.452575Z",
     "shell.execute_reply": "2022-07-12T13:07:25.449468Z"
    },
    "papermill": {
     "duration": 0.040249,
     "end_time": "2022-07-12T13:07:25.454267",
     "exception": false,
     "start_time": "2022-07-12T13:07:25.414018",
     "status": "completed"
    },
    "tags": []
   },
   "outputs": [
    {
     "data": {
      "text/html": [
       "'Matrix is already positive definite!'"
      ],
      "text/latex": [
       "'Matrix is already positive definite!'"
      ],
      "text/markdown": [
       "'Matrix is already positive definite!'"
      ],
      "text/plain": [
       "[1] \"Matrix is already positive definite!\""
      ]
     },
     "metadata": {},
     "output_type": "display_data"
    },
    {
     "data": {
      "text/html": [
       "TRUE"
      ],
      "text/latex": [
       "TRUE"
      ],
      "text/markdown": [
       "TRUE"
      ],
      "text/plain": [
       "[1] TRUE"
      ]
     },
     "metadata": {},
     "output_type": "display_data"
    }
   ],
   "source": [
    "if (orig_matrix_is_positive_definite) {\n",
    "  IRdisplay::display(\"Matrix is already positive definite!\")\n",
    "  file.copy(INPUT_FILE, OUTPUT_FILE)\n",
    "} else {\n",
    "  IRdisplay::display(\"We need to correct the data and make the matrix positive definite\")\n",
    "\n",
    "  eigenvalues <- eigen(gene_corrs)$values\n",
    "  nonpositive_eigenvalues <- eigenvalues[eigenvalues <= 0]\n",
    "  IRdisplay::display(length(nonpositive_eigenvalues))\n",
    "  IRdisplay::display(nonpositive_eigenvalues)\n",
    "\n",
    "  # Make matrix positive definite\n",
    "  gene_corrs_corrected <- CorrectCM(gene_corrs, 1e-10)\n",
    "  dimnames(gene_corrs_corrected)[[1]] <- rownames(gene_corrs)\n",
    "  dimnames(gene_corrs_corrected)[[2]] <- colnames(gene_corrs)\n",
    "  gene_corrs_corrected <- as.data.frame(gene_corrs_corrected)\n",
    "\n",
    "  # check if new matrix is really positive definite\n",
    "  matrix_is_positive_definite <- is_positive_definite(gene_corrs_corrected)\n",
    "  if (matrix_is_positive_definite) {\n",
    "    IRdisplay::display(\"It worked!\")\n",
    "    IRdisplay::display(head(gene_corrs[1:10, 1:10]))\n",
    "    IRdisplay::display(head(gene_corrs_corrected[1:10, 1:10]))\n",
    "    py_save_object(gene_corrs_corrected, OUTPUT_FILE)\n",
    "  } else {\n",
    "    eigenvalues <- eigen(gene_corrs_corrected)$values\n",
    "    nonpositive_eigenvalues <- eigenvalues[eigenvalues <= 0]\n",
    "    IRdisplay::display(length(nonpositive_eigenvalues))\n",
    "    IRdisplay::display(nonpositive_eigenvalues)\n",
    "\n",
    "    stop(\"Method failed to adjust matrix\")\n",
    "  }\n",
    "}"
   ]
  },
  {
   "cell_type": "markdown",
   "id": "6c196700-7491-462f-bab8-ab9d40c63499",
   "metadata": {
    "papermill": {
     "duration": 0.009301,
     "end_time": "2022-07-12T13:07:25.470156",
     "exception": false,
     "start_time": "2022-07-12T13:07:25.460855",
     "status": "completed"
    },
    "tags": []
   },
   "source": [
    "Both matrices should \"look\" similar. We are not interested in perfectly accurate correlation values (they are already inaccurate)."
   ]
  },
  {
   "cell_type": "code",
   "execution_count": null,
   "id": "d8ae4220-2171-460c-9231-cd5219f3fe77",
   "metadata": {
    "papermill": {
     "duration": 0.005897,
     "end_time": "2022-07-12T13:07:25.485894",
     "exception": false,
     "start_time": "2022-07-12T13:07:25.479997",
     "status": "completed"
    },
    "tags": []
   },
   "outputs": [],
   "source": []
  }
 ],
 "metadata": {
  "jupytext": {
   "cell_metadata_filter": "all,-execution,-papermill,-trusted"
  },
  "kernelspec": {
   "display_name": "R",
   "language": "R",
   "name": "ir"
  },
  "language_info": {
   "codemirror_mode": "r",
   "file_extension": ".r",
   "mimetype": "text/x-r-source",
   "name": "R",
   "pygments_lexer": "r",
   "version": "3.6.3"
  },
  "papermill": {
   "default_parameters": {},
   "duration": 5.425531,
   "end_time": "2022-07-12T13:07:25.608300",
   "environment_variables": {},
   "exception": null,
   "input_path": "nbs/15_gsa_gls/12-gene_expr_correlations-adjust.ipynb",
   "output_path": "nbs/15_gsa_gls/gene_corrs/1000g/mashr/12-gene_expr_correlations-adjust-chr11.run.ipynb",
   "parameters": {
    "EQTL_MODEL": "MASHR",
    "REFERENCE_PANEL": "1000G",
    "chromosome": 11
   },
   "start_time": "2022-07-12T13:07:20.182769",
   "version": "2.3.4"
  }
 },
 "nbformat": 4,
 "nbformat_minor": 5
}
