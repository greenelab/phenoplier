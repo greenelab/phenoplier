{
 "cells": [
  {
   "cell_type": "markdown",
   "id": "28fc82fa-c3f6-4184-8054-cc91c7c6e2e7",
   "metadata": {
    "papermill": {
     "duration": 0.003786,
     "end_time": "2022-07-11T13:17:52.117435",
     "exception": false,
     "start_time": "2022-07-11T13:17:52.113649",
     "status": "completed"
    },
    "tags": []
   },
   "source": [
    "# Description"
   ]
  },
  {
   "cell_type": "markdown",
   "id": "36839b17-916e-4aec-8fee-96faf1097e78",
   "metadata": {
    "papermill": {
     "duration": 0.003068,
     "end_time": "2022-07-11T13:17:52.123725",
     "exception": false,
     "start_time": "2022-07-11T13:17:52.120657",
     "status": "completed"
    },
    "tags": []
   },
   "source": [
    "**TODO**"
   ]
  },
  {
   "cell_type": "markdown",
   "id": "249e8aa3-ef1a-4bba-a6dd-58120ad80794",
   "metadata": {
    "papermill": {
     "duration": 0.003089,
     "end_time": "2022-07-11T13:17:52.130139",
     "exception": false,
     "start_time": "2022-07-11T13:17:52.127050",
     "status": "completed"
    },
    "tags": []
   },
   "source": [
    "# Modules"
   ]
  },
  {
   "cell_type": "code",
   "execution_count": 1,
   "id": "f9b5022b-7c5e-4d37-9c7a-fdb91777c7f9",
   "metadata": {
    "execution": {
     "iopub.execute_input": "2022-07-11T13:17:52.164872Z",
     "iopub.status.busy": "2022-07-11T13:17:52.163173Z",
     "iopub.status.idle": "2022-07-11T13:17:55.440763Z",
     "shell.execute_reply": "2022-07-11T13:17:55.439372Z"
    },
    "papermill": {
     "duration": 3.309554,
     "end_time": "2022-07-11T13:17:55.442958",
     "exception": false,
     "start_time": "2022-07-11T13:17:52.133404",
     "status": "completed"
    },
    "tags": []
   },
   "outputs": [],
   "source": [
    "library(reticulate)\n",
    "pd <- import(\"pandas\")"
   ]
  },
  {
   "cell_type": "markdown",
   "id": "69e80173-3a39-4b6a-b723-602687cb255b",
   "metadata": {
    "papermill": {
     "duration": 0.003584,
     "end_time": "2022-07-11T13:17:55.450376",
     "exception": false,
     "start_time": "2022-07-11T13:17:55.446792",
     "status": "completed"
    },
    "tags": []
   },
   "source": [
    "# Settings"
   ]
  },
  {
   "cell_type": "code",
   "execution_count": 2,
   "id": "22d12bb4-1699-4a6b-b1b9-d3fdd3d547d7",
   "metadata": {
    "execution": {
     "iopub.execute_input": "2022-07-11T13:17:55.482218Z",
     "iopub.status.busy": "2022-07-11T13:17:55.458805Z",
     "iopub.status.idle": "2022-07-11T13:17:55.494623Z",
     "shell.execute_reply": "2022-07-11T13:17:55.493387Z"
    },
    "papermill": {
     "duration": 0.042389,
     "end_time": "2022-07-11T13:17:55.496398",
     "exception": false,
     "start_time": "2022-07-11T13:17:55.454009",
     "status": "completed"
    },
    "tags": [
     "parameters"
    ]
   },
   "outputs": [],
   "source": [
    "# reference panel\n",
    "REFERENCE_PANEL <- \"GTEX_V8\"\n",
    "# REFERENCE_PANEL = \"1000G\"\n",
    "\n",
    "# prediction models\n",
    "## mashr\n",
    "EQTL_MODEL <- \"MASHR\"\n",
    "\n",
    "chromosome <- NULL"
   ]
  },
  {
   "cell_type": "code",
   "execution_count": 3,
   "id": "96c77578",
   "metadata": {
    "execution": {
     "iopub.execute_input": "2022-07-11T13:17:55.506280Z",
     "iopub.status.busy": "2022-07-11T13:17:55.505178Z",
     "iopub.status.idle": "2022-07-11T13:17:55.523125Z",
     "shell.execute_reply": "2022-07-11T13:17:55.521917Z"
    },
    "papermill": {
     "duration": 0.024913,
     "end_time": "2022-07-11T13:17:55.524924",
     "exception": false,
     "start_time": "2022-07-11T13:17:55.500011",
     "status": "completed"
    },
    "tags": [
     "injected-parameters"
    ]
   },
   "outputs": [],
   "source": [
    "# Parameters\n",
    "chromosome = 14\n",
    "REFERENCE_PANEL = \"1000G\"\n",
    "EQTL_MODEL = \"MASHR\"\n"
   ]
  },
  {
   "cell_type": "code",
   "execution_count": 4,
   "id": "8fe24bef",
   "metadata": {
    "execution": {
     "iopub.execute_input": "2022-07-11T13:17:55.534367Z",
     "iopub.status.busy": "2022-07-11T13:17:55.533202Z",
     "iopub.status.idle": "2022-07-11T13:17:55.546782Z",
     "shell.execute_reply": "2022-07-11T13:17:55.545488Z"
    },
    "papermill": {
     "duration": 0.020158,
     "end_time": "2022-07-11T13:17:55.548718",
     "exception": false,
     "start_time": "2022-07-11T13:17:55.528560",
     "status": "completed"
    },
    "tags": []
   },
   "outputs": [
    {
     "data": {
      "text/html": [
       "'Using reference panel: 1000G'"
      ],
      "text/latex": [
       "'Using reference panel: 1000G'"
      ],
      "text/markdown": [
       "'Using reference panel: 1000G'"
      ],
      "text/plain": [
       "[1] \"Using reference panel: 1000G\""
      ]
     },
     "metadata": {},
     "output_type": "display_data"
    }
   ],
   "source": [
    "paste0(\"Using reference panel: \", REFERENCE_PANEL)"
   ]
  },
  {
   "cell_type": "code",
   "execution_count": 5,
   "id": "d62c28f8-186c-478b-948c-58e14f00df4b",
   "metadata": {
    "execution": {
     "iopub.execute_input": "2022-07-11T13:17:55.559882Z",
     "iopub.status.busy": "2022-07-11T13:17:55.558746Z",
     "iopub.status.idle": "2022-07-11T13:17:55.572261Z",
     "shell.execute_reply": "2022-07-11T13:17:55.570777Z"
    },
    "papermill": {
     "duration": 0.021021,
     "end_time": "2022-07-11T13:17:55.574483",
     "exception": false,
     "start_time": "2022-07-11T13:17:55.553462",
     "status": "completed"
    },
    "tags": []
   },
   "outputs": [
    {
     "data": {
      "text/html": [
       "'Using eQTL model: MASHR'"
      ],
      "text/latex": [
       "'Using eQTL model: MASHR'"
      ],
      "text/markdown": [
       "'Using eQTL model: MASHR'"
      ],
      "text/plain": [
       "[1] \"Using eQTL model: MASHR\""
      ]
     },
     "metadata": {},
     "output_type": "display_data"
    }
   ],
   "source": [
    "paste0(\"Using eQTL model: \", EQTL_MODEL)"
   ]
  },
  {
   "cell_type": "code",
   "execution_count": 6,
   "id": "5243676f-c889-4405-9a4d-262f0f044614",
   "metadata": {
    "execution": {
     "iopub.execute_input": "2022-07-11T13:17:55.584815Z",
     "iopub.status.busy": "2022-07-11T13:17:55.583784Z",
     "iopub.status.idle": "2022-07-11T13:17:55.593223Z",
     "shell.execute_reply": "2022-07-11T13:17:55.592063Z"
    },
    "papermill": {
     "duration": 0.016168,
     "end_time": "2022-07-11T13:17:55.594870",
     "exception": false,
     "start_time": "2022-07-11T13:17:55.578702",
     "status": "completed"
    },
    "tags": []
   },
   "outputs": [],
   "source": [
    "# chromosome must be provided as parameter\n",
    "stopifnot(!is.null(chromosome))"
   ]
  },
  {
   "cell_type": "markdown",
   "id": "c05e4d34-e115-48cd-8a2e-225109eb0042",
   "metadata": {
    "papermill": {
     "duration": 0.003689,
     "end_time": "2022-07-11T13:17:55.602243",
     "exception": false,
     "start_time": "2022-07-11T13:17:55.598554",
     "status": "completed"
    },
    "tags": []
   },
   "source": [
    "# Paths"
   ]
  },
  {
   "cell_type": "code",
   "execution_count": 7,
   "id": "eb6aa8aa-b452-4a2f-a780-93dd80ad4285",
   "metadata": {
    "execution": {
     "iopub.execute_input": "2022-07-11T13:17:55.611803Z",
     "iopub.status.busy": "2022-07-11T13:17:55.610667Z",
     "iopub.status.idle": "2022-07-11T13:17:55.623504Z",
     "shell.execute_reply": "2022-07-11T13:17:55.622215Z"
    },
    "papermill": {
     "duration": 0.019318,
     "end_time": "2022-07-11T13:17:55.625237",
     "exception": false,
     "start_time": "2022-07-11T13:17:55.605919",
     "status": "completed"
    },
    "tags": []
   },
   "outputs": [
    {
     "data": {
      "text/html": [
       "'/opt/data/data/phenomexcan/ld_blocks/gene_corrs'"
      ],
      "text/latex": [
       "'/opt/data/data/phenomexcan/ld\\_blocks/gene\\_corrs'"
      ],
      "text/markdown": [
       "'/opt/data/data/phenomexcan/ld_blocks/gene_corrs'"
      ],
      "text/plain": [
       "[1] \"/opt/data/data/phenomexcan/ld_blocks/gene_corrs\""
      ]
     },
     "metadata": {},
     "output_type": "display_data"
    }
   ],
   "source": [
    "GENE_CORRS_DIR <- Sys.getenv(\"PHENOPLIER_PHENOMEXCAN_LD_BLOCKS_GENE_CORRS_DIR\")\n",
    "IRdisplay::display(GENE_CORRS_DIR)"
   ]
  },
  {
   "cell_type": "code",
   "execution_count": 8,
   "id": "eb24f15f-f282-4476-8943-8413c4483f12",
   "metadata": {
    "execution": {
     "iopub.execute_input": "2022-07-11T13:17:55.636286Z",
     "iopub.status.busy": "2022-07-11T13:17:55.635123Z",
     "iopub.status.idle": "2022-07-11T13:17:55.649008Z",
     "shell.execute_reply": "2022-07-11T13:17:55.647703Z"
    },
    "papermill": {
     "duration": 0.021376,
     "end_time": "2022-07-11T13:17:55.650850",
     "exception": false,
     "start_time": "2022-07-11T13:17:55.629474",
     "status": "completed"
    },
    "tags": []
   },
   "outputs": [
    {
     "data": {
      "text/html": [
       "'/opt/data/data/phenomexcan/ld_blocks/gene_corrs/1000g/mashr/by_chr'"
      ],
      "text/latex": [
       "'/opt/data/data/phenomexcan/ld\\_blocks/gene\\_corrs/1000g/mashr/by\\_chr'"
      ],
      "text/markdown": [
       "'/opt/data/data/phenomexcan/ld_blocks/gene_corrs/1000g/mashr/by_chr'"
      ],
      "text/plain": [
       "[1] \"/opt/data/data/phenomexcan/ld_blocks/gene_corrs/1000g/mashr/by_chr\""
      ]
     },
     "metadata": {},
     "output_type": "display_data"
    }
   ],
   "source": [
    "INPUT_DIR <- file.path(GENE_CORRS_DIR, tolower(REFERENCE_PANEL), tolower(EQTL_MODEL), \"by_chr\")\n",
    "IRdisplay::display(INPUT_DIR)"
   ]
  },
  {
   "cell_type": "code",
   "execution_count": 9,
   "id": "43c1daba-0da9-4822-8d1e-968e9767e251",
   "metadata": {
    "execution": {
     "iopub.execute_input": "2022-07-11T13:17:55.661816Z",
     "iopub.status.busy": "2022-07-11T13:17:55.660704Z",
     "iopub.status.idle": "2022-07-11T13:17:55.675889Z",
     "shell.execute_reply": "2022-07-11T13:17:55.674610Z"
    },
    "papermill": {
     "duration": 0.022383,
     "end_time": "2022-07-11T13:17:55.677737",
     "exception": false,
     "start_time": "2022-07-11T13:17:55.655354",
     "status": "completed"
    },
    "tags": []
   },
   "outputs": [
    {
     "data": {
      "text/html": [
       "'/opt/data/data/phenomexcan/ld_blocks/gene_corrs/1000g/mashr/by_chr/gene_corrs-chr14.pkl'"
      ],
      "text/latex": [
       "'/opt/data/data/phenomexcan/ld\\_blocks/gene\\_corrs/1000g/mashr/by\\_chr/gene\\_corrs-chr14.pkl'"
      ],
      "text/markdown": [
       "'/opt/data/data/phenomexcan/ld_blocks/gene_corrs/1000g/mashr/by_chr/gene_corrs-chr14.pkl'"
      ],
      "text/plain": [
       "[1] \"/opt/data/data/phenomexcan/ld_blocks/gene_corrs/1000g/mashr/by_chr/gene_corrs-chr14.pkl\""
      ]
     },
     "metadata": {},
     "output_type": "display_data"
    }
   ],
   "source": [
    "INPUT_FILE <- file.path(INPUT_DIR, paste0(\"gene_corrs-chr\", chromosome, \".pkl\"))\n",
    "IRdisplay::display(INPUT_FILE)\n",
    "stopifnot(file.exists(INPUT_FILE))"
   ]
  },
  {
   "cell_type": "code",
   "execution_count": 10,
   "id": "72386fbf-982b-420a-9057-ea9a97a5e571",
   "metadata": {
    "execution": {
     "iopub.execute_input": "2022-07-11T13:17:55.688760Z",
     "iopub.status.busy": "2022-07-11T13:17:55.687655Z",
     "iopub.status.idle": "2022-07-11T13:17:55.702599Z",
     "shell.execute_reply": "2022-07-11T13:17:55.701367Z"
    },
    "papermill": {
     "duration": 0.022155,
     "end_time": "2022-07-11T13:17:55.704400",
     "exception": false,
     "start_time": "2022-07-11T13:17:55.682245",
     "status": "completed"
    },
    "tags": []
   },
   "outputs": [
    {
     "data": {
      "text/html": [
       "'/opt/data/data/phenomexcan/ld_blocks/gene_corrs/1000g/mashr/by_chr/corrected_positive_definite'"
      ],
      "text/latex": [
       "'/opt/data/data/phenomexcan/ld\\_blocks/gene\\_corrs/1000g/mashr/by\\_chr/corrected\\_positive\\_definite'"
      ],
      "text/markdown": [
       "'/opt/data/data/phenomexcan/ld_blocks/gene_corrs/1000g/mashr/by_chr/corrected_positive_definite'"
      ],
      "text/plain": [
       "[1] \"/opt/data/data/phenomexcan/ld_blocks/gene_corrs/1000g/mashr/by_chr/corrected_positive_definite\""
      ]
     },
     "metadata": {},
     "output_type": "display_data"
    }
   ],
   "source": [
    "OUTPUT_DIR <- file.path(INPUT_DIR, \"corrected_positive_definite\")\n",
    "IRdisplay::display(OUTPUT_DIR)\n",
    "dir.create(OUTPUT_DIR, recursive = TRUE, showWarnings = FALSE)"
   ]
  },
  {
   "cell_type": "code",
   "execution_count": 11,
   "id": "f9f19d1d-ce4c-4099-a26e-250fec751de7",
   "metadata": {
    "execution": {
     "iopub.execute_input": "2022-07-11T13:17:55.715352Z",
     "iopub.status.busy": "2022-07-11T13:17:55.714289Z",
     "iopub.status.idle": "2022-07-11T13:17:55.728617Z",
     "shell.execute_reply": "2022-07-11T13:17:55.727355Z"
    },
    "papermill": {
     "duration": 0.021402,
     "end_time": "2022-07-11T13:17:55.730387",
     "exception": false,
     "start_time": "2022-07-11T13:17:55.708985",
     "status": "completed"
    },
    "tags": []
   },
   "outputs": [
    {
     "data": {
      "text/html": [
       "'/opt/data/data/phenomexcan/ld_blocks/gene_corrs/1000g/mashr/by_chr/corrected_positive_definite/gene_corrs-chr14.pkl'"
      ],
      "text/latex": [
       "'/opt/data/data/phenomexcan/ld\\_blocks/gene\\_corrs/1000g/mashr/by\\_chr/corrected\\_positive\\_definite/gene\\_corrs-chr14.pkl'"
      ],
      "text/markdown": [
       "'/opt/data/data/phenomexcan/ld_blocks/gene_corrs/1000g/mashr/by_chr/corrected_positive_definite/gene_corrs-chr14.pkl'"
      ],
      "text/plain": [
       "[1] \"/opt/data/data/phenomexcan/ld_blocks/gene_corrs/1000g/mashr/by_chr/corrected_positive_definite/gene_corrs-chr14.pkl\""
      ]
     },
     "metadata": {},
     "output_type": "display_data"
    }
   ],
   "source": [
    "OUTPUT_FILE <- file.path(OUTPUT_DIR, paste0(\"gene_corrs-chr\", chromosome, \".pkl\"))\n",
    "IRdisplay::display(OUTPUT_FILE)\n",
    "if (file.exists(OUTPUT_FILE)) {\n",
    "  IRdisplay::display(\"Output file exists, it will be overwritten\")\n",
    "}"
   ]
  },
  {
   "cell_type": "markdown",
   "id": "24973e62-e888-4b56-843f-489d8d0762b5",
   "metadata": {
    "papermill": {
     "duration": 0.004513,
     "end_time": "2022-07-11T13:17:55.739409",
     "exception": false,
     "start_time": "2022-07-11T13:17:55.734896",
     "status": "completed"
    },
    "tags": []
   },
   "source": [
    "# Functions"
   ]
  },
  {
   "cell_type": "code",
   "execution_count": 12,
   "id": "f828f081-7358-4cc8-8a89-1ee293bcc1a7",
   "metadata": {
    "execution": {
     "iopub.execute_input": "2022-07-11T13:17:55.754635Z",
     "iopub.status.busy": "2022-07-11T13:17:55.749965Z",
     "iopub.status.idle": "2022-07-11T13:17:55.764606Z",
     "shell.execute_reply": "2022-07-11T13:17:55.762724Z"
    },
    "papermill": {
     "duration": 0.022471,
     "end_time": "2022-07-11T13:17:55.766518",
     "exception": false,
     "start_time": "2022-07-11T13:17:55.744047",
     "status": "completed"
    },
    "tags": []
   },
   "outputs": [],
   "source": [
    "# taken from https://www.r-bloggers.com/2013/08/correcting-a-pseudo-correlation-matrix-to-be-positive-semidefinite/\n",
    "# TODO: add documentation\n",
    "CorrectCM <- function(CM, p = 0) {\n",
    "  n <- dim(var(CM))[1L]\n",
    "  E <- eigen(CM)\n",
    "  CM1 <- E$vectors %*% tcrossprod(diag(pmax(E$values, p), n), E$vectors)\n",
    "  Balance <- diag(1 / sqrt(diag(CM1)))\n",
    "  CM2 <- Balance %*% CM1 %*% Balance\n",
    "  return(CM2)\n",
    "}"
   ]
  },
  {
   "cell_type": "code",
   "execution_count": 13,
   "id": "7ab9bebf-50a1-4e6f-b16a-e23cae93d02a",
   "metadata": {
    "execution": {
     "iopub.execute_input": "2022-07-11T13:17:55.778677Z",
     "iopub.status.busy": "2022-07-11T13:17:55.777464Z",
     "iopub.status.idle": "2022-07-11T13:17:55.787655Z",
     "shell.execute_reply": "2022-07-11T13:17:55.786429Z"
    },
    "papermill": {
     "duration": 0.017782,
     "end_time": "2022-07-11T13:17:55.789312",
     "exception": false,
     "start_time": "2022-07-11T13:17:55.771530",
     "status": "completed"
    },
    "tags": []
   },
   "outputs": [],
   "source": [
    "is_positive_definite <- function(data) {\n",
    "  # eigenvalues <- eigen(data)$values\n",
    "  # nonpositive_eigenvalues <- eigenvalues[eigenvalues <= 0]\n",
    "\n",
    "  cholStatus <- try(u <- chol(data), silent = FALSE)\n",
    "  cholError <- ifelse(class(cholStatus) == \"try-error\", TRUE, FALSE)\n",
    "\n",
    "  if (cholError) {\n",
    "    return(FALSE)\n",
    "  } else {\n",
    "    return(TRUE)\n",
    "  }\n",
    "}"
   ]
  },
  {
   "cell_type": "markdown",
   "id": "7403fd78-00b2-4941-9c07-3c3af1ddc636",
   "metadata": {
    "papermill": {
     "duration": 0.004252,
     "end_time": "2022-07-11T13:17:55.798700",
     "exception": false,
     "start_time": "2022-07-11T13:17:55.794448",
     "status": "completed"
    },
    "tags": []
   },
   "source": [
    "# Load data"
   ]
  },
  {
   "cell_type": "code",
   "execution_count": 14,
   "id": "3a7744e1-2e5a-450e-9dcf-945ec181347d",
   "metadata": {
    "execution": {
     "iopub.execute_input": "2022-07-11T13:17:55.809494Z",
     "iopub.status.busy": "2022-07-11T13:17:55.808380Z",
     "iopub.status.idle": "2022-07-11T13:17:55.844695Z",
     "shell.execute_reply": "2022-07-11T13:17:55.843501Z"
    },
    "papermill": {
     "duration": 0.043367,
     "end_time": "2022-07-11T13:17:55.846412",
     "exception": false,
     "start_time": "2022-07-11T13:17:55.803045",
     "status": "completed"
    },
    "tags": []
   },
   "outputs": [],
   "source": [
    "gene_corrs <- pd$read_pickle(INPUT_FILE)"
   ]
  },
  {
   "cell_type": "code",
   "execution_count": 15,
   "id": "6fb150b2-4c68-4e9b-9aa5-1890d3f762e3",
   "metadata": {
    "execution": {
     "iopub.execute_input": "2022-07-11T13:17:55.857524Z",
     "iopub.status.busy": "2022-07-11T13:17:55.856450Z",
     "iopub.status.idle": "2022-07-11T13:17:55.868339Z",
     "shell.execute_reply": "2022-07-11T13:17:55.867081Z"
    },
    "papermill": {
     "duration": 0.019218,
     "end_time": "2022-07-11T13:17:55.870136",
     "exception": false,
     "start_time": "2022-07-11T13:17:55.850918",
     "status": "completed"
    },
    "tags": []
   },
   "outputs": [
    {
     "data": {
      "text/html": [
       "<style>\n",
       ".list-inline {list-style: none; margin:0; padding: 0}\n",
       ".list-inline>li {display: inline-block}\n",
       ".list-inline>li:not(:last-child)::after {content: \"\\00b7\"; padding: 0 .5ex}\n",
       "</style>\n",
       "<ol class=list-inline><li>211</li><li>211</li></ol>\n"
      ],
      "text/latex": [
       "\\begin{enumerate*}\n",
       "\\item 211\n",
       "\\item 211\n",
       "\\end{enumerate*}\n"
      ],
      "text/markdown": [
       "1. 211\n",
       "2. 211\n",
       "\n",
       "\n"
      ],
      "text/plain": [
       "[1] 211 211"
      ]
     },
     "metadata": {},
     "output_type": "display_data"
    }
   ],
   "source": [
    "dim(gene_corrs)"
   ]
  },
  {
   "cell_type": "code",
   "execution_count": 16,
   "id": "0d4e53b5-7586-4a68-8ce5-d930d74ba943",
   "metadata": {
    "execution": {
     "iopub.execute_input": "2022-07-11T13:17:55.881764Z",
     "iopub.status.busy": "2022-07-11T13:17:55.880697Z",
     "iopub.status.idle": "2022-07-11T13:17:55.902299Z",
     "shell.execute_reply": "2022-07-11T13:17:55.901071Z"
    },
    "papermill": {
     "duration": 0.02919,
     "end_time": "2022-07-11T13:17:55.904138",
     "exception": false,
     "start_time": "2022-07-11T13:17:55.874948",
     "status": "completed"
    },
    "tags": []
   },
   "outputs": [
    {
     "data": {
      "text/html": [
       "<table class=\"dataframe\">\n",
       "<caption>A data.frame: 6 × 10</caption>\n",
       "<thead>\n",
       "\t<tr><th></th><th scope=col>ENSG00000222036</th><th scope=col>ENSG00000136319</th><th scope=col>ENSG00000129484</th><th scope=col>ENSG00000129566</th><th scope=col>ENSG00000100823</th><th scope=col>ENSG00000198805</th><th scope=col>ENSG00000214274</th><th scope=col>ENSG00000258818</th><th scope=col>ENSG00000169413</th><th scope=col>ENSG00000169397</th></tr>\n",
       "\t<tr><th></th><th scope=col>&lt;dbl&gt;</th><th scope=col>&lt;dbl&gt;</th><th scope=col>&lt;dbl&gt;</th><th scope=col>&lt;dbl&gt;</th><th scope=col>&lt;dbl&gt;</th><th scope=col>&lt;dbl&gt;</th><th scope=col>&lt;dbl&gt;</th><th scope=col>&lt;dbl&gt;</th><th scope=col>&lt;dbl&gt;</th><th scope=col>&lt;dbl&gt;</th></tr>\n",
       "</thead>\n",
       "<tbody>\n",
       "\t<tr><th scope=row>ENSG00000222036</th><td>1</td><td>0.000000000</td><td>0.000000000</td><td>0.00000000</td><td>0.000000000</td><td>0.000000000</td><td>0.000000000</td><td>0.000000000</td><td>0.000000000</td><td>0.000000000</td></tr>\n",
       "\t<tr><th scope=row>ENSG00000136319</th><td>0</td><td>1.000000000</td><td>0.419073852</td><td>0.01666421</td><td>0.012118130</td><td>0.004729213</td><td>0.009858895</td><td>0.007009329</td><td>0.012457998</td><td>0.010864421</td></tr>\n",
       "\t<tr><th scope=row>ENSG00000129484</th><td>0</td><td>0.419073852</td><td>1.000000000</td><td>0.02004900</td><td>0.008023808</td><td>0.006075355</td><td>0.010550233</td><td>0.007815229</td><td>0.007986591</td><td>0.005828492</td></tr>\n",
       "\t<tr><th scope=row>ENSG00000129566</th><td>0</td><td>0.016664213</td><td>0.020049003</td><td>1.00000000</td><td>0.073406209</td><td>0.022525701</td><td>0.012380673</td><td>0.009912054</td><td>0.012394887</td><td>0.005955441</td></tr>\n",
       "\t<tr><th scope=row>ENSG00000100823</th><td>0</td><td>0.012118130</td><td>0.008023808</td><td>0.07340621</td><td>1.000000000</td><td>0.273602524</td><td>0.013556394</td><td>0.009452310</td><td>0.010661468</td><td>0.013564510</td></tr>\n",
       "\t<tr><th scope=row>ENSG00000198805</th><td>0</td><td>0.004729213</td><td>0.006075355</td><td>0.02252570</td><td>0.273602524</td><td>1.000000000</td><td>0.011128975</td><td>0.006021874</td><td>0.012083056</td><td>0.012788936</td></tr>\n",
       "</tbody>\n",
       "</table>\n"
      ],
      "text/latex": [
       "A data.frame: 6 × 10\n",
       "\\begin{tabular}{r|llllllllll}\n",
       "  & ENSG00000222036 & ENSG00000136319 & ENSG00000129484 & ENSG00000129566 & ENSG00000100823 & ENSG00000198805 & ENSG00000214274 & ENSG00000258818 & ENSG00000169413 & ENSG00000169397\\\\\n",
       "  & <dbl> & <dbl> & <dbl> & <dbl> & <dbl> & <dbl> & <dbl> & <dbl> & <dbl> & <dbl>\\\\\n",
       "\\hline\n",
       "\tENSG00000222036 & 1 & 0.000000000 & 0.000000000 & 0.00000000 & 0.000000000 & 0.000000000 & 0.000000000 & 0.000000000 & 0.000000000 & 0.000000000\\\\\n",
       "\tENSG00000136319 & 0 & 1.000000000 & 0.419073852 & 0.01666421 & 0.012118130 & 0.004729213 & 0.009858895 & 0.007009329 & 0.012457998 & 0.010864421\\\\\n",
       "\tENSG00000129484 & 0 & 0.419073852 & 1.000000000 & 0.02004900 & 0.008023808 & 0.006075355 & 0.010550233 & 0.007815229 & 0.007986591 & 0.005828492\\\\\n",
       "\tENSG00000129566 & 0 & 0.016664213 & 0.020049003 & 1.00000000 & 0.073406209 & 0.022525701 & 0.012380673 & 0.009912054 & 0.012394887 & 0.005955441\\\\\n",
       "\tENSG00000100823 & 0 & 0.012118130 & 0.008023808 & 0.07340621 & 1.000000000 & 0.273602524 & 0.013556394 & 0.009452310 & 0.010661468 & 0.013564510\\\\\n",
       "\tENSG00000198805 & 0 & 0.004729213 & 0.006075355 & 0.02252570 & 0.273602524 & 1.000000000 & 0.011128975 & 0.006021874 & 0.012083056 & 0.012788936\\\\\n",
       "\\end{tabular}\n"
      ],
      "text/markdown": [
       "\n",
       "A data.frame: 6 × 10\n",
       "\n",
       "| <!--/--> | ENSG00000222036 &lt;dbl&gt; | ENSG00000136319 &lt;dbl&gt; | ENSG00000129484 &lt;dbl&gt; | ENSG00000129566 &lt;dbl&gt; | ENSG00000100823 &lt;dbl&gt; | ENSG00000198805 &lt;dbl&gt; | ENSG00000214274 &lt;dbl&gt; | ENSG00000258818 &lt;dbl&gt; | ENSG00000169413 &lt;dbl&gt; | ENSG00000169397 &lt;dbl&gt; |\n",
       "|---|---|---|---|---|---|---|---|---|---|---|\n",
       "| ENSG00000222036 | 1 | 0.000000000 | 0.000000000 | 0.00000000 | 0.000000000 | 0.000000000 | 0.000000000 | 0.000000000 | 0.000000000 | 0.000000000 |\n",
       "| ENSG00000136319 | 0 | 1.000000000 | 0.419073852 | 0.01666421 | 0.012118130 | 0.004729213 | 0.009858895 | 0.007009329 | 0.012457998 | 0.010864421 |\n",
       "| ENSG00000129484 | 0 | 0.419073852 | 1.000000000 | 0.02004900 | 0.008023808 | 0.006075355 | 0.010550233 | 0.007815229 | 0.007986591 | 0.005828492 |\n",
       "| ENSG00000129566 | 0 | 0.016664213 | 0.020049003 | 1.00000000 | 0.073406209 | 0.022525701 | 0.012380673 | 0.009912054 | 0.012394887 | 0.005955441 |\n",
       "| ENSG00000100823 | 0 | 0.012118130 | 0.008023808 | 0.07340621 | 1.000000000 | 0.273602524 | 0.013556394 | 0.009452310 | 0.010661468 | 0.013564510 |\n",
       "| ENSG00000198805 | 0 | 0.004729213 | 0.006075355 | 0.02252570 | 0.273602524 | 1.000000000 | 0.011128975 | 0.006021874 | 0.012083056 | 0.012788936 |\n",
       "\n"
      ],
      "text/plain": [
       "                ENSG00000222036 ENSG00000136319 ENSG00000129484 ENSG00000129566\n",
       "ENSG00000222036 1               0.000000000     0.000000000     0.00000000     \n",
       "ENSG00000136319 0               1.000000000     0.419073852     0.01666421     \n",
       "ENSG00000129484 0               0.419073852     1.000000000     0.02004900     \n",
       "ENSG00000129566 0               0.016664213     0.020049003     1.00000000     \n",
       "ENSG00000100823 0               0.012118130     0.008023808     0.07340621     \n",
       "ENSG00000198805 0               0.004729213     0.006075355     0.02252570     \n",
       "                ENSG00000100823 ENSG00000198805 ENSG00000214274 ENSG00000258818\n",
       "ENSG00000222036 0.000000000     0.000000000     0.000000000     0.000000000    \n",
       "ENSG00000136319 0.012118130     0.004729213     0.009858895     0.007009329    \n",
       "ENSG00000129484 0.008023808     0.006075355     0.010550233     0.007815229    \n",
       "ENSG00000129566 0.073406209     0.022525701     0.012380673     0.009912054    \n",
       "ENSG00000100823 1.000000000     0.273602524     0.013556394     0.009452310    \n",
       "ENSG00000198805 0.273602524     1.000000000     0.011128975     0.006021874    \n",
       "                ENSG00000169413 ENSG00000169397\n",
       "ENSG00000222036 0.000000000     0.000000000    \n",
       "ENSG00000136319 0.012457998     0.010864421    \n",
       "ENSG00000129484 0.007986591     0.005828492    \n",
       "ENSG00000129566 0.012394887     0.005955441    \n",
       "ENSG00000100823 0.010661468     0.013564510    \n",
       "ENSG00000198805 0.012083056     0.012788936    "
      ]
     },
     "metadata": {},
     "output_type": "display_data"
    }
   ],
   "source": [
    "head(gene_corrs[1:10, 1:10])"
   ]
  },
  {
   "cell_type": "markdown",
   "id": "d6cbc88a-2c90-4d11-b7dd-434f046fd03c",
   "metadata": {
    "papermill": {
     "duration": 0.004871,
     "end_time": "2022-07-11T13:17:55.914010",
     "exception": false,
     "start_time": "2022-07-11T13:17:55.909139",
     "status": "completed"
    },
    "tags": []
   },
   "source": [
    "# Check positive definiteness"
   ]
  },
  {
   "cell_type": "code",
   "execution_count": 17,
   "id": "a858a061-7c5a-4a6b-8026-fe4de50c1f26",
   "metadata": {
    "execution": {
     "iopub.execute_input": "2022-07-11T13:17:55.925851Z",
     "iopub.status.busy": "2022-07-11T13:17:55.924768Z",
     "iopub.status.idle": "2022-07-11T13:17:55.937727Z",
     "shell.execute_reply": "2022-07-11T13:17:55.936463Z"
    },
    "papermill": {
     "duration": 0.020289,
     "end_time": "2022-07-11T13:17:55.939305",
     "exception": false,
     "start_time": "2022-07-11T13:17:55.919016",
     "status": "completed"
    },
    "tags": []
   },
   "outputs": [],
   "source": [
    "orig_matrix_is_positive_definite <- is_positive_definite(gene_corrs)"
   ]
  },
  {
   "cell_type": "code",
   "execution_count": 18,
   "id": "410ee452-488f-4518-b93a-2acd608ba99c",
   "metadata": {
    "execution": {
     "iopub.execute_input": "2022-07-11T13:17:55.951668Z",
     "iopub.status.busy": "2022-07-11T13:17:55.950526Z",
     "iopub.status.idle": "2022-07-11T13:17:55.970000Z",
     "shell.execute_reply": "2022-07-11T13:17:55.968055Z"
    },
    "papermill": {
     "duration": 0.02743,
     "end_time": "2022-07-11T13:17:55.971637",
     "exception": false,
     "start_time": "2022-07-11T13:17:55.944207",
     "status": "completed"
    },
    "tags": []
   },
   "outputs": [
    {
     "data": {
      "text/html": [
       "'Matrix is already positive definite!'"
      ],
      "text/latex": [
       "'Matrix is already positive definite!'"
      ],
      "text/markdown": [
       "'Matrix is already positive definite!'"
      ],
      "text/plain": [
       "[1] \"Matrix is already positive definite!\""
      ]
     },
     "metadata": {},
     "output_type": "display_data"
    },
    {
     "data": {
      "text/html": [
       "TRUE"
      ],
      "text/latex": [
       "TRUE"
      ],
      "text/markdown": [
       "TRUE"
      ],
      "text/plain": [
       "[1] TRUE"
      ]
     },
     "metadata": {},
     "output_type": "display_data"
    }
   ],
   "source": [
    "if (orig_matrix_is_positive_definite) {\n",
    "  IRdisplay::display(\"Matrix is already positive definite!\")\n",
    "  file.copy(INPUT_FILE, OUTPUT_FILE)\n",
    "} else {\n",
    "  IRdisplay::display(\"We need to correct the data and make the matrix positive definite\")\n",
    "\n",
    "  eigenvalues <- eigen(gene_corrs)$values\n",
    "  nonpositive_eigenvalues <- eigenvalues[eigenvalues <= 0]\n",
    "  IRdisplay::display(length(nonpositive_eigenvalues))\n",
    "  IRdisplay::display(nonpositive_eigenvalues)\n",
    "\n",
    "  # Make matrix positive definite\n",
    "  gene_corrs_corrected <- CorrectCM(gene_corrs, 1e-10)\n",
    "  dimnames(gene_corrs_corrected)[[1]] <- rownames(gene_corrs)\n",
    "  dimnames(gene_corrs_corrected)[[2]] <- colnames(gene_corrs)\n",
    "  gene_corrs_corrected <- as.data.frame(gene_corrs_corrected)\n",
    "\n",
    "  # check if new matrix is really positive definite\n",
    "  matrix_is_positive_definite <- is_positive_definite(gene_corrs_corrected)\n",
    "  if (matrix_is_positive_definite) {\n",
    "    IRdisplay::display(\"It worked!\")\n",
    "    IRdisplay::display(head(gene_corrs[1:10, 1:10]))\n",
    "    IRdisplay::display(head(gene_corrs_corrected[1:10, 1:10]))\n",
    "    py_save_object(gene_corrs_corrected, OUTPUT_FILE)\n",
    "  } else {\n",
    "    eigenvalues <- eigen(gene_corrs_corrected)$values\n",
    "    nonpositive_eigenvalues <- eigenvalues[eigenvalues <= 0]\n",
    "    IRdisplay::display(length(nonpositive_eigenvalues))\n",
    "    IRdisplay::display(nonpositive_eigenvalues)\n",
    "\n",
    "    stop(\"Method failed to adjust matrix\")\n",
    "  }\n",
    "}"
   ]
  },
  {
   "cell_type": "markdown",
   "id": "6c196700-7491-462f-bab8-ab9d40c63499",
   "metadata": {
    "papermill": {
     "duration": 0.004656,
     "end_time": "2022-07-11T13:17:55.981263",
     "exception": false,
     "start_time": "2022-07-11T13:17:55.976607",
     "status": "completed"
    },
    "tags": []
   },
   "source": [
    "Both matrices should \"look\" similar. We are not interested in perfectly accurate correlation values (they are already inaccurate)."
   ]
  },
  {
   "cell_type": "code",
   "execution_count": null,
   "id": "d8ae4220-2171-460c-9231-cd5219f3fe77",
   "metadata": {
    "papermill": {
     "duration": 0.004457,
     "end_time": "2022-07-11T13:17:55.990442",
     "exception": false,
     "start_time": "2022-07-11T13:17:55.985985",
     "status": "completed"
    },
    "tags": []
   },
   "outputs": [],
   "source": []
  }
 ],
 "metadata": {
  "jupytext": {
   "cell_metadata_filter": "all,-execution,-papermill,-trusted"
  },
  "kernelspec": {
   "display_name": "R",
   "language": "R",
   "name": "ir"
  },
  "language_info": {
   "codemirror_mode": "r",
   "file_extension": ".r",
   "mimetype": "text/x-r-source",
   "name": "R",
   "pygments_lexer": "r",
   "version": "3.6.3"
  },
  "papermill": {
   "default_parameters": {},
   "duration": 5.054234,
   "end_time": "2022-07-11T13:17:56.112574",
   "environment_variables": {},
   "exception": null,
   "input_path": "nbs/15_gsa_gls/12-gene_expr_correlations-adjust.ipynb",
   "output_path": "nbs/15_gsa_gls/gene_corrs/1000g/mashr/12-gene_expr_correlations-adjust-chr14.run.ipynb",
   "parameters": {
    "EQTL_MODEL": "MASHR",
    "REFERENCE_PANEL": "1000G",
    "chromosome": 14
   },
   "start_time": "2022-07-11T13:17:51.058340",
   "version": "2.3.4"
  }
 },
 "nbformat": 4,
 "nbformat_minor": 5
}
