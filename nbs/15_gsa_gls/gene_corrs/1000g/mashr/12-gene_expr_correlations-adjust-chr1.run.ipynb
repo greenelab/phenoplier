{
 "cells": [
  {
   "cell_type": "markdown",
   "id": "28fc82fa-c3f6-4184-8054-cc91c7c6e2e7",
   "metadata": {
    "papermill": {
     "duration": 0.013748,
     "end_time": "2022-07-11T13:17:24.910208",
     "exception": false,
     "start_time": "2022-07-11T13:17:24.896460",
     "status": "completed"
    },
    "tags": []
   },
   "source": [
    "# Description"
   ]
  },
  {
   "cell_type": "markdown",
   "id": "36839b17-916e-4aec-8fee-96faf1097e78",
   "metadata": {
    "papermill": {
     "duration": 0.011403,
     "end_time": "2022-07-11T13:17:24.933388",
     "exception": false,
     "start_time": "2022-07-11T13:17:24.921985",
     "status": "completed"
    },
    "tags": []
   },
   "source": [
    "**TODO**"
   ]
  },
  {
   "cell_type": "markdown",
   "id": "249e8aa3-ef1a-4bba-a6dd-58120ad80794",
   "metadata": {
    "papermill": {
     "duration": 0.005822,
     "end_time": "2022-07-11T13:17:24.947636",
     "exception": false,
     "start_time": "2022-07-11T13:17:24.941814",
     "status": "completed"
    },
    "tags": []
   },
   "source": [
    "# Modules"
   ]
  },
  {
   "cell_type": "code",
   "execution_count": 1,
   "id": "f9b5022b-7c5e-4d37-9c7a-fdb91777c7f9",
   "metadata": {
    "execution": {
     "iopub.execute_input": "2022-07-11T13:17:24.996545Z",
     "iopub.status.busy": "2022-07-11T13:17:24.994577Z",
     "iopub.status.idle": "2022-07-11T13:17:28.234359Z",
     "shell.execute_reply": "2022-07-11T13:17:28.233061Z"
    },
    "papermill": {
     "duration": 3.283589,
     "end_time": "2022-07-11T13:17:28.236033",
     "exception": false,
     "start_time": "2022-07-11T13:17:24.952444",
     "status": "completed"
    },
    "tags": []
   },
   "outputs": [],
   "source": [
    "library(reticulate)\n",
    "pd <- import(\"pandas\")"
   ]
  },
  {
   "cell_type": "markdown",
   "id": "69e80173-3a39-4b6a-b723-602687cb255b",
   "metadata": {
    "papermill": {
     "duration": 0.007418,
     "end_time": "2022-07-11T13:17:28.246861",
     "exception": false,
     "start_time": "2022-07-11T13:17:28.239443",
     "status": "completed"
    },
    "tags": []
   },
   "source": [
    "# Settings"
   ]
  },
  {
   "cell_type": "code",
   "execution_count": 2,
   "id": "22d12bb4-1699-4a6b-b1b9-d3fdd3d547d7",
   "metadata": {
    "execution": {
     "iopub.execute_input": "2022-07-11T13:17:28.286518Z",
     "iopub.status.busy": "2022-07-11T13:17:28.255653Z",
     "iopub.status.idle": "2022-07-11T13:17:28.298280Z",
     "shell.execute_reply": "2022-07-11T13:17:28.297098Z"
    },
    "papermill": {
     "duration": 0.049823,
     "end_time": "2022-07-11T13:17:28.300039",
     "exception": false,
     "start_time": "2022-07-11T13:17:28.250216",
     "status": "completed"
    },
    "tags": [
     "parameters"
    ]
   },
   "outputs": [],
   "source": [
    "# reference panel\n",
    "REFERENCE_PANEL <- \"GTEX_V8\"\n",
    "# REFERENCE_PANEL = \"1000G\"\n",
    "\n",
    "# prediction models\n",
    "## mashr\n",
    "EQTL_MODEL <- \"MASHR\"\n",
    "\n",
    "chromosome <- NULL"
   ]
  },
  {
   "cell_type": "code",
   "execution_count": 3,
   "id": "58dd1290",
   "metadata": {
    "execution": {
     "iopub.execute_input": "2022-07-11T13:17:28.309686Z",
     "iopub.status.busy": "2022-07-11T13:17:28.308614Z",
     "iopub.status.idle": "2022-07-11T13:17:28.326959Z",
     "shell.execute_reply": "2022-07-11T13:17:28.325710Z"
    },
    "papermill": {
     "duration": 0.025335,
     "end_time": "2022-07-11T13:17:28.328791",
     "exception": false,
     "start_time": "2022-07-11T13:17:28.303456",
     "status": "completed"
    },
    "tags": [
     "injected-parameters"
    ]
   },
   "outputs": [],
   "source": [
    "# Parameters\n",
    "chromosome = 1\n",
    "REFERENCE_PANEL = \"1000G\"\n",
    "EQTL_MODEL = \"MASHR\"\n"
   ]
  },
  {
   "cell_type": "code",
   "execution_count": 4,
   "id": "8fe24bef",
   "metadata": {
    "execution": {
     "iopub.execute_input": "2022-07-11T13:17:28.338470Z",
     "iopub.status.busy": "2022-07-11T13:17:28.337379Z",
     "iopub.status.idle": "2022-07-11T13:17:28.351248Z",
     "shell.execute_reply": "2022-07-11T13:17:28.349929Z"
    },
    "papermill": {
     "duration": 0.020733,
     "end_time": "2022-07-11T13:17:28.353259",
     "exception": false,
     "start_time": "2022-07-11T13:17:28.332526",
     "status": "completed"
    },
    "tags": []
   },
   "outputs": [
    {
     "data": {
      "text/html": [
       "'Using reference panel: 1000G'"
      ],
      "text/latex": [
       "'Using reference panel: 1000G'"
      ],
      "text/markdown": [
       "'Using reference panel: 1000G'"
      ],
      "text/plain": [
       "[1] \"Using reference panel: 1000G\""
      ]
     },
     "metadata": {},
     "output_type": "display_data"
    }
   ],
   "source": [
    "paste0(\"Using reference panel: \", REFERENCE_PANEL)"
   ]
  },
  {
   "cell_type": "code",
   "execution_count": 5,
   "id": "d62c28f8-186c-478b-948c-58e14f00df4b",
   "metadata": {
    "execution": {
     "iopub.execute_input": "2022-07-11T13:17:28.363545Z",
     "iopub.status.busy": "2022-07-11T13:17:28.362429Z",
     "iopub.status.idle": "2022-07-11T13:17:28.374443Z",
     "shell.execute_reply": "2022-07-11T13:17:28.373183Z"
    },
    "papermill": {
     "duration": 0.019056,
     "end_time": "2022-07-11T13:17:28.376418",
     "exception": false,
     "start_time": "2022-07-11T13:17:28.357362",
     "status": "completed"
    },
    "tags": []
   },
   "outputs": [
    {
     "data": {
      "text/html": [
       "'Using eQTL model: MASHR'"
      ],
      "text/latex": [
       "'Using eQTL model: MASHR'"
      ],
      "text/markdown": [
       "'Using eQTL model: MASHR'"
      ],
      "text/plain": [
       "[1] \"Using eQTL model: MASHR\""
      ]
     },
     "metadata": {},
     "output_type": "display_data"
    }
   ],
   "source": [
    "paste0(\"Using eQTL model: \", EQTL_MODEL)"
   ]
  },
  {
   "cell_type": "code",
   "execution_count": 6,
   "id": "5243676f-c889-4405-9a4d-262f0f044614",
   "metadata": {
    "execution": {
     "iopub.execute_input": "2022-07-11T13:17:28.386815Z",
     "iopub.status.busy": "2022-07-11T13:17:28.385714Z",
     "iopub.status.idle": "2022-07-11T13:17:28.396627Z",
     "shell.execute_reply": "2022-07-11T13:17:28.395319Z"
    },
    "papermill": {
     "duration": 0.018045,
     "end_time": "2022-07-11T13:17:28.398468",
     "exception": false,
     "start_time": "2022-07-11T13:17:28.380423",
     "status": "completed"
    },
    "tags": []
   },
   "outputs": [],
   "source": [
    "# chromosome must be provided as parameter\n",
    "stopifnot(!is.null(chromosome))"
   ]
  },
  {
   "cell_type": "markdown",
   "id": "c05e4d34-e115-48cd-8a2e-225109eb0042",
   "metadata": {
    "papermill": {
     "duration": 0.003871,
     "end_time": "2022-07-11T13:17:28.406327",
     "exception": false,
     "start_time": "2022-07-11T13:17:28.402456",
     "status": "completed"
    },
    "tags": []
   },
   "source": [
    "# Paths"
   ]
  },
  {
   "cell_type": "code",
   "execution_count": 7,
   "id": "eb6aa8aa-b452-4a2f-a780-93dd80ad4285",
   "metadata": {
    "execution": {
     "iopub.execute_input": "2022-07-11T13:17:28.416501Z",
     "iopub.status.busy": "2022-07-11T13:17:28.415407Z",
     "iopub.status.idle": "2022-07-11T13:17:28.429833Z",
     "shell.execute_reply": "2022-07-11T13:17:28.428532Z"
    },
    "papermill": {
     "duration": 0.021308,
     "end_time": "2022-07-11T13:17:28.431683",
     "exception": false,
     "start_time": "2022-07-11T13:17:28.410375",
     "status": "completed"
    },
    "tags": []
   },
   "outputs": [
    {
     "data": {
      "text/html": [
       "'/opt/data/data/phenomexcan/ld_blocks/gene_corrs'"
      ],
      "text/latex": [
       "'/opt/data/data/phenomexcan/ld\\_blocks/gene\\_corrs'"
      ],
      "text/markdown": [
       "'/opt/data/data/phenomexcan/ld_blocks/gene_corrs'"
      ],
      "text/plain": [
       "[1] \"/opt/data/data/phenomexcan/ld_blocks/gene_corrs\""
      ]
     },
     "metadata": {},
     "output_type": "display_data"
    }
   ],
   "source": [
    "GENE_CORRS_DIR <- Sys.getenv(\"PHENOPLIER_PHENOMEXCAN_LD_BLOCKS_GENE_CORRS_DIR\")\n",
    "IRdisplay::display(GENE_CORRS_DIR)"
   ]
  },
  {
   "cell_type": "code",
   "execution_count": 8,
   "id": "eb24f15f-f282-4476-8943-8413c4483f12",
   "metadata": {
    "execution": {
     "iopub.execute_input": "2022-07-11T13:17:28.442453Z",
     "iopub.status.busy": "2022-07-11T13:17:28.441324Z",
     "iopub.status.idle": "2022-07-11T13:17:28.455806Z",
     "shell.execute_reply": "2022-07-11T13:17:28.454500Z"
    },
    "papermill": {
     "duration": 0.021623,
     "end_time": "2022-07-11T13:17:28.457586",
     "exception": false,
     "start_time": "2022-07-11T13:17:28.435963",
     "status": "completed"
    },
    "tags": []
   },
   "outputs": [
    {
     "data": {
      "text/html": [
       "'/opt/data/data/phenomexcan/ld_blocks/gene_corrs/1000g/mashr/by_chr'"
      ],
      "text/latex": [
       "'/opt/data/data/phenomexcan/ld\\_blocks/gene\\_corrs/1000g/mashr/by\\_chr'"
      ],
      "text/markdown": [
       "'/opt/data/data/phenomexcan/ld_blocks/gene_corrs/1000g/mashr/by_chr'"
      ],
      "text/plain": [
       "[1] \"/opt/data/data/phenomexcan/ld_blocks/gene_corrs/1000g/mashr/by_chr\""
      ]
     },
     "metadata": {},
     "output_type": "display_data"
    }
   ],
   "source": [
    "INPUT_DIR <- file.path(GENE_CORRS_DIR, tolower(REFERENCE_PANEL), tolower(EQTL_MODEL), \"by_chr\")\n",
    "IRdisplay::display(INPUT_DIR)"
   ]
  },
  {
   "cell_type": "code",
   "execution_count": 9,
   "id": "43c1daba-0da9-4822-8d1e-968e9767e251",
   "metadata": {
    "execution": {
     "iopub.execute_input": "2022-07-11T13:17:28.468698Z",
     "iopub.status.busy": "2022-07-11T13:17:28.467570Z",
     "iopub.status.idle": "2022-07-11T13:17:28.483964Z",
     "shell.execute_reply": "2022-07-11T13:17:28.482746Z"
    },
    "papermill": {
     "duration": 0.02349,
     "end_time": "2022-07-11T13:17:28.485646",
     "exception": false,
     "start_time": "2022-07-11T13:17:28.462156",
     "status": "completed"
    },
    "tags": []
   },
   "outputs": [
    {
     "data": {
      "text/html": [
       "'/opt/data/data/phenomexcan/ld_blocks/gene_corrs/1000g/mashr/by_chr/gene_corrs-chr1.pkl'"
      ],
      "text/latex": [
       "'/opt/data/data/phenomexcan/ld\\_blocks/gene\\_corrs/1000g/mashr/by\\_chr/gene\\_corrs-chr1.pkl'"
      ],
      "text/markdown": [
       "'/opt/data/data/phenomexcan/ld_blocks/gene_corrs/1000g/mashr/by_chr/gene_corrs-chr1.pkl'"
      ],
      "text/plain": [
       "[1] \"/opt/data/data/phenomexcan/ld_blocks/gene_corrs/1000g/mashr/by_chr/gene_corrs-chr1.pkl\""
      ]
     },
     "metadata": {},
     "output_type": "display_data"
    }
   ],
   "source": [
    "INPUT_FILE <- file.path(INPUT_DIR, paste0(\"gene_corrs-chr\", chromosome, \".pkl\"))\n",
    "IRdisplay::display(INPUT_FILE)\n",
    "stopifnot(file.exists(INPUT_FILE))"
   ]
  },
  {
   "cell_type": "code",
   "execution_count": 10,
   "id": "72386fbf-982b-420a-9057-ea9a97a5e571",
   "metadata": {
    "execution": {
     "iopub.execute_input": "2022-07-11T13:17:28.496395Z",
     "iopub.status.busy": "2022-07-11T13:17:28.495321Z",
     "iopub.status.idle": "2022-07-11T13:17:28.511986Z",
     "shell.execute_reply": "2022-07-11T13:17:28.510671Z"
    },
    "papermill": {
     "duration": 0.0239,
     "end_time": "2022-07-11T13:17:28.513835",
     "exception": false,
     "start_time": "2022-07-11T13:17:28.489935",
     "status": "completed"
    },
    "tags": []
   },
   "outputs": [
    {
     "data": {
      "text/html": [
       "'/opt/data/data/phenomexcan/ld_blocks/gene_corrs/1000g/mashr/by_chr/corrected_positive_definite'"
      ],
      "text/latex": [
       "'/opt/data/data/phenomexcan/ld\\_blocks/gene\\_corrs/1000g/mashr/by\\_chr/corrected\\_positive\\_definite'"
      ],
      "text/markdown": [
       "'/opt/data/data/phenomexcan/ld_blocks/gene_corrs/1000g/mashr/by_chr/corrected_positive_definite'"
      ],
      "text/plain": [
       "[1] \"/opt/data/data/phenomexcan/ld_blocks/gene_corrs/1000g/mashr/by_chr/corrected_positive_definite\""
      ]
     },
     "metadata": {},
     "output_type": "display_data"
    }
   ],
   "source": [
    "OUTPUT_DIR <- file.path(INPUT_DIR, \"corrected_positive_definite\")\n",
    "IRdisplay::display(OUTPUT_DIR)\n",
    "dir.create(OUTPUT_DIR, recursive = TRUE, showWarnings = FALSE)"
   ]
  },
  {
   "cell_type": "code",
   "execution_count": 11,
   "id": "f9f19d1d-ce4c-4099-a26e-250fec751de7",
   "metadata": {
    "execution": {
     "iopub.execute_input": "2022-07-11T13:17:28.525544Z",
     "iopub.status.busy": "2022-07-11T13:17:28.524378Z",
     "iopub.status.idle": "2022-07-11T13:17:28.539323Z",
     "shell.execute_reply": "2022-07-11T13:17:28.538089Z"
    },
    "papermill": {
     "duration": 0.022458,
     "end_time": "2022-07-11T13:17:28.541113",
     "exception": false,
     "start_time": "2022-07-11T13:17:28.518655",
     "status": "completed"
    },
    "tags": []
   },
   "outputs": [
    {
     "data": {
      "text/html": [
       "'/opt/data/data/phenomexcan/ld_blocks/gene_corrs/1000g/mashr/by_chr/corrected_positive_definite/gene_corrs-chr1.pkl'"
      ],
      "text/latex": [
       "'/opt/data/data/phenomexcan/ld\\_blocks/gene\\_corrs/1000g/mashr/by\\_chr/corrected\\_positive\\_definite/gene\\_corrs-chr1.pkl'"
      ],
      "text/markdown": [
       "'/opt/data/data/phenomexcan/ld_blocks/gene_corrs/1000g/mashr/by_chr/corrected_positive_definite/gene_corrs-chr1.pkl'"
      ],
      "text/plain": [
       "[1] \"/opt/data/data/phenomexcan/ld_blocks/gene_corrs/1000g/mashr/by_chr/corrected_positive_definite/gene_corrs-chr1.pkl\""
      ]
     },
     "metadata": {},
     "output_type": "display_data"
    }
   ],
   "source": [
    "OUTPUT_FILE <- file.path(OUTPUT_DIR, paste0(\"gene_corrs-chr\", chromosome, \".pkl\"))\n",
    "IRdisplay::display(OUTPUT_FILE)\n",
    "if (file.exists(OUTPUT_FILE)) {\n",
    "  IRdisplay::display(\"Output file exists, it will be overwritten\")\n",
    "}"
   ]
  },
  {
   "cell_type": "markdown",
   "id": "24973e62-e888-4b56-843f-489d8d0762b5",
   "metadata": {
    "papermill": {
     "duration": 0.004479,
     "end_time": "2022-07-11T13:17:28.550158",
     "exception": false,
     "start_time": "2022-07-11T13:17:28.545679",
     "status": "completed"
    },
    "tags": []
   },
   "source": [
    "# Functions"
   ]
  },
  {
   "cell_type": "code",
   "execution_count": 12,
   "id": "f828f081-7358-4cc8-8a89-1ee293bcc1a7",
   "metadata": {
    "execution": {
     "iopub.execute_input": "2022-07-11T13:17:28.564555Z",
     "iopub.status.busy": "2022-07-11T13:17:28.560218Z",
     "iopub.status.idle": "2022-07-11T13:17:28.573768Z",
     "shell.execute_reply": "2022-07-11T13:17:28.572522Z"
    },
    "papermill": {
     "duration": 0.020873,
     "end_time": "2022-07-11T13:17:28.575514",
     "exception": false,
     "start_time": "2022-07-11T13:17:28.554641",
     "status": "completed"
    },
    "tags": []
   },
   "outputs": [],
   "source": [
    "# taken from https://www.r-bloggers.com/2013/08/correcting-a-pseudo-correlation-matrix-to-be-positive-semidefinite/\n",
    "# TODO: add documentation\n",
    "CorrectCM <- function(CM, p = 0) {\n",
    "  n <- dim(var(CM))[1L]\n",
    "  E <- eigen(CM)\n",
    "  CM1 <- E$vectors %*% tcrossprod(diag(pmax(E$values, p), n), E$vectors)\n",
    "  Balance <- diag(1 / sqrt(diag(CM1)))\n",
    "  CM2 <- Balance %*% CM1 %*% Balance\n",
    "  return(CM2)\n",
    "}"
   ]
  },
  {
   "cell_type": "code",
   "execution_count": 13,
   "id": "7ab9bebf-50a1-4e6f-b16a-e23cae93d02a",
   "metadata": {
    "execution": {
     "iopub.execute_input": "2022-07-11T13:17:28.587028Z",
     "iopub.status.busy": "2022-07-11T13:17:28.585947Z",
     "iopub.status.idle": "2022-07-11T13:17:28.596328Z",
     "shell.execute_reply": "2022-07-11T13:17:28.595055Z"
    },
    "papermill": {
     "duration": 0.018008,
     "end_time": "2022-07-11T13:17:28.598138",
     "exception": false,
     "start_time": "2022-07-11T13:17:28.580130",
     "status": "completed"
    },
    "tags": []
   },
   "outputs": [],
   "source": [
    "is_positive_definite <- function(data) {\n",
    "  # eigenvalues <- eigen(data)$values\n",
    "  # nonpositive_eigenvalues <- eigenvalues[eigenvalues <= 0]\n",
    "\n",
    "  cholStatus <- try(u <- chol(data), silent = FALSE)\n",
    "  cholError <- ifelse(class(cholStatus) == \"try-error\", TRUE, FALSE)\n",
    "\n",
    "  if (cholError) {\n",
    "    return(FALSE)\n",
    "  } else {\n",
    "    return(TRUE)\n",
    "  }\n",
    "}"
   ]
  },
  {
   "cell_type": "markdown",
   "id": "7403fd78-00b2-4941-9c07-3c3af1ddc636",
   "metadata": {
    "papermill": {
     "duration": 0.004461,
     "end_time": "2022-07-11T13:17:28.607995",
     "exception": false,
     "start_time": "2022-07-11T13:17:28.603534",
     "status": "completed"
    },
    "tags": []
   },
   "source": [
    "# Load data"
   ]
  },
  {
   "cell_type": "code",
   "execution_count": 14,
   "id": "3a7744e1-2e5a-450e-9dcf-945ec181347d",
   "metadata": {
    "execution": {
     "iopub.execute_input": "2022-07-11T13:17:28.619314Z",
     "iopub.status.busy": "2022-07-11T13:17:28.618218Z",
     "iopub.status.idle": "2022-07-11T13:17:28.735384Z",
     "shell.execute_reply": "2022-07-11T13:17:28.734124Z"
    },
    "papermill": {
     "duration": 0.12469,
     "end_time": "2022-07-11T13:17:28.737160",
     "exception": false,
     "start_time": "2022-07-11T13:17:28.612470",
     "status": "completed"
    },
    "tags": []
   },
   "outputs": [],
   "source": [
    "gene_corrs <- pd$read_pickle(INPUT_FILE)"
   ]
  },
  {
   "cell_type": "code",
   "execution_count": 15,
   "id": "6fb150b2-4c68-4e9b-9aa5-1890d3f762e3",
   "metadata": {
    "execution": {
     "iopub.execute_input": "2022-07-11T13:17:28.749283Z",
     "iopub.status.busy": "2022-07-11T13:17:28.748175Z",
     "iopub.status.idle": "2022-07-11T13:17:28.760294Z",
     "shell.execute_reply": "2022-07-11T13:17:28.759024Z"
    },
    "papermill": {
     "duration": 0.020006,
     "end_time": "2022-07-11T13:17:28.762080",
     "exception": false,
     "start_time": "2022-07-11T13:17:28.742074",
     "status": "completed"
    },
    "tags": []
   },
   "outputs": [
    {
     "data": {
      "text/html": [
       "<style>\n",
       ".list-inline {list-style: none; margin:0; padding: 0}\n",
       ".list-inline>li {display: inline-block}\n",
       ".list-inline>li:not(:last-child)::after {content: \"\\00b7\"; padding: 0 .5ex}\n",
       "</style>\n",
       "<ol class=list-inline><li>700</li><li>700</li></ol>\n"
      ],
      "text/latex": [
       "\\begin{enumerate*}\n",
       "\\item 700\n",
       "\\item 700\n",
       "\\end{enumerate*}\n"
      ],
      "text/markdown": [
       "1. 700\n",
       "2. 700\n",
       "\n",
       "\n"
      ],
      "text/plain": [
       "[1] 700 700"
      ]
     },
     "metadata": {},
     "output_type": "display_data"
    }
   ],
   "source": [
    "dim(gene_corrs)"
   ]
  },
  {
   "cell_type": "code",
   "execution_count": 16,
   "id": "0d4e53b5-7586-4a68-8ce5-d930d74ba943",
   "metadata": {
    "execution": {
     "iopub.execute_input": "2022-07-11T13:17:28.774168Z",
     "iopub.status.busy": "2022-07-11T13:17:28.772979Z",
     "iopub.status.idle": "2022-07-11T13:17:28.797712Z",
     "shell.execute_reply": "2022-07-11T13:17:28.796377Z"
    },
    "papermill": {
     "duration": 0.032534,
     "end_time": "2022-07-11T13:17:28.799421",
     "exception": false,
     "start_time": "2022-07-11T13:17:28.766887",
     "status": "completed"
    },
    "tags": []
   },
   "outputs": [
    {
     "data": {
      "text/html": [
       "<table class=\"dataframe\">\n",
       "<caption>A data.frame: 6 × 10</caption>\n",
       "<thead>\n",
       "\t<tr><th></th><th scope=col>ENSG00000188976</th><th scope=col>ENSG00000188290</th><th scope=col>ENSG00000187608</th><th scope=col>ENSG00000188157</th><th scope=col>ENSG00000186891</th><th scope=col>ENSG00000186827</th><th scope=col>ENSG00000176022</th><th scope=col>ENSG00000160087</th><th scope=col>ENSG00000131584</th><th scope=col>ENSG00000169962</th></tr>\n",
       "\t<tr><th></th><th scope=col>&lt;dbl&gt;</th><th scope=col>&lt;dbl&gt;</th><th scope=col>&lt;dbl&gt;</th><th scope=col>&lt;dbl&gt;</th><th scope=col>&lt;dbl&gt;</th><th scope=col>&lt;dbl&gt;</th><th scope=col>&lt;dbl&gt;</th><th scope=col>&lt;dbl&gt;</th><th scope=col>&lt;dbl&gt;</th><th scope=col>&lt;dbl&gt;</th></tr>\n",
       "</thead>\n",
       "<tbody>\n",
       "\t<tr><th scope=row>ENSG00000188976</th><td>1.000000000</td><td>0.11501129</td><td>0.17313750</td><td>0.05244487</td><td>0.008031516</td><td>0.008726745</td><td>0.006796973</td><td>0.004532540</td><td>0.007350204</td><td>0.010391326</td></tr>\n",
       "\t<tr><th scope=row>ENSG00000188290</th><td>0.115011285</td><td>1.00000000</td><td>0.68136830</td><td>0.34702340</td><td>0.011544584</td><td>0.010728940</td><td>0.003577333</td><td>0.010230156</td><td>0.010746890</td><td>0.008768874</td></tr>\n",
       "\t<tr><th scope=row>ENSG00000187608</th><td>0.173137502</td><td>0.68136830</td><td>1.00000000</td><td>0.35182214</td><td>0.011774485</td><td>0.012526965</td><td>0.003754327</td><td>0.012095631</td><td>0.012678547</td><td>0.010442001</td></tr>\n",
       "\t<tr><th scope=row>ENSG00000188157</th><td>0.052444874</td><td>0.34702340</td><td>0.35182214</td><td>1.00000000</td><td>0.014102825</td><td>0.013988106</td><td>0.006055940</td><td>0.006295866</td><td>0.005363225</td><td>0.008300309</td></tr>\n",
       "\t<tr><th scope=row>ENSG00000186891</th><td>0.008031516</td><td>0.01154458</td><td>0.01177449</td><td>0.01410282</td><td>1.000000000</td><td>0.356676495</td><td>0.454010019</td><td>0.137642539</td><td>0.200340119</td><td>0.093210381</td></tr>\n",
       "\t<tr><th scope=row>ENSG00000186827</th><td>0.008726745</td><td>0.01072894</td><td>0.01252697</td><td>0.01398811</td><td>0.356676495</td><td>1.000000000</td><td>0.473528263</td><td>0.193246890</td><td>0.144666868</td><td>0.090434247</td></tr>\n",
       "</tbody>\n",
       "</table>\n"
      ],
      "text/latex": [
       "A data.frame: 6 × 10\n",
       "\\begin{tabular}{r|llllllllll}\n",
       "  & ENSG00000188976 & ENSG00000188290 & ENSG00000187608 & ENSG00000188157 & ENSG00000186891 & ENSG00000186827 & ENSG00000176022 & ENSG00000160087 & ENSG00000131584 & ENSG00000169962\\\\\n",
       "  & <dbl> & <dbl> & <dbl> & <dbl> & <dbl> & <dbl> & <dbl> & <dbl> & <dbl> & <dbl>\\\\\n",
       "\\hline\n",
       "\tENSG00000188976 & 1.000000000 & 0.11501129 & 0.17313750 & 0.05244487 & 0.008031516 & 0.008726745 & 0.006796973 & 0.004532540 & 0.007350204 & 0.010391326\\\\\n",
       "\tENSG00000188290 & 0.115011285 & 1.00000000 & 0.68136830 & 0.34702340 & 0.011544584 & 0.010728940 & 0.003577333 & 0.010230156 & 0.010746890 & 0.008768874\\\\\n",
       "\tENSG00000187608 & 0.173137502 & 0.68136830 & 1.00000000 & 0.35182214 & 0.011774485 & 0.012526965 & 0.003754327 & 0.012095631 & 0.012678547 & 0.010442001\\\\\n",
       "\tENSG00000188157 & 0.052444874 & 0.34702340 & 0.35182214 & 1.00000000 & 0.014102825 & 0.013988106 & 0.006055940 & 0.006295866 & 0.005363225 & 0.008300309\\\\\n",
       "\tENSG00000186891 & 0.008031516 & 0.01154458 & 0.01177449 & 0.01410282 & 1.000000000 & 0.356676495 & 0.454010019 & 0.137642539 & 0.200340119 & 0.093210381\\\\\n",
       "\tENSG00000186827 & 0.008726745 & 0.01072894 & 0.01252697 & 0.01398811 & 0.356676495 & 1.000000000 & 0.473528263 & 0.193246890 & 0.144666868 & 0.090434247\\\\\n",
       "\\end{tabular}\n"
      ],
      "text/markdown": [
       "\n",
       "A data.frame: 6 × 10\n",
       "\n",
       "| <!--/--> | ENSG00000188976 &lt;dbl&gt; | ENSG00000188290 &lt;dbl&gt; | ENSG00000187608 &lt;dbl&gt; | ENSG00000188157 &lt;dbl&gt; | ENSG00000186891 &lt;dbl&gt; | ENSG00000186827 &lt;dbl&gt; | ENSG00000176022 &lt;dbl&gt; | ENSG00000160087 &lt;dbl&gt; | ENSG00000131584 &lt;dbl&gt; | ENSG00000169962 &lt;dbl&gt; |\n",
       "|---|---|---|---|---|---|---|---|---|---|---|\n",
       "| ENSG00000188976 | 1.000000000 | 0.11501129 | 0.17313750 | 0.05244487 | 0.008031516 | 0.008726745 | 0.006796973 | 0.004532540 | 0.007350204 | 0.010391326 |\n",
       "| ENSG00000188290 | 0.115011285 | 1.00000000 | 0.68136830 | 0.34702340 | 0.011544584 | 0.010728940 | 0.003577333 | 0.010230156 | 0.010746890 | 0.008768874 |\n",
       "| ENSG00000187608 | 0.173137502 | 0.68136830 | 1.00000000 | 0.35182214 | 0.011774485 | 0.012526965 | 0.003754327 | 0.012095631 | 0.012678547 | 0.010442001 |\n",
       "| ENSG00000188157 | 0.052444874 | 0.34702340 | 0.35182214 | 1.00000000 | 0.014102825 | 0.013988106 | 0.006055940 | 0.006295866 | 0.005363225 | 0.008300309 |\n",
       "| ENSG00000186891 | 0.008031516 | 0.01154458 | 0.01177449 | 0.01410282 | 1.000000000 | 0.356676495 | 0.454010019 | 0.137642539 | 0.200340119 | 0.093210381 |\n",
       "| ENSG00000186827 | 0.008726745 | 0.01072894 | 0.01252697 | 0.01398811 | 0.356676495 | 1.000000000 | 0.473528263 | 0.193246890 | 0.144666868 | 0.090434247 |\n",
       "\n"
      ],
      "text/plain": [
       "                ENSG00000188976 ENSG00000188290 ENSG00000187608 ENSG00000188157\n",
       "ENSG00000188976 1.000000000     0.11501129      0.17313750      0.05244487     \n",
       "ENSG00000188290 0.115011285     1.00000000      0.68136830      0.34702340     \n",
       "ENSG00000187608 0.173137502     0.68136830      1.00000000      0.35182214     \n",
       "ENSG00000188157 0.052444874     0.34702340      0.35182214      1.00000000     \n",
       "ENSG00000186891 0.008031516     0.01154458      0.01177449      0.01410282     \n",
       "ENSG00000186827 0.008726745     0.01072894      0.01252697      0.01398811     \n",
       "                ENSG00000186891 ENSG00000186827 ENSG00000176022 ENSG00000160087\n",
       "ENSG00000188976 0.008031516     0.008726745     0.006796973     0.004532540    \n",
       "ENSG00000188290 0.011544584     0.010728940     0.003577333     0.010230156    \n",
       "ENSG00000187608 0.011774485     0.012526965     0.003754327     0.012095631    \n",
       "ENSG00000188157 0.014102825     0.013988106     0.006055940     0.006295866    \n",
       "ENSG00000186891 1.000000000     0.356676495     0.454010019     0.137642539    \n",
       "ENSG00000186827 0.356676495     1.000000000     0.473528263     0.193246890    \n",
       "                ENSG00000131584 ENSG00000169962\n",
       "ENSG00000188976 0.007350204     0.010391326    \n",
       "ENSG00000188290 0.010746890     0.008768874    \n",
       "ENSG00000187608 0.012678547     0.010442001    \n",
       "ENSG00000188157 0.005363225     0.008300309    \n",
       "ENSG00000186891 0.200340119     0.093210381    \n",
       "ENSG00000186827 0.144666868     0.090434247    "
      ]
     },
     "metadata": {},
     "output_type": "display_data"
    }
   ],
   "source": [
    "head(gene_corrs[1:10, 1:10])"
   ]
  },
  {
   "cell_type": "markdown",
   "id": "d6cbc88a-2c90-4d11-b7dd-434f046fd03c",
   "metadata": {
    "papermill": {
     "duration": 0.00997,
     "end_time": "2022-07-11T13:17:28.818917",
     "exception": false,
     "start_time": "2022-07-11T13:17:28.808947",
     "status": "completed"
    },
    "tags": []
   },
   "source": [
    "# Check positive definiteness"
   ]
  },
  {
   "cell_type": "code",
   "execution_count": 17,
   "id": "a858a061-7c5a-4a6b-8026-fe4de50c1f26",
   "metadata": {
    "execution": {
     "iopub.execute_input": "2022-07-11T13:17:28.840395Z",
     "iopub.status.busy": "2022-07-11T13:17:28.839331Z",
     "iopub.status.idle": "2022-07-11T13:17:28.872004Z",
     "shell.execute_reply": "2022-07-11T13:17:28.868549Z"
    },
    "papermill": {
     "duration": 0.044784,
     "end_time": "2022-07-11T13:17:28.873883",
     "exception": false,
     "start_time": "2022-07-11T13:17:28.829099",
     "status": "completed"
    },
    "tags": []
   },
   "outputs": [],
   "source": [
    "orig_matrix_is_positive_definite <- is_positive_definite(gene_corrs)"
   ]
  },
  {
   "cell_type": "code",
   "execution_count": 18,
   "id": "410ee452-488f-4518-b93a-2acd608ba99c",
   "metadata": {
    "execution": {
     "iopub.execute_input": "2022-07-11T13:17:28.891428Z",
     "iopub.status.busy": "2022-07-11T13:17:28.890334Z",
     "iopub.status.idle": "2022-07-11T13:17:28.913518Z",
     "shell.execute_reply": "2022-07-11T13:17:28.912331Z"
    },
    "papermill": {
     "duration": 0.035956,
     "end_time": "2022-07-11T13:17:28.915083",
     "exception": false,
     "start_time": "2022-07-11T13:17:28.879127",
     "status": "completed"
    },
    "tags": []
   },
   "outputs": [
    {
     "data": {
      "text/html": [
       "'Matrix is already positive definite!'"
      ],
      "text/latex": [
       "'Matrix is already positive definite!'"
      ],
      "text/markdown": [
       "'Matrix is already positive definite!'"
      ],
      "text/plain": [
       "[1] \"Matrix is already positive definite!\""
      ]
     },
     "metadata": {},
     "output_type": "display_data"
    },
    {
     "data": {
      "text/html": [
       "TRUE"
      ],
      "text/latex": [
       "TRUE"
      ],
      "text/markdown": [
       "TRUE"
      ],
      "text/plain": [
       "[1] TRUE"
      ]
     },
     "metadata": {},
     "output_type": "display_data"
    }
   ],
   "source": [
    "if (orig_matrix_is_positive_definite) {\n",
    "  IRdisplay::display(\"Matrix is already positive definite!\")\n",
    "  file.copy(INPUT_FILE, OUTPUT_FILE)\n",
    "} else {\n",
    "  IRdisplay::display(\"We need to correct the data and make the matrix positive definite\")\n",
    "\n",
    "  eigenvalues <- eigen(gene_corrs)$values\n",
    "  nonpositive_eigenvalues <- eigenvalues[eigenvalues <= 0]\n",
    "  IRdisplay::display(length(nonpositive_eigenvalues))\n",
    "  IRdisplay::display(nonpositive_eigenvalues)\n",
    "\n",
    "  # Make matrix positive definite\n",
    "  gene_corrs_corrected <- CorrectCM(gene_corrs, 1e-10)\n",
    "  dimnames(gene_corrs_corrected)[[1]] <- rownames(gene_corrs)\n",
    "  dimnames(gene_corrs_corrected)[[2]] <- colnames(gene_corrs)\n",
    "  gene_corrs_corrected <- as.data.frame(gene_corrs_corrected)\n",
    "\n",
    "  # check if new matrix is really positive definite\n",
    "  matrix_is_positive_definite <- is_positive_definite(gene_corrs_corrected)\n",
    "  if (matrix_is_positive_definite) {\n",
    "    IRdisplay::display(\"It worked!\")\n",
    "    IRdisplay::display(head(gene_corrs[1:10, 1:10]))\n",
    "    IRdisplay::display(head(gene_corrs_corrected[1:10, 1:10]))\n",
    "    py_save_object(gene_corrs_corrected, OUTPUT_FILE)\n",
    "  } else {\n",
    "    eigenvalues <- eigen(gene_corrs_corrected)$values\n",
    "    nonpositive_eigenvalues <- eigenvalues[eigenvalues <= 0]\n",
    "    IRdisplay::display(length(nonpositive_eigenvalues))\n",
    "    IRdisplay::display(nonpositive_eigenvalues)\n",
    "\n",
    "    stop(\"Method failed to adjust matrix\")\n",
    "  }\n",
    "}"
   ]
  },
  {
   "cell_type": "markdown",
   "id": "6c196700-7491-462f-bab8-ab9d40c63499",
   "metadata": {
    "papermill": {
     "duration": 0.004696,
     "end_time": "2022-07-11T13:17:28.926969",
     "exception": false,
     "start_time": "2022-07-11T13:17:28.922273",
     "status": "completed"
    },
    "tags": []
   },
   "source": [
    "Both matrices should \"look\" similar. We are not interested in perfectly accurate correlation values (they are already inaccurate)."
   ]
  },
  {
   "cell_type": "code",
   "execution_count": null,
   "id": "d8ae4220-2171-460c-9231-cd5219f3fe77",
   "metadata": {
    "papermill": {
     "duration": 0.004555,
     "end_time": "2022-07-11T13:17:28.936441",
     "exception": false,
     "start_time": "2022-07-11T13:17:28.931886",
     "status": "completed"
    },
    "tags": []
   },
   "outputs": [],
   "source": []
  }
 ],
 "metadata": {
  "jupytext": {
   "cell_metadata_filter": "all,-execution,-papermill,-trusted"
  },
  "kernelspec": {
   "display_name": "R",
   "language": "R",
   "name": "ir"
  },
  "language_info": {
   "codemirror_mode": "r",
   "file_extension": ".r",
   "mimetype": "text/x-r-source",
   "name": "R",
   "pygments_lexer": "r",
   "version": "3.6.3"
  },
  "papermill": {
   "default_parameters": {},
   "duration": 5.248374,
   "end_time": "2022-07-11T13:17:29.057742",
   "environment_variables": {},
   "exception": null,
   "input_path": "nbs/15_gsa_gls/12-gene_expr_correlations-adjust.ipynb",
   "output_path": "nbs/15_gsa_gls/gene_corrs/1000g/mashr/12-gene_expr_correlations-adjust-chr1.run.ipynb",
   "parameters": {
    "EQTL_MODEL": "MASHR",
    "REFERENCE_PANEL": "1000G",
    "chromosome": 1
   },
   "start_time": "2022-07-11T13:17:23.809368",
   "version": "2.3.4"
  }
 },
 "nbformat": 4,
 "nbformat_minor": 5
}
