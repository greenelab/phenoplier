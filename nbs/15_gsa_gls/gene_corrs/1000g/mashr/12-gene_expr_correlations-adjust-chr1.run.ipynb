{
 "cells": [
  {
   "cell_type": "markdown",
   "id": "28fc82fa-c3f6-4184-8054-cc91c7c6e2e7",
   "metadata": {
    "papermill": {
     "duration": 0.014221,
     "end_time": "2022-07-12T13:07:01.557379",
     "exception": false,
     "start_time": "2022-07-12T13:07:01.543158",
     "status": "completed"
    },
    "tags": []
   },
   "source": [
    "# Description"
   ]
  },
  {
   "cell_type": "markdown",
   "id": "36839b17-916e-4aec-8fee-96faf1097e78",
   "metadata": {
    "papermill": {
     "duration": 0.004135,
     "end_time": "2022-07-12T13:07:01.569906",
     "exception": false,
     "start_time": "2022-07-12T13:07:01.565771",
     "status": "completed"
    },
    "tags": []
   },
   "source": [
    "**TODO**"
   ]
  },
  {
   "cell_type": "markdown",
   "id": "249e8aa3-ef1a-4bba-a6dd-58120ad80794",
   "metadata": {
    "papermill": {
     "duration": 0.002779,
     "end_time": "2022-07-12T13:07:01.576016",
     "exception": false,
     "start_time": "2022-07-12T13:07:01.573237",
     "status": "completed"
    },
    "tags": []
   },
   "source": [
    "# Modules"
   ]
  },
  {
   "cell_type": "code",
   "execution_count": 1,
   "id": "f9b5022b-7c5e-4d37-9c7a-fdb91777c7f9",
   "metadata": {
    "execution": {
     "iopub.execute_input": "2022-07-12T13:07:01.606128Z",
     "iopub.status.busy": "2022-07-12T13:07:01.604638Z",
     "iopub.status.idle": "2022-07-12T13:07:04.810878Z",
     "shell.execute_reply": "2022-07-12T13:07:04.809603Z"
    },
    "papermill": {
     "duration": 3.233527,
     "end_time": "2022-07-12T13:07:04.812650",
     "exception": false,
     "start_time": "2022-07-12T13:07:01.579123",
     "status": "completed"
    },
    "tags": []
   },
   "outputs": [],
   "source": [
    "library(reticulate)\n",
    "pd <- import(\"pandas\")"
   ]
  },
  {
   "cell_type": "markdown",
   "id": "69e80173-3a39-4b6a-b723-602687cb255b",
   "metadata": {
    "papermill": {
     "duration": 0.003194,
     "end_time": "2022-07-12T13:07:04.819233",
     "exception": false,
     "start_time": "2022-07-12T13:07:04.816039",
     "status": "completed"
    },
    "tags": []
   },
   "source": [
    "# Settings"
   ]
  },
  {
   "cell_type": "code",
   "execution_count": 2,
   "id": "22d12bb4-1699-4a6b-b1b9-d3fdd3d547d7",
   "metadata": {
    "execution": {
     "iopub.execute_input": "2022-07-12T13:07:04.857797Z",
     "iopub.status.busy": "2022-07-12T13:07:04.833175Z",
     "iopub.status.idle": "2022-07-12T13:07:04.870302Z",
     "shell.execute_reply": "2022-07-12T13:07:04.869065Z"
    },
    "papermill": {
     "duration": 0.049492,
     "end_time": "2022-07-12T13:07:04.872063",
     "exception": false,
     "start_time": "2022-07-12T13:07:04.822571",
     "status": "completed"
    },
    "tags": [
     "parameters"
    ]
   },
   "outputs": [],
   "source": [
    "# reference panel\n",
    "REFERENCE_PANEL <- \"GTEX_V8\"\n",
    "# REFERENCE_PANEL = \"1000G\"\n",
    "\n",
    "# prediction models\n",
    "## mashr\n",
    "EQTL_MODEL <- \"MASHR\"\n",
    "\n",
    "chromosome <- NULL"
   ]
  },
  {
   "cell_type": "code",
   "execution_count": 3,
   "id": "2897d2b2",
   "metadata": {
    "execution": {
     "iopub.execute_input": "2022-07-12T13:07:04.881572Z",
     "iopub.status.busy": "2022-07-12T13:07:04.880510Z",
     "iopub.status.idle": "2022-07-12T13:07:04.898346Z",
     "shell.execute_reply": "2022-07-12T13:07:04.897145Z"
    },
    "papermill": {
     "duration": 0.024375,
     "end_time": "2022-07-12T13:07:04.900003",
     "exception": false,
     "start_time": "2022-07-12T13:07:04.875628",
     "status": "completed"
    },
    "tags": [
     "injected-parameters"
    ]
   },
   "outputs": [],
   "source": [
    "# Parameters\n",
    "chromosome = 1\n",
    "REFERENCE_PANEL = \"1000G\"\n",
    "EQTL_MODEL = \"MASHR\"\n"
   ]
  },
  {
   "cell_type": "code",
   "execution_count": 4,
   "id": "8fe24bef",
   "metadata": {
    "execution": {
     "iopub.execute_input": "2022-07-12T13:07:04.909350Z",
     "iopub.status.busy": "2022-07-12T13:07:04.908279Z",
     "iopub.status.idle": "2022-07-12T13:07:04.921442Z",
     "shell.execute_reply": "2022-07-12T13:07:04.920177Z"
    },
    "papermill": {
     "duration": 0.019606,
     "end_time": "2022-07-12T13:07:04.923251",
     "exception": false,
     "start_time": "2022-07-12T13:07:04.903645",
     "status": "completed"
    },
    "tags": []
   },
   "outputs": [
    {
     "data": {
      "text/html": [
       "'Using reference panel: 1000G'"
      ],
      "text/latex": [
       "'Using reference panel: 1000G'"
      ],
      "text/markdown": [
       "'Using reference panel: 1000G'"
      ],
      "text/plain": [
       "[1] \"Using reference panel: 1000G\""
      ]
     },
     "metadata": {},
     "output_type": "display_data"
    }
   ],
   "source": [
    "paste0(\"Using reference panel: \", REFERENCE_PANEL)"
   ]
  },
  {
   "cell_type": "code",
   "execution_count": 5,
   "id": "d62c28f8-186c-478b-948c-58e14f00df4b",
   "metadata": {
    "execution": {
     "iopub.execute_input": "2022-07-12T13:07:04.933218Z",
     "iopub.status.busy": "2022-07-12T13:07:04.932152Z",
     "iopub.status.idle": "2022-07-12T13:07:04.944634Z",
     "shell.execute_reply": "2022-07-12T13:07:04.943341Z"
    },
    "papermill": {
     "duration": 0.019209,
     "end_time": "2022-07-12T13:07:04.946493",
     "exception": false,
     "start_time": "2022-07-12T13:07:04.927284",
     "status": "completed"
    },
    "tags": []
   },
   "outputs": [
    {
     "data": {
      "text/html": [
       "'Using eQTL model: MASHR'"
      ],
      "text/latex": [
       "'Using eQTL model: MASHR'"
      ],
      "text/markdown": [
       "'Using eQTL model: MASHR'"
      ],
      "text/plain": [
       "[1] \"Using eQTL model: MASHR\""
      ]
     },
     "metadata": {},
     "output_type": "display_data"
    }
   ],
   "source": [
    "paste0(\"Using eQTL model: \", EQTL_MODEL)"
   ]
  },
  {
   "cell_type": "code",
   "execution_count": 6,
   "id": "5243676f-c889-4405-9a4d-262f0f044614",
   "metadata": {
    "execution": {
     "iopub.execute_input": "2022-07-12T13:07:04.957181Z",
     "iopub.status.busy": "2022-07-12T13:07:04.956058Z",
     "iopub.status.idle": "2022-07-12T13:07:04.966277Z",
     "shell.execute_reply": "2022-07-12T13:07:04.965024Z"
    },
    "papermill": {
     "duration": 0.017306,
     "end_time": "2022-07-12T13:07:04.968119",
     "exception": false,
     "start_time": "2022-07-12T13:07:04.950813",
     "status": "completed"
    },
    "tags": []
   },
   "outputs": [],
   "source": [
    "# chromosome must be provided as parameter\n",
    "stopifnot(!is.null(chromosome))"
   ]
  },
  {
   "cell_type": "markdown",
   "id": "c05e4d34-e115-48cd-8a2e-225109eb0042",
   "metadata": {
    "papermill": {
     "duration": 0.003884,
     "end_time": "2022-07-12T13:07:04.976069",
     "exception": false,
     "start_time": "2022-07-12T13:07:04.972185",
     "status": "completed"
    },
    "tags": []
   },
   "source": [
    "# Paths"
   ]
  },
  {
   "cell_type": "code",
   "execution_count": 7,
   "id": "eb6aa8aa-b452-4a2f-a780-93dd80ad4285",
   "metadata": {
    "execution": {
     "iopub.execute_input": "2022-07-12T13:07:04.986552Z",
     "iopub.status.busy": "2022-07-12T13:07:04.985409Z",
     "iopub.status.idle": "2022-07-12T13:07:05.000030Z",
     "shell.execute_reply": "2022-07-12T13:07:04.998712Z"
    },
    "papermill": {
     "duration": 0.021609,
     "end_time": "2022-07-12T13:07:05.001843",
     "exception": false,
     "start_time": "2022-07-12T13:07:04.980234",
     "status": "completed"
    },
    "tags": []
   },
   "outputs": [
    {
     "data": {
      "text/html": [
       "'/opt/data/data/phenomexcan/ld_blocks/gene_corrs'"
      ],
      "text/latex": [
       "'/opt/data/data/phenomexcan/ld\\_blocks/gene\\_corrs'"
      ],
      "text/markdown": [
       "'/opt/data/data/phenomexcan/ld_blocks/gene_corrs'"
      ],
      "text/plain": [
       "[1] \"/opt/data/data/phenomexcan/ld_blocks/gene_corrs\""
      ]
     },
     "metadata": {},
     "output_type": "display_data"
    }
   ],
   "source": [
    "GENE_CORRS_DIR <- Sys.getenv(\"PHENOPLIER_PHENOMEXCAN_LD_BLOCKS_GENE_CORRS_DIR\")\n",
    "IRdisplay::display(GENE_CORRS_DIR)"
   ]
  },
  {
   "cell_type": "code",
   "execution_count": 8,
   "id": "eb24f15f-f282-4476-8943-8413c4483f12",
   "metadata": {
    "execution": {
     "iopub.execute_input": "2022-07-12T13:07:05.012548Z",
     "iopub.status.busy": "2022-07-12T13:07:05.011401Z",
     "iopub.status.idle": "2022-07-12T13:07:05.025092Z",
     "shell.execute_reply": "2022-07-12T13:07:05.023808Z"
    },
    "papermill": {
     "duration": 0.020843,
     "end_time": "2022-07-12T13:07:05.026903",
     "exception": false,
     "start_time": "2022-07-12T13:07:05.006060",
     "status": "completed"
    },
    "tags": []
   },
   "outputs": [
    {
     "data": {
      "text/html": [
       "'/opt/data/data/phenomexcan/ld_blocks/gene_corrs/1000g/mashr/by_chr'"
      ],
      "text/latex": [
       "'/opt/data/data/phenomexcan/ld\\_blocks/gene\\_corrs/1000g/mashr/by\\_chr'"
      ],
      "text/markdown": [
       "'/opt/data/data/phenomexcan/ld_blocks/gene_corrs/1000g/mashr/by_chr'"
      ],
      "text/plain": [
       "[1] \"/opt/data/data/phenomexcan/ld_blocks/gene_corrs/1000g/mashr/by_chr\""
      ]
     },
     "metadata": {},
     "output_type": "display_data"
    }
   ],
   "source": [
    "INPUT_DIR <- file.path(GENE_CORRS_DIR, tolower(REFERENCE_PANEL), tolower(EQTL_MODEL), \"by_chr\")\n",
    "IRdisplay::display(INPUT_DIR)"
   ]
  },
  {
   "cell_type": "code",
   "execution_count": 9,
   "id": "43c1daba-0da9-4822-8d1e-968e9767e251",
   "metadata": {
    "execution": {
     "iopub.execute_input": "2022-07-12T13:07:05.038087Z",
     "iopub.status.busy": "2022-07-12T13:07:05.036977Z",
     "iopub.status.idle": "2022-07-12T13:07:05.052739Z",
     "shell.execute_reply": "2022-07-12T13:07:05.051477Z"
    },
    "papermill": {
     "duration": 0.023107,
     "end_time": "2022-07-12T13:07:05.054597",
     "exception": false,
     "start_time": "2022-07-12T13:07:05.031490",
     "status": "completed"
    },
    "tags": []
   },
   "outputs": [
    {
     "data": {
      "text/html": [
       "'/opt/data/data/phenomexcan/ld_blocks/gene_corrs/1000g/mashr/by_chr/gene_corrs-chr1.pkl'"
      ],
      "text/latex": [
       "'/opt/data/data/phenomexcan/ld\\_blocks/gene\\_corrs/1000g/mashr/by\\_chr/gene\\_corrs-chr1.pkl'"
      ],
      "text/markdown": [
       "'/opt/data/data/phenomexcan/ld_blocks/gene_corrs/1000g/mashr/by_chr/gene_corrs-chr1.pkl'"
      ],
      "text/plain": [
       "[1] \"/opt/data/data/phenomexcan/ld_blocks/gene_corrs/1000g/mashr/by_chr/gene_corrs-chr1.pkl\""
      ]
     },
     "metadata": {},
     "output_type": "display_data"
    }
   ],
   "source": [
    "INPUT_FILE <- file.path(INPUT_DIR, paste0(\"gene_corrs-chr\", chromosome, \".pkl\"))\n",
    "IRdisplay::display(INPUT_FILE)\n",
    "stopifnot(file.exists(INPUT_FILE))"
   ]
  },
  {
   "cell_type": "code",
   "execution_count": 10,
   "id": "72386fbf-982b-420a-9057-ea9a97a5e571",
   "metadata": {
    "execution": {
     "iopub.execute_input": "2022-07-12T13:07:05.065691Z",
     "iopub.status.busy": "2022-07-12T13:07:05.064586Z",
     "iopub.status.idle": "2022-07-12T13:07:05.082027Z",
     "shell.execute_reply": "2022-07-12T13:07:05.080763Z"
    },
    "papermill": {
     "duration": 0.02498,
     "end_time": "2022-07-12T13:07:05.083961",
     "exception": false,
     "start_time": "2022-07-12T13:07:05.058981",
     "status": "completed"
    },
    "tags": []
   },
   "outputs": [
    {
     "data": {
      "text/html": [
       "'/opt/data/data/phenomexcan/ld_blocks/gene_corrs/1000g/mashr/by_chr/corrected_positive_definite'"
      ],
      "text/latex": [
       "'/opt/data/data/phenomexcan/ld\\_blocks/gene\\_corrs/1000g/mashr/by\\_chr/corrected\\_positive\\_definite'"
      ],
      "text/markdown": [
       "'/opt/data/data/phenomexcan/ld_blocks/gene_corrs/1000g/mashr/by_chr/corrected_positive_definite'"
      ],
      "text/plain": [
       "[1] \"/opt/data/data/phenomexcan/ld_blocks/gene_corrs/1000g/mashr/by_chr/corrected_positive_definite\""
      ]
     },
     "metadata": {},
     "output_type": "display_data"
    }
   ],
   "source": [
    "OUTPUT_DIR <- file.path(INPUT_DIR, \"corrected_positive_definite\")\n",
    "IRdisplay::display(OUTPUT_DIR)\n",
    "dir.create(OUTPUT_DIR, recursive = TRUE, showWarnings = FALSE)"
   ]
  },
  {
   "cell_type": "code",
   "execution_count": 11,
   "id": "f9f19d1d-ce4c-4099-a26e-250fec751de7",
   "metadata": {
    "execution": {
     "iopub.execute_input": "2022-07-12T13:07:05.095659Z",
     "iopub.status.busy": "2022-07-12T13:07:05.094487Z",
     "iopub.status.idle": "2022-07-12T13:07:05.109545Z",
     "shell.execute_reply": "2022-07-12T13:07:05.108291Z"
    },
    "papermill": {
     "duration": 0.022863,
     "end_time": "2022-07-12T13:07:05.111622",
     "exception": false,
     "start_time": "2022-07-12T13:07:05.088759",
     "status": "completed"
    },
    "tags": []
   },
   "outputs": [
    {
     "data": {
      "text/html": [
       "'/opt/data/data/phenomexcan/ld_blocks/gene_corrs/1000g/mashr/by_chr/corrected_positive_definite/gene_corrs-chr1.pkl'"
      ],
      "text/latex": [
       "'/opt/data/data/phenomexcan/ld\\_blocks/gene\\_corrs/1000g/mashr/by\\_chr/corrected\\_positive\\_definite/gene\\_corrs-chr1.pkl'"
      ],
      "text/markdown": [
       "'/opt/data/data/phenomexcan/ld_blocks/gene_corrs/1000g/mashr/by_chr/corrected_positive_definite/gene_corrs-chr1.pkl'"
      ],
      "text/plain": [
       "[1] \"/opt/data/data/phenomexcan/ld_blocks/gene_corrs/1000g/mashr/by_chr/corrected_positive_definite/gene_corrs-chr1.pkl\""
      ]
     },
     "metadata": {},
     "output_type": "display_data"
    }
   ],
   "source": [
    "OUTPUT_FILE <- file.path(OUTPUT_DIR, paste0(\"gene_corrs-chr\", chromosome, \".pkl\"))\n",
    "IRdisplay::display(OUTPUT_FILE)\n",
    "if (file.exists(OUTPUT_FILE)) {\n",
    "  IRdisplay::display(\"Output file exists, it will be overwritten\")\n",
    "}"
   ]
  },
  {
   "cell_type": "markdown",
   "id": "24973e62-e888-4b56-843f-489d8d0762b5",
   "metadata": {
    "papermill": {
     "duration": 0.00458,
     "end_time": "2022-07-12T13:07:05.120854",
     "exception": false,
     "start_time": "2022-07-12T13:07:05.116274",
     "status": "completed"
    },
    "tags": []
   },
   "source": [
    "# Functions"
   ]
  },
  {
   "cell_type": "code",
   "execution_count": 12,
   "id": "f828f081-7358-4cc8-8a89-1ee293bcc1a7",
   "metadata": {
    "execution": {
     "iopub.execute_input": "2022-07-12T13:07:05.135210Z",
     "iopub.status.busy": "2022-07-12T13:07:05.130966Z",
     "iopub.status.idle": "2022-07-12T13:07:05.144879Z",
     "shell.execute_reply": "2022-07-12T13:07:05.143189Z"
    },
    "papermill": {
     "duration": 0.021279,
     "end_time": "2022-07-12T13:07:05.146771",
     "exception": false,
     "start_time": "2022-07-12T13:07:05.125492",
     "status": "completed"
    },
    "tags": []
   },
   "outputs": [],
   "source": [
    "# taken from https://www.r-bloggers.com/2013/08/correcting-a-pseudo-correlation-matrix-to-be-positive-semidefinite/\n",
    "# TODO: add documentation\n",
    "CorrectCM <- function(CM, p = 0) {\n",
    "  n <- dim(var(CM))[1L]\n",
    "  E <- eigen(CM)\n",
    "  CM1 <- E$vectors %*% tcrossprod(diag(pmax(E$values, p), n), E$vectors)\n",
    "  Balance <- diag(1 / sqrt(diag(CM1)))\n",
    "  CM2 <- Balance %*% CM1 %*% Balance\n",
    "  return(CM2)\n",
    "}"
   ]
  },
  {
   "cell_type": "code",
   "execution_count": 13,
   "id": "7ab9bebf-50a1-4e6f-b16a-e23cae93d02a",
   "metadata": {
    "execution": {
     "iopub.execute_input": "2022-07-12T13:07:05.158380Z",
     "iopub.status.busy": "2022-07-12T13:07:05.157306Z",
     "iopub.status.idle": "2022-07-12T13:07:05.166929Z",
     "shell.execute_reply": "2022-07-12T13:07:05.165581Z"
    },
    "papermill": {
     "duration": 0.017249,
     "end_time": "2022-07-12T13:07:05.168761",
     "exception": false,
     "start_time": "2022-07-12T13:07:05.151512",
     "status": "completed"
    },
    "tags": []
   },
   "outputs": [],
   "source": [
    "is_positive_definite <- function(data) {\n",
    "  # eigenvalues <- eigen(data)$values\n",
    "  # nonpositive_eigenvalues <- eigenvalues[eigenvalues <= 0]\n",
    "\n",
    "  cholStatus <- try(u <- chol(data), silent = FALSE)\n",
    "  cholError <- ifelse(class(cholStatus) == \"try-error\", TRUE, FALSE)\n",
    "\n",
    "  if (cholError) {\n",
    "    return(FALSE)\n",
    "  } else {\n",
    "    return(TRUE)\n",
    "  }\n",
    "}"
   ]
  },
  {
   "cell_type": "markdown",
   "id": "7403fd78-00b2-4941-9c07-3c3af1ddc636",
   "metadata": {
    "papermill": {
     "duration": 0.004755,
     "end_time": "2022-07-12T13:07:05.179010",
     "exception": false,
     "start_time": "2022-07-12T13:07:05.174255",
     "status": "completed"
    },
    "tags": []
   },
   "source": [
    "# Load data"
   ]
  },
  {
   "cell_type": "code",
   "execution_count": 14,
   "id": "3a7744e1-2e5a-450e-9dcf-945ec181347d",
   "metadata": {
    "execution": {
     "iopub.execute_input": "2022-07-12T13:07:05.190158Z",
     "iopub.status.busy": "2022-07-12T13:07:05.189074Z",
     "iopub.status.idle": "2022-07-12T13:07:05.304598Z",
     "shell.execute_reply": "2022-07-12T13:07:05.303292Z"
    },
    "papermill": {
     "duration": 0.122869,
     "end_time": "2022-07-12T13:07:05.306437",
     "exception": false,
     "start_time": "2022-07-12T13:07:05.183568",
     "status": "completed"
    },
    "tags": []
   },
   "outputs": [],
   "source": [
    "gene_corrs <- pd$read_pickle(INPUT_FILE)"
   ]
  },
  {
   "cell_type": "code",
   "execution_count": 15,
   "id": "6fb150b2-4c68-4e9b-9aa5-1890d3f762e3",
   "metadata": {
    "execution": {
     "iopub.execute_input": "2022-07-12T13:07:05.318590Z",
     "iopub.status.busy": "2022-07-12T13:07:05.317375Z",
     "iopub.status.idle": "2022-07-12T13:07:05.329782Z",
     "shell.execute_reply": "2022-07-12T13:07:05.328520Z"
    },
    "papermill": {
     "duration": 0.02015,
     "end_time": "2022-07-12T13:07:05.331635",
     "exception": false,
     "start_time": "2022-07-12T13:07:05.311485",
     "status": "completed"
    },
    "tags": []
   },
   "outputs": [
    {
     "data": {
      "text/html": [
       "<style>\n",
       ".list-inline {list-style: none; margin:0; padding: 0}\n",
       ".list-inline>li {display: inline-block}\n",
       ".list-inline>li:not(:last-child)::after {content: \"\\00b7\"; padding: 0 .5ex}\n",
       "</style>\n",
       "<ol class=list-inline><li>700</li><li>700</li></ol>\n"
      ],
      "text/latex": [
       "\\begin{enumerate*}\n",
       "\\item 700\n",
       "\\item 700\n",
       "\\end{enumerate*}\n"
      ],
      "text/markdown": [
       "1. 700\n",
       "2. 700\n",
       "\n",
       "\n"
      ],
      "text/plain": [
       "[1] 700 700"
      ]
     },
     "metadata": {},
     "output_type": "display_data"
    }
   ],
   "source": [
    "dim(gene_corrs)"
   ]
  },
  {
   "cell_type": "code",
   "execution_count": 16,
   "id": "0d4e53b5-7586-4a68-8ce5-d930d74ba943",
   "metadata": {
    "execution": {
     "iopub.execute_input": "2022-07-12T13:07:05.343515Z",
     "iopub.status.busy": "2022-07-12T13:07:05.342408Z",
     "iopub.status.idle": "2022-07-12T13:07:05.365067Z",
     "shell.execute_reply": "2022-07-12T13:07:05.363784Z"
    },
    "papermill": {
     "duration": 0.030287,
     "end_time": "2022-07-12T13:07:05.366791",
     "exception": false,
     "start_time": "2022-07-12T13:07:05.336504",
     "status": "completed"
    },
    "tags": []
   },
   "outputs": [
    {
     "data": {
      "text/html": [
       "<table class=\"dataframe\">\n",
       "<caption>A data.frame: 6 × 10</caption>\n",
       "<thead>\n",
       "\t<tr><th></th><th scope=col>ENSG00000188976</th><th scope=col>ENSG00000188290</th><th scope=col>ENSG00000187608</th><th scope=col>ENSG00000188157</th><th scope=col>ENSG00000186891</th><th scope=col>ENSG00000186827</th><th scope=col>ENSG00000176022</th><th scope=col>ENSG00000160087</th><th scope=col>ENSG00000131584</th><th scope=col>ENSG00000169962</th></tr>\n",
       "\t<tr><th></th><th scope=col>&lt;dbl&gt;</th><th scope=col>&lt;dbl&gt;</th><th scope=col>&lt;dbl&gt;</th><th scope=col>&lt;dbl&gt;</th><th scope=col>&lt;dbl&gt;</th><th scope=col>&lt;dbl&gt;</th><th scope=col>&lt;dbl&gt;</th><th scope=col>&lt;dbl&gt;</th><th scope=col>&lt;dbl&gt;</th><th scope=col>&lt;dbl&gt;</th></tr>\n",
       "</thead>\n",
       "<tbody>\n",
       "\t<tr><th scope=row>ENSG00000188976</th><td>1.000000000</td><td>0.11501129</td><td>0.17313750</td><td>0.05244487</td><td>0.008031516</td><td>0.008726745</td><td>0.006796973</td><td>0.004532540</td><td>0.007350204</td><td>0.010391326</td></tr>\n",
       "\t<tr><th scope=row>ENSG00000188290</th><td>0.115011285</td><td>1.00000000</td><td>0.68136830</td><td>0.34702340</td><td>0.011544584</td><td>0.010728940</td><td>0.003577333</td><td>0.010230156</td><td>0.010746890</td><td>0.008768874</td></tr>\n",
       "\t<tr><th scope=row>ENSG00000187608</th><td>0.173137502</td><td>0.68136830</td><td>1.00000000</td><td>0.35182214</td><td>0.011774485</td><td>0.012526965</td><td>0.003754327</td><td>0.012095631</td><td>0.012678547</td><td>0.010442001</td></tr>\n",
       "\t<tr><th scope=row>ENSG00000188157</th><td>0.052444874</td><td>0.34702340</td><td>0.35182214</td><td>1.00000000</td><td>0.014102825</td><td>0.013988106</td><td>0.006055940</td><td>0.006295866</td><td>0.005363225</td><td>0.008300309</td></tr>\n",
       "\t<tr><th scope=row>ENSG00000186891</th><td>0.008031516</td><td>0.01154458</td><td>0.01177449</td><td>0.01410282</td><td>1.000000000</td><td>0.356676495</td><td>0.454010019</td><td>0.137642539</td><td>0.200340119</td><td>0.093210381</td></tr>\n",
       "\t<tr><th scope=row>ENSG00000186827</th><td>0.008726745</td><td>0.01072894</td><td>0.01252697</td><td>0.01398811</td><td>0.356676495</td><td>1.000000000</td><td>0.473528263</td><td>0.193246890</td><td>0.144666868</td><td>0.090434247</td></tr>\n",
       "</tbody>\n",
       "</table>\n"
      ],
      "text/latex": [
       "A data.frame: 6 × 10\n",
       "\\begin{tabular}{r|llllllllll}\n",
       "  & ENSG00000188976 & ENSG00000188290 & ENSG00000187608 & ENSG00000188157 & ENSG00000186891 & ENSG00000186827 & ENSG00000176022 & ENSG00000160087 & ENSG00000131584 & ENSG00000169962\\\\\n",
       "  & <dbl> & <dbl> & <dbl> & <dbl> & <dbl> & <dbl> & <dbl> & <dbl> & <dbl> & <dbl>\\\\\n",
       "\\hline\n",
       "\tENSG00000188976 & 1.000000000 & 0.11501129 & 0.17313750 & 0.05244487 & 0.008031516 & 0.008726745 & 0.006796973 & 0.004532540 & 0.007350204 & 0.010391326\\\\\n",
       "\tENSG00000188290 & 0.115011285 & 1.00000000 & 0.68136830 & 0.34702340 & 0.011544584 & 0.010728940 & 0.003577333 & 0.010230156 & 0.010746890 & 0.008768874\\\\\n",
       "\tENSG00000187608 & 0.173137502 & 0.68136830 & 1.00000000 & 0.35182214 & 0.011774485 & 0.012526965 & 0.003754327 & 0.012095631 & 0.012678547 & 0.010442001\\\\\n",
       "\tENSG00000188157 & 0.052444874 & 0.34702340 & 0.35182214 & 1.00000000 & 0.014102825 & 0.013988106 & 0.006055940 & 0.006295866 & 0.005363225 & 0.008300309\\\\\n",
       "\tENSG00000186891 & 0.008031516 & 0.01154458 & 0.01177449 & 0.01410282 & 1.000000000 & 0.356676495 & 0.454010019 & 0.137642539 & 0.200340119 & 0.093210381\\\\\n",
       "\tENSG00000186827 & 0.008726745 & 0.01072894 & 0.01252697 & 0.01398811 & 0.356676495 & 1.000000000 & 0.473528263 & 0.193246890 & 0.144666868 & 0.090434247\\\\\n",
       "\\end{tabular}\n"
      ],
      "text/markdown": [
       "\n",
       "A data.frame: 6 × 10\n",
       "\n",
       "| <!--/--> | ENSG00000188976 &lt;dbl&gt; | ENSG00000188290 &lt;dbl&gt; | ENSG00000187608 &lt;dbl&gt; | ENSG00000188157 &lt;dbl&gt; | ENSG00000186891 &lt;dbl&gt; | ENSG00000186827 &lt;dbl&gt; | ENSG00000176022 &lt;dbl&gt; | ENSG00000160087 &lt;dbl&gt; | ENSG00000131584 &lt;dbl&gt; | ENSG00000169962 &lt;dbl&gt; |\n",
       "|---|---|---|---|---|---|---|---|---|---|---|\n",
       "| ENSG00000188976 | 1.000000000 | 0.11501129 | 0.17313750 | 0.05244487 | 0.008031516 | 0.008726745 | 0.006796973 | 0.004532540 | 0.007350204 | 0.010391326 |\n",
       "| ENSG00000188290 | 0.115011285 | 1.00000000 | 0.68136830 | 0.34702340 | 0.011544584 | 0.010728940 | 0.003577333 | 0.010230156 | 0.010746890 | 0.008768874 |\n",
       "| ENSG00000187608 | 0.173137502 | 0.68136830 | 1.00000000 | 0.35182214 | 0.011774485 | 0.012526965 | 0.003754327 | 0.012095631 | 0.012678547 | 0.010442001 |\n",
       "| ENSG00000188157 | 0.052444874 | 0.34702340 | 0.35182214 | 1.00000000 | 0.014102825 | 0.013988106 | 0.006055940 | 0.006295866 | 0.005363225 | 0.008300309 |\n",
       "| ENSG00000186891 | 0.008031516 | 0.01154458 | 0.01177449 | 0.01410282 | 1.000000000 | 0.356676495 | 0.454010019 | 0.137642539 | 0.200340119 | 0.093210381 |\n",
       "| ENSG00000186827 | 0.008726745 | 0.01072894 | 0.01252697 | 0.01398811 | 0.356676495 | 1.000000000 | 0.473528263 | 0.193246890 | 0.144666868 | 0.090434247 |\n",
       "\n"
      ],
      "text/plain": [
       "                ENSG00000188976 ENSG00000188290 ENSG00000187608 ENSG00000188157\n",
       "ENSG00000188976 1.000000000     0.11501129      0.17313750      0.05244487     \n",
       "ENSG00000188290 0.115011285     1.00000000      0.68136830      0.34702340     \n",
       "ENSG00000187608 0.173137502     0.68136830      1.00000000      0.35182214     \n",
       "ENSG00000188157 0.052444874     0.34702340      0.35182214      1.00000000     \n",
       "ENSG00000186891 0.008031516     0.01154458      0.01177449      0.01410282     \n",
       "ENSG00000186827 0.008726745     0.01072894      0.01252697      0.01398811     \n",
       "                ENSG00000186891 ENSG00000186827 ENSG00000176022 ENSG00000160087\n",
       "ENSG00000188976 0.008031516     0.008726745     0.006796973     0.004532540    \n",
       "ENSG00000188290 0.011544584     0.010728940     0.003577333     0.010230156    \n",
       "ENSG00000187608 0.011774485     0.012526965     0.003754327     0.012095631    \n",
       "ENSG00000188157 0.014102825     0.013988106     0.006055940     0.006295866    \n",
       "ENSG00000186891 1.000000000     0.356676495     0.454010019     0.137642539    \n",
       "ENSG00000186827 0.356676495     1.000000000     0.473528263     0.193246890    \n",
       "                ENSG00000131584 ENSG00000169962\n",
       "ENSG00000188976 0.007350204     0.010391326    \n",
       "ENSG00000188290 0.010746890     0.008768874    \n",
       "ENSG00000187608 0.012678547     0.010442001    \n",
       "ENSG00000188157 0.005363225     0.008300309    \n",
       "ENSG00000186891 0.200340119     0.093210381    \n",
       "ENSG00000186827 0.144666868     0.090434247    "
      ]
     },
     "metadata": {},
     "output_type": "display_data"
    }
   ],
   "source": [
    "head(gene_corrs[1:10, 1:10])"
   ]
  },
  {
   "cell_type": "markdown",
   "id": "d6cbc88a-2c90-4d11-b7dd-434f046fd03c",
   "metadata": {
    "papermill": {
     "duration": 0.005278,
     "end_time": "2022-07-12T13:07:05.377327",
     "exception": false,
     "start_time": "2022-07-12T13:07:05.372049",
     "status": "completed"
    },
    "tags": []
   },
   "source": [
    "# Check positive definiteness"
   ]
  },
  {
   "cell_type": "code",
   "execution_count": 17,
   "id": "a858a061-7c5a-4a6b-8026-fe4de50c1f26",
   "metadata": {
    "execution": {
     "iopub.execute_input": "2022-07-12T13:07:05.390278Z",
     "iopub.status.busy": "2022-07-12T13:07:05.389106Z",
     "iopub.status.idle": "2022-07-12T13:07:05.421775Z",
     "shell.execute_reply": "2022-07-12T13:07:05.418251Z"
    },
    "papermill": {
     "duration": 0.040756,
     "end_time": "2022-07-12T13:07:05.423547",
     "exception": false,
     "start_time": "2022-07-12T13:07:05.382791",
     "status": "completed"
    },
    "tags": []
   },
   "outputs": [],
   "source": [
    "orig_matrix_is_positive_definite <- is_positive_definite(gene_corrs)"
   ]
  },
  {
   "cell_type": "code",
   "execution_count": 18,
   "id": "410ee452-488f-4518-b93a-2acd608ba99c",
   "metadata": {
    "execution": {
     "iopub.execute_input": "2022-07-12T13:07:05.443547Z",
     "iopub.status.busy": "2022-07-12T13:07:05.442512Z",
     "iopub.status.idle": "2022-07-12T13:07:05.475435Z",
     "shell.execute_reply": "2022-07-12T13:07:05.470857Z"
    },
    "papermill": {
     "duration": 0.046927,
     "end_time": "2022-07-12T13:07:05.477145",
     "exception": false,
     "start_time": "2022-07-12T13:07:05.430218",
     "status": "completed"
    },
    "tags": []
   },
   "outputs": [
    {
     "data": {
      "text/html": [
       "'Matrix is already positive definite!'"
      ],
      "text/latex": [
       "'Matrix is already positive definite!'"
      ],
      "text/markdown": [
       "'Matrix is already positive definite!'"
      ],
      "text/plain": [
       "[1] \"Matrix is already positive definite!\""
      ]
     },
     "metadata": {},
     "output_type": "display_data"
    },
    {
     "data": {
      "text/html": [
       "TRUE"
      ],
      "text/latex": [
       "TRUE"
      ],
      "text/markdown": [
       "TRUE"
      ],
      "text/plain": [
       "[1] TRUE"
      ]
     },
     "metadata": {},
     "output_type": "display_data"
    }
   ],
   "source": [
    "if (orig_matrix_is_positive_definite) {\n",
    "  IRdisplay::display(\"Matrix is already positive definite!\")\n",
    "  file.copy(INPUT_FILE, OUTPUT_FILE)\n",
    "} else {\n",
    "  IRdisplay::display(\"We need to correct the data and make the matrix positive definite\")\n",
    "\n",
    "  eigenvalues <- eigen(gene_corrs)$values\n",
    "  nonpositive_eigenvalues <- eigenvalues[eigenvalues <= 0]\n",
    "  IRdisplay::display(length(nonpositive_eigenvalues))\n",
    "  IRdisplay::display(nonpositive_eigenvalues)\n",
    "\n",
    "  # Make matrix positive definite\n",
    "  gene_corrs_corrected <- CorrectCM(gene_corrs, 1e-10)\n",
    "  dimnames(gene_corrs_corrected)[[1]] <- rownames(gene_corrs)\n",
    "  dimnames(gene_corrs_corrected)[[2]] <- colnames(gene_corrs)\n",
    "  gene_corrs_corrected <- as.data.frame(gene_corrs_corrected)\n",
    "\n",
    "  # check if new matrix is really positive definite\n",
    "  matrix_is_positive_definite <- is_positive_definite(gene_corrs_corrected)\n",
    "  if (matrix_is_positive_definite) {\n",
    "    IRdisplay::display(\"It worked!\")\n",
    "    IRdisplay::display(head(gene_corrs[1:10, 1:10]))\n",
    "    IRdisplay::display(head(gene_corrs_corrected[1:10, 1:10]))\n",
    "    py_save_object(gene_corrs_corrected, OUTPUT_FILE)\n",
    "  } else {\n",
    "    eigenvalues <- eigen(gene_corrs_corrected)$values\n",
    "    nonpositive_eigenvalues <- eigenvalues[eigenvalues <= 0]\n",
    "    IRdisplay::display(length(nonpositive_eigenvalues))\n",
    "    IRdisplay::display(nonpositive_eigenvalues)\n",
    "\n",
    "    stop(\"Method failed to adjust matrix\")\n",
    "  }\n",
    "}"
   ]
  },
  {
   "cell_type": "markdown",
   "id": "6c196700-7491-462f-bab8-ab9d40c63499",
   "metadata": {
    "papermill": {
     "duration": 0.009341,
     "end_time": "2022-07-12T13:07:05.493390",
     "exception": false,
     "start_time": "2022-07-12T13:07:05.484049",
     "status": "completed"
    },
    "tags": []
   },
   "source": [
    "Both matrices should \"look\" similar. We are not interested in perfectly accurate correlation values (they are already inaccurate)."
   ]
  },
  {
   "cell_type": "code",
   "execution_count": null,
   "id": "d8ae4220-2171-460c-9231-cd5219f3fe77",
   "metadata": {
    "papermill": {
     "duration": 0.004705,
     "end_time": "2022-07-12T13:07:05.506815",
     "exception": false,
     "start_time": "2022-07-12T13:07:05.502110",
     "status": "completed"
    },
    "tags": []
   },
   "outputs": [],
   "source": []
  }
 ],
 "metadata": {
  "jupytext": {
   "cell_metadata_filter": "all,-execution,-papermill,-trusted"
  },
  "kernelspec": {
   "display_name": "R",
   "language": "R",
   "name": "ir"
  },
  "language_info": {
   "codemirror_mode": "r",
   "file_extension": ".r",
   "mimetype": "text/x-r-source",
   "name": "R",
   "pygments_lexer": "r",
   "version": "3.6.3"
  },
  "papermill": {
   "default_parameters": {},
   "duration": 5.193295,
   "end_time": "2022-07-12T13:07:05.629274",
   "environment_variables": {},
   "exception": null,
   "input_path": "nbs/15_gsa_gls/12-gene_expr_correlations-adjust.ipynb",
   "output_path": "nbs/15_gsa_gls/gene_corrs/1000g/mashr/12-gene_expr_correlations-adjust-chr1.run.ipynb",
   "parameters": {
    "EQTL_MODEL": "MASHR",
    "REFERENCE_PANEL": "1000G",
    "chromosome": 1
   },
   "start_time": "2022-07-12T13:07:00.435979",
   "version": "2.3.4"
  }
 },
 "nbformat": 4,
 "nbformat_minor": 5
}
