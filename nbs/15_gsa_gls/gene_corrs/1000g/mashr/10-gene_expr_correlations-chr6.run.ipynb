{
 "cells": [
  {
   "cell_type": "markdown",
   "id": "7a6632fb",
   "metadata": {
    "papermill": {
     "duration": 0.006039,
     "end_time": "2022-07-11T06:30:09.559526",
     "exception": false,
     "start_time": "2022-07-11T06:30:09.553487",
     "status": "completed"
    },
    "tags": []
   },
   "source": [
    "# Description"
   ]
  },
  {
   "cell_type": "markdown",
   "id": "7097c346",
   "metadata": {
    "papermill": {
     "duration": 0.010731,
     "end_time": "2022-07-11T06:30:09.598050",
     "exception": false,
     "start_time": "2022-07-11T06:30:09.587319",
     "status": "completed"
    },
    "tags": []
   },
   "source": [
    "(Please, take a look at the README.md file in this directory for instructions on how to run this notebook)\n",
    "\n",
    "This notebook computes predicted expression correlations between all genes in the MultiPLIER models.\n",
    "\n",
    "It also has a parameter set for papermill to run on a single chromosome to run in parallel (see under `Settings` below).\n",
    "\n",
    "This notebook is not directly run. See README.md."
   ]
  },
  {
   "cell_type": "markdown",
   "id": "c61d8427",
   "metadata": {
    "papermill": {
     "duration": 0.005313,
     "end_time": "2022-07-11T06:30:09.612444",
     "exception": false,
     "start_time": "2022-07-11T06:30:09.607131",
     "status": "completed"
    },
    "tags": []
   },
   "source": [
    "# Modules"
   ]
  },
  {
   "cell_type": "code",
   "execution_count": 1,
   "id": "bbc0234f",
   "metadata": {
    "execution": {
     "iopub.execute_input": "2022-07-11T06:30:09.624783Z",
     "iopub.status.busy": "2022-07-11T06:30:09.624093Z",
     "iopub.status.idle": "2022-07-11T06:30:09.656339Z",
     "shell.execute_reply": "2022-07-11T06:30:09.655956Z"
    },
    "papermill": {
     "duration": 0.040072,
     "end_time": "2022-07-11T06:30:09.657995",
     "exception": false,
     "start_time": "2022-07-11T06:30:09.617923",
     "status": "completed"
    },
    "tags": []
   },
   "outputs": [],
   "source": [
    "%load_ext autoreload\n",
    "%autoreload 2"
   ]
  },
  {
   "cell_type": "code",
   "execution_count": 2,
   "id": "1d5f5a59",
   "metadata": {
    "execution": {
     "iopub.execute_input": "2022-07-11T06:30:09.687350Z",
     "iopub.status.busy": "2022-07-11T06:30:09.687199Z",
     "iopub.status.idle": "2022-07-11T06:30:10.872425Z",
     "shell.execute_reply": "2022-07-11T06:30:10.872022Z"
    },
    "papermill": {
     "duration": 1.204062,
     "end_time": "2022-07-11T06:30:10.873668",
     "exception": false,
     "start_time": "2022-07-11T06:30:09.669606",
     "status": "completed"
    },
    "tags": []
   },
   "outputs": [],
   "source": [
    "from random import sample, seed\n",
    "import warnings\n",
    "from pathlib import Path\n",
    "\n",
    "import numpy as np\n",
    "from scipy.spatial.distance import squareform\n",
    "import pandas as pd\n",
    "from tqdm import tqdm\n",
    "import matplotlib.pyplot as plt\n",
    "import seaborn as sns\n",
    "\n",
    "import conf\n",
    "from entity import Gene"
   ]
  },
  {
   "cell_type": "markdown",
   "id": "1eac24b5",
   "metadata": {
    "papermill": {
     "duration": 0.005894,
     "end_time": "2022-07-11T06:30:10.911399",
     "exception": false,
     "start_time": "2022-07-11T06:30:10.905505",
     "status": "completed"
    },
    "tags": []
   },
   "source": [
    "# Settings"
   ]
  },
  {
   "cell_type": "code",
   "execution_count": 3,
   "id": "ca4560ba",
   "metadata": {
    "execution": {
     "iopub.execute_input": "2022-07-11T06:30:10.923605Z",
     "iopub.status.busy": "2022-07-11T06:30:10.923432Z",
     "iopub.status.idle": "2022-07-11T06:30:10.937694Z",
     "shell.execute_reply": "2022-07-11T06:30:10.937278Z"
    },
    "papermill": {
     "duration": 0.021797,
     "end_time": "2022-07-11T06:30:10.939008",
     "exception": false,
     "start_time": "2022-07-11T06:30:10.917211",
     "status": "completed"
    },
    "tags": [
     "parameters"
    ]
   },
   "outputs": [],
   "source": [
    "# reference panel\n",
    "REFERENCE_PANEL = \"GTEX_V8\"\n",
    "# REFERENCE_PANEL = \"1000G\"\n",
    "\n",
    "# prediction models\n",
    "## mashr\n",
    "EQTL_MODEL = \"MASHR\"\n",
    "\n",
    "# this is the default value used in S-MultiXcan to select the\n",
    "# top principal components of the expression correlation matrix\n",
    "SMULTIXCAN_CONDITION_NUMBER = 30\n",
    "\n",
    "# specifies a single chromosome value\n",
    "# by default, run on all chromosomes\n",
    "chromosome = None"
   ]
  },
  {
   "cell_type": "code",
   "execution_count": 4,
   "id": "bc39024c",
   "metadata": {
    "execution": {
     "iopub.execute_input": "2022-07-11T06:30:10.964677Z",
     "iopub.status.busy": "2022-07-11T06:30:10.964519Z",
     "iopub.status.idle": "2022-07-11T06:30:10.982187Z",
     "shell.execute_reply": "2022-07-11T06:30:10.981782Z"
    },
    "papermill": {
     "duration": 0.030774,
     "end_time": "2022-07-11T06:30:10.983336",
     "exception": false,
     "start_time": "2022-07-11T06:30:10.952562",
     "status": "completed"
    },
    "tags": [
     "injected-parameters"
    ]
   },
   "outputs": [],
   "source": [
    "# Parameters\n",
    "chromosome = 6\n",
    "REFERENCE_PANEL = \"1000G\"\n",
    "EQTL_MODEL = \"MASHR\"\n"
   ]
  },
  {
   "cell_type": "code",
   "execution_count": 5,
   "id": "a089c9ff",
   "metadata": {
    "execution": {
     "iopub.execute_input": "2022-07-11T06:30:10.994905Z",
     "iopub.status.busy": "2022-07-11T06:30:10.994749Z",
     "iopub.status.idle": "2022-07-11T06:30:11.009633Z",
     "shell.execute_reply": "2022-07-11T06:30:11.009263Z"
    },
    "papermill": {
     "duration": 0.022123,
     "end_time": "2022-07-11T06:30:11.010969",
     "exception": false,
     "start_time": "2022-07-11T06:30:10.988846",
     "status": "completed"
    },
    "tags": []
   },
   "outputs": [],
   "source": [
    "EQTL_MODEL_FILES_PREFIX = conf.PHENOMEXCAN[\"PREDICTION_MODELS\"][f\"{EQTL_MODEL}_PREFIX\"]"
   ]
  },
  {
   "cell_type": "code",
   "execution_count": 6,
   "id": "8fe24bef",
   "metadata": {
    "execution": {
     "iopub.execute_input": "2022-07-11T06:30:11.022679Z",
     "iopub.status.busy": "2022-07-11T06:30:11.022524Z",
     "iopub.status.idle": "2022-07-11T06:30:11.040071Z",
     "shell.execute_reply": "2022-07-11T06:30:11.039715Z"
    },
    "papermill": {
     "duration": 0.024784,
     "end_time": "2022-07-11T06:30:11.041319",
     "exception": false,
     "start_time": "2022-07-11T06:30:11.016535",
     "status": "completed"
    },
    "tags": []
   },
   "outputs": [
    {
     "data": {
      "text/plain": [
       "'Using eQTL model: MASHR / mashr_'"
      ]
     },
     "metadata": {},
     "output_type": "display_data"
    }
   ],
   "source": [
    "display(f\"Using eQTL model: {EQTL_MODEL} / {EQTL_MODEL_FILES_PREFIX}\")"
   ]
  },
  {
   "cell_type": "code",
   "execution_count": 7,
   "id": "552a7f63-a18c-4d3e-bb6a-94f99b431291",
   "metadata": {
    "execution": {
     "iopub.execute_input": "2022-07-11T06:30:11.062314Z",
     "iopub.status.busy": "2022-07-11T06:30:11.062159Z",
     "iopub.status.idle": "2022-07-11T06:30:11.088239Z",
     "shell.execute_reply": "2022-07-11T06:30:11.087861Z"
    },
    "papermill": {
     "duration": 0.038772,
     "end_time": "2022-07-11T06:30:11.089535",
     "exception": false,
     "start_time": "2022-07-11T06:30:11.050763",
     "status": "completed"
    },
    "tags": []
   },
   "outputs": [
    {
     "data": {
      "text/plain": [
       "'S-MultiXcan condition number: 30'"
      ]
     },
     "metadata": {},
     "output_type": "display_data"
    }
   ],
   "source": [
    "display(f\"S-MultiXcan condition number: {SMULTIXCAN_CONDITION_NUMBER}\")"
   ]
  },
  {
   "cell_type": "code",
   "execution_count": 8,
   "id": "0230ebcb-2c32-4b95-9292-d9a52038e70d",
   "metadata": {
    "execution": {
     "iopub.execute_input": "2022-07-11T06:30:11.105911Z",
     "iopub.status.busy": "2022-07-11T06:30:11.105750Z",
     "iopub.status.idle": "2022-07-11T06:30:11.120752Z",
     "shell.execute_reply": "2022-07-11T06:30:11.120342Z"
    },
    "papermill": {
     "duration": 0.023607,
     "end_time": "2022-07-11T06:30:11.122128",
     "exception": false,
     "start_time": "2022-07-11T06:30:11.098521",
     "status": "completed"
    },
    "tags": []
   },
   "outputs": [],
   "source": [
    "REFERENCE_PANEL_DIR = conf.PHENOMEXCAN[\"LD_BLOCKS\"][f\"{REFERENCE_PANEL}_GENOTYPE_DIR\"]"
   ]
  },
  {
   "cell_type": "code",
   "execution_count": 9,
   "id": "98c4a159-601d-4a22-a1ab-35bd451c25f9",
   "metadata": {
    "execution": {
     "iopub.execute_input": "2022-07-11T06:30:11.134470Z",
     "iopub.status.busy": "2022-07-11T06:30:11.134309Z",
     "iopub.status.idle": "2022-07-11T06:30:11.150748Z",
     "shell.execute_reply": "2022-07-11T06:30:11.150367Z"
    },
    "papermill": {
     "duration": 0.024034,
     "end_time": "2022-07-11T06:30:11.152090",
     "exception": false,
     "start_time": "2022-07-11T06:30:11.128056",
     "status": "completed"
    },
    "tags": []
   },
   "outputs": [
    {
     "data": {
      "text/plain": [
       "'Using reference panel folder: /opt/data/data/phenomexcan/ld_blocks/reference_panel_1000G'"
      ]
     },
     "metadata": {},
     "output_type": "display_data"
    }
   ],
   "source": [
    "display(f\"Using reference panel folder: {str(REFERENCE_PANEL_DIR)}\")"
   ]
  },
  {
   "cell_type": "code",
   "execution_count": 10,
   "id": "396392dc-0340-4540-9b02-e182b833f909",
   "metadata": {
    "execution": {
     "iopub.execute_input": "2022-07-11T06:30:11.166644Z",
     "iopub.status.busy": "2022-07-11T06:30:11.166483Z",
     "iopub.status.idle": "2022-07-11T06:30:11.181857Z",
     "shell.execute_reply": "2022-07-11T06:30:11.181441Z"
    },
    "papermill": {
     "duration": 0.02326,
     "end_time": "2022-07-11T06:30:11.183293",
     "exception": false,
     "start_time": "2022-07-11T06:30:11.160033",
     "status": "completed"
    },
    "tags": []
   },
   "outputs": [],
   "source": [
    "OUTPUT_DIR_BASE = (\n",
    "    conf.PHENOMEXCAN[\"LD_BLOCKS\"][f\"GENE_CORRS_DIR\"]\n",
    "    / REFERENCE_PANEL.lower()\n",
    "    / EQTL_MODEL.lower()\n",
    ")\n",
    "OUTPUT_DIR_BASE.mkdir(parents=True, exist_ok=True)"
   ]
  },
  {
   "cell_type": "code",
   "execution_count": 11,
   "id": "8942c2d3-e53c-4d63-a0eb-b6fce0574d36",
   "metadata": {
    "execution": {
     "iopub.execute_input": "2022-07-11T06:30:11.207677Z",
     "iopub.status.busy": "2022-07-11T06:30:11.203724Z",
     "iopub.status.idle": "2022-07-11T06:30:11.234371Z",
     "shell.execute_reply": "2022-07-11T06:30:11.233974Z"
    },
    "papermill": {
     "duration": 0.04403,
     "end_time": "2022-07-11T06:30:11.235508",
     "exception": false,
     "start_time": "2022-07-11T06:30:11.191478",
     "status": "completed"
    },
    "tags": []
   },
   "outputs": [
    {
     "data": {
      "text/plain": [
       "'Using output dir base: /opt/data/data/phenomexcan/ld_blocks/gene_corrs/1000g/mashr'"
      ]
     },
     "metadata": {},
     "output_type": "display_data"
    }
   ],
   "source": [
    "display(f\"Using output dir base: {OUTPUT_DIR_BASE}\")"
   ]
  },
  {
   "cell_type": "code",
   "execution_count": 12,
   "id": "408aa590",
   "metadata": {
    "execution": {
     "iopub.execute_input": "2022-07-11T06:30:11.259654Z",
     "iopub.status.busy": "2022-07-11T06:30:11.257055Z",
     "iopub.status.idle": "2022-07-11T06:30:11.284757Z",
     "shell.execute_reply": "2022-07-11T06:30:11.284327Z"
    },
    "papermill": {
     "duration": 0.041551,
     "end_time": "2022-07-11T06:30:11.286277",
     "exception": false,
     "start_time": "2022-07-11T06:30:11.244726",
     "status": "completed"
    },
    "tags": []
   },
   "outputs": [],
   "source": [
    "assert (\n",
    "    chromosome is not None\n",
    "), \"You have to select one chromosome (format: number between 1 and 22)\""
   ]
  },
  {
   "cell_type": "code",
   "execution_count": 13,
   "id": "c1c7dd06-80ff-453c-bcb7-0899edce75da",
   "metadata": {
    "execution": {
     "iopub.execute_input": "2022-07-11T06:30:11.299127Z",
     "iopub.status.busy": "2022-07-11T06:30:11.298965Z",
     "iopub.status.idle": "2022-07-11T06:30:11.313640Z",
     "shell.execute_reply": "2022-07-11T06:30:11.313245Z"
    },
    "papermill": {
     "duration": 0.022642,
     "end_time": "2022-07-11T06:30:11.314943",
     "exception": false,
     "start_time": "2022-07-11T06:30:11.292301",
     "status": "completed"
    },
    "tags": []
   },
   "outputs": [],
   "source": [
    "chromosome = str(chromosome)"
   ]
  },
  {
   "cell_type": "code",
   "execution_count": 14,
   "id": "bc17b84c-9c26-47a5-a3ab-7046e72f3ef4",
   "metadata": {
    "execution": {
     "iopub.execute_input": "2022-07-11T06:30:11.328050Z",
     "iopub.status.busy": "2022-07-11T06:30:11.327701Z",
     "iopub.status.idle": "2022-07-11T06:30:11.350618Z",
     "shell.execute_reply": "2022-07-11T06:30:11.350225Z"
    },
    "papermill": {
     "duration": 0.030784,
     "end_time": "2022-07-11T06:30:11.351883",
     "exception": false,
     "start_time": "2022-07-11T06:30:11.321099",
     "status": "completed"
    },
    "tags": []
   },
   "outputs": [
    {
     "data": {
      "text/plain": [
       "'Working on chromosome 6'"
      ]
     },
     "metadata": {},
     "output_type": "display_data"
    }
   ],
   "source": [
    "display(f\"Working on chromosome {chromosome}\")"
   ]
  },
  {
   "cell_type": "markdown",
   "id": "d2ba085e",
   "metadata": {
    "papermill": {
     "duration": 0.011866,
     "end_time": "2022-07-11T06:30:11.373410",
     "exception": false,
     "start_time": "2022-07-11T06:30:11.361544",
     "status": "completed"
    },
    "tags": []
   },
   "source": [
    "# Load data"
   ]
  },
  {
   "cell_type": "markdown",
   "id": "7bed0ce0-e7c7-4300-9a61-5412450b1904",
   "metadata": {
    "papermill": {
     "duration": 0.011823,
     "end_time": "2022-07-11T06:30:11.397361",
     "exception": false,
     "start_time": "2022-07-11T06:30:11.385538",
     "status": "completed"
    },
    "tags": []
   },
   "source": [
    "## Prediction model tissues"
   ]
  },
  {
   "cell_type": "code",
   "execution_count": 15,
   "id": "0847c065-0d69-4830-a07f-1c75115d17f5",
   "metadata": {
    "execution": {
     "iopub.execute_input": "2022-07-11T06:30:11.422479Z",
     "iopub.status.busy": "2022-07-11T06:30:11.422285Z",
     "iopub.status.idle": "2022-07-11T06:30:11.452908Z",
     "shell.execute_reply": "2022-07-11T06:30:11.452507Z"
    },
    "papermill": {
     "duration": 0.044545,
     "end_time": "2022-07-11T06:30:11.454210",
     "exception": false,
     "start_time": "2022-07-11T06:30:11.409665",
     "status": "completed"
    },
    "tags": []
   },
   "outputs": [],
   "source": [
    "prediction_model_tissues = conf.PHENOMEXCAN[\"PREDICTION_MODELS\"][\n",
    "    f\"{EQTL_MODEL}_TISSUES\"\n",
    "].split(\" \")"
   ]
  },
  {
   "cell_type": "code",
   "execution_count": 16,
   "id": "aaef70d1-30c6-4c6f-9d6b-abc8e9a0081f",
   "metadata": {
    "execution": {
     "iopub.execute_input": "2022-07-11T06:30:11.476786Z",
     "iopub.status.busy": "2022-07-11T06:30:11.476631Z",
     "iopub.status.idle": "2022-07-11T06:30:11.496134Z",
     "shell.execute_reply": "2022-07-11T06:30:11.495755Z"
    },
    "papermill": {
     "duration": 0.0336,
     "end_time": "2022-07-11T06:30:11.497508",
     "exception": false,
     "start_time": "2022-07-11T06:30:11.463908",
     "status": "completed"
    },
    "tags": []
   },
   "outputs": [
    {
     "data": {
      "text/plain": [
       "49"
      ]
     },
     "execution_count": 16,
     "metadata": {},
     "output_type": "execute_result"
    }
   ],
   "source": [
    "len(prediction_model_tissues)"
   ]
  },
  {
   "cell_type": "code",
   "execution_count": 17,
   "id": "ff35a099-c52d-465d-b863-0ee70c26208c",
   "metadata": {
    "execution": {
     "iopub.execute_input": "2022-07-11T06:30:11.510972Z",
     "iopub.status.busy": "2022-07-11T06:30:11.510813Z",
     "iopub.status.idle": "2022-07-11T06:30:11.528258Z",
     "shell.execute_reply": "2022-07-11T06:30:11.527681Z"
    },
    "papermill": {
     "duration": 0.029782,
     "end_time": "2022-07-11T06:30:11.533799",
     "exception": false,
     "start_time": "2022-07-11T06:30:11.504017",
     "status": "completed"
    },
    "tags": []
   },
   "outputs": [
    {
     "data": {
      "text/plain": [
       "['Skin_Not_Sun_Exposed_Suprapubic',\n",
       " 'Cells_EBV-transformed_lymphocytes',\n",
       " 'Brain_Frontal_Cortex_BA9',\n",
       " 'Kidney_Cortex',\n",
       " 'Brain_Substantia_nigra']"
      ]
     },
     "execution_count": 17,
     "metadata": {},
     "output_type": "execute_result"
    }
   ],
   "source": [
    "prediction_model_tissues[:5]"
   ]
  },
  {
   "cell_type": "markdown",
   "id": "abcc4b3d",
   "metadata": {
    "papermill": {
     "duration": 0.012553,
     "end_time": "2022-07-11T06:30:11.556921",
     "exception": false,
     "start_time": "2022-07-11T06:30:11.544368",
     "status": "completed"
    },
    "tags": []
   },
   "source": [
    "## MultiPLIER Z"
   ]
  },
  {
   "cell_type": "code",
   "execution_count": 18,
   "id": "c48ef527",
   "metadata": {
    "execution": {
     "iopub.execute_input": "2022-07-11T06:30:11.582963Z",
     "iopub.status.busy": "2022-07-11T06:30:11.582810Z",
     "iopub.status.idle": "2022-07-11T06:30:11.636682Z",
     "shell.execute_reply": "2022-07-11T06:30:11.636292Z"
    },
    "papermill": {
     "duration": 0.068325,
     "end_time": "2022-07-11T06:30:11.638056",
     "exception": false,
     "start_time": "2022-07-11T06:30:11.569731",
     "status": "completed"
    },
    "tags": []
   },
   "outputs": [],
   "source": [
    "multiplier_z_genes = pd.read_pickle(\n",
    "    conf.MULTIPLIER[\"MODEL_Z_MATRIX_FILE\"]\n",
    ").index.tolist()"
   ]
  },
  {
   "cell_type": "code",
   "execution_count": 19,
   "id": "0a4ecbd9",
   "metadata": {
    "execution": {
     "iopub.execute_input": "2022-07-11T06:30:11.661113Z",
     "iopub.status.busy": "2022-07-11T06:30:11.660956Z",
     "iopub.status.idle": "2022-07-11T06:30:11.684570Z",
     "shell.execute_reply": "2022-07-11T06:30:11.684211Z"
    },
    "papermill": {
     "duration": 0.037482,
     "end_time": "2022-07-11T06:30:11.685677",
     "exception": false,
     "start_time": "2022-07-11T06:30:11.648195",
     "status": "completed"
    },
    "tags": []
   },
   "outputs": [
    {
     "data": {
      "text/plain": [
       "6750"
      ]
     },
     "execution_count": 19,
     "metadata": {},
     "output_type": "execute_result"
    }
   ],
   "source": [
    "len(multiplier_z_genes)"
   ]
  },
  {
   "cell_type": "code",
   "execution_count": 20,
   "id": "115e8864",
   "metadata": {
    "execution": {
     "iopub.execute_input": "2022-07-11T06:30:11.711601Z",
     "iopub.status.busy": "2022-07-11T06:30:11.711434Z",
     "iopub.status.idle": "2022-07-11T06:30:11.735494Z",
     "shell.execute_reply": "2022-07-11T06:30:11.735132Z"
    },
    "papermill": {
     "duration": 0.038737,
     "end_time": "2022-07-11T06:30:11.736593",
     "exception": false,
     "start_time": "2022-07-11T06:30:11.697856",
     "status": "completed"
    },
    "tags": []
   },
   "outputs": [
    {
     "data": {
      "text/plain": [
       "['GAS6',\n",
       " 'MMP14',\n",
       " 'DSP',\n",
       " 'MARCKSL1',\n",
       " 'SPARC',\n",
       " 'CTSD',\n",
       " 'EPAS1',\n",
       " 'PALLD',\n",
       " 'PHC2',\n",
       " 'LGALS3BP']"
      ]
     },
     "execution_count": 20,
     "metadata": {},
     "output_type": "execute_result"
    }
   ],
   "source": [
    "multiplier_z_genes[:10]"
   ]
  },
  {
   "cell_type": "markdown",
   "id": "7dcb8db7",
   "metadata": {
    "papermill": {
     "duration": 0.014144,
     "end_time": "2022-07-11T06:30:11.757077",
     "exception": false,
     "start_time": "2022-07-11T06:30:11.742933",
     "status": "completed"
    },
    "tags": []
   },
   "source": [
    "## Get gene objects"
   ]
  },
  {
   "cell_type": "code",
   "execution_count": 21,
   "id": "bb932812",
   "metadata": {
    "execution": {
     "iopub.execute_input": "2022-07-11T06:30:11.792717Z",
     "iopub.status.busy": "2022-07-11T06:30:11.792557Z",
     "iopub.status.idle": "2022-07-11T06:30:11.812651Z",
     "shell.execute_reply": "2022-07-11T06:30:11.812240Z"
    },
    "papermill": {
     "duration": 0.038111,
     "end_time": "2022-07-11T06:30:11.815088",
     "exception": false,
     "start_time": "2022-07-11T06:30:11.776977",
     "status": "completed"
    },
    "tags": []
   },
   "outputs": [],
   "source": [
    "multiplier_gene_obj = {\n",
    "    gene_name: Gene(name=gene_name)\n",
    "    for gene_name in multiplier_z_genes\n",
    "    if gene_name in Gene.GENE_NAME_TO_ID_MAP\n",
    "}"
   ]
  },
  {
   "cell_type": "code",
   "execution_count": 22,
   "id": "39533214",
   "metadata": {
    "execution": {
     "iopub.execute_input": "2022-07-11T06:30:11.852786Z",
     "iopub.status.busy": "2022-07-11T06:30:11.852626Z",
     "iopub.status.idle": "2022-07-11T06:30:11.889481Z",
     "shell.execute_reply": "2022-07-11T06:30:11.889093Z"
    },
    "papermill": {
     "duration": 0.05586,
     "end_time": "2022-07-11T06:30:11.890676",
     "exception": false,
     "start_time": "2022-07-11T06:30:11.834816",
     "status": "completed"
    },
    "tags": []
   },
   "outputs": [
    {
     "data": {
      "text/plain": [
       "6454"
      ]
     },
     "execution_count": 22,
     "metadata": {},
     "output_type": "execute_result"
    }
   ],
   "source": [
    "len(multiplier_gene_obj)"
   ]
  },
  {
   "cell_type": "code",
   "execution_count": 23,
   "id": "9a5d0b84",
   "metadata": {
    "execution": {
     "iopub.execute_input": "2022-07-11T06:30:11.910117Z",
     "iopub.status.busy": "2022-07-11T06:30:11.909956Z",
     "iopub.status.idle": "2022-07-11T06:30:11.926831Z",
     "shell.execute_reply": "2022-07-11T06:30:11.926431Z"
    },
    "papermill": {
     "duration": 0.025449,
     "end_time": "2022-07-11T06:30:11.928227",
     "exception": false,
     "start_time": "2022-07-11T06:30:11.902778",
     "status": "completed"
    },
    "tags": []
   },
   "outputs": [
    {
     "data": {
      "text/plain": [
       "'ENSG00000183087'"
      ]
     },
     "execution_count": 23,
     "metadata": {},
     "output_type": "execute_result"
    }
   ],
   "source": [
    "multiplier_gene_obj[\"GAS6\"].ensembl_id"
   ]
  },
  {
   "cell_type": "code",
   "execution_count": 24,
   "id": "e3ffabc7",
   "metadata": {
    "execution": {
     "iopub.execute_input": "2022-07-11T06:30:11.942762Z",
     "iopub.status.busy": "2022-07-11T06:30:11.942598Z",
     "iopub.status.idle": "2022-07-11T06:30:14.875022Z",
     "shell.execute_reply": "2022-07-11T06:30:14.874612Z"
    },
    "papermill": {
     "duration": 2.941048,
     "end_time": "2022-07-11T06:30:14.876361",
     "exception": false,
     "start_time": "2022-07-11T06:30:11.935313",
     "status": "completed"
    },
    "tags": []
   },
   "outputs": [],
   "source": [
    "_gene_obj = list(multiplier_gene_obj.values())\n",
    "\n",
    "genes_info = pd.DataFrame(\n",
    "    {\n",
    "        \"name\": [g.name for g in _gene_obj],\n",
    "        \"id\": [g.ensembl_id for g in _gene_obj],\n",
    "        \"chr\": [g.chromosome for g in _gene_obj],\n",
    "        \"band\": [g.band for g in _gene_obj],\n",
    "        \"start_position\": [g.get_attribute(\"start_position\") for g in _gene_obj],\n",
    "    }\n",
    ")"
   ]
  },
  {
   "cell_type": "code",
   "execution_count": 25,
   "id": "e23519b8",
   "metadata": {
    "execution": {
     "iopub.execute_input": "2022-07-11T06:30:14.903680Z",
     "iopub.status.busy": "2022-07-11T06:30:14.899593Z",
     "iopub.status.idle": "2022-07-11T06:30:14.932790Z",
     "shell.execute_reply": "2022-07-11T06:30:14.932373Z"
    },
    "papermill": {
     "duration": 0.046753,
     "end_time": "2022-07-11T06:30:14.934086",
     "exception": false,
     "start_time": "2022-07-11T06:30:14.887333",
     "status": "completed"
    },
    "tags": []
   },
   "outputs": [
    {
     "data": {
      "text/plain": [
       "(6454, 5)"
      ]
     },
     "execution_count": 25,
     "metadata": {},
     "output_type": "execute_result"
    }
   ],
   "source": [
    "genes_info.shape"
   ]
  },
  {
   "cell_type": "code",
   "execution_count": 26,
   "id": "0d71881c",
   "metadata": {
    "execution": {
     "iopub.execute_input": "2022-07-11T06:30:14.956678Z",
     "iopub.status.busy": "2022-07-11T06:30:14.956516Z",
     "iopub.status.idle": "2022-07-11T06:30:14.977707Z",
     "shell.execute_reply": "2022-07-11T06:30:14.977278Z"
    },
    "papermill": {
     "duration": 0.035042,
     "end_time": "2022-07-11T06:30:14.979059",
     "exception": false,
     "start_time": "2022-07-11T06:30:14.944017",
     "status": "completed"
    },
    "tags": []
   },
   "outputs": [
    {
     "data": {
      "text/html": [
       "<div>\n",
       "<style scoped>\n",
       "    .dataframe tbody tr th:only-of-type {\n",
       "        vertical-align: middle;\n",
       "    }\n",
       "\n",
       "    .dataframe tbody tr th {\n",
       "        vertical-align: top;\n",
       "    }\n",
       "\n",
       "    .dataframe thead th {\n",
       "        text-align: right;\n",
       "    }\n",
       "</style>\n",
       "<table border=\"1\" class=\"dataframe\">\n",
       "  <thead>\n",
       "    <tr style=\"text-align: right;\">\n",
       "      <th></th>\n",
       "      <th>name</th>\n",
       "      <th>id</th>\n",
       "      <th>chr</th>\n",
       "      <th>band</th>\n",
       "      <th>start_position</th>\n",
       "    </tr>\n",
       "  </thead>\n",
       "  <tbody>\n",
       "    <tr>\n",
       "      <th>0</th>\n",
       "      <td>GAS6</td>\n",
       "      <td>ENSG00000183087</td>\n",
       "      <td>13</td>\n",
       "      <td>13q34</td>\n",
       "      <td>113820549.0</td>\n",
       "    </tr>\n",
       "    <tr>\n",
       "      <th>1</th>\n",
       "      <td>MMP14</td>\n",
       "      <td>ENSG00000157227</td>\n",
       "      <td>14</td>\n",
       "      <td>14q11.2</td>\n",
       "      <td>22836560.0</td>\n",
       "    </tr>\n",
       "    <tr>\n",
       "      <th>2</th>\n",
       "      <td>DSP</td>\n",
       "      <td>ENSG00000096696</td>\n",
       "      <td>6</td>\n",
       "      <td>6p24.3</td>\n",
       "      <td>7541617.0</td>\n",
       "    </tr>\n",
       "    <tr>\n",
       "      <th>3</th>\n",
       "      <td>MARCKSL1</td>\n",
       "      <td>ENSG00000175130</td>\n",
       "      <td>1</td>\n",
       "      <td>1p35.1</td>\n",
       "      <td>32333839.0</td>\n",
       "    </tr>\n",
       "    <tr>\n",
       "      <th>4</th>\n",
       "      <td>SPARC</td>\n",
       "      <td>ENSG00000113140</td>\n",
       "      <td>5</td>\n",
       "      <td>5q33.1</td>\n",
       "      <td>151661096.0</td>\n",
       "    </tr>\n",
       "  </tbody>\n",
       "</table>\n",
       "</div>"
      ],
      "text/plain": [
       "       name               id chr     band  start_position\n",
       "0      GAS6  ENSG00000183087  13    13q34     113820549.0\n",
       "1     MMP14  ENSG00000157227  14  14q11.2      22836560.0\n",
       "2       DSP  ENSG00000096696   6   6p24.3       7541617.0\n",
       "3  MARCKSL1  ENSG00000175130   1   1p35.1      32333839.0\n",
       "4     SPARC  ENSG00000113140   5   5q33.1     151661096.0"
      ]
     },
     "execution_count": 26,
     "metadata": {},
     "output_type": "execute_result"
    }
   ],
   "source": [
    "genes_info.head()"
   ]
  },
  {
   "cell_type": "markdown",
   "id": "c8d1038f",
   "metadata": {
    "papermill": {
     "duration": 0.007466,
     "end_time": "2022-07-11T06:30:14.994576",
     "exception": false,
     "start_time": "2022-07-11T06:30:14.987110",
     "status": "completed"
    },
    "tags": []
   },
   "source": [
    "# Test"
   ]
  },
  {
   "cell_type": "code",
   "execution_count": 27,
   "id": "64993abf",
   "metadata": {
    "execution": {
     "iopub.execute_input": "2022-07-11T06:30:15.009007Z",
     "iopub.status.busy": "2022-07-11T06:30:15.008850Z",
     "iopub.status.idle": "2022-07-11T06:30:15.032269Z",
     "shell.execute_reply": "2022-07-11T06:30:15.031892Z"
    },
    "papermill": {
     "duration": 0.032041,
     "end_time": "2022-07-11T06:30:15.033536",
     "exception": false,
     "start_time": "2022-07-11T06:30:15.001495",
     "status": "completed"
    },
    "tags": []
   },
   "outputs": [
    {
     "data": {
      "text/html": [
       "<div>\n",
       "<style scoped>\n",
       "    .dataframe tbody tr th:only-of-type {\n",
       "        vertical-align: middle;\n",
       "    }\n",
       "\n",
       "    .dataframe tbody tr th {\n",
       "        vertical-align: top;\n",
       "    }\n",
       "\n",
       "    .dataframe thead th {\n",
       "        text-align: right;\n",
       "    }\n",
       "</style>\n",
       "<table border=\"1\" class=\"dataframe\">\n",
       "  <thead>\n",
       "    <tr style=\"text-align: right;\">\n",
       "      <th></th>\n",
       "      <th>name</th>\n",
       "      <th>id</th>\n",
       "      <th>chr</th>\n",
       "      <th>band</th>\n",
       "      <th>start_position</th>\n",
       "    </tr>\n",
       "  </thead>\n",
       "  <tbody>\n",
       "    <tr>\n",
       "      <th>2</th>\n",
       "      <td>DSP</td>\n",
       "      <td>ENSG00000096696</td>\n",
       "      <td>6</td>\n",
       "      <td>6p24.3</td>\n",
       "      <td>7541617.0</td>\n",
       "    </tr>\n",
       "    <tr>\n",
       "      <th>32</th>\n",
       "      <td>IER3</td>\n",
       "      <td>ENSG00000137331</td>\n",
       "      <td>6</td>\n",
       "      <td>6p21.33</td>\n",
       "      <td>30743199.0</td>\n",
       "    </tr>\n",
       "    <tr>\n",
       "      <th>40</th>\n",
       "      <td>DYNLT1</td>\n",
       "      <td>ENSG00000146425</td>\n",
       "      <td>6</td>\n",
       "      <td>6q25.3</td>\n",
       "      <td>158636474.0</td>\n",
       "    </tr>\n",
       "    <tr>\n",
       "      <th>55</th>\n",
       "      <td>TRAM2</td>\n",
       "      <td>ENSG00000065308</td>\n",
       "      <td>6</td>\n",
       "      <td>6p12.2</td>\n",
       "      <td>52497408.0</td>\n",
       "    </tr>\n",
       "    <tr>\n",
       "      <th>76</th>\n",
       "      <td>MAP7</td>\n",
       "      <td>ENSG00000135525</td>\n",
       "      <td>6</td>\n",
       "      <td>6q23.3</td>\n",
       "      <td>136342281.0</td>\n",
       "    </tr>\n",
       "    <tr>\n",
       "      <th>...</th>\n",
       "      <td>...</td>\n",
       "      <td>...</td>\n",
       "      <td>...</td>\n",
       "      <td>...</td>\n",
       "      <td>...</td>\n",
       "    </tr>\n",
       "    <tr>\n",
       "      <th>6396</th>\n",
       "      <td>CD2AP</td>\n",
       "      <td>ENSG00000198087</td>\n",
       "      <td>6</td>\n",
       "      <td>6p12.3</td>\n",
       "      <td>47477789.0</td>\n",
       "    </tr>\n",
       "    <tr>\n",
       "      <th>6410</th>\n",
       "      <td>ORC3</td>\n",
       "      <td>ENSG00000135336</td>\n",
       "      <td>6</td>\n",
       "      <td>6q15</td>\n",
       "      <td>87590067.0</td>\n",
       "    </tr>\n",
       "    <tr>\n",
       "      <th>6428</th>\n",
       "      <td>PRDM1</td>\n",
       "      <td>ENSG00000057657</td>\n",
       "      <td>6</td>\n",
       "      <td>6q21</td>\n",
       "      <td>105993463.0</td>\n",
       "    </tr>\n",
       "    <tr>\n",
       "      <th>6430</th>\n",
       "      <td>RGS17</td>\n",
       "      <td>ENSG00000091844</td>\n",
       "      <td>6</td>\n",
       "      <td>6q25.2</td>\n",
       "      <td>153004459.0</td>\n",
       "    </tr>\n",
       "    <tr>\n",
       "      <th>6440</th>\n",
       "      <td>BRPF3</td>\n",
       "      <td>ENSG00000096070</td>\n",
       "      <td>6</td>\n",
       "      <td>6p21.31</td>\n",
       "      <td>36196744.0</td>\n",
       "    </tr>\n",
       "  </tbody>\n",
       "</table>\n",
       "<p>339 rows × 5 columns</p>\n",
       "</div>"
      ],
      "text/plain": [
       "        name               id chr     band  start_position\n",
       "2        DSP  ENSG00000096696   6   6p24.3       7541617.0\n",
       "32      IER3  ENSG00000137331   6  6p21.33      30743199.0\n",
       "40    DYNLT1  ENSG00000146425   6   6q25.3     158636474.0\n",
       "55     TRAM2  ENSG00000065308   6   6p12.2      52497408.0\n",
       "76      MAP7  ENSG00000135525   6   6q23.3     136342281.0\n",
       "...      ...              ...  ..      ...             ...\n",
       "6396   CD2AP  ENSG00000198087   6   6p12.3      47477789.0\n",
       "6410    ORC3  ENSG00000135336   6     6q15      87590067.0\n",
       "6428   PRDM1  ENSG00000057657   6     6q21     105993463.0\n",
       "6430   RGS17  ENSG00000091844   6   6q25.2     153004459.0\n",
       "6440   BRPF3  ENSG00000096070   6  6p21.31      36196744.0\n",
       "\n",
       "[339 rows x 5 columns]"
      ]
     },
     "metadata": {},
     "output_type": "display_data"
    }
   ],
   "source": [
    "chromosome_genes_info = genes_info[genes_info[\"chr\"] == chromosome]\n",
    "display(chromosome_genes_info)"
   ]
  },
  {
   "cell_type": "code",
   "execution_count": 28,
   "id": "d2e42726-7de6-46eb-acfc-6323eaa8fae6",
   "metadata": {
    "execution": {
     "iopub.execute_input": "2022-07-11T06:30:15.060678Z",
     "iopub.status.busy": "2022-07-11T06:30:15.060520Z",
     "iopub.status.idle": "2022-07-11T06:30:15.090412Z",
     "shell.execute_reply": "2022-07-11T06:30:15.090043Z"
    },
    "papermill": {
     "duration": 0.046275,
     "end_time": "2022-07-11T06:30:15.091837",
     "exception": false,
     "start_time": "2022-07-11T06:30:15.045562",
     "status": "completed"
    },
    "tags": []
   },
   "outputs": [
    {
     "data": {
      "text/plain": [
       "5"
      ]
     },
     "metadata": {},
     "output_type": "display_data"
    }
   ],
   "source": [
    "seed(0)\n",
    "_gene_list_ids = sample(chromosome_genes_info[\"id\"].tolist(), 5)\n",
    "selected_chromosome_genes_obj = [Gene(ensembl_id=g_id) for g_id in _gene_list_ids]\n",
    "display(len(selected_chromosome_genes_obj))"
   ]
  },
  {
   "cell_type": "code",
   "execution_count": 29,
   "id": "1b355359",
   "metadata": {
    "execution": {
     "iopub.execute_input": "2022-07-11T06:30:15.134152Z",
     "iopub.status.busy": "2022-07-11T06:30:15.133994Z",
     "iopub.status.idle": "2022-07-11T06:30:17.771977Z",
     "shell.execute_reply": "2022-07-11T06:30:17.771597Z"
    },
    "papermill": {
     "duration": 2.661176,
     "end_time": "2022-07-11T06:30:17.773089",
     "exception": false,
     "start_time": "2022-07-11T06:30:15.111913",
     "status": "completed"
    },
    "tags": []
   },
   "outputs": [
    {
     "name": "stdout",
     "output_type": "stream",
     "text": [
      "HIST1H2BJ / MUT: 0.0\n",
      "HIST1H2BJ / SUPT3H: 0.0\n",
      "HIST1H2BJ / SERPINB6: 0.0\n",
      "HIST1H2BJ / PPT2: 0.0\n",
      "MUT / SUPT3H: 0.008309340231876789\n",
      "MUT / SERPINB6: 0.0\n",
      "MUT / PPT2: 0.0\n",
      "SUPT3H / SERPINB6: 0.0\n",
      "SUPT3H / PPT2: 0.0\n",
      "SERPINB6 / PPT2: 0.0\n"
     ]
    }
   ],
   "source": [
    "for gene_idx1 in range(0, len(selected_chromosome_genes_obj) - 1):\n",
    "    gene_obj1 = selected_chromosome_genes_obj[gene_idx1]\n",
    "\n",
    "    for gene_idx2 in range(gene_idx1 + 1, len(selected_chromosome_genes_obj)):\n",
    "        gene_obj2 = selected_chromosome_genes_obj[gene_idx2]\n",
    "\n",
    "        c = gene_obj1.get_ssm_correlation(\n",
    "            gene_obj2,\n",
    "        )\n",
    "\n",
    "        print(f\"{gene_obj1.name} / {gene_obj2.name}: {c}\")"
   ]
  },
  {
   "cell_type": "markdown",
   "id": "d3843e06",
   "metadata": {
    "papermill": {
     "duration": 0.016137,
     "end_time": "2022-07-11T06:30:17.804470",
     "exception": false,
     "start_time": "2022-07-11T06:30:17.788333",
     "status": "completed"
    },
    "tags": []
   },
   "source": [
    "# Compute correlation per chromosome"
   ]
  },
  {
   "cell_type": "code",
   "execution_count": 30,
   "id": "cb859c15-d1f3-4006-a74c-2b83c0db9611",
   "metadata": {
    "execution": {
     "iopub.execute_input": "2022-07-11T06:30:17.828952Z",
     "iopub.status.busy": "2022-07-11T06:30:17.828511Z",
     "iopub.status.idle": "2022-07-11T06:30:17.854868Z",
     "shell.execute_reply": "2022-07-11T06:30:17.854485Z"
    },
    "papermill": {
     "duration": 0.035204,
     "end_time": "2022-07-11T06:30:17.856007",
     "exception": false,
     "start_time": "2022-07-11T06:30:17.820803",
     "status": "completed"
    },
    "tags": []
   },
   "outputs": [
    {
     "data": {
      "text/plain": [
       "PosixPath('/opt/data/data/phenomexcan/ld_blocks/gene_corrs/1000g/mashr/by_chr/gene_corrs-chr6.pkl')"
      ]
     },
     "metadata": {},
     "output_type": "display_data"
    }
   ],
   "source": [
    "output_dir = OUTPUT_DIR_BASE / \"by_chr\"\n",
    "output_dir.mkdir(exist_ok=True, parents=True)\n",
    "output_file = output_dir / f\"gene_corrs-chr{chromosome}.pkl\"\n",
    "display(output_file)"
   ]
  },
  {
   "cell_type": "code",
   "execution_count": 31,
   "id": "aa674fe4-6794-4eed-98fa-32b39d1d4ace",
   "metadata": {
    "execution": {
     "iopub.execute_input": "2022-07-11T06:30:17.887899Z",
     "iopub.status.busy": "2022-07-11T06:30:17.887740Z",
     "iopub.status.idle": "2022-07-11T06:30:17.915185Z",
     "shell.execute_reply": "2022-07-11T06:30:17.914785Z"
    },
    "papermill": {
     "duration": 0.045128,
     "end_time": "2022-07-11T06:30:17.916468",
     "exception": false,
     "start_time": "2022-07-11T06:30:17.871340",
     "status": "completed"
    },
    "tags": []
   },
   "outputs": [],
   "source": [
    "warnings.filterwarnings(\"error\")"
   ]
  },
  {
   "cell_type": "code",
   "execution_count": 32,
   "id": "cdbb90a1",
   "metadata": {
    "execution": {
     "iopub.execute_input": "2022-07-11T06:30:17.944170Z",
     "iopub.status.busy": "2022-07-11T06:30:17.944013Z",
     "iopub.status.idle": "2022-07-11T06:44:36.052275Z",
     "shell.execute_reply": "2022-07-11T06:44:36.051699Z"
    },
    "papermill": {
     "duration": 858.125063,
     "end_time": "2022-07-11T06:44:36.053862",
     "exception": false,
     "start_time": "2022-07-11T06:30:17.928799",
     "status": "completed"
    },
    "tags": []
   },
   "outputs": [
    {
     "name": "stdout",
     "output_type": "stream",
     "text": [
      "Number of genes in chromosome: 339\n",
      "Number of gene combinations: 57291\n"
     ]
    },
    {
     "name": "stderr",
     "output_type": "stream",
     "text": [
      "ENSG00000008018 / ENSG00000112592: 100%|██████████████████████| 57291/57291 [14:18<00:00, 66.77it/s]"
     ]
    },
    {
     "name": "stdout",
     "output_type": "stream",
     "text": [
      "Min/max values: 0.0 / 0.950256721874492\n"
     ]
    },
    {
     "name": "stderr",
     "output_type": "stream",
     "text": [
      "\n"
     ]
    },
    {
     "data": {
      "text/plain": [
       "PosixPath('/opt/data/data/phenomexcan/ld_blocks/gene_corrs/1000g/mashr/by_chr/gene_corrs-chr6.pkl')"
      ]
     },
     "metadata": {},
     "output_type": "display_data"
    }
   ],
   "source": [
    "# standard checks\n",
    "all_chrs = genes_info[\"chr\"].dropna().unique()\n",
    "assert all_chrs.shape[0] == 22\n",
    "\n",
    "# select chromosome given by the user\n",
    "assert chromosome in all_chrs\n",
    "\n",
    "# run only on the chromosome specified\n",
    "all_chrs = [chromosome]\n",
    "genes_chr = genes_info[genes_info[\"chr\"] == chromosome]\n",
    "\n",
    "# For testing purposes\n",
    "# genes_chr = genes_chr.sample(n=20)\n",
    "\n",
    "print(f\"Number of genes in chromosome: {genes_chr.shape[0]}\", flush=True)\n",
    "\n",
    "# sort genes by starting position to make visualizations better later\n",
    "genes_chr = genes_chr.sort_values(\"start_position\")\n",
    "\n",
    "gene_chr_objs = [Gene(ensembl_id=gene_id) for gene_id in genes_chr[\"id\"]]\n",
    "gene_chr_ids = [g.ensembl_id for g in gene_chr_objs]\n",
    "\n",
    "n = len(gene_chr_objs)\n",
    "n_comb = int(n * (n - 1) / 2.0)\n",
    "print(f\"Number of gene combinations: {n_comb}\", flush=True)\n",
    "\n",
    "gene_corrs = []\n",
    "\n",
    "pbar = tqdm(ncols=100, total=n_comb)\n",
    "i = 0\n",
    "for gene_idx1 in range(0, len(gene_chr_objs) - 1):\n",
    "    gene_obj1 = gene_chr_objs[gene_idx1]\n",
    "\n",
    "    for gene_idx2 in range(gene_idx1 + 1, len(gene_chr_objs)):\n",
    "        gene_obj2 = gene_chr_objs[gene_idx2]\n",
    "\n",
    "        pbar.set_description(f\"{gene_obj1.ensembl_id} / {gene_obj2.ensembl_id}\")\n",
    "\n",
    "        try:\n",
    "            # FIXME: compute the correlation of the sum of squares of the model using all\n",
    "            # the available tissues; this could be problematic because for some results\n",
    "            # (computed on a specific phenotype/GWAS) we might not have all the tissues\n",
    "            # available, which can certainly bias the correlation estimation.\n",
    "            # Since this depends on the GWAS on a specific phenotype, we should ideally have\n",
    "            # one correlation matrix per GWAS. I should look at how we can improve this.\n",
    "            r = gene_obj1.get_ssm_correlation(\n",
    "                other_gene=gene_obj2,\n",
    "                condition_number=SMULTIXCAN_CONDITION_NUMBER,\n",
    "                reference_panel=REFERENCE_PANEL,\n",
    "                model_type=EQTL_MODEL,\n",
    "            )\n",
    "\n",
    "            if r is None:\n",
    "                # if r is None, it's very likely because:\n",
    "                #  * one of the genes has no prediction models\n",
    "                #  * all the SNPs predictors for the gene are not present in the reference\n",
    "                #    panel\n",
    "\n",
    "                r = 0.0\n",
    "\n",
    "            gene_corrs.append(r)\n",
    "        except Warning:\n",
    "            print(\n",
    "                f\"RuntimeWarning for genes {gene_obj1.ensembl_id} and {gene_obj2.ensembl_id}\",\n",
    "                flush=True,\n",
    "            )\n",
    "            import traceback\n",
    "\n",
    "            print(traceback.format_exc(), flush=True)\n",
    "        except Exception as e:\n",
    "            print(\n",
    "                f\"Exception for genes {gene_obj1.ensembl_id} and {gene_obj2.ensembl_id}\",\n",
    "                flush=True,\n",
    "            )\n",
    "            import traceback\n",
    "\n",
    "            print(traceback.format_exc(), flush=True)\n",
    "            gene_corrs.append(np.nan)\n",
    "\n",
    "        pbar.update(1)\n",
    "\n",
    "pbar.close()\n",
    "\n",
    "# testing\n",
    "gene_corrs_flat = pd.Series(gene_corrs)\n",
    "print(f\"Min/max values: {gene_corrs_flat.min()} / {gene_corrs_flat.max()}\")\n",
    "assert gene_corrs_flat.min() >= -1.001\n",
    "assert gene_corrs_flat.max() <= 1.001\n",
    "\n",
    "# save\n",
    "# FIXME: consider saving only the condenced matrix here. See here for\n",
    "# more details: https://github.com/greenelab/phenoplier/pull/38#discussion_r634600813\n",
    "gene_corrs_data = squareform(np.array(gene_corrs, dtype=np.float64))\n",
    "np.fill_diagonal(gene_corrs_data, 1.0)\n",
    "\n",
    "gene_corrs_df = pd.DataFrame(\n",
    "    data=gene_corrs_data,\n",
    "    index=gene_chr_ids,\n",
    "    columns=gene_chr_ids,\n",
    ")\n",
    "\n",
    "output_dir.mkdir(exist_ok=True, parents=True)\n",
    "display(output_file)\n",
    "\n",
    "gene_corrs_df.to_pickle(output_file)"
   ]
  },
  {
   "cell_type": "markdown",
   "id": "faa67b51-5373-470f-aa72-2ded53fa6dfe",
   "metadata": {
    "papermill": {
     "duration": 2.689793,
     "end_time": "2022-07-11T06:44:41.160736",
     "exception": false,
     "start_time": "2022-07-11T06:44:38.470943",
     "status": "completed"
    },
    "tags": []
   },
   "source": [
    "# Testing"
   ]
  },
  {
   "cell_type": "code",
   "execution_count": 33,
   "id": "14f7d046-4b55-4896-a56b-990127bcc388",
   "metadata": {
    "execution": {
     "iopub.execute_input": "2022-07-11T06:44:46.118363Z",
     "iopub.status.busy": "2022-07-11T06:44:46.118141Z",
     "iopub.status.idle": "2022-07-11T06:44:46.137874Z",
     "shell.execute_reply": "2022-07-11T06:44:46.137333Z"
    },
    "papermill": {
     "duration": 2.439666,
     "end_time": "2022-07-11T06:44:46.139537",
     "exception": false,
     "start_time": "2022-07-11T06:44:43.699871",
     "status": "completed"
    },
    "tags": []
   },
   "outputs": [
    {
     "data": {
      "text/plain": [
       "(339, 339)"
      ]
     },
     "execution_count": 33,
     "metadata": {},
     "output_type": "execute_result"
    }
   ],
   "source": [
    "gene_corrs_df.shape"
   ]
  },
  {
   "cell_type": "code",
   "execution_count": 34,
   "id": "c7d15414-3297-4537-a7c6-7588c0baeb75",
   "metadata": {
    "execution": {
     "iopub.execute_input": "2022-07-11T06:44:51.445400Z",
     "iopub.status.busy": "2022-07-11T06:44:51.445001Z",
     "iopub.status.idle": "2022-07-11T06:44:51.481158Z",
     "shell.execute_reply": "2022-07-11T06:44:51.480506Z"
    },
    "papermill": {
     "duration": 2.550285,
     "end_time": "2022-07-11T06:44:51.482794",
     "exception": false,
     "start_time": "2022-07-11T06:44:48.932509",
     "status": "completed"
    },
    "tags": []
   },
   "outputs": [
    {
     "data": {
      "text/html": [
       "<div>\n",
       "<style scoped>\n",
       "    .dataframe tbody tr th:only-of-type {\n",
       "        vertical-align: middle;\n",
       "    }\n",
       "\n",
       "    .dataframe tbody tr th {\n",
       "        vertical-align: top;\n",
       "    }\n",
       "\n",
       "    .dataframe thead th {\n",
       "        text-align: right;\n",
       "    }\n",
       "</style>\n",
       "<table border=\"1\" class=\"dataframe\">\n",
       "  <thead>\n",
       "    <tr style=\"text-align: right;\">\n",
       "      <th></th>\n",
       "      <th>ENSG00000137265</th>\n",
       "      <th>ENSG00000112685</th>\n",
       "      <th>ENSG00000112699</th>\n",
       "      <th>ENSG00000124570</th>\n",
       "      <th>ENSG00000137275</th>\n",
       "      <th>ENSG00000137267</th>\n",
       "      <th>ENSG00000112739</th>\n",
       "      <th>ENSG00000153046</th>\n",
       "      <th>ENSG00000145982</th>\n",
       "      <th>ENSG00000124491</th>\n",
       "      <th>...</th>\n",
       "      <th>ENSG00000146477</th>\n",
       "      <th>ENSG00000085511</th>\n",
       "      <th>ENSG00000026652</th>\n",
       "      <th>ENSG00000071242</th>\n",
       "      <th>ENSG00000213066</th>\n",
       "      <th>ENSG00000112486</th>\n",
       "      <th>ENSG00000186340</th>\n",
       "      <th>ENSG00000198719</th>\n",
       "      <th>ENSG00000008018</th>\n",
       "      <th>ENSG00000112592</th>\n",
       "    </tr>\n",
       "  </thead>\n",
       "  <tbody>\n",
       "    <tr>\n",
       "      <th>ENSG00000137265</th>\n",
       "      <td>1.000000</td>\n",
       "      <td>0.009465</td>\n",
       "      <td>0.007745</td>\n",
       "      <td>0.016582</td>\n",
       "      <td>0.005597</td>\n",
       "      <td>0.004384</td>\n",
       "      <td>0.007276</td>\n",
       "      <td>0.011687</td>\n",
       "      <td>0.011377</td>\n",
       "      <td>0.000000</td>\n",
       "      <td>...</td>\n",
       "      <td>0.0</td>\n",
       "      <td>0.0</td>\n",
       "      <td>0.0</td>\n",
       "      <td>0.0</td>\n",
       "      <td>0.0</td>\n",
       "      <td>0.0</td>\n",
       "      <td>0.0</td>\n",
       "      <td>0.0</td>\n",
       "      <td>0.0</td>\n",
       "      <td>0.0</td>\n",
       "    </tr>\n",
       "    <tr>\n",
       "      <th>ENSG00000112685</th>\n",
       "      <td>0.009465</td>\n",
       "      <td>1.000000</td>\n",
       "      <td>0.008567</td>\n",
       "      <td>0.011336</td>\n",
       "      <td>0.005840</td>\n",
       "      <td>0.007334</td>\n",
       "      <td>0.008654</td>\n",
       "      <td>0.007624</td>\n",
       "      <td>0.001053</td>\n",
       "      <td>0.000000</td>\n",
       "      <td>...</td>\n",
       "      <td>0.0</td>\n",
       "      <td>0.0</td>\n",
       "      <td>0.0</td>\n",
       "      <td>0.0</td>\n",
       "      <td>0.0</td>\n",
       "      <td>0.0</td>\n",
       "      <td>0.0</td>\n",
       "      <td>0.0</td>\n",
       "      <td>0.0</td>\n",
       "      <td>0.0</td>\n",
       "    </tr>\n",
       "    <tr>\n",
       "      <th>ENSG00000112699</th>\n",
       "      <td>0.007745</td>\n",
       "      <td>0.008567</td>\n",
       "      <td>1.000000</td>\n",
       "      <td>0.012369</td>\n",
       "      <td>0.010397</td>\n",
       "      <td>0.007121</td>\n",
       "      <td>0.013495</td>\n",
       "      <td>0.010948</td>\n",
       "      <td>0.003441</td>\n",
       "      <td>0.009618</td>\n",
       "      <td>...</td>\n",
       "      <td>0.0</td>\n",
       "      <td>0.0</td>\n",
       "      <td>0.0</td>\n",
       "      <td>0.0</td>\n",
       "      <td>0.0</td>\n",
       "      <td>0.0</td>\n",
       "      <td>0.0</td>\n",
       "      <td>0.0</td>\n",
       "      <td>0.0</td>\n",
       "      <td>0.0</td>\n",
       "    </tr>\n",
       "    <tr>\n",
       "      <th>ENSG00000124570</th>\n",
       "      <td>0.016582</td>\n",
       "      <td>0.011336</td>\n",
       "      <td>0.012369</td>\n",
       "      <td>1.000000</td>\n",
       "      <td>0.129617</td>\n",
       "      <td>0.019693</td>\n",
       "      <td>0.014658</td>\n",
       "      <td>0.016146</td>\n",
       "      <td>0.011807</td>\n",
       "      <td>0.021677</td>\n",
       "      <td>...</td>\n",
       "      <td>0.0</td>\n",
       "      <td>0.0</td>\n",
       "      <td>0.0</td>\n",
       "      <td>0.0</td>\n",
       "      <td>0.0</td>\n",
       "      <td>0.0</td>\n",
       "      <td>0.0</td>\n",
       "      <td>0.0</td>\n",
       "      <td>0.0</td>\n",
       "      <td>0.0</td>\n",
       "    </tr>\n",
       "    <tr>\n",
       "      <th>ENSG00000137275</th>\n",
       "      <td>0.005597</td>\n",
       "      <td>0.005840</td>\n",
       "      <td>0.010397</td>\n",
       "      <td>0.129617</td>\n",
       "      <td>1.000000</td>\n",
       "      <td>0.012538</td>\n",
       "      <td>0.008423</td>\n",
       "      <td>0.013597</td>\n",
       "      <td>0.005931</td>\n",
       "      <td>0.010739</td>\n",
       "      <td>...</td>\n",
       "      <td>0.0</td>\n",
       "      <td>0.0</td>\n",
       "      <td>0.0</td>\n",
       "      <td>0.0</td>\n",
       "      <td>0.0</td>\n",
       "      <td>0.0</td>\n",
       "      <td>0.0</td>\n",
       "      <td>0.0</td>\n",
       "      <td>0.0</td>\n",
       "      <td>0.0</td>\n",
       "    </tr>\n",
       "  </tbody>\n",
       "</table>\n",
       "<p>5 rows × 339 columns</p>\n",
       "</div>"
      ],
      "text/plain": [
       "                 ENSG00000137265  ENSG00000112685  ENSG00000112699  \\\n",
       "ENSG00000137265         1.000000         0.009465         0.007745   \n",
       "ENSG00000112685         0.009465         1.000000         0.008567   \n",
       "ENSG00000112699         0.007745         0.008567         1.000000   \n",
       "ENSG00000124570         0.016582         0.011336         0.012369   \n",
       "ENSG00000137275         0.005597         0.005840         0.010397   \n",
       "\n",
       "                 ENSG00000124570  ENSG00000137275  ENSG00000137267  \\\n",
       "ENSG00000137265         0.016582         0.005597         0.004384   \n",
       "ENSG00000112685         0.011336         0.005840         0.007334   \n",
       "ENSG00000112699         0.012369         0.010397         0.007121   \n",
       "ENSG00000124570         1.000000         0.129617         0.019693   \n",
       "ENSG00000137275         0.129617         1.000000         0.012538   \n",
       "\n",
       "                 ENSG00000112739  ENSG00000153046  ENSG00000145982  \\\n",
       "ENSG00000137265         0.007276         0.011687         0.011377   \n",
       "ENSG00000112685         0.008654         0.007624         0.001053   \n",
       "ENSG00000112699         0.013495         0.010948         0.003441   \n",
       "ENSG00000124570         0.014658         0.016146         0.011807   \n",
       "ENSG00000137275         0.008423         0.013597         0.005931   \n",
       "\n",
       "                 ENSG00000124491  ...  ENSG00000146477  ENSG00000085511  \\\n",
       "ENSG00000137265         0.000000  ...              0.0              0.0   \n",
       "ENSG00000112685         0.000000  ...              0.0              0.0   \n",
       "ENSG00000112699         0.009618  ...              0.0              0.0   \n",
       "ENSG00000124570         0.021677  ...              0.0              0.0   \n",
       "ENSG00000137275         0.010739  ...              0.0              0.0   \n",
       "\n",
       "                 ENSG00000026652  ENSG00000071242  ENSG00000213066  \\\n",
       "ENSG00000137265              0.0              0.0              0.0   \n",
       "ENSG00000112685              0.0              0.0              0.0   \n",
       "ENSG00000112699              0.0              0.0              0.0   \n",
       "ENSG00000124570              0.0              0.0              0.0   \n",
       "ENSG00000137275              0.0              0.0              0.0   \n",
       "\n",
       "                 ENSG00000112486  ENSG00000186340  ENSG00000198719  \\\n",
       "ENSG00000137265              0.0              0.0              0.0   \n",
       "ENSG00000112685              0.0              0.0              0.0   \n",
       "ENSG00000112699              0.0              0.0              0.0   \n",
       "ENSG00000124570              0.0              0.0              0.0   \n",
       "ENSG00000137275              0.0              0.0              0.0   \n",
       "\n",
       "                 ENSG00000008018  ENSG00000112592  \n",
       "ENSG00000137265              0.0              0.0  \n",
       "ENSG00000112685              0.0              0.0  \n",
       "ENSG00000112699              0.0              0.0  \n",
       "ENSG00000124570              0.0              0.0  \n",
       "ENSG00000137275              0.0              0.0  \n",
       "\n",
       "[5 rows x 339 columns]"
      ]
     },
     "execution_count": 34,
     "metadata": {},
     "output_type": "execute_result"
    }
   ],
   "source": [
    "gene_corrs_df.head()"
   ]
  },
  {
   "cell_type": "code",
   "execution_count": 35,
   "id": "286686af-1b7b-4440-8453-6bdcbd8de19c",
   "metadata": {
    "execution": {
     "iopub.execute_input": "2022-07-11T06:44:56.452592Z",
     "iopub.status.busy": "2022-07-11T06:44:56.450551Z",
     "iopub.status.idle": "2022-07-11T06:44:56.477553Z",
     "shell.execute_reply": "2022-07-11T06:44:56.477062Z"
    },
    "papermill": {
     "duration": 2.612123,
     "end_time": "2022-07-11T06:44:56.479363",
     "exception": false,
     "start_time": "2022-07-11T06:44:53.867240",
     "status": "completed"
    },
    "tags": []
   },
   "outputs": [],
   "source": [
    "assert not gene_corrs_df.isna().any().any()"
   ]
  },
  {
   "cell_type": "code",
   "execution_count": 36,
   "id": "00583efc-7068-4270-ad1e-4a418e91db96",
   "metadata": {
    "execution": {
     "iopub.execute_input": "2022-07-11T06:45:01.748989Z",
     "iopub.status.busy": "2022-07-11T06:45:01.747695Z",
     "iopub.status.idle": "2022-07-11T06:45:01.779862Z",
     "shell.execute_reply": "2022-07-11T06:45:01.779203Z"
    },
    "papermill": {
     "duration": 2.641162,
     "end_time": "2022-07-11T06:45:01.782057",
     "exception": false,
     "start_time": "2022-07-11T06:44:59.140895",
     "status": "completed"
    },
    "tags": []
   },
   "outputs": [
    {
     "data": {
      "text/plain": [
       "0.0"
      ]
     },
     "metadata": {},
     "output_type": "display_data"
    }
   ],
   "source": [
    "_min_val = gene_corrs_df.min().min()\n",
    "display(_min_val)\n",
    "assert _min_val >= 0.0"
   ]
  },
  {
   "cell_type": "code",
   "execution_count": 37,
   "id": "d04fb2cf-1050-475b-b855-f5f7cc04092b",
   "metadata": {
    "execution": {
     "iopub.execute_input": "2022-07-11T06:45:06.833112Z",
     "iopub.status.busy": "2022-07-11T06:45:06.832903Z",
     "iopub.status.idle": "2022-07-11T06:45:06.870611Z",
     "shell.execute_reply": "2022-07-11T06:45:06.870155Z"
    },
    "papermill": {
     "duration": 2.510116,
     "end_time": "2022-07-11T06:45:06.872104",
     "exception": false,
     "start_time": "2022-07-11T06:45:04.361988",
     "status": "completed"
    },
    "tags": []
   },
   "outputs": [
    {
     "data": {
      "text/plain": [
       "1.0"
      ]
     },
     "metadata": {},
     "output_type": "display_data"
    }
   ],
   "source": [
    "_max_val = gene_corrs_df.max().max()  # this captures the diagonal\n",
    "display(_max_val)\n",
    "assert _max_val <= 1.0"
   ]
  },
  {
   "cell_type": "code",
   "execution_count": 38,
   "id": "96d02c44-1fba-47be-8a93-8f2608420b9c",
   "metadata": {
    "execution": {
     "iopub.execute_input": "2022-07-11T06:45:12.518258Z",
     "iopub.status.busy": "2022-07-11T06:45:12.518088Z",
     "iopub.status.idle": "2022-07-11T06:45:12.537809Z",
     "shell.execute_reply": "2022-07-11T06:45:12.537338Z"
    },
    "papermill": {
     "duration": 2.723112,
     "end_time": "2022-07-11T06:45:12.539373",
     "exception": false,
     "start_time": "2022-07-11T06:45:09.816261",
     "status": "completed"
    },
    "tags": []
   },
   "outputs": [],
   "source": [
    "# check upper triangular values\n",
    "assert len(gene_corrs) == int(genes_chr.shape[0] * (genes_chr.shape[0] - 1) / 2)"
   ]
  },
  {
   "cell_type": "code",
   "execution_count": 39,
   "id": "aaa51627-f4e3-4744-a41f-7d25adcc0a78",
   "metadata": {
    "execution": {
     "iopub.execute_input": "2022-07-11T06:45:17.565819Z",
     "iopub.status.busy": "2022-07-11T06:45:17.565642Z",
     "iopub.status.idle": "2022-07-11T06:45:17.589620Z",
     "shell.execute_reply": "2022-07-11T06:45:17.589196Z"
    },
    "papermill": {
     "duration": 2.606429,
     "end_time": "2022-07-11T06:45:17.591140",
     "exception": false,
     "start_time": "2022-07-11T06:45:14.984711",
     "status": "completed"
    },
    "tags": []
   },
   "outputs": [],
   "source": [
    "gene_corrs = pd.Series(gene_corrs)"
   ]
  },
  {
   "cell_type": "code",
   "execution_count": 40,
   "id": "fe283586-c348-40e0-8841-f6d97bfb021c",
   "metadata": {
    "execution": {
     "iopub.execute_input": "2022-07-11T06:45:22.415384Z",
     "iopub.status.busy": "2022-07-11T06:45:22.415184Z",
     "iopub.status.idle": "2022-07-11T06:45:22.458236Z",
     "shell.execute_reply": "2022-07-11T06:45:22.457779Z"
    },
    "papermill": {
     "duration": 2.447525,
     "end_time": "2022-07-11T06:45:22.459856",
     "exception": false,
     "start_time": "2022-07-11T06:45:20.012331",
     "status": "completed"
    },
    "tags": []
   },
   "outputs": [
    {
     "data": {
      "text/plain": [
       "count    57291.000000\n",
       "mean         0.004837\n",
       "std          0.033833\n",
       "min          0.000000\n",
       "25%          0.000000\n",
       "50%          0.000000\n",
       "75%          0.000000\n",
       "max          0.950257\n",
       "dtype: float64"
      ]
     },
     "execution_count": 40,
     "metadata": {},
     "output_type": "execute_result"
    }
   ],
   "source": [
    "gene_corrs.describe()"
   ]
  },
  {
   "cell_type": "code",
   "execution_count": 41,
   "id": "b3815678-0f93-4b35-897b-a9d047a2aa78",
   "metadata": {
    "execution": {
     "iopub.execute_input": "2022-07-11T06:45:27.433060Z",
     "iopub.status.busy": "2022-07-11T06:45:27.432865Z",
     "iopub.status.idle": "2022-07-11T06:45:27.473854Z",
     "shell.execute_reply": "2022-07-11T06:45:27.473351Z"
    },
    "papermill": {
     "duration": 2.490268,
     "end_time": "2022-07-11T06:45:27.475254",
     "exception": false,
     "start_time": "2022-07-11T06:45:24.984986",
     "status": "completed"
    },
    "tags": []
   },
   "outputs": [
    {
     "data": {
      "text/plain": [
       "0.00    0.000000\n",
       "0.05    0.000000\n",
       "0.10    0.000000\n",
       "0.15    0.000000\n",
       "0.20    0.000000\n",
       "0.25    0.000000\n",
       "0.30    0.000000\n",
       "0.35    0.000000\n",
       "0.40    0.000000\n",
       "0.45    0.000000\n",
       "0.50    0.000000\n",
       "0.55    0.000000\n",
       "0.60    0.000000\n",
       "0.65    0.000000\n",
       "0.70    0.000000\n",
       "0.75    0.000000\n",
       "0.80    0.000000\n",
       "0.85    0.000000\n",
       "0.90    0.004895\n",
       "0.95    0.013579\n",
       "dtype: float64"
      ]
     },
     "metadata": {},
     "output_type": "display_data"
    }
   ],
   "source": [
    "gene_corrs_quantiles = gene_corrs.quantile(np.arange(0, 1, 0.05))\n",
    "display(gene_corrs_quantiles)"
   ]
  },
  {
   "cell_type": "markdown",
   "id": "8e60a080-edb2-4e9c-b2ef-22961693200c",
   "metadata": {
    "papermill": {
     "duration": 2.390688,
     "end_time": "2022-07-11T06:45:32.510476",
     "exception": false,
     "start_time": "2022-07-11T06:45:30.119788",
     "status": "completed"
    },
    "tags": []
   },
   "source": [
    "## Plot: distribution"
   ]
  },
  {
   "cell_type": "code",
   "execution_count": 42,
   "id": "8301126b-a7d4-4744-9c7d-f0f86eb6f54c",
   "metadata": {
    "execution": {
     "iopub.execute_input": "2022-07-11T06:45:37.606417Z",
     "iopub.status.busy": "2022-07-11T06:45:37.606204Z",
     "iopub.status.idle": "2022-07-11T06:45:38.140734Z",
     "shell.execute_reply": "2022-07-11T06:45:38.140070Z"
    },
    "papermill": {
     "duration": 3.197272,
     "end_time": "2022-07-11T06:45:38.142476",
     "exception": false,
     "start_time": "2022-07-11T06:45:34.945204",
     "status": "completed"
    },
    "tags": []
   },
   "outputs": [
    {
     "data": {
      "image/png": "[encoded data removed]",
      "text/plain": [
       "<Figure size 504x504 with 1 Axes>"
      ]
     },
     "metadata": {
      "needs_background": "light"
     },
     "output_type": "display_data"
    }
   ],
   "source": [
    "with sns.plotting_context(\"paper\", font_scale=1.5):\n",
    "    g = sns.displot(gene_corrs, kde=True, height=7)\n",
    "    g.ax.set_title(\n",
    "        f\"Distribution of gene correlation values in chromosome {chromosome}\"\n",
    "    )"
   ]
  },
  {
   "cell_type": "markdown",
   "id": "cbd52bca-d878-4a2f-b684-5c83aa3038d4",
   "metadata": {
    "papermill": {
     "duration": 2.559899,
     "end_time": "2022-07-11T06:45:43.321318",
     "exception": false,
     "start_time": "2022-07-11T06:45:40.761419",
     "status": "completed"
    },
    "tags": []
   },
   "source": [
    "## Plot: heatmap"
   ]
  },
  {
   "cell_type": "code",
   "execution_count": 43,
   "id": "d03fe63a-c7b2-4fb9-a53c-db362ce843c9",
   "metadata": {
    "execution": {
     "iopub.execute_input": "2022-07-11T06:45:48.063719Z",
     "iopub.status.busy": "2022-07-11T06:45:48.063494Z",
     "iopub.status.idle": "2022-07-11T06:45:48.082591Z",
     "shell.execute_reply": "2022-07-11T06:45:48.082034Z"
    },
    "papermill": {
     "duration": 2.360111,
     "end_time": "2022-07-11T06:45:48.084015",
     "exception": false,
     "start_time": "2022-07-11T06:45:45.723904",
     "status": "completed"
    },
    "tags": []
   },
   "outputs": [
    {
     "data": {
      "text/plain": [
       "'-0.05 / 0.05'"
      ]
     },
     "metadata": {},
     "output_type": "display_data"
    }
   ],
   "source": [
    "vmin_val = min(-0.05, gene_corrs_quantiles[0.10])\n",
    "vmax_val = max(0.05, gene_corrs_quantiles[0.90])\n",
    "display(f\"{vmin_val} / {vmax_val}\")"
   ]
  },
  {
   "cell_type": "code",
   "execution_count": 44,
   "id": "dc41b70b-5bcc-4d9e-9f33-a22c4a94dab5",
   "metadata": {
    "execution": {
     "iopub.execute_input": "2022-07-11T06:45:52.819145Z",
     "iopub.status.busy": "2022-07-11T06:45:52.818975Z",
     "iopub.status.idle": "2022-07-11T06:45:53.154299Z",
     "shell.execute_reply": "2022-07-11T06:45:53.153919Z"
    },
    "papermill": {
     "duration": 2.656922,
     "end_time": "2022-07-11T06:45:53.155598",
     "exception": false,
     "start_time": "2022-07-11T06:45:50.498676",
     "status": "completed"
    },
    "tags": []
   },
   "outputs": [
    {
     "data": {
      "text/plain": [
       "Text(0.5, 1.0, 'Gene correlations in chromosome 6')"
      ]
     },
     "execution_count": 44,
     "metadata": {},
     "output_type": "execute_result"
    },
    {
     "data": {
      "image/png": "[encoded data removed]",
      "text/plain": [
       "<Figure size 720x720 with 2 Axes>"
      ]
     },
     "metadata": {
      "needs_background": "light"
     },
     "output_type": "display_data"
    }
   ],
   "source": [
    "f, ax = plt.subplots(figsize=(10, 10))\n",
    "sns.heatmap(\n",
    "    gene_corrs_df,\n",
    "    xticklabels=False,\n",
    "    yticklabels=False,\n",
    "    square=True,\n",
    "    vmin=vmin_val,\n",
    "    vmax=vmax_val,\n",
    "    cmap=\"YlGnBu\",\n",
    "    ax=ax,\n",
    ")\n",
    "ax.set_title(f\"Gene correlations in chromosome {chromosome}\")"
   ]
  },
  {
   "cell_type": "code",
   "execution_count": null,
   "id": "b25e3ead",
   "metadata": {
    "papermill": {
     "duration": 2.128034,
     "end_time": "2022-07-11T06:45:57.657349",
     "exception": false,
     "start_time": "2022-07-11T06:45:55.529315",
     "status": "completed"
    },
    "tags": []
   },
   "outputs": [],
   "source": []
  }
 ],
 "metadata": {
  "jupytext": {
   "cell_metadata_filter": "all,-execution,-papermill,-trusted",
   "formats": "ipynb,py//py:percent"
  },
  "kernelspec": {
   "display_name": "Python 3 (ipykernel)",
   "language": "python",
   "name": "python3"
  },
  "language_info": {
   "codemirror_mode": {
    "name": "ipython",
    "version": 3
   },
   "file_extension": ".py",
   "mimetype": "text/x-python",
   "name": "python",
   "nbconvert_exporter": "python",
   "pygments_lexer": "ipython3",
   "version": "3.8.13"
  },
  "papermill": {
   "default_parameters": {},
   "duration": 954.418089,
   "end_time": "2022-07-11T06:46:02.689559",
   "environment_variables": {},
   "exception": null,
   "input_path": "nbs/15_gsa_gls/10-gene_expr_correlations.ipynb",
   "output_path": "nbs/15_gsa_gls/gene_corrs/1000g/mashr/10-gene_expr_correlations-chr6.run.ipynb",
   "parameters": {
    "EQTL_MODEL": "MASHR",
    "REFERENCE_PANEL": "1000G",
    "chromosome": 6
   },
   "start_time": "2022-07-11T06:30:08.271470",
   "version": "2.2.2"
  }
 },
 "nbformat": 4,
 "nbformat_minor": 5
}
