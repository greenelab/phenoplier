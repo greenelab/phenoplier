{
 "cells": [
  {
   "cell_type": "markdown",
   "id": "7a6632fb",
   "metadata": {
    "papermill": {
     "duration": 0.006815,
     "end_time": "2022-07-12T04:07:14.090854",
     "exception": false,
     "start_time": "2022-07-12T04:07:14.084039",
     "status": "completed"
    },
    "tags": []
   },
   "source": [
    "# Description"
   ]
  },
  {
   "cell_type": "markdown",
   "id": "7097c346",
   "metadata": {
    "papermill": {
     "duration": 0.005473,
     "end_time": "2022-07-12T04:07:14.104589",
     "exception": false,
     "start_time": "2022-07-12T04:07:14.099116",
     "status": "completed"
    },
    "tags": []
   },
   "source": [
    "(Please, take a look at the README.md file in this directory for instructions on how to run this notebook)\n",
    "\n",
    "This notebook computes predicted expression correlations between all genes in the MultiPLIER models.\n",
    "\n",
    "It also has a parameter set for papermill to run on a single chromosome to run in parallel (see under `Settings` below).\n",
    "\n",
    "This notebook is not directly run. See README.md."
   ]
  },
  {
   "cell_type": "markdown",
   "id": "c61d8427",
   "metadata": {
    "papermill": {
     "duration": 0.006247,
     "end_time": "2022-07-12T04:07:14.126165",
     "exception": false,
     "start_time": "2022-07-12T04:07:14.119918",
     "status": "completed"
    },
    "tags": []
   },
   "source": [
    "# Modules"
   ]
  },
  {
   "cell_type": "code",
   "execution_count": 1,
   "id": "bbc0234f",
   "metadata": {
    "execution": {
     "iopub.execute_input": "2022-07-12T04:07:14.151292Z",
     "iopub.status.busy": "2022-07-12T04:07:14.151093Z",
     "iopub.status.idle": "2022-07-12T04:07:14.170367Z",
     "shell.execute_reply": "2022-07-12T04:07:14.169939Z"
    },
    "papermill": {
     "duration": 0.031757,
     "end_time": "2022-07-12T04:07:14.172099",
     "exception": false,
     "start_time": "2022-07-12T04:07:14.140342",
     "status": "completed"
    },
    "tags": []
   },
   "outputs": [],
   "source": [
    "%load_ext autoreload\n",
    "%autoreload 2"
   ]
  },
  {
   "cell_type": "code",
   "execution_count": 2,
   "id": "1d5f5a59",
   "metadata": {
    "execution": {
     "iopub.execute_input": "2022-07-12T04:07:14.227874Z",
     "iopub.status.busy": "2022-07-12T04:07:14.227689Z",
     "iopub.status.idle": "2022-07-12T04:07:15.152222Z",
     "shell.execute_reply": "2022-07-12T04:07:15.151666Z"
    },
    "papermill": {
     "duration": 0.933216,
     "end_time": "2022-07-12T04:07:15.153804",
     "exception": false,
     "start_time": "2022-07-12T04:07:14.220588",
     "status": "completed"
    },
    "tags": []
   },
   "outputs": [],
   "source": [
    "from random import sample, seed\n",
    "import warnings\n",
    "from pathlib import Path\n",
    "\n",
    "import numpy as np\n",
    "from scipy.spatial.distance import squareform\n",
    "import pandas as pd\n",
    "from tqdm import tqdm\n",
    "import matplotlib.pyplot as plt\n",
    "import seaborn as sns\n",
    "\n",
    "import conf\n",
    "from entity import Gene"
   ]
  },
  {
   "cell_type": "markdown",
   "id": "1eac24b5",
   "metadata": {
    "papermill": {
     "duration": 0.006397,
     "end_time": "2022-07-12T04:07:15.166721",
     "exception": false,
     "start_time": "2022-07-12T04:07:15.160324",
     "status": "completed"
    },
    "tags": []
   },
   "source": [
    "# Settings"
   ]
  },
  {
   "cell_type": "code",
   "execution_count": 3,
   "id": "ca4560ba",
   "metadata": {
    "execution": {
     "iopub.execute_input": "2022-07-12T04:07:15.179691Z",
     "iopub.status.busy": "2022-07-12T04:07:15.179507Z",
     "iopub.status.idle": "2022-07-12T04:07:15.195527Z",
     "shell.execute_reply": "2022-07-12T04:07:15.195129Z"
    },
    "papermill": {
     "duration": 0.024091,
     "end_time": "2022-07-12T04:07:15.196996",
     "exception": false,
     "start_time": "2022-07-12T04:07:15.172905",
     "status": "completed"
    },
    "tags": [
     "parameters"
    ]
   },
   "outputs": [],
   "source": [
    "# reference panel\n",
    "REFERENCE_PANEL = \"GTEX_V8\"\n",
    "# REFERENCE_PANEL = \"1000G\"\n",
    "\n",
    "# prediction models\n",
    "## mashr\n",
    "EQTL_MODEL = \"MASHR\"\n",
    "\n",
    "# this is the default value used in S-MultiXcan to select the\n",
    "# top principal components of the expression correlation matrix\n",
    "SMULTIXCAN_CONDITION_NUMBER = 30\n",
    "\n",
    "# specifies a single chromosome value\n",
    "# by default, run on all chromosomes\n",
    "chromosome = None"
   ]
  },
  {
   "cell_type": "code",
   "execution_count": 4,
   "id": "e4719557",
   "metadata": {
    "execution": {
     "iopub.execute_input": "2022-07-12T04:07:15.209507Z",
     "iopub.status.busy": "2022-07-12T04:07:15.209344Z",
     "iopub.status.idle": "2022-07-12T04:07:15.224920Z",
     "shell.execute_reply": "2022-07-12T04:07:15.224532Z"
    },
    "papermill": {
     "duration": 0.023365,
     "end_time": "2022-07-12T04:07:15.226353",
     "exception": false,
     "start_time": "2022-07-12T04:07:15.202988",
     "status": "completed"
    },
    "tags": [
     "injected-parameters"
    ]
   },
   "outputs": [],
   "source": [
    "# Parameters\n",
    "chromosome = 6\n",
    "REFERENCE_PANEL = \"1000G\"\n",
    "EQTL_MODEL = \"MASHR\"\n"
   ]
  },
  {
   "cell_type": "code",
   "execution_count": 5,
   "id": "a089c9ff",
   "metadata": {
    "execution": {
     "iopub.execute_input": "2022-07-12T04:07:15.238497Z",
     "iopub.status.busy": "2022-07-12T04:07:15.238337Z",
     "iopub.status.idle": "2022-07-12T04:07:15.253274Z",
     "shell.execute_reply": "2022-07-12T04:07:15.252884Z"
    },
    "papermill": {
     "duration": 0.022406,
     "end_time": "2022-07-12T04:07:15.254664",
     "exception": false,
     "start_time": "2022-07-12T04:07:15.232258",
     "status": "completed"
    },
    "tags": []
   },
   "outputs": [],
   "source": [
    "EQTL_MODEL_FILES_PREFIX = conf.PHENOMEXCAN[\"PREDICTION_MODELS\"][f\"{EQTL_MODEL}_PREFIX\"]"
   ]
  },
  {
   "cell_type": "code",
   "execution_count": 6,
   "id": "8fe24bef",
   "metadata": {
    "execution": {
     "iopub.execute_input": "2022-07-12T04:07:15.266951Z",
     "iopub.status.busy": "2022-07-12T04:07:15.266787Z",
     "iopub.status.idle": "2022-07-12T04:07:15.284676Z",
     "shell.execute_reply": "2022-07-12T04:07:15.284306Z"
    },
    "papermill": {
     "duration": 0.02551,
     "end_time": "2022-07-12T04:07:15.285972",
     "exception": false,
     "start_time": "2022-07-12T04:07:15.260462",
     "status": "completed"
    },
    "tags": []
   },
   "outputs": [
    {
     "data": {
      "text/plain": [
       "'Using eQTL model: MASHR / mashr_'"
      ]
     },
     "metadata": {},
     "output_type": "display_data"
    }
   ],
   "source": [
    "display(f\"Using eQTL model: {EQTL_MODEL} / {EQTL_MODEL_FILES_PREFIX}\")"
   ]
  },
  {
   "cell_type": "code",
   "execution_count": 7,
   "id": "552a7f63-a18c-4d3e-bb6a-94f99b431291",
   "metadata": {
    "execution": {
     "iopub.execute_input": "2022-07-12T04:07:15.298675Z",
     "iopub.status.busy": "2022-07-12T04:07:15.298510Z",
     "iopub.status.idle": "2022-07-12T04:07:15.315091Z",
     "shell.execute_reply": "2022-07-12T04:07:15.314686Z"
    },
    "papermill": {
     "duration": 0.024483,
     "end_time": "2022-07-12T04:07:15.316430",
     "exception": false,
     "start_time": "2022-07-12T04:07:15.291947",
     "status": "completed"
    },
    "tags": []
   },
   "outputs": [
    {
     "data": {
      "text/plain": [
       "'S-MultiXcan condition number: 30'"
      ]
     },
     "metadata": {},
     "output_type": "display_data"
    }
   ],
   "source": [
    "display(f\"S-MultiXcan condition number: {SMULTIXCAN_CONDITION_NUMBER}\")"
   ]
  },
  {
   "cell_type": "code",
   "execution_count": 8,
   "id": "0230ebcb-2c32-4b95-9292-d9a52038e70d",
   "metadata": {
    "execution": {
     "iopub.execute_input": "2022-07-12T04:07:15.329814Z",
     "iopub.status.busy": "2022-07-12T04:07:15.329631Z",
     "iopub.status.idle": "2022-07-12T04:07:15.346166Z",
     "shell.execute_reply": "2022-07-12T04:07:15.345723Z"
    },
    "papermill": {
     "duration": 0.025121,
     "end_time": "2022-07-12T04:07:15.347788",
     "exception": false,
     "start_time": "2022-07-12T04:07:15.322667",
     "status": "completed"
    },
    "tags": []
   },
   "outputs": [],
   "source": [
    "REFERENCE_PANEL_DIR = conf.PHENOMEXCAN[\"LD_BLOCKS\"][f\"{REFERENCE_PANEL}_GENOTYPE_DIR\"]"
   ]
  },
  {
   "cell_type": "code",
   "execution_count": 9,
   "id": "98c4a159-601d-4a22-a1ab-35bd451c25f9",
   "metadata": {
    "execution": {
     "iopub.execute_input": "2022-07-12T04:07:15.361023Z",
     "iopub.status.busy": "2022-07-12T04:07:15.360855Z",
     "iopub.status.idle": "2022-07-12T04:07:15.378137Z",
     "shell.execute_reply": "2022-07-12T04:07:15.377740Z"
    },
    "papermill": {
     "duration": 0.025139,
     "end_time": "2022-07-12T04:07:15.379458",
     "exception": false,
     "start_time": "2022-07-12T04:07:15.354319",
     "status": "completed"
    },
    "tags": []
   },
   "outputs": [
    {
     "data": {
      "text/plain": [
       "'Using reference panel folder: /opt/data/data/phenomexcan/ld_blocks/reference_panel_1000G'"
      ]
     },
     "metadata": {},
     "output_type": "display_data"
    }
   ],
   "source": [
    "display(f\"Using reference panel folder: {str(REFERENCE_PANEL_DIR)}\")"
   ]
  },
  {
   "cell_type": "code",
   "execution_count": 10,
   "id": "396392dc-0340-4540-9b02-e182b833f909",
   "metadata": {
    "execution": {
     "iopub.execute_input": "2022-07-12T04:07:15.392458Z",
     "iopub.status.busy": "2022-07-12T04:07:15.392292Z",
     "iopub.status.idle": "2022-07-12T04:07:15.408047Z",
     "shell.execute_reply": "2022-07-12T04:07:15.407603Z"
    },
    "papermill": {
     "duration": 0.023676,
     "end_time": "2022-07-12T04:07:15.409483",
     "exception": false,
     "start_time": "2022-07-12T04:07:15.385807",
     "status": "completed"
    },
    "tags": []
   },
   "outputs": [],
   "source": [
    "OUTPUT_DIR_BASE = (\n",
    "    conf.PHENOMEXCAN[\"LD_BLOCKS\"][f\"GENE_CORRS_DIR\"]\n",
    "    / REFERENCE_PANEL.lower()\n",
    "    / EQTL_MODEL.lower()\n",
    ")\n",
    "OUTPUT_DIR_BASE.mkdir(parents=True, exist_ok=True)"
   ]
  },
  {
   "cell_type": "code",
   "execution_count": 11,
   "id": "8942c2d3-e53c-4d63-a0eb-b6fce0574d36",
   "metadata": {
    "execution": {
     "iopub.execute_input": "2022-07-12T04:07:15.422623Z",
     "iopub.status.busy": "2022-07-12T04:07:15.422232Z",
     "iopub.status.idle": "2022-07-12T04:07:15.438254Z",
     "shell.execute_reply": "2022-07-12T04:07:15.437874Z"
    },
    "papermill": {
     "duration": 0.023604,
     "end_time": "2022-07-12T04:07:15.439423",
     "exception": false,
     "start_time": "2022-07-12T04:07:15.415819",
     "status": "completed"
    },
    "tags": []
   },
   "outputs": [
    {
     "data": {
      "text/plain": [
       "'Using output dir base: /opt/data/data/phenomexcan/ld_blocks/gene_corrs/1000g/mashr'"
      ]
     },
     "metadata": {},
     "output_type": "display_data"
    }
   ],
   "source": [
    "display(f\"Using output dir base: {OUTPUT_DIR_BASE}\")"
   ]
  },
  {
   "cell_type": "code",
   "execution_count": 12,
   "id": "408aa590",
   "metadata": {
    "execution": {
     "iopub.execute_input": "2022-07-12T04:07:15.452554Z",
     "iopub.status.busy": "2022-07-12T04:07:15.452162Z",
     "iopub.status.idle": "2022-07-12T04:07:15.466598Z",
     "shell.execute_reply": "2022-07-12T04:07:15.466212Z"
    },
    "papermill": {
     "duration": 0.022317,
     "end_time": "2022-07-12T04:07:15.467915",
     "exception": false,
     "start_time": "2022-07-12T04:07:15.445598",
     "status": "completed"
    },
    "tags": []
   },
   "outputs": [],
   "source": [
    "assert (\n",
    "    chromosome is not None\n",
    "), \"You have to select one chromosome (format: number between 1 and 22)\""
   ]
  },
  {
   "cell_type": "code",
   "execution_count": 13,
   "id": "c1c7dd06-80ff-453c-bcb7-0899edce75da",
   "metadata": {
    "execution": {
     "iopub.execute_input": "2022-07-12T04:07:15.482305Z",
     "iopub.status.busy": "2022-07-12T04:07:15.481948Z",
     "iopub.status.idle": "2022-07-12T04:07:15.496425Z",
     "shell.execute_reply": "2022-07-12T04:07:15.495998Z"
    },
    "papermill": {
     "duration": 0.022566,
     "end_time": "2022-07-12T04:07:15.497768",
     "exception": false,
     "start_time": "2022-07-12T04:07:15.475202",
     "status": "completed"
    },
    "tags": []
   },
   "outputs": [],
   "source": [
    "chromosome = str(chromosome)"
   ]
  },
  {
   "cell_type": "code",
   "execution_count": 14,
   "id": "bc17b84c-9c26-47a5-a3ab-7046e72f3ef4",
   "metadata": {
    "execution": {
     "iopub.execute_input": "2022-07-12T04:07:15.512830Z",
     "iopub.status.busy": "2022-07-12T04:07:15.512397Z",
     "iopub.status.idle": "2022-07-12T04:07:15.533156Z",
     "shell.execute_reply": "2022-07-12T04:07:15.532607Z"
    },
    "papermill": {
     "duration": 0.030314,
     "end_time": "2022-07-12T04:07:15.534875",
     "exception": false,
     "start_time": "2022-07-12T04:07:15.504561",
     "status": "completed"
    },
    "tags": []
   },
   "outputs": [
    {
     "data": {
      "text/plain": [
       "'Working on chromosome 6'"
      ]
     },
     "metadata": {},
     "output_type": "display_data"
    }
   ],
   "source": [
    "display(f\"Working on chromosome {chromosome}\")"
   ]
  },
  {
   "cell_type": "code",
   "execution_count": 15,
   "id": "3c7d8574-90c7-4d09-bc8c-469ed0a34737",
   "metadata": {
    "execution": {
     "iopub.execute_input": "2022-07-12T04:07:15.553556Z",
     "iopub.status.busy": "2022-07-12T04:07:15.552978Z",
     "iopub.status.idle": "2022-07-12T04:07:15.575343Z",
     "shell.execute_reply": "2022-07-12T04:07:15.574816Z"
    },
    "papermill": {
     "duration": 0.033328,
     "end_time": "2022-07-12T04:07:15.577100",
     "exception": false,
     "start_time": "2022-07-12T04:07:15.543772",
     "status": "completed"
    },
    "tags": []
   },
   "outputs": [
    {
     "data": {
      "text/plain": [
       "'Compute correlation within distance False'"
      ]
     },
     "metadata": {},
     "output_type": "display_data"
    }
   ],
   "source": [
    "# This paramter, if True, computes the correlation between closeby genes only\n",
    "COMPUTE_CORRELATIONS_WITHIN_DISTANCE = False\n",
    "display(f\"Compute correlation within distance {COMPUTE_CORRELATIONS_WITHIN_DISTANCE}\")"
   ]
  },
  {
   "cell_type": "markdown",
   "id": "d2ba085e",
   "metadata": {
    "papermill": {
     "duration": 0.008429,
     "end_time": "2022-07-12T04:07:15.594316",
     "exception": false,
     "start_time": "2022-07-12T04:07:15.585887",
     "status": "completed"
    },
    "tags": []
   },
   "source": [
    "# Load data"
   ]
  },
  {
   "cell_type": "markdown",
   "id": "7bed0ce0-e7c7-4300-9a61-5412450b1904",
   "metadata": {
    "papermill": {
     "duration": 0.008603,
     "end_time": "2022-07-12T04:07:15.611551",
     "exception": false,
     "start_time": "2022-07-12T04:07:15.602948",
     "status": "completed"
    },
    "tags": []
   },
   "source": [
    "## Prediction model tissues"
   ]
  },
  {
   "cell_type": "code",
   "execution_count": 16,
   "id": "0847c065-0d69-4830-a07f-1c75115d17f5",
   "metadata": {
    "execution": {
     "iopub.execute_input": "2022-07-12T04:07:15.629173Z",
     "iopub.status.busy": "2022-07-12T04:07:15.628709Z",
     "iopub.status.idle": "2022-07-12T04:07:15.646015Z",
     "shell.execute_reply": "2022-07-12T04:07:15.645563Z"
    },
    "papermill": {
     "duration": 0.027159,
     "end_time": "2022-07-12T04:07:15.647672",
     "exception": false,
     "start_time": "2022-07-12T04:07:15.620513",
     "status": "completed"
    },
    "tags": []
   },
   "outputs": [],
   "source": [
    "prediction_model_tissues = conf.PHENOMEXCAN[\"PREDICTION_MODELS\"][\n",
    "    f\"{EQTL_MODEL}_TISSUES\"\n",
    "].split(\" \")"
   ]
  },
  {
   "cell_type": "code",
   "execution_count": 17,
   "id": "aaef70d1-30c6-4c6f-9d6b-abc8e9a0081f",
   "metadata": {
    "execution": {
     "iopub.execute_input": "2022-07-12T04:07:15.663317Z",
     "iopub.status.busy": "2022-07-12T04:07:15.662676Z",
     "iopub.status.idle": "2022-07-12T04:07:15.681061Z",
     "shell.execute_reply": "2022-07-12T04:07:15.680627Z"
    },
    "papermill": {
     "duration": 0.027346,
     "end_time": "2022-07-12T04:07:15.682497",
     "exception": false,
     "start_time": "2022-07-12T04:07:15.655151",
     "status": "completed"
    },
    "tags": []
   },
   "outputs": [
    {
     "data": {
      "text/plain": [
       "49"
      ]
     },
     "execution_count": 17,
     "metadata": {},
     "output_type": "execute_result"
    }
   ],
   "source": [
    "len(prediction_model_tissues)"
   ]
  },
  {
   "cell_type": "code",
   "execution_count": 18,
   "id": "ff35a099-c52d-465d-b863-0ee70c26208c",
   "metadata": {
    "execution": {
     "iopub.execute_input": "2022-07-12T04:07:15.698181Z",
     "iopub.status.busy": "2022-07-12T04:07:15.697720Z",
     "iopub.status.idle": "2022-07-12T04:07:15.715205Z",
     "shell.execute_reply": "2022-07-12T04:07:15.714776Z"
    },
    "papermill": {
     "duration": 0.026598,
     "end_time": "2022-07-12T04:07:15.716582",
     "exception": false,
     "start_time": "2022-07-12T04:07:15.689984",
     "status": "completed"
    },
    "tags": []
   },
   "outputs": [
    {
     "data": {
      "text/plain": [
       "['Skin_Not_Sun_Exposed_Suprapubic',\n",
       " 'Cells_EBV-transformed_lymphocytes',\n",
       " 'Brain_Frontal_Cortex_BA9',\n",
       " 'Kidney_Cortex',\n",
       " 'Brain_Substantia_nigra']"
      ]
     },
     "execution_count": 18,
     "metadata": {},
     "output_type": "execute_result"
    }
   ],
   "source": [
    "prediction_model_tissues[:5]"
   ]
  },
  {
   "cell_type": "markdown",
   "id": "abcc4b3d",
   "metadata": {
    "papermill": {
     "duration": 0.006917,
     "end_time": "2022-07-12T04:07:15.730991",
     "exception": false,
     "start_time": "2022-07-12T04:07:15.724074",
     "status": "completed"
    },
    "tags": []
   },
   "source": [
    "## MultiPLIER Z"
   ]
  },
  {
   "cell_type": "code",
   "execution_count": 19,
   "id": "c48ef527",
   "metadata": {
    "execution": {
     "iopub.execute_input": "2022-07-12T04:07:15.746494Z",
     "iopub.status.busy": "2022-07-12T04:07:15.746029Z",
     "iopub.status.idle": "2022-07-12T04:07:15.785795Z",
     "shell.execute_reply": "2022-07-12T04:07:15.785393Z"
    },
    "papermill": {
     "duration": 0.049174,
     "end_time": "2022-07-12T04:07:15.787408",
     "exception": false,
     "start_time": "2022-07-12T04:07:15.738234",
     "status": "completed"
    },
    "tags": []
   },
   "outputs": [],
   "source": [
    "multiplier_z_genes = pd.read_pickle(\n",
    "    conf.MULTIPLIER[\"MODEL_Z_MATRIX_FILE\"]\n",
    ").index.tolist()"
   ]
  },
  {
   "cell_type": "code",
   "execution_count": 20,
   "id": "0a4ecbd9",
   "metadata": {
    "execution": {
     "iopub.execute_input": "2022-07-12T04:07:15.801635Z",
     "iopub.status.busy": "2022-07-12T04:07:15.801239Z",
     "iopub.status.idle": "2022-07-12T04:07:15.817413Z",
     "shell.execute_reply": "2022-07-12T04:07:15.817030Z"
    },
    "papermill": {
     "duration": 0.024729,
     "end_time": "2022-07-12T04:07:15.818832",
     "exception": false,
     "start_time": "2022-07-12T04:07:15.794103",
     "status": "completed"
    },
    "tags": []
   },
   "outputs": [
    {
     "data": {
      "text/plain": [
       "6750"
      ]
     },
     "execution_count": 20,
     "metadata": {},
     "output_type": "execute_result"
    }
   ],
   "source": [
    "len(multiplier_z_genes)"
   ]
  },
  {
   "cell_type": "code",
   "execution_count": 21,
   "id": "115e8864",
   "metadata": {
    "execution": {
     "iopub.execute_input": "2022-07-12T04:07:15.833101Z",
     "iopub.status.busy": "2022-07-12T04:07:15.832698Z",
     "iopub.status.idle": "2022-07-12T04:07:15.849061Z",
     "shell.execute_reply": "2022-07-12T04:07:15.848609Z"
    },
    "papermill": {
     "duration": 0.024843,
     "end_time": "2022-07-12T04:07:15.850442",
     "exception": false,
     "start_time": "2022-07-12T04:07:15.825599",
     "status": "completed"
    },
    "tags": []
   },
   "outputs": [
    {
     "data": {
      "text/plain": [
       "['GAS6',\n",
       " 'MMP14',\n",
       " 'DSP',\n",
       " 'MARCKSL1',\n",
       " 'SPARC',\n",
       " 'CTSD',\n",
       " 'EPAS1',\n",
       " 'PALLD',\n",
       " 'PHC2',\n",
       " 'LGALS3BP']"
      ]
     },
     "execution_count": 21,
     "metadata": {},
     "output_type": "execute_result"
    }
   ],
   "source": [
    "multiplier_z_genes[:10]"
   ]
  },
  {
   "cell_type": "markdown",
   "id": "7dcb8db7",
   "metadata": {
    "papermill": {
     "duration": 0.007238,
     "end_time": "2022-07-12T04:07:15.865191",
     "exception": false,
     "start_time": "2022-07-12T04:07:15.857953",
     "status": "completed"
    },
    "tags": []
   },
   "source": [
    "## Get gene objects"
   ]
  },
  {
   "cell_type": "code",
   "execution_count": 22,
   "id": "bb932812",
   "metadata": {
    "execution": {
     "iopub.execute_input": "2022-07-12T04:07:15.881030Z",
     "iopub.status.busy": "2022-07-12T04:07:15.880610Z",
     "iopub.status.idle": "2022-07-12T04:07:15.903719Z",
     "shell.execute_reply": "2022-07-12T04:07:15.903281Z"
    },
    "papermill": {
     "duration": 0.032524,
     "end_time": "2022-07-12T04:07:15.905129",
     "exception": false,
     "start_time": "2022-07-12T04:07:15.872605",
     "status": "completed"
    },
    "tags": []
   },
   "outputs": [],
   "source": [
    "multiplier_gene_obj = {\n",
    "    gene_name: Gene(name=gene_name)\n",
    "    for gene_name in multiplier_z_genes\n",
    "    if gene_name in Gene.GENE_NAME_TO_ID_MAP\n",
    "}"
   ]
  },
  {
   "cell_type": "code",
   "execution_count": 23,
   "id": "39533214",
   "metadata": {
    "execution": {
     "iopub.execute_input": "2022-07-12T04:07:15.920891Z",
     "iopub.status.busy": "2022-07-12T04:07:15.920499Z",
     "iopub.status.idle": "2022-07-12T04:07:15.938010Z",
     "shell.execute_reply": "2022-07-12T04:07:15.937593Z"
    },
    "papermill": {
     "duration": 0.026692,
     "end_time": "2022-07-12T04:07:15.939238",
     "exception": false,
     "start_time": "2022-07-12T04:07:15.912546",
     "status": "completed"
    },
    "tags": []
   },
   "outputs": [
    {
     "data": {
      "text/plain": [
       "6454"
      ]
     },
     "execution_count": 23,
     "metadata": {},
     "output_type": "execute_result"
    }
   ],
   "source": [
    "len(multiplier_gene_obj)"
   ]
  },
  {
   "cell_type": "code",
   "execution_count": 24,
   "id": "9a5d0b84",
   "metadata": {
    "execution": {
     "iopub.execute_input": "2022-07-12T04:07:15.956124Z",
     "iopub.status.busy": "2022-07-12T04:07:15.955867Z",
     "iopub.status.idle": "2022-07-12T04:07:15.973522Z",
     "shell.execute_reply": "2022-07-12T04:07:15.973016Z"
    },
    "papermill": {
     "duration": 0.027812,
     "end_time": "2022-07-12T04:07:15.974896",
     "exception": false,
     "start_time": "2022-07-12T04:07:15.947084",
     "status": "completed"
    },
    "tags": []
   },
   "outputs": [
    {
     "data": {
      "text/plain": [
       "'ENSG00000183087'"
      ]
     },
     "execution_count": 24,
     "metadata": {},
     "output_type": "execute_result"
    }
   ],
   "source": [
    "multiplier_gene_obj[\"GAS6\"].ensembl_id"
   ]
  },
  {
   "cell_type": "code",
   "execution_count": 25,
   "id": "e3ffabc7",
   "metadata": {
    "execution": {
     "iopub.execute_input": "2022-07-12T04:07:15.990153Z",
     "iopub.status.busy": "2022-07-12T04:07:15.989801Z",
     "iopub.status.idle": "2022-07-12T04:07:18.185654Z",
     "shell.execute_reply": "2022-07-12T04:07:18.185161Z"
    },
    "papermill": {
     "duration": 2.204496,
     "end_time": "2022-07-12T04:07:18.186910",
     "exception": false,
     "start_time": "2022-07-12T04:07:15.982414",
     "status": "completed"
    },
    "tags": []
   },
   "outputs": [],
   "source": [
    "_gene_obj = list(multiplier_gene_obj.values())\n",
    "\n",
    "genes_info = pd.DataFrame(\n",
    "    {\n",
    "        \"name\": [g.name for g in _gene_obj],\n",
    "        \"id\": [g.ensembl_id for g in _gene_obj],\n",
    "        \"chr\": [g.chromosome for g in _gene_obj],\n",
    "        \"band\": [g.band for g in _gene_obj],\n",
    "        \"start_position\": [g.get_attribute(\"start_position\") for g in _gene_obj],\n",
    "    }\n",
    ")"
   ]
  },
  {
   "cell_type": "code",
   "execution_count": 26,
   "id": "e23519b8",
   "metadata": {
    "execution": {
     "iopub.execute_input": "2022-07-12T04:07:18.225911Z",
     "iopub.status.busy": "2022-07-12T04:07:18.225713Z",
     "iopub.status.idle": "2022-07-12T04:07:18.240558Z",
     "shell.execute_reply": "2022-07-12T04:07:18.240137Z"
    },
    "papermill": {
     "duration": 0.035796,
     "end_time": "2022-07-12T04:07:18.241796",
     "exception": false,
     "start_time": "2022-07-12T04:07:18.206000",
     "status": "completed"
    },
    "tags": []
   },
   "outputs": [
    {
     "data": {
      "text/plain": [
       "(6454, 5)"
      ]
     },
     "execution_count": 26,
     "metadata": {},
     "output_type": "execute_result"
    }
   ],
   "source": [
    "genes_info.shape"
   ]
  },
  {
   "cell_type": "code",
   "execution_count": 27,
   "id": "0d71881c",
   "metadata": {
    "execution": {
     "iopub.execute_input": "2022-07-12T04:07:18.256574Z",
     "iopub.status.busy": "2022-07-12T04:07:18.256258Z",
     "iopub.status.idle": "2022-07-12T04:07:18.276172Z",
     "shell.execute_reply": "2022-07-12T04:07:18.275770Z"
    },
    "papermill": {
     "duration": 0.028494,
     "end_time": "2022-07-12T04:07:18.277351",
     "exception": false,
     "start_time": "2022-07-12T04:07:18.248857",
     "status": "completed"
    },
    "tags": []
   },
   "outputs": [
    {
     "data": {
      "text/html": [
       "<div>\n",
       "<style scoped>\n",
       "    .dataframe tbody tr th:only-of-type {\n",
       "        vertical-align: middle;\n",
       "    }\n",
       "\n",
       "    .dataframe tbody tr th {\n",
       "        vertical-align: top;\n",
       "    }\n",
       "\n",
       "    .dataframe thead th {\n",
       "        text-align: right;\n",
       "    }\n",
       "</style>\n",
       "<table border=\"1\" class=\"dataframe\">\n",
       "  <thead>\n",
       "    <tr style=\"text-align: right;\">\n",
       "      <th></th>\n",
       "      <th>name</th>\n",
       "      <th>id</th>\n",
       "      <th>chr</th>\n",
       "      <th>band</th>\n",
       "      <th>start_position</th>\n",
       "    </tr>\n",
       "  </thead>\n",
       "  <tbody>\n",
       "    <tr>\n",
       "      <th>0</th>\n",
       "      <td>GAS6</td>\n",
       "      <td>ENSG00000183087</td>\n",
       "      <td>13</td>\n",
       "      <td>13q34</td>\n",
       "      <td>113820549.0</td>\n",
       "    </tr>\n",
       "    <tr>\n",
       "      <th>1</th>\n",
       "      <td>MMP14</td>\n",
       "      <td>ENSG00000157227</td>\n",
       "      <td>14</td>\n",
       "      <td>14q11.2</td>\n",
       "      <td>22836560.0</td>\n",
       "    </tr>\n",
       "    <tr>\n",
       "      <th>2</th>\n",
       "      <td>DSP</td>\n",
       "      <td>ENSG00000096696</td>\n",
       "      <td>6</td>\n",
       "      <td>6p24.3</td>\n",
       "      <td>7541617.0</td>\n",
       "    </tr>\n",
       "    <tr>\n",
       "      <th>3</th>\n",
       "      <td>MARCKSL1</td>\n",
       "      <td>ENSG00000175130</td>\n",
       "      <td>1</td>\n",
       "      <td>1p35.1</td>\n",
       "      <td>32333839.0</td>\n",
       "    </tr>\n",
       "    <tr>\n",
       "      <th>4</th>\n",
       "      <td>SPARC</td>\n",
       "      <td>ENSG00000113140</td>\n",
       "      <td>5</td>\n",
       "      <td>5q33.1</td>\n",
       "      <td>151661096.0</td>\n",
       "    </tr>\n",
       "  </tbody>\n",
       "</table>\n",
       "</div>"
      ],
      "text/plain": [
       "       name               id chr     band  start_position\n",
       "0      GAS6  ENSG00000183087  13    13q34     113820549.0\n",
       "1     MMP14  ENSG00000157227  14  14q11.2      22836560.0\n",
       "2       DSP  ENSG00000096696   6   6p24.3       7541617.0\n",
       "3  MARCKSL1  ENSG00000175130   1   1p35.1      32333839.0\n",
       "4     SPARC  ENSG00000113140   5   5q33.1     151661096.0"
      ]
     },
     "execution_count": 27,
     "metadata": {},
     "output_type": "execute_result"
    }
   ],
   "source": [
    "genes_info.head()"
   ]
  },
  {
   "cell_type": "markdown",
   "id": "c8d1038f",
   "metadata": {
    "papermill": {
     "duration": 0.006934,
     "end_time": "2022-07-12T04:07:18.291344",
     "exception": false,
     "start_time": "2022-07-12T04:07:18.284410",
     "status": "completed"
    },
    "tags": []
   },
   "source": [
    "# Test"
   ]
  },
  {
   "cell_type": "code",
   "execution_count": 28,
   "id": "64993abf",
   "metadata": {
    "execution": {
     "iopub.execute_input": "2022-07-12T04:07:18.306188Z",
     "iopub.status.busy": "2022-07-12T04:07:18.305895Z",
     "iopub.status.idle": "2022-07-12T04:07:18.327866Z",
     "shell.execute_reply": "2022-07-12T04:07:18.327464Z"
    },
    "papermill": {
     "duration": 0.030901,
     "end_time": "2022-07-12T04:07:18.329162",
     "exception": false,
     "start_time": "2022-07-12T04:07:18.298261",
     "status": "completed"
    },
    "tags": []
   },
   "outputs": [
    {
     "data": {
      "text/html": [
       "<div>\n",
       "<style scoped>\n",
       "    .dataframe tbody tr th:only-of-type {\n",
       "        vertical-align: middle;\n",
       "    }\n",
       "\n",
       "    .dataframe tbody tr th {\n",
       "        vertical-align: top;\n",
       "    }\n",
       "\n",
       "    .dataframe thead th {\n",
       "        text-align: right;\n",
       "    }\n",
       "</style>\n",
       "<table border=\"1\" class=\"dataframe\">\n",
       "  <thead>\n",
       "    <tr style=\"text-align: right;\">\n",
       "      <th></th>\n",
       "      <th>name</th>\n",
       "      <th>id</th>\n",
       "      <th>chr</th>\n",
       "      <th>band</th>\n",
       "      <th>start_position</th>\n",
       "    </tr>\n",
       "  </thead>\n",
       "  <tbody>\n",
       "    <tr>\n",
       "      <th>2</th>\n",
       "      <td>DSP</td>\n",
       "      <td>ENSG00000096696</td>\n",
       "      <td>6</td>\n",
       "      <td>6p24.3</td>\n",
       "      <td>7541617.0</td>\n",
       "    </tr>\n",
       "    <tr>\n",
       "      <th>32</th>\n",
       "      <td>IER3</td>\n",
       "      <td>ENSG00000137331</td>\n",
       "      <td>6</td>\n",
       "      <td>6p21.33</td>\n",
       "      <td>30743199.0</td>\n",
       "    </tr>\n",
       "    <tr>\n",
       "      <th>40</th>\n",
       "      <td>DYNLT1</td>\n",
       "      <td>ENSG00000146425</td>\n",
       "      <td>6</td>\n",
       "      <td>6q25.3</td>\n",
       "      <td>158636474.0</td>\n",
       "    </tr>\n",
       "    <tr>\n",
       "      <th>55</th>\n",
       "      <td>TRAM2</td>\n",
       "      <td>ENSG00000065308</td>\n",
       "      <td>6</td>\n",
       "      <td>6p12.2</td>\n",
       "      <td>52497408.0</td>\n",
       "    </tr>\n",
       "    <tr>\n",
       "      <th>76</th>\n",
       "      <td>MAP7</td>\n",
       "      <td>ENSG00000135525</td>\n",
       "      <td>6</td>\n",
       "      <td>6q23.3</td>\n",
       "      <td>136342281.0</td>\n",
       "    </tr>\n",
       "    <tr>\n",
       "      <th>...</th>\n",
       "      <td>...</td>\n",
       "      <td>...</td>\n",
       "      <td>...</td>\n",
       "      <td>...</td>\n",
       "      <td>...</td>\n",
       "    </tr>\n",
       "    <tr>\n",
       "      <th>6396</th>\n",
       "      <td>CD2AP</td>\n",
       "      <td>ENSG00000198087</td>\n",
       "      <td>6</td>\n",
       "      <td>6p12.3</td>\n",
       "      <td>47477789.0</td>\n",
       "    </tr>\n",
       "    <tr>\n",
       "      <th>6410</th>\n",
       "      <td>ORC3</td>\n",
       "      <td>ENSG00000135336</td>\n",
       "      <td>6</td>\n",
       "      <td>6q15</td>\n",
       "      <td>87590067.0</td>\n",
       "    </tr>\n",
       "    <tr>\n",
       "      <th>6428</th>\n",
       "      <td>PRDM1</td>\n",
       "      <td>ENSG00000057657</td>\n",
       "      <td>6</td>\n",
       "      <td>6q21</td>\n",
       "      <td>105993463.0</td>\n",
       "    </tr>\n",
       "    <tr>\n",
       "      <th>6430</th>\n",
       "      <td>RGS17</td>\n",
       "      <td>ENSG00000091844</td>\n",
       "      <td>6</td>\n",
       "      <td>6q25.2</td>\n",
       "      <td>153004459.0</td>\n",
       "    </tr>\n",
       "    <tr>\n",
       "      <th>6440</th>\n",
       "      <td>BRPF3</td>\n",
       "      <td>ENSG00000096070</td>\n",
       "      <td>6</td>\n",
       "      <td>6p21.31</td>\n",
       "      <td>36196744.0</td>\n",
       "    </tr>\n",
       "  </tbody>\n",
       "</table>\n",
       "<p>339 rows × 5 columns</p>\n",
       "</div>"
      ],
      "text/plain": [
       "        name               id chr     band  start_position\n",
       "2        DSP  ENSG00000096696   6   6p24.3       7541617.0\n",
       "32      IER3  ENSG00000137331   6  6p21.33      30743199.0\n",
       "40    DYNLT1  ENSG00000146425   6   6q25.3     158636474.0\n",
       "55     TRAM2  ENSG00000065308   6   6p12.2      52497408.0\n",
       "76      MAP7  ENSG00000135525   6   6q23.3     136342281.0\n",
       "...      ...              ...  ..      ...             ...\n",
       "6396   CD2AP  ENSG00000198087   6   6p12.3      47477789.0\n",
       "6410    ORC3  ENSG00000135336   6     6q15      87590067.0\n",
       "6428   PRDM1  ENSG00000057657   6     6q21     105993463.0\n",
       "6430   RGS17  ENSG00000091844   6   6q25.2     153004459.0\n",
       "6440   BRPF3  ENSG00000096070   6  6p21.31      36196744.0\n",
       "\n",
       "[339 rows x 5 columns]"
      ]
     },
     "metadata": {},
     "output_type": "display_data"
    }
   ],
   "source": [
    "chromosome_genes_info = genes_info[genes_info[\"chr\"] == chromosome]\n",
    "display(chromosome_genes_info)"
   ]
  },
  {
   "cell_type": "code",
   "execution_count": 29,
   "id": "d2e42726-7de6-46eb-acfc-6323eaa8fae6",
   "metadata": {
    "execution": {
     "iopub.execute_input": "2022-07-12T04:07:18.344705Z",
     "iopub.status.busy": "2022-07-12T04:07:18.344344Z",
     "iopub.status.idle": "2022-07-12T04:07:18.360159Z",
     "shell.execute_reply": "2022-07-12T04:07:18.359688Z"
    },
    "papermill": {
     "duration": 0.024911,
     "end_time": "2022-07-12T04:07:18.361361",
     "exception": false,
     "start_time": "2022-07-12T04:07:18.336450",
     "status": "completed"
    },
    "tags": []
   },
   "outputs": [
    {
     "data": {
      "text/plain": [
       "5"
      ]
     },
     "metadata": {},
     "output_type": "display_data"
    }
   ],
   "source": [
    "seed(0)\n",
    "_gene_list_ids = sample(chromosome_genes_info[\"id\"].tolist(), 5)\n",
    "selected_chromosome_genes_obj = [Gene(ensembl_id=g_id) for g_id in _gene_list_ids]\n",
    "display(len(selected_chromosome_genes_obj))"
   ]
  },
  {
   "cell_type": "code",
   "execution_count": 30,
   "id": "1b355359",
   "metadata": {
    "execution": {
     "iopub.execute_input": "2022-07-12T04:07:18.377884Z",
     "iopub.status.busy": "2022-07-12T04:07:18.377492Z",
     "iopub.status.idle": "2022-07-12T04:07:20.612440Z",
     "shell.execute_reply": "2022-07-12T04:07:20.611993Z"
    },
    "papermill": {
     "duration": 2.24443,
     "end_time": "2022-07-12T04:07:20.613768",
     "exception": false,
     "start_time": "2022-07-12T04:07:18.369338",
     "status": "completed"
    },
    "tags": []
   },
   "outputs": [
    {
     "name": "stdout",
     "output_type": "stream",
     "text": [
      "HIST1H2BJ / MUT: 0.0\n",
      "HIST1H2BJ / SUPT3H: 0.0\n",
      "HIST1H2BJ / SERPINB6: 0.0\n",
      "HIST1H2BJ / PPT2: 0.0\n",
      "MUT / SUPT3H: 0.008309340231876789\n",
      "MUT / SERPINB6: 0.0\n",
      "MUT / PPT2: 0.0\n",
      "SUPT3H / SERPINB6: 0.0\n",
      "SUPT3H / PPT2: 0.0\n",
      "SERPINB6 / PPT2: 0.0\n"
     ]
    }
   ],
   "source": [
    "for gene_idx1 in range(0, len(selected_chromosome_genes_obj) - 1):\n",
    "    gene_obj1 = selected_chromosome_genes_obj[gene_idx1]\n",
    "\n",
    "    for gene_idx2 in range(gene_idx1 + 1, len(selected_chromosome_genes_obj)):\n",
    "        gene_obj2 = selected_chromosome_genes_obj[gene_idx2]\n",
    "\n",
    "        c = gene_obj1.get_ssm_correlation(\n",
    "            gene_obj2,\n",
    "        )\n",
    "\n",
    "        print(f\"{gene_obj1.name} / {gene_obj2.name}: {c}\")"
   ]
  },
  {
   "cell_type": "markdown",
   "id": "d3843e06",
   "metadata": {
    "papermill": {
     "duration": 0.00739,
     "end_time": "2022-07-12T04:07:20.628913",
     "exception": false,
     "start_time": "2022-07-12T04:07:20.621523",
     "status": "completed"
    },
    "tags": []
   },
   "source": [
    "# Compute correlation per chromosome"
   ]
  },
  {
   "cell_type": "code",
   "execution_count": 31,
   "id": "cb859c15-d1f3-4006-a74c-2b83c0db9611",
   "metadata": {
    "execution": {
     "iopub.execute_input": "2022-07-12T04:07:20.645118Z",
     "iopub.status.busy": "2022-07-12T04:07:20.644916Z",
     "iopub.status.idle": "2022-07-12T04:07:20.662569Z",
     "shell.execute_reply": "2022-07-12T04:07:20.662148Z"
    },
    "papermill": {
     "duration": 0.026975,
     "end_time": "2022-07-12T04:07:20.663767",
     "exception": false,
     "start_time": "2022-07-12T04:07:20.636792",
     "status": "completed"
    },
    "tags": []
   },
   "outputs": [
    {
     "data": {
      "text/plain": [
       "PosixPath('/opt/data/data/phenomexcan/ld_blocks/gene_corrs/1000g/mashr/by_chr/gene_corrs-chr6.pkl')"
      ]
     },
     "metadata": {},
     "output_type": "display_data"
    }
   ],
   "source": [
    "output_dir = OUTPUT_DIR_BASE / \"by_chr\"\n",
    "output_dir.mkdir(exist_ok=True, parents=True)\n",
    "output_file = output_dir / f\"gene_corrs-chr{chromosome}.pkl\"\n",
    "display(output_file)"
   ]
  },
  {
   "cell_type": "code",
   "execution_count": 32,
   "id": "aa674fe4-6794-4eed-98fa-32b39d1d4ace",
   "metadata": {
    "execution": {
     "iopub.execute_input": "2022-07-12T04:07:20.680335Z",
     "iopub.status.busy": "2022-07-12T04:07:20.680175Z",
     "iopub.status.idle": "2022-07-12T04:07:20.695874Z",
     "shell.execute_reply": "2022-07-12T04:07:20.695439Z"
    },
    "papermill": {
     "duration": 0.025641,
     "end_time": "2022-07-12T04:07:20.697172",
     "exception": false,
     "start_time": "2022-07-12T04:07:20.671531",
     "status": "completed"
    },
    "tags": []
   },
   "outputs": [],
   "source": [
    "warnings.filterwarnings(\"error\")"
   ]
  },
  {
   "cell_type": "code",
   "execution_count": 33,
   "id": "cdbb90a1",
   "metadata": {
    "execution": {
     "iopub.execute_input": "2022-07-12T04:07:20.713804Z",
     "iopub.status.busy": "2022-07-12T04:07:20.713414Z",
     "iopub.status.idle": "2022-07-12T05:23:10.189549Z",
     "shell.execute_reply": "2022-07-12T05:23:10.189045Z"
    },
    "papermill": {
     "duration": 4549.48592,
     "end_time": "2022-07-12T05:23:10.190873",
     "exception": false,
     "start_time": "2022-07-12T04:07:20.704953",
     "status": "completed"
    },
    "tags": []
   },
   "outputs": [
    {
     "name": "stdout",
     "output_type": "stream",
     "text": [
      "Number of genes in chromosome: 339\n",
      "Number of gene combinations: 57291\n"
     ]
    },
    {
     "name": "stderr",
     "output_type": "stream",
     "text": [
      "ENSG00000008018 / ENSG00000112592: 100%|████████████████████| 57291/57291 [1:15:49<00:00, 12.59it/s]"
     ]
    },
    {
     "name": "stdout",
     "output_type": "stream",
     "text": [
      "Min/max values: 1.3108200219776574e-07 / 0.950256721874492\n"
     ]
    },
    {
     "name": "stderr",
     "output_type": "stream",
     "text": [
      "\n"
     ]
    },
    {
     "data": {
      "text/plain": [
       "PosixPath('/opt/data/data/phenomexcan/ld_blocks/gene_corrs/1000g/mashr/by_chr/gene_corrs-chr6.pkl')"
      ]
     },
     "metadata": {},
     "output_type": "display_data"
    }
   ],
   "source": [
    "# standard checks\n",
    "all_chrs = genes_info[\"chr\"].dropna().unique()\n",
    "assert all_chrs.shape[0] == 22\n",
    "\n",
    "# select chromosome given by the user\n",
    "assert chromosome in all_chrs\n",
    "\n",
    "# run only on the chromosome specified\n",
    "all_chrs = [chromosome]\n",
    "genes_chr = genes_info[genes_info[\"chr\"] == chromosome]\n",
    "\n",
    "# For testing purposes\n",
    "# genes_chr = genes_chr.sample(n=20)\n",
    "\n",
    "print(f\"Number of genes in chromosome: {genes_chr.shape[0]}\", flush=True)\n",
    "\n",
    "# sort genes by starting position to make visualizations better later\n",
    "genes_chr = genes_chr.sort_values(\"start_position\")\n",
    "\n",
    "gene_chr_objs = [Gene(ensembl_id=gene_id) for gene_id in genes_chr[\"id\"]]\n",
    "gene_chr_ids = [g.ensembl_id for g in gene_chr_objs]\n",
    "\n",
    "n = len(gene_chr_objs)\n",
    "n_comb = int(n * (n - 1) / 2.0)\n",
    "print(f\"Number of gene combinations: {n_comb}\", flush=True)\n",
    "\n",
    "gene_corrs = []\n",
    "\n",
    "pbar = tqdm(ncols=100, total=n_comb)\n",
    "i = 0\n",
    "for gene_idx1 in range(0, len(gene_chr_objs) - 1):\n",
    "    gene_obj1 = gene_chr_objs[gene_idx1]\n",
    "\n",
    "    for gene_idx2 in range(gene_idx1 + 1, len(gene_chr_objs)):\n",
    "        gene_obj2 = gene_chr_objs[gene_idx2]\n",
    "\n",
    "        pbar.set_description(f\"{gene_obj1.ensembl_id} / {gene_obj2.ensembl_id}\")\n",
    "\n",
    "        try:\n",
    "            # FIXME: compute the correlation of the sum of squares of the model using all\n",
    "            # the available tissues; this could be problematic because for some results\n",
    "            # (computed on a specific phenotype/GWAS) we might not have all the tissues\n",
    "            # available, which can certainly bias the correlation estimation.\n",
    "            # Since this depends on the GWAS on a specific phenotype, we should ideally have\n",
    "            # one correlation matrix per GWAS. I should look at how we can improve this.\n",
    "            r = gene_obj1.get_ssm_correlation(\n",
    "                other_gene=gene_obj2,\n",
    "                condition_number=SMULTIXCAN_CONDITION_NUMBER,\n",
    "                reference_panel=REFERENCE_PANEL,\n",
    "                model_type=EQTL_MODEL,\n",
    "                use_within_distance=COMPUTE_CORRELATIONS_WITHIN_DISTANCE,\n",
    "            )\n",
    "\n",
    "            if r is None:\n",
    "                # if r is None, it's very likely because:\n",
    "                #  * one of the genes has no prediction models\n",
    "                #  * all the SNPs predictors for the gene are not present in the reference\n",
    "                #    panel\n",
    "\n",
    "                r = 0.0\n",
    "\n",
    "            gene_corrs.append(r)\n",
    "        except Warning:\n",
    "            print(\n",
    "                f\"RuntimeWarning for genes {gene_obj1.ensembl_id} and {gene_obj2.ensembl_id}\",\n",
    "                flush=True,\n",
    "            )\n",
    "            import traceback\n",
    "\n",
    "            print(traceback.format_exc(), flush=True)\n",
    "        except Exception as e:\n",
    "            print(\n",
    "                f\"Exception for genes {gene_obj1.ensembl_id} and {gene_obj2.ensembl_id}\",\n",
    "                flush=True,\n",
    "            )\n",
    "            import traceback\n",
    "\n",
    "            print(traceback.format_exc(), flush=True)\n",
    "            gene_corrs.append(np.nan)\n",
    "\n",
    "        pbar.update(1)\n",
    "\n",
    "pbar.close()\n",
    "\n",
    "# testing\n",
    "gene_corrs_flat = pd.Series(gene_corrs)\n",
    "print(f\"Min/max values: {gene_corrs_flat.min()} / {gene_corrs_flat.max()}\")\n",
    "assert gene_corrs_flat.min() >= -1.001\n",
    "assert gene_corrs_flat.max() <= 1.001\n",
    "\n",
    "# save\n",
    "# FIXME: consider saving only the condenced matrix here. See here for\n",
    "# more details: https://github.com/greenelab/phenoplier/pull/38#discussion_r634600813\n",
    "gene_corrs_data = squareform(np.array(gene_corrs, dtype=np.float64))\n",
    "np.fill_diagonal(gene_corrs_data, 1.0)\n",
    "\n",
    "gene_corrs_df = pd.DataFrame(\n",
    "    data=gene_corrs_data,\n",
    "    index=gene_chr_ids,\n",
    "    columns=gene_chr_ids,\n",
    ")\n",
    "\n",
    "output_dir.mkdir(exist_ok=True, parents=True)\n",
    "display(output_file)\n",
    "\n",
    "gene_corrs_df.to_pickle(output_file)"
   ]
  },
  {
   "cell_type": "markdown",
   "id": "faa67b51-5373-470f-aa72-2ded53fa6dfe",
   "metadata": {
    "papermill": {
     "duration": 3.170204,
     "end_time": "2022-07-12T05:23:16.576173",
     "exception": false,
     "start_time": "2022-07-12T05:23:13.405969",
     "status": "completed"
    },
    "tags": []
   },
   "source": [
    "# Testing"
   ]
  },
  {
   "cell_type": "code",
   "execution_count": 34,
   "id": "14f7d046-4b55-4896-a56b-990127bcc388",
   "metadata": {
    "execution": {
     "iopub.execute_input": "2022-07-12T05:23:23.038922Z",
     "iopub.status.busy": "2022-07-12T05:23:23.038716Z",
     "iopub.status.idle": "2022-07-12T05:23:23.059582Z",
     "shell.execute_reply": "2022-07-12T05:23:23.059182Z"
    },
    "papermill": {
     "duration": 3.202755,
     "end_time": "2022-07-12T05:23:23.062059",
     "exception": false,
     "start_time": "2022-07-12T05:23:19.859304",
     "status": "completed"
    },
    "tags": []
   },
   "outputs": [
    {
     "data": {
      "text/plain": [
       "(339, 339)"
      ]
     },
     "execution_count": 34,
     "metadata": {},
     "output_type": "execute_result"
    }
   ],
   "source": [
    "gene_corrs_df.shape"
   ]
  },
  {
   "cell_type": "code",
   "execution_count": 35,
   "id": "c7d15414-3297-4537-a7c6-7588c0baeb75",
   "metadata": {
    "execution": {
     "iopub.execute_input": "2022-07-12T05:23:29.285489Z",
     "iopub.status.busy": "2022-07-12T05:23:29.285327Z",
     "iopub.status.idle": "2022-07-12T05:23:29.317353Z",
     "shell.execute_reply": "2022-07-12T05:23:29.316980Z"
    },
    "papermill": {
     "duration": 3.253445,
     "end_time": "2022-07-12T05:23:29.318632",
     "exception": false,
     "start_time": "2022-07-12T05:23:26.065187",
     "status": "completed"
    },
    "tags": []
   },
   "outputs": [
    {
     "data": {
      "text/html": [
       "<div>\n",
       "<style scoped>\n",
       "    .dataframe tbody tr th:only-of-type {\n",
       "        vertical-align: middle;\n",
       "    }\n",
       "\n",
       "    .dataframe tbody tr th {\n",
       "        vertical-align: top;\n",
       "    }\n",
       "\n",
       "    .dataframe thead th {\n",
       "        text-align: right;\n",
       "    }\n",
       "</style>\n",
       "<table border=\"1\" class=\"dataframe\">\n",
       "  <thead>\n",
       "    <tr style=\"text-align: right;\">\n",
       "      <th></th>\n",
       "      <th>ENSG00000137265</th>\n",
       "      <th>ENSG00000112685</th>\n",
       "      <th>ENSG00000112699</th>\n",
       "      <th>ENSG00000124570</th>\n",
       "      <th>ENSG00000137275</th>\n",
       "      <th>ENSG00000137267</th>\n",
       "      <th>ENSG00000112739</th>\n",
       "      <th>ENSG00000153046</th>\n",
       "      <th>ENSG00000145982</th>\n",
       "      <th>ENSG00000124491</th>\n",
       "      <th>...</th>\n",
       "      <th>ENSG00000146477</th>\n",
       "      <th>ENSG00000085511</th>\n",
       "      <th>ENSG00000026652</th>\n",
       "      <th>ENSG00000071242</th>\n",
       "      <th>ENSG00000213066</th>\n",
       "      <th>ENSG00000112486</th>\n",
       "      <th>ENSG00000186340</th>\n",
       "      <th>ENSG00000198719</th>\n",
       "      <th>ENSG00000008018</th>\n",
       "      <th>ENSG00000112592</th>\n",
       "    </tr>\n",
       "  </thead>\n",
       "  <tbody>\n",
       "    <tr>\n",
       "      <th>ENSG00000137265</th>\n",
       "      <td>1.000000</td>\n",
       "      <td>0.009465</td>\n",
       "      <td>0.007745</td>\n",
       "      <td>0.016582</td>\n",
       "      <td>0.005597</td>\n",
       "      <td>0.004384</td>\n",
       "      <td>0.007276</td>\n",
       "      <td>0.011687</td>\n",
       "      <td>0.011377</td>\n",
       "      <td>0.004128</td>\n",
       "      <td>...</td>\n",
       "      <td>0.027670</td>\n",
       "      <td>0.017030</td>\n",
       "      <td>0.012610</td>\n",
       "      <td>0.012451</td>\n",
       "      <td>0.005806</td>\n",
       "      <td>0.005446</td>\n",
       "      <td>0.014107</td>\n",
       "      <td>0.010843</td>\n",
       "      <td>0.007104</td>\n",
       "      <td>0.005031</td>\n",
       "    </tr>\n",
       "    <tr>\n",
       "      <th>ENSG00000112685</th>\n",
       "      <td>0.009465</td>\n",
       "      <td>1.000000</td>\n",
       "      <td>0.008567</td>\n",
       "      <td>0.011336</td>\n",
       "      <td>0.005840</td>\n",
       "      <td>0.007334</td>\n",
       "      <td>0.008654</td>\n",
       "      <td>0.007624</td>\n",
       "      <td>0.001053</td>\n",
       "      <td>0.007443</td>\n",
       "      <td>...</td>\n",
       "      <td>0.001743</td>\n",
       "      <td>0.007700</td>\n",
       "      <td>0.009577</td>\n",
       "      <td>0.007957</td>\n",
       "      <td>0.005875</td>\n",
       "      <td>0.002965</td>\n",
       "      <td>0.007527</td>\n",
       "      <td>0.009123</td>\n",
       "      <td>0.007880</td>\n",
       "      <td>0.002298</td>\n",
       "    </tr>\n",
       "    <tr>\n",
       "      <th>ENSG00000112699</th>\n",
       "      <td>0.007745</td>\n",
       "      <td>0.008567</td>\n",
       "      <td>1.000000</td>\n",
       "      <td>0.012369</td>\n",
       "      <td>0.010397</td>\n",
       "      <td>0.007121</td>\n",
       "      <td>0.013495</td>\n",
       "      <td>0.010948</td>\n",
       "      <td>0.003441</td>\n",
       "      <td>0.009618</td>\n",
       "      <td>...</td>\n",
       "      <td>0.008129</td>\n",
       "      <td>0.014830</td>\n",
       "      <td>0.021878</td>\n",
       "      <td>0.016296</td>\n",
       "      <td>0.009065</td>\n",
       "      <td>0.011102</td>\n",
       "      <td>0.014598</td>\n",
       "      <td>0.021561</td>\n",
       "      <td>0.007772</td>\n",
       "      <td>0.003218</td>\n",
       "    </tr>\n",
       "    <tr>\n",
       "      <th>ENSG00000124570</th>\n",
       "      <td>0.016582</td>\n",
       "      <td>0.011336</td>\n",
       "      <td>0.012369</td>\n",
       "      <td>1.000000</td>\n",
       "      <td>0.129617</td>\n",
       "      <td>0.019693</td>\n",
       "      <td>0.014658</td>\n",
       "      <td>0.016146</td>\n",
       "      <td>0.011807</td>\n",
       "      <td>0.021677</td>\n",
       "      <td>...</td>\n",
       "      <td>0.010478</td>\n",
       "      <td>0.012552</td>\n",
       "      <td>0.015202</td>\n",
       "      <td>0.018354</td>\n",
       "      <td>0.009622</td>\n",
       "      <td>0.017758</td>\n",
       "      <td>0.017260</td>\n",
       "      <td>0.017051</td>\n",
       "      <td>0.009293</td>\n",
       "      <td>0.013862</td>\n",
       "    </tr>\n",
       "    <tr>\n",
       "      <th>ENSG00000137275</th>\n",
       "      <td>0.005597</td>\n",
       "      <td>0.005840</td>\n",
       "      <td>0.010397</td>\n",
       "      <td>0.129617</td>\n",
       "      <td>1.000000</td>\n",
       "      <td>0.012538</td>\n",
       "      <td>0.008423</td>\n",
       "      <td>0.013597</td>\n",
       "      <td>0.005931</td>\n",
       "      <td>0.010739</td>\n",
       "      <td>...</td>\n",
       "      <td>0.013483</td>\n",
       "      <td>0.014305</td>\n",
       "      <td>0.012652</td>\n",
       "      <td>0.012378</td>\n",
       "      <td>0.011718</td>\n",
       "      <td>0.014180</td>\n",
       "      <td>0.010223</td>\n",
       "      <td>0.015385</td>\n",
       "      <td>0.003604</td>\n",
       "      <td>0.009498</td>\n",
       "    </tr>\n",
       "  </tbody>\n",
       "</table>\n",
       "<p>5 rows × 339 columns</p>\n",
       "</div>"
      ],
      "text/plain": [
       "                 ENSG00000137265  ENSG00000112685  ENSG00000112699  \\\n",
       "ENSG00000137265         1.000000         0.009465         0.007745   \n",
       "ENSG00000112685         0.009465         1.000000         0.008567   \n",
       "ENSG00000112699         0.007745         0.008567         1.000000   \n",
       "ENSG00000124570         0.016582         0.011336         0.012369   \n",
       "ENSG00000137275         0.005597         0.005840         0.010397   \n",
       "\n",
       "                 ENSG00000124570  ENSG00000137275  ENSG00000137267  \\\n",
       "ENSG00000137265         0.016582         0.005597         0.004384   \n",
       "ENSG00000112685         0.011336         0.005840         0.007334   \n",
       "ENSG00000112699         0.012369         0.010397         0.007121   \n",
       "ENSG00000124570         1.000000         0.129617         0.019693   \n",
       "ENSG00000137275         0.129617         1.000000         0.012538   \n",
       "\n",
       "                 ENSG00000112739  ENSG00000153046  ENSG00000145982  \\\n",
       "ENSG00000137265         0.007276         0.011687         0.011377   \n",
       "ENSG00000112685         0.008654         0.007624         0.001053   \n",
       "ENSG00000112699         0.013495         0.010948         0.003441   \n",
       "ENSG00000124570         0.014658         0.016146         0.011807   \n",
       "ENSG00000137275         0.008423         0.013597         0.005931   \n",
       "\n",
       "                 ENSG00000124491  ...  ENSG00000146477  ENSG00000085511  \\\n",
       "ENSG00000137265         0.004128  ...         0.027670         0.017030   \n",
       "ENSG00000112685         0.007443  ...         0.001743         0.007700   \n",
       "ENSG00000112699         0.009618  ...         0.008129         0.014830   \n",
       "ENSG00000124570         0.021677  ...         0.010478         0.012552   \n",
       "ENSG00000137275         0.010739  ...         0.013483         0.014305   \n",
       "\n",
       "                 ENSG00000026652  ENSG00000071242  ENSG00000213066  \\\n",
       "ENSG00000137265         0.012610         0.012451         0.005806   \n",
       "ENSG00000112685         0.009577         0.007957         0.005875   \n",
       "ENSG00000112699         0.021878         0.016296         0.009065   \n",
       "ENSG00000124570         0.015202         0.018354         0.009622   \n",
       "ENSG00000137275         0.012652         0.012378         0.011718   \n",
       "\n",
       "                 ENSG00000112486  ENSG00000186340  ENSG00000198719  \\\n",
       "ENSG00000137265         0.005446         0.014107         0.010843   \n",
       "ENSG00000112685         0.002965         0.007527         0.009123   \n",
       "ENSG00000112699         0.011102         0.014598         0.021561   \n",
       "ENSG00000124570         0.017758         0.017260         0.017051   \n",
       "ENSG00000137275         0.014180         0.010223         0.015385   \n",
       "\n",
       "                 ENSG00000008018  ENSG00000112592  \n",
       "ENSG00000137265         0.007104         0.005031  \n",
       "ENSG00000112685         0.007880         0.002298  \n",
       "ENSG00000112699         0.007772         0.003218  \n",
       "ENSG00000124570         0.009293         0.013862  \n",
       "ENSG00000137275         0.003604         0.009498  \n",
       "\n",
       "[5 rows x 339 columns]"
      ]
     },
     "execution_count": 35,
     "metadata": {},
     "output_type": "execute_result"
    }
   ],
   "source": [
    "gene_corrs_df.head()"
   ]
  },
  {
   "cell_type": "code",
   "execution_count": 36,
   "id": "286686af-1b7b-4440-8453-6bdcbd8de19c",
   "metadata": {
    "execution": {
     "iopub.execute_input": "2022-07-12T05:23:35.712543Z",
     "iopub.status.busy": "2022-07-12T05:23:35.712329Z",
     "iopub.status.idle": "2022-07-12T05:23:35.728823Z",
     "shell.execute_reply": "2022-07-12T05:23:35.728320Z"
    },
    "papermill": {
     "duration": 3.212831,
     "end_time": "2022-07-12T05:23:35.730142",
     "exception": false,
     "start_time": "2022-07-12T05:23:32.517311",
     "status": "completed"
    },
    "tags": []
   },
   "outputs": [],
   "source": [
    "assert not gene_corrs_df.isna().any().any()"
   ]
  },
  {
   "cell_type": "code",
   "execution_count": 37,
   "id": "00583efc-7068-4270-ad1e-4a418e91db96",
   "metadata": {
    "execution": {
     "iopub.execute_input": "2022-07-12T05:23:42.107632Z",
     "iopub.status.busy": "2022-07-12T05:23:42.107385Z",
     "iopub.status.idle": "2022-07-12T05:23:42.124574Z",
     "shell.execute_reply": "2022-07-12T05:23:42.124145Z"
    },
    "papermill": {
     "duration": 3.232523,
     "end_time": "2022-07-12T05:23:42.125738",
     "exception": false,
     "start_time": "2022-07-12T05:23:38.893215",
     "status": "completed"
    },
    "tags": []
   },
   "outputs": [
    {
     "data": {
      "text/plain": [
       "1.3108200219776574e-07"
      ]
     },
     "metadata": {},
     "output_type": "display_data"
    }
   ],
   "source": [
    "_min_val = gene_corrs_df.min().min()\n",
    "display(_min_val)\n",
    "assert _min_val >= 0.0"
   ]
  },
  {
   "cell_type": "code",
   "execution_count": 38,
   "id": "d04fb2cf-1050-475b-b855-f5f7cc04092b",
   "metadata": {
    "execution": {
     "iopub.execute_input": "2022-07-12T05:23:48.421129Z",
     "iopub.status.busy": "2022-07-12T05:23:48.420960Z",
     "iopub.status.idle": "2022-07-12T05:23:48.438098Z",
     "shell.execute_reply": "2022-07-12T05:23:48.437729Z"
    },
    "papermill": {
     "duration": 3.146513,
     "end_time": "2022-07-12T05:23:48.439352",
     "exception": false,
     "start_time": "2022-07-12T05:23:45.292839",
     "status": "completed"
    },
    "tags": []
   },
   "outputs": [
    {
     "data": {
      "text/plain": [
       "1.0"
      ]
     },
     "metadata": {},
     "output_type": "display_data"
    }
   ],
   "source": [
    "_max_val = gene_corrs_df.max().max()  # this captures the diagonal\n",
    "display(_max_val)\n",
    "assert _max_val <= 1.0"
   ]
  },
  {
   "cell_type": "code",
   "execution_count": 39,
   "id": "96d02c44-1fba-47be-8a93-8f2608420b9c",
   "metadata": {
    "execution": {
     "iopub.execute_input": "2022-07-12T05:23:54.807646Z",
     "iopub.status.busy": "2022-07-12T05:23:54.807426Z",
     "iopub.status.idle": "2022-07-12T05:23:54.822932Z",
     "shell.execute_reply": "2022-07-12T05:23:54.822519Z"
    },
    "papermill": {
     "duration": 3.248749,
     "end_time": "2022-07-12T05:23:54.824204",
     "exception": false,
     "start_time": "2022-07-12T05:23:51.575455",
     "status": "completed"
    },
    "tags": []
   },
   "outputs": [],
   "source": [
    "# check upper triangular values\n",
    "assert len(gene_corrs) == int(genes_chr.shape[0] * (genes_chr.shape[0] - 1) / 2)"
   ]
  },
  {
   "cell_type": "code",
   "execution_count": 40,
   "id": "aaa51627-f4e3-4744-a41f-7d25adcc0a78",
   "metadata": {
    "execution": {
     "iopub.execute_input": "2022-07-12T05:24:01.068065Z",
     "iopub.status.busy": "2022-07-12T05:24:01.067850Z",
     "iopub.status.idle": "2022-07-12T05:24:01.102173Z",
     "shell.execute_reply": "2022-07-12T05:24:01.101726Z"
    },
    "papermill": {
     "duration": 3.09244,
     "end_time": "2022-07-12T05:24:01.103664",
     "exception": false,
     "start_time": "2022-07-12T05:23:58.011224",
     "status": "completed"
    },
    "tags": []
   },
   "outputs": [],
   "source": [
    "gene_corrs = pd.Series(gene_corrs)"
   ]
  },
  {
   "cell_type": "code",
   "execution_count": 41,
   "id": "fe283586-c348-40e0-8841-f6d97bfb021c",
   "metadata": {
    "execution": {
     "iopub.execute_input": "2022-07-12T05:24:07.463897Z",
     "iopub.status.busy": "2022-07-12T05:24:07.463433Z",
     "iopub.status.idle": "2022-07-12T05:24:07.486420Z",
     "shell.execute_reply": "2022-07-12T05:24:07.486023Z"
    },
    "papermill": {
     "duration": 3.178154,
     "end_time": "2022-07-12T05:24:07.487682",
     "exception": false,
     "start_time": "2022-07-12T05:24:04.309528",
     "status": "completed"
    },
    "tags": []
   },
   "outputs": [
    {
     "data": {
      "text/plain": [
       "count    5.729100e+04\n",
       "mean     1.254854e-02\n",
       "std      3.308123e-02\n",
       "min      1.310820e-07\n",
       "25%      5.659218e-03\n",
       "50%      8.552124e-03\n",
       "75%      1.191462e-02\n",
       "max      9.502567e-01\n",
       "dtype: float64"
      ]
     },
     "execution_count": 41,
     "metadata": {},
     "output_type": "execute_result"
    }
   ],
   "source": [
    "gene_corrs.describe()"
   ]
  },
  {
   "cell_type": "code",
   "execution_count": 42,
   "id": "b3815678-0f93-4b35-897b-a9d047a2aa78",
   "metadata": {
    "execution": {
     "iopub.execute_input": "2022-07-12T05:24:13.830103Z",
     "iopub.status.busy": "2022-07-12T05:24:13.829769Z",
     "iopub.status.idle": "2022-07-12T05:24:13.850133Z",
     "shell.execute_reply": "2022-07-12T05:24:13.849703Z"
    },
    "papermill": {
     "duration": 3.239039,
     "end_time": "2022-07-12T05:24:13.851265",
     "exception": false,
     "start_time": "2022-07-12T05:24:10.612226",
     "status": "completed"
    },
    "tags": []
   },
   "outputs": [
    {
     "data": {
      "text/plain": [
       "0.00    1.310820e-07\n",
       "0.05    2.411559e-03\n",
       "0.10    3.508584e-03\n",
       "0.15    4.346160e-03\n",
       "0.20    5.025694e-03\n",
       "0.25    5.659218e-03\n",
       "0.30    6.268577e-03\n",
       "0.35    6.847810e-03\n",
       "0.40    7.416700e-03\n",
       "0.45    7.969518e-03\n",
       "0.50    8.552124e-03\n",
       "0.55    9.137173e-03\n",
       "0.60    9.740972e-03\n",
       "0.65    1.039739e-02\n",
       "0.70    1.111622e-02\n",
       "0.75    1.191462e-02\n",
       "0.80    1.285776e-02\n",
       "0.85    1.403642e-02\n",
       "0.90    1.572243e-02\n",
       "0.95    1.936655e-02\n",
       "dtype: float64"
      ]
     },
     "metadata": {},
     "output_type": "display_data"
    }
   ],
   "source": [
    "gene_corrs_quantiles = gene_corrs.quantile(np.arange(0, 1, 0.05))\n",
    "display(gene_corrs_quantiles)"
   ]
  },
  {
   "cell_type": "markdown",
   "id": "8e60a080-edb2-4e9c-b2ef-22961693200c",
   "metadata": {
    "papermill": {
     "duration": 3.128679,
     "end_time": "2022-07-12T05:24:20.136726",
     "exception": false,
     "start_time": "2022-07-12T05:24:17.008047",
     "status": "completed"
    },
    "tags": []
   },
   "source": [
    "## Plot: distribution"
   ]
  },
  {
   "cell_type": "code",
   "execution_count": 43,
   "id": "8301126b-a7d4-4744-9c7d-f0f86eb6f54c",
   "metadata": {
    "execution": {
     "iopub.execute_input": "2022-07-12T05:24:26.522386Z",
     "iopub.status.busy": "2022-07-12T05:24:26.522155Z",
     "iopub.status.idle": "2022-07-12T05:24:31.561982Z",
     "shell.execute_reply": "2022-07-12T05:24:31.561476Z"
    },
    "papermill": {
     "duration": 8.274373,
     "end_time": "2022-07-12T05:24:31.563375",
     "exception": false,
     "start_time": "2022-07-12T05:24:23.289002",
     "status": "completed"
    },
    "tags": []
   },
   "outputs": [
    {
     "data": {
      "image/png": "[encoded data removed]",
      "text/plain": [
       "<Figure size 504x504 with 1 Axes>"
      ]
     },
     "metadata": {
      "needs_background": "light"
     },
     "output_type": "display_data"
    }
   ],
   "source": [
    "with sns.plotting_context(\"paper\", font_scale=1.5):\n",
    "    g = sns.displot(gene_corrs, kde=True, height=7)\n",
    "    g.ax.set_title(\n",
    "        f\"Distribution of gene correlation values in chromosome {chromosome}\"\n",
    "    )"
   ]
  },
  {
   "cell_type": "markdown",
   "id": "cbd52bca-d878-4a2f-b684-5c83aa3038d4",
   "metadata": {
    "papermill": {
     "duration": 3.034068,
     "end_time": "2022-07-12T05:24:37.726990",
     "exception": false,
     "start_time": "2022-07-12T05:24:34.692922",
     "status": "completed"
    },
    "tags": []
   },
   "source": [
    "## Plot: heatmap"
   ]
  },
  {
   "cell_type": "code",
   "execution_count": 44,
   "id": "d03fe63a-c7b2-4fb9-a53c-db362ce843c9",
   "metadata": {
    "execution": {
     "iopub.execute_input": "2022-07-12T05:24:44.234491Z",
     "iopub.status.busy": "2022-07-12T05:24:44.234138Z",
     "iopub.status.idle": "2022-07-12T05:24:44.251797Z",
     "shell.execute_reply": "2022-07-12T05:24:44.251364Z"
    },
    "papermill": {
     "duration": 3.184937,
     "end_time": "2022-07-12T05:24:44.253144",
     "exception": false,
     "start_time": "2022-07-12T05:24:41.068207",
     "status": "completed"
    },
    "tags": []
   },
   "outputs": [
    {
     "data": {
      "text/plain": [
       "'-0.05 / 0.05'"
      ]
     },
     "metadata": {},
     "output_type": "display_data"
    }
   ],
   "source": [
    "vmin_val = min(-0.05, gene_corrs_quantiles[0.10])\n",
    "vmax_val = max(0.05, gene_corrs_quantiles[0.90])\n",
    "display(f\"{vmin_val} / {vmax_val}\")"
   ]
  },
  {
   "cell_type": "code",
   "execution_count": 45,
   "id": "dc41b70b-5bcc-4d9e-9f33-a22c4a94dab5",
   "metadata": {
    "execution": {
     "iopub.execute_input": "2022-07-12T05:24:50.542595Z",
     "iopub.status.busy": "2022-07-12T05:24:50.542240Z",
     "iopub.status.idle": "2022-07-12T05:24:50.835876Z",
     "shell.execute_reply": "2022-07-12T05:24:50.832667Z"
    },
    "papermill": {
     "duration": 3.439834,
     "end_time": "2022-07-12T05:24:50.837592",
     "exception": false,
     "start_time": "2022-07-12T05:24:47.397758",
     "status": "completed"
    },
    "tags": []
   },
   "outputs": [
    {
     "data": {
      "text/plain": [
       "Text(0.5, 1.0, 'Gene correlations in chromosome 6')"
      ]
     },
     "execution_count": 45,
     "metadata": {},
     "output_type": "execute_result"
    },
    {
     "data": {
      "image/png": "[encoded data removed]",
      "text/plain": [
       "<Figure size 720x720 with 2 Axes>"
      ]
     },
     "metadata": {
      "needs_background": "light"
     },
     "output_type": "display_data"
    }
   ],
   "source": [
    "f, ax = plt.subplots(figsize=(10, 10))\n",
    "sns.heatmap(\n",
    "    gene_corrs_df,\n",
    "    xticklabels=False,\n",
    "    yticklabels=False,\n",
    "    square=True,\n",
    "    vmin=vmin_val,\n",
    "    vmax=vmax_val,\n",
    "    cmap=\"YlGnBu\",\n",
    "    ax=ax,\n",
    ")\n",
    "ax.set_title(f\"Gene correlations in chromosome {chromosome}\")"
   ]
  },
  {
   "cell_type": "code",
   "execution_count": null,
   "id": "b25e3ead",
   "metadata": {
    "papermill": {
     "duration": 3.196555,
     "end_time": "2022-07-12T05:24:57.268594",
     "exception": false,
     "start_time": "2022-07-12T05:24:54.072039",
     "status": "completed"
    },
    "tags": []
   },
   "outputs": [],
   "source": []
  }
 ],
 "metadata": {
  "jupytext": {
   "cell_metadata_filter": "all,-execution,-papermill,-trusted",
   "formats": "ipynb,py//py:percent"
  },
  "kernelspec": {
   "display_name": "Python 3 (ipykernel)",
   "language": "python",
   "name": "python3"
  },
  "language_info": {
   "codemirror_mode": {
    "name": "ipython",
    "version": 3
   },
   "file_extension": ".py",
   "mimetype": "text/x-python",
   "name": "python",
   "nbconvert_exporter": "python",
   "pygments_lexer": "ipython3",
   "version": "3.8.13"
  },
  "papermill": {
   "default_parameters": {},
   "duration": 4671.33875,
   "end_time": "2022-07-12T05:25:04.075973",
   "environment_variables": {},
   "exception": null,
   "input_path": "nbs/15_gsa_gls/10-gene_expr_correlations.ipynb",
   "output_path": "nbs/15_gsa_gls/gene_corrs/1000g/mashr/10-gene_expr_correlations-chr6.run.ipynb",
   "parameters": {
    "EQTL_MODEL": "MASHR",
    "REFERENCE_PANEL": "1000G",
    "chromosome": 6
   },
   "start_time": "2022-07-12T04:07:12.737223",
   "version": "2.2.2"
  }
 },
 "nbformat": 4,
 "nbformat_minor": 5
}
