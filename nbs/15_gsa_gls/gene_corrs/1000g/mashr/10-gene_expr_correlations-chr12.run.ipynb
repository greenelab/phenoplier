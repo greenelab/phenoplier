{
 "cells": [
  {
   "cell_type": "markdown",
   "id": "7a6632fb",
   "metadata": {
    "papermill": {
     "duration": 0.008834,
     "end_time": "2022-07-11T06:58:09.962808",
     "exception": false,
     "start_time": "2022-07-11T06:58:09.953974",
     "status": "completed"
    },
    "tags": []
   },
   "source": [
    "# Description"
   ]
  },
  {
   "cell_type": "markdown",
   "id": "7097c346",
   "metadata": {
    "papermill": {
     "duration": 0.010722,
     "end_time": "2022-07-11T06:58:09.984691",
     "exception": false,
     "start_time": "2022-07-11T06:58:09.973969",
     "status": "completed"
    },
    "tags": []
   },
   "source": [
    "(Please, take a look at the README.md file in this directory for instructions on how to run this notebook)\n",
    "\n",
    "This notebook computes predicted expression correlations between all genes in the MultiPLIER models.\n",
    "\n",
    "It also has a parameter set for papermill to run on a single chromosome to run in parallel (see under `Settings` below).\n",
    "\n",
    "This notebook is not directly run. See README.md."
   ]
  },
  {
   "cell_type": "markdown",
   "id": "c61d8427",
   "metadata": {
    "papermill": {
     "duration": 0.00564,
     "end_time": "2022-07-11T06:58:10.001320",
     "exception": false,
     "start_time": "2022-07-11T06:58:09.995680",
     "status": "completed"
    },
    "tags": []
   },
   "source": [
    "# Modules"
   ]
  },
  {
   "cell_type": "code",
   "execution_count": 1,
   "id": "bbc0234f",
   "metadata": {
    "execution": {
     "iopub.execute_input": "2022-07-11T06:58:10.013404Z",
     "iopub.status.busy": "2022-07-11T06:58:10.013220Z",
     "iopub.status.idle": "2022-07-11T06:58:10.028766Z",
     "shell.execute_reply": "2022-07-11T06:58:10.028267Z"
    },
    "papermill": {
     "duration": 0.023155,
     "end_time": "2022-07-11T06:58:10.030246",
     "exception": false,
     "start_time": "2022-07-11T06:58:10.007091",
     "status": "completed"
    },
    "tags": []
   },
   "outputs": [],
   "source": [
    "%load_ext autoreload\n",
    "%autoreload 2"
   ]
  },
  {
   "cell_type": "code",
   "execution_count": 2,
   "id": "1d5f5a59",
   "metadata": {
    "execution": {
     "iopub.execute_input": "2022-07-11T06:58:10.042713Z",
     "iopub.status.busy": "2022-07-11T06:58:10.042558Z",
     "iopub.status.idle": "2022-07-11T06:58:11.077337Z",
     "shell.execute_reply": "2022-07-11T06:58:11.076888Z"
    },
    "papermill": {
     "duration": 1.04272,
     "end_time": "2022-07-11T06:58:11.078842",
     "exception": false,
     "start_time": "2022-07-11T06:58:10.036122",
     "status": "completed"
    },
    "tags": []
   },
   "outputs": [],
   "source": [
    "from random import sample, seed\n",
    "import warnings\n",
    "from pathlib import Path\n",
    "\n",
    "import numpy as np\n",
    "from scipy.spatial.distance import squareform\n",
    "import pandas as pd\n",
    "from tqdm import tqdm\n",
    "import matplotlib.pyplot as plt\n",
    "import seaborn as sns\n",
    "\n",
    "import conf\n",
    "from entity import Gene"
   ]
  },
  {
   "cell_type": "markdown",
   "id": "1eac24b5",
   "metadata": {
    "papermill": {
     "duration": 0.006149,
     "end_time": "2022-07-11T06:58:11.118541",
     "exception": false,
     "start_time": "2022-07-11T06:58:11.112392",
     "status": "completed"
    },
    "tags": []
   },
   "source": [
    "# Settings"
   ]
  },
  {
   "cell_type": "code",
   "execution_count": 3,
   "id": "ca4560ba",
   "metadata": {
    "execution": {
     "iopub.execute_input": "2022-07-11T06:58:11.131761Z",
     "iopub.status.busy": "2022-07-11T06:58:11.131262Z",
     "iopub.status.idle": "2022-07-11T06:58:11.147238Z",
     "shell.execute_reply": "2022-07-11T06:58:11.146817Z"
    },
    "papermill": {
     "duration": 0.024135,
     "end_time": "2022-07-11T06:58:11.148742",
     "exception": false,
     "start_time": "2022-07-11T06:58:11.124607",
     "status": "completed"
    },
    "tags": [
     "parameters"
    ]
   },
   "outputs": [],
   "source": [
    "# reference panel\n",
    "REFERENCE_PANEL = \"GTEX_V8\"\n",
    "# REFERENCE_PANEL = \"1000G\"\n",
    "\n",
    "# prediction models\n",
    "## mashr\n",
    "EQTL_MODEL = \"MASHR\"\n",
    "\n",
    "# this is the default value used in S-MultiXcan to select the\n",
    "# top principal components of the expression correlation matrix\n",
    "SMULTIXCAN_CONDITION_NUMBER = 30\n",
    "\n",
    "# specifies a single chromosome value\n",
    "# by default, run on all chromosomes\n",
    "chromosome = None"
   ]
  },
  {
   "cell_type": "code",
   "execution_count": 4,
   "id": "7a8d46f5",
   "metadata": {
    "execution": {
     "iopub.execute_input": "2022-07-11T06:58:11.161191Z",
     "iopub.status.busy": "2022-07-11T06:58:11.161028Z",
     "iopub.status.idle": "2022-07-11T06:58:11.176806Z",
     "shell.execute_reply": "2022-07-11T06:58:11.176390Z"
    },
    "papermill": {
     "duration": 0.0235,
     "end_time": "2022-07-11T06:58:11.178355",
     "exception": false,
     "start_time": "2022-07-11T06:58:11.154855",
     "status": "completed"
    },
    "tags": [
     "injected-parameters"
    ]
   },
   "outputs": [],
   "source": [
    "# Parameters\n",
    "chromosome = 12\n",
    "REFERENCE_PANEL = \"1000G\"\n",
    "EQTL_MODEL = \"MASHR\"\n"
   ]
  },
  {
   "cell_type": "code",
   "execution_count": 5,
   "id": "a089c9ff",
   "metadata": {
    "execution": {
     "iopub.execute_input": "2022-07-11T06:58:11.198682Z",
     "iopub.status.busy": "2022-07-11T06:58:11.198520Z",
     "iopub.status.idle": "2022-07-11T06:58:11.215234Z",
     "shell.execute_reply": "2022-07-11T06:58:11.214794Z"
    },
    "papermill": {
     "duration": 0.029521,
     "end_time": "2022-07-11T06:58:11.216626",
     "exception": false,
     "start_time": "2022-07-11T06:58:11.187105",
     "status": "completed"
    },
    "tags": []
   },
   "outputs": [],
   "source": [
    "EQTL_MODEL_FILES_PREFIX = conf.PHENOMEXCAN[\"PREDICTION_MODELS\"][f\"{EQTL_MODEL}_PREFIX\"]"
   ]
  },
  {
   "cell_type": "code",
   "execution_count": 6,
   "id": "8fe24bef",
   "metadata": {
    "execution": {
     "iopub.execute_input": "2022-07-11T06:58:11.229421Z",
     "iopub.status.busy": "2022-07-11T06:58:11.229259Z",
     "iopub.status.idle": "2022-07-11T06:58:11.247299Z",
     "shell.execute_reply": "2022-07-11T06:58:11.246884Z"
    },
    "papermill": {
     "duration": 0.026206,
     "end_time": "2022-07-11T06:58:11.248727",
     "exception": false,
     "start_time": "2022-07-11T06:58:11.222521",
     "status": "completed"
    },
    "tags": []
   },
   "outputs": [
    {
     "data": {
      "text/plain": [
       "'Using eQTL model: MASHR / mashr_'"
      ]
     },
     "metadata": {},
     "output_type": "display_data"
    }
   ],
   "source": [
    "display(f\"Using eQTL model: {EQTL_MODEL} / {EQTL_MODEL_FILES_PREFIX}\")"
   ]
  },
  {
   "cell_type": "code",
   "execution_count": 7,
   "id": "552a7f63-a18c-4d3e-bb6a-94f99b431291",
   "metadata": {
    "execution": {
     "iopub.execute_input": "2022-07-11T06:58:11.271894Z",
     "iopub.status.busy": "2022-07-11T06:58:11.271735Z",
     "iopub.status.idle": "2022-07-11T06:58:11.300030Z",
     "shell.execute_reply": "2022-07-11T06:58:11.299595Z"
    },
    "papermill": {
     "duration": 0.037374,
     "end_time": "2022-07-11T06:58:11.301201",
     "exception": false,
     "start_time": "2022-07-11T06:58:11.263827",
     "status": "completed"
    },
    "tags": []
   },
   "outputs": [
    {
     "data": {
      "text/plain": [
       "'S-MultiXcan condition number: 30'"
      ]
     },
     "metadata": {},
     "output_type": "display_data"
    }
   ],
   "source": [
    "display(f\"S-MultiXcan condition number: {SMULTIXCAN_CONDITION_NUMBER}\")"
   ]
  },
  {
   "cell_type": "code",
   "execution_count": 8,
   "id": "0230ebcb-2c32-4b95-9292-d9a52038e70d",
   "metadata": {
    "execution": {
     "iopub.execute_input": "2022-07-11T06:58:11.321150Z",
     "iopub.status.busy": "2022-07-11T06:58:11.320955Z",
     "iopub.status.idle": "2022-07-11T06:58:11.335096Z",
     "shell.execute_reply": "2022-07-11T06:58:11.334591Z"
    },
    "papermill": {
     "duration": 0.021687,
     "end_time": "2022-07-11T06:58:11.336373",
     "exception": false,
     "start_time": "2022-07-11T06:58:11.314686",
     "status": "completed"
    },
    "tags": []
   },
   "outputs": [],
   "source": [
    "REFERENCE_PANEL_DIR = conf.PHENOMEXCAN[\"LD_BLOCKS\"][f\"{REFERENCE_PANEL}_GENOTYPE_DIR\"]"
   ]
  },
  {
   "cell_type": "code",
   "execution_count": 9,
   "id": "98c4a159-601d-4a22-a1ab-35bd451c25f9",
   "metadata": {
    "execution": {
     "iopub.execute_input": "2022-07-11T06:58:11.350266Z",
     "iopub.status.busy": "2022-07-11T06:58:11.350091Z",
     "iopub.status.idle": "2022-07-11T06:58:11.374598Z",
     "shell.execute_reply": "2022-07-11T06:58:11.374218Z"
    },
    "papermill": {
     "duration": 0.033551,
     "end_time": "2022-07-11T06:58:11.375715",
     "exception": false,
     "start_time": "2022-07-11T06:58:11.342164",
     "status": "completed"
    },
    "tags": []
   },
   "outputs": [
    {
     "data": {
      "text/plain": [
       "'Using reference panel folder: /opt/data/data/phenomexcan/ld_blocks/reference_panel_1000G'"
      ]
     },
     "metadata": {},
     "output_type": "display_data"
    }
   ],
   "source": [
    "display(f\"Using reference panel folder: {str(REFERENCE_PANEL_DIR)}\")"
   ]
  },
  {
   "cell_type": "code",
   "execution_count": 10,
   "id": "396392dc-0340-4540-9b02-e182b833f909",
   "metadata": {
    "execution": {
     "iopub.execute_input": "2022-07-11T06:58:11.396320Z",
     "iopub.status.busy": "2022-07-11T06:58:11.396162Z",
     "iopub.status.idle": "2022-07-11T06:58:11.415803Z",
     "shell.execute_reply": "2022-07-11T06:58:11.415392Z"
    },
    "papermill": {
     "duration": 0.034131,
     "end_time": "2022-07-11T06:58:11.417049",
     "exception": false,
     "start_time": "2022-07-11T06:58:11.382918",
     "status": "completed"
    },
    "tags": []
   },
   "outputs": [],
   "source": [
    "OUTPUT_DIR_BASE = (\n",
    "    conf.PHENOMEXCAN[\"LD_BLOCKS\"][f\"GENE_CORRS_DIR\"]\n",
    "    / REFERENCE_PANEL.lower()\n",
    "    / EQTL_MODEL.lower()\n",
    ")\n",
    "OUTPUT_DIR_BASE.mkdir(parents=True, exist_ok=True)"
   ]
  },
  {
   "cell_type": "code",
   "execution_count": 11,
   "id": "8942c2d3-e53c-4d63-a0eb-b6fce0574d36",
   "metadata": {
    "execution": {
     "iopub.execute_input": "2022-07-11T06:58:11.438675Z",
     "iopub.status.busy": "2022-07-11T06:58:11.438513Z",
     "iopub.status.idle": "2022-07-11T06:58:11.465275Z",
     "shell.execute_reply": "2022-07-11T06:58:11.464844Z"
    },
    "papermill": {
     "duration": 0.040156,
     "end_time": "2022-07-11T06:58:11.466401",
     "exception": false,
     "start_time": "2022-07-11T06:58:11.426245",
     "status": "completed"
    },
    "tags": []
   },
   "outputs": [
    {
     "data": {
      "text/plain": [
       "'Using output dir base: /opt/data/data/phenomexcan/ld_blocks/gene_corrs/1000g/mashr'"
      ]
     },
     "metadata": {},
     "output_type": "display_data"
    }
   ],
   "source": [
    "display(f\"Using output dir base: {OUTPUT_DIR_BASE}\")"
   ]
  },
  {
   "cell_type": "code",
   "execution_count": 12,
   "id": "408aa590",
   "metadata": {
    "execution": {
     "iopub.execute_input": "2022-07-11T06:58:11.489628Z",
     "iopub.status.busy": "2022-07-11T06:58:11.489466Z",
     "iopub.status.idle": "2022-07-11T06:58:11.512384Z",
     "shell.execute_reply": "2022-07-11T06:58:11.511987Z"
    },
    "papermill": {
     "duration": 0.037757,
     "end_time": "2022-07-11T06:58:11.513612",
     "exception": false,
     "start_time": "2022-07-11T06:58:11.475855",
     "status": "completed"
    },
    "tags": []
   },
   "outputs": [],
   "source": [
    "assert (\n",
    "    chromosome is not None\n",
    "), \"You have to select one chromosome (format: number between 1 and 22)\""
   ]
  },
  {
   "cell_type": "code",
   "execution_count": 13,
   "id": "c1c7dd06-80ff-453c-bcb7-0899edce75da",
   "metadata": {
    "execution": {
     "iopub.execute_input": "2022-07-11T06:58:11.535799Z",
     "iopub.status.busy": "2022-07-11T06:58:11.535636Z",
     "iopub.status.idle": "2022-07-11T06:58:11.563062Z",
     "shell.execute_reply": "2022-07-11T06:58:11.562647Z"
    },
    "papermill": {
     "duration": 0.041395,
     "end_time": "2022-07-11T06:58:11.564415",
     "exception": false,
     "start_time": "2022-07-11T06:58:11.523020",
     "status": "completed"
    },
    "tags": []
   },
   "outputs": [],
   "source": [
    "chromosome = str(chromosome)"
   ]
  },
  {
   "cell_type": "code",
   "execution_count": 14,
   "id": "bc17b84c-9c26-47a5-a3ab-7046e72f3ef4",
   "metadata": {
    "execution": {
     "iopub.execute_input": "2022-07-11T06:58:11.577430Z",
     "iopub.status.busy": "2022-07-11T06:58:11.577261Z",
     "iopub.status.idle": "2022-07-11T06:58:11.601704Z",
     "shell.execute_reply": "2022-07-11T06:58:11.601306Z"
    },
    "papermill": {
     "duration": 0.032534,
     "end_time": "2022-07-11T06:58:11.603112",
     "exception": false,
     "start_time": "2022-07-11T06:58:11.570578",
     "status": "completed"
    },
    "tags": []
   },
   "outputs": [
    {
     "data": {
      "text/plain": [
       "'Working on chromosome 12'"
      ]
     },
     "metadata": {},
     "output_type": "display_data"
    }
   ],
   "source": [
    "display(f\"Working on chromosome {chromosome}\")"
   ]
  },
  {
   "cell_type": "markdown",
   "id": "d2ba085e",
   "metadata": {
    "papermill": {
     "duration": 0.013098,
     "end_time": "2022-07-11T06:58:11.625989",
     "exception": false,
     "start_time": "2022-07-11T06:58:11.612891",
     "status": "completed"
    },
    "tags": []
   },
   "source": [
    "# Load data"
   ]
  },
  {
   "cell_type": "markdown",
   "id": "7bed0ce0-e7c7-4300-9a61-5412450b1904",
   "metadata": {
    "papermill": {
     "duration": 0.013144,
     "end_time": "2022-07-11T06:58:11.652647",
     "exception": false,
     "start_time": "2022-07-11T06:58:11.639503",
     "status": "completed"
    },
    "tags": []
   },
   "source": [
    "## Prediction model tissues"
   ]
  },
  {
   "cell_type": "code",
   "execution_count": 15,
   "id": "0847c065-0d69-4830-a07f-1c75115d17f5",
   "metadata": {
    "execution": {
     "iopub.execute_input": "2022-07-11T06:58:11.666155Z",
     "iopub.status.busy": "2022-07-11T06:58:11.665991Z",
     "iopub.status.idle": "2022-07-11T06:58:11.680948Z",
     "shell.execute_reply": "2022-07-11T06:58:11.680487Z"
    },
    "papermill": {
     "duration": 0.023068,
     "end_time": "2022-07-11T06:58:11.682364",
     "exception": false,
     "start_time": "2022-07-11T06:58:11.659296",
     "status": "completed"
    },
    "tags": []
   },
   "outputs": [],
   "source": [
    "prediction_model_tissues = conf.PHENOMEXCAN[\"PREDICTION_MODELS\"][\n",
    "    f\"{EQTL_MODEL}_TISSUES\"\n",
    "].split(\" \")"
   ]
  },
  {
   "cell_type": "code",
   "execution_count": 16,
   "id": "aaef70d1-30c6-4c6f-9d6b-abc8e9a0081f",
   "metadata": {
    "execution": {
     "iopub.execute_input": "2022-07-11T06:58:11.696984Z",
     "iopub.status.busy": "2022-07-11T06:58:11.696822Z",
     "iopub.status.idle": "2022-07-11T06:58:11.714595Z",
     "shell.execute_reply": "2022-07-11T06:58:11.714169Z"
    },
    "papermill": {
     "duration": 0.026548,
     "end_time": "2022-07-11T06:58:11.715925",
     "exception": false,
     "start_time": "2022-07-11T06:58:11.689377",
     "status": "completed"
    },
    "tags": []
   },
   "outputs": [
    {
     "data": {
      "text/plain": [
       "49"
      ]
     },
     "execution_count": 16,
     "metadata": {},
     "output_type": "execute_result"
    }
   ],
   "source": [
    "len(prediction_model_tissues)"
   ]
  },
  {
   "cell_type": "code",
   "execution_count": 17,
   "id": "ff35a099-c52d-465d-b863-0ee70c26208c",
   "metadata": {
    "execution": {
     "iopub.execute_input": "2022-07-11T06:58:11.730502Z",
     "iopub.status.busy": "2022-07-11T06:58:11.730340Z",
     "iopub.status.idle": "2022-07-11T06:58:11.746931Z",
     "shell.execute_reply": "2022-07-11T06:58:11.746554Z"
    },
    "papermill": {
     "duration": 0.02555,
     "end_time": "2022-07-11T06:58:11.748215",
     "exception": false,
     "start_time": "2022-07-11T06:58:11.722665",
     "status": "completed"
    },
    "tags": []
   },
   "outputs": [
    {
     "data": {
      "text/plain": [
       "['Skin_Not_Sun_Exposed_Suprapubic',\n",
       " 'Cells_EBV-transformed_lymphocytes',\n",
       " 'Brain_Frontal_Cortex_BA9',\n",
       " 'Kidney_Cortex',\n",
       " 'Brain_Substantia_nigra']"
      ]
     },
     "execution_count": 17,
     "metadata": {},
     "output_type": "execute_result"
    }
   ],
   "source": [
    "prediction_model_tissues[:5]"
   ]
  },
  {
   "cell_type": "markdown",
   "id": "abcc4b3d",
   "metadata": {
    "papermill": {
     "duration": 0.00604,
     "end_time": "2022-07-11T06:58:11.760694",
     "exception": false,
     "start_time": "2022-07-11T06:58:11.754654",
     "status": "completed"
    },
    "tags": []
   },
   "source": [
    "## MultiPLIER Z"
   ]
  },
  {
   "cell_type": "code",
   "execution_count": 18,
   "id": "c48ef527",
   "metadata": {
    "execution": {
     "iopub.execute_input": "2022-07-11T06:58:11.774104Z",
     "iopub.status.busy": "2022-07-11T06:58:11.773933Z",
     "iopub.status.idle": "2022-07-11T06:58:11.820703Z",
     "shell.execute_reply": "2022-07-11T06:58:11.820294Z"
    },
    "papermill": {
     "duration": 0.055082,
     "end_time": "2022-07-11T06:58:11.821985",
     "exception": false,
     "start_time": "2022-07-11T06:58:11.766903",
     "status": "completed"
    },
    "tags": []
   },
   "outputs": [],
   "source": [
    "multiplier_z_genes = pd.read_pickle(\n",
    "    conf.MULTIPLIER[\"MODEL_Z_MATRIX_FILE\"]\n",
    ").index.tolist()"
   ]
  },
  {
   "cell_type": "code",
   "execution_count": 19,
   "id": "0a4ecbd9",
   "metadata": {
    "execution": {
     "iopub.execute_input": "2022-07-11T06:58:11.847662Z",
     "iopub.status.busy": "2022-07-11T06:58:11.845710Z",
     "iopub.status.idle": "2022-07-11T06:58:11.874262Z",
     "shell.execute_reply": "2022-07-11T06:58:11.873844Z"
    },
    "papermill": {
     "duration": 0.042858,
     "end_time": "2022-07-11T06:58:11.875426",
     "exception": false,
     "start_time": "2022-07-11T06:58:11.832568",
     "status": "completed"
    },
    "tags": []
   },
   "outputs": [
    {
     "data": {
      "text/plain": [
       "6750"
      ]
     },
     "execution_count": 19,
     "metadata": {},
     "output_type": "execute_result"
    }
   ],
   "source": [
    "len(multiplier_z_genes)"
   ]
  },
  {
   "cell_type": "code",
   "execution_count": 20,
   "id": "115e8864",
   "metadata": {
    "execution": {
     "iopub.execute_input": "2022-07-11T06:58:11.898621Z",
     "iopub.status.busy": "2022-07-11T06:58:11.898266Z",
     "iopub.status.idle": "2022-07-11T06:58:11.914397Z",
     "shell.execute_reply": "2022-07-11T06:58:11.913795Z"
    },
    "papermill": {
     "duration": 0.030478,
     "end_time": "2022-07-11T06:58:11.916153",
     "exception": false,
     "start_time": "2022-07-11T06:58:11.885675",
     "status": "completed"
    },
    "tags": []
   },
   "outputs": [
    {
     "data": {
      "text/plain": [
       "['GAS6',\n",
       " 'MMP14',\n",
       " 'DSP',\n",
       " 'MARCKSL1',\n",
       " 'SPARC',\n",
       " 'CTSD',\n",
       " 'EPAS1',\n",
       " 'PALLD',\n",
       " 'PHC2',\n",
       " 'LGALS3BP']"
      ]
     },
     "execution_count": 20,
     "metadata": {},
     "output_type": "execute_result"
    }
   ],
   "source": [
    "multiplier_z_genes[:10]"
   ]
  },
  {
   "cell_type": "markdown",
   "id": "7dcb8db7",
   "metadata": {
    "papermill": {
     "duration": 0.01312,
     "end_time": "2022-07-11T06:58:11.939217",
     "exception": false,
     "start_time": "2022-07-11T06:58:11.926097",
     "status": "completed"
    },
    "tags": []
   },
   "source": [
    "## Get gene objects"
   ]
  },
  {
   "cell_type": "code",
   "execution_count": 21,
   "id": "bb932812",
   "metadata": {
    "execution": {
     "iopub.execute_input": "2022-07-11T06:58:11.961755Z",
     "iopub.status.busy": "2022-07-11T06:58:11.961341Z",
     "iopub.status.idle": "2022-07-11T06:58:11.998598Z",
     "shell.execute_reply": "2022-07-11T06:58:11.997774Z"
    },
    "papermill": {
     "duration": 0.047733,
     "end_time": "2022-07-11T06:58:12.000110",
     "exception": false,
     "start_time": "2022-07-11T06:58:11.952377",
     "status": "completed"
    },
    "tags": []
   },
   "outputs": [],
   "source": [
    "multiplier_gene_obj = {\n",
    "    gene_name: Gene(name=gene_name)\n",
    "    for gene_name in multiplier_z_genes\n",
    "    if gene_name in Gene.GENE_NAME_TO_ID_MAP\n",
    "}"
   ]
  },
  {
   "cell_type": "code",
   "execution_count": 22,
   "id": "39533214",
   "metadata": {
    "execution": {
     "iopub.execute_input": "2022-07-11T06:58:12.015830Z",
     "iopub.status.busy": "2022-07-11T06:58:12.015390Z",
     "iopub.status.idle": "2022-07-11T06:58:12.033299Z",
     "shell.execute_reply": "2022-07-11T06:58:12.032453Z"
    },
    "papermill": {
     "duration": 0.02722,
     "end_time": "2022-07-11T06:58:12.034667",
     "exception": false,
     "start_time": "2022-07-11T06:58:12.007447",
     "status": "completed"
    },
    "tags": []
   },
   "outputs": [
    {
     "data": {
      "text/plain": [
       "6454"
      ]
     },
     "execution_count": 22,
     "metadata": {},
     "output_type": "execute_result"
    }
   ],
   "source": [
    "len(multiplier_gene_obj)"
   ]
  },
  {
   "cell_type": "code",
   "execution_count": 23,
   "id": "9a5d0b84",
   "metadata": {
    "execution": {
     "iopub.execute_input": "2022-07-11T06:58:12.052051Z",
     "iopub.status.busy": "2022-07-11T06:58:12.050979Z",
     "iopub.status.idle": "2022-07-11T06:58:12.068139Z",
     "shell.execute_reply": "2022-07-11T06:58:12.067736Z"
    },
    "papermill": {
     "duration": 0.026696,
     "end_time": "2022-07-11T06:58:12.069475",
     "exception": false,
     "start_time": "2022-07-11T06:58:12.042779",
     "status": "completed"
    },
    "tags": []
   },
   "outputs": [
    {
     "data": {
      "text/plain": [
       "'ENSG00000183087'"
      ]
     },
     "execution_count": 23,
     "metadata": {},
     "output_type": "execute_result"
    }
   ],
   "source": [
    "multiplier_gene_obj[\"GAS6\"].ensembl_id"
   ]
  },
  {
   "cell_type": "code",
   "execution_count": 24,
   "id": "e3ffabc7",
   "metadata": {
    "execution": {
     "iopub.execute_input": "2022-07-11T06:58:12.095430Z",
     "iopub.status.busy": "2022-07-11T06:58:12.095269Z",
     "iopub.status.idle": "2022-07-11T06:58:14.191634Z",
     "shell.execute_reply": "2022-07-11T06:58:14.191217Z"
    },
    "papermill": {
     "duration": 2.11201,
     "end_time": "2022-07-11T06:58:14.193175",
     "exception": false,
     "start_time": "2022-07-11T06:58:12.081165",
     "status": "completed"
    },
    "tags": []
   },
   "outputs": [],
   "source": [
    "_gene_obj = list(multiplier_gene_obj.values())\n",
    "\n",
    "genes_info = pd.DataFrame(\n",
    "    {\n",
    "        \"name\": [g.name for g in _gene_obj],\n",
    "        \"id\": [g.ensembl_id for g in _gene_obj],\n",
    "        \"chr\": [g.chromosome for g in _gene_obj],\n",
    "        \"band\": [g.band for g in _gene_obj],\n",
    "        \"start_position\": [g.get_attribute(\"start_position\") for g in _gene_obj],\n",
    "    }\n",
    ")"
   ]
  },
  {
   "cell_type": "code",
   "execution_count": 25,
   "id": "e23519b8",
   "metadata": {
    "execution": {
     "iopub.execute_input": "2022-07-11T06:58:14.207363Z",
     "iopub.status.busy": "2022-07-11T06:58:14.207202Z",
     "iopub.status.idle": "2022-07-11T06:58:14.223505Z",
     "shell.execute_reply": "2022-07-11T06:58:14.223133Z"
    },
    "papermill": {
     "duration": 0.024771,
     "end_time": "2022-07-11T06:58:14.224772",
     "exception": false,
     "start_time": "2022-07-11T06:58:14.200001",
     "status": "completed"
    },
    "tags": []
   },
   "outputs": [
    {
     "data": {
      "text/plain": [
       "(6454, 5)"
      ]
     },
     "execution_count": 25,
     "metadata": {},
     "output_type": "execute_result"
    }
   ],
   "source": [
    "genes_info.shape"
   ]
  },
  {
   "cell_type": "code",
   "execution_count": 26,
   "id": "0d71881c",
   "metadata": {
    "execution": {
     "iopub.execute_input": "2022-07-11T06:58:14.239328Z",
     "iopub.status.busy": "2022-07-11T06:58:14.239168Z",
     "iopub.status.idle": "2022-07-11T06:58:14.259797Z",
     "shell.execute_reply": "2022-07-11T06:58:14.258392Z"
    },
    "papermill": {
     "duration": 0.029116,
     "end_time": "2022-07-11T06:58:14.260951",
     "exception": false,
     "start_time": "2022-07-11T06:58:14.231835",
     "status": "completed"
    },
    "tags": []
   },
   "outputs": [
    {
     "data": {
      "text/html": [
       "<div>\n",
       "<style scoped>\n",
       "    .dataframe tbody tr th:only-of-type {\n",
       "        vertical-align: middle;\n",
       "    }\n",
       "\n",
       "    .dataframe tbody tr th {\n",
       "        vertical-align: top;\n",
       "    }\n",
       "\n",
       "    .dataframe thead th {\n",
       "        text-align: right;\n",
       "    }\n",
       "</style>\n",
       "<table border=\"1\" class=\"dataframe\">\n",
       "  <thead>\n",
       "    <tr style=\"text-align: right;\">\n",
       "      <th></th>\n",
       "      <th>name</th>\n",
       "      <th>id</th>\n",
       "      <th>chr</th>\n",
       "      <th>band</th>\n",
       "      <th>start_position</th>\n",
       "    </tr>\n",
       "  </thead>\n",
       "  <tbody>\n",
       "    <tr>\n",
       "      <th>0</th>\n",
       "      <td>GAS6</td>\n",
       "      <td>ENSG00000183087</td>\n",
       "      <td>13</td>\n",
       "      <td>13q34</td>\n",
       "      <td>113820549.0</td>\n",
       "    </tr>\n",
       "    <tr>\n",
       "      <th>1</th>\n",
       "      <td>MMP14</td>\n",
       "      <td>ENSG00000157227</td>\n",
       "      <td>14</td>\n",
       "      <td>14q11.2</td>\n",
       "      <td>22836560.0</td>\n",
       "    </tr>\n",
       "    <tr>\n",
       "      <th>2</th>\n",
       "      <td>DSP</td>\n",
       "      <td>ENSG00000096696</td>\n",
       "      <td>6</td>\n",
       "      <td>6p24.3</td>\n",
       "      <td>7541617.0</td>\n",
       "    </tr>\n",
       "    <tr>\n",
       "      <th>3</th>\n",
       "      <td>MARCKSL1</td>\n",
       "      <td>ENSG00000175130</td>\n",
       "      <td>1</td>\n",
       "      <td>1p35.1</td>\n",
       "      <td>32333839.0</td>\n",
       "    </tr>\n",
       "    <tr>\n",
       "      <th>4</th>\n",
       "      <td>SPARC</td>\n",
       "      <td>ENSG00000113140</td>\n",
       "      <td>5</td>\n",
       "      <td>5q33.1</td>\n",
       "      <td>151661096.0</td>\n",
       "    </tr>\n",
       "  </tbody>\n",
       "</table>\n",
       "</div>"
      ],
      "text/plain": [
       "       name               id chr     band  start_position\n",
       "0      GAS6  ENSG00000183087  13    13q34     113820549.0\n",
       "1     MMP14  ENSG00000157227  14  14q11.2      22836560.0\n",
       "2       DSP  ENSG00000096696   6   6p24.3       7541617.0\n",
       "3  MARCKSL1  ENSG00000175130   1   1p35.1      32333839.0\n",
       "4     SPARC  ENSG00000113140   5   5q33.1     151661096.0"
      ]
     },
     "execution_count": 26,
     "metadata": {},
     "output_type": "execute_result"
    }
   ],
   "source": [
    "genes_info.head()"
   ]
  },
  {
   "cell_type": "markdown",
   "id": "c8d1038f",
   "metadata": {
    "papermill": {
     "duration": 0.006776,
     "end_time": "2022-07-11T06:58:14.274998",
     "exception": false,
     "start_time": "2022-07-11T06:58:14.268222",
     "status": "completed"
    },
    "tags": []
   },
   "source": [
    "# Test"
   ]
  },
  {
   "cell_type": "code",
   "execution_count": 27,
   "id": "64993abf",
   "metadata": {
    "execution": {
     "iopub.execute_input": "2022-07-11T06:58:14.289997Z",
     "iopub.status.busy": "2022-07-11T06:58:14.289475Z",
     "iopub.status.idle": "2022-07-11T06:58:14.313217Z",
     "shell.execute_reply": "2022-07-11T06:58:14.312832Z"
    },
    "papermill": {
     "duration": 0.032538,
     "end_time": "2022-07-11T06:58:14.314557",
     "exception": false,
     "start_time": "2022-07-11T06:58:14.282019",
     "status": "completed"
    },
    "tags": []
   },
   "outputs": [
    {
     "data": {
      "text/html": [
       "<div>\n",
       "<style scoped>\n",
       "    .dataframe tbody tr th:only-of-type {\n",
       "        vertical-align: middle;\n",
       "    }\n",
       "\n",
       "    .dataframe tbody tr th {\n",
       "        vertical-align: top;\n",
       "    }\n",
       "\n",
       "    .dataframe thead th {\n",
       "        text-align: right;\n",
       "    }\n",
       "</style>\n",
       "<table border=\"1\" class=\"dataframe\">\n",
       "  <thead>\n",
       "    <tr style=\"text-align: right;\">\n",
       "      <th></th>\n",
       "      <th>name</th>\n",
       "      <th>id</th>\n",
       "      <th>chr</th>\n",
       "      <th>band</th>\n",
       "      <th>start_position</th>\n",
       "    </tr>\n",
       "  </thead>\n",
       "  <tbody>\n",
       "    <tr>\n",
       "      <th>20</th>\n",
       "      <td>EMP1</td>\n",
       "      <td>ENSG00000134531</td>\n",
       "      <td>12</td>\n",
       "      <td>12p13.1</td>\n",
       "      <td>13196723.0</td>\n",
       "    </tr>\n",
       "    <tr>\n",
       "      <th>64</th>\n",
       "      <td>FOXM1</td>\n",
       "      <td>ENSG00000111206</td>\n",
       "      <td>12</td>\n",
       "      <td>12p13.33</td>\n",
       "      <td>2857681.0</td>\n",
       "    </tr>\n",
       "    <tr>\n",
       "      <th>100</th>\n",
       "      <td>SOCS2</td>\n",
       "      <td>ENSG00000120833</td>\n",
       "      <td>12</td>\n",
       "      <td>12q22</td>\n",
       "      <td>93569814.0</td>\n",
       "    </tr>\n",
       "    <tr>\n",
       "      <th>111</th>\n",
       "      <td>FAIM2</td>\n",
       "      <td>ENSG00000135472</td>\n",
       "      <td>12</td>\n",
       "      <td>12q13.12</td>\n",
       "      <td>49866896.0</td>\n",
       "    </tr>\n",
       "    <tr>\n",
       "      <th>114</th>\n",
       "      <td>CD163</td>\n",
       "      <td>ENSG00000177575</td>\n",
       "      <td>12</td>\n",
       "      <td>12p13.31</td>\n",
       "      <td>7470813.0</td>\n",
       "    </tr>\n",
       "    <tr>\n",
       "      <th>...</th>\n",
       "      <td>...</td>\n",
       "      <td>...</td>\n",
       "      <td>...</td>\n",
       "      <td>...</td>\n",
       "      <td>...</td>\n",
       "    </tr>\n",
       "    <tr>\n",
       "      <th>6347</th>\n",
       "      <td>STAT2</td>\n",
       "      <td>ENSG00000170581</td>\n",
       "      <td>12</td>\n",
       "      <td>12q13.3</td>\n",
       "      <td>56341597.0</td>\n",
       "    </tr>\n",
       "    <tr>\n",
       "      <th>6372</th>\n",
       "      <td>ATP5G2</td>\n",
       "      <td>ENSG00000135390</td>\n",
       "      <td>12</td>\n",
       "      <td>12q13.13</td>\n",
       "      <td>53632726.0</td>\n",
       "    </tr>\n",
       "    <tr>\n",
       "      <th>6397</th>\n",
       "      <td>PTGES3</td>\n",
       "      <td>ENSG00000110958</td>\n",
       "      <td>12</td>\n",
       "      <td>12q13.3</td>\n",
       "      <td>56663341.0</td>\n",
       "    </tr>\n",
       "    <tr>\n",
       "      <th>6444</th>\n",
       "      <td>LDHB</td>\n",
       "      <td>ENSG00000111716</td>\n",
       "      <td>12</td>\n",
       "      <td>12p12.1</td>\n",
       "      <td>21635342.0</td>\n",
       "    </tr>\n",
       "    <tr>\n",
       "      <th>6451</th>\n",
       "      <td>PLEKHG6</td>\n",
       "      <td>ENSG00000008323</td>\n",
       "      <td>12</td>\n",
       "      <td>12p13.31</td>\n",
       "      <td>6310436.0</td>\n",
       "    </tr>\n",
       "  </tbody>\n",
       "</table>\n",
       "<p>389 rows × 5 columns</p>\n",
       "</div>"
      ],
      "text/plain": [
       "         name               id chr      band  start_position\n",
       "20       EMP1  ENSG00000134531  12   12p13.1      13196723.0\n",
       "64      FOXM1  ENSG00000111206  12  12p13.33       2857681.0\n",
       "100     SOCS2  ENSG00000120833  12     12q22      93569814.0\n",
       "111     FAIM2  ENSG00000135472  12  12q13.12      49866896.0\n",
       "114     CD163  ENSG00000177575  12  12p13.31       7470813.0\n",
       "...       ...              ...  ..       ...             ...\n",
       "6347    STAT2  ENSG00000170581  12   12q13.3      56341597.0\n",
       "6372   ATP5G2  ENSG00000135390  12  12q13.13      53632726.0\n",
       "6397   PTGES3  ENSG00000110958  12   12q13.3      56663341.0\n",
       "6444     LDHB  ENSG00000111716  12   12p12.1      21635342.0\n",
       "6451  PLEKHG6  ENSG00000008323  12  12p13.31       6310436.0\n",
       "\n",
       "[389 rows x 5 columns]"
      ]
     },
     "metadata": {},
     "output_type": "display_data"
    }
   ],
   "source": [
    "chromosome_genes_info = genes_info[genes_info[\"chr\"] == chromosome]\n",
    "display(chromosome_genes_info)"
   ]
  },
  {
   "cell_type": "code",
   "execution_count": 28,
   "id": "d2e42726-7de6-46eb-acfc-6323eaa8fae6",
   "metadata": {
    "execution": {
     "iopub.execute_input": "2022-07-11T06:58:14.329610Z",
     "iopub.status.busy": "2022-07-11T06:58:14.329450Z",
     "iopub.status.idle": "2022-07-11T06:58:14.346491Z",
     "shell.execute_reply": "2022-07-11T06:58:14.346114Z"
    },
    "papermill": {
     "duration": 0.025926,
     "end_time": "2022-07-11T06:58:14.347768",
     "exception": false,
     "start_time": "2022-07-11T06:58:14.321842",
     "status": "completed"
    },
    "tags": []
   },
   "outputs": [
    {
     "data": {
      "text/plain": [
       "5"
      ]
     },
     "metadata": {},
     "output_type": "display_data"
    }
   ],
   "source": [
    "seed(0)\n",
    "_gene_list_ids = sample(chromosome_genes_info[\"id\"].tolist(), 5)\n",
    "selected_chromosome_genes_obj = [Gene(ensembl_id=g_id) for g_id in _gene_list_ids]\n",
    "display(len(selected_chromosome_genes_obj))"
   ]
  },
  {
   "cell_type": "code",
   "execution_count": 29,
   "id": "1b355359",
   "metadata": {
    "execution": {
     "iopub.execute_input": "2022-07-11T06:58:14.363493Z",
     "iopub.status.busy": "2022-07-11T06:58:14.363066Z",
     "iopub.status.idle": "2022-07-11T06:58:17.229733Z",
     "shell.execute_reply": "2022-07-11T06:58:17.229305Z"
    },
    "papermill": {
     "duration": 2.875744,
     "end_time": "2022-07-11T06:58:17.230995",
     "exception": false,
     "start_time": "2022-07-11T06:58:14.355251",
     "status": "completed"
    },
    "tags": []
   },
   "outputs": [
    {
     "name": "stdout",
     "output_type": "stream",
     "text": [
      "SMARCC2 / PLEKHG6: 0.0\n",
      "SMARCC2 / SDS: 0.0\n",
      "SMARCC2 / A2M: 0.0\n",
      "SMARCC2 / KRT8: 0.0010207889834141838\n",
      "PLEKHG6 / SDS: 0.0\n",
      "PLEKHG6 / A2M: 0.005223727995515661\n",
      "PLEKHG6 / KRT8: 0.0\n",
      "SDS / A2M: 0.0\n",
      "SDS / KRT8: 0.0\n",
      "A2M / KRT8: 0.0\n"
     ]
    }
   ],
   "source": [
    "for gene_idx1 in range(0, len(selected_chromosome_genes_obj) - 1):\n",
    "    gene_obj1 = selected_chromosome_genes_obj[gene_idx1]\n",
    "\n",
    "    for gene_idx2 in range(gene_idx1 + 1, len(selected_chromosome_genes_obj)):\n",
    "        gene_obj2 = selected_chromosome_genes_obj[gene_idx2]\n",
    "\n",
    "        c = gene_obj1.get_ssm_correlation(\n",
    "            gene_obj2,\n",
    "        )\n",
    "\n",
    "        print(f\"{gene_obj1.name} / {gene_obj2.name}: {c}\")"
   ]
  },
  {
   "cell_type": "markdown",
   "id": "d3843e06",
   "metadata": {
    "papermill": {
     "duration": 0.010725,
     "end_time": "2022-07-11T06:58:17.252541",
     "exception": false,
     "start_time": "2022-07-11T06:58:17.241816",
     "status": "completed"
    },
    "tags": []
   },
   "source": [
    "# Compute correlation per chromosome"
   ]
  },
  {
   "cell_type": "code",
   "execution_count": 30,
   "id": "cb859c15-d1f3-4006-a74c-2b83c0db9611",
   "metadata": {
    "execution": {
     "iopub.execute_input": "2022-07-11T06:58:17.268483Z",
     "iopub.status.busy": "2022-07-11T06:58:17.268317Z",
     "iopub.status.idle": "2022-07-11T06:58:17.285795Z",
     "shell.execute_reply": "2022-07-11T06:58:17.285278Z"
    },
    "papermill": {
     "duration": 0.027221,
     "end_time": "2022-07-11T06:58:17.287337",
     "exception": false,
     "start_time": "2022-07-11T06:58:17.260116",
     "status": "completed"
    },
    "tags": []
   },
   "outputs": [
    {
     "data": {
      "text/plain": [
       "PosixPath('/opt/data/data/phenomexcan/ld_blocks/gene_corrs/1000g/mashr/by_chr/gene_corrs-chr12.pkl')"
      ]
     },
     "metadata": {},
     "output_type": "display_data"
    }
   ],
   "source": [
    "output_dir = OUTPUT_DIR_BASE / \"by_chr\"\n",
    "output_dir.mkdir(exist_ok=True, parents=True)\n",
    "output_file = output_dir / f\"gene_corrs-chr{chromosome}.pkl\"\n",
    "display(output_file)"
   ]
  },
  {
   "cell_type": "code",
   "execution_count": 31,
   "id": "aa674fe4-6794-4eed-98fa-32b39d1d4ace",
   "metadata": {
    "execution": {
     "iopub.execute_input": "2022-07-11T06:58:17.317092Z",
     "iopub.status.busy": "2022-07-11T06:58:17.316668Z",
     "iopub.status.idle": "2022-07-11T06:58:17.340057Z",
     "shell.execute_reply": "2022-07-11T06:58:17.339555Z"
    },
    "papermill": {
     "duration": 0.039542,
     "end_time": "2022-07-11T06:58:17.341641",
     "exception": false,
     "start_time": "2022-07-11T06:58:17.302099",
     "status": "completed"
    },
    "tags": []
   },
   "outputs": [],
   "source": [
    "warnings.filterwarnings(\"error\")"
   ]
  },
  {
   "cell_type": "code",
   "execution_count": 32,
   "id": "cdbb90a1",
   "metadata": {
    "execution": {
     "iopub.execute_input": "2022-07-11T06:58:17.367053Z",
     "iopub.status.busy": "2022-07-11T06:58:17.366830Z",
     "iopub.status.idle": "2022-07-11T07:15:10.250349Z",
     "shell.execute_reply": "2022-07-11T07:15:10.249887Z"
    },
    "papermill": {
     "duration": 1012.901406,
     "end_time": "2022-07-11T07:15:10.251543",
     "exception": false,
     "start_time": "2022-07-11T06:58:17.350137",
     "status": "completed"
    },
    "tags": []
   },
   "outputs": [
    {
     "name": "stdout",
     "output_type": "stream",
     "text": [
      "Number of genes in chromosome: 389\n",
      "Number of gene combinations: 75466\n"
     ]
    },
    {
     "name": "stderr",
     "output_type": "stream",
     "text": [
      "ENSG00000196387 / ENSG00000256223: 100%|██████████████████████| 75466/75466 [16:52<00:00, 74.51it/s]"
     ]
    },
    {
     "name": "stdout",
     "output_type": "stream",
     "text": [
      "Min/max values: 0.0 / 1.0\n"
     ]
    },
    {
     "name": "stderr",
     "output_type": "stream",
     "text": [
      "\n"
     ]
    },
    {
     "data": {
      "text/plain": [
       "PosixPath('/opt/data/data/phenomexcan/ld_blocks/gene_corrs/1000g/mashr/by_chr/gene_corrs-chr12.pkl')"
      ]
     },
     "metadata": {},
     "output_type": "display_data"
    }
   ],
   "source": [
    "# standard checks\n",
    "all_chrs = genes_info[\"chr\"].dropna().unique()\n",
    "assert all_chrs.shape[0] == 22\n",
    "\n",
    "# select chromosome given by the user\n",
    "assert chromosome in all_chrs\n",
    "\n",
    "# run only on the chromosome specified\n",
    "all_chrs = [chromosome]\n",
    "genes_chr = genes_info[genes_info[\"chr\"] == chromosome]\n",
    "\n",
    "# For testing purposes\n",
    "# genes_chr = genes_chr.sample(n=20)\n",
    "\n",
    "print(f\"Number of genes in chromosome: {genes_chr.shape[0]}\", flush=True)\n",
    "\n",
    "# sort genes by starting position to make visualizations better later\n",
    "genes_chr = genes_chr.sort_values(\"start_position\")\n",
    "\n",
    "gene_chr_objs = [Gene(ensembl_id=gene_id) for gene_id in genes_chr[\"id\"]]\n",
    "gene_chr_ids = [g.ensembl_id for g in gene_chr_objs]\n",
    "\n",
    "n = len(gene_chr_objs)\n",
    "n_comb = int(n * (n - 1) / 2.0)\n",
    "print(f\"Number of gene combinations: {n_comb}\", flush=True)\n",
    "\n",
    "gene_corrs = []\n",
    "\n",
    "pbar = tqdm(ncols=100, total=n_comb)\n",
    "i = 0\n",
    "for gene_idx1 in range(0, len(gene_chr_objs) - 1):\n",
    "    gene_obj1 = gene_chr_objs[gene_idx1]\n",
    "\n",
    "    for gene_idx2 in range(gene_idx1 + 1, len(gene_chr_objs)):\n",
    "        gene_obj2 = gene_chr_objs[gene_idx2]\n",
    "\n",
    "        pbar.set_description(f\"{gene_obj1.ensembl_id} / {gene_obj2.ensembl_id}\")\n",
    "\n",
    "        try:\n",
    "            # FIXME: compute the correlation of the sum of squares of the model using all\n",
    "            # the available tissues; this could be problematic because for some results\n",
    "            # (computed on a specific phenotype/GWAS) we might not have all the tissues\n",
    "            # available, which can certainly bias the correlation estimation.\n",
    "            # Since this depends on the GWAS on a specific phenotype, we should ideally have\n",
    "            # one correlation matrix per GWAS. I should look at how we can improve this.\n",
    "            r = gene_obj1.get_ssm_correlation(\n",
    "                other_gene=gene_obj2,\n",
    "                condition_number=SMULTIXCAN_CONDITION_NUMBER,\n",
    "                reference_panel=REFERENCE_PANEL,\n",
    "                model_type=EQTL_MODEL,\n",
    "            )\n",
    "\n",
    "            if r is None:\n",
    "                # if r is None, it's very likely because:\n",
    "                #  * one of the genes has no prediction models\n",
    "                #  * all the SNPs predictors for the gene are not present in the reference\n",
    "                #    panel\n",
    "\n",
    "                r = 0.0\n",
    "\n",
    "            gene_corrs.append(r)\n",
    "        except Warning:\n",
    "            print(\n",
    "                f\"RuntimeWarning for genes {gene_obj1.ensembl_id} and {gene_obj2.ensembl_id}\",\n",
    "                flush=True,\n",
    "            )\n",
    "            import traceback\n",
    "\n",
    "            print(traceback.format_exc(), flush=True)\n",
    "        except Exception as e:\n",
    "            print(\n",
    "                f\"Exception for genes {gene_obj1.ensembl_id} and {gene_obj2.ensembl_id}\",\n",
    "                flush=True,\n",
    "            )\n",
    "            import traceback\n",
    "\n",
    "            print(traceback.format_exc(), flush=True)\n",
    "            gene_corrs.append(np.nan)\n",
    "\n",
    "        pbar.update(1)\n",
    "\n",
    "pbar.close()\n",
    "\n",
    "# testing\n",
    "gene_corrs_flat = pd.Series(gene_corrs)\n",
    "print(f\"Min/max values: {gene_corrs_flat.min()} / {gene_corrs_flat.max()}\")\n",
    "assert gene_corrs_flat.min() >= -1.001\n",
    "assert gene_corrs_flat.max() <= 1.001\n",
    "\n",
    "# save\n",
    "# FIXME: consider saving only the condenced matrix here. See here for\n",
    "# more details: https://github.com/greenelab/phenoplier/pull/38#discussion_r634600813\n",
    "gene_corrs_data = squareform(np.array(gene_corrs, dtype=np.float64))\n",
    "np.fill_diagonal(gene_corrs_data, 1.0)\n",
    "\n",
    "gene_corrs_df = pd.DataFrame(\n",
    "    data=gene_corrs_data,\n",
    "    index=gene_chr_ids,\n",
    "    columns=gene_chr_ids,\n",
    ")\n",
    "\n",
    "output_dir.mkdir(exist_ok=True, parents=True)\n",
    "display(output_file)\n",
    "\n",
    "gene_corrs_df.to_pickle(output_file)"
   ]
  },
  {
   "cell_type": "markdown",
   "id": "faa67b51-5373-470f-aa72-2ded53fa6dfe",
   "metadata": {
    "papermill": {
     "duration": 2.855626,
     "end_time": "2022-07-11T07:15:16.045962",
     "exception": false,
     "start_time": "2022-07-11T07:15:13.190336",
     "status": "completed"
    },
    "tags": []
   },
   "source": [
    "# Testing"
   ]
  },
  {
   "cell_type": "code",
   "execution_count": 33,
   "id": "14f7d046-4b55-4896-a56b-990127bcc388",
   "metadata": {
    "execution": {
     "iopub.execute_input": "2022-07-11T07:15:21.845378Z",
     "iopub.status.busy": "2022-07-11T07:15:21.845040Z",
     "iopub.status.idle": "2022-07-11T07:15:21.860559Z",
     "shell.execute_reply": "2022-07-11T07:15:21.860052Z"
    },
    "papermill": {
     "duration": 2.899306,
     "end_time": "2022-07-11T07:15:21.861815",
     "exception": false,
     "start_time": "2022-07-11T07:15:18.962509",
     "status": "completed"
    },
    "tags": []
   },
   "outputs": [
    {
     "data": {
      "text/plain": [
       "(389, 389)"
      ]
     },
     "execution_count": 33,
     "metadata": {},
     "output_type": "execute_result"
    }
   ],
   "source": [
    "gene_corrs_df.shape"
   ]
  },
  {
   "cell_type": "code",
   "execution_count": 34,
   "id": "c7d15414-3297-4537-a7c6-7588c0baeb75",
   "metadata": {
    "execution": {
     "iopub.execute_input": "2022-07-11T07:15:27.595563Z",
     "iopub.status.busy": "2022-07-11T07:15:27.594911Z",
     "iopub.status.idle": "2022-07-11T07:15:27.624432Z",
     "shell.execute_reply": "2022-07-11T07:15:27.624002Z"
    },
    "papermill": {
     "duration": 2.995092,
     "end_time": "2022-07-11T07:15:27.625746",
     "exception": false,
     "start_time": "2022-07-11T07:15:24.630654",
     "status": "completed"
    },
    "tags": []
   },
   "outputs": [
    {
     "data": {
      "text/html": [
       "<div>\n",
       "<style scoped>\n",
       "    .dataframe tbody tr th:only-of-type {\n",
       "        vertical-align: middle;\n",
       "    }\n",
       "\n",
       "    .dataframe tbody tr th {\n",
       "        vertical-align: top;\n",
       "    }\n",
       "\n",
       "    .dataframe thead th {\n",
       "        text-align: right;\n",
       "    }\n",
       "</style>\n",
       "<table border=\"1\" class=\"dataframe\">\n",
       "  <thead>\n",
       "    <tr style=\"text-align: right;\">\n",
       "      <th></th>\n",
       "      <th>ENSG00000120645</th>\n",
       "      <th>ENSG00000111181</th>\n",
       "      <th>ENSG00000171840</th>\n",
       "      <th>ENSG00000060237</th>\n",
       "      <th>ENSG00000002016</th>\n",
       "      <th>ENSG00000082805</th>\n",
       "      <th>ENSG00000111186</th>\n",
       "      <th>ENSG00000006831</th>\n",
       "      <th>ENSG00000151062</th>\n",
       "      <th>ENSG00000151065</th>\n",
       "      <th>...</th>\n",
       "      <th>ENSG00000132341</th>\n",
       "      <th>ENSG00000198598</th>\n",
       "      <th>ENSG00000177169</th>\n",
       "      <th>ENSG00000182870</th>\n",
       "      <th>ENSG00000177084</th>\n",
       "      <th>ENSG00000176894</th>\n",
       "      <th>ENSG00000196458</th>\n",
       "      <th>ENSG00000198393</th>\n",
       "      <th>ENSG00000196387</th>\n",
       "      <th>ENSG00000256223</th>\n",
       "    </tr>\n",
       "  </thead>\n",
       "  <tbody>\n",
       "    <tr>\n",
       "      <th>ENSG00000120645</th>\n",
       "      <td>1.000000</td>\n",
       "      <td>0.082723</td>\n",
       "      <td>0.016449</td>\n",
       "      <td>0.016300</td>\n",
       "      <td>0.007931</td>\n",
       "      <td>0.012624</td>\n",
       "      <td>0.009413</td>\n",
       "      <td>0.013591</td>\n",
       "      <td>0.011872</td>\n",
       "      <td>0.011277</td>\n",
       "      <td>...</td>\n",
       "      <td>0.0</td>\n",
       "      <td>0.0</td>\n",
       "      <td>0.0</td>\n",
       "      <td>0.0</td>\n",
       "      <td>0.0</td>\n",
       "      <td>0.0</td>\n",
       "      <td>0.0</td>\n",
       "      <td>0.0</td>\n",
       "      <td>0.0</td>\n",
       "      <td>0.0</td>\n",
       "    </tr>\n",
       "    <tr>\n",
       "      <th>ENSG00000111181</th>\n",
       "      <td>0.082723</td>\n",
       "      <td>1.000000</td>\n",
       "      <td>0.016668</td>\n",
       "      <td>0.016045</td>\n",
       "      <td>0.004980</td>\n",
       "      <td>0.017887</td>\n",
       "      <td>0.015020</td>\n",
       "      <td>0.013956</td>\n",
       "      <td>0.012724</td>\n",
       "      <td>0.011574</td>\n",
       "      <td>...</td>\n",
       "      <td>0.0</td>\n",
       "      <td>0.0</td>\n",
       "      <td>0.0</td>\n",
       "      <td>0.0</td>\n",
       "      <td>0.0</td>\n",
       "      <td>0.0</td>\n",
       "      <td>0.0</td>\n",
       "      <td>0.0</td>\n",
       "      <td>0.0</td>\n",
       "      <td>0.0</td>\n",
       "    </tr>\n",
       "    <tr>\n",
       "      <th>ENSG00000171840</th>\n",
       "      <td>0.016449</td>\n",
       "      <td>0.016668</td>\n",
       "      <td>1.000000</td>\n",
       "      <td>0.139733</td>\n",
       "      <td>0.010345</td>\n",
       "      <td>0.020522</td>\n",
       "      <td>0.016926</td>\n",
       "      <td>0.013258</td>\n",
       "      <td>0.015826</td>\n",
       "      <td>0.009954</td>\n",
       "      <td>...</td>\n",
       "      <td>0.0</td>\n",
       "      <td>0.0</td>\n",
       "      <td>0.0</td>\n",
       "      <td>0.0</td>\n",
       "      <td>0.0</td>\n",
       "      <td>0.0</td>\n",
       "      <td>0.0</td>\n",
       "      <td>0.0</td>\n",
       "      <td>0.0</td>\n",
       "      <td>0.0</td>\n",
       "    </tr>\n",
       "    <tr>\n",
       "      <th>ENSG00000060237</th>\n",
       "      <td>0.016300</td>\n",
       "      <td>0.016045</td>\n",
       "      <td>0.139733</td>\n",
       "      <td>1.000000</td>\n",
       "      <td>0.208446</td>\n",
       "      <td>0.027144</td>\n",
       "      <td>0.015065</td>\n",
       "      <td>0.010928</td>\n",
       "      <td>0.014480</td>\n",
       "      <td>0.010851</td>\n",
       "      <td>...</td>\n",
       "      <td>0.0</td>\n",
       "      <td>0.0</td>\n",
       "      <td>0.0</td>\n",
       "      <td>0.0</td>\n",
       "      <td>0.0</td>\n",
       "      <td>0.0</td>\n",
       "      <td>0.0</td>\n",
       "      <td>0.0</td>\n",
       "      <td>0.0</td>\n",
       "      <td>0.0</td>\n",
       "    </tr>\n",
       "    <tr>\n",
       "      <th>ENSG00000002016</th>\n",
       "      <td>0.007931</td>\n",
       "      <td>0.004980</td>\n",
       "      <td>0.010345</td>\n",
       "      <td>0.208446</td>\n",
       "      <td>1.000000</td>\n",
       "      <td>0.025901</td>\n",
       "      <td>0.015070</td>\n",
       "      <td>0.007501</td>\n",
       "      <td>0.011730</td>\n",
       "      <td>0.006956</td>\n",
       "      <td>...</td>\n",
       "      <td>0.0</td>\n",
       "      <td>0.0</td>\n",
       "      <td>0.0</td>\n",
       "      <td>0.0</td>\n",
       "      <td>0.0</td>\n",
       "      <td>0.0</td>\n",
       "      <td>0.0</td>\n",
       "      <td>0.0</td>\n",
       "      <td>0.0</td>\n",
       "      <td>0.0</td>\n",
       "    </tr>\n",
       "  </tbody>\n",
       "</table>\n",
       "<p>5 rows × 389 columns</p>\n",
       "</div>"
      ],
      "text/plain": [
       "                 ENSG00000120645  ENSG00000111181  ENSG00000171840  \\\n",
       "ENSG00000120645         1.000000         0.082723         0.016449   \n",
       "ENSG00000111181         0.082723         1.000000         0.016668   \n",
       "ENSG00000171840         0.016449         0.016668         1.000000   \n",
       "ENSG00000060237         0.016300         0.016045         0.139733   \n",
       "ENSG00000002016         0.007931         0.004980         0.010345   \n",
       "\n",
       "                 ENSG00000060237  ENSG00000002016  ENSG00000082805  \\\n",
       "ENSG00000120645         0.016300         0.007931         0.012624   \n",
       "ENSG00000111181         0.016045         0.004980         0.017887   \n",
       "ENSG00000171840         0.139733         0.010345         0.020522   \n",
       "ENSG00000060237         1.000000         0.208446         0.027144   \n",
       "ENSG00000002016         0.208446         1.000000         0.025901   \n",
       "\n",
       "                 ENSG00000111186  ENSG00000006831  ENSG00000151062  \\\n",
       "ENSG00000120645         0.009413         0.013591         0.011872   \n",
       "ENSG00000111181         0.015020         0.013956         0.012724   \n",
       "ENSG00000171840         0.016926         0.013258         0.015826   \n",
       "ENSG00000060237         0.015065         0.010928         0.014480   \n",
       "ENSG00000002016         0.015070         0.007501         0.011730   \n",
       "\n",
       "                 ENSG00000151065  ...  ENSG00000132341  ENSG00000198598  \\\n",
       "ENSG00000120645         0.011277  ...              0.0              0.0   \n",
       "ENSG00000111181         0.011574  ...              0.0              0.0   \n",
       "ENSG00000171840         0.009954  ...              0.0              0.0   \n",
       "ENSG00000060237         0.010851  ...              0.0              0.0   \n",
       "ENSG00000002016         0.006956  ...              0.0              0.0   \n",
       "\n",
       "                 ENSG00000177169  ENSG00000182870  ENSG00000177084  \\\n",
       "ENSG00000120645              0.0              0.0              0.0   \n",
       "ENSG00000111181              0.0              0.0              0.0   \n",
       "ENSG00000171840              0.0              0.0              0.0   \n",
       "ENSG00000060237              0.0              0.0              0.0   \n",
       "ENSG00000002016              0.0              0.0              0.0   \n",
       "\n",
       "                 ENSG00000176894  ENSG00000196458  ENSG00000198393  \\\n",
       "ENSG00000120645              0.0              0.0              0.0   \n",
       "ENSG00000111181              0.0              0.0              0.0   \n",
       "ENSG00000171840              0.0              0.0              0.0   \n",
       "ENSG00000060237              0.0              0.0              0.0   \n",
       "ENSG00000002016              0.0              0.0              0.0   \n",
       "\n",
       "                 ENSG00000196387  ENSG00000256223  \n",
       "ENSG00000120645              0.0              0.0  \n",
       "ENSG00000111181              0.0              0.0  \n",
       "ENSG00000171840              0.0              0.0  \n",
       "ENSG00000060237              0.0              0.0  \n",
       "ENSG00000002016              0.0              0.0  \n",
       "\n",
       "[5 rows x 389 columns]"
      ]
     },
     "execution_count": 34,
     "metadata": {},
     "output_type": "execute_result"
    }
   ],
   "source": [
    "gene_corrs_df.head()"
   ]
  },
  {
   "cell_type": "code",
   "execution_count": 35,
   "id": "286686af-1b7b-4440-8453-6bdcbd8de19c",
   "metadata": {
    "execution": {
     "iopub.execute_input": "2022-07-11T07:15:33.354777Z",
     "iopub.status.busy": "2022-07-11T07:15:33.354275Z",
     "iopub.status.idle": "2022-07-11T07:15:33.370202Z",
     "shell.execute_reply": "2022-07-11T07:15:33.369717Z"
    },
    "papermill": {
     "duration": 2.890236,
     "end_time": "2022-07-11T07:15:33.371596",
     "exception": false,
     "start_time": "2022-07-11T07:15:30.481360",
     "status": "completed"
    },
    "tags": []
   },
   "outputs": [],
   "source": [
    "assert not gene_corrs_df.isna().any().any()"
   ]
  },
  {
   "cell_type": "code",
   "execution_count": 36,
   "id": "00583efc-7068-4270-ad1e-4a418e91db96",
   "metadata": {
    "execution": {
     "iopub.execute_input": "2022-07-11T07:15:39.231011Z",
     "iopub.status.busy": "2022-07-11T07:15:39.230838Z",
     "iopub.status.idle": "2022-07-11T07:15:39.249743Z",
     "shell.execute_reply": "2022-07-11T07:15:39.249222Z"
    },
    "papermill": {
     "duration": 3.003308,
     "end_time": "2022-07-11T07:15:39.251033",
     "exception": false,
     "start_time": "2022-07-11T07:15:36.247725",
     "status": "completed"
    },
    "tags": []
   },
   "outputs": [
    {
     "data": {
      "text/plain": [
       "0.0"
      ]
     },
     "metadata": {},
     "output_type": "display_data"
    }
   ],
   "source": [
    "_min_val = gene_corrs_df.min().min()\n",
    "display(_min_val)\n",
    "assert _min_val >= 0.0"
   ]
  },
  {
   "cell_type": "code",
   "execution_count": 37,
   "id": "d04fb2cf-1050-475b-b855-f5f7cc04092b",
   "metadata": {
    "execution": {
     "iopub.execute_input": "2022-07-11T07:15:45.019449Z",
     "iopub.status.busy": "2022-07-11T07:15:45.018805Z",
     "iopub.status.idle": "2022-07-11T07:15:45.037012Z",
     "shell.execute_reply": "2022-07-11T07:15:45.036421Z"
    },
    "papermill": {
     "duration": 2.841648,
     "end_time": "2022-07-11T07:15:45.038306",
     "exception": false,
     "start_time": "2022-07-11T07:15:42.196658",
     "status": "completed"
    },
    "tags": []
   },
   "outputs": [
    {
     "data": {
      "text/plain": [
       "1.0"
      ]
     },
     "metadata": {},
     "output_type": "display_data"
    }
   ],
   "source": [
    "_max_val = gene_corrs_df.max().max()  # this captures the diagonal\n",
    "display(_max_val)\n",
    "assert _max_val <= 1.0"
   ]
  },
  {
   "cell_type": "code",
   "execution_count": 38,
   "id": "96d02c44-1fba-47be-8a93-8f2608420b9c",
   "metadata": {
    "execution": {
     "iopub.execute_input": "2022-07-11T07:15:51.694077Z",
     "iopub.status.busy": "2022-07-11T07:15:51.693674Z",
     "iopub.status.idle": "2022-07-11T07:15:51.713147Z",
     "shell.execute_reply": "2022-07-11T07:15:51.712525Z"
    },
    "papermill": {
     "duration": 3.531214,
     "end_time": "2022-07-11T07:15:51.715060",
     "exception": false,
     "start_time": "2022-07-11T07:15:48.183846",
     "status": "completed"
    },
    "tags": []
   },
   "outputs": [],
   "source": [
    "# check upper triangular values\n",
    "assert len(gene_corrs) == int(genes_chr.shape[0] * (genes_chr.shape[0] - 1) / 2)"
   ]
  },
  {
   "cell_type": "code",
   "execution_count": 39,
   "id": "aaa51627-f4e3-4744-a41f-7d25adcc0a78",
   "metadata": {
    "execution": {
     "iopub.execute_input": "2022-07-11T07:15:58.831489Z",
     "iopub.status.busy": "2022-07-11T07:15:58.830764Z",
     "iopub.status.idle": "2022-07-11T07:15:58.859694Z",
     "shell.execute_reply": "2022-07-11T07:15:58.859106Z"
    },
    "papermill": {
     "duration": 3.547864,
     "end_time": "2022-07-11T07:15:58.861464",
     "exception": false,
     "start_time": "2022-07-11T07:15:55.313600",
     "status": "completed"
    },
    "tags": []
   },
   "outputs": [],
   "source": [
    "gene_corrs = pd.Series(gene_corrs)"
   ]
  },
  {
   "cell_type": "code",
   "execution_count": 40,
   "id": "fe283586-c348-40e0-8841-f6d97bfb021c",
   "metadata": {
    "execution": {
     "iopub.execute_input": "2022-07-11T07:16:06.029172Z",
     "iopub.status.busy": "2022-07-11T07:16:06.028715Z",
     "iopub.status.idle": "2022-07-11T07:16:06.054753Z",
     "shell.execute_reply": "2022-07-11T07:16:06.054133Z"
    },
    "papermill": {
     "duration": 3.617742,
     "end_time": "2022-07-11T07:16:06.056392",
     "exception": false,
     "start_time": "2022-07-11T07:16:02.438650",
     "status": "completed"
    },
    "tags": []
   },
   "outputs": [
    {
     "data": {
      "text/plain": [
       "count    75466.000000\n",
       "mean         0.003260\n",
       "std          0.030299\n",
       "min          0.000000\n",
       "25%          0.000000\n",
       "50%          0.000000\n",
       "75%          0.000000\n",
       "max          1.000000\n",
       "dtype: float64"
      ]
     },
     "execution_count": 40,
     "metadata": {},
     "output_type": "execute_result"
    }
   ],
   "source": [
    "gene_corrs.describe()"
   ]
  },
  {
   "cell_type": "code",
   "execution_count": 41,
   "id": "b3815678-0f93-4b35-897b-a9d047a2aa78",
   "metadata": {
    "execution": {
     "iopub.execute_input": "2022-07-11T07:16:13.150584Z",
     "iopub.status.busy": "2022-07-11T07:16:13.150012Z",
     "iopub.status.idle": "2022-07-11T07:16:13.174243Z",
     "shell.execute_reply": "2022-07-11T07:16:13.173584Z"
    },
    "papermill": {
     "duration": 3.628943,
     "end_time": "2022-07-11T07:16:13.175941",
     "exception": false,
     "start_time": "2022-07-11T07:16:09.546998",
     "status": "completed"
    },
    "tags": []
   },
   "outputs": [
    {
     "data": {
      "text/plain": [
       "0.00    0.000000\n",
       "0.05    0.000000\n",
       "0.10    0.000000\n",
       "0.15    0.000000\n",
       "0.20    0.000000\n",
       "0.25    0.000000\n",
       "0.30    0.000000\n",
       "0.35    0.000000\n",
       "0.40    0.000000\n",
       "0.45    0.000000\n",
       "0.50    0.000000\n",
       "0.55    0.000000\n",
       "0.60    0.000000\n",
       "0.65    0.000000\n",
       "0.70    0.000000\n",
       "0.75    0.000000\n",
       "0.80    0.000000\n",
       "0.85    0.000000\n",
       "0.90    0.003801\n",
       "0.95    0.009707\n",
       "dtype: float64"
      ]
     },
     "metadata": {},
     "output_type": "display_data"
    }
   ],
   "source": [
    "gene_corrs_quantiles = gene_corrs.quantile(np.arange(0, 1, 0.05))\n",
    "display(gene_corrs_quantiles)"
   ]
  },
  {
   "cell_type": "markdown",
   "id": "8e60a080-edb2-4e9c-b2ef-22961693200c",
   "metadata": {
    "papermill": {
     "duration": 3.526932,
     "end_time": "2022-07-11T07:16:20.232308",
     "exception": false,
     "start_time": "2022-07-11T07:16:16.705376",
     "status": "completed"
    },
    "tags": []
   },
   "source": [
    "## Plot: distribution"
   ]
  },
  {
   "cell_type": "code",
   "execution_count": 42,
   "id": "8301126b-a7d4-4744-9c7d-f0f86eb6f54c",
   "metadata": {
    "execution": {
     "iopub.execute_input": "2022-07-11T07:16:27.213740Z",
     "iopub.status.busy": "2022-07-11T07:16:27.213127Z",
     "iopub.status.idle": "2022-07-11T07:16:27.807604Z",
     "shell.execute_reply": "2022-07-11T07:16:27.807013Z"
    },
    "papermill": {
     "duration": 4.153892,
     "end_time": "2022-07-11T07:16:27.809280",
     "exception": false,
     "start_time": "2022-07-11T07:16:23.655388",
     "status": "completed"
    },
    "tags": []
   },
   "outputs": [
    {
     "data": {
      "image/png": "[encoded data removed]",
      "text/plain": [
       "<Figure size 504x504 with 1 Axes>"
      ]
     },
     "metadata": {
      "needs_background": "light"
     },
     "output_type": "display_data"
    }
   ],
   "source": [
    "with sns.plotting_context(\"paper\", font_scale=1.5):\n",
    "    g = sns.displot(gene_corrs, kde=True, height=7)\n",
    "    g.ax.set_title(\n",
    "        f\"Distribution of gene correlation values in chromosome {chromosome}\"\n",
    "    )"
   ]
  },
  {
   "cell_type": "markdown",
   "id": "cbd52bca-d878-4a2f-b684-5c83aa3038d4",
   "metadata": {
    "papermill": {
     "duration": 3.587491,
     "end_time": "2022-07-11T07:16:34.907376",
     "exception": false,
     "start_time": "2022-07-11T07:16:31.319885",
     "status": "completed"
    },
    "tags": []
   },
   "source": [
    "## Plot: heatmap"
   ]
  },
  {
   "cell_type": "code",
   "execution_count": 43,
   "id": "d03fe63a-c7b2-4fb9-a53c-db362ce843c9",
   "metadata": {
    "execution": {
     "iopub.execute_input": "2022-07-11T07:16:41.579565Z",
     "iopub.status.busy": "2022-07-11T07:16:41.579396Z",
     "iopub.status.idle": "2022-07-11T07:16:41.597224Z",
     "shell.execute_reply": "2022-07-11T07:16:41.596642Z"
    },
    "papermill": {
     "duration": 3.168122,
     "end_time": "2022-07-11T07:16:41.598582",
     "exception": false,
     "start_time": "2022-07-11T07:16:38.430460",
     "status": "completed"
    },
    "tags": []
   },
   "outputs": [
    {
     "data": {
      "text/plain": [
       "'-0.05 / 0.05'"
      ]
     },
     "metadata": {},
     "output_type": "display_data"
    }
   ],
   "source": [
    "vmin_val = min(-0.05, gene_corrs_quantiles[0.10])\n",
    "vmax_val = max(0.05, gene_corrs_quantiles[0.90])\n",
    "display(f\"{vmin_val} / {vmax_val}\")"
   ]
  },
  {
   "cell_type": "code",
   "execution_count": 44,
   "id": "dc41b70b-5bcc-4d9e-9f33-a22c4a94dab5",
   "metadata": {
    "execution": {
     "iopub.execute_input": "2022-07-11T07:16:47.441448Z",
     "iopub.status.busy": "2022-07-11T07:16:47.441269Z",
     "iopub.status.idle": "2022-07-11T07:16:47.699099Z",
     "shell.execute_reply": "2022-07-11T07:16:47.698657Z"
    },
    "papermill": {
     "duration": 3.1259,
     "end_time": "2022-07-11T07:16:47.700540",
     "exception": false,
     "start_time": "2022-07-11T07:16:44.574640",
     "status": "completed"
    },
    "tags": []
   },
   "outputs": [
    {
     "data": {
      "text/plain": [
       "Text(0.5, 1.0, 'Gene correlations in chromosome 12')"
      ]
     },
     "execution_count": 44,
     "metadata": {},
     "output_type": "execute_result"
    },
    {
     "data": {
      "image/png": "[encoded data removed]",
      "text/plain": [
       "<Figure size 720x720 with 2 Axes>"
      ]
     },
     "metadata": {
      "needs_background": "light"
     },
     "output_type": "display_data"
    }
   ],
   "source": [
    "f, ax = plt.subplots(figsize=(10, 10))\n",
    "sns.heatmap(\n",
    "    gene_corrs_df,\n",
    "    xticklabels=False,\n",
    "    yticklabels=False,\n",
    "    square=True,\n",
    "    vmin=vmin_val,\n",
    "    vmax=vmax_val,\n",
    "    cmap=\"YlGnBu\",\n",
    "    ax=ax,\n",
    ")\n",
    "ax.set_title(f\"Gene correlations in chromosome {chromosome}\")"
   ]
  },
  {
   "cell_type": "code",
   "execution_count": null,
   "id": "b25e3ead",
   "metadata": {
    "papermill": {
     "duration": 2.956148,
     "end_time": "2022-07-11T07:16:53.604278",
     "exception": false,
     "start_time": "2022-07-11T07:16:50.648130",
     "status": "completed"
    },
    "tags": []
   },
   "outputs": [],
   "source": []
  }
 ],
 "metadata": {
  "jupytext": {
   "cell_metadata_filter": "all,-execution,-papermill,-trusted",
   "formats": "ipynb,py//py:percent"
  },
  "kernelspec": {
   "display_name": "Python 3 (ipykernel)",
   "language": "python",
   "name": "python3"
  },
  "language_info": {
   "codemirror_mode": {
    "name": "ipython",
    "version": 3
   },
   "file_extension": ".py",
   "mimetype": "text/x-python",
   "name": "python",
   "nbconvert_exporter": "python",
   "pygments_lexer": "ipython3",
   "version": "3.8.13"
  },
  "papermill": {
   "default_parameters": {},
   "duration": 1131.125068,
   "end_time": "2022-07-11T07:16:59.660174",
   "environment_variables": {},
   "exception": null,
   "input_path": "nbs/15_gsa_gls/10-gene_expr_correlations.ipynb",
   "output_path": "nbs/15_gsa_gls/gene_corrs/1000g/mashr/10-gene_expr_correlations-chr12.run.ipynb",
   "parameters": {
    "EQTL_MODEL": "MASHR",
    "REFERENCE_PANEL": "1000G",
    "chromosome": 12
   },
   "start_time": "2022-07-11T06:58:08.535106",
   "version": "2.2.2"
  }
 },
 "nbformat": 4,
 "nbformat_minor": 5
}
