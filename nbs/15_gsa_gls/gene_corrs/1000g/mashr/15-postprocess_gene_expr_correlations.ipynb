{
 "cells": [
  {
   "cell_type": "markdown",
   "id": "5ef66977",
   "metadata": {
    "papermill": {
     "duration": 0.010512,
     "end_time": "2022-07-11T13:22:07.207937",
     "exception": false,
     "start_time": "2022-07-11T13:22:07.197425",
     "status": "completed"
    },
    "tags": []
   },
   "source": [
    "# Description"
   ]
  },
  {
   "cell_type": "markdown",
   "id": "658d4f7c",
   "metadata": {
    "papermill": {
     "duration": 0.007193,
     "end_time": "2022-07-11T13:22:07.222297",
     "exception": false,
     "start_time": "2022-07-11T13:22:07.215104",
     "status": "completed"
    },
    "tags": []
   },
   "source": [
    "(Please, take a look at the README.md file in this directory for instructions on how to run this notebook)\n",
    "\n",
    "This notebook reads all gene correlations across all chromosomes and computes a single correlation matrix by assembling a big correlation matrix with all genes."
   ]
  },
  {
   "cell_type": "markdown",
   "id": "60fa4530",
   "metadata": {
    "papermill": {
     "duration": 0.007062,
     "end_time": "2022-07-11T13:22:07.236433",
     "exception": false,
     "start_time": "2022-07-11T13:22:07.229371",
     "status": "completed"
    },
    "tags": []
   },
   "source": [
    "# Modules"
   ]
  },
  {
   "cell_type": "code",
   "execution_count": 1,
   "id": "d70b0833",
   "metadata": {
    "execution": {
     "iopub.execute_input": "2022-07-11T13:22:07.252325Z",
     "iopub.status.busy": "2022-07-11T13:22:07.252084Z",
     "iopub.status.idle": "2022-07-11T13:22:07.265778Z",
     "shell.execute_reply": "2022-07-11T13:22:07.265332Z"
    },
    "papermill": {
     "duration": 0.023639,
     "end_time": "2022-07-11T13:22:07.267099",
     "exception": false,
     "start_time": "2022-07-11T13:22:07.243460",
     "status": "completed"
    },
    "tags": []
   },
   "outputs": [],
   "source": [
    "%load_ext autoreload\n",
    "%autoreload 2"
   ]
  },
  {
   "cell_type": "code",
   "execution_count": 2,
   "id": "6b2f9ca0",
   "metadata": {
    "execution": {
     "iopub.execute_input": "2022-07-11T13:22:07.312276Z",
     "iopub.status.busy": "2022-07-11T13:22:07.312093Z",
     "iopub.status.idle": "2022-07-11T13:22:08.116029Z",
     "shell.execute_reply": "2022-07-11T13:22:08.115443Z"
    },
    "papermill": {
     "duration": 0.815336,
     "end_time": "2022-07-11T13:22:08.117525",
     "exception": false,
     "start_time": "2022-07-11T13:22:07.302189",
     "status": "completed"
    },
    "tags": []
   },
   "outputs": [],
   "source": [
    "import numpy as np\n",
    "from scipy.spatial.distance import squareform\n",
    "import pandas as pd\n",
    "import matplotlib.pyplot as plt\n",
    "import seaborn as sns\n",
    "\n",
    "import conf\n",
    "from entity import Gene"
   ]
  },
  {
   "cell_type": "markdown",
   "id": "5b96e797",
   "metadata": {
    "papermill": {
     "duration": 0.007353,
     "end_time": "2022-07-11T13:22:08.132804",
     "exception": false,
     "start_time": "2022-07-11T13:22:08.125451",
     "status": "completed"
    },
    "tags": []
   },
   "source": [
    "# Settings"
   ]
  },
  {
   "cell_type": "code",
   "execution_count": 3,
   "id": "4fc1b6a0",
   "metadata": {
    "execution": {
     "iopub.execute_input": "2022-07-11T13:22:08.148034Z",
     "iopub.status.busy": "2022-07-11T13:22:08.147879Z",
     "iopub.status.idle": "2022-07-11T13:22:08.162457Z",
     "shell.execute_reply": "2022-07-11T13:22:08.161869Z"
    },
    "papermill": {
     "duration": 0.02389,
     "end_time": "2022-07-11T13:22:08.163791",
     "exception": false,
     "start_time": "2022-07-11T13:22:08.139901",
     "status": "completed"
    },
    "tags": [
     "parameters"
    ]
   },
   "outputs": [],
   "source": [
    "# reference panel\n",
    "REFERENCE_PANEL = \"GTEX_V8\"\n",
    "# REFERENCE_PANEL = \"1000G\"\n",
    "\n",
    "# prediction models\n",
    "## mashr\n",
    "EQTL_MODEL = \"MASHR\"\n",
    "EQTL_MODEL_FILES_PREFIX = \"mashr_\"\n",
    "\n",
    "# ## elastic net\n",
    "# EQTL_MODEL = \"ELASTIC_NET\"\n",
    "# EQTL_MODEL_FILES_PREFIX = \"en_\"\n",
    "\n",
    "# make it read the prefix from conf.py\n",
    "EQTL_MODEL_FILES_PREFIX = None"
   ]
  },
  {
   "cell_type": "code",
   "execution_count": 4,
   "id": "1bbdf463",
   "metadata": {
    "execution": {
     "iopub.execute_input": "2022-07-11T13:22:08.179456Z",
     "iopub.status.busy": "2022-07-11T13:22:08.179283Z",
     "iopub.status.idle": "2022-07-11T13:22:08.193530Z",
     "shell.execute_reply": "2022-07-11T13:22:08.192948Z"
    },
    "papermill": {
     "duration": 0.023396,
     "end_time": "2022-07-11T13:22:08.194824",
     "exception": false,
     "start_time": "2022-07-11T13:22:08.171428",
     "status": "completed"
    },
    "tags": [
     "injected-parameters"
    ]
   },
   "outputs": [],
   "source": [
    "# Parameters\n",
    "REFERENCE_PANEL = \"1000G\"\n",
    "EQTL_MODEL = \"MASHR\"\n"
   ]
  },
  {
   "cell_type": "code",
   "execution_count": 5,
   "id": "92e6297a",
   "metadata": {
    "execution": {
     "iopub.execute_input": "2022-07-11T13:22:08.211148Z",
     "iopub.status.busy": "2022-07-11T13:22:08.210985Z",
     "iopub.status.idle": "2022-07-11T13:22:08.226085Z",
     "shell.execute_reply": "2022-07-11T13:22:08.225580Z"
    },
    "papermill": {
     "duration": 0.02466,
     "end_time": "2022-07-11T13:22:08.227356",
     "exception": false,
     "start_time": "2022-07-11T13:22:08.202696",
     "status": "completed"
    },
    "tags": []
   },
   "outputs": [],
   "source": [
    "if EQTL_MODEL_FILES_PREFIX is None:\n",
    "    EQTL_MODEL_FILES_PREFIX = conf.PHENOMEXCAN[\"PREDICTION_MODELS\"][\n",
    "        f\"{EQTL_MODEL}_PREFIX\"\n",
    "    ]"
   ]
  },
  {
   "cell_type": "code",
   "execution_count": 6,
   "id": "c76e4f93",
   "metadata": {
    "execution": {
     "iopub.execute_input": "2022-07-11T13:22:08.243605Z",
     "iopub.status.busy": "2022-07-11T13:22:08.243436Z",
     "iopub.status.idle": "2022-07-11T13:22:08.259914Z",
     "shell.execute_reply": "2022-07-11T13:22:08.259446Z"
    },
    "papermill": {
     "duration": 0.026034,
     "end_time": "2022-07-11T13:22:08.261147",
     "exception": false,
     "start_time": "2022-07-11T13:22:08.235113",
     "status": "completed"
    },
    "tags": []
   },
   "outputs": [
    {
     "data": {
      "text/plain": [
       "'Using eQTL model: MASHR / mashr_'"
      ]
     },
     "metadata": {},
     "output_type": "display_data"
    }
   ],
   "source": [
    "display(f\"Using eQTL model: {EQTL_MODEL} / {EQTL_MODEL_FILES_PREFIX}\")"
   ]
  },
  {
   "cell_type": "code",
   "execution_count": 7,
   "id": "8b85565e-d749-42a9-840d-794f535503ce",
   "metadata": {
    "execution": {
     "iopub.execute_input": "2022-07-11T13:22:08.277819Z",
     "iopub.status.busy": "2022-07-11T13:22:08.277435Z",
     "iopub.status.idle": "2022-07-11T13:22:08.291950Z",
     "shell.execute_reply": "2022-07-11T13:22:08.291361Z"
    },
    "papermill": {
     "duration": 0.024124,
     "end_time": "2022-07-11T13:22:08.293201",
     "exception": false,
     "start_time": "2022-07-11T13:22:08.269077",
     "status": "completed"
    },
    "tags": []
   },
   "outputs": [],
   "source": [
    "REFERENCE_PANEL_DIR = conf.PHENOMEXCAN[\"LD_BLOCKS\"][f\"{REFERENCE_PANEL}_GENOTYPE_DIR\"]"
   ]
  },
  {
   "cell_type": "code",
   "execution_count": 8,
   "id": "7d88b555-08c0-4a85-94e1-c7679a361093",
   "metadata": {
    "execution": {
     "iopub.execute_input": "2022-07-11T13:22:08.309691Z",
     "iopub.status.busy": "2022-07-11T13:22:08.309529Z",
     "iopub.status.idle": "2022-07-11T13:22:08.324552Z",
     "shell.execute_reply": "2022-07-11T13:22:08.324017Z"
    },
    "papermill": {
     "duration": 0.024695,
     "end_time": "2022-07-11T13:22:08.325817",
     "exception": false,
     "start_time": "2022-07-11T13:22:08.301122",
     "status": "completed"
    },
    "tags": []
   },
   "outputs": [
    {
     "data": {
      "text/plain": [
       "'Using reference panel folder: /opt/data/data/phenomexcan/ld_blocks/reference_panel_1000G'"
      ]
     },
     "metadata": {},
     "output_type": "display_data"
    }
   ],
   "source": [
    "display(f\"Using reference panel folder: {str(REFERENCE_PANEL_DIR)}\")"
   ]
  },
  {
   "cell_type": "code",
   "execution_count": 9,
   "id": "ac0c0705-90e4-42f8-8298-a457c7e778ff",
   "metadata": {
    "execution": {
     "iopub.execute_input": "2022-07-11T13:22:08.342910Z",
     "iopub.status.busy": "2022-07-11T13:22:08.342745Z",
     "iopub.status.idle": "2022-07-11T13:22:08.358898Z",
     "shell.execute_reply": "2022-07-11T13:22:08.358468Z"
    },
    "papermill": {
     "duration": 0.026136,
     "end_time": "2022-07-11T13:22:08.360188",
     "exception": false,
     "start_time": "2022-07-11T13:22:08.334052",
     "status": "completed"
    },
    "tags": []
   },
   "outputs": [
    {
     "data": {
      "text/plain": [
       "PosixPath('/opt/data/data/phenomexcan/ld_blocks/gene_corrs/1000g/mashr')"
      ]
     },
     "metadata": {},
     "output_type": "display_data"
    }
   ],
   "source": [
    "OUTPUT_DIR_BASE = (\n",
    "    conf.PHENOMEXCAN[\"LD_BLOCKS\"][f\"GENE_CORRS_DIR\"]\n",
    "    / REFERENCE_PANEL.lower()\n",
    "    / EQTL_MODEL.lower()\n",
    ")\n",
    "display(OUTPUT_DIR_BASE)\n",
    "OUTPUT_DIR_BASE.mkdir(parents=True, exist_ok=True)"
   ]
  },
  {
   "cell_type": "code",
   "execution_count": 10,
   "id": "91e9b1f6-954d-494f-9ace-c2c9dfc74d4f",
   "metadata": {
    "execution": {
     "iopub.execute_input": "2022-07-11T13:22:08.377452Z",
     "iopub.status.busy": "2022-07-11T13:22:08.377298Z",
     "iopub.status.idle": "2022-07-11T13:22:08.392127Z",
     "shell.execute_reply": "2022-07-11T13:22:08.391619Z"
    },
    "papermill": {
     "duration": 0.02494,
     "end_time": "2022-07-11T13:22:08.393412",
     "exception": false,
     "start_time": "2022-07-11T13:22:08.368472",
     "status": "completed"
    },
    "tags": []
   },
   "outputs": [
    {
     "data": {
      "text/plain": [
       "'Using output dir base: /opt/data/data/phenomexcan/ld_blocks/gene_corrs/1000g/mashr'"
      ]
     },
     "metadata": {},
     "output_type": "display_data"
    }
   ],
   "source": [
    "display(f\"Using output dir base: {OUTPUT_DIR_BASE}\")"
   ]
  },
  {
   "cell_type": "code",
   "execution_count": 11,
   "id": "1afd50f7",
   "metadata": {
    "execution": {
     "iopub.execute_input": "2022-07-11T13:22:08.410464Z",
     "iopub.status.busy": "2022-07-11T13:22:08.410303Z",
     "iopub.status.idle": "2022-07-11T13:22:08.425540Z",
     "shell.execute_reply": "2022-07-11T13:22:08.425030Z"
    },
    "papermill": {
     "duration": 0.025236,
     "end_time": "2022-07-11T13:22:08.426798",
     "exception": false,
     "start_time": "2022-07-11T13:22:08.401562",
     "status": "completed"
    },
    "tags": []
   },
   "outputs": [
    {
     "data": {
      "text/plain": [
       "PosixPath('/opt/data/data/phenomexcan/ld_blocks/gene_corrs/1000g/mashr/by_chr/corrected_positive_definite')"
      ]
     },
     "metadata": {},
     "output_type": "display_data"
    }
   ],
   "source": [
    "INPUT_DIR = OUTPUT_DIR_BASE / \"by_chr\" / \"corrected_positive_definite\"\n",
    "display(INPUT_DIR)\n",
    "assert INPUT_DIR.exists()"
   ]
  },
  {
   "cell_type": "markdown",
   "id": "99ccb166",
   "metadata": {
    "papermill": {
     "duration": 0.008141,
     "end_time": "2022-07-11T13:22:08.443463",
     "exception": false,
     "start_time": "2022-07-11T13:22:08.435322",
     "status": "completed"
    },
    "tags": []
   },
   "source": [
    "# Load data"
   ]
  },
  {
   "cell_type": "markdown",
   "id": "028bdd42",
   "metadata": {
    "papermill": {
     "duration": 0.007488,
     "end_time": "2022-07-11T13:22:08.458581",
     "exception": false,
     "start_time": "2022-07-11T13:22:08.451093",
     "status": "completed"
    },
    "tags": []
   },
   "source": [
    "## Gene correlations"
   ]
  },
  {
   "cell_type": "code",
   "execution_count": 12,
   "id": "04624465",
   "metadata": {
    "execution": {
     "iopub.execute_input": "2022-07-11T13:22:08.475505Z",
     "iopub.status.busy": "2022-07-11T13:22:08.475334Z",
     "iopub.status.idle": "2022-07-11T13:22:08.489850Z",
     "shell.execute_reply": "2022-07-11T13:22:08.489380Z"
    },
    "papermill": {
     "duration": 0.025061,
     "end_time": "2022-07-11T13:22:08.491269",
     "exception": false,
     "start_time": "2022-07-11T13:22:08.466208",
     "status": "completed"
    },
    "tags": []
   },
   "outputs": [],
   "source": [
    "all_gene_corr_files = list(INPUT_DIR.glob(\"gene_corrs-chr*.pkl\"))"
   ]
  },
  {
   "cell_type": "code",
   "execution_count": 13,
   "id": "be5869e7-d0e4-4b8f-8c6d-a1c6a9419fe2",
   "metadata": {
    "execution": {
     "iopub.execute_input": "2022-07-11T13:22:08.508102Z",
     "iopub.status.busy": "2022-07-11T13:22:08.507942Z",
     "iopub.status.idle": "2022-07-11T13:22:08.522150Z",
     "shell.execute_reply": "2022-07-11T13:22:08.521632Z"
    },
    "papermill": {
     "duration": 0.024081,
     "end_time": "2022-07-11T13:22:08.523428",
     "exception": false,
     "start_time": "2022-07-11T13:22:08.499347",
     "status": "completed"
    },
    "tags": []
   },
   "outputs": [],
   "source": [
    "# sort by chromosome\n",
    "all_gene_corr_files = sorted(\n",
    "    all_gene_corr_files, key=lambda x: int(x.name.split(\"-chr\")[1].split(\".pkl\")[0])\n",
    ")"
   ]
  },
  {
   "cell_type": "code",
   "execution_count": 14,
   "id": "7d1168f5",
   "metadata": {
    "execution": {
     "iopub.execute_input": "2022-07-11T13:22:08.540170Z",
     "iopub.status.busy": "2022-07-11T13:22:08.540012Z",
     "iopub.status.idle": "2022-07-11T13:22:08.554877Z",
     "shell.execute_reply": "2022-07-11T13:22:08.554356Z"
    },
    "papermill": {
     "duration": 0.024667,
     "end_time": "2022-07-11T13:22:08.556164",
     "exception": false,
     "start_time": "2022-07-11T13:22:08.531497",
     "status": "completed"
    },
    "tags": []
   },
   "outputs": [
    {
     "data": {
      "text/plain": [
       "22"
      ]
     },
     "execution_count": 14,
     "metadata": {},
     "output_type": "execute_result"
    }
   ],
   "source": [
    "len(all_gene_corr_files)"
   ]
  },
  {
   "cell_type": "code",
   "execution_count": 15,
   "id": "39364170",
   "metadata": {
    "execution": {
     "iopub.execute_input": "2022-07-11T13:22:08.573704Z",
     "iopub.status.busy": "2022-07-11T13:22:08.573544Z",
     "iopub.status.idle": "2022-07-11T13:22:08.589353Z",
     "shell.execute_reply": "2022-07-11T13:22:08.588756Z"
    },
    "papermill": {
     "duration": 0.026179,
     "end_time": "2022-07-11T13:22:08.590826",
     "exception": false,
     "start_time": "2022-07-11T13:22:08.564647",
     "status": "completed"
    },
    "tags": []
   },
   "outputs": [
    {
     "data": {
      "text/plain": [
       "[PosixPath('/opt/data/data/phenomexcan/ld_blocks/gene_corrs/1000g/mashr/by_chr/corrected_positive_definite/gene_corrs-chr1.pkl'),\n",
       " PosixPath('/opt/data/data/phenomexcan/ld_blocks/gene_corrs/1000g/mashr/by_chr/corrected_positive_definite/gene_corrs-chr2.pkl'),\n",
       " PosixPath('/opt/data/data/phenomexcan/ld_blocks/gene_corrs/1000g/mashr/by_chr/corrected_positive_definite/gene_corrs-chr3.pkl'),\n",
       " PosixPath('/opt/data/data/phenomexcan/ld_blocks/gene_corrs/1000g/mashr/by_chr/corrected_positive_definite/gene_corrs-chr4.pkl'),\n",
       " PosixPath('/opt/data/data/phenomexcan/ld_blocks/gene_corrs/1000g/mashr/by_chr/corrected_positive_definite/gene_corrs-chr5.pkl'),\n",
       " PosixPath('/opt/data/data/phenomexcan/ld_blocks/gene_corrs/1000g/mashr/by_chr/corrected_positive_definite/gene_corrs-chr6.pkl'),\n",
       " PosixPath('/opt/data/data/phenomexcan/ld_blocks/gene_corrs/1000g/mashr/by_chr/corrected_positive_definite/gene_corrs-chr7.pkl'),\n",
       " PosixPath('/opt/data/data/phenomexcan/ld_blocks/gene_corrs/1000g/mashr/by_chr/corrected_positive_definite/gene_corrs-chr8.pkl'),\n",
       " PosixPath('/opt/data/data/phenomexcan/ld_blocks/gene_corrs/1000g/mashr/by_chr/corrected_positive_definite/gene_corrs-chr9.pkl'),\n",
       " PosixPath('/opt/data/data/phenomexcan/ld_blocks/gene_corrs/1000g/mashr/by_chr/corrected_positive_definite/gene_corrs-chr10.pkl'),\n",
       " PosixPath('/opt/data/data/phenomexcan/ld_blocks/gene_corrs/1000g/mashr/by_chr/corrected_positive_definite/gene_corrs-chr11.pkl'),\n",
       " PosixPath('/opt/data/data/phenomexcan/ld_blocks/gene_corrs/1000g/mashr/by_chr/corrected_positive_definite/gene_corrs-chr12.pkl'),\n",
       " PosixPath('/opt/data/data/phenomexcan/ld_blocks/gene_corrs/1000g/mashr/by_chr/corrected_positive_definite/gene_corrs-chr13.pkl'),\n",
       " PosixPath('/opt/data/data/phenomexcan/ld_blocks/gene_corrs/1000g/mashr/by_chr/corrected_positive_definite/gene_corrs-chr14.pkl'),\n",
       " PosixPath('/opt/data/data/phenomexcan/ld_blocks/gene_corrs/1000g/mashr/by_chr/corrected_positive_definite/gene_corrs-chr15.pkl'),\n",
       " PosixPath('/opt/data/data/phenomexcan/ld_blocks/gene_corrs/1000g/mashr/by_chr/corrected_positive_definite/gene_corrs-chr16.pkl'),\n",
       " PosixPath('/opt/data/data/phenomexcan/ld_blocks/gene_corrs/1000g/mashr/by_chr/corrected_positive_definite/gene_corrs-chr17.pkl'),\n",
       " PosixPath('/opt/data/data/phenomexcan/ld_blocks/gene_corrs/1000g/mashr/by_chr/corrected_positive_definite/gene_corrs-chr18.pkl'),\n",
       " PosixPath('/opt/data/data/phenomexcan/ld_blocks/gene_corrs/1000g/mashr/by_chr/corrected_positive_definite/gene_corrs-chr19.pkl'),\n",
       " PosixPath('/opt/data/data/phenomexcan/ld_blocks/gene_corrs/1000g/mashr/by_chr/corrected_positive_definite/gene_corrs-chr20.pkl'),\n",
       " PosixPath('/opt/data/data/phenomexcan/ld_blocks/gene_corrs/1000g/mashr/by_chr/corrected_positive_definite/gene_corrs-chr21.pkl'),\n",
       " PosixPath('/opt/data/data/phenomexcan/ld_blocks/gene_corrs/1000g/mashr/by_chr/corrected_positive_definite/gene_corrs-chr22.pkl')]"
      ]
     },
     "execution_count": 15,
     "metadata": {},
     "output_type": "execute_result"
    }
   ],
   "source": [
    "all_gene_corr_files"
   ]
  },
  {
   "cell_type": "code",
   "execution_count": 16,
   "id": "6e48c284",
   "metadata": {
    "execution": {
     "iopub.execute_input": "2022-07-11T13:22:08.611873Z",
     "iopub.status.busy": "2022-07-11T13:22:08.611690Z",
     "iopub.status.idle": "2022-07-11T13:22:08.627451Z",
     "shell.execute_reply": "2022-07-11T13:22:08.626947Z"
    },
    "papermill": {
     "duration": 0.027709,
     "end_time": "2022-07-11T13:22:08.628922",
     "exception": false,
     "start_time": "2022-07-11T13:22:08.601213",
     "status": "completed"
    },
    "tags": []
   },
   "outputs": [],
   "source": [
    "assert len(all_gene_corr_files) == 22"
   ]
  },
  {
   "cell_type": "markdown",
   "id": "46ae0b3e",
   "metadata": {
    "papermill": {
     "duration": 0.008625,
     "end_time": "2022-07-11T13:22:08.646659",
     "exception": false,
     "start_time": "2022-07-11T13:22:08.638034",
     "status": "completed"
    },
    "tags": []
   },
   "source": [
    "## MultiPLIER Z"
   ]
  },
  {
   "cell_type": "code",
   "execution_count": 17,
   "id": "d38d9749",
   "metadata": {
    "execution": {
     "iopub.execute_input": "2022-07-11T13:22:08.663937Z",
     "iopub.status.busy": "2022-07-11T13:22:08.663730Z",
     "iopub.status.idle": "2022-07-11T13:22:08.703604Z",
     "shell.execute_reply": "2022-07-11T13:22:08.703056Z"
    },
    "papermill": {
     "duration": 0.050011,
     "end_time": "2022-07-11T13:22:08.705065",
     "exception": false,
     "start_time": "2022-07-11T13:22:08.655054",
     "status": "completed"
    },
    "tags": []
   },
   "outputs": [],
   "source": [
    "multiplier_z_genes = pd.read_pickle(\n",
    "    conf.MULTIPLIER[\"MODEL_Z_MATRIX_FILE\"]\n",
    ").index.tolist()"
   ]
  },
  {
   "cell_type": "code",
   "execution_count": 18,
   "id": "67e93797",
   "metadata": {
    "execution": {
     "iopub.execute_input": "2022-07-11T13:22:08.724315Z",
     "iopub.status.busy": "2022-07-11T13:22:08.724154Z",
     "iopub.status.idle": "2022-07-11T13:22:08.740130Z",
     "shell.execute_reply": "2022-07-11T13:22:08.739707Z"
    },
    "papermill": {
     "duration": 0.026612,
     "end_time": "2022-07-11T13:22:08.741377",
     "exception": false,
     "start_time": "2022-07-11T13:22:08.714765",
     "status": "completed"
    },
    "tags": []
   },
   "outputs": [
    {
     "data": {
      "text/plain": [
       "6750"
      ]
     },
     "execution_count": 18,
     "metadata": {},
     "output_type": "execute_result"
    }
   ],
   "source": [
    "len(multiplier_z_genes)"
   ]
  },
  {
   "cell_type": "code",
   "execution_count": 19,
   "id": "e1ba1ead",
   "metadata": {
    "execution": {
     "iopub.execute_input": "2022-07-11T13:22:08.759251Z",
     "iopub.status.busy": "2022-07-11T13:22:08.759094Z",
     "iopub.status.idle": "2022-07-11T13:22:08.774174Z",
     "shell.execute_reply": "2022-07-11T13:22:08.773624Z"
    },
    "papermill": {
     "duration": 0.025283,
     "end_time": "2022-07-11T13:22:08.775398",
     "exception": false,
     "start_time": "2022-07-11T13:22:08.750115",
     "status": "completed"
    },
    "tags": []
   },
   "outputs": [
    {
     "data": {
      "text/plain": [
       "['GAS6',\n",
       " 'MMP14',\n",
       " 'DSP',\n",
       " 'MARCKSL1',\n",
       " 'SPARC',\n",
       " 'CTSD',\n",
       " 'EPAS1',\n",
       " 'PALLD',\n",
       " 'PHC2',\n",
       " 'LGALS3BP']"
      ]
     },
     "execution_count": 19,
     "metadata": {},
     "output_type": "execute_result"
    }
   ],
   "source": [
    "multiplier_z_genes[:10]"
   ]
  },
  {
   "cell_type": "markdown",
   "id": "18873129",
   "metadata": {
    "papermill": {
     "duration": 0.009319,
     "end_time": "2022-07-11T13:22:08.793676",
     "exception": false,
     "start_time": "2022-07-11T13:22:08.784357",
     "status": "completed"
    },
    "tags": []
   },
   "source": [
    "## Get gene objects"
   ]
  },
  {
   "cell_type": "code",
   "execution_count": 20,
   "id": "3660a0b8",
   "metadata": {
    "execution": {
     "iopub.execute_input": "2022-07-11T13:22:08.812795Z",
     "iopub.status.busy": "2022-07-11T13:22:08.812596Z",
     "iopub.status.idle": "2022-07-11T13:22:08.833364Z",
     "shell.execute_reply": "2022-07-11T13:22:08.832862Z"
    },
    "papermill": {
     "duration": 0.031658,
     "end_time": "2022-07-11T13:22:08.834721",
     "exception": false,
     "start_time": "2022-07-11T13:22:08.803063",
     "status": "completed"
    },
    "tags": []
   },
   "outputs": [],
   "source": [
    "multiplier_gene_obj = {\n",
    "    gene_name: Gene(name=gene_name)\n",
    "    for gene_name in multiplier_z_genes\n",
    "    if gene_name in Gene.GENE_NAME_TO_ID_MAP\n",
    "}"
   ]
  },
  {
   "cell_type": "code",
   "execution_count": 21,
   "id": "43bacda1",
   "metadata": {
    "execution": {
     "iopub.execute_input": "2022-07-11T13:22:08.852915Z",
     "iopub.status.busy": "2022-07-11T13:22:08.852713Z",
     "iopub.status.idle": "2022-07-11T13:22:08.867612Z",
     "shell.execute_reply": "2022-07-11T13:22:08.867169Z"
    },
    "papermill": {
     "duration": 0.025463,
     "end_time": "2022-07-11T13:22:08.868916",
     "exception": false,
     "start_time": "2022-07-11T13:22:08.843453",
     "status": "completed"
    },
    "tags": []
   },
   "outputs": [
    {
     "data": {
      "text/plain": [
       "6454"
      ]
     },
     "execution_count": 21,
     "metadata": {},
     "output_type": "execute_result"
    }
   ],
   "source": [
    "len(multiplier_gene_obj)"
   ]
  },
  {
   "cell_type": "code",
   "execution_count": 22,
   "id": "a60c1bb6",
   "metadata": {
    "execution": {
     "iopub.execute_input": "2022-07-11T13:22:08.887240Z",
     "iopub.status.busy": "2022-07-11T13:22:08.887041Z",
     "iopub.status.idle": "2022-07-11T13:22:08.902335Z",
     "shell.execute_reply": "2022-07-11T13:22:08.901870Z"
    },
    "papermill": {
     "duration": 0.025874,
     "end_time": "2022-07-11T13:22:08.903607",
     "exception": false,
     "start_time": "2022-07-11T13:22:08.877733",
     "status": "completed"
    },
    "tags": []
   },
   "outputs": [
    {
     "data": {
      "text/plain": [
       "'ENSG00000183087'"
      ]
     },
     "execution_count": 22,
     "metadata": {},
     "output_type": "execute_result"
    }
   ],
   "source": [
    "multiplier_gene_obj[\"GAS6\"].ensembl_id"
   ]
  },
  {
   "cell_type": "code",
   "execution_count": 23,
   "id": "ba55cbcb",
   "metadata": {
    "execution": {
     "iopub.execute_input": "2022-07-11T13:22:08.921641Z",
     "iopub.status.busy": "2022-07-11T13:22:08.921484Z",
     "iopub.status.idle": "2022-07-11T13:22:10.208520Z",
     "shell.execute_reply": "2022-07-11T13:22:10.207887Z"
    },
    "papermill": {
     "duration": 1.297734,
     "end_time": "2022-07-11T13:22:10.210042",
     "exception": false,
     "start_time": "2022-07-11T13:22:08.912308",
     "status": "completed"
    },
    "tags": []
   },
   "outputs": [],
   "source": [
    "_gene_obj = list(multiplier_gene_obj.values())\n",
    "\n",
    "genes_info = pd.DataFrame(\n",
    "    {\n",
    "        \"name\": [g.name for g in _gene_obj],\n",
    "        \"id\": [g.ensembl_id for g in _gene_obj],\n",
    "        \"chr\": [g.chromosome for g in _gene_obj],\n",
    "        \"start_position\": [g.get_attribute(\"start_position\") for g in _gene_obj],\n",
    "    }\n",
    ").dropna()"
   ]
  },
  {
   "cell_type": "code",
   "execution_count": 24,
   "id": "15371751-93dd-41c9-8cb5-26051e4f6f0b",
   "metadata": {
    "execution": {
     "iopub.execute_input": "2022-07-11T13:22:10.228055Z",
     "iopub.status.busy": "2022-07-11T13:22:10.227867Z",
     "iopub.status.idle": "2022-07-11T13:22:10.244435Z",
     "shell.execute_reply": "2022-07-11T13:22:10.243806Z"
    },
    "papermill": {
     "duration": 0.027081,
     "end_time": "2022-07-11T13:22:10.245780",
     "exception": false,
     "start_time": "2022-07-11T13:22:10.218699",
     "status": "completed"
    },
    "tags": []
   },
   "outputs": [],
   "source": [
    "assert not genes_info.isna().any().any()"
   ]
  },
  {
   "cell_type": "code",
   "execution_count": 25,
   "id": "fcc20b97-4eab-47b9-a6af-1b7fd7192dfd",
   "metadata": {
    "execution": {
     "iopub.execute_input": "2022-07-11T13:22:10.263944Z",
     "iopub.status.busy": "2022-07-11T13:22:10.263789Z",
     "iopub.status.idle": "2022-07-11T13:22:10.280228Z",
     "shell.execute_reply": "2022-07-11T13:22:10.279641Z"
    },
    "papermill": {
     "duration": 0.026896,
     "end_time": "2022-07-11T13:22:10.281506",
     "exception": false,
     "start_time": "2022-07-11T13:22:10.254610",
     "status": "completed"
    },
    "tags": []
   },
   "outputs": [
    {
     "data": {
      "text/plain": [
       "name               object\n",
       "id                 object\n",
       "chr                object\n",
       "start_position    float64\n",
       "dtype: object"
      ]
     },
     "execution_count": 25,
     "metadata": {},
     "output_type": "execute_result"
    }
   ],
   "source": [
    "genes_info.dtypes"
   ]
  },
  {
   "cell_type": "code",
   "execution_count": 26,
   "id": "fc073c6d-7678-48e6-975e-8f5c0418d7e5",
   "metadata": {
    "execution": {
     "iopub.execute_input": "2022-07-11T13:22:10.300499Z",
     "iopub.status.busy": "2022-07-11T13:22:10.300337Z",
     "iopub.status.idle": "2022-07-11T13:22:10.871367Z",
     "shell.execute_reply": "2022-07-11T13:22:10.870823Z"
    },
    "papermill": {
     "duration": 0.582214,
     "end_time": "2022-07-11T13:22:10.872873",
     "exception": false,
     "start_time": "2022-07-11T13:22:10.290659",
     "status": "completed"
    },
    "tags": []
   },
   "outputs": [],
   "source": [
    "genes_info[\"chr\"] = genes_info[\"chr\"].apply(pd.to_numeric, downcast=\"integer\")\n",
    "genes_info[\"start_position\"] = genes_info[\"start_position\"].astype(\n",
    "    int\n",
    ")  # .apply(pd.to_numeric, downcast=\"signed\")"
   ]
  },
  {
   "cell_type": "code",
   "execution_count": 27,
   "id": "2b3edd40-0dc0-480f-a7d3-a21ab15613a0",
   "metadata": {
    "execution": {
     "iopub.execute_input": "2022-07-11T13:22:10.890954Z",
     "iopub.status.busy": "2022-07-11T13:22:10.890742Z",
     "iopub.status.idle": "2022-07-11T13:22:10.906908Z",
     "shell.execute_reply": "2022-07-11T13:22:10.906346Z"
    },
    "papermill": {
     "duration": 0.026716,
     "end_time": "2022-07-11T13:22:10.908132",
     "exception": false,
     "start_time": "2022-07-11T13:22:10.881416",
     "status": "completed"
    },
    "tags": []
   },
   "outputs": [
    {
     "data": {
      "text/plain": [
       "name              object\n",
       "id                object\n",
       "chr                int64\n",
       "start_position     int64\n",
       "dtype: object"
      ]
     },
     "execution_count": 27,
     "metadata": {},
     "output_type": "execute_result"
    }
   ],
   "source": [
    "genes_info.dtypes"
   ]
  },
  {
   "cell_type": "code",
   "execution_count": 28,
   "id": "9510fe3a",
   "metadata": {
    "execution": {
     "iopub.execute_input": "2022-07-11T13:22:10.926625Z",
     "iopub.status.busy": "2022-07-11T13:22:10.926462Z",
     "iopub.status.idle": "2022-07-11T13:22:10.941307Z",
     "shell.execute_reply": "2022-07-11T13:22:10.940841Z"
    },
    "papermill": {
     "duration": 0.025507,
     "end_time": "2022-07-11T13:22:10.942417",
     "exception": false,
     "start_time": "2022-07-11T13:22:10.916910",
     "status": "completed"
    },
    "tags": []
   },
   "outputs": [
    {
     "data": {
      "text/plain": [
       "(6452, 4)"
      ]
     },
     "execution_count": 28,
     "metadata": {},
     "output_type": "execute_result"
    }
   ],
   "source": [
    "genes_info.shape"
   ]
  },
  {
   "cell_type": "code",
   "execution_count": 29,
   "id": "b175ee0c",
   "metadata": {
    "execution": {
     "iopub.execute_input": "2022-07-11T13:22:10.960945Z",
     "iopub.status.busy": "2022-07-11T13:22:10.960790Z",
     "iopub.status.idle": "2022-07-11T13:22:10.979625Z",
     "shell.execute_reply": "2022-07-11T13:22:10.979144Z"
    },
    "papermill": {
     "duration": 0.029471,
     "end_time": "2022-07-11T13:22:10.980808",
     "exception": false,
     "start_time": "2022-07-11T13:22:10.951337",
     "status": "completed"
    },
    "tags": []
   },
   "outputs": [
    {
     "data": {
      "text/html": [
       "<div>\n",
       "<style scoped>\n",
       "    .dataframe tbody tr th:only-of-type {\n",
       "        vertical-align: middle;\n",
       "    }\n",
       "\n",
       "    .dataframe tbody tr th {\n",
       "        vertical-align: top;\n",
       "    }\n",
       "\n",
       "    .dataframe thead th {\n",
       "        text-align: right;\n",
       "    }\n",
       "</style>\n",
       "<table border=\"1\" class=\"dataframe\">\n",
       "  <thead>\n",
       "    <tr style=\"text-align: right;\">\n",
       "      <th></th>\n",
       "      <th>name</th>\n",
       "      <th>id</th>\n",
       "      <th>chr</th>\n",
       "      <th>start_position</th>\n",
       "    </tr>\n",
       "  </thead>\n",
       "  <tbody>\n",
       "    <tr>\n",
       "      <th>0</th>\n",
       "      <td>GAS6</td>\n",
       "      <td>ENSG00000183087</td>\n",
       "      <td>13</td>\n",
       "      <td>113820549</td>\n",
       "    </tr>\n",
       "    <tr>\n",
       "      <th>1</th>\n",
       "      <td>MMP14</td>\n",
       "      <td>ENSG00000157227</td>\n",
       "      <td>14</td>\n",
       "      <td>22836560</td>\n",
       "    </tr>\n",
       "    <tr>\n",
       "      <th>2</th>\n",
       "      <td>DSP</td>\n",
       "      <td>ENSG00000096696</td>\n",
       "      <td>6</td>\n",
       "      <td>7541617</td>\n",
       "    </tr>\n",
       "    <tr>\n",
       "      <th>3</th>\n",
       "      <td>MARCKSL1</td>\n",
       "      <td>ENSG00000175130</td>\n",
       "      <td>1</td>\n",
       "      <td>32333839</td>\n",
       "    </tr>\n",
       "    <tr>\n",
       "      <th>4</th>\n",
       "      <td>SPARC</td>\n",
       "      <td>ENSG00000113140</td>\n",
       "      <td>5</td>\n",
       "      <td>151661096</td>\n",
       "    </tr>\n",
       "  </tbody>\n",
       "</table>\n",
       "</div>"
      ],
      "text/plain": [
       "       name               id  chr  start_position\n",
       "0      GAS6  ENSG00000183087   13       113820549\n",
       "1     MMP14  ENSG00000157227   14        22836560\n",
       "2       DSP  ENSG00000096696    6         7541617\n",
       "3  MARCKSL1  ENSG00000175130    1        32333839\n",
       "4     SPARC  ENSG00000113140    5       151661096"
      ]
     },
     "execution_count": 29,
     "metadata": {},
     "output_type": "execute_result"
    }
   ],
   "source": [
    "genes_info.head()"
   ]
  },
  {
   "cell_type": "code",
   "execution_count": 30,
   "id": "ef1c5d9c-9030-465e-875e-e38672e7a4bc",
   "metadata": {
    "execution": {
     "iopub.execute_input": "2022-07-11T13:22:10.999886Z",
     "iopub.status.busy": "2022-07-11T13:22:10.999726Z",
     "iopub.status.idle": "2022-07-11T13:22:11.015524Z",
     "shell.execute_reply": "2022-07-11T13:22:11.015069Z"
    },
    "papermill": {
     "duration": 0.026872,
     "end_time": "2022-07-11T13:22:11.016889",
     "exception": false,
     "start_time": "2022-07-11T13:22:10.990017",
     "status": "completed"
    },
    "tags": []
   },
   "outputs": [],
   "source": [
    "assert not genes_info.isna().any().any()"
   ]
  },
  {
   "cell_type": "markdown",
   "id": "f4d4f177",
   "metadata": {
    "papermill": {
     "duration": 0.01453,
     "end_time": "2022-07-11T13:22:11.041316",
     "exception": false,
     "start_time": "2022-07-11T13:22:11.026786",
     "status": "completed"
    },
    "tags": []
   },
   "source": [
    "# Create full correlation matrix"
   ]
  },
  {
   "cell_type": "code",
   "execution_count": 31,
   "id": "fad655cb-e830-496d-8ae1-bd9088623515",
   "metadata": {
    "execution": {
     "iopub.execute_input": "2022-07-11T13:22:11.078210Z",
     "iopub.status.busy": "2022-07-11T13:22:11.078049Z",
     "iopub.status.idle": "2022-07-11T13:22:11.096108Z",
     "shell.execute_reply": "2022-07-11T13:22:11.095557Z"
    },
    "papermill": {
     "duration": 0.03184,
     "end_time": "2022-07-11T13:22:11.097492",
     "exception": false,
     "start_time": "2022-07-11T13:22:11.065652",
     "status": "completed"
    },
    "tags": []
   },
   "outputs": [],
   "source": [
    "genes_info = genes_info.sort_values([\"chr\", \"start_position\"])"
   ]
  },
  {
   "cell_type": "code",
   "execution_count": 32,
   "id": "3d93727c-e045-434b-99ec-2bfc661003f4",
   "metadata": {
    "execution": {
     "iopub.execute_input": "2022-07-11T13:22:11.116623Z",
     "iopub.status.busy": "2022-07-11T13:22:11.116410Z",
     "iopub.status.idle": "2022-07-11T13:22:11.136556Z",
     "shell.execute_reply": "2022-07-11T13:22:11.135813Z"
    },
    "papermill": {
     "duration": 0.031148,
     "end_time": "2022-07-11T13:22:11.137793",
     "exception": false,
     "start_time": "2022-07-11T13:22:11.106645",
     "status": "completed"
    },
    "tags": []
   },
   "outputs": [
    {
     "data": {
      "text/html": [
       "<div>\n",
       "<style scoped>\n",
       "    .dataframe tbody tr th:only-of-type {\n",
       "        vertical-align: middle;\n",
       "    }\n",
       "\n",
       "    .dataframe tbody tr th {\n",
       "        vertical-align: top;\n",
       "    }\n",
       "\n",
       "    .dataframe thead th {\n",
       "        text-align: right;\n",
       "    }\n",
       "</style>\n",
       "<table border=\"1\" class=\"dataframe\">\n",
       "  <thead>\n",
       "    <tr style=\"text-align: right;\">\n",
       "      <th></th>\n",
       "      <th>name</th>\n",
       "      <th>id</th>\n",
       "      <th>chr</th>\n",
       "      <th>start_position</th>\n",
       "    </tr>\n",
       "  </thead>\n",
       "  <tbody>\n",
       "    <tr>\n",
       "      <th>3430</th>\n",
       "      <td>NOC2L</td>\n",
       "      <td>ENSG00000188976</td>\n",
       "      <td>1</td>\n",
       "      <td>944203</td>\n",
       "    </tr>\n",
       "    <tr>\n",
       "      <th>798</th>\n",
       "      <td>HES4</td>\n",
       "      <td>ENSG00000188290</td>\n",
       "      <td>1</td>\n",
       "      <td>998962</td>\n",
       "    </tr>\n",
       "    <tr>\n",
       "      <th>208</th>\n",
       "      <td>ISG15</td>\n",
       "      <td>ENSG00000187608</td>\n",
       "      <td>1</td>\n",
       "      <td>1001138</td>\n",
       "    </tr>\n",
       "    <tr>\n",
       "      <th>4937</th>\n",
       "      <td>AGRN</td>\n",
       "      <td>ENSG00000188157</td>\n",
       "      <td>1</td>\n",
       "      <td>1020120</td>\n",
       "    </tr>\n",
       "    <tr>\n",
       "      <th>2871</th>\n",
       "      <td>TNFRSF18</td>\n",
       "      <td>ENSG00000186891</td>\n",
       "      <td>1</td>\n",
       "      <td>1203508</td>\n",
       "    </tr>\n",
       "    <tr>\n",
       "      <th>...</th>\n",
       "      <td>...</td>\n",
       "      <td>...</td>\n",
       "      <td>...</td>\n",
       "      <td>...</td>\n",
       "    </tr>\n",
       "    <tr>\n",
       "      <th>4685</th>\n",
       "      <td>CPT1B</td>\n",
       "      <td>ENSG00000205560</td>\n",
       "      <td>22</td>\n",
       "      <td>50568861</td>\n",
       "    </tr>\n",
       "    <tr>\n",
       "      <th>4540</th>\n",
       "      <td>CHKB</td>\n",
       "      <td>ENSG00000100288</td>\n",
       "      <td>22</td>\n",
       "      <td>50578949</td>\n",
       "    </tr>\n",
       "    <tr>\n",
       "      <th>4182</th>\n",
       "      <td>MAPK8IP2</td>\n",
       "      <td>ENSG00000008735</td>\n",
       "      <td>22</td>\n",
       "      <td>50600793</td>\n",
       "    </tr>\n",
       "    <tr>\n",
       "      <th>3698</th>\n",
       "      <td>ARSA</td>\n",
       "      <td>ENSG00000100299</td>\n",
       "      <td>22</td>\n",
       "      <td>50622754</td>\n",
       "    </tr>\n",
       "    <tr>\n",
       "      <th>2410</th>\n",
       "      <td>SHANK3</td>\n",
       "      <td>ENSG00000251322</td>\n",
       "      <td>22</td>\n",
       "      <td>50674415</td>\n",
       "    </tr>\n",
       "  </tbody>\n",
       "</table>\n",
       "<p>6452 rows × 4 columns</p>\n",
       "</div>"
      ],
      "text/plain": [
       "          name               id  chr  start_position\n",
       "3430     NOC2L  ENSG00000188976    1          944203\n",
       "798       HES4  ENSG00000188290    1          998962\n",
       "208      ISG15  ENSG00000187608    1         1001138\n",
       "4937      AGRN  ENSG00000188157    1         1020120\n",
       "2871  TNFRSF18  ENSG00000186891    1         1203508\n",
       "...        ...              ...  ...             ...\n",
       "4685     CPT1B  ENSG00000205560   22        50568861\n",
       "4540      CHKB  ENSG00000100288   22        50578949\n",
       "4182  MAPK8IP2  ENSG00000008735   22        50600793\n",
       "3698      ARSA  ENSG00000100299   22        50622754\n",
       "2410    SHANK3  ENSG00000251322   22        50674415\n",
       "\n",
       "[6452 rows x 4 columns]"
      ]
     },
     "execution_count": 32,
     "metadata": {},
     "output_type": "execute_result"
    }
   ],
   "source": [
    "genes_info"
   ]
  },
  {
   "cell_type": "code",
   "execution_count": 33,
   "id": "1277c7cb-6850-476f-932e-0d166362392c",
   "metadata": {
    "execution": {
     "iopub.execute_input": "2022-07-11T13:22:11.157486Z",
     "iopub.status.busy": "2022-07-11T13:22:11.157047Z",
     "iopub.status.idle": "2022-07-11T13:22:11.173612Z",
     "shell.execute_reply": "2022-07-11T13:22:11.173116Z"
    },
    "papermill": {
     "duration": 0.027857,
     "end_time": "2022-07-11T13:22:11.174973",
     "exception": false,
     "start_time": "2022-07-11T13:22:11.147116",
     "status": "completed"
    },
    "tags": []
   },
   "outputs": [],
   "source": [
    "full_corr_matrix = pd.DataFrame(\n",
    "    np.zeros((genes_info.shape[0], genes_info.shape[0])),\n",
    "    index=genes_info[\"id\"].tolist(),\n",
    "    columns=genes_info[\"id\"].tolist(),\n",
    ")"
   ]
  },
  {
   "cell_type": "code",
   "execution_count": 34,
   "id": "5aa375f4-775a-4dab-80c9-a68a52c69adc",
   "metadata": {
    "execution": {
     "iopub.execute_input": "2022-07-11T13:22:11.195222Z",
     "iopub.status.busy": "2022-07-11T13:22:11.195061Z",
     "iopub.status.idle": "2022-07-11T13:22:11.211259Z",
     "shell.execute_reply": "2022-07-11T13:22:11.210661Z"
    },
    "papermill": {
     "duration": 0.02769,
     "end_time": "2022-07-11T13:22:11.212590",
     "exception": false,
     "start_time": "2022-07-11T13:22:11.184900",
     "status": "completed"
    },
    "tags": []
   },
   "outputs": [],
   "source": [
    "assert full_corr_matrix.index.is_unique & full_corr_matrix.columns.is_unique"
   ]
  },
  {
   "cell_type": "code",
   "execution_count": 35,
   "id": "0afc4716-f607-4634-8a02-5f116fd2c318",
   "metadata": {
    "execution": {
     "iopub.execute_input": "2022-07-11T13:22:11.233770Z",
     "iopub.status.busy": "2022-07-11T13:22:11.233568Z",
     "iopub.status.idle": "2022-07-11T13:22:11.353776Z",
     "shell.execute_reply": "2022-07-11T13:22:11.353207Z"
    },
    "papermill": {
     "duration": 0.132856,
     "end_time": "2022-07-11T13:22:11.355194",
     "exception": false,
     "start_time": "2022-07-11T13:22:11.222338",
     "status": "completed"
    },
    "tags": []
   },
   "outputs": [
    {
     "name": "stdout",
     "output_type": "stream",
     "text": [
      "gene_corrs-chr1.pkl\n",
      "gene_corrs-chr2.pkl\n",
      "gene_corrs-chr3.pkl\n",
      "gene_corrs-chr4.pkl\n",
      "gene_corrs-chr5.pkl\n",
      "gene_corrs-chr6.pkl\n",
      "gene_corrs-chr7.pkl\n",
      "gene_corrs-chr8.pkl\n",
      "gene_corrs-chr9.pkl\n",
      "gene_corrs-chr10.pkl\n",
      "gene_corrs-chr11.pkl\n",
      "gene_corrs-chr12.pkl\n",
      "gene_corrs-chr13.pkl\n",
      "gene_corrs-chr14.pkl\n",
      "gene_corrs-chr15.pkl\n",
      "gene_corrs-chr16.pkl\n",
      "gene_corrs-chr17.pkl\n",
      "gene_corrs-chr18.pkl\n",
      "gene_corrs-chr19.pkl\n",
      "gene_corrs-chr20.pkl\n",
      "gene_corrs-chr21.pkl\n",
      "gene_corrs-chr22.pkl\n"
     ]
    }
   ],
   "source": [
    "for chr_corr_file in all_gene_corr_files:\n",
    "    print(chr_corr_file.name, flush=True)\n",
    "\n",
    "    corr_data = pd.read_pickle(chr_corr_file)\n",
    "    full_corr_matrix.loc[corr_data.index, corr_data.columns] = corr_data"
   ]
  },
  {
   "cell_type": "code",
   "execution_count": 36,
   "id": "a6be3bf7-d1c1-4f90-b074-a6e74d9285a5",
   "metadata": {
    "execution": {
     "iopub.execute_input": "2022-07-11T13:22:11.377889Z",
     "iopub.status.busy": "2022-07-11T13:22:11.377440Z",
     "iopub.status.idle": "2022-07-11T13:22:11.393060Z",
     "shell.execute_reply": "2022-07-11T13:22:11.392431Z"
    },
    "papermill": {
     "duration": 0.027952,
     "end_time": "2022-07-11T13:22:11.394321",
     "exception": false,
     "start_time": "2022-07-11T13:22:11.366369",
     "status": "completed"
    },
    "tags": []
   },
   "outputs": [
    {
     "data": {
      "text/plain": [
       "(6452, 6452)"
      ]
     },
     "execution_count": 36,
     "metadata": {},
     "output_type": "execute_result"
    }
   ],
   "source": [
    "full_corr_matrix.shape"
   ]
  },
  {
   "cell_type": "code",
   "execution_count": 37,
   "id": "aac21a65-87b3-4b87-b17a-cbe3692c88a9",
   "metadata": {
    "execution": {
     "iopub.execute_input": "2022-07-11T13:22:11.416701Z",
     "iopub.status.busy": "2022-07-11T13:22:11.416146Z",
     "iopub.status.idle": "2022-07-11T13:22:11.454274Z",
     "shell.execute_reply": "2022-07-11T13:22:11.453649Z"
    },
    "papermill": {
     "duration": 0.050318,
     "end_time": "2022-07-11T13:22:11.455505",
     "exception": false,
     "start_time": "2022-07-11T13:22:11.405187",
     "status": "completed"
    },
    "tags": []
   },
   "outputs": [
    {
     "data": {
      "text/html": [
       "<div>\n",
       "<style scoped>\n",
       "    .dataframe tbody tr th:only-of-type {\n",
       "        vertical-align: middle;\n",
       "    }\n",
       "\n",
       "    .dataframe tbody tr th {\n",
       "        vertical-align: top;\n",
       "    }\n",
       "\n",
       "    .dataframe thead th {\n",
       "        text-align: right;\n",
       "    }\n",
       "</style>\n",
       "<table border=\"1\" class=\"dataframe\">\n",
       "  <thead>\n",
       "    <tr style=\"text-align: right;\">\n",
       "      <th></th>\n",
       "      <th>ENSG00000188976</th>\n",
       "      <th>ENSG00000188290</th>\n",
       "      <th>ENSG00000187608</th>\n",
       "      <th>ENSG00000188157</th>\n",
       "      <th>ENSG00000186891</th>\n",
       "      <th>ENSG00000186827</th>\n",
       "      <th>ENSG00000176022</th>\n",
       "      <th>ENSG00000160087</th>\n",
       "      <th>ENSG00000131584</th>\n",
       "      <th>ENSG00000169962</th>\n",
       "      <th>...</th>\n",
       "      <th>ENSG00000196576</th>\n",
       "      <th>ENSG00000128165</th>\n",
       "      <th>ENSG00000100253</th>\n",
       "      <th>ENSG00000130489</th>\n",
       "      <th>ENSG00000025708</th>\n",
       "      <th>ENSG00000205560</th>\n",
       "      <th>ENSG00000100288</th>\n",
       "      <th>ENSG00000008735</th>\n",
       "      <th>ENSG00000100299</th>\n",
       "      <th>ENSG00000251322</th>\n",
       "    </tr>\n",
       "  </thead>\n",
       "  <tbody>\n",
       "    <tr>\n",
       "      <th>ENSG00000188976</th>\n",
       "      <td>1.000000</td>\n",
       "      <td>0.115011</td>\n",
       "      <td>0.173138</td>\n",
       "      <td>0.052445</td>\n",
       "      <td>0.008032</td>\n",
       "      <td>0.008727</td>\n",
       "      <td>0.006797</td>\n",
       "      <td>0.004533</td>\n",
       "      <td>0.007350</td>\n",
       "      <td>0.010391</td>\n",
       "      <td>...</td>\n",
       "      <td>0.000000</td>\n",
       "      <td>0.000000</td>\n",
       "      <td>0.000000</td>\n",
       "      <td>0.000000</td>\n",
       "      <td>0.000000</td>\n",
       "      <td>0.000000</td>\n",
       "      <td>0.000000</td>\n",
       "      <td>0.000000</td>\n",
       "      <td>0.000000</td>\n",
       "      <td>0.000000</td>\n",
       "    </tr>\n",
       "    <tr>\n",
       "      <th>ENSG00000188290</th>\n",
       "      <td>0.115011</td>\n",
       "      <td>1.000000</td>\n",
       "      <td>0.681368</td>\n",
       "      <td>0.347023</td>\n",
       "      <td>0.011545</td>\n",
       "      <td>0.010729</td>\n",
       "      <td>0.003577</td>\n",
       "      <td>0.010230</td>\n",
       "      <td>0.010747</td>\n",
       "      <td>0.008769</td>\n",
       "      <td>...</td>\n",
       "      <td>0.000000</td>\n",
       "      <td>0.000000</td>\n",
       "      <td>0.000000</td>\n",
       "      <td>0.000000</td>\n",
       "      <td>0.000000</td>\n",
       "      <td>0.000000</td>\n",
       "      <td>0.000000</td>\n",
       "      <td>0.000000</td>\n",
       "      <td>0.000000</td>\n",
       "      <td>0.000000</td>\n",
       "    </tr>\n",
       "    <tr>\n",
       "      <th>ENSG00000187608</th>\n",
       "      <td>0.173138</td>\n",
       "      <td>0.681368</td>\n",
       "      <td>1.000000</td>\n",
       "      <td>0.351822</td>\n",
       "      <td>0.011774</td>\n",
       "      <td>0.012527</td>\n",
       "      <td>0.003754</td>\n",
       "      <td>0.012096</td>\n",
       "      <td>0.012679</td>\n",
       "      <td>0.010442</td>\n",
       "      <td>...</td>\n",
       "      <td>0.000000</td>\n",
       "      <td>0.000000</td>\n",
       "      <td>0.000000</td>\n",
       "      <td>0.000000</td>\n",
       "      <td>0.000000</td>\n",
       "      <td>0.000000</td>\n",
       "      <td>0.000000</td>\n",
       "      <td>0.000000</td>\n",
       "      <td>0.000000</td>\n",
       "      <td>0.000000</td>\n",
       "    </tr>\n",
       "    <tr>\n",
       "      <th>ENSG00000188157</th>\n",
       "      <td>0.052445</td>\n",
       "      <td>0.347023</td>\n",
       "      <td>0.351822</td>\n",
       "      <td>1.000000</td>\n",
       "      <td>0.014103</td>\n",
       "      <td>0.013988</td>\n",
       "      <td>0.006056</td>\n",
       "      <td>0.006296</td>\n",
       "      <td>0.005363</td>\n",
       "      <td>0.008300</td>\n",
       "      <td>...</td>\n",
       "      <td>0.000000</td>\n",
       "      <td>0.000000</td>\n",
       "      <td>0.000000</td>\n",
       "      <td>0.000000</td>\n",
       "      <td>0.000000</td>\n",
       "      <td>0.000000</td>\n",
       "      <td>0.000000</td>\n",
       "      <td>0.000000</td>\n",
       "      <td>0.000000</td>\n",
       "      <td>0.000000</td>\n",
       "    </tr>\n",
       "    <tr>\n",
       "      <th>ENSG00000186891</th>\n",
       "      <td>0.008032</td>\n",
       "      <td>0.011545</td>\n",
       "      <td>0.011774</td>\n",
       "      <td>0.014103</td>\n",
       "      <td>1.000000</td>\n",
       "      <td>0.356676</td>\n",
       "      <td>0.454010</td>\n",
       "      <td>0.137643</td>\n",
       "      <td>0.200340</td>\n",
       "      <td>0.093210</td>\n",
       "      <td>...</td>\n",
       "      <td>0.000000</td>\n",
       "      <td>0.000000</td>\n",
       "      <td>0.000000</td>\n",
       "      <td>0.000000</td>\n",
       "      <td>0.000000</td>\n",
       "      <td>0.000000</td>\n",
       "      <td>0.000000</td>\n",
       "      <td>0.000000</td>\n",
       "      <td>0.000000</td>\n",
       "      <td>0.000000</td>\n",
       "    </tr>\n",
       "    <tr>\n",
       "      <th>...</th>\n",
       "      <td>...</td>\n",
       "      <td>...</td>\n",
       "      <td>...</td>\n",
       "      <td>...</td>\n",
       "      <td>...</td>\n",
       "      <td>...</td>\n",
       "      <td>...</td>\n",
       "      <td>...</td>\n",
       "      <td>...</td>\n",
       "      <td>...</td>\n",
       "      <td>...</td>\n",
       "      <td>...</td>\n",
       "      <td>...</td>\n",
       "      <td>...</td>\n",
       "      <td>...</td>\n",
       "      <td>...</td>\n",
       "      <td>...</td>\n",
       "      <td>...</td>\n",
       "      <td>...</td>\n",
       "      <td>...</td>\n",
       "      <td>...</td>\n",
       "    </tr>\n",
       "    <tr>\n",
       "      <th>ENSG00000205560</th>\n",
       "      <td>0.000000</td>\n",
       "      <td>0.000000</td>\n",
       "      <td>0.000000</td>\n",
       "      <td>0.000000</td>\n",
       "      <td>0.000000</td>\n",
       "      <td>0.000000</td>\n",
       "      <td>0.000000</td>\n",
       "      <td>0.000000</td>\n",
       "      <td>0.000000</td>\n",
       "      <td>0.000000</td>\n",
       "      <td>...</td>\n",
       "      <td>0.016442</td>\n",
       "      <td>0.065197</td>\n",
       "      <td>0.008608</td>\n",
       "      <td>0.293494</td>\n",
       "      <td>0.233186</td>\n",
       "      <td>1.000000</td>\n",
       "      <td>0.732548</td>\n",
       "      <td>0.197890</td>\n",
       "      <td>0.036870</td>\n",
       "      <td>0.008387</td>\n",
       "    </tr>\n",
       "    <tr>\n",
       "      <th>ENSG00000100288</th>\n",
       "      <td>0.000000</td>\n",
       "      <td>0.000000</td>\n",
       "      <td>0.000000</td>\n",
       "      <td>0.000000</td>\n",
       "      <td>0.000000</td>\n",
       "      <td>0.000000</td>\n",
       "      <td>0.000000</td>\n",
       "      <td>0.000000</td>\n",
       "      <td>0.000000</td>\n",
       "      <td>0.000000</td>\n",
       "      <td>...</td>\n",
       "      <td>0.021953</td>\n",
       "      <td>0.061143</td>\n",
       "      <td>0.011177</td>\n",
       "      <td>0.240853</td>\n",
       "      <td>0.211780</td>\n",
       "      <td>0.732548</td>\n",
       "      <td>1.000000</td>\n",
       "      <td>0.280542</td>\n",
       "      <td>0.027328</td>\n",
       "      <td>0.020439</td>\n",
       "    </tr>\n",
       "    <tr>\n",
       "      <th>ENSG00000008735</th>\n",
       "      <td>0.000000</td>\n",
       "      <td>0.000000</td>\n",
       "      <td>0.000000</td>\n",
       "      <td>0.000000</td>\n",
       "      <td>0.000000</td>\n",
       "      <td>0.000000</td>\n",
       "      <td>0.000000</td>\n",
       "      <td>0.000000</td>\n",
       "      <td>0.000000</td>\n",
       "      <td>0.000000</td>\n",
       "      <td>...</td>\n",
       "      <td>0.040223</td>\n",
       "      <td>0.097400</td>\n",
       "      <td>0.067715</td>\n",
       "      <td>0.070062</td>\n",
       "      <td>0.132703</td>\n",
       "      <td>0.197890</td>\n",
       "      <td>0.280542</td>\n",
       "      <td>1.000000</td>\n",
       "      <td>0.225836</td>\n",
       "      <td>0.035740</td>\n",
       "    </tr>\n",
       "    <tr>\n",
       "      <th>ENSG00000100299</th>\n",
       "      <td>0.000000</td>\n",
       "      <td>0.000000</td>\n",
       "      <td>0.000000</td>\n",
       "      <td>0.000000</td>\n",
       "      <td>0.000000</td>\n",
       "      <td>0.000000</td>\n",
       "      <td>0.000000</td>\n",
       "      <td>0.000000</td>\n",
       "      <td>0.000000</td>\n",
       "      <td>0.000000</td>\n",
       "      <td>...</td>\n",
       "      <td>0.013947</td>\n",
       "      <td>0.028724</td>\n",
       "      <td>0.013985</td>\n",
       "      <td>0.036919</td>\n",
       "      <td>0.041211</td>\n",
       "      <td>0.036870</td>\n",
       "      <td>0.027328</td>\n",
       "      <td>0.225836</td>\n",
       "      <td>1.000000</td>\n",
       "      <td>0.032147</td>\n",
       "    </tr>\n",
       "    <tr>\n",
       "      <th>ENSG00000251322</th>\n",
       "      <td>0.000000</td>\n",
       "      <td>0.000000</td>\n",
       "      <td>0.000000</td>\n",
       "      <td>0.000000</td>\n",
       "      <td>0.000000</td>\n",
       "      <td>0.000000</td>\n",
       "      <td>0.000000</td>\n",
       "      <td>0.000000</td>\n",
       "      <td>0.000000</td>\n",
       "      <td>0.000000</td>\n",
       "      <td>...</td>\n",
       "      <td>0.013249</td>\n",
       "      <td>0.017828</td>\n",
       "      <td>0.013507</td>\n",
       "      <td>0.000661</td>\n",
       "      <td>0.005279</td>\n",
       "      <td>0.008387</td>\n",
       "      <td>0.020439</td>\n",
       "      <td>0.035740</td>\n",
       "      <td>0.032147</td>\n",
       "      <td>1.000000</td>\n",
       "    </tr>\n",
       "  </tbody>\n",
       "</table>\n",
       "<p>6452 rows × 6452 columns</p>\n",
       "</div>"
      ],
      "text/plain": [
       "                 ENSG00000188976  ENSG00000188290  ENSG00000187608  \\\n",
       "ENSG00000188976         1.000000         0.115011         0.173138   \n",
       "ENSG00000188290         0.115011         1.000000         0.681368   \n",
       "ENSG00000187608         0.173138         0.681368         1.000000   \n",
       "ENSG00000188157         0.052445         0.347023         0.351822   \n",
       "ENSG00000186891         0.008032         0.011545         0.011774   \n",
       "...                          ...              ...              ...   \n",
       "ENSG00000205560         0.000000         0.000000         0.000000   \n",
       "ENSG00000100288         0.000000         0.000000         0.000000   \n",
       "ENSG00000008735         0.000000         0.000000         0.000000   \n",
       "ENSG00000100299         0.000000         0.000000         0.000000   \n",
       "ENSG00000251322         0.000000         0.000000         0.000000   \n",
       "\n",
       "                 ENSG00000188157  ENSG00000186891  ENSG00000186827  \\\n",
       "ENSG00000188976         0.052445         0.008032         0.008727   \n",
       "ENSG00000188290         0.347023         0.011545         0.010729   \n",
       "ENSG00000187608         0.351822         0.011774         0.012527   \n",
       "ENSG00000188157         1.000000         0.014103         0.013988   \n",
       "ENSG00000186891         0.014103         1.000000         0.356676   \n",
       "...                          ...              ...              ...   \n",
       "ENSG00000205560         0.000000         0.000000         0.000000   \n",
       "ENSG00000100288         0.000000         0.000000         0.000000   \n",
       "ENSG00000008735         0.000000         0.000000         0.000000   \n",
       "ENSG00000100299         0.000000         0.000000         0.000000   \n",
       "ENSG00000251322         0.000000         0.000000         0.000000   \n",
       "\n",
       "                 ENSG00000176022  ENSG00000160087  ENSG00000131584  \\\n",
       "ENSG00000188976         0.006797         0.004533         0.007350   \n",
       "ENSG00000188290         0.003577         0.010230         0.010747   \n",
       "ENSG00000187608         0.003754         0.012096         0.012679   \n",
       "ENSG00000188157         0.006056         0.006296         0.005363   \n",
       "ENSG00000186891         0.454010         0.137643         0.200340   \n",
       "...                          ...              ...              ...   \n",
       "ENSG00000205560         0.000000         0.000000         0.000000   \n",
       "ENSG00000100288         0.000000         0.000000         0.000000   \n",
       "ENSG00000008735         0.000000         0.000000         0.000000   \n",
       "ENSG00000100299         0.000000         0.000000         0.000000   \n",
       "ENSG00000251322         0.000000         0.000000         0.000000   \n",
       "\n",
       "                 ENSG00000169962  ...  ENSG00000196576  ENSG00000128165  \\\n",
       "ENSG00000188976         0.010391  ...         0.000000         0.000000   \n",
       "ENSG00000188290         0.008769  ...         0.000000         0.000000   \n",
       "ENSG00000187608         0.010442  ...         0.000000         0.000000   \n",
       "ENSG00000188157         0.008300  ...         0.000000         0.000000   \n",
       "ENSG00000186891         0.093210  ...         0.000000         0.000000   \n",
       "...                          ...  ...              ...              ...   \n",
       "ENSG00000205560         0.000000  ...         0.016442         0.065197   \n",
       "ENSG00000100288         0.000000  ...         0.021953         0.061143   \n",
       "ENSG00000008735         0.000000  ...         0.040223         0.097400   \n",
       "ENSG00000100299         0.000000  ...         0.013947         0.028724   \n",
       "ENSG00000251322         0.000000  ...         0.013249         0.017828   \n",
       "\n",
       "                 ENSG00000100253  ENSG00000130489  ENSG00000025708  \\\n",
       "ENSG00000188976         0.000000         0.000000         0.000000   \n",
       "ENSG00000188290         0.000000         0.000000         0.000000   \n",
       "ENSG00000187608         0.000000         0.000000         0.000000   \n",
       "ENSG00000188157         0.000000         0.000000         0.000000   \n",
       "ENSG00000186891         0.000000         0.000000         0.000000   \n",
       "...                          ...              ...              ...   \n",
       "ENSG00000205560         0.008608         0.293494         0.233186   \n",
       "ENSG00000100288         0.011177         0.240853         0.211780   \n",
       "ENSG00000008735         0.067715         0.070062         0.132703   \n",
       "ENSG00000100299         0.013985         0.036919         0.041211   \n",
       "ENSG00000251322         0.013507         0.000661         0.005279   \n",
       "\n",
       "                 ENSG00000205560  ENSG00000100288  ENSG00000008735  \\\n",
       "ENSG00000188976         0.000000         0.000000         0.000000   \n",
       "ENSG00000188290         0.000000         0.000000         0.000000   \n",
       "ENSG00000187608         0.000000         0.000000         0.000000   \n",
       "ENSG00000188157         0.000000         0.000000         0.000000   \n",
       "ENSG00000186891         0.000000         0.000000         0.000000   \n",
       "...                          ...              ...              ...   \n",
       "ENSG00000205560         1.000000         0.732548         0.197890   \n",
       "ENSG00000100288         0.732548         1.000000         0.280542   \n",
       "ENSG00000008735         0.197890         0.280542         1.000000   \n",
       "ENSG00000100299         0.036870         0.027328         0.225836   \n",
       "ENSG00000251322         0.008387         0.020439         0.035740   \n",
       "\n",
       "                 ENSG00000100299  ENSG00000251322  \n",
       "ENSG00000188976         0.000000         0.000000  \n",
       "ENSG00000188290         0.000000         0.000000  \n",
       "ENSG00000187608         0.000000         0.000000  \n",
       "ENSG00000188157         0.000000         0.000000  \n",
       "ENSG00000186891         0.000000         0.000000  \n",
       "...                          ...              ...  \n",
       "ENSG00000205560         0.036870         0.008387  \n",
       "ENSG00000100288         0.027328         0.020439  \n",
       "ENSG00000008735         0.225836         0.035740  \n",
       "ENSG00000100299         1.000000         0.032147  \n",
       "ENSG00000251322         0.032147         1.000000  \n",
       "\n",
       "[6452 rows x 6452 columns]"
      ]
     },
     "execution_count": 37,
     "metadata": {},
     "output_type": "execute_result"
    }
   ],
   "source": [
    "full_corr_matrix"
   ]
  },
  {
   "cell_type": "markdown",
   "id": "1169db4b-9af2-4d3c-a27a-198d7730fa67",
   "metadata": {
    "papermill": {
     "duration": 0.009917,
     "end_time": "2022-07-11T13:22:11.475908",
     "exception": false,
     "start_time": "2022-07-11T13:22:11.465991",
     "status": "completed"
    },
    "tags": []
   },
   "source": [
    "## Some checks"
   ]
  },
  {
   "cell_type": "code",
   "execution_count": 38,
   "id": "cf103f79-1acb-4582-8f93-835151af23e8",
   "metadata": {
    "execution": {
     "iopub.execute_input": "2022-07-11T13:22:11.498158Z",
     "iopub.status.busy": "2022-07-11T13:22:11.497556Z",
     "iopub.status.idle": "2022-07-11T13:22:12.065872Z",
     "shell.execute_reply": "2022-07-11T13:22:12.065247Z"
    },
    "papermill": {
     "duration": 0.580908,
     "end_time": "2022-07-11T13:22:12.067294",
     "exception": false,
     "start_time": "2022-07-11T13:22:11.486386",
     "status": "completed"
    },
    "tags": []
   },
   "outputs": [],
   "source": [
    "full_corr_matrix[full_corr_matrix > 1.0] = 1.0\n",
    "np.fill_diagonal(full_corr_matrix.values, 1.0)"
   ]
  },
  {
   "cell_type": "code",
   "execution_count": 39,
   "id": "7dadf304-3cfe-45da-88fc-b20b7d8ee956",
   "metadata": {
    "execution": {
     "iopub.execute_input": "2022-07-11T13:22:12.089797Z",
     "iopub.status.busy": "2022-07-11T13:22:12.089638Z",
     "iopub.status.idle": "2022-07-11T13:22:12.104191Z",
     "shell.execute_reply": "2022-07-11T13:22:12.103601Z"
    },
    "papermill": {
     "duration": 0.02722,
     "end_time": "2022-07-11T13:22:12.105508",
     "exception": false,
     "start_time": "2022-07-11T13:22:12.078288",
     "status": "completed"
    },
    "tags": []
   },
   "outputs": [],
   "source": [
    "assert np.all(full_corr_matrix.to_numpy().diagonal() == 1.0)"
   ]
  },
  {
   "cell_type": "code",
   "execution_count": 40,
   "id": "776749ae-cf4d-46d8-9fae-49ea728f9002",
   "metadata": {
    "execution": {
     "iopub.execute_input": "2022-07-11T13:22:12.127632Z",
     "iopub.status.busy": "2022-07-11T13:22:12.127409Z",
     "iopub.status.idle": "2022-07-11T13:22:12.167682Z",
     "shell.execute_reply": "2022-07-11T13:22:12.167047Z"
    },
    "papermill": {
     "duration": 0.052875,
     "end_time": "2022-07-11T13:22:12.169067",
     "exception": false,
     "start_time": "2022-07-11T13:22:12.116192",
     "status": "completed"
    },
    "tags": []
   },
   "outputs": [],
   "source": [
    "# check that all genes have a value\n",
    "assert not full_corr_matrix.isna().any().any()"
   ]
  },
  {
   "cell_type": "code",
   "execution_count": 41,
   "id": "31b4e109-a020-4667-9326-c63e6d80a33e",
   "metadata": {
    "execution": {
     "iopub.execute_input": "2022-07-11T13:22:12.190883Z",
     "iopub.status.busy": "2022-07-11T13:22:12.190731Z",
     "iopub.status.idle": "2022-07-11T13:22:12.358229Z",
     "shell.execute_reply": "2022-07-11T13:22:12.357639Z"
    },
    "papermill": {
     "duration": 0.179753,
     "end_time": "2022-07-11T13:22:12.359456",
     "exception": false,
     "start_time": "2022-07-11T13:22:12.179703",
     "status": "completed"
    },
    "tags": []
   },
   "outputs": [
    {
     "data": {
      "text/plain": [
       "-8.849879713041434e-10"
      ]
     },
     "metadata": {},
     "output_type": "display_data"
    }
   ],
   "source": [
    "_min_val = full_corr_matrix.min().min()\n",
    "display(_min_val)\n",
    "# assert _min_val >= 0.0"
   ]
  },
  {
   "cell_type": "code",
   "execution_count": 42,
   "id": "df674d11-939a-4704-a718-f246527a1880",
   "metadata": {
    "execution": {
     "iopub.execute_input": "2022-07-11T13:22:12.381563Z",
     "iopub.status.busy": "2022-07-11T13:22:12.381061Z",
     "iopub.status.idle": "2022-07-11T13:22:12.543344Z",
     "shell.execute_reply": "2022-07-11T13:22:12.542637Z"
    },
    "papermill": {
     "duration": 0.174589,
     "end_time": "2022-07-11T13:22:12.544599",
     "exception": false,
     "start_time": "2022-07-11T13:22:12.370010",
     "status": "completed"
    },
    "tags": []
   },
   "outputs": [
    {
     "data": {
      "text/plain": [
       "1.0"
      ]
     },
     "metadata": {},
     "output_type": "display_data"
    }
   ],
   "source": [
    "_max_val = full_corr_matrix.max().max()  # this will capture the 1.0 in the diagonal\n",
    "display(_max_val)\n",
    "assert _max_val <= 1.0"
   ]
  },
  {
   "cell_type": "code",
   "execution_count": 43,
   "id": "2f1dfe5f-7d6f-44ed-bb12-fa43a31f221b",
   "metadata": {
    "execution": {
     "iopub.execute_input": "2022-07-11T13:22:12.566651Z",
     "iopub.status.busy": "2022-07-11T13:22:12.566496Z",
     "iopub.status.idle": "2022-07-11T13:23:08.246474Z",
     "shell.execute_reply": "2022-07-11T13:23:08.246066Z"
    },
    "papermill": {
     "duration": 55.697545,
     "end_time": "2022-07-11T13:23:08.252715",
     "exception": false,
     "start_time": "2022-07-11T13:22:12.555170",
     "status": "completed"
    },
    "tags": []
   },
   "outputs": [],
   "source": [
    "# check that matrix is positive definite\n",
    "eigs = np.linalg.eigvals(full_corr_matrix.to_numpy())\n",
    "assert np.all(eigs > 0)"
   ]
  },
  {
   "cell_type": "code",
   "execution_count": 44,
   "id": "a27a73da-fe28-425f-92eb-9d30673f34bb",
   "metadata": {
    "execution": {
     "iopub.execute_input": "2022-07-11T13:23:08.275516Z",
     "iopub.status.busy": "2022-07-11T13:23:08.275128Z",
     "iopub.status.idle": "2022-07-11T13:23:15.542108Z",
     "shell.execute_reply": "2022-07-11T13:23:15.541544Z"
    },
    "papermill": {
     "duration": 7.279831,
     "end_time": "2022-07-11T13:23:15.543499",
     "exception": false,
     "start_time": "2022-07-11T13:23:08.263668",
     "status": "completed"
    },
    "tags": []
   },
   "outputs": [
    {
     "data": {
      "text/plain": [
       "array([[ 1.01591837,  0.        ,  0.        , ...,  0.        ,\n",
       "         0.        ,  0.        ],\n",
       "       [ 0.00358878,  1.38347309,  0.        , ...,  0.        ,\n",
       "         0.        ,  0.        ],\n",
       "       [-0.18102096, -0.88305336,  1.06897428, ...,  0.        ,\n",
       "         0.        ,  0.        ],\n",
       "       ...,\n",
       "       [ 0.        ,  0.        ,  0.        , ...,  1.02695931,\n",
       "         0.        ,  0.        ],\n",
       "       [ 0.        ,  0.        ,  0.        , ..., -0.23098357,\n",
       "         1.00051713,  0.        ],\n",
       "       [ 0.        ,  0.        ,  0.        , ..., -0.02927795,\n",
       "        -0.03216402,  1.        ]])"
      ]
     },
     "execution_count": 44,
     "metadata": {},
     "output_type": "execute_result"
    }
   ],
   "source": [
    "# this should not fail\n",
    "np.linalg.cholesky(np.linalg.inv(full_corr_matrix))"
   ]
  },
  {
   "cell_type": "markdown",
   "id": "183120b0",
   "metadata": {
    "papermill": {
     "duration": 0.012899,
     "end_time": "2022-07-11T13:23:15.569947",
     "exception": false,
     "start_time": "2022-07-11T13:23:15.557048",
     "status": "completed"
    },
    "tags": []
   },
   "source": [
    "# Try to fit GLS and see if it works (with random data)"
   ]
  },
  {
   "cell_type": "code",
   "execution_count": 45,
   "id": "35409e2f-d9d5-4d82-bcd8-a7b6a93475a9",
   "metadata": {
    "execution": {
     "iopub.execute_input": "2022-07-11T13:23:15.593712Z",
     "iopub.status.busy": "2022-07-11T13:23:15.593520Z",
     "iopub.status.idle": "2022-07-11T13:23:15.813806Z",
     "shell.execute_reply": "2022-07-11T13:23:15.813315Z"
    },
    "papermill": {
     "duration": 0.233317,
     "end_time": "2022-07-11T13:23:15.815161",
     "exception": false,
     "start_time": "2022-07-11T13:23:15.581844",
     "status": "completed"
    },
    "tags": []
   },
   "outputs": [],
   "source": [
    "import statsmodels.api as sm"
   ]
  },
  {
   "cell_type": "code",
   "execution_count": 46,
   "id": "0df6aa93-2501-4e88-92fb-685682320944",
   "metadata": {
    "execution": {
     "iopub.execute_input": "2022-07-11T13:23:15.837927Z",
     "iopub.status.busy": "2022-07-11T13:23:15.837770Z",
     "iopub.status.idle": "2022-07-11T13:23:15.855557Z",
     "shell.execute_reply": "2022-07-11T13:23:15.854953Z"
    },
    "papermill": {
     "duration": 0.030534,
     "end_time": "2022-07-11T13:23:15.856854",
     "exception": false,
     "start_time": "2022-07-11T13:23:15.826320",
     "status": "completed"
    },
    "tags": []
   },
   "outputs": [],
   "source": [
    "np.random.seed(0)"
   ]
  },
  {
   "cell_type": "code",
   "execution_count": 47,
   "id": "06d9710b-5df3-4bd2-85ab-5092bf40d5aa",
   "metadata": {
    "execution": {
     "iopub.execute_input": "2022-07-11T13:23:15.880595Z",
     "iopub.status.busy": "2022-07-11T13:23:15.880407Z",
     "iopub.status.idle": "2022-07-11T13:23:15.897930Z",
     "shell.execute_reply": "2022-07-11T13:23:15.897401Z"
    },
    "papermill": {
     "duration": 0.030688,
     "end_time": "2022-07-11T13:23:15.899219",
     "exception": false,
     "start_time": "2022-07-11T13:23:15.868531",
     "status": "completed"
    },
    "tags": []
   },
   "outputs": [],
   "source": [
    "y = np.random.rand(full_corr_matrix.shape[0])"
   ]
  },
  {
   "cell_type": "code",
   "execution_count": 48,
   "id": "637301c4-e470-4855-8c76-1b256b40e76a",
   "metadata": {
    "execution": {
     "iopub.execute_input": "2022-07-11T13:23:15.922228Z",
     "iopub.status.busy": "2022-07-11T13:23:15.922027Z",
     "iopub.status.idle": "2022-07-11T13:23:15.939938Z",
     "shell.execute_reply": "2022-07-11T13:23:15.939357Z"
    },
    "papermill": {
     "duration": 0.030826,
     "end_time": "2022-07-11T13:23:15.941216",
     "exception": false,
     "start_time": "2022-07-11T13:23:15.910390",
     "status": "completed"
    },
    "tags": []
   },
   "outputs": [],
   "source": [
    "X = np.random.rand(full_corr_matrix.shape[0], 2)\n",
    "X[:, 0] = 1"
   ]
  },
  {
   "cell_type": "code",
   "execution_count": 49,
   "id": "41a7238c-4c9a-43d5-9491-3efe0a34f4df",
   "metadata": {
    "execution": {
     "iopub.execute_input": "2022-07-11T13:23:15.964097Z",
     "iopub.status.busy": "2022-07-11T13:23:15.963938Z",
     "iopub.status.idle": "2022-07-11T13:23:23.307199Z",
     "shell.execute_reply": "2022-07-11T13:23:23.306133Z"
    },
    "papermill": {
     "duration": 7.357602,
     "end_time": "2022-07-11T13:23:23.309939",
     "exception": false,
     "start_time": "2022-07-11T13:23:15.952337",
     "status": "completed"
    },
    "tags": []
   },
   "outputs": [],
   "source": [
    "# this should not throw an exception: LinAlgError(\"Matrix is not positive definite\")\n",
    "# _gls_model = sm.GLS(y, X, sigma=np.identity(y.shape[0]))\n",
    "_gls_model = sm.GLS(y, X, sigma=full_corr_matrix)"
   ]
  },
  {
   "cell_type": "code",
   "execution_count": 50,
   "id": "52774279-cc47-4115-ab75-ca2ff4a7c0b1",
   "metadata": {
    "execution": {
     "iopub.execute_input": "2022-07-11T13:23:23.339989Z",
     "iopub.status.busy": "2022-07-11T13:23:23.339800Z",
     "iopub.status.idle": "2022-07-11T13:23:23.360461Z",
     "shell.execute_reply": "2022-07-11T13:23:23.359843Z"
    },
    "papermill": {
     "duration": 0.036624,
     "end_time": "2022-07-11T13:23:23.361924",
     "exception": false,
     "start_time": "2022-07-11T13:23:23.325300",
     "status": "completed"
    },
    "tags": []
   },
   "outputs": [],
   "source": [
    "_gls_results = _gls_model.fit()"
   ]
  },
  {
   "cell_type": "code",
   "execution_count": 51,
   "id": "7a2f5335-e597-42f0-95c5-509c7fc424dc",
   "metadata": {
    "execution": {
     "iopub.execute_input": "2022-07-11T13:23:23.388019Z",
     "iopub.status.busy": "2022-07-11T13:23:23.387858Z",
     "iopub.status.idle": "2022-07-11T13:23:25.284496Z",
     "shell.execute_reply": "2022-07-11T13:23:25.284073Z"
    },
    "papermill": {
     "duration": 1.910653,
     "end_time": "2022-07-11T13:23:25.285939",
     "exception": false,
     "start_time": "2022-07-11T13:23:23.375286",
     "status": "completed"
    },
    "tags": []
   },
   "outputs": [
    {
     "name": "stdout",
     "output_type": "stream",
     "text": [
      "                            GLS Regression Results                            \n",
      "==============================================================================\n",
      "Dep. Variable:                      y   R-squared:                       0.198\n",
      "Model:                            GLS   Adj. R-squared:                  0.198\n",
      "Method:                 Least Squares   F-statistic:                     1594.\n",
      "Date:                Mon, 11 Jul 2022   Prob (F-statistic):          9.48e-312\n",
      "Time:                        13:23:25   Log-Likelihood:                -44767.\n",
      "No. Observations:                6452   AIC:                         8.954e+04\n",
      "Df Residuals:                    6450   BIC:                         8.955e+04\n",
      "Df Model:                           1                                         \n",
      "Covariance Type:            nonrobust                                         \n",
      "==============================================================================\n",
      "                 coef    std err          t      P>|t|      [0.025      0.975]\n",
      "------------------------------------------------------------------------------\n",
      "const        -35.9601      0.462    -77.766      0.000     -36.867     -35.054\n",
      "x1            -0.2420      0.006    -39.929      0.000      -0.254      -0.230\n",
      "==============================================================================\n",
      "Omnibus:                    23863.387   Durbin-Watson:                   1.973\n",
      "Prob(Omnibus):                  0.000   Jarque-Bera (JB):      10826694460.363\n",
      "Skew:                          79.355   Prob(JB):                         0.00\n",
      "Kurtosis:                    6347.107   Cond. No.                         95.4\n",
      "==============================================================================\n",
      "\n",
      "Notes:\n",
      "[1] Standard Errors assume that the covariance matrix of the errors is correctly specified.\n"
     ]
    }
   ],
   "source": [
    "print(_gls_results.summary())"
   ]
  },
  {
   "cell_type": "markdown",
   "id": "551bd31a-ad37-45b5-a0c8-6ff1459faf60",
   "metadata": {
    "papermill": {
     "duration": 0.011202,
     "end_time": "2022-07-11T13:23:25.308948",
     "exception": false,
     "start_time": "2022-07-11T13:23:25.297746",
     "status": "completed"
    },
    "tags": []
   },
   "source": [
    "## Stats"
   ]
  },
  {
   "cell_type": "code",
   "execution_count": 52,
   "id": "33b5482f-7ecf-4365-867f-249f28d09180",
   "metadata": {
    "execution": {
     "iopub.execute_input": "2022-07-11T13:23:25.333114Z",
     "iopub.status.busy": "2022-07-11T13:23:25.332633Z",
     "iopub.status.idle": "2022-07-11T13:23:26.036008Z",
     "shell.execute_reply": "2022-07-11T13:23:26.035271Z"
    },
    "papermill": {
     "duration": 0.717024,
     "end_time": "2022-07-11T13:23:26.037506",
     "exception": false,
     "start_time": "2022-07-11T13:23:25.320482",
     "status": "completed"
    },
    "tags": []
   },
   "outputs": [],
   "source": [
    "full_corr_matrix_flat = full_corr_matrix.mask(\n",
    "    np.triu(np.ones(full_corr_matrix.shape)).astype(bool)\n",
    ").stack()"
   ]
  },
  {
   "cell_type": "code",
   "execution_count": 53,
   "id": "e2d950d1-646a-4ba1-bb91-cf07ad00872d",
   "metadata": {
    "execution": {
     "iopub.execute_input": "2022-07-11T13:23:26.061605Z",
     "iopub.status.busy": "2022-07-11T13:23:26.061446Z",
     "iopub.status.idle": "2022-07-11T13:23:26.080132Z",
     "shell.execute_reply": "2022-07-11T13:23:26.079644Z"
    },
    "papermill": {
     "duration": 0.031825,
     "end_time": "2022-07-11T13:23:26.081358",
     "exception": false,
     "start_time": "2022-07-11T13:23:26.049533",
     "status": "completed"
    },
    "tags": []
   },
   "outputs": [
    {
     "data": {
      "text/plain": [
       "(20810926,)"
      ]
     },
     "metadata": {},
     "output_type": "display_data"
    }
   ],
   "source": [
    "display(full_corr_matrix_flat.shape)\n",
    "assert full_corr_matrix_flat.shape[0] == int(\n",
    "    full_corr_matrix.shape[0] * (full_corr_matrix.shape[0] - 1) / 2\n",
    ")"
   ]
  },
  {
   "cell_type": "code",
   "execution_count": 54,
   "id": "cf002268-94ab-4208-a0f2-d1c77441fe26",
   "metadata": {
    "execution": {
     "iopub.execute_input": "2022-07-11T13:23:26.105063Z",
     "iopub.status.busy": "2022-07-11T13:23:26.104908Z",
     "iopub.status.idle": "2022-07-11T13:23:26.138169Z",
     "shell.execute_reply": "2022-07-11T13:23:26.137677Z"
    },
    "papermill": {
     "duration": 0.046546,
     "end_time": "2022-07-11T13:23:26.139464",
     "exception": false,
     "start_time": "2022-07-11T13:23:26.092918",
     "status": "completed"
    },
    "tags": []
   },
   "outputs": [
    {
     "data": {
      "text/plain": [
       "Series([], dtype: float64)"
      ]
     },
     "execution_count": 54,
     "metadata": {},
     "output_type": "execute_result"
    }
   ],
   "source": [
    "full_corr_matrix_flat[full_corr_matrix_flat == 1.0]"
   ]
  },
  {
   "cell_type": "code",
   "execution_count": 55,
   "id": "7aab91d9-8c96-464a-96c6-5b2e657f6efa",
   "metadata": {
    "execution": {
     "iopub.execute_input": "2022-07-11T13:23:26.165290Z",
     "iopub.status.busy": "2022-07-11T13:23:26.165120Z",
     "iopub.status.idle": "2022-07-11T13:23:26.185880Z",
     "shell.execute_reply": "2022-07-11T13:23:26.185313Z"
    },
    "papermill": {
     "duration": 0.035126,
     "end_time": "2022-07-11T13:23:26.187163",
     "exception": false,
     "start_time": "2022-07-11T13:23:26.152037",
     "status": "completed"
    },
    "tags": []
   },
   "outputs": [
    {
     "data": {
      "text/plain": [
       "ENSG00000188290  ENSG00000188976    0.115011\n",
       "ENSG00000187608  ENSG00000188976    0.173138\n",
       "                 ENSG00000188290    0.681368\n",
       "ENSG00000188157  ENSG00000188976    0.052445\n",
       "                 ENSG00000188290    0.347023\n",
       "dtype: float64"
      ]
     },
     "execution_count": 55,
     "metadata": {},
     "output_type": "execute_result"
    }
   ],
   "source": [
    "full_corr_matrix_flat.head()"
   ]
  },
  {
   "cell_type": "code",
   "execution_count": 56,
   "id": "67e7f149",
   "metadata": {
    "execution": {
     "iopub.execute_input": "2022-07-11T13:23:26.211900Z",
     "iopub.status.busy": "2022-07-11T13:23:26.211658Z",
     "iopub.status.idle": "2022-07-11T13:23:26.828809Z",
     "shell.execute_reply": "2022-07-11T13:23:26.828263Z"
    },
    "papermill": {
     "duration": 0.630813,
     "end_time": "2022-07-11T13:23:26.830113",
     "exception": false,
     "start_time": "2022-07-11T13:23:26.199300",
     "status": "completed"
    },
    "tags": []
   },
   "outputs": [
    {
     "data": {
      "text/plain": [
       "count                20810926.0\n",
       "mean     0.00017540546467734218\n",
       "std        0.006784915438876568\n",
       "min      -8.849879687562741e-10\n",
       "25%                         0.0\n",
       "50%                         0.0\n",
       "75%                         0.0\n",
       "max          0.9999999998999999\n",
       "dtype: object"
      ]
     },
     "execution_count": 56,
     "metadata": {},
     "output_type": "execute_result"
    }
   ],
   "source": [
    "full_corr_matrix_flat.describe().apply(str)"
   ]
  },
  {
   "cell_type": "code",
   "execution_count": 57,
   "id": "b3815678-0f93-4b35-897b-a9d047a2aa78",
   "metadata": {
    "execution": {
     "iopub.execute_input": "2022-07-11T13:23:26.854361Z",
     "iopub.status.busy": "2022-07-11T13:23:26.854162Z",
     "iopub.status.idle": "2022-07-11T13:23:27.178895Z",
     "shell.execute_reply": "2022-07-11T13:23:27.178398Z"
    },
    "papermill": {
     "duration": 0.338128,
     "end_time": "2022-07-11T13:23:27.180116",
     "exception": false,
     "start_time": "2022-07-11T13:23:26.841988",
     "status": "completed"
    },
    "tags": []
   },
   "outputs": [
    {
     "data": {
      "text/plain": [
       "0.00   -8.849880e-10\n",
       "0.05    0.000000e+00\n",
       "0.10    0.000000e+00\n",
       "0.15    0.000000e+00\n",
       "0.20    0.000000e+00\n",
       "0.25    0.000000e+00\n",
       "0.30    0.000000e+00\n",
       "0.35    0.000000e+00\n",
       "0.40    0.000000e+00\n",
       "0.45    0.000000e+00\n",
       "0.50    0.000000e+00\n",
       "0.55    0.000000e+00\n",
       "0.60    0.000000e+00\n",
       "0.65    0.000000e+00\n",
       "0.70    0.000000e+00\n",
       "0.75    0.000000e+00\n",
       "0.80    0.000000e+00\n",
       "0.85    0.000000e+00\n",
       "0.90    0.000000e+00\n",
       "0.95    0.000000e+00\n",
       "dtype: float64"
      ]
     },
     "metadata": {},
     "output_type": "display_data"
    }
   ],
   "source": [
    "full_corr_matrix_flat_quantiles = full_corr_matrix_flat.quantile(np.arange(0, 1, 0.05))\n",
    "display(full_corr_matrix_flat_quantiles)"
   ]
  },
  {
   "cell_type": "markdown",
   "id": "5fd7d482-b7b8-4a84-91b0-749d15f0d2c0",
   "metadata": {
    "papermill": {
     "duration": 0.011433,
     "end_time": "2022-07-11T13:23:27.203554",
     "exception": false,
     "start_time": "2022-07-11T13:23:27.192121",
     "status": "completed"
    },
    "tags": []
   },
   "source": [
    "## Plot: distribution"
   ]
  },
  {
   "cell_type": "code",
   "execution_count": 58,
   "id": "8301126b-a7d4-4744-9c7d-f0f86eb6f54c",
   "metadata": {
    "execution": {
     "iopub.execute_input": "2022-07-11T13:23:27.227412Z",
     "iopub.status.busy": "2022-07-11T13:23:27.227205Z",
     "iopub.status.idle": "2022-07-11T13:24:29.131070Z",
     "shell.execute_reply": "2022-07-11T13:24:29.130506Z"
    },
    "papermill": {
     "duration": 61.930059,
     "end_time": "2022-07-11T13:24:29.145105",
     "exception": false,
     "start_time": "2022-07-11T13:23:27.215046",
     "status": "completed"
    },
    "tags": []
   },
   "outputs": [
    {
     "data": {
      "image/png": "[encoded data removed]",
      "text/plain": [
       "<Figure size 504x504 with 1 Axes>"
      ]
     },
     "metadata": {
      "needs_background": "light"
     },
     "output_type": "display_data"
    }
   ],
   "source": [
    "with sns.plotting_context(\"paper\", font_scale=1.5):\n",
    "    g = sns.displot(full_corr_matrix_flat, kde=True, height=7)\n",
    "    g.ax.set_title(\"Distribution of gene correlation values in all chromosomes\")"
   ]
  },
  {
   "cell_type": "markdown",
   "id": "3e0cef37-9d8e-49dd-8bfc-875da00a74de",
   "metadata": {
    "papermill": {
     "duration": 0.012811,
     "end_time": "2022-07-11T13:24:29.171596",
     "exception": false,
     "start_time": "2022-07-11T13:24:29.158785",
     "status": "completed"
    },
    "tags": []
   },
   "source": [
    "## Plot: heatmap"
   ]
  },
  {
   "cell_type": "code",
   "execution_count": 59,
   "id": "d03fe63a-c7b2-4fb9-a53c-db362ce843c9",
   "metadata": {
    "execution": {
     "iopub.execute_input": "2022-07-11T13:24:29.196741Z",
     "iopub.status.busy": "2022-07-11T13:24:29.196550Z",
     "iopub.status.idle": "2022-07-11T13:24:29.215299Z",
     "shell.execute_reply": "2022-07-11T13:24:29.214810Z"
    },
    "papermill": {
     "duration": 0.032992,
     "end_time": "2022-07-11T13:24:29.216539",
     "exception": false,
     "start_time": "2022-07-11T13:24:29.183547",
     "status": "completed"
    },
    "tags": []
   },
   "outputs": [
    {
     "data": {
      "text/plain": [
       "'-0.05 / 0.05'"
      ]
     },
     "metadata": {},
     "output_type": "display_data"
    }
   ],
   "source": [
    "vmin_val = min(-0.05, full_corr_matrix_flat_quantiles[0.10])\n",
    "vmax_val = max(0.05, full_corr_matrix_flat_quantiles[0.90])\n",
    "display(f\"{vmin_val} / {vmax_val}\")"
   ]
  },
  {
   "cell_type": "code",
   "execution_count": 60,
   "id": "dc41b70b-5bcc-4d9e-9f33-a22c4a94dab5",
   "metadata": {
    "execution": {
     "iopub.execute_input": "2022-07-11T13:24:29.242232Z",
     "iopub.status.busy": "2022-07-11T13:24:29.242063Z",
     "iopub.status.idle": "2022-07-11T13:24:54.433070Z",
     "shell.execute_reply": "2022-07-11T13:24:54.432557Z"
    },
    "papermill": {
     "duration": 25.205153,
     "end_time": "2022-07-11T13:24:54.434269",
     "exception": false,
     "start_time": "2022-07-11T13:24:29.229116",
     "status": "completed"
    },
    "tags": []
   },
   "outputs": [
    {
     "data": {
      "text/plain": [
       "Text(0.5, 1.0, 'Gene correlations in all chromosomes')"
      ]
     },
     "execution_count": 60,
     "metadata": {},
     "output_type": "execute_result"
    },
    {
     "data": {
      "image/png": "[encoded data removed]",
      "text/plain": [
       "<Figure size 720x720 with 2 Axes>"
      ]
     },
     "metadata": {
      "needs_background": "light"
     },
     "output_type": "display_data"
    }
   ],
   "source": [
    "f, ax = plt.subplots(figsize=(10, 10))\n",
    "sns.heatmap(\n",
    "    full_corr_matrix,\n",
    "    xticklabels=False,\n",
    "    yticklabels=False,\n",
    "    square=True,\n",
    "    vmin=vmin_val,\n",
    "    vmax=vmax_val,\n",
    "    cmap=\"YlGnBu\",\n",
    "    ax=ax,\n",
    ")\n",
    "ax.set_title(\"Gene correlations in all chromosomes\")"
   ]
  },
  {
   "cell_type": "markdown",
   "id": "e34db3c2",
   "metadata": {
    "papermill": {
     "duration": 0.011884,
     "end_time": "2022-07-11T13:24:54.458371",
     "exception": false,
     "start_time": "2022-07-11T13:24:54.446487",
     "status": "completed"
    },
    "tags": []
   },
   "source": [
    "# Save"
   ]
  },
  {
   "cell_type": "markdown",
   "id": "510183a9",
   "metadata": {
    "papermill": {
     "duration": 0.011611,
     "end_time": "2022-07-11T13:24:54.481775",
     "exception": false,
     "start_time": "2022-07-11T13:24:54.470164",
     "status": "completed"
    },
    "tags": []
   },
   "source": [
    "## With ensemble ids"
   ]
  },
  {
   "cell_type": "code",
   "execution_count": 61,
   "id": "751cdc8c-1cce-4dee-8524-89b4b9a27feb",
   "metadata": {
    "execution": {
     "iopub.execute_input": "2022-07-11T13:24:54.507920Z",
     "iopub.status.busy": "2022-07-11T13:24:54.507714Z",
     "iopub.status.idle": "2022-07-11T13:24:54.525801Z",
     "shell.execute_reply": "2022-07-11T13:24:54.525322Z"
    },
    "papermill": {
     "duration": 0.032352,
     "end_time": "2022-07-11T13:24:54.527058",
     "exception": false,
     "start_time": "2022-07-11T13:24:54.494706",
     "status": "completed"
    },
    "tags": []
   },
   "outputs": [],
   "source": [
    "# output_file_name_template = conf.PHENOMEXCAN[\"LD_BLOCKS\"][\n",
    "#     \"GENE_CORRS_FILE_NAME_TEMPLATES\"\n",
    "# ][\"GENE_CORR_AVG\"]\n",
    "\n",
    "# output_file = OUTPUT_DIR_BASE / output_file_name_template.format(\n",
    "#     prefix=\"\",\n",
    "#     suffix=f\"-ssm_corrs-gene_ensembl_ids\",\n",
    "# )\n",
    "# display(output_file)"
   ]
  },
  {
   "cell_type": "code",
   "execution_count": 62,
   "id": "d841e2a0",
   "metadata": {
    "execution": {
     "iopub.execute_input": "2022-07-11T13:24:54.552430Z",
     "iopub.status.busy": "2022-07-11T13:24:54.552229Z",
     "iopub.status.idle": "2022-07-11T13:24:54.569744Z",
     "shell.execute_reply": "2022-07-11T13:24:54.569211Z"
    },
    "papermill": {
     "duration": 0.031579,
     "end_time": "2022-07-11T13:24:54.571068",
     "exception": false,
     "start_time": "2022-07-11T13:24:54.539489",
     "status": "completed"
    },
    "tags": []
   },
   "outputs": [],
   "source": [
    "# full_corr_matrix.to_pickle(output_file)"
   ]
  },
  {
   "cell_type": "markdown",
   "id": "7f9816a6",
   "metadata": {
    "papermill": {
     "duration": 0.012152,
     "end_time": "2022-07-11T13:24:54.595631",
     "exception": false,
     "start_time": "2022-07-11T13:24:54.583479",
     "status": "completed"
    },
    "tags": []
   },
   "source": [
    "## With gene symbols"
   ]
  },
  {
   "cell_type": "code",
   "execution_count": 63,
   "id": "2f174f95-2be3-4b63-95fb-451413ad361d",
   "metadata": {
    "execution": {
     "iopub.execute_input": "2022-07-11T13:24:54.620354Z",
     "iopub.status.busy": "2022-07-11T13:24:54.620111Z",
     "iopub.status.idle": "2022-07-11T13:24:54.639344Z",
     "shell.execute_reply": "2022-07-11T13:24:54.638801Z"
    },
    "papermill": {
     "duration": 0.032885,
     "end_time": "2022-07-11T13:24:54.640545",
     "exception": false,
     "start_time": "2022-07-11T13:24:54.607660",
     "status": "completed"
    },
    "tags": []
   },
   "outputs": [
    {
     "data": {
      "text/plain": [
       "PosixPath('/opt/data/data/phenomexcan/ld_blocks/gene_corrs/1000g/mashr/multiplier_genes-gene_correlations-gene_symbols.pkl')"
      ]
     },
     "metadata": {},
     "output_type": "display_data"
    }
   ],
   "source": [
    "output_file_name_template = conf.PHENOMEXCAN[\"LD_BLOCKS\"][\n",
    "    \"GENE_CORRS_FILE_NAME_TEMPLATES\"\n",
    "][\"GENE_CORR_AVG\"]\n",
    "\n",
    "output_file = OUTPUT_DIR_BASE / output_file_name_template.format(\n",
    "    prefix=\"\",\n",
    "    suffix=f\"-gene_symbols\",\n",
    ")\n",
    "display(output_file)"
   ]
  },
  {
   "cell_type": "code",
   "execution_count": 64,
   "id": "1436a25d",
   "metadata": {
    "execution": {
     "iopub.execute_input": "2022-07-11T13:24:54.666025Z",
     "iopub.status.busy": "2022-07-11T13:24:54.665550Z",
     "iopub.status.idle": "2022-07-11T13:24:55.012088Z",
     "shell.execute_reply": "2022-07-11T13:24:55.011572Z"
    },
    "papermill": {
     "duration": 0.360492,
     "end_time": "2022-07-11T13:24:55.013511",
     "exception": false,
     "start_time": "2022-07-11T13:24:54.653019",
     "status": "completed"
    },
    "tags": []
   },
   "outputs": [],
   "source": [
    "full_corr_matrix_gene_symbols = full_corr_matrix.rename(\n",
    "    index=Gene.GENE_ID_TO_NAME_MAP, columns=Gene.GENE_ID_TO_NAME_MAP\n",
    ")"
   ]
  },
  {
   "cell_type": "code",
   "execution_count": 65,
   "id": "b2014f92",
   "metadata": {
    "execution": {
     "iopub.execute_input": "2022-07-11T13:24:55.039179Z",
     "iopub.status.busy": "2022-07-11T13:24:55.038990Z",
     "iopub.status.idle": "2022-07-11T13:24:55.057570Z",
     "shell.execute_reply": "2022-07-11T13:24:55.057022Z"
    },
    "papermill": {
     "duration": 0.03261,
     "end_time": "2022-07-11T13:24:55.058895",
     "exception": false,
     "start_time": "2022-07-11T13:24:55.026285",
     "status": "completed"
    },
    "tags": []
   },
   "outputs": [],
   "source": [
    "assert full_corr_matrix_gene_symbols.index.is_unique"
   ]
  },
  {
   "cell_type": "code",
   "execution_count": 66,
   "id": "1ced30b0",
   "metadata": {
    "execution": {
     "iopub.execute_input": "2022-07-11T13:24:55.084699Z",
     "iopub.status.busy": "2022-07-11T13:24:55.084510Z",
     "iopub.status.idle": "2022-07-11T13:24:55.103002Z",
     "shell.execute_reply": "2022-07-11T13:24:55.102508Z"
    },
    "papermill": {
     "duration": 0.032655,
     "end_time": "2022-07-11T13:24:55.104350",
     "exception": false,
     "start_time": "2022-07-11T13:24:55.071695",
     "status": "completed"
    },
    "tags": []
   },
   "outputs": [],
   "source": [
    "assert full_corr_matrix_gene_symbols.columns.is_unique"
   ]
  },
  {
   "cell_type": "code",
   "execution_count": 67,
   "id": "d9e18eab",
   "metadata": {
    "execution": {
     "iopub.execute_input": "2022-07-11T13:24:55.131116Z",
     "iopub.status.busy": "2022-07-11T13:24:55.130951Z",
     "iopub.status.idle": "2022-07-11T13:24:55.149650Z",
     "shell.execute_reply": "2022-07-11T13:24:55.149169Z"
    },
    "papermill": {
     "duration": 0.033448,
     "end_time": "2022-07-11T13:24:55.150874",
     "exception": false,
     "start_time": "2022-07-11T13:24:55.117426",
     "status": "completed"
    },
    "tags": []
   },
   "outputs": [
    {
     "data": {
      "text/plain": [
       "(6452, 6452)"
      ]
     },
     "execution_count": 67,
     "metadata": {},
     "output_type": "execute_result"
    }
   ],
   "source": [
    "full_corr_matrix_gene_symbols.shape"
   ]
  },
  {
   "cell_type": "code",
   "execution_count": 68,
   "id": "44e83e62",
   "metadata": {
    "execution": {
     "iopub.execute_input": "2022-07-11T13:24:55.177499Z",
     "iopub.status.busy": "2022-07-11T13:24:55.177264Z",
     "iopub.status.idle": "2022-07-11T13:24:55.208152Z",
     "shell.execute_reply": "2022-07-11T13:24:55.207483Z"
    },
    "papermill": {
     "duration": 0.045551,
     "end_time": "2022-07-11T13:24:55.209471",
     "exception": false,
     "start_time": "2022-07-11T13:24:55.163920",
     "status": "completed"
    },
    "tags": []
   },
   "outputs": [
    {
     "data": {
      "text/html": [
       "<div>\n",
       "<style scoped>\n",
       "    .dataframe tbody tr th:only-of-type {\n",
       "        vertical-align: middle;\n",
       "    }\n",
       "\n",
       "    .dataframe tbody tr th {\n",
       "        vertical-align: top;\n",
       "    }\n",
       "\n",
       "    .dataframe thead th {\n",
       "        text-align: right;\n",
       "    }\n",
       "</style>\n",
       "<table border=\"1\" class=\"dataframe\">\n",
       "  <thead>\n",
       "    <tr style=\"text-align: right;\">\n",
       "      <th></th>\n",
       "      <th>NOC2L</th>\n",
       "      <th>HES4</th>\n",
       "      <th>ISG15</th>\n",
       "      <th>AGRN</th>\n",
       "      <th>TNFRSF18</th>\n",
       "      <th>TNFRSF4</th>\n",
       "      <th>B3GALT6</th>\n",
       "      <th>UBE2J2</th>\n",
       "      <th>ACAP3</th>\n",
       "      <th>TAS1R3</th>\n",
       "      <th>...</th>\n",
       "      <th>PLXNB2</th>\n",
       "      <th>ADM2</th>\n",
       "      <th>MIOX</th>\n",
       "      <th>SCO2</th>\n",
       "      <th>TYMP</th>\n",
       "      <th>CPT1B</th>\n",
       "      <th>CHKB</th>\n",
       "      <th>MAPK8IP2</th>\n",
       "      <th>ARSA</th>\n",
       "      <th>SHANK3</th>\n",
       "    </tr>\n",
       "  </thead>\n",
       "  <tbody>\n",
       "    <tr>\n",
       "      <th>NOC2L</th>\n",
       "      <td>1.000000</td>\n",
       "      <td>0.115011</td>\n",
       "      <td>0.173138</td>\n",
       "      <td>0.052445</td>\n",
       "      <td>0.008032</td>\n",
       "      <td>0.008727</td>\n",
       "      <td>0.006797</td>\n",
       "      <td>0.004533</td>\n",
       "      <td>0.007350</td>\n",
       "      <td>0.010391</td>\n",
       "      <td>...</td>\n",
       "      <td>0.0</td>\n",
       "      <td>0.0</td>\n",
       "      <td>0.0</td>\n",
       "      <td>0.0</td>\n",
       "      <td>0.0</td>\n",
       "      <td>0.0</td>\n",
       "      <td>0.0</td>\n",
       "      <td>0.0</td>\n",
       "      <td>0.0</td>\n",
       "      <td>0.0</td>\n",
       "    </tr>\n",
       "    <tr>\n",
       "      <th>HES4</th>\n",
       "      <td>0.115011</td>\n",
       "      <td>1.000000</td>\n",
       "      <td>0.681368</td>\n",
       "      <td>0.347023</td>\n",
       "      <td>0.011545</td>\n",
       "      <td>0.010729</td>\n",
       "      <td>0.003577</td>\n",
       "      <td>0.010230</td>\n",
       "      <td>0.010747</td>\n",
       "      <td>0.008769</td>\n",
       "      <td>...</td>\n",
       "      <td>0.0</td>\n",
       "      <td>0.0</td>\n",
       "      <td>0.0</td>\n",
       "      <td>0.0</td>\n",
       "      <td>0.0</td>\n",
       "      <td>0.0</td>\n",
       "      <td>0.0</td>\n",
       "      <td>0.0</td>\n",
       "      <td>0.0</td>\n",
       "      <td>0.0</td>\n",
       "    </tr>\n",
       "    <tr>\n",
       "      <th>ISG15</th>\n",
       "      <td>0.173138</td>\n",
       "      <td>0.681368</td>\n",
       "      <td>1.000000</td>\n",
       "      <td>0.351822</td>\n",
       "      <td>0.011774</td>\n",
       "      <td>0.012527</td>\n",
       "      <td>0.003754</td>\n",
       "      <td>0.012096</td>\n",
       "      <td>0.012679</td>\n",
       "      <td>0.010442</td>\n",
       "      <td>...</td>\n",
       "      <td>0.0</td>\n",
       "      <td>0.0</td>\n",
       "      <td>0.0</td>\n",
       "      <td>0.0</td>\n",
       "      <td>0.0</td>\n",
       "      <td>0.0</td>\n",
       "      <td>0.0</td>\n",
       "      <td>0.0</td>\n",
       "      <td>0.0</td>\n",
       "      <td>0.0</td>\n",
       "    </tr>\n",
       "    <tr>\n",
       "      <th>AGRN</th>\n",
       "      <td>0.052445</td>\n",
       "      <td>0.347023</td>\n",
       "      <td>0.351822</td>\n",
       "      <td>1.000000</td>\n",
       "      <td>0.014103</td>\n",
       "      <td>0.013988</td>\n",
       "      <td>0.006056</td>\n",
       "      <td>0.006296</td>\n",
       "      <td>0.005363</td>\n",
       "      <td>0.008300</td>\n",
       "      <td>...</td>\n",
       "      <td>0.0</td>\n",
       "      <td>0.0</td>\n",
       "      <td>0.0</td>\n",
       "      <td>0.0</td>\n",
       "      <td>0.0</td>\n",
       "      <td>0.0</td>\n",
       "      <td>0.0</td>\n",
       "      <td>0.0</td>\n",
       "      <td>0.0</td>\n",
       "      <td>0.0</td>\n",
       "    </tr>\n",
       "    <tr>\n",
       "      <th>TNFRSF18</th>\n",
       "      <td>0.008032</td>\n",
       "      <td>0.011545</td>\n",
       "      <td>0.011774</td>\n",
       "      <td>0.014103</td>\n",
       "      <td>1.000000</td>\n",
       "      <td>0.356676</td>\n",
       "      <td>0.454010</td>\n",
       "      <td>0.137643</td>\n",
       "      <td>0.200340</td>\n",
       "      <td>0.093210</td>\n",
       "      <td>...</td>\n",
       "      <td>0.0</td>\n",
       "      <td>0.0</td>\n",
       "      <td>0.0</td>\n",
       "      <td>0.0</td>\n",
       "      <td>0.0</td>\n",
       "      <td>0.0</td>\n",
       "      <td>0.0</td>\n",
       "      <td>0.0</td>\n",
       "      <td>0.0</td>\n",
       "      <td>0.0</td>\n",
       "    </tr>\n",
       "  </tbody>\n",
       "</table>\n",
       "<p>5 rows × 6452 columns</p>\n",
       "</div>"
      ],
      "text/plain": [
       "             NOC2L      HES4     ISG15      AGRN  TNFRSF18   TNFRSF4  \\\n",
       "NOC2L     1.000000  0.115011  0.173138  0.052445  0.008032  0.008727   \n",
       "HES4      0.115011  1.000000  0.681368  0.347023  0.011545  0.010729   \n",
       "ISG15     0.173138  0.681368  1.000000  0.351822  0.011774  0.012527   \n",
       "AGRN      0.052445  0.347023  0.351822  1.000000  0.014103  0.013988   \n",
       "TNFRSF18  0.008032  0.011545  0.011774  0.014103  1.000000  0.356676   \n",
       "\n",
       "           B3GALT6    UBE2J2     ACAP3    TAS1R3  ...  PLXNB2  ADM2  MIOX  \\\n",
       "NOC2L     0.006797  0.004533  0.007350  0.010391  ...     0.0   0.0   0.0   \n",
       "HES4      0.003577  0.010230  0.010747  0.008769  ...     0.0   0.0   0.0   \n",
       "ISG15     0.003754  0.012096  0.012679  0.010442  ...     0.0   0.0   0.0   \n",
       "AGRN      0.006056  0.006296  0.005363  0.008300  ...     0.0   0.0   0.0   \n",
       "TNFRSF18  0.454010  0.137643  0.200340  0.093210  ...     0.0   0.0   0.0   \n",
       "\n",
       "          SCO2  TYMP  CPT1B  CHKB  MAPK8IP2  ARSA  SHANK3  \n",
       "NOC2L      0.0   0.0    0.0   0.0       0.0   0.0     0.0  \n",
       "HES4       0.0   0.0    0.0   0.0       0.0   0.0     0.0  \n",
       "ISG15      0.0   0.0    0.0   0.0       0.0   0.0     0.0  \n",
       "AGRN       0.0   0.0    0.0   0.0       0.0   0.0     0.0  \n",
       "TNFRSF18   0.0   0.0    0.0   0.0       0.0   0.0     0.0  \n",
       "\n",
       "[5 rows x 6452 columns]"
      ]
     },
     "execution_count": 68,
     "metadata": {},
     "output_type": "execute_result"
    }
   ],
   "source": [
    "full_corr_matrix_gene_symbols.head()"
   ]
  },
  {
   "cell_type": "code",
   "execution_count": 69,
   "id": "04ec6c52",
   "metadata": {
    "execution": {
     "iopub.execute_input": "2022-07-11T13:24:55.235517Z",
     "iopub.status.busy": "2022-07-11T13:24:55.235320Z",
     "iopub.status.idle": "2022-07-11T13:24:57.228894Z",
     "shell.execute_reply": "2022-07-11T13:24:57.227045Z"
    },
    "papermill": {
     "duration": 2.011529,
     "end_time": "2022-07-11T13:24:57.233611",
     "exception": false,
     "start_time": "2022-07-11T13:24:55.222082",
     "status": "completed"
    },
    "tags": []
   },
   "outputs": [],
   "source": [
    "full_corr_matrix_gene_symbols.to_pickle(output_file)"
   ]
  },
  {
   "cell_type": "code",
   "execution_count": null,
   "id": "38cf09b7",
   "metadata": {
    "papermill": {
     "duration": 0.012317,
     "end_time": "2022-07-11T13:24:57.260613",
     "exception": false,
     "start_time": "2022-07-11T13:24:57.248296",
     "status": "completed"
    },
    "tags": []
   },
   "outputs": [],
   "source": []
  }
 ],
 "metadata": {
  "jupytext": {
   "cell_metadata_filter": "all,-execution,-papermill,-trusted",
   "formats": "ipynb,py//py:percent"
  },
  "kernelspec": {
   "display_name": "Python 3 (ipykernel)",
   "language": "python",
   "name": "python3"
  },
  "language_info": {
   "codemirror_mode": {
    "name": "ipython",
    "version": 3
   },
   "file_extension": ".py",
   "mimetype": "text/x-python",
   "name": "python",
   "nbconvert_exporter": "python",
   "pygments_lexer": "ipython3",
   "version": "3.8.13"
  },
  "papermill": {
   "default_parameters": {},
   "duration": 171.690116,
   "end_time": "2022-07-11T13:24:57.694597",
   "environment_variables": {},
   "exception": null,
   "input_path": "nbs/15_gsa_gls/15-postprocess_gene_expr_correlations.ipynb",
   "output_path": "nbs/15_gsa_gls/gene_corrs/1000g/mashr/15-postprocess_gene_expr_correlations.ipynb",
   "parameters": {
    "EQTL_MODEL": "MASHR",
    "REFERENCE_PANEL": "1000G"
   },
   "start_time": "2022-07-11T13:22:06.004481",
   "version": "2.2.2"
  }
 },
 "nbformat": 4,
 "nbformat_minor": 5
}
