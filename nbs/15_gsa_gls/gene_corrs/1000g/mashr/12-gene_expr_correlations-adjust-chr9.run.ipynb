{
 "cells": [
  {
   "cell_type": "markdown",
   "id": "28fc82fa-c3f6-4184-8054-cc91c7c6e2e7",
   "metadata": {
    "papermill": {
     "duration": 0.003767,
     "end_time": "2022-07-12T13:07:15.263050",
     "exception": false,
     "start_time": "2022-07-12T13:07:15.259283",
     "status": "completed"
    },
    "tags": []
   },
   "source": [
    "# Description"
   ]
  },
  {
   "cell_type": "markdown",
   "id": "36839b17-916e-4aec-8fee-96faf1097e78",
   "metadata": {
    "papermill": {
     "duration": 0.003056,
     "end_time": "2022-07-12T13:07:15.269469",
     "exception": false,
     "start_time": "2022-07-12T13:07:15.266413",
     "status": "completed"
    },
    "tags": []
   },
   "source": [
    "**TODO**"
   ]
  },
  {
   "cell_type": "markdown",
   "id": "249e8aa3-ef1a-4bba-a6dd-58120ad80794",
   "metadata": {
    "papermill": {
     "duration": 0.003052,
     "end_time": "2022-07-12T13:07:15.275822",
     "exception": false,
     "start_time": "2022-07-12T13:07:15.272770",
     "status": "completed"
    },
    "tags": []
   },
   "source": [
    "# Modules"
   ]
  },
  {
   "cell_type": "code",
   "execution_count": 1,
   "id": "f9b5022b-7c5e-4d37-9c7a-fdb91777c7f9",
   "metadata": {
    "execution": {
     "iopub.execute_input": "2022-07-12T13:07:15.285005Z",
     "iopub.status.busy": "2022-07-12T13:07:15.283369Z",
     "iopub.status.idle": "2022-07-12T13:07:18.658684Z",
     "shell.execute_reply": "2022-07-12T13:07:18.656374Z"
    },
    "papermill": {
     "duration": 3.381613,
     "end_time": "2022-07-12T13:07:18.660632",
     "exception": false,
     "start_time": "2022-07-12T13:07:15.279019",
     "status": "completed"
    },
    "tags": []
   },
   "outputs": [],
   "source": [
    "library(reticulate)\n",
    "pd <- import(\"pandas\")"
   ]
  },
  {
   "cell_type": "markdown",
   "id": "69e80173-3a39-4b6a-b723-602687cb255b",
   "metadata": {
    "papermill": {
     "duration": 0.003742,
     "end_time": "2022-07-12T13:07:18.668656",
     "exception": false,
     "start_time": "2022-07-12T13:07:18.664914",
     "status": "completed"
    },
    "tags": []
   },
   "source": [
    "# Settings"
   ]
  },
  {
   "cell_type": "code",
   "execution_count": 2,
   "id": "22d12bb4-1699-4a6b-b1b9-d3fdd3d547d7",
   "metadata": {
    "execution": {
     "iopub.execute_input": "2022-07-12T13:07:18.701757Z",
     "iopub.status.busy": "2022-07-12T13:07:18.677340Z",
     "iopub.status.idle": "2022-07-12T13:07:18.714524Z",
     "shell.execute_reply": "2022-07-12T13:07:18.713264Z"
    },
    "papermill": {
     "duration": 0.04381,
     "end_time": "2022-07-12T13:07:18.716316",
     "exception": false,
     "start_time": "2022-07-12T13:07:18.672506",
     "status": "completed"
    },
    "tags": [
     "parameters"
    ]
   },
   "outputs": [],
   "source": [
    "# reference panel\n",
    "REFERENCE_PANEL <- \"GTEX_V8\"\n",
    "# REFERENCE_PANEL = \"1000G\"\n",
    "\n",
    "# prediction models\n",
    "## mashr\n",
    "EQTL_MODEL <- \"MASHR\"\n",
    "\n",
    "chromosome <- NULL"
   ]
  },
  {
   "cell_type": "code",
   "execution_count": 3,
   "id": "bcd2017f",
   "metadata": {
    "execution": {
     "iopub.execute_input": "2022-07-12T13:07:18.725760Z",
     "iopub.status.busy": "2022-07-12T13:07:18.724666Z",
     "iopub.status.idle": "2022-07-12T13:07:18.742311Z",
     "shell.execute_reply": "2022-07-12T13:07:18.741093Z"
    },
    "papermill": {
     "duration": 0.024097,
     "end_time": "2022-07-12T13:07:18.744074",
     "exception": false,
     "start_time": "2022-07-12T13:07:18.719977",
     "status": "completed"
    },
    "tags": [
     "injected-parameters"
    ]
   },
   "outputs": [],
   "source": [
    "# Parameters\n",
    "chromosome = 9\n",
    "REFERENCE_PANEL = \"1000G\"\n",
    "EQTL_MODEL = \"MASHR\"\n"
   ]
  },
  {
   "cell_type": "code",
   "execution_count": 4,
   "id": "8fe24bef",
   "metadata": {
    "execution": {
     "iopub.execute_input": "2022-07-12T13:07:18.753444Z",
     "iopub.status.busy": "2022-07-12T13:07:18.752393Z",
     "iopub.status.idle": "2022-07-12T13:07:18.765682Z",
     "shell.execute_reply": "2022-07-12T13:07:18.764413Z"
    },
    "papermill": {
     "duration": 0.019759,
     "end_time": "2022-07-12T13:07:18.767467",
     "exception": false,
     "start_time": "2022-07-12T13:07:18.747708",
     "status": "completed"
    },
    "tags": []
   },
   "outputs": [
    {
     "data": {
      "text/html": [
       "'Using reference panel: 1000G'"
      ],
      "text/latex": [
       "'Using reference panel: 1000G'"
      ],
      "text/markdown": [
       "'Using reference panel: 1000G'"
      ],
      "text/plain": [
       "[1] \"Using reference panel: 1000G\""
      ]
     },
     "metadata": {},
     "output_type": "display_data"
    }
   ],
   "source": [
    "paste0(\"Using reference panel: \", REFERENCE_PANEL)"
   ]
  },
  {
   "cell_type": "code",
   "execution_count": 5,
   "id": "d62c28f8-186c-478b-948c-58e14f00df4b",
   "metadata": {
    "execution": {
     "iopub.execute_input": "2022-07-12T13:07:18.777077Z",
     "iopub.status.busy": "2022-07-12T13:07:18.776027Z",
     "iopub.status.idle": "2022-07-12T13:07:18.788297Z",
     "shell.execute_reply": "2022-07-12T13:07:18.786938Z"
    },
    "papermill": {
     "duration": 0.018797,
     "end_time": "2022-07-12T13:07:18.790146",
     "exception": false,
     "start_time": "2022-07-12T13:07:18.771349",
     "status": "completed"
    },
    "tags": []
   },
   "outputs": [
    {
     "data": {
      "text/html": [
       "'Using eQTL model: MASHR'"
      ],
      "text/latex": [
       "'Using eQTL model: MASHR'"
      ],
      "text/markdown": [
       "'Using eQTL model: MASHR'"
      ],
      "text/plain": [
       "[1] \"Using eQTL model: MASHR\""
      ]
     },
     "metadata": {},
     "output_type": "display_data"
    }
   ],
   "source": [
    "paste0(\"Using eQTL model: \", EQTL_MODEL)"
   ]
  },
  {
   "cell_type": "code",
   "execution_count": 6,
   "id": "5243676f-c889-4405-9a4d-262f0f044614",
   "metadata": {
    "execution": {
     "iopub.execute_input": "2022-07-12T13:07:18.800592Z",
     "iopub.status.busy": "2022-07-12T13:07:18.799360Z",
     "iopub.status.idle": "2022-07-12T13:07:18.810006Z",
     "shell.execute_reply": "2022-07-12T13:07:18.808646Z"
    },
    "papermill": {
     "duration": 0.017792,
     "end_time": "2022-07-12T13:07:18.811980",
     "exception": false,
     "start_time": "2022-07-12T13:07:18.794188",
     "status": "completed"
    },
    "tags": []
   },
   "outputs": [],
   "source": [
    "# chromosome must be provided as parameter\n",
    "stopifnot(!is.null(chromosome))"
   ]
  },
  {
   "cell_type": "markdown",
   "id": "c05e4d34-e115-48cd-8a2e-225109eb0042",
   "metadata": {
    "papermill": {
     "duration": 0.003991,
     "end_time": "2022-07-12T13:07:18.820041",
     "exception": false,
     "start_time": "2022-07-12T13:07:18.816050",
     "status": "completed"
    },
    "tags": []
   },
   "source": [
    "# Paths"
   ]
  },
  {
   "cell_type": "code",
   "execution_count": 7,
   "id": "eb6aa8aa-b452-4a2f-a780-93dd80ad4285",
   "metadata": {
    "execution": {
     "iopub.execute_input": "2022-07-12T13:07:18.830468Z",
     "iopub.status.busy": "2022-07-12T13:07:18.829271Z",
     "iopub.status.idle": "2022-07-12T13:07:18.843671Z",
     "shell.execute_reply": "2022-07-12T13:07:18.842259Z"
    },
    "papermill": {
     "duration": 0.021388,
     "end_time": "2022-07-12T13:07:18.845544",
     "exception": false,
     "start_time": "2022-07-12T13:07:18.824156",
     "status": "completed"
    },
    "tags": []
   },
   "outputs": [
    {
     "data": {
      "text/html": [
       "'/opt/data/data/phenomexcan/ld_blocks/gene_corrs'"
      ],
      "text/latex": [
       "'/opt/data/data/phenomexcan/ld\\_blocks/gene\\_corrs'"
      ],
      "text/markdown": [
       "'/opt/data/data/phenomexcan/ld_blocks/gene_corrs'"
      ],
      "text/plain": [
       "[1] \"/opt/data/data/phenomexcan/ld_blocks/gene_corrs\""
      ]
     },
     "metadata": {},
     "output_type": "display_data"
    }
   ],
   "source": [
    "GENE_CORRS_DIR <- Sys.getenv(\"PHENOPLIER_PHENOMEXCAN_LD_BLOCKS_GENE_CORRS_DIR\")\n",
    "IRdisplay::display(GENE_CORRS_DIR)"
   ]
  },
  {
   "cell_type": "code",
   "execution_count": 8,
   "id": "eb24f15f-f282-4476-8943-8413c4483f12",
   "metadata": {
    "execution": {
     "iopub.execute_input": "2022-07-12T13:07:18.856208Z",
     "iopub.status.busy": "2022-07-12T13:07:18.855019Z",
     "iopub.status.idle": "2022-07-12T13:07:18.869012Z",
     "shell.execute_reply": "2022-07-12T13:07:18.867753Z"
    },
    "papermill": {
     "duration": 0.02105,
     "end_time": "2022-07-12T13:07:18.870769",
     "exception": false,
     "start_time": "2022-07-12T13:07:18.849719",
     "status": "completed"
    },
    "tags": []
   },
   "outputs": [
    {
     "data": {
      "text/html": [
       "'/opt/data/data/phenomexcan/ld_blocks/gene_corrs/1000g/mashr/by_chr'"
      ],
      "text/latex": [
       "'/opt/data/data/phenomexcan/ld\\_blocks/gene\\_corrs/1000g/mashr/by\\_chr'"
      ],
      "text/markdown": [
       "'/opt/data/data/phenomexcan/ld_blocks/gene_corrs/1000g/mashr/by_chr'"
      ],
      "text/plain": [
       "[1] \"/opt/data/data/phenomexcan/ld_blocks/gene_corrs/1000g/mashr/by_chr\""
      ]
     },
     "metadata": {},
     "output_type": "display_data"
    }
   ],
   "source": [
    "INPUT_DIR <- file.path(GENE_CORRS_DIR, tolower(REFERENCE_PANEL), tolower(EQTL_MODEL), \"by_chr\")\n",
    "IRdisplay::display(INPUT_DIR)"
   ]
  },
  {
   "cell_type": "code",
   "execution_count": 9,
   "id": "43c1daba-0da9-4822-8d1e-968e9767e251",
   "metadata": {
    "execution": {
     "iopub.execute_input": "2022-07-12T13:07:18.881755Z",
     "iopub.status.busy": "2022-07-12T13:07:18.880530Z",
     "iopub.status.idle": "2022-07-12T13:07:18.902013Z",
     "shell.execute_reply": "2022-07-12T13:07:18.899106Z"
    },
    "papermill": {
     "duration": 0.029082,
     "end_time": "2022-07-12T13:07:18.904240",
     "exception": false,
     "start_time": "2022-07-12T13:07:18.875158",
     "status": "completed"
    },
    "tags": []
   },
   "outputs": [
    {
     "data": {
      "text/html": [
       "'/opt/data/data/phenomexcan/ld_blocks/gene_corrs/1000g/mashr/by_chr/gene_corrs-chr9.pkl'"
      ],
      "text/latex": [
       "'/opt/data/data/phenomexcan/ld\\_blocks/gene\\_corrs/1000g/mashr/by\\_chr/gene\\_corrs-chr9.pkl'"
      ],
      "text/markdown": [
       "'/opt/data/data/phenomexcan/ld_blocks/gene_corrs/1000g/mashr/by_chr/gene_corrs-chr9.pkl'"
      ],
      "text/plain": [
       "[1] \"/opt/data/data/phenomexcan/ld_blocks/gene_corrs/1000g/mashr/by_chr/gene_corrs-chr9.pkl\""
      ]
     },
     "metadata": {},
     "output_type": "display_data"
    }
   ],
   "source": [
    "INPUT_FILE <- file.path(INPUT_DIR, paste0(\"gene_corrs-chr\", chromosome, \".pkl\"))\n",
    "IRdisplay::display(INPUT_FILE)\n",
    "stopifnot(file.exists(INPUT_FILE))"
   ]
  },
  {
   "cell_type": "code",
   "execution_count": 10,
   "id": "72386fbf-982b-420a-9057-ea9a97a5e571",
   "metadata": {
    "execution": {
     "iopub.execute_input": "2022-07-12T13:07:18.916268Z",
     "iopub.status.busy": "2022-07-12T13:07:18.914842Z",
     "iopub.status.idle": "2022-07-12T13:07:18.930557Z",
     "shell.execute_reply": "2022-07-12T13:07:18.929267Z"
    },
    "papermill": {
     "duration": 0.023087,
     "end_time": "2022-07-12T13:07:18.932357",
     "exception": false,
     "start_time": "2022-07-12T13:07:18.909270",
     "status": "completed"
    },
    "tags": []
   },
   "outputs": [
    {
     "data": {
      "text/html": [
       "'/opt/data/data/phenomexcan/ld_blocks/gene_corrs/1000g/mashr/by_chr/corrected_positive_definite'"
      ],
      "text/latex": [
       "'/opt/data/data/phenomexcan/ld\\_blocks/gene\\_corrs/1000g/mashr/by\\_chr/corrected\\_positive\\_definite'"
      ],
      "text/markdown": [
       "'/opt/data/data/phenomexcan/ld_blocks/gene_corrs/1000g/mashr/by_chr/corrected_positive_definite'"
      ],
      "text/plain": [
       "[1] \"/opt/data/data/phenomexcan/ld_blocks/gene_corrs/1000g/mashr/by_chr/corrected_positive_definite\""
      ]
     },
     "metadata": {},
     "output_type": "display_data"
    }
   ],
   "source": [
    "OUTPUT_DIR <- file.path(INPUT_DIR, \"corrected_positive_definite\")\n",
    "IRdisplay::display(OUTPUT_DIR)\n",
    "dir.create(OUTPUT_DIR, recursive = TRUE, showWarnings = FALSE)"
   ]
  },
  {
   "cell_type": "code",
   "execution_count": 11,
   "id": "f9f19d1d-ce4c-4099-a26e-250fec751de7",
   "metadata": {
    "execution": {
     "iopub.execute_input": "2022-07-12T13:07:18.943799Z",
     "iopub.status.busy": "2022-07-12T13:07:18.942726Z",
     "iopub.status.idle": "2022-07-12T13:07:18.957110Z",
     "shell.execute_reply": "2022-07-12T13:07:18.955878Z"
    },
    "papermill": {
     "duration": 0.02174,
     "end_time": "2022-07-12T13:07:18.958888",
     "exception": false,
     "start_time": "2022-07-12T13:07:18.937148",
     "status": "completed"
    },
    "tags": []
   },
   "outputs": [
    {
     "data": {
      "text/html": [
       "'/opt/data/data/phenomexcan/ld_blocks/gene_corrs/1000g/mashr/by_chr/corrected_positive_definite/gene_corrs-chr9.pkl'"
      ],
      "text/latex": [
       "'/opt/data/data/phenomexcan/ld\\_blocks/gene\\_corrs/1000g/mashr/by\\_chr/corrected\\_positive\\_definite/gene\\_corrs-chr9.pkl'"
      ],
      "text/markdown": [
       "'/opt/data/data/phenomexcan/ld_blocks/gene_corrs/1000g/mashr/by_chr/corrected_positive_definite/gene_corrs-chr9.pkl'"
      ],
      "text/plain": [
       "[1] \"/opt/data/data/phenomexcan/ld_blocks/gene_corrs/1000g/mashr/by_chr/corrected_positive_definite/gene_corrs-chr9.pkl\""
      ]
     },
     "metadata": {},
     "output_type": "display_data"
    }
   ],
   "source": [
    "OUTPUT_FILE <- file.path(OUTPUT_DIR, paste0(\"gene_corrs-chr\", chromosome, \".pkl\"))\n",
    "IRdisplay::display(OUTPUT_FILE)\n",
    "if (file.exists(OUTPUT_FILE)) {\n",
    "  IRdisplay::display(\"Output file exists, it will be overwritten\")\n",
    "}"
   ]
  },
  {
   "cell_type": "markdown",
   "id": "24973e62-e888-4b56-843f-489d8d0762b5",
   "metadata": {
    "papermill": {
     "duration": 0.004283,
     "end_time": "2022-07-12T13:07:18.967645",
     "exception": false,
     "start_time": "2022-07-12T13:07:18.963362",
     "status": "completed"
    },
    "tags": []
   },
   "source": [
    "# Functions"
   ]
  },
  {
   "cell_type": "code",
   "execution_count": 12,
   "id": "f828f081-7358-4cc8-8a89-1ee293bcc1a7",
   "metadata": {
    "execution": {
     "iopub.execute_input": "2022-07-12T13:07:18.981356Z",
     "iopub.status.busy": "2022-07-12T13:07:18.977161Z",
     "iopub.status.idle": "2022-07-12T13:07:18.989927Z",
     "shell.execute_reply": "2022-07-12T13:07:18.988736Z"
    },
    "papermill": {
     "duration": 0.019676,
     "end_time": "2022-07-12T13:07:18.991650",
     "exception": false,
     "start_time": "2022-07-12T13:07:18.971974",
     "status": "completed"
    },
    "tags": []
   },
   "outputs": [],
   "source": [
    "# taken from https://www.r-bloggers.com/2013/08/correcting-a-pseudo-correlation-matrix-to-be-positive-semidefinite/\n",
    "# TODO: add documentation\n",
    "CorrectCM <- function(CM, p = 0) {\n",
    "  n <- dim(var(CM))[1L]\n",
    "  E <- eigen(CM)\n",
    "  CM1 <- E$vectors %*% tcrossprod(diag(pmax(E$values, p), n), E$vectors)\n",
    "  Balance <- diag(1 / sqrt(diag(CM1)))\n",
    "  CM2 <- Balance %*% CM1 %*% Balance\n",
    "  return(CM2)\n",
    "}"
   ]
  },
  {
   "cell_type": "code",
   "execution_count": 13,
   "id": "7ab9bebf-50a1-4e6f-b16a-e23cae93d02a",
   "metadata": {
    "execution": {
     "iopub.execute_input": "2022-07-12T13:07:19.002255Z",
     "iopub.status.busy": "2022-07-12T13:07:19.001271Z",
     "iopub.status.idle": "2022-07-12T13:07:19.009892Z",
     "shell.execute_reply": "2022-07-12T13:07:19.008726Z"
    },
    "papermill": {
     "duration": 0.015506,
     "end_time": "2022-07-12T13:07:19.011495",
     "exception": false,
     "start_time": "2022-07-12T13:07:18.995989",
     "status": "completed"
    },
    "tags": []
   },
   "outputs": [],
   "source": [
    "is_positive_definite <- function(data) {\n",
    "  # eigenvalues <- eigen(data)$values\n",
    "  # nonpositive_eigenvalues <- eigenvalues[eigenvalues <= 0]\n",
    "\n",
    "  cholStatus <- try(u <- chol(data), silent = FALSE)\n",
    "  cholError <- ifelse(class(cholStatus) == \"try-error\", TRUE, FALSE)\n",
    "\n",
    "  if (cholError) {\n",
    "    return(FALSE)\n",
    "  } else {\n",
    "    return(TRUE)\n",
    "  }\n",
    "}"
   ]
  },
  {
   "cell_type": "markdown",
   "id": "7403fd78-00b2-4941-9c07-3c3af1ddc636",
   "metadata": {
    "papermill": {
     "duration": 0.003992,
     "end_time": "2022-07-12T13:07:19.020388",
     "exception": false,
     "start_time": "2022-07-12T13:07:19.016396",
     "status": "completed"
    },
    "tags": []
   },
   "source": [
    "# Load data"
   ]
  },
  {
   "cell_type": "code",
   "execution_count": 14,
   "id": "3a7744e1-2e5a-450e-9dcf-945ec181347d",
   "metadata": {
    "execution": {
     "iopub.execute_input": "2022-07-12T13:07:19.030426Z",
     "iopub.status.busy": "2022-07-12T13:07:19.029431Z",
     "iopub.status.idle": "2022-07-12T13:07:19.067463Z",
     "shell.execute_reply": "2022-07-12T13:07:19.066368Z"
    },
    "papermill": {
     "duration": 0.044664,
     "end_time": "2022-07-12T13:07:19.069096",
     "exception": false,
     "start_time": "2022-07-12T13:07:19.024432",
     "status": "completed"
    },
    "tags": []
   },
   "outputs": [],
   "source": [
    "gene_corrs <- pd$read_pickle(INPUT_FILE)"
   ]
  },
  {
   "cell_type": "code",
   "execution_count": 15,
   "id": "6fb150b2-4c68-4e9b-9aa5-1890d3f762e3",
   "metadata": {
    "execution": {
     "iopub.execute_input": "2022-07-12T13:07:19.079265Z",
     "iopub.status.busy": "2022-07-12T13:07:19.078292Z",
     "iopub.status.idle": "2022-07-12T13:07:19.089285Z",
     "shell.execute_reply": "2022-07-12T13:07:19.088058Z"
    },
    "papermill": {
     "duration": 0.017615,
     "end_time": "2022-07-12T13:07:19.091002",
     "exception": false,
     "start_time": "2022-07-12T13:07:19.073387",
     "status": "completed"
    },
    "tags": []
   },
   "outputs": [
    {
     "data": {
      "text/html": [
       "<style>\n",
       ".list-inline {list-style: none; margin:0; padding: 0}\n",
       ".list-inline>li {display: inline-block}\n",
       ".list-inline>li:not(:last-child)::after {content: \"\\00b7\"; padding: 0 .5ex}\n",
       "</style>\n",
       "<ol class=list-inline><li>245</li><li>245</li></ol>\n"
      ],
      "text/latex": [
       "\\begin{enumerate*}\n",
       "\\item 245\n",
       "\\item 245\n",
       "\\end{enumerate*}\n"
      ],
      "text/markdown": [
       "1. 245\n",
       "2. 245\n",
       "\n",
       "\n"
      ],
      "text/plain": [
       "[1] 245 245"
      ]
     },
     "metadata": {},
     "output_type": "display_data"
    }
   ],
   "source": [
    "dim(gene_corrs)"
   ]
  },
  {
   "cell_type": "code",
   "execution_count": 16,
   "id": "0d4e53b5-7586-4a68-8ce5-d930d74ba943",
   "metadata": {
    "execution": {
     "iopub.execute_input": "2022-07-12T13:07:19.101796Z",
     "iopub.status.busy": "2022-07-12T13:07:19.100788Z",
     "iopub.status.idle": "2022-07-12T13:07:19.120698Z",
     "shell.execute_reply": "2022-07-12T13:07:19.119518Z"
    },
    "papermill": {
     "duration": 0.026948,
     "end_time": "2022-07-12T13:07:19.122335",
     "exception": false,
     "start_time": "2022-07-12T13:07:19.095387",
     "status": "completed"
    },
    "tags": []
   },
   "outputs": [
    {
     "data": {
      "text/html": [
       "<table class=\"dataframe\">\n",
       "<caption>A data.frame: 6 × 10</caption>\n",
       "<thead>\n",
       "\t<tr><th></th><th scope=col>ENSG00000107099</th><th scope=col>ENSG00000080503</th><th scope=col>ENSG00000147852</th><th scope=col>ENSG00000107249</th><th scope=col>ENSG00000147853</th><th scope=col>ENSG00000096968</th><th scope=col>ENSG00000107014</th><th scope=col>ENSG00000120217</th><th scope=col>ENSG00000197646</th><th scope=col>ENSG00000178445</th></tr>\n",
       "\t<tr><th></th><th scope=col>&lt;dbl&gt;</th><th scope=col>&lt;dbl&gt;</th><th scope=col>&lt;dbl&gt;</th><th scope=col>&lt;dbl&gt;</th><th scope=col>&lt;dbl&gt;</th><th scope=col>&lt;dbl&gt;</th><th scope=col>&lt;dbl&gt;</th><th scope=col>&lt;dbl&gt;</th><th scope=col>&lt;dbl&gt;</th><th scope=col>&lt;dbl&gt;</th></tr>\n",
       "</thead>\n",
       "<tbody>\n",
       "\t<tr><th scope=row>ENSG00000107099</th><td>1.00000000</td><td>0.01057825</td><td>0.02791791</td><td>0.01164045</td><td>0.01793000</td><td>0.01054800</td><td>0.006666575</td><td>0.01339420</td><td>0.008972099</td><td>0.01199718</td></tr>\n",
       "\t<tr><th scope=row>ENSG00000080503</th><td>0.01057825</td><td>1.00000000</td><td>0.01988156</td><td>0.01206243</td><td>0.01027756</td><td>0.01165786</td><td>0.008593200</td><td>0.01377075</td><td>0.007175303</td><td>0.01146957</td></tr>\n",
       "\t<tr><th scope=row>ENSG00000147852</th><td>0.02791791</td><td>0.01988156</td><td>1.00000000</td><td>0.02412738</td><td>0.02149284</td><td>0.03202650</td><td>0.017601711</td><td>0.02520868</td><td>0.015091230</td><td>0.01899581</td></tr>\n",
       "\t<tr><th scope=row>ENSG00000107249</th><td>0.01164045</td><td>0.01206243</td><td>0.02412738</td><td>1.00000000</td><td>0.02287431</td><td>0.01872863</td><td>0.011897316</td><td>0.01554751</td><td>0.009183990</td><td>0.01368105</td></tr>\n",
       "\t<tr><th scope=row>ENSG00000147853</th><td>0.01793000</td><td>0.01027756</td><td>0.02149284</td><td>0.02287431</td><td>1.00000000</td><td>0.03233564</td><td>0.012457568</td><td>0.01512674</td><td>0.013068724</td><td>0.01624216</td></tr>\n",
       "\t<tr><th scope=row>ENSG00000096968</th><td>0.01054800</td><td>0.01165786</td><td>0.03202650</td><td>0.01872863</td><td>0.03233564</td><td>1.00000000</td><td>0.122253364</td><td>0.02679112</td><td>0.013067341</td><td>0.02263223</td></tr>\n",
       "</tbody>\n",
       "</table>\n"
      ],
      "text/latex": [
       "A data.frame: 6 × 10\n",
       "\\begin{tabular}{r|llllllllll}\n",
       "  & ENSG00000107099 & ENSG00000080503 & ENSG00000147852 & ENSG00000107249 & ENSG00000147853 & ENSG00000096968 & ENSG00000107014 & ENSG00000120217 & ENSG00000197646 & ENSG00000178445\\\\\n",
       "  & <dbl> & <dbl> & <dbl> & <dbl> & <dbl> & <dbl> & <dbl> & <dbl> & <dbl> & <dbl>\\\\\n",
       "\\hline\n",
       "\tENSG00000107099 & 1.00000000 & 0.01057825 & 0.02791791 & 0.01164045 & 0.01793000 & 0.01054800 & 0.006666575 & 0.01339420 & 0.008972099 & 0.01199718\\\\\n",
       "\tENSG00000080503 & 0.01057825 & 1.00000000 & 0.01988156 & 0.01206243 & 0.01027756 & 0.01165786 & 0.008593200 & 0.01377075 & 0.007175303 & 0.01146957\\\\\n",
       "\tENSG00000147852 & 0.02791791 & 0.01988156 & 1.00000000 & 0.02412738 & 0.02149284 & 0.03202650 & 0.017601711 & 0.02520868 & 0.015091230 & 0.01899581\\\\\n",
       "\tENSG00000107249 & 0.01164045 & 0.01206243 & 0.02412738 & 1.00000000 & 0.02287431 & 0.01872863 & 0.011897316 & 0.01554751 & 0.009183990 & 0.01368105\\\\\n",
       "\tENSG00000147853 & 0.01793000 & 0.01027756 & 0.02149284 & 0.02287431 & 1.00000000 & 0.03233564 & 0.012457568 & 0.01512674 & 0.013068724 & 0.01624216\\\\\n",
       "\tENSG00000096968 & 0.01054800 & 0.01165786 & 0.03202650 & 0.01872863 & 0.03233564 & 1.00000000 & 0.122253364 & 0.02679112 & 0.013067341 & 0.02263223\\\\\n",
       "\\end{tabular}\n"
      ],
      "text/markdown": [
       "\n",
       "A data.frame: 6 × 10\n",
       "\n",
       "| <!--/--> | ENSG00000107099 &lt;dbl&gt; | ENSG00000080503 &lt;dbl&gt; | ENSG00000147852 &lt;dbl&gt; | ENSG00000107249 &lt;dbl&gt; | ENSG00000147853 &lt;dbl&gt; | ENSG00000096968 &lt;dbl&gt; | ENSG00000107014 &lt;dbl&gt; | ENSG00000120217 &lt;dbl&gt; | ENSG00000197646 &lt;dbl&gt; | ENSG00000178445 &lt;dbl&gt; |\n",
       "|---|---|---|---|---|---|---|---|---|---|---|\n",
       "| ENSG00000107099 | 1.00000000 | 0.01057825 | 0.02791791 | 0.01164045 | 0.01793000 | 0.01054800 | 0.006666575 | 0.01339420 | 0.008972099 | 0.01199718 |\n",
       "| ENSG00000080503 | 0.01057825 | 1.00000000 | 0.01988156 | 0.01206243 | 0.01027756 | 0.01165786 | 0.008593200 | 0.01377075 | 0.007175303 | 0.01146957 |\n",
       "| ENSG00000147852 | 0.02791791 | 0.01988156 | 1.00000000 | 0.02412738 | 0.02149284 | 0.03202650 | 0.017601711 | 0.02520868 | 0.015091230 | 0.01899581 |\n",
       "| ENSG00000107249 | 0.01164045 | 0.01206243 | 0.02412738 | 1.00000000 | 0.02287431 | 0.01872863 | 0.011897316 | 0.01554751 | 0.009183990 | 0.01368105 |\n",
       "| ENSG00000147853 | 0.01793000 | 0.01027756 | 0.02149284 | 0.02287431 | 1.00000000 | 0.03233564 | 0.012457568 | 0.01512674 | 0.013068724 | 0.01624216 |\n",
       "| ENSG00000096968 | 0.01054800 | 0.01165786 | 0.03202650 | 0.01872863 | 0.03233564 | 1.00000000 | 0.122253364 | 0.02679112 | 0.013067341 | 0.02263223 |\n",
       "\n"
      ],
      "text/plain": [
       "                ENSG00000107099 ENSG00000080503 ENSG00000147852 ENSG00000107249\n",
       "ENSG00000107099 1.00000000      0.01057825      0.02791791      0.01164045     \n",
       "ENSG00000080503 0.01057825      1.00000000      0.01988156      0.01206243     \n",
       "ENSG00000147852 0.02791791      0.01988156      1.00000000      0.02412738     \n",
       "ENSG00000107249 0.01164045      0.01206243      0.02412738      1.00000000     \n",
       "ENSG00000147853 0.01793000      0.01027756      0.02149284      0.02287431     \n",
       "ENSG00000096968 0.01054800      0.01165786      0.03202650      0.01872863     \n",
       "                ENSG00000147853 ENSG00000096968 ENSG00000107014 ENSG00000120217\n",
       "ENSG00000107099 0.01793000      0.01054800      0.006666575     0.01339420     \n",
       "ENSG00000080503 0.01027756      0.01165786      0.008593200     0.01377075     \n",
       "ENSG00000147852 0.02149284      0.03202650      0.017601711     0.02520868     \n",
       "ENSG00000107249 0.02287431      0.01872863      0.011897316     0.01554751     \n",
       "ENSG00000147853 1.00000000      0.03233564      0.012457568     0.01512674     \n",
       "ENSG00000096968 0.03233564      1.00000000      0.122253364     0.02679112     \n",
       "                ENSG00000197646 ENSG00000178445\n",
       "ENSG00000107099 0.008972099     0.01199718     \n",
       "ENSG00000080503 0.007175303     0.01146957     \n",
       "ENSG00000147852 0.015091230     0.01899581     \n",
       "ENSG00000107249 0.009183990     0.01368105     \n",
       "ENSG00000147853 0.013068724     0.01624216     \n",
       "ENSG00000096968 0.013067341     0.02263223     "
      ]
     },
     "metadata": {},
     "output_type": "display_data"
    }
   ],
   "source": [
    "head(gene_corrs[1:10, 1:10])"
   ]
  },
  {
   "cell_type": "markdown",
   "id": "d6cbc88a-2c90-4d11-b7dd-434f046fd03c",
   "metadata": {
    "papermill": {
     "duration": 0.00504,
     "end_time": "2022-07-12T13:07:19.132321",
     "exception": false,
     "start_time": "2022-07-12T13:07:19.127281",
     "status": "completed"
    },
    "tags": []
   },
   "source": [
    "# Check positive definiteness"
   ]
  },
  {
   "cell_type": "code",
   "execution_count": 17,
   "id": "a858a061-7c5a-4a6b-8026-fe4de50c1f26",
   "metadata": {
    "execution": {
     "iopub.execute_input": "2022-07-12T13:07:19.144577Z",
     "iopub.status.busy": "2022-07-12T13:07:19.143492Z",
     "iopub.status.idle": "2022-07-12T13:07:19.155066Z",
     "shell.execute_reply": "2022-07-12T13:07:19.153778Z"
    },
    "papermill": {
     "duration": 0.019199,
     "end_time": "2022-07-12T13:07:19.156725",
     "exception": false,
     "start_time": "2022-07-12T13:07:19.137526",
     "status": "completed"
    },
    "tags": []
   },
   "outputs": [],
   "source": [
    "orig_matrix_is_positive_definite <- is_positive_definite(gene_corrs)"
   ]
  },
  {
   "cell_type": "code",
   "execution_count": 18,
   "id": "410ee452-488f-4518-b93a-2acd608ba99c",
   "metadata": {
    "execution": {
     "iopub.execute_input": "2022-07-12T13:07:19.176940Z",
     "iopub.status.busy": "2022-07-12T13:07:19.176017Z",
     "iopub.status.idle": "2022-07-12T13:07:19.190499Z",
     "shell.execute_reply": "2022-07-12T13:07:19.189315Z"
    },
    "papermill": {
     "duration": 0.026954,
     "end_time": "2022-07-12T13:07:19.192176",
     "exception": false,
     "start_time": "2022-07-12T13:07:19.165222",
     "status": "completed"
    },
    "tags": []
   },
   "outputs": [
    {
     "data": {
      "text/html": [
       "'Matrix is already positive definite!'"
      ],
      "text/latex": [
       "'Matrix is already positive definite!'"
      ],
      "text/markdown": [
       "'Matrix is already positive definite!'"
      ],
      "text/plain": [
       "[1] \"Matrix is already positive definite!\""
      ]
     },
     "metadata": {},
     "output_type": "display_data"
    },
    {
     "data": {
      "text/html": [
       "TRUE"
      ],
      "text/latex": [
       "TRUE"
      ],
      "text/markdown": [
       "TRUE"
      ],
      "text/plain": [
       "[1] TRUE"
      ]
     },
     "metadata": {},
     "output_type": "display_data"
    }
   ],
   "source": [
    "if (orig_matrix_is_positive_definite) {\n",
    "  IRdisplay::display(\"Matrix is already positive definite!\")\n",
    "  file.copy(INPUT_FILE, OUTPUT_FILE)\n",
    "} else {\n",
    "  IRdisplay::display(\"We need to correct the data and make the matrix positive definite\")\n",
    "\n",
    "  eigenvalues <- eigen(gene_corrs)$values\n",
    "  nonpositive_eigenvalues <- eigenvalues[eigenvalues <= 0]\n",
    "  IRdisplay::display(length(nonpositive_eigenvalues))\n",
    "  IRdisplay::display(nonpositive_eigenvalues)\n",
    "\n",
    "  # Make matrix positive definite\n",
    "  gene_corrs_corrected <- CorrectCM(gene_corrs, 1e-10)\n",
    "  dimnames(gene_corrs_corrected)[[1]] <- rownames(gene_corrs)\n",
    "  dimnames(gene_corrs_corrected)[[2]] <- colnames(gene_corrs)\n",
    "  gene_corrs_corrected <- as.data.frame(gene_corrs_corrected)\n",
    "\n",
    "  # check if new matrix is really positive definite\n",
    "  matrix_is_positive_definite <- is_positive_definite(gene_corrs_corrected)\n",
    "  if (matrix_is_positive_definite) {\n",
    "    IRdisplay::display(\"It worked!\")\n",
    "    IRdisplay::display(head(gene_corrs[1:10, 1:10]))\n",
    "    IRdisplay::display(head(gene_corrs_corrected[1:10, 1:10]))\n",
    "    py_save_object(gene_corrs_corrected, OUTPUT_FILE)\n",
    "  } else {\n",
    "    eigenvalues <- eigen(gene_corrs_corrected)$values\n",
    "    nonpositive_eigenvalues <- eigenvalues[eigenvalues <= 0]\n",
    "    IRdisplay::display(length(nonpositive_eigenvalues))\n",
    "    IRdisplay::display(nonpositive_eigenvalues)\n",
    "\n",
    "    stop(\"Method failed to adjust matrix\")\n",
    "  }\n",
    "}"
   ]
  },
  {
   "cell_type": "markdown",
   "id": "6c196700-7491-462f-bab8-ab9d40c63499",
   "metadata": {
    "papermill": {
     "duration": 0.008991,
     "end_time": "2022-07-12T13:07:19.207940",
     "exception": false,
     "start_time": "2022-07-12T13:07:19.198949",
     "status": "completed"
    },
    "tags": []
   },
   "source": [
    "Both matrices should \"look\" similar. We are not interested in perfectly accurate correlation values (they are already inaccurate)."
   ]
  },
  {
   "cell_type": "code",
   "execution_count": null,
   "id": "d8ae4220-2171-460c-9231-cd5219f3fe77",
   "metadata": {
    "papermill": {
     "duration": 0.008603,
     "end_time": "2022-07-12T13:07:19.225861",
     "exception": false,
     "start_time": "2022-07-12T13:07:19.217258",
     "status": "completed"
    },
    "tags": []
   },
   "outputs": [],
   "source": []
  }
 ],
 "metadata": {
  "jupytext": {
   "cell_metadata_filter": "all,-execution,-papermill,-trusted"
  },
  "kernelspec": {
   "display_name": "R",
   "language": "R",
   "name": "ir"
  },
  "language_info": {
   "codemirror_mode": "r",
   "file_extension": ".r",
   "mimetype": "text/x-r-source",
   "name": "R",
   "pygments_lexer": "r",
   "version": "3.6.3"
  },
  "papermill": {
   "default_parameters": {},
   "duration": 5.369027,
   "end_time": "2022-07-12T13:07:19.351998",
   "environment_variables": {},
   "exception": null,
   "input_path": "nbs/15_gsa_gls/12-gene_expr_correlations-adjust.ipynb",
   "output_path": "nbs/15_gsa_gls/gene_corrs/1000g/mashr/12-gene_expr_correlations-adjust-chr9.run.ipynb",
   "parameters": {
    "EQTL_MODEL": "MASHR",
    "REFERENCE_PANEL": "1000G",
    "chromosome": 9
   },
   "start_time": "2022-07-12T13:07:13.982971",
   "version": "2.3.4"
  }
 },
 "nbformat": 4,
 "nbformat_minor": 5
}
