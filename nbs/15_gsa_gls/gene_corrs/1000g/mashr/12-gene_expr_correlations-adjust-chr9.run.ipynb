{
 "cells": [
  {
   "cell_type": "markdown",
   "id": "28fc82fa-c3f6-4184-8054-cc91c7c6e2e7",
   "metadata": {
    "papermill": {
     "duration": 0.004674,
     "end_time": "2022-07-11T13:17:39.008801",
     "exception": false,
     "start_time": "2022-07-11T13:17:39.004127",
     "status": "completed"
    },
    "tags": []
   },
   "source": [
    "# Description"
   ]
  },
  {
   "cell_type": "markdown",
   "id": "36839b17-916e-4aec-8fee-96faf1097e78",
   "metadata": {
    "papermill": {
     "duration": 0.003639,
     "end_time": "2022-07-11T13:17:39.016284",
     "exception": false,
     "start_time": "2022-07-11T13:17:39.012645",
     "status": "completed"
    },
    "tags": []
   },
   "source": [
    "**TODO**"
   ]
  },
  {
   "cell_type": "markdown",
   "id": "249e8aa3-ef1a-4bba-a6dd-58120ad80794",
   "metadata": {
    "papermill": {
     "duration": 0.003643,
     "end_time": "2022-07-11T13:17:39.023875",
     "exception": false,
     "start_time": "2022-07-11T13:17:39.020232",
     "status": "completed"
    },
    "tags": []
   },
   "source": [
    "# Modules"
   ]
  },
  {
   "cell_type": "code",
   "execution_count": 1,
   "id": "f9b5022b-7c5e-4d37-9c7a-fdb91777c7f9",
   "metadata": {
    "execution": {
     "iopub.execute_input": "2022-07-11T13:17:39.034370Z",
     "iopub.status.busy": "2022-07-11T13:17:39.032612Z",
     "iopub.status.idle": "2022-07-11T13:17:42.452823Z",
     "shell.execute_reply": "2022-07-11T13:17:42.451495Z"
    },
    "papermill": {
     "duration": 3.426989,
     "end_time": "2022-07-11T13:17:42.454558",
     "exception": false,
     "start_time": "2022-07-11T13:17:39.027569",
     "status": "completed"
    },
    "tags": []
   },
   "outputs": [],
   "source": [
    "library(reticulate)\n",
    "pd <- import(\"pandas\")"
   ]
  },
  {
   "cell_type": "markdown",
   "id": "69e80173-3a39-4b6a-b723-602687cb255b",
   "metadata": {
    "papermill": {
     "duration": 0.003446,
     "end_time": "2022-07-11T13:17:42.461530",
     "exception": false,
     "start_time": "2022-07-11T13:17:42.458084",
     "status": "completed"
    },
    "tags": []
   },
   "source": [
    "# Settings"
   ]
  },
  {
   "cell_type": "code",
   "execution_count": 2,
   "id": "22d12bb4-1699-4a6b-b1b9-d3fdd3d547d7",
   "metadata": {
    "execution": {
     "iopub.execute_input": "2022-07-11T13:17:42.492336Z",
     "iopub.status.busy": "2022-07-11T13:17:42.469718Z",
     "iopub.status.idle": "2022-07-11T13:17:42.505022Z",
     "shell.execute_reply": "2022-07-11T13:17:42.503777Z"
    },
    "papermill": {
     "duration": 0.041605,
     "end_time": "2022-07-11T13:17:42.506774",
     "exception": false,
     "start_time": "2022-07-11T13:17:42.465169",
     "status": "completed"
    },
    "tags": [
     "parameters"
    ]
   },
   "outputs": [],
   "source": [
    "# reference panel\n",
    "REFERENCE_PANEL <- \"GTEX_V8\"\n",
    "# REFERENCE_PANEL = \"1000G\"\n",
    "\n",
    "# prediction models\n",
    "## mashr\n",
    "EQTL_MODEL <- \"MASHR\"\n",
    "\n",
    "chromosome <- NULL"
   ]
  },
  {
   "cell_type": "code",
   "execution_count": 3,
   "id": "8b873666",
   "metadata": {
    "execution": {
     "iopub.execute_input": "2022-07-11T13:17:42.516230Z",
     "iopub.status.busy": "2022-07-11T13:17:42.515164Z",
     "iopub.status.idle": "2022-07-11T13:17:42.532431Z",
     "shell.execute_reply": "2022-07-11T13:17:42.531208Z"
    },
    "papermill": {
     "duration": 0.02364,
     "end_time": "2022-07-11T13:17:42.534106",
     "exception": false,
     "start_time": "2022-07-11T13:17:42.510466",
     "status": "completed"
    },
    "tags": [
     "injected-parameters"
    ]
   },
   "outputs": [],
   "source": [
    "# Parameters\n",
    "chromosome = 9\n",
    "REFERENCE_PANEL = \"1000G\"\n",
    "EQTL_MODEL = \"MASHR\"\n"
   ]
  },
  {
   "cell_type": "code",
   "execution_count": 4,
   "id": "8fe24bef",
   "metadata": {
    "execution": {
     "iopub.execute_input": "2022-07-11T13:17:42.542925Z",
     "iopub.status.busy": "2022-07-11T13:17:42.541934Z",
     "iopub.status.idle": "2022-07-11T13:17:42.553975Z",
     "shell.execute_reply": "2022-07-11T13:17:42.552860Z"
    },
    "papermill": {
     "duration": 0.017984,
     "end_time": "2022-07-11T13:17:42.555574",
     "exception": false,
     "start_time": "2022-07-11T13:17:42.537590",
     "status": "completed"
    },
    "tags": []
   },
   "outputs": [
    {
     "data": {
      "text/html": [
       "'Using reference panel: 1000G'"
      ],
      "text/latex": [
       "'Using reference panel: 1000G'"
      ],
      "text/markdown": [
       "'Using reference panel: 1000G'"
      ],
      "text/plain": [
       "[1] \"Using reference panel: 1000G\""
      ]
     },
     "metadata": {},
     "output_type": "display_data"
    }
   ],
   "source": [
    "paste0(\"Using reference panel: \", REFERENCE_PANEL)"
   ]
  },
  {
   "cell_type": "code",
   "execution_count": 5,
   "id": "d62c28f8-186c-478b-948c-58e14f00df4b",
   "metadata": {
    "execution": {
     "iopub.execute_input": "2022-07-11T13:17:42.564659Z",
     "iopub.status.busy": "2022-07-11T13:17:42.563670Z",
     "iopub.status.idle": "2022-07-11T13:17:42.574703Z",
     "shell.execute_reply": "2022-07-11T13:17:42.573409Z"
    },
    "papermill": {
     "duration": 0.017386,
     "end_time": "2022-07-11T13:17:42.576618",
     "exception": false,
     "start_time": "2022-07-11T13:17:42.559232",
     "status": "completed"
    },
    "tags": []
   },
   "outputs": [
    {
     "data": {
      "text/html": [
       "'Using eQTL model: MASHR'"
      ],
      "text/latex": [
       "'Using eQTL model: MASHR'"
      ],
      "text/markdown": [
       "'Using eQTL model: MASHR'"
      ],
      "text/plain": [
       "[1] \"Using eQTL model: MASHR\""
      ]
     },
     "metadata": {},
     "output_type": "display_data"
    }
   ],
   "source": [
    "paste0(\"Using eQTL model: \", EQTL_MODEL)"
   ]
  },
  {
   "cell_type": "code",
   "execution_count": 6,
   "id": "5243676f-c889-4405-9a4d-262f0f044614",
   "metadata": {
    "execution": {
     "iopub.execute_input": "2022-07-11T13:17:42.586995Z",
     "iopub.status.busy": "2022-07-11T13:17:42.585890Z",
     "iopub.status.idle": "2022-07-11T13:17:42.596182Z",
     "shell.execute_reply": "2022-07-11T13:17:42.594851Z"
    },
    "papermill": {
     "duration": 0.017275,
     "end_time": "2022-07-11T13:17:42.597994",
     "exception": false,
     "start_time": "2022-07-11T13:17:42.580719",
     "status": "completed"
    },
    "tags": []
   },
   "outputs": [],
   "source": [
    "# chromosome must be provided as parameter\n",
    "stopifnot(!is.null(chromosome))"
   ]
  },
  {
   "cell_type": "markdown",
   "id": "c05e4d34-e115-48cd-8a2e-225109eb0042",
   "metadata": {
    "papermill": {
     "duration": 0.004052,
     "end_time": "2022-07-11T13:17:42.606313",
     "exception": false,
     "start_time": "2022-07-11T13:17:42.602261",
     "status": "completed"
    },
    "tags": []
   },
   "source": [
    "# Paths"
   ]
  },
  {
   "cell_type": "code",
   "execution_count": 7,
   "id": "eb6aa8aa-b452-4a2f-a780-93dd80ad4285",
   "metadata": {
    "execution": {
     "iopub.execute_input": "2022-07-11T13:17:42.616708Z",
     "iopub.status.busy": "2022-07-11T13:17:42.615602Z",
     "iopub.status.idle": "2022-07-11T13:17:42.629629Z",
     "shell.execute_reply": "2022-07-11T13:17:42.628288Z"
    },
    "papermill": {
     "duration": 0.021041,
     "end_time": "2022-07-11T13:17:42.631530",
     "exception": false,
     "start_time": "2022-07-11T13:17:42.610489",
     "status": "completed"
    },
    "tags": []
   },
   "outputs": [
    {
     "data": {
      "text/html": [
       "'/opt/data/data/phenomexcan/ld_blocks/gene_corrs'"
      ],
      "text/latex": [
       "'/opt/data/data/phenomexcan/ld\\_blocks/gene\\_corrs'"
      ],
      "text/markdown": [
       "'/opt/data/data/phenomexcan/ld_blocks/gene_corrs'"
      ],
      "text/plain": [
       "[1] \"/opt/data/data/phenomexcan/ld_blocks/gene_corrs\""
      ]
     },
     "metadata": {},
     "output_type": "display_data"
    }
   ],
   "source": [
    "GENE_CORRS_DIR <- Sys.getenv(\"PHENOPLIER_PHENOMEXCAN_LD_BLOCKS_GENE_CORRS_DIR\")\n",
    "IRdisplay::display(GENE_CORRS_DIR)"
   ]
  },
  {
   "cell_type": "code",
   "execution_count": 8,
   "id": "eb24f15f-f282-4476-8943-8413c4483f12",
   "metadata": {
    "execution": {
     "iopub.execute_input": "2022-07-11T13:17:42.642374Z",
     "iopub.status.busy": "2022-07-11T13:17:42.641205Z",
     "iopub.status.idle": "2022-07-11T13:17:42.654947Z",
     "shell.execute_reply": "2022-07-11T13:17:42.653655Z"
    },
    "papermill": {
     "duration": 0.02094,
     "end_time": "2022-07-11T13:17:42.656832",
     "exception": false,
     "start_time": "2022-07-11T13:17:42.635892",
     "status": "completed"
    },
    "tags": []
   },
   "outputs": [
    {
     "data": {
      "text/html": [
       "'/opt/data/data/phenomexcan/ld_blocks/gene_corrs/1000g/mashr/by_chr'"
      ],
      "text/latex": [
       "'/opt/data/data/phenomexcan/ld\\_blocks/gene\\_corrs/1000g/mashr/by\\_chr'"
      ],
      "text/markdown": [
       "'/opt/data/data/phenomexcan/ld_blocks/gene_corrs/1000g/mashr/by_chr'"
      ],
      "text/plain": [
       "[1] \"/opt/data/data/phenomexcan/ld_blocks/gene_corrs/1000g/mashr/by_chr\""
      ]
     },
     "metadata": {},
     "output_type": "display_data"
    }
   ],
   "source": [
    "INPUT_DIR <- file.path(GENE_CORRS_DIR, tolower(REFERENCE_PANEL), tolower(EQTL_MODEL), \"by_chr\")\n",
    "IRdisplay::display(INPUT_DIR)"
   ]
  },
  {
   "cell_type": "code",
   "execution_count": 9,
   "id": "43c1daba-0da9-4822-8d1e-968e9767e251",
   "metadata": {
    "execution": {
     "iopub.execute_input": "2022-07-11T13:17:42.667778Z",
     "iopub.status.busy": "2022-07-11T13:17:42.666611Z",
     "iopub.status.idle": "2022-07-11T13:17:42.681527Z",
     "shell.execute_reply": "2022-07-11T13:17:42.680262Z"
    },
    "papermill": {
     "duration": 0.021982,
     "end_time": "2022-07-11T13:17:42.683334",
     "exception": false,
     "start_time": "2022-07-11T13:17:42.661352",
     "status": "completed"
    },
    "tags": []
   },
   "outputs": [
    {
     "data": {
      "text/html": [
       "'/opt/data/data/phenomexcan/ld_blocks/gene_corrs/1000g/mashr/by_chr/gene_corrs-chr9.pkl'"
      ],
      "text/latex": [
       "'/opt/data/data/phenomexcan/ld\\_blocks/gene\\_corrs/1000g/mashr/by\\_chr/gene\\_corrs-chr9.pkl'"
      ],
      "text/markdown": [
       "'/opt/data/data/phenomexcan/ld_blocks/gene_corrs/1000g/mashr/by_chr/gene_corrs-chr9.pkl'"
      ],
      "text/plain": [
       "[1] \"/opt/data/data/phenomexcan/ld_blocks/gene_corrs/1000g/mashr/by_chr/gene_corrs-chr9.pkl\""
      ]
     },
     "metadata": {},
     "output_type": "display_data"
    }
   ],
   "source": [
    "INPUT_FILE <- file.path(INPUT_DIR, paste0(\"gene_corrs-chr\", chromosome, \".pkl\"))\n",
    "IRdisplay::display(INPUT_FILE)\n",
    "stopifnot(file.exists(INPUT_FILE))"
   ]
  },
  {
   "cell_type": "code",
   "execution_count": 10,
   "id": "72386fbf-982b-420a-9057-ea9a97a5e571",
   "metadata": {
    "execution": {
     "iopub.execute_input": "2022-07-11T13:17:42.694237Z",
     "iopub.status.busy": "2022-07-11T13:17:42.693149Z",
     "iopub.status.idle": "2022-07-11T13:17:42.707700Z",
     "shell.execute_reply": "2022-07-11T13:17:42.706471Z"
    },
    "papermill": {
     "duration": 0.021622,
     "end_time": "2022-07-11T13:17:42.709413",
     "exception": false,
     "start_time": "2022-07-11T13:17:42.687791",
     "status": "completed"
    },
    "tags": []
   },
   "outputs": [
    {
     "data": {
      "text/html": [
       "'/opt/data/data/phenomexcan/ld_blocks/gene_corrs/1000g/mashr/by_chr/corrected_positive_definite'"
      ],
      "text/latex": [
       "'/opt/data/data/phenomexcan/ld\\_blocks/gene\\_corrs/1000g/mashr/by\\_chr/corrected\\_positive\\_definite'"
      ],
      "text/markdown": [
       "'/opt/data/data/phenomexcan/ld_blocks/gene_corrs/1000g/mashr/by_chr/corrected_positive_definite'"
      ],
      "text/plain": [
       "[1] \"/opt/data/data/phenomexcan/ld_blocks/gene_corrs/1000g/mashr/by_chr/corrected_positive_definite\""
      ]
     },
     "metadata": {},
     "output_type": "display_data"
    }
   ],
   "source": [
    "OUTPUT_DIR <- file.path(INPUT_DIR, \"corrected_positive_definite\")\n",
    "IRdisplay::display(OUTPUT_DIR)\n",
    "dir.create(OUTPUT_DIR, recursive = TRUE, showWarnings = FALSE)"
   ]
  },
  {
   "cell_type": "code",
   "execution_count": 11,
   "id": "f9f19d1d-ce4c-4099-a26e-250fec751de7",
   "metadata": {
    "execution": {
     "iopub.execute_input": "2022-07-11T13:17:42.720051Z",
     "iopub.status.busy": "2022-07-11T13:17:42.719033Z",
     "iopub.status.idle": "2022-07-11T13:17:42.732780Z",
     "shell.execute_reply": "2022-07-11T13:17:42.731606Z"
    },
    "papermill": {
     "duration": 0.020587,
     "end_time": "2022-07-11T13:17:42.734459",
     "exception": false,
     "start_time": "2022-07-11T13:17:42.713872",
     "status": "completed"
    },
    "tags": []
   },
   "outputs": [
    {
     "data": {
      "text/html": [
       "'/opt/data/data/phenomexcan/ld_blocks/gene_corrs/1000g/mashr/by_chr/corrected_positive_definite/gene_corrs-chr9.pkl'"
      ],
      "text/latex": [
       "'/opt/data/data/phenomexcan/ld\\_blocks/gene\\_corrs/1000g/mashr/by\\_chr/corrected\\_positive\\_definite/gene\\_corrs-chr9.pkl'"
      ],
      "text/markdown": [
       "'/opt/data/data/phenomexcan/ld_blocks/gene_corrs/1000g/mashr/by_chr/corrected_positive_definite/gene_corrs-chr9.pkl'"
      ],
      "text/plain": [
       "[1] \"/opt/data/data/phenomexcan/ld_blocks/gene_corrs/1000g/mashr/by_chr/corrected_positive_definite/gene_corrs-chr9.pkl\""
      ]
     },
     "metadata": {},
     "output_type": "display_data"
    }
   ],
   "source": [
    "OUTPUT_FILE <- file.path(OUTPUT_DIR, paste0(\"gene_corrs-chr\", chromosome, \".pkl\"))\n",
    "IRdisplay::display(OUTPUT_FILE)\n",
    "if (file.exists(OUTPUT_FILE)) {\n",
    "  IRdisplay::display(\"Output file exists, it will be overwritten\")\n",
    "}"
   ]
  },
  {
   "cell_type": "markdown",
   "id": "24973e62-e888-4b56-843f-489d8d0762b5",
   "metadata": {
    "papermill": {
     "duration": 0.003986,
     "end_time": "2022-07-11T13:17:42.742655",
     "exception": false,
     "start_time": "2022-07-11T13:17:42.738669",
     "status": "completed"
    },
    "tags": []
   },
   "source": [
    "# Functions"
   ]
  },
  {
   "cell_type": "code",
   "execution_count": 12,
   "id": "f828f081-7358-4cc8-8a89-1ee293bcc1a7",
   "metadata": {
    "execution": {
     "iopub.execute_input": "2022-07-11T13:17:42.756066Z",
     "iopub.status.busy": "2022-07-11T13:17:42.752048Z",
     "iopub.status.idle": "2022-07-11T13:17:42.764345Z",
     "shell.execute_reply": "2022-07-11T13:17:42.763184Z"
    },
    "papermill": {
     "duration": 0.019125,
     "end_time": "2022-07-11T13:17:42.766031",
     "exception": false,
     "start_time": "2022-07-11T13:17:42.746906",
     "status": "completed"
    },
    "tags": []
   },
   "outputs": [],
   "source": [
    "# taken from https://www.r-bloggers.com/2013/08/correcting-a-pseudo-correlation-matrix-to-be-positive-semidefinite/\n",
    "# TODO: add documentation\n",
    "CorrectCM <- function(CM, p = 0) {\n",
    "  n <- dim(var(CM))[1L]\n",
    "  E <- eigen(CM)\n",
    "  CM1 <- E$vectors %*% tcrossprod(diag(pmax(E$values, p), n), E$vectors)\n",
    "  Balance <- diag(1 / sqrt(diag(CM1)))\n",
    "  CM2 <- Balance %*% CM1 %*% Balance\n",
    "  return(CM2)\n",
    "}"
   ]
  },
  {
   "cell_type": "code",
   "execution_count": 13,
   "id": "7ab9bebf-50a1-4e6f-b16a-e23cae93d02a",
   "metadata": {
    "execution": {
     "iopub.execute_input": "2022-07-11T13:17:42.776499Z",
     "iopub.status.busy": "2022-07-11T13:17:42.775499Z",
     "iopub.status.idle": "2022-07-11T13:17:42.784192Z",
     "shell.execute_reply": "2022-07-11T13:17:42.783013Z"
    },
    "papermill": {
     "duration": 0.015474,
     "end_time": "2022-07-11T13:17:42.785802",
     "exception": false,
     "start_time": "2022-07-11T13:17:42.770328",
     "status": "completed"
    },
    "tags": []
   },
   "outputs": [],
   "source": [
    "is_positive_definite <- function(data) {\n",
    "  # eigenvalues <- eigen(data)$values\n",
    "  # nonpositive_eigenvalues <- eigenvalues[eigenvalues <= 0]\n",
    "\n",
    "  cholStatus <- try(u <- chol(data), silent = FALSE)\n",
    "  cholError <- ifelse(class(cholStatus) == \"try-error\", TRUE, FALSE)\n",
    "\n",
    "  if (cholError) {\n",
    "    return(FALSE)\n",
    "  } else {\n",
    "    return(TRUE)\n",
    "  }\n",
    "}"
   ]
  },
  {
   "cell_type": "markdown",
   "id": "7403fd78-00b2-4941-9c07-3c3af1ddc636",
   "metadata": {
    "papermill": {
     "duration": 0.003871,
     "end_time": "2022-07-11T13:17:42.794392",
     "exception": false,
     "start_time": "2022-07-11T13:17:42.790521",
     "status": "completed"
    },
    "tags": []
   },
   "source": [
    "# Load data"
   ]
  },
  {
   "cell_type": "code",
   "execution_count": 14,
   "id": "3a7744e1-2e5a-450e-9dcf-945ec181347d",
   "metadata": {
    "execution": {
     "iopub.execute_input": "2022-07-11T13:17:42.803943Z",
     "iopub.status.busy": "2022-07-11T13:17:42.803002Z",
     "iopub.status.idle": "2022-07-11T13:17:42.839034Z",
     "shell.execute_reply": "2022-07-11T13:17:42.837937Z"
    },
    "papermill": {
     "duration": 0.042261,
     "end_time": "2022-07-11T13:17:42.840531",
     "exception": false,
     "start_time": "2022-07-11T13:17:42.798270",
     "status": "completed"
    },
    "tags": []
   },
   "outputs": [],
   "source": [
    "gene_corrs <- pd$read_pickle(INPUT_FILE)"
   ]
  },
  {
   "cell_type": "code",
   "execution_count": 15,
   "id": "6fb150b2-4c68-4e9b-9aa5-1890d3f762e3",
   "metadata": {
    "execution": {
     "iopub.execute_input": "2022-07-11T13:17:42.850490Z",
     "iopub.status.busy": "2022-07-11T13:17:42.849565Z",
     "iopub.status.idle": "2022-07-11T13:17:42.859862Z",
     "shell.execute_reply": "2022-07-11T13:17:42.858742Z"
    },
    "papermill": {
     "duration": 0.016771,
     "end_time": "2022-07-11T13:17:42.861433",
     "exception": false,
     "start_time": "2022-07-11T13:17:42.844662",
     "status": "completed"
    },
    "tags": []
   },
   "outputs": [
    {
     "data": {
      "text/html": [
       "<style>\n",
       ".list-inline {list-style: none; margin:0; padding: 0}\n",
       ".list-inline>li {display: inline-block}\n",
       ".list-inline>li:not(:last-child)::after {content: \"\\00b7\"; padding: 0 .5ex}\n",
       "</style>\n",
       "<ol class=list-inline><li>245</li><li>245</li></ol>\n"
      ],
      "text/latex": [
       "\\begin{enumerate*}\n",
       "\\item 245\n",
       "\\item 245\n",
       "\\end{enumerate*}\n"
      ],
      "text/markdown": [
       "1. 245\n",
       "2. 245\n",
       "\n",
       "\n"
      ],
      "text/plain": [
       "[1] 245 245"
      ]
     },
     "metadata": {},
     "output_type": "display_data"
    }
   ],
   "source": [
    "dim(gene_corrs)"
   ]
  },
  {
   "cell_type": "code",
   "execution_count": 16,
   "id": "0d4e53b5-7586-4a68-8ce5-d930d74ba943",
   "metadata": {
    "execution": {
     "iopub.execute_input": "2022-07-11T13:17:42.871926Z",
     "iopub.status.busy": "2022-07-11T13:17:42.870955Z",
     "iopub.status.idle": "2022-07-11T13:17:42.890275Z",
     "shell.execute_reply": "2022-07-11T13:17:42.889095Z"
    },
    "papermill": {
     "duration": 0.02628,
     "end_time": "2022-07-11T13:17:42.891991",
     "exception": false,
     "start_time": "2022-07-11T13:17:42.865711",
     "status": "completed"
    },
    "tags": []
   },
   "outputs": [
    {
     "data": {
      "text/html": [
       "<table class=\"dataframe\">\n",
       "<caption>A data.frame: 6 × 10</caption>\n",
       "<thead>\n",
       "\t<tr><th></th><th scope=col>ENSG00000107099</th><th scope=col>ENSG00000080503</th><th scope=col>ENSG00000147852</th><th scope=col>ENSG00000107249</th><th scope=col>ENSG00000147853</th><th scope=col>ENSG00000096968</th><th scope=col>ENSG00000107014</th><th scope=col>ENSG00000120217</th><th scope=col>ENSG00000197646</th><th scope=col>ENSG00000178445</th></tr>\n",
       "\t<tr><th></th><th scope=col>&lt;dbl&gt;</th><th scope=col>&lt;dbl&gt;</th><th scope=col>&lt;dbl&gt;</th><th scope=col>&lt;dbl&gt;</th><th scope=col>&lt;dbl&gt;</th><th scope=col>&lt;dbl&gt;</th><th scope=col>&lt;dbl&gt;</th><th scope=col>&lt;dbl&gt;</th><th scope=col>&lt;dbl&gt;</th><th scope=col>&lt;dbl&gt;</th></tr>\n",
       "</thead>\n",
       "<tbody>\n",
       "\t<tr><th scope=row>ENSG00000107099</th><td>1.00000000</td><td>0.01057825</td><td>0.02791791</td><td>0.01164045</td><td>0.01793000</td><td>0.01054800</td><td>0.006666575</td><td>0.01339420</td><td>0.000000000</td><td>0.00000000</td></tr>\n",
       "\t<tr><th scope=row>ENSG00000080503</th><td>0.01057825</td><td>1.00000000</td><td>0.01988156</td><td>0.01206243</td><td>0.01027756</td><td>0.01165786</td><td>0.008593200</td><td>0.01377075</td><td>0.007175303</td><td>0.01146957</td></tr>\n",
       "\t<tr><th scope=row>ENSG00000147852</th><td>0.02791791</td><td>0.01988156</td><td>1.00000000</td><td>0.02412738</td><td>0.02149284</td><td>0.03202650</td><td>0.017601711</td><td>0.02520868</td><td>0.015091230</td><td>0.01899581</td></tr>\n",
       "\t<tr><th scope=row>ENSG00000107249</th><td>0.01164045</td><td>0.01206243</td><td>0.02412738</td><td>1.00000000</td><td>0.02287431</td><td>0.01872863</td><td>0.011897316</td><td>0.01554751</td><td>0.009183990</td><td>0.01368105</td></tr>\n",
       "\t<tr><th scope=row>ENSG00000147853</th><td>0.01793000</td><td>0.01027756</td><td>0.02149284</td><td>0.02287431</td><td>1.00000000</td><td>0.03233564</td><td>0.012457568</td><td>0.01512674</td><td>0.013068724</td><td>0.01624216</td></tr>\n",
       "\t<tr><th scope=row>ENSG00000096968</th><td>0.01054800</td><td>0.01165786</td><td>0.03202650</td><td>0.01872863</td><td>0.03233564</td><td>1.00000000</td><td>0.122253364</td><td>0.02679112</td><td>0.013067341</td><td>0.02263223</td></tr>\n",
       "</tbody>\n",
       "</table>\n"
      ],
      "text/latex": [
       "A data.frame: 6 × 10\n",
       "\\begin{tabular}{r|llllllllll}\n",
       "  & ENSG00000107099 & ENSG00000080503 & ENSG00000147852 & ENSG00000107249 & ENSG00000147853 & ENSG00000096968 & ENSG00000107014 & ENSG00000120217 & ENSG00000197646 & ENSG00000178445\\\\\n",
       "  & <dbl> & <dbl> & <dbl> & <dbl> & <dbl> & <dbl> & <dbl> & <dbl> & <dbl> & <dbl>\\\\\n",
       "\\hline\n",
       "\tENSG00000107099 & 1.00000000 & 0.01057825 & 0.02791791 & 0.01164045 & 0.01793000 & 0.01054800 & 0.006666575 & 0.01339420 & 0.000000000 & 0.00000000\\\\\n",
       "\tENSG00000080503 & 0.01057825 & 1.00000000 & 0.01988156 & 0.01206243 & 0.01027756 & 0.01165786 & 0.008593200 & 0.01377075 & 0.007175303 & 0.01146957\\\\\n",
       "\tENSG00000147852 & 0.02791791 & 0.01988156 & 1.00000000 & 0.02412738 & 0.02149284 & 0.03202650 & 0.017601711 & 0.02520868 & 0.015091230 & 0.01899581\\\\\n",
       "\tENSG00000107249 & 0.01164045 & 0.01206243 & 0.02412738 & 1.00000000 & 0.02287431 & 0.01872863 & 0.011897316 & 0.01554751 & 0.009183990 & 0.01368105\\\\\n",
       "\tENSG00000147853 & 0.01793000 & 0.01027756 & 0.02149284 & 0.02287431 & 1.00000000 & 0.03233564 & 0.012457568 & 0.01512674 & 0.013068724 & 0.01624216\\\\\n",
       "\tENSG00000096968 & 0.01054800 & 0.01165786 & 0.03202650 & 0.01872863 & 0.03233564 & 1.00000000 & 0.122253364 & 0.02679112 & 0.013067341 & 0.02263223\\\\\n",
       "\\end{tabular}\n"
      ],
      "text/markdown": [
       "\n",
       "A data.frame: 6 × 10\n",
       "\n",
       "| <!--/--> | ENSG00000107099 &lt;dbl&gt; | ENSG00000080503 &lt;dbl&gt; | ENSG00000147852 &lt;dbl&gt; | ENSG00000107249 &lt;dbl&gt; | ENSG00000147853 &lt;dbl&gt; | ENSG00000096968 &lt;dbl&gt; | ENSG00000107014 &lt;dbl&gt; | ENSG00000120217 &lt;dbl&gt; | ENSG00000197646 &lt;dbl&gt; | ENSG00000178445 &lt;dbl&gt; |\n",
       "|---|---|---|---|---|---|---|---|---|---|---|\n",
       "| ENSG00000107099 | 1.00000000 | 0.01057825 | 0.02791791 | 0.01164045 | 0.01793000 | 0.01054800 | 0.006666575 | 0.01339420 | 0.000000000 | 0.00000000 |\n",
       "| ENSG00000080503 | 0.01057825 | 1.00000000 | 0.01988156 | 0.01206243 | 0.01027756 | 0.01165786 | 0.008593200 | 0.01377075 | 0.007175303 | 0.01146957 |\n",
       "| ENSG00000147852 | 0.02791791 | 0.01988156 | 1.00000000 | 0.02412738 | 0.02149284 | 0.03202650 | 0.017601711 | 0.02520868 | 0.015091230 | 0.01899581 |\n",
       "| ENSG00000107249 | 0.01164045 | 0.01206243 | 0.02412738 | 1.00000000 | 0.02287431 | 0.01872863 | 0.011897316 | 0.01554751 | 0.009183990 | 0.01368105 |\n",
       "| ENSG00000147853 | 0.01793000 | 0.01027756 | 0.02149284 | 0.02287431 | 1.00000000 | 0.03233564 | 0.012457568 | 0.01512674 | 0.013068724 | 0.01624216 |\n",
       "| ENSG00000096968 | 0.01054800 | 0.01165786 | 0.03202650 | 0.01872863 | 0.03233564 | 1.00000000 | 0.122253364 | 0.02679112 | 0.013067341 | 0.02263223 |\n",
       "\n"
      ],
      "text/plain": [
       "                ENSG00000107099 ENSG00000080503 ENSG00000147852 ENSG00000107249\n",
       "ENSG00000107099 1.00000000      0.01057825      0.02791791      0.01164045     \n",
       "ENSG00000080503 0.01057825      1.00000000      0.01988156      0.01206243     \n",
       "ENSG00000147852 0.02791791      0.01988156      1.00000000      0.02412738     \n",
       "ENSG00000107249 0.01164045      0.01206243      0.02412738      1.00000000     \n",
       "ENSG00000147853 0.01793000      0.01027756      0.02149284      0.02287431     \n",
       "ENSG00000096968 0.01054800      0.01165786      0.03202650      0.01872863     \n",
       "                ENSG00000147853 ENSG00000096968 ENSG00000107014 ENSG00000120217\n",
       "ENSG00000107099 0.01793000      0.01054800      0.006666575     0.01339420     \n",
       "ENSG00000080503 0.01027756      0.01165786      0.008593200     0.01377075     \n",
       "ENSG00000147852 0.02149284      0.03202650      0.017601711     0.02520868     \n",
       "ENSG00000107249 0.02287431      0.01872863      0.011897316     0.01554751     \n",
       "ENSG00000147853 1.00000000      0.03233564      0.012457568     0.01512674     \n",
       "ENSG00000096968 0.03233564      1.00000000      0.122253364     0.02679112     \n",
       "                ENSG00000197646 ENSG00000178445\n",
       "ENSG00000107099 0.000000000     0.00000000     \n",
       "ENSG00000080503 0.007175303     0.01146957     \n",
       "ENSG00000147852 0.015091230     0.01899581     \n",
       "ENSG00000107249 0.009183990     0.01368105     \n",
       "ENSG00000147853 0.013068724     0.01624216     \n",
       "ENSG00000096968 0.013067341     0.02263223     "
      ]
     },
     "metadata": {},
     "output_type": "display_data"
    }
   ],
   "source": [
    "head(gene_corrs[1:10, 1:10])"
   ]
  },
  {
   "cell_type": "markdown",
   "id": "d6cbc88a-2c90-4d11-b7dd-434f046fd03c",
   "metadata": {
    "papermill": {
     "duration": 0.004445,
     "end_time": "2022-07-11T13:17:42.901058",
     "exception": false,
     "start_time": "2022-07-11T13:17:42.896613",
     "status": "completed"
    },
    "tags": []
   },
   "source": [
    "# Check positive definiteness"
   ]
  },
  {
   "cell_type": "code",
   "execution_count": 17,
   "id": "a858a061-7c5a-4a6b-8026-fe4de50c1f26",
   "metadata": {
    "execution": {
     "iopub.execute_input": "2022-07-11T13:17:42.912232Z",
     "iopub.status.busy": "2022-07-11T13:17:42.911227Z",
     "iopub.status.idle": "2022-07-11T13:17:42.924909Z",
     "shell.execute_reply": "2022-07-11T13:17:42.921460Z"
    },
    "papermill": {
     "duration": 0.020827,
     "end_time": "2022-07-11T13:17:42.926497",
     "exception": false,
     "start_time": "2022-07-11T13:17:42.905670",
     "status": "completed"
    },
    "tags": []
   },
   "outputs": [],
   "source": [
    "orig_matrix_is_positive_definite <- is_positive_definite(gene_corrs)"
   ]
  },
  {
   "cell_type": "code",
   "execution_count": 18,
   "id": "410ee452-488f-4518-b93a-2acd608ba99c",
   "metadata": {
    "execution": {
     "iopub.execute_input": "2022-07-11T13:17:42.944011Z",
     "iopub.status.busy": "2022-07-11T13:17:42.943007Z",
     "iopub.status.idle": "2022-07-11T13:17:42.969614Z",
     "shell.execute_reply": "2022-07-11T13:17:42.966481Z"
    },
    "papermill": {
     "duration": 0.038462,
     "end_time": "2022-07-11T13:17:42.971234",
     "exception": false,
     "start_time": "2022-07-11T13:17:42.932772",
     "status": "completed"
    },
    "tags": []
   },
   "outputs": [
    {
     "data": {
      "text/html": [
       "'Matrix is already positive definite!'"
      ],
      "text/latex": [
       "'Matrix is already positive definite!'"
      ],
      "text/markdown": [
       "'Matrix is already positive definite!'"
      ],
      "text/plain": [
       "[1] \"Matrix is already positive definite!\""
      ]
     },
     "metadata": {},
     "output_type": "display_data"
    },
    {
     "data": {
      "text/html": [
       "TRUE"
      ],
      "text/latex": [
       "TRUE"
      ],
      "text/markdown": [
       "TRUE"
      ],
      "text/plain": [
       "[1] TRUE"
      ]
     },
     "metadata": {},
     "output_type": "display_data"
    }
   ],
   "source": [
    "if (orig_matrix_is_positive_definite) {\n",
    "  IRdisplay::display(\"Matrix is already positive definite!\")\n",
    "  file.copy(INPUT_FILE, OUTPUT_FILE)\n",
    "} else {\n",
    "  IRdisplay::display(\"We need to correct the data and make the matrix positive definite\")\n",
    "\n",
    "  eigenvalues <- eigen(gene_corrs)$values\n",
    "  nonpositive_eigenvalues <- eigenvalues[eigenvalues <= 0]\n",
    "  IRdisplay::display(length(nonpositive_eigenvalues))\n",
    "  IRdisplay::display(nonpositive_eigenvalues)\n",
    "\n",
    "  # Make matrix positive definite\n",
    "  gene_corrs_corrected <- CorrectCM(gene_corrs, 1e-10)\n",
    "  dimnames(gene_corrs_corrected)[[1]] <- rownames(gene_corrs)\n",
    "  dimnames(gene_corrs_corrected)[[2]] <- colnames(gene_corrs)\n",
    "  gene_corrs_corrected <- as.data.frame(gene_corrs_corrected)\n",
    "\n",
    "  # check if new matrix is really positive definite\n",
    "  matrix_is_positive_definite <- is_positive_definite(gene_corrs_corrected)\n",
    "  if (matrix_is_positive_definite) {\n",
    "    IRdisplay::display(\"It worked!\")\n",
    "    IRdisplay::display(head(gene_corrs[1:10, 1:10]))\n",
    "    IRdisplay::display(head(gene_corrs_corrected[1:10, 1:10]))\n",
    "    py_save_object(gene_corrs_corrected, OUTPUT_FILE)\n",
    "  } else {\n",
    "    eigenvalues <- eigen(gene_corrs_corrected)$values\n",
    "    nonpositive_eigenvalues <- eigenvalues[eigenvalues <= 0]\n",
    "    IRdisplay::display(length(nonpositive_eigenvalues))\n",
    "    IRdisplay::display(nonpositive_eigenvalues)\n",
    "\n",
    "    stop(\"Method failed to adjust matrix\")\n",
    "  }\n",
    "}"
   ]
  },
  {
   "cell_type": "markdown",
   "id": "6c196700-7491-462f-bab8-ab9d40c63499",
   "metadata": {
    "papermill": {
     "duration": 0.009161,
     "end_time": "2022-07-11T13:17:42.986966",
     "exception": false,
     "start_time": "2022-07-11T13:17:42.977805",
     "status": "completed"
    },
    "tags": []
   },
   "source": [
    "Both matrices should \"look\" similar. We are not interested in perfectly accurate correlation values (they are already inaccurate)."
   ]
  },
  {
   "cell_type": "code",
   "execution_count": null,
   "id": "d8ae4220-2171-460c-9231-cd5219f3fe77",
   "metadata": {
    "papermill": {
     "duration": 0.00835,
     "end_time": "2022-07-11T13:17:43.004898",
     "exception": false,
     "start_time": "2022-07-11T13:17:42.996548",
     "status": "completed"
    },
    "tags": []
   },
   "outputs": [],
   "source": []
  }
 ],
 "metadata": {
  "jupytext": {
   "cell_metadata_filter": "all,-execution,-papermill,-trusted"
  },
  "kernelspec": {
   "display_name": "R",
   "language": "R",
   "name": "ir"
  },
  "language_info": {
   "codemirror_mode": "r",
   "file_extension": ".r",
   "mimetype": "text/x-r-source",
   "name": "R",
   "pygments_lexer": "r",
   "version": "3.6.3"
  },
  "papermill": {
   "default_parameters": {},
   "duration": 5.364518,
   "end_time": "2022-07-11T13:17:43.126429",
   "environment_variables": {},
   "exception": null,
   "input_path": "nbs/15_gsa_gls/12-gene_expr_correlations-adjust.ipynb",
   "output_path": "nbs/15_gsa_gls/gene_corrs/1000g/mashr/12-gene_expr_correlations-adjust-chr9.run.ipynb",
   "parameters": {
    "EQTL_MODEL": "MASHR",
    "REFERENCE_PANEL": "1000G",
    "chromosome": 9
   },
   "start_time": "2022-07-11T13:17:37.761911",
   "version": "2.3.4"
  }
 },
 "nbformat": 4,
 "nbformat_minor": 5
}
