{
 "cells": [
  {
   "cell_type": "markdown",
   "id": "7a6632fb",
   "metadata": {
    "papermill": {
     "duration": 0.014025,
     "end_time": "2022-07-11T06:55:55.406056",
     "exception": false,
     "start_time": "2022-07-11T06:55:55.392031",
     "status": "completed"
    },
    "tags": []
   },
   "source": [
    "# Description"
   ]
  },
  {
   "cell_type": "markdown",
   "id": "7097c346",
   "metadata": {
    "papermill": {
     "duration": 0.013325,
     "end_time": "2022-07-11T06:55:55.424702",
     "exception": false,
     "start_time": "2022-07-11T06:55:55.411377",
     "status": "completed"
    },
    "tags": []
   },
   "source": [
    "(Please, take a look at the README.md file in this directory for instructions on how to run this notebook)\n",
    "\n",
    "This notebook computes predicted expression correlations between all genes in the MultiPLIER models.\n",
    "\n",
    "It also has a parameter set for papermill to run on a single chromosome to run in parallel (see under `Settings` below).\n",
    "\n",
    "This notebook is not directly run. See README.md."
   ]
  },
  {
   "cell_type": "markdown",
   "id": "c61d8427",
   "metadata": {
    "papermill": {
     "duration": 0.005171,
     "end_time": "2022-07-11T06:55:55.436519",
     "exception": false,
     "start_time": "2022-07-11T06:55:55.431348",
     "status": "completed"
    },
    "tags": []
   },
   "source": [
    "# Modules"
   ]
  },
  {
   "cell_type": "code",
   "execution_count": 1,
   "id": "bbc0234f",
   "metadata": {
    "execution": {
     "iopub.execute_input": "2022-07-11T06:55:55.448318Z",
     "iopub.status.busy": "2022-07-11T06:55:55.448060Z",
     "iopub.status.idle": "2022-07-11T06:55:55.462866Z",
     "shell.execute_reply": "2022-07-11T06:55:55.462465Z"
    },
    "papermill": {
     "duration": 0.022515,
     "end_time": "2022-07-11T06:55:55.464284",
     "exception": false,
     "start_time": "2022-07-11T06:55:55.441769",
     "status": "completed"
    },
    "tags": []
   },
   "outputs": [],
   "source": [
    "%load_ext autoreload\n",
    "%autoreload 2"
   ]
  },
  {
   "cell_type": "code",
   "execution_count": 2,
   "id": "1d5f5a59",
   "metadata": {
    "execution": {
     "iopub.execute_input": "2022-07-11T06:55:55.479664Z",
     "iopub.status.busy": "2022-07-11T06:55:55.476765Z",
     "iopub.status.idle": "2022-07-11T06:55:56.439282Z",
     "shell.execute_reply": "2022-07-11T06:55:56.438867Z"
    },
    "papermill": {
     "duration": 0.970553,
     "end_time": "2022-07-11T06:55:56.440600",
     "exception": false,
     "start_time": "2022-07-11T06:55:55.470047",
     "status": "completed"
    },
    "tags": []
   },
   "outputs": [],
   "source": [
    "from random import sample, seed\n",
    "import warnings\n",
    "from pathlib import Path\n",
    "\n",
    "import numpy as np\n",
    "from scipy.spatial.distance import squareform\n",
    "import pandas as pd\n",
    "from tqdm import tqdm\n",
    "import matplotlib.pyplot as plt\n",
    "import seaborn as sns\n",
    "\n",
    "import conf\n",
    "from entity import Gene"
   ]
  },
  {
   "cell_type": "markdown",
   "id": "1eac24b5",
   "metadata": {
    "papermill": {
     "duration": 0.006257,
     "end_time": "2022-07-11T06:55:56.480312",
     "exception": false,
     "start_time": "2022-07-11T06:55:56.474055",
     "status": "completed"
    },
    "tags": []
   },
   "source": [
    "# Settings"
   ]
  },
  {
   "cell_type": "code",
   "execution_count": 3,
   "id": "ca4560ba",
   "metadata": {
    "execution": {
     "iopub.execute_input": "2022-07-11T06:55:56.493345Z",
     "iopub.status.busy": "2022-07-11T06:55:56.493169Z",
     "iopub.status.idle": "2022-07-11T06:55:56.520793Z",
     "shell.execute_reply": "2022-07-11T06:55:56.520399Z"
    },
    "papermill": {
     "duration": 0.035791,
     "end_time": "2022-07-11T06:55:56.522193",
     "exception": false,
     "start_time": "2022-07-11T06:55:56.486402",
     "status": "completed"
    },
    "tags": [
     "parameters"
    ]
   },
   "outputs": [],
   "source": [
    "# reference panel\n",
    "REFERENCE_PANEL = \"GTEX_V8\"\n",
    "# REFERENCE_PANEL = \"1000G\"\n",
    "\n",
    "# prediction models\n",
    "## mashr\n",
    "EQTL_MODEL = \"MASHR\"\n",
    "\n",
    "# this is the default value used in S-MultiXcan to select the\n",
    "# top principal components of the expression correlation matrix\n",
    "SMULTIXCAN_CONDITION_NUMBER = 30\n",
    "\n",
    "# specifies a single chromosome value\n",
    "# by default, run on all chromosomes\n",
    "chromosome = None"
   ]
  },
  {
   "cell_type": "code",
   "execution_count": 4,
   "id": "ac325403",
   "metadata": {
    "execution": {
     "iopub.execute_input": "2022-07-11T06:55:56.542306Z",
     "iopub.status.busy": "2022-07-11T06:55:56.542146Z",
     "iopub.status.idle": "2022-07-11T06:55:56.567518Z",
     "shell.execute_reply": "2022-07-11T06:55:56.567090Z"
    },
    "papermill": {
     "duration": 0.038038,
     "end_time": "2022-07-11T06:55:56.569078",
     "exception": false,
     "start_time": "2022-07-11T06:55:56.531040",
     "status": "completed"
    },
    "tags": [
     "injected-parameters"
    ]
   },
   "outputs": [],
   "source": [
    "# Parameters\n",
    "chromosome = 11\n",
    "REFERENCE_PANEL = \"1000G\"\n",
    "EQTL_MODEL = \"MASHR\"\n"
   ]
  },
  {
   "cell_type": "code",
   "execution_count": 5,
   "id": "a089c9ff",
   "metadata": {
    "execution": {
     "iopub.execute_input": "2022-07-11T06:55:56.582571Z",
     "iopub.status.busy": "2022-07-11T06:55:56.582394Z",
     "iopub.status.idle": "2022-07-11T06:55:56.599912Z",
     "shell.execute_reply": "2022-07-11T06:55:56.599453Z"
    },
    "papermill": {
     "duration": 0.026014,
     "end_time": "2022-07-11T06:55:56.601539",
     "exception": false,
     "start_time": "2022-07-11T06:55:56.575525",
     "status": "completed"
    },
    "tags": []
   },
   "outputs": [],
   "source": [
    "EQTL_MODEL_FILES_PREFIX = conf.PHENOMEXCAN[\"PREDICTION_MODELS\"][f\"{EQTL_MODEL}_PREFIX\"]"
   ]
  },
  {
   "cell_type": "code",
   "execution_count": 6,
   "id": "8fe24bef",
   "metadata": {
    "execution": {
     "iopub.execute_input": "2022-07-11T06:55:56.615481Z",
     "iopub.status.busy": "2022-07-11T06:55:56.615302Z",
     "iopub.status.idle": "2022-07-11T06:55:56.635771Z",
     "shell.execute_reply": "2022-07-11T06:55:56.635315Z"
    },
    "papermill": {
     "duration": 0.02915,
     "end_time": "2022-07-11T06:55:56.637298",
     "exception": false,
     "start_time": "2022-07-11T06:55:56.608148",
     "status": "completed"
    },
    "tags": []
   },
   "outputs": [
    {
     "data": {
      "text/plain": [
       "'Using eQTL model: MASHR / mashr_'"
      ]
     },
     "metadata": {},
     "output_type": "display_data"
    }
   ],
   "source": [
    "display(f\"Using eQTL model: {EQTL_MODEL} / {EQTL_MODEL_FILES_PREFIX}\")"
   ]
  },
  {
   "cell_type": "code",
   "execution_count": 7,
   "id": "552a7f63-a18c-4d3e-bb6a-94f99b431291",
   "metadata": {
    "execution": {
     "iopub.execute_input": "2022-07-11T06:55:56.650735Z",
     "iopub.status.busy": "2022-07-11T06:55:56.650561Z",
     "iopub.status.idle": "2022-07-11T06:55:56.668584Z",
     "shell.execute_reply": "2022-07-11T06:55:56.667913Z"
    },
    "papermill": {
     "duration": 0.02634,
     "end_time": "2022-07-11T06:55:56.669881",
     "exception": false,
     "start_time": "2022-07-11T06:55:56.643541",
     "status": "completed"
    },
    "tags": []
   },
   "outputs": [
    {
     "data": {
      "text/plain": [
       "'S-MultiXcan condition number: 30'"
      ]
     },
     "metadata": {},
     "output_type": "display_data"
    }
   ],
   "source": [
    "display(f\"S-MultiXcan condition number: {SMULTIXCAN_CONDITION_NUMBER}\")"
   ]
  },
  {
   "cell_type": "code",
   "execution_count": 8,
   "id": "0230ebcb-2c32-4b95-9292-d9a52038e70d",
   "metadata": {
    "execution": {
     "iopub.execute_input": "2022-07-11T06:55:56.692368Z",
     "iopub.status.busy": "2022-07-11T06:55:56.692208Z",
     "iopub.status.idle": "2022-07-11T06:55:56.716308Z",
     "shell.execute_reply": "2022-07-11T06:55:56.715909Z"
    },
    "papermill": {
     "duration": 0.03754,
     "end_time": "2022-07-11T06:55:56.717702",
     "exception": false,
     "start_time": "2022-07-11T06:55:56.680162",
     "status": "completed"
    },
    "tags": []
   },
   "outputs": [],
   "source": [
    "REFERENCE_PANEL_DIR = conf.PHENOMEXCAN[\"LD_BLOCKS\"][f\"{REFERENCE_PANEL}_GENOTYPE_DIR\"]"
   ]
  },
  {
   "cell_type": "code",
   "execution_count": 9,
   "id": "98c4a159-601d-4a22-a1ab-35bd451c25f9",
   "metadata": {
    "execution": {
     "iopub.execute_input": "2022-07-11T06:55:56.737923Z",
     "iopub.status.busy": "2022-07-11T06:55:56.737765Z",
     "iopub.status.idle": "2022-07-11T06:55:56.753707Z",
     "shell.execute_reply": "2022-07-11T06:55:56.753201Z"
    },
    "papermill": {
     "duration": 0.03162,
     "end_time": "2022-07-11T06:55:56.754988",
     "exception": false,
     "start_time": "2022-07-11T06:55:56.723368",
     "status": "completed"
    },
    "tags": []
   },
   "outputs": [
    {
     "data": {
      "text/plain": [
       "'Using reference panel folder: /opt/data/data/phenomexcan/ld_blocks/reference_panel_1000G'"
      ]
     },
     "metadata": {},
     "output_type": "display_data"
    }
   ],
   "source": [
    "display(f\"Using reference panel folder: {str(REFERENCE_PANEL_DIR)}\")"
   ]
  },
  {
   "cell_type": "code",
   "execution_count": 10,
   "id": "396392dc-0340-4540-9b02-e182b833f909",
   "metadata": {
    "execution": {
     "iopub.execute_input": "2022-07-11T06:55:56.767745Z",
     "iopub.status.busy": "2022-07-11T06:55:56.767287Z",
     "iopub.status.idle": "2022-07-11T06:55:56.781758Z",
     "shell.execute_reply": "2022-07-11T06:55:56.781367Z"
    },
    "papermill": {
     "duration": 0.022423,
     "end_time": "2022-07-11T06:55:56.783349",
     "exception": false,
     "start_time": "2022-07-11T06:55:56.760926",
     "status": "completed"
    },
    "tags": []
   },
   "outputs": [],
   "source": [
    "OUTPUT_DIR_BASE = (\n",
    "    conf.PHENOMEXCAN[\"LD_BLOCKS\"][f\"GENE_CORRS_DIR\"]\n",
    "    / REFERENCE_PANEL.lower()\n",
    "    / EQTL_MODEL.lower()\n",
    ")\n",
    "OUTPUT_DIR_BASE.mkdir(parents=True, exist_ok=True)"
   ]
  },
  {
   "cell_type": "code",
   "execution_count": 11,
   "id": "8942c2d3-e53c-4d63-a0eb-b6fce0574d36",
   "metadata": {
    "execution": {
     "iopub.execute_input": "2022-07-11T06:55:56.796422Z",
     "iopub.status.busy": "2022-07-11T06:55:56.796256Z",
     "iopub.status.idle": "2022-07-11T06:55:56.813387Z",
     "shell.execute_reply": "2022-07-11T06:55:56.812980Z"
    },
    "papermill": {
     "duration": 0.025071,
     "end_time": "2022-07-11T06:55:56.814730",
     "exception": false,
     "start_time": "2022-07-11T06:55:56.789659",
     "status": "completed"
    },
    "tags": []
   },
   "outputs": [
    {
     "data": {
      "text/plain": [
       "'Using output dir base: /opt/data/data/phenomexcan/ld_blocks/gene_corrs/1000g/mashr'"
      ]
     },
     "metadata": {},
     "output_type": "display_data"
    }
   ],
   "source": [
    "display(f\"Using output dir base: {OUTPUT_DIR_BASE}\")"
   ]
  },
  {
   "cell_type": "code",
   "execution_count": 12,
   "id": "408aa590",
   "metadata": {
    "execution": {
     "iopub.execute_input": "2022-07-11T06:55:56.828055Z",
     "iopub.status.busy": "2022-07-11T06:55:56.827569Z",
     "iopub.status.idle": "2022-07-11T06:55:56.843198Z",
     "shell.execute_reply": "2022-07-11T06:55:56.842782Z"
    },
    "papermill": {
     "duration": 0.023652,
     "end_time": "2022-07-11T06:55:56.844612",
     "exception": false,
     "start_time": "2022-07-11T06:55:56.820960",
     "status": "completed"
    },
    "tags": []
   },
   "outputs": [],
   "source": [
    "assert (\n",
    "    chromosome is not None\n",
    "), \"You have to select one chromosome (format: number between 1 and 22)\""
   ]
  },
  {
   "cell_type": "code",
   "execution_count": 13,
   "id": "c1c7dd06-80ff-453c-bcb7-0899edce75da",
   "metadata": {
    "execution": {
     "iopub.execute_input": "2022-07-11T06:55:56.857364Z",
     "iopub.status.busy": "2022-07-11T06:55:56.857206Z",
     "iopub.status.idle": "2022-07-11T06:55:56.873217Z",
     "shell.execute_reply": "2022-07-11T06:55:56.872783Z"
    },
    "papermill": {
     "duration": 0.023959,
     "end_time": "2022-07-11T06:55:56.874707",
     "exception": false,
     "start_time": "2022-07-11T06:55:56.850748",
     "status": "completed"
    },
    "tags": []
   },
   "outputs": [],
   "source": [
    "chromosome = str(chromosome)"
   ]
  },
  {
   "cell_type": "code",
   "execution_count": 14,
   "id": "bc17b84c-9c26-47a5-a3ab-7046e72f3ef4",
   "metadata": {
    "execution": {
     "iopub.execute_input": "2022-07-11T06:55:56.887845Z",
     "iopub.status.busy": "2022-07-11T06:55:56.887688Z",
     "iopub.status.idle": "2022-07-11T06:55:56.904646Z",
     "shell.execute_reply": "2022-07-11T06:55:56.904220Z"
    },
    "papermill": {
     "duration": 0.024876,
     "end_time": "2022-07-11T06:55:56.906036",
     "exception": false,
     "start_time": "2022-07-11T06:55:56.881160",
     "status": "completed"
    },
    "tags": []
   },
   "outputs": [
    {
     "data": {
      "text/plain": [
       "'Working on chromosome 11'"
      ]
     },
     "metadata": {},
     "output_type": "display_data"
    }
   ],
   "source": [
    "display(f\"Working on chromosome {chromosome}\")"
   ]
  },
  {
   "cell_type": "markdown",
   "id": "d2ba085e",
   "metadata": {
    "papermill": {
     "duration": 0.005832,
     "end_time": "2022-07-11T06:55:56.918320",
     "exception": false,
     "start_time": "2022-07-11T06:55:56.912488",
     "status": "completed"
    },
    "tags": []
   },
   "source": [
    "# Load data"
   ]
  },
  {
   "cell_type": "markdown",
   "id": "7bed0ce0-e7c7-4300-9a61-5412450b1904",
   "metadata": {
    "papermill": {
     "duration": 0.00581,
     "end_time": "2022-07-11T06:55:56.930009",
     "exception": false,
     "start_time": "2022-07-11T06:55:56.924199",
     "status": "completed"
    },
    "tags": []
   },
   "source": [
    "## Prediction model tissues"
   ]
  },
  {
   "cell_type": "code",
   "execution_count": 15,
   "id": "0847c065-0d69-4830-a07f-1c75115d17f5",
   "metadata": {
    "execution": {
     "iopub.execute_input": "2022-07-11T06:55:56.942819Z",
     "iopub.status.busy": "2022-07-11T06:55:56.942659Z",
     "iopub.status.idle": "2022-07-11T06:55:56.957631Z",
     "shell.execute_reply": "2022-07-11T06:55:56.957125Z"
    },
    "papermill": {
     "duration": 0.022942,
     "end_time": "2022-07-11T06:55:56.958923",
     "exception": false,
     "start_time": "2022-07-11T06:55:56.935981",
     "status": "completed"
    },
    "tags": []
   },
   "outputs": [],
   "source": [
    "prediction_model_tissues = conf.PHENOMEXCAN[\"PREDICTION_MODELS\"][\n",
    "    f\"{EQTL_MODEL}_TISSUES\"\n",
    "].split(\" \")"
   ]
  },
  {
   "cell_type": "code",
   "execution_count": 16,
   "id": "aaef70d1-30c6-4c6f-9d6b-abc8e9a0081f",
   "metadata": {
    "execution": {
     "iopub.execute_input": "2022-07-11T06:55:56.972495Z",
     "iopub.status.busy": "2022-07-11T06:55:56.972162Z",
     "iopub.status.idle": "2022-07-11T06:55:56.987329Z",
     "shell.execute_reply": "2022-07-11T06:55:56.986917Z"
    },
    "papermill": {
     "duration": 0.0275,
     "end_time": "2022-07-11T06:55:56.992537",
     "exception": false,
     "start_time": "2022-07-11T06:55:56.965037",
     "status": "completed"
    },
    "tags": []
   },
   "outputs": [
    {
     "data": {
      "text/plain": [
       "49"
      ]
     },
     "execution_count": 16,
     "metadata": {},
     "output_type": "execute_result"
    }
   ],
   "source": [
    "len(prediction_model_tissues)"
   ]
  },
  {
   "cell_type": "code",
   "execution_count": 17,
   "id": "ff35a099-c52d-465d-b863-0ee70c26208c",
   "metadata": {
    "execution": {
     "iopub.execute_input": "2022-07-11T06:55:57.012598Z",
     "iopub.status.busy": "2022-07-11T06:55:57.012382Z",
     "iopub.status.idle": "2022-07-11T06:55:57.040186Z",
     "shell.execute_reply": "2022-07-11T06:55:57.039792Z"
    },
    "papermill": {
     "duration": 0.036104,
     "end_time": "2022-07-11T06:55:57.041546",
     "exception": false,
     "start_time": "2022-07-11T06:55:57.005442",
     "status": "completed"
    },
    "tags": []
   },
   "outputs": [
    {
     "data": {
      "text/plain": [
       "['Skin_Not_Sun_Exposed_Suprapubic',\n",
       " 'Cells_EBV-transformed_lymphocytes',\n",
       " 'Brain_Frontal_Cortex_BA9',\n",
       " 'Kidney_Cortex',\n",
       " 'Brain_Substantia_nigra']"
      ]
     },
     "execution_count": 17,
     "metadata": {},
     "output_type": "execute_result"
    }
   ],
   "source": [
    "prediction_model_tissues[:5]"
   ]
  },
  {
   "cell_type": "markdown",
   "id": "abcc4b3d",
   "metadata": {
    "papermill": {
     "duration": 0.012179,
     "end_time": "2022-07-11T06:55:57.064334",
     "exception": false,
     "start_time": "2022-07-11T06:55:57.052155",
     "status": "completed"
    },
    "tags": []
   },
   "source": [
    "## MultiPLIER Z"
   ]
  },
  {
   "cell_type": "code",
   "execution_count": 18,
   "id": "c48ef527",
   "metadata": {
    "execution": {
     "iopub.execute_input": "2022-07-11T06:55:57.090013Z",
     "iopub.status.busy": "2022-07-11T06:55:57.089854Z",
     "iopub.status.idle": "2022-07-11T06:55:57.131350Z",
     "shell.execute_reply": "2022-07-11T06:55:57.130902Z"
    },
    "papermill": {
     "duration": 0.055695,
     "end_time": "2022-07-11T06:55:57.132706",
     "exception": false,
     "start_time": "2022-07-11T06:55:57.077011",
     "status": "completed"
    },
    "tags": []
   },
   "outputs": [],
   "source": [
    "multiplier_z_genes = pd.read_pickle(\n",
    "    conf.MULTIPLIER[\"MODEL_Z_MATRIX_FILE\"]\n",
    ").index.tolist()"
   ]
  },
  {
   "cell_type": "code",
   "execution_count": 19,
   "id": "0a4ecbd9",
   "metadata": {
    "execution": {
     "iopub.execute_input": "2022-07-11T06:55:57.149916Z",
     "iopub.status.busy": "2022-07-11T06:55:57.149740Z",
     "iopub.status.idle": "2022-07-11T06:55:57.167334Z",
     "shell.execute_reply": "2022-07-11T06:55:57.166946Z"
    },
    "papermill": {
     "duration": 0.026411,
     "end_time": "2022-07-11T06:55:57.168713",
     "exception": false,
     "start_time": "2022-07-11T06:55:57.142302",
     "status": "completed"
    },
    "tags": []
   },
   "outputs": [
    {
     "data": {
      "text/plain": [
       "6750"
      ]
     },
     "execution_count": 19,
     "metadata": {},
     "output_type": "execute_result"
    }
   ],
   "source": [
    "len(multiplier_z_genes)"
   ]
  },
  {
   "cell_type": "code",
   "execution_count": 20,
   "id": "115e8864",
   "metadata": {
    "execution": {
     "iopub.execute_input": "2022-07-11T06:55:57.182704Z",
     "iopub.status.busy": "2022-07-11T06:55:57.182507Z",
     "iopub.status.idle": "2022-07-11T06:55:57.199930Z",
     "shell.execute_reply": "2022-07-11T06:55:57.199522Z"
    },
    "papermill": {
     "duration": 0.025811,
     "end_time": "2022-07-11T06:55:57.201248",
     "exception": false,
     "start_time": "2022-07-11T06:55:57.175437",
     "status": "completed"
    },
    "tags": []
   },
   "outputs": [
    {
     "data": {
      "text/plain": [
       "['GAS6',\n",
       " 'MMP14',\n",
       " 'DSP',\n",
       " 'MARCKSL1',\n",
       " 'SPARC',\n",
       " 'CTSD',\n",
       " 'EPAS1',\n",
       " 'PALLD',\n",
       " 'PHC2',\n",
       " 'LGALS3BP']"
      ]
     },
     "execution_count": 20,
     "metadata": {},
     "output_type": "execute_result"
    }
   ],
   "source": [
    "multiplier_z_genes[:10]"
   ]
  },
  {
   "cell_type": "markdown",
   "id": "7dcb8db7",
   "metadata": {
    "papermill": {
     "duration": 0.006258,
     "end_time": "2022-07-11T06:55:57.214181",
     "exception": false,
     "start_time": "2022-07-11T06:55:57.207923",
     "status": "completed"
    },
    "tags": []
   },
   "source": [
    "## Get gene objects"
   ]
  },
  {
   "cell_type": "code",
   "execution_count": 21,
   "id": "bb932812",
   "metadata": {
    "execution": {
     "iopub.execute_input": "2022-07-11T06:55:57.227793Z",
     "iopub.status.busy": "2022-07-11T06:55:57.227624Z",
     "iopub.status.idle": "2022-07-11T06:55:57.250011Z",
     "shell.execute_reply": "2022-07-11T06:55:57.249593Z"
    },
    "papermill": {
     "duration": 0.030863,
     "end_time": "2022-07-11T06:55:57.251294",
     "exception": false,
     "start_time": "2022-07-11T06:55:57.220431",
     "status": "completed"
    },
    "tags": []
   },
   "outputs": [],
   "source": [
    "multiplier_gene_obj = {\n",
    "    gene_name: Gene(name=gene_name)\n",
    "    for gene_name in multiplier_z_genes\n",
    "    if gene_name in Gene.GENE_NAME_TO_ID_MAP\n",
    "}"
   ]
  },
  {
   "cell_type": "code",
   "execution_count": 22,
   "id": "39533214",
   "metadata": {
    "execution": {
     "iopub.execute_input": "2022-07-11T06:55:57.276058Z",
     "iopub.status.busy": "2022-07-11T06:55:57.275870Z",
     "iopub.status.idle": "2022-07-11T06:55:57.301242Z",
     "shell.execute_reply": "2022-07-11T06:55:57.300868Z"
    },
    "papermill": {
     "duration": 0.040073,
     "end_time": "2022-07-11T06:55:57.302381",
     "exception": false,
     "start_time": "2022-07-11T06:55:57.262308",
     "status": "completed"
    },
    "tags": []
   },
   "outputs": [
    {
     "data": {
      "text/plain": [
       "6454"
      ]
     },
     "execution_count": 22,
     "metadata": {},
     "output_type": "execute_result"
    }
   ],
   "source": [
    "len(multiplier_gene_obj)"
   ]
  },
  {
   "cell_type": "code",
   "execution_count": 23,
   "id": "9a5d0b84",
   "metadata": {
    "execution": {
     "iopub.execute_input": "2022-07-11T06:55:57.327407Z",
     "iopub.status.busy": "2022-07-11T06:55:57.327245Z",
     "iopub.status.idle": "2022-07-11T06:55:57.352455Z",
     "shell.execute_reply": "2022-07-11T06:55:57.352062Z"
    },
    "papermill": {
     "duration": 0.040506,
     "end_time": "2022-07-11T06:55:57.353649",
     "exception": false,
     "start_time": "2022-07-11T06:55:57.313143",
     "status": "completed"
    },
    "tags": []
   },
   "outputs": [
    {
     "data": {
      "text/plain": [
       "'ENSG00000183087'"
      ]
     },
     "execution_count": 23,
     "metadata": {},
     "output_type": "execute_result"
    }
   ],
   "source": [
    "multiplier_gene_obj[\"GAS6\"].ensembl_id"
   ]
  },
  {
   "cell_type": "code",
   "execution_count": 24,
   "id": "e3ffabc7",
   "metadata": {
    "execution": {
     "iopub.execute_input": "2022-07-11T06:55:57.371788Z",
     "iopub.status.busy": "2022-07-11T06:55:57.371629Z",
     "iopub.status.idle": "2022-07-11T06:55:59.647981Z",
     "shell.execute_reply": "2022-07-11T06:55:59.647547Z"
    },
    "papermill": {
     "duration": 2.28494,
     "end_time": "2022-07-11T06:55:59.649333",
     "exception": false,
     "start_time": "2022-07-11T06:55:57.364393",
     "status": "completed"
    },
    "tags": []
   },
   "outputs": [],
   "source": [
    "_gene_obj = list(multiplier_gene_obj.values())\n",
    "\n",
    "genes_info = pd.DataFrame(\n",
    "    {\n",
    "        \"name\": [g.name for g in _gene_obj],\n",
    "        \"id\": [g.ensembl_id for g in _gene_obj],\n",
    "        \"chr\": [g.chromosome for g in _gene_obj],\n",
    "        \"band\": [g.band for g in _gene_obj],\n",
    "        \"start_position\": [g.get_attribute(\"start_position\") for g in _gene_obj],\n",
    "    }\n",
    ")"
   ]
  },
  {
   "cell_type": "code",
   "execution_count": 25,
   "id": "e23519b8",
   "metadata": {
    "execution": {
     "iopub.execute_input": "2022-07-11T06:55:59.670635Z",
     "iopub.status.busy": "2022-07-11T06:55:59.670473Z",
     "iopub.status.idle": "2022-07-11T06:55:59.687040Z",
     "shell.execute_reply": "2022-07-11T06:55:59.686625Z"
    },
    "papermill": {
     "duration": 0.026729,
     "end_time": "2022-07-11T06:55:59.688462",
     "exception": false,
     "start_time": "2022-07-11T06:55:59.661733",
     "status": "completed"
    },
    "tags": []
   },
   "outputs": [
    {
     "data": {
      "text/plain": [
       "(6454, 5)"
      ]
     },
     "execution_count": 25,
     "metadata": {},
     "output_type": "execute_result"
    }
   ],
   "source": [
    "genes_info.shape"
   ]
  },
  {
   "cell_type": "code",
   "execution_count": 26,
   "id": "0d71881c",
   "metadata": {
    "execution": {
     "iopub.execute_input": "2022-07-11T06:55:59.716736Z",
     "iopub.status.busy": "2022-07-11T06:55:59.716577Z",
     "iopub.status.idle": "2022-07-11T06:55:59.755104Z",
     "shell.execute_reply": "2022-07-11T06:55:59.754529Z"
    },
    "papermill": {
     "duration": 0.052757,
     "end_time": "2022-07-11T06:55:59.756579",
     "exception": false,
     "start_time": "2022-07-11T06:55:59.703822",
     "status": "completed"
    },
    "tags": []
   },
   "outputs": [
    {
     "data": {
      "text/html": [
       "<div>\n",
       "<style scoped>\n",
       "    .dataframe tbody tr th:only-of-type {\n",
       "        vertical-align: middle;\n",
       "    }\n",
       "\n",
       "    .dataframe tbody tr th {\n",
       "        vertical-align: top;\n",
       "    }\n",
       "\n",
       "    .dataframe thead th {\n",
       "        text-align: right;\n",
       "    }\n",
       "</style>\n",
       "<table border=\"1\" class=\"dataframe\">\n",
       "  <thead>\n",
       "    <tr style=\"text-align: right;\">\n",
       "      <th></th>\n",
       "      <th>name</th>\n",
       "      <th>id</th>\n",
       "      <th>chr</th>\n",
       "      <th>band</th>\n",
       "      <th>start_position</th>\n",
       "    </tr>\n",
       "  </thead>\n",
       "  <tbody>\n",
       "    <tr>\n",
       "      <th>0</th>\n",
       "      <td>GAS6</td>\n",
       "      <td>ENSG00000183087</td>\n",
       "      <td>13</td>\n",
       "      <td>13q34</td>\n",
       "      <td>113820549.0</td>\n",
       "    </tr>\n",
       "    <tr>\n",
       "      <th>1</th>\n",
       "      <td>MMP14</td>\n",
       "      <td>ENSG00000157227</td>\n",
       "      <td>14</td>\n",
       "      <td>14q11.2</td>\n",
       "      <td>22836560.0</td>\n",
       "    </tr>\n",
       "    <tr>\n",
       "      <th>2</th>\n",
       "      <td>DSP</td>\n",
       "      <td>ENSG00000096696</td>\n",
       "      <td>6</td>\n",
       "      <td>6p24.3</td>\n",
       "      <td>7541617.0</td>\n",
       "    </tr>\n",
       "    <tr>\n",
       "      <th>3</th>\n",
       "      <td>MARCKSL1</td>\n",
       "      <td>ENSG00000175130</td>\n",
       "      <td>1</td>\n",
       "      <td>1p35.1</td>\n",
       "      <td>32333839.0</td>\n",
       "    </tr>\n",
       "    <tr>\n",
       "      <th>4</th>\n",
       "      <td>SPARC</td>\n",
       "      <td>ENSG00000113140</td>\n",
       "      <td>5</td>\n",
       "      <td>5q33.1</td>\n",
       "      <td>151661096.0</td>\n",
       "    </tr>\n",
       "  </tbody>\n",
       "</table>\n",
       "</div>"
      ],
      "text/plain": [
       "       name               id chr     band  start_position\n",
       "0      GAS6  ENSG00000183087  13    13q34     113820549.0\n",
       "1     MMP14  ENSG00000157227  14  14q11.2      22836560.0\n",
       "2       DSP  ENSG00000096696   6   6p24.3       7541617.0\n",
       "3  MARCKSL1  ENSG00000175130   1   1p35.1      32333839.0\n",
       "4     SPARC  ENSG00000113140   5   5q33.1     151661096.0"
      ]
     },
     "execution_count": 26,
     "metadata": {},
     "output_type": "execute_result"
    }
   ],
   "source": [
    "genes_info.head()"
   ]
  },
  {
   "cell_type": "markdown",
   "id": "c8d1038f",
   "metadata": {
    "papermill": {
     "duration": 0.006825,
     "end_time": "2022-07-11T06:55:59.770207",
     "exception": false,
     "start_time": "2022-07-11T06:55:59.763382",
     "status": "completed"
    },
    "tags": []
   },
   "source": [
    "# Test"
   ]
  },
  {
   "cell_type": "code",
   "execution_count": 27,
   "id": "64993abf",
   "metadata": {
    "execution": {
     "iopub.execute_input": "2022-07-11T06:55:59.784892Z",
     "iopub.status.busy": "2022-07-11T06:55:59.784697Z",
     "iopub.status.idle": "2022-07-11T06:55:59.807414Z",
     "shell.execute_reply": "2022-07-11T06:55:59.806991Z"
    },
    "papermill": {
     "duration": 0.031545,
     "end_time": "2022-07-11T06:55:59.808658",
     "exception": false,
     "start_time": "2022-07-11T06:55:59.777113",
     "status": "completed"
    },
    "tags": []
   },
   "outputs": [
    {
     "data": {
      "text/html": [
       "<div>\n",
       "<style scoped>\n",
       "    .dataframe tbody tr th:only-of-type {\n",
       "        vertical-align: middle;\n",
       "    }\n",
       "\n",
       "    .dataframe tbody tr th {\n",
       "        vertical-align: top;\n",
       "    }\n",
       "\n",
       "    .dataframe thead th {\n",
       "        text-align: right;\n",
       "    }\n",
       "</style>\n",
       "<table border=\"1\" class=\"dataframe\">\n",
       "  <thead>\n",
       "    <tr style=\"text-align: right;\">\n",
       "      <th></th>\n",
       "      <th>name</th>\n",
       "      <th>id</th>\n",
       "      <th>chr</th>\n",
       "      <th>band</th>\n",
       "      <th>start_position</th>\n",
       "    </tr>\n",
       "  </thead>\n",
       "  <tbody>\n",
       "    <tr>\n",
       "      <th>5</th>\n",
       "      <td>CTSD</td>\n",
       "      <td>ENSG00000117984</td>\n",
       "      <td>11</td>\n",
       "      <td>11p15.5</td>\n",
       "      <td>1752755.0</td>\n",
       "    </tr>\n",
       "    <tr>\n",
       "      <th>10</th>\n",
       "      <td>SERPING1</td>\n",
       "      <td>ENSG00000149131</td>\n",
       "      <td>11</td>\n",
       "      <td>11q12.1</td>\n",
       "      <td>57597387.0</td>\n",
       "    </tr>\n",
       "    <tr>\n",
       "      <th>79</th>\n",
       "      <td>ADM</td>\n",
       "      <td>ENSG00000148926</td>\n",
       "      <td>11</td>\n",
       "      <td>11p15.4</td>\n",
       "      <td>10305073.0</td>\n",
       "    </tr>\n",
       "    <tr>\n",
       "      <th>109</th>\n",
       "      <td>FEZ1</td>\n",
       "      <td>ENSG00000149557</td>\n",
       "      <td>11</td>\n",
       "      <td>11q24.2</td>\n",
       "      <td>125442881.0</td>\n",
       "    </tr>\n",
       "    <tr>\n",
       "      <th>118</th>\n",
       "      <td>ST3GAL4</td>\n",
       "      <td>ENSG00000110080</td>\n",
       "      <td>11</td>\n",
       "      <td>11q24.2</td>\n",
       "      <td>126355640.0</td>\n",
       "    </tr>\n",
       "    <tr>\n",
       "      <th>...</th>\n",
       "      <td>...</td>\n",
       "      <td>...</td>\n",
       "      <td>...</td>\n",
       "      <td>...</td>\n",
       "      <td>...</td>\n",
       "    </tr>\n",
       "    <tr>\n",
       "      <th>6414</th>\n",
       "      <td>STT3A</td>\n",
       "      <td>ENSG00000134910</td>\n",
       "      <td>11</td>\n",
       "      <td>11q24.2</td>\n",
       "      <td>125591712.0</td>\n",
       "    </tr>\n",
       "    <tr>\n",
       "      <th>6443</th>\n",
       "      <td>LDHA</td>\n",
       "      <td>ENSG00000134333</td>\n",
       "      <td>11</td>\n",
       "      <td>11p15.1</td>\n",
       "      <td>18394560.0</td>\n",
       "    </tr>\n",
       "    <tr>\n",
       "      <th>6445</th>\n",
       "      <td>LDHC</td>\n",
       "      <td>ENSG00000166796</td>\n",
       "      <td>11</td>\n",
       "      <td>11p15.1</td>\n",
       "      <td>18412318.0</td>\n",
       "    </tr>\n",
       "    <tr>\n",
       "      <th>6449</th>\n",
       "      <td>CFL1</td>\n",
       "      <td>ENSG00000172757</td>\n",
       "      <td>11</td>\n",
       "      <td>11q13.1</td>\n",
       "      <td>65823022.0</td>\n",
       "    </tr>\n",
       "    <tr>\n",
       "      <th>6453</th>\n",
       "      <td>SERPINH1</td>\n",
       "      <td>ENSG00000149257</td>\n",
       "      <td>11</td>\n",
       "      <td>11q13.5</td>\n",
       "      <td>75562056.0</td>\n",
       "    </tr>\n",
       "  </tbody>\n",
       "</table>\n",
       "<p>387 rows × 5 columns</p>\n",
       "</div>"
      ],
      "text/plain": [
       "          name               id chr     band  start_position\n",
       "5         CTSD  ENSG00000117984  11  11p15.5       1752755.0\n",
       "10    SERPING1  ENSG00000149131  11  11q12.1      57597387.0\n",
       "79         ADM  ENSG00000148926  11  11p15.4      10305073.0\n",
       "109       FEZ1  ENSG00000149557  11  11q24.2     125442881.0\n",
       "118    ST3GAL4  ENSG00000110080  11  11q24.2     126355640.0\n",
       "...        ...              ...  ..      ...             ...\n",
       "6414     STT3A  ENSG00000134910  11  11q24.2     125591712.0\n",
       "6443      LDHA  ENSG00000134333  11  11p15.1      18394560.0\n",
       "6445      LDHC  ENSG00000166796  11  11p15.1      18412318.0\n",
       "6449      CFL1  ENSG00000172757  11  11q13.1      65823022.0\n",
       "6453  SERPINH1  ENSG00000149257  11  11q13.5      75562056.0\n",
       "\n",
       "[387 rows x 5 columns]"
      ]
     },
     "metadata": {},
     "output_type": "display_data"
    }
   ],
   "source": [
    "chromosome_genes_info = genes_info[genes_info[\"chr\"] == chromosome]\n",
    "display(chromosome_genes_info)"
   ]
  },
  {
   "cell_type": "code",
   "execution_count": 28,
   "id": "d2e42726-7de6-46eb-acfc-6323eaa8fae6",
   "metadata": {
    "execution": {
     "iopub.execute_input": "2022-07-11T06:55:59.829734Z",
     "iopub.status.busy": "2022-07-11T06:55:59.829570Z",
     "iopub.status.idle": "2022-07-11T06:55:59.855866Z",
     "shell.execute_reply": "2022-07-11T06:55:59.855461Z"
    },
    "papermill": {
     "duration": 0.040946,
     "end_time": "2022-07-11T06:55:59.857045",
     "exception": false,
     "start_time": "2022-07-11T06:55:59.816099",
     "status": "completed"
    },
    "tags": []
   },
   "outputs": [
    {
     "data": {
      "text/plain": [
       "5"
      ]
     },
     "metadata": {},
     "output_type": "display_data"
    }
   ],
   "source": [
    "seed(0)\n",
    "_gene_list_ids = sample(chromosome_genes_info[\"id\"].tolist(), 5)\n",
    "selected_chromosome_genes_obj = [Gene(ensembl_id=g_id) for g_id in _gene_list_ids]\n",
    "display(len(selected_chromosome_genes_obj))"
   ]
  },
  {
   "cell_type": "code",
   "execution_count": 29,
   "id": "1b355359",
   "metadata": {
    "execution": {
     "iopub.execute_input": "2022-07-11T06:55:59.882064Z",
     "iopub.status.busy": "2022-07-11T06:55:59.881907Z",
     "iopub.status.idle": "2022-07-11T06:56:02.042527Z",
     "shell.execute_reply": "2022-07-11T06:56:02.042141Z"
    },
    "papermill": {
     "duration": 2.175032,
     "end_time": "2022-07-11T06:56:02.043647",
     "exception": false,
     "start_time": "2022-07-11T06:55:59.868615",
     "status": "completed"
    },
    "tags": []
   },
   "outputs": [
    {
     "name": "stdout",
     "output_type": "stream",
     "text": [
      "DSCAML1 / FADS1: 0.0\n",
      "DSCAML1 / HBB: 0.0\n",
      "DSCAML1 / TIMM8B: 0.0\n",
      "DSCAML1 / ZFP91: 0.0\n",
      "FADS1 / HBB: 0.0\n",
      "FADS1 / TIMM8B: 0.0\n",
      "FADS1 / ZFP91: 0.0017110024878960932\n",
      "HBB / TIMM8B: 0.0\n",
      "HBB / ZFP91: 0.0\n",
      "TIMM8B / ZFP91: 0.0\n"
     ]
    }
   ],
   "source": [
    "for gene_idx1 in range(0, len(selected_chromosome_genes_obj) - 1):\n",
    "    gene_obj1 = selected_chromosome_genes_obj[gene_idx1]\n",
    "\n",
    "    for gene_idx2 in range(gene_idx1 + 1, len(selected_chromosome_genes_obj)):\n",
    "        gene_obj2 = selected_chromosome_genes_obj[gene_idx2]\n",
    "\n",
    "        c = gene_obj1.get_ssm_correlation(\n",
    "            gene_obj2,\n",
    "        )\n",
    "\n",
    "        print(f\"{gene_obj1.name} / {gene_obj2.name}: {c}\")"
   ]
  },
  {
   "cell_type": "markdown",
   "id": "d3843e06",
   "metadata": {
    "papermill": {
     "duration": 0.014199,
     "end_time": "2022-07-11T06:56:02.070494",
     "exception": false,
     "start_time": "2022-07-11T06:56:02.056295",
     "status": "completed"
    },
    "tags": []
   },
   "source": [
    "# Compute correlation per chromosome"
   ]
  },
  {
   "cell_type": "code",
   "execution_count": 30,
   "id": "cb859c15-d1f3-4006-a74c-2b83c0db9611",
   "metadata": {
    "execution": {
     "iopub.execute_input": "2022-07-11T06:56:02.091113Z",
     "iopub.status.busy": "2022-07-11T06:56:02.090636Z",
     "iopub.status.idle": "2022-07-11T06:56:02.107343Z",
     "shell.execute_reply": "2022-07-11T06:56:02.106861Z"
    },
    "papermill": {
     "duration": 0.025775,
     "end_time": "2022-07-11T06:56:02.108577",
     "exception": false,
     "start_time": "2022-07-11T06:56:02.082802",
     "status": "completed"
    },
    "tags": []
   },
   "outputs": [
    {
     "data": {
      "text/plain": [
       "PosixPath('/opt/data/data/phenomexcan/ld_blocks/gene_corrs/1000g/mashr/by_chr/gene_corrs-chr11.pkl')"
      ]
     },
     "metadata": {},
     "output_type": "display_data"
    }
   ],
   "source": [
    "output_dir = OUTPUT_DIR_BASE / \"by_chr\"\n",
    "output_dir.mkdir(exist_ok=True, parents=True)\n",
    "output_file = output_dir / f\"gene_corrs-chr{chromosome}.pkl\"\n",
    "display(output_file)"
   ]
  },
  {
   "cell_type": "code",
   "execution_count": 31,
   "id": "aa674fe4-6794-4eed-98fa-32b39d1d4ace",
   "metadata": {
    "execution": {
     "iopub.execute_input": "2022-07-11T06:56:02.135430Z",
     "iopub.status.busy": "2022-07-11T06:56:02.135270Z",
     "iopub.status.idle": "2022-07-11T06:56:02.149743Z",
     "shell.execute_reply": "2022-07-11T06:56:02.149301Z"
    },
    "papermill": {
     "duration": 0.031344,
     "end_time": "2022-07-11T06:56:02.151096",
     "exception": false,
     "start_time": "2022-07-11T06:56:02.119752",
     "status": "completed"
    },
    "tags": []
   },
   "outputs": [],
   "source": [
    "warnings.filterwarnings(\"error\")"
   ]
  },
  {
   "cell_type": "code",
   "execution_count": 32,
   "id": "cdbb90a1",
   "metadata": {
    "execution": {
     "iopub.execute_input": "2022-07-11T06:56:02.179249Z",
     "iopub.status.busy": "2022-07-11T06:56:02.179089Z",
     "iopub.status.idle": "2022-07-11T07:13:52.923320Z",
     "shell.execute_reply": "2022-07-11T07:13:52.922787Z"
    },
    "papermill": {
     "duration": 1070.846538,
     "end_time": "2022-07-11T07:13:53.010290",
     "exception": false,
     "start_time": "2022-07-11T06:56:02.163752",
     "status": "completed"
    },
    "tags": []
   },
   "outputs": [
    {
     "name": "stdout",
     "output_type": "stream",
     "text": [
      "Number of genes in chromosome: 387\n",
      "Number of gene combinations: 74691\n"
     ]
    },
    {
     "name": "stderr",
     "output_type": "stream",
     "text": [
      "ENSG00000151498 / ENSG00000109956: 100%|██████████████████████| 74691/74691 [17:50<00:00, 69.76it/s]"
     ]
    },
    {
     "name": "stdout",
     "output_type": "stream",
     "text": [
      "Min/max values: 0.0 / 0.9999610294913883\n"
     ]
    },
    {
     "name": "stderr",
     "output_type": "stream",
     "text": [
      "\n"
     ]
    },
    {
     "data": {
      "text/plain": [
       "PosixPath('/opt/data/data/phenomexcan/ld_blocks/gene_corrs/1000g/mashr/by_chr/gene_corrs-chr11.pkl')"
      ]
     },
     "metadata": {},
     "output_type": "display_data"
    }
   ],
   "source": [
    "# standard checks\n",
    "all_chrs = genes_info[\"chr\"].dropna().unique()\n",
    "assert all_chrs.shape[0] == 22\n",
    "\n",
    "# select chromosome given by the user\n",
    "assert chromosome in all_chrs\n",
    "\n",
    "# run only on the chromosome specified\n",
    "all_chrs = [chromosome]\n",
    "genes_chr = genes_info[genes_info[\"chr\"] == chromosome]\n",
    "\n",
    "# For testing purposes\n",
    "# genes_chr = genes_chr.sample(n=20)\n",
    "\n",
    "print(f\"Number of genes in chromosome: {genes_chr.shape[0]}\", flush=True)\n",
    "\n",
    "# sort genes by starting position to make visualizations better later\n",
    "genes_chr = genes_chr.sort_values(\"start_position\")\n",
    "\n",
    "gene_chr_objs = [Gene(ensembl_id=gene_id) for gene_id in genes_chr[\"id\"]]\n",
    "gene_chr_ids = [g.ensembl_id for g in gene_chr_objs]\n",
    "\n",
    "n = len(gene_chr_objs)\n",
    "n_comb = int(n * (n - 1) / 2.0)\n",
    "print(f\"Number of gene combinations: {n_comb}\", flush=True)\n",
    "\n",
    "gene_corrs = []\n",
    "\n",
    "pbar = tqdm(ncols=100, total=n_comb)\n",
    "i = 0\n",
    "for gene_idx1 in range(0, len(gene_chr_objs) - 1):\n",
    "    gene_obj1 = gene_chr_objs[gene_idx1]\n",
    "\n",
    "    for gene_idx2 in range(gene_idx1 + 1, len(gene_chr_objs)):\n",
    "        gene_obj2 = gene_chr_objs[gene_idx2]\n",
    "\n",
    "        pbar.set_description(f\"{gene_obj1.ensembl_id} / {gene_obj2.ensembl_id}\")\n",
    "\n",
    "        try:\n",
    "            # FIXME: compute the correlation of the sum of squares of the model using all\n",
    "            # the available tissues; this could be problematic because for some results\n",
    "            # (computed on a specific phenotype/GWAS) we might not have all the tissues\n",
    "            # available, which can certainly bias the correlation estimation.\n",
    "            # Since this depends on the GWAS on a specific phenotype, we should ideally have\n",
    "            # one correlation matrix per GWAS. I should look at how we can improve this.\n",
    "            r = gene_obj1.get_ssm_correlation(\n",
    "                other_gene=gene_obj2,\n",
    "                condition_number=SMULTIXCAN_CONDITION_NUMBER,\n",
    "                reference_panel=REFERENCE_PANEL,\n",
    "                model_type=EQTL_MODEL,\n",
    "            )\n",
    "\n",
    "            if r is None:\n",
    "                # if r is None, it's very likely because:\n",
    "                #  * one of the genes has no prediction models\n",
    "                #  * all the SNPs predictors for the gene are not present in the reference\n",
    "                #    panel\n",
    "\n",
    "                r = 0.0\n",
    "\n",
    "            gene_corrs.append(r)\n",
    "        except Warning:\n",
    "            print(\n",
    "                f\"RuntimeWarning for genes {gene_obj1.ensembl_id} and {gene_obj2.ensembl_id}\",\n",
    "                flush=True,\n",
    "            )\n",
    "            import traceback\n",
    "\n",
    "            print(traceback.format_exc(), flush=True)\n",
    "        except Exception as e:\n",
    "            print(\n",
    "                f\"Exception for genes {gene_obj1.ensembl_id} and {gene_obj2.ensembl_id}\",\n",
    "                flush=True,\n",
    "            )\n",
    "            import traceback\n",
    "\n",
    "            print(traceback.format_exc(), flush=True)\n",
    "            gene_corrs.append(np.nan)\n",
    "\n",
    "        pbar.update(1)\n",
    "\n",
    "pbar.close()\n",
    "\n",
    "# testing\n",
    "gene_corrs_flat = pd.Series(gene_corrs)\n",
    "print(f\"Min/max values: {gene_corrs_flat.min()} / {gene_corrs_flat.max()}\")\n",
    "assert gene_corrs_flat.min() >= -1.001\n",
    "assert gene_corrs_flat.max() <= 1.001\n",
    "\n",
    "# save\n",
    "# FIXME: consider saving only the condenced matrix here. See here for\n",
    "# more details: https://github.com/greenelab/phenoplier/pull/38#discussion_r634600813\n",
    "gene_corrs_data = squareform(np.array(gene_corrs, dtype=np.float64))\n",
    "np.fill_diagonal(gene_corrs_data, 1.0)\n",
    "\n",
    "gene_corrs_df = pd.DataFrame(\n",
    "    data=gene_corrs_data,\n",
    "    index=gene_chr_ids,\n",
    "    columns=gene_chr_ids,\n",
    ")\n",
    "\n",
    "output_dir.mkdir(exist_ok=True, parents=True)\n",
    "display(output_file)\n",
    "\n",
    "gene_corrs_df.to_pickle(output_file)"
   ]
  },
  {
   "cell_type": "markdown",
   "id": "faa67b51-5373-470f-aa72-2ded53fa6dfe",
   "metadata": {
    "papermill": {
     "duration": 3.042916,
     "end_time": "2022-07-11T07:13:58.999749",
     "exception": false,
     "start_time": "2022-07-11T07:13:55.956833",
     "status": "completed"
    },
    "tags": []
   },
   "source": [
    "# Testing"
   ]
  },
  {
   "cell_type": "code",
   "execution_count": 33,
   "id": "14f7d046-4b55-4896-a56b-990127bcc388",
   "metadata": {
    "execution": {
     "iopub.execute_input": "2022-07-11T07:14:05.025029Z",
     "iopub.status.busy": "2022-07-11T07:14:05.024579Z",
     "iopub.status.idle": "2022-07-11T07:14:05.041676Z",
     "shell.execute_reply": "2022-07-11T07:14:05.041218Z"
    },
    "papermill": {
     "duration": 3.113148,
     "end_time": "2022-07-11T07:14:05.042880",
     "exception": false,
     "start_time": "2022-07-11T07:14:01.929732",
     "status": "completed"
    },
    "tags": []
   },
   "outputs": [
    {
     "data": {
      "text/plain": [
       "(387, 387)"
      ]
     },
     "execution_count": 33,
     "metadata": {},
     "output_type": "execute_result"
    }
   ],
   "source": [
    "gene_corrs_df.shape"
   ]
  },
  {
   "cell_type": "code",
   "execution_count": 34,
   "id": "c7d15414-3297-4537-a7c6-7588c0baeb75",
   "metadata": {
    "execution": {
     "iopub.execute_input": "2022-07-11T07:14:10.976377Z",
     "iopub.status.busy": "2022-07-11T07:14:10.976212Z",
     "iopub.status.idle": "2022-07-11T07:14:11.010938Z",
     "shell.execute_reply": "2022-07-11T07:14:11.010381Z"
    },
    "papermill": {
     "duration": 3.150325,
     "end_time": "2022-07-11T07:14:11.012343",
     "exception": false,
     "start_time": "2022-07-11T07:14:07.862018",
     "status": "completed"
    },
    "tags": []
   },
   "outputs": [
    {
     "data": {
      "text/html": [
       "<div>\n",
       "<style scoped>\n",
       "    .dataframe tbody tr th:only-of-type {\n",
       "        vertical-align: middle;\n",
       "    }\n",
       "\n",
       "    .dataframe tbody tr th {\n",
       "        vertical-align: top;\n",
       "    }\n",
       "\n",
       "    .dataframe thead th {\n",
       "        text-align: right;\n",
       "    }\n",
       "</style>\n",
       "<table border=\"1\" class=\"dataframe\">\n",
       "  <thead>\n",
       "    <tr style=\"text-align: right;\">\n",
       "      <th></th>\n",
       "      <th>ENSG00000177951</th>\n",
       "      <th>ENSG00000142082</th>\n",
       "      <th>ENSG00000185627</th>\n",
       "      <th>ENSG00000185201</th>\n",
       "      <th>ENSG00000185885</th>\n",
       "      <th>ENSG00000142089</th>\n",
       "      <th>ENSG00000185187</th>\n",
       "      <th>ENSG00000174915</th>\n",
       "      <th>ENSG00000174775</th>\n",
       "      <th>ENSG00000185507</th>\n",
       "      <th>...</th>\n",
       "      <th>ENSG00000150455</th>\n",
       "      <th>ENSG00000110063</th>\n",
       "      <th>ENSG00000110080</th>\n",
       "      <th>ENSG00000149571</th>\n",
       "      <th>ENSG00000134954</th>\n",
       "      <th>ENSG00000134909</th>\n",
       "      <th>ENSG00000043039</th>\n",
       "      <th>ENSG00000166086</th>\n",
       "      <th>ENSG00000151498</th>\n",
       "      <th>ENSG00000109956</th>\n",
       "    </tr>\n",
       "  </thead>\n",
       "  <tbody>\n",
       "    <tr>\n",
       "      <th>ENSG00000177951</th>\n",
       "      <td>1.000000</td>\n",
       "      <td>0.650164</td>\n",
       "      <td>0.368633</td>\n",
       "      <td>0.027438</td>\n",
       "      <td>0.034184</td>\n",
       "      <td>0.042161</td>\n",
       "      <td>0.024643</td>\n",
       "      <td>0.013066</td>\n",
       "      <td>0.008998</td>\n",
       "      <td>0.019276</td>\n",
       "      <td>...</td>\n",
       "      <td>0.0</td>\n",
       "      <td>0.0</td>\n",
       "      <td>0.0</td>\n",
       "      <td>0.0</td>\n",
       "      <td>0.0</td>\n",
       "      <td>0.0</td>\n",
       "      <td>0.0</td>\n",
       "      <td>0.0</td>\n",
       "      <td>0.0</td>\n",
       "      <td>0.0</td>\n",
       "    </tr>\n",
       "    <tr>\n",
       "      <th>ENSG00000142082</th>\n",
       "      <td>0.650164</td>\n",
       "      <td>1.000000</td>\n",
       "      <td>0.497738</td>\n",
       "      <td>0.023876</td>\n",
       "      <td>0.032387</td>\n",
       "      <td>0.040002</td>\n",
       "      <td>0.020308</td>\n",
       "      <td>0.007992</td>\n",
       "      <td>0.006318</td>\n",
       "      <td>0.012885</td>\n",
       "      <td>...</td>\n",
       "      <td>0.0</td>\n",
       "      <td>0.0</td>\n",
       "      <td>0.0</td>\n",
       "      <td>0.0</td>\n",
       "      <td>0.0</td>\n",
       "      <td>0.0</td>\n",
       "      <td>0.0</td>\n",
       "      <td>0.0</td>\n",
       "      <td>0.0</td>\n",
       "      <td>0.0</td>\n",
       "    </tr>\n",
       "    <tr>\n",
       "      <th>ENSG00000185627</th>\n",
       "      <td>0.368633</td>\n",
       "      <td>0.497738</td>\n",
       "      <td>1.000000</td>\n",
       "      <td>0.004246</td>\n",
       "      <td>0.002989</td>\n",
       "      <td>0.007482</td>\n",
       "      <td>0.001872</td>\n",
       "      <td>0.002354</td>\n",
       "      <td>0.002785</td>\n",
       "      <td>0.004510</td>\n",
       "      <td>...</td>\n",
       "      <td>0.0</td>\n",
       "      <td>0.0</td>\n",
       "      <td>0.0</td>\n",
       "      <td>0.0</td>\n",
       "      <td>0.0</td>\n",
       "      <td>0.0</td>\n",
       "      <td>0.0</td>\n",
       "      <td>0.0</td>\n",
       "      <td>0.0</td>\n",
       "      <td>0.0</td>\n",
       "    </tr>\n",
       "    <tr>\n",
       "      <th>ENSG00000185201</th>\n",
       "      <td>0.027438</td>\n",
       "      <td>0.023876</td>\n",
       "      <td>0.004246</td>\n",
       "      <td>1.000000</td>\n",
       "      <td>0.352131</td>\n",
       "      <td>0.319250</td>\n",
       "      <td>0.014195</td>\n",
       "      <td>0.015452</td>\n",
       "      <td>0.012131</td>\n",
       "      <td>0.018634</td>\n",
       "      <td>...</td>\n",
       "      <td>0.0</td>\n",
       "      <td>0.0</td>\n",
       "      <td>0.0</td>\n",
       "      <td>0.0</td>\n",
       "      <td>0.0</td>\n",
       "      <td>0.0</td>\n",
       "      <td>0.0</td>\n",
       "      <td>0.0</td>\n",
       "      <td>0.0</td>\n",
       "      <td>0.0</td>\n",
       "    </tr>\n",
       "    <tr>\n",
       "      <th>ENSG00000185885</th>\n",
       "      <td>0.034184</td>\n",
       "      <td>0.032387</td>\n",
       "      <td>0.002989</td>\n",
       "      <td>0.352131</td>\n",
       "      <td>1.000000</td>\n",
       "      <td>0.423385</td>\n",
       "      <td>0.022932</td>\n",
       "      <td>0.019608</td>\n",
       "      <td>0.022478</td>\n",
       "      <td>0.024738</td>\n",
       "      <td>...</td>\n",
       "      <td>0.0</td>\n",
       "      <td>0.0</td>\n",
       "      <td>0.0</td>\n",
       "      <td>0.0</td>\n",
       "      <td>0.0</td>\n",
       "      <td>0.0</td>\n",
       "      <td>0.0</td>\n",
       "      <td>0.0</td>\n",
       "      <td>0.0</td>\n",
       "      <td>0.0</td>\n",
       "    </tr>\n",
       "  </tbody>\n",
       "</table>\n",
       "<p>5 rows × 387 columns</p>\n",
       "</div>"
      ],
      "text/plain": [
       "                 ENSG00000177951  ENSG00000142082  ENSG00000185627  \\\n",
       "ENSG00000177951         1.000000         0.650164         0.368633   \n",
       "ENSG00000142082         0.650164         1.000000         0.497738   \n",
       "ENSG00000185627         0.368633         0.497738         1.000000   \n",
       "ENSG00000185201         0.027438         0.023876         0.004246   \n",
       "ENSG00000185885         0.034184         0.032387         0.002989   \n",
       "\n",
       "                 ENSG00000185201  ENSG00000185885  ENSG00000142089  \\\n",
       "ENSG00000177951         0.027438         0.034184         0.042161   \n",
       "ENSG00000142082         0.023876         0.032387         0.040002   \n",
       "ENSG00000185627         0.004246         0.002989         0.007482   \n",
       "ENSG00000185201         1.000000         0.352131         0.319250   \n",
       "ENSG00000185885         0.352131         1.000000         0.423385   \n",
       "\n",
       "                 ENSG00000185187  ENSG00000174915  ENSG00000174775  \\\n",
       "ENSG00000177951         0.024643         0.013066         0.008998   \n",
       "ENSG00000142082         0.020308         0.007992         0.006318   \n",
       "ENSG00000185627         0.001872         0.002354         0.002785   \n",
       "ENSG00000185201         0.014195         0.015452         0.012131   \n",
       "ENSG00000185885         0.022932         0.019608         0.022478   \n",
       "\n",
       "                 ENSG00000185507  ...  ENSG00000150455  ENSG00000110063  \\\n",
       "ENSG00000177951         0.019276  ...              0.0              0.0   \n",
       "ENSG00000142082         0.012885  ...              0.0              0.0   \n",
       "ENSG00000185627         0.004510  ...              0.0              0.0   \n",
       "ENSG00000185201         0.018634  ...              0.0              0.0   \n",
       "ENSG00000185885         0.024738  ...              0.0              0.0   \n",
       "\n",
       "                 ENSG00000110080  ENSG00000149571  ENSG00000134954  \\\n",
       "ENSG00000177951              0.0              0.0              0.0   \n",
       "ENSG00000142082              0.0              0.0              0.0   \n",
       "ENSG00000185627              0.0              0.0              0.0   \n",
       "ENSG00000185201              0.0              0.0              0.0   \n",
       "ENSG00000185885              0.0              0.0              0.0   \n",
       "\n",
       "                 ENSG00000134909  ENSG00000043039  ENSG00000166086  \\\n",
       "ENSG00000177951              0.0              0.0              0.0   \n",
       "ENSG00000142082              0.0              0.0              0.0   \n",
       "ENSG00000185627              0.0              0.0              0.0   \n",
       "ENSG00000185201              0.0              0.0              0.0   \n",
       "ENSG00000185885              0.0              0.0              0.0   \n",
       "\n",
       "                 ENSG00000151498  ENSG00000109956  \n",
       "ENSG00000177951              0.0              0.0  \n",
       "ENSG00000142082              0.0              0.0  \n",
       "ENSG00000185627              0.0              0.0  \n",
       "ENSG00000185201              0.0              0.0  \n",
       "ENSG00000185885              0.0              0.0  \n",
       "\n",
       "[5 rows x 387 columns]"
      ]
     },
     "execution_count": 34,
     "metadata": {},
     "output_type": "execute_result"
    }
   ],
   "source": [
    "gene_corrs_df.head()"
   ]
  },
  {
   "cell_type": "code",
   "execution_count": 35,
   "id": "286686af-1b7b-4440-8453-6bdcbd8de19c",
   "metadata": {
    "execution": {
     "iopub.execute_input": "2022-07-11T07:14:16.760771Z",
     "iopub.status.busy": "2022-07-11T07:14:16.760613Z",
     "iopub.status.idle": "2022-07-11T07:14:16.792829Z",
     "shell.execute_reply": "2022-07-11T07:14:16.792428Z"
    },
    "papermill": {
     "duration": 2.841129,
     "end_time": "2022-07-11T07:14:16.794085",
     "exception": false,
     "start_time": "2022-07-11T07:14:13.952956",
     "status": "completed"
    },
    "tags": []
   },
   "outputs": [],
   "source": [
    "assert not gene_corrs_df.isna().any().any()"
   ]
  },
  {
   "cell_type": "code",
   "execution_count": 36,
   "id": "00583efc-7068-4270-ad1e-4a418e91db96",
   "metadata": {
    "execution": {
     "iopub.execute_input": "2022-07-11T07:14:22.561529Z",
     "iopub.status.busy": "2022-07-11T07:14:22.561102Z",
     "iopub.status.idle": "2022-07-11T07:14:22.578493Z",
     "shell.execute_reply": "2022-07-11T07:14:22.578074Z"
    },
    "papermill": {
     "duration": 2.777983,
     "end_time": "2022-07-11T07:14:22.579723",
     "exception": false,
     "start_time": "2022-07-11T07:14:19.801740",
     "status": "completed"
    },
    "tags": []
   },
   "outputs": [
    {
     "data": {
      "text/plain": [
       "0.0"
      ]
     },
     "metadata": {},
     "output_type": "display_data"
    }
   ],
   "source": [
    "_min_val = gene_corrs_df.min().min()\n",
    "display(_min_val)\n",
    "assert _min_val >= 0.0"
   ]
  },
  {
   "cell_type": "code",
   "execution_count": 37,
   "id": "d04fb2cf-1050-475b-b855-f5f7cc04092b",
   "metadata": {
    "execution": {
     "iopub.execute_input": "2022-07-11T07:14:28.744244Z",
     "iopub.status.busy": "2022-07-11T07:14:28.743794Z",
     "iopub.status.idle": "2022-07-11T07:14:28.776523Z",
     "shell.execute_reply": "2022-07-11T07:14:28.776110Z"
    },
    "papermill": {
     "duration": 3.301511,
     "end_time": "2022-07-11T07:14:28.777807",
     "exception": false,
     "start_time": "2022-07-11T07:14:25.476296",
     "status": "completed"
    },
    "tags": []
   },
   "outputs": [
    {
     "data": {
      "text/plain": [
       "1.0"
      ]
     },
     "metadata": {},
     "output_type": "display_data"
    }
   ],
   "source": [
    "_max_val = gene_corrs_df.max().max()  # this captures the diagonal\n",
    "display(_max_val)\n",
    "assert _max_val <= 1.0"
   ]
  },
  {
   "cell_type": "code",
   "execution_count": 38,
   "id": "96d02c44-1fba-47be-8a93-8f2608420b9c",
   "metadata": {
    "execution": {
     "iopub.execute_input": "2022-07-11T07:14:34.934370Z",
     "iopub.status.busy": "2022-07-11T07:14:34.934009Z",
     "iopub.status.idle": "2022-07-11T07:14:34.949230Z",
     "shell.execute_reply": "2022-07-11T07:14:34.948732Z"
    },
    "papermill": {
     "duration": 3.215962,
     "end_time": "2022-07-11T07:14:34.950542",
     "exception": false,
     "start_time": "2022-07-11T07:14:31.734580",
     "status": "completed"
    },
    "tags": []
   },
   "outputs": [],
   "source": [
    "# check upper triangular values\n",
    "assert len(gene_corrs) == int(genes_chr.shape[0] * (genes_chr.shape[0] - 1) / 2)"
   ]
  },
  {
   "cell_type": "code",
   "execution_count": 39,
   "id": "aaa51627-f4e3-4744-a41f-7d25adcc0a78",
   "metadata": {
    "execution": {
     "iopub.execute_input": "2022-07-11T07:14:40.974446Z",
     "iopub.status.busy": "2022-07-11T07:14:40.974284Z",
     "iopub.status.idle": "2022-07-11T07:14:41.020059Z",
     "shell.execute_reply": "2022-07-11T07:14:41.019617Z"
    },
    "papermill": {
     "duration": 3.102165,
     "end_time": "2022-07-11T07:14:41.021341",
     "exception": false,
     "start_time": "2022-07-11T07:14:37.919176",
     "status": "completed"
    },
    "tags": []
   },
   "outputs": [],
   "source": [
    "gene_corrs = pd.Series(gene_corrs)"
   ]
  },
  {
   "cell_type": "code",
   "execution_count": 40,
   "id": "fe283586-c348-40e0-8841-f6d97bfb021c",
   "metadata": {
    "execution": {
     "iopub.execute_input": "2022-07-11T07:14:46.775963Z",
     "iopub.status.busy": "2022-07-11T07:14:46.774562Z",
     "iopub.status.idle": "2022-07-11T07:14:46.814406Z",
     "shell.execute_reply": "2022-07-11T07:14:46.814032Z"
    },
    "papermill": {
     "duration": 2.940919,
     "end_time": "2022-07-11T07:14:46.815533",
     "exception": false,
     "start_time": "2022-07-11T07:14:43.874614",
     "status": "completed"
    },
    "tags": []
   },
   "outputs": [
    {
     "data": {
      "text/plain": [
       "count    74691.000000\n",
       "mean         0.003873\n",
       "std          0.032862\n",
       "min          0.000000\n",
       "25%          0.000000\n",
       "50%          0.000000\n",
       "75%          0.000000\n",
       "max          0.999961\n",
       "dtype: float64"
      ]
     },
     "execution_count": 40,
     "metadata": {},
     "output_type": "execute_result"
    }
   ],
   "source": [
    "gene_corrs.describe()"
   ]
  },
  {
   "cell_type": "code",
   "execution_count": 41,
   "id": "b3815678-0f93-4b35-897b-a9d047a2aa78",
   "metadata": {
    "execution": {
     "iopub.execute_input": "2022-07-11T07:14:52.612991Z",
     "iopub.status.busy": "2022-07-11T07:14:52.612604Z",
     "iopub.status.idle": "2022-07-11T07:14:52.631202Z",
     "shell.execute_reply": "2022-07-11T07:14:52.630755Z"
    },
    "papermill": {
     "duration": 2.960033,
     "end_time": "2022-07-11T07:14:52.632438",
     "exception": false,
     "start_time": "2022-07-11T07:14:49.672405",
     "status": "completed"
    },
    "tags": []
   },
   "outputs": [
    {
     "data": {
      "text/plain": [
       "0.00    0.000000\n",
       "0.05    0.000000\n",
       "0.10    0.000000\n",
       "0.15    0.000000\n",
       "0.20    0.000000\n",
       "0.25    0.000000\n",
       "0.30    0.000000\n",
       "0.35    0.000000\n",
       "0.40    0.000000\n",
       "0.45    0.000000\n",
       "0.50    0.000000\n",
       "0.55    0.000000\n",
       "0.60    0.000000\n",
       "0.65    0.000000\n",
       "0.70    0.000000\n",
       "0.75    0.000000\n",
       "0.80    0.000000\n",
       "0.85    0.000000\n",
       "0.90    0.004601\n",
       "0.95    0.010504\n",
       "dtype: float64"
      ]
     },
     "metadata": {},
     "output_type": "display_data"
    }
   ],
   "source": [
    "gene_corrs_quantiles = gene_corrs.quantile(np.arange(0, 1, 0.05))\n",
    "display(gene_corrs_quantiles)"
   ]
  },
  {
   "cell_type": "markdown",
   "id": "8e60a080-edb2-4e9c-b2ef-22961693200c",
   "metadata": {
    "papermill": {
     "duration": 3.01366,
     "end_time": "2022-07-11T07:14:58.431412",
     "exception": false,
     "start_time": "2022-07-11T07:14:55.417752",
     "status": "completed"
    },
    "tags": []
   },
   "source": [
    "## Plot: distribution"
   ]
  },
  {
   "cell_type": "code",
   "execution_count": 42,
   "id": "8301126b-a7d4-4744-9c7d-f0f86eb6f54c",
   "metadata": {
    "execution": {
     "iopub.execute_input": "2022-07-11T07:15:04.390060Z",
     "iopub.status.busy": "2022-07-11T07:15:04.389900Z",
     "iopub.status.idle": "2022-07-11T07:15:04.904841Z",
     "shell.execute_reply": "2022-07-11T07:15:04.904422Z"
    },
    "papermill": {
     "duration": 3.627669,
     "end_time": "2022-07-11T07:15:04.906054",
     "exception": false,
     "start_time": "2022-07-11T07:15:01.278385",
     "status": "completed"
    },
    "tags": []
   },
   "outputs": [
    {
     "data": {
      "image/png": "[encoded data removed]",
      "text/plain": [
       "<Figure size 504x504 with 1 Axes>"
      ]
     },
     "metadata": {
      "needs_background": "light"
     },
     "output_type": "display_data"
    }
   ],
   "source": [
    "with sns.plotting_context(\"paper\", font_scale=1.5):\n",
    "    g = sns.displot(gene_corrs, kde=True, height=7)\n",
    "    g.ax.set_title(\n",
    "        f\"Distribution of gene correlation values in chromosome {chromosome}\"\n",
    "    )"
   ]
  },
  {
   "cell_type": "markdown",
   "id": "cbd52bca-d878-4a2f-b684-5c83aa3038d4",
   "metadata": {
    "papermill": {
     "duration": 2.830789,
     "end_time": "2022-07-11T07:15:10.640995",
     "exception": false,
     "start_time": "2022-07-11T07:15:07.810206",
     "status": "completed"
    },
    "tags": []
   },
   "source": [
    "## Plot: heatmap"
   ]
  },
  {
   "cell_type": "code",
   "execution_count": 43,
   "id": "d03fe63a-c7b2-4fb9-a53c-db362ce843c9",
   "metadata": {
    "execution": {
     "iopub.execute_input": "2022-07-11T07:15:16.209213Z",
     "iopub.status.busy": "2022-07-11T07:15:16.208534Z",
     "iopub.status.idle": "2022-07-11T07:15:16.225114Z",
     "shell.execute_reply": "2022-07-11T07:15:16.224673Z"
    },
    "papermill": {
     "duration": 2.829192,
     "end_time": "2022-07-11T07:15:16.226343",
     "exception": false,
     "start_time": "2022-07-11T07:15:13.397151",
     "status": "completed"
    },
    "tags": []
   },
   "outputs": [
    {
     "data": {
      "text/plain": [
       "'-0.05 / 0.05'"
      ]
     },
     "metadata": {},
     "output_type": "display_data"
    }
   ],
   "source": [
    "vmin_val = min(-0.05, gene_corrs_quantiles[0.10])\n",
    "vmax_val = max(0.05, gene_corrs_quantiles[0.90])\n",
    "display(f\"{vmin_val} / {vmax_val}\")"
   ]
  },
  {
   "cell_type": "code",
   "execution_count": 44,
   "id": "dc41b70b-5bcc-4d9e-9f33-a22c4a94dab5",
   "metadata": {
    "execution": {
     "iopub.execute_input": "2022-07-11T07:15:21.721438Z",
     "iopub.status.busy": "2022-07-11T07:15:21.720923Z",
     "iopub.status.idle": "2022-07-11T07:15:22.001082Z",
     "shell.execute_reply": "2022-07-11T07:15:22.000673Z"
    },
    "papermill": {
     "duration": 3.056355,
     "end_time": "2022-07-11T07:15:22.002568",
     "exception": false,
     "start_time": "2022-07-11T07:15:18.946213",
     "status": "completed"
    },
    "tags": []
   },
   "outputs": [
    {
     "data": {
      "text/plain": [
       "Text(0.5, 1.0, 'Gene correlations in chromosome 11')"
      ]
     },
     "execution_count": 44,
     "metadata": {},
     "output_type": "execute_result"
    },
    {
     "data": {
      "image/png": "[encoded data removed]",
      "text/plain": [
       "<Figure size 720x720 with 2 Axes>"
      ]
     },
     "metadata": {
      "needs_background": "light"
     },
     "output_type": "display_data"
    }
   ],
   "source": [
    "f, ax = plt.subplots(figsize=(10, 10))\n",
    "sns.heatmap(\n",
    "    gene_corrs_df,\n",
    "    xticklabels=False,\n",
    "    yticklabels=False,\n",
    "    square=True,\n",
    "    vmin=vmin_val,\n",
    "    vmax=vmax_val,\n",
    "    cmap=\"YlGnBu\",\n",
    "    ax=ax,\n",
    ")\n",
    "ax.set_title(f\"Gene correlations in chromosome {chromosome}\")"
   ]
  },
  {
   "cell_type": "code",
   "execution_count": null,
   "id": "b25e3ead",
   "metadata": {
    "papermill": {
     "duration": 2.83897,
     "end_time": "2022-07-11T07:15:27.570007",
     "exception": false,
     "start_time": "2022-07-11T07:15:24.731037",
     "status": "completed"
    },
    "tags": []
   },
   "outputs": [],
   "source": []
  }
 ],
 "metadata": {
  "jupytext": {
   "cell_metadata_filter": "all,-execution,-papermill,-trusted",
   "formats": "ipynb,py//py:percent"
  },
  "kernelspec": {
   "display_name": "Python 3 (ipykernel)",
   "language": "python",
   "name": "python3"
  },
  "language_info": {
   "codemirror_mode": {
    "name": "ipython",
    "version": 3
   },
   "file_extension": ".py",
   "mimetype": "text/x-python",
   "name": "python",
   "nbconvert_exporter": "python",
   "pygments_lexer": "ipython3",
   "version": "3.8.13"
  },
  "papermill": {
   "default_parameters": {},
   "duration": 1179.58763,
   "end_time": "2022-07-11T07:15:33.553080",
   "environment_variables": {},
   "exception": null,
   "input_path": "nbs/15_gsa_gls/10-gene_expr_correlations.ipynb",
   "output_path": "nbs/15_gsa_gls/gene_corrs/1000g/mashr/10-gene_expr_correlations-chr11.run.ipynb",
   "parameters": {
    "EQTL_MODEL": "MASHR",
    "REFERENCE_PANEL": "1000G",
    "chromosome": 11
   },
   "start_time": "2022-07-11T06:55:53.965450",
   "version": "2.2.2"
  }
 },
 "nbformat": 4,
 "nbformat_minor": 5
}
