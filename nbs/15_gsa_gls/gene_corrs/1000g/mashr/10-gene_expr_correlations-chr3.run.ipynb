{
 "cells": [
  {
   "cell_type": "markdown",
   "id": "7a6632fb",
   "metadata": {
    "papermill": {
     "duration": 0.006672,
     "end_time": "2022-07-11T06:02:14.346689",
     "exception": false,
     "start_time": "2022-07-11T06:02:14.340017",
     "status": "completed"
    },
    "tags": []
   },
   "source": [
    "# Description"
   ]
  },
  {
   "cell_type": "markdown",
   "id": "7097c346",
   "metadata": {
    "papermill": {
     "duration": 0.010858,
     "end_time": "2022-07-11T06:02:14.378791",
     "exception": false,
     "start_time": "2022-07-11T06:02:14.367933",
     "status": "completed"
    },
    "tags": []
   },
   "source": [
    "(Please, take a look at the README.md file in this directory for instructions on how to run this notebook)\n",
    "\n",
    "This notebook computes predicted expression correlations between all genes in the MultiPLIER models.\n",
    "\n",
    "It also has a parameter set for papermill to run on a single chromosome to run in parallel (see under `Settings` below).\n",
    "\n",
    "This notebook is not directly run. See README.md."
   ]
  },
  {
   "cell_type": "markdown",
   "id": "c61d8427",
   "metadata": {
    "papermill": {
     "duration": 0.005322,
     "end_time": "2022-07-11T06:02:14.389687",
     "exception": false,
     "start_time": "2022-07-11T06:02:14.384365",
     "status": "completed"
    },
    "tags": []
   },
   "source": [
    "# Modules"
   ]
  },
  {
   "cell_type": "code",
   "execution_count": 1,
   "id": "bbc0234f",
   "metadata": {
    "execution": {
     "iopub.execute_input": "2022-07-11T06:02:14.401560Z",
     "iopub.status.busy": "2022-07-11T06:02:14.401363Z",
     "iopub.status.idle": "2022-07-11T06:02:14.421160Z",
     "shell.execute_reply": "2022-07-11T06:02:14.420656Z"
    },
    "papermill": {
     "duration": 0.027508,
     "end_time": "2022-07-11T06:02:14.422648",
     "exception": false,
     "start_time": "2022-07-11T06:02:14.395140",
     "status": "completed"
    },
    "tags": []
   },
   "outputs": [],
   "source": [
    "%load_ext autoreload\n",
    "%autoreload 2"
   ]
  },
  {
   "cell_type": "code",
   "execution_count": 2,
   "id": "1d5f5a59",
   "metadata": {
    "execution": {
     "iopub.execute_input": "2022-07-11T06:02:14.436601Z",
     "iopub.status.busy": "2022-07-11T06:02:14.435620Z",
     "iopub.status.idle": "2022-07-11T06:02:15.430716Z",
     "shell.execute_reply": "2022-07-11T06:02:15.430204Z"
    },
    "papermill": {
     "duration": 1.003509,
     "end_time": "2022-07-11T06:02:15.432171",
     "exception": false,
     "start_time": "2022-07-11T06:02:14.428662",
     "status": "completed"
    },
    "tags": []
   },
   "outputs": [],
   "source": [
    "from random import sample, seed\n",
    "import warnings\n",
    "from pathlib import Path\n",
    "\n",
    "import numpy as np\n",
    "from scipy.spatial.distance import squareform\n",
    "import pandas as pd\n",
    "from tqdm import tqdm\n",
    "import matplotlib.pyplot as plt\n",
    "import seaborn as sns\n",
    "\n",
    "import conf\n",
    "from entity import Gene"
   ]
  },
  {
   "cell_type": "markdown",
   "id": "1eac24b5",
   "metadata": {
    "papermill": {
     "duration": 0.006394,
     "end_time": "2022-07-11T06:02:15.474899",
     "exception": false,
     "start_time": "2022-07-11T06:02:15.468505",
     "status": "completed"
    },
    "tags": []
   },
   "source": [
    "# Settings"
   ]
  },
  {
   "cell_type": "code",
   "execution_count": 3,
   "id": "ca4560ba",
   "metadata": {
    "execution": {
     "iopub.execute_input": "2022-07-11T06:02:15.489025Z",
     "iopub.status.busy": "2022-07-11T06:02:15.488837Z",
     "iopub.status.idle": "2022-07-11T06:02:15.508413Z",
     "shell.execute_reply": "2022-07-11T06:02:15.507911Z"
    },
    "papermill": {
     "duration": 0.028462,
     "end_time": "2022-07-11T06:02:15.509861",
     "exception": false,
     "start_time": "2022-07-11T06:02:15.481399",
     "status": "completed"
    },
    "tags": [
     "parameters"
    ]
   },
   "outputs": [],
   "source": [
    "# reference panel\n",
    "REFERENCE_PANEL = \"GTEX_V8\"\n",
    "# REFERENCE_PANEL = \"1000G\"\n",
    "\n",
    "# prediction models\n",
    "## mashr\n",
    "EQTL_MODEL = \"MASHR\"\n",
    "\n",
    "# this is the default value used in S-MultiXcan to select the\n",
    "# top principal components of the expression correlation matrix\n",
    "SMULTIXCAN_CONDITION_NUMBER = 30\n",
    "\n",
    "# specifies a single chromosome value\n",
    "# by default, run on all chromosomes\n",
    "chromosome = None"
   ]
  },
  {
   "cell_type": "code",
   "execution_count": 4,
   "id": "c2ce942a",
   "metadata": {
    "execution": {
     "iopub.execute_input": "2022-07-11T06:02:15.525282Z",
     "iopub.status.busy": "2022-07-11T06:02:15.525097Z",
     "iopub.status.idle": "2022-07-11T06:02:15.541253Z",
     "shell.execute_reply": "2022-07-11T06:02:15.540789Z"
    },
    "papermill": {
     "duration": 0.026357,
     "end_time": "2022-07-11T06:02:15.542675",
     "exception": false,
     "start_time": "2022-07-11T06:02:15.516318",
     "status": "completed"
    },
    "tags": [
     "injected-parameters"
    ]
   },
   "outputs": [],
   "source": [
    "# Parameters\n",
    "chromosome = 3\n",
    "REFERENCE_PANEL = \"1000G\"\n",
    "EQTL_MODEL = \"MASHR\"\n"
   ]
  },
  {
   "cell_type": "code",
   "execution_count": 5,
   "id": "a089c9ff",
   "metadata": {
    "execution": {
     "iopub.execute_input": "2022-07-11T06:02:15.556600Z",
     "iopub.status.busy": "2022-07-11T06:02:15.556411Z",
     "iopub.status.idle": "2022-07-11T06:02:15.572736Z",
     "shell.execute_reply": "2022-07-11T06:02:15.571427Z"
    },
    "papermill": {
     "duration": 0.025307,
     "end_time": "2022-07-11T06:02:15.574220",
     "exception": false,
     "start_time": "2022-07-11T06:02:15.548913",
     "status": "completed"
    },
    "tags": []
   },
   "outputs": [],
   "source": [
    "EQTL_MODEL_FILES_PREFIX = conf.PHENOMEXCAN[\"PREDICTION_MODELS\"][f\"{EQTL_MODEL}_PREFIX\"]"
   ]
  },
  {
   "cell_type": "code",
   "execution_count": 6,
   "id": "8fe24bef",
   "metadata": {
    "execution": {
     "iopub.execute_input": "2022-07-11T06:02:15.588527Z",
     "iopub.status.busy": "2022-07-11T06:02:15.587709Z",
     "iopub.status.idle": "2022-07-11T06:02:15.607374Z",
     "shell.execute_reply": "2022-07-11T06:02:15.606877Z"
    },
    "papermill": {
     "duration": 0.028083,
     "end_time": "2022-07-11T06:02:15.608720",
     "exception": false,
     "start_time": "2022-07-11T06:02:15.580637",
     "status": "completed"
    },
    "tags": []
   },
   "outputs": [
    {
     "data": {
      "text/plain": [
       "'Using eQTL model: MASHR / mashr_'"
      ]
     },
     "metadata": {},
     "output_type": "display_data"
    }
   ],
   "source": [
    "display(f\"Using eQTL model: {EQTL_MODEL} / {EQTL_MODEL_FILES_PREFIX}\")"
   ]
  },
  {
   "cell_type": "code",
   "execution_count": 7,
   "id": "552a7f63-a18c-4d3e-bb6a-94f99b431291",
   "metadata": {
    "execution": {
     "iopub.execute_input": "2022-07-11T06:02:15.622283Z",
     "iopub.status.busy": "2022-07-11T06:02:15.622095Z",
     "iopub.status.idle": "2022-07-11T06:02:15.638806Z",
     "shell.execute_reply": "2022-07-11T06:02:15.638230Z"
    },
    "papermill": {
     "duration": 0.025184,
     "end_time": "2022-07-11T06:02:15.640306",
     "exception": false,
     "start_time": "2022-07-11T06:02:15.615122",
     "status": "completed"
    },
    "tags": []
   },
   "outputs": [
    {
     "data": {
      "text/plain": [
       "'S-MultiXcan condition number: 30'"
      ]
     },
     "metadata": {},
     "output_type": "display_data"
    }
   ],
   "source": [
    "display(f\"S-MultiXcan condition number: {SMULTIXCAN_CONDITION_NUMBER}\")"
   ]
  },
  {
   "cell_type": "code",
   "execution_count": 8,
   "id": "0230ebcb-2c32-4b95-9292-d9a52038e70d",
   "metadata": {
    "execution": {
     "iopub.execute_input": "2022-07-11T06:02:15.653844Z",
     "iopub.status.busy": "2022-07-11T06:02:15.653619Z",
     "iopub.status.idle": "2022-07-11T06:02:15.670007Z",
     "shell.execute_reply": "2022-07-11T06:02:15.669484Z"
    },
    "papermill": {
     "duration": 0.02475,
     "end_time": "2022-07-11T06:02:15.671433",
     "exception": false,
     "start_time": "2022-07-11T06:02:15.646683",
     "status": "completed"
    },
    "tags": []
   },
   "outputs": [],
   "source": [
    "REFERENCE_PANEL_DIR = conf.PHENOMEXCAN[\"LD_BLOCKS\"][f\"{REFERENCE_PANEL}_GENOTYPE_DIR\"]"
   ]
  },
  {
   "cell_type": "code",
   "execution_count": 9,
   "id": "98c4a159-601d-4a22-a1ab-35bd451c25f9",
   "metadata": {
    "execution": {
     "iopub.execute_input": "2022-07-11T06:02:15.685088Z",
     "iopub.status.busy": "2022-07-11T06:02:15.684760Z",
     "iopub.status.idle": "2022-07-11T06:02:15.702677Z",
     "shell.execute_reply": "2022-07-11T06:02:15.702180Z"
    },
    "papermill": {
     "duration": 0.026223,
     "end_time": "2022-07-11T06:02:15.704077",
     "exception": false,
     "start_time": "2022-07-11T06:02:15.677854",
     "status": "completed"
    },
    "tags": []
   },
   "outputs": [
    {
     "data": {
      "text/plain": [
       "'Using reference panel folder: /opt/data/data/phenomexcan/ld_blocks/reference_panel_1000G'"
      ]
     },
     "metadata": {},
     "output_type": "display_data"
    }
   ],
   "source": [
    "display(f\"Using reference panel folder: {str(REFERENCE_PANEL_DIR)}\")"
   ]
  },
  {
   "cell_type": "code",
   "execution_count": 10,
   "id": "396392dc-0340-4540-9b02-e182b833f909",
   "metadata": {
    "execution": {
     "iopub.execute_input": "2022-07-11T06:02:15.719093Z",
     "iopub.status.busy": "2022-07-11T06:02:15.718909Z",
     "iopub.status.idle": "2022-07-11T06:02:15.734849Z",
     "shell.execute_reply": "2022-07-11T06:02:15.734345Z"
    },
    "papermill": {
     "duration": 0.025678,
     "end_time": "2022-07-11T06:02:15.736393",
     "exception": false,
     "start_time": "2022-07-11T06:02:15.710715",
     "status": "completed"
    },
    "tags": []
   },
   "outputs": [],
   "source": [
    "OUTPUT_DIR_BASE = (\n",
    "    conf.PHENOMEXCAN[\"LD_BLOCKS\"][f\"GENE_CORRS_DIR\"]\n",
    "    / REFERENCE_PANEL.lower()\n",
    "    / EQTL_MODEL.lower()\n",
    ")\n",
    "OUTPUT_DIR_BASE.mkdir(parents=True, exist_ok=True)"
   ]
  },
  {
   "cell_type": "code",
   "execution_count": 11,
   "id": "8942c2d3-e53c-4d63-a0eb-b6fce0574d36",
   "metadata": {
    "execution": {
     "iopub.execute_input": "2022-07-11T06:02:15.749815Z",
     "iopub.status.busy": "2022-07-11T06:02:15.749644Z",
     "iopub.status.idle": "2022-07-11T06:02:15.764988Z",
     "shell.execute_reply": "2022-07-11T06:02:15.764522Z"
    },
    "papermill": {
     "duration": 0.023369,
     "end_time": "2022-07-11T06:02:15.766226",
     "exception": false,
     "start_time": "2022-07-11T06:02:15.742857",
     "status": "completed"
    },
    "tags": []
   },
   "outputs": [
    {
     "data": {
      "text/plain": [
       "'Using output dir base: /opt/data/data/phenomexcan/ld_blocks/gene_corrs/1000g/mashr'"
      ]
     },
     "metadata": {},
     "output_type": "display_data"
    }
   ],
   "source": [
    "display(f\"Using output dir base: {OUTPUT_DIR_BASE}\")"
   ]
  },
  {
   "cell_type": "code",
   "execution_count": 12,
   "id": "408aa590",
   "metadata": {
    "execution": {
     "iopub.execute_input": "2022-07-11T06:02:15.780507Z",
     "iopub.status.busy": "2022-07-11T06:02:15.780329Z",
     "iopub.status.idle": "2022-07-11T06:02:15.795280Z",
     "shell.execute_reply": "2022-07-11T06:02:15.794858Z"
    },
    "papermill": {
     "duration": 0.024062,
     "end_time": "2022-07-11T06:02:15.796668",
     "exception": false,
     "start_time": "2022-07-11T06:02:15.772606",
     "status": "completed"
    },
    "tags": []
   },
   "outputs": [],
   "source": [
    "assert (\n",
    "    chromosome is not None\n",
    "), \"You have to select one chromosome (format: number between 1 and 22)\""
   ]
  },
  {
   "cell_type": "code",
   "execution_count": 13,
   "id": "c1c7dd06-80ff-453c-bcb7-0899edce75da",
   "metadata": {
    "execution": {
     "iopub.execute_input": "2022-07-11T06:02:15.812213Z",
     "iopub.status.busy": "2022-07-11T06:02:15.811793Z",
     "iopub.status.idle": "2022-07-11T06:02:15.828104Z",
     "shell.execute_reply": "2022-07-11T06:02:15.827606Z"
    },
    "papermill": {
     "duration": 0.026257,
     "end_time": "2022-07-11T06:02:15.829532",
     "exception": false,
     "start_time": "2022-07-11T06:02:15.803275",
     "status": "completed"
    },
    "tags": []
   },
   "outputs": [],
   "source": [
    "chromosome = str(chromosome)"
   ]
  },
  {
   "cell_type": "code",
   "execution_count": 14,
   "id": "bc17b84c-9c26-47a5-a3ab-7046e72f3ef4",
   "metadata": {
    "execution": {
     "iopub.execute_input": "2022-07-11T06:02:15.847565Z",
     "iopub.status.busy": "2022-07-11T06:02:15.843753Z",
     "iopub.status.idle": "2022-07-11T06:02:15.865305Z",
     "shell.execute_reply": "2022-07-11T06:02:15.864777Z"
    },
    "papermill": {
     "duration": 0.030286,
     "end_time": "2022-07-11T06:02:15.866625",
     "exception": false,
     "start_time": "2022-07-11T06:02:15.836339",
     "status": "completed"
    },
    "tags": []
   },
   "outputs": [
    {
     "data": {
      "text/plain": [
       "'Working on chromosome 3'"
      ]
     },
     "metadata": {},
     "output_type": "display_data"
    }
   ],
   "source": [
    "display(f\"Working on chromosome {chromosome}\")"
   ]
  },
  {
   "cell_type": "markdown",
   "id": "d2ba085e",
   "metadata": {
    "papermill": {
     "duration": 0.006552,
     "end_time": "2022-07-11T06:02:15.880094",
     "exception": false,
     "start_time": "2022-07-11T06:02:15.873542",
     "status": "completed"
    },
    "tags": []
   },
   "source": [
    "# Load data"
   ]
  },
  {
   "cell_type": "markdown",
   "id": "7bed0ce0-e7c7-4300-9a61-5412450b1904",
   "metadata": {
    "papermill": {
     "duration": 0.006875,
     "end_time": "2022-07-11T06:02:15.893757",
     "exception": false,
     "start_time": "2022-07-11T06:02:15.886882",
     "status": "completed"
    },
    "tags": []
   },
   "source": [
    "## Prediction model tissues"
   ]
  },
  {
   "cell_type": "code",
   "execution_count": 15,
   "id": "0847c065-0d69-4830-a07f-1c75115d17f5",
   "metadata": {
    "execution": {
     "iopub.execute_input": "2022-07-11T06:02:15.911124Z",
     "iopub.status.busy": "2022-07-11T06:02:15.908728Z",
     "iopub.status.idle": "2022-07-11T06:02:15.927899Z",
     "shell.execute_reply": "2022-07-11T06:02:15.927199Z"
    },
    "papermill": {
     "duration": 0.028671,
     "end_time": "2022-07-11T06:02:15.929415",
     "exception": false,
     "start_time": "2022-07-11T06:02:15.900744",
     "status": "completed"
    },
    "tags": []
   },
   "outputs": [],
   "source": [
    "prediction_model_tissues = conf.PHENOMEXCAN[\"PREDICTION_MODELS\"][\n",
    "    f\"{EQTL_MODEL}_TISSUES\"\n",
    "].split(\" \")"
   ]
  },
  {
   "cell_type": "code",
   "execution_count": 16,
   "id": "aaef70d1-30c6-4c6f-9d6b-abc8e9a0081f",
   "metadata": {
    "execution": {
     "iopub.execute_input": "2022-07-11T06:02:15.945058Z",
     "iopub.status.busy": "2022-07-11T06:02:15.944711Z",
     "iopub.status.idle": "2022-07-11T06:02:15.962133Z",
     "shell.execute_reply": "2022-07-11T06:02:15.961554Z"
    },
    "papermill": {
     "duration": 0.026693,
     "end_time": "2022-07-11T06:02:15.963643",
     "exception": false,
     "start_time": "2022-07-11T06:02:15.936950",
     "status": "completed"
    },
    "tags": []
   },
   "outputs": [
    {
     "data": {
      "text/plain": [
       "49"
      ]
     },
     "execution_count": 16,
     "metadata": {},
     "output_type": "execute_result"
    }
   ],
   "source": [
    "len(prediction_model_tissues)"
   ]
  },
  {
   "cell_type": "code",
   "execution_count": 17,
   "id": "ff35a099-c52d-465d-b863-0ee70c26208c",
   "metadata": {
    "execution": {
     "iopub.execute_input": "2022-07-11T06:02:15.980943Z",
     "iopub.status.busy": "2022-07-11T06:02:15.979135Z",
     "iopub.status.idle": "2022-07-11T06:02:15.999395Z",
     "shell.execute_reply": "2022-07-11T06:02:15.998854Z"
    },
    "papermill": {
     "duration": 0.029281,
     "end_time": "2022-07-11T06:02:16.000772",
     "exception": false,
     "start_time": "2022-07-11T06:02:15.971491",
     "status": "completed"
    },
    "tags": []
   },
   "outputs": [
    {
     "data": {
      "text/plain": [
       "['Skin_Not_Sun_Exposed_Suprapubic',\n",
       " 'Cells_EBV-transformed_lymphocytes',\n",
       " 'Brain_Frontal_Cortex_BA9',\n",
       " 'Kidney_Cortex',\n",
       " 'Brain_Substantia_nigra']"
      ]
     },
     "execution_count": 17,
     "metadata": {},
     "output_type": "execute_result"
    }
   ],
   "source": [
    "prediction_model_tissues[:5]"
   ]
  },
  {
   "cell_type": "markdown",
   "id": "abcc4b3d",
   "metadata": {
    "papermill": {
     "duration": 0.00652,
     "end_time": "2022-07-11T06:02:16.014345",
     "exception": false,
     "start_time": "2022-07-11T06:02:16.007825",
     "status": "completed"
    },
    "tags": []
   },
   "source": [
    "## MultiPLIER Z"
   ]
  },
  {
   "cell_type": "code",
   "execution_count": 18,
   "id": "c48ef527",
   "metadata": {
    "execution": {
     "iopub.execute_input": "2022-07-11T06:02:16.028401Z",
     "iopub.status.busy": "2022-07-11T06:02:16.027984Z",
     "iopub.status.idle": "2022-07-11T06:02:16.072892Z",
     "shell.execute_reply": "2022-07-11T06:02:16.072367Z"
    },
    "papermill": {
     "duration": 0.053548,
     "end_time": "2022-07-11T06:02:16.074460",
     "exception": false,
     "start_time": "2022-07-11T06:02:16.020912",
     "status": "completed"
    },
    "tags": []
   },
   "outputs": [],
   "source": [
    "multiplier_z_genes = pd.read_pickle(\n",
    "    conf.MULTIPLIER[\"MODEL_Z_MATRIX_FILE\"]\n",
    ").index.tolist()"
   ]
  },
  {
   "cell_type": "code",
   "execution_count": 19,
   "id": "0a4ecbd9",
   "metadata": {
    "execution": {
     "iopub.execute_input": "2022-07-11T06:02:16.090190Z",
     "iopub.status.busy": "2022-07-11T06:02:16.089960Z",
     "iopub.status.idle": "2022-07-11T06:02:16.107233Z",
     "shell.execute_reply": "2022-07-11T06:02:16.105803Z"
    },
    "papermill": {
     "duration": 0.026667,
     "end_time": "2022-07-11T06:02:16.108713",
     "exception": false,
     "start_time": "2022-07-11T06:02:16.082046",
     "status": "completed"
    },
    "tags": []
   },
   "outputs": [
    {
     "data": {
      "text/plain": [
       "6750"
      ]
     },
     "execution_count": 19,
     "metadata": {},
     "output_type": "execute_result"
    }
   ],
   "source": [
    "len(multiplier_z_genes)"
   ]
  },
  {
   "cell_type": "code",
   "execution_count": 20,
   "id": "115e8864",
   "metadata": {
    "execution": {
     "iopub.execute_input": "2022-07-11T06:02:16.124646Z",
     "iopub.status.busy": "2022-07-11T06:02:16.124462Z",
     "iopub.status.idle": "2022-07-11T06:02:16.141032Z",
     "shell.execute_reply": "2022-07-11T06:02:16.140602Z"
    },
    "papermill": {
     "duration": 0.028257,
     "end_time": "2022-07-11T06:02:16.144655",
     "exception": false,
     "start_time": "2022-07-11T06:02:16.116398",
     "status": "completed"
    },
    "tags": []
   },
   "outputs": [
    {
     "data": {
      "text/plain": [
       "['GAS6',\n",
       " 'MMP14',\n",
       " 'DSP',\n",
       " 'MARCKSL1',\n",
       " 'SPARC',\n",
       " 'CTSD',\n",
       " 'EPAS1',\n",
       " 'PALLD',\n",
       " 'PHC2',\n",
       " 'LGALS3BP']"
      ]
     },
     "execution_count": 20,
     "metadata": {},
     "output_type": "execute_result"
    }
   ],
   "source": [
    "multiplier_z_genes[:10]"
   ]
  },
  {
   "cell_type": "markdown",
   "id": "7dcb8db7",
   "metadata": {
    "papermill": {
     "duration": 0.008497,
     "end_time": "2022-07-11T06:02:16.164831",
     "exception": false,
     "start_time": "2022-07-11T06:02:16.156334",
     "status": "completed"
    },
    "tags": []
   },
   "source": [
    "## Get gene objects"
   ]
  },
  {
   "cell_type": "code",
   "execution_count": 21,
   "id": "bb932812",
   "metadata": {
    "execution": {
     "iopub.execute_input": "2022-07-11T06:02:16.184529Z",
     "iopub.status.busy": "2022-07-11T06:02:16.183972Z",
     "iopub.status.idle": "2022-07-11T06:02:16.206799Z",
     "shell.execute_reply": "2022-07-11T06:02:16.206288Z"
    },
    "papermill": {
     "duration": 0.033155,
     "end_time": "2022-07-11T06:02:16.208222",
     "exception": false,
     "start_time": "2022-07-11T06:02:16.175067",
     "status": "completed"
    },
    "tags": []
   },
   "outputs": [],
   "source": [
    "multiplier_gene_obj = {\n",
    "    gene_name: Gene(name=gene_name)\n",
    "    for gene_name in multiplier_z_genes\n",
    "    if gene_name in Gene.GENE_NAME_TO_ID_MAP\n",
    "}"
   ]
  },
  {
   "cell_type": "code",
   "execution_count": 22,
   "id": "39533214",
   "metadata": {
    "execution": {
     "iopub.execute_input": "2022-07-11T06:02:16.222609Z",
     "iopub.status.busy": "2022-07-11T06:02:16.222217Z",
     "iopub.status.idle": "2022-07-11T06:02:16.236433Z",
     "shell.execute_reply": "2022-07-11T06:02:16.236000Z"
    },
    "papermill": {
     "duration": 0.022469,
     "end_time": "2022-07-11T06:02:16.237588",
     "exception": false,
     "start_time": "2022-07-11T06:02:16.215119",
     "status": "completed"
    },
    "tags": []
   },
   "outputs": [
    {
     "data": {
      "text/plain": [
       "6454"
      ]
     },
     "execution_count": 22,
     "metadata": {},
     "output_type": "execute_result"
    }
   ],
   "source": [
    "len(multiplier_gene_obj)"
   ]
  },
  {
   "cell_type": "code",
   "execution_count": 23,
   "id": "9a5d0b84",
   "metadata": {
    "execution": {
     "iopub.execute_input": "2022-07-11T06:02:16.251647Z",
     "iopub.status.busy": "2022-07-11T06:02:16.251266Z",
     "iopub.status.idle": "2022-07-11T06:02:16.266826Z",
     "shell.execute_reply": "2022-07-11T06:02:16.266190Z"
    },
    "papermill": {
     "duration": 0.023978,
     "end_time": "2022-07-11T06:02:16.268160",
     "exception": false,
     "start_time": "2022-07-11T06:02:16.244182",
     "status": "completed"
    },
    "tags": []
   },
   "outputs": [
    {
     "data": {
      "text/plain": [
       "'ENSG00000183087'"
      ]
     },
     "execution_count": 23,
     "metadata": {},
     "output_type": "execute_result"
    }
   ],
   "source": [
    "multiplier_gene_obj[\"GAS6\"].ensembl_id"
   ]
  },
  {
   "cell_type": "code",
   "execution_count": 24,
   "id": "e3ffabc7",
   "metadata": {
    "execution": {
     "iopub.execute_input": "2022-07-11T06:02:16.282508Z",
     "iopub.status.busy": "2022-07-11T06:02:16.281836Z",
     "iopub.status.idle": "2022-07-11T06:02:18.313599Z",
     "shell.execute_reply": "2022-07-11T06:02:18.313071Z"
    },
    "papermill": {
     "duration": 2.040249,
     "end_time": "2022-07-11T06:02:18.314954",
     "exception": false,
     "start_time": "2022-07-11T06:02:16.274705",
     "status": "completed"
    },
    "tags": []
   },
   "outputs": [],
   "source": [
    "_gene_obj = list(multiplier_gene_obj.values())\n",
    "\n",
    "genes_info = pd.DataFrame(\n",
    "    {\n",
    "        \"name\": [g.name for g in _gene_obj],\n",
    "        \"id\": [g.ensembl_id for g in _gene_obj],\n",
    "        \"chr\": [g.chromosome for g in _gene_obj],\n",
    "        \"band\": [g.band for g in _gene_obj],\n",
    "        \"start_position\": [g.get_attribute(\"start_position\") for g in _gene_obj],\n",
    "    }\n",
    ")"
   ]
  },
  {
   "cell_type": "code",
   "execution_count": 25,
   "id": "e23519b8",
   "metadata": {
    "execution": {
     "iopub.execute_input": "2022-07-11T06:02:18.330321Z",
     "iopub.status.busy": "2022-07-11T06:02:18.330147Z",
     "iopub.status.idle": "2022-07-11T06:02:18.346024Z",
     "shell.execute_reply": "2022-07-11T06:02:18.345516Z"
    },
    "papermill": {
     "duration": 0.024982,
     "end_time": "2022-07-11T06:02:18.347272",
     "exception": false,
     "start_time": "2022-07-11T06:02:18.322290",
     "status": "completed"
    },
    "tags": []
   },
   "outputs": [
    {
     "data": {
      "text/plain": [
       "(6454, 5)"
      ]
     },
     "execution_count": 25,
     "metadata": {},
     "output_type": "execute_result"
    }
   ],
   "source": [
    "genes_info.shape"
   ]
  },
  {
   "cell_type": "code",
   "execution_count": 26,
   "id": "0d71881c",
   "metadata": {
    "execution": {
     "iopub.execute_input": "2022-07-11T06:02:18.363422Z",
     "iopub.status.busy": "2022-07-11T06:02:18.363238Z",
     "iopub.status.idle": "2022-07-11T06:02:18.387302Z",
     "shell.execute_reply": "2022-07-11T06:02:18.386760Z"
    },
    "papermill": {
     "duration": 0.03374,
     "end_time": "2022-07-11T06:02:18.388659",
     "exception": false,
     "start_time": "2022-07-11T06:02:18.354919",
     "status": "completed"
    },
    "tags": []
   },
   "outputs": [
    {
     "data": {
      "text/html": [
       "<div>\n",
       "<style scoped>\n",
       "    .dataframe tbody tr th:only-of-type {\n",
       "        vertical-align: middle;\n",
       "    }\n",
       "\n",
       "    .dataframe tbody tr th {\n",
       "        vertical-align: top;\n",
       "    }\n",
       "\n",
       "    .dataframe thead th {\n",
       "        text-align: right;\n",
       "    }\n",
       "</style>\n",
       "<table border=\"1\" class=\"dataframe\">\n",
       "  <thead>\n",
       "    <tr style=\"text-align: right;\">\n",
       "      <th></th>\n",
       "      <th>name</th>\n",
       "      <th>id</th>\n",
       "      <th>chr</th>\n",
       "      <th>band</th>\n",
       "      <th>start_position</th>\n",
       "    </tr>\n",
       "  </thead>\n",
       "  <tbody>\n",
       "    <tr>\n",
       "      <th>0</th>\n",
       "      <td>GAS6</td>\n",
       "      <td>ENSG00000183087</td>\n",
       "      <td>13</td>\n",
       "      <td>13q34</td>\n",
       "      <td>113820549.0</td>\n",
       "    </tr>\n",
       "    <tr>\n",
       "      <th>1</th>\n",
       "      <td>MMP14</td>\n",
       "      <td>ENSG00000157227</td>\n",
       "      <td>14</td>\n",
       "      <td>14q11.2</td>\n",
       "      <td>22836560.0</td>\n",
       "    </tr>\n",
       "    <tr>\n",
       "      <th>2</th>\n",
       "      <td>DSP</td>\n",
       "      <td>ENSG00000096696</td>\n",
       "      <td>6</td>\n",
       "      <td>6p24.3</td>\n",
       "      <td>7541617.0</td>\n",
       "    </tr>\n",
       "    <tr>\n",
       "      <th>3</th>\n",
       "      <td>MARCKSL1</td>\n",
       "      <td>ENSG00000175130</td>\n",
       "      <td>1</td>\n",
       "      <td>1p35.1</td>\n",
       "      <td>32333839.0</td>\n",
       "    </tr>\n",
       "    <tr>\n",
       "      <th>4</th>\n",
       "      <td>SPARC</td>\n",
       "      <td>ENSG00000113140</td>\n",
       "      <td>5</td>\n",
       "      <td>5q33.1</td>\n",
       "      <td>151661096.0</td>\n",
       "    </tr>\n",
       "  </tbody>\n",
       "</table>\n",
       "</div>"
      ],
      "text/plain": [
       "       name               id chr     band  start_position\n",
       "0      GAS6  ENSG00000183087  13    13q34     113820549.0\n",
       "1     MMP14  ENSG00000157227  14  14q11.2      22836560.0\n",
       "2       DSP  ENSG00000096696   6   6p24.3       7541617.0\n",
       "3  MARCKSL1  ENSG00000175130   1   1p35.1      32333839.0\n",
       "4     SPARC  ENSG00000113140   5   5q33.1     151661096.0"
      ]
     },
     "execution_count": 26,
     "metadata": {},
     "output_type": "execute_result"
    }
   ],
   "source": [
    "genes_info.head()"
   ]
  },
  {
   "cell_type": "markdown",
   "id": "c8d1038f",
   "metadata": {
    "papermill": {
     "duration": 0.007483,
     "end_time": "2022-07-11T06:02:18.404741",
     "exception": false,
     "start_time": "2022-07-11T06:02:18.397258",
     "status": "completed"
    },
    "tags": []
   },
   "source": [
    "# Test"
   ]
  },
  {
   "cell_type": "code",
   "execution_count": 27,
   "id": "64993abf",
   "metadata": {
    "execution": {
     "iopub.execute_input": "2022-07-11T06:02:18.420736Z",
     "iopub.status.busy": "2022-07-11T06:02:18.420564Z",
     "iopub.status.idle": "2022-07-11T06:02:18.447936Z",
     "shell.execute_reply": "2022-07-11T06:02:18.443936Z"
    },
    "papermill": {
     "duration": 0.036805,
     "end_time": "2022-07-11T06:02:18.449311",
     "exception": false,
     "start_time": "2022-07-11T06:02:18.412506",
     "status": "completed"
    },
    "tags": []
   },
   "outputs": [
    {
     "data": {
      "text/html": [
       "<div>\n",
       "<style scoped>\n",
       "    .dataframe tbody tr th:only-of-type {\n",
       "        vertical-align: middle;\n",
       "    }\n",
       "\n",
       "    .dataframe tbody tr th {\n",
       "        vertical-align: top;\n",
       "    }\n",
       "\n",
       "    .dataframe thead th {\n",
       "        text-align: right;\n",
       "    }\n",
       "</style>\n",
       "<table border=\"1\" class=\"dataframe\">\n",
       "  <thead>\n",
       "    <tr style=\"text-align: right;\">\n",
       "      <th></th>\n",
       "      <th>name</th>\n",
       "      <th>id</th>\n",
       "      <th>chr</th>\n",
       "      <th>band</th>\n",
       "      <th>start_position</th>\n",
       "    </tr>\n",
       "  </thead>\n",
       "  <tbody>\n",
       "    <tr>\n",
       "      <th>13</th>\n",
       "      <td>ITGB5</td>\n",
       "      <td>ENSG00000082781</td>\n",
       "      <td>3</td>\n",
       "      <td>3q21.2</td>\n",
       "      <td>124761948.0</td>\n",
       "    </tr>\n",
       "    <tr>\n",
       "      <th>42</th>\n",
       "      <td>LTF</td>\n",
       "      <td>ENSG00000012223</td>\n",
       "      <td>3</td>\n",
       "      <td>3p21.31</td>\n",
       "      <td>46435645.0</td>\n",
       "    </tr>\n",
       "    <tr>\n",
       "      <th>102</th>\n",
       "      <td>MME</td>\n",
       "      <td>ENSG00000196549</td>\n",
       "      <td>3</td>\n",
       "      <td>3q25.2</td>\n",
       "      <td>155024124.0</td>\n",
       "    </tr>\n",
       "    <tr>\n",
       "      <th>125</th>\n",
       "      <td>PDIA5</td>\n",
       "      <td>ENSG00000065485</td>\n",
       "      <td>3</td>\n",
       "      <td>3q21.1</td>\n",
       "      <td>123067025.0</td>\n",
       "    </tr>\n",
       "    <tr>\n",
       "      <th>146</th>\n",
       "      <td>STAB1</td>\n",
       "      <td>ENSG00000010327</td>\n",
       "      <td>3</td>\n",
       "      <td>3p21.1</td>\n",
       "      <td>52495338.0</td>\n",
       "    </tr>\n",
       "    <tr>\n",
       "      <th>...</th>\n",
       "      <td>...</td>\n",
       "      <td>...</td>\n",
       "      <td>...</td>\n",
       "      <td>...</td>\n",
       "      <td>...</td>\n",
       "    </tr>\n",
       "    <tr>\n",
       "      <th>6413</th>\n",
       "      <td>STT3B</td>\n",
       "      <td>ENSG00000163527</td>\n",
       "      <td>3</td>\n",
       "      <td>3p23</td>\n",
       "      <td>31532638.0</td>\n",
       "    </tr>\n",
       "    <tr>\n",
       "      <th>6417</th>\n",
       "      <td>ETV5</td>\n",
       "      <td>ENSG00000244405</td>\n",
       "      <td>3</td>\n",
       "      <td>3q27.2</td>\n",
       "      <td>186046314.0</td>\n",
       "    </tr>\n",
       "    <tr>\n",
       "      <th>6424</th>\n",
       "      <td>SACM1L</td>\n",
       "      <td>ENSG00000211456</td>\n",
       "      <td>3</td>\n",
       "      <td>3p21.31</td>\n",
       "      <td>45689056.0</td>\n",
       "    </tr>\n",
       "    <tr>\n",
       "      <th>6434</th>\n",
       "      <td>SLC33A1</td>\n",
       "      <td>ENSG00000169359</td>\n",
       "      <td>3</td>\n",
       "      <td>3q25.31</td>\n",
       "      <td>155821024.0</td>\n",
       "    </tr>\n",
       "    <tr>\n",
       "      <th>6446</th>\n",
       "      <td>ACAP2</td>\n",
       "      <td>ENSG00000114331</td>\n",
       "      <td>3</td>\n",
       "      <td>3q29</td>\n",
       "      <td>195274745.0</td>\n",
       "    </tr>\n",
       "  </tbody>\n",
       "</table>\n",
       "<p>393 rows × 5 columns</p>\n",
       "</div>"
      ],
      "text/plain": [
       "         name               id chr     band  start_position\n",
       "13      ITGB5  ENSG00000082781   3   3q21.2     124761948.0\n",
       "42        LTF  ENSG00000012223   3  3p21.31      46435645.0\n",
       "102       MME  ENSG00000196549   3   3q25.2     155024124.0\n",
       "125     PDIA5  ENSG00000065485   3   3q21.1     123067025.0\n",
       "146     STAB1  ENSG00000010327   3   3p21.1      52495338.0\n",
       "...       ...              ...  ..      ...             ...\n",
       "6413    STT3B  ENSG00000163527   3     3p23      31532638.0\n",
       "6417     ETV5  ENSG00000244405   3   3q27.2     186046314.0\n",
       "6424   SACM1L  ENSG00000211456   3  3p21.31      45689056.0\n",
       "6434  SLC33A1  ENSG00000169359   3  3q25.31     155821024.0\n",
       "6446    ACAP2  ENSG00000114331   3     3q29     195274745.0\n",
       "\n",
       "[393 rows x 5 columns]"
      ]
     },
     "metadata": {},
     "output_type": "display_data"
    }
   ],
   "source": [
    "chromosome_genes_info = genes_info[genes_info[\"chr\"] == chromosome]\n",
    "display(chromosome_genes_info)"
   ]
  },
  {
   "cell_type": "code",
   "execution_count": 28,
   "id": "d2e42726-7de6-46eb-acfc-6323eaa8fae6",
   "metadata": {
    "execution": {
     "iopub.execute_input": "2022-07-11T06:02:18.465497Z",
     "iopub.status.busy": "2022-07-11T06:02:18.465329Z",
     "iopub.status.idle": "2022-07-11T06:02:18.483277Z",
     "shell.execute_reply": "2022-07-11T06:02:18.482727Z"
    },
    "papermill": {
     "duration": 0.027765,
     "end_time": "2022-07-11T06:02:18.484711",
     "exception": false,
     "start_time": "2022-07-11T06:02:18.456946",
     "status": "completed"
    },
    "tags": []
   },
   "outputs": [
    {
     "data": {
      "text/plain": [
       "5"
      ]
     },
     "metadata": {},
     "output_type": "display_data"
    }
   ],
   "source": [
    "seed(0)\n",
    "_gene_list_ids = sample(chromosome_genes_info[\"id\"].tolist(), 5)\n",
    "selected_chromosome_genes_obj = [Gene(ensembl_id=g_id) for g_id in _gene_list_ids]\n",
    "display(len(selected_chromosome_genes_obj))"
   ]
  },
  {
   "cell_type": "code",
   "execution_count": 29,
   "id": "1b355359",
   "metadata": {
    "execution": {
     "iopub.execute_input": "2022-07-11T06:02:18.501720Z",
     "iopub.status.busy": "2022-07-11T06:02:18.501537Z",
     "iopub.status.idle": "2022-07-11T06:02:21.738017Z",
     "shell.execute_reply": "2022-07-11T06:02:21.737431Z"
    },
    "papermill": {
     "duration": 3.246339,
     "end_time": "2022-07-11T06:02:21.739357",
     "exception": false,
     "start_time": "2022-07-11T06:02:18.493018",
     "status": "completed"
    },
    "tags": []
   },
   "outputs": [
    {
     "name": "stdout",
     "output_type": "stream",
     "text": [
      "DYNC1LI1 / STT3B: 0.013511617310795197\n",
      "DYNC1LI1 / DTX3L: 0.0\n",
      "DYNC1LI1 / CCR2: 0.0\n",
      "DYNC1LI1 / RASSF1: 0.0\n",
      "STT3B / DTX3L: 0.0\n",
      "STT3B / CCR2: 0.0\n",
      "STT3B / RASSF1: 0.0\n",
      "DTX3L / CCR2: 0.0\n",
      "DTX3L / RASSF1: 0.0\n",
      "CCR2 / RASSF1: 0.00693074383769385\n"
     ]
    }
   ],
   "source": [
    "for gene_idx1 in range(0, len(selected_chromosome_genes_obj) - 1):\n",
    "    gene_obj1 = selected_chromosome_genes_obj[gene_idx1]\n",
    "\n",
    "    for gene_idx2 in range(gene_idx1 + 1, len(selected_chromosome_genes_obj)):\n",
    "        gene_obj2 = selected_chromosome_genes_obj[gene_idx2]\n",
    "\n",
    "        c = gene_obj1.get_ssm_correlation(\n",
    "            gene_obj2,\n",
    "        )\n",
    "\n",
    "        print(f\"{gene_obj1.name} / {gene_obj2.name}: {c}\")"
   ]
  },
  {
   "cell_type": "markdown",
   "id": "d3843e06",
   "metadata": {
    "papermill": {
     "duration": 0.007683,
     "end_time": "2022-07-11T06:02:21.754839",
     "exception": false,
     "start_time": "2022-07-11T06:02:21.747156",
     "status": "completed"
    },
    "tags": []
   },
   "source": [
    "# Compute correlation per chromosome"
   ]
  },
  {
   "cell_type": "code",
   "execution_count": 30,
   "id": "cb859c15-d1f3-4006-a74c-2b83c0db9611",
   "metadata": {
    "execution": {
     "iopub.execute_input": "2022-07-11T06:02:21.771622Z",
     "iopub.status.busy": "2022-07-11T06:02:21.771256Z",
     "iopub.status.idle": "2022-07-11T06:02:21.789473Z",
     "shell.execute_reply": "2022-07-11T06:02:21.788876Z"
    },
    "papermill": {
     "duration": 0.028185,
     "end_time": "2022-07-11T06:02:21.790911",
     "exception": false,
     "start_time": "2022-07-11T06:02:21.762726",
     "status": "completed"
    },
    "tags": []
   },
   "outputs": [
    {
     "data": {
      "text/plain": [
       "PosixPath('/opt/data/data/phenomexcan/ld_blocks/gene_corrs/1000g/mashr/by_chr/gene_corrs-chr3.pkl')"
      ]
     },
     "metadata": {},
     "output_type": "display_data"
    }
   ],
   "source": [
    "output_dir = OUTPUT_DIR_BASE / \"by_chr\"\n",
    "output_dir.mkdir(exist_ok=True, parents=True)\n",
    "output_file = output_dir / f\"gene_corrs-chr{chromosome}.pkl\"\n",
    "display(output_file)"
   ]
  },
  {
   "cell_type": "code",
   "execution_count": 31,
   "id": "aa674fe4-6794-4eed-98fa-32b39d1d4ace",
   "metadata": {
    "execution": {
     "iopub.execute_input": "2022-07-11T06:02:21.808269Z",
     "iopub.status.busy": "2022-07-11T06:02:21.807782Z",
     "iopub.status.idle": "2022-07-11T06:02:21.823619Z",
     "shell.execute_reply": "2022-07-11T06:02:21.823093Z"
    },
    "papermill": {
     "duration": 0.025975,
     "end_time": "2022-07-11T06:02:21.825022",
     "exception": false,
     "start_time": "2022-07-11T06:02:21.799047",
     "status": "completed"
    },
    "tags": []
   },
   "outputs": [],
   "source": [
    "warnings.filterwarnings(\"error\")"
   ]
  },
  {
   "cell_type": "code",
   "execution_count": 32,
   "id": "cdbb90a1",
   "metadata": {
    "execution": {
     "iopub.execute_input": "2022-07-11T06:02:21.842785Z",
     "iopub.status.busy": "2022-07-11T06:02:21.842234Z",
     "iopub.status.idle": "2022-07-11T06:18:48.655951Z",
     "shell.execute_reply": "2022-07-11T06:18:48.655544Z"
    },
    "papermill": {
     "duration": 986.823891,
     "end_time": "2022-07-11T06:18:48.657289",
     "exception": false,
     "start_time": "2022-07-11T06:02:21.833398",
     "status": "completed"
    },
    "tags": []
   },
   "outputs": [
    {
     "name": "stdout",
     "output_type": "stream",
     "text": [
      "Number of genes in chromosome: 393\n",
      "Number of gene combinations: 77028\n"
     ]
    },
    {
     "name": "stderr",
     "output_type": "stream",
     "text": [
      "ENSG00000161267 / ENSG00000182899: 100%|██████████████████████| 77028/77028 [16:26<00:00, 78.06it/s]"
     ]
    },
    {
     "name": "stdout",
     "output_type": "stream",
     "text": [
      "Min/max values: 0.0 / 0.9966466411052055\n"
     ]
    },
    {
     "name": "stderr",
     "output_type": "stream",
     "text": [
      "\n"
     ]
    },
    {
     "data": {
      "text/plain": [
       "PosixPath('/opt/data/data/phenomexcan/ld_blocks/gene_corrs/1000g/mashr/by_chr/gene_corrs-chr3.pkl')"
      ]
     },
     "metadata": {},
     "output_type": "display_data"
    }
   ],
   "source": [
    "# standard checks\n",
    "all_chrs = genes_info[\"chr\"].dropna().unique()\n",
    "assert all_chrs.shape[0] == 22\n",
    "\n",
    "# select chromosome given by the user\n",
    "assert chromosome in all_chrs\n",
    "\n",
    "# run only on the chromosome specified\n",
    "all_chrs = [chromosome]\n",
    "genes_chr = genes_info[genes_info[\"chr\"] == chromosome]\n",
    "\n",
    "# For testing purposes\n",
    "# genes_chr = genes_chr.sample(n=20)\n",
    "\n",
    "print(f\"Number of genes in chromosome: {genes_chr.shape[0]}\", flush=True)\n",
    "\n",
    "# sort genes by starting position to make visualizations better later\n",
    "genes_chr = genes_chr.sort_values(\"start_position\")\n",
    "\n",
    "gene_chr_objs = [Gene(ensembl_id=gene_id) for gene_id in genes_chr[\"id\"]]\n",
    "gene_chr_ids = [g.ensembl_id for g in gene_chr_objs]\n",
    "\n",
    "n = len(gene_chr_objs)\n",
    "n_comb = int(n * (n - 1) / 2.0)\n",
    "print(f\"Number of gene combinations: {n_comb}\", flush=True)\n",
    "\n",
    "gene_corrs = []\n",
    "\n",
    "pbar = tqdm(ncols=100, total=n_comb)\n",
    "i = 0\n",
    "for gene_idx1 in range(0, len(gene_chr_objs) - 1):\n",
    "    gene_obj1 = gene_chr_objs[gene_idx1]\n",
    "\n",
    "    for gene_idx2 in range(gene_idx1 + 1, len(gene_chr_objs)):\n",
    "        gene_obj2 = gene_chr_objs[gene_idx2]\n",
    "\n",
    "        pbar.set_description(f\"{gene_obj1.ensembl_id} / {gene_obj2.ensembl_id}\")\n",
    "\n",
    "        try:\n",
    "            # FIXME: compute the correlation of the sum of squares of the model using all\n",
    "            # the available tissues; this could be problematic because for some results\n",
    "            # (computed on a specific phenotype/GWAS) we might not have all the tissues\n",
    "            # available, which can certainly bias the correlation estimation.\n",
    "            # Since this depends on the GWAS on a specific phenotype, we should ideally have\n",
    "            # one correlation matrix per GWAS. I should look at how we can improve this.\n",
    "            r = gene_obj1.get_ssm_correlation(\n",
    "                other_gene=gene_obj2,\n",
    "                condition_number=SMULTIXCAN_CONDITION_NUMBER,\n",
    "                reference_panel=REFERENCE_PANEL,\n",
    "                model_type=EQTL_MODEL,\n",
    "            )\n",
    "\n",
    "            if r is None:\n",
    "                # if r is None, it's very likely because:\n",
    "                #  * one of the genes has no prediction models\n",
    "                #  * all the SNPs predictors for the gene are not present in the reference\n",
    "                #    panel\n",
    "\n",
    "                r = 0.0\n",
    "\n",
    "            gene_corrs.append(r)\n",
    "        except Warning:\n",
    "            print(\n",
    "                f\"RuntimeWarning for genes {gene_obj1.ensembl_id} and {gene_obj2.ensembl_id}\",\n",
    "                flush=True,\n",
    "            )\n",
    "            import traceback\n",
    "\n",
    "            print(traceback.format_exc(), flush=True)\n",
    "        except Exception as e:\n",
    "            print(\n",
    "                f\"Exception for genes {gene_obj1.ensembl_id} and {gene_obj2.ensembl_id}\",\n",
    "                flush=True,\n",
    "            )\n",
    "            import traceback\n",
    "\n",
    "            print(traceback.format_exc(), flush=True)\n",
    "            gene_corrs.append(np.nan)\n",
    "\n",
    "        pbar.update(1)\n",
    "\n",
    "pbar.close()\n",
    "\n",
    "# testing\n",
    "gene_corrs_flat = pd.Series(gene_corrs)\n",
    "print(f\"Min/max values: {gene_corrs_flat.min()} / {gene_corrs_flat.max()}\")\n",
    "assert gene_corrs_flat.min() >= -1.001\n",
    "assert gene_corrs_flat.max() <= 1.001\n",
    "\n",
    "# save\n",
    "# FIXME: consider saving only the condenced matrix here. See here for\n",
    "# more details: https://github.com/greenelab/phenoplier/pull/38#discussion_r634600813\n",
    "gene_corrs_data = squareform(np.array(gene_corrs, dtype=np.float64))\n",
    "np.fill_diagonal(gene_corrs_data, 1.0)\n",
    "\n",
    "gene_corrs_df = pd.DataFrame(\n",
    "    data=gene_corrs_data,\n",
    "    index=gene_chr_ids,\n",
    "    columns=gene_chr_ids,\n",
    ")\n",
    "\n",
    "output_dir.mkdir(exist_ok=True, parents=True)\n",
    "display(output_file)\n",
    "\n",
    "gene_corrs_df.to_pickle(output_file)"
   ]
  },
  {
   "cell_type": "markdown",
   "id": "faa67b51-5373-470f-aa72-2ded53fa6dfe",
   "metadata": {
    "papermill": {
     "duration": 3.390913,
     "end_time": "2022-07-11T06:18:55.432492",
     "exception": false,
     "start_time": "2022-07-11T06:18:52.041579",
     "status": "completed"
    },
    "tags": []
   },
   "source": [
    "# Testing"
   ]
  },
  {
   "cell_type": "code",
   "execution_count": 33,
   "id": "14f7d046-4b55-4896-a56b-990127bcc388",
   "metadata": {
    "execution": {
     "iopub.execute_input": "2022-07-11T06:19:02.389585Z",
     "iopub.status.busy": "2022-07-11T06:19:02.389424Z",
     "iopub.status.idle": "2022-07-11T06:19:02.406723Z",
     "shell.execute_reply": "2022-07-11T06:19:02.406330Z"
    },
    "papermill": {
     "duration": 3.527728,
     "end_time": "2022-07-11T06:19:02.408004",
     "exception": false,
     "start_time": "2022-07-11T06:18:58.880276",
     "status": "completed"
    },
    "tags": []
   },
   "outputs": [
    {
     "data": {
      "text/plain": [
       "(393, 393)"
      ]
     },
     "execution_count": 33,
     "metadata": {},
     "output_type": "execute_result"
    }
   ],
   "source": [
    "gene_corrs_df.shape"
   ]
  },
  {
   "cell_type": "code",
   "execution_count": 34,
   "id": "c7d15414-3297-4537-a7c6-7588c0baeb75",
   "metadata": {
    "execution": {
     "iopub.execute_input": "2022-07-11T06:19:08.545093Z",
     "iopub.status.busy": "2022-07-11T06:19:08.544931Z",
     "iopub.status.idle": "2022-07-11T06:19:08.581824Z",
     "shell.execute_reply": "2022-07-11T06:19:08.581410Z"
    },
    "papermill": {
     "duration": 2.935938,
     "end_time": "2022-07-11T06:19:08.582994",
     "exception": false,
     "start_time": "2022-07-11T06:19:05.647056",
     "status": "completed"
    },
    "tags": []
   },
   "outputs": [
    {
     "data": {
      "text/html": [
       "<div>\n",
       "<style scoped>\n",
       "    .dataframe tbody tr th:only-of-type {\n",
       "        vertical-align: middle;\n",
       "    }\n",
       "\n",
       "    .dataframe tbody tr th {\n",
       "        vertical-align: top;\n",
       "    }\n",
       "\n",
       "    .dataframe thead th {\n",
       "        text-align: right;\n",
       "    }\n",
       "</style>\n",
       "<table border=\"1\" class=\"dataframe\">\n",
       "  <thead>\n",
       "    <tr style=\"text-align: right;\">\n",
       "      <th></th>\n",
       "      <th>ENSG00000134121</th>\n",
       "      <th>ENSG00000091181</th>\n",
       "      <th>ENSG00000144455</th>\n",
       "      <th>ENSG00000170364</th>\n",
       "      <th>ENSG00000150995</th>\n",
       "      <th>ENSG00000134107</th>\n",
       "      <th>ENSG00000134109</th>\n",
       "      <th>ENSG00000180914</th>\n",
       "      <th>ENSG00000196220</th>\n",
       "      <th>ENSG00000163719</th>\n",
       "      <th>...</th>\n",
       "      <th>ENSG00000061938</th>\n",
       "      <th>ENSG00000072274</th>\n",
       "      <th>ENSG00000161217</th>\n",
       "      <th>ENSG00000174013</th>\n",
       "      <th>ENSG00000163964</th>\n",
       "      <th>ENSG00000180370</th>\n",
       "      <th>ENSG00000114503</th>\n",
       "      <th>ENSG00000075711</th>\n",
       "      <th>ENSG00000161267</th>\n",
       "      <th>ENSG00000182899</th>\n",
       "    </tr>\n",
       "  </thead>\n",
       "  <tbody>\n",
       "    <tr>\n",
       "      <th>ENSG00000134121</th>\n",
       "      <td>1.000000</td>\n",
       "      <td>0.017674</td>\n",
       "      <td>0.012542</td>\n",
       "      <td>0.016677</td>\n",
       "      <td>0.018479</td>\n",
       "      <td>0.016098</td>\n",
       "      <td>0.018823</td>\n",
       "      <td>0.000000</td>\n",
       "      <td>0.000000</td>\n",
       "      <td>0.000000</td>\n",
       "      <td>...</td>\n",
       "      <td>0.0</td>\n",
       "      <td>0.0</td>\n",
       "      <td>0.0</td>\n",
       "      <td>0.0</td>\n",
       "      <td>0.0</td>\n",
       "      <td>0.0</td>\n",
       "      <td>0.0</td>\n",
       "      <td>0.0</td>\n",
       "      <td>0.0</td>\n",
       "      <td>0.0</td>\n",
       "    </tr>\n",
       "    <tr>\n",
       "      <th>ENSG00000091181</th>\n",
       "      <td>0.017674</td>\n",
       "      <td>1.000000</td>\n",
       "      <td>0.003377</td>\n",
       "      <td>0.010512</td>\n",
       "      <td>0.010217</td>\n",
       "      <td>0.008806</td>\n",
       "      <td>0.010159</td>\n",
       "      <td>0.000000</td>\n",
       "      <td>0.000000</td>\n",
       "      <td>0.000000</td>\n",
       "      <td>...</td>\n",
       "      <td>0.0</td>\n",
       "      <td>0.0</td>\n",
       "      <td>0.0</td>\n",
       "      <td>0.0</td>\n",
       "      <td>0.0</td>\n",
       "      <td>0.0</td>\n",
       "      <td>0.0</td>\n",
       "      <td>0.0</td>\n",
       "      <td>0.0</td>\n",
       "      <td>0.0</td>\n",
       "    </tr>\n",
       "    <tr>\n",
       "      <th>ENSG00000144455</th>\n",
       "      <td>0.012542</td>\n",
       "      <td>0.003377</td>\n",
       "      <td>1.000000</td>\n",
       "      <td>0.230119</td>\n",
       "      <td>0.238990</td>\n",
       "      <td>0.005771</td>\n",
       "      <td>0.007382</td>\n",
       "      <td>0.011520</td>\n",
       "      <td>0.006743</td>\n",
       "      <td>0.000000</td>\n",
       "      <td>...</td>\n",
       "      <td>0.0</td>\n",
       "      <td>0.0</td>\n",
       "      <td>0.0</td>\n",
       "      <td>0.0</td>\n",
       "      <td>0.0</td>\n",
       "      <td>0.0</td>\n",
       "      <td>0.0</td>\n",
       "      <td>0.0</td>\n",
       "      <td>0.0</td>\n",
       "      <td>0.0</td>\n",
       "    </tr>\n",
       "    <tr>\n",
       "      <th>ENSG00000170364</th>\n",
       "      <td>0.016677</td>\n",
       "      <td>0.010512</td>\n",
       "      <td>0.230119</td>\n",
       "      <td>1.000000</td>\n",
       "      <td>0.024456</td>\n",
       "      <td>0.005701</td>\n",
       "      <td>0.005812</td>\n",
       "      <td>0.010761</td>\n",
       "      <td>0.012330</td>\n",
       "      <td>0.000000</td>\n",
       "      <td>...</td>\n",
       "      <td>0.0</td>\n",
       "      <td>0.0</td>\n",
       "      <td>0.0</td>\n",
       "      <td>0.0</td>\n",
       "      <td>0.0</td>\n",
       "      <td>0.0</td>\n",
       "      <td>0.0</td>\n",
       "      <td>0.0</td>\n",
       "      <td>0.0</td>\n",
       "      <td>0.0</td>\n",
       "    </tr>\n",
       "    <tr>\n",
       "      <th>ENSG00000150995</th>\n",
       "      <td>0.018479</td>\n",
       "      <td>0.010217</td>\n",
       "      <td>0.238990</td>\n",
       "      <td>0.024456</td>\n",
       "      <td>1.000000</td>\n",
       "      <td>0.058600</td>\n",
       "      <td>0.013710</td>\n",
       "      <td>0.014855</td>\n",
       "      <td>0.009411</td>\n",
       "      <td>0.007317</td>\n",
       "      <td>...</td>\n",
       "      <td>0.0</td>\n",
       "      <td>0.0</td>\n",
       "      <td>0.0</td>\n",
       "      <td>0.0</td>\n",
       "      <td>0.0</td>\n",
       "      <td>0.0</td>\n",
       "      <td>0.0</td>\n",
       "      <td>0.0</td>\n",
       "      <td>0.0</td>\n",
       "      <td>0.0</td>\n",
       "    </tr>\n",
       "  </tbody>\n",
       "</table>\n",
       "<p>5 rows × 393 columns</p>\n",
       "</div>"
      ],
      "text/plain": [
       "                 ENSG00000134121  ENSG00000091181  ENSG00000144455  \\\n",
       "ENSG00000134121         1.000000         0.017674         0.012542   \n",
       "ENSG00000091181         0.017674         1.000000         0.003377   \n",
       "ENSG00000144455         0.012542         0.003377         1.000000   \n",
       "ENSG00000170364         0.016677         0.010512         0.230119   \n",
       "ENSG00000150995         0.018479         0.010217         0.238990   \n",
       "\n",
       "                 ENSG00000170364  ENSG00000150995  ENSG00000134107  \\\n",
       "ENSG00000134121         0.016677         0.018479         0.016098   \n",
       "ENSG00000091181         0.010512         0.010217         0.008806   \n",
       "ENSG00000144455         0.230119         0.238990         0.005771   \n",
       "ENSG00000170364         1.000000         0.024456         0.005701   \n",
       "ENSG00000150995         0.024456         1.000000         0.058600   \n",
       "\n",
       "                 ENSG00000134109  ENSG00000180914  ENSG00000196220  \\\n",
       "ENSG00000134121         0.018823         0.000000         0.000000   \n",
       "ENSG00000091181         0.010159         0.000000         0.000000   \n",
       "ENSG00000144455         0.007382         0.011520         0.006743   \n",
       "ENSG00000170364         0.005812         0.010761         0.012330   \n",
       "ENSG00000150995         0.013710         0.014855         0.009411   \n",
       "\n",
       "                 ENSG00000163719  ...  ENSG00000061938  ENSG00000072274  \\\n",
       "ENSG00000134121         0.000000  ...              0.0              0.0   \n",
       "ENSG00000091181         0.000000  ...              0.0              0.0   \n",
       "ENSG00000144455         0.000000  ...              0.0              0.0   \n",
       "ENSG00000170364         0.000000  ...              0.0              0.0   \n",
       "ENSG00000150995         0.007317  ...              0.0              0.0   \n",
       "\n",
       "                 ENSG00000161217  ENSG00000174013  ENSG00000163964  \\\n",
       "ENSG00000134121              0.0              0.0              0.0   \n",
       "ENSG00000091181              0.0              0.0              0.0   \n",
       "ENSG00000144455              0.0              0.0              0.0   \n",
       "ENSG00000170364              0.0              0.0              0.0   \n",
       "ENSG00000150995              0.0              0.0              0.0   \n",
       "\n",
       "                 ENSG00000180370  ENSG00000114503  ENSG00000075711  \\\n",
       "ENSG00000134121              0.0              0.0              0.0   \n",
       "ENSG00000091181              0.0              0.0              0.0   \n",
       "ENSG00000144455              0.0              0.0              0.0   \n",
       "ENSG00000170364              0.0              0.0              0.0   \n",
       "ENSG00000150995              0.0              0.0              0.0   \n",
       "\n",
       "                 ENSG00000161267  ENSG00000182899  \n",
       "ENSG00000134121              0.0              0.0  \n",
       "ENSG00000091181              0.0              0.0  \n",
       "ENSG00000144455              0.0              0.0  \n",
       "ENSG00000170364              0.0              0.0  \n",
       "ENSG00000150995              0.0              0.0  \n",
       "\n",
       "[5 rows x 393 columns]"
      ]
     },
     "execution_count": 34,
     "metadata": {},
     "output_type": "execute_result"
    }
   ],
   "source": [
    "gene_corrs_df.head()"
   ]
  },
  {
   "cell_type": "code",
   "execution_count": 35,
   "id": "286686af-1b7b-4440-8453-6bdcbd8de19c",
   "metadata": {
    "execution": {
     "iopub.execute_input": "2022-07-11T06:19:15.339343Z",
     "iopub.status.busy": "2022-07-11T06:19:15.339179Z",
     "iopub.status.idle": "2022-07-11T06:19:15.367972Z",
     "shell.execute_reply": "2022-07-11T06:19:15.367555Z"
    },
    "papermill": {
     "duration": 3.417964,
     "end_time": "2022-07-11T06:19:15.369269",
     "exception": false,
     "start_time": "2022-07-11T06:19:11.951305",
     "status": "completed"
    },
    "tags": []
   },
   "outputs": [],
   "source": [
    "assert not gene_corrs_df.isna().any().any()"
   ]
  },
  {
   "cell_type": "code",
   "execution_count": 36,
   "id": "00583efc-7068-4270-ad1e-4a418e91db96",
   "metadata": {
    "execution": {
     "iopub.execute_input": "2022-07-11T06:19:23.932689Z",
     "iopub.status.busy": "2022-07-11T06:19:23.932529Z",
     "iopub.status.idle": "2022-07-11T06:19:23.953732Z",
     "shell.execute_reply": "2022-07-11T06:19:23.953283Z"
    },
    "papermill": {
     "duration": 4.139908,
     "end_time": "2022-07-11T06:19:23.955107",
     "exception": false,
     "start_time": "2022-07-11T06:19:19.815199",
     "status": "completed"
    },
    "tags": []
   },
   "outputs": [
    {
     "data": {
      "text/plain": [
       "0.0"
      ]
     },
     "metadata": {},
     "output_type": "display_data"
    }
   ],
   "source": [
    "_min_val = gene_corrs_df.min().min()\n",
    "display(_min_val)\n",
    "assert _min_val >= 0.0"
   ]
  },
  {
   "cell_type": "code",
   "execution_count": 37,
   "id": "d04fb2cf-1050-475b-b855-f5f7cc04092b",
   "metadata": {
    "execution": {
     "iopub.execute_input": "2022-07-11T06:19:31.882666Z",
     "iopub.status.busy": "2022-07-11T06:19:31.882508Z",
     "iopub.status.idle": "2022-07-11T06:19:31.908456Z",
     "shell.execute_reply": "2022-07-11T06:19:31.908081Z"
    },
    "papermill": {
     "duration": 3.905469,
     "end_time": "2022-07-11T06:19:31.909712",
     "exception": false,
     "start_time": "2022-07-11T06:19:28.004243",
     "status": "completed"
    },
    "tags": []
   },
   "outputs": [
    {
     "data": {
      "text/plain": [
       "1.0"
      ]
     },
     "metadata": {},
     "output_type": "display_data"
    }
   ],
   "source": [
    "_max_val = gene_corrs_df.max().max()  # this captures the diagonal\n",
    "display(_max_val)\n",
    "assert _max_val <= 1.0"
   ]
  },
  {
   "cell_type": "code",
   "execution_count": 38,
   "id": "96d02c44-1fba-47be-8a93-8f2608420b9c",
   "metadata": {
    "execution": {
     "iopub.execute_input": "2022-07-11T06:19:38.316824Z",
     "iopub.status.busy": "2022-07-11T06:19:38.316662Z",
     "iopub.status.idle": "2022-07-11T06:19:38.348033Z",
     "shell.execute_reply": "2022-07-11T06:19:38.347605Z"
    },
    "papermill": {
     "duration": 3.422393,
     "end_time": "2022-07-11T06:19:38.349220",
     "exception": false,
     "start_time": "2022-07-11T06:19:34.926827",
     "status": "completed"
    },
    "tags": []
   },
   "outputs": [],
   "source": [
    "# check upper triangular values\n",
    "assert len(gene_corrs) == int(genes_chr.shape[0] * (genes_chr.shape[0] - 1) / 2)"
   ]
  },
  {
   "cell_type": "code",
   "execution_count": 39,
   "id": "aaa51627-f4e3-4744-a41f-7d25adcc0a78",
   "metadata": {
    "execution": {
     "iopub.execute_input": "2022-07-11T06:19:44.845491Z",
     "iopub.status.busy": "2022-07-11T06:19:44.845331Z",
     "iopub.status.idle": "2022-07-11T06:19:44.872720Z",
     "shell.execute_reply": "2022-07-11T06:19:44.872314Z"
    },
    "papermill": {
     "duration": 3.39276,
     "end_time": "2022-07-11T06:19:44.874024",
     "exception": false,
     "start_time": "2022-07-11T06:19:41.481264",
     "status": "completed"
    },
    "tags": []
   },
   "outputs": [],
   "source": [
    "gene_corrs = pd.Series(gene_corrs)"
   ]
  },
  {
   "cell_type": "code",
   "execution_count": 40,
   "id": "fe283586-c348-40e0-8841-f6d97bfb021c",
   "metadata": {
    "execution": {
     "iopub.execute_input": "2022-07-11T06:19:53.055375Z",
     "iopub.status.busy": "2022-07-11T06:19:53.055214Z",
     "iopub.status.idle": "2022-07-11T06:19:53.108400Z",
     "shell.execute_reply": "2022-07-11T06:19:53.107818Z"
    },
    "papermill": {
     "duration": 4.303793,
     "end_time": "2022-07-11T06:19:53.109862",
     "exception": false,
     "start_time": "2022-07-11T06:19:48.806069",
     "status": "completed"
    },
    "tags": []
   },
   "outputs": [
    {
     "data": {
      "text/plain": [
       "count    77028.000000\n",
       "mean         0.003073\n",
       "std          0.028701\n",
       "min          0.000000\n",
       "25%          0.000000\n",
       "50%          0.000000\n",
       "75%          0.000000\n",
       "max          0.996647\n",
       "dtype: float64"
      ]
     },
     "execution_count": 40,
     "metadata": {},
     "output_type": "execute_result"
    }
   ],
   "source": [
    "gene_corrs.describe()"
   ]
  },
  {
   "cell_type": "code",
   "execution_count": 41,
   "id": "b3815678-0f93-4b35-897b-a9d047a2aa78",
   "metadata": {
    "execution": {
     "iopub.execute_input": "2022-07-11T06:20:01.043098Z",
     "iopub.status.busy": "2022-07-11T06:20:01.042877Z",
     "iopub.status.idle": "2022-07-11T06:20:01.102274Z",
     "shell.execute_reply": "2022-07-11T06:20:01.101737Z"
    },
    "papermill": {
     "duration": 4.131337,
     "end_time": "2022-07-11T06:20:01.103978",
     "exception": false,
     "start_time": "2022-07-11T06:19:56.972641",
     "status": "completed"
    },
    "tags": []
   },
   "outputs": [
    {
     "data": {
      "text/plain": [
       "0.00    0.000000\n",
       "0.05    0.000000\n",
       "0.10    0.000000\n",
       "0.15    0.000000\n",
       "0.20    0.000000\n",
       "0.25    0.000000\n",
       "0.30    0.000000\n",
       "0.35    0.000000\n",
       "0.40    0.000000\n",
       "0.45    0.000000\n",
       "0.50    0.000000\n",
       "0.55    0.000000\n",
       "0.60    0.000000\n",
       "0.65    0.000000\n",
       "0.70    0.000000\n",
       "0.75    0.000000\n",
       "0.80    0.000000\n",
       "0.85    0.000000\n",
       "0.90    0.000000\n",
       "0.95    0.008806\n",
       "dtype: float64"
      ]
     },
     "metadata": {},
     "output_type": "display_data"
    }
   ],
   "source": [
    "gene_corrs_quantiles = gene_corrs.quantile(np.arange(0, 1, 0.05))\n",
    "display(gene_corrs_quantiles)"
   ]
  },
  {
   "cell_type": "markdown",
   "id": "8e60a080-edb2-4e9c-b2ef-22961693200c",
   "metadata": {
    "papermill": {
     "duration": 3.840068,
     "end_time": "2022-07-11T06:20:08.443869",
     "exception": false,
     "start_time": "2022-07-11T06:20:04.603801",
     "status": "completed"
    },
    "tags": []
   },
   "source": [
    "## Plot: distribution"
   ]
  },
  {
   "cell_type": "code",
   "execution_count": 42,
   "id": "8301126b-a7d4-4744-9c7d-f0f86eb6f54c",
   "metadata": {
    "execution": {
     "iopub.execute_input": "2022-07-11T06:20:16.055296Z",
     "iopub.status.busy": "2022-07-11T06:20:16.054714Z",
     "iopub.status.idle": "2022-07-11T06:20:16.780958Z",
     "shell.execute_reply": "2022-07-11T06:20:16.779951Z"
    },
    "papermill": {
     "duration": 4.756637,
     "end_time": "2022-07-11T06:20:16.782570",
     "exception": false,
     "start_time": "2022-07-11T06:20:12.025933",
     "status": "completed"
    },
    "tags": []
   },
   "outputs": [
    {
     "data": {
      "image/png": "[encoded data removed]",
      "text/plain": [
       "<Figure size 504x504 with 1 Axes>"
      ]
     },
     "metadata": {
      "needs_background": "light"
     },
     "output_type": "display_data"
    }
   ],
   "source": [
    "with sns.plotting_context(\"paper\", font_scale=1.5):\n",
    "    g = sns.displot(gene_corrs, kde=True, height=7)\n",
    "    g.ax.set_title(\n",
    "        f\"Distribution of gene correlation values in chromosome {chromosome}\"\n",
    "    )"
   ]
  },
  {
   "cell_type": "markdown",
   "id": "cbd52bca-d878-4a2f-b684-5c83aa3038d4",
   "metadata": {
    "papermill": {
     "duration": 4.482816,
     "end_time": "2022-07-11T06:20:25.651286",
     "exception": false,
     "start_time": "2022-07-11T06:20:21.168470",
     "status": "completed"
    },
    "tags": []
   },
   "source": [
    "## Plot: heatmap"
   ]
  },
  {
   "cell_type": "code",
   "execution_count": 43,
   "id": "d03fe63a-c7b2-4fb9-a53c-db362ce843c9",
   "metadata": {
    "execution": {
     "iopub.execute_input": "2022-07-11T06:20:34.789787Z",
     "iopub.status.busy": "2022-07-11T06:20:34.789566Z",
     "iopub.status.idle": "2022-07-11T06:20:34.812915Z",
     "shell.execute_reply": "2022-07-11T06:20:34.812435Z"
    },
    "papermill": {
     "duration": 4.638504,
     "end_time": "2022-07-11T06:20:34.814609",
     "exception": false,
     "start_time": "2022-07-11T06:20:30.176105",
     "status": "completed"
    },
    "tags": []
   },
   "outputs": [
    {
     "data": {
      "text/plain": [
       "'-0.05 / 0.05'"
      ]
     },
     "metadata": {},
     "output_type": "display_data"
    }
   ],
   "source": [
    "vmin_val = min(-0.05, gene_corrs_quantiles[0.10])\n",
    "vmax_val = max(0.05, gene_corrs_quantiles[0.90])\n",
    "display(f\"{vmin_val} / {vmax_val}\")"
   ]
  },
  {
   "cell_type": "code",
   "execution_count": 44,
   "id": "dc41b70b-5bcc-4d9e-9f33-a22c4a94dab5",
   "metadata": {
    "execution": {
     "iopub.execute_input": "2022-07-11T06:20:42.103430Z",
     "iopub.status.busy": "2022-07-11T06:20:42.103234Z",
     "iopub.status.idle": "2022-07-11T06:20:42.570756Z",
     "shell.execute_reply": "2022-07-11T06:20:42.570312Z"
    },
    "papermill": {
     "duration": 4.293798,
     "end_time": "2022-07-11T06:20:42.572366",
     "exception": false,
     "start_time": "2022-07-11T06:20:38.278568",
     "status": "completed"
    },
    "tags": []
   },
   "outputs": [
    {
     "data": {
      "text/plain": [
       "Text(0.5, 1.0, 'Gene correlations in chromosome 3')"
      ]
     },
     "execution_count": 44,
     "metadata": {},
     "output_type": "execute_result"
    },
    {
     "data": {
      "image/png": "[encoded data removed]",
      "text/plain": [
       "<Figure size 720x720 with 2 Axes>"
      ]
     },
     "metadata": {
      "needs_background": "light"
     },
     "output_type": "display_data"
    }
   ],
   "source": [
    "f, ax = plt.subplots(figsize=(10, 10))\n",
    "sns.heatmap(\n",
    "    gene_corrs_df,\n",
    "    xticklabels=False,\n",
    "    yticklabels=False,\n",
    "    square=True,\n",
    "    vmin=vmin_val,\n",
    "    vmax=vmax_val,\n",
    "    cmap=\"YlGnBu\",\n",
    "    ax=ax,\n",
    ")\n",
    "ax.set_title(f\"Gene correlations in chromosome {chromosome}\")"
   ]
  },
  {
   "cell_type": "code",
   "execution_count": null,
   "id": "b25e3ead",
   "metadata": {
    "papermill": {
     "duration": 3.698528,
     "end_time": "2022-07-11T06:20:50.359125",
     "exception": false,
     "start_time": "2022-07-11T06:20:46.660597",
     "status": "completed"
    },
    "tags": []
   },
   "outputs": [],
   "source": []
  }
 ],
 "metadata": {
  "jupytext": {
   "cell_metadata_filter": "all,-execution,-papermill,-trusted",
   "formats": "ipynb,py//py:percent"
  },
  "kernelspec": {
   "display_name": "Python 3 (ipykernel)",
   "language": "python",
   "name": "python3"
  },
  "language_info": {
   "codemirror_mode": {
    "name": "ipython",
    "version": 3
   },
   "file_extension": ".py",
   "mimetype": "text/x-python",
   "name": "python",
   "nbconvert_exporter": "python",
   "pygments_lexer": "ipython3",
   "version": "3.8.13"
  },
  "papermill": {
   "default_parameters": {},
   "duration": 1124.442155,
   "end_time": "2022-07-11T06:20:57.387062",
   "environment_variables": {},
   "exception": null,
   "input_path": "nbs/15_gsa_gls/10-gene_expr_correlations.ipynb",
   "output_path": "nbs/15_gsa_gls/gene_corrs/1000g/mashr/10-gene_expr_correlations-chr3.run.ipynb",
   "parameters": {
    "EQTL_MODEL": "MASHR",
    "REFERENCE_PANEL": "1000G",
    "chromosome": 3
   },
   "start_time": "2022-07-11T06:02:12.944907",
   "version": "2.2.2"
  }
 },
 "nbformat": 4,
 "nbformat_minor": 5
}
