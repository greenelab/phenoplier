{
 "cells": [
  {
   "cell_type": "markdown",
   "id": "7a6632fb",
   "metadata": {
    "papermill": {
     "duration": 0.008891,
     "end_time": "2022-07-12T08:25:35.190668",
     "exception": false,
     "start_time": "2022-07-12T08:25:35.181777",
     "status": "completed"
    },
    "tags": []
   },
   "source": [
    "# Description"
   ]
  },
  {
   "cell_type": "markdown",
   "id": "7097c346",
   "metadata": {
    "papermill": {
     "duration": 0.014369,
     "end_time": "2022-07-12T08:25:35.229332",
     "exception": false,
     "start_time": "2022-07-12T08:25:35.214963",
     "status": "completed"
    },
    "tags": []
   },
   "source": [
    "(Please, take a look at the README.md file in this directory for instructions on how to run this notebook)\n",
    "\n",
    "This notebook computes predicted expression correlations between all genes in the MultiPLIER models.\n",
    "\n",
    "It also has a parameter set for papermill to run on a single chromosome to run in parallel (see under `Settings` below).\n",
    "\n",
    "This notebook is not directly run. See README.md."
   ]
  },
  {
   "cell_type": "markdown",
   "id": "c61d8427",
   "metadata": {
    "papermill": {
     "duration": 0.029484,
     "end_time": "2022-07-12T08:25:35.267975",
     "exception": false,
     "start_time": "2022-07-12T08:25:35.238491",
     "status": "completed"
    },
    "tags": []
   },
   "source": [
    "# Modules"
   ]
  },
  {
   "cell_type": "code",
   "execution_count": 1,
   "id": "bbc0234f",
   "metadata": {
    "execution": {
     "iopub.execute_input": "2022-07-12T08:25:35.307718Z",
     "iopub.status.busy": "2022-07-12T08:25:35.302683Z",
     "iopub.status.idle": "2022-07-12T08:25:35.332786Z",
     "shell.execute_reply": "2022-07-12T08:25:35.332379Z"
    },
    "papermill": {
     "duration": 0.039683,
     "end_time": "2022-07-12T08:25:35.334341",
     "exception": false,
     "start_time": "2022-07-12T08:25:35.294658",
     "status": "completed"
    },
    "tags": []
   },
   "outputs": [],
   "source": [
    "%load_ext autoreload\n",
    "%autoreload 2"
   ]
  },
  {
   "cell_type": "code",
   "execution_count": 2,
   "id": "1d5f5a59",
   "metadata": {
    "execution": {
     "iopub.execute_input": "2022-07-12T08:25:35.377729Z",
     "iopub.status.busy": "2022-07-12T08:25:35.377193Z",
     "iopub.status.idle": "2022-07-12T08:25:36.286017Z",
     "shell.execute_reply": "2022-07-12T08:25:36.285576Z"
    },
    "papermill": {
     "duration": 0.917587,
     "end_time": "2022-07-12T08:25:36.287459",
     "exception": false,
     "start_time": "2022-07-12T08:25:35.369872",
     "status": "completed"
    },
    "tags": []
   },
   "outputs": [],
   "source": [
    "from random import sample, seed\n",
    "import warnings\n",
    "from pathlib import Path\n",
    "\n",
    "import numpy as np\n",
    "from scipy.spatial.distance import squareform\n",
    "import pandas as pd\n",
    "from tqdm import tqdm\n",
    "import matplotlib.pyplot as plt\n",
    "import seaborn as sns\n",
    "\n",
    "import conf\n",
    "from entity import Gene"
   ]
  },
  {
   "cell_type": "markdown",
   "id": "1eac24b5",
   "metadata": {
    "papermill": {
     "duration": 0.005535,
     "end_time": "2022-07-12T08:25:36.299009",
     "exception": false,
     "start_time": "2022-07-12T08:25:36.293474",
     "status": "completed"
    },
    "tags": []
   },
   "source": [
    "# Settings"
   ]
  },
  {
   "cell_type": "code",
   "execution_count": 3,
   "id": "ca4560ba",
   "metadata": {
    "execution": {
     "iopub.execute_input": "2022-07-12T08:25:36.311364Z",
     "iopub.status.busy": "2022-07-12T08:25:36.311040Z",
     "iopub.status.idle": "2022-07-12T08:25:36.325859Z",
     "shell.execute_reply": "2022-07-12T08:25:36.325404Z"
    },
    "papermill": {
     "duration": 0.022492,
     "end_time": "2022-07-12T08:25:36.327205",
     "exception": false,
     "start_time": "2022-07-12T08:25:36.304713",
     "status": "completed"
    },
    "tags": [
     "parameters"
    ]
   },
   "outputs": [],
   "source": [
    "# reference panel\n",
    "REFERENCE_PANEL = \"GTEX_V8\"\n",
    "# REFERENCE_PANEL = \"1000G\"\n",
    "\n",
    "# prediction models\n",
    "## mashr\n",
    "EQTL_MODEL = \"MASHR\"\n",
    "\n",
    "# this is the default value used in S-MultiXcan to select the\n",
    "# top principal components of the expression correlation matrix\n",
    "SMULTIXCAN_CONDITION_NUMBER = 30\n",
    "\n",
    "# specifies a single chromosome value\n",
    "# by default, run on all chromosomes\n",
    "chromosome = None"
   ]
  },
  {
   "cell_type": "code",
   "execution_count": 4,
   "id": "eee54735",
   "metadata": {
    "execution": {
     "iopub.execute_input": "2022-07-12T08:25:36.340029Z",
     "iopub.status.busy": "2022-07-12T08:25:36.339856Z",
     "iopub.status.idle": "2022-07-12T08:25:36.354313Z",
     "shell.execute_reply": "2022-07-12T08:25:36.353900Z"
    },
    "papermill": {
     "duration": 0.022495,
     "end_time": "2022-07-12T08:25:36.355761",
     "exception": false,
     "start_time": "2022-07-12T08:25:36.333266",
     "status": "completed"
    },
    "tags": [
     "injected-parameters"
    ]
   },
   "outputs": [],
   "source": [
    "# Parameters\n",
    "chromosome = 13\n",
    "REFERENCE_PANEL = \"1000G\"\n",
    "EQTL_MODEL = \"MASHR\"\n"
   ]
  },
  {
   "cell_type": "code",
   "execution_count": 5,
   "id": "a089c9ff",
   "metadata": {
    "execution": {
     "iopub.execute_input": "2022-07-12T08:25:36.368336Z",
     "iopub.status.busy": "2022-07-12T08:25:36.368121Z",
     "iopub.status.idle": "2022-07-12T08:25:36.382734Z",
     "shell.execute_reply": "2022-07-12T08:25:36.382279Z"
    },
    "papermill": {
     "duration": 0.022318,
     "end_time": "2022-07-12T08:25:36.384093",
     "exception": false,
     "start_time": "2022-07-12T08:25:36.361775",
     "status": "completed"
    },
    "tags": []
   },
   "outputs": [],
   "source": [
    "EQTL_MODEL_FILES_PREFIX = conf.PHENOMEXCAN[\"PREDICTION_MODELS\"][f\"{EQTL_MODEL}_PREFIX\"]"
   ]
  },
  {
   "cell_type": "code",
   "execution_count": 6,
   "id": "8fe24bef",
   "metadata": {
    "execution": {
     "iopub.execute_input": "2022-07-12T08:25:36.396775Z",
     "iopub.status.busy": "2022-07-12T08:25:36.396567Z",
     "iopub.status.idle": "2022-07-12T08:25:36.412905Z",
     "shell.execute_reply": "2022-07-12T08:25:36.412484Z"
    },
    "papermill": {
     "duration": 0.024505,
     "end_time": "2022-07-12T08:25:36.414512",
     "exception": false,
     "start_time": "2022-07-12T08:25:36.390007",
     "status": "completed"
    },
    "tags": []
   },
   "outputs": [
    {
     "data": {
      "text/plain": [
       "'Using eQTL model: MASHR / mashr_'"
      ]
     },
     "metadata": {},
     "output_type": "display_data"
    }
   ],
   "source": [
    "display(f\"Using eQTL model: {EQTL_MODEL} / {EQTL_MODEL_FILES_PREFIX}\")"
   ]
  },
  {
   "cell_type": "code",
   "execution_count": 7,
   "id": "552a7f63-a18c-4d3e-bb6a-94f99b431291",
   "metadata": {
    "execution": {
     "iopub.execute_input": "2022-07-12T08:25:36.427169Z",
     "iopub.status.busy": "2022-07-12T08:25:36.426959Z",
     "iopub.status.idle": "2022-07-12T08:25:36.444291Z",
     "shell.execute_reply": "2022-07-12T08:25:36.442833Z"
    },
    "papermill": {
     "duration": 0.02516,
     "end_time": "2022-07-12T08:25:36.445701",
     "exception": false,
     "start_time": "2022-07-12T08:25:36.420541",
     "status": "completed"
    },
    "tags": []
   },
   "outputs": [
    {
     "data": {
      "text/plain": [
       "'S-MultiXcan condition number: 30'"
      ]
     },
     "metadata": {},
     "output_type": "display_data"
    }
   ],
   "source": [
    "display(f\"S-MultiXcan condition number: {SMULTIXCAN_CONDITION_NUMBER}\")"
   ]
  },
  {
   "cell_type": "code",
   "execution_count": 8,
   "id": "0230ebcb-2c32-4b95-9292-d9a52038e70d",
   "metadata": {
    "execution": {
     "iopub.execute_input": "2022-07-12T08:25:36.458937Z",
     "iopub.status.busy": "2022-07-12T08:25:36.458493Z",
     "iopub.status.idle": "2022-07-12T08:25:36.473099Z",
     "shell.execute_reply": "2022-07-12T08:25:36.472563Z"
    },
    "papermill": {
     "duration": 0.022684,
     "end_time": "2022-07-12T08:25:36.474598",
     "exception": false,
     "start_time": "2022-07-12T08:25:36.451914",
     "status": "completed"
    },
    "tags": []
   },
   "outputs": [],
   "source": [
    "REFERENCE_PANEL_DIR = conf.PHENOMEXCAN[\"LD_BLOCKS\"][f\"{REFERENCE_PANEL}_GENOTYPE_DIR\"]"
   ]
  },
  {
   "cell_type": "code",
   "execution_count": 9,
   "id": "98c4a159-601d-4a22-a1ab-35bd451c25f9",
   "metadata": {
    "execution": {
     "iopub.execute_input": "2022-07-12T08:25:36.487966Z",
     "iopub.status.busy": "2022-07-12T08:25:36.487446Z",
     "iopub.status.idle": "2022-07-12T08:25:36.503410Z",
     "shell.execute_reply": "2022-07-12T08:25:36.502963Z"
    },
    "papermill": {
     "duration": 0.024028,
     "end_time": "2022-07-12T08:25:36.504758",
     "exception": false,
     "start_time": "2022-07-12T08:25:36.480730",
     "status": "completed"
    },
    "tags": []
   },
   "outputs": [
    {
     "data": {
      "text/plain": [
       "'Using reference panel folder: /opt/data/data/phenomexcan/ld_blocks/reference_panel_1000G'"
      ]
     },
     "metadata": {},
     "output_type": "display_data"
    }
   ],
   "source": [
    "display(f\"Using reference panel folder: {str(REFERENCE_PANEL_DIR)}\")"
   ]
  },
  {
   "cell_type": "code",
   "execution_count": 10,
   "id": "396392dc-0340-4540-9b02-e182b833f909",
   "metadata": {
    "execution": {
     "iopub.execute_input": "2022-07-12T08:25:36.518462Z",
     "iopub.status.busy": "2022-07-12T08:25:36.517816Z",
     "iopub.status.idle": "2022-07-12T08:25:36.532921Z",
     "shell.execute_reply": "2022-07-12T08:25:36.532395Z"
    },
    "papermill": {
     "duration": 0.023297,
     "end_time": "2022-07-12T08:25:36.534286",
     "exception": false,
     "start_time": "2022-07-12T08:25:36.510989",
     "status": "completed"
    },
    "tags": []
   },
   "outputs": [],
   "source": [
    "OUTPUT_DIR_BASE = (\n",
    "    conf.PHENOMEXCAN[\"LD_BLOCKS\"][f\"GENE_CORRS_DIR\"]\n",
    "    / REFERENCE_PANEL.lower()\n",
    "    / EQTL_MODEL.lower()\n",
    ")\n",
    "OUTPUT_DIR_BASE.mkdir(parents=True, exist_ok=True)"
   ]
  },
  {
   "cell_type": "code",
   "execution_count": 11,
   "id": "8942c2d3-e53c-4d63-a0eb-b6fce0574d36",
   "metadata": {
    "execution": {
     "iopub.execute_input": "2022-07-12T08:25:36.548452Z",
     "iopub.status.busy": "2022-07-12T08:25:36.547468Z",
     "iopub.status.idle": "2022-07-12T08:25:36.563627Z",
     "shell.execute_reply": "2022-07-12T08:25:36.563172Z"
    },
    "papermill": {
     "duration": 0.024694,
     "end_time": "2022-07-12T08:25:36.565075",
     "exception": false,
     "start_time": "2022-07-12T08:25:36.540381",
     "status": "completed"
    },
    "tags": []
   },
   "outputs": [
    {
     "data": {
      "text/plain": [
       "'Using output dir base: /opt/data/data/phenomexcan/ld_blocks/gene_corrs/1000g/mashr'"
      ]
     },
     "metadata": {},
     "output_type": "display_data"
    }
   ],
   "source": [
    "display(f\"Using output dir base: {OUTPUT_DIR_BASE}\")"
   ]
  },
  {
   "cell_type": "code",
   "execution_count": 12,
   "id": "408aa590",
   "metadata": {
    "execution": {
     "iopub.execute_input": "2022-07-12T08:25:36.578671Z",
     "iopub.status.busy": "2022-07-12T08:25:36.578199Z",
     "iopub.status.idle": "2022-07-12T08:25:36.592646Z",
     "shell.execute_reply": "2022-07-12T08:25:36.592097Z"
    },
    "papermill": {
     "duration": 0.022556,
     "end_time": "2022-07-12T08:25:36.594011",
     "exception": false,
     "start_time": "2022-07-12T08:25:36.571455",
     "status": "completed"
    },
    "tags": []
   },
   "outputs": [],
   "source": [
    "assert (\n",
    "    chromosome is not None\n",
    "), \"You have to select one chromosome (format: number between 1 and 22)\""
   ]
  },
  {
   "cell_type": "code",
   "execution_count": 13,
   "id": "c1c7dd06-80ff-453c-bcb7-0899edce75da",
   "metadata": {
    "execution": {
     "iopub.execute_input": "2022-07-12T08:25:36.607474Z",
     "iopub.status.busy": "2022-07-12T08:25:36.607183Z",
     "iopub.status.idle": "2022-07-12T08:25:36.621602Z",
     "shell.execute_reply": "2022-07-12T08:25:36.621159Z"
    },
    "papermill": {
     "duration": 0.022558,
     "end_time": "2022-07-12T08:25:36.623012",
     "exception": false,
     "start_time": "2022-07-12T08:25:36.600454",
     "status": "completed"
    },
    "tags": []
   },
   "outputs": [],
   "source": [
    "chromosome = str(chromosome)"
   ]
  },
  {
   "cell_type": "code",
   "execution_count": 14,
   "id": "bc17b84c-9c26-47a5-a3ab-7046e72f3ef4",
   "metadata": {
    "execution": {
     "iopub.execute_input": "2022-07-12T08:25:36.636911Z",
     "iopub.status.busy": "2022-07-12T08:25:36.636698Z",
     "iopub.status.idle": "2022-07-12T08:25:36.651871Z",
     "shell.execute_reply": "2022-07-12T08:25:36.651407Z"
    },
    "papermill": {
     "duration": 0.023426,
     "end_time": "2022-07-12T08:25:36.653131",
     "exception": false,
     "start_time": "2022-07-12T08:25:36.629705",
     "status": "completed"
    },
    "tags": []
   },
   "outputs": [
    {
     "data": {
      "text/plain": [
       "'Working on chromosome 13'"
      ]
     },
     "metadata": {},
     "output_type": "display_data"
    }
   ],
   "source": [
    "display(f\"Working on chromosome {chromosome}\")"
   ]
  },
  {
   "cell_type": "code",
   "execution_count": 15,
   "id": "3c7d8574-90c7-4d09-bc8c-469ed0a34737",
   "metadata": {
    "execution": {
     "iopub.execute_input": "2022-07-12T08:25:36.666933Z",
     "iopub.status.busy": "2022-07-12T08:25:36.666502Z",
     "iopub.status.idle": "2022-07-12T08:25:36.681661Z",
     "shell.execute_reply": "2022-07-12T08:25:36.681224Z"
    },
    "papermill": {
     "duration": 0.023339,
     "end_time": "2022-07-12T08:25:36.682956",
     "exception": false,
     "start_time": "2022-07-12T08:25:36.659617",
     "status": "completed"
    },
    "tags": []
   },
   "outputs": [
    {
     "data": {
      "text/plain": [
       "'Compute correlation within distance False'"
      ]
     },
     "metadata": {},
     "output_type": "display_data"
    }
   ],
   "source": [
    "# This paramter, if True, computes the correlation between closeby genes only\n",
    "COMPUTE_CORRELATIONS_WITHIN_DISTANCE = False\n",
    "display(f\"Compute correlation within distance {COMPUTE_CORRELATIONS_WITHIN_DISTANCE}\")"
   ]
  },
  {
   "cell_type": "markdown",
   "id": "d2ba085e",
   "metadata": {
    "papermill": {
     "duration": 0.006208,
     "end_time": "2022-07-12T08:25:36.695698",
     "exception": false,
     "start_time": "2022-07-12T08:25:36.689490",
     "status": "completed"
    },
    "tags": []
   },
   "source": [
    "# Load data"
   ]
  },
  {
   "cell_type": "markdown",
   "id": "7bed0ce0-e7c7-4300-9a61-5412450b1904",
   "metadata": {
    "papermill": {
     "duration": 0.006215,
     "end_time": "2022-07-12T08:25:36.708179",
     "exception": false,
     "start_time": "2022-07-12T08:25:36.701964",
     "status": "completed"
    },
    "tags": []
   },
   "source": [
    "## Prediction model tissues"
   ]
  },
  {
   "cell_type": "code",
   "execution_count": 16,
   "id": "0847c065-0d69-4830-a07f-1c75115d17f5",
   "metadata": {
    "execution": {
     "iopub.execute_input": "2022-07-12T08:25:36.721731Z",
     "iopub.status.busy": "2022-07-12T08:25:36.721505Z",
     "iopub.status.idle": "2022-07-12T08:25:36.735674Z",
     "shell.execute_reply": "2022-07-12T08:25:36.735259Z"
    },
    "papermill": {
     "duration": 0.022407,
     "end_time": "2022-07-12T08:25:36.737014",
     "exception": false,
     "start_time": "2022-07-12T08:25:36.714607",
     "status": "completed"
    },
    "tags": []
   },
   "outputs": [],
   "source": [
    "prediction_model_tissues = conf.PHENOMEXCAN[\"PREDICTION_MODELS\"][\n",
    "    f\"{EQTL_MODEL}_TISSUES\"\n",
    "].split(\" \")"
   ]
  },
  {
   "cell_type": "code",
   "execution_count": 17,
   "id": "aaef70d1-30c6-4c6f-9d6b-abc8e9a0081f",
   "metadata": {
    "execution": {
     "iopub.execute_input": "2022-07-12T08:25:36.751092Z",
     "iopub.status.busy": "2022-07-12T08:25:36.750567Z",
     "iopub.status.idle": "2022-07-12T08:25:36.766486Z",
     "shell.execute_reply": "2022-07-12T08:25:36.766078Z"
    },
    "papermill": {
     "duration": 0.024289,
     "end_time": "2022-07-12T08:25:36.767751",
     "exception": false,
     "start_time": "2022-07-12T08:25:36.743462",
     "status": "completed"
    },
    "tags": []
   },
   "outputs": [
    {
     "data": {
      "text/plain": [
       "49"
      ]
     },
     "execution_count": 17,
     "metadata": {},
     "output_type": "execute_result"
    }
   ],
   "source": [
    "len(prediction_model_tissues)"
   ]
  },
  {
   "cell_type": "code",
   "execution_count": 18,
   "id": "ff35a099-c52d-465d-b863-0ee70c26208c",
   "metadata": {
    "execution": {
     "iopub.execute_input": "2022-07-12T08:25:36.782340Z",
     "iopub.status.busy": "2022-07-12T08:25:36.781985Z",
     "iopub.status.idle": "2022-07-12T08:25:36.798624Z",
     "shell.execute_reply": "2022-07-12T08:25:36.798101Z"
    },
    "papermill": {
     "duration": 0.025239,
     "end_time": "2022-07-12T08:25:36.799941",
     "exception": false,
     "start_time": "2022-07-12T08:25:36.774702",
     "status": "completed"
    },
    "tags": []
   },
   "outputs": [
    {
     "data": {
      "text/plain": [
       "['Skin_Not_Sun_Exposed_Suprapubic',\n",
       " 'Cells_EBV-transformed_lymphocytes',\n",
       " 'Brain_Frontal_Cortex_BA9',\n",
       " 'Kidney_Cortex',\n",
       " 'Brain_Substantia_nigra']"
      ]
     },
     "execution_count": 18,
     "metadata": {},
     "output_type": "execute_result"
    }
   ],
   "source": [
    "prediction_model_tissues[:5]"
   ]
  },
  {
   "cell_type": "markdown",
   "id": "abcc4b3d",
   "metadata": {
    "papermill": {
     "duration": 0.006323,
     "end_time": "2022-07-12T08:25:36.812997",
     "exception": false,
     "start_time": "2022-07-12T08:25:36.806674",
     "status": "completed"
    },
    "tags": []
   },
   "source": [
    "## MultiPLIER Z"
   ]
  },
  {
   "cell_type": "code",
   "execution_count": 19,
   "id": "c48ef527",
   "metadata": {
    "execution": {
     "iopub.execute_input": "2022-07-12T08:25:36.826728Z",
     "iopub.status.busy": "2022-07-12T08:25:36.826375Z",
     "iopub.status.idle": "2022-07-12T08:25:36.866792Z",
     "shell.execute_reply": "2022-07-12T08:25:36.866342Z"
    },
    "papermill": {
     "duration": 0.049005,
     "end_time": "2022-07-12T08:25:36.868289",
     "exception": false,
     "start_time": "2022-07-12T08:25:36.819284",
     "status": "completed"
    },
    "tags": []
   },
   "outputs": [],
   "source": [
    "multiplier_z_genes = pd.read_pickle(\n",
    "    conf.MULTIPLIER[\"MODEL_Z_MATRIX_FILE\"]\n",
    ").index.tolist()"
   ]
  },
  {
   "cell_type": "code",
   "execution_count": 20,
   "id": "0a4ecbd9",
   "metadata": {
    "execution": {
     "iopub.execute_input": "2022-07-12T08:25:36.883509Z",
     "iopub.status.busy": "2022-07-12T08:25:36.883299Z",
     "iopub.status.idle": "2022-07-12T08:25:36.898301Z",
     "shell.execute_reply": "2022-07-12T08:25:36.897859Z"
    },
    "papermill": {
     "duration": 0.023838,
     "end_time": "2022-07-12T08:25:36.899584",
     "exception": false,
     "start_time": "2022-07-12T08:25:36.875746",
     "status": "completed"
    },
    "tags": []
   },
   "outputs": [
    {
     "data": {
      "text/plain": [
       "6750"
      ]
     },
     "execution_count": 20,
     "metadata": {},
     "output_type": "execute_result"
    }
   ],
   "source": [
    "len(multiplier_z_genes)"
   ]
  },
  {
   "cell_type": "code",
   "execution_count": 21,
   "id": "115e8864",
   "metadata": {
    "execution": {
     "iopub.execute_input": "2022-07-12T08:25:36.914325Z",
     "iopub.status.busy": "2022-07-12T08:25:36.914119Z",
     "iopub.status.idle": "2022-07-12T08:25:36.928945Z",
     "shell.execute_reply": "2022-07-12T08:25:36.928510Z"
    },
    "papermill": {
     "duration": 0.023487,
     "end_time": "2022-07-12T08:25:36.930214",
     "exception": false,
     "start_time": "2022-07-12T08:25:36.906727",
     "status": "completed"
    },
    "tags": []
   },
   "outputs": [
    {
     "data": {
      "text/plain": [
       "['GAS6',\n",
       " 'MMP14',\n",
       " 'DSP',\n",
       " 'MARCKSL1',\n",
       " 'SPARC',\n",
       " 'CTSD',\n",
       " 'EPAS1',\n",
       " 'PALLD',\n",
       " 'PHC2',\n",
       " 'LGALS3BP']"
      ]
     },
     "execution_count": 21,
     "metadata": {},
     "output_type": "execute_result"
    }
   ],
   "source": [
    "multiplier_z_genes[:10]"
   ]
  },
  {
   "cell_type": "markdown",
   "id": "7dcb8db7",
   "metadata": {
    "papermill": {
     "duration": 0.006549,
     "end_time": "2022-07-12T08:25:36.943502",
     "exception": false,
     "start_time": "2022-07-12T08:25:36.936953",
     "status": "completed"
    },
    "tags": []
   },
   "source": [
    "## Get gene objects"
   ]
  },
  {
   "cell_type": "code",
   "execution_count": 22,
   "id": "bb932812",
   "metadata": {
    "execution": {
     "iopub.execute_input": "2022-07-12T08:25:36.958166Z",
     "iopub.status.busy": "2022-07-12T08:25:36.957952Z",
     "iopub.status.idle": "2022-07-12T08:25:36.979150Z",
     "shell.execute_reply": "2022-07-12T08:25:36.978745Z"
    },
    "papermill": {
     "duration": 0.03017,
     "end_time": "2022-07-12T08:25:36.980595",
     "exception": false,
     "start_time": "2022-07-12T08:25:36.950425",
     "status": "completed"
    },
    "tags": []
   },
   "outputs": [],
   "source": [
    "multiplier_gene_obj = {\n",
    "    gene_name: Gene(name=gene_name)\n",
    "    for gene_name in multiplier_z_genes\n",
    "    if gene_name in Gene.GENE_NAME_TO_ID_MAP\n",
    "}"
   ]
  },
  {
   "cell_type": "code",
   "execution_count": 23,
   "id": "39533214",
   "metadata": {
    "execution": {
     "iopub.execute_input": "2022-07-12T08:25:36.995731Z",
     "iopub.status.busy": "2022-07-12T08:25:36.995434Z",
     "iopub.status.idle": "2022-07-12T08:25:37.010494Z",
     "shell.execute_reply": "2022-07-12T08:25:37.010057Z"
    },
    "papermill": {
     "duration": 0.023918,
     "end_time": "2022-07-12T08:25:37.011845",
     "exception": false,
     "start_time": "2022-07-12T08:25:36.987927",
     "status": "completed"
    },
    "tags": []
   },
   "outputs": [
    {
     "data": {
      "text/plain": [
       "6454"
      ]
     },
     "execution_count": 23,
     "metadata": {},
     "output_type": "execute_result"
    }
   ],
   "source": [
    "len(multiplier_gene_obj)"
   ]
  },
  {
   "cell_type": "code",
   "execution_count": 24,
   "id": "9a5d0b84",
   "metadata": {
    "execution": {
     "iopub.execute_input": "2022-07-12T08:25:37.027063Z",
     "iopub.status.busy": "2022-07-12T08:25:37.026845Z",
     "iopub.status.idle": "2022-07-12T08:25:37.042046Z",
     "shell.execute_reply": "2022-07-12T08:25:37.041607Z"
    },
    "papermill": {
     "duration": 0.024312,
     "end_time": "2022-07-12T08:25:37.043335",
     "exception": false,
     "start_time": "2022-07-12T08:25:37.019023",
     "status": "completed"
    },
    "tags": []
   },
   "outputs": [
    {
     "data": {
      "text/plain": [
       "'ENSG00000183087'"
      ]
     },
     "execution_count": 24,
     "metadata": {},
     "output_type": "execute_result"
    }
   ],
   "source": [
    "multiplier_gene_obj[\"GAS6\"].ensembl_id"
   ]
  },
  {
   "cell_type": "code",
   "execution_count": 25,
   "id": "e3ffabc7",
   "metadata": {
    "execution": {
     "iopub.execute_input": "2022-07-12T08:25:37.058207Z",
     "iopub.status.busy": "2022-07-12T08:25:37.058002Z",
     "iopub.status.idle": "2022-07-12T08:25:39.091828Z",
     "shell.execute_reply": "2022-07-12T08:25:39.091326Z"
    },
    "papermill": {
     "duration": 2.04273,
     "end_time": "2022-07-12T08:25:39.093258",
     "exception": false,
     "start_time": "2022-07-12T08:25:37.050528",
     "status": "completed"
    },
    "tags": []
   },
   "outputs": [],
   "source": [
    "_gene_obj = list(multiplier_gene_obj.values())\n",
    "\n",
    "genes_info = pd.DataFrame(\n",
    "    {\n",
    "        \"name\": [g.name for g in _gene_obj],\n",
    "        \"id\": [g.ensembl_id for g in _gene_obj],\n",
    "        \"chr\": [g.chromosome for g in _gene_obj],\n",
    "        \"band\": [g.band for g in _gene_obj],\n",
    "        \"start_position\": [g.get_attribute(\"start_position\") for g in _gene_obj],\n",
    "    }\n",
    ")"
   ]
  },
  {
   "cell_type": "code",
   "execution_count": 26,
   "id": "e23519b8",
   "metadata": {
    "execution": {
     "iopub.execute_input": "2022-07-12T08:25:39.108081Z",
     "iopub.status.busy": "2022-07-12T08:25:39.107869Z",
     "iopub.status.idle": "2022-07-12T08:25:39.122905Z",
     "shell.execute_reply": "2022-07-12T08:25:39.122468Z"
    },
    "papermill": {
     "duration": 0.023759,
     "end_time": "2022-07-12T08:25:39.124213",
     "exception": false,
     "start_time": "2022-07-12T08:25:39.100454",
     "status": "completed"
    },
    "tags": []
   },
   "outputs": [
    {
     "data": {
      "text/plain": [
       "(6454, 5)"
      ]
     },
     "execution_count": 26,
     "metadata": {},
     "output_type": "execute_result"
    }
   ],
   "source": [
    "genes_info.shape"
   ]
  },
  {
   "cell_type": "code",
   "execution_count": 27,
   "id": "0d71881c",
   "metadata": {
    "execution": {
     "iopub.execute_input": "2022-07-12T08:25:39.139298Z",
     "iopub.status.busy": "2022-07-12T08:25:39.139128Z",
     "iopub.status.idle": "2022-07-12T08:25:39.160866Z",
     "shell.execute_reply": "2022-07-12T08:25:39.160313Z"
    },
    "papermill": {
     "duration": 0.030659,
     "end_time": "2022-07-12T08:25:39.162173",
     "exception": false,
     "start_time": "2022-07-12T08:25:39.131514",
     "status": "completed"
    },
    "tags": []
   },
   "outputs": [
    {
     "data": {
      "text/html": [
       "<div>\n",
       "<style scoped>\n",
       "    .dataframe tbody tr th:only-of-type {\n",
       "        vertical-align: middle;\n",
       "    }\n",
       "\n",
       "    .dataframe tbody tr th {\n",
       "        vertical-align: top;\n",
       "    }\n",
       "\n",
       "    .dataframe thead th {\n",
       "        text-align: right;\n",
       "    }\n",
       "</style>\n",
       "<table border=\"1\" class=\"dataframe\">\n",
       "  <thead>\n",
       "    <tr style=\"text-align: right;\">\n",
       "      <th></th>\n",
       "      <th>name</th>\n",
       "      <th>id</th>\n",
       "      <th>chr</th>\n",
       "      <th>band</th>\n",
       "      <th>start_position</th>\n",
       "    </tr>\n",
       "  </thead>\n",
       "  <tbody>\n",
       "    <tr>\n",
       "      <th>0</th>\n",
       "      <td>GAS6</td>\n",
       "      <td>ENSG00000183087</td>\n",
       "      <td>13</td>\n",
       "      <td>13q34</td>\n",
       "      <td>113820549.0</td>\n",
       "    </tr>\n",
       "    <tr>\n",
       "      <th>1</th>\n",
       "      <td>MMP14</td>\n",
       "      <td>ENSG00000157227</td>\n",
       "      <td>14</td>\n",
       "      <td>14q11.2</td>\n",
       "      <td>22836560.0</td>\n",
       "    </tr>\n",
       "    <tr>\n",
       "      <th>2</th>\n",
       "      <td>DSP</td>\n",
       "      <td>ENSG00000096696</td>\n",
       "      <td>6</td>\n",
       "      <td>6p24.3</td>\n",
       "      <td>7541617.0</td>\n",
       "    </tr>\n",
       "    <tr>\n",
       "      <th>3</th>\n",
       "      <td>MARCKSL1</td>\n",
       "      <td>ENSG00000175130</td>\n",
       "      <td>1</td>\n",
       "      <td>1p35.1</td>\n",
       "      <td>32333839.0</td>\n",
       "    </tr>\n",
       "    <tr>\n",
       "      <th>4</th>\n",
       "      <td>SPARC</td>\n",
       "      <td>ENSG00000113140</td>\n",
       "      <td>5</td>\n",
       "      <td>5q33.1</td>\n",
       "      <td>151661096.0</td>\n",
       "    </tr>\n",
       "  </tbody>\n",
       "</table>\n",
       "</div>"
      ],
      "text/plain": [
       "       name               id chr     band  start_position\n",
       "0      GAS6  ENSG00000183087  13    13q34     113820549.0\n",
       "1     MMP14  ENSG00000157227  14  14q11.2      22836560.0\n",
       "2       DSP  ENSG00000096696   6   6p24.3       7541617.0\n",
       "3  MARCKSL1  ENSG00000175130   1   1p35.1      32333839.0\n",
       "4     SPARC  ENSG00000113140   5   5q33.1     151661096.0"
      ]
     },
     "execution_count": 27,
     "metadata": {},
     "output_type": "execute_result"
    }
   ],
   "source": [
    "genes_info.head()"
   ]
  },
  {
   "cell_type": "markdown",
   "id": "c8d1038f",
   "metadata": {
    "papermill": {
     "duration": 0.006906,
     "end_time": "2022-07-12T08:25:39.176568",
     "exception": false,
     "start_time": "2022-07-12T08:25:39.169662",
     "status": "completed"
    },
    "tags": []
   },
   "source": [
    "# Test"
   ]
  },
  {
   "cell_type": "code",
   "execution_count": 28,
   "id": "64993abf",
   "metadata": {
    "execution": {
     "iopub.execute_input": "2022-07-12T08:25:39.191798Z",
     "iopub.status.busy": "2022-07-12T08:25:39.191283Z",
     "iopub.status.idle": "2022-07-12T08:25:39.214567Z",
     "shell.execute_reply": "2022-07-12T08:25:39.214153Z"
    },
    "papermill": {
     "duration": 0.032349,
     "end_time": "2022-07-12T08:25:39.215956",
     "exception": false,
     "start_time": "2022-07-12T08:25:39.183607",
     "status": "completed"
    },
    "tags": []
   },
   "outputs": [
    {
     "data": {
      "text/html": [
       "<div>\n",
       "<style scoped>\n",
       "    .dataframe tbody tr th:only-of-type {\n",
       "        vertical-align: middle;\n",
       "    }\n",
       "\n",
       "    .dataframe tbody tr th {\n",
       "        vertical-align: top;\n",
       "    }\n",
       "\n",
       "    .dataframe thead th {\n",
       "        text-align: right;\n",
       "    }\n",
       "</style>\n",
       "<table border=\"1\" class=\"dataframe\">\n",
       "  <thead>\n",
       "    <tr style=\"text-align: right;\">\n",
       "      <th></th>\n",
       "      <th>name</th>\n",
       "      <th>id</th>\n",
       "      <th>chr</th>\n",
       "      <th>band</th>\n",
       "      <th>start_position</th>\n",
       "    </tr>\n",
       "  </thead>\n",
       "  <tbody>\n",
       "    <tr>\n",
       "      <th>0</th>\n",
       "      <td>GAS6</td>\n",
       "      <td>ENSG00000183087</td>\n",
       "      <td>13</td>\n",
       "      <td>13q34</td>\n",
       "      <td>113820549.0</td>\n",
       "    </tr>\n",
       "    <tr>\n",
       "      <th>139</th>\n",
       "      <td>FRY</td>\n",
       "      <td>ENSG00000073910</td>\n",
       "      <td>13</td>\n",
       "      <td>13q13.1</td>\n",
       "      <td>31846713.0</td>\n",
       "    </tr>\n",
       "    <tr>\n",
       "      <th>239</th>\n",
       "      <td>CCNA1</td>\n",
       "      <td>ENSG00000133101</td>\n",
       "      <td>13</td>\n",
       "      <td>13q13.3</td>\n",
       "      <td>36431520.0</td>\n",
       "    </tr>\n",
       "    <tr>\n",
       "      <th>283</th>\n",
       "      <td>FLT3</td>\n",
       "      <td>ENSG00000122025</td>\n",
       "      <td>13</td>\n",
       "      <td>13q12.2</td>\n",
       "      <td>28003274.0</td>\n",
       "    </tr>\n",
       "    <tr>\n",
       "      <th>412</th>\n",
       "      <td>TNFSF11</td>\n",
       "      <td>ENSG00000120659</td>\n",
       "      <td>13</td>\n",
       "      <td>13q14.11</td>\n",
       "      <td>42562736.0</td>\n",
       "    </tr>\n",
       "    <tr>\n",
       "      <th>...</th>\n",
       "      <td>...</td>\n",
       "      <td>...</td>\n",
       "      <td>...</td>\n",
       "      <td>...</td>\n",
       "      <td>...</td>\n",
       "    </tr>\n",
       "    <tr>\n",
       "      <th>6269</th>\n",
       "      <td>KL</td>\n",
       "      <td>ENSG00000133116</td>\n",
       "      <td>13</td>\n",
       "      <td>13q13.1</td>\n",
       "      <td>33016423.0</td>\n",
       "    </tr>\n",
       "    <tr>\n",
       "      <th>6351</th>\n",
       "      <td>MTMR6</td>\n",
       "      <td>ENSG00000139505</td>\n",
       "      <td>13</td>\n",
       "      <td>13q12.13</td>\n",
       "      <td>25246201.0</td>\n",
       "    </tr>\n",
       "    <tr>\n",
       "      <th>6379</th>\n",
       "      <td>ABCC4</td>\n",
       "      <td>ENSG00000125257</td>\n",
       "      <td>13</td>\n",
       "      <td>13q32.1</td>\n",
       "      <td>95019835.0</td>\n",
       "    </tr>\n",
       "    <tr>\n",
       "      <th>6416</th>\n",
       "      <td>RFXAP</td>\n",
       "      <td>ENSG00000133111</td>\n",
       "      <td>13</td>\n",
       "      <td>13q13.3</td>\n",
       "      <td>36819224.0</td>\n",
       "    </tr>\n",
       "    <tr>\n",
       "      <th>6436</th>\n",
       "      <td>ELF1</td>\n",
       "      <td>ENSG00000120690</td>\n",
       "      <td>13</td>\n",
       "      <td>13q14.11</td>\n",
       "      <td>40931924.0</td>\n",
       "    </tr>\n",
       "  </tbody>\n",
       "</table>\n",
       "<p>118 rows × 5 columns</p>\n",
       "</div>"
      ],
      "text/plain": [
       "         name               id chr      band  start_position\n",
       "0        GAS6  ENSG00000183087  13     13q34     113820549.0\n",
       "139       FRY  ENSG00000073910  13   13q13.1      31846713.0\n",
       "239     CCNA1  ENSG00000133101  13   13q13.3      36431520.0\n",
       "283      FLT3  ENSG00000122025  13   13q12.2      28003274.0\n",
       "412   TNFSF11  ENSG00000120659  13  13q14.11      42562736.0\n",
       "...       ...              ...  ..       ...             ...\n",
       "6269       KL  ENSG00000133116  13   13q13.1      33016423.0\n",
       "6351    MTMR6  ENSG00000139505  13  13q12.13      25246201.0\n",
       "6379    ABCC4  ENSG00000125257  13   13q32.1      95019835.0\n",
       "6416    RFXAP  ENSG00000133111  13   13q13.3      36819224.0\n",
       "6436     ELF1  ENSG00000120690  13  13q14.11      40931924.0\n",
       "\n",
       "[118 rows x 5 columns]"
      ]
     },
     "metadata": {},
     "output_type": "display_data"
    }
   ],
   "source": [
    "chromosome_genes_info = genes_info[genes_info[\"chr\"] == chromosome]\n",
    "display(chromosome_genes_info)"
   ]
  },
  {
   "cell_type": "code",
   "execution_count": 29,
   "id": "d2e42726-7de6-46eb-acfc-6323eaa8fae6",
   "metadata": {
    "execution": {
     "iopub.execute_input": "2022-07-12T08:25:39.232271Z",
     "iopub.status.busy": "2022-07-12T08:25:39.231735Z",
     "iopub.status.idle": "2022-07-12T08:25:39.247603Z",
     "shell.execute_reply": "2022-07-12T08:25:39.247150Z"
    },
    "papermill": {
     "duration": 0.025321,
     "end_time": "2022-07-12T08:25:39.248878",
     "exception": false,
     "start_time": "2022-07-12T08:25:39.223557",
     "status": "completed"
    },
    "tags": []
   },
   "outputs": [
    {
     "data": {
      "text/plain": [
       "5"
      ]
     },
     "metadata": {},
     "output_type": "display_data"
    }
   ],
   "source": [
    "seed(0)\n",
    "_gene_list_ids = sample(chromosome_genes_info[\"id\"].tolist(), 5)\n",
    "selected_chromosome_genes_obj = [Gene(ensembl_id=g_id) for g_id in _gene_list_ids]\n",
    "display(len(selected_chromosome_genes_obj))"
   ]
  },
  {
   "cell_type": "code",
   "execution_count": 30,
   "id": "1b355359",
   "metadata": {
    "execution": {
     "iopub.execute_input": "2022-07-12T08:25:39.264663Z",
     "iopub.status.busy": "2022-07-12T08:25:39.264400Z",
     "iopub.status.idle": "2022-07-12T08:25:39.283191Z",
     "shell.execute_reply": "2022-07-12T08:25:39.282776Z"
    },
    "papermill": {
     "duration": 0.027931,
     "end_time": "2022-07-12T08:25:39.284451",
     "exception": false,
     "start_time": "2022-07-12T08:25:39.256520",
     "status": "completed"
    },
    "tags": []
   },
   "outputs": [
    {
     "name": "stdout",
     "output_type": "stream",
     "text": [
      "CAB39L / LATS2: 0.0\n",
      "CAB39L / FBXL3: 0.0\n",
      "CAB39L / KL: 0.0\n",
      "CAB39L / SLC25A15: 0.0\n",
      "LATS2 / FBXL3: 0.0\n",
      "LATS2 / KL: 0.0\n",
      "LATS2 / SLC25A15: 0.0\n",
      "FBXL3 / KL: 0.0\n",
      "FBXL3 / SLC25A15: 0.0\n",
      "KL / SLC25A15: 0.0\n"
     ]
    }
   ],
   "source": [
    "for gene_idx1 in range(0, len(selected_chromosome_genes_obj) - 1):\n",
    "    gene_obj1 = selected_chromosome_genes_obj[gene_idx1]\n",
    "\n",
    "    for gene_idx2 in range(gene_idx1 + 1, len(selected_chromosome_genes_obj)):\n",
    "        gene_obj2 = selected_chromosome_genes_obj[gene_idx2]\n",
    "\n",
    "        c = gene_obj1.get_ssm_correlation(\n",
    "            gene_obj2,\n",
    "        )\n",
    "\n",
    "        print(f\"{gene_obj1.name} / {gene_obj2.name}: {c}\")"
   ]
  },
  {
   "cell_type": "markdown",
   "id": "d3843e06",
   "metadata": {
    "papermill": {
     "duration": 0.007165,
     "end_time": "2022-07-12T08:25:39.299393",
     "exception": false,
     "start_time": "2022-07-12T08:25:39.292228",
     "status": "completed"
    },
    "tags": []
   },
   "source": [
    "# Compute correlation per chromosome"
   ]
  },
  {
   "cell_type": "code",
   "execution_count": 31,
   "id": "cb859c15-d1f3-4006-a74c-2b83c0db9611",
   "metadata": {
    "execution": {
     "iopub.execute_input": "2022-07-12T08:25:39.315419Z",
     "iopub.status.busy": "2022-07-12T08:25:39.314909Z",
     "iopub.status.idle": "2022-07-12T08:25:39.330004Z",
     "shell.execute_reply": "2022-07-12T08:25:39.329571Z"
    },
    "papermill": {
     "duration": 0.024402,
     "end_time": "2022-07-12T08:25:39.331235",
     "exception": false,
     "start_time": "2022-07-12T08:25:39.306833",
     "status": "completed"
    },
    "tags": []
   },
   "outputs": [
    {
     "data": {
      "text/plain": [
       "PosixPath('/opt/data/data/phenomexcan/ld_blocks/gene_corrs/1000g/mashr/by_chr/gene_corrs-chr13.pkl')"
      ]
     },
     "metadata": {},
     "output_type": "display_data"
    }
   ],
   "source": [
    "output_dir = OUTPUT_DIR_BASE / \"by_chr\"\n",
    "output_dir.mkdir(exist_ok=True, parents=True)\n",
    "output_file = output_dir / f\"gene_corrs-chr{chromosome}.pkl\"\n",
    "display(output_file)"
   ]
  },
  {
   "cell_type": "code",
   "execution_count": 32,
   "id": "aa674fe4-6794-4eed-98fa-32b39d1d4ace",
   "metadata": {
    "execution": {
     "iopub.execute_input": "2022-07-12T08:25:39.347778Z",
     "iopub.status.busy": "2022-07-12T08:25:39.347492Z",
     "iopub.status.idle": "2022-07-12T08:25:39.362222Z",
     "shell.execute_reply": "2022-07-12T08:25:39.361678Z"
    },
    "papermill": {
     "duration": 0.024632,
     "end_time": "2022-07-12T08:25:39.363646",
     "exception": false,
     "start_time": "2022-07-12T08:25:39.339014",
     "status": "completed"
    },
    "tags": []
   },
   "outputs": [],
   "source": [
    "warnings.filterwarnings(\"error\")"
   ]
  },
  {
   "cell_type": "code",
   "execution_count": 33,
   "id": "cdbb90a1",
   "metadata": {
    "execution": {
     "iopub.execute_input": "2022-07-12T08:25:39.380691Z",
     "iopub.status.busy": "2022-07-12T08:25:39.380325Z",
     "iopub.status.idle": "2022-07-12T08:34:46.300485Z",
     "shell.execute_reply": "2022-07-12T08:34:46.299846Z"
    },
    "papermill": {
     "duration": 546.930003,
     "end_time": "2022-07-12T08:34:46.301841",
     "exception": false,
     "start_time": "2022-07-12T08:25:39.371838",
     "status": "completed"
    },
    "tags": []
   },
   "outputs": [
    {
     "name": "stdout",
     "output_type": "stream",
     "text": [
      "Number of genes in chromosome: 118\n",
      "Number of gene combinations: 6903\n"
     ]
    },
    {
     "name": "stderr",
     "output_type": "stream",
     "text": [
      "ENSG00000130177 / ENSG00000169062: 100%|████████████████████████| 6903/6903 [09:06<00:00, 12.62it/s]"
     ]
    },
    {
     "name": "stdout",
     "output_type": "stream",
     "text": [
      "Min/max values: 6.251107216191769e-06 / 0.9779870264352143\n"
     ]
    },
    {
     "name": "stderr",
     "output_type": "stream",
     "text": [
      "\n"
     ]
    },
    {
     "data": {
      "text/plain": [
       "PosixPath('/opt/data/data/phenomexcan/ld_blocks/gene_corrs/1000g/mashr/by_chr/gene_corrs-chr13.pkl')"
      ]
     },
     "metadata": {},
     "output_type": "display_data"
    }
   ],
   "source": [
    "# standard checks\n",
    "all_chrs = genes_info[\"chr\"].dropna().unique()\n",
    "assert all_chrs.shape[0] == 22\n",
    "\n",
    "# select chromosome given by the user\n",
    "assert chromosome in all_chrs\n",
    "\n",
    "# run only on the chromosome specified\n",
    "all_chrs = [chromosome]\n",
    "genes_chr = genes_info[genes_info[\"chr\"] == chromosome]\n",
    "\n",
    "# For testing purposes\n",
    "# genes_chr = genes_chr.sample(n=20)\n",
    "\n",
    "print(f\"Number of genes in chromosome: {genes_chr.shape[0]}\", flush=True)\n",
    "\n",
    "# sort genes by starting position to make visualizations better later\n",
    "genes_chr = genes_chr.sort_values(\"start_position\")\n",
    "\n",
    "gene_chr_objs = [Gene(ensembl_id=gene_id) for gene_id in genes_chr[\"id\"]]\n",
    "gene_chr_ids = [g.ensembl_id for g in gene_chr_objs]\n",
    "\n",
    "n = len(gene_chr_objs)\n",
    "n_comb = int(n * (n - 1) / 2.0)\n",
    "print(f\"Number of gene combinations: {n_comb}\", flush=True)\n",
    "\n",
    "gene_corrs = []\n",
    "\n",
    "pbar = tqdm(ncols=100, total=n_comb)\n",
    "i = 0\n",
    "for gene_idx1 in range(0, len(gene_chr_objs) - 1):\n",
    "    gene_obj1 = gene_chr_objs[gene_idx1]\n",
    "\n",
    "    for gene_idx2 in range(gene_idx1 + 1, len(gene_chr_objs)):\n",
    "        gene_obj2 = gene_chr_objs[gene_idx2]\n",
    "\n",
    "        pbar.set_description(f\"{gene_obj1.ensembl_id} / {gene_obj2.ensembl_id}\")\n",
    "\n",
    "        try:\n",
    "            # FIXME: compute the correlation of the sum of squares of the model using all\n",
    "            # the available tissues; this could be problematic because for some results\n",
    "            # (computed on a specific phenotype/GWAS) we might not have all the tissues\n",
    "            # available, which can certainly bias the correlation estimation.\n",
    "            # Since this depends on the GWAS on a specific phenotype, we should ideally have\n",
    "            # one correlation matrix per GWAS. I should look at how we can improve this.\n",
    "            r = gene_obj1.get_ssm_correlation(\n",
    "                other_gene=gene_obj2,\n",
    "                condition_number=SMULTIXCAN_CONDITION_NUMBER,\n",
    "                reference_panel=REFERENCE_PANEL,\n",
    "                model_type=EQTL_MODEL,\n",
    "                use_within_distance=COMPUTE_CORRELATIONS_WITHIN_DISTANCE,\n",
    "            )\n",
    "\n",
    "            if r is None:\n",
    "                # if r is None, it's very likely because:\n",
    "                #  * one of the genes has no prediction models\n",
    "                #  * all the SNPs predictors for the gene are not present in the reference\n",
    "                #    panel\n",
    "\n",
    "                r = 0.0\n",
    "\n",
    "            gene_corrs.append(r)\n",
    "        except Warning:\n",
    "            print(\n",
    "                f\"RuntimeWarning for genes {gene_obj1.ensembl_id} and {gene_obj2.ensembl_id}\",\n",
    "                flush=True,\n",
    "            )\n",
    "            import traceback\n",
    "\n",
    "            print(traceback.format_exc(), flush=True)\n",
    "        except Exception as e:\n",
    "            print(\n",
    "                f\"Exception for genes {gene_obj1.ensembl_id} and {gene_obj2.ensembl_id}\",\n",
    "                flush=True,\n",
    "            )\n",
    "            import traceback\n",
    "\n",
    "            print(traceback.format_exc(), flush=True)\n",
    "            gene_corrs.append(np.nan)\n",
    "\n",
    "        pbar.update(1)\n",
    "\n",
    "pbar.close()\n",
    "\n",
    "# testing\n",
    "gene_corrs_flat = pd.Series(gene_corrs)\n",
    "print(f\"Min/max values: {gene_corrs_flat.min()} / {gene_corrs_flat.max()}\")\n",
    "assert gene_corrs_flat.min() >= -1.001\n",
    "assert gene_corrs_flat.max() <= 1.001\n",
    "\n",
    "# save\n",
    "# FIXME: consider saving only the condenced matrix here. See here for\n",
    "# more details: https://github.com/greenelab/phenoplier/pull/38#discussion_r634600813\n",
    "gene_corrs_data = squareform(np.array(gene_corrs, dtype=np.float64))\n",
    "np.fill_diagonal(gene_corrs_data, 1.0)\n",
    "\n",
    "gene_corrs_df = pd.DataFrame(\n",
    "    data=gene_corrs_data,\n",
    "    index=gene_chr_ids,\n",
    "    columns=gene_chr_ids,\n",
    ")\n",
    "\n",
    "output_dir.mkdir(exist_ok=True, parents=True)\n",
    "display(output_file)\n",
    "\n",
    "gene_corrs_df.to_pickle(output_file)"
   ]
  },
  {
   "cell_type": "markdown",
   "id": "faa67b51-5373-470f-aa72-2ded53fa6dfe",
   "metadata": {
    "papermill": {
     "duration": 0.432612,
     "end_time": "2022-07-12T08:34:47.094012",
     "exception": false,
     "start_time": "2022-07-12T08:34:46.661400",
     "status": "completed"
    },
    "tags": []
   },
   "source": [
    "# Testing"
   ]
  },
  {
   "cell_type": "code",
   "execution_count": 34,
   "id": "14f7d046-4b55-4896-a56b-990127bcc388",
   "metadata": {
    "execution": {
     "iopub.execute_input": "2022-07-12T08:34:47.843250Z",
     "iopub.status.busy": "2022-07-12T08:34:47.843060Z",
     "iopub.status.idle": "2022-07-12T08:34:47.861857Z",
     "shell.execute_reply": "2022-07-12T08:34:47.861233Z"
    },
    "papermill": {
     "duration": 0.409991,
     "end_time": "2022-07-12T08:34:47.863317",
     "exception": false,
     "start_time": "2022-07-12T08:34:47.453326",
     "status": "completed"
    },
    "tags": []
   },
   "outputs": [
    {
     "data": {
      "text/plain": [
       "(118, 118)"
      ]
     },
     "execution_count": 34,
     "metadata": {},
     "output_type": "execute_result"
    }
   ],
   "source": [
    "gene_corrs_df.shape"
   ]
  },
  {
   "cell_type": "code",
   "execution_count": 35,
   "id": "c7d15414-3297-4537-a7c6-7588c0baeb75",
   "metadata": {
    "execution": {
     "iopub.execute_input": "2022-07-12T08:34:48.654331Z",
     "iopub.status.busy": "2022-07-12T08:34:48.653985Z",
     "iopub.status.idle": "2022-07-12T08:34:48.682978Z",
     "shell.execute_reply": "2022-07-12T08:34:48.682536Z"
    },
    "papermill": {
     "duration": 0.429682,
     "end_time": "2022-07-12T08:34:48.684233",
     "exception": false,
     "start_time": "2022-07-12T08:34:48.254551",
     "status": "completed"
    },
    "tags": []
   },
   "outputs": [
    {
     "data": {
      "text/html": [
       "<div>\n",
       "<style scoped>\n",
       "    .dataframe tbody tr th:only-of-type {\n",
       "        vertical-align: middle;\n",
       "    }\n",
       "\n",
       "    .dataframe tbody tr th {\n",
       "        vertical-align: top;\n",
       "    }\n",
       "\n",
       "    .dataframe thead th {\n",
       "        text-align: right;\n",
       "    }\n",
       "</style>\n",
       "<table border=\"1\" class=\"dataframe\">\n",
       "  <thead>\n",
       "    <tr style=\"text-align: right;\">\n",
       "      <th></th>\n",
       "      <th>ENSG00000121741</th>\n",
       "      <th>ENSG00000121743</th>\n",
       "      <th>ENSG00000121742</th>\n",
       "      <th>ENSG00000032742</th>\n",
       "      <th>ENSG00000150457</th>\n",
       "      <th>ENSG00000150459</th>\n",
       "      <th>ENSG00000102678</th>\n",
       "      <th>ENSG00000127863</th>\n",
       "      <th>ENSG00000228741</th>\n",
       "      <th>ENSG00000102699</th>\n",
       "      <th>...</th>\n",
       "      <th>ENSG00000126217</th>\n",
       "      <th>ENSG00000057593</th>\n",
       "      <th>ENSG00000126231</th>\n",
       "      <th>ENSG00000139842</th>\n",
       "      <th>ENSG00000185896</th>\n",
       "      <th>ENSG00000198176</th>\n",
       "      <th>ENSG00000183087</th>\n",
       "      <th>ENSG00000185989</th>\n",
       "      <th>ENSG00000130177</th>\n",
       "      <th>ENSG00000169062</th>\n",
       "    </tr>\n",
       "  </thead>\n",
       "  <tbody>\n",
       "    <tr>\n",
       "      <th>ENSG00000121741</th>\n",
       "      <td>1.000000</td>\n",
       "      <td>0.024613</td>\n",
       "      <td>0.001492</td>\n",
       "      <td>0.003548</td>\n",
       "      <td>0.003639</td>\n",
       "      <td>0.008223</td>\n",
       "      <td>0.002423</td>\n",
       "      <td>0.007004</td>\n",
       "      <td>0.008128</td>\n",
       "      <td>0.003152</td>\n",
       "      <td>...</td>\n",
       "      <td>0.007335</td>\n",
       "      <td>0.001116</td>\n",
       "      <td>0.006852</td>\n",
       "      <td>0.005484</td>\n",
       "      <td>0.006947</td>\n",
       "      <td>0.002988</td>\n",
       "      <td>0.008084</td>\n",
       "      <td>0.006641</td>\n",
       "      <td>0.001595</td>\n",
       "      <td>0.007468</td>\n",
       "    </tr>\n",
       "    <tr>\n",
       "      <th>ENSG00000121743</th>\n",
       "      <td>0.024613</td>\n",
       "      <td>1.000000</td>\n",
       "      <td>0.021914</td>\n",
       "      <td>0.011446</td>\n",
       "      <td>0.011739</td>\n",
       "      <td>0.019022</td>\n",
       "      <td>0.005606</td>\n",
       "      <td>0.013557</td>\n",
       "      <td>0.012527</td>\n",
       "      <td>0.010330</td>\n",
       "      <td>...</td>\n",
       "      <td>0.021048</td>\n",
       "      <td>0.007494</td>\n",
       "      <td>0.008356</td>\n",
       "      <td>0.013306</td>\n",
       "      <td>0.014509</td>\n",
       "      <td>0.010368</td>\n",
       "      <td>0.015935</td>\n",
       "      <td>0.017481</td>\n",
       "      <td>0.006573</td>\n",
       "      <td>0.014540</td>\n",
       "    </tr>\n",
       "    <tr>\n",
       "      <th>ENSG00000121742</th>\n",
       "      <td>0.001492</td>\n",
       "      <td>0.021914</td>\n",
       "      <td>1.000000</td>\n",
       "      <td>0.012936</td>\n",
       "      <td>0.004079</td>\n",
       "      <td>0.010813</td>\n",
       "      <td>0.011754</td>\n",
       "      <td>0.010938</td>\n",
       "      <td>0.015148</td>\n",
       "      <td>0.010538</td>\n",
       "      <td>...</td>\n",
       "      <td>0.018636</td>\n",
       "      <td>0.005844</td>\n",
       "      <td>0.005124</td>\n",
       "      <td>0.009142</td>\n",
       "      <td>0.007948</td>\n",
       "      <td>0.007054</td>\n",
       "      <td>0.015231</td>\n",
       "      <td>0.015358</td>\n",
       "      <td>0.004793</td>\n",
       "      <td>0.010136</td>\n",
       "    </tr>\n",
       "    <tr>\n",
       "      <th>ENSG00000032742</th>\n",
       "      <td>0.003548</td>\n",
       "      <td>0.011446</td>\n",
       "      <td>0.012936</td>\n",
       "      <td>1.000000</td>\n",
       "      <td>0.018501</td>\n",
       "      <td>0.012047</td>\n",
       "      <td>0.015445</td>\n",
       "      <td>0.013732</td>\n",
       "      <td>0.007980</td>\n",
       "      <td>0.005516</td>\n",
       "      <td>...</td>\n",
       "      <td>0.008819</td>\n",
       "      <td>0.002511</td>\n",
       "      <td>0.006473</td>\n",
       "      <td>0.003935</td>\n",
       "      <td>0.009126</td>\n",
       "      <td>0.008815</td>\n",
       "      <td>0.014643</td>\n",
       "      <td>0.013683</td>\n",
       "      <td>0.010212</td>\n",
       "      <td>0.010333</td>\n",
       "    </tr>\n",
       "    <tr>\n",
       "      <th>ENSG00000150457</th>\n",
       "      <td>0.003639</td>\n",
       "      <td>0.011739</td>\n",
       "      <td>0.004079</td>\n",
       "      <td>0.018501</td>\n",
       "      <td>1.000000</td>\n",
       "      <td>0.008389</td>\n",
       "      <td>0.005361</td>\n",
       "      <td>0.009503</td>\n",
       "      <td>0.009890</td>\n",
       "      <td>0.005388</td>\n",
       "      <td>...</td>\n",
       "      <td>0.007021</td>\n",
       "      <td>0.003229</td>\n",
       "      <td>0.002438</td>\n",
       "      <td>0.002860</td>\n",
       "      <td>0.011085</td>\n",
       "      <td>0.003664</td>\n",
       "      <td>0.012050</td>\n",
       "      <td>0.011360</td>\n",
       "      <td>0.007059</td>\n",
       "      <td>0.007420</td>\n",
       "    </tr>\n",
       "  </tbody>\n",
       "</table>\n",
       "<p>5 rows × 118 columns</p>\n",
       "</div>"
      ],
      "text/plain": [
       "                 ENSG00000121741  ENSG00000121743  ENSG00000121742  \\\n",
       "ENSG00000121741         1.000000         0.024613         0.001492   \n",
       "ENSG00000121743         0.024613         1.000000         0.021914   \n",
       "ENSG00000121742         0.001492         0.021914         1.000000   \n",
       "ENSG00000032742         0.003548         0.011446         0.012936   \n",
       "ENSG00000150457         0.003639         0.011739         0.004079   \n",
       "\n",
       "                 ENSG00000032742  ENSG00000150457  ENSG00000150459  \\\n",
       "ENSG00000121741         0.003548         0.003639         0.008223   \n",
       "ENSG00000121743         0.011446         0.011739         0.019022   \n",
       "ENSG00000121742         0.012936         0.004079         0.010813   \n",
       "ENSG00000032742         1.000000         0.018501         0.012047   \n",
       "ENSG00000150457         0.018501         1.000000         0.008389   \n",
       "\n",
       "                 ENSG00000102678  ENSG00000127863  ENSG00000228741  \\\n",
       "ENSG00000121741         0.002423         0.007004         0.008128   \n",
       "ENSG00000121743         0.005606         0.013557         0.012527   \n",
       "ENSG00000121742         0.011754         0.010938         0.015148   \n",
       "ENSG00000032742         0.015445         0.013732         0.007980   \n",
       "ENSG00000150457         0.005361         0.009503         0.009890   \n",
       "\n",
       "                 ENSG00000102699  ...  ENSG00000126217  ENSG00000057593  \\\n",
       "ENSG00000121741         0.003152  ...         0.007335         0.001116   \n",
       "ENSG00000121743         0.010330  ...         0.021048         0.007494   \n",
       "ENSG00000121742         0.010538  ...         0.018636         0.005844   \n",
       "ENSG00000032742         0.005516  ...         0.008819         0.002511   \n",
       "ENSG00000150457         0.005388  ...         0.007021         0.003229   \n",
       "\n",
       "                 ENSG00000126231  ENSG00000139842  ENSG00000185896  \\\n",
       "ENSG00000121741         0.006852         0.005484         0.006947   \n",
       "ENSG00000121743         0.008356         0.013306         0.014509   \n",
       "ENSG00000121742         0.005124         0.009142         0.007948   \n",
       "ENSG00000032742         0.006473         0.003935         0.009126   \n",
       "ENSG00000150457         0.002438         0.002860         0.011085   \n",
       "\n",
       "                 ENSG00000198176  ENSG00000183087  ENSG00000185989  \\\n",
       "ENSG00000121741         0.002988         0.008084         0.006641   \n",
       "ENSG00000121743         0.010368         0.015935         0.017481   \n",
       "ENSG00000121742         0.007054         0.015231         0.015358   \n",
       "ENSG00000032742         0.008815         0.014643         0.013683   \n",
       "ENSG00000150457         0.003664         0.012050         0.011360   \n",
       "\n",
       "                 ENSG00000130177  ENSG00000169062  \n",
       "ENSG00000121741         0.001595         0.007468  \n",
       "ENSG00000121743         0.006573         0.014540  \n",
       "ENSG00000121742         0.004793         0.010136  \n",
       "ENSG00000032742         0.010212         0.010333  \n",
       "ENSG00000150457         0.007059         0.007420  \n",
       "\n",
       "[5 rows x 118 columns]"
      ]
     },
     "execution_count": 35,
     "metadata": {},
     "output_type": "execute_result"
    }
   ],
   "source": [
    "gene_corrs_df.head()"
   ]
  },
  {
   "cell_type": "code",
   "execution_count": 36,
   "id": "286686af-1b7b-4440-8453-6bdcbd8de19c",
   "metadata": {
    "execution": {
     "iopub.execute_input": "2022-07-12T08:34:49.472717Z",
     "iopub.status.busy": "2022-07-12T08:34:49.472533Z",
     "iopub.status.idle": "2022-07-12T08:34:49.492430Z",
     "shell.execute_reply": "2022-07-12T08:34:49.491916Z"
    },
    "papermill": {
     "duration": 0.418624,
     "end_time": "2022-07-12T08:34:49.495787",
     "exception": false,
     "start_time": "2022-07-12T08:34:49.077163",
     "status": "completed"
    },
    "tags": []
   },
   "outputs": [],
   "source": [
    "assert not gene_corrs_df.isna().any().any()"
   ]
  },
  {
   "cell_type": "code",
   "execution_count": 37,
   "id": "00583efc-7068-4270-ad1e-4a418e91db96",
   "metadata": {
    "execution": {
     "iopub.execute_input": "2022-07-12T08:34:50.243729Z",
     "iopub.status.busy": "2022-07-12T08:34:50.243547Z",
     "iopub.status.idle": "2022-07-12T08:34:50.261784Z",
     "shell.execute_reply": "2022-07-12T08:34:50.261220Z"
    },
    "papermill": {
     "duration": 0.376441,
     "end_time": "2022-07-12T08:34:50.263064",
     "exception": false,
     "start_time": "2022-07-12T08:34:49.886623",
     "status": "completed"
    },
    "tags": []
   },
   "outputs": [
    {
     "data": {
      "text/plain": [
       "6.251107216191769e-06"
      ]
     },
     "metadata": {},
     "output_type": "display_data"
    }
   ],
   "source": [
    "_min_val = gene_corrs_df.min().min()\n",
    "display(_min_val)\n",
    "assert _min_val >= 0.0"
   ]
  },
  {
   "cell_type": "code",
   "execution_count": 38,
   "id": "d04fb2cf-1050-475b-b855-f5f7cc04092b",
   "metadata": {
    "execution": {
     "iopub.execute_input": "2022-07-12T08:34:51.010399Z",
     "iopub.status.busy": "2022-07-12T08:34:51.009823Z",
     "iopub.status.idle": "2022-07-12T08:34:51.028936Z",
     "shell.execute_reply": "2022-07-12T08:34:51.028349Z"
    },
    "papermill": {
     "duration": 0.372679,
     "end_time": "2022-07-12T08:34:51.030384",
     "exception": false,
     "start_time": "2022-07-12T08:34:50.657705",
     "status": "completed"
    },
    "tags": []
   },
   "outputs": [
    {
     "data": {
      "text/plain": [
       "1.0"
      ]
     },
     "metadata": {},
     "output_type": "display_data"
    }
   ],
   "source": [
    "_max_val = gene_corrs_df.max().max()  # this captures the diagonal\n",
    "display(_max_val)\n",
    "assert _max_val <= 1.0"
   ]
  },
  {
   "cell_type": "code",
   "execution_count": 39,
   "id": "96d02c44-1fba-47be-8a93-8f2608420b9c",
   "metadata": {
    "execution": {
     "iopub.execute_input": "2022-07-12T08:34:51.812609Z",
     "iopub.status.busy": "2022-07-12T08:34:51.812280Z",
     "iopub.status.idle": "2022-07-12T08:34:51.829326Z",
     "shell.execute_reply": "2022-07-12T08:34:51.828755Z"
    },
    "papermill": {
     "duration": 0.409115,
     "end_time": "2022-07-12T08:34:51.830778",
     "exception": false,
     "start_time": "2022-07-12T08:34:51.421663",
     "status": "completed"
    },
    "tags": []
   },
   "outputs": [],
   "source": [
    "# check upper triangular values\n",
    "assert len(gene_corrs) == int(genes_chr.shape[0] * (genes_chr.shape[0] - 1) / 2)"
   ]
  },
  {
   "cell_type": "code",
   "execution_count": 40,
   "id": "aaa51627-f4e3-4744-a41f-7d25adcc0a78",
   "metadata": {
    "execution": {
     "iopub.execute_input": "2022-07-12T08:34:52.610307Z",
     "iopub.status.busy": "2022-07-12T08:34:52.609977Z",
     "iopub.status.idle": "2022-07-12T08:34:52.629488Z",
     "shell.execute_reply": "2022-07-12T08:34:52.628919Z"
    },
    "papermill": {
     "duration": 0.411162,
     "end_time": "2022-07-12T08:34:52.631240",
     "exception": false,
     "start_time": "2022-07-12T08:34:52.220078",
     "status": "completed"
    },
    "tags": []
   },
   "outputs": [],
   "source": [
    "gene_corrs = pd.Series(gene_corrs)"
   ]
  },
  {
   "cell_type": "code",
   "execution_count": 41,
   "id": "fe283586-c348-40e0-8841-f6d97bfb021c",
   "metadata": {
    "execution": {
     "iopub.execute_input": "2022-07-12T08:34:53.367615Z",
     "iopub.status.busy": "2022-07-12T08:34:53.367409Z",
     "iopub.status.idle": "2022-07-12T08:34:53.388944Z",
     "shell.execute_reply": "2022-07-12T08:34:53.388278Z"
    },
    "papermill": {
     "duration": 0.37197,
     "end_time": "2022-07-12T08:34:53.390374",
     "exception": false,
     "start_time": "2022-07-12T08:34:53.018404",
     "status": "completed"
    },
    "tags": []
   },
   "outputs": [
    {
     "data": {
      "text/plain": [
       "count    6903.000000\n",
       "mean        0.012312\n",
       "std         0.035717\n",
       "min         0.000006\n",
       "25%         0.006078\n",
       "50%         0.008922\n",
       "75%         0.012189\n",
       "max         0.977987\n",
       "dtype: float64"
      ]
     },
     "execution_count": 41,
     "metadata": {},
     "output_type": "execute_result"
    }
   ],
   "source": [
    "gene_corrs.describe()"
   ]
  },
  {
   "cell_type": "code",
   "execution_count": 42,
   "id": "b3815678-0f93-4b35-897b-a9d047a2aa78",
   "metadata": {
    "execution": {
     "iopub.execute_input": "2022-07-12T08:34:54.124102Z",
     "iopub.status.busy": "2022-07-12T08:34:54.123912Z",
     "iopub.status.idle": "2022-07-12T08:34:54.144129Z",
     "shell.execute_reply": "2022-07-12T08:34:54.143533Z"
    },
    "papermill": {
     "duration": 0.402495,
     "end_time": "2022-07-12T08:34:54.145513",
     "exception": false,
     "start_time": "2022-07-12T08:34:53.743018",
     "status": "completed"
    },
    "tags": []
   },
   "outputs": [
    {
     "data": {
      "text/plain": [
       "0.00    0.000006\n",
       "0.05    0.002775\n",
       "0.10    0.003835\n",
       "0.15    0.004661\n",
       "0.20    0.005393\n",
       "0.25    0.006078\n",
       "0.30    0.006689\n",
       "0.35    0.007246\n",
       "0.40    0.007808\n",
       "0.45    0.008354\n",
       "0.50    0.008922\n",
       "0.55    0.009537\n",
       "0.60    0.010136\n",
       "0.65    0.010756\n",
       "0.70    0.011404\n",
       "0.75    0.012189\n",
       "0.80    0.013106\n",
       "0.85    0.014071\n",
       "0.90    0.015580\n",
       "0.95    0.017958\n",
       "dtype: float64"
      ]
     },
     "metadata": {},
     "output_type": "display_data"
    }
   ],
   "source": [
    "gene_corrs_quantiles = gene_corrs.quantile(np.arange(0, 1, 0.05))\n",
    "display(gene_corrs_quantiles)"
   ]
  },
  {
   "cell_type": "markdown",
   "id": "8e60a080-edb2-4e9c-b2ef-22961693200c",
   "metadata": {
    "papermill": {
     "duration": 0.39101,
     "end_time": "2022-07-12T08:34:54.887399",
     "exception": false,
     "start_time": "2022-07-12T08:34:54.496389",
     "status": "completed"
    },
    "tags": []
   },
   "source": [
    "## Plot: distribution"
   ]
  },
  {
   "cell_type": "code",
   "execution_count": 43,
   "id": "8301126b-a7d4-4744-9c7d-f0f86eb6f54c",
   "metadata": {
    "execution": {
     "iopub.execute_input": "2022-07-12T08:34:55.680393Z",
     "iopub.status.busy": "2022-07-12T08:34:55.680219Z",
     "iopub.status.idle": "2022-07-12T08:34:58.049795Z",
     "shell.execute_reply": "2022-07-12T08:34:58.049305Z"
    },
    "papermill": {
     "duration": 2.802503,
     "end_time": "2022-07-12T08:34:58.051345",
     "exception": false,
     "start_time": "2022-07-12T08:34:55.248842",
     "status": "completed"
    },
    "tags": []
   },
   "outputs": [
    {
     "data": {
      "image/png": "[encoded data removed]",
      "text/plain": [
       "<Figure size 504x504 with 1 Axes>"
      ]
     },
     "metadata": {
      "needs_background": "light"
     },
     "output_type": "display_data"
    }
   ],
   "source": [
    "with sns.plotting_context(\"paper\", font_scale=1.5):\n",
    "    g = sns.displot(gene_corrs, kde=True, height=7)\n",
    "    g.ax.set_title(\n",
    "        f\"Distribution of gene correlation values in chromosome {chromosome}\"\n",
    "    )"
   ]
  },
  {
   "cell_type": "markdown",
   "id": "cbd52bca-d878-4a2f-b684-5c83aa3038d4",
   "metadata": {
    "papermill": {
     "duration": 0.382224,
     "end_time": "2022-07-12T08:34:58.807685",
     "exception": false,
     "start_time": "2022-07-12T08:34:58.425461",
     "status": "completed"
    },
    "tags": []
   },
   "source": [
    "## Plot: heatmap"
   ]
  },
  {
   "cell_type": "code",
   "execution_count": 44,
   "id": "d03fe63a-c7b2-4fb9-a53c-db362ce843c9",
   "metadata": {
    "execution": {
     "iopub.execute_input": "2022-07-12T08:34:59.501919Z",
     "iopub.status.busy": "2022-07-12T08:34:59.501728Z",
     "iopub.status.idle": "2022-07-12T08:34:59.522022Z",
     "shell.execute_reply": "2022-07-12T08:34:59.521501Z"
    },
    "papermill": {
     "duration": 0.365084,
     "end_time": "2022-07-12T08:34:59.523443",
     "exception": false,
     "start_time": "2022-07-12T08:34:59.158359",
     "status": "completed"
    },
    "tags": []
   },
   "outputs": [
    {
     "data": {
      "text/plain": [
       "'-0.05 / 0.05'"
      ]
     },
     "metadata": {},
     "output_type": "display_data"
    }
   ],
   "source": [
    "vmin_val = min(-0.05, gene_corrs_quantiles[0.10])\n",
    "vmax_val = max(0.05, gene_corrs_quantiles[0.90])\n",
    "display(f\"{vmin_val} / {vmax_val}\")"
   ]
  },
  {
   "cell_type": "code",
   "execution_count": 45,
   "id": "dc41b70b-5bcc-4d9e-9f33-a22c4a94dab5",
   "metadata": {
    "execution": {
     "iopub.execute_input": "2022-07-12T08:35:00.271884Z",
     "iopub.status.busy": "2022-07-12T08:35:00.270147Z",
     "iopub.status.idle": "2022-07-12T08:35:00.591957Z",
     "shell.execute_reply": "2022-07-12T08:35:00.591481Z"
    },
    "papermill": {
     "duration": 0.679696,
     "end_time": "2022-07-12T08:35:00.593376",
     "exception": false,
     "start_time": "2022-07-12T08:34:59.913680",
     "status": "completed"
    },
    "tags": []
   },
   "outputs": [
    {
     "data": {
      "text/plain": [
       "Text(0.5, 1.0, 'Gene correlations in chromosome 13')"
      ]
     },
     "execution_count": 45,
     "metadata": {},
     "output_type": "execute_result"
    },
    {
     "data": {
      "image/png": "[encoded data removed]",
      "text/plain": [
       "<Figure size 720x720 with 2 Axes>"
      ]
     },
     "metadata": {
      "needs_background": "light"
     },
     "output_type": "display_data"
    }
   ],
   "source": [
    "f, ax = plt.subplots(figsize=(10, 10))\n",
    "sns.heatmap(\n",
    "    gene_corrs_df,\n",
    "    xticklabels=False,\n",
    "    yticklabels=False,\n",
    "    square=True,\n",
    "    vmin=vmin_val,\n",
    "    vmax=vmax_val,\n",
    "    cmap=\"YlGnBu\",\n",
    "    ax=ax,\n",
    ")\n",
    "ax.set_title(f\"Gene correlations in chromosome {chromosome}\")"
   ]
  },
  {
   "cell_type": "code",
   "execution_count": null,
   "id": "b25e3ead",
   "metadata": {
    "papermill": {
     "duration": 0.34615,
     "end_time": "2022-07-12T08:35:01.330225",
     "exception": false,
     "start_time": "2022-07-12T08:35:00.984075",
     "status": "completed"
    },
    "tags": []
   },
   "outputs": [],
   "source": []
  }
 ],
 "metadata": {
  "jupytext": {
   "cell_metadata_filter": "all,-execution,-papermill,-trusted",
   "formats": "ipynb,py//py:percent"
  },
  "kernelspec": {
   "display_name": "Python 3 (ipykernel)",
   "language": "python",
   "name": "python3"
  },
  "language_info": {
   "codemirror_mode": {
    "name": "ipython",
    "version": 3
   },
   "file_extension": ".py",
   "mimetype": "text/x-python",
   "name": "python",
   "nbconvert_exporter": "python",
   "pygments_lexer": "ipython3",
   "version": "3.8.13"
  },
  "papermill": {
   "default_parameters": {},
   "duration": 570.805092,
   "end_time": "2022-07-12T08:35:04.720760",
   "environment_variables": {},
   "exception": null,
   "input_path": "nbs/15_gsa_gls/10-gene_expr_correlations.ipynb",
   "output_path": "nbs/15_gsa_gls/gene_corrs/1000g/mashr/10-gene_expr_correlations-chr13.run.ipynb",
   "parameters": {
    "EQTL_MODEL": "MASHR",
    "REFERENCE_PANEL": "1000G",
    "chromosome": 13
   },
   "start_time": "2022-07-12T08:25:33.915668",
   "version": "2.2.2"
  }
 },
 "nbformat": 4,
 "nbformat_minor": 5
}
