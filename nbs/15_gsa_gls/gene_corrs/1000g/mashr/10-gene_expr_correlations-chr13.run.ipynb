{
 "cells": [
  {
   "cell_type": "markdown",
   "id": "94cc4ea0",
   "metadata": {
    "papermill": {
     "duration": 0.021246,
     "end_time": "2022-03-01T14:54:51.006638",
     "exception": false,
     "start_time": "2022-03-01T14:54:50.985392",
     "status": "completed"
    },
    "tags": []
   },
   "source": [
    "# Description"
   ]
  },
  {
   "cell_type": "markdown",
   "id": "5faaa1e2",
   "metadata": {
    "papermill": {
     "duration": 0.021981,
     "end_time": "2022-03-01T14:54:51.049510",
     "exception": false,
     "start_time": "2022-03-01T14:54:51.027529",
     "status": "completed"
    },
    "tags": []
   },
   "source": [
    "This notebook computes predicted expression correlations between all genes in the MultiPLIER models.\n",
    "\n",
    "It also has a parameter set for papermill to run on a single chromosome to run in parallel (see under `Settings` below).\n",
    "\n",
    "This notebook does not have an output because it is not directly run. If you want to see outputs for each chromosome, check out the `gene_corrs` folder, which contains a copy of this notebook for each chromosome."
   ]
  },
  {
   "cell_type": "markdown",
   "id": "dc309e70",
   "metadata": {
    "papermill": {
     "duration": 0.020388,
     "end_time": "2022-03-01T14:54:51.092795",
     "exception": false,
     "start_time": "2022-03-01T14:54:51.072407",
     "status": "completed"
    },
    "tags": []
   },
   "source": [
    "# Modules"
   ]
  },
  {
   "cell_type": "code",
   "execution_count": 1,
   "id": "43913724",
   "metadata": {
    "execution": {
     "iopub.execute_input": "2022-03-01T14:54:51.140502Z",
     "iopub.status.busy": "2022-03-01T14:54:51.136212Z",
     "iopub.status.idle": "2022-03-01T14:54:51.156946Z",
     "shell.execute_reply": "2022-03-01T14:54:51.156385Z"
    },
    "papermill": {
     "duration": 0.044838,
     "end_time": "2022-03-01T14:54:51.158569",
     "exception": false,
     "start_time": "2022-03-01T14:54:51.113731",
     "status": "completed"
    },
    "tags": []
   },
   "outputs": [],
   "source": [
    "%load_ext autoreload\n",
    "%autoreload 2"
   ]
  },
  {
   "cell_type": "code",
   "execution_count": 2,
   "id": "f853fabe",
   "metadata": {
    "execution": {
     "iopub.execute_input": "2022-03-01T14:54:51.203590Z",
     "iopub.status.busy": "2022-03-01T14:54:51.203043Z",
     "iopub.status.idle": "2022-03-01T14:54:51.807342Z",
     "shell.execute_reply": "2022-03-01T14:54:51.806718Z"
    },
    "papermill": {
     "duration": 0.628474,
     "end_time": "2022-03-01T14:54:51.809323",
     "exception": false,
     "start_time": "2022-03-01T14:54:51.180849",
     "status": "completed"
    },
    "tags": []
   },
   "outputs": [],
   "source": [
    "import numpy as np\n",
    "from scipy.spatial.distance import squareform\n",
    "import pandas as pd\n",
    "from tqdm import tqdm\n",
    "\n",
    "import conf\n",
    "from entity import Gene"
   ]
  },
  {
   "cell_type": "markdown",
   "id": "1188ecb0",
   "metadata": {
    "papermill": {
     "duration": 0.022157,
     "end_time": "2022-03-01T14:54:51.854728",
     "exception": false,
     "start_time": "2022-03-01T14:54:51.832571",
     "status": "completed"
    },
    "tags": []
   },
   "source": [
    "# Settings"
   ]
  },
  {
   "cell_type": "code",
   "execution_count": 3,
   "id": "efc384fc",
   "metadata": {
    "execution": {
     "iopub.execute_input": "2022-03-01T14:54:51.899055Z",
     "iopub.status.busy": "2022-03-01T14:54:51.898719Z",
     "iopub.status.idle": "2022-03-01T14:54:51.912213Z",
     "shell.execute_reply": "2022-03-01T14:54:51.911704Z"
    },
    "papermill": {
     "duration": 0.036863,
     "end_time": "2022-03-01T14:54:51.913705",
     "exception": false,
     "start_time": "2022-03-01T14:54:51.876842",
     "status": "completed"
    },
    "tags": [
     "parameters"
    ]
   },
   "outputs": [],
   "source": [
    "# mashr\n",
    "EQTL_MODEL = \"MASHR\"\n",
    "EQTL_MODEL_FILES_PREFIX = \"mashr_\"\n",
    "\n",
    "# # elastic net\n",
    "# EQTL_MODEL = \"ELASTIC_NET\"\n",
    "# EQTL_MODEL_FILES_PREFIX = \"en_\"\n",
    "\n",
    "# make it read the prefix from conf.py\n",
    "EQTL_MODEL_FILES_PREFIX = None\n",
    "\n",
    "# specifies a single chromosome value\n",
    "# by default, run on all chromosomes\n",
    "chromosome = \"all\""
   ]
  },
  {
   "cell_type": "code",
   "execution_count": 4,
   "id": "e3b4f149",
   "metadata": {
    "execution": {
     "iopub.execute_input": "2022-03-01T14:54:51.958490Z",
     "iopub.status.busy": "2022-03-01T14:54:51.957945Z",
     "iopub.status.idle": "2022-03-01T14:54:51.972673Z",
     "shell.execute_reply": "2022-03-01T14:54:51.972093Z"
    },
    "papermill": {
     "duration": 0.038484,
     "end_time": "2022-03-01T14:54:51.974210",
     "exception": false,
     "start_time": "2022-03-01T14:54:51.935726",
     "status": "completed"
    },
    "tags": [
     "injected-parameters"
    ]
   },
   "outputs": [],
   "source": [
    "# Parameters\n",
    "chromosome = 13\n",
    "EQTL_MODEL = \"MASHR\"\n"
   ]
  },
  {
   "cell_type": "code",
   "execution_count": 5,
   "id": "6273f87b",
   "metadata": {
    "execution": {
     "iopub.execute_input": "2022-03-01T14:54:52.019113Z",
     "iopub.status.busy": "2022-03-01T14:54:52.018469Z",
     "iopub.status.idle": "2022-03-01T14:54:52.031795Z",
     "shell.execute_reply": "2022-03-01T14:54:52.031213Z"
    },
    "papermill": {
     "duration": 0.036918,
     "end_time": "2022-03-01T14:54:52.033347",
     "exception": false,
     "start_time": "2022-03-01T14:54:51.996429",
     "status": "completed"
    },
    "tags": []
   },
   "outputs": [],
   "source": [
    "if EQTL_MODEL_FILES_PREFIX is None:\n",
    "    EQTL_MODEL_FILES_PREFIX = conf.PHENOMEXCAN[\"PREDICTION_MODELS_PREFIXES\"][EQTL_MODEL]"
   ]
  },
  {
   "cell_type": "code",
   "execution_count": 6,
   "id": "c5dbb802",
   "metadata": {
    "execution": {
     "iopub.execute_input": "2022-03-01T14:54:52.078731Z",
     "iopub.status.busy": "2022-03-01T14:54:52.078145Z",
     "iopub.status.idle": "2022-03-01T14:54:52.097171Z",
     "shell.execute_reply": "2022-03-01T14:54:52.096710Z"
    },
    "papermill": {
     "duration": 0.043049,
     "end_time": "2022-03-01T14:54:52.098694",
     "exception": false,
     "start_time": "2022-03-01T14:54:52.055645",
     "status": "completed"
    },
    "tags": []
   },
   "outputs": [
    {
     "data": {
      "text/plain": [
       "'Using eQTL model: MASHR / mashr_'"
      ]
     },
     "metadata": {},
     "output_type": "display_data"
    }
   ],
   "source": [
    "display(f\"Using eQTL model: {EQTL_MODEL} / {EQTL_MODEL_FILES_PREFIX}\")"
   ]
  },
  {
   "cell_type": "code",
   "execution_count": 7,
   "id": "7ea885ec",
   "metadata": {
    "execution": {
     "iopub.execute_input": "2022-03-01T14:54:52.145287Z",
     "iopub.status.busy": "2022-03-01T14:54:52.144926Z",
     "iopub.status.idle": "2022-03-01T14:54:52.159004Z",
     "shell.execute_reply": "2022-03-01T14:54:52.158548Z"
    },
    "papermill": {
     "duration": 0.038466,
     "end_time": "2022-03-01T14:54:52.160548",
     "exception": false,
     "start_time": "2022-03-01T14:54:52.122082",
     "status": "completed"
    },
    "tags": []
   },
   "outputs": [],
   "source": [
    "if chromosome == \"all\":\n",
    "    from time import sleep\n",
    "\n",
    "    message = \"\"\"\n",
    "    WARNING: you are going to compute correlations of gene predicted expression across all chromosomes without parallelism.\n",
    "    It is recommended that you look at the README.md file in this subfolder (nbs/08_gsa_gls/README.md) to know how to do that.\n",
    "    \n",
    "    It will continue in 20 seconds.\n",
    "    \"\"\"\n",
    "    print(message)\n",
    "    sleep(20)"
   ]
  },
  {
   "cell_type": "markdown",
   "id": "2aae4936",
   "metadata": {
    "papermill": {
     "duration": 0.0219,
     "end_time": "2022-03-01T14:54:52.205572",
     "exception": false,
     "start_time": "2022-03-01T14:54:52.183672",
     "status": "completed"
    },
    "tags": []
   },
   "source": [
    "# Load data"
   ]
  },
  {
   "cell_type": "markdown",
   "id": "24e10368",
   "metadata": {
    "papermill": {
     "duration": 0.023124,
     "end_time": "2022-03-01T14:54:52.250389",
     "exception": false,
     "start_time": "2022-03-01T14:54:52.227265",
     "status": "completed"
    },
    "tags": []
   },
   "source": [
    "## MultiPLIER Z"
   ]
  },
  {
   "cell_type": "code",
   "execution_count": 8,
   "id": "df154b08",
   "metadata": {
    "execution": {
     "iopub.execute_input": "2022-03-01T14:54:52.295624Z",
     "iopub.status.busy": "2022-03-01T14:54:52.295062Z",
     "iopub.status.idle": "2022-03-01T14:54:52.336388Z",
     "shell.execute_reply": "2022-03-01T14:54:52.335892Z"
    },
    "papermill": {
     "duration": 0.065341,
     "end_time": "2022-03-01T14:54:52.338040",
     "exception": false,
     "start_time": "2022-03-01T14:54:52.272699",
     "status": "completed"
    },
    "tags": []
   },
   "outputs": [],
   "source": [
    "multiplier_z_genes = pd.read_pickle(\n",
    "    conf.MULTIPLIER[\"MODEL_Z_MATRIX_FILE\"]\n",
    ").index.tolist()"
   ]
  },
  {
   "cell_type": "code",
   "execution_count": 9,
   "id": "9919b407",
   "metadata": {
    "execution": {
     "iopub.execute_input": "2022-03-01T14:54:52.386528Z",
     "iopub.status.busy": "2022-03-01T14:54:52.385976Z",
     "iopub.status.idle": "2022-03-01T14:54:52.400158Z",
     "shell.execute_reply": "2022-03-01T14:54:52.399613Z"
    },
    "papermill": {
     "duration": 0.039252,
     "end_time": "2022-03-01T14:54:52.401612",
     "exception": false,
     "start_time": "2022-03-01T14:54:52.362360",
     "status": "completed"
    },
    "tags": []
   },
   "outputs": [
    {
     "data": {
      "text/plain": [
       "6750"
      ]
     },
     "execution_count": 9,
     "metadata": {},
     "output_type": "execute_result"
    }
   ],
   "source": [
    "len(multiplier_z_genes)"
   ]
  },
  {
   "cell_type": "code",
   "execution_count": 10,
   "id": "d297bd8d",
   "metadata": {
    "execution": {
     "iopub.execute_input": "2022-03-01T14:54:52.449204Z",
     "iopub.status.busy": "2022-03-01T14:54:52.448667Z",
     "iopub.status.idle": "2022-03-01T14:54:52.471665Z",
     "shell.execute_reply": "2022-03-01T14:54:52.471057Z"
    },
    "papermill": {
     "duration": 0.048322,
     "end_time": "2022-03-01T14:54:52.473429",
     "exception": false,
     "start_time": "2022-03-01T14:54:52.425107",
     "status": "completed"
    },
    "tags": []
   },
   "outputs": [
    {
     "data": {
      "text/plain": [
       "['GAS6',\n",
       " 'MMP14',\n",
       " 'DSP',\n",
       " 'MARCKSL1',\n",
       " 'SPARC',\n",
       " 'CTSD',\n",
       " 'EPAS1',\n",
       " 'PALLD',\n",
       " 'PHC2',\n",
       " 'LGALS3BP']"
      ]
     },
     "execution_count": 10,
     "metadata": {},
     "output_type": "execute_result"
    }
   ],
   "source": [
    "multiplier_z_genes[:10]"
   ]
  },
  {
   "cell_type": "markdown",
   "id": "b8bbc4fd",
   "metadata": {
    "papermill": {
     "duration": 0.024844,
     "end_time": "2022-03-01T14:54:52.526362",
     "exception": false,
     "start_time": "2022-03-01T14:54:52.501518",
     "status": "completed"
    },
    "tags": []
   },
   "source": [
    "## Get gene objects"
   ]
  },
  {
   "cell_type": "code",
   "execution_count": 11,
   "id": "6f785c35",
   "metadata": {
    "execution": {
     "iopub.execute_input": "2022-03-01T14:54:52.574175Z",
     "iopub.status.busy": "2022-03-01T14:54:52.573995Z",
     "iopub.status.idle": "2022-03-01T14:54:52.595094Z",
     "shell.execute_reply": "2022-03-01T14:54:52.594578Z"
    },
    "papermill": {
     "duration": 0.046368,
     "end_time": "2022-03-01T14:54:52.596640",
     "exception": false,
     "start_time": "2022-03-01T14:54:52.550272",
     "status": "completed"
    },
    "tags": []
   },
   "outputs": [],
   "source": [
    "multiplier_gene_obj = {\n",
    "    gene_name: Gene(name=gene_name)\n",
    "    for gene_name in multiplier_z_genes\n",
    "    if gene_name in Gene.GENE_NAME_TO_ID_MAP\n",
    "}"
   ]
  },
  {
   "cell_type": "code",
   "execution_count": 12,
   "id": "8249f836",
   "metadata": {
    "execution": {
     "iopub.execute_input": "2022-03-01T14:54:52.645272Z",
     "iopub.status.busy": "2022-03-01T14:54:52.644824Z",
     "iopub.status.idle": "2022-03-01T14:54:52.658466Z",
     "shell.execute_reply": "2022-03-01T14:54:52.658000Z"
    },
    "papermill": {
     "duration": 0.038957,
     "end_time": "2022-03-01T14:54:52.659921",
     "exception": false,
     "start_time": "2022-03-01T14:54:52.620964",
     "status": "completed"
    },
    "tags": []
   },
   "outputs": [
    {
     "data": {
      "text/plain": [
       "6454"
      ]
     },
     "execution_count": 12,
     "metadata": {},
     "output_type": "execute_result"
    }
   ],
   "source": [
    "len(multiplier_gene_obj)"
   ]
  },
  {
   "cell_type": "code",
   "execution_count": 13,
   "id": "46f78e0a",
   "metadata": {
    "execution": {
     "iopub.execute_input": "2022-03-01T14:54:52.710746Z",
     "iopub.status.busy": "2022-03-01T14:54:52.710561Z",
     "iopub.status.idle": "2022-03-01T14:54:52.724724Z",
     "shell.execute_reply": "2022-03-01T14:54:52.724178Z"
    },
    "papermill": {
     "duration": 0.040507,
     "end_time": "2022-03-01T14:54:52.726264",
     "exception": false,
     "start_time": "2022-03-01T14:54:52.685757",
     "status": "completed"
    },
    "tags": []
   },
   "outputs": [
    {
     "data": {
      "text/plain": [
       "'ENSG00000183087'"
      ]
     },
     "execution_count": 13,
     "metadata": {},
     "output_type": "execute_result"
    }
   ],
   "source": [
    "multiplier_gene_obj[\"GAS6\"].ensembl_id"
   ]
  },
  {
   "cell_type": "code",
   "execution_count": 14,
   "id": "97644699",
   "metadata": {
    "execution": {
     "iopub.execute_input": "2022-03-01T14:54:52.775925Z",
     "iopub.status.busy": "2022-03-01T14:54:52.775462Z",
     "iopub.status.idle": "2022-03-01T14:54:53.663448Z",
     "shell.execute_reply": "2022-03-01T14:54:53.662879Z"
    },
    "papermill": {
     "duration": 0.914174,
     "end_time": "2022-03-01T14:54:53.665060",
     "exception": false,
     "start_time": "2022-03-01T14:54:52.750886",
     "status": "completed"
    },
    "tags": []
   },
   "outputs": [],
   "source": [
    "_gene_obj = list(multiplier_gene_obj.values())\n",
    "\n",
    "genes_info = pd.DataFrame(\n",
    "    {\n",
    "        \"name\": [g.name for g in _gene_obj],\n",
    "        \"id\": [g.ensembl_id for g in _gene_obj],\n",
    "        \"chr\": [g.chromosome for g in _gene_obj],\n",
    "    }\n",
    ")"
   ]
  },
  {
   "cell_type": "code",
   "execution_count": 15,
   "id": "e4477eed",
   "metadata": {
    "execution": {
     "iopub.execute_input": "2022-03-01T14:54:53.714648Z",
     "iopub.status.busy": "2022-03-01T14:54:53.714462Z",
     "iopub.status.idle": "2022-03-01T14:54:53.728423Z",
     "shell.execute_reply": "2022-03-01T14:54:53.727961Z"
    },
    "papermill": {
     "duration": 0.040154,
     "end_time": "2022-03-01T14:54:53.729896",
     "exception": false,
     "start_time": "2022-03-01T14:54:53.689742",
     "status": "completed"
    },
    "tags": []
   },
   "outputs": [
    {
     "data": {
      "text/plain": [
       "(6454, 3)"
      ]
     },
     "execution_count": 15,
     "metadata": {},
     "output_type": "execute_result"
    }
   ],
   "source": [
    "genes_info.shape"
   ]
  },
  {
   "cell_type": "code",
   "execution_count": 16,
   "id": "797ebef5",
   "metadata": {
    "execution": {
     "iopub.execute_input": "2022-03-01T14:54:53.780499Z",
     "iopub.status.busy": "2022-03-01T14:54:53.779974Z",
     "iopub.status.idle": "2022-03-01T14:54:53.798125Z",
     "shell.execute_reply": "2022-03-01T14:54:53.797664Z"
    },
    "papermill": {
     "duration": 0.044481,
     "end_time": "2022-03-01T14:54:53.799557",
     "exception": false,
     "start_time": "2022-03-01T14:54:53.755076",
     "status": "completed"
    },
    "tags": []
   },
   "outputs": [
    {
     "data": {
      "text/html": [
       "<div>\n",
       "<style scoped>\n",
       "    .dataframe tbody tr th:only-of-type {\n",
       "        vertical-align: middle;\n",
       "    }\n",
       "\n",
       "    .dataframe tbody tr th {\n",
       "        vertical-align: top;\n",
       "    }\n",
       "\n",
       "    .dataframe thead th {\n",
       "        text-align: right;\n",
       "    }\n",
       "</style>\n",
       "<table border=\"1\" class=\"dataframe\">\n",
       "  <thead>\n",
       "    <tr style=\"text-align: right;\">\n",
       "      <th></th>\n",
       "      <th>name</th>\n",
       "      <th>id</th>\n",
       "      <th>chr</th>\n",
       "    </tr>\n",
       "  </thead>\n",
       "  <tbody>\n",
       "    <tr>\n",
       "      <th>0</th>\n",
       "      <td>GAS6</td>\n",
       "      <td>ENSG00000183087</td>\n",
       "      <td>13</td>\n",
       "    </tr>\n",
       "    <tr>\n",
       "      <th>1</th>\n",
       "      <td>MMP14</td>\n",
       "      <td>ENSG00000157227</td>\n",
       "      <td>14</td>\n",
       "    </tr>\n",
       "    <tr>\n",
       "      <th>2</th>\n",
       "      <td>DSP</td>\n",
       "      <td>ENSG00000096696</td>\n",
       "      <td>6</td>\n",
       "    </tr>\n",
       "    <tr>\n",
       "      <th>3</th>\n",
       "      <td>MARCKSL1</td>\n",
       "      <td>ENSG00000175130</td>\n",
       "      <td>1</td>\n",
       "    </tr>\n",
       "    <tr>\n",
       "      <th>4</th>\n",
       "      <td>SPARC</td>\n",
       "      <td>ENSG00000113140</td>\n",
       "      <td>5</td>\n",
       "    </tr>\n",
       "  </tbody>\n",
       "</table>\n",
       "</div>"
      ],
      "text/plain": [
       "       name               id chr\n",
       "0      GAS6  ENSG00000183087  13\n",
       "1     MMP14  ENSG00000157227  14\n",
       "2       DSP  ENSG00000096696   6\n",
       "3  MARCKSL1  ENSG00000175130   1\n",
       "4     SPARC  ENSG00000113140   5"
      ]
     },
     "execution_count": 16,
     "metadata": {},
     "output_type": "execute_result"
    }
   ],
   "source": [
    "genes_info.head()"
   ]
  },
  {
   "cell_type": "markdown",
   "id": "993a0d2d",
   "metadata": {
    "papermill": {
     "duration": 0.024721,
     "end_time": "2022-03-01T14:54:53.850161",
     "exception": false,
     "start_time": "2022-03-01T14:54:53.825440",
     "status": "completed"
    },
    "tags": []
   },
   "source": [
    "## Get tissues names"
   ]
  },
  {
   "cell_type": "code",
   "execution_count": 17,
   "id": "783dbd29",
   "metadata": {
    "execution": {
     "iopub.execute_input": "2022-03-01T14:54:53.902798Z",
     "iopub.status.busy": "2022-03-01T14:54:53.902321Z",
     "iopub.status.idle": "2022-03-01T14:54:53.916543Z",
     "shell.execute_reply": "2022-03-01T14:54:53.915953Z"
    },
    "papermill": {
     "duration": 0.042766,
     "end_time": "2022-03-01T14:54:53.918080",
     "exception": false,
     "start_time": "2022-03-01T14:54:53.875314",
     "status": "completed"
    },
    "tags": []
   },
   "outputs": [],
   "source": [
    "db_files = list(conf.PHENOMEXCAN[\"PREDICTION_MODELS\"][EQTL_MODEL].glob(\"*.db\"))"
   ]
  },
  {
   "cell_type": "code",
   "execution_count": 18,
   "id": "04664f7d",
   "metadata": {
    "execution": {
     "iopub.execute_input": "2022-03-01T14:54:53.970091Z",
     "iopub.status.busy": "2022-03-01T14:54:53.969617Z",
     "iopub.status.idle": "2022-03-01T14:54:53.982704Z",
     "shell.execute_reply": "2022-03-01T14:54:53.982136Z"
    },
    "papermill": {
     "duration": 0.040295,
     "end_time": "2022-03-01T14:54:53.984252",
     "exception": false,
     "start_time": "2022-03-01T14:54:53.943957",
     "status": "completed"
    },
    "tags": []
   },
   "outputs": [],
   "source": [
    "assert len(db_files) == 49"
   ]
  },
  {
   "cell_type": "code",
   "execution_count": 19,
   "id": "4717fbb3",
   "metadata": {
    "execution": {
     "iopub.execute_input": "2022-03-01T14:54:54.036716Z",
     "iopub.status.busy": "2022-03-01T14:54:54.036252Z",
     "iopub.status.idle": "2022-03-01T14:54:54.049639Z",
     "shell.execute_reply": "2022-03-01T14:54:54.049107Z"
    },
    "papermill": {
     "duration": 0.041336,
     "end_time": "2022-03-01T14:54:54.051192",
     "exception": false,
     "start_time": "2022-03-01T14:54:54.009856",
     "status": "completed"
    },
    "tags": []
   },
   "outputs": [],
   "source": [
    "tissues = [\n",
    "    str(f).split(EQTL_MODEL_FILES_PREFIX, maxsplit=1)[1].split(\".db\")[0]\n",
    "    for f in db_files\n",
    "]"
   ]
  },
  {
   "cell_type": "code",
   "execution_count": 20,
   "id": "3cc28e7c",
   "metadata": {
    "execution": {
     "iopub.execute_input": "2022-03-01T14:54:54.103918Z",
     "iopub.status.busy": "2022-03-01T14:54:54.103346Z",
     "iopub.status.idle": "2022-03-01T14:54:54.117266Z",
     "shell.execute_reply": "2022-03-01T14:54:54.116805Z"
    },
    "papermill": {
     "duration": 0.041642,
     "end_time": "2022-03-01T14:54:54.118753",
     "exception": false,
     "start_time": "2022-03-01T14:54:54.077111",
     "status": "completed"
    },
    "tags": []
   },
   "outputs": [
    {
     "data": {
      "text/plain": [
       "['Skin_Not_Sun_Exposed_Suprapubic',\n",
       " 'Cells_EBV-transformed_lymphocytes',\n",
       " 'Brain_Frontal_Cortex_BA9',\n",
       " 'Kidney_Cortex',\n",
       " 'Brain_Substantia_nigra']"
      ]
     },
     "execution_count": 20,
     "metadata": {},
     "output_type": "execute_result"
    }
   ],
   "source": [
    "tissues[:5]"
   ]
  },
  {
   "cell_type": "markdown",
   "id": "65fba569",
   "metadata": {
    "papermill": {
     "duration": 0.025656,
     "end_time": "2022-03-01T14:54:54.171342",
     "exception": false,
     "start_time": "2022-03-01T14:54:54.145686",
     "status": "completed"
    },
    "tags": []
   },
   "source": [
    "# Test"
   ]
  },
  {
   "cell_type": "code",
   "execution_count": 21,
   "id": "c557bc63",
   "metadata": {
    "execution": {
     "iopub.execute_input": "2022-03-01T14:54:54.224038Z",
     "iopub.status.busy": "2022-03-01T14:54:54.223509Z",
     "iopub.status.idle": "2022-03-01T14:54:54.244780Z",
     "shell.execute_reply": "2022-03-01T14:54:54.244299Z"
    },
    "papermill": {
     "duration": 0.049129,
     "end_time": "2022-03-01T14:54:54.246325",
     "exception": false,
     "start_time": "2022-03-01T14:54:54.197196",
     "status": "completed"
    },
    "tags": []
   },
   "outputs": [
    {
     "data": {
      "text/html": [
       "<div>\n",
       "<style scoped>\n",
       "    .dataframe tbody tr th:only-of-type {\n",
       "        vertical-align: middle;\n",
       "    }\n",
       "\n",
       "    .dataframe tbody tr th {\n",
       "        vertical-align: top;\n",
       "    }\n",
       "\n",
       "    .dataframe thead th {\n",
       "        text-align: right;\n",
       "    }\n",
       "</style>\n",
       "<table border=\"1\" class=\"dataframe\">\n",
       "  <thead>\n",
       "    <tr style=\"text-align: right;\">\n",
       "      <th></th>\n",
       "      <th>name</th>\n",
       "      <th>id</th>\n",
       "      <th>chr</th>\n",
       "    </tr>\n",
       "  </thead>\n",
       "  <tbody>\n",
       "    <tr>\n",
       "      <th>0</th>\n",
       "      <td>GAS6</td>\n",
       "      <td>ENSG00000183087</td>\n",
       "      <td>13</td>\n",
       "    </tr>\n",
       "    <tr>\n",
       "      <th>139</th>\n",
       "      <td>FRY</td>\n",
       "      <td>ENSG00000073910</td>\n",
       "      <td>13</td>\n",
       "    </tr>\n",
       "    <tr>\n",
       "      <th>239</th>\n",
       "      <td>CCNA1</td>\n",
       "      <td>ENSG00000133101</td>\n",
       "      <td>13</td>\n",
       "    </tr>\n",
       "    <tr>\n",
       "      <th>283</th>\n",
       "      <td>FLT3</td>\n",
       "      <td>ENSG00000122025</td>\n",
       "      <td>13</td>\n",
       "    </tr>\n",
       "    <tr>\n",
       "      <th>412</th>\n",
       "      <td>TNFSF11</td>\n",
       "      <td>ENSG00000120659</td>\n",
       "      <td>13</td>\n",
       "    </tr>\n",
       "    <tr>\n",
       "      <th>...</th>\n",
       "      <td>...</td>\n",
       "      <td>...</td>\n",
       "      <td>...</td>\n",
       "    </tr>\n",
       "    <tr>\n",
       "      <th>6269</th>\n",
       "      <td>KL</td>\n",
       "      <td>ENSG00000133116</td>\n",
       "      <td>13</td>\n",
       "    </tr>\n",
       "    <tr>\n",
       "      <th>6351</th>\n",
       "      <td>MTMR6</td>\n",
       "      <td>ENSG00000139505</td>\n",
       "      <td>13</td>\n",
       "    </tr>\n",
       "    <tr>\n",
       "      <th>6379</th>\n",
       "      <td>ABCC4</td>\n",
       "      <td>ENSG00000125257</td>\n",
       "      <td>13</td>\n",
       "    </tr>\n",
       "    <tr>\n",
       "      <th>6416</th>\n",
       "      <td>RFXAP</td>\n",
       "      <td>ENSG00000133111</td>\n",
       "      <td>13</td>\n",
       "    </tr>\n",
       "    <tr>\n",
       "      <th>6436</th>\n",
       "      <td>ELF1</td>\n",
       "      <td>ENSG00000120690</td>\n",
       "      <td>13</td>\n",
       "    </tr>\n",
       "  </tbody>\n",
       "</table>\n",
       "<p>118 rows × 3 columns</p>\n",
       "</div>"
      ],
      "text/plain": [
       "         name               id chr\n",
       "0        GAS6  ENSG00000183087  13\n",
       "139       FRY  ENSG00000073910  13\n",
       "239     CCNA1  ENSG00000133101  13\n",
       "283      FLT3  ENSG00000122025  13\n",
       "412   TNFSF11  ENSG00000120659  13\n",
       "...       ...              ...  ..\n",
       "6269       KL  ENSG00000133116  13\n",
       "6351    MTMR6  ENSG00000139505  13\n",
       "6379    ABCC4  ENSG00000125257  13\n",
       "6416    RFXAP  ENSG00000133111  13\n",
       "6436     ELF1  ENSG00000120690  13\n",
       "\n",
       "[118 rows x 3 columns]"
      ]
     },
     "execution_count": 21,
     "metadata": {},
     "output_type": "execute_result"
    }
   ],
   "source": [
    "genes_info[genes_info[\"chr\"] == \"13\"]"
   ]
  },
  {
   "cell_type": "code",
   "execution_count": 22,
   "id": "d9a014bc",
   "metadata": {
    "execution": {
     "iopub.execute_input": "2022-03-01T14:54:54.300707Z",
     "iopub.status.busy": "2022-03-01T14:54:54.300140Z",
     "iopub.status.idle": "2022-03-01T14:54:54.314829Z",
     "shell.execute_reply": "2022-03-01T14:54:54.314235Z"
    },
    "papermill": {
     "duration": 0.043043,
     "end_time": "2022-03-01T14:54:54.316398",
     "exception": false,
     "start_time": "2022-03-01T14:54:54.273355",
     "status": "completed"
    },
    "tags": []
   },
   "outputs": [],
   "source": [
    "_gene_list = [\n",
    "    Gene(\"ENSG00000134871\"),\n",
    "    Gene(\"ENSG00000187498\"),\n",
    "    Gene(\"ENSG00000183087\"),\n",
    "    Gene(\"ENSG00000073910\"),\n",
    "    Gene(\"ENSG00000133101\"),\n",
    "    Gene(\"ENSG00000122025\"),\n",
    "    Gene(\"ENSG00000120659\"),\n",
    "    Gene(\"ENSG00000133116\"),\n",
    "]\n",
    "\n",
    "tissue = \"Whole_Blood\""
   ]
  },
  {
   "cell_type": "code",
   "execution_count": 23,
   "id": "14337f6d",
   "metadata": {
    "execution": {
     "iopub.execute_input": "2022-03-01T14:54:54.372275Z",
     "iopub.status.busy": "2022-03-01T14:54:54.371944Z",
     "iopub.status.idle": "2022-03-01T14:54:55.190329Z",
     "shell.execute_reply": "2022-03-01T14:54:55.189751Z"
    },
    "papermill": {
     "duration": 0.847204,
     "end_time": "2022-03-01T14:54:55.191854",
     "exception": false,
     "start_time": "2022-03-01T14:54:54.344650",
     "status": "completed"
    },
    "tags": []
   },
   "outputs": [
    {
     "name": "stdout",
     "output_type": "stream",
     "text": [
      "77.4 ms ± 1.14 ms per loop (mean ± std. dev. of 7 runs, 1 loop each)\n"
     ]
    }
   ],
   "source": [
    "%%timeit\n",
    "for gene_idx1 in range(0, len(_gene_list) - 1):\n",
    "    gene_obj1 = _gene_list[gene_idx1]\n",
    "\n",
    "    for gene_idx2 in range(gene_idx1 + 1, len(_gene_list)):\n",
    "        gene_obj2 = _gene_list[gene_idx2]\n",
    "\n",
    "        gene_obj1.get_expression_correlation(\n",
    "            gene_obj2,\n",
    "            tissue,\n",
    "        )"
   ]
  },
  {
   "cell_type": "markdown",
   "id": "7787172c",
   "metadata": {
    "papermill": {
     "duration": 0.028792,
     "end_time": "2022-03-01T14:54:55.250005",
     "exception": false,
     "start_time": "2022-03-01T14:54:55.221213",
     "status": "completed"
    },
    "tags": []
   },
   "source": [
    "# Compute correlation per chromosome"
   ]
  },
  {
   "cell_type": "code",
   "execution_count": 24,
   "id": "53bac8a2",
   "metadata": {
    "execution": {
     "iopub.execute_input": "2022-03-01T14:54:55.306345Z",
     "iopub.status.busy": "2022-03-01T14:54:55.306162Z",
     "iopub.status.idle": "2022-03-01T15:10:49.173680Z",
     "shell.execute_reply": "2022-03-01T15:10:49.173124Z"
    },
    "papermill": {
     "duration": 953.899009,
     "end_time": "2022-03-01T15:10:49.175418",
     "exception": false,
     "start_time": "2022-03-01T14:54:55.276409",
     "status": "completed"
    },
    "tags": []
   },
   "outputs": [
    {
     "name": "stdout",
     "output_type": "stream",
     "text": [
      "Chromosome 13\n",
      "Genes in chromosome(118, 3)\n",
      "Number of gene combinations: 6903\n",
      "Tissue Skin_Not_Sun_Exposed_Suprapubic\n"
     ]
    },
    {
     "name": "stderr",
     "output_type": "stream",
     "text": [
      "100%|██████████████████████████████████████████████████████████| 6903/6903 [00:22<00:00, 313.19it/s]"
     ]
    },
    {
     "name": "stdout",
     "output_type": "stream",
     "text": [
      "Min/max values: -0.7071397988434087 / 0.9672784757996161\n"
     ]
    },
    {
     "name": "stderr",
     "output_type": "stream",
     "text": [
      "\n"
     ]
    },
    {
     "data": {
      "text/plain": [
       "PosixPath('/opt/data/data/phenomexcan/ld_blocks/mashr_gene_corrs/Skin_Not_Sun_Exposed_Suprapubic/gene_corrs-Skin_Not_Sun_Exposed_Suprapubic-chr13.pkl')"
      ]
     },
     "metadata": {},
     "output_type": "display_data"
    },
    {
     "name": "stdout",
     "output_type": "stream",
     "text": [
      "Tissue Cells_EBV-transformed_lymphocytes\n"
     ]
    },
    {
     "name": "stderr",
     "output_type": "stream",
     "text": [
      "100%|██████████████████████████████████████████████████████████| 6903/6903 [00:18<00:00, 367.88it/s]"
     ]
    },
    {
     "name": "stdout",
     "output_type": "stream",
     "text": [
      "Min/max values: -0.8041992072034777 / 0.7684770291730292\n"
     ]
    },
    {
     "name": "stderr",
     "output_type": "stream",
     "text": [
      "\n"
     ]
    },
    {
     "data": {
      "text/plain": [
       "PosixPath('/opt/data/data/phenomexcan/ld_blocks/mashr_gene_corrs/Cells_EBV-transformed_lymphocytes/gene_corrs-Cells_EBV-transformed_lymphocytes-chr13.pkl')"
      ]
     },
     "metadata": {},
     "output_type": "display_data"
    },
    {
     "name": "stdout",
     "output_type": "stream",
     "text": [
      "Tissue Brain_Frontal_Cortex_BA9\n"
     ]
    },
    {
     "name": "stderr",
     "output_type": "stream",
     "text": [
      "100%|██████████████████████████████████████████████████████████| 6903/6903 [00:18<00:00, 367.76it/s]"
     ]
    },
    {
     "name": "stdout",
     "output_type": "stream",
     "text": [
      "Min/max values: -0.8854721416378047 / 0.9672784757996159\n"
     ]
    },
    {
     "name": "stderr",
     "output_type": "stream",
     "text": [
      "\n"
     ]
    },
    {
     "data": {
      "text/plain": [
       "PosixPath('/opt/data/data/phenomexcan/ld_blocks/mashr_gene_corrs/Brain_Frontal_Cortex_BA9/gene_corrs-Brain_Frontal_Cortex_BA9-chr13.pkl')"
      ]
     },
     "metadata": {},
     "output_type": "display_data"
    },
    {
     "name": "stdout",
     "output_type": "stream",
     "text": [
      "Tissue Kidney_Cortex\n"
     ]
    },
    {
     "name": "stderr",
     "output_type": "stream",
     "text": [
      "100%|██████████████████████████████████████████████████████████| 6903/6903 [00:13<00:00, 520.25it/s]"
     ]
    },
    {
     "name": "stdout",
     "output_type": "stream",
     "text": [
      "Min/max values: -0.9840206895018673 / 0.9672784757996159\n"
     ]
    },
    {
     "name": "stderr",
     "output_type": "stream",
     "text": [
      "\n"
     ]
    },
    {
     "data": {
      "text/plain": [
       "PosixPath('/opt/data/data/phenomexcan/ld_blocks/mashr_gene_corrs/Kidney_Cortex/gene_corrs-Kidney_Cortex-chr13.pkl')"
      ]
     },
     "metadata": {},
     "output_type": "display_data"
    },
    {
     "name": "stdout",
     "output_type": "stream",
     "text": [
      "Tissue Brain_Substantia_nigra\n"
     ]
    },
    {
     "name": "stderr",
     "output_type": "stream",
     "text": [
      "100%|██████████████████████████████████████████████████████████| 6903/6903 [00:17<00:00, 402.25it/s]"
     ]
    },
    {
     "name": "stdout",
     "output_type": "stream",
     "text": [
      "Min/max values: -0.6536713246338886 / 1.0\n"
     ]
    },
    {
     "name": "stderr",
     "output_type": "stream",
     "text": [
      "\n"
     ]
    },
    {
     "data": {
      "text/plain": [
       "PosixPath('/opt/data/data/phenomexcan/ld_blocks/mashr_gene_corrs/Brain_Substantia_nigra/gene_corrs-Brain_Substantia_nigra-chr13.pkl')"
      ]
     },
     "metadata": {},
     "output_type": "display_data"
    },
    {
     "name": "stdout",
     "output_type": "stream",
     "text": [
      "Tissue Spleen\n"
     ]
    },
    {
     "name": "stderr",
     "output_type": "stream",
     "text": [
      "100%|██████████████████████████████████████████████████████████| 6903/6903 [00:21<00:00, 318.40it/s]"
     ]
    },
    {
     "name": "stdout",
     "output_type": "stream",
     "text": [
      "Min/max values: -0.8891458449050329 / 0.8578143493676597\n"
     ]
    },
    {
     "name": "stderr",
     "output_type": "stream",
     "text": [
      "\n"
     ]
    },
    {
     "data": {
      "text/plain": [
       "PosixPath('/opt/data/data/phenomexcan/ld_blocks/mashr_gene_corrs/Spleen/gene_corrs-Spleen-chr13.pkl')"
      ]
     },
     "metadata": {},
     "output_type": "display_data"
    },
    {
     "name": "stdout",
     "output_type": "stream",
     "text": [
      "Tissue Colon_Transverse\n"
     ]
    },
    {
     "name": "stderr",
     "output_type": "stream",
     "text": [
      "100%|██████████████████████████████████████████████████████████| 6903/6903 [00:21<00:00, 314.54it/s]"
     ]
    },
    {
     "name": "stdout",
     "output_type": "stream",
     "text": [
      "Min/max values: -0.789120271255375 / 0.8971984236349331\n"
     ]
    },
    {
     "name": "stderr",
     "output_type": "stream",
     "text": [
      "\n"
     ]
    },
    {
     "data": {
      "text/plain": [
       "PosixPath('/opt/data/data/phenomexcan/ld_blocks/mashr_gene_corrs/Colon_Transverse/gene_corrs-Colon_Transverse-chr13.pkl')"
      ]
     },
     "metadata": {},
     "output_type": "display_data"
    },
    {
     "name": "stdout",
     "output_type": "stream",
     "text": [
      "Tissue Heart_Left_Ventricle\n"
     ]
    },
    {
     "name": "stderr",
     "output_type": "stream",
     "text": [
      "100%|██████████████████████████████████████████████████████████| 6903/6903 [00:17<00:00, 384.73it/s]"
     ]
    },
    {
     "name": "stdout",
     "output_type": "stream",
     "text": [
      "Min/max values: -0.8160110170224408 / 0.9672784757996161\n"
     ]
    },
    {
     "name": "stderr",
     "output_type": "stream",
     "text": [
      "\n"
     ]
    },
    {
     "data": {
      "text/plain": [
       "PosixPath('/opt/data/data/phenomexcan/ld_blocks/mashr_gene_corrs/Heart_Left_Ventricle/gene_corrs-Heart_Left_Ventricle-chr13.pkl')"
      ]
     },
     "metadata": {},
     "output_type": "display_data"
    },
    {
     "name": "stdout",
     "output_type": "stream",
     "text": [
      "Tissue Lung\n"
     ]
    },
    {
     "name": "stderr",
     "output_type": "stream",
     "text": [
      "100%|██████████████████████████████████████████████████████████| 6903/6903 [00:22<00:00, 307.01it/s]"
     ]
    },
    {
     "name": "stdout",
     "output_type": "stream",
     "text": [
      "Min/max values: -0.8153598350363656 / 0.7619257035524455\n"
     ]
    },
    {
     "name": "stderr",
     "output_type": "stream",
     "text": [
      "\n"
     ]
    },
    {
     "data": {
      "text/plain": [
       "PosixPath('/opt/data/data/phenomexcan/ld_blocks/mashr_gene_corrs/Lung/gene_corrs-Lung-chr13.pkl')"
      ]
     },
     "metadata": {},
     "output_type": "display_data"
    },
    {
     "name": "stdout",
     "output_type": "stream",
     "text": [
      "Tissue Muscle_Skeletal\n"
     ]
    },
    {
     "name": "stderr",
     "output_type": "stream",
     "text": [
      "100%|██████████████████████████████████████████████████████████| 6903/6903 [00:17<00:00, 384.53it/s]"
     ]
    },
    {
     "name": "stdout",
     "output_type": "stream",
     "text": [
      "Min/max values: -0.8853179115892327 / 0.796805194059722\n"
     ]
    },
    {
     "name": "stderr",
     "output_type": "stream",
     "text": [
      "\n"
     ]
    },
    {
     "data": {
      "text/plain": [
       "PosixPath('/opt/data/data/phenomexcan/ld_blocks/mashr_gene_corrs/Muscle_Skeletal/gene_corrs-Muscle_Skeletal-chr13.pkl')"
      ]
     },
     "metadata": {},
     "output_type": "display_data"
    },
    {
     "name": "stdout",
     "output_type": "stream",
     "text": [
      "Tissue Brain_Hypothalamus\n"
     ]
    },
    {
     "name": "stderr",
     "output_type": "stream",
     "text": [
      "100%|██████████████████████████████████████████████████████████| 6903/6903 [00:16<00:00, 406.51it/s]"
     ]
    },
    {
     "name": "stdout",
     "output_type": "stream",
     "text": [
      "Min/max values: -0.5469204918500096 / 0.920979762952603\n"
     ]
    },
    {
     "name": "stderr",
     "output_type": "stream",
     "text": [
      "\n"
     ]
    },
    {
     "data": {
      "text/plain": [
       "PosixPath('/opt/data/data/phenomexcan/ld_blocks/mashr_gene_corrs/Brain_Hypothalamus/gene_corrs-Brain_Hypothalamus-chr13.pkl')"
      ]
     },
     "metadata": {},
     "output_type": "display_data"
    },
    {
     "name": "stdout",
     "output_type": "stream",
     "text": [
      "Tissue Brain_Cortex\n"
     ]
    },
    {
     "name": "stderr",
     "output_type": "stream",
     "text": [
      "100%|██████████████████████████████████████████████████████████| 6903/6903 [00:19<00:00, 356.60it/s]"
     ]
    },
    {
     "name": "stdout",
     "output_type": "stream",
     "text": [
      "Min/max values: -0.8835141520983135 / 0.967278475799616\n"
     ]
    },
    {
     "name": "stderr",
     "output_type": "stream",
     "text": [
      "\n"
     ]
    },
    {
     "data": {
      "text/plain": [
       "PosixPath('/opt/data/data/phenomexcan/ld_blocks/mashr_gene_corrs/Brain_Cortex/gene_corrs-Brain_Cortex-chr13.pkl')"
      ]
     },
     "metadata": {},
     "output_type": "display_data"
    },
    {
     "name": "stdout",
     "output_type": "stream",
     "text": [
      "Tissue Brain_Amygdala\n"
     ]
    },
    {
     "name": "stderr",
     "output_type": "stream",
     "text": [
      "100%|██████████████████████████████████████████████████████████| 6903/6903 [00:13<00:00, 495.32it/s]"
     ]
    },
    {
     "name": "stdout",
     "output_type": "stream",
     "text": [
      "Min/max values: -0.7080605592515766 / 0.9672784757996161\n"
     ]
    },
    {
     "name": "stderr",
     "output_type": "stream",
     "text": [
      "\n"
     ]
    },
    {
     "data": {
      "text/plain": [
       "PosixPath('/opt/data/data/phenomexcan/ld_blocks/mashr_gene_corrs/Brain_Amygdala/gene_corrs-Brain_Amygdala-chr13.pkl')"
      ]
     },
     "metadata": {},
     "output_type": "display_data"
    },
    {
     "name": "stdout",
     "output_type": "stream",
     "text": [
      "Tissue Esophagus_Mucosa\n"
     ]
    },
    {
     "name": "stderr",
     "output_type": "stream",
     "text": [
      "100%|██████████████████████████████████████████████████████████| 6903/6903 [00:21<00:00, 314.97it/s]"
     ]
    },
    {
     "name": "stdout",
     "output_type": "stream",
     "text": [
      "Min/max values: -0.6141357685122412 / 0.8953508180801973\n"
     ]
    },
    {
     "name": "stderr",
     "output_type": "stream",
     "text": [
      "\n"
     ]
    },
    {
     "data": {
      "text/plain": [
       "PosixPath('/opt/data/data/phenomexcan/ld_blocks/mashr_gene_corrs/Esophagus_Mucosa/gene_corrs-Esophagus_Mucosa-chr13.pkl')"
      ]
     },
     "metadata": {},
     "output_type": "display_data"
    },
    {
     "name": "stdout",
     "output_type": "stream",
     "text": [
      "Tissue Adrenal_Gland\n"
     ]
    },
    {
     "name": "stderr",
     "output_type": "stream",
     "text": [
      "100%|██████████████████████████████████████████████████████████| 6903/6903 [00:17<00:00, 386.42it/s]"
     ]
    },
    {
     "name": "stdout",
     "output_type": "stream",
     "text": [
      "Min/max values: -0.7668650908012578 / 0.9672784757996161\n"
     ]
    },
    {
     "name": "stderr",
     "output_type": "stream",
     "text": [
      "\n"
     ]
    },
    {
     "data": {
      "text/plain": [
       "PosixPath('/opt/data/data/phenomexcan/ld_blocks/mashr_gene_corrs/Adrenal_Gland/gene_corrs-Adrenal_Gland-chr13.pkl')"
      ]
     },
     "metadata": {},
     "output_type": "display_data"
    },
    {
     "name": "stdout",
     "output_type": "stream",
     "text": [
      "Tissue Uterus\n"
     ]
    },
    {
     "name": "stderr",
     "output_type": "stream",
     "text": [
      "100%|██████████████████████████████████████████████████████████| 6903/6903 [00:14<00:00, 465.08it/s]"
     ]
    },
    {
     "name": "stdout",
     "output_type": "stream",
     "text": [
      "Min/max values: -0.789120271255375 / 0.9672784757996162\n"
     ]
    },
    {
     "name": "stderr",
     "output_type": "stream",
     "text": [
      "\n"
     ]
    },
    {
     "data": {
      "text/plain": [
       "PosixPath('/opt/data/data/phenomexcan/ld_blocks/mashr_gene_corrs/Uterus/gene_corrs-Uterus-chr13.pkl')"
      ]
     },
     "metadata": {},
     "output_type": "display_data"
    },
    {
     "name": "stdout",
     "output_type": "stream",
     "text": [
      "Tissue Prostate\n"
     ]
    },
    {
     "name": "stderr",
     "output_type": "stream",
     "text": [
      "100%|██████████████████████████████████████████████████████████| 6903/6903 [00:19<00:00, 345.87it/s]"
     ]
    },
    {
     "name": "stdout",
     "output_type": "stream",
     "text": [
      "Min/max values: -0.6962066073608387 / 0.9679981679221776\n"
     ]
    },
    {
     "name": "stderr",
     "output_type": "stream",
     "text": [
      "\n"
     ]
    },
    {
     "data": {
      "text/plain": [
       "PosixPath('/opt/data/data/phenomexcan/ld_blocks/mashr_gene_corrs/Prostate/gene_corrs-Prostate-chr13.pkl')"
      ]
     },
     "metadata": {},
     "output_type": "display_data"
    },
    {
     "name": "stdout",
     "output_type": "stream",
     "text": [
      "Tissue Whole_Blood\n"
     ]
    },
    {
     "name": "stderr",
     "output_type": "stream",
     "text": [
      "100%|██████████████████████████████████████████████████████████| 6903/6903 [00:23<00:00, 295.27it/s]"
     ]
    },
    {
     "name": "stdout",
     "output_type": "stream",
     "text": [
      "Min/max values: -0.9209797629526031 / 0.970249489921206\n"
     ]
    },
    {
     "name": "stderr",
     "output_type": "stream",
     "text": [
      "\n"
     ]
    },
    {
     "data": {
      "text/plain": [
       "PosixPath('/opt/data/data/phenomexcan/ld_blocks/mashr_gene_corrs/Whole_Blood/gene_corrs-Whole_Blood-chr13.pkl')"
      ]
     },
     "metadata": {},
     "output_type": "display_data"
    },
    {
     "name": "stdout",
     "output_type": "stream",
     "text": [
      "Tissue Pituitary\n"
     ]
    },
    {
     "name": "stderr",
     "output_type": "stream",
     "text": [
      "100%|██████████████████████████████████████████████████████████| 6903/6903 [00:18<00:00, 381.79it/s]"
     ]
    },
    {
     "name": "stdout",
     "output_type": "stream",
     "text": [
      "Min/max values: -0.8472531103444348 / 0.9672784757996161\n"
     ]
    },
    {
     "name": "stderr",
     "output_type": "stream",
     "text": [
      "\n"
     ]
    },
    {
     "data": {
      "text/plain": [
       "PosixPath('/opt/data/data/phenomexcan/ld_blocks/mashr_gene_corrs/Pituitary/gene_corrs-Pituitary-chr13.pkl')"
      ]
     },
     "metadata": {},
     "output_type": "display_data"
    },
    {
     "name": "stdout",
     "output_type": "stream",
     "text": [
      "Tissue Esophagus_Gastroesophageal_Junction\n"
     ]
    },
    {
     "name": "stderr",
     "output_type": "stream",
     "text": [
      "100%|██████████████████████████████████████████████████████████| 6903/6903 [00:18<00:00, 368.36it/s]"
     ]
    },
    {
     "name": "stdout",
     "output_type": "stream",
     "text": [
      "Min/max values: -0.5284421169315574 / 0.9127472981780902\n"
     ]
    },
    {
     "name": "stderr",
     "output_type": "stream",
     "text": [
      "\n"
     ]
    },
    {
     "data": {
      "text/plain": [
       "PosixPath('/opt/data/data/phenomexcan/ld_blocks/mashr_gene_corrs/Esophagus_Gastroesophageal_Junction/gene_corrs-Esophagus_Gastroesophageal_Junction-chr13.pkl')"
      ]
     },
     "metadata": {},
     "output_type": "display_data"
    },
    {
     "name": "stdout",
     "output_type": "stream",
     "text": [
      "Tissue Stomach\n"
     ]
    },
    {
     "name": "stderr",
     "output_type": "stream",
     "text": [
      "100%|██████████████████████████████████████████████████████████| 6903/6903 [00:18<00:00, 369.31it/s]"
     ]
    },
    {
     "name": "stdout",
     "output_type": "stream",
     "text": [
      "Min/max values: -0.8114195293509613 / 0.9672784757996161\n"
     ]
    },
    {
     "name": "stderr",
     "output_type": "stream",
     "text": [
      "\n"
     ]
    },
    {
     "data": {
      "text/plain": [
       "PosixPath('/opt/data/data/phenomexcan/ld_blocks/mashr_gene_corrs/Stomach/gene_corrs-Stomach-chr13.pkl')"
      ]
     },
     "metadata": {},
     "output_type": "display_data"
    },
    {
     "name": "stdout",
     "output_type": "stream",
     "text": [
      "Tissue Heart_Atrial_Appendage\n"
     ]
    },
    {
     "name": "stderr",
     "output_type": "stream",
     "text": [
      "100%|██████████████████████████████████████████████████████████| 6903/6903 [00:23<00:00, 295.93it/s]"
     ]
    },
    {
     "name": "stdout",
     "output_type": "stream",
     "text": [
      "Min/max values: -0.9380318425654179 / 0.8671173070741965\n"
     ]
    },
    {
     "name": "stderr",
     "output_type": "stream",
     "text": [
      "\n"
     ]
    },
    {
     "data": {
      "text/plain": [
       "PosixPath('/opt/data/data/phenomexcan/ld_blocks/mashr_gene_corrs/Heart_Atrial_Appendage/gene_corrs-Heart_Atrial_Appendage-chr13.pkl')"
      ]
     },
     "metadata": {},
     "output_type": "display_data"
    },
    {
     "name": "stdout",
     "output_type": "stream",
     "text": [
      "Tissue Brain_Cerebellum\n"
     ]
    },
    {
     "name": "stderr",
     "output_type": "stream",
     "text": [
      "100%|██████████████████████████████████████████████████████████| 6903/6903 [00:20<00:00, 336.10it/s]"
     ]
    },
    {
     "name": "stdout",
     "output_type": "stream",
     "text": [
      "Min/max values: -0.8733811049816431 / 0.9608232194154916\n"
     ]
    },
    {
     "name": "stderr",
     "output_type": "stream",
     "text": [
      "\n"
     ]
    },
    {
     "data": {
      "text/plain": [
       "PosixPath('/opt/data/data/phenomexcan/ld_blocks/mashr_gene_corrs/Brain_Cerebellum/gene_corrs-Brain_Cerebellum-chr13.pkl')"
      ]
     },
     "metadata": {},
     "output_type": "display_data"
    },
    {
     "name": "stdout",
     "output_type": "stream",
     "text": [
      "Tissue Breast_Mammary_Tissue\n"
     ]
    },
    {
     "name": "stderr",
     "output_type": "stream",
     "text": [
      "100%|██████████████████████████████████████████████████████████| 6903/6903 [00:18<00:00, 372.67it/s]"
     ]
    },
    {
     "name": "stdout",
     "output_type": "stream",
     "text": [
      "Min/max values: -0.7922960236567156 / 0.8734472760801326\n"
     ]
    },
    {
     "name": "stderr",
     "output_type": "stream",
     "text": [
      "\n"
     ]
    },
    {
     "data": {
      "text/plain": [
       "PosixPath('/opt/data/data/phenomexcan/ld_blocks/mashr_gene_corrs/Breast_Mammary_Tissue/gene_corrs-Breast_Mammary_Tissue-chr13.pkl')"
      ]
     },
     "metadata": {},
     "output_type": "display_data"
    },
    {
     "name": "stdout",
     "output_type": "stream",
     "text": [
      "Tissue Artery_Tibial\n"
     ]
    },
    {
     "name": "stderr",
     "output_type": "stream",
     "text": [
      "100%|██████████████████████████████████████████████████████████| 6903/6903 [00:21<00:00, 321.68it/s]"
     ]
    },
    {
     "name": "stdout",
     "output_type": "stream",
     "text": [
      "Min/max values: -0.7335199780514674 / 0.8823751976536797\n"
     ]
    },
    {
     "name": "stderr",
     "output_type": "stream",
     "text": [
      "\n"
     ]
    },
    {
     "data": {
      "text/plain": [
       "PosixPath('/opt/data/data/phenomexcan/ld_blocks/mashr_gene_corrs/Artery_Tibial/gene_corrs-Artery_Tibial-chr13.pkl')"
      ]
     },
     "metadata": {},
     "output_type": "display_data"
    },
    {
     "name": "stdout",
     "output_type": "stream",
     "text": [
      "Tissue Artery_Aorta\n"
     ]
    },
    {
     "name": "stderr",
     "output_type": "stream",
     "text": [
      "100%|██████████████████████████████████████████████████████████| 6903/6903 [00:21<00:00, 315.39it/s]"
     ]
    },
    {
     "name": "stdout",
     "output_type": "stream",
     "text": [
      "Min/max values: -0.7491182642636898 / 0.930158014918355\n"
     ]
    },
    {
     "name": "stderr",
     "output_type": "stream",
     "text": [
      "\n"
     ]
    },
    {
     "data": {
      "text/plain": [
       "PosixPath('/opt/data/data/phenomexcan/ld_blocks/mashr_gene_corrs/Artery_Aorta/gene_corrs-Artery_Aorta-chr13.pkl')"
      ]
     },
     "metadata": {},
     "output_type": "display_data"
    },
    {
     "name": "stdout",
     "output_type": "stream",
     "text": [
      "Tissue Small_Intestine_Terminal_Ileum\n"
     ]
    },
    {
     "name": "stderr",
     "output_type": "stream",
     "text": [
      "100%|██████████████████████████████████████████████████████████| 6903/6903 [00:16<00:00, 413.66it/s]"
     ]
    },
    {
     "name": "stdout",
     "output_type": "stream",
     "text": [
      "Min/max values: -0.8802228810738864 / 1.0\n"
     ]
    },
    {
     "name": "stderr",
     "output_type": "stream",
     "text": [
      "\n"
     ]
    },
    {
     "data": {
      "text/plain": [
       "PosixPath('/opt/data/data/phenomexcan/ld_blocks/mashr_gene_corrs/Small_Intestine_Terminal_Ileum/gene_corrs-Small_Intestine_Terminal_Ileum-chr13.pkl')"
      ]
     },
     "metadata": {},
     "output_type": "display_data"
    },
    {
     "name": "stdout",
     "output_type": "stream",
     "text": [
      "Tissue Brain_Hippocampus\n"
     ]
    },
    {
     "name": "stderr",
     "output_type": "stream",
     "text": [
      "100%|██████████████████████████████████████████████████████████| 6903/6903 [00:18<00:00, 382.21it/s]"
     ]
    },
    {
     "name": "stdout",
     "output_type": "stream",
     "text": [
      "Min/max values: -0.7844644637851893 / 0.967278475799616\n"
     ]
    },
    {
     "name": "stderr",
     "output_type": "stream",
     "text": [
      "\n"
     ]
    },
    {
     "data": {
      "text/plain": [
       "PosixPath('/opt/data/data/phenomexcan/ld_blocks/mashr_gene_corrs/Brain_Hippocampus/gene_corrs-Brain_Hippocampus-chr13.pkl')"
      ]
     },
     "metadata": {},
     "output_type": "display_data"
    },
    {
     "name": "stdout",
     "output_type": "stream",
     "text": [
      "Tissue Testis\n"
     ]
    },
    {
     "name": "stderr",
     "output_type": "stream",
     "text": [
      "100%|██████████████████████████████████████████████████████████| 6903/6903 [00:22<00:00, 304.99it/s]"
     ]
    },
    {
     "name": "stdout",
     "output_type": "stream",
     "text": [
      "Min/max values: -0.8208372012729275 / 0.967278475799616\n"
     ]
    },
    {
     "name": "stderr",
     "output_type": "stream",
     "text": [
      "\n"
     ]
    },
    {
     "data": {
      "text/plain": [
       "PosixPath('/opt/data/data/phenomexcan/ld_blocks/mashr_gene_corrs/Testis/gene_corrs-Testis-chr13.pkl')"
      ]
     },
     "metadata": {},
     "output_type": "display_data"
    },
    {
     "name": "stdout",
     "output_type": "stream",
     "text": [
      "Tissue Brain_Putamen_basal_ganglia\n"
     ]
    },
    {
     "name": "stderr",
     "output_type": "stream",
     "text": [
      "100%|██████████████████████████████████████████████████████████| 6903/6903 [00:19<00:00, 347.94it/s]"
     ]
    },
    {
     "name": "stdout",
     "output_type": "stream",
     "text": [
      "Min/max values: -0.9840206895018674 / 0.9672784757996161\n"
     ]
    },
    {
     "name": "stderr",
     "output_type": "stream",
     "text": [
      "\n"
     ]
    },
    {
     "data": {
      "text/plain": [
       "PosixPath('/opt/data/data/phenomexcan/ld_blocks/mashr_gene_corrs/Brain_Putamen_basal_ganglia/gene_corrs-Brain_Putamen_basal_ganglia-chr13.pkl')"
      ]
     },
     "metadata": {},
     "output_type": "display_data"
    },
    {
     "name": "stdout",
     "output_type": "stream",
     "text": [
      "Tissue Pancreas\n"
     ]
    },
    {
     "name": "stderr",
     "output_type": "stream",
     "text": [
      "100%|██████████████████████████████████████████████████████████| 6903/6903 [00:22<00:00, 313.06it/s]"
     ]
    },
    {
     "name": "stdout",
     "output_type": "stream",
     "text": [
      "Min/max values: -0.9209797629526031 / 0.8539440449198565\n"
     ]
    },
    {
     "name": "stderr",
     "output_type": "stream",
     "text": [
      "\n"
     ]
    },
    {
     "data": {
      "text/plain": [
       "PosixPath('/opt/data/data/phenomexcan/ld_blocks/mashr_gene_corrs/Pancreas/gene_corrs-Pancreas-chr13.pkl')"
      ]
     },
     "metadata": {},
     "output_type": "display_data"
    },
    {
     "name": "stdout",
     "output_type": "stream",
     "text": [
      "Tissue Adipose_Subcutaneous\n"
     ]
    },
    {
     "name": "stderr",
     "output_type": "stream",
     "text": [
      "100%|██████████████████████████████████████████████████████████| 6903/6903 [00:22<00:00, 310.38it/s]"
     ]
    },
    {
     "name": "stdout",
     "output_type": "stream",
     "text": [
      "Min/max values: -0.8489197465539405 / 0.9794180360797229\n"
     ]
    },
    {
     "name": "stderr",
     "output_type": "stream",
     "text": [
      "\n"
     ]
    },
    {
     "data": {
      "text/plain": [
       "PosixPath('/opt/data/data/phenomexcan/ld_blocks/mashr_gene_corrs/Adipose_Subcutaneous/gene_corrs-Adipose_Subcutaneous-chr13.pkl')"
      ]
     },
     "metadata": {},
     "output_type": "display_data"
    },
    {
     "name": "stdout",
     "output_type": "stream",
     "text": [
      "Tissue Brain_Cerebellar_Hemisphere\n"
     ]
    },
    {
     "name": "stderr",
     "output_type": "stream",
     "text": [
      "100%|██████████████████████████████████████████████████████████| 6903/6903 [00:16<00:00, 408.94it/s]"
     ]
    },
    {
     "name": "stdout",
     "output_type": "stream",
     "text": [
      "Min/max values: -0.9840206895018675 / 0.9794160438745986\n"
     ]
    },
    {
     "name": "stderr",
     "output_type": "stream",
     "text": [
      "\n"
     ]
    },
    {
     "data": {
      "text/plain": [
       "PosixPath('/opt/data/data/phenomexcan/ld_blocks/mashr_gene_corrs/Brain_Cerebellar_Hemisphere/gene_corrs-Brain_Cerebellar_Hemisphere-chr13.pkl')"
      ]
     },
     "metadata": {},
     "output_type": "display_data"
    },
    {
     "name": "stdout",
     "output_type": "stream",
     "text": [
      "Tissue Colon_Sigmoid\n"
     ]
    },
    {
     "name": "stderr",
     "output_type": "stream",
     "text": [
      "100%|██████████████████████████████████████████████████████████| 6903/6903 [00:19<00:00, 357.17it/s]"
     ]
    },
    {
     "name": "stdout",
     "output_type": "stream",
     "text": [
      "Min/max values: -0.789120271255375 / 0.825305545002952\n"
     ]
    },
    {
     "name": "stderr",
     "output_type": "stream",
     "text": [
      "\n"
     ]
    },
    {
     "data": {
      "text/plain": [
       "PosixPath('/opt/data/data/phenomexcan/ld_blocks/mashr_gene_corrs/Colon_Sigmoid/gene_corrs-Colon_Sigmoid-chr13.pkl')"
      ]
     },
     "metadata": {},
     "output_type": "display_data"
    },
    {
     "name": "stdout",
     "output_type": "stream",
     "text": [
      "Tissue Minor_Salivary_Gland\n"
     ]
    },
    {
     "name": "stderr",
     "output_type": "stream",
     "text": [
      "100%|██████████████████████████████████████████████████████████| 6903/6903 [00:17<00:00, 386.44it/s]"
     ]
    },
    {
     "name": "stdout",
     "output_type": "stream",
     "text": [
      "Min/max values: -0.9840206895018674 / 0.8314503547891188\n"
     ]
    },
    {
     "name": "stderr",
     "output_type": "stream",
     "text": [
      "\n"
     ]
    },
    {
     "data": {
      "text/plain": [
       "PosixPath('/opt/data/data/phenomexcan/ld_blocks/mashr_gene_corrs/Minor_Salivary_Gland/gene_corrs-Minor_Salivary_Gland-chr13.pkl')"
      ]
     },
     "metadata": {},
     "output_type": "display_data"
    },
    {
     "name": "stdout",
     "output_type": "stream",
     "text": [
      "Tissue Cells_Cultured_fibroblasts\n"
     ]
    },
    {
     "name": "stderr",
     "output_type": "stream",
     "text": [
      "100%|██████████████████████████████████████████████████████████| 6903/6903 [00:23<00:00, 291.75it/s]"
     ]
    },
    {
     "name": "stdout",
     "output_type": "stream",
     "text": [
      "Min/max values: -0.860906125800203 / 0.9672784757996161\n"
     ]
    },
    {
     "name": "stderr",
     "output_type": "stream",
     "text": [
      "\n"
     ]
    },
    {
     "data": {
      "text/plain": [
       "PosixPath('/opt/data/data/phenomexcan/ld_blocks/mashr_gene_corrs/Cells_Cultured_fibroblasts/gene_corrs-Cells_Cultured_fibroblasts-chr13.pkl')"
      ]
     },
     "metadata": {},
     "output_type": "display_data"
    },
    {
     "name": "stdout",
     "output_type": "stream",
     "text": [
      "Tissue Brain_Nucleus_accumbens_basal_ganglia\n"
     ]
    },
    {
     "name": "stderr",
     "output_type": "stream",
     "text": [
      "100%|██████████████████████████████████████████████████████████| 6903/6903 [00:19<00:00, 361.64it/s]"
     ]
    },
    {
     "name": "stdout",
     "output_type": "stream",
     "text": [
      "Min/max values: -0.9840206895018674 / 0.9209797629526031\n"
     ]
    },
    {
     "name": "stderr",
     "output_type": "stream",
     "text": [
      "\n"
     ]
    },
    {
     "data": {
      "text/plain": [
       "PosixPath('/opt/data/data/phenomexcan/ld_blocks/mashr_gene_corrs/Brain_Nucleus_accumbens_basal_ganglia/gene_corrs-Brain_Nucleus_accumbens_basal_ganglia-chr13.pkl')"
      ]
     },
     "metadata": {},
     "output_type": "display_data"
    },
    {
     "name": "stdout",
     "output_type": "stream",
     "text": [
      "Tissue Brain_Anterior_cingulate_cortex_BA24\n"
     ]
    },
    {
     "name": "stderr",
     "output_type": "stream",
     "text": [
      "100%|██████████████████████████████████████████████████████████| 6903/6903 [00:16<00:00, 414.22it/s]"
     ]
    },
    {
     "name": "stdout",
     "output_type": "stream",
     "text": [
      "Min/max values: -0.735336626677243 / 0.9672784757996161\n"
     ]
    },
    {
     "name": "stderr",
     "output_type": "stream",
     "text": [
      "\n"
     ]
    },
    {
     "data": {
      "text/plain": [
       "PosixPath('/opt/data/data/phenomexcan/ld_blocks/mashr_gene_corrs/Brain_Anterior_cingulate_cortex_BA24/gene_corrs-Brain_Anterior_cingulate_cortex_BA24-chr13.pkl')"
      ]
     },
     "metadata": {},
     "output_type": "display_data"
    },
    {
     "name": "stdout",
     "output_type": "stream",
     "text": [
      "Tissue Vagina\n"
     ]
    },
    {
     "name": "stderr",
     "output_type": "stream",
     "text": [
      "100%|██████████████████████████████████████████████████████████| 6903/6903 [00:16<00:00, 419.03it/s]"
     ]
    },
    {
     "name": "stdout",
     "output_type": "stream",
     "text": [
      "Min/max values: -0.994607449386892 / 0.967278475799616\n"
     ]
    },
    {
     "name": "stderr",
     "output_type": "stream",
     "text": [
      "\n"
     ]
    },
    {
     "data": {
      "text/plain": [
       "PosixPath('/opt/data/data/phenomexcan/ld_blocks/mashr_gene_corrs/Vagina/gene_corrs-Vagina-chr13.pkl')"
      ]
     },
     "metadata": {},
     "output_type": "display_data"
    },
    {
     "name": "stdout",
     "output_type": "stream",
     "text": [
      "Tissue Ovary\n"
     ]
    },
    {
     "name": "stderr",
     "output_type": "stream",
     "text": [
      "100%|██████████████████████████████████████████████████████████| 6903/6903 [00:17<00:00, 397.32it/s]"
     ]
    },
    {
     "name": "stdout",
     "output_type": "stream",
     "text": [
      "Min/max values: -0.9153879964680839 / 0.967278475799616\n"
     ]
    },
    {
     "name": "stderr",
     "output_type": "stream",
     "text": [
      "\n"
     ]
    },
    {
     "data": {
      "text/plain": [
       "PosixPath('/opt/data/data/phenomexcan/ld_blocks/mashr_gene_corrs/Ovary/gene_corrs-Ovary-chr13.pkl')"
      ]
     },
     "metadata": {},
     "output_type": "display_data"
    },
    {
     "name": "stdout",
     "output_type": "stream",
     "text": [
      "Tissue Skin_Sun_Exposed_Lower_leg\n"
     ]
    },
    {
     "name": "stderr",
     "output_type": "stream",
     "text": [
      "100%|██████████████████████████████████████████████████████████| 6903/6903 [00:21<00:00, 314.10it/s]"
     ]
    },
    {
     "name": "stdout",
     "output_type": "stream",
     "text": [
      "Min/max values: -0.8347578103393862 / 0.8042383871844078\n"
     ]
    },
    {
     "name": "stderr",
     "output_type": "stream",
     "text": [
      "\n"
     ]
    },
    {
     "data": {
      "text/plain": [
       "PosixPath('/opt/data/data/phenomexcan/ld_blocks/mashr_gene_corrs/Skin_Sun_Exposed_Lower_leg/gene_corrs-Skin_Sun_Exposed_Lower_leg-chr13.pkl')"
      ]
     },
     "metadata": {},
     "output_type": "display_data"
    },
    {
     "name": "stdout",
     "output_type": "stream",
     "text": [
      "Tissue Esophagus_Muscularis\n"
     ]
    },
    {
     "name": "stderr",
     "output_type": "stream",
     "text": [
      "100%|██████████████████████████████████████████████████████████| 6903/6903 [00:20<00:00, 340.47it/s]"
     ]
    },
    {
     "name": "stdout",
     "output_type": "stream",
     "text": [
      "Min/max values: -0.9779977597478862 / 0.7792305565315167\n"
     ]
    },
    {
     "name": "stderr",
     "output_type": "stream",
     "text": [
      "\n"
     ]
    },
    {
     "data": {
      "text/plain": [
       "PosixPath('/opt/data/data/phenomexcan/ld_blocks/mashr_gene_corrs/Esophagus_Muscularis/gene_corrs-Esophagus_Muscularis-chr13.pkl')"
      ]
     },
     "metadata": {},
     "output_type": "display_data"
    },
    {
     "name": "stdout",
     "output_type": "stream",
     "text": [
      "Tissue Brain_Spinal_cord_cervical_c-1\n"
     ]
    },
    {
     "name": "stderr",
     "output_type": "stream",
     "text": [
      "100%|██████████████████████████████████████████████████████████| 6903/6903 [00:15<00:00, 442.98it/s]"
     ]
    },
    {
     "name": "stdout",
     "output_type": "stream",
     "text": [
      "Min/max values: -0.5785033132350301 / 0.9672784757996161\n"
     ]
    },
    {
     "name": "stderr",
     "output_type": "stream",
     "text": [
      "\n"
     ]
    },
    {
     "data": {
      "text/plain": [
       "PosixPath('/opt/data/data/phenomexcan/ld_blocks/mashr_gene_corrs/Brain_Spinal_cord_cervical_c-1/gene_corrs-Brain_Spinal_cord_cervical_c-1-chr13.pkl')"
      ]
     },
     "metadata": {},
     "output_type": "display_data"
    },
    {
     "name": "stdout",
     "output_type": "stream",
     "text": [
      "Tissue Artery_Coronary\n"
     ]
    },
    {
     "name": "stderr",
     "output_type": "stream",
     "text": [
      "100%|██████████████████████████████████████████████████████████| 6903/6903 [00:19<00:00, 348.78it/s]"
     ]
    },
    {
     "name": "stdout",
     "output_type": "stream",
     "text": [
      "Min/max values: -0.5521240380492597 / 0.99163064774267\n"
     ]
    },
    {
     "name": "stderr",
     "output_type": "stream",
     "text": [
      "\n"
     ]
    },
    {
     "data": {
      "text/plain": [
       "PosixPath('/opt/data/data/phenomexcan/ld_blocks/mashr_gene_corrs/Artery_Coronary/gene_corrs-Artery_Coronary-chr13.pkl')"
      ]
     },
     "metadata": {},
     "output_type": "display_data"
    },
    {
     "name": "stdout",
     "output_type": "stream",
     "text": [
      "Tissue Thyroid\n"
     ]
    },
    {
     "name": "stderr",
     "output_type": "stream",
     "text": [
      "100%|██████████████████████████████████████████████████████████| 6903/6903 [00:23<00:00, 289.95it/s]"
     ]
    },
    {
     "name": "stdout",
     "output_type": "stream",
     "text": [
      "Min/max values: -0.7417797451516353 / 0.7098378862361661\n"
     ]
    },
    {
     "name": "stderr",
     "output_type": "stream",
     "text": [
      "\n"
     ]
    },
    {
     "data": {
      "text/plain": [
       "PosixPath('/opt/data/data/phenomexcan/ld_blocks/mashr_gene_corrs/Thyroid/gene_corrs-Thyroid-chr13.pkl')"
      ]
     },
     "metadata": {},
     "output_type": "display_data"
    },
    {
     "name": "stdout",
     "output_type": "stream",
     "text": [
      "Tissue Brain_Caudate_basal_ganglia\n"
     ]
    },
    {
     "name": "stderr",
     "output_type": "stream",
     "text": [
      "100%|██████████████████████████████████████████████████████████| 6903/6903 [00:18<00:00, 365.83it/s]"
     ]
    },
    {
     "name": "stdout",
     "output_type": "stream",
     "text": [
      "Min/max values: -0.7370559376539217 / 0.9706813514511949\n"
     ]
    },
    {
     "name": "stderr",
     "output_type": "stream",
     "text": [
      "\n"
     ]
    },
    {
     "data": {
      "text/plain": [
       "PosixPath('/opt/data/data/phenomexcan/ld_blocks/mashr_gene_corrs/Brain_Caudate_basal_ganglia/gene_corrs-Brain_Caudate_basal_ganglia-chr13.pkl')"
      ]
     },
     "metadata": {},
     "output_type": "display_data"
    },
    {
     "name": "stdout",
     "output_type": "stream",
     "text": [
      "Tissue Adipose_Visceral_Omentum\n"
     ]
    },
    {
     "name": "stderr",
     "output_type": "stream",
     "text": [
      "100%|██████████████████████████████████████████████████████████| 6903/6903 [00:22<00:00, 304.62it/s]"
     ]
    },
    {
     "name": "stdout",
     "output_type": "stream",
     "text": [
      "Min/max values: -0.7082896210581894 / 0.8098588364104832\n"
     ]
    },
    {
     "name": "stderr",
     "output_type": "stream",
     "text": [
      "\n"
     ]
    },
    {
     "data": {
      "text/plain": [
       "PosixPath('/opt/data/data/phenomexcan/ld_blocks/mashr_gene_corrs/Adipose_Visceral_Omentum/gene_corrs-Adipose_Visceral_Omentum-chr13.pkl')"
      ]
     },
     "metadata": {},
     "output_type": "display_data"
    },
    {
     "name": "stdout",
     "output_type": "stream",
     "text": [
      "Tissue Nerve_Tibial\n"
     ]
    },
    {
     "name": "stderr",
     "output_type": "stream",
     "text": [
      "100%|██████████████████████████████████████████████████████████| 6903/6903 [00:24<00:00, 285.41it/s]"
     ]
    },
    {
     "name": "stdout",
     "output_type": "stream",
     "text": [
      "Min/max values: -0.8726982220191579 / 0.960830254342727\n"
     ]
    },
    {
     "name": "stderr",
     "output_type": "stream",
     "text": [
      "\n"
     ]
    },
    {
     "data": {
      "text/plain": [
       "PosixPath('/opt/data/data/phenomexcan/ld_blocks/mashr_gene_corrs/Nerve_Tibial/gene_corrs-Nerve_Tibial-chr13.pkl')"
      ]
     },
     "metadata": {},
     "output_type": "display_data"
    },
    {
     "name": "stdout",
     "output_type": "stream",
     "text": [
      "Tissue Liver\n"
     ]
    },
    {
     "name": "stderr",
     "output_type": "stream",
     "text": [
      "100%|██████████████████████████████████████████████████████████| 6903/6903 [00:15<00:00, 434.58it/s]"
     ]
    },
    {
     "name": "stdout",
     "output_type": "stream",
     "text": [
      "Min/max values: -0.6680084505898922 / 0.9672784757996161\n"
     ]
    },
    {
     "name": "stderr",
     "output_type": "stream",
     "text": [
      "\n"
     ]
    },
    {
     "data": {
      "text/plain": [
       "PosixPath('/opt/data/data/phenomexcan/ld_blocks/mashr_gene_corrs/Liver/gene_corrs-Liver-chr13.pkl')"
      ]
     },
     "metadata": {},
     "output_type": "display_data"
    }
   ],
   "source": [
    "all_chrs = genes_info[\"chr\"].dropna().unique()\n",
    "assert all_chrs.shape[0] == 22\n",
    "\n",
    "if chromosome != \"all\":\n",
    "    chromosome = str(chromosome)\n",
    "    assert chromosome in all_chrs\n",
    "\n",
    "    # run only on the chromosome specified\n",
    "    all_chrs = [chromosome]\n",
    "\n",
    "# # For testing purposes\n",
    "# all_chrs = [\"13\"]\n",
    "# tissues = [\"Whole_Blood\"]\n",
    "# genes_info = genes_info[genes_info[\"id\"].isin([\"ENSG00000134871\", \"ENSG00000187498\", \"ENSG00000183087\", \"ENSG00000073910\"])]\n",
    "\n",
    "for chr_num in all_chrs:\n",
    "    print(f\"Chromosome {chr_num}\", flush=True)\n",
    "\n",
    "    genes_chr = genes_info[genes_info[\"chr\"] == chr_num]\n",
    "    print(f\"Genes in chromosome{genes_chr.shape}\", flush=True)\n",
    "\n",
    "    gene_chr_objs = [Gene(ensembl_id=gene_id) for gene_id in genes_chr[\"id\"]]\n",
    "    gene_chr_ids = [g.ensembl_id for g in gene_chr_objs]\n",
    "\n",
    "    n = len(gene_chr_objs)\n",
    "    n_comb = int(n * (n - 1) / 2.0)\n",
    "    print(f\"Number of gene combinations: {n_comb}\", flush=True)\n",
    "\n",
    "    for tissue in tissues:\n",
    "        print(f\"Tissue {tissue}\", flush=True)\n",
    "\n",
    "        # check if results exist\n",
    "        output_dir = (\n",
    "            conf.PHENOMEXCAN[\"LD_BLOCKS\"][\"BASE_DIR\"]\n",
    "            / f\"{EQTL_MODEL_FILES_PREFIX}gene_corrs\"\n",
    "            / tissue\n",
    "        )\n",
    "        output_file = output_dir / f\"gene_corrs-{tissue}-chr{chr_num}.pkl\"\n",
    "\n",
    "        if output_file.exists():\n",
    "            _tmp_data = pd.read_pickle(output_file)\n",
    "\n",
    "            if _tmp_data.shape[0] > 0:\n",
    "                print(\"Already run, stopping.\")\n",
    "                continue\n",
    "\n",
    "        gene_corrs = []\n",
    "\n",
    "        pbar = tqdm(ncols=100, total=n_comb)\n",
    "        i = 0\n",
    "        for gene_idx1 in range(0, len(gene_chr_objs) - 1):\n",
    "            gene_obj1 = gene_chr_objs[gene_idx1]\n",
    "\n",
    "            for gene_idx2 in range(gene_idx1 + 1, len(gene_chr_objs)):\n",
    "                gene_obj2 = gene_chr_objs[gene_idx2]\n",
    "\n",
    "                gene_corrs.append(\n",
    "                    gene_obj1.get_expression_correlation(\n",
    "                        gene_obj2, tissue, model_type=EQTL_MODEL\n",
    "                    )\n",
    "                )\n",
    "\n",
    "                pbar.update(1)\n",
    "\n",
    "        pbar.close()\n",
    "\n",
    "        # testing\n",
    "        gene_corrs_flat = pd.Series(gene_corrs)\n",
    "        print(f\"Min/max values: {gene_corrs_flat.min()} / {gene_corrs_flat.max()}\")\n",
    "        assert gene_corrs_flat.min() >= -1.001\n",
    "        assert gene_corrs_flat.max() <= 1.001\n",
    "\n",
    "        # save\n",
    "        # FIXME: consider saving only the condenced matrix here. See here for\n",
    "        # more details: https://github.com/greenelab/phenoplier/pull/38#discussion_r634600813\n",
    "        gene_corrs_data = squareform(np.array(gene_corrs, dtype=np.float32))\n",
    "        np.fill_diagonal(gene_corrs_data, 1.0)\n",
    "\n",
    "        gene_corrs_df = pd.DataFrame(\n",
    "            data=gene_corrs_data,\n",
    "            index=gene_chr_ids,\n",
    "            columns=gene_chr_ids,\n",
    "        )\n",
    "\n",
    "        output_dir.mkdir(exist_ok=True, parents=True)\n",
    "        display(output_file)\n",
    "\n",
    "        gene_corrs_df.to_pickle(output_file)"
   ]
  },
  {
   "cell_type": "markdown",
   "id": "eab5a00b",
   "metadata": {
    "papermill": {
     "duration": 1.944549,
     "end_time": "2022-03-01T15:10:53.003698",
     "exception": false,
     "start_time": "2022-03-01T15:10:51.059149",
     "status": "completed"
    },
    "tags": []
   },
   "source": [
    "# Testing"
   ]
  },
  {
   "cell_type": "code",
   "execution_count": 25,
   "id": "7803c342",
   "metadata": {
    "execution": {
     "iopub.execute_input": "2022-03-01T15:10:56.806187Z",
     "iopub.status.busy": "2022-03-01T15:10:56.805942Z",
     "iopub.status.idle": "2022-03-01T15:10:56.820031Z",
     "shell.execute_reply": "2022-03-01T15:10:56.819482Z"
    },
    "papermill": {
     "duration": 1.905037,
     "end_time": "2022-03-01T15:10:56.821599",
     "exception": false,
     "start_time": "2022-03-01T15:10:54.916562",
     "status": "completed"
    },
    "tags": []
   },
   "outputs": [],
   "source": [
    "# data = pd.read_pickle(\n",
    "#     conf.PHENOMEXCAN[\"LD_BLOCKS\"][\"BASE_DIR\"] / \"gene_corrs\" / \"Whole_Blood\" / \"gene_corrs-Whole_Blood-chr13.pkl\"\n",
    "# )"
   ]
  },
  {
   "cell_type": "code",
   "execution_count": 26,
   "id": "d8e42e9e",
   "metadata": {
    "execution": {
     "iopub.execute_input": "2022-03-01T15:11:00.654592Z",
     "iopub.status.busy": "2022-03-01T15:11:00.654406Z",
     "iopub.status.idle": "2022-03-01T15:11:00.669986Z",
     "shell.execute_reply": "2022-03-01T15:11:00.669516Z"
    },
    "papermill": {
     "duration": 1.920601,
     "end_time": "2022-03-01T15:11:00.671696",
     "exception": false,
     "start_time": "2022-03-01T15:10:58.751095",
     "status": "completed"
    },
    "tags": []
   },
   "outputs": [],
   "source": [
    "# assert data.loc[\"ENSG00000134871\", \"ENSG00000187498\"] > 0.97"
   ]
  },
  {
   "cell_type": "code",
   "execution_count": null,
   "id": "43918bdb",
   "metadata": {
    "papermill": {
     "duration": 1.939749,
     "end_time": "2022-03-01T15:11:04.549029",
     "exception": false,
     "start_time": "2022-03-01T15:11:02.609280",
     "status": "completed"
    },
    "tags": []
   },
   "outputs": [],
   "source": []
  }
 ],
 "metadata": {
  "jupytext": {
   "cell_metadata_filter": "all,-execution,-papermill,-trusted",
   "formats": "ipynb,py//py:percent"
  },
  "kernelspec": {
   "display_name": "Python 3 (ipykernel)",
   "language": "python",
   "name": "python3"
  },
  "language_info": {
   "codemirror_mode": {
    "name": "ipython",
    "version": 3
   },
   "file_extension": ".py",
   "mimetype": "text/x-python",
   "name": "python",
   "nbconvert_exporter": "python",
   "pygments_lexer": "ipython3",
   "version": "3.8.12"
  },
  "papermill": {
   "default_parameters": {},
   "duration": 977.205253,
   "end_time": "2022-03-01T15:11:06.848464",
   "environment_variables": {},
   "exception": null,
   "input_path": "nbs/15_gsa_gls/10-gene_expr_correlations.ipynb",
   "output_path": "nbs/15_gsa_gls/mashr_gene_corrs/10-gene_expr_correlations-chr13.run.ipynb",
   "parameters": {
    "EQTL_MODEL": "MASHR",
    "chromosome": 13
   },
   "start_time": "2022-03-01T14:54:49.643211",
   "version": "2.2.2"
  }
 },
 "nbformat": 4,
 "nbformat_minor": 5
}
