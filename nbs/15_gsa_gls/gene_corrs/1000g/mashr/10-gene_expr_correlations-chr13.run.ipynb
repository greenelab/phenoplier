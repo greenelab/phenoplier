{
 "cells": [
  {
   "cell_type": "markdown",
   "id": "7a6632fb",
   "metadata": {
    "papermill": {
     "duration": 0.006047,
     "end_time": "2022-07-11T07:16:42.019492",
     "exception": false,
     "start_time": "2022-07-11T07:16:42.013445",
     "status": "completed"
    },
    "tags": []
   },
   "source": [
    "# Description"
   ]
  },
  {
   "cell_type": "markdown",
   "id": "7097c346",
   "metadata": {
    "papermill": {
     "duration": 0.005105,
     "end_time": "2022-07-11T07:16:42.029915",
     "exception": false,
     "start_time": "2022-07-11T07:16:42.024810",
     "status": "completed"
    },
    "tags": []
   },
   "source": [
    "(Please, take a look at the README.md file in this directory for instructions on how to run this notebook)\n",
    "\n",
    "This notebook computes predicted expression correlations between all genes in the MultiPLIER models.\n",
    "\n",
    "It also has a parameter set for papermill to run on a single chromosome to run in parallel (see under `Settings` below).\n",
    "\n",
    "This notebook is not directly run. See README.md."
   ]
  },
  {
   "cell_type": "markdown",
   "id": "c61d8427",
   "metadata": {
    "papermill": {
     "duration": 0.005271,
     "end_time": "2022-07-11T07:16:42.040478",
     "exception": false,
     "start_time": "2022-07-11T07:16:42.035207",
     "status": "completed"
    },
    "tags": []
   },
   "source": [
    "# Modules"
   ]
  },
  {
   "cell_type": "code",
   "execution_count": 1,
   "id": "bbc0234f",
   "metadata": {
    "execution": {
     "iopub.execute_input": "2022-07-11T07:16:42.052588Z",
     "iopub.status.busy": "2022-07-11T07:16:42.051804Z",
     "iopub.status.idle": "2022-07-11T07:16:42.066389Z",
     "shell.execute_reply": "2022-07-11T07:16:42.065864Z"
    },
    "papermill": {
     "duration": 0.022118,
     "end_time": "2022-07-11T07:16:42.067829",
     "exception": false,
     "start_time": "2022-07-11T07:16:42.045711",
     "status": "completed"
    },
    "tags": []
   },
   "outputs": [],
   "source": [
    "%load_ext autoreload\n",
    "%autoreload 2"
   ]
  },
  {
   "cell_type": "code",
   "execution_count": 2,
   "id": "1d5f5a59",
   "metadata": {
    "execution": {
     "iopub.execute_input": "2022-07-11T07:16:42.080441Z",
     "iopub.status.busy": "2022-07-11T07:16:42.079889Z",
     "iopub.status.idle": "2022-07-11T07:16:42.979478Z",
     "shell.execute_reply": "2022-07-11T07:16:42.978918Z"
    },
    "papermill": {
     "duration": 0.907787,
     "end_time": "2022-07-11T07:16:42.981172",
     "exception": false,
     "start_time": "2022-07-11T07:16:42.073385",
     "status": "completed"
    },
    "tags": []
   },
   "outputs": [],
   "source": [
    "from random import sample, seed\n",
    "import warnings\n",
    "from pathlib import Path\n",
    "\n",
    "import numpy as np\n",
    "from scipy.spatial.distance import squareform\n",
    "import pandas as pd\n",
    "from tqdm import tqdm\n",
    "import matplotlib.pyplot as plt\n",
    "import seaborn as sns\n",
    "\n",
    "import conf\n",
    "from entity import Gene"
   ]
  },
  {
   "cell_type": "markdown",
   "id": "1eac24b5",
   "metadata": {
    "papermill": {
     "duration": 0.011916,
     "end_time": "2022-07-11T07:16:43.027892",
     "exception": false,
     "start_time": "2022-07-11T07:16:43.015976",
     "status": "completed"
    },
    "tags": []
   },
   "source": [
    "# Settings"
   ]
  },
  {
   "cell_type": "code",
   "execution_count": 3,
   "id": "ca4560ba",
   "metadata": {
    "execution": {
     "iopub.execute_input": "2022-07-11T07:16:43.041756Z",
     "iopub.status.busy": "2022-07-11T07:16:43.041570Z",
     "iopub.status.idle": "2022-07-11T07:16:43.057337Z",
     "shell.execute_reply": "2022-07-11T07:16:43.056785Z"
    },
    "papermill": {
     "duration": 0.024279,
     "end_time": "2022-07-11T07:16:43.058781",
     "exception": false,
     "start_time": "2022-07-11T07:16:43.034502",
     "status": "completed"
    },
    "tags": [
     "parameters"
    ]
   },
   "outputs": [],
   "source": [
    "# reference panel\n",
    "REFERENCE_PANEL = \"GTEX_V8\"\n",
    "# REFERENCE_PANEL = \"1000G\"\n",
    "\n",
    "# prediction models\n",
    "## mashr\n",
    "EQTL_MODEL = \"MASHR\"\n",
    "\n",
    "# this is the default value used in S-MultiXcan to select the\n",
    "# top principal components of the expression correlation matrix\n",
    "SMULTIXCAN_CONDITION_NUMBER = 30\n",
    "\n",
    "# specifies a single chromosome value\n",
    "# by default, run on all chromosomes\n",
    "chromosome = None"
   ]
  },
  {
   "cell_type": "code",
   "execution_count": 4,
   "id": "bccb86fd",
   "metadata": {
    "execution": {
     "iopub.execute_input": "2022-07-11T07:16:43.072008Z",
     "iopub.status.busy": "2022-07-11T07:16:43.071518Z",
     "iopub.status.idle": "2022-07-11T07:16:43.086770Z",
     "shell.execute_reply": "2022-07-11T07:16:43.086221Z"
    },
    "papermill": {
     "duration": 0.023373,
     "end_time": "2022-07-11T07:16:43.088267",
     "exception": false,
     "start_time": "2022-07-11T07:16:43.064894",
     "status": "completed"
    },
    "tags": [
     "injected-parameters"
    ]
   },
   "outputs": [],
   "source": [
    "# Parameters\n",
    "chromosome = 13\n",
    "REFERENCE_PANEL = \"1000G\"\n",
    "EQTL_MODEL = \"MASHR\"\n"
   ]
  },
  {
   "cell_type": "code",
   "execution_count": 5,
   "id": "a089c9ff",
   "metadata": {
    "execution": {
     "iopub.execute_input": "2022-07-11T07:16:43.101297Z",
     "iopub.status.busy": "2022-07-11T07:16:43.100848Z",
     "iopub.status.idle": "2022-07-11T07:16:43.116595Z",
     "shell.execute_reply": "2022-07-11T07:16:43.115472Z"
    },
    "papermill": {
     "duration": 0.023894,
     "end_time": "2022-07-11T07:16:43.118186",
     "exception": false,
     "start_time": "2022-07-11T07:16:43.094292",
     "status": "completed"
    },
    "tags": []
   },
   "outputs": [],
   "source": [
    "EQTL_MODEL_FILES_PREFIX = conf.PHENOMEXCAN[\"PREDICTION_MODELS\"][f\"{EQTL_MODEL}_PREFIX\"]"
   ]
  },
  {
   "cell_type": "code",
   "execution_count": 6,
   "id": "8fe24bef",
   "metadata": {
    "execution": {
     "iopub.execute_input": "2022-07-11T07:16:43.133235Z",
     "iopub.status.busy": "2022-07-11T07:16:43.132668Z",
     "iopub.status.idle": "2022-07-11T07:16:43.153029Z",
     "shell.execute_reply": "2022-07-11T07:16:43.152373Z"
    },
    "papermill": {
     "duration": 0.029622,
     "end_time": "2022-07-11T07:16:43.154618",
     "exception": false,
     "start_time": "2022-07-11T07:16:43.124996",
     "status": "completed"
    },
    "tags": []
   },
   "outputs": [
    {
     "data": {
      "text/plain": [
       "'Using eQTL model: MASHR / mashr_'"
      ]
     },
     "metadata": {},
     "output_type": "display_data"
    }
   ],
   "source": [
    "display(f\"Using eQTL model: {EQTL_MODEL} / {EQTL_MODEL_FILES_PREFIX}\")"
   ]
  },
  {
   "cell_type": "code",
   "execution_count": 7,
   "id": "552a7f63-a18c-4d3e-bb6a-94f99b431291",
   "metadata": {
    "execution": {
     "iopub.execute_input": "2022-07-11T07:16:43.169818Z",
     "iopub.status.busy": "2022-07-11T07:16:43.169306Z",
     "iopub.status.idle": "2022-07-11T07:16:43.186408Z",
     "shell.execute_reply": "2022-07-11T07:16:43.185916Z"
    },
    "papermill": {
     "duration": 0.026265,
     "end_time": "2022-07-11T07:16:43.187897",
     "exception": false,
     "start_time": "2022-07-11T07:16:43.161632",
     "status": "completed"
    },
    "tags": []
   },
   "outputs": [
    {
     "data": {
      "text/plain": [
       "'S-MultiXcan condition number: 30'"
      ]
     },
     "metadata": {},
     "output_type": "display_data"
    }
   ],
   "source": [
    "display(f\"S-MultiXcan condition number: {SMULTIXCAN_CONDITION_NUMBER}\")"
   ]
  },
  {
   "cell_type": "code",
   "execution_count": 8,
   "id": "0230ebcb-2c32-4b95-9292-d9a52038e70d",
   "metadata": {
    "execution": {
     "iopub.execute_input": "2022-07-11T07:16:43.202745Z",
     "iopub.status.busy": "2022-07-11T07:16:43.202228Z",
     "iopub.status.idle": "2022-07-11T07:16:43.218701Z",
     "shell.execute_reply": "2022-07-11T07:16:43.218120Z"
    },
    "papermill": {
     "duration": 0.025536,
     "end_time": "2022-07-11T07:16:43.220282",
     "exception": false,
     "start_time": "2022-07-11T07:16:43.194746",
     "status": "completed"
    },
    "tags": []
   },
   "outputs": [],
   "source": [
    "REFERENCE_PANEL_DIR = conf.PHENOMEXCAN[\"LD_BLOCKS\"][f\"{REFERENCE_PANEL}_GENOTYPE_DIR\"]"
   ]
  },
  {
   "cell_type": "code",
   "execution_count": 9,
   "id": "98c4a159-601d-4a22-a1ab-35bd451c25f9",
   "metadata": {
    "execution": {
     "iopub.execute_input": "2022-07-11T07:16:43.234248Z",
     "iopub.status.busy": "2022-07-11T07:16:43.233943Z",
     "iopub.status.idle": "2022-07-11T07:16:43.251125Z",
     "shell.execute_reply": "2022-07-11T07:16:43.250567Z"
    },
    "papermill": {
     "duration": 0.025637,
     "end_time": "2022-07-11T07:16:43.252506",
     "exception": false,
     "start_time": "2022-07-11T07:16:43.226869",
     "status": "completed"
    },
    "tags": []
   },
   "outputs": [
    {
     "data": {
      "text/plain": [
       "'Using reference panel folder: /opt/data/data/phenomexcan/ld_blocks/reference_panel_1000G'"
      ]
     },
     "metadata": {},
     "output_type": "display_data"
    }
   ],
   "source": [
    "display(f\"Using reference panel folder: {str(REFERENCE_PANEL_DIR)}\")"
   ]
  },
  {
   "cell_type": "code",
   "execution_count": 10,
   "id": "396392dc-0340-4540-9b02-e182b833f909",
   "metadata": {
    "execution": {
     "iopub.execute_input": "2022-07-11T07:16:43.266442Z",
     "iopub.status.busy": "2022-07-11T07:16:43.265964Z",
     "iopub.status.idle": "2022-07-11T07:16:43.281213Z",
     "shell.execute_reply": "2022-07-11T07:16:43.280640Z"
    },
    "papermill": {
     "duration": 0.023675,
     "end_time": "2022-07-11T07:16:43.282563",
     "exception": false,
     "start_time": "2022-07-11T07:16:43.258888",
     "status": "completed"
    },
    "tags": []
   },
   "outputs": [],
   "source": [
    "OUTPUT_DIR_BASE = (\n",
    "    conf.PHENOMEXCAN[\"LD_BLOCKS\"][f\"GENE_CORRS_DIR\"]\n",
    "    / REFERENCE_PANEL.lower()\n",
    "    / EQTL_MODEL.lower()\n",
    ")\n",
    "OUTPUT_DIR_BASE.mkdir(parents=True, exist_ok=True)"
   ]
  },
  {
   "cell_type": "code",
   "execution_count": 11,
   "id": "8942c2d3-e53c-4d63-a0eb-b6fce0574d36",
   "metadata": {
    "execution": {
     "iopub.execute_input": "2022-07-11T07:16:43.296512Z",
     "iopub.status.busy": "2022-07-11T07:16:43.296052Z",
     "iopub.status.idle": "2022-07-11T07:16:43.312537Z",
     "shell.execute_reply": "2022-07-11T07:16:43.311969Z"
    },
    "papermill": {
     "duration": 0.024827,
     "end_time": "2022-07-11T07:16:43.313911",
     "exception": false,
     "start_time": "2022-07-11T07:16:43.289084",
     "status": "completed"
    },
    "tags": []
   },
   "outputs": [
    {
     "data": {
      "text/plain": [
       "'Using output dir base: /opt/data/data/phenomexcan/ld_blocks/gene_corrs/1000g/mashr'"
      ]
     },
     "metadata": {},
     "output_type": "display_data"
    }
   ],
   "source": [
    "display(f\"Using output dir base: {OUTPUT_DIR_BASE}\")"
   ]
  },
  {
   "cell_type": "code",
   "execution_count": 12,
   "id": "408aa590",
   "metadata": {
    "execution": {
     "iopub.execute_input": "2022-07-11T07:16:43.327553Z",
     "iopub.status.busy": "2022-07-11T07:16:43.327138Z",
     "iopub.status.idle": "2022-07-11T07:16:43.342136Z",
     "shell.execute_reply": "2022-07-11T07:16:43.341593Z"
    },
    "papermill": {
     "duration": 0.023235,
     "end_time": "2022-07-11T07:16:43.343533",
     "exception": false,
     "start_time": "2022-07-11T07:16:43.320298",
     "status": "completed"
    },
    "tags": []
   },
   "outputs": [],
   "source": [
    "assert (\n",
    "    chromosome is not None\n",
    "), \"You have to select one chromosome (format: number between 1 and 22)\""
   ]
  },
  {
   "cell_type": "code",
   "execution_count": 13,
   "id": "c1c7dd06-80ff-453c-bcb7-0899edce75da",
   "metadata": {
    "execution": {
     "iopub.execute_input": "2022-07-11T07:16:43.357140Z",
     "iopub.status.busy": "2022-07-11T07:16:43.356687Z",
     "iopub.status.idle": "2022-07-11T07:16:43.371281Z",
     "shell.execute_reply": "2022-07-11T07:16:43.370739Z"
    },
    "papermill": {
     "duration": 0.022759,
     "end_time": "2022-07-11T07:16:43.372639",
     "exception": false,
     "start_time": "2022-07-11T07:16:43.349880",
     "status": "completed"
    },
    "tags": []
   },
   "outputs": [],
   "source": [
    "chromosome = str(chromosome)"
   ]
  },
  {
   "cell_type": "code",
   "execution_count": 14,
   "id": "bc17b84c-9c26-47a5-a3ab-7046e72f3ef4",
   "metadata": {
    "execution": {
     "iopub.execute_input": "2022-07-11T07:16:43.386467Z",
     "iopub.status.busy": "2022-07-11T07:16:43.386160Z",
     "iopub.status.idle": "2022-07-11T07:16:43.402214Z",
     "shell.execute_reply": "2022-07-11T07:16:43.401695Z"
    },
    "papermill": {
     "duration": 0.02445,
     "end_time": "2022-07-11T07:16:43.403501",
     "exception": false,
     "start_time": "2022-07-11T07:16:43.379051",
     "status": "completed"
    },
    "tags": []
   },
   "outputs": [
    {
     "data": {
      "text/plain": [
       "'Working on chromosome 13'"
      ]
     },
     "metadata": {},
     "output_type": "display_data"
    }
   ],
   "source": [
    "display(f\"Working on chromosome {chromosome}\")"
   ]
  },
  {
   "cell_type": "markdown",
   "id": "d2ba085e",
   "metadata": {
    "papermill": {
     "duration": 0.00635,
     "end_time": "2022-07-11T07:16:43.416414",
     "exception": false,
     "start_time": "2022-07-11T07:16:43.410064",
     "status": "completed"
    },
    "tags": []
   },
   "source": [
    "# Load data"
   ]
  },
  {
   "cell_type": "markdown",
   "id": "7bed0ce0-e7c7-4300-9a61-5412450b1904",
   "metadata": {
    "papermill": {
     "duration": 0.006073,
     "end_time": "2022-07-11T07:16:43.428741",
     "exception": false,
     "start_time": "2022-07-11T07:16:43.422668",
     "status": "completed"
    },
    "tags": []
   },
   "source": [
    "## Prediction model tissues"
   ]
  },
  {
   "cell_type": "code",
   "execution_count": 15,
   "id": "0847c065-0d69-4830-a07f-1c75115d17f5",
   "metadata": {
    "execution": {
     "iopub.execute_input": "2022-07-11T07:16:43.442411Z",
     "iopub.status.busy": "2022-07-11T07:16:43.442014Z",
     "iopub.status.idle": "2022-07-11T07:16:43.456578Z",
     "shell.execute_reply": "2022-07-11T07:16:43.456010Z"
    },
    "papermill": {
     "duration": 0.022911,
     "end_time": "2022-07-11T07:16:43.458003",
     "exception": false,
     "start_time": "2022-07-11T07:16:43.435092",
     "status": "completed"
    },
    "tags": []
   },
   "outputs": [],
   "source": [
    "prediction_model_tissues = conf.PHENOMEXCAN[\"PREDICTION_MODELS\"][\n",
    "    f\"{EQTL_MODEL}_TISSUES\"\n",
    "].split(\" \")"
   ]
  },
  {
   "cell_type": "code",
   "execution_count": 16,
   "id": "aaef70d1-30c6-4c6f-9d6b-abc8e9a0081f",
   "metadata": {
    "execution": {
     "iopub.execute_input": "2022-07-11T07:16:43.471973Z",
     "iopub.status.busy": "2022-07-11T07:16:43.471506Z",
     "iopub.status.idle": "2022-07-11T07:16:43.486941Z",
     "shell.execute_reply": "2022-07-11T07:16:43.486533Z"
    },
    "papermill": {
     "duration": 0.023768,
     "end_time": "2022-07-11T07:16:43.488261",
     "exception": false,
     "start_time": "2022-07-11T07:16:43.464493",
     "status": "completed"
    },
    "tags": []
   },
   "outputs": [
    {
     "data": {
      "text/plain": [
       "49"
      ]
     },
     "execution_count": 16,
     "metadata": {},
     "output_type": "execute_result"
    }
   ],
   "source": [
    "len(prediction_model_tissues)"
   ]
  },
  {
   "cell_type": "code",
   "execution_count": 17,
   "id": "ff35a099-c52d-465d-b863-0ee70c26208c",
   "metadata": {
    "execution": {
     "iopub.execute_input": "2022-07-11T07:16:43.502401Z",
     "iopub.status.busy": "2022-07-11T07:16:43.502009Z",
     "iopub.status.idle": "2022-07-11T07:16:43.518833Z",
     "shell.execute_reply": "2022-07-11T07:16:43.518274Z"
    },
    "papermill": {
     "duration": 0.02525,
     "end_time": "2022-07-11T07:16:43.520150",
     "exception": false,
     "start_time": "2022-07-11T07:16:43.494900",
     "status": "completed"
    },
    "tags": []
   },
   "outputs": [
    {
     "data": {
      "text/plain": [
       "['Skin_Not_Sun_Exposed_Suprapubic',\n",
       " 'Cells_EBV-transformed_lymphocytes',\n",
       " 'Brain_Frontal_Cortex_BA9',\n",
       " 'Kidney_Cortex',\n",
       " 'Brain_Substantia_nigra']"
      ]
     },
     "execution_count": 17,
     "metadata": {},
     "output_type": "execute_result"
    }
   ],
   "source": [
    "prediction_model_tissues[:5]"
   ]
  },
  {
   "cell_type": "markdown",
   "id": "abcc4b3d",
   "metadata": {
    "papermill": {
     "duration": 0.00696,
     "end_time": "2022-07-11T07:16:43.533997",
     "exception": false,
     "start_time": "2022-07-11T07:16:43.527037",
     "status": "completed"
    },
    "tags": []
   },
   "source": [
    "## MultiPLIER Z"
   ]
  },
  {
   "cell_type": "code",
   "execution_count": 18,
   "id": "c48ef527",
   "metadata": {
    "execution": {
     "iopub.execute_input": "2022-07-11T07:16:43.548813Z",
     "iopub.status.busy": "2022-07-11T07:16:43.548409Z",
     "iopub.status.idle": "2022-07-11T07:16:43.590220Z",
     "shell.execute_reply": "2022-07-11T07:16:43.589656Z"
    },
    "papermill": {
     "duration": 0.050713,
     "end_time": "2022-07-11T07:16:43.591712",
     "exception": false,
     "start_time": "2022-07-11T07:16:43.540999",
     "status": "completed"
    },
    "tags": []
   },
   "outputs": [],
   "source": [
    "multiplier_z_genes = pd.read_pickle(\n",
    "    conf.MULTIPLIER[\"MODEL_Z_MATRIX_FILE\"]\n",
    ").index.tolist()"
   ]
  },
  {
   "cell_type": "code",
   "execution_count": 19,
   "id": "0a4ecbd9",
   "metadata": {
    "execution": {
     "iopub.execute_input": "2022-07-11T07:16:43.606790Z",
     "iopub.status.busy": "2022-07-11T07:16:43.606294Z",
     "iopub.status.idle": "2022-07-11T07:16:43.623043Z",
     "shell.execute_reply": "2022-07-11T07:16:43.622498Z"
    },
    "papermill": {
     "duration": 0.025598,
     "end_time": "2022-07-11T07:16:43.624442",
     "exception": false,
     "start_time": "2022-07-11T07:16:43.598844",
     "status": "completed"
    },
    "tags": []
   },
   "outputs": [
    {
     "data": {
      "text/plain": [
       "6750"
      ]
     },
     "execution_count": 19,
     "metadata": {},
     "output_type": "execute_result"
    }
   ],
   "source": [
    "len(multiplier_z_genes)"
   ]
  },
  {
   "cell_type": "code",
   "execution_count": 20,
   "id": "115e8864",
   "metadata": {
    "execution": {
     "iopub.execute_input": "2022-07-11T07:16:43.639238Z",
     "iopub.status.busy": "2022-07-11T07:16:43.638754Z",
     "iopub.status.idle": "2022-07-11T07:16:43.655869Z",
     "shell.execute_reply": "2022-07-11T07:16:43.655240Z"
    },
    "papermill": {
     "duration": 0.026248,
     "end_time": "2022-07-11T07:16:43.657557",
     "exception": false,
     "start_time": "2022-07-11T07:16:43.631309",
     "status": "completed"
    },
    "tags": []
   },
   "outputs": [
    {
     "data": {
      "text/plain": [
       "['GAS6',\n",
       " 'MMP14',\n",
       " 'DSP',\n",
       " 'MARCKSL1',\n",
       " 'SPARC',\n",
       " 'CTSD',\n",
       " 'EPAS1',\n",
       " 'PALLD',\n",
       " 'PHC2',\n",
       " 'LGALS3BP']"
      ]
     },
     "execution_count": 20,
     "metadata": {},
     "output_type": "execute_result"
    }
   ],
   "source": [
    "multiplier_z_genes[:10]"
   ]
  },
  {
   "cell_type": "markdown",
   "id": "7dcb8db7",
   "metadata": {
    "papermill": {
     "duration": 0.0078,
     "end_time": "2022-07-11T07:16:43.673529",
     "exception": false,
     "start_time": "2022-07-11T07:16:43.665729",
     "status": "completed"
    },
    "tags": []
   },
   "source": [
    "## Get gene objects"
   ]
  },
  {
   "cell_type": "code",
   "execution_count": 21,
   "id": "bb932812",
   "metadata": {
    "execution": {
     "iopub.execute_input": "2022-07-11T07:16:43.691218Z",
     "iopub.status.busy": "2022-07-11T07:16:43.690689Z",
     "iopub.status.idle": "2022-07-11T07:16:43.715342Z",
     "shell.execute_reply": "2022-07-11T07:16:43.714726Z"
    },
    "papermill": {
     "duration": 0.035084,
     "end_time": "2022-07-11T07:16:43.716933",
     "exception": false,
     "start_time": "2022-07-11T07:16:43.681849",
     "status": "completed"
    },
    "tags": []
   },
   "outputs": [],
   "source": [
    "multiplier_gene_obj = {\n",
    "    gene_name: Gene(name=gene_name)\n",
    "    for gene_name in multiplier_z_genes\n",
    "    if gene_name in Gene.GENE_NAME_TO_ID_MAP\n",
    "}"
   ]
  },
  {
   "cell_type": "code",
   "execution_count": 22,
   "id": "39533214",
   "metadata": {
    "execution": {
     "iopub.execute_input": "2022-07-11T07:16:43.733754Z",
     "iopub.status.busy": "2022-07-11T07:16:43.733293Z",
     "iopub.status.idle": "2022-07-11T07:16:43.751533Z",
     "shell.execute_reply": "2022-07-11T07:16:43.750950Z"
    },
    "papermill": {
     "duration": 0.028207,
     "end_time": "2022-07-11T07:16:43.753002",
     "exception": false,
     "start_time": "2022-07-11T07:16:43.724795",
     "status": "completed"
    },
    "tags": []
   },
   "outputs": [
    {
     "data": {
      "text/plain": [
       "6454"
      ]
     },
     "execution_count": 22,
     "metadata": {},
     "output_type": "execute_result"
    }
   ],
   "source": [
    "len(multiplier_gene_obj)"
   ]
  },
  {
   "cell_type": "code",
   "execution_count": 23,
   "id": "9a5d0b84",
   "metadata": {
    "execution": {
     "iopub.execute_input": "2022-07-11T07:16:43.768939Z",
     "iopub.status.busy": "2022-07-11T07:16:43.768529Z",
     "iopub.status.idle": "2022-07-11T07:16:43.785814Z",
     "shell.execute_reply": "2022-07-11T07:16:43.785315Z"
    },
    "papermill": {
     "duration": 0.026504,
     "end_time": "2022-07-11T07:16:43.787152",
     "exception": false,
     "start_time": "2022-07-11T07:16:43.760648",
     "status": "completed"
    },
    "tags": []
   },
   "outputs": [
    {
     "data": {
      "text/plain": [
       "'ENSG00000183087'"
      ]
     },
     "execution_count": 23,
     "metadata": {},
     "output_type": "execute_result"
    }
   ],
   "source": [
    "multiplier_gene_obj[\"GAS6\"].ensembl_id"
   ]
  },
  {
   "cell_type": "code",
   "execution_count": 24,
   "id": "e3ffabc7",
   "metadata": {
    "execution": {
     "iopub.execute_input": "2022-07-11T07:16:43.802712Z",
     "iopub.status.busy": "2022-07-11T07:16:43.802313Z",
     "iopub.status.idle": "2022-07-11T07:16:45.819660Z",
     "shell.execute_reply": "2022-07-11T07:16:45.819199Z"
    },
    "papermill": {
     "duration": 2.026714,
     "end_time": "2022-07-11T07:16:45.821164",
     "exception": false,
     "start_time": "2022-07-11T07:16:43.794450",
     "status": "completed"
    },
    "tags": []
   },
   "outputs": [],
   "source": [
    "_gene_obj = list(multiplier_gene_obj.values())\n",
    "\n",
    "genes_info = pd.DataFrame(\n",
    "    {\n",
    "        \"name\": [g.name for g in _gene_obj],\n",
    "        \"id\": [g.ensembl_id for g in _gene_obj],\n",
    "        \"chr\": [g.chromosome for g in _gene_obj],\n",
    "        \"band\": [g.band for g in _gene_obj],\n",
    "        \"start_position\": [g.get_attribute(\"start_position\") for g in _gene_obj],\n",
    "    }\n",
    ")"
   ]
  },
  {
   "cell_type": "code",
   "execution_count": 25,
   "id": "e23519b8",
   "metadata": {
    "execution": {
     "iopub.execute_input": "2022-07-11T07:16:45.835396Z",
     "iopub.status.busy": "2022-07-11T07:16:45.835227Z",
     "iopub.status.idle": "2022-07-11T07:16:45.850227Z",
     "shell.execute_reply": "2022-07-11T07:16:45.849804Z"
    },
    "papermill": {
     "duration": 0.023605,
     "end_time": "2022-07-11T07:16:45.851517",
     "exception": false,
     "start_time": "2022-07-11T07:16:45.827912",
     "status": "completed"
    },
    "tags": []
   },
   "outputs": [
    {
     "data": {
      "text/plain": [
       "(6454, 5)"
      ]
     },
     "execution_count": 25,
     "metadata": {},
     "output_type": "execute_result"
    }
   ],
   "source": [
    "genes_info.shape"
   ]
  },
  {
   "cell_type": "code",
   "execution_count": 26,
   "id": "0d71881c",
   "metadata": {
    "execution": {
     "iopub.execute_input": "2022-07-11T07:16:45.866309Z",
     "iopub.status.busy": "2022-07-11T07:16:45.866138Z",
     "iopub.status.idle": "2022-07-11T07:16:45.887050Z",
     "shell.execute_reply": "2022-07-11T07:16:45.886562Z"
    },
    "papermill": {
     "duration": 0.029953,
     "end_time": "2022-07-11T07:16:45.888440",
     "exception": false,
     "start_time": "2022-07-11T07:16:45.858487",
     "status": "completed"
    },
    "tags": []
   },
   "outputs": [
    {
     "data": {
      "text/html": [
       "<div>\n",
       "<style scoped>\n",
       "    .dataframe tbody tr th:only-of-type {\n",
       "        vertical-align: middle;\n",
       "    }\n",
       "\n",
       "    .dataframe tbody tr th {\n",
       "        vertical-align: top;\n",
       "    }\n",
       "\n",
       "    .dataframe thead th {\n",
       "        text-align: right;\n",
       "    }\n",
       "</style>\n",
       "<table border=\"1\" class=\"dataframe\">\n",
       "  <thead>\n",
       "    <tr style=\"text-align: right;\">\n",
       "      <th></th>\n",
       "      <th>name</th>\n",
       "      <th>id</th>\n",
       "      <th>chr</th>\n",
       "      <th>band</th>\n",
       "      <th>start_position</th>\n",
       "    </tr>\n",
       "  </thead>\n",
       "  <tbody>\n",
       "    <tr>\n",
       "      <th>0</th>\n",
       "      <td>GAS6</td>\n",
       "      <td>ENSG00000183087</td>\n",
       "      <td>13</td>\n",
       "      <td>13q34</td>\n",
       "      <td>113820549.0</td>\n",
       "    </tr>\n",
       "    <tr>\n",
       "      <th>1</th>\n",
       "      <td>MMP14</td>\n",
       "      <td>ENSG00000157227</td>\n",
       "      <td>14</td>\n",
       "      <td>14q11.2</td>\n",
       "      <td>22836560.0</td>\n",
       "    </tr>\n",
       "    <tr>\n",
       "      <th>2</th>\n",
       "      <td>DSP</td>\n",
       "      <td>ENSG00000096696</td>\n",
       "      <td>6</td>\n",
       "      <td>6p24.3</td>\n",
       "      <td>7541617.0</td>\n",
       "    </tr>\n",
       "    <tr>\n",
       "      <th>3</th>\n",
       "      <td>MARCKSL1</td>\n",
       "      <td>ENSG00000175130</td>\n",
       "      <td>1</td>\n",
       "      <td>1p35.1</td>\n",
       "      <td>32333839.0</td>\n",
       "    </tr>\n",
       "    <tr>\n",
       "      <th>4</th>\n",
       "      <td>SPARC</td>\n",
       "      <td>ENSG00000113140</td>\n",
       "      <td>5</td>\n",
       "      <td>5q33.1</td>\n",
       "      <td>151661096.0</td>\n",
       "    </tr>\n",
       "  </tbody>\n",
       "</table>\n",
       "</div>"
      ],
      "text/plain": [
       "       name               id chr     band  start_position\n",
       "0      GAS6  ENSG00000183087  13    13q34     113820549.0\n",
       "1     MMP14  ENSG00000157227  14  14q11.2      22836560.0\n",
       "2       DSP  ENSG00000096696   6   6p24.3       7541617.0\n",
       "3  MARCKSL1  ENSG00000175130   1   1p35.1      32333839.0\n",
       "4     SPARC  ENSG00000113140   5   5q33.1     151661096.0"
      ]
     },
     "execution_count": 26,
     "metadata": {},
     "output_type": "execute_result"
    }
   ],
   "source": [
    "genes_info.head()"
   ]
  },
  {
   "cell_type": "markdown",
   "id": "c8d1038f",
   "metadata": {
    "papermill": {
     "duration": 0.006973,
     "end_time": "2022-07-11T07:16:45.902822",
     "exception": false,
     "start_time": "2022-07-11T07:16:45.895849",
     "status": "completed"
    },
    "tags": []
   },
   "source": [
    "# Test"
   ]
  },
  {
   "cell_type": "code",
   "execution_count": 27,
   "id": "64993abf",
   "metadata": {
    "execution": {
     "iopub.execute_input": "2022-07-11T07:16:45.918620Z",
     "iopub.status.busy": "2022-07-11T07:16:45.918149Z",
     "iopub.status.idle": "2022-07-11T07:16:45.941854Z",
     "shell.execute_reply": "2022-07-11T07:16:45.941313Z"
    },
    "papermill": {
     "duration": 0.033079,
     "end_time": "2022-07-11T07:16:45.943150",
     "exception": false,
     "start_time": "2022-07-11T07:16:45.910071",
     "status": "completed"
    },
    "tags": []
   },
   "outputs": [
    {
     "data": {
      "text/html": [
       "<div>\n",
       "<style scoped>\n",
       "    .dataframe tbody tr th:only-of-type {\n",
       "        vertical-align: middle;\n",
       "    }\n",
       "\n",
       "    .dataframe tbody tr th {\n",
       "        vertical-align: top;\n",
       "    }\n",
       "\n",
       "    .dataframe thead th {\n",
       "        text-align: right;\n",
       "    }\n",
       "</style>\n",
       "<table border=\"1\" class=\"dataframe\">\n",
       "  <thead>\n",
       "    <tr style=\"text-align: right;\">\n",
       "      <th></th>\n",
       "      <th>name</th>\n",
       "      <th>id</th>\n",
       "      <th>chr</th>\n",
       "      <th>band</th>\n",
       "      <th>start_position</th>\n",
       "    </tr>\n",
       "  </thead>\n",
       "  <tbody>\n",
       "    <tr>\n",
       "      <th>0</th>\n",
       "      <td>GAS6</td>\n",
       "      <td>ENSG00000183087</td>\n",
       "      <td>13</td>\n",
       "      <td>13q34</td>\n",
       "      <td>113820549.0</td>\n",
       "    </tr>\n",
       "    <tr>\n",
       "      <th>139</th>\n",
       "      <td>FRY</td>\n",
       "      <td>ENSG00000073910</td>\n",
       "      <td>13</td>\n",
       "      <td>13q13.1</td>\n",
       "      <td>31846713.0</td>\n",
       "    </tr>\n",
       "    <tr>\n",
       "      <th>239</th>\n",
       "      <td>CCNA1</td>\n",
       "      <td>ENSG00000133101</td>\n",
       "      <td>13</td>\n",
       "      <td>13q13.3</td>\n",
       "      <td>36431520.0</td>\n",
       "    </tr>\n",
       "    <tr>\n",
       "      <th>283</th>\n",
       "      <td>FLT3</td>\n",
       "      <td>ENSG00000122025</td>\n",
       "      <td>13</td>\n",
       "      <td>13q12.2</td>\n",
       "      <td>28003274.0</td>\n",
       "    </tr>\n",
       "    <tr>\n",
       "      <th>412</th>\n",
       "      <td>TNFSF11</td>\n",
       "      <td>ENSG00000120659</td>\n",
       "      <td>13</td>\n",
       "      <td>13q14.11</td>\n",
       "      <td>42562736.0</td>\n",
       "    </tr>\n",
       "    <tr>\n",
       "      <th>...</th>\n",
       "      <td>...</td>\n",
       "      <td>...</td>\n",
       "      <td>...</td>\n",
       "      <td>...</td>\n",
       "      <td>...</td>\n",
       "    </tr>\n",
       "    <tr>\n",
       "      <th>6269</th>\n",
       "      <td>KL</td>\n",
       "      <td>ENSG00000133116</td>\n",
       "      <td>13</td>\n",
       "      <td>13q13.1</td>\n",
       "      <td>33016423.0</td>\n",
       "    </tr>\n",
       "    <tr>\n",
       "      <th>6351</th>\n",
       "      <td>MTMR6</td>\n",
       "      <td>ENSG00000139505</td>\n",
       "      <td>13</td>\n",
       "      <td>13q12.13</td>\n",
       "      <td>25246201.0</td>\n",
       "    </tr>\n",
       "    <tr>\n",
       "      <th>6379</th>\n",
       "      <td>ABCC4</td>\n",
       "      <td>ENSG00000125257</td>\n",
       "      <td>13</td>\n",
       "      <td>13q32.1</td>\n",
       "      <td>95019835.0</td>\n",
       "    </tr>\n",
       "    <tr>\n",
       "      <th>6416</th>\n",
       "      <td>RFXAP</td>\n",
       "      <td>ENSG00000133111</td>\n",
       "      <td>13</td>\n",
       "      <td>13q13.3</td>\n",
       "      <td>36819224.0</td>\n",
       "    </tr>\n",
       "    <tr>\n",
       "      <th>6436</th>\n",
       "      <td>ELF1</td>\n",
       "      <td>ENSG00000120690</td>\n",
       "      <td>13</td>\n",
       "      <td>13q14.11</td>\n",
       "      <td>40931924.0</td>\n",
       "    </tr>\n",
       "  </tbody>\n",
       "</table>\n",
       "<p>118 rows × 5 columns</p>\n",
       "</div>"
      ],
      "text/plain": [
       "         name               id chr      band  start_position\n",
       "0        GAS6  ENSG00000183087  13     13q34     113820549.0\n",
       "139       FRY  ENSG00000073910  13   13q13.1      31846713.0\n",
       "239     CCNA1  ENSG00000133101  13   13q13.3      36431520.0\n",
       "283      FLT3  ENSG00000122025  13   13q12.2      28003274.0\n",
       "412   TNFSF11  ENSG00000120659  13  13q14.11      42562736.0\n",
       "...       ...              ...  ..       ...             ...\n",
       "6269       KL  ENSG00000133116  13   13q13.1      33016423.0\n",
       "6351    MTMR6  ENSG00000139505  13  13q12.13      25246201.0\n",
       "6379    ABCC4  ENSG00000125257  13   13q32.1      95019835.0\n",
       "6416    RFXAP  ENSG00000133111  13   13q13.3      36819224.0\n",
       "6436     ELF1  ENSG00000120690  13  13q14.11      40931924.0\n",
       "\n",
       "[118 rows x 5 columns]"
      ]
     },
     "metadata": {},
     "output_type": "display_data"
    }
   ],
   "source": [
    "chromosome_genes_info = genes_info[genes_info[\"chr\"] == chromosome]\n",
    "display(chromosome_genes_info)"
   ]
  },
  {
   "cell_type": "code",
   "execution_count": 28,
   "id": "d2e42726-7de6-46eb-acfc-6323eaa8fae6",
   "metadata": {
    "execution": {
     "iopub.execute_input": "2022-07-11T07:16:45.959015Z",
     "iopub.status.busy": "2022-07-11T07:16:45.958553Z",
     "iopub.status.idle": "2022-07-11T07:16:45.975614Z",
     "shell.execute_reply": "2022-07-11T07:16:45.975121Z"
    },
    "papermill": {
     "duration": 0.026254,
     "end_time": "2022-07-11T07:16:45.976953",
     "exception": false,
     "start_time": "2022-07-11T07:16:45.950699",
     "status": "completed"
    },
    "tags": []
   },
   "outputs": [
    {
     "data": {
      "text/plain": [
       "5"
      ]
     },
     "metadata": {},
     "output_type": "display_data"
    }
   ],
   "source": [
    "seed(0)\n",
    "_gene_list_ids = sample(chromosome_genes_info[\"id\"].tolist(), 5)\n",
    "selected_chromosome_genes_obj = [Gene(ensembl_id=g_id) for g_id in _gene_list_ids]\n",
    "display(len(selected_chromosome_genes_obj))"
   ]
  },
  {
   "cell_type": "code",
   "execution_count": 29,
   "id": "1b355359",
   "metadata": {
    "execution": {
     "iopub.execute_input": "2022-07-11T07:16:45.993193Z",
     "iopub.status.busy": "2022-07-11T07:16:45.992893Z",
     "iopub.status.idle": "2022-07-11T07:16:46.011834Z",
     "shell.execute_reply": "2022-07-11T07:16:46.011240Z"
    },
    "papermill": {
     "duration": 0.028599,
     "end_time": "2022-07-11T07:16:46.013248",
     "exception": false,
     "start_time": "2022-07-11T07:16:45.984649",
     "status": "completed"
    },
    "tags": []
   },
   "outputs": [
    {
     "name": "stdout",
     "output_type": "stream",
     "text": [
      "CAB39L / LATS2: 0.0\n",
      "CAB39L / FBXL3: 0.0\n",
      "CAB39L / KL: 0.0\n",
      "CAB39L / SLC25A15: 0.0\n",
      "LATS2 / FBXL3: 0.0\n",
      "LATS2 / KL: 0.0\n",
      "LATS2 / SLC25A15: 0.0\n",
      "FBXL3 / KL: 0.0\n",
      "FBXL3 / SLC25A15: 0.0\n",
      "KL / SLC25A15: 0.0\n"
     ]
    }
   ],
   "source": [
    "for gene_idx1 in range(0, len(selected_chromosome_genes_obj) - 1):\n",
    "    gene_obj1 = selected_chromosome_genes_obj[gene_idx1]\n",
    "\n",
    "    for gene_idx2 in range(gene_idx1 + 1, len(selected_chromosome_genes_obj)):\n",
    "        gene_obj2 = selected_chromosome_genes_obj[gene_idx2]\n",
    "\n",
    "        c = gene_obj1.get_ssm_correlation(\n",
    "            gene_obj2,\n",
    "        )\n",
    "\n",
    "        print(f\"{gene_obj1.name} / {gene_obj2.name}: {c}\")"
   ]
  },
  {
   "cell_type": "markdown",
   "id": "d3843e06",
   "metadata": {
    "papermill": {
     "duration": 0.007401,
     "end_time": "2022-07-11T07:16:46.028497",
     "exception": false,
     "start_time": "2022-07-11T07:16:46.021096",
     "status": "completed"
    },
    "tags": []
   },
   "source": [
    "# Compute correlation per chromosome"
   ]
  },
  {
   "cell_type": "code",
   "execution_count": 30,
   "id": "cb859c15-d1f3-4006-a74c-2b83c0db9611",
   "metadata": {
    "execution": {
     "iopub.execute_input": "2022-07-11T07:16:46.044440Z",
     "iopub.status.busy": "2022-07-11T07:16:46.043979Z",
     "iopub.status.idle": "2022-07-11T07:16:46.059443Z",
     "shell.execute_reply": "2022-07-11T07:16:46.058994Z"
    },
    "papermill": {
     "duration": 0.024855,
     "end_time": "2022-07-11T07:16:46.060730",
     "exception": false,
     "start_time": "2022-07-11T07:16:46.035875",
     "status": "completed"
    },
    "tags": []
   },
   "outputs": [
    {
     "data": {
      "text/plain": [
       "PosixPath('/opt/data/data/phenomexcan/ld_blocks/gene_corrs/1000g/mashr/by_chr/gene_corrs-chr13.pkl')"
      ]
     },
     "metadata": {},
     "output_type": "display_data"
    }
   ],
   "source": [
    "output_dir = OUTPUT_DIR_BASE / \"by_chr\"\n",
    "output_dir.mkdir(exist_ok=True, parents=True)\n",
    "output_file = output_dir / f\"gene_corrs-chr{chromosome}.pkl\"\n",
    "display(output_file)"
   ]
  },
  {
   "cell_type": "code",
   "execution_count": 31,
   "id": "aa674fe4-6794-4eed-98fa-32b39d1d4ace",
   "metadata": {
    "execution": {
     "iopub.execute_input": "2022-07-11T07:16:46.077035Z",
     "iopub.status.busy": "2022-07-11T07:16:46.076630Z",
     "iopub.status.idle": "2022-07-11T07:16:46.091410Z",
     "shell.execute_reply": "2022-07-11T07:16:46.090927Z"
    },
    "papermill": {
     "duration": 0.02427,
     "end_time": "2022-07-11T07:16:46.092786",
     "exception": false,
     "start_time": "2022-07-11T07:16:46.068516",
     "status": "completed"
    },
    "tags": []
   },
   "outputs": [],
   "source": [
    "warnings.filterwarnings(\"error\")"
   ]
  },
  {
   "cell_type": "code",
   "execution_count": 32,
   "id": "cdbb90a1",
   "metadata": {
    "execution": {
     "iopub.execute_input": "2022-07-11T07:16:46.109523Z",
     "iopub.status.busy": "2022-07-11T07:16:46.109077Z",
     "iopub.status.idle": "2022-07-11T07:19:06.932959Z",
     "shell.execute_reply": "2022-07-11T07:19:06.932543Z"
    },
    "papermill": {
     "duration": 140.833653,
     "end_time": "2022-07-11T07:19:06.934328",
     "exception": false,
     "start_time": "2022-07-11T07:16:46.100675",
     "status": "completed"
    },
    "tags": []
   },
   "outputs": [
    {
     "name": "stdout",
     "output_type": "stream",
     "text": [
      "Number of genes in chromosome: 118\n",
      "Number of gene combinations: 6903\n"
     ]
    },
    {
     "name": "stderr",
     "output_type": "stream",
     "text": [
      "ENSG00000130177 / ENSG00000169062: 100%|████████████████████████| 6903/6903 [02:20<00:00, 49.03it/s]"
     ]
    },
    {
     "name": "stdout",
     "output_type": "stream",
     "text": [
      "Min/max values: 0.0 / 0.9779870264352143\n"
     ]
    },
    {
     "name": "stderr",
     "output_type": "stream",
     "text": [
      "\n"
     ]
    },
    {
     "data": {
      "text/plain": [
       "PosixPath('/opt/data/data/phenomexcan/ld_blocks/gene_corrs/1000g/mashr/by_chr/gene_corrs-chr13.pkl')"
      ]
     },
     "metadata": {},
     "output_type": "display_data"
    }
   ],
   "source": [
    "# standard checks\n",
    "all_chrs = genes_info[\"chr\"].dropna().unique()\n",
    "assert all_chrs.shape[0] == 22\n",
    "\n",
    "# select chromosome given by the user\n",
    "assert chromosome in all_chrs\n",
    "\n",
    "# run only on the chromosome specified\n",
    "all_chrs = [chromosome]\n",
    "genes_chr = genes_info[genes_info[\"chr\"] == chromosome]\n",
    "\n",
    "# For testing purposes\n",
    "# genes_chr = genes_chr.sample(n=20)\n",
    "\n",
    "print(f\"Number of genes in chromosome: {genes_chr.shape[0]}\", flush=True)\n",
    "\n",
    "# sort genes by starting position to make visualizations better later\n",
    "genes_chr = genes_chr.sort_values(\"start_position\")\n",
    "\n",
    "gene_chr_objs = [Gene(ensembl_id=gene_id) for gene_id in genes_chr[\"id\"]]\n",
    "gene_chr_ids = [g.ensembl_id for g in gene_chr_objs]\n",
    "\n",
    "n = len(gene_chr_objs)\n",
    "n_comb = int(n * (n - 1) / 2.0)\n",
    "print(f\"Number of gene combinations: {n_comb}\", flush=True)\n",
    "\n",
    "gene_corrs = []\n",
    "\n",
    "pbar = tqdm(ncols=100, total=n_comb)\n",
    "i = 0\n",
    "for gene_idx1 in range(0, len(gene_chr_objs) - 1):\n",
    "    gene_obj1 = gene_chr_objs[gene_idx1]\n",
    "\n",
    "    for gene_idx2 in range(gene_idx1 + 1, len(gene_chr_objs)):\n",
    "        gene_obj2 = gene_chr_objs[gene_idx2]\n",
    "\n",
    "        pbar.set_description(f\"{gene_obj1.ensembl_id} / {gene_obj2.ensembl_id}\")\n",
    "\n",
    "        try:\n",
    "            # FIXME: compute the correlation of the sum of squares of the model using all\n",
    "            # the available tissues; this could be problematic because for some results\n",
    "            # (computed on a specific phenotype/GWAS) we might not have all the tissues\n",
    "            # available, which can certainly bias the correlation estimation.\n",
    "            # Since this depends on the GWAS on a specific phenotype, we should ideally have\n",
    "            # one correlation matrix per GWAS. I should look at how we can improve this.\n",
    "            r = gene_obj1.get_ssm_correlation(\n",
    "                other_gene=gene_obj2,\n",
    "                condition_number=SMULTIXCAN_CONDITION_NUMBER,\n",
    "                reference_panel=REFERENCE_PANEL,\n",
    "                model_type=EQTL_MODEL,\n",
    "            )\n",
    "\n",
    "            if r is None:\n",
    "                # if r is None, it's very likely because:\n",
    "                #  * one of the genes has no prediction models\n",
    "                #  * all the SNPs predictors for the gene are not present in the reference\n",
    "                #    panel\n",
    "\n",
    "                r = 0.0\n",
    "\n",
    "            gene_corrs.append(r)\n",
    "        except Warning:\n",
    "            print(\n",
    "                f\"RuntimeWarning for genes {gene_obj1.ensembl_id} and {gene_obj2.ensembl_id}\",\n",
    "                flush=True,\n",
    "            )\n",
    "            import traceback\n",
    "\n",
    "            print(traceback.format_exc(), flush=True)\n",
    "        except Exception as e:\n",
    "            print(\n",
    "                f\"Exception for genes {gene_obj1.ensembl_id} and {gene_obj2.ensembl_id}\",\n",
    "                flush=True,\n",
    "            )\n",
    "            import traceback\n",
    "\n",
    "            print(traceback.format_exc(), flush=True)\n",
    "            gene_corrs.append(np.nan)\n",
    "\n",
    "        pbar.update(1)\n",
    "\n",
    "pbar.close()\n",
    "\n",
    "# testing\n",
    "gene_corrs_flat = pd.Series(gene_corrs)\n",
    "print(f\"Min/max values: {gene_corrs_flat.min()} / {gene_corrs_flat.max()}\")\n",
    "assert gene_corrs_flat.min() >= -1.001\n",
    "assert gene_corrs_flat.max() <= 1.001\n",
    "\n",
    "# save\n",
    "# FIXME: consider saving only the condenced matrix here. See here for\n",
    "# more details: https://github.com/greenelab/phenoplier/pull/38#discussion_r634600813\n",
    "gene_corrs_data = squareform(np.array(gene_corrs, dtype=np.float64))\n",
    "np.fill_diagonal(gene_corrs_data, 1.0)\n",
    "\n",
    "gene_corrs_df = pd.DataFrame(\n",
    "    data=gene_corrs_data,\n",
    "    index=gene_chr_ids,\n",
    "    columns=gene_chr_ids,\n",
    ")\n",
    "\n",
    "output_dir.mkdir(exist_ok=True, parents=True)\n",
    "display(output_file)\n",
    "\n",
    "gene_corrs_df.to_pickle(output_file)"
   ]
  },
  {
   "cell_type": "markdown",
   "id": "faa67b51-5373-470f-aa72-2ded53fa6dfe",
   "metadata": {
    "papermill": {
     "duration": 0.311403,
     "end_time": "2022-07-11T07:19:07.497533",
     "exception": false,
     "start_time": "2022-07-11T07:19:07.186130",
     "status": "completed"
    },
    "tags": []
   },
   "source": [
    "# Testing"
   ]
  },
  {
   "cell_type": "code",
   "execution_count": 33,
   "id": "14f7d046-4b55-4896-a56b-990127bcc388",
   "metadata": {
    "execution": {
     "iopub.execute_input": "2022-07-11T07:19:08.174676Z",
     "iopub.status.busy": "2022-07-11T07:19:08.174510Z",
     "iopub.status.idle": "2022-07-11T07:19:08.205669Z",
     "shell.execute_reply": "2022-07-11T07:19:08.205266Z"
    },
    "papermill": {
     "duration": 0.364222,
     "end_time": "2022-07-11T07:19:08.206851",
     "exception": false,
     "start_time": "2022-07-11T07:19:07.842629",
     "status": "completed"
    },
    "tags": []
   },
   "outputs": [
    {
     "data": {
      "text/plain": [
       "(118, 118)"
      ]
     },
     "execution_count": 33,
     "metadata": {},
     "output_type": "execute_result"
    }
   ],
   "source": [
    "gene_corrs_df.shape"
   ]
  },
  {
   "cell_type": "code",
   "execution_count": 34,
   "id": "c7d15414-3297-4537-a7c6-7588c0baeb75",
   "metadata": {
    "execution": {
     "iopub.execute_input": "2022-07-11T07:19:08.791996Z",
     "iopub.status.busy": "2022-07-11T07:19:08.791831Z",
     "iopub.status.idle": "2022-07-11T07:19:08.822880Z",
     "shell.execute_reply": "2022-07-11T07:19:08.822502Z"
    },
    "papermill": {
     "duration": 0.291909,
     "end_time": "2022-07-11T07:19:08.828570",
     "exception": false,
     "start_time": "2022-07-11T07:19:08.536661",
     "status": "completed"
    },
    "tags": []
   },
   "outputs": [
    {
     "data": {
      "text/html": [
       "<div>\n",
       "<style scoped>\n",
       "    .dataframe tbody tr th:only-of-type {\n",
       "        vertical-align: middle;\n",
       "    }\n",
       "\n",
       "    .dataframe tbody tr th {\n",
       "        vertical-align: top;\n",
       "    }\n",
       "\n",
       "    .dataframe thead th {\n",
       "        text-align: right;\n",
       "    }\n",
       "</style>\n",
       "<table border=\"1\" class=\"dataframe\">\n",
       "  <thead>\n",
       "    <tr style=\"text-align: right;\">\n",
       "      <th></th>\n",
       "      <th>ENSG00000121741</th>\n",
       "      <th>ENSG00000121743</th>\n",
       "      <th>ENSG00000121742</th>\n",
       "      <th>ENSG00000032742</th>\n",
       "      <th>ENSG00000150457</th>\n",
       "      <th>ENSG00000150459</th>\n",
       "      <th>ENSG00000102678</th>\n",
       "      <th>ENSG00000127863</th>\n",
       "      <th>ENSG00000228741</th>\n",
       "      <th>ENSG00000102699</th>\n",
       "      <th>...</th>\n",
       "      <th>ENSG00000126217</th>\n",
       "      <th>ENSG00000057593</th>\n",
       "      <th>ENSG00000126231</th>\n",
       "      <th>ENSG00000139842</th>\n",
       "      <th>ENSG00000185896</th>\n",
       "      <th>ENSG00000198176</th>\n",
       "      <th>ENSG00000183087</th>\n",
       "      <th>ENSG00000185989</th>\n",
       "      <th>ENSG00000130177</th>\n",
       "      <th>ENSG00000169062</th>\n",
       "    </tr>\n",
       "  </thead>\n",
       "  <tbody>\n",
       "    <tr>\n",
       "      <th>ENSG00000121741</th>\n",
       "      <td>1.000000</td>\n",
       "      <td>0.024613</td>\n",
       "      <td>0.001492</td>\n",
       "      <td>0.003548</td>\n",
       "      <td>0.003639</td>\n",
       "      <td>0.008223</td>\n",
       "      <td>0.002423</td>\n",
       "      <td>0.007004</td>\n",
       "      <td>0.008128</td>\n",
       "      <td>0.003152</td>\n",
       "      <td>...</td>\n",
       "      <td>0.0</td>\n",
       "      <td>0.0</td>\n",
       "      <td>0.0</td>\n",
       "      <td>0.0</td>\n",
       "      <td>0.0</td>\n",
       "      <td>0.0</td>\n",
       "      <td>0.0</td>\n",
       "      <td>0.0</td>\n",
       "      <td>0.0</td>\n",
       "      <td>0.0</td>\n",
       "    </tr>\n",
       "    <tr>\n",
       "      <th>ENSG00000121743</th>\n",
       "      <td>0.024613</td>\n",
       "      <td>1.000000</td>\n",
       "      <td>0.021914</td>\n",
       "      <td>0.011446</td>\n",
       "      <td>0.011739</td>\n",
       "      <td>0.019022</td>\n",
       "      <td>0.005606</td>\n",
       "      <td>0.013557</td>\n",
       "      <td>0.012527</td>\n",
       "      <td>0.010330</td>\n",
       "      <td>...</td>\n",
       "      <td>0.0</td>\n",
       "      <td>0.0</td>\n",
       "      <td>0.0</td>\n",
       "      <td>0.0</td>\n",
       "      <td>0.0</td>\n",
       "      <td>0.0</td>\n",
       "      <td>0.0</td>\n",
       "      <td>0.0</td>\n",
       "      <td>0.0</td>\n",
       "      <td>0.0</td>\n",
       "    </tr>\n",
       "    <tr>\n",
       "      <th>ENSG00000121742</th>\n",
       "      <td>0.001492</td>\n",
       "      <td>0.021914</td>\n",
       "      <td>1.000000</td>\n",
       "      <td>0.012936</td>\n",
       "      <td>0.004079</td>\n",
       "      <td>0.010813</td>\n",
       "      <td>0.011754</td>\n",
       "      <td>0.010938</td>\n",
       "      <td>0.015148</td>\n",
       "      <td>0.010538</td>\n",
       "      <td>...</td>\n",
       "      <td>0.0</td>\n",
       "      <td>0.0</td>\n",
       "      <td>0.0</td>\n",
       "      <td>0.0</td>\n",
       "      <td>0.0</td>\n",
       "      <td>0.0</td>\n",
       "      <td>0.0</td>\n",
       "      <td>0.0</td>\n",
       "      <td>0.0</td>\n",
       "      <td>0.0</td>\n",
       "    </tr>\n",
       "    <tr>\n",
       "      <th>ENSG00000032742</th>\n",
       "      <td>0.003548</td>\n",
       "      <td>0.011446</td>\n",
       "      <td>0.012936</td>\n",
       "      <td>1.000000</td>\n",
       "      <td>0.018501</td>\n",
       "      <td>0.012047</td>\n",
       "      <td>0.015445</td>\n",
       "      <td>0.013732</td>\n",
       "      <td>0.007980</td>\n",
       "      <td>0.005516</td>\n",
       "      <td>...</td>\n",
       "      <td>0.0</td>\n",
       "      <td>0.0</td>\n",
       "      <td>0.0</td>\n",
       "      <td>0.0</td>\n",
       "      <td>0.0</td>\n",
       "      <td>0.0</td>\n",
       "      <td>0.0</td>\n",
       "      <td>0.0</td>\n",
       "      <td>0.0</td>\n",
       "      <td>0.0</td>\n",
       "    </tr>\n",
       "    <tr>\n",
       "      <th>ENSG00000150457</th>\n",
       "      <td>0.003639</td>\n",
       "      <td>0.011739</td>\n",
       "      <td>0.004079</td>\n",
       "      <td>0.018501</td>\n",
       "      <td>1.000000</td>\n",
       "      <td>0.008389</td>\n",
       "      <td>0.005361</td>\n",
       "      <td>0.009503</td>\n",
       "      <td>0.009890</td>\n",
       "      <td>0.005388</td>\n",
       "      <td>...</td>\n",
       "      <td>0.0</td>\n",
       "      <td>0.0</td>\n",
       "      <td>0.0</td>\n",
       "      <td>0.0</td>\n",
       "      <td>0.0</td>\n",
       "      <td>0.0</td>\n",
       "      <td>0.0</td>\n",
       "      <td>0.0</td>\n",
       "      <td>0.0</td>\n",
       "      <td>0.0</td>\n",
       "    </tr>\n",
       "  </tbody>\n",
       "</table>\n",
       "<p>5 rows × 118 columns</p>\n",
       "</div>"
      ],
      "text/plain": [
       "                 ENSG00000121741  ENSG00000121743  ENSG00000121742  \\\n",
       "ENSG00000121741         1.000000         0.024613         0.001492   \n",
       "ENSG00000121743         0.024613         1.000000         0.021914   \n",
       "ENSG00000121742         0.001492         0.021914         1.000000   \n",
       "ENSG00000032742         0.003548         0.011446         0.012936   \n",
       "ENSG00000150457         0.003639         0.011739         0.004079   \n",
       "\n",
       "                 ENSG00000032742  ENSG00000150457  ENSG00000150459  \\\n",
       "ENSG00000121741         0.003548         0.003639         0.008223   \n",
       "ENSG00000121743         0.011446         0.011739         0.019022   \n",
       "ENSG00000121742         0.012936         0.004079         0.010813   \n",
       "ENSG00000032742         1.000000         0.018501         0.012047   \n",
       "ENSG00000150457         0.018501         1.000000         0.008389   \n",
       "\n",
       "                 ENSG00000102678  ENSG00000127863  ENSG00000228741  \\\n",
       "ENSG00000121741         0.002423         0.007004         0.008128   \n",
       "ENSG00000121743         0.005606         0.013557         0.012527   \n",
       "ENSG00000121742         0.011754         0.010938         0.015148   \n",
       "ENSG00000032742         0.015445         0.013732         0.007980   \n",
       "ENSG00000150457         0.005361         0.009503         0.009890   \n",
       "\n",
       "                 ENSG00000102699  ...  ENSG00000126217  ENSG00000057593  \\\n",
       "ENSG00000121741         0.003152  ...              0.0              0.0   \n",
       "ENSG00000121743         0.010330  ...              0.0              0.0   \n",
       "ENSG00000121742         0.010538  ...              0.0              0.0   \n",
       "ENSG00000032742         0.005516  ...              0.0              0.0   \n",
       "ENSG00000150457         0.005388  ...              0.0              0.0   \n",
       "\n",
       "                 ENSG00000126231  ENSG00000139842  ENSG00000185896  \\\n",
       "ENSG00000121741              0.0              0.0              0.0   \n",
       "ENSG00000121743              0.0              0.0              0.0   \n",
       "ENSG00000121742              0.0              0.0              0.0   \n",
       "ENSG00000032742              0.0              0.0              0.0   \n",
       "ENSG00000150457              0.0              0.0              0.0   \n",
       "\n",
       "                 ENSG00000198176  ENSG00000183087  ENSG00000185989  \\\n",
       "ENSG00000121741              0.0              0.0              0.0   \n",
       "ENSG00000121743              0.0              0.0              0.0   \n",
       "ENSG00000121742              0.0              0.0              0.0   \n",
       "ENSG00000032742              0.0              0.0              0.0   \n",
       "ENSG00000150457              0.0              0.0              0.0   \n",
       "\n",
       "                 ENSG00000130177  ENSG00000169062  \n",
       "ENSG00000121741              0.0              0.0  \n",
       "ENSG00000121743              0.0              0.0  \n",
       "ENSG00000121742              0.0              0.0  \n",
       "ENSG00000032742              0.0              0.0  \n",
       "ENSG00000150457              0.0              0.0  \n",
       "\n",
       "[5 rows x 118 columns]"
      ]
     },
     "execution_count": 34,
     "metadata": {},
     "output_type": "execute_result"
    }
   ],
   "source": [
    "gene_corrs_df.head()"
   ]
  },
  {
   "cell_type": "code",
   "execution_count": 35,
   "id": "286686af-1b7b-4440-8453-6bdcbd8de19c",
   "metadata": {
    "execution": {
     "iopub.execute_input": "2022-07-11T07:19:09.431306Z",
     "iopub.status.busy": "2022-07-11T07:19:09.431033Z",
     "iopub.status.idle": "2022-07-11T07:19:09.446905Z",
     "shell.execute_reply": "2022-07-11T07:19:09.446457Z"
    },
    "papermill": {
     "duration": 0.295035,
     "end_time": "2022-07-11T07:19:09.448224",
     "exception": false,
     "start_time": "2022-07-11T07:19:09.153189",
     "status": "completed"
    },
    "tags": []
   },
   "outputs": [],
   "source": [
    "assert not gene_corrs_df.isna().any().any()"
   ]
  },
  {
   "cell_type": "code",
   "execution_count": 36,
   "id": "00583efc-7068-4270-ad1e-4a418e91db96",
   "metadata": {
    "execution": {
     "iopub.execute_input": "2022-07-11T07:19:09.982240Z",
     "iopub.status.busy": "2022-07-11T07:19:09.981903Z",
     "iopub.status.idle": "2022-07-11T07:19:09.998693Z",
     "shell.execute_reply": "2022-07-11T07:19:09.998116Z"
    },
    "papermill": {
     "duration": 0.265478,
     "end_time": "2022-07-11T07:19:09.999982",
     "exception": false,
     "start_time": "2022-07-11T07:19:09.734504",
     "status": "completed"
    },
    "tags": []
   },
   "outputs": [
    {
     "data": {
      "text/plain": [
       "0.0"
      ]
     },
     "metadata": {},
     "output_type": "display_data"
    }
   ],
   "source": [
    "_min_val = gene_corrs_df.min().min()\n",
    "display(_min_val)\n",
    "assert _min_val >= 0.0"
   ]
  },
  {
   "cell_type": "code",
   "execution_count": 37,
   "id": "d04fb2cf-1050-475b-b855-f5f7cc04092b",
   "metadata": {
    "execution": {
     "iopub.execute_input": "2022-07-11T07:19:10.522117Z",
     "iopub.status.busy": "2022-07-11T07:19:10.521954Z",
     "iopub.status.idle": "2022-07-11T07:19:10.542396Z",
     "shell.execute_reply": "2022-07-11T07:19:10.541887Z"
    },
    "papermill": {
     "duration": 0.298315,
     "end_time": "2022-07-11T07:19:10.543592",
     "exception": false,
     "start_time": "2022-07-11T07:19:10.245277",
     "status": "completed"
    },
    "tags": []
   },
   "outputs": [
    {
     "data": {
      "text/plain": [
       "1.0"
      ]
     },
     "metadata": {},
     "output_type": "display_data"
    }
   ],
   "source": [
    "_max_val = gene_corrs_df.max().max()  # this captures the diagonal\n",
    "display(_max_val)\n",
    "assert _max_val <= 1.0"
   ]
  },
  {
   "cell_type": "code",
   "execution_count": 38,
   "id": "96d02c44-1fba-47be-8a93-8f2608420b9c",
   "metadata": {
    "execution": {
     "iopub.execute_input": "2022-07-11T07:19:11.093685Z",
     "iopub.status.busy": "2022-07-11T07:19:11.093278Z",
     "iopub.status.idle": "2022-07-11T07:19:11.109657Z",
     "shell.execute_reply": "2022-07-11T07:19:11.109236Z"
    },
    "papermill": {
     "duration": 0.273117,
     "end_time": "2022-07-11T07:19:11.110861",
     "exception": false,
     "start_time": "2022-07-11T07:19:10.837744",
     "status": "completed"
    },
    "tags": []
   },
   "outputs": [],
   "source": [
    "# check upper triangular values\n",
    "assert len(gene_corrs) == int(genes_chr.shape[0] * (genes_chr.shape[0] - 1) / 2)"
   ]
  },
  {
   "cell_type": "code",
   "execution_count": 39,
   "id": "aaa51627-f4e3-4744-a41f-7d25adcc0a78",
   "metadata": {
    "execution": {
     "iopub.execute_input": "2022-07-11T07:19:11.655171Z",
     "iopub.status.busy": "2022-07-11T07:19:11.654776Z",
     "iopub.status.idle": "2022-07-11T07:19:11.670618Z",
     "shell.execute_reply": "2022-07-11T07:19:11.670171Z"
    },
    "papermill": {
     "duration": 0.283981,
     "end_time": "2022-07-11T07:19:11.672021",
     "exception": false,
     "start_time": "2022-07-11T07:19:11.388040",
     "status": "completed"
    },
    "tags": []
   },
   "outputs": [],
   "source": [
    "gene_corrs = pd.Series(gene_corrs)"
   ]
  },
  {
   "cell_type": "code",
   "execution_count": 40,
   "id": "fe283586-c348-40e0-8841-f6d97bfb021c",
   "metadata": {
    "execution": {
     "iopub.execute_input": "2022-07-11T07:19:12.194309Z",
     "iopub.status.busy": "2022-07-11T07:19:12.194140Z",
     "iopub.status.idle": "2022-07-11T07:19:12.212625Z",
     "shell.execute_reply": "2022-07-11T07:19:12.212187Z"
    },
    "papermill": {
     "duration": 0.294809,
     "end_time": "2022-07-11T07:19:12.213890",
     "exception": false,
     "start_time": "2022-07-11T07:19:11.919081",
     "status": "completed"
    },
    "tags": []
   },
   "outputs": [
    {
     "data": {
      "text/plain": [
       "count    6903.000000\n",
       "mean        0.004438\n",
       "std         0.036322\n",
       "min         0.000000\n",
       "25%         0.000000\n",
       "50%         0.000000\n",
       "75%         0.000000\n",
       "max         0.977987\n",
       "dtype: float64"
      ]
     },
     "execution_count": 40,
     "metadata": {},
     "output_type": "execute_result"
    }
   ],
   "source": [
    "gene_corrs.describe()"
   ]
  },
  {
   "cell_type": "code",
   "execution_count": 41,
   "id": "b3815678-0f93-4b35-897b-a9d047a2aa78",
   "metadata": {
    "execution": {
     "iopub.execute_input": "2022-07-11T07:19:12.722689Z",
     "iopub.status.busy": "2022-07-11T07:19:12.722375Z",
     "iopub.status.idle": "2022-07-11T07:19:12.741792Z",
     "shell.execute_reply": "2022-07-11T07:19:12.741408Z"
    },
    "papermill": {
     "duration": 0.276351,
     "end_time": "2022-07-11T07:19:12.743160",
     "exception": false,
     "start_time": "2022-07-11T07:19:12.466809",
     "status": "completed"
    },
    "tags": []
   },
   "outputs": [
    {
     "data": {
      "text/plain": [
       "0.00    0.000000\n",
       "0.05    0.000000\n",
       "0.10    0.000000\n",
       "0.15    0.000000\n",
       "0.20    0.000000\n",
       "0.25    0.000000\n",
       "0.30    0.000000\n",
       "0.35    0.000000\n",
       "0.40    0.000000\n",
       "0.45    0.000000\n",
       "0.50    0.000000\n",
       "0.55    0.000000\n",
       "0.60    0.000000\n",
       "0.65    0.000000\n",
       "0.70    0.000000\n",
       "0.75    0.000000\n",
       "0.80    0.000000\n",
       "0.85    0.000000\n",
       "0.90    0.007095\n",
       "0.95    0.012234\n",
       "dtype: float64"
      ]
     },
     "metadata": {},
     "output_type": "display_data"
    }
   ],
   "source": [
    "gene_corrs_quantiles = gene_corrs.quantile(np.arange(0, 1, 0.05))\n",
    "display(gene_corrs_quantiles)"
   ]
  },
  {
   "cell_type": "markdown",
   "id": "8e60a080-edb2-4e9c-b2ef-22961693200c",
   "metadata": {
    "papermill": {
     "duration": 0.320578,
     "end_time": "2022-07-11T07:19:13.444933",
     "exception": false,
     "start_time": "2022-07-11T07:19:13.124355",
     "status": "completed"
    },
    "tags": []
   },
   "source": [
    "## Plot: distribution"
   ]
  },
  {
   "cell_type": "code",
   "execution_count": 42,
   "id": "8301126b-a7d4-4744-9c7d-f0f86eb6f54c",
   "metadata": {
    "execution": {
     "iopub.execute_input": "2022-07-11T07:19:14.086886Z",
     "iopub.status.busy": "2022-07-11T07:19:14.086399Z",
     "iopub.status.idle": "2022-07-11T07:19:14.342453Z",
     "shell.execute_reply": "2022-07-11T07:19:14.342073Z"
    },
    "papermill": {
     "duration": 0.65207,
     "end_time": "2022-07-11T07:19:14.343758",
     "exception": false,
     "start_time": "2022-07-11T07:19:13.691688",
     "status": "completed"
    },
    "tags": []
   },
   "outputs": [
    {
     "data": {
      "image/png": "[encoded data removed]",
      "text/plain": [
       "<Figure size 504x504 with 1 Axes>"
      ]
     },
     "metadata": {
      "needs_background": "light"
     },
     "output_type": "display_data"
    }
   ],
   "source": [
    "with sns.plotting_context(\"paper\", font_scale=1.5):\n",
    "    g = sns.displot(gene_corrs, kde=True, height=7)\n",
    "    g.ax.set_title(\n",
    "        f\"Distribution of gene correlation values in chromosome {chromosome}\"\n",
    "    )"
   ]
  },
  {
   "cell_type": "markdown",
   "id": "cbd52bca-d878-4a2f-b684-5c83aa3038d4",
   "metadata": {
    "papermill": {
     "duration": 0.268609,
     "end_time": "2022-07-11T07:19:14.872578",
     "exception": false,
     "start_time": "2022-07-11T07:19:14.603969",
     "status": "completed"
    },
    "tags": []
   },
   "source": [
    "## Plot: heatmap"
   ]
  },
  {
   "cell_type": "code",
   "execution_count": 43,
   "id": "d03fe63a-c7b2-4fb9-a53c-db362ce843c9",
   "metadata": {
    "execution": {
     "iopub.execute_input": "2022-07-11T07:19:15.395657Z",
     "iopub.status.busy": "2022-07-11T07:19:15.395481Z",
     "iopub.status.idle": "2022-07-11T07:19:15.413760Z",
     "shell.execute_reply": "2022-07-11T07:19:15.413345Z"
    },
    "papermill": {
     "duration": 0.265598,
     "end_time": "2022-07-11T07:19:15.415157",
     "exception": false,
     "start_time": "2022-07-11T07:19:15.149559",
     "status": "completed"
    },
    "tags": []
   },
   "outputs": [
    {
     "data": {
      "text/plain": [
       "'-0.05 / 0.05'"
      ]
     },
     "metadata": {},
     "output_type": "display_data"
    }
   ],
   "source": [
    "vmin_val = min(-0.05, gene_corrs_quantiles[0.10])\n",
    "vmax_val = max(0.05, gene_corrs_quantiles[0.90])\n",
    "display(f\"{vmin_val} / {vmax_val}\")"
   ]
  },
  {
   "cell_type": "code",
   "execution_count": 44,
   "id": "dc41b70b-5bcc-4d9e-9f33-a22c4a94dab5",
   "metadata": {
    "execution": {
     "iopub.execute_input": "2022-07-11T07:19:15.940507Z",
     "iopub.status.busy": "2022-07-11T07:19:15.940061Z",
     "iopub.status.idle": "2022-07-11T07:19:16.078117Z",
     "shell.execute_reply": "2022-07-11T07:19:16.077697Z"
    },
    "papermill": {
     "duration": 0.416557,
     "end_time": "2022-07-11T07:19:16.079574",
     "exception": false,
     "start_time": "2022-07-11T07:19:15.663017",
     "status": "completed"
    },
    "tags": []
   },
   "outputs": [
    {
     "data": {
      "text/plain": [
       "Text(0.5, 1.0, 'Gene correlations in chromosome 13')"
      ]
     },
     "execution_count": 44,
     "metadata": {},
     "output_type": "execute_result"
    },
    {
     "data": {
      "image/png": "[encoded data removed]",
      "text/plain": [
       "<Figure size 720x720 with 2 Axes>"
      ]
     },
     "metadata": {
      "needs_background": "light"
     },
     "output_type": "display_data"
    }
   ],
   "source": [
    "f, ax = plt.subplots(figsize=(10, 10))\n",
    "sns.heatmap(\n",
    "    gene_corrs_df,\n",
    "    xticklabels=False,\n",
    "    yticklabels=False,\n",
    "    square=True,\n",
    "    vmin=vmin_val,\n",
    "    vmax=vmax_val,\n",
    "    cmap=\"YlGnBu\",\n",
    "    ax=ax,\n",
    ")\n",
    "ax.set_title(f\"Gene correlations in chromosome {chromosome}\")"
   ]
  },
  {
   "cell_type": "code",
   "execution_count": null,
   "id": "b25e3ead",
   "metadata": {
    "papermill": {
     "duration": 0.246876,
     "end_time": "2022-07-11T07:19:16.582972",
     "exception": false,
     "start_time": "2022-07-11T07:19:16.336096",
     "status": "completed"
    },
    "tags": []
   },
   "outputs": [],
   "source": []
  }
 ],
 "metadata": {
  "jupytext": {
   "cell_metadata_filter": "all,-execution,-papermill,-trusted",
   "formats": "ipynb,py//py:percent"
  },
  "kernelspec": {
   "display_name": "Python 3 (ipykernel)",
   "language": "python",
   "name": "python3"
  },
  "language_info": {
   "codemirror_mode": {
    "name": "ipython",
    "version": 3
   },
   "file_extension": ".py",
   "mimetype": "text/x-python",
   "name": "python",
   "nbconvert_exporter": "python",
   "pygments_lexer": "ipython3",
   "version": "3.8.13"
  },
  "papermill": {
   "default_parameters": {},
   "duration": 159.497674,
   "end_time": "2022-07-11T07:19:20.311221",
   "environment_variables": {},
   "exception": null,
   "input_path": "nbs/15_gsa_gls/10-gene_expr_correlations.ipynb",
   "output_path": "nbs/15_gsa_gls/gene_corrs/1000g/mashr/10-gene_expr_correlations-chr13.run.ipynb",
   "parameters": {
    "EQTL_MODEL": "MASHR",
    "REFERENCE_PANEL": "1000G",
    "chromosome": 13
   },
   "start_time": "2022-07-11T07:16:40.813547",
   "version": "2.2.2"
  }
 },
 "nbformat": 4,
 "nbformat_minor": 5
}
