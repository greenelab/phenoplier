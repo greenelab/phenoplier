{
 "cells": [
  {
   "cell_type": "markdown",
   "id": "28fc82fa-c3f6-4184-8054-cc91c7c6e2e7",
   "metadata": {
    "papermill": {
     "duration": 0.004315,
     "end_time": "2022-07-12T13:07:35.212426",
     "exception": false,
     "start_time": "2022-07-12T13:07:35.208111",
     "status": "completed"
    },
    "tags": []
   },
   "source": [
    "# Description"
   ]
  },
  {
   "cell_type": "markdown",
   "id": "36839b17-916e-4aec-8fee-96faf1097e78",
   "metadata": {
    "papermill": {
     "duration": 0.003586,
     "end_time": "2022-07-12T13:07:35.219761",
     "exception": false,
     "start_time": "2022-07-12T13:07:35.216175",
     "status": "completed"
    },
    "tags": []
   },
   "source": [
    "**TODO**"
   ]
  },
  {
   "cell_type": "markdown",
   "id": "249e8aa3-ef1a-4bba-a6dd-58120ad80794",
   "metadata": {
    "papermill": {
     "duration": 0.003611,
     "end_time": "2022-07-12T13:07:35.227230",
     "exception": false,
     "start_time": "2022-07-12T13:07:35.223619",
     "status": "completed"
    },
    "tags": []
   },
   "source": [
    "# Modules"
   ]
  },
  {
   "cell_type": "code",
   "execution_count": 1,
   "id": "f9b5022b-7c5e-4d37-9c7a-fdb91777c7f9",
   "metadata": {
    "execution": {
     "iopub.execute_input": "2022-07-12T13:07:35.238227Z",
     "iopub.status.busy": "2022-07-12T13:07:35.236332Z",
     "iopub.status.idle": "2022-07-12T13:07:38.639689Z",
     "shell.execute_reply": "2022-07-12T13:07:38.638337Z"
    },
    "papermill": {
     "duration": 3.410326,
     "end_time": "2022-07-12T13:07:38.641389",
     "exception": false,
     "start_time": "2022-07-12T13:07:35.231063",
     "status": "completed"
    },
    "tags": []
   },
   "outputs": [],
   "source": [
    "library(reticulate)\n",
    "pd <- import(\"pandas\")"
   ]
  },
  {
   "cell_type": "markdown",
   "id": "69e80173-3a39-4b6a-b723-602687cb255b",
   "metadata": {
    "papermill": {
     "duration": 0.003519,
     "end_time": "2022-07-12T13:07:38.649121",
     "exception": false,
     "start_time": "2022-07-12T13:07:38.645602",
     "status": "completed"
    },
    "tags": []
   },
   "source": [
    "# Settings"
   ]
  },
  {
   "cell_type": "code",
   "execution_count": 2,
   "id": "22d12bb4-1699-4a6b-b1b9-d3fdd3d547d7",
   "metadata": {
    "execution": {
     "iopub.execute_input": "2022-07-12T13:07:38.679041Z",
     "iopub.status.busy": "2022-07-12T13:07:38.656575Z",
     "iopub.status.idle": "2022-07-12T13:07:38.692561Z",
     "shell.execute_reply": "2022-07-12T13:07:38.691061Z"
    },
    "papermill": {
     "duration": 0.041937,
     "end_time": "2022-07-12T13:07:38.694330",
     "exception": false,
     "start_time": "2022-07-12T13:07:38.652393",
     "status": "completed"
    },
    "tags": [
     "parameters"
    ]
   },
   "outputs": [],
   "source": [
    "# reference panel\n",
    "REFERENCE_PANEL <- \"GTEX_V8\"\n",
    "# REFERENCE_PANEL = \"1000G\"\n",
    "\n",
    "# prediction models\n",
    "## mashr\n",
    "EQTL_MODEL <- \"MASHR\"\n",
    "\n",
    "chromosome <- NULL"
   ]
  },
  {
   "cell_type": "code",
   "execution_count": 3,
   "id": "fce0640b",
   "metadata": {
    "execution": {
     "iopub.execute_input": "2022-07-12T13:07:38.703631Z",
     "iopub.status.busy": "2022-07-12T13:07:38.702480Z",
     "iopub.status.idle": "2022-07-12T13:07:38.722034Z",
     "shell.execute_reply": "2022-07-12T13:07:38.720681Z"
    },
    "papermill": {
     "duration": 0.026128,
     "end_time": "2022-07-12T13:07:38.724089",
     "exception": false,
     "start_time": "2022-07-12T13:07:38.697961",
     "status": "completed"
    },
    "tags": [
     "injected-parameters"
    ]
   },
   "outputs": [],
   "source": [
    "# Parameters\n",
    "chromosome = 17\n",
    "REFERENCE_PANEL = \"1000G\"\n",
    "EQTL_MODEL = \"MASHR\"\n"
   ]
  },
  {
   "cell_type": "code",
   "execution_count": 4,
   "id": "8fe24bef",
   "metadata": {
    "execution": {
     "iopub.execute_input": "2022-07-12T13:07:38.733953Z",
     "iopub.status.busy": "2022-07-12T13:07:38.732803Z",
     "iopub.status.idle": "2022-07-12T13:07:38.747282Z",
     "shell.execute_reply": "2022-07-12T13:07:38.745389Z"
    },
    "papermill": {
     "duration": 0.021124,
     "end_time": "2022-07-12T13:07:38.749284",
     "exception": false,
     "start_time": "2022-07-12T13:07:38.728160",
     "status": "completed"
    },
    "tags": []
   },
   "outputs": [
    {
     "data": {
      "text/html": [
       "'Using reference panel: 1000G'"
      ],
      "text/latex": [
       "'Using reference panel: 1000G'"
      ],
      "text/markdown": [
       "'Using reference panel: 1000G'"
      ],
      "text/plain": [
       "[1] \"Using reference panel: 1000G\""
      ]
     },
     "metadata": {},
     "output_type": "display_data"
    }
   ],
   "source": [
    "paste0(\"Using reference panel: \", REFERENCE_PANEL)"
   ]
  },
  {
   "cell_type": "code",
   "execution_count": 5,
   "id": "d62c28f8-186c-478b-948c-58e14f00df4b",
   "metadata": {
    "execution": {
     "iopub.execute_input": "2022-07-12T13:07:38.760049Z",
     "iopub.status.busy": "2022-07-12T13:07:38.758898Z",
     "iopub.status.idle": "2022-07-12T13:07:38.771274Z",
     "shell.execute_reply": "2022-07-12T13:07:38.769915Z"
    },
    "papermill": {
     "duration": 0.019444,
     "end_time": "2022-07-12T13:07:38.773135",
     "exception": false,
     "start_time": "2022-07-12T13:07:38.753691",
     "status": "completed"
    },
    "tags": []
   },
   "outputs": [
    {
     "data": {
      "text/html": [
       "'Using eQTL model: MASHR'"
      ],
      "text/latex": [
       "'Using eQTL model: MASHR'"
      ],
      "text/markdown": [
       "'Using eQTL model: MASHR'"
      ],
      "text/plain": [
       "[1] \"Using eQTL model: MASHR\""
      ]
     },
     "metadata": {},
     "output_type": "display_data"
    }
   ],
   "source": [
    "paste0(\"Using eQTL model: \", EQTL_MODEL)"
   ]
  },
  {
   "cell_type": "code",
   "execution_count": 6,
   "id": "5243676f-c889-4405-9a4d-262f0f044614",
   "metadata": {
    "execution": {
     "iopub.execute_input": "2022-07-12T13:07:38.784281Z",
     "iopub.status.busy": "2022-07-12T13:07:38.782962Z",
     "iopub.status.idle": "2022-07-12T13:07:38.793183Z",
     "shell.execute_reply": "2022-07-12T13:07:38.791952Z"
    },
    "papermill": {
     "duration": 0.017378,
     "end_time": "2022-07-12T13:07:38.794945",
     "exception": false,
     "start_time": "2022-07-12T13:07:38.777567",
     "status": "completed"
    },
    "tags": []
   },
   "outputs": [],
   "source": [
    "# chromosome must be provided as parameter\n",
    "stopifnot(!is.null(chromosome))"
   ]
  },
  {
   "cell_type": "markdown",
   "id": "c05e4d34-e115-48cd-8a2e-225109eb0042",
   "metadata": {
    "papermill": {
     "duration": 0.003645,
     "end_time": "2022-07-12T13:07:38.802530",
     "exception": false,
     "start_time": "2022-07-12T13:07:38.798885",
     "status": "completed"
    },
    "tags": []
   },
   "source": [
    "# Paths"
   ]
  },
  {
   "cell_type": "code",
   "execution_count": 7,
   "id": "eb6aa8aa-b452-4a2f-a780-93dd80ad4285",
   "metadata": {
    "execution": {
     "iopub.execute_input": "2022-07-12T13:07:38.812134Z",
     "iopub.status.busy": "2022-07-12T13:07:38.811013Z",
     "iopub.status.idle": "2022-07-12T13:07:38.824677Z",
     "shell.execute_reply": "2022-07-12T13:07:38.823332Z"
    },
    "papermill": {
     "duration": 0.020231,
     "end_time": "2022-07-12T13:07:38.826509",
     "exception": false,
     "start_time": "2022-07-12T13:07:38.806278",
     "status": "completed"
    },
    "tags": []
   },
   "outputs": [
    {
     "data": {
      "text/html": [
       "'/opt/data/data/phenomexcan/ld_blocks/gene_corrs'"
      ],
      "text/latex": [
       "'/opt/data/data/phenomexcan/ld\\_blocks/gene\\_corrs'"
      ],
      "text/markdown": [
       "'/opt/data/data/phenomexcan/ld_blocks/gene_corrs'"
      ],
      "text/plain": [
       "[1] \"/opt/data/data/phenomexcan/ld_blocks/gene_corrs\""
      ]
     },
     "metadata": {},
     "output_type": "display_data"
    }
   ],
   "source": [
    "GENE_CORRS_DIR <- Sys.getenv(\"PHENOPLIER_PHENOMEXCAN_LD_BLOCKS_GENE_CORRS_DIR\")\n",
    "IRdisplay::display(GENE_CORRS_DIR)"
   ]
  },
  {
   "cell_type": "code",
   "execution_count": 8,
   "id": "eb24f15f-f282-4476-8943-8413c4483f12",
   "metadata": {
    "execution": {
     "iopub.execute_input": "2022-07-12T13:07:38.837016Z",
     "iopub.status.busy": "2022-07-12T13:07:38.835916Z",
     "iopub.status.idle": "2022-07-12T13:07:38.849588Z",
     "shell.execute_reply": "2022-07-12T13:07:38.848291Z"
    },
    "papermill": {
     "duration": 0.020704,
     "end_time": "2022-07-12T13:07:38.851422",
     "exception": false,
     "start_time": "2022-07-12T13:07:38.830718",
     "status": "completed"
    },
    "tags": []
   },
   "outputs": [
    {
     "data": {
      "text/html": [
       "'/opt/data/data/phenomexcan/ld_blocks/gene_corrs/1000g/mashr/by_chr'"
      ],
      "text/latex": [
       "'/opt/data/data/phenomexcan/ld\\_blocks/gene\\_corrs/1000g/mashr/by\\_chr'"
      ],
      "text/markdown": [
       "'/opt/data/data/phenomexcan/ld_blocks/gene_corrs/1000g/mashr/by_chr'"
      ],
      "text/plain": [
       "[1] \"/opt/data/data/phenomexcan/ld_blocks/gene_corrs/1000g/mashr/by_chr\""
      ]
     },
     "metadata": {},
     "output_type": "display_data"
    }
   ],
   "source": [
    "INPUT_DIR <- file.path(GENE_CORRS_DIR, tolower(REFERENCE_PANEL), tolower(EQTL_MODEL), \"by_chr\")\n",
    "IRdisplay::display(INPUT_DIR)"
   ]
  },
  {
   "cell_type": "code",
   "execution_count": 9,
   "id": "43c1daba-0da9-4822-8d1e-968e9767e251",
   "metadata": {
    "execution": {
     "iopub.execute_input": "2022-07-12T13:07:38.862033Z",
     "iopub.status.busy": "2022-07-12T13:07:38.860934Z",
     "iopub.status.idle": "2022-07-12T13:07:38.875073Z",
     "shell.execute_reply": "2022-07-12T13:07:38.873895Z"
    },
    "papermill": {
     "duration": 0.020977,
     "end_time": "2022-07-12T13:07:38.876789",
     "exception": false,
     "start_time": "2022-07-12T13:07:38.855812",
     "status": "completed"
    },
    "tags": []
   },
   "outputs": [
    {
     "data": {
      "text/html": [
       "'/opt/data/data/phenomexcan/ld_blocks/gene_corrs/1000g/mashr/by_chr/gene_corrs-chr17.pkl'"
      ],
      "text/latex": [
       "'/opt/data/data/phenomexcan/ld\\_blocks/gene\\_corrs/1000g/mashr/by\\_chr/gene\\_corrs-chr17.pkl'"
      ],
      "text/markdown": [
       "'/opt/data/data/phenomexcan/ld_blocks/gene_corrs/1000g/mashr/by_chr/gene_corrs-chr17.pkl'"
      ],
      "text/plain": [
       "[1] \"/opt/data/data/phenomexcan/ld_blocks/gene_corrs/1000g/mashr/by_chr/gene_corrs-chr17.pkl\""
      ]
     },
     "metadata": {},
     "output_type": "display_data"
    }
   ],
   "source": [
    "INPUT_FILE <- file.path(INPUT_DIR, paste0(\"gene_corrs-chr\", chromosome, \".pkl\"))\n",
    "IRdisplay::display(INPUT_FILE)\n",
    "stopifnot(file.exists(INPUT_FILE))"
   ]
  },
  {
   "cell_type": "code",
   "execution_count": 10,
   "id": "72386fbf-982b-420a-9057-ea9a97a5e571",
   "metadata": {
    "execution": {
     "iopub.execute_input": "2022-07-12T13:07:38.886878Z",
     "iopub.status.busy": "2022-07-12T13:07:38.885826Z",
     "iopub.status.idle": "2022-07-12T13:07:38.900013Z",
     "shell.execute_reply": "2022-07-12T13:07:38.898788Z"
    },
    "papermill": {
     "duration": 0.020872,
     "end_time": "2022-07-12T13:07:38.901749",
     "exception": false,
     "start_time": "2022-07-12T13:07:38.880877",
     "status": "completed"
    },
    "tags": []
   },
   "outputs": [
    {
     "data": {
      "text/html": [
       "'/opt/data/data/phenomexcan/ld_blocks/gene_corrs/1000g/mashr/by_chr/corrected_positive_definite'"
      ],
      "text/latex": [
       "'/opt/data/data/phenomexcan/ld\\_blocks/gene\\_corrs/1000g/mashr/by\\_chr/corrected\\_positive\\_definite'"
      ],
      "text/markdown": [
       "'/opt/data/data/phenomexcan/ld_blocks/gene_corrs/1000g/mashr/by_chr/corrected_positive_definite'"
      ],
      "text/plain": [
       "[1] \"/opt/data/data/phenomexcan/ld_blocks/gene_corrs/1000g/mashr/by_chr/corrected_positive_definite\""
      ]
     },
     "metadata": {},
     "output_type": "display_data"
    }
   ],
   "source": [
    "OUTPUT_DIR <- file.path(INPUT_DIR, \"corrected_positive_definite\")\n",
    "IRdisplay::display(OUTPUT_DIR)\n",
    "dir.create(OUTPUT_DIR, recursive = TRUE, showWarnings = FALSE)"
   ]
  },
  {
   "cell_type": "code",
   "execution_count": 11,
   "id": "f9f19d1d-ce4c-4099-a26e-250fec751de7",
   "metadata": {
    "execution": {
     "iopub.execute_input": "2022-07-12T13:07:38.912289Z",
     "iopub.status.busy": "2022-07-12T13:07:38.911249Z",
     "iopub.status.idle": "2022-07-12T13:07:38.925353Z",
     "shell.execute_reply": "2022-07-12T13:07:38.924140Z"
    },
    "papermill": {
     "duration": 0.020997,
     "end_time": "2022-07-12T13:07:38.927115",
     "exception": false,
     "start_time": "2022-07-12T13:07:38.906118",
     "status": "completed"
    },
    "tags": []
   },
   "outputs": [
    {
     "data": {
      "text/html": [
       "'/opt/data/data/phenomexcan/ld_blocks/gene_corrs/1000g/mashr/by_chr/corrected_positive_definite/gene_corrs-chr17.pkl'"
      ],
      "text/latex": [
       "'/opt/data/data/phenomexcan/ld\\_blocks/gene\\_corrs/1000g/mashr/by\\_chr/corrected\\_positive\\_definite/gene\\_corrs-chr17.pkl'"
      ],
      "text/markdown": [
       "'/opt/data/data/phenomexcan/ld_blocks/gene_corrs/1000g/mashr/by_chr/corrected_positive_definite/gene_corrs-chr17.pkl'"
      ],
      "text/plain": [
       "[1] \"/opt/data/data/phenomexcan/ld_blocks/gene_corrs/1000g/mashr/by_chr/corrected_positive_definite/gene_corrs-chr17.pkl\""
      ]
     },
     "metadata": {},
     "output_type": "display_data"
    }
   ],
   "source": [
    "OUTPUT_FILE <- file.path(OUTPUT_DIR, paste0(\"gene_corrs-chr\", chromosome, \".pkl\"))\n",
    "IRdisplay::display(OUTPUT_FILE)\n",
    "if (file.exists(OUTPUT_FILE)) {\n",
    "  IRdisplay::display(\"Output file exists, it will be overwritten\")\n",
    "}"
   ]
  },
  {
   "cell_type": "markdown",
   "id": "24973e62-e888-4b56-843f-489d8d0762b5",
   "metadata": {
    "papermill": {
     "duration": 0.004193,
     "end_time": "2022-07-12T13:07:38.935641",
     "exception": false,
     "start_time": "2022-07-12T13:07:38.931448",
     "status": "completed"
    },
    "tags": []
   },
   "source": [
    "# Functions"
   ]
  },
  {
   "cell_type": "code",
   "execution_count": 12,
   "id": "f828f081-7358-4cc8-8a89-1ee293bcc1a7",
   "metadata": {
    "execution": {
     "iopub.execute_input": "2022-07-12T13:07:38.949119Z",
     "iopub.status.busy": "2022-07-12T13:07:38.945128Z",
     "iopub.status.idle": "2022-07-12T13:07:38.957782Z",
     "shell.execute_reply": "2022-07-12T13:07:38.956445Z"
    },
    "papermill": {
     "duration": 0.020493,
     "end_time": "2022-07-12T13:07:38.960458",
     "exception": false,
     "start_time": "2022-07-12T13:07:38.939965",
     "status": "completed"
    },
    "tags": []
   },
   "outputs": [],
   "source": [
    "# taken from https://www.r-bloggers.com/2013/08/correcting-a-pseudo-correlation-matrix-to-be-positive-semidefinite/\n",
    "# TODO: add documentation\n",
    "CorrectCM <- function(CM, p = 0) {\n",
    "  n <- dim(var(CM))[1L]\n",
    "  E <- eigen(CM)\n",
    "  CM1 <- E$vectors %*% tcrossprod(diag(pmax(E$values, p), n), E$vectors)\n",
    "  Balance <- diag(1 / sqrt(diag(CM1)))\n",
    "  CM2 <- Balance %*% CM1 %*% Balance\n",
    "  return(CM2)\n",
    "}"
   ]
  },
  {
   "cell_type": "code",
   "execution_count": 13,
   "id": "7ab9bebf-50a1-4e6f-b16a-e23cae93d02a",
   "metadata": {
    "execution": {
     "iopub.execute_input": "2022-07-12T13:07:38.972612Z",
     "iopub.status.busy": "2022-07-12T13:07:38.971395Z",
     "iopub.status.idle": "2022-07-12T13:07:38.986161Z",
     "shell.execute_reply": "2022-07-12T13:07:38.983973Z"
    },
    "papermill": {
     "duration": 0.022721,
     "end_time": "2022-07-12T13:07:38.987996",
     "exception": false,
     "start_time": "2022-07-12T13:07:38.965275",
     "status": "completed"
    },
    "tags": []
   },
   "outputs": [],
   "source": [
    "is_positive_definite <- function(data) {\n",
    "  # eigenvalues <- eigen(data)$values\n",
    "  # nonpositive_eigenvalues <- eigenvalues[eigenvalues <= 0]\n",
    "\n",
    "  cholStatus <- try(u <- chol(data), silent = FALSE)\n",
    "  cholError <- ifelse(class(cholStatus) == \"try-error\", TRUE, FALSE)\n",
    "\n",
    "  if (cholError) {\n",
    "    return(FALSE)\n",
    "  } else {\n",
    "    return(TRUE)\n",
    "  }\n",
    "}"
   ]
  },
  {
   "cell_type": "markdown",
   "id": "7403fd78-00b2-4941-9c07-3c3af1ddc636",
   "metadata": {
    "papermill": {
     "duration": 0.004561,
     "end_time": "2022-07-12T13:07:38.998108",
     "exception": false,
     "start_time": "2022-07-12T13:07:38.993547",
     "status": "completed"
    },
    "tags": []
   },
   "source": [
    "# Load data"
   ]
  },
  {
   "cell_type": "code",
   "execution_count": 14,
   "id": "3a7744e1-2e5a-450e-9dcf-945ec181347d",
   "metadata": {
    "execution": {
     "iopub.execute_input": "2022-07-12T13:07:39.009250Z",
     "iopub.status.busy": "2022-07-12T13:07:39.008212Z",
     "iopub.status.idle": "2022-07-12T13:07:39.090849Z",
     "shell.execute_reply": "2022-07-12T13:07:39.089615Z"
    },
    "papermill": {
     "duration": 0.089959,
     "end_time": "2022-07-12T13:07:39.092649",
     "exception": false,
     "start_time": "2022-07-12T13:07:39.002690",
     "status": "completed"
    },
    "tags": []
   },
   "outputs": [],
   "source": [
    "gene_corrs <- pd$read_pickle(INPUT_FILE)"
   ]
  },
  {
   "cell_type": "code",
   "execution_count": 15,
   "id": "6fb150b2-4c68-4e9b-9aa5-1890d3f762e3",
   "metadata": {
    "execution": {
     "iopub.execute_input": "2022-07-12T13:07:39.103479Z",
     "iopub.status.busy": "2022-07-12T13:07:39.102455Z",
     "iopub.status.idle": "2022-07-12T13:07:39.113671Z",
     "shell.execute_reply": "2022-07-12T13:07:39.112466Z"
    },
    "papermill": {
     "duration": 0.018139,
     "end_time": "2022-07-12T13:07:39.115400",
     "exception": false,
     "start_time": "2022-07-12T13:07:39.097261",
     "status": "completed"
    },
    "tags": []
   },
   "outputs": [
    {
     "data": {
      "text/html": [
       "<style>\n",
       ".list-inline {list-style: none; margin:0; padding: 0}\n",
       ".list-inline>li {display: inline-block}\n",
       ".list-inline>li:not(:last-child)::after {content: \"\\00b7\"; padding: 0 .5ex}\n",
       "</style>\n",
       "<ol class=list-inline><li>411</li><li>411</li></ol>\n"
      ],
      "text/latex": [
       "\\begin{enumerate*}\n",
       "\\item 411\n",
       "\\item 411\n",
       "\\end{enumerate*}\n"
      ],
      "text/markdown": [
       "1. 411\n",
       "2. 411\n",
       "\n",
       "\n"
      ],
      "text/plain": [
       "[1] 411 411"
      ]
     },
     "metadata": {},
     "output_type": "display_data"
    }
   ],
   "source": [
    "dim(gene_corrs)"
   ]
  },
  {
   "cell_type": "code",
   "execution_count": 16,
   "id": "0d4e53b5-7586-4a68-8ce5-d930d74ba943",
   "metadata": {
    "execution": {
     "iopub.execute_input": "2022-07-12T13:07:39.126693Z",
     "iopub.status.busy": "2022-07-12T13:07:39.125658Z",
     "iopub.status.idle": "2022-07-12T13:07:39.146047Z",
     "shell.execute_reply": "2022-07-12T13:07:39.144884Z"
    },
    "papermill": {
     "duration": 0.0277,
     "end_time": "2022-07-12T13:07:39.147686",
     "exception": false,
     "start_time": "2022-07-12T13:07:39.119986",
     "status": "completed"
    },
    "tags": []
   },
   "outputs": [
    {
     "data": {
      "text/html": [
       "<table class=\"dataframe\">\n",
       "<caption>A data.frame: 6 × 10</caption>\n",
       "<thead>\n",
       "\t<tr><th></th><th scope=col>ENSG00000141252</th><th scope=col>ENSG00000179409</th><th scope=col>ENSG00000177370</th><th scope=col>ENSG00000159842</th><th scope=col>ENSG00000108953</th><th scope=col>ENSG00000167193</th><th scope=col>ENSG00000132376</th><th scope=col>ENSG00000174238</th><th scope=col>ENSG00000167703</th><th scope=col>ENSG00000074660</th></tr>\n",
       "\t<tr><th></th><th scope=col>&lt;dbl&gt;</th><th scope=col>&lt;dbl&gt;</th><th scope=col>&lt;dbl&gt;</th><th scope=col>&lt;dbl&gt;</th><th scope=col>&lt;dbl&gt;</th><th scope=col>&lt;dbl&gt;</th><th scope=col>&lt;dbl&gt;</th><th scope=col>&lt;dbl&gt;</th><th scope=col>&lt;dbl&gt;</th><th scope=col>&lt;dbl&gt;</th></tr>\n",
       "</thead>\n",
       "<tbody>\n",
       "\t<tr><th scope=row>ENSG00000141252</th><td>1.00000000</td><td>0.35780789</td><td>0.010011849</td><td>0.01377192</td><td>0.00444020</td><td>0.004143520</td><td>0.004822640</td><td>0.003588880</td><td>0.007753406</td><td>0.002159075</td></tr>\n",
       "\t<tr><th scope=row>ENSG00000179409</th><td>0.35780789</td><td>1.00000000</td><td>0.014970151</td><td>0.01770324</td><td>0.01251407</td><td>0.009100100</td><td>0.008721908</td><td>0.005277922</td><td>0.016283745</td><td>0.006706836</td></tr>\n",
       "\t<tr><th scope=row>ENSG00000177370</th><td>0.01001185</td><td>0.01497015</td><td>1.000000000</td><td>0.02570040</td><td>0.00899150</td><td>0.007758048</td><td>0.004638207</td><td>0.008483488</td><td>0.015865313</td><td>0.006262646</td></tr>\n",
       "\t<tr><th scope=row>ENSG00000159842</th><td>0.01377192</td><td>0.01770324</td><td>0.025700403</td><td>1.00000000</td><td>0.02891454</td><td>0.016799926</td><td>0.015119181</td><td>0.012697359</td><td>0.022391914</td><td>0.013776858</td></tr>\n",
       "\t<tr><th scope=row>ENSG00000108953</th><td>0.00444020</td><td>0.01251407</td><td>0.008991500</td><td>0.02891454</td><td>1.00000000</td><td>0.138716139</td><td>0.027416178</td><td>0.021850641</td><td>0.019317545</td><td>0.005181194</td></tr>\n",
       "\t<tr><th scope=row>ENSG00000167193</th><td>0.00414352</td><td>0.00910010</td><td>0.007758048</td><td>0.01679993</td><td>0.13871614</td><td>1.000000000</td><td>0.037590146</td><td>0.024752790</td><td>0.107401072</td><td>0.035616018</td></tr>\n",
       "</tbody>\n",
       "</table>\n"
      ],
      "text/latex": [
       "A data.frame: 6 × 10\n",
       "\\begin{tabular}{r|llllllllll}\n",
       "  & ENSG00000141252 & ENSG00000179409 & ENSG00000177370 & ENSG00000159842 & ENSG00000108953 & ENSG00000167193 & ENSG00000132376 & ENSG00000174238 & ENSG00000167703 & ENSG00000074660\\\\\n",
       "  & <dbl> & <dbl> & <dbl> & <dbl> & <dbl> & <dbl> & <dbl> & <dbl> & <dbl> & <dbl>\\\\\n",
       "\\hline\n",
       "\tENSG00000141252 & 1.00000000 & 0.35780789 & 0.010011849 & 0.01377192 & 0.00444020 & 0.004143520 & 0.004822640 & 0.003588880 & 0.007753406 & 0.002159075\\\\\n",
       "\tENSG00000179409 & 0.35780789 & 1.00000000 & 0.014970151 & 0.01770324 & 0.01251407 & 0.009100100 & 0.008721908 & 0.005277922 & 0.016283745 & 0.006706836\\\\\n",
       "\tENSG00000177370 & 0.01001185 & 0.01497015 & 1.000000000 & 0.02570040 & 0.00899150 & 0.007758048 & 0.004638207 & 0.008483488 & 0.015865313 & 0.006262646\\\\\n",
       "\tENSG00000159842 & 0.01377192 & 0.01770324 & 0.025700403 & 1.00000000 & 0.02891454 & 0.016799926 & 0.015119181 & 0.012697359 & 0.022391914 & 0.013776858\\\\\n",
       "\tENSG00000108953 & 0.00444020 & 0.01251407 & 0.008991500 & 0.02891454 & 1.00000000 & 0.138716139 & 0.027416178 & 0.021850641 & 0.019317545 & 0.005181194\\\\\n",
       "\tENSG00000167193 & 0.00414352 & 0.00910010 & 0.007758048 & 0.01679993 & 0.13871614 & 1.000000000 & 0.037590146 & 0.024752790 & 0.107401072 & 0.035616018\\\\\n",
       "\\end{tabular}\n"
      ],
      "text/markdown": [
       "\n",
       "A data.frame: 6 × 10\n",
       "\n",
       "| <!--/--> | ENSG00000141252 &lt;dbl&gt; | ENSG00000179409 &lt;dbl&gt; | ENSG00000177370 &lt;dbl&gt; | ENSG00000159842 &lt;dbl&gt; | ENSG00000108953 &lt;dbl&gt; | ENSG00000167193 &lt;dbl&gt; | ENSG00000132376 &lt;dbl&gt; | ENSG00000174238 &lt;dbl&gt; | ENSG00000167703 &lt;dbl&gt; | ENSG00000074660 &lt;dbl&gt; |\n",
       "|---|---|---|---|---|---|---|---|---|---|---|\n",
       "| ENSG00000141252 | 1.00000000 | 0.35780789 | 0.010011849 | 0.01377192 | 0.00444020 | 0.004143520 | 0.004822640 | 0.003588880 | 0.007753406 | 0.002159075 |\n",
       "| ENSG00000179409 | 0.35780789 | 1.00000000 | 0.014970151 | 0.01770324 | 0.01251407 | 0.009100100 | 0.008721908 | 0.005277922 | 0.016283745 | 0.006706836 |\n",
       "| ENSG00000177370 | 0.01001185 | 0.01497015 | 1.000000000 | 0.02570040 | 0.00899150 | 0.007758048 | 0.004638207 | 0.008483488 | 0.015865313 | 0.006262646 |\n",
       "| ENSG00000159842 | 0.01377192 | 0.01770324 | 0.025700403 | 1.00000000 | 0.02891454 | 0.016799926 | 0.015119181 | 0.012697359 | 0.022391914 | 0.013776858 |\n",
       "| ENSG00000108953 | 0.00444020 | 0.01251407 | 0.008991500 | 0.02891454 | 1.00000000 | 0.138716139 | 0.027416178 | 0.021850641 | 0.019317545 | 0.005181194 |\n",
       "| ENSG00000167193 | 0.00414352 | 0.00910010 | 0.007758048 | 0.01679993 | 0.13871614 | 1.000000000 | 0.037590146 | 0.024752790 | 0.107401072 | 0.035616018 |\n",
       "\n"
      ],
      "text/plain": [
       "                ENSG00000141252 ENSG00000179409 ENSG00000177370 ENSG00000159842\n",
       "ENSG00000141252 1.00000000      0.35780789      0.010011849     0.01377192     \n",
       "ENSG00000179409 0.35780789      1.00000000      0.014970151     0.01770324     \n",
       "ENSG00000177370 0.01001185      0.01497015      1.000000000     0.02570040     \n",
       "ENSG00000159842 0.01377192      0.01770324      0.025700403     1.00000000     \n",
       "ENSG00000108953 0.00444020      0.01251407      0.008991500     0.02891454     \n",
       "ENSG00000167193 0.00414352      0.00910010      0.007758048     0.01679993     \n",
       "                ENSG00000108953 ENSG00000167193 ENSG00000132376 ENSG00000174238\n",
       "ENSG00000141252 0.00444020      0.004143520     0.004822640     0.003588880    \n",
       "ENSG00000179409 0.01251407      0.009100100     0.008721908     0.005277922    \n",
       "ENSG00000177370 0.00899150      0.007758048     0.004638207     0.008483488    \n",
       "ENSG00000159842 0.02891454      0.016799926     0.015119181     0.012697359    \n",
       "ENSG00000108953 1.00000000      0.138716139     0.027416178     0.021850641    \n",
       "ENSG00000167193 0.13871614      1.000000000     0.037590146     0.024752790    \n",
       "                ENSG00000167703 ENSG00000074660\n",
       "ENSG00000141252 0.007753406     0.002159075    \n",
       "ENSG00000179409 0.016283745     0.006706836    \n",
       "ENSG00000177370 0.015865313     0.006262646    \n",
       "ENSG00000159842 0.022391914     0.013776858    \n",
       "ENSG00000108953 0.019317545     0.005181194    \n",
       "ENSG00000167193 0.107401072     0.035616018    "
      ]
     },
     "metadata": {},
     "output_type": "display_data"
    }
   ],
   "source": [
    "head(gene_corrs[1:10, 1:10])"
   ]
  },
  {
   "cell_type": "markdown",
   "id": "d6cbc88a-2c90-4d11-b7dd-434f046fd03c",
   "metadata": {
    "papermill": {
     "duration": 0.004624,
     "end_time": "2022-07-12T13:07:39.157058",
     "exception": false,
     "start_time": "2022-07-12T13:07:39.152434",
     "status": "completed"
    },
    "tags": []
   },
   "source": [
    "# Check positive definiteness"
   ]
  },
  {
   "cell_type": "code",
   "execution_count": 17,
   "id": "a858a061-7c5a-4a6b-8026-fe4de50c1f26",
   "metadata": {
    "execution": {
     "iopub.execute_input": "2022-07-12T13:07:39.168142Z",
     "iopub.status.busy": "2022-07-12T13:07:39.167165Z",
     "iopub.status.idle": "2022-07-12T13:07:39.181800Z",
     "shell.execute_reply": "2022-07-12T13:07:39.180560Z"
    },
    "papermill": {
     "duration": 0.021527,
     "end_time": "2022-07-12T13:07:39.183334",
     "exception": false,
     "start_time": "2022-07-12T13:07:39.161807",
     "status": "completed"
    },
    "tags": []
   },
   "outputs": [],
   "source": [
    "orig_matrix_is_positive_definite <- is_positive_definite(gene_corrs)"
   ]
  },
  {
   "cell_type": "code",
   "execution_count": 18,
   "id": "410ee452-488f-4518-b93a-2acd608ba99c",
   "metadata": {
    "execution": {
     "iopub.execute_input": "2022-07-12T13:07:39.194780Z",
     "iopub.status.busy": "2022-07-12T13:07:39.193811Z",
     "iopub.status.idle": "2022-07-12T13:07:39.209403Z",
     "shell.execute_reply": "2022-07-12T13:07:39.208168Z"
    },
    "papermill": {
     "duration": 0.023765,
     "end_time": "2022-07-12T13:07:39.211831",
     "exception": false,
     "start_time": "2022-07-12T13:07:39.188066",
     "status": "completed"
    },
    "tags": []
   },
   "outputs": [
    {
     "data": {
      "text/html": [
       "'Matrix is already positive definite!'"
      ],
      "text/latex": [
       "'Matrix is already positive definite!'"
      ],
      "text/markdown": [
       "'Matrix is already positive definite!'"
      ],
      "text/plain": [
       "[1] \"Matrix is already positive definite!\""
      ]
     },
     "metadata": {},
     "output_type": "display_data"
    },
    {
     "data": {
      "text/html": [
       "TRUE"
      ],
      "text/latex": [
       "TRUE"
      ],
      "text/markdown": [
       "TRUE"
      ],
      "text/plain": [
       "[1] TRUE"
      ]
     },
     "metadata": {},
     "output_type": "display_data"
    }
   ],
   "source": [
    "if (orig_matrix_is_positive_definite) {\n",
    "  IRdisplay::display(\"Matrix is already positive definite!\")\n",
    "  file.copy(INPUT_FILE, OUTPUT_FILE)\n",
    "} else {\n",
    "  IRdisplay::display(\"We need to correct the data and make the matrix positive definite\")\n",
    "\n",
    "  eigenvalues <- eigen(gene_corrs)$values\n",
    "  nonpositive_eigenvalues <- eigenvalues[eigenvalues <= 0]\n",
    "  IRdisplay::display(length(nonpositive_eigenvalues))\n",
    "  IRdisplay::display(nonpositive_eigenvalues)\n",
    "\n",
    "  # Make matrix positive definite\n",
    "  gene_corrs_corrected <- CorrectCM(gene_corrs, 1e-10)\n",
    "  dimnames(gene_corrs_corrected)[[1]] <- rownames(gene_corrs)\n",
    "  dimnames(gene_corrs_corrected)[[2]] <- colnames(gene_corrs)\n",
    "  gene_corrs_corrected <- as.data.frame(gene_corrs_corrected)\n",
    "\n",
    "  # check if new matrix is really positive definite\n",
    "  matrix_is_positive_definite <- is_positive_definite(gene_corrs_corrected)\n",
    "  if (matrix_is_positive_definite) {\n",
    "    IRdisplay::display(\"It worked!\")\n",
    "    IRdisplay::display(head(gene_corrs[1:10, 1:10]))\n",
    "    IRdisplay::display(head(gene_corrs_corrected[1:10, 1:10]))\n",
    "    py_save_object(gene_corrs_corrected, OUTPUT_FILE)\n",
    "  } else {\n",
    "    eigenvalues <- eigen(gene_corrs_corrected)$values\n",
    "    nonpositive_eigenvalues <- eigenvalues[eigenvalues <= 0]\n",
    "    IRdisplay::display(length(nonpositive_eigenvalues))\n",
    "    IRdisplay::display(nonpositive_eigenvalues)\n",
    "\n",
    "    stop(\"Method failed to adjust matrix\")\n",
    "  }\n",
    "}"
   ]
  },
  {
   "cell_type": "markdown",
   "id": "6c196700-7491-462f-bab8-ab9d40c63499",
   "metadata": {
    "papermill": {
     "duration": 0.004621,
     "end_time": "2022-07-12T13:07:39.221342",
     "exception": false,
     "start_time": "2022-07-12T13:07:39.216721",
     "status": "completed"
    },
    "tags": []
   },
   "source": [
    "Both matrices should \"look\" similar. We are not interested in perfectly accurate correlation values (they are already inaccurate)."
   ]
  },
  {
   "cell_type": "code",
   "execution_count": null,
   "id": "d8ae4220-2171-460c-9231-cd5219f3fe77",
   "metadata": {
    "papermill": {
     "duration": 0.004648,
     "end_time": "2022-07-12T13:07:39.230692",
     "exception": false,
     "start_time": "2022-07-12T13:07:39.226044",
     "status": "completed"
    },
    "tags": []
   },
   "outputs": [],
   "source": []
  }
 ],
 "metadata": {
  "jupytext": {
   "cell_metadata_filter": "all,-execution,-papermill,-trusted"
  },
  "kernelspec": {
   "display_name": "R",
   "language": "R",
   "name": "ir"
  },
  "language_info": {
   "codemirror_mode": "r",
   "file_extension": ".r",
   "mimetype": "text/x-r-source",
   "name": "R",
   "pygments_lexer": "r",
   "version": "3.6.3"
  },
  "papermill": {
   "default_parameters": {},
   "duration": 5.426286,
   "end_time": "2022-07-12T13:07:39.353289",
   "environment_variables": {},
   "exception": null,
   "input_path": "nbs/15_gsa_gls/12-gene_expr_correlations-adjust.ipynb",
   "output_path": "nbs/15_gsa_gls/gene_corrs/1000g/mashr/12-gene_expr_correlations-adjust-chr17.run.ipynb",
   "parameters": {
    "EQTL_MODEL": "MASHR",
    "REFERENCE_PANEL": "1000G",
    "chromosome": 17
   },
   "start_time": "2022-07-12T13:07:33.927003",
   "version": "2.3.4"
  }
 },
 "nbformat": 4,
 "nbformat_minor": 5
}
