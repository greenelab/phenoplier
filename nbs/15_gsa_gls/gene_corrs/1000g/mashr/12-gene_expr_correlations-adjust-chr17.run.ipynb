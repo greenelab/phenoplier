{
 "cells": [
  {
   "cell_type": "markdown",
   "id": "28fc82fa-c3f6-4184-8054-cc91c7c6e2e7",
   "metadata": {
    "papermill": {
     "duration": 0.003546,
     "end_time": "2022-07-11T13:17:58.656621",
     "exception": false,
     "start_time": "2022-07-11T13:17:58.653075",
     "status": "completed"
    },
    "tags": []
   },
   "source": [
    "# Description"
   ]
  },
  {
   "cell_type": "markdown",
   "id": "36839b17-916e-4aec-8fee-96faf1097e78",
   "metadata": {
    "papermill": {
     "duration": 0.00295,
     "end_time": "2022-07-11T13:17:58.662650",
     "exception": false,
     "start_time": "2022-07-11T13:17:58.659700",
     "status": "completed"
    },
    "tags": []
   },
   "source": [
    "**TODO**"
   ]
  },
  {
   "cell_type": "markdown",
   "id": "249e8aa3-ef1a-4bba-a6dd-58120ad80794",
   "metadata": {
    "papermill": {
     "duration": 0.002989,
     "end_time": "2022-07-11T13:17:58.668835",
     "exception": false,
     "start_time": "2022-07-11T13:17:58.665846",
     "status": "completed"
    },
    "tags": []
   },
   "source": [
    "# Modules"
   ]
  },
  {
   "cell_type": "code",
   "execution_count": 1,
   "id": "f9b5022b-7c5e-4d37-9c7a-fdb91777c7f9",
   "metadata": {
    "execution": {
     "iopub.execute_input": "2022-07-11T13:17:58.699591Z",
     "iopub.status.busy": "2022-07-11T13:17:58.698092Z",
     "iopub.status.idle": "2022-07-11T13:18:02.147471Z",
     "shell.execute_reply": "2022-07-11T13:18:02.145510Z"
    },
    "papermill": {
     "duration": 3.477028,
     "end_time": "2022-07-11T13:18:02.149028",
     "exception": false,
     "start_time": "2022-07-11T13:17:58.672000",
     "status": "completed"
    },
    "tags": []
   },
   "outputs": [],
   "source": [
    "library(reticulate)\n",
    "pd <- import(\"pandas\")"
   ]
  },
  {
   "cell_type": "markdown",
   "id": "69e80173-3a39-4b6a-b723-602687cb255b",
   "metadata": {
    "papermill": {
     "duration": 0.002906,
     "end_time": "2022-07-11T13:18:02.155656",
     "exception": false,
     "start_time": "2022-07-11T13:18:02.152750",
     "status": "completed"
    },
    "tags": []
   },
   "source": [
    "# Settings"
   ]
  },
  {
   "cell_type": "code",
   "execution_count": 2,
   "id": "22d12bb4-1699-4a6b-b1b9-d3fdd3d547d7",
   "metadata": {
    "execution": {
     "iopub.execute_input": "2022-07-11T13:18:02.187204Z",
     "iopub.status.busy": "2022-07-11T13:18:02.162635Z",
     "iopub.status.idle": "2022-07-11T13:18:02.201691Z",
     "shell.execute_reply": "2022-07-11T13:18:02.200367Z"
    },
    "papermill": {
     "duration": 0.044954,
     "end_time": "2022-07-11T13:18:02.203687",
     "exception": false,
     "start_time": "2022-07-11T13:18:02.158733",
     "status": "completed"
    },
    "tags": [
     "parameters"
    ]
   },
   "outputs": [],
   "source": [
    "# reference panel\n",
    "REFERENCE_PANEL <- \"GTEX_V8\"\n",
    "# REFERENCE_PANEL = \"1000G\"\n",
    "\n",
    "# prediction models\n",
    "## mashr\n",
    "EQTL_MODEL <- \"MASHR\"\n",
    "\n",
    "chromosome <- NULL"
   ]
  },
  {
   "cell_type": "code",
   "execution_count": 3,
   "id": "750a889d",
   "metadata": {
    "execution": {
     "iopub.execute_input": "2022-07-11T13:18:02.213651Z",
     "iopub.status.busy": "2022-07-11T13:18:02.212479Z",
     "iopub.status.idle": "2022-07-11T13:18:02.231532Z",
     "shell.execute_reply": "2022-07-11T13:18:02.230241Z"
    },
    "papermill": {
     "duration": 0.025969,
     "end_time": "2022-07-11T13:18:02.233471",
     "exception": false,
     "start_time": "2022-07-11T13:18:02.207502",
     "status": "completed"
    },
    "tags": [
     "injected-parameters"
    ]
   },
   "outputs": [],
   "source": [
    "# Parameters\n",
    "chromosome = 17\n",
    "REFERENCE_PANEL = \"1000G\"\n",
    "EQTL_MODEL = \"MASHR\"\n"
   ]
  },
  {
   "cell_type": "code",
   "execution_count": 4,
   "id": "8fe24bef",
   "metadata": {
    "execution": {
     "iopub.execute_input": "2022-07-11T13:18:02.243515Z",
     "iopub.status.busy": "2022-07-11T13:18:02.242364Z",
     "iopub.status.idle": "2022-07-11T13:18:02.256391Z",
     "shell.execute_reply": "2022-07-11T13:18:02.255039Z"
    },
    "papermill": {
     "duration": 0.020911,
     "end_time": "2022-07-11T13:18:02.258285",
     "exception": false,
     "start_time": "2022-07-11T13:18:02.237374",
     "status": "completed"
    },
    "tags": []
   },
   "outputs": [
    {
     "data": {
      "text/html": [
       "'Using reference panel: 1000G'"
      ],
      "text/latex": [
       "'Using reference panel: 1000G'"
      ],
      "text/markdown": [
       "'Using reference panel: 1000G'"
      ],
      "text/plain": [
       "[1] \"Using reference panel: 1000G\""
      ]
     },
     "metadata": {},
     "output_type": "display_data"
    }
   ],
   "source": [
    "paste0(\"Using reference panel: \", REFERENCE_PANEL)"
   ]
  },
  {
   "cell_type": "code",
   "execution_count": 5,
   "id": "d62c28f8-186c-478b-948c-58e14f00df4b",
   "metadata": {
    "execution": {
     "iopub.execute_input": "2022-07-11T13:18:02.268431Z",
     "iopub.status.busy": "2022-07-11T13:18:02.267269Z",
     "iopub.status.idle": "2022-07-11T13:18:02.279234Z",
     "shell.execute_reply": "2022-07-11T13:18:02.277940Z"
    },
    "papermill": {
     "duration": 0.018711,
     "end_time": "2022-07-11T13:18:02.281113",
     "exception": false,
     "start_time": "2022-07-11T13:18:02.262402",
     "status": "completed"
    },
    "tags": []
   },
   "outputs": [
    {
     "data": {
      "text/html": [
       "'Using eQTL model: MASHR'"
      ],
      "text/latex": [
       "'Using eQTL model: MASHR'"
      ],
      "text/markdown": [
       "'Using eQTL model: MASHR'"
      ],
      "text/plain": [
       "[1] \"Using eQTL model: MASHR\""
      ]
     },
     "metadata": {},
     "output_type": "display_data"
    }
   ],
   "source": [
    "paste0(\"Using eQTL model: \", EQTL_MODEL)"
   ]
  },
  {
   "cell_type": "code",
   "execution_count": 6,
   "id": "5243676f-c889-4405-9a4d-262f0f044614",
   "metadata": {
    "execution": {
     "iopub.execute_input": "2022-07-11T13:18:02.291548Z",
     "iopub.status.busy": "2022-07-11T13:18:02.290370Z",
     "iopub.status.idle": "2022-07-11T13:18:02.300830Z",
     "shell.execute_reply": "2022-07-11T13:18:02.299515Z"
    },
    "papermill": {
     "duration": 0.01756,
     "end_time": "2022-07-11T13:18:02.302644",
     "exception": false,
     "start_time": "2022-07-11T13:18:02.285084",
     "status": "completed"
    },
    "tags": []
   },
   "outputs": [],
   "source": [
    "# chromosome must be provided as parameter\n",
    "stopifnot(!is.null(chromosome))"
   ]
  },
  {
   "cell_type": "markdown",
   "id": "c05e4d34-e115-48cd-8a2e-225109eb0042",
   "metadata": {
    "papermill": {
     "duration": 0.004048,
     "end_time": "2022-07-11T13:18:02.310804",
     "exception": false,
     "start_time": "2022-07-11T13:18:02.306756",
     "status": "completed"
    },
    "tags": []
   },
   "source": [
    "# Paths"
   ]
  },
  {
   "cell_type": "code",
   "execution_count": 7,
   "id": "eb6aa8aa-b452-4a2f-a780-93dd80ad4285",
   "metadata": {
    "execution": {
     "iopub.execute_input": "2022-07-11T13:18:02.323327Z",
     "iopub.status.busy": "2022-07-11T13:18:02.322082Z",
     "iopub.status.idle": "2022-07-11T13:18:02.342747Z",
     "shell.execute_reply": "2022-07-11T13:18:02.339477Z"
    },
    "papermill": {
     "duration": 0.028258,
     "end_time": "2022-07-11T13:18:02.345048",
     "exception": false,
     "start_time": "2022-07-11T13:18:02.316790",
     "status": "completed"
    },
    "tags": []
   },
   "outputs": [
    {
     "data": {
      "text/html": [
       "'/opt/data/data/phenomexcan/ld_blocks/gene_corrs'"
      ],
      "text/latex": [
       "'/opt/data/data/phenomexcan/ld\\_blocks/gene\\_corrs'"
      ],
      "text/markdown": [
       "'/opt/data/data/phenomexcan/ld_blocks/gene_corrs'"
      ],
      "text/plain": [
       "[1] \"/opt/data/data/phenomexcan/ld_blocks/gene_corrs\""
      ]
     },
     "metadata": {},
     "output_type": "display_data"
    }
   ],
   "source": [
    "GENE_CORRS_DIR <- Sys.getenv(\"PHENOPLIER_PHENOMEXCAN_LD_BLOCKS_GENE_CORRS_DIR\")\n",
    "IRdisplay::display(GENE_CORRS_DIR)"
   ]
  },
  {
   "cell_type": "code",
   "execution_count": 8,
   "id": "eb24f15f-f282-4476-8943-8413c4483f12",
   "metadata": {
    "execution": {
     "iopub.execute_input": "2022-07-11T13:18:02.357126Z",
     "iopub.status.busy": "2022-07-11T13:18:02.355454Z",
     "iopub.status.idle": "2022-07-11T13:18:02.370770Z",
     "shell.execute_reply": "2022-07-11T13:18:02.369459Z"
    },
    "papermill": {
     "duration": 0.023253,
     "end_time": "2022-07-11T13:18:02.372918",
     "exception": false,
     "start_time": "2022-07-11T13:18:02.349665",
     "status": "completed"
    },
    "tags": []
   },
   "outputs": [
    {
     "data": {
      "text/html": [
       "'/opt/data/data/phenomexcan/ld_blocks/gene_corrs/1000g/mashr/by_chr'"
      ],
      "text/latex": [
       "'/opt/data/data/phenomexcan/ld\\_blocks/gene\\_corrs/1000g/mashr/by\\_chr'"
      ],
      "text/markdown": [
       "'/opt/data/data/phenomexcan/ld_blocks/gene_corrs/1000g/mashr/by_chr'"
      ],
      "text/plain": [
       "[1] \"/opt/data/data/phenomexcan/ld_blocks/gene_corrs/1000g/mashr/by_chr\""
      ]
     },
     "metadata": {},
     "output_type": "display_data"
    }
   ],
   "source": [
    "INPUT_DIR <- file.path(GENE_CORRS_DIR, tolower(REFERENCE_PANEL), tolower(EQTL_MODEL), \"by_chr\")\n",
    "IRdisplay::display(INPUT_DIR)"
   ]
  },
  {
   "cell_type": "code",
   "execution_count": 9,
   "id": "43c1daba-0da9-4822-8d1e-968e9767e251",
   "metadata": {
    "execution": {
     "iopub.execute_input": "2022-07-11T13:18:02.383982Z",
     "iopub.status.busy": "2022-07-11T13:18:02.382680Z",
     "iopub.status.idle": "2022-07-11T13:18:02.398398Z",
     "shell.execute_reply": "2022-07-11T13:18:02.397007Z"
    },
    "papermill": {
     "duration": 0.023031,
     "end_time": "2022-07-11T13:18:02.400457",
     "exception": false,
     "start_time": "2022-07-11T13:18:02.377426",
     "status": "completed"
    },
    "tags": []
   },
   "outputs": [
    {
     "data": {
      "text/html": [
       "'/opt/data/data/phenomexcan/ld_blocks/gene_corrs/1000g/mashr/by_chr/gene_corrs-chr17.pkl'"
      ],
      "text/latex": [
       "'/opt/data/data/phenomexcan/ld\\_blocks/gene\\_corrs/1000g/mashr/by\\_chr/gene\\_corrs-chr17.pkl'"
      ],
      "text/markdown": [
       "'/opt/data/data/phenomexcan/ld_blocks/gene_corrs/1000g/mashr/by_chr/gene_corrs-chr17.pkl'"
      ],
      "text/plain": [
       "[1] \"/opt/data/data/phenomexcan/ld_blocks/gene_corrs/1000g/mashr/by_chr/gene_corrs-chr17.pkl\""
      ]
     },
     "metadata": {},
     "output_type": "display_data"
    }
   ],
   "source": [
    "INPUT_FILE <- file.path(INPUT_DIR, paste0(\"gene_corrs-chr\", chromosome, \".pkl\"))\n",
    "IRdisplay::display(INPUT_FILE)\n",
    "stopifnot(file.exists(INPUT_FILE))"
   ]
  },
  {
   "cell_type": "code",
   "execution_count": 10,
   "id": "72386fbf-982b-420a-9057-ea9a97a5e571",
   "metadata": {
    "execution": {
     "iopub.execute_input": "2022-07-11T13:18:02.412320Z",
     "iopub.status.busy": "2022-07-11T13:18:02.410649Z",
     "iopub.status.idle": "2022-07-11T13:18:02.427442Z",
     "shell.execute_reply": "2022-07-11T13:18:02.425363Z"
    },
    "papermill": {
     "duration": 0.024076,
     "end_time": "2022-07-11T13:18:02.429253",
     "exception": false,
     "start_time": "2022-07-11T13:18:02.405177",
     "status": "completed"
    },
    "tags": []
   },
   "outputs": [
    {
     "data": {
      "text/html": [
       "'/opt/data/data/phenomexcan/ld_blocks/gene_corrs/1000g/mashr/by_chr/corrected_positive_definite'"
      ],
      "text/latex": [
       "'/opt/data/data/phenomexcan/ld\\_blocks/gene\\_corrs/1000g/mashr/by\\_chr/corrected\\_positive\\_definite'"
      ],
      "text/markdown": [
       "'/opt/data/data/phenomexcan/ld_blocks/gene_corrs/1000g/mashr/by_chr/corrected_positive_definite'"
      ],
      "text/plain": [
       "[1] \"/opt/data/data/phenomexcan/ld_blocks/gene_corrs/1000g/mashr/by_chr/corrected_positive_definite\""
      ]
     },
     "metadata": {},
     "output_type": "display_data"
    }
   ],
   "source": [
    "OUTPUT_DIR <- file.path(INPUT_DIR, \"corrected_positive_definite\")\n",
    "IRdisplay::display(OUTPUT_DIR)\n",
    "dir.create(OUTPUT_DIR, recursive = TRUE, showWarnings = FALSE)"
   ]
  },
  {
   "cell_type": "code",
   "execution_count": 11,
   "id": "f9f19d1d-ce4c-4099-a26e-250fec751de7",
   "metadata": {
    "execution": {
     "iopub.execute_input": "2022-07-11T13:18:02.440986Z",
     "iopub.status.busy": "2022-07-11T13:18:02.439913Z",
     "iopub.status.idle": "2022-07-11T13:18:02.454378Z",
     "shell.execute_reply": "2022-07-11T13:18:02.453163Z"
    },
    "papermill": {
     "duration": 0.022069,
     "end_time": "2022-07-11T13:18:02.456265",
     "exception": false,
     "start_time": "2022-07-11T13:18:02.434196",
     "status": "completed"
    },
    "tags": []
   },
   "outputs": [
    {
     "data": {
      "text/html": [
       "'/opt/data/data/phenomexcan/ld_blocks/gene_corrs/1000g/mashr/by_chr/corrected_positive_definite/gene_corrs-chr17.pkl'"
      ],
      "text/latex": [
       "'/opt/data/data/phenomexcan/ld\\_blocks/gene\\_corrs/1000g/mashr/by\\_chr/corrected\\_positive\\_definite/gene\\_corrs-chr17.pkl'"
      ],
      "text/markdown": [
       "'/opt/data/data/phenomexcan/ld_blocks/gene_corrs/1000g/mashr/by_chr/corrected_positive_definite/gene_corrs-chr17.pkl'"
      ],
      "text/plain": [
       "[1] \"/opt/data/data/phenomexcan/ld_blocks/gene_corrs/1000g/mashr/by_chr/corrected_positive_definite/gene_corrs-chr17.pkl\""
      ]
     },
     "metadata": {},
     "output_type": "display_data"
    }
   ],
   "source": [
    "OUTPUT_FILE <- file.path(OUTPUT_DIR, paste0(\"gene_corrs-chr\", chromosome, \".pkl\"))\n",
    "IRdisplay::display(OUTPUT_FILE)\n",
    "if (file.exists(OUTPUT_FILE)) {\n",
    "  IRdisplay::display(\"Output file exists, it will be overwritten\")\n",
    "}"
   ]
  },
  {
   "cell_type": "markdown",
   "id": "24973e62-e888-4b56-843f-489d8d0762b5",
   "metadata": {
    "papermill": {
     "duration": 0.004214,
     "end_time": "2022-07-11T13:18:02.464800",
     "exception": false,
     "start_time": "2022-07-11T13:18:02.460586",
     "status": "completed"
    },
    "tags": []
   },
   "source": [
    "# Functions"
   ]
  },
  {
   "cell_type": "code",
   "execution_count": 12,
   "id": "f828f081-7358-4cc8-8a89-1ee293bcc1a7",
   "metadata": {
    "execution": {
     "iopub.execute_input": "2022-07-11T13:18:02.478871Z",
     "iopub.status.busy": "2022-07-11T13:18:02.474574Z",
     "iopub.status.idle": "2022-07-11T13:18:02.488160Z",
     "shell.execute_reply": "2022-07-11T13:18:02.486707Z"
    },
    "papermill": {
     "duration": 0.02083,
     "end_time": "2022-07-11T13:18:02.489995",
     "exception": false,
     "start_time": "2022-07-11T13:18:02.469165",
     "status": "completed"
    },
    "tags": []
   },
   "outputs": [],
   "source": [
    "# taken from https://www.r-bloggers.com/2013/08/correcting-a-pseudo-correlation-matrix-to-be-positive-semidefinite/\n",
    "# TODO: add documentation\n",
    "CorrectCM <- function(CM, p = 0) {\n",
    "  n <- dim(var(CM))[1L]\n",
    "  E <- eigen(CM)\n",
    "  CM1 <- E$vectors %*% tcrossprod(diag(pmax(E$values, p), n), E$vectors)\n",
    "  Balance <- diag(1 / sqrt(diag(CM1)))\n",
    "  CM2 <- Balance %*% CM1 %*% Balance\n",
    "  return(CM2)\n",
    "}"
   ]
  },
  {
   "cell_type": "code",
   "execution_count": 13,
   "id": "7ab9bebf-50a1-4e6f-b16a-e23cae93d02a",
   "metadata": {
    "execution": {
     "iopub.execute_input": "2022-07-11T13:18:02.502235Z",
     "iopub.status.busy": "2022-07-11T13:18:02.500198Z",
     "iopub.status.idle": "2022-07-11T13:18:02.511592Z",
     "shell.execute_reply": "2022-07-11T13:18:02.510283Z"
    },
    "papermill": {
     "duration": 0.018793,
     "end_time": "2022-07-11T13:18:02.513345",
     "exception": false,
     "start_time": "2022-07-11T13:18:02.494552",
     "status": "completed"
    },
    "tags": []
   },
   "outputs": [],
   "source": [
    "is_positive_definite <- function(data) {\n",
    "  # eigenvalues <- eigen(data)$values\n",
    "  # nonpositive_eigenvalues <- eigenvalues[eigenvalues <= 0]\n",
    "\n",
    "  cholStatus <- try(u <- chol(data), silent = FALSE)\n",
    "  cholError <- ifelse(class(cholStatus) == \"try-error\", TRUE, FALSE)\n",
    "\n",
    "  if (cholError) {\n",
    "    return(FALSE)\n",
    "  } else {\n",
    "    return(TRUE)\n",
    "  }\n",
    "}"
   ]
  },
  {
   "cell_type": "markdown",
   "id": "7403fd78-00b2-4941-9c07-3c3af1ddc636",
   "metadata": {
    "papermill": {
     "duration": 0.004452,
     "end_time": "2022-07-11T13:18:02.523184",
     "exception": false,
     "start_time": "2022-07-11T13:18:02.518732",
     "status": "completed"
    },
    "tags": []
   },
   "source": [
    "# Load data"
   ]
  },
  {
   "cell_type": "code",
   "execution_count": 14,
   "id": "3a7744e1-2e5a-450e-9dcf-945ec181347d",
   "metadata": {
    "execution": {
     "iopub.execute_input": "2022-07-11T13:18:02.534315Z",
     "iopub.status.busy": "2022-07-11T13:18:02.533162Z",
     "iopub.status.idle": "2022-07-11T13:18:02.605602Z",
     "shell.execute_reply": "2022-07-11T13:18:02.604346Z"
    },
    "papermill": {
     "duration": 0.079665,
     "end_time": "2022-07-11T13:18:02.607439",
     "exception": false,
     "start_time": "2022-07-11T13:18:02.527774",
     "status": "completed"
    },
    "tags": []
   },
   "outputs": [],
   "source": [
    "gene_corrs <- pd$read_pickle(INPUT_FILE)"
   ]
  },
  {
   "cell_type": "code",
   "execution_count": 15,
   "id": "6fb150b2-4c68-4e9b-9aa5-1890d3f762e3",
   "metadata": {
    "execution": {
     "iopub.execute_input": "2022-07-11T13:18:02.618840Z",
     "iopub.status.busy": "2022-07-11T13:18:02.617800Z",
     "iopub.status.idle": "2022-07-11T13:18:02.629339Z",
     "shell.execute_reply": "2022-07-11T13:18:02.628059Z"
    },
    "papermill": {
     "duration": 0.018898,
     "end_time": "2022-07-11T13:18:02.631112",
     "exception": false,
     "start_time": "2022-07-11T13:18:02.612214",
     "status": "completed"
    },
    "tags": []
   },
   "outputs": [
    {
     "data": {
      "text/html": [
       "<style>\n",
       ".list-inline {list-style: none; margin:0; padding: 0}\n",
       ".list-inline>li {display: inline-block}\n",
       ".list-inline>li:not(:last-child)::after {content: \"\\00b7\"; padding: 0 .5ex}\n",
       "</style>\n",
       "<ol class=list-inline><li>411</li><li>411</li></ol>\n"
      ],
      "text/latex": [
       "\\begin{enumerate*}\n",
       "\\item 411\n",
       "\\item 411\n",
       "\\end{enumerate*}\n"
      ],
      "text/markdown": [
       "1. 411\n",
       "2. 411\n",
       "\n",
       "\n"
      ],
      "text/plain": [
       "[1] 411 411"
      ]
     },
     "metadata": {},
     "output_type": "display_data"
    }
   ],
   "source": [
    "dim(gene_corrs)"
   ]
  },
  {
   "cell_type": "code",
   "execution_count": 16,
   "id": "0d4e53b5-7586-4a68-8ce5-d930d74ba943",
   "metadata": {
    "execution": {
     "iopub.execute_input": "2022-07-11T13:18:02.642927Z",
     "iopub.status.busy": "2022-07-11T13:18:02.641809Z",
     "iopub.status.idle": "2022-07-11T13:18:02.664760Z",
     "shell.execute_reply": "2022-07-11T13:18:02.663419Z"
    },
    "papermill": {
     "duration": 0.030639,
     "end_time": "2022-07-11T13:18:02.666519",
     "exception": false,
     "start_time": "2022-07-11T13:18:02.635880",
     "status": "completed"
    },
    "tags": []
   },
   "outputs": [
    {
     "data": {
      "text/html": [
       "<table class=\"dataframe\">\n",
       "<caption>A data.frame: 6 × 10</caption>\n",
       "<thead>\n",
       "\t<tr><th></th><th scope=col>ENSG00000141252</th><th scope=col>ENSG00000179409</th><th scope=col>ENSG00000177370</th><th scope=col>ENSG00000159842</th><th scope=col>ENSG00000108953</th><th scope=col>ENSG00000167193</th><th scope=col>ENSG00000132376</th><th scope=col>ENSG00000174238</th><th scope=col>ENSG00000167703</th><th scope=col>ENSG00000074660</th></tr>\n",
       "\t<tr><th></th><th scope=col>&lt;dbl&gt;</th><th scope=col>&lt;dbl&gt;</th><th scope=col>&lt;dbl&gt;</th><th scope=col>&lt;dbl&gt;</th><th scope=col>&lt;dbl&gt;</th><th scope=col>&lt;dbl&gt;</th><th scope=col>&lt;dbl&gt;</th><th scope=col>&lt;dbl&gt;</th><th scope=col>&lt;dbl&gt;</th><th scope=col>&lt;dbl&gt;</th></tr>\n",
       "</thead>\n",
       "<tbody>\n",
       "\t<tr><th scope=row>ENSG00000141252</th><td>1.00000000</td><td>0.35780789</td><td>0.010011849</td><td>0.01377192</td><td>0.00444020</td><td>0.004143520</td><td>0.004822640</td><td>0.003588880</td><td>0.007753406</td><td>0.002159075</td></tr>\n",
       "\t<tr><th scope=row>ENSG00000179409</th><td>0.35780789</td><td>1.00000000</td><td>0.014970151</td><td>0.01770324</td><td>0.01251407</td><td>0.009100100</td><td>0.008721908</td><td>0.005277922</td><td>0.016283745</td><td>0.006706836</td></tr>\n",
       "\t<tr><th scope=row>ENSG00000177370</th><td>0.01001185</td><td>0.01497015</td><td>1.000000000</td><td>0.02570040</td><td>0.00899150</td><td>0.007758048</td><td>0.004638207</td><td>0.008483488</td><td>0.015865313</td><td>0.006262646</td></tr>\n",
       "\t<tr><th scope=row>ENSG00000159842</th><td>0.01377192</td><td>0.01770324</td><td>0.025700403</td><td>1.00000000</td><td>0.02891454</td><td>0.016799926</td><td>0.015119181</td><td>0.012697359</td><td>0.022391914</td><td>0.013776858</td></tr>\n",
       "\t<tr><th scope=row>ENSG00000108953</th><td>0.00444020</td><td>0.01251407</td><td>0.008991500</td><td>0.02891454</td><td>1.00000000</td><td>0.138716139</td><td>0.027416178</td><td>0.021850641</td><td>0.019317545</td><td>0.005181194</td></tr>\n",
       "\t<tr><th scope=row>ENSG00000167193</th><td>0.00414352</td><td>0.00910010</td><td>0.007758048</td><td>0.01679993</td><td>0.13871614</td><td>1.000000000</td><td>0.037590146</td><td>0.024752790</td><td>0.107401072</td><td>0.035616018</td></tr>\n",
       "</tbody>\n",
       "</table>\n"
      ],
      "text/latex": [
       "A data.frame: 6 × 10\n",
       "\\begin{tabular}{r|llllllllll}\n",
       "  & ENSG00000141252 & ENSG00000179409 & ENSG00000177370 & ENSG00000159842 & ENSG00000108953 & ENSG00000167193 & ENSG00000132376 & ENSG00000174238 & ENSG00000167703 & ENSG00000074660\\\\\n",
       "  & <dbl> & <dbl> & <dbl> & <dbl> & <dbl> & <dbl> & <dbl> & <dbl> & <dbl> & <dbl>\\\\\n",
       "\\hline\n",
       "\tENSG00000141252 & 1.00000000 & 0.35780789 & 0.010011849 & 0.01377192 & 0.00444020 & 0.004143520 & 0.004822640 & 0.003588880 & 0.007753406 & 0.002159075\\\\\n",
       "\tENSG00000179409 & 0.35780789 & 1.00000000 & 0.014970151 & 0.01770324 & 0.01251407 & 0.009100100 & 0.008721908 & 0.005277922 & 0.016283745 & 0.006706836\\\\\n",
       "\tENSG00000177370 & 0.01001185 & 0.01497015 & 1.000000000 & 0.02570040 & 0.00899150 & 0.007758048 & 0.004638207 & 0.008483488 & 0.015865313 & 0.006262646\\\\\n",
       "\tENSG00000159842 & 0.01377192 & 0.01770324 & 0.025700403 & 1.00000000 & 0.02891454 & 0.016799926 & 0.015119181 & 0.012697359 & 0.022391914 & 0.013776858\\\\\n",
       "\tENSG00000108953 & 0.00444020 & 0.01251407 & 0.008991500 & 0.02891454 & 1.00000000 & 0.138716139 & 0.027416178 & 0.021850641 & 0.019317545 & 0.005181194\\\\\n",
       "\tENSG00000167193 & 0.00414352 & 0.00910010 & 0.007758048 & 0.01679993 & 0.13871614 & 1.000000000 & 0.037590146 & 0.024752790 & 0.107401072 & 0.035616018\\\\\n",
       "\\end{tabular}\n"
      ],
      "text/markdown": [
       "\n",
       "A data.frame: 6 × 10\n",
       "\n",
       "| <!--/--> | ENSG00000141252 &lt;dbl&gt; | ENSG00000179409 &lt;dbl&gt; | ENSG00000177370 &lt;dbl&gt; | ENSG00000159842 &lt;dbl&gt; | ENSG00000108953 &lt;dbl&gt; | ENSG00000167193 &lt;dbl&gt; | ENSG00000132376 &lt;dbl&gt; | ENSG00000174238 &lt;dbl&gt; | ENSG00000167703 &lt;dbl&gt; | ENSG00000074660 &lt;dbl&gt; |\n",
       "|---|---|---|---|---|---|---|---|---|---|---|\n",
       "| ENSG00000141252 | 1.00000000 | 0.35780789 | 0.010011849 | 0.01377192 | 0.00444020 | 0.004143520 | 0.004822640 | 0.003588880 | 0.007753406 | 0.002159075 |\n",
       "| ENSG00000179409 | 0.35780789 | 1.00000000 | 0.014970151 | 0.01770324 | 0.01251407 | 0.009100100 | 0.008721908 | 0.005277922 | 0.016283745 | 0.006706836 |\n",
       "| ENSG00000177370 | 0.01001185 | 0.01497015 | 1.000000000 | 0.02570040 | 0.00899150 | 0.007758048 | 0.004638207 | 0.008483488 | 0.015865313 | 0.006262646 |\n",
       "| ENSG00000159842 | 0.01377192 | 0.01770324 | 0.025700403 | 1.00000000 | 0.02891454 | 0.016799926 | 0.015119181 | 0.012697359 | 0.022391914 | 0.013776858 |\n",
       "| ENSG00000108953 | 0.00444020 | 0.01251407 | 0.008991500 | 0.02891454 | 1.00000000 | 0.138716139 | 0.027416178 | 0.021850641 | 0.019317545 | 0.005181194 |\n",
       "| ENSG00000167193 | 0.00414352 | 0.00910010 | 0.007758048 | 0.01679993 | 0.13871614 | 1.000000000 | 0.037590146 | 0.024752790 | 0.107401072 | 0.035616018 |\n",
       "\n"
      ],
      "text/plain": [
       "                ENSG00000141252 ENSG00000179409 ENSG00000177370 ENSG00000159842\n",
       "ENSG00000141252 1.00000000      0.35780789      0.010011849     0.01377192     \n",
       "ENSG00000179409 0.35780789      1.00000000      0.014970151     0.01770324     \n",
       "ENSG00000177370 0.01001185      0.01497015      1.000000000     0.02570040     \n",
       "ENSG00000159842 0.01377192      0.01770324      0.025700403     1.00000000     \n",
       "ENSG00000108953 0.00444020      0.01251407      0.008991500     0.02891454     \n",
       "ENSG00000167193 0.00414352      0.00910010      0.007758048     0.01679993     \n",
       "                ENSG00000108953 ENSG00000167193 ENSG00000132376 ENSG00000174238\n",
       "ENSG00000141252 0.00444020      0.004143520     0.004822640     0.003588880    \n",
       "ENSG00000179409 0.01251407      0.009100100     0.008721908     0.005277922    \n",
       "ENSG00000177370 0.00899150      0.007758048     0.004638207     0.008483488    \n",
       "ENSG00000159842 0.02891454      0.016799926     0.015119181     0.012697359    \n",
       "ENSG00000108953 1.00000000      0.138716139     0.027416178     0.021850641    \n",
       "ENSG00000167193 0.13871614      1.000000000     0.037590146     0.024752790    \n",
       "                ENSG00000167703 ENSG00000074660\n",
       "ENSG00000141252 0.007753406     0.002159075    \n",
       "ENSG00000179409 0.016283745     0.006706836    \n",
       "ENSG00000177370 0.015865313     0.006262646    \n",
       "ENSG00000159842 0.022391914     0.013776858    \n",
       "ENSG00000108953 0.019317545     0.005181194    \n",
       "ENSG00000167193 0.107401072     0.035616018    "
      ]
     },
     "metadata": {},
     "output_type": "display_data"
    }
   ],
   "source": [
    "head(gene_corrs[1:10, 1:10])"
   ]
  },
  {
   "cell_type": "markdown",
   "id": "d6cbc88a-2c90-4d11-b7dd-434f046fd03c",
   "metadata": {
    "papermill": {
     "duration": 0.005703,
     "end_time": "2022-07-11T13:18:02.677278",
     "exception": false,
     "start_time": "2022-07-11T13:18:02.671575",
     "status": "completed"
    },
    "tags": []
   },
   "source": [
    "# Check positive definiteness"
   ]
  },
  {
   "cell_type": "code",
   "execution_count": 17,
   "id": "a858a061-7c5a-4a6b-8026-fe4de50c1f26",
   "metadata": {
    "execution": {
     "iopub.execute_input": "2022-07-11T13:18:02.690322Z",
     "iopub.status.busy": "2022-07-11T13:18:02.689188Z",
     "iopub.status.idle": "2022-07-11T13:18:02.708455Z",
     "shell.execute_reply": "2022-07-11T13:18:02.704616Z"
    },
    "papermill": {
     "duration": 0.027625,
     "end_time": "2022-07-11T13:18:02.710447",
     "exception": false,
     "start_time": "2022-07-11T13:18:02.682822",
     "status": "completed"
    },
    "tags": []
   },
   "outputs": [],
   "source": [
    "orig_matrix_is_positive_definite <- is_positive_definite(gene_corrs)"
   ]
  },
  {
   "cell_type": "code",
   "execution_count": 18,
   "id": "410ee452-488f-4518-b93a-2acd608ba99c",
   "metadata": {
    "execution": {
     "iopub.execute_input": "2022-07-11T13:18:02.731376Z",
     "iopub.status.busy": "2022-07-11T13:18:02.730283Z",
     "iopub.status.idle": "2022-07-11T13:18:02.759441Z",
     "shell.execute_reply": "2022-07-11T13:18:02.756243Z"
    },
    "papermill": {
     "duration": 0.044054,
     "end_time": "2022-07-11T13:18:02.761372",
     "exception": false,
     "start_time": "2022-07-11T13:18:02.717318",
     "status": "completed"
    },
    "tags": []
   },
   "outputs": [
    {
     "data": {
      "text/html": [
       "'Matrix is already positive definite!'"
      ],
      "text/latex": [
       "'Matrix is already positive definite!'"
      ],
      "text/markdown": [
       "'Matrix is already positive definite!'"
      ],
      "text/plain": [
       "[1] \"Matrix is already positive definite!\""
      ]
     },
     "metadata": {},
     "output_type": "display_data"
    },
    {
     "data": {
      "text/html": [
       "TRUE"
      ],
      "text/latex": [
       "TRUE"
      ],
      "text/markdown": [
       "TRUE"
      ],
      "text/plain": [
       "[1] TRUE"
      ]
     },
     "metadata": {},
     "output_type": "display_data"
    }
   ],
   "source": [
    "if (orig_matrix_is_positive_definite) {\n",
    "  IRdisplay::display(\"Matrix is already positive definite!\")\n",
    "  file.copy(INPUT_FILE, OUTPUT_FILE)\n",
    "} else {\n",
    "  IRdisplay::display(\"We need to correct the data and make the matrix positive definite\")\n",
    "\n",
    "  eigenvalues <- eigen(gene_corrs)$values\n",
    "  nonpositive_eigenvalues <- eigenvalues[eigenvalues <= 0]\n",
    "  IRdisplay::display(length(nonpositive_eigenvalues))\n",
    "  IRdisplay::display(nonpositive_eigenvalues)\n",
    "\n",
    "  # Make matrix positive definite\n",
    "  gene_corrs_corrected <- CorrectCM(gene_corrs, 1e-10)\n",
    "  dimnames(gene_corrs_corrected)[[1]] <- rownames(gene_corrs)\n",
    "  dimnames(gene_corrs_corrected)[[2]] <- colnames(gene_corrs)\n",
    "  gene_corrs_corrected <- as.data.frame(gene_corrs_corrected)\n",
    "\n",
    "  # check if new matrix is really positive definite\n",
    "  matrix_is_positive_definite <- is_positive_definite(gene_corrs_corrected)\n",
    "  if (matrix_is_positive_definite) {\n",
    "    IRdisplay::display(\"It worked!\")\n",
    "    IRdisplay::display(head(gene_corrs[1:10, 1:10]))\n",
    "    IRdisplay::display(head(gene_corrs_corrected[1:10, 1:10]))\n",
    "    py_save_object(gene_corrs_corrected, OUTPUT_FILE)\n",
    "  } else {\n",
    "    eigenvalues <- eigen(gene_corrs_corrected)$values\n",
    "    nonpositive_eigenvalues <- eigenvalues[eigenvalues <= 0]\n",
    "    IRdisplay::display(length(nonpositive_eigenvalues))\n",
    "    IRdisplay::display(nonpositive_eigenvalues)\n",
    "\n",
    "    stop(\"Method failed to adjust matrix\")\n",
    "  }\n",
    "}"
   ]
  },
  {
   "cell_type": "markdown",
   "id": "6c196700-7491-462f-bab8-ab9d40c63499",
   "metadata": {
    "papermill": {
     "duration": 0.010779,
     "end_time": "2022-07-11T13:18:02.778812",
     "exception": false,
     "start_time": "2022-07-11T13:18:02.768033",
     "status": "completed"
    },
    "tags": []
   },
   "source": [
    "Both matrices should \"look\" similar. We are not interested in perfectly accurate correlation values (they are already inaccurate)."
   ]
  },
  {
   "cell_type": "code",
   "execution_count": null,
   "id": "d8ae4220-2171-460c-9231-cd5219f3fe77",
   "metadata": {
    "papermill": {
     "duration": 0.005551,
     "end_time": "2022-07-11T13:18:02.793555",
     "exception": false,
     "start_time": "2022-07-11T13:18:02.788004",
     "status": "completed"
    },
    "tags": []
   },
   "outputs": [],
   "source": []
  }
 ],
 "metadata": {
  "jupytext": {
   "cell_metadata_filter": "all,-execution,-papermill,-trusted"
  },
  "kernelspec": {
   "display_name": "R",
   "language": "R",
   "name": "ir"
  },
  "language_info": {
   "codemirror_mode": "r",
   "file_extension": ".r",
   "mimetype": "text/x-r-source",
   "name": "R",
   "pygments_lexer": "r",
   "version": "3.6.3"
  },
  "papermill": {
   "default_parameters": {},
   "duration": 5.348248,
   "end_time": "2022-07-11T13:18:02.915382",
   "environment_variables": {},
   "exception": null,
   "input_path": "nbs/15_gsa_gls/12-gene_expr_correlations-adjust.ipynb",
   "output_path": "nbs/15_gsa_gls/gene_corrs/1000g/mashr/12-gene_expr_correlations-adjust-chr17.run.ipynb",
   "parameters": {
    "EQTL_MODEL": "MASHR",
    "REFERENCE_PANEL": "1000G",
    "chromosome": 17
   },
   "start_time": "2022-07-11T13:17:57.567134",
   "version": "2.3.4"
  }
 },
 "nbformat": 4,
 "nbformat_minor": 5
}
