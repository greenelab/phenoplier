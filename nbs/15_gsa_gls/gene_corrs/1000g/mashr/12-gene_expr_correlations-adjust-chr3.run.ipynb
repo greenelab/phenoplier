{
 "cells": [
  {
   "cell_type": "markdown",
   "id": "28fc82fa-c3f6-4184-8054-cc91c7c6e2e7",
   "metadata": {
    "papermill": {
     "duration": 0.013859,
     "end_time": "2022-07-11T13:17:24.922737",
     "exception": false,
     "start_time": "2022-07-11T13:17:24.908878",
     "status": "completed"
    },
    "tags": []
   },
   "source": [
    "# Description"
   ]
  },
  {
   "cell_type": "markdown",
   "id": "36839b17-916e-4aec-8fee-96faf1097e78",
   "metadata": {
    "papermill": {
     "duration": 0.00761,
     "end_time": "2022-07-11T13:17:24.941824",
     "exception": false,
     "start_time": "2022-07-11T13:17:24.934214",
     "status": "completed"
    },
    "tags": []
   },
   "source": [
    "**TODO**"
   ]
  },
  {
   "cell_type": "markdown",
   "id": "249e8aa3-ef1a-4bba-a6dd-58120ad80794",
   "metadata": {
    "papermill": {
     "duration": 0.004545,
     "end_time": "2022-07-11T13:17:24.952764",
     "exception": false,
     "start_time": "2022-07-11T13:17:24.948219",
     "status": "completed"
    },
    "tags": []
   },
   "source": [
    "# Modules"
   ]
  },
  {
   "cell_type": "code",
   "execution_count": 1,
   "id": "f9b5022b-7c5e-4d37-9c7a-fdb91777c7f9",
   "metadata": {
    "execution": {
     "iopub.execute_input": "2022-07-11T13:17:25.000343Z",
     "iopub.status.busy": "2022-07-11T13:17:24.998622Z",
     "iopub.status.idle": "2022-07-11T13:17:28.244623Z",
     "shell.execute_reply": "2022-07-11T13:17:28.243380Z"
    },
    "papermill": {
     "duration": 3.290389,
     "end_time": "2022-07-11T13:17:28.246275",
     "exception": false,
     "start_time": "2022-07-11T13:17:24.955886",
     "status": "completed"
    },
    "tags": []
   },
   "outputs": [],
   "source": [
    "library(reticulate)\n",
    "pd <- import(\"pandas\")"
   ]
  },
  {
   "cell_type": "markdown",
   "id": "69e80173-3a39-4b6a-b723-602687cb255b",
   "metadata": {
    "papermill": {
     "duration": 0.003342,
     "end_time": "2022-07-11T13:17:28.253153",
     "exception": false,
     "start_time": "2022-07-11T13:17:28.249811",
     "status": "completed"
    },
    "tags": []
   },
   "source": [
    "# Settings"
   ]
  },
  {
   "cell_type": "code",
   "execution_count": 2,
   "id": "22d12bb4-1699-4a6b-b1b9-d3fdd3d547d7",
   "metadata": {
    "execution": {
     "iopub.execute_input": "2022-07-11T13:17:28.281690Z",
     "iopub.status.busy": "2022-07-11T13:17:28.261006Z",
     "iopub.status.idle": "2022-07-11T13:17:28.293153Z",
     "shell.execute_reply": "2022-07-11T13:17:28.291984Z"
    },
    "papermill": {
     "duration": 0.038381,
     "end_time": "2022-07-11T13:17:28.294888",
     "exception": false,
     "start_time": "2022-07-11T13:17:28.256507",
     "status": "completed"
    },
    "tags": [
     "parameters"
    ]
   },
   "outputs": [],
   "source": [
    "# reference panel\n",
    "REFERENCE_PANEL <- \"GTEX_V8\"\n",
    "# REFERENCE_PANEL = \"1000G\"\n",
    "\n",
    "# prediction models\n",
    "## mashr\n",
    "EQTL_MODEL <- \"MASHR\"\n",
    "\n",
    "chromosome <- NULL"
   ]
  },
  {
   "cell_type": "code",
   "execution_count": 3,
   "id": "7281d4d6",
   "metadata": {
    "execution": {
     "iopub.execute_input": "2022-07-11T13:17:28.304338Z",
     "iopub.status.busy": "2022-07-11T13:17:28.303200Z",
     "iopub.status.idle": "2022-07-11T13:17:28.321677Z",
     "shell.execute_reply": "2022-07-11T13:17:28.320404Z"
    },
    "papermill": {
     "duration": 0.025156,
     "end_time": "2022-07-11T13:17:28.323535",
     "exception": false,
     "start_time": "2022-07-11T13:17:28.298379",
     "status": "completed"
    },
    "tags": [
     "injected-parameters"
    ]
   },
   "outputs": [],
   "source": [
    "# Parameters\n",
    "chromosome = 3\n",
    "REFERENCE_PANEL = \"1000G\"\n",
    "EQTL_MODEL = \"MASHR\"\n"
   ]
  },
  {
   "cell_type": "code",
   "execution_count": 4,
   "id": "8fe24bef",
   "metadata": {
    "execution": {
     "iopub.execute_input": "2022-07-11T13:17:28.333166Z",
     "iopub.status.busy": "2022-07-11T13:17:28.332072Z",
     "iopub.status.idle": "2022-07-11T13:17:28.345800Z",
     "shell.execute_reply": "2022-07-11T13:17:28.344481Z"
    },
    "papermill": {
     "duration": 0.020384,
     "end_time": "2022-07-11T13:17:28.347669",
     "exception": false,
     "start_time": "2022-07-11T13:17:28.327285",
     "status": "completed"
    },
    "tags": []
   },
   "outputs": [
    {
     "data": {
      "text/html": [
       "'Using reference panel: 1000G'"
      ],
      "text/latex": [
       "'Using reference panel: 1000G'"
      ],
      "text/markdown": [
       "'Using reference panel: 1000G'"
      ],
      "text/plain": [
       "[1] \"Using reference panel: 1000G\""
      ]
     },
     "metadata": {},
     "output_type": "display_data"
    }
   ],
   "source": [
    "paste0(\"Using reference panel: \", REFERENCE_PANEL)"
   ]
  },
  {
   "cell_type": "code",
   "execution_count": 5,
   "id": "d62c28f8-186c-478b-948c-58e14f00df4b",
   "metadata": {
    "execution": {
     "iopub.execute_input": "2022-07-11T13:17:28.357883Z",
     "iopub.status.busy": "2022-07-11T13:17:28.356755Z",
     "iopub.status.idle": "2022-07-11T13:17:28.368883Z",
     "shell.execute_reply": "2022-07-11T13:17:28.367547Z"
    },
    "papermill": {
     "duration": 0.01896,
     "end_time": "2022-07-11T13:17:28.370803",
     "exception": false,
     "start_time": "2022-07-11T13:17:28.351843",
     "status": "completed"
    },
    "tags": []
   },
   "outputs": [
    {
     "data": {
      "text/html": [
       "'Using eQTL model: MASHR'"
      ],
      "text/latex": [
       "'Using eQTL model: MASHR'"
      ],
      "text/markdown": [
       "'Using eQTL model: MASHR'"
      ],
      "text/plain": [
       "[1] \"Using eQTL model: MASHR\""
      ]
     },
     "metadata": {},
     "output_type": "display_data"
    }
   ],
   "source": [
    "paste0(\"Using eQTL model: \", EQTL_MODEL)"
   ]
  },
  {
   "cell_type": "code",
   "execution_count": 6,
   "id": "5243676f-c889-4405-9a4d-262f0f044614",
   "metadata": {
    "execution": {
     "iopub.execute_input": "2022-07-11T13:17:28.381078Z",
     "iopub.status.busy": "2022-07-11T13:17:28.379930Z",
     "iopub.status.idle": "2022-07-11T13:17:28.390251Z",
     "shell.execute_reply": "2022-07-11T13:17:28.388946Z"
    },
    "papermill": {
     "duration": 0.017315,
     "end_time": "2022-07-11T13:17:28.392126",
     "exception": false,
     "start_time": "2022-07-11T13:17:28.374811",
     "status": "completed"
    },
    "tags": []
   },
   "outputs": [],
   "source": [
    "# chromosome must be provided as parameter\n",
    "stopifnot(!is.null(chromosome))"
   ]
  },
  {
   "cell_type": "markdown",
   "id": "c05e4d34-e115-48cd-8a2e-225109eb0042",
   "metadata": {
    "papermill": {
     "duration": 0.00398,
     "end_time": "2022-07-11T13:17:28.400188",
     "exception": false,
     "start_time": "2022-07-11T13:17:28.396208",
     "status": "completed"
    },
    "tags": []
   },
   "source": [
    "# Paths"
   ]
  },
  {
   "cell_type": "code",
   "execution_count": 7,
   "id": "eb6aa8aa-b452-4a2f-a780-93dd80ad4285",
   "metadata": {
    "execution": {
     "iopub.execute_input": "2022-07-11T13:17:28.410305Z",
     "iopub.status.busy": "2022-07-11T13:17:28.409134Z",
     "iopub.status.idle": "2022-07-11T13:17:28.422742Z",
     "shell.execute_reply": "2022-07-11T13:17:28.421452Z"
    },
    "papermill": {
     "duration": 0.020424,
     "end_time": "2022-07-11T13:17:28.424649",
     "exception": false,
     "start_time": "2022-07-11T13:17:28.404225",
     "status": "completed"
    },
    "tags": []
   },
   "outputs": [
    {
     "data": {
      "text/html": [
       "'/opt/data/data/phenomexcan/ld_blocks/gene_corrs'"
      ],
      "text/latex": [
       "'/opt/data/data/phenomexcan/ld\\_blocks/gene\\_corrs'"
      ],
      "text/markdown": [
       "'/opt/data/data/phenomexcan/ld_blocks/gene_corrs'"
      ],
      "text/plain": [
       "[1] \"/opt/data/data/phenomexcan/ld_blocks/gene_corrs\""
      ]
     },
     "metadata": {},
     "output_type": "display_data"
    }
   ],
   "source": [
    "GENE_CORRS_DIR <- Sys.getenv(\"PHENOPLIER_PHENOMEXCAN_LD_BLOCKS_GENE_CORRS_DIR\")\n",
    "IRdisplay::display(GENE_CORRS_DIR)"
   ]
  },
  {
   "cell_type": "code",
   "execution_count": 8,
   "id": "eb24f15f-f282-4476-8943-8413c4483f12",
   "metadata": {
    "execution": {
     "iopub.execute_input": "2022-07-11T13:17:28.435211Z",
     "iopub.status.busy": "2022-07-11T13:17:28.434113Z",
     "iopub.status.idle": "2022-07-11T13:17:28.447841Z",
     "shell.execute_reply": "2022-07-11T13:17:28.446524Z"
    },
    "papermill": {
     "duration": 0.020807,
     "end_time": "2022-07-11T13:17:28.449669",
     "exception": false,
     "start_time": "2022-07-11T13:17:28.428862",
     "status": "completed"
    },
    "tags": []
   },
   "outputs": [
    {
     "data": {
      "text/html": [
       "'/opt/data/data/phenomexcan/ld_blocks/gene_corrs/1000g/mashr/by_chr'"
      ],
      "text/latex": [
       "'/opt/data/data/phenomexcan/ld\\_blocks/gene\\_corrs/1000g/mashr/by\\_chr'"
      ],
      "text/markdown": [
       "'/opt/data/data/phenomexcan/ld_blocks/gene_corrs/1000g/mashr/by_chr'"
      ],
      "text/plain": [
       "[1] \"/opt/data/data/phenomexcan/ld_blocks/gene_corrs/1000g/mashr/by_chr\""
      ]
     },
     "metadata": {},
     "output_type": "display_data"
    }
   ],
   "source": [
    "INPUT_DIR <- file.path(GENE_CORRS_DIR, tolower(REFERENCE_PANEL), tolower(EQTL_MODEL), \"by_chr\")\n",
    "IRdisplay::display(INPUT_DIR)"
   ]
  },
  {
   "cell_type": "code",
   "execution_count": 9,
   "id": "43c1daba-0da9-4822-8d1e-968e9767e251",
   "metadata": {
    "execution": {
     "iopub.execute_input": "2022-07-11T13:17:28.460633Z",
     "iopub.status.busy": "2022-07-11T13:17:28.459517Z",
     "iopub.status.idle": "2022-07-11T13:17:28.474590Z",
     "shell.execute_reply": "2022-07-11T13:17:28.473312Z"
    },
    "papermill": {
     "duration": 0.022269,
     "end_time": "2022-07-11T13:17:28.476444",
     "exception": false,
     "start_time": "2022-07-11T13:17:28.454175",
     "status": "completed"
    },
    "tags": []
   },
   "outputs": [
    {
     "data": {
      "text/html": [
       "'/opt/data/data/phenomexcan/ld_blocks/gene_corrs/1000g/mashr/by_chr/gene_corrs-chr3.pkl'"
      ],
      "text/latex": [
       "'/opt/data/data/phenomexcan/ld\\_blocks/gene\\_corrs/1000g/mashr/by\\_chr/gene\\_corrs-chr3.pkl'"
      ],
      "text/markdown": [
       "'/opt/data/data/phenomexcan/ld_blocks/gene_corrs/1000g/mashr/by_chr/gene_corrs-chr3.pkl'"
      ],
      "text/plain": [
       "[1] \"/opt/data/data/phenomexcan/ld_blocks/gene_corrs/1000g/mashr/by_chr/gene_corrs-chr3.pkl\""
      ]
     },
     "metadata": {},
     "output_type": "display_data"
    }
   ],
   "source": [
    "INPUT_FILE <- file.path(INPUT_DIR, paste0(\"gene_corrs-chr\", chromosome, \".pkl\"))\n",
    "IRdisplay::display(INPUT_FILE)\n",
    "stopifnot(file.exists(INPUT_FILE))"
   ]
  },
  {
   "cell_type": "code",
   "execution_count": 10,
   "id": "72386fbf-982b-420a-9057-ea9a97a5e571",
   "metadata": {
    "execution": {
     "iopub.execute_input": "2022-07-11T13:17:28.490533Z",
     "iopub.status.busy": "2022-07-11T13:17:28.489467Z",
     "iopub.status.idle": "2022-07-11T13:17:28.504555Z",
     "shell.execute_reply": "2022-07-11T13:17:28.503246Z"
    },
    "papermill": {
     "duration": 0.025287,
     "end_time": "2022-07-11T13:17:28.506460",
     "exception": false,
     "start_time": "2022-07-11T13:17:28.481173",
     "status": "completed"
    },
    "tags": []
   },
   "outputs": [
    {
     "data": {
      "text/html": [
       "'/opt/data/data/phenomexcan/ld_blocks/gene_corrs/1000g/mashr/by_chr/corrected_positive_definite'"
      ],
      "text/latex": [
       "'/opt/data/data/phenomexcan/ld\\_blocks/gene\\_corrs/1000g/mashr/by\\_chr/corrected\\_positive\\_definite'"
      ],
      "text/markdown": [
       "'/opt/data/data/phenomexcan/ld_blocks/gene_corrs/1000g/mashr/by_chr/corrected_positive_definite'"
      ],
      "text/plain": [
       "[1] \"/opt/data/data/phenomexcan/ld_blocks/gene_corrs/1000g/mashr/by_chr/corrected_positive_definite\""
      ]
     },
     "metadata": {},
     "output_type": "display_data"
    }
   ],
   "source": [
    "OUTPUT_DIR <- file.path(INPUT_DIR, \"corrected_positive_definite\")\n",
    "IRdisplay::display(OUTPUT_DIR)\n",
    "dir.create(OUTPUT_DIR, recursive = TRUE, showWarnings = FALSE)"
   ]
  },
  {
   "cell_type": "code",
   "execution_count": 11,
   "id": "f9f19d1d-ce4c-4099-a26e-250fec751de7",
   "metadata": {
    "execution": {
     "iopub.execute_input": "2022-07-11T13:17:28.518092Z",
     "iopub.status.busy": "2022-07-11T13:17:28.516965Z",
     "iopub.status.idle": "2022-07-11T13:17:28.532514Z",
     "shell.execute_reply": "2022-07-11T13:17:28.531200Z"
    },
    "papermill": {
     "duration": 0.023025,
     "end_time": "2022-07-11T13:17:28.534346",
     "exception": false,
     "start_time": "2022-07-11T13:17:28.511321",
     "status": "completed"
    },
    "tags": []
   },
   "outputs": [
    {
     "data": {
      "text/html": [
       "'/opt/data/data/phenomexcan/ld_blocks/gene_corrs/1000g/mashr/by_chr/corrected_positive_definite/gene_corrs-chr3.pkl'"
      ],
      "text/latex": [
       "'/opt/data/data/phenomexcan/ld\\_blocks/gene\\_corrs/1000g/mashr/by\\_chr/corrected\\_positive\\_definite/gene\\_corrs-chr3.pkl'"
      ],
      "text/markdown": [
       "'/opt/data/data/phenomexcan/ld_blocks/gene_corrs/1000g/mashr/by_chr/corrected_positive_definite/gene_corrs-chr3.pkl'"
      ],
      "text/plain": [
       "[1] \"/opt/data/data/phenomexcan/ld_blocks/gene_corrs/1000g/mashr/by_chr/corrected_positive_definite/gene_corrs-chr3.pkl\""
      ]
     },
     "metadata": {},
     "output_type": "display_data"
    }
   ],
   "source": [
    "OUTPUT_FILE <- file.path(OUTPUT_DIR, paste0(\"gene_corrs-chr\", chromosome, \".pkl\"))\n",
    "IRdisplay::display(OUTPUT_FILE)\n",
    "if (file.exists(OUTPUT_FILE)) {\n",
    "  IRdisplay::display(\"Output file exists, it will be overwritten\")\n",
    "}"
   ]
  },
  {
   "cell_type": "markdown",
   "id": "24973e62-e888-4b56-843f-489d8d0762b5",
   "metadata": {
    "papermill": {
     "duration": 0.004573,
     "end_time": "2022-07-11T13:17:28.545728",
     "exception": false,
     "start_time": "2022-07-11T13:17:28.541155",
     "status": "completed"
    },
    "tags": []
   },
   "source": [
    "# Functions"
   ]
  },
  {
   "cell_type": "code",
   "execution_count": 12,
   "id": "f828f081-7358-4cc8-8a89-1ee293bcc1a7",
   "metadata": {
    "execution": {
     "iopub.execute_input": "2022-07-11T13:17:28.559824Z",
     "iopub.status.busy": "2022-07-11T13:17:28.555659Z",
     "iopub.status.idle": "2022-07-11T13:17:28.569038Z",
     "shell.execute_reply": "2022-07-11T13:17:28.567766Z"
    },
    "papermill": {
     "duration": 0.020589,
     "end_time": "2022-07-11T13:17:28.570844",
     "exception": false,
     "start_time": "2022-07-11T13:17:28.550255",
     "status": "completed"
    },
    "tags": []
   },
   "outputs": [],
   "source": [
    "# taken from https://www.r-bloggers.com/2013/08/correcting-a-pseudo-correlation-matrix-to-be-positive-semidefinite/\n",
    "# TODO: add documentation\n",
    "CorrectCM <- function(CM, p = 0) {\n",
    "  n <- dim(var(CM))[1L]\n",
    "  E <- eigen(CM)\n",
    "  CM1 <- E$vectors %*% tcrossprod(diag(pmax(E$values, p), n), E$vectors)\n",
    "  Balance <- diag(1 / sqrt(diag(CM1)))\n",
    "  CM2 <- Balance %*% CM1 %*% Balance\n",
    "  return(CM2)\n",
    "}"
   ]
  },
  {
   "cell_type": "code",
   "execution_count": 13,
   "id": "7ab9bebf-50a1-4e6f-b16a-e23cae93d02a",
   "metadata": {
    "execution": {
     "iopub.execute_input": "2022-07-11T13:17:28.582339Z",
     "iopub.status.busy": "2022-07-11T13:17:28.581278Z",
     "iopub.status.idle": "2022-07-11T13:17:28.591938Z",
     "shell.execute_reply": "2022-07-11T13:17:28.589625Z"
    },
    "papermill": {
     "duration": 0.018235,
     "end_time": "2022-07-11T13:17:28.593810",
     "exception": false,
     "start_time": "2022-07-11T13:17:28.575575",
     "status": "completed"
    },
    "tags": []
   },
   "outputs": [],
   "source": [
    "is_positive_definite <- function(data) {\n",
    "  # eigenvalues <- eigen(data)$values\n",
    "  # nonpositive_eigenvalues <- eigenvalues[eigenvalues <= 0]\n",
    "\n",
    "  cholStatus <- try(u <- chol(data), silent = FALSE)\n",
    "  cholError <- ifelse(class(cholStatus) == \"try-error\", TRUE, FALSE)\n",
    "\n",
    "  if (cholError) {\n",
    "    return(FALSE)\n",
    "  } else {\n",
    "    return(TRUE)\n",
    "  }\n",
    "}"
   ]
  },
  {
   "cell_type": "markdown",
   "id": "7403fd78-00b2-4941-9c07-3c3af1ddc636",
   "metadata": {
    "papermill": {
     "duration": 0.00457,
     "end_time": "2022-07-11T13:17:28.603802",
     "exception": false,
     "start_time": "2022-07-11T13:17:28.599232",
     "status": "completed"
    },
    "tags": []
   },
   "source": [
    "# Load data"
   ]
  },
  {
   "cell_type": "code",
   "execution_count": 14,
   "id": "3a7744e1-2e5a-450e-9dcf-945ec181347d",
   "metadata": {
    "execution": {
     "iopub.execute_input": "2022-07-11T13:17:28.614917Z",
     "iopub.status.busy": "2022-07-11T13:17:28.613667Z",
     "iopub.status.idle": "2022-07-11T13:17:28.686659Z",
     "shell.execute_reply": "2022-07-11T13:17:28.685396Z"
    },
    "papermill": {
     "duration": 0.080311,
     "end_time": "2022-07-11T13:17:28.688553",
     "exception": false,
     "start_time": "2022-07-11T13:17:28.608242",
     "status": "completed"
    },
    "tags": []
   },
   "outputs": [],
   "source": [
    "gene_corrs <- pd$read_pickle(INPUT_FILE)"
   ]
  },
  {
   "cell_type": "code",
   "execution_count": 15,
   "id": "6fb150b2-4c68-4e9b-9aa5-1890d3f762e3",
   "metadata": {
    "execution": {
     "iopub.execute_input": "2022-07-11T13:17:28.700530Z",
     "iopub.status.busy": "2022-07-11T13:17:28.699373Z",
     "iopub.status.idle": "2022-07-11T13:17:28.711307Z",
     "shell.execute_reply": "2022-07-11T13:17:28.710019Z"
    },
    "papermill": {
     "duration": 0.019591,
     "end_time": "2022-07-11T13:17:28.713162",
     "exception": false,
     "start_time": "2022-07-11T13:17:28.693571",
     "status": "completed"
    },
    "tags": []
   },
   "outputs": [
    {
     "data": {
      "text/html": [
       "<style>\n",
       ".list-inline {list-style: none; margin:0; padding: 0}\n",
       ".list-inline>li {display: inline-block}\n",
       ".list-inline>li:not(:last-child)::after {content: \"\\00b7\"; padding: 0 .5ex}\n",
       "</style>\n",
       "<ol class=list-inline><li>393</li><li>393</li></ol>\n"
      ],
      "text/latex": [
       "\\begin{enumerate*}\n",
       "\\item 393\n",
       "\\item 393\n",
       "\\end{enumerate*}\n"
      ],
      "text/markdown": [
       "1. 393\n",
       "2. 393\n",
       "\n",
       "\n"
      ],
      "text/plain": [
       "[1] 393 393"
      ]
     },
     "metadata": {},
     "output_type": "display_data"
    }
   ],
   "source": [
    "dim(gene_corrs)"
   ]
  },
  {
   "cell_type": "code",
   "execution_count": 16,
   "id": "0d4e53b5-7586-4a68-8ce5-d930d74ba943",
   "metadata": {
    "execution": {
     "iopub.execute_input": "2022-07-11T13:17:28.725013Z",
     "iopub.status.busy": "2022-07-11T13:17:28.723953Z",
     "iopub.status.idle": "2022-07-11T13:17:28.747901Z",
     "shell.execute_reply": "2022-07-11T13:17:28.746566Z"
    },
    "papermill": {
     "duration": 0.031791,
     "end_time": "2022-07-11T13:17:28.749763",
     "exception": false,
     "start_time": "2022-07-11T13:17:28.717972",
     "status": "completed"
    },
    "tags": []
   },
   "outputs": [
    {
     "data": {
      "text/html": [
       "<table class=\"dataframe\">\n",
       "<caption>A data.frame: 6 × 10</caption>\n",
       "<thead>\n",
       "\t<tr><th></th><th scope=col>ENSG00000134121</th><th scope=col>ENSG00000091181</th><th scope=col>ENSG00000144455</th><th scope=col>ENSG00000170364</th><th scope=col>ENSG00000150995</th><th scope=col>ENSG00000134107</th><th scope=col>ENSG00000134109</th><th scope=col>ENSG00000180914</th><th scope=col>ENSG00000196220</th><th scope=col>ENSG00000163719</th></tr>\n",
       "\t<tr><th></th><th scope=col>&lt;dbl&gt;</th><th scope=col>&lt;dbl&gt;</th><th scope=col>&lt;dbl&gt;</th><th scope=col>&lt;dbl&gt;</th><th scope=col>&lt;dbl&gt;</th><th scope=col>&lt;dbl&gt;</th><th scope=col>&lt;dbl&gt;</th><th scope=col>&lt;dbl&gt;</th><th scope=col>&lt;dbl&gt;</th><th scope=col>&lt;dbl&gt;</th></tr>\n",
       "</thead>\n",
       "<tbody>\n",
       "\t<tr><th scope=row>ENSG00000134121</th><td>1.00000000</td><td>0.017674191</td><td>0.012542079</td><td>0.016677262</td><td>0.01847881</td><td>0.016097948</td><td>0.018822916</td><td>0.00000000</td><td>0.000000000</td><td>0.000000000</td></tr>\n",
       "\t<tr><th scope=row>ENSG00000091181</th><td>0.01767419</td><td>1.000000000</td><td>0.003377263</td><td>0.010511913</td><td>0.01021661</td><td>0.008805840</td><td>0.010159363</td><td>0.00000000</td><td>0.000000000</td><td>0.000000000</td></tr>\n",
       "\t<tr><th scope=row>ENSG00000144455</th><td>0.01254208</td><td>0.003377263</td><td>1.000000000</td><td>0.230119288</td><td>0.23898986</td><td>0.005771232</td><td>0.007381582</td><td>0.01151996</td><td>0.006743266</td><td>0.000000000</td></tr>\n",
       "\t<tr><th scope=row>ENSG00000170364</th><td>0.01667726</td><td>0.010511913</td><td>0.230119288</td><td>1.000000000</td><td>0.02445648</td><td>0.005700651</td><td>0.005812365</td><td>0.01076115</td><td>0.012330369</td><td>0.000000000</td></tr>\n",
       "\t<tr><th scope=row>ENSG00000150995</th><td>0.01847881</td><td>0.010216606</td><td>0.238989856</td><td>0.024456478</td><td>1.00000000</td><td>0.058599645</td><td>0.013710487</td><td>0.01485526</td><td>0.009410961</td><td>0.007316525</td></tr>\n",
       "\t<tr><th scope=row>ENSG00000134107</th><td>0.01609795</td><td>0.008805840</td><td>0.005771232</td><td>0.005700651</td><td>0.05859964</td><td>1.000000000</td><td>0.010874770</td><td>0.01345445</td><td>0.006885486</td><td>0.008300772</td></tr>\n",
       "</tbody>\n",
       "</table>\n"
      ],
      "text/latex": [
       "A data.frame: 6 × 10\n",
       "\\begin{tabular}{r|llllllllll}\n",
       "  & ENSG00000134121 & ENSG00000091181 & ENSG00000144455 & ENSG00000170364 & ENSG00000150995 & ENSG00000134107 & ENSG00000134109 & ENSG00000180914 & ENSG00000196220 & ENSG00000163719\\\\\n",
       "  & <dbl> & <dbl> & <dbl> & <dbl> & <dbl> & <dbl> & <dbl> & <dbl> & <dbl> & <dbl>\\\\\n",
       "\\hline\n",
       "\tENSG00000134121 & 1.00000000 & 0.017674191 & 0.012542079 & 0.016677262 & 0.01847881 & 0.016097948 & 0.018822916 & 0.00000000 & 0.000000000 & 0.000000000\\\\\n",
       "\tENSG00000091181 & 0.01767419 & 1.000000000 & 0.003377263 & 0.010511913 & 0.01021661 & 0.008805840 & 0.010159363 & 0.00000000 & 0.000000000 & 0.000000000\\\\\n",
       "\tENSG00000144455 & 0.01254208 & 0.003377263 & 1.000000000 & 0.230119288 & 0.23898986 & 0.005771232 & 0.007381582 & 0.01151996 & 0.006743266 & 0.000000000\\\\\n",
       "\tENSG00000170364 & 0.01667726 & 0.010511913 & 0.230119288 & 1.000000000 & 0.02445648 & 0.005700651 & 0.005812365 & 0.01076115 & 0.012330369 & 0.000000000\\\\\n",
       "\tENSG00000150995 & 0.01847881 & 0.010216606 & 0.238989856 & 0.024456478 & 1.00000000 & 0.058599645 & 0.013710487 & 0.01485526 & 0.009410961 & 0.007316525\\\\\n",
       "\tENSG00000134107 & 0.01609795 & 0.008805840 & 0.005771232 & 0.005700651 & 0.05859964 & 1.000000000 & 0.010874770 & 0.01345445 & 0.006885486 & 0.008300772\\\\\n",
       "\\end{tabular}\n"
      ],
      "text/markdown": [
       "\n",
       "A data.frame: 6 × 10\n",
       "\n",
       "| <!--/--> | ENSG00000134121 &lt;dbl&gt; | ENSG00000091181 &lt;dbl&gt; | ENSG00000144455 &lt;dbl&gt; | ENSG00000170364 &lt;dbl&gt; | ENSG00000150995 &lt;dbl&gt; | ENSG00000134107 &lt;dbl&gt; | ENSG00000134109 &lt;dbl&gt; | ENSG00000180914 &lt;dbl&gt; | ENSG00000196220 &lt;dbl&gt; | ENSG00000163719 &lt;dbl&gt; |\n",
       "|---|---|---|---|---|---|---|---|---|---|---|\n",
       "| ENSG00000134121 | 1.00000000 | 0.017674191 | 0.012542079 | 0.016677262 | 0.01847881 | 0.016097948 | 0.018822916 | 0.00000000 | 0.000000000 | 0.000000000 |\n",
       "| ENSG00000091181 | 0.01767419 | 1.000000000 | 0.003377263 | 0.010511913 | 0.01021661 | 0.008805840 | 0.010159363 | 0.00000000 | 0.000000000 | 0.000000000 |\n",
       "| ENSG00000144455 | 0.01254208 | 0.003377263 | 1.000000000 | 0.230119288 | 0.23898986 | 0.005771232 | 0.007381582 | 0.01151996 | 0.006743266 | 0.000000000 |\n",
       "| ENSG00000170364 | 0.01667726 | 0.010511913 | 0.230119288 | 1.000000000 | 0.02445648 | 0.005700651 | 0.005812365 | 0.01076115 | 0.012330369 | 0.000000000 |\n",
       "| ENSG00000150995 | 0.01847881 | 0.010216606 | 0.238989856 | 0.024456478 | 1.00000000 | 0.058599645 | 0.013710487 | 0.01485526 | 0.009410961 | 0.007316525 |\n",
       "| ENSG00000134107 | 0.01609795 | 0.008805840 | 0.005771232 | 0.005700651 | 0.05859964 | 1.000000000 | 0.010874770 | 0.01345445 | 0.006885486 | 0.008300772 |\n",
       "\n"
      ],
      "text/plain": [
       "                ENSG00000134121 ENSG00000091181 ENSG00000144455 ENSG00000170364\n",
       "ENSG00000134121 1.00000000      0.017674191     0.012542079     0.016677262    \n",
       "ENSG00000091181 0.01767419      1.000000000     0.003377263     0.010511913    \n",
       "ENSG00000144455 0.01254208      0.003377263     1.000000000     0.230119288    \n",
       "ENSG00000170364 0.01667726      0.010511913     0.230119288     1.000000000    \n",
       "ENSG00000150995 0.01847881      0.010216606     0.238989856     0.024456478    \n",
       "ENSG00000134107 0.01609795      0.008805840     0.005771232     0.005700651    \n",
       "                ENSG00000150995 ENSG00000134107 ENSG00000134109 ENSG00000180914\n",
       "ENSG00000134121 0.01847881      0.016097948     0.018822916     0.00000000     \n",
       "ENSG00000091181 0.01021661      0.008805840     0.010159363     0.00000000     \n",
       "ENSG00000144455 0.23898986      0.005771232     0.007381582     0.01151996     \n",
       "ENSG00000170364 0.02445648      0.005700651     0.005812365     0.01076115     \n",
       "ENSG00000150995 1.00000000      0.058599645     0.013710487     0.01485526     \n",
       "ENSG00000134107 0.05859964      1.000000000     0.010874770     0.01345445     \n",
       "                ENSG00000196220 ENSG00000163719\n",
       "ENSG00000134121 0.000000000     0.000000000    \n",
       "ENSG00000091181 0.000000000     0.000000000    \n",
       "ENSG00000144455 0.006743266     0.000000000    \n",
       "ENSG00000170364 0.012330369     0.000000000    \n",
       "ENSG00000150995 0.009410961     0.007316525    \n",
       "ENSG00000134107 0.006885486     0.008300772    "
      ]
     },
     "metadata": {},
     "output_type": "display_data"
    }
   ],
   "source": [
    "head(gene_corrs[1:10, 1:10])"
   ]
  },
  {
   "cell_type": "markdown",
   "id": "d6cbc88a-2c90-4d11-b7dd-434f046fd03c",
   "metadata": {
    "papermill": {
     "duration": 0.005162,
     "end_time": "2022-07-11T13:17:28.760254",
     "exception": false,
     "start_time": "2022-07-11T13:17:28.755092",
     "status": "completed"
    },
    "tags": []
   },
   "source": [
    "# Check positive definiteness"
   ]
  },
  {
   "cell_type": "code",
   "execution_count": 17,
   "id": "a858a061-7c5a-4a6b-8026-fe4de50c1f26",
   "metadata": {
    "execution": {
     "iopub.execute_input": "2022-07-11T13:17:28.772762Z",
     "iopub.status.busy": "2022-07-11T13:17:28.771558Z",
     "iopub.status.idle": "2022-07-11T13:17:28.787119Z",
     "shell.execute_reply": "2022-07-11T13:17:28.785876Z"
    },
    "papermill": {
     "duration": 0.023882,
     "end_time": "2022-07-11T13:17:28.789335",
     "exception": false,
     "start_time": "2022-07-11T13:17:28.765453",
     "status": "completed"
    },
    "tags": []
   },
   "outputs": [],
   "source": [
    "orig_matrix_is_positive_definite <- is_positive_definite(gene_corrs)"
   ]
  },
  {
   "cell_type": "code",
   "execution_count": 18,
   "id": "410ee452-488f-4518-b93a-2acd608ba99c",
   "metadata": {
    "execution": {
     "iopub.execute_input": "2022-07-11T13:17:28.802466Z",
     "iopub.status.busy": "2022-07-11T13:17:28.800528Z",
     "iopub.status.idle": "2022-07-11T13:17:28.821640Z",
     "shell.execute_reply": "2022-07-11T13:17:28.819656Z"
    },
    "papermill": {
     "duration": 0.028938,
     "end_time": "2022-07-11T13:17:28.823252",
     "exception": false,
     "start_time": "2022-07-11T13:17:28.794314",
     "status": "completed"
    },
    "tags": []
   },
   "outputs": [
    {
     "data": {
      "text/html": [
       "'Matrix is already positive definite!'"
      ],
      "text/latex": [
       "'Matrix is already positive definite!'"
      ],
      "text/markdown": [
       "'Matrix is already positive definite!'"
      ],
      "text/plain": [
       "[1] \"Matrix is already positive definite!\""
      ]
     },
     "metadata": {},
     "output_type": "display_data"
    },
    {
     "data": {
      "text/html": [
       "TRUE"
      ],
      "text/latex": [
       "TRUE"
      ],
      "text/markdown": [
       "TRUE"
      ],
      "text/plain": [
       "[1] TRUE"
      ]
     },
     "metadata": {},
     "output_type": "display_data"
    }
   ],
   "source": [
    "if (orig_matrix_is_positive_definite) {\n",
    "  IRdisplay::display(\"Matrix is already positive definite!\")\n",
    "  file.copy(INPUT_FILE, OUTPUT_FILE)\n",
    "} else {\n",
    "  IRdisplay::display(\"We need to correct the data and make the matrix positive definite\")\n",
    "\n",
    "  eigenvalues <- eigen(gene_corrs)$values\n",
    "  nonpositive_eigenvalues <- eigenvalues[eigenvalues <= 0]\n",
    "  IRdisplay::display(length(nonpositive_eigenvalues))\n",
    "  IRdisplay::display(nonpositive_eigenvalues)\n",
    "\n",
    "  # Make matrix positive definite\n",
    "  gene_corrs_corrected <- CorrectCM(gene_corrs, 1e-10)\n",
    "  dimnames(gene_corrs_corrected)[[1]] <- rownames(gene_corrs)\n",
    "  dimnames(gene_corrs_corrected)[[2]] <- colnames(gene_corrs)\n",
    "  gene_corrs_corrected <- as.data.frame(gene_corrs_corrected)\n",
    "\n",
    "  # check if new matrix is really positive definite\n",
    "  matrix_is_positive_definite <- is_positive_definite(gene_corrs_corrected)\n",
    "  if (matrix_is_positive_definite) {\n",
    "    IRdisplay::display(\"It worked!\")\n",
    "    IRdisplay::display(head(gene_corrs[1:10, 1:10]))\n",
    "    IRdisplay::display(head(gene_corrs_corrected[1:10, 1:10]))\n",
    "    py_save_object(gene_corrs_corrected, OUTPUT_FILE)\n",
    "  } else {\n",
    "    eigenvalues <- eigen(gene_corrs_corrected)$values\n",
    "    nonpositive_eigenvalues <- eigenvalues[eigenvalues <= 0]\n",
    "    IRdisplay::display(length(nonpositive_eigenvalues))\n",
    "    IRdisplay::display(nonpositive_eigenvalues)\n",
    "\n",
    "    stop(\"Method failed to adjust matrix\")\n",
    "  }\n",
    "}"
   ]
  },
  {
   "cell_type": "markdown",
   "id": "6c196700-7491-462f-bab8-ab9d40c63499",
   "metadata": {
    "papermill": {
     "duration": 0.004742,
     "end_time": "2022-07-11T13:17:28.833071",
     "exception": false,
     "start_time": "2022-07-11T13:17:28.828329",
     "status": "completed"
    },
    "tags": []
   },
   "source": [
    "Both matrices should \"look\" similar. We are not interested in perfectly accurate correlation values (they are already inaccurate)."
   ]
  },
  {
   "cell_type": "code",
   "execution_count": null,
   "id": "d8ae4220-2171-460c-9231-cd5219f3fe77",
   "metadata": {
    "papermill": {
     "duration": 0.004795,
     "end_time": "2022-07-11T13:17:28.842749",
     "exception": false,
     "start_time": "2022-07-11T13:17:28.837954",
     "status": "completed"
    },
    "tags": []
   },
   "outputs": [],
   "source": []
  }
 ],
 "metadata": {
  "jupytext": {
   "cell_metadata_filter": "all,-execution,-papermill,-trusted"
  },
  "kernelspec": {
   "display_name": "R",
   "language": "R",
   "name": "ir"
  },
  "language_info": {
   "codemirror_mode": "r",
   "file_extension": ".r",
   "mimetype": "text/x-r-source",
   "name": "R",
   "pygments_lexer": "r",
   "version": "3.6.3"
  },
  "papermill": {
   "default_parameters": {},
   "duration": 5.155463,
   "end_time": "2022-07-11T13:17:28.964779",
   "environment_variables": {},
   "exception": null,
   "input_path": "nbs/15_gsa_gls/12-gene_expr_correlations-adjust.ipynb",
   "output_path": "nbs/15_gsa_gls/gene_corrs/1000g/mashr/12-gene_expr_correlations-adjust-chr3.run.ipynb",
   "parameters": {
    "EQTL_MODEL": "MASHR",
    "REFERENCE_PANEL": "1000G",
    "chromosome": 3
   },
   "start_time": "2022-07-11T13:17:23.809316",
   "version": "2.3.4"
  }
 },
 "nbformat": 4,
 "nbformat_minor": 5
}
