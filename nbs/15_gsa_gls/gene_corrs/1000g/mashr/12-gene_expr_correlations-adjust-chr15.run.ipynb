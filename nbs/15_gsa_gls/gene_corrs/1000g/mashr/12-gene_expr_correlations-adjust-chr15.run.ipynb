{
 "cells": [
  {
   "cell_type": "markdown",
   "id": "28fc82fa-c3f6-4184-8054-cc91c7c6e2e7",
   "metadata": {
    "papermill": {
     "duration": 0.004394,
     "end_time": "2022-07-11T13:17:52.974936",
     "exception": false,
     "start_time": "2022-07-11T13:17:52.970542",
     "status": "completed"
    },
    "tags": []
   },
   "source": [
    "# Description"
   ]
  },
  {
   "cell_type": "markdown",
   "id": "36839b17-916e-4aec-8fee-96faf1097e78",
   "metadata": {
    "papermill": {
     "duration": 0.003433,
     "end_time": "2022-07-11T13:17:52.990121",
     "exception": false,
     "start_time": "2022-07-11T13:17:52.986688",
     "status": "completed"
    },
    "tags": []
   },
   "source": [
    "**TODO**"
   ]
  },
  {
   "cell_type": "markdown",
   "id": "249e8aa3-ef1a-4bba-a6dd-58120ad80794",
   "metadata": {
    "papermill": {
     "duration": 0.003419,
     "end_time": "2022-07-11T13:17:52.997189",
     "exception": false,
     "start_time": "2022-07-11T13:17:52.993770",
     "status": "completed"
    },
    "tags": []
   },
   "source": [
    "# Modules"
   ]
  },
  {
   "cell_type": "code",
   "execution_count": 1,
   "id": "f9b5022b-7c5e-4d37-9c7a-fdb91777c7f9",
   "metadata": {
    "execution": {
     "iopub.execute_input": "2022-07-11T13:17:53.007699Z",
     "iopub.status.busy": "2022-07-11T13:17:53.005558Z",
     "iopub.status.idle": "2022-07-11T13:17:56.386730Z",
     "shell.execute_reply": "2022-07-11T13:17:56.385585Z"
    },
    "papermill": {
     "duration": 3.387392,
     "end_time": "2022-07-11T13:17:56.388228",
     "exception": false,
     "start_time": "2022-07-11T13:17:53.000836",
     "status": "completed"
    },
    "tags": []
   },
   "outputs": [],
   "source": [
    "library(reticulate)\n",
    "pd <- import(\"pandas\")"
   ]
  },
  {
   "cell_type": "markdown",
   "id": "69e80173-3a39-4b6a-b723-602687cb255b",
   "metadata": {
    "papermill": {
     "duration": 0.002941,
     "end_time": "2022-07-11T13:17:56.394268",
     "exception": false,
     "start_time": "2022-07-11T13:17:56.391327",
     "status": "completed"
    },
    "tags": []
   },
   "source": [
    "# Settings"
   ]
  },
  {
   "cell_type": "code",
   "execution_count": 2,
   "id": "22d12bb4-1699-4a6b-b1b9-d3fdd3d547d7",
   "metadata": {
    "execution": {
     "iopub.execute_input": "2022-07-11T13:17:56.421808Z",
     "iopub.status.busy": "2022-07-11T13:17:56.401302Z",
     "iopub.status.idle": "2022-07-11T13:17:56.433035Z",
     "shell.execute_reply": "2022-07-11T13:17:56.431896Z"
    },
    "papermill": {
     "duration": 0.037387,
     "end_time": "2022-07-11T13:17:56.434689",
     "exception": false,
     "start_time": "2022-07-11T13:17:56.397302",
     "status": "completed"
    },
    "tags": [
     "parameters"
    ]
   },
   "outputs": [],
   "source": [
    "# reference panel\n",
    "REFERENCE_PANEL <- \"GTEX_V8\"\n",
    "# REFERENCE_PANEL = \"1000G\"\n",
    "\n",
    "# prediction models\n",
    "## mashr\n",
    "EQTL_MODEL <- \"MASHR\"\n",
    "\n",
    "chromosome <- NULL"
   ]
  },
  {
   "cell_type": "code",
   "execution_count": 3,
   "id": "691e828a",
   "metadata": {
    "execution": {
     "iopub.execute_input": "2022-07-11T13:17:56.443207Z",
     "iopub.status.busy": "2022-07-11T13:17:56.442203Z",
     "iopub.status.idle": "2022-07-11T13:17:56.459019Z",
     "shell.execute_reply": "2022-07-11T13:17:56.457835Z"
    },
    "papermill": {
     "duration": 0.022712,
     "end_time": "2022-07-11T13:17:56.460682",
     "exception": false,
     "start_time": "2022-07-11T13:17:56.437970",
     "status": "completed"
    },
    "tags": [
     "injected-parameters"
    ]
   },
   "outputs": [],
   "source": [
    "# Parameters\n",
    "chromosome = 15\n",
    "REFERENCE_PANEL = \"1000G\"\n",
    "EQTL_MODEL = \"MASHR\"\n"
   ]
  },
  {
   "cell_type": "code",
   "execution_count": 4,
   "id": "8fe24bef",
   "metadata": {
    "execution": {
     "iopub.execute_input": "2022-07-11T13:17:56.469456Z",
     "iopub.status.busy": "2022-07-11T13:17:56.468442Z",
     "iopub.status.idle": "2022-07-11T13:17:56.480973Z",
     "shell.execute_reply": "2022-07-11T13:17:56.479786Z"
    },
    "papermill": {
     "duration": 0.018573,
     "end_time": "2022-07-11T13:17:56.482716",
     "exception": false,
     "start_time": "2022-07-11T13:17:56.464143",
     "status": "completed"
    },
    "tags": []
   },
   "outputs": [
    {
     "data": {
      "text/html": [
       "'Using reference panel: 1000G'"
      ],
      "text/latex": [
       "'Using reference panel: 1000G'"
      ],
      "text/markdown": [
       "'Using reference panel: 1000G'"
      ],
      "text/plain": [
       "[1] \"Using reference panel: 1000G\""
      ]
     },
     "metadata": {},
     "output_type": "display_data"
    }
   ],
   "source": [
    "paste0(\"Using reference panel: \", REFERENCE_PANEL)"
   ]
  },
  {
   "cell_type": "code",
   "execution_count": 5,
   "id": "d62c28f8-186c-478b-948c-58e14f00df4b",
   "metadata": {
    "execution": {
     "iopub.execute_input": "2022-07-11T13:17:56.492269Z",
     "iopub.status.busy": "2022-07-11T13:17:56.491253Z",
     "iopub.status.idle": "2022-07-11T13:17:56.502307Z",
     "shell.execute_reply": "2022-07-11T13:17:56.501085Z"
    },
    "papermill": {
     "duration": 0.017449,
     "end_time": "2022-07-11T13:17:56.504062",
     "exception": false,
     "start_time": "2022-07-11T13:17:56.486613",
     "status": "completed"
    },
    "tags": []
   },
   "outputs": [
    {
     "data": {
      "text/html": [
       "'Using eQTL model: MASHR'"
      ],
      "text/latex": [
       "'Using eQTL model: MASHR'"
      ],
      "text/markdown": [
       "'Using eQTL model: MASHR'"
      ],
      "text/plain": [
       "[1] \"Using eQTL model: MASHR\""
      ]
     },
     "metadata": {},
     "output_type": "display_data"
    }
   ],
   "source": [
    "paste0(\"Using eQTL model: \", EQTL_MODEL)"
   ]
  },
  {
   "cell_type": "code",
   "execution_count": 6,
   "id": "5243676f-c889-4405-9a4d-262f0f044614",
   "metadata": {
    "execution": {
     "iopub.execute_input": "2022-07-11T13:17:56.513821Z",
     "iopub.status.busy": "2022-07-11T13:17:56.512750Z",
     "iopub.status.idle": "2022-07-11T13:17:56.522177Z",
     "shell.execute_reply": "2022-07-11T13:17:56.520941Z"
    },
    "papermill": {
     "duration": 0.016075,
     "end_time": "2022-07-11T13:17:56.523930",
     "exception": false,
     "start_time": "2022-07-11T13:17:56.507855",
     "status": "completed"
    },
    "tags": []
   },
   "outputs": [],
   "source": [
    "# chromosome must be provided as parameter\n",
    "stopifnot(!is.null(chromosome))"
   ]
  },
  {
   "cell_type": "markdown",
   "id": "c05e4d34-e115-48cd-8a2e-225109eb0042",
   "metadata": {
    "papermill": {
     "duration": 0.003639,
     "end_time": "2022-07-11T13:17:56.531453",
     "exception": false,
     "start_time": "2022-07-11T13:17:56.527814",
     "status": "completed"
    },
    "tags": []
   },
   "source": [
    "# Paths"
   ]
  },
  {
   "cell_type": "code",
   "execution_count": 7,
   "id": "eb6aa8aa-b452-4a2f-a780-93dd80ad4285",
   "metadata": {
    "execution": {
     "iopub.execute_input": "2022-07-11T13:17:56.540744Z",
     "iopub.status.busy": "2022-07-11T13:17:56.539737Z",
     "iopub.status.idle": "2022-07-11T13:17:56.552089Z",
     "shell.execute_reply": "2022-07-11T13:17:56.550908Z"
    },
    "papermill": {
     "duration": 0.018722,
     "end_time": "2022-07-11T13:17:56.553818",
     "exception": false,
     "start_time": "2022-07-11T13:17:56.535096",
     "status": "completed"
    },
    "tags": []
   },
   "outputs": [
    {
     "data": {
      "text/html": [
       "'/opt/data/data/phenomexcan/ld_blocks/gene_corrs'"
      ],
      "text/latex": [
       "'/opt/data/data/phenomexcan/ld\\_blocks/gene\\_corrs'"
      ],
      "text/markdown": [
       "'/opt/data/data/phenomexcan/ld_blocks/gene_corrs'"
      ],
      "text/plain": [
       "[1] \"/opt/data/data/phenomexcan/ld_blocks/gene_corrs\""
      ]
     },
     "metadata": {},
     "output_type": "display_data"
    }
   ],
   "source": [
    "GENE_CORRS_DIR <- Sys.getenv(\"PHENOPLIER_PHENOMEXCAN_LD_BLOCKS_GENE_CORRS_DIR\")\n",
    "IRdisplay::display(GENE_CORRS_DIR)"
   ]
  },
  {
   "cell_type": "code",
   "execution_count": 8,
   "id": "eb24f15f-f282-4476-8943-8413c4483f12",
   "metadata": {
    "execution": {
     "iopub.execute_input": "2022-07-11T13:17:56.563409Z",
     "iopub.status.busy": "2022-07-11T13:17:56.562383Z",
     "iopub.status.idle": "2022-07-11T13:17:56.574679Z",
     "shell.execute_reply": "2022-07-11T13:17:56.573477Z"
    },
    "papermill": {
     "duration": 0.018708,
     "end_time": "2022-07-11T13:17:56.576329",
     "exception": false,
     "start_time": "2022-07-11T13:17:56.557621",
     "status": "completed"
    },
    "tags": []
   },
   "outputs": [
    {
     "data": {
      "text/html": [
       "'/opt/data/data/phenomexcan/ld_blocks/gene_corrs/1000g/mashr/by_chr'"
      ],
      "text/latex": [
       "'/opt/data/data/phenomexcan/ld\\_blocks/gene\\_corrs/1000g/mashr/by\\_chr'"
      ],
      "text/markdown": [
       "'/opt/data/data/phenomexcan/ld_blocks/gene_corrs/1000g/mashr/by_chr'"
      ],
      "text/plain": [
       "[1] \"/opt/data/data/phenomexcan/ld_blocks/gene_corrs/1000g/mashr/by_chr\""
      ]
     },
     "metadata": {},
     "output_type": "display_data"
    }
   ],
   "source": [
    "INPUT_DIR <- file.path(GENE_CORRS_DIR, tolower(REFERENCE_PANEL), tolower(EQTL_MODEL), \"by_chr\")\n",
    "IRdisplay::display(INPUT_DIR)"
   ]
  },
  {
   "cell_type": "code",
   "execution_count": 9,
   "id": "43c1daba-0da9-4822-8d1e-968e9767e251",
   "metadata": {
    "execution": {
     "iopub.execute_input": "2022-07-11T13:17:56.586280Z",
     "iopub.status.busy": "2022-07-11T13:17:56.585272Z",
     "iopub.status.idle": "2022-07-11T13:17:56.599733Z",
     "shell.execute_reply": "2022-07-11T13:17:56.598466Z"
    },
    "papermill": {
     "duration": 0.021229,
     "end_time": "2022-07-11T13:17:56.601699",
     "exception": false,
     "start_time": "2022-07-11T13:17:56.580470",
     "status": "completed"
    },
    "tags": []
   },
   "outputs": [
    {
     "data": {
      "text/html": [
       "'/opt/data/data/phenomexcan/ld_blocks/gene_corrs/1000g/mashr/by_chr/gene_corrs-chr15.pkl'"
      ],
      "text/latex": [
       "'/opt/data/data/phenomexcan/ld\\_blocks/gene\\_corrs/1000g/mashr/by\\_chr/gene\\_corrs-chr15.pkl'"
      ],
      "text/markdown": [
       "'/opt/data/data/phenomexcan/ld_blocks/gene_corrs/1000g/mashr/by_chr/gene_corrs-chr15.pkl'"
      ],
      "text/plain": [
       "[1] \"/opt/data/data/phenomexcan/ld_blocks/gene_corrs/1000g/mashr/by_chr/gene_corrs-chr15.pkl\""
      ]
     },
     "metadata": {},
     "output_type": "display_data"
    }
   ],
   "source": [
    "INPUT_FILE <- file.path(INPUT_DIR, paste0(\"gene_corrs-chr\", chromosome, \".pkl\"))\n",
    "IRdisplay::display(INPUT_FILE)\n",
    "stopifnot(file.exists(INPUT_FILE))"
   ]
  },
  {
   "cell_type": "code",
   "execution_count": 10,
   "id": "72386fbf-982b-420a-9057-ea9a97a5e571",
   "metadata": {
    "execution": {
     "iopub.execute_input": "2022-07-11T13:17:56.612941Z",
     "iopub.status.busy": "2022-07-11T13:17:56.611838Z",
     "iopub.status.idle": "2022-07-11T13:17:56.627469Z",
     "shell.execute_reply": "2022-07-11T13:17:56.626169Z"
    },
    "papermill": {
     "duration": 0.023117,
     "end_time": "2022-07-11T13:17:56.629334",
     "exception": false,
     "start_time": "2022-07-11T13:17:56.606217",
     "status": "completed"
    },
    "tags": []
   },
   "outputs": [
    {
     "data": {
      "text/html": [
       "'/opt/data/data/phenomexcan/ld_blocks/gene_corrs/1000g/mashr/by_chr/corrected_positive_definite'"
      ],
      "text/latex": [
       "'/opt/data/data/phenomexcan/ld\\_blocks/gene\\_corrs/1000g/mashr/by\\_chr/corrected\\_positive\\_definite'"
      ],
      "text/markdown": [
       "'/opt/data/data/phenomexcan/ld_blocks/gene_corrs/1000g/mashr/by_chr/corrected_positive_definite'"
      ],
      "text/plain": [
       "[1] \"/opt/data/data/phenomexcan/ld_blocks/gene_corrs/1000g/mashr/by_chr/corrected_positive_definite\""
      ]
     },
     "metadata": {},
     "output_type": "display_data"
    }
   ],
   "source": [
    "OUTPUT_DIR <- file.path(INPUT_DIR, \"corrected_positive_definite\")\n",
    "IRdisplay::display(OUTPUT_DIR)\n",
    "dir.create(OUTPUT_DIR, recursive = TRUE, showWarnings = FALSE)"
   ]
  },
  {
   "cell_type": "code",
   "execution_count": 11,
   "id": "f9f19d1d-ce4c-4099-a26e-250fec751de7",
   "metadata": {
    "execution": {
     "iopub.execute_input": "2022-07-11T13:17:56.641097Z",
     "iopub.status.busy": "2022-07-11T13:17:56.639943Z",
     "iopub.status.idle": "2022-07-11T13:17:56.655305Z",
     "shell.execute_reply": "2022-07-11T13:17:56.654021Z"
    },
    "papermill": {
     "duration": 0.023857,
     "end_time": "2022-07-11T13:17:56.657960",
     "exception": false,
     "start_time": "2022-07-11T13:17:56.634103",
     "status": "completed"
    },
    "tags": []
   },
   "outputs": [
    {
     "data": {
      "text/html": [
       "'/opt/data/data/phenomexcan/ld_blocks/gene_corrs/1000g/mashr/by_chr/corrected_positive_definite/gene_corrs-chr15.pkl'"
      ],
      "text/latex": [
       "'/opt/data/data/phenomexcan/ld\\_blocks/gene\\_corrs/1000g/mashr/by\\_chr/corrected\\_positive\\_definite/gene\\_corrs-chr15.pkl'"
      ],
      "text/markdown": [
       "'/opt/data/data/phenomexcan/ld_blocks/gene_corrs/1000g/mashr/by_chr/corrected_positive_definite/gene_corrs-chr15.pkl'"
      ],
      "text/plain": [
       "[1] \"/opt/data/data/phenomexcan/ld_blocks/gene_corrs/1000g/mashr/by_chr/corrected_positive_definite/gene_corrs-chr15.pkl\""
      ]
     },
     "metadata": {},
     "output_type": "display_data"
    }
   ],
   "source": [
    "OUTPUT_FILE <- file.path(OUTPUT_DIR, paste0(\"gene_corrs-chr\", chromosome, \".pkl\"))\n",
    "IRdisplay::display(OUTPUT_FILE)\n",
    "if (file.exists(OUTPUT_FILE)) {\n",
    "  IRdisplay::display(\"Output file exists, it will be overwritten\")\n",
    "}"
   ]
  },
  {
   "cell_type": "markdown",
   "id": "24973e62-e888-4b56-843f-489d8d0762b5",
   "metadata": {
    "papermill": {
     "duration": 0.00461,
     "end_time": "2022-07-11T13:17:56.667263",
     "exception": false,
     "start_time": "2022-07-11T13:17:56.662653",
     "status": "completed"
    },
    "tags": []
   },
   "source": [
    "# Functions"
   ]
  },
  {
   "cell_type": "code",
   "execution_count": 12,
   "id": "f828f081-7358-4cc8-8a89-1ee293bcc1a7",
   "metadata": {
    "execution": {
     "iopub.execute_input": "2022-07-11T13:17:56.681896Z",
     "iopub.status.busy": "2022-07-11T13:17:56.677611Z",
     "iopub.status.idle": "2022-07-11T13:17:56.690819Z",
     "shell.execute_reply": "2022-07-11T13:17:56.689575Z"
    },
    "papermill": {
     "duration": 0.020664,
     "end_time": "2022-07-11T13:17:56.692599",
     "exception": false,
     "start_time": "2022-07-11T13:17:56.671935",
     "status": "completed"
    },
    "tags": []
   },
   "outputs": [],
   "source": [
    "# taken from https://www.r-bloggers.com/2013/08/correcting-a-pseudo-correlation-matrix-to-be-positive-semidefinite/\n",
    "# TODO: add documentation\n",
    "CorrectCM <- function(CM, p = 0) {\n",
    "  n <- dim(var(CM))[1L]\n",
    "  E <- eigen(CM)\n",
    "  CM1 <- E$vectors %*% tcrossprod(diag(pmax(E$values, p), n), E$vectors)\n",
    "  Balance <- diag(1 / sqrt(diag(CM1)))\n",
    "  CM2 <- Balance %*% CM1 %*% Balance\n",
    "  return(CM2)\n",
    "}"
   ]
  },
  {
   "cell_type": "code",
   "execution_count": 13,
   "id": "7ab9bebf-50a1-4e6f-b16a-e23cae93d02a",
   "metadata": {
    "execution": {
     "iopub.execute_input": "2022-07-11T13:17:56.703804Z",
     "iopub.status.busy": "2022-07-11T13:17:56.702716Z",
     "iopub.status.idle": "2022-07-11T13:17:56.712026Z",
     "shell.execute_reply": "2022-07-11T13:17:56.710738Z"
    },
    "papermill": {
     "duration": 0.016547,
     "end_time": "2022-07-11T13:17:56.713775",
     "exception": false,
     "start_time": "2022-07-11T13:17:56.697228",
     "status": "completed"
    },
    "tags": []
   },
   "outputs": [],
   "source": [
    "is_positive_definite <- function(data) {\n",
    "  # eigenvalues <- eigen(data)$values\n",
    "  # nonpositive_eigenvalues <- eigenvalues[eigenvalues <= 0]\n",
    "\n",
    "  cholStatus <- try(u <- chol(data), silent = FALSE)\n",
    "  cholError <- ifelse(class(cholStatus) == \"try-error\", TRUE, FALSE)\n",
    "\n",
    "  if (cholError) {\n",
    "    return(FALSE)\n",
    "  } else {\n",
    "    return(TRUE)\n",
    "  }\n",
    "}"
   ]
  },
  {
   "cell_type": "markdown",
   "id": "7403fd78-00b2-4941-9c07-3c3af1ddc636",
   "metadata": {
    "papermill": {
     "duration": 0.00426,
     "end_time": "2022-07-11T13:17:56.723059",
     "exception": false,
     "start_time": "2022-07-11T13:17:56.718799",
     "status": "completed"
    },
    "tags": []
   },
   "source": [
    "# Load data"
   ]
  },
  {
   "cell_type": "code",
   "execution_count": 14,
   "id": "3a7744e1-2e5a-450e-9dcf-945ec181347d",
   "metadata": {
    "execution": {
     "iopub.execute_input": "2022-07-11T13:17:56.733595Z",
     "iopub.status.busy": "2022-07-11T13:17:56.732563Z",
     "iopub.status.idle": "2022-07-11T13:17:56.764854Z",
     "shell.execute_reply": "2022-07-11T13:17:56.763692Z"
    },
    "papermill": {
     "duration": 0.038971,
     "end_time": "2022-07-11T13:17:56.766520",
     "exception": false,
     "start_time": "2022-07-11T13:17:56.727549",
     "status": "completed"
    },
    "tags": []
   },
   "outputs": [],
   "source": [
    "gene_corrs <- pd$read_pickle(INPUT_FILE)"
   ]
  },
  {
   "cell_type": "code",
   "execution_count": 15,
   "id": "6fb150b2-4c68-4e9b-9aa5-1890d3f762e3",
   "metadata": {
    "execution": {
     "iopub.execute_input": "2022-07-11T13:17:56.776870Z",
     "iopub.status.busy": "2022-07-11T13:17:56.775901Z",
     "iopub.status.idle": "2022-07-11T13:17:56.786583Z",
     "shell.execute_reply": "2022-07-11T13:17:56.785403Z"
    },
    "papermill": {
     "duration": 0.017477,
     "end_time": "2022-07-11T13:17:56.788305",
     "exception": false,
     "start_time": "2022-07-11T13:17:56.770828",
     "status": "completed"
    },
    "tags": []
   },
   "outputs": [
    {
     "data": {
      "text/html": [
       "<style>\n",
       ".list-inline {list-style: none; margin:0; padding: 0}\n",
       ".list-inline>li {display: inline-block}\n",
       ".list-inline>li:not(:last-child)::after {content: \"\\00b7\"; padding: 0 .5ex}\n",
       "</style>\n",
       "<ol class=list-inline><li>187</li><li>187</li></ol>\n"
      ],
      "text/latex": [
       "\\begin{enumerate*}\n",
       "\\item 187\n",
       "\\item 187\n",
       "\\end{enumerate*}\n"
      ],
      "text/markdown": [
       "1. 187\n",
       "2. 187\n",
       "\n",
       "\n"
      ],
      "text/plain": [
       "[1] 187 187"
      ]
     },
     "metadata": {},
     "output_type": "display_data"
    }
   ],
   "source": [
    "dim(gene_corrs)"
   ]
  },
  {
   "cell_type": "code",
   "execution_count": 16,
   "id": "0d4e53b5-7586-4a68-8ce5-d930d74ba943",
   "metadata": {
    "execution": {
     "iopub.execute_input": "2022-07-11T13:17:56.798786Z",
     "iopub.status.busy": "2022-07-11T13:17:56.797789Z",
     "iopub.status.idle": "2022-07-11T13:17:56.817051Z",
     "shell.execute_reply": "2022-07-11T13:17:56.815941Z"
    },
    "papermill": {
     "duration": 0.025929,
     "end_time": "2022-07-11T13:17:56.818573",
     "exception": false,
     "start_time": "2022-07-11T13:17:56.792644",
     "status": "completed"
    },
    "tags": []
   },
   "outputs": [
    {
     "data": {
      "text/html": [
       "<table class=\"dataframe\">\n",
       "<caption>A data.frame: 6 × 10</caption>\n",
       "<thead>\n",
       "\t<tr><th></th><th scope=col>ENSG00000273749</th><th scope=col>ENSG00000275835</th><th scope=col>ENSG00000182636</th><th scope=col>ENSG00000273173</th><th scope=col>ENSG00000114062</th><th scope=col>ENSG00000206190</th><th scope=col>ENSG00000128731</th><th scope=col>ENSG00000034053</th><th scope=col>ENSG00000198690</th><th scope=col>ENSG00000166912</th></tr>\n",
       "\t<tr><th></th><th scope=col>&lt;dbl&gt;</th><th scope=col>&lt;dbl&gt;</th><th scope=col>&lt;dbl&gt;</th><th scope=col>&lt;dbl&gt;</th><th scope=col>&lt;dbl&gt;</th><th scope=col>&lt;dbl&gt;</th><th scope=col>&lt;dbl&gt;</th><th scope=col>&lt;dbl&gt;</th><th scope=col>&lt;dbl&gt;</th><th scope=col>&lt;dbl&gt;</th></tr>\n",
       "</thead>\n",
       "<tbody>\n",
       "\t<tr><th scope=row>ENSG00000273749</th><td>1.00000000</td><td>0.062967413</td><td>0.015976073</td><td>0.013542289</td><td>0.011531487</td><td>0.01948046</td><td>0.0000000000</td><td>0.000000000</td><td>0</td><td>0</td></tr>\n",
       "\t<tr><th scope=row>ENSG00000275835</th><td>0.06296741</td><td>1.000000000</td><td>0.007239774</td><td>0.017255155</td><td>0.006163444</td><td>0.01044104</td><td>0.0000000000</td><td>0.000000000</td><td>0</td><td>0</td></tr>\n",
       "\t<tr><th scope=row>ENSG00000182636</th><td>0.01597607</td><td>0.007239774</td><td>1.000000000</td><td>0.005602357</td><td>0.005392917</td><td>0.01405662</td><td>0.0051481512</td><td>0.000000000</td><td>0</td><td>0</td></tr>\n",
       "\t<tr><th scope=row>ENSG00000273173</th><td>0.01354229</td><td>0.017255155</td><td>0.005602357</td><td>1.000000000</td><td>0.005033165</td><td>0.01068805</td><td>0.0107836938</td><td>0.012473268</td><td>0</td><td>0</td></tr>\n",
       "\t<tr><th scope=row>ENSG00000114062</th><td>0.01153149</td><td>0.006163444</td><td>0.005392917</td><td>0.005033165</td><td>1.000000000</td><td>0.01061844</td><td>0.0006713116</td><td>0.008268542</td><td>0</td><td>0</td></tr>\n",
       "\t<tr><th scope=row>ENSG00000206190</th><td>0.01948046</td><td>0.010441035</td><td>0.014056619</td><td>0.010688049</td><td>0.010618436</td><td>1.00000000</td><td>0.0024548379</td><td>0.020534660</td><td>0</td><td>0</td></tr>\n",
       "</tbody>\n",
       "</table>\n"
      ],
      "text/latex": [
       "A data.frame: 6 × 10\n",
       "\\begin{tabular}{r|llllllllll}\n",
       "  & ENSG00000273749 & ENSG00000275835 & ENSG00000182636 & ENSG00000273173 & ENSG00000114062 & ENSG00000206190 & ENSG00000128731 & ENSG00000034053 & ENSG00000198690 & ENSG00000166912\\\\\n",
       "  & <dbl> & <dbl> & <dbl> & <dbl> & <dbl> & <dbl> & <dbl> & <dbl> & <dbl> & <dbl>\\\\\n",
       "\\hline\n",
       "\tENSG00000273749 & 1.00000000 & 0.062967413 & 0.015976073 & 0.013542289 & 0.011531487 & 0.01948046 & 0.0000000000 & 0.000000000 & 0 & 0\\\\\n",
       "\tENSG00000275835 & 0.06296741 & 1.000000000 & 0.007239774 & 0.017255155 & 0.006163444 & 0.01044104 & 0.0000000000 & 0.000000000 & 0 & 0\\\\\n",
       "\tENSG00000182636 & 0.01597607 & 0.007239774 & 1.000000000 & 0.005602357 & 0.005392917 & 0.01405662 & 0.0051481512 & 0.000000000 & 0 & 0\\\\\n",
       "\tENSG00000273173 & 0.01354229 & 0.017255155 & 0.005602357 & 1.000000000 & 0.005033165 & 0.01068805 & 0.0107836938 & 0.012473268 & 0 & 0\\\\\n",
       "\tENSG00000114062 & 0.01153149 & 0.006163444 & 0.005392917 & 0.005033165 & 1.000000000 & 0.01061844 & 0.0006713116 & 0.008268542 & 0 & 0\\\\\n",
       "\tENSG00000206190 & 0.01948046 & 0.010441035 & 0.014056619 & 0.010688049 & 0.010618436 & 1.00000000 & 0.0024548379 & 0.020534660 & 0 & 0\\\\\n",
       "\\end{tabular}\n"
      ],
      "text/markdown": [
       "\n",
       "A data.frame: 6 × 10\n",
       "\n",
       "| <!--/--> | ENSG00000273749 &lt;dbl&gt; | ENSG00000275835 &lt;dbl&gt; | ENSG00000182636 &lt;dbl&gt; | ENSG00000273173 &lt;dbl&gt; | ENSG00000114062 &lt;dbl&gt; | ENSG00000206190 &lt;dbl&gt; | ENSG00000128731 &lt;dbl&gt; | ENSG00000034053 &lt;dbl&gt; | ENSG00000198690 &lt;dbl&gt; | ENSG00000166912 &lt;dbl&gt; |\n",
       "|---|---|---|---|---|---|---|---|---|---|---|\n",
       "| ENSG00000273749 | 1.00000000 | 0.062967413 | 0.015976073 | 0.013542289 | 0.011531487 | 0.01948046 | 0.0000000000 | 0.000000000 | 0 | 0 |\n",
       "| ENSG00000275835 | 0.06296741 | 1.000000000 | 0.007239774 | 0.017255155 | 0.006163444 | 0.01044104 | 0.0000000000 | 0.000000000 | 0 | 0 |\n",
       "| ENSG00000182636 | 0.01597607 | 0.007239774 | 1.000000000 | 0.005602357 | 0.005392917 | 0.01405662 | 0.0051481512 | 0.000000000 | 0 | 0 |\n",
       "| ENSG00000273173 | 0.01354229 | 0.017255155 | 0.005602357 | 1.000000000 | 0.005033165 | 0.01068805 | 0.0107836938 | 0.012473268 | 0 | 0 |\n",
       "| ENSG00000114062 | 0.01153149 | 0.006163444 | 0.005392917 | 0.005033165 | 1.000000000 | 0.01061844 | 0.0006713116 | 0.008268542 | 0 | 0 |\n",
       "| ENSG00000206190 | 0.01948046 | 0.010441035 | 0.014056619 | 0.010688049 | 0.010618436 | 1.00000000 | 0.0024548379 | 0.020534660 | 0 | 0 |\n",
       "\n"
      ],
      "text/plain": [
       "                ENSG00000273749 ENSG00000275835 ENSG00000182636 ENSG00000273173\n",
       "ENSG00000273749 1.00000000      0.062967413     0.015976073     0.013542289    \n",
       "ENSG00000275835 0.06296741      1.000000000     0.007239774     0.017255155    \n",
       "ENSG00000182636 0.01597607      0.007239774     1.000000000     0.005602357    \n",
       "ENSG00000273173 0.01354229      0.017255155     0.005602357     1.000000000    \n",
       "ENSG00000114062 0.01153149      0.006163444     0.005392917     0.005033165    \n",
       "ENSG00000206190 0.01948046      0.010441035     0.014056619     0.010688049    \n",
       "                ENSG00000114062 ENSG00000206190 ENSG00000128731 ENSG00000034053\n",
       "ENSG00000273749 0.011531487     0.01948046      0.0000000000    0.000000000    \n",
       "ENSG00000275835 0.006163444     0.01044104      0.0000000000    0.000000000    \n",
       "ENSG00000182636 0.005392917     0.01405662      0.0051481512    0.000000000    \n",
       "ENSG00000273173 0.005033165     0.01068805      0.0107836938    0.012473268    \n",
       "ENSG00000114062 1.000000000     0.01061844      0.0006713116    0.008268542    \n",
       "ENSG00000206190 0.010618436     1.00000000      0.0024548379    0.020534660    \n",
       "                ENSG00000198690 ENSG00000166912\n",
       "ENSG00000273749 0               0              \n",
       "ENSG00000275835 0               0              \n",
       "ENSG00000182636 0               0              \n",
       "ENSG00000273173 0               0              \n",
       "ENSG00000114062 0               0              \n",
       "ENSG00000206190 0               0              "
      ]
     },
     "metadata": {},
     "output_type": "display_data"
    }
   ],
   "source": [
    "head(gene_corrs[1:10, 1:10])"
   ]
  },
  {
   "cell_type": "markdown",
   "id": "d6cbc88a-2c90-4d11-b7dd-434f046fd03c",
   "metadata": {
    "papermill": {
     "duration": 0.004412,
     "end_time": "2022-07-11T13:17:56.827482",
     "exception": false,
     "start_time": "2022-07-11T13:17:56.823070",
     "status": "completed"
    },
    "tags": []
   },
   "source": [
    "# Check positive definiteness"
   ]
  },
  {
   "cell_type": "code",
   "execution_count": 17,
   "id": "a858a061-7c5a-4a6b-8026-fe4de50c1f26",
   "metadata": {
    "execution": {
     "iopub.execute_input": "2022-07-11T13:17:56.837949Z",
     "iopub.status.busy": "2022-07-11T13:17:56.836990Z",
     "iopub.status.idle": "2022-07-11T13:17:56.850282Z",
     "shell.execute_reply": "2022-07-11T13:17:56.846521Z"
    },
    "papermill": {
     "duration": 0.020119,
     "end_time": "2022-07-11T13:17:56.851885",
     "exception": false,
     "start_time": "2022-07-11T13:17:56.831766",
     "status": "completed"
    },
    "tags": []
   },
   "outputs": [],
   "source": [
    "orig_matrix_is_positive_definite <- is_positive_definite(gene_corrs)"
   ]
  },
  {
   "cell_type": "code",
   "execution_count": 18,
   "id": "410ee452-488f-4518-b93a-2acd608ba99c",
   "metadata": {
    "execution": {
     "iopub.execute_input": "2022-07-11T13:17:56.867664Z",
     "iopub.status.busy": "2022-07-11T13:17:56.866677Z",
     "iopub.status.idle": "2022-07-11T13:17:56.890940Z",
     "shell.execute_reply": "2022-07-11T13:17:56.888050Z"
    },
    "papermill": {
     "duration": 0.03526,
     "end_time": "2022-07-11T13:17:56.892483",
     "exception": false,
     "start_time": "2022-07-11T13:17:56.857223",
     "status": "completed"
    },
    "tags": []
   },
   "outputs": [
    {
     "data": {
      "text/html": [
       "'Matrix is already positive definite!'"
      ],
      "text/latex": [
       "'Matrix is already positive definite!'"
      ],
      "text/markdown": [
       "'Matrix is already positive definite!'"
      ],
      "text/plain": [
       "[1] \"Matrix is already positive definite!\""
      ]
     },
     "metadata": {},
     "output_type": "display_data"
    },
    {
     "data": {
      "text/html": [
       "TRUE"
      ],
      "text/latex": [
       "TRUE"
      ],
      "text/markdown": [
       "TRUE"
      ],
      "text/plain": [
       "[1] TRUE"
      ]
     },
     "metadata": {},
     "output_type": "display_data"
    }
   ],
   "source": [
    "if (orig_matrix_is_positive_definite) {\n",
    "  IRdisplay::display(\"Matrix is already positive definite!\")\n",
    "  file.copy(INPUT_FILE, OUTPUT_FILE)\n",
    "} else {\n",
    "  IRdisplay::display(\"We need to correct the data and make the matrix positive definite\")\n",
    "\n",
    "  eigenvalues <- eigen(gene_corrs)$values\n",
    "  nonpositive_eigenvalues <- eigenvalues[eigenvalues <= 0]\n",
    "  IRdisplay::display(length(nonpositive_eigenvalues))\n",
    "  IRdisplay::display(nonpositive_eigenvalues)\n",
    "\n",
    "  # Make matrix positive definite\n",
    "  gene_corrs_corrected <- CorrectCM(gene_corrs, 1e-10)\n",
    "  dimnames(gene_corrs_corrected)[[1]] <- rownames(gene_corrs)\n",
    "  dimnames(gene_corrs_corrected)[[2]] <- colnames(gene_corrs)\n",
    "  gene_corrs_corrected <- as.data.frame(gene_corrs_corrected)\n",
    "\n",
    "  # check if new matrix is really positive definite\n",
    "  matrix_is_positive_definite <- is_positive_definite(gene_corrs_corrected)\n",
    "  if (matrix_is_positive_definite) {\n",
    "    IRdisplay::display(\"It worked!\")\n",
    "    IRdisplay::display(head(gene_corrs[1:10, 1:10]))\n",
    "    IRdisplay::display(head(gene_corrs_corrected[1:10, 1:10]))\n",
    "    py_save_object(gene_corrs_corrected, OUTPUT_FILE)\n",
    "  } else {\n",
    "    eigenvalues <- eigen(gene_corrs_corrected)$values\n",
    "    nonpositive_eigenvalues <- eigenvalues[eigenvalues <= 0]\n",
    "    IRdisplay::display(length(nonpositive_eigenvalues))\n",
    "    IRdisplay::display(nonpositive_eigenvalues)\n",
    "\n",
    "    stop(\"Method failed to adjust matrix\")\n",
    "  }\n",
    "}"
   ]
  },
  {
   "cell_type": "markdown",
   "id": "6c196700-7491-462f-bab8-ab9d40c63499",
   "metadata": {
    "papermill": {
     "duration": 0.008746,
     "end_time": "2022-07-11T13:17:56.907198",
     "exception": false,
     "start_time": "2022-07-11T13:17:56.898452",
     "status": "completed"
    },
    "tags": []
   },
   "source": [
    "Both matrices should \"look\" similar. We are not interested in perfectly accurate correlation values (they are already inaccurate)."
   ]
  },
  {
   "cell_type": "code",
   "execution_count": null,
   "id": "d8ae4220-2171-460c-9231-cd5219f3fe77",
   "metadata": {
    "papermill": {
     "duration": 0.008729,
     "end_time": "2022-07-11T13:17:56.925289",
     "exception": false,
     "start_time": "2022-07-11T13:17:56.916560",
     "status": "completed"
    },
    "tags": []
   },
   "outputs": [],
   "source": []
  }
 ],
 "metadata": {
  "jupytext": {
   "cell_metadata_filter": "all,-execution,-papermill,-trusted"
  },
  "kernelspec": {
   "display_name": "R",
   "language": "R",
   "name": "ir"
  },
  "language_info": {
   "codemirror_mode": "r",
   "file_extension": ".r",
   "mimetype": "text/x-r-source",
   "name": "R",
   "pygments_lexer": "r",
   "version": "3.6.3"
  },
  "papermill": {
   "default_parameters": {},
   "duration": 5.34328,
   "end_time": "2022-07-11T13:17:57.048445",
   "environment_variables": {},
   "exception": null,
   "input_path": "nbs/15_gsa_gls/12-gene_expr_correlations-adjust.ipynb",
   "output_path": "nbs/15_gsa_gls/gene_corrs/1000g/mashr/12-gene_expr_correlations-adjust-chr15.run.ipynb",
   "parameters": {
    "EQTL_MODEL": "MASHR",
    "REFERENCE_PANEL": "1000G",
    "chromosome": 15
   },
   "start_time": "2022-07-11T13:17:51.705165",
   "version": "2.3.4"
  }
 },
 "nbformat": 4,
 "nbformat_minor": 5
}
