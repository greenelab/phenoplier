{
 "cells": [
  {
   "cell_type": "markdown",
   "id": "28fc82fa-c3f6-4184-8054-cc91c7c6e2e7",
   "metadata": {
    "papermill": {
     "duration": 0.006722,
     "end_time": "2022-07-12T13:07:28.945020",
     "exception": false,
     "start_time": "2022-07-12T13:07:28.938298",
     "status": "completed"
    },
    "tags": []
   },
   "source": [
    "# Description"
   ]
  },
  {
   "cell_type": "markdown",
   "id": "36839b17-916e-4aec-8fee-96faf1097e78",
   "metadata": {
    "papermill": {
     "duration": 0.003645,
     "end_time": "2022-07-12T13:07:28.952789",
     "exception": false,
     "start_time": "2022-07-12T13:07:28.949144",
     "status": "completed"
    },
    "tags": []
   },
   "source": [
    "**TODO**"
   ]
  },
  {
   "cell_type": "markdown",
   "id": "249e8aa3-ef1a-4bba-a6dd-58120ad80794",
   "metadata": {
    "papermill": {
     "duration": 0.003473,
     "end_time": "2022-07-12T13:07:28.960195",
     "exception": false,
     "start_time": "2022-07-12T13:07:28.956722",
     "status": "completed"
    },
    "tags": []
   },
   "source": [
    "# Modules"
   ]
  },
  {
   "cell_type": "code",
   "execution_count": 1,
   "id": "f9b5022b-7c5e-4d37-9c7a-fdb91777c7f9",
   "metadata": {
    "execution": {
     "iopub.execute_input": "2022-07-12T13:07:28.970291Z",
     "iopub.status.busy": "2022-07-12T13:07:28.968582Z",
     "iopub.status.idle": "2022-07-12T13:07:32.377353Z",
     "shell.execute_reply": "2022-07-12T13:07:32.376227Z"
    },
    "papermill": {
     "duration": 3.415298,
     "end_time": "2022-07-12T13:07:32.379017",
     "exception": false,
     "start_time": "2022-07-12T13:07:28.963719",
     "status": "completed"
    },
    "tags": []
   },
   "outputs": [],
   "source": [
    "library(reticulate)\n",
    "pd <- import(\"pandas\")"
   ]
  },
  {
   "cell_type": "markdown",
   "id": "69e80173-3a39-4b6a-b723-602687cb255b",
   "metadata": {
    "papermill": {
     "duration": 0.003289,
     "end_time": "2022-07-12T13:07:32.385562",
     "exception": false,
     "start_time": "2022-07-12T13:07:32.382273",
     "status": "completed"
    },
    "tags": []
   },
   "source": [
    "# Settings"
   ]
  },
  {
   "cell_type": "code",
   "execution_count": 2,
   "id": "22d12bb4-1699-4a6b-b1b9-d3fdd3d547d7",
   "metadata": {
    "execution": {
     "iopub.execute_input": "2022-07-12T13:07:32.415812Z",
     "iopub.status.busy": "2022-07-12T13:07:32.393433Z",
     "iopub.status.idle": "2022-07-12T13:07:32.426734Z",
     "shell.execute_reply": "2022-07-12T13:07:32.425635Z"
    },
    "papermill": {
     "duration": 0.039317,
     "end_time": "2022-07-12T13:07:32.428343",
     "exception": false,
     "start_time": "2022-07-12T13:07:32.389026",
     "status": "completed"
    },
    "tags": [
     "parameters"
    ]
   },
   "outputs": [],
   "source": [
    "# reference panel\n",
    "REFERENCE_PANEL <- \"GTEX_V8\"\n",
    "# REFERENCE_PANEL = \"1000G\"\n",
    "\n",
    "# prediction models\n",
    "## mashr\n",
    "EQTL_MODEL <- \"MASHR\"\n",
    "\n",
    "chromosome <- NULL"
   ]
  },
  {
   "cell_type": "code",
   "execution_count": 3,
   "id": "23b00783",
   "metadata": {
    "execution": {
     "iopub.execute_input": "2022-07-12T13:07:32.436538Z",
     "iopub.status.busy": "2022-07-12T13:07:32.435590Z",
     "iopub.status.idle": "2022-07-12T13:07:32.451450Z",
     "shell.execute_reply": "2022-07-12T13:07:32.450311Z"
    },
    "papermill": {
     "duration": 0.021503,
     "end_time": "2022-07-12T13:07:32.453057",
     "exception": false,
     "start_time": "2022-07-12T13:07:32.431554",
     "status": "completed"
    },
    "tags": [
     "injected-parameters"
    ]
   },
   "outputs": [],
   "source": [
    "# Parameters\n",
    "chromosome = 15\n",
    "REFERENCE_PANEL = \"1000G\"\n",
    "EQTL_MODEL = \"MASHR\"\n"
   ]
  },
  {
   "cell_type": "code",
   "execution_count": 4,
   "id": "8fe24bef",
   "metadata": {
    "execution": {
     "iopub.execute_input": "2022-07-12T13:07:32.461416Z",
     "iopub.status.busy": "2022-07-12T13:07:32.460471Z",
     "iopub.status.idle": "2022-07-12T13:07:32.472218Z",
     "shell.execute_reply": "2022-07-12T13:07:32.471107Z"
    },
    "papermill": {
     "duration": 0.017492,
     "end_time": "2022-07-12T13:07:32.473834",
     "exception": false,
     "start_time": "2022-07-12T13:07:32.456342",
     "status": "completed"
    },
    "tags": []
   },
   "outputs": [
    {
     "data": {
      "text/html": [
       "'Using reference panel: 1000G'"
      ],
      "text/latex": [
       "'Using reference panel: 1000G'"
      ],
      "text/markdown": [
       "'Using reference panel: 1000G'"
      ],
      "text/plain": [
       "[1] \"Using reference panel: 1000G\""
      ]
     },
     "metadata": {},
     "output_type": "display_data"
    }
   ],
   "source": [
    "paste0(\"Using reference panel: \", REFERENCE_PANEL)"
   ]
  },
  {
   "cell_type": "code",
   "execution_count": 5,
   "id": "d62c28f8-186c-478b-948c-58e14f00df4b",
   "metadata": {
    "execution": {
     "iopub.execute_input": "2022-07-12T13:07:32.482538Z",
     "iopub.status.busy": "2022-07-12T13:07:32.481592Z",
     "iopub.status.idle": "2022-07-12T13:07:32.491985Z",
     "shell.execute_reply": "2022-07-12T13:07:32.490826Z"
    },
    "papermill": {
     "duration": 0.016303,
     "end_time": "2022-07-12T13:07:32.493658",
     "exception": false,
     "start_time": "2022-07-12T13:07:32.477355",
     "status": "completed"
    },
    "tags": []
   },
   "outputs": [
    {
     "data": {
      "text/html": [
       "'Using eQTL model: MASHR'"
      ],
      "text/latex": [
       "'Using eQTL model: MASHR'"
      ],
      "text/markdown": [
       "'Using eQTL model: MASHR'"
      ],
      "text/plain": [
       "[1] \"Using eQTL model: MASHR\""
      ]
     },
     "metadata": {},
     "output_type": "display_data"
    }
   ],
   "source": [
    "paste0(\"Using eQTL model: \", EQTL_MODEL)"
   ]
  },
  {
   "cell_type": "code",
   "execution_count": 6,
   "id": "5243676f-c889-4405-9a4d-262f0f044614",
   "metadata": {
    "execution": {
     "iopub.execute_input": "2022-07-12T13:07:32.502645Z",
     "iopub.status.busy": "2022-07-12T13:07:32.501592Z",
     "iopub.status.idle": "2022-07-12T13:07:32.511745Z",
     "shell.execute_reply": "2022-07-12T13:07:32.510387Z"
    },
    "papermill": {
     "duration": 0.016499,
     "end_time": "2022-07-12T13:07:32.513630",
     "exception": false,
     "start_time": "2022-07-12T13:07:32.497131",
     "status": "completed"
    },
    "tags": []
   },
   "outputs": [],
   "source": [
    "# chromosome must be provided as parameter\n",
    "stopifnot(!is.null(chromosome))"
   ]
  },
  {
   "cell_type": "markdown",
   "id": "c05e4d34-e115-48cd-8a2e-225109eb0042",
   "metadata": {
    "papermill": {
     "duration": 0.003966,
     "end_time": "2022-07-12T13:07:32.521673",
     "exception": false,
     "start_time": "2022-07-12T13:07:32.517707",
     "status": "completed"
    },
    "tags": []
   },
   "source": [
    "# Paths"
   ]
  },
  {
   "cell_type": "code",
   "execution_count": 7,
   "id": "eb6aa8aa-b452-4a2f-a780-93dd80ad4285",
   "metadata": {
    "execution": {
     "iopub.execute_input": "2022-07-12T13:07:32.532361Z",
     "iopub.status.busy": "2022-07-12T13:07:32.531134Z",
     "iopub.status.idle": "2022-07-12T13:07:32.545209Z",
     "shell.execute_reply": "2022-07-12T13:07:32.543892Z"
    },
    "papermill": {
     "duration": 0.021151,
     "end_time": "2022-07-12T13:07:32.547044",
     "exception": false,
     "start_time": "2022-07-12T13:07:32.525893",
     "status": "completed"
    },
    "tags": []
   },
   "outputs": [
    {
     "data": {
      "text/html": [
       "'/opt/data/data/phenomexcan/ld_blocks/gene_corrs'"
      ],
      "text/latex": [
       "'/opt/data/data/phenomexcan/ld\\_blocks/gene\\_corrs'"
      ],
      "text/markdown": [
       "'/opt/data/data/phenomexcan/ld_blocks/gene_corrs'"
      ],
      "text/plain": [
       "[1] \"/opt/data/data/phenomexcan/ld_blocks/gene_corrs\""
      ]
     },
     "metadata": {},
     "output_type": "display_data"
    }
   ],
   "source": [
    "GENE_CORRS_DIR <- Sys.getenv(\"PHENOPLIER_PHENOMEXCAN_LD_BLOCKS_GENE_CORRS_DIR\")\n",
    "IRdisplay::display(GENE_CORRS_DIR)"
   ]
  },
  {
   "cell_type": "code",
   "execution_count": 8,
   "id": "eb24f15f-f282-4476-8943-8413c4483f12",
   "metadata": {
    "execution": {
     "iopub.execute_input": "2022-07-12T13:07:32.557834Z",
     "iopub.status.busy": "2022-07-12T13:07:32.556673Z",
     "iopub.status.idle": "2022-07-12T13:07:32.570679Z",
     "shell.execute_reply": "2022-07-12T13:07:32.569379Z"
    },
    "papermill": {
     "duration": 0.021434,
     "end_time": "2022-07-12T13:07:32.572659",
     "exception": false,
     "start_time": "2022-07-12T13:07:32.551225",
     "status": "completed"
    },
    "tags": []
   },
   "outputs": [
    {
     "data": {
      "text/html": [
       "'/opt/data/data/phenomexcan/ld_blocks/gene_corrs/1000g/mashr/by_chr'"
      ],
      "text/latex": [
       "'/opt/data/data/phenomexcan/ld\\_blocks/gene\\_corrs/1000g/mashr/by\\_chr'"
      ],
      "text/markdown": [
       "'/opt/data/data/phenomexcan/ld_blocks/gene_corrs/1000g/mashr/by_chr'"
      ],
      "text/plain": [
       "[1] \"/opt/data/data/phenomexcan/ld_blocks/gene_corrs/1000g/mashr/by_chr\""
      ]
     },
     "metadata": {},
     "output_type": "display_data"
    }
   ],
   "source": [
    "INPUT_DIR <- file.path(GENE_CORRS_DIR, tolower(REFERENCE_PANEL), tolower(EQTL_MODEL), \"by_chr\")\n",
    "IRdisplay::display(INPUT_DIR)"
   ]
  },
  {
   "cell_type": "code",
   "execution_count": 9,
   "id": "43c1daba-0da9-4822-8d1e-968e9767e251",
   "metadata": {
    "execution": {
     "iopub.execute_input": "2022-07-12T13:07:32.583860Z",
     "iopub.status.busy": "2022-07-12T13:07:32.582709Z",
     "iopub.status.idle": "2022-07-12T13:07:32.597740Z",
     "shell.execute_reply": "2022-07-12T13:07:32.596481Z"
    },
    "papermill": {
     "duration": 0.022351,
     "end_time": "2022-07-12T13:07:32.599555",
     "exception": false,
     "start_time": "2022-07-12T13:07:32.577204",
     "status": "completed"
    },
    "tags": []
   },
   "outputs": [
    {
     "data": {
      "text/html": [
       "'/opt/data/data/phenomexcan/ld_blocks/gene_corrs/1000g/mashr/by_chr/gene_corrs-chr15.pkl'"
      ],
      "text/latex": [
       "'/opt/data/data/phenomexcan/ld\\_blocks/gene\\_corrs/1000g/mashr/by\\_chr/gene\\_corrs-chr15.pkl'"
      ],
      "text/markdown": [
       "'/opt/data/data/phenomexcan/ld_blocks/gene_corrs/1000g/mashr/by_chr/gene_corrs-chr15.pkl'"
      ],
      "text/plain": [
       "[1] \"/opt/data/data/phenomexcan/ld_blocks/gene_corrs/1000g/mashr/by_chr/gene_corrs-chr15.pkl\""
      ]
     },
     "metadata": {},
     "output_type": "display_data"
    }
   ],
   "source": [
    "INPUT_FILE <- file.path(INPUT_DIR, paste0(\"gene_corrs-chr\", chromosome, \".pkl\"))\n",
    "IRdisplay::display(INPUT_FILE)\n",
    "stopifnot(file.exists(INPUT_FILE))"
   ]
  },
  {
   "cell_type": "code",
   "execution_count": 10,
   "id": "72386fbf-982b-420a-9057-ea9a97a5e571",
   "metadata": {
    "execution": {
     "iopub.execute_input": "2022-07-12T13:07:32.610435Z",
     "iopub.status.busy": "2022-07-12T13:07:32.609312Z",
     "iopub.status.idle": "2022-07-12T13:07:32.624321Z",
     "shell.execute_reply": "2022-07-12T13:07:32.623021Z"
    },
    "papermill": {
     "duration": 0.022188,
     "end_time": "2022-07-12T13:07:32.626106",
     "exception": false,
     "start_time": "2022-07-12T13:07:32.603918",
     "status": "completed"
    },
    "tags": []
   },
   "outputs": [
    {
     "data": {
      "text/html": [
       "'/opt/data/data/phenomexcan/ld_blocks/gene_corrs/1000g/mashr/by_chr/corrected_positive_definite'"
      ],
      "text/latex": [
       "'/opt/data/data/phenomexcan/ld\\_blocks/gene\\_corrs/1000g/mashr/by\\_chr/corrected\\_positive\\_definite'"
      ],
      "text/markdown": [
       "'/opt/data/data/phenomexcan/ld_blocks/gene_corrs/1000g/mashr/by_chr/corrected_positive_definite'"
      ],
      "text/plain": [
       "[1] \"/opt/data/data/phenomexcan/ld_blocks/gene_corrs/1000g/mashr/by_chr/corrected_positive_definite\""
      ]
     },
     "metadata": {},
     "output_type": "display_data"
    }
   ],
   "source": [
    "OUTPUT_DIR <- file.path(INPUT_DIR, \"corrected_positive_definite\")\n",
    "IRdisplay::display(OUTPUT_DIR)\n",
    "dir.create(OUTPUT_DIR, recursive = TRUE, showWarnings = FALSE)"
   ]
  },
  {
   "cell_type": "code",
   "execution_count": 11,
   "id": "f9f19d1d-ce4c-4099-a26e-250fec751de7",
   "metadata": {
    "execution": {
     "iopub.execute_input": "2022-07-12T13:07:32.637233Z",
     "iopub.status.busy": "2022-07-12T13:07:32.636085Z",
     "iopub.status.idle": "2022-07-12T13:07:32.650377Z",
     "shell.execute_reply": "2022-07-12T13:07:32.649183Z"
    },
    "papermill": {
     "duration": 0.021396,
     "end_time": "2022-07-12T13:07:32.652072",
     "exception": false,
     "start_time": "2022-07-12T13:07:32.630676",
     "status": "completed"
    },
    "tags": []
   },
   "outputs": [
    {
     "data": {
      "text/html": [
       "'/opt/data/data/phenomexcan/ld_blocks/gene_corrs/1000g/mashr/by_chr/corrected_positive_definite/gene_corrs-chr15.pkl'"
      ],
      "text/latex": [
       "'/opt/data/data/phenomexcan/ld\\_blocks/gene\\_corrs/1000g/mashr/by\\_chr/corrected\\_positive\\_definite/gene\\_corrs-chr15.pkl'"
      ],
      "text/markdown": [
       "'/opt/data/data/phenomexcan/ld_blocks/gene_corrs/1000g/mashr/by_chr/corrected_positive_definite/gene_corrs-chr15.pkl'"
      ],
      "text/plain": [
       "[1] \"/opt/data/data/phenomexcan/ld_blocks/gene_corrs/1000g/mashr/by_chr/corrected_positive_definite/gene_corrs-chr15.pkl\""
      ]
     },
     "metadata": {},
     "output_type": "display_data"
    }
   ],
   "source": [
    "OUTPUT_FILE <- file.path(OUTPUT_DIR, paste0(\"gene_corrs-chr\", chromosome, \".pkl\"))\n",
    "IRdisplay::display(OUTPUT_FILE)\n",
    "if (file.exists(OUTPUT_FILE)) {\n",
    "  IRdisplay::display(\"Output file exists, it will be overwritten\")\n",
    "}"
   ]
  },
  {
   "cell_type": "markdown",
   "id": "24973e62-e888-4b56-843f-489d8d0762b5",
   "metadata": {
    "papermill": {
     "duration": 0.004038,
     "end_time": "2022-07-12T13:07:32.660426",
     "exception": false,
     "start_time": "2022-07-12T13:07:32.656388",
     "status": "completed"
    },
    "tags": []
   },
   "source": [
    "# Functions"
   ]
  },
  {
   "cell_type": "code",
   "execution_count": 12,
   "id": "f828f081-7358-4cc8-8a89-1ee293bcc1a7",
   "metadata": {
    "execution": {
     "iopub.execute_input": "2022-07-12T13:07:32.673589Z",
     "iopub.status.busy": "2022-07-12T13:07:32.669613Z",
     "iopub.status.idle": "2022-07-12T13:07:32.681795Z",
     "shell.execute_reply": "2022-07-12T13:07:32.680649Z"
    },
    "papermill": {
     "duration": 0.018899,
     "end_time": "2022-07-12T13:07:32.683410",
     "exception": false,
     "start_time": "2022-07-12T13:07:32.664511",
     "status": "completed"
    },
    "tags": []
   },
   "outputs": [],
   "source": [
    "# taken from https://www.r-bloggers.com/2013/08/correcting-a-pseudo-correlation-matrix-to-be-positive-semidefinite/\n",
    "# TODO: add documentation\n",
    "CorrectCM <- function(CM, p = 0) {\n",
    "  n <- dim(var(CM))[1L]\n",
    "  E <- eigen(CM)\n",
    "  CM1 <- E$vectors %*% tcrossprod(diag(pmax(E$values, p), n), E$vectors)\n",
    "  Balance <- diag(1 / sqrt(diag(CM1)))\n",
    "  CM2 <- Balance %*% CM1 %*% Balance\n",
    "  return(CM2)\n",
    "}"
   ]
  },
  {
   "cell_type": "code",
   "execution_count": 13,
   "id": "7ab9bebf-50a1-4e6f-b16a-e23cae93d02a",
   "metadata": {
    "execution": {
     "iopub.execute_input": "2022-07-12T13:07:32.693766Z",
     "iopub.status.busy": "2022-07-12T13:07:32.692745Z",
     "iopub.status.idle": "2022-07-12T13:07:32.701710Z",
     "shell.execute_reply": "2022-07-12T13:07:32.700403Z"
    },
    "papermill": {
     "duration": 0.015752,
     "end_time": "2022-07-12T13:07:32.703385",
     "exception": false,
     "start_time": "2022-07-12T13:07:32.687633",
     "status": "completed"
    },
    "tags": []
   },
   "outputs": [],
   "source": [
    "is_positive_definite <- function(data) {\n",
    "  # eigenvalues <- eigen(data)$values\n",
    "  # nonpositive_eigenvalues <- eigenvalues[eigenvalues <= 0]\n",
    "\n",
    "  cholStatus <- try(u <- chol(data), silent = FALSE)\n",
    "  cholError <- ifelse(class(cholStatus) == \"try-error\", TRUE, FALSE)\n",
    "\n",
    "  if (cholError) {\n",
    "    return(FALSE)\n",
    "  } else {\n",
    "    return(TRUE)\n",
    "  }\n",
    "}"
   ]
  },
  {
   "cell_type": "markdown",
   "id": "7403fd78-00b2-4941-9c07-3c3af1ddc636",
   "metadata": {
    "papermill": {
     "duration": 0.004069,
     "end_time": "2022-07-12T13:07:32.712331",
     "exception": false,
     "start_time": "2022-07-12T13:07:32.708262",
     "status": "completed"
    },
    "tags": []
   },
   "source": [
    "# Load data"
   ]
  },
  {
   "cell_type": "code",
   "execution_count": 14,
   "id": "3a7744e1-2e5a-450e-9dcf-945ec181347d",
   "metadata": {
    "execution": {
     "iopub.execute_input": "2022-07-12T13:07:32.722468Z",
     "iopub.status.busy": "2022-07-12T13:07:32.721472Z",
     "iopub.status.idle": "2022-07-12T13:07:32.752391Z",
     "shell.execute_reply": "2022-07-12T13:07:32.751218Z"
    },
    "papermill": {
     "duration": 0.037688,
     "end_time": "2022-07-12T13:07:32.754102",
     "exception": false,
     "start_time": "2022-07-12T13:07:32.716414",
     "status": "completed"
    },
    "tags": []
   },
   "outputs": [],
   "source": [
    "gene_corrs <- pd$read_pickle(INPUT_FILE)"
   ]
  },
  {
   "cell_type": "code",
   "execution_count": 15,
   "id": "6fb150b2-4c68-4e9b-9aa5-1890d3f762e3",
   "metadata": {
    "execution": {
     "iopub.execute_input": "2022-07-12T13:07:32.764414Z",
     "iopub.status.busy": "2022-07-12T13:07:32.763427Z",
     "iopub.status.idle": "2022-07-12T13:07:32.773999Z",
     "shell.execute_reply": "2022-07-12T13:07:32.772875Z"
    },
    "papermill": {
     "duration": 0.017218,
     "end_time": "2022-07-12T13:07:32.775626",
     "exception": false,
     "start_time": "2022-07-12T13:07:32.758408",
     "status": "completed"
    },
    "tags": []
   },
   "outputs": [
    {
     "data": {
      "text/html": [
       "<style>\n",
       ".list-inline {list-style: none; margin:0; padding: 0}\n",
       ".list-inline>li {display: inline-block}\n",
       ".list-inline>li:not(:last-child)::after {content: \"\\00b7\"; padding: 0 .5ex}\n",
       "</style>\n",
       "<ol class=list-inline><li>187</li><li>187</li></ol>\n"
      ],
      "text/latex": [
       "\\begin{enumerate*}\n",
       "\\item 187\n",
       "\\item 187\n",
       "\\end{enumerate*}\n"
      ],
      "text/markdown": [
       "1. 187\n",
       "2. 187\n",
       "\n",
       "\n"
      ],
      "text/plain": [
       "[1] 187 187"
      ]
     },
     "metadata": {},
     "output_type": "display_data"
    }
   ],
   "source": [
    "dim(gene_corrs)"
   ]
  },
  {
   "cell_type": "code",
   "execution_count": 16,
   "id": "0d4e53b5-7586-4a68-8ce5-d930d74ba943",
   "metadata": {
    "execution": {
     "iopub.execute_input": "2022-07-12T13:07:32.786241Z",
     "iopub.status.busy": "2022-07-12T13:07:32.785224Z",
     "iopub.status.idle": "2022-07-12T13:07:32.805184Z",
     "shell.execute_reply": "2022-07-12T13:07:32.803981Z"
    },
    "papermill": {
     "duration": 0.026967,
     "end_time": "2022-07-12T13:07:32.806881",
     "exception": false,
     "start_time": "2022-07-12T13:07:32.779914",
     "status": "completed"
    },
    "tags": []
   },
   "outputs": [
    {
     "data": {
      "text/html": [
       "<table class=\"dataframe\">\n",
       "<caption>A data.frame: 6 × 10</caption>\n",
       "<thead>\n",
       "\t<tr><th></th><th scope=col>ENSG00000273749</th><th scope=col>ENSG00000275835</th><th scope=col>ENSG00000182636</th><th scope=col>ENSG00000273173</th><th scope=col>ENSG00000114062</th><th scope=col>ENSG00000206190</th><th scope=col>ENSG00000128731</th><th scope=col>ENSG00000034053</th><th scope=col>ENSG00000198690</th><th scope=col>ENSG00000166912</th></tr>\n",
       "\t<tr><th></th><th scope=col>&lt;dbl&gt;</th><th scope=col>&lt;dbl&gt;</th><th scope=col>&lt;dbl&gt;</th><th scope=col>&lt;dbl&gt;</th><th scope=col>&lt;dbl&gt;</th><th scope=col>&lt;dbl&gt;</th><th scope=col>&lt;dbl&gt;</th><th scope=col>&lt;dbl&gt;</th><th scope=col>&lt;dbl&gt;</th><th scope=col>&lt;dbl&gt;</th></tr>\n",
       "</thead>\n",
       "<tbody>\n",
       "\t<tr><th scope=row>ENSG00000273749</th><td>1.00000000</td><td>0.062967413</td><td>0.015976073</td><td>0.013542289</td><td>0.011531487</td><td>0.01948046</td><td>0.0082065229</td><td>0.022044636</td><td>0.017293997</td><td>0.009860940</td></tr>\n",
       "\t<tr><th scope=row>ENSG00000275835</th><td>0.06296741</td><td>1.000000000</td><td>0.007239774</td><td>0.017255155</td><td>0.006163444</td><td>0.01044104</td><td>0.0053652396</td><td>0.011894624</td><td>0.008981104</td><td>0.007823364</td></tr>\n",
       "\t<tr><th scope=row>ENSG00000182636</th><td>0.01597607</td><td>0.007239774</td><td>1.000000000</td><td>0.005602357</td><td>0.005392917</td><td>0.01405662</td><td>0.0051481512</td><td>0.006173675</td><td>0.010822575</td><td>0.006585514</td></tr>\n",
       "\t<tr><th scope=row>ENSG00000273173</th><td>0.01354229</td><td>0.017255155</td><td>0.005602357</td><td>1.000000000</td><td>0.005033165</td><td>0.01068805</td><td>0.0107836938</td><td>0.012473268</td><td>0.007748741</td><td>0.002529111</td></tr>\n",
       "\t<tr><th scope=row>ENSG00000114062</th><td>0.01153149</td><td>0.006163444</td><td>0.005392917</td><td>0.005033165</td><td>1.000000000</td><td>0.01061844</td><td>0.0006713116</td><td>0.008268542</td><td>0.005982313</td><td>0.007081027</td></tr>\n",
       "\t<tr><th scope=row>ENSG00000206190</th><td>0.01948046</td><td>0.010441035</td><td>0.014056619</td><td>0.010688049</td><td>0.010618436</td><td>1.00000000</td><td>0.0024548379</td><td>0.020534660</td><td>0.014441832</td><td>0.015788027</td></tr>\n",
       "</tbody>\n",
       "</table>\n"
      ],
      "text/latex": [
       "A data.frame: 6 × 10\n",
       "\\begin{tabular}{r|llllllllll}\n",
       "  & ENSG00000273749 & ENSG00000275835 & ENSG00000182636 & ENSG00000273173 & ENSG00000114062 & ENSG00000206190 & ENSG00000128731 & ENSG00000034053 & ENSG00000198690 & ENSG00000166912\\\\\n",
       "  & <dbl> & <dbl> & <dbl> & <dbl> & <dbl> & <dbl> & <dbl> & <dbl> & <dbl> & <dbl>\\\\\n",
       "\\hline\n",
       "\tENSG00000273749 & 1.00000000 & 0.062967413 & 0.015976073 & 0.013542289 & 0.011531487 & 0.01948046 & 0.0082065229 & 0.022044636 & 0.017293997 & 0.009860940\\\\\n",
       "\tENSG00000275835 & 0.06296741 & 1.000000000 & 0.007239774 & 0.017255155 & 0.006163444 & 0.01044104 & 0.0053652396 & 0.011894624 & 0.008981104 & 0.007823364\\\\\n",
       "\tENSG00000182636 & 0.01597607 & 0.007239774 & 1.000000000 & 0.005602357 & 0.005392917 & 0.01405662 & 0.0051481512 & 0.006173675 & 0.010822575 & 0.006585514\\\\\n",
       "\tENSG00000273173 & 0.01354229 & 0.017255155 & 0.005602357 & 1.000000000 & 0.005033165 & 0.01068805 & 0.0107836938 & 0.012473268 & 0.007748741 & 0.002529111\\\\\n",
       "\tENSG00000114062 & 0.01153149 & 0.006163444 & 0.005392917 & 0.005033165 & 1.000000000 & 0.01061844 & 0.0006713116 & 0.008268542 & 0.005982313 & 0.007081027\\\\\n",
       "\tENSG00000206190 & 0.01948046 & 0.010441035 & 0.014056619 & 0.010688049 & 0.010618436 & 1.00000000 & 0.0024548379 & 0.020534660 & 0.014441832 & 0.015788027\\\\\n",
       "\\end{tabular}\n"
      ],
      "text/markdown": [
       "\n",
       "A data.frame: 6 × 10\n",
       "\n",
       "| <!--/--> | ENSG00000273749 &lt;dbl&gt; | ENSG00000275835 &lt;dbl&gt; | ENSG00000182636 &lt;dbl&gt; | ENSG00000273173 &lt;dbl&gt; | ENSG00000114062 &lt;dbl&gt; | ENSG00000206190 &lt;dbl&gt; | ENSG00000128731 &lt;dbl&gt; | ENSG00000034053 &lt;dbl&gt; | ENSG00000198690 &lt;dbl&gt; | ENSG00000166912 &lt;dbl&gt; |\n",
       "|---|---|---|---|---|---|---|---|---|---|---|\n",
       "| ENSG00000273749 | 1.00000000 | 0.062967413 | 0.015976073 | 0.013542289 | 0.011531487 | 0.01948046 | 0.0082065229 | 0.022044636 | 0.017293997 | 0.009860940 |\n",
       "| ENSG00000275835 | 0.06296741 | 1.000000000 | 0.007239774 | 0.017255155 | 0.006163444 | 0.01044104 | 0.0053652396 | 0.011894624 | 0.008981104 | 0.007823364 |\n",
       "| ENSG00000182636 | 0.01597607 | 0.007239774 | 1.000000000 | 0.005602357 | 0.005392917 | 0.01405662 | 0.0051481512 | 0.006173675 | 0.010822575 | 0.006585514 |\n",
       "| ENSG00000273173 | 0.01354229 | 0.017255155 | 0.005602357 | 1.000000000 | 0.005033165 | 0.01068805 | 0.0107836938 | 0.012473268 | 0.007748741 | 0.002529111 |\n",
       "| ENSG00000114062 | 0.01153149 | 0.006163444 | 0.005392917 | 0.005033165 | 1.000000000 | 0.01061844 | 0.0006713116 | 0.008268542 | 0.005982313 | 0.007081027 |\n",
       "| ENSG00000206190 | 0.01948046 | 0.010441035 | 0.014056619 | 0.010688049 | 0.010618436 | 1.00000000 | 0.0024548379 | 0.020534660 | 0.014441832 | 0.015788027 |\n",
       "\n"
      ],
      "text/plain": [
       "                ENSG00000273749 ENSG00000275835 ENSG00000182636 ENSG00000273173\n",
       "ENSG00000273749 1.00000000      0.062967413     0.015976073     0.013542289    \n",
       "ENSG00000275835 0.06296741      1.000000000     0.007239774     0.017255155    \n",
       "ENSG00000182636 0.01597607      0.007239774     1.000000000     0.005602357    \n",
       "ENSG00000273173 0.01354229      0.017255155     0.005602357     1.000000000    \n",
       "ENSG00000114062 0.01153149      0.006163444     0.005392917     0.005033165    \n",
       "ENSG00000206190 0.01948046      0.010441035     0.014056619     0.010688049    \n",
       "                ENSG00000114062 ENSG00000206190 ENSG00000128731 ENSG00000034053\n",
       "ENSG00000273749 0.011531487     0.01948046      0.0082065229    0.022044636    \n",
       "ENSG00000275835 0.006163444     0.01044104      0.0053652396    0.011894624    \n",
       "ENSG00000182636 0.005392917     0.01405662      0.0051481512    0.006173675    \n",
       "ENSG00000273173 0.005033165     0.01068805      0.0107836938    0.012473268    \n",
       "ENSG00000114062 1.000000000     0.01061844      0.0006713116    0.008268542    \n",
       "ENSG00000206190 0.010618436     1.00000000      0.0024548379    0.020534660    \n",
       "                ENSG00000198690 ENSG00000166912\n",
       "ENSG00000273749 0.017293997     0.009860940    \n",
       "ENSG00000275835 0.008981104     0.007823364    \n",
       "ENSG00000182636 0.010822575     0.006585514    \n",
       "ENSG00000273173 0.007748741     0.002529111    \n",
       "ENSG00000114062 0.005982313     0.007081027    \n",
       "ENSG00000206190 0.014441832     0.015788027    "
      ]
     },
     "metadata": {},
     "output_type": "display_data"
    }
   ],
   "source": [
    "head(gene_corrs[1:10, 1:10])"
   ]
  },
  {
   "cell_type": "markdown",
   "id": "d6cbc88a-2c90-4d11-b7dd-434f046fd03c",
   "metadata": {
    "papermill": {
     "duration": 0.004533,
     "end_time": "2022-07-12T13:07:32.816147",
     "exception": false,
     "start_time": "2022-07-12T13:07:32.811614",
     "status": "completed"
    },
    "tags": []
   },
   "source": [
    "# Check positive definiteness"
   ]
  },
  {
   "cell_type": "code",
   "execution_count": 17,
   "id": "a858a061-7c5a-4a6b-8026-fe4de50c1f26",
   "metadata": {
    "execution": {
     "iopub.execute_input": "2022-07-12T13:07:32.827259Z",
     "iopub.status.busy": "2022-07-12T13:07:32.826217Z",
     "iopub.status.idle": "2022-07-12T13:07:32.836836Z",
     "shell.execute_reply": "2022-07-12T13:07:32.835637Z"
    },
    "papermill": {
     "duration": 0.018359,
     "end_time": "2022-07-12T13:07:32.839092",
     "exception": false,
     "start_time": "2022-07-12T13:07:32.820733",
     "status": "completed"
    },
    "tags": []
   },
   "outputs": [],
   "source": [
    "orig_matrix_is_positive_definite <- is_positive_definite(gene_corrs)"
   ]
  },
  {
   "cell_type": "code",
   "execution_count": 18,
   "id": "410ee452-488f-4518-b93a-2acd608ba99c",
   "metadata": {
    "execution": {
     "iopub.execute_input": "2022-07-12T13:07:32.850716Z",
     "iopub.status.busy": "2022-07-12T13:07:32.849682Z",
     "iopub.status.idle": "2022-07-12T13:07:32.868414Z",
     "shell.execute_reply": "2022-07-12T13:07:32.866447Z"
    },
    "papermill": {
     "duration": 0.026202,
     "end_time": "2022-07-12T13:07:32.870027",
     "exception": false,
     "start_time": "2022-07-12T13:07:32.843825",
     "status": "completed"
    },
    "tags": []
   },
   "outputs": [
    {
     "data": {
      "text/html": [
       "'Matrix is already positive definite!'"
      ],
      "text/latex": [
       "'Matrix is already positive definite!'"
      ],
      "text/markdown": [
       "'Matrix is already positive definite!'"
      ],
      "text/plain": [
       "[1] \"Matrix is already positive definite!\""
      ]
     },
     "metadata": {},
     "output_type": "display_data"
    },
    {
     "data": {
      "text/html": [
       "TRUE"
      ],
      "text/latex": [
       "TRUE"
      ],
      "text/markdown": [
       "TRUE"
      ],
      "text/plain": [
       "[1] TRUE"
      ]
     },
     "metadata": {},
     "output_type": "display_data"
    }
   ],
   "source": [
    "if (orig_matrix_is_positive_definite) {\n",
    "  IRdisplay::display(\"Matrix is already positive definite!\")\n",
    "  file.copy(INPUT_FILE, OUTPUT_FILE)\n",
    "} else {\n",
    "  IRdisplay::display(\"We need to correct the data and make the matrix positive definite\")\n",
    "\n",
    "  eigenvalues <- eigen(gene_corrs)$values\n",
    "  nonpositive_eigenvalues <- eigenvalues[eigenvalues <= 0]\n",
    "  IRdisplay::display(length(nonpositive_eigenvalues))\n",
    "  IRdisplay::display(nonpositive_eigenvalues)\n",
    "\n",
    "  # Make matrix positive definite\n",
    "  gene_corrs_corrected <- CorrectCM(gene_corrs, 1e-10)\n",
    "  dimnames(gene_corrs_corrected)[[1]] <- rownames(gene_corrs)\n",
    "  dimnames(gene_corrs_corrected)[[2]] <- colnames(gene_corrs)\n",
    "  gene_corrs_corrected <- as.data.frame(gene_corrs_corrected)\n",
    "\n",
    "  # check if new matrix is really positive definite\n",
    "  matrix_is_positive_definite <- is_positive_definite(gene_corrs_corrected)\n",
    "  if (matrix_is_positive_definite) {\n",
    "    IRdisplay::display(\"It worked!\")\n",
    "    IRdisplay::display(head(gene_corrs[1:10, 1:10]))\n",
    "    IRdisplay::display(head(gene_corrs_corrected[1:10, 1:10]))\n",
    "    py_save_object(gene_corrs_corrected, OUTPUT_FILE)\n",
    "  } else {\n",
    "    eigenvalues <- eigen(gene_corrs_corrected)$values\n",
    "    nonpositive_eigenvalues <- eigenvalues[eigenvalues <= 0]\n",
    "    IRdisplay::display(length(nonpositive_eigenvalues))\n",
    "    IRdisplay::display(nonpositive_eigenvalues)\n",
    "\n",
    "    stop(\"Method failed to adjust matrix\")\n",
    "  }\n",
    "}"
   ]
  },
  {
   "cell_type": "markdown",
   "id": "6c196700-7491-462f-bab8-ab9d40c63499",
   "metadata": {
    "papermill": {
     "duration": 0.004733,
     "end_time": "2022-07-12T13:07:32.879724",
     "exception": false,
     "start_time": "2022-07-12T13:07:32.874991",
     "status": "completed"
    },
    "tags": []
   },
   "source": [
    "Both matrices should \"look\" similar. We are not interested in perfectly accurate correlation values (they are already inaccurate)."
   ]
  },
  {
   "cell_type": "code",
   "execution_count": null,
   "id": "d8ae4220-2171-460c-9231-cd5219f3fe77",
   "metadata": {
    "papermill": {
     "duration": 0.005242,
     "end_time": "2022-07-12T13:07:32.889860",
     "exception": false,
     "start_time": "2022-07-12T13:07:32.884618",
     "status": "completed"
    },
    "tags": []
   },
   "outputs": [],
   "source": []
  }
 ],
 "metadata": {
  "jupytext": {
   "cell_metadata_filter": "all,-execution,-papermill,-trusted"
  },
  "kernelspec": {
   "display_name": "R",
   "language": "R",
   "name": "ir"
  },
  "language_info": {
   "codemirror_mode": "r",
   "file_extension": ".r",
   "mimetype": "text/x-r-source",
   "name": "R",
   "pygments_lexer": "r",
   "version": "3.6.3"
  },
  "papermill": {
   "default_parameters": {},
   "duration": 5.335004,
   "end_time": "2022-07-12T13:07:33.012884",
   "environment_variables": {},
   "exception": null,
   "input_path": "nbs/15_gsa_gls/12-gene_expr_correlations-adjust.ipynb",
   "output_path": "nbs/15_gsa_gls/gene_corrs/1000g/mashr/12-gene_expr_correlations-adjust-chr15.run.ipynb",
   "parameters": {
    "EQTL_MODEL": "MASHR",
    "REFERENCE_PANEL": "1000G",
    "chromosome": 15
   },
   "start_time": "2022-07-12T13:07:27.677880",
   "version": "2.3.4"
  }
 },
 "nbformat": 4,
 "nbformat_minor": 5
}
