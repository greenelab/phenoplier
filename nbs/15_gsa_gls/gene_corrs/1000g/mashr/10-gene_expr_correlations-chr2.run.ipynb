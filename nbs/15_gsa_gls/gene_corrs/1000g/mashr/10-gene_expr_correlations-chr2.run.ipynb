{
 "cells": [
  {
   "cell_type": "markdown",
   "id": "7a6632fb",
   "metadata": {
    "papermill": {
     "duration": 0.01302,
     "end_time": "2022-07-11T06:02:14.148026",
     "exception": false,
     "start_time": "2022-07-11T06:02:14.135006",
     "status": "completed"
    },
    "tags": []
   },
   "source": [
    "# Description"
   ]
  },
  {
   "cell_type": "markdown",
   "id": "7097c346",
   "metadata": {
    "papermill": {
     "duration": 0.019967,
     "end_time": "2022-07-11T06:02:14.182472",
     "exception": false,
     "start_time": "2022-07-11T06:02:14.162505",
     "status": "completed"
    },
    "tags": []
   },
   "source": [
    "(Please, take a look at the README.md file in this directory for instructions on how to run this notebook)\n",
    "\n",
    "This notebook computes predicted expression correlations between all genes in the MultiPLIER models.\n",
    "\n",
    "It also has a parameter set for papermill to run on a single chromosome to run in parallel (see under `Settings` below).\n",
    "\n",
    "This notebook is not directly run. See README.md."
   ]
  },
  {
   "cell_type": "markdown",
   "id": "c61d8427",
   "metadata": {
    "papermill": {
     "duration": 0.021023,
     "end_time": "2022-07-11T06:02:14.224786",
     "exception": false,
     "start_time": "2022-07-11T06:02:14.203763",
     "status": "completed"
    },
    "tags": []
   },
   "source": [
    "# Modules"
   ]
  },
  {
   "cell_type": "code",
   "execution_count": 1,
   "id": "bbc0234f",
   "metadata": {
    "execution": {
     "iopub.execute_input": "2022-07-11T06:02:14.249961Z",
     "iopub.status.busy": "2022-07-11T06:02:14.249669Z",
     "iopub.status.idle": "2022-07-11T06:02:14.268635Z",
     "shell.execute_reply": "2022-07-11T06:02:14.268014Z"
    },
    "papermill": {
     "duration": 0.031411,
     "end_time": "2022-07-11T06:02:14.270465",
     "exception": false,
     "start_time": "2022-07-11T06:02:14.239054",
     "status": "completed"
    },
    "tags": []
   },
   "outputs": [],
   "source": [
    "%load_ext autoreload\n",
    "%autoreload 2"
   ]
  },
  {
   "cell_type": "code",
   "execution_count": 2,
   "id": "1d5f5a59",
   "metadata": {
    "execution": {
     "iopub.execute_input": "2022-07-11T06:02:14.284199Z",
     "iopub.status.busy": "2022-07-11T06:02:14.284036Z",
     "iopub.status.idle": "2022-07-11T06:02:15.266472Z",
     "shell.execute_reply": "2022-07-11T06:02:15.265853Z"
    },
    "papermill": {
     "duration": 0.991071,
     "end_time": "2022-07-11T06:02:15.268233",
     "exception": false,
     "start_time": "2022-07-11T06:02:14.277162",
     "status": "completed"
    },
    "tags": []
   },
   "outputs": [],
   "source": [
    "from random import sample, seed\n",
    "import warnings\n",
    "from pathlib import Path\n",
    "\n",
    "import numpy as np\n",
    "from scipy.spatial.distance import squareform\n",
    "import pandas as pd\n",
    "from tqdm import tqdm\n",
    "import matplotlib.pyplot as plt\n",
    "import seaborn as sns\n",
    "\n",
    "import conf\n",
    "from entity import Gene"
   ]
  },
  {
   "cell_type": "markdown",
   "id": "1eac24b5",
   "metadata": {
    "papermill": {
     "duration": 0.006673,
     "end_time": "2022-07-11T06:02:15.311432",
     "exception": false,
     "start_time": "2022-07-11T06:02:15.304759",
     "status": "completed"
    },
    "tags": []
   },
   "source": [
    "# Settings"
   ]
  },
  {
   "cell_type": "code",
   "execution_count": 3,
   "id": "ca4560ba",
   "metadata": {
    "execution": {
     "iopub.execute_input": "2022-07-11T06:02:15.325739Z",
     "iopub.status.busy": "2022-07-11T06:02:15.325536Z",
     "iopub.status.idle": "2022-07-11T06:02:15.343178Z",
     "shell.execute_reply": "2022-07-11T06:02:15.342538Z"
    },
    "papermill": {
     "duration": 0.026772,
     "end_time": "2022-07-11T06:02:15.344933",
     "exception": false,
     "start_time": "2022-07-11T06:02:15.318161",
     "status": "completed"
    },
    "tags": [
     "parameters"
    ]
   },
   "outputs": [],
   "source": [
    "# reference panel\n",
    "REFERENCE_PANEL = \"GTEX_V8\"\n",
    "# REFERENCE_PANEL = \"1000G\"\n",
    "\n",
    "# prediction models\n",
    "## mashr\n",
    "EQTL_MODEL = \"MASHR\"\n",
    "\n",
    "# this is the default value used in S-MultiXcan to select the\n",
    "# top principal components of the expression correlation matrix\n",
    "SMULTIXCAN_CONDITION_NUMBER = 30\n",
    "\n",
    "# specifies a single chromosome value\n",
    "# by default, run on all chromosomes\n",
    "chromosome = None"
   ]
  },
  {
   "cell_type": "code",
   "execution_count": 4,
   "id": "1450a675",
   "metadata": {
    "execution": {
     "iopub.execute_input": "2022-07-11T06:02:15.359156Z",
     "iopub.status.busy": "2022-07-11T06:02:15.358769Z",
     "iopub.status.idle": "2022-07-11T06:02:15.375966Z",
     "shell.execute_reply": "2022-07-11T06:02:15.375393Z"
    },
    "papermill": {
     "duration": 0.026199,
     "end_time": "2022-07-11T06:02:15.377643",
     "exception": false,
     "start_time": "2022-07-11T06:02:15.351444",
     "status": "completed"
    },
    "tags": [
     "injected-parameters"
    ]
   },
   "outputs": [],
   "source": [
    "# Parameters\n",
    "chromosome = 2\n",
    "REFERENCE_PANEL = \"1000G\"\n",
    "EQTL_MODEL = \"MASHR\"\n"
   ]
  },
  {
   "cell_type": "code",
   "execution_count": 5,
   "id": "a089c9ff",
   "metadata": {
    "execution": {
     "iopub.execute_input": "2022-07-11T06:02:15.393968Z",
     "iopub.status.busy": "2022-07-11T06:02:15.393474Z",
     "iopub.status.idle": "2022-07-11T06:02:15.410969Z",
     "shell.execute_reply": "2022-07-11T06:02:15.410456Z"
    },
    "papermill": {
     "duration": 0.028156,
     "end_time": "2022-07-11T06:02:15.412559",
     "exception": false,
     "start_time": "2022-07-11T06:02:15.384403",
     "status": "completed"
    },
    "tags": []
   },
   "outputs": [],
   "source": [
    "EQTL_MODEL_FILES_PREFIX = conf.PHENOMEXCAN[\"PREDICTION_MODELS\"][f\"{EQTL_MODEL}_PREFIX\"]"
   ]
  },
  {
   "cell_type": "code",
   "execution_count": 6,
   "id": "8fe24bef",
   "metadata": {
    "execution": {
     "iopub.execute_input": "2022-07-11T06:02:15.427228Z",
     "iopub.status.busy": "2022-07-11T06:02:15.427033Z",
     "iopub.status.idle": "2022-07-11T06:02:15.447287Z",
     "shell.execute_reply": "2022-07-11T06:02:15.446731Z"
    },
    "papermill": {
     "duration": 0.029508,
     "end_time": "2022-07-11T06:02:15.448894",
     "exception": false,
     "start_time": "2022-07-11T06:02:15.419386",
     "status": "completed"
    },
    "tags": []
   },
   "outputs": [
    {
     "data": {
      "text/plain": [
       "'Using eQTL model: MASHR / mashr_'"
      ]
     },
     "metadata": {},
     "output_type": "display_data"
    }
   ],
   "source": [
    "display(f\"Using eQTL model: {EQTL_MODEL} / {EQTL_MODEL_FILES_PREFIX}\")"
   ]
  },
  {
   "cell_type": "code",
   "execution_count": 7,
   "id": "552a7f63-a18c-4d3e-bb6a-94f99b431291",
   "metadata": {
    "execution": {
     "iopub.execute_input": "2022-07-11T06:02:15.464294Z",
     "iopub.status.busy": "2022-07-11T06:02:15.463794Z",
     "iopub.status.idle": "2022-07-11T06:02:15.483455Z",
     "shell.execute_reply": "2022-07-11T06:02:15.482963Z"
    },
    "papermill": {
     "duration": 0.028933,
     "end_time": "2022-07-11T06:02:15.484980",
     "exception": false,
     "start_time": "2022-07-11T06:02:15.456047",
     "status": "completed"
    },
    "tags": []
   },
   "outputs": [
    {
     "data": {
      "text/plain": [
       "'S-MultiXcan condition number: 30'"
      ]
     },
     "metadata": {},
     "output_type": "display_data"
    }
   ],
   "source": [
    "display(f\"S-MultiXcan condition number: {SMULTIXCAN_CONDITION_NUMBER}\")"
   ]
  },
  {
   "cell_type": "code",
   "execution_count": 8,
   "id": "0230ebcb-2c32-4b95-9292-d9a52038e70d",
   "metadata": {
    "execution": {
     "iopub.execute_input": "2022-07-11T06:02:15.503564Z",
     "iopub.status.busy": "2022-07-11T06:02:15.502590Z",
     "iopub.status.idle": "2022-07-11T06:02:15.520342Z",
     "shell.execute_reply": "2022-07-11T06:02:15.519772Z"
    },
    "papermill": {
     "duration": 0.026754,
     "end_time": "2022-07-11T06:02:15.521740",
     "exception": false,
     "start_time": "2022-07-11T06:02:15.494986",
     "status": "completed"
    },
    "tags": []
   },
   "outputs": [],
   "source": [
    "REFERENCE_PANEL_DIR = conf.PHENOMEXCAN[\"LD_BLOCKS\"][f\"{REFERENCE_PANEL}_GENOTYPE_DIR\"]"
   ]
  },
  {
   "cell_type": "code",
   "execution_count": 9,
   "id": "98c4a159-601d-4a22-a1ab-35bd451c25f9",
   "metadata": {
    "execution": {
     "iopub.execute_input": "2022-07-11T06:02:15.535630Z",
     "iopub.status.busy": "2022-07-11T06:02:15.535400Z",
     "iopub.status.idle": "2022-07-11T06:02:15.554015Z",
     "shell.execute_reply": "2022-07-11T06:02:15.553473Z"
    },
    "papermill": {
     "duration": 0.027105,
     "end_time": "2022-07-11T06:02:15.555457",
     "exception": false,
     "start_time": "2022-07-11T06:02:15.528352",
     "status": "completed"
    },
    "tags": []
   },
   "outputs": [
    {
     "data": {
      "text/plain": [
       "'Using reference panel folder: /opt/data/data/phenomexcan/ld_blocks/reference_panel_1000G'"
      ]
     },
     "metadata": {},
     "output_type": "display_data"
    }
   ],
   "source": [
    "display(f\"Using reference panel folder: {str(REFERENCE_PANEL_DIR)}\")"
   ]
  },
  {
   "cell_type": "code",
   "execution_count": 10,
   "id": "396392dc-0340-4540-9b02-e182b833f909",
   "metadata": {
    "execution": {
     "iopub.execute_input": "2022-07-11T06:02:15.570386Z",
     "iopub.status.busy": "2022-07-11T06:02:15.570197Z",
     "iopub.status.idle": "2022-07-11T06:02:15.586711Z",
     "shell.execute_reply": "2022-07-11T06:02:15.586142Z"
    },
    "papermill": {
     "duration": 0.025236,
     "end_time": "2022-07-11T06:02:15.588218",
     "exception": false,
     "start_time": "2022-07-11T06:02:15.562982",
     "status": "completed"
    },
    "tags": []
   },
   "outputs": [],
   "source": [
    "OUTPUT_DIR_BASE = (\n",
    "    conf.PHENOMEXCAN[\"LD_BLOCKS\"][f\"GENE_CORRS_DIR\"]\n",
    "    / REFERENCE_PANEL.lower()\n",
    "    / EQTL_MODEL.lower()\n",
    ")\n",
    "OUTPUT_DIR_BASE.mkdir(parents=True, exist_ok=True)"
   ]
  },
  {
   "cell_type": "code",
   "execution_count": 11,
   "id": "8942c2d3-e53c-4d63-a0eb-b6fce0574d36",
   "metadata": {
    "execution": {
     "iopub.execute_input": "2022-07-11T06:02:15.603423Z",
     "iopub.status.busy": "2022-07-11T06:02:15.603233Z",
     "iopub.status.idle": "2022-07-11T06:02:15.620089Z",
     "shell.execute_reply": "2022-07-11T06:02:15.619600Z"
    },
    "papermill": {
     "duration": 0.025545,
     "end_time": "2022-07-11T06:02:15.621404",
     "exception": false,
     "start_time": "2022-07-11T06:02:15.595859",
     "status": "completed"
    },
    "tags": []
   },
   "outputs": [
    {
     "data": {
      "text/plain": [
       "'Using output dir base: /opt/data/data/phenomexcan/ld_blocks/gene_corrs/1000g/mashr'"
      ]
     },
     "metadata": {},
     "output_type": "display_data"
    }
   ],
   "source": [
    "display(f\"Using output dir base: {OUTPUT_DIR_BASE}\")"
   ]
  },
  {
   "cell_type": "code",
   "execution_count": 12,
   "id": "408aa590",
   "metadata": {
    "execution": {
     "iopub.execute_input": "2022-07-11T06:02:15.636118Z",
     "iopub.status.busy": "2022-07-11T06:02:15.635699Z",
     "iopub.status.idle": "2022-07-11T06:02:15.651377Z",
     "shell.execute_reply": "2022-07-11T06:02:15.650853Z"
    },
    "papermill": {
     "duration": 0.024497,
     "end_time": "2022-07-11T06:02:15.652898",
     "exception": false,
     "start_time": "2022-07-11T06:02:15.628401",
     "status": "completed"
    },
    "tags": []
   },
   "outputs": [],
   "source": [
    "assert (\n",
    "    chromosome is not None\n",
    "), \"You have to select one chromosome (format: number between 1 and 22)\""
   ]
  },
  {
   "cell_type": "code",
   "execution_count": 13,
   "id": "c1c7dd06-80ff-453c-bcb7-0899edce75da",
   "metadata": {
    "execution": {
     "iopub.execute_input": "2022-07-11T06:02:15.667215Z",
     "iopub.status.busy": "2022-07-11T06:02:15.667034Z",
     "iopub.status.idle": "2022-07-11T06:02:15.682577Z",
     "shell.execute_reply": "2022-07-11T06:02:15.682028Z"
    },
    "papermill": {
     "duration": 0.024296,
     "end_time": "2022-07-11T06:02:15.684038",
     "exception": false,
     "start_time": "2022-07-11T06:02:15.659742",
     "status": "completed"
    },
    "tags": []
   },
   "outputs": [],
   "source": [
    "chromosome = str(chromosome)"
   ]
  },
  {
   "cell_type": "code",
   "execution_count": 14,
   "id": "bc17b84c-9c26-47a5-a3ab-7046e72f3ef4",
   "metadata": {
    "execution": {
     "iopub.execute_input": "2022-07-11T06:02:15.698404Z",
     "iopub.status.busy": "2022-07-11T06:02:15.698224Z",
     "iopub.status.idle": "2022-07-11T06:02:15.715808Z",
     "shell.execute_reply": "2022-07-11T06:02:15.714693Z"
    },
    "papermill": {
     "duration": 0.026241,
     "end_time": "2022-07-11T06:02:15.717155",
     "exception": false,
     "start_time": "2022-07-11T06:02:15.690914",
     "status": "completed"
    },
    "tags": []
   },
   "outputs": [
    {
     "data": {
      "text/plain": [
       "'Working on chromosome 2'"
      ]
     },
     "metadata": {},
     "output_type": "display_data"
    }
   ],
   "source": [
    "display(f\"Working on chromosome {chromosome}\")"
   ]
  },
  {
   "cell_type": "markdown",
   "id": "d2ba085e",
   "metadata": {
    "papermill": {
     "duration": 0.006568,
     "end_time": "2022-07-11T06:02:15.731715",
     "exception": false,
     "start_time": "2022-07-11T06:02:15.725147",
     "status": "completed"
    },
    "tags": []
   },
   "source": [
    "# Load data"
   ]
  },
  {
   "cell_type": "markdown",
   "id": "7bed0ce0-e7c7-4300-9a61-5412450b1904",
   "metadata": {
    "papermill": {
     "duration": 0.006458,
     "end_time": "2022-07-11T06:02:15.745151",
     "exception": false,
     "start_time": "2022-07-11T06:02:15.738693",
     "status": "completed"
    },
    "tags": []
   },
   "source": [
    "## Prediction model tissues"
   ]
  },
  {
   "cell_type": "code",
   "execution_count": 15,
   "id": "0847c065-0d69-4830-a07f-1c75115d17f5",
   "metadata": {
    "execution": {
     "iopub.execute_input": "2022-07-11T06:02:15.758684Z",
     "iopub.status.busy": "2022-07-11T06:02:15.758508Z",
     "iopub.status.idle": "2022-07-11T06:02:15.773532Z",
     "shell.execute_reply": "2022-07-11T06:02:15.773008Z"
    },
    "papermill": {
     "duration": 0.023367,
     "end_time": "2022-07-11T06:02:15.774878",
     "exception": false,
     "start_time": "2022-07-11T06:02:15.751511",
     "status": "completed"
    },
    "tags": []
   },
   "outputs": [],
   "source": [
    "prediction_model_tissues = conf.PHENOMEXCAN[\"PREDICTION_MODELS\"][\n",
    "    f\"{EQTL_MODEL}_TISSUES\"\n",
    "].split(\" \")"
   ]
  },
  {
   "cell_type": "code",
   "execution_count": 16,
   "id": "aaef70d1-30c6-4c6f-9d6b-abc8e9a0081f",
   "metadata": {
    "execution": {
     "iopub.execute_input": "2022-07-11T06:02:15.789838Z",
     "iopub.status.busy": "2022-07-11T06:02:15.789663Z",
     "iopub.status.idle": "2022-07-11T06:02:15.805900Z",
     "shell.execute_reply": "2022-07-11T06:02:15.805349Z"
    },
    "papermill": {
     "duration": 0.024977,
     "end_time": "2022-07-11T06:02:15.807338",
     "exception": false,
     "start_time": "2022-07-11T06:02:15.782361",
     "status": "completed"
    },
    "tags": []
   },
   "outputs": [
    {
     "data": {
      "text/plain": [
       "49"
      ]
     },
     "execution_count": 16,
     "metadata": {},
     "output_type": "execute_result"
    }
   ],
   "source": [
    "len(prediction_model_tissues)"
   ]
  },
  {
   "cell_type": "code",
   "execution_count": 17,
   "id": "ff35a099-c52d-465d-b863-0ee70c26208c",
   "metadata": {
    "execution": {
     "iopub.execute_input": "2022-07-11T06:02:15.822226Z",
     "iopub.status.busy": "2022-07-11T06:02:15.821859Z",
     "iopub.status.idle": "2022-07-11T06:02:15.838947Z",
     "shell.execute_reply": "2022-07-11T06:02:15.838380Z"
    },
    "papermill": {
     "duration": 0.026041,
     "end_time": "2022-07-11T06:02:15.840400",
     "exception": false,
     "start_time": "2022-07-11T06:02:15.814359",
     "status": "completed"
    },
    "tags": []
   },
   "outputs": [
    {
     "data": {
      "text/plain": [
       "['Skin_Not_Sun_Exposed_Suprapubic',\n",
       " 'Cells_EBV-transformed_lymphocytes',\n",
       " 'Brain_Frontal_Cortex_BA9',\n",
       " 'Kidney_Cortex',\n",
       " 'Brain_Substantia_nigra']"
      ]
     },
     "execution_count": 17,
     "metadata": {},
     "output_type": "execute_result"
    }
   ],
   "source": [
    "prediction_model_tissues[:5]"
   ]
  },
  {
   "cell_type": "markdown",
   "id": "abcc4b3d",
   "metadata": {
    "papermill": {
     "duration": 0.006899,
     "end_time": "2022-07-11T06:02:15.854429",
     "exception": false,
     "start_time": "2022-07-11T06:02:15.847530",
     "status": "completed"
    },
    "tags": []
   },
   "source": [
    "## MultiPLIER Z"
   ]
  },
  {
   "cell_type": "code",
   "execution_count": 18,
   "id": "c48ef527",
   "metadata": {
    "execution": {
     "iopub.execute_input": "2022-07-11T06:02:15.869575Z",
     "iopub.status.busy": "2022-07-11T06:02:15.869301Z",
     "iopub.status.idle": "2022-07-11T06:02:15.913782Z",
     "shell.execute_reply": "2022-07-11T06:02:15.911952Z"
    },
    "papermill": {
     "duration": 0.053862,
     "end_time": "2022-07-11T06:02:15.915402",
     "exception": false,
     "start_time": "2022-07-11T06:02:15.861540",
     "status": "completed"
    },
    "tags": []
   },
   "outputs": [],
   "source": [
    "multiplier_z_genes = pd.read_pickle(\n",
    "    conf.MULTIPLIER[\"MODEL_Z_MATRIX_FILE\"]\n",
    ").index.tolist()"
   ]
  },
  {
   "cell_type": "code",
   "execution_count": 19,
   "id": "0a4ecbd9",
   "metadata": {
    "execution": {
     "iopub.execute_input": "2022-07-11T06:02:15.933440Z",
     "iopub.status.busy": "2022-07-11T06:02:15.933117Z",
     "iopub.status.idle": "2022-07-11T06:02:15.952254Z",
     "shell.execute_reply": "2022-07-11T06:02:15.951742Z"
    },
    "papermill": {
     "duration": 0.030103,
     "end_time": "2022-07-11T06:02:15.953602",
     "exception": false,
     "start_time": "2022-07-11T06:02:15.923499",
     "status": "completed"
    },
    "tags": []
   },
   "outputs": [
    {
     "data": {
      "text/plain": [
       "6750"
      ]
     },
     "execution_count": 19,
     "metadata": {},
     "output_type": "execute_result"
    }
   ],
   "source": [
    "len(multiplier_z_genes)"
   ]
  },
  {
   "cell_type": "code",
   "execution_count": 20,
   "id": "115e8864",
   "metadata": {
    "execution": {
     "iopub.execute_input": "2022-07-11T06:02:15.971594Z",
     "iopub.status.busy": "2022-07-11T06:02:15.970365Z",
     "iopub.status.idle": "2022-07-11T06:02:15.987451Z",
     "shell.execute_reply": "2022-07-11T06:02:15.987016Z"
    },
    "papermill": {
     "duration": 0.026588,
     "end_time": "2022-07-11T06:02:15.988784",
     "exception": false,
     "start_time": "2022-07-11T06:02:15.962196",
     "status": "completed"
    },
    "tags": []
   },
   "outputs": [
    {
     "data": {
      "text/plain": [
       "['GAS6',\n",
       " 'MMP14',\n",
       " 'DSP',\n",
       " 'MARCKSL1',\n",
       " 'SPARC',\n",
       " 'CTSD',\n",
       " 'EPAS1',\n",
       " 'PALLD',\n",
       " 'PHC2',\n",
       " 'LGALS3BP']"
      ]
     },
     "execution_count": 20,
     "metadata": {},
     "output_type": "execute_result"
    }
   ],
   "source": [
    "multiplier_z_genes[:10]"
   ]
  },
  {
   "cell_type": "markdown",
   "id": "7dcb8db7",
   "metadata": {
    "papermill": {
     "duration": 0.007282,
     "end_time": "2022-07-11T06:02:16.003354",
     "exception": false,
     "start_time": "2022-07-11T06:02:15.996072",
     "status": "completed"
    },
    "tags": []
   },
   "source": [
    "## Get gene objects"
   ]
  },
  {
   "cell_type": "code",
   "execution_count": 21,
   "id": "bb932812",
   "metadata": {
    "execution": {
     "iopub.execute_input": "2022-07-11T06:02:16.018052Z",
     "iopub.status.busy": "2022-07-11T06:02:16.017869Z",
     "iopub.status.idle": "2022-07-11T06:02:16.040457Z",
     "shell.execute_reply": "2022-07-11T06:02:16.039885Z"
    },
    "papermill": {
     "duration": 0.03147,
     "end_time": "2022-07-11T06:02:16.041932",
     "exception": false,
     "start_time": "2022-07-11T06:02:16.010462",
     "status": "completed"
    },
    "tags": []
   },
   "outputs": [],
   "source": [
    "multiplier_gene_obj = {\n",
    "    gene_name: Gene(name=gene_name)\n",
    "    for gene_name in multiplier_z_genes\n",
    "    if gene_name in Gene.GENE_NAME_TO_ID_MAP\n",
    "}"
   ]
  },
  {
   "cell_type": "code",
   "execution_count": 22,
   "id": "39533214",
   "metadata": {
    "execution": {
     "iopub.execute_input": "2022-07-11T06:02:16.058377Z",
     "iopub.status.busy": "2022-07-11T06:02:16.058191Z",
     "iopub.status.idle": "2022-07-11T06:02:16.076341Z",
     "shell.execute_reply": "2022-07-11T06:02:16.075825Z"
    },
    "papermill": {
     "duration": 0.028178,
     "end_time": "2022-07-11T06:02:16.077730",
     "exception": false,
     "start_time": "2022-07-11T06:02:16.049552",
     "status": "completed"
    },
    "tags": []
   },
   "outputs": [
    {
     "data": {
      "text/plain": [
       "6454"
      ]
     },
     "execution_count": 22,
     "metadata": {},
     "output_type": "execute_result"
    }
   ],
   "source": [
    "len(multiplier_gene_obj)"
   ]
  },
  {
   "cell_type": "code",
   "execution_count": 23,
   "id": "9a5d0b84",
   "metadata": {
    "execution": {
     "iopub.execute_input": "2022-07-11T06:02:16.094886Z",
     "iopub.status.busy": "2022-07-11T06:02:16.094647Z",
     "iopub.status.idle": "2022-07-11T06:02:16.112075Z",
     "shell.execute_reply": "2022-07-11T06:02:16.111548Z"
    },
    "papermill": {
     "duration": 0.027859,
     "end_time": "2022-07-11T06:02:16.113434",
     "exception": false,
     "start_time": "2022-07-11T06:02:16.085575",
     "status": "completed"
    },
    "tags": []
   },
   "outputs": [
    {
     "data": {
      "text/plain": [
       "'ENSG00000183087'"
      ]
     },
     "execution_count": 23,
     "metadata": {},
     "output_type": "execute_result"
    }
   ],
   "source": [
    "multiplier_gene_obj[\"GAS6\"].ensembl_id"
   ]
  },
  {
   "cell_type": "code",
   "execution_count": 24,
   "id": "e3ffabc7",
   "metadata": {
    "execution": {
     "iopub.execute_input": "2022-07-11T06:02:16.130046Z",
     "iopub.status.busy": "2022-07-11T06:02:16.129680Z",
     "iopub.status.idle": "2022-07-11T06:02:18.150473Z",
     "shell.execute_reply": "2022-07-11T06:02:18.149821Z"
    },
    "papermill": {
     "duration": 2.03081,
     "end_time": "2022-07-11T06:02:18.151994",
     "exception": false,
     "start_time": "2022-07-11T06:02:16.121184",
     "status": "completed"
    },
    "tags": []
   },
   "outputs": [],
   "source": [
    "_gene_obj = list(multiplier_gene_obj.values())\n",
    "\n",
    "genes_info = pd.DataFrame(\n",
    "    {\n",
    "        \"name\": [g.name for g in _gene_obj],\n",
    "        \"id\": [g.ensembl_id for g in _gene_obj],\n",
    "        \"chr\": [g.chromosome for g in _gene_obj],\n",
    "        \"band\": [g.band for g in _gene_obj],\n",
    "        \"start_position\": [g.get_attribute(\"start_position\") for g in _gene_obj],\n",
    "    }\n",
    ")"
   ]
  },
  {
   "cell_type": "code",
   "execution_count": 25,
   "id": "e23519b8",
   "metadata": {
    "execution": {
     "iopub.execute_input": "2022-07-11T06:02:18.171723Z",
     "iopub.status.busy": "2022-07-11T06:02:18.171529Z",
     "iopub.status.idle": "2022-07-11T06:02:18.187892Z",
     "shell.execute_reply": "2022-07-11T06:02:18.187464Z"
    },
    "papermill": {
     "duration": 0.030485,
     "end_time": "2022-07-11T06:02:18.189466",
     "exception": false,
     "start_time": "2022-07-11T06:02:18.158981",
     "status": "completed"
    },
    "tags": []
   },
   "outputs": [
    {
     "data": {
      "text/plain": [
       "(6454, 5)"
      ]
     },
     "execution_count": 25,
     "metadata": {},
     "output_type": "execute_result"
    }
   ],
   "source": [
    "genes_info.shape"
   ]
  },
  {
   "cell_type": "code",
   "execution_count": 26,
   "id": "0d71881c",
   "metadata": {
    "execution": {
     "iopub.execute_input": "2022-07-11T06:02:18.207806Z",
     "iopub.status.busy": "2022-07-11T06:02:18.204921Z",
     "iopub.status.idle": "2022-07-11T06:02:18.228707Z",
     "shell.execute_reply": "2022-07-11T06:02:18.228213Z"
    },
    "papermill": {
     "duration": 0.032976,
     "end_time": "2022-07-11T06:02:18.229942",
     "exception": false,
     "start_time": "2022-07-11T06:02:18.196966",
     "status": "completed"
    },
    "tags": []
   },
   "outputs": [
    {
     "data": {
      "text/html": [
       "<div>\n",
       "<style scoped>\n",
       "    .dataframe tbody tr th:only-of-type {\n",
       "        vertical-align: middle;\n",
       "    }\n",
       "\n",
       "    .dataframe tbody tr th {\n",
       "        vertical-align: top;\n",
       "    }\n",
       "\n",
       "    .dataframe thead th {\n",
       "        text-align: right;\n",
       "    }\n",
       "</style>\n",
       "<table border=\"1\" class=\"dataframe\">\n",
       "  <thead>\n",
       "    <tr style=\"text-align: right;\">\n",
       "      <th></th>\n",
       "      <th>name</th>\n",
       "      <th>id</th>\n",
       "      <th>chr</th>\n",
       "      <th>band</th>\n",
       "      <th>start_position</th>\n",
       "    </tr>\n",
       "  </thead>\n",
       "  <tbody>\n",
       "    <tr>\n",
       "      <th>0</th>\n",
       "      <td>GAS6</td>\n",
       "      <td>ENSG00000183087</td>\n",
       "      <td>13</td>\n",
       "      <td>13q34</td>\n",
       "      <td>113820549.0</td>\n",
       "    </tr>\n",
       "    <tr>\n",
       "      <th>1</th>\n",
       "      <td>MMP14</td>\n",
       "      <td>ENSG00000157227</td>\n",
       "      <td>14</td>\n",
       "      <td>14q11.2</td>\n",
       "      <td>22836560.0</td>\n",
       "    </tr>\n",
       "    <tr>\n",
       "      <th>2</th>\n",
       "      <td>DSP</td>\n",
       "      <td>ENSG00000096696</td>\n",
       "      <td>6</td>\n",
       "      <td>6p24.3</td>\n",
       "      <td>7541617.0</td>\n",
       "    </tr>\n",
       "    <tr>\n",
       "      <th>3</th>\n",
       "      <td>MARCKSL1</td>\n",
       "      <td>ENSG00000175130</td>\n",
       "      <td>1</td>\n",
       "      <td>1p35.1</td>\n",
       "      <td>32333839.0</td>\n",
       "    </tr>\n",
       "    <tr>\n",
       "      <th>4</th>\n",
       "      <td>SPARC</td>\n",
       "      <td>ENSG00000113140</td>\n",
       "      <td>5</td>\n",
       "      <td>5q33.1</td>\n",
       "      <td>151661096.0</td>\n",
       "    </tr>\n",
       "  </tbody>\n",
       "</table>\n",
       "</div>"
      ],
      "text/plain": [
       "       name               id chr     band  start_position\n",
       "0      GAS6  ENSG00000183087  13    13q34     113820549.0\n",
       "1     MMP14  ENSG00000157227  14  14q11.2      22836560.0\n",
       "2       DSP  ENSG00000096696   6   6p24.3       7541617.0\n",
       "3  MARCKSL1  ENSG00000175130   1   1p35.1      32333839.0\n",
       "4     SPARC  ENSG00000113140   5   5q33.1     151661096.0"
      ]
     },
     "execution_count": 26,
     "metadata": {},
     "output_type": "execute_result"
    }
   ],
   "source": [
    "genes_info.head()"
   ]
  },
  {
   "cell_type": "markdown",
   "id": "c8d1038f",
   "metadata": {
    "papermill": {
     "duration": 0.007105,
     "end_time": "2022-07-11T06:02:18.244371",
     "exception": false,
     "start_time": "2022-07-11T06:02:18.237266",
     "status": "completed"
    },
    "tags": []
   },
   "source": [
    "# Test"
   ]
  },
  {
   "cell_type": "code",
   "execution_count": 27,
   "id": "64993abf",
   "metadata": {
    "execution": {
     "iopub.execute_input": "2022-07-11T06:02:18.258951Z",
     "iopub.status.busy": "2022-07-11T06:02:18.258751Z",
     "iopub.status.idle": "2022-07-11T06:02:18.283155Z",
     "shell.execute_reply": "2022-07-11T06:02:18.282548Z"
    },
    "papermill": {
     "duration": 0.033224,
     "end_time": "2022-07-11T06:02:18.284481",
     "exception": false,
     "start_time": "2022-07-11T06:02:18.251257",
     "status": "completed"
    },
    "tags": []
   },
   "outputs": [
    {
     "data": {
      "text/html": [
       "<div>\n",
       "<style scoped>\n",
       "    .dataframe tbody tr th:only-of-type {\n",
       "        vertical-align: middle;\n",
       "    }\n",
       "\n",
       "    .dataframe tbody tr th {\n",
       "        vertical-align: top;\n",
       "    }\n",
       "\n",
       "    .dataframe thead th {\n",
       "        text-align: right;\n",
       "    }\n",
       "</style>\n",
       "<table border=\"1\" class=\"dataframe\">\n",
       "  <thead>\n",
       "    <tr style=\"text-align: right;\">\n",
       "      <th></th>\n",
       "      <th>name</th>\n",
       "      <th>id</th>\n",
       "      <th>chr</th>\n",
       "      <th>band</th>\n",
       "      <th>start_position</th>\n",
       "    </tr>\n",
       "  </thead>\n",
       "  <tbody>\n",
       "    <tr>\n",
       "      <th>6</th>\n",
       "      <td>EPAS1</td>\n",
       "      <td>ENSG00000116016</td>\n",
       "      <td>2</td>\n",
       "      <td>2p21</td>\n",
       "      <td>46293667.0</td>\n",
       "    </tr>\n",
       "    <tr>\n",
       "      <th>19</th>\n",
       "      <td>SDC1</td>\n",
       "      <td>ENSG00000115884</td>\n",
       "      <td>2</td>\n",
       "      <td>2p24.1</td>\n",
       "      <td>20200797.0</td>\n",
       "    </tr>\n",
       "    <tr>\n",
       "      <th>25</th>\n",
       "      <td>COL6A3</td>\n",
       "      <td>ENSG00000163359</td>\n",
       "      <td>2</td>\n",
       "      <td>2q37.3</td>\n",
       "      <td>237324003.0</td>\n",
       "    </tr>\n",
       "    <tr>\n",
       "      <th>38</th>\n",
       "      <td>RRM2</td>\n",
       "      <td>ENSG00000171848</td>\n",
       "      <td>2</td>\n",
       "      <td>2p25.1</td>\n",
       "      <td>10120698.0</td>\n",
       "    </tr>\n",
       "    <tr>\n",
       "      <th>48</th>\n",
       "      <td>RALB</td>\n",
       "      <td>ENSG00000144118</td>\n",
       "      <td>2</td>\n",
       "      <td>2q14.2</td>\n",
       "      <td>120240064.0</td>\n",
       "    </tr>\n",
       "    <tr>\n",
       "      <th>...</th>\n",
       "      <td>...</td>\n",
       "      <td>...</td>\n",
       "      <td>...</td>\n",
       "      <td>...</td>\n",
       "      <td>...</td>\n",
       "    </tr>\n",
       "    <tr>\n",
       "      <th>6378</th>\n",
       "      <td>SMARCAL1</td>\n",
       "      <td>ENSG00000138375</td>\n",
       "      <td>2</td>\n",
       "      <td>2q35</td>\n",
       "      <td>216412414.0</td>\n",
       "    </tr>\n",
       "    <tr>\n",
       "      <th>6394</th>\n",
       "      <td>PTMA</td>\n",
       "      <td>ENSG00000187514</td>\n",
       "      <td>2</td>\n",
       "      <td>2q37.1</td>\n",
       "      <td>231706895.0</td>\n",
       "    </tr>\n",
       "    <tr>\n",
       "      <th>6398</th>\n",
       "      <td>CPS1</td>\n",
       "      <td>ENSG00000021826</td>\n",
       "      <td>2</td>\n",
       "      <td>2q34</td>\n",
       "      <td>210477682.0</td>\n",
       "    </tr>\n",
       "    <tr>\n",
       "      <th>6404</th>\n",
       "      <td>TGFA</td>\n",
       "      <td>ENSG00000163235</td>\n",
       "      <td>2</td>\n",
       "      <td>2p13.3</td>\n",
       "      <td>70447284.0</td>\n",
       "    </tr>\n",
       "    <tr>\n",
       "      <th>6429</th>\n",
       "      <td>STON1</td>\n",
       "      <td>ENSG00000243244</td>\n",
       "      <td>2</td>\n",
       "      <td>2p16.3</td>\n",
       "      <td>48529383.0</td>\n",
       "    </tr>\n",
       "  </tbody>\n",
       "</table>\n",
       "<p>445 rows × 5 columns</p>\n",
       "</div>"
      ],
      "text/plain": [
       "          name               id chr    band  start_position\n",
       "6        EPAS1  ENSG00000116016   2    2p21      46293667.0\n",
       "19        SDC1  ENSG00000115884   2  2p24.1      20200797.0\n",
       "25      COL6A3  ENSG00000163359   2  2q37.3     237324003.0\n",
       "38        RRM2  ENSG00000171848   2  2p25.1      10120698.0\n",
       "48        RALB  ENSG00000144118   2  2q14.2     120240064.0\n",
       "...        ...              ...  ..     ...             ...\n",
       "6378  SMARCAL1  ENSG00000138375   2    2q35     216412414.0\n",
       "6394      PTMA  ENSG00000187514   2  2q37.1     231706895.0\n",
       "6398      CPS1  ENSG00000021826   2    2q34     210477682.0\n",
       "6404      TGFA  ENSG00000163235   2  2p13.3      70447284.0\n",
       "6429     STON1  ENSG00000243244   2  2p16.3      48529383.0\n",
       "\n",
       "[445 rows x 5 columns]"
      ]
     },
     "metadata": {},
     "output_type": "display_data"
    }
   ],
   "source": [
    "chromosome_genes_info = genes_info[genes_info[\"chr\"] == chromosome]\n",
    "display(chromosome_genes_info)"
   ]
  },
  {
   "cell_type": "code",
   "execution_count": 28,
   "id": "d2e42726-7de6-46eb-acfc-6323eaa8fae6",
   "metadata": {
    "execution": {
     "iopub.execute_input": "2022-07-11T06:02:18.300531Z",
     "iopub.status.busy": "2022-07-11T06:02:18.299995Z",
     "iopub.status.idle": "2022-07-11T06:02:18.316959Z",
     "shell.execute_reply": "2022-07-11T06:02:18.316335Z"
    },
    "papermill": {
     "duration": 0.026396,
     "end_time": "2022-07-11T06:02:18.318378",
     "exception": false,
     "start_time": "2022-07-11T06:02:18.291982",
     "status": "completed"
    },
    "tags": []
   },
   "outputs": [
    {
     "data": {
      "text/plain": [
       "5"
      ]
     },
     "metadata": {},
     "output_type": "display_data"
    }
   ],
   "source": [
    "seed(0)\n",
    "_gene_list_ids = sample(chromosome_genes_info[\"id\"].tolist(), 5)\n",
    "selected_chromosome_genes_obj = [Gene(ensembl_id=g_id) for g_id in _gene_list_ids]\n",
    "display(len(selected_chromosome_genes_obj))"
   ]
  },
  {
   "cell_type": "code",
   "execution_count": 29,
   "id": "1b355359",
   "metadata": {
    "execution": {
     "iopub.execute_input": "2022-07-11T06:02:18.335589Z",
     "iopub.status.busy": "2022-07-11T06:02:18.335403Z",
     "iopub.status.idle": "2022-07-11T06:02:18.355093Z",
     "shell.execute_reply": "2022-07-11T06:02:18.354559Z"
    },
    "papermill": {
     "duration": 0.030237,
     "end_time": "2022-07-11T06:02:18.356562",
     "exception": false,
     "start_time": "2022-07-11T06:02:18.326325",
     "status": "completed"
    },
    "tags": []
   },
   "outputs": [
    {
     "name": "stdout",
     "output_type": "stream",
     "text": [
      "ATIC / GPC1: 0.0\n",
      "ATIC / CWC22: 0.0\n",
      "ATIC / MRPS5: 0.0\n",
      "ATIC / ASAP2: 0.0\n",
      "GPC1 / CWC22: 0.0\n",
      "GPC1 / MRPS5: 0.0\n",
      "GPC1 / ASAP2: 0.0\n",
      "CWC22 / MRPS5: 0.0\n",
      "CWC22 / ASAP2: 0.0\n",
      "MRPS5 / ASAP2: 0.0\n"
     ]
    }
   ],
   "source": [
    "for gene_idx1 in range(0, len(selected_chromosome_genes_obj) - 1):\n",
    "    gene_obj1 = selected_chromosome_genes_obj[gene_idx1]\n",
    "\n",
    "    for gene_idx2 in range(gene_idx1 + 1, len(selected_chromosome_genes_obj)):\n",
    "        gene_obj2 = selected_chromosome_genes_obj[gene_idx2]\n",
    "\n",
    "        c = gene_obj1.get_ssm_correlation(\n",
    "            gene_obj2,\n",
    "        )\n",
    "\n",
    "        print(f\"{gene_obj1.name} / {gene_obj2.name}: {c}\")"
   ]
  },
  {
   "cell_type": "markdown",
   "id": "d3843e06",
   "metadata": {
    "papermill": {
     "duration": 0.008422,
     "end_time": "2022-07-11T06:02:18.374128",
     "exception": false,
     "start_time": "2022-07-11T06:02:18.365706",
     "status": "completed"
    },
    "tags": []
   },
   "source": [
    "# Compute correlation per chromosome"
   ]
  },
  {
   "cell_type": "code",
   "execution_count": 30,
   "id": "cb859c15-d1f3-4006-a74c-2b83c0db9611",
   "metadata": {
    "execution": {
     "iopub.execute_input": "2022-07-11T06:02:18.391778Z",
     "iopub.status.busy": "2022-07-11T06:02:18.391448Z",
     "iopub.status.idle": "2022-07-11T06:02:18.408982Z",
     "shell.execute_reply": "2022-07-11T06:02:18.408386Z"
    },
    "papermill": {
     "duration": 0.027901,
     "end_time": "2022-07-11T06:02:18.410411",
     "exception": false,
     "start_time": "2022-07-11T06:02:18.382510",
     "status": "completed"
    },
    "tags": []
   },
   "outputs": [
    {
     "data": {
      "text/plain": [
       "PosixPath('/opt/data/data/phenomexcan/ld_blocks/gene_corrs/1000g/mashr/by_chr/gene_corrs-chr2.pkl')"
      ]
     },
     "metadata": {},
     "output_type": "display_data"
    }
   ],
   "source": [
    "output_dir = OUTPUT_DIR_BASE / \"by_chr\"\n",
    "output_dir.mkdir(exist_ok=True, parents=True)\n",
    "output_file = output_dir / f\"gene_corrs-chr{chromosome}.pkl\"\n",
    "display(output_file)"
   ]
  },
  {
   "cell_type": "code",
   "execution_count": 31,
   "id": "aa674fe4-6794-4eed-98fa-32b39d1d4ace",
   "metadata": {
    "execution": {
     "iopub.execute_input": "2022-07-11T06:02:18.427551Z",
     "iopub.status.busy": "2022-07-11T06:02:18.427175Z",
     "iopub.status.idle": "2022-07-11T06:02:18.442324Z",
     "shell.execute_reply": "2022-07-11T06:02:18.441771Z"
    },
    "papermill": {
     "duration": 0.026431,
     "end_time": "2022-07-11T06:02:18.444873",
     "exception": false,
     "start_time": "2022-07-11T06:02:18.418442",
     "status": "completed"
    },
    "tags": []
   },
   "outputs": [],
   "source": [
    "warnings.filterwarnings(\"error\")"
   ]
  },
  {
   "cell_type": "code",
   "execution_count": 32,
   "id": "cdbb90a1",
   "metadata": {
    "execution": {
     "iopub.execute_input": "2022-07-11T06:02:18.461890Z",
     "iopub.status.busy": "2022-07-11T06:02:18.461716Z",
     "iopub.status.idle": "2022-07-11T06:16:43.923053Z",
     "shell.execute_reply": "2022-07-11T06:16:43.922607Z"
    },
    "papermill": {
     "duration": 865.471433,
     "end_time": "2022-07-11T06:16:43.924416",
     "exception": false,
     "start_time": "2022-07-11T06:02:18.452983",
     "status": "completed"
    },
    "tags": []
   },
   "outputs": [
    {
     "name": "stdout",
     "output_type": "stream",
     "text": [
      "Number of genes in chromosome: 445\n",
      "Number of gene combinations: 98790\n"
     ]
    },
    {
     "name": "stderr",
     "output_type": "stream",
     "text": [
      "ENSG00000180902 / ENSG00000188389: 100%|█████████████████████| 98790/98790 [14:25<00:00, 114.15it/s]"
     ]
    },
    {
     "name": "stdout",
     "output_type": "stream",
     "text": [
      "Min/max values: 0.0 / 1.0\n"
     ]
    },
    {
     "name": "stderr",
     "output_type": "stream",
     "text": [
      "\n"
     ]
    },
    {
     "data": {
      "text/plain": [
       "PosixPath('/opt/data/data/phenomexcan/ld_blocks/gene_corrs/1000g/mashr/by_chr/gene_corrs-chr2.pkl')"
      ]
     },
     "metadata": {},
     "output_type": "display_data"
    }
   ],
   "source": [
    "# standard checks\n",
    "all_chrs = genes_info[\"chr\"].dropna().unique()\n",
    "assert all_chrs.shape[0] == 22\n",
    "\n",
    "# select chromosome given by the user\n",
    "assert chromosome in all_chrs\n",
    "\n",
    "# run only on the chromosome specified\n",
    "all_chrs = [chromosome]\n",
    "genes_chr = genes_info[genes_info[\"chr\"] == chromosome]\n",
    "\n",
    "# For testing purposes\n",
    "# genes_chr = genes_chr.sample(n=20)\n",
    "\n",
    "print(f\"Number of genes in chromosome: {genes_chr.shape[0]}\", flush=True)\n",
    "\n",
    "# sort genes by starting position to make visualizations better later\n",
    "genes_chr = genes_chr.sort_values(\"start_position\")\n",
    "\n",
    "gene_chr_objs = [Gene(ensembl_id=gene_id) for gene_id in genes_chr[\"id\"]]\n",
    "gene_chr_ids = [g.ensembl_id for g in gene_chr_objs]\n",
    "\n",
    "n = len(gene_chr_objs)\n",
    "n_comb = int(n * (n - 1) / 2.0)\n",
    "print(f\"Number of gene combinations: {n_comb}\", flush=True)\n",
    "\n",
    "gene_corrs = []\n",
    "\n",
    "pbar = tqdm(ncols=100, total=n_comb)\n",
    "i = 0\n",
    "for gene_idx1 in range(0, len(gene_chr_objs) - 1):\n",
    "    gene_obj1 = gene_chr_objs[gene_idx1]\n",
    "\n",
    "    for gene_idx2 in range(gene_idx1 + 1, len(gene_chr_objs)):\n",
    "        gene_obj2 = gene_chr_objs[gene_idx2]\n",
    "\n",
    "        pbar.set_description(f\"{gene_obj1.ensembl_id} / {gene_obj2.ensembl_id}\")\n",
    "\n",
    "        try:\n",
    "            # FIXME: compute the correlation of the sum of squares of the model using all\n",
    "            # the available tissues; this could be problematic because for some results\n",
    "            # (computed on a specific phenotype/GWAS) we might not have all the tissues\n",
    "            # available, which can certainly bias the correlation estimation.\n",
    "            # Since this depends on the GWAS on a specific phenotype, we should ideally have\n",
    "            # one correlation matrix per GWAS. I should look at how we can improve this.\n",
    "            r = gene_obj1.get_ssm_correlation(\n",
    "                other_gene=gene_obj2,\n",
    "                condition_number=SMULTIXCAN_CONDITION_NUMBER,\n",
    "                reference_panel=REFERENCE_PANEL,\n",
    "                model_type=EQTL_MODEL,\n",
    "            )\n",
    "\n",
    "            if r is None:\n",
    "                # if r is None, it's very likely because:\n",
    "                #  * one of the genes has no prediction models\n",
    "                #  * all the SNPs predictors for the gene are not present in the reference\n",
    "                #    panel\n",
    "\n",
    "                r = 0.0\n",
    "\n",
    "            gene_corrs.append(r)\n",
    "        except Warning:\n",
    "            print(\n",
    "                f\"RuntimeWarning for genes {gene_obj1.ensembl_id} and {gene_obj2.ensembl_id}\",\n",
    "                flush=True,\n",
    "            )\n",
    "            import traceback\n",
    "\n",
    "            print(traceback.format_exc(), flush=True)\n",
    "        except Exception as e:\n",
    "            print(\n",
    "                f\"Exception for genes {gene_obj1.ensembl_id} and {gene_obj2.ensembl_id}\",\n",
    "                flush=True,\n",
    "            )\n",
    "            import traceback\n",
    "\n",
    "            print(traceback.format_exc(), flush=True)\n",
    "            gene_corrs.append(np.nan)\n",
    "\n",
    "        pbar.update(1)\n",
    "\n",
    "pbar.close()\n",
    "\n",
    "# testing\n",
    "gene_corrs_flat = pd.Series(gene_corrs)\n",
    "print(f\"Min/max values: {gene_corrs_flat.min()} / {gene_corrs_flat.max()}\")\n",
    "assert gene_corrs_flat.min() >= -1.001\n",
    "assert gene_corrs_flat.max() <= 1.001\n",
    "\n",
    "# save\n",
    "# FIXME: consider saving only the condenced matrix here. See here for\n",
    "# more details: https://github.com/greenelab/phenoplier/pull/38#discussion_r634600813\n",
    "gene_corrs_data = squareform(np.array(gene_corrs, dtype=np.float64))\n",
    "np.fill_diagonal(gene_corrs_data, 1.0)\n",
    "\n",
    "gene_corrs_df = pd.DataFrame(\n",
    "    data=gene_corrs_data,\n",
    "    index=gene_chr_ids,\n",
    "    columns=gene_chr_ids,\n",
    ")\n",
    "\n",
    "output_dir.mkdir(exist_ok=True, parents=True)\n",
    "display(output_file)\n",
    "\n",
    "gene_corrs_df.to_pickle(output_file)"
   ]
  },
  {
   "cell_type": "markdown",
   "id": "faa67b51-5373-470f-aa72-2ded53fa6dfe",
   "metadata": {
    "papermill": {
     "duration": 5.188197,
     "end_time": "2022-07-11T06:16:53.727921",
     "exception": false,
     "start_time": "2022-07-11T06:16:48.539724",
     "status": "completed"
    },
    "tags": []
   },
   "source": [
    "# Testing"
   ]
  },
  {
   "cell_type": "code",
   "execution_count": 33,
   "id": "14f7d046-4b55-4896-a56b-990127bcc388",
   "metadata": {
    "execution": {
     "iopub.execute_input": "2022-07-11T06:17:05.328473Z",
     "iopub.status.busy": "2022-07-11T06:17:05.328309Z",
     "iopub.status.idle": "2022-07-11T06:17:05.368859Z",
     "shell.execute_reply": "2022-07-11T06:17:05.368408Z"
    },
    "papermill": {
     "duration": 6.248732,
     "end_time": "2022-07-11T06:17:05.370356",
     "exception": false,
     "start_time": "2022-07-11T06:16:59.121624",
     "status": "completed"
    },
    "tags": []
   },
   "outputs": [
    {
     "data": {
      "text/plain": [
       "(445, 445)"
      ]
     },
     "execution_count": 33,
     "metadata": {},
     "output_type": "execute_result"
    }
   ],
   "source": [
    "gene_corrs_df.shape"
   ]
  },
  {
   "cell_type": "code",
   "execution_count": 34,
   "id": "c7d15414-3297-4537-a7c6-7588c0baeb75",
   "metadata": {
    "execution": {
     "iopub.execute_input": "2022-07-11T06:17:15.659611Z",
     "iopub.status.busy": "2022-07-11T06:17:15.659434Z",
     "iopub.status.idle": "2022-07-11T06:17:15.751188Z",
     "shell.execute_reply": "2022-07-11T06:17:15.750719Z"
    },
    "papermill": {
     "duration": 4.684241,
     "end_time": "2022-07-11T06:17:15.752778",
     "exception": false,
     "start_time": "2022-07-11T06:17:11.068537",
     "status": "completed"
    },
    "tags": []
   },
   "outputs": [
    {
     "data": {
      "text/html": [
       "<div>\n",
       "<style scoped>\n",
       "    .dataframe tbody tr th:only-of-type {\n",
       "        vertical-align: middle;\n",
       "    }\n",
       "\n",
       "    .dataframe tbody tr th {\n",
       "        vertical-align: top;\n",
       "    }\n",
       "\n",
       "    .dataframe thead th {\n",
       "        text-align: right;\n",
       "    }\n",
       "</style>\n",
       "<table border=\"1\" class=\"dataframe\">\n",
       "  <thead>\n",
       "    <tr style=\"text-align: right;\">\n",
       "      <th></th>\n",
       "      <th>ENSG00000143727</th>\n",
       "      <th>ENSG00000115705</th>\n",
       "      <th>ENSG00000130508</th>\n",
       "      <th>ENSG00000182551</th>\n",
       "      <th>ENSG00000171865</th>\n",
       "      <th>ENSG00000171863</th>\n",
       "      <th>ENSG00000134326</th>\n",
       "      <th>ENSG00000134321</th>\n",
       "      <th>ENSG00000115738</th>\n",
       "      <th>ENSG00000134313</th>\n",
       "      <th>...</th>\n",
       "      <th>ENSG00000068024</th>\n",
       "      <th>ENSG00000130414</th>\n",
       "      <th>ENSG00000063660</th>\n",
       "      <th>ENSG00000178623</th>\n",
       "      <th>ENSG00000115687</th>\n",
       "      <th>ENSG00000168385</th>\n",
       "      <th>ENSG00000006607</th>\n",
       "      <th>ENSG00000168393</th>\n",
       "      <th>ENSG00000180902</th>\n",
       "      <th>ENSG00000188389</th>\n",
       "    </tr>\n",
       "  </thead>\n",
       "  <tbody>\n",
       "    <tr>\n",
       "      <th>ENSG00000143727</th>\n",
       "      <td>1.000000</td>\n",
       "      <td>0.010931</td>\n",
       "      <td>0.009968</td>\n",
       "      <td>0.009888</td>\n",
       "      <td>0.013970</td>\n",
       "      <td>0.009624</td>\n",
       "      <td>0.000000</td>\n",
       "      <td>0.000000</td>\n",
       "      <td>0.0</td>\n",
       "      <td>0.0</td>\n",
       "      <td>...</td>\n",
       "      <td>0.0</td>\n",
       "      <td>0.0</td>\n",
       "      <td>0.0</td>\n",
       "      <td>0.0</td>\n",
       "      <td>0.0</td>\n",
       "      <td>0.0</td>\n",
       "      <td>0.0</td>\n",
       "      <td>0.0</td>\n",
       "      <td>0.0</td>\n",
       "      <td>0.0</td>\n",
       "    </tr>\n",
       "    <tr>\n",
       "      <th>ENSG00000115705</th>\n",
       "      <td>0.010931</td>\n",
       "      <td>1.000000</td>\n",
       "      <td>0.032124</td>\n",
       "      <td>0.014255</td>\n",
       "      <td>0.015345</td>\n",
       "      <td>0.005077</td>\n",
       "      <td>0.000000</td>\n",
       "      <td>0.000000</td>\n",
       "      <td>0.0</td>\n",
       "      <td>0.0</td>\n",
       "      <td>...</td>\n",
       "      <td>0.0</td>\n",
       "      <td>0.0</td>\n",
       "      <td>0.0</td>\n",
       "      <td>0.0</td>\n",
       "      <td>0.0</td>\n",
       "      <td>0.0</td>\n",
       "      <td>0.0</td>\n",
       "      <td>0.0</td>\n",
       "      <td>0.0</td>\n",
       "      <td>0.0</td>\n",
       "    </tr>\n",
       "    <tr>\n",
       "      <th>ENSG00000130508</th>\n",
       "      <td>0.009968</td>\n",
       "      <td>0.032124</td>\n",
       "      <td>1.000000</td>\n",
       "      <td>0.011495</td>\n",
       "      <td>0.018074</td>\n",
       "      <td>0.009865</td>\n",
       "      <td>0.000000</td>\n",
       "      <td>0.000000</td>\n",
       "      <td>0.0</td>\n",
       "      <td>0.0</td>\n",
       "      <td>...</td>\n",
       "      <td>0.0</td>\n",
       "      <td>0.0</td>\n",
       "      <td>0.0</td>\n",
       "      <td>0.0</td>\n",
       "      <td>0.0</td>\n",
       "      <td>0.0</td>\n",
       "      <td>0.0</td>\n",
       "      <td>0.0</td>\n",
       "      <td>0.0</td>\n",
       "      <td>0.0</td>\n",
       "    </tr>\n",
       "    <tr>\n",
       "      <th>ENSG00000182551</th>\n",
       "      <td>0.009888</td>\n",
       "      <td>0.014255</td>\n",
       "      <td>0.011495</td>\n",
       "      <td>1.000000</td>\n",
       "      <td>0.138453</td>\n",
       "      <td>0.232627</td>\n",
       "      <td>0.007883</td>\n",
       "      <td>0.005280</td>\n",
       "      <td>0.0</td>\n",
       "      <td>0.0</td>\n",
       "      <td>...</td>\n",
       "      <td>0.0</td>\n",
       "      <td>0.0</td>\n",
       "      <td>0.0</td>\n",
       "      <td>0.0</td>\n",
       "      <td>0.0</td>\n",
       "      <td>0.0</td>\n",
       "      <td>0.0</td>\n",
       "      <td>0.0</td>\n",
       "      <td>0.0</td>\n",
       "      <td>0.0</td>\n",
       "    </tr>\n",
       "    <tr>\n",
       "      <th>ENSG00000171865</th>\n",
       "      <td>0.013970</td>\n",
       "      <td>0.015345</td>\n",
       "      <td>0.018074</td>\n",
       "      <td>0.138453</td>\n",
       "      <td>1.000000</td>\n",
       "      <td>0.132969</td>\n",
       "      <td>0.015525</td>\n",
       "      <td>0.009595</td>\n",
       "      <td>0.0</td>\n",
       "      <td>0.0</td>\n",
       "      <td>...</td>\n",
       "      <td>0.0</td>\n",
       "      <td>0.0</td>\n",
       "      <td>0.0</td>\n",
       "      <td>0.0</td>\n",
       "      <td>0.0</td>\n",
       "      <td>0.0</td>\n",
       "      <td>0.0</td>\n",
       "      <td>0.0</td>\n",
       "      <td>0.0</td>\n",
       "      <td>0.0</td>\n",
       "    </tr>\n",
       "  </tbody>\n",
       "</table>\n",
       "<p>5 rows × 445 columns</p>\n",
       "</div>"
      ],
      "text/plain": [
       "                 ENSG00000143727  ENSG00000115705  ENSG00000130508  \\\n",
       "ENSG00000143727         1.000000         0.010931         0.009968   \n",
       "ENSG00000115705         0.010931         1.000000         0.032124   \n",
       "ENSG00000130508         0.009968         0.032124         1.000000   \n",
       "ENSG00000182551         0.009888         0.014255         0.011495   \n",
       "ENSG00000171865         0.013970         0.015345         0.018074   \n",
       "\n",
       "                 ENSG00000182551  ENSG00000171865  ENSG00000171863  \\\n",
       "ENSG00000143727         0.009888         0.013970         0.009624   \n",
       "ENSG00000115705         0.014255         0.015345         0.005077   \n",
       "ENSG00000130508         0.011495         0.018074         0.009865   \n",
       "ENSG00000182551         1.000000         0.138453         0.232627   \n",
       "ENSG00000171865         0.138453         1.000000         0.132969   \n",
       "\n",
       "                 ENSG00000134326  ENSG00000134321  ENSG00000115738  \\\n",
       "ENSG00000143727         0.000000         0.000000              0.0   \n",
       "ENSG00000115705         0.000000         0.000000              0.0   \n",
       "ENSG00000130508         0.000000         0.000000              0.0   \n",
       "ENSG00000182551         0.007883         0.005280              0.0   \n",
       "ENSG00000171865         0.015525         0.009595              0.0   \n",
       "\n",
       "                 ENSG00000134313  ...  ENSG00000068024  ENSG00000130414  \\\n",
       "ENSG00000143727              0.0  ...              0.0              0.0   \n",
       "ENSG00000115705              0.0  ...              0.0              0.0   \n",
       "ENSG00000130508              0.0  ...              0.0              0.0   \n",
       "ENSG00000182551              0.0  ...              0.0              0.0   \n",
       "ENSG00000171865              0.0  ...              0.0              0.0   \n",
       "\n",
       "                 ENSG00000063660  ENSG00000178623  ENSG00000115687  \\\n",
       "ENSG00000143727              0.0              0.0              0.0   \n",
       "ENSG00000115705              0.0              0.0              0.0   \n",
       "ENSG00000130508              0.0              0.0              0.0   \n",
       "ENSG00000182551              0.0              0.0              0.0   \n",
       "ENSG00000171865              0.0              0.0              0.0   \n",
       "\n",
       "                 ENSG00000168385  ENSG00000006607  ENSG00000168393  \\\n",
       "ENSG00000143727              0.0              0.0              0.0   \n",
       "ENSG00000115705              0.0              0.0              0.0   \n",
       "ENSG00000130508              0.0              0.0              0.0   \n",
       "ENSG00000182551              0.0              0.0              0.0   \n",
       "ENSG00000171865              0.0              0.0              0.0   \n",
       "\n",
       "                 ENSG00000180902  ENSG00000188389  \n",
       "ENSG00000143727              0.0              0.0  \n",
       "ENSG00000115705              0.0              0.0  \n",
       "ENSG00000130508              0.0              0.0  \n",
       "ENSG00000182551              0.0              0.0  \n",
       "ENSG00000171865              0.0              0.0  \n",
       "\n",
       "[5 rows x 445 columns]"
      ]
     },
     "execution_count": 34,
     "metadata": {},
     "output_type": "execute_result"
    }
   ],
   "source": [
    "gene_corrs_df.head()"
   ]
  },
  {
   "cell_type": "code",
   "execution_count": 35,
   "id": "286686af-1b7b-4440-8453-6bdcbd8de19c",
   "metadata": {
    "execution": {
     "iopub.execute_input": "2022-07-11T06:17:25.823804Z",
     "iopub.status.busy": "2022-07-11T06:17:25.823644Z",
     "iopub.status.idle": "2022-07-11T06:17:25.856818Z",
     "shell.execute_reply": "2022-07-11T06:17:25.856399Z"
    },
    "papermill": {
     "duration": 5.097315,
     "end_time": "2022-07-11T06:17:25.858037",
     "exception": false,
     "start_time": "2022-07-11T06:17:20.760722",
     "status": "completed"
    },
    "tags": []
   },
   "outputs": [],
   "source": [
    "assert not gene_corrs_df.isna().any().any()"
   ]
  },
  {
   "cell_type": "code",
   "execution_count": 36,
   "id": "00583efc-7068-4270-ad1e-4a418e91db96",
   "metadata": {
    "execution": {
     "iopub.execute_input": "2022-07-11T06:17:36.324309Z",
     "iopub.status.busy": "2022-07-11T06:17:36.324146Z",
     "iopub.status.idle": "2022-07-11T06:17:36.346925Z",
     "shell.execute_reply": "2022-07-11T06:17:36.346515Z"
    },
    "papermill": {
     "duration": 4.829192,
     "end_time": "2022-07-11T06:17:36.348444",
     "exception": false,
     "start_time": "2022-07-11T06:17:31.519252",
     "status": "completed"
    },
    "tags": []
   },
   "outputs": [
    {
     "data": {
      "text/plain": [
       "0.0"
      ]
     },
     "metadata": {},
     "output_type": "display_data"
    }
   ],
   "source": [
    "_min_val = gene_corrs_df.min().min()\n",
    "display(_min_val)\n",
    "assert _min_val >= 0.0"
   ]
  },
  {
   "cell_type": "code",
   "execution_count": 37,
   "id": "d04fb2cf-1050-475b-b855-f5f7cc04092b",
   "metadata": {
    "execution": {
     "iopub.execute_input": "2022-07-11T06:17:47.511435Z",
     "iopub.status.busy": "2022-07-11T06:17:47.511255Z",
     "iopub.status.idle": "2022-07-11T06:17:47.531015Z",
     "shell.execute_reply": "2022-07-11T06:17:47.530618Z"
    },
    "papermill": {
     "duration": 5.041967,
     "end_time": "2022-07-11T06:17:47.532495",
     "exception": false,
     "start_time": "2022-07-11T06:17:42.490528",
     "status": "completed"
    },
    "tags": []
   },
   "outputs": [
    {
     "data": {
      "text/plain": [
       "1.0"
      ]
     },
     "metadata": {},
     "output_type": "display_data"
    }
   ],
   "source": [
    "_max_val = gene_corrs_df.max().max()  # this captures the diagonal\n",
    "display(_max_val)\n",
    "assert _max_val <= 1.0"
   ]
  },
  {
   "cell_type": "code",
   "execution_count": 38,
   "id": "96d02c44-1fba-47be-8a93-8f2608420b9c",
   "metadata": {
    "execution": {
     "iopub.execute_input": "2022-07-11T06:17:56.716062Z",
     "iopub.status.busy": "2022-07-11T06:17:56.715900Z",
     "iopub.status.idle": "2022-07-11T06:17:56.748774Z",
     "shell.execute_reply": "2022-07-11T06:17:56.748358Z"
    },
    "papermill": {
     "duration": 4.851794,
     "end_time": "2022-07-11T06:17:56.750210",
     "exception": false,
     "start_time": "2022-07-11T06:17:51.898416",
     "status": "completed"
    },
    "tags": []
   },
   "outputs": [],
   "source": [
    "# check upper triangular values\n",
    "assert len(gene_corrs) == int(genes_chr.shape[0] * (genes_chr.shape[0] - 1) / 2)"
   ]
  },
  {
   "cell_type": "code",
   "execution_count": 39,
   "id": "aaa51627-f4e3-4744-a41f-7d25adcc0a78",
   "metadata": {
    "execution": {
     "iopub.execute_input": "2022-07-11T06:18:07.297722Z",
     "iopub.status.busy": "2022-07-11T06:18:07.297555Z",
     "iopub.status.idle": "2022-07-11T06:18:07.360024Z",
     "shell.execute_reply": "2022-07-11T06:18:07.359604Z"
    },
    "papermill": {
     "duration": 5.451467,
     "end_time": "2022-07-11T06:18:07.361405",
     "exception": false,
     "start_time": "2022-07-11T06:18:01.909938",
     "status": "completed"
    },
    "tags": []
   },
   "outputs": [],
   "source": [
    "gene_corrs = pd.Series(gene_corrs)"
   ]
  },
  {
   "cell_type": "code",
   "execution_count": 40,
   "id": "fe283586-c348-40e0-8841-f6d97bfb021c",
   "metadata": {
    "execution": {
     "iopub.execute_input": "2022-07-11T06:18:19.203000Z",
     "iopub.status.busy": "2022-07-11T06:18:19.202836Z",
     "iopub.status.idle": "2022-07-11T06:18:19.240173Z",
     "shell.execute_reply": "2022-07-11T06:18:19.239661Z"
    },
    "papermill": {
     "duration": 5.141601,
     "end_time": "2022-07-11T06:18:19.241555",
     "exception": false,
     "start_time": "2022-07-11T06:18:14.099954",
     "status": "completed"
    },
    "tags": []
   },
   "outputs": [
    {
     "data": {
      "text/plain": [
       "count    98790.000000\n",
       "mean         0.001681\n",
       "std          0.022689\n",
       "min          0.000000\n",
       "25%          0.000000\n",
       "50%          0.000000\n",
       "75%          0.000000\n",
       "max          1.000000\n",
       "dtype: float64"
      ]
     },
     "execution_count": 40,
     "metadata": {},
     "output_type": "execute_result"
    }
   ],
   "source": [
    "gene_corrs.describe()"
   ]
  },
  {
   "cell_type": "code",
   "execution_count": 41,
   "id": "b3815678-0f93-4b35-897b-a9d047a2aa78",
   "metadata": {
    "execution": {
     "iopub.execute_input": "2022-07-11T06:18:30.575860Z",
     "iopub.status.busy": "2022-07-11T06:18:30.575387Z",
     "iopub.status.idle": "2022-07-11T06:18:30.601649Z",
     "shell.execute_reply": "2022-07-11T06:18:30.601257Z"
    },
    "papermill": {
     "duration": 5.612084,
     "end_time": "2022-07-11T06:18:30.603068",
     "exception": false,
     "start_time": "2022-07-11T06:18:24.990984",
     "status": "completed"
    },
    "tags": []
   },
   "outputs": [
    {
     "data": {
      "text/plain": [
       "0.00    0.0\n",
       "0.05    0.0\n",
       "0.10    0.0\n",
       "0.15    0.0\n",
       "0.20    0.0\n",
       "0.25    0.0\n",
       "0.30    0.0\n",
       "0.35    0.0\n",
       "0.40    0.0\n",
       "0.45    0.0\n",
       "0.50    0.0\n",
       "0.55    0.0\n",
       "0.60    0.0\n",
       "0.65    0.0\n",
       "0.70    0.0\n",
       "0.75    0.0\n",
       "0.80    0.0\n",
       "0.85    0.0\n",
       "0.90    0.0\n",
       "0.95    0.0\n",
       "dtype: float64"
      ]
     },
     "metadata": {},
     "output_type": "display_data"
    }
   ],
   "source": [
    "gene_corrs_quantiles = gene_corrs.quantile(np.arange(0, 1, 0.05))\n",
    "display(gene_corrs_quantiles)"
   ]
  },
  {
   "cell_type": "markdown",
   "id": "8e60a080-edb2-4e9c-b2ef-22961693200c",
   "metadata": {
    "papermill": {
     "duration": 4.388057,
     "end_time": "2022-07-11T06:18:40.302041",
     "exception": false,
     "start_time": "2022-07-11T06:18:35.913984",
     "status": "completed"
    },
    "tags": []
   },
   "source": [
    "## Plot: distribution"
   ]
  },
  {
   "cell_type": "code",
   "execution_count": 42,
   "id": "8301126b-a7d4-4744-9c7d-f0f86eb6f54c",
   "metadata": {
    "execution": {
     "iopub.execute_input": "2022-07-11T06:18:49.318161Z",
     "iopub.status.busy": "2022-07-11T06:18:49.317998Z",
     "iopub.status.idle": "2022-07-11T06:18:50.034220Z",
     "shell.execute_reply": "2022-07-11T06:18:50.033823Z"
    },
    "papermill": {
     "duration": 5.459824,
     "end_time": "2022-07-11T06:18:50.035545",
     "exception": false,
     "start_time": "2022-07-11T06:18:44.575721",
     "status": "completed"
    },
    "tags": []
   },
   "outputs": [
    {
     "data": {
      "image/png": "[encoded data removed]",
      "text/plain": [
       "<Figure size 504x504 with 1 Axes>"
      ]
     },
     "metadata": {
      "needs_background": "light"
     },
     "output_type": "display_data"
    }
   ],
   "source": [
    "with sns.plotting_context(\"paper\", font_scale=1.5):\n",
    "    g = sns.displot(gene_corrs, kde=True, height=7)\n",
    "    g.ax.set_title(\n",
    "        f\"Distribution of gene correlation values in chromosome {chromosome}\"\n",
    "    )"
   ]
  },
  {
   "cell_type": "markdown",
   "id": "cbd52bca-d878-4a2f-b684-5c83aa3038d4",
   "metadata": {
    "papermill": {
     "duration": 4.801207,
     "end_time": "2022-07-11T06:18:59.246299",
     "exception": false,
     "start_time": "2022-07-11T06:18:54.445092",
     "status": "completed"
    },
    "tags": []
   },
   "source": [
    "## Plot: heatmap"
   ]
  },
  {
   "cell_type": "code",
   "execution_count": 43,
   "id": "d03fe63a-c7b2-4fb9-a53c-db362ce843c9",
   "metadata": {
    "execution": {
     "iopub.execute_input": "2022-07-11T06:19:08.296776Z",
     "iopub.status.busy": "2022-07-11T06:19:08.296607Z",
     "iopub.status.idle": "2022-07-11T06:19:08.330679Z",
     "shell.execute_reply": "2022-07-11T06:19:08.330260Z"
    },
    "papermill": {
     "duration": 4.906903,
     "end_time": "2022-07-11T06:19:08.332156",
     "exception": false,
     "start_time": "2022-07-11T06:19:03.425253",
     "status": "completed"
    },
    "tags": []
   },
   "outputs": [
    {
     "data": {
      "text/plain": [
       "'-0.05 / 0.05'"
      ]
     },
     "metadata": {},
     "output_type": "display_data"
    }
   ],
   "source": [
    "vmin_val = min(-0.05, gene_corrs_quantiles[0.10])\n",
    "vmax_val = max(0.05, gene_corrs_quantiles[0.90])\n",
    "display(f\"{vmin_val} / {vmax_val}\")"
   ]
  },
  {
   "cell_type": "code",
   "execution_count": 44,
   "id": "dc41b70b-5bcc-4d9e-9f33-a22c4a94dab5",
   "metadata": {
    "execution": {
     "iopub.execute_input": "2022-07-11T06:19:17.806057Z",
     "iopub.status.busy": "2022-07-11T06:19:17.805894Z",
     "iopub.status.idle": "2022-07-11T06:19:18.427265Z",
     "shell.execute_reply": "2022-07-11T06:19:18.426859Z"
    },
    "papermill": {
     "duration": 5.761089,
     "end_time": "2022-07-11T06:19:18.428433",
     "exception": false,
     "start_time": "2022-07-11T06:19:12.667344",
     "status": "completed"
    },
    "tags": []
   },
   "outputs": [
    {
     "data": {
      "text/plain": [
       "Text(0.5, 1.0, 'Gene correlations in chromosome 2')"
      ]
     },
     "execution_count": 44,
     "metadata": {},
     "output_type": "execute_result"
    },
    {
     "data": {
      "image/png": "[encoded data removed]",
      "text/plain": [
       "<Figure size 720x720 with 2 Axes>"
      ]
     },
     "metadata": {
      "needs_background": "light"
     },
     "output_type": "display_data"
    }
   ],
   "source": [
    "f, ax = plt.subplots(figsize=(10, 10))\n",
    "sns.heatmap(\n",
    "    gene_corrs_df,\n",
    "    xticklabels=False,\n",
    "    yticklabels=False,\n",
    "    square=True,\n",
    "    vmin=vmin_val,\n",
    "    vmax=vmax_val,\n",
    "    cmap=\"YlGnBu\",\n",
    "    ax=ax,\n",
    ")\n",
    "ax.set_title(f\"Gene correlations in chromosome {chromosome}\")"
   ]
  },
  {
   "cell_type": "code",
   "execution_count": null,
   "id": "b25e3ead",
   "metadata": {
    "papermill": {
     "duration": 3.799156,
     "end_time": "2022-07-11T06:19:28.239792",
     "exception": false,
     "start_time": "2022-07-11T06:19:24.440636",
     "status": "completed"
    },
    "tags": []
   },
   "outputs": [],
   "source": []
  }
 ],
 "metadata": {
  "jupytext": {
   "cell_metadata_filter": "all,-execution,-papermill,-trusted",
   "formats": "ipynb,py//py:percent"
  },
  "kernelspec": {
   "display_name": "Python 3 (ipykernel)",
   "language": "python",
   "name": "python3"
  },
  "language_info": {
   "codemirror_mode": {
    "name": "ipython",
    "version": 3
   },
   "file_extension": ".py",
   "mimetype": "text/x-python",
   "name": "python",
   "nbconvert_exporter": "python",
   "pygments_lexer": "ipython3",
   "version": "3.8.13"
  },
  "papermill": {
   "default_parameters": {},
   "duration": 1043.211153,
   "end_time": "2022-07-11T06:19:36.171936",
   "environment_variables": {},
   "exception": null,
   "input_path": "nbs/15_gsa_gls/10-gene_expr_correlations.ipynb",
   "output_path": "nbs/15_gsa_gls/gene_corrs/1000g/mashr/10-gene_expr_correlations-chr2.run.ipynb",
   "parameters": {
    "EQTL_MODEL": "MASHR",
    "REFERENCE_PANEL": "1000G",
    "chromosome": 2
   },
   "start_time": "2022-07-11T06:02:12.960783",
   "version": "2.2.2"
  }
 },
 "nbformat": 4,
 "nbformat_minor": 5
}
