{
 "cells": [
  {
   "cell_type": "markdown",
   "id": "7a6632fb",
   "metadata": {
    "papermill": {
     "duration": 0.008632,
     "end_time": "2022-07-11T07:32:12.055649",
     "exception": false,
     "start_time": "2022-07-11T07:32:12.047017",
     "status": "completed"
    },
    "tags": []
   },
   "source": [
    "# Description"
   ]
  },
  {
   "cell_type": "markdown",
   "id": "7097c346",
   "metadata": {
    "papermill": {
     "duration": 0.005308,
     "end_time": "2022-07-11T07:32:12.071303",
     "exception": false,
     "start_time": "2022-07-11T07:32:12.065995",
     "status": "completed"
    },
    "tags": []
   },
   "source": [
    "(Please, take a look at the README.md file in this directory for instructions on how to run this notebook)\n",
    "\n",
    "This notebook computes predicted expression correlations between all genes in the MultiPLIER models.\n",
    "\n",
    "It also has a parameter set for papermill to run on a single chromosome to run in parallel (see under `Settings` below).\n",
    "\n",
    "This notebook is not directly run. See README.md."
   ]
  },
  {
   "cell_type": "markdown",
   "id": "c61d8427",
   "metadata": {
    "papermill": {
     "duration": 0.005077,
     "end_time": "2022-07-11T07:32:12.081639",
     "exception": false,
     "start_time": "2022-07-11T07:32:12.076562",
     "status": "completed"
    },
    "tags": []
   },
   "source": [
    "# Modules"
   ]
  },
  {
   "cell_type": "code",
   "execution_count": 1,
   "id": "bbc0234f",
   "metadata": {
    "execution": {
     "iopub.execute_input": "2022-07-11T07:32:12.092961Z",
     "iopub.status.busy": "2022-07-11T07:32:12.092772Z",
     "iopub.status.idle": "2022-07-11T07:32:12.112010Z",
     "shell.execute_reply": "2022-07-11T07:32:12.111607Z"
    },
    "papermill": {
     "duration": 0.026527,
     "end_time": "2022-07-11T07:32:12.113381",
     "exception": false,
     "start_time": "2022-07-11T07:32:12.086854",
     "status": "completed"
    },
    "tags": []
   },
   "outputs": [],
   "source": [
    "%load_ext autoreload\n",
    "%autoreload 2"
   ]
  },
  {
   "cell_type": "code",
   "execution_count": 2,
   "id": "1d5f5a59",
   "metadata": {
    "execution": {
     "iopub.execute_input": "2022-07-11T07:32:12.128864Z",
     "iopub.status.busy": "2022-07-11T07:32:12.128702Z",
     "iopub.status.idle": "2022-07-11T07:32:13.050759Z",
     "shell.execute_reply": "2022-07-11T07:32:13.050339Z"
    },
    "papermill": {
     "duration": 0.930403,
     "end_time": "2022-07-11T07:32:13.052316",
     "exception": false,
     "start_time": "2022-07-11T07:32:12.121913",
     "status": "completed"
    },
    "tags": []
   },
   "outputs": [],
   "source": [
    "from random import sample, seed\n",
    "import warnings\n",
    "from pathlib import Path\n",
    "\n",
    "import numpy as np\n",
    "from scipy.spatial.distance import squareform\n",
    "import pandas as pd\n",
    "from tqdm import tqdm\n",
    "import matplotlib.pyplot as plt\n",
    "import seaborn as sns\n",
    "\n",
    "import conf\n",
    "from entity import Gene"
   ]
  },
  {
   "cell_type": "markdown",
   "id": "1eac24b5",
   "metadata": {
    "papermill": {
     "duration": 0.011426,
     "end_time": "2022-07-11T07:32:13.127464",
     "exception": false,
     "start_time": "2022-07-11T07:32:13.116038",
     "status": "completed"
    },
    "tags": []
   },
   "source": [
    "# Settings"
   ]
  },
  {
   "cell_type": "code",
   "execution_count": 3,
   "id": "ca4560ba",
   "metadata": {
    "execution": {
     "iopub.execute_input": "2022-07-11T07:32:13.150497Z",
     "iopub.status.busy": "2022-07-11T07:32:13.150334Z",
     "iopub.status.idle": "2022-07-11T07:32:13.175402Z",
     "shell.execute_reply": "2022-07-11T07:32:13.175019Z"
    },
    "papermill": {
     "duration": 0.03808,
     "end_time": "2022-07-11T07:32:13.176769",
     "exception": false,
     "start_time": "2022-07-11T07:32:13.138689",
     "status": "completed"
    },
    "tags": [
     "parameters"
    ]
   },
   "outputs": [],
   "source": [
    "# reference panel\n",
    "REFERENCE_PANEL = \"GTEX_V8\"\n",
    "# REFERENCE_PANEL = \"1000G\"\n",
    "\n",
    "# prediction models\n",
    "## mashr\n",
    "EQTL_MODEL = \"MASHR\"\n",
    "\n",
    "# this is the default value used in S-MultiXcan to select the\n",
    "# top principal components of the expression correlation matrix\n",
    "SMULTIXCAN_CONDITION_NUMBER = 30\n",
    "\n",
    "# specifies a single chromosome value\n",
    "# by default, run on all chromosomes\n",
    "chromosome = None"
   ]
  },
  {
   "cell_type": "code",
   "execution_count": 4,
   "id": "ab9875a0",
   "metadata": {
    "execution": {
     "iopub.execute_input": "2022-07-11T07:32:13.197110Z",
     "iopub.status.busy": "2022-07-11T07:32:13.196951Z",
     "iopub.status.idle": "2022-07-11T07:32:13.220936Z",
     "shell.execute_reply": "2022-07-11T07:32:13.220512Z"
    },
    "papermill": {
     "duration": 0.036673,
     "end_time": "2022-07-11T07:32:13.222178",
     "exception": false,
     "start_time": "2022-07-11T07:32:13.185505",
     "status": "completed"
    },
    "tags": [
     "injected-parameters"
    ]
   },
   "outputs": [],
   "source": [
    "# Parameters\n",
    "chromosome = 18\n",
    "REFERENCE_PANEL = \"1000G\"\n",
    "EQTL_MODEL = \"MASHR\"\n"
   ]
  },
  {
   "cell_type": "code",
   "execution_count": 5,
   "id": "a089c9ff",
   "metadata": {
    "execution": {
     "iopub.execute_input": "2022-07-11T07:32:13.237307Z",
     "iopub.status.busy": "2022-07-11T07:32:13.236931Z",
     "iopub.status.idle": "2022-07-11T07:32:13.252161Z",
     "shell.execute_reply": "2022-07-11T07:32:13.251749Z"
    },
    "papermill": {
     "duration": 0.022799,
     "end_time": "2022-07-11T07:32:13.253432",
     "exception": false,
     "start_time": "2022-07-11T07:32:13.230633",
     "status": "completed"
    },
    "tags": []
   },
   "outputs": [],
   "source": [
    "EQTL_MODEL_FILES_PREFIX = conf.PHENOMEXCAN[\"PREDICTION_MODELS\"][f\"{EQTL_MODEL}_PREFIX\"]"
   ]
  },
  {
   "cell_type": "code",
   "execution_count": 6,
   "id": "8fe24bef",
   "metadata": {
    "execution": {
     "iopub.execute_input": "2022-07-11T07:32:13.265688Z",
     "iopub.status.busy": "2022-07-11T07:32:13.265530Z",
     "iopub.status.idle": "2022-07-11T07:32:13.283133Z",
     "shell.execute_reply": "2022-07-11T07:32:13.282723Z"
    },
    "papermill": {
     "duration": 0.025243,
     "end_time": "2022-07-11T07:32:13.284281",
     "exception": false,
     "start_time": "2022-07-11T07:32:13.259038",
     "status": "completed"
    },
    "tags": []
   },
   "outputs": [
    {
     "data": {
      "text/plain": [
       "'Using eQTL model: MASHR / mashr_'"
      ]
     },
     "metadata": {},
     "output_type": "display_data"
    }
   ],
   "source": [
    "display(f\"Using eQTL model: {EQTL_MODEL} / {EQTL_MODEL_FILES_PREFIX}\")"
   ]
  },
  {
   "cell_type": "code",
   "execution_count": 7,
   "id": "552a7f63-a18c-4d3e-bb6a-94f99b431291",
   "metadata": {
    "execution": {
     "iopub.execute_input": "2022-07-11T07:32:13.298580Z",
     "iopub.status.busy": "2022-07-11T07:32:13.298416Z",
     "iopub.status.idle": "2022-07-11T07:32:13.322803Z",
     "shell.execute_reply": "2022-07-11T07:32:13.322390Z"
    },
    "papermill": {
     "duration": 0.032458,
     "end_time": "2022-07-11T07:32:13.324094",
     "exception": false,
     "start_time": "2022-07-11T07:32:13.291636",
     "status": "completed"
    },
    "tags": []
   },
   "outputs": [
    {
     "data": {
      "text/plain": [
       "'S-MultiXcan condition number: 30'"
      ]
     },
     "metadata": {},
     "output_type": "display_data"
    }
   ],
   "source": [
    "display(f\"S-MultiXcan condition number: {SMULTIXCAN_CONDITION_NUMBER}\")"
   ]
  },
  {
   "cell_type": "code",
   "execution_count": 8,
   "id": "0230ebcb-2c32-4b95-9292-d9a52038e70d",
   "metadata": {
    "execution": {
     "iopub.execute_input": "2022-07-11T07:32:13.342018Z",
     "iopub.status.busy": "2022-07-11T07:32:13.341853Z",
     "iopub.status.idle": "2022-07-11T07:32:13.355912Z",
     "shell.execute_reply": "2022-07-11T07:32:13.355491Z"
    },
    "papermill": {
     "duration": 0.024466,
     "end_time": "2022-07-11T07:32:13.357161",
     "exception": false,
     "start_time": "2022-07-11T07:32:13.332695",
     "status": "completed"
    },
    "tags": []
   },
   "outputs": [],
   "source": [
    "REFERENCE_PANEL_DIR = conf.PHENOMEXCAN[\"LD_BLOCKS\"][f\"{REFERENCE_PANEL}_GENOTYPE_DIR\"]"
   ]
  },
  {
   "cell_type": "code",
   "execution_count": 9,
   "id": "98c4a159-601d-4a22-a1ab-35bd451c25f9",
   "metadata": {
    "execution": {
     "iopub.execute_input": "2022-07-11T07:32:13.369756Z",
     "iopub.status.busy": "2022-07-11T07:32:13.369591Z",
     "iopub.status.idle": "2022-07-11T07:32:13.401122Z",
     "shell.execute_reply": "2022-07-11T07:32:13.400746Z"
    },
    "papermill": {
     "duration": 0.039144,
     "end_time": "2022-07-11T07:32:13.402285",
     "exception": false,
     "start_time": "2022-07-11T07:32:13.363141",
     "status": "completed"
    },
    "tags": []
   },
   "outputs": [
    {
     "data": {
      "text/plain": [
       "'Using reference panel folder: /opt/data/data/phenomexcan/ld_blocks/reference_panel_1000G'"
      ]
     },
     "metadata": {},
     "output_type": "display_data"
    }
   ],
   "source": [
    "display(f\"Using reference panel folder: {str(REFERENCE_PANEL_DIR)}\")"
   ]
  },
  {
   "cell_type": "code",
   "execution_count": 10,
   "id": "396392dc-0340-4540-9b02-e182b833f909",
   "metadata": {
    "execution": {
     "iopub.execute_input": "2022-07-11T07:32:13.414779Z",
     "iopub.status.busy": "2022-07-11T07:32:13.414409Z",
     "iopub.status.idle": "2022-07-11T07:32:13.429180Z",
     "shell.execute_reply": "2022-07-11T07:32:13.428797Z"
    },
    "papermill": {
     "duration": 0.022326,
     "end_time": "2022-07-11T07:32:13.430544",
     "exception": false,
     "start_time": "2022-07-11T07:32:13.408218",
     "status": "completed"
    },
    "tags": []
   },
   "outputs": [],
   "source": [
    "OUTPUT_DIR_BASE = (\n",
    "    conf.PHENOMEXCAN[\"LD_BLOCKS\"][f\"GENE_CORRS_DIR\"]\n",
    "    / REFERENCE_PANEL.lower()\n",
    "    / EQTL_MODEL.lower()\n",
    ")\n",
    "OUTPUT_DIR_BASE.mkdir(parents=True, exist_ok=True)"
   ]
  },
  {
   "cell_type": "code",
   "execution_count": 11,
   "id": "8942c2d3-e53c-4d63-a0eb-b6fce0574d36",
   "metadata": {
    "execution": {
     "iopub.execute_input": "2022-07-11T07:32:13.442924Z",
     "iopub.status.busy": "2022-07-11T07:32:13.442554Z",
     "iopub.status.idle": "2022-07-11T07:32:13.458563Z",
     "shell.execute_reply": "2022-07-11T07:32:13.458208Z"
    },
    "papermill": {
     "duration": 0.023458,
     "end_time": "2022-07-11T07:32:13.459829",
     "exception": false,
     "start_time": "2022-07-11T07:32:13.436371",
     "status": "completed"
    },
    "tags": []
   },
   "outputs": [
    {
     "data": {
      "text/plain": [
       "'Using output dir base: /opt/data/data/phenomexcan/ld_blocks/gene_corrs/1000g/mashr'"
      ]
     },
     "metadata": {},
     "output_type": "display_data"
    }
   ],
   "source": [
    "display(f\"Using output dir base: {OUTPUT_DIR_BASE}\")"
   ]
  },
  {
   "cell_type": "code",
   "execution_count": 12,
   "id": "408aa590",
   "metadata": {
    "execution": {
     "iopub.execute_input": "2022-07-11T07:32:13.473172Z",
     "iopub.status.busy": "2022-07-11T07:32:13.472963Z",
     "iopub.status.idle": "2022-07-11T07:32:13.487935Z",
     "shell.execute_reply": "2022-07-11T07:32:13.487455Z"
    },
    "papermill": {
     "duration": 0.023227,
     "end_time": "2022-07-11T07:32:13.489312",
     "exception": false,
     "start_time": "2022-07-11T07:32:13.466085",
     "status": "completed"
    },
    "tags": []
   },
   "outputs": [],
   "source": [
    "assert (\n",
    "    chromosome is not None\n",
    "), \"You have to select one chromosome (format: number between 1 and 22)\""
   ]
  },
  {
   "cell_type": "code",
   "execution_count": 13,
   "id": "c1c7dd06-80ff-453c-bcb7-0899edce75da",
   "metadata": {
    "execution": {
     "iopub.execute_input": "2022-07-11T07:32:13.502934Z",
     "iopub.status.busy": "2022-07-11T07:32:13.502731Z",
     "iopub.status.idle": "2022-07-11T07:32:13.525272Z",
     "shell.execute_reply": "2022-07-11T07:32:13.524895Z"
    },
    "papermill": {
     "duration": 0.030723,
     "end_time": "2022-07-11T07:32:13.526474",
     "exception": false,
     "start_time": "2022-07-11T07:32:13.495751",
     "status": "completed"
    },
    "tags": []
   },
   "outputs": [],
   "source": [
    "chromosome = str(chromosome)"
   ]
  },
  {
   "cell_type": "code",
   "execution_count": 14,
   "id": "bc17b84c-9c26-47a5-a3ab-7046e72f3ef4",
   "metadata": {
    "execution": {
     "iopub.execute_input": "2022-07-11T07:32:13.548106Z",
     "iopub.status.busy": "2022-07-11T07:32:13.547949Z",
     "iopub.status.idle": "2022-07-11T07:32:13.575833Z",
     "shell.execute_reply": "2022-07-11T07:32:13.575334Z"
    },
    "papermill": {
     "duration": 0.041104,
     "end_time": "2022-07-11T07:32:13.577029",
     "exception": false,
     "start_time": "2022-07-11T07:32:13.535925",
     "status": "completed"
    },
    "tags": []
   },
   "outputs": [
    {
     "data": {
      "text/plain": [
       "'Working on chromosome 18'"
      ]
     },
     "metadata": {},
     "output_type": "display_data"
    }
   ],
   "source": [
    "display(f\"Working on chromosome {chromosome}\")"
   ]
  },
  {
   "cell_type": "markdown",
   "id": "d2ba085e",
   "metadata": {
    "papermill": {
     "duration": 0.006019,
     "end_time": "2022-07-11T07:32:13.589405",
     "exception": false,
     "start_time": "2022-07-11T07:32:13.583386",
     "status": "completed"
    },
    "tags": []
   },
   "source": [
    "# Load data"
   ]
  },
  {
   "cell_type": "markdown",
   "id": "7bed0ce0-e7c7-4300-9a61-5412450b1904",
   "metadata": {
    "papermill": {
     "duration": 0.011607,
     "end_time": "2022-07-11T07:32:13.612307",
     "exception": false,
     "start_time": "2022-07-11T07:32:13.600700",
     "status": "completed"
    },
    "tags": []
   },
   "source": [
    "## Prediction model tissues"
   ]
  },
  {
   "cell_type": "code",
   "execution_count": 15,
   "id": "0847c065-0d69-4830-a07f-1c75115d17f5",
   "metadata": {
    "execution": {
     "iopub.execute_input": "2022-07-11T07:32:13.636796Z",
     "iopub.status.busy": "2022-07-11T07:32:13.636373Z",
     "iopub.status.idle": "2022-07-11T07:32:13.660611Z",
     "shell.execute_reply": "2022-07-11T07:32:13.660234Z"
    },
    "papermill": {
     "duration": 0.0377,
     "end_time": "2022-07-11T07:32:13.661931",
     "exception": false,
     "start_time": "2022-07-11T07:32:13.624231",
     "status": "completed"
    },
    "tags": []
   },
   "outputs": [],
   "source": [
    "prediction_model_tissues = conf.PHENOMEXCAN[\"PREDICTION_MODELS\"][\n",
    "    f\"{EQTL_MODEL}_TISSUES\"\n",
    "].split(\" \")"
   ]
  },
  {
   "cell_type": "code",
   "execution_count": 16,
   "id": "aaef70d1-30c6-4c6f-9d6b-abc8e9a0081f",
   "metadata": {
    "execution": {
     "iopub.execute_input": "2022-07-11T07:32:13.675146Z",
     "iopub.status.busy": "2022-07-11T07:32:13.674985Z",
     "iopub.status.idle": "2022-07-11T07:32:13.690820Z",
     "shell.execute_reply": "2022-07-11T07:32:13.690332Z"
    },
    "papermill": {
     "duration": 0.023539,
     "end_time": "2022-07-11T07:32:13.692042",
     "exception": false,
     "start_time": "2022-07-11T07:32:13.668503",
     "status": "completed"
    },
    "tags": []
   },
   "outputs": [
    {
     "data": {
      "text/plain": [
       "49"
      ]
     },
     "execution_count": 16,
     "metadata": {},
     "output_type": "execute_result"
    }
   ],
   "source": [
    "len(prediction_model_tissues)"
   ]
  },
  {
   "cell_type": "code",
   "execution_count": 17,
   "id": "ff35a099-c52d-465d-b863-0ee70c26208c",
   "metadata": {
    "execution": {
     "iopub.execute_input": "2022-07-11T07:32:13.705364Z",
     "iopub.status.busy": "2022-07-11T07:32:13.705166Z",
     "iopub.status.idle": "2022-07-11T07:32:13.732265Z",
     "shell.execute_reply": "2022-07-11T07:32:13.731900Z"
    },
    "papermill": {
     "duration": 0.035159,
     "end_time": "2022-07-11T07:32:13.733428",
     "exception": false,
     "start_time": "2022-07-11T07:32:13.698269",
     "status": "completed"
    },
    "tags": []
   },
   "outputs": [
    {
     "data": {
      "text/plain": [
       "['Skin_Not_Sun_Exposed_Suprapubic',\n",
       " 'Cells_EBV-transformed_lymphocytes',\n",
       " 'Brain_Frontal_Cortex_BA9',\n",
       " 'Kidney_Cortex',\n",
       " 'Brain_Substantia_nigra']"
      ]
     },
     "execution_count": 17,
     "metadata": {},
     "output_type": "execute_result"
    }
   ],
   "source": [
    "prediction_model_tissues[:5]"
   ]
  },
  {
   "cell_type": "markdown",
   "id": "abcc4b3d",
   "metadata": {
    "papermill": {
     "duration": 0.012308,
     "end_time": "2022-07-11T07:32:13.755736",
     "exception": false,
     "start_time": "2022-07-11T07:32:13.743428",
     "status": "completed"
    },
    "tags": []
   },
   "source": [
    "## MultiPLIER Z"
   ]
  },
  {
   "cell_type": "code",
   "execution_count": 18,
   "id": "c48ef527",
   "metadata": {
    "execution": {
     "iopub.execute_input": "2022-07-11T07:32:13.781283Z",
     "iopub.status.busy": "2022-07-11T07:32:13.780863Z",
     "iopub.status.idle": "2022-07-11T07:32:13.820772Z",
     "shell.execute_reply": "2022-07-11T07:32:13.820389Z"
    },
    "papermill": {
     "duration": 0.054122,
     "end_time": "2022-07-11T07:32:13.822196",
     "exception": false,
     "start_time": "2022-07-11T07:32:13.768074",
     "status": "completed"
    },
    "tags": []
   },
   "outputs": [],
   "source": [
    "multiplier_z_genes = pd.read_pickle(\n",
    "    conf.MULTIPLIER[\"MODEL_Z_MATRIX_FILE\"]\n",
    ").index.tolist()"
   ]
  },
  {
   "cell_type": "code",
   "execution_count": 19,
   "id": "0a4ecbd9",
   "metadata": {
    "execution": {
     "iopub.execute_input": "2022-07-11T07:32:13.835569Z",
     "iopub.status.busy": "2022-07-11T07:32:13.835414Z",
     "iopub.status.idle": "2022-07-11T07:32:13.851438Z",
     "shell.execute_reply": "2022-07-11T07:32:13.851074Z"
    },
    "papermill": {
     "duration": 0.024038,
     "end_time": "2022-07-11T07:32:13.852688",
     "exception": false,
     "start_time": "2022-07-11T07:32:13.828650",
     "status": "completed"
    },
    "tags": []
   },
   "outputs": [
    {
     "data": {
      "text/plain": [
       "6750"
      ]
     },
     "execution_count": 19,
     "metadata": {},
     "output_type": "execute_result"
    }
   ],
   "source": [
    "len(multiplier_z_genes)"
   ]
  },
  {
   "cell_type": "code",
   "execution_count": 20,
   "id": "115e8864",
   "metadata": {
    "execution": {
     "iopub.execute_input": "2022-07-11T07:32:13.870405Z",
     "iopub.status.busy": "2022-07-11T07:32:13.870245Z",
     "iopub.status.idle": "2022-07-11T07:32:13.886801Z",
     "shell.execute_reply": "2022-07-11T07:32:13.886323Z"
    },
    "papermill": {
     "duration": 0.024929,
     "end_time": "2022-07-11T07:32:13.888142",
     "exception": false,
     "start_time": "2022-07-11T07:32:13.863213",
     "status": "completed"
    },
    "tags": []
   },
   "outputs": [
    {
     "data": {
      "text/plain": [
       "['GAS6',\n",
       " 'MMP14',\n",
       " 'DSP',\n",
       " 'MARCKSL1',\n",
       " 'SPARC',\n",
       " 'CTSD',\n",
       " 'EPAS1',\n",
       " 'PALLD',\n",
       " 'PHC2',\n",
       " 'LGALS3BP']"
      ]
     },
     "execution_count": 20,
     "metadata": {},
     "output_type": "execute_result"
    }
   ],
   "source": [
    "multiplier_z_genes[:10]"
   ]
  },
  {
   "cell_type": "markdown",
   "id": "7dcb8db7",
   "metadata": {
    "papermill": {
     "duration": 0.006595,
     "end_time": "2022-07-11T07:32:13.901376",
     "exception": false,
     "start_time": "2022-07-11T07:32:13.894781",
     "status": "completed"
    },
    "tags": []
   },
   "source": [
    "## Get gene objects"
   ]
  },
  {
   "cell_type": "code",
   "execution_count": 21,
   "id": "bb932812",
   "metadata": {
    "execution": {
     "iopub.execute_input": "2022-07-11T07:32:13.915441Z",
     "iopub.status.busy": "2022-07-11T07:32:13.915281Z",
     "iopub.status.idle": "2022-07-11T07:32:13.936453Z",
     "shell.execute_reply": "2022-07-11T07:32:13.936067Z"
    },
    "papermill": {
     "duration": 0.029789,
     "end_time": "2022-07-11T07:32:13.938072",
     "exception": false,
     "start_time": "2022-07-11T07:32:13.908283",
     "status": "completed"
    },
    "tags": []
   },
   "outputs": [],
   "source": [
    "multiplier_gene_obj = {\n",
    "    gene_name: Gene(name=gene_name)\n",
    "    for gene_name in multiplier_z_genes\n",
    "    if gene_name in Gene.GENE_NAME_TO_ID_MAP\n",
    "}"
   ]
  },
  {
   "cell_type": "code",
   "execution_count": 22,
   "id": "39533214",
   "metadata": {
    "execution": {
     "iopub.execute_input": "2022-07-11T07:32:13.952031Z",
     "iopub.status.busy": "2022-07-11T07:32:13.951873Z",
     "iopub.status.idle": "2022-07-11T07:32:13.967940Z",
     "shell.execute_reply": "2022-07-11T07:32:13.967574Z"
    },
    "papermill": {
     "duration": 0.024447,
     "end_time": "2022-07-11T07:32:13.969185",
     "exception": false,
     "start_time": "2022-07-11T07:32:13.944738",
     "status": "completed"
    },
    "tags": []
   },
   "outputs": [
    {
     "data": {
      "text/plain": [
       "6454"
      ]
     },
     "execution_count": 22,
     "metadata": {},
     "output_type": "execute_result"
    }
   ],
   "source": [
    "len(multiplier_gene_obj)"
   ]
  },
  {
   "cell_type": "code",
   "execution_count": 23,
   "id": "9a5d0b84",
   "metadata": {
    "execution": {
     "iopub.execute_input": "2022-07-11T07:32:13.983182Z",
     "iopub.status.busy": "2022-07-11T07:32:13.983025Z",
     "iopub.status.idle": "2022-07-11T07:32:13.999081Z",
     "shell.execute_reply": "2022-07-11T07:32:13.998386Z"
    },
    "papermill": {
     "duration": 0.024254,
     "end_time": "2022-07-11T07:32:14.000353",
     "exception": false,
     "start_time": "2022-07-11T07:32:13.976099",
     "status": "completed"
    },
    "tags": []
   },
   "outputs": [
    {
     "data": {
      "text/plain": [
       "'ENSG00000183087'"
      ]
     },
     "execution_count": 23,
     "metadata": {},
     "output_type": "execute_result"
    }
   ],
   "source": [
    "multiplier_gene_obj[\"GAS6\"].ensembl_id"
   ]
  },
  {
   "cell_type": "code",
   "execution_count": 24,
   "id": "e3ffabc7",
   "metadata": {
    "execution": {
     "iopub.execute_input": "2022-07-11T07:32:14.015126Z",
     "iopub.status.busy": "2022-07-11T07:32:14.014724Z",
     "iopub.status.idle": "2022-07-11T07:32:16.570593Z",
     "shell.execute_reply": "2022-07-11T07:32:16.570048Z"
    },
    "papermill": {
     "duration": 2.564627,
     "end_time": "2022-07-11T07:32:16.572116",
     "exception": false,
     "start_time": "2022-07-11T07:32:14.007489",
     "status": "completed"
    },
    "tags": []
   },
   "outputs": [],
   "source": [
    "_gene_obj = list(multiplier_gene_obj.values())\n",
    "\n",
    "genes_info = pd.DataFrame(\n",
    "    {\n",
    "        \"name\": [g.name for g in _gene_obj],\n",
    "        \"id\": [g.ensembl_id for g in _gene_obj],\n",
    "        \"chr\": [g.chromosome for g in _gene_obj],\n",
    "        \"band\": [g.band for g in _gene_obj],\n",
    "        \"start_position\": [g.get_attribute(\"start_position\") for g in _gene_obj],\n",
    "    }\n",
    ")"
   ]
  },
  {
   "cell_type": "code",
   "execution_count": 25,
   "id": "e23519b8",
   "metadata": {
    "execution": {
     "iopub.execute_input": "2022-07-11T07:32:16.591853Z",
     "iopub.status.busy": "2022-07-11T07:32:16.591655Z",
     "iopub.status.idle": "2022-07-11T07:32:16.617957Z",
     "shell.execute_reply": "2022-07-11T07:32:16.617562Z"
    },
    "papermill": {
     "duration": 0.039906,
     "end_time": "2022-07-11T07:32:16.619144",
     "exception": false,
     "start_time": "2022-07-11T07:32:16.579238",
     "status": "completed"
    },
    "tags": []
   },
   "outputs": [
    {
     "data": {
      "text/plain": [
       "(6454, 5)"
      ]
     },
     "execution_count": 25,
     "metadata": {},
     "output_type": "execute_result"
    }
   ],
   "source": [
    "genes_info.shape"
   ]
  },
  {
   "cell_type": "code",
   "execution_count": 26,
   "id": "0d71881c",
   "metadata": {
    "execution": {
     "iopub.execute_input": "2022-07-11T07:32:16.645081Z",
     "iopub.status.busy": "2022-07-11T07:32:16.644881Z",
     "iopub.status.idle": "2022-07-11T07:32:16.678383Z",
     "shell.execute_reply": "2022-07-11T07:32:16.677936Z"
    },
    "papermill": {
     "duration": 0.049119,
     "end_time": "2022-07-11T07:32:16.679823",
     "exception": false,
     "start_time": "2022-07-11T07:32:16.630704",
     "status": "completed"
    },
    "tags": []
   },
   "outputs": [
    {
     "data": {
      "text/html": [
       "<div>\n",
       "<style scoped>\n",
       "    .dataframe tbody tr th:only-of-type {\n",
       "        vertical-align: middle;\n",
       "    }\n",
       "\n",
       "    .dataframe tbody tr th {\n",
       "        vertical-align: top;\n",
       "    }\n",
       "\n",
       "    .dataframe thead th {\n",
       "        text-align: right;\n",
       "    }\n",
       "</style>\n",
       "<table border=\"1\" class=\"dataframe\">\n",
       "  <thead>\n",
       "    <tr style=\"text-align: right;\">\n",
       "      <th></th>\n",
       "      <th>name</th>\n",
       "      <th>id</th>\n",
       "      <th>chr</th>\n",
       "      <th>band</th>\n",
       "      <th>start_position</th>\n",
       "    </tr>\n",
       "  </thead>\n",
       "  <tbody>\n",
       "    <tr>\n",
       "      <th>0</th>\n",
       "      <td>GAS6</td>\n",
       "      <td>ENSG00000183087</td>\n",
       "      <td>13</td>\n",
       "      <td>13q34</td>\n",
       "      <td>113820549.0</td>\n",
       "    </tr>\n",
       "    <tr>\n",
       "      <th>1</th>\n",
       "      <td>MMP14</td>\n",
       "      <td>ENSG00000157227</td>\n",
       "      <td>14</td>\n",
       "      <td>14q11.2</td>\n",
       "      <td>22836560.0</td>\n",
       "    </tr>\n",
       "    <tr>\n",
       "      <th>2</th>\n",
       "      <td>DSP</td>\n",
       "      <td>ENSG00000096696</td>\n",
       "      <td>6</td>\n",
       "      <td>6p24.3</td>\n",
       "      <td>7541617.0</td>\n",
       "    </tr>\n",
       "    <tr>\n",
       "      <th>3</th>\n",
       "      <td>MARCKSL1</td>\n",
       "      <td>ENSG00000175130</td>\n",
       "      <td>1</td>\n",
       "      <td>1p35.1</td>\n",
       "      <td>32333839.0</td>\n",
       "    </tr>\n",
       "    <tr>\n",
       "      <th>4</th>\n",
       "      <td>SPARC</td>\n",
       "      <td>ENSG00000113140</td>\n",
       "      <td>5</td>\n",
       "      <td>5q33.1</td>\n",
       "      <td>151661096.0</td>\n",
       "    </tr>\n",
       "  </tbody>\n",
       "</table>\n",
       "</div>"
      ],
      "text/plain": [
       "       name               id chr     band  start_position\n",
       "0      GAS6  ENSG00000183087  13    13q34     113820549.0\n",
       "1     MMP14  ENSG00000157227  14  14q11.2      22836560.0\n",
       "2       DSP  ENSG00000096696   6   6p24.3       7541617.0\n",
       "3  MARCKSL1  ENSG00000175130   1   1p35.1      32333839.0\n",
       "4     SPARC  ENSG00000113140   5   5q33.1     151661096.0"
      ]
     },
     "execution_count": 26,
     "metadata": {},
     "output_type": "execute_result"
    }
   ],
   "source": [
    "genes_info.head()"
   ]
  },
  {
   "cell_type": "markdown",
   "id": "c8d1038f",
   "metadata": {
    "papermill": {
     "duration": 0.020482,
     "end_time": "2022-07-11T07:32:16.715892",
     "exception": false,
     "start_time": "2022-07-11T07:32:16.695410",
     "status": "completed"
    },
    "tags": []
   },
   "source": [
    "# Test"
   ]
  },
  {
   "cell_type": "code",
   "execution_count": 27,
   "id": "64993abf",
   "metadata": {
    "execution": {
     "iopub.execute_input": "2022-07-11T07:32:16.758910Z",
     "iopub.status.busy": "2022-07-11T07:32:16.758748Z",
     "iopub.status.idle": "2022-07-11T07:32:16.786684Z",
     "shell.execute_reply": "2022-07-11T07:32:16.786223Z"
    },
    "papermill": {
     "duration": 0.051025,
     "end_time": "2022-07-11T07:32:16.787925",
     "exception": false,
     "start_time": "2022-07-11T07:32:16.736900",
     "status": "completed"
    },
    "tags": []
   },
   "outputs": [
    {
     "data": {
      "text/html": [
       "<div>\n",
       "<style scoped>\n",
       "    .dataframe tbody tr th:only-of-type {\n",
       "        vertical-align: middle;\n",
       "    }\n",
       "\n",
       "    .dataframe tbody tr th {\n",
       "        vertical-align: top;\n",
       "    }\n",
       "\n",
       "    .dataframe thead th {\n",
       "        text-align: right;\n",
       "    }\n",
       "</style>\n",
       "<table border=\"1\" class=\"dataframe\">\n",
       "  <thead>\n",
       "    <tr style=\"text-align: right;\">\n",
       "      <th></th>\n",
       "      <th>name</th>\n",
       "      <th>id</th>\n",
       "      <th>chr</th>\n",
       "      <th>band</th>\n",
       "      <th>start_position</th>\n",
       "    </tr>\n",
       "  </thead>\n",
       "  <tbody>\n",
       "    <tr>\n",
       "      <th>31</th>\n",
       "      <td>PPP4R1</td>\n",
       "      <td>ENSG00000154845</td>\n",
       "      <td>18</td>\n",
       "      <td>18p11.22</td>\n",
       "      <td>9546791.0</td>\n",
       "    </tr>\n",
       "    <tr>\n",
       "      <th>81</th>\n",
       "      <td>YES1</td>\n",
       "      <td>ENSG00000176105</td>\n",
       "      <td>18</td>\n",
       "      <td>18p11.32</td>\n",
       "      <td>721588.0</td>\n",
       "    </tr>\n",
       "    <tr>\n",
       "      <th>92</th>\n",
       "      <td>IMPA2</td>\n",
       "      <td>ENSG00000141401</td>\n",
       "      <td>18</td>\n",
       "      <td>18p11.21</td>\n",
       "      <td>11981025.0</td>\n",
       "    </tr>\n",
       "    <tr>\n",
       "      <th>103</th>\n",
       "      <td>CDH2</td>\n",
       "      <td>ENSG00000170558</td>\n",
       "      <td>18</td>\n",
       "      <td>18q12.1</td>\n",
       "      <td>27950966.0</td>\n",
       "    </tr>\n",
       "    <tr>\n",
       "      <th>287</th>\n",
       "      <td>EPB41L3</td>\n",
       "      <td>ENSG00000082397</td>\n",
       "      <td>18</td>\n",
       "      <td>18p11.31</td>\n",
       "      <td>5392381.0</td>\n",
       "    </tr>\n",
       "    <tr>\n",
       "      <th>...</th>\n",
       "      <td>...</td>\n",
       "      <td>...</td>\n",
       "      <td>...</td>\n",
       "      <td>...</td>\n",
       "      <td>...</td>\n",
       "    </tr>\n",
       "    <tr>\n",
       "      <th>5895</th>\n",
       "      <td>CNDP2</td>\n",
       "      <td>ENSG00000133313</td>\n",
       "      <td>18</td>\n",
       "      <td>18q22.3</td>\n",
       "      <td>74495816.0</td>\n",
       "    </tr>\n",
       "    <tr>\n",
       "      <th>6261</th>\n",
       "      <td>NDC80</td>\n",
       "      <td>ENSG00000080986</td>\n",
       "      <td>18</td>\n",
       "      <td>18p11.32</td>\n",
       "      <td>2571557.0</td>\n",
       "    </tr>\n",
       "    <tr>\n",
       "      <th>6293</th>\n",
       "      <td>TGIF1</td>\n",
       "      <td>ENSG00000177426</td>\n",
       "      <td>18</td>\n",
       "      <td>18p11.31</td>\n",
       "      <td>3411608.0</td>\n",
       "    </tr>\n",
       "    <tr>\n",
       "      <th>6317</th>\n",
       "      <td>MYO5B</td>\n",
       "      <td>ENSG00000167306</td>\n",
       "      <td>18</td>\n",
       "      <td>18q21.1</td>\n",
       "      <td>49822789.0</td>\n",
       "    </tr>\n",
       "    <tr>\n",
       "      <th>6409</th>\n",
       "      <td>SLC14A2</td>\n",
       "      <td>ENSG00000132874</td>\n",
       "      <td>18</td>\n",
       "      <td>18q12.3</td>\n",
       "      <td>45212995.0</td>\n",
       "    </tr>\n",
       "  </tbody>\n",
       "</table>\n",
       "<p>96 rows × 5 columns</p>\n",
       "</div>"
      ],
      "text/plain": [
       "         name               id chr      band  start_position\n",
       "31     PPP4R1  ENSG00000154845  18  18p11.22       9546791.0\n",
       "81       YES1  ENSG00000176105  18  18p11.32        721588.0\n",
       "92      IMPA2  ENSG00000141401  18  18p11.21      11981025.0\n",
       "103      CDH2  ENSG00000170558  18   18q12.1      27950966.0\n",
       "287   EPB41L3  ENSG00000082397  18  18p11.31       5392381.0\n",
       "...       ...              ...  ..       ...             ...\n",
       "5895    CNDP2  ENSG00000133313  18   18q22.3      74495816.0\n",
       "6261    NDC80  ENSG00000080986  18  18p11.32       2571557.0\n",
       "6293    TGIF1  ENSG00000177426  18  18p11.31       3411608.0\n",
       "6317    MYO5B  ENSG00000167306  18   18q21.1      49822789.0\n",
       "6409  SLC14A2  ENSG00000132874  18   18q12.3      45212995.0\n",
       "\n",
       "[96 rows x 5 columns]"
      ]
     },
     "metadata": {},
     "output_type": "display_data"
    }
   ],
   "source": [
    "chromosome_genes_info = genes_info[genes_info[\"chr\"] == chromosome]\n",
    "display(chromosome_genes_info)"
   ]
  },
  {
   "cell_type": "code",
   "execution_count": 28,
   "id": "d2e42726-7de6-46eb-acfc-6323eaa8fae6",
   "metadata": {
    "execution": {
     "iopub.execute_input": "2022-07-11T07:32:16.804577Z",
     "iopub.status.busy": "2022-07-11T07:32:16.804152Z",
     "iopub.status.idle": "2022-07-11T07:32:16.821346Z",
     "shell.execute_reply": "2022-07-11T07:32:16.820955Z"
    },
    "papermill": {
     "duration": 0.026853,
     "end_time": "2022-07-11T07:32:16.822739",
     "exception": false,
     "start_time": "2022-07-11T07:32:16.795886",
     "status": "completed"
    },
    "tags": []
   },
   "outputs": [
    {
     "data": {
      "text/plain": [
       "5"
      ]
     },
     "metadata": {},
     "output_type": "display_data"
    }
   ],
   "source": [
    "seed(0)\n",
    "_gene_list_ids = sample(chromosome_genes_info[\"id\"].tolist(), 5)\n",
    "selected_chromosome_genes_obj = [Gene(ensembl_id=g_id) for g_id in _gene_list_ids]\n",
    "display(len(selected_chromosome_genes_obj))"
   ]
  },
  {
   "cell_type": "code",
   "execution_count": 29,
   "id": "1b355359",
   "metadata": {
    "execution": {
     "iopub.execute_input": "2022-07-11T07:32:16.852750Z",
     "iopub.status.busy": "2022-07-11T07:32:16.852592Z",
     "iopub.status.idle": "2022-07-11T07:32:18.111925Z",
     "shell.execute_reply": "2022-07-11T07:32:18.107912Z"
    },
    "papermill": {
     "duration": 1.273533,
     "end_time": "2022-07-11T07:32:18.113371",
     "exception": false,
     "start_time": "2022-07-11T07:32:16.839838",
     "status": "completed"
    },
    "tags": []
   },
   "outputs": [
    {
     "name": "stdout",
     "output_type": "stream",
     "text": [
      "MBD2 / VAPA: 0.0\n",
      "MBD2 / DSC1: 0.0\n",
      "MBD2 / SMAD7: 0.0\n",
      "MBD2 / CEP76: 0.0\n",
      "VAPA / DSC1: 0.0\n",
      "VAPA / SMAD7: 0.0\n",
      "VAPA / CEP76: 0.008068402039042735\n",
      "DSC1 / SMAD7: 0.0\n",
      "DSC1 / CEP76: 0.0\n",
      "SMAD7 / CEP76: 0.0\n"
     ]
    }
   ],
   "source": [
    "for gene_idx1 in range(0, len(selected_chromosome_genes_obj) - 1):\n",
    "    gene_obj1 = selected_chromosome_genes_obj[gene_idx1]\n",
    "\n",
    "    for gene_idx2 in range(gene_idx1 + 1, len(selected_chromosome_genes_obj)):\n",
    "        gene_obj2 = selected_chromosome_genes_obj[gene_idx2]\n",
    "\n",
    "        c = gene_obj1.get_ssm_correlation(\n",
    "            gene_obj2,\n",
    "        )\n",
    "\n",
    "        print(f\"{gene_obj1.name} / {gene_obj2.name}: {c}\")"
   ]
  },
  {
   "cell_type": "markdown",
   "id": "d3843e06",
   "metadata": {
    "papermill": {
     "duration": 0.007298,
     "end_time": "2022-07-11T07:32:18.127912",
     "exception": false,
     "start_time": "2022-07-11T07:32:18.120614",
     "status": "completed"
    },
    "tags": []
   },
   "source": [
    "# Compute correlation per chromosome"
   ]
  },
  {
   "cell_type": "code",
   "execution_count": 30,
   "id": "cb859c15-d1f3-4006-a74c-2b83c0db9611",
   "metadata": {
    "execution": {
     "iopub.execute_input": "2022-07-11T07:32:18.142980Z",
     "iopub.status.busy": "2022-07-11T07:32:18.142819Z",
     "iopub.status.idle": "2022-07-11T07:32:18.159985Z",
     "shell.execute_reply": "2022-07-11T07:32:18.159599Z"
    },
    "papermill": {
     "duration": 0.026079,
     "end_time": "2022-07-11T07:32:18.161194",
     "exception": false,
     "start_time": "2022-07-11T07:32:18.135115",
     "status": "completed"
    },
    "tags": []
   },
   "outputs": [
    {
     "data": {
      "text/plain": [
       "PosixPath('/opt/data/data/phenomexcan/ld_blocks/gene_corrs/1000g/mashr/by_chr/gene_corrs-chr18.pkl')"
      ]
     },
     "metadata": {},
     "output_type": "display_data"
    }
   ],
   "source": [
    "output_dir = OUTPUT_DIR_BASE / \"by_chr\"\n",
    "output_dir.mkdir(exist_ok=True, parents=True)\n",
    "output_file = output_dir / f\"gene_corrs-chr{chromosome}.pkl\"\n",
    "display(output_file)"
   ]
  },
  {
   "cell_type": "code",
   "execution_count": 31,
   "id": "aa674fe4-6794-4eed-98fa-32b39d1d4ace",
   "metadata": {
    "execution": {
     "iopub.execute_input": "2022-07-11T07:32:18.187877Z",
     "iopub.status.busy": "2022-07-11T07:32:18.187719Z",
     "iopub.status.idle": "2022-07-11T07:32:18.211422Z",
     "shell.execute_reply": "2022-07-11T07:32:18.211026Z"
    },
    "papermill": {
     "duration": 0.032672,
     "end_time": "2022-07-11T07:32:18.212590",
     "exception": false,
     "start_time": "2022-07-11T07:32:18.179918",
     "status": "completed"
    },
    "tags": []
   },
   "outputs": [],
   "source": [
    "warnings.filterwarnings(\"error\")"
   ]
  },
  {
   "cell_type": "code",
   "execution_count": 32,
   "id": "cdbb90a1",
   "metadata": {
    "execution": {
     "iopub.execute_input": "2022-07-11T07:32:18.232897Z",
     "iopub.status.busy": "2022-07-11T07:32:18.232714Z",
     "iopub.status.idle": "2022-07-11T07:34:12.559124Z",
     "shell.execute_reply": "2022-07-11T07:34:12.558742Z"
    },
    "papermill": {
     "duration": 114.336367,
     "end_time": "2022-07-11T07:34:12.560476",
     "exception": false,
     "start_time": "2022-07-11T07:32:18.224109",
     "status": "completed"
    },
    "tags": []
   },
   "outputs": [
    {
     "name": "stdout",
     "output_type": "stream",
     "text": [
      "Number of genes in chromosome: 96\n",
      "Number of gene combinations: 4560\n"
     ]
    },
    {
     "name": "stderr",
     "output_type": "stream",
     "text": [
      "ENSG00000141759 / ENSG00000178184: 100%|████████████████████████| 4560/4560 [01:54<00:00, 39.90it/s]"
     ]
    },
    {
     "name": "stdout",
     "output_type": "stream",
     "text": [
      "Min/max values: 0.0 / 0.7035213759177276\n"
     ]
    },
    {
     "name": "stderr",
     "output_type": "stream",
     "text": [
      "\n"
     ]
    },
    {
     "data": {
      "text/plain": [
       "PosixPath('/opt/data/data/phenomexcan/ld_blocks/gene_corrs/1000g/mashr/by_chr/gene_corrs-chr18.pkl')"
      ]
     },
     "metadata": {},
     "output_type": "display_data"
    }
   ],
   "source": [
    "# standard checks\n",
    "all_chrs = genes_info[\"chr\"].dropna().unique()\n",
    "assert all_chrs.shape[0] == 22\n",
    "\n",
    "# select chromosome given by the user\n",
    "assert chromosome in all_chrs\n",
    "\n",
    "# run only on the chromosome specified\n",
    "all_chrs = [chromosome]\n",
    "genes_chr = genes_info[genes_info[\"chr\"] == chromosome]\n",
    "\n",
    "# For testing purposes\n",
    "# genes_chr = genes_chr.sample(n=20)\n",
    "\n",
    "print(f\"Number of genes in chromosome: {genes_chr.shape[0]}\", flush=True)\n",
    "\n",
    "# sort genes by starting position to make visualizations better later\n",
    "genes_chr = genes_chr.sort_values(\"start_position\")\n",
    "\n",
    "gene_chr_objs = [Gene(ensembl_id=gene_id) for gene_id in genes_chr[\"id\"]]\n",
    "gene_chr_ids = [g.ensembl_id for g in gene_chr_objs]\n",
    "\n",
    "n = len(gene_chr_objs)\n",
    "n_comb = int(n * (n - 1) / 2.0)\n",
    "print(f\"Number of gene combinations: {n_comb}\", flush=True)\n",
    "\n",
    "gene_corrs = []\n",
    "\n",
    "pbar = tqdm(ncols=100, total=n_comb)\n",
    "i = 0\n",
    "for gene_idx1 in range(0, len(gene_chr_objs) - 1):\n",
    "    gene_obj1 = gene_chr_objs[gene_idx1]\n",
    "\n",
    "    for gene_idx2 in range(gene_idx1 + 1, len(gene_chr_objs)):\n",
    "        gene_obj2 = gene_chr_objs[gene_idx2]\n",
    "\n",
    "        pbar.set_description(f\"{gene_obj1.ensembl_id} / {gene_obj2.ensembl_id}\")\n",
    "\n",
    "        try:\n",
    "            # FIXME: compute the correlation of the sum of squares of the model using all\n",
    "            # the available tissues; this could be problematic because for some results\n",
    "            # (computed on a specific phenotype/GWAS) we might not have all the tissues\n",
    "            # available, which can certainly bias the correlation estimation.\n",
    "            # Since this depends on the GWAS on a specific phenotype, we should ideally have\n",
    "            # one correlation matrix per GWAS. I should look at how we can improve this.\n",
    "            r = gene_obj1.get_ssm_correlation(\n",
    "                other_gene=gene_obj2,\n",
    "                condition_number=SMULTIXCAN_CONDITION_NUMBER,\n",
    "                reference_panel=REFERENCE_PANEL,\n",
    "                model_type=EQTL_MODEL,\n",
    "            )\n",
    "\n",
    "            if r is None:\n",
    "                # if r is None, it's very likely because:\n",
    "                #  * one of the genes has no prediction models\n",
    "                #  * all the SNPs predictors for the gene are not present in the reference\n",
    "                #    panel\n",
    "\n",
    "                r = 0.0\n",
    "\n",
    "            gene_corrs.append(r)\n",
    "        except Warning:\n",
    "            print(\n",
    "                f\"RuntimeWarning for genes {gene_obj1.ensembl_id} and {gene_obj2.ensembl_id}\",\n",
    "                flush=True,\n",
    "            )\n",
    "            import traceback\n",
    "\n",
    "            print(traceback.format_exc(), flush=True)\n",
    "        except Exception as e:\n",
    "            print(\n",
    "                f\"Exception for genes {gene_obj1.ensembl_id} and {gene_obj2.ensembl_id}\",\n",
    "                flush=True,\n",
    "            )\n",
    "            import traceback\n",
    "\n",
    "            print(traceback.format_exc(), flush=True)\n",
    "            gene_corrs.append(np.nan)\n",
    "\n",
    "        pbar.update(1)\n",
    "\n",
    "pbar.close()\n",
    "\n",
    "# testing\n",
    "gene_corrs_flat = pd.Series(gene_corrs)\n",
    "print(f\"Min/max values: {gene_corrs_flat.min()} / {gene_corrs_flat.max()}\")\n",
    "assert gene_corrs_flat.min() >= -1.001\n",
    "assert gene_corrs_flat.max() <= 1.001\n",
    "\n",
    "# save\n",
    "# FIXME: consider saving only the condenced matrix here. See here for\n",
    "# more details: https://github.com/greenelab/phenoplier/pull/38#discussion_r634600813\n",
    "gene_corrs_data = squareform(np.array(gene_corrs, dtype=np.float64))\n",
    "np.fill_diagonal(gene_corrs_data, 1.0)\n",
    "\n",
    "gene_corrs_df = pd.DataFrame(\n",
    "    data=gene_corrs_data,\n",
    "    index=gene_chr_ids,\n",
    "    columns=gene_chr_ids,\n",
    ")\n",
    "\n",
    "output_dir.mkdir(exist_ok=True, parents=True)\n",
    "display(output_file)\n",
    "\n",
    "gene_corrs_df.to_pickle(output_file)"
   ]
  },
  {
   "cell_type": "markdown",
   "id": "faa67b51-5373-470f-aa72-2ded53fa6dfe",
   "metadata": {
    "papermill": {
     "duration": 0.164851,
     "end_time": "2022-07-11T07:34:12.959503",
     "exception": false,
     "start_time": "2022-07-11T07:34:12.794652",
     "status": "completed"
    },
    "tags": []
   },
   "source": [
    "# Testing"
   ]
  },
  {
   "cell_type": "code",
   "execution_count": 33,
   "id": "14f7d046-4b55-4896-a56b-990127bcc388",
   "metadata": {
    "execution": {
     "iopub.execute_input": "2022-07-11T07:34:13.286610Z",
     "iopub.status.busy": "2022-07-11T07:34:13.286160Z",
     "iopub.status.idle": "2022-07-11T07:34:13.303264Z",
     "shell.execute_reply": "2022-07-11T07:34:13.302891Z"
    },
    "papermill": {
     "duration": 0.181316,
     "end_time": "2022-07-11T07:34:13.304571",
     "exception": false,
     "start_time": "2022-07-11T07:34:13.123255",
     "status": "completed"
    },
    "tags": []
   },
   "outputs": [
    {
     "data": {
      "text/plain": [
       "(96, 96)"
      ]
     },
     "execution_count": 33,
     "metadata": {},
     "output_type": "execute_result"
    }
   ],
   "source": [
    "gene_corrs_df.shape"
   ]
  },
  {
   "cell_type": "code",
   "execution_count": 34,
   "id": "c7d15414-3297-4537-a7c6-7588c0baeb75",
   "metadata": {
    "execution": {
     "iopub.execute_input": "2022-07-11T07:34:13.822992Z",
     "iopub.status.busy": "2022-07-11T07:34:13.822792Z",
     "iopub.status.idle": "2022-07-11T07:34:13.851803Z",
     "shell.execute_reply": "2022-07-11T07:34:13.851395Z"
    },
    "papermill": {
     "duration": 0.334346,
     "end_time": "2022-07-11T07:34:13.859109",
     "exception": false,
     "start_time": "2022-07-11T07:34:13.524763",
     "status": "completed"
    },
    "tags": []
   },
   "outputs": [
    {
     "data": {
      "text/html": [
       "<div>\n",
       "<style scoped>\n",
       "    .dataframe tbody tr th:only-of-type {\n",
       "        vertical-align: middle;\n",
       "    }\n",
       "\n",
       "    .dataframe tbody tr th {\n",
       "        vertical-align: top;\n",
       "    }\n",
       "\n",
       "    .dataframe thead th {\n",
       "        text-align: right;\n",
       "    }\n",
       "</style>\n",
       "<table border=\"1\" class=\"dataframe\">\n",
       "  <thead>\n",
       "    <tr style=\"text-align: right;\">\n",
       "      <th></th>\n",
       "      <th>ENSG00000079134</th>\n",
       "      <th>ENSG00000158270</th>\n",
       "      <th>ENSG00000176890</th>\n",
       "      <th>ENSG00000176105</th>\n",
       "      <th>ENSG00000080986</th>\n",
       "      <th>ENSG00000132205</th>\n",
       "      <th>ENSG00000101577</th>\n",
       "      <th>ENSG00000101608</th>\n",
       "      <th>ENSG00000118680</th>\n",
       "      <th>ENSG00000177426</th>\n",
       "      <th>...</th>\n",
       "      <th>ENSG00000166347</th>\n",
       "      <th>ENSG00000133313</th>\n",
       "      <th>ENSG00000166573</th>\n",
       "      <th>ENSG00000166377</th>\n",
       "      <th>ENSG00000131196</th>\n",
       "      <th>ENSG00000060069</th>\n",
       "      <th>ENSG00000178342</th>\n",
       "      <th>ENSG00000122490</th>\n",
       "      <th>ENSG00000141759</th>\n",
       "      <th>ENSG00000178184</th>\n",
       "    </tr>\n",
       "  </thead>\n",
       "  <tbody>\n",
       "    <tr>\n",
       "      <th>ENSG00000079134</th>\n",
       "      <td>1.000000</td>\n",
       "      <td>0.027327</td>\n",
       "      <td>0.010986</td>\n",
       "      <td>0.008946</td>\n",
       "      <td>0.012392</td>\n",
       "      <td>0.013924</td>\n",
       "      <td>0.019205</td>\n",
       "      <td>0.015498</td>\n",
       "      <td>0.016753</td>\n",
       "      <td>0.011800</td>\n",
       "      <td>...</td>\n",
       "      <td>0.0</td>\n",
       "      <td>0.0</td>\n",
       "      <td>0.0</td>\n",
       "      <td>0.0</td>\n",
       "      <td>0.0</td>\n",
       "      <td>0.0</td>\n",
       "      <td>0.0</td>\n",
       "      <td>0.0</td>\n",
       "      <td>0.0</td>\n",
       "      <td>0.0</td>\n",
       "    </tr>\n",
       "    <tr>\n",
       "      <th>ENSG00000158270</th>\n",
       "      <td>0.027327</td>\n",
       "      <td>1.000000</td>\n",
       "      <td>0.020645</td>\n",
       "      <td>0.013929</td>\n",
       "      <td>0.012565</td>\n",
       "      <td>0.019917</td>\n",
       "      <td>0.021055</td>\n",
       "      <td>0.016313</td>\n",
       "      <td>0.009864</td>\n",
       "      <td>0.010886</td>\n",
       "      <td>...</td>\n",
       "      <td>0.0</td>\n",
       "      <td>0.0</td>\n",
       "      <td>0.0</td>\n",
       "      <td>0.0</td>\n",
       "      <td>0.0</td>\n",
       "      <td>0.0</td>\n",
       "      <td>0.0</td>\n",
       "      <td>0.0</td>\n",
       "      <td>0.0</td>\n",
       "      <td>0.0</td>\n",
       "    </tr>\n",
       "    <tr>\n",
       "      <th>ENSG00000176890</th>\n",
       "      <td>0.010986</td>\n",
       "      <td>0.020645</td>\n",
       "      <td>1.000000</td>\n",
       "      <td>0.127420</td>\n",
       "      <td>0.017522</td>\n",
       "      <td>0.020749</td>\n",
       "      <td>0.016392</td>\n",
       "      <td>0.012178</td>\n",
       "      <td>0.009220</td>\n",
       "      <td>0.014963</td>\n",
       "      <td>...</td>\n",
       "      <td>0.0</td>\n",
       "      <td>0.0</td>\n",
       "      <td>0.0</td>\n",
       "      <td>0.0</td>\n",
       "      <td>0.0</td>\n",
       "      <td>0.0</td>\n",
       "      <td>0.0</td>\n",
       "      <td>0.0</td>\n",
       "      <td>0.0</td>\n",
       "      <td>0.0</td>\n",
       "    </tr>\n",
       "    <tr>\n",
       "      <th>ENSG00000176105</th>\n",
       "      <td>0.008946</td>\n",
       "      <td>0.013929</td>\n",
       "      <td>0.127420</td>\n",
       "      <td>1.000000</td>\n",
       "      <td>0.006701</td>\n",
       "      <td>0.012409</td>\n",
       "      <td>0.018957</td>\n",
       "      <td>0.007399</td>\n",
       "      <td>0.004663</td>\n",
       "      <td>0.005911</td>\n",
       "      <td>...</td>\n",
       "      <td>0.0</td>\n",
       "      <td>0.0</td>\n",
       "      <td>0.0</td>\n",
       "      <td>0.0</td>\n",
       "      <td>0.0</td>\n",
       "      <td>0.0</td>\n",
       "      <td>0.0</td>\n",
       "      <td>0.0</td>\n",
       "      <td>0.0</td>\n",
       "      <td>0.0</td>\n",
       "    </tr>\n",
       "    <tr>\n",
       "      <th>ENSG00000080986</th>\n",
       "      <td>0.012392</td>\n",
       "      <td>0.012565</td>\n",
       "      <td>0.017522</td>\n",
       "      <td>0.006701</td>\n",
       "      <td>1.000000</td>\n",
       "      <td>0.024703</td>\n",
       "      <td>0.019501</td>\n",
       "      <td>0.008464</td>\n",
       "      <td>0.005911</td>\n",
       "      <td>0.008447</td>\n",
       "      <td>...</td>\n",
       "      <td>0.0</td>\n",
       "      <td>0.0</td>\n",
       "      <td>0.0</td>\n",
       "      <td>0.0</td>\n",
       "      <td>0.0</td>\n",
       "      <td>0.0</td>\n",
       "      <td>0.0</td>\n",
       "      <td>0.0</td>\n",
       "      <td>0.0</td>\n",
       "      <td>0.0</td>\n",
       "    </tr>\n",
       "  </tbody>\n",
       "</table>\n",
       "<p>5 rows × 96 columns</p>\n",
       "</div>"
      ],
      "text/plain": [
       "                 ENSG00000079134  ENSG00000158270  ENSG00000176890  \\\n",
       "ENSG00000079134         1.000000         0.027327         0.010986   \n",
       "ENSG00000158270         0.027327         1.000000         0.020645   \n",
       "ENSG00000176890         0.010986         0.020645         1.000000   \n",
       "ENSG00000176105         0.008946         0.013929         0.127420   \n",
       "ENSG00000080986         0.012392         0.012565         0.017522   \n",
       "\n",
       "                 ENSG00000176105  ENSG00000080986  ENSG00000132205  \\\n",
       "ENSG00000079134         0.008946         0.012392         0.013924   \n",
       "ENSG00000158270         0.013929         0.012565         0.019917   \n",
       "ENSG00000176890         0.127420         0.017522         0.020749   \n",
       "ENSG00000176105         1.000000         0.006701         0.012409   \n",
       "ENSG00000080986         0.006701         1.000000         0.024703   \n",
       "\n",
       "                 ENSG00000101577  ENSG00000101608  ENSG00000118680  \\\n",
       "ENSG00000079134         0.019205         0.015498         0.016753   \n",
       "ENSG00000158270         0.021055         0.016313         0.009864   \n",
       "ENSG00000176890         0.016392         0.012178         0.009220   \n",
       "ENSG00000176105         0.018957         0.007399         0.004663   \n",
       "ENSG00000080986         0.019501         0.008464         0.005911   \n",
       "\n",
       "                 ENSG00000177426  ...  ENSG00000166347  ENSG00000133313  \\\n",
       "ENSG00000079134         0.011800  ...              0.0              0.0   \n",
       "ENSG00000158270         0.010886  ...              0.0              0.0   \n",
       "ENSG00000176890         0.014963  ...              0.0              0.0   \n",
       "ENSG00000176105         0.005911  ...              0.0              0.0   \n",
       "ENSG00000080986         0.008447  ...              0.0              0.0   \n",
       "\n",
       "                 ENSG00000166573  ENSG00000166377  ENSG00000131196  \\\n",
       "ENSG00000079134              0.0              0.0              0.0   \n",
       "ENSG00000158270              0.0              0.0              0.0   \n",
       "ENSG00000176890              0.0              0.0              0.0   \n",
       "ENSG00000176105              0.0              0.0              0.0   \n",
       "ENSG00000080986              0.0              0.0              0.0   \n",
       "\n",
       "                 ENSG00000060069  ENSG00000178342  ENSG00000122490  \\\n",
       "ENSG00000079134              0.0              0.0              0.0   \n",
       "ENSG00000158270              0.0              0.0              0.0   \n",
       "ENSG00000176890              0.0              0.0              0.0   \n",
       "ENSG00000176105              0.0              0.0              0.0   \n",
       "ENSG00000080986              0.0              0.0              0.0   \n",
       "\n",
       "                 ENSG00000141759  ENSG00000178184  \n",
       "ENSG00000079134              0.0              0.0  \n",
       "ENSG00000158270              0.0              0.0  \n",
       "ENSG00000176890              0.0              0.0  \n",
       "ENSG00000176105              0.0              0.0  \n",
       "ENSG00000080986              0.0              0.0  \n",
       "\n",
       "[5 rows x 96 columns]"
      ]
     },
     "execution_count": 34,
     "metadata": {},
     "output_type": "execute_result"
    }
   ],
   "source": [
    "gene_corrs_df.head()"
   ]
  },
  {
   "cell_type": "code",
   "execution_count": 35,
   "id": "286686af-1b7b-4440-8453-6bdcbd8de19c",
   "metadata": {
    "execution": {
     "iopub.execute_input": "2022-07-11T07:34:14.397346Z",
     "iopub.status.busy": "2022-07-11T07:34:14.397179Z",
     "iopub.status.idle": "2022-07-11T07:34:14.416373Z",
     "shell.execute_reply": "2022-07-11T07:34:14.415980Z"
    },
    "papermill": {
     "duration": 0.281696,
     "end_time": "2022-07-11T07:34:14.417787",
     "exception": false,
     "start_time": "2022-07-11T07:34:14.136091",
     "status": "completed"
    },
    "tags": []
   },
   "outputs": [],
   "source": [
    "assert not gene_corrs_df.isna().any().any()"
   ]
  },
  {
   "cell_type": "code",
   "execution_count": 36,
   "id": "00583efc-7068-4270-ad1e-4a418e91db96",
   "metadata": {
    "execution": {
     "iopub.execute_input": "2022-07-11T07:34:14.800916Z",
     "iopub.status.busy": "2022-07-11T07:34:14.800756Z",
     "iopub.status.idle": "2022-07-11T07:34:14.818811Z",
     "shell.execute_reply": "2022-07-11T07:34:14.818404Z"
    },
    "papermill": {
     "duration": 0.192951,
     "end_time": "2022-07-11T07:34:14.820280",
     "exception": false,
     "start_time": "2022-07-11T07:34:14.627329",
     "status": "completed"
    },
    "tags": []
   },
   "outputs": [
    {
     "data": {
      "text/plain": [
       "0.0"
      ]
     },
     "metadata": {},
     "output_type": "display_data"
    }
   ],
   "source": [
    "_min_val = gene_corrs_df.min().min()\n",
    "display(_min_val)\n",
    "assert _min_val >= 0.0"
   ]
  },
  {
   "cell_type": "code",
   "execution_count": 37,
   "id": "d04fb2cf-1050-475b-b855-f5f7cc04092b",
   "metadata": {
    "execution": {
     "iopub.execute_input": "2022-07-11T07:34:15.254354Z",
     "iopub.status.busy": "2022-07-11T07:34:15.254186Z",
     "iopub.status.idle": "2022-07-11T07:34:15.297958Z",
     "shell.execute_reply": "2022-07-11T07:34:15.297561Z"
    },
    "papermill": {
     "duration": 0.22025,
     "end_time": "2022-07-11T07:34:15.299241",
     "exception": false,
     "start_time": "2022-07-11T07:34:15.078991",
     "status": "completed"
    },
    "tags": []
   },
   "outputs": [
    {
     "data": {
      "text/plain": [
       "1.0"
      ]
     },
     "metadata": {},
     "output_type": "display_data"
    }
   ],
   "source": [
    "_max_val = gene_corrs_df.max().max()  # this captures the diagonal\n",
    "display(_max_val)\n",
    "assert _max_val <= 1.0"
   ]
  },
  {
   "cell_type": "code",
   "execution_count": 38,
   "id": "96d02c44-1fba-47be-8a93-8f2608420b9c",
   "metadata": {
    "execution": {
     "iopub.execute_input": "2022-07-11T07:34:15.814387Z",
     "iopub.status.busy": "2022-07-11T07:34:15.814223Z",
     "iopub.status.idle": "2022-07-11T07:34:15.847484Z",
     "shell.execute_reply": "2022-07-11T07:34:15.847086Z"
    },
    "papermill": {
     "duration": 0.252834,
     "end_time": "2022-07-11T07:34:15.848782",
     "exception": false,
     "start_time": "2022-07-11T07:34:15.595948",
     "status": "completed"
    },
    "tags": []
   },
   "outputs": [],
   "source": [
    "# check upper triangular values\n",
    "assert len(gene_corrs) == int(genes_chr.shape[0] * (genes_chr.shape[0] - 1) / 2)"
   ]
  },
  {
   "cell_type": "code",
   "execution_count": 39,
   "id": "aaa51627-f4e3-4744-a41f-7d25adcc0a78",
   "metadata": {
    "execution": {
     "iopub.execute_input": "2022-07-11T07:34:16.329780Z",
     "iopub.status.busy": "2022-07-11T07:34:16.329374Z",
     "iopub.status.idle": "2022-07-11T07:34:16.345548Z",
     "shell.execute_reply": "2022-07-11T07:34:16.345135Z"
    },
    "papermill": {
     "duration": 0.255964,
     "end_time": "2022-07-11T07:34:16.346777",
     "exception": false,
     "start_time": "2022-07-11T07:34:16.090813",
     "status": "completed"
    },
    "tags": []
   },
   "outputs": [],
   "source": [
    "gene_corrs = pd.Series(gene_corrs)"
   ]
  },
  {
   "cell_type": "code",
   "execution_count": 40,
   "id": "fe283586-c348-40e0-8841-f6d97bfb021c",
   "metadata": {
    "execution": {
     "iopub.execute_input": "2022-07-11T07:34:16.852108Z",
     "iopub.status.busy": "2022-07-11T07:34:16.851944Z",
     "iopub.status.idle": "2022-07-11T07:34:16.871259Z",
     "shell.execute_reply": "2022-07-11T07:34:16.870772Z"
    },
    "papermill": {
     "duration": 0.269778,
     "end_time": "2022-07-11T07:34:16.872615",
     "exception": false,
     "start_time": "2022-07-11T07:34:16.602837",
     "status": "completed"
    },
    "tags": []
   },
   "outputs": [
    {
     "data": {
      "text/plain": [
       "count    4560.000000\n",
       "mean        0.003050\n",
       "std         0.022622\n",
       "min         0.000000\n",
       "25%         0.000000\n",
       "50%         0.000000\n",
       "75%         0.000000\n",
       "max         0.703521\n",
       "dtype: float64"
      ]
     },
     "execution_count": 40,
     "metadata": {},
     "output_type": "execute_result"
    }
   ],
   "source": [
    "gene_corrs.describe()"
   ]
  },
  {
   "cell_type": "code",
   "execution_count": 41,
   "id": "b3815678-0f93-4b35-897b-a9d047a2aa78",
   "metadata": {
    "execution": {
     "iopub.execute_input": "2022-07-11T07:34:17.324916Z",
     "iopub.status.busy": "2022-07-11T07:34:17.324713Z",
     "iopub.status.idle": "2022-07-11T07:34:17.354697Z",
     "shell.execute_reply": "2022-07-11T07:34:17.354287Z"
    },
    "papermill": {
     "duration": 0.272085,
     "end_time": "2022-07-11T07:34:17.355856",
     "exception": false,
     "start_time": "2022-07-11T07:34:17.083771",
     "status": "completed"
    },
    "tags": []
   },
   "outputs": [
    {
     "data": {
      "text/plain": [
       "0.00    0.000000\n",
       "0.05    0.000000\n",
       "0.10    0.000000\n",
       "0.15    0.000000\n",
       "0.20    0.000000\n",
       "0.25    0.000000\n",
       "0.30    0.000000\n",
       "0.35    0.000000\n",
       "0.40    0.000000\n",
       "0.45    0.000000\n",
       "0.50    0.000000\n",
       "0.55    0.000000\n",
       "0.60    0.000000\n",
       "0.65    0.000000\n",
       "0.70    0.000000\n",
       "0.75    0.000000\n",
       "0.80    0.000000\n",
       "0.85    0.000000\n",
       "0.90    0.006628\n",
       "0.95    0.012410\n",
       "dtype: float64"
      ]
     },
     "metadata": {},
     "output_type": "display_data"
    }
   ],
   "source": [
    "gene_corrs_quantiles = gene_corrs.quantile(np.arange(0, 1, 0.05))\n",
    "display(gene_corrs_quantiles)"
   ]
  },
  {
   "cell_type": "markdown",
   "id": "8e60a080-edb2-4e9c-b2ef-22961693200c",
   "metadata": {
    "papermill": {
     "duration": 0.168044,
     "end_time": "2022-07-11T07:34:17.743484",
     "exception": false,
     "start_time": "2022-07-11T07:34:17.575440",
     "status": "completed"
    },
    "tags": []
   },
   "source": [
    "## Plot: distribution"
   ]
  },
  {
   "cell_type": "code",
   "execution_count": 42,
   "id": "8301126b-a7d4-4744-9c7d-f0f86eb6f54c",
   "metadata": {
    "execution": {
     "iopub.execute_input": "2022-07-11T07:34:18.165384Z",
     "iopub.status.busy": "2022-07-11T07:34:18.165222Z",
     "iopub.status.idle": "2022-07-11T07:34:18.399187Z",
     "shell.execute_reply": "2022-07-11T07:34:18.398723Z"
    },
    "papermill": {
     "duration": 0.483595,
     "end_time": "2022-07-11T07:34:18.400498",
     "exception": false,
     "start_time": "2022-07-11T07:34:17.916903",
     "status": "completed"
    },
    "tags": []
   },
   "outputs": [
    {
     "data": {
      "image/png": "[encoded data removed]",
      "text/plain": [
       "<Figure size 504x504 with 1 Axes>"
      ]
     },
     "metadata": {
      "needs_background": "light"
     },
     "output_type": "display_data"
    }
   ],
   "source": [
    "with sns.plotting_context(\"paper\", font_scale=1.5):\n",
    "    g = sns.displot(gene_corrs, kde=True, height=7)\n",
    "    g.ax.set_title(\n",
    "        f\"Distribution of gene correlation values in chromosome {chromosome}\"\n",
    "    )"
   ]
  },
  {
   "cell_type": "markdown",
   "id": "cbd52bca-d878-4a2f-b684-5c83aa3038d4",
   "metadata": {
    "papermill": {
     "duration": 0.174063,
     "end_time": "2022-07-11T07:34:18.761249",
     "exception": false,
     "start_time": "2022-07-11T07:34:18.587186",
     "status": "completed"
    },
    "tags": []
   },
   "source": [
    "## Plot: heatmap"
   ]
  },
  {
   "cell_type": "code",
   "execution_count": 43,
   "id": "d03fe63a-c7b2-4fb9-a53c-db362ce843c9",
   "metadata": {
    "execution": {
     "iopub.execute_input": "2022-07-11T07:34:19.133121Z",
     "iopub.status.busy": "2022-07-11T07:34:19.132914Z",
     "iopub.status.idle": "2022-07-11T07:34:19.167573Z",
     "shell.execute_reply": "2022-07-11T07:34:19.167186Z"
    },
    "papermill": {
     "duration": 0.203709,
     "end_time": "2022-07-11T07:34:19.168783",
     "exception": false,
     "start_time": "2022-07-11T07:34:18.965074",
     "status": "completed"
    },
    "tags": []
   },
   "outputs": [
    {
     "data": {
      "text/plain": [
       "'-0.05 / 0.05'"
      ]
     },
     "metadata": {},
     "output_type": "display_data"
    }
   ],
   "source": [
    "vmin_val = min(-0.05, gene_corrs_quantiles[0.10])\n",
    "vmax_val = max(0.05, gene_corrs_quantiles[0.90])\n",
    "display(f\"{vmin_val} / {vmax_val}\")"
   ]
  },
  {
   "cell_type": "code",
   "execution_count": 44,
   "id": "dc41b70b-5bcc-4d9e-9f33-a22c4a94dab5",
   "metadata": {
    "execution": {
     "iopub.execute_input": "2022-07-11T07:34:19.527235Z",
     "iopub.status.busy": "2022-07-11T07:34:19.527002Z",
     "iopub.status.idle": "2022-07-11T07:34:19.661740Z",
     "shell.execute_reply": "2022-07-11T07:34:19.661234Z"
    },
    "papermill": {
     "duration": 0.326413,
     "end_time": "2022-07-11T07:34:19.662950",
     "exception": false,
     "start_time": "2022-07-11T07:34:19.336537",
     "status": "completed"
    },
    "tags": []
   },
   "outputs": [
    {
     "data": {
      "text/plain": [
       "Text(0.5, 1.0, 'Gene correlations in chromosome 18')"
      ]
     },
     "execution_count": 44,
     "metadata": {},
     "output_type": "execute_result"
    },
    {
     "data": {
      "image/png": "[encoded data removed]",
      "text/plain": [
       "<Figure size 720x720 with 2 Axes>"
      ]
     },
     "metadata": {
      "needs_background": "light"
     },
     "output_type": "display_data"
    }
   ],
   "source": [
    "f, ax = plt.subplots(figsize=(10, 10))\n",
    "sns.heatmap(\n",
    "    gene_corrs_df,\n",
    "    xticklabels=False,\n",
    "    yticklabels=False,\n",
    "    square=True,\n",
    "    vmin=vmin_val,\n",
    "    vmax=vmax_val,\n",
    "    cmap=\"YlGnBu\",\n",
    "    ax=ax,\n",
    ")\n",
    "ax.set_title(f\"Gene correlations in chromosome {chromosome}\")"
   ]
  },
  {
   "cell_type": "code",
   "execution_count": null,
   "id": "b25e3ead",
   "metadata": {
    "papermill": {
     "duration": 0.214929,
     "end_time": "2022-07-11T07:34:20.043230",
     "exception": false,
     "start_time": "2022-07-11T07:34:19.828301",
     "status": "completed"
    },
    "tags": []
   },
   "outputs": [],
   "source": []
  }
 ],
 "metadata": {
  "jupytext": {
   "cell_metadata_filter": "all,-execution,-papermill,-trusted",
   "formats": "ipynb,py//py:percent"
  },
  "kernelspec": {
   "display_name": "Python 3 (ipykernel)",
   "language": "python",
   "name": "python3"
  },
  "language_info": {
   "codemirror_mode": {
    "name": "ipython",
    "version": 3
   },
   "file_extension": ".py",
   "mimetype": "text/x-python",
   "name": "python",
   "nbconvert_exporter": "python",
   "pygments_lexer": "ipython3",
   "version": "3.8.13"
  },
  "papermill": {
   "default_parameters": {},
   "duration": 132.589019,
   "end_time": "2022-07-11T07:34:23.283328",
   "environment_variables": {},
   "exception": null,
   "input_path": "nbs/15_gsa_gls/10-gene_expr_correlations.ipynb",
   "output_path": "nbs/15_gsa_gls/gene_corrs/1000g/mashr/10-gene_expr_correlations-chr18.run.ipynb",
   "parameters": {
    "EQTL_MODEL": "MASHR",
    "REFERENCE_PANEL": "1000G",
    "chromosome": 18
   },
   "start_time": "2022-07-11T07:32:10.694309",
   "version": "2.2.2"
  }
 },
 "nbformat": 4,
 "nbformat_minor": 5
}
