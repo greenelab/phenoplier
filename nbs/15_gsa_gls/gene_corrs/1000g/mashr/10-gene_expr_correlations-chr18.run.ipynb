{
 "cells": [
  {
   "cell_type": "markdown",
   "id": "7a6632fb",
   "metadata": {
    "papermill": {
     "duration": 0.005989,
     "end_time": "2022-07-12T09:04:39.163253",
     "exception": false,
     "start_time": "2022-07-12T09:04:39.157264",
     "status": "completed"
    },
    "tags": []
   },
   "source": [
    "# Description"
   ]
  },
  {
   "cell_type": "markdown",
   "id": "7097c346",
   "metadata": {
    "papermill": {
     "duration": 0.005234,
     "end_time": "2022-07-12T09:04:39.173861",
     "exception": false,
     "start_time": "2022-07-12T09:04:39.168627",
     "status": "completed"
    },
    "tags": []
   },
   "source": [
    "(Please, take a look at the README.md file in this directory for instructions on how to run this notebook)\n",
    "\n",
    "This notebook computes predicted expression correlations between all genes in the MultiPLIER models.\n",
    "\n",
    "It also has a parameter set for papermill to run on a single chromosome to run in parallel (see under `Settings` below).\n",
    "\n",
    "This notebook is not directly run. See README.md."
   ]
  },
  {
   "cell_type": "markdown",
   "id": "c61d8427",
   "metadata": {
    "papermill": {
     "duration": 0.005516,
     "end_time": "2022-07-12T09:04:39.185013",
     "exception": false,
     "start_time": "2022-07-12T09:04:39.179497",
     "status": "completed"
    },
    "tags": []
   },
   "source": [
    "# Modules"
   ]
  },
  {
   "cell_type": "code",
   "execution_count": 1,
   "id": "bbc0234f",
   "metadata": {
    "execution": {
     "iopub.execute_input": "2022-07-12T09:04:39.197940Z",
     "iopub.status.busy": "2022-07-12T09:04:39.197489Z",
     "iopub.status.idle": "2022-07-12T09:04:39.211448Z",
     "shell.execute_reply": "2022-07-12T09:04:39.211067Z"
    },
    "papermill": {
     "duration": 0.021973,
     "end_time": "2022-07-12T09:04:39.212797",
     "exception": false,
     "start_time": "2022-07-12T09:04:39.190824",
     "status": "completed"
    },
    "tags": []
   },
   "outputs": [],
   "source": [
    "%load_ext autoreload\n",
    "%autoreload 2"
   ]
  },
  {
   "cell_type": "code",
   "execution_count": 2,
   "id": "1d5f5a59",
   "metadata": {
    "execution": {
     "iopub.execute_input": "2022-07-12T09:04:39.251480Z",
     "iopub.status.busy": "2022-07-12T09:04:39.251157Z",
     "iopub.status.idle": "2022-07-12T09:04:40.141114Z",
     "shell.execute_reply": "2022-07-12T09:04:40.140682Z"
    },
    "papermill": {
     "duration": 0.898025,
     "end_time": "2022-07-12T09:04:40.142465",
     "exception": false,
     "start_time": "2022-07-12T09:04:39.244440",
     "status": "completed"
    },
    "tags": []
   },
   "outputs": [],
   "source": [
    "from random import sample, seed\n",
    "import warnings\n",
    "from pathlib import Path\n",
    "\n",
    "import numpy as np\n",
    "from scipy.spatial.distance import squareform\n",
    "import pandas as pd\n",
    "from tqdm import tqdm\n",
    "import matplotlib.pyplot as plt\n",
    "import seaborn as sns\n",
    "\n",
    "import conf\n",
    "from entity import Gene"
   ]
  },
  {
   "cell_type": "markdown",
   "id": "1eac24b5",
   "metadata": {
    "papermill": {
     "duration": 0.00528,
     "end_time": "2022-07-12T09:04:40.153638",
     "exception": false,
     "start_time": "2022-07-12T09:04:40.148358",
     "status": "completed"
    },
    "tags": []
   },
   "source": [
    "# Settings"
   ]
  },
  {
   "cell_type": "code",
   "execution_count": 3,
   "id": "ca4560ba",
   "metadata": {
    "execution": {
     "iopub.execute_input": "2022-07-12T09:04:40.165632Z",
     "iopub.status.busy": "2022-07-12T09:04:40.165426Z",
     "iopub.status.idle": "2022-07-12T09:04:40.179701Z",
     "shell.execute_reply": "2022-07-12T09:04:40.179294Z"
    },
    "papermill": {
     "duration": 0.021881,
     "end_time": "2022-07-12T09:04:40.180961",
     "exception": false,
     "start_time": "2022-07-12T09:04:40.159080",
     "status": "completed"
    },
    "tags": [
     "parameters"
    ]
   },
   "outputs": [],
   "source": [
    "# reference panel\n",
    "REFERENCE_PANEL = \"GTEX_V8\"\n",
    "# REFERENCE_PANEL = \"1000G\"\n",
    "\n",
    "# prediction models\n",
    "## mashr\n",
    "EQTL_MODEL = \"MASHR\"\n",
    "\n",
    "# this is the default value used in S-MultiXcan to select the\n",
    "# top principal components of the expression correlation matrix\n",
    "SMULTIXCAN_CONDITION_NUMBER = 30\n",
    "\n",
    "# specifies a single chromosome value\n",
    "# by default, run on all chromosomes\n",
    "chromosome = None"
   ]
  },
  {
   "cell_type": "code",
   "execution_count": 4,
   "id": "9b36b5ec",
   "metadata": {
    "execution": {
     "iopub.execute_input": "2022-07-12T09:04:40.192782Z",
     "iopub.status.busy": "2022-07-12T09:04:40.192587Z",
     "iopub.status.idle": "2022-07-12T09:04:40.207008Z",
     "shell.execute_reply": "2022-07-12T09:04:40.206634Z"
    },
    "papermill": {
     "duration": 0.021823,
     "end_time": "2022-07-12T09:04:40.208316",
     "exception": false,
     "start_time": "2022-07-12T09:04:40.186493",
     "status": "completed"
    },
    "tags": [
     "injected-parameters"
    ]
   },
   "outputs": [],
   "source": [
    "# Parameters\n",
    "chromosome = 18\n",
    "REFERENCE_PANEL = \"1000G\"\n",
    "EQTL_MODEL = \"MASHR\"\n"
   ]
  },
  {
   "cell_type": "code",
   "execution_count": 5,
   "id": "a089c9ff",
   "metadata": {
    "execution": {
     "iopub.execute_input": "2022-07-12T09:04:40.220179Z",
     "iopub.status.busy": "2022-07-12T09:04:40.219983Z",
     "iopub.status.idle": "2022-07-12T09:04:40.234137Z",
     "shell.execute_reply": "2022-07-12T09:04:40.233728Z"
    },
    "papermill": {
     "duration": 0.021485,
     "end_time": "2022-07-12T09:04:40.235398",
     "exception": false,
     "start_time": "2022-07-12T09:04:40.213913",
     "status": "completed"
    },
    "tags": []
   },
   "outputs": [],
   "source": [
    "EQTL_MODEL_FILES_PREFIX = conf.PHENOMEXCAN[\"PREDICTION_MODELS\"][f\"{EQTL_MODEL}_PREFIX\"]"
   ]
  },
  {
   "cell_type": "code",
   "execution_count": 6,
   "id": "8fe24bef",
   "metadata": {
    "execution": {
     "iopub.execute_input": "2022-07-12T09:04:40.247918Z",
     "iopub.status.busy": "2022-07-12T09:04:40.247668Z",
     "iopub.status.idle": "2022-07-12T09:04:40.263515Z",
     "shell.execute_reply": "2022-07-12T09:04:40.263084Z"
    },
    "papermill": {
     "duration": 0.024699,
     "end_time": "2022-07-12T09:04:40.265893",
     "exception": false,
     "start_time": "2022-07-12T09:04:40.241194",
     "status": "completed"
    },
    "tags": []
   },
   "outputs": [
    {
     "data": {
      "text/plain": [
       "'Using eQTL model: MASHR / mashr_'"
      ]
     },
     "metadata": {},
     "output_type": "display_data"
    }
   ],
   "source": [
    "display(f\"Using eQTL model: {EQTL_MODEL} / {EQTL_MODEL_FILES_PREFIX}\")"
   ]
  },
  {
   "cell_type": "code",
   "execution_count": 7,
   "id": "552a7f63-a18c-4d3e-bb6a-94f99b431291",
   "metadata": {
    "execution": {
     "iopub.execute_input": "2022-07-12T09:04:40.278266Z",
     "iopub.status.busy": "2022-07-12T09:04:40.277716Z",
     "iopub.status.idle": "2022-07-12T09:04:40.293301Z",
     "shell.execute_reply": "2022-07-12T09:04:40.292828Z"
    },
    "papermill": {
     "duration": 0.022963,
     "end_time": "2022-07-12T09:04:40.294517",
     "exception": false,
     "start_time": "2022-07-12T09:04:40.271554",
     "status": "completed"
    },
    "tags": []
   },
   "outputs": [
    {
     "data": {
      "text/plain": [
       "'S-MultiXcan condition number: 30'"
      ]
     },
     "metadata": {},
     "output_type": "display_data"
    }
   ],
   "source": [
    "display(f\"S-MultiXcan condition number: {SMULTIXCAN_CONDITION_NUMBER}\")"
   ]
  },
  {
   "cell_type": "code",
   "execution_count": 8,
   "id": "0230ebcb-2c32-4b95-9292-d9a52038e70d",
   "metadata": {
    "execution": {
     "iopub.execute_input": "2022-07-12T09:04:40.307024Z",
     "iopub.status.busy": "2022-07-12T09:04:40.306497Z",
     "iopub.status.idle": "2022-07-12T09:04:40.320765Z",
     "shell.execute_reply": "2022-07-12T09:04:40.320266Z"
    },
    "papermill": {
     "duration": 0.021901,
     "end_time": "2022-07-12T09:04:40.322154",
     "exception": false,
     "start_time": "2022-07-12T09:04:40.300253",
     "status": "completed"
    },
    "tags": []
   },
   "outputs": [],
   "source": [
    "REFERENCE_PANEL_DIR = conf.PHENOMEXCAN[\"LD_BLOCKS\"][f\"{REFERENCE_PANEL}_GENOTYPE_DIR\"]"
   ]
  },
  {
   "cell_type": "code",
   "execution_count": 9,
   "id": "98c4a159-601d-4a22-a1ab-35bd451c25f9",
   "metadata": {
    "execution": {
     "iopub.execute_input": "2022-07-12T09:04:40.335069Z",
     "iopub.status.busy": "2022-07-12T09:04:40.334834Z",
     "iopub.status.idle": "2022-07-12T09:04:40.349296Z",
     "shell.execute_reply": "2022-07-12T09:04:40.348877Z"
    },
    "papermill": {
     "duration": 0.022348,
     "end_time": "2022-07-12T09:04:40.350462",
     "exception": false,
     "start_time": "2022-07-12T09:04:40.328114",
     "status": "completed"
    },
    "tags": []
   },
   "outputs": [
    {
     "data": {
      "text/plain": [
       "'Using reference panel folder: /opt/data/data/phenomexcan/ld_blocks/reference_panel_1000G'"
      ]
     },
     "metadata": {},
     "output_type": "display_data"
    }
   ],
   "source": [
    "display(f\"Using reference panel folder: {str(REFERENCE_PANEL_DIR)}\")"
   ]
  },
  {
   "cell_type": "code",
   "execution_count": 10,
   "id": "396392dc-0340-4540-9b02-e182b833f909",
   "metadata": {
    "execution": {
     "iopub.execute_input": "2022-07-12T09:04:40.363095Z",
     "iopub.status.busy": "2022-07-12T09:04:40.362897Z",
     "iopub.status.idle": "2022-07-12T09:04:40.378021Z",
     "shell.execute_reply": "2022-07-12T09:04:40.377599Z"
    },
    "papermill": {
     "duration": 0.022953,
     "end_time": "2022-07-12T09:04:40.379347",
     "exception": false,
     "start_time": "2022-07-12T09:04:40.356394",
     "status": "completed"
    },
    "tags": []
   },
   "outputs": [],
   "source": [
    "OUTPUT_DIR_BASE = (\n",
    "    conf.PHENOMEXCAN[\"LD_BLOCKS\"][f\"GENE_CORRS_DIR\"]\n",
    "    / REFERENCE_PANEL.lower()\n",
    "    / EQTL_MODEL.lower()\n",
    ")\n",
    "OUTPUT_DIR_BASE.mkdir(parents=True, exist_ok=True)"
   ]
  },
  {
   "cell_type": "code",
   "execution_count": 11,
   "id": "8942c2d3-e53c-4d63-a0eb-b6fce0574d36",
   "metadata": {
    "execution": {
     "iopub.execute_input": "2022-07-12T09:04:40.391958Z",
     "iopub.status.busy": "2022-07-12T09:04:40.391746Z",
     "iopub.status.idle": "2022-07-12T09:04:40.406312Z",
     "shell.execute_reply": "2022-07-12T09:04:40.405893Z"
    },
    "papermill": {
     "duration": 0.022151,
     "end_time": "2022-07-12T09:04:40.407482",
     "exception": false,
     "start_time": "2022-07-12T09:04:40.385331",
     "status": "completed"
    },
    "tags": []
   },
   "outputs": [
    {
     "data": {
      "text/plain": [
       "'Using output dir base: /opt/data/data/phenomexcan/ld_blocks/gene_corrs/1000g/mashr'"
      ]
     },
     "metadata": {},
     "output_type": "display_data"
    }
   ],
   "source": [
    "display(f\"Using output dir base: {OUTPUT_DIR_BASE}\")"
   ]
  },
  {
   "cell_type": "code",
   "execution_count": 12,
   "id": "408aa590",
   "metadata": {
    "execution": {
     "iopub.execute_input": "2022-07-12T09:04:40.420854Z",
     "iopub.status.busy": "2022-07-12T09:04:40.420629Z",
     "iopub.status.idle": "2022-07-12T09:04:40.434458Z",
     "shell.execute_reply": "2022-07-12T09:04:40.434045Z"
    },
    "papermill": {
     "duration": 0.022041,
     "end_time": "2022-07-12T09:04:40.435714",
     "exception": false,
     "start_time": "2022-07-12T09:04:40.413673",
     "status": "completed"
    },
    "tags": []
   },
   "outputs": [],
   "source": [
    "assert (\n",
    "    chromosome is not None\n",
    "), \"You have to select one chromosome (format: number between 1 and 22)\""
   ]
  },
  {
   "cell_type": "code",
   "execution_count": 13,
   "id": "c1c7dd06-80ff-453c-bcb7-0899edce75da",
   "metadata": {
    "execution": {
     "iopub.execute_input": "2022-07-12T09:04:40.448834Z",
     "iopub.status.busy": "2022-07-12T09:04:40.448630Z",
     "iopub.status.idle": "2022-07-12T09:04:40.462474Z",
     "shell.execute_reply": "2022-07-12T09:04:40.462087Z"
    },
    "papermill": {
     "duration": 0.022035,
     "end_time": "2022-07-12T09:04:40.463843",
     "exception": false,
     "start_time": "2022-07-12T09:04:40.441808",
     "status": "completed"
    },
    "tags": []
   },
   "outputs": [],
   "source": [
    "chromosome = str(chromosome)"
   ]
  },
  {
   "cell_type": "code",
   "execution_count": 14,
   "id": "bc17b84c-9c26-47a5-a3ab-7046e72f3ef4",
   "metadata": {
    "execution": {
     "iopub.execute_input": "2022-07-12T09:04:40.476773Z",
     "iopub.status.busy": "2022-07-12T09:04:40.476576Z",
     "iopub.status.idle": "2022-07-12T09:04:40.491030Z",
     "shell.execute_reply": "2022-07-12T09:04:40.490607Z"
    },
    "papermill": {
     "duration": 0.022268,
     "end_time": "2022-07-12T09:04:40.492227",
     "exception": false,
     "start_time": "2022-07-12T09:04:40.469959",
     "status": "completed"
    },
    "tags": []
   },
   "outputs": [
    {
     "data": {
      "text/plain": [
       "'Working on chromosome 18'"
      ]
     },
     "metadata": {},
     "output_type": "display_data"
    }
   ],
   "source": [
    "display(f\"Working on chromosome {chromosome}\")"
   ]
  },
  {
   "cell_type": "code",
   "execution_count": 15,
   "id": "3c7d8574-90c7-4d09-bc8c-469ed0a34737",
   "metadata": {
    "execution": {
     "iopub.execute_input": "2022-07-12T09:04:40.505482Z",
     "iopub.status.busy": "2022-07-12T09:04:40.504979Z",
     "iopub.status.idle": "2022-07-12T09:04:40.520932Z",
     "shell.execute_reply": "2022-07-12T09:04:40.520458Z"
    },
    "papermill": {
     "duration": 0.023777,
     "end_time": "2022-07-12T09:04:40.522176",
     "exception": false,
     "start_time": "2022-07-12T09:04:40.498399",
     "status": "completed"
    },
    "tags": []
   },
   "outputs": [
    {
     "data": {
      "text/plain": [
       "'Compute correlation within distance False'"
      ]
     },
     "metadata": {},
     "output_type": "display_data"
    }
   ],
   "source": [
    "# This paramter, if True, computes the correlation between closeby genes only\n",
    "COMPUTE_CORRELATIONS_WITHIN_DISTANCE = False\n",
    "display(f\"Compute correlation within distance {COMPUTE_CORRELATIONS_WITHIN_DISTANCE}\")"
   ]
  },
  {
   "cell_type": "markdown",
   "id": "d2ba085e",
   "metadata": {
    "papermill": {
     "duration": 0.006124,
     "end_time": "2022-07-12T09:04:40.534626",
     "exception": false,
     "start_time": "2022-07-12T09:04:40.528502",
     "status": "completed"
    },
    "tags": []
   },
   "source": [
    "# Load data"
   ]
  },
  {
   "cell_type": "markdown",
   "id": "7bed0ce0-e7c7-4300-9a61-5412450b1904",
   "metadata": {
    "papermill": {
     "duration": 0.006213,
     "end_time": "2022-07-12T09:04:40.547779",
     "exception": false,
     "start_time": "2022-07-12T09:04:40.541566",
     "status": "completed"
    },
    "tags": []
   },
   "source": [
    "## Prediction model tissues"
   ]
  },
  {
   "cell_type": "code",
   "execution_count": 16,
   "id": "0847c065-0d69-4830-a07f-1c75115d17f5",
   "metadata": {
    "execution": {
     "iopub.execute_input": "2022-07-12T09:04:40.561728Z",
     "iopub.status.busy": "2022-07-12T09:04:40.561523Z",
     "iopub.status.idle": "2022-07-12T09:04:40.577112Z",
     "shell.execute_reply": "2022-07-12T09:04:40.576711Z"
    },
    "papermill": {
     "duration": 0.023877,
     "end_time": "2022-07-12T09:04:40.578301",
     "exception": false,
     "start_time": "2022-07-12T09:04:40.554424",
     "status": "completed"
    },
    "tags": []
   },
   "outputs": [],
   "source": [
    "prediction_model_tissues = conf.PHENOMEXCAN[\"PREDICTION_MODELS\"][\n",
    "    f\"{EQTL_MODEL}_TISSUES\"\n",
    "].split(\" \")"
   ]
  },
  {
   "cell_type": "code",
   "execution_count": 17,
   "id": "aaef70d1-30c6-4c6f-9d6b-abc8e9a0081f",
   "metadata": {
    "execution": {
     "iopub.execute_input": "2022-07-12T09:04:40.592742Z",
     "iopub.status.busy": "2022-07-12T09:04:40.592152Z",
     "iopub.status.idle": "2022-07-12T09:04:40.607218Z",
     "shell.execute_reply": "2022-07-12T09:04:40.606778Z"
    },
    "papermill": {
     "duration": 0.023806,
     "end_time": "2022-07-12T09:04:40.608537",
     "exception": false,
     "start_time": "2022-07-12T09:04:40.584731",
     "status": "completed"
    },
    "tags": []
   },
   "outputs": [
    {
     "data": {
      "text/plain": [
       "49"
      ]
     },
     "execution_count": 17,
     "metadata": {},
     "output_type": "execute_result"
    }
   ],
   "source": [
    "len(prediction_model_tissues)"
   ]
  },
  {
   "cell_type": "code",
   "execution_count": 18,
   "id": "ff35a099-c52d-465d-b863-0ee70c26208c",
   "metadata": {
    "execution": {
     "iopub.execute_input": "2022-07-12T09:04:40.622041Z",
     "iopub.status.busy": "2022-07-12T09:04:40.621812Z",
     "iopub.status.idle": "2022-07-12T09:04:40.636672Z",
     "shell.execute_reply": "2022-07-12T09:04:40.636199Z"
    },
    "papermill": {
     "duration": 0.023027,
     "end_time": "2022-07-12T09:04:40.637895",
     "exception": false,
     "start_time": "2022-07-12T09:04:40.614868",
     "status": "completed"
    },
    "tags": []
   },
   "outputs": [
    {
     "data": {
      "text/plain": [
       "['Skin_Not_Sun_Exposed_Suprapubic',\n",
       " 'Cells_EBV-transformed_lymphocytes',\n",
       " 'Brain_Frontal_Cortex_BA9',\n",
       " 'Kidney_Cortex',\n",
       " 'Brain_Substantia_nigra']"
      ]
     },
     "execution_count": 18,
     "metadata": {},
     "output_type": "execute_result"
    }
   ],
   "source": [
    "prediction_model_tissues[:5]"
   ]
  },
  {
   "cell_type": "markdown",
   "id": "abcc4b3d",
   "metadata": {
    "papermill": {
     "duration": 0.006427,
     "end_time": "2022-07-12T09:04:40.650782",
     "exception": false,
     "start_time": "2022-07-12T09:04:40.644355",
     "status": "completed"
    },
    "tags": []
   },
   "source": [
    "## MultiPLIER Z"
   ]
  },
  {
   "cell_type": "code",
   "execution_count": 19,
   "id": "c48ef527",
   "metadata": {
    "execution": {
     "iopub.execute_input": "2022-07-12T09:04:40.664481Z",
     "iopub.status.busy": "2022-07-12T09:04:40.664142Z",
     "iopub.status.idle": "2022-07-12T09:04:40.703754Z",
     "shell.execute_reply": "2022-07-12T09:04:40.703273Z"
    },
    "papermill": {
     "duration": 0.0479,
     "end_time": "2022-07-12T09:04:40.705097",
     "exception": false,
     "start_time": "2022-07-12T09:04:40.657197",
     "status": "completed"
    },
    "tags": []
   },
   "outputs": [],
   "source": [
    "multiplier_z_genes = pd.read_pickle(\n",
    "    conf.MULTIPLIER[\"MODEL_Z_MATRIX_FILE\"]\n",
    ").index.tolist()"
   ]
  },
  {
   "cell_type": "code",
   "execution_count": 20,
   "id": "0a4ecbd9",
   "metadata": {
    "execution": {
     "iopub.execute_input": "2022-07-12T09:04:40.718931Z",
     "iopub.status.busy": "2022-07-12T09:04:40.718635Z",
     "iopub.status.idle": "2022-07-12T09:04:40.733908Z",
     "shell.execute_reply": "2022-07-12T09:04:40.733474Z"
    },
    "papermill": {
     "duration": 0.023556,
     "end_time": "2022-07-12T09:04:40.735105",
     "exception": false,
     "start_time": "2022-07-12T09:04:40.711549",
     "status": "completed"
    },
    "tags": []
   },
   "outputs": [
    {
     "data": {
      "text/plain": [
       "6750"
      ]
     },
     "execution_count": 20,
     "metadata": {},
     "output_type": "execute_result"
    }
   ],
   "source": [
    "len(multiplier_z_genes)"
   ]
  },
  {
   "cell_type": "code",
   "execution_count": 21,
   "id": "115e8864",
   "metadata": {
    "execution": {
     "iopub.execute_input": "2022-07-12T09:04:40.749888Z",
     "iopub.status.busy": "2022-07-12T09:04:40.749677Z",
     "iopub.status.idle": "2022-07-12T09:04:40.764602Z",
     "shell.execute_reply": "2022-07-12T09:04:40.764005Z"
    },
    "papermill": {
     "duration": 0.023713,
     "end_time": "2022-07-12T09:04:40.765746",
     "exception": false,
     "start_time": "2022-07-12T09:04:40.742033",
     "status": "completed"
    },
    "tags": []
   },
   "outputs": [
    {
     "data": {
      "text/plain": [
       "['GAS6',\n",
       " 'MMP14',\n",
       " 'DSP',\n",
       " 'MARCKSL1',\n",
       " 'SPARC',\n",
       " 'CTSD',\n",
       " 'EPAS1',\n",
       " 'PALLD',\n",
       " 'PHC2',\n",
       " 'LGALS3BP']"
      ]
     },
     "execution_count": 21,
     "metadata": {},
     "output_type": "execute_result"
    }
   ],
   "source": [
    "multiplier_z_genes[:10]"
   ]
  },
  {
   "cell_type": "markdown",
   "id": "7dcb8db7",
   "metadata": {
    "papermill": {
     "duration": 0.006322,
     "end_time": "2022-07-12T09:04:40.778777",
     "exception": false,
     "start_time": "2022-07-12T09:04:40.772455",
     "status": "completed"
    },
    "tags": []
   },
   "source": [
    "## Get gene objects"
   ]
  },
  {
   "cell_type": "code",
   "execution_count": 22,
   "id": "bb932812",
   "metadata": {
    "execution": {
     "iopub.execute_input": "2022-07-12T09:04:40.792469Z",
     "iopub.status.busy": "2022-07-12T09:04:40.792141Z",
     "iopub.status.idle": "2022-07-12T09:04:40.813781Z",
     "shell.execute_reply": "2022-07-12T09:04:40.813268Z"
    },
    "papermill": {
     "duration": 0.029976,
     "end_time": "2022-07-12T09:04:40.815111",
     "exception": false,
     "start_time": "2022-07-12T09:04:40.785135",
     "status": "completed"
    },
    "tags": []
   },
   "outputs": [],
   "source": [
    "multiplier_gene_obj = {\n",
    "    gene_name: Gene(name=gene_name)\n",
    "    for gene_name in multiplier_z_genes\n",
    "    if gene_name in Gene.GENE_NAME_TO_ID_MAP\n",
    "}"
   ]
  },
  {
   "cell_type": "code",
   "execution_count": 23,
   "id": "39533214",
   "metadata": {
    "execution": {
     "iopub.execute_input": "2022-07-12T09:04:40.830455Z",
     "iopub.status.busy": "2022-07-12T09:04:40.829785Z",
     "iopub.status.idle": "2022-07-12T09:04:40.845245Z",
     "shell.execute_reply": "2022-07-12T09:04:40.844771Z"
    },
    "papermill": {
     "duration": 0.024617,
     "end_time": "2022-07-12T09:04:40.846425",
     "exception": false,
     "start_time": "2022-07-12T09:04:40.821808",
     "status": "completed"
    },
    "tags": []
   },
   "outputs": [
    {
     "data": {
      "text/plain": [
       "6454"
      ]
     },
     "execution_count": 23,
     "metadata": {},
     "output_type": "execute_result"
    }
   ],
   "source": [
    "len(multiplier_gene_obj)"
   ]
  },
  {
   "cell_type": "code",
   "execution_count": 24,
   "id": "9a5d0b84",
   "metadata": {
    "execution": {
     "iopub.execute_input": "2022-07-12T09:04:40.860734Z",
     "iopub.status.busy": "2022-07-12T09:04:40.860486Z",
     "iopub.status.idle": "2022-07-12T09:04:40.875562Z",
     "shell.execute_reply": "2022-07-12T09:04:40.875071Z"
    },
    "papermill": {
     "duration": 0.023687,
     "end_time": "2022-07-12T09:04:40.876845",
     "exception": false,
     "start_time": "2022-07-12T09:04:40.853158",
     "status": "completed"
    },
    "tags": []
   },
   "outputs": [
    {
     "data": {
      "text/plain": [
       "'ENSG00000183087'"
      ]
     },
     "execution_count": 24,
     "metadata": {},
     "output_type": "execute_result"
    }
   ],
   "source": [
    "multiplier_gene_obj[\"GAS6\"].ensembl_id"
   ]
  },
  {
   "cell_type": "code",
   "execution_count": 25,
   "id": "e3ffabc7",
   "metadata": {
    "execution": {
     "iopub.execute_input": "2022-07-12T09:04:40.891431Z",
     "iopub.status.busy": "2022-07-12T09:04:40.891232Z",
     "iopub.status.idle": "2022-07-12T09:04:43.028748Z",
     "shell.execute_reply": "2022-07-12T09:04:43.028309Z"
    },
    "papermill": {
     "duration": 2.146204,
     "end_time": "2022-07-12T09:04:43.030077",
     "exception": false,
     "start_time": "2022-07-12T09:04:40.883873",
     "status": "completed"
    },
    "tags": []
   },
   "outputs": [],
   "source": [
    "_gene_obj = list(multiplier_gene_obj.values())\n",
    "\n",
    "genes_info = pd.DataFrame(\n",
    "    {\n",
    "        \"name\": [g.name for g in _gene_obj],\n",
    "        \"id\": [g.ensembl_id for g in _gene_obj],\n",
    "        \"chr\": [g.chromosome for g in _gene_obj],\n",
    "        \"band\": [g.band for g in _gene_obj],\n",
    "        \"start_position\": [g.get_attribute(\"start_position\") for g in _gene_obj],\n",
    "    }\n",
    ")"
   ]
  },
  {
   "cell_type": "code",
   "execution_count": 26,
   "id": "e23519b8",
   "metadata": {
    "execution": {
     "iopub.execute_input": "2022-07-12T09:04:43.045745Z",
     "iopub.status.busy": "2022-07-12T09:04:43.045245Z",
     "iopub.status.idle": "2022-07-12T09:04:43.060011Z",
     "shell.execute_reply": "2022-07-12T09:04:43.059600Z"
    },
    "papermill": {
     "duration": 0.023787,
     "end_time": "2022-07-12T09:04:43.061178",
     "exception": false,
     "start_time": "2022-07-12T09:04:43.037391",
     "status": "completed"
    },
    "tags": []
   },
   "outputs": [
    {
     "data": {
      "text/plain": [
       "(6454, 5)"
      ]
     },
     "execution_count": 26,
     "metadata": {},
     "output_type": "execute_result"
    }
   ],
   "source": [
    "genes_info.shape"
   ]
  },
  {
   "cell_type": "code",
   "execution_count": 27,
   "id": "0d71881c",
   "metadata": {
    "execution": {
     "iopub.execute_input": "2022-07-12T09:04:43.075926Z",
     "iopub.status.busy": "2022-07-12T09:04:43.075707Z",
     "iopub.status.idle": "2022-07-12T09:04:43.095588Z",
     "shell.execute_reply": "2022-07-12T09:04:43.095170Z"
    },
    "papermill": {
     "duration": 0.028815,
     "end_time": "2022-07-12T09:04:43.096808",
     "exception": false,
     "start_time": "2022-07-12T09:04:43.067993",
     "status": "completed"
    },
    "tags": []
   },
   "outputs": [
    {
     "data": {
      "text/html": [
       "<div>\n",
       "<style scoped>\n",
       "    .dataframe tbody tr th:only-of-type {\n",
       "        vertical-align: middle;\n",
       "    }\n",
       "\n",
       "    .dataframe tbody tr th {\n",
       "        vertical-align: top;\n",
       "    }\n",
       "\n",
       "    .dataframe thead th {\n",
       "        text-align: right;\n",
       "    }\n",
       "</style>\n",
       "<table border=\"1\" class=\"dataframe\">\n",
       "  <thead>\n",
       "    <tr style=\"text-align: right;\">\n",
       "      <th></th>\n",
       "      <th>name</th>\n",
       "      <th>id</th>\n",
       "      <th>chr</th>\n",
       "      <th>band</th>\n",
       "      <th>start_position</th>\n",
       "    </tr>\n",
       "  </thead>\n",
       "  <tbody>\n",
       "    <tr>\n",
       "      <th>0</th>\n",
       "      <td>GAS6</td>\n",
       "      <td>ENSG00000183087</td>\n",
       "      <td>13</td>\n",
       "      <td>13q34</td>\n",
       "      <td>113820549.0</td>\n",
       "    </tr>\n",
       "    <tr>\n",
       "      <th>1</th>\n",
       "      <td>MMP14</td>\n",
       "      <td>ENSG00000157227</td>\n",
       "      <td>14</td>\n",
       "      <td>14q11.2</td>\n",
       "      <td>22836560.0</td>\n",
       "    </tr>\n",
       "    <tr>\n",
       "      <th>2</th>\n",
       "      <td>DSP</td>\n",
       "      <td>ENSG00000096696</td>\n",
       "      <td>6</td>\n",
       "      <td>6p24.3</td>\n",
       "      <td>7541617.0</td>\n",
       "    </tr>\n",
       "    <tr>\n",
       "      <th>3</th>\n",
       "      <td>MARCKSL1</td>\n",
       "      <td>ENSG00000175130</td>\n",
       "      <td>1</td>\n",
       "      <td>1p35.1</td>\n",
       "      <td>32333839.0</td>\n",
       "    </tr>\n",
       "    <tr>\n",
       "      <th>4</th>\n",
       "      <td>SPARC</td>\n",
       "      <td>ENSG00000113140</td>\n",
       "      <td>5</td>\n",
       "      <td>5q33.1</td>\n",
       "      <td>151661096.0</td>\n",
       "    </tr>\n",
       "  </tbody>\n",
       "</table>\n",
       "</div>"
      ],
      "text/plain": [
       "       name               id chr     band  start_position\n",
       "0      GAS6  ENSG00000183087  13    13q34     113820549.0\n",
       "1     MMP14  ENSG00000157227  14  14q11.2      22836560.0\n",
       "2       DSP  ENSG00000096696   6   6p24.3       7541617.0\n",
       "3  MARCKSL1  ENSG00000175130   1   1p35.1      32333839.0\n",
       "4     SPARC  ENSG00000113140   5   5q33.1     151661096.0"
      ]
     },
     "execution_count": 27,
     "metadata": {},
     "output_type": "execute_result"
    }
   ],
   "source": [
    "genes_info.head()"
   ]
  },
  {
   "cell_type": "markdown",
   "id": "c8d1038f",
   "metadata": {
    "papermill": {
     "duration": 0.006705,
     "end_time": "2022-07-12T09:04:43.110754",
     "exception": false,
     "start_time": "2022-07-12T09:04:43.104049",
     "status": "completed"
    },
    "tags": []
   },
   "source": [
    "# Test"
   ]
  },
  {
   "cell_type": "code",
   "execution_count": 28,
   "id": "64993abf",
   "metadata": {
    "execution": {
     "iopub.execute_input": "2022-07-12T09:04:43.125802Z",
     "iopub.status.busy": "2022-07-12T09:04:43.125551Z",
     "iopub.status.idle": "2022-07-12T09:04:43.148581Z",
     "shell.execute_reply": "2022-07-12T09:04:43.148162Z"
    },
    "papermill": {
     "duration": 0.032221,
     "end_time": "2022-07-12T09:04:43.149866",
     "exception": false,
     "start_time": "2022-07-12T09:04:43.117645",
     "status": "completed"
    },
    "tags": []
   },
   "outputs": [
    {
     "data": {
      "text/html": [
       "<div>\n",
       "<style scoped>\n",
       "    .dataframe tbody tr th:only-of-type {\n",
       "        vertical-align: middle;\n",
       "    }\n",
       "\n",
       "    .dataframe tbody tr th {\n",
       "        vertical-align: top;\n",
       "    }\n",
       "\n",
       "    .dataframe thead th {\n",
       "        text-align: right;\n",
       "    }\n",
       "</style>\n",
       "<table border=\"1\" class=\"dataframe\">\n",
       "  <thead>\n",
       "    <tr style=\"text-align: right;\">\n",
       "      <th></th>\n",
       "      <th>name</th>\n",
       "      <th>id</th>\n",
       "      <th>chr</th>\n",
       "      <th>band</th>\n",
       "      <th>start_position</th>\n",
       "    </tr>\n",
       "  </thead>\n",
       "  <tbody>\n",
       "    <tr>\n",
       "      <th>31</th>\n",
       "      <td>PPP4R1</td>\n",
       "      <td>ENSG00000154845</td>\n",
       "      <td>18</td>\n",
       "      <td>18p11.22</td>\n",
       "      <td>9546791.0</td>\n",
       "    </tr>\n",
       "    <tr>\n",
       "      <th>81</th>\n",
       "      <td>YES1</td>\n",
       "      <td>ENSG00000176105</td>\n",
       "      <td>18</td>\n",
       "      <td>18p11.32</td>\n",
       "      <td>721588.0</td>\n",
       "    </tr>\n",
       "    <tr>\n",
       "      <th>92</th>\n",
       "      <td>IMPA2</td>\n",
       "      <td>ENSG00000141401</td>\n",
       "      <td>18</td>\n",
       "      <td>18p11.21</td>\n",
       "      <td>11981025.0</td>\n",
       "    </tr>\n",
       "    <tr>\n",
       "      <th>103</th>\n",
       "      <td>CDH2</td>\n",
       "      <td>ENSG00000170558</td>\n",
       "      <td>18</td>\n",
       "      <td>18q12.1</td>\n",
       "      <td>27950966.0</td>\n",
       "    </tr>\n",
       "    <tr>\n",
       "      <th>287</th>\n",
       "      <td>EPB41L3</td>\n",
       "      <td>ENSG00000082397</td>\n",
       "      <td>18</td>\n",
       "      <td>18p11.31</td>\n",
       "      <td>5392381.0</td>\n",
       "    </tr>\n",
       "    <tr>\n",
       "      <th>...</th>\n",
       "      <td>...</td>\n",
       "      <td>...</td>\n",
       "      <td>...</td>\n",
       "      <td>...</td>\n",
       "      <td>...</td>\n",
       "    </tr>\n",
       "    <tr>\n",
       "      <th>5895</th>\n",
       "      <td>CNDP2</td>\n",
       "      <td>ENSG00000133313</td>\n",
       "      <td>18</td>\n",
       "      <td>18q22.3</td>\n",
       "      <td>74495816.0</td>\n",
       "    </tr>\n",
       "    <tr>\n",
       "      <th>6261</th>\n",
       "      <td>NDC80</td>\n",
       "      <td>ENSG00000080986</td>\n",
       "      <td>18</td>\n",
       "      <td>18p11.32</td>\n",
       "      <td>2571557.0</td>\n",
       "    </tr>\n",
       "    <tr>\n",
       "      <th>6293</th>\n",
       "      <td>TGIF1</td>\n",
       "      <td>ENSG00000177426</td>\n",
       "      <td>18</td>\n",
       "      <td>18p11.31</td>\n",
       "      <td>3411608.0</td>\n",
       "    </tr>\n",
       "    <tr>\n",
       "      <th>6317</th>\n",
       "      <td>MYO5B</td>\n",
       "      <td>ENSG00000167306</td>\n",
       "      <td>18</td>\n",
       "      <td>18q21.1</td>\n",
       "      <td>49822789.0</td>\n",
       "    </tr>\n",
       "    <tr>\n",
       "      <th>6409</th>\n",
       "      <td>SLC14A2</td>\n",
       "      <td>ENSG00000132874</td>\n",
       "      <td>18</td>\n",
       "      <td>18q12.3</td>\n",
       "      <td>45212995.0</td>\n",
       "    </tr>\n",
       "  </tbody>\n",
       "</table>\n",
       "<p>96 rows × 5 columns</p>\n",
       "</div>"
      ],
      "text/plain": [
       "         name               id chr      band  start_position\n",
       "31     PPP4R1  ENSG00000154845  18  18p11.22       9546791.0\n",
       "81       YES1  ENSG00000176105  18  18p11.32        721588.0\n",
       "92      IMPA2  ENSG00000141401  18  18p11.21      11981025.0\n",
       "103      CDH2  ENSG00000170558  18   18q12.1      27950966.0\n",
       "287   EPB41L3  ENSG00000082397  18  18p11.31       5392381.0\n",
       "...       ...              ...  ..       ...             ...\n",
       "5895    CNDP2  ENSG00000133313  18   18q22.3      74495816.0\n",
       "6261    NDC80  ENSG00000080986  18  18p11.32       2571557.0\n",
       "6293    TGIF1  ENSG00000177426  18  18p11.31       3411608.0\n",
       "6317    MYO5B  ENSG00000167306  18   18q21.1      49822789.0\n",
       "6409  SLC14A2  ENSG00000132874  18   18q12.3      45212995.0\n",
       "\n",
       "[96 rows x 5 columns]"
      ]
     },
     "metadata": {},
     "output_type": "display_data"
    }
   ],
   "source": [
    "chromosome_genes_info = genes_info[genes_info[\"chr\"] == chromosome]\n",
    "display(chromosome_genes_info)"
   ]
  },
  {
   "cell_type": "code",
   "execution_count": 29,
   "id": "d2e42726-7de6-46eb-acfc-6323eaa8fae6",
   "metadata": {
    "execution": {
     "iopub.execute_input": "2022-07-12T09:04:43.165465Z",
     "iopub.status.busy": "2022-07-12T09:04:43.165267Z",
     "iopub.status.idle": "2022-07-12T09:04:43.180543Z",
     "shell.execute_reply": "2022-07-12T09:04:43.180130Z"
    },
    "papermill": {
     "duration": 0.024223,
     "end_time": "2022-07-12T09:04:43.181725",
     "exception": false,
     "start_time": "2022-07-12T09:04:43.157502",
     "status": "completed"
    },
    "tags": []
   },
   "outputs": [
    {
     "data": {
      "text/plain": [
       "5"
      ]
     },
     "metadata": {},
     "output_type": "display_data"
    }
   ],
   "source": [
    "seed(0)\n",
    "_gene_list_ids = sample(chromosome_genes_info[\"id\"].tolist(), 5)\n",
    "selected_chromosome_genes_obj = [Gene(ensembl_id=g_id) for g_id in _gene_list_ids]\n",
    "display(len(selected_chromosome_genes_obj))"
   ]
  },
  {
   "cell_type": "code",
   "execution_count": 30,
   "id": "1b355359",
   "metadata": {
    "execution": {
     "iopub.execute_input": "2022-07-12T09:04:43.198034Z",
     "iopub.status.busy": "2022-07-12T09:04:43.197808Z",
     "iopub.status.idle": "2022-07-12T09:04:44.430741Z",
     "shell.execute_reply": "2022-07-12T09:04:44.430256Z"
    },
    "papermill": {
     "duration": 1.242492,
     "end_time": "2022-07-12T09:04:44.431942",
     "exception": false,
     "start_time": "2022-07-12T09:04:43.189450",
     "status": "completed"
    },
    "tags": []
   },
   "outputs": [
    {
     "name": "stdout",
     "output_type": "stream",
     "text": [
      "MBD2 / VAPA: 0.0\n",
      "MBD2 / DSC1: 0.0\n",
      "MBD2 / SMAD7: 0.0\n",
      "MBD2 / CEP76: 0.0\n",
      "VAPA / DSC1: 0.0\n",
      "VAPA / SMAD7: 0.0\n",
      "VAPA / CEP76: 0.008068402039042735\n",
      "DSC1 / SMAD7: 0.0\n",
      "DSC1 / CEP76: 0.0\n",
      "SMAD7 / CEP76: 0.0\n"
     ]
    }
   ],
   "source": [
    "for gene_idx1 in range(0, len(selected_chromosome_genes_obj) - 1):\n",
    "    gene_obj1 = selected_chromosome_genes_obj[gene_idx1]\n",
    "\n",
    "    for gene_idx2 in range(gene_idx1 + 1, len(selected_chromosome_genes_obj)):\n",
    "        gene_obj2 = selected_chromosome_genes_obj[gene_idx2]\n",
    "\n",
    "        c = gene_obj1.get_ssm_correlation(\n",
    "            gene_obj2,\n",
    "        )\n",
    "\n",
    "        print(f\"{gene_obj1.name} / {gene_obj2.name}: {c}\")"
   ]
  },
  {
   "cell_type": "markdown",
   "id": "d3843e06",
   "metadata": {
    "papermill": {
     "duration": 0.007606,
     "end_time": "2022-07-12T09:04:44.447302",
     "exception": false,
     "start_time": "2022-07-12T09:04:44.439696",
     "status": "completed"
    },
    "tags": []
   },
   "source": [
    "# Compute correlation per chromosome"
   ]
  },
  {
   "cell_type": "code",
   "execution_count": 31,
   "id": "cb859c15-d1f3-4006-a74c-2b83c0db9611",
   "metadata": {
    "execution": {
     "iopub.execute_input": "2022-07-12T09:04:44.463328Z",
     "iopub.status.busy": "2022-07-12T09:04:44.463126Z",
     "iopub.status.idle": "2022-07-12T09:04:44.480619Z",
     "shell.execute_reply": "2022-07-12T09:04:44.480106Z"
    },
    "papermill": {
     "duration": 0.026974,
     "end_time": "2022-07-12T09:04:44.481863",
     "exception": false,
     "start_time": "2022-07-12T09:04:44.454889",
     "status": "completed"
    },
    "tags": []
   },
   "outputs": [
    {
     "data": {
      "text/plain": [
       "PosixPath('/opt/data/data/phenomexcan/ld_blocks/gene_corrs/1000g/mashr/by_chr/gene_corrs-chr18.pkl')"
      ]
     },
     "metadata": {},
     "output_type": "display_data"
    }
   ],
   "source": [
    "output_dir = OUTPUT_DIR_BASE / \"by_chr\"\n",
    "output_dir.mkdir(exist_ok=True, parents=True)\n",
    "output_file = output_dir / f\"gene_corrs-chr{chromosome}.pkl\"\n",
    "display(output_file)"
   ]
  },
  {
   "cell_type": "code",
   "execution_count": 32,
   "id": "aa674fe4-6794-4eed-98fa-32b39d1d4ace",
   "metadata": {
    "execution": {
     "iopub.execute_input": "2022-07-12T09:04:44.498292Z",
     "iopub.status.busy": "2022-07-12T09:04:44.498076Z",
     "iopub.status.idle": "2022-07-12T09:04:44.512945Z",
     "shell.execute_reply": "2022-07-12T09:04:44.512450Z"
    },
    "papermill": {
     "duration": 0.024711,
     "end_time": "2022-07-12T09:04:44.514175",
     "exception": false,
     "start_time": "2022-07-12T09:04:44.489464",
     "status": "completed"
    },
    "tags": []
   },
   "outputs": [],
   "source": [
    "warnings.filterwarnings(\"error\")"
   ]
  },
  {
   "cell_type": "code",
   "execution_count": 33,
   "id": "cdbb90a1",
   "metadata": {
    "execution": {
     "iopub.execute_input": "2022-07-12T09:04:44.530571Z",
     "iopub.status.busy": "2022-07-12T09:04:44.530384Z",
     "iopub.status.idle": "2022-07-12T09:11:40.125843Z",
     "shell.execute_reply": "2022-07-12T09:11:40.125389Z"
    },
    "papermill": {
     "duration": 415.605234,
     "end_time": "2022-07-12T09:11:40.126989",
     "exception": false,
     "start_time": "2022-07-12T09:04:44.521755",
     "status": "completed"
    },
    "tags": []
   },
   "outputs": [
    {
     "name": "stdout",
     "output_type": "stream",
     "text": [
      "Number of genes in chromosome: 96\n",
      "Number of gene combinations: 4560\n"
     ]
    },
    {
     "name": "stderr",
     "output_type": "stream",
     "text": [
      "ENSG00000141759 / ENSG00000178184: 100%|████████████████████████| 4560/4560 [06:55<00:00, 10.97it/s]"
     ]
    },
    {
     "name": "stdout",
     "output_type": "stream",
     "text": [
      "Min/max values: 3.0547930950904755e-05 / 0.7035213759177276\n"
     ]
    },
    {
     "name": "stderr",
     "output_type": "stream",
     "text": [
      "\n"
     ]
    },
    {
     "data": {
      "text/plain": [
       "PosixPath('/opt/data/data/phenomexcan/ld_blocks/gene_corrs/1000g/mashr/by_chr/gene_corrs-chr18.pkl')"
      ]
     },
     "metadata": {},
     "output_type": "display_data"
    }
   ],
   "source": [
    "# standard checks\n",
    "all_chrs = genes_info[\"chr\"].dropna().unique()\n",
    "assert all_chrs.shape[0] == 22\n",
    "\n",
    "# select chromosome given by the user\n",
    "assert chromosome in all_chrs\n",
    "\n",
    "# run only on the chromosome specified\n",
    "all_chrs = [chromosome]\n",
    "genes_chr = genes_info[genes_info[\"chr\"] == chromosome]\n",
    "\n",
    "# For testing purposes\n",
    "# genes_chr = genes_chr.sample(n=20)\n",
    "\n",
    "print(f\"Number of genes in chromosome: {genes_chr.shape[0]}\", flush=True)\n",
    "\n",
    "# sort genes by starting position to make visualizations better later\n",
    "genes_chr = genes_chr.sort_values(\"start_position\")\n",
    "\n",
    "gene_chr_objs = [Gene(ensembl_id=gene_id) for gene_id in genes_chr[\"id\"]]\n",
    "gene_chr_ids = [g.ensembl_id for g in gene_chr_objs]\n",
    "\n",
    "n = len(gene_chr_objs)\n",
    "n_comb = int(n * (n - 1) / 2.0)\n",
    "print(f\"Number of gene combinations: {n_comb}\", flush=True)\n",
    "\n",
    "gene_corrs = []\n",
    "\n",
    "pbar = tqdm(ncols=100, total=n_comb)\n",
    "i = 0\n",
    "for gene_idx1 in range(0, len(gene_chr_objs) - 1):\n",
    "    gene_obj1 = gene_chr_objs[gene_idx1]\n",
    "\n",
    "    for gene_idx2 in range(gene_idx1 + 1, len(gene_chr_objs)):\n",
    "        gene_obj2 = gene_chr_objs[gene_idx2]\n",
    "\n",
    "        pbar.set_description(f\"{gene_obj1.ensembl_id} / {gene_obj2.ensembl_id}\")\n",
    "\n",
    "        try:\n",
    "            # FIXME: compute the correlation of the sum of squares of the model using all\n",
    "            # the available tissues; this could be problematic because for some results\n",
    "            # (computed on a specific phenotype/GWAS) we might not have all the tissues\n",
    "            # available, which can certainly bias the correlation estimation.\n",
    "            # Since this depends on the GWAS on a specific phenotype, we should ideally have\n",
    "            # one correlation matrix per GWAS. I should look at how we can improve this.\n",
    "            r = gene_obj1.get_ssm_correlation(\n",
    "                other_gene=gene_obj2,\n",
    "                condition_number=SMULTIXCAN_CONDITION_NUMBER,\n",
    "                reference_panel=REFERENCE_PANEL,\n",
    "                model_type=EQTL_MODEL,\n",
    "                use_within_distance=COMPUTE_CORRELATIONS_WITHIN_DISTANCE,\n",
    "            )\n",
    "\n",
    "            if r is None:\n",
    "                # if r is None, it's very likely because:\n",
    "                #  * one of the genes has no prediction models\n",
    "                #  * all the SNPs predictors for the gene are not present in the reference\n",
    "                #    panel\n",
    "\n",
    "                r = 0.0\n",
    "\n",
    "            gene_corrs.append(r)\n",
    "        except Warning:\n",
    "            print(\n",
    "                f\"RuntimeWarning for genes {gene_obj1.ensembl_id} and {gene_obj2.ensembl_id}\",\n",
    "                flush=True,\n",
    "            )\n",
    "            import traceback\n",
    "\n",
    "            print(traceback.format_exc(), flush=True)\n",
    "        except Exception as e:\n",
    "            print(\n",
    "                f\"Exception for genes {gene_obj1.ensembl_id} and {gene_obj2.ensembl_id}\",\n",
    "                flush=True,\n",
    "            )\n",
    "            import traceback\n",
    "\n",
    "            print(traceback.format_exc(), flush=True)\n",
    "            gene_corrs.append(np.nan)\n",
    "\n",
    "        pbar.update(1)\n",
    "\n",
    "pbar.close()\n",
    "\n",
    "# testing\n",
    "gene_corrs_flat = pd.Series(gene_corrs)\n",
    "print(f\"Min/max values: {gene_corrs_flat.min()} / {gene_corrs_flat.max()}\")\n",
    "assert gene_corrs_flat.min() >= -1.001\n",
    "assert gene_corrs_flat.max() <= 1.001\n",
    "\n",
    "# save\n",
    "# FIXME: consider saving only the condenced matrix here. See here for\n",
    "# more details: https://github.com/greenelab/phenoplier/pull/38#discussion_r634600813\n",
    "gene_corrs_data = squareform(np.array(gene_corrs, dtype=np.float64))\n",
    "np.fill_diagonal(gene_corrs_data, 1.0)\n",
    "\n",
    "gene_corrs_df = pd.DataFrame(\n",
    "    data=gene_corrs_data,\n",
    "    index=gene_chr_ids,\n",
    "    columns=gene_chr_ids,\n",
    ")\n",
    "\n",
    "output_dir.mkdir(exist_ok=True, parents=True)\n",
    "display(output_file)\n",
    "\n",
    "gene_corrs_df.to_pickle(output_file)"
   ]
  },
  {
   "cell_type": "markdown",
   "id": "faa67b51-5373-470f-aa72-2ded53fa6dfe",
   "metadata": {
    "papermill": {
     "duration": 0.248638,
     "end_time": "2022-07-12T09:11:40.628060",
     "exception": false,
     "start_time": "2022-07-12T09:11:40.379422",
     "status": "completed"
    },
    "tags": []
   },
   "source": [
    "# Testing"
   ]
  },
  {
   "cell_type": "code",
   "execution_count": 34,
   "id": "14f7d046-4b55-4896-a56b-990127bcc388",
   "metadata": {
    "execution": {
     "iopub.execute_input": "2022-07-12T09:11:41.148179Z",
     "iopub.status.busy": "2022-07-12T09:11:41.147951Z",
     "iopub.status.idle": "2022-07-12T09:11:41.163962Z",
     "shell.execute_reply": "2022-07-12T09:11:41.163522Z"
    },
    "papermill": {
     "duration": 0.259866,
     "end_time": "2022-07-12T09:11:41.165137",
     "exception": false,
     "start_time": "2022-07-12T09:11:40.905271",
     "status": "completed"
    },
    "tags": []
   },
   "outputs": [
    {
     "data": {
      "text/plain": [
       "(96, 96)"
      ]
     },
     "execution_count": 34,
     "metadata": {},
     "output_type": "execute_result"
    }
   ],
   "source": [
    "gene_corrs_df.shape"
   ]
  },
  {
   "cell_type": "code",
   "execution_count": 35,
   "id": "c7d15414-3297-4537-a7c6-7588c0baeb75",
   "metadata": {
    "execution": {
     "iopub.execute_input": "2022-07-12T09:11:41.662936Z",
     "iopub.status.busy": "2022-07-12T09:11:41.662705Z",
     "iopub.status.idle": "2022-07-12T09:11:41.691633Z",
     "shell.execute_reply": "2022-07-12T09:11:41.691167Z"
    },
    "papermill": {
     "duration": 0.278671,
     "end_time": "2022-07-12T09:11:41.692830",
     "exception": false,
     "start_time": "2022-07-12T09:11:41.414159",
     "status": "completed"
    },
    "tags": []
   },
   "outputs": [
    {
     "data": {
      "text/html": [
       "<div>\n",
       "<style scoped>\n",
       "    .dataframe tbody tr th:only-of-type {\n",
       "        vertical-align: middle;\n",
       "    }\n",
       "\n",
       "    .dataframe tbody tr th {\n",
       "        vertical-align: top;\n",
       "    }\n",
       "\n",
       "    .dataframe thead th {\n",
       "        text-align: right;\n",
       "    }\n",
       "</style>\n",
       "<table border=\"1\" class=\"dataframe\">\n",
       "  <thead>\n",
       "    <tr style=\"text-align: right;\">\n",
       "      <th></th>\n",
       "      <th>ENSG00000079134</th>\n",
       "      <th>ENSG00000158270</th>\n",
       "      <th>ENSG00000176890</th>\n",
       "      <th>ENSG00000176105</th>\n",
       "      <th>ENSG00000080986</th>\n",
       "      <th>ENSG00000132205</th>\n",
       "      <th>ENSG00000101577</th>\n",
       "      <th>ENSG00000101608</th>\n",
       "      <th>ENSG00000118680</th>\n",
       "      <th>ENSG00000177426</th>\n",
       "      <th>...</th>\n",
       "      <th>ENSG00000166347</th>\n",
       "      <th>ENSG00000133313</th>\n",
       "      <th>ENSG00000166573</th>\n",
       "      <th>ENSG00000166377</th>\n",
       "      <th>ENSG00000131196</th>\n",
       "      <th>ENSG00000060069</th>\n",
       "      <th>ENSG00000178342</th>\n",
       "      <th>ENSG00000122490</th>\n",
       "      <th>ENSG00000141759</th>\n",
       "      <th>ENSG00000178184</th>\n",
       "    </tr>\n",
       "  </thead>\n",
       "  <tbody>\n",
       "    <tr>\n",
       "      <th>ENSG00000079134</th>\n",
       "      <td>1.000000</td>\n",
       "      <td>0.027327</td>\n",
       "      <td>0.010986</td>\n",
       "      <td>0.008946</td>\n",
       "      <td>0.012392</td>\n",
       "      <td>0.013924</td>\n",
       "      <td>0.019205</td>\n",
       "      <td>0.015498</td>\n",
       "      <td>0.016753</td>\n",
       "      <td>0.011800</td>\n",
       "      <td>...</td>\n",
       "      <td>0.005738</td>\n",
       "      <td>0.009734</td>\n",
       "      <td>0.009201</td>\n",
       "      <td>0.014786</td>\n",
       "      <td>0.010513</td>\n",
       "      <td>0.006651</td>\n",
       "      <td>0.012466</td>\n",
       "      <td>0.011732</td>\n",
       "      <td>0.007992</td>\n",
       "      <td>0.007723</td>\n",
       "    </tr>\n",
       "    <tr>\n",
       "      <th>ENSG00000158270</th>\n",
       "      <td>0.027327</td>\n",
       "      <td>1.000000</td>\n",
       "      <td>0.020645</td>\n",
       "      <td>0.013929</td>\n",
       "      <td>0.012565</td>\n",
       "      <td>0.019917</td>\n",
       "      <td>0.021055</td>\n",
       "      <td>0.016313</td>\n",
       "      <td>0.009864</td>\n",
       "      <td>0.010886</td>\n",
       "      <td>...</td>\n",
       "      <td>0.015717</td>\n",
       "      <td>0.014239</td>\n",
       "      <td>0.011356</td>\n",
       "      <td>0.012852</td>\n",
       "      <td>0.021515</td>\n",
       "      <td>0.016831</td>\n",
       "      <td>0.024517</td>\n",
       "      <td>0.020517</td>\n",
       "      <td>0.015021</td>\n",
       "      <td>0.015344</td>\n",
       "    </tr>\n",
       "    <tr>\n",
       "      <th>ENSG00000176890</th>\n",
       "      <td>0.010986</td>\n",
       "      <td>0.020645</td>\n",
       "      <td>1.000000</td>\n",
       "      <td>0.127420</td>\n",
       "      <td>0.017522</td>\n",
       "      <td>0.020749</td>\n",
       "      <td>0.016392</td>\n",
       "      <td>0.012178</td>\n",
       "      <td>0.009220</td>\n",
       "      <td>0.014963</td>\n",
       "      <td>...</td>\n",
       "      <td>0.013590</td>\n",
       "      <td>0.016050</td>\n",
       "      <td>0.016586</td>\n",
       "      <td>0.016665</td>\n",
       "      <td>0.022968</td>\n",
       "      <td>0.010011</td>\n",
       "      <td>0.020198</td>\n",
       "      <td>0.022834</td>\n",
       "      <td>0.017919</td>\n",
       "      <td>0.010092</td>\n",
       "    </tr>\n",
       "    <tr>\n",
       "      <th>ENSG00000176105</th>\n",
       "      <td>0.008946</td>\n",
       "      <td>0.013929</td>\n",
       "      <td>0.127420</td>\n",
       "      <td>1.000000</td>\n",
       "      <td>0.006701</td>\n",
       "      <td>0.012409</td>\n",
       "      <td>0.018957</td>\n",
       "      <td>0.007399</td>\n",
       "      <td>0.004663</td>\n",
       "      <td>0.005911</td>\n",
       "      <td>...</td>\n",
       "      <td>0.009174</td>\n",
       "      <td>0.010360</td>\n",
       "      <td>0.008155</td>\n",
       "      <td>0.008284</td>\n",
       "      <td>0.012077</td>\n",
       "      <td>0.011195</td>\n",
       "      <td>0.011727</td>\n",
       "      <td>0.012469</td>\n",
       "      <td>0.008102</td>\n",
       "      <td>0.005885</td>\n",
       "    </tr>\n",
       "    <tr>\n",
       "      <th>ENSG00000080986</th>\n",
       "      <td>0.012392</td>\n",
       "      <td>0.012565</td>\n",
       "      <td>0.017522</td>\n",
       "      <td>0.006701</td>\n",
       "      <td>1.000000</td>\n",
       "      <td>0.024703</td>\n",
       "      <td>0.019501</td>\n",
       "      <td>0.008464</td>\n",
       "      <td>0.005911</td>\n",
       "      <td>0.008447</td>\n",
       "      <td>...</td>\n",
       "      <td>0.011818</td>\n",
       "      <td>0.010497</td>\n",
       "      <td>0.010510</td>\n",
       "      <td>0.009253</td>\n",
       "      <td>0.012290</td>\n",
       "      <td>0.009363</td>\n",
       "      <td>0.012521</td>\n",
       "      <td>0.014623</td>\n",
       "      <td>0.011744</td>\n",
       "      <td>0.007300</td>\n",
       "    </tr>\n",
       "  </tbody>\n",
       "</table>\n",
       "<p>5 rows × 96 columns</p>\n",
       "</div>"
      ],
      "text/plain": [
       "                 ENSG00000079134  ENSG00000158270  ENSG00000176890  \\\n",
       "ENSG00000079134         1.000000         0.027327         0.010986   \n",
       "ENSG00000158270         0.027327         1.000000         0.020645   \n",
       "ENSG00000176890         0.010986         0.020645         1.000000   \n",
       "ENSG00000176105         0.008946         0.013929         0.127420   \n",
       "ENSG00000080986         0.012392         0.012565         0.017522   \n",
       "\n",
       "                 ENSG00000176105  ENSG00000080986  ENSG00000132205  \\\n",
       "ENSG00000079134         0.008946         0.012392         0.013924   \n",
       "ENSG00000158270         0.013929         0.012565         0.019917   \n",
       "ENSG00000176890         0.127420         0.017522         0.020749   \n",
       "ENSG00000176105         1.000000         0.006701         0.012409   \n",
       "ENSG00000080986         0.006701         1.000000         0.024703   \n",
       "\n",
       "                 ENSG00000101577  ENSG00000101608  ENSG00000118680  \\\n",
       "ENSG00000079134         0.019205         0.015498         0.016753   \n",
       "ENSG00000158270         0.021055         0.016313         0.009864   \n",
       "ENSG00000176890         0.016392         0.012178         0.009220   \n",
       "ENSG00000176105         0.018957         0.007399         0.004663   \n",
       "ENSG00000080986         0.019501         0.008464         0.005911   \n",
       "\n",
       "                 ENSG00000177426  ...  ENSG00000166347  ENSG00000133313  \\\n",
       "ENSG00000079134         0.011800  ...         0.005738         0.009734   \n",
       "ENSG00000158270         0.010886  ...         0.015717         0.014239   \n",
       "ENSG00000176890         0.014963  ...         0.013590         0.016050   \n",
       "ENSG00000176105         0.005911  ...         0.009174         0.010360   \n",
       "ENSG00000080986         0.008447  ...         0.011818         0.010497   \n",
       "\n",
       "                 ENSG00000166573  ENSG00000166377  ENSG00000131196  \\\n",
       "ENSG00000079134         0.009201         0.014786         0.010513   \n",
       "ENSG00000158270         0.011356         0.012852         0.021515   \n",
       "ENSG00000176890         0.016586         0.016665         0.022968   \n",
       "ENSG00000176105         0.008155         0.008284         0.012077   \n",
       "ENSG00000080986         0.010510         0.009253         0.012290   \n",
       "\n",
       "                 ENSG00000060069  ENSG00000178342  ENSG00000122490  \\\n",
       "ENSG00000079134         0.006651         0.012466         0.011732   \n",
       "ENSG00000158270         0.016831         0.024517         0.020517   \n",
       "ENSG00000176890         0.010011         0.020198         0.022834   \n",
       "ENSG00000176105         0.011195         0.011727         0.012469   \n",
       "ENSG00000080986         0.009363         0.012521         0.014623   \n",
       "\n",
       "                 ENSG00000141759  ENSG00000178184  \n",
       "ENSG00000079134         0.007992         0.007723  \n",
       "ENSG00000158270         0.015021         0.015344  \n",
       "ENSG00000176890         0.017919         0.010092  \n",
       "ENSG00000176105         0.008102         0.005885  \n",
       "ENSG00000080986         0.011744         0.007300  \n",
       "\n",
       "[5 rows x 96 columns]"
      ]
     },
     "execution_count": 35,
     "metadata": {},
     "output_type": "execute_result"
    }
   ],
   "source": [
    "gene_corrs_df.head()"
   ]
  },
  {
   "cell_type": "code",
   "execution_count": 36,
   "id": "286686af-1b7b-4440-8453-6bdcbd8de19c",
   "metadata": {
    "execution": {
     "iopub.execute_input": "2022-07-12T09:11:42.208283Z",
     "iopub.status.busy": "2022-07-12T09:11:42.208078Z",
     "iopub.status.idle": "2022-07-12T09:11:42.224567Z",
     "shell.execute_reply": "2022-07-12T09:11:42.224093Z"
    },
    "papermill": {
     "duration": 0.265603,
     "end_time": "2022-07-12T09:11:42.225932",
     "exception": false,
     "start_time": "2022-07-12T09:11:41.960329",
     "status": "completed"
    },
    "tags": []
   },
   "outputs": [],
   "source": [
    "assert not gene_corrs_df.isna().any().any()"
   ]
  },
  {
   "cell_type": "code",
   "execution_count": 37,
   "id": "00583efc-7068-4270-ad1e-4a418e91db96",
   "metadata": {
    "execution": {
     "iopub.execute_input": "2022-07-12T09:11:42.742451Z",
     "iopub.status.busy": "2022-07-12T09:11:42.742213Z",
     "iopub.status.idle": "2022-07-12T09:11:42.759398Z",
     "shell.execute_reply": "2022-07-12T09:11:42.758908Z"
    },
    "papermill": {
     "duration": 0.290397,
     "end_time": "2022-07-12T09:11:42.760558",
     "exception": false,
     "start_time": "2022-07-12T09:11:42.470161",
     "status": "completed"
    },
    "tags": []
   },
   "outputs": [
    {
     "data": {
      "text/plain": [
       "3.0547930950904755e-05"
      ]
     },
     "metadata": {},
     "output_type": "display_data"
    }
   ],
   "source": [
    "_min_val = gene_corrs_df.min().min()\n",
    "display(_min_val)\n",
    "assert _min_val >= 0.0"
   ]
  },
  {
   "cell_type": "code",
   "execution_count": 38,
   "id": "d04fb2cf-1050-475b-b855-f5f7cc04092b",
   "metadata": {
    "execution": {
     "iopub.execute_input": "2022-07-12T09:11:43.247080Z",
     "iopub.status.busy": "2022-07-12T09:11:43.246721Z",
     "iopub.status.idle": "2022-07-12T09:11:43.263334Z",
     "shell.execute_reply": "2022-07-12T09:11:43.262913Z"
    },
    "papermill": {
     "duration": 0.261759,
     "end_time": "2022-07-12T09:11:43.264543",
     "exception": false,
     "start_time": "2022-07-12T09:11:43.002784",
     "status": "completed"
    },
    "tags": []
   },
   "outputs": [
    {
     "data": {
      "text/plain": [
       "1.0"
      ]
     },
     "metadata": {},
     "output_type": "display_data"
    }
   ],
   "source": [
    "_max_val = gene_corrs_df.max().max()  # this captures the diagonal\n",
    "display(_max_val)\n",
    "assert _max_val <= 1.0"
   ]
  },
  {
   "cell_type": "code",
   "execution_count": 39,
   "id": "96d02c44-1fba-47be-8a93-8f2608420b9c",
   "metadata": {
    "execution": {
     "iopub.execute_input": "2022-07-12T09:11:43.781978Z",
     "iopub.status.busy": "2022-07-12T09:11:43.781772Z",
     "iopub.status.idle": "2022-07-12T09:11:43.797299Z",
     "shell.execute_reply": "2022-07-12T09:11:43.796899Z"
    },
    "papermill": {
     "duration": 0.266341,
     "end_time": "2022-07-12T09:11:43.798538",
     "exception": false,
     "start_time": "2022-07-12T09:11:43.532197",
     "status": "completed"
    },
    "tags": []
   },
   "outputs": [],
   "source": [
    "# check upper triangular values\n",
    "assert len(gene_corrs) == int(genes_chr.shape[0] * (genes_chr.shape[0] - 1) / 2)"
   ]
  },
  {
   "cell_type": "code",
   "execution_count": 40,
   "id": "aaa51627-f4e3-4744-a41f-7d25adcc0a78",
   "metadata": {
    "execution": {
     "iopub.execute_input": "2022-07-12T09:11:44.284049Z",
     "iopub.status.busy": "2022-07-12T09:11:44.283819Z",
     "iopub.status.idle": "2022-07-12T09:11:44.300299Z",
     "shell.execute_reply": "2022-07-12T09:11:44.299895Z"
    },
    "papermill": {
     "duration": 0.26308,
     "end_time": "2022-07-12T09:11:44.301603",
     "exception": false,
     "start_time": "2022-07-12T09:11:44.038523",
     "status": "completed"
    },
    "tags": []
   },
   "outputs": [],
   "source": [
    "gene_corrs = pd.Series(gene_corrs)"
   ]
  },
  {
   "cell_type": "code",
   "execution_count": 41,
   "id": "fe283586-c348-40e0-8841-f6d97bfb021c",
   "metadata": {
    "execution": {
     "iopub.execute_input": "2022-07-12T09:11:44.813742Z",
     "iopub.status.busy": "2022-07-12T09:11:44.813327Z",
     "iopub.status.idle": "2022-07-12T09:11:44.831364Z",
     "shell.execute_reply": "2022-07-12T09:11:44.830866Z"
    },
    "papermill": {
     "duration": 0.258296,
     "end_time": "2022-07-12T09:11:44.832527",
     "exception": false,
     "start_time": "2022-07-12T09:11:44.574231",
     "status": "completed"
    },
    "tags": []
   },
   "outputs": [
    {
     "data": {
      "text/plain": [
       "count    4560.000000\n",
       "mean        0.011880\n",
       "std         0.022035\n",
       "min         0.000031\n",
       "25%         0.006993\n",
       "50%         0.009915\n",
       "75%         0.013102\n",
       "max         0.703521\n",
       "dtype: float64"
      ]
     },
     "execution_count": 41,
     "metadata": {},
     "output_type": "execute_result"
    }
   ],
   "source": [
    "gene_corrs.describe()"
   ]
  },
  {
   "cell_type": "code",
   "execution_count": 42,
   "id": "b3815678-0f93-4b35-897b-a9d047a2aa78",
   "metadata": {
    "execution": {
     "iopub.execute_input": "2022-07-12T09:11:45.348323Z",
     "iopub.status.busy": "2022-07-12T09:11:45.348109Z",
     "iopub.status.idle": "2022-07-12T09:11:45.367183Z",
     "shell.execute_reply": "2022-07-12T09:11:45.366767Z"
    },
    "papermill": {
     "duration": 0.296259,
     "end_time": "2022-07-12T09:11:45.368305",
     "exception": false,
     "start_time": "2022-07-12T09:11:45.072046",
     "status": "completed"
    },
    "tags": []
   },
   "outputs": [
    {
     "data": {
      "text/plain": [
       "0.00    0.000031\n",
       "0.05    0.003285\n",
       "0.10    0.004704\n",
       "0.15    0.005631\n",
       "0.20    0.006372\n",
       "0.25    0.006993\n",
       "0.30    0.007600\n",
       "0.35    0.008289\n",
       "0.40    0.008852\n",
       "0.45    0.009382\n",
       "0.50    0.009915\n",
       "0.55    0.010503\n",
       "0.60    0.011076\n",
       "0.65    0.011723\n",
       "0.70    0.012363\n",
       "0.75    0.013102\n",
       "0.80    0.013968\n",
       "0.85    0.015065\n",
       "0.90    0.016393\n",
       "0.95    0.018652\n",
       "dtype: float64"
      ]
     },
     "metadata": {},
     "output_type": "display_data"
    }
   ],
   "source": [
    "gene_corrs_quantiles = gene_corrs.quantile(np.arange(0, 1, 0.05))\n",
    "display(gene_corrs_quantiles)"
   ]
  },
  {
   "cell_type": "markdown",
   "id": "8e60a080-edb2-4e9c-b2ef-22961693200c",
   "metadata": {
    "papermill": {
     "duration": 0.241666,
     "end_time": "2022-07-12T09:11:45.856210",
     "exception": false,
     "start_time": "2022-07-12T09:11:45.614544",
     "status": "completed"
    },
    "tags": []
   },
   "source": [
    "## Plot: distribution"
   ]
  },
  {
   "cell_type": "code",
   "execution_count": 43,
   "id": "8301126b-a7d4-4744-9c7d-f0f86eb6f54c",
   "metadata": {
    "execution": {
     "iopub.execute_input": "2022-07-12T09:11:46.383482Z",
     "iopub.status.busy": "2022-07-12T09:11:46.383283Z",
     "iopub.status.idle": "2022-07-12T09:11:48.553344Z",
     "shell.execute_reply": "2022-07-12T09:11:48.552809Z"
    },
    "papermill": {
     "duration": 2.42688,
     "end_time": "2022-07-12T09:11:48.554664",
     "exception": false,
     "start_time": "2022-07-12T09:11:46.127784",
     "status": "completed"
    },
    "tags": []
   },
   "outputs": [
    {
     "data": {
      "image/png": "[encoded data removed]",
      "text/plain": [
       "<Figure size 504x504 with 1 Axes>"
      ]
     },
     "metadata": {
      "needs_background": "light"
     },
     "output_type": "display_data"
    }
   ],
   "source": [
    "with sns.plotting_context(\"paper\", font_scale=1.5):\n",
    "    g = sns.displot(gene_corrs, kde=True, height=7)\n",
    "    g.ax.set_title(\n",
    "        f\"Distribution of gene correlation values in chromosome {chromosome}\"\n",
    "    )"
   ]
  },
  {
   "cell_type": "markdown",
   "id": "cbd52bca-d878-4a2f-b684-5c83aa3038d4",
   "metadata": {
    "papermill": {
     "duration": 0.272402,
     "end_time": "2022-07-12T09:11:49.070548",
     "exception": false,
     "start_time": "2022-07-12T09:11:48.798146",
     "status": "completed"
    },
    "tags": []
   },
   "source": [
    "## Plot: heatmap"
   ]
  },
  {
   "cell_type": "code",
   "execution_count": 44,
   "id": "d03fe63a-c7b2-4fb9-a53c-db362ce843c9",
   "metadata": {
    "execution": {
     "iopub.execute_input": "2022-07-12T09:11:49.556203Z",
     "iopub.status.busy": "2022-07-12T09:11:49.555950Z",
     "iopub.status.idle": "2022-07-12T09:11:49.573181Z",
     "shell.execute_reply": "2022-07-12T09:11:49.572703Z"
    },
    "papermill": {
     "duration": 0.263284,
     "end_time": "2022-07-12T09:11:49.574365",
     "exception": false,
     "start_time": "2022-07-12T09:11:49.311081",
     "status": "completed"
    },
    "tags": []
   },
   "outputs": [
    {
     "data": {
      "text/plain": [
       "'-0.05 / 0.05'"
      ]
     },
     "metadata": {},
     "output_type": "display_data"
    }
   ],
   "source": [
    "vmin_val = min(-0.05, gene_corrs_quantiles[0.10])\n",
    "vmax_val = max(0.05, gene_corrs_quantiles[0.90])\n",
    "display(f\"{vmin_val} / {vmax_val}\")"
   ]
  },
  {
   "cell_type": "code",
   "execution_count": 45,
   "id": "dc41b70b-5bcc-4d9e-9f33-a22c4a94dab5",
   "metadata": {
    "execution": {
     "iopub.execute_input": "2022-07-12T09:11:50.094285Z",
     "iopub.status.busy": "2022-07-12T09:11:50.094063Z",
     "iopub.status.idle": "2022-07-12T09:11:50.234277Z",
     "shell.execute_reply": "2022-07-12T09:11:50.233860Z"
    },
    "papermill": {
     "duration": 0.386025,
     "end_time": "2022-07-12T09:11:50.235410",
     "exception": false,
     "start_time": "2022-07-12T09:11:49.849385",
     "status": "completed"
    },
    "tags": []
   },
   "outputs": [
    {
     "data": {
      "text/plain": [
       "Text(0.5, 1.0, 'Gene correlations in chromosome 18')"
      ]
     },
     "execution_count": 45,
     "metadata": {},
     "output_type": "execute_result"
    },
    {
     "data": {
      "image/png": "[encoded data removed]",
      "text/plain": [
       "<Figure size 720x720 with 2 Axes>"
      ]
     },
     "metadata": {
      "needs_background": "light"
     },
     "output_type": "display_data"
    }
   ],
   "source": [
    "f, ax = plt.subplots(figsize=(10, 10))\n",
    "sns.heatmap(\n",
    "    gene_corrs_df,\n",
    "    xticklabels=False,\n",
    "    yticklabels=False,\n",
    "    square=True,\n",
    "    vmin=vmin_val,\n",
    "    vmax=vmax_val,\n",
    "    cmap=\"YlGnBu\",\n",
    "    ax=ax,\n",
    ")\n",
    "ax.set_title(f\"Gene correlations in chromosome {chromosome}\")"
   ]
  },
  {
   "cell_type": "code",
   "execution_count": null,
   "id": "b25e3ead",
   "metadata": {
    "papermill": {
     "duration": 0.244322,
     "end_time": "2022-07-12T09:11:50.726442",
     "exception": false,
     "start_time": "2022-07-12T09:11:50.482120",
     "status": "completed"
    },
    "tags": []
   },
   "outputs": [],
   "source": []
  }
 ],
 "metadata": {
  "jupytext": {
   "cell_metadata_filter": "all,-execution,-papermill,-trusted",
   "formats": "ipynb,py//py:percent"
  },
  "kernelspec": {
   "display_name": "Python 3 (ipykernel)",
   "language": "python",
   "name": "python3"
  },
  "language_info": {
   "codemirror_mode": {
    "name": "ipython",
    "version": 3
   },
   "file_extension": ".py",
   "mimetype": "text/x-python",
   "name": "python",
   "nbconvert_exporter": "python",
   "pygments_lexer": "ipython3",
   "version": "3.8.13"
  },
  "papermill": {
   "default_parameters": {},
   "duration": 436.594703,
   "end_time": "2022-07-12T09:11:54.543888",
   "environment_variables": {},
   "exception": null,
   "input_path": "nbs/15_gsa_gls/10-gene_expr_correlations.ipynb",
   "output_path": "nbs/15_gsa_gls/gene_corrs/1000g/mashr/10-gene_expr_correlations-chr18.run.ipynb",
   "parameters": {
    "EQTL_MODEL": "MASHR",
    "REFERENCE_PANEL": "1000G",
    "chromosome": 18
   },
   "start_time": "2022-07-12T09:04:37.949185",
   "version": "2.2.2"
  }
 },
 "nbformat": 4,
 "nbformat_minor": 5
}
