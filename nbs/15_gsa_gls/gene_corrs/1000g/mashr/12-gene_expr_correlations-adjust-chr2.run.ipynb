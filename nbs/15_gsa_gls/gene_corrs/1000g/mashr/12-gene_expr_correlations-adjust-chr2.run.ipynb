{
 "cells": [
  {
   "cell_type": "markdown",
   "id": "28fc82fa-c3f6-4184-8054-cc91c7c6e2e7",
   "metadata": {
    "papermill": {
     "duration": 0.003587,
     "end_time": "2022-07-11T13:17:25.150512",
     "exception": false,
     "start_time": "2022-07-11T13:17:25.146925",
     "status": "completed"
    },
    "tags": []
   },
   "source": [
    "# Description"
   ]
  },
  {
   "cell_type": "markdown",
   "id": "36839b17-916e-4aec-8fee-96faf1097e78",
   "metadata": {
    "papermill": {
     "duration": 0.003181,
     "end_time": "2022-07-11T13:17:25.156848",
     "exception": false,
     "start_time": "2022-07-11T13:17:25.153667",
     "status": "completed"
    },
    "tags": []
   },
   "source": [
    "**TODO**"
   ]
  },
  {
   "cell_type": "markdown",
   "id": "249e8aa3-ef1a-4bba-a6dd-58120ad80794",
   "metadata": {
    "papermill": {
     "duration": 0.0032,
     "end_time": "2022-07-11T13:17:25.163484",
     "exception": false,
     "start_time": "2022-07-11T13:17:25.160284",
     "status": "completed"
    },
    "tags": []
   },
   "source": [
    "# Modules"
   ]
  },
  {
   "cell_type": "code",
   "execution_count": 1,
   "id": "f9b5022b-7c5e-4d37-9c7a-fdb91777c7f9",
   "metadata": {
    "execution": {
     "iopub.execute_input": "2022-07-11T13:17:25.176102Z",
     "iopub.status.busy": "2022-07-11T13:17:25.172586Z",
     "iopub.status.idle": "2022-07-11T13:17:28.547097Z",
     "shell.execute_reply": "2022-07-11T13:17:28.545778Z"
    },
    "papermill": {
     "duration": 3.381682,
     "end_time": "2022-07-11T13:17:28.548802",
     "exception": false,
     "start_time": "2022-07-11T13:17:25.167120",
     "status": "completed"
    },
    "tags": []
   },
   "outputs": [],
   "source": [
    "library(reticulate)\n",
    "pd <- import(\"pandas\")"
   ]
  },
  {
   "cell_type": "markdown",
   "id": "69e80173-3a39-4b6a-b723-602687cb255b",
   "metadata": {
    "papermill": {
     "duration": 0.003392,
     "end_time": "2022-07-11T13:17:28.555766",
     "exception": false,
     "start_time": "2022-07-11T13:17:28.552374",
     "status": "completed"
    },
    "tags": []
   },
   "source": [
    "# Settings"
   ]
  },
  {
   "cell_type": "code",
   "execution_count": 2,
   "id": "22d12bb4-1699-4a6b-b1b9-d3fdd3d547d7",
   "metadata": {
    "execution": {
     "iopub.execute_input": "2022-07-11T13:17:28.588767Z",
     "iopub.status.busy": "2022-07-11T13:17:28.564338Z",
     "iopub.status.idle": "2022-07-11T13:17:28.601649Z",
     "shell.execute_reply": "2022-07-11T13:17:28.600395Z"
    },
    "papermill": {
     "duration": 0.043934,
     "end_time": "2022-07-11T13:17:28.603397",
     "exception": false,
     "start_time": "2022-07-11T13:17:28.559463",
     "status": "completed"
    },
    "tags": [
     "parameters"
    ]
   },
   "outputs": [],
   "source": [
    "# reference panel\n",
    "REFERENCE_PANEL <- \"GTEX_V8\"\n",
    "# REFERENCE_PANEL = \"1000G\"\n",
    "\n",
    "# prediction models\n",
    "## mashr\n",
    "EQTL_MODEL <- \"MASHR\"\n",
    "\n",
    "chromosome <- NULL"
   ]
  },
  {
   "cell_type": "code",
   "execution_count": 3,
   "id": "7aab2253",
   "metadata": {
    "execution": {
     "iopub.execute_input": "2022-07-11T13:17:28.612881Z",
     "iopub.status.busy": "2022-07-11T13:17:28.611682Z",
     "iopub.status.idle": "2022-07-11T13:17:28.630445Z",
     "shell.execute_reply": "2022-07-11T13:17:28.629183Z"
    },
    "papermill": {
     "duration": 0.025205,
     "end_time": "2022-07-11T13:17:28.632267",
     "exception": false,
     "start_time": "2022-07-11T13:17:28.607062",
     "status": "completed"
    },
    "tags": [
     "injected-parameters"
    ]
   },
   "outputs": [],
   "source": [
    "# Parameters\n",
    "chromosome = 2\n",
    "REFERENCE_PANEL = \"1000G\"\n",
    "EQTL_MODEL = \"MASHR\"\n"
   ]
  },
  {
   "cell_type": "code",
   "execution_count": 4,
   "id": "8fe24bef",
   "metadata": {
    "execution": {
     "iopub.execute_input": "2022-07-11T13:17:28.641824Z",
     "iopub.status.busy": "2022-07-11T13:17:28.640785Z",
     "iopub.status.idle": "2022-07-11T13:17:28.653678Z",
     "shell.execute_reply": "2022-07-11T13:17:28.652458Z"
    },
    "papermill": {
     "duration": 0.019415,
     "end_time": "2022-07-11T13:17:28.655432",
     "exception": false,
     "start_time": "2022-07-11T13:17:28.636017",
     "status": "completed"
    },
    "tags": []
   },
   "outputs": [
    {
     "data": {
      "text/html": [
       "'Using reference panel: 1000G'"
      ],
      "text/latex": [
       "'Using reference panel: 1000G'"
      ],
      "text/markdown": [
       "'Using reference panel: 1000G'"
      ],
      "text/plain": [
       "[1] \"Using reference panel: 1000G\""
      ]
     },
     "metadata": {},
     "output_type": "display_data"
    }
   ],
   "source": [
    "paste0(\"Using reference panel: \", REFERENCE_PANEL)"
   ]
  },
  {
   "cell_type": "code",
   "execution_count": 5,
   "id": "d62c28f8-186c-478b-948c-58e14f00df4b",
   "metadata": {
    "execution": {
     "iopub.execute_input": "2022-07-11T13:17:28.665134Z",
     "iopub.status.busy": "2022-07-11T13:17:28.664014Z",
     "iopub.status.idle": "2022-07-11T13:17:28.676569Z",
     "shell.execute_reply": "2022-07-11T13:17:28.675188Z"
    },
    "papermill": {
     "duration": 0.01942,
     "end_time": "2022-07-11T13:17:28.678688",
     "exception": false,
     "start_time": "2022-07-11T13:17:28.659268",
     "status": "completed"
    },
    "tags": []
   },
   "outputs": [
    {
     "data": {
      "text/html": [
       "'Using eQTL model: MASHR'"
      ],
      "text/latex": [
       "'Using eQTL model: MASHR'"
      ],
      "text/markdown": [
       "'Using eQTL model: MASHR'"
      ],
      "text/plain": [
       "[1] \"Using eQTL model: MASHR\""
      ]
     },
     "metadata": {},
     "output_type": "display_data"
    }
   ],
   "source": [
    "paste0(\"Using eQTL model: \", EQTL_MODEL)"
   ]
  },
  {
   "cell_type": "code",
   "execution_count": 6,
   "id": "5243676f-c889-4405-9a4d-262f0f044614",
   "metadata": {
    "execution": {
     "iopub.execute_input": "2022-07-11T13:17:28.689128Z",
     "iopub.status.busy": "2022-07-11T13:17:28.688000Z",
     "iopub.status.idle": "2022-07-11T13:17:28.697853Z",
     "shell.execute_reply": "2022-07-11T13:17:28.696621Z"
    },
    "papermill": {
     "duration": 0.016926,
     "end_time": "2022-07-11T13:17:28.699716",
     "exception": false,
     "start_time": "2022-07-11T13:17:28.682790",
     "status": "completed"
    },
    "tags": []
   },
   "outputs": [],
   "source": [
    "# chromosome must be provided as parameter\n",
    "stopifnot(!is.null(chromosome))"
   ]
  },
  {
   "cell_type": "markdown",
   "id": "c05e4d34-e115-48cd-8a2e-225109eb0042",
   "metadata": {
    "papermill": {
     "duration": 0.004104,
     "end_time": "2022-07-11T13:17:28.707968",
     "exception": false,
     "start_time": "2022-07-11T13:17:28.703864",
     "status": "completed"
    },
    "tags": []
   },
   "source": [
    "# Paths"
   ]
  },
  {
   "cell_type": "code",
   "execution_count": 7,
   "id": "eb6aa8aa-b452-4a2f-a780-93dd80ad4285",
   "metadata": {
    "execution": {
     "iopub.execute_input": "2022-07-11T13:17:28.718544Z",
     "iopub.status.busy": "2022-07-11T13:17:28.717442Z",
     "iopub.status.idle": "2022-07-11T13:17:28.730762Z",
     "shell.execute_reply": "2022-07-11T13:17:28.729466Z"
    },
    "papermill": {
     "duration": 0.020309,
     "end_time": "2022-07-11T13:17:28.732651",
     "exception": false,
     "start_time": "2022-07-11T13:17:28.712342",
     "status": "completed"
    },
    "tags": []
   },
   "outputs": [
    {
     "data": {
      "text/html": [
       "'/opt/data/data/phenomexcan/ld_blocks/gene_corrs'"
      ],
      "text/latex": [
       "'/opt/data/data/phenomexcan/ld\\_blocks/gene\\_corrs'"
      ],
      "text/markdown": [
       "'/opt/data/data/phenomexcan/ld_blocks/gene_corrs'"
      ],
      "text/plain": [
       "[1] \"/opt/data/data/phenomexcan/ld_blocks/gene_corrs\""
      ]
     },
     "metadata": {},
     "output_type": "display_data"
    }
   ],
   "source": [
    "GENE_CORRS_DIR <- Sys.getenv(\"PHENOPLIER_PHENOMEXCAN_LD_BLOCKS_GENE_CORRS_DIR\")\n",
    "IRdisplay::display(GENE_CORRS_DIR)"
   ]
  },
  {
   "cell_type": "code",
   "execution_count": 8,
   "id": "eb24f15f-f282-4476-8943-8413c4483f12",
   "metadata": {
    "execution": {
     "iopub.execute_input": "2022-07-11T13:17:28.743114Z",
     "iopub.status.busy": "2022-07-11T13:17:28.742040Z",
     "iopub.status.idle": "2022-07-11T13:17:28.756203Z",
     "shell.execute_reply": "2022-07-11T13:17:28.754868Z"
    },
    "papermill": {
     "duration": 0.021127,
     "end_time": "2022-07-11T13:17:28.758016",
     "exception": false,
     "start_time": "2022-07-11T13:17:28.736889",
     "status": "completed"
    },
    "tags": []
   },
   "outputs": [
    {
     "data": {
      "text/html": [
       "'/opt/data/data/phenomexcan/ld_blocks/gene_corrs/1000g/mashr/by_chr'"
      ],
      "text/latex": [
       "'/opt/data/data/phenomexcan/ld\\_blocks/gene\\_corrs/1000g/mashr/by\\_chr'"
      ],
      "text/markdown": [
       "'/opt/data/data/phenomexcan/ld_blocks/gene_corrs/1000g/mashr/by_chr'"
      ],
      "text/plain": [
       "[1] \"/opt/data/data/phenomexcan/ld_blocks/gene_corrs/1000g/mashr/by_chr\""
      ]
     },
     "metadata": {},
     "output_type": "display_data"
    }
   ],
   "source": [
    "INPUT_DIR <- file.path(GENE_CORRS_DIR, tolower(REFERENCE_PANEL), tolower(EQTL_MODEL), \"by_chr\")\n",
    "IRdisplay::display(INPUT_DIR)"
   ]
  },
  {
   "cell_type": "code",
   "execution_count": 9,
   "id": "43c1daba-0da9-4822-8d1e-968e9767e251",
   "metadata": {
    "execution": {
     "iopub.execute_input": "2022-07-11T13:17:28.769066Z",
     "iopub.status.busy": "2022-07-11T13:17:28.767995Z",
     "iopub.status.idle": "2022-07-11T13:17:28.783176Z",
     "shell.execute_reply": "2022-07-11T13:17:28.781896Z"
    },
    "papermill": {
     "duration": 0.025267,
     "end_time": "2022-07-11T13:17:28.787963",
     "exception": false,
     "start_time": "2022-07-11T13:17:28.762696",
     "status": "completed"
    },
    "tags": []
   },
   "outputs": [
    {
     "data": {
      "text/html": [
       "'/opt/data/data/phenomexcan/ld_blocks/gene_corrs/1000g/mashr/by_chr/gene_corrs-chr2.pkl'"
      ],
      "text/latex": [
       "'/opt/data/data/phenomexcan/ld\\_blocks/gene\\_corrs/1000g/mashr/by\\_chr/gene\\_corrs-chr2.pkl'"
      ],
      "text/markdown": [
       "'/opt/data/data/phenomexcan/ld_blocks/gene_corrs/1000g/mashr/by_chr/gene_corrs-chr2.pkl'"
      ],
      "text/plain": [
       "[1] \"/opt/data/data/phenomexcan/ld_blocks/gene_corrs/1000g/mashr/by_chr/gene_corrs-chr2.pkl\""
      ]
     },
     "metadata": {},
     "output_type": "display_data"
    }
   ],
   "source": [
    "INPUT_FILE <- file.path(INPUT_DIR, paste0(\"gene_corrs-chr\", chromosome, \".pkl\"))\n",
    "IRdisplay::display(INPUT_FILE)\n",
    "stopifnot(file.exists(INPUT_FILE))"
   ]
  },
  {
   "cell_type": "code",
   "execution_count": 10,
   "id": "72386fbf-982b-420a-9057-ea9a97a5e571",
   "metadata": {
    "execution": {
     "iopub.execute_input": "2022-07-11T13:17:28.798817Z",
     "iopub.status.busy": "2022-07-11T13:17:28.797701Z",
     "iopub.status.idle": "2022-07-11T13:17:28.814583Z",
     "shell.execute_reply": "2022-07-11T13:17:28.812528Z"
    },
    "papermill": {
     "duration": 0.024028,
     "end_time": "2022-07-11T13:17:28.816424",
     "exception": false,
     "start_time": "2022-07-11T13:17:28.792396",
     "status": "completed"
    },
    "tags": []
   },
   "outputs": [
    {
     "data": {
      "text/html": [
       "'/opt/data/data/phenomexcan/ld_blocks/gene_corrs/1000g/mashr/by_chr/corrected_positive_definite'"
      ],
      "text/latex": [
       "'/opt/data/data/phenomexcan/ld\\_blocks/gene\\_corrs/1000g/mashr/by\\_chr/corrected\\_positive\\_definite'"
      ],
      "text/markdown": [
       "'/opt/data/data/phenomexcan/ld_blocks/gene_corrs/1000g/mashr/by_chr/corrected_positive_definite'"
      ],
      "text/plain": [
       "[1] \"/opt/data/data/phenomexcan/ld_blocks/gene_corrs/1000g/mashr/by_chr/corrected_positive_definite\""
      ]
     },
     "metadata": {},
     "output_type": "display_data"
    }
   ],
   "source": [
    "OUTPUT_DIR <- file.path(INPUT_DIR, \"corrected_positive_definite\")\n",
    "IRdisplay::display(OUTPUT_DIR)\n",
    "dir.create(OUTPUT_DIR, recursive = TRUE, showWarnings = FALSE)"
   ]
  },
  {
   "cell_type": "code",
   "execution_count": 11,
   "id": "f9f19d1d-ce4c-4099-a26e-250fec751de7",
   "metadata": {
    "execution": {
     "iopub.execute_input": "2022-07-11T13:17:28.827278Z",
     "iopub.status.busy": "2022-07-11T13:17:28.826258Z",
     "iopub.status.idle": "2022-07-11T13:17:28.843120Z",
     "shell.execute_reply": "2022-07-11T13:17:28.841172Z"
    },
    "papermill": {
     "duration": 0.023865,
     "end_time": "2022-07-11T13:17:28.844884",
     "exception": false,
     "start_time": "2022-07-11T13:17:28.821019",
     "status": "completed"
    },
    "tags": []
   },
   "outputs": [
    {
     "data": {
      "text/html": [
       "'/opt/data/data/phenomexcan/ld_blocks/gene_corrs/1000g/mashr/by_chr/corrected_positive_definite/gene_corrs-chr2.pkl'"
      ],
      "text/latex": [
       "'/opt/data/data/phenomexcan/ld\\_blocks/gene\\_corrs/1000g/mashr/by\\_chr/corrected\\_positive\\_definite/gene\\_corrs-chr2.pkl'"
      ],
      "text/markdown": [
       "'/opt/data/data/phenomexcan/ld_blocks/gene_corrs/1000g/mashr/by_chr/corrected_positive_definite/gene_corrs-chr2.pkl'"
      ],
      "text/plain": [
       "[1] \"/opt/data/data/phenomexcan/ld_blocks/gene_corrs/1000g/mashr/by_chr/corrected_positive_definite/gene_corrs-chr2.pkl\""
      ]
     },
     "metadata": {},
     "output_type": "display_data"
    }
   ],
   "source": [
    "OUTPUT_FILE <- file.path(OUTPUT_DIR, paste0(\"gene_corrs-chr\", chromosome, \".pkl\"))\n",
    "IRdisplay::display(OUTPUT_FILE)\n",
    "if (file.exists(OUTPUT_FILE)) {\n",
    "  IRdisplay::display(\"Output file exists, it will be overwritten\")\n",
    "}"
   ]
  },
  {
   "cell_type": "markdown",
   "id": "24973e62-e888-4b56-843f-489d8d0762b5",
   "metadata": {
    "papermill": {
     "duration": 0.004491,
     "end_time": "2022-07-11T13:17:28.853818",
     "exception": false,
     "start_time": "2022-07-11T13:17:28.849327",
     "status": "completed"
    },
    "tags": []
   },
   "source": [
    "# Functions"
   ]
  },
  {
   "cell_type": "code",
   "execution_count": 12,
   "id": "f828f081-7358-4cc8-8a89-1ee293bcc1a7",
   "metadata": {
    "execution": {
     "iopub.execute_input": "2022-07-11T13:17:28.869737Z",
     "iopub.status.busy": "2022-07-11T13:17:28.863780Z",
     "iopub.status.idle": "2022-07-11T13:17:28.880260Z",
     "shell.execute_reply": "2022-07-11T13:17:28.878166Z"
    },
    "papermill": {
     "duration": 0.023558,
     "end_time": "2022-07-11T13:17:28.881923",
     "exception": false,
     "start_time": "2022-07-11T13:17:28.858365",
     "status": "completed"
    },
    "tags": []
   },
   "outputs": [],
   "source": [
    "# taken from https://www.r-bloggers.com/2013/08/correcting-a-pseudo-correlation-matrix-to-be-positive-semidefinite/\n",
    "# TODO: add documentation\n",
    "CorrectCM <- function(CM, p = 0) {\n",
    "  n <- dim(var(CM))[1L]\n",
    "  E <- eigen(CM)\n",
    "  CM1 <- E$vectors %*% tcrossprod(diag(pmax(E$values, p), n), E$vectors)\n",
    "  Balance <- diag(1 / sqrt(diag(CM1)))\n",
    "  CM2 <- Balance %*% CM1 %*% Balance\n",
    "  return(CM2)\n",
    "}"
   ]
  },
  {
   "cell_type": "code",
   "execution_count": 13,
   "id": "7ab9bebf-50a1-4e6f-b16a-e23cae93d02a",
   "metadata": {
    "execution": {
     "iopub.execute_input": "2022-07-11T13:17:28.892967Z",
     "iopub.status.busy": "2022-07-11T13:17:28.891906Z",
     "iopub.status.idle": "2022-07-11T13:17:28.903079Z",
     "shell.execute_reply": "2022-07-11T13:17:28.901058Z"
    },
    "papermill": {
     "duration": 0.018345,
     "end_time": "2022-07-11T13:17:28.904784",
     "exception": false,
     "start_time": "2022-07-11T13:17:28.886439",
     "status": "completed"
    },
    "tags": []
   },
   "outputs": [],
   "source": [
    "is_positive_definite <- function(data) {\n",
    "  # eigenvalues <- eigen(data)$values\n",
    "  # nonpositive_eigenvalues <- eigenvalues[eigenvalues <= 0]\n",
    "\n",
    "  cholStatus <- try(u <- chol(data), silent = FALSE)\n",
    "  cholError <- ifelse(class(cholStatus) == \"try-error\", TRUE, FALSE)\n",
    "\n",
    "  if (cholError) {\n",
    "    return(FALSE)\n",
    "  } else {\n",
    "    return(TRUE)\n",
    "  }\n",
    "}"
   ]
  },
  {
   "cell_type": "markdown",
   "id": "7403fd78-00b2-4941-9c07-3c3af1ddc636",
   "metadata": {
    "papermill": {
     "duration": 0.004461,
     "end_time": "2022-07-11T13:17:28.914273",
     "exception": false,
     "start_time": "2022-07-11T13:17:28.909812",
     "status": "completed"
    },
    "tags": []
   },
   "source": [
    "# Load data"
   ]
  },
  {
   "cell_type": "code",
   "execution_count": 14,
   "id": "3a7744e1-2e5a-450e-9dcf-945ec181347d",
   "metadata": {
    "execution": {
     "iopub.execute_input": "2022-07-11T13:17:28.924590Z",
     "iopub.status.busy": "2022-07-11T13:17:28.923573Z",
     "iopub.status.idle": "2022-07-11T13:17:28.998321Z",
     "shell.execute_reply": "2022-07-11T13:17:28.997033Z"
    },
    "papermill": {
     "duration": 0.081575,
     "end_time": "2022-07-11T13:17:29.000113",
     "exception": false,
     "start_time": "2022-07-11T13:17:28.918538",
     "status": "completed"
    },
    "tags": []
   },
   "outputs": [],
   "source": [
    "gene_corrs <- pd$read_pickle(INPUT_FILE)"
   ]
  },
  {
   "cell_type": "code",
   "execution_count": 15,
   "id": "6fb150b2-4c68-4e9b-9aa5-1890d3f762e3",
   "metadata": {
    "execution": {
     "iopub.execute_input": "2022-07-11T13:17:29.012455Z",
     "iopub.status.busy": "2022-07-11T13:17:29.011321Z",
     "iopub.status.idle": "2022-07-11T13:17:29.023835Z",
     "shell.execute_reply": "2022-07-11T13:17:29.022354Z"
    },
    "papermill": {
     "duration": 0.02054,
     "end_time": "2022-07-11T13:17:29.025751",
     "exception": false,
     "start_time": "2022-07-11T13:17:29.005211",
     "status": "completed"
    },
    "tags": []
   },
   "outputs": [
    {
     "data": {
      "text/html": [
       "<style>\n",
       ".list-inline {list-style: none; margin:0; padding: 0}\n",
       ".list-inline>li {display: inline-block}\n",
       ".list-inline>li:not(:last-child)::after {content: \"\\00b7\"; padding: 0 .5ex}\n",
       "</style>\n",
       "<ol class=list-inline><li>445</li><li>445</li></ol>\n"
      ],
      "text/latex": [
       "\\begin{enumerate*}\n",
       "\\item 445\n",
       "\\item 445\n",
       "\\end{enumerate*}\n"
      ],
      "text/markdown": [
       "1. 445\n",
       "2. 445\n",
       "\n",
       "\n"
      ],
      "text/plain": [
       "[1] 445 445"
      ]
     },
     "metadata": {},
     "output_type": "display_data"
    }
   ],
   "source": [
    "dim(gene_corrs)"
   ]
  },
  {
   "cell_type": "code",
   "execution_count": 16,
   "id": "0d4e53b5-7586-4a68-8ce5-d930d74ba943",
   "metadata": {
    "execution": {
     "iopub.execute_input": "2022-07-11T13:17:29.038172Z",
     "iopub.status.busy": "2022-07-11T13:17:29.037074Z",
     "iopub.status.idle": "2022-07-11T13:17:29.060111Z",
     "shell.execute_reply": "2022-07-11T13:17:29.058783Z"
    },
    "papermill": {
     "duration": 0.031142,
     "end_time": "2022-07-11T13:17:29.061891",
     "exception": false,
     "start_time": "2022-07-11T13:17:29.030749",
     "status": "completed"
    },
    "tags": []
   },
   "outputs": [
    {
     "data": {
      "text/html": [
       "<table class=\"dataframe\">\n",
       "<caption>A data.frame: 6 × 10</caption>\n",
       "<thead>\n",
       "\t<tr><th></th><th scope=col>ENSG00000143727</th><th scope=col>ENSG00000115705</th><th scope=col>ENSG00000130508</th><th scope=col>ENSG00000182551</th><th scope=col>ENSG00000171865</th><th scope=col>ENSG00000171863</th><th scope=col>ENSG00000134326</th><th scope=col>ENSG00000134321</th><th scope=col>ENSG00000115738</th><th scope=col>ENSG00000134313</th></tr>\n",
       "\t<tr><th></th><th scope=col>&lt;dbl&gt;</th><th scope=col>&lt;dbl&gt;</th><th scope=col>&lt;dbl&gt;</th><th scope=col>&lt;dbl&gt;</th><th scope=col>&lt;dbl&gt;</th><th scope=col>&lt;dbl&gt;</th><th scope=col>&lt;dbl&gt;</th><th scope=col>&lt;dbl&gt;</th><th scope=col>&lt;dbl&gt;</th><th scope=col>&lt;dbl&gt;</th></tr>\n",
       "</thead>\n",
       "<tbody>\n",
       "\t<tr><th scope=row>ENSG00000143727</th><td>1.000000000</td><td>0.010931472</td><td>0.009968052</td><td>0.00988758</td><td>0.01396987</td><td>0.009624337</td><td>0.000000000</td><td>0.000000000</td><td>0</td><td>0</td></tr>\n",
       "\t<tr><th scope=row>ENSG00000115705</th><td>0.010931472</td><td>1.000000000</td><td>0.032124187</td><td>0.01425489</td><td>0.01534491</td><td>0.005077138</td><td>0.000000000</td><td>0.000000000</td><td>0</td><td>0</td></tr>\n",
       "\t<tr><th scope=row>ENSG00000130508</th><td>0.009968052</td><td>0.032124187</td><td>1.000000000</td><td>0.01149480</td><td>0.01807399</td><td>0.009865334</td><td>0.000000000</td><td>0.000000000</td><td>0</td><td>0</td></tr>\n",
       "\t<tr><th scope=row>ENSG00000182551</th><td>0.009887580</td><td>0.014254887</td><td>0.011494798</td><td>1.00000000</td><td>0.13845306</td><td>0.232627265</td><td>0.007882798</td><td>0.005280475</td><td>0</td><td>0</td></tr>\n",
       "\t<tr><th scope=row>ENSG00000171865</th><td>0.013969871</td><td>0.015344908</td><td>0.018073988</td><td>0.13845306</td><td>1.00000000</td><td>0.132968656</td><td>0.015524953</td><td>0.009595429</td><td>0</td><td>0</td></tr>\n",
       "\t<tr><th scope=row>ENSG00000171863</th><td>0.009624337</td><td>0.005077138</td><td>0.009865334</td><td>0.23262727</td><td>0.13296866</td><td>1.000000000</td><td>0.008745160</td><td>0.008610076</td><td>0</td><td>0</td></tr>\n",
       "</tbody>\n",
       "</table>\n"
      ],
      "text/latex": [
       "A data.frame: 6 × 10\n",
       "\\begin{tabular}{r|llllllllll}\n",
       "  & ENSG00000143727 & ENSG00000115705 & ENSG00000130508 & ENSG00000182551 & ENSG00000171865 & ENSG00000171863 & ENSG00000134326 & ENSG00000134321 & ENSG00000115738 & ENSG00000134313\\\\\n",
       "  & <dbl> & <dbl> & <dbl> & <dbl> & <dbl> & <dbl> & <dbl> & <dbl> & <dbl> & <dbl>\\\\\n",
       "\\hline\n",
       "\tENSG00000143727 & 1.000000000 & 0.010931472 & 0.009968052 & 0.00988758 & 0.01396987 & 0.009624337 & 0.000000000 & 0.000000000 & 0 & 0\\\\\n",
       "\tENSG00000115705 & 0.010931472 & 1.000000000 & 0.032124187 & 0.01425489 & 0.01534491 & 0.005077138 & 0.000000000 & 0.000000000 & 0 & 0\\\\\n",
       "\tENSG00000130508 & 0.009968052 & 0.032124187 & 1.000000000 & 0.01149480 & 0.01807399 & 0.009865334 & 0.000000000 & 0.000000000 & 0 & 0\\\\\n",
       "\tENSG00000182551 & 0.009887580 & 0.014254887 & 0.011494798 & 1.00000000 & 0.13845306 & 0.232627265 & 0.007882798 & 0.005280475 & 0 & 0\\\\\n",
       "\tENSG00000171865 & 0.013969871 & 0.015344908 & 0.018073988 & 0.13845306 & 1.00000000 & 0.132968656 & 0.015524953 & 0.009595429 & 0 & 0\\\\\n",
       "\tENSG00000171863 & 0.009624337 & 0.005077138 & 0.009865334 & 0.23262727 & 0.13296866 & 1.000000000 & 0.008745160 & 0.008610076 & 0 & 0\\\\\n",
       "\\end{tabular}\n"
      ],
      "text/markdown": [
       "\n",
       "A data.frame: 6 × 10\n",
       "\n",
       "| <!--/--> | ENSG00000143727 &lt;dbl&gt; | ENSG00000115705 &lt;dbl&gt; | ENSG00000130508 &lt;dbl&gt; | ENSG00000182551 &lt;dbl&gt; | ENSG00000171865 &lt;dbl&gt; | ENSG00000171863 &lt;dbl&gt; | ENSG00000134326 &lt;dbl&gt; | ENSG00000134321 &lt;dbl&gt; | ENSG00000115738 &lt;dbl&gt; | ENSG00000134313 &lt;dbl&gt; |\n",
       "|---|---|---|---|---|---|---|---|---|---|---|\n",
       "| ENSG00000143727 | 1.000000000 | 0.010931472 | 0.009968052 | 0.00988758 | 0.01396987 | 0.009624337 | 0.000000000 | 0.000000000 | 0 | 0 |\n",
       "| ENSG00000115705 | 0.010931472 | 1.000000000 | 0.032124187 | 0.01425489 | 0.01534491 | 0.005077138 | 0.000000000 | 0.000000000 | 0 | 0 |\n",
       "| ENSG00000130508 | 0.009968052 | 0.032124187 | 1.000000000 | 0.01149480 | 0.01807399 | 0.009865334 | 0.000000000 | 0.000000000 | 0 | 0 |\n",
       "| ENSG00000182551 | 0.009887580 | 0.014254887 | 0.011494798 | 1.00000000 | 0.13845306 | 0.232627265 | 0.007882798 | 0.005280475 | 0 | 0 |\n",
       "| ENSG00000171865 | 0.013969871 | 0.015344908 | 0.018073988 | 0.13845306 | 1.00000000 | 0.132968656 | 0.015524953 | 0.009595429 | 0 | 0 |\n",
       "| ENSG00000171863 | 0.009624337 | 0.005077138 | 0.009865334 | 0.23262727 | 0.13296866 | 1.000000000 | 0.008745160 | 0.008610076 | 0 | 0 |\n",
       "\n"
      ],
      "text/plain": [
       "                ENSG00000143727 ENSG00000115705 ENSG00000130508 ENSG00000182551\n",
       "ENSG00000143727 1.000000000     0.010931472     0.009968052     0.00988758     \n",
       "ENSG00000115705 0.010931472     1.000000000     0.032124187     0.01425489     \n",
       "ENSG00000130508 0.009968052     0.032124187     1.000000000     0.01149480     \n",
       "ENSG00000182551 0.009887580     0.014254887     0.011494798     1.00000000     \n",
       "ENSG00000171865 0.013969871     0.015344908     0.018073988     0.13845306     \n",
       "ENSG00000171863 0.009624337     0.005077138     0.009865334     0.23262727     \n",
       "                ENSG00000171865 ENSG00000171863 ENSG00000134326 ENSG00000134321\n",
       "ENSG00000143727 0.01396987      0.009624337     0.000000000     0.000000000    \n",
       "ENSG00000115705 0.01534491      0.005077138     0.000000000     0.000000000    \n",
       "ENSG00000130508 0.01807399      0.009865334     0.000000000     0.000000000    \n",
       "ENSG00000182551 0.13845306      0.232627265     0.007882798     0.005280475    \n",
       "ENSG00000171865 1.00000000      0.132968656     0.015524953     0.009595429    \n",
       "ENSG00000171863 0.13296866      1.000000000     0.008745160     0.008610076    \n",
       "                ENSG00000115738 ENSG00000134313\n",
       "ENSG00000143727 0               0              \n",
       "ENSG00000115705 0               0              \n",
       "ENSG00000130508 0               0              \n",
       "ENSG00000182551 0               0              \n",
       "ENSG00000171865 0               0              \n",
       "ENSG00000171863 0               0              "
      ]
     },
     "metadata": {},
     "output_type": "display_data"
    }
   ],
   "source": [
    "head(gene_corrs[1:10, 1:10])"
   ]
  },
  {
   "cell_type": "markdown",
   "id": "d6cbc88a-2c90-4d11-b7dd-434f046fd03c",
   "metadata": {
    "papermill": {
     "duration": 0.005128,
     "end_time": "2022-07-11T13:17:29.072493",
     "exception": false,
     "start_time": "2022-07-11T13:17:29.067365",
     "status": "completed"
    },
    "tags": []
   },
   "source": [
    "# Check positive definiteness"
   ]
  },
  {
   "cell_type": "code",
   "execution_count": 17,
   "id": "a858a061-7c5a-4a6b-8026-fe4de50c1f26",
   "metadata": {
    "execution": {
     "iopub.execute_input": "2022-07-11T13:17:29.085510Z",
     "iopub.status.busy": "2022-07-11T13:17:29.084378Z",
     "iopub.status.idle": "2022-07-11T13:17:29.105836Z",
     "shell.execute_reply": "2022-07-11T13:17:29.102098Z"
    },
    "papermill": {
     "duration": 0.029859,
     "end_time": "2022-07-11T13:17:29.107755",
     "exception": false,
     "start_time": "2022-07-11T13:17:29.077896",
     "status": "completed"
    },
    "tags": []
   },
   "outputs": [
    {
     "name": "stdout",
     "output_type": "stream",
     "text": [
      "Error in chol.default(data) : \n",
      "  the leading minor of order 65 is not positive definite\n"
     ]
    }
   ],
   "source": [
    "orig_matrix_is_positive_definite <- is_positive_definite(gene_corrs)"
   ]
  },
  {
   "cell_type": "code",
   "execution_count": 18,
   "id": "410ee452-488f-4518-b93a-2acd608ba99c",
   "metadata": {
    "execution": {
     "iopub.execute_input": "2022-07-11T13:17:29.129437Z",
     "iopub.status.busy": "2022-07-11T13:17:29.128174Z",
     "iopub.status.idle": "2022-07-11T13:17:29.413016Z",
     "shell.execute_reply": "2022-07-11T13:17:29.411091Z"
    },
    "papermill": {
     "duration": 0.298562,
     "end_time": "2022-07-11T13:17:29.414572",
     "exception": false,
     "start_time": "2022-07-11T13:17:29.116010",
     "status": "completed"
    },
    "tags": []
   },
   "outputs": [
    {
     "data": {
      "text/html": [
       "'We need to correct the data and make the matrix positive definite'"
      ],
      "text/latex": [
       "'We need to correct the data and make the matrix positive definite'"
      ],
      "text/markdown": [
       "'We need to correct the data and make the matrix positive definite'"
      ],
      "text/plain": [
       "[1] \"We need to correct the data and make the matrix positive definite\""
      ]
     },
     "metadata": {},
     "output_type": "display_data"
    },
    {
     "data": {
      "text/html": [
       "1"
      ],
      "text/latex": [
       "1"
      ],
      "text/markdown": [
       "1"
      ],
      "text/plain": [
       "[1] 1"
      ]
     },
     "metadata": {},
     "output_type": "display_data"
    },
    {
     "data": {
      "text/html": [
       "-1.87570583458817e-05"
      ],
      "text/latex": [
       "-1.87570583458817e-05"
      ],
      "text/markdown": [
       "-1.87570583458817e-05"
      ],
      "text/plain": [
       "[1] -1.875706e-05"
      ]
     },
     "metadata": {},
     "output_type": "display_data"
    },
    {
     "data": {
      "text/html": [
       "'It worked!'"
      ],
      "text/latex": [
       "'It worked!'"
      ],
      "text/markdown": [
       "'It worked!'"
      ],
      "text/plain": [
       "[1] \"It worked!\""
      ]
     },
     "metadata": {},
     "output_type": "display_data"
    },
    {
     "data": {
      "text/html": [
       "<table class=\"dataframe\">\n",
       "<caption>A data.frame: 6 × 10</caption>\n",
       "<thead>\n",
       "\t<tr><th></th><th scope=col>ENSG00000143727</th><th scope=col>ENSG00000115705</th><th scope=col>ENSG00000130508</th><th scope=col>ENSG00000182551</th><th scope=col>ENSG00000171865</th><th scope=col>ENSG00000171863</th><th scope=col>ENSG00000134326</th><th scope=col>ENSG00000134321</th><th scope=col>ENSG00000115738</th><th scope=col>ENSG00000134313</th></tr>\n",
       "\t<tr><th></th><th scope=col>&lt;dbl&gt;</th><th scope=col>&lt;dbl&gt;</th><th scope=col>&lt;dbl&gt;</th><th scope=col>&lt;dbl&gt;</th><th scope=col>&lt;dbl&gt;</th><th scope=col>&lt;dbl&gt;</th><th scope=col>&lt;dbl&gt;</th><th scope=col>&lt;dbl&gt;</th><th scope=col>&lt;dbl&gt;</th><th scope=col>&lt;dbl&gt;</th></tr>\n",
       "</thead>\n",
       "<tbody>\n",
       "\t<tr><th scope=row>ENSG00000143727</th><td>1.000000000</td><td>0.010931472</td><td>0.009968052</td><td>0.00988758</td><td>0.01396987</td><td>0.009624337</td><td>0.000000000</td><td>0.000000000</td><td>0</td><td>0</td></tr>\n",
       "\t<tr><th scope=row>ENSG00000115705</th><td>0.010931472</td><td>1.000000000</td><td>0.032124187</td><td>0.01425489</td><td>0.01534491</td><td>0.005077138</td><td>0.000000000</td><td>0.000000000</td><td>0</td><td>0</td></tr>\n",
       "\t<tr><th scope=row>ENSG00000130508</th><td>0.009968052</td><td>0.032124187</td><td>1.000000000</td><td>0.01149480</td><td>0.01807399</td><td>0.009865334</td><td>0.000000000</td><td>0.000000000</td><td>0</td><td>0</td></tr>\n",
       "\t<tr><th scope=row>ENSG00000182551</th><td>0.009887580</td><td>0.014254887</td><td>0.011494798</td><td>1.00000000</td><td>0.13845306</td><td>0.232627265</td><td>0.007882798</td><td>0.005280475</td><td>0</td><td>0</td></tr>\n",
       "\t<tr><th scope=row>ENSG00000171865</th><td>0.013969871</td><td>0.015344908</td><td>0.018073988</td><td>0.13845306</td><td>1.00000000</td><td>0.132968656</td><td>0.015524953</td><td>0.009595429</td><td>0</td><td>0</td></tr>\n",
       "\t<tr><th scope=row>ENSG00000171863</th><td>0.009624337</td><td>0.005077138</td><td>0.009865334</td><td>0.23262727</td><td>0.13296866</td><td>1.000000000</td><td>0.008745160</td><td>0.008610076</td><td>0</td><td>0</td></tr>\n",
       "</tbody>\n",
       "</table>\n"
      ],
      "text/latex": [
       "A data.frame: 6 × 10\n",
       "\\begin{tabular}{r|llllllllll}\n",
       "  & ENSG00000143727 & ENSG00000115705 & ENSG00000130508 & ENSG00000182551 & ENSG00000171865 & ENSG00000171863 & ENSG00000134326 & ENSG00000134321 & ENSG00000115738 & ENSG00000134313\\\\\n",
       "  & <dbl> & <dbl> & <dbl> & <dbl> & <dbl> & <dbl> & <dbl> & <dbl> & <dbl> & <dbl>\\\\\n",
       "\\hline\n",
       "\tENSG00000143727 & 1.000000000 & 0.010931472 & 0.009968052 & 0.00988758 & 0.01396987 & 0.009624337 & 0.000000000 & 0.000000000 & 0 & 0\\\\\n",
       "\tENSG00000115705 & 0.010931472 & 1.000000000 & 0.032124187 & 0.01425489 & 0.01534491 & 0.005077138 & 0.000000000 & 0.000000000 & 0 & 0\\\\\n",
       "\tENSG00000130508 & 0.009968052 & 0.032124187 & 1.000000000 & 0.01149480 & 0.01807399 & 0.009865334 & 0.000000000 & 0.000000000 & 0 & 0\\\\\n",
       "\tENSG00000182551 & 0.009887580 & 0.014254887 & 0.011494798 & 1.00000000 & 0.13845306 & 0.232627265 & 0.007882798 & 0.005280475 & 0 & 0\\\\\n",
       "\tENSG00000171865 & 0.013969871 & 0.015344908 & 0.018073988 & 0.13845306 & 1.00000000 & 0.132968656 & 0.015524953 & 0.009595429 & 0 & 0\\\\\n",
       "\tENSG00000171863 & 0.009624337 & 0.005077138 & 0.009865334 & 0.23262727 & 0.13296866 & 1.000000000 & 0.008745160 & 0.008610076 & 0 & 0\\\\\n",
       "\\end{tabular}\n"
      ],
      "text/markdown": [
       "\n",
       "A data.frame: 6 × 10\n",
       "\n",
       "| <!--/--> | ENSG00000143727 &lt;dbl&gt; | ENSG00000115705 &lt;dbl&gt; | ENSG00000130508 &lt;dbl&gt; | ENSG00000182551 &lt;dbl&gt; | ENSG00000171865 &lt;dbl&gt; | ENSG00000171863 &lt;dbl&gt; | ENSG00000134326 &lt;dbl&gt; | ENSG00000134321 &lt;dbl&gt; | ENSG00000115738 &lt;dbl&gt; | ENSG00000134313 &lt;dbl&gt; |\n",
       "|---|---|---|---|---|---|---|---|---|---|---|\n",
       "| ENSG00000143727 | 1.000000000 | 0.010931472 | 0.009968052 | 0.00988758 | 0.01396987 | 0.009624337 | 0.000000000 | 0.000000000 | 0 | 0 |\n",
       "| ENSG00000115705 | 0.010931472 | 1.000000000 | 0.032124187 | 0.01425489 | 0.01534491 | 0.005077138 | 0.000000000 | 0.000000000 | 0 | 0 |\n",
       "| ENSG00000130508 | 0.009968052 | 0.032124187 | 1.000000000 | 0.01149480 | 0.01807399 | 0.009865334 | 0.000000000 | 0.000000000 | 0 | 0 |\n",
       "| ENSG00000182551 | 0.009887580 | 0.014254887 | 0.011494798 | 1.00000000 | 0.13845306 | 0.232627265 | 0.007882798 | 0.005280475 | 0 | 0 |\n",
       "| ENSG00000171865 | 0.013969871 | 0.015344908 | 0.018073988 | 0.13845306 | 1.00000000 | 0.132968656 | 0.015524953 | 0.009595429 | 0 | 0 |\n",
       "| ENSG00000171863 | 0.009624337 | 0.005077138 | 0.009865334 | 0.23262727 | 0.13296866 | 1.000000000 | 0.008745160 | 0.008610076 | 0 | 0 |\n",
       "\n"
      ],
      "text/plain": [
       "                ENSG00000143727 ENSG00000115705 ENSG00000130508 ENSG00000182551\n",
       "ENSG00000143727 1.000000000     0.010931472     0.009968052     0.00988758     \n",
       "ENSG00000115705 0.010931472     1.000000000     0.032124187     0.01425489     \n",
       "ENSG00000130508 0.009968052     0.032124187     1.000000000     0.01149480     \n",
       "ENSG00000182551 0.009887580     0.014254887     0.011494798     1.00000000     \n",
       "ENSG00000171865 0.013969871     0.015344908     0.018073988     0.13845306     \n",
       "ENSG00000171863 0.009624337     0.005077138     0.009865334     0.23262727     \n",
       "                ENSG00000171865 ENSG00000171863 ENSG00000134326 ENSG00000134321\n",
       "ENSG00000143727 0.01396987      0.009624337     0.000000000     0.000000000    \n",
       "ENSG00000115705 0.01534491      0.005077138     0.000000000     0.000000000    \n",
       "ENSG00000130508 0.01807399      0.009865334     0.000000000     0.000000000    \n",
       "ENSG00000182551 0.13845306      0.232627265     0.007882798     0.005280475    \n",
       "ENSG00000171865 1.00000000      0.132968656     0.015524953     0.009595429    \n",
       "ENSG00000171863 0.13296866      1.000000000     0.008745160     0.008610076    \n",
       "                ENSG00000115738 ENSG00000134313\n",
       "ENSG00000143727 0               0              \n",
       "ENSG00000115705 0               0              \n",
       "ENSG00000130508 0               0              \n",
       "ENSG00000182551 0               0              \n",
       "ENSG00000171865 0               0              \n",
       "ENSG00000171863 0               0              "
      ]
     },
     "metadata": {},
     "output_type": "display_data"
    },
    {
     "data": {
      "text/html": [
       "<table class=\"dataframe\">\n",
       "<caption>A data.frame: 6 × 10</caption>\n",
       "<thead>\n",
       "\t<tr><th></th><th scope=col>ENSG00000143727</th><th scope=col>ENSG00000115705</th><th scope=col>ENSG00000130508</th><th scope=col>ENSG00000182551</th><th scope=col>ENSG00000171865</th><th scope=col>ENSG00000171863</th><th scope=col>ENSG00000134326</th><th scope=col>ENSG00000134321</th><th scope=col>ENSG00000115738</th><th scope=col>ENSG00000134313</th></tr>\n",
       "\t<tr><th></th><th scope=col>&lt;dbl&gt;</th><th scope=col>&lt;dbl&gt;</th><th scope=col>&lt;dbl&gt;</th><th scope=col>&lt;dbl&gt;</th><th scope=col>&lt;dbl&gt;</th><th scope=col>&lt;dbl&gt;</th><th scope=col>&lt;dbl&gt;</th><th scope=col>&lt;dbl&gt;</th><th scope=col>&lt;dbl&gt;</th><th scope=col>&lt;dbl&gt;</th></tr>\n",
       "</thead>\n",
       "<tbody>\n",
       "\t<tr><th scope=row>ENSG00000143727</th><td>1.000000000</td><td>0.010931472</td><td>0.009968052</td><td>0.00988758</td><td>0.01396987</td><td>0.009624337</td><td> 2.558717e-17</td><td> 2.190088e-17</td><td>-1.212612e-17</td><td> 2.375080e-18</td></tr>\n",
       "\t<tr><th scope=row>ENSG00000115705</th><td>0.010931472</td><td>1.000000000</td><td>0.032124187</td><td>0.01425489</td><td>0.01534491</td><td>0.005077138</td><td>-5.789640e-17</td><td>-8.290894e-16</td><td> 4.648144e-16</td><td> 5.699448e-16</td></tr>\n",
       "\t<tr><th scope=row>ENSG00000130508</th><td>0.009968052</td><td>0.032124187</td><td>1.000000000</td><td>0.01149480</td><td>0.01807399</td><td>0.009865334</td><td>-2.001437e-16</td><td> 6.481361e-16</td><td>-5.114249e-16</td><td>-6.929678e-16</td></tr>\n",
       "\t<tr><th scope=row>ENSG00000182551</th><td>0.009887580</td><td>0.014254887</td><td>0.011494798</td><td>1.00000000</td><td>0.13845306</td><td>0.232627265</td><td> 7.882798e-03</td><td> 5.280475e-03</td><td>-2.001437e-16</td><td> 6.288373e-18</td></tr>\n",
       "\t<tr><th scope=row>ENSG00000171865</th><td>0.013969871</td><td>0.015344908</td><td>0.018073988</td><td>0.13845306</td><td>1.00000000</td><td>0.132968656</td><td> 1.552495e-02</td><td> 9.595429e-03</td><td>-1.125402e-16</td><td>-1.373684e-16</td></tr>\n",
       "\t<tr><th scope=row>ENSG00000171863</th><td>0.009624337</td><td>0.005077138</td><td>0.009865334</td><td>0.23262727</td><td>0.13296866</td><td>1.000000000</td><td> 8.745160e-03</td><td> 8.610076e-03</td><td>-9.074772e-17</td><td>-1.486441e-16</td></tr>\n",
       "</tbody>\n",
       "</table>\n"
      ],
      "text/latex": [
       "A data.frame: 6 × 10\n",
       "\\begin{tabular}{r|llllllllll}\n",
       "  & ENSG00000143727 & ENSG00000115705 & ENSG00000130508 & ENSG00000182551 & ENSG00000171865 & ENSG00000171863 & ENSG00000134326 & ENSG00000134321 & ENSG00000115738 & ENSG00000134313\\\\\n",
       "  & <dbl> & <dbl> & <dbl> & <dbl> & <dbl> & <dbl> & <dbl> & <dbl> & <dbl> & <dbl>\\\\\n",
       "\\hline\n",
       "\tENSG00000143727 & 1.000000000 & 0.010931472 & 0.009968052 & 0.00988758 & 0.01396987 & 0.009624337 &  2.558717e-17 &  2.190088e-17 & -1.212612e-17 &  2.375080e-18\\\\\n",
       "\tENSG00000115705 & 0.010931472 & 1.000000000 & 0.032124187 & 0.01425489 & 0.01534491 & 0.005077138 & -5.789640e-17 & -8.290894e-16 &  4.648144e-16 &  5.699448e-16\\\\\n",
       "\tENSG00000130508 & 0.009968052 & 0.032124187 & 1.000000000 & 0.01149480 & 0.01807399 & 0.009865334 & -2.001437e-16 &  6.481361e-16 & -5.114249e-16 & -6.929678e-16\\\\\n",
       "\tENSG00000182551 & 0.009887580 & 0.014254887 & 0.011494798 & 1.00000000 & 0.13845306 & 0.232627265 &  7.882798e-03 &  5.280475e-03 & -2.001437e-16 &  6.288373e-18\\\\\n",
       "\tENSG00000171865 & 0.013969871 & 0.015344908 & 0.018073988 & 0.13845306 & 1.00000000 & 0.132968656 &  1.552495e-02 &  9.595429e-03 & -1.125402e-16 & -1.373684e-16\\\\\n",
       "\tENSG00000171863 & 0.009624337 & 0.005077138 & 0.009865334 & 0.23262727 & 0.13296866 & 1.000000000 &  8.745160e-03 &  8.610076e-03 & -9.074772e-17 & -1.486441e-16\\\\\n",
       "\\end{tabular}\n"
      ],
      "text/markdown": [
       "\n",
       "A data.frame: 6 × 10\n",
       "\n",
       "| <!--/--> | ENSG00000143727 &lt;dbl&gt; | ENSG00000115705 &lt;dbl&gt; | ENSG00000130508 &lt;dbl&gt; | ENSG00000182551 &lt;dbl&gt; | ENSG00000171865 &lt;dbl&gt; | ENSG00000171863 &lt;dbl&gt; | ENSG00000134326 &lt;dbl&gt; | ENSG00000134321 &lt;dbl&gt; | ENSG00000115738 &lt;dbl&gt; | ENSG00000134313 &lt;dbl&gt; |\n",
       "|---|---|---|---|---|---|---|---|---|---|---|\n",
       "| ENSG00000143727 | 1.000000000 | 0.010931472 | 0.009968052 | 0.00988758 | 0.01396987 | 0.009624337 |  2.558717e-17 |  2.190088e-17 | -1.212612e-17 |  2.375080e-18 |\n",
       "| ENSG00000115705 | 0.010931472 | 1.000000000 | 0.032124187 | 0.01425489 | 0.01534491 | 0.005077138 | -5.789640e-17 | -8.290894e-16 |  4.648144e-16 |  5.699448e-16 |\n",
       "| ENSG00000130508 | 0.009968052 | 0.032124187 | 1.000000000 | 0.01149480 | 0.01807399 | 0.009865334 | -2.001437e-16 |  6.481361e-16 | -5.114249e-16 | -6.929678e-16 |\n",
       "| ENSG00000182551 | 0.009887580 | 0.014254887 | 0.011494798 | 1.00000000 | 0.13845306 | 0.232627265 |  7.882798e-03 |  5.280475e-03 | -2.001437e-16 |  6.288373e-18 |\n",
       "| ENSG00000171865 | 0.013969871 | 0.015344908 | 0.018073988 | 0.13845306 | 1.00000000 | 0.132968656 |  1.552495e-02 |  9.595429e-03 | -1.125402e-16 | -1.373684e-16 |\n",
       "| ENSG00000171863 | 0.009624337 | 0.005077138 | 0.009865334 | 0.23262727 | 0.13296866 | 1.000000000 |  8.745160e-03 |  8.610076e-03 | -9.074772e-17 | -1.486441e-16 |\n",
       "\n"
      ],
      "text/plain": [
       "                ENSG00000143727 ENSG00000115705 ENSG00000130508 ENSG00000182551\n",
       "ENSG00000143727 1.000000000     0.010931472     0.009968052     0.00988758     \n",
       "ENSG00000115705 0.010931472     1.000000000     0.032124187     0.01425489     \n",
       "ENSG00000130508 0.009968052     0.032124187     1.000000000     0.01149480     \n",
       "ENSG00000182551 0.009887580     0.014254887     0.011494798     1.00000000     \n",
       "ENSG00000171865 0.013969871     0.015344908     0.018073988     0.13845306     \n",
       "ENSG00000171863 0.009624337     0.005077138     0.009865334     0.23262727     \n",
       "                ENSG00000171865 ENSG00000171863 ENSG00000134326 ENSG00000134321\n",
       "ENSG00000143727 0.01396987      0.009624337      2.558717e-17    2.190088e-17  \n",
       "ENSG00000115705 0.01534491      0.005077138     -5.789640e-17   -8.290894e-16  \n",
       "ENSG00000130508 0.01807399      0.009865334     -2.001437e-16    6.481361e-16  \n",
       "ENSG00000182551 0.13845306      0.232627265      7.882798e-03    5.280475e-03  \n",
       "ENSG00000171865 1.00000000      0.132968656      1.552495e-02    9.595429e-03  \n",
       "ENSG00000171863 0.13296866      1.000000000      8.745160e-03    8.610076e-03  \n",
       "                ENSG00000115738 ENSG00000134313\n",
       "ENSG00000143727 -1.212612e-17    2.375080e-18  \n",
       "ENSG00000115705  4.648144e-16    5.699448e-16  \n",
       "ENSG00000130508 -5.114249e-16   -6.929678e-16  \n",
       "ENSG00000182551 -2.001437e-16    6.288373e-18  \n",
       "ENSG00000171865 -1.125402e-16   -1.373684e-16  \n",
       "ENSG00000171863 -9.074772e-17   -1.486441e-16  "
      ]
     },
     "metadata": {},
     "output_type": "display_data"
    }
   ],
   "source": [
    "if (orig_matrix_is_positive_definite) {\n",
    "  IRdisplay::display(\"Matrix is already positive definite!\")\n",
    "  file.copy(INPUT_FILE, OUTPUT_FILE)\n",
    "} else {\n",
    "  IRdisplay::display(\"We need to correct the data and make the matrix positive definite\")\n",
    "\n",
    "  eigenvalues <- eigen(gene_corrs)$values\n",
    "  nonpositive_eigenvalues <- eigenvalues[eigenvalues <= 0]\n",
    "  IRdisplay::display(length(nonpositive_eigenvalues))\n",
    "  IRdisplay::display(nonpositive_eigenvalues)\n",
    "\n",
    "  # Make matrix positive definite\n",
    "  gene_corrs_corrected <- CorrectCM(gene_corrs, 1e-10)\n",
    "  dimnames(gene_corrs_corrected)[[1]] <- rownames(gene_corrs)\n",
    "  dimnames(gene_corrs_corrected)[[2]] <- colnames(gene_corrs)\n",
    "  gene_corrs_corrected <- as.data.frame(gene_corrs_corrected)\n",
    "\n",
    "  # check if new matrix is really positive definite\n",
    "  matrix_is_positive_definite <- is_positive_definite(gene_corrs_corrected)\n",
    "  if (matrix_is_positive_definite) {\n",
    "    IRdisplay::display(\"It worked!\")\n",
    "    IRdisplay::display(head(gene_corrs[1:10, 1:10]))\n",
    "    IRdisplay::display(head(gene_corrs_corrected[1:10, 1:10]))\n",
    "    py_save_object(gene_corrs_corrected, OUTPUT_FILE)\n",
    "  } else {\n",
    "    eigenvalues <- eigen(gene_corrs_corrected)$values\n",
    "    nonpositive_eigenvalues <- eigenvalues[eigenvalues <= 0]\n",
    "    IRdisplay::display(length(nonpositive_eigenvalues))\n",
    "    IRdisplay::display(nonpositive_eigenvalues)\n",
    "\n",
    "    stop(\"Method failed to adjust matrix\")\n",
    "  }\n",
    "}"
   ]
  },
  {
   "cell_type": "markdown",
   "id": "6c196700-7491-462f-bab8-ab9d40c63499",
   "metadata": {
    "papermill": {
     "duration": 0.005218,
     "end_time": "2022-07-11T13:17:29.425226",
     "exception": false,
     "start_time": "2022-07-11T13:17:29.420008",
     "status": "completed"
    },
    "tags": []
   },
   "source": [
    "Both matrices should \"look\" similar. We are not interested in perfectly accurate correlation values (they are already inaccurate)."
   ]
  },
  {
   "cell_type": "code",
   "execution_count": null,
   "id": "d8ae4220-2171-460c-9231-cd5219f3fe77",
   "metadata": {
    "papermill": {
     "duration": 0.004969,
     "end_time": "2022-07-11T13:17:29.435219",
     "exception": false,
     "start_time": "2022-07-11T13:17:29.430250",
     "status": "completed"
    },
    "tags": []
   },
   "outputs": [],
   "source": []
  }
 ],
 "metadata": {
  "jupytext": {
   "cell_metadata_filter": "all,-execution,-papermill,-trusted"
  },
  "kernelspec": {
   "display_name": "R",
   "language": "R",
   "name": "ir"
  },
  "language_info": {
   "codemirror_mode": "r",
   "file_extension": ".r",
   "mimetype": "text/x-r-source",
   "name": "R",
   "pygments_lexer": "r",
   "version": "3.6.3"
  },
  "papermill": {
   "default_parameters": {},
   "duration": 5.747848,
   "end_time": "2022-07-11T13:17:29.557384",
   "environment_variables": {},
   "exception": null,
   "input_path": "nbs/15_gsa_gls/12-gene_expr_correlations-adjust.ipynb",
   "output_path": "nbs/15_gsa_gls/gene_corrs/1000g/mashr/12-gene_expr_correlations-adjust-chr2.run.ipynb",
   "parameters": {
    "EQTL_MODEL": "MASHR",
    "REFERENCE_PANEL": "1000G",
    "chromosome": 2
   },
   "start_time": "2022-07-11T13:17:23.809536",
   "version": "2.3.4"
  }
 },
 "nbformat": 4,
 "nbformat_minor": 5
}
