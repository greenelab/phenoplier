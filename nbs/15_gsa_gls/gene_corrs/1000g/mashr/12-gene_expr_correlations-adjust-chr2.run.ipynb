{
 "cells": [
  {
   "cell_type": "markdown",
   "id": "28fc82fa-c3f6-4184-8054-cc91c7c6e2e7",
   "metadata": {
    "papermill": {
     "duration": 0.014011,
     "end_time": "2022-07-12T13:07:01.520260",
     "exception": false,
     "start_time": "2022-07-12T13:07:01.506249",
     "status": "completed"
    },
    "tags": []
   },
   "source": [
    "# Description"
   ]
  },
  {
   "cell_type": "markdown",
   "id": "36839b17-916e-4aec-8fee-96faf1097e78",
   "metadata": {
    "papermill": {
     "duration": 0.011459,
     "end_time": "2022-07-12T13:07:01.543669",
     "exception": false,
     "start_time": "2022-07-12T13:07:01.532210",
     "status": "completed"
    },
    "tags": []
   },
   "source": [
    "**TODO**"
   ]
  },
  {
   "cell_type": "markdown",
   "id": "249e8aa3-ef1a-4bba-a6dd-58120ad80794",
   "metadata": {
    "papermill": {
     "duration": 0.008227,
     "end_time": "2022-07-12T13:07:01.564302",
     "exception": false,
     "start_time": "2022-07-12T13:07:01.556075",
     "status": "completed"
    },
    "tags": []
   },
   "source": [
    "# Modules"
   ]
  },
  {
   "cell_type": "code",
   "execution_count": 1,
   "id": "f9b5022b-7c5e-4d37-9c7a-fdb91777c7f9",
   "metadata": {
    "execution": {
     "iopub.execute_input": "2022-07-12T13:07:01.594733Z",
     "iopub.status.busy": "2022-07-12T13:07:01.593237Z",
     "iopub.status.idle": "2022-07-12T13:07:04.882677Z",
     "shell.execute_reply": "2022-07-12T13:07:04.881381Z"
    },
    "papermill": {
     "duration": 3.31673,
     "end_time": "2022-07-12T13:07:04.884447",
     "exception": false,
     "start_time": "2022-07-12T13:07:01.567717",
     "status": "completed"
    },
    "tags": []
   },
   "outputs": [],
   "source": [
    "library(reticulate)\n",
    "pd <- import(\"pandas\")"
   ]
  },
  {
   "cell_type": "markdown",
   "id": "69e80173-3a39-4b6a-b723-602687cb255b",
   "metadata": {
    "papermill": {
     "duration": 0.003619,
     "end_time": "2022-07-12T13:07:04.892442",
     "exception": false,
     "start_time": "2022-07-12T13:07:04.888823",
     "status": "completed"
    },
    "tags": []
   },
   "source": [
    "# Settings"
   ]
  },
  {
   "cell_type": "code",
   "execution_count": 2,
   "id": "22d12bb4-1699-4a6b-b1b9-d3fdd3d547d7",
   "metadata": {
    "execution": {
     "iopub.execute_input": "2022-07-12T13:07:04.925884Z",
     "iopub.status.busy": "2022-07-12T13:07:04.902344Z",
     "iopub.status.idle": "2022-07-12T13:07:04.939124Z",
     "shell.execute_reply": "2022-07-12T13:07:04.937781Z"
    },
    "papermill": {
     "duration": 0.044906,
     "end_time": "2022-07-12T13:07:04.941103",
     "exception": false,
     "start_time": "2022-07-12T13:07:04.896197",
     "status": "completed"
    },
    "tags": [
     "parameters"
    ]
   },
   "outputs": [],
   "source": [
    "# reference panel\n",
    "REFERENCE_PANEL <- \"GTEX_V8\"\n",
    "# REFERENCE_PANEL = \"1000G\"\n",
    "\n",
    "# prediction models\n",
    "## mashr\n",
    "EQTL_MODEL <- \"MASHR\"\n",
    "\n",
    "chromosome <- NULL"
   ]
  },
  {
   "cell_type": "code",
   "execution_count": 3,
   "id": "4361c110",
   "metadata": {
    "execution": {
     "iopub.execute_input": "2022-07-12T13:07:04.951405Z",
     "iopub.status.busy": "2022-07-12T13:07:04.950265Z",
     "iopub.status.idle": "2022-07-12T13:07:04.968650Z",
     "shell.execute_reply": "2022-07-12T13:07:04.967365Z"
    },
    "papermill": {
     "duration": 0.025509,
     "end_time": "2022-07-12T13:07:04.970464",
     "exception": false,
     "start_time": "2022-07-12T13:07:04.944955",
     "status": "completed"
    },
    "tags": [
     "injected-parameters"
    ]
   },
   "outputs": [],
   "source": [
    "# Parameters\n",
    "chromosome = 2\n",
    "REFERENCE_PANEL = \"1000G\"\n",
    "EQTL_MODEL = \"MASHR\"\n"
   ]
  },
  {
   "cell_type": "code",
   "execution_count": 4,
   "id": "8fe24bef",
   "metadata": {
    "execution": {
     "iopub.execute_input": "2022-07-12T13:07:04.980059Z",
     "iopub.status.busy": "2022-07-12T13:07:04.978923Z",
     "iopub.status.idle": "2022-07-12T13:07:04.992951Z",
     "shell.execute_reply": "2022-07-12T13:07:04.991644Z"
    },
    "papermill": {
     "duration": 0.020689,
     "end_time": "2022-07-12T13:07:04.994854",
     "exception": false,
     "start_time": "2022-07-12T13:07:04.974165",
     "status": "completed"
    },
    "tags": []
   },
   "outputs": [
    {
     "data": {
      "text/html": [
       "'Using reference panel: 1000G'"
      ],
      "text/latex": [
       "'Using reference panel: 1000G'"
      ],
      "text/markdown": [
       "'Using reference panel: 1000G'"
      ],
      "text/plain": [
       "[1] \"Using reference panel: 1000G\""
      ]
     },
     "metadata": {},
     "output_type": "display_data"
    }
   ],
   "source": [
    "paste0(\"Using reference panel: \", REFERENCE_PANEL)"
   ]
  },
  {
   "cell_type": "code",
   "execution_count": 5,
   "id": "d62c28f8-186c-478b-948c-58e14f00df4b",
   "metadata": {
    "execution": {
     "iopub.execute_input": "2022-07-12T13:07:05.005203Z",
     "iopub.status.busy": "2022-07-12T13:07:05.004118Z",
     "iopub.status.idle": "2022-07-12T13:07:05.016422Z",
     "shell.execute_reply": "2022-07-12T13:07:05.014974Z"
    },
    "papermill": {
     "duration": 0.019239,
     "end_time": "2022-07-12T13:07:05.018267",
     "exception": false,
     "start_time": "2022-07-12T13:07:04.999028",
     "status": "completed"
    },
    "tags": []
   },
   "outputs": [
    {
     "data": {
      "text/html": [
       "'Using eQTL model: MASHR'"
      ],
      "text/latex": [
       "'Using eQTL model: MASHR'"
      ],
      "text/markdown": [
       "'Using eQTL model: MASHR'"
      ],
      "text/plain": [
       "[1] \"Using eQTL model: MASHR\""
      ]
     },
     "metadata": {},
     "output_type": "display_data"
    }
   ],
   "source": [
    "paste0(\"Using eQTL model: \", EQTL_MODEL)"
   ]
  },
  {
   "cell_type": "code",
   "execution_count": 6,
   "id": "5243676f-c889-4405-9a4d-262f0f044614",
   "metadata": {
    "execution": {
     "iopub.execute_input": "2022-07-12T13:07:05.029652Z",
     "iopub.status.busy": "2022-07-12T13:07:05.028551Z",
     "iopub.status.idle": "2022-07-12T13:07:05.038697Z",
     "shell.execute_reply": "2022-07-12T13:07:05.037334Z"
    },
    "papermill": {
     "duration": 0.018243,
     "end_time": "2022-07-12T13:07:05.040574",
     "exception": false,
     "start_time": "2022-07-12T13:07:05.022331",
     "status": "completed"
    },
    "tags": []
   },
   "outputs": [],
   "source": [
    "# chromosome must be provided as parameter\n",
    "stopifnot(!is.null(chromosome))"
   ]
  },
  {
   "cell_type": "markdown",
   "id": "c05e4d34-e115-48cd-8a2e-225109eb0042",
   "metadata": {
    "papermill": {
     "duration": 0.004046,
     "end_time": "2022-07-12T13:07:05.048731",
     "exception": false,
     "start_time": "2022-07-12T13:07:05.044685",
     "status": "completed"
    },
    "tags": []
   },
   "source": [
    "# Paths"
   ]
  },
  {
   "cell_type": "code",
   "execution_count": 7,
   "id": "eb6aa8aa-b452-4a2f-a780-93dd80ad4285",
   "metadata": {
    "execution": {
     "iopub.execute_input": "2022-07-12T13:07:05.059036Z",
     "iopub.status.busy": "2022-07-12T13:07:05.057954Z",
     "iopub.status.idle": "2022-07-12T13:07:05.071719Z",
     "shell.execute_reply": "2022-07-12T13:07:05.070421Z"
    },
    "papermill": {
     "duration": 0.020656,
     "end_time": "2022-07-12T13:07:05.073568",
     "exception": false,
     "start_time": "2022-07-12T13:07:05.052912",
     "status": "completed"
    },
    "tags": []
   },
   "outputs": [
    {
     "data": {
      "text/html": [
       "'/opt/data/data/phenomexcan/ld_blocks/gene_corrs'"
      ],
      "text/latex": [
       "'/opt/data/data/phenomexcan/ld\\_blocks/gene\\_corrs'"
      ],
      "text/markdown": [
       "'/opt/data/data/phenomexcan/ld_blocks/gene_corrs'"
      ],
      "text/plain": [
       "[1] \"/opt/data/data/phenomexcan/ld_blocks/gene_corrs\""
      ]
     },
     "metadata": {},
     "output_type": "display_data"
    }
   ],
   "source": [
    "GENE_CORRS_DIR <- Sys.getenv(\"PHENOPLIER_PHENOMEXCAN_LD_BLOCKS_GENE_CORRS_DIR\")\n",
    "IRdisplay::display(GENE_CORRS_DIR)"
   ]
  },
  {
   "cell_type": "code",
   "execution_count": 8,
   "id": "eb24f15f-f282-4476-8943-8413c4483f12",
   "metadata": {
    "execution": {
     "iopub.execute_input": "2022-07-12T13:07:05.084225Z",
     "iopub.status.busy": "2022-07-12T13:07:05.083095Z",
     "iopub.status.idle": "2022-07-12T13:07:05.096577Z",
     "shell.execute_reply": "2022-07-12T13:07:05.095187Z"
    },
    "papermill": {
     "duration": 0.020637,
     "end_time": "2022-07-12T13:07:05.098479",
     "exception": false,
     "start_time": "2022-07-12T13:07:05.077842",
     "status": "completed"
    },
    "tags": []
   },
   "outputs": [
    {
     "data": {
      "text/html": [
       "'/opt/data/data/phenomexcan/ld_blocks/gene_corrs/1000g/mashr/by_chr'"
      ],
      "text/latex": [
       "'/opt/data/data/phenomexcan/ld\\_blocks/gene\\_corrs/1000g/mashr/by\\_chr'"
      ],
      "text/markdown": [
       "'/opt/data/data/phenomexcan/ld_blocks/gene_corrs/1000g/mashr/by_chr'"
      ],
      "text/plain": [
       "[1] \"/opt/data/data/phenomexcan/ld_blocks/gene_corrs/1000g/mashr/by_chr\""
      ]
     },
     "metadata": {},
     "output_type": "display_data"
    }
   ],
   "source": [
    "INPUT_DIR <- file.path(GENE_CORRS_DIR, tolower(REFERENCE_PANEL), tolower(EQTL_MODEL), \"by_chr\")\n",
    "IRdisplay::display(INPUT_DIR)"
   ]
  },
  {
   "cell_type": "code",
   "execution_count": 9,
   "id": "43c1daba-0da9-4822-8d1e-968e9767e251",
   "metadata": {
    "execution": {
     "iopub.execute_input": "2022-07-12T13:07:05.109746Z",
     "iopub.status.busy": "2022-07-12T13:07:05.108601Z",
     "iopub.status.idle": "2022-07-12T13:07:05.123066Z",
     "shell.execute_reply": "2022-07-12T13:07:05.121862Z"
    },
    "papermill": {
     "duration": 0.021698,
     "end_time": "2022-07-12T13:07:05.124810",
     "exception": false,
     "start_time": "2022-07-12T13:07:05.103112",
     "status": "completed"
    },
    "tags": []
   },
   "outputs": [
    {
     "data": {
      "text/html": [
       "'/opt/data/data/phenomexcan/ld_blocks/gene_corrs/1000g/mashr/by_chr/gene_corrs-chr2.pkl'"
      ],
      "text/latex": [
       "'/opt/data/data/phenomexcan/ld\\_blocks/gene\\_corrs/1000g/mashr/by\\_chr/gene\\_corrs-chr2.pkl'"
      ],
      "text/markdown": [
       "'/opt/data/data/phenomexcan/ld_blocks/gene_corrs/1000g/mashr/by_chr/gene_corrs-chr2.pkl'"
      ],
      "text/plain": [
       "[1] \"/opt/data/data/phenomexcan/ld_blocks/gene_corrs/1000g/mashr/by_chr/gene_corrs-chr2.pkl\""
      ]
     },
     "metadata": {},
     "output_type": "display_data"
    }
   ],
   "source": [
    "INPUT_FILE <- file.path(INPUT_DIR, paste0(\"gene_corrs-chr\", chromosome, \".pkl\"))\n",
    "IRdisplay::display(INPUT_FILE)\n",
    "stopifnot(file.exists(INPUT_FILE))"
   ]
  },
  {
   "cell_type": "code",
   "execution_count": 10,
   "id": "72386fbf-982b-420a-9057-ea9a97a5e571",
   "metadata": {
    "execution": {
     "iopub.execute_input": "2022-07-12T13:07:05.135756Z",
     "iopub.status.busy": "2022-07-12T13:07:05.134551Z",
     "iopub.status.idle": "2022-07-12T13:07:05.149839Z",
     "shell.execute_reply": "2022-07-12T13:07:05.148594Z"
    },
    "papermill": {
     "duration": 0.02258,
     "end_time": "2022-07-12T13:07:05.151634",
     "exception": false,
     "start_time": "2022-07-12T13:07:05.129054",
     "status": "completed"
    },
    "tags": []
   },
   "outputs": [
    {
     "data": {
      "text/html": [
       "'/opt/data/data/phenomexcan/ld_blocks/gene_corrs/1000g/mashr/by_chr/corrected_positive_definite'"
      ],
      "text/latex": [
       "'/opt/data/data/phenomexcan/ld\\_blocks/gene\\_corrs/1000g/mashr/by\\_chr/corrected\\_positive\\_definite'"
      ],
      "text/markdown": [
       "'/opt/data/data/phenomexcan/ld_blocks/gene_corrs/1000g/mashr/by_chr/corrected_positive_definite'"
      ],
      "text/plain": [
       "[1] \"/opt/data/data/phenomexcan/ld_blocks/gene_corrs/1000g/mashr/by_chr/corrected_positive_definite\""
      ]
     },
     "metadata": {},
     "output_type": "display_data"
    }
   ],
   "source": [
    "OUTPUT_DIR <- file.path(INPUT_DIR, \"corrected_positive_definite\")\n",
    "IRdisplay::display(OUTPUT_DIR)\n",
    "dir.create(OUTPUT_DIR, recursive = TRUE, showWarnings = FALSE)"
   ]
  },
  {
   "cell_type": "code",
   "execution_count": 11,
   "id": "f9f19d1d-ce4c-4099-a26e-250fec751de7",
   "metadata": {
    "execution": {
     "iopub.execute_input": "2022-07-12T13:07:05.163065Z",
     "iopub.status.busy": "2022-07-12T13:07:05.161996Z",
     "iopub.status.idle": "2022-07-12T13:07:05.177796Z",
     "shell.execute_reply": "2022-07-12T13:07:05.176421Z"
    },
    "papermill": {
     "duration": 0.023288,
     "end_time": "2022-07-12T13:07:05.179616",
     "exception": false,
     "start_time": "2022-07-12T13:07:05.156328",
     "status": "completed"
    },
    "tags": []
   },
   "outputs": [
    {
     "data": {
      "text/html": [
       "'/opt/data/data/phenomexcan/ld_blocks/gene_corrs/1000g/mashr/by_chr/corrected_positive_definite/gene_corrs-chr2.pkl'"
      ],
      "text/latex": [
       "'/opt/data/data/phenomexcan/ld\\_blocks/gene\\_corrs/1000g/mashr/by\\_chr/corrected\\_positive\\_definite/gene\\_corrs-chr2.pkl'"
      ],
      "text/markdown": [
       "'/opt/data/data/phenomexcan/ld_blocks/gene_corrs/1000g/mashr/by_chr/corrected_positive_definite/gene_corrs-chr2.pkl'"
      ],
      "text/plain": [
       "[1] \"/opt/data/data/phenomexcan/ld_blocks/gene_corrs/1000g/mashr/by_chr/corrected_positive_definite/gene_corrs-chr2.pkl\""
      ]
     },
     "metadata": {},
     "output_type": "display_data"
    }
   ],
   "source": [
    "OUTPUT_FILE <- file.path(OUTPUT_DIR, paste0(\"gene_corrs-chr\", chromosome, \".pkl\"))\n",
    "IRdisplay::display(OUTPUT_FILE)\n",
    "if (file.exists(OUTPUT_FILE)) {\n",
    "  IRdisplay::display(\"Output file exists, it will be overwritten\")\n",
    "}"
   ]
  },
  {
   "cell_type": "markdown",
   "id": "24973e62-e888-4b56-843f-489d8d0762b5",
   "metadata": {
    "papermill": {
     "duration": 0.004489,
     "end_time": "2022-07-12T13:07:05.188626",
     "exception": false,
     "start_time": "2022-07-12T13:07:05.184137",
     "status": "completed"
    },
    "tags": []
   },
   "source": [
    "# Functions"
   ]
  },
  {
   "cell_type": "code",
   "execution_count": 12,
   "id": "f828f081-7358-4cc8-8a89-1ee293bcc1a7",
   "metadata": {
    "execution": {
     "iopub.execute_input": "2022-07-12T13:07:05.203195Z",
     "iopub.status.busy": "2022-07-12T13:07:05.198978Z",
     "iopub.status.idle": "2022-07-12T13:07:05.212119Z",
     "shell.execute_reply": "2022-07-12T13:07:05.210899Z"
    },
    "papermill": {
     "duration": 0.0206,
     "end_time": "2022-07-12T13:07:05.213859",
     "exception": false,
     "start_time": "2022-07-12T13:07:05.193259",
     "status": "completed"
    },
    "tags": []
   },
   "outputs": [],
   "source": [
    "# taken from https://www.r-bloggers.com/2013/08/correcting-a-pseudo-correlation-matrix-to-be-positive-semidefinite/\n",
    "# TODO: add documentation\n",
    "CorrectCM <- function(CM, p = 0) {\n",
    "  n <- dim(var(CM))[1L]\n",
    "  E <- eigen(CM)\n",
    "  CM1 <- E$vectors %*% tcrossprod(diag(pmax(E$values, p), n), E$vectors)\n",
    "  Balance <- diag(1 / sqrt(diag(CM1)))\n",
    "  CM2 <- Balance %*% CM1 %*% Balance\n",
    "  return(CM2)\n",
    "}"
   ]
  },
  {
   "cell_type": "code",
   "execution_count": 13,
   "id": "7ab9bebf-50a1-4e6f-b16a-e23cae93d02a",
   "metadata": {
    "execution": {
     "iopub.execute_input": "2022-07-12T13:07:05.225193Z",
     "iopub.status.busy": "2022-07-12T13:07:05.224151Z",
     "iopub.status.idle": "2022-07-12T13:07:05.233429Z",
     "shell.execute_reply": "2022-07-12T13:07:05.232181Z"
    },
    "papermill": {
     "duration": 0.01674,
     "end_time": "2022-07-12T13:07:05.235197",
     "exception": false,
     "start_time": "2022-07-12T13:07:05.218457",
     "status": "completed"
    },
    "tags": []
   },
   "outputs": [],
   "source": [
    "is_positive_definite <- function(data) {\n",
    "  # eigenvalues <- eigen(data)$values\n",
    "  # nonpositive_eigenvalues <- eigenvalues[eigenvalues <= 0]\n",
    "\n",
    "  cholStatus <- try(u <- chol(data), silent = FALSE)\n",
    "  cholError <- ifelse(class(cholStatus) == \"try-error\", TRUE, FALSE)\n",
    "\n",
    "  if (cholError) {\n",
    "    return(FALSE)\n",
    "  } else {\n",
    "    return(TRUE)\n",
    "  }\n",
    "}"
   ]
  },
  {
   "cell_type": "markdown",
   "id": "7403fd78-00b2-4941-9c07-3c3af1ddc636",
   "metadata": {
    "papermill": {
     "duration": 0.004683,
     "end_time": "2022-07-12T13:07:05.245044",
     "exception": false,
     "start_time": "2022-07-12T13:07:05.240361",
     "status": "completed"
    },
    "tags": []
   },
   "source": [
    "# Load data"
   ]
  },
  {
   "cell_type": "code",
   "execution_count": 14,
   "id": "3a7744e1-2e5a-450e-9dcf-945ec181347d",
   "metadata": {
    "execution": {
     "iopub.execute_input": "2022-07-12T13:07:05.256983Z",
     "iopub.status.busy": "2022-07-12T13:07:05.255882Z",
     "iopub.status.idle": "2022-07-12T13:07:05.335663Z",
     "shell.execute_reply": "2022-07-12T13:07:05.333717Z"
    },
    "papermill": {
     "duration": 0.087545,
     "end_time": "2022-07-12T13:07:05.337519",
     "exception": false,
     "start_time": "2022-07-12T13:07:05.249974",
     "status": "completed"
    },
    "tags": []
   },
   "outputs": [],
   "source": [
    "gene_corrs <- pd$read_pickle(INPUT_FILE)"
   ]
  },
  {
   "cell_type": "code",
   "execution_count": 15,
   "id": "6fb150b2-4c68-4e9b-9aa5-1890d3f762e3",
   "metadata": {
    "execution": {
     "iopub.execute_input": "2022-07-12T13:07:05.349454Z",
     "iopub.status.busy": "2022-07-12T13:07:05.348329Z",
     "iopub.status.idle": "2022-07-12T13:07:05.360363Z",
     "shell.execute_reply": "2022-07-12T13:07:05.359104Z"
    },
    "papermill": {
     "duration": 0.021284,
     "end_time": "2022-07-12T13:07:05.363722",
     "exception": false,
     "start_time": "2022-07-12T13:07:05.342438",
     "status": "completed"
    },
    "tags": []
   },
   "outputs": [
    {
     "data": {
      "text/html": [
       "<style>\n",
       ".list-inline {list-style: none; margin:0; padding: 0}\n",
       ".list-inline>li {display: inline-block}\n",
       ".list-inline>li:not(:last-child)::after {content: \"\\00b7\"; padding: 0 .5ex}\n",
       "</style>\n",
       "<ol class=list-inline><li>445</li><li>445</li></ol>\n"
      ],
      "text/latex": [
       "\\begin{enumerate*}\n",
       "\\item 445\n",
       "\\item 445\n",
       "\\end{enumerate*}\n"
      ],
      "text/markdown": [
       "1. 445\n",
       "2. 445\n",
       "\n",
       "\n"
      ],
      "text/plain": [
       "[1] 445 445"
      ]
     },
     "metadata": {},
     "output_type": "display_data"
    }
   ],
   "source": [
    "dim(gene_corrs)"
   ]
  },
  {
   "cell_type": "code",
   "execution_count": 16,
   "id": "0d4e53b5-7586-4a68-8ce5-d930d74ba943",
   "metadata": {
    "execution": {
     "iopub.execute_input": "2022-07-12T13:07:05.375754Z",
     "iopub.status.busy": "2022-07-12T13:07:05.374687Z",
     "iopub.status.idle": "2022-07-12T13:07:05.397919Z",
     "shell.execute_reply": "2022-07-12T13:07:05.395775Z"
    },
    "papermill": {
     "duration": 0.031232,
     "end_time": "2022-07-12T13:07:05.399883",
     "exception": false,
     "start_time": "2022-07-12T13:07:05.368651",
     "status": "completed"
    },
    "tags": []
   },
   "outputs": [
    {
     "data": {
      "text/html": [
       "<table class=\"dataframe\">\n",
       "<caption>A data.frame: 6 × 10</caption>\n",
       "<thead>\n",
       "\t<tr><th></th><th scope=col>ENSG00000143727</th><th scope=col>ENSG00000115705</th><th scope=col>ENSG00000130508</th><th scope=col>ENSG00000182551</th><th scope=col>ENSG00000171865</th><th scope=col>ENSG00000171863</th><th scope=col>ENSG00000134326</th><th scope=col>ENSG00000134321</th><th scope=col>ENSG00000115738</th><th scope=col>ENSG00000134313</th></tr>\n",
       "\t<tr><th></th><th scope=col>&lt;dbl&gt;</th><th scope=col>&lt;dbl&gt;</th><th scope=col>&lt;dbl&gt;</th><th scope=col>&lt;dbl&gt;</th><th scope=col>&lt;dbl&gt;</th><th scope=col>&lt;dbl&gt;</th><th scope=col>&lt;dbl&gt;</th><th scope=col>&lt;dbl&gt;</th><th scope=col>&lt;dbl&gt;</th><th scope=col>&lt;dbl&gt;</th></tr>\n",
       "</thead>\n",
       "<tbody>\n",
       "\t<tr><th scope=row>ENSG00000143727</th><td>1.000000000</td><td>0.010931472</td><td>0.009968052</td><td>0.00988758</td><td>0.01396987</td><td>0.009624337</td><td>0.014217168</td><td>0.012747220</td><td>0.007695454</td><td>0.006634510</td></tr>\n",
       "\t<tr><th scope=row>ENSG00000115705</th><td>0.010931472</td><td>1.000000000</td><td>0.032124187</td><td>0.01425489</td><td>0.01534491</td><td>0.005077138</td><td>0.011337255</td><td>0.010674555</td><td>0.014613965</td><td>0.017682540</td></tr>\n",
       "\t<tr><th scope=row>ENSG00000130508</th><td>0.009968052</td><td>0.032124187</td><td>1.000000000</td><td>0.01149480</td><td>0.01807399</td><td>0.009865334</td><td>0.010466918</td><td>0.014755154</td><td>0.017214475</td><td>0.012957790</td></tr>\n",
       "\t<tr><th scope=row>ENSG00000182551</th><td>0.009887580</td><td>0.014254887</td><td>0.011494798</td><td>1.00000000</td><td>0.13845306</td><td>0.232627265</td><td>0.007882798</td><td>0.005280475</td><td>0.007852577</td><td>0.009054009</td></tr>\n",
       "\t<tr><th scope=row>ENSG00000171865</th><td>0.013969871</td><td>0.015344908</td><td>0.018073988</td><td>0.13845306</td><td>1.00000000</td><td>0.132968656</td><td>0.015524953</td><td>0.009595429</td><td>0.011112074</td><td>0.008908184</td></tr>\n",
       "\t<tr><th scope=row>ENSG00000171863</th><td>0.009624337</td><td>0.005077138</td><td>0.009865334</td><td>0.23262727</td><td>0.13296866</td><td>1.000000000</td><td>0.008745160</td><td>0.008610076</td><td>0.005569562</td><td>0.008503647</td></tr>\n",
       "</tbody>\n",
       "</table>\n"
      ],
      "text/latex": [
       "A data.frame: 6 × 10\n",
       "\\begin{tabular}{r|llllllllll}\n",
       "  & ENSG00000143727 & ENSG00000115705 & ENSG00000130508 & ENSG00000182551 & ENSG00000171865 & ENSG00000171863 & ENSG00000134326 & ENSG00000134321 & ENSG00000115738 & ENSG00000134313\\\\\n",
       "  & <dbl> & <dbl> & <dbl> & <dbl> & <dbl> & <dbl> & <dbl> & <dbl> & <dbl> & <dbl>\\\\\n",
       "\\hline\n",
       "\tENSG00000143727 & 1.000000000 & 0.010931472 & 0.009968052 & 0.00988758 & 0.01396987 & 0.009624337 & 0.014217168 & 0.012747220 & 0.007695454 & 0.006634510\\\\\n",
       "\tENSG00000115705 & 0.010931472 & 1.000000000 & 0.032124187 & 0.01425489 & 0.01534491 & 0.005077138 & 0.011337255 & 0.010674555 & 0.014613965 & 0.017682540\\\\\n",
       "\tENSG00000130508 & 0.009968052 & 0.032124187 & 1.000000000 & 0.01149480 & 0.01807399 & 0.009865334 & 0.010466918 & 0.014755154 & 0.017214475 & 0.012957790\\\\\n",
       "\tENSG00000182551 & 0.009887580 & 0.014254887 & 0.011494798 & 1.00000000 & 0.13845306 & 0.232627265 & 0.007882798 & 0.005280475 & 0.007852577 & 0.009054009\\\\\n",
       "\tENSG00000171865 & 0.013969871 & 0.015344908 & 0.018073988 & 0.13845306 & 1.00000000 & 0.132968656 & 0.015524953 & 0.009595429 & 0.011112074 & 0.008908184\\\\\n",
       "\tENSG00000171863 & 0.009624337 & 0.005077138 & 0.009865334 & 0.23262727 & 0.13296866 & 1.000000000 & 0.008745160 & 0.008610076 & 0.005569562 & 0.008503647\\\\\n",
       "\\end{tabular}\n"
      ],
      "text/markdown": [
       "\n",
       "A data.frame: 6 × 10\n",
       "\n",
       "| <!--/--> | ENSG00000143727 &lt;dbl&gt; | ENSG00000115705 &lt;dbl&gt; | ENSG00000130508 &lt;dbl&gt; | ENSG00000182551 &lt;dbl&gt; | ENSG00000171865 &lt;dbl&gt; | ENSG00000171863 &lt;dbl&gt; | ENSG00000134326 &lt;dbl&gt; | ENSG00000134321 &lt;dbl&gt; | ENSG00000115738 &lt;dbl&gt; | ENSG00000134313 &lt;dbl&gt; |\n",
       "|---|---|---|---|---|---|---|---|---|---|---|\n",
       "| ENSG00000143727 | 1.000000000 | 0.010931472 | 0.009968052 | 0.00988758 | 0.01396987 | 0.009624337 | 0.014217168 | 0.012747220 | 0.007695454 | 0.006634510 |\n",
       "| ENSG00000115705 | 0.010931472 | 1.000000000 | 0.032124187 | 0.01425489 | 0.01534491 | 0.005077138 | 0.011337255 | 0.010674555 | 0.014613965 | 0.017682540 |\n",
       "| ENSG00000130508 | 0.009968052 | 0.032124187 | 1.000000000 | 0.01149480 | 0.01807399 | 0.009865334 | 0.010466918 | 0.014755154 | 0.017214475 | 0.012957790 |\n",
       "| ENSG00000182551 | 0.009887580 | 0.014254887 | 0.011494798 | 1.00000000 | 0.13845306 | 0.232627265 | 0.007882798 | 0.005280475 | 0.007852577 | 0.009054009 |\n",
       "| ENSG00000171865 | 0.013969871 | 0.015344908 | 0.018073988 | 0.13845306 | 1.00000000 | 0.132968656 | 0.015524953 | 0.009595429 | 0.011112074 | 0.008908184 |\n",
       "| ENSG00000171863 | 0.009624337 | 0.005077138 | 0.009865334 | 0.23262727 | 0.13296866 | 1.000000000 | 0.008745160 | 0.008610076 | 0.005569562 | 0.008503647 |\n",
       "\n"
      ],
      "text/plain": [
       "                ENSG00000143727 ENSG00000115705 ENSG00000130508 ENSG00000182551\n",
       "ENSG00000143727 1.000000000     0.010931472     0.009968052     0.00988758     \n",
       "ENSG00000115705 0.010931472     1.000000000     0.032124187     0.01425489     \n",
       "ENSG00000130508 0.009968052     0.032124187     1.000000000     0.01149480     \n",
       "ENSG00000182551 0.009887580     0.014254887     0.011494798     1.00000000     \n",
       "ENSG00000171865 0.013969871     0.015344908     0.018073988     0.13845306     \n",
       "ENSG00000171863 0.009624337     0.005077138     0.009865334     0.23262727     \n",
       "                ENSG00000171865 ENSG00000171863 ENSG00000134326 ENSG00000134321\n",
       "ENSG00000143727 0.01396987      0.009624337     0.014217168     0.012747220    \n",
       "ENSG00000115705 0.01534491      0.005077138     0.011337255     0.010674555    \n",
       "ENSG00000130508 0.01807399      0.009865334     0.010466918     0.014755154    \n",
       "ENSG00000182551 0.13845306      0.232627265     0.007882798     0.005280475    \n",
       "ENSG00000171865 1.00000000      0.132968656     0.015524953     0.009595429    \n",
       "ENSG00000171863 0.13296866      1.000000000     0.008745160     0.008610076    \n",
       "                ENSG00000115738 ENSG00000134313\n",
       "ENSG00000143727 0.007695454     0.006634510    \n",
       "ENSG00000115705 0.014613965     0.017682540    \n",
       "ENSG00000130508 0.017214475     0.012957790    \n",
       "ENSG00000182551 0.007852577     0.009054009    \n",
       "ENSG00000171865 0.011112074     0.008908184    \n",
       "ENSG00000171863 0.005569562     0.008503647    "
      ]
     },
     "metadata": {},
     "output_type": "display_data"
    }
   ],
   "source": [
    "head(gene_corrs[1:10, 1:10])"
   ]
  },
  {
   "cell_type": "markdown",
   "id": "d6cbc88a-2c90-4d11-b7dd-434f046fd03c",
   "metadata": {
    "papermill": {
     "duration": 0.005343,
     "end_time": "2022-07-12T13:07:05.410578",
     "exception": false,
     "start_time": "2022-07-12T13:07:05.405235",
     "status": "completed"
    },
    "tags": []
   },
   "source": [
    "# Check positive definiteness"
   ]
  },
  {
   "cell_type": "code",
   "execution_count": 17,
   "id": "a858a061-7c5a-4a6b-8026-fe4de50c1f26",
   "metadata": {
    "execution": {
     "iopub.execute_input": "2022-07-12T13:07:05.422543Z",
     "iopub.status.busy": "2022-07-12T13:07:05.421526Z",
     "iopub.status.idle": "2022-07-12T13:07:05.446311Z",
     "shell.execute_reply": "2022-07-12T13:07:05.440562Z"
    },
    "papermill": {
     "duration": 0.032354,
     "end_time": "2022-07-12T13:07:05.448041",
     "exception": false,
     "start_time": "2022-07-12T13:07:05.415687",
     "status": "completed"
    },
    "tags": []
   },
   "outputs": [],
   "source": [
    "orig_matrix_is_positive_definite <- is_positive_definite(gene_corrs)"
   ]
  },
  {
   "cell_type": "code",
   "execution_count": 18,
   "id": "410ee452-488f-4518-b93a-2acd608ba99c",
   "metadata": {
    "execution": {
     "iopub.execute_input": "2022-07-12T13:07:05.467617Z",
     "iopub.status.busy": "2022-07-12T13:07:05.466591Z",
     "iopub.status.idle": "2022-07-12T13:07:05.503473Z",
     "shell.execute_reply": "2022-07-12T13:07:05.502345Z"
    },
    "papermill": {
     "duration": 0.050506,
     "end_time": "2022-07-12T13:07:05.505099",
     "exception": false,
     "start_time": "2022-07-12T13:07:05.454593",
     "status": "completed"
    },
    "tags": []
   },
   "outputs": [
    {
     "data": {
      "text/html": [
       "'Matrix is already positive definite!'"
      ],
      "text/latex": [
       "'Matrix is already positive definite!'"
      ],
      "text/markdown": [
       "'Matrix is already positive definite!'"
      ],
      "text/plain": [
       "[1] \"Matrix is already positive definite!\""
      ]
     },
     "metadata": {},
     "output_type": "display_data"
    },
    {
     "data": {
      "text/html": [
       "TRUE"
      ],
      "text/latex": [
       "TRUE"
      ],
      "text/markdown": [
       "TRUE"
      ],
      "text/plain": [
       "[1] TRUE"
      ]
     },
     "metadata": {},
     "output_type": "display_data"
    }
   ],
   "source": [
    "if (orig_matrix_is_positive_definite) {\n",
    "  IRdisplay::display(\"Matrix is already positive definite!\")\n",
    "  file.copy(INPUT_FILE, OUTPUT_FILE)\n",
    "} else {\n",
    "  IRdisplay::display(\"We need to correct the data and make the matrix positive definite\")\n",
    "\n",
    "  eigenvalues <- eigen(gene_corrs)$values\n",
    "  nonpositive_eigenvalues <- eigenvalues[eigenvalues <= 0]\n",
    "  IRdisplay::display(length(nonpositive_eigenvalues))\n",
    "  IRdisplay::display(nonpositive_eigenvalues)\n",
    "\n",
    "  # Make matrix positive definite\n",
    "  gene_corrs_corrected <- CorrectCM(gene_corrs, 1e-10)\n",
    "  dimnames(gene_corrs_corrected)[[1]] <- rownames(gene_corrs)\n",
    "  dimnames(gene_corrs_corrected)[[2]] <- colnames(gene_corrs)\n",
    "  gene_corrs_corrected <- as.data.frame(gene_corrs_corrected)\n",
    "\n",
    "  # check if new matrix is really positive definite\n",
    "  matrix_is_positive_definite <- is_positive_definite(gene_corrs_corrected)\n",
    "  if (matrix_is_positive_definite) {\n",
    "    IRdisplay::display(\"It worked!\")\n",
    "    IRdisplay::display(head(gene_corrs[1:10, 1:10]))\n",
    "    IRdisplay::display(head(gene_corrs_corrected[1:10, 1:10]))\n",
    "    py_save_object(gene_corrs_corrected, OUTPUT_FILE)\n",
    "  } else {\n",
    "    eigenvalues <- eigen(gene_corrs_corrected)$values\n",
    "    nonpositive_eigenvalues <- eigenvalues[eigenvalues <= 0]\n",
    "    IRdisplay::display(length(nonpositive_eigenvalues))\n",
    "    IRdisplay::display(nonpositive_eigenvalues)\n",
    "\n",
    "    stop(\"Method failed to adjust matrix\")\n",
    "  }\n",
    "}"
   ]
  },
  {
   "cell_type": "markdown",
   "id": "6c196700-7491-462f-bab8-ab9d40c63499",
   "metadata": {
    "papermill": {
     "duration": 0.010077,
     "end_time": "2022-07-12T13:07:05.522668",
     "exception": false,
     "start_time": "2022-07-12T13:07:05.512591",
     "status": "completed"
    },
    "tags": []
   },
   "source": [
    "Both matrices should \"look\" similar. We are not interested in perfectly accurate correlation values (they are already inaccurate)."
   ]
  },
  {
   "cell_type": "code",
   "execution_count": null,
   "id": "d8ae4220-2171-460c-9231-cd5219f3fe77",
   "metadata": {
    "papermill": {
     "duration": 0.00504,
     "end_time": "2022-07-12T13:07:05.532760",
     "exception": false,
     "start_time": "2022-07-12T13:07:05.527720",
     "status": "completed"
    },
    "tags": []
   },
   "outputs": [],
   "source": []
  }
 ],
 "metadata": {
  "jupytext": {
   "cell_metadata_filter": "all,-execution,-papermill,-trusted"
  },
  "kernelspec": {
   "display_name": "R",
   "language": "R",
   "name": "ir"
  },
  "language_info": {
   "codemirror_mode": "r",
   "file_extension": ".r",
   "mimetype": "text/x-r-source",
   "name": "R",
   "pygments_lexer": "r",
   "version": "3.6.3"
  },
  "papermill": {
   "default_parameters": {},
   "duration": 5.219477,
   "end_time": "2022-07-12T13:07:05.655452",
   "environment_variables": {},
   "exception": null,
   "input_path": "nbs/15_gsa_gls/12-gene_expr_correlations-adjust.ipynb",
   "output_path": "nbs/15_gsa_gls/gene_corrs/1000g/mashr/12-gene_expr_correlations-adjust-chr2.run.ipynb",
   "parameters": {
    "EQTL_MODEL": "MASHR",
    "REFERENCE_PANEL": "1000G",
    "chromosome": 2
   },
   "start_time": "2022-07-12T13:07:00.435975",
   "version": "2.3.4"
  }
 },
 "nbformat": 4,
 "nbformat_minor": 5
}
