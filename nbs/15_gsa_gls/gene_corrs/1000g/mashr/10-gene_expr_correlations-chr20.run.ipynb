{
 "cells": [
  {
   "cell_type": "markdown",
   "id": "7a6632fb",
   "metadata": {
    "papermill": {
     "duration": 0.00615,
     "end_time": "2022-07-12T09:31:57.283933",
     "exception": false,
     "start_time": "2022-07-12T09:31:57.277783",
     "status": "completed"
    },
    "tags": []
   },
   "source": [
    "# Description"
   ]
  },
  {
   "cell_type": "markdown",
   "id": "7097c346",
   "metadata": {
    "papermill": {
     "duration": 0.005441,
     "end_time": "2022-07-12T09:31:57.294965",
     "exception": false,
     "start_time": "2022-07-12T09:31:57.289524",
     "status": "completed"
    },
    "tags": []
   },
   "source": [
    "(Please, take a look at the README.md file in this directory for instructions on how to run this notebook)\n",
    "\n",
    "This notebook computes predicted expression correlations between all genes in the MultiPLIER models.\n",
    "\n",
    "It also has a parameter set for papermill to run on a single chromosome to run in parallel (see under `Settings` below).\n",
    "\n",
    "This notebook is not directly run. See README.md."
   ]
  },
  {
   "cell_type": "markdown",
   "id": "c61d8427",
   "metadata": {
    "papermill": {
     "duration": 0.006598,
     "end_time": "2022-07-12T09:31:57.307108",
     "exception": false,
     "start_time": "2022-07-12T09:31:57.300510",
     "status": "completed"
    },
    "tags": []
   },
   "source": [
    "# Modules"
   ]
  },
  {
   "cell_type": "code",
   "execution_count": 1,
   "id": "bbc0234f",
   "metadata": {
    "execution": {
     "iopub.execute_input": "2022-07-12T09:31:57.320432Z",
     "iopub.status.busy": "2022-07-12T09:31:57.320147Z",
     "iopub.status.idle": "2022-07-12T09:31:57.335213Z",
     "shell.execute_reply": "2022-07-12T09:31:57.334764Z"
    },
    "papermill": {
     "duration": 0.023419,
     "end_time": "2022-07-12T09:31:57.336571",
     "exception": false,
     "start_time": "2022-07-12T09:31:57.313152",
     "status": "completed"
    },
    "tags": []
   },
   "outputs": [],
   "source": [
    "%load_ext autoreload\n",
    "%autoreload 2"
   ]
  },
  {
   "cell_type": "code",
   "execution_count": 2,
   "id": "1d5f5a59",
   "metadata": {
    "execution": {
     "iopub.execute_input": "2022-07-12T09:31:57.375780Z",
     "iopub.status.busy": "2022-07-12T09:31:57.375560Z",
     "iopub.status.idle": "2022-07-12T09:31:58.252231Z",
     "shell.execute_reply": "2022-07-12T09:31:58.251826Z"
    },
    "papermill": {
     "duration": 0.884943,
     "end_time": "2022-07-12T09:31:58.253560",
     "exception": false,
     "start_time": "2022-07-12T09:31:57.368617",
     "status": "completed"
    },
    "tags": []
   },
   "outputs": [],
   "source": [
    "from random import sample, seed\n",
    "import warnings\n",
    "from pathlib import Path\n",
    "\n",
    "import numpy as np\n",
    "from scipy.spatial.distance import squareform\n",
    "import pandas as pd\n",
    "from tqdm import tqdm\n",
    "import matplotlib.pyplot as plt\n",
    "import seaborn as sns\n",
    "\n",
    "import conf\n",
    "from entity import Gene"
   ]
  },
  {
   "cell_type": "markdown",
   "id": "1eac24b5",
   "metadata": {
    "papermill": {
     "duration": 0.005491,
     "end_time": "2022-07-12T09:31:58.264740",
     "exception": false,
     "start_time": "2022-07-12T09:31:58.259249",
     "status": "completed"
    },
    "tags": []
   },
   "source": [
    "# Settings"
   ]
  },
  {
   "cell_type": "code",
   "execution_count": 3,
   "id": "ca4560ba",
   "metadata": {
    "execution": {
     "iopub.execute_input": "2022-07-12T09:31:58.276948Z",
     "iopub.status.busy": "2022-07-12T09:31:58.276747Z",
     "iopub.status.idle": "2022-07-12T09:31:58.291443Z",
     "shell.execute_reply": "2022-07-12T09:31:58.291010Z"
    },
    "papermill": {
     "duration": 0.022313,
     "end_time": "2022-07-12T09:31:58.292727",
     "exception": false,
     "start_time": "2022-07-12T09:31:58.270414",
     "status": "completed"
    },
    "tags": [
     "parameters"
    ]
   },
   "outputs": [],
   "source": [
    "# reference panel\n",
    "REFERENCE_PANEL = \"GTEX_V8\"\n",
    "# REFERENCE_PANEL = \"1000G\"\n",
    "\n",
    "# prediction models\n",
    "## mashr\n",
    "EQTL_MODEL = \"MASHR\"\n",
    "\n",
    "# this is the default value used in S-MultiXcan to select the\n",
    "# top principal components of the expression correlation matrix\n",
    "SMULTIXCAN_CONDITION_NUMBER = 30\n",
    "\n",
    "# specifies a single chromosome value\n",
    "# by default, run on all chromosomes\n",
    "chromosome = None"
   ]
  },
  {
   "cell_type": "code",
   "execution_count": 4,
   "id": "16737ac8",
   "metadata": {
    "execution": {
     "iopub.execute_input": "2022-07-12T09:31:58.305252Z",
     "iopub.status.busy": "2022-07-12T09:31:58.305053Z",
     "iopub.status.idle": "2022-07-12T09:31:58.319965Z",
     "shell.execute_reply": "2022-07-12T09:31:58.319564Z"
    },
    "papermill": {
     "duration": 0.022895,
     "end_time": "2022-07-12T09:31:58.321272",
     "exception": false,
     "start_time": "2022-07-12T09:31:58.298377",
     "status": "completed"
    },
    "tags": [
     "injected-parameters"
    ]
   },
   "outputs": [],
   "source": [
    "# Parameters\n",
    "chromosome = 20\n",
    "REFERENCE_PANEL = \"1000G\"\n",
    "EQTL_MODEL = \"MASHR\"\n"
   ]
  },
  {
   "cell_type": "code",
   "execution_count": 5,
   "id": "a089c9ff",
   "metadata": {
    "execution": {
     "iopub.execute_input": "2022-07-12T09:31:58.333903Z",
     "iopub.status.busy": "2022-07-12T09:31:58.333610Z",
     "iopub.status.idle": "2022-07-12T09:31:58.347769Z",
     "shell.execute_reply": "2022-07-12T09:31:58.347365Z"
    },
    "papermill": {
     "duration": 0.02178,
     "end_time": "2022-07-12T09:31:58.349048",
     "exception": false,
     "start_time": "2022-07-12T09:31:58.327268",
     "status": "completed"
    },
    "tags": []
   },
   "outputs": [],
   "source": [
    "EQTL_MODEL_FILES_PREFIX = conf.PHENOMEXCAN[\"PREDICTION_MODELS\"][f\"{EQTL_MODEL}_PREFIX\"]"
   ]
  },
  {
   "cell_type": "code",
   "execution_count": 6,
   "id": "8fe24bef",
   "metadata": {
    "execution": {
     "iopub.execute_input": "2022-07-12T09:31:58.361734Z",
     "iopub.status.busy": "2022-07-12T09:31:58.361447Z",
     "iopub.status.idle": "2022-07-12T09:31:58.378374Z",
     "shell.execute_reply": "2022-07-12T09:31:58.377986Z"
    },
    "papermill": {
     "duration": 0.024883,
     "end_time": "2022-07-12T09:31:58.379677",
     "exception": false,
     "start_time": "2022-07-12T09:31:58.354794",
     "status": "completed"
    },
    "tags": []
   },
   "outputs": [
    {
     "data": {
      "text/plain": [
       "'Using eQTL model: MASHR / mashr_'"
      ]
     },
     "metadata": {},
     "output_type": "display_data"
    }
   ],
   "source": [
    "display(f\"Using eQTL model: {EQTL_MODEL} / {EQTL_MODEL_FILES_PREFIX}\")"
   ]
  },
  {
   "cell_type": "code",
   "execution_count": 7,
   "id": "552a7f63-a18c-4d3e-bb6a-94f99b431291",
   "metadata": {
    "execution": {
     "iopub.execute_input": "2022-07-12T09:31:58.392335Z",
     "iopub.status.busy": "2022-07-12T09:31:58.391899Z",
     "iopub.status.idle": "2022-07-12T09:31:58.406470Z",
     "shell.execute_reply": "2022-07-12T09:31:58.406028Z"
    },
    "papermill": {
     "duration": 0.022019,
     "end_time": "2022-07-12T09:31:58.407698",
     "exception": false,
     "start_time": "2022-07-12T09:31:58.385679",
     "status": "completed"
    },
    "tags": []
   },
   "outputs": [
    {
     "data": {
      "text/plain": [
       "'S-MultiXcan condition number: 30'"
      ]
     },
     "metadata": {},
     "output_type": "display_data"
    }
   ],
   "source": [
    "display(f\"S-MultiXcan condition number: {SMULTIXCAN_CONDITION_NUMBER}\")"
   ]
  },
  {
   "cell_type": "code",
   "execution_count": 8,
   "id": "0230ebcb-2c32-4b95-9292-d9a52038e70d",
   "metadata": {
    "execution": {
     "iopub.execute_input": "2022-07-12T09:31:58.420328Z",
     "iopub.status.busy": "2022-07-12T09:31:58.420110Z",
     "iopub.status.idle": "2022-07-12T09:31:58.434664Z",
     "shell.execute_reply": "2022-07-12T09:31:58.434261Z"
    },
    "papermill": {
     "duration": 0.022248,
     "end_time": "2022-07-12T09:31:58.435966",
     "exception": false,
     "start_time": "2022-07-12T09:31:58.413718",
     "status": "completed"
    },
    "tags": []
   },
   "outputs": [],
   "source": [
    "REFERENCE_PANEL_DIR = conf.PHENOMEXCAN[\"LD_BLOCKS\"][f\"{REFERENCE_PANEL}_GENOTYPE_DIR\"]"
   ]
  },
  {
   "cell_type": "code",
   "execution_count": 9,
   "id": "98c4a159-601d-4a22-a1ab-35bd451c25f9",
   "metadata": {
    "execution": {
     "iopub.execute_input": "2022-07-12T09:31:58.448626Z",
     "iopub.status.busy": "2022-07-12T09:31:58.448425Z",
     "iopub.status.idle": "2022-07-12T09:31:58.463733Z",
     "shell.execute_reply": "2022-07-12T09:31:58.463240Z"
    },
    "papermill": {
     "duration": 0.023273,
     "end_time": "2022-07-12T09:31:58.465036",
     "exception": false,
     "start_time": "2022-07-12T09:31:58.441763",
     "status": "completed"
    },
    "tags": []
   },
   "outputs": [
    {
     "data": {
      "text/plain": [
       "'Using reference panel folder: /opt/data/data/phenomexcan/ld_blocks/reference_panel_1000G'"
      ]
     },
     "metadata": {},
     "output_type": "display_data"
    }
   ],
   "source": [
    "display(f\"Using reference panel folder: {str(REFERENCE_PANEL_DIR)}\")"
   ]
  },
  {
   "cell_type": "code",
   "execution_count": 10,
   "id": "396392dc-0340-4540-9b02-e182b833f909",
   "metadata": {
    "execution": {
     "iopub.execute_input": "2022-07-12T09:31:58.478687Z",
     "iopub.status.busy": "2022-07-12T09:31:58.478491Z",
     "iopub.status.idle": "2022-07-12T09:31:58.493905Z",
     "shell.execute_reply": "2022-07-12T09:31:58.493486Z"
    },
    "papermill": {
     "duration": 0.023512,
     "end_time": "2022-07-12T09:31:58.495179",
     "exception": false,
     "start_time": "2022-07-12T09:31:58.471667",
     "status": "completed"
    },
    "tags": []
   },
   "outputs": [],
   "source": [
    "OUTPUT_DIR_BASE = (\n",
    "    conf.PHENOMEXCAN[\"LD_BLOCKS\"][f\"GENE_CORRS_DIR\"]\n",
    "    / REFERENCE_PANEL.lower()\n",
    "    / EQTL_MODEL.lower()\n",
    ")\n",
    "OUTPUT_DIR_BASE.mkdir(parents=True, exist_ok=True)"
   ]
  },
  {
   "cell_type": "code",
   "execution_count": 11,
   "id": "8942c2d3-e53c-4d63-a0eb-b6fce0574d36",
   "metadata": {
    "execution": {
     "iopub.execute_input": "2022-07-12T09:31:58.508470Z",
     "iopub.status.busy": "2022-07-12T09:31:58.508259Z",
     "iopub.status.idle": "2022-07-12T09:31:58.523310Z",
     "shell.execute_reply": "2022-07-12T09:31:58.522887Z"
    },
    "papermill": {
     "duration": 0.023139,
     "end_time": "2022-07-12T09:31:58.524679",
     "exception": false,
     "start_time": "2022-07-12T09:31:58.501540",
     "status": "completed"
    },
    "tags": []
   },
   "outputs": [
    {
     "data": {
      "text/plain": [
       "'Using output dir base: /opt/data/data/phenomexcan/ld_blocks/gene_corrs/1000g/mashr'"
      ]
     },
     "metadata": {},
     "output_type": "display_data"
    }
   ],
   "source": [
    "display(f\"Using output dir base: {OUTPUT_DIR_BASE}\")"
   ]
  },
  {
   "cell_type": "code",
   "execution_count": 12,
   "id": "408aa590",
   "metadata": {
    "execution": {
     "iopub.execute_input": "2022-07-12T09:31:58.539269Z",
     "iopub.status.busy": "2022-07-12T09:31:58.538952Z",
     "iopub.status.idle": "2022-07-12T09:31:58.554873Z",
     "shell.execute_reply": "2022-07-12T09:31:58.554480Z"
    },
    "papermill": {
     "duration": 0.024988,
     "end_time": "2022-07-12T09:31:58.556186",
     "exception": false,
     "start_time": "2022-07-12T09:31:58.531198",
     "status": "completed"
    },
    "tags": []
   },
   "outputs": [],
   "source": [
    "assert (\n",
    "    chromosome is not None\n",
    "), \"You have to select one chromosome (format: number between 1 and 22)\""
   ]
  },
  {
   "cell_type": "code",
   "execution_count": 13,
   "id": "c1c7dd06-80ff-453c-bcb7-0899edce75da",
   "metadata": {
    "execution": {
     "iopub.execute_input": "2022-07-12T09:31:58.569207Z",
     "iopub.status.busy": "2022-07-12T09:31:58.569015Z",
     "iopub.status.idle": "2022-07-12T09:31:58.583035Z",
     "shell.execute_reply": "2022-07-12T09:31:58.582595Z"
    },
    "papermill": {
     "duration": 0.022104,
     "end_time": "2022-07-12T09:31:58.584389",
     "exception": false,
     "start_time": "2022-07-12T09:31:58.562285",
     "status": "completed"
    },
    "tags": []
   },
   "outputs": [],
   "source": [
    "chromosome = str(chromosome)"
   ]
  },
  {
   "cell_type": "code",
   "execution_count": 14,
   "id": "bc17b84c-9c26-47a5-a3ab-7046e72f3ef4",
   "metadata": {
    "execution": {
     "iopub.execute_input": "2022-07-12T09:31:58.598025Z",
     "iopub.status.busy": "2022-07-12T09:31:58.597834Z",
     "iopub.status.idle": "2022-07-12T09:31:58.612770Z",
     "shell.execute_reply": "2022-07-12T09:31:58.612352Z"
    },
    "papermill": {
     "duration": 0.022786,
     "end_time": "2022-07-12T09:31:58.613950",
     "exception": false,
     "start_time": "2022-07-12T09:31:58.591164",
     "status": "completed"
    },
    "tags": []
   },
   "outputs": [
    {
     "data": {
      "text/plain": [
       "'Working on chromosome 20'"
      ]
     },
     "metadata": {},
     "output_type": "display_data"
    }
   ],
   "source": [
    "display(f\"Working on chromosome {chromosome}\")"
   ]
  },
  {
   "cell_type": "code",
   "execution_count": 15,
   "id": "3c7d8574-90c7-4d09-bc8c-469ed0a34737",
   "metadata": {
    "execution": {
     "iopub.execute_input": "2022-07-12T09:31:58.627593Z",
     "iopub.status.busy": "2022-07-12T09:31:58.627395Z",
     "iopub.status.idle": "2022-07-12T09:31:58.642248Z",
     "shell.execute_reply": "2022-07-12T09:31:58.641823Z"
    },
    "papermill": {
     "duration": 0.023085,
     "end_time": "2022-07-12T09:31:58.643448",
     "exception": false,
     "start_time": "2022-07-12T09:31:58.620363",
     "status": "completed"
    },
    "tags": []
   },
   "outputs": [
    {
     "data": {
      "text/plain": [
       "'Compute correlation within distance False'"
      ]
     },
     "metadata": {},
     "output_type": "display_data"
    }
   ],
   "source": [
    "# This paramter, if True, computes the correlation between closeby genes only\n",
    "COMPUTE_CORRELATIONS_WITHIN_DISTANCE = False\n",
    "display(f\"Compute correlation within distance {COMPUTE_CORRELATIONS_WITHIN_DISTANCE}\")"
   ]
  },
  {
   "cell_type": "markdown",
   "id": "d2ba085e",
   "metadata": {
    "papermill": {
     "duration": 0.006169,
     "end_time": "2022-07-12T09:31:58.655778",
     "exception": false,
     "start_time": "2022-07-12T09:31:58.649609",
     "status": "completed"
    },
    "tags": []
   },
   "source": [
    "# Load data"
   ]
  },
  {
   "cell_type": "markdown",
   "id": "7bed0ce0-e7c7-4300-9a61-5412450b1904",
   "metadata": {
    "papermill": {
     "duration": 0.005896,
     "end_time": "2022-07-12T09:31:58.668004",
     "exception": false,
     "start_time": "2022-07-12T09:31:58.662108",
     "status": "completed"
    },
    "tags": []
   },
   "source": [
    "## Prediction model tissues"
   ]
  },
  {
   "cell_type": "code",
   "execution_count": 16,
   "id": "0847c065-0d69-4830-a07f-1c75115d17f5",
   "metadata": {
    "execution": {
     "iopub.execute_input": "2022-07-12T09:31:58.681489Z",
     "iopub.status.busy": "2022-07-12T09:31:58.681273Z",
     "iopub.status.idle": "2022-07-12T09:31:58.695312Z",
     "shell.execute_reply": "2022-07-12T09:31:58.694826Z"
    },
    "papermill": {
     "duration": 0.022464,
     "end_time": "2022-07-12T09:31:58.696579",
     "exception": false,
     "start_time": "2022-07-12T09:31:58.674115",
     "status": "completed"
    },
    "tags": []
   },
   "outputs": [],
   "source": [
    "prediction_model_tissues = conf.PHENOMEXCAN[\"PREDICTION_MODELS\"][\n",
    "    f\"{EQTL_MODEL}_TISSUES\"\n",
    "].split(\" \")"
   ]
  },
  {
   "cell_type": "code",
   "execution_count": 17,
   "id": "aaef70d1-30c6-4c6f-9d6b-abc8e9a0081f",
   "metadata": {
    "execution": {
     "iopub.execute_input": "2022-07-12T09:31:58.710481Z",
     "iopub.status.busy": "2022-07-12T09:31:58.710052Z",
     "iopub.status.idle": "2022-07-12T09:31:58.726011Z",
     "shell.execute_reply": "2022-07-12T09:31:58.725611Z"
    },
    "papermill": {
     "duration": 0.024244,
     "end_time": "2022-07-12T09:31:58.727218",
     "exception": false,
     "start_time": "2022-07-12T09:31:58.702974",
     "status": "completed"
    },
    "tags": []
   },
   "outputs": [
    {
     "data": {
      "text/plain": [
       "49"
      ]
     },
     "execution_count": 17,
     "metadata": {},
     "output_type": "execute_result"
    }
   ],
   "source": [
    "len(prediction_model_tissues)"
   ]
  },
  {
   "cell_type": "code",
   "execution_count": 18,
   "id": "ff35a099-c52d-465d-b863-0ee70c26208c",
   "metadata": {
    "execution": {
     "iopub.execute_input": "2022-07-12T09:31:58.740414Z",
     "iopub.status.busy": "2022-07-12T09:31:58.740223Z",
     "iopub.status.idle": "2022-07-12T09:31:58.754687Z",
     "shell.execute_reply": "2022-07-12T09:31:58.754283Z"
    },
    "papermill": {
     "duration": 0.022519,
     "end_time": "2022-07-12T09:31:58.755984",
     "exception": false,
     "start_time": "2022-07-12T09:31:58.733465",
     "status": "completed"
    },
    "tags": []
   },
   "outputs": [
    {
     "data": {
      "text/plain": [
       "['Skin_Not_Sun_Exposed_Suprapubic',\n",
       " 'Cells_EBV-transformed_lymphocytes',\n",
       " 'Brain_Frontal_Cortex_BA9',\n",
       " 'Kidney_Cortex',\n",
       " 'Brain_Substantia_nigra']"
      ]
     },
     "execution_count": 18,
     "metadata": {},
     "output_type": "execute_result"
    }
   ],
   "source": [
    "prediction_model_tissues[:5]"
   ]
  },
  {
   "cell_type": "markdown",
   "id": "abcc4b3d",
   "metadata": {
    "papermill": {
     "duration": 0.006199,
     "end_time": "2022-07-12T09:31:58.768631",
     "exception": false,
     "start_time": "2022-07-12T09:31:58.762432",
     "status": "completed"
    },
    "tags": []
   },
   "source": [
    "## MultiPLIER Z"
   ]
  },
  {
   "cell_type": "code",
   "execution_count": 19,
   "id": "c48ef527",
   "metadata": {
    "execution": {
     "iopub.execute_input": "2022-07-12T09:31:58.782197Z",
     "iopub.status.busy": "2022-07-12T09:31:58.781877Z",
     "iopub.status.idle": "2022-07-12T09:31:58.823972Z",
     "shell.execute_reply": "2022-07-12T09:31:58.823523Z"
    },
    "papermill": {
     "duration": 0.050374,
     "end_time": "2022-07-12T09:31:58.825331",
     "exception": false,
     "start_time": "2022-07-12T09:31:58.774957",
     "status": "completed"
    },
    "tags": []
   },
   "outputs": [],
   "source": [
    "multiplier_z_genes = pd.read_pickle(\n",
    "    conf.MULTIPLIER[\"MODEL_Z_MATRIX_FILE\"]\n",
    ").index.tolist()"
   ]
  },
  {
   "cell_type": "code",
   "execution_count": 20,
   "id": "0a4ecbd9",
   "metadata": {
    "execution": {
     "iopub.execute_input": "2022-07-12T09:31:58.839517Z",
     "iopub.status.busy": "2022-07-12T09:31:58.839317Z",
     "iopub.status.idle": "2022-07-12T09:31:58.856395Z",
     "shell.execute_reply": "2022-07-12T09:31:58.855472Z"
    },
    "papermill": {
     "duration": 0.026123,
     "end_time": "2022-07-12T09:31:58.858278",
     "exception": false,
     "start_time": "2022-07-12T09:31:58.832155",
     "status": "completed"
    },
    "tags": []
   },
   "outputs": [
    {
     "data": {
      "text/plain": [
       "6750"
      ]
     },
     "execution_count": 20,
     "metadata": {},
     "output_type": "execute_result"
    }
   ],
   "source": [
    "len(multiplier_z_genes)"
   ]
  },
  {
   "cell_type": "code",
   "execution_count": 21,
   "id": "115e8864",
   "metadata": {
    "execution": {
     "iopub.execute_input": "2022-07-12T09:31:58.872276Z",
     "iopub.status.busy": "2022-07-12T09:31:58.872102Z",
     "iopub.status.idle": "2022-07-12T09:31:58.886904Z",
     "shell.execute_reply": "2022-07-12T09:31:58.886474Z"
    },
    "papermill": {
     "duration": 0.023396,
     "end_time": "2022-07-12T09:31:58.888167",
     "exception": false,
     "start_time": "2022-07-12T09:31:58.864771",
     "status": "completed"
    },
    "tags": []
   },
   "outputs": [
    {
     "data": {
      "text/plain": [
       "['GAS6',\n",
       " 'MMP14',\n",
       " 'DSP',\n",
       " 'MARCKSL1',\n",
       " 'SPARC',\n",
       " 'CTSD',\n",
       " 'EPAS1',\n",
       " 'PALLD',\n",
       " 'PHC2',\n",
       " 'LGALS3BP']"
      ]
     },
     "execution_count": 21,
     "metadata": {},
     "output_type": "execute_result"
    }
   ],
   "source": [
    "multiplier_z_genes[:10]"
   ]
  },
  {
   "cell_type": "markdown",
   "id": "7dcb8db7",
   "metadata": {
    "papermill": {
     "duration": 0.00645,
     "end_time": "2022-07-12T09:31:58.901464",
     "exception": false,
     "start_time": "2022-07-12T09:31:58.895014",
     "status": "completed"
    },
    "tags": []
   },
   "source": [
    "## Get gene objects"
   ]
  },
  {
   "cell_type": "code",
   "execution_count": 22,
   "id": "bb932812",
   "metadata": {
    "execution": {
     "iopub.execute_input": "2022-07-12T09:31:58.915597Z",
     "iopub.status.busy": "2022-07-12T09:31:58.915283Z",
     "iopub.status.idle": "2022-07-12T09:31:58.936777Z",
     "shell.execute_reply": "2022-07-12T09:31:58.936369Z"
    },
    "papermill": {
     "duration": 0.030045,
     "end_time": "2022-07-12T09:31:58.938177",
     "exception": false,
     "start_time": "2022-07-12T09:31:58.908132",
     "status": "completed"
    },
    "tags": []
   },
   "outputs": [],
   "source": [
    "multiplier_gene_obj = {\n",
    "    gene_name: Gene(name=gene_name)\n",
    "    for gene_name in multiplier_z_genes\n",
    "    if gene_name in Gene.GENE_NAME_TO_ID_MAP\n",
    "}"
   ]
  },
  {
   "cell_type": "code",
   "execution_count": 23,
   "id": "39533214",
   "metadata": {
    "execution": {
     "iopub.execute_input": "2022-07-12T09:31:58.952405Z",
     "iopub.status.busy": "2022-07-12T09:31:58.952248Z",
     "iopub.status.idle": "2022-07-12T09:31:58.967634Z",
     "shell.execute_reply": "2022-07-12T09:31:58.967199Z"
    },
    "papermill": {
     "duration": 0.023757,
     "end_time": "2022-07-12T09:31:58.968813",
     "exception": false,
     "start_time": "2022-07-12T09:31:58.945056",
     "status": "completed"
    },
    "tags": []
   },
   "outputs": [
    {
     "data": {
      "text/plain": [
       "6454"
      ]
     },
     "execution_count": 23,
     "metadata": {},
     "output_type": "execute_result"
    }
   ],
   "source": [
    "len(multiplier_gene_obj)"
   ]
  },
  {
   "cell_type": "code",
   "execution_count": 24,
   "id": "9a5d0b84",
   "metadata": {
    "execution": {
     "iopub.execute_input": "2022-07-12T09:31:58.983185Z",
     "iopub.status.busy": "2022-07-12T09:31:58.982574Z",
     "iopub.status.idle": "2022-07-12T09:31:58.997444Z",
     "shell.execute_reply": "2022-07-12T09:31:58.996966Z"
    },
    "papermill": {
     "duration": 0.023249,
     "end_time": "2022-07-12T09:31:58.998669",
     "exception": false,
     "start_time": "2022-07-12T09:31:58.975420",
     "status": "completed"
    },
    "tags": []
   },
   "outputs": [
    {
     "data": {
      "text/plain": [
       "'ENSG00000183087'"
      ]
     },
     "execution_count": 24,
     "metadata": {},
     "output_type": "execute_result"
    }
   ],
   "source": [
    "multiplier_gene_obj[\"GAS6\"].ensembl_id"
   ]
  },
  {
   "cell_type": "code",
   "execution_count": 25,
   "id": "e3ffabc7",
   "metadata": {
    "execution": {
     "iopub.execute_input": "2022-07-12T09:31:59.013720Z",
     "iopub.status.busy": "2022-07-12T09:31:59.013525Z",
     "iopub.status.idle": "2022-07-12T09:32:01.160231Z",
     "shell.execute_reply": "2022-07-12T09:32:01.159727Z"
    },
    "papermill": {
     "duration": 2.15571,
     "end_time": "2022-07-12T09:32:01.161543",
     "exception": false,
     "start_time": "2022-07-12T09:31:59.005833",
     "status": "completed"
    },
    "tags": []
   },
   "outputs": [],
   "source": [
    "_gene_obj = list(multiplier_gene_obj.values())\n",
    "\n",
    "genes_info = pd.DataFrame(\n",
    "    {\n",
    "        \"name\": [g.name for g in _gene_obj],\n",
    "        \"id\": [g.ensembl_id for g in _gene_obj],\n",
    "        \"chr\": [g.chromosome for g in _gene_obj],\n",
    "        \"band\": [g.band for g in _gene_obj],\n",
    "        \"start_position\": [g.get_attribute(\"start_position\") for g in _gene_obj],\n",
    "    }\n",
    ")"
   ]
  },
  {
   "cell_type": "code",
   "execution_count": 26,
   "id": "e23519b8",
   "metadata": {
    "execution": {
     "iopub.execute_input": "2022-07-12T09:32:01.177375Z",
     "iopub.status.busy": "2022-07-12T09:32:01.177173Z",
     "iopub.status.idle": "2022-07-12T09:32:01.191771Z",
     "shell.execute_reply": "2022-07-12T09:32:01.191346Z"
    },
    "papermill": {
     "duration": 0.023092,
     "end_time": "2022-07-12T09:32:01.192995",
     "exception": false,
     "start_time": "2022-07-12T09:32:01.169903",
     "status": "completed"
    },
    "tags": []
   },
   "outputs": [
    {
     "data": {
      "text/plain": [
       "(6454, 5)"
      ]
     },
     "execution_count": 26,
     "metadata": {},
     "output_type": "execute_result"
    }
   ],
   "source": [
    "genes_info.shape"
   ]
  },
  {
   "cell_type": "code",
   "execution_count": 27,
   "id": "0d71881c",
   "metadata": {
    "execution": {
     "iopub.execute_input": "2022-07-12T09:32:01.208737Z",
     "iopub.status.busy": "2022-07-12T09:32:01.208491Z",
     "iopub.status.idle": "2022-07-12T09:32:01.228213Z",
     "shell.execute_reply": "2022-07-12T09:32:01.227795Z"
    },
    "papermill": {
     "duration": 0.029247,
     "end_time": "2022-07-12T09:32:01.229498",
     "exception": false,
     "start_time": "2022-07-12T09:32:01.200251",
     "status": "completed"
    },
    "tags": []
   },
   "outputs": [
    {
     "data": {
      "text/html": [
       "<div>\n",
       "<style scoped>\n",
       "    .dataframe tbody tr th:only-of-type {\n",
       "        vertical-align: middle;\n",
       "    }\n",
       "\n",
       "    .dataframe tbody tr th {\n",
       "        vertical-align: top;\n",
       "    }\n",
       "\n",
       "    .dataframe thead th {\n",
       "        text-align: right;\n",
       "    }\n",
       "</style>\n",
       "<table border=\"1\" class=\"dataframe\">\n",
       "  <thead>\n",
       "    <tr style=\"text-align: right;\">\n",
       "      <th></th>\n",
       "      <th>name</th>\n",
       "      <th>id</th>\n",
       "      <th>chr</th>\n",
       "      <th>band</th>\n",
       "      <th>start_position</th>\n",
       "    </tr>\n",
       "  </thead>\n",
       "  <tbody>\n",
       "    <tr>\n",
       "      <th>0</th>\n",
       "      <td>GAS6</td>\n",
       "      <td>ENSG00000183087</td>\n",
       "      <td>13</td>\n",
       "      <td>13q34</td>\n",
       "      <td>113820549.0</td>\n",
       "    </tr>\n",
       "    <tr>\n",
       "      <th>1</th>\n",
       "      <td>MMP14</td>\n",
       "      <td>ENSG00000157227</td>\n",
       "      <td>14</td>\n",
       "      <td>14q11.2</td>\n",
       "      <td>22836560.0</td>\n",
       "    </tr>\n",
       "    <tr>\n",
       "      <th>2</th>\n",
       "      <td>DSP</td>\n",
       "      <td>ENSG00000096696</td>\n",
       "      <td>6</td>\n",
       "      <td>6p24.3</td>\n",
       "      <td>7541617.0</td>\n",
       "    </tr>\n",
       "    <tr>\n",
       "      <th>3</th>\n",
       "      <td>MARCKSL1</td>\n",
       "      <td>ENSG00000175130</td>\n",
       "      <td>1</td>\n",
       "      <td>1p35.1</td>\n",
       "      <td>32333839.0</td>\n",
       "    </tr>\n",
       "    <tr>\n",
       "      <th>4</th>\n",
       "      <td>SPARC</td>\n",
       "      <td>ENSG00000113140</td>\n",
       "      <td>5</td>\n",
       "      <td>5q33.1</td>\n",
       "      <td>151661096.0</td>\n",
       "    </tr>\n",
       "  </tbody>\n",
       "</table>\n",
       "</div>"
      ],
      "text/plain": [
       "       name               id chr     band  start_position\n",
       "0      GAS6  ENSG00000183087  13    13q34     113820549.0\n",
       "1     MMP14  ENSG00000157227  14  14q11.2      22836560.0\n",
       "2       DSP  ENSG00000096696   6   6p24.3       7541617.0\n",
       "3  MARCKSL1  ENSG00000175130   1   1p35.1      32333839.0\n",
       "4     SPARC  ENSG00000113140   5   5q33.1     151661096.0"
      ]
     },
     "execution_count": 27,
     "metadata": {},
     "output_type": "execute_result"
    }
   ],
   "source": [
    "genes_info.head()"
   ]
  },
  {
   "cell_type": "markdown",
   "id": "c8d1038f",
   "metadata": {
    "papermill": {
     "duration": 0.007167,
     "end_time": "2022-07-12T09:32:01.244112",
     "exception": false,
     "start_time": "2022-07-12T09:32:01.236945",
     "status": "completed"
    },
    "tags": []
   },
   "source": [
    "# Test"
   ]
  },
  {
   "cell_type": "code",
   "execution_count": 28,
   "id": "64993abf",
   "metadata": {
    "execution": {
     "iopub.execute_input": "2022-07-12T09:32:01.259927Z",
     "iopub.status.busy": "2022-07-12T09:32:01.259727Z",
     "iopub.status.idle": "2022-07-12T09:32:01.284433Z",
     "shell.execute_reply": "2022-07-12T09:32:01.283997Z"
    },
    "papermill": {
     "duration": 0.033951,
     "end_time": "2022-07-12T09:32:01.285654",
     "exception": false,
     "start_time": "2022-07-12T09:32:01.251703",
     "status": "completed"
    },
    "tags": []
   },
   "outputs": [
    {
     "data": {
      "text/html": [
       "<div>\n",
       "<style scoped>\n",
       "    .dataframe tbody tr th:only-of-type {\n",
       "        vertical-align: middle;\n",
       "    }\n",
       "\n",
       "    .dataframe tbody tr th {\n",
       "        vertical-align: top;\n",
       "    }\n",
       "\n",
       "    .dataframe thead th {\n",
       "        text-align: right;\n",
       "    }\n",
       "</style>\n",
       "<table border=\"1\" class=\"dataframe\">\n",
       "  <thead>\n",
       "    <tr style=\"text-align: right;\">\n",
       "      <th></th>\n",
       "      <th>name</th>\n",
       "      <th>id</th>\n",
       "      <th>chr</th>\n",
       "      <th>band</th>\n",
       "      <th>start_position</th>\n",
       "    </tr>\n",
       "  </thead>\n",
       "  <tbody>\n",
       "    <tr>\n",
       "      <th>11</th>\n",
       "      <td>TGM2</td>\n",
       "      <td>ENSG00000198959</td>\n",
       "      <td>20</td>\n",
       "      <td>20q11.23</td>\n",
       "      <td>38127385.0</td>\n",
       "    </tr>\n",
       "    <tr>\n",
       "      <th>23</th>\n",
       "      <td>CST3</td>\n",
       "      <td>ENSG00000101439</td>\n",
       "      <td>20</td>\n",
       "      <td>20p11.21</td>\n",
       "      <td>23626706.0</td>\n",
       "    </tr>\n",
       "    <tr>\n",
       "      <th>36</th>\n",
       "      <td>TOMM34</td>\n",
       "      <td>ENSG00000025772</td>\n",
       "      <td>20</td>\n",
       "      <td>20q13.12</td>\n",
       "      <td>44942130.0</td>\n",
       "    </tr>\n",
       "    <tr>\n",
       "      <th>44</th>\n",
       "      <td>PLTP</td>\n",
       "      <td>ENSG00000100979</td>\n",
       "      <td>20</td>\n",
       "      <td>20q13.12</td>\n",
       "      <td>45898621.0</td>\n",
       "    </tr>\n",
       "    <tr>\n",
       "      <th>67</th>\n",
       "      <td>PKIG</td>\n",
       "      <td>ENSG00000168734</td>\n",
       "      <td>20</td>\n",
       "      <td>20q13.12</td>\n",
       "      <td>44531785.0</td>\n",
       "    </tr>\n",
       "    <tr>\n",
       "      <th>...</th>\n",
       "      <td>...</td>\n",
       "      <td>...</td>\n",
       "      <td>...</td>\n",
       "      <td>...</td>\n",
       "      <td>...</td>\n",
       "    </tr>\n",
       "    <tr>\n",
       "      <th>6300</th>\n",
       "      <td>MYL9</td>\n",
       "      <td>ENSG00000101335</td>\n",
       "      <td>20</td>\n",
       "      <td>20q11.23</td>\n",
       "      <td>36541497.0</td>\n",
       "    </tr>\n",
       "    <tr>\n",
       "      <th>6388</th>\n",
       "      <td>EDN3</td>\n",
       "      <td>ENSG00000124205</td>\n",
       "      <td>20</td>\n",
       "      <td>20q13.32</td>\n",
       "      <td>59300443.0</td>\n",
       "    </tr>\n",
       "    <tr>\n",
       "      <th>6393</th>\n",
       "      <td>CSNK2A1</td>\n",
       "      <td>ENSG00000101266</td>\n",
       "      <td>20</td>\n",
       "      <td>20p13</td>\n",
       "      <td>472498.0</td>\n",
       "    </tr>\n",
       "    <tr>\n",
       "      <th>6405</th>\n",
       "      <td>PREX1</td>\n",
       "      <td>ENSG00000124126</td>\n",
       "      <td>20</td>\n",
       "      <td>20q13.13</td>\n",
       "      <td>48624252.0</td>\n",
       "    </tr>\n",
       "    <tr>\n",
       "      <th>6426</th>\n",
       "      <td>SLC13A3</td>\n",
       "      <td>ENSG00000158296</td>\n",
       "      <td>20</td>\n",
       "      <td>20q13.12</td>\n",
       "      <td>46557823.0</td>\n",
       "    </tr>\n",
       "  </tbody>\n",
       "</table>\n",
       "<p>187 rows × 5 columns</p>\n",
       "</div>"
      ],
      "text/plain": [
       "         name               id chr      band  start_position\n",
       "11       TGM2  ENSG00000198959  20  20q11.23      38127385.0\n",
       "23       CST3  ENSG00000101439  20  20p11.21      23626706.0\n",
       "36     TOMM34  ENSG00000025772  20  20q13.12      44942130.0\n",
       "44       PLTP  ENSG00000100979  20  20q13.12      45898621.0\n",
       "67       PKIG  ENSG00000168734  20  20q13.12      44531785.0\n",
       "...       ...              ...  ..       ...             ...\n",
       "6300     MYL9  ENSG00000101335  20  20q11.23      36541497.0\n",
       "6388     EDN3  ENSG00000124205  20  20q13.32      59300443.0\n",
       "6393  CSNK2A1  ENSG00000101266  20     20p13        472498.0\n",
       "6405    PREX1  ENSG00000124126  20  20q13.13      48624252.0\n",
       "6426  SLC13A3  ENSG00000158296  20  20q13.12      46557823.0\n",
       "\n",
       "[187 rows x 5 columns]"
      ]
     },
     "metadata": {},
     "output_type": "display_data"
    }
   ],
   "source": [
    "chromosome_genes_info = genes_info[genes_info[\"chr\"] == chromosome]\n",
    "display(chromosome_genes_info)"
   ]
  },
  {
   "cell_type": "code",
   "execution_count": 29,
   "id": "d2e42726-7de6-46eb-acfc-6323eaa8fae6",
   "metadata": {
    "execution": {
     "iopub.execute_input": "2022-07-12T09:32:01.301530Z",
     "iopub.status.busy": "2022-07-12T09:32:01.301328Z",
     "iopub.status.idle": "2022-07-12T09:32:01.316831Z",
     "shell.execute_reply": "2022-07-12T09:32:01.316405Z"
    },
    "papermill": {
     "duration": 0.024998,
     "end_time": "2022-07-12T09:32:01.317997",
     "exception": false,
     "start_time": "2022-07-12T09:32:01.292999",
     "status": "completed"
    },
    "tags": []
   },
   "outputs": [
    {
     "data": {
      "text/plain": [
       "5"
      ]
     },
     "metadata": {},
     "output_type": "display_data"
    }
   ],
   "source": [
    "seed(0)\n",
    "_gene_list_ids = sample(chromosome_genes_info[\"id\"].tolist(), 5)\n",
    "selected_chromosome_genes_obj = [Gene(ensembl_id=g_id) for g_id in _gene_list_ids]\n",
    "display(len(selected_chromosome_genes_obj))"
   ]
  },
  {
   "cell_type": "code",
   "execution_count": 30,
   "id": "1b355359",
   "metadata": {
    "execution": {
     "iopub.execute_input": "2022-07-12T09:32:01.333673Z",
     "iopub.status.busy": "2022-07-12T09:32:01.333250Z",
     "iopub.status.idle": "2022-07-12T09:32:01.349813Z",
     "shell.execute_reply": "2022-07-12T09:32:01.349359Z"
    },
    "papermill": {
     "duration": 0.025559,
     "end_time": "2022-07-12T09:32:01.350967",
     "exception": false,
     "start_time": "2022-07-12T09:32:01.325408",
     "status": "completed"
    },
    "tags": []
   },
   "outputs": [
    {
     "name": "stdout",
     "output_type": "stream",
     "text": [
      "NTSR1 / CRNKL1: 0.0\n",
      "NTSR1 / ADA: 0.0\n",
      "NTSR1 / FKBP1A: 0.0\n",
      "NTSR1 / PTPN1: 0.0\n",
      "CRNKL1 / ADA: 0.0\n",
      "CRNKL1 / FKBP1A: 0.0\n",
      "CRNKL1 / PTPN1: 0.0\n",
      "ADA / FKBP1A: 0.0\n",
      "ADA / PTPN1: 0.0\n",
      "FKBP1A / PTPN1: 0.0\n"
     ]
    }
   ],
   "source": [
    "for gene_idx1 in range(0, len(selected_chromosome_genes_obj) - 1):\n",
    "    gene_obj1 = selected_chromosome_genes_obj[gene_idx1]\n",
    "\n",
    "    for gene_idx2 in range(gene_idx1 + 1, len(selected_chromosome_genes_obj)):\n",
    "        gene_obj2 = selected_chromosome_genes_obj[gene_idx2]\n",
    "\n",
    "        c = gene_obj1.get_ssm_correlation(\n",
    "            gene_obj2,\n",
    "        )\n",
    "\n",
    "        print(f\"{gene_obj1.name} / {gene_obj2.name}: {c}\")"
   ]
  },
  {
   "cell_type": "markdown",
   "id": "d3843e06",
   "metadata": {
    "papermill": {
     "duration": 0.007255,
     "end_time": "2022-07-12T09:32:01.365604",
     "exception": false,
     "start_time": "2022-07-12T09:32:01.358349",
     "status": "completed"
    },
    "tags": []
   },
   "source": [
    "# Compute correlation per chromosome"
   ]
  },
  {
   "cell_type": "code",
   "execution_count": 31,
   "id": "cb859c15-d1f3-4006-a74c-2b83c0db9611",
   "metadata": {
    "execution": {
     "iopub.execute_input": "2022-07-12T09:32:01.381730Z",
     "iopub.status.busy": "2022-07-12T09:32:01.381331Z",
     "iopub.status.idle": "2022-07-12T09:32:01.396369Z",
     "shell.execute_reply": "2022-07-12T09:32:01.395936Z"
    },
    "papermill": {
     "duration": 0.024459,
     "end_time": "2022-07-12T09:32:01.397537",
     "exception": false,
     "start_time": "2022-07-12T09:32:01.373078",
     "status": "completed"
    },
    "tags": []
   },
   "outputs": [
    {
     "data": {
      "text/plain": [
       "PosixPath('/opt/data/data/phenomexcan/ld_blocks/gene_corrs/1000g/mashr/by_chr/gene_corrs-chr20.pkl')"
      ]
     },
     "metadata": {},
     "output_type": "display_data"
    }
   ],
   "source": [
    "output_dir = OUTPUT_DIR_BASE / \"by_chr\"\n",
    "output_dir.mkdir(exist_ok=True, parents=True)\n",
    "output_file = output_dir / f\"gene_corrs-chr{chromosome}.pkl\"\n",
    "display(output_file)"
   ]
  },
  {
   "cell_type": "code",
   "execution_count": 32,
   "id": "aa674fe4-6794-4eed-98fa-32b39d1d4ace",
   "metadata": {
    "execution": {
     "iopub.execute_input": "2022-07-12T09:32:01.413750Z",
     "iopub.status.busy": "2022-07-12T09:32:01.413555Z",
     "iopub.status.idle": "2022-07-12T09:32:01.427077Z",
     "shell.execute_reply": "2022-07-12T09:32:01.426693Z"
    },
    "papermill": {
     "duration": 0.023044,
     "end_time": "2022-07-12T09:32:01.428335",
     "exception": false,
     "start_time": "2022-07-12T09:32:01.405291",
     "status": "completed"
    },
    "tags": []
   },
   "outputs": [],
   "source": [
    "warnings.filterwarnings(\"error\")"
   ]
  },
  {
   "cell_type": "code",
   "execution_count": 33,
   "id": "cdbb90a1",
   "metadata": {
    "execution": {
     "iopub.execute_input": "2022-07-12T09:32:01.444577Z",
     "iopub.status.busy": "2022-07-12T09:32:01.444136Z",
     "iopub.status.idle": "2022-07-12T09:57:09.072310Z",
     "shell.execute_reply": "2022-07-12T09:57:09.071898Z"
    },
    "papermill": {
     "duration": 1507.637803,
     "end_time": "2022-07-12T09:57:09.073647",
     "exception": false,
     "start_time": "2022-07-12T09:32:01.435844",
     "status": "completed"
    },
    "tags": []
   },
   "outputs": [
    {
     "name": "stdout",
     "output_type": "stream",
     "text": [
      "Number of genes in chromosome: 187\n",
      "Number of gene combinations: 17391\n"
     ]
    },
    {
     "name": "stderr",
     "output_type": "stream",
     "text": [
      "ENSG00000171700 / ENSG00000125510: 100%|██████████████████████| 17391/17391 [25:07<00:00, 11.54it/s]"
     ]
    },
    {
     "name": "stdout",
     "output_type": "stream",
     "text": [
      "Min/max values: 3.5267260245432646e-09 / 0.985687112048068\n"
     ]
    },
    {
     "name": "stderr",
     "output_type": "stream",
     "text": [
      "\n"
     ]
    },
    {
     "data": {
      "text/plain": [
       "PosixPath('/opt/data/data/phenomexcan/ld_blocks/gene_corrs/1000g/mashr/by_chr/gene_corrs-chr20.pkl')"
      ]
     },
     "metadata": {},
     "output_type": "display_data"
    }
   ],
   "source": [
    "# standard checks\n",
    "all_chrs = genes_info[\"chr\"].dropna().unique()\n",
    "assert all_chrs.shape[0] == 22\n",
    "\n",
    "# select chromosome given by the user\n",
    "assert chromosome in all_chrs\n",
    "\n",
    "# run only on the chromosome specified\n",
    "all_chrs = [chromosome]\n",
    "genes_chr = genes_info[genes_info[\"chr\"] == chromosome]\n",
    "\n",
    "# For testing purposes\n",
    "# genes_chr = genes_chr.sample(n=20)\n",
    "\n",
    "print(f\"Number of genes in chromosome: {genes_chr.shape[0]}\", flush=True)\n",
    "\n",
    "# sort genes by starting position to make visualizations better later\n",
    "genes_chr = genes_chr.sort_values(\"start_position\")\n",
    "\n",
    "gene_chr_objs = [Gene(ensembl_id=gene_id) for gene_id in genes_chr[\"id\"]]\n",
    "gene_chr_ids = [g.ensembl_id for g in gene_chr_objs]\n",
    "\n",
    "n = len(gene_chr_objs)\n",
    "n_comb = int(n * (n - 1) / 2.0)\n",
    "print(f\"Number of gene combinations: {n_comb}\", flush=True)\n",
    "\n",
    "gene_corrs = []\n",
    "\n",
    "pbar = tqdm(ncols=100, total=n_comb)\n",
    "i = 0\n",
    "for gene_idx1 in range(0, len(gene_chr_objs) - 1):\n",
    "    gene_obj1 = gene_chr_objs[gene_idx1]\n",
    "\n",
    "    for gene_idx2 in range(gene_idx1 + 1, len(gene_chr_objs)):\n",
    "        gene_obj2 = gene_chr_objs[gene_idx2]\n",
    "\n",
    "        pbar.set_description(f\"{gene_obj1.ensembl_id} / {gene_obj2.ensembl_id}\")\n",
    "\n",
    "        try:\n",
    "            # FIXME: compute the correlation of the sum of squares of the model using all\n",
    "            # the available tissues; this could be problematic because for some results\n",
    "            # (computed on a specific phenotype/GWAS) we might not have all the tissues\n",
    "            # available, which can certainly bias the correlation estimation.\n",
    "            # Since this depends on the GWAS on a specific phenotype, we should ideally have\n",
    "            # one correlation matrix per GWAS. I should look at how we can improve this.\n",
    "            r = gene_obj1.get_ssm_correlation(\n",
    "                other_gene=gene_obj2,\n",
    "                condition_number=SMULTIXCAN_CONDITION_NUMBER,\n",
    "                reference_panel=REFERENCE_PANEL,\n",
    "                model_type=EQTL_MODEL,\n",
    "                use_within_distance=COMPUTE_CORRELATIONS_WITHIN_DISTANCE,\n",
    "            )\n",
    "\n",
    "            if r is None:\n",
    "                # if r is None, it's very likely because:\n",
    "                #  * one of the genes has no prediction models\n",
    "                #  * all the SNPs predictors for the gene are not present in the reference\n",
    "                #    panel\n",
    "\n",
    "                r = 0.0\n",
    "\n",
    "            gene_corrs.append(r)\n",
    "        except Warning:\n",
    "            print(\n",
    "                f\"RuntimeWarning for genes {gene_obj1.ensembl_id} and {gene_obj2.ensembl_id}\",\n",
    "                flush=True,\n",
    "            )\n",
    "            import traceback\n",
    "\n",
    "            print(traceback.format_exc(), flush=True)\n",
    "        except Exception as e:\n",
    "            print(\n",
    "                f\"Exception for genes {gene_obj1.ensembl_id} and {gene_obj2.ensembl_id}\",\n",
    "                flush=True,\n",
    "            )\n",
    "            import traceback\n",
    "\n",
    "            print(traceback.format_exc(), flush=True)\n",
    "            gene_corrs.append(np.nan)\n",
    "\n",
    "        pbar.update(1)\n",
    "\n",
    "pbar.close()\n",
    "\n",
    "# testing\n",
    "gene_corrs_flat = pd.Series(gene_corrs)\n",
    "print(f\"Min/max values: {gene_corrs_flat.min()} / {gene_corrs_flat.max()}\")\n",
    "assert gene_corrs_flat.min() >= -1.001\n",
    "assert gene_corrs_flat.max() <= 1.001\n",
    "\n",
    "# save\n",
    "# FIXME: consider saving only the condenced matrix here. See here for\n",
    "# more details: https://github.com/greenelab/phenoplier/pull/38#discussion_r634600813\n",
    "gene_corrs_data = squareform(np.array(gene_corrs, dtype=np.float64))\n",
    "np.fill_diagonal(gene_corrs_data, 1.0)\n",
    "\n",
    "gene_corrs_df = pd.DataFrame(\n",
    "    data=gene_corrs_data,\n",
    "    index=gene_chr_ids,\n",
    "    columns=gene_chr_ids,\n",
    ")\n",
    "\n",
    "output_dir.mkdir(exist_ok=True, parents=True)\n",
    "display(output_file)\n",
    "\n",
    "gene_corrs_df.to_pickle(output_file)"
   ]
  },
  {
   "cell_type": "markdown",
   "id": "faa67b51-5373-470f-aa72-2ded53fa6dfe",
   "metadata": {
    "papermill": {
     "duration": 0.962075,
     "end_time": "2022-07-12T09:57:11.018585",
     "exception": false,
     "start_time": "2022-07-12T09:57:10.056510",
     "status": "completed"
    },
    "tags": []
   },
   "source": [
    "# Testing"
   ]
  },
  {
   "cell_type": "code",
   "execution_count": 34,
   "id": "14f7d046-4b55-4896-a56b-990127bcc388",
   "metadata": {
    "execution": {
     "iopub.execute_input": "2022-07-12T09:57:12.919386Z",
     "iopub.status.busy": "2022-07-12T09:57:12.919162Z",
     "iopub.status.idle": "2022-07-12T09:57:12.936778Z",
     "shell.execute_reply": "2022-07-12T09:57:12.936303Z"
    },
    "papermill": {
     "duration": 0.967783,
     "end_time": "2022-07-12T09:57:12.937964",
     "exception": false,
     "start_time": "2022-07-12T09:57:11.970181",
     "status": "completed"
    },
    "tags": []
   },
   "outputs": [
    {
     "data": {
      "text/plain": [
       "(187, 187)"
      ]
     },
     "execution_count": 34,
     "metadata": {},
     "output_type": "execute_result"
    }
   ],
   "source": [
    "gene_corrs_df.shape"
   ]
  },
  {
   "cell_type": "code",
   "execution_count": 35,
   "id": "c7d15414-3297-4537-a7c6-7588c0baeb75",
   "metadata": {
    "execution": {
     "iopub.execute_input": "2022-07-12T09:57:14.870910Z",
     "iopub.status.busy": "2022-07-12T09:57:14.870702Z",
     "iopub.status.idle": "2022-07-12T09:57:14.899150Z",
     "shell.execute_reply": "2022-07-12T09:57:14.898749Z"
    },
    "papermill": {
     "duration": 1.019908,
     "end_time": "2022-07-12T09:57:14.900387",
     "exception": false,
     "start_time": "2022-07-12T09:57:13.880479",
     "status": "completed"
    },
    "tags": []
   },
   "outputs": [
    {
     "data": {
      "text/html": [
       "<div>\n",
       "<style scoped>\n",
       "    .dataframe tbody tr th:only-of-type {\n",
       "        vertical-align: middle;\n",
       "    }\n",
       "\n",
       "    .dataframe tbody tr th {\n",
       "        vertical-align: top;\n",
       "    }\n",
       "\n",
       "    .dataframe thead th {\n",
       "        text-align: right;\n",
       "    }\n",
       "</style>\n",
       "<table border=\"1\" class=\"dataframe\">\n",
       "  <thead>\n",
       "    <tr style=\"text-align: right;\">\n",
       "      <th></th>\n",
       "      <th>ENSG00000101255</th>\n",
       "      <th>ENSG00000125826</th>\n",
       "      <th>ENSG00000101266</th>\n",
       "      <th>ENSG00000101280</th>\n",
       "      <th>ENSG00000125818</th>\n",
       "      <th>ENSG00000101298</th>\n",
       "      <th>ENSG00000088832</th>\n",
       "      <th>ENSG00000101307</th>\n",
       "      <th>ENSG00000089012</th>\n",
       "      <th>ENSG00000198053</th>\n",
       "      <th>...</th>\n",
       "      <th>ENSG00000092758</th>\n",
       "      <th>ENSG00000101191</th>\n",
       "      <th>ENSG00000101199</th>\n",
       "      <th>ENSG00000243509</th>\n",
       "      <th>ENSG00000203896</th>\n",
       "      <th>ENSG00000101152</th>\n",
       "      <th>ENSG00000198276</th>\n",
       "      <th>ENSG00000101161</th>\n",
       "      <th>ENSG00000171700</th>\n",
       "      <th>ENSG00000125510</th>\n",
       "    </tr>\n",
       "  </thead>\n",
       "  <tbody>\n",
       "    <tr>\n",
       "      <th>ENSG00000101255</th>\n",
       "      <td>1.000000</td>\n",
       "      <td>0.050683</td>\n",
       "      <td>0.017861</td>\n",
       "      <td>0.011775</td>\n",
       "      <td>0.002720</td>\n",
       "      <td>0.008144</td>\n",
       "      <td>0.013091</td>\n",
       "      <td>0.003198</td>\n",
       "      <td>0.010352</td>\n",
       "      <td>0.010639</td>\n",
       "      <td>...</td>\n",
       "      <td>0.010817</td>\n",
       "      <td>0.004357</td>\n",
       "      <td>0.004852</td>\n",
       "      <td>0.007574</td>\n",
       "      <td>0.007163</td>\n",
       "      <td>0.009123</td>\n",
       "      <td>0.013946</td>\n",
       "      <td>0.006803</td>\n",
       "      <td>0.003290</td>\n",
       "      <td>0.002943</td>\n",
       "    </tr>\n",
       "    <tr>\n",
       "      <th>ENSG00000125826</th>\n",
       "      <td>0.050683</td>\n",
       "      <td>1.000000</td>\n",
       "      <td>0.066958</td>\n",
       "      <td>0.008757</td>\n",
       "      <td>0.004395</td>\n",
       "      <td>0.016771</td>\n",
       "      <td>0.015061</td>\n",
       "      <td>0.008082</td>\n",
       "      <td>0.013727</td>\n",
       "      <td>0.014500</td>\n",
       "      <td>...</td>\n",
       "      <td>0.017529</td>\n",
       "      <td>0.007586</td>\n",
       "      <td>0.005689</td>\n",
       "      <td>0.011303</td>\n",
       "      <td>0.008357</td>\n",
       "      <td>0.011255</td>\n",
       "      <td>0.013041</td>\n",
       "      <td>0.010534</td>\n",
       "      <td>0.006084</td>\n",
       "      <td>0.010055</td>\n",
       "    </tr>\n",
       "    <tr>\n",
       "      <th>ENSG00000101266</th>\n",
       "      <td>0.017861</td>\n",
       "      <td>0.066958</td>\n",
       "      <td>1.000000</td>\n",
       "      <td>0.014596</td>\n",
       "      <td>0.005386</td>\n",
       "      <td>0.015147</td>\n",
       "      <td>0.015111</td>\n",
       "      <td>0.005819</td>\n",
       "      <td>0.013618</td>\n",
       "      <td>0.012445</td>\n",
       "      <td>...</td>\n",
       "      <td>0.011729</td>\n",
       "      <td>0.003911</td>\n",
       "      <td>0.008595</td>\n",
       "      <td>0.015707</td>\n",
       "      <td>0.013311</td>\n",
       "      <td>0.006752</td>\n",
       "      <td>0.012068</td>\n",
       "      <td>0.007939</td>\n",
       "      <td>0.000585</td>\n",
       "      <td>0.002613</td>\n",
       "    </tr>\n",
       "    <tr>\n",
       "      <th>ENSG00000101280</th>\n",
       "      <td>0.011775</td>\n",
       "      <td>0.008757</td>\n",
       "      <td>0.014596</td>\n",
       "      <td>1.000000</td>\n",
       "      <td>0.009148</td>\n",
       "      <td>0.013900</td>\n",
       "      <td>0.020965</td>\n",
       "      <td>0.006433</td>\n",
       "      <td>0.014848</td>\n",
       "      <td>0.020986</td>\n",
       "      <td>...</td>\n",
       "      <td>0.023218</td>\n",
       "      <td>0.006336</td>\n",
       "      <td>0.009365</td>\n",
       "      <td>0.015356</td>\n",
       "      <td>0.007332</td>\n",
       "      <td>0.011049</td>\n",
       "      <td>0.015375</td>\n",
       "      <td>0.009719</td>\n",
       "      <td>0.003962</td>\n",
       "      <td>0.005697</td>\n",
       "    </tr>\n",
       "    <tr>\n",
       "      <th>ENSG00000125818</th>\n",
       "      <td>0.002720</td>\n",
       "      <td>0.004395</td>\n",
       "      <td>0.005386</td>\n",
       "      <td>0.009148</td>\n",
       "      <td>1.000000</td>\n",
       "      <td>0.016027</td>\n",
       "      <td>0.013208</td>\n",
       "      <td>0.004112</td>\n",
       "      <td>0.008097</td>\n",
       "      <td>0.010889</td>\n",
       "      <td>...</td>\n",
       "      <td>0.009172</td>\n",
       "      <td>0.001576</td>\n",
       "      <td>0.005930</td>\n",
       "      <td>0.013363</td>\n",
       "      <td>0.003094</td>\n",
       "      <td>0.006388</td>\n",
       "      <td>0.013810</td>\n",
       "      <td>0.011351</td>\n",
       "      <td>0.001159</td>\n",
       "      <td>0.000779</td>\n",
       "    </tr>\n",
       "  </tbody>\n",
       "</table>\n",
       "<p>5 rows × 187 columns</p>\n",
       "</div>"
      ],
      "text/plain": [
       "                 ENSG00000101255  ENSG00000125826  ENSG00000101266  \\\n",
       "ENSG00000101255         1.000000         0.050683         0.017861   \n",
       "ENSG00000125826         0.050683         1.000000         0.066958   \n",
       "ENSG00000101266         0.017861         0.066958         1.000000   \n",
       "ENSG00000101280         0.011775         0.008757         0.014596   \n",
       "ENSG00000125818         0.002720         0.004395         0.005386   \n",
       "\n",
       "                 ENSG00000101280  ENSG00000125818  ENSG00000101298  \\\n",
       "ENSG00000101255         0.011775         0.002720         0.008144   \n",
       "ENSG00000125826         0.008757         0.004395         0.016771   \n",
       "ENSG00000101266         0.014596         0.005386         0.015147   \n",
       "ENSG00000101280         1.000000         0.009148         0.013900   \n",
       "ENSG00000125818         0.009148         1.000000         0.016027   \n",
       "\n",
       "                 ENSG00000088832  ENSG00000101307  ENSG00000089012  \\\n",
       "ENSG00000101255         0.013091         0.003198         0.010352   \n",
       "ENSG00000125826         0.015061         0.008082         0.013727   \n",
       "ENSG00000101266         0.015111         0.005819         0.013618   \n",
       "ENSG00000101280         0.020965         0.006433         0.014848   \n",
       "ENSG00000125818         0.013208         0.004112         0.008097   \n",
       "\n",
       "                 ENSG00000198053  ...  ENSG00000092758  ENSG00000101191  \\\n",
       "ENSG00000101255         0.010639  ...         0.010817         0.004357   \n",
       "ENSG00000125826         0.014500  ...         0.017529         0.007586   \n",
       "ENSG00000101266         0.012445  ...         0.011729         0.003911   \n",
       "ENSG00000101280         0.020986  ...         0.023218         0.006336   \n",
       "ENSG00000125818         0.010889  ...         0.009172         0.001576   \n",
       "\n",
       "                 ENSG00000101199  ENSG00000243509  ENSG00000203896  \\\n",
       "ENSG00000101255         0.004852         0.007574         0.007163   \n",
       "ENSG00000125826         0.005689         0.011303         0.008357   \n",
       "ENSG00000101266         0.008595         0.015707         0.013311   \n",
       "ENSG00000101280         0.009365         0.015356         0.007332   \n",
       "ENSG00000125818         0.005930         0.013363         0.003094   \n",
       "\n",
       "                 ENSG00000101152  ENSG00000198276  ENSG00000101161  \\\n",
       "ENSG00000101255         0.009123         0.013946         0.006803   \n",
       "ENSG00000125826         0.011255         0.013041         0.010534   \n",
       "ENSG00000101266         0.006752         0.012068         0.007939   \n",
       "ENSG00000101280         0.011049         0.015375         0.009719   \n",
       "ENSG00000125818         0.006388         0.013810         0.011351   \n",
       "\n",
       "                 ENSG00000171700  ENSG00000125510  \n",
       "ENSG00000101255         0.003290         0.002943  \n",
       "ENSG00000125826         0.006084         0.010055  \n",
       "ENSG00000101266         0.000585         0.002613  \n",
       "ENSG00000101280         0.003962         0.005697  \n",
       "ENSG00000125818         0.001159         0.000779  \n",
       "\n",
       "[5 rows x 187 columns]"
      ]
     },
     "execution_count": 35,
     "metadata": {},
     "output_type": "execute_result"
    }
   ],
   "source": [
    "gene_corrs_df.head()"
   ]
  },
  {
   "cell_type": "code",
   "execution_count": 36,
   "id": "286686af-1b7b-4440-8453-6bdcbd8de19c",
   "metadata": {
    "execution": {
     "iopub.execute_input": "2022-07-12T09:57:16.815045Z",
     "iopub.status.busy": "2022-07-12T09:57:16.814614Z",
     "iopub.status.idle": "2022-07-12T09:57:16.830924Z",
     "shell.execute_reply": "2022-07-12T09:57:16.830408Z"
    },
    "papermill": {
     "duration": 0.970159,
     "end_time": "2022-07-12T09:57:16.832191",
     "exception": false,
     "start_time": "2022-07-12T09:57:15.862032",
     "status": "completed"
    },
    "tags": []
   },
   "outputs": [],
   "source": [
    "assert not gene_corrs_df.isna().any().any()"
   ]
  },
  {
   "cell_type": "code",
   "execution_count": 37,
   "id": "00583efc-7068-4270-ad1e-4a418e91db96",
   "metadata": {
    "execution": {
     "iopub.execute_input": "2022-07-12T09:57:18.726854Z",
     "iopub.status.busy": "2022-07-12T09:57:18.726648Z",
     "iopub.status.idle": "2022-07-12T09:57:18.744176Z",
     "shell.execute_reply": "2022-07-12T09:57:18.743736Z"
    },
    "papermill": {
     "duration": 0.967562,
     "end_time": "2022-07-12T09:57:18.745337",
     "exception": false,
     "start_time": "2022-07-12T09:57:17.777775",
     "status": "completed"
    },
    "tags": []
   },
   "outputs": [
    {
     "data": {
      "text/plain": [
       "3.5267260245432646e-09"
      ]
     },
     "metadata": {},
     "output_type": "display_data"
    }
   ],
   "source": [
    "_min_val = gene_corrs_df.min().min()\n",
    "display(_min_val)\n",
    "assert _min_val >= 0.0"
   ]
  },
  {
   "cell_type": "code",
   "execution_count": 38,
   "id": "d04fb2cf-1050-475b-b855-f5f7cc04092b",
   "metadata": {
    "execution": {
     "iopub.execute_input": "2022-07-12T09:57:20.660994Z",
     "iopub.status.busy": "2022-07-12T09:57:20.660781Z",
     "iopub.status.idle": "2022-07-12T09:57:20.678551Z",
     "shell.execute_reply": "2022-07-12T09:57:20.678097Z"
    },
    "papermill": {
     "duration": 0.992059,
     "end_time": "2022-07-12T09:57:20.679752",
     "exception": false,
     "start_time": "2022-07-12T09:57:19.687693",
     "status": "completed"
    },
    "tags": []
   },
   "outputs": [
    {
     "data": {
      "text/plain": [
       "1.0"
      ]
     },
     "metadata": {},
     "output_type": "display_data"
    }
   ],
   "source": [
    "_max_val = gene_corrs_df.max().max()  # this captures the diagonal\n",
    "display(_max_val)\n",
    "assert _max_val <= 1.0"
   ]
  },
  {
   "cell_type": "code",
   "execution_count": 39,
   "id": "96d02c44-1fba-47be-8a93-8f2608420b9c",
   "metadata": {
    "execution": {
     "iopub.execute_input": "2022-07-12T09:57:22.620588Z",
     "iopub.status.busy": "2022-07-12T09:57:22.620381Z",
     "iopub.status.idle": "2022-07-12T09:57:22.635277Z",
     "shell.execute_reply": "2022-07-12T09:57:22.634858Z"
    },
    "papermill": {
     "duration": 0.975745,
     "end_time": "2022-07-12T09:57:22.636585",
     "exception": false,
     "start_time": "2022-07-12T09:57:21.660840",
     "status": "completed"
    },
    "tags": []
   },
   "outputs": [],
   "source": [
    "# check upper triangular values\n",
    "assert len(gene_corrs) == int(genes_chr.shape[0] * (genes_chr.shape[0] - 1) / 2)"
   ]
  },
  {
   "cell_type": "code",
   "execution_count": 40,
   "id": "aaa51627-f4e3-4744-a41f-7d25adcc0a78",
   "metadata": {
    "execution": {
     "iopub.execute_input": "2022-07-12T09:57:24.533382Z",
     "iopub.status.busy": "2022-07-12T09:57:24.533221Z",
     "iopub.status.idle": "2022-07-12T09:57:24.554037Z",
     "shell.execute_reply": "2022-07-12T09:57:24.553589Z"
    },
    "papermill": {
     "duration": 0.973386,
     "end_time": "2022-07-12T09:57:24.555493",
     "exception": false,
     "start_time": "2022-07-12T09:57:23.582107",
     "status": "completed"
    },
    "tags": []
   },
   "outputs": [],
   "source": [
    "gene_corrs = pd.Series(gene_corrs)"
   ]
  },
  {
   "cell_type": "code",
   "execution_count": 41,
   "id": "fe283586-c348-40e0-8841-f6d97bfb021c",
   "metadata": {
    "execution": {
     "iopub.execute_input": "2022-07-12T09:57:26.395405Z",
     "iopub.status.busy": "2022-07-12T09:57:26.395205Z",
     "iopub.status.idle": "2022-07-12T09:57:26.413389Z",
     "shell.execute_reply": "2022-07-12T09:57:26.412970Z"
    },
    "papermill": {
     "duration": 0.938771,
     "end_time": "2022-07-12T09:57:26.414532",
     "exception": false,
     "start_time": "2022-07-12T09:57:25.475761",
     "status": "completed"
    },
    "tags": []
   },
   "outputs": [
    {
     "data": {
      "text/plain": [
       "count    1.739100e+04\n",
       "mean     1.266748e-02\n",
       "std      3.852315e-02\n",
       "min      3.526726e-09\n",
       "25%      5.377272e-03\n",
       "50%      8.397976e-03\n",
       "75%      1.184234e-02\n",
       "max      9.856871e-01\n",
       "dtype: float64"
      ]
     },
     "execution_count": 41,
     "metadata": {},
     "output_type": "execute_result"
    }
   ],
   "source": [
    "gene_corrs.describe()"
   ]
  },
  {
   "cell_type": "code",
   "execution_count": 42,
   "id": "b3815678-0f93-4b35-897b-a9d047a2aa78",
   "metadata": {
    "execution": {
     "iopub.execute_input": "2022-07-12T09:57:28.336338Z",
     "iopub.status.busy": "2022-07-12T09:57:28.336135Z",
     "iopub.status.idle": "2022-07-12T09:57:28.355251Z",
     "shell.execute_reply": "2022-07-12T09:57:28.354789Z"
    },
    "papermill": {
     "duration": 1.00127,
     "end_time": "2022-07-12T09:57:28.356429",
     "exception": false,
     "start_time": "2022-07-12T09:57:27.355159",
     "status": "completed"
    },
    "tags": []
   },
   "outputs": [
    {
     "data": {
      "text/plain": [
       "0.00    3.526726e-09\n",
       "0.05    2.257524e-03\n",
       "0.10    3.283558e-03\n",
       "0.15    4.072747e-03\n",
       "0.20    4.765492e-03\n",
       "0.25    5.377272e-03\n",
       "0.30    6.002895e-03\n",
       "0.35    6.628427e-03\n",
       "0.40    7.227249e-03\n",
       "0.45    7.832498e-03\n",
       "0.50    8.397976e-03\n",
       "0.55    8.997179e-03\n",
       "0.60    9.667803e-03\n",
       "0.65    1.029765e-02\n",
       "0.70    1.100526e-02\n",
       "0.75    1.184234e-02\n",
       "0.80    1.279289e-02\n",
       "0.85    1.404028e-02\n",
       "0.90    1.574972e-02\n",
       "0.95    1.890095e-02\n",
       "dtype: float64"
      ]
     },
     "metadata": {},
     "output_type": "display_data"
    }
   ],
   "source": [
    "gene_corrs_quantiles = gene_corrs.quantile(np.arange(0, 1, 0.05))\n",
    "display(gene_corrs_quantiles)"
   ]
  },
  {
   "cell_type": "markdown",
   "id": "8e60a080-edb2-4e9c-b2ef-22961693200c",
   "metadata": {
    "papermill": {
     "duration": 0.962433,
     "end_time": "2022-07-12T09:57:30.272241",
     "exception": false,
     "start_time": "2022-07-12T09:57:29.309808",
     "status": "completed"
    },
    "tags": []
   },
   "source": [
    "## Plot: distribution"
   ]
  },
  {
   "cell_type": "code",
   "execution_count": 43,
   "id": "8301126b-a7d4-4744-9c7d-f0f86eb6f54c",
   "metadata": {
    "execution": {
     "iopub.execute_input": "2022-07-12T09:57:32.170703Z",
     "iopub.status.busy": "2022-07-12T09:57:32.170332Z",
     "iopub.status.idle": "2022-07-12T09:57:36.530053Z",
     "shell.execute_reply": "2022-07-12T09:57:36.529604Z"
    },
    "papermill": {
     "duration": 5.313105,
     "end_time": "2022-07-12T09:57:36.531462",
     "exception": false,
     "start_time": "2022-07-12T09:57:31.218357",
     "status": "completed"
    },
    "tags": []
   },
   "outputs": [
    {
     "data": {
      "image/png": "[encoded data removed]",
      "text/plain": [
       "<Figure size 504x504 with 1 Axes>"
      ]
     },
     "metadata": {
      "needs_background": "light"
     },
     "output_type": "display_data"
    }
   ],
   "source": [
    "with sns.plotting_context(\"paper\", font_scale=1.5):\n",
    "    g = sns.displot(gene_corrs, kde=True, height=7)\n",
    "    g.ax.set_title(\n",
    "        f\"Distribution of gene correlation values in chromosome {chromosome}\"\n",
    "    )"
   ]
  },
  {
   "cell_type": "markdown",
   "id": "cbd52bca-d878-4a2f-b684-5c83aa3038d4",
   "metadata": {
    "papermill": {
     "duration": 0.931456,
     "end_time": "2022-07-12T09:57:38.390631",
     "exception": false,
     "start_time": "2022-07-12T09:57:37.459175",
     "status": "completed"
    },
    "tags": []
   },
   "source": [
    "## Plot: heatmap"
   ]
  },
  {
   "cell_type": "code",
   "execution_count": 44,
   "id": "d03fe63a-c7b2-4fb9-a53c-db362ce843c9",
   "metadata": {
    "execution": {
     "iopub.execute_input": "2022-07-12T09:57:40.298757Z",
     "iopub.status.busy": "2022-07-12T09:57:40.298391Z",
     "iopub.status.idle": "2022-07-12T09:57:40.315819Z",
     "shell.execute_reply": "2022-07-12T09:57:40.315284Z"
    },
    "papermill": {
     "duration": 0.986791,
     "end_time": "2022-07-12T09:57:40.317026",
     "exception": false,
     "start_time": "2022-07-12T09:57:39.330235",
     "status": "completed"
    },
    "tags": []
   },
   "outputs": [
    {
     "data": {
      "text/plain": [
       "'-0.05 / 0.05'"
      ]
     },
     "metadata": {},
     "output_type": "display_data"
    }
   ],
   "source": [
    "vmin_val = min(-0.05, gene_corrs_quantiles[0.10])\n",
    "vmax_val = max(0.05, gene_corrs_quantiles[0.90])\n",
    "display(f\"{vmin_val} / {vmax_val}\")"
   ]
  },
  {
   "cell_type": "code",
   "execution_count": 45,
   "id": "dc41b70b-5bcc-4d9e-9f33-a22c4a94dab5",
   "metadata": {
    "execution": {
     "iopub.execute_input": "2022-07-12T09:57:42.305062Z",
     "iopub.status.busy": "2022-07-12T09:57:42.304883Z",
     "iopub.status.idle": "2022-07-12T09:57:42.487202Z",
     "shell.execute_reply": "2022-07-12T09:57:42.486798Z"
    },
    "papermill": {
     "duration": 1.170917,
     "end_time": "2022-07-12T09:57:42.488476",
     "exception": false,
     "start_time": "2022-07-12T09:57:41.317559",
     "status": "completed"
    },
    "tags": []
   },
   "outputs": [
    {
     "data": {
      "text/plain": [
       "Text(0.5, 1.0, 'Gene correlations in chromosome 20')"
      ]
     },
     "execution_count": 45,
     "metadata": {},
     "output_type": "execute_result"
    },
    {
     "data": {
      "image/png": "[encoded data removed]",
      "text/plain": [
       "<Figure size 720x720 with 2 Axes>"
      ]
     },
     "metadata": {
      "needs_background": "light"
     },
     "output_type": "display_data"
    }
   ],
   "source": [
    "f, ax = plt.subplots(figsize=(10, 10))\n",
    "sns.heatmap(\n",
    "    gene_corrs_df,\n",
    "    xticklabels=False,\n",
    "    yticklabels=False,\n",
    "    square=True,\n",
    "    vmin=vmin_val,\n",
    "    vmax=vmax_val,\n",
    "    cmap=\"YlGnBu\",\n",
    "    ax=ax,\n",
    ")\n",
    "ax.set_title(f\"Gene correlations in chromosome {chromosome}\")"
   ]
  },
  {
   "cell_type": "code",
   "execution_count": null,
   "id": "b25e3ead",
   "metadata": {
    "papermill": {
     "duration": 0.942966,
     "end_time": "2022-07-12T09:57:44.382912",
     "exception": false,
     "start_time": "2022-07-12T09:57:43.439946",
     "status": "completed"
    },
    "tags": []
   },
   "outputs": [],
   "source": []
  }
 ],
 "metadata": {
  "jupytext": {
   "cell_metadata_filter": "all,-execution,-papermill,-trusted",
   "formats": "ipynb,py//py:percent"
  },
  "kernelspec": {
   "display_name": "Python 3 (ipykernel)",
   "language": "python",
   "name": "python3"
  },
  "language_info": {
   "codemirror_mode": {
    "name": "ipython",
    "version": 3
   },
   "file_extension": ".py",
   "mimetype": "text/x-python",
   "name": "python",
   "nbconvert_exporter": "python",
   "pygments_lexer": "ipython3",
   "version": "3.8.13"
  },
  "papermill": {
   "default_parameters": {},
   "duration": 1552.377301,
   "end_time": "2022-07-12T09:57:48.442947",
   "environment_variables": {},
   "exception": null,
   "input_path": "nbs/15_gsa_gls/10-gene_expr_correlations.ipynb",
   "output_path": "nbs/15_gsa_gls/gene_corrs/1000g/mashr/10-gene_expr_correlations-chr20.run.ipynb",
   "parameters": {
    "EQTL_MODEL": "MASHR",
    "REFERENCE_PANEL": "1000G",
    "chromosome": 20
   },
   "start_time": "2022-07-12T09:31:56.065646",
   "version": "2.2.2"
  }
 },
 "nbformat": 4,
 "nbformat_minor": 5
}
