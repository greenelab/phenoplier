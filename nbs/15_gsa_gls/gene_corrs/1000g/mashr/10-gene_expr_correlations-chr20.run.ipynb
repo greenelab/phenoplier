{
 "cells": [
  {
   "cell_type": "markdown",
   "id": "7a6632fb",
   "metadata": {
    "papermill": {
     "duration": 0.010897,
     "end_time": "2022-07-11T07:39:17.196183",
     "exception": false,
     "start_time": "2022-07-11T07:39:17.185286",
     "status": "completed"
    },
    "tags": []
   },
   "source": [
    "# Description"
   ]
  },
  {
   "cell_type": "markdown",
   "id": "7097c346",
   "metadata": {
    "papermill": {
     "duration": 0.010609,
     "end_time": "2022-07-11T07:39:17.223930",
     "exception": false,
     "start_time": "2022-07-11T07:39:17.213321",
     "status": "completed"
    },
    "tags": []
   },
   "source": [
    "(Please, take a look at the README.md file in this directory for instructions on how to run this notebook)\n",
    "\n",
    "This notebook computes predicted expression correlations between all genes in the MultiPLIER models.\n",
    "\n",
    "It also has a parameter set for papermill to run on a single chromosome to run in parallel (see under `Settings` below).\n",
    "\n",
    "This notebook is not directly run. See README.md."
   ]
  },
  {
   "cell_type": "markdown",
   "id": "c61d8427",
   "metadata": {
    "papermill": {
     "duration": 0.005099,
     "end_time": "2022-07-11T07:39:17.239663",
     "exception": false,
     "start_time": "2022-07-11T07:39:17.234564",
     "status": "completed"
    },
    "tags": []
   },
   "source": [
    "# Modules"
   ]
  },
  {
   "cell_type": "code",
   "execution_count": 1,
   "id": "bbc0234f",
   "metadata": {
    "execution": {
     "iopub.execute_input": "2022-07-11T07:39:17.255709Z",
     "iopub.status.busy": "2022-07-11T07:39:17.250814Z",
     "iopub.status.idle": "2022-07-11T07:39:17.269350Z",
     "shell.execute_reply": "2022-07-11T07:39:17.268798Z"
    },
    "papermill": {
     "duration": 0.025864,
     "end_time": "2022-07-11T07:39:17.270727",
     "exception": false,
     "start_time": "2022-07-11T07:39:17.244863",
     "status": "completed"
    },
    "tags": []
   },
   "outputs": [],
   "source": [
    "%load_ext autoreload\n",
    "%autoreload 2"
   ]
  },
  {
   "cell_type": "code",
   "execution_count": 2,
   "id": "1d5f5a59",
   "metadata": {
    "execution": {
     "iopub.execute_input": "2022-07-11T07:39:17.283215Z",
     "iopub.status.busy": "2022-07-11T07:39:17.282825Z",
     "iopub.status.idle": "2022-07-11T07:39:18.230496Z",
     "shell.execute_reply": "2022-07-11T07:39:18.230042Z"
    },
    "papermill": {
     "duration": 0.955655,
     "end_time": "2022-07-11T07:39:18.231916",
     "exception": false,
     "start_time": "2022-07-11T07:39:17.276261",
     "status": "completed"
    },
    "tags": []
   },
   "outputs": [],
   "source": [
    "from random import sample, seed\n",
    "import warnings\n",
    "from pathlib import Path\n",
    "\n",
    "import numpy as np\n",
    "from scipy.spatial.distance import squareform\n",
    "import pandas as pd\n",
    "from tqdm import tqdm\n",
    "import matplotlib.pyplot as plt\n",
    "import seaborn as sns\n",
    "\n",
    "import conf\n",
    "from entity import Gene"
   ]
  },
  {
   "cell_type": "markdown",
   "id": "1eac24b5",
   "metadata": {
    "papermill": {
     "duration": 0.00601,
     "end_time": "2022-07-11T07:39:18.278528",
     "exception": false,
     "start_time": "2022-07-11T07:39:18.272518",
     "status": "completed"
    },
    "tags": []
   },
   "source": [
    "# Settings"
   ]
  },
  {
   "cell_type": "code",
   "execution_count": 3,
   "id": "ca4560ba",
   "metadata": {
    "execution": {
     "iopub.execute_input": "2022-07-11T07:39:18.290973Z",
     "iopub.status.busy": "2022-07-11T07:39:18.290805Z",
     "iopub.status.idle": "2022-07-11T07:39:18.314373Z",
     "shell.execute_reply": "2022-07-11T07:39:18.313991Z"
    },
    "papermill": {
     "duration": 0.031126,
     "end_time": "2022-07-11T07:39:18.315599",
     "exception": false,
     "start_time": "2022-07-11T07:39:18.284473",
     "status": "completed"
    },
    "tags": [
     "parameters"
    ]
   },
   "outputs": [],
   "source": [
    "# reference panel\n",
    "REFERENCE_PANEL = \"GTEX_V8\"\n",
    "# REFERENCE_PANEL = \"1000G\"\n",
    "\n",
    "# prediction models\n",
    "## mashr\n",
    "EQTL_MODEL = \"MASHR\"\n",
    "\n",
    "# this is the default value used in S-MultiXcan to select the\n",
    "# top principal components of the expression correlation matrix\n",
    "SMULTIXCAN_CONDITION_NUMBER = 30\n",
    "\n",
    "# specifies a single chromosome value\n",
    "# by default, run on all chromosomes\n",
    "chromosome = None"
   ]
  },
  {
   "cell_type": "code",
   "execution_count": 4,
   "id": "a9f12fc5",
   "metadata": {
    "execution": {
     "iopub.execute_input": "2022-07-11T07:39:18.335137Z",
     "iopub.status.busy": "2022-07-11T07:39:18.334978Z",
     "iopub.status.idle": "2022-07-11T07:39:18.348549Z",
     "shell.execute_reply": "2022-07-11T07:39:18.348172Z"
    },
    "papermill": {
     "duration": 0.025826,
     "end_time": "2022-07-11T07:39:18.349776",
     "exception": false,
     "start_time": "2022-07-11T07:39:18.323950",
     "status": "completed"
    },
    "tags": [
     "injected-parameters"
    ]
   },
   "outputs": [],
   "source": [
    "# Parameters\n",
    "chromosome = 20\n",
    "REFERENCE_PANEL = \"1000G\"\n",
    "EQTL_MODEL = \"MASHR\"\n"
   ]
  },
  {
   "cell_type": "code",
   "execution_count": 5,
   "id": "a089c9ff",
   "metadata": {
    "execution": {
     "iopub.execute_input": "2022-07-11T07:39:18.371714Z",
     "iopub.status.busy": "2022-07-11T07:39:18.371546Z",
     "iopub.status.idle": "2022-07-11T07:39:18.394200Z",
     "shell.execute_reply": "2022-07-11T07:39:18.393822Z"
    },
    "papermill": {
     "duration": 0.035063,
     "end_time": "2022-07-11T07:39:18.395339",
     "exception": false,
     "start_time": "2022-07-11T07:39:18.360276",
     "status": "completed"
    },
    "tags": []
   },
   "outputs": [],
   "source": [
    "EQTL_MODEL_FILES_PREFIX = conf.PHENOMEXCAN[\"PREDICTION_MODELS\"][f\"{EQTL_MODEL}_PREFIX\"]"
   ]
  },
  {
   "cell_type": "code",
   "execution_count": 6,
   "id": "8fe24bef",
   "metadata": {
    "execution": {
     "iopub.execute_input": "2022-07-11T07:39:18.425021Z",
     "iopub.status.busy": "2022-07-11T07:39:18.424864Z",
     "iopub.status.idle": "2022-07-11T07:39:18.443957Z",
     "shell.execute_reply": "2022-07-11T07:39:18.443560Z"
    },
    "papermill": {
     "duration": 0.041126,
     "end_time": "2022-07-11T07:39:18.445083",
     "exception": false,
     "start_time": "2022-07-11T07:39:18.403957",
     "status": "completed"
    },
    "tags": []
   },
   "outputs": [
    {
     "data": {
      "text/plain": [
       "'Using eQTL model: MASHR / mashr_'"
      ]
     },
     "metadata": {},
     "output_type": "display_data"
    }
   ],
   "source": [
    "display(f\"Using eQTL model: {EQTL_MODEL} / {EQTL_MODEL_FILES_PREFIX}\")"
   ]
  },
  {
   "cell_type": "code",
   "execution_count": 7,
   "id": "552a7f63-a18c-4d3e-bb6a-94f99b431291",
   "metadata": {
    "execution": {
     "iopub.execute_input": "2022-07-11T07:39:18.457292Z",
     "iopub.status.busy": "2022-07-11T07:39:18.456868Z",
     "iopub.status.idle": "2022-07-11T07:39:18.471137Z",
     "shell.execute_reply": "2022-07-11T07:39:18.470756Z"
    },
    "papermill": {
     "duration": 0.02158,
     "end_time": "2022-07-11T07:39:18.472290",
     "exception": false,
     "start_time": "2022-07-11T07:39:18.450710",
     "status": "completed"
    },
    "tags": []
   },
   "outputs": [
    {
     "data": {
      "text/plain": [
       "'S-MultiXcan condition number: 30'"
      ]
     },
     "metadata": {},
     "output_type": "display_data"
    }
   ],
   "source": [
    "display(f\"S-MultiXcan condition number: {SMULTIXCAN_CONDITION_NUMBER}\")"
   ]
  },
  {
   "cell_type": "code",
   "execution_count": 8,
   "id": "0230ebcb-2c32-4b95-9292-d9a52038e70d",
   "metadata": {
    "execution": {
     "iopub.execute_input": "2022-07-11T07:39:18.491496Z",
     "iopub.status.busy": "2022-07-11T07:39:18.491333Z",
     "iopub.status.idle": "2022-07-11T07:39:18.514741Z",
     "shell.execute_reply": "2022-07-11T07:39:18.514335Z"
    },
    "papermill": {
     "duration": 0.037837,
     "end_time": "2022-07-11T07:39:18.516014",
     "exception": false,
     "start_time": "2022-07-11T07:39:18.478177",
     "status": "completed"
    },
    "tags": []
   },
   "outputs": [],
   "source": [
    "REFERENCE_PANEL_DIR = conf.PHENOMEXCAN[\"LD_BLOCKS\"][f\"{REFERENCE_PANEL}_GENOTYPE_DIR\"]"
   ]
  },
  {
   "cell_type": "code",
   "execution_count": 9,
   "id": "98c4a159-601d-4a22-a1ab-35bd451c25f9",
   "metadata": {
    "execution": {
     "iopub.execute_input": "2022-07-11T07:39:18.542867Z",
     "iopub.status.busy": "2022-07-11T07:39:18.542707Z",
     "iopub.status.idle": "2022-07-11T07:39:18.566643Z",
     "shell.execute_reply": "2022-07-11T07:39:18.566260Z"
    },
    "papermill": {
     "duration": 0.039526,
     "end_time": "2022-07-11T07:39:18.567799",
     "exception": false,
     "start_time": "2022-07-11T07:39:18.528273",
     "status": "completed"
    },
    "tags": []
   },
   "outputs": [
    {
     "data": {
      "text/plain": [
       "'Using reference panel folder: /opt/data/data/phenomexcan/ld_blocks/reference_panel_1000G'"
      ]
     },
     "metadata": {},
     "output_type": "display_data"
    }
   ],
   "source": [
    "display(f\"Using reference panel folder: {str(REFERENCE_PANEL_DIR)}\")"
   ]
  },
  {
   "cell_type": "code",
   "execution_count": 10,
   "id": "396392dc-0340-4540-9b02-e182b833f909",
   "metadata": {
    "execution": {
     "iopub.execute_input": "2022-07-11T07:39:18.580318Z",
     "iopub.status.busy": "2022-07-11T07:39:18.580141Z",
     "iopub.status.idle": "2022-07-11T07:39:18.595538Z",
     "shell.execute_reply": "2022-07-11T07:39:18.595072Z"
    },
    "papermill": {
     "duration": 0.023298,
     "end_time": "2022-07-11T07:39:18.596871",
     "exception": false,
     "start_time": "2022-07-11T07:39:18.573573",
     "status": "completed"
    },
    "tags": []
   },
   "outputs": [],
   "source": [
    "OUTPUT_DIR_BASE = (\n",
    "    conf.PHENOMEXCAN[\"LD_BLOCKS\"][f\"GENE_CORRS_DIR\"]\n",
    "    / REFERENCE_PANEL.lower()\n",
    "    / EQTL_MODEL.lower()\n",
    ")\n",
    "OUTPUT_DIR_BASE.mkdir(parents=True, exist_ok=True)"
   ]
  },
  {
   "cell_type": "code",
   "execution_count": 11,
   "id": "8942c2d3-e53c-4d63-a0eb-b6fce0574d36",
   "metadata": {
    "execution": {
     "iopub.execute_input": "2022-07-11T07:39:18.609913Z",
     "iopub.status.busy": "2022-07-11T07:39:18.609606Z",
     "iopub.status.idle": "2022-07-11T07:39:18.626315Z",
     "shell.execute_reply": "2022-07-11T07:39:18.625694Z"
    },
    "papermill": {
     "duration": 0.024884,
     "end_time": "2022-07-11T07:39:18.627781",
     "exception": false,
     "start_time": "2022-07-11T07:39:18.602897",
     "status": "completed"
    },
    "tags": []
   },
   "outputs": [
    {
     "data": {
      "text/plain": [
       "'Using output dir base: /opt/data/data/phenomexcan/ld_blocks/gene_corrs/1000g/mashr'"
      ]
     },
     "metadata": {},
     "output_type": "display_data"
    }
   ],
   "source": [
    "display(f\"Using output dir base: {OUTPUT_DIR_BASE}\")"
   ]
  },
  {
   "cell_type": "code",
   "execution_count": 12,
   "id": "408aa590",
   "metadata": {
    "execution": {
     "iopub.execute_input": "2022-07-11T07:39:18.641618Z",
     "iopub.status.busy": "2022-07-11T07:39:18.641456Z",
     "iopub.status.idle": "2022-07-11T07:39:18.664817Z",
     "shell.execute_reply": "2022-07-11T07:39:18.664420Z"
    },
    "papermill": {
     "duration": 0.031444,
     "end_time": "2022-07-11T07:39:18.666072",
     "exception": false,
     "start_time": "2022-07-11T07:39:18.634628",
     "status": "completed"
    },
    "tags": []
   },
   "outputs": [],
   "source": [
    "assert (\n",
    "    chromosome is not None\n",
    "), \"You have to select one chromosome (format: number between 1 and 22)\""
   ]
  },
  {
   "cell_type": "code",
   "execution_count": 13,
   "id": "c1c7dd06-80ff-453c-bcb7-0899edce75da",
   "metadata": {
    "execution": {
     "iopub.execute_input": "2022-07-11T07:39:18.692727Z",
     "iopub.status.busy": "2022-07-11T07:39:18.692569Z",
     "iopub.status.idle": "2022-07-11T07:39:18.712694Z",
     "shell.execute_reply": "2022-07-11T07:39:18.712120Z"
    },
    "papermill": {
     "duration": 0.033999,
     "end_time": "2022-07-11T07:39:18.714090",
     "exception": false,
     "start_time": "2022-07-11T07:39:18.680091",
     "status": "completed"
    },
    "tags": []
   },
   "outputs": [],
   "source": [
    "chromosome = str(chromosome)"
   ]
  },
  {
   "cell_type": "code",
   "execution_count": 14,
   "id": "bc17b84c-9c26-47a5-a3ab-7046e72f3ef4",
   "metadata": {
    "execution": {
     "iopub.execute_input": "2022-07-11T07:39:18.727165Z",
     "iopub.status.busy": "2022-07-11T07:39:18.726725Z",
     "iopub.status.idle": "2022-07-11T07:39:18.741389Z",
     "shell.execute_reply": "2022-07-11T07:39:18.740889Z"
    },
    "papermill": {
     "duration": 0.022603,
     "end_time": "2022-07-11T07:39:18.742731",
     "exception": false,
     "start_time": "2022-07-11T07:39:18.720128",
     "status": "completed"
    },
    "tags": []
   },
   "outputs": [
    {
     "data": {
      "text/plain": [
       "'Working on chromosome 20'"
      ]
     },
     "metadata": {},
     "output_type": "display_data"
    }
   ],
   "source": [
    "display(f\"Working on chromosome {chromosome}\")"
   ]
  },
  {
   "cell_type": "markdown",
   "id": "d2ba085e",
   "metadata": {
    "papermill": {
     "duration": 0.0062,
     "end_time": "2022-07-11T07:39:18.755153",
     "exception": false,
     "start_time": "2022-07-11T07:39:18.748953",
     "status": "completed"
    },
    "tags": []
   },
   "source": [
    "# Load data"
   ]
  },
  {
   "cell_type": "markdown",
   "id": "7bed0ce0-e7c7-4300-9a61-5412450b1904",
   "metadata": {
    "papermill": {
     "duration": 0.006569,
     "end_time": "2022-07-11T07:39:18.767978",
     "exception": false,
     "start_time": "2022-07-11T07:39:18.761409",
     "status": "completed"
    },
    "tags": []
   },
   "source": [
    "## Prediction model tissues"
   ]
  },
  {
   "cell_type": "code",
   "execution_count": 15,
   "id": "0847c065-0d69-4830-a07f-1c75115d17f5",
   "metadata": {
    "execution": {
     "iopub.execute_input": "2022-07-11T07:39:18.792870Z",
     "iopub.status.busy": "2022-07-11T07:39:18.792710Z",
     "iopub.status.idle": "2022-07-11T07:39:18.815319Z",
     "shell.execute_reply": "2022-07-11T07:39:18.814935Z"
    },
    "papermill": {
     "duration": 0.038461,
     "end_time": "2022-07-11T07:39:18.816510",
     "exception": false,
     "start_time": "2022-07-11T07:39:18.778049",
     "status": "completed"
    },
    "tags": []
   },
   "outputs": [],
   "source": [
    "prediction_model_tissues = conf.PHENOMEXCAN[\"PREDICTION_MODELS\"][\n",
    "    f\"{EQTL_MODEL}_TISSUES\"\n",
    "].split(\" \")"
   ]
  },
  {
   "cell_type": "code",
   "execution_count": 16,
   "id": "aaef70d1-30c6-4c6f-9d6b-abc8e9a0081f",
   "metadata": {
    "execution": {
     "iopub.execute_input": "2022-07-11T07:39:18.833184Z",
     "iopub.status.busy": "2022-07-11T07:39:18.833029Z",
     "iopub.status.idle": "2022-07-11T07:39:18.856627Z",
     "shell.execute_reply": "2022-07-11T07:39:18.856138Z"
    },
    "papermill": {
     "duration": 0.034701,
     "end_time": "2022-07-11T07:39:18.857801",
     "exception": false,
     "start_time": "2022-07-11T07:39:18.823100",
     "status": "completed"
    },
    "tags": []
   },
   "outputs": [
    {
     "data": {
      "text/plain": [
       "49"
      ]
     },
     "execution_count": 16,
     "metadata": {},
     "output_type": "execute_result"
    }
   ],
   "source": [
    "len(prediction_model_tissues)"
   ]
  },
  {
   "cell_type": "code",
   "execution_count": 17,
   "id": "ff35a099-c52d-465d-b863-0ee70c26208c",
   "metadata": {
    "execution": {
     "iopub.execute_input": "2022-07-11T07:39:18.871190Z",
     "iopub.status.busy": "2022-07-11T07:39:18.870645Z",
     "iopub.status.idle": "2022-07-11T07:39:18.886503Z",
     "shell.execute_reply": "2022-07-11T07:39:18.886122Z"
    },
    "papermill": {
     "duration": 0.023751,
     "end_time": "2022-07-11T07:39:18.887769",
     "exception": false,
     "start_time": "2022-07-11T07:39:18.864018",
     "status": "completed"
    },
    "tags": []
   },
   "outputs": [
    {
     "data": {
      "text/plain": [
       "['Skin_Not_Sun_Exposed_Suprapubic',\n",
       " 'Cells_EBV-transformed_lymphocytes',\n",
       " 'Brain_Frontal_Cortex_BA9',\n",
       " 'Kidney_Cortex',\n",
       " 'Brain_Substantia_nigra']"
      ]
     },
     "execution_count": 17,
     "metadata": {},
     "output_type": "execute_result"
    }
   ],
   "source": [
    "prediction_model_tissues[:5]"
   ]
  },
  {
   "cell_type": "markdown",
   "id": "abcc4b3d",
   "metadata": {
    "papermill": {
     "duration": 0.009993,
     "end_time": "2022-07-11T07:39:18.904127",
     "exception": false,
     "start_time": "2022-07-11T07:39:18.894134",
     "status": "completed"
    },
    "tags": []
   },
   "source": [
    "## MultiPLIER Z"
   ]
  },
  {
   "cell_type": "code",
   "execution_count": 18,
   "id": "c48ef527",
   "metadata": {
    "execution": {
     "iopub.execute_input": "2022-07-11T07:39:18.929305Z",
     "iopub.status.busy": "2022-07-11T07:39:18.929086Z",
     "iopub.status.idle": "2022-07-11T07:39:18.992426Z",
     "shell.execute_reply": "2022-07-11T07:39:18.991997Z"
    },
    "papermill": {
     "duration": 0.077279,
     "end_time": "2022-07-11T07:39:18.993785",
     "exception": false,
     "start_time": "2022-07-11T07:39:18.916506",
     "status": "completed"
    },
    "tags": []
   },
   "outputs": [],
   "source": [
    "multiplier_z_genes = pd.read_pickle(\n",
    "    conf.MULTIPLIER[\"MODEL_Z_MATRIX_FILE\"]\n",
    ").index.tolist()"
   ]
  },
  {
   "cell_type": "code",
   "execution_count": 19,
   "id": "0a4ecbd9",
   "metadata": {
    "execution": {
     "iopub.execute_input": "2022-07-11T07:39:19.018152Z",
     "iopub.status.busy": "2022-07-11T07:39:19.017995Z",
     "iopub.status.idle": "2022-07-11T07:39:19.049570Z",
     "shell.execute_reply": "2022-07-11T07:39:19.049129Z"
    },
    "papermill": {
     "duration": 0.046672,
     "end_time": "2022-07-11T07:39:19.050831",
     "exception": false,
     "start_time": "2022-07-11T07:39:19.004159",
     "status": "completed"
    },
    "tags": []
   },
   "outputs": [
    {
     "data": {
      "text/plain": [
       "6750"
      ]
     },
     "execution_count": 19,
     "metadata": {},
     "output_type": "execute_result"
    }
   ],
   "source": [
    "len(multiplier_z_genes)"
   ]
  },
  {
   "cell_type": "code",
   "execution_count": 20,
   "id": "115e8864",
   "metadata": {
    "execution": {
     "iopub.execute_input": "2022-07-11T07:39:19.079672Z",
     "iopub.status.busy": "2022-07-11T07:39:19.074947Z",
     "iopub.status.idle": "2022-07-11T07:39:19.105477Z",
     "shell.execute_reply": "2022-07-11T07:39:19.105063Z"
    },
    "papermill": {
     "duration": 0.045196,
     "end_time": "2022-07-11T07:39:19.106696",
     "exception": false,
     "start_time": "2022-07-11T07:39:19.061500",
     "status": "completed"
    },
    "tags": []
   },
   "outputs": [
    {
     "data": {
      "text/plain": [
       "['GAS6',\n",
       " 'MMP14',\n",
       " 'DSP',\n",
       " 'MARCKSL1',\n",
       " 'SPARC',\n",
       " 'CTSD',\n",
       " 'EPAS1',\n",
       " 'PALLD',\n",
       " 'PHC2',\n",
       " 'LGALS3BP']"
      ]
     },
     "execution_count": 20,
     "metadata": {},
     "output_type": "execute_result"
    }
   ],
   "source": [
    "multiplier_z_genes[:10]"
   ]
  },
  {
   "cell_type": "markdown",
   "id": "7dcb8db7",
   "metadata": {
    "papermill": {
     "duration": 0.009806,
     "end_time": "2022-07-11T07:39:19.127465",
     "exception": false,
     "start_time": "2022-07-11T07:39:19.117659",
     "status": "completed"
    },
    "tags": []
   },
   "source": [
    "## Get gene objects"
   ]
  },
  {
   "cell_type": "code",
   "execution_count": 21,
   "id": "bb932812",
   "metadata": {
    "execution": {
     "iopub.execute_input": "2022-07-11T07:39:19.141403Z",
     "iopub.status.busy": "2022-07-11T07:39:19.141152Z",
     "iopub.status.idle": "2022-07-11T07:39:19.162216Z",
     "shell.execute_reply": "2022-07-11T07:39:19.161771Z"
    },
    "papermill": {
     "duration": 0.029528,
     "end_time": "2022-07-11T07:39:19.163571",
     "exception": false,
     "start_time": "2022-07-11T07:39:19.134043",
     "status": "completed"
    },
    "tags": []
   },
   "outputs": [],
   "source": [
    "multiplier_gene_obj = {\n",
    "    gene_name: Gene(name=gene_name)\n",
    "    for gene_name in multiplier_z_genes\n",
    "    if gene_name in Gene.GENE_NAME_TO_ID_MAP\n",
    "}"
   ]
  },
  {
   "cell_type": "code",
   "execution_count": 22,
   "id": "39533214",
   "metadata": {
    "execution": {
     "iopub.execute_input": "2022-07-11T07:39:19.191422Z",
     "iopub.status.busy": "2022-07-11T07:39:19.191260Z",
     "iopub.status.idle": "2022-07-11T07:39:19.215483Z",
     "shell.execute_reply": "2022-07-11T07:39:19.215076Z"
    },
    "papermill": {
     "duration": 0.038653,
     "end_time": "2022-07-11T07:39:19.216715",
     "exception": false,
     "start_time": "2022-07-11T07:39:19.178062",
     "status": "completed"
    },
    "tags": []
   },
   "outputs": [
    {
     "data": {
      "text/plain": [
       "6454"
      ]
     },
     "execution_count": 22,
     "metadata": {},
     "output_type": "execute_result"
    }
   ],
   "source": [
    "len(multiplier_gene_obj)"
   ]
  },
  {
   "cell_type": "code",
   "execution_count": 23,
   "id": "9a5d0b84",
   "metadata": {
    "execution": {
     "iopub.execute_input": "2022-07-11T07:39:19.242970Z",
     "iopub.status.busy": "2022-07-11T07:39:19.242812Z",
     "iopub.status.idle": "2022-07-11T07:39:19.258562Z",
     "shell.execute_reply": "2022-07-11T07:39:19.258067Z"
    },
    "papermill": {
     "duration": 0.032334,
     "end_time": "2022-07-11T07:39:19.259871",
     "exception": false,
     "start_time": "2022-07-11T07:39:19.227537",
     "status": "completed"
    },
    "tags": []
   },
   "outputs": [
    {
     "data": {
      "text/plain": [
       "'ENSG00000183087'"
      ]
     },
     "execution_count": 23,
     "metadata": {},
     "output_type": "execute_result"
    }
   ],
   "source": [
    "multiplier_gene_obj[\"GAS6\"].ensembl_id"
   ]
  },
  {
   "cell_type": "code",
   "execution_count": 24,
   "id": "e3ffabc7",
   "metadata": {
    "execution": {
     "iopub.execute_input": "2022-07-11T07:39:19.274040Z",
     "iopub.status.busy": "2022-07-11T07:39:19.273882Z",
     "iopub.status.idle": "2022-07-11T07:39:21.700034Z",
     "shell.execute_reply": "2022-07-11T07:39:21.699604Z"
    },
    "papermill": {
     "duration": 2.434731,
     "end_time": "2022-07-11T07:39:21.701281",
     "exception": false,
     "start_time": "2022-07-11T07:39:19.266550",
     "status": "completed"
    },
    "tags": []
   },
   "outputs": [],
   "source": [
    "_gene_obj = list(multiplier_gene_obj.values())\n",
    "\n",
    "genes_info = pd.DataFrame(\n",
    "    {\n",
    "        \"name\": [g.name for g in _gene_obj],\n",
    "        \"id\": [g.ensembl_id for g in _gene_obj],\n",
    "        \"chr\": [g.chromosome for g in _gene_obj],\n",
    "        \"band\": [g.band for g in _gene_obj],\n",
    "        \"start_position\": [g.get_attribute(\"start_position\") for g in _gene_obj],\n",
    "    }\n",
    ")"
   ]
  },
  {
   "cell_type": "code",
   "execution_count": 25,
   "id": "e23519b8",
   "metadata": {
    "execution": {
     "iopub.execute_input": "2022-07-11T07:39:21.729346Z",
     "iopub.status.busy": "2022-07-11T07:39:21.728925Z",
     "iopub.status.idle": "2022-07-11T07:39:21.744088Z",
     "shell.execute_reply": "2022-07-11T07:39:21.743674Z"
    },
    "papermill": {
     "duration": 0.034058,
     "end_time": "2022-07-11T07:39:21.745340",
     "exception": false,
     "start_time": "2022-07-11T07:39:21.711282",
     "status": "completed"
    },
    "tags": []
   },
   "outputs": [
    {
     "data": {
      "text/plain": [
       "(6454, 5)"
      ]
     },
     "execution_count": 25,
     "metadata": {},
     "output_type": "execute_result"
    }
   ],
   "source": [
    "genes_info.shape"
   ]
  },
  {
   "cell_type": "code",
   "execution_count": 26,
   "id": "0d71881c",
   "metadata": {
    "execution": {
     "iopub.execute_input": "2022-07-11T07:39:21.760700Z",
     "iopub.status.busy": "2022-07-11T07:39:21.760465Z",
     "iopub.status.idle": "2022-07-11T07:39:21.785764Z",
     "shell.execute_reply": "2022-07-11T07:39:21.784390Z"
    },
    "papermill": {
     "duration": 0.03437,
     "end_time": "2022-07-11T07:39:21.786991",
     "exception": false,
     "start_time": "2022-07-11T07:39:21.752621",
     "status": "completed"
    },
    "tags": []
   },
   "outputs": [
    {
     "data": {
      "text/html": [
       "<div>\n",
       "<style scoped>\n",
       "    .dataframe tbody tr th:only-of-type {\n",
       "        vertical-align: middle;\n",
       "    }\n",
       "\n",
       "    .dataframe tbody tr th {\n",
       "        vertical-align: top;\n",
       "    }\n",
       "\n",
       "    .dataframe thead th {\n",
       "        text-align: right;\n",
       "    }\n",
       "</style>\n",
       "<table border=\"1\" class=\"dataframe\">\n",
       "  <thead>\n",
       "    <tr style=\"text-align: right;\">\n",
       "      <th></th>\n",
       "      <th>name</th>\n",
       "      <th>id</th>\n",
       "      <th>chr</th>\n",
       "      <th>band</th>\n",
       "      <th>start_position</th>\n",
       "    </tr>\n",
       "  </thead>\n",
       "  <tbody>\n",
       "    <tr>\n",
       "      <th>0</th>\n",
       "      <td>GAS6</td>\n",
       "      <td>ENSG00000183087</td>\n",
       "      <td>13</td>\n",
       "      <td>13q34</td>\n",
       "      <td>113820549.0</td>\n",
       "    </tr>\n",
       "    <tr>\n",
       "      <th>1</th>\n",
       "      <td>MMP14</td>\n",
       "      <td>ENSG00000157227</td>\n",
       "      <td>14</td>\n",
       "      <td>14q11.2</td>\n",
       "      <td>22836560.0</td>\n",
       "    </tr>\n",
       "    <tr>\n",
       "      <th>2</th>\n",
       "      <td>DSP</td>\n",
       "      <td>ENSG00000096696</td>\n",
       "      <td>6</td>\n",
       "      <td>6p24.3</td>\n",
       "      <td>7541617.0</td>\n",
       "    </tr>\n",
       "    <tr>\n",
       "      <th>3</th>\n",
       "      <td>MARCKSL1</td>\n",
       "      <td>ENSG00000175130</td>\n",
       "      <td>1</td>\n",
       "      <td>1p35.1</td>\n",
       "      <td>32333839.0</td>\n",
       "    </tr>\n",
       "    <tr>\n",
       "      <th>4</th>\n",
       "      <td>SPARC</td>\n",
       "      <td>ENSG00000113140</td>\n",
       "      <td>5</td>\n",
       "      <td>5q33.1</td>\n",
       "      <td>151661096.0</td>\n",
       "    </tr>\n",
       "  </tbody>\n",
       "</table>\n",
       "</div>"
      ],
      "text/plain": [
       "       name               id chr     band  start_position\n",
       "0      GAS6  ENSG00000183087  13    13q34     113820549.0\n",
       "1     MMP14  ENSG00000157227  14  14q11.2      22836560.0\n",
       "2       DSP  ENSG00000096696   6   6p24.3       7541617.0\n",
       "3  MARCKSL1  ENSG00000175130   1   1p35.1      32333839.0\n",
       "4     SPARC  ENSG00000113140   5   5q33.1     151661096.0"
      ]
     },
     "execution_count": 26,
     "metadata": {},
     "output_type": "execute_result"
    }
   ],
   "source": [
    "genes_info.head()"
   ]
  },
  {
   "cell_type": "markdown",
   "id": "c8d1038f",
   "metadata": {
    "papermill": {
     "duration": 0.012966,
     "end_time": "2022-07-11T07:39:21.814067",
     "exception": false,
     "start_time": "2022-07-11T07:39:21.801101",
     "status": "completed"
    },
    "tags": []
   },
   "source": [
    "# Test"
   ]
  },
  {
   "cell_type": "code",
   "execution_count": 27,
   "id": "64993abf",
   "metadata": {
    "execution": {
     "iopub.execute_input": "2022-07-11T07:39:21.828484Z",
     "iopub.status.busy": "2022-07-11T07:39:21.828287Z",
     "iopub.status.idle": "2022-07-11T07:39:21.851181Z",
     "shell.execute_reply": "2022-07-11T07:39:21.850808Z"
    },
    "papermill": {
     "duration": 0.031369,
     "end_time": "2022-07-11T07:39:21.852299",
     "exception": false,
     "start_time": "2022-07-11T07:39:21.820930",
     "status": "completed"
    },
    "tags": []
   },
   "outputs": [
    {
     "data": {
      "text/html": [
       "<div>\n",
       "<style scoped>\n",
       "    .dataframe tbody tr th:only-of-type {\n",
       "        vertical-align: middle;\n",
       "    }\n",
       "\n",
       "    .dataframe tbody tr th {\n",
       "        vertical-align: top;\n",
       "    }\n",
       "\n",
       "    .dataframe thead th {\n",
       "        text-align: right;\n",
       "    }\n",
       "</style>\n",
       "<table border=\"1\" class=\"dataframe\">\n",
       "  <thead>\n",
       "    <tr style=\"text-align: right;\">\n",
       "      <th></th>\n",
       "      <th>name</th>\n",
       "      <th>id</th>\n",
       "      <th>chr</th>\n",
       "      <th>band</th>\n",
       "      <th>start_position</th>\n",
       "    </tr>\n",
       "  </thead>\n",
       "  <tbody>\n",
       "    <tr>\n",
       "      <th>11</th>\n",
       "      <td>TGM2</td>\n",
       "      <td>ENSG00000198959</td>\n",
       "      <td>20</td>\n",
       "      <td>20q11.23</td>\n",
       "      <td>38127385.0</td>\n",
       "    </tr>\n",
       "    <tr>\n",
       "      <th>23</th>\n",
       "      <td>CST3</td>\n",
       "      <td>ENSG00000101439</td>\n",
       "      <td>20</td>\n",
       "      <td>20p11.21</td>\n",
       "      <td>23626706.0</td>\n",
       "    </tr>\n",
       "    <tr>\n",
       "      <th>36</th>\n",
       "      <td>TOMM34</td>\n",
       "      <td>ENSG00000025772</td>\n",
       "      <td>20</td>\n",
       "      <td>20q13.12</td>\n",
       "      <td>44942130.0</td>\n",
       "    </tr>\n",
       "    <tr>\n",
       "      <th>44</th>\n",
       "      <td>PLTP</td>\n",
       "      <td>ENSG00000100979</td>\n",
       "      <td>20</td>\n",
       "      <td>20q13.12</td>\n",
       "      <td>45898621.0</td>\n",
       "    </tr>\n",
       "    <tr>\n",
       "      <th>67</th>\n",
       "      <td>PKIG</td>\n",
       "      <td>ENSG00000168734</td>\n",
       "      <td>20</td>\n",
       "      <td>20q13.12</td>\n",
       "      <td>44531785.0</td>\n",
       "    </tr>\n",
       "    <tr>\n",
       "      <th>...</th>\n",
       "      <td>...</td>\n",
       "      <td>...</td>\n",
       "      <td>...</td>\n",
       "      <td>...</td>\n",
       "      <td>...</td>\n",
       "    </tr>\n",
       "    <tr>\n",
       "      <th>6300</th>\n",
       "      <td>MYL9</td>\n",
       "      <td>ENSG00000101335</td>\n",
       "      <td>20</td>\n",
       "      <td>20q11.23</td>\n",
       "      <td>36541497.0</td>\n",
       "    </tr>\n",
       "    <tr>\n",
       "      <th>6388</th>\n",
       "      <td>EDN3</td>\n",
       "      <td>ENSG00000124205</td>\n",
       "      <td>20</td>\n",
       "      <td>20q13.32</td>\n",
       "      <td>59300443.0</td>\n",
       "    </tr>\n",
       "    <tr>\n",
       "      <th>6393</th>\n",
       "      <td>CSNK2A1</td>\n",
       "      <td>ENSG00000101266</td>\n",
       "      <td>20</td>\n",
       "      <td>20p13</td>\n",
       "      <td>472498.0</td>\n",
       "    </tr>\n",
       "    <tr>\n",
       "      <th>6405</th>\n",
       "      <td>PREX1</td>\n",
       "      <td>ENSG00000124126</td>\n",
       "      <td>20</td>\n",
       "      <td>20q13.13</td>\n",
       "      <td>48624252.0</td>\n",
       "    </tr>\n",
       "    <tr>\n",
       "      <th>6426</th>\n",
       "      <td>SLC13A3</td>\n",
       "      <td>ENSG00000158296</td>\n",
       "      <td>20</td>\n",
       "      <td>20q13.12</td>\n",
       "      <td>46557823.0</td>\n",
       "    </tr>\n",
       "  </tbody>\n",
       "</table>\n",
       "<p>187 rows × 5 columns</p>\n",
       "</div>"
      ],
      "text/plain": [
       "         name               id chr      band  start_position\n",
       "11       TGM2  ENSG00000198959  20  20q11.23      38127385.0\n",
       "23       CST3  ENSG00000101439  20  20p11.21      23626706.0\n",
       "36     TOMM34  ENSG00000025772  20  20q13.12      44942130.0\n",
       "44       PLTP  ENSG00000100979  20  20q13.12      45898621.0\n",
       "67       PKIG  ENSG00000168734  20  20q13.12      44531785.0\n",
       "...       ...              ...  ..       ...             ...\n",
       "6300     MYL9  ENSG00000101335  20  20q11.23      36541497.0\n",
       "6388     EDN3  ENSG00000124205  20  20q13.32      59300443.0\n",
       "6393  CSNK2A1  ENSG00000101266  20     20p13        472498.0\n",
       "6405    PREX1  ENSG00000124126  20  20q13.13      48624252.0\n",
       "6426  SLC13A3  ENSG00000158296  20  20q13.12      46557823.0\n",
       "\n",
       "[187 rows x 5 columns]"
      ]
     },
     "metadata": {},
     "output_type": "display_data"
    }
   ],
   "source": [
    "chromosome_genes_info = genes_info[genes_info[\"chr\"] == chromosome]\n",
    "display(chromosome_genes_info)"
   ]
  },
  {
   "cell_type": "code",
   "execution_count": 28,
   "id": "d2e42726-7de6-46eb-acfc-6323eaa8fae6",
   "metadata": {
    "execution": {
     "iopub.execute_input": "2022-07-11T07:39:21.873506Z",
     "iopub.status.busy": "2022-07-11T07:39:21.873153Z",
     "iopub.status.idle": "2022-07-11T07:39:21.888475Z",
     "shell.execute_reply": "2022-07-11T07:39:21.887870Z"
    },
    "papermill": {
     "duration": 0.02509,
     "end_time": "2022-07-11T07:39:21.889651",
     "exception": false,
     "start_time": "2022-07-11T07:39:21.864561",
     "status": "completed"
    },
    "tags": []
   },
   "outputs": [
    {
     "data": {
      "text/plain": [
       "5"
      ]
     },
     "metadata": {},
     "output_type": "display_data"
    }
   ],
   "source": [
    "seed(0)\n",
    "_gene_list_ids = sample(chromosome_genes_info[\"id\"].tolist(), 5)\n",
    "selected_chromosome_genes_obj = [Gene(ensembl_id=g_id) for g_id in _gene_list_ids]\n",
    "display(len(selected_chromosome_genes_obj))"
   ]
  },
  {
   "cell_type": "code",
   "execution_count": 29,
   "id": "1b355359",
   "metadata": {
    "execution": {
     "iopub.execute_input": "2022-07-11T07:39:21.904909Z",
     "iopub.status.busy": "2022-07-11T07:39:21.904422Z",
     "iopub.status.idle": "2022-07-11T07:39:21.928059Z",
     "shell.execute_reply": "2022-07-11T07:39:21.927661Z"
    },
    "papermill": {
     "duration": 0.032397,
     "end_time": "2022-07-11T07:39:21.929208",
     "exception": false,
     "start_time": "2022-07-11T07:39:21.896811",
     "status": "completed"
    },
    "tags": []
   },
   "outputs": [
    {
     "name": "stdout",
     "output_type": "stream",
     "text": [
      "NTSR1 / CRNKL1: 0.0\n",
      "NTSR1 / ADA: 0.0\n",
      "NTSR1 / FKBP1A: 0.0\n",
      "NTSR1 / PTPN1: 0.0\n",
      "CRNKL1 / ADA: 0.0\n",
      "CRNKL1 / FKBP1A: 0.0\n",
      "CRNKL1 / PTPN1: 0.0\n",
      "ADA / FKBP1A: 0.0\n",
      "ADA / PTPN1: 0.0\n",
      "FKBP1A / PTPN1: 0.0\n"
     ]
    }
   ],
   "source": [
    "for gene_idx1 in range(0, len(selected_chromosome_genes_obj) - 1):\n",
    "    gene_obj1 = selected_chromosome_genes_obj[gene_idx1]\n",
    "\n",
    "    for gene_idx2 in range(gene_idx1 + 1, len(selected_chromosome_genes_obj)):\n",
    "        gene_obj2 = selected_chromosome_genes_obj[gene_idx2]\n",
    "\n",
    "        c = gene_obj1.get_ssm_correlation(\n",
    "            gene_obj2,\n",
    "        )\n",
    "\n",
    "        print(f\"{gene_obj1.name} / {gene_obj2.name}: {c}\")"
   ]
  },
  {
   "cell_type": "markdown",
   "id": "d3843e06",
   "metadata": {
    "papermill": {
     "duration": 0.014049,
     "end_time": "2022-07-11T07:39:21.955460",
     "exception": false,
     "start_time": "2022-07-11T07:39:21.941411",
     "status": "completed"
    },
    "tags": []
   },
   "source": [
    "# Compute correlation per chromosome"
   ]
  },
  {
   "cell_type": "code",
   "execution_count": 30,
   "id": "cb859c15-d1f3-4006-a74c-2b83c0db9611",
   "metadata": {
    "execution": {
     "iopub.execute_input": "2022-07-11T07:39:21.995406Z",
     "iopub.status.busy": "2022-07-11T07:39:21.995250Z",
     "iopub.status.idle": "2022-07-11T07:39:22.013601Z",
     "shell.execute_reply": "2022-07-11T07:39:22.013208Z"
    },
    "papermill": {
     "duration": 0.038067,
     "end_time": "2022-07-11T07:39:22.014809",
     "exception": false,
     "start_time": "2022-07-11T07:39:21.976742",
     "status": "completed"
    },
    "tags": []
   },
   "outputs": [
    {
     "data": {
      "text/plain": [
       "PosixPath('/opt/data/data/phenomexcan/ld_blocks/gene_corrs/1000g/mashr/by_chr/gene_corrs-chr20.pkl')"
      ]
     },
     "metadata": {},
     "output_type": "display_data"
    }
   ],
   "source": [
    "output_dir = OUTPUT_DIR_BASE / \"by_chr\"\n",
    "output_dir.mkdir(exist_ok=True, parents=True)\n",
    "output_file = output_dir / f\"gene_corrs-chr{chromosome}.pkl\"\n",
    "display(output_file)"
   ]
  },
  {
   "cell_type": "code",
   "execution_count": 31,
   "id": "aa674fe4-6794-4eed-98fa-32b39d1d4ace",
   "metadata": {
    "execution": {
     "iopub.execute_input": "2022-07-11T07:39:22.042194Z",
     "iopub.status.busy": "2022-07-11T07:39:22.042039Z",
     "iopub.status.idle": "2022-07-11T07:39:22.067425Z",
     "shell.execute_reply": "2022-07-11T07:39:22.067022Z"
    },
    "papermill": {
     "duration": 0.041744,
     "end_time": "2022-07-11T07:39:22.068707",
     "exception": false,
     "start_time": "2022-07-11T07:39:22.026963",
     "status": "completed"
    },
    "tags": []
   },
   "outputs": [],
   "source": [
    "warnings.filterwarnings(\"error\")"
   ]
  },
  {
   "cell_type": "code",
   "execution_count": 32,
   "id": "cdbb90a1",
   "metadata": {
    "execution": {
     "iopub.execute_input": "2022-07-11T07:39:22.111720Z",
     "iopub.status.busy": "2022-07-11T07:39:22.111557Z",
     "iopub.status.idle": "2022-07-11T07:46:50.468337Z",
     "shell.execute_reply": "2022-07-11T07:46:50.467741Z"
    },
    "papermill": {
     "duration": 448.380454,
     "end_time": "2022-07-11T07:46:50.469787",
     "exception": false,
     "start_time": "2022-07-11T07:39:22.089333",
     "status": "completed"
    },
    "tags": []
   },
   "outputs": [
    {
     "name": "stdout",
     "output_type": "stream",
     "text": [
      "Number of genes in chromosome: 187\n",
      "Number of gene combinations: 17391\n"
     ]
    },
    {
     "name": "stderr",
     "output_type": "stream",
     "text": [
      "ENSG00000171700 / ENSG00000125510: 100%|██████████████████████| 17391/17391 [07:28<00:00, 38.79it/s]\n"
     ]
    },
    {
     "name": "stdout",
     "output_type": "stream",
     "text": [
      "Min/max values: 0.0 / 0.985687112048068\n"
     ]
    },
    {
     "data": {
      "text/plain": [
       "PosixPath('/opt/data/data/phenomexcan/ld_blocks/gene_corrs/1000g/mashr/by_chr/gene_corrs-chr20.pkl')"
      ]
     },
     "metadata": {},
     "output_type": "display_data"
    }
   ],
   "source": [
    "# standard checks\n",
    "all_chrs = genes_info[\"chr\"].dropna().unique()\n",
    "assert all_chrs.shape[0] == 22\n",
    "\n",
    "# select chromosome given by the user\n",
    "assert chromosome in all_chrs\n",
    "\n",
    "# run only on the chromosome specified\n",
    "all_chrs = [chromosome]\n",
    "genes_chr = genes_info[genes_info[\"chr\"] == chromosome]\n",
    "\n",
    "# For testing purposes\n",
    "# genes_chr = genes_chr.sample(n=20)\n",
    "\n",
    "print(f\"Number of genes in chromosome: {genes_chr.shape[0]}\", flush=True)\n",
    "\n",
    "# sort genes by starting position to make visualizations better later\n",
    "genes_chr = genes_chr.sort_values(\"start_position\")\n",
    "\n",
    "gene_chr_objs = [Gene(ensembl_id=gene_id) for gene_id in genes_chr[\"id\"]]\n",
    "gene_chr_ids = [g.ensembl_id for g in gene_chr_objs]\n",
    "\n",
    "n = len(gene_chr_objs)\n",
    "n_comb = int(n * (n - 1) / 2.0)\n",
    "print(f\"Number of gene combinations: {n_comb}\", flush=True)\n",
    "\n",
    "gene_corrs = []\n",
    "\n",
    "pbar = tqdm(ncols=100, total=n_comb)\n",
    "i = 0\n",
    "for gene_idx1 in range(0, len(gene_chr_objs) - 1):\n",
    "    gene_obj1 = gene_chr_objs[gene_idx1]\n",
    "\n",
    "    for gene_idx2 in range(gene_idx1 + 1, len(gene_chr_objs)):\n",
    "        gene_obj2 = gene_chr_objs[gene_idx2]\n",
    "\n",
    "        pbar.set_description(f\"{gene_obj1.ensembl_id} / {gene_obj2.ensembl_id}\")\n",
    "\n",
    "        try:\n",
    "            # FIXME: compute the correlation of the sum of squares of the model using all\n",
    "            # the available tissues; this could be problematic because for some results\n",
    "            # (computed on a specific phenotype/GWAS) we might not have all the tissues\n",
    "            # available, which can certainly bias the correlation estimation.\n",
    "            # Since this depends on the GWAS on a specific phenotype, we should ideally have\n",
    "            # one correlation matrix per GWAS. I should look at how we can improve this.\n",
    "            r = gene_obj1.get_ssm_correlation(\n",
    "                other_gene=gene_obj2,\n",
    "                condition_number=SMULTIXCAN_CONDITION_NUMBER,\n",
    "                reference_panel=REFERENCE_PANEL,\n",
    "                model_type=EQTL_MODEL,\n",
    "            )\n",
    "\n",
    "            if r is None:\n",
    "                # if r is None, it's very likely because:\n",
    "                #  * one of the genes has no prediction models\n",
    "                #  * all the SNPs predictors for the gene are not present in the reference\n",
    "                #    panel\n",
    "\n",
    "                r = 0.0\n",
    "\n",
    "            gene_corrs.append(r)\n",
    "        except Warning:\n",
    "            print(\n",
    "                f\"RuntimeWarning for genes {gene_obj1.ensembl_id} and {gene_obj2.ensembl_id}\",\n",
    "                flush=True,\n",
    "            )\n",
    "            import traceback\n",
    "\n",
    "            print(traceback.format_exc(), flush=True)\n",
    "        except Exception as e:\n",
    "            print(\n",
    "                f\"Exception for genes {gene_obj1.ensembl_id} and {gene_obj2.ensembl_id}\",\n",
    "                flush=True,\n",
    "            )\n",
    "            import traceback\n",
    "\n",
    "            print(traceback.format_exc(), flush=True)\n",
    "            gene_corrs.append(np.nan)\n",
    "\n",
    "        pbar.update(1)\n",
    "\n",
    "pbar.close()\n",
    "\n",
    "# testing\n",
    "gene_corrs_flat = pd.Series(gene_corrs)\n",
    "print(f\"Min/max values: {gene_corrs_flat.min()} / {gene_corrs_flat.max()}\")\n",
    "assert gene_corrs_flat.min() >= -1.001\n",
    "assert gene_corrs_flat.max() <= 1.001\n",
    "\n",
    "# save\n",
    "# FIXME: consider saving only the condenced matrix here. See here for\n",
    "# more details: https://github.com/greenelab/phenoplier/pull/38#discussion_r634600813\n",
    "gene_corrs_data = squareform(np.array(gene_corrs, dtype=np.float64))\n",
    "np.fill_diagonal(gene_corrs_data, 1.0)\n",
    "\n",
    "gene_corrs_df = pd.DataFrame(\n",
    "    data=gene_corrs_data,\n",
    "    index=gene_chr_ids,\n",
    "    columns=gene_chr_ids,\n",
    ")\n",
    "\n",
    "output_dir.mkdir(exist_ok=True, parents=True)\n",
    "display(output_file)\n",
    "\n",
    "gene_corrs_df.to_pickle(output_file)"
   ]
  },
  {
   "cell_type": "markdown",
   "id": "faa67b51-5373-470f-aa72-2ded53fa6dfe",
   "metadata": {
    "papermill": {
     "duration": 0.768284,
     "end_time": "2022-07-11T07:46:51.962818",
     "exception": false,
     "start_time": "2022-07-11T07:46:51.194534",
     "status": "completed"
    },
    "tags": []
   },
   "source": [
    "# Testing"
   ]
  },
  {
   "cell_type": "code",
   "execution_count": 33,
   "id": "14f7d046-4b55-4896-a56b-990127bcc388",
   "metadata": {
    "execution": {
     "iopub.execute_input": "2022-07-11T07:46:53.486381Z",
     "iopub.status.busy": "2022-07-11T07:46:53.485928Z",
     "iopub.status.idle": "2022-07-11T07:46:53.517459Z",
     "shell.execute_reply": "2022-07-11T07:46:53.517049Z"
    },
    "papermill": {
     "duration": 0.73199,
     "end_time": "2022-07-11T07:46:53.518645",
     "exception": false,
     "start_time": "2022-07-11T07:46:52.786655",
     "status": "completed"
    },
    "tags": []
   },
   "outputs": [
    {
     "data": {
      "text/plain": [
       "(187, 187)"
      ]
     },
     "execution_count": 33,
     "metadata": {},
     "output_type": "execute_result"
    }
   ],
   "source": [
    "gene_corrs_df.shape"
   ]
  },
  {
   "cell_type": "code",
   "execution_count": 34,
   "id": "c7d15414-3297-4537-a7c6-7588c0baeb75",
   "metadata": {
    "execution": {
     "iopub.execute_input": "2022-07-11T07:46:54.838023Z",
     "iopub.status.busy": "2022-07-11T07:46:54.837866Z",
     "iopub.status.idle": "2022-07-11T07:46:54.868122Z",
     "shell.execute_reply": "2022-07-11T07:46:54.867509Z"
    },
    "papermill": {
     "duration": 0.703949,
     "end_time": "2022-07-11T07:46:54.869642",
     "exception": false,
     "start_time": "2022-07-11T07:46:54.165693",
     "status": "completed"
    },
    "tags": []
   },
   "outputs": [
    {
     "data": {
      "text/html": [
       "<div>\n",
       "<style scoped>\n",
       "    .dataframe tbody tr th:only-of-type {\n",
       "        vertical-align: middle;\n",
       "    }\n",
       "\n",
       "    .dataframe tbody tr th {\n",
       "        vertical-align: top;\n",
       "    }\n",
       "\n",
       "    .dataframe thead th {\n",
       "        text-align: right;\n",
       "    }\n",
       "</style>\n",
       "<table border=\"1\" class=\"dataframe\">\n",
       "  <thead>\n",
       "    <tr style=\"text-align: right;\">\n",
       "      <th></th>\n",
       "      <th>ENSG00000101255</th>\n",
       "      <th>ENSG00000125826</th>\n",
       "      <th>ENSG00000101266</th>\n",
       "      <th>ENSG00000101280</th>\n",
       "      <th>ENSG00000125818</th>\n",
       "      <th>ENSG00000101298</th>\n",
       "      <th>ENSG00000088832</th>\n",
       "      <th>ENSG00000101307</th>\n",
       "      <th>ENSG00000089012</th>\n",
       "      <th>ENSG00000198053</th>\n",
       "      <th>...</th>\n",
       "      <th>ENSG00000092758</th>\n",
       "      <th>ENSG00000101191</th>\n",
       "      <th>ENSG00000101199</th>\n",
       "      <th>ENSG00000243509</th>\n",
       "      <th>ENSG00000203896</th>\n",
       "      <th>ENSG00000101152</th>\n",
       "      <th>ENSG00000198276</th>\n",
       "      <th>ENSG00000101161</th>\n",
       "      <th>ENSG00000171700</th>\n",
       "      <th>ENSG00000125510</th>\n",
       "    </tr>\n",
       "  </thead>\n",
       "  <tbody>\n",
       "    <tr>\n",
       "      <th>ENSG00000101255</th>\n",
       "      <td>1.000000</td>\n",
       "      <td>0.050683</td>\n",
       "      <td>0.017861</td>\n",
       "      <td>0.011775</td>\n",
       "      <td>0.002720</td>\n",
       "      <td>0.008144</td>\n",
       "      <td>0.013091</td>\n",
       "      <td>0.003198</td>\n",
       "      <td>0.010352</td>\n",
       "      <td>0.010639</td>\n",
       "      <td>...</td>\n",
       "      <td>0.0</td>\n",
       "      <td>0.0</td>\n",
       "      <td>0.0</td>\n",
       "      <td>0.0</td>\n",
       "      <td>0.0</td>\n",
       "      <td>0.0</td>\n",
       "      <td>0.0</td>\n",
       "      <td>0.0</td>\n",
       "      <td>0.0</td>\n",
       "      <td>0.0</td>\n",
       "    </tr>\n",
       "    <tr>\n",
       "      <th>ENSG00000125826</th>\n",
       "      <td>0.050683</td>\n",
       "      <td>1.000000</td>\n",
       "      <td>0.066958</td>\n",
       "      <td>0.008757</td>\n",
       "      <td>0.004395</td>\n",
       "      <td>0.016771</td>\n",
       "      <td>0.015061</td>\n",
       "      <td>0.008082</td>\n",
       "      <td>0.013727</td>\n",
       "      <td>0.014500</td>\n",
       "      <td>...</td>\n",
       "      <td>0.0</td>\n",
       "      <td>0.0</td>\n",
       "      <td>0.0</td>\n",
       "      <td>0.0</td>\n",
       "      <td>0.0</td>\n",
       "      <td>0.0</td>\n",
       "      <td>0.0</td>\n",
       "      <td>0.0</td>\n",
       "      <td>0.0</td>\n",
       "      <td>0.0</td>\n",
       "    </tr>\n",
       "    <tr>\n",
       "      <th>ENSG00000101266</th>\n",
       "      <td>0.017861</td>\n",
       "      <td>0.066958</td>\n",
       "      <td>1.000000</td>\n",
       "      <td>0.014596</td>\n",
       "      <td>0.005386</td>\n",
       "      <td>0.015147</td>\n",
       "      <td>0.015111</td>\n",
       "      <td>0.005819</td>\n",
       "      <td>0.013618</td>\n",
       "      <td>0.012445</td>\n",
       "      <td>...</td>\n",
       "      <td>0.0</td>\n",
       "      <td>0.0</td>\n",
       "      <td>0.0</td>\n",
       "      <td>0.0</td>\n",
       "      <td>0.0</td>\n",
       "      <td>0.0</td>\n",
       "      <td>0.0</td>\n",
       "      <td>0.0</td>\n",
       "      <td>0.0</td>\n",
       "      <td>0.0</td>\n",
       "    </tr>\n",
       "    <tr>\n",
       "      <th>ENSG00000101280</th>\n",
       "      <td>0.011775</td>\n",
       "      <td>0.008757</td>\n",
       "      <td>0.014596</td>\n",
       "      <td>1.000000</td>\n",
       "      <td>0.009148</td>\n",
       "      <td>0.013900</td>\n",
       "      <td>0.020965</td>\n",
       "      <td>0.006433</td>\n",
       "      <td>0.014848</td>\n",
       "      <td>0.020986</td>\n",
       "      <td>...</td>\n",
       "      <td>0.0</td>\n",
       "      <td>0.0</td>\n",
       "      <td>0.0</td>\n",
       "      <td>0.0</td>\n",
       "      <td>0.0</td>\n",
       "      <td>0.0</td>\n",
       "      <td>0.0</td>\n",
       "      <td>0.0</td>\n",
       "      <td>0.0</td>\n",
       "      <td>0.0</td>\n",
       "    </tr>\n",
       "    <tr>\n",
       "      <th>ENSG00000125818</th>\n",
       "      <td>0.002720</td>\n",
       "      <td>0.004395</td>\n",
       "      <td>0.005386</td>\n",
       "      <td>0.009148</td>\n",
       "      <td>1.000000</td>\n",
       "      <td>0.016027</td>\n",
       "      <td>0.013208</td>\n",
       "      <td>0.004112</td>\n",
       "      <td>0.008097</td>\n",
       "      <td>0.010889</td>\n",
       "      <td>...</td>\n",
       "      <td>0.0</td>\n",
       "      <td>0.0</td>\n",
       "      <td>0.0</td>\n",
       "      <td>0.0</td>\n",
       "      <td>0.0</td>\n",
       "      <td>0.0</td>\n",
       "      <td>0.0</td>\n",
       "      <td>0.0</td>\n",
       "      <td>0.0</td>\n",
       "      <td>0.0</td>\n",
       "    </tr>\n",
       "  </tbody>\n",
       "</table>\n",
       "<p>5 rows × 187 columns</p>\n",
       "</div>"
      ],
      "text/plain": [
       "                 ENSG00000101255  ENSG00000125826  ENSG00000101266  \\\n",
       "ENSG00000101255         1.000000         0.050683         0.017861   \n",
       "ENSG00000125826         0.050683         1.000000         0.066958   \n",
       "ENSG00000101266         0.017861         0.066958         1.000000   \n",
       "ENSG00000101280         0.011775         0.008757         0.014596   \n",
       "ENSG00000125818         0.002720         0.004395         0.005386   \n",
       "\n",
       "                 ENSG00000101280  ENSG00000125818  ENSG00000101298  \\\n",
       "ENSG00000101255         0.011775         0.002720         0.008144   \n",
       "ENSG00000125826         0.008757         0.004395         0.016771   \n",
       "ENSG00000101266         0.014596         0.005386         0.015147   \n",
       "ENSG00000101280         1.000000         0.009148         0.013900   \n",
       "ENSG00000125818         0.009148         1.000000         0.016027   \n",
       "\n",
       "                 ENSG00000088832  ENSG00000101307  ENSG00000089012  \\\n",
       "ENSG00000101255         0.013091         0.003198         0.010352   \n",
       "ENSG00000125826         0.015061         0.008082         0.013727   \n",
       "ENSG00000101266         0.015111         0.005819         0.013618   \n",
       "ENSG00000101280         0.020965         0.006433         0.014848   \n",
       "ENSG00000125818         0.013208         0.004112         0.008097   \n",
       "\n",
       "                 ENSG00000198053  ...  ENSG00000092758  ENSG00000101191  \\\n",
       "ENSG00000101255         0.010639  ...              0.0              0.0   \n",
       "ENSG00000125826         0.014500  ...              0.0              0.0   \n",
       "ENSG00000101266         0.012445  ...              0.0              0.0   \n",
       "ENSG00000101280         0.020986  ...              0.0              0.0   \n",
       "ENSG00000125818         0.010889  ...              0.0              0.0   \n",
       "\n",
       "                 ENSG00000101199  ENSG00000243509  ENSG00000203896  \\\n",
       "ENSG00000101255              0.0              0.0              0.0   \n",
       "ENSG00000125826              0.0              0.0              0.0   \n",
       "ENSG00000101266              0.0              0.0              0.0   \n",
       "ENSG00000101280              0.0              0.0              0.0   \n",
       "ENSG00000125818              0.0              0.0              0.0   \n",
       "\n",
       "                 ENSG00000101152  ENSG00000198276  ENSG00000101161  \\\n",
       "ENSG00000101255              0.0              0.0              0.0   \n",
       "ENSG00000125826              0.0              0.0              0.0   \n",
       "ENSG00000101266              0.0              0.0              0.0   \n",
       "ENSG00000101280              0.0              0.0              0.0   \n",
       "ENSG00000125818              0.0              0.0              0.0   \n",
       "\n",
       "                 ENSG00000171700  ENSG00000125510  \n",
       "ENSG00000101255              0.0              0.0  \n",
       "ENSG00000125826              0.0              0.0  \n",
       "ENSG00000101266              0.0              0.0  \n",
       "ENSG00000101280              0.0              0.0  \n",
       "ENSG00000125818              0.0              0.0  \n",
       "\n",
       "[5 rows x 187 columns]"
      ]
     },
     "execution_count": 34,
     "metadata": {},
     "output_type": "execute_result"
    }
   ],
   "source": [
    "gene_corrs_df.head()"
   ]
  },
  {
   "cell_type": "code",
   "execution_count": 35,
   "id": "286686af-1b7b-4440-8453-6bdcbd8de19c",
   "metadata": {
    "execution": {
     "iopub.execute_input": "2022-07-11T07:46:56.226711Z",
     "iopub.status.busy": "2022-07-11T07:46:56.226551Z",
     "iopub.status.idle": "2022-07-11T07:46:56.242674Z",
     "shell.execute_reply": "2022-07-11T07:46:56.242230Z"
    },
    "papermill": {
     "duration": 0.7125,
     "end_time": "2022-07-11T07:46:56.244143",
     "exception": false,
     "start_time": "2022-07-11T07:46:55.531643",
     "status": "completed"
    },
    "tags": []
   },
   "outputs": [],
   "source": [
    "assert not gene_corrs_df.isna().any().any()"
   ]
  },
  {
   "cell_type": "code",
   "execution_count": 36,
   "id": "00583efc-7068-4270-ad1e-4a418e91db96",
   "metadata": {
    "execution": {
     "iopub.execute_input": "2022-07-11T07:46:57.821262Z",
     "iopub.status.busy": "2022-07-11T07:46:57.821107Z",
     "iopub.status.idle": "2022-07-11T07:46:57.853547Z",
     "shell.execute_reply": "2022-07-11T07:46:57.853147Z"
    },
    "papermill": {
     "duration": 0.882346,
     "end_time": "2022-07-11T07:46:57.854735",
     "exception": false,
     "start_time": "2022-07-11T07:46:56.972389",
     "status": "completed"
    },
    "tags": []
   },
   "outputs": [
    {
     "data": {
      "text/plain": [
       "0.0"
      ]
     },
     "metadata": {},
     "output_type": "display_data"
    }
   ],
   "source": [
    "_min_val = gene_corrs_df.min().min()\n",
    "display(_min_val)\n",
    "assert _min_val >= 0.0"
   ]
  },
  {
   "cell_type": "code",
   "execution_count": 37,
   "id": "d04fb2cf-1050-475b-b855-f5f7cc04092b",
   "metadata": {
    "execution": {
     "iopub.execute_input": "2022-07-11T07:46:59.214732Z",
     "iopub.status.busy": "2022-07-11T07:46:59.214571Z",
     "iopub.status.idle": "2022-07-11T07:46:59.256490Z",
     "shell.execute_reply": "2022-07-11T07:46:59.256115Z"
    },
    "papermill": {
     "duration": 0.71923,
     "end_time": "2022-07-11T07:46:59.257576",
     "exception": false,
     "start_time": "2022-07-11T07:46:58.538346",
     "status": "completed"
    },
    "tags": []
   },
   "outputs": [
    {
     "data": {
      "text/plain": [
       "1.0"
      ]
     },
     "metadata": {},
     "output_type": "display_data"
    }
   ],
   "source": [
    "_max_val = gene_corrs_df.max().max()  # this captures the diagonal\n",
    "display(_max_val)\n",
    "assert _max_val <= 1.0"
   ]
  },
  {
   "cell_type": "code",
   "execution_count": 38,
   "id": "96d02c44-1fba-47be-8a93-8f2608420b9c",
   "metadata": {
    "execution": {
     "iopub.execute_input": "2022-07-11T07:47:00.736968Z",
     "iopub.status.busy": "2022-07-11T07:47:00.736564Z",
     "iopub.status.idle": "2022-07-11T07:47:00.751714Z",
     "shell.execute_reply": "2022-07-11T07:47:00.751097Z"
    },
    "papermill": {
     "duration": 0.810291,
     "end_time": "2022-07-11T07:47:00.752926",
     "exception": false,
     "start_time": "2022-07-11T07:46:59.942635",
     "status": "completed"
    },
    "tags": []
   },
   "outputs": [],
   "source": [
    "# check upper triangular values\n",
    "assert len(gene_corrs) == int(genes_chr.shape[0] * (genes_chr.shape[0] - 1) / 2)"
   ]
  },
  {
   "cell_type": "code",
   "execution_count": 39,
   "id": "aaa51627-f4e3-4744-a41f-7d25adcc0a78",
   "metadata": {
    "execution": {
     "iopub.execute_input": "2022-07-11T07:47:02.322172Z",
     "iopub.status.busy": "2022-07-11T07:47:02.321787Z",
     "iopub.status.idle": "2022-07-11T07:47:02.356976Z",
     "shell.execute_reply": "2022-07-11T07:47:02.356548Z"
    },
    "papermill": {
     "duration": 0.921327,
     "end_time": "2022-07-11T07:47:02.358207",
     "exception": false,
     "start_time": "2022-07-11T07:47:01.436880",
     "status": "completed"
    },
    "tags": []
   },
   "outputs": [],
   "source": [
    "gene_corrs = pd.Series(gene_corrs)"
   ]
  },
  {
   "cell_type": "code",
   "execution_count": 40,
   "id": "fe283586-c348-40e0-8841-f6d97bfb021c",
   "metadata": {
    "execution": {
     "iopub.execute_input": "2022-07-11T07:47:03.990986Z",
     "iopub.status.busy": "2022-07-11T07:47:03.990487Z",
     "iopub.status.idle": "2022-07-11T07:47:04.026502Z",
     "shell.execute_reply": "2022-07-11T07:47:04.026103Z"
    },
    "papermill": {
     "duration": 0.740653,
     "end_time": "2022-07-11T07:47:04.027891",
     "exception": false,
     "start_time": "2022-07-11T07:47:03.287238",
     "status": "completed"
    },
    "tags": []
   },
   "outputs": [
    {
     "data": {
      "text/plain": [
       "count    17391.000000\n",
       "mean         0.005521\n",
       "std          0.039189\n",
       "min          0.000000\n",
       "25%          0.000000\n",
       "50%          0.000000\n",
       "75%          0.000000\n",
       "max          0.985687\n",
       "dtype: float64"
      ]
     },
     "execution_count": 40,
     "metadata": {},
     "output_type": "execute_result"
    }
   ],
   "source": [
    "gene_corrs.describe()"
   ]
  },
  {
   "cell_type": "code",
   "execution_count": 41,
   "id": "b3815678-0f93-4b35-897b-a9d047a2aa78",
   "metadata": {
    "execution": {
     "iopub.execute_input": "2022-07-11T07:47:05.763845Z",
     "iopub.status.busy": "2022-07-11T07:47:05.763685Z",
     "iopub.status.idle": "2022-07-11T07:47:05.799975Z",
     "shell.execute_reply": "2022-07-11T07:47:05.799597Z"
    },
    "papermill": {
     "duration": 0.868832,
     "end_time": "2022-07-11T07:47:05.801092",
     "exception": false,
     "start_time": "2022-07-11T07:47:04.932260",
     "status": "completed"
    },
    "tags": []
   },
   "outputs": [
    {
     "data": {
      "text/plain": [
       "0.00    0.000000\n",
       "0.05    0.000000\n",
       "0.10    0.000000\n",
       "0.15    0.000000\n",
       "0.20    0.000000\n",
       "0.25    0.000000\n",
       "0.30    0.000000\n",
       "0.35    0.000000\n",
       "0.40    0.000000\n",
       "0.45    0.000000\n",
       "0.50    0.000000\n",
       "0.55    0.000000\n",
       "0.60    0.000000\n",
       "0.65    0.000000\n",
       "0.70    0.000000\n",
       "0.75    0.000000\n",
       "0.80    0.000000\n",
       "0.85    0.003982\n",
       "0.90    0.008622\n",
       "0.95    0.014200\n",
       "dtype: float64"
      ]
     },
     "metadata": {},
     "output_type": "display_data"
    }
   ],
   "source": [
    "gene_corrs_quantiles = gene_corrs.quantile(np.arange(0, 1, 0.05))\n",
    "display(gene_corrs_quantiles)"
   ]
  },
  {
   "cell_type": "markdown",
   "id": "8e60a080-edb2-4e9c-b2ef-22961693200c",
   "metadata": {
    "papermill": {
     "duration": 0.844839,
     "end_time": "2022-07-11T07:47:07.391538",
     "exception": false,
     "start_time": "2022-07-11T07:47:06.546699",
     "status": "completed"
    },
    "tags": []
   },
   "source": [
    "## Plot: distribution"
   ]
  },
  {
   "cell_type": "code",
   "execution_count": 42,
   "id": "8301126b-a7d4-4744-9c7d-f0f86eb6f54c",
   "metadata": {
    "execution": {
     "iopub.execute_input": "2022-07-11T07:47:09.108694Z",
     "iopub.status.busy": "2022-07-11T07:47:09.108536Z",
     "iopub.status.idle": "2022-07-11T07:47:09.452736Z",
     "shell.execute_reply": "2022-07-11T07:47:09.452342Z"
    },
    "papermill": {
     "duration": 1.219781,
     "end_time": "2022-07-11T07:47:09.454139",
     "exception": false,
     "start_time": "2022-07-11T07:47:08.234358",
     "status": "completed"
    },
    "tags": []
   },
   "outputs": [
    {
     "data": {
      "image/png": "[encoded data removed]",
      "text/plain": [
       "<Figure size 504x504 with 1 Axes>"
      ]
     },
     "metadata": {
      "needs_background": "light"
     },
     "output_type": "display_data"
    }
   ],
   "source": [
    "with sns.plotting_context(\"paper\", font_scale=1.5):\n",
    "    g = sns.displot(gene_corrs, kde=True, height=7)\n",
    "    g.ax.set_title(\n",
    "        f\"Distribution of gene correlation values in chromosome {chromosome}\"\n",
    "    )"
   ]
  },
  {
   "cell_type": "markdown",
   "id": "cbd52bca-d878-4a2f-b684-5c83aa3038d4",
   "metadata": {
    "papermill": {
     "duration": 0.857049,
     "end_time": "2022-07-11T07:47:11.255035",
     "exception": false,
     "start_time": "2022-07-11T07:47:10.397986",
     "status": "completed"
    },
    "tags": []
   },
   "source": [
    "## Plot: heatmap"
   ]
  },
  {
   "cell_type": "code",
   "execution_count": 43,
   "id": "d03fe63a-c7b2-4fb9-a53c-db362ce843c9",
   "metadata": {
    "execution": {
     "iopub.execute_input": "2022-07-11T07:47:12.748105Z",
     "iopub.status.busy": "2022-07-11T07:47:12.747935Z",
     "iopub.status.idle": "2022-07-11T07:47:12.790696Z",
     "shell.execute_reply": "2022-07-11T07:47:12.790324Z"
    },
    "papermill": {
     "duration": 0.771639,
     "end_time": "2022-07-11T07:47:12.791807",
     "exception": false,
     "start_time": "2022-07-11T07:47:12.020168",
     "status": "completed"
    },
    "tags": []
   },
   "outputs": [
    {
     "data": {
      "text/plain": [
       "'-0.05 / 0.05'"
      ]
     },
     "metadata": {},
     "output_type": "display_data"
    }
   ],
   "source": [
    "vmin_val = min(-0.05, gene_corrs_quantiles[0.10])\n",
    "vmax_val = max(0.05, gene_corrs_quantiles[0.90])\n",
    "display(f\"{vmin_val} / {vmax_val}\")"
   ]
  },
  {
   "cell_type": "code",
   "execution_count": 44,
   "id": "dc41b70b-5bcc-4d9e-9f33-a22c4a94dab5",
   "metadata": {
    "execution": {
     "iopub.execute_input": "2022-07-11T07:47:14.102343Z",
     "iopub.status.busy": "2022-07-11T07:47:14.102181Z",
     "iopub.status.idle": "2022-07-11T07:47:14.292745Z",
     "shell.execute_reply": "2022-07-11T07:47:14.292281Z"
    },
    "papermill": {
     "duration": 0.841361,
     "end_time": "2022-07-11T07:47:14.293924",
     "exception": false,
     "start_time": "2022-07-11T07:47:13.452563",
     "status": "completed"
    },
    "tags": []
   },
   "outputs": [
    {
     "data": {
      "text/plain": [
       "Text(0.5, 1.0, 'Gene correlations in chromosome 20')"
      ]
     },
     "execution_count": 44,
     "metadata": {},
     "output_type": "execute_result"
    },
    {
     "data": {
      "image/png": "[encoded data removed]",
      "text/plain": [
       "<Figure size 720x720 with 2 Axes>"
      ]
     },
     "metadata": {
      "needs_background": "light"
     },
     "output_type": "display_data"
    }
   ],
   "source": [
    "f, ax = plt.subplots(figsize=(10, 10))\n",
    "sns.heatmap(\n",
    "    gene_corrs_df,\n",
    "    xticklabels=False,\n",
    "    yticklabels=False,\n",
    "    square=True,\n",
    "    vmin=vmin_val,\n",
    "    vmax=vmax_val,\n",
    "    cmap=\"YlGnBu\",\n",
    "    ax=ax,\n",
    ")\n",
    "ax.set_title(f\"Gene correlations in chromosome {chromosome}\")"
   ]
  },
  {
   "cell_type": "code",
   "execution_count": null,
   "id": "b25e3ead",
   "metadata": {
    "papermill": {
     "duration": 0.877898,
     "end_time": "2022-07-11T07:47:15.832455",
     "exception": false,
     "start_time": "2022-07-11T07:47:14.954557",
     "status": "completed"
    },
    "tags": []
   },
   "outputs": [],
   "source": []
  }
 ],
 "metadata": {
  "jupytext": {
   "cell_metadata_filter": "all,-execution,-papermill,-trusted",
   "formats": "ipynb,py//py:percent"
  },
  "kernelspec": {
   "display_name": "Python 3 (ipykernel)",
   "language": "python",
   "name": "python3"
  },
  "language_info": {
   "codemirror_mode": {
    "name": "ipython",
    "version": 3
   },
   "file_extension": ".py",
   "mimetype": "text/x-python",
   "name": "python",
   "nbconvert_exporter": "python",
   "pygments_lexer": "ipython3",
   "version": "3.8.13"
  },
  "papermill": {
   "default_parameters": {},
   "duration": 483.890179,
   "end_time": "2022-07-11T07:47:19.877518",
   "environment_variables": {},
   "exception": null,
   "input_path": "nbs/15_gsa_gls/10-gene_expr_correlations.ipynb",
   "output_path": "nbs/15_gsa_gls/gene_corrs/1000g/mashr/10-gene_expr_correlations-chr20.run.ipynb",
   "parameters": {
    "EQTL_MODEL": "MASHR",
    "REFERENCE_PANEL": "1000G",
    "chromosome": 20
   },
   "start_time": "2022-07-11T07:39:15.987339",
   "version": "2.2.2"
  }
 },
 "nbformat": 4,
 "nbformat_minor": 5
}
