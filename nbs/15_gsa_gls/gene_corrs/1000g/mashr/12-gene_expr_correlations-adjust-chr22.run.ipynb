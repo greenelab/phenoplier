{
 "cells": [
  {
   "cell_type": "markdown",
   "id": "28fc82fa-c3f6-4184-8054-cc91c7c6e2e7",
   "metadata": {
    "papermill": {
     "duration": 0.011305,
     "end_time": "2022-07-11T13:18:11.679500",
     "exception": false,
     "start_time": "2022-07-11T13:18:11.668195",
     "status": "completed"
    },
    "tags": []
   },
   "source": [
    "# Description"
   ]
  },
  {
   "cell_type": "markdown",
   "id": "36839b17-916e-4aec-8fee-96faf1097e78",
   "metadata": {
    "papermill": {
     "duration": 0.010423,
     "end_time": "2022-07-11T13:18:11.701549",
     "exception": false,
     "start_time": "2022-07-11T13:18:11.691126",
     "status": "completed"
    },
    "tags": []
   },
   "source": [
    "**TODO**"
   ]
  },
  {
   "cell_type": "markdown",
   "id": "249e8aa3-ef1a-4bba-a6dd-58120ad80794",
   "metadata": {
    "papermill": {
     "duration": 0.004829,
     "end_time": "2022-07-11T13:18:11.713235",
     "exception": false,
     "start_time": "2022-07-11T13:18:11.708406",
     "status": "completed"
    },
    "tags": []
   },
   "source": [
    "# Modules"
   ]
  },
  {
   "cell_type": "code",
   "execution_count": 1,
   "id": "f9b5022b-7c5e-4d37-9c7a-fdb91777c7f9",
   "metadata": {
    "execution": {
     "iopub.execute_input": "2022-07-11T13:18:11.724175Z",
     "iopub.status.busy": "2022-07-11T13:18:11.722483Z",
     "iopub.status.idle": "2022-07-11T13:18:14.595374Z",
     "shell.execute_reply": "2022-07-11T13:18:14.594248Z"
    },
    "papermill": {
     "duration": 2.879544,
     "end_time": "2022-07-11T13:18:14.597000",
     "exception": false,
     "start_time": "2022-07-11T13:18:11.717456",
     "status": "completed"
    },
    "tags": []
   },
   "outputs": [],
   "source": [
    "library(reticulate)\n",
    "pd <- import(\"pandas\")"
   ]
  },
  {
   "cell_type": "markdown",
   "id": "69e80173-3a39-4b6a-b723-602687cb255b",
   "metadata": {
    "papermill": {
     "duration": 0.002734,
     "end_time": "2022-07-11T13:18:14.602659",
     "exception": false,
     "start_time": "2022-07-11T13:18:14.599925",
     "status": "completed"
    },
    "tags": []
   },
   "source": [
    "# Settings"
   ]
  },
  {
   "cell_type": "code",
   "execution_count": 2,
   "id": "22d12bb4-1699-4a6b-b1b9-d3fdd3d547d7",
   "metadata": {
    "execution": {
     "iopub.execute_input": "2022-07-11T13:18:14.628097Z",
     "iopub.status.busy": "2022-07-11T13:18:14.609158Z",
     "iopub.status.idle": "2022-07-11T13:18:14.638209Z",
     "shell.execute_reply": "2022-07-11T13:18:14.637200Z"
    },
    "papermill": {
     "duration": 0.034284,
     "end_time": "2022-07-11T13:18:14.639719",
     "exception": false,
     "start_time": "2022-07-11T13:18:14.605435",
     "status": "completed"
    },
    "tags": [
     "parameters"
    ]
   },
   "outputs": [],
   "source": [
    "# reference panel\n",
    "REFERENCE_PANEL <- \"GTEX_V8\"\n",
    "# REFERENCE_PANEL = \"1000G\"\n",
    "\n",
    "# prediction models\n",
    "## mashr\n",
    "EQTL_MODEL <- \"MASHR\"\n",
    "\n",
    "chromosome <- NULL"
   ]
  },
  {
   "cell_type": "code",
   "execution_count": 3,
   "id": "b61299fb",
   "metadata": {
    "execution": {
     "iopub.execute_input": "2022-07-11T13:18:14.647413Z",
     "iopub.status.busy": "2022-07-11T13:18:14.646500Z",
     "iopub.status.idle": "2022-07-11T13:18:14.662446Z",
     "shell.execute_reply": "2022-07-11T13:18:14.661270Z"
    },
    "papermill": {
     "duration": 0.0214,
     "end_time": "2022-07-11T13:18:14.664113",
     "exception": false,
     "start_time": "2022-07-11T13:18:14.642713",
     "status": "completed"
    },
    "tags": [
     "injected-parameters"
    ]
   },
   "outputs": [],
   "source": [
    "# Parameters\n",
    "chromosome = 22\n",
    "REFERENCE_PANEL = \"1000G\"\n",
    "EQTL_MODEL = \"MASHR\"\n"
   ]
  },
  {
   "cell_type": "code",
   "execution_count": 4,
   "id": "8fe24bef",
   "metadata": {
    "execution": {
     "iopub.execute_input": "2022-07-11T13:18:14.672913Z",
     "iopub.status.busy": "2022-07-11T13:18:14.671945Z",
     "iopub.status.idle": "2022-07-11T13:18:14.683729Z",
     "shell.execute_reply": "2022-07-11T13:18:14.682600Z"
    },
    "papermill": {
     "duration": 0.017807,
     "end_time": "2022-07-11T13:18:14.685363",
     "exception": false,
     "start_time": "2022-07-11T13:18:14.667556",
     "status": "completed"
    },
    "tags": []
   },
   "outputs": [
    {
     "data": {
      "text/html": [
       "'Using reference panel: 1000G'"
      ],
      "text/latex": [
       "'Using reference panel: 1000G'"
      ],
      "text/markdown": [
       "'Using reference panel: 1000G'"
      ],
      "text/plain": [
       "[1] \"Using reference panel: 1000G\""
      ]
     },
     "metadata": {},
     "output_type": "display_data"
    }
   ],
   "source": [
    "paste0(\"Using reference panel: \", REFERENCE_PANEL)"
   ]
  },
  {
   "cell_type": "code",
   "execution_count": 5,
   "id": "d62c28f8-186c-478b-948c-58e14f00df4b",
   "metadata": {
    "execution": {
     "iopub.execute_input": "2022-07-11T13:18:14.694253Z",
     "iopub.status.busy": "2022-07-11T13:18:14.693292Z",
     "iopub.status.idle": "2022-07-11T13:18:14.703447Z",
     "shell.execute_reply": "2022-07-11T13:18:14.702361Z"
    },
    "papermill": {
     "duration": 0.016033,
     "end_time": "2022-07-11T13:18:14.705037",
     "exception": false,
     "start_time": "2022-07-11T13:18:14.689004",
     "status": "completed"
    },
    "tags": []
   },
   "outputs": [
    {
     "data": {
      "text/html": [
       "'Using eQTL model: MASHR'"
      ],
      "text/latex": [
       "'Using eQTL model: MASHR'"
      ],
      "text/markdown": [
       "'Using eQTL model: MASHR'"
      ],
      "text/plain": [
       "[1] \"Using eQTL model: MASHR\""
      ]
     },
     "metadata": {},
     "output_type": "display_data"
    }
   ],
   "source": [
    "paste0(\"Using eQTL model: \", EQTL_MODEL)"
   ]
  },
  {
   "cell_type": "code",
   "execution_count": 6,
   "id": "5243676f-c889-4405-9a4d-262f0f044614",
   "metadata": {
    "execution": {
     "iopub.execute_input": "2022-07-11T13:18:14.713843Z",
     "iopub.status.busy": "2022-07-11T13:18:14.712896Z",
     "iopub.status.idle": "2022-07-11T13:18:14.721274Z",
     "shell.execute_reply": "2022-07-11T13:18:14.720174Z"
    },
    "papermill": {
     "duration": 0.014353,
     "end_time": "2022-07-11T13:18:14.722886",
     "exception": false,
     "start_time": "2022-07-11T13:18:14.708533",
     "status": "completed"
    },
    "tags": []
   },
   "outputs": [],
   "source": [
    "# chromosome must be provided as parameter\n",
    "stopifnot(!is.null(chromosome))"
   ]
  },
  {
   "cell_type": "markdown",
   "id": "c05e4d34-e115-48cd-8a2e-225109eb0042",
   "metadata": {
    "papermill": {
     "duration": 0.003387,
     "end_time": "2022-07-11T13:18:14.729810",
     "exception": false,
     "start_time": "2022-07-11T13:18:14.726423",
     "status": "completed"
    },
    "tags": []
   },
   "source": [
    "# Paths"
   ]
  },
  {
   "cell_type": "code",
   "execution_count": 7,
   "id": "eb6aa8aa-b452-4a2f-a780-93dd80ad4285",
   "metadata": {
    "execution": {
     "iopub.execute_input": "2022-07-11T13:18:14.738382Z",
     "iopub.status.busy": "2022-07-11T13:18:14.737482Z",
     "iopub.status.idle": "2022-07-11T13:18:14.748609Z",
     "shell.execute_reply": "2022-07-11T13:18:14.747532Z"
    },
    "papermill": {
     "duration": 0.016888,
     "end_time": "2022-07-11T13:18:14.750157",
     "exception": false,
     "start_time": "2022-07-11T13:18:14.733269",
     "status": "completed"
    },
    "tags": []
   },
   "outputs": [
    {
     "data": {
      "text/html": [
       "'/opt/data/data/phenomexcan/ld_blocks/gene_corrs'"
      ],
      "text/latex": [
       "'/opt/data/data/phenomexcan/ld\\_blocks/gene\\_corrs'"
      ],
      "text/markdown": [
       "'/opt/data/data/phenomexcan/ld_blocks/gene_corrs'"
      ],
      "text/plain": [
       "[1] \"/opt/data/data/phenomexcan/ld_blocks/gene_corrs\""
      ]
     },
     "metadata": {},
     "output_type": "display_data"
    }
   ],
   "source": [
    "GENE_CORRS_DIR <- Sys.getenv(\"PHENOPLIER_PHENOMEXCAN_LD_BLOCKS_GENE_CORRS_DIR\")\n",
    "IRdisplay::display(GENE_CORRS_DIR)"
   ]
  },
  {
   "cell_type": "code",
   "execution_count": 8,
   "id": "eb24f15f-f282-4476-8943-8413c4483f12",
   "metadata": {
    "execution": {
     "iopub.execute_input": "2022-07-11T13:18:14.759022Z",
     "iopub.status.busy": "2022-07-11T13:18:14.758101Z",
     "iopub.status.idle": "2022-07-11T13:18:14.769316Z",
     "shell.execute_reply": "2022-07-11T13:18:14.768248Z"
    },
    "papermill": {
     "duration": 0.017147,
     "end_time": "2022-07-11T13:18:14.770859",
     "exception": false,
     "start_time": "2022-07-11T13:18:14.753712",
     "status": "completed"
    },
    "tags": []
   },
   "outputs": [
    {
     "data": {
      "text/html": [
       "'/opt/data/data/phenomexcan/ld_blocks/gene_corrs/1000g/mashr/by_chr'"
      ],
      "text/latex": [
       "'/opt/data/data/phenomexcan/ld\\_blocks/gene\\_corrs/1000g/mashr/by\\_chr'"
      ],
      "text/markdown": [
       "'/opt/data/data/phenomexcan/ld_blocks/gene_corrs/1000g/mashr/by_chr'"
      ],
      "text/plain": [
       "[1] \"/opt/data/data/phenomexcan/ld_blocks/gene_corrs/1000g/mashr/by_chr\""
      ]
     },
     "metadata": {},
     "output_type": "display_data"
    }
   ],
   "source": [
    "INPUT_DIR <- file.path(GENE_CORRS_DIR, tolower(REFERENCE_PANEL), tolower(EQTL_MODEL), \"by_chr\")\n",
    "IRdisplay::display(INPUT_DIR)"
   ]
  },
  {
   "cell_type": "code",
   "execution_count": 9,
   "id": "43c1daba-0da9-4822-8d1e-968e9767e251",
   "metadata": {
    "execution": {
     "iopub.execute_input": "2022-07-11T13:18:14.780091Z",
     "iopub.status.busy": "2022-07-11T13:18:14.779145Z",
     "iopub.status.idle": "2022-07-11T13:18:14.791639Z",
     "shell.execute_reply": "2022-07-11T13:18:14.790528Z"
    },
    "papermill": {
     "duration": 0.018576,
     "end_time": "2022-07-11T13:18:14.793245",
     "exception": false,
     "start_time": "2022-07-11T13:18:14.774669",
     "status": "completed"
    },
    "tags": []
   },
   "outputs": [
    {
     "data": {
      "text/html": [
       "'/opt/data/data/phenomexcan/ld_blocks/gene_corrs/1000g/mashr/by_chr/gene_corrs-chr22.pkl'"
      ],
      "text/latex": [
       "'/opt/data/data/phenomexcan/ld\\_blocks/gene\\_corrs/1000g/mashr/by\\_chr/gene\\_corrs-chr22.pkl'"
      ],
      "text/markdown": [
       "'/opt/data/data/phenomexcan/ld_blocks/gene_corrs/1000g/mashr/by_chr/gene_corrs-chr22.pkl'"
      ],
      "text/plain": [
       "[1] \"/opt/data/data/phenomexcan/ld_blocks/gene_corrs/1000g/mashr/by_chr/gene_corrs-chr22.pkl\""
      ]
     },
     "metadata": {},
     "output_type": "display_data"
    }
   ],
   "source": [
    "INPUT_FILE <- file.path(INPUT_DIR, paste0(\"gene_corrs-chr\", chromosome, \".pkl\"))\n",
    "IRdisplay::display(INPUT_FILE)\n",
    "stopifnot(file.exists(INPUT_FILE))"
   ]
  },
  {
   "cell_type": "code",
   "execution_count": 10,
   "id": "72386fbf-982b-420a-9057-ea9a97a5e571",
   "metadata": {
    "execution": {
     "iopub.execute_input": "2022-07-11T13:18:14.802837Z",
     "iopub.status.busy": "2022-07-11T13:18:14.801878Z",
     "iopub.status.idle": "2022-07-11T13:18:14.814835Z",
     "shell.execute_reply": "2022-07-11T13:18:14.813732Z"
    },
    "papermill": {
     "duration": 0.019296,
     "end_time": "2022-07-11T13:18:14.816427",
     "exception": false,
     "start_time": "2022-07-11T13:18:14.797131",
     "status": "completed"
    },
    "tags": []
   },
   "outputs": [
    {
     "data": {
      "text/html": [
       "'/opt/data/data/phenomexcan/ld_blocks/gene_corrs/1000g/mashr/by_chr/corrected_positive_definite'"
      ],
      "text/latex": [
       "'/opt/data/data/phenomexcan/ld\\_blocks/gene\\_corrs/1000g/mashr/by\\_chr/corrected\\_positive\\_definite'"
      ],
      "text/markdown": [
       "'/opt/data/data/phenomexcan/ld_blocks/gene_corrs/1000g/mashr/by_chr/corrected_positive_definite'"
      ],
      "text/plain": [
       "[1] \"/opt/data/data/phenomexcan/ld_blocks/gene_corrs/1000g/mashr/by_chr/corrected_positive_definite\""
      ]
     },
     "metadata": {},
     "output_type": "display_data"
    }
   ],
   "source": [
    "OUTPUT_DIR <- file.path(INPUT_DIR, \"corrected_positive_definite\")\n",
    "IRdisplay::display(OUTPUT_DIR)\n",
    "dir.create(OUTPUT_DIR, recursive = TRUE, showWarnings = FALSE)"
   ]
  },
  {
   "cell_type": "code",
   "execution_count": 11,
   "id": "f9f19d1d-ce4c-4099-a26e-250fec751de7",
   "metadata": {
    "execution": {
     "iopub.execute_input": "2022-07-11T13:18:14.826054Z",
     "iopub.status.busy": "2022-07-11T13:18:14.825138Z",
     "iopub.status.idle": "2022-07-11T13:18:14.837543Z",
     "shell.execute_reply": "2022-07-11T13:18:14.836473Z"
    },
    "papermill": {
     "duration": 0.018651,
     "end_time": "2022-07-11T13:18:14.839116",
     "exception": false,
     "start_time": "2022-07-11T13:18:14.820465",
     "status": "completed"
    },
    "tags": []
   },
   "outputs": [
    {
     "data": {
      "text/html": [
       "'/opt/data/data/phenomexcan/ld_blocks/gene_corrs/1000g/mashr/by_chr/corrected_positive_definite/gene_corrs-chr22.pkl'"
      ],
      "text/latex": [
       "'/opt/data/data/phenomexcan/ld\\_blocks/gene\\_corrs/1000g/mashr/by\\_chr/corrected\\_positive\\_definite/gene\\_corrs-chr22.pkl'"
      ],
      "text/markdown": [
       "'/opt/data/data/phenomexcan/ld_blocks/gene_corrs/1000g/mashr/by_chr/corrected_positive_definite/gene_corrs-chr22.pkl'"
      ],
      "text/plain": [
       "[1] \"/opt/data/data/phenomexcan/ld_blocks/gene_corrs/1000g/mashr/by_chr/corrected_positive_definite/gene_corrs-chr22.pkl\""
      ]
     },
     "metadata": {},
     "output_type": "display_data"
    }
   ],
   "source": [
    "OUTPUT_FILE <- file.path(OUTPUT_DIR, paste0(\"gene_corrs-chr\", chromosome, \".pkl\"))\n",
    "IRdisplay::display(OUTPUT_FILE)\n",
    "if (file.exists(OUTPUT_FILE)) {\n",
    "  IRdisplay::display(\"Output file exists, it will be overwritten\")\n",
    "}"
   ]
  },
  {
   "cell_type": "markdown",
   "id": "24973e62-e888-4b56-843f-489d8d0762b5",
   "metadata": {
    "papermill": {
     "duration": 0.003858,
     "end_time": "2022-07-11T13:18:14.846871",
     "exception": false,
     "start_time": "2022-07-11T13:18:14.843013",
     "status": "completed"
    },
    "tags": []
   },
   "source": [
    "# Functions"
   ]
  },
  {
   "cell_type": "code",
   "execution_count": 12,
   "id": "f828f081-7358-4cc8-8a89-1ee293bcc1a7",
   "metadata": {
    "execution": {
     "iopub.execute_input": "2022-07-11T13:18:14.859021Z",
     "iopub.status.busy": "2022-07-11T13:18:14.855369Z",
     "iopub.status.idle": "2022-07-11T13:18:14.866932Z",
     "shell.execute_reply": "2022-07-11T13:18:14.865818Z"
    },
    "papermill": {
     "duration": 0.017922,
     "end_time": "2022-07-11T13:18:14.868578",
     "exception": false,
     "start_time": "2022-07-11T13:18:14.850656",
     "status": "completed"
    },
    "tags": []
   },
   "outputs": [],
   "source": [
    "# taken from https://www.r-bloggers.com/2013/08/correcting-a-pseudo-correlation-matrix-to-be-positive-semidefinite/\n",
    "# TODO: add documentation\n",
    "CorrectCM <- function(CM, p = 0) {\n",
    "  n <- dim(var(CM))[1L]\n",
    "  E <- eigen(CM)\n",
    "  CM1 <- E$vectors %*% tcrossprod(diag(pmax(E$values, p), n), E$vectors)\n",
    "  Balance <- diag(1 / sqrt(diag(CM1)))\n",
    "  CM2 <- Balance %*% CM1 %*% Balance\n",
    "  return(CM2)\n",
    "}"
   ]
  },
  {
   "cell_type": "code",
   "execution_count": 13,
   "id": "7ab9bebf-50a1-4e6f-b16a-e23cae93d02a",
   "metadata": {
    "execution": {
     "iopub.execute_input": "2022-07-11T13:18:14.878930Z",
     "iopub.status.busy": "2022-07-11T13:18:14.877968Z",
     "iopub.status.idle": "2022-07-11T13:18:14.886377Z",
     "shell.execute_reply": "2022-07-11T13:18:14.885237Z"
    },
    "papermill": {
     "duration": 0.015237,
     "end_time": "2022-07-11T13:18:14.888064",
     "exception": false,
     "start_time": "2022-07-11T13:18:14.872827",
     "status": "completed"
    },
    "tags": []
   },
   "outputs": [],
   "source": [
    "is_positive_definite <- function(data) {\n",
    "  # eigenvalues <- eigen(data)$values\n",
    "  # nonpositive_eigenvalues <- eigenvalues[eigenvalues <= 0]\n",
    "\n",
    "  cholStatus <- try(u <- chol(data), silent = FALSE)\n",
    "  cholError <- ifelse(class(cholStatus) == \"try-error\", TRUE, FALSE)\n",
    "\n",
    "  if (cholError) {\n",
    "    return(FALSE)\n",
    "  } else {\n",
    "    return(TRUE)\n",
    "  }\n",
    "}"
   ]
  },
  {
   "cell_type": "markdown",
   "id": "7403fd78-00b2-4941-9c07-3c3af1ddc636",
   "metadata": {
    "papermill": {
     "duration": 0.00412,
     "end_time": "2022-07-11T13:18:14.897082",
     "exception": false,
     "start_time": "2022-07-11T13:18:14.892962",
     "status": "completed"
    },
    "tags": []
   },
   "source": [
    "# Load data"
   ]
  },
  {
   "cell_type": "code",
   "execution_count": 14,
   "id": "3a7744e1-2e5a-450e-9dcf-945ec181347d",
   "metadata": {
    "execution": {
     "iopub.execute_input": "2022-07-11T13:18:14.906606Z",
     "iopub.status.busy": "2022-07-11T13:18:14.905694Z",
     "iopub.status.idle": "2022-07-11T13:18:14.934238Z",
     "shell.execute_reply": "2022-07-11T13:18:14.933174Z"
    },
    "papermill": {
     "duration": 0.034646,
     "end_time": "2022-07-11T13:18:14.935724",
     "exception": false,
     "start_time": "2022-07-11T13:18:14.901078",
     "status": "completed"
    },
    "tags": []
   },
   "outputs": [],
   "source": [
    "gene_corrs <- pd$read_pickle(INPUT_FILE)"
   ]
  },
  {
   "cell_type": "code",
   "execution_count": 15,
   "id": "6fb150b2-4c68-4e9b-9aa5-1890d3f762e3",
   "metadata": {
    "execution": {
     "iopub.execute_input": "2022-07-11T13:18:14.945161Z",
     "iopub.status.busy": "2022-07-11T13:18:14.944276Z",
     "iopub.status.idle": "2022-07-11T13:18:14.953773Z",
     "shell.execute_reply": "2022-07-11T13:18:14.952759Z"
    },
    "papermill": {
     "duration": 0.015594,
     "end_time": "2022-07-11T13:18:14.955289",
     "exception": false,
     "start_time": "2022-07-11T13:18:14.939695",
     "status": "completed"
    },
    "tags": []
   },
   "outputs": [
    {
     "data": {
      "text/html": [
       "<style>\n",
       ".list-inline {list-style: none; margin:0; padding: 0}\n",
       ".list-inline>li {display: inline-block}\n",
       ".list-inline>li:not(:last-child)::after {content: \"\\00b7\"; padding: 0 .5ex}\n",
       "</style>\n",
       "<ol class=list-inline><li>170</li><li>170</li></ol>\n"
      ],
      "text/latex": [
       "\\begin{enumerate*}\n",
       "\\item 170\n",
       "\\item 170\n",
       "\\end{enumerate*}\n"
      ],
      "text/markdown": [
       "1. 170\n",
       "2. 170\n",
       "\n",
       "\n"
      ],
      "text/plain": [
       "[1] 170 170"
      ]
     },
     "metadata": {},
     "output_type": "display_data"
    }
   ],
   "source": [
    "dim(gene_corrs)"
   ]
  },
  {
   "cell_type": "code",
   "execution_count": 16,
   "id": "0d4e53b5-7586-4a68-8ce5-d930d74ba943",
   "metadata": {
    "execution": {
     "iopub.execute_input": "2022-07-11T13:18:14.964950Z",
     "iopub.status.busy": "2022-07-11T13:18:14.964066Z",
     "iopub.status.idle": "2022-07-11T13:18:14.981642Z",
     "shell.execute_reply": "2022-07-11T13:18:14.980602Z"
    },
    "papermill": {
     "duration": 0.023888,
     "end_time": "2022-07-11T13:18:14.983152",
     "exception": false,
     "start_time": "2022-07-11T13:18:14.959264",
     "status": "completed"
    },
    "tags": []
   },
   "outputs": [
    {
     "data": {
      "text/html": [
       "<table class=\"dataframe\">\n",
       "<caption>A data.frame: 6 × 10</caption>\n",
       "<thead>\n",
       "\t<tr><th></th><th scope=col>ENSG00000177663</th><th scope=col>ENSG00000131100</th><th scope=col>ENSG00000099968</th><th scope=col>ENSG00000015475</th><th scope=col>ENSG00000243156</th><th scope=col>ENSG00000215193</th><th scope=col>ENSG00000183785</th><th scope=col>ENSG00000184979</th><th scope=col>ENSG00000100033</th><th scope=col>ENSG00000100075</th></tr>\n",
       "\t<tr><th></th><th scope=col>&lt;dbl&gt;</th><th scope=col>&lt;dbl&gt;</th><th scope=col>&lt;dbl&gt;</th><th scope=col>&lt;dbl&gt;</th><th scope=col>&lt;dbl&gt;</th><th scope=col>&lt;dbl&gt;</th><th scope=col>&lt;dbl&gt;</th><th scope=col>&lt;dbl&gt;</th><th scope=col>&lt;dbl&gt;</th><th scope=col>&lt;dbl&gt;</th></tr>\n",
       "</thead>\n",
       "<tbody>\n",
       "\t<tr><th scope=row>ENSG00000177663</th><td>1.000000000</td><td>0.006885357</td><td>0.01197294</td><td>0.007085403</td><td>0.01672002</td><td>0.01088823</td><td>0.01592511</td><td>0.007940772</td><td>0.01209599</td><td>0.0046056427</td></tr>\n",
       "\t<tr><th scope=row>ENSG00000131100</th><td>0.006885357</td><td>1.000000000</td><td>0.55641772</td><td>0.253375797</td><td>0.01956582</td><td>0.01203004</td><td>0.01731687</td><td>0.005654205</td><td>0.00992810</td><td>0.0007936115</td></tr>\n",
       "\t<tr><th scope=row>ENSG00000099968</th><td>0.011972935</td><td>0.556417718</td><td>1.00000000</td><td>0.378946966</td><td>0.02686693</td><td>0.01688576</td><td>0.02211298</td><td>0.015003851</td><td>0.01512547</td><td>0.0031328346</td></tr>\n",
       "\t<tr><th scope=row>ENSG00000015475</th><td>0.007085403</td><td>0.253375797</td><td>0.37894697</td><td>1.000000000</td><td>0.02967353</td><td>0.02260115</td><td>0.02774004</td><td>0.015827485</td><td>0.02050416</td><td>0.0105248100</td></tr>\n",
       "\t<tr><th scope=row>ENSG00000243156</th><td>0.016720016</td><td>0.019565820</td><td>0.02686693</td><td>0.029673528</td><td>1.00000000</td><td>0.06018397</td><td>0.02852282</td><td>0.023187342</td><td>0.02212483</td><td>0.0086801228</td></tr>\n",
       "\t<tr><th scope=row>ENSG00000215193</th><td>0.010888230</td><td>0.012030037</td><td>0.01688576</td><td>0.022601152</td><td>0.06018397</td><td>1.00000000</td><td>0.24641511</td><td>0.082562656</td><td>0.02114448</td><td>0.0060344493</td></tr>\n",
       "</tbody>\n",
       "</table>\n"
      ],
      "text/latex": [
       "A data.frame: 6 × 10\n",
       "\\begin{tabular}{r|llllllllll}\n",
       "  & ENSG00000177663 & ENSG00000131100 & ENSG00000099968 & ENSG00000015475 & ENSG00000243156 & ENSG00000215193 & ENSG00000183785 & ENSG00000184979 & ENSG00000100033 & ENSG00000100075\\\\\n",
       "  & <dbl> & <dbl> & <dbl> & <dbl> & <dbl> & <dbl> & <dbl> & <dbl> & <dbl> & <dbl>\\\\\n",
       "\\hline\n",
       "\tENSG00000177663 & 1.000000000 & 0.006885357 & 0.01197294 & 0.007085403 & 0.01672002 & 0.01088823 & 0.01592511 & 0.007940772 & 0.01209599 & 0.0046056427\\\\\n",
       "\tENSG00000131100 & 0.006885357 & 1.000000000 & 0.55641772 & 0.253375797 & 0.01956582 & 0.01203004 & 0.01731687 & 0.005654205 & 0.00992810 & 0.0007936115\\\\\n",
       "\tENSG00000099968 & 0.011972935 & 0.556417718 & 1.00000000 & 0.378946966 & 0.02686693 & 0.01688576 & 0.02211298 & 0.015003851 & 0.01512547 & 0.0031328346\\\\\n",
       "\tENSG00000015475 & 0.007085403 & 0.253375797 & 0.37894697 & 1.000000000 & 0.02967353 & 0.02260115 & 0.02774004 & 0.015827485 & 0.02050416 & 0.0105248100\\\\\n",
       "\tENSG00000243156 & 0.016720016 & 0.019565820 & 0.02686693 & 0.029673528 & 1.00000000 & 0.06018397 & 0.02852282 & 0.023187342 & 0.02212483 & 0.0086801228\\\\\n",
       "\tENSG00000215193 & 0.010888230 & 0.012030037 & 0.01688576 & 0.022601152 & 0.06018397 & 1.00000000 & 0.24641511 & 0.082562656 & 0.02114448 & 0.0060344493\\\\\n",
       "\\end{tabular}\n"
      ],
      "text/markdown": [
       "\n",
       "A data.frame: 6 × 10\n",
       "\n",
       "| <!--/--> | ENSG00000177663 &lt;dbl&gt; | ENSG00000131100 &lt;dbl&gt; | ENSG00000099968 &lt;dbl&gt; | ENSG00000015475 &lt;dbl&gt; | ENSG00000243156 &lt;dbl&gt; | ENSG00000215193 &lt;dbl&gt; | ENSG00000183785 &lt;dbl&gt; | ENSG00000184979 &lt;dbl&gt; | ENSG00000100033 &lt;dbl&gt; | ENSG00000100075 &lt;dbl&gt; |\n",
       "|---|---|---|---|---|---|---|---|---|---|---|\n",
       "| ENSG00000177663 | 1.000000000 | 0.006885357 | 0.01197294 | 0.007085403 | 0.01672002 | 0.01088823 | 0.01592511 | 0.007940772 | 0.01209599 | 0.0046056427 |\n",
       "| ENSG00000131100 | 0.006885357 | 1.000000000 | 0.55641772 | 0.253375797 | 0.01956582 | 0.01203004 | 0.01731687 | 0.005654205 | 0.00992810 | 0.0007936115 |\n",
       "| ENSG00000099968 | 0.011972935 | 0.556417718 | 1.00000000 | 0.378946966 | 0.02686693 | 0.01688576 | 0.02211298 | 0.015003851 | 0.01512547 | 0.0031328346 |\n",
       "| ENSG00000015475 | 0.007085403 | 0.253375797 | 0.37894697 | 1.000000000 | 0.02967353 | 0.02260115 | 0.02774004 | 0.015827485 | 0.02050416 | 0.0105248100 |\n",
       "| ENSG00000243156 | 0.016720016 | 0.019565820 | 0.02686693 | 0.029673528 | 1.00000000 | 0.06018397 | 0.02852282 | 0.023187342 | 0.02212483 | 0.0086801228 |\n",
       "| ENSG00000215193 | 0.010888230 | 0.012030037 | 0.01688576 | 0.022601152 | 0.06018397 | 1.00000000 | 0.24641511 | 0.082562656 | 0.02114448 | 0.0060344493 |\n",
       "\n"
      ],
      "text/plain": [
       "                ENSG00000177663 ENSG00000131100 ENSG00000099968 ENSG00000015475\n",
       "ENSG00000177663 1.000000000     0.006885357     0.01197294      0.007085403    \n",
       "ENSG00000131100 0.006885357     1.000000000     0.55641772      0.253375797    \n",
       "ENSG00000099968 0.011972935     0.556417718     1.00000000      0.378946966    \n",
       "ENSG00000015475 0.007085403     0.253375797     0.37894697      1.000000000    \n",
       "ENSG00000243156 0.016720016     0.019565820     0.02686693      0.029673528    \n",
       "ENSG00000215193 0.010888230     0.012030037     0.01688576      0.022601152    \n",
       "                ENSG00000243156 ENSG00000215193 ENSG00000183785 ENSG00000184979\n",
       "ENSG00000177663 0.01672002      0.01088823      0.01592511      0.007940772    \n",
       "ENSG00000131100 0.01956582      0.01203004      0.01731687      0.005654205    \n",
       "ENSG00000099968 0.02686693      0.01688576      0.02211298      0.015003851    \n",
       "ENSG00000015475 0.02967353      0.02260115      0.02774004      0.015827485    \n",
       "ENSG00000243156 1.00000000      0.06018397      0.02852282      0.023187342    \n",
       "ENSG00000215193 0.06018397      1.00000000      0.24641511      0.082562656    \n",
       "                ENSG00000100033 ENSG00000100075\n",
       "ENSG00000177663 0.01209599      0.0046056427   \n",
       "ENSG00000131100 0.00992810      0.0007936115   \n",
       "ENSG00000099968 0.01512547      0.0031328346   \n",
       "ENSG00000015475 0.02050416      0.0105248100   \n",
       "ENSG00000243156 0.02212483      0.0086801228   \n",
       "ENSG00000215193 0.02114448      0.0060344493   "
      ]
     },
     "metadata": {},
     "output_type": "display_data"
    }
   ],
   "source": [
    "head(gene_corrs[1:10, 1:10])"
   ]
  },
  {
   "cell_type": "markdown",
   "id": "d6cbc88a-2c90-4d11-b7dd-434f046fd03c",
   "metadata": {
    "papermill": {
     "duration": 0.00399,
     "end_time": "2022-07-11T13:18:14.991381",
     "exception": false,
     "start_time": "2022-07-11T13:18:14.987391",
     "status": "completed"
    },
    "tags": []
   },
   "source": [
    "# Check positive definiteness"
   ]
  },
  {
   "cell_type": "code",
   "execution_count": 17,
   "id": "a858a061-7c5a-4a6b-8026-fe4de50c1f26",
   "metadata": {
    "execution": {
     "iopub.execute_input": "2022-07-11T13:18:15.001243Z",
     "iopub.status.busy": "2022-07-11T13:18:15.000353Z",
     "iopub.status.idle": "2022-07-11T13:18:15.009462Z",
     "shell.execute_reply": "2022-07-11T13:18:15.008427Z"
    },
    "papermill": {
     "duration": 0.015468,
     "end_time": "2022-07-11T13:18:15.010902",
     "exception": false,
     "start_time": "2022-07-11T13:18:14.995434",
     "status": "completed"
    },
    "tags": []
   },
   "outputs": [],
   "source": [
    "orig_matrix_is_positive_definite <- is_positive_definite(gene_corrs)"
   ]
  },
  {
   "cell_type": "code",
   "execution_count": 18,
   "id": "410ee452-488f-4518-b93a-2acd608ba99c",
   "metadata": {
    "execution": {
     "iopub.execute_input": "2022-07-11T13:18:15.021036Z",
     "iopub.status.busy": "2022-07-11T13:18:15.020181Z",
     "iopub.status.idle": "2022-07-11T13:18:15.032607Z",
     "shell.execute_reply": "2022-07-11T13:18:15.031606Z"
    },
    "papermill": {
     "duration": 0.018895,
     "end_time": "2022-07-11T13:18:15.033983",
     "exception": false,
     "start_time": "2022-07-11T13:18:15.015088",
     "status": "completed"
    },
    "tags": []
   },
   "outputs": [
    {
     "data": {
      "text/html": [
       "'Matrix is already positive definite!'"
      ],
      "text/latex": [
       "'Matrix is already positive definite!'"
      ],
      "text/markdown": [
       "'Matrix is already positive definite!'"
      ],
      "text/plain": [
       "[1] \"Matrix is already positive definite!\""
      ]
     },
     "metadata": {},
     "output_type": "display_data"
    },
    {
     "data": {
      "text/html": [
       "TRUE"
      ],
      "text/latex": [
       "TRUE"
      ],
      "text/markdown": [
       "TRUE"
      ],
      "text/plain": [
       "[1] TRUE"
      ]
     },
     "metadata": {},
     "output_type": "display_data"
    }
   ],
   "source": [
    "if (orig_matrix_is_positive_definite) {\n",
    "  IRdisplay::display(\"Matrix is already positive definite!\")\n",
    "  file.copy(INPUT_FILE, OUTPUT_FILE)\n",
    "} else {\n",
    "  IRdisplay::display(\"We need to correct the data and make the matrix positive definite\")\n",
    "\n",
    "  eigenvalues <- eigen(gene_corrs)$values\n",
    "  nonpositive_eigenvalues <- eigenvalues[eigenvalues <= 0]\n",
    "  IRdisplay::display(length(nonpositive_eigenvalues))\n",
    "  IRdisplay::display(nonpositive_eigenvalues)\n",
    "\n",
    "  # Make matrix positive definite\n",
    "  gene_corrs_corrected <- CorrectCM(gene_corrs, 1e-10)\n",
    "  dimnames(gene_corrs_corrected)[[1]] <- rownames(gene_corrs)\n",
    "  dimnames(gene_corrs_corrected)[[2]] <- colnames(gene_corrs)\n",
    "  gene_corrs_corrected <- as.data.frame(gene_corrs_corrected)\n",
    "\n",
    "  # check if new matrix is really positive definite\n",
    "  matrix_is_positive_definite <- is_positive_definite(gene_corrs_corrected)\n",
    "  if (matrix_is_positive_definite) {\n",
    "    IRdisplay::display(\"It worked!\")\n",
    "    IRdisplay::display(head(gene_corrs[1:10, 1:10]))\n",
    "    IRdisplay::display(head(gene_corrs_corrected[1:10, 1:10]))\n",
    "    py_save_object(gene_corrs_corrected, OUTPUT_FILE)\n",
    "  } else {\n",
    "    eigenvalues <- eigen(gene_corrs_corrected)$values\n",
    "    nonpositive_eigenvalues <- eigenvalues[eigenvalues <= 0]\n",
    "    IRdisplay::display(length(nonpositive_eigenvalues))\n",
    "    IRdisplay::display(nonpositive_eigenvalues)\n",
    "\n",
    "    stop(\"Method failed to adjust matrix\")\n",
    "  }\n",
    "}"
   ]
  },
  {
   "cell_type": "markdown",
   "id": "6c196700-7491-462f-bab8-ab9d40c63499",
   "metadata": {
    "papermill": {
     "duration": 0.004191,
     "end_time": "2022-07-11T13:18:15.042561",
     "exception": false,
     "start_time": "2022-07-11T13:18:15.038370",
     "status": "completed"
    },
    "tags": []
   },
   "source": [
    "Both matrices should \"look\" similar. We are not interested in perfectly accurate correlation values (they are already inaccurate)."
   ]
  },
  {
   "cell_type": "code",
   "execution_count": null,
   "id": "d8ae4220-2171-460c-9231-cd5219f3fe77",
   "metadata": {
    "papermill": {
     "duration": 0.004132,
     "end_time": "2022-07-11T13:18:15.051035",
     "exception": false,
     "start_time": "2022-07-11T13:18:15.046903",
     "status": "completed"
    },
    "tags": []
   },
   "outputs": [],
   "source": []
  }
 ],
 "metadata": {
  "jupytext": {
   "cell_metadata_filter": "all,-execution,-papermill,-trusted"
  },
  "kernelspec": {
   "display_name": "R",
   "language": "R",
   "name": "ir"
  },
  "language_info": {
   "codemirror_mode": "r",
   "file_extension": ".r",
   "mimetype": "text/x-r-source",
   "name": "R",
   "pygments_lexer": "r",
   "version": "3.6.3"
  },
  "papermill": {
   "default_parameters": {},
   "duration": 4.750588,
   "end_time": "2022-07-11T13:18:15.174537",
   "environment_variables": {},
   "exception": null,
   "input_path": "nbs/15_gsa_gls/12-gene_expr_correlations-adjust.ipynb",
   "output_path": "nbs/15_gsa_gls/gene_corrs/1000g/mashr/12-gene_expr_correlations-adjust-chr22.run.ipynb",
   "parameters": {
    "EQTL_MODEL": "MASHR",
    "REFERENCE_PANEL": "1000G",
    "chromosome": 22
   },
   "start_time": "2022-07-11T13:18:10.423949",
   "version": "2.3.4"
  }
 },
 "nbformat": 4,
 "nbformat_minor": 5
}
