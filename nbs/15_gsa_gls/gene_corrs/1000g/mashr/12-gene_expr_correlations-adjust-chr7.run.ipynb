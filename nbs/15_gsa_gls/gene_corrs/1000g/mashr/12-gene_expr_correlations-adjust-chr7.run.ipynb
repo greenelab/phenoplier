{
 "cells": [
  {
   "cell_type": "markdown",
   "id": "28fc82fa-c3f6-4184-8054-cc91c7c6e2e7",
   "metadata": {
    "papermill": {
     "duration": 0.003561,
     "end_time": "2022-07-12T13:07:14.582615",
     "exception": false,
     "start_time": "2022-07-12T13:07:14.579054",
     "status": "completed"
    },
    "tags": []
   },
   "source": [
    "# Description"
   ]
  },
  {
   "cell_type": "markdown",
   "id": "36839b17-916e-4aec-8fee-96faf1097e78",
   "metadata": {
    "papermill": {
     "duration": 0.00292,
     "end_time": "2022-07-12T13:07:14.588643",
     "exception": false,
     "start_time": "2022-07-12T13:07:14.585723",
     "status": "completed"
    },
    "tags": []
   },
   "source": [
    "**TODO**"
   ]
  },
  {
   "cell_type": "markdown",
   "id": "249e8aa3-ef1a-4bba-a6dd-58120ad80794",
   "metadata": {
    "papermill": {
     "duration": 0.002916,
     "end_time": "2022-07-12T13:07:14.594726",
     "exception": false,
     "start_time": "2022-07-12T13:07:14.591810",
     "status": "completed"
    },
    "tags": []
   },
   "source": [
    "# Modules"
   ]
  },
  {
   "cell_type": "code",
   "execution_count": 1,
   "id": "f9b5022b-7c5e-4d37-9c7a-fdb91777c7f9",
   "metadata": {
    "execution": {
     "iopub.execute_input": "2022-07-12T13:07:14.624488Z",
     "iopub.status.busy": "2022-07-12T13:07:14.622943Z",
     "iopub.status.idle": "2022-07-12T13:07:17.828829Z",
     "shell.execute_reply": "2022-07-12T13:07:17.827534Z"
    },
    "papermill": {
     "duration": 3.233018,
     "end_time": "2022-07-12T13:07:17.830808",
     "exception": false,
     "start_time": "2022-07-12T13:07:14.597790",
     "status": "completed"
    },
    "tags": []
   },
   "outputs": [],
   "source": [
    "library(reticulate)\n",
    "pd <- import(\"pandas\")"
   ]
  },
  {
   "cell_type": "markdown",
   "id": "69e80173-3a39-4b6a-b723-602687cb255b",
   "metadata": {
    "papermill": {
     "duration": 0.003768,
     "end_time": "2022-07-12T13:07:17.838454",
     "exception": false,
     "start_time": "2022-07-12T13:07:17.834686",
     "status": "completed"
    },
    "tags": []
   },
   "source": [
    "# Settings"
   ]
  },
  {
   "cell_type": "code",
   "execution_count": 2,
   "id": "22d12bb4-1699-4a6b-b1b9-d3fdd3d547d7",
   "metadata": {
    "execution": {
     "iopub.execute_input": "2022-07-12T13:07:17.870737Z",
     "iopub.status.busy": "2022-07-12T13:07:17.847192Z",
     "iopub.status.idle": "2022-07-12T13:07:17.887065Z",
     "shell.execute_reply": "2022-07-12T13:07:17.884432Z"
    },
    "papermill": {
     "duration": 0.047175,
     "end_time": "2022-07-12T13:07:17.889623",
     "exception": false,
     "start_time": "2022-07-12T13:07:17.842448",
     "status": "completed"
    },
    "tags": [
     "parameters"
    ]
   },
   "outputs": [],
   "source": [
    "# reference panel\n",
    "REFERENCE_PANEL <- \"GTEX_V8\"\n",
    "# REFERENCE_PANEL = \"1000G\"\n",
    "\n",
    "# prediction models\n",
    "## mashr\n",
    "EQTL_MODEL <- \"MASHR\"\n",
    "\n",
    "chromosome <- NULL"
   ]
  },
  {
   "cell_type": "code",
   "execution_count": 3,
   "id": "308e8615",
   "metadata": {
    "execution": {
     "iopub.execute_input": "2022-07-12T13:07:17.907968Z",
     "iopub.status.busy": "2022-07-12T13:07:17.906810Z",
     "iopub.status.idle": "2022-07-12T13:07:17.925282Z",
     "shell.execute_reply": "2022-07-12T13:07:17.924001Z"
    },
    "papermill": {
     "duration": 0.033171,
     "end_time": "2022-07-12T13:07:17.927115",
     "exception": false,
     "start_time": "2022-07-12T13:07:17.893944",
     "status": "completed"
    },
    "tags": [
     "injected-parameters"
    ]
   },
   "outputs": [],
   "source": [
    "# Parameters\n",
    "chromosome = 7\n",
    "REFERENCE_PANEL = \"1000G\"\n",
    "EQTL_MODEL = \"MASHR\"\n"
   ]
  },
  {
   "cell_type": "code",
   "execution_count": 4,
   "id": "8fe24bef",
   "metadata": {
    "execution": {
     "iopub.execute_input": "2022-07-12T13:07:17.936722Z",
     "iopub.status.busy": "2022-07-12T13:07:17.935649Z",
     "iopub.status.idle": "2022-07-12T13:07:17.949004Z",
     "shell.execute_reply": "2022-07-12T13:07:17.947658Z"
    },
    "papermill": {
     "duration": 0.020013,
     "end_time": "2022-07-12T13:07:17.950875",
     "exception": false,
     "start_time": "2022-07-12T13:07:17.930862",
     "status": "completed"
    },
    "tags": []
   },
   "outputs": [
    {
     "data": {
      "text/html": [
       "'Using reference panel: 1000G'"
      ],
      "text/latex": [
       "'Using reference panel: 1000G'"
      ],
      "text/markdown": [
       "'Using reference panel: 1000G'"
      ],
      "text/plain": [
       "[1] \"Using reference panel: 1000G\""
      ]
     },
     "metadata": {},
     "output_type": "display_data"
    }
   ],
   "source": [
    "paste0(\"Using reference panel: \", REFERENCE_PANEL)"
   ]
  },
  {
   "cell_type": "code",
   "execution_count": 5,
   "id": "d62c28f8-186c-478b-948c-58e14f00df4b",
   "metadata": {
    "execution": {
     "iopub.execute_input": "2022-07-12T13:07:17.960833Z",
     "iopub.status.busy": "2022-07-12T13:07:17.959752Z",
     "iopub.status.idle": "2022-07-12T13:07:17.971371Z",
     "shell.execute_reply": "2022-07-12T13:07:17.970080Z"
    },
    "papermill": {
     "duration": 0.018266,
     "end_time": "2022-07-12T13:07:17.973162",
     "exception": false,
     "start_time": "2022-07-12T13:07:17.954896",
     "status": "completed"
    },
    "tags": []
   },
   "outputs": [
    {
     "data": {
      "text/html": [
       "'Using eQTL model: MASHR'"
      ],
      "text/latex": [
       "'Using eQTL model: MASHR'"
      ],
      "text/markdown": [
       "'Using eQTL model: MASHR'"
      ],
      "text/plain": [
       "[1] \"Using eQTL model: MASHR\""
      ]
     },
     "metadata": {},
     "output_type": "display_data"
    }
   ],
   "source": [
    "paste0(\"Using eQTL model: \", EQTL_MODEL)"
   ]
  },
  {
   "cell_type": "code",
   "execution_count": 6,
   "id": "5243676f-c889-4405-9a4d-262f0f044614",
   "metadata": {
    "execution": {
     "iopub.execute_input": "2022-07-12T13:07:17.982969Z",
     "iopub.status.busy": "2022-07-12T13:07:17.981841Z",
     "iopub.status.idle": "2022-07-12T13:07:17.991688Z",
     "shell.execute_reply": "2022-07-12T13:07:17.990393Z"
    },
    "papermill": {
     "duration": 0.016365,
     "end_time": "2022-07-12T13:07:17.993577",
     "exception": false,
     "start_time": "2022-07-12T13:07:17.977212",
     "status": "completed"
    },
    "tags": []
   },
   "outputs": [],
   "source": [
    "# chromosome must be provided as parameter\n",
    "stopifnot(!is.null(chromosome))"
   ]
  },
  {
   "cell_type": "markdown",
   "id": "c05e4d34-e115-48cd-8a2e-225109eb0042",
   "metadata": {
    "papermill": {
     "duration": 0.004122,
     "end_time": "2022-07-12T13:07:18.001882",
     "exception": false,
     "start_time": "2022-07-12T13:07:17.997760",
     "status": "completed"
    },
    "tags": []
   },
   "source": [
    "# Paths"
   ]
  },
  {
   "cell_type": "code",
   "execution_count": 7,
   "id": "eb6aa8aa-b452-4a2f-a780-93dd80ad4285",
   "metadata": {
    "execution": {
     "iopub.execute_input": "2022-07-12T13:07:18.012521Z",
     "iopub.status.busy": "2022-07-12T13:07:18.011352Z",
     "iopub.status.idle": "2022-07-12T13:07:18.025119Z",
     "shell.execute_reply": "2022-07-12T13:07:18.023733Z"
    },
    "papermill": {
     "duration": 0.020969,
     "end_time": "2022-07-12T13:07:18.027111",
     "exception": false,
     "start_time": "2022-07-12T13:07:18.006142",
     "status": "completed"
    },
    "tags": []
   },
   "outputs": [
    {
     "data": {
      "text/html": [
       "'/opt/data/data/phenomexcan/ld_blocks/gene_corrs'"
      ],
      "text/latex": [
       "'/opt/data/data/phenomexcan/ld\\_blocks/gene\\_corrs'"
      ],
      "text/markdown": [
       "'/opt/data/data/phenomexcan/ld_blocks/gene_corrs'"
      ],
      "text/plain": [
       "[1] \"/opt/data/data/phenomexcan/ld_blocks/gene_corrs\""
      ]
     },
     "metadata": {},
     "output_type": "display_data"
    }
   ],
   "source": [
    "GENE_CORRS_DIR <- Sys.getenv(\"PHENOPLIER_PHENOMEXCAN_LD_BLOCKS_GENE_CORRS_DIR\")\n",
    "IRdisplay::display(GENE_CORRS_DIR)"
   ]
  },
  {
   "cell_type": "code",
   "execution_count": 8,
   "id": "eb24f15f-f282-4476-8943-8413c4483f12",
   "metadata": {
    "execution": {
     "iopub.execute_input": "2022-07-12T13:07:18.038248Z",
     "iopub.status.busy": "2022-07-12T13:07:18.037212Z",
     "iopub.status.idle": "2022-07-12T13:07:18.050898Z",
     "shell.execute_reply": "2022-07-12T13:07:18.049559Z"
    },
    "papermill": {
     "duration": 0.02107,
     "end_time": "2022-07-12T13:07:18.052767",
     "exception": false,
     "start_time": "2022-07-12T13:07:18.031697",
     "status": "completed"
    },
    "tags": []
   },
   "outputs": [
    {
     "data": {
      "text/html": [
       "'/opt/data/data/phenomexcan/ld_blocks/gene_corrs/1000g/mashr/by_chr'"
      ],
      "text/latex": [
       "'/opt/data/data/phenomexcan/ld\\_blocks/gene\\_corrs/1000g/mashr/by\\_chr'"
      ],
      "text/markdown": [
       "'/opt/data/data/phenomexcan/ld_blocks/gene_corrs/1000g/mashr/by_chr'"
      ],
      "text/plain": [
       "[1] \"/opt/data/data/phenomexcan/ld_blocks/gene_corrs/1000g/mashr/by_chr\""
      ]
     },
     "metadata": {},
     "output_type": "display_data"
    }
   ],
   "source": [
    "INPUT_DIR <- file.path(GENE_CORRS_DIR, tolower(REFERENCE_PANEL), tolower(EQTL_MODEL), \"by_chr\")\n",
    "IRdisplay::display(INPUT_DIR)"
   ]
  },
  {
   "cell_type": "code",
   "execution_count": 9,
   "id": "43c1daba-0da9-4822-8d1e-968e9767e251",
   "metadata": {
    "execution": {
     "iopub.execute_input": "2022-07-12T13:07:18.064297Z",
     "iopub.status.busy": "2022-07-12T13:07:18.062909Z",
     "iopub.status.idle": "2022-07-12T13:07:18.078981Z",
     "shell.execute_reply": "2022-07-12T13:07:18.076947Z"
    },
    "papermill": {
     "duration": 0.023683,
     "end_time": "2022-07-12T13:07:18.081266",
     "exception": false,
     "start_time": "2022-07-12T13:07:18.057583",
     "status": "completed"
    },
    "tags": []
   },
   "outputs": [
    {
     "data": {
      "text/html": [
       "'/opt/data/data/phenomexcan/ld_blocks/gene_corrs/1000g/mashr/by_chr/gene_corrs-chr7.pkl'"
      ],
      "text/latex": [
       "'/opt/data/data/phenomexcan/ld\\_blocks/gene\\_corrs/1000g/mashr/by\\_chr/gene\\_corrs-chr7.pkl'"
      ],
      "text/markdown": [
       "'/opt/data/data/phenomexcan/ld_blocks/gene_corrs/1000g/mashr/by_chr/gene_corrs-chr7.pkl'"
      ],
      "text/plain": [
       "[1] \"/opt/data/data/phenomexcan/ld_blocks/gene_corrs/1000g/mashr/by_chr/gene_corrs-chr7.pkl\""
      ]
     },
     "metadata": {},
     "output_type": "display_data"
    }
   ],
   "source": [
    "INPUT_FILE <- file.path(INPUT_DIR, paste0(\"gene_corrs-chr\", chromosome, \".pkl\"))\n",
    "IRdisplay::display(INPUT_FILE)\n",
    "stopifnot(file.exists(INPUT_FILE))"
   ]
  },
  {
   "cell_type": "code",
   "execution_count": 10,
   "id": "72386fbf-982b-420a-9057-ea9a97a5e571",
   "metadata": {
    "execution": {
     "iopub.execute_input": "2022-07-12T13:07:18.092012Z",
     "iopub.status.busy": "2022-07-12T13:07:18.090985Z",
     "iopub.status.idle": "2022-07-12T13:07:18.105607Z",
     "shell.execute_reply": "2022-07-12T13:07:18.104399Z"
    },
    "papermill": {
     "duration": 0.021582,
     "end_time": "2022-07-12T13:07:18.107301",
     "exception": false,
     "start_time": "2022-07-12T13:07:18.085719",
     "status": "completed"
    },
    "tags": []
   },
   "outputs": [
    {
     "data": {
      "text/html": [
       "'/opt/data/data/phenomexcan/ld_blocks/gene_corrs/1000g/mashr/by_chr/corrected_positive_definite'"
      ],
      "text/latex": [
       "'/opt/data/data/phenomexcan/ld\\_blocks/gene\\_corrs/1000g/mashr/by\\_chr/corrected\\_positive\\_definite'"
      ],
      "text/markdown": [
       "'/opt/data/data/phenomexcan/ld_blocks/gene_corrs/1000g/mashr/by_chr/corrected_positive_definite'"
      ],
      "text/plain": [
       "[1] \"/opt/data/data/phenomexcan/ld_blocks/gene_corrs/1000g/mashr/by_chr/corrected_positive_definite\""
      ]
     },
     "metadata": {},
     "output_type": "display_data"
    }
   ],
   "source": [
    "OUTPUT_DIR <- file.path(INPUT_DIR, \"corrected_positive_definite\")\n",
    "IRdisplay::display(OUTPUT_DIR)\n",
    "dir.create(OUTPUT_DIR, recursive = TRUE, showWarnings = FALSE)"
   ]
  },
  {
   "cell_type": "code",
   "execution_count": 11,
   "id": "f9f19d1d-ce4c-4099-a26e-250fec751de7",
   "metadata": {
    "execution": {
     "iopub.execute_input": "2022-07-12T13:07:18.119004Z",
     "iopub.status.busy": "2022-07-12T13:07:18.117821Z",
     "iopub.status.idle": "2022-07-12T13:07:18.133074Z",
     "shell.execute_reply": "2022-07-12T13:07:18.131803Z"
    },
    "papermill": {
     "duration": 0.022668,
     "end_time": "2022-07-12T13:07:18.134884",
     "exception": false,
     "start_time": "2022-07-12T13:07:18.112216",
     "status": "completed"
    },
    "tags": []
   },
   "outputs": [
    {
     "data": {
      "text/html": [
       "'/opt/data/data/phenomexcan/ld_blocks/gene_corrs/1000g/mashr/by_chr/corrected_positive_definite/gene_corrs-chr7.pkl'"
      ],
      "text/latex": [
       "'/opt/data/data/phenomexcan/ld\\_blocks/gene\\_corrs/1000g/mashr/by\\_chr/corrected\\_positive\\_definite/gene\\_corrs-chr7.pkl'"
      ],
      "text/markdown": [
       "'/opt/data/data/phenomexcan/ld_blocks/gene_corrs/1000g/mashr/by_chr/corrected_positive_definite/gene_corrs-chr7.pkl'"
      ],
      "text/plain": [
       "[1] \"/opt/data/data/phenomexcan/ld_blocks/gene_corrs/1000g/mashr/by_chr/corrected_positive_definite/gene_corrs-chr7.pkl\""
      ]
     },
     "metadata": {},
     "output_type": "display_data"
    }
   ],
   "source": [
    "OUTPUT_FILE <- file.path(OUTPUT_DIR, paste0(\"gene_corrs-chr\", chromosome, \".pkl\"))\n",
    "IRdisplay::display(OUTPUT_FILE)\n",
    "if (file.exists(OUTPUT_FILE)) {\n",
    "  IRdisplay::display(\"Output file exists, it will be overwritten\")\n",
    "}"
   ]
  },
  {
   "cell_type": "markdown",
   "id": "24973e62-e888-4b56-843f-489d8d0762b5",
   "metadata": {
    "papermill": {
     "duration": 0.004853,
     "end_time": "2022-07-12T13:07:18.144674",
     "exception": false,
     "start_time": "2022-07-12T13:07:18.139821",
     "status": "completed"
    },
    "tags": []
   },
   "source": [
    "# Functions"
   ]
  },
  {
   "cell_type": "code",
   "execution_count": 12,
   "id": "f828f081-7358-4cc8-8a89-1ee293bcc1a7",
   "metadata": {
    "execution": {
     "iopub.execute_input": "2022-07-12T13:07:18.159308Z",
     "iopub.status.busy": "2022-07-12T13:07:18.154927Z",
     "iopub.status.idle": "2022-07-12T13:07:18.168983Z",
     "shell.execute_reply": "2022-07-12T13:07:18.167552Z"
    },
    "papermill": {
     "duration": 0.021795,
     "end_time": "2022-07-12T13:07:18.171016",
     "exception": false,
     "start_time": "2022-07-12T13:07:18.149221",
     "status": "completed"
    },
    "tags": []
   },
   "outputs": [],
   "source": [
    "# taken from https://www.r-bloggers.com/2013/08/correcting-a-pseudo-correlation-matrix-to-be-positive-semidefinite/\n",
    "# TODO: add documentation\n",
    "CorrectCM <- function(CM, p = 0) {\n",
    "  n <- dim(var(CM))[1L]\n",
    "  E <- eigen(CM)\n",
    "  CM1 <- E$vectors %*% tcrossprod(diag(pmax(E$values, p), n), E$vectors)\n",
    "  Balance <- diag(1 / sqrt(diag(CM1)))\n",
    "  CM2 <- Balance %*% CM1 %*% Balance\n",
    "  return(CM2)\n",
    "}"
   ]
  },
  {
   "cell_type": "code",
   "execution_count": 13,
   "id": "7ab9bebf-50a1-4e6f-b16a-e23cae93d02a",
   "metadata": {
    "execution": {
     "iopub.execute_input": "2022-07-12T13:07:18.183953Z",
     "iopub.status.busy": "2022-07-12T13:07:18.182715Z",
     "iopub.status.idle": "2022-07-12T13:07:18.200463Z",
     "shell.execute_reply": "2022-07-12T13:07:18.194563Z"
    },
    "papermill": {
     "duration": 0.029916,
     "end_time": "2022-07-12T13:07:18.206057",
     "exception": false,
     "start_time": "2022-07-12T13:07:18.176141",
     "status": "completed"
    },
    "tags": []
   },
   "outputs": [],
   "source": [
    "is_positive_definite <- function(data) {\n",
    "  # eigenvalues <- eigen(data)$values\n",
    "  # nonpositive_eigenvalues <- eigenvalues[eigenvalues <= 0]\n",
    "\n",
    "  cholStatus <- try(u <- chol(data), silent = FALSE)\n",
    "  cholError <- ifelse(class(cholStatus) == \"try-error\", TRUE, FALSE)\n",
    "\n",
    "  if (cholError) {\n",
    "    return(FALSE)\n",
    "  } else {\n",
    "    return(TRUE)\n",
    "  }\n",
    "}"
   ]
  },
  {
   "cell_type": "markdown",
   "id": "7403fd78-00b2-4941-9c07-3c3af1ddc636",
   "metadata": {
    "papermill": {
     "duration": 0.004801,
     "end_time": "2022-07-12T13:07:18.216509",
     "exception": false,
     "start_time": "2022-07-12T13:07:18.211708",
     "status": "completed"
    },
    "tags": []
   },
   "source": [
    "# Load data"
   ]
  },
  {
   "cell_type": "code",
   "execution_count": 14,
   "id": "3a7744e1-2e5a-450e-9dcf-945ec181347d",
   "metadata": {
    "execution": {
     "iopub.execute_input": "2022-07-12T13:07:18.227908Z",
     "iopub.status.busy": "2022-07-12T13:07:18.226718Z",
     "iopub.status.idle": "2022-07-12T13:07:18.274565Z",
     "shell.execute_reply": "2022-07-12T13:07:18.273235Z"
    },
    "papermill": {
     "duration": 0.055292,
     "end_time": "2022-07-12T13:07:18.276391",
     "exception": false,
     "start_time": "2022-07-12T13:07:18.221099",
     "status": "completed"
    },
    "tags": []
   },
   "outputs": [],
   "source": [
    "gene_corrs <- pd$read_pickle(INPUT_FILE)"
   ]
  },
  {
   "cell_type": "code",
   "execution_count": 15,
   "id": "6fb150b2-4c68-4e9b-9aa5-1890d3f762e3",
   "metadata": {
    "execution": {
     "iopub.execute_input": "2022-07-12T13:07:18.289313Z",
     "iopub.status.busy": "2022-07-12T13:07:18.288216Z",
     "iopub.status.idle": "2022-07-12T13:07:18.301101Z",
     "shell.execute_reply": "2022-07-12T13:07:18.299744Z"
    },
    "papermill": {
     "duration": 0.021953,
     "end_time": "2022-07-12T13:07:18.303864",
     "exception": false,
     "start_time": "2022-07-12T13:07:18.281911",
     "status": "completed"
    },
    "tags": []
   },
   "outputs": [
    {
     "data": {
      "text/html": [
       "<style>\n",
       ".list-inline {list-style: none; margin:0; padding: 0}\n",
       ".list-inline>li {display: inline-block}\n",
       ".list-inline>li:not(:last-child)::after {content: \"\\00b7\"; padding: 0 .5ex}\n",
       "</style>\n",
       "<ol class=list-inline><li>281</li><li>281</li></ol>\n"
      ],
      "text/latex": [
       "\\begin{enumerate*}\n",
       "\\item 281\n",
       "\\item 281\n",
       "\\end{enumerate*}\n"
      ],
      "text/markdown": [
       "1. 281\n",
       "2. 281\n",
       "\n",
       "\n"
      ],
      "text/plain": [
       "[1] 281 281"
      ]
     },
     "metadata": {},
     "output_type": "display_data"
    }
   ],
   "source": [
    "dim(gene_corrs)"
   ]
  },
  {
   "cell_type": "code",
   "execution_count": 16,
   "id": "0d4e53b5-7586-4a68-8ce5-d930d74ba943",
   "metadata": {
    "execution": {
     "iopub.execute_input": "2022-07-12T13:07:18.316056Z",
     "iopub.status.busy": "2022-07-12T13:07:18.314971Z",
     "iopub.status.idle": "2022-07-12T13:07:18.336928Z",
     "shell.execute_reply": "2022-07-12T13:07:18.335704Z"
    },
    "papermill": {
     "duration": 0.031051,
     "end_time": "2022-07-12T13:07:18.339834",
     "exception": false,
     "start_time": "2022-07-12T13:07:18.308783",
     "status": "completed"
    },
    "tags": []
   },
   "outputs": [
    {
     "data": {
      "text/html": [
       "<table class=\"dataframe\">\n",
       "<caption>A data.frame: 6 × 10</caption>\n",
       "<thead>\n",
       "\t<tr><th></th><th scope=col>ENSG00000197461</th><th scope=col>ENSG00000188191</th><th scope=col>ENSG00000105963</th><th scope=col>ENSG00000198517</th><th scope=col>ENSG00000002822</th><th scope=col>ENSG00000106263</th><th scope=col>ENSG00000136213</th><th scope=col>ENSG00000106003</th><th scope=col>ENSG00000146535</th><th scope=col>ENSG00000198286</th></tr>\n",
       "\t<tr><th></th><th scope=col>&lt;dbl&gt;</th><th scope=col>&lt;dbl&gt;</th><th scope=col>&lt;dbl&gt;</th><th scope=col>&lt;dbl&gt;</th><th scope=col>&lt;dbl&gt;</th><th scope=col>&lt;dbl&gt;</th><th scope=col>&lt;dbl&gt;</th><th scope=col>&lt;dbl&gt;</th><th scope=col>&lt;dbl&gt;</th><th scope=col>&lt;dbl&gt;</th></tr>\n",
       "</thead>\n",
       "<tbody>\n",
       "\t<tr><th scope=row>ENSG00000197461</th><td>1.000000000</td><td>0.081985975</td><td>0.04388459</td><td>0.004852690</td><td>0.019816201</td><td>0.008024746</td><td>0.02217105</td><td>0.013790061</td><td>0.013598621</td><td>0.01569962</td></tr>\n",
       "\t<tr><th scope=row>ENSG00000188191</th><td>0.081985975</td><td>1.000000000</td><td>0.08976051</td><td>0.007911762</td><td>0.010630368</td><td>0.003970652</td><td>0.02192543</td><td>0.009759625</td><td>0.009120827</td><td>0.01379999</td></tr>\n",
       "\t<tr><th scope=row>ENSG00000105963</th><td>0.043884591</td><td>0.089760506</td><td>1.00000000</td><td>0.012570411</td><td>0.018634785</td><td>0.011116207</td><td>0.02608648</td><td>0.018361715</td><td>0.016696438</td><td>0.02389927</td></tr>\n",
       "\t<tr><th scope=row>ENSG00000198517</th><td>0.004852690</td><td>0.007911762</td><td>0.01257041</td><td>1.000000000</td><td>0.009931488</td><td>0.017722488</td><td>0.02059731</td><td>0.003793654</td><td>0.001652062</td><td>0.01168115</td></tr>\n",
       "\t<tr><th scope=row>ENSG00000002822</th><td>0.019816201</td><td>0.010630368</td><td>0.01863479</td><td>0.009931488</td><td>1.000000000</td><td>0.026990120</td><td>0.05423233</td><td>0.036109305</td><td>0.016608268</td><td>0.02624674</td></tr>\n",
       "\t<tr><th scope=row>ENSG00000106263</th><td>0.008024746</td><td>0.003970652</td><td>0.01111621</td><td>0.017722488</td><td>0.026990120</td><td>1.000000000</td><td>0.37729021</td><td>0.035648707</td><td>0.015808737</td><td>0.01040337</td></tr>\n",
       "</tbody>\n",
       "</table>\n"
      ],
      "text/latex": [
       "A data.frame: 6 × 10\n",
       "\\begin{tabular}{r|llllllllll}\n",
       "  & ENSG00000197461 & ENSG00000188191 & ENSG00000105963 & ENSG00000198517 & ENSG00000002822 & ENSG00000106263 & ENSG00000136213 & ENSG00000106003 & ENSG00000146535 & ENSG00000198286\\\\\n",
       "  & <dbl> & <dbl> & <dbl> & <dbl> & <dbl> & <dbl> & <dbl> & <dbl> & <dbl> & <dbl>\\\\\n",
       "\\hline\n",
       "\tENSG00000197461 & 1.000000000 & 0.081985975 & 0.04388459 & 0.004852690 & 0.019816201 & 0.008024746 & 0.02217105 & 0.013790061 & 0.013598621 & 0.01569962\\\\\n",
       "\tENSG00000188191 & 0.081985975 & 1.000000000 & 0.08976051 & 0.007911762 & 0.010630368 & 0.003970652 & 0.02192543 & 0.009759625 & 0.009120827 & 0.01379999\\\\\n",
       "\tENSG00000105963 & 0.043884591 & 0.089760506 & 1.00000000 & 0.012570411 & 0.018634785 & 0.011116207 & 0.02608648 & 0.018361715 & 0.016696438 & 0.02389927\\\\\n",
       "\tENSG00000198517 & 0.004852690 & 0.007911762 & 0.01257041 & 1.000000000 & 0.009931488 & 0.017722488 & 0.02059731 & 0.003793654 & 0.001652062 & 0.01168115\\\\\n",
       "\tENSG00000002822 & 0.019816201 & 0.010630368 & 0.01863479 & 0.009931488 & 1.000000000 & 0.026990120 & 0.05423233 & 0.036109305 & 0.016608268 & 0.02624674\\\\\n",
       "\tENSG00000106263 & 0.008024746 & 0.003970652 & 0.01111621 & 0.017722488 & 0.026990120 & 1.000000000 & 0.37729021 & 0.035648707 & 0.015808737 & 0.01040337\\\\\n",
       "\\end{tabular}\n"
      ],
      "text/markdown": [
       "\n",
       "A data.frame: 6 × 10\n",
       "\n",
       "| <!--/--> | ENSG00000197461 &lt;dbl&gt; | ENSG00000188191 &lt;dbl&gt; | ENSG00000105963 &lt;dbl&gt; | ENSG00000198517 &lt;dbl&gt; | ENSG00000002822 &lt;dbl&gt; | ENSG00000106263 &lt;dbl&gt; | ENSG00000136213 &lt;dbl&gt; | ENSG00000106003 &lt;dbl&gt; | ENSG00000146535 &lt;dbl&gt; | ENSG00000198286 &lt;dbl&gt; |\n",
       "|---|---|---|---|---|---|---|---|---|---|---|\n",
       "| ENSG00000197461 | 1.000000000 | 0.081985975 | 0.04388459 | 0.004852690 | 0.019816201 | 0.008024746 | 0.02217105 | 0.013790061 | 0.013598621 | 0.01569962 |\n",
       "| ENSG00000188191 | 0.081985975 | 1.000000000 | 0.08976051 | 0.007911762 | 0.010630368 | 0.003970652 | 0.02192543 | 0.009759625 | 0.009120827 | 0.01379999 |\n",
       "| ENSG00000105963 | 0.043884591 | 0.089760506 | 1.00000000 | 0.012570411 | 0.018634785 | 0.011116207 | 0.02608648 | 0.018361715 | 0.016696438 | 0.02389927 |\n",
       "| ENSG00000198517 | 0.004852690 | 0.007911762 | 0.01257041 | 1.000000000 | 0.009931488 | 0.017722488 | 0.02059731 | 0.003793654 | 0.001652062 | 0.01168115 |\n",
       "| ENSG00000002822 | 0.019816201 | 0.010630368 | 0.01863479 | 0.009931488 | 1.000000000 | 0.026990120 | 0.05423233 | 0.036109305 | 0.016608268 | 0.02624674 |\n",
       "| ENSG00000106263 | 0.008024746 | 0.003970652 | 0.01111621 | 0.017722488 | 0.026990120 | 1.000000000 | 0.37729021 | 0.035648707 | 0.015808737 | 0.01040337 |\n",
       "\n"
      ],
      "text/plain": [
       "                ENSG00000197461 ENSG00000188191 ENSG00000105963 ENSG00000198517\n",
       "ENSG00000197461 1.000000000     0.081985975     0.04388459      0.004852690    \n",
       "ENSG00000188191 0.081985975     1.000000000     0.08976051      0.007911762    \n",
       "ENSG00000105963 0.043884591     0.089760506     1.00000000      0.012570411    \n",
       "ENSG00000198517 0.004852690     0.007911762     0.01257041      1.000000000    \n",
       "ENSG00000002822 0.019816201     0.010630368     0.01863479      0.009931488    \n",
       "ENSG00000106263 0.008024746     0.003970652     0.01111621      0.017722488    \n",
       "                ENSG00000002822 ENSG00000106263 ENSG00000136213 ENSG00000106003\n",
       "ENSG00000197461 0.019816201     0.008024746     0.02217105      0.013790061    \n",
       "ENSG00000188191 0.010630368     0.003970652     0.02192543      0.009759625    \n",
       "ENSG00000105963 0.018634785     0.011116207     0.02608648      0.018361715    \n",
       "ENSG00000198517 0.009931488     0.017722488     0.02059731      0.003793654    \n",
       "ENSG00000002822 1.000000000     0.026990120     0.05423233      0.036109305    \n",
       "ENSG00000106263 0.026990120     1.000000000     0.37729021      0.035648707    \n",
       "                ENSG00000146535 ENSG00000198286\n",
       "ENSG00000197461 0.013598621     0.01569962     \n",
       "ENSG00000188191 0.009120827     0.01379999     \n",
       "ENSG00000105963 0.016696438     0.02389927     \n",
       "ENSG00000198517 0.001652062     0.01168115     \n",
       "ENSG00000002822 0.016608268     0.02624674     \n",
       "ENSG00000106263 0.015808737     0.01040337     "
      ]
     },
     "metadata": {},
     "output_type": "display_data"
    }
   ],
   "source": [
    "head(gene_corrs[1:10, 1:10])"
   ]
  },
  {
   "cell_type": "markdown",
   "id": "d6cbc88a-2c90-4d11-b7dd-434f046fd03c",
   "metadata": {
    "papermill": {
     "duration": 0.005027,
     "end_time": "2022-07-12T13:07:18.349959",
     "exception": false,
     "start_time": "2022-07-12T13:07:18.344932",
     "status": "completed"
    },
    "tags": []
   },
   "source": [
    "# Check positive definiteness"
   ]
  },
  {
   "cell_type": "code",
   "execution_count": 17,
   "id": "a858a061-7c5a-4a6b-8026-fe4de50c1f26",
   "metadata": {
    "execution": {
     "iopub.execute_input": "2022-07-12T13:07:18.362308Z",
     "iopub.status.busy": "2022-07-12T13:07:18.361266Z",
     "iopub.status.idle": "2022-07-12T13:07:18.376546Z",
     "shell.execute_reply": "2022-07-12T13:07:18.372908Z"
    },
    "papermill": {
     "duration": 0.02315,
     "end_time": "2022-07-12T13:07:18.378406",
     "exception": false,
     "start_time": "2022-07-12T13:07:18.355256",
     "status": "completed"
    },
    "tags": []
   },
   "outputs": [],
   "source": [
    "orig_matrix_is_positive_definite <- is_positive_definite(gene_corrs)"
   ]
  },
  {
   "cell_type": "code",
   "execution_count": 18,
   "id": "410ee452-488f-4518-b93a-2acd608ba99c",
   "metadata": {
    "execution": {
     "iopub.execute_input": "2022-07-12T13:07:18.395159Z",
     "iopub.status.busy": "2022-07-12T13:07:18.393346Z",
     "iopub.status.idle": "2022-07-12T13:07:18.425987Z",
     "shell.execute_reply": "2022-07-12T13:07:18.421946Z"
    },
    "papermill": {
     "duration": 0.040121,
     "end_time": "2022-07-12T13:07:18.427728",
     "exception": false,
     "start_time": "2022-07-12T13:07:18.387607",
     "status": "completed"
    },
    "tags": []
   },
   "outputs": [
    {
     "data": {
      "text/html": [
       "'Matrix is already positive definite!'"
      ],
      "text/latex": [
       "'Matrix is already positive definite!'"
      ],
      "text/markdown": [
       "'Matrix is already positive definite!'"
      ],
      "text/plain": [
       "[1] \"Matrix is already positive definite!\""
      ]
     },
     "metadata": {},
     "output_type": "display_data"
    },
    {
     "data": {
      "text/html": [
       "TRUE"
      ],
      "text/latex": [
       "TRUE"
      ],
      "text/markdown": [
       "TRUE"
      ],
      "text/plain": [
       "[1] TRUE"
      ]
     },
     "metadata": {},
     "output_type": "display_data"
    }
   ],
   "source": [
    "if (orig_matrix_is_positive_definite) {\n",
    "  IRdisplay::display(\"Matrix is already positive definite!\")\n",
    "  file.copy(INPUT_FILE, OUTPUT_FILE)\n",
    "} else {\n",
    "  IRdisplay::display(\"We need to correct the data and make the matrix positive definite\")\n",
    "\n",
    "  eigenvalues <- eigen(gene_corrs)$values\n",
    "  nonpositive_eigenvalues <- eigenvalues[eigenvalues <= 0]\n",
    "  IRdisplay::display(length(nonpositive_eigenvalues))\n",
    "  IRdisplay::display(nonpositive_eigenvalues)\n",
    "\n",
    "  # Make matrix positive definite\n",
    "  gene_corrs_corrected <- CorrectCM(gene_corrs, 1e-10)\n",
    "  dimnames(gene_corrs_corrected)[[1]] <- rownames(gene_corrs)\n",
    "  dimnames(gene_corrs_corrected)[[2]] <- colnames(gene_corrs)\n",
    "  gene_corrs_corrected <- as.data.frame(gene_corrs_corrected)\n",
    "\n",
    "  # check if new matrix is really positive definite\n",
    "  matrix_is_positive_definite <- is_positive_definite(gene_corrs_corrected)\n",
    "  if (matrix_is_positive_definite) {\n",
    "    IRdisplay::display(\"It worked!\")\n",
    "    IRdisplay::display(head(gene_corrs[1:10, 1:10]))\n",
    "    IRdisplay::display(head(gene_corrs_corrected[1:10, 1:10]))\n",
    "    py_save_object(gene_corrs_corrected, OUTPUT_FILE)\n",
    "  } else {\n",
    "    eigenvalues <- eigen(gene_corrs_corrected)$values\n",
    "    nonpositive_eigenvalues <- eigenvalues[eigenvalues <= 0]\n",
    "    IRdisplay::display(length(nonpositive_eigenvalues))\n",
    "    IRdisplay::display(nonpositive_eigenvalues)\n",
    "\n",
    "    stop(\"Method failed to adjust matrix\")\n",
    "  }\n",
    "}"
   ]
  },
  {
   "cell_type": "markdown",
   "id": "6c196700-7491-462f-bab8-ab9d40c63499",
   "metadata": {
    "papermill": {
     "duration": 0.008152,
     "end_time": "2022-07-12T13:07:18.441902",
     "exception": false,
     "start_time": "2022-07-12T13:07:18.433750",
     "status": "completed"
    },
    "tags": []
   },
   "source": [
    "Both matrices should \"look\" similar. We are not interested in perfectly accurate correlation values (they are already inaccurate)."
   ]
  },
  {
   "cell_type": "code",
   "execution_count": null,
   "id": "d8ae4220-2171-460c-9231-cd5219f3fe77",
   "metadata": {
    "papermill": {
     "duration": 0.004636,
     "end_time": "2022-07-12T13:07:18.459595",
     "exception": false,
     "start_time": "2022-07-12T13:07:18.454959",
     "status": "completed"
    },
    "tags": []
   },
   "outputs": [],
   "source": []
  }
 ],
 "metadata": {
  "jupytext": {
   "cell_metadata_filter": "all,-execution,-papermill,-trusted"
  },
  "kernelspec": {
   "display_name": "R",
   "language": "R",
   "name": "ir"
  },
  "language_info": {
   "codemirror_mode": "r",
   "file_extension": ".r",
   "mimetype": "text/x-r-source",
   "name": "R",
   "pygments_lexer": "r",
   "version": "3.6.3"
  },
  "papermill": {
   "default_parameters": {},
   "duration": 5.087583,
   "end_time": "2022-07-12T13:07:18.581169",
   "environment_variables": {},
   "exception": null,
   "input_path": "nbs/15_gsa_gls/12-gene_expr_correlations-adjust.ipynb",
   "output_path": "nbs/15_gsa_gls/gene_corrs/1000g/mashr/12-gene_expr_correlations-adjust-chr7.run.ipynb",
   "parameters": {
    "EQTL_MODEL": "MASHR",
    "REFERENCE_PANEL": "1000G",
    "chromosome": 7
   },
   "start_time": "2022-07-12T13:07:13.493586",
   "version": "2.3.4"
  }
 },
 "nbformat": 4,
 "nbformat_minor": 5
}
