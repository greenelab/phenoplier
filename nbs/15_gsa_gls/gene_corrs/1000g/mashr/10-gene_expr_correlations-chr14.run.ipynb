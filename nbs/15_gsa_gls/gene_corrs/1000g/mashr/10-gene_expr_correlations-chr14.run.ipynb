{
 "cells": [
  {
   "cell_type": "markdown",
   "id": "7a6632fb",
   "metadata": {
    "papermill": {
     "duration": 0.006346,
     "end_time": "2022-07-12T08:34:34.082435",
     "exception": false,
     "start_time": "2022-07-12T08:34:34.076089",
     "status": "completed"
    },
    "tags": []
   },
   "source": [
    "# Description"
   ]
  },
  {
   "cell_type": "markdown",
   "id": "7097c346",
   "metadata": {
    "papermill": {
     "duration": 0.005215,
     "end_time": "2022-07-12T08:34:34.093376",
     "exception": false,
     "start_time": "2022-07-12T08:34:34.088161",
     "status": "completed"
    },
    "tags": []
   },
   "source": [
    "(Please, take a look at the README.md file in this directory for instructions on how to run this notebook)\n",
    "\n",
    "This notebook computes predicted expression correlations between all genes in the MultiPLIER models.\n",
    "\n",
    "It also has a parameter set for papermill to run on a single chromosome to run in parallel (see under `Settings` below).\n",
    "\n",
    "This notebook is not directly run. See README.md."
   ]
  },
  {
   "cell_type": "markdown",
   "id": "c61d8427",
   "metadata": {
    "papermill": {
     "duration": 0.005407,
     "end_time": "2022-07-12T08:34:34.105144",
     "exception": false,
     "start_time": "2022-07-12T08:34:34.099737",
     "status": "completed"
    },
    "tags": []
   },
   "source": [
    "# Modules"
   ]
  },
  {
   "cell_type": "code",
   "execution_count": 1,
   "id": "bbc0234f",
   "metadata": {
    "execution": {
     "iopub.execute_input": "2022-07-12T08:34:34.117932Z",
     "iopub.status.busy": "2022-07-12T08:34:34.117636Z",
     "iopub.status.idle": "2022-07-12T08:34:34.133668Z",
     "shell.execute_reply": "2022-07-12T08:34:34.133189Z"
    },
    "papermill": {
     "duration": 0.024382,
     "end_time": "2022-07-12T08:34:34.135141",
     "exception": false,
     "start_time": "2022-07-12T08:34:34.110759",
     "status": "completed"
    },
    "tags": []
   },
   "outputs": [],
   "source": [
    "%load_ext autoreload\n",
    "%autoreload 2"
   ]
  },
  {
   "cell_type": "code",
   "execution_count": 2,
   "id": "1d5f5a59",
   "metadata": {
    "execution": {
     "iopub.execute_input": "2022-07-12T08:34:34.177528Z",
     "iopub.status.busy": "2022-07-12T08:34:34.177057Z",
     "iopub.status.idle": "2022-07-12T08:34:35.083481Z",
     "shell.execute_reply": "2022-07-12T08:34:35.083027Z"
    },
    "papermill": {
     "duration": 0.915199,
     "end_time": "2022-07-12T08:34:35.084919",
     "exception": false,
     "start_time": "2022-07-12T08:34:34.169720",
     "status": "completed"
    },
    "tags": []
   },
   "outputs": [],
   "source": [
    "from random import sample, seed\n",
    "import warnings\n",
    "from pathlib import Path\n",
    "\n",
    "import numpy as np\n",
    "from scipy.spatial.distance import squareform\n",
    "import pandas as pd\n",
    "from tqdm import tqdm\n",
    "import matplotlib.pyplot as plt\n",
    "import seaborn as sns\n",
    "\n",
    "import conf\n",
    "from entity import Gene"
   ]
  },
  {
   "cell_type": "markdown",
   "id": "1eac24b5",
   "metadata": {
    "papermill": {
     "duration": 0.005865,
     "end_time": "2022-07-12T08:34:35.097100",
     "exception": false,
     "start_time": "2022-07-12T08:34:35.091235",
     "status": "completed"
    },
    "tags": []
   },
   "source": [
    "# Settings"
   ]
  },
  {
   "cell_type": "code",
   "execution_count": 3,
   "id": "ca4560ba",
   "metadata": {
    "execution": {
     "iopub.execute_input": "2022-07-12T08:34:35.109536Z",
     "iopub.status.busy": "2022-07-12T08:34:35.109214Z",
     "iopub.status.idle": "2022-07-12T08:34:35.124313Z",
     "shell.execute_reply": "2022-07-12T08:34:35.123743Z"
    },
    "papermill": {
     "duration": 0.023058,
     "end_time": "2022-07-12T08:34:35.125946",
     "exception": false,
     "start_time": "2022-07-12T08:34:35.102888",
     "status": "completed"
    },
    "tags": [
     "parameters"
    ]
   },
   "outputs": [],
   "source": [
    "# reference panel\n",
    "REFERENCE_PANEL = \"GTEX_V8\"\n",
    "# REFERENCE_PANEL = \"1000G\"\n",
    "\n",
    "# prediction models\n",
    "## mashr\n",
    "EQTL_MODEL = \"MASHR\"\n",
    "\n",
    "# this is the default value used in S-MultiXcan to select the\n",
    "# top principal components of the expression correlation matrix\n",
    "SMULTIXCAN_CONDITION_NUMBER = 30\n",
    "\n",
    "# specifies a single chromosome value\n",
    "# by default, run on all chromosomes\n",
    "chromosome = None"
   ]
  },
  {
   "cell_type": "code",
   "execution_count": 4,
   "id": "0b3bdab5",
   "metadata": {
    "execution": {
     "iopub.execute_input": "2022-07-12T08:34:35.138595Z",
     "iopub.status.busy": "2022-07-12T08:34:35.138422Z",
     "iopub.status.idle": "2022-07-12T08:34:35.152904Z",
     "shell.execute_reply": "2022-07-12T08:34:35.152400Z"
    },
    "papermill": {
     "duration": 0.022293,
     "end_time": "2022-07-12T08:34:35.154240",
     "exception": false,
     "start_time": "2022-07-12T08:34:35.131947",
     "status": "completed"
    },
    "tags": [
     "injected-parameters"
    ]
   },
   "outputs": [],
   "source": [
    "# Parameters\n",
    "chromosome = 14\n",
    "REFERENCE_PANEL = \"1000G\"\n",
    "EQTL_MODEL = \"MASHR\"\n"
   ]
  },
  {
   "cell_type": "code",
   "execution_count": 5,
   "id": "a089c9ff",
   "metadata": {
    "execution": {
     "iopub.execute_input": "2022-07-12T08:34:35.166869Z",
     "iopub.status.busy": "2022-07-12T08:34:35.166636Z",
     "iopub.status.idle": "2022-07-12T08:34:35.180968Z",
     "shell.execute_reply": "2022-07-12T08:34:35.180575Z"
    },
    "papermill": {
     "duration": 0.022078,
     "end_time": "2022-07-12T08:34:35.182292",
     "exception": false,
     "start_time": "2022-07-12T08:34:35.160214",
     "status": "completed"
    },
    "tags": []
   },
   "outputs": [],
   "source": [
    "EQTL_MODEL_FILES_PREFIX = conf.PHENOMEXCAN[\"PREDICTION_MODELS\"][f\"{EQTL_MODEL}_PREFIX\"]"
   ]
  },
  {
   "cell_type": "code",
   "execution_count": 6,
   "id": "8fe24bef",
   "metadata": {
    "execution": {
     "iopub.execute_input": "2022-07-12T08:34:35.195132Z",
     "iopub.status.busy": "2022-07-12T08:34:35.194447Z",
     "iopub.status.idle": "2022-07-12T08:34:35.211448Z",
     "shell.execute_reply": "2022-07-12T08:34:35.210987Z"
    },
    "papermill": {
     "duration": 0.024801,
     "end_time": "2022-07-12T08:34:35.212915",
     "exception": false,
     "start_time": "2022-07-12T08:34:35.188114",
     "status": "completed"
    },
    "tags": []
   },
   "outputs": [
    {
     "data": {
      "text/plain": [
       "'Using eQTL model: MASHR / mashr_'"
      ]
     },
     "metadata": {},
     "output_type": "display_data"
    }
   ],
   "source": [
    "display(f\"Using eQTL model: {EQTL_MODEL} / {EQTL_MODEL_FILES_PREFIX}\")"
   ]
  },
  {
   "cell_type": "code",
   "execution_count": 7,
   "id": "552a7f63-a18c-4d3e-bb6a-94f99b431291",
   "metadata": {
    "execution": {
     "iopub.execute_input": "2022-07-12T08:34:35.225633Z",
     "iopub.status.busy": "2022-07-12T08:34:35.225431Z",
     "iopub.status.idle": "2022-07-12T08:34:35.240420Z",
     "shell.execute_reply": "2022-07-12T08:34:35.239931Z"
    },
    "papermill": {
     "duration": 0.022825,
     "end_time": "2022-07-12T08:34:35.241792",
     "exception": false,
     "start_time": "2022-07-12T08:34:35.218967",
     "status": "completed"
    },
    "tags": []
   },
   "outputs": [
    {
     "data": {
      "text/plain": [
       "'S-MultiXcan condition number: 30'"
      ]
     },
     "metadata": {},
     "output_type": "display_data"
    }
   ],
   "source": [
    "display(f\"S-MultiXcan condition number: {SMULTIXCAN_CONDITION_NUMBER}\")"
   ]
  },
  {
   "cell_type": "code",
   "execution_count": 8,
   "id": "0230ebcb-2c32-4b95-9292-d9a52038e70d",
   "metadata": {
    "execution": {
     "iopub.execute_input": "2022-07-12T08:34:35.255129Z",
     "iopub.status.busy": "2022-07-12T08:34:35.254926Z",
     "iopub.status.idle": "2022-07-12T08:34:35.269424Z",
     "shell.execute_reply": "2022-07-12T08:34:35.269020Z"
    },
    "papermill": {
     "duration": 0.022413,
     "end_time": "2022-07-12T08:34:35.270766",
     "exception": false,
     "start_time": "2022-07-12T08:34:35.248353",
     "status": "completed"
    },
    "tags": []
   },
   "outputs": [],
   "source": [
    "REFERENCE_PANEL_DIR = conf.PHENOMEXCAN[\"LD_BLOCKS\"][f\"{REFERENCE_PANEL}_GENOTYPE_DIR\"]"
   ]
  },
  {
   "cell_type": "code",
   "execution_count": 9,
   "id": "98c4a159-601d-4a22-a1ab-35bd451c25f9",
   "metadata": {
    "execution": {
     "iopub.execute_input": "2022-07-12T08:34:35.283745Z",
     "iopub.status.busy": "2022-07-12T08:34:35.283555Z",
     "iopub.status.idle": "2022-07-12T08:34:35.298725Z",
     "shell.execute_reply": "2022-07-12T08:34:35.298243Z"
    },
    "papermill": {
     "duration": 0.023156,
     "end_time": "2022-07-12T08:34:35.300022",
     "exception": false,
     "start_time": "2022-07-12T08:34:35.276866",
     "status": "completed"
    },
    "tags": []
   },
   "outputs": [
    {
     "data": {
      "text/plain": [
       "'Using reference panel folder: /opt/data/data/phenomexcan/ld_blocks/reference_panel_1000G'"
      ]
     },
     "metadata": {},
     "output_type": "display_data"
    }
   ],
   "source": [
    "display(f\"Using reference panel folder: {str(REFERENCE_PANEL_DIR)}\")"
   ]
  },
  {
   "cell_type": "code",
   "execution_count": 10,
   "id": "396392dc-0340-4540-9b02-e182b833f909",
   "metadata": {
    "execution": {
     "iopub.execute_input": "2022-07-12T08:34:35.313478Z",
     "iopub.status.busy": "2022-07-12T08:34:35.313265Z",
     "iopub.status.idle": "2022-07-12T08:34:35.328448Z",
     "shell.execute_reply": "2022-07-12T08:34:35.328033Z"
    },
    "papermill": {
     "duration": 0.02337,
     "end_time": "2022-07-12T08:34:35.329798",
     "exception": false,
     "start_time": "2022-07-12T08:34:35.306428",
     "status": "completed"
    },
    "tags": []
   },
   "outputs": [],
   "source": [
    "OUTPUT_DIR_BASE = (\n",
    "    conf.PHENOMEXCAN[\"LD_BLOCKS\"][f\"GENE_CORRS_DIR\"]\n",
    "    / REFERENCE_PANEL.lower()\n",
    "    / EQTL_MODEL.lower()\n",
    ")\n",
    "OUTPUT_DIR_BASE.mkdir(parents=True, exist_ok=True)"
   ]
  },
  {
   "cell_type": "code",
   "execution_count": 11,
   "id": "8942c2d3-e53c-4d63-a0eb-b6fce0574d36",
   "metadata": {
    "execution": {
     "iopub.execute_input": "2022-07-12T08:34:35.342961Z",
     "iopub.status.busy": "2022-07-12T08:34:35.342750Z",
     "iopub.status.idle": "2022-07-12T08:34:35.357711Z",
     "shell.execute_reply": "2022-07-12T08:34:35.357249Z"
    },
    "papermill": {
     "duration": 0.022722,
     "end_time": "2022-07-12T08:34:35.358895",
     "exception": false,
     "start_time": "2022-07-12T08:34:35.336173",
     "status": "completed"
    },
    "tags": []
   },
   "outputs": [
    {
     "data": {
      "text/plain": [
       "'Using output dir base: /opt/data/data/phenomexcan/ld_blocks/gene_corrs/1000g/mashr'"
      ]
     },
     "metadata": {},
     "output_type": "display_data"
    }
   ],
   "source": [
    "display(f\"Using output dir base: {OUTPUT_DIR_BASE}\")"
   ]
  },
  {
   "cell_type": "code",
   "execution_count": 12,
   "id": "408aa590",
   "metadata": {
    "execution": {
     "iopub.execute_input": "2022-07-12T08:34:35.372588Z",
     "iopub.status.busy": "2022-07-12T08:34:35.372370Z",
     "iopub.status.idle": "2022-07-12T08:34:35.386470Z",
     "shell.execute_reply": "2022-07-12T08:34:35.386072Z"
    },
    "papermill": {
     "duration": 0.022324,
     "end_time": "2022-07-12T08:34:35.387734",
     "exception": false,
     "start_time": "2022-07-12T08:34:35.365410",
     "status": "completed"
    },
    "tags": []
   },
   "outputs": [],
   "source": [
    "assert (\n",
    "    chromosome is not None\n",
    "), \"You have to select one chromosome (format: number between 1 and 22)\""
   ]
  },
  {
   "cell_type": "code",
   "execution_count": 13,
   "id": "c1c7dd06-80ff-453c-bcb7-0899edce75da",
   "metadata": {
    "execution": {
     "iopub.execute_input": "2022-07-12T08:34:35.400886Z",
     "iopub.status.busy": "2022-07-12T08:34:35.400568Z",
     "iopub.status.idle": "2022-07-12T08:34:35.417224Z",
     "shell.execute_reply": "2022-07-12T08:34:35.416767Z"
    },
    "papermill": {
     "duration": 0.024591,
     "end_time": "2022-07-12T08:34:35.418616",
     "exception": false,
     "start_time": "2022-07-12T08:34:35.394025",
     "status": "completed"
    },
    "tags": []
   },
   "outputs": [],
   "source": [
    "chromosome = str(chromosome)"
   ]
  },
  {
   "cell_type": "code",
   "execution_count": 14,
   "id": "bc17b84c-9c26-47a5-a3ab-7046e72f3ef4",
   "metadata": {
    "execution": {
     "iopub.execute_input": "2022-07-12T08:34:35.432290Z",
     "iopub.status.busy": "2022-07-12T08:34:35.432080Z",
     "iopub.status.idle": "2022-07-12T08:34:35.447025Z",
     "shell.execute_reply": "2022-07-12T08:34:35.446564Z"
    },
    "papermill": {
     "duration": 0.023242,
     "end_time": "2022-07-12T08:34:35.448398",
     "exception": false,
     "start_time": "2022-07-12T08:34:35.425156",
     "status": "completed"
    },
    "tags": []
   },
   "outputs": [
    {
     "data": {
      "text/plain": [
       "'Working on chromosome 14'"
      ]
     },
     "metadata": {},
     "output_type": "display_data"
    }
   ],
   "source": [
    "display(f\"Working on chromosome {chromosome}\")"
   ]
  },
  {
   "cell_type": "code",
   "execution_count": 15,
   "id": "3c7d8574-90c7-4d09-bc8c-469ed0a34737",
   "metadata": {
    "execution": {
     "iopub.execute_input": "2022-07-12T08:34:35.462267Z",
     "iopub.status.busy": "2022-07-12T08:34:35.462056Z",
     "iopub.status.idle": "2022-07-12T08:34:35.477047Z",
     "shell.execute_reply": "2022-07-12T08:34:35.476617Z"
    },
    "papermill": {
     "duration": 0.023334,
     "end_time": "2022-07-12T08:34:35.478263",
     "exception": false,
     "start_time": "2022-07-12T08:34:35.454929",
     "status": "completed"
    },
    "tags": []
   },
   "outputs": [
    {
     "data": {
      "text/plain": [
       "'Compute correlation within distance False'"
      ]
     },
     "metadata": {},
     "output_type": "display_data"
    }
   ],
   "source": [
    "# This paramter, if True, computes the correlation between closeby genes only\n",
    "COMPUTE_CORRELATIONS_WITHIN_DISTANCE = False\n",
    "display(f\"Compute correlation within distance {COMPUTE_CORRELATIONS_WITHIN_DISTANCE}\")"
   ]
  },
  {
   "cell_type": "markdown",
   "id": "d2ba085e",
   "metadata": {
    "papermill": {
     "duration": 0.006399,
     "end_time": "2022-07-12T08:34:35.491163",
     "exception": false,
     "start_time": "2022-07-12T08:34:35.484764",
     "status": "completed"
    },
    "tags": []
   },
   "source": [
    "# Load data"
   ]
  },
  {
   "cell_type": "markdown",
   "id": "7bed0ce0-e7c7-4300-9a61-5412450b1904",
   "metadata": {
    "papermill": {
     "duration": 0.006229,
     "end_time": "2022-07-12T08:34:35.503763",
     "exception": false,
     "start_time": "2022-07-12T08:34:35.497534",
     "status": "completed"
    },
    "tags": []
   },
   "source": [
    "## Prediction model tissues"
   ]
  },
  {
   "cell_type": "code",
   "execution_count": 16,
   "id": "0847c065-0d69-4830-a07f-1c75115d17f5",
   "metadata": {
    "execution": {
     "iopub.execute_input": "2022-07-12T08:34:35.517452Z",
     "iopub.status.busy": "2022-07-12T08:34:35.517136Z",
     "iopub.status.idle": "2022-07-12T08:34:35.531690Z",
     "shell.execute_reply": "2022-07-12T08:34:35.531209Z"
    },
    "papermill": {
     "duration": 0.022977,
     "end_time": "2022-07-12T08:34:35.533054",
     "exception": false,
     "start_time": "2022-07-12T08:34:35.510077",
     "status": "completed"
    },
    "tags": []
   },
   "outputs": [],
   "source": [
    "prediction_model_tissues = conf.PHENOMEXCAN[\"PREDICTION_MODELS\"][\n",
    "    f\"{EQTL_MODEL}_TISSUES\"\n",
    "].split(\" \")"
   ]
  },
  {
   "cell_type": "code",
   "execution_count": 17,
   "id": "aaef70d1-30c6-4c6f-9d6b-abc8e9a0081f",
   "metadata": {
    "execution": {
     "iopub.execute_input": "2022-07-12T08:34:35.547012Z",
     "iopub.status.busy": "2022-07-12T08:34:35.546553Z",
     "iopub.status.idle": "2022-07-12T08:34:35.562290Z",
     "shell.execute_reply": "2022-07-12T08:34:35.561776Z"
    },
    "papermill": {
     "duration": 0.024002,
     "end_time": "2022-07-12T08:34:35.563661",
     "exception": false,
     "start_time": "2022-07-12T08:34:35.539659",
     "status": "completed"
    },
    "tags": []
   },
   "outputs": [
    {
     "data": {
      "text/plain": [
       "49"
      ]
     },
     "execution_count": 17,
     "metadata": {},
     "output_type": "execute_result"
    }
   ],
   "source": [
    "len(prediction_model_tissues)"
   ]
  },
  {
   "cell_type": "code",
   "execution_count": 18,
   "id": "ff35a099-c52d-465d-b863-0ee70c26208c",
   "metadata": {
    "execution": {
     "iopub.execute_input": "2022-07-12T08:34:35.578241Z",
     "iopub.status.busy": "2022-07-12T08:34:35.577756Z",
     "iopub.status.idle": "2022-07-12T08:34:35.592571Z",
     "shell.execute_reply": "2022-07-12T08:34:35.592140Z"
    },
    "papermill": {
     "duration": 0.023299,
     "end_time": "2022-07-12T08:34:35.593782",
     "exception": false,
     "start_time": "2022-07-12T08:34:35.570483",
     "status": "completed"
    },
    "tags": []
   },
   "outputs": [
    {
     "data": {
      "text/plain": [
       "['Skin_Not_Sun_Exposed_Suprapubic',\n",
       " 'Cells_EBV-transformed_lymphocytes',\n",
       " 'Brain_Frontal_Cortex_BA9',\n",
       " 'Kidney_Cortex',\n",
       " 'Brain_Substantia_nigra']"
      ]
     },
     "execution_count": 18,
     "metadata": {},
     "output_type": "execute_result"
    }
   ],
   "source": [
    "prediction_model_tissues[:5]"
   ]
  },
  {
   "cell_type": "markdown",
   "id": "abcc4b3d",
   "metadata": {
    "papermill": {
     "duration": 0.006416,
     "end_time": "2022-07-12T08:34:35.606795",
     "exception": false,
     "start_time": "2022-07-12T08:34:35.600379",
     "status": "completed"
    },
    "tags": []
   },
   "source": [
    "## MultiPLIER Z"
   ]
  },
  {
   "cell_type": "code",
   "execution_count": 19,
   "id": "c48ef527",
   "metadata": {
    "execution": {
     "iopub.execute_input": "2022-07-12T08:34:35.621082Z",
     "iopub.status.busy": "2022-07-12T08:34:35.620587Z",
     "iopub.status.idle": "2022-07-12T08:34:35.661826Z",
     "shell.execute_reply": "2022-07-12T08:34:35.661385Z"
    },
    "papermill": {
     "duration": 0.049854,
     "end_time": "2022-07-12T08:34:35.663293",
     "exception": false,
     "start_time": "2022-07-12T08:34:35.613439",
     "status": "completed"
    },
    "tags": []
   },
   "outputs": [],
   "source": [
    "multiplier_z_genes = pd.read_pickle(\n",
    "    conf.MULTIPLIER[\"MODEL_Z_MATRIX_FILE\"]\n",
    ").index.tolist()"
   ]
  },
  {
   "cell_type": "code",
   "execution_count": 20,
   "id": "0a4ecbd9",
   "metadata": {
    "execution": {
     "iopub.execute_input": "2022-07-12T08:34:35.678389Z",
     "iopub.status.busy": "2022-07-12T08:34:35.678174Z",
     "iopub.status.idle": "2022-07-12T08:34:35.694936Z",
     "shell.execute_reply": "2022-07-12T08:34:35.694471Z"
    },
    "papermill": {
     "duration": 0.025841,
     "end_time": "2022-07-12T08:34:35.696292",
     "exception": false,
     "start_time": "2022-07-12T08:34:35.670451",
     "status": "completed"
    },
    "tags": []
   },
   "outputs": [
    {
     "data": {
      "text/plain": [
       "6750"
      ]
     },
     "execution_count": 20,
     "metadata": {},
     "output_type": "execute_result"
    }
   ],
   "source": [
    "len(multiplier_z_genes)"
   ]
  },
  {
   "cell_type": "code",
   "execution_count": 21,
   "id": "115e8864",
   "metadata": {
    "execution": {
     "iopub.execute_input": "2022-07-12T08:34:35.711196Z",
     "iopub.status.busy": "2022-07-12T08:34:35.710764Z",
     "iopub.status.idle": "2022-07-12T08:34:35.725942Z",
     "shell.execute_reply": "2022-07-12T08:34:35.725496Z"
    },
    "papermill": {
     "duration": 0.023824,
     "end_time": "2022-07-12T08:34:35.727212",
     "exception": false,
     "start_time": "2022-07-12T08:34:35.703388",
     "status": "completed"
    },
    "tags": []
   },
   "outputs": [
    {
     "data": {
      "text/plain": [
       "['GAS6',\n",
       " 'MMP14',\n",
       " 'DSP',\n",
       " 'MARCKSL1',\n",
       " 'SPARC',\n",
       " 'CTSD',\n",
       " 'EPAS1',\n",
       " 'PALLD',\n",
       " 'PHC2',\n",
       " 'LGALS3BP']"
      ]
     },
     "execution_count": 21,
     "metadata": {},
     "output_type": "execute_result"
    }
   ],
   "source": [
    "multiplier_z_genes[:10]"
   ]
  },
  {
   "cell_type": "markdown",
   "id": "7dcb8db7",
   "metadata": {
    "papermill": {
     "duration": 0.006969,
     "end_time": "2022-07-12T08:34:35.741467",
     "exception": false,
     "start_time": "2022-07-12T08:34:35.734498",
     "status": "completed"
    },
    "tags": []
   },
   "source": [
    "## Get gene objects"
   ]
  },
  {
   "cell_type": "code",
   "execution_count": 22,
   "id": "bb932812",
   "metadata": {
    "execution": {
     "iopub.execute_input": "2022-07-12T08:34:35.756287Z",
     "iopub.status.busy": "2022-07-12T08:34:35.755770Z",
     "iopub.status.idle": "2022-07-12T08:34:35.777698Z",
     "shell.execute_reply": "2022-07-12T08:34:35.777264Z"
    },
    "papermill": {
     "duration": 0.030718,
     "end_time": "2022-07-12T08:34:35.779118",
     "exception": false,
     "start_time": "2022-07-12T08:34:35.748400",
     "status": "completed"
    },
    "tags": []
   },
   "outputs": [],
   "source": [
    "multiplier_gene_obj = {\n",
    "    gene_name: Gene(name=gene_name)\n",
    "    for gene_name in multiplier_z_genes\n",
    "    if gene_name in Gene.GENE_NAME_TO_ID_MAP\n",
    "}"
   ]
  },
  {
   "cell_type": "code",
   "execution_count": 23,
   "id": "39533214",
   "metadata": {
    "execution": {
     "iopub.execute_input": "2022-07-12T08:34:35.794292Z",
     "iopub.status.busy": "2022-07-12T08:34:35.793979Z",
     "iopub.status.idle": "2022-07-12T08:34:35.808985Z",
     "shell.execute_reply": "2022-07-12T08:34:35.808537Z"
    },
    "papermill": {
     "duration": 0.023957,
     "end_time": "2022-07-12T08:34:35.810330",
     "exception": false,
     "start_time": "2022-07-12T08:34:35.786373",
     "status": "completed"
    },
    "tags": []
   },
   "outputs": [
    {
     "data": {
      "text/plain": [
       "6454"
      ]
     },
     "execution_count": 23,
     "metadata": {},
     "output_type": "execute_result"
    }
   ],
   "source": [
    "len(multiplier_gene_obj)"
   ]
  },
  {
   "cell_type": "code",
   "execution_count": 24,
   "id": "9a5d0b84",
   "metadata": {
    "execution": {
     "iopub.execute_input": "2022-07-12T08:34:35.825881Z",
     "iopub.status.busy": "2022-07-12T08:34:35.825527Z",
     "iopub.status.idle": "2022-07-12T08:34:35.840921Z",
     "shell.execute_reply": "2022-07-12T08:34:35.840444Z"
    },
    "papermill": {
     "duration": 0.024517,
     "end_time": "2022-07-12T08:34:35.842225",
     "exception": false,
     "start_time": "2022-07-12T08:34:35.817708",
     "status": "completed"
    },
    "tags": []
   },
   "outputs": [
    {
     "data": {
      "text/plain": [
       "'ENSG00000183087'"
      ]
     },
     "execution_count": 24,
     "metadata": {},
     "output_type": "execute_result"
    }
   ],
   "source": [
    "multiplier_gene_obj[\"GAS6\"].ensembl_id"
   ]
  },
  {
   "cell_type": "code",
   "execution_count": 25,
   "id": "e3ffabc7",
   "metadata": {
    "execution": {
     "iopub.execute_input": "2022-07-12T08:34:35.857802Z",
     "iopub.status.busy": "2022-07-12T08:34:35.857337Z",
     "iopub.status.idle": "2022-07-12T08:34:37.939201Z",
     "shell.execute_reply": "2022-07-12T08:34:37.938781Z"
    },
    "papermill": {
     "duration": 2.091105,
     "end_time": "2022-07-12T08:34:37.940500",
     "exception": false,
     "start_time": "2022-07-12T08:34:35.849395",
     "status": "completed"
    },
    "tags": []
   },
   "outputs": [],
   "source": [
    "_gene_obj = list(multiplier_gene_obj.values())\n",
    "\n",
    "genes_info = pd.DataFrame(\n",
    "    {\n",
    "        \"name\": [g.name for g in _gene_obj],\n",
    "        \"id\": [g.ensembl_id for g in _gene_obj],\n",
    "        \"chr\": [g.chromosome for g in _gene_obj],\n",
    "        \"band\": [g.band for g in _gene_obj],\n",
    "        \"start_position\": [g.get_attribute(\"start_position\") for g in _gene_obj],\n",
    "    }\n",
    ")"
   ]
  },
  {
   "cell_type": "code",
   "execution_count": 26,
   "id": "e23519b8",
   "metadata": {
    "execution": {
     "iopub.execute_input": "2022-07-12T08:34:37.956589Z",
     "iopub.status.busy": "2022-07-12T08:34:37.956122Z",
     "iopub.status.idle": "2022-07-12T08:34:37.971091Z",
     "shell.execute_reply": "2022-07-12T08:34:37.970606Z"
    },
    "papermill": {
     "duration": 0.025021,
     "end_time": "2022-07-12T08:34:37.972524",
     "exception": false,
     "start_time": "2022-07-12T08:34:37.947503",
     "status": "completed"
    },
    "tags": []
   },
   "outputs": [
    {
     "data": {
      "text/plain": [
       "(6454, 5)"
      ]
     },
     "execution_count": 26,
     "metadata": {},
     "output_type": "execute_result"
    }
   ],
   "source": [
    "genes_info.shape"
   ]
  },
  {
   "cell_type": "code",
   "execution_count": 27,
   "id": "0d71881c",
   "metadata": {
    "execution": {
     "iopub.execute_input": "2022-07-12T08:34:37.987964Z",
     "iopub.status.busy": "2022-07-12T08:34:37.987759Z",
     "iopub.status.idle": "2022-07-12T08:34:38.009571Z",
     "shell.execute_reply": "2022-07-12T08:34:38.009153Z"
    },
    "papermill": {
     "duration": 0.030796,
     "end_time": "2022-07-12T08:34:38.010881",
     "exception": false,
     "start_time": "2022-07-12T08:34:37.980085",
     "status": "completed"
    },
    "tags": []
   },
   "outputs": [
    {
     "data": {
      "text/html": [
       "<div>\n",
       "<style scoped>\n",
       "    .dataframe tbody tr th:only-of-type {\n",
       "        vertical-align: middle;\n",
       "    }\n",
       "\n",
       "    .dataframe tbody tr th {\n",
       "        vertical-align: top;\n",
       "    }\n",
       "\n",
       "    .dataframe thead th {\n",
       "        text-align: right;\n",
       "    }\n",
       "</style>\n",
       "<table border=\"1\" class=\"dataframe\">\n",
       "  <thead>\n",
       "    <tr style=\"text-align: right;\">\n",
       "      <th></th>\n",
       "      <th>name</th>\n",
       "      <th>id</th>\n",
       "      <th>chr</th>\n",
       "      <th>band</th>\n",
       "      <th>start_position</th>\n",
       "    </tr>\n",
       "  </thead>\n",
       "  <tbody>\n",
       "    <tr>\n",
       "      <th>0</th>\n",
       "      <td>GAS6</td>\n",
       "      <td>ENSG00000183087</td>\n",
       "      <td>13</td>\n",
       "      <td>13q34</td>\n",
       "      <td>113820549.0</td>\n",
       "    </tr>\n",
       "    <tr>\n",
       "      <th>1</th>\n",
       "      <td>MMP14</td>\n",
       "      <td>ENSG00000157227</td>\n",
       "      <td>14</td>\n",
       "      <td>14q11.2</td>\n",
       "      <td>22836560.0</td>\n",
       "    </tr>\n",
       "    <tr>\n",
       "      <th>2</th>\n",
       "      <td>DSP</td>\n",
       "      <td>ENSG00000096696</td>\n",
       "      <td>6</td>\n",
       "      <td>6p24.3</td>\n",
       "      <td>7541617.0</td>\n",
       "    </tr>\n",
       "    <tr>\n",
       "      <th>3</th>\n",
       "      <td>MARCKSL1</td>\n",
       "      <td>ENSG00000175130</td>\n",
       "      <td>1</td>\n",
       "      <td>1p35.1</td>\n",
       "      <td>32333839.0</td>\n",
       "    </tr>\n",
       "    <tr>\n",
       "      <th>4</th>\n",
       "      <td>SPARC</td>\n",
       "      <td>ENSG00000113140</td>\n",
       "      <td>5</td>\n",
       "      <td>5q33.1</td>\n",
       "      <td>151661096.0</td>\n",
       "    </tr>\n",
       "  </tbody>\n",
       "</table>\n",
       "</div>"
      ],
      "text/plain": [
       "       name               id chr     band  start_position\n",
       "0      GAS6  ENSG00000183087  13    13q34     113820549.0\n",
       "1     MMP14  ENSG00000157227  14  14q11.2      22836560.0\n",
       "2       DSP  ENSG00000096696   6   6p24.3       7541617.0\n",
       "3  MARCKSL1  ENSG00000175130   1   1p35.1      32333839.0\n",
       "4     SPARC  ENSG00000113140   5   5q33.1     151661096.0"
      ]
     },
     "execution_count": 27,
     "metadata": {},
     "output_type": "execute_result"
    }
   ],
   "source": [
    "genes_info.head()"
   ]
  },
  {
   "cell_type": "markdown",
   "id": "c8d1038f",
   "metadata": {
    "papermill": {
     "duration": 0.007559,
     "end_time": "2022-07-12T08:34:38.026411",
     "exception": false,
     "start_time": "2022-07-12T08:34:38.018852",
     "status": "completed"
    },
    "tags": []
   },
   "source": [
    "# Test"
   ]
  },
  {
   "cell_type": "code",
   "execution_count": 28,
   "id": "64993abf",
   "metadata": {
    "execution": {
     "iopub.execute_input": "2022-07-12T08:34:38.041842Z",
     "iopub.status.busy": "2022-07-12T08:34:38.041391Z",
     "iopub.status.idle": "2022-07-12T08:34:38.065463Z",
     "shell.execute_reply": "2022-07-12T08:34:38.064996Z"
    },
    "papermill": {
     "duration": 0.033258,
     "end_time": "2022-07-12T08:34:38.066943",
     "exception": false,
     "start_time": "2022-07-12T08:34:38.033685",
     "status": "completed"
    },
    "tags": []
   },
   "outputs": [
    {
     "data": {
      "text/html": [
       "<div>\n",
       "<style scoped>\n",
       "    .dataframe tbody tr th:only-of-type {\n",
       "        vertical-align: middle;\n",
       "    }\n",
       "\n",
       "    .dataframe tbody tr th {\n",
       "        vertical-align: top;\n",
       "    }\n",
       "\n",
       "    .dataframe thead th {\n",
       "        text-align: right;\n",
       "    }\n",
       "</style>\n",
       "<table border=\"1\" class=\"dataframe\">\n",
       "  <thead>\n",
       "    <tr style=\"text-align: right;\">\n",
       "      <th></th>\n",
       "      <th>name</th>\n",
       "      <th>id</th>\n",
       "      <th>chr</th>\n",
       "      <th>band</th>\n",
       "      <th>start_position</th>\n",
       "    </tr>\n",
       "  </thead>\n",
       "  <tbody>\n",
       "    <tr>\n",
       "      <th>1</th>\n",
       "      <td>MMP14</td>\n",
       "      <td>ENSG00000157227</td>\n",
       "      <td>14</td>\n",
       "      <td>14q11.2</td>\n",
       "      <td>22836560.0</td>\n",
       "    </tr>\n",
       "    <tr>\n",
       "      <th>57</th>\n",
       "      <td>IFI27</td>\n",
       "      <td>ENSG00000165949</td>\n",
       "      <td>14</td>\n",
       "      <td>14q32.12</td>\n",
       "      <td>94104836.0</td>\n",
       "    </tr>\n",
       "    <tr>\n",
       "      <th>62</th>\n",
       "      <td>TNFAIP2</td>\n",
       "      <td>ENSG00000185215</td>\n",
       "      <td>14</td>\n",
       "      <td>14q32.32</td>\n",
       "      <td>103123442.0</td>\n",
       "    </tr>\n",
       "    <tr>\n",
       "      <th>69</th>\n",
       "      <td>SLC7A8</td>\n",
       "      <td>ENSG00000092068</td>\n",
       "      <td>14</td>\n",
       "      <td>14q11.2</td>\n",
       "      <td>23125295.0</td>\n",
       "    </tr>\n",
       "    <tr>\n",
       "      <th>83</th>\n",
       "      <td>PYGL</td>\n",
       "      <td>ENSG00000100504</td>\n",
       "      <td>14</td>\n",
       "      <td>14q22.1</td>\n",
       "      <td>50857891.0</td>\n",
       "    </tr>\n",
       "    <tr>\n",
       "      <th>...</th>\n",
       "      <td>...</td>\n",
       "      <td>...</td>\n",
       "      <td>...</td>\n",
       "      <td>...</td>\n",
       "      <td>...</td>\n",
       "    </tr>\n",
       "    <tr>\n",
       "      <th>6145</th>\n",
       "      <td>LTB4R2</td>\n",
       "      <td>ENSG00000213906</td>\n",
       "      <td>14</td>\n",
       "      <td>14q12</td>\n",
       "      <td>24305734.0</td>\n",
       "    </tr>\n",
       "    <tr>\n",
       "      <th>6149</th>\n",
       "      <td>FKBP3</td>\n",
       "      <td>ENSG00000100442</td>\n",
       "      <td>14</td>\n",
       "      <td>14q21.2</td>\n",
       "      <td>45115599.0</td>\n",
       "    </tr>\n",
       "    <tr>\n",
       "      <th>6303</th>\n",
       "      <td>MPP5</td>\n",
       "      <td>ENSG00000072415</td>\n",
       "      <td>14</td>\n",
       "      <td>14q23.3</td>\n",
       "      <td>67241109.0</td>\n",
       "    </tr>\n",
       "    <tr>\n",
       "      <th>6442</th>\n",
       "      <td>GMPR2</td>\n",
       "      <td>ENSG00000100938</td>\n",
       "      <td>14</td>\n",
       "      <td>14q12</td>\n",
       "      <td>24232422.0</td>\n",
       "    </tr>\n",
       "    <tr>\n",
       "      <th>6448</th>\n",
       "      <td>CFL2</td>\n",
       "      <td>ENSG00000165410</td>\n",
       "      <td>14</td>\n",
       "      <td>14q13.1</td>\n",
       "      <td>34706769.0</td>\n",
       "    </tr>\n",
       "  </tbody>\n",
       "</table>\n",
       "<p>211 rows × 5 columns</p>\n",
       "</div>"
      ],
      "text/plain": [
       "         name               id chr      band  start_position\n",
       "1       MMP14  ENSG00000157227  14   14q11.2      22836560.0\n",
       "57      IFI27  ENSG00000165949  14  14q32.12      94104836.0\n",
       "62    TNFAIP2  ENSG00000185215  14  14q32.32     103123442.0\n",
       "69     SLC7A8  ENSG00000092068  14   14q11.2      23125295.0\n",
       "83       PYGL  ENSG00000100504  14   14q22.1      50857891.0\n",
       "...       ...              ...  ..       ...             ...\n",
       "6145   LTB4R2  ENSG00000213906  14     14q12      24305734.0\n",
       "6149    FKBP3  ENSG00000100442  14   14q21.2      45115599.0\n",
       "6303     MPP5  ENSG00000072415  14   14q23.3      67241109.0\n",
       "6442    GMPR2  ENSG00000100938  14     14q12      24232422.0\n",
       "6448     CFL2  ENSG00000165410  14   14q13.1      34706769.0\n",
       "\n",
       "[211 rows x 5 columns]"
      ]
     },
     "metadata": {},
     "output_type": "display_data"
    }
   ],
   "source": [
    "chromosome_genes_info = genes_info[genes_info[\"chr\"] == chromosome]\n",
    "display(chromosome_genes_info)"
   ]
  },
  {
   "cell_type": "code",
   "execution_count": 29,
   "id": "d2e42726-7de6-46eb-acfc-6323eaa8fae6",
   "metadata": {
    "execution": {
     "iopub.execute_input": "2022-07-12T08:34:38.083306Z",
     "iopub.status.busy": "2022-07-12T08:34:38.083103Z",
     "iopub.status.idle": "2022-07-12T08:34:38.098814Z",
     "shell.execute_reply": "2022-07-12T08:34:38.098369Z"
    },
    "papermill": {
     "duration": 0.025331,
     "end_time": "2022-07-12T08:34:38.100189",
     "exception": false,
     "start_time": "2022-07-12T08:34:38.074858",
     "status": "completed"
    },
    "tags": []
   },
   "outputs": [
    {
     "data": {
      "text/plain": [
       "5"
      ]
     },
     "metadata": {},
     "output_type": "display_data"
    }
   ],
   "source": [
    "seed(0)\n",
    "_gene_list_ids = sample(chromosome_genes_info[\"id\"].tolist(), 5)\n",
    "selected_chromosome_genes_obj = [Gene(ensembl_id=g_id) for g_id in _gene_list_ids]\n",
    "display(len(selected_chromosome_genes_obj))"
   ]
  },
  {
   "cell_type": "code",
   "execution_count": 30,
   "id": "1b355359",
   "metadata": {
    "execution": {
     "iopub.execute_input": "2022-07-12T08:34:38.116763Z",
     "iopub.status.busy": "2022-07-12T08:34:38.116542Z",
     "iopub.status.idle": "2022-07-12T08:34:39.683394Z",
     "shell.execute_reply": "2022-07-12T08:34:39.682827Z"
    },
    "papermill": {
     "duration": 1.576429,
     "end_time": "2022-07-12T08:34:39.684653",
     "exception": false,
     "start_time": "2022-07-12T08:34:38.108224",
     "status": "completed"
    },
    "tags": []
   },
   "outputs": [
    {
     "name": "stdout",
     "output_type": "stream",
     "text": [
      "MTA1 / DHRS4: 0.0\n",
      "MTA1 / RDH11: 0.0\n",
      "MTA1 / COCH: 0.0\n",
      "MTA1 / PNP: 0.0\n",
      "DHRS4 / RDH11: 0.0\n",
      "DHRS4 / COCH: 0.0\n",
      "DHRS4 / PNP: 0.005913103882183705\n",
      "RDH11 / COCH: 0.0\n",
      "RDH11 / PNP: 0.0\n",
      "COCH / PNP: 0.0\n"
     ]
    }
   ],
   "source": [
    "for gene_idx1 in range(0, len(selected_chromosome_genes_obj) - 1):\n",
    "    gene_obj1 = selected_chromosome_genes_obj[gene_idx1]\n",
    "\n",
    "    for gene_idx2 in range(gene_idx1 + 1, len(selected_chromosome_genes_obj)):\n",
    "        gene_obj2 = selected_chromosome_genes_obj[gene_idx2]\n",
    "\n",
    "        c = gene_obj1.get_ssm_correlation(\n",
    "            gene_obj2,\n",
    "        )\n",
    "\n",
    "        print(f\"{gene_obj1.name} / {gene_obj2.name}: {c}\")"
   ]
  },
  {
   "cell_type": "markdown",
   "id": "d3843e06",
   "metadata": {
    "papermill": {
     "duration": 0.007449,
     "end_time": "2022-07-12T08:34:39.699759",
     "exception": false,
     "start_time": "2022-07-12T08:34:39.692310",
     "status": "completed"
    },
    "tags": []
   },
   "source": [
    "# Compute correlation per chromosome"
   ]
  },
  {
   "cell_type": "code",
   "execution_count": 31,
   "id": "cb859c15-d1f3-4006-a74c-2b83c0db9611",
   "metadata": {
    "execution": {
     "iopub.execute_input": "2022-07-12T08:34:39.715591Z",
     "iopub.status.busy": "2022-07-12T08:34:39.715117Z",
     "iopub.status.idle": "2022-07-12T08:34:39.730860Z",
     "shell.execute_reply": "2022-07-12T08:34:39.730360Z"
    },
    "papermill": {
     "duration": 0.024922,
     "end_time": "2022-07-12T08:34:39.732133",
     "exception": false,
     "start_time": "2022-07-12T08:34:39.707211",
     "status": "completed"
    },
    "tags": []
   },
   "outputs": [
    {
     "data": {
      "text/plain": [
       "PosixPath('/opt/data/data/phenomexcan/ld_blocks/gene_corrs/1000g/mashr/by_chr/gene_corrs-chr14.pkl')"
      ]
     },
     "metadata": {},
     "output_type": "display_data"
    }
   ],
   "source": [
    "output_dir = OUTPUT_DIR_BASE / \"by_chr\"\n",
    "output_dir.mkdir(exist_ok=True, parents=True)\n",
    "output_file = output_dir / f\"gene_corrs-chr{chromosome}.pkl\"\n",
    "display(output_file)"
   ]
  },
  {
   "cell_type": "code",
   "execution_count": 32,
   "id": "aa674fe4-6794-4eed-98fa-32b39d1d4ace",
   "metadata": {
    "execution": {
     "iopub.execute_input": "2022-07-12T08:34:39.749331Z",
     "iopub.status.busy": "2022-07-12T08:34:39.749014Z",
     "iopub.status.idle": "2022-07-12T08:34:39.764425Z",
     "shell.execute_reply": "2022-07-12T08:34:39.763411Z"
    },
    "papermill": {
     "duration": 0.025432,
     "end_time": "2022-07-12T08:34:39.765777",
     "exception": false,
     "start_time": "2022-07-12T08:34:39.740345",
     "status": "completed"
    },
    "tags": []
   },
   "outputs": [],
   "source": [
    "warnings.filterwarnings(\"error\")"
   ]
  },
  {
   "cell_type": "code",
   "execution_count": 33,
   "id": "cdbb90a1",
   "metadata": {
    "execution": {
     "iopub.execute_input": "2022-07-12T08:34:39.783333Z",
     "iopub.status.busy": "2022-07-12T08:34:39.783048Z",
     "iopub.status.idle": "2022-07-12T09:03:35.889447Z",
     "shell.execute_reply": "2022-07-12T09:03:35.888964Z"
    },
    "papermill": {
     "duration": 1736.116965,
     "end_time": "2022-07-12T09:03:35.891026",
     "exception": false,
     "start_time": "2022-07-12T08:34:39.774061",
     "status": "completed"
    },
    "tags": []
   },
   "outputs": [
    {
     "name": "stdout",
     "output_type": "stream",
     "text": [
      "Number of genes in chromosome: 211\n",
      "Number of gene combinations: 22155\n"
     ]
    },
    {
     "name": "stderr",
     "output_type": "stream",
     "text": [
      "ENSG00000185024 / ENSG00000182979: 100%|██████████████████████| 22155/22155 [28:56<00:00, 12.76it/s]\n"
     ]
    },
    {
     "name": "stdout",
     "output_type": "stream",
     "text": [
      "Min/max values: 0.0 / 0.903028321420113\n"
     ]
    },
    {
     "data": {
      "text/plain": [
       "PosixPath('/opt/data/data/phenomexcan/ld_blocks/gene_corrs/1000g/mashr/by_chr/gene_corrs-chr14.pkl')"
      ]
     },
     "metadata": {},
     "output_type": "display_data"
    }
   ],
   "source": [
    "# standard checks\n",
    "all_chrs = genes_info[\"chr\"].dropna().unique()\n",
    "assert all_chrs.shape[0] == 22\n",
    "\n",
    "# select chromosome given by the user\n",
    "assert chromosome in all_chrs\n",
    "\n",
    "# run only on the chromosome specified\n",
    "all_chrs = [chromosome]\n",
    "genes_chr = genes_info[genes_info[\"chr\"] == chromosome]\n",
    "\n",
    "# For testing purposes\n",
    "# genes_chr = genes_chr.sample(n=20)\n",
    "\n",
    "print(f\"Number of genes in chromosome: {genes_chr.shape[0]}\", flush=True)\n",
    "\n",
    "# sort genes by starting position to make visualizations better later\n",
    "genes_chr = genes_chr.sort_values(\"start_position\")\n",
    "\n",
    "gene_chr_objs = [Gene(ensembl_id=gene_id) for gene_id in genes_chr[\"id\"]]\n",
    "gene_chr_ids = [g.ensembl_id for g in gene_chr_objs]\n",
    "\n",
    "n = len(gene_chr_objs)\n",
    "n_comb = int(n * (n - 1) / 2.0)\n",
    "print(f\"Number of gene combinations: {n_comb}\", flush=True)\n",
    "\n",
    "gene_corrs = []\n",
    "\n",
    "pbar = tqdm(ncols=100, total=n_comb)\n",
    "i = 0\n",
    "for gene_idx1 in range(0, len(gene_chr_objs) - 1):\n",
    "    gene_obj1 = gene_chr_objs[gene_idx1]\n",
    "\n",
    "    for gene_idx2 in range(gene_idx1 + 1, len(gene_chr_objs)):\n",
    "        gene_obj2 = gene_chr_objs[gene_idx2]\n",
    "\n",
    "        pbar.set_description(f\"{gene_obj1.ensembl_id} / {gene_obj2.ensembl_id}\")\n",
    "\n",
    "        try:\n",
    "            # FIXME: compute the correlation of the sum of squares of the model using all\n",
    "            # the available tissues; this could be problematic because for some results\n",
    "            # (computed on a specific phenotype/GWAS) we might not have all the tissues\n",
    "            # available, which can certainly bias the correlation estimation.\n",
    "            # Since this depends on the GWAS on a specific phenotype, we should ideally have\n",
    "            # one correlation matrix per GWAS. I should look at how we can improve this.\n",
    "            r = gene_obj1.get_ssm_correlation(\n",
    "                other_gene=gene_obj2,\n",
    "                condition_number=SMULTIXCAN_CONDITION_NUMBER,\n",
    "                reference_panel=REFERENCE_PANEL,\n",
    "                model_type=EQTL_MODEL,\n",
    "                use_within_distance=COMPUTE_CORRELATIONS_WITHIN_DISTANCE,\n",
    "            )\n",
    "\n",
    "            if r is None:\n",
    "                # if r is None, it's very likely because:\n",
    "                #  * one of the genes has no prediction models\n",
    "                #  * all the SNPs predictors for the gene are not present in the reference\n",
    "                #    panel\n",
    "\n",
    "                r = 0.0\n",
    "\n",
    "            gene_corrs.append(r)\n",
    "        except Warning:\n",
    "            print(\n",
    "                f\"RuntimeWarning for genes {gene_obj1.ensembl_id} and {gene_obj2.ensembl_id}\",\n",
    "                flush=True,\n",
    "            )\n",
    "            import traceback\n",
    "\n",
    "            print(traceback.format_exc(), flush=True)\n",
    "        except Exception as e:\n",
    "            print(\n",
    "                f\"Exception for genes {gene_obj1.ensembl_id} and {gene_obj2.ensembl_id}\",\n",
    "                flush=True,\n",
    "            )\n",
    "            import traceback\n",
    "\n",
    "            print(traceback.format_exc(), flush=True)\n",
    "            gene_corrs.append(np.nan)\n",
    "\n",
    "        pbar.update(1)\n",
    "\n",
    "pbar.close()\n",
    "\n",
    "# testing\n",
    "gene_corrs_flat = pd.Series(gene_corrs)\n",
    "print(f\"Min/max values: {gene_corrs_flat.min()} / {gene_corrs_flat.max()}\")\n",
    "assert gene_corrs_flat.min() >= -1.001\n",
    "assert gene_corrs_flat.max() <= 1.001\n",
    "\n",
    "# save\n",
    "# FIXME: consider saving only the condenced matrix here. See here for\n",
    "# more details: https://github.com/greenelab/phenoplier/pull/38#discussion_r634600813\n",
    "gene_corrs_data = squareform(np.array(gene_corrs, dtype=np.float64))\n",
    "np.fill_diagonal(gene_corrs_data, 1.0)\n",
    "\n",
    "gene_corrs_df = pd.DataFrame(\n",
    "    data=gene_corrs_data,\n",
    "    index=gene_chr_ids,\n",
    "    columns=gene_chr_ids,\n",
    ")\n",
    "\n",
    "output_dir.mkdir(exist_ok=True, parents=True)\n",
    "display(output_file)\n",
    "\n",
    "gene_corrs_df.to_pickle(output_file)"
   ]
  },
  {
   "cell_type": "markdown",
   "id": "faa67b51-5373-470f-aa72-2ded53fa6dfe",
   "metadata": {
    "papermill": {
     "duration": 1.170253,
     "end_time": "2022-07-12T09:03:38.252754",
     "exception": false,
     "start_time": "2022-07-12T09:03:37.082501",
     "status": "completed"
    },
    "tags": []
   },
   "source": [
    "# Testing"
   ]
  },
  {
   "cell_type": "code",
   "execution_count": 34,
   "id": "14f7d046-4b55-4896-a56b-990127bcc388",
   "metadata": {
    "execution": {
     "iopub.execute_input": "2022-07-12T09:03:40.590313Z",
     "iopub.status.busy": "2022-07-12T09:03:40.590091Z",
     "iopub.status.idle": "2022-07-12T09:03:40.606701Z",
     "shell.execute_reply": "2022-07-12T09:03:40.606189Z"
    },
    "papermill": {
     "duration": 1.169335,
     "end_time": "2022-07-12T09:03:40.607996",
     "exception": false,
     "start_time": "2022-07-12T09:03:39.438661",
     "status": "completed"
    },
    "tags": []
   },
   "outputs": [
    {
     "data": {
      "text/plain": [
       "(211, 211)"
      ]
     },
     "execution_count": 34,
     "metadata": {},
     "output_type": "execute_result"
    }
   ],
   "source": [
    "gene_corrs_df.shape"
   ]
  },
  {
   "cell_type": "code",
   "execution_count": 35,
   "id": "c7d15414-3297-4537-a7c6-7588c0baeb75",
   "metadata": {
    "execution": {
     "iopub.execute_input": "2022-07-12T09:03:43.027565Z",
     "iopub.status.busy": "2022-07-12T09:03:43.027355Z",
     "iopub.status.idle": "2022-07-12T09:03:43.056856Z",
     "shell.execute_reply": "2022-07-12T09:03:43.056409Z"
    },
    "papermill": {
     "duration": 1.224743,
     "end_time": "2022-07-12T09:03:43.058110",
     "exception": false,
     "start_time": "2022-07-12T09:03:41.833367",
     "status": "completed"
    },
    "tags": []
   },
   "outputs": [
    {
     "data": {
      "text/html": [
       "<div>\n",
       "<style scoped>\n",
       "    .dataframe tbody tr th:only-of-type {\n",
       "        vertical-align: middle;\n",
       "    }\n",
       "\n",
       "    .dataframe tbody tr th {\n",
       "        vertical-align: top;\n",
       "    }\n",
       "\n",
       "    .dataframe thead th {\n",
       "        text-align: right;\n",
       "    }\n",
       "</style>\n",
       "<table border=\"1\" class=\"dataframe\">\n",
       "  <thead>\n",
       "    <tr style=\"text-align: right;\">\n",
       "      <th></th>\n",
       "      <th>ENSG00000222036</th>\n",
       "      <th>ENSG00000136319</th>\n",
       "      <th>ENSG00000129484</th>\n",
       "      <th>ENSG00000129566</th>\n",
       "      <th>ENSG00000100823</th>\n",
       "      <th>ENSG00000198805</th>\n",
       "      <th>ENSG00000214274</th>\n",
       "      <th>ENSG00000258818</th>\n",
       "      <th>ENSG00000169413</th>\n",
       "      <th>ENSG00000169397</th>\n",
       "      <th>...</th>\n",
       "      <th>ENSG00000126215</th>\n",
       "      <th>ENSG00000088808</th>\n",
       "      <th>ENSG00000066735</th>\n",
       "      <th>ENSG00000185100</th>\n",
       "      <th>ENSG00000142208</th>\n",
       "      <th>ENSG00000166428</th>\n",
       "      <th>ENSG00000183484</th>\n",
       "      <th>ENSG00000184916</th>\n",
       "      <th>ENSG00000185024</th>\n",
       "      <th>ENSG00000182979</th>\n",
       "    </tr>\n",
       "  </thead>\n",
       "  <tbody>\n",
       "    <tr>\n",
       "      <th>ENSG00000222036</th>\n",
       "      <td>1.0</td>\n",
       "      <td>0.000000</td>\n",
       "      <td>0.000000</td>\n",
       "      <td>0.000000</td>\n",
       "      <td>0.000000</td>\n",
       "      <td>0.000000</td>\n",
       "      <td>0.000000</td>\n",
       "      <td>0.000000</td>\n",
       "      <td>0.000000</td>\n",
       "      <td>0.000000</td>\n",
       "      <td>...</td>\n",
       "      <td>0.000000</td>\n",
       "      <td>0.000000</td>\n",
       "      <td>0.000000</td>\n",
       "      <td>0.000000</td>\n",
       "      <td>0.000000</td>\n",
       "      <td>0.000000</td>\n",
       "      <td>0.000000</td>\n",
       "      <td>0.000000</td>\n",
       "      <td>0.000000</td>\n",
       "      <td>0.000000</td>\n",
       "    </tr>\n",
       "    <tr>\n",
       "      <th>ENSG00000136319</th>\n",
       "      <td>0.0</td>\n",
       "      <td>1.000000</td>\n",
       "      <td>0.419074</td>\n",
       "      <td>0.016664</td>\n",
       "      <td>0.012118</td>\n",
       "      <td>0.004729</td>\n",
       "      <td>0.009859</td>\n",
       "      <td>0.007009</td>\n",
       "      <td>0.012458</td>\n",
       "      <td>0.010864</td>\n",
       "      <td>...</td>\n",
       "      <td>0.009388</td>\n",
       "      <td>0.011307</td>\n",
       "      <td>0.010363</td>\n",
       "      <td>0.008799</td>\n",
       "      <td>0.011597</td>\n",
       "      <td>0.013682</td>\n",
       "      <td>0.007958</td>\n",
       "      <td>0.014073</td>\n",
       "      <td>0.006576</td>\n",
       "      <td>0.002089</td>\n",
       "    </tr>\n",
       "    <tr>\n",
       "      <th>ENSG00000129484</th>\n",
       "      <td>0.0</td>\n",
       "      <td>0.419074</td>\n",
       "      <td>1.000000</td>\n",
       "      <td>0.020049</td>\n",
       "      <td>0.008024</td>\n",
       "      <td>0.006075</td>\n",
       "      <td>0.010550</td>\n",
       "      <td>0.007815</td>\n",
       "      <td>0.007987</td>\n",
       "      <td>0.005828</td>\n",
       "      <td>...</td>\n",
       "      <td>0.005181</td>\n",
       "      <td>0.005296</td>\n",
       "      <td>0.005240</td>\n",
       "      <td>0.004115</td>\n",
       "      <td>0.007581</td>\n",
       "      <td>0.009343</td>\n",
       "      <td>0.004827</td>\n",
       "      <td>0.009384</td>\n",
       "      <td>0.006872</td>\n",
       "      <td>0.001732</td>\n",
       "    </tr>\n",
       "    <tr>\n",
       "      <th>ENSG00000129566</th>\n",
       "      <td>0.0</td>\n",
       "      <td>0.016664</td>\n",
       "      <td>0.020049</td>\n",
       "      <td>1.000000</td>\n",
       "      <td>0.073406</td>\n",
       "      <td>0.022526</td>\n",
       "      <td>0.012381</td>\n",
       "      <td>0.009912</td>\n",
       "      <td>0.012395</td>\n",
       "      <td>0.005955</td>\n",
       "      <td>...</td>\n",
       "      <td>0.008125</td>\n",
       "      <td>0.007931</td>\n",
       "      <td>0.013348</td>\n",
       "      <td>0.005595</td>\n",
       "      <td>0.009516</td>\n",
       "      <td>0.005877</td>\n",
       "      <td>0.004259</td>\n",
       "      <td>0.008523</td>\n",
       "      <td>0.011035</td>\n",
       "      <td>0.007485</td>\n",
       "    </tr>\n",
       "    <tr>\n",
       "      <th>ENSG00000100823</th>\n",
       "      <td>0.0</td>\n",
       "      <td>0.012118</td>\n",
       "      <td>0.008024</td>\n",
       "      <td>0.073406</td>\n",
       "      <td>1.000000</td>\n",
       "      <td>0.273603</td>\n",
       "      <td>0.013556</td>\n",
       "      <td>0.009452</td>\n",
       "      <td>0.010661</td>\n",
       "      <td>0.013565</td>\n",
       "      <td>...</td>\n",
       "      <td>0.004334</td>\n",
       "      <td>0.003696</td>\n",
       "      <td>0.010433</td>\n",
       "      <td>0.005361</td>\n",
       "      <td>0.012966</td>\n",
       "      <td>0.008230</td>\n",
       "      <td>0.005814</td>\n",
       "      <td>0.011017</td>\n",
       "      <td>0.010771</td>\n",
       "      <td>0.005184</td>\n",
       "    </tr>\n",
       "  </tbody>\n",
       "</table>\n",
       "<p>5 rows × 211 columns</p>\n",
       "</div>"
      ],
      "text/plain": [
       "                 ENSG00000222036  ENSG00000136319  ENSG00000129484  \\\n",
       "ENSG00000222036              1.0         0.000000         0.000000   \n",
       "ENSG00000136319              0.0         1.000000         0.419074   \n",
       "ENSG00000129484              0.0         0.419074         1.000000   \n",
       "ENSG00000129566              0.0         0.016664         0.020049   \n",
       "ENSG00000100823              0.0         0.012118         0.008024   \n",
       "\n",
       "                 ENSG00000129566  ENSG00000100823  ENSG00000198805  \\\n",
       "ENSG00000222036         0.000000         0.000000         0.000000   \n",
       "ENSG00000136319         0.016664         0.012118         0.004729   \n",
       "ENSG00000129484         0.020049         0.008024         0.006075   \n",
       "ENSG00000129566         1.000000         0.073406         0.022526   \n",
       "ENSG00000100823         0.073406         1.000000         0.273603   \n",
       "\n",
       "                 ENSG00000214274  ENSG00000258818  ENSG00000169413  \\\n",
       "ENSG00000222036         0.000000         0.000000         0.000000   \n",
       "ENSG00000136319         0.009859         0.007009         0.012458   \n",
       "ENSG00000129484         0.010550         0.007815         0.007987   \n",
       "ENSG00000129566         0.012381         0.009912         0.012395   \n",
       "ENSG00000100823         0.013556         0.009452         0.010661   \n",
       "\n",
       "                 ENSG00000169397  ...  ENSG00000126215  ENSG00000088808  \\\n",
       "ENSG00000222036         0.000000  ...         0.000000         0.000000   \n",
       "ENSG00000136319         0.010864  ...         0.009388         0.011307   \n",
       "ENSG00000129484         0.005828  ...         0.005181         0.005296   \n",
       "ENSG00000129566         0.005955  ...         0.008125         0.007931   \n",
       "ENSG00000100823         0.013565  ...         0.004334         0.003696   \n",
       "\n",
       "                 ENSG00000066735  ENSG00000185100  ENSG00000142208  \\\n",
       "ENSG00000222036         0.000000         0.000000         0.000000   \n",
       "ENSG00000136319         0.010363         0.008799         0.011597   \n",
       "ENSG00000129484         0.005240         0.004115         0.007581   \n",
       "ENSG00000129566         0.013348         0.005595         0.009516   \n",
       "ENSG00000100823         0.010433         0.005361         0.012966   \n",
       "\n",
       "                 ENSG00000166428  ENSG00000183484  ENSG00000184916  \\\n",
       "ENSG00000222036         0.000000         0.000000         0.000000   \n",
       "ENSG00000136319         0.013682         0.007958         0.014073   \n",
       "ENSG00000129484         0.009343         0.004827         0.009384   \n",
       "ENSG00000129566         0.005877         0.004259         0.008523   \n",
       "ENSG00000100823         0.008230         0.005814         0.011017   \n",
       "\n",
       "                 ENSG00000185024  ENSG00000182979  \n",
       "ENSG00000222036         0.000000         0.000000  \n",
       "ENSG00000136319         0.006576         0.002089  \n",
       "ENSG00000129484         0.006872         0.001732  \n",
       "ENSG00000129566         0.011035         0.007485  \n",
       "ENSG00000100823         0.010771         0.005184  \n",
       "\n",
       "[5 rows x 211 columns]"
      ]
     },
     "execution_count": 35,
     "metadata": {},
     "output_type": "execute_result"
    }
   ],
   "source": [
    "gene_corrs_df.head()"
   ]
  },
  {
   "cell_type": "code",
   "execution_count": 36,
   "id": "286686af-1b7b-4440-8453-6bdcbd8de19c",
   "metadata": {
    "execution": {
     "iopub.execute_input": "2022-07-12T09:03:45.423892Z",
     "iopub.status.busy": "2022-07-12T09:03:45.423709Z",
     "iopub.status.idle": "2022-07-12T09:03:45.440044Z",
     "shell.execute_reply": "2022-07-12T09:03:45.439509Z"
    },
    "papermill": {
     "duration": 1.172525,
     "end_time": "2022-07-12T09:03:45.441374",
     "exception": false,
     "start_time": "2022-07-12T09:03:44.268849",
     "status": "completed"
    },
    "tags": []
   },
   "outputs": [],
   "source": [
    "assert not gene_corrs_df.isna().any().any()"
   ]
  },
  {
   "cell_type": "code",
   "execution_count": 37,
   "id": "00583efc-7068-4270-ad1e-4a418e91db96",
   "metadata": {
    "execution": {
     "iopub.execute_input": "2022-07-12T09:03:47.857598Z",
     "iopub.status.busy": "2022-07-12T09:03:47.857418Z",
     "iopub.status.idle": "2022-07-12T09:03:47.876070Z",
     "shell.execute_reply": "2022-07-12T09:03:47.875513Z"
    },
    "papermill": {
     "duration": 1.163428,
     "end_time": "2022-07-12T09:03:47.877371",
     "exception": false,
     "start_time": "2022-07-12T09:03:46.713943",
     "status": "completed"
    },
    "tags": []
   },
   "outputs": [
    {
     "data": {
      "text/plain": [
       "0.0"
      ]
     },
     "metadata": {},
     "output_type": "display_data"
    }
   ],
   "source": [
    "_min_val = gene_corrs_df.min().min()\n",
    "display(_min_val)\n",
    "assert _min_val >= 0.0"
   ]
  },
  {
   "cell_type": "code",
   "execution_count": 38,
   "id": "d04fb2cf-1050-475b-b855-f5f7cc04092b",
   "metadata": {
    "execution": {
     "iopub.execute_input": "2022-07-12T09:03:50.242780Z",
     "iopub.status.busy": "2022-07-12T09:03:50.242602Z",
     "iopub.status.idle": "2022-07-12T09:03:50.259238Z",
     "shell.execute_reply": "2022-07-12T09:03:50.258779Z"
    },
    "papermill": {
     "duration": 1.248336,
     "end_time": "2022-07-12T09:03:50.260428",
     "exception": false,
     "start_time": "2022-07-12T09:03:49.012092",
     "status": "completed"
    },
    "tags": []
   },
   "outputs": [
    {
     "data": {
      "text/plain": [
       "1.0"
      ]
     },
     "metadata": {},
     "output_type": "display_data"
    }
   ],
   "source": [
    "_max_val = gene_corrs_df.max().max()  # this captures the diagonal\n",
    "display(_max_val)\n",
    "assert _max_val <= 1.0"
   ]
  },
  {
   "cell_type": "code",
   "execution_count": 39,
   "id": "96d02c44-1fba-47be-8a93-8f2608420b9c",
   "metadata": {
    "execution": {
     "iopub.execute_input": "2022-07-12T09:03:52.607630Z",
     "iopub.status.busy": "2022-07-12T09:03:52.607228Z",
     "iopub.status.idle": "2022-07-12T09:03:52.621824Z",
     "shell.execute_reply": "2022-07-12T09:03:52.621444Z"
    },
    "papermill": {
     "duration": 1.156817,
     "end_time": "2022-07-12T09:03:52.623091",
     "exception": false,
     "start_time": "2022-07-12T09:03:51.466274",
     "status": "completed"
    },
    "tags": []
   },
   "outputs": [],
   "source": [
    "# check upper triangular values\n",
    "assert len(gene_corrs) == int(genes_chr.shape[0] * (genes_chr.shape[0] - 1) / 2)"
   ]
  },
  {
   "cell_type": "code",
   "execution_count": 40,
   "id": "aaa51627-f4e3-4744-a41f-7d25adcc0a78",
   "metadata": {
    "execution": {
     "iopub.execute_input": "2022-07-12T09:03:54.988522Z",
     "iopub.status.busy": "2022-07-12T09:03:54.988321Z",
     "iopub.status.idle": "2022-07-12T09:03:55.009880Z",
     "shell.execute_reply": "2022-07-12T09:03:55.009346Z"
    },
    "papermill": {
     "duration": 1.181958,
     "end_time": "2022-07-12T09:03:55.011241",
     "exception": false,
     "start_time": "2022-07-12T09:03:53.829283",
     "status": "completed"
    },
    "tags": []
   },
   "outputs": [],
   "source": [
    "gene_corrs = pd.Series(gene_corrs)"
   ]
  },
  {
   "cell_type": "code",
   "execution_count": 41,
   "id": "fe283586-c348-40e0-8841-f6d97bfb021c",
   "metadata": {
    "execution": {
     "iopub.execute_input": "2022-07-12T09:03:57.403671Z",
     "iopub.status.busy": "2022-07-12T09:03:57.403495Z",
     "iopub.status.idle": "2022-07-12T09:03:57.422559Z",
     "shell.execute_reply": "2022-07-12T09:03:57.422106Z"
    },
    "papermill": {
     "duration": 1.189686,
     "end_time": "2022-07-12T09:03:57.423742",
     "exception": false,
     "start_time": "2022-07-12T09:03:56.234056",
     "status": "completed"
    },
    "tags": []
   },
   "outputs": [
    {
     "data": {
      "text/plain": [
       "count    22155.000000\n",
       "mean         0.011420\n",
       "std          0.032366\n",
       "min          0.000000\n",
       "25%          0.005632\n",
       "50%          0.008390\n",
       "75%          0.011537\n",
       "max          0.903028\n",
       "dtype: float64"
      ]
     },
     "execution_count": 41,
     "metadata": {},
     "output_type": "execute_result"
    }
   ],
   "source": [
    "gene_corrs.describe()"
   ]
  },
  {
   "cell_type": "code",
   "execution_count": 42,
   "id": "b3815678-0f93-4b35-897b-a9d047a2aa78",
   "metadata": {
    "execution": {
     "iopub.execute_input": "2022-07-12T09:03:59.822109Z",
     "iopub.status.busy": "2022-07-12T09:03:59.821895Z",
     "iopub.status.idle": "2022-07-12T09:03:59.841306Z",
     "shell.execute_reply": "2022-07-12T09:03:59.840826Z"
    },
    "papermill": {
     "duration": 1.239094,
     "end_time": "2022-07-12T09:03:59.842572",
     "exception": false,
     "start_time": "2022-07-12T09:03:58.603478",
     "status": "completed"
    },
    "tags": []
   },
   "outputs": [
    {
     "data": {
      "text/plain": [
       "0.00    0.000000\n",
       "0.05    0.002202\n",
       "0.10    0.003353\n",
       "0.15    0.004254\n",
       "0.20    0.004974\n",
       "0.25    0.005632\n",
       "0.30    0.006212\n",
       "0.35    0.006760\n",
       "0.40    0.007272\n",
       "0.45    0.007821\n",
       "0.50    0.008390\n",
       "0.55    0.008939\n",
       "0.60    0.009528\n",
       "0.65    0.010141\n",
       "0.70    0.010811\n",
       "0.75    0.011537\n",
       "0.80    0.012388\n",
       "0.85    0.013459\n",
       "0.90    0.014872\n",
       "0.95    0.017422\n",
       "dtype: float64"
      ]
     },
     "metadata": {},
     "output_type": "display_data"
    }
   ],
   "source": [
    "gene_corrs_quantiles = gene_corrs.quantile(np.arange(0, 1, 0.05))\n",
    "display(gene_corrs_quantiles)"
   ]
  },
  {
   "cell_type": "markdown",
   "id": "8e60a080-edb2-4e9c-b2ef-22961693200c",
   "metadata": {
    "papermill": {
     "duration": 1.211367,
     "end_time": "2022-07-12T09:04:02.254169",
     "exception": false,
     "start_time": "2022-07-12T09:04:01.042802",
     "status": "completed"
    },
    "tags": []
   },
   "source": [
    "## Plot: distribution"
   ]
  },
  {
   "cell_type": "code",
   "execution_count": 43,
   "id": "8301126b-a7d4-4744-9c7d-f0f86eb6f54c",
   "metadata": {
    "execution": {
     "iopub.execute_input": "2022-07-12T09:04:04.651103Z",
     "iopub.status.busy": "2022-07-12T09:04:04.650903Z",
     "iopub.status.idle": "2022-07-12T09:04:08.162029Z",
     "shell.execute_reply": "2022-07-12T09:04:08.161475Z"
    },
    "papermill": {
     "duration": 4.727993,
     "end_time": "2022-07-12T09:04:08.163432",
     "exception": false,
     "start_time": "2022-07-12T09:04:03.435439",
     "status": "completed"
    },
    "tags": []
   },
   "outputs": [
    {
     "data": {
      "image/png": "[encoded data removed]",
      "text/plain": [
       "<Figure size 504x504 with 1 Axes>"
      ]
     },
     "metadata": {
      "needs_background": "light"
     },
     "output_type": "display_data"
    }
   ],
   "source": [
    "with sns.plotting_context(\"paper\", font_scale=1.5):\n",
    "    g = sns.displot(gene_corrs, kde=True, height=7)\n",
    "    g.ax.set_title(\n",
    "        f\"Distribution of gene correlation values in chromosome {chromosome}\"\n",
    "    )"
   ]
  },
  {
   "cell_type": "markdown",
   "id": "cbd52bca-d878-4a2f-b684-5c83aa3038d4",
   "metadata": {
    "papermill": {
     "duration": 1.16762,
     "end_time": "2022-07-12T09:04:10.494815",
     "exception": false,
     "start_time": "2022-07-12T09:04:09.327195",
     "status": "completed"
    },
    "tags": []
   },
   "source": [
    "## Plot: heatmap"
   ]
  },
  {
   "cell_type": "code",
   "execution_count": 44,
   "id": "d03fe63a-c7b2-4fb9-a53c-db362ce843c9",
   "metadata": {
    "execution": {
     "iopub.execute_input": "2022-07-12T09:04:12.911911Z",
     "iopub.status.busy": "2022-07-12T09:04:12.911691Z",
     "iopub.status.idle": "2022-07-12T09:04:12.929260Z",
     "shell.execute_reply": "2022-07-12T09:04:12.928851Z"
    },
    "papermill": {
     "duration": 1.216584,
     "end_time": "2022-07-12T09:04:12.930373",
     "exception": false,
     "start_time": "2022-07-12T09:04:11.713789",
     "status": "completed"
    },
    "tags": []
   },
   "outputs": [
    {
     "data": {
      "text/plain": [
       "'-0.05 / 0.05'"
      ]
     },
     "metadata": {},
     "output_type": "display_data"
    }
   ],
   "source": [
    "vmin_val = min(-0.05, gene_corrs_quantiles[0.10])\n",
    "vmax_val = max(0.05, gene_corrs_quantiles[0.90])\n",
    "display(f\"{vmin_val} / {vmax_val}\")"
   ]
  },
  {
   "cell_type": "code",
   "execution_count": 45,
   "id": "dc41b70b-5bcc-4d9e-9f33-a22c4a94dab5",
   "metadata": {
    "execution": {
     "iopub.execute_input": "2022-07-12T09:04:15.334699Z",
     "iopub.status.busy": "2022-07-12T09:04:15.334538Z",
     "iopub.status.idle": "2022-07-12T09:04:15.539983Z",
     "shell.execute_reply": "2022-07-12T09:04:15.539449Z"
    },
    "papermill": {
     "duration": 1.430473,
     "end_time": "2022-07-12T09:04:15.541486",
     "exception": false,
     "start_time": "2022-07-12T09:04:14.111013",
     "status": "completed"
    },
    "tags": []
   },
   "outputs": [
    {
     "data": {
      "text/plain": [
       "Text(0.5, 1.0, 'Gene correlations in chromosome 14')"
      ]
     },
     "execution_count": 45,
     "metadata": {},
     "output_type": "execute_result"
    },
    {
     "data": {
      "image/png": "[encoded data removed]",
      "text/plain": [
       "<Figure size 720x720 with 2 Axes>"
      ]
     },
     "metadata": {
      "needs_background": "light"
     },
     "output_type": "display_data"
    }
   ],
   "source": [
    "f, ax = plt.subplots(figsize=(10, 10))\n",
    "sns.heatmap(\n",
    "    gene_corrs_df,\n",
    "    xticklabels=False,\n",
    "    yticklabels=False,\n",
    "    square=True,\n",
    "    vmin=vmin_val,\n",
    "    vmax=vmax_val,\n",
    "    cmap=\"YlGnBu\",\n",
    "    ax=ax,\n",
    ")\n",
    "ax.set_title(f\"Gene correlations in chromosome {chromosome}\")"
   ]
  },
  {
   "cell_type": "code",
   "execution_count": null,
   "id": "b25e3ead",
   "metadata": {
    "papermill": {
     "duration": 1.163109,
     "end_time": "2022-07-12T09:04:17.909520",
     "exception": false,
     "start_time": "2022-07-12T09:04:16.746411",
     "status": "completed"
    },
    "tags": []
   },
   "outputs": [],
   "source": []
  }
 ],
 "metadata": {
  "jupytext": {
   "cell_metadata_filter": "all,-execution,-papermill,-trusted",
   "formats": "ipynb,py//py:percent"
  },
  "kernelspec": {
   "display_name": "Python 3 (ipykernel)",
   "language": "python",
   "name": "python3"
  },
  "language_info": {
   "codemirror_mode": {
    "name": "ipython",
    "version": 3
   },
   "file_extension": ".py",
   "mimetype": "text/x-python",
   "name": "python",
   "nbconvert_exporter": "python",
   "pygments_lexer": "ipython3",
   "version": "3.8.13"
  },
  "papermill": {
   "default_parameters": {},
   "duration": 1789.683953,
   "end_time": "2022-07-12T09:04:22.544744",
   "environment_variables": {},
   "exception": null,
   "input_path": "nbs/15_gsa_gls/10-gene_expr_correlations.ipynb",
   "output_path": "nbs/15_gsa_gls/gene_corrs/1000g/mashr/10-gene_expr_correlations-chr14.run.ipynb",
   "parameters": {
    "EQTL_MODEL": "MASHR",
    "REFERENCE_PANEL": "1000G",
    "chromosome": 14
   },
   "start_time": "2022-07-12T08:34:32.860791",
   "version": "2.2.2"
  }
 },
 "nbformat": 4,
 "nbformat_minor": 5
}
