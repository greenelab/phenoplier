{
 "cells": [
  {
   "cell_type": "markdown",
   "id": "7a6632fb",
   "metadata": {
    "papermill": {
     "duration": 0.014018,
     "end_time": "2022-07-11T07:18:10.264212",
     "exception": false,
     "start_time": "2022-07-11T07:18:10.250194",
     "status": "completed"
    },
    "tags": []
   },
   "source": [
    "# Description"
   ]
  },
  {
   "cell_type": "markdown",
   "id": "7097c346",
   "metadata": {
    "papermill": {
     "duration": 0.011274,
     "end_time": "2022-07-11T07:18:10.280779",
     "exception": false,
     "start_time": "2022-07-11T07:18:10.269505",
     "status": "completed"
    },
    "tags": []
   },
   "source": [
    "(Please, take a look at the README.md file in this directory for instructions on how to run this notebook)\n",
    "\n",
    "This notebook computes predicted expression correlations between all genes in the MultiPLIER models.\n",
    "\n",
    "It also has a parameter set for papermill to run on a single chromosome to run in parallel (see under `Settings` below).\n",
    "\n",
    "This notebook is not directly run. See README.md."
   ]
  },
  {
   "cell_type": "markdown",
   "id": "c61d8427",
   "metadata": {
    "papermill": {
     "duration": 0.013177,
     "end_time": "2022-07-11T07:18:10.305940",
     "exception": false,
     "start_time": "2022-07-11T07:18:10.292763",
     "status": "completed"
    },
    "tags": []
   },
   "source": [
    "# Modules"
   ]
  },
  {
   "cell_type": "code",
   "execution_count": 1,
   "id": "bbc0234f",
   "metadata": {
    "execution": {
     "iopub.execute_input": "2022-07-11T07:18:10.325717Z",
     "iopub.status.busy": "2022-07-11T07:18:10.325525Z",
     "iopub.status.idle": "2022-07-11T07:18:10.356883Z",
     "shell.execute_reply": "2022-07-11T07:18:10.356463Z"
    },
    "papermill": {
     "duration": 0.047067,
     "end_time": "2022-07-11T07:18:10.358292",
     "exception": false,
     "start_time": "2022-07-11T07:18:10.311225",
     "status": "completed"
    },
    "tags": []
   },
   "outputs": [],
   "source": [
    "%load_ext autoreload\n",
    "%autoreload 2"
   ]
  },
  {
   "cell_type": "code",
   "execution_count": 2,
   "id": "1d5f5a59",
   "metadata": {
    "execution": {
     "iopub.execute_input": "2022-07-11T07:18:10.381352Z",
     "iopub.status.busy": "2022-07-11T07:18:10.381196Z",
     "iopub.status.idle": "2022-07-11T07:18:11.287589Z",
     "shell.execute_reply": "2022-07-11T07:18:11.287103Z"
    },
    "papermill": {
     "duration": 0.922271,
     "end_time": "2022-07-11T07:18:11.288990",
     "exception": false,
     "start_time": "2022-07-11T07:18:10.366719",
     "status": "completed"
    },
    "tags": []
   },
   "outputs": [],
   "source": [
    "from random import sample, seed\n",
    "import warnings\n",
    "from pathlib import Path\n",
    "\n",
    "import numpy as np\n",
    "from scipy.spatial.distance import squareform\n",
    "import pandas as pd\n",
    "from tqdm import tqdm\n",
    "import matplotlib.pyplot as plt\n",
    "import seaborn as sns\n",
    "\n",
    "import conf\n",
    "from entity import Gene"
   ]
  },
  {
   "cell_type": "markdown",
   "id": "1eac24b5",
   "metadata": {
    "papermill": {
     "duration": 0.011399,
     "end_time": "2022-07-11T07:18:11.364785",
     "exception": false,
     "start_time": "2022-07-11T07:18:11.353386",
     "status": "completed"
    },
    "tags": []
   },
   "source": [
    "# Settings"
   ]
  },
  {
   "cell_type": "code",
   "execution_count": 3,
   "id": "ca4560ba",
   "metadata": {
    "execution": {
     "iopub.execute_input": "2022-07-11T07:18:11.382192Z",
     "iopub.status.busy": "2022-07-11T07:18:11.382020Z",
     "iopub.status.idle": "2022-07-11T07:18:11.396440Z",
     "shell.execute_reply": "2022-07-11T07:18:11.395900Z"
    },
    "papermill": {
     "duration": 0.021836,
     "end_time": "2022-07-11T07:18:11.397754",
     "exception": false,
     "start_time": "2022-07-11T07:18:11.375918",
     "status": "completed"
    },
    "tags": [
     "parameters"
    ]
   },
   "outputs": [],
   "source": [
    "# reference panel\n",
    "REFERENCE_PANEL = \"GTEX_V8\"\n",
    "# REFERENCE_PANEL = \"1000G\"\n",
    "\n",
    "# prediction models\n",
    "## mashr\n",
    "EQTL_MODEL = \"MASHR\"\n",
    "\n",
    "# this is the default value used in S-MultiXcan to select the\n",
    "# top principal components of the expression correlation matrix\n",
    "SMULTIXCAN_CONDITION_NUMBER = 30\n",
    "\n",
    "# specifies a single chromosome value\n",
    "# by default, run on all chromosomes\n",
    "chromosome = None"
   ]
  },
  {
   "cell_type": "code",
   "execution_count": 4,
   "id": "e5e9b664",
   "metadata": {
    "execution": {
     "iopub.execute_input": "2022-07-11T07:18:11.414399Z",
     "iopub.status.busy": "2022-07-11T07:18:11.414234Z",
     "iopub.status.idle": "2022-07-11T07:18:11.437906Z",
     "shell.execute_reply": "2022-07-11T07:18:11.437518Z"
    },
    "papermill": {
     "duration": 0.035642,
     "end_time": "2022-07-11T07:18:11.439120",
     "exception": false,
     "start_time": "2022-07-11T07:18:11.403478",
     "status": "completed"
    },
    "tags": [
     "injected-parameters"
    ]
   },
   "outputs": [],
   "source": [
    "# Parameters\n",
    "chromosome = 14\n",
    "REFERENCE_PANEL = \"1000G\"\n",
    "EQTL_MODEL = \"MASHR\"\n"
   ]
  },
  {
   "cell_type": "code",
   "execution_count": 5,
   "id": "a089c9ff",
   "metadata": {
    "execution": {
     "iopub.execute_input": "2022-07-11T07:18:11.458880Z",
     "iopub.status.busy": "2022-07-11T07:18:11.458717Z",
     "iopub.status.idle": "2022-07-11T07:18:11.488730Z",
     "shell.execute_reply": "2022-07-11T07:18:11.488309Z"
    },
    "papermill": {
     "duration": 0.043368,
     "end_time": "2022-07-11T07:18:11.490016",
     "exception": false,
     "start_time": "2022-07-11T07:18:11.446648",
     "status": "completed"
    },
    "tags": []
   },
   "outputs": [],
   "source": [
    "EQTL_MODEL_FILES_PREFIX = conf.PHENOMEXCAN[\"PREDICTION_MODELS\"][f\"{EQTL_MODEL}_PREFIX\"]"
   ]
  },
  {
   "cell_type": "code",
   "execution_count": 6,
   "id": "8fe24bef",
   "metadata": {
    "execution": {
     "iopub.execute_input": "2022-07-11T07:18:11.501969Z",
     "iopub.status.busy": "2022-07-11T07:18:11.501804Z",
     "iopub.status.idle": "2022-07-11T07:18:11.519951Z",
     "shell.execute_reply": "2022-07-11T07:18:11.519555Z"
    },
    "papermill": {
     "duration": 0.025755,
     "end_time": "2022-07-11T07:18:11.521300",
     "exception": false,
     "start_time": "2022-07-11T07:18:11.495545",
     "status": "completed"
    },
    "tags": []
   },
   "outputs": [
    {
     "data": {
      "text/plain": [
       "'Using eQTL model: MASHR / mashr_'"
      ]
     },
     "metadata": {},
     "output_type": "display_data"
    }
   ],
   "source": [
    "display(f\"Using eQTL model: {EQTL_MODEL} / {EQTL_MODEL_FILES_PREFIX}\")"
   ]
  },
  {
   "cell_type": "code",
   "execution_count": 7,
   "id": "552a7f63-a18c-4d3e-bb6a-94f99b431291",
   "metadata": {
    "execution": {
     "iopub.execute_input": "2022-07-11T07:18:11.533539Z",
     "iopub.status.busy": "2022-07-11T07:18:11.533381Z",
     "iopub.status.idle": "2022-07-11T07:18:11.549998Z",
     "shell.execute_reply": "2022-07-11T07:18:11.549625Z"
    },
    "papermill": {
     "duration": 0.024236,
     "end_time": "2022-07-11T07:18:11.551300",
     "exception": false,
     "start_time": "2022-07-11T07:18:11.527064",
     "status": "completed"
    },
    "tags": []
   },
   "outputs": [
    {
     "data": {
      "text/plain": [
       "'S-MultiXcan condition number: 30'"
      ]
     },
     "metadata": {},
     "output_type": "display_data"
    }
   ],
   "source": [
    "display(f\"S-MultiXcan condition number: {SMULTIXCAN_CONDITION_NUMBER}\")"
   ]
  },
  {
   "cell_type": "code",
   "execution_count": 8,
   "id": "0230ebcb-2c32-4b95-9292-d9a52038e70d",
   "metadata": {
    "execution": {
     "iopub.execute_input": "2022-07-11T07:18:11.563416Z",
     "iopub.status.busy": "2022-07-11T07:18:11.563264Z",
     "iopub.status.idle": "2022-07-11T07:18:11.578123Z",
     "shell.execute_reply": "2022-07-11T07:18:11.577724Z"
    },
    "papermill": {
     "duration": 0.022422,
     "end_time": "2022-07-11T07:18:11.579613",
     "exception": false,
     "start_time": "2022-07-11T07:18:11.557191",
     "status": "completed"
    },
    "tags": []
   },
   "outputs": [],
   "source": [
    "REFERENCE_PANEL_DIR = conf.PHENOMEXCAN[\"LD_BLOCKS\"][f\"{REFERENCE_PANEL}_GENOTYPE_DIR\"]"
   ]
  },
  {
   "cell_type": "code",
   "execution_count": 9,
   "id": "98c4a159-601d-4a22-a1ab-35bd451c25f9",
   "metadata": {
    "execution": {
     "iopub.execute_input": "2022-07-11T07:18:11.594691Z",
     "iopub.status.busy": "2022-07-11T07:18:11.594324Z",
     "iopub.status.idle": "2022-07-11T07:18:11.610453Z",
     "shell.execute_reply": "2022-07-11T07:18:11.609843Z"
    },
    "papermill": {
     "duration": 0.023737,
     "end_time": "2022-07-11T07:18:11.611791",
     "exception": false,
     "start_time": "2022-07-11T07:18:11.588054",
     "status": "completed"
    },
    "tags": []
   },
   "outputs": [
    {
     "data": {
      "text/plain": [
       "'Using reference panel folder: /opt/data/data/phenomexcan/ld_blocks/reference_panel_1000G'"
      ]
     },
     "metadata": {},
     "output_type": "display_data"
    }
   ],
   "source": [
    "display(f\"Using reference panel folder: {str(REFERENCE_PANEL_DIR)}\")"
   ]
  },
  {
   "cell_type": "code",
   "execution_count": 10,
   "id": "396392dc-0340-4540-9b02-e182b833f909",
   "metadata": {
    "execution": {
     "iopub.execute_input": "2022-07-11T07:18:11.639741Z",
     "iopub.status.busy": "2022-07-11T07:18:11.636569Z",
     "iopub.status.idle": "2022-07-11T07:18:11.668710Z",
     "shell.execute_reply": "2022-07-11T07:18:11.668302Z"
    },
    "papermill": {
     "duration": 0.045624,
     "end_time": "2022-07-11T07:18:11.669984",
     "exception": false,
     "start_time": "2022-07-11T07:18:11.624360",
     "status": "completed"
    },
    "tags": []
   },
   "outputs": [],
   "source": [
    "OUTPUT_DIR_BASE = (\n",
    "    conf.PHENOMEXCAN[\"LD_BLOCKS\"][f\"GENE_CORRS_DIR\"]\n",
    "    / REFERENCE_PANEL.lower()\n",
    "    / EQTL_MODEL.lower()\n",
    ")\n",
    "OUTPUT_DIR_BASE.mkdir(parents=True, exist_ok=True)"
   ]
  },
  {
   "cell_type": "code",
   "execution_count": 11,
   "id": "8942c2d3-e53c-4d63-a0eb-b6fce0574d36",
   "metadata": {
    "execution": {
     "iopub.execute_input": "2022-07-11T07:18:11.695660Z",
     "iopub.status.busy": "2022-07-11T07:18:11.691502Z",
     "iopub.status.idle": "2022-07-11T07:18:11.710112Z",
     "shell.execute_reply": "2022-07-11T07:18:11.709625Z"
    },
    "papermill": {
     "duration": 0.031966,
     "end_time": "2022-07-11T07:18:11.711348",
     "exception": false,
     "start_time": "2022-07-11T07:18:11.679382",
     "status": "completed"
    },
    "tags": []
   },
   "outputs": [
    {
     "data": {
      "text/plain": [
       "'Using output dir base: /opt/data/data/phenomexcan/ld_blocks/gene_corrs/1000g/mashr'"
      ]
     },
     "metadata": {},
     "output_type": "display_data"
    }
   ],
   "source": [
    "display(f\"Using output dir base: {OUTPUT_DIR_BASE}\")"
   ]
  },
  {
   "cell_type": "code",
   "execution_count": 12,
   "id": "408aa590",
   "metadata": {
    "execution": {
     "iopub.execute_input": "2022-07-11T07:18:11.724659Z",
     "iopub.status.busy": "2022-07-11T07:18:11.724489Z",
     "iopub.status.idle": "2022-07-11T07:18:11.739796Z",
     "shell.execute_reply": "2022-07-11T07:18:11.739310Z"
    },
    "papermill": {
     "duration": 0.023485,
     "end_time": "2022-07-11T07:18:11.741114",
     "exception": false,
     "start_time": "2022-07-11T07:18:11.717629",
     "status": "completed"
    },
    "tags": []
   },
   "outputs": [],
   "source": [
    "assert (\n",
    "    chromosome is not None\n",
    "), \"You have to select one chromosome (format: number between 1 and 22)\""
   ]
  },
  {
   "cell_type": "code",
   "execution_count": 13,
   "id": "c1c7dd06-80ff-453c-bcb7-0899edce75da",
   "metadata": {
    "execution": {
     "iopub.execute_input": "2022-07-11T07:18:11.762811Z",
     "iopub.status.busy": "2022-07-11T07:18:11.762371Z",
     "iopub.status.idle": "2022-07-11T07:18:11.794642Z",
     "shell.execute_reply": "2022-07-11T07:18:11.794226Z"
    },
    "papermill": {
     "duration": 0.048679,
     "end_time": "2022-07-11T07:18:11.796150",
     "exception": false,
     "start_time": "2022-07-11T07:18:11.747471",
     "status": "completed"
    },
    "tags": []
   },
   "outputs": [],
   "source": [
    "chromosome = str(chromosome)"
   ]
  },
  {
   "cell_type": "code",
   "execution_count": 14,
   "id": "bc17b84c-9c26-47a5-a3ab-7046e72f3ef4",
   "metadata": {
    "execution": {
     "iopub.execute_input": "2022-07-11T07:18:11.816978Z",
     "iopub.status.busy": "2022-07-11T07:18:11.816817Z",
     "iopub.status.idle": "2022-07-11T07:18:11.833348Z",
     "shell.execute_reply": "2022-07-11T07:18:11.832868Z"
    },
    "papermill": {
     "duration": 0.024191,
     "end_time": "2022-07-11T07:18:11.834543",
     "exception": false,
     "start_time": "2022-07-11T07:18:11.810352",
     "status": "completed"
    },
    "tags": []
   },
   "outputs": [
    {
     "data": {
      "text/plain": [
       "'Working on chromosome 14'"
      ]
     },
     "metadata": {},
     "output_type": "display_data"
    }
   ],
   "source": [
    "display(f\"Working on chromosome {chromosome}\")"
   ]
  },
  {
   "cell_type": "markdown",
   "id": "d2ba085e",
   "metadata": {
    "papermill": {
     "duration": 0.007709,
     "end_time": "2022-07-11T07:18:11.848323",
     "exception": false,
     "start_time": "2022-07-11T07:18:11.840614",
     "status": "completed"
    },
    "tags": []
   },
   "source": [
    "# Load data"
   ]
  },
  {
   "cell_type": "markdown",
   "id": "7bed0ce0-e7c7-4300-9a61-5412450b1904",
   "metadata": {
    "papermill": {
     "duration": 0.005824,
     "end_time": "2022-07-11T07:18:11.860244",
     "exception": false,
     "start_time": "2022-07-11T07:18:11.854420",
     "status": "completed"
    },
    "tags": []
   },
   "source": [
    "## Prediction model tissues"
   ]
  },
  {
   "cell_type": "code",
   "execution_count": 15,
   "id": "0847c065-0d69-4830-a07f-1c75115d17f5",
   "metadata": {
    "execution": {
     "iopub.execute_input": "2022-07-11T07:18:11.872973Z",
     "iopub.status.busy": "2022-07-11T07:18:11.872806Z",
     "iopub.status.idle": "2022-07-11T07:18:11.896206Z",
     "shell.execute_reply": "2022-07-11T07:18:11.895822Z"
    },
    "papermill": {
     "duration": 0.031287,
     "end_time": "2022-07-11T07:18:11.897472",
     "exception": false,
     "start_time": "2022-07-11T07:18:11.866185",
     "status": "completed"
    },
    "tags": []
   },
   "outputs": [],
   "source": [
    "prediction_model_tissues = conf.PHENOMEXCAN[\"PREDICTION_MODELS\"][\n",
    "    f\"{EQTL_MODEL}_TISSUES\"\n",
    "].split(\" \")"
   ]
  },
  {
   "cell_type": "code",
   "execution_count": 16,
   "id": "aaef70d1-30c6-4c6f-9d6b-abc8e9a0081f",
   "metadata": {
    "execution": {
     "iopub.execute_input": "2022-07-11T07:18:11.918484Z",
     "iopub.status.busy": "2022-07-11T07:18:11.918325Z",
     "iopub.status.idle": "2022-07-11T07:18:11.934814Z",
     "shell.execute_reply": "2022-07-11T07:18:11.934435Z"
    },
    "papermill": {
     "duration": 0.024444,
     "end_time": "2022-07-11T07:18:11.936248",
     "exception": false,
     "start_time": "2022-07-11T07:18:11.911804",
     "status": "completed"
    },
    "tags": []
   },
   "outputs": [
    {
     "data": {
      "text/plain": [
       "49"
      ]
     },
     "execution_count": 16,
     "metadata": {},
     "output_type": "execute_result"
    }
   ],
   "source": [
    "len(prediction_model_tissues)"
   ]
  },
  {
   "cell_type": "code",
   "execution_count": 17,
   "id": "ff35a099-c52d-465d-b863-0ee70c26208c",
   "metadata": {
    "execution": {
     "iopub.execute_input": "2022-07-11T07:18:11.949768Z",
     "iopub.status.busy": "2022-07-11T07:18:11.949601Z",
     "iopub.status.idle": "2022-07-11T07:18:11.966626Z",
     "shell.execute_reply": "2022-07-11T07:18:11.966245Z"
    },
    "papermill": {
     "duration": 0.025303,
     "end_time": "2022-07-11T07:18:11.967961",
     "exception": false,
     "start_time": "2022-07-11T07:18:11.942658",
     "status": "completed"
    },
    "tags": []
   },
   "outputs": [
    {
     "data": {
      "text/plain": [
       "['Skin_Not_Sun_Exposed_Suprapubic',\n",
       " 'Cells_EBV-transformed_lymphocytes',\n",
       " 'Brain_Frontal_Cortex_BA9',\n",
       " 'Kidney_Cortex',\n",
       " 'Brain_Substantia_nigra']"
      ]
     },
     "execution_count": 17,
     "metadata": {},
     "output_type": "execute_result"
    }
   ],
   "source": [
    "prediction_model_tissues[:5]"
   ]
  },
  {
   "cell_type": "markdown",
   "id": "abcc4b3d",
   "metadata": {
    "papermill": {
     "duration": 0.006094,
     "end_time": "2022-07-11T07:18:11.980779",
     "exception": false,
     "start_time": "2022-07-11T07:18:11.974685",
     "status": "completed"
    },
    "tags": []
   },
   "source": [
    "## MultiPLIER Z"
   ]
  },
  {
   "cell_type": "code",
   "execution_count": 18,
   "id": "c48ef527",
   "metadata": {
    "execution": {
     "iopub.execute_input": "2022-07-11T07:18:11.994196Z",
     "iopub.status.busy": "2022-07-11T07:18:11.993794Z",
     "iopub.status.idle": "2022-07-11T07:18:12.034262Z",
     "shell.execute_reply": "2022-07-11T07:18:12.033826Z"
    },
    "papermill": {
     "duration": 0.04861,
     "end_time": "2022-07-11T07:18:12.035639",
     "exception": false,
     "start_time": "2022-07-11T07:18:11.987029",
     "status": "completed"
    },
    "tags": []
   },
   "outputs": [],
   "source": [
    "multiplier_z_genes = pd.read_pickle(\n",
    "    conf.MULTIPLIER[\"MODEL_Z_MATRIX_FILE\"]\n",
    ").index.tolist()"
   ]
  },
  {
   "cell_type": "code",
   "execution_count": 19,
   "id": "0a4ecbd9",
   "metadata": {
    "execution": {
     "iopub.execute_input": "2022-07-11T07:18:12.051132Z",
     "iopub.status.busy": "2022-07-11T07:18:12.050706Z",
     "iopub.status.idle": "2022-07-11T07:18:12.067500Z",
     "shell.execute_reply": "2022-07-11T07:18:12.067096Z"
    },
    "papermill": {
     "duration": 0.026583,
     "end_time": "2022-07-11T07:18:12.068827",
     "exception": false,
     "start_time": "2022-07-11T07:18:12.042244",
     "status": "completed"
    },
    "tags": []
   },
   "outputs": [
    {
     "data": {
      "text/plain": [
       "6750"
      ]
     },
     "execution_count": 19,
     "metadata": {},
     "output_type": "execute_result"
    }
   ],
   "source": [
    "len(multiplier_z_genes)"
   ]
  },
  {
   "cell_type": "code",
   "execution_count": 20,
   "id": "115e8864",
   "metadata": {
    "execution": {
     "iopub.execute_input": "2022-07-11T07:18:12.083228Z",
     "iopub.status.busy": "2022-07-11T07:18:12.082853Z",
     "iopub.status.idle": "2022-07-11T07:18:12.099120Z",
     "shell.execute_reply": "2022-07-11T07:18:12.098739Z"
    },
    "papermill": {
     "duration": 0.024369,
     "end_time": "2022-07-11T07:18:12.100371",
     "exception": false,
     "start_time": "2022-07-11T07:18:12.076002",
     "status": "completed"
    },
    "tags": []
   },
   "outputs": [
    {
     "data": {
      "text/plain": [
       "['GAS6',\n",
       " 'MMP14',\n",
       " 'DSP',\n",
       " 'MARCKSL1',\n",
       " 'SPARC',\n",
       " 'CTSD',\n",
       " 'EPAS1',\n",
       " 'PALLD',\n",
       " 'PHC2',\n",
       " 'LGALS3BP']"
      ]
     },
     "execution_count": 20,
     "metadata": {},
     "output_type": "execute_result"
    }
   ],
   "source": [
    "multiplier_z_genes[:10]"
   ]
  },
  {
   "cell_type": "markdown",
   "id": "7dcb8db7",
   "metadata": {
    "papermill": {
     "duration": 0.014262,
     "end_time": "2022-07-11T07:18:12.129241",
     "exception": false,
     "start_time": "2022-07-11T07:18:12.114979",
     "status": "completed"
    },
    "tags": []
   },
   "source": [
    "## Get gene objects"
   ]
  },
  {
   "cell_type": "code",
   "execution_count": 21,
   "id": "bb932812",
   "metadata": {
    "execution": {
     "iopub.execute_input": "2022-07-11T07:18:12.143270Z",
     "iopub.status.busy": "2022-07-11T07:18:12.142770Z",
     "iopub.status.idle": "2022-07-11T07:18:12.164034Z",
     "shell.execute_reply": "2022-07-11T07:18:12.163555Z"
    },
    "papermill": {
     "duration": 0.029689,
     "end_time": "2022-07-11T07:18:12.165403",
     "exception": false,
     "start_time": "2022-07-11T07:18:12.135714",
     "status": "completed"
    },
    "tags": []
   },
   "outputs": [],
   "source": [
    "multiplier_gene_obj = {\n",
    "    gene_name: Gene(name=gene_name)\n",
    "    for gene_name in multiplier_z_genes\n",
    "    if gene_name in Gene.GENE_NAME_TO_ID_MAP\n",
    "}"
   ]
  },
  {
   "cell_type": "code",
   "execution_count": 22,
   "id": "39533214",
   "metadata": {
    "execution": {
     "iopub.execute_input": "2022-07-11T07:18:12.179690Z",
     "iopub.status.busy": "2022-07-11T07:18:12.179504Z",
     "iopub.status.idle": "2022-07-11T07:18:12.204106Z",
     "shell.execute_reply": "2022-07-11T07:18:12.203707Z"
    },
    "papermill": {
     "duration": 0.032974,
     "end_time": "2022-07-11T07:18:12.205318",
     "exception": false,
     "start_time": "2022-07-11T07:18:12.172344",
     "status": "completed"
    },
    "tags": []
   },
   "outputs": [
    {
     "data": {
      "text/plain": [
       "6454"
      ]
     },
     "execution_count": 22,
     "metadata": {},
     "output_type": "execute_result"
    }
   ],
   "source": [
    "len(multiplier_gene_obj)"
   ]
  },
  {
   "cell_type": "code",
   "execution_count": 23,
   "id": "9a5d0b84",
   "metadata": {
    "execution": {
     "iopub.execute_input": "2022-07-11T07:18:12.236756Z",
     "iopub.status.busy": "2022-07-11T07:18:12.236597Z",
     "iopub.status.idle": "2022-07-11T07:18:12.259833Z",
     "shell.execute_reply": "2022-07-11T07:18:12.256722Z"
    },
    "papermill": {
     "duration": 0.040956,
     "end_time": "2022-07-11T07:18:12.261049",
     "exception": false,
     "start_time": "2022-07-11T07:18:12.220093",
     "status": "completed"
    },
    "tags": []
   },
   "outputs": [
    {
     "data": {
      "text/plain": [
       "'ENSG00000183087'"
      ]
     },
     "execution_count": 23,
     "metadata": {},
     "output_type": "execute_result"
    }
   ],
   "source": [
    "multiplier_gene_obj[\"GAS6\"].ensembl_id"
   ]
  },
  {
   "cell_type": "code",
   "execution_count": 24,
   "id": "e3ffabc7",
   "metadata": {
    "execution": {
     "iopub.execute_input": "2022-07-11T07:18:12.275279Z",
     "iopub.status.busy": "2022-07-11T07:18:12.274983Z",
     "iopub.status.idle": "2022-07-11T07:18:14.584543Z",
     "shell.execute_reply": "2022-07-11T07:18:14.584145Z"
    },
    "papermill": {
     "duration": 2.318239,
     "end_time": "2022-07-11T07:18:14.585972",
     "exception": false,
     "start_time": "2022-07-11T07:18:12.267733",
     "status": "completed"
    },
    "tags": []
   },
   "outputs": [],
   "source": [
    "_gene_obj = list(multiplier_gene_obj.values())\n",
    "\n",
    "genes_info = pd.DataFrame(\n",
    "    {\n",
    "        \"name\": [g.name for g in _gene_obj],\n",
    "        \"id\": [g.ensembl_id for g in _gene_obj],\n",
    "        \"chr\": [g.chromosome for g in _gene_obj],\n",
    "        \"band\": [g.band for g in _gene_obj],\n",
    "        \"start_position\": [g.get_attribute(\"start_position\") for g in _gene_obj],\n",
    "    }\n",
    ")"
   ]
  },
  {
   "cell_type": "code",
   "execution_count": 25,
   "id": "e23519b8",
   "metadata": {
    "execution": {
     "iopub.execute_input": "2022-07-11T07:18:14.610490Z",
     "iopub.status.busy": "2022-07-11T07:18:14.610285Z",
     "iopub.status.idle": "2022-07-11T07:18:14.634507Z",
     "shell.execute_reply": "2022-07-11T07:18:14.634135Z"
    },
    "papermill": {
     "duration": 0.039446,
     "end_time": "2022-07-11T07:18:14.635660",
     "exception": false,
     "start_time": "2022-07-11T07:18:14.596214",
     "status": "completed"
    },
    "tags": []
   },
   "outputs": [
    {
     "data": {
      "text/plain": [
       "(6454, 5)"
      ]
     },
     "execution_count": 25,
     "metadata": {},
     "output_type": "execute_result"
    }
   ],
   "source": [
    "genes_info.shape"
   ]
  },
  {
   "cell_type": "code",
   "execution_count": 26,
   "id": "0d71881c",
   "metadata": {
    "execution": {
     "iopub.execute_input": "2022-07-11T07:18:14.658525Z",
     "iopub.status.busy": "2022-07-11T07:18:14.658359Z",
     "iopub.status.idle": "2022-07-11T07:18:14.692818Z",
     "shell.execute_reply": "2022-07-11T07:18:14.692437Z"
    },
    "papermill": {
     "duration": 0.043333,
     "end_time": "2022-07-11T07:18:14.693965",
     "exception": false,
     "start_time": "2022-07-11T07:18:14.650632",
     "status": "completed"
    },
    "tags": []
   },
   "outputs": [
    {
     "data": {
      "text/html": [
       "<div>\n",
       "<style scoped>\n",
       "    .dataframe tbody tr th:only-of-type {\n",
       "        vertical-align: middle;\n",
       "    }\n",
       "\n",
       "    .dataframe tbody tr th {\n",
       "        vertical-align: top;\n",
       "    }\n",
       "\n",
       "    .dataframe thead th {\n",
       "        text-align: right;\n",
       "    }\n",
       "</style>\n",
       "<table border=\"1\" class=\"dataframe\">\n",
       "  <thead>\n",
       "    <tr style=\"text-align: right;\">\n",
       "      <th></th>\n",
       "      <th>name</th>\n",
       "      <th>id</th>\n",
       "      <th>chr</th>\n",
       "      <th>band</th>\n",
       "      <th>start_position</th>\n",
       "    </tr>\n",
       "  </thead>\n",
       "  <tbody>\n",
       "    <tr>\n",
       "      <th>0</th>\n",
       "      <td>GAS6</td>\n",
       "      <td>ENSG00000183087</td>\n",
       "      <td>13</td>\n",
       "      <td>13q34</td>\n",
       "      <td>113820549.0</td>\n",
       "    </tr>\n",
       "    <tr>\n",
       "      <th>1</th>\n",
       "      <td>MMP14</td>\n",
       "      <td>ENSG00000157227</td>\n",
       "      <td>14</td>\n",
       "      <td>14q11.2</td>\n",
       "      <td>22836560.0</td>\n",
       "    </tr>\n",
       "    <tr>\n",
       "      <th>2</th>\n",
       "      <td>DSP</td>\n",
       "      <td>ENSG00000096696</td>\n",
       "      <td>6</td>\n",
       "      <td>6p24.3</td>\n",
       "      <td>7541617.0</td>\n",
       "    </tr>\n",
       "    <tr>\n",
       "      <th>3</th>\n",
       "      <td>MARCKSL1</td>\n",
       "      <td>ENSG00000175130</td>\n",
       "      <td>1</td>\n",
       "      <td>1p35.1</td>\n",
       "      <td>32333839.0</td>\n",
       "    </tr>\n",
       "    <tr>\n",
       "      <th>4</th>\n",
       "      <td>SPARC</td>\n",
       "      <td>ENSG00000113140</td>\n",
       "      <td>5</td>\n",
       "      <td>5q33.1</td>\n",
       "      <td>151661096.0</td>\n",
       "    </tr>\n",
       "  </tbody>\n",
       "</table>\n",
       "</div>"
      ],
      "text/plain": [
       "       name               id chr     band  start_position\n",
       "0      GAS6  ENSG00000183087  13    13q34     113820549.0\n",
       "1     MMP14  ENSG00000157227  14  14q11.2      22836560.0\n",
       "2       DSP  ENSG00000096696   6   6p24.3       7541617.0\n",
       "3  MARCKSL1  ENSG00000175130   1   1p35.1      32333839.0\n",
       "4     SPARC  ENSG00000113140   5   5q33.1     151661096.0"
      ]
     },
     "execution_count": 26,
     "metadata": {},
     "output_type": "execute_result"
    }
   ],
   "source": [
    "genes_info.head()"
   ]
  },
  {
   "cell_type": "markdown",
   "id": "c8d1038f",
   "metadata": {
    "papermill": {
     "duration": 0.013544,
     "end_time": "2022-07-11T07:18:14.718877",
     "exception": false,
     "start_time": "2022-07-11T07:18:14.705333",
     "status": "completed"
    },
    "tags": []
   },
   "source": [
    "# Test"
   ]
  },
  {
   "cell_type": "code",
   "execution_count": 27,
   "id": "64993abf",
   "metadata": {
    "execution": {
     "iopub.execute_input": "2022-07-11T07:18:14.743310Z",
     "iopub.status.busy": "2022-07-11T07:18:14.742813Z",
     "iopub.status.idle": "2022-07-11T07:18:14.766835Z",
     "shell.execute_reply": "2022-07-11T07:18:14.766372Z"
    },
    "papermill": {
     "duration": 0.035161,
     "end_time": "2022-07-11T07:18:14.768046",
     "exception": false,
     "start_time": "2022-07-11T07:18:14.732885",
     "status": "completed"
    },
    "tags": []
   },
   "outputs": [
    {
     "data": {
      "text/html": [
       "<div>\n",
       "<style scoped>\n",
       "    .dataframe tbody tr th:only-of-type {\n",
       "        vertical-align: middle;\n",
       "    }\n",
       "\n",
       "    .dataframe tbody tr th {\n",
       "        vertical-align: top;\n",
       "    }\n",
       "\n",
       "    .dataframe thead th {\n",
       "        text-align: right;\n",
       "    }\n",
       "</style>\n",
       "<table border=\"1\" class=\"dataframe\">\n",
       "  <thead>\n",
       "    <tr style=\"text-align: right;\">\n",
       "      <th></th>\n",
       "      <th>name</th>\n",
       "      <th>id</th>\n",
       "      <th>chr</th>\n",
       "      <th>band</th>\n",
       "      <th>start_position</th>\n",
       "    </tr>\n",
       "  </thead>\n",
       "  <tbody>\n",
       "    <tr>\n",
       "      <th>1</th>\n",
       "      <td>MMP14</td>\n",
       "      <td>ENSG00000157227</td>\n",
       "      <td>14</td>\n",
       "      <td>14q11.2</td>\n",
       "      <td>22836560.0</td>\n",
       "    </tr>\n",
       "    <tr>\n",
       "      <th>57</th>\n",
       "      <td>IFI27</td>\n",
       "      <td>ENSG00000165949</td>\n",
       "      <td>14</td>\n",
       "      <td>14q32.12</td>\n",
       "      <td>94104836.0</td>\n",
       "    </tr>\n",
       "    <tr>\n",
       "      <th>62</th>\n",
       "      <td>TNFAIP2</td>\n",
       "      <td>ENSG00000185215</td>\n",
       "      <td>14</td>\n",
       "      <td>14q32.32</td>\n",
       "      <td>103123442.0</td>\n",
       "    </tr>\n",
       "    <tr>\n",
       "      <th>69</th>\n",
       "      <td>SLC7A8</td>\n",
       "      <td>ENSG00000092068</td>\n",
       "      <td>14</td>\n",
       "      <td>14q11.2</td>\n",
       "      <td>23125295.0</td>\n",
       "    </tr>\n",
       "    <tr>\n",
       "      <th>83</th>\n",
       "      <td>PYGL</td>\n",
       "      <td>ENSG00000100504</td>\n",
       "      <td>14</td>\n",
       "      <td>14q22.1</td>\n",
       "      <td>50857891.0</td>\n",
       "    </tr>\n",
       "    <tr>\n",
       "      <th>...</th>\n",
       "      <td>...</td>\n",
       "      <td>...</td>\n",
       "      <td>...</td>\n",
       "      <td>...</td>\n",
       "      <td>...</td>\n",
       "    </tr>\n",
       "    <tr>\n",
       "      <th>6145</th>\n",
       "      <td>LTB4R2</td>\n",
       "      <td>ENSG00000213906</td>\n",
       "      <td>14</td>\n",
       "      <td>14q12</td>\n",
       "      <td>24305734.0</td>\n",
       "    </tr>\n",
       "    <tr>\n",
       "      <th>6149</th>\n",
       "      <td>FKBP3</td>\n",
       "      <td>ENSG00000100442</td>\n",
       "      <td>14</td>\n",
       "      <td>14q21.2</td>\n",
       "      <td>45115599.0</td>\n",
       "    </tr>\n",
       "    <tr>\n",
       "      <th>6303</th>\n",
       "      <td>MPP5</td>\n",
       "      <td>ENSG00000072415</td>\n",
       "      <td>14</td>\n",
       "      <td>14q23.3</td>\n",
       "      <td>67241109.0</td>\n",
       "    </tr>\n",
       "    <tr>\n",
       "      <th>6442</th>\n",
       "      <td>GMPR2</td>\n",
       "      <td>ENSG00000100938</td>\n",
       "      <td>14</td>\n",
       "      <td>14q12</td>\n",
       "      <td>24232422.0</td>\n",
       "    </tr>\n",
       "    <tr>\n",
       "      <th>6448</th>\n",
       "      <td>CFL2</td>\n",
       "      <td>ENSG00000165410</td>\n",
       "      <td>14</td>\n",
       "      <td>14q13.1</td>\n",
       "      <td>34706769.0</td>\n",
       "    </tr>\n",
       "  </tbody>\n",
       "</table>\n",
       "<p>211 rows × 5 columns</p>\n",
       "</div>"
      ],
      "text/plain": [
       "         name               id chr      band  start_position\n",
       "1       MMP14  ENSG00000157227  14   14q11.2      22836560.0\n",
       "57      IFI27  ENSG00000165949  14  14q32.12      94104836.0\n",
       "62    TNFAIP2  ENSG00000185215  14  14q32.32     103123442.0\n",
       "69     SLC7A8  ENSG00000092068  14   14q11.2      23125295.0\n",
       "83       PYGL  ENSG00000100504  14   14q22.1      50857891.0\n",
       "...       ...              ...  ..       ...             ...\n",
       "6145   LTB4R2  ENSG00000213906  14     14q12      24305734.0\n",
       "6149    FKBP3  ENSG00000100442  14   14q21.2      45115599.0\n",
       "6303     MPP5  ENSG00000072415  14   14q23.3      67241109.0\n",
       "6442    GMPR2  ENSG00000100938  14     14q12      24232422.0\n",
       "6448     CFL2  ENSG00000165410  14   14q13.1      34706769.0\n",
       "\n",
       "[211 rows x 5 columns]"
      ]
     },
     "metadata": {},
     "output_type": "display_data"
    }
   ],
   "source": [
    "chromosome_genes_info = genes_info[genes_info[\"chr\"] == chromosome]\n",
    "display(chromosome_genes_info)"
   ]
  },
  {
   "cell_type": "code",
   "execution_count": 28,
   "id": "d2e42726-7de6-46eb-acfc-6323eaa8fae6",
   "metadata": {
    "execution": {
     "iopub.execute_input": "2022-07-11T07:18:14.783521Z",
     "iopub.status.busy": "2022-07-11T07:18:14.783052Z",
     "iopub.status.idle": "2022-07-11T07:18:14.799269Z",
     "shell.execute_reply": "2022-07-11T07:18:14.798848Z"
    },
    "papermill": {
     "duration": 0.029881,
     "end_time": "2022-07-11T07:18:14.805283",
     "exception": false,
     "start_time": "2022-07-11T07:18:14.775402",
     "status": "completed"
    },
    "tags": []
   },
   "outputs": [
    {
     "data": {
      "text/plain": [
       "5"
      ]
     },
     "metadata": {},
     "output_type": "display_data"
    }
   ],
   "source": [
    "seed(0)\n",
    "_gene_list_ids = sample(chromosome_genes_info[\"id\"].tolist(), 5)\n",
    "selected_chromosome_genes_obj = [Gene(ensembl_id=g_id) for g_id in _gene_list_ids]\n",
    "display(len(selected_chromosome_genes_obj))"
   ]
  },
  {
   "cell_type": "code",
   "execution_count": 29,
   "id": "1b355359",
   "metadata": {
    "execution": {
     "iopub.execute_input": "2022-07-11T07:18:14.833616Z",
     "iopub.status.busy": "2022-07-11T07:18:14.833442Z",
     "iopub.status.idle": "2022-07-11T07:18:16.450709Z",
     "shell.execute_reply": "2022-07-11T07:18:16.450335Z"
    },
    "papermill": {
     "duration": 1.630575,
     "end_time": "2022-07-11T07:18:16.451900",
     "exception": false,
     "start_time": "2022-07-11T07:18:14.821325",
     "status": "completed"
    },
    "tags": []
   },
   "outputs": [
    {
     "name": "stdout",
     "output_type": "stream",
     "text": [
      "MTA1 / DHRS4: 0.0\n",
      "MTA1 / RDH11: 0.0\n",
      "MTA1 / COCH: 0.0\n",
      "MTA1 / PNP: 0.0\n",
      "DHRS4 / RDH11: 0.0\n",
      "DHRS4 / COCH: 0.0\n",
      "DHRS4 / PNP: 0.005913103882183705\n",
      "RDH11 / COCH: 0.0\n",
      "RDH11 / PNP: 0.0\n",
      "COCH / PNP: 0.0\n"
     ]
    }
   ],
   "source": [
    "for gene_idx1 in range(0, len(selected_chromosome_genes_obj) - 1):\n",
    "    gene_obj1 = selected_chromosome_genes_obj[gene_idx1]\n",
    "\n",
    "    for gene_idx2 in range(gene_idx1 + 1, len(selected_chromosome_genes_obj)):\n",
    "        gene_obj2 = selected_chromosome_genes_obj[gene_idx2]\n",
    "\n",
    "        c = gene_obj1.get_ssm_correlation(\n",
    "            gene_obj2,\n",
    "        )\n",
    "\n",
    "        print(f\"{gene_obj1.name} / {gene_obj2.name}: {c}\")"
   ]
  },
  {
   "cell_type": "markdown",
   "id": "d3843e06",
   "metadata": {
    "papermill": {
     "duration": 0.016597,
     "end_time": "2022-07-11T07:18:16.483870",
     "exception": false,
     "start_time": "2022-07-11T07:18:16.467273",
     "status": "completed"
    },
    "tags": []
   },
   "source": [
    "# Compute correlation per chromosome"
   ]
  },
  {
   "cell_type": "code",
   "execution_count": 30,
   "id": "cb859c15-d1f3-4006-a74c-2b83c0db9611",
   "metadata": {
    "execution": {
     "iopub.execute_input": "2022-07-11T07:18:16.504964Z",
     "iopub.status.busy": "2022-07-11T07:18:16.504538Z",
     "iopub.status.idle": "2022-07-11T07:18:16.520897Z",
     "shell.execute_reply": "2022-07-11T07:18:16.520348Z"
    },
    "papermill": {
     "duration": 0.026289,
     "end_time": "2022-07-11T07:18:16.522104",
     "exception": false,
     "start_time": "2022-07-11T07:18:16.495815",
     "status": "completed"
    },
    "tags": []
   },
   "outputs": [
    {
     "data": {
      "text/plain": [
       "PosixPath('/opt/data/data/phenomexcan/ld_blocks/gene_corrs/1000g/mashr/by_chr/gene_corrs-chr14.pkl')"
      ]
     },
     "metadata": {},
     "output_type": "display_data"
    }
   ],
   "source": [
    "output_dir = OUTPUT_DIR_BASE / \"by_chr\"\n",
    "output_dir.mkdir(exist_ok=True, parents=True)\n",
    "output_file = output_dir / f\"gene_corrs-chr{chromosome}.pkl\"\n",
    "display(output_file)"
   ]
  },
  {
   "cell_type": "code",
   "execution_count": 31,
   "id": "aa674fe4-6794-4eed-98fa-32b39d1d4ace",
   "metadata": {
    "execution": {
     "iopub.execute_input": "2022-07-11T07:18:16.542020Z",
     "iopub.status.busy": "2022-07-11T07:18:16.541552Z",
     "iopub.status.idle": "2022-07-11T07:18:16.567972Z",
     "shell.execute_reply": "2022-07-11T07:18:16.567562Z"
    },
    "papermill": {
     "duration": 0.039636,
     "end_time": "2022-07-11T07:18:16.569222",
     "exception": false,
     "start_time": "2022-07-11T07:18:16.529586",
     "status": "completed"
    },
    "tags": []
   },
   "outputs": [],
   "source": [
    "warnings.filterwarnings(\"error\")"
   ]
  },
  {
   "cell_type": "code",
   "execution_count": 32,
   "id": "cdbb90a1",
   "metadata": {
    "execution": {
     "iopub.execute_input": "2022-07-11T07:18:16.596141Z",
     "iopub.status.busy": "2022-07-11T07:18:16.595979Z",
     "iopub.status.idle": "2022-07-11T07:25:07.815464Z",
     "shell.execute_reply": "2022-07-11T07:25:07.815080Z"
    },
    "papermill": {
     "duration": 411.234568,
     "end_time": "2022-07-11T07:25:07.816672",
     "exception": false,
     "start_time": "2022-07-11T07:18:16.582104",
     "status": "completed"
    },
    "tags": []
   },
   "outputs": [
    {
     "name": "stdout",
     "output_type": "stream",
     "text": [
      "Number of genes in chromosome: 211\n",
      "Number of gene combinations: 22155\n"
     ]
    },
    {
     "name": "stderr",
     "output_type": "stream",
     "text": [
      "ENSG00000185024 / ENSG00000182979: 100%|██████████████████████| 22155/22155 [06:51<00:00, 53.88it/s]"
     ]
    },
    {
     "name": "stdout",
     "output_type": "stream",
     "text": [
      "Min/max values: 0.0 / 0.903028321420113\n"
     ]
    },
    {
     "name": "stderr",
     "output_type": "stream",
     "text": [
      "\n"
     ]
    },
    {
     "data": {
      "text/plain": [
       "PosixPath('/opt/data/data/phenomexcan/ld_blocks/gene_corrs/1000g/mashr/by_chr/gene_corrs-chr14.pkl')"
      ]
     },
     "metadata": {},
     "output_type": "display_data"
    }
   ],
   "source": [
    "# standard checks\n",
    "all_chrs = genes_info[\"chr\"].dropna().unique()\n",
    "assert all_chrs.shape[0] == 22\n",
    "\n",
    "# select chromosome given by the user\n",
    "assert chromosome in all_chrs\n",
    "\n",
    "# run only on the chromosome specified\n",
    "all_chrs = [chromosome]\n",
    "genes_chr = genes_info[genes_info[\"chr\"] == chromosome]\n",
    "\n",
    "# For testing purposes\n",
    "# genes_chr = genes_chr.sample(n=20)\n",
    "\n",
    "print(f\"Number of genes in chromosome: {genes_chr.shape[0]}\", flush=True)\n",
    "\n",
    "# sort genes by starting position to make visualizations better later\n",
    "genes_chr = genes_chr.sort_values(\"start_position\")\n",
    "\n",
    "gene_chr_objs = [Gene(ensembl_id=gene_id) for gene_id in genes_chr[\"id\"]]\n",
    "gene_chr_ids = [g.ensembl_id for g in gene_chr_objs]\n",
    "\n",
    "n = len(gene_chr_objs)\n",
    "n_comb = int(n * (n - 1) / 2.0)\n",
    "print(f\"Number of gene combinations: {n_comb}\", flush=True)\n",
    "\n",
    "gene_corrs = []\n",
    "\n",
    "pbar = tqdm(ncols=100, total=n_comb)\n",
    "i = 0\n",
    "for gene_idx1 in range(0, len(gene_chr_objs) - 1):\n",
    "    gene_obj1 = gene_chr_objs[gene_idx1]\n",
    "\n",
    "    for gene_idx2 in range(gene_idx1 + 1, len(gene_chr_objs)):\n",
    "        gene_obj2 = gene_chr_objs[gene_idx2]\n",
    "\n",
    "        pbar.set_description(f\"{gene_obj1.ensembl_id} / {gene_obj2.ensembl_id}\")\n",
    "\n",
    "        try:\n",
    "            # FIXME: compute the correlation of the sum of squares of the model using all\n",
    "            # the available tissues; this could be problematic because for some results\n",
    "            # (computed on a specific phenotype/GWAS) we might not have all the tissues\n",
    "            # available, which can certainly bias the correlation estimation.\n",
    "            # Since this depends on the GWAS on a specific phenotype, we should ideally have\n",
    "            # one correlation matrix per GWAS. I should look at how we can improve this.\n",
    "            r = gene_obj1.get_ssm_correlation(\n",
    "                other_gene=gene_obj2,\n",
    "                condition_number=SMULTIXCAN_CONDITION_NUMBER,\n",
    "                reference_panel=REFERENCE_PANEL,\n",
    "                model_type=EQTL_MODEL,\n",
    "            )\n",
    "\n",
    "            if r is None:\n",
    "                # if r is None, it's very likely because:\n",
    "                #  * one of the genes has no prediction models\n",
    "                #  * all the SNPs predictors for the gene are not present in the reference\n",
    "                #    panel\n",
    "\n",
    "                r = 0.0\n",
    "\n",
    "            gene_corrs.append(r)\n",
    "        except Warning:\n",
    "            print(\n",
    "                f\"RuntimeWarning for genes {gene_obj1.ensembl_id} and {gene_obj2.ensembl_id}\",\n",
    "                flush=True,\n",
    "            )\n",
    "            import traceback\n",
    "\n",
    "            print(traceback.format_exc(), flush=True)\n",
    "        except Exception as e:\n",
    "            print(\n",
    "                f\"Exception for genes {gene_obj1.ensembl_id} and {gene_obj2.ensembl_id}\",\n",
    "                flush=True,\n",
    "            )\n",
    "            import traceback\n",
    "\n",
    "            print(traceback.format_exc(), flush=True)\n",
    "            gene_corrs.append(np.nan)\n",
    "\n",
    "        pbar.update(1)\n",
    "\n",
    "pbar.close()\n",
    "\n",
    "# testing\n",
    "gene_corrs_flat = pd.Series(gene_corrs)\n",
    "print(f\"Min/max values: {gene_corrs_flat.min()} / {gene_corrs_flat.max()}\")\n",
    "assert gene_corrs_flat.min() >= -1.001\n",
    "assert gene_corrs_flat.max() <= 1.001\n",
    "\n",
    "# save\n",
    "# FIXME: consider saving only the condenced matrix here. See here for\n",
    "# more details: https://github.com/greenelab/phenoplier/pull/38#discussion_r634600813\n",
    "gene_corrs_data = squareform(np.array(gene_corrs, dtype=np.float64))\n",
    "np.fill_diagonal(gene_corrs_data, 1.0)\n",
    "\n",
    "gene_corrs_df = pd.DataFrame(\n",
    "    data=gene_corrs_data,\n",
    "    index=gene_chr_ids,\n",
    "    columns=gene_chr_ids,\n",
    ")\n",
    "\n",
    "output_dir.mkdir(exist_ok=True, parents=True)\n",
    "display(output_file)\n",
    "\n",
    "gene_corrs_df.to_pickle(output_file)"
   ]
  },
  {
   "cell_type": "markdown",
   "id": "faa67b51-5373-470f-aa72-2ded53fa6dfe",
   "metadata": {
    "papermill": {
     "duration": 0.814137,
     "end_time": "2022-07-11T07:25:09.456581",
     "exception": false,
     "start_time": "2022-07-11T07:25:08.642444",
     "status": "completed"
    },
    "tags": []
   },
   "source": [
    "# Testing"
   ]
  },
  {
   "cell_type": "code",
   "execution_count": 33,
   "id": "14f7d046-4b55-4896-a56b-990127bcc388",
   "metadata": {
    "execution": {
     "iopub.execute_input": "2022-07-11T07:25:11.093800Z",
     "iopub.status.busy": "2022-07-11T07:25:11.093406Z",
     "iopub.status.idle": "2022-07-11T07:25:11.110427Z",
     "shell.execute_reply": "2022-07-11T07:25:11.109905Z"
    },
    "papermill": {
     "duration": 0.833552,
     "end_time": "2022-07-11T07:25:11.111656",
     "exception": false,
     "start_time": "2022-07-11T07:25:10.278104",
     "status": "completed"
    },
    "tags": []
   },
   "outputs": [
    {
     "data": {
      "text/plain": [
       "(211, 211)"
      ]
     },
     "execution_count": 33,
     "metadata": {},
     "output_type": "execute_result"
    }
   ],
   "source": [
    "gene_corrs_df.shape"
   ]
  },
  {
   "cell_type": "code",
   "execution_count": 34,
   "id": "c7d15414-3297-4537-a7c6-7588c0baeb75",
   "metadata": {
    "execution": {
     "iopub.execute_input": "2022-07-11T07:25:12.742529Z",
     "iopub.status.busy": "2022-07-11T07:25:12.742346Z",
     "iopub.status.idle": "2022-07-11T07:25:12.773153Z",
     "shell.execute_reply": "2022-07-11T07:25:12.772746Z"
    },
    "papermill": {
     "duration": 0.836597,
     "end_time": "2022-07-11T07:25:12.774419",
     "exception": false,
     "start_time": "2022-07-11T07:25:11.937822",
     "status": "completed"
    },
    "tags": []
   },
   "outputs": [
    {
     "data": {
      "text/html": [
       "<div>\n",
       "<style scoped>\n",
       "    .dataframe tbody tr th:only-of-type {\n",
       "        vertical-align: middle;\n",
       "    }\n",
       "\n",
       "    .dataframe tbody tr th {\n",
       "        vertical-align: top;\n",
       "    }\n",
       "\n",
       "    .dataframe thead th {\n",
       "        text-align: right;\n",
       "    }\n",
       "</style>\n",
       "<table border=\"1\" class=\"dataframe\">\n",
       "  <thead>\n",
       "    <tr style=\"text-align: right;\">\n",
       "      <th></th>\n",
       "      <th>ENSG00000222036</th>\n",
       "      <th>ENSG00000136319</th>\n",
       "      <th>ENSG00000129484</th>\n",
       "      <th>ENSG00000129566</th>\n",
       "      <th>ENSG00000100823</th>\n",
       "      <th>ENSG00000198805</th>\n",
       "      <th>ENSG00000214274</th>\n",
       "      <th>ENSG00000258818</th>\n",
       "      <th>ENSG00000169413</th>\n",
       "      <th>ENSG00000169397</th>\n",
       "      <th>...</th>\n",
       "      <th>ENSG00000126215</th>\n",
       "      <th>ENSG00000088808</th>\n",
       "      <th>ENSG00000066735</th>\n",
       "      <th>ENSG00000185100</th>\n",
       "      <th>ENSG00000142208</th>\n",
       "      <th>ENSG00000166428</th>\n",
       "      <th>ENSG00000183484</th>\n",
       "      <th>ENSG00000184916</th>\n",
       "      <th>ENSG00000185024</th>\n",
       "      <th>ENSG00000182979</th>\n",
       "    </tr>\n",
       "  </thead>\n",
       "  <tbody>\n",
       "    <tr>\n",
       "      <th>ENSG00000222036</th>\n",
       "      <td>1.0</td>\n",
       "      <td>0.000000</td>\n",
       "      <td>0.000000</td>\n",
       "      <td>0.000000</td>\n",
       "      <td>0.000000</td>\n",
       "      <td>0.000000</td>\n",
       "      <td>0.000000</td>\n",
       "      <td>0.000000</td>\n",
       "      <td>0.000000</td>\n",
       "      <td>0.000000</td>\n",
       "      <td>...</td>\n",
       "      <td>0.0</td>\n",
       "      <td>0.0</td>\n",
       "      <td>0.0</td>\n",
       "      <td>0.0</td>\n",
       "      <td>0.0</td>\n",
       "      <td>0.0</td>\n",
       "      <td>0.0</td>\n",
       "      <td>0.0</td>\n",
       "      <td>0.0</td>\n",
       "      <td>0.0</td>\n",
       "    </tr>\n",
       "    <tr>\n",
       "      <th>ENSG00000136319</th>\n",
       "      <td>0.0</td>\n",
       "      <td>1.000000</td>\n",
       "      <td>0.419074</td>\n",
       "      <td>0.016664</td>\n",
       "      <td>0.012118</td>\n",
       "      <td>0.004729</td>\n",
       "      <td>0.009859</td>\n",
       "      <td>0.007009</td>\n",
       "      <td>0.012458</td>\n",
       "      <td>0.010864</td>\n",
       "      <td>...</td>\n",
       "      <td>0.0</td>\n",
       "      <td>0.0</td>\n",
       "      <td>0.0</td>\n",
       "      <td>0.0</td>\n",
       "      <td>0.0</td>\n",
       "      <td>0.0</td>\n",
       "      <td>0.0</td>\n",
       "      <td>0.0</td>\n",
       "      <td>0.0</td>\n",
       "      <td>0.0</td>\n",
       "    </tr>\n",
       "    <tr>\n",
       "      <th>ENSG00000129484</th>\n",
       "      <td>0.0</td>\n",
       "      <td>0.419074</td>\n",
       "      <td>1.000000</td>\n",
       "      <td>0.020049</td>\n",
       "      <td>0.008024</td>\n",
       "      <td>0.006075</td>\n",
       "      <td>0.010550</td>\n",
       "      <td>0.007815</td>\n",
       "      <td>0.007987</td>\n",
       "      <td>0.005828</td>\n",
       "      <td>...</td>\n",
       "      <td>0.0</td>\n",
       "      <td>0.0</td>\n",
       "      <td>0.0</td>\n",
       "      <td>0.0</td>\n",
       "      <td>0.0</td>\n",
       "      <td>0.0</td>\n",
       "      <td>0.0</td>\n",
       "      <td>0.0</td>\n",
       "      <td>0.0</td>\n",
       "      <td>0.0</td>\n",
       "    </tr>\n",
       "    <tr>\n",
       "      <th>ENSG00000129566</th>\n",
       "      <td>0.0</td>\n",
       "      <td>0.016664</td>\n",
       "      <td>0.020049</td>\n",
       "      <td>1.000000</td>\n",
       "      <td>0.073406</td>\n",
       "      <td>0.022526</td>\n",
       "      <td>0.012381</td>\n",
       "      <td>0.009912</td>\n",
       "      <td>0.012395</td>\n",
       "      <td>0.005955</td>\n",
       "      <td>...</td>\n",
       "      <td>0.0</td>\n",
       "      <td>0.0</td>\n",
       "      <td>0.0</td>\n",
       "      <td>0.0</td>\n",
       "      <td>0.0</td>\n",
       "      <td>0.0</td>\n",
       "      <td>0.0</td>\n",
       "      <td>0.0</td>\n",
       "      <td>0.0</td>\n",
       "      <td>0.0</td>\n",
       "    </tr>\n",
       "    <tr>\n",
       "      <th>ENSG00000100823</th>\n",
       "      <td>0.0</td>\n",
       "      <td>0.012118</td>\n",
       "      <td>0.008024</td>\n",
       "      <td>0.073406</td>\n",
       "      <td>1.000000</td>\n",
       "      <td>0.273603</td>\n",
       "      <td>0.013556</td>\n",
       "      <td>0.009452</td>\n",
       "      <td>0.010661</td>\n",
       "      <td>0.013565</td>\n",
       "      <td>...</td>\n",
       "      <td>0.0</td>\n",
       "      <td>0.0</td>\n",
       "      <td>0.0</td>\n",
       "      <td>0.0</td>\n",
       "      <td>0.0</td>\n",
       "      <td>0.0</td>\n",
       "      <td>0.0</td>\n",
       "      <td>0.0</td>\n",
       "      <td>0.0</td>\n",
       "      <td>0.0</td>\n",
       "    </tr>\n",
       "  </tbody>\n",
       "</table>\n",
       "<p>5 rows × 211 columns</p>\n",
       "</div>"
      ],
      "text/plain": [
       "                 ENSG00000222036  ENSG00000136319  ENSG00000129484  \\\n",
       "ENSG00000222036              1.0         0.000000         0.000000   \n",
       "ENSG00000136319              0.0         1.000000         0.419074   \n",
       "ENSG00000129484              0.0         0.419074         1.000000   \n",
       "ENSG00000129566              0.0         0.016664         0.020049   \n",
       "ENSG00000100823              0.0         0.012118         0.008024   \n",
       "\n",
       "                 ENSG00000129566  ENSG00000100823  ENSG00000198805  \\\n",
       "ENSG00000222036         0.000000         0.000000         0.000000   \n",
       "ENSG00000136319         0.016664         0.012118         0.004729   \n",
       "ENSG00000129484         0.020049         0.008024         0.006075   \n",
       "ENSG00000129566         1.000000         0.073406         0.022526   \n",
       "ENSG00000100823         0.073406         1.000000         0.273603   \n",
       "\n",
       "                 ENSG00000214274  ENSG00000258818  ENSG00000169413  \\\n",
       "ENSG00000222036         0.000000         0.000000         0.000000   \n",
       "ENSG00000136319         0.009859         0.007009         0.012458   \n",
       "ENSG00000129484         0.010550         0.007815         0.007987   \n",
       "ENSG00000129566         0.012381         0.009912         0.012395   \n",
       "ENSG00000100823         0.013556         0.009452         0.010661   \n",
       "\n",
       "                 ENSG00000169397  ...  ENSG00000126215  ENSG00000088808  \\\n",
       "ENSG00000222036         0.000000  ...              0.0              0.0   \n",
       "ENSG00000136319         0.010864  ...              0.0              0.0   \n",
       "ENSG00000129484         0.005828  ...              0.0              0.0   \n",
       "ENSG00000129566         0.005955  ...              0.0              0.0   \n",
       "ENSG00000100823         0.013565  ...              0.0              0.0   \n",
       "\n",
       "                 ENSG00000066735  ENSG00000185100  ENSG00000142208  \\\n",
       "ENSG00000222036              0.0              0.0              0.0   \n",
       "ENSG00000136319              0.0              0.0              0.0   \n",
       "ENSG00000129484              0.0              0.0              0.0   \n",
       "ENSG00000129566              0.0              0.0              0.0   \n",
       "ENSG00000100823              0.0              0.0              0.0   \n",
       "\n",
       "                 ENSG00000166428  ENSG00000183484  ENSG00000184916  \\\n",
       "ENSG00000222036              0.0              0.0              0.0   \n",
       "ENSG00000136319              0.0              0.0              0.0   \n",
       "ENSG00000129484              0.0              0.0              0.0   \n",
       "ENSG00000129566              0.0              0.0              0.0   \n",
       "ENSG00000100823              0.0              0.0              0.0   \n",
       "\n",
       "                 ENSG00000185024  ENSG00000182979  \n",
       "ENSG00000222036              0.0              0.0  \n",
       "ENSG00000136319              0.0              0.0  \n",
       "ENSG00000129484              0.0              0.0  \n",
       "ENSG00000129566              0.0              0.0  \n",
       "ENSG00000100823              0.0              0.0  \n",
       "\n",
       "[5 rows x 211 columns]"
      ]
     },
     "execution_count": 34,
     "metadata": {},
     "output_type": "execute_result"
    }
   ],
   "source": [
    "gene_corrs_df.head()"
   ]
  },
  {
   "cell_type": "code",
   "execution_count": 35,
   "id": "286686af-1b7b-4440-8453-6bdcbd8de19c",
   "metadata": {
    "execution": {
     "iopub.execute_input": "2022-07-11T07:25:14.399500Z",
     "iopub.status.busy": "2022-07-11T07:25:14.399327Z",
     "iopub.status.idle": "2022-07-11T07:25:14.415761Z",
     "shell.execute_reply": "2022-07-11T07:25:14.415192Z"
    },
    "papermill": {
     "duration": 0.823089,
     "end_time": "2022-07-11T07:25:14.417168",
     "exception": false,
     "start_time": "2022-07-11T07:25:13.594079",
     "status": "completed"
    },
    "tags": []
   },
   "outputs": [],
   "source": [
    "assert not gene_corrs_df.isna().any().any()"
   ]
  },
  {
   "cell_type": "code",
   "execution_count": 36,
   "id": "00583efc-7068-4270-ad1e-4a418e91db96",
   "metadata": {
    "execution": {
     "iopub.execute_input": "2022-07-11T07:25:16.078447Z",
     "iopub.status.busy": "2022-07-11T07:25:16.078270Z",
     "iopub.status.idle": "2022-07-11T07:25:16.096854Z",
     "shell.execute_reply": "2022-07-11T07:25:16.096332Z"
    },
    "papermill": {
     "duration": 0.847066,
     "end_time": "2022-07-11T07:25:16.098160",
     "exception": false,
     "start_time": "2022-07-11T07:25:15.251094",
     "status": "completed"
    },
    "tags": []
   },
   "outputs": [
    {
     "data": {
      "text/plain": [
       "0.0"
      ]
     },
     "metadata": {},
     "output_type": "display_data"
    }
   ],
   "source": [
    "_min_val = gene_corrs_df.min().min()\n",
    "display(_min_val)\n",
    "assert _min_val >= 0.0"
   ]
  },
  {
   "cell_type": "code",
   "execution_count": 37,
   "id": "d04fb2cf-1050-475b-b855-f5f7cc04092b",
   "metadata": {
    "execution": {
     "iopub.execute_input": "2022-07-11T07:25:17.786941Z",
     "iopub.status.busy": "2022-07-11T07:25:17.786772Z",
     "iopub.status.idle": "2022-07-11T07:25:17.803542Z",
     "shell.execute_reply": "2022-07-11T07:25:17.803096Z"
    },
    "papermill": {
     "duration": 0.89028,
     "end_time": "2022-07-11T07:25:17.804778",
     "exception": false,
     "start_time": "2022-07-11T07:25:16.914498",
     "status": "completed"
    },
    "tags": []
   },
   "outputs": [
    {
     "data": {
      "text/plain": [
       "1.0"
      ]
     },
     "metadata": {},
     "output_type": "display_data"
    }
   ],
   "source": [
    "_max_val = gene_corrs_df.max().max()  # this captures the diagonal\n",
    "display(_max_val)\n",
    "assert _max_val <= 1.0"
   ]
  },
  {
   "cell_type": "code",
   "execution_count": 38,
   "id": "96d02c44-1fba-47be-8a93-8f2608420b9c",
   "metadata": {
    "execution": {
     "iopub.execute_input": "2022-07-11T07:25:19.460100Z",
     "iopub.status.busy": "2022-07-11T07:25:19.459552Z",
     "iopub.status.idle": "2022-07-11T07:25:19.476644Z",
     "shell.execute_reply": "2022-07-11T07:25:19.476068Z"
    },
    "papermill": {
     "duration": 0.829558,
     "end_time": "2022-07-11T07:25:19.478096",
     "exception": false,
     "start_time": "2022-07-11T07:25:18.648538",
     "status": "completed"
    },
    "tags": []
   },
   "outputs": [],
   "source": [
    "# check upper triangular values\n",
    "assert len(gene_corrs) == int(genes_chr.shape[0] * (genes_chr.shape[0] - 1) / 2)"
   ]
  },
  {
   "cell_type": "code",
   "execution_count": 39,
   "id": "aaa51627-f4e3-4744-a41f-7d25adcc0a78",
   "metadata": {
    "execution": {
     "iopub.execute_input": "2022-07-11T07:25:21.109930Z",
     "iopub.status.busy": "2022-07-11T07:25:21.109756Z",
     "iopub.status.idle": "2022-07-11T07:25:21.128768Z",
     "shell.execute_reply": "2022-07-11T07:25:21.128185Z"
    },
    "papermill": {
     "duration": 0.836077,
     "end_time": "2022-07-11T07:25:21.130187",
     "exception": false,
     "start_time": "2022-07-11T07:25:20.294110",
     "status": "completed"
    },
    "tags": []
   },
   "outputs": [],
   "source": [
    "gene_corrs = pd.Series(gene_corrs)"
   ]
  },
  {
   "cell_type": "code",
   "execution_count": 40,
   "id": "fe283586-c348-40e0-8841-f6d97bfb021c",
   "metadata": {
    "execution": {
     "iopub.execute_input": "2022-07-11T07:25:22.777216Z",
     "iopub.status.busy": "2022-07-11T07:25:22.777017Z",
     "iopub.status.idle": "2022-07-11T07:25:22.799385Z",
     "shell.execute_reply": "2022-07-11T07:25:22.798923Z"
    },
    "papermill": {
     "duration": 0.87094,
     "end_time": "2022-07-11T07:25:22.800828",
     "exception": false,
     "start_time": "2022-07-11T07:25:21.929888",
     "status": "completed"
    },
    "tags": []
   },
   "outputs": [
    {
     "data": {
      "text/plain": [
       "count    22155.000000\n",
       "mean         0.004156\n",
       "std          0.032915\n",
       "min          0.000000\n",
       "25%          0.000000\n",
       "50%          0.000000\n",
       "75%          0.000000\n",
       "max          0.903028\n",
       "dtype: float64"
      ]
     },
     "execution_count": 40,
     "metadata": {},
     "output_type": "execute_result"
    }
   ],
   "source": [
    "gene_corrs.describe()"
   ]
  },
  {
   "cell_type": "code",
   "execution_count": 41,
   "id": "b3815678-0f93-4b35-897b-a9d047a2aa78",
   "metadata": {
    "execution": {
     "iopub.execute_input": "2022-07-11T07:25:24.454845Z",
     "iopub.status.busy": "2022-07-11T07:25:24.454625Z",
     "iopub.status.idle": "2022-07-11T07:25:24.477156Z",
     "shell.execute_reply": "2022-07-11T07:25:24.476443Z"
    },
    "papermill": {
     "duration": 0.851919,
     "end_time": "2022-07-11T07:25:24.478784",
     "exception": false,
     "start_time": "2022-07-11T07:25:23.626865",
     "status": "completed"
    },
    "tags": []
   },
   "outputs": [
    {
     "data": {
      "text/plain": [
       "0.00    0.000000\n",
       "0.05    0.000000\n",
       "0.10    0.000000\n",
       "0.15    0.000000\n",
       "0.20    0.000000\n",
       "0.25    0.000000\n",
       "0.30    0.000000\n",
       "0.35    0.000000\n",
       "0.40    0.000000\n",
       "0.45    0.000000\n",
       "0.50    0.000000\n",
       "0.55    0.000000\n",
       "0.60    0.000000\n",
       "0.65    0.000000\n",
       "0.70    0.000000\n",
       "0.75    0.000000\n",
       "0.80    0.000000\n",
       "0.85    0.000000\n",
       "0.90    0.007472\n",
       "0.95    0.012214\n",
       "dtype: float64"
      ]
     },
     "metadata": {},
     "output_type": "display_data"
    }
   ],
   "source": [
    "gene_corrs_quantiles = gene_corrs.quantile(np.arange(0, 1, 0.05))\n",
    "display(gene_corrs_quantiles)"
   ]
  },
  {
   "cell_type": "markdown",
   "id": "8e60a080-edb2-4e9c-b2ef-22961693200c",
   "metadata": {
    "papermill": {
     "duration": 0.805235,
     "end_time": "2022-07-11T07:25:26.110630",
     "exception": false,
     "start_time": "2022-07-11T07:25:25.305395",
     "status": "completed"
    },
    "tags": []
   },
   "source": [
    "## Plot: distribution"
   ]
  },
  {
   "cell_type": "code",
   "execution_count": 42,
   "id": "8301126b-a7d4-4744-9c7d-f0f86eb6f54c",
   "metadata": {
    "execution": {
     "iopub.execute_input": "2022-07-11T07:25:27.718417Z",
     "iopub.status.busy": "2022-07-11T07:25:27.717938Z",
     "iopub.status.idle": "2022-07-11T07:25:27.979088Z",
     "shell.execute_reply": "2022-07-11T07:25:27.978592Z"
    },
    "papermill": {
     "duration": 1.079047,
     "end_time": "2022-07-11T07:25:27.980341",
     "exception": false,
     "start_time": "2022-07-11T07:25:26.901294",
     "status": "completed"
    },
    "tags": []
   },
   "outputs": [
    {
     "data": {
      "image/png": "[encoded data removed]",
      "text/plain": [
       "<Figure size 504x504 with 1 Axes>"
      ]
     },
     "metadata": {
      "needs_background": "light"
     },
     "output_type": "display_data"
    }
   ],
   "source": [
    "with sns.plotting_context(\"paper\", font_scale=1.5):\n",
    "    g = sns.displot(gene_corrs, kde=True, height=7)\n",
    "    g.ax.set_title(\n",
    "        f\"Distribution of gene correlation values in chromosome {chromosome}\"\n",
    "    )"
   ]
  },
  {
   "cell_type": "markdown",
   "id": "cbd52bca-d878-4a2f-b684-5c83aa3038d4",
   "metadata": {
    "papermill": {
     "duration": 0.859227,
     "end_time": "2022-07-11T07:25:29.657465",
     "exception": false,
     "start_time": "2022-07-11T07:25:28.798238",
     "status": "completed"
    },
    "tags": []
   },
   "source": [
    "## Plot: heatmap"
   ]
  },
  {
   "cell_type": "code",
   "execution_count": 43,
   "id": "d03fe63a-c7b2-4fb9-a53c-db362ce843c9",
   "metadata": {
    "execution": {
     "iopub.execute_input": "2022-07-11T07:25:31.304394Z",
     "iopub.status.busy": "2022-07-11T07:25:31.304215Z",
     "iopub.status.idle": "2022-07-11T07:25:31.322550Z",
     "shell.execute_reply": "2022-07-11T07:25:31.322040Z"
    },
    "papermill": {
     "duration": 0.84362,
     "end_time": "2022-07-11T07:25:31.323871",
     "exception": false,
     "start_time": "2022-07-11T07:25:30.480251",
     "status": "completed"
    },
    "tags": []
   },
   "outputs": [
    {
     "data": {
      "text/plain": [
       "'-0.05 / 0.05'"
      ]
     },
     "metadata": {},
     "output_type": "display_data"
    }
   ],
   "source": [
    "vmin_val = min(-0.05, gene_corrs_quantiles[0.10])\n",
    "vmax_val = max(0.05, gene_corrs_quantiles[0.90])\n",
    "display(f\"{vmin_val} / {vmax_val}\")"
   ]
  },
  {
   "cell_type": "code",
   "execution_count": 44,
   "id": "dc41b70b-5bcc-4d9e-9f33-a22c4a94dab5",
   "metadata": {
    "execution": {
     "iopub.execute_input": "2022-07-11T07:25:33.189881Z",
     "iopub.status.busy": "2022-07-11T07:25:33.189330Z",
     "iopub.status.idle": "2022-07-11T07:25:33.393174Z",
     "shell.execute_reply": "2022-07-11T07:25:33.392635Z"
    },
    "papermill": {
     "duration": 1.193425,
     "end_time": "2022-07-11T07:25:33.395358",
     "exception": false,
     "start_time": "2022-07-11T07:25:32.201933",
     "status": "completed"
    },
    "tags": []
   },
   "outputs": [
    {
     "data": {
      "text/plain": [
       "Text(0.5, 1.0, 'Gene correlations in chromosome 14')"
      ]
     },
     "execution_count": 44,
     "metadata": {},
     "output_type": "execute_result"
    },
    {
     "data": {
      "image/png": "[encoded data removed]",
      "text/plain": [
       "<Figure size 720x720 with 2 Axes>"
      ]
     },
     "metadata": {
      "needs_background": "light"
     },
     "output_type": "display_data"
    }
   ],
   "source": [
    "f, ax = plt.subplots(figsize=(10, 10))\n",
    "sns.heatmap(\n",
    "    gene_corrs_df,\n",
    "    xticklabels=False,\n",
    "    yticklabels=False,\n",
    "    square=True,\n",
    "    vmin=vmin_val,\n",
    "    vmax=vmax_val,\n",
    "    cmap=\"YlGnBu\",\n",
    "    ax=ax,\n",
    ")\n",
    "ax.set_title(f\"Gene correlations in chromosome {chromosome}\")"
   ]
  },
  {
   "cell_type": "code",
   "execution_count": null,
   "id": "b25e3ead",
   "metadata": {
    "papermill": {
     "duration": 0.89142,
     "end_time": "2022-07-11T07:25:35.327552",
     "exception": false,
     "start_time": "2022-07-11T07:25:34.436132",
     "status": "completed"
    },
    "tags": []
   },
   "outputs": [],
   "source": []
  }
 ],
 "metadata": {
  "jupytext": {
   "cell_metadata_filter": "all,-execution,-papermill,-trusted",
   "formats": "ipynb,py//py:percent"
  },
  "kernelspec": {
   "display_name": "Python 3 (ipykernel)",
   "language": "python",
   "name": "python3"
  },
  "language_info": {
   "codemirror_mode": {
    "name": "ipython",
    "version": 3
   },
   "file_extension": ".py",
   "mimetype": "text/x-python",
   "name": "python",
   "nbconvert_exporter": "python",
   "pygments_lexer": "ipython3",
   "version": "3.8.13"
  },
  "papermill": {
   "default_parameters": {},
   "duration": 450.962844,
   "end_time": "2022-07-11T07:25:39.743384",
   "environment_variables": {},
   "exception": null,
   "input_path": "nbs/15_gsa_gls/10-gene_expr_correlations.ipynb",
   "output_path": "nbs/15_gsa_gls/gene_corrs/1000g/mashr/10-gene_expr_correlations-chr14.run.ipynb",
   "parameters": {
    "EQTL_MODEL": "MASHR",
    "REFERENCE_PANEL": "1000G",
    "chromosome": 14
   },
   "start_time": "2022-07-11T07:18:08.780540",
   "version": "2.2.2"
  }
 },
 "nbformat": 4,
 "nbformat_minor": 5
}
