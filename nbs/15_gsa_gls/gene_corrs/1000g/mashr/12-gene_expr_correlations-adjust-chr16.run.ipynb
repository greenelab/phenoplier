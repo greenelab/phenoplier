{
 "cells": [
  {
   "cell_type": "markdown",
   "id": "28fc82fa-c3f6-4184-8054-cc91c7c6e2e7",
   "metadata": {
    "papermill": {
     "duration": 0.004317,
     "end_time": "2022-07-11T13:17:58.062952",
     "exception": false,
     "start_time": "2022-07-11T13:17:58.058635",
     "status": "completed"
    },
    "tags": []
   },
   "source": [
    "# Description"
   ]
  },
  {
   "cell_type": "markdown",
   "id": "36839b17-916e-4aec-8fee-96faf1097e78",
   "metadata": {
    "papermill": {
     "duration": 0.003152,
     "end_time": "2022-07-11T13:17:58.078053",
     "exception": false,
     "start_time": "2022-07-11T13:17:58.074901",
     "status": "completed"
    },
    "tags": []
   },
   "source": [
    "**TODO**"
   ]
  },
  {
   "cell_type": "markdown",
   "id": "249e8aa3-ef1a-4bba-a6dd-58120ad80794",
   "metadata": {
    "papermill": {
     "duration": 0.003037,
     "end_time": "2022-07-11T13:17:58.084442",
     "exception": false,
     "start_time": "2022-07-11T13:17:58.081405",
     "status": "completed"
    },
    "tags": []
   },
   "source": [
    "# Modules"
   ]
  },
  {
   "cell_type": "code",
   "execution_count": 1,
   "id": "f9b5022b-7c5e-4d37-9c7a-fdb91777c7f9",
   "metadata": {
    "execution": {
     "iopub.execute_input": "2022-07-11T13:17:58.117029Z",
     "iopub.status.busy": "2022-07-11T13:17:58.115209Z",
     "iopub.status.idle": "2022-07-11T13:18:01.447045Z",
     "shell.execute_reply": "2022-07-11T13:18:01.445806Z"
    },
    "papermill": {
     "duration": 3.361264,
     "end_time": "2022-07-11T13:18:01.448789",
     "exception": false,
     "start_time": "2022-07-11T13:17:58.087525",
     "status": "completed"
    },
    "tags": []
   },
   "outputs": [],
   "source": [
    "library(reticulate)\n",
    "pd <- import(\"pandas\")"
   ]
  },
  {
   "cell_type": "markdown",
   "id": "69e80173-3a39-4b6a-b723-602687cb255b",
   "metadata": {
    "papermill": {
     "duration": 0.003288,
     "end_time": "2022-07-11T13:18:01.455648",
     "exception": false,
     "start_time": "2022-07-11T13:18:01.452360",
     "status": "completed"
    },
    "tags": []
   },
   "source": [
    "# Settings"
   ]
  },
  {
   "cell_type": "code",
   "execution_count": 2,
   "id": "22d12bb4-1699-4a6b-b1b9-d3fdd3d547d7",
   "metadata": {
    "execution": {
     "iopub.execute_input": "2022-07-11T13:18:01.486274Z",
     "iopub.status.busy": "2022-07-11T13:18:01.463537Z",
     "iopub.status.idle": "2022-07-11T13:18:01.498630Z",
     "shell.execute_reply": "2022-07-11T13:18:01.497408Z"
    },
    "papermill": {
     "duration": 0.041312,
     "end_time": "2022-07-11T13:18:01.500436",
     "exception": false,
     "start_time": "2022-07-11T13:18:01.459124",
     "status": "completed"
    },
    "tags": [
     "parameters"
    ]
   },
   "outputs": [],
   "source": [
    "# reference panel\n",
    "REFERENCE_PANEL <- \"GTEX_V8\"\n",
    "# REFERENCE_PANEL = \"1000G\"\n",
    "\n",
    "# prediction models\n",
    "## mashr\n",
    "EQTL_MODEL <- \"MASHR\"\n",
    "\n",
    "chromosome <- NULL"
   ]
  },
  {
   "cell_type": "code",
   "execution_count": 3,
   "id": "d91dc671",
   "metadata": {
    "execution": {
     "iopub.execute_input": "2022-07-11T13:18:01.510349Z",
     "iopub.status.busy": "2022-07-11T13:18:01.509096Z",
     "iopub.status.idle": "2022-07-11T13:18:01.528264Z",
     "shell.execute_reply": "2022-07-11T13:18:01.526677Z"
    },
    "papermill": {
     "duration": 0.026348,
     "end_time": "2022-07-11T13:18:01.530386",
     "exception": false,
     "start_time": "2022-07-11T13:18:01.504038",
     "status": "completed"
    },
    "tags": [
     "injected-parameters"
    ]
   },
   "outputs": [],
   "source": [
    "# Parameters\n",
    "chromosome = 16\n",
    "REFERENCE_PANEL = \"1000G\"\n",
    "EQTL_MODEL = \"MASHR\"\n"
   ]
  },
  {
   "cell_type": "code",
   "execution_count": 4,
   "id": "8fe24bef",
   "metadata": {
    "execution": {
     "iopub.execute_input": "2022-07-11T13:18:01.541798Z",
     "iopub.status.busy": "2022-07-11T13:18:01.540085Z",
     "iopub.status.idle": "2022-07-11T13:18:01.555376Z",
     "shell.execute_reply": "2022-07-11T13:18:01.554058Z"
    },
    "papermill": {
     "duration": 0.022476,
     "end_time": "2022-07-11T13:18:01.557174",
     "exception": false,
     "start_time": "2022-07-11T13:18:01.534698",
     "status": "completed"
    },
    "tags": []
   },
   "outputs": [
    {
     "data": {
      "text/html": [
       "'Using reference panel: 1000G'"
      ],
      "text/latex": [
       "'Using reference panel: 1000G'"
      ],
      "text/markdown": [
       "'Using reference panel: 1000G'"
      ],
      "text/plain": [
       "[1] \"Using reference panel: 1000G\""
      ]
     },
     "metadata": {},
     "output_type": "display_data"
    }
   ],
   "source": [
    "paste0(\"Using reference panel: \", REFERENCE_PANEL)"
   ]
  },
  {
   "cell_type": "code",
   "execution_count": 5,
   "id": "d62c28f8-186c-478b-948c-58e14f00df4b",
   "metadata": {
    "execution": {
     "iopub.execute_input": "2022-07-11T13:18:01.568011Z",
     "iopub.status.busy": "2022-07-11T13:18:01.566855Z",
     "iopub.status.idle": "2022-07-11T13:18:01.578983Z",
     "shell.execute_reply": "2022-07-11T13:18:01.577711Z"
    },
    "papermill": {
     "duration": 0.019382,
     "end_time": "2022-07-11T13:18:01.580879",
     "exception": false,
     "start_time": "2022-07-11T13:18:01.561497",
     "status": "completed"
    },
    "tags": []
   },
   "outputs": [
    {
     "data": {
      "text/html": [
       "'Using eQTL model: MASHR'"
      ],
      "text/latex": [
       "'Using eQTL model: MASHR'"
      ],
      "text/markdown": [
       "'Using eQTL model: MASHR'"
      ],
      "text/plain": [
       "[1] \"Using eQTL model: MASHR\""
      ]
     },
     "metadata": {},
     "output_type": "display_data"
    }
   ],
   "source": [
    "paste0(\"Using eQTL model: \", EQTL_MODEL)"
   ]
  },
  {
   "cell_type": "code",
   "execution_count": 6,
   "id": "5243676f-c889-4405-9a4d-262f0f044614",
   "metadata": {
    "execution": {
     "iopub.execute_input": "2022-07-11T13:18:01.591116Z",
     "iopub.status.busy": "2022-07-11T13:18:01.590043Z",
     "iopub.status.idle": "2022-07-11T13:18:01.600750Z",
     "shell.execute_reply": "2022-07-11T13:18:01.599513Z"
    },
    "papermill": {
     "duration": 0.017615,
     "end_time": "2022-07-11T13:18:01.602485",
     "exception": false,
     "start_time": "2022-07-11T13:18:01.584870",
     "status": "completed"
    },
    "tags": []
   },
   "outputs": [],
   "source": [
    "# chromosome must be provided as parameter\n",
    "stopifnot(!is.null(chromosome))"
   ]
  },
  {
   "cell_type": "markdown",
   "id": "c05e4d34-e115-48cd-8a2e-225109eb0042",
   "metadata": {
    "papermill": {
     "duration": 0.003737,
     "end_time": "2022-07-11T13:18:01.610061",
     "exception": false,
     "start_time": "2022-07-11T13:18:01.606324",
     "status": "completed"
    },
    "tags": []
   },
   "source": [
    "# Paths"
   ]
  },
  {
   "cell_type": "code",
   "execution_count": 7,
   "id": "eb6aa8aa-b452-4a2f-a780-93dd80ad4285",
   "metadata": {
    "execution": {
     "iopub.execute_input": "2022-07-11T13:18:01.620171Z",
     "iopub.status.busy": "2022-07-11T13:18:01.619022Z",
     "iopub.status.idle": "2022-07-11T13:18:01.633299Z",
     "shell.execute_reply": "2022-07-11T13:18:01.632021Z"
    },
    "papermill": {
     "duration": 0.021094,
     "end_time": "2022-07-11T13:18:01.635083",
     "exception": false,
     "start_time": "2022-07-11T13:18:01.613989",
     "status": "completed"
    },
    "tags": []
   },
   "outputs": [
    {
     "data": {
      "text/html": [
       "'/opt/data/data/phenomexcan/ld_blocks/gene_corrs'"
      ],
      "text/latex": [
       "'/opt/data/data/phenomexcan/ld\\_blocks/gene\\_corrs'"
      ],
      "text/markdown": [
       "'/opt/data/data/phenomexcan/ld_blocks/gene_corrs'"
      ],
      "text/plain": [
       "[1] \"/opt/data/data/phenomexcan/ld_blocks/gene_corrs\""
      ]
     },
     "metadata": {},
     "output_type": "display_data"
    }
   ],
   "source": [
    "GENE_CORRS_DIR <- Sys.getenv(\"PHENOPLIER_PHENOMEXCAN_LD_BLOCKS_GENE_CORRS_DIR\")\n",
    "IRdisplay::display(GENE_CORRS_DIR)"
   ]
  },
  {
   "cell_type": "code",
   "execution_count": 8,
   "id": "eb24f15f-f282-4476-8943-8413c4483f12",
   "metadata": {
    "execution": {
     "iopub.execute_input": "2022-07-11T13:18:01.645513Z",
     "iopub.status.busy": "2022-07-11T13:18:01.644381Z",
     "iopub.status.idle": "2022-07-11T13:18:01.658258Z",
     "shell.execute_reply": "2022-07-11T13:18:01.656959Z"
    },
    "papermill": {
     "duration": 0.021084,
     "end_time": "2022-07-11T13:18:01.660250",
     "exception": false,
     "start_time": "2022-07-11T13:18:01.639166",
     "status": "completed"
    },
    "tags": []
   },
   "outputs": [
    {
     "data": {
      "text/html": [
       "'/opt/data/data/phenomexcan/ld_blocks/gene_corrs/1000g/mashr/by_chr'"
      ],
      "text/latex": [
       "'/opt/data/data/phenomexcan/ld\\_blocks/gene\\_corrs/1000g/mashr/by\\_chr'"
      ],
      "text/markdown": [
       "'/opt/data/data/phenomexcan/ld_blocks/gene_corrs/1000g/mashr/by_chr'"
      ],
      "text/plain": [
       "[1] \"/opt/data/data/phenomexcan/ld_blocks/gene_corrs/1000g/mashr/by_chr\""
      ]
     },
     "metadata": {},
     "output_type": "display_data"
    }
   ],
   "source": [
    "INPUT_DIR <- file.path(GENE_CORRS_DIR, tolower(REFERENCE_PANEL), tolower(EQTL_MODEL), \"by_chr\")\n",
    "IRdisplay::display(INPUT_DIR)"
   ]
  },
  {
   "cell_type": "code",
   "execution_count": 9,
   "id": "43c1daba-0da9-4822-8d1e-968e9767e251",
   "metadata": {
    "execution": {
     "iopub.execute_input": "2022-07-11T13:18:01.671626Z",
     "iopub.status.busy": "2022-07-11T13:18:01.670346Z",
     "iopub.status.idle": "2022-07-11T13:18:01.686777Z",
     "shell.execute_reply": "2022-07-11T13:18:01.685503Z"
    },
    "papermill": {
     "duration": 0.024204,
     "end_time": "2022-07-11T13:18:01.688952",
     "exception": false,
     "start_time": "2022-07-11T13:18:01.664748",
     "status": "completed"
    },
    "tags": []
   },
   "outputs": [
    {
     "data": {
      "text/html": [
       "'/opt/data/data/phenomexcan/ld_blocks/gene_corrs/1000g/mashr/by_chr/gene_corrs-chr16.pkl'"
      ],
      "text/latex": [
       "'/opt/data/data/phenomexcan/ld\\_blocks/gene\\_corrs/1000g/mashr/by\\_chr/gene\\_corrs-chr16.pkl'"
      ],
      "text/markdown": [
       "'/opt/data/data/phenomexcan/ld_blocks/gene_corrs/1000g/mashr/by_chr/gene_corrs-chr16.pkl'"
      ],
      "text/plain": [
       "[1] \"/opt/data/data/phenomexcan/ld_blocks/gene_corrs/1000g/mashr/by_chr/gene_corrs-chr16.pkl\""
      ]
     },
     "metadata": {},
     "output_type": "display_data"
    }
   ],
   "source": [
    "INPUT_FILE <- file.path(INPUT_DIR, paste0(\"gene_corrs-chr\", chromosome, \".pkl\"))\n",
    "IRdisplay::display(INPUT_FILE)\n",
    "stopifnot(file.exists(INPUT_FILE))"
   ]
  },
  {
   "cell_type": "code",
   "execution_count": 10,
   "id": "72386fbf-982b-420a-9057-ea9a97a5e571",
   "metadata": {
    "execution": {
     "iopub.execute_input": "2022-07-11T13:18:01.700499Z",
     "iopub.status.busy": "2022-07-11T13:18:01.699215Z",
     "iopub.status.idle": "2022-07-11T13:18:01.715216Z",
     "shell.execute_reply": "2022-07-11T13:18:01.713922Z"
    },
    "papermill": {
     "duration": 0.023791,
     "end_time": "2022-07-11T13:18:01.717466",
     "exception": false,
     "start_time": "2022-07-11T13:18:01.693675",
     "status": "completed"
    },
    "tags": []
   },
   "outputs": [
    {
     "data": {
      "text/html": [
       "'/opt/data/data/phenomexcan/ld_blocks/gene_corrs/1000g/mashr/by_chr/corrected_positive_definite'"
      ],
      "text/latex": [
       "'/opt/data/data/phenomexcan/ld\\_blocks/gene\\_corrs/1000g/mashr/by\\_chr/corrected\\_positive\\_definite'"
      ],
      "text/markdown": [
       "'/opt/data/data/phenomexcan/ld_blocks/gene_corrs/1000g/mashr/by_chr/corrected_positive_definite'"
      ],
      "text/plain": [
       "[1] \"/opt/data/data/phenomexcan/ld_blocks/gene_corrs/1000g/mashr/by_chr/corrected_positive_definite\""
      ]
     },
     "metadata": {},
     "output_type": "display_data"
    }
   ],
   "source": [
    "OUTPUT_DIR <- file.path(INPUT_DIR, \"corrected_positive_definite\")\n",
    "IRdisplay::display(OUTPUT_DIR)\n",
    "dir.create(OUTPUT_DIR, recursive = TRUE, showWarnings = FALSE)"
   ]
  },
  {
   "cell_type": "code",
   "execution_count": 11,
   "id": "f9f19d1d-ce4c-4099-a26e-250fec751de7",
   "metadata": {
    "execution": {
     "iopub.execute_input": "2022-07-11T13:18:01.731454Z",
     "iopub.status.busy": "2022-07-11T13:18:01.729911Z",
     "iopub.status.idle": "2022-07-11T13:18:01.745864Z",
     "shell.execute_reply": "2022-07-11T13:18:01.744608Z"
    },
    "papermill": {
     "duration": 0.024527,
     "end_time": "2022-07-11T13:18:01.747809",
     "exception": false,
     "start_time": "2022-07-11T13:18:01.723282",
     "status": "completed"
    },
    "tags": []
   },
   "outputs": [
    {
     "data": {
      "text/html": [
       "'/opt/data/data/phenomexcan/ld_blocks/gene_corrs/1000g/mashr/by_chr/corrected_positive_definite/gene_corrs-chr16.pkl'"
      ],
      "text/latex": [
       "'/opt/data/data/phenomexcan/ld\\_blocks/gene\\_corrs/1000g/mashr/by\\_chr/corrected\\_positive\\_definite/gene\\_corrs-chr16.pkl'"
      ],
      "text/markdown": [
       "'/opt/data/data/phenomexcan/ld_blocks/gene_corrs/1000g/mashr/by_chr/corrected_positive_definite/gene_corrs-chr16.pkl'"
      ],
      "text/plain": [
       "[1] \"/opt/data/data/phenomexcan/ld_blocks/gene_corrs/1000g/mashr/by_chr/corrected_positive_definite/gene_corrs-chr16.pkl\""
      ]
     },
     "metadata": {},
     "output_type": "display_data"
    }
   ],
   "source": [
    "OUTPUT_FILE <- file.path(OUTPUT_DIR, paste0(\"gene_corrs-chr\", chromosome, \".pkl\"))\n",
    "IRdisplay::display(OUTPUT_FILE)\n",
    "if (file.exists(OUTPUT_FILE)) {\n",
    "  IRdisplay::display(\"Output file exists, it will be overwritten\")\n",
    "}"
   ]
  },
  {
   "cell_type": "markdown",
   "id": "24973e62-e888-4b56-843f-489d8d0762b5",
   "metadata": {
    "papermill": {
     "duration": 0.004519,
     "end_time": "2022-07-11T13:18:01.756880",
     "exception": false,
     "start_time": "2022-07-11T13:18:01.752361",
     "status": "completed"
    },
    "tags": []
   },
   "source": [
    "# Functions"
   ]
  },
  {
   "cell_type": "code",
   "execution_count": 12,
   "id": "f828f081-7358-4cc8-8a89-1ee293bcc1a7",
   "metadata": {
    "execution": {
     "iopub.execute_input": "2022-07-11T13:18:01.771733Z",
     "iopub.status.busy": "2022-07-11T13:18:01.767048Z",
     "iopub.status.idle": "2022-07-11T13:18:01.780930Z",
     "shell.execute_reply": "2022-07-11T13:18:01.779663Z"
    },
    "papermill": {
     "duration": 0.021281,
     "end_time": "2022-07-11T13:18:01.782637",
     "exception": false,
     "start_time": "2022-07-11T13:18:01.761356",
     "status": "completed"
    },
    "tags": []
   },
   "outputs": [],
   "source": [
    "# taken from https://www.r-bloggers.com/2013/08/correcting-a-pseudo-correlation-matrix-to-be-positive-semidefinite/\n",
    "# TODO: add documentation\n",
    "CorrectCM <- function(CM, p = 0) {\n",
    "  n <- dim(var(CM))[1L]\n",
    "  E <- eigen(CM)\n",
    "  CM1 <- E$vectors %*% tcrossprod(diag(pmax(E$values, p), n), E$vectors)\n",
    "  Balance <- diag(1 / sqrt(diag(CM1)))\n",
    "  CM2 <- Balance %*% CM1 %*% Balance\n",
    "  return(CM2)\n",
    "}"
   ]
  },
  {
   "cell_type": "code",
   "execution_count": 13,
   "id": "7ab9bebf-50a1-4e6f-b16a-e23cae93d02a",
   "metadata": {
    "execution": {
     "iopub.execute_input": "2022-07-11T13:18:01.793892Z",
     "iopub.status.busy": "2022-07-11T13:18:01.792719Z",
     "iopub.status.idle": "2022-07-11T13:18:01.802162Z",
     "shell.execute_reply": "2022-07-11T13:18:01.800886Z"
    },
    "papermill": {
     "duration": 0.01677,
     "end_time": "2022-07-11T13:18:01.803916",
     "exception": false,
     "start_time": "2022-07-11T13:18:01.787146",
     "status": "completed"
    },
    "tags": []
   },
   "outputs": [],
   "source": [
    "is_positive_definite <- function(data) {\n",
    "  # eigenvalues <- eigen(data)$values\n",
    "  # nonpositive_eigenvalues <- eigenvalues[eigenvalues <= 0]\n",
    "\n",
    "  cholStatus <- try(u <- chol(data), silent = FALSE)\n",
    "  cholError <- ifelse(class(cholStatus) == \"try-error\", TRUE, FALSE)\n",
    "\n",
    "  if (cholError) {\n",
    "    return(FALSE)\n",
    "  } else {\n",
    "    return(TRUE)\n",
    "  }\n",
    "}"
   ]
  },
  {
   "cell_type": "markdown",
   "id": "7403fd78-00b2-4941-9c07-3c3af1ddc636",
   "metadata": {
    "papermill": {
     "duration": 0.004318,
     "end_time": "2022-07-11T13:18:01.813285",
     "exception": false,
     "start_time": "2022-07-11T13:18:01.808967",
     "status": "completed"
    },
    "tags": []
   },
   "source": [
    "# Load data"
   ]
  },
  {
   "cell_type": "code",
   "execution_count": 14,
   "id": "3a7744e1-2e5a-450e-9dcf-945ec181347d",
   "metadata": {
    "execution": {
     "iopub.execute_input": "2022-07-11T13:18:01.824440Z",
     "iopub.status.busy": "2022-07-11T13:18:01.823099Z",
     "iopub.status.idle": "2022-07-11T13:18:01.867877Z",
     "shell.execute_reply": "2022-07-11T13:18:01.866688Z"
    },
    "papermill": {
     "duration": 0.052061,
     "end_time": "2022-07-11T13:18:01.869645",
     "exception": false,
     "start_time": "2022-07-11T13:18:01.817584",
     "status": "completed"
    },
    "tags": []
   },
   "outputs": [],
   "source": [
    "gene_corrs <- pd$read_pickle(INPUT_FILE)"
   ]
  },
  {
   "cell_type": "code",
   "execution_count": 15,
   "id": "6fb150b2-4c68-4e9b-9aa5-1890d3f762e3",
   "metadata": {
    "execution": {
     "iopub.execute_input": "2022-07-11T13:18:01.881074Z",
     "iopub.status.busy": "2022-07-11T13:18:01.880112Z",
     "iopub.status.idle": "2022-07-11T13:18:01.893002Z",
     "shell.execute_reply": "2022-07-11T13:18:01.891146Z"
    },
    "papermill": {
     "duration": 0.02045,
     "end_time": "2022-07-11T13:18:01.895062",
     "exception": false,
     "start_time": "2022-07-11T13:18:01.874612",
     "status": "completed"
    },
    "tags": []
   },
   "outputs": [
    {
     "data": {
      "text/html": [
       "<style>\n",
       ".list-inline {list-style: none; margin:0; padding: 0}\n",
       ".list-inline>li {display: inline-block}\n",
       ".list-inline>li:not(:last-child)::after {content: \"\\00b7\"; padding: 0 .5ex}\n",
       "</style>\n",
       "<ol class=list-inline><li>274</li><li>274</li></ol>\n"
      ],
      "text/latex": [
       "\\begin{enumerate*}\n",
       "\\item 274\n",
       "\\item 274\n",
       "\\end{enumerate*}\n"
      ],
      "text/markdown": [
       "1. 274\n",
       "2. 274\n",
       "\n",
       "\n"
      ],
      "text/plain": [
       "[1] 274 274"
      ]
     },
     "metadata": {},
     "output_type": "display_data"
    }
   ],
   "source": [
    "dim(gene_corrs)"
   ]
  },
  {
   "cell_type": "code",
   "execution_count": 16,
   "id": "0d4e53b5-7586-4a68-8ce5-d930d74ba943",
   "metadata": {
    "execution": {
     "iopub.execute_input": "2022-07-11T13:18:01.907010Z",
     "iopub.status.busy": "2022-07-11T13:18:01.905931Z",
     "iopub.status.idle": "2022-07-11T13:18:01.930197Z",
     "shell.execute_reply": "2022-07-11T13:18:01.928003Z"
    },
    "papermill": {
     "duration": 0.031967,
     "end_time": "2022-07-11T13:18:01.932183",
     "exception": false,
     "start_time": "2022-07-11T13:18:01.900216",
     "status": "completed"
    },
    "tags": []
   },
   "outputs": [
    {
     "data": {
      "text/html": [
       "<table class=\"dataframe\">\n",
       "<caption>A data.frame: 6 × 10</caption>\n",
       "<thead>\n",
       "\t<tr><th></th><th scope=col>ENSG00000161980</th><th scope=col>ENSG00000103152</th><th scope=col>ENSG00000206172</th><th scope=col>ENSG00000086506</th><th scope=col>ENSG00000076344</th><th scope=col>ENSG00000103126</th><th scope=col>ENSG00000086504</th><th scope=col>ENSG00000103202</th><th scope=col>ENSG00000242612</th><th scope=col>ENSG00000090565</th></tr>\n",
       "\t<tr><th></th><th scope=col>&lt;dbl&gt;</th><th scope=col>&lt;dbl&gt;</th><th scope=col>&lt;dbl&gt;</th><th scope=col>&lt;dbl&gt;</th><th scope=col>&lt;dbl&gt;</th><th scope=col>&lt;dbl&gt;</th><th scope=col>&lt;dbl&gt;</th><th scope=col>&lt;dbl&gt;</th><th scope=col>&lt;dbl&gt;</th><th scope=col>&lt;dbl&gt;</th></tr>\n",
       "</thead>\n",
       "<tbody>\n",
       "\t<tr><th scope=row>ENSG00000161980</th><td>1.000000000</td><td>0.29316199</td><td>0.01445724</td><td>0.02843214</td><td>0.01566237</td><td>0.007811362</td><td>0.007649316</td><td>0.007966186</td><td>0.003932521</td><td>0.008701019</td></tr>\n",
       "\t<tr><th scope=row>ENSG00000103152</th><td>0.293161988</td><td>1.00000000</td><td>0.04266183</td><td>0.09859879</td><td>0.04478069</td><td>0.016317852</td><td>0.025287121</td><td>0.012651555</td><td>0.006489633</td><td>0.008928504</td></tr>\n",
       "\t<tr><th scope=row>ENSG00000206172</th><td>0.014457243</td><td>0.04266183</td><td>1.00000000</td><td>0.08099334</td><td>0.06222888</td><td>0.039482309</td><td>0.134139500</td><td>0.022356257</td><td>0.016887036</td><td>0.009028908</td></tr>\n",
       "\t<tr><th scope=row>ENSG00000086506</th><td>0.028432139</td><td>0.09859879</td><td>0.08099334</td><td>1.00000000</td><td>0.14673392</td><td>0.066133149</td><td>0.085224572</td><td>0.027479511</td><td>0.016960017</td><td>0.025166810</td></tr>\n",
       "\t<tr><th scope=row>ENSG00000076344</th><td>0.015662366</td><td>0.04478069</td><td>0.06222888</td><td>0.14673392</td><td>1.00000000</td><td>0.104771993</td><td>0.101071584</td><td>0.019537717</td><td>0.014887004</td><td>0.023975473</td></tr>\n",
       "\t<tr><th scope=row>ENSG00000103126</th><td>0.007811362</td><td>0.01631785</td><td>0.03948231</td><td>0.06613315</td><td>0.10477199</td><td>1.000000000</td><td>0.374384673</td><td>0.091330234</td><td>0.077610726</td><td>0.064092544</td></tr>\n",
       "</tbody>\n",
       "</table>\n"
      ],
      "text/latex": [
       "A data.frame: 6 × 10\n",
       "\\begin{tabular}{r|llllllllll}\n",
       "  & ENSG00000161980 & ENSG00000103152 & ENSG00000206172 & ENSG00000086506 & ENSG00000076344 & ENSG00000103126 & ENSG00000086504 & ENSG00000103202 & ENSG00000242612 & ENSG00000090565\\\\\n",
       "  & <dbl> & <dbl> & <dbl> & <dbl> & <dbl> & <dbl> & <dbl> & <dbl> & <dbl> & <dbl>\\\\\n",
       "\\hline\n",
       "\tENSG00000161980 & 1.000000000 & 0.29316199 & 0.01445724 & 0.02843214 & 0.01566237 & 0.007811362 & 0.007649316 & 0.007966186 & 0.003932521 & 0.008701019\\\\\n",
       "\tENSG00000103152 & 0.293161988 & 1.00000000 & 0.04266183 & 0.09859879 & 0.04478069 & 0.016317852 & 0.025287121 & 0.012651555 & 0.006489633 & 0.008928504\\\\\n",
       "\tENSG00000206172 & 0.014457243 & 0.04266183 & 1.00000000 & 0.08099334 & 0.06222888 & 0.039482309 & 0.134139500 & 0.022356257 & 0.016887036 & 0.009028908\\\\\n",
       "\tENSG00000086506 & 0.028432139 & 0.09859879 & 0.08099334 & 1.00000000 & 0.14673392 & 0.066133149 & 0.085224572 & 0.027479511 & 0.016960017 & 0.025166810\\\\\n",
       "\tENSG00000076344 & 0.015662366 & 0.04478069 & 0.06222888 & 0.14673392 & 1.00000000 & 0.104771993 & 0.101071584 & 0.019537717 & 0.014887004 & 0.023975473\\\\\n",
       "\tENSG00000103126 & 0.007811362 & 0.01631785 & 0.03948231 & 0.06613315 & 0.10477199 & 1.000000000 & 0.374384673 & 0.091330234 & 0.077610726 & 0.064092544\\\\\n",
       "\\end{tabular}\n"
      ],
      "text/markdown": [
       "\n",
       "A data.frame: 6 × 10\n",
       "\n",
       "| <!--/--> | ENSG00000161980 &lt;dbl&gt; | ENSG00000103152 &lt;dbl&gt; | ENSG00000206172 &lt;dbl&gt; | ENSG00000086506 &lt;dbl&gt; | ENSG00000076344 &lt;dbl&gt; | ENSG00000103126 &lt;dbl&gt; | ENSG00000086504 &lt;dbl&gt; | ENSG00000103202 &lt;dbl&gt; | ENSG00000242612 &lt;dbl&gt; | ENSG00000090565 &lt;dbl&gt; |\n",
       "|---|---|---|---|---|---|---|---|---|---|---|\n",
       "| ENSG00000161980 | 1.000000000 | 0.29316199 | 0.01445724 | 0.02843214 | 0.01566237 | 0.007811362 | 0.007649316 | 0.007966186 | 0.003932521 | 0.008701019 |\n",
       "| ENSG00000103152 | 0.293161988 | 1.00000000 | 0.04266183 | 0.09859879 | 0.04478069 | 0.016317852 | 0.025287121 | 0.012651555 | 0.006489633 | 0.008928504 |\n",
       "| ENSG00000206172 | 0.014457243 | 0.04266183 | 1.00000000 | 0.08099334 | 0.06222888 | 0.039482309 | 0.134139500 | 0.022356257 | 0.016887036 | 0.009028908 |\n",
       "| ENSG00000086506 | 0.028432139 | 0.09859879 | 0.08099334 | 1.00000000 | 0.14673392 | 0.066133149 | 0.085224572 | 0.027479511 | 0.016960017 | 0.025166810 |\n",
       "| ENSG00000076344 | 0.015662366 | 0.04478069 | 0.06222888 | 0.14673392 | 1.00000000 | 0.104771993 | 0.101071584 | 0.019537717 | 0.014887004 | 0.023975473 |\n",
       "| ENSG00000103126 | 0.007811362 | 0.01631785 | 0.03948231 | 0.06613315 | 0.10477199 | 1.000000000 | 0.374384673 | 0.091330234 | 0.077610726 | 0.064092544 |\n",
       "\n"
      ],
      "text/plain": [
       "                ENSG00000161980 ENSG00000103152 ENSG00000206172 ENSG00000086506\n",
       "ENSG00000161980 1.000000000     0.29316199      0.01445724      0.02843214     \n",
       "ENSG00000103152 0.293161988     1.00000000      0.04266183      0.09859879     \n",
       "ENSG00000206172 0.014457243     0.04266183      1.00000000      0.08099334     \n",
       "ENSG00000086506 0.028432139     0.09859879      0.08099334      1.00000000     \n",
       "ENSG00000076344 0.015662366     0.04478069      0.06222888      0.14673392     \n",
       "ENSG00000103126 0.007811362     0.01631785      0.03948231      0.06613315     \n",
       "                ENSG00000076344 ENSG00000103126 ENSG00000086504 ENSG00000103202\n",
       "ENSG00000161980 0.01566237      0.007811362     0.007649316     0.007966186    \n",
       "ENSG00000103152 0.04478069      0.016317852     0.025287121     0.012651555    \n",
       "ENSG00000206172 0.06222888      0.039482309     0.134139500     0.022356257    \n",
       "ENSG00000086506 0.14673392      0.066133149     0.085224572     0.027479511    \n",
       "ENSG00000076344 1.00000000      0.104771993     0.101071584     0.019537717    \n",
       "ENSG00000103126 0.10477199      1.000000000     0.374384673     0.091330234    \n",
       "                ENSG00000242612 ENSG00000090565\n",
       "ENSG00000161980 0.003932521     0.008701019    \n",
       "ENSG00000103152 0.006489633     0.008928504    \n",
       "ENSG00000206172 0.016887036     0.009028908    \n",
       "ENSG00000086506 0.016960017     0.025166810    \n",
       "ENSG00000076344 0.014887004     0.023975473    \n",
       "ENSG00000103126 0.077610726     0.064092544    "
      ]
     },
     "metadata": {},
     "output_type": "display_data"
    }
   ],
   "source": [
    "head(gene_corrs[1:10, 1:10])"
   ]
  },
  {
   "cell_type": "markdown",
   "id": "d6cbc88a-2c90-4d11-b7dd-434f046fd03c",
   "metadata": {
    "papermill": {
     "duration": 0.005217,
     "end_time": "2022-07-11T13:18:01.942835",
     "exception": false,
     "start_time": "2022-07-11T13:18:01.937618",
     "status": "completed"
    },
    "tags": []
   },
   "source": [
    "# Check positive definiteness"
   ]
  },
  {
   "cell_type": "code",
   "execution_count": 17,
   "id": "a858a061-7c5a-4a6b-8026-fe4de50c1f26",
   "metadata": {
    "execution": {
     "iopub.execute_input": "2022-07-11T13:18:01.955693Z",
     "iopub.status.busy": "2022-07-11T13:18:01.954405Z",
     "iopub.status.idle": "2022-07-11T13:18:01.967874Z",
     "shell.execute_reply": "2022-07-11T13:18:01.966558Z"
    },
    "papermill": {
     "duration": 0.021444,
     "end_time": "2022-07-11T13:18:01.969551",
     "exception": false,
     "start_time": "2022-07-11T13:18:01.948107",
     "status": "completed"
    },
    "tags": []
   },
   "outputs": [],
   "source": [
    "orig_matrix_is_positive_definite <- is_positive_definite(gene_corrs)"
   ]
  },
  {
   "cell_type": "code",
   "execution_count": 18,
   "id": "410ee452-488f-4518-b93a-2acd608ba99c",
   "metadata": {
    "execution": {
     "iopub.execute_input": "2022-07-11T13:18:01.981866Z",
     "iopub.status.busy": "2022-07-11T13:18:01.980874Z",
     "iopub.status.idle": "2022-07-11T13:18:01.995516Z",
     "shell.execute_reply": "2022-07-11T13:18:01.994267Z"
    },
    "papermill": {
     "duration": 0.022459,
     "end_time": "2022-07-11T13:18:01.997151",
     "exception": false,
     "start_time": "2022-07-11T13:18:01.974692",
     "status": "completed"
    },
    "tags": []
   },
   "outputs": [
    {
     "data": {
      "text/html": [
       "'Matrix is already positive definite!'"
      ],
      "text/latex": [
       "'Matrix is already positive definite!'"
      ],
      "text/markdown": [
       "'Matrix is already positive definite!'"
      ],
      "text/plain": [
       "[1] \"Matrix is already positive definite!\""
      ]
     },
     "metadata": {},
     "output_type": "display_data"
    },
    {
     "data": {
      "text/html": [
       "TRUE"
      ],
      "text/latex": [
       "TRUE"
      ],
      "text/markdown": [
       "TRUE"
      ],
      "text/plain": [
       "[1] TRUE"
      ]
     },
     "metadata": {},
     "output_type": "display_data"
    }
   ],
   "source": [
    "if (orig_matrix_is_positive_definite) {\n",
    "  IRdisplay::display(\"Matrix is already positive definite!\")\n",
    "  file.copy(INPUT_FILE, OUTPUT_FILE)\n",
    "} else {\n",
    "  IRdisplay::display(\"We need to correct the data and make the matrix positive definite\")\n",
    "\n",
    "  eigenvalues <- eigen(gene_corrs)$values\n",
    "  nonpositive_eigenvalues <- eigenvalues[eigenvalues <= 0]\n",
    "  IRdisplay::display(length(nonpositive_eigenvalues))\n",
    "  IRdisplay::display(nonpositive_eigenvalues)\n",
    "\n",
    "  # Make matrix positive definite\n",
    "  gene_corrs_corrected <- CorrectCM(gene_corrs, 1e-10)\n",
    "  dimnames(gene_corrs_corrected)[[1]] <- rownames(gene_corrs)\n",
    "  dimnames(gene_corrs_corrected)[[2]] <- colnames(gene_corrs)\n",
    "  gene_corrs_corrected <- as.data.frame(gene_corrs_corrected)\n",
    "\n",
    "  # check if new matrix is really positive definite\n",
    "  matrix_is_positive_definite <- is_positive_definite(gene_corrs_corrected)\n",
    "  if (matrix_is_positive_definite) {\n",
    "    IRdisplay::display(\"It worked!\")\n",
    "    IRdisplay::display(head(gene_corrs[1:10, 1:10]))\n",
    "    IRdisplay::display(head(gene_corrs_corrected[1:10, 1:10]))\n",
    "    py_save_object(gene_corrs_corrected, OUTPUT_FILE)\n",
    "  } else {\n",
    "    eigenvalues <- eigen(gene_corrs_corrected)$values\n",
    "    nonpositive_eigenvalues <- eigenvalues[eigenvalues <= 0]\n",
    "    IRdisplay::display(length(nonpositive_eigenvalues))\n",
    "    IRdisplay::display(nonpositive_eigenvalues)\n",
    "\n",
    "    stop(\"Method failed to adjust matrix\")\n",
    "  }\n",
    "}"
   ]
  },
  {
   "cell_type": "markdown",
   "id": "6c196700-7491-462f-bab8-ab9d40c63499",
   "metadata": {
    "papermill": {
     "duration": 0.004876,
     "end_time": "2022-07-11T13:18:02.007148",
     "exception": false,
     "start_time": "2022-07-11T13:18:02.002272",
     "status": "completed"
    },
    "tags": []
   },
   "source": [
    "Both matrices should \"look\" similar. We are not interested in perfectly accurate correlation values (they are already inaccurate)."
   ]
  },
  {
   "cell_type": "code",
   "execution_count": null,
   "id": "d8ae4220-2171-460c-9231-cd5219f3fe77",
   "metadata": {
    "papermill": {
     "duration": 0.004944,
     "end_time": "2022-07-11T13:18:02.017236",
     "exception": false,
     "start_time": "2022-07-11T13:18:02.012292",
     "status": "completed"
    },
    "tags": []
   },
   "outputs": [],
   "source": []
  }
 ],
 "metadata": {
  "jupytext": {
   "cell_metadata_filter": "all,-execution,-papermill,-trusted"
  },
  "kernelspec": {
   "display_name": "R",
   "language": "R",
   "name": "ir"
  },
  "language_info": {
   "codemirror_mode": "r",
   "file_extension": ".r",
   "mimetype": "text/x-r-source",
   "name": "R",
   "pygments_lexer": "r",
   "version": "3.6.3"
  },
  "papermill": {
   "default_parameters": {},
   "duration": 5.16566,
   "end_time": "2022-07-11T13:18:02.140189",
   "environment_variables": {},
   "exception": null,
   "input_path": "nbs/15_gsa_gls/12-gene_expr_correlations-adjust.ipynb",
   "output_path": "nbs/15_gsa_gls/gene_corrs/1000g/mashr/12-gene_expr_correlations-adjust-chr16.run.ipynb",
   "parameters": {
    "EQTL_MODEL": "MASHR",
    "REFERENCE_PANEL": "1000G",
    "chromosome": 16
   },
   "start_time": "2022-07-11T13:17:56.974529",
   "version": "2.3.4"
  }
 },
 "nbformat": 4,
 "nbformat_minor": 5
}
