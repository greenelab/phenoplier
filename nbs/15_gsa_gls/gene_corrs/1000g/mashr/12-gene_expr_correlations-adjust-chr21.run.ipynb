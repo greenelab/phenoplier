{
 "cells": [
  {
   "cell_type": "markdown",
   "id": "28fc82fa-c3f6-4184-8054-cc91c7c6e2e7",
   "metadata": {
    "papermill": {
     "duration": 0.004403,
     "end_time": "2022-07-12T13:07:42.670081",
     "exception": false,
     "start_time": "2022-07-12T13:07:42.665678",
     "status": "completed"
    },
    "tags": []
   },
   "source": [
    "# Description"
   ]
  },
  {
   "cell_type": "markdown",
   "id": "36839b17-916e-4aec-8fee-96faf1097e78",
   "metadata": {
    "papermill": {
     "duration": 0.003181,
     "end_time": "2022-07-12T13:07:42.684967",
     "exception": false,
     "start_time": "2022-07-12T13:07:42.681786",
     "status": "completed"
    },
    "tags": []
   },
   "source": [
    "**TODO**"
   ]
  },
  {
   "cell_type": "markdown",
   "id": "249e8aa3-ef1a-4bba-a6dd-58120ad80794",
   "metadata": {
    "papermill": {
     "duration": 0.003137,
     "end_time": "2022-07-12T13:07:42.691474",
     "exception": false,
     "start_time": "2022-07-12T13:07:42.688337",
     "status": "completed"
    },
    "tags": []
   },
   "source": [
    "# Modules"
   ]
  },
  {
   "cell_type": "code",
   "execution_count": 1,
   "id": "f9b5022b-7c5e-4d37-9c7a-fdb91777c7f9",
   "metadata": {
    "execution": {
     "iopub.execute_input": "2022-07-12T13:07:42.700825Z",
     "iopub.status.busy": "2022-07-12T13:07:42.699183Z",
     "iopub.status.idle": "2022-07-12T13:07:46.076060Z",
     "shell.execute_reply": "2022-07-12T13:07:46.074028Z"
    },
    "papermill": {
     "duration": 3.382855,
     "end_time": "2022-07-12T13:07:46.077683",
     "exception": false,
     "start_time": "2022-07-12T13:07:42.694828",
     "status": "completed"
    },
    "tags": []
   },
   "outputs": [],
   "source": [
    "library(reticulate)\n",
    "pd <- import(\"pandas\")"
   ]
  },
  {
   "cell_type": "markdown",
   "id": "69e80173-3a39-4b6a-b723-602687cb255b",
   "metadata": {
    "papermill": {
     "duration": 0.003084,
     "end_time": "2022-07-12T13:07:46.084559",
     "exception": false,
     "start_time": "2022-07-12T13:07:46.081475",
     "status": "completed"
    },
    "tags": []
   },
   "source": [
    "# Settings"
   ]
  },
  {
   "cell_type": "code",
   "execution_count": 2,
   "id": "22d12bb4-1699-4a6b-b1b9-d3fdd3d547d7",
   "metadata": {
    "execution": {
     "iopub.execute_input": "2022-07-12T13:07:46.112622Z",
     "iopub.status.busy": "2022-07-12T13:07:46.091468Z",
     "iopub.status.idle": "2022-07-12T13:07:46.125730Z",
     "shell.execute_reply": "2022-07-12T13:07:46.124456Z"
    },
    "papermill": {
     "duration": 0.039898,
     "end_time": "2022-07-12T13:07:46.127565",
     "exception": false,
     "start_time": "2022-07-12T13:07:46.087667",
     "status": "completed"
    },
    "tags": [
     "parameters"
    ]
   },
   "outputs": [],
   "source": [
    "# reference panel\n",
    "REFERENCE_PANEL <- \"GTEX_V8\"\n",
    "# REFERENCE_PANEL = \"1000G\"\n",
    "\n",
    "# prediction models\n",
    "## mashr\n",
    "EQTL_MODEL <- \"MASHR\"\n",
    "\n",
    "chromosome <- NULL"
   ]
  },
  {
   "cell_type": "code",
   "execution_count": 3,
   "id": "30b80cac",
   "metadata": {
    "execution": {
     "iopub.execute_input": "2022-07-12T13:07:46.137133Z",
     "iopub.status.busy": "2022-07-12T13:07:46.136039Z",
     "iopub.status.idle": "2022-07-12T13:07:46.153639Z",
     "shell.execute_reply": "2022-07-12T13:07:46.152399Z"
    },
    "papermill": {
     "duration": 0.024124,
     "end_time": "2022-07-12T13:07:46.155367",
     "exception": false,
     "start_time": "2022-07-12T13:07:46.131243",
     "status": "completed"
    },
    "tags": [
     "injected-parameters"
    ]
   },
   "outputs": [],
   "source": [
    "# Parameters\n",
    "chromosome = 21\n",
    "REFERENCE_PANEL = \"1000G\"\n",
    "EQTL_MODEL = \"MASHR\"\n"
   ]
  },
  {
   "cell_type": "code",
   "execution_count": 4,
   "id": "8fe24bef",
   "metadata": {
    "execution": {
     "iopub.execute_input": "2022-07-12T13:07:46.164668Z",
     "iopub.status.busy": "2022-07-12T13:07:46.163532Z",
     "iopub.status.idle": "2022-07-12T13:07:46.177255Z",
     "shell.execute_reply": "2022-07-12T13:07:46.175955Z"
    },
    "papermill": {
     "duration": 0.020162,
     "end_time": "2022-07-12T13:07:46.179184",
     "exception": false,
     "start_time": "2022-07-12T13:07:46.159022",
     "status": "completed"
    },
    "tags": []
   },
   "outputs": [
    {
     "data": {
      "text/html": [
       "'Using reference panel: 1000G'"
      ],
      "text/latex": [
       "'Using reference panel: 1000G'"
      ],
      "text/markdown": [
       "'Using reference panel: 1000G'"
      ],
      "text/plain": [
       "[1] \"Using reference panel: 1000G\""
      ]
     },
     "metadata": {},
     "output_type": "display_data"
    }
   ],
   "source": [
    "paste0(\"Using reference panel: \", REFERENCE_PANEL)"
   ]
  },
  {
   "cell_type": "code",
   "execution_count": 5,
   "id": "d62c28f8-186c-478b-948c-58e14f00df4b",
   "metadata": {
    "execution": {
     "iopub.execute_input": "2022-07-12T13:07:46.189608Z",
     "iopub.status.busy": "2022-07-12T13:07:46.188497Z",
     "iopub.status.idle": "2022-07-12T13:07:46.200482Z",
     "shell.execute_reply": "2022-07-12T13:07:46.199134Z"
    },
    "papermill": {
     "duration": 0.019011,
     "end_time": "2022-07-12T13:07:46.202355",
     "exception": false,
     "start_time": "2022-07-12T13:07:46.183344",
     "status": "completed"
    },
    "tags": []
   },
   "outputs": [
    {
     "data": {
      "text/html": [
       "'Using eQTL model: MASHR'"
      ],
      "text/latex": [
       "'Using eQTL model: MASHR'"
      ],
      "text/markdown": [
       "'Using eQTL model: MASHR'"
      ],
      "text/plain": [
       "[1] \"Using eQTL model: MASHR\""
      ]
     },
     "metadata": {},
     "output_type": "display_data"
    }
   ],
   "source": [
    "paste0(\"Using eQTL model: \", EQTL_MODEL)"
   ]
  },
  {
   "cell_type": "code",
   "execution_count": 6,
   "id": "5243676f-c889-4405-9a4d-262f0f044614",
   "metadata": {
    "execution": {
     "iopub.execute_input": "2022-07-12T13:07:46.212782Z",
     "iopub.status.busy": "2022-07-12T13:07:46.211683Z",
     "iopub.status.idle": "2022-07-12T13:07:46.222061Z",
     "shell.execute_reply": "2022-07-12T13:07:46.220764Z"
    },
    "papermill": {
     "duration": 0.017444,
     "end_time": "2022-07-12T13:07:46.223875",
     "exception": false,
     "start_time": "2022-07-12T13:07:46.206431",
     "status": "completed"
    },
    "tags": []
   },
   "outputs": [],
   "source": [
    "# chromosome must be provided as parameter\n",
    "stopifnot(!is.null(chromosome))"
   ]
  },
  {
   "cell_type": "markdown",
   "id": "c05e4d34-e115-48cd-8a2e-225109eb0042",
   "metadata": {
    "papermill": {
     "duration": 0.003921,
     "end_time": "2022-07-12T13:07:46.231806",
     "exception": false,
     "start_time": "2022-07-12T13:07:46.227885",
     "status": "completed"
    },
    "tags": []
   },
   "source": [
    "# Paths"
   ]
  },
  {
   "cell_type": "code",
   "execution_count": 7,
   "id": "eb6aa8aa-b452-4a2f-a780-93dd80ad4285",
   "metadata": {
    "execution": {
     "iopub.execute_input": "2022-07-12T13:07:46.242389Z",
     "iopub.status.busy": "2022-07-12T13:07:46.241256Z",
     "iopub.status.idle": "2022-07-12T13:07:46.255238Z",
     "shell.execute_reply": "2022-07-12T13:07:46.253865Z"
    },
    "papermill": {
     "duration": 0.02115,
     "end_time": "2022-07-12T13:07:46.257170",
     "exception": false,
     "start_time": "2022-07-12T13:07:46.236020",
     "status": "completed"
    },
    "tags": []
   },
   "outputs": [
    {
     "data": {
      "text/html": [
       "'/opt/data/data/phenomexcan/ld_blocks/gene_corrs'"
      ],
      "text/latex": [
       "'/opt/data/data/phenomexcan/ld\\_blocks/gene\\_corrs'"
      ],
      "text/markdown": [
       "'/opt/data/data/phenomexcan/ld_blocks/gene_corrs'"
      ],
      "text/plain": [
       "[1] \"/opt/data/data/phenomexcan/ld_blocks/gene_corrs\""
      ]
     },
     "metadata": {},
     "output_type": "display_data"
    }
   ],
   "source": [
    "GENE_CORRS_DIR <- Sys.getenv(\"PHENOPLIER_PHENOMEXCAN_LD_BLOCKS_GENE_CORRS_DIR\")\n",
    "IRdisplay::display(GENE_CORRS_DIR)"
   ]
  },
  {
   "cell_type": "code",
   "execution_count": 8,
   "id": "eb24f15f-f282-4476-8943-8413c4483f12",
   "metadata": {
    "execution": {
     "iopub.execute_input": "2022-07-12T13:07:46.268075Z",
     "iopub.status.busy": "2022-07-12T13:07:46.266897Z",
     "iopub.status.idle": "2022-07-12T13:07:46.280757Z",
     "shell.execute_reply": "2022-07-12T13:07:46.279410Z"
    },
    "papermill": {
     "duration": 0.021212,
     "end_time": "2022-07-12T13:07:46.282697",
     "exception": false,
     "start_time": "2022-07-12T13:07:46.261485",
     "status": "completed"
    },
    "tags": []
   },
   "outputs": [
    {
     "data": {
      "text/html": [
       "'/opt/data/data/phenomexcan/ld_blocks/gene_corrs/1000g/mashr/by_chr'"
      ],
      "text/latex": [
       "'/opt/data/data/phenomexcan/ld\\_blocks/gene\\_corrs/1000g/mashr/by\\_chr'"
      ],
      "text/markdown": [
       "'/opt/data/data/phenomexcan/ld_blocks/gene_corrs/1000g/mashr/by_chr'"
      ],
      "text/plain": [
       "[1] \"/opt/data/data/phenomexcan/ld_blocks/gene_corrs/1000g/mashr/by_chr\""
      ]
     },
     "metadata": {},
     "output_type": "display_data"
    }
   ],
   "source": [
    "INPUT_DIR <- file.path(GENE_CORRS_DIR, tolower(REFERENCE_PANEL), tolower(EQTL_MODEL), \"by_chr\")\n",
    "IRdisplay::display(INPUT_DIR)"
   ]
  },
  {
   "cell_type": "code",
   "execution_count": 9,
   "id": "43c1daba-0da9-4822-8d1e-968e9767e251",
   "metadata": {
    "execution": {
     "iopub.execute_input": "2022-07-12T13:07:46.294147Z",
     "iopub.status.busy": "2022-07-12T13:07:46.292980Z",
     "iopub.status.idle": "2022-07-12T13:07:46.308700Z",
     "shell.execute_reply": "2022-07-12T13:07:46.307326Z"
    },
    "papermill": {
     "duration": 0.02308,
     "end_time": "2022-07-12T13:07:46.310614",
     "exception": false,
     "start_time": "2022-07-12T13:07:46.287534",
     "status": "completed"
    },
    "tags": []
   },
   "outputs": [
    {
     "data": {
      "text/html": [
       "'/opt/data/data/phenomexcan/ld_blocks/gene_corrs/1000g/mashr/by_chr/gene_corrs-chr21.pkl'"
      ],
      "text/latex": [
       "'/opt/data/data/phenomexcan/ld\\_blocks/gene\\_corrs/1000g/mashr/by\\_chr/gene\\_corrs-chr21.pkl'"
      ],
      "text/markdown": [
       "'/opt/data/data/phenomexcan/ld_blocks/gene_corrs/1000g/mashr/by_chr/gene_corrs-chr21.pkl'"
      ],
      "text/plain": [
       "[1] \"/opt/data/data/phenomexcan/ld_blocks/gene_corrs/1000g/mashr/by_chr/gene_corrs-chr21.pkl\""
      ]
     },
     "metadata": {},
     "output_type": "display_data"
    }
   ],
   "source": [
    "INPUT_FILE <- file.path(INPUT_DIR, paste0(\"gene_corrs-chr\", chromosome, \".pkl\"))\n",
    "IRdisplay::display(INPUT_FILE)\n",
    "stopifnot(file.exists(INPUT_FILE))"
   ]
  },
  {
   "cell_type": "code",
   "execution_count": 10,
   "id": "72386fbf-982b-420a-9057-ea9a97a5e571",
   "metadata": {
    "execution": {
     "iopub.execute_input": "2022-07-12T13:07:46.321936Z",
     "iopub.status.busy": "2022-07-12T13:07:46.320698Z",
     "iopub.status.idle": "2022-07-12T13:07:46.335983Z",
     "shell.execute_reply": "2022-07-12T13:07:46.334654Z"
    },
    "papermill": {
     "duration": 0.02269,
     "end_time": "2022-07-12T13:07:46.337822",
     "exception": false,
     "start_time": "2022-07-12T13:07:46.315132",
     "status": "completed"
    },
    "tags": []
   },
   "outputs": [
    {
     "data": {
      "text/html": [
       "'/opt/data/data/phenomexcan/ld_blocks/gene_corrs/1000g/mashr/by_chr/corrected_positive_definite'"
      ],
      "text/latex": [
       "'/opt/data/data/phenomexcan/ld\\_blocks/gene\\_corrs/1000g/mashr/by\\_chr/corrected\\_positive\\_definite'"
      ],
      "text/markdown": [
       "'/opt/data/data/phenomexcan/ld_blocks/gene_corrs/1000g/mashr/by_chr/corrected_positive_definite'"
      ],
      "text/plain": [
       "[1] \"/opt/data/data/phenomexcan/ld_blocks/gene_corrs/1000g/mashr/by_chr/corrected_positive_definite\""
      ]
     },
     "metadata": {},
     "output_type": "display_data"
    }
   ],
   "source": [
    "OUTPUT_DIR <- file.path(INPUT_DIR, \"corrected_positive_definite\")\n",
    "IRdisplay::display(OUTPUT_DIR)\n",
    "dir.create(OUTPUT_DIR, recursive = TRUE, showWarnings = FALSE)"
   ]
  },
  {
   "cell_type": "code",
   "execution_count": 11,
   "id": "f9f19d1d-ce4c-4099-a26e-250fec751de7",
   "metadata": {
    "execution": {
     "iopub.execute_input": "2022-07-12T13:07:46.349291Z",
     "iopub.status.busy": "2022-07-12T13:07:46.348186Z",
     "iopub.status.idle": "2022-07-12T13:07:46.363083Z",
     "shell.execute_reply": "2022-07-12T13:07:46.361826Z"
    },
    "papermill": {
     "duration": 0.022325,
     "end_time": "2022-07-12T13:07:46.364901",
     "exception": false,
     "start_time": "2022-07-12T13:07:46.342576",
     "status": "completed"
    },
    "tags": []
   },
   "outputs": [
    {
     "data": {
      "text/html": [
       "'/opt/data/data/phenomexcan/ld_blocks/gene_corrs/1000g/mashr/by_chr/corrected_positive_definite/gene_corrs-chr21.pkl'"
      ],
      "text/latex": [
       "'/opt/data/data/phenomexcan/ld\\_blocks/gene\\_corrs/1000g/mashr/by\\_chr/corrected\\_positive\\_definite/gene\\_corrs-chr21.pkl'"
      ],
      "text/markdown": [
       "'/opt/data/data/phenomexcan/ld_blocks/gene_corrs/1000g/mashr/by_chr/corrected_positive_definite/gene_corrs-chr21.pkl'"
      ],
      "text/plain": [
       "[1] \"/opt/data/data/phenomexcan/ld_blocks/gene_corrs/1000g/mashr/by_chr/corrected_positive_definite/gene_corrs-chr21.pkl\""
      ]
     },
     "metadata": {},
     "output_type": "display_data"
    }
   ],
   "source": [
    "OUTPUT_FILE <- file.path(OUTPUT_DIR, paste0(\"gene_corrs-chr\", chromosome, \".pkl\"))\n",
    "IRdisplay::display(OUTPUT_FILE)\n",
    "if (file.exists(OUTPUT_FILE)) {\n",
    "  IRdisplay::display(\"Output file exists, it will be overwritten\")\n",
    "}"
   ]
  },
  {
   "cell_type": "markdown",
   "id": "24973e62-e888-4b56-843f-489d8d0762b5",
   "metadata": {
    "papermill": {
     "duration": 0.004394,
     "end_time": "2022-07-12T13:07:46.373886",
     "exception": false,
     "start_time": "2022-07-12T13:07:46.369492",
     "status": "completed"
    },
    "tags": []
   },
   "source": [
    "# Functions"
   ]
  },
  {
   "cell_type": "code",
   "execution_count": 12,
   "id": "f828f081-7358-4cc8-8a89-1ee293bcc1a7",
   "metadata": {
    "execution": {
     "iopub.execute_input": "2022-07-12T13:07:46.387840Z",
     "iopub.status.busy": "2022-07-12T13:07:46.383662Z",
     "iopub.status.idle": "2022-07-12T13:07:46.396392Z",
     "shell.execute_reply": "2022-07-12T13:07:46.395157Z"
    },
    "papermill": {
     "duration": 0.019752,
     "end_time": "2022-07-12T13:07:46.398112",
     "exception": false,
     "start_time": "2022-07-12T13:07:46.378360",
     "status": "completed"
    },
    "tags": []
   },
   "outputs": [],
   "source": [
    "# taken from https://www.r-bloggers.com/2013/08/correcting-a-pseudo-correlation-matrix-to-be-positive-semidefinite/\n",
    "# TODO: add documentation\n",
    "CorrectCM <- function(CM, p = 0) {\n",
    "  n <- dim(var(CM))[1L]\n",
    "  E <- eigen(CM)\n",
    "  CM1 <- E$vectors %*% tcrossprod(diag(pmax(E$values, p), n), E$vectors)\n",
    "  Balance <- diag(1 / sqrt(diag(CM1)))\n",
    "  CM2 <- Balance %*% CM1 %*% Balance\n",
    "  return(CM2)\n",
    "}"
   ]
  },
  {
   "cell_type": "code",
   "execution_count": 13,
   "id": "7ab9bebf-50a1-4e6f-b16a-e23cae93d02a",
   "metadata": {
    "execution": {
     "iopub.execute_input": "2022-07-12T13:07:46.408668Z",
     "iopub.status.busy": "2022-07-12T13:07:46.407676Z",
     "iopub.status.idle": "2022-07-12T13:07:46.416602Z",
     "shell.execute_reply": "2022-07-12T13:07:46.415373Z"
    },
    "papermill": {
     "duration": 0.015859,
     "end_time": "2022-07-12T13:07:46.418339",
     "exception": false,
     "start_time": "2022-07-12T13:07:46.402480",
     "status": "completed"
    },
    "tags": []
   },
   "outputs": [],
   "source": [
    "is_positive_definite <- function(data) {\n",
    "  # eigenvalues <- eigen(data)$values\n",
    "  # nonpositive_eigenvalues <- eigenvalues[eigenvalues <= 0]\n",
    "\n",
    "  cholStatus <- try(u <- chol(data), silent = FALSE)\n",
    "  cholError <- ifelse(class(cholStatus) == \"try-error\", TRUE, FALSE)\n",
    "\n",
    "  if (cholError) {\n",
    "    return(FALSE)\n",
    "  } else {\n",
    "    return(TRUE)\n",
    "  }\n",
    "}"
   ]
  },
  {
   "cell_type": "markdown",
   "id": "7403fd78-00b2-4941-9c07-3c3af1ddc636",
   "metadata": {
    "papermill": {
     "duration": 0.004146,
     "end_time": "2022-07-12T13:07:46.427455",
     "exception": false,
     "start_time": "2022-07-12T13:07:46.423309",
     "status": "completed"
    },
    "tags": []
   },
   "source": [
    "# Load data"
   ]
  },
  {
   "cell_type": "code",
   "execution_count": 14,
   "id": "3a7744e1-2e5a-450e-9dcf-945ec181347d",
   "metadata": {
    "execution": {
     "iopub.execute_input": "2022-07-12T13:07:46.437680Z",
     "iopub.status.busy": "2022-07-12T13:07:46.436649Z",
     "iopub.status.idle": "2022-07-12T13:07:46.456940Z",
     "shell.execute_reply": "2022-07-12T13:07:46.455804Z"
    },
    "papermill": {
     "duration": 0.026925,
     "end_time": "2022-07-12T13:07:46.458520",
     "exception": false,
     "start_time": "2022-07-12T13:07:46.431595",
     "status": "completed"
    },
    "tags": []
   },
   "outputs": [],
   "source": [
    "gene_corrs <- pd$read_pickle(INPUT_FILE)"
   ]
  },
  {
   "cell_type": "code",
   "execution_count": 15,
   "id": "6fb150b2-4c68-4e9b-9aa5-1890d3f762e3",
   "metadata": {
    "execution": {
     "iopub.execute_input": "2022-07-12T13:07:46.469089Z",
     "iopub.status.busy": "2022-07-12T13:07:46.468113Z",
     "iopub.status.idle": "2022-07-12T13:07:46.478881Z",
     "shell.execute_reply": "2022-07-12T13:07:46.477660Z"
    },
    "papermill": {
     "duration": 0.017714,
     "end_time": "2022-07-12T13:07:46.480750",
     "exception": false,
     "start_time": "2022-07-12T13:07:46.463036",
     "status": "completed"
    },
    "tags": []
   },
   "outputs": [
    {
     "data": {
      "text/html": [
       "<style>\n",
       ".list-inline {list-style: none; margin:0; padding: 0}\n",
       ".list-inline>li {display: inline-block}\n",
       ".list-inline>li:not(:last-child)::after {content: \"\\00b7\"; padding: 0 .5ex}\n",
       "</style>\n",
       "<ol class=list-inline><li>62</li><li>62</li></ol>\n"
      ],
      "text/latex": [
       "\\begin{enumerate*}\n",
       "\\item 62\n",
       "\\item 62\n",
       "\\end{enumerate*}\n"
      ],
      "text/markdown": [
       "1. 62\n",
       "2. 62\n",
       "\n",
       "\n"
      ],
      "text/plain": [
       "[1] 62 62"
      ]
     },
     "metadata": {},
     "output_type": "display_data"
    }
   ],
   "source": [
    "dim(gene_corrs)"
   ]
  },
  {
   "cell_type": "code",
   "execution_count": 16,
   "id": "0d4e53b5-7586-4a68-8ce5-d930d74ba943",
   "metadata": {
    "execution": {
     "iopub.execute_input": "2022-07-12T13:07:46.491384Z",
     "iopub.status.busy": "2022-07-12T13:07:46.490387Z",
     "iopub.status.idle": "2022-07-12T13:07:46.509932Z",
     "shell.execute_reply": "2022-07-12T13:07:46.508780Z"
    },
    "papermill": {
     "duration": 0.026531,
     "end_time": "2022-07-12T13:07:46.511565",
     "exception": false,
     "start_time": "2022-07-12T13:07:46.485034",
     "status": "completed"
    },
    "tags": []
   },
   "outputs": [
    {
     "data": {
      "text/html": [
       "<table class=\"dataframe\">\n",
       "<caption>A data.frame: 6 × 10</caption>\n",
       "<thead>\n",
       "\t<tr><th></th><th scope=col>ENSG00000155307</th><th scope=col>ENSG00000180530</th><th scope=col>ENSG00000154719</th><th scope=col>ENSG00000154721</th><th scope=col>ENSG00000154723</th><th scope=col>ENSG00000142192</th><th scope=col>ENSG00000154734</th><th scope=col>ENSG00000156261</th><th scope=col>ENSG00000171189</th><th scope=col>ENSG00000156299</th></tr>\n",
       "\t<tr><th></th><th scope=col>&lt;dbl&gt;</th><th scope=col>&lt;dbl&gt;</th><th scope=col>&lt;dbl&gt;</th><th scope=col>&lt;dbl&gt;</th><th scope=col>&lt;dbl&gt;</th><th scope=col>&lt;dbl&gt;</th><th scope=col>&lt;dbl&gt;</th><th scope=col>&lt;dbl&gt;</th><th scope=col>&lt;dbl&gt;</th><th scope=col>&lt;dbl&gt;</th></tr>\n",
       "</thead>\n",
       "<tbody>\n",
       "\t<tr><th scope=row>ENSG00000155307</th><td>1.000000000</td><td>0.009524075</td><td>0.009004995</td><td>0.01419260</td><td>0.01160193</td><td>0.007963595</td><td>0.009000957</td><td>0.003461580</td><td>0.011410717</td><td>0.00941759</td></tr>\n",
       "\t<tr><th scope=row>ENSG00000180530</th><td>0.009524075</td><td>1.000000000</td><td>0.009485008</td><td>0.01126324</td><td>0.01507369</td><td>0.008841317</td><td>0.007742435</td><td>0.008482778</td><td>0.005553854</td><td>0.01669379</td></tr>\n",
       "\t<tr><th scope=row>ENSG00000154719</th><td>0.009004995</td><td>0.009485008</td><td>1.000000000</td><td>0.44158984</td><td>0.18198912</td><td>0.012504365</td><td>0.008912926</td><td>0.007761299</td><td>0.005953778</td><td>0.01084581</td></tr>\n",
       "\t<tr><th scope=row>ENSG00000154721</th><td>0.014192596</td><td>0.011263237</td><td>0.441589836</td><td>1.00000000</td><td>0.32312746</td><td>0.016043497</td><td>0.006525722</td><td>0.002206431</td><td>0.011833583</td><td>0.01047997</td></tr>\n",
       "\t<tr><th scope=row>ENSG00000154723</th><td>0.011601929</td><td>0.015073692</td><td>0.181989119</td><td>0.32312746</td><td>1.00000000</td><td>0.022412794</td><td>0.006861036</td><td>0.005665594</td><td>0.005191232</td><td>0.01117467</td></tr>\n",
       "\t<tr><th scope=row>ENSG00000142192</th><td>0.007963595</td><td>0.008841317</td><td>0.012504365</td><td>0.01604350</td><td>0.02241279</td><td>1.000000000</td><td>0.007926083</td><td>0.014782609</td><td>0.003230170</td><td>0.01444797</td></tr>\n",
       "</tbody>\n",
       "</table>\n"
      ],
      "text/latex": [
       "A data.frame: 6 × 10\n",
       "\\begin{tabular}{r|llllllllll}\n",
       "  & ENSG00000155307 & ENSG00000180530 & ENSG00000154719 & ENSG00000154721 & ENSG00000154723 & ENSG00000142192 & ENSG00000154734 & ENSG00000156261 & ENSG00000171189 & ENSG00000156299\\\\\n",
       "  & <dbl> & <dbl> & <dbl> & <dbl> & <dbl> & <dbl> & <dbl> & <dbl> & <dbl> & <dbl>\\\\\n",
       "\\hline\n",
       "\tENSG00000155307 & 1.000000000 & 0.009524075 & 0.009004995 & 0.01419260 & 0.01160193 & 0.007963595 & 0.009000957 & 0.003461580 & 0.011410717 & 0.00941759\\\\\n",
       "\tENSG00000180530 & 0.009524075 & 1.000000000 & 0.009485008 & 0.01126324 & 0.01507369 & 0.008841317 & 0.007742435 & 0.008482778 & 0.005553854 & 0.01669379\\\\\n",
       "\tENSG00000154719 & 0.009004995 & 0.009485008 & 1.000000000 & 0.44158984 & 0.18198912 & 0.012504365 & 0.008912926 & 0.007761299 & 0.005953778 & 0.01084581\\\\\n",
       "\tENSG00000154721 & 0.014192596 & 0.011263237 & 0.441589836 & 1.00000000 & 0.32312746 & 0.016043497 & 0.006525722 & 0.002206431 & 0.011833583 & 0.01047997\\\\\n",
       "\tENSG00000154723 & 0.011601929 & 0.015073692 & 0.181989119 & 0.32312746 & 1.00000000 & 0.022412794 & 0.006861036 & 0.005665594 & 0.005191232 & 0.01117467\\\\\n",
       "\tENSG00000142192 & 0.007963595 & 0.008841317 & 0.012504365 & 0.01604350 & 0.02241279 & 1.000000000 & 0.007926083 & 0.014782609 & 0.003230170 & 0.01444797\\\\\n",
       "\\end{tabular}\n"
      ],
      "text/markdown": [
       "\n",
       "A data.frame: 6 × 10\n",
       "\n",
       "| <!--/--> | ENSG00000155307 &lt;dbl&gt; | ENSG00000180530 &lt;dbl&gt; | ENSG00000154719 &lt;dbl&gt; | ENSG00000154721 &lt;dbl&gt; | ENSG00000154723 &lt;dbl&gt; | ENSG00000142192 &lt;dbl&gt; | ENSG00000154734 &lt;dbl&gt; | ENSG00000156261 &lt;dbl&gt; | ENSG00000171189 &lt;dbl&gt; | ENSG00000156299 &lt;dbl&gt; |\n",
       "|---|---|---|---|---|---|---|---|---|---|---|\n",
       "| ENSG00000155307 | 1.000000000 | 0.009524075 | 0.009004995 | 0.01419260 | 0.01160193 | 0.007963595 | 0.009000957 | 0.003461580 | 0.011410717 | 0.00941759 |\n",
       "| ENSG00000180530 | 0.009524075 | 1.000000000 | 0.009485008 | 0.01126324 | 0.01507369 | 0.008841317 | 0.007742435 | 0.008482778 | 0.005553854 | 0.01669379 |\n",
       "| ENSG00000154719 | 0.009004995 | 0.009485008 | 1.000000000 | 0.44158984 | 0.18198912 | 0.012504365 | 0.008912926 | 0.007761299 | 0.005953778 | 0.01084581 |\n",
       "| ENSG00000154721 | 0.014192596 | 0.011263237 | 0.441589836 | 1.00000000 | 0.32312746 | 0.016043497 | 0.006525722 | 0.002206431 | 0.011833583 | 0.01047997 |\n",
       "| ENSG00000154723 | 0.011601929 | 0.015073692 | 0.181989119 | 0.32312746 | 1.00000000 | 0.022412794 | 0.006861036 | 0.005665594 | 0.005191232 | 0.01117467 |\n",
       "| ENSG00000142192 | 0.007963595 | 0.008841317 | 0.012504365 | 0.01604350 | 0.02241279 | 1.000000000 | 0.007926083 | 0.014782609 | 0.003230170 | 0.01444797 |\n",
       "\n"
      ],
      "text/plain": [
       "                ENSG00000155307 ENSG00000180530 ENSG00000154719 ENSG00000154721\n",
       "ENSG00000155307 1.000000000     0.009524075     0.009004995     0.01419260     \n",
       "ENSG00000180530 0.009524075     1.000000000     0.009485008     0.01126324     \n",
       "ENSG00000154719 0.009004995     0.009485008     1.000000000     0.44158984     \n",
       "ENSG00000154721 0.014192596     0.011263237     0.441589836     1.00000000     \n",
       "ENSG00000154723 0.011601929     0.015073692     0.181989119     0.32312746     \n",
       "ENSG00000142192 0.007963595     0.008841317     0.012504365     0.01604350     \n",
       "                ENSG00000154723 ENSG00000142192 ENSG00000154734 ENSG00000156261\n",
       "ENSG00000155307 0.01160193      0.007963595     0.009000957     0.003461580    \n",
       "ENSG00000180530 0.01507369      0.008841317     0.007742435     0.008482778    \n",
       "ENSG00000154719 0.18198912      0.012504365     0.008912926     0.007761299    \n",
       "ENSG00000154721 0.32312746      0.016043497     0.006525722     0.002206431    \n",
       "ENSG00000154723 1.00000000      0.022412794     0.006861036     0.005665594    \n",
       "ENSG00000142192 0.02241279      1.000000000     0.007926083     0.014782609    \n",
       "                ENSG00000171189 ENSG00000156299\n",
       "ENSG00000155307 0.011410717     0.00941759     \n",
       "ENSG00000180530 0.005553854     0.01669379     \n",
       "ENSG00000154719 0.005953778     0.01084581     \n",
       "ENSG00000154721 0.011833583     0.01047997     \n",
       "ENSG00000154723 0.005191232     0.01117467     \n",
       "ENSG00000142192 0.003230170     0.01444797     "
      ]
     },
     "metadata": {},
     "output_type": "display_data"
    }
   ],
   "source": [
    "head(gene_corrs[1:10, 1:10])"
   ]
  },
  {
   "cell_type": "markdown",
   "id": "d6cbc88a-2c90-4d11-b7dd-434f046fd03c",
   "metadata": {
    "papermill": {
     "duration": 0.004523,
     "end_time": "2022-07-12T13:07:46.520634",
     "exception": false,
     "start_time": "2022-07-12T13:07:46.516111",
     "status": "completed"
    },
    "tags": []
   },
   "source": [
    "# Check positive definiteness"
   ]
  },
  {
   "cell_type": "code",
   "execution_count": 17,
   "id": "a858a061-7c5a-4a6b-8026-fe4de50c1f26",
   "metadata": {
    "execution": {
     "iopub.execute_input": "2022-07-12T13:07:46.531764Z",
     "iopub.status.busy": "2022-07-12T13:07:46.530723Z",
     "iopub.status.idle": "2022-07-12T13:07:46.540283Z",
     "shell.execute_reply": "2022-07-12T13:07:46.539085Z"
    },
    "papermill": {
     "duration": 0.016675,
     "end_time": "2022-07-12T13:07:46.541910",
     "exception": false,
     "start_time": "2022-07-12T13:07:46.525235",
     "status": "completed"
    },
    "tags": []
   },
   "outputs": [],
   "source": [
    "orig_matrix_is_positive_definite <- is_positive_definite(gene_corrs)"
   ]
  },
  {
   "cell_type": "code",
   "execution_count": 18,
   "id": "410ee452-488f-4518-b93a-2acd608ba99c",
   "metadata": {
    "execution": {
     "iopub.execute_input": "2022-07-12T13:07:46.553149Z",
     "iopub.status.busy": "2022-07-12T13:07:46.552133Z",
     "iopub.status.idle": "2022-07-12T13:07:46.565888Z",
     "shell.execute_reply": "2022-07-12T13:07:46.564696Z"
    },
    "papermill": {
     "duration": 0.021074,
     "end_time": "2022-07-12T13:07:46.567568",
     "exception": false,
     "start_time": "2022-07-12T13:07:46.546494",
     "status": "completed"
    },
    "tags": []
   },
   "outputs": [
    {
     "data": {
      "text/html": [
       "'Matrix is already positive definite!'"
      ],
      "text/latex": [
       "'Matrix is already positive definite!'"
      ],
      "text/markdown": [
       "'Matrix is already positive definite!'"
      ],
      "text/plain": [
       "[1] \"Matrix is already positive definite!\""
      ]
     },
     "metadata": {},
     "output_type": "display_data"
    },
    {
     "data": {
      "text/html": [
       "TRUE"
      ],
      "text/latex": [
       "TRUE"
      ],
      "text/markdown": [
       "TRUE"
      ],
      "text/plain": [
       "[1] TRUE"
      ]
     },
     "metadata": {},
     "output_type": "display_data"
    }
   ],
   "source": [
    "if (orig_matrix_is_positive_definite) {\n",
    "  IRdisplay::display(\"Matrix is already positive definite!\")\n",
    "  file.copy(INPUT_FILE, OUTPUT_FILE)\n",
    "} else {\n",
    "  IRdisplay::display(\"We need to correct the data and make the matrix positive definite\")\n",
    "\n",
    "  eigenvalues <- eigen(gene_corrs)$values\n",
    "  nonpositive_eigenvalues <- eigenvalues[eigenvalues <= 0]\n",
    "  IRdisplay::display(length(nonpositive_eigenvalues))\n",
    "  IRdisplay::display(nonpositive_eigenvalues)\n",
    "\n",
    "  # Make matrix positive definite\n",
    "  gene_corrs_corrected <- CorrectCM(gene_corrs, 1e-10)\n",
    "  dimnames(gene_corrs_corrected)[[1]] <- rownames(gene_corrs)\n",
    "  dimnames(gene_corrs_corrected)[[2]] <- colnames(gene_corrs)\n",
    "  gene_corrs_corrected <- as.data.frame(gene_corrs_corrected)\n",
    "\n",
    "  # check if new matrix is really positive definite\n",
    "  matrix_is_positive_definite <- is_positive_definite(gene_corrs_corrected)\n",
    "  if (matrix_is_positive_definite) {\n",
    "    IRdisplay::display(\"It worked!\")\n",
    "    IRdisplay::display(head(gene_corrs[1:10, 1:10]))\n",
    "    IRdisplay::display(head(gene_corrs_corrected[1:10, 1:10]))\n",
    "    py_save_object(gene_corrs_corrected, OUTPUT_FILE)\n",
    "  } else {\n",
    "    eigenvalues <- eigen(gene_corrs_corrected)$values\n",
    "    nonpositive_eigenvalues <- eigenvalues[eigenvalues <= 0]\n",
    "    IRdisplay::display(length(nonpositive_eigenvalues))\n",
    "    IRdisplay::display(nonpositive_eigenvalues)\n",
    "\n",
    "    stop(\"Method failed to adjust matrix\")\n",
    "  }\n",
    "}"
   ]
  },
  {
   "cell_type": "markdown",
   "id": "6c196700-7491-462f-bab8-ab9d40c63499",
   "metadata": {
    "papermill": {
     "duration": 0.004689,
     "end_time": "2022-07-12T13:07:46.577133",
     "exception": false,
     "start_time": "2022-07-12T13:07:46.572444",
     "status": "completed"
    },
    "tags": []
   },
   "source": [
    "Both matrices should \"look\" similar. We are not interested in perfectly accurate correlation values (they are already inaccurate)."
   ]
  },
  {
   "cell_type": "code",
   "execution_count": null,
   "id": "d8ae4220-2171-460c-9231-cd5219f3fe77",
   "metadata": {
    "papermill": {
     "duration": 0.004676,
     "end_time": "2022-07-12T13:07:46.586630",
     "exception": false,
     "start_time": "2022-07-12T13:07:46.581954",
     "status": "completed"
    },
    "tags": []
   },
   "outputs": [],
   "source": []
  }
 ],
 "metadata": {
  "jupytext": {
   "cell_metadata_filter": "all,-execution,-papermill,-trusted"
  },
  "kernelspec": {
   "display_name": "R",
   "language": "R",
   "name": "ir"
  },
  "language_info": {
   "codemirror_mode": "r",
   "file_extension": ".r",
   "mimetype": "text/x-r-source",
   "name": "R",
   "pygments_lexer": "r",
   "version": "3.6.3"
  },
  "papermill": {
   "default_parameters": {},
   "duration": 5.312212,
   "end_time": "2022-07-12T13:07:46.708530",
   "environment_variables": {},
   "exception": null,
   "input_path": "nbs/15_gsa_gls/12-gene_expr_correlations-adjust.ipynb",
   "output_path": "nbs/15_gsa_gls/gene_corrs/1000g/mashr/12-gene_expr_correlations-adjust-chr21.run.ipynb",
   "parameters": {
    "EQTL_MODEL": "MASHR",
    "REFERENCE_PANEL": "1000G",
    "chromosome": 21
   },
   "start_time": "2022-07-12T13:07:41.396318",
   "version": "2.3.4"
  }
 },
 "nbformat": 4,
 "nbformat_minor": 5
}
