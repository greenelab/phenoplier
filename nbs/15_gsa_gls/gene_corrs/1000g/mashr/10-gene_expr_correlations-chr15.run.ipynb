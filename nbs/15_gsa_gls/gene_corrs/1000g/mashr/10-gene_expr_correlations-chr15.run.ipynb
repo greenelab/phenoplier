{
 "cells": [
  {
   "cell_type": "markdown",
   "id": "7a6632fb",
   "metadata": {
    "papermill": {
     "duration": 0.008825,
     "end_time": "2022-07-11T07:19:24.604848",
     "exception": false,
     "start_time": "2022-07-11T07:19:24.596023",
     "status": "completed"
    },
    "tags": []
   },
   "source": [
    "# Description"
   ]
  },
  {
   "cell_type": "markdown",
   "id": "7097c346",
   "metadata": {
    "papermill": {
     "duration": 0.005129,
     "end_time": "2022-07-11T07:19:24.622926",
     "exception": false,
     "start_time": "2022-07-11T07:19:24.617797",
     "status": "completed"
    },
    "tags": []
   },
   "source": [
    "(Please, take a look at the README.md file in this directory for instructions on how to run this notebook)\n",
    "\n",
    "This notebook computes predicted expression correlations between all genes in the MultiPLIER models.\n",
    "\n",
    "It also has a parameter set for papermill to run on a single chromosome to run in parallel (see under `Settings` below).\n",
    "\n",
    "This notebook is not directly run. See README.md."
   ]
  },
  {
   "cell_type": "markdown",
   "id": "c61d8427",
   "metadata": {
    "papermill": {
     "duration": 0.013233,
     "end_time": "2022-07-11T07:19:24.649548",
     "exception": false,
     "start_time": "2022-07-11T07:19:24.636315",
     "status": "completed"
    },
    "tags": []
   },
   "source": [
    "# Modules"
   ]
  },
  {
   "cell_type": "code",
   "execution_count": 1,
   "id": "bbc0234f",
   "metadata": {
    "execution": {
     "iopub.execute_input": "2022-07-11T07:19:24.665920Z",
     "iopub.status.busy": "2022-07-11T07:19:24.665242Z",
     "iopub.status.idle": "2022-07-11T07:19:24.679697Z",
     "shell.execute_reply": "2022-07-11T07:19:24.679202Z"
    },
    "papermill": {
     "duration": 0.026175,
     "end_time": "2022-07-11T07:19:24.681096",
     "exception": false,
     "start_time": "2022-07-11T07:19:24.654921",
     "status": "completed"
    },
    "tags": []
   },
   "outputs": [],
   "source": [
    "%load_ext autoreload\n",
    "%autoreload 2"
   ]
  },
  {
   "cell_type": "code",
   "execution_count": 2,
   "id": "1d5f5a59",
   "metadata": {
    "execution": {
     "iopub.execute_input": "2022-07-11T07:19:24.693576Z",
     "iopub.status.busy": "2022-07-11T07:19:24.693140Z",
     "iopub.status.idle": "2022-07-11T07:19:25.616827Z",
     "shell.execute_reply": "2022-07-11T07:19:25.616391Z"
    },
    "papermill": {
     "duration": 0.93165,
     "end_time": "2022-07-11T07:19:25.618244",
     "exception": false,
     "start_time": "2022-07-11T07:19:24.686594",
     "status": "completed"
    },
    "tags": []
   },
   "outputs": [],
   "source": [
    "from random import sample, seed\n",
    "import warnings\n",
    "from pathlib import Path\n",
    "\n",
    "import numpy as np\n",
    "from scipy.spatial.distance import squareform\n",
    "import pandas as pd\n",
    "from tqdm import tqdm\n",
    "import matplotlib.pyplot as plt\n",
    "import seaborn as sns\n",
    "\n",
    "import conf\n",
    "from entity import Gene"
   ]
  },
  {
   "cell_type": "markdown",
   "id": "1eac24b5",
   "metadata": {
    "papermill": {
     "duration": 0.006428,
     "end_time": "2022-07-11T07:19:25.657931",
     "exception": false,
     "start_time": "2022-07-11T07:19:25.651503",
     "status": "completed"
    },
    "tags": []
   },
   "source": [
    "# Settings"
   ]
  },
  {
   "cell_type": "code",
   "execution_count": 3,
   "id": "ca4560ba",
   "metadata": {
    "execution": {
     "iopub.execute_input": "2022-07-11T07:19:25.672732Z",
     "iopub.status.busy": "2022-07-11T07:19:25.672547Z",
     "iopub.status.idle": "2022-07-11T07:19:25.688737Z",
     "shell.execute_reply": "2022-07-11T07:19:25.688318Z"
    },
    "papermill": {
     "duration": 0.024582,
     "end_time": "2022-07-11T07:19:25.690202",
     "exception": false,
     "start_time": "2022-07-11T07:19:25.665620",
     "status": "completed"
    },
    "tags": [
     "parameters"
    ]
   },
   "outputs": [],
   "source": [
    "# reference panel\n",
    "REFERENCE_PANEL = \"GTEX_V8\"\n",
    "# REFERENCE_PANEL = \"1000G\"\n",
    "\n",
    "# prediction models\n",
    "## mashr\n",
    "EQTL_MODEL = \"MASHR\"\n",
    "\n",
    "# this is the default value used in S-MultiXcan to select the\n",
    "# top principal components of the expression correlation matrix\n",
    "SMULTIXCAN_CONDITION_NUMBER = 30\n",
    "\n",
    "# specifies a single chromosome value\n",
    "# by default, run on all chromosomes\n",
    "chromosome = None"
   ]
  },
  {
   "cell_type": "code",
   "execution_count": 4,
   "id": "abef7800",
   "metadata": {
    "execution": {
     "iopub.execute_input": "2022-07-11T07:19:25.702829Z",
     "iopub.status.busy": "2022-07-11T07:19:25.702661Z",
     "iopub.status.idle": "2022-07-11T07:19:25.717785Z",
     "shell.execute_reply": "2022-07-11T07:19:25.717396Z"
    },
    "papermill": {
     "duration": 0.022886,
     "end_time": "2022-07-11T07:19:25.719174",
     "exception": false,
     "start_time": "2022-07-11T07:19:25.696288",
     "status": "completed"
    },
    "tags": [
     "injected-parameters"
    ]
   },
   "outputs": [],
   "source": [
    "# Parameters\n",
    "chromosome = 15\n",
    "REFERENCE_PANEL = \"1000G\"\n",
    "EQTL_MODEL = \"MASHR\"\n"
   ]
  },
  {
   "cell_type": "code",
   "execution_count": 5,
   "id": "a089c9ff",
   "metadata": {
    "execution": {
     "iopub.execute_input": "2022-07-11T07:19:25.731607Z",
     "iopub.status.busy": "2022-07-11T07:19:25.731437Z",
     "iopub.status.idle": "2022-07-11T07:19:25.746968Z",
     "shell.execute_reply": "2022-07-11T07:19:25.746548Z"
    },
    "papermill": {
     "duration": 0.02311,
     "end_time": "2022-07-11T07:19:25.748415",
     "exception": false,
     "start_time": "2022-07-11T07:19:25.725305",
     "status": "completed"
    },
    "tags": []
   },
   "outputs": [],
   "source": [
    "EQTL_MODEL_FILES_PREFIX = conf.PHENOMEXCAN[\"PREDICTION_MODELS\"][f\"{EQTL_MODEL}_PREFIX\"]"
   ]
  },
  {
   "cell_type": "code",
   "execution_count": 6,
   "id": "8fe24bef",
   "metadata": {
    "execution": {
     "iopub.execute_input": "2022-07-11T07:19:25.760655Z",
     "iopub.status.busy": "2022-07-11T07:19:25.760492Z",
     "iopub.status.idle": "2022-07-11T07:19:25.778681Z",
     "shell.execute_reply": "2022-07-11T07:19:25.778281Z"
    },
    "papermill": {
     "duration": 0.025629,
     "end_time": "2022-07-11T07:19:25.779982",
     "exception": false,
     "start_time": "2022-07-11T07:19:25.754353",
     "status": "completed"
    },
    "tags": []
   },
   "outputs": [
    {
     "data": {
      "text/plain": [
       "'Using eQTL model: MASHR / mashr_'"
      ]
     },
     "metadata": {},
     "output_type": "display_data"
    }
   ],
   "source": [
    "display(f\"Using eQTL model: {EQTL_MODEL} / {EQTL_MODEL_FILES_PREFIX}\")"
   ]
  },
  {
   "cell_type": "code",
   "execution_count": 7,
   "id": "552a7f63-a18c-4d3e-bb6a-94f99b431291",
   "metadata": {
    "execution": {
     "iopub.execute_input": "2022-07-11T07:19:25.792050Z",
     "iopub.status.busy": "2022-07-11T07:19:25.791889Z",
     "iopub.status.idle": "2022-07-11T07:19:25.808299Z",
     "shell.execute_reply": "2022-07-11T07:19:25.807922Z"
    },
    "papermill": {
     "duration": 0.023794,
     "end_time": "2022-07-11T07:19:25.809606",
     "exception": false,
     "start_time": "2022-07-11T07:19:25.785812",
     "status": "completed"
    },
    "tags": []
   },
   "outputs": [
    {
     "data": {
      "text/plain": [
       "'S-MultiXcan condition number: 30'"
      ]
     },
     "metadata": {},
     "output_type": "display_data"
    }
   ],
   "source": [
    "display(f\"S-MultiXcan condition number: {SMULTIXCAN_CONDITION_NUMBER}\")"
   ]
  },
  {
   "cell_type": "code",
   "execution_count": 8,
   "id": "0230ebcb-2c32-4b95-9292-d9a52038e70d",
   "metadata": {
    "execution": {
     "iopub.execute_input": "2022-07-11T07:19:25.823412Z",
     "iopub.status.busy": "2022-07-11T07:19:25.823231Z",
     "iopub.status.idle": "2022-07-11T07:19:25.837331Z",
     "shell.execute_reply": "2022-07-11T07:19:25.836821Z"
    },
    "papermill": {
     "duration": 0.021884,
     "end_time": "2022-07-11T07:19:25.838618",
     "exception": false,
     "start_time": "2022-07-11T07:19:25.816734",
     "status": "completed"
    },
    "tags": []
   },
   "outputs": [],
   "source": [
    "REFERENCE_PANEL_DIR = conf.PHENOMEXCAN[\"LD_BLOCKS\"][f\"{REFERENCE_PANEL}_GENOTYPE_DIR\"]"
   ]
  },
  {
   "cell_type": "code",
   "execution_count": 9,
   "id": "98c4a159-601d-4a22-a1ab-35bd451c25f9",
   "metadata": {
    "execution": {
     "iopub.execute_input": "2022-07-11T07:19:25.851497Z",
     "iopub.status.busy": "2022-07-11T07:19:25.851040Z",
     "iopub.status.idle": "2022-07-11T07:19:25.866594Z",
     "shell.execute_reply": "2022-07-11T07:19:25.866109Z"
    },
    "papermill": {
     "duration": 0.02323,
     "end_time": "2022-07-11T07:19:25.867853",
     "exception": false,
     "start_time": "2022-07-11T07:19:25.844623",
     "status": "completed"
    },
    "tags": []
   },
   "outputs": [
    {
     "data": {
      "text/plain": [
       "'Using reference panel folder: /opt/data/data/phenomexcan/ld_blocks/reference_panel_1000G'"
      ]
     },
     "metadata": {},
     "output_type": "display_data"
    }
   ],
   "source": [
    "display(f\"Using reference panel folder: {str(REFERENCE_PANEL_DIR)}\")"
   ]
  },
  {
   "cell_type": "code",
   "execution_count": 10,
   "id": "396392dc-0340-4540-9b02-e182b833f909",
   "metadata": {
    "execution": {
     "iopub.execute_input": "2022-07-11T07:19:25.880814Z",
     "iopub.status.busy": "2022-07-11T07:19:25.880502Z",
     "iopub.status.idle": "2022-07-11T07:19:25.896559Z",
     "shell.execute_reply": "2022-07-11T07:19:25.896140Z"
    },
    "papermill": {
     "duration": 0.02392,
     "end_time": "2022-07-11T07:19:25.897927",
     "exception": false,
     "start_time": "2022-07-11T07:19:25.874007",
     "status": "completed"
    },
    "tags": []
   },
   "outputs": [],
   "source": [
    "OUTPUT_DIR_BASE = (\n",
    "    conf.PHENOMEXCAN[\"LD_BLOCKS\"][f\"GENE_CORRS_DIR\"]\n",
    "    / REFERENCE_PANEL.lower()\n",
    "    / EQTL_MODEL.lower()\n",
    ")\n",
    "OUTPUT_DIR_BASE.mkdir(parents=True, exist_ok=True)"
   ]
  },
  {
   "cell_type": "code",
   "execution_count": 11,
   "id": "8942c2d3-e53c-4d63-a0eb-b6fce0574d36",
   "metadata": {
    "execution": {
     "iopub.execute_input": "2022-07-11T07:19:25.910726Z",
     "iopub.status.busy": "2022-07-11T07:19:25.910519Z",
     "iopub.status.idle": "2022-07-11T07:19:25.926705Z",
     "shell.execute_reply": "2022-07-11T07:19:25.926284Z"
    },
    "papermill": {
     "duration": 0.023961,
     "end_time": "2022-07-11T07:19:25.928037",
     "exception": false,
     "start_time": "2022-07-11T07:19:25.904076",
     "status": "completed"
    },
    "tags": []
   },
   "outputs": [
    {
     "data": {
      "text/plain": [
       "'Using output dir base: /opt/data/data/phenomexcan/ld_blocks/gene_corrs/1000g/mashr'"
      ]
     },
     "metadata": {},
     "output_type": "display_data"
    }
   ],
   "source": [
    "display(f\"Using output dir base: {OUTPUT_DIR_BASE}\")"
   ]
  },
  {
   "cell_type": "code",
   "execution_count": 12,
   "id": "408aa590",
   "metadata": {
    "execution": {
     "iopub.execute_input": "2022-07-11T07:19:25.941201Z",
     "iopub.status.busy": "2022-07-11T07:19:25.940995Z",
     "iopub.status.idle": "2022-07-11T07:19:25.955271Z",
     "shell.execute_reply": "2022-07-11T07:19:25.954866Z"
    },
    "papermill": {
     "duration": 0.022261,
     "end_time": "2022-07-11T07:19:25.956609",
     "exception": false,
     "start_time": "2022-07-11T07:19:25.934348",
     "status": "completed"
    },
    "tags": []
   },
   "outputs": [],
   "source": [
    "assert (\n",
    "    chromosome is not None\n",
    "), \"You have to select one chromosome (format: number between 1 and 22)\""
   ]
  },
  {
   "cell_type": "code",
   "execution_count": 13,
   "id": "c1c7dd06-80ff-453c-bcb7-0899edce75da",
   "metadata": {
    "execution": {
     "iopub.execute_input": "2022-07-11T07:19:25.969656Z",
     "iopub.status.busy": "2022-07-11T07:19:25.969443Z",
     "iopub.status.idle": "2022-07-11T07:19:25.983551Z",
     "shell.execute_reply": "2022-07-11T07:19:25.983159Z"
    },
    "papermill": {
     "duration": 0.02216,
     "end_time": "2022-07-11T07:19:25.985002",
     "exception": false,
     "start_time": "2022-07-11T07:19:25.962842",
     "status": "completed"
    },
    "tags": []
   },
   "outputs": [],
   "source": [
    "chromosome = str(chromosome)"
   ]
  },
  {
   "cell_type": "code",
   "execution_count": 14,
   "id": "bc17b84c-9c26-47a5-a3ab-7046e72f3ef4",
   "metadata": {
    "execution": {
     "iopub.execute_input": "2022-07-11T07:19:25.999625Z",
     "iopub.status.busy": "2022-07-11T07:19:25.999291Z",
     "iopub.status.idle": "2022-07-11T07:19:26.014351Z",
     "shell.execute_reply": "2022-07-11T07:19:26.013910Z"
    },
    "papermill": {
     "duration": 0.023097,
     "end_time": "2022-07-11T07:19:26.015592",
     "exception": false,
     "start_time": "2022-07-11T07:19:25.992495",
     "status": "completed"
    },
    "tags": []
   },
   "outputs": [
    {
     "data": {
      "text/plain": [
       "'Working on chromosome 15'"
      ]
     },
     "metadata": {},
     "output_type": "display_data"
    }
   ],
   "source": [
    "display(f\"Working on chromosome {chromosome}\")"
   ]
  },
  {
   "cell_type": "markdown",
   "id": "d2ba085e",
   "metadata": {
    "papermill": {
     "duration": 0.006047,
     "end_time": "2022-07-11T07:19:26.028035",
     "exception": false,
     "start_time": "2022-07-11T07:19:26.021988",
     "status": "completed"
    },
    "tags": []
   },
   "source": [
    "# Load data"
   ]
  },
  {
   "cell_type": "markdown",
   "id": "7bed0ce0-e7c7-4300-9a61-5412450b1904",
   "metadata": {
    "papermill": {
     "duration": 0.005896,
     "end_time": "2022-07-11T07:19:26.040003",
     "exception": false,
     "start_time": "2022-07-11T07:19:26.034107",
     "status": "completed"
    },
    "tags": []
   },
   "source": [
    "## Prediction model tissues"
   ]
  },
  {
   "cell_type": "code",
   "execution_count": 15,
   "id": "0847c065-0d69-4830-a07f-1c75115d17f5",
   "metadata": {
    "execution": {
     "iopub.execute_input": "2022-07-11T07:19:26.053025Z",
     "iopub.status.busy": "2022-07-11T07:19:26.052857Z",
     "iopub.status.idle": "2022-07-11T07:19:26.069327Z",
     "shell.execute_reply": "2022-07-11T07:19:26.068895Z"
    },
    "papermill": {
     "duration": 0.024611,
     "end_time": "2022-07-11T07:19:26.070688",
     "exception": false,
     "start_time": "2022-07-11T07:19:26.046077",
     "status": "completed"
    },
    "tags": []
   },
   "outputs": [],
   "source": [
    "prediction_model_tissues = conf.PHENOMEXCAN[\"PREDICTION_MODELS\"][\n",
    "    f\"{EQTL_MODEL}_TISSUES\"\n",
    "].split(\" \")"
   ]
  },
  {
   "cell_type": "code",
   "execution_count": 16,
   "id": "aaef70d1-30c6-4c6f-9d6b-abc8e9a0081f",
   "metadata": {
    "execution": {
     "iopub.execute_input": "2022-07-11T07:19:26.083920Z",
     "iopub.status.busy": "2022-07-11T07:19:26.083569Z",
     "iopub.status.idle": "2022-07-11T07:19:26.099955Z",
     "shell.execute_reply": "2022-07-11T07:19:26.099541Z"
    },
    "papermill": {
     "duration": 0.024066,
     "end_time": "2022-07-11T07:19:26.101149",
     "exception": false,
     "start_time": "2022-07-11T07:19:26.077083",
     "status": "completed"
    },
    "tags": []
   },
   "outputs": [
    {
     "data": {
      "text/plain": [
       "49"
      ]
     },
     "execution_count": 16,
     "metadata": {},
     "output_type": "execute_result"
    }
   ],
   "source": [
    "len(prediction_model_tissues)"
   ]
  },
  {
   "cell_type": "code",
   "execution_count": 17,
   "id": "ff35a099-c52d-465d-b863-0ee70c26208c",
   "metadata": {
    "execution": {
     "iopub.execute_input": "2022-07-11T07:19:26.114541Z",
     "iopub.status.busy": "2022-07-11T07:19:26.114184Z",
     "iopub.status.idle": "2022-07-11T07:19:26.131574Z",
     "shell.execute_reply": "2022-07-11T07:19:26.131187Z"
    },
    "papermill": {
     "duration": 0.025596,
     "end_time": "2022-07-11T07:19:26.132888",
     "exception": false,
     "start_time": "2022-07-11T07:19:26.107292",
     "status": "completed"
    },
    "tags": []
   },
   "outputs": [
    {
     "data": {
      "text/plain": [
       "['Skin_Not_Sun_Exposed_Suprapubic',\n",
       " 'Cells_EBV-transformed_lymphocytes',\n",
       " 'Brain_Frontal_Cortex_BA9',\n",
       " 'Kidney_Cortex',\n",
       " 'Brain_Substantia_nigra']"
      ]
     },
     "execution_count": 17,
     "metadata": {},
     "output_type": "execute_result"
    }
   ],
   "source": [
    "prediction_model_tissues[:5]"
   ]
  },
  {
   "cell_type": "markdown",
   "id": "abcc4b3d",
   "metadata": {
    "papermill": {
     "duration": 0.006065,
     "end_time": "2022-07-11T07:19:26.145482",
     "exception": false,
     "start_time": "2022-07-11T07:19:26.139417",
     "status": "completed"
    },
    "tags": []
   },
   "source": [
    "## MultiPLIER Z"
   ]
  },
  {
   "cell_type": "code",
   "execution_count": 18,
   "id": "c48ef527",
   "metadata": {
    "execution": {
     "iopub.execute_input": "2022-07-11T07:19:26.158763Z",
     "iopub.status.busy": "2022-07-11T07:19:26.158368Z",
     "iopub.status.idle": "2022-07-11T07:19:26.200048Z",
     "shell.execute_reply": "2022-07-11T07:19:26.199629Z"
    },
    "papermill": {
     "duration": 0.049804,
     "end_time": "2022-07-11T07:19:26.201481",
     "exception": false,
     "start_time": "2022-07-11T07:19:26.151677",
     "status": "completed"
    },
    "tags": []
   },
   "outputs": [],
   "source": [
    "multiplier_z_genes = pd.read_pickle(\n",
    "    conf.MULTIPLIER[\"MODEL_Z_MATRIX_FILE\"]\n",
    ").index.tolist()"
   ]
  },
  {
   "cell_type": "code",
   "execution_count": 19,
   "id": "0a4ecbd9",
   "metadata": {
    "execution": {
     "iopub.execute_input": "2022-07-11T07:19:26.215783Z",
     "iopub.status.busy": "2022-07-11T07:19:26.215611Z",
     "iopub.status.idle": "2022-07-11T07:19:26.232408Z",
     "shell.execute_reply": "2022-07-11T07:19:26.232022Z"
    },
    "papermill": {
     "duration": 0.025605,
     "end_time": "2022-07-11T07:19:26.233714",
     "exception": false,
     "start_time": "2022-07-11T07:19:26.208109",
     "status": "completed"
    },
    "tags": []
   },
   "outputs": [
    {
     "data": {
      "text/plain": [
       "6750"
      ]
     },
     "execution_count": 19,
     "metadata": {},
     "output_type": "execute_result"
    }
   ],
   "source": [
    "len(multiplier_z_genes)"
   ]
  },
  {
   "cell_type": "code",
   "execution_count": 20,
   "id": "115e8864",
   "metadata": {
    "execution": {
     "iopub.execute_input": "2022-07-11T07:19:26.254878Z",
     "iopub.status.busy": "2022-07-11T07:19:26.254716Z",
     "iopub.status.idle": "2022-07-11T07:19:26.271160Z",
     "shell.execute_reply": "2022-07-11T07:19:26.270782Z"
    },
    "papermill": {
     "duration": 0.027771,
     "end_time": "2022-07-11T07:19:26.272441",
     "exception": false,
     "start_time": "2022-07-11T07:19:26.244670",
     "status": "completed"
    },
    "tags": []
   },
   "outputs": [
    {
     "data": {
      "text/plain": [
       "['GAS6',\n",
       " 'MMP14',\n",
       " 'DSP',\n",
       " 'MARCKSL1',\n",
       " 'SPARC',\n",
       " 'CTSD',\n",
       " 'EPAS1',\n",
       " 'PALLD',\n",
       " 'PHC2',\n",
       " 'LGALS3BP']"
      ]
     },
     "execution_count": 20,
     "metadata": {},
     "output_type": "execute_result"
    }
   ],
   "source": [
    "multiplier_z_genes[:10]"
   ]
  },
  {
   "cell_type": "markdown",
   "id": "7dcb8db7",
   "metadata": {
    "papermill": {
     "duration": 0.012637,
     "end_time": "2022-07-11T07:19:26.295681",
     "exception": false,
     "start_time": "2022-07-11T07:19:26.283044",
     "status": "completed"
    },
    "tags": []
   },
   "source": [
    "## Get gene objects"
   ]
  },
  {
   "cell_type": "code",
   "execution_count": 21,
   "id": "bb932812",
   "metadata": {
    "execution": {
     "iopub.execute_input": "2022-07-11T07:19:26.322822Z",
     "iopub.status.busy": "2022-07-11T07:19:26.322661Z",
     "iopub.status.idle": "2022-07-11T07:19:26.358842Z",
     "shell.execute_reply": "2022-07-11T07:19:26.358441Z"
    },
    "papermill": {
     "duration": 0.0509,
     "end_time": "2022-07-11T07:19:26.360081",
     "exception": false,
     "start_time": "2022-07-11T07:19:26.309181",
     "status": "completed"
    },
    "tags": []
   },
   "outputs": [],
   "source": [
    "multiplier_gene_obj = {\n",
    "    gene_name: Gene(name=gene_name)\n",
    "    for gene_name in multiplier_z_genes\n",
    "    if gene_name in Gene.GENE_NAME_TO_ID_MAP\n",
    "}"
   ]
  },
  {
   "cell_type": "code",
   "execution_count": 22,
   "id": "39533214",
   "metadata": {
    "execution": {
     "iopub.execute_input": "2022-07-11T07:19:26.389842Z",
     "iopub.status.busy": "2022-07-11T07:19:26.389682Z",
     "iopub.status.idle": "2022-07-11T07:19:26.413303Z",
     "shell.execute_reply": "2022-07-11T07:19:26.412924Z"
    },
    "papermill": {
     "duration": 0.039684,
     "end_time": "2022-07-11T07:19:26.414396",
     "exception": false,
     "start_time": "2022-07-11T07:19:26.374712",
     "status": "completed"
    },
    "tags": []
   },
   "outputs": [
    {
     "data": {
      "text/plain": [
       "6454"
      ]
     },
     "execution_count": 22,
     "metadata": {},
     "output_type": "execute_result"
    }
   ],
   "source": [
    "len(multiplier_gene_obj)"
   ]
  },
  {
   "cell_type": "code",
   "execution_count": 23,
   "id": "9a5d0b84",
   "metadata": {
    "execution": {
     "iopub.execute_input": "2022-07-11T07:19:26.436111Z",
     "iopub.status.busy": "2022-07-11T07:19:26.435949Z",
     "iopub.status.idle": "2022-07-11T07:19:26.459733Z",
     "shell.execute_reply": "2022-07-11T07:19:26.459354Z"
    },
    "papermill": {
     "duration": 0.032111,
     "end_time": "2022-07-11T07:19:26.461066",
     "exception": false,
     "start_time": "2022-07-11T07:19:26.428955",
     "status": "completed"
    },
    "tags": []
   },
   "outputs": [
    {
     "data": {
      "text/plain": [
       "'ENSG00000183087'"
      ]
     },
     "execution_count": 23,
     "metadata": {},
     "output_type": "execute_result"
    }
   ],
   "source": [
    "multiplier_gene_obj[\"GAS6\"].ensembl_id"
   ]
  },
  {
   "cell_type": "code",
   "execution_count": 24,
   "id": "e3ffabc7",
   "metadata": {
    "execution": {
     "iopub.execute_input": "2022-07-11T07:19:26.482933Z",
     "iopub.status.busy": "2022-07-11T07:19:26.482772Z",
     "iopub.status.idle": "2022-07-11T07:19:28.984300Z",
     "shell.execute_reply": "2022-07-11T07:19:28.983904Z"
    },
    "papermill": {
     "duration": 2.509917,
     "end_time": "2022-07-11T07:19:28.985547",
     "exception": false,
     "start_time": "2022-07-11T07:19:26.475630",
     "status": "completed"
    },
    "tags": []
   },
   "outputs": [],
   "source": [
    "_gene_obj = list(multiplier_gene_obj.values())\n",
    "\n",
    "genes_info = pd.DataFrame(\n",
    "    {\n",
    "        \"name\": [g.name for g in _gene_obj],\n",
    "        \"id\": [g.ensembl_id for g in _gene_obj],\n",
    "        \"chr\": [g.chromosome for g in _gene_obj],\n",
    "        \"band\": [g.band for g in _gene_obj],\n",
    "        \"start_position\": [g.get_attribute(\"start_position\") for g in _gene_obj],\n",
    "    }\n",
    ")"
   ]
  },
  {
   "cell_type": "code",
   "execution_count": 25,
   "id": "e23519b8",
   "metadata": {
    "execution": {
     "iopub.execute_input": "2022-07-11T07:19:29.016817Z",
     "iopub.status.busy": "2022-07-11T07:19:29.016656Z",
     "iopub.status.idle": "2022-07-11T07:19:29.040336Z",
     "shell.execute_reply": "2022-07-11T07:19:29.039954Z"
    },
    "papermill": {
     "duration": 0.041157,
     "end_time": "2022-07-11T07:19:29.041446",
     "exception": false,
     "start_time": "2022-07-11T07:19:29.000289",
     "status": "completed"
    },
    "tags": []
   },
   "outputs": [
    {
     "data": {
      "text/plain": [
       "(6454, 5)"
      ]
     },
     "execution_count": 25,
     "metadata": {},
     "output_type": "execute_result"
    }
   ],
   "source": [
    "genes_info.shape"
   ]
  },
  {
   "cell_type": "code",
   "execution_count": 26,
   "id": "0d71881c",
   "metadata": {
    "execution": {
     "iopub.execute_input": "2022-07-11T07:19:29.072748Z",
     "iopub.status.busy": "2022-07-11T07:19:29.072584Z",
     "iopub.status.idle": "2022-07-11T07:19:29.110697Z",
     "shell.execute_reply": "2022-07-11T07:19:29.110289Z"
    },
    "papermill": {
     "duration": 0.055898,
     "end_time": "2022-07-11T07:19:29.112103",
     "exception": false,
     "start_time": "2022-07-11T07:19:29.056205",
     "status": "completed"
    },
    "tags": []
   },
   "outputs": [
    {
     "data": {
      "text/html": [
       "<div>\n",
       "<style scoped>\n",
       "    .dataframe tbody tr th:only-of-type {\n",
       "        vertical-align: middle;\n",
       "    }\n",
       "\n",
       "    .dataframe tbody tr th {\n",
       "        vertical-align: top;\n",
       "    }\n",
       "\n",
       "    .dataframe thead th {\n",
       "        text-align: right;\n",
       "    }\n",
       "</style>\n",
       "<table border=\"1\" class=\"dataframe\">\n",
       "  <thead>\n",
       "    <tr style=\"text-align: right;\">\n",
       "      <th></th>\n",
       "      <th>name</th>\n",
       "      <th>id</th>\n",
       "      <th>chr</th>\n",
       "      <th>band</th>\n",
       "      <th>start_position</th>\n",
       "    </tr>\n",
       "  </thead>\n",
       "  <tbody>\n",
       "    <tr>\n",
       "      <th>0</th>\n",
       "      <td>GAS6</td>\n",
       "      <td>ENSG00000183087</td>\n",
       "      <td>13</td>\n",
       "      <td>13q34</td>\n",
       "      <td>113820549.0</td>\n",
       "    </tr>\n",
       "    <tr>\n",
       "      <th>1</th>\n",
       "      <td>MMP14</td>\n",
       "      <td>ENSG00000157227</td>\n",
       "      <td>14</td>\n",
       "      <td>14q11.2</td>\n",
       "      <td>22836560.0</td>\n",
       "    </tr>\n",
       "    <tr>\n",
       "      <th>2</th>\n",
       "      <td>DSP</td>\n",
       "      <td>ENSG00000096696</td>\n",
       "      <td>6</td>\n",
       "      <td>6p24.3</td>\n",
       "      <td>7541617.0</td>\n",
       "    </tr>\n",
       "    <tr>\n",
       "      <th>3</th>\n",
       "      <td>MARCKSL1</td>\n",
       "      <td>ENSG00000175130</td>\n",
       "      <td>1</td>\n",
       "      <td>1p35.1</td>\n",
       "      <td>32333839.0</td>\n",
       "    </tr>\n",
       "    <tr>\n",
       "      <th>4</th>\n",
       "      <td>SPARC</td>\n",
       "      <td>ENSG00000113140</td>\n",
       "      <td>5</td>\n",
       "      <td>5q33.1</td>\n",
       "      <td>151661096.0</td>\n",
       "    </tr>\n",
       "  </tbody>\n",
       "</table>\n",
       "</div>"
      ],
      "text/plain": [
       "       name               id chr     band  start_position\n",
       "0      GAS6  ENSG00000183087  13    13q34     113820549.0\n",
       "1     MMP14  ENSG00000157227  14  14q11.2      22836560.0\n",
       "2       DSP  ENSG00000096696   6   6p24.3       7541617.0\n",
       "3  MARCKSL1  ENSG00000175130   1   1p35.1      32333839.0\n",
       "4     SPARC  ENSG00000113140   5   5q33.1     151661096.0"
      ]
     },
     "execution_count": 26,
     "metadata": {},
     "output_type": "execute_result"
    }
   ],
   "source": [
    "genes_info.head()"
   ]
  },
  {
   "cell_type": "markdown",
   "id": "c8d1038f",
   "metadata": {
    "papermill": {
     "duration": 0.012344,
     "end_time": "2022-07-11T07:19:29.135483",
     "exception": false,
     "start_time": "2022-07-11T07:19:29.123139",
     "status": "completed"
    },
    "tags": []
   },
   "source": [
    "# Test"
   ]
  },
  {
   "cell_type": "code",
   "execution_count": 27,
   "id": "64993abf",
   "metadata": {
    "execution": {
     "iopub.execute_input": "2022-07-11T07:19:29.166549Z",
     "iopub.status.busy": "2022-07-11T07:19:29.166129Z",
     "iopub.status.idle": "2022-07-11T07:19:29.205751Z",
     "shell.execute_reply": "2022-07-11T07:19:29.205330Z"
    },
    "papermill": {
     "duration": 0.054926,
     "end_time": "2022-07-11T07:19:29.206949",
     "exception": false,
     "start_time": "2022-07-11T07:19:29.152023",
     "status": "completed"
    },
    "tags": []
   },
   "outputs": [
    {
     "data": {
      "text/html": [
       "<div>\n",
       "<style scoped>\n",
       "    .dataframe tbody tr th:only-of-type {\n",
       "        vertical-align: middle;\n",
       "    }\n",
       "\n",
       "    .dataframe tbody tr th {\n",
       "        vertical-align: top;\n",
       "    }\n",
       "\n",
       "    .dataframe thead th {\n",
       "        text-align: right;\n",
       "    }\n",
       "</style>\n",
       "<table border=\"1\" class=\"dataframe\">\n",
       "  <thead>\n",
       "    <tr style=\"text-align: right;\">\n",
       "      <th></th>\n",
       "      <th>name</th>\n",
       "      <th>id</th>\n",
       "      <th>chr</th>\n",
       "      <th>band</th>\n",
       "      <th>start_position</th>\n",
       "    </tr>\n",
       "  </thead>\n",
       "  <tbody>\n",
       "    <tr>\n",
       "      <th>12</th>\n",
       "      <td>THBS1</td>\n",
       "      <td>ENSG00000137801</td>\n",
       "      <td>15</td>\n",
       "      <td>15q14</td>\n",
       "      <td>39581079.0</td>\n",
       "    </tr>\n",
       "    <tr>\n",
       "      <th>66</th>\n",
       "      <td>CCNB2</td>\n",
       "      <td>ENSG00000157456</td>\n",
       "      <td>15</td>\n",
       "      <td>15q22.2</td>\n",
       "      <td>59105126.0</td>\n",
       "    </tr>\n",
       "    <tr>\n",
       "      <th>70</th>\n",
       "      <td>FBN1</td>\n",
       "      <td>ENSG00000166147</td>\n",
       "      <td>15</td>\n",
       "      <td>15q21.1</td>\n",
       "      <td>48408306.0</td>\n",
       "    </tr>\n",
       "    <tr>\n",
       "      <th>73</th>\n",
       "      <td>SPINT1</td>\n",
       "      <td>ENSG00000166145</td>\n",
       "      <td>15</td>\n",
       "      <td>15q15.1</td>\n",
       "      <td>40844018.0</td>\n",
       "    </tr>\n",
       "    <tr>\n",
       "      <th>75</th>\n",
       "      <td>ANPEP</td>\n",
       "      <td>ENSG00000166825</td>\n",
       "      <td>15</td>\n",
       "      <td>15q26.1</td>\n",
       "      <td>89784895.0</td>\n",
       "    </tr>\n",
       "    <tr>\n",
       "      <th>...</th>\n",
       "      <td>...</td>\n",
       "      <td>...</td>\n",
       "      <td>...</td>\n",
       "      <td>...</td>\n",
       "      <td>...</td>\n",
       "    </tr>\n",
       "    <tr>\n",
       "      <th>6365</th>\n",
       "      <td>MAP2K1</td>\n",
       "      <td>ENSG00000169032</td>\n",
       "      <td>15</td>\n",
       "      <td>15q22.31</td>\n",
       "      <td>66386817.0</td>\n",
       "    </tr>\n",
       "    <tr>\n",
       "      <th>6368</th>\n",
       "      <td>MAP2K5</td>\n",
       "      <td>ENSG00000137764</td>\n",
       "      <td>15</td>\n",
       "      <td>15q23</td>\n",
       "      <td>67542703.0</td>\n",
       "    </tr>\n",
       "    <tr>\n",
       "      <th>6385</th>\n",
       "      <td>RYR3</td>\n",
       "      <td>ENSG00000198838</td>\n",
       "      <td>15</td>\n",
       "      <td>15q13.3</td>\n",
       "      <td>33310945.0</td>\n",
       "    </tr>\n",
       "    <tr>\n",
       "      <th>6389</th>\n",
       "      <td>SLCO3A1</td>\n",
       "      <td>ENSG00000176463</td>\n",
       "      <td>15</td>\n",
       "      <td>15q26.1</td>\n",
       "      <td>91853708.0</td>\n",
       "    </tr>\n",
       "    <tr>\n",
       "      <th>6439</th>\n",
       "      <td>NDN</td>\n",
       "      <td>ENSG00000182636</td>\n",
       "      <td>15</td>\n",
       "      <td>15q11.2</td>\n",
       "      <td>23685400.0</td>\n",
       "    </tr>\n",
       "  </tbody>\n",
       "</table>\n",
       "<p>187 rows × 5 columns</p>\n",
       "</div>"
      ],
      "text/plain": [
       "         name               id chr      band  start_position\n",
       "12      THBS1  ENSG00000137801  15     15q14      39581079.0\n",
       "66      CCNB2  ENSG00000157456  15   15q22.2      59105126.0\n",
       "70       FBN1  ENSG00000166147  15   15q21.1      48408306.0\n",
       "73     SPINT1  ENSG00000166145  15   15q15.1      40844018.0\n",
       "75      ANPEP  ENSG00000166825  15   15q26.1      89784895.0\n",
       "...       ...              ...  ..       ...             ...\n",
       "6365   MAP2K1  ENSG00000169032  15  15q22.31      66386817.0\n",
       "6368   MAP2K5  ENSG00000137764  15     15q23      67542703.0\n",
       "6385     RYR3  ENSG00000198838  15   15q13.3      33310945.0\n",
       "6389  SLCO3A1  ENSG00000176463  15   15q26.1      91853708.0\n",
       "6439      NDN  ENSG00000182636  15   15q11.2      23685400.0\n",
       "\n",
       "[187 rows x 5 columns]"
      ]
     },
     "metadata": {},
     "output_type": "display_data"
    }
   ],
   "source": [
    "chromosome_genes_info = genes_info[genes_info[\"chr\"] == chromosome]\n",
    "display(chromosome_genes_info)"
   ]
  },
  {
   "cell_type": "code",
   "execution_count": 28,
   "id": "d2e42726-7de6-46eb-acfc-6323eaa8fae6",
   "metadata": {
    "execution": {
     "iopub.execute_input": "2022-07-11T07:19:29.228780Z",
     "iopub.status.busy": "2022-07-11T07:19:29.228611Z",
     "iopub.status.idle": "2022-07-11T07:19:29.243719Z",
     "shell.execute_reply": "2022-07-11T07:19:29.243244Z"
    },
    "papermill": {
     "duration": 0.029985,
     "end_time": "2022-07-11T07:19:29.245096",
     "exception": false,
     "start_time": "2022-07-11T07:19:29.215111",
     "status": "completed"
    },
    "tags": []
   },
   "outputs": [
    {
     "data": {
      "text/plain": [
       "5"
      ]
     },
     "metadata": {},
     "output_type": "display_data"
    }
   ],
   "source": [
    "seed(0)\n",
    "_gene_list_ids = sample(chromosome_genes_info[\"id\"].tolist(), 5)\n",
    "selected_chromosome_genes_obj = [Gene(ensembl_id=g_id) for g_id in _gene_list_ids]\n",
    "display(len(selected_chromosome_genes_obj))"
   ]
  },
  {
   "cell_type": "code",
   "execution_count": 29,
   "id": "1b355359",
   "metadata": {
    "execution": {
     "iopub.execute_input": "2022-07-11T07:19:29.261103Z",
     "iopub.status.busy": "2022-07-11T07:19:29.260936Z",
     "iopub.status.idle": "2022-07-11T07:19:32.148887Z",
     "shell.execute_reply": "2022-07-11T07:19:32.148496Z"
    },
    "papermill": {
     "duration": 2.897235,
     "end_time": "2022-07-11T07:19:32.150148",
     "exception": false,
     "start_time": "2022-07-11T07:19:29.252913",
     "status": "completed"
    },
    "tags": []
   },
   "outputs": [
    {
     "name": "stdout",
     "output_type": "stream",
     "text": [
      "FAH / NEIL1: 0.012740525233897746\n",
      "FAH / ST20: 0.03824661275849343\n",
      "FAH / TLE3: 0.0\n",
      "FAH / ANP32A: 0.0\n",
      "NEIL1 / ST20: 0.005898012455106619\n",
      "NEIL1 / TLE3: 0.0\n",
      "NEIL1 / ANP32A: 0.0\n",
      "ST20 / TLE3: 0.0\n",
      "ST20 / ANP32A: 0.0\n",
      "TLE3 / ANP32A: 0.012992797592738992\n"
     ]
    }
   ],
   "source": [
    "for gene_idx1 in range(0, len(selected_chromosome_genes_obj) - 1):\n",
    "    gene_obj1 = selected_chromosome_genes_obj[gene_idx1]\n",
    "\n",
    "    for gene_idx2 in range(gene_idx1 + 1, len(selected_chromosome_genes_obj)):\n",
    "        gene_obj2 = selected_chromosome_genes_obj[gene_idx2]\n",
    "\n",
    "        c = gene_obj1.get_ssm_correlation(\n",
    "            gene_obj2,\n",
    "        )\n",
    "\n",
    "        print(f\"{gene_obj1.name} / {gene_obj2.name}: {c}\")"
   ]
  },
  {
   "cell_type": "markdown",
   "id": "d3843e06",
   "metadata": {
    "papermill": {
     "duration": 0.007184,
     "end_time": "2022-07-11T07:19:32.164972",
     "exception": false,
     "start_time": "2022-07-11T07:19:32.157788",
     "status": "completed"
    },
    "tags": []
   },
   "source": [
    "# Compute correlation per chromosome"
   ]
  },
  {
   "cell_type": "code",
   "execution_count": 30,
   "id": "cb859c15-d1f3-4006-a74c-2b83c0db9611",
   "metadata": {
    "execution": {
     "iopub.execute_input": "2022-07-11T07:19:32.180237Z",
     "iopub.status.busy": "2022-07-11T07:19:32.180071Z",
     "iopub.status.idle": "2022-07-11T07:19:32.195800Z",
     "shell.execute_reply": "2022-07-11T07:19:32.195280Z"
    },
    "papermill": {
     "duration": 0.025462,
     "end_time": "2022-07-11T07:19:32.197741",
     "exception": false,
     "start_time": "2022-07-11T07:19:32.172279",
     "status": "completed"
    },
    "tags": []
   },
   "outputs": [
    {
     "data": {
      "text/plain": [
       "PosixPath('/opt/data/data/phenomexcan/ld_blocks/gene_corrs/1000g/mashr/by_chr/gene_corrs-chr15.pkl')"
      ]
     },
     "metadata": {},
     "output_type": "display_data"
    }
   ],
   "source": [
    "output_dir = OUTPUT_DIR_BASE / \"by_chr\"\n",
    "output_dir.mkdir(exist_ok=True, parents=True)\n",
    "output_file = output_dir / f\"gene_corrs-chr{chromosome}.pkl\"\n",
    "display(output_file)"
   ]
  },
  {
   "cell_type": "code",
   "execution_count": 31,
   "id": "aa674fe4-6794-4eed-98fa-32b39d1d4ace",
   "metadata": {
    "execution": {
     "iopub.execute_input": "2022-07-11T07:19:32.213465Z",
     "iopub.status.busy": "2022-07-11T07:19:32.213298Z",
     "iopub.status.idle": "2022-07-11T07:19:32.228481Z",
     "shell.execute_reply": "2022-07-11T07:19:32.228088Z"
    },
    "papermill": {
     "duration": 0.024523,
     "end_time": "2022-07-11T07:19:32.229829",
     "exception": false,
     "start_time": "2022-07-11T07:19:32.205306",
     "status": "completed"
    },
    "tags": []
   },
   "outputs": [],
   "source": [
    "warnings.filterwarnings(\"error\")"
   ]
  },
  {
   "cell_type": "code",
   "execution_count": 32,
   "id": "cdbb90a1",
   "metadata": {
    "execution": {
     "iopub.execute_input": "2022-07-11T07:19:32.247082Z",
     "iopub.status.busy": "2022-07-11T07:19:32.246917Z",
     "iopub.status.idle": "2022-07-11T07:25:02.200939Z",
     "shell.execute_reply": "2022-07-11T07:25:02.200546Z"
    },
    "papermill": {
     "duration": 329.964829,
     "end_time": "2022-07-11T07:25:02.202376",
     "exception": false,
     "start_time": "2022-07-11T07:19:32.237547",
     "status": "completed"
    },
    "tags": []
   },
   "outputs": [
    {
     "name": "stdout",
     "output_type": "stream",
     "text": [
      "Number of genes in chromosome: 187\n",
      "Number of gene combinations: 17391\n"
     ]
    },
    {
     "name": "stderr",
     "output_type": "stream",
     "text": [
      "ENSG00000140479 / ENSG00000185418: 100%|██████████████████████| 17391/17391 [05:29<00:00, 52.72it/s]"
     ]
    },
    {
     "name": "stdout",
     "output_type": "stream",
     "text": [
      "Min/max values: 0.0 / 0.9599437057756064\n"
     ]
    },
    {
     "name": "stderr",
     "output_type": "stream",
     "text": [
      "\n"
     ]
    },
    {
     "data": {
      "text/plain": [
       "PosixPath('/opt/data/data/phenomexcan/ld_blocks/gene_corrs/1000g/mashr/by_chr/gene_corrs-chr15.pkl')"
      ]
     },
     "metadata": {},
     "output_type": "display_data"
    }
   ],
   "source": [
    "# standard checks\n",
    "all_chrs = genes_info[\"chr\"].dropna().unique()\n",
    "assert all_chrs.shape[0] == 22\n",
    "\n",
    "# select chromosome given by the user\n",
    "assert chromosome in all_chrs\n",
    "\n",
    "# run only on the chromosome specified\n",
    "all_chrs = [chromosome]\n",
    "genes_chr = genes_info[genes_info[\"chr\"] == chromosome]\n",
    "\n",
    "# For testing purposes\n",
    "# genes_chr = genes_chr.sample(n=20)\n",
    "\n",
    "print(f\"Number of genes in chromosome: {genes_chr.shape[0]}\", flush=True)\n",
    "\n",
    "# sort genes by starting position to make visualizations better later\n",
    "genes_chr = genes_chr.sort_values(\"start_position\")\n",
    "\n",
    "gene_chr_objs = [Gene(ensembl_id=gene_id) for gene_id in genes_chr[\"id\"]]\n",
    "gene_chr_ids = [g.ensembl_id for g in gene_chr_objs]\n",
    "\n",
    "n = len(gene_chr_objs)\n",
    "n_comb = int(n * (n - 1) / 2.0)\n",
    "print(f\"Number of gene combinations: {n_comb}\", flush=True)\n",
    "\n",
    "gene_corrs = []\n",
    "\n",
    "pbar = tqdm(ncols=100, total=n_comb)\n",
    "i = 0\n",
    "for gene_idx1 in range(0, len(gene_chr_objs) - 1):\n",
    "    gene_obj1 = gene_chr_objs[gene_idx1]\n",
    "\n",
    "    for gene_idx2 in range(gene_idx1 + 1, len(gene_chr_objs)):\n",
    "        gene_obj2 = gene_chr_objs[gene_idx2]\n",
    "\n",
    "        pbar.set_description(f\"{gene_obj1.ensembl_id} / {gene_obj2.ensembl_id}\")\n",
    "\n",
    "        try:\n",
    "            # FIXME: compute the correlation of the sum of squares of the model using all\n",
    "            # the available tissues; this could be problematic because for some results\n",
    "            # (computed on a specific phenotype/GWAS) we might not have all the tissues\n",
    "            # available, which can certainly bias the correlation estimation.\n",
    "            # Since this depends on the GWAS on a specific phenotype, we should ideally have\n",
    "            # one correlation matrix per GWAS. I should look at how we can improve this.\n",
    "            r = gene_obj1.get_ssm_correlation(\n",
    "                other_gene=gene_obj2,\n",
    "                condition_number=SMULTIXCAN_CONDITION_NUMBER,\n",
    "                reference_panel=REFERENCE_PANEL,\n",
    "                model_type=EQTL_MODEL,\n",
    "            )\n",
    "\n",
    "            if r is None:\n",
    "                # if r is None, it's very likely because:\n",
    "                #  * one of the genes has no prediction models\n",
    "                #  * all the SNPs predictors for the gene are not present in the reference\n",
    "                #    panel\n",
    "\n",
    "                r = 0.0\n",
    "\n",
    "            gene_corrs.append(r)\n",
    "        except Warning:\n",
    "            print(\n",
    "                f\"RuntimeWarning for genes {gene_obj1.ensembl_id} and {gene_obj2.ensembl_id}\",\n",
    "                flush=True,\n",
    "            )\n",
    "            import traceback\n",
    "\n",
    "            print(traceback.format_exc(), flush=True)\n",
    "        except Exception as e:\n",
    "            print(\n",
    "                f\"Exception for genes {gene_obj1.ensembl_id} and {gene_obj2.ensembl_id}\",\n",
    "                flush=True,\n",
    "            )\n",
    "            import traceback\n",
    "\n",
    "            print(traceback.format_exc(), flush=True)\n",
    "            gene_corrs.append(np.nan)\n",
    "\n",
    "        pbar.update(1)\n",
    "\n",
    "pbar.close()\n",
    "\n",
    "# testing\n",
    "gene_corrs_flat = pd.Series(gene_corrs)\n",
    "print(f\"Min/max values: {gene_corrs_flat.min()} / {gene_corrs_flat.max()}\")\n",
    "assert gene_corrs_flat.min() >= -1.001\n",
    "assert gene_corrs_flat.max() <= 1.001\n",
    "\n",
    "# save\n",
    "# FIXME: consider saving only the condenced matrix here. See here for\n",
    "# more details: https://github.com/greenelab/phenoplier/pull/38#discussion_r634600813\n",
    "gene_corrs_data = squareform(np.array(gene_corrs, dtype=np.float64))\n",
    "np.fill_diagonal(gene_corrs_data, 1.0)\n",
    "\n",
    "gene_corrs_df = pd.DataFrame(\n",
    "    data=gene_corrs_data,\n",
    "    index=gene_chr_ids,\n",
    "    columns=gene_chr_ids,\n",
    ")\n",
    "\n",
    "output_dir.mkdir(exist_ok=True, parents=True)\n",
    "display(output_file)\n",
    "\n",
    "gene_corrs_df.to_pickle(output_file)"
   ]
  },
  {
   "cell_type": "markdown",
   "id": "faa67b51-5373-470f-aa72-2ded53fa6dfe",
   "metadata": {
    "papermill": {
     "duration": 0.639882,
     "end_time": "2022-07-11T07:25:03.599925",
     "exception": false,
     "start_time": "2022-07-11T07:25:02.960043",
     "status": "completed"
    },
    "tags": []
   },
   "source": [
    "# Testing"
   ]
  },
  {
   "cell_type": "code",
   "execution_count": 33,
   "id": "14f7d046-4b55-4896-a56b-990127bcc388",
   "metadata": {
    "execution": {
     "iopub.execute_input": "2022-07-11T07:25:04.916759Z",
     "iopub.status.busy": "2022-07-11T07:25:04.916589Z",
     "iopub.status.idle": "2022-07-11T07:25:04.942084Z",
     "shell.execute_reply": "2022-07-11T07:25:04.941569Z"
    },
    "papermill": {
     "duration": 0.697663,
     "end_time": "2022-07-11T07:25:04.943319",
     "exception": false,
     "start_time": "2022-07-11T07:25:04.245656",
     "status": "completed"
    },
    "tags": []
   },
   "outputs": [
    {
     "data": {
      "text/plain": [
       "(187, 187)"
      ]
     },
     "execution_count": 33,
     "metadata": {},
     "output_type": "execute_result"
    }
   ],
   "source": [
    "gene_corrs_df.shape"
   ]
  },
  {
   "cell_type": "code",
   "execution_count": 34,
   "id": "c7d15414-3297-4537-a7c6-7588c0baeb75",
   "metadata": {
    "execution": {
     "iopub.execute_input": "2022-07-11T07:25:06.335957Z",
     "iopub.status.busy": "2022-07-11T07:25:06.335783Z",
     "iopub.status.idle": "2022-07-11T07:25:06.381532Z",
     "shell.execute_reply": "2022-07-11T07:25:06.381055Z"
    },
    "papermill": {
     "duration": 0.842468,
     "end_time": "2022-07-11T07:25:06.388643",
     "exception": false,
     "start_time": "2022-07-11T07:25:05.546175",
     "status": "completed"
    },
    "tags": []
   },
   "outputs": [
    {
     "data": {
      "text/html": [
       "<div>\n",
       "<style scoped>\n",
       "    .dataframe tbody tr th:only-of-type {\n",
       "        vertical-align: middle;\n",
       "    }\n",
       "\n",
       "    .dataframe tbody tr th {\n",
       "        vertical-align: top;\n",
       "    }\n",
       "\n",
       "    .dataframe thead th {\n",
       "        text-align: right;\n",
       "    }\n",
       "</style>\n",
       "<table border=\"1\" class=\"dataframe\">\n",
       "  <thead>\n",
       "    <tr style=\"text-align: right;\">\n",
       "      <th></th>\n",
       "      <th>ENSG00000273749</th>\n",
       "      <th>ENSG00000275835</th>\n",
       "      <th>ENSG00000182636</th>\n",
       "      <th>ENSG00000273173</th>\n",
       "      <th>ENSG00000114062</th>\n",
       "      <th>ENSG00000206190</th>\n",
       "      <th>ENSG00000128731</th>\n",
       "      <th>ENSG00000034053</th>\n",
       "      <th>ENSG00000198690</th>\n",
       "      <th>ENSG00000166912</th>\n",
       "      <th>...</th>\n",
       "      <th>ENSG00000182175</th>\n",
       "      <th>ENSG00000140450</th>\n",
       "      <th>ENSG00000140443</th>\n",
       "      <th>ENSG00000068305</th>\n",
       "      <th>ENSG00000183475</th>\n",
       "      <th>ENSG00000184254</th>\n",
       "      <th>ENSG00000131873</th>\n",
       "      <th>ENSG00000131876</th>\n",
       "      <th>ENSG00000140479</th>\n",
       "      <th>ENSG00000185418</th>\n",
       "    </tr>\n",
       "  </thead>\n",
       "  <tbody>\n",
       "    <tr>\n",
       "      <th>ENSG00000273749</th>\n",
       "      <td>1.000000</td>\n",
       "      <td>0.062967</td>\n",
       "      <td>0.015976</td>\n",
       "      <td>0.013542</td>\n",
       "      <td>0.011531</td>\n",
       "      <td>0.019480</td>\n",
       "      <td>0.000000</td>\n",
       "      <td>0.000000</td>\n",
       "      <td>0.0</td>\n",
       "      <td>0.0</td>\n",
       "      <td>...</td>\n",
       "      <td>0.0</td>\n",
       "      <td>0.0</td>\n",
       "      <td>0.0</td>\n",
       "      <td>0.0</td>\n",
       "      <td>0.0</td>\n",
       "      <td>0.0</td>\n",
       "      <td>0.0</td>\n",
       "      <td>0.0</td>\n",
       "      <td>0.0</td>\n",
       "      <td>0.0</td>\n",
       "    </tr>\n",
       "    <tr>\n",
       "      <th>ENSG00000275835</th>\n",
       "      <td>0.062967</td>\n",
       "      <td>1.000000</td>\n",
       "      <td>0.007240</td>\n",
       "      <td>0.017255</td>\n",
       "      <td>0.006163</td>\n",
       "      <td>0.010441</td>\n",
       "      <td>0.000000</td>\n",
       "      <td>0.000000</td>\n",
       "      <td>0.0</td>\n",
       "      <td>0.0</td>\n",
       "      <td>...</td>\n",
       "      <td>0.0</td>\n",
       "      <td>0.0</td>\n",
       "      <td>0.0</td>\n",
       "      <td>0.0</td>\n",
       "      <td>0.0</td>\n",
       "      <td>0.0</td>\n",
       "      <td>0.0</td>\n",
       "      <td>0.0</td>\n",
       "      <td>0.0</td>\n",
       "      <td>0.0</td>\n",
       "    </tr>\n",
       "    <tr>\n",
       "      <th>ENSG00000182636</th>\n",
       "      <td>0.015976</td>\n",
       "      <td>0.007240</td>\n",
       "      <td>1.000000</td>\n",
       "      <td>0.005602</td>\n",
       "      <td>0.005393</td>\n",
       "      <td>0.014057</td>\n",
       "      <td>0.005148</td>\n",
       "      <td>0.000000</td>\n",
       "      <td>0.0</td>\n",
       "      <td>0.0</td>\n",
       "      <td>...</td>\n",
       "      <td>0.0</td>\n",
       "      <td>0.0</td>\n",
       "      <td>0.0</td>\n",
       "      <td>0.0</td>\n",
       "      <td>0.0</td>\n",
       "      <td>0.0</td>\n",
       "      <td>0.0</td>\n",
       "      <td>0.0</td>\n",
       "      <td>0.0</td>\n",
       "      <td>0.0</td>\n",
       "    </tr>\n",
       "    <tr>\n",
       "      <th>ENSG00000273173</th>\n",
       "      <td>0.013542</td>\n",
       "      <td>0.017255</td>\n",
       "      <td>0.005602</td>\n",
       "      <td>1.000000</td>\n",
       "      <td>0.005033</td>\n",
       "      <td>0.010688</td>\n",
       "      <td>0.010784</td>\n",
       "      <td>0.012473</td>\n",
       "      <td>0.0</td>\n",
       "      <td>0.0</td>\n",
       "      <td>...</td>\n",
       "      <td>0.0</td>\n",
       "      <td>0.0</td>\n",
       "      <td>0.0</td>\n",
       "      <td>0.0</td>\n",
       "      <td>0.0</td>\n",
       "      <td>0.0</td>\n",
       "      <td>0.0</td>\n",
       "      <td>0.0</td>\n",
       "      <td>0.0</td>\n",
       "      <td>0.0</td>\n",
       "    </tr>\n",
       "    <tr>\n",
       "      <th>ENSG00000114062</th>\n",
       "      <td>0.011531</td>\n",
       "      <td>0.006163</td>\n",
       "      <td>0.005393</td>\n",
       "      <td>0.005033</td>\n",
       "      <td>1.000000</td>\n",
       "      <td>0.010618</td>\n",
       "      <td>0.000671</td>\n",
       "      <td>0.008269</td>\n",
       "      <td>0.0</td>\n",
       "      <td>0.0</td>\n",
       "      <td>...</td>\n",
       "      <td>0.0</td>\n",
       "      <td>0.0</td>\n",
       "      <td>0.0</td>\n",
       "      <td>0.0</td>\n",
       "      <td>0.0</td>\n",
       "      <td>0.0</td>\n",
       "      <td>0.0</td>\n",
       "      <td>0.0</td>\n",
       "      <td>0.0</td>\n",
       "      <td>0.0</td>\n",
       "    </tr>\n",
       "  </tbody>\n",
       "</table>\n",
       "<p>5 rows × 187 columns</p>\n",
       "</div>"
      ],
      "text/plain": [
       "                 ENSG00000273749  ENSG00000275835  ENSG00000182636  \\\n",
       "ENSG00000273749         1.000000         0.062967         0.015976   \n",
       "ENSG00000275835         0.062967         1.000000         0.007240   \n",
       "ENSG00000182636         0.015976         0.007240         1.000000   \n",
       "ENSG00000273173         0.013542         0.017255         0.005602   \n",
       "ENSG00000114062         0.011531         0.006163         0.005393   \n",
       "\n",
       "                 ENSG00000273173  ENSG00000114062  ENSG00000206190  \\\n",
       "ENSG00000273749         0.013542         0.011531         0.019480   \n",
       "ENSG00000275835         0.017255         0.006163         0.010441   \n",
       "ENSG00000182636         0.005602         0.005393         0.014057   \n",
       "ENSG00000273173         1.000000         0.005033         0.010688   \n",
       "ENSG00000114062         0.005033         1.000000         0.010618   \n",
       "\n",
       "                 ENSG00000128731  ENSG00000034053  ENSG00000198690  \\\n",
       "ENSG00000273749         0.000000         0.000000              0.0   \n",
       "ENSG00000275835         0.000000         0.000000              0.0   \n",
       "ENSG00000182636         0.005148         0.000000              0.0   \n",
       "ENSG00000273173         0.010784         0.012473              0.0   \n",
       "ENSG00000114062         0.000671         0.008269              0.0   \n",
       "\n",
       "                 ENSG00000166912  ...  ENSG00000182175  ENSG00000140450  \\\n",
       "ENSG00000273749              0.0  ...              0.0              0.0   \n",
       "ENSG00000275835              0.0  ...              0.0              0.0   \n",
       "ENSG00000182636              0.0  ...              0.0              0.0   \n",
       "ENSG00000273173              0.0  ...              0.0              0.0   \n",
       "ENSG00000114062              0.0  ...              0.0              0.0   \n",
       "\n",
       "                 ENSG00000140443  ENSG00000068305  ENSG00000183475  \\\n",
       "ENSG00000273749              0.0              0.0              0.0   \n",
       "ENSG00000275835              0.0              0.0              0.0   \n",
       "ENSG00000182636              0.0              0.0              0.0   \n",
       "ENSG00000273173              0.0              0.0              0.0   \n",
       "ENSG00000114062              0.0              0.0              0.0   \n",
       "\n",
       "                 ENSG00000184254  ENSG00000131873  ENSG00000131876  \\\n",
       "ENSG00000273749              0.0              0.0              0.0   \n",
       "ENSG00000275835              0.0              0.0              0.0   \n",
       "ENSG00000182636              0.0              0.0              0.0   \n",
       "ENSG00000273173              0.0              0.0              0.0   \n",
       "ENSG00000114062              0.0              0.0              0.0   \n",
       "\n",
       "                 ENSG00000140479  ENSG00000185418  \n",
       "ENSG00000273749              0.0              0.0  \n",
       "ENSG00000275835              0.0              0.0  \n",
       "ENSG00000182636              0.0              0.0  \n",
       "ENSG00000273173              0.0              0.0  \n",
       "ENSG00000114062              0.0              0.0  \n",
       "\n",
       "[5 rows x 187 columns]"
      ]
     },
     "execution_count": 34,
     "metadata": {},
     "output_type": "execute_result"
    }
   ],
   "source": [
    "gene_corrs_df.head()"
   ]
  },
  {
   "cell_type": "code",
   "execution_count": 35,
   "id": "286686af-1b7b-4440-8453-6bdcbd8de19c",
   "metadata": {
    "execution": {
     "iopub.execute_input": "2022-07-11T07:25:07.712789Z",
     "iopub.status.busy": "2022-07-11T07:25:07.712347Z",
     "iopub.status.idle": "2022-07-11T07:25:07.744806Z",
     "shell.execute_reply": "2022-07-11T07:25:07.744379Z"
    },
    "papermill": {
     "duration": 0.679286,
     "end_time": "2022-07-11T07:25:07.746134",
     "exception": false,
     "start_time": "2022-07-11T07:25:07.066848",
     "status": "completed"
    },
    "tags": []
   },
   "outputs": [],
   "source": [
    "assert not gene_corrs_df.isna().any().any()"
   ]
  },
  {
   "cell_type": "code",
   "execution_count": 36,
   "id": "00583efc-7068-4270-ad1e-4a418e91db96",
   "metadata": {
    "execution": {
     "iopub.execute_input": "2022-07-11T07:25:09.002557Z",
     "iopub.status.busy": "2022-07-11T07:25:09.002246Z",
     "iopub.status.idle": "2022-07-11T07:25:09.020869Z",
     "shell.execute_reply": "2022-07-11T07:25:09.020359Z"
    },
    "papermill": {
     "duration": 0.620543,
     "end_time": "2022-07-11T07:25:09.022149",
     "exception": false,
     "start_time": "2022-07-11T07:25:08.401606",
     "status": "completed"
    },
    "tags": []
   },
   "outputs": [
    {
     "data": {
      "text/plain": [
       "0.0"
      ]
     },
     "metadata": {},
     "output_type": "display_data"
    }
   ],
   "source": [
    "_min_val = gene_corrs_df.min().min()\n",
    "display(_min_val)\n",
    "assert _min_val >= 0.0"
   ]
  },
  {
   "cell_type": "code",
   "execution_count": 37,
   "id": "d04fb2cf-1050-475b-b855-f5f7cc04092b",
   "metadata": {
    "execution": {
     "iopub.execute_input": "2022-07-11T07:25:10.327560Z",
     "iopub.status.busy": "2022-07-11T07:25:10.327141Z",
     "iopub.status.idle": "2022-07-11T07:25:10.345833Z",
     "shell.execute_reply": "2022-07-11T07:25:10.345271Z"
    },
    "papermill": {
     "duration": 0.667189,
     "end_time": "2022-07-11T07:25:10.347111",
     "exception": false,
     "start_time": "2022-07-11T07:25:09.679922",
     "status": "completed"
    },
    "tags": []
   },
   "outputs": [
    {
     "data": {
      "text/plain": [
       "1.0"
      ]
     },
     "metadata": {},
     "output_type": "display_data"
    }
   ],
   "source": [
    "_max_val = gene_corrs_df.max().max()  # this captures the diagonal\n",
    "display(_max_val)\n",
    "assert _max_val <= 1.0"
   ]
  },
  {
   "cell_type": "code",
   "execution_count": 38,
   "id": "96d02c44-1fba-47be-8a93-8f2608420b9c",
   "metadata": {
    "execution": {
     "iopub.execute_input": "2022-07-11T07:25:11.644503Z",
     "iopub.status.busy": "2022-07-11T07:25:11.644322Z",
     "iopub.status.idle": "2022-07-11T07:25:11.660632Z",
     "shell.execute_reply": "2022-07-11T07:25:11.660032Z"
    },
    "papermill": {
     "duration": 0.667118,
     "end_time": "2022-07-11T07:25:11.662149",
     "exception": false,
     "start_time": "2022-07-11T07:25:10.995031",
     "status": "completed"
    },
    "tags": []
   },
   "outputs": [],
   "source": [
    "# check upper triangular values\n",
    "assert len(gene_corrs) == int(genes_chr.shape[0] * (genes_chr.shape[0] - 1) / 2)"
   ]
  },
  {
   "cell_type": "code",
   "execution_count": 39,
   "id": "aaa51627-f4e3-4744-a41f-7d25adcc0a78",
   "metadata": {
    "execution": {
     "iopub.execute_input": "2022-07-11T07:25:12.901299Z",
     "iopub.status.busy": "2022-07-11T07:25:12.900912Z",
     "iopub.status.idle": "2022-07-11T07:25:12.917951Z",
     "shell.execute_reply": "2022-07-11T07:25:12.917427Z"
    },
    "papermill": {
     "duration": 0.662795,
     "end_time": "2022-07-11T07:25:12.919263",
     "exception": false,
     "start_time": "2022-07-11T07:25:12.256468",
     "status": "completed"
    },
    "tags": []
   },
   "outputs": [],
   "source": [
    "gene_corrs = pd.Series(gene_corrs)"
   ]
  },
  {
   "cell_type": "code",
   "execution_count": 40,
   "id": "fe283586-c348-40e0-8841-f6d97bfb021c",
   "metadata": {
    "execution": {
     "iopub.execute_input": "2022-07-11T07:25:14.210150Z",
     "iopub.status.busy": "2022-07-11T07:25:14.209608Z",
     "iopub.status.idle": "2022-07-11T07:25:14.229836Z",
     "shell.execute_reply": "2022-07-11T07:25:14.229246Z"
    },
    "papermill": {
     "duration": 0.668558,
     "end_time": "2022-07-11T07:25:14.231164",
     "exception": false,
     "start_time": "2022-07-11T07:25:13.562606",
     "status": "completed"
    },
    "tags": []
   },
   "outputs": [
    {
     "data": {
      "text/plain": [
       "count    17391.000000\n",
       "mean         0.004900\n",
       "std          0.037070\n",
       "min          0.000000\n",
       "25%          0.000000\n",
       "50%          0.000000\n",
       "75%          0.000000\n",
       "max          0.959944\n",
       "dtype: float64"
      ]
     },
     "execution_count": 40,
     "metadata": {},
     "output_type": "execute_result"
    }
   ],
   "source": [
    "gene_corrs.describe()"
   ]
  },
  {
   "cell_type": "code",
   "execution_count": 41,
   "id": "b3815678-0f93-4b35-897b-a9d047a2aa78",
   "metadata": {
    "execution": {
     "iopub.execute_input": "2022-07-11T07:25:15.476436Z",
     "iopub.status.busy": "2022-07-11T07:25:15.476164Z",
     "iopub.status.idle": "2022-07-11T07:25:15.495238Z",
     "shell.execute_reply": "2022-07-11T07:25:15.494671Z"
    },
    "papermill": {
     "duration": 0.620201,
     "end_time": "2022-07-11T07:25:15.496594",
     "exception": false,
     "start_time": "2022-07-11T07:25:14.876393",
     "status": "completed"
    },
    "tags": []
   },
   "outputs": [
    {
     "data": {
      "text/plain": [
       "0.00    0.000000\n",
       "0.05    0.000000\n",
       "0.10    0.000000\n",
       "0.15    0.000000\n",
       "0.20    0.000000\n",
       "0.25    0.000000\n",
       "0.30    0.000000\n",
       "0.35    0.000000\n",
       "0.40    0.000000\n",
       "0.45    0.000000\n",
       "0.50    0.000000\n",
       "0.55    0.000000\n",
       "0.60    0.000000\n",
       "0.65    0.000000\n",
       "0.70    0.000000\n",
       "0.75    0.000000\n",
       "0.80    0.000000\n",
       "0.85    0.000000\n",
       "0.90    0.006501\n",
       "0.95    0.012343\n",
       "dtype: float64"
      ]
     },
     "metadata": {},
     "output_type": "display_data"
    }
   ],
   "source": [
    "gene_corrs_quantiles = gene_corrs.quantile(np.arange(0, 1, 0.05))\n",
    "display(gene_corrs_quantiles)"
   ]
  },
  {
   "cell_type": "markdown",
   "id": "8e60a080-edb2-4e9c-b2ef-22961693200c",
   "metadata": {
    "papermill": {
     "duration": 0.638452,
     "end_time": "2022-07-11T07:25:16.784183",
     "exception": false,
     "start_time": "2022-07-11T07:25:16.145731",
     "status": "completed"
    },
    "tags": []
   },
   "source": [
    "## Plot: distribution"
   ]
  },
  {
   "cell_type": "code",
   "execution_count": 42,
   "id": "8301126b-a7d4-4744-9c7d-f0f86eb6f54c",
   "metadata": {
    "execution": {
     "iopub.execute_input": "2022-07-11T07:25:18.072415Z",
     "iopub.status.busy": "2022-07-11T07:25:18.072231Z",
     "iopub.status.idle": "2022-07-11T07:25:18.501757Z",
     "shell.execute_reply": "2022-07-11T07:25:18.501209Z"
    },
    "papermill": {
     "duration": 1.074488,
     "end_time": "2022-07-11T07:25:18.502925",
     "exception": false,
     "start_time": "2022-07-11T07:25:17.428437",
     "status": "completed"
    },
    "tags": []
   },
   "outputs": [
    {
     "data": {
      "image/png": "[encoded data removed]",
      "text/plain": [
       "<Figure size 504x504 with 1 Axes>"
      ]
     },
     "metadata": {
      "needs_background": "light"
     },
     "output_type": "display_data"
    }
   ],
   "source": [
    "with sns.plotting_context(\"paper\", font_scale=1.5):\n",
    "    g = sns.displot(gene_corrs, kde=True, height=7)\n",
    "    g.ax.set_title(\n",
    "        f\"Distribution of gene correlation values in chromosome {chromosome}\"\n",
    "    )"
   ]
  },
  {
   "cell_type": "markdown",
   "id": "cbd52bca-d878-4a2f-b684-5c83aa3038d4",
   "metadata": {
    "papermill": {
     "duration": 0.637623,
     "end_time": "2022-07-11T07:25:19.750813",
     "exception": false,
     "start_time": "2022-07-11T07:25:19.113190",
     "status": "completed"
    },
    "tags": []
   },
   "source": [
    "## Plot: heatmap"
   ]
  },
  {
   "cell_type": "code",
   "execution_count": 43,
   "id": "d03fe63a-c7b2-4fb9-a53c-db362ce843c9",
   "metadata": {
    "execution": {
     "iopub.execute_input": "2022-07-11T07:25:21.041641Z",
     "iopub.status.busy": "2022-07-11T07:25:21.041149Z",
     "iopub.status.idle": "2022-07-11T07:25:21.058000Z",
     "shell.execute_reply": "2022-07-11T07:25:21.057548Z"
    },
    "papermill": {
     "duration": 0.664275,
     "end_time": "2022-07-11T07:25:21.059207",
     "exception": false,
     "start_time": "2022-07-11T07:25:20.394932",
     "status": "completed"
    },
    "tags": []
   },
   "outputs": [
    {
     "data": {
      "text/plain": [
       "'-0.05 / 0.05'"
      ]
     },
     "metadata": {},
     "output_type": "display_data"
    }
   ],
   "source": [
    "vmin_val = min(-0.05, gene_corrs_quantiles[0.10])\n",
    "vmax_val = max(0.05, gene_corrs_quantiles[0.90])\n",
    "display(f\"{vmin_val} / {vmax_val}\")"
   ]
  },
  {
   "cell_type": "code",
   "execution_count": 44,
   "id": "dc41b70b-5bcc-4d9e-9f33-a22c4a94dab5",
   "metadata": {
    "execution": {
     "iopub.execute_input": "2022-07-11T07:25:22.310725Z",
     "iopub.status.busy": "2022-07-11T07:25:22.310354Z",
     "iopub.status.idle": "2022-07-11T07:25:22.477731Z",
     "shell.execute_reply": "2022-07-11T07:25:22.477303Z"
    },
    "papermill": {
     "duration": 0.808777,
     "end_time": "2022-07-11T07:25:22.479323",
     "exception": false,
     "start_time": "2022-07-11T07:25:21.670546",
     "status": "completed"
    },
    "tags": []
   },
   "outputs": [
    {
     "data": {
      "text/plain": [
       "Text(0.5, 1.0, 'Gene correlations in chromosome 15')"
      ]
     },
     "execution_count": 44,
     "metadata": {},
     "output_type": "execute_result"
    },
    {
     "data": {
      "image/png": "[encoded data removed]",
      "text/plain": [
       "<Figure size 720x720 with 2 Axes>"
      ]
     },
     "metadata": {
      "needs_background": "light"
     },
     "output_type": "display_data"
    }
   ],
   "source": [
    "f, ax = plt.subplots(figsize=(10, 10))\n",
    "sns.heatmap(\n",
    "    gene_corrs_df,\n",
    "    xticklabels=False,\n",
    "    yticklabels=False,\n",
    "    square=True,\n",
    "    vmin=vmin_val,\n",
    "    vmax=vmax_val,\n",
    "    cmap=\"YlGnBu\",\n",
    "    ax=ax,\n",
    ")\n",
    "ax.set_title(f\"Gene correlations in chromosome {chromosome}\")"
   ]
  },
  {
   "cell_type": "code",
   "execution_count": null,
   "id": "b25e3ead",
   "metadata": {
    "papermill": {
     "duration": 0.650361,
     "end_time": "2022-07-11T07:25:23.768017",
     "exception": false,
     "start_time": "2022-07-11T07:25:23.117656",
     "status": "completed"
    },
    "tags": []
   },
   "outputs": [],
   "source": []
  }
 ],
 "metadata": {
  "jupytext": {
   "cell_metadata_filter": "all,-execution,-papermill,-trusted",
   "formats": "ipynb,py//py:percent"
  },
  "kernelspec": {
   "display_name": "Python 3 (ipykernel)",
   "language": "python",
   "name": "python3"
  },
  "language_info": {
   "codemirror_mode": {
    "name": "ipython",
    "version": 3
   },
   "file_extension": ".py",
   "mimetype": "text/x-python",
   "name": "python",
   "nbconvert_exporter": "python",
   "pygments_lexer": "ipython3",
   "version": "3.8.13"
  },
  "papermill": {
   "default_parameters": {},
   "duration": 364.847027,
   "end_time": "2022-07-11T07:25:28.011081",
   "environment_variables": {},
   "exception": null,
   "input_path": "nbs/15_gsa_gls/10-gene_expr_correlations.ipynb",
   "output_path": "nbs/15_gsa_gls/gene_corrs/1000g/mashr/10-gene_expr_correlations-chr15.run.ipynb",
   "parameters": {
    "EQTL_MODEL": "MASHR",
    "REFERENCE_PANEL": "1000G",
    "chromosome": 15
   },
   "start_time": "2022-07-11T07:19:23.164054",
   "version": "2.2.2"
  }
 },
 "nbformat": 4,
 "nbformat_minor": 5
}
