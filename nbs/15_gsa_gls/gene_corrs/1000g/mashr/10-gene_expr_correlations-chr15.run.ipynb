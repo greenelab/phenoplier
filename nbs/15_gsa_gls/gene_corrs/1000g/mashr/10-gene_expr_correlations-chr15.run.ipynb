{
 "cells": [
  {
   "cell_type": "markdown",
   "id": "7a6632fb",
   "metadata": {
    "papermill": {
     "duration": 0.006868,
     "end_time": "2022-07-12T08:35:09.948264",
     "exception": false,
     "start_time": "2022-07-12T08:35:09.941396",
     "status": "completed"
    },
    "tags": []
   },
   "source": [
    "# Description"
   ]
  },
  {
   "cell_type": "markdown",
   "id": "7097c346",
   "metadata": {
    "papermill": {
     "duration": 0.005719,
     "end_time": "2022-07-12T08:35:09.960197",
     "exception": false,
     "start_time": "2022-07-12T08:35:09.954478",
     "status": "completed"
    },
    "tags": []
   },
   "source": [
    "(Please, take a look at the README.md file in this directory for instructions on how to run this notebook)\n",
    "\n",
    "This notebook computes predicted expression correlations between all genes in the MultiPLIER models.\n",
    "\n",
    "It also has a parameter set for papermill to run on a single chromosome to run in parallel (see under `Settings` below).\n",
    "\n",
    "This notebook is not directly run. See README.md."
   ]
  },
  {
   "cell_type": "markdown",
   "id": "c61d8427",
   "metadata": {
    "papermill": {
     "duration": 0.005419,
     "end_time": "2022-07-12T08:35:09.971323",
     "exception": false,
     "start_time": "2022-07-12T08:35:09.965904",
     "status": "completed"
    },
    "tags": []
   },
   "source": [
    "# Modules"
   ]
  },
  {
   "cell_type": "code",
   "execution_count": 1,
   "id": "bbc0234f",
   "metadata": {
    "execution": {
     "iopub.execute_input": "2022-07-12T08:35:09.984413Z",
     "iopub.status.busy": "2022-07-12T08:35:09.983901Z",
     "iopub.status.idle": "2022-07-12T08:35:09.998527Z",
     "shell.execute_reply": "2022-07-12T08:35:09.998017Z"
    },
    "papermill": {
     "duration": 0.023146,
     "end_time": "2022-07-12T08:35:10.000010",
     "exception": false,
     "start_time": "2022-07-12T08:35:09.976864",
     "status": "completed"
    },
    "tags": []
   },
   "outputs": [],
   "source": [
    "%load_ext autoreload\n",
    "%autoreload 2"
   ]
  },
  {
   "cell_type": "code",
   "execution_count": 2,
   "id": "1d5f5a59",
   "metadata": {
    "execution": {
     "iopub.execute_input": "2022-07-12T08:35:10.042092Z",
     "iopub.status.busy": "2022-07-12T08:35:10.041472Z",
     "iopub.status.idle": "2022-07-12T08:35:11.037351Z",
     "shell.execute_reply": "2022-07-12T08:35:11.036734Z"
    },
    "papermill": {
     "duration": 1.00484,
     "end_time": "2022-07-12T08:35:11.038913",
     "exception": false,
     "start_time": "2022-07-12T08:35:10.034073",
     "status": "completed"
    },
    "tags": []
   },
   "outputs": [],
   "source": [
    "from random import sample, seed\n",
    "import warnings\n",
    "from pathlib import Path\n",
    "\n",
    "import numpy as np\n",
    "from scipy.spatial.distance import squareform\n",
    "import pandas as pd\n",
    "from tqdm import tqdm\n",
    "import matplotlib.pyplot as plt\n",
    "import seaborn as sns\n",
    "\n",
    "import conf\n",
    "from entity import Gene"
   ]
  },
  {
   "cell_type": "markdown",
   "id": "1eac24b5",
   "metadata": {
    "papermill": {
     "duration": 0.006256,
     "end_time": "2022-07-12T08:35:11.051800",
     "exception": false,
     "start_time": "2022-07-12T08:35:11.045544",
     "status": "completed"
    },
    "tags": []
   },
   "source": [
    "# Settings"
   ]
  },
  {
   "cell_type": "code",
   "execution_count": 3,
   "id": "ca4560ba",
   "metadata": {
    "execution": {
     "iopub.execute_input": "2022-07-12T08:35:11.066179Z",
     "iopub.status.busy": "2022-07-12T08:35:11.065661Z",
     "iopub.status.idle": "2022-07-12T08:35:11.082171Z",
     "shell.execute_reply": "2022-07-12T08:35:11.081584Z"
    },
    "papermill": {
     "duration": 0.025658,
     "end_time": "2022-07-12T08:35:11.083906",
     "exception": false,
     "start_time": "2022-07-12T08:35:11.058248",
     "status": "completed"
    },
    "tags": [
     "parameters"
    ]
   },
   "outputs": [],
   "source": [
    "# reference panel\n",
    "REFERENCE_PANEL = \"GTEX_V8\"\n",
    "# REFERENCE_PANEL = \"1000G\"\n",
    "\n",
    "# prediction models\n",
    "## mashr\n",
    "EQTL_MODEL = \"MASHR\"\n",
    "\n",
    "# this is the default value used in S-MultiXcan to select the\n",
    "# top principal components of the expression correlation matrix\n",
    "SMULTIXCAN_CONDITION_NUMBER = 30\n",
    "\n",
    "# specifies a single chromosome value\n",
    "# by default, run on all chromosomes\n",
    "chromosome = None"
   ]
  },
  {
   "cell_type": "code",
   "execution_count": 4,
   "id": "f453f572",
   "metadata": {
    "execution": {
     "iopub.execute_input": "2022-07-12T08:35:11.097636Z",
     "iopub.status.busy": "2022-07-12T08:35:11.097454Z",
     "iopub.status.idle": "2022-07-12T08:35:11.113666Z",
     "shell.execute_reply": "2022-07-12T08:35:11.113094Z"
    },
    "papermill": {
     "duration": 0.024747,
     "end_time": "2022-07-12T08:35:11.115190",
     "exception": false,
     "start_time": "2022-07-12T08:35:11.090443",
     "status": "completed"
    },
    "tags": [
     "injected-parameters"
    ]
   },
   "outputs": [],
   "source": [
    "# Parameters\n",
    "chromosome = 15\n",
    "REFERENCE_PANEL = \"1000G\"\n",
    "EQTL_MODEL = \"MASHR\"\n"
   ]
  },
  {
   "cell_type": "code",
   "execution_count": 5,
   "id": "a089c9ff",
   "metadata": {
    "execution": {
     "iopub.execute_input": "2022-07-12T08:35:11.129309Z",
     "iopub.status.busy": "2022-07-12T08:35:11.128834Z",
     "iopub.status.idle": "2022-07-12T08:35:11.144778Z",
     "shell.execute_reply": "2022-07-12T08:35:11.144207Z"
    },
    "papermill": {
     "duration": 0.024654,
     "end_time": "2022-07-12T08:35:11.146414",
     "exception": false,
     "start_time": "2022-07-12T08:35:11.121760",
     "status": "completed"
    },
    "tags": []
   },
   "outputs": [],
   "source": [
    "EQTL_MODEL_FILES_PREFIX = conf.PHENOMEXCAN[\"PREDICTION_MODELS\"][f\"{EQTL_MODEL}_PREFIX\"]"
   ]
  },
  {
   "cell_type": "code",
   "execution_count": 6,
   "id": "8fe24bef",
   "metadata": {
    "execution": {
     "iopub.execute_input": "2022-07-12T08:35:11.160619Z",
     "iopub.status.busy": "2022-07-12T08:35:11.160430Z",
     "iopub.status.idle": "2022-07-12T08:35:11.179889Z",
     "shell.execute_reply": "2022-07-12T08:35:11.179237Z"
    },
    "papermill": {
     "duration": 0.02829,
     "end_time": "2022-07-12T08:35:11.181424",
     "exception": false,
     "start_time": "2022-07-12T08:35:11.153134",
     "status": "completed"
    },
    "tags": []
   },
   "outputs": [
    {
     "data": {
      "text/plain": [
       "'Using eQTL model: MASHR / mashr_'"
      ]
     },
     "metadata": {},
     "output_type": "display_data"
    }
   ],
   "source": [
    "display(f\"Using eQTL model: {EQTL_MODEL} / {EQTL_MODEL_FILES_PREFIX}\")"
   ]
  },
  {
   "cell_type": "code",
   "execution_count": 7,
   "id": "552a7f63-a18c-4d3e-bb6a-94f99b431291",
   "metadata": {
    "execution": {
     "iopub.execute_input": "2022-07-12T08:35:11.195855Z",
     "iopub.status.busy": "2022-07-12T08:35:11.195308Z",
     "iopub.status.idle": "2022-07-12T08:35:11.211937Z",
     "shell.execute_reply": "2022-07-12T08:35:11.211442Z"
    },
    "papermill": {
     "duration": 0.025378,
     "end_time": "2022-07-12T08:35:11.213397",
     "exception": false,
     "start_time": "2022-07-12T08:35:11.188019",
     "status": "completed"
    },
    "tags": []
   },
   "outputs": [
    {
     "data": {
      "text/plain": [
       "'S-MultiXcan condition number: 30'"
      ]
     },
     "metadata": {},
     "output_type": "display_data"
    }
   ],
   "source": [
    "display(f\"S-MultiXcan condition number: {SMULTIXCAN_CONDITION_NUMBER}\")"
   ]
  },
  {
   "cell_type": "code",
   "execution_count": 8,
   "id": "0230ebcb-2c32-4b95-9292-d9a52038e70d",
   "metadata": {
    "execution": {
     "iopub.execute_input": "2022-07-12T08:35:11.227965Z",
     "iopub.status.busy": "2022-07-12T08:35:11.227367Z",
     "iopub.status.idle": "2022-07-12T08:35:11.243183Z",
     "shell.execute_reply": "2022-07-12T08:35:11.242704Z"
    },
    "papermill": {
     "duration": 0.024606,
     "end_time": "2022-07-12T08:35:11.244707",
     "exception": false,
     "start_time": "2022-07-12T08:35:11.220101",
     "status": "completed"
    },
    "tags": []
   },
   "outputs": [],
   "source": [
    "REFERENCE_PANEL_DIR = conf.PHENOMEXCAN[\"LD_BLOCKS\"][f\"{REFERENCE_PANEL}_GENOTYPE_DIR\"]"
   ]
  },
  {
   "cell_type": "code",
   "execution_count": 9,
   "id": "98c4a159-601d-4a22-a1ab-35bd451c25f9",
   "metadata": {
    "execution": {
     "iopub.execute_input": "2022-07-12T08:35:11.259353Z",
     "iopub.status.busy": "2022-07-12T08:35:11.259011Z",
     "iopub.status.idle": "2022-07-12T08:35:11.276474Z",
     "shell.execute_reply": "2022-07-12T08:35:11.275934Z"
    },
    "papermill": {
     "duration": 0.026239,
     "end_time": "2022-07-12T08:35:11.277906",
     "exception": false,
     "start_time": "2022-07-12T08:35:11.251667",
     "status": "completed"
    },
    "tags": []
   },
   "outputs": [
    {
     "data": {
      "text/plain": [
       "'Using reference panel folder: /opt/data/data/phenomexcan/ld_blocks/reference_panel_1000G'"
      ]
     },
     "metadata": {},
     "output_type": "display_data"
    }
   ],
   "source": [
    "display(f\"Using reference panel folder: {str(REFERENCE_PANEL_DIR)}\")"
   ]
  },
  {
   "cell_type": "code",
   "execution_count": 10,
   "id": "396392dc-0340-4540-9b02-e182b833f909",
   "metadata": {
    "execution": {
     "iopub.execute_input": "2022-07-12T08:35:11.313458Z",
     "iopub.status.busy": "2022-07-12T08:35:11.312996Z",
     "iopub.status.idle": "2022-07-12T08:35:11.328685Z",
     "shell.execute_reply": "2022-07-12T08:35:11.328116Z"
    },
    "papermill": {
     "duration": 0.035894,
     "end_time": "2022-07-12T08:35:11.330119",
     "exception": false,
     "start_time": "2022-07-12T08:35:11.294225",
     "status": "completed"
    },
    "tags": []
   },
   "outputs": [],
   "source": [
    "OUTPUT_DIR_BASE = (\n",
    "    conf.PHENOMEXCAN[\"LD_BLOCKS\"][f\"GENE_CORRS_DIR\"]\n",
    "    / REFERENCE_PANEL.lower()\n",
    "    / EQTL_MODEL.lower()\n",
    ")\n",
    "OUTPUT_DIR_BASE.mkdir(parents=True, exist_ok=True)"
   ]
  },
  {
   "cell_type": "code",
   "execution_count": 11,
   "id": "8942c2d3-e53c-4d63-a0eb-b6fce0574d36",
   "metadata": {
    "execution": {
     "iopub.execute_input": "2022-07-12T08:35:11.344977Z",
     "iopub.status.busy": "2022-07-12T08:35:11.344478Z",
     "iopub.status.idle": "2022-07-12T08:35:11.360864Z",
     "shell.execute_reply": "2022-07-12T08:35:11.360339Z"
    },
    "papermill": {
     "duration": 0.02523,
     "end_time": "2022-07-12T08:35:11.362213",
     "exception": false,
     "start_time": "2022-07-12T08:35:11.336983",
     "status": "completed"
    },
    "tags": []
   },
   "outputs": [
    {
     "data": {
      "text/plain": [
       "'Using output dir base: /opt/data/data/phenomexcan/ld_blocks/gene_corrs/1000g/mashr'"
      ]
     },
     "metadata": {},
     "output_type": "display_data"
    }
   ],
   "source": [
    "display(f\"Using output dir base: {OUTPUT_DIR_BASE}\")"
   ]
  },
  {
   "cell_type": "code",
   "execution_count": 12,
   "id": "408aa590",
   "metadata": {
    "execution": {
     "iopub.execute_input": "2022-07-12T08:35:11.377326Z",
     "iopub.status.busy": "2022-07-12T08:35:11.376829Z",
     "iopub.status.idle": "2022-07-12T08:35:11.392534Z",
     "shell.execute_reply": "2022-07-12T08:35:11.391918Z"
    },
    "papermill": {
     "duration": 0.02494,
     "end_time": "2022-07-12T08:35:11.394059",
     "exception": false,
     "start_time": "2022-07-12T08:35:11.369119",
     "status": "completed"
    },
    "tags": []
   },
   "outputs": [],
   "source": [
    "assert (\n",
    "    chromosome is not None\n",
    "), \"You have to select one chromosome (format: number between 1 and 22)\""
   ]
  },
  {
   "cell_type": "code",
   "execution_count": 13,
   "id": "c1c7dd06-80ff-453c-bcb7-0899edce75da",
   "metadata": {
    "execution": {
     "iopub.execute_input": "2022-07-12T08:35:11.408776Z",
     "iopub.status.busy": "2022-07-12T08:35:11.408472Z",
     "iopub.status.idle": "2022-07-12T08:35:11.425987Z",
     "shell.execute_reply": "2022-07-12T08:35:11.423831Z"
    },
    "papermill": {
     "duration": 0.027448,
     "end_time": "2022-07-12T08:35:11.428510",
     "exception": false,
     "start_time": "2022-07-12T08:35:11.401062",
     "status": "completed"
    },
    "tags": []
   },
   "outputs": [],
   "source": [
    "chromosome = str(chromosome)"
   ]
  },
  {
   "cell_type": "code",
   "execution_count": 14,
   "id": "bc17b84c-9c26-47a5-a3ab-7046e72f3ef4",
   "metadata": {
    "execution": {
     "iopub.execute_input": "2022-07-12T08:35:11.442737Z",
     "iopub.status.busy": "2022-07-12T08:35:11.442562Z",
     "iopub.status.idle": "2022-07-12T08:35:11.457974Z",
     "shell.execute_reply": "2022-07-12T08:35:11.457494Z"
    },
    "papermill": {
     "duration": 0.023924,
     "end_time": "2022-07-12T08:35:11.459340",
     "exception": false,
     "start_time": "2022-07-12T08:35:11.435416",
     "status": "completed"
    },
    "tags": []
   },
   "outputs": [
    {
     "data": {
      "text/plain": [
       "'Working on chromosome 15'"
      ]
     },
     "metadata": {},
     "output_type": "display_data"
    }
   ],
   "source": [
    "display(f\"Working on chromosome {chromosome}\")"
   ]
  },
  {
   "cell_type": "code",
   "execution_count": 15,
   "id": "3c7d8574-90c7-4d09-bc8c-469ed0a34737",
   "metadata": {
    "execution": {
     "iopub.execute_input": "2022-07-12T08:35:11.473804Z",
     "iopub.status.busy": "2022-07-12T08:35:11.473323Z",
     "iopub.status.idle": "2022-07-12T08:35:11.489635Z",
     "shell.execute_reply": "2022-07-12T08:35:11.489112Z"
    },
    "papermill": {
     "duration": 0.024762,
     "end_time": "2022-07-12T08:35:11.490925",
     "exception": false,
     "start_time": "2022-07-12T08:35:11.466163",
     "status": "completed"
    },
    "tags": []
   },
   "outputs": [
    {
     "data": {
      "text/plain": [
       "'Compute correlation within distance False'"
      ]
     },
     "metadata": {},
     "output_type": "display_data"
    }
   ],
   "source": [
    "# This paramter, if True, computes the correlation between closeby genes only\n",
    "COMPUTE_CORRELATIONS_WITHIN_DISTANCE = False\n",
    "display(f\"Compute correlation within distance {COMPUTE_CORRELATIONS_WITHIN_DISTANCE}\")"
   ]
  },
  {
   "cell_type": "markdown",
   "id": "d2ba085e",
   "metadata": {
    "papermill": {
     "duration": 0.006539,
     "end_time": "2022-07-12T08:35:11.503943",
     "exception": false,
     "start_time": "2022-07-12T08:35:11.497404",
     "status": "completed"
    },
    "tags": []
   },
   "source": [
    "# Load data"
   ]
  },
  {
   "cell_type": "markdown",
   "id": "7bed0ce0-e7c7-4300-9a61-5412450b1904",
   "metadata": {
    "papermill": {
     "duration": 0.006307,
     "end_time": "2022-07-12T08:35:11.516899",
     "exception": false,
     "start_time": "2022-07-12T08:35:11.510592",
     "status": "completed"
    },
    "tags": []
   },
   "source": [
    "## Prediction model tissues"
   ]
  },
  {
   "cell_type": "code",
   "execution_count": 16,
   "id": "0847c065-0d69-4830-a07f-1c75115d17f5",
   "metadata": {
    "execution": {
     "iopub.execute_input": "2022-07-12T08:35:11.530384Z",
     "iopub.status.busy": "2022-07-12T08:35:11.529904Z",
     "iopub.status.idle": "2022-07-12T08:35:11.551802Z",
     "shell.execute_reply": "2022-07-12T08:35:11.551388Z"
    },
    "papermill": {
     "duration": 0.029934,
     "end_time": "2022-07-12T08:35:11.553113",
     "exception": false,
     "start_time": "2022-07-12T08:35:11.523179",
     "status": "completed"
    },
    "tags": []
   },
   "outputs": [],
   "source": [
    "prediction_model_tissues = conf.PHENOMEXCAN[\"PREDICTION_MODELS\"][\n",
    "    f\"{EQTL_MODEL}_TISSUES\"\n",
    "].split(\" \")"
   ]
  },
  {
   "cell_type": "code",
   "execution_count": 17,
   "id": "aaef70d1-30c6-4c6f-9d6b-abc8e9a0081f",
   "metadata": {
    "execution": {
     "iopub.execute_input": "2022-07-12T08:35:11.574946Z",
     "iopub.status.busy": "2022-07-12T08:35:11.574787Z",
     "iopub.status.idle": "2022-07-12T08:35:11.598968Z",
     "shell.execute_reply": "2022-07-12T08:35:11.598589Z"
    },
    "papermill": {
     "duration": 0.036502,
     "end_time": "2022-07-12T08:35:11.600127",
     "exception": false,
     "start_time": "2022-07-12T08:35:11.563625",
     "status": "completed"
    },
    "tags": []
   },
   "outputs": [
    {
     "data": {
      "text/plain": [
       "49"
      ]
     },
     "execution_count": 17,
     "metadata": {},
     "output_type": "execute_result"
    }
   ],
   "source": [
    "len(prediction_model_tissues)"
   ]
  },
  {
   "cell_type": "code",
   "execution_count": 18,
   "id": "ff35a099-c52d-465d-b863-0ee70c26208c",
   "metadata": {
    "execution": {
     "iopub.execute_input": "2022-07-12T08:35:11.622420Z",
     "iopub.status.busy": "2022-07-12T08:35:11.622251Z",
     "iopub.status.idle": "2022-07-12T08:35:11.638063Z",
     "shell.execute_reply": "2022-07-12T08:35:11.637578Z"
    },
    "papermill": {
     "duration": 0.031816,
     "end_time": "2022-07-12T08:35:11.639339",
     "exception": false,
     "start_time": "2022-07-12T08:35:11.607523",
     "status": "completed"
    },
    "tags": []
   },
   "outputs": [
    {
     "data": {
      "text/plain": [
       "['Skin_Not_Sun_Exposed_Suprapubic',\n",
       " 'Cells_EBV-transformed_lymphocytes',\n",
       " 'Brain_Frontal_Cortex_BA9',\n",
       " 'Kidney_Cortex',\n",
       " 'Brain_Substantia_nigra']"
      ]
     },
     "execution_count": 18,
     "metadata": {},
     "output_type": "execute_result"
    }
   ],
   "source": [
    "prediction_model_tissues[:5]"
   ]
  },
  {
   "cell_type": "markdown",
   "id": "abcc4b3d",
   "metadata": {
    "papermill": {
     "duration": 0.006854,
     "end_time": "2022-07-12T08:35:11.653291",
     "exception": false,
     "start_time": "2022-07-12T08:35:11.646437",
     "status": "completed"
    },
    "tags": []
   },
   "source": [
    "## MultiPLIER Z"
   ]
  },
  {
   "cell_type": "code",
   "execution_count": 19,
   "id": "c48ef527",
   "metadata": {
    "execution": {
     "iopub.execute_input": "2022-07-12T08:35:11.668760Z",
     "iopub.status.busy": "2022-07-12T08:35:11.668264Z",
     "iopub.status.idle": "2022-07-12T08:35:11.712887Z",
     "shell.execute_reply": "2022-07-12T08:35:11.712277Z"
    },
    "papermill": {
     "duration": 0.054086,
     "end_time": "2022-07-12T08:35:11.714507",
     "exception": false,
     "start_time": "2022-07-12T08:35:11.660421",
     "status": "completed"
    },
    "tags": []
   },
   "outputs": [],
   "source": [
    "multiplier_z_genes = pd.read_pickle(\n",
    "    conf.MULTIPLIER[\"MODEL_Z_MATRIX_FILE\"]\n",
    ").index.tolist()"
   ]
  },
  {
   "cell_type": "code",
   "execution_count": 20,
   "id": "0a4ecbd9",
   "metadata": {
    "execution": {
     "iopub.execute_input": "2022-07-12T08:35:11.730939Z",
     "iopub.status.busy": "2022-07-12T08:35:11.730645Z",
     "iopub.status.idle": "2022-07-12T08:35:11.748261Z",
     "shell.execute_reply": "2022-07-12T08:35:11.747611Z"
    },
    "papermill": {
     "duration": 0.027563,
     "end_time": "2022-07-12T08:35:11.749920",
     "exception": false,
     "start_time": "2022-07-12T08:35:11.722357",
     "status": "completed"
    },
    "tags": []
   },
   "outputs": [
    {
     "data": {
      "text/plain": [
       "6750"
      ]
     },
     "execution_count": 20,
     "metadata": {},
     "output_type": "execute_result"
    }
   ],
   "source": [
    "len(multiplier_z_genes)"
   ]
  },
  {
   "cell_type": "code",
   "execution_count": 21,
   "id": "115e8864",
   "metadata": {
    "execution": {
     "iopub.execute_input": "2022-07-12T08:35:11.766638Z",
     "iopub.status.busy": "2022-07-12T08:35:11.766293Z",
     "iopub.status.idle": "2022-07-12T08:35:11.783922Z",
     "shell.execute_reply": "2022-07-12T08:35:11.783299Z"
    },
    "papermill": {
     "duration": 0.027432,
     "end_time": "2022-07-12T08:35:11.785393",
     "exception": false,
     "start_time": "2022-07-12T08:35:11.757961",
     "status": "completed"
    },
    "tags": []
   },
   "outputs": [
    {
     "data": {
      "text/plain": [
       "['GAS6',\n",
       " 'MMP14',\n",
       " 'DSP',\n",
       " 'MARCKSL1',\n",
       " 'SPARC',\n",
       " 'CTSD',\n",
       " 'EPAS1',\n",
       " 'PALLD',\n",
       " 'PHC2',\n",
       " 'LGALS3BP']"
      ]
     },
     "execution_count": 21,
     "metadata": {},
     "output_type": "execute_result"
    }
   ],
   "source": [
    "multiplier_z_genes[:10]"
   ]
  },
  {
   "cell_type": "markdown",
   "id": "7dcb8db7",
   "metadata": {
    "papermill": {
     "duration": 0.007606,
     "end_time": "2022-07-12T08:35:11.800768",
     "exception": false,
     "start_time": "2022-07-12T08:35:11.793162",
     "status": "completed"
    },
    "tags": []
   },
   "source": [
    "## Get gene objects"
   ]
  },
  {
   "cell_type": "code",
   "execution_count": 22,
   "id": "bb932812",
   "metadata": {
    "execution": {
     "iopub.execute_input": "2022-07-12T08:35:11.817292Z",
     "iopub.status.busy": "2022-07-12T08:35:11.816796Z",
     "iopub.status.idle": "2022-07-12T08:35:11.839913Z",
     "shell.execute_reply": "2022-07-12T08:35:11.839292Z"
    },
    "papermill": {
     "duration": 0.033237,
     "end_time": "2022-07-12T08:35:11.841652",
     "exception": false,
     "start_time": "2022-07-12T08:35:11.808415",
     "status": "completed"
    },
    "tags": []
   },
   "outputs": [],
   "source": [
    "multiplier_gene_obj = {\n",
    "    gene_name: Gene(name=gene_name)\n",
    "    for gene_name in multiplier_z_genes\n",
    "    if gene_name in Gene.GENE_NAME_TO_ID_MAP\n",
    "}"
   ]
  },
  {
   "cell_type": "code",
   "execution_count": 23,
   "id": "39533214",
   "metadata": {
    "execution": {
     "iopub.execute_input": "2022-07-12T08:35:11.858586Z",
     "iopub.status.busy": "2022-07-12T08:35:11.858073Z",
     "iopub.status.idle": "2022-07-12T08:35:11.875503Z",
     "shell.execute_reply": "2022-07-12T08:35:11.874959Z"
    },
    "papermill": {
     "duration": 0.027286,
     "end_time": "2022-07-12T08:35:11.876952",
     "exception": false,
     "start_time": "2022-07-12T08:35:11.849666",
     "status": "completed"
    },
    "tags": []
   },
   "outputs": [
    {
     "data": {
      "text/plain": [
       "6454"
      ]
     },
     "execution_count": 23,
     "metadata": {},
     "output_type": "execute_result"
    }
   ],
   "source": [
    "len(multiplier_gene_obj)"
   ]
  },
  {
   "cell_type": "code",
   "execution_count": 24,
   "id": "9a5d0b84",
   "metadata": {
    "execution": {
     "iopub.execute_input": "2022-07-12T08:35:11.894407Z",
     "iopub.status.busy": "2022-07-12T08:35:11.893640Z",
     "iopub.status.idle": "2022-07-12T08:35:11.911436Z",
     "shell.execute_reply": "2022-07-12T08:35:11.910904Z"
    },
    "papermill": {
     "duration": 0.027907,
     "end_time": "2022-07-12T08:35:11.912889",
     "exception": false,
     "start_time": "2022-07-12T08:35:11.884982",
     "status": "completed"
    },
    "tags": []
   },
   "outputs": [
    {
     "data": {
      "text/plain": [
       "'ENSG00000183087'"
      ]
     },
     "execution_count": 24,
     "metadata": {},
     "output_type": "execute_result"
    }
   ],
   "source": [
    "multiplier_gene_obj[\"GAS6\"].ensembl_id"
   ]
  },
  {
   "cell_type": "code",
   "execution_count": 25,
   "id": "e3ffabc7",
   "metadata": {
    "execution": {
     "iopub.execute_input": "2022-07-12T08:35:11.929909Z",
     "iopub.status.busy": "2022-07-12T08:35:11.929381Z",
     "iopub.status.idle": "2022-07-12T08:35:14.081783Z",
     "shell.execute_reply": "2022-07-12T08:35:14.081194Z"
    },
    "papermill": {
     "duration": 2.162473,
     "end_time": "2022-07-12T08:35:14.083226",
     "exception": false,
     "start_time": "2022-07-12T08:35:11.920753",
     "status": "completed"
    },
    "tags": []
   },
   "outputs": [],
   "source": [
    "_gene_obj = list(multiplier_gene_obj.values())\n",
    "\n",
    "genes_info = pd.DataFrame(\n",
    "    {\n",
    "        \"name\": [g.name for g in _gene_obj],\n",
    "        \"id\": [g.ensembl_id for g in _gene_obj],\n",
    "        \"chr\": [g.chromosome for g in _gene_obj],\n",
    "        \"band\": [g.band for g in _gene_obj],\n",
    "        \"start_position\": [g.get_attribute(\"start_position\") for g in _gene_obj],\n",
    "    }\n",
    ")"
   ]
  },
  {
   "cell_type": "code",
   "execution_count": 26,
   "id": "e23519b8",
   "metadata": {
    "execution": {
     "iopub.execute_input": "2022-07-12T08:35:14.099497Z",
     "iopub.status.busy": "2022-07-12T08:35:14.099314Z",
     "iopub.status.idle": "2022-07-12T08:35:14.116581Z",
     "shell.execute_reply": "2022-07-12T08:35:14.116013Z"
    },
    "papermill": {
     "duration": 0.026975,
     "end_time": "2022-07-12T08:35:14.117999",
     "exception": false,
     "start_time": "2022-07-12T08:35:14.091024",
     "status": "completed"
    },
    "tags": []
   },
   "outputs": [
    {
     "data": {
      "text/plain": [
       "(6454, 5)"
      ]
     },
     "execution_count": 26,
     "metadata": {},
     "output_type": "execute_result"
    }
   ],
   "source": [
    "genes_info.shape"
   ]
  },
  {
   "cell_type": "code",
   "execution_count": 27,
   "id": "0d71881c",
   "metadata": {
    "execution": {
     "iopub.execute_input": "2022-07-12T08:35:14.134369Z",
     "iopub.status.busy": "2022-07-12T08:35:14.134188Z",
     "iopub.status.idle": "2022-07-12T08:35:14.156238Z",
     "shell.execute_reply": "2022-07-12T08:35:14.155676Z"
    },
    "papermill": {
     "duration": 0.03178,
     "end_time": "2022-07-12T08:35:14.157626",
     "exception": false,
     "start_time": "2022-07-12T08:35:14.125846",
     "status": "completed"
    },
    "tags": []
   },
   "outputs": [
    {
     "data": {
      "text/html": [
       "<div>\n",
       "<style scoped>\n",
       "    .dataframe tbody tr th:only-of-type {\n",
       "        vertical-align: middle;\n",
       "    }\n",
       "\n",
       "    .dataframe tbody tr th {\n",
       "        vertical-align: top;\n",
       "    }\n",
       "\n",
       "    .dataframe thead th {\n",
       "        text-align: right;\n",
       "    }\n",
       "</style>\n",
       "<table border=\"1\" class=\"dataframe\">\n",
       "  <thead>\n",
       "    <tr style=\"text-align: right;\">\n",
       "      <th></th>\n",
       "      <th>name</th>\n",
       "      <th>id</th>\n",
       "      <th>chr</th>\n",
       "      <th>band</th>\n",
       "      <th>start_position</th>\n",
       "    </tr>\n",
       "  </thead>\n",
       "  <tbody>\n",
       "    <tr>\n",
       "      <th>0</th>\n",
       "      <td>GAS6</td>\n",
       "      <td>ENSG00000183087</td>\n",
       "      <td>13</td>\n",
       "      <td>13q34</td>\n",
       "      <td>113820549.0</td>\n",
       "    </tr>\n",
       "    <tr>\n",
       "      <th>1</th>\n",
       "      <td>MMP14</td>\n",
       "      <td>ENSG00000157227</td>\n",
       "      <td>14</td>\n",
       "      <td>14q11.2</td>\n",
       "      <td>22836560.0</td>\n",
       "    </tr>\n",
       "    <tr>\n",
       "      <th>2</th>\n",
       "      <td>DSP</td>\n",
       "      <td>ENSG00000096696</td>\n",
       "      <td>6</td>\n",
       "      <td>6p24.3</td>\n",
       "      <td>7541617.0</td>\n",
       "    </tr>\n",
       "    <tr>\n",
       "      <th>3</th>\n",
       "      <td>MARCKSL1</td>\n",
       "      <td>ENSG00000175130</td>\n",
       "      <td>1</td>\n",
       "      <td>1p35.1</td>\n",
       "      <td>32333839.0</td>\n",
       "    </tr>\n",
       "    <tr>\n",
       "      <th>4</th>\n",
       "      <td>SPARC</td>\n",
       "      <td>ENSG00000113140</td>\n",
       "      <td>5</td>\n",
       "      <td>5q33.1</td>\n",
       "      <td>151661096.0</td>\n",
       "    </tr>\n",
       "  </tbody>\n",
       "</table>\n",
       "</div>"
      ],
      "text/plain": [
       "       name               id chr     band  start_position\n",
       "0      GAS6  ENSG00000183087  13    13q34     113820549.0\n",
       "1     MMP14  ENSG00000157227  14  14q11.2      22836560.0\n",
       "2       DSP  ENSG00000096696   6   6p24.3       7541617.0\n",
       "3  MARCKSL1  ENSG00000175130   1   1p35.1      32333839.0\n",
       "4     SPARC  ENSG00000113140   5   5q33.1     151661096.0"
      ]
     },
     "execution_count": 27,
     "metadata": {},
     "output_type": "execute_result"
    }
   ],
   "source": [
    "genes_info.head()"
   ]
  },
  {
   "cell_type": "markdown",
   "id": "c8d1038f",
   "metadata": {
    "papermill": {
     "duration": 0.007468,
     "end_time": "2022-07-12T08:35:14.172546",
     "exception": false,
     "start_time": "2022-07-12T08:35:14.165078",
     "status": "completed"
    },
    "tags": []
   },
   "source": [
    "# Test"
   ]
  },
  {
   "cell_type": "code",
   "execution_count": 28,
   "id": "64993abf",
   "metadata": {
    "execution": {
     "iopub.execute_input": "2022-07-12T08:35:14.187738Z",
     "iopub.status.busy": "2022-07-12T08:35:14.187563Z",
     "iopub.status.idle": "2022-07-12T08:35:14.210165Z",
     "shell.execute_reply": "2022-07-12T08:35:14.209605Z"
    },
    "papermill": {
     "duration": 0.031678,
     "end_time": "2022-07-12T08:35:14.211498",
     "exception": false,
     "start_time": "2022-07-12T08:35:14.179820",
     "status": "completed"
    },
    "tags": []
   },
   "outputs": [
    {
     "data": {
      "text/html": [
       "<div>\n",
       "<style scoped>\n",
       "    .dataframe tbody tr th:only-of-type {\n",
       "        vertical-align: middle;\n",
       "    }\n",
       "\n",
       "    .dataframe tbody tr th {\n",
       "        vertical-align: top;\n",
       "    }\n",
       "\n",
       "    .dataframe thead th {\n",
       "        text-align: right;\n",
       "    }\n",
       "</style>\n",
       "<table border=\"1\" class=\"dataframe\">\n",
       "  <thead>\n",
       "    <tr style=\"text-align: right;\">\n",
       "      <th></th>\n",
       "      <th>name</th>\n",
       "      <th>id</th>\n",
       "      <th>chr</th>\n",
       "      <th>band</th>\n",
       "      <th>start_position</th>\n",
       "    </tr>\n",
       "  </thead>\n",
       "  <tbody>\n",
       "    <tr>\n",
       "      <th>12</th>\n",
       "      <td>THBS1</td>\n",
       "      <td>ENSG00000137801</td>\n",
       "      <td>15</td>\n",
       "      <td>15q14</td>\n",
       "      <td>39581079.0</td>\n",
       "    </tr>\n",
       "    <tr>\n",
       "      <th>66</th>\n",
       "      <td>CCNB2</td>\n",
       "      <td>ENSG00000157456</td>\n",
       "      <td>15</td>\n",
       "      <td>15q22.2</td>\n",
       "      <td>59105126.0</td>\n",
       "    </tr>\n",
       "    <tr>\n",
       "      <th>70</th>\n",
       "      <td>FBN1</td>\n",
       "      <td>ENSG00000166147</td>\n",
       "      <td>15</td>\n",
       "      <td>15q21.1</td>\n",
       "      <td>48408306.0</td>\n",
       "    </tr>\n",
       "    <tr>\n",
       "      <th>73</th>\n",
       "      <td>SPINT1</td>\n",
       "      <td>ENSG00000166145</td>\n",
       "      <td>15</td>\n",
       "      <td>15q15.1</td>\n",
       "      <td>40844018.0</td>\n",
       "    </tr>\n",
       "    <tr>\n",
       "      <th>75</th>\n",
       "      <td>ANPEP</td>\n",
       "      <td>ENSG00000166825</td>\n",
       "      <td>15</td>\n",
       "      <td>15q26.1</td>\n",
       "      <td>89784895.0</td>\n",
       "    </tr>\n",
       "    <tr>\n",
       "      <th>...</th>\n",
       "      <td>...</td>\n",
       "      <td>...</td>\n",
       "      <td>...</td>\n",
       "      <td>...</td>\n",
       "      <td>...</td>\n",
       "    </tr>\n",
       "    <tr>\n",
       "      <th>6365</th>\n",
       "      <td>MAP2K1</td>\n",
       "      <td>ENSG00000169032</td>\n",
       "      <td>15</td>\n",
       "      <td>15q22.31</td>\n",
       "      <td>66386817.0</td>\n",
       "    </tr>\n",
       "    <tr>\n",
       "      <th>6368</th>\n",
       "      <td>MAP2K5</td>\n",
       "      <td>ENSG00000137764</td>\n",
       "      <td>15</td>\n",
       "      <td>15q23</td>\n",
       "      <td>67542703.0</td>\n",
       "    </tr>\n",
       "    <tr>\n",
       "      <th>6385</th>\n",
       "      <td>RYR3</td>\n",
       "      <td>ENSG00000198838</td>\n",
       "      <td>15</td>\n",
       "      <td>15q13.3</td>\n",
       "      <td>33310945.0</td>\n",
       "    </tr>\n",
       "    <tr>\n",
       "      <th>6389</th>\n",
       "      <td>SLCO3A1</td>\n",
       "      <td>ENSG00000176463</td>\n",
       "      <td>15</td>\n",
       "      <td>15q26.1</td>\n",
       "      <td>91853708.0</td>\n",
       "    </tr>\n",
       "    <tr>\n",
       "      <th>6439</th>\n",
       "      <td>NDN</td>\n",
       "      <td>ENSG00000182636</td>\n",
       "      <td>15</td>\n",
       "      <td>15q11.2</td>\n",
       "      <td>23685400.0</td>\n",
       "    </tr>\n",
       "  </tbody>\n",
       "</table>\n",
       "<p>187 rows × 5 columns</p>\n",
       "</div>"
      ],
      "text/plain": [
       "         name               id chr      band  start_position\n",
       "12      THBS1  ENSG00000137801  15     15q14      39581079.0\n",
       "66      CCNB2  ENSG00000157456  15   15q22.2      59105126.0\n",
       "70       FBN1  ENSG00000166147  15   15q21.1      48408306.0\n",
       "73     SPINT1  ENSG00000166145  15   15q15.1      40844018.0\n",
       "75      ANPEP  ENSG00000166825  15   15q26.1      89784895.0\n",
       "...       ...              ...  ..       ...             ...\n",
       "6365   MAP2K1  ENSG00000169032  15  15q22.31      66386817.0\n",
       "6368   MAP2K5  ENSG00000137764  15     15q23      67542703.0\n",
       "6385     RYR3  ENSG00000198838  15   15q13.3      33310945.0\n",
       "6389  SLCO3A1  ENSG00000176463  15   15q26.1      91853708.0\n",
       "6439      NDN  ENSG00000182636  15   15q11.2      23685400.0\n",
       "\n",
       "[187 rows x 5 columns]"
      ]
     },
     "metadata": {},
     "output_type": "display_data"
    }
   ],
   "source": [
    "chromosome_genes_info = genes_info[genes_info[\"chr\"] == chromosome]\n",
    "display(chromosome_genes_info)"
   ]
  },
  {
   "cell_type": "code",
   "execution_count": 29,
   "id": "d2e42726-7de6-46eb-acfc-6323eaa8fae6",
   "metadata": {
    "execution": {
     "iopub.execute_input": "2022-07-12T08:35:14.227294Z",
     "iopub.status.busy": "2022-07-12T08:35:14.227107Z",
     "iopub.status.idle": "2022-07-12T08:35:14.242728Z",
     "shell.execute_reply": "2022-07-12T08:35:14.242337Z"
    },
    "papermill": {
     "duration": 0.024743,
     "end_time": "2022-07-12T08:35:14.243893",
     "exception": false,
     "start_time": "2022-07-12T08:35:14.219150",
     "status": "completed"
    },
    "tags": []
   },
   "outputs": [
    {
     "data": {
      "text/plain": [
       "5"
      ]
     },
     "metadata": {},
     "output_type": "display_data"
    }
   ],
   "source": [
    "seed(0)\n",
    "_gene_list_ids = sample(chromosome_genes_info[\"id\"].tolist(), 5)\n",
    "selected_chromosome_genes_obj = [Gene(ensembl_id=g_id) for g_id in _gene_list_ids]\n",
    "display(len(selected_chromosome_genes_obj))"
   ]
  },
  {
   "cell_type": "code",
   "execution_count": 30,
   "id": "1b355359",
   "metadata": {
    "execution": {
     "iopub.execute_input": "2022-07-12T08:35:14.273089Z",
     "iopub.status.busy": "2022-07-12T08:35:14.272930Z",
     "iopub.status.idle": "2022-07-12T08:35:17.286526Z",
     "shell.execute_reply": "2022-07-12T08:35:17.285919Z"
    },
    "papermill": {
     "duration": 3.030682,
     "end_time": "2022-07-12T08:35:17.288132",
     "exception": false,
     "start_time": "2022-07-12T08:35:14.257450",
     "status": "completed"
    },
    "tags": []
   },
   "outputs": [
    {
     "name": "stdout",
     "output_type": "stream",
     "text": [
      "FAH / NEIL1: 0.012740525233897746\n",
      "FAH / ST20: 0.03824661275849343\n",
      "FAH / TLE3: 0.0\n",
      "FAH / ANP32A: 0.0\n",
      "NEIL1 / ST20: 0.005898012455106619\n",
      "NEIL1 / TLE3: 0.0\n",
      "NEIL1 / ANP32A: 0.0\n",
      "ST20 / TLE3: 0.0\n",
      "ST20 / ANP32A: 0.0\n",
      "TLE3 / ANP32A: 0.012992797592738992\n"
     ]
    }
   ],
   "source": [
    "for gene_idx1 in range(0, len(selected_chromosome_genes_obj) - 1):\n",
    "    gene_obj1 = selected_chromosome_genes_obj[gene_idx1]\n",
    "\n",
    "    for gene_idx2 in range(gene_idx1 + 1, len(selected_chromosome_genes_obj)):\n",
    "        gene_obj2 = selected_chromosome_genes_obj[gene_idx2]\n",
    "\n",
    "        c = gene_obj1.get_ssm_correlation(\n",
    "            gene_obj2,\n",
    "        )\n",
    "\n",
    "        print(f\"{gene_obj1.name} / {gene_obj2.name}: {c}\")"
   ]
  },
  {
   "cell_type": "markdown",
   "id": "d3843e06",
   "metadata": {
    "papermill": {
     "duration": 0.008175,
     "end_time": "2022-07-12T08:35:17.308209",
     "exception": false,
     "start_time": "2022-07-12T08:35:17.300034",
     "status": "completed"
    },
    "tags": []
   },
   "source": [
    "# Compute correlation per chromosome"
   ]
  },
  {
   "cell_type": "code",
   "execution_count": 31,
   "id": "cb859c15-d1f3-4006-a74c-2b83c0db9611",
   "metadata": {
    "execution": {
     "iopub.execute_input": "2022-07-12T08:35:17.325552Z",
     "iopub.status.busy": "2022-07-12T08:35:17.325129Z",
     "iopub.status.idle": "2022-07-12T08:35:17.343877Z",
     "shell.execute_reply": "2022-07-12T08:35:17.343291Z"
    },
    "papermill": {
     "duration": 0.028893,
     "end_time": "2022-07-12T08:35:17.345282",
     "exception": false,
     "start_time": "2022-07-12T08:35:17.316389",
     "status": "completed"
    },
    "tags": []
   },
   "outputs": [
    {
     "data": {
      "text/plain": [
       "PosixPath('/opt/data/data/phenomexcan/ld_blocks/gene_corrs/1000g/mashr/by_chr/gene_corrs-chr15.pkl')"
      ]
     },
     "metadata": {},
     "output_type": "display_data"
    }
   ],
   "source": [
    "output_dir = OUTPUT_DIR_BASE / \"by_chr\"\n",
    "output_dir.mkdir(exist_ok=True, parents=True)\n",
    "output_file = output_dir / f\"gene_corrs-chr{chromosome}.pkl\"\n",
    "display(output_file)"
   ]
  },
  {
   "cell_type": "code",
   "execution_count": 32,
   "id": "aa674fe4-6794-4eed-98fa-32b39d1d4ace",
   "metadata": {
    "execution": {
     "iopub.execute_input": "2022-07-12T08:35:17.363685Z",
     "iopub.status.busy": "2022-07-12T08:35:17.363302Z",
     "iopub.status.idle": "2022-07-12T08:35:17.379574Z",
     "shell.execute_reply": "2022-07-12T08:35:17.379012Z"
    },
    "papermill": {
     "duration": 0.02705,
     "end_time": "2022-07-12T08:35:17.381120",
     "exception": false,
     "start_time": "2022-07-12T08:35:17.354070",
     "status": "completed"
    },
    "tags": []
   },
   "outputs": [],
   "source": [
    "warnings.filterwarnings(\"error\")"
   ]
  },
  {
   "cell_type": "code",
   "execution_count": 33,
   "id": "cdbb90a1",
   "metadata": {
    "execution": {
     "iopub.execute_input": "2022-07-12T08:35:17.399887Z",
     "iopub.status.busy": "2022-07-12T08:35:17.399706Z",
     "iopub.status.idle": "2022-07-12T08:59:29.950932Z",
     "shell.execute_reply": "2022-07-12T08:59:29.950477Z"
    },
    "papermill": {
     "duration": 1452.562177,
     "end_time": "2022-07-12T08:59:29.952172",
     "exception": false,
     "start_time": "2022-07-12T08:35:17.389995",
     "status": "completed"
    },
    "tags": []
   },
   "outputs": [
    {
     "name": "stdout",
     "output_type": "stream",
     "text": [
      "Number of genes in chromosome: 187\n",
      "Number of gene combinations: 17391\n"
     ]
    },
    {
     "name": "stderr",
     "output_type": "stream",
     "text": [
      "ENSG00000140479 / ENSG00000185418: 100%|██████████████████████| 17391/17391 [24:12<00:00, 11.97it/s]"
     ]
    },
    {
     "name": "stdout",
     "output_type": "stream",
     "text": [
      "Min/max values: 1.8419511747861626e-06 / 0.9599437057756064\n"
     ]
    },
    {
     "name": "stderr",
     "output_type": "stream",
     "text": [
      "\n"
     ]
    },
    {
     "data": {
      "text/plain": [
       "PosixPath('/opt/data/data/phenomexcan/ld_blocks/gene_corrs/1000g/mashr/by_chr/gene_corrs-chr15.pkl')"
      ]
     },
     "metadata": {},
     "output_type": "display_data"
    }
   ],
   "source": [
    "# standard checks\n",
    "all_chrs = genes_info[\"chr\"].dropna().unique()\n",
    "assert all_chrs.shape[0] == 22\n",
    "\n",
    "# select chromosome given by the user\n",
    "assert chromosome in all_chrs\n",
    "\n",
    "# run only on the chromosome specified\n",
    "all_chrs = [chromosome]\n",
    "genes_chr = genes_info[genes_info[\"chr\"] == chromosome]\n",
    "\n",
    "# For testing purposes\n",
    "# genes_chr = genes_chr.sample(n=20)\n",
    "\n",
    "print(f\"Number of genes in chromosome: {genes_chr.shape[0]}\", flush=True)\n",
    "\n",
    "# sort genes by starting position to make visualizations better later\n",
    "genes_chr = genes_chr.sort_values(\"start_position\")\n",
    "\n",
    "gene_chr_objs = [Gene(ensembl_id=gene_id) for gene_id in genes_chr[\"id\"]]\n",
    "gene_chr_ids = [g.ensembl_id for g in gene_chr_objs]\n",
    "\n",
    "n = len(gene_chr_objs)\n",
    "n_comb = int(n * (n - 1) / 2.0)\n",
    "print(f\"Number of gene combinations: {n_comb}\", flush=True)\n",
    "\n",
    "gene_corrs = []\n",
    "\n",
    "pbar = tqdm(ncols=100, total=n_comb)\n",
    "i = 0\n",
    "for gene_idx1 in range(0, len(gene_chr_objs) - 1):\n",
    "    gene_obj1 = gene_chr_objs[gene_idx1]\n",
    "\n",
    "    for gene_idx2 in range(gene_idx1 + 1, len(gene_chr_objs)):\n",
    "        gene_obj2 = gene_chr_objs[gene_idx2]\n",
    "\n",
    "        pbar.set_description(f\"{gene_obj1.ensembl_id} / {gene_obj2.ensembl_id}\")\n",
    "\n",
    "        try:\n",
    "            # FIXME: compute the correlation of the sum of squares of the model using all\n",
    "            # the available tissues; this could be problematic because for some results\n",
    "            # (computed on a specific phenotype/GWAS) we might not have all the tissues\n",
    "            # available, which can certainly bias the correlation estimation.\n",
    "            # Since this depends on the GWAS on a specific phenotype, we should ideally have\n",
    "            # one correlation matrix per GWAS. I should look at how we can improve this.\n",
    "            r = gene_obj1.get_ssm_correlation(\n",
    "                other_gene=gene_obj2,\n",
    "                condition_number=SMULTIXCAN_CONDITION_NUMBER,\n",
    "                reference_panel=REFERENCE_PANEL,\n",
    "                model_type=EQTL_MODEL,\n",
    "                use_within_distance=COMPUTE_CORRELATIONS_WITHIN_DISTANCE,\n",
    "            )\n",
    "\n",
    "            if r is None:\n",
    "                # if r is None, it's very likely because:\n",
    "                #  * one of the genes has no prediction models\n",
    "                #  * all the SNPs predictors for the gene are not present in the reference\n",
    "                #    panel\n",
    "\n",
    "                r = 0.0\n",
    "\n",
    "            gene_corrs.append(r)\n",
    "        except Warning:\n",
    "            print(\n",
    "                f\"RuntimeWarning for genes {gene_obj1.ensembl_id} and {gene_obj2.ensembl_id}\",\n",
    "                flush=True,\n",
    "            )\n",
    "            import traceback\n",
    "\n",
    "            print(traceback.format_exc(), flush=True)\n",
    "        except Exception as e:\n",
    "            print(\n",
    "                f\"Exception for genes {gene_obj1.ensembl_id} and {gene_obj2.ensembl_id}\",\n",
    "                flush=True,\n",
    "            )\n",
    "            import traceback\n",
    "\n",
    "            print(traceback.format_exc(), flush=True)\n",
    "            gene_corrs.append(np.nan)\n",
    "\n",
    "        pbar.update(1)\n",
    "\n",
    "pbar.close()\n",
    "\n",
    "# testing\n",
    "gene_corrs_flat = pd.Series(gene_corrs)\n",
    "print(f\"Min/max values: {gene_corrs_flat.min()} / {gene_corrs_flat.max()}\")\n",
    "assert gene_corrs_flat.min() >= -1.001\n",
    "assert gene_corrs_flat.max() <= 1.001\n",
    "\n",
    "# save\n",
    "# FIXME: consider saving only the condenced matrix here. See here for\n",
    "# more details: https://github.com/greenelab/phenoplier/pull/38#discussion_r634600813\n",
    "gene_corrs_data = squareform(np.array(gene_corrs, dtype=np.float64))\n",
    "np.fill_diagonal(gene_corrs_data, 1.0)\n",
    "\n",
    "gene_corrs_df = pd.DataFrame(\n",
    "    data=gene_corrs_data,\n",
    "    index=gene_chr_ids,\n",
    "    columns=gene_chr_ids,\n",
    ")\n",
    "\n",
    "output_dir.mkdir(exist_ok=True, parents=True)\n",
    "display(output_file)\n",
    "\n",
    "gene_corrs_df.to_pickle(output_file)"
   ]
  },
  {
   "cell_type": "markdown",
   "id": "faa67b51-5373-470f-aa72-2ded53fa6dfe",
   "metadata": {
    "papermill": {
     "duration": 0.957332,
     "end_time": "2022-07-12T08:59:31.843107",
     "exception": false,
     "start_time": "2022-07-12T08:59:30.885775",
     "status": "completed"
    },
    "tags": []
   },
   "source": [
    "# Testing"
   ]
  },
  {
   "cell_type": "code",
   "execution_count": 34,
   "id": "14f7d046-4b55-4896-a56b-990127bcc388",
   "metadata": {
    "execution": {
     "iopub.execute_input": "2022-07-12T08:59:33.685662Z",
     "iopub.status.busy": "2022-07-12T08:59:33.685445Z",
     "iopub.status.idle": "2022-07-12T08:59:33.702975Z",
     "shell.execute_reply": "2022-07-12T08:59:33.702517Z"
    },
    "papermill": {
     "duration": 0.94341,
     "end_time": "2022-07-12T08:59:33.704361",
     "exception": false,
     "start_time": "2022-07-12T08:59:32.760951",
     "status": "completed"
    },
    "tags": []
   },
   "outputs": [
    {
     "data": {
      "text/plain": [
       "(187, 187)"
      ]
     },
     "execution_count": 34,
     "metadata": {},
     "output_type": "execute_result"
    }
   ],
   "source": [
    "gene_corrs_df.shape"
   ]
  },
  {
   "cell_type": "code",
   "execution_count": 35,
   "id": "c7d15414-3297-4537-a7c6-7588c0baeb75",
   "metadata": {
    "execution": {
     "iopub.execute_input": "2022-07-12T08:59:35.558683Z",
     "iopub.status.busy": "2022-07-12T08:59:35.558405Z",
     "iopub.status.idle": "2022-07-12T08:59:35.586899Z",
     "shell.execute_reply": "2022-07-12T08:59:35.586476Z"
    },
    "papermill": {
     "duration": 0.956352,
     "end_time": "2022-07-12T08:59:35.588128",
     "exception": false,
     "start_time": "2022-07-12T08:59:34.631776",
     "status": "completed"
    },
    "tags": []
   },
   "outputs": [
    {
     "data": {
      "text/html": [
       "<div>\n",
       "<style scoped>\n",
       "    .dataframe tbody tr th:only-of-type {\n",
       "        vertical-align: middle;\n",
       "    }\n",
       "\n",
       "    .dataframe tbody tr th {\n",
       "        vertical-align: top;\n",
       "    }\n",
       "\n",
       "    .dataframe thead th {\n",
       "        text-align: right;\n",
       "    }\n",
       "</style>\n",
       "<table border=\"1\" class=\"dataframe\">\n",
       "  <thead>\n",
       "    <tr style=\"text-align: right;\">\n",
       "      <th></th>\n",
       "      <th>ENSG00000273749</th>\n",
       "      <th>ENSG00000275835</th>\n",
       "      <th>ENSG00000182636</th>\n",
       "      <th>ENSG00000273173</th>\n",
       "      <th>ENSG00000114062</th>\n",
       "      <th>ENSG00000206190</th>\n",
       "      <th>ENSG00000128731</th>\n",
       "      <th>ENSG00000034053</th>\n",
       "      <th>ENSG00000198690</th>\n",
       "      <th>ENSG00000166912</th>\n",
       "      <th>...</th>\n",
       "      <th>ENSG00000182175</th>\n",
       "      <th>ENSG00000140450</th>\n",
       "      <th>ENSG00000140443</th>\n",
       "      <th>ENSG00000068305</th>\n",
       "      <th>ENSG00000183475</th>\n",
       "      <th>ENSG00000184254</th>\n",
       "      <th>ENSG00000131873</th>\n",
       "      <th>ENSG00000131876</th>\n",
       "      <th>ENSG00000140479</th>\n",
       "      <th>ENSG00000185418</th>\n",
       "    </tr>\n",
       "  </thead>\n",
       "  <tbody>\n",
       "    <tr>\n",
       "      <th>ENSG00000273749</th>\n",
       "      <td>1.000000</td>\n",
       "      <td>0.062967</td>\n",
       "      <td>0.015976</td>\n",
       "      <td>0.013542</td>\n",
       "      <td>0.011531</td>\n",
       "      <td>0.019480</td>\n",
       "      <td>0.008207</td>\n",
       "      <td>0.022045</td>\n",
       "      <td>0.017294</td>\n",
       "      <td>0.009861</td>\n",
       "      <td>...</td>\n",
       "      <td>0.019340</td>\n",
       "      <td>0.011871</td>\n",
       "      <td>0.013547</td>\n",
       "      <td>0.014340</td>\n",
       "      <td>0.013604</td>\n",
       "      <td>0.019427</td>\n",
       "      <td>0.018833</td>\n",
       "      <td>0.006046</td>\n",
       "      <td>0.023218</td>\n",
       "      <td>0.018442</td>\n",
       "    </tr>\n",
       "    <tr>\n",
       "      <th>ENSG00000275835</th>\n",
       "      <td>0.062967</td>\n",
       "      <td>1.000000</td>\n",
       "      <td>0.007240</td>\n",
       "      <td>0.017255</td>\n",
       "      <td>0.006163</td>\n",
       "      <td>0.010441</td>\n",
       "      <td>0.005365</td>\n",
       "      <td>0.011895</td>\n",
       "      <td>0.008981</td>\n",
       "      <td>0.007823</td>\n",
       "      <td>...</td>\n",
       "      <td>0.011870</td>\n",
       "      <td>0.004348</td>\n",
       "      <td>0.012403</td>\n",
       "      <td>0.006214</td>\n",
       "      <td>0.004907</td>\n",
       "      <td>0.013379</td>\n",
       "      <td>0.010761</td>\n",
       "      <td>0.008148</td>\n",
       "      <td>0.012394</td>\n",
       "      <td>0.008523</td>\n",
       "    </tr>\n",
       "    <tr>\n",
       "      <th>ENSG00000182636</th>\n",
       "      <td>0.015976</td>\n",
       "      <td>0.007240</td>\n",
       "      <td>1.000000</td>\n",
       "      <td>0.005602</td>\n",
       "      <td>0.005393</td>\n",
       "      <td>0.014057</td>\n",
       "      <td>0.005148</td>\n",
       "      <td>0.006174</td>\n",
       "      <td>0.010823</td>\n",
       "      <td>0.006586</td>\n",
       "      <td>...</td>\n",
       "      <td>0.011744</td>\n",
       "      <td>0.002718</td>\n",
       "      <td>0.007966</td>\n",
       "      <td>0.010136</td>\n",
       "      <td>0.006312</td>\n",
       "      <td>0.008257</td>\n",
       "      <td>0.010351</td>\n",
       "      <td>0.004728</td>\n",
       "      <td>0.016069</td>\n",
       "      <td>0.012232</td>\n",
       "    </tr>\n",
       "    <tr>\n",
       "      <th>ENSG00000273173</th>\n",
       "      <td>0.013542</td>\n",
       "      <td>0.017255</td>\n",
       "      <td>0.005602</td>\n",
       "      <td>1.000000</td>\n",
       "      <td>0.005033</td>\n",
       "      <td>0.010688</td>\n",
       "      <td>0.010784</td>\n",
       "      <td>0.012473</td>\n",
       "      <td>0.007749</td>\n",
       "      <td>0.002529</td>\n",
       "      <td>...</td>\n",
       "      <td>0.011012</td>\n",
       "      <td>0.003857</td>\n",
       "      <td>0.009366</td>\n",
       "      <td>0.007097</td>\n",
       "      <td>0.006938</td>\n",
       "      <td>0.007451</td>\n",
       "      <td>0.006776</td>\n",
       "      <td>0.004886</td>\n",
       "      <td>0.011908</td>\n",
       "      <td>0.006847</td>\n",
       "    </tr>\n",
       "    <tr>\n",
       "      <th>ENSG00000114062</th>\n",
       "      <td>0.011531</td>\n",
       "      <td>0.006163</td>\n",
       "      <td>0.005393</td>\n",
       "      <td>0.005033</td>\n",
       "      <td>1.000000</td>\n",
       "      <td>0.010618</td>\n",
       "      <td>0.000671</td>\n",
       "      <td>0.008269</td>\n",
       "      <td>0.005982</td>\n",
       "      <td>0.007081</td>\n",
       "      <td>...</td>\n",
       "      <td>0.014353</td>\n",
       "      <td>0.003440</td>\n",
       "      <td>0.012516</td>\n",
       "      <td>0.004445</td>\n",
       "      <td>0.013307</td>\n",
       "      <td>0.010773</td>\n",
       "      <td>0.004767</td>\n",
       "      <td>0.006088</td>\n",
       "      <td>0.017310</td>\n",
       "      <td>0.012417</td>\n",
       "    </tr>\n",
       "  </tbody>\n",
       "</table>\n",
       "<p>5 rows × 187 columns</p>\n",
       "</div>"
      ],
      "text/plain": [
       "                 ENSG00000273749  ENSG00000275835  ENSG00000182636  \\\n",
       "ENSG00000273749         1.000000         0.062967         0.015976   \n",
       "ENSG00000275835         0.062967         1.000000         0.007240   \n",
       "ENSG00000182636         0.015976         0.007240         1.000000   \n",
       "ENSG00000273173         0.013542         0.017255         0.005602   \n",
       "ENSG00000114062         0.011531         0.006163         0.005393   \n",
       "\n",
       "                 ENSG00000273173  ENSG00000114062  ENSG00000206190  \\\n",
       "ENSG00000273749         0.013542         0.011531         0.019480   \n",
       "ENSG00000275835         0.017255         0.006163         0.010441   \n",
       "ENSG00000182636         0.005602         0.005393         0.014057   \n",
       "ENSG00000273173         1.000000         0.005033         0.010688   \n",
       "ENSG00000114062         0.005033         1.000000         0.010618   \n",
       "\n",
       "                 ENSG00000128731  ENSG00000034053  ENSG00000198690  \\\n",
       "ENSG00000273749         0.008207         0.022045         0.017294   \n",
       "ENSG00000275835         0.005365         0.011895         0.008981   \n",
       "ENSG00000182636         0.005148         0.006174         0.010823   \n",
       "ENSG00000273173         0.010784         0.012473         0.007749   \n",
       "ENSG00000114062         0.000671         0.008269         0.005982   \n",
       "\n",
       "                 ENSG00000166912  ...  ENSG00000182175  ENSG00000140450  \\\n",
       "ENSG00000273749         0.009861  ...         0.019340         0.011871   \n",
       "ENSG00000275835         0.007823  ...         0.011870         0.004348   \n",
       "ENSG00000182636         0.006586  ...         0.011744         0.002718   \n",
       "ENSG00000273173         0.002529  ...         0.011012         0.003857   \n",
       "ENSG00000114062         0.007081  ...         0.014353         0.003440   \n",
       "\n",
       "                 ENSG00000140443  ENSG00000068305  ENSG00000183475  \\\n",
       "ENSG00000273749         0.013547         0.014340         0.013604   \n",
       "ENSG00000275835         0.012403         0.006214         0.004907   \n",
       "ENSG00000182636         0.007966         0.010136         0.006312   \n",
       "ENSG00000273173         0.009366         0.007097         0.006938   \n",
       "ENSG00000114062         0.012516         0.004445         0.013307   \n",
       "\n",
       "                 ENSG00000184254  ENSG00000131873  ENSG00000131876  \\\n",
       "ENSG00000273749         0.019427         0.018833         0.006046   \n",
       "ENSG00000275835         0.013379         0.010761         0.008148   \n",
       "ENSG00000182636         0.008257         0.010351         0.004728   \n",
       "ENSG00000273173         0.007451         0.006776         0.004886   \n",
       "ENSG00000114062         0.010773         0.004767         0.006088   \n",
       "\n",
       "                 ENSG00000140479  ENSG00000185418  \n",
       "ENSG00000273749         0.023218         0.018442  \n",
       "ENSG00000275835         0.012394         0.008523  \n",
       "ENSG00000182636         0.016069         0.012232  \n",
       "ENSG00000273173         0.011908         0.006847  \n",
       "ENSG00000114062         0.017310         0.012417  \n",
       "\n",
       "[5 rows x 187 columns]"
      ]
     },
     "execution_count": 35,
     "metadata": {},
     "output_type": "execute_result"
    }
   ],
   "source": [
    "gene_corrs_df.head()"
   ]
  },
  {
   "cell_type": "code",
   "execution_count": 36,
   "id": "286686af-1b7b-4440-8453-6bdcbd8de19c",
   "metadata": {
    "execution": {
     "iopub.execute_input": "2022-07-12T08:59:37.422743Z",
     "iopub.status.busy": "2022-07-12T08:59:37.421750Z",
     "iopub.status.idle": "2022-07-12T08:59:37.438062Z",
     "shell.execute_reply": "2022-07-12T08:59:37.437679Z"
    },
    "papermill": {
     "duration": 0.942108,
     "end_time": "2022-07-12T08:59:37.439412",
     "exception": false,
     "start_time": "2022-07-12T08:59:36.497304",
     "status": "completed"
    },
    "tags": []
   },
   "outputs": [],
   "source": [
    "assert not gene_corrs_df.isna().any().any()"
   ]
  },
  {
   "cell_type": "code",
   "execution_count": 37,
   "id": "00583efc-7068-4270-ad1e-4a418e91db96",
   "metadata": {
    "execution": {
     "iopub.execute_input": "2022-07-12T08:59:39.285708Z",
     "iopub.status.busy": "2022-07-12T08:59:39.285500Z",
     "iopub.status.idle": "2022-07-12T08:59:39.302048Z",
     "shell.execute_reply": "2022-07-12T08:59:39.301585Z"
    },
    "papermill": {
     "duration": 0.932082,
     "end_time": "2022-07-12T08:59:39.303259",
     "exception": false,
     "start_time": "2022-07-12T08:59:38.371177",
     "status": "completed"
    },
    "tags": []
   },
   "outputs": [
    {
     "data": {
      "text/plain": [
       "1.8419511747861626e-06"
      ]
     },
     "metadata": {},
     "output_type": "display_data"
    }
   ],
   "source": [
    "_min_val = gene_corrs_df.min().min()\n",
    "display(_min_val)\n",
    "assert _min_val >= 0.0"
   ]
  },
  {
   "cell_type": "code",
   "execution_count": 38,
   "id": "d04fb2cf-1050-475b-b855-f5f7cc04092b",
   "metadata": {
    "execution": {
     "iopub.execute_input": "2022-07-12T08:59:41.154642Z",
     "iopub.status.busy": "2022-07-12T08:59:41.154285Z",
     "iopub.status.idle": "2022-07-12T08:59:41.170337Z",
     "shell.execute_reply": "2022-07-12T08:59:41.169896Z"
    },
    "papermill": {
     "duration": 0.943696,
     "end_time": "2022-07-12T08:59:41.171488",
     "exception": false,
     "start_time": "2022-07-12T08:59:40.227792",
     "status": "completed"
    },
    "tags": []
   },
   "outputs": [
    {
     "data": {
      "text/plain": [
       "1.0"
      ]
     },
     "metadata": {},
     "output_type": "display_data"
    }
   ],
   "source": [
    "_max_val = gene_corrs_df.max().max()  # this captures the diagonal\n",
    "display(_max_val)\n",
    "assert _max_val <= 1.0"
   ]
  },
  {
   "cell_type": "code",
   "execution_count": 39,
   "id": "96d02c44-1fba-47be-8a93-8f2608420b9c",
   "metadata": {
    "execution": {
     "iopub.execute_input": "2022-07-12T08:59:43.003173Z",
     "iopub.status.busy": "2022-07-12T08:59:43.002969Z",
     "iopub.status.idle": "2022-07-12T08:59:43.019764Z",
     "shell.execute_reply": "2022-07-12T08:59:43.019346Z"
    },
    "papermill": {
     "duration": 0.936959,
     "end_time": "2022-07-12T08:59:43.021025",
     "exception": false,
     "start_time": "2022-07-12T08:59:42.084066",
     "status": "completed"
    },
    "tags": []
   },
   "outputs": [],
   "source": [
    "# check upper triangular values\n",
    "assert len(gene_corrs) == int(genes_chr.shape[0] * (genes_chr.shape[0] - 1) / 2)"
   ]
  },
  {
   "cell_type": "code",
   "execution_count": 40,
   "id": "aaa51627-f4e3-4744-a41f-7d25adcc0a78",
   "metadata": {
    "execution": {
     "iopub.execute_input": "2022-07-12T08:59:44.867694Z",
     "iopub.status.busy": "2022-07-12T08:59:44.867511Z",
     "iopub.status.idle": "2022-07-12T08:59:44.887399Z",
     "shell.execute_reply": "2022-07-12T08:59:44.886972Z"
    },
    "papermill": {
     "duration": 0.945303,
     "end_time": "2022-07-12T08:59:44.888763",
     "exception": false,
     "start_time": "2022-07-12T08:59:43.943460",
     "status": "completed"
    },
    "tags": []
   },
   "outputs": [],
   "source": [
    "gene_corrs = pd.Series(gene_corrs)"
   ]
  },
  {
   "cell_type": "code",
   "execution_count": 41,
   "id": "fe283586-c348-40e0-8841-f6d97bfb021c",
   "metadata": {
    "execution": {
     "iopub.execute_input": "2022-07-12T08:59:46.745915Z",
     "iopub.status.busy": "2022-07-12T08:59:46.745696Z",
     "iopub.status.idle": "2022-07-12T08:59:46.764249Z",
     "shell.execute_reply": "2022-07-12T08:59:46.763817Z"
    },
    "papermill": {
     "duration": 0.953148,
     "end_time": "2022-07-12T08:59:46.765422",
     "exception": false,
     "start_time": "2022-07-12T08:59:45.812274",
     "status": "completed"
    },
    "tags": []
   },
   "outputs": [
    {
     "data": {
      "text/plain": [
       "count    17391.000000\n",
       "mean         0.012175\n",
       "std          0.036425\n",
       "min          0.000002\n",
       "25%          0.005409\n",
       "50%          0.008180\n",
       "75%          0.011478\n",
       "max          0.959944\n",
       "dtype: float64"
      ]
     },
     "execution_count": 41,
     "metadata": {},
     "output_type": "execute_result"
    }
   ],
   "source": [
    "gene_corrs.describe()"
   ]
  },
  {
   "cell_type": "code",
   "execution_count": 42,
   "id": "b3815678-0f93-4b35-897b-a9d047a2aa78",
   "metadata": {
    "execution": {
     "iopub.execute_input": "2022-07-12T08:59:48.603860Z",
     "iopub.status.busy": "2022-07-12T08:59:48.603648Z",
     "iopub.status.idle": "2022-07-12T08:59:48.624903Z",
     "shell.execute_reply": "2022-07-12T08:59:48.624369Z"
    },
    "papermill": {
     "duration": 0.944146,
     "end_time": "2022-07-12T08:59:48.627160",
     "exception": false,
     "start_time": "2022-07-12T08:59:47.683014",
     "status": "completed"
    },
    "tags": []
   },
   "outputs": [
    {
     "data": {
      "text/plain": [
       "0.00    0.000002\n",
       "0.05    0.002328\n",
       "0.10    0.003321\n",
       "0.15    0.004067\n",
       "0.20    0.004789\n",
       "0.25    0.005409\n",
       "0.30    0.005976\n",
       "0.35    0.006526\n",
       "0.40    0.007058\n",
       "0.45    0.007613\n",
       "0.50    0.008180\n",
       "0.55    0.008762\n",
       "0.60    0.009367\n",
       "0.65    0.010029\n",
       "0.70    0.010688\n",
       "0.75    0.011478\n",
       "0.80    0.012370\n",
       "0.85    0.013510\n",
       "0.90    0.014987\n",
       "0.95    0.017670\n",
       "dtype: float64"
      ]
     },
     "metadata": {},
     "output_type": "display_data"
    }
   ],
   "source": [
    "gene_corrs_quantiles = gene_corrs.quantile(np.arange(0, 1, 0.05))\n",
    "display(gene_corrs_quantiles)"
   ]
  },
  {
   "cell_type": "markdown",
   "id": "8e60a080-edb2-4e9c-b2ef-22961693200c",
   "metadata": {
    "papermill": {
     "duration": 0.955762,
     "end_time": "2022-07-12T08:59:50.517713",
     "exception": false,
     "start_time": "2022-07-12T08:59:49.561951",
     "status": "completed"
    },
    "tags": []
   },
   "source": [
    "## Plot: distribution"
   ]
  },
  {
   "cell_type": "code",
   "execution_count": 43,
   "id": "8301126b-a7d4-4744-9c7d-f0f86eb6f54c",
   "metadata": {
    "execution": {
     "iopub.execute_input": "2022-07-12T08:59:52.360176Z",
     "iopub.status.busy": "2022-07-12T08:59:52.359966Z",
     "iopub.status.idle": "2022-07-12T08:59:56.858216Z",
     "shell.execute_reply": "2022-07-12T08:59:56.857717Z"
    },
    "papermill": {
     "duration": 5.421221,
     "end_time": "2022-07-12T08:59:56.859615",
     "exception": false,
     "start_time": "2022-07-12T08:59:51.438394",
     "status": "completed"
    },
    "tags": []
   },
   "outputs": [
    {
     "data": {
      "image/png": "[encoded data removed]",
      "text/plain": [
       "<Figure size 504x504 with 1 Axes>"
      ]
     },
     "metadata": {
      "needs_background": "light"
     },
     "output_type": "display_data"
    }
   ],
   "source": [
    "with sns.plotting_context(\"paper\", font_scale=1.5):\n",
    "    g = sns.displot(gene_corrs, kde=True, height=7)\n",
    "    g.ax.set_title(\n",
    "        f\"Distribution of gene correlation values in chromosome {chromosome}\"\n",
    "    )"
   ]
  },
  {
   "cell_type": "markdown",
   "id": "cbd52bca-d878-4a2f-b684-5c83aa3038d4",
   "metadata": {
    "papermill": {
     "duration": 0.915905,
     "end_time": "2022-07-12T08:59:58.718399",
     "exception": false,
     "start_time": "2022-07-12T08:59:57.802494",
     "status": "completed"
    },
    "tags": []
   },
   "source": [
    "## Plot: heatmap"
   ]
  },
  {
   "cell_type": "code",
   "execution_count": 44,
   "id": "d03fe63a-c7b2-4fb9-a53c-db362ce843c9",
   "metadata": {
    "execution": {
     "iopub.execute_input": "2022-07-12T09:00:00.551034Z",
     "iopub.status.busy": "2022-07-12T09:00:00.550860Z",
     "iopub.status.idle": "2022-07-12T09:00:00.570666Z",
     "shell.execute_reply": "2022-07-12T09:00:00.570201Z"
    },
    "papermill": {
     "duration": 0.940701,
     "end_time": "2022-07-12T09:00:00.571891",
     "exception": false,
     "start_time": "2022-07-12T08:59:59.631190",
     "status": "completed"
    },
    "tags": []
   },
   "outputs": [
    {
     "data": {
      "text/plain": [
       "'-0.05 / 0.05'"
      ]
     },
     "metadata": {},
     "output_type": "display_data"
    }
   ],
   "source": [
    "vmin_val = min(-0.05, gene_corrs_quantiles[0.10])\n",
    "vmax_val = max(0.05, gene_corrs_quantiles[0.90])\n",
    "display(f\"{vmin_val} / {vmax_val}\")"
   ]
  },
  {
   "cell_type": "code",
   "execution_count": 45,
   "id": "dc41b70b-5bcc-4d9e-9f33-a22c4a94dab5",
   "metadata": {
    "execution": {
     "iopub.execute_input": "2022-07-12T09:00:02.406409Z",
     "iopub.status.busy": "2022-07-12T09:00:02.406200Z",
     "iopub.status.idle": "2022-07-12T09:00:02.584699Z",
     "shell.execute_reply": "2022-07-12T09:00:02.584206Z"
    },
    "papermill": {
     "duration": 1.101718,
     "end_time": "2022-07-12T09:00:02.586894",
     "exception": false,
     "start_time": "2022-07-12T09:00:01.485176",
     "status": "completed"
    },
    "tags": []
   },
   "outputs": [
    {
     "data": {
      "text/plain": [
       "Text(0.5, 1.0, 'Gene correlations in chromosome 15')"
      ]
     },
     "execution_count": 45,
     "metadata": {},
     "output_type": "execute_result"
    },
    {
     "data": {
      "image/png": "[encoded data removed]",
      "text/plain": [
       "<Figure size 720x720 with 2 Axes>"
      ]
     },
     "metadata": {
      "needs_background": "light"
     },
     "output_type": "display_data"
    }
   ],
   "source": [
    "f, ax = plt.subplots(figsize=(10, 10))\n",
    "sns.heatmap(\n",
    "    gene_corrs_df,\n",
    "    xticklabels=False,\n",
    "    yticklabels=False,\n",
    "    square=True,\n",
    "    vmin=vmin_val,\n",
    "    vmax=vmax_val,\n",
    "    cmap=\"YlGnBu\",\n",
    "    ax=ax,\n",
    ")\n",
    "ax.set_title(f\"Gene correlations in chromosome {chromosome}\")"
   ]
  },
  {
   "cell_type": "code",
   "execution_count": null,
   "id": "b25e3ead",
   "metadata": {
    "papermill": {
     "duration": 0.926529,
     "end_time": "2022-07-12T09:00:04.449914",
     "exception": false,
     "start_time": "2022-07-12T09:00:03.523385",
     "status": "completed"
    },
    "tags": []
   },
   "outputs": [],
   "source": []
  }
 ],
 "metadata": {
  "jupytext": {
   "cell_metadata_filter": "all,-execution,-papermill,-trusted",
   "formats": "ipynb,py//py:percent"
  },
  "kernelspec": {
   "display_name": "Python 3 (ipykernel)",
   "language": "python",
   "name": "python3"
  },
  "language_info": {
   "codemirror_mode": {
    "name": "ipython",
    "version": 3
   },
   "file_extension": ".py",
   "mimetype": "text/x-python",
   "name": "python",
   "nbconvert_exporter": "python",
   "pygments_lexer": "ipython3",
   "version": "3.8.13"
  },
  "papermill": {
   "default_parameters": {},
   "duration": 1499.432589,
   "end_time": "2022-07-12T09:00:08.131429",
   "environment_variables": {},
   "exception": null,
   "input_path": "nbs/15_gsa_gls/10-gene_expr_correlations.ipynb",
   "output_path": "nbs/15_gsa_gls/gene_corrs/1000g/mashr/10-gene_expr_correlations-chr15.run.ipynb",
   "parameters": {
    "EQTL_MODEL": "MASHR",
    "REFERENCE_PANEL": "1000G",
    "chromosome": 15
   },
   "start_time": "2022-07-12T08:35:08.698840",
   "version": "2.2.2"
  }
 },
 "nbformat": 4,
 "nbformat_minor": 5
}
