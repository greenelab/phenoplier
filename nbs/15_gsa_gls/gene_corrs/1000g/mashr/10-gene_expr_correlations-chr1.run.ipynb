{
 "cells": [
  {
   "cell_type": "markdown",
   "id": "7a6632fb",
   "metadata": {
    "papermill": {
     "duration": 0.020317,
     "end_time": "2022-07-11T06:02:14.235889",
     "exception": false,
     "start_time": "2022-07-11T06:02:14.215572",
     "status": "completed"
    },
    "tags": []
   },
   "source": [
    "# Description"
   ]
  },
  {
   "cell_type": "markdown",
   "id": "7097c346",
   "metadata": {
    "papermill": {
     "duration": 0.008085,
     "end_time": "2022-07-11T06:02:14.254268",
     "exception": false,
     "start_time": "2022-07-11T06:02:14.246183",
     "status": "completed"
    },
    "tags": []
   },
   "source": [
    "(Please, take a look at the README.md file in this directory for instructions on how to run this notebook)\n",
    "\n",
    "This notebook computes predicted expression correlations between all genes in the MultiPLIER models.\n",
    "\n",
    "It also has a parameter set for papermill to run on a single chromosome to run in parallel (see under `Settings` below).\n",
    "\n",
    "This notebook is not directly run. See README.md."
   ]
  },
  {
   "cell_type": "markdown",
   "id": "c61d8427",
   "metadata": {
    "papermill": {
     "duration": 0.007042,
     "end_time": "2022-07-11T06:02:14.268609",
     "exception": false,
     "start_time": "2022-07-11T06:02:14.261567",
     "status": "completed"
    },
    "tags": []
   },
   "source": [
    "# Modules"
   ]
  },
  {
   "cell_type": "code",
   "execution_count": 1,
   "id": "bbc0234f",
   "metadata": {
    "execution": {
     "iopub.execute_input": "2022-07-11T06:02:14.282419Z",
     "iopub.status.busy": "2022-07-11T06:02:14.282228Z",
     "iopub.status.idle": "2022-07-11T06:02:14.296304Z",
     "shell.execute_reply": "2022-07-11T06:02:14.295784Z"
    },
    "papermill": {
     "duration": 0.022212,
     "end_time": "2022-07-11T06:02:14.297681",
     "exception": false,
     "start_time": "2022-07-11T06:02:14.275469",
     "status": "completed"
    },
    "tags": []
   },
   "outputs": [],
   "source": [
    "%load_ext autoreload\n",
    "%autoreload 2"
   ]
  },
  {
   "cell_type": "code",
   "execution_count": 2,
   "id": "1d5f5a59",
   "metadata": {
    "execution": {
     "iopub.execute_input": "2022-07-11T06:02:14.310460Z",
     "iopub.status.busy": "2022-07-11T06:02:14.310304Z",
     "iopub.status.idle": "2022-07-11T06:02:15.281265Z",
     "shell.execute_reply": "2022-07-11T06:02:15.280602Z"
    },
    "papermill": {
     "duration": 0.979286,
     "end_time": "2022-07-11T06:02:15.283053",
     "exception": false,
     "start_time": "2022-07-11T06:02:14.303767",
     "status": "completed"
    },
    "tags": []
   },
   "outputs": [],
   "source": [
    "from random import sample, seed\n",
    "import warnings\n",
    "from pathlib import Path\n",
    "\n",
    "import numpy as np\n",
    "from scipy.spatial.distance import squareform\n",
    "import pandas as pd\n",
    "from tqdm import tqdm\n",
    "import matplotlib.pyplot as plt\n",
    "import seaborn as sns\n",
    "\n",
    "import conf\n",
    "from entity import Gene"
   ]
  },
  {
   "cell_type": "markdown",
   "id": "1eac24b5",
   "metadata": {
    "papermill": {
     "duration": 0.00637,
     "end_time": "2022-07-11T06:02:15.325304",
     "exception": false,
     "start_time": "2022-07-11T06:02:15.318934",
     "status": "completed"
    },
    "tags": []
   },
   "source": [
    "# Settings"
   ]
  },
  {
   "cell_type": "code",
   "execution_count": 3,
   "id": "ca4560ba",
   "metadata": {
    "execution": {
     "iopub.execute_input": "2022-07-11T06:02:15.339605Z",
     "iopub.status.busy": "2022-07-11T06:02:15.339404Z",
     "iopub.status.idle": "2022-07-11T06:02:15.356565Z",
     "shell.execute_reply": "2022-07-11T06:02:15.355955Z"
    },
    "papermill": {
     "duration": 0.026443,
     "end_time": "2022-07-11T06:02:15.358453",
     "exception": false,
     "start_time": "2022-07-11T06:02:15.332010",
     "status": "completed"
    },
    "tags": [
     "parameters"
    ]
   },
   "outputs": [],
   "source": [
    "# reference panel\n",
    "REFERENCE_PANEL = \"GTEX_V8\"\n",
    "# REFERENCE_PANEL = \"1000G\"\n",
    "\n",
    "# prediction models\n",
    "## mashr\n",
    "EQTL_MODEL = \"MASHR\"\n",
    "\n",
    "# this is the default value used in S-MultiXcan to select the\n",
    "# top principal components of the expression correlation matrix\n",
    "SMULTIXCAN_CONDITION_NUMBER = 30\n",
    "\n",
    "# specifies a single chromosome value\n",
    "# by default, run on all chromosomes\n",
    "chromosome = None"
   ]
  },
  {
   "cell_type": "code",
   "execution_count": 4,
   "id": "eaf0f710",
   "metadata": {
    "execution": {
     "iopub.execute_input": "2022-07-11T06:02:15.373125Z",
     "iopub.status.busy": "2022-07-11T06:02:15.372929Z",
     "iopub.status.idle": "2022-07-11T06:02:15.389662Z",
     "shell.execute_reply": "2022-07-11T06:02:15.389076Z"
    },
    "papermill": {
     "duration": 0.025946,
     "end_time": "2022-07-11T06:02:15.391200",
     "exception": false,
     "start_time": "2022-07-11T06:02:15.365254",
     "status": "completed"
    },
    "tags": [
     "injected-parameters"
    ]
   },
   "outputs": [],
   "source": [
    "# Parameters\n",
    "chromosome = 1\n",
    "REFERENCE_PANEL = \"1000G\"\n",
    "EQTL_MODEL = \"MASHR\"\n"
   ]
  },
  {
   "cell_type": "code",
   "execution_count": 5,
   "id": "a089c9ff",
   "metadata": {
    "execution": {
     "iopub.execute_input": "2022-07-11T06:02:15.405519Z",
     "iopub.status.busy": "2022-07-11T06:02:15.405332Z",
     "iopub.status.idle": "2022-07-11T06:02:15.422294Z",
     "shell.execute_reply": "2022-07-11T06:02:15.421671Z"
    },
    "papermill": {
     "duration": 0.025859,
     "end_time": "2022-07-11T06:02:15.423853",
     "exception": false,
     "start_time": "2022-07-11T06:02:15.397994",
     "status": "completed"
    },
    "tags": []
   },
   "outputs": [],
   "source": [
    "EQTL_MODEL_FILES_PREFIX = conf.PHENOMEXCAN[\"PREDICTION_MODELS\"][f\"{EQTL_MODEL}_PREFIX\"]"
   ]
  },
  {
   "cell_type": "code",
   "execution_count": 6,
   "id": "8fe24bef",
   "metadata": {
    "execution": {
     "iopub.execute_input": "2022-07-11T06:02:15.439280Z",
     "iopub.status.busy": "2022-07-11T06:02:15.438842Z",
     "iopub.status.idle": "2022-07-11T06:02:15.460879Z",
     "shell.execute_reply": "2022-07-11T06:02:15.460267Z"
    },
    "papermill": {
     "duration": 0.030822,
     "end_time": "2022-07-11T06:02:15.462424",
     "exception": false,
     "start_time": "2022-07-11T06:02:15.431602",
     "status": "completed"
    },
    "tags": []
   },
   "outputs": [
    {
     "data": {
      "text/plain": [
       "'Using eQTL model: MASHR / mashr_'"
      ]
     },
     "metadata": {},
     "output_type": "display_data"
    }
   ],
   "source": [
    "display(f\"Using eQTL model: {EQTL_MODEL} / {EQTL_MODEL_FILES_PREFIX}\")"
   ]
  },
  {
   "cell_type": "code",
   "execution_count": 7,
   "id": "552a7f63-a18c-4d3e-bb6a-94f99b431291",
   "metadata": {
    "execution": {
     "iopub.execute_input": "2022-07-11T06:02:15.487684Z",
     "iopub.status.busy": "2022-07-11T06:02:15.487430Z",
     "iopub.status.idle": "2022-07-11T06:02:15.507415Z",
     "shell.execute_reply": "2022-07-11T06:02:15.506888Z"
    },
    "papermill": {
     "duration": 0.030447,
     "end_time": "2022-07-11T06:02:15.510276",
     "exception": false,
     "start_time": "2022-07-11T06:02:15.479829",
     "status": "completed"
    },
    "tags": []
   },
   "outputs": [
    {
     "data": {
      "text/plain": [
       "'S-MultiXcan condition number: 30'"
      ]
     },
     "metadata": {},
     "output_type": "display_data"
    }
   ],
   "source": [
    "display(f\"S-MultiXcan condition number: {SMULTIXCAN_CONDITION_NUMBER}\")"
   ]
  },
  {
   "cell_type": "code",
   "execution_count": 8,
   "id": "0230ebcb-2c32-4b95-9292-d9a52038e70d",
   "metadata": {
    "execution": {
     "iopub.execute_input": "2022-07-11T06:02:15.524301Z",
     "iopub.status.busy": "2022-07-11T06:02:15.524104Z",
     "iopub.status.idle": "2022-07-11T06:02:15.540197Z",
     "shell.execute_reply": "2022-07-11T06:02:15.539609Z"
    },
    "papermill": {
     "duration": 0.024669,
     "end_time": "2022-07-11T06:02:15.541670",
     "exception": false,
     "start_time": "2022-07-11T06:02:15.517001",
     "status": "completed"
    },
    "tags": []
   },
   "outputs": [],
   "source": [
    "REFERENCE_PANEL_DIR = conf.PHENOMEXCAN[\"LD_BLOCKS\"][f\"{REFERENCE_PANEL}_GENOTYPE_DIR\"]"
   ]
  },
  {
   "cell_type": "code",
   "execution_count": 9,
   "id": "98c4a159-601d-4a22-a1ab-35bd451c25f9",
   "metadata": {
    "execution": {
     "iopub.execute_input": "2022-07-11T06:02:15.555600Z",
     "iopub.status.busy": "2022-07-11T06:02:15.555357Z",
     "iopub.status.idle": "2022-07-11T06:02:15.572803Z",
     "shell.execute_reply": "2022-07-11T06:02:15.572350Z"
    },
    "papermill": {
     "duration": 0.025969,
     "end_time": "2022-07-11T06:02:15.574239",
     "exception": false,
     "start_time": "2022-07-11T06:02:15.548270",
     "status": "completed"
    },
    "tags": []
   },
   "outputs": [
    {
     "data": {
      "text/plain": [
       "'Using reference panel folder: /opt/data/data/phenomexcan/ld_blocks/reference_panel_1000G'"
      ]
     },
     "metadata": {},
     "output_type": "display_data"
    }
   ],
   "source": [
    "display(f\"Using reference panel folder: {str(REFERENCE_PANEL_DIR)}\")"
   ]
  },
  {
   "cell_type": "code",
   "execution_count": 10,
   "id": "396392dc-0340-4540-9b02-e182b833f909",
   "metadata": {
    "execution": {
     "iopub.execute_input": "2022-07-11T06:02:15.589861Z",
     "iopub.status.busy": "2022-07-11T06:02:15.589333Z",
     "iopub.status.idle": "2022-07-11T06:02:15.606129Z",
     "shell.execute_reply": "2022-07-11T06:02:15.605258Z"
    },
    "papermill": {
     "duration": 0.026526,
     "end_time": "2022-07-11T06:02:15.607640",
     "exception": false,
     "start_time": "2022-07-11T06:02:15.581114",
     "status": "completed"
    },
    "tags": []
   },
   "outputs": [],
   "source": [
    "OUTPUT_DIR_BASE = (\n",
    "    conf.PHENOMEXCAN[\"LD_BLOCKS\"][f\"GENE_CORRS_DIR\"]\n",
    "    / REFERENCE_PANEL.lower()\n",
    "    / EQTL_MODEL.lower()\n",
    ")\n",
    "OUTPUT_DIR_BASE.mkdir(parents=True, exist_ok=True)"
   ]
  },
  {
   "cell_type": "code",
   "execution_count": 11,
   "id": "8942c2d3-e53c-4d63-a0eb-b6fce0574d36",
   "metadata": {
    "execution": {
     "iopub.execute_input": "2022-07-11T06:02:15.622550Z",
     "iopub.status.busy": "2022-07-11T06:02:15.622371Z",
     "iopub.status.idle": "2022-07-11T06:02:15.640456Z",
     "shell.execute_reply": "2022-07-11T06:02:15.639963Z"
    },
    "papermill": {
     "duration": 0.02741,
     "end_time": "2022-07-11T06:02:15.641762",
     "exception": false,
     "start_time": "2022-07-11T06:02:15.614352",
     "status": "completed"
    },
    "tags": []
   },
   "outputs": [
    {
     "data": {
      "text/plain": [
       "'Using output dir base: /opt/data/data/phenomexcan/ld_blocks/gene_corrs/1000g/mashr'"
      ]
     },
     "metadata": {},
     "output_type": "display_data"
    }
   ],
   "source": [
    "display(f\"Using output dir base: {OUTPUT_DIR_BASE}\")"
   ]
  },
  {
   "cell_type": "code",
   "execution_count": 12,
   "id": "408aa590",
   "metadata": {
    "execution": {
     "iopub.execute_input": "2022-07-11T06:02:15.655993Z",
     "iopub.status.busy": "2022-07-11T06:02:15.655816Z",
     "iopub.status.idle": "2022-07-11T06:02:15.671267Z",
     "shell.execute_reply": "2022-07-11T06:02:15.670759Z"
    },
    "papermill": {
     "duration": 0.024341,
     "end_time": "2022-07-11T06:02:15.672725",
     "exception": false,
     "start_time": "2022-07-11T06:02:15.648384",
     "status": "completed"
    },
    "tags": []
   },
   "outputs": [],
   "source": [
    "assert (\n",
    "    chromosome is not None\n",
    "), \"You have to select one chromosome (format: number between 1 and 22)\""
   ]
  },
  {
   "cell_type": "code",
   "execution_count": 13,
   "id": "c1c7dd06-80ff-453c-bcb7-0899edce75da",
   "metadata": {
    "execution": {
     "iopub.execute_input": "2022-07-11T06:02:15.686919Z",
     "iopub.status.busy": "2022-07-11T06:02:15.686644Z",
     "iopub.status.idle": "2022-07-11T06:02:15.702605Z",
     "shell.execute_reply": "2022-07-11T06:02:15.701839Z"
    },
    "papermill": {
     "duration": 0.024747,
     "end_time": "2022-07-11T06:02:15.704071",
     "exception": false,
     "start_time": "2022-07-11T06:02:15.679324",
     "status": "completed"
    },
    "tags": []
   },
   "outputs": [],
   "source": [
    "chromosome = str(chromosome)"
   ]
  },
  {
   "cell_type": "code",
   "execution_count": 14,
   "id": "bc17b84c-9c26-47a5-a3ab-7046e72f3ef4",
   "metadata": {
    "execution": {
     "iopub.execute_input": "2022-07-11T06:02:15.718585Z",
     "iopub.status.busy": "2022-07-11T06:02:15.718122Z",
     "iopub.status.idle": "2022-07-11T06:02:15.734859Z",
     "shell.execute_reply": "2022-07-11T06:02:15.734352Z"
    },
    "papermill": {
     "duration": 0.025415,
     "end_time": "2022-07-11T06:02:15.736205",
     "exception": false,
     "start_time": "2022-07-11T06:02:15.710790",
     "status": "completed"
    },
    "tags": []
   },
   "outputs": [
    {
     "data": {
      "text/plain": [
       "'Working on chromosome 1'"
      ]
     },
     "metadata": {},
     "output_type": "display_data"
    }
   ],
   "source": [
    "display(f\"Working on chromosome {chromosome}\")"
   ]
  },
  {
   "cell_type": "markdown",
   "id": "d2ba085e",
   "metadata": {
    "papermill": {
     "duration": 0.0062,
     "end_time": "2022-07-11T06:02:15.749131",
     "exception": false,
     "start_time": "2022-07-11T06:02:15.742931",
     "status": "completed"
    },
    "tags": []
   },
   "source": [
    "# Load data"
   ]
  },
  {
   "cell_type": "markdown",
   "id": "7bed0ce0-e7c7-4300-9a61-5412450b1904",
   "metadata": {
    "papermill": {
     "duration": 0.006278,
     "end_time": "2022-07-11T06:02:15.761833",
     "exception": false,
     "start_time": "2022-07-11T06:02:15.755555",
     "status": "completed"
    },
    "tags": []
   },
   "source": [
    "## Prediction model tissues"
   ]
  },
  {
   "cell_type": "code",
   "execution_count": 15,
   "id": "0847c065-0d69-4830-a07f-1c75115d17f5",
   "metadata": {
    "execution": {
     "iopub.execute_input": "2022-07-11T06:02:15.775733Z",
     "iopub.status.busy": "2022-07-11T06:02:15.775557Z",
     "iopub.status.idle": "2022-07-11T06:02:15.790865Z",
     "shell.execute_reply": "2022-07-11T06:02:15.790325Z"
    },
    "papermill": {
     "duration": 0.024063,
     "end_time": "2022-07-11T06:02:15.792523",
     "exception": false,
     "start_time": "2022-07-11T06:02:15.768460",
     "status": "completed"
    },
    "tags": []
   },
   "outputs": [],
   "source": [
    "prediction_model_tissues = conf.PHENOMEXCAN[\"PREDICTION_MODELS\"][\n",
    "    f\"{EQTL_MODEL}_TISSUES\"\n",
    "].split(\" \")"
   ]
  },
  {
   "cell_type": "code",
   "execution_count": 16,
   "id": "aaef70d1-30c6-4c6f-9d6b-abc8e9a0081f",
   "metadata": {
    "execution": {
     "iopub.execute_input": "2022-07-11T06:02:15.806853Z",
     "iopub.status.busy": "2022-07-11T06:02:15.806681Z",
     "iopub.status.idle": "2022-07-11T06:02:15.822642Z",
     "shell.execute_reply": "2022-07-11T06:02:15.822151Z"
    },
    "papermill": {
     "duration": 0.024642,
     "end_time": "2022-07-11T06:02:15.824044",
     "exception": false,
     "start_time": "2022-07-11T06:02:15.799402",
     "status": "completed"
    },
    "tags": []
   },
   "outputs": [
    {
     "data": {
      "text/plain": [
       "49"
      ]
     },
     "execution_count": 16,
     "metadata": {},
     "output_type": "execute_result"
    }
   ],
   "source": [
    "len(prediction_model_tissues)"
   ]
  },
  {
   "cell_type": "code",
   "execution_count": 17,
   "id": "ff35a099-c52d-465d-b863-0ee70c26208c",
   "metadata": {
    "execution": {
     "iopub.execute_input": "2022-07-11T06:02:15.838985Z",
     "iopub.status.busy": "2022-07-11T06:02:15.838643Z",
     "iopub.status.idle": "2022-07-11T06:02:15.855693Z",
     "shell.execute_reply": "2022-07-11T06:02:15.855204Z"
    },
    "papermill": {
     "duration": 0.025975,
     "end_time": "2022-07-11T06:02:15.856996",
     "exception": false,
     "start_time": "2022-07-11T06:02:15.831021",
     "status": "completed"
    },
    "tags": []
   },
   "outputs": [
    {
     "data": {
      "text/plain": [
       "['Skin_Not_Sun_Exposed_Suprapubic',\n",
       " 'Cells_EBV-transformed_lymphocytes',\n",
       " 'Brain_Frontal_Cortex_BA9',\n",
       " 'Kidney_Cortex',\n",
       " 'Brain_Substantia_nigra']"
      ]
     },
     "execution_count": 17,
     "metadata": {},
     "output_type": "execute_result"
    }
   ],
   "source": [
    "prediction_model_tissues[:5]"
   ]
  },
  {
   "cell_type": "markdown",
   "id": "abcc4b3d",
   "metadata": {
    "papermill": {
     "duration": 0.006954,
     "end_time": "2022-07-11T06:02:15.871126",
     "exception": false,
     "start_time": "2022-07-11T06:02:15.864172",
     "status": "completed"
    },
    "tags": []
   },
   "source": [
    "## MultiPLIER Z"
   ]
  },
  {
   "cell_type": "code",
   "execution_count": 18,
   "id": "c48ef527",
   "metadata": {
    "execution": {
     "iopub.execute_input": "2022-07-11T06:02:15.886084Z",
     "iopub.status.busy": "2022-07-11T06:02:15.885906Z",
     "iopub.status.idle": "2022-07-11T06:02:15.930760Z",
     "shell.execute_reply": "2022-07-11T06:02:15.930181Z"
    },
    "papermill": {
     "duration": 0.054091,
     "end_time": "2022-07-11T06:02:15.932284",
     "exception": false,
     "start_time": "2022-07-11T06:02:15.878193",
     "status": "completed"
    },
    "tags": []
   },
   "outputs": [],
   "source": [
    "multiplier_z_genes = pd.read_pickle(\n",
    "    conf.MULTIPLIER[\"MODEL_Z_MATRIX_FILE\"]\n",
    ").index.tolist()"
   ]
  },
  {
   "cell_type": "code",
   "execution_count": 19,
   "id": "0a4ecbd9",
   "metadata": {
    "execution": {
     "iopub.execute_input": "2022-07-11T06:02:15.948192Z",
     "iopub.status.busy": "2022-07-11T06:02:15.947953Z",
     "iopub.status.idle": "2022-07-11T06:02:15.964550Z",
     "shell.execute_reply": "2022-07-11T06:02:15.964027Z"
    },
    "papermill": {
     "duration": 0.025942,
     "end_time": "2022-07-11T06:02:15.965900",
     "exception": false,
     "start_time": "2022-07-11T06:02:15.939958",
     "status": "completed"
    },
    "tags": []
   },
   "outputs": [
    {
     "data": {
      "text/plain": [
       "6750"
      ]
     },
     "execution_count": 19,
     "metadata": {},
     "output_type": "execute_result"
    }
   ],
   "source": [
    "len(multiplier_z_genes)"
   ]
  },
  {
   "cell_type": "code",
   "execution_count": 20,
   "id": "115e8864",
   "metadata": {
    "execution": {
     "iopub.execute_input": "2022-07-11T06:02:15.981961Z",
     "iopub.status.busy": "2022-07-11T06:02:15.981782Z",
     "iopub.status.idle": "2022-07-11T06:02:15.999561Z",
     "shell.execute_reply": "2022-07-11T06:02:15.998770Z"
    },
    "papermill": {
     "duration": 0.027685,
     "end_time": "2022-07-11T06:02:16.000914",
     "exception": false,
     "start_time": "2022-07-11T06:02:15.973229",
     "status": "completed"
    },
    "tags": []
   },
   "outputs": [
    {
     "data": {
      "text/plain": [
       "['GAS6',\n",
       " 'MMP14',\n",
       " 'DSP',\n",
       " 'MARCKSL1',\n",
       " 'SPARC',\n",
       " 'CTSD',\n",
       " 'EPAS1',\n",
       " 'PALLD',\n",
       " 'PHC2',\n",
       " 'LGALS3BP']"
      ]
     },
     "execution_count": 20,
     "metadata": {},
     "output_type": "execute_result"
    }
   ],
   "source": [
    "multiplier_z_genes[:10]"
   ]
  },
  {
   "cell_type": "markdown",
   "id": "7dcb8db7",
   "metadata": {
    "papermill": {
     "duration": 0.006669,
     "end_time": "2022-07-11T06:02:16.014809",
     "exception": false,
     "start_time": "2022-07-11T06:02:16.008140",
     "status": "completed"
    },
    "tags": []
   },
   "source": [
    "## Get gene objects"
   ]
  },
  {
   "cell_type": "code",
   "execution_count": 21,
   "id": "bb932812",
   "metadata": {
    "execution": {
     "iopub.execute_input": "2022-07-11T06:02:16.030080Z",
     "iopub.status.busy": "2022-07-11T06:02:16.029733Z",
     "iopub.status.idle": "2022-07-11T06:02:16.053004Z",
     "shell.execute_reply": "2022-07-11T06:02:16.052531Z"
    },
    "papermill": {
     "duration": 0.032311,
     "end_time": "2022-07-11T06:02:16.054687",
     "exception": false,
     "start_time": "2022-07-11T06:02:16.022376",
     "status": "completed"
    },
    "tags": []
   },
   "outputs": [],
   "source": [
    "multiplier_gene_obj = {\n",
    "    gene_name: Gene(name=gene_name)\n",
    "    for gene_name in multiplier_z_genes\n",
    "    if gene_name in Gene.GENE_NAME_TO_ID_MAP\n",
    "}"
   ]
  },
  {
   "cell_type": "code",
   "execution_count": 22,
   "id": "39533214",
   "metadata": {
    "execution": {
     "iopub.execute_input": "2022-07-11T06:02:16.071409Z",
     "iopub.status.busy": "2022-07-11T06:02:16.071221Z",
     "iopub.status.idle": "2022-07-11T06:02:16.088299Z",
     "shell.execute_reply": "2022-07-11T06:02:16.087750Z"
    },
    "papermill": {
     "duration": 0.027296,
     "end_time": "2022-07-11T06:02:16.089852",
     "exception": false,
     "start_time": "2022-07-11T06:02:16.062556",
     "status": "completed"
    },
    "tags": []
   },
   "outputs": [
    {
     "data": {
      "text/plain": [
       "6454"
      ]
     },
     "execution_count": 22,
     "metadata": {},
     "output_type": "execute_result"
    }
   ],
   "source": [
    "len(multiplier_gene_obj)"
   ]
  },
  {
   "cell_type": "code",
   "execution_count": 23,
   "id": "9a5d0b84",
   "metadata": {
    "execution": {
     "iopub.execute_input": "2022-07-11T06:02:16.106508Z",
     "iopub.status.busy": "2022-07-11T06:02:16.106284Z",
     "iopub.status.idle": "2022-07-11T06:02:16.124855Z",
     "shell.execute_reply": "2022-07-11T06:02:16.124287Z"
    },
    "papermill": {
     "duration": 0.028033,
     "end_time": "2022-07-11T06:02:16.126307",
     "exception": false,
     "start_time": "2022-07-11T06:02:16.098274",
     "status": "completed"
    },
    "tags": []
   },
   "outputs": [
    {
     "data": {
      "text/plain": [
       "'ENSG00000183087'"
      ]
     },
     "execution_count": 23,
     "metadata": {},
     "output_type": "execute_result"
    }
   ],
   "source": [
    "multiplier_gene_obj[\"GAS6\"].ensembl_id"
   ]
  },
  {
   "cell_type": "code",
   "execution_count": 24,
   "id": "e3ffabc7",
   "metadata": {
    "execution": {
     "iopub.execute_input": "2022-07-11T06:02:16.148755Z",
     "iopub.status.busy": "2022-07-11T06:02:16.148244Z",
     "iopub.status.idle": "2022-07-11T06:02:18.158333Z",
     "shell.execute_reply": "2022-07-11T06:02:18.157901Z"
    },
    "papermill": {
     "duration": 2.025304,
     "end_time": "2022-07-11T06:02:18.159682",
     "exception": false,
     "start_time": "2022-07-11T06:02:16.134378",
     "status": "completed"
    },
    "tags": []
   },
   "outputs": [],
   "source": [
    "_gene_obj = list(multiplier_gene_obj.values())\n",
    "\n",
    "genes_info = pd.DataFrame(\n",
    "    {\n",
    "        \"name\": [g.name for g in _gene_obj],\n",
    "        \"id\": [g.ensembl_id for g in _gene_obj],\n",
    "        \"chr\": [g.chromosome for g in _gene_obj],\n",
    "        \"band\": [g.band for g in _gene_obj],\n",
    "        \"start_position\": [g.get_attribute(\"start_position\") for g in _gene_obj],\n",
    "    }\n",
    ")"
   ]
  },
  {
   "cell_type": "code",
   "execution_count": 25,
   "id": "e23519b8",
   "metadata": {
    "execution": {
     "iopub.execute_input": "2022-07-11T06:02:18.182152Z",
     "iopub.status.busy": "2022-07-11T06:02:18.181978Z",
     "iopub.status.idle": "2022-07-11T06:02:18.199837Z",
     "shell.execute_reply": "2022-07-11T06:02:18.199269Z"
    },
    "papermill": {
     "duration": 0.032357,
     "end_time": "2022-07-11T06:02:18.201148",
     "exception": false,
     "start_time": "2022-07-11T06:02:18.168791",
     "status": "completed"
    },
    "tags": []
   },
   "outputs": [
    {
     "data": {
      "text/plain": [
       "(6454, 5)"
      ]
     },
     "execution_count": 25,
     "metadata": {},
     "output_type": "execute_result"
    }
   ],
   "source": [
    "genes_info.shape"
   ]
  },
  {
   "cell_type": "code",
   "execution_count": 26,
   "id": "0d71881c",
   "metadata": {
    "execution": {
     "iopub.execute_input": "2022-07-11T06:02:18.216902Z",
     "iopub.status.busy": "2022-07-11T06:02:18.216737Z",
     "iopub.status.idle": "2022-07-11T06:02:18.238421Z",
     "shell.execute_reply": "2022-07-11T06:02:18.237894Z"
    },
    "papermill": {
     "duration": 0.030581,
     "end_time": "2022-07-11T06:02:18.239704",
     "exception": false,
     "start_time": "2022-07-11T06:02:18.209123",
     "status": "completed"
    },
    "tags": []
   },
   "outputs": [
    {
     "data": {
      "text/html": [
       "<div>\n",
       "<style scoped>\n",
       "    .dataframe tbody tr th:only-of-type {\n",
       "        vertical-align: middle;\n",
       "    }\n",
       "\n",
       "    .dataframe tbody tr th {\n",
       "        vertical-align: top;\n",
       "    }\n",
       "\n",
       "    .dataframe thead th {\n",
       "        text-align: right;\n",
       "    }\n",
       "</style>\n",
       "<table border=\"1\" class=\"dataframe\">\n",
       "  <thead>\n",
       "    <tr style=\"text-align: right;\">\n",
       "      <th></th>\n",
       "      <th>name</th>\n",
       "      <th>id</th>\n",
       "      <th>chr</th>\n",
       "      <th>band</th>\n",
       "      <th>start_position</th>\n",
       "    </tr>\n",
       "  </thead>\n",
       "  <tbody>\n",
       "    <tr>\n",
       "      <th>0</th>\n",
       "      <td>GAS6</td>\n",
       "      <td>ENSG00000183087</td>\n",
       "      <td>13</td>\n",
       "      <td>13q34</td>\n",
       "      <td>113820549.0</td>\n",
       "    </tr>\n",
       "    <tr>\n",
       "      <th>1</th>\n",
       "      <td>MMP14</td>\n",
       "      <td>ENSG00000157227</td>\n",
       "      <td>14</td>\n",
       "      <td>14q11.2</td>\n",
       "      <td>22836560.0</td>\n",
       "    </tr>\n",
       "    <tr>\n",
       "      <th>2</th>\n",
       "      <td>DSP</td>\n",
       "      <td>ENSG00000096696</td>\n",
       "      <td>6</td>\n",
       "      <td>6p24.3</td>\n",
       "      <td>7541617.0</td>\n",
       "    </tr>\n",
       "    <tr>\n",
       "      <th>3</th>\n",
       "      <td>MARCKSL1</td>\n",
       "      <td>ENSG00000175130</td>\n",
       "      <td>1</td>\n",
       "      <td>1p35.1</td>\n",
       "      <td>32333839.0</td>\n",
       "    </tr>\n",
       "    <tr>\n",
       "      <th>4</th>\n",
       "      <td>SPARC</td>\n",
       "      <td>ENSG00000113140</td>\n",
       "      <td>5</td>\n",
       "      <td>5q33.1</td>\n",
       "      <td>151661096.0</td>\n",
       "    </tr>\n",
       "  </tbody>\n",
       "</table>\n",
       "</div>"
      ],
      "text/plain": [
       "       name               id chr     band  start_position\n",
       "0      GAS6  ENSG00000183087  13    13q34     113820549.0\n",
       "1     MMP14  ENSG00000157227  14  14q11.2      22836560.0\n",
       "2       DSP  ENSG00000096696   6   6p24.3       7541617.0\n",
       "3  MARCKSL1  ENSG00000175130   1   1p35.1      32333839.0\n",
       "4     SPARC  ENSG00000113140   5   5q33.1     151661096.0"
      ]
     },
     "execution_count": 26,
     "metadata": {},
     "output_type": "execute_result"
    }
   ],
   "source": [
    "genes_info.head()"
   ]
  },
  {
   "cell_type": "markdown",
   "id": "c8d1038f",
   "metadata": {
    "papermill": {
     "duration": 0.006692,
     "end_time": "2022-07-11T06:02:18.253573",
     "exception": false,
     "start_time": "2022-07-11T06:02:18.246881",
     "status": "completed"
    },
    "tags": []
   },
   "source": [
    "# Test"
   ]
  },
  {
   "cell_type": "code",
   "execution_count": 27,
   "id": "64993abf",
   "metadata": {
    "execution": {
     "iopub.execute_input": "2022-07-11T06:02:18.269512Z",
     "iopub.status.busy": "2022-07-11T06:02:18.268925Z",
     "iopub.status.idle": "2022-07-11T06:02:18.291169Z",
     "shell.execute_reply": "2022-07-11T06:02:18.290760Z"
    },
    "papermill": {
     "duration": 0.031013,
     "end_time": "2022-07-11T06:02:18.292431",
     "exception": false,
     "start_time": "2022-07-11T06:02:18.261418",
     "status": "completed"
    },
    "tags": []
   },
   "outputs": [
    {
     "data": {
      "text/html": [
       "<div>\n",
       "<style scoped>\n",
       "    .dataframe tbody tr th:only-of-type {\n",
       "        vertical-align: middle;\n",
       "    }\n",
       "\n",
       "    .dataframe tbody tr th {\n",
       "        vertical-align: top;\n",
       "    }\n",
       "\n",
       "    .dataframe thead th {\n",
       "        text-align: right;\n",
       "    }\n",
       "</style>\n",
       "<table border=\"1\" class=\"dataframe\">\n",
       "  <thead>\n",
       "    <tr style=\"text-align: right;\">\n",
       "      <th></th>\n",
       "      <th>name</th>\n",
       "      <th>id</th>\n",
       "      <th>chr</th>\n",
       "      <th>band</th>\n",
       "      <th>start_position</th>\n",
       "    </tr>\n",
       "  </thead>\n",
       "  <tbody>\n",
       "    <tr>\n",
       "      <th>3</th>\n",
       "      <td>MARCKSL1</td>\n",
       "      <td>ENSG00000175130</td>\n",
       "      <td>1</td>\n",
       "      <td>1p35.1</td>\n",
       "      <td>32333839.0</td>\n",
       "    </tr>\n",
       "    <tr>\n",
       "      <th>8</th>\n",
       "      <td>PHC2</td>\n",
       "      <td>ENSG00000134686</td>\n",
       "      <td>1</td>\n",
       "      <td>1p35.1</td>\n",
       "      <td>33323623.0</td>\n",
       "    </tr>\n",
       "    <tr>\n",
       "      <th>16</th>\n",
       "      <td>CREG1</td>\n",
       "      <td>ENSG00000143162</td>\n",
       "      <td>1</td>\n",
       "      <td>1q24.2</td>\n",
       "      <td>167529117.0</td>\n",
       "    </tr>\n",
       "    <tr>\n",
       "      <th>39</th>\n",
       "      <td>PPP1R12B</td>\n",
       "      <td>ENSG00000077157</td>\n",
       "      <td>1</td>\n",
       "      <td>1q32.1</td>\n",
       "      <td>202348699.0</td>\n",
       "    </tr>\n",
       "    <tr>\n",
       "      <th>41</th>\n",
       "      <td>NID1</td>\n",
       "      <td>ENSG00000116962</td>\n",
       "      <td>1</td>\n",
       "      <td>1q42.3</td>\n",
       "      <td>235975830.0</td>\n",
       "    </tr>\n",
       "    <tr>\n",
       "      <th>...</th>\n",
       "      <td>...</td>\n",
       "      <td>...</td>\n",
       "      <td>...</td>\n",
       "      <td>...</td>\n",
       "      <td>...</td>\n",
       "    </tr>\n",
       "    <tr>\n",
       "      <th>6359</th>\n",
       "      <td>PDE4B</td>\n",
       "      <td>ENSG00000184588</td>\n",
       "      <td>1</td>\n",
       "      <td>1p31.3</td>\n",
       "      <td>65792514.0</td>\n",
       "    </tr>\n",
       "    <tr>\n",
       "      <th>6373</th>\n",
       "      <td>MTR</td>\n",
       "      <td>ENSG00000116984</td>\n",
       "      <td>1</td>\n",
       "      <td>1q43</td>\n",
       "      <td>236795292.0</td>\n",
       "    </tr>\n",
       "    <tr>\n",
       "      <th>6386</th>\n",
       "      <td>RYR2</td>\n",
       "      <td>ENSG00000198626</td>\n",
       "      <td>1</td>\n",
       "      <td>1q43</td>\n",
       "      <td>237042184.0</td>\n",
       "    </tr>\n",
       "    <tr>\n",
       "      <th>6435</th>\n",
       "      <td>VANGL1</td>\n",
       "      <td>ENSG00000173218</td>\n",
       "      <td>1</td>\n",
       "      <td>1p13.1</td>\n",
       "      <td>115641970.0</td>\n",
       "    </tr>\n",
       "    <tr>\n",
       "      <th>6447</th>\n",
       "      <td>ACAP3</td>\n",
       "      <td>ENSG00000131584</td>\n",
       "      <td>1</td>\n",
       "      <td>1p36.33</td>\n",
       "      <td>1292390.0</td>\n",
       "    </tr>\n",
       "  </tbody>\n",
       "</table>\n",
       "<p>700 rows × 5 columns</p>\n",
       "</div>"
      ],
      "text/plain": [
       "          name               id chr     band  start_position\n",
       "3     MARCKSL1  ENSG00000175130   1   1p35.1      32333839.0\n",
       "8         PHC2  ENSG00000134686   1   1p35.1      33323623.0\n",
       "16       CREG1  ENSG00000143162   1   1q24.2     167529117.0\n",
       "39    PPP1R12B  ENSG00000077157   1   1q32.1     202348699.0\n",
       "41        NID1  ENSG00000116962   1   1q42.3     235975830.0\n",
       "...        ...              ...  ..      ...             ...\n",
       "6359     PDE4B  ENSG00000184588   1   1p31.3      65792514.0\n",
       "6373       MTR  ENSG00000116984   1     1q43     236795292.0\n",
       "6386      RYR2  ENSG00000198626   1     1q43     237042184.0\n",
       "6435    VANGL1  ENSG00000173218   1   1p13.1     115641970.0\n",
       "6447     ACAP3  ENSG00000131584   1  1p36.33       1292390.0\n",
       "\n",
       "[700 rows x 5 columns]"
      ]
     },
     "metadata": {},
     "output_type": "display_data"
    }
   ],
   "source": [
    "chromosome_genes_info = genes_info[genes_info[\"chr\"] == chromosome]\n",
    "display(chromosome_genes_info)"
   ]
  },
  {
   "cell_type": "code",
   "execution_count": 28,
   "id": "d2e42726-7de6-46eb-acfc-6323eaa8fae6",
   "metadata": {
    "execution": {
     "iopub.execute_input": "2022-07-11T06:02:18.307816Z",
     "iopub.status.busy": "2022-07-11T06:02:18.307655Z",
     "iopub.status.idle": "2022-07-11T06:02:18.324790Z",
     "shell.execute_reply": "2022-07-11T06:02:18.324261Z"
    },
    "papermill": {
     "duration": 0.026272,
     "end_time": "2022-07-11T06:02:18.326056",
     "exception": false,
     "start_time": "2022-07-11T06:02:18.299784",
     "status": "completed"
    },
    "tags": []
   },
   "outputs": [
    {
     "data": {
      "text/plain": [
       "5"
      ]
     },
     "metadata": {},
     "output_type": "display_data"
    }
   ],
   "source": [
    "seed(0)\n",
    "_gene_list_ids = sample(chromosome_genes_info[\"id\"].tolist(), 5)\n",
    "selected_chromosome_genes_obj = [Gene(ensembl_id=g_id) for g_id in _gene_list_ids]\n",
    "display(len(selected_chromosome_genes_obj))"
   ]
  },
  {
   "cell_type": "code",
   "execution_count": 29,
   "id": "1b355359",
   "metadata": {
    "execution": {
     "iopub.execute_input": "2022-07-11T06:02:18.343146Z",
     "iopub.status.busy": "2022-07-11T06:02:18.342969Z",
     "iopub.status.idle": "2022-07-11T06:02:22.265800Z",
     "shell.execute_reply": "2022-07-11T06:02:22.265257Z"
    },
    "papermill": {
     "duration": 3.938995,
     "end_time": "2022-07-11T06:02:22.272711",
     "exception": false,
     "start_time": "2022-07-11T06:02:18.333716",
     "status": "completed"
    },
    "tags": []
   },
   "outputs": [
    {
     "name": "stdout",
     "output_type": "stream",
     "text": [
      "CMPK1 / SRSF11: 0.0\n",
      "CMPK1 / IL10: 0.0\n",
      "CMPK1 / FLVCR1: 0.0\n",
      "CMPK1 / FAF1: 0.0065114020341745646\n",
      "SRSF11 / IL10: 0.0\n",
      "SRSF11 / FLVCR1: 0.0\n",
      "SRSF11 / FAF1: 0.0\n",
      "IL10 / FLVCR1: 0.0\n",
      "IL10 / FAF1: 0.0\n",
      "FLVCR1 / FAF1: 0.0\n"
     ]
    }
   ],
   "source": [
    "for gene_idx1 in range(0, len(selected_chromosome_genes_obj) - 1):\n",
    "    gene_obj1 = selected_chromosome_genes_obj[gene_idx1]\n",
    "\n",
    "    for gene_idx2 in range(gene_idx1 + 1, len(selected_chromosome_genes_obj)):\n",
    "        gene_obj2 = selected_chromosome_genes_obj[gene_idx2]\n",
    "\n",
    "        c = gene_obj1.get_ssm_correlation(\n",
    "            gene_obj2,\n",
    "        )\n",
    "\n",
    "        print(f\"{gene_obj1.name} / {gene_obj2.name}: {c}\")"
   ]
  },
  {
   "cell_type": "markdown",
   "id": "d3843e06",
   "metadata": {
    "papermill": {
     "duration": 0.007336,
     "end_time": "2022-07-11T06:02:22.287546",
     "exception": false,
     "start_time": "2022-07-11T06:02:22.280210",
     "status": "completed"
    },
    "tags": []
   },
   "source": [
    "# Compute correlation per chromosome"
   ]
  },
  {
   "cell_type": "code",
   "execution_count": 30,
   "id": "cb859c15-d1f3-4006-a74c-2b83c0db9611",
   "metadata": {
    "execution": {
     "iopub.execute_input": "2022-07-11T06:02:22.304001Z",
     "iopub.status.busy": "2022-07-11T06:02:22.303826Z",
     "iopub.status.idle": "2022-07-11T06:02:22.321349Z",
     "shell.execute_reply": "2022-07-11T06:02:22.320726Z"
    },
    "papermill": {
     "duration": 0.027838,
     "end_time": "2022-07-11T06:02:22.322821",
     "exception": false,
     "start_time": "2022-07-11T06:02:22.294983",
     "status": "completed"
    },
    "tags": []
   },
   "outputs": [
    {
     "data": {
      "text/plain": [
       "PosixPath('/opt/data/data/phenomexcan/ld_blocks/gene_corrs/1000g/mashr/by_chr/gene_corrs-chr1.pkl')"
      ]
     },
     "metadata": {},
     "output_type": "display_data"
    }
   ],
   "source": [
    "output_dir = OUTPUT_DIR_BASE / \"by_chr\"\n",
    "output_dir.mkdir(exist_ok=True, parents=True)\n",
    "output_file = output_dir / f\"gene_corrs-chr{chromosome}.pkl\"\n",
    "display(output_file)"
   ]
  },
  {
   "cell_type": "code",
   "execution_count": 31,
   "id": "aa674fe4-6794-4eed-98fa-32b39d1d4ace",
   "metadata": {
    "execution": {
     "iopub.execute_input": "2022-07-11T06:02:22.339958Z",
     "iopub.status.busy": "2022-07-11T06:02:22.339399Z",
     "iopub.status.idle": "2022-07-11T06:02:22.355270Z",
     "shell.execute_reply": "2022-07-11T06:02:22.354729Z"
    },
    "papermill": {
     "duration": 0.026163,
     "end_time": "2022-07-11T06:02:22.356867",
     "exception": false,
     "start_time": "2022-07-11T06:02:22.330704",
     "status": "completed"
    },
    "tags": []
   },
   "outputs": [],
   "source": [
    "warnings.filterwarnings(\"error\")"
   ]
  },
  {
   "cell_type": "code",
   "execution_count": 32,
   "id": "cdbb90a1",
   "metadata": {
    "execution": {
     "iopub.execute_input": "2022-07-11T06:02:22.373848Z",
     "iopub.status.busy": "2022-07-11T06:02:22.373676Z",
     "iopub.status.idle": "2022-07-11T06:37:29.958701Z",
     "shell.execute_reply": "2022-07-11T06:37:29.958285Z"
    },
    "papermill": {
     "duration": 2113.851105,
     "end_time": "2022-07-11T06:37:36.216182",
     "exception": false,
     "start_time": "2022-07-11T06:02:22.365077",
     "status": "completed"
    },
    "tags": []
   },
   "outputs": [
    {
     "name": "stdout",
     "output_type": "stream",
     "text": [
      "Number of genes in chromosome: 700\n",
      "Number of gene combinations: 244650\n"
     ]
    },
    {
     "name": "stderr",
     "output_type": "stream",
     "text": [
      "ENSG00000162722 / ENSG00000238243: 100%|███████████████████| 244650/244650 [35:07<00:00, 116.09it/s]\n"
     ]
    },
    {
     "name": "stdout",
     "output_type": "stream",
     "text": [
      "Min/max values: 0.0 / 0.93304781509027\n"
     ]
    },
    {
     "data": {
      "text/plain": [
       "PosixPath('/opt/data/data/phenomexcan/ld_blocks/gene_corrs/1000g/mashr/by_chr/gene_corrs-chr1.pkl')"
      ]
     },
     "metadata": {},
     "output_type": "display_data"
    }
   ],
   "source": [
    "# standard checks\n",
    "all_chrs = genes_info[\"chr\"].dropna().unique()\n",
    "assert all_chrs.shape[0] == 22\n",
    "\n",
    "# select chromosome given by the user\n",
    "assert chromosome in all_chrs\n",
    "\n",
    "# run only on the chromosome specified\n",
    "all_chrs = [chromosome]\n",
    "genes_chr = genes_info[genes_info[\"chr\"] == chromosome]\n",
    "\n",
    "# For testing purposes\n",
    "# genes_chr = genes_chr.sample(n=20)\n",
    "\n",
    "print(f\"Number of genes in chromosome: {genes_chr.shape[0]}\", flush=True)\n",
    "\n",
    "# sort genes by starting position to make visualizations better later\n",
    "genes_chr = genes_chr.sort_values(\"start_position\")\n",
    "\n",
    "gene_chr_objs = [Gene(ensembl_id=gene_id) for gene_id in genes_chr[\"id\"]]\n",
    "gene_chr_ids = [g.ensembl_id for g in gene_chr_objs]\n",
    "\n",
    "n = len(gene_chr_objs)\n",
    "n_comb = int(n * (n - 1) / 2.0)\n",
    "print(f\"Number of gene combinations: {n_comb}\", flush=True)\n",
    "\n",
    "gene_corrs = []\n",
    "\n",
    "pbar = tqdm(ncols=100, total=n_comb)\n",
    "i = 0\n",
    "for gene_idx1 in range(0, len(gene_chr_objs) - 1):\n",
    "    gene_obj1 = gene_chr_objs[gene_idx1]\n",
    "\n",
    "    for gene_idx2 in range(gene_idx1 + 1, len(gene_chr_objs)):\n",
    "        gene_obj2 = gene_chr_objs[gene_idx2]\n",
    "\n",
    "        pbar.set_description(f\"{gene_obj1.ensembl_id} / {gene_obj2.ensembl_id}\")\n",
    "\n",
    "        try:\n",
    "            # FIXME: compute the correlation of the sum of squares of the model using all\n",
    "            # the available tissues; this could be problematic because for some results\n",
    "            # (computed on a specific phenotype/GWAS) we might not have all the tissues\n",
    "            # available, which can certainly bias the correlation estimation.\n",
    "            # Since this depends on the GWAS on a specific phenotype, we should ideally have\n",
    "            # one correlation matrix per GWAS. I should look at how we can improve this.\n",
    "            r = gene_obj1.get_ssm_correlation(\n",
    "                other_gene=gene_obj2,\n",
    "                condition_number=SMULTIXCAN_CONDITION_NUMBER,\n",
    "                reference_panel=REFERENCE_PANEL,\n",
    "                model_type=EQTL_MODEL,\n",
    "            )\n",
    "\n",
    "            if r is None:\n",
    "                # if r is None, it's very likely because:\n",
    "                #  * one of the genes has no prediction models\n",
    "                #  * all the SNPs predictors for the gene are not present in the reference\n",
    "                #    panel\n",
    "\n",
    "                r = 0.0\n",
    "\n",
    "            gene_corrs.append(r)\n",
    "        except Warning:\n",
    "            print(\n",
    "                f\"RuntimeWarning for genes {gene_obj1.ensembl_id} and {gene_obj2.ensembl_id}\",\n",
    "                flush=True,\n",
    "            )\n",
    "            import traceback\n",
    "\n",
    "            print(traceback.format_exc(), flush=True)\n",
    "        except Exception as e:\n",
    "            print(\n",
    "                f\"Exception for genes {gene_obj1.ensembl_id} and {gene_obj2.ensembl_id}\",\n",
    "                flush=True,\n",
    "            )\n",
    "            import traceback\n",
    "\n",
    "            print(traceback.format_exc(), flush=True)\n",
    "            gene_corrs.append(np.nan)\n",
    "\n",
    "        pbar.update(1)\n",
    "\n",
    "pbar.close()\n",
    "\n",
    "# testing\n",
    "gene_corrs_flat = pd.Series(gene_corrs)\n",
    "print(f\"Min/max values: {gene_corrs_flat.min()} / {gene_corrs_flat.max()}\")\n",
    "assert gene_corrs_flat.min() >= -1.001\n",
    "assert gene_corrs_flat.max() <= 1.001\n",
    "\n",
    "# save\n",
    "# FIXME: consider saving only the condenced matrix here. See here for\n",
    "# more details: https://github.com/greenelab/phenoplier/pull/38#discussion_r634600813\n",
    "gene_corrs_data = squareform(np.array(gene_corrs, dtype=np.float64))\n",
    "np.fill_diagonal(gene_corrs_data, 1.0)\n",
    "\n",
    "gene_corrs_df = pd.DataFrame(\n",
    "    data=gene_corrs_data,\n",
    "    index=gene_chr_ids,\n",
    "    columns=gene_chr_ids,\n",
    ")\n",
    "\n",
    "output_dir.mkdir(exist_ok=True, parents=True)\n",
    "display(output_file)\n",
    "\n",
    "gene_corrs_df.to_pickle(output_file)"
   ]
  },
  {
   "cell_type": "markdown",
   "id": "faa67b51-5373-470f-aa72-2ded53fa6dfe",
   "metadata": {
    "papermill": {
     "duration": 10.755944,
     "end_time": "2022-07-11T06:37:56.890916",
     "exception": false,
     "start_time": "2022-07-11T06:37:46.134972",
     "status": "completed"
    },
    "tags": []
   },
   "source": [
    "# Testing"
   ]
  },
  {
   "cell_type": "code",
   "execution_count": 33,
   "id": "14f7d046-4b55-4896-a56b-990127bcc388",
   "metadata": {
    "execution": {
     "iopub.execute_input": "2022-07-11T06:38:18.186239Z",
     "iopub.status.busy": "2022-07-11T06:38:18.186080Z",
     "iopub.status.idle": "2022-07-11T06:38:18.211249Z",
     "shell.execute_reply": "2022-07-11T06:38:18.210872Z"
    },
    "papermill": {
     "duration": 10.769158,
     "end_time": "2022-07-11T06:38:18.212517",
     "exception": false,
     "start_time": "2022-07-11T06:38:07.443359",
     "status": "completed"
    },
    "tags": []
   },
   "outputs": [
    {
     "data": {
      "text/plain": [
       "(700, 700)"
      ]
     },
     "execution_count": 33,
     "metadata": {},
     "output_type": "execute_result"
    }
   ],
   "source": [
    "gene_corrs_df.shape"
   ]
  },
  {
   "cell_type": "code",
   "execution_count": 34,
   "id": "c7d15414-3297-4537-a7c6-7588c0baeb75",
   "metadata": {
    "execution": {
     "iopub.execute_input": "2022-07-11T06:38:39.237923Z",
     "iopub.status.busy": "2022-07-11T06:38:39.237765Z",
     "iopub.status.idle": "2022-07-11T06:38:39.297510Z",
     "shell.execute_reply": "2022-07-11T06:38:39.297107Z"
    },
    "papermill": {
     "duration": 11.009283,
     "end_time": "2022-07-11T06:38:39.298614",
     "exception": false,
     "start_time": "2022-07-11T06:38:28.289331",
     "status": "completed"
    },
    "tags": []
   },
   "outputs": [
    {
     "data": {
      "text/html": [
       "<div>\n",
       "<style scoped>\n",
       "    .dataframe tbody tr th:only-of-type {\n",
       "        vertical-align: middle;\n",
       "    }\n",
       "\n",
       "    .dataframe tbody tr th {\n",
       "        vertical-align: top;\n",
       "    }\n",
       "\n",
       "    .dataframe thead th {\n",
       "        text-align: right;\n",
       "    }\n",
       "</style>\n",
       "<table border=\"1\" class=\"dataframe\">\n",
       "  <thead>\n",
       "    <tr style=\"text-align: right;\">\n",
       "      <th></th>\n",
       "      <th>ENSG00000188976</th>\n",
       "      <th>ENSG00000188290</th>\n",
       "      <th>ENSG00000187608</th>\n",
       "      <th>ENSG00000188157</th>\n",
       "      <th>ENSG00000186891</th>\n",
       "      <th>ENSG00000186827</th>\n",
       "      <th>ENSG00000176022</th>\n",
       "      <th>ENSG00000160087</th>\n",
       "      <th>ENSG00000131584</th>\n",
       "      <th>ENSG00000169962</th>\n",
       "      <th>...</th>\n",
       "      <th>ENSG00000054282</th>\n",
       "      <th>ENSG00000117020</th>\n",
       "      <th>ENSG00000035687</th>\n",
       "      <th>ENSG00000153187</th>\n",
       "      <th>ENSG00000162851</th>\n",
       "      <th>ENSG00000153207</th>\n",
       "      <th>ENSG00000162714</th>\n",
       "      <th>ENSG00000162711</th>\n",
       "      <th>ENSG00000162722</th>\n",
       "      <th>ENSG00000238243</th>\n",
       "    </tr>\n",
       "  </thead>\n",
       "  <tbody>\n",
       "    <tr>\n",
       "      <th>ENSG00000188976</th>\n",
       "      <td>1.000000</td>\n",
       "      <td>0.115011</td>\n",
       "      <td>0.173138</td>\n",
       "      <td>0.052445</td>\n",
       "      <td>0.008032</td>\n",
       "      <td>0.008727</td>\n",
       "      <td>0.006797</td>\n",
       "      <td>0.004533</td>\n",
       "      <td>0.007350</td>\n",
       "      <td>0.010391</td>\n",
       "      <td>...</td>\n",
       "      <td>0.0</td>\n",
       "      <td>0.0</td>\n",
       "      <td>0.0</td>\n",
       "      <td>0.0</td>\n",
       "      <td>0.0</td>\n",
       "      <td>0.0</td>\n",
       "      <td>0.0</td>\n",
       "      <td>0.0</td>\n",
       "      <td>0.0</td>\n",
       "      <td>0.0</td>\n",
       "    </tr>\n",
       "    <tr>\n",
       "      <th>ENSG00000188290</th>\n",
       "      <td>0.115011</td>\n",
       "      <td>1.000000</td>\n",
       "      <td>0.681368</td>\n",
       "      <td>0.347023</td>\n",
       "      <td>0.011545</td>\n",
       "      <td>0.010729</td>\n",
       "      <td>0.003577</td>\n",
       "      <td>0.010230</td>\n",
       "      <td>0.010747</td>\n",
       "      <td>0.008769</td>\n",
       "      <td>...</td>\n",
       "      <td>0.0</td>\n",
       "      <td>0.0</td>\n",
       "      <td>0.0</td>\n",
       "      <td>0.0</td>\n",
       "      <td>0.0</td>\n",
       "      <td>0.0</td>\n",
       "      <td>0.0</td>\n",
       "      <td>0.0</td>\n",
       "      <td>0.0</td>\n",
       "      <td>0.0</td>\n",
       "    </tr>\n",
       "    <tr>\n",
       "      <th>ENSG00000187608</th>\n",
       "      <td>0.173138</td>\n",
       "      <td>0.681368</td>\n",
       "      <td>1.000000</td>\n",
       "      <td>0.351822</td>\n",
       "      <td>0.011774</td>\n",
       "      <td>0.012527</td>\n",
       "      <td>0.003754</td>\n",
       "      <td>0.012096</td>\n",
       "      <td>0.012679</td>\n",
       "      <td>0.010442</td>\n",
       "      <td>...</td>\n",
       "      <td>0.0</td>\n",
       "      <td>0.0</td>\n",
       "      <td>0.0</td>\n",
       "      <td>0.0</td>\n",
       "      <td>0.0</td>\n",
       "      <td>0.0</td>\n",
       "      <td>0.0</td>\n",
       "      <td>0.0</td>\n",
       "      <td>0.0</td>\n",
       "      <td>0.0</td>\n",
       "    </tr>\n",
       "    <tr>\n",
       "      <th>ENSG00000188157</th>\n",
       "      <td>0.052445</td>\n",
       "      <td>0.347023</td>\n",
       "      <td>0.351822</td>\n",
       "      <td>1.000000</td>\n",
       "      <td>0.014103</td>\n",
       "      <td>0.013988</td>\n",
       "      <td>0.006056</td>\n",
       "      <td>0.006296</td>\n",
       "      <td>0.005363</td>\n",
       "      <td>0.008300</td>\n",
       "      <td>...</td>\n",
       "      <td>0.0</td>\n",
       "      <td>0.0</td>\n",
       "      <td>0.0</td>\n",
       "      <td>0.0</td>\n",
       "      <td>0.0</td>\n",
       "      <td>0.0</td>\n",
       "      <td>0.0</td>\n",
       "      <td>0.0</td>\n",
       "      <td>0.0</td>\n",
       "      <td>0.0</td>\n",
       "    </tr>\n",
       "    <tr>\n",
       "      <th>ENSG00000186891</th>\n",
       "      <td>0.008032</td>\n",
       "      <td>0.011545</td>\n",
       "      <td>0.011774</td>\n",
       "      <td>0.014103</td>\n",
       "      <td>1.000000</td>\n",
       "      <td>0.356676</td>\n",
       "      <td>0.454010</td>\n",
       "      <td>0.137643</td>\n",
       "      <td>0.200340</td>\n",
       "      <td>0.093210</td>\n",
       "      <td>...</td>\n",
       "      <td>0.0</td>\n",
       "      <td>0.0</td>\n",
       "      <td>0.0</td>\n",
       "      <td>0.0</td>\n",
       "      <td>0.0</td>\n",
       "      <td>0.0</td>\n",
       "      <td>0.0</td>\n",
       "      <td>0.0</td>\n",
       "      <td>0.0</td>\n",
       "      <td>0.0</td>\n",
       "    </tr>\n",
       "  </tbody>\n",
       "</table>\n",
       "<p>5 rows × 700 columns</p>\n",
       "</div>"
      ],
      "text/plain": [
       "                 ENSG00000188976  ENSG00000188290  ENSG00000187608  \\\n",
       "ENSG00000188976         1.000000         0.115011         0.173138   \n",
       "ENSG00000188290         0.115011         1.000000         0.681368   \n",
       "ENSG00000187608         0.173138         0.681368         1.000000   \n",
       "ENSG00000188157         0.052445         0.347023         0.351822   \n",
       "ENSG00000186891         0.008032         0.011545         0.011774   \n",
       "\n",
       "                 ENSG00000188157  ENSG00000186891  ENSG00000186827  \\\n",
       "ENSG00000188976         0.052445         0.008032         0.008727   \n",
       "ENSG00000188290         0.347023         0.011545         0.010729   \n",
       "ENSG00000187608         0.351822         0.011774         0.012527   \n",
       "ENSG00000188157         1.000000         0.014103         0.013988   \n",
       "ENSG00000186891         0.014103         1.000000         0.356676   \n",
       "\n",
       "                 ENSG00000176022  ENSG00000160087  ENSG00000131584  \\\n",
       "ENSG00000188976         0.006797         0.004533         0.007350   \n",
       "ENSG00000188290         0.003577         0.010230         0.010747   \n",
       "ENSG00000187608         0.003754         0.012096         0.012679   \n",
       "ENSG00000188157         0.006056         0.006296         0.005363   \n",
       "ENSG00000186891         0.454010         0.137643         0.200340   \n",
       "\n",
       "                 ENSG00000169962  ...  ENSG00000054282  ENSG00000117020  \\\n",
       "ENSG00000188976         0.010391  ...              0.0              0.0   \n",
       "ENSG00000188290         0.008769  ...              0.0              0.0   \n",
       "ENSG00000187608         0.010442  ...              0.0              0.0   \n",
       "ENSG00000188157         0.008300  ...              0.0              0.0   \n",
       "ENSG00000186891         0.093210  ...              0.0              0.0   \n",
       "\n",
       "                 ENSG00000035687  ENSG00000153187  ENSG00000162851  \\\n",
       "ENSG00000188976              0.0              0.0              0.0   \n",
       "ENSG00000188290              0.0              0.0              0.0   \n",
       "ENSG00000187608              0.0              0.0              0.0   \n",
       "ENSG00000188157              0.0              0.0              0.0   \n",
       "ENSG00000186891              0.0              0.0              0.0   \n",
       "\n",
       "                 ENSG00000153207  ENSG00000162714  ENSG00000162711  \\\n",
       "ENSG00000188976              0.0              0.0              0.0   \n",
       "ENSG00000188290              0.0              0.0              0.0   \n",
       "ENSG00000187608              0.0              0.0              0.0   \n",
       "ENSG00000188157              0.0              0.0              0.0   \n",
       "ENSG00000186891              0.0              0.0              0.0   \n",
       "\n",
       "                 ENSG00000162722  ENSG00000238243  \n",
       "ENSG00000188976              0.0              0.0  \n",
       "ENSG00000188290              0.0              0.0  \n",
       "ENSG00000187608              0.0              0.0  \n",
       "ENSG00000188157              0.0              0.0  \n",
       "ENSG00000186891              0.0              0.0  \n",
       "\n",
       "[5 rows x 700 columns]"
      ]
     },
     "execution_count": 34,
     "metadata": {},
     "output_type": "execute_result"
    }
   ],
   "source": [
    "gene_corrs_df.head()"
   ]
  },
  {
   "cell_type": "code",
   "execution_count": 35,
   "id": "286686af-1b7b-4440-8453-6bdcbd8de19c",
   "metadata": {
    "execution": {
     "iopub.execute_input": "2022-07-11T06:38:59.711652Z",
     "iopub.status.busy": "2022-07-11T06:38:59.709522Z",
     "iopub.status.idle": "2022-07-11T06:38:59.740603Z",
     "shell.execute_reply": "2022-07-11T06:38:59.740167Z"
    },
    "papermill": {
     "duration": 9.958368,
     "end_time": "2022-07-11T06:38:59.741832",
     "exception": false,
     "start_time": "2022-07-11T06:38:49.783464",
     "status": "completed"
    },
    "tags": []
   },
   "outputs": [],
   "source": [
    "assert not gene_corrs_df.isna().any().any()"
   ]
  },
  {
   "cell_type": "code",
   "execution_count": 36,
   "id": "00583efc-7068-4270-ad1e-4a418e91db96",
   "metadata": {
    "execution": {
     "iopub.execute_input": "2022-07-11T06:39:21.447626Z",
     "iopub.status.busy": "2022-07-11T06:39:21.447462Z",
     "iopub.status.idle": "2022-07-11T06:39:21.479054Z",
     "shell.execute_reply": "2022-07-11T06:39:21.478681Z"
    },
    "papermill": {
     "duration": 10.688743,
     "end_time": "2022-07-11T06:39:21.480157",
     "exception": false,
     "start_time": "2022-07-11T06:39:10.791414",
     "status": "completed"
    },
    "tags": []
   },
   "outputs": [
    {
     "data": {
      "text/plain": [
       "0.0"
      ]
     },
     "metadata": {},
     "output_type": "display_data"
    }
   ],
   "source": [
    "_min_val = gene_corrs_df.min().min()\n",
    "display(_min_val)\n",
    "assert _min_val >= 0.0"
   ]
  },
  {
   "cell_type": "code",
   "execution_count": 37,
   "id": "d04fb2cf-1050-475b-b855-f5f7cc04092b",
   "metadata": {
    "execution": {
     "iopub.execute_input": "2022-07-11T06:39:42.999257Z",
     "iopub.status.busy": "2022-07-11T06:39:42.999052Z",
     "iopub.status.idle": "2022-07-11T06:39:43.031449Z",
     "shell.execute_reply": "2022-07-11T06:39:43.031055Z"
    },
    "papermill": {
     "duration": 11.134019,
     "end_time": "2022-07-11T06:39:43.032618",
     "exception": false,
     "start_time": "2022-07-11T06:39:31.898599",
     "status": "completed"
    },
    "tags": []
   },
   "outputs": [
    {
     "data": {
      "text/plain": [
       "1.0"
      ]
     },
     "metadata": {},
     "output_type": "display_data"
    }
   ],
   "source": [
    "_max_val = gene_corrs_df.max().max()  # this captures the diagonal\n",
    "display(_max_val)\n",
    "assert _max_val <= 1.0"
   ]
  },
  {
   "cell_type": "code",
   "execution_count": 38,
   "id": "96d02c44-1fba-47be-8a93-8f2608420b9c",
   "metadata": {
    "execution": {
     "iopub.execute_input": "2022-07-11T06:40:03.280110Z",
     "iopub.status.busy": "2022-07-11T06:40:03.279949Z",
     "iopub.status.idle": "2022-07-11T06:40:03.308772Z",
     "shell.execute_reply": "2022-07-11T06:40:03.308362Z"
    },
    "papermill": {
     "duration": 10.626956,
     "end_time": "2022-07-11T06:40:03.310069",
     "exception": false,
     "start_time": "2022-07-11T06:39:52.683113",
     "status": "completed"
    },
    "tags": []
   },
   "outputs": [],
   "source": [
    "# check upper triangular values\n",
    "assert len(gene_corrs) == int(genes_chr.shape[0] * (genes_chr.shape[0] - 1) / 2)"
   ]
  },
  {
   "cell_type": "code",
   "execution_count": 39,
   "id": "aaa51627-f4e3-4744-a41f-7d25adcc0a78",
   "metadata": {
    "execution": {
     "iopub.execute_input": "2022-07-11T06:40:25.894062Z",
     "iopub.status.busy": "2022-07-11T06:40:25.893903Z",
     "iopub.status.idle": "2022-07-11T06:40:25.968755Z",
     "shell.execute_reply": "2022-07-11T06:40:25.968327Z"
    },
    "papermill": {
     "duration": 11.193301,
     "end_time": "2022-07-11T06:40:25.970110",
     "exception": false,
     "start_time": "2022-07-11T06:40:14.776809",
     "status": "completed"
    },
    "tags": []
   },
   "outputs": [],
   "source": [
    "gene_corrs = pd.Series(gene_corrs)"
   ]
  },
  {
   "cell_type": "code",
   "execution_count": 40,
   "id": "fe283586-c348-40e0-8841-f6d97bfb021c",
   "metadata": {
    "execution": {
     "iopub.execute_input": "2022-07-11T06:40:47.323653Z",
     "iopub.status.busy": "2022-07-11T06:40:47.319256Z",
     "iopub.status.idle": "2022-07-11T06:40:47.369296Z",
     "shell.execute_reply": "2022-07-11T06:40:47.368904Z"
    },
    "papermill": {
     "duration": 11.250095,
     "end_time": "2022-07-11T06:40:47.372489",
     "exception": false,
     "start_time": "2022-07-11T06:40:36.122394",
     "status": "completed"
    },
    "tags": []
   },
   "outputs": [
    {
     "data": {
      "text/plain": [
       "count    244650.000000\n",
       "mean          0.001619\n",
       "std           0.020349\n",
       "min           0.000000\n",
       "25%           0.000000\n",
       "50%           0.000000\n",
       "75%           0.000000\n",
       "max           0.933048\n",
       "dtype: float64"
      ]
     },
     "execution_count": 40,
     "metadata": {},
     "output_type": "execute_result"
    }
   ],
   "source": [
    "gene_corrs.describe()"
   ]
  },
  {
   "cell_type": "code",
   "execution_count": 41,
   "id": "b3815678-0f93-4b35-897b-a9d047a2aa78",
   "metadata": {
    "execution": {
     "iopub.execute_input": "2022-07-11T06:41:08.626838Z",
     "iopub.status.busy": "2022-07-11T06:41:08.626439Z",
     "iopub.status.idle": "2022-07-11T06:41:08.668763Z",
     "shell.execute_reply": "2022-07-11T06:41:08.668347Z"
    },
    "papermill": {
     "duration": 10.726724,
     "end_time": "2022-07-11T06:41:08.669953",
     "exception": false,
     "start_time": "2022-07-11T06:40:57.943229",
     "status": "completed"
    },
    "tags": []
   },
   "outputs": [
    {
     "data": {
      "text/plain": [
       "0.00    0.000000\n",
       "0.05    0.000000\n",
       "0.10    0.000000\n",
       "0.15    0.000000\n",
       "0.20    0.000000\n",
       "0.25    0.000000\n",
       "0.30    0.000000\n",
       "0.35    0.000000\n",
       "0.40    0.000000\n",
       "0.45    0.000000\n",
       "0.50    0.000000\n",
       "0.55    0.000000\n",
       "0.60    0.000000\n",
       "0.65    0.000000\n",
       "0.70    0.000000\n",
       "0.75    0.000000\n",
       "0.80    0.000000\n",
       "0.85    0.000000\n",
       "0.90    0.000000\n",
       "0.95    0.004564\n",
       "dtype: float64"
      ]
     },
     "metadata": {},
     "output_type": "display_data"
    }
   ],
   "source": [
    "gene_corrs_quantiles = gene_corrs.quantile(np.arange(0, 1, 0.05))\n",
    "display(gene_corrs_quantiles)"
   ]
  },
  {
   "cell_type": "markdown",
   "id": "8e60a080-edb2-4e9c-b2ef-22961693200c",
   "metadata": {
    "papermill": {
     "duration": 11.020157,
     "end_time": "2022-07-11T06:41:31.197115",
     "exception": false,
     "start_time": "2022-07-11T06:41:20.176958",
     "status": "completed"
    },
    "tags": []
   },
   "source": [
    "## Plot: distribution"
   ]
  },
  {
   "cell_type": "code",
   "execution_count": 42,
   "id": "8301126b-a7d4-4744-9c7d-f0f86eb6f54c",
   "metadata": {
    "execution": {
     "iopub.execute_input": "2022-07-11T06:41:52.388618Z",
     "iopub.status.busy": "2022-07-11T06:41:52.388456Z",
     "iopub.status.idle": "2022-07-11T06:41:53.778344Z",
     "shell.execute_reply": "2022-07-11T06:41:53.777949Z"
    },
    "papermill": {
     "duration": 12.365944,
     "end_time": "2022-07-11T06:41:53.779697",
     "exception": false,
     "start_time": "2022-07-11T06:41:41.413753",
     "status": "completed"
    },
    "tags": []
   },
   "outputs": [
    {
     "data": {
      "image/png": "[encoded data removed]",
      "text/plain": [
       "<Figure size 504x504 with 1 Axes>"
      ]
     },
     "metadata": {
      "needs_background": "light"
     },
     "output_type": "display_data"
    }
   ],
   "source": [
    "with sns.plotting_context(\"paper\", font_scale=1.5):\n",
    "    g = sns.displot(gene_corrs, kde=True, height=7)\n",
    "    g.ax.set_title(\n",
    "        f\"Distribution of gene correlation values in chromosome {chromosome}\"\n",
    "    )"
   ]
  },
  {
   "cell_type": "markdown",
   "id": "cbd52bca-d878-4a2f-b684-5c83aa3038d4",
   "metadata": {
    "papermill": {
     "duration": 9.580305,
     "end_time": "2022-07-11T06:42:14.353495",
     "exception": false,
     "start_time": "2022-07-11T06:42:04.773190",
     "status": "completed"
    },
    "tags": []
   },
   "source": [
    "## Plot: heatmap"
   ]
  },
  {
   "cell_type": "code",
   "execution_count": 43,
   "id": "d03fe63a-c7b2-4fb9-a53c-db362ce843c9",
   "metadata": {
    "execution": {
     "iopub.execute_input": "2022-07-11T06:42:35.758978Z",
     "iopub.status.busy": "2022-07-11T06:42:35.758817Z",
     "iopub.status.idle": "2022-07-11T06:42:35.788147Z",
     "shell.execute_reply": "2022-07-11T06:42:35.787744Z"
    },
    "papermill": {
     "duration": 9.960193,
     "end_time": "2022-07-11T06:42:35.789418",
     "exception": false,
     "start_time": "2022-07-11T06:42:25.829225",
     "status": "completed"
    },
    "tags": []
   },
   "outputs": [
    {
     "data": {
      "text/plain": [
       "'-0.05 / 0.05'"
      ]
     },
     "metadata": {},
     "output_type": "display_data"
    }
   ],
   "source": [
    "vmin_val = min(-0.05, gene_corrs_quantiles[0.10])\n",
    "vmax_val = max(0.05, gene_corrs_quantiles[0.90])\n",
    "display(f\"{vmin_val} / {vmax_val}\")"
   ]
  },
  {
   "cell_type": "code",
   "execution_count": 44,
   "id": "dc41b70b-5bcc-4d9e-9f33-a22c4a94dab5",
   "metadata": {
    "execution": {
     "iopub.execute_input": "2022-07-11T06:42:55.221682Z",
     "iopub.status.busy": "2022-07-11T06:42:55.220603Z",
     "iopub.status.idle": "2022-07-11T06:42:55.833691Z",
     "shell.execute_reply": "2022-07-11T06:42:55.833177Z"
    },
    "papermill": {
     "duration": 10.529735,
     "end_time": "2022-07-11T06:42:55.835231",
     "exception": false,
     "start_time": "2022-07-11T06:42:45.305496",
     "status": "completed"
    },
    "tags": []
   },
   "outputs": [
    {
     "data": {
      "text/plain": [
       "Text(0.5, 1.0, 'Gene correlations in chromosome 1')"
      ]
     },
     "execution_count": 44,
     "metadata": {},
     "output_type": "execute_result"
    },
    {
     "data": {
      "image/png": "[encoded data removed]",
      "text/plain": [
       "<Figure size 720x720 with 2 Axes>"
      ]
     },
     "metadata": {
      "needs_background": "light"
     },
     "output_type": "display_data"
    }
   ],
   "source": [
    "f, ax = plt.subplots(figsize=(10, 10))\n",
    "sns.heatmap(\n",
    "    gene_corrs_df,\n",
    "    xticklabels=False,\n",
    "    yticklabels=False,\n",
    "    square=True,\n",
    "    vmin=vmin_val,\n",
    "    vmax=vmax_val,\n",
    "    cmap=\"YlGnBu\",\n",
    "    ax=ax,\n",
    ")\n",
    "ax.set_title(f\"Gene correlations in chromosome {chromosome}\")"
   ]
  },
  {
   "cell_type": "code",
   "execution_count": null,
   "id": "b25e3ead",
   "metadata": {
    "papermill": {
     "duration": 9.470361,
     "end_time": "2022-07-11T06:43:14.597727",
     "exception": false,
     "start_time": "2022-07-11T06:43:05.127366",
     "status": "completed"
    },
    "tags": []
   },
   "outputs": [],
   "source": []
  }
 ],
 "metadata": {
  "jupytext": {
   "cell_metadata_filter": "all,-execution,-papermill,-trusted",
   "formats": "ipynb,py//py:percent"
  },
  "kernelspec": {
   "display_name": "Python 3 (ipykernel)",
   "language": "python",
   "name": "python3"
  },
  "language_info": {
   "codemirror_mode": {
    "name": "ipython",
    "version": 3
   },
   "file_extension": ".py",
   "mimetype": "text/x-python",
   "name": "python",
   "nbconvert_exporter": "python",
   "pygments_lexer": "ipython3",
   "version": "3.8.13"
  },
  "papermill": {
   "default_parameters": {},
   "duration": 2474.479012,
   "end_time": "2022-07-11T06:43:27.423611",
   "environment_variables": {},
   "exception": null,
   "input_path": "nbs/15_gsa_gls/10-gene_expr_correlations.ipynb",
   "output_path": "nbs/15_gsa_gls/gene_corrs/1000g/mashr/10-gene_expr_correlations-chr1.run.ipynb",
   "parameters": {
    "EQTL_MODEL": "MASHR",
    "REFERENCE_PANEL": "1000G",
    "chromosome": 1
   },
   "start_time": "2022-07-11T06:02:12.944599",
   "version": "2.2.2"
  }
 },
 "nbformat": 4,
 "nbformat_minor": 5
}
