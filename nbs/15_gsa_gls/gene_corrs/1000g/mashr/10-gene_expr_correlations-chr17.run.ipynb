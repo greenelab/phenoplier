{
 "cells": [
  {
   "cell_type": "markdown",
   "id": "7a6632fb",
   "metadata": {
    "papermill": {
     "duration": 0.00891,
     "end_time": "2022-07-11T07:25:50.990918",
     "exception": false,
     "start_time": "2022-07-11T07:25:50.982008",
     "status": "completed"
    },
    "tags": []
   },
   "source": [
    "# Description"
   ]
  },
  {
   "cell_type": "markdown",
   "id": "7097c346",
   "metadata": {
    "papermill": {
     "duration": 0.009362,
     "end_time": "2022-07-11T07:25:51.011210",
     "exception": false,
     "start_time": "2022-07-11T07:25:51.001848",
     "status": "completed"
    },
    "tags": []
   },
   "source": [
    "(Please, take a look at the README.md file in this directory for instructions on how to run this notebook)\n",
    "\n",
    "This notebook computes predicted expression correlations between all genes in the MultiPLIER models.\n",
    "\n",
    "It also has a parameter set for papermill to run on a single chromosome to run in parallel (see under `Settings` below).\n",
    "\n",
    "This notebook is not directly run. See README.md."
   ]
  },
  {
   "cell_type": "markdown",
   "id": "c61d8427",
   "metadata": {
    "papermill": {
     "duration": 0.005156,
     "end_time": "2022-07-11T07:25:51.021765",
     "exception": false,
     "start_time": "2022-07-11T07:25:51.016609",
     "status": "completed"
    },
    "tags": []
   },
   "source": [
    "# Modules"
   ]
  },
  {
   "cell_type": "code",
   "execution_count": 1,
   "id": "bbc0234f",
   "metadata": {
    "execution": {
     "iopub.execute_input": "2022-07-11T07:25:51.033776Z",
     "iopub.status.busy": "2022-07-11T07:25:51.033195Z",
     "iopub.status.idle": "2022-07-11T07:25:51.048631Z",
     "shell.execute_reply": "2022-07-11T07:25:51.047242Z"
    },
    "papermill": {
     "duration": 0.023298,
     "end_time": "2022-07-11T07:25:51.050370",
     "exception": false,
     "start_time": "2022-07-11T07:25:51.027072",
     "status": "completed"
    },
    "tags": []
   },
   "outputs": [],
   "source": [
    "%load_ext autoreload\n",
    "%autoreload 2"
   ]
  },
  {
   "cell_type": "code",
   "execution_count": 2,
   "id": "1d5f5a59",
   "metadata": {
    "execution": {
     "iopub.execute_input": "2022-07-11T07:25:51.063090Z",
     "iopub.status.busy": "2022-07-11T07:25:51.062924Z",
     "iopub.status.idle": "2022-07-11T07:25:51.989636Z",
     "shell.execute_reply": "2022-07-11T07:25:51.989163Z"
    },
    "papermill": {
     "duration": 0.934966,
     "end_time": "2022-07-11T07:25:51.991140",
     "exception": false,
     "start_time": "2022-07-11T07:25:51.056174",
     "status": "completed"
    },
    "tags": []
   },
   "outputs": [],
   "source": [
    "from random import sample, seed\n",
    "import warnings\n",
    "from pathlib import Path\n",
    "\n",
    "import numpy as np\n",
    "from scipy.spatial.distance import squareform\n",
    "import pandas as pd\n",
    "from tqdm import tqdm\n",
    "import matplotlib.pyplot as plt\n",
    "import seaborn as sns\n",
    "\n",
    "import conf\n",
    "from entity import Gene"
   ]
  },
  {
   "cell_type": "markdown",
   "id": "1eac24b5",
   "metadata": {
    "papermill": {
     "duration": 0.006485,
     "end_time": "2022-07-11T07:25:52.033981",
     "exception": false,
     "start_time": "2022-07-11T07:25:52.027496",
     "status": "completed"
    },
    "tags": []
   },
   "source": [
    "# Settings"
   ]
  },
  {
   "cell_type": "code",
   "execution_count": 3,
   "id": "ca4560ba",
   "metadata": {
    "execution": {
     "iopub.execute_input": "2022-07-11T07:25:52.048735Z",
     "iopub.status.busy": "2022-07-11T07:25:52.048200Z",
     "iopub.status.idle": "2022-07-11T07:25:52.065220Z",
     "shell.execute_reply": "2022-07-11T07:25:52.064586Z"
    },
    "papermill": {
     "duration": 0.026199,
     "end_time": "2022-07-11T07:25:52.066878",
     "exception": false,
     "start_time": "2022-07-11T07:25:52.040679",
     "status": "completed"
    },
    "tags": [
     "parameters"
    ]
   },
   "outputs": [],
   "source": [
    "# reference panel\n",
    "REFERENCE_PANEL = \"GTEX_V8\"\n",
    "# REFERENCE_PANEL = \"1000G\"\n",
    "\n",
    "# prediction models\n",
    "## mashr\n",
    "EQTL_MODEL = \"MASHR\"\n",
    "\n",
    "# this is the default value used in S-MultiXcan to select the\n",
    "# top principal components of the expression correlation matrix\n",
    "SMULTIXCAN_CONDITION_NUMBER = 30\n",
    "\n",
    "# specifies a single chromosome value\n",
    "# by default, run on all chromosomes\n",
    "chromosome = None"
   ]
  },
  {
   "cell_type": "code",
   "execution_count": 4,
   "id": "288bb6ff",
   "metadata": {
    "execution": {
     "iopub.execute_input": "2022-07-11T07:25:52.081058Z",
     "iopub.status.busy": "2022-07-11T07:25:52.080484Z",
     "iopub.status.idle": "2022-07-11T07:25:52.096091Z",
     "shell.execute_reply": "2022-07-11T07:25:52.095508Z"
    },
    "papermill": {
     "duration": 0.024335,
     "end_time": "2022-07-11T07:25:52.097764",
     "exception": false,
     "start_time": "2022-07-11T07:25:52.073429",
     "status": "completed"
    },
    "tags": [
     "injected-parameters"
    ]
   },
   "outputs": [],
   "source": [
    "# Parameters\n",
    "chromosome = 17\n",
    "REFERENCE_PANEL = \"1000G\"\n",
    "EQTL_MODEL = \"MASHR\"\n"
   ]
  },
  {
   "cell_type": "code",
   "execution_count": 5,
   "id": "a089c9ff",
   "metadata": {
    "execution": {
     "iopub.execute_input": "2022-07-11T07:25:52.111593Z",
     "iopub.status.busy": "2022-07-11T07:25:52.111046Z",
     "iopub.status.idle": "2022-07-11T07:25:52.126620Z",
     "shell.execute_reply": "2022-07-11T07:25:52.126062Z"
    },
    "papermill": {
     "duration": 0.024138,
     "end_time": "2022-07-11T07:25:52.128258",
     "exception": false,
     "start_time": "2022-07-11T07:25:52.104120",
     "status": "completed"
    },
    "tags": []
   },
   "outputs": [],
   "source": [
    "EQTL_MODEL_FILES_PREFIX = conf.PHENOMEXCAN[\"PREDICTION_MODELS\"][f\"{EQTL_MODEL}_PREFIX\"]"
   ]
  },
  {
   "cell_type": "code",
   "execution_count": 6,
   "id": "8fe24bef",
   "metadata": {
    "execution": {
     "iopub.execute_input": "2022-07-11T07:25:52.141861Z",
     "iopub.status.busy": "2022-07-11T07:25:52.141447Z",
     "iopub.status.idle": "2022-07-11T07:25:52.160600Z",
     "shell.execute_reply": "2022-07-11T07:25:52.159992Z"
    },
    "papermill": {
     "duration": 0.027492,
     "end_time": "2022-07-11T07:25:52.161997",
     "exception": false,
     "start_time": "2022-07-11T07:25:52.134505",
     "status": "completed"
    },
    "tags": []
   },
   "outputs": [
    {
     "data": {
      "text/plain": [
       "'Using eQTL model: MASHR / mashr_'"
      ]
     },
     "metadata": {},
     "output_type": "display_data"
    }
   ],
   "source": [
    "display(f\"Using eQTL model: {EQTL_MODEL} / {EQTL_MODEL_FILES_PREFIX}\")"
   ]
  },
  {
   "cell_type": "code",
   "execution_count": 7,
   "id": "552a7f63-a18c-4d3e-bb6a-94f99b431291",
   "metadata": {
    "execution": {
     "iopub.execute_input": "2022-07-11T07:25:52.175386Z",
     "iopub.status.busy": "2022-07-11T07:25:52.174922Z",
     "iopub.status.idle": "2022-07-11T07:25:52.191157Z",
     "shell.execute_reply": "2022-07-11T07:25:52.190611Z"
    },
    "papermill": {
     "duration": 0.024078,
     "end_time": "2022-07-11T07:25:52.192417",
     "exception": false,
     "start_time": "2022-07-11T07:25:52.168339",
     "status": "completed"
    },
    "tags": []
   },
   "outputs": [
    {
     "data": {
      "text/plain": [
       "'S-MultiXcan condition number: 30'"
      ]
     },
     "metadata": {},
     "output_type": "display_data"
    }
   ],
   "source": [
    "display(f\"S-MultiXcan condition number: {SMULTIXCAN_CONDITION_NUMBER}\")"
   ]
  },
  {
   "cell_type": "code",
   "execution_count": 8,
   "id": "0230ebcb-2c32-4b95-9292-d9a52038e70d",
   "metadata": {
    "execution": {
     "iopub.execute_input": "2022-07-11T07:25:52.205135Z",
     "iopub.status.busy": "2022-07-11T07:25:52.204703Z",
     "iopub.status.idle": "2022-07-11T07:25:52.219172Z",
     "shell.execute_reply": "2022-07-11T07:25:52.218638Z"
    },
    "papermill": {
     "duration": 0.022151,
     "end_time": "2022-07-11T07:25:52.220524",
     "exception": false,
     "start_time": "2022-07-11T07:25:52.198373",
     "status": "completed"
    },
    "tags": []
   },
   "outputs": [],
   "source": [
    "REFERENCE_PANEL_DIR = conf.PHENOMEXCAN[\"LD_BLOCKS\"][f\"{REFERENCE_PANEL}_GENOTYPE_DIR\"]"
   ]
  },
  {
   "cell_type": "code",
   "execution_count": 9,
   "id": "98c4a159-601d-4a22-a1ab-35bd451c25f9",
   "metadata": {
    "execution": {
     "iopub.execute_input": "2022-07-11T07:25:52.233377Z",
     "iopub.status.busy": "2022-07-11T07:25:52.232981Z",
     "iopub.status.idle": "2022-07-11T07:25:52.248899Z",
     "shell.execute_reply": "2022-07-11T07:25:52.248400Z"
    },
    "papermill": {
     "duration": 0.023607,
     "end_time": "2022-07-11T07:25:52.250179",
     "exception": false,
     "start_time": "2022-07-11T07:25:52.226572",
     "status": "completed"
    },
    "tags": []
   },
   "outputs": [
    {
     "data": {
      "text/plain": [
       "'Using reference panel folder: /opt/data/data/phenomexcan/ld_blocks/reference_panel_1000G'"
      ]
     },
     "metadata": {},
     "output_type": "display_data"
    }
   ],
   "source": [
    "display(f\"Using reference panel folder: {str(REFERENCE_PANEL_DIR)}\")"
   ]
  },
  {
   "cell_type": "code",
   "execution_count": 10,
   "id": "396392dc-0340-4540-9b02-e182b833f909",
   "metadata": {
    "execution": {
     "iopub.execute_input": "2022-07-11T07:25:52.262785Z",
     "iopub.status.busy": "2022-07-11T07:25:52.262343Z",
     "iopub.status.idle": "2022-07-11T07:25:52.276732Z",
     "shell.execute_reply": "2022-07-11T07:25:52.276185Z"
    },
    "papermill": {
     "duration": 0.021996,
     "end_time": "2022-07-11T07:25:52.278056",
     "exception": false,
     "start_time": "2022-07-11T07:25:52.256060",
     "status": "completed"
    },
    "tags": []
   },
   "outputs": [],
   "source": [
    "OUTPUT_DIR_BASE = (\n",
    "    conf.PHENOMEXCAN[\"LD_BLOCKS\"][f\"GENE_CORRS_DIR\"]\n",
    "    / REFERENCE_PANEL.lower()\n",
    "    / EQTL_MODEL.lower()\n",
    ")\n",
    "OUTPUT_DIR_BASE.mkdir(parents=True, exist_ok=True)"
   ]
  },
  {
   "cell_type": "code",
   "execution_count": 11,
   "id": "8942c2d3-e53c-4d63-a0eb-b6fce0574d36",
   "metadata": {
    "execution": {
     "iopub.execute_input": "2022-07-11T07:25:52.290814Z",
     "iopub.status.busy": "2022-07-11T07:25:52.290379Z",
     "iopub.status.idle": "2022-07-11T07:25:52.314826Z",
     "shell.execute_reply": "2022-07-11T07:25:52.314403Z"
    },
    "papermill": {
     "duration": 0.032142,
     "end_time": "2022-07-11T07:25:52.316141",
     "exception": false,
     "start_time": "2022-07-11T07:25:52.283999",
     "status": "completed"
    },
    "tags": []
   },
   "outputs": [
    {
     "data": {
      "text/plain": [
       "'Using output dir base: /opt/data/data/phenomexcan/ld_blocks/gene_corrs/1000g/mashr'"
      ]
     },
     "metadata": {},
     "output_type": "display_data"
    }
   ],
   "source": [
    "display(f\"Using output dir base: {OUTPUT_DIR_BASE}\")"
   ]
  },
  {
   "cell_type": "code",
   "execution_count": 12,
   "id": "408aa590",
   "metadata": {
    "execution": {
     "iopub.execute_input": "2022-07-11T07:25:52.338748Z",
     "iopub.status.busy": "2022-07-11T07:25:52.338582Z",
     "iopub.status.idle": "2022-07-11T07:25:52.362952Z",
     "shell.execute_reply": "2022-07-11T07:25:52.362537Z"
    },
    "papermill": {
     "duration": 0.037522,
     "end_time": "2022-07-11T07:25:52.364264",
     "exception": false,
     "start_time": "2022-07-11T07:25:52.326742",
     "status": "completed"
    },
    "tags": []
   },
   "outputs": [],
   "source": [
    "assert (\n",
    "    chromosome is not None\n",
    "), \"You have to select one chromosome (format: number between 1 and 22)\""
   ]
  },
  {
   "cell_type": "code",
   "execution_count": 13,
   "id": "c1c7dd06-80ff-453c-bcb7-0899edce75da",
   "metadata": {
    "execution": {
     "iopub.execute_input": "2022-07-11T07:25:52.386141Z",
     "iopub.status.busy": "2022-07-11T07:25:52.385968Z",
     "iopub.status.idle": "2022-07-11T07:25:52.401756Z",
     "shell.execute_reply": "2022-07-11T07:25:52.401219Z"
    },
    "papermill": {
     "duration": 0.028448,
     "end_time": "2022-07-11T07:25:52.403117",
     "exception": false,
     "start_time": "2022-07-11T07:25:52.374669",
     "status": "completed"
    },
    "tags": []
   },
   "outputs": [],
   "source": [
    "chromosome = str(chromosome)"
   ]
  },
  {
   "cell_type": "code",
   "execution_count": 14,
   "id": "bc17b84c-9c26-47a5-a3ab-7046e72f3ef4",
   "metadata": {
    "execution": {
     "iopub.execute_input": "2022-07-11T07:25:52.417264Z",
     "iopub.status.busy": "2022-07-11T07:25:52.417085Z",
     "iopub.status.idle": "2022-07-11T07:25:52.435370Z",
     "shell.execute_reply": "2022-07-11T07:25:52.434836Z"
    },
    "papermill": {
     "duration": 0.026803,
     "end_time": "2022-07-11T07:25:52.436764",
     "exception": false,
     "start_time": "2022-07-11T07:25:52.409961",
     "status": "completed"
    },
    "tags": []
   },
   "outputs": [
    {
     "data": {
      "text/plain": [
       "'Working on chromosome 17'"
      ]
     },
     "metadata": {},
     "output_type": "display_data"
    }
   ],
   "source": [
    "display(f\"Working on chromosome {chromosome}\")"
   ]
  },
  {
   "cell_type": "markdown",
   "id": "d2ba085e",
   "metadata": {
    "papermill": {
     "duration": 0.006578,
     "end_time": "2022-07-11T07:25:52.450058",
     "exception": false,
     "start_time": "2022-07-11T07:25:52.443480",
     "status": "completed"
    },
    "tags": []
   },
   "source": [
    "# Load data"
   ]
  },
  {
   "cell_type": "markdown",
   "id": "7bed0ce0-e7c7-4300-9a61-5412450b1904",
   "metadata": {
    "papermill": {
     "duration": 0.006392,
     "end_time": "2022-07-11T07:25:52.463132",
     "exception": false,
     "start_time": "2022-07-11T07:25:52.456740",
     "status": "completed"
    },
    "tags": []
   },
   "source": [
    "## Prediction model tissues"
   ]
  },
  {
   "cell_type": "code",
   "execution_count": 15,
   "id": "0847c065-0d69-4830-a07f-1c75115d17f5",
   "metadata": {
    "execution": {
     "iopub.execute_input": "2022-07-11T07:25:52.477096Z",
     "iopub.status.busy": "2022-07-11T07:25:52.476752Z",
     "iopub.status.idle": "2022-07-11T07:25:52.491895Z",
     "shell.execute_reply": "2022-07-11T07:25:52.491309Z"
    },
    "papermill": {
     "duration": 0.023772,
     "end_time": "2022-07-11T07:25:52.493359",
     "exception": false,
     "start_time": "2022-07-11T07:25:52.469587",
     "status": "completed"
    },
    "tags": []
   },
   "outputs": [],
   "source": [
    "prediction_model_tissues = conf.PHENOMEXCAN[\"PREDICTION_MODELS\"][\n",
    "    f\"{EQTL_MODEL}_TISSUES\"\n",
    "].split(\" \")"
   ]
  },
  {
   "cell_type": "code",
   "execution_count": 16,
   "id": "aaef70d1-30c6-4c6f-9d6b-abc8e9a0081f",
   "metadata": {
    "execution": {
     "iopub.execute_input": "2022-07-11T07:25:52.507914Z",
     "iopub.status.busy": "2022-07-11T07:25:52.507424Z",
     "iopub.status.idle": "2022-07-11T07:25:52.523173Z",
     "shell.execute_reply": "2022-07-11T07:25:52.522756Z"
    },
    "papermill": {
     "duration": 0.024497,
     "end_time": "2022-07-11T07:25:52.524564",
     "exception": false,
     "start_time": "2022-07-11T07:25:52.500067",
     "status": "completed"
    },
    "tags": []
   },
   "outputs": [
    {
     "data": {
      "text/plain": [
       "49"
      ]
     },
     "execution_count": 16,
     "metadata": {},
     "output_type": "execute_result"
    }
   ],
   "source": [
    "len(prediction_model_tissues)"
   ]
  },
  {
   "cell_type": "code",
   "execution_count": 17,
   "id": "ff35a099-c52d-465d-b863-0ee70c26208c",
   "metadata": {
    "execution": {
     "iopub.execute_input": "2022-07-11T07:25:52.539395Z",
     "iopub.status.busy": "2022-07-11T07:25:52.539059Z",
     "iopub.status.idle": "2022-07-11T07:25:52.555568Z",
     "shell.execute_reply": "2022-07-11T07:25:52.555116Z"
    },
    "papermill": {
     "duration": 0.025615,
     "end_time": "2022-07-11T07:25:52.557026",
     "exception": false,
     "start_time": "2022-07-11T07:25:52.531411",
     "status": "completed"
    },
    "tags": []
   },
   "outputs": [
    {
     "data": {
      "text/plain": [
       "['Skin_Not_Sun_Exposed_Suprapubic',\n",
       " 'Cells_EBV-transformed_lymphocytes',\n",
       " 'Brain_Frontal_Cortex_BA9',\n",
       " 'Kidney_Cortex',\n",
       " 'Brain_Substantia_nigra']"
      ]
     },
     "execution_count": 17,
     "metadata": {},
     "output_type": "execute_result"
    }
   ],
   "source": [
    "prediction_model_tissues[:5]"
   ]
  },
  {
   "cell_type": "markdown",
   "id": "abcc4b3d",
   "metadata": {
    "papermill": {
     "duration": 0.006989,
     "end_time": "2022-07-11T07:25:52.571092",
     "exception": false,
     "start_time": "2022-07-11T07:25:52.564103",
     "status": "completed"
    },
    "tags": []
   },
   "source": [
    "## MultiPLIER Z"
   ]
  },
  {
   "cell_type": "code",
   "execution_count": 18,
   "id": "c48ef527",
   "metadata": {
    "execution": {
     "iopub.execute_input": "2022-07-11T07:25:52.585883Z",
     "iopub.status.busy": "2022-07-11T07:25:52.585449Z",
     "iopub.status.idle": "2022-07-11T07:25:52.629747Z",
     "shell.execute_reply": "2022-07-11T07:25:52.629102Z"
    },
    "papermill": {
     "duration": 0.053319,
     "end_time": "2022-07-11T07:25:52.631345",
     "exception": false,
     "start_time": "2022-07-11T07:25:52.578026",
     "status": "completed"
    },
    "tags": []
   },
   "outputs": [],
   "source": [
    "multiplier_z_genes = pd.read_pickle(\n",
    "    conf.MULTIPLIER[\"MODEL_Z_MATRIX_FILE\"]\n",
    ").index.tolist()"
   ]
  },
  {
   "cell_type": "code",
   "execution_count": 19,
   "id": "0a4ecbd9",
   "metadata": {
    "execution": {
     "iopub.execute_input": "2022-07-11T07:25:52.647100Z",
     "iopub.status.busy": "2022-07-11T07:25:52.646762Z",
     "iopub.status.idle": "2022-07-11T07:25:52.664153Z",
     "shell.execute_reply": "2022-07-11T07:25:52.663564Z"
    },
    "papermill": {
     "duration": 0.026725,
     "end_time": "2022-07-11T07:25:52.665561",
     "exception": false,
     "start_time": "2022-07-11T07:25:52.638836",
     "status": "completed"
    },
    "tags": []
   },
   "outputs": [
    {
     "data": {
      "text/plain": [
       "6750"
      ]
     },
     "execution_count": 19,
     "metadata": {},
     "output_type": "execute_result"
    }
   ],
   "source": [
    "len(multiplier_z_genes)"
   ]
  },
  {
   "cell_type": "code",
   "execution_count": 20,
   "id": "115e8864",
   "metadata": {
    "execution": {
     "iopub.execute_input": "2022-07-11T07:25:52.681033Z",
     "iopub.status.busy": "2022-07-11T07:25:52.680711Z",
     "iopub.status.idle": "2022-07-11T07:25:52.697782Z",
     "shell.execute_reply": "2022-07-11T07:25:52.697197Z"
    },
    "papermill": {
     "duration": 0.026378,
     "end_time": "2022-07-11T07:25:52.699231",
     "exception": false,
     "start_time": "2022-07-11T07:25:52.672853",
     "status": "completed"
    },
    "tags": []
   },
   "outputs": [
    {
     "data": {
      "text/plain": [
       "['GAS6',\n",
       " 'MMP14',\n",
       " 'DSP',\n",
       " 'MARCKSL1',\n",
       " 'SPARC',\n",
       " 'CTSD',\n",
       " 'EPAS1',\n",
       " 'PALLD',\n",
       " 'PHC2',\n",
       " 'LGALS3BP']"
      ]
     },
     "execution_count": 20,
     "metadata": {},
     "output_type": "execute_result"
    }
   ],
   "source": [
    "multiplier_z_genes[:10]"
   ]
  },
  {
   "cell_type": "markdown",
   "id": "7dcb8db7",
   "metadata": {
    "papermill": {
     "duration": 0.00666,
     "end_time": "2022-07-11T07:25:52.713008",
     "exception": false,
     "start_time": "2022-07-11T07:25:52.706348",
     "status": "completed"
    },
    "tags": []
   },
   "source": [
    "## Get gene objects"
   ]
  },
  {
   "cell_type": "code",
   "execution_count": 21,
   "id": "bb932812",
   "metadata": {
    "execution": {
     "iopub.execute_input": "2022-07-11T07:25:52.726898Z",
     "iopub.status.busy": "2022-07-11T07:25:52.726511Z",
     "iopub.status.idle": "2022-07-11T07:25:52.749761Z",
     "shell.execute_reply": "2022-07-11T07:25:52.749306Z"
    },
    "papermill": {
     "duration": 0.031573,
     "end_time": "2022-07-11T07:25:52.751097",
     "exception": false,
     "start_time": "2022-07-11T07:25:52.719524",
     "status": "completed"
    },
    "tags": []
   },
   "outputs": [],
   "source": [
    "multiplier_gene_obj = {\n",
    "    gene_name: Gene(name=gene_name)\n",
    "    for gene_name in multiplier_z_genes\n",
    "    if gene_name in Gene.GENE_NAME_TO_ID_MAP\n",
    "}"
   ]
  },
  {
   "cell_type": "code",
   "execution_count": 22,
   "id": "39533214",
   "metadata": {
    "execution": {
     "iopub.execute_input": "2022-07-11T07:25:52.777531Z",
     "iopub.status.busy": "2022-07-11T07:25:52.777361Z",
     "iopub.status.idle": "2022-07-11T07:25:52.803157Z",
     "shell.execute_reply": "2022-07-11T07:25:52.802748Z"
    },
    "papermill": {
     "duration": 0.041551,
     "end_time": "2022-07-11T07:25:52.804399",
     "exception": false,
     "start_time": "2022-07-11T07:25:52.762848",
     "status": "completed"
    },
    "tags": []
   },
   "outputs": [
    {
     "data": {
      "text/plain": [
       "6454"
      ]
     },
     "execution_count": 22,
     "metadata": {},
     "output_type": "execute_result"
    }
   ],
   "source": [
    "len(multiplier_gene_obj)"
   ]
  },
  {
   "cell_type": "code",
   "execution_count": 23,
   "id": "9a5d0b84",
   "metadata": {
    "execution": {
     "iopub.execute_input": "2022-07-11T07:25:52.823759Z",
     "iopub.status.busy": "2022-07-11T07:25:52.823569Z",
     "iopub.status.idle": "2022-07-11T07:25:52.839494Z",
     "shell.execute_reply": "2022-07-11T07:25:52.838974Z"
    },
    "papermill": {
     "duration": 0.024797,
     "end_time": "2022-07-11T07:25:52.840859",
     "exception": false,
     "start_time": "2022-07-11T07:25:52.816062",
     "status": "completed"
    },
    "tags": []
   },
   "outputs": [
    {
     "data": {
      "text/plain": [
       "'ENSG00000183087'"
      ]
     },
     "execution_count": 23,
     "metadata": {},
     "output_type": "execute_result"
    }
   ],
   "source": [
    "multiplier_gene_obj[\"GAS6\"].ensembl_id"
   ]
  },
  {
   "cell_type": "code",
   "execution_count": 24,
   "id": "e3ffabc7",
   "metadata": {
    "execution": {
     "iopub.execute_input": "2022-07-11T07:25:52.856752Z",
     "iopub.status.busy": "2022-07-11T07:25:52.856232Z",
     "iopub.status.idle": "2022-07-11T07:25:54.907584Z",
     "shell.execute_reply": "2022-07-11T07:25:54.907118Z"
    },
    "papermill": {
     "duration": 2.060596,
     "end_time": "2022-07-11T07:25:54.908898",
     "exception": false,
     "start_time": "2022-07-11T07:25:52.848302",
     "status": "completed"
    },
    "tags": []
   },
   "outputs": [],
   "source": [
    "_gene_obj = list(multiplier_gene_obj.values())\n",
    "\n",
    "genes_info = pd.DataFrame(\n",
    "    {\n",
    "        \"name\": [g.name for g in _gene_obj],\n",
    "        \"id\": [g.ensembl_id for g in _gene_obj],\n",
    "        \"chr\": [g.chromosome for g in _gene_obj],\n",
    "        \"band\": [g.band for g in _gene_obj],\n",
    "        \"start_position\": [g.get_attribute(\"start_position\") for g in _gene_obj],\n",
    "    }\n",
    ")"
   ]
  },
  {
   "cell_type": "code",
   "execution_count": 25,
   "id": "e23519b8",
   "metadata": {
    "execution": {
     "iopub.execute_input": "2022-07-11T07:25:54.923152Z",
     "iopub.status.busy": "2022-07-11T07:25:54.922851Z",
     "iopub.status.idle": "2022-07-11T07:25:54.940535Z",
     "shell.execute_reply": "2022-07-11T07:25:54.940139Z"
    },
    "papermill": {
     "duration": 0.02615,
     "end_time": "2022-07-11T07:25:54.941751",
     "exception": false,
     "start_time": "2022-07-11T07:25:54.915601",
     "status": "completed"
    },
    "tags": []
   },
   "outputs": [
    {
     "data": {
      "text/plain": [
       "(6454, 5)"
      ]
     },
     "execution_count": 25,
     "metadata": {},
     "output_type": "execute_result"
    }
   ],
   "source": [
    "genes_info.shape"
   ]
  },
  {
   "cell_type": "code",
   "execution_count": 26,
   "id": "0d71881c",
   "metadata": {
    "execution": {
     "iopub.execute_input": "2022-07-11T07:25:54.967043Z",
     "iopub.status.busy": "2022-07-11T07:25:54.966877Z",
     "iopub.status.idle": "2022-07-11T07:25:55.000972Z",
     "shell.execute_reply": "2022-07-11T07:25:55.000584Z"
    },
    "papermill": {
     "duration": 0.049371,
     "end_time": "2022-07-11T07:25:55.002189",
     "exception": false,
     "start_time": "2022-07-11T07:25:54.952818",
     "status": "completed"
    },
    "tags": []
   },
   "outputs": [
    {
     "data": {
      "text/html": [
       "<div>\n",
       "<style scoped>\n",
       "    .dataframe tbody tr th:only-of-type {\n",
       "        vertical-align: middle;\n",
       "    }\n",
       "\n",
       "    .dataframe tbody tr th {\n",
       "        vertical-align: top;\n",
       "    }\n",
       "\n",
       "    .dataframe thead th {\n",
       "        text-align: right;\n",
       "    }\n",
       "</style>\n",
       "<table border=\"1\" class=\"dataframe\">\n",
       "  <thead>\n",
       "    <tr style=\"text-align: right;\">\n",
       "      <th></th>\n",
       "      <th>name</th>\n",
       "      <th>id</th>\n",
       "      <th>chr</th>\n",
       "      <th>band</th>\n",
       "      <th>start_position</th>\n",
       "    </tr>\n",
       "  </thead>\n",
       "  <tbody>\n",
       "    <tr>\n",
       "      <th>0</th>\n",
       "      <td>GAS6</td>\n",
       "      <td>ENSG00000183087</td>\n",
       "      <td>13</td>\n",
       "      <td>13q34</td>\n",
       "      <td>113820549.0</td>\n",
       "    </tr>\n",
       "    <tr>\n",
       "      <th>1</th>\n",
       "      <td>MMP14</td>\n",
       "      <td>ENSG00000157227</td>\n",
       "      <td>14</td>\n",
       "      <td>14q11.2</td>\n",
       "      <td>22836560.0</td>\n",
       "    </tr>\n",
       "    <tr>\n",
       "      <th>2</th>\n",
       "      <td>DSP</td>\n",
       "      <td>ENSG00000096696</td>\n",
       "      <td>6</td>\n",
       "      <td>6p24.3</td>\n",
       "      <td>7541617.0</td>\n",
       "    </tr>\n",
       "    <tr>\n",
       "      <th>3</th>\n",
       "      <td>MARCKSL1</td>\n",
       "      <td>ENSG00000175130</td>\n",
       "      <td>1</td>\n",
       "      <td>1p35.1</td>\n",
       "      <td>32333839.0</td>\n",
       "    </tr>\n",
       "    <tr>\n",
       "      <th>4</th>\n",
       "      <td>SPARC</td>\n",
       "      <td>ENSG00000113140</td>\n",
       "      <td>5</td>\n",
       "      <td>5q33.1</td>\n",
       "      <td>151661096.0</td>\n",
       "    </tr>\n",
       "  </tbody>\n",
       "</table>\n",
       "</div>"
      ],
      "text/plain": [
       "       name               id chr     band  start_position\n",
       "0      GAS6  ENSG00000183087  13    13q34     113820549.0\n",
       "1     MMP14  ENSG00000157227  14  14q11.2      22836560.0\n",
       "2       DSP  ENSG00000096696   6   6p24.3       7541617.0\n",
       "3  MARCKSL1  ENSG00000175130   1   1p35.1      32333839.0\n",
       "4     SPARC  ENSG00000113140   5   5q33.1     151661096.0"
      ]
     },
     "execution_count": 26,
     "metadata": {},
     "output_type": "execute_result"
    }
   ],
   "source": [
    "genes_info.head()"
   ]
  },
  {
   "cell_type": "markdown",
   "id": "c8d1038f",
   "metadata": {
    "papermill": {
     "duration": 0.008951,
     "end_time": "2022-07-11T07:25:55.022554",
     "exception": false,
     "start_time": "2022-07-11T07:25:55.013603",
     "status": "completed"
    },
    "tags": []
   },
   "source": [
    "# Test"
   ]
  },
  {
   "cell_type": "code",
   "execution_count": 27,
   "id": "64993abf",
   "metadata": {
    "execution": {
     "iopub.execute_input": "2022-07-11T07:25:55.037391Z",
     "iopub.status.busy": "2022-07-11T07:25:55.036885Z",
     "iopub.status.idle": "2022-07-11T07:25:55.070536Z",
     "shell.execute_reply": "2022-07-11T07:25:55.070061Z"
    },
    "papermill": {
     "duration": 0.042482,
     "end_time": "2022-07-11T07:25:55.071875",
     "exception": false,
     "start_time": "2022-07-11T07:25:55.029393",
     "status": "completed"
    },
    "tags": []
   },
   "outputs": [
    {
     "data": {
      "text/html": [
       "<div>\n",
       "<style scoped>\n",
       "    .dataframe tbody tr th:only-of-type {\n",
       "        vertical-align: middle;\n",
       "    }\n",
       "\n",
       "    .dataframe tbody tr th {\n",
       "        vertical-align: top;\n",
       "    }\n",
       "\n",
       "    .dataframe thead th {\n",
       "        text-align: right;\n",
       "    }\n",
       "</style>\n",
       "<table border=\"1\" class=\"dataframe\">\n",
       "  <thead>\n",
       "    <tr style=\"text-align: right;\">\n",
       "      <th></th>\n",
       "      <th>name</th>\n",
       "      <th>id</th>\n",
       "      <th>chr</th>\n",
       "      <th>band</th>\n",
       "      <th>start_position</th>\n",
       "    </tr>\n",
       "  </thead>\n",
       "  <tbody>\n",
       "    <tr>\n",
       "      <th>9</th>\n",
       "      <td>LGALS3BP</td>\n",
       "      <td>ENSG00000108679</td>\n",
       "      <td>17</td>\n",
       "      <td>17q25.3</td>\n",
       "      <td>78971238.0</td>\n",
       "    </tr>\n",
       "    <tr>\n",
       "      <th>28</th>\n",
       "      <td>IGFBP4</td>\n",
       "      <td>ENSG00000141753</td>\n",
       "      <td>17</td>\n",
       "      <td>17q21.2</td>\n",
       "      <td>40443450.0</td>\n",
       "    </tr>\n",
       "    <tr>\n",
       "      <th>30</th>\n",
       "      <td>DUSP3</td>\n",
       "      <td>ENSG00000108861</td>\n",
       "      <td>17</td>\n",
       "      <td>17q21.31</td>\n",
       "      <td>43766125.0</td>\n",
       "    </tr>\n",
       "    <tr>\n",
       "      <th>45</th>\n",
       "      <td>SEC14L1</td>\n",
       "      <td>ENSG00000129657</td>\n",
       "      <td>17</td>\n",
       "      <td>17q25.2</td>\n",
       "      <td>77088749.0</td>\n",
       "    </tr>\n",
       "    <tr>\n",
       "      <th>47</th>\n",
       "      <td>BIRC5</td>\n",
       "      <td>ENSG00000089685</td>\n",
       "      <td>17</td>\n",
       "      <td>17q25.3</td>\n",
       "      <td>78214186.0</td>\n",
       "    </tr>\n",
       "    <tr>\n",
       "      <th>...</th>\n",
       "      <td>...</td>\n",
       "      <td>...</td>\n",
       "      <td>...</td>\n",
       "      <td>...</td>\n",
       "      <td>...</td>\n",
       "    </tr>\n",
       "    <tr>\n",
       "      <th>6419</th>\n",
       "      <td>SNF8</td>\n",
       "      <td>ENSG00000159210</td>\n",
       "      <td>17</td>\n",
       "      <td>17q21.32</td>\n",
       "      <td>48929316.0</td>\n",
       "    </tr>\n",
       "    <tr>\n",
       "      <th>6423</th>\n",
       "      <td>IKZF3</td>\n",
       "      <td>ENSG00000161405</td>\n",
       "      <td>17</td>\n",
       "      <td>17q21.1</td>\n",
       "      <td>39757718.0</td>\n",
       "    </tr>\n",
       "    <tr>\n",
       "      <th>6427</th>\n",
       "      <td>SLC13A5</td>\n",
       "      <td>ENSG00000141485</td>\n",
       "      <td>17</td>\n",
       "      <td>17p13.1</td>\n",
       "      <td>6684713.0</td>\n",
       "    </tr>\n",
       "    <tr>\n",
       "      <th>6433</th>\n",
       "      <td>TIMM22</td>\n",
       "      <td>ENSG00000177370</td>\n",
       "      <td>17</td>\n",
       "      <td>17p13.3</td>\n",
       "      <td>997129.0</td>\n",
       "    </tr>\n",
       "    <tr>\n",
       "      <th>6452</th>\n",
       "      <td>GNGT2</td>\n",
       "      <td>ENSG00000167083</td>\n",
       "      <td>17</td>\n",
       "      <td>17q21.32</td>\n",
       "      <td>49202791.0</td>\n",
       "    </tr>\n",
       "  </tbody>\n",
       "</table>\n",
       "<p>411 rows × 5 columns</p>\n",
       "</div>"
      ],
      "text/plain": [
       "          name               id chr      band  start_position\n",
       "9     LGALS3BP  ENSG00000108679  17   17q25.3      78971238.0\n",
       "28      IGFBP4  ENSG00000141753  17   17q21.2      40443450.0\n",
       "30       DUSP3  ENSG00000108861  17  17q21.31      43766125.0\n",
       "45     SEC14L1  ENSG00000129657  17   17q25.2      77088749.0\n",
       "47       BIRC5  ENSG00000089685  17   17q25.3      78214186.0\n",
       "...        ...              ...  ..       ...             ...\n",
       "6419      SNF8  ENSG00000159210  17  17q21.32      48929316.0\n",
       "6423     IKZF3  ENSG00000161405  17   17q21.1      39757718.0\n",
       "6427   SLC13A5  ENSG00000141485  17   17p13.1       6684713.0\n",
       "6433    TIMM22  ENSG00000177370  17   17p13.3        997129.0\n",
       "6452     GNGT2  ENSG00000167083  17  17q21.32      49202791.0\n",
       "\n",
       "[411 rows x 5 columns]"
      ]
     },
     "metadata": {},
     "output_type": "display_data"
    }
   ],
   "source": [
    "chromosome_genes_info = genes_info[genes_info[\"chr\"] == chromosome]\n",
    "display(chromosome_genes_info)"
   ]
  },
  {
   "cell_type": "code",
   "execution_count": 28,
   "id": "d2e42726-7de6-46eb-acfc-6323eaa8fae6",
   "metadata": {
    "execution": {
     "iopub.execute_input": "2022-07-11T07:25:55.100093Z",
     "iopub.status.busy": "2022-07-11T07:25:55.099925Z",
     "iopub.status.idle": "2022-07-11T07:25:55.126922Z",
     "shell.execute_reply": "2022-07-11T07:25:55.126522Z"
    },
    "papermill": {
     "duration": 0.043532,
     "end_time": "2022-07-11T07:25:55.128271",
     "exception": false,
     "start_time": "2022-07-11T07:25:55.084739",
     "status": "completed"
    },
    "tags": []
   },
   "outputs": [
    {
     "data": {
      "text/plain": [
       "5"
      ]
     },
     "metadata": {},
     "output_type": "display_data"
    }
   ],
   "source": [
    "seed(0)\n",
    "_gene_list_ids = sample(chromosome_genes_info[\"id\"].tolist(), 5)\n",
    "selected_chromosome_genes_obj = [Gene(ensembl_id=g_id) for g_id in _gene_list_ids]\n",
    "display(len(selected_chromosome_genes_obj))"
   ]
  },
  {
   "cell_type": "code",
   "execution_count": 29,
   "id": "1b355359",
   "metadata": {
    "execution": {
     "iopub.execute_input": "2022-07-11T07:25:55.145492Z",
     "iopub.status.busy": "2022-07-11T07:25:55.145320Z",
     "iopub.status.idle": "2022-07-11T07:25:58.623207Z",
     "shell.execute_reply": "2022-07-11T07:25:58.622614Z"
    },
    "papermill": {
     "duration": 3.487612,
     "end_time": "2022-07-11T07:25:58.624790",
     "exception": false,
     "start_time": "2022-07-11T07:25:55.137178",
     "status": "completed"
    },
    "tags": []
   },
   "outputs": [
    {
     "name": "stdout",
     "output_type": "stream",
     "text": [
      "ACLY / AANAT: 0.0\n",
      "ACLY / TCAP: 0.005937857134173901\n",
      "ACLY / AOC2: 0.008346392383792816\n",
      "ACLY / PDK2: 0.0\n",
      "AANAT / TCAP: 0.0\n",
      "AANAT / AOC2: 0.0\n",
      "AANAT / PDK2: 0.0\n",
      "TCAP / AOC2: 0.00056767037748923\n",
      "TCAP / PDK2: 0.0\n",
      "AOC2 / PDK2: 0.0\n"
     ]
    }
   ],
   "source": [
    "for gene_idx1 in range(0, len(selected_chromosome_genes_obj) - 1):\n",
    "    gene_obj1 = selected_chromosome_genes_obj[gene_idx1]\n",
    "\n",
    "    for gene_idx2 in range(gene_idx1 + 1, len(selected_chromosome_genes_obj)):\n",
    "        gene_obj2 = selected_chromosome_genes_obj[gene_idx2]\n",
    "\n",
    "        c = gene_obj1.get_ssm_correlation(\n",
    "            gene_obj2,\n",
    "        )\n",
    "\n",
    "        print(f\"{gene_obj1.name} / {gene_obj2.name}: {c}\")"
   ]
  },
  {
   "cell_type": "markdown",
   "id": "d3843e06",
   "metadata": {
    "papermill": {
     "duration": 0.007767,
     "end_time": "2022-07-11T07:25:58.640336",
     "exception": false,
     "start_time": "2022-07-11T07:25:58.632569",
     "status": "completed"
    },
    "tags": []
   },
   "source": [
    "# Compute correlation per chromosome"
   ]
  },
  {
   "cell_type": "code",
   "execution_count": 30,
   "id": "cb859c15-d1f3-4006-a74c-2b83c0db9611",
   "metadata": {
    "execution": {
     "iopub.execute_input": "2022-07-11T07:25:58.657059Z",
     "iopub.status.busy": "2022-07-11T07:25:58.656882Z",
     "iopub.status.idle": "2022-07-11T07:25:58.675220Z",
     "shell.execute_reply": "2022-07-11T07:25:58.674657Z"
    },
    "papermill": {
     "duration": 0.028282,
     "end_time": "2022-07-11T07:25:58.676565",
     "exception": false,
     "start_time": "2022-07-11T07:25:58.648283",
     "status": "completed"
    },
    "tags": []
   },
   "outputs": [
    {
     "data": {
      "text/plain": [
       "PosixPath('/opt/data/data/phenomexcan/ld_blocks/gene_corrs/1000g/mashr/by_chr/gene_corrs-chr17.pkl')"
      ]
     },
     "metadata": {},
     "output_type": "display_data"
    }
   ],
   "source": [
    "output_dir = OUTPUT_DIR_BASE / \"by_chr\"\n",
    "output_dir.mkdir(exist_ok=True, parents=True)\n",
    "output_file = output_dir / f\"gene_corrs-chr{chromosome}.pkl\"\n",
    "display(output_file)"
   ]
  },
  {
   "cell_type": "code",
   "execution_count": 31,
   "id": "aa674fe4-6794-4eed-98fa-32b39d1d4ace",
   "metadata": {
    "execution": {
     "iopub.execute_input": "2022-07-11T07:25:58.694206Z",
     "iopub.status.busy": "2022-07-11T07:25:58.693711Z",
     "iopub.status.idle": "2022-07-11T07:25:58.709666Z",
     "shell.execute_reply": "2022-07-11T07:25:58.709102Z"
    },
    "papermill": {
     "duration": 0.026269,
     "end_time": "2022-07-11T07:25:58.711080",
     "exception": false,
     "start_time": "2022-07-11T07:25:58.684811",
     "status": "completed"
    },
    "tags": []
   },
   "outputs": [],
   "source": [
    "warnings.filterwarnings(\"error\")"
   ]
  },
  {
   "cell_type": "code",
   "execution_count": 32,
   "id": "cdbb90a1",
   "metadata": {
    "execution": {
     "iopub.execute_input": "2022-07-11T07:25:58.728724Z",
     "iopub.status.busy": "2022-07-11T07:25:58.728314Z",
     "iopub.status.idle": "2022-07-11T07:49:43.520297Z",
     "shell.execute_reply": "2022-07-11T07:49:43.519894Z"
    },
    "papermill": {
     "duration": 1424.801924,
     "end_time": "2022-07-11T07:49:43.521661",
     "exception": false,
     "start_time": "2022-07-11T07:25:58.719737",
     "status": "completed"
    },
    "tags": []
   },
   "outputs": [
    {
     "name": "stdout",
     "output_type": "stream",
     "text": [
      "Number of genes in chromosome: 411\n",
      "Number of gene combinations: 84255\n"
     ]
    },
    {
     "name": "stderr",
     "output_type": "stream",
     "text": [
      "ENSG00000141556 / ENSG00000175711: 100%|██████████████████████| 84255/84255 [23:44<00:00, 59.14it/s]\n"
     ]
    },
    {
     "name": "stdout",
     "output_type": "stream",
     "text": [
      "Min/max values: 0.0 / 0.9901438435035373\n"
     ]
    },
    {
     "data": {
      "text/plain": [
       "PosixPath('/opt/data/data/phenomexcan/ld_blocks/gene_corrs/1000g/mashr/by_chr/gene_corrs-chr17.pkl')"
      ]
     },
     "metadata": {},
     "output_type": "display_data"
    }
   ],
   "source": [
    "# standard checks\n",
    "all_chrs = genes_info[\"chr\"].dropna().unique()\n",
    "assert all_chrs.shape[0] == 22\n",
    "\n",
    "# select chromosome given by the user\n",
    "assert chromosome in all_chrs\n",
    "\n",
    "# run only on the chromosome specified\n",
    "all_chrs = [chromosome]\n",
    "genes_chr = genes_info[genes_info[\"chr\"] == chromosome]\n",
    "\n",
    "# For testing purposes\n",
    "# genes_chr = genes_chr.sample(n=20)\n",
    "\n",
    "print(f\"Number of genes in chromosome: {genes_chr.shape[0]}\", flush=True)\n",
    "\n",
    "# sort genes by starting position to make visualizations better later\n",
    "genes_chr = genes_chr.sort_values(\"start_position\")\n",
    "\n",
    "gene_chr_objs = [Gene(ensembl_id=gene_id) for gene_id in genes_chr[\"id\"]]\n",
    "gene_chr_ids = [g.ensembl_id for g in gene_chr_objs]\n",
    "\n",
    "n = len(gene_chr_objs)\n",
    "n_comb = int(n * (n - 1) / 2.0)\n",
    "print(f\"Number of gene combinations: {n_comb}\", flush=True)\n",
    "\n",
    "gene_corrs = []\n",
    "\n",
    "pbar = tqdm(ncols=100, total=n_comb)\n",
    "i = 0\n",
    "for gene_idx1 in range(0, len(gene_chr_objs) - 1):\n",
    "    gene_obj1 = gene_chr_objs[gene_idx1]\n",
    "\n",
    "    for gene_idx2 in range(gene_idx1 + 1, len(gene_chr_objs)):\n",
    "        gene_obj2 = gene_chr_objs[gene_idx2]\n",
    "\n",
    "        pbar.set_description(f\"{gene_obj1.ensembl_id} / {gene_obj2.ensembl_id}\")\n",
    "\n",
    "        try:\n",
    "            # FIXME: compute the correlation of the sum of squares of the model using all\n",
    "            # the available tissues; this could be problematic because for some results\n",
    "            # (computed on a specific phenotype/GWAS) we might not have all the tissues\n",
    "            # available, which can certainly bias the correlation estimation.\n",
    "            # Since this depends on the GWAS on a specific phenotype, we should ideally have\n",
    "            # one correlation matrix per GWAS. I should look at how we can improve this.\n",
    "            r = gene_obj1.get_ssm_correlation(\n",
    "                other_gene=gene_obj2,\n",
    "                condition_number=SMULTIXCAN_CONDITION_NUMBER,\n",
    "                reference_panel=REFERENCE_PANEL,\n",
    "                model_type=EQTL_MODEL,\n",
    "            )\n",
    "\n",
    "            if r is None:\n",
    "                # if r is None, it's very likely because:\n",
    "                #  * one of the genes has no prediction models\n",
    "                #  * all the SNPs predictors for the gene are not present in the reference\n",
    "                #    panel\n",
    "\n",
    "                r = 0.0\n",
    "\n",
    "            gene_corrs.append(r)\n",
    "        except Warning:\n",
    "            print(\n",
    "                f\"RuntimeWarning for genes {gene_obj1.ensembl_id} and {gene_obj2.ensembl_id}\",\n",
    "                flush=True,\n",
    "            )\n",
    "            import traceback\n",
    "\n",
    "            print(traceback.format_exc(), flush=True)\n",
    "        except Exception as e:\n",
    "            print(\n",
    "                f\"Exception for genes {gene_obj1.ensembl_id} and {gene_obj2.ensembl_id}\",\n",
    "                flush=True,\n",
    "            )\n",
    "            import traceback\n",
    "\n",
    "            print(traceback.format_exc(), flush=True)\n",
    "            gene_corrs.append(np.nan)\n",
    "\n",
    "        pbar.update(1)\n",
    "\n",
    "pbar.close()\n",
    "\n",
    "# testing\n",
    "gene_corrs_flat = pd.Series(gene_corrs)\n",
    "print(f\"Min/max values: {gene_corrs_flat.min()} / {gene_corrs_flat.max()}\")\n",
    "assert gene_corrs_flat.min() >= -1.001\n",
    "assert gene_corrs_flat.max() <= 1.001\n",
    "\n",
    "# save\n",
    "# FIXME: consider saving only the condenced matrix here. See here for\n",
    "# more details: https://github.com/greenelab/phenoplier/pull/38#discussion_r634600813\n",
    "gene_corrs_data = squareform(np.array(gene_corrs, dtype=np.float64))\n",
    "np.fill_diagonal(gene_corrs_data, 1.0)\n",
    "\n",
    "gene_corrs_df = pd.DataFrame(\n",
    "    data=gene_corrs_data,\n",
    "    index=gene_chr_ids,\n",
    "    columns=gene_chr_ids,\n",
    ")\n",
    "\n",
    "output_dir.mkdir(exist_ok=True, parents=True)\n",
    "display(output_file)\n",
    "\n",
    "gene_corrs_df.to_pickle(output_file)"
   ]
  },
  {
   "cell_type": "markdown",
   "id": "faa67b51-5373-470f-aa72-2ded53fa6dfe",
   "metadata": {
    "papermill": {
     "duration": 3.195336,
     "end_time": "2022-07-11T07:49:50.017721",
     "exception": false,
     "start_time": "2022-07-11T07:49:46.822385",
     "status": "completed"
    },
    "tags": []
   },
   "source": [
    "# Testing"
   ]
  },
  {
   "cell_type": "code",
   "execution_count": 33,
   "id": "14f7d046-4b55-4896-a56b-990127bcc388",
   "metadata": {
    "execution": {
     "iopub.execute_input": "2022-07-11T07:49:56.719745Z",
     "iopub.status.busy": "2022-07-11T07:49:56.716051Z",
     "iopub.status.idle": "2022-07-11T07:49:56.749429Z",
     "shell.execute_reply": "2022-07-11T07:49:56.748995Z"
    },
    "papermill": {
     "duration": 3.524772,
     "end_time": "2022-07-11T07:49:56.750603",
     "exception": false,
     "start_time": "2022-07-11T07:49:53.225831",
     "status": "completed"
    },
    "tags": []
   },
   "outputs": [
    {
     "data": {
      "text/plain": [
       "(411, 411)"
      ]
     },
     "execution_count": 33,
     "metadata": {},
     "output_type": "execute_result"
    }
   ],
   "source": [
    "gene_corrs_df.shape"
   ]
  },
  {
   "cell_type": "code",
   "execution_count": 34,
   "id": "c7d15414-3297-4537-a7c6-7588c0baeb75",
   "metadata": {
    "execution": {
     "iopub.execute_input": "2022-07-11T07:50:03.681028Z",
     "iopub.status.busy": "2022-07-11T07:50:03.680861Z",
     "iopub.status.idle": "2022-07-11T07:50:03.737612Z",
     "shell.execute_reply": "2022-07-11T07:50:03.737188Z"
    },
    "papermill": {
     "duration": 3.662309,
     "end_time": "2022-07-11T07:50:03.738802",
     "exception": false,
     "start_time": "2022-07-11T07:50:00.076493",
     "status": "completed"
    },
    "tags": []
   },
   "outputs": [
    {
     "data": {
      "text/html": [
       "<div>\n",
       "<style scoped>\n",
       "    .dataframe tbody tr th:only-of-type {\n",
       "        vertical-align: middle;\n",
       "    }\n",
       "\n",
       "    .dataframe tbody tr th {\n",
       "        vertical-align: top;\n",
       "    }\n",
       "\n",
       "    .dataframe thead th {\n",
       "        text-align: right;\n",
       "    }\n",
       "</style>\n",
       "<table border=\"1\" class=\"dataframe\">\n",
       "  <thead>\n",
       "    <tr style=\"text-align: right;\">\n",
       "      <th></th>\n",
       "      <th>ENSG00000141252</th>\n",
       "      <th>ENSG00000179409</th>\n",
       "      <th>ENSG00000177370</th>\n",
       "      <th>ENSG00000159842</th>\n",
       "      <th>ENSG00000108953</th>\n",
       "      <th>ENSG00000167193</th>\n",
       "      <th>ENSG00000132376</th>\n",
       "      <th>ENSG00000174238</th>\n",
       "      <th>ENSG00000167703</th>\n",
       "      <th>ENSG00000074660</th>\n",
       "      <th>...</th>\n",
       "      <th>ENSG00000169733</th>\n",
       "      <th>ENSG00000169710</th>\n",
       "      <th>ENSG00000141526</th>\n",
       "      <th>ENSG00000141551</th>\n",
       "      <th>ENSG00000173762</th>\n",
       "      <th>ENSG00000141574</th>\n",
       "      <th>ENSG00000141562</th>\n",
       "      <th>ENSG00000141542</th>\n",
       "      <th>ENSG00000141556</th>\n",
       "      <th>ENSG00000175711</th>\n",
       "    </tr>\n",
       "  </thead>\n",
       "  <tbody>\n",
       "    <tr>\n",
       "      <th>ENSG00000141252</th>\n",
       "      <td>1.000000</td>\n",
       "      <td>0.357808</td>\n",
       "      <td>0.010012</td>\n",
       "      <td>0.013772</td>\n",
       "      <td>0.004440</td>\n",
       "      <td>0.004144</td>\n",
       "      <td>0.004823</td>\n",
       "      <td>0.003589</td>\n",
       "      <td>0.007753</td>\n",
       "      <td>0.002159</td>\n",
       "      <td>...</td>\n",
       "      <td>0.0</td>\n",
       "      <td>0.0</td>\n",
       "      <td>0.0</td>\n",
       "      <td>0.0</td>\n",
       "      <td>0.0</td>\n",
       "      <td>0.0</td>\n",
       "      <td>0.0</td>\n",
       "      <td>0.0</td>\n",
       "      <td>0.0</td>\n",
       "      <td>0.0</td>\n",
       "    </tr>\n",
       "    <tr>\n",
       "      <th>ENSG00000179409</th>\n",
       "      <td>0.357808</td>\n",
       "      <td>1.000000</td>\n",
       "      <td>0.014970</td>\n",
       "      <td>0.017703</td>\n",
       "      <td>0.012514</td>\n",
       "      <td>0.009100</td>\n",
       "      <td>0.008722</td>\n",
       "      <td>0.005278</td>\n",
       "      <td>0.016284</td>\n",
       "      <td>0.006707</td>\n",
       "      <td>...</td>\n",
       "      <td>0.0</td>\n",
       "      <td>0.0</td>\n",
       "      <td>0.0</td>\n",
       "      <td>0.0</td>\n",
       "      <td>0.0</td>\n",
       "      <td>0.0</td>\n",
       "      <td>0.0</td>\n",
       "      <td>0.0</td>\n",
       "      <td>0.0</td>\n",
       "      <td>0.0</td>\n",
       "    </tr>\n",
       "    <tr>\n",
       "      <th>ENSG00000177370</th>\n",
       "      <td>0.010012</td>\n",
       "      <td>0.014970</td>\n",
       "      <td>1.000000</td>\n",
       "      <td>0.025700</td>\n",
       "      <td>0.008991</td>\n",
       "      <td>0.007758</td>\n",
       "      <td>0.004638</td>\n",
       "      <td>0.008483</td>\n",
       "      <td>0.015865</td>\n",
       "      <td>0.006263</td>\n",
       "      <td>...</td>\n",
       "      <td>0.0</td>\n",
       "      <td>0.0</td>\n",
       "      <td>0.0</td>\n",
       "      <td>0.0</td>\n",
       "      <td>0.0</td>\n",
       "      <td>0.0</td>\n",
       "      <td>0.0</td>\n",
       "      <td>0.0</td>\n",
       "      <td>0.0</td>\n",
       "      <td>0.0</td>\n",
       "    </tr>\n",
       "    <tr>\n",
       "      <th>ENSG00000159842</th>\n",
       "      <td>0.013772</td>\n",
       "      <td>0.017703</td>\n",
       "      <td>0.025700</td>\n",
       "      <td>1.000000</td>\n",
       "      <td>0.028915</td>\n",
       "      <td>0.016800</td>\n",
       "      <td>0.015119</td>\n",
       "      <td>0.012697</td>\n",
       "      <td>0.022392</td>\n",
       "      <td>0.013777</td>\n",
       "      <td>...</td>\n",
       "      <td>0.0</td>\n",
       "      <td>0.0</td>\n",
       "      <td>0.0</td>\n",
       "      <td>0.0</td>\n",
       "      <td>0.0</td>\n",
       "      <td>0.0</td>\n",
       "      <td>0.0</td>\n",
       "      <td>0.0</td>\n",
       "      <td>0.0</td>\n",
       "      <td>0.0</td>\n",
       "    </tr>\n",
       "    <tr>\n",
       "      <th>ENSG00000108953</th>\n",
       "      <td>0.004440</td>\n",
       "      <td>0.012514</td>\n",
       "      <td>0.008991</td>\n",
       "      <td>0.028915</td>\n",
       "      <td>1.000000</td>\n",
       "      <td>0.138716</td>\n",
       "      <td>0.027416</td>\n",
       "      <td>0.021851</td>\n",
       "      <td>0.019318</td>\n",
       "      <td>0.005181</td>\n",
       "      <td>...</td>\n",
       "      <td>0.0</td>\n",
       "      <td>0.0</td>\n",
       "      <td>0.0</td>\n",
       "      <td>0.0</td>\n",
       "      <td>0.0</td>\n",
       "      <td>0.0</td>\n",
       "      <td>0.0</td>\n",
       "      <td>0.0</td>\n",
       "      <td>0.0</td>\n",
       "      <td>0.0</td>\n",
       "    </tr>\n",
       "  </tbody>\n",
       "</table>\n",
       "<p>5 rows × 411 columns</p>\n",
       "</div>"
      ],
      "text/plain": [
       "                 ENSG00000141252  ENSG00000179409  ENSG00000177370  \\\n",
       "ENSG00000141252         1.000000         0.357808         0.010012   \n",
       "ENSG00000179409         0.357808         1.000000         0.014970   \n",
       "ENSG00000177370         0.010012         0.014970         1.000000   \n",
       "ENSG00000159842         0.013772         0.017703         0.025700   \n",
       "ENSG00000108953         0.004440         0.012514         0.008991   \n",
       "\n",
       "                 ENSG00000159842  ENSG00000108953  ENSG00000167193  \\\n",
       "ENSG00000141252         0.013772         0.004440         0.004144   \n",
       "ENSG00000179409         0.017703         0.012514         0.009100   \n",
       "ENSG00000177370         0.025700         0.008991         0.007758   \n",
       "ENSG00000159842         1.000000         0.028915         0.016800   \n",
       "ENSG00000108953         0.028915         1.000000         0.138716   \n",
       "\n",
       "                 ENSG00000132376  ENSG00000174238  ENSG00000167703  \\\n",
       "ENSG00000141252         0.004823         0.003589         0.007753   \n",
       "ENSG00000179409         0.008722         0.005278         0.016284   \n",
       "ENSG00000177370         0.004638         0.008483         0.015865   \n",
       "ENSG00000159842         0.015119         0.012697         0.022392   \n",
       "ENSG00000108953         0.027416         0.021851         0.019318   \n",
       "\n",
       "                 ENSG00000074660  ...  ENSG00000169733  ENSG00000169710  \\\n",
       "ENSG00000141252         0.002159  ...              0.0              0.0   \n",
       "ENSG00000179409         0.006707  ...              0.0              0.0   \n",
       "ENSG00000177370         0.006263  ...              0.0              0.0   \n",
       "ENSG00000159842         0.013777  ...              0.0              0.0   \n",
       "ENSG00000108953         0.005181  ...              0.0              0.0   \n",
       "\n",
       "                 ENSG00000141526  ENSG00000141551  ENSG00000173762  \\\n",
       "ENSG00000141252              0.0              0.0              0.0   \n",
       "ENSG00000179409              0.0              0.0              0.0   \n",
       "ENSG00000177370              0.0              0.0              0.0   \n",
       "ENSG00000159842              0.0              0.0              0.0   \n",
       "ENSG00000108953              0.0              0.0              0.0   \n",
       "\n",
       "                 ENSG00000141574  ENSG00000141562  ENSG00000141542  \\\n",
       "ENSG00000141252              0.0              0.0              0.0   \n",
       "ENSG00000179409              0.0              0.0              0.0   \n",
       "ENSG00000177370              0.0              0.0              0.0   \n",
       "ENSG00000159842              0.0              0.0              0.0   \n",
       "ENSG00000108953              0.0              0.0              0.0   \n",
       "\n",
       "                 ENSG00000141556  ENSG00000175711  \n",
       "ENSG00000141252              0.0              0.0  \n",
       "ENSG00000179409              0.0              0.0  \n",
       "ENSG00000177370              0.0              0.0  \n",
       "ENSG00000159842              0.0              0.0  \n",
       "ENSG00000108953              0.0              0.0  \n",
       "\n",
       "[5 rows x 411 columns]"
      ]
     },
     "execution_count": 34,
     "metadata": {},
     "output_type": "execute_result"
    }
   ],
   "source": [
    "gene_corrs_df.head()"
   ]
  },
  {
   "cell_type": "code",
   "execution_count": 35,
   "id": "286686af-1b7b-4440-8453-6bdcbd8de19c",
   "metadata": {
    "execution": {
     "iopub.execute_input": "2022-07-11T07:50:11.011656Z",
     "iopub.status.busy": "2022-07-11T07:50:11.009364Z",
     "iopub.status.idle": "2022-07-11T07:50:11.030935Z",
     "shell.execute_reply": "2022-07-11T07:50:11.030370Z"
    },
    "papermill": {
     "duration": 3.224346,
     "end_time": "2022-07-11T07:50:11.032483",
     "exception": false,
     "start_time": "2022-07-11T07:50:07.808137",
     "status": "completed"
    },
    "tags": []
   },
   "outputs": [],
   "source": [
    "assert not gene_corrs_df.isna().any().any()"
   ]
  },
  {
   "cell_type": "code",
   "execution_count": 36,
   "id": "00583efc-7068-4270-ad1e-4a418e91db96",
   "metadata": {
    "execution": {
     "iopub.execute_input": "2022-07-11T07:50:18.116246Z",
     "iopub.status.busy": "2022-07-11T07:50:18.116083Z",
     "iopub.status.idle": "2022-07-11T07:50:18.148073Z",
     "shell.execute_reply": "2022-07-11T07:50:18.147655Z"
    },
    "papermill": {
     "duration": 3.851017,
     "end_time": "2022-07-11T07:50:18.149257",
     "exception": false,
     "start_time": "2022-07-11T07:50:14.298240",
     "status": "completed"
    },
    "tags": []
   },
   "outputs": [
    {
     "data": {
      "text/plain": [
       "0.0"
      ]
     },
     "metadata": {},
     "output_type": "display_data"
    }
   ],
   "source": [
    "_min_val = gene_corrs_df.min().min()\n",
    "display(_min_val)\n",
    "assert _min_val >= 0.0"
   ]
  },
  {
   "cell_type": "code",
   "execution_count": 37,
   "id": "d04fb2cf-1050-475b-b855-f5f7cc04092b",
   "metadata": {
    "execution": {
     "iopub.execute_input": "2022-07-11T07:50:25.761007Z",
     "iopub.status.busy": "2022-07-11T07:50:25.760845Z",
     "iopub.status.idle": "2022-07-11T07:50:25.792049Z",
     "shell.execute_reply": "2022-07-11T07:50:25.791658Z"
    },
    "papermill": {
     "duration": 3.769406,
     "end_time": "2022-07-11T07:50:25.793171",
     "exception": false,
     "start_time": "2022-07-11T07:50:22.023765",
     "status": "completed"
    },
    "tags": []
   },
   "outputs": [
    {
     "data": {
      "text/plain": [
       "1.0"
      ]
     },
     "metadata": {},
     "output_type": "display_data"
    }
   ],
   "source": [
    "_max_val = gene_corrs_df.max().max()  # this captures the diagonal\n",
    "display(_max_val)\n",
    "assert _max_val <= 1.0"
   ]
  },
  {
   "cell_type": "code",
   "execution_count": 38,
   "id": "96d02c44-1fba-47be-8a93-8f2608420b9c",
   "metadata": {
    "execution": {
     "iopub.execute_input": "2022-07-11T07:50:33.485080Z",
     "iopub.status.busy": "2022-07-11T07:50:33.484919Z",
     "iopub.status.idle": "2022-07-11T07:50:33.511832Z",
     "shell.execute_reply": "2022-07-11T07:50:33.511450Z"
    },
    "papermill": {
     "duration": 3.981896,
     "end_time": "2022-07-11T07:50:33.513179",
     "exception": false,
     "start_time": "2022-07-11T07:50:29.531283",
     "status": "completed"
    },
    "tags": []
   },
   "outputs": [],
   "source": [
    "# check upper triangular values\n",
    "assert len(gene_corrs) == int(genes_chr.shape[0] * (genes_chr.shape[0] - 1) / 2)"
   ]
  },
  {
   "cell_type": "code",
   "execution_count": 39,
   "id": "aaa51627-f4e3-4744-a41f-7d25adcc0a78",
   "metadata": {
    "execution": {
     "iopub.execute_input": "2022-07-11T07:50:41.436358Z",
     "iopub.status.busy": "2022-07-11T07:50:41.435760Z",
     "iopub.status.idle": "2022-07-11T07:50:41.460330Z",
     "shell.execute_reply": "2022-07-11T07:50:41.459600Z"
    },
    "papermill": {
     "duration": 3.591362,
     "end_time": "2022-07-11T07:50:41.462164",
     "exception": false,
     "start_time": "2022-07-11T07:50:37.870802",
     "status": "completed"
    },
    "tags": []
   },
   "outputs": [],
   "source": [
    "gene_corrs = pd.Series(gene_corrs)"
   ]
  },
  {
   "cell_type": "code",
   "execution_count": 40,
   "id": "fe283586-c348-40e0-8841-f6d97bfb021c",
   "metadata": {
    "execution": {
     "iopub.execute_input": "2022-07-11T07:50:48.806040Z",
     "iopub.status.busy": "2022-07-11T07:50:48.805836Z",
     "iopub.status.idle": "2022-07-11T07:50:48.841088Z",
     "shell.execute_reply": "2022-07-11T07:50:48.840637Z"
    },
    "papermill": {
     "duration": 3.652505,
     "end_time": "2022-07-11T07:50:48.842392",
     "exception": false,
     "start_time": "2022-07-11T07:50:45.189887",
     "status": "completed"
    },
    "tags": []
   },
   "outputs": [
    {
     "data": {
      "text/plain": [
       "count    84255.000000\n",
       "mean         0.003476\n",
       "std          0.029781\n",
       "min          0.000000\n",
       "25%          0.000000\n",
       "50%          0.000000\n",
       "75%          0.000000\n",
       "max          0.990144\n",
       "dtype: float64"
      ]
     },
     "execution_count": 40,
     "metadata": {},
     "output_type": "execute_result"
    }
   ],
   "source": [
    "gene_corrs.describe()"
   ]
  },
  {
   "cell_type": "code",
   "execution_count": 41,
   "id": "b3815678-0f93-4b35-897b-a9d047a2aa78",
   "metadata": {
    "execution": {
     "iopub.execute_input": "2022-07-11T07:50:56.725982Z",
     "iopub.status.busy": "2022-07-11T07:50:56.725471Z",
     "iopub.status.idle": "2022-07-11T07:50:56.746289Z",
     "shell.execute_reply": "2022-07-11T07:50:56.745870Z"
    },
    "papermill": {
     "duration": 3.937923,
     "end_time": "2022-07-11T07:50:56.747713",
     "exception": false,
     "start_time": "2022-07-11T07:50:52.809790",
     "status": "completed"
    },
    "tags": []
   },
   "outputs": [
    {
     "data": {
      "text/plain": [
       "0.00    0.000000\n",
       "0.05    0.000000\n",
       "0.10    0.000000\n",
       "0.15    0.000000\n",
       "0.20    0.000000\n",
       "0.25    0.000000\n",
       "0.30    0.000000\n",
       "0.35    0.000000\n",
       "0.40    0.000000\n",
       "0.45    0.000000\n",
       "0.50    0.000000\n",
       "0.55    0.000000\n",
       "0.60    0.000000\n",
       "0.65    0.000000\n",
       "0.70    0.000000\n",
       "0.75    0.000000\n",
       "0.80    0.000000\n",
       "0.85    0.000000\n",
       "0.90    0.005783\n",
       "0.95    0.011069\n",
       "dtype: float64"
      ]
     },
     "metadata": {},
     "output_type": "display_data"
    }
   ],
   "source": [
    "gene_corrs_quantiles = gene_corrs.quantile(np.arange(0, 1, 0.05))\n",
    "display(gene_corrs_quantiles)"
   ]
  },
  {
   "cell_type": "markdown",
   "id": "8e60a080-edb2-4e9c-b2ef-22961693200c",
   "metadata": {
    "papermill": {
     "duration": 3.606436,
     "end_time": "2022-07-11T07:51:04.392948",
     "exception": false,
     "start_time": "2022-07-11T07:51:00.786512",
     "status": "completed"
    },
    "tags": []
   },
   "source": [
    "## Plot: distribution"
   ]
  },
  {
   "cell_type": "code",
   "execution_count": 42,
   "id": "8301126b-a7d4-4744-9c7d-f0f86eb6f54c",
   "metadata": {
    "execution": {
     "iopub.execute_input": "2022-07-11T07:51:12.488646Z",
     "iopub.status.busy": "2022-07-11T07:51:12.488486Z",
     "iopub.status.idle": "2022-07-11T07:51:13.190347Z",
     "shell.execute_reply": "2022-07-11T07:51:13.189969Z"
    },
    "papermill": {
     "duration": 4.855209,
     "end_time": "2022-07-11T07:51:13.191454",
     "exception": false,
     "start_time": "2022-07-11T07:51:08.336245",
     "status": "completed"
    },
    "tags": []
   },
   "outputs": [
    {
     "data": {
      "image/png": "[encoded data removed]",
      "text/plain": [
       "<Figure size 504x504 with 1 Axes>"
      ]
     },
     "metadata": {
      "needs_background": "light"
     },
     "output_type": "display_data"
    }
   ],
   "source": [
    "with sns.plotting_context(\"paper\", font_scale=1.5):\n",
    "    g = sns.displot(gene_corrs, kde=True, height=7)\n",
    "    g.ax.set_title(\n",
    "        f\"Distribution of gene correlation values in chromosome {chromosome}\"\n",
    "    )"
   ]
  },
  {
   "cell_type": "markdown",
   "id": "cbd52bca-d878-4a2f-b684-5c83aa3038d4",
   "metadata": {
    "papermill": {
     "duration": 3.569613,
     "end_time": "2022-07-11T07:51:20.779173",
     "exception": false,
     "start_time": "2022-07-11T07:51:17.209560",
     "status": "completed"
    },
    "tags": []
   },
   "source": [
    "## Plot: heatmap"
   ]
  },
  {
   "cell_type": "code",
   "execution_count": 43,
   "id": "d03fe63a-c7b2-4fb9-a53c-db362ce843c9",
   "metadata": {
    "execution": {
     "iopub.execute_input": "2022-07-11T07:51:28.463609Z",
     "iopub.status.busy": "2022-07-11T07:51:28.463437Z",
     "iopub.status.idle": "2022-07-11T07:51:28.498266Z",
     "shell.execute_reply": "2022-07-11T07:51:28.497889Z"
    },
    "papermill": {
     "duration": 3.831426,
     "end_time": "2022-07-11T07:51:28.499505",
     "exception": false,
     "start_time": "2022-07-11T07:51:24.668079",
     "status": "completed"
    },
    "tags": []
   },
   "outputs": [
    {
     "data": {
      "text/plain": [
       "'-0.05 / 0.05'"
      ]
     },
     "metadata": {},
     "output_type": "display_data"
    }
   ],
   "source": [
    "vmin_val = min(-0.05, gene_corrs_quantiles[0.10])\n",
    "vmax_val = max(0.05, gene_corrs_quantiles[0.90])\n",
    "display(f\"{vmin_val} / {vmax_val}\")"
   ]
  },
  {
   "cell_type": "code",
   "execution_count": 44,
   "id": "dc41b70b-5bcc-4d9e-9f33-a22c4a94dab5",
   "metadata": {
    "execution": {
     "iopub.execute_input": "2022-07-11T07:51:36.569408Z",
     "iopub.status.busy": "2022-07-11T07:51:36.569245Z",
     "iopub.status.idle": "2022-07-11T07:51:36.954828Z",
     "shell.execute_reply": "2022-07-11T07:51:36.954364Z"
    },
    "papermill": {
     "duration": 4.634872,
     "end_time": "2022-07-11T07:51:36.956056",
     "exception": false,
     "start_time": "2022-07-11T07:51:32.321184",
     "status": "completed"
    },
    "tags": []
   },
   "outputs": [
    {
     "data": {
      "text/plain": [
       "Text(0.5, 1.0, 'Gene correlations in chromosome 17')"
      ]
     },
     "execution_count": 44,
     "metadata": {},
     "output_type": "execute_result"
    },
    {
     "data": {
      "image/png": "[encoded data removed]",
      "text/plain": [
       "<Figure size 720x720 with 2 Axes>"
      ]
     },
     "metadata": {
      "needs_background": "light"
     },
     "output_type": "display_data"
    }
   ],
   "source": [
    "f, ax = plt.subplots(figsize=(10, 10))\n",
    "sns.heatmap(\n",
    "    gene_corrs_df,\n",
    "    xticklabels=False,\n",
    "    yticklabels=False,\n",
    "    square=True,\n",
    "    vmin=vmin_val,\n",
    "    vmax=vmax_val,\n",
    "    cmap=\"YlGnBu\",\n",
    "    ax=ax,\n",
    ")\n",
    "ax.set_title(f\"Gene correlations in chromosome {chromosome}\")"
   ]
  },
  {
   "cell_type": "code",
   "execution_count": null,
   "id": "b25e3ead",
   "metadata": {
    "papermill": {
     "duration": 3.963525,
     "end_time": "2022-07-11T07:51:44.514534",
     "exception": false,
     "start_time": "2022-07-11T07:51:40.551009",
     "status": "completed"
    },
    "tags": []
   },
   "outputs": [],
   "source": []
  }
 ],
 "metadata": {
  "jupytext": {
   "cell_metadata_filter": "all,-execution,-papermill,-trusted",
   "formats": "ipynb,py//py:percent"
  },
  "kernelspec": {
   "display_name": "Python 3 (ipykernel)",
   "language": "python",
   "name": "python3"
  },
  "language_info": {
   "codemirror_mode": {
    "name": "ipython",
    "version": 3
   },
   "file_extension": ".py",
   "mimetype": "text/x-python",
   "name": "python",
   "nbconvert_exporter": "python",
   "pygments_lexer": "ipython3",
   "version": "3.8.13"
  },
  "papermill": {
   "default_parameters": {},
   "duration": 1561.472184,
   "end_time": "2022-07-11T07:51:51.221722",
   "environment_variables": {},
   "exception": null,
   "input_path": "nbs/15_gsa_gls/10-gene_expr_correlations.ipynb",
   "output_path": "nbs/15_gsa_gls/gene_corrs/1000g/mashr/10-gene_expr_correlations-chr17.run.ipynb",
   "parameters": {
    "EQTL_MODEL": "MASHR",
    "REFERENCE_PANEL": "1000G",
    "chromosome": 17
   },
   "start_time": "2022-07-11T07:25:49.749538",
   "version": "2.2.2"
  }
 },
 "nbformat": 4,
 "nbformat_minor": 5
}
