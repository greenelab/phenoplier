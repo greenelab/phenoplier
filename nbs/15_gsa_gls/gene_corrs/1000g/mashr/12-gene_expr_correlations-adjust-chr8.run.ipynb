{
 "cells": [
  {
   "cell_type": "markdown",
   "id": "28fc82fa-c3f6-4184-8054-cc91c7c6e2e7",
   "metadata": {
    "papermill": {
     "duration": 0.003837,
     "end_time": "2022-07-12T13:07:14.647900",
     "exception": false,
     "start_time": "2022-07-12T13:07:14.644063",
     "status": "completed"
    },
    "tags": []
   },
   "source": [
    "# Description"
   ]
  },
  {
   "cell_type": "markdown",
   "id": "36839b17-916e-4aec-8fee-96faf1097e78",
   "metadata": {
    "papermill": {
     "duration": 0.003192,
     "end_time": "2022-07-12T13:07:14.654317",
     "exception": false,
     "start_time": "2022-07-12T13:07:14.651125",
     "status": "completed"
    },
    "tags": []
   },
   "source": [
    "**TODO**"
   ]
  },
  {
   "cell_type": "markdown",
   "id": "249e8aa3-ef1a-4bba-a6dd-58120ad80794",
   "metadata": {
    "papermill": {
     "duration": 0.003237,
     "end_time": "2022-07-12T13:07:14.661120",
     "exception": false,
     "start_time": "2022-07-12T13:07:14.657883",
     "status": "completed"
    },
    "tags": []
   },
   "source": [
    "# Modules"
   ]
  },
  {
   "cell_type": "code",
   "execution_count": 1,
   "id": "f9b5022b-7c5e-4d37-9c7a-fdb91777c7f9",
   "metadata": {
    "execution": {
     "iopub.execute_input": "2022-07-12T13:07:14.693663Z",
     "iopub.status.busy": "2022-07-12T13:07:14.692051Z",
     "iopub.status.idle": "2022-07-12T13:07:18.083669Z",
     "shell.execute_reply": "2022-07-12T13:07:18.082274Z"
    },
    "papermill": {
     "duration": 3.421239,
     "end_time": "2022-07-12T13:07:18.085735",
     "exception": false,
     "start_time": "2022-07-12T13:07:14.664496",
     "status": "completed"
    },
    "tags": []
   },
   "outputs": [],
   "source": [
    "library(reticulate)\n",
    "pd <- import(\"pandas\")"
   ]
  },
  {
   "cell_type": "markdown",
   "id": "69e80173-3a39-4b6a-b723-602687cb255b",
   "metadata": {
    "papermill": {
     "duration": 0.003439,
     "end_time": "2022-07-12T13:07:18.092645",
     "exception": false,
     "start_time": "2022-07-12T13:07:18.089206",
     "status": "completed"
    },
    "tags": []
   },
   "source": [
    "# Settings"
   ]
  },
  {
   "cell_type": "code",
   "execution_count": 2,
   "id": "22d12bb4-1699-4a6b-b1b9-d3fdd3d547d7",
   "metadata": {
    "execution": {
     "iopub.execute_input": "2022-07-12T13:07:18.125570Z",
     "iopub.status.busy": "2022-07-12T13:07:18.101028Z",
     "iopub.status.idle": "2022-07-12T13:07:18.139394Z",
     "shell.execute_reply": "2022-07-12T13:07:18.138119Z"
    },
    "papermill": {
     "duration": 0.045124,
     "end_time": "2022-07-12T13:07:18.141437",
     "exception": false,
     "start_time": "2022-07-12T13:07:18.096313",
     "status": "completed"
    },
    "tags": [
     "parameters"
    ]
   },
   "outputs": [],
   "source": [
    "# reference panel\n",
    "REFERENCE_PANEL <- \"GTEX_V8\"\n",
    "# REFERENCE_PANEL = \"1000G\"\n",
    "\n",
    "# prediction models\n",
    "## mashr\n",
    "EQTL_MODEL <- \"MASHR\"\n",
    "\n",
    "chromosome <- NULL"
   ]
  },
  {
   "cell_type": "code",
   "execution_count": 3,
   "id": "ae503010",
   "metadata": {
    "execution": {
     "iopub.execute_input": "2022-07-12T13:07:18.151692Z",
     "iopub.status.busy": "2022-07-12T13:07:18.150402Z",
     "iopub.status.idle": "2022-07-12T13:07:18.170764Z",
     "shell.execute_reply": "2022-07-12T13:07:18.169474Z"
    },
    "papermill": {
     "duration": 0.027488,
     "end_time": "2022-07-12T13:07:18.172636",
     "exception": false,
     "start_time": "2022-07-12T13:07:18.145148",
     "status": "completed"
    },
    "tags": [
     "injected-parameters"
    ]
   },
   "outputs": [],
   "source": [
    "# Parameters\n",
    "chromosome = 8\n",
    "REFERENCE_PANEL = \"1000G\"\n",
    "EQTL_MODEL = \"MASHR\"\n"
   ]
  },
  {
   "cell_type": "code",
   "execution_count": 4,
   "id": "8fe24bef",
   "metadata": {
    "execution": {
     "iopub.execute_input": "2022-07-12T13:07:18.182298Z",
     "iopub.status.busy": "2022-07-12T13:07:18.181161Z",
     "iopub.status.idle": "2022-07-12T13:07:18.195118Z",
     "shell.execute_reply": "2022-07-12T13:07:18.193790Z"
    },
    "papermill": {
     "duration": 0.020669,
     "end_time": "2022-07-12T13:07:18.197016",
     "exception": false,
     "start_time": "2022-07-12T13:07:18.176347",
     "status": "completed"
    },
    "tags": []
   },
   "outputs": [
    {
     "data": {
      "text/html": [
       "'Using reference panel: 1000G'"
      ],
      "text/latex": [
       "'Using reference panel: 1000G'"
      ],
      "text/markdown": [
       "'Using reference panel: 1000G'"
      ],
      "text/plain": [
       "[1] \"Using reference panel: 1000G\""
      ]
     },
     "metadata": {},
     "output_type": "display_data"
    }
   ],
   "source": [
    "paste0(\"Using reference panel: \", REFERENCE_PANEL)"
   ]
  },
  {
   "cell_type": "code",
   "execution_count": 5,
   "id": "d62c28f8-186c-478b-948c-58e14f00df4b",
   "metadata": {
    "execution": {
     "iopub.execute_input": "2022-07-12T13:07:18.207960Z",
     "iopub.status.busy": "2022-07-12T13:07:18.206706Z",
     "iopub.status.idle": "2022-07-12T13:07:18.219856Z",
     "shell.execute_reply": "2022-07-12T13:07:18.218538Z"
    },
    "papermill": {
     "duration": 0.020185,
     "end_time": "2022-07-12T13:07:18.221616",
     "exception": false,
     "start_time": "2022-07-12T13:07:18.201431",
     "status": "completed"
    },
    "tags": []
   },
   "outputs": [
    {
     "data": {
      "text/html": [
       "'Using eQTL model: MASHR'"
      ],
      "text/latex": [
       "'Using eQTL model: MASHR'"
      ],
      "text/markdown": [
       "'Using eQTL model: MASHR'"
      ],
      "text/plain": [
       "[1] \"Using eQTL model: MASHR\""
      ]
     },
     "metadata": {},
     "output_type": "display_data"
    }
   ],
   "source": [
    "paste0(\"Using eQTL model: \", EQTL_MODEL)"
   ]
  },
  {
   "cell_type": "code",
   "execution_count": 6,
   "id": "5243676f-c889-4405-9a4d-262f0f044614",
   "metadata": {
    "execution": {
     "iopub.execute_input": "2022-07-12T13:07:18.232027Z",
     "iopub.status.busy": "2022-07-12T13:07:18.230820Z",
     "iopub.status.idle": "2022-07-12T13:07:18.241111Z",
     "shell.execute_reply": "2022-07-12T13:07:18.239787Z"
    },
    "papermill": {
     "duration": 0.017561,
     "end_time": "2022-07-12T13:07:18.243141",
     "exception": false,
     "start_time": "2022-07-12T13:07:18.225580",
     "status": "completed"
    },
    "tags": []
   },
   "outputs": [],
   "source": [
    "# chromosome must be provided as parameter\n",
    "stopifnot(!is.null(chromosome))"
   ]
  },
  {
   "cell_type": "markdown",
   "id": "c05e4d34-e115-48cd-8a2e-225109eb0042",
   "metadata": {
    "papermill": {
     "duration": 0.003915,
     "end_time": "2022-07-12T13:07:18.251245",
     "exception": false,
     "start_time": "2022-07-12T13:07:18.247330",
     "status": "completed"
    },
    "tags": []
   },
   "source": [
    "# Paths"
   ]
  },
  {
   "cell_type": "code",
   "execution_count": 7,
   "id": "eb6aa8aa-b452-4a2f-a780-93dd80ad4285",
   "metadata": {
    "execution": {
     "iopub.execute_input": "2022-07-12T13:07:18.261496Z",
     "iopub.status.busy": "2022-07-12T13:07:18.260333Z",
     "iopub.status.idle": "2022-07-12T13:07:18.273994Z",
     "shell.execute_reply": "2022-07-12T13:07:18.272714Z"
    },
    "papermill": {
     "duration": 0.021453,
     "end_time": "2022-07-12T13:07:18.276665",
     "exception": false,
     "start_time": "2022-07-12T13:07:18.255212",
     "status": "completed"
    },
    "tags": []
   },
   "outputs": [
    {
     "data": {
      "text/html": [
       "'/opt/data/data/phenomexcan/ld_blocks/gene_corrs'"
      ],
      "text/latex": [
       "'/opt/data/data/phenomexcan/ld\\_blocks/gene\\_corrs'"
      ],
      "text/markdown": [
       "'/opt/data/data/phenomexcan/ld_blocks/gene_corrs'"
      ],
      "text/plain": [
       "[1] \"/opt/data/data/phenomexcan/ld_blocks/gene_corrs\""
      ]
     },
     "metadata": {},
     "output_type": "display_data"
    }
   ],
   "source": [
    "GENE_CORRS_DIR <- Sys.getenv(\"PHENOPLIER_PHENOMEXCAN_LD_BLOCKS_GENE_CORRS_DIR\")\n",
    "IRdisplay::display(GENE_CORRS_DIR)"
   ]
  },
  {
   "cell_type": "code",
   "execution_count": 8,
   "id": "eb24f15f-f282-4476-8943-8413c4483f12",
   "metadata": {
    "execution": {
     "iopub.execute_input": "2022-07-12T13:07:18.287124Z",
     "iopub.status.busy": "2022-07-12T13:07:18.286020Z",
     "iopub.status.idle": "2022-07-12T13:07:18.299695Z",
     "shell.execute_reply": "2022-07-12T13:07:18.298233Z"
    },
    "papermill": {
     "duration": 0.020579,
     "end_time": "2022-07-12T13:07:18.301491",
     "exception": false,
     "start_time": "2022-07-12T13:07:18.280912",
     "status": "completed"
    },
    "tags": []
   },
   "outputs": [
    {
     "data": {
      "text/html": [
       "'/opt/data/data/phenomexcan/ld_blocks/gene_corrs/1000g/mashr/by_chr'"
      ],
      "text/latex": [
       "'/opt/data/data/phenomexcan/ld\\_blocks/gene\\_corrs/1000g/mashr/by\\_chr'"
      ],
      "text/markdown": [
       "'/opt/data/data/phenomexcan/ld_blocks/gene_corrs/1000g/mashr/by_chr'"
      ],
      "text/plain": [
       "[1] \"/opt/data/data/phenomexcan/ld_blocks/gene_corrs/1000g/mashr/by_chr\""
      ]
     },
     "metadata": {},
     "output_type": "display_data"
    }
   ],
   "source": [
    "INPUT_DIR <- file.path(GENE_CORRS_DIR, tolower(REFERENCE_PANEL), tolower(EQTL_MODEL), \"by_chr\")\n",
    "IRdisplay::display(INPUT_DIR)"
   ]
  },
  {
   "cell_type": "code",
   "execution_count": 9,
   "id": "43c1daba-0da9-4822-8d1e-968e9767e251",
   "metadata": {
    "execution": {
     "iopub.execute_input": "2022-07-12T13:07:18.312554Z",
     "iopub.status.busy": "2022-07-12T13:07:18.311435Z",
     "iopub.status.idle": "2022-07-12T13:07:18.327165Z",
     "shell.execute_reply": "2022-07-12T13:07:18.325901Z"
    },
    "papermill": {
     "duration": 0.023005,
     "end_time": "2022-07-12T13:07:18.329142",
     "exception": false,
     "start_time": "2022-07-12T13:07:18.306137",
     "status": "completed"
    },
    "tags": []
   },
   "outputs": [
    {
     "data": {
      "text/html": [
       "'/opt/data/data/phenomexcan/ld_blocks/gene_corrs/1000g/mashr/by_chr/gene_corrs-chr8.pkl'"
      ],
      "text/latex": [
       "'/opt/data/data/phenomexcan/ld\\_blocks/gene\\_corrs/1000g/mashr/by\\_chr/gene\\_corrs-chr8.pkl'"
      ],
      "text/markdown": [
       "'/opt/data/data/phenomexcan/ld_blocks/gene_corrs/1000g/mashr/by_chr/gene_corrs-chr8.pkl'"
      ],
      "text/plain": [
       "[1] \"/opt/data/data/phenomexcan/ld_blocks/gene_corrs/1000g/mashr/by_chr/gene_corrs-chr8.pkl\""
      ]
     },
     "metadata": {},
     "output_type": "display_data"
    }
   ],
   "source": [
    "INPUT_FILE <- file.path(INPUT_DIR, paste0(\"gene_corrs-chr\", chromosome, \".pkl\"))\n",
    "IRdisplay::display(INPUT_FILE)\n",
    "stopifnot(file.exists(INPUT_FILE))"
   ]
  },
  {
   "cell_type": "code",
   "execution_count": 10,
   "id": "72386fbf-982b-420a-9057-ea9a97a5e571",
   "metadata": {
    "execution": {
     "iopub.execute_input": "2022-07-12T13:07:18.340300Z",
     "iopub.status.busy": "2022-07-12T13:07:18.339135Z",
     "iopub.status.idle": "2022-07-12T13:07:18.353959Z",
     "shell.execute_reply": "2022-07-12T13:07:18.352705Z"
    },
    "papermill": {
     "duration": 0.021974,
     "end_time": "2022-07-12T13:07:18.355718",
     "exception": false,
     "start_time": "2022-07-12T13:07:18.333744",
     "status": "completed"
    },
    "tags": []
   },
   "outputs": [
    {
     "data": {
      "text/html": [
       "'/opt/data/data/phenomexcan/ld_blocks/gene_corrs/1000g/mashr/by_chr/corrected_positive_definite'"
      ],
      "text/latex": [
       "'/opt/data/data/phenomexcan/ld\\_blocks/gene\\_corrs/1000g/mashr/by\\_chr/corrected\\_positive\\_definite'"
      ],
      "text/markdown": [
       "'/opt/data/data/phenomexcan/ld_blocks/gene_corrs/1000g/mashr/by_chr/corrected_positive_definite'"
      ],
      "text/plain": [
       "[1] \"/opt/data/data/phenomexcan/ld_blocks/gene_corrs/1000g/mashr/by_chr/corrected_positive_definite\""
      ]
     },
     "metadata": {},
     "output_type": "display_data"
    }
   ],
   "source": [
    "OUTPUT_DIR <- file.path(INPUT_DIR, \"corrected_positive_definite\")\n",
    "IRdisplay::display(OUTPUT_DIR)\n",
    "dir.create(OUTPUT_DIR, recursive = TRUE, showWarnings = FALSE)"
   ]
  },
  {
   "cell_type": "code",
   "execution_count": 11,
   "id": "f9f19d1d-ce4c-4099-a26e-250fec751de7",
   "metadata": {
    "execution": {
     "iopub.execute_input": "2022-07-12T13:07:18.366725Z",
     "iopub.status.busy": "2022-07-12T13:07:18.365673Z",
     "iopub.status.idle": "2022-07-12T13:07:18.386385Z",
     "shell.execute_reply": "2022-07-12T13:07:18.385233Z"
    },
    "papermill": {
     "duration": 0.027686,
     "end_time": "2022-07-12T13:07:18.387898",
     "exception": false,
     "start_time": "2022-07-12T13:07:18.360212",
     "status": "completed"
    },
    "tags": []
   },
   "outputs": [
    {
     "data": {
      "text/html": [
       "'/opt/data/data/phenomexcan/ld_blocks/gene_corrs/1000g/mashr/by_chr/corrected_positive_definite/gene_corrs-chr8.pkl'"
      ],
      "text/latex": [
       "'/opt/data/data/phenomexcan/ld\\_blocks/gene\\_corrs/1000g/mashr/by\\_chr/corrected\\_positive\\_definite/gene\\_corrs-chr8.pkl'"
      ],
      "text/markdown": [
       "'/opt/data/data/phenomexcan/ld_blocks/gene_corrs/1000g/mashr/by_chr/corrected_positive_definite/gene_corrs-chr8.pkl'"
      ],
      "text/plain": [
       "[1] \"/opt/data/data/phenomexcan/ld_blocks/gene_corrs/1000g/mashr/by_chr/corrected_positive_definite/gene_corrs-chr8.pkl\""
      ]
     },
     "metadata": {},
     "output_type": "display_data"
    }
   ],
   "source": [
    "OUTPUT_FILE <- file.path(OUTPUT_DIR, paste0(\"gene_corrs-chr\", chromosome, \".pkl\"))\n",
    "IRdisplay::display(OUTPUT_FILE)\n",
    "if (file.exists(OUTPUT_FILE)) {\n",
    "  IRdisplay::display(\"Output file exists, it will be overwritten\")\n",
    "}"
   ]
  },
  {
   "cell_type": "markdown",
   "id": "24973e62-e888-4b56-843f-489d8d0762b5",
   "metadata": {
    "papermill": {
     "duration": 0.004286,
     "end_time": "2022-07-12T13:07:18.397575",
     "exception": false,
     "start_time": "2022-07-12T13:07:18.393289",
     "status": "completed"
    },
    "tags": []
   },
   "source": [
    "# Functions"
   ]
  },
  {
   "cell_type": "code",
   "execution_count": 12,
   "id": "f828f081-7358-4cc8-8a89-1ee293bcc1a7",
   "metadata": {
    "execution": {
     "iopub.execute_input": "2022-07-12T13:07:18.411139Z",
     "iopub.status.busy": "2022-07-12T13:07:18.407119Z",
     "iopub.status.idle": "2022-07-12T13:07:18.422134Z",
     "shell.execute_reply": "2022-07-12T13:07:18.420089Z"
    },
    "papermill": {
     "duration": 0.021893,
     "end_time": "2022-07-12T13:07:18.423856",
     "exception": false,
     "start_time": "2022-07-12T13:07:18.401963",
     "status": "completed"
    },
    "tags": []
   },
   "outputs": [],
   "source": [
    "# taken from https://www.r-bloggers.com/2013/08/correcting-a-pseudo-correlation-matrix-to-be-positive-semidefinite/\n",
    "# TODO: add documentation\n",
    "CorrectCM <- function(CM, p = 0) {\n",
    "  n <- dim(var(CM))[1L]\n",
    "  E <- eigen(CM)\n",
    "  CM1 <- E$vectors %*% tcrossprod(diag(pmax(E$values, p), n), E$vectors)\n",
    "  Balance <- diag(1 / sqrt(diag(CM1)))\n",
    "  CM2 <- Balance %*% CM1 %*% Balance\n",
    "  return(CM2)\n",
    "}"
   ]
  },
  {
   "cell_type": "code",
   "execution_count": 13,
   "id": "7ab9bebf-50a1-4e6f-b16a-e23cae93d02a",
   "metadata": {
    "execution": {
     "iopub.execute_input": "2022-07-12T13:07:18.434490Z",
     "iopub.status.busy": "2022-07-12T13:07:18.433432Z",
     "iopub.status.idle": "2022-07-12T13:07:18.444542Z",
     "shell.execute_reply": "2022-07-12T13:07:18.442541Z"
    },
    "papermill": {
     "duration": 0.017963,
     "end_time": "2022-07-12T13:07:18.446266",
     "exception": false,
     "start_time": "2022-07-12T13:07:18.428303",
     "status": "completed"
    },
    "tags": []
   },
   "outputs": [],
   "source": [
    "is_positive_definite <- function(data) {\n",
    "  # eigenvalues <- eigen(data)$values\n",
    "  # nonpositive_eigenvalues <- eigenvalues[eigenvalues <= 0]\n",
    "\n",
    "  cholStatus <- try(u <- chol(data), silent = FALSE)\n",
    "  cholError <- ifelse(class(cholStatus) == \"try-error\", TRUE, FALSE)\n",
    "\n",
    "  if (cholError) {\n",
    "    return(FALSE)\n",
    "  } else {\n",
    "    return(TRUE)\n",
    "  }\n",
    "}"
   ]
  },
  {
   "cell_type": "markdown",
   "id": "7403fd78-00b2-4941-9c07-3c3af1ddc636",
   "metadata": {
    "papermill": {
     "duration": 0.004031,
     "end_time": "2022-07-12T13:07:18.455234",
     "exception": false,
     "start_time": "2022-07-12T13:07:18.451203",
     "status": "completed"
    },
    "tags": []
   },
   "source": [
    "# Load data"
   ]
  },
  {
   "cell_type": "code",
   "execution_count": 14,
   "id": "3a7744e1-2e5a-450e-9dcf-945ec181347d",
   "metadata": {
    "execution": {
     "iopub.execute_input": "2022-07-12T13:07:18.465244Z",
     "iopub.status.busy": "2022-07-12T13:07:18.464222Z",
     "iopub.status.idle": "2022-07-12T13:07:18.503281Z",
     "shell.execute_reply": "2022-07-12T13:07:18.502071Z"
    },
    "papermill": {
     "duration": 0.045759,
     "end_time": "2022-07-12T13:07:18.505014",
     "exception": false,
     "start_time": "2022-07-12T13:07:18.459255",
     "status": "completed"
    },
    "tags": []
   },
   "outputs": [],
   "source": [
    "gene_corrs <- pd$read_pickle(INPUT_FILE)"
   ]
  },
  {
   "cell_type": "code",
   "execution_count": 15,
   "id": "6fb150b2-4c68-4e9b-9aa5-1890d3f762e3",
   "metadata": {
    "execution": {
     "iopub.execute_input": "2022-07-12T13:07:18.516221Z",
     "iopub.status.busy": "2022-07-12T13:07:18.515202Z",
     "iopub.status.idle": "2022-07-12T13:07:18.526287Z",
     "shell.execute_reply": "2022-07-12T13:07:18.525106Z"
    },
    "papermill": {
     "duration": 0.018253,
     "end_time": "2022-07-12T13:07:18.527988",
     "exception": false,
     "start_time": "2022-07-12T13:07:18.509735",
     "status": "completed"
    },
    "tags": []
   },
   "outputs": [
    {
     "data": {
      "text/html": [
       "<style>\n",
       ".list-inline {list-style: none; margin:0; padding: 0}\n",
       ".list-inline>li {display: inline-block}\n",
       ".list-inline>li:not(:last-child)::after {content: \"\\00b7\"; padding: 0 .5ex}\n",
       "</style>\n",
       "<ol class=list-inline><li>222</li><li>222</li></ol>\n"
      ],
      "text/latex": [
       "\\begin{enumerate*}\n",
       "\\item 222\n",
       "\\item 222\n",
       "\\end{enumerate*}\n"
      ],
      "text/markdown": [
       "1. 222\n",
       "2. 222\n",
       "\n",
       "\n"
      ],
      "text/plain": [
       "[1] 222 222"
      ]
     },
     "metadata": {},
     "output_type": "display_data"
    }
   ],
   "source": [
    "dim(gene_corrs)"
   ]
  },
  {
   "cell_type": "code",
   "execution_count": 16,
   "id": "0d4e53b5-7586-4a68-8ce5-d930d74ba943",
   "metadata": {
    "execution": {
     "iopub.execute_input": "2022-07-12T13:07:18.539139Z",
     "iopub.status.busy": "2022-07-12T13:07:18.538158Z",
     "iopub.status.idle": "2022-07-12T13:07:18.557565Z",
     "shell.execute_reply": "2022-07-12T13:07:18.556396Z"
    },
    "papermill": {
     "duration": 0.026694,
     "end_time": "2022-07-12T13:07:18.559249",
     "exception": false,
     "start_time": "2022-07-12T13:07:18.532555",
     "status": "completed"
    },
    "tags": []
   },
   "outputs": [
    {
     "data": {
      "text/html": [
       "<table class=\"dataframe\">\n",
       "<caption>A data.frame: 6 × 10</caption>\n",
       "<thead>\n",
       "\t<tr><th></th><th scope=col>ENSG00000172748</th><th scope=col>ENSG00000182372</th><th scope=col>ENSG00000104728</th><th scope=col>ENSG00000036448</th><th scope=col>ENSG00000091879</th><th scope=col>ENSG00000155189</th><th scope=col>ENSG00000164821</th><th scope=col>ENSG00000253958</th><th scope=col>ENSG00000147324</th><th scope=col>ENSG00000173281</th></tr>\n",
       "\t<tr><th></th><th scope=col>&lt;dbl&gt;</th><th scope=col>&lt;dbl&gt;</th><th scope=col>&lt;dbl&gt;</th><th scope=col>&lt;dbl&gt;</th><th scope=col>&lt;dbl&gt;</th><th scope=col>&lt;dbl&gt;</th><th scope=col>&lt;dbl&gt;</th><th scope=col>&lt;dbl&gt;</th><th scope=col>&lt;dbl&gt;</th><th scope=col>&lt;dbl&gt;</th></tr>\n",
       "</thead>\n",
       "<tbody>\n",
       "\t<tr><th scope=row>ENSG00000172748</th><td>1.000000000</td><td>0.008853935</td><td>0.01836769</td><td>0.01572429</td><td>0.01196533</td><td>0.010225220</td><td>0.007858386</td><td>0.009695046</td><td>0.006447426</td><td>0.008447318</td></tr>\n",
       "\t<tr><th scope=row>ENSG00000182372</th><td>0.008853935</td><td>1.000000000</td><td>0.17912947</td><td>0.01478453</td><td>0.01125310</td><td>0.007711279</td><td>0.002467017</td><td>0.007929904</td><td>0.007764151</td><td>0.007041533</td></tr>\n",
       "\t<tr><th scope=row>ENSG00000104728</th><td>0.018367689</td><td>0.179129474</td><td>1.00000000</td><td>0.03891132</td><td>0.01848739</td><td>0.021773268</td><td>0.014438341</td><td>0.020036015</td><td>0.021818400</td><td>0.019016570</td></tr>\n",
       "\t<tr><th scope=row>ENSG00000036448</th><td>0.015724286</td><td>0.014784531</td><td>0.03891132</td><td>1.00000000</td><td>0.01444430</td><td>0.013368289</td><td>0.015180218</td><td>0.011154435</td><td>0.012420674</td><td>0.013131246</td></tr>\n",
       "\t<tr><th scope=row>ENSG00000091879</th><td>0.011965331</td><td>0.011253100</td><td>0.01848739</td><td>0.01444430</td><td>1.00000000</td><td>0.090979903</td><td>0.029293590</td><td>0.007554054</td><td>0.011895574</td><td>0.017695697</td></tr>\n",
       "\t<tr><th scope=row>ENSG00000155189</th><td>0.010225220</td><td>0.007711279</td><td>0.02177327</td><td>0.01336829</td><td>0.09097990</td><td>1.000000000</td><td>0.017807867</td><td>0.012524123</td><td>0.013369740</td><td>0.007142877</td></tr>\n",
       "</tbody>\n",
       "</table>\n"
      ],
      "text/latex": [
       "A data.frame: 6 × 10\n",
       "\\begin{tabular}{r|llllllllll}\n",
       "  & ENSG00000172748 & ENSG00000182372 & ENSG00000104728 & ENSG00000036448 & ENSG00000091879 & ENSG00000155189 & ENSG00000164821 & ENSG00000253958 & ENSG00000147324 & ENSG00000173281\\\\\n",
       "  & <dbl> & <dbl> & <dbl> & <dbl> & <dbl> & <dbl> & <dbl> & <dbl> & <dbl> & <dbl>\\\\\n",
       "\\hline\n",
       "\tENSG00000172748 & 1.000000000 & 0.008853935 & 0.01836769 & 0.01572429 & 0.01196533 & 0.010225220 & 0.007858386 & 0.009695046 & 0.006447426 & 0.008447318\\\\\n",
       "\tENSG00000182372 & 0.008853935 & 1.000000000 & 0.17912947 & 0.01478453 & 0.01125310 & 0.007711279 & 0.002467017 & 0.007929904 & 0.007764151 & 0.007041533\\\\\n",
       "\tENSG00000104728 & 0.018367689 & 0.179129474 & 1.00000000 & 0.03891132 & 0.01848739 & 0.021773268 & 0.014438341 & 0.020036015 & 0.021818400 & 0.019016570\\\\\n",
       "\tENSG00000036448 & 0.015724286 & 0.014784531 & 0.03891132 & 1.00000000 & 0.01444430 & 0.013368289 & 0.015180218 & 0.011154435 & 0.012420674 & 0.013131246\\\\\n",
       "\tENSG00000091879 & 0.011965331 & 0.011253100 & 0.01848739 & 0.01444430 & 1.00000000 & 0.090979903 & 0.029293590 & 0.007554054 & 0.011895574 & 0.017695697\\\\\n",
       "\tENSG00000155189 & 0.010225220 & 0.007711279 & 0.02177327 & 0.01336829 & 0.09097990 & 1.000000000 & 0.017807867 & 0.012524123 & 0.013369740 & 0.007142877\\\\\n",
       "\\end{tabular}\n"
      ],
      "text/markdown": [
       "\n",
       "A data.frame: 6 × 10\n",
       "\n",
       "| <!--/--> | ENSG00000172748 &lt;dbl&gt; | ENSG00000182372 &lt;dbl&gt; | ENSG00000104728 &lt;dbl&gt; | ENSG00000036448 &lt;dbl&gt; | ENSG00000091879 &lt;dbl&gt; | ENSG00000155189 &lt;dbl&gt; | ENSG00000164821 &lt;dbl&gt; | ENSG00000253958 &lt;dbl&gt; | ENSG00000147324 &lt;dbl&gt; | ENSG00000173281 &lt;dbl&gt; |\n",
       "|---|---|---|---|---|---|---|---|---|---|---|\n",
       "| ENSG00000172748 | 1.000000000 | 0.008853935 | 0.01836769 | 0.01572429 | 0.01196533 | 0.010225220 | 0.007858386 | 0.009695046 | 0.006447426 | 0.008447318 |\n",
       "| ENSG00000182372 | 0.008853935 | 1.000000000 | 0.17912947 | 0.01478453 | 0.01125310 | 0.007711279 | 0.002467017 | 0.007929904 | 0.007764151 | 0.007041533 |\n",
       "| ENSG00000104728 | 0.018367689 | 0.179129474 | 1.00000000 | 0.03891132 | 0.01848739 | 0.021773268 | 0.014438341 | 0.020036015 | 0.021818400 | 0.019016570 |\n",
       "| ENSG00000036448 | 0.015724286 | 0.014784531 | 0.03891132 | 1.00000000 | 0.01444430 | 0.013368289 | 0.015180218 | 0.011154435 | 0.012420674 | 0.013131246 |\n",
       "| ENSG00000091879 | 0.011965331 | 0.011253100 | 0.01848739 | 0.01444430 | 1.00000000 | 0.090979903 | 0.029293590 | 0.007554054 | 0.011895574 | 0.017695697 |\n",
       "| ENSG00000155189 | 0.010225220 | 0.007711279 | 0.02177327 | 0.01336829 | 0.09097990 | 1.000000000 | 0.017807867 | 0.012524123 | 0.013369740 | 0.007142877 |\n",
       "\n"
      ],
      "text/plain": [
       "                ENSG00000172748 ENSG00000182372 ENSG00000104728 ENSG00000036448\n",
       "ENSG00000172748 1.000000000     0.008853935     0.01836769      0.01572429     \n",
       "ENSG00000182372 0.008853935     1.000000000     0.17912947      0.01478453     \n",
       "ENSG00000104728 0.018367689     0.179129474     1.00000000      0.03891132     \n",
       "ENSG00000036448 0.015724286     0.014784531     0.03891132      1.00000000     \n",
       "ENSG00000091879 0.011965331     0.011253100     0.01848739      0.01444430     \n",
       "ENSG00000155189 0.010225220     0.007711279     0.02177327      0.01336829     \n",
       "                ENSG00000091879 ENSG00000155189 ENSG00000164821 ENSG00000253958\n",
       "ENSG00000172748 0.01196533      0.010225220     0.007858386     0.009695046    \n",
       "ENSG00000182372 0.01125310      0.007711279     0.002467017     0.007929904    \n",
       "ENSG00000104728 0.01848739      0.021773268     0.014438341     0.020036015    \n",
       "ENSG00000036448 0.01444430      0.013368289     0.015180218     0.011154435    \n",
       "ENSG00000091879 1.00000000      0.090979903     0.029293590     0.007554054    \n",
       "ENSG00000155189 0.09097990      1.000000000     0.017807867     0.012524123    \n",
       "                ENSG00000147324 ENSG00000173281\n",
       "ENSG00000172748 0.006447426     0.008447318    \n",
       "ENSG00000182372 0.007764151     0.007041533    \n",
       "ENSG00000104728 0.021818400     0.019016570    \n",
       "ENSG00000036448 0.012420674     0.013131246    \n",
       "ENSG00000091879 0.011895574     0.017695697    \n",
       "ENSG00000155189 0.013369740     0.007142877    "
      ]
     },
     "metadata": {},
     "output_type": "display_data"
    }
   ],
   "source": [
    "head(gene_corrs[1:10, 1:10])"
   ]
  },
  {
   "cell_type": "markdown",
   "id": "d6cbc88a-2c90-4d11-b7dd-434f046fd03c",
   "metadata": {
    "papermill": {
     "duration": 0.004484,
     "end_time": "2022-07-12T13:07:18.568374",
     "exception": false,
     "start_time": "2022-07-12T13:07:18.563890",
     "status": "completed"
    },
    "tags": []
   },
   "source": [
    "# Check positive definiteness"
   ]
  },
  {
   "cell_type": "code",
   "execution_count": 17,
   "id": "a858a061-7c5a-4a6b-8026-fe4de50c1f26",
   "metadata": {
    "execution": {
     "iopub.execute_input": "2022-07-12T13:07:18.579248Z",
     "iopub.status.busy": "2022-07-12T13:07:18.578287Z",
     "iopub.status.idle": "2022-07-12T13:07:18.589178Z",
     "shell.execute_reply": "2022-07-12T13:07:18.587957Z"
    },
    "papermill": {
     "duration": 0.017809,
     "end_time": "2022-07-12T13:07:18.590747",
     "exception": false,
     "start_time": "2022-07-12T13:07:18.572938",
     "status": "completed"
    },
    "tags": []
   },
   "outputs": [],
   "source": [
    "orig_matrix_is_positive_definite <- is_positive_definite(gene_corrs)"
   ]
  },
  {
   "cell_type": "code",
   "execution_count": 18,
   "id": "410ee452-488f-4518-b93a-2acd608ba99c",
   "metadata": {
    "execution": {
     "iopub.execute_input": "2022-07-12T13:07:18.601652Z",
     "iopub.status.busy": "2022-07-12T13:07:18.600699Z",
     "iopub.status.idle": "2022-07-12T13:07:18.615362Z",
     "shell.execute_reply": "2022-07-12T13:07:18.613986Z"
    },
    "papermill": {
     "duration": 0.0218,
     "end_time": "2022-07-12T13:07:18.617021",
     "exception": false,
     "start_time": "2022-07-12T13:07:18.595221",
     "status": "completed"
    },
    "tags": []
   },
   "outputs": [
    {
     "data": {
      "text/html": [
       "'Matrix is already positive definite!'"
      ],
      "text/latex": [
       "'Matrix is already positive definite!'"
      ],
      "text/markdown": [
       "'Matrix is already positive definite!'"
      ],
      "text/plain": [
       "[1] \"Matrix is already positive definite!\""
      ]
     },
     "metadata": {},
     "output_type": "display_data"
    },
    {
     "data": {
      "text/html": [
       "TRUE"
      ],
      "text/latex": [
       "TRUE"
      ],
      "text/markdown": [
       "TRUE"
      ],
      "text/plain": [
       "[1] TRUE"
      ]
     },
     "metadata": {},
     "output_type": "display_data"
    }
   ],
   "source": [
    "if (orig_matrix_is_positive_definite) {\n",
    "  IRdisplay::display(\"Matrix is already positive definite!\")\n",
    "  file.copy(INPUT_FILE, OUTPUT_FILE)\n",
    "} else {\n",
    "  IRdisplay::display(\"We need to correct the data and make the matrix positive definite\")\n",
    "\n",
    "  eigenvalues <- eigen(gene_corrs)$values\n",
    "  nonpositive_eigenvalues <- eigenvalues[eigenvalues <= 0]\n",
    "  IRdisplay::display(length(nonpositive_eigenvalues))\n",
    "  IRdisplay::display(nonpositive_eigenvalues)\n",
    "\n",
    "  # Make matrix positive definite\n",
    "  gene_corrs_corrected <- CorrectCM(gene_corrs, 1e-10)\n",
    "  dimnames(gene_corrs_corrected)[[1]] <- rownames(gene_corrs)\n",
    "  dimnames(gene_corrs_corrected)[[2]] <- colnames(gene_corrs)\n",
    "  gene_corrs_corrected <- as.data.frame(gene_corrs_corrected)\n",
    "\n",
    "  # check if new matrix is really positive definite\n",
    "  matrix_is_positive_definite <- is_positive_definite(gene_corrs_corrected)\n",
    "  if (matrix_is_positive_definite) {\n",
    "    IRdisplay::display(\"It worked!\")\n",
    "    IRdisplay::display(head(gene_corrs[1:10, 1:10]))\n",
    "    IRdisplay::display(head(gene_corrs_corrected[1:10, 1:10]))\n",
    "    py_save_object(gene_corrs_corrected, OUTPUT_FILE)\n",
    "  } else {\n",
    "    eigenvalues <- eigen(gene_corrs_corrected)$values\n",
    "    nonpositive_eigenvalues <- eigenvalues[eigenvalues <= 0]\n",
    "    IRdisplay::display(length(nonpositive_eigenvalues))\n",
    "    IRdisplay::display(nonpositive_eigenvalues)\n",
    "\n",
    "    stop(\"Method failed to adjust matrix\")\n",
    "  }\n",
    "}"
   ]
  },
  {
   "cell_type": "markdown",
   "id": "6c196700-7491-462f-bab8-ab9d40c63499",
   "metadata": {
    "papermill": {
     "duration": 0.005599,
     "end_time": "2022-07-12T13:07:18.627890",
     "exception": false,
     "start_time": "2022-07-12T13:07:18.622291",
     "status": "completed"
    },
    "tags": []
   },
   "source": [
    "Both matrices should \"look\" similar. We are not interested in perfectly accurate correlation values (they are already inaccurate)."
   ]
  },
  {
   "cell_type": "code",
   "execution_count": null,
   "id": "d8ae4220-2171-460c-9231-cd5219f3fe77",
   "metadata": {
    "papermill": {
     "duration": 0.005331,
     "end_time": "2022-07-12T13:07:18.638914",
     "exception": false,
     "start_time": "2022-07-12T13:07:18.633583",
     "status": "completed"
    },
    "tags": []
   },
   "outputs": [],
   "source": []
  }
 ],
 "metadata": {
  "jupytext": {
   "cell_metadata_filter": "all,-execution,-papermill,-trusted"
  },
  "kernelspec": {
   "display_name": "R",
   "language": "R",
   "name": "ir"
  },
  "language_info": {
   "codemirror_mode": "r",
   "file_extension": ".r",
   "mimetype": "text/x-r-source",
   "name": "R",
   "pygments_lexer": "r",
   "version": "3.6.3"
  },
  "papermill": {
   "default_parameters": {},
   "duration": 5.174575,
   "end_time": "2022-07-12T13:07:18.761906",
   "environment_variables": {},
   "exception": null,
   "input_path": "nbs/15_gsa_gls/12-gene_expr_correlations-adjust.ipynb",
   "output_path": "nbs/15_gsa_gls/gene_corrs/1000g/mashr/12-gene_expr_correlations-adjust-chr8.run.ipynb",
   "parameters": {
    "EQTL_MODEL": "MASHR",
    "REFERENCE_PANEL": "1000G",
    "chromosome": 8
   },
   "start_time": "2022-07-12T13:07:13.587331",
   "version": "2.3.4"
  }
 },
 "nbformat": 4,
 "nbformat_minor": 5
}
