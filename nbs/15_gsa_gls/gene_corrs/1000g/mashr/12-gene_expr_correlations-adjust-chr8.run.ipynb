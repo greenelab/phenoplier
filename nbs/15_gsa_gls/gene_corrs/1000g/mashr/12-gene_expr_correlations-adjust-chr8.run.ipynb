{
 "cells": [
  {
   "cell_type": "markdown",
   "id": "28fc82fa-c3f6-4184-8054-cc91c7c6e2e7",
   "metadata": {
    "papermill": {
     "duration": 0.003833,
     "end_time": "2022-07-11T13:17:38.474760",
     "exception": false,
     "start_time": "2022-07-11T13:17:38.470927",
     "status": "completed"
    },
    "tags": []
   },
   "source": [
    "# Description"
   ]
  },
  {
   "cell_type": "markdown",
   "id": "36839b17-916e-4aec-8fee-96faf1097e78",
   "metadata": {
    "papermill": {
     "duration": 0.003195,
     "end_time": "2022-07-11T13:17:38.481216",
     "exception": false,
     "start_time": "2022-07-11T13:17:38.478021",
     "status": "completed"
    },
    "tags": []
   },
   "source": [
    "**TODO**"
   ]
  },
  {
   "cell_type": "markdown",
   "id": "249e8aa3-ef1a-4bba-a6dd-58120ad80794",
   "metadata": {
    "papermill": {
     "duration": 0.003414,
     "end_time": "2022-07-11T13:17:38.488179",
     "exception": false,
     "start_time": "2022-07-11T13:17:38.484765",
     "status": "completed"
    },
    "tags": []
   },
   "source": [
    "# Modules"
   ]
  },
  {
   "cell_type": "code",
   "execution_count": 1,
   "id": "f9b5022b-7c5e-4d37-9c7a-fdb91777c7f9",
   "metadata": {
    "execution": {
     "iopub.execute_input": "2022-07-11T13:17:38.499084Z",
     "iopub.status.busy": "2022-07-11T13:17:38.497230Z",
     "iopub.status.idle": "2022-07-11T13:17:41.881312Z",
     "shell.execute_reply": "2022-07-11T13:17:41.879918Z"
    },
    "papermill": {
     "duration": 3.391085,
     "end_time": "2022-07-11T13:17:41.883123",
     "exception": false,
     "start_time": "2022-07-11T13:17:38.492038",
     "status": "completed"
    },
    "tags": []
   },
   "outputs": [],
   "source": [
    "library(reticulate)\n",
    "pd <- import(\"pandas\")"
   ]
  },
  {
   "cell_type": "markdown",
   "id": "69e80173-3a39-4b6a-b723-602687cb255b",
   "metadata": {
    "papermill": {
     "duration": 0.00357,
     "end_time": "2022-07-11T13:17:41.890349",
     "exception": false,
     "start_time": "2022-07-11T13:17:41.886779",
     "status": "completed"
    },
    "tags": []
   },
   "source": [
    "# Settings"
   ]
  },
  {
   "cell_type": "code",
   "execution_count": 2,
   "id": "22d12bb4-1699-4a6b-b1b9-d3fdd3d547d7",
   "metadata": {
    "execution": {
     "iopub.execute_input": "2022-07-11T13:17:41.922729Z",
     "iopub.status.busy": "2022-07-11T13:17:41.898999Z",
     "iopub.status.idle": "2022-07-11T13:17:41.934811Z",
     "shell.execute_reply": "2022-07-11T13:17:41.933632Z"
    },
    "papermill": {
     "duration": 0.042307,
     "end_time": "2022-07-11T13:17:41.936605",
     "exception": false,
     "start_time": "2022-07-11T13:17:41.894298",
     "status": "completed"
    },
    "tags": [
     "parameters"
    ]
   },
   "outputs": [],
   "source": [
    "# reference panel\n",
    "REFERENCE_PANEL <- \"GTEX_V8\"\n",
    "# REFERENCE_PANEL = \"1000G\"\n",
    "\n",
    "# prediction models\n",
    "## mashr\n",
    "EQTL_MODEL <- \"MASHR\"\n",
    "\n",
    "chromosome <- NULL"
   ]
  },
  {
   "cell_type": "code",
   "execution_count": 3,
   "id": "7fcf1780",
   "metadata": {
    "execution": {
     "iopub.execute_input": "2022-07-11T13:17:41.945671Z",
     "iopub.status.busy": "2022-07-11T13:17:41.944648Z",
     "iopub.status.idle": "2022-07-11T13:17:41.962086Z",
     "shell.execute_reply": "2022-07-11T13:17:41.960881Z"
    },
    "papermill": {
     "duration": 0.023667,
     "end_time": "2022-07-11T13:17:41.963817",
     "exception": false,
     "start_time": "2022-07-11T13:17:41.940150",
     "status": "completed"
    },
    "tags": [
     "injected-parameters"
    ]
   },
   "outputs": [],
   "source": [
    "# Parameters\n",
    "chromosome = 8\n",
    "REFERENCE_PANEL = \"1000G\"\n",
    "EQTL_MODEL = \"MASHR\"\n"
   ]
  },
  {
   "cell_type": "code",
   "execution_count": 4,
   "id": "8fe24bef",
   "metadata": {
    "execution": {
     "iopub.execute_input": "2022-07-11T13:17:41.973257Z",
     "iopub.status.busy": "2022-07-11T13:17:41.972055Z",
     "iopub.status.idle": "2022-07-11T13:17:41.985620Z",
     "shell.execute_reply": "2022-07-11T13:17:41.984357Z"
    },
    "papermill": {
     "duration": 0.020113,
     "end_time": "2022-07-11T13:17:41.987491",
     "exception": false,
     "start_time": "2022-07-11T13:17:41.967378",
     "status": "completed"
    },
    "tags": []
   },
   "outputs": [
    {
     "data": {
      "text/html": [
       "'Using reference panel: 1000G'"
      ],
      "text/latex": [
       "'Using reference panel: 1000G'"
      ],
      "text/markdown": [
       "'Using reference panel: 1000G'"
      ],
      "text/plain": [
       "[1] \"Using reference panel: 1000G\""
      ]
     },
     "metadata": {},
     "output_type": "display_data"
    }
   ],
   "source": [
    "paste0(\"Using reference panel: \", REFERENCE_PANEL)"
   ]
  },
  {
   "cell_type": "code",
   "execution_count": 5,
   "id": "d62c28f8-186c-478b-948c-58e14f00df4b",
   "metadata": {
    "execution": {
     "iopub.execute_input": "2022-07-11T13:17:41.998421Z",
     "iopub.status.busy": "2022-07-11T13:17:41.996524Z",
     "iopub.status.idle": "2022-07-11T13:17:42.010291Z",
     "shell.execute_reply": "2022-07-11T13:17:42.008884Z"
    },
    "papermill": {
     "duration": 0.020792,
     "end_time": "2022-07-11T13:17:42.012220",
     "exception": false,
     "start_time": "2022-07-11T13:17:41.991428",
     "status": "completed"
    },
    "tags": []
   },
   "outputs": [
    {
     "data": {
      "text/html": [
       "'Using eQTL model: MASHR'"
      ],
      "text/latex": [
       "'Using eQTL model: MASHR'"
      ],
      "text/markdown": [
       "'Using eQTL model: MASHR'"
      ],
      "text/plain": [
       "[1] \"Using eQTL model: MASHR\""
      ]
     },
     "metadata": {},
     "output_type": "display_data"
    }
   ],
   "source": [
    "paste0(\"Using eQTL model: \", EQTL_MODEL)"
   ]
  },
  {
   "cell_type": "code",
   "execution_count": 6,
   "id": "5243676f-c889-4405-9a4d-262f0f044614",
   "metadata": {
    "execution": {
     "iopub.execute_input": "2022-07-11T13:17:42.023190Z",
     "iopub.status.busy": "2022-07-11T13:17:42.021825Z",
     "iopub.status.idle": "2022-07-11T13:17:42.034384Z",
     "shell.execute_reply": "2022-07-11T13:17:42.032419Z"
    },
    "papermill": {
     "duration": 0.020114,
     "end_time": "2022-07-11T13:17:42.036402",
     "exception": false,
     "start_time": "2022-07-11T13:17:42.016288",
     "status": "completed"
    },
    "tags": []
   },
   "outputs": [],
   "source": [
    "# chromosome must be provided as parameter\n",
    "stopifnot(!is.null(chromosome))"
   ]
  },
  {
   "cell_type": "markdown",
   "id": "c05e4d34-e115-48cd-8a2e-225109eb0042",
   "metadata": {
    "papermill": {
     "duration": 0.004147,
     "end_time": "2022-07-11T13:17:42.044663",
     "exception": false,
     "start_time": "2022-07-11T13:17:42.040516",
     "status": "completed"
    },
    "tags": []
   },
   "source": [
    "# Paths"
   ]
  },
  {
   "cell_type": "code",
   "execution_count": 7,
   "id": "eb6aa8aa-b452-4a2f-a780-93dd80ad4285",
   "metadata": {
    "execution": {
     "iopub.execute_input": "2022-07-11T13:17:42.055357Z",
     "iopub.status.busy": "2022-07-11T13:17:42.054197Z",
     "iopub.status.idle": "2022-07-11T13:17:42.069839Z",
     "shell.execute_reply": "2022-07-11T13:17:42.068380Z"
    },
    "papermill": {
     "duration": 0.022977,
     "end_time": "2022-07-11T13:17:42.071811",
     "exception": false,
     "start_time": "2022-07-11T13:17:42.048834",
     "status": "completed"
    },
    "tags": []
   },
   "outputs": [
    {
     "data": {
      "text/html": [
       "'/opt/data/data/phenomexcan/ld_blocks/gene_corrs'"
      ],
      "text/latex": [
       "'/opt/data/data/phenomexcan/ld\\_blocks/gene\\_corrs'"
      ],
      "text/markdown": [
       "'/opt/data/data/phenomexcan/ld_blocks/gene_corrs'"
      ],
      "text/plain": [
       "[1] \"/opt/data/data/phenomexcan/ld_blocks/gene_corrs\""
      ]
     },
     "metadata": {},
     "output_type": "display_data"
    }
   ],
   "source": [
    "GENE_CORRS_DIR <- Sys.getenv(\"PHENOPLIER_PHENOMEXCAN_LD_BLOCKS_GENE_CORRS_DIR\")\n",
    "IRdisplay::display(GENE_CORRS_DIR)"
   ]
  },
  {
   "cell_type": "code",
   "execution_count": 8,
   "id": "eb24f15f-f282-4476-8943-8413c4483f12",
   "metadata": {
    "execution": {
     "iopub.execute_input": "2022-07-11T13:17:42.082626Z",
     "iopub.status.busy": "2022-07-11T13:17:42.081486Z",
     "iopub.status.idle": "2022-07-11T13:17:42.095528Z",
     "shell.execute_reply": "2022-07-11T13:17:42.094206Z"
    },
    "papermill": {
     "duration": 0.021106,
     "end_time": "2022-07-11T13:17:42.097292",
     "exception": false,
     "start_time": "2022-07-11T13:17:42.076186",
     "status": "completed"
    },
    "tags": []
   },
   "outputs": [
    {
     "data": {
      "text/html": [
       "'/opt/data/data/phenomexcan/ld_blocks/gene_corrs/1000g/mashr/by_chr'"
      ],
      "text/latex": [
       "'/opt/data/data/phenomexcan/ld\\_blocks/gene\\_corrs/1000g/mashr/by\\_chr'"
      ],
      "text/markdown": [
       "'/opt/data/data/phenomexcan/ld_blocks/gene_corrs/1000g/mashr/by_chr'"
      ],
      "text/plain": [
       "[1] \"/opt/data/data/phenomexcan/ld_blocks/gene_corrs/1000g/mashr/by_chr\""
      ]
     },
     "metadata": {},
     "output_type": "display_data"
    }
   ],
   "source": [
    "INPUT_DIR <- file.path(GENE_CORRS_DIR, tolower(REFERENCE_PANEL), tolower(EQTL_MODEL), \"by_chr\")\n",
    "IRdisplay::display(INPUT_DIR)"
   ]
  },
  {
   "cell_type": "code",
   "execution_count": 9,
   "id": "43c1daba-0da9-4822-8d1e-968e9767e251",
   "metadata": {
    "execution": {
     "iopub.execute_input": "2022-07-11T13:17:42.108134Z",
     "iopub.status.busy": "2022-07-11T13:17:42.107012Z",
     "iopub.status.idle": "2022-07-11T13:17:42.122027Z",
     "shell.execute_reply": "2022-07-11T13:17:42.120756Z"
    },
    "papermill": {
     "duration": 0.022089,
     "end_time": "2022-07-11T13:17:42.123842",
     "exception": false,
     "start_time": "2022-07-11T13:17:42.101753",
     "status": "completed"
    },
    "tags": []
   },
   "outputs": [
    {
     "data": {
      "text/html": [
       "'/opt/data/data/phenomexcan/ld_blocks/gene_corrs/1000g/mashr/by_chr/gene_corrs-chr8.pkl'"
      ],
      "text/latex": [
       "'/opt/data/data/phenomexcan/ld\\_blocks/gene\\_corrs/1000g/mashr/by\\_chr/gene\\_corrs-chr8.pkl'"
      ],
      "text/markdown": [
       "'/opt/data/data/phenomexcan/ld_blocks/gene_corrs/1000g/mashr/by_chr/gene_corrs-chr8.pkl'"
      ],
      "text/plain": [
       "[1] \"/opt/data/data/phenomexcan/ld_blocks/gene_corrs/1000g/mashr/by_chr/gene_corrs-chr8.pkl\""
      ]
     },
     "metadata": {},
     "output_type": "display_data"
    }
   ],
   "source": [
    "INPUT_FILE <- file.path(INPUT_DIR, paste0(\"gene_corrs-chr\", chromosome, \".pkl\"))\n",
    "IRdisplay::display(INPUT_FILE)\n",
    "stopifnot(file.exists(INPUT_FILE))"
   ]
  },
  {
   "cell_type": "code",
   "execution_count": 10,
   "id": "72386fbf-982b-420a-9057-ea9a97a5e571",
   "metadata": {
    "execution": {
     "iopub.execute_input": "2022-07-11T13:17:42.134864Z",
     "iopub.status.busy": "2022-07-11T13:17:42.133730Z",
     "iopub.status.idle": "2022-07-11T13:17:42.148746Z",
     "shell.execute_reply": "2022-07-11T13:17:42.147511Z"
    },
    "papermill": {
     "duration": 0.022292,
     "end_time": "2022-07-11T13:17:42.150524",
     "exception": false,
     "start_time": "2022-07-11T13:17:42.128232",
     "status": "completed"
    },
    "tags": []
   },
   "outputs": [
    {
     "data": {
      "text/html": [
       "'/opt/data/data/phenomexcan/ld_blocks/gene_corrs/1000g/mashr/by_chr/corrected_positive_definite'"
      ],
      "text/latex": [
       "'/opt/data/data/phenomexcan/ld\\_blocks/gene\\_corrs/1000g/mashr/by\\_chr/corrected\\_positive\\_definite'"
      ],
      "text/markdown": [
       "'/opt/data/data/phenomexcan/ld_blocks/gene_corrs/1000g/mashr/by_chr/corrected_positive_definite'"
      ],
      "text/plain": [
       "[1] \"/opt/data/data/phenomexcan/ld_blocks/gene_corrs/1000g/mashr/by_chr/corrected_positive_definite\""
      ]
     },
     "metadata": {},
     "output_type": "display_data"
    }
   ],
   "source": [
    "OUTPUT_DIR <- file.path(INPUT_DIR, \"corrected_positive_definite\")\n",
    "IRdisplay::display(OUTPUT_DIR)\n",
    "dir.create(OUTPUT_DIR, recursive = TRUE, showWarnings = FALSE)"
   ]
  },
  {
   "cell_type": "code",
   "execution_count": 11,
   "id": "f9f19d1d-ce4c-4099-a26e-250fec751de7",
   "metadata": {
    "execution": {
     "iopub.execute_input": "2022-07-11T13:17:42.161539Z",
     "iopub.status.busy": "2022-07-11T13:17:42.160462Z",
     "iopub.status.idle": "2022-07-11T13:17:42.174683Z",
     "shell.execute_reply": "2022-07-11T13:17:42.173497Z"
    },
    "papermill": {
     "duration": 0.021253,
     "end_time": "2022-07-11T13:17:42.176352",
     "exception": false,
     "start_time": "2022-07-11T13:17:42.155099",
     "status": "completed"
    },
    "tags": []
   },
   "outputs": [
    {
     "data": {
      "text/html": [
       "'/opt/data/data/phenomexcan/ld_blocks/gene_corrs/1000g/mashr/by_chr/corrected_positive_definite/gene_corrs-chr8.pkl'"
      ],
      "text/latex": [
       "'/opt/data/data/phenomexcan/ld\\_blocks/gene\\_corrs/1000g/mashr/by\\_chr/corrected\\_positive\\_definite/gene\\_corrs-chr8.pkl'"
      ],
      "text/markdown": [
       "'/opt/data/data/phenomexcan/ld_blocks/gene_corrs/1000g/mashr/by_chr/corrected_positive_definite/gene_corrs-chr8.pkl'"
      ],
      "text/plain": [
       "[1] \"/opt/data/data/phenomexcan/ld_blocks/gene_corrs/1000g/mashr/by_chr/corrected_positive_definite/gene_corrs-chr8.pkl\""
      ]
     },
     "metadata": {},
     "output_type": "display_data"
    }
   ],
   "source": [
    "OUTPUT_FILE <- file.path(OUTPUT_DIR, paste0(\"gene_corrs-chr\", chromosome, \".pkl\"))\n",
    "IRdisplay::display(OUTPUT_FILE)\n",
    "if (file.exists(OUTPUT_FILE)) {\n",
    "  IRdisplay::display(\"Output file exists, it will be overwritten\")\n",
    "}"
   ]
  },
  {
   "cell_type": "markdown",
   "id": "24973e62-e888-4b56-843f-489d8d0762b5",
   "metadata": {
    "papermill": {
     "duration": 0.004405,
     "end_time": "2022-07-11T13:17:42.185496",
     "exception": false,
     "start_time": "2022-07-11T13:17:42.181091",
     "status": "completed"
    },
    "tags": []
   },
   "source": [
    "# Functions"
   ]
  },
  {
   "cell_type": "code",
   "execution_count": 12,
   "id": "f828f081-7358-4cc8-8a89-1ee293bcc1a7",
   "metadata": {
    "execution": {
     "iopub.execute_input": "2022-07-11T13:17:42.199648Z",
     "iopub.status.busy": "2022-07-11T13:17:42.195400Z",
     "iopub.status.idle": "2022-07-11T13:17:42.208529Z",
     "shell.execute_reply": "2022-07-11T13:17:42.207278Z"
    },
    "papermill": {
     "duration": 0.020286,
     "end_time": "2022-07-11T13:17:42.210289",
     "exception": false,
     "start_time": "2022-07-11T13:17:42.190003",
     "status": "completed"
    },
    "tags": []
   },
   "outputs": [],
   "source": [
    "# taken from https://www.r-bloggers.com/2013/08/correcting-a-pseudo-correlation-matrix-to-be-positive-semidefinite/\n",
    "# TODO: add documentation\n",
    "CorrectCM <- function(CM, p = 0) {\n",
    "  n <- dim(var(CM))[1L]\n",
    "  E <- eigen(CM)\n",
    "  CM1 <- E$vectors %*% tcrossprod(diag(pmax(E$values, p), n), E$vectors)\n",
    "  Balance <- diag(1 / sqrt(diag(CM1)))\n",
    "  CM2 <- Balance %*% CM1 %*% Balance\n",
    "  return(CM2)\n",
    "}"
   ]
  },
  {
   "cell_type": "code",
   "execution_count": 13,
   "id": "7ab9bebf-50a1-4e6f-b16a-e23cae93d02a",
   "metadata": {
    "execution": {
     "iopub.execute_input": "2022-07-11T13:17:42.221401Z",
     "iopub.status.busy": "2022-07-11T13:17:42.220368Z",
     "iopub.status.idle": "2022-07-11T13:17:42.229396Z",
     "shell.execute_reply": "2022-07-11T13:17:42.228182Z"
    },
    "papermill": {
     "duration": 0.01627,
     "end_time": "2022-07-11T13:17:42.231149",
     "exception": false,
     "start_time": "2022-07-11T13:17:42.214879",
     "status": "completed"
    },
    "tags": []
   },
   "outputs": [],
   "source": [
    "is_positive_definite <- function(data) {\n",
    "  # eigenvalues <- eigen(data)$values\n",
    "  # nonpositive_eigenvalues <- eigenvalues[eigenvalues <= 0]\n",
    "\n",
    "  cholStatus <- try(u <- chol(data), silent = FALSE)\n",
    "  cholError <- ifelse(class(cholStatus) == \"try-error\", TRUE, FALSE)\n",
    "\n",
    "  if (cholError) {\n",
    "    return(FALSE)\n",
    "  } else {\n",
    "    return(TRUE)\n",
    "  }\n",
    "}"
   ]
  },
  {
   "cell_type": "markdown",
   "id": "7403fd78-00b2-4941-9c07-3c3af1ddc636",
   "metadata": {
    "papermill": {
     "duration": 0.004633,
     "end_time": "2022-07-11T13:17:42.241107",
     "exception": false,
     "start_time": "2022-07-11T13:17:42.236474",
     "status": "completed"
    },
    "tags": []
   },
   "source": [
    "# Load data"
   ]
  },
  {
   "cell_type": "code",
   "execution_count": 14,
   "id": "3a7744e1-2e5a-450e-9dcf-945ec181347d",
   "metadata": {
    "execution": {
     "iopub.execute_input": "2022-07-11T13:17:42.253032Z",
     "iopub.status.busy": "2022-07-11T13:17:42.251777Z",
     "iopub.status.idle": "2022-07-11T13:17:42.293753Z",
     "shell.execute_reply": "2022-07-11T13:17:42.292594Z"
    },
    "papermill": {
     "duration": 0.049507,
     "end_time": "2022-07-11T13:17:42.295416",
     "exception": false,
     "start_time": "2022-07-11T13:17:42.245909",
     "status": "completed"
    },
    "tags": []
   },
   "outputs": [],
   "source": [
    "gene_corrs <- pd$read_pickle(INPUT_FILE)"
   ]
  },
  {
   "cell_type": "code",
   "execution_count": 15,
   "id": "6fb150b2-4c68-4e9b-9aa5-1890d3f762e3",
   "metadata": {
    "execution": {
     "iopub.execute_input": "2022-07-11T13:17:42.305967Z",
     "iopub.status.busy": "2022-07-11T13:17:42.305003Z",
     "iopub.status.idle": "2022-07-11T13:17:42.315649Z",
     "shell.execute_reply": "2022-07-11T13:17:42.314503Z"
    },
    "papermill": {
     "duration": 0.01735,
     "end_time": "2022-07-11T13:17:42.317285",
     "exception": false,
     "start_time": "2022-07-11T13:17:42.299935",
     "status": "completed"
    },
    "tags": []
   },
   "outputs": [
    {
     "data": {
      "text/html": [
       "<style>\n",
       ".list-inline {list-style: none; margin:0; padding: 0}\n",
       ".list-inline>li {display: inline-block}\n",
       ".list-inline>li:not(:last-child)::after {content: \"\\00b7\"; padding: 0 .5ex}\n",
       "</style>\n",
       "<ol class=list-inline><li>222</li><li>222</li></ol>\n"
      ],
      "text/latex": [
       "\\begin{enumerate*}\n",
       "\\item 222\n",
       "\\item 222\n",
       "\\end{enumerate*}\n"
      ],
      "text/markdown": [
       "1. 222\n",
       "2. 222\n",
       "\n",
       "\n"
      ],
      "text/plain": [
       "[1] 222 222"
      ]
     },
     "metadata": {},
     "output_type": "display_data"
    }
   ],
   "source": [
    "dim(gene_corrs)"
   ]
  },
  {
   "cell_type": "code",
   "execution_count": 16,
   "id": "0d4e53b5-7586-4a68-8ce5-d930d74ba943",
   "metadata": {
    "execution": {
     "iopub.execute_input": "2022-07-11T13:17:42.328093Z",
     "iopub.status.busy": "2022-07-11T13:17:42.327090Z",
     "iopub.status.idle": "2022-07-11T13:17:42.347183Z",
     "shell.execute_reply": "2022-07-11T13:17:42.345982Z"
    },
    "papermill": {
     "duration": 0.027427,
     "end_time": "2022-07-11T13:17:42.348997",
     "exception": false,
     "start_time": "2022-07-11T13:17:42.321570",
     "status": "completed"
    },
    "tags": []
   },
   "outputs": [
    {
     "data": {
      "text/html": [
       "<table class=\"dataframe\">\n",
       "<caption>A data.frame: 6 × 10</caption>\n",
       "<thead>\n",
       "\t<tr><th></th><th scope=col>ENSG00000172748</th><th scope=col>ENSG00000182372</th><th scope=col>ENSG00000104728</th><th scope=col>ENSG00000036448</th><th scope=col>ENSG00000091879</th><th scope=col>ENSG00000155189</th><th scope=col>ENSG00000164821</th><th scope=col>ENSG00000253958</th><th scope=col>ENSG00000147324</th><th scope=col>ENSG00000173281</th></tr>\n",
       "\t<tr><th></th><th scope=col>&lt;dbl&gt;</th><th scope=col>&lt;dbl&gt;</th><th scope=col>&lt;dbl&gt;</th><th scope=col>&lt;dbl&gt;</th><th scope=col>&lt;dbl&gt;</th><th scope=col>&lt;dbl&gt;</th><th scope=col>&lt;dbl&gt;</th><th scope=col>&lt;dbl&gt;</th><th scope=col>&lt;dbl&gt;</th><th scope=col>&lt;dbl&gt;</th></tr>\n",
       "</thead>\n",
       "<tbody>\n",
       "\t<tr><th scope=row>ENSG00000172748</th><td>1.000000000</td><td>0.008853935</td><td>0.01836769</td><td>0.01572429</td><td>0.00000000</td><td>0.000000000</td><td>0.00000000</td><td>0.000000000</td><td>0.00000000</td><td>0.000000000</td></tr>\n",
       "\t<tr><th scope=row>ENSG00000182372</th><td>0.008853935</td><td>1.000000000</td><td>0.17912947</td><td>0.01478453</td><td>0.01125310</td><td>0.007711279</td><td>0.00000000</td><td>0.000000000</td><td>0.00000000</td><td>0.000000000</td></tr>\n",
       "\t<tr><th scope=row>ENSG00000104728</th><td>0.018367689</td><td>0.179129474</td><td>1.00000000</td><td>0.03891132</td><td>0.01848739</td><td>0.021773268</td><td>0.01443834</td><td>0.000000000</td><td>0.00000000</td><td>0.000000000</td></tr>\n",
       "\t<tr><th scope=row>ENSG00000036448</th><td>0.015724286</td><td>0.014784531</td><td>0.03891132</td><td>1.00000000</td><td>0.01444430</td><td>0.013368289</td><td>0.01518022</td><td>0.000000000</td><td>0.00000000</td><td>0.000000000</td></tr>\n",
       "\t<tr><th scope=row>ENSG00000091879</th><td>0.000000000</td><td>0.011253100</td><td>0.01848739</td><td>0.01444430</td><td>1.00000000</td><td>0.090979903</td><td>0.02929359</td><td>0.007554054</td><td>0.01189557</td><td>0.017695697</td></tr>\n",
       "\t<tr><th scope=row>ENSG00000155189</th><td>0.000000000</td><td>0.007711279</td><td>0.02177327</td><td>0.01336829</td><td>0.09097990</td><td>1.000000000</td><td>0.01780787</td><td>0.012524123</td><td>0.01336974</td><td>0.007142877</td></tr>\n",
       "</tbody>\n",
       "</table>\n"
      ],
      "text/latex": [
       "A data.frame: 6 × 10\n",
       "\\begin{tabular}{r|llllllllll}\n",
       "  & ENSG00000172748 & ENSG00000182372 & ENSG00000104728 & ENSG00000036448 & ENSG00000091879 & ENSG00000155189 & ENSG00000164821 & ENSG00000253958 & ENSG00000147324 & ENSG00000173281\\\\\n",
       "  & <dbl> & <dbl> & <dbl> & <dbl> & <dbl> & <dbl> & <dbl> & <dbl> & <dbl> & <dbl>\\\\\n",
       "\\hline\n",
       "\tENSG00000172748 & 1.000000000 & 0.008853935 & 0.01836769 & 0.01572429 & 0.00000000 & 0.000000000 & 0.00000000 & 0.000000000 & 0.00000000 & 0.000000000\\\\\n",
       "\tENSG00000182372 & 0.008853935 & 1.000000000 & 0.17912947 & 0.01478453 & 0.01125310 & 0.007711279 & 0.00000000 & 0.000000000 & 0.00000000 & 0.000000000\\\\\n",
       "\tENSG00000104728 & 0.018367689 & 0.179129474 & 1.00000000 & 0.03891132 & 0.01848739 & 0.021773268 & 0.01443834 & 0.000000000 & 0.00000000 & 0.000000000\\\\\n",
       "\tENSG00000036448 & 0.015724286 & 0.014784531 & 0.03891132 & 1.00000000 & 0.01444430 & 0.013368289 & 0.01518022 & 0.000000000 & 0.00000000 & 0.000000000\\\\\n",
       "\tENSG00000091879 & 0.000000000 & 0.011253100 & 0.01848739 & 0.01444430 & 1.00000000 & 0.090979903 & 0.02929359 & 0.007554054 & 0.01189557 & 0.017695697\\\\\n",
       "\tENSG00000155189 & 0.000000000 & 0.007711279 & 0.02177327 & 0.01336829 & 0.09097990 & 1.000000000 & 0.01780787 & 0.012524123 & 0.01336974 & 0.007142877\\\\\n",
       "\\end{tabular}\n"
      ],
      "text/markdown": [
       "\n",
       "A data.frame: 6 × 10\n",
       "\n",
       "| <!--/--> | ENSG00000172748 &lt;dbl&gt; | ENSG00000182372 &lt;dbl&gt; | ENSG00000104728 &lt;dbl&gt; | ENSG00000036448 &lt;dbl&gt; | ENSG00000091879 &lt;dbl&gt; | ENSG00000155189 &lt;dbl&gt; | ENSG00000164821 &lt;dbl&gt; | ENSG00000253958 &lt;dbl&gt; | ENSG00000147324 &lt;dbl&gt; | ENSG00000173281 &lt;dbl&gt; |\n",
       "|---|---|---|---|---|---|---|---|---|---|---|\n",
       "| ENSG00000172748 | 1.000000000 | 0.008853935 | 0.01836769 | 0.01572429 | 0.00000000 | 0.000000000 | 0.00000000 | 0.000000000 | 0.00000000 | 0.000000000 |\n",
       "| ENSG00000182372 | 0.008853935 | 1.000000000 | 0.17912947 | 0.01478453 | 0.01125310 | 0.007711279 | 0.00000000 | 0.000000000 | 0.00000000 | 0.000000000 |\n",
       "| ENSG00000104728 | 0.018367689 | 0.179129474 | 1.00000000 | 0.03891132 | 0.01848739 | 0.021773268 | 0.01443834 | 0.000000000 | 0.00000000 | 0.000000000 |\n",
       "| ENSG00000036448 | 0.015724286 | 0.014784531 | 0.03891132 | 1.00000000 | 0.01444430 | 0.013368289 | 0.01518022 | 0.000000000 | 0.00000000 | 0.000000000 |\n",
       "| ENSG00000091879 | 0.000000000 | 0.011253100 | 0.01848739 | 0.01444430 | 1.00000000 | 0.090979903 | 0.02929359 | 0.007554054 | 0.01189557 | 0.017695697 |\n",
       "| ENSG00000155189 | 0.000000000 | 0.007711279 | 0.02177327 | 0.01336829 | 0.09097990 | 1.000000000 | 0.01780787 | 0.012524123 | 0.01336974 | 0.007142877 |\n",
       "\n"
      ],
      "text/plain": [
       "                ENSG00000172748 ENSG00000182372 ENSG00000104728 ENSG00000036448\n",
       "ENSG00000172748 1.000000000     0.008853935     0.01836769      0.01572429     \n",
       "ENSG00000182372 0.008853935     1.000000000     0.17912947      0.01478453     \n",
       "ENSG00000104728 0.018367689     0.179129474     1.00000000      0.03891132     \n",
       "ENSG00000036448 0.015724286     0.014784531     0.03891132      1.00000000     \n",
       "ENSG00000091879 0.000000000     0.011253100     0.01848739      0.01444430     \n",
       "ENSG00000155189 0.000000000     0.007711279     0.02177327      0.01336829     \n",
       "                ENSG00000091879 ENSG00000155189 ENSG00000164821 ENSG00000253958\n",
       "ENSG00000172748 0.00000000      0.000000000     0.00000000      0.000000000    \n",
       "ENSG00000182372 0.01125310      0.007711279     0.00000000      0.000000000    \n",
       "ENSG00000104728 0.01848739      0.021773268     0.01443834      0.000000000    \n",
       "ENSG00000036448 0.01444430      0.013368289     0.01518022      0.000000000    \n",
       "ENSG00000091879 1.00000000      0.090979903     0.02929359      0.007554054    \n",
       "ENSG00000155189 0.09097990      1.000000000     0.01780787      0.012524123    \n",
       "                ENSG00000147324 ENSG00000173281\n",
       "ENSG00000172748 0.00000000      0.000000000    \n",
       "ENSG00000182372 0.00000000      0.000000000    \n",
       "ENSG00000104728 0.00000000      0.000000000    \n",
       "ENSG00000036448 0.00000000      0.000000000    \n",
       "ENSG00000091879 0.01189557      0.017695697    \n",
       "ENSG00000155189 0.01336974      0.007142877    "
      ]
     },
     "metadata": {},
     "output_type": "display_data"
    }
   ],
   "source": [
    "head(gene_corrs[1:10, 1:10])"
   ]
  },
  {
   "cell_type": "markdown",
   "id": "d6cbc88a-2c90-4d11-b7dd-434f046fd03c",
   "metadata": {
    "papermill": {
     "duration": 0.004599,
     "end_time": "2022-07-11T13:17:42.358442",
     "exception": false,
     "start_time": "2022-07-11T13:17:42.353843",
     "status": "completed"
    },
    "tags": []
   },
   "source": [
    "# Check positive definiteness"
   ]
  },
  {
   "cell_type": "code",
   "execution_count": 17,
   "id": "a858a061-7c5a-4a6b-8026-fe4de50c1f26",
   "metadata": {
    "execution": {
     "iopub.execute_input": "2022-07-11T13:17:42.369693Z",
     "iopub.status.busy": "2022-07-11T13:17:42.368659Z",
     "iopub.status.idle": "2022-07-11T13:17:42.379787Z",
     "shell.execute_reply": "2022-07-11T13:17:42.378556Z"
    },
    "papermill": {
     "duration": 0.018828,
     "end_time": "2022-07-11T13:17:42.382014",
     "exception": false,
     "start_time": "2022-07-11T13:17:42.363186",
     "status": "completed"
    },
    "tags": []
   },
   "outputs": [],
   "source": [
    "orig_matrix_is_positive_definite <- is_positive_definite(gene_corrs)"
   ]
  },
  {
   "cell_type": "code",
   "execution_count": 18,
   "id": "410ee452-488f-4518-b93a-2acd608ba99c",
   "metadata": {
    "execution": {
     "iopub.execute_input": "2022-07-11T13:17:42.393445Z",
     "iopub.status.busy": "2022-07-11T13:17:42.392392Z",
     "iopub.status.idle": "2022-07-11T13:17:42.411880Z",
     "shell.execute_reply": "2022-07-11T13:17:42.409854Z"
    },
    "papermill": {
     "duration": 0.026935,
     "end_time": "2022-07-11T13:17:42.413600",
     "exception": false,
     "start_time": "2022-07-11T13:17:42.386665",
     "status": "completed"
    },
    "tags": []
   },
   "outputs": [
    {
     "data": {
      "text/html": [
       "'Matrix is already positive definite!'"
      ],
      "text/latex": [
       "'Matrix is already positive definite!'"
      ],
      "text/markdown": [
       "'Matrix is already positive definite!'"
      ],
      "text/plain": [
       "[1] \"Matrix is already positive definite!\""
      ]
     },
     "metadata": {},
     "output_type": "display_data"
    },
    {
     "data": {
      "text/html": [
       "TRUE"
      ],
      "text/latex": [
       "TRUE"
      ],
      "text/markdown": [
       "TRUE"
      ],
      "text/plain": [
       "[1] TRUE"
      ]
     },
     "metadata": {},
     "output_type": "display_data"
    }
   ],
   "source": [
    "if (orig_matrix_is_positive_definite) {\n",
    "  IRdisplay::display(\"Matrix is already positive definite!\")\n",
    "  file.copy(INPUT_FILE, OUTPUT_FILE)\n",
    "} else {\n",
    "  IRdisplay::display(\"We need to correct the data and make the matrix positive definite\")\n",
    "\n",
    "  eigenvalues <- eigen(gene_corrs)$values\n",
    "  nonpositive_eigenvalues <- eigenvalues[eigenvalues <= 0]\n",
    "  IRdisplay::display(length(nonpositive_eigenvalues))\n",
    "  IRdisplay::display(nonpositive_eigenvalues)\n",
    "\n",
    "  # Make matrix positive definite\n",
    "  gene_corrs_corrected <- CorrectCM(gene_corrs, 1e-10)\n",
    "  dimnames(gene_corrs_corrected)[[1]] <- rownames(gene_corrs)\n",
    "  dimnames(gene_corrs_corrected)[[2]] <- colnames(gene_corrs)\n",
    "  gene_corrs_corrected <- as.data.frame(gene_corrs_corrected)\n",
    "\n",
    "  # check if new matrix is really positive definite\n",
    "  matrix_is_positive_definite <- is_positive_definite(gene_corrs_corrected)\n",
    "  if (matrix_is_positive_definite) {\n",
    "    IRdisplay::display(\"It worked!\")\n",
    "    IRdisplay::display(head(gene_corrs[1:10, 1:10]))\n",
    "    IRdisplay::display(head(gene_corrs_corrected[1:10, 1:10]))\n",
    "    py_save_object(gene_corrs_corrected, OUTPUT_FILE)\n",
    "  } else {\n",
    "    eigenvalues <- eigen(gene_corrs_corrected)$values\n",
    "    nonpositive_eigenvalues <- eigenvalues[eigenvalues <= 0]\n",
    "    IRdisplay::display(length(nonpositive_eigenvalues))\n",
    "    IRdisplay::display(nonpositive_eigenvalues)\n",
    "\n",
    "    stop(\"Method failed to adjust matrix\")\n",
    "  }\n",
    "}"
   ]
  },
  {
   "cell_type": "markdown",
   "id": "6c196700-7491-462f-bab8-ab9d40c63499",
   "metadata": {
    "papermill": {
     "duration": 0.005025,
     "end_time": "2022-07-11T13:17:42.423703",
     "exception": false,
     "start_time": "2022-07-11T13:17:42.418678",
     "status": "completed"
    },
    "tags": []
   },
   "source": [
    "Both matrices should \"look\" similar. We are not interested in perfectly accurate correlation values (they are already inaccurate)."
   ]
  },
  {
   "cell_type": "code",
   "execution_count": null,
   "id": "d8ae4220-2171-460c-9231-cd5219f3fe77",
   "metadata": {
    "papermill": {
     "duration": 0.004821,
     "end_time": "2022-07-11T13:17:42.433511",
     "exception": false,
     "start_time": "2022-07-11T13:17:42.428690",
     "status": "completed"
    },
    "tags": []
   },
   "outputs": [],
   "source": []
  }
 ],
 "metadata": {
  "jupytext": {
   "cell_metadata_filter": "all,-execution,-papermill,-trusted"
  },
  "kernelspec": {
   "display_name": "R",
   "language": "R",
   "name": "ir"
  },
  "language_info": {
   "codemirror_mode": "r",
   "file_extension": ".r",
   "mimetype": "text/x-r-source",
   "name": "R",
   "pygments_lexer": "r",
   "version": "3.6.3"
  },
  "papermill": {
   "default_parameters": {},
   "duration": 5.347866,
   "end_time": "2022-07-11T13:17:42.556061",
   "environment_variables": {},
   "exception": null,
   "input_path": "nbs/15_gsa_gls/12-gene_expr_correlations-adjust.ipynb",
   "output_path": "nbs/15_gsa_gls/gene_corrs/1000g/mashr/12-gene_expr_correlations-adjust-chr8.run.ipynb",
   "parameters": {
    "EQTL_MODEL": "MASHR",
    "REFERENCE_PANEL": "1000G",
    "chromosome": 8
   },
   "start_time": "2022-07-11T13:17:37.208195",
   "version": "2.3.4"
  }
 },
 "nbformat": 4,
 "nbformat_minor": 5
}
