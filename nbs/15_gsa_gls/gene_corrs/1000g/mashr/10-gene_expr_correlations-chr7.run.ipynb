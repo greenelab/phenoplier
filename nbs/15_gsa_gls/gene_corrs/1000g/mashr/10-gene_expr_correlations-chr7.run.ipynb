{
 "cells": [
  {
   "cell_type": "markdown",
   "id": "7a6632fb",
   "metadata": {
    "papermill": {
     "duration": 0.006374,
     "end_time": "2022-07-12T05:09:54.410423",
     "exception": false,
     "start_time": "2022-07-12T05:09:54.404049",
     "status": "completed"
    },
    "tags": []
   },
   "source": [
    "# Description"
   ]
  },
  {
   "cell_type": "markdown",
   "id": "7097c346",
   "metadata": {
    "papermill": {
     "duration": 0.005356,
     "end_time": "2022-07-12T05:09:54.421475",
     "exception": false,
     "start_time": "2022-07-12T05:09:54.416119",
     "status": "completed"
    },
    "tags": []
   },
   "source": [
    "(Please, take a look at the README.md file in this directory for instructions on how to run this notebook)\n",
    "\n",
    "This notebook computes predicted expression correlations between all genes in the MultiPLIER models.\n",
    "\n",
    "It also has a parameter set for papermill to run on a single chromosome to run in parallel (see under `Settings` below).\n",
    "\n",
    "This notebook is not directly run. See README.md."
   ]
  },
  {
   "cell_type": "markdown",
   "id": "c61d8427",
   "metadata": {
    "papermill": {
     "duration": 0.005554,
     "end_time": "2022-07-12T05:09:54.432400",
     "exception": false,
     "start_time": "2022-07-12T05:09:54.426846",
     "status": "completed"
    },
    "tags": []
   },
   "source": [
    "# Modules"
   ]
  },
  {
   "cell_type": "code",
   "execution_count": 1,
   "id": "bbc0234f",
   "metadata": {
    "execution": {
     "iopub.execute_input": "2022-07-12T05:09:54.444901Z",
     "iopub.status.busy": "2022-07-12T05:09:54.444636Z",
     "iopub.status.idle": "2022-07-12T05:09:54.459119Z",
     "shell.execute_reply": "2022-07-12T05:09:54.458722Z"
    },
    "papermill": {
     "duration": 0.022708,
     "end_time": "2022-07-12T05:09:54.460500",
     "exception": false,
     "start_time": "2022-07-12T05:09:54.437792",
     "status": "completed"
    },
    "tags": []
   },
   "outputs": [],
   "source": [
    "%load_ext autoreload\n",
    "%autoreload 2"
   ]
  },
  {
   "cell_type": "code",
   "execution_count": 2,
   "id": "1d5f5a59",
   "metadata": {
    "execution": {
     "iopub.execute_input": "2022-07-12T05:09:54.501772Z",
     "iopub.status.busy": "2022-07-12T05:09:54.501589Z",
     "iopub.status.idle": "2022-07-12T05:09:55.389484Z",
     "shell.execute_reply": "2022-07-12T05:09:55.389069Z"
    },
    "papermill": {
     "duration": 0.896352,
     "end_time": "2022-07-12T05:09:55.390870",
     "exception": false,
     "start_time": "2022-07-12T05:09:54.494518",
     "status": "completed"
    },
    "tags": []
   },
   "outputs": [],
   "source": [
    "from random import sample, seed\n",
    "import warnings\n",
    "from pathlib import Path\n",
    "\n",
    "import numpy as np\n",
    "from scipy.spatial.distance import squareform\n",
    "import pandas as pd\n",
    "from tqdm import tqdm\n",
    "import matplotlib.pyplot as plt\n",
    "import seaborn as sns\n",
    "\n",
    "import conf\n",
    "from entity import Gene"
   ]
  },
  {
   "cell_type": "markdown",
   "id": "1eac24b5",
   "metadata": {
    "papermill": {
     "duration": 0.0053,
     "end_time": "2022-07-12T05:09:55.402298",
     "exception": false,
     "start_time": "2022-07-12T05:09:55.396998",
     "status": "completed"
    },
    "tags": []
   },
   "source": [
    "# Settings"
   ]
  },
  {
   "cell_type": "code",
   "execution_count": 3,
   "id": "ca4560ba",
   "metadata": {
    "execution": {
     "iopub.execute_input": "2022-07-12T05:09:55.414425Z",
     "iopub.status.busy": "2022-07-12T05:09:55.414057Z",
     "iopub.status.idle": "2022-07-12T05:09:55.428790Z",
     "shell.execute_reply": "2022-07-12T05:09:55.428392Z"
    },
    "papermill": {
     "duration": 0.022203,
     "end_time": "2022-07-12T05:09:55.430060",
     "exception": false,
     "start_time": "2022-07-12T05:09:55.407857",
     "status": "completed"
    },
    "tags": [
     "parameters"
    ]
   },
   "outputs": [],
   "source": [
    "# reference panel\n",
    "REFERENCE_PANEL = \"GTEX_V8\"\n",
    "# REFERENCE_PANEL = \"1000G\"\n",
    "\n",
    "# prediction models\n",
    "## mashr\n",
    "EQTL_MODEL = \"MASHR\"\n",
    "\n",
    "# this is the default value used in S-MultiXcan to select the\n",
    "# top principal components of the expression correlation matrix\n",
    "SMULTIXCAN_CONDITION_NUMBER = 30\n",
    "\n",
    "# specifies a single chromosome value\n",
    "# by default, run on all chromosomes\n",
    "chromosome = None"
   ]
  },
  {
   "cell_type": "code",
   "execution_count": 4,
   "id": "a8357f0e",
   "metadata": {
    "execution": {
     "iopub.execute_input": "2022-07-12T05:09:55.442243Z",
     "iopub.status.busy": "2022-07-12T05:09:55.442021Z",
     "iopub.status.idle": "2022-07-12T05:09:55.456506Z",
     "shell.execute_reply": "2022-07-12T05:09:55.456010Z"
    },
    "papermill": {
     "duration": 0.021958,
     "end_time": "2022-07-12T05:09:55.457773",
     "exception": false,
     "start_time": "2022-07-12T05:09:55.435815",
     "status": "completed"
    },
    "tags": [
     "injected-parameters"
    ]
   },
   "outputs": [],
   "source": [
    "# Parameters\n",
    "chromosome = 7\n",
    "REFERENCE_PANEL = \"1000G\"\n",
    "EQTL_MODEL = \"MASHR\"\n"
   ]
  },
  {
   "cell_type": "code",
   "execution_count": 5,
   "id": "a089c9ff",
   "metadata": {
    "execution": {
     "iopub.execute_input": "2022-07-12T05:09:55.469700Z",
     "iopub.status.busy": "2022-07-12T05:09:55.469283Z",
     "iopub.status.idle": "2022-07-12T05:09:55.483230Z",
     "shell.execute_reply": "2022-07-12T05:09:55.482773Z"
    },
    "papermill": {
     "duration": 0.02117,
     "end_time": "2022-07-12T05:09:55.484487",
     "exception": false,
     "start_time": "2022-07-12T05:09:55.463317",
     "status": "completed"
    },
    "tags": []
   },
   "outputs": [],
   "source": [
    "EQTL_MODEL_FILES_PREFIX = conf.PHENOMEXCAN[\"PREDICTION_MODELS\"][f\"{EQTL_MODEL}_PREFIX\"]"
   ]
  },
  {
   "cell_type": "code",
   "execution_count": 6,
   "id": "8fe24bef",
   "metadata": {
    "execution": {
     "iopub.execute_input": "2022-07-12T05:09:55.496602Z",
     "iopub.status.busy": "2022-07-12T05:09:55.496112Z",
     "iopub.status.idle": "2022-07-12T05:09:55.512327Z",
     "shell.execute_reply": "2022-07-12T05:09:55.511897Z"
    },
    "papermill": {
     "duration": 0.023766,
     "end_time": "2022-07-12T05:09:55.513793",
     "exception": false,
     "start_time": "2022-07-12T05:09:55.490027",
     "status": "completed"
    },
    "tags": []
   },
   "outputs": [
    {
     "data": {
      "text/plain": [
       "'Using eQTL model: MASHR / mashr_'"
      ]
     },
     "metadata": {},
     "output_type": "display_data"
    }
   ],
   "source": [
    "display(f\"Using eQTL model: {EQTL_MODEL} / {EQTL_MODEL_FILES_PREFIX}\")"
   ]
  },
  {
   "cell_type": "code",
   "execution_count": 7,
   "id": "552a7f63-a18c-4d3e-bb6a-94f99b431291",
   "metadata": {
    "execution": {
     "iopub.execute_input": "2022-07-12T05:09:55.526041Z",
     "iopub.status.busy": "2022-07-12T05:09:55.525817Z",
     "iopub.status.idle": "2022-07-12T05:09:55.540513Z",
     "shell.execute_reply": "2022-07-12T05:09:55.540072Z"
    },
    "papermill": {
     "duration": 0.022242,
     "end_time": "2022-07-12T05:09:55.541717",
     "exception": false,
     "start_time": "2022-07-12T05:09:55.519475",
     "status": "completed"
    },
    "tags": []
   },
   "outputs": [
    {
     "data": {
      "text/plain": [
       "'S-MultiXcan condition number: 30'"
      ]
     },
     "metadata": {},
     "output_type": "display_data"
    }
   ],
   "source": [
    "display(f\"S-MultiXcan condition number: {SMULTIXCAN_CONDITION_NUMBER}\")"
   ]
  },
  {
   "cell_type": "code",
   "execution_count": 8,
   "id": "0230ebcb-2c32-4b95-9292-d9a52038e70d",
   "metadata": {
    "execution": {
     "iopub.execute_input": "2022-07-12T05:09:55.554035Z",
     "iopub.status.busy": "2022-07-12T05:09:55.553768Z",
     "iopub.status.idle": "2022-07-12T05:09:55.568018Z",
     "shell.execute_reply": "2022-07-12T05:09:55.567524Z"
    },
    "papermill": {
     "duration": 0.021861,
     "end_time": "2022-07-12T05:09:55.569290",
     "exception": false,
     "start_time": "2022-07-12T05:09:55.547429",
     "status": "completed"
    },
    "tags": []
   },
   "outputs": [],
   "source": [
    "REFERENCE_PANEL_DIR = conf.PHENOMEXCAN[\"LD_BLOCKS\"][f\"{REFERENCE_PANEL}_GENOTYPE_DIR\"]"
   ]
  },
  {
   "cell_type": "code",
   "execution_count": 9,
   "id": "98c4a159-601d-4a22-a1ab-35bd451c25f9",
   "metadata": {
    "execution": {
     "iopub.execute_input": "2022-07-12T05:09:55.585991Z",
     "iopub.status.busy": "2022-07-12T05:09:55.585546Z",
     "iopub.status.idle": "2022-07-12T05:09:55.604448Z",
     "shell.execute_reply": "2022-07-12T05:09:55.603982Z"
    },
    "papermill": {
     "duration": 0.028208,
     "end_time": "2022-07-12T05:09:55.605694",
     "exception": false,
     "start_time": "2022-07-12T05:09:55.577486",
     "status": "completed"
    },
    "tags": []
   },
   "outputs": [
    {
     "data": {
      "text/plain": [
       "'Using reference panel folder: /opt/data/data/phenomexcan/ld_blocks/reference_panel_1000G'"
      ]
     },
     "metadata": {},
     "output_type": "display_data"
    }
   ],
   "source": [
    "display(f\"Using reference panel folder: {str(REFERENCE_PANEL_DIR)}\")"
   ]
  },
  {
   "cell_type": "code",
   "execution_count": 10,
   "id": "396392dc-0340-4540-9b02-e182b833f909",
   "metadata": {
    "execution": {
     "iopub.execute_input": "2022-07-12T05:09:55.618742Z",
     "iopub.status.busy": "2022-07-12T05:09:55.618544Z",
     "iopub.status.idle": "2022-07-12T05:09:55.633085Z",
     "shell.execute_reply": "2022-07-12T05:09:55.632685Z"
    },
    "papermill": {
     "duration": 0.022376,
     "end_time": "2022-07-12T05:09:55.634299",
     "exception": false,
     "start_time": "2022-07-12T05:09:55.611923",
     "status": "completed"
    },
    "tags": []
   },
   "outputs": [],
   "source": [
    "OUTPUT_DIR_BASE = (\n",
    "    conf.PHENOMEXCAN[\"LD_BLOCKS\"][f\"GENE_CORRS_DIR\"]\n",
    "    / REFERENCE_PANEL.lower()\n",
    "    / EQTL_MODEL.lower()\n",
    ")\n",
    "OUTPUT_DIR_BASE.mkdir(parents=True, exist_ok=True)"
   ]
  },
  {
   "cell_type": "code",
   "execution_count": 11,
   "id": "8942c2d3-e53c-4d63-a0eb-b6fce0574d36",
   "metadata": {
    "execution": {
     "iopub.execute_input": "2022-07-12T05:09:55.647378Z",
     "iopub.status.busy": "2022-07-12T05:09:55.647155Z",
     "iopub.status.idle": "2022-07-12T05:09:55.662081Z",
     "shell.execute_reply": "2022-07-12T05:09:55.661659Z"
    },
    "papermill": {
     "duration": 0.022819,
     "end_time": "2022-07-12T05:09:55.663360",
     "exception": false,
     "start_time": "2022-07-12T05:09:55.640541",
     "status": "completed"
    },
    "tags": []
   },
   "outputs": [
    {
     "data": {
      "text/plain": [
       "'Using output dir base: /opt/data/data/phenomexcan/ld_blocks/gene_corrs/1000g/mashr'"
      ]
     },
     "metadata": {},
     "output_type": "display_data"
    }
   ],
   "source": [
    "display(f\"Using output dir base: {OUTPUT_DIR_BASE}\")"
   ]
  },
  {
   "cell_type": "code",
   "execution_count": 12,
   "id": "408aa590",
   "metadata": {
    "execution": {
     "iopub.execute_input": "2022-07-12T05:09:55.676288Z",
     "iopub.status.busy": "2022-07-12T05:09:55.676063Z",
     "iopub.status.idle": "2022-07-12T05:09:55.689987Z",
     "shell.execute_reply": "2022-07-12T05:09:55.689531Z"
    },
    "papermill": {
     "duration": 0.021782,
     "end_time": "2022-07-12T05:09:55.691230",
     "exception": false,
     "start_time": "2022-07-12T05:09:55.669448",
     "status": "completed"
    },
    "tags": []
   },
   "outputs": [],
   "source": [
    "assert (\n",
    "    chromosome is not None\n",
    "), \"You have to select one chromosome (format: number between 1 and 22)\""
   ]
  },
  {
   "cell_type": "code",
   "execution_count": 13,
   "id": "c1c7dd06-80ff-453c-bcb7-0899edce75da",
   "metadata": {
    "execution": {
     "iopub.execute_input": "2022-07-12T05:09:55.704466Z",
     "iopub.status.busy": "2022-07-12T05:09:55.704027Z",
     "iopub.status.idle": "2022-07-12T05:09:55.720503Z",
     "shell.execute_reply": "2022-07-12T05:09:55.720106Z"
    },
    "papermill": {
     "duration": 0.024429,
     "end_time": "2022-07-12T05:09:55.721781",
     "exception": false,
     "start_time": "2022-07-12T05:09:55.697352",
     "status": "completed"
    },
    "tags": []
   },
   "outputs": [],
   "source": [
    "chromosome = str(chromosome)"
   ]
  },
  {
   "cell_type": "code",
   "execution_count": 14,
   "id": "bc17b84c-9c26-47a5-a3ab-7046e72f3ef4",
   "metadata": {
    "execution": {
     "iopub.execute_input": "2022-07-12T05:09:55.734893Z",
     "iopub.status.busy": "2022-07-12T05:09:55.734422Z",
     "iopub.status.idle": "2022-07-12T05:09:55.749525Z",
     "shell.execute_reply": "2022-07-12T05:09:55.749109Z"
    },
    "papermill": {
     "duration": 0.02287,
     "end_time": "2022-07-12T05:09:55.750776",
     "exception": false,
     "start_time": "2022-07-12T05:09:55.727906",
     "status": "completed"
    },
    "tags": []
   },
   "outputs": [
    {
     "data": {
      "text/plain": [
       "'Working on chromosome 7'"
      ]
     },
     "metadata": {},
     "output_type": "display_data"
    }
   ],
   "source": [
    "display(f\"Working on chromosome {chromosome}\")"
   ]
  },
  {
   "cell_type": "code",
   "execution_count": 15,
   "id": "3c7d8574-90c7-4d09-bc8c-469ed0a34737",
   "metadata": {
    "execution": {
     "iopub.execute_input": "2022-07-12T05:09:55.764906Z",
     "iopub.status.busy": "2022-07-12T05:09:55.764707Z",
     "iopub.status.idle": "2022-07-12T05:09:55.779624Z",
     "shell.execute_reply": "2022-07-12T05:09:55.779196Z"
    },
    "papermill": {
     "duration": 0.023222,
     "end_time": "2022-07-12T05:09:55.780794",
     "exception": false,
     "start_time": "2022-07-12T05:09:55.757572",
     "status": "completed"
    },
    "tags": []
   },
   "outputs": [
    {
     "data": {
      "text/plain": [
       "'Compute correlation within distance False'"
      ]
     },
     "metadata": {},
     "output_type": "display_data"
    }
   ],
   "source": [
    "# This paramter, if True, computes the correlation between closeby genes only\n",
    "COMPUTE_CORRELATIONS_WITHIN_DISTANCE = False\n",
    "display(f\"Compute correlation within distance {COMPUTE_CORRELATIONS_WITHIN_DISTANCE}\")"
   ]
  },
  {
   "cell_type": "markdown",
   "id": "d2ba085e",
   "metadata": {
    "papermill": {
     "duration": 0.007714,
     "end_time": "2022-07-12T05:09:55.796076",
     "exception": false,
     "start_time": "2022-07-12T05:09:55.788362",
     "status": "completed"
    },
    "tags": []
   },
   "source": [
    "# Load data"
   ]
  },
  {
   "cell_type": "markdown",
   "id": "7bed0ce0-e7c7-4300-9a61-5412450b1904",
   "metadata": {
    "papermill": {
     "duration": 0.005948,
     "end_time": "2022-07-12T05:09:55.808593",
     "exception": false,
     "start_time": "2022-07-12T05:09:55.802645",
     "status": "completed"
    },
    "tags": []
   },
   "source": [
    "## Prediction model tissues"
   ]
  },
  {
   "cell_type": "code",
   "execution_count": 16,
   "id": "0847c065-0d69-4830-a07f-1c75115d17f5",
   "metadata": {
    "execution": {
     "iopub.execute_input": "2022-07-12T05:09:55.821952Z",
     "iopub.status.busy": "2022-07-12T05:09:55.821740Z",
     "iopub.status.idle": "2022-07-12T05:09:55.837186Z",
     "shell.execute_reply": "2022-07-12T05:09:55.836669Z"
    },
    "papermill": {
     "duration": 0.023694,
     "end_time": "2022-07-12T05:09:55.838547",
     "exception": false,
     "start_time": "2022-07-12T05:09:55.814853",
     "status": "completed"
    },
    "tags": []
   },
   "outputs": [],
   "source": [
    "prediction_model_tissues = conf.PHENOMEXCAN[\"PREDICTION_MODELS\"][\n",
    "    f\"{EQTL_MODEL}_TISSUES\"\n",
    "].split(\" \")"
   ]
  },
  {
   "cell_type": "code",
   "execution_count": 17,
   "id": "aaef70d1-30c6-4c6f-9d6b-abc8e9a0081f",
   "metadata": {
    "execution": {
     "iopub.execute_input": "2022-07-12T05:09:55.852209Z",
     "iopub.status.busy": "2022-07-12T05:09:55.851913Z",
     "iopub.status.idle": "2022-07-12T05:09:55.866806Z",
     "shell.execute_reply": "2022-07-12T05:09:55.866401Z"
    },
    "papermill": {
     "duration": 0.022916,
     "end_time": "2022-07-12T05:09:55.867990",
     "exception": false,
     "start_time": "2022-07-12T05:09:55.845074",
     "status": "completed"
    },
    "tags": []
   },
   "outputs": [
    {
     "data": {
      "text/plain": [
       "49"
      ]
     },
     "execution_count": 17,
     "metadata": {},
     "output_type": "execute_result"
    }
   ],
   "source": [
    "len(prediction_model_tissues)"
   ]
  },
  {
   "cell_type": "code",
   "execution_count": 18,
   "id": "ff35a099-c52d-465d-b863-0ee70c26208c",
   "metadata": {
    "execution": {
     "iopub.execute_input": "2022-07-12T05:09:55.882156Z",
     "iopub.status.busy": "2022-07-12T05:09:55.881707Z",
     "iopub.status.idle": "2022-07-12T05:09:55.896351Z",
     "shell.execute_reply": "2022-07-12T05:09:55.895891Z"
    },
    "papermill": {
     "duration": 0.023001,
     "end_time": "2022-07-12T05:09:55.897625",
     "exception": false,
     "start_time": "2022-07-12T05:09:55.874624",
     "status": "completed"
    },
    "tags": []
   },
   "outputs": [
    {
     "data": {
      "text/plain": [
       "['Skin_Not_Sun_Exposed_Suprapubic',\n",
       " 'Cells_EBV-transformed_lymphocytes',\n",
       " 'Brain_Frontal_Cortex_BA9',\n",
       " 'Kidney_Cortex',\n",
       " 'Brain_Substantia_nigra']"
      ]
     },
     "execution_count": 18,
     "metadata": {},
     "output_type": "execute_result"
    }
   ],
   "source": [
    "prediction_model_tissues[:5]"
   ]
  },
  {
   "cell_type": "markdown",
   "id": "abcc4b3d",
   "metadata": {
    "papermill": {
     "duration": 0.006163,
     "end_time": "2022-07-12T05:09:55.910158",
     "exception": false,
     "start_time": "2022-07-12T05:09:55.903995",
     "status": "completed"
    },
    "tags": []
   },
   "source": [
    "## MultiPLIER Z"
   ]
  },
  {
   "cell_type": "code",
   "execution_count": 19,
   "id": "c48ef527",
   "metadata": {
    "execution": {
     "iopub.execute_input": "2022-07-12T05:09:55.924160Z",
     "iopub.status.busy": "2022-07-12T05:09:55.923836Z",
     "iopub.status.idle": "2022-07-12T05:09:55.963946Z",
     "shell.execute_reply": "2022-07-12T05:09:55.963520Z"
    },
    "papermill": {
     "duration": 0.049008,
     "end_time": "2022-07-12T05:09:55.965401",
     "exception": false,
     "start_time": "2022-07-12T05:09:55.916393",
     "status": "completed"
    },
    "tags": []
   },
   "outputs": [],
   "source": [
    "multiplier_z_genes = pd.read_pickle(\n",
    "    conf.MULTIPLIER[\"MODEL_Z_MATRIX_FILE\"]\n",
    ").index.tolist()"
   ]
  },
  {
   "cell_type": "code",
   "execution_count": 20,
   "id": "0a4ecbd9",
   "metadata": {
    "execution": {
     "iopub.execute_input": "2022-07-12T05:09:55.979010Z",
     "iopub.status.busy": "2022-07-12T05:09:55.978848Z",
     "iopub.status.idle": "2022-07-12T05:09:55.994293Z",
     "shell.execute_reply": "2022-07-12T05:09:55.993919Z"
    },
    "papermill": {
     "duration": 0.023547,
     "end_time": "2022-07-12T05:09:55.995515",
     "exception": false,
     "start_time": "2022-07-12T05:09:55.971968",
     "status": "completed"
    },
    "tags": []
   },
   "outputs": [
    {
     "data": {
      "text/plain": [
       "6750"
      ]
     },
     "execution_count": 20,
     "metadata": {},
     "output_type": "execute_result"
    }
   ],
   "source": [
    "len(multiplier_z_genes)"
   ]
  },
  {
   "cell_type": "code",
   "execution_count": 21,
   "id": "115e8864",
   "metadata": {
    "execution": {
     "iopub.execute_input": "2022-07-12T05:09:56.009352Z",
     "iopub.status.busy": "2022-07-12T05:09:56.009087Z",
     "iopub.status.idle": "2022-07-12T05:09:56.023923Z",
     "shell.execute_reply": "2022-07-12T05:09:56.023480Z"
    },
    "papermill": {
     "duration": 0.02309,
     "end_time": "2022-07-12T05:09:56.025177",
     "exception": false,
     "start_time": "2022-07-12T05:09:56.002087",
     "status": "completed"
    },
    "tags": []
   },
   "outputs": [
    {
     "data": {
      "text/plain": [
       "['GAS6',\n",
       " 'MMP14',\n",
       " 'DSP',\n",
       " 'MARCKSL1',\n",
       " 'SPARC',\n",
       " 'CTSD',\n",
       " 'EPAS1',\n",
       " 'PALLD',\n",
       " 'PHC2',\n",
       " 'LGALS3BP']"
      ]
     },
     "execution_count": 21,
     "metadata": {},
     "output_type": "execute_result"
    }
   ],
   "source": [
    "multiplier_z_genes[:10]"
   ]
  },
  {
   "cell_type": "markdown",
   "id": "7dcb8db7",
   "metadata": {
    "papermill": {
     "duration": 0.006968,
     "end_time": "2022-07-12T05:09:56.038924",
     "exception": false,
     "start_time": "2022-07-12T05:09:56.031956",
     "status": "completed"
    },
    "tags": []
   },
   "source": [
    "## Get gene objects"
   ]
  },
  {
   "cell_type": "code",
   "execution_count": 22,
   "id": "bb932812",
   "metadata": {
    "execution": {
     "iopub.execute_input": "2022-07-12T05:09:56.053750Z",
     "iopub.status.busy": "2022-07-12T05:09:56.053518Z",
     "iopub.status.idle": "2022-07-12T05:09:56.074923Z",
     "shell.execute_reply": "2022-07-12T05:09:56.074537Z"
    },
    "papermill": {
     "duration": 0.030205,
     "end_time": "2022-07-12T05:09:56.076229",
     "exception": false,
     "start_time": "2022-07-12T05:09:56.046024",
     "status": "completed"
    },
    "tags": []
   },
   "outputs": [],
   "source": [
    "multiplier_gene_obj = {\n",
    "    gene_name: Gene(name=gene_name)\n",
    "    for gene_name in multiplier_z_genes\n",
    "    if gene_name in Gene.GENE_NAME_TO_ID_MAP\n",
    "}"
   ]
  },
  {
   "cell_type": "code",
   "execution_count": 23,
   "id": "39533214",
   "metadata": {
    "execution": {
     "iopub.execute_input": "2022-07-12T05:09:56.090251Z",
     "iopub.status.busy": "2022-07-12T05:09:56.090049Z",
     "iopub.status.idle": "2022-07-12T05:09:56.104671Z",
     "shell.execute_reply": "2022-07-12T05:09:56.104247Z"
    },
    "papermill": {
     "duration": 0.023013,
     "end_time": "2022-07-12T05:09:56.106050",
     "exception": false,
     "start_time": "2022-07-12T05:09:56.083037",
     "status": "completed"
    },
    "tags": []
   },
   "outputs": [
    {
     "data": {
      "text/plain": [
       "6454"
      ]
     },
     "execution_count": 23,
     "metadata": {},
     "output_type": "execute_result"
    }
   ],
   "source": [
    "len(multiplier_gene_obj)"
   ]
  },
  {
   "cell_type": "code",
   "execution_count": 24,
   "id": "9a5d0b84",
   "metadata": {
    "execution": {
     "iopub.execute_input": "2022-07-12T05:09:56.120960Z",
     "iopub.status.busy": "2022-07-12T05:09:56.120649Z",
     "iopub.status.idle": "2022-07-12T05:09:56.135868Z",
     "shell.execute_reply": "2022-07-12T05:09:56.135434Z"
    },
    "papermill": {
     "duration": 0.02424,
     "end_time": "2022-07-12T05:09:56.137087",
     "exception": false,
     "start_time": "2022-07-12T05:09:56.112847",
     "status": "completed"
    },
    "tags": []
   },
   "outputs": [
    {
     "data": {
      "text/plain": [
       "'ENSG00000183087'"
      ]
     },
     "execution_count": 24,
     "metadata": {},
     "output_type": "execute_result"
    }
   ],
   "source": [
    "multiplier_gene_obj[\"GAS6\"].ensembl_id"
   ]
  },
  {
   "cell_type": "code",
   "execution_count": 25,
   "id": "e3ffabc7",
   "metadata": {
    "execution": {
     "iopub.execute_input": "2022-07-12T05:09:56.152181Z",
     "iopub.status.busy": "2022-07-12T05:09:56.151978Z",
     "iopub.status.idle": "2022-07-12T05:09:58.251082Z",
     "shell.execute_reply": "2022-07-12T05:09:58.250651Z"
    },
    "papermill": {
     "duration": 2.108386,
     "end_time": "2022-07-12T05:09:58.252462",
     "exception": false,
     "start_time": "2022-07-12T05:09:56.144076",
     "status": "completed"
    },
    "tags": []
   },
   "outputs": [],
   "source": [
    "_gene_obj = list(multiplier_gene_obj.values())\n",
    "\n",
    "genes_info = pd.DataFrame(\n",
    "    {\n",
    "        \"name\": [g.name for g in _gene_obj],\n",
    "        \"id\": [g.ensembl_id for g in _gene_obj],\n",
    "        \"chr\": [g.chromosome for g in _gene_obj],\n",
    "        \"band\": [g.band for g in _gene_obj],\n",
    "        \"start_position\": [g.get_attribute(\"start_position\") for g in _gene_obj],\n",
    "    }\n",
    ")"
   ]
  },
  {
   "cell_type": "code",
   "execution_count": 26,
   "id": "e23519b8",
   "metadata": {
    "execution": {
     "iopub.execute_input": "2022-07-12T05:09:58.267396Z",
     "iopub.status.busy": "2022-07-12T05:09:58.267153Z",
     "iopub.status.idle": "2022-07-12T05:09:58.282261Z",
     "shell.execute_reply": "2022-07-12T05:09:58.281823Z"
    },
    "papermill": {
     "duration": 0.023885,
     "end_time": "2022-07-12T05:09:58.283490",
     "exception": false,
     "start_time": "2022-07-12T05:09:58.259605",
     "status": "completed"
    },
    "tags": []
   },
   "outputs": [
    {
     "data": {
      "text/plain": [
       "(6454, 5)"
      ]
     },
     "execution_count": 26,
     "metadata": {},
     "output_type": "execute_result"
    }
   ],
   "source": [
    "genes_info.shape"
   ]
  },
  {
   "cell_type": "code",
   "execution_count": 27,
   "id": "0d71881c",
   "metadata": {
    "execution": {
     "iopub.execute_input": "2022-07-12T05:09:58.298729Z",
     "iopub.status.busy": "2022-07-12T05:09:58.298529Z",
     "iopub.status.idle": "2022-07-12T05:09:58.318399Z",
     "shell.execute_reply": "2022-07-12T05:09:58.317902Z"
    },
    "papermill": {
     "duration": 0.028889,
     "end_time": "2022-07-12T05:09:58.319770",
     "exception": false,
     "start_time": "2022-07-12T05:09:58.290881",
     "status": "completed"
    },
    "tags": []
   },
   "outputs": [
    {
     "data": {
      "text/html": [
       "<div>\n",
       "<style scoped>\n",
       "    .dataframe tbody tr th:only-of-type {\n",
       "        vertical-align: middle;\n",
       "    }\n",
       "\n",
       "    .dataframe tbody tr th {\n",
       "        vertical-align: top;\n",
       "    }\n",
       "\n",
       "    .dataframe thead th {\n",
       "        text-align: right;\n",
       "    }\n",
       "</style>\n",
       "<table border=\"1\" class=\"dataframe\">\n",
       "  <thead>\n",
       "    <tr style=\"text-align: right;\">\n",
       "      <th></th>\n",
       "      <th>name</th>\n",
       "      <th>id</th>\n",
       "      <th>chr</th>\n",
       "      <th>band</th>\n",
       "      <th>start_position</th>\n",
       "    </tr>\n",
       "  </thead>\n",
       "  <tbody>\n",
       "    <tr>\n",
       "      <th>0</th>\n",
       "      <td>GAS6</td>\n",
       "      <td>ENSG00000183087</td>\n",
       "      <td>13</td>\n",
       "      <td>13q34</td>\n",
       "      <td>113820549.0</td>\n",
       "    </tr>\n",
       "    <tr>\n",
       "      <th>1</th>\n",
       "      <td>MMP14</td>\n",
       "      <td>ENSG00000157227</td>\n",
       "      <td>14</td>\n",
       "      <td>14q11.2</td>\n",
       "      <td>22836560.0</td>\n",
       "    </tr>\n",
       "    <tr>\n",
       "      <th>2</th>\n",
       "      <td>DSP</td>\n",
       "      <td>ENSG00000096696</td>\n",
       "      <td>6</td>\n",
       "      <td>6p24.3</td>\n",
       "      <td>7541617.0</td>\n",
       "    </tr>\n",
       "    <tr>\n",
       "      <th>3</th>\n",
       "      <td>MARCKSL1</td>\n",
       "      <td>ENSG00000175130</td>\n",
       "      <td>1</td>\n",
       "      <td>1p35.1</td>\n",
       "      <td>32333839.0</td>\n",
       "    </tr>\n",
       "    <tr>\n",
       "      <th>4</th>\n",
       "      <td>SPARC</td>\n",
       "      <td>ENSG00000113140</td>\n",
       "      <td>5</td>\n",
       "      <td>5q33.1</td>\n",
       "      <td>151661096.0</td>\n",
       "    </tr>\n",
       "  </tbody>\n",
       "</table>\n",
       "</div>"
      ],
      "text/plain": [
       "       name               id chr     band  start_position\n",
       "0      GAS6  ENSG00000183087  13    13q34     113820549.0\n",
       "1     MMP14  ENSG00000157227  14  14q11.2      22836560.0\n",
       "2       DSP  ENSG00000096696   6   6p24.3       7541617.0\n",
       "3  MARCKSL1  ENSG00000175130   1   1p35.1      32333839.0\n",
       "4     SPARC  ENSG00000113140   5   5q33.1     151661096.0"
      ]
     },
     "execution_count": 27,
     "metadata": {},
     "output_type": "execute_result"
    }
   ],
   "source": [
    "genes_info.head()"
   ]
  },
  {
   "cell_type": "markdown",
   "id": "c8d1038f",
   "metadata": {
    "papermill": {
     "duration": 0.006818,
     "end_time": "2022-07-12T05:09:58.333804",
     "exception": false,
     "start_time": "2022-07-12T05:09:58.326986",
     "status": "completed"
    },
    "tags": []
   },
   "source": [
    "# Test"
   ]
  },
  {
   "cell_type": "code",
   "execution_count": 28,
   "id": "64993abf",
   "metadata": {
    "execution": {
     "iopub.execute_input": "2022-07-12T05:09:58.350983Z",
     "iopub.status.busy": "2022-07-12T05:09:58.350754Z",
     "iopub.status.idle": "2022-07-12T05:09:58.373655Z",
     "shell.execute_reply": "2022-07-12T05:09:58.373269Z"
    },
    "papermill": {
     "duration": 0.034044,
     "end_time": "2022-07-12T05:09:58.374905",
     "exception": false,
     "start_time": "2022-07-12T05:09:58.340861",
     "status": "completed"
    },
    "tags": []
   },
   "outputs": [
    {
     "data": {
      "text/html": [
       "<div>\n",
       "<style scoped>\n",
       "    .dataframe tbody tr th:only-of-type {\n",
       "        vertical-align: middle;\n",
       "    }\n",
       "\n",
       "    .dataframe tbody tr th {\n",
       "        vertical-align: top;\n",
       "    }\n",
       "\n",
       "    .dataframe thead th {\n",
       "        text-align: right;\n",
       "    }\n",
       "</style>\n",
       "<table border=\"1\" class=\"dataframe\">\n",
       "  <thead>\n",
       "    <tr style=\"text-align: right;\">\n",
       "      <th></th>\n",
       "      <th>name</th>\n",
       "      <th>id</th>\n",
       "      <th>chr</th>\n",
       "      <th>band</th>\n",
       "      <th>start_position</th>\n",
       "    </tr>\n",
       "  </thead>\n",
       "  <tbody>\n",
       "    <tr>\n",
       "      <th>14</th>\n",
       "      <td>GPNMB</td>\n",
       "      <td>ENSG00000136235</td>\n",
       "      <td>7</td>\n",
       "      <td>7p15.3</td>\n",
       "      <td>23235967.0</td>\n",
       "    </tr>\n",
       "    <tr>\n",
       "      <th>37</th>\n",
       "      <td>PON2</td>\n",
       "      <td>ENSG00000105854</td>\n",
       "      <td>7</td>\n",
       "      <td>7q21.3</td>\n",
       "      <td>95404862.0</td>\n",
       "    </tr>\n",
       "    <tr>\n",
       "      <th>86</th>\n",
       "      <td>PTPRN2</td>\n",
       "      <td>ENSG00000155093</td>\n",
       "      <td>7</td>\n",
       "      <td>7q36.3</td>\n",
       "      <td>157539056.0</td>\n",
       "    </tr>\n",
       "    <tr>\n",
       "      <th>95</th>\n",
       "      <td>UPP1</td>\n",
       "      <td>ENSG00000183696</td>\n",
       "      <td>7</td>\n",
       "      <td>7p12.3</td>\n",
       "      <td>48088628.0</td>\n",
       "    </tr>\n",
       "    <tr>\n",
       "      <th>98</th>\n",
       "      <td>CAV2</td>\n",
       "      <td>ENSG00000105971</td>\n",
       "      <td>7</td>\n",
       "      <td>7q31.2</td>\n",
       "      <td>116287380.0</td>\n",
       "    </tr>\n",
       "    <tr>\n",
       "      <th>...</th>\n",
       "      <td>...</td>\n",
       "      <td>...</td>\n",
       "      <td>...</td>\n",
       "      <td>...</td>\n",
       "      <td>...</td>\n",
       "    </tr>\n",
       "    <tr>\n",
       "      <th>6357</th>\n",
       "      <td>ASNS</td>\n",
       "      <td>ENSG00000070669</td>\n",
       "      <td>7</td>\n",
       "      <td>7q21.3</td>\n",
       "      <td>97851677.0</td>\n",
       "    </tr>\n",
       "    <tr>\n",
       "      <th>6360</th>\n",
       "      <td>RHEB</td>\n",
       "      <td>ENSG00000106615</td>\n",
       "      <td>7</td>\n",
       "      <td>7q36.1</td>\n",
       "      <td>151466012.0</td>\n",
       "    </tr>\n",
       "    <tr>\n",
       "      <th>6408</th>\n",
       "      <td>ZNF282</td>\n",
       "      <td>ENSG00000170265</td>\n",
       "      <td>7</td>\n",
       "      <td>7q36.1</td>\n",
       "      <td>149195546.0</td>\n",
       "    </tr>\n",
       "    <tr>\n",
       "      <th>6422</th>\n",
       "      <td>IKZF1</td>\n",
       "      <td>ENSG00000185811</td>\n",
       "      <td>7</td>\n",
       "      <td>7p12.2</td>\n",
       "      <td>50304068.0</td>\n",
       "    </tr>\n",
       "    <tr>\n",
       "      <th>6432</th>\n",
       "      <td>PSPH</td>\n",
       "      <td>ENSG00000146733</td>\n",
       "      <td>7</td>\n",
       "      <td>7p11.2</td>\n",
       "      <td>56011051.0</td>\n",
       "    </tr>\n",
       "  </tbody>\n",
       "</table>\n",
       "<p>281 rows × 5 columns</p>\n",
       "</div>"
      ],
      "text/plain": [
       "        name               id chr    band  start_position\n",
       "14     GPNMB  ENSG00000136235   7  7p15.3      23235967.0\n",
       "37      PON2  ENSG00000105854   7  7q21.3      95404862.0\n",
       "86    PTPRN2  ENSG00000155093   7  7q36.3     157539056.0\n",
       "95      UPP1  ENSG00000183696   7  7p12.3      48088628.0\n",
       "98      CAV2  ENSG00000105971   7  7q31.2     116287380.0\n",
       "...      ...              ...  ..     ...             ...\n",
       "6357    ASNS  ENSG00000070669   7  7q21.3      97851677.0\n",
       "6360    RHEB  ENSG00000106615   7  7q36.1     151466012.0\n",
       "6408  ZNF282  ENSG00000170265   7  7q36.1     149195546.0\n",
       "6422   IKZF1  ENSG00000185811   7  7p12.2      50304068.0\n",
       "6432    PSPH  ENSG00000146733   7  7p11.2      56011051.0\n",
       "\n",
       "[281 rows x 5 columns]"
      ]
     },
     "metadata": {},
     "output_type": "display_data"
    }
   ],
   "source": [
    "chromosome_genes_info = genes_info[genes_info[\"chr\"] == chromosome]\n",
    "display(chromosome_genes_info)"
   ]
  },
  {
   "cell_type": "code",
   "execution_count": 29,
   "id": "d2e42726-7de6-46eb-acfc-6323eaa8fae6",
   "metadata": {
    "execution": {
     "iopub.execute_input": "2022-07-12T05:09:58.390477Z",
     "iopub.status.busy": "2022-07-12T05:09:58.390279Z",
     "iopub.status.idle": "2022-07-12T05:09:58.406843Z",
     "shell.execute_reply": "2022-07-12T05:09:58.406378Z"
    },
    "papermill": {
     "duration": 0.025766,
     "end_time": "2022-07-12T05:09:58.408094",
     "exception": false,
     "start_time": "2022-07-12T05:09:58.382328",
     "status": "completed"
    },
    "tags": []
   },
   "outputs": [
    {
     "data": {
      "text/plain": [
       "5"
      ]
     },
     "metadata": {},
     "output_type": "display_data"
    }
   ],
   "source": [
    "seed(0)\n",
    "_gene_list_ids = sample(chromosome_genes_info[\"id\"].tolist(), 5)\n",
    "selected_chromosome_genes_obj = [Gene(ensembl_id=g_id) for g_id in _gene_list_ids]\n",
    "display(len(selected_chromosome_genes_obj))"
   ]
  },
  {
   "cell_type": "code",
   "execution_count": 30,
   "id": "1b355359",
   "metadata": {
    "execution": {
     "iopub.execute_input": "2022-07-12T05:09:58.423485Z",
     "iopub.status.busy": "2022-07-12T05:09:58.423075Z",
     "iopub.status.idle": "2022-07-12T05:09:59.780747Z",
     "shell.execute_reply": "2022-07-12T05:09:59.780322Z"
    },
    "papermill": {
     "duration": 1.366626,
     "end_time": "2022-07-12T05:09:59.781916",
     "exception": false,
     "start_time": "2022-07-12T05:09:58.415290",
     "status": "completed"
    },
    "tags": []
   },
   "outputs": [
    {
     "name": "stdout",
     "output_type": "stream",
     "text": [
      "AMPH / MUC12: 0.0\n",
      "AMPH / PDIA4: 0.0\n",
      "AMPH / PRPS1L1: 0.0\n",
      "AMPH / EPHB4: 0.0\n",
      "MUC12 / PDIA4: 0.0\n",
      "MUC12 / PRPS1L1: 0.0\n",
      "MUC12 / EPHB4: 0.03534621574037355\n",
      "PDIA4 / PRPS1L1: 0.0\n",
      "PDIA4 / EPHB4: 0.0\n",
      "PRPS1L1 / EPHB4: 0.0\n"
     ]
    }
   ],
   "source": [
    "for gene_idx1 in range(0, len(selected_chromosome_genes_obj) - 1):\n",
    "    gene_obj1 = selected_chromosome_genes_obj[gene_idx1]\n",
    "\n",
    "    for gene_idx2 in range(gene_idx1 + 1, len(selected_chromosome_genes_obj)):\n",
    "        gene_obj2 = selected_chromosome_genes_obj[gene_idx2]\n",
    "\n",
    "        c = gene_obj1.get_ssm_correlation(\n",
    "            gene_obj2,\n",
    "        )\n",
    "\n",
    "        print(f\"{gene_obj1.name} / {gene_obj2.name}: {c}\")"
   ]
  },
  {
   "cell_type": "markdown",
   "id": "d3843e06",
   "metadata": {
    "papermill": {
     "duration": 0.014281,
     "end_time": "2022-07-12T05:09:59.808304",
     "exception": false,
     "start_time": "2022-07-12T05:09:59.794023",
     "status": "completed"
    },
    "tags": []
   },
   "source": [
    "# Compute correlation per chromosome"
   ]
  },
  {
   "cell_type": "code",
   "execution_count": 31,
   "id": "cb859c15-d1f3-4006-a74c-2b83c0db9611",
   "metadata": {
    "execution": {
     "iopub.execute_input": "2022-07-12T05:09:59.843652Z",
     "iopub.status.busy": "2022-07-12T05:09:59.838495Z",
     "iopub.status.idle": "2022-07-12T05:09:59.859106Z",
     "shell.execute_reply": "2022-07-12T05:09:59.858691Z"
    },
    "papermill": {
     "duration": 0.037329,
     "end_time": "2022-07-12T05:09:59.860452",
     "exception": false,
     "start_time": "2022-07-12T05:09:59.823123",
     "status": "completed"
    },
    "tags": []
   },
   "outputs": [
    {
     "data": {
      "text/plain": [
       "PosixPath('/opt/data/data/phenomexcan/ld_blocks/gene_corrs/1000g/mashr/by_chr/gene_corrs-chr7.pkl')"
      ]
     },
     "metadata": {},
     "output_type": "display_data"
    }
   ],
   "source": [
    "output_dir = OUTPUT_DIR_BASE / \"by_chr\"\n",
    "output_dir.mkdir(exist_ok=True, parents=True)\n",
    "output_file = output_dir / f\"gene_corrs-chr{chromosome}.pkl\"\n",
    "display(output_file)"
   ]
  },
  {
   "cell_type": "code",
   "execution_count": 32,
   "id": "aa674fe4-6794-4eed-98fa-32b39d1d4ace",
   "metadata": {
    "execution": {
     "iopub.execute_input": "2022-07-12T05:09:59.877384Z",
     "iopub.status.busy": "2022-07-12T05:09:59.877083Z",
     "iopub.status.idle": "2022-07-12T05:09:59.891607Z",
     "shell.execute_reply": "2022-07-12T05:09:59.891204Z"
    },
    "papermill": {
     "duration": 0.024121,
     "end_time": "2022-07-12T05:09:59.892841",
     "exception": false,
     "start_time": "2022-07-12T05:09:59.868720",
     "status": "completed"
    },
    "tags": []
   },
   "outputs": [],
   "source": [
    "warnings.filterwarnings(\"error\")"
   ]
  },
  {
   "cell_type": "code",
   "execution_count": 33,
   "id": "cdbb90a1",
   "metadata": {
    "execution": {
     "iopub.execute_input": "2022-07-12T05:09:59.908907Z",
     "iopub.status.busy": "2022-07-12T05:09:59.908574Z",
     "iopub.status.idle": "2022-07-12T06:03:10.427397Z",
     "shell.execute_reply": "2022-07-12T06:03:10.426900Z"
    },
    "papermill": {
     "duration": 3190.528146,
     "end_time": "2022-07-12T06:03:10.428584",
     "exception": false,
     "start_time": "2022-07-12T05:09:59.900438",
     "status": "completed"
    },
    "tags": []
   },
   "outputs": [
    {
     "name": "stdout",
     "output_type": "stream",
     "text": [
      "Number of genes in chromosome: 281\n",
      "Number of gene combinations: 39340\n"
     ]
    },
    {
     "name": "stderr",
     "output_type": "stream",
     "text": [
      "ENSG00000155093 / ENSG00000106018: 100%|██████████████████████| 39340/39340 [53:10<00:00, 12.33it/s]\n"
     ]
    },
    {
     "name": "stdout",
     "output_type": "stream",
     "text": [
      "Min/max values: 2.7906763905833412e-08 / 0.9346022449198278\n"
     ]
    },
    {
     "data": {
      "text/plain": [
       "PosixPath('/opt/data/data/phenomexcan/ld_blocks/gene_corrs/1000g/mashr/by_chr/gene_corrs-chr7.pkl')"
      ]
     },
     "metadata": {},
     "output_type": "display_data"
    }
   ],
   "source": [
    "# standard checks\n",
    "all_chrs = genes_info[\"chr\"].dropna().unique()\n",
    "assert all_chrs.shape[0] == 22\n",
    "\n",
    "# select chromosome given by the user\n",
    "assert chromosome in all_chrs\n",
    "\n",
    "# run only on the chromosome specified\n",
    "all_chrs = [chromosome]\n",
    "genes_chr = genes_info[genes_info[\"chr\"] == chromosome]\n",
    "\n",
    "# For testing purposes\n",
    "# genes_chr = genes_chr.sample(n=20)\n",
    "\n",
    "print(f\"Number of genes in chromosome: {genes_chr.shape[0]}\", flush=True)\n",
    "\n",
    "# sort genes by starting position to make visualizations better later\n",
    "genes_chr = genes_chr.sort_values(\"start_position\")\n",
    "\n",
    "gene_chr_objs = [Gene(ensembl_id=gene_id) for gene_id in genes_chr[\"id\"]]\n",
    "gene_chr_ids = [g.ensembl_id for g in gene_chr_objs]\n",
    "\n",
    "n = len(gene_chr_objs)\n",
    "n_comb = int(n * (n - 1) / 2.0)\n",
    "print(f\"Number of gene combinations: {n_comb}\", flush=True)\n",
    "\n",
    "gene_corrs = []\n",
    "\n",
    "pbar = tqdm(ncols=100, total=n_comb)\n",
    "i = 0\n",
    "for gene_idx1 in range(0, len(gene_chr_objs) - 1):\n",
    "    gene_obj1 = gene_chr_objs[gene_idx1]\n",
    "\n",
    "    for gene_idx2 in range(gene_idx1 + 1, len(gene_chr_objs)):\n",
    "        gene_obj2 = gene_chr_objs[gene_idx2]\n",
    "\n",
    "        pbar.set_description(f\"{gene_obj1.ensembl_id} / {gene_obj2.ensembl_id}\")\n",
    "\n",
    "        try:\n",
    "            # FIXME: compute the correlation of the sum of squares of the model using all\n",
    "            # the available tissues; this could be problematic because for some results\n",
    "            # (computed on a specific phenotype/GWAS) we might not have all the tissues\n",
    "            # available, which can certainly bias the correlation estimation.\n",
    "            # Since this depends on the GWAS on a specific phenotype, we should ideally have\n",
    "            # one correlation matrix per GWAS. I should look at how we can improve this.\n",
    "            r = gene_obj1.get_ssm_correlation(\n",
    "                other_gene=gene_obj2,\n",
    "                condition_number=SMULTIXCAN_CONDITION_NUMBER,\n",
    "                reference_panel=REFERENCE_PANEL,\n",
    "                model_type=EQTL_MODEL,\n",
    "                use_within_distance=COMPUTE_CORRELATIONS_WITHIN_DISTANCE,\n",
    "            )\n",
    "\n",
    "            if r is None:\n",
    "                # if r is None, it's very likely because:\n",
    "                #  * one of the genes has no prediction models\n",
    "                #  * all the SNPs predictors for the gene are not present in the reference\n",
    "                #    panel\n",
    "\n",
    "                r = 0.0\n",
    "\n",
    "            gene_corrs.append(r)\n",
    "        except Warning:\n",
    "            print(\n",
    "                f\"RuntimeWarning for genes {gene_obj1.ensembl_id} and {gene_obj2.ensembl_id}\",\n",
    "                flush=True,\n",
    "            )\n",
    "            import traceback\n",
    "\n",
    "            print(traceback.format_exc(), flush=True)\n",
    "        except Exception as e:\n",
    "            print(\n",
    "                f\"Exception for genes {gene_obj1.ensembl_id} and {gene_obj2.ensembl_id}\",\n",
    "                flush=True,\n",
    "            )\n",
    "            import traceback\n",
    "\n",
    "            print(traceback.format_exc(), flush=True)\n",
    "            gene_corrs.append(np.nan)\n",
    "\n",
    "        pbar.update(1)\n",
    "\n",
    "pbar.close()\n",
    "\n",
    "# testing\n",
    "gene_corrs_flat = pd.Series(gene_corrs)\n",
    "print(f\"Min/max values: {gene_corrs_flat.min()} / {gene_corrs_flat.max()}\")\n",
    "assert gene_corrs_flat.min() >= -1.001\n",
    "assert gene_corrs_flat.max() <= 1.001\n",
    "\n",
    "# save\n",
    "# FIXME: consider saving only the condenced matrix here. See here for\n",
    "# more details: https://github.com/greenelab/phenoplier/pull/38#discussion_r634600813\n",
    "gene_corrs_data = squareform(np.array(gene_corrs, dtype=np.float64))\n",
    "np.fill_diagonal(gene_corrs_data, 1.0)\n",
    "\n",
    "gene_corrs_df = pd.DataFrame(\n",
    "    data=gene_corrs_data,\n",
    "    index=gene_chr_ids,\n",
    "    columns=gene_chr_ids,\n",
    ")\n",
    "\n",
    "output_dir.mkdir(exist_ok=True, parents=True)\n",
    "display(output_file)\n",
    "\n",
    "gene_corrs_df.to_pickle(output_file)"
   ]
  },
  {
   "cell_type": "markdown",
   "id": "faa67b51-5373-470f-aa72-2ded53fa6dfe",
   "metadata": {
    "papermill": {
     "duration": 2.138489,
     "end_time": "2022-07-12T06:03:14.784359",
     "exception": false,
     "start_time": "2022-07-12T06:03:12.645870",
     "status": "completed"
    },
    "tags": []
   },
   "source": [
    "# Testing"
   ]
  },
  {
   "cell_type": "code",
   "execution_count": 34,
   "id": "14f7d046-4b55-4896-a56b-990127bcc388",
   "metadata": {
    "execution": {
     "iopub.execute_input": "2022-07-12T06:03:19.129400Z",
     "iopub.status.busy": "2022-07-12T06:03:19.129193Z",
     "iopub.status.idle": "2022-07-12T06:03:19.145219Z",
     "shell.execute_reply": "2022-07-12T06:03:19.144772Z"
    },
    "papermill": {
     "duration": 2.173304,
     "end_time": "2022-07-12T06:03:19.146517",
     "exception": false,
     "start_time": "2022-07-12T06:03:16.973213",
     "status": "completed"
    },
    "tags": []
   },
   "outputs": [
    {
     "data": {
      "text/plain": [
       "(281, 281)"
      ]
     },
     "execution_count": 34,
     "metadata": {},
     "output_type": "execute_result"
    }
   ],
   "source": [
    "gene_corrs_df.shape"
   ]
  },
  {
   "cell_type": "code",
   "execution_count": 35,
   "id": "c7d15414-3297-4537-a7c6-7588c0baeb75",
   "metadata": {
    "execution": {
     "iopub.execute_input": "2022-07-12T06:03:23.505328Z",
     "iopub.status.busy": "2022-07-12T06:03:23.504745Z",
     "iopub.status.idle": "2022-07-12T06:03:23.533577Z",
     "shell.execute_reply": "2022-07-12T06:03:23.533181Z"
    },
    "papermill": {
     "duration": 2.187787,
     "end_time": "2022-07-12T06:03:23.534853",
     "exception": false,
     "start_time": "2022-07-12T06:03:21.347066",
     "status": "completed"
    },
    "tags": []
   },
   "outputs": [
    {
     "data": {
      "text/html": [
       "<div>\n",
       "<style scoped>\n",
       "    .dataframe tbody tr th:only-of-type {\n",
       "        vertical-align: middle;\n",
       "    }\n",
       "\n",
       "    .dataframe tbody tr th {\n",
       "        vertical-align: top;\n",
       "    }\n",
       "\n",
       "    .dataframe thead th {\n",
       "        text-align: right;\n",
       "    }\n",
       "</style>\n",
       "<table border=\"1\" class=\"dataframe\">\n",
       "  <thead>\n",
       "    <tr style=\"text-align: right;\">\n",
       "      <th></th>\n",
       "      <th>ENSG00000197461</th>\n",
       "      <th>ENSG00000188191</th>\n",
       "      <th>ENSG00000105963</th>\n",
       "      <th>ENSG00000198517</th>\n",
       "      <th>ENSG00000002822</th>\n",
       "      <th>ENSG00000106263</th>\n",
       "      <th>ENSG00000136213</th>\n",
       "      <th>ENSG00000106003</th>\n",
       "      <th>ENSG00000146535</th>\n",
       "      <th>ENSG00000198286</th>\n",
       "      <th>...</th>\n",
       "      <th>ENSG00000164889</th>\n",
       "      <th>ENSG00000033100</th>\n",
       "      <th>ENSG00000082014</th>\n",
       "      <th>ENSG00000013374</th>\n",
       "      <th>ENSG00000106615</th>\n",
       "      <th>ENSG00000106617</th>\n",
       "      <th>ENSG00000178234</th>\n",
       "      <th>ENSG00000009335</th>\n",
       "      <th>ENSG00000155093</th>\n",
       "      <th>ENSG00000106018</th>\n",
       "    </tr>\n",
       "  </thead>\n",
       "  <tbody>\n",
       "    <tr>\n",
       "      <th>ENSG00000197461</th>\n",
       "      <td>1.000000</td>\n",
       "      <td>0.081986</td>\n",
       "      <td>0.043885</td>\n",
       "      <td>0.004853</td>\n",
       "      <td>0.019816</td>\n",
       "      <td>0.008025</td>\n",
       "      <td>0.022171</td>\n",
       "      <td>0.013790</td>\n",
       "      <td>0.013599</td>\n",
       "      <td>0.015700</td>\n",
       "      <td>...</td>\n",
       "      <td>0.011217</td>\n",
       "      <td>0.015708</td>\n",
       "      <td>0.012785</td>\n",
       "      <td>0.017749</td>\n",
       "      <td>0.011648</td>\n",
       "      <td>0.017670</td>\n",
       "      <td>0.006367</td>\n",
       "      <td>0.013374</td>\n",
       "      <td>0.012531</td>\n",
       "      <td>0.015444</td>\n",
       "    </tr>\n",
       "    <tr>\n",
       "      <th>ENSG00000188191</th>\n",
       "      <td>0.081986</td>\n",
       "      <td>1.000000</td>\n",
       "      <td>0.089761</td>\n",
       "      <td>0.007912</td>\n",
       "      <td>0.010630</td>\n",
       "      <td>0.003971</td>\n",
       "      <td>0.021925</td>\n",
       "      <td>0.009760</td>\n",
       "      <td>0.009121</td>\n",
       "      <td>0.013800</td>\n",
       "      <td>...</td>\n",
       "      <td>0.009391</td>\n",
       "      <td>0.014495</td>\n",
       "      <td>0.009464</td>\n",
       "      <td>0.019579</td>\n",
       "      <td>0.006935</td>\n",
       "      <td>0.008536</td>\n",
       "      <td>0.002035</td>\n",
       "      <td>0.011117</td>\n",
       "      <td>0.003595</td>\n",
       "      <td>0.010598</td>\n",
       "    </tr>\n",
       "    <tr>\n",
       "      <th>ENSG00000105963</th>\n",
       "      <td>0.043885</td>\n",
       "      <td>0.089761</td>\n",
       "      <td>1.000000</td>\n",
       "      <td>0.012570</td>\n",
       "      <td>0.018635</td>\n",
       "      <td>0.011116</td>\n",
       "      <td>0.026086</td>\n",
       "      <td>0.018362</td>\n",
       "      <td>0.016696</td>\n",
       "      <td>0.023899</td>\n",
       "      <td>...</td>\n",
       "      <td>0.013054</td>\n",
       "      <td>0.014091</td>\n",
       "      <td>0.017494</td>\n",
       "      <td>0.026786</td>\n",
       "      <td>0.017084</td>\n",
       "      <td>0.016590</td>\n",
       "      <td>0.010784</td>\n",
       "      <td>0.011508</td>\n",
       "      <td>0.013820</td>\n",
       "      <td>0.019121</td>\n",
       "    </tr>\n",
       "    <tr>\n",
       "      <th>ENSG00000198517</th>\n",
       "      <td>0.004853</td>\n",
       "      <td>0.007912</td>\n",
       "      <td>0.012570</td>\n",
       "      <td>1.000000</td>\n",
       "      <td>0.009931</td>\n",
       "      <td>0.017722</td>\n",
       "      <td>0.020597</td>\n",
       "      <td>0.003794</td>\n",
       "      <td>0.001652</td>\n",
       "      <td>0.011681</td>\n",
       "      <td>...</td>\n",
       "      <td>0.005141</td>\n",
       "      <td>0.003840</td>\n",
       "      <td>0.007504</td>\n",
       "      <td>0.011676</td>\n",
       "      <td>0.005110</td>\n",
       "      <td>0.007789</td>\n",
       "      <td>0.001774</td>\n",
       "      <td>0.003109</td>\n",
       "      <td>0.003551</td>\n",
       "      <td>0.007797</td>\n",
       "    </tr>\n",
       "    <tr>\n",
       "      <th>ENSG00000002822</th>\n",
       "      <td>0.019816</td>\n",
       "      <td>0.010630</td>\n",
       "      <td>0.018635</td>\n",
       "      <td>0.009931</td>\n",
       "      <td>1.000000</td>\n",
       "      <td>0.026990</td>\n",
       "      <td>0.054232</td>\n",
       "      <td>0.036109</td>\n",
       "      <td>0.016608</td>\n",
       "      <td>0.026247</td>\n",
       "      <td>...</td>\n",
       "      <td>0.013374</td>\n",
       "      <td>0.012837</td>\n",
       "      <td>0.013063</td>\n",
       "      <td>0.019210</td>\n",
       "      <td>0.011775</td>\n",
       "      <td>0.019362</td>\n",
       "      <td>0.007131</td>\n",
       "      <td>0.017664</td>\n",
       "      <td>0.007989</td>\n",
       "      <td>0.016927</td>\n",
       "    </tr>\n",
       "  </tbody>\n",
       "</table>\n",
       "<p>5 rows × 281 columns</p>\n",
       "</div>"
      ],
      "text/plain": [
       "                 ENSG00000197461  ENSG00000188191  ENSG00000105963  \\\n",
       "ENSG00000197461         1.000000         0.081986         0.043885   \n",
       "ENSG00000188191         0.081986         1.000000         0.089761   \n",
       "ENSG00000105963         0.043885         0.089761         1.000000   \n",
       "ENSG00000198517         0.004853         0.007912         0.012570   \n",
       "ENSG00000002822         0.019816         0.010630         0.018635   \n",
       "\n",
       "                 ENSG00000198517  ENSG00000002822  ENSG00000106263  \\\n",
       "ENSG00000197461         0.004853         0.019816         0.008025   \n",
       "ENSG00000188191         0.007912         0.010630         0.003971   \n",
       "ENSG00000105963         0.012570         0.018635         0.011116   \n",
       "ENSG00000198517         1.000000         0.009931         0.017722   \n",
       "ENSG00000002822         0.009931         1.000000         0.026990   \n",
       "\n",
       "                 ENSG00000136213  ENSG00000106003  ENSG00000146535  \\\n",
       "ENSG00000197461         0.022171         0.013790         0.013599   \n",
       "ENSG00000188191         0.021925         0.009760         0.009121   \n",
       "ENSG00000105963         0.026086         0.018362         0.016696   \n",
       "ENSG00000198517         0.020597         0.003794         0.001652   \n",
       "ENSG00000002822         0.054232         0.036109         0.016608   \n",
       "\n",
       "                 ENSG00000198286  ...  ENSG00000164889  ENSG00000033100  \\\n",
       "ENSG00000197461         0.015700  ...         0.011217         0.015708   \n",
       "ENSG00000188191         0.013800  ...         0.009391         0.014495   \n",
       "ENSG00000105963         0.023899  ...         0.013054         0.014091   \n",
       "ENSG00000198517         0.011681  ...         0.005141         0.003840   \n",
       "ENSG00000002822         0.026247  ...         0.013374         0.012837   \n",
       "\n",
       "                 ENSG00000082014  ENSG00000013374  ENSG00000106615  \\\n",
       "ENSG00000197461         0.012785         0.017749         0.011648   \n",
       "ENSG00000188191         0.009464         0.019579         0.006935   \n",
       "ENSG00000105963         0.017494         0.026786         0.017084   \n",
       "ENSG00000198517         0.007504         0.011676         0.005110   \n",
       "ENSG00000002822         0.013063         0.019210         0.011775   \n",
       "\n",
       "                 ENSG00000106617  ENSG00000178234  ENSG00000009335  \\\n",
       "ENSG00000197461         0.017670         0.006367         0.013374   \n",
       "ENSG00000188191         0.008536         0.002035         0.011117   \n",
       "ENSG00000105963         0.016590         0.010784         0.011508   \n",
       "ENSG00000198517         0.007789         0.001774         0.003109   \n",
       "ENSG00000002822         0.019362         0.007131         0.017664   \n",
       "\n",
       "                 ENSG00000155093  ENSG00000106018  \n",
       "ENSG00000197461         0.012531         0.015444  \n",
       "ENSG00000188191         0.003595         0.010598  \n",
       "ENSG00000105963         0.013820         0.019121  \n",
       "ENSG00000198517         0.003551         0.007797  \n",
       "ENSG00000002822         0.007989         0.016927  \n",
       "\n",
       "[5 rows x 281 columns]"
      ]
     },
     "execution_count": 35,
     "metadata": {},
     "output_type": "execute_result"
    }
   ],
   "source": [
    "gene_corrs_df.head()"
   ]
  },
  {
   "cell_type": "code",
   "execution_count": 36,
   "id": "286686af-1b7b-4440-8453-6bdcbd8de19c",
   "metadata": {
    "execution": {
     "iopub.execute_input": "2022-07-12T06:03:27.872060Z",
     "iopub.status.busy": "2022-07-12T06:03:27.871711Z",
     "iopub.status.idle": "2022-07-12T06:03:27.887407Z",
     "shell.execute_reply": "2022-07-12T06:03:27.887019Z"
    },
    "papermill": {
     "duration": 2.224652,
     "end_time": "2022-07-12T06:03:27.888646",
     "exception": false,
     "start_time": "2022-07-12T06:03:25.663994",
     "status": "completed"
    },
    "tags": []
   },
   "outputs": [],
   "source": [
    "assert not gene_corrs_df.isna().any().any()"
   ]
  },
  {
   "cell_type": "code",
   "execution_count": 37,
   "id": "00583efc-7068-4270-ad1e-4a418e91db96",
   "metadata": {
    "execution": {
     "iopub.execute_input": "2022-07-12T06:03:32.396305Z",
     "iopub.status.busy": "2022-07-12T06:03:32.396141Z",
     "iopub.status.idle": "2022-07-12T06:03:32.415013Z",
     "shell.execute_reply": "2022-07-12T06:03:32.414597Z"
    },
    "papermill": {
     "duration": 2.405168,
     "end_time": "2022-07-12T06:03:32.416349",
     "exception": false,
     "start_time": "2022-07-12T06:03:30.011181",
     "status": "completed"
    },
    "tags": []
   },
   "outputs": [
    {
     "data": {
      "text/plain": [
       "2.7906763905833412e-08"
      ]
     },
     "metadata": {},
     "output_type": "display_data"
    }
   ],
   "source": [
    "_min_val = gene_corrs_df.min().min()\n",
    "display(_min_val)\n",
    "assert _min_val >= 0.0"
   ]
  },
  {
   "cell_type": "code",
   "execution_count": 38,
   "id": "d04fb2cf-1050-475b-b855-f5f7cc04092b",
   "metadata": {
    "execution": {
     "iopub.execute_input": "2022-07-12T06:03:36.728612Z",
     "iopub.status.busy": "2022-07-12T06:03:36.728409Z",
     "iopub.status.idle": "2022-07-12T06:03:36.747305Z",
     "shell.execute_reply": "2022-07-12T06:03:36.746844Z"
    },
    "papermill": {
     "duration": 2.22841,
     "end_time": "2022-07-12T06:03:36.748731",
     "exception": false,
     "start_time": "2022-07-12T06:03:34.520321",
     "status": "completed"
    },
    "tags": []
   },
   "outputs": [
    {
     "data": {
      "text/plain": [
       "1.0"
      ]
     },
     "metadata": {},
     "output_type": "display_data"
    }
   ],
   "source": [
    "_max_val = gene_corrs_df.max().max()  # this captures the diagonal\n",
    "display(_max_val)\n",
    "assert _max_val <= 1.0"
   ]
  },
  {
   "cell_type": "code",
   "execution_count": 39,
   "id": "96d02c44-1fba-47be-8a93-8f2608420b9c",
   "metadata": {
    "execution": {
     "iopub.execute_input": "2022-07-12T06:03:41.008811Z",
     "iopub.status.busy": "2022-07-12T06:03:41.008649Z",
     "iopub.status.idle": "2022-07-12T06:03:41.023597Z",
     "shell.execute_reply": "2022-07-12T06:03:41.023138Z"
    },
    "papermill": {
     "duration": 2.163126,
     "end_time": "2022-07-12T06:03:41.024890",
     "exception": false,
     "start_time": "2022-07-12T06:03:38.861764",
     "status": "completed"
    },
    "tags": []
   },
   "outputs": [],
   "source": [
    "# check upper triangular values\n",
    "assert len(gene_corrs) == int(genes_chr.shape[0] * (genes_chr.shape[0] - 1) / 2)"
   ]
  },
  {
   "cell_type": "code",
   "execution_count": 40,
   "id": "aaa51627-f4e3-4744-a41f-7d25adcc0a78",
   "metadata": {
    "execution": {
     "iopub.execute_input": "2022-07-12T06:03:45.408464Z",
     "iopub.status.busy": "2022-07-12T06:03:45.408091Z",
     "iopub.status.idle": "2022-07-12T06:03:45.436286Z",
     "shell.execute_reply": "2022-07-12T06:03:45.435745Z"
    },
    "papermill": {
     "duration": 2.248116,
     "end_time": "2022-07-12T06:03:45.437660",
     "exception": false,
     "start_time": "2022-07-12T06:03:43.189544",
     "status": "completed"
    },
    "tags": []
   },
   "outputs": [],
   "source": [
    "gene_corrs = pd.Series(gene_corrs)"
   ]
  },
  {
   "cell_type": "code",
   "execution_count": 41,
   "id": "fe283586-c348-40e0-8841-f6d97bfb021c",
   "metadata": {
    "execution": {
     "iopub.execute_input": "2022-07-12T06:03:49.661499Z",
     "iopub.status.busy": "2022-07-12T06:03:49.661333Z",
     "iopub.status.idle": "2022-07-12T06:03:49.685414Z",
     "shell.execute_reply": "2022-07-12T06:03:49.684954Z"
    },
    "papermill": {
     "duration": 2.175811,
     "end_time": "2022-07-12T06:03:49.686585",
     "exception": false,
     "start_time": "2022-07-12T06:03:47.510774",
     "status": "completed"
    },
    "tags": []
   },
   "outputs": [
    {
     "data": {
      "text/plain": [
       "count    3.934000e+04\n",
       "mean     1.112779e-02\n",
       "std      2.982179e-02\n",
       "min      2.790676e-08\n",
       "25%      5.558926e-03\n",
       "50%      8.354854e-03\n",
       "75%      1.162968e-02\n",
       "max      9.346022e-01\n",
       "dtype: float64"
      ]
     },
     "execution_count": 41,
     "metadata": {},
     "output_type": "execute_result"
    }
   ],
   "source": [
    "gene_corrs.describe()"
   ]
  },
  {
   "cell_type": "code",
   "execution_count": 42,
   "id": "b3815678-0f93-4b35-897b-a9d047a2aa78",
   "metadata": {
    "execution": {
     "iopub.execute_input": "2022-07-12T06:03:54.036541Z",
     "iopub.status.busy": "2022-07-12T06:03:54.036308Z",
     "iopub.status.idle": "2022-07-12T06:03:54.056133Z",
     "shell.execute_reply": "2022-07-12T06:03:54.055665Z"
    },
    "papermill": {
     "duration": 2.231012,
     "end_time": "2022-07-12T06:03:54.057298",
     "exception": false,
     "start_time": "2022-07-12T06:03:51.826286",
     "status": "completed"
    },
    "tags": []
   },
   "outputs": [
    {
     "data": {
      "text/plain": [
       "0.00    2.790676e-08\n",
       "0.05    2.392950e-03\n",
       "0.10    3.449547e-03\n",
       "0.15    4.256325e-03\n",
       "0.20    4.949768e-03\n",
       "0.25    5.558926e-03\n",
       "0.30    6.133084e-03\n",
       "0.35    6.687114e-03\n",
       "0.40    7.258434e-03\n",
       "0.45    7.812097e-03\n",
       "0.50    8.354854e-03\n",
       "0.55    8.924311e-03\n",
       "0.60    9.524392e-03\n",
       "0.65    1.017350e-02\n",
       "0.70    1.087453e-02\n",
       "0.75    1.162968e-02\n",
       "0.80    1.250192e-02\n",
       "0.85    1.358037e-02\n",
       "0.90    1.499393e-02\n",
       "0.95    1.746601e-02\n",
       "dtype: float64"
      ]
     },
     "metadata": {},
     "output_type": "display_data"
    }
   ],
   "source": [
    "gene_corrs_quantiles = gene_corrs.quantile(np.arange(0, 1, 0.05))\n",
    "display(gene_corrs_quantiles)"
   ]
  },
  {
   "cell_type": "markdown",
   "id": "8e60a080-edb2-4e9c-b2ef-22961693200c",
   "metadata": {
    "papermill": {
     "duration": 2.195098,
     "end_time": "2022-07-12T06:03:58.448088",
     "exception": false,
     "start_time": "2022-07-12T06:03:56.252990",
     "status": "completed"
    },
    "tags": []
   },
   "source": [
    "## Plot: distribution"
   ]
  },
  {
   "cell_type": "code",
   "execution_count": 43,
   "id": "8301126b-a7d4-4744-9c7d-f0f86eb6f54c",
   "metadata": {
    "execution": {
     "iopub.execute_input": "2022-07-12T06:04:02.840893Z",
     "iopub.status.busy": "2022-07-12T06:04:02.840677Z",
     "iopub.status.idle": "2022-07-12T06:04:07.230501Z",
     "shell.execute_reply": "2022-07-12T06:04:07.230015Z"
    },
    "papermill": {
     "duration": 6.52882,
     "end_time": "2022-07-12T06:04:07.231949",
     "exception": false,
     "start_time": "2022-07-12T06:04:00.703129",
     "status": "completed"
    },
    "tags": []
   },
   "outputs": [
    {
     "data": {
      "image/png": "[encoded data removed]",
      "text/plain": [
       "<Figure size 504x504 with 1 Axes>"
      ]
     },
     "metadata": {
      "needs_background": "light"
     },
     "output_type": "display_data"
    }
   ],
   "source": [
    "with sns.plotting_context(\"paper\", font_scale=1.5):\n",
    "    g = sns.displot(gene_corrs, kde=True, height=7)\n",
    "    g.ax.set_title(\n",
    "        f\"Distribution of gene correlation values in chromosome {chromosome}\"\n",
    "    )"
   ]
  },
  {
   "cell_type": "markdown",
   "id": "cbd52bca-d878-4a2f-b684-5c83aa3038d4",
   "metadata": {
    "papermill": {
     "duration": 2.211656,
     "end_time": "2022-07-12T06:04:11.642204",
     "exception": false,
     "start_time": "2022-07-12T06:04:09.430548",
     "status": "completed"
    },
    "tags": []
   },
   "source": [
    "## Plot: heatmap"
   ]
  },
  {
   "cell_type": "code",
   "execution_count": 44,
   "id": "d03fe63a-c7b2-4fb9-a53c-db362ce843c9",
   "metadata": {
    "execution": {
     "iopub.execute_input": "2022-07-12T06:04:16.021900Z",
     "iopub.status.busy": "2022-07-12T06:04:16.021663Z",
     "iopub.status.idle": "2022-07-12T06:04:16.040526Z",
     "shell.execute_reply": "2022-07-12T06:04:16.040078Z"
    },
    "papermill": {
     "duration": 2.222989,
     "end_time": "2022-07-12T06:04:16.041920",
     "exception": false,
     "start_time": "2022-07-12T06:04:13.818931",
     "status": "completed"
    },
    "tags": []
   },
   "outputs": [
    {
     "data": {
      "text/plain": [
       "'-0.05 / 0.05'"
      ]
     },
     "metadata": {},
     "output_type": "display_data"
    }
   ],
   "source": [
    "vmin_val = min(-0.05, gene_corrs_quantiles[0.10])\n",
    "vmax_val = max(0.05, gene_corrs_quantiles[0.90])\n",
    "display(f\"{vmin_val} / {vmax_val}\")"
   ]
  },
  {
   "cell_type": "code",
   "execution_count": 45,
   "id": "dc41b70b-5bcc-4d9e-9f33-a22c4a94dab5",
   "metadata": {
    "execution": {
     "iopub.execute_input": "2022-07-12T06:04:20.460714Z",
     "iopub.status.busy": "2022-07-12T06:04:20.460492Z",
     "iopub.status.idle": "2022-07-12T06:04:20.693916Z",
     "shell.execute_reply": "2022-07-12T06:04:20.693427Z"
    },
    "papermill": {
     "duration": 2.4756,
     "end_time": "2022-07-12T06:04:20.696147",
     "exception": false,
     "start_time": "2022-07-12T06:04:18.220547",
     "status": "completed"
    },
    "tags": []
   },
   "outputs": [
    {
     "data": {
      "text/plain": [
       "Text(0.5, 1.0, 'Gene correlations in chromosome 7')"
      ]
     },
     "execution_count": 45,
     "metadata": {},
     "output_type": "execute_result"
    },
    {
     "data": {
      "image/png": "[encoded data removed]",
      "text/plain": [
       "<Figure size 720x720 with 2 Axes>"
      ]
     },
     "metadata": {
      "needs_background": "light"
     },
     "output_type": "display_data"
    }
   ],
   "source": [
    "f, ax = plt.subplots(figsize=(10, 10))\n",
    "sns.heatmap(\n",
    "    gene_corrs_df,\n",
    "    xticklabels=False,\n",
    "    yticklabels=False,\n",
    "    square=True,\n",
    "    vmin=vmin_val,\n",
    "    vmax=vmax_val,\n",
    "    cmap=\"YlGnBu\",\n",
    "    ax=ax,\n",
    ")\n",
    "ax.set_title(f\"Gene correlations in chromosome {chromosome}\")"
   ]
  },
  {
   "cell_type": "code",
   "execution_count": null,
   "id": "b25e3ead",
   "metadata": {
    "papermill": {
     "duration": 2.166832,
     "end_time": "2022-07-12T06:04:25.000360",
     "exception": false,
     "start_time": "2022-07-12T06:04:22.833528",
     "status": "completed"
    },
    "tags": []
   },
   "outputs": [],
   "source": []
  }
 ],
 "metadata": {
  "jupytext": {
   "cell_metadata_filter": "all,-execution,-papermill,-trusted",
   "formats": "ipynb,py//py:percent"
  },
  "kernelspec": {
   "display_name": "Python 3 (ipykernel)",
   "language": "python",
   "name": "python3"
  },
  "language_info": {
   "codemirror_mode": {
    "name": "ipython",
    "version": 3
   },
   "file_extension": ".py",
   "mimetype": "text/x-python",
   "name": "python",
   "nbconvert_exporter": "python",
   "pygments_lexer": "ipython3",
   "version": "3.8.13"
  },
  "papermill": {
   "default_parameters": {},
   "duration": 3277.428264,
   "end_time": "2022-07-12T06:04:30.625847",
   "environment_variables": {},
   "exception": null,
   "input_path": "nbs/15_gsa_gls/10-gene_expr_correlations.ipynb",
   "output_path": "nbs/15_gsa_gls/gene_corrs/1000g/mashr/10-gene_expr_correlations-chr7.run.ipynb",
   "parameters": {
    "EQTL_MODEL": "MASHR",
    "REFERENCE_PANEL": "1000G",
    "chromosome": 7
   },
   "start_time": "2022-07-12T05:09:53.197583",
   "version": "2.2.2"
  }
 },
 "nbformat": 4,
 "nbformat_minor": 5
}
