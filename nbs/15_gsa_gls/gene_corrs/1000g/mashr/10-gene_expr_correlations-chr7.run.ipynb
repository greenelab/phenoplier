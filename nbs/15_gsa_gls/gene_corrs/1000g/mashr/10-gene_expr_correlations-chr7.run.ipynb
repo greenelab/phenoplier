{
 "cells": [
  {
   "cell_type": "markdown",
   "id": "7a6632fb",
   "metadata": {
    "papermill": {
     "duration": 0.011322,
     "end_time": "2022-07-11T06:34:49.805373",
     "exception": false,
     "start_time": "2022-07-11T06:34:49.794051",
     "status": "completed"
    },
    "tags": []
   },
   "source": [
    "# Description"
   ]
  },
  {
   "cell_type": "markdown",
   "id": "7097c346",
   "metadata": {
    "papermill": {
     "duration": 0.010482,
     "end_time": "2022-07-11T06:34:49.828362",
     "exception": false,
     "start_time": "2022-07-11T06:34:49.817880",
     "status": "completed"
    },
    "tags": []
   },
   "source": [
    "(Please, take a look at the README.md file in this directory for instructions on how to run this notebook)\n",
    "\n",
    "This notebook computes predicted expression correlations between all genes in the MultiPLIER models.\n",
    "\n",
    "It also has a parameter set for papermill to run on a single chromosome to run in parallel (see under `Settings` below).\n",
    "\n",
    "This notebook is not directly run. See README.md."
   ]
  },
  {
   "cell_type": "markdown",
   "id": "c61d8427",
   "metadata": {
    "papermill": {
     "duration": 0.010378,
     "end_time": "2022-07-11T06:34:49.849325",
     "exception": false,
     "start_time": "2022-07-11T06:34:49.838947",
     "status": "completed"
    },
    "tags": []
   },
   "source": [
    "# Modules"
   ]
  },
  {
   "cell_type": "code",
   "execution_count": 1,
   "id": "bbc0234f",
   "metadata": {
    "execution": {
     "iopub.execute_input": "2022-07-11T06:34:49.871970Z",
     "iopub.status.busy": "2022-07-11T06:34:49.871779Z",
     "iopub.status.idle": "2022-07-11T06:34:49.886811Z",
     "shell.execute_reply": "2022-07-11T06:34:49.886405Z"
    },
    "papermill": {
     "duration": 0.028477,
     "end_time": "2022-07-11T06:34:49.888348",
     "exception": false,
     "start_time": "2022-07-11T06:34:49.859871",
     "status": "completed"
    },
    "tags": []
   },
   "outputs": [],
   "source": [
    "%load_ext autoreload\n",
    "%autoreload 2"
   ]
  },
  {
   "cell_type": "code",
   "execution_count": 2,
   "id": "1d5f5a59",
   "metadata": {
    "execution": {
     "iopub.execute_input": "2022-07-11T06:34:49.911628Z",
     "iopub.status.busy": "2022-07-11T06:34:49.911442Z",
     "iopub.status.idle": "2022-07-11T06:34:51.047655Z",
     "shell.execute_reply": "2022-07-11T06:34:51.047255Z"
    },
    "papermill": {
     "duration": 1.149736,
     "end_time": "2022-07-11T06:34:51.048884",
     "exception": false,
     "start_time": "2022-07-11T06:34:49.899148",
     "status": "completed"
    },
    "tags": []
   },
   "outputs": [],
   "source": [
    "from random import sample, seed\n",
    "import warnings\n",
    "from pathlib import Path\n",
    "\n",
    "import numpy as np\n",
    "from scipy.spatial.distance import squareform\n",
    "import pandas as pd\n",
    "from tqdm import tqdm\n",
    "import matplotlib.pyplot as plt\n",
    "import seaborn as sns\n",
    "\n",
    "import conf\n",
    "from entity import Gene"
   ]
  },
  {
   "cell_type": "markdown",
   "id": "1eac24b5",
   "metadata": {
    "papermill": {
     "duration": 0.009797,
     "end_time": "2022-07-11T06:34:51.121638",
     "exception": false,
     "start_time": "2022-07-11T06:34:51.111841",
     "status": "completed"
    },
    "tags": []
   },
   "source": [
    "# Settings"
   ]
  },
  {
   "cell_type": "code",
   "execution_count": 3,
   "id": "ca4560ba",
   "metadata": {
    "execution": {
     "iopub.execute_input": "2022-07-11T06:34:51.147662Z",
     "iopub.status.busy": "2022-07-11T06:34:51.145285Z",
     "iopub.status.idle": "2022-07-11T06:34:51.173904Z",
     "shell.execute_reply": "2022-07-11T06:34:51.173451Z"
    },
    "papermill": {
     "duration": 0.040218,
     "end_time": "2022-07-11T06:34:51.175286",
     "exception": false,
     "start_time": "2022-07-11T06:34:51.135068",
     "status": "completed"
    },
    "tags": [
     "parameters"
    ]
   },
   "outputs": [],
   "source": [
    "# reference panel\n",
    "REFERENCE_PANEL = \"GTEX_V8\"\n",
    "# REFERENCE_PANEL = \"1000G\"\n",
    "\n",
    "# prediction models\n",
    "## mashr\n",
    "EQTL_MODEL = \"MASHR\"\n",
    "\n",
    "# this is the default value used in S-MultiXcan to select the\n",
    "# top principal components of the expression correlation matrix\n",
    "SMULTIXCAN_CONDITION_NUMBER = 30\n",
    "\n",
    "# specifies a single chromosome value\n",
    "# by default, run on all chromosomes\n",
    "chromosome = None"
   ]
  },
  {
   "cell_type": "code",
   "execution_count": 4,
   "id": "7a391df4",
   "metadata": {
    "execution": {
     "iopub.execute_input": "2022-07-11T06:34:51.192349Z",
     "iopub.status.busy": "2022-07-11T06:34:51.191283Z",
     "iopub.status.idle": "2022-07-11T06:34:51.207542Z",
     "shell.execute_reply": "2022-07-11T06:34:51.207115Z"
    },
    "papermill": {
     "duration": 0.024034,
     "end_time": "2022-07-11T06:34:51.209076",
     "exception": false,
     "start_time": "2022-07-11T06:34:51.185042",
     "status": "completed"
    },
    "tags": [
     "injected-parameters"
    ]
   },
   "outputs": [],
   "source": [
    "# Parameters\n",
    "chromosome = 7\n",
    "REFERENCE_PANEL = \"1000G\"\n",
    "EQTL_MODEL = \"MASHR\"\n"
   ]
  },
  {
   "cell_type": "code",
   "execution_count": 5,
   "id": "a089c9ff",
   "metadata": {
    "execution": {
     "iopub.execute_input": "2022-07-11T06:34:51.233249Z",
     "iopub.status.busy": "2022-07-11T06:34:51.233024Z",
     "iopub.status.idle": "2022-07-11T06:34:51.258912Z",
     "shell.execute_reply": "2022-07-11T06:34:51.258520Z"
    },
    "papermill": {
     "duration": 0.040565,
     "end_time": "2022-07-11T06:34:51.260162",
     "exception": false,
     "start_time": "2022-07-11T06:34:51.219597",
     "status": "completed"
    },
    "tags": []
   },
   "outputs": [],
   "source": [
    "EQTL_MODEL_FILES_PREFIX = conf.PHENOMEXCAN[\"PREDICTION_MODELS\"][f\"{EQTL_MODEL}_PREFIX\"]"
   ]
  },
  {
   "cell_type": "code",
   "execution_count": 6,
   "id": "8fe24bef",
   "metadata": {
    "execution": {
     "iopub.execute_input": "2022-07-11T06:34:51.280283Z",
     "iopub.status.busy": "2022-07-11T06:34:51.279306Z",
     "iopub.status.idle": "2022-07-11T06:34:51.305757Z",
     "shell.execute_reply": "2022-07-11T06:34:51.305381Z"
    },
    "papermill": {
     "duration": 0.038247,
     "end_time": "2022-07-11T06:34:51.307021",
     "exception": false,
     "start_time": "2022-07-11T06:34:51.268774",
     "status": "completed"
    },
    "tags": []
   },
   "outputs": [
    {
     "data": {
      "text/plain": [
       "'Using eQTL model: MASHR / mashr_'"
      ]
     },
     "metadata": {},
     "output_type": "display_data"
    }
   ],
   "source": [
    "display(f\"Using eQTL model: {EQTL_MODEL} / {EQTL_MODEL_FILES_PREFIX}\")"
   ]
  },
  {
   "cell_type": "code",
   "execution_count": 7,
   "id": "552a7f63-a18c-4d3e-bb6a-94f99b431291",
   "metadata": {
    "execution": {
     "iopub.execute_input": "2022-07-11T06:34:51.325154Z",
     "iopub.status.busy": "2022-07-11T06:34:51.324892Z",
     "iopub.status.idle": "2022-07-11T06:34:51.339801Z",
     "shell.execute_reply": "2022-07-11T06:34:51.339394Z"
    },
    "papermill": {
     "duration": 0.02446,
     "end_time": "2022-07-11T06:34:51.340954",
     "exception": false,
     "start_time": "2022-07-11T06:34:51.316494",
     "status": "completed"
    },
    "tags": []
   },
   "outputs": [
    {
     "data": {
      "text/plain": [
       "'S-MultiXcan condition number: 30'"
      ]
     },
     "metadata": {},
     "output_type": "display_data"
    }
   ],
   "source": [
    "display(f\"S-MultiXcan condition number: {SMULTIXCAN_CONDITION_NUMBER}\")"
   ]
  },
  {
   "cell_type": "code",
   "execution_count": 8,
   "id": "0230ebcb-2c32-4b95-9292-d9a52038e70d",
   "metadata": {
    "execution": {
     "iopub.execute_input": "2022-07-11T06:34:51.352942Z",
     "iopub.status.busy": "2022-07-11T06:34:51.352785Z",
     "iopub.status.idle": "2022-07-11T06:34:51.372798Z",
     "shell.execute_reply": "2022-07-11T06:34:51.372408Z"
    },
    "papermill": {
     "duration": 0.027318,
     "end_time": "2022-07-11T06:34:51.374038",
     "exception": false,
     "start_time": "2022-07-11T06:34:51.346720",
     "status": "completed"
    },
    "tags": []
   },
   "outputs": [],
   "source": [
    "REFERENCE_PANEL_DIR = conf.PHENOMEXCAN[\"LD_BLOCKS\"][f\"{REFERENCE_PANEL}_GENOTYPE_DIR\"]"
   ]
  },
  {
   "cell_type": "code",
   "execution_count": 9,
   "id": "98c4a159-601d-4a22-a1ab-35bd451c25f9",
   "metadata": {
    "execution": {
     "iopub.execute_input": "2022-07-11T06:34:51.406843Z",
     "iopub.status.busy": "2022-07-11T06:34:51.406686Z",
     "iopub.status.idle": "2022-07-11T06:34:51.421908Z",
     "shell.execute_reply": "2022-07-11T06:34:51.421548Z"
    },
    "papermill": {
     "duration": 0.034989,
     "end_time": "2022-07-11T06:34:51.423149",
     "exception": false,
     "start_time": "2022-07-11T06:34:51.388160",
     "status": "completed"
    },
    "tags": []
   },
   "outputs": [
    {
     "data": {
      "text/plain": [
       "'Using reference panel folder: /opt/data/data/phenomexcan/ld_blocks/reference_panel_1000G'"
      ]
     },
     "metadata": {},
     "output_type": "display_data"
    }
   ],
   "source": [
    "display(f\"Using reference panel folder: {str(REFERENCE_PANEL_DIR)}\")"
   ]
  },
  {
   "cell_type": "code",
   "execution_count": 10,
   "id": "396392dc-0340-4540-9b02-e182b833f909",
   "metadata": {
    "execution": {
     "iopub.execute_input": "2022-07-11T06:34:51.435403Z",
     "iopub.status.busy": "2022-07-11T06:34:51.435247Z",
     "iopub.status.idle": "2022-07-11T06:34:51.450304Z",
     "shell.execute_reply": "2022-07-11T06:34:51.449924Z"
    },
    "papermill": {
     "duration": 0.022579,
     "end_time": "2022-07-11T06:34:51.451664",
     "exception": false,
     "start_time": "2022-07-11T06:34:51.429085",
     "status": "completed"
    },
    "tags": []
   },
   "outputs": [],
   "source": [
    "OUTPUT_DIR_BASE = (\n",
    "    conf.PHENOMEXCAN[\"LD_BLOCKS\"][f\"GENE_CORRS_DIR\"]\n",
    "    / REFERENCE_PANEL.lower()\n",
    "    / EQTL_MODEL.lower()\n",
    ")\n",
    "OUTPUT_DIR_BASE.mkdir(parents=True, exist_ok=True)"
   ]
  },
  {
   "cell_type": "code",
   "execution_count": 11,
   "id": "8942c2d3-e53c-4d63-a0eb-b6fce0574d36",
   "metadata": {
    "execution": {
     "iopub.execute_input": "2022-07-11T06:34:51.463950Z",
     "iopub.status.busy": "2022-07-11T06:34:51.463793Z",
     "iopub.status.idle": "2022-07-11T06:34:51.479824Z",
     "shell.execute_reply": "2022-07-11T06:34:51.479228Z"
    },
    "papermill": {
     "duration": 0.023585,
     "end_time": "2022-07-11T06:34:51.481092",
     "exception": false,
     "start_time": "2022-07-11T06:34:51.457507",
     "status": "completed"
    },
    "tags": []
   },
   "outputs": [
    {
     "data": {
      "text/plain": [
       "'Using output dir base: /opt/data/data/phenomexcan/ld_blocks/gene_corrs/1000g/mashr'"
      ]
     },
     "metadata": {},
     "output_type": "display_data"
    }
   ],
   "source": [
    "display(f\"Using output dir base: {OUTPUT_DIR_BASE}\")"
   ]
  },
  {
   "cell_type": "code",
   "execution_count": 12,
   "id": "408aa590",
   "metadata": {
    "execution": {
     "iopub.execute_input": "2022-07-11T06:34:51.502986Z",
     "iopub.status.busy": "2022-07-11T06:34:51.502822Z",
     "iopub.status.idle": "2022-07-11T06:34:51.526857Z",
     "shell.execute_reply": "2022-07-11T06:34:51.526478Z"
    },
    "papermill": {
     "duration": 0.037529,
     "end_time": "2022-07-11T06:34:51.528174",
     "exception": false,
     "start_time": "2022-07-11T06:34:51.490645",
     "status": "completed"
    },
    "tags": []
   },
   "outputs": [],
   "source": [
    "assert (\n",
    "    chromosome is not None\n",
    "), \"You have to select one chromosome (format: number between 1 and 22)\""
   ]
  },
  {
   "cell_type": "code",
   "execution_count": 13,
   "id": "c1c7dd06-80ff-453c-bcb7-0899edce75da",
   "metadata": {
    "execution": {
     "iopub.execute_input": "2022-07-11T06:34:51.551009Z",
     "iopub.status.busy": "2022-07-11T06:34:51.550851Z",
     "iopub.status.idle": "2022-07-11T06:34:51.574242Z",
     "shell.execute_reply": "2022-07-11T06:34:51.573863Z"
    },
    "papermill": {
     "duration": 0.036839,
     "end_time": "2022-07-11T06:34:51.575604",
     "exception": false,
     "start_time": "2022-07-11T06:34:51.538765",
     "status": "completed"
    },
    "tags": []
   },
   "outputs": [],
   "source": [
    "chromosome = str(chromosome)"
   ]
  },
  {
   "cell_type": "code",
   "execution_count": 14,
   "id": "bc17b84c-9c26-47a5-a3ab-7046e72f3ef4",
   "metadata": {
    "execution": {
     "iopub.execute_input": "2022-07-11T06:34:51.594340Z",
     "iopub.status.busy": "2022-07-11T06:34:51.593999Z",
     "iopub.status.idle": "2022-07-11T06:34:51.608326Z",
     "shell.execute_reply": "2022-07-11T06:34:51.607918Z"
    },
    "papermill": {
     "duration": 0.024206,
     "end_time": "2022-07-11T06:34:51.609487",
     "exception": false,
     "start_time": "2022-07-11T06:34:51.585281",
     "status": "completed"
    },
    "tags": []
   },
   "outputs": [
    {
     "data": {
      "text/plain": [
       "'Working on chromosome 7'"
      ]
     },
     "metadata": {},
     "output_type": "display_data"
    }
   ],
   "source": [
    "display(f\"Working on chromosome {chromosome}\")"
   ]
  },
  {
   "cell_type": "markdown",
   "id": "d2ba085e",
   "metadata": {
    "papermill": {
     "duration": 0.005701,
     "end_time": "2022-07-11T06:34:51.621121",
     "exception": false,
     "start_time": "2022-07-11T06:34:51.615420",
     "status": "completed"
    },
    "tags": []
   },
   "source": [
    "# Load data"
   ]
  },
  {
   "cell_type": "markdown",
   "id": "7bed0ce0-e7c7-4300-9a61-5412450b1904",
   "metadata": {
    "papermill": {
     "duration": 0.006316,
     "end_time": "2022-07-11T06:34:51.633305",
     "exception": false,
     "start_time": "2022-07-11T06:34:51.626989",
     "status": "completed"
    },
    "tags": []
   },
   "source": [
    "## Prediction model tissues"
   ]
  },
  {
   "cell_type": "code",
   "execution_count": 15,
   "id": "0847c065-0d69-4830-a07f-1c75115d17f5",
   "metadata": {
    "execution": {
     "iopub.execute_input": "2022-07-11T06:34:51.645979Z",
     "iopub.status.busy": "2022-07-11T06:34:51.645808Z",
     "iopub.status.idle": "2022-07-11T06:34:51.661687Z",
     "shell.execute_reply": "2022-07-11T06:34:51.661285Z"
    },
    "papermill": {
     "duration": 0.02365,
     "end_time": "2022-07-11T06:34:51.662900",
     "exception": false,
     "start_time": "2022-07-11T06:34:51.639250",
     "status": "completed"
    },
    "tags": []
   },
   "outputs": [],
   "source": [
    "prediction_model_tissues = conf.PHENOMEXCAN[\"PREDICTION_MODELS\"][\n",
    "    f\"{EQTL_MODEL}_TISSUES\"\n",
    "].split(\" \")"
   ]
  },
  {
   "cell_type": "code",
   "execution_count": 16,
   "id": "aaef70d1-30c6-4c6f-9d6b-abc8e9a0081f",
   "metadata": {
    "execution": {
     "iopub.execute_input": "2022-07-11T06:34:51.685171Z",
     "iopub.status.busy": "2022-07-11T06:34:51.685017Z",
     "iopub.status.idle": "2022-07-11T06:34:51.708961Z",
     "shell.execute_reply": "2022-07-11T06:34:51.708558Z"
    },
    "papermill": {
     "duration": 0.037341,
     "end_time": "2022-07-11T06:34:51.710120",
     "exception": false,
     "start_time": "2022-07-11T06:34:51.672779",
     "status": "completed"
    },
    "tags": []
   },
   "outputs": [
    {
     "data": {
      "text/plain": [
       "49"
      ]
     },
     "execution_count": 16,
     "metadata": {},
     "output_type": "execute_result"
    }
   ],
   "source": [
    "len(prediction_model_tissues)"
   ]
  },
  {
   "cell_type": "code",
   "execution_count": 17,
   "id": "ff35a099-c52d-465d-b863-0ee70c26208c",
   "metadata": {
    "execution": {
     "iopub.execute_input": "2022-07-11T06:34:51.734099Z",
     "iopub.status.busy": "2022-07-11T06:34:51.733936Z",
     "iopub.status.idle": "2022-07-11T06:34:51.759244Z",
     "shell.execute_reply": "2022-07-11T06:34:51.758865Z"
    },
    "papermill": {
     "duration": 0.039921,
     "end_time": "2022-07-11T06:34:51.760421",
     "exception": false,
     "start_time": "2022-07-11T06:34:51.720500",
     "status": "completed"
    },
    "tags": []
   },
   "outputs": [
    {
     "data": {
      "text/plain": [
       "['Skin_Not_Sun_Exposed_Suprapubic',\n",
       " 'Cells_EBV-transformed_lymphocytes',\n",
       " 'Brain_Frontal_Cortex_BA9',\n",
       " 'Kidney_Cortex',\n",
       " 'Brain_Substantia_nigra']"
      ]
     },
     "execution_count": 17,
     "metadata": {},
     "output_type": "execute_result"
    }
   ],
   "source": [
    "prediction_model_tissues[:5]"
   ]
  },
  {
   "cell_type": "markdown",
   "id": "abcc4b3d",
   "metadata": {
    "papermill": {
     "duration": 0.012375,
     "end_time": "2022-07-11T06:34:51.782780",
     "exception": false,
     "start_time": "2022-07-11T06:34:51.770405",
     "status": "completed"
    },
    "tags": []
   },
   "source": [
    "## MultiPLIER Z"
   ]
  },
  {
   "cell_type": "code",
   "execution_count": 18,
   "id": "c48ef527",
   "metadata": {
    "execution": {
     "iopub.execute_input": "2022-07-11T06:34:51.808933Z",
     "iopub.status.busy": "2022-07-11T06:34:51.808767Z",
     "iopub.status.idle": "2022-07-11T06:34:51.908087Z",
     "shell.execute_reply": "2022-07-11T06:34:51.907693Z"
    },
    "papermill": {
     "duration": 0.113596,
     "end_time": "2022-07-11T06:34:51.909322",
     "exception": false,
     "start_time": "2022-07-11T06:34:51.795726",
     "status": "completed"
    },
    "tags": []
   },
   "outputs": [],
   "source": [
    "multiplier_z_genes = pd.read_pickle(\n",
    "    conf.MULTIPLIER[\"MODEL_Z_MATRIX_FILE\"]\n",
    ").index.tolist()"
   ]
  },
  {
   "cell_type": "code",
   "execution_count": 19,
   "id": "0a4ecbd9",
   "metadata": {
    "execution": {
     "iopub.execute_input": "2022-07-11T06:34:51.927389Z",
     "iopub.status.busy": "2022-07-11T06:34:51.927228Z",
     "iopub.status.idle": "2022-07-11T06:34:51.949868Z",
     "shell.execute_reply": "2022-07-11T06:34:51.949463Z"
    },
    "papermill": {
     "duration": 0.030946,
     "end_time": "2022-07-11T06:34:51.951262",
     "exception": false,
     "start_time": "2022-07-11T06:34:51.920316",
     "status": "completed"
    },
    "tags": []
   },
   "outputs": [
    {
     "data": {
      "text/plain": [
       "6750"
      ]
     },
     "execution_count": 19,
     "metadata": {},
     "output_type": "execute_result"
    }
   ],
   "source": [
    "len(multiplier_z_genes)"
   ]
  },
  {
   "cell_type": "code",
   "execution_count": 20,
   "id": "115e8864",
   "metadata": {
    "execution": {
     "iopub.execute_input": "2022-07-11T06:34:51.970225Z",
     "iopub.status.busy": "2022-07-11T06:34:51.969981Z",
     "iopub.status.idle": "2022-07-11T06:34:51.986501Z",
     "shell.execute_reply": "2022-07-11T06:34:51.986083Z"
    },
    "papermill": {
     "duration": 0.025571,
     "end_time": "2022-07-11T06:34:51.987757",
     "exception": false,
     "start_time": "2022-07-11T06:34:51.962186",
     "status": "completed"
    },
    "tags": []
   },
   "outputs": [
    {
     "data": {
      "text/plain": [
       "['GAS6',\n",
       " 'MMP14',\n",
       " 'DSP',\n",
       " 'MARCKSL1',\n",
       " 'SPARC',\n",
       " 'CTSD',\n",
       " 'EPAS1',\n",
       " 'PALLD',\n",
       " 'PHC2',\n",
       " 'LGALS3BP']"
      ]
     },
     "execution_count": 20,
     "metadata": {},
     "output_type": "execute_result"
    }
   ],
   "source": [
    "multiplier_z_genes[:10]"
   ]
  },
  {
   "cell_type": "markdown",
   "id": "7dcb8db7",
   "metadata": {
    "papermill": {
     "duration": 0.00659,
     "end_time": "2022-07-11T06:34:52.001035",
     "exception": false,
     "start_time": "2022-07-11T06:34:51.994445",
     "status": "completed"
    },
    "tags": []
   },
   "source": [
    "## Get gene objects"
   ]
  },
  {
   "cell_type": "code",
   "execution_count": 21,
   "id": "bb932812",
   "metadata": {
    "execution": {
     "iopub.execute_input": "2022-07-11T06:34:52.015223Z",
     "iopub.status.busy": "2022-07-11T06:34:52.015056Z",
     "iopub.status.idle": "2022-07-11T06:34:52.037054Z",
     "shell.execute_reply": "2022-07-11T06:34:52.036664Z"
    },
    "papermill": {
     "duration": 0.030726,
     "end_time": "2022-07-11T06:34:52.038485",
     "exception": false,
     "start_time": "2022-07-11T06:34:52.007759",
     "status": "completed"
    },
    "tags": []
   },
   "outputs": [],
   "source": [
    "multiplier_gene_obj = {\n",
    "    gene_name: Gene(name=gene_name)\n",
    "    for gene_name in multiplier_z_genes\n",
    "    if gene_name in Gene.GENE_NAME_TO_ID_MAP\n",
    "}"
   ]
  },
  {
   "cell_type": "code",
   "execution_count": 22,
   "id": "39533214",
   "metadata": {
    "execution": {
     "iopub.execute_input": "2022-07-11T06:34:52.052853Z",
     "iopub.status.busy": "2022-07-11T06:34:52.052691Z",
     "iopub.status.idle": "2022-07-11T06:34:52.069512Z",
     "shell.execute_reply": "2022-07-11T06:34:52.069127Z"
    },
    "papermill": {
     "duration": 0.025455,
     "end_time": "2022-07-11T06:34:52.070883",
     "exception": false,
     "start_time": "2022-07-11T06:34:52.045428",
     "status": "completed"
    },
    "tags": []
   },
   "outputs": [
    {
     "data": {
      "text/plain": [
       "6454"
      ]
     },
     "execution_count": 22,
     "metadata": {},
     "output_type": "execute_result"
    }
   ],
   "source": [
    "len(multiplier_gene_obj)"
   ]
  },
  {
   "cell_type": "code",
   "execution_count": 23,
   "id": "9a5d0b84",
   "metadata": {
    "execution": {
     "iopub.execute_input": "2022-07-11T06:34:52.085402Z",
     "iopub.status.busy": "2022-07-11T06:34:52.085244Z",
     "iopub.status.idle": "2022-07-11T06:34:52.101044Z",
     "shell.execute_reply": "2022-07-11T06:34:52.100523Z"
    },
    "papermill": {
     "duration": 0.024332,
     "end_time": "2022-07-11T06:34:52.102348",
     "exception": false,
     "start_time": "2022-07-11T06:34:52.078016",
     "status": "completed"
    },
    "tags": []
   },
   "outputs": [
    {
     "data": {
      "text/plain": [
       "'ENSG00000183087'"
      ]
     },
     "execution_count": 23,
     "metadata": {},
     "output_type": "execute_result"
    }
   ],
   "source": [
    "multiplier_gene_obj[\"GAS6\"].ensembl_id"
   ]
  },
  {
   "cell_type": "code",
   "execution_count": 24,
   "id": "e3ffabc7",
   "metadata": {
    "execution": {
     "iopub.execute_input": "2022-07-11T06:34:52.117440Z",
     "iopub.status.busy": "2022-07-11T06:34:52.117051Z",
     "iopub.status.idle": "2022-07-11T06:34:54.363829Z",
     "shell.execute_reply": "2022-07-11T06:34:54.363428Z"
    },
    "papermill": {
     "duration": 2.255847,
     "end_time": "2022-07-11T06:34:54.365220",
     "exception": false,
     "start_time": "2022-07-11T06:34:52.109373",
     "status": "completed"
    },
    "tags": []
   },
   "outputs": [],
   "source": [
    "_gene_obj = list(multiplier_gene_obj.values())\n",
    "\n",
    "genes_info = pd.DataFrame(\n",
    "    {\n",
    "        \"name\": [g.name for g in _gene_obj],\n",
    "        \"id\": [g.ensembl_id for g in _gene_obj],\n",
    "        \"chr\": [g.chromosome for g in _gene_obj],\n",
    "        \"band\": [g.band for g in _gene_obj],\n",
    "        \"start_position\": [g.get_attribute(\"start_position\") for g in _gene_obj],\n",
    "    }\n",
    ")"
   ]
  },
  {
   "cell_type": "code",
   "execution_count": 25,
   "id": "e23519b8",
   "metadata": {
    "execution": {
     "iopub.execute_input": "2022-07-11T06:34:54.379445Z",
     "iopub.status.busy": "2022-07-11T06:34:54.379071Z",
     "iopub.status.idle": "2022-07-11T06:34:54.395355Z",
     "shell.execute_reply": "2022-07-11T06:34:54.394851Z"
    },
    "papermill": {
     "duration": 0.024615,
     "end_time": "2022-07-11T06:34:54.396645",
     "exception": false,
     "start_time": "2022-07-11T06:34:54.372030",
     "status": "completed"
    },
    "tags": []
   },
   "outputs": [
    {
     "data": {
      "text/plain": [
       "(6454, 5)"
      ]
     },
     "execution_count": 25,
     "metadata": {},
     "output_type": "execute_result"
    }
   ],
   "source": [
    "genes_info.shape"
   ]
  },
  {
   "cell_type": "code",
   "execution_count": 26,
   "id": "0d71881c",
   "metadata": {
    "execution": {
     "iopub.execute_input": "2022-07-11T06:34:54.411029Z",
     "iopub.status.busy": "2022-07-11T06:34:54.410455Z",
     "iopub.status.idle": "2022-07-11T06:34:54.430653Z",
     "shell.execute_reply": "2022-07-11T06:34:54.430271Z"
    },
    "papermill": {
     "duration": 0.028446,
     "end_time": "2022-07-11T06:34:54.431787",
     "exception": false,
     "start_time": "2022-07-11T06:34:54.403341",
     "status": "completed"
    },
    "tags": []
   },
   "outputs": [
    {
     "data": {
      "text/html": [
       "<div>\n",
       "<style scoped>\n",
       "    .dataframe tbody tr th:only-of-type {\n",
       "        vertical-align: middle;\n",
       "    }\n",
       "\n",
       "    .dataframe tbody tr th {\n",
       "        vertical-align: top;\n",
       "    }\n",
       "\n",
       "    .dataframe thead th {\n",
       "        text-align: right;\n",
       "    }\n",
       "</style>\n",
       "<table border=\"1\" class=\"dataframe\">\n",
       "  <thead>\n",
       "    <tr style=\"text-align: right;\">\n",
       "      <th></th>\n",
       "      <th>name</th>\n",
       "      <th>id</th>\n",
       "      <th>chr</th>\n",
       "      <th>band</th>\n",
       "      <th>start_position</th>\n",
       "    </tr>\n",
       "  </thead>\n",
       "  <tbody>\n",
       "    <tr>\n",
       "      <th>0</th>\n",
       "      <td>GAS6</td>\n",
       "      <td>ENSG00000183087</td>\n",
       "      <td>13</td>\n",
       "      <td>13q34</td>\n",
       "      <td>113820549.0</td>\n",
       "    </tr>\n",
       "    <tr>\n",
       "      <th>1</th>\n",
       "      <td>MMP14</td>\n",
       "      <td>ENSG00000157227</td>\n",
       "      <td>14</td>\n",
       "      <td>14q11.2</td>\n",
       "      <td>22836560.0</td>\n",
       "    </tr>\n",
       "    <tr>\n",
       "      <th>2</th>\n",
       "      <td>DSP</td>\n",
       "      <td>ENSG00000096696</td>\n",
       "      <td>6</td>\n",
       "      <td>6p24.3</td>\n",
       "      <td>7541617.0</td>\n",
       "    </tr>\n",
       "    <tr>\n",
       "      <th>3</th>\n",
       "      <td>MARCKSL1</td>\n",
       "      <td>ENSG00000175130</td>\n",
       "      <td>1</td>\n",
       "      <td>1p35.1</td>\n",
       "      <td>32333839.0</td>\n",
       "    </tr>\n",
       "    <tr>\n",
       "      <th>4</th>\n",
       "      <td>SPARC</td>\n",
       "      <td>ENSG00000113140</td>\n",
       "      <td>5</td>\n",
       "      <td>5q33.1</td>\n",
       "      <td>151661096.0</td>\n",
       "    </tr>\n",
       "  </tbody>\n",
       "</table>\n",
       "</div>"
      ],
      "text/plain": [
       "       name               id chr     band  start_position\n",
       "0      GAS6  ENSG00000183087  13    13q34     113820549.0\n",
       "1     MMP14  ENSG00000157227  14  14q11.2      22836560.0\n",
       "2       DSP  ENSG00000096696   6   6p24.3       7541617.0\n",
       "3  MARCKSL1  ENSG00000175130   1   1p35.1      32333839.0\n",
       "4     SPARC  ENSG00000113140   5   5q33.1     151661096.0"
      ]
     },
     "execution_count": 26,
     "metadata": {},
     "output_type": "execute_result"
    }
   ],
   "source": [
    "genes_info.head()"
   ]
  },
  {
   "cell_type": "markdown",
   "id": "c8d1038f",
   "metadata": {
    "papermill": {
     "duration": 0.013224,
     "end_time": "2022-07-11T06:34:54.458748",
     "exception": false,
     "start_time": "2022-07-11T06:34:54.445524",
     "status": "completed"
    },
    "tags": []
   },
   "source": [
    "# Test"
   ]
  },
  {
   "cell_type": "code",
   "execution_count": 27,
   "id": "64993abf",
   "metadata": {
    "execution": {
     "iopub.execute_input": "2022-07-11T06:34:54.487763Z",
     "iopub.status.busy": "2022-07-11T06:34:54.487589Z",
     "iopub.status.idle": "2022-07-11T06:34:54.531417Z",
     "shell.execute_reply": "2022-07-11T06:34:54.531007Z"
    },
    "papermill": {
     "duration": 0.060041,
     "end_time": "2022-07-11T06:34:54.532722",
     "exception": false,
     "start_time": "2022-07-11T06:34:54.472681",
     "status": "completed"
    },
    "tags": []
   },
   "outputs": [
    {
     "data": {
      "text/html": [
       "<div>\n",
       "<style scoped>\n",
       "    .dataframe tbody tr th:only-of-type {\n",
       "        vertical-align: middle;\n",
       "    }\n",
       "\n",
       "    .dataframe tbody tr th {\n",
       "        vertical-align: top;\n",
       "    }\n",
       "\n",
       "    .dataframe thead th {\n",
       "        text-align: right;\n",
       "    }\n",
       "</style>\n",
       "<table border=\"1\" class=\"dataframe\">\n",
       "  <thead>\n",
       "    <tr style=\"text-align: right;\">\n",
       "      <th></th>\n",
       "      <th>name</th>\n",
       "      <th>id</th>\n",
       "      <th>chr</th>\n",
       "      <th>band</th>\n",
       "      <th>start_position</th>\n",
       "    </tr>\n",
       "  </thead>\n",
       "  <tbody>\n",
       "    <tr>\n",
       "      <th>14</th>\n",
       "      <td>GPNMB</td>\n",
       "      <td>ENSG00000136235</td>\n",
       "      <td>7</td>\n",
       "      <td>7p15.3</td>\n",
       "      <td>23235967.0</td>\n",
       "    </tr>\n",
       "    <tr>\n",
       "      <th>37</th>\n",
       "      <td>PON2</td>\n",
       "      <td>ENSG00000105854</td>\n",
       "      <td>7</td>\n",
       "      <td>7q21.3</td>\n",
       "      <td>95404862.0</td>\n",
       "    </tr>\n",
       "    <tr>\n",
       "      <th>86</th>\n",
       "      <td>PTPRN2</td>\n",
       "      <td>ENSG00000155093</td>\n",
       "      <td>7</td>\n",
       "      <td>7q36.3</td>\n",
       "      <td>157539056.0</td>\n",
       "    </tr>\n",
       "    <tr>\n",
       "      <th>95</th>\n",
       "      <td>UPP1</td>\n",
       "      <td>ENSG00000183696</td>\n",
       "      <td>7</td>\n",
       "      <td>7p12.3</td>\n",
       "      <td>48088628.0</td>\n",
       "    </tr>\n",
       "    <tr>\n",
       "      <th>98</th>\n",
       "      <td>CAV2</td>\n",
       "      <td>ENSG00000105971</td>\n",
       "      <td>7</td>\n",
       "      <td>7q31.2</td>\n",
       "      <td>116287380.0</td>\n",
       "    </tr>\n",
       "    <tr>\n",
       "      <th>...</th>\n",
       "      <td>...</td>\n",
       "      <td>...</td>\n",
       "      <td>...</td>\n",
       "      <td>...</td>\n",
       "      <td>...</td>\n",
       "    </tr>\n",
       "    <tr>\n",
       "      <th>6357</th>\n",
       "      <td>ASNS</td>\n",
       "      <td>ENSG00000070669</td>\n",
       "      <td>7</td>\n",
       "      <td>7q21.3</td>\n",
       "      <td>97851677.0</td>\n",
       "    </tr>\n",
       "    <tr>\n",
       "      <th>6360</th>\n",
       "      <td>RHEB</td>\n",
       "      <td>ENSG00000106615</td>\n",
       "      <td>7</td>\n",
       "      <td>7q36.1</td>\n",
       "      <td>151466012.0</td>\n",
       "    </tr>\n",
       "    <tr>\n",
       "      <th>6408</th>\n",
       "      <td>ZNF282</td>\n",
       "      <td>ENSG00000170265</td>\n",
       "      <td>7</td>\n",
       "      <td>7q36.1</td>\n",
       "      <td>149195546.0</td>\n",
       "    </tr>\n",
       "    <tr>\n",
       "      <th>6422</th>\n",
       "      <td>IKZF1</td>\n",
       "      <td>ENSG00000185811</td>\n",
       "      <td>7</td>\n",
       "      <td>7p12.2</td>\n",
       "      <td>50304068.0</td>\n",
       "    </tr>\n",
       "    <tr>\n",
       "      <th>6432</th>\n",
       "      <td>PSPH</td>\n",
       "      <td>ENSG00000146733</td>\n",
       "      <td>7</td>\n",
       "      <td>7p11.2</td>\n",
       "      <td>56011051.0</td>\n",
       "    </tr>\n",
       "  </tbody>\n",
       "</table>\n",
       "<p>281 rows × 5 columns</p>\n",
       "</div>"
      ],
      "text/plain": [
       "        name               id chr    band  start_position\n",
       "14     GPNMB  ENSG00000136235   7  7p15.3      23235967.0\n",
       "37      PON2  ENSG00000105854   7  7q21.3      95404862.0\n",
       "86    PTPRN2  ENSG00000155093   7  7q36.3     157539056.0\n",
       "95      UPP1  ENSG00000183696   7  7p12.3      48088628.0\n",
       "98      CAV2  ENSG00000105971   7  7q31.2     116287380.0\n",
       "...      ...              ...  ..     ...             ...\n",
       "6357    ASNS  ENSG00000070669   7  7q21.3      97851677.0\n",
       "6360    RHEB  ENSG00000106615   7  7q36.1     151466012.0\n",
       "6408  ZNF282  ENSG00000170265   7  7q36.1     149195546.0\n",
       "6422   IKZF1  ENSG00000185811   7  7p12.2      50304068.0\n",
       "6432    PSPH  ENSG00000146733   7  7p11.2      56011051.0\n",
       "\n",
       "[281 rows x 5 columns]"
      ]
     },
     "metadata": {},
     "output_type": "display_data"
    }
   ],
   "source": [
    "chromosome_genes_info = genes_info[genes_info[\"chr\"] == chromosome]\n",
    "display(chromosome_genes_info)"
   ]
  },
  {
   "cell_type": "code",
   "execution_count": 28,
   "id": "d2e42726-7de6-46eb-acfc-6323eaa8fae6",
   "metadata": {
    "execution": {
     "iopub.execute_input": "2022-07-11T06:34:54.548941Z",
     "iopub.status.busy": "2022-07-11T06:34:54.548782Z",
     "iopub.status.idle": "2022-07-11T06:34:54.566041Z",
     "shell.execute_reply": "2022-07-11T06:34:54.565640Z"
    },
    "papermill": {
     "duration": 0.026864,
     "end_time": "2022-07-11T06:34:54.567428",
     "exception": false,
     "start_time": "2022-07-11T06:34:54.540564",
     "status": "completed"
    },
    "tags": []
   },
   "outputs": [
    {
     "data": {
      "text/plain": [
       "5"
      ]
     },
     "metadata": {},
     "output_type": "display_data"
    }
   ],
   "source": [
    "seed(0)\n",
    "_gene_list_ids = sample(chromosome_genes_info[\"id\"].tolist(), 5)\n",
    "selected_chromosome_genes_obj = [Gene(ensembl_id=g_id) for g_id in _gene_list_ids]\n",
    "display(len(selected_chromosome_genes_obj))"
   ]
  },
  {
   "cell_type": "code",
   "execution_count": 29,
   "id": "1b355359",
   "metadata": {
    "execution": {
     "iopub.execute_input": "2022-07-11T06:34:54.596685Z",
     "iopub.status.busy": "2022-07-11T06:34:54.596529Z",
     "iopub.status.idle": "2022-07-11T06:34:56.272735Z",
     "shell.execute_reply": "2022-07-11T06:34:56.272284Z"
    },
    "papermill": {
     "duration": 1.689651,
     "end_time": "2022-07-11T06:34:56.273956",
     "exception": false,
     "start_time": "2022-07-11T06:34:54.584305",
     "status": "completed"
    },
    "tags": []
   },
   "outputs": [
    {
     "name": "stdout",
     "output_type": "stream",
     "text": [
      "AMPH / MUC12: 0.0\n",
      "AMPH / PDIA4: 0.0\n",
      "AMPH / PRPS1L1: 0.0\n",
      "AMPH / EPHB4: 0.0\n",
      "MUC12 / PDIA4: 0.0\n",
      "MUC12 / PRPS1L1: 0.0\n",
      "MUC12 / EPHB4: 0.03534621574037355\n",
      "PDIA4 / PRPS1L1: 0.0\n",
      "PDIA4 / EPHB4: 0.0\n",
      "PRPS1L1 / EPHB4: 0.0\n"
     ]
    }
   ],
   "source": [
    "for gene_idx1 in range(0, len(selected_chromosome_genes_obj) - 1):\n",
    "    gene_obj1 = selected_chromosome_genes_obj[gene_idx1]\n",
    "\n",
    "    for gene_idx2 in range(gene_idx1 + 1, len(selected_chromosome_genes_obj)):\n",
    "        gene_obj2 = selected_chromosome_genes_obj[gene_idx2]\n",
    "\n",
    "        c = gene_obj1.get_ssm_correlation(\n",
    "            gene_obj2,\n",
    "        )\n",
    "\n",
    "        print(f\"{gene_obj1.name} / {gene_obj2.name}: {c}\")"
   ]
  },
  {
   "cell_type": "markdown",
   "id": "d3843e06",
   "metadata": {
    "papermill": {
     "duration": 0.014297,
     "end_time": "2022-07-11T06:34:56.303858",
     "exception": false,
     "start_time": "2022-07-11T06:34:56.289561",
     "status": "completed"
    },
    "tags": []
   },
   "source": [
    "# Compute correlation per chromosome"
   ]
  },
  {
   "cell_type": "code",
   "execution_count": 30,
   "id": "cb859c15-d1f3-4006-a74c-2b83c0db9611",
   "metadata": {
    "execution": {
     "iopub.execute_input": "2022-07-11T06:34:56.326088Z",
     "iopub.status.busy": "2022-07-11T06:34:56.325900Z",
     "iopub.status.idle": "2022-07-11T06:34:56.343218Z",
     "shell.execute_reply": "2022-07-11T06:34:56.342812Z"
    },
    "papermill": {
     "duration": 0.026592,
     "end_time": "2022-07-11T06:34:56.344559",
     "exception": false,
     "start_time": "2022-07-11T06:34:56.317967",
     "status": "completed"
    },
    "tags": []
   },
   "outputs": [
    {
     "data": {
      "text/plain": [
       "PosixPath('/opt/data/data/phenomexcan/ld_blocks/gene_corrs/1000g/mashr/by_chr/gene_corrs-chr7.pkl')"
      ]
     },
     "metadata": {},
     "output_type": "display_data"
    }
   ],
   "source": [
    "output_dir = OUTPUT_DIR_BASE / \"by_chr\"\n",
    "output_dir.mkdir(exist_ok=True, parents=True)\n",
    "output_file = output_dir / f\"gene_corrs-chr{chromosome}.pkl\"\n",
    "display(output_file)"
   ]
  },
  {
   "cell_type": "code",
   "execution_count": 31,
   "id": "aa674fe4-6794-4eed-98fa-32b39d1d4ace",
   "metadata": {
    "execution": {
     "iopub.execute_input": "2022-07-11T06:34:56.360278Z",
     "iopub.status.busy": "2022-07-11T06:34:56.360119Z",
     "iopub.status.idle": "2022-07-11T06:34:56.375391Z",
     "shell.execute_reply": "2022-07-11T06:34:56.374987Z"
    },
    "papermill": {
     "duration": 0.024681,
     "end_time": "2022-07-11T06:34:56.376824",
     "exception": false,
     "start_time": "2022-07-11T06:34:56.352143",
     "status": "completed"
    },
    "tags": []
   },
   "outputs": [],
   "source": [
    "warnings.filterwarnings(\"error\")"
   ]
  },
  {
   "cell_type": "code",
   "execution_count": 32,
   "id": "cdbb90a1",
   "metadata": {
    "execution": {
     "iopub.execute_input": "2022-07-11T06:34:56.405155Z",
     "iopub.status.busy": "2022-07-11T06:34:56.404993Z",
     "iopub.status.idle": "2022-07-11T06:42:39.468106Z",
     "shell.execute_reply": "2022-07-11T06:42:39.467704Z"
    },
    "papermill": {
     "duration": 463.079877,
     "end_time": "2022-07-11T06:42:39.469421",
     "exception": false,
     "start_time": "2022-07-11T06:34:56.389544",
     "status": "completed"
    },
    "tags": []
   },
   "outputs": [
    {
     "name": "stdout",
     "output_type": "stream",
     "text": [
      "Number of genes in chromosome: 281\n",
      "Number of gene combinations: 39340\n"
     ]
    },
    {
     "name": "stderr",
     "output_type": "stream",
     "text": [
      "ENSG00000155093 / ENSG00000106018: 100%|██████████████████████| 39340/39340 [07:42<00:00, 84.97it/s]"
     ]
    },
    {
     "name": "stdout",
     "output_type": "stream",
     "text": [
      "Min/max values: 0.0 / 0.9346022449198278\n"
     ]
    },
    {
     "name": "stderr",
     "output_type": "stream",
     "text": [
      "\n"
     ]
    },
    {
     "data": {
      "text/plain": [
       "PosixPath('/opt/data/data/phenomexcan/ld_blocks/gene_corrs/1000g/mashr/by_chr/gene_corrs-chr7.pkl')"
      ]
     },
     "metadata": {},
     "output_type": "display_data"
    }
   ],
   "source": [
    "# standard checks\n",
    "all_chrs = genes_info[\"chr\"].dropna().unique()\n",
    "assert all_chrs.shape[0] == 22\n",
    "\n",
    "# select chromosome given by the user\n",
    "assert chromosome in all_chrs\n",
    "\n",
    "# run only on the chromosome specified\n",
    "all_chrs = [chromosome]\n",
    "genes_chr = genes_info[genes_info[\"chr\"] == chromosome]\n",
    "\n",
    "# For testing purposes\n",
    "# genes_chr = genes_chr.sample(n=20)\n",
    "\n",
    "print(f\"Number of genes in chromosome: {genes_chr.shape[0]}\", flush=True)\n",
    "\n",
    "# sort genes by starting position to make visualizations better later\n",
    "genes_chr = genes_chr.sort_values(\"start_position\")\n",
    "\n",
    "gene_chr_objs = [Gene(ensembl_id=gene_id) for gene_id in genes_chr[\"id\"]]\n",
    "gene_chr_ids = [g.ensembl_id for g in gene_chr_objs]\n",
    "\n",
    "n = len(gene_chr_objs)\n",
    "n_comb = int(n * (n - 1) / 2.0)\n",
    "print(f\"Number of gene combinations: {n_comb}\", flush=True)\n",
    "\n",
    "gene_corrs = []\n",
    "\n",
    "pbar = tqdm(ncols=100, total=n_comb)\n",
    "i = 0\n",
    "for gene_idx1 in range(0, len(gene_chr_objs) - 1):\n",
    "    gene_obj1 = gene_chr_objs[gene_idx1]\n",
    "\n",
    "    for gene_idx2 in range(gene_idx1 + 1, len(gene_chr_objs)):\n",
    "        gene_obj2 = gene_chr_objs[gene_idx2]\n",
    "\n",
    "        pbar.set_description(f\"{gene_obj1.ensembl_id} / {gene_obj2.ensembl_id}\")\n",
    "\n",
    "        try:\n",
    "            # FIXME: compute the correlation of the sum of squares of the model using all\n",
    "            # the available tissues; this could be problematic because for some results\n",
    "            # (computed on a specific phenotype/GWAS) we might not have all the tissues\n",
    "            # available, which can certainly bias the correlation estimation.\n",
    "            # Since this depends on the GWAS on a specific phenotype, we should ideally have\n",
    "            # one correlation matrix per GWAS. I should look at how we can improve this.\n",
    "            r = gene_obj1.get_ssm_correlation(\n",
    "                other_gene=gene_obj2,\n",
    "                condition_number=SMULTIXCAN_CONDITION_NUMBER,\n",
    "                reference_panel=REFERENCE_PANEL,\n",
    "                model_type=EQTL_MODEL,\n",
    "            )\n",
    "\n",
    "            if r is None:\n",
    "                # if r is None, it's very likely because:\n",
    "                #  * one of the genes has no prediction models\n",
    "                #  * all the SNPs predictors for the gene are not present in the reference\n",
    "                #    panel\n",
    "\n",
    "                r = 0.0\n",
    "\n",
    "            gene_corrs.append(r)\n",
    "        except Warning:\n",
    "            print(\n",
    "                f\"RuntimeWarning for genes {gene_obj1.ensembl_id} and {gene_obj2.ensembl_id}\",\n",
    "                flush=True,\n",
    "            )\n",
    "            import traceback\n",
    "\n",
    "            print(traceback.format_exc(), flush=True)\n",
    "        except Exception as e:\n",
    "            print(\n",
    "                f\"Exception for genes {gene_obj1.ensembl_id} and {gene_obj2.ensembl_id}\",\n",
    "                flush=True,\n",
    "            )\n",
    "            import traceback\n",
    "\n",
    "            print(traceback.format_exc(), flush=True)\n",
    "            gene_corrs.append(np.nan)\n",
    "\n",
    "        pbar.update(1)\n",
    "\n",
    "pbar.close()\n",
    "\n",
    "# testing\n",
    "gene_corrs_flat = pd.Series(gene_corrs)\n",
    "print(f\"Min/max values: {gene_corrs_flat.min()} / {gene_corrs_flat.max()}\")\n",
    "assert gene_corrs_flat.min() >= -1.001\n",
    "assert gene_corrs_flat.max() <= 1.001\n",
    "\n",
    "# save\n",
    "# FIXME: consider saving only the condenced matrix here. See here for\n",
    "# more details: https://github.com/greenelab/phenoplier/pull/38#discussion_r634600813\n",
    "gene_corrs_data = squareform(np.array(gene_corrs, dtype=np.float64))\n",
    "np.fill_diagonal(gene_corrs_data, 1.0)\n",
    "\n",
    "gene_corrs_df = pd.DataFrame(\n",
    "    data=gene_corrs_data,\n",
    "    index=gene_chr_ids,\n",
    "    columns=gene_chr_ids,\n",
    ")\n",
    "\n",
    "output_dir.mkdir(exist_ok=True, parents=True)\n",
    "display(output_file)\n",
    "\n",
    "gene_corrs_df.to_pickle(output_file)"
   ]
  },
  {
   "cell_type": "markdown",
   "id": "faa67b51-5373-470f-aa72-2ded53fa6dfe",
   "metadata": {
    "papermill": {
     "duration": 1.538919,
     "end_time": "2022-07-11T06:42:42.404264",
     "exception": false,
     "start_time": "2022-07-11T06:42:40.865345",
     "status": "completed"
    },
    "tags": []
   },
   "source": [
    "# Testing"
   ]
  },
  {
   "cell_type": "code",
   "execution_count": 33,
   "id": "14f7d046-4b55-4896-a56b-990127bcc388",
   "metadata": {
    "execution": {
     "iopub.execute_input": "2022-07-11T06:42:45.753435Z",
     "iopub.status.busy": "2022-07-11T06:42:45.751829Z",
     "iopub.status.idle": "2022-07-11T06:42:45.781352Z",
     "shell.execute_reply": "2022-07-11T06:42:45.780951Z"
    },
    "papermill": {
     "duration": 1.716339,
     "end_time": "2022-07-11T06:42:45.782450",
     "exception": false,
     "start_time": "2022-07-11T06:42:44.066111",
     "status": "completed"
    },
    "tags": []
   },
   "outputs": [
    {
     "data": {
      "text/plain": [
       "(281, 281)"
      ]
     },
     "execution_count": 33,
     "metadata": {},
     "output_type": "execute_result"
    }
   ],
   "source": [
    "gene_corrs_df.shape"
   ]
  },
  {
   "cell_type": "code",
   "execution_count": 34,
   "id": "c7d15414-3297-4537-a7c6-7588c0baeb75",
   "metadata": {
    "execution": {
     "iopub.execute_input": "2022-07-11T06:42:48.649570Z",
     "iopub.status.busy": "2022-07-11T06:42:48.649354Z",
     "iopub.status.idle": "2022-07-11T06:42:48.689070Z",
     "shell.execute_reply": "2022-07-11T06:42:48.688695Z"
    },
    "papermill": {
     "duration": 1.472782,
     "end_time": "2022-07-11T06:42:48.690186",
     "exception": false,
     "start_time": "2022-07-11T06:42:47.217404",
     "status": "completed"
    },
    "tags": []
   },
   "outputs": [
    {
     "data": {
      "text/html": [
       "<div>\n",
       "<style scoped>\n",
       "    .dataframe tbody tr th:only-of-type {\n",
       "        vertical-align: middle;\n",
       "    }\n",
       "\n",
       "    .dataframe tbody tr th {\n",
       "        vertical-align: top;\n",
       "    }\n",
       "\n",
       "    .dataframe thead th {\n",
       "        text-align: right;\n",
       "    }\n",
       "</style>\n",
       "<table border=\"1\" class=\"dataframe\">\n",
       "  <thead>\n",
       "    <tr style=\"text-align: right;\">\n",
       "      <th></th>\n",
       "      <th>ENSG00000197461</th>\n",
       "      <th>ENSG00000188191</th>\n",
       "      <th>ENSG00000105963</th>\n",
       "      <th>ENSG00000198517</th>\n",
       "      <th>ENSG00000002822</th>\n",
       "      <th>ENSG00000106263</th>\n",
       "      <th>ENSG00000136213</th>\n",
       "      <th>ENSG00000106003</th>\n",
       "      <th>ENSG00000146535</th>\n",
       "      <th>ENSG00000198286</th>\n",
       "      <th>...</th>\n",
       "      <th>ENSG00000164889</th>\n",
       "      <th>ENSG00000033100</th>\n",
       "      <th>ENSG00000082014</th>\n",
       "      <th>ENSG00000013374</th>\n",
       "      <th>ENSG00000106615</th>\n",
       "      <th>ENSG00000106617</th>\n",
       "      <th>ENSG00000178234</th>\n",
       "      <th>ENSG00000009335</th>\n",
       "      <th>ENSG00000155093</th>\n",
       "      <th>ENSG00000106018</th>\n",
       "    </tr>\n",
       "  </thead>\n",
       "  <tbody>\n",
       "    <tr>\n",
       "      <th>ENSG00000197461</th>\n",
       "      <td>1.000000</td>\n",
       "      <td>0.081986</td>\n",
       "      <td>0.043885</td>\n",
       "      <td>0.004853</td>\n",
       "      <td>0.019816</td>\n",
       "      <td>0.008025</td>\n",
       "      <td>0.022171</td>\n",
       "      <td>0.013790</td>\n",
       "      <td>0.013599</td>\n",
       "      <td>0.015700</td>\n",
       "      <td>...</td>\n",
       "      <td>0.0</td>\n",
       "      <td>0.0</td>\n",
       "      <td>0.0</td>\n",
       "      <td>0.0</td>\n",
       "      <td>0.0</td>\n",
       "      <td>0.0</td>\n",
       "      <td>0.0</td>\n",
       "      <td>0.0</td>\n",
       "      <td>0.0</td>\n",
       "      <td>0.0</td>\n",
       "    </tr>\n",
       "    <tr>\n",
       "      <th>ENSG00000188191</th>\n",
       "      <td>0.081986</td>\n",
       "      <td>1.000000</td>\n",
       "      <td>0.089761</td>\n",
       "      <td>0.007912</td>\n",
       "      <td>0.010630</td>\n",
       "      <td>0.003971</td>\n",
       "      <td>0.021925</td>\n",
       "      <td>0.009760</td>\n",
       "      <td>0.009121</td>\n",
       "      <td>0.013800</td>\n",
       "      <td>...</td>\n",
       "      <td>0.0</td>\n",
       "      <td>0.0</td>\n",
       "      <td>0.0</td>\n",
       "      <td>0.0</td>\n",
       "      <td>0.0</td>\n",
       "      <td>0.0</td>\n",
       "      <td>0.0</td>\n",
       "      <td>0.0</td>\n",
       "      <td>0.0</td>\n",
       "      <td>0.0</td>\n",
       "    </tr>\n",
       "    <tr>\n",
       "      <th>ENSG00000105963</th>\n",
       "      <td>0.043885</td>\n",
       "      <td>0.089761</td>\n",
       "      <td>1.000000</td>\n",
       "      <td>0.012570</td>\n",
       "      <td>0.018635</td>\n",
       "      <td>0.011116</td>\n",
       "      <td>0.026086</td>\n",
       "      <td>0.018362</td>\n",
       "      <td>0.016696</td>\n",
       "      <td>0.023899</td>\n",
       "      <td>...</td>\n",
       "      <td>0.0</td>\n",
       "      <td>0.0</td>\n",
       "      <td>0.0</td>\n",
       "      <td>0.0</td>\n",
       "      <td>0.0</td>\n",
       "      <td>0.0</td>\n",
       "      <td>0.0</td>\n",
       "      <td>0.0</td>\n",
       "      <td>0.0</td>\n",
       "      <td>0.0</td>\n",
       "    </tr>\n",
       "    <tr>\n",
       "      <th>ENSG00000198517</th>\n",
       "      <td>0.004853</td>\n",
       "      <td>0.007912</td>\n",
       "      <td>0.012570</td>\n",
       "      <td>1.000000</td>\n",
       "      <td>0.009931</td>\n",
       "      <td>0.017722</td>\n",
       "      <td>0.020597</td>\n",
       "      <td>0.003794</td>\n",
       "      <td>0.001652</td>\n",
       "      <td>0.011681</td>\n",
       "      <td>...</td>\n",
       "      <td>0.0</td>\n",
       "      <td>0.0</td>\n",
       "      <td>0.0</td>\n",
       "      <td>0.0</td>\n",
       "      <td>0.0</td>\n",
       "      <td>0.0</td>\n",
       "      <td>0.0</td>\n",
       "      <td>0.0</td>\n",
       "      <td>0.0</td>\n",
       "      <td>0.0</td>\n",
       "    </tr>\n",
       "    <tr>\n",
       "      <th>ENSG00000002822</th>\n",
       "      <td>0.019816</td>\n",
       "      <td>0.010630</td>\n",
       "      <td>0.018635</td>\n",
       "      <td>0.009931</td>\n",
       "      <td>1.000000</td>\n",
       "      <td>0.026990</td>\n",
       "      <td>0.054232</td>\n",
       "      <td>0.036109</td>\n",
       "      <td>0.016608</td>\n",
       "      <td>0.026247</td>\n",
       "      <td>...</td>\n",
       "      <td>0.0</td>\n",
       "      <td>0.0</td>\n",
       "      <td>0.0</td>\n",
       "      <td>0.0</td>\n",
       "      <td>0.0</td>\n",
       "      <td>0.0</td>\n",
       "      <td>0.0</td>\n",
       "      <td>0.0</td>\n",
       "      <td>0.0</td>\n",
       "      <td>0.0</td>\n",
       "    </tr>\n",
       "  </tbody>\n",
       "</table>\n",
       "<p>5 rows × 281 columns</p>\n",
       "</div>"
      ],
      "text/plain": [
       "                 ENSG00000197461  ENSG00000188191  ENSG00000105963  \\\n",
       "ENSG00000197461         1.000000         0.081986         0.043885   \n",
       "ENSG00000188191         0.081986         1.000000         0.089761   \n",
       "ENSG00000105963         0.043885         0.089761         1.000000   \n",
       "ENSG00000198517         0.004853         0.007912         0.012570   \n",
       "ENSG00000002822         0.019816         0.010630         0.018635   \n",
       "\n",
       "                 ENSG00000198517  ENSG00000002822  ENSG00000106263  \\\n",
       "ENSG00000197461         0.004853         0.019816         0.008025   \n",
       "ENSG00000188191         0.007912         0.010630         0.003971   \n",
       "ENSG00000105963         0.012570         0.018635         0.011116   \n",
       "ENSG00000198517         1.000000         0.009931         0.017722   \n",
       "ENSG00000002822         0.009931         1.000000         0.026990   \n",
       "\n",
       "                 ENSG00000136213  ENSG00000106003  ENSG00000146535  \\\n",
       "ENSG00000197461         0.022171         0.013790         0.013599   \n",
       "ENSG00000188191         0.021925         0.009760         0.009121   \n",
       "ENSG00000105963         0.026086         0.018362         0.016696   \n",
       "ENSG00000198517         0.020597         0.003794         0.001652   \n",
       "ENSG00000002822         0.054232         0.036109         0.016608   \n",
       "\n",
       "                 ENSG00000198286  ...  ENSG00000164889  ENSG00000033100  \\\n",
       "ENSG00000197461         0.015700  ...              0.0              0.0   \n",
       "ENSG00000188191         0.013800  ...              0.0              0.0   \n",
       "ENSG00000105963         0.023899  ...              0.0              0.0   \n",
       "ENSG00000198517         0.011681  ...              0.0              0.0   \n",
       "ENSG00000002822         0.026247  ...              0.0              0.0   \n",
       "\n",
       "                 ENSG00000082014  ENSG00000013374  ENSG00000106615  \\\n",
       "ENSG00000197461              0.0              0.0              0.0   \n",
       "ENSG00000188191              0.0              0.0              0.0   \n",
       "ENSG00000105963              0.0              0.0              0.0   \n",
       "ENSG00000198517              0.0              0.0              0.0   \n",
       "ENSG00000002822              0.0              0.0              0.0   \n",
       "\n",
       "                 ENSG00000106617  ENSG00000178234  ENSG00000009335  \\\n",
       "ENSG00000197461              0.0              0.0              0.0   \n",
       "ENSG00000188191              0.0              0.0              0.0   \n",
       "ENSG00000105963              0.0              0.0              0.0   \n",
       "ENSG00000198517              0.0              0.0              0.0   \n",
       "ENSG00000002822              0.0              0.0              0.0   \n",
       "\n",
       "                 ENSG00000155093  ENSG00000106018  \n",
       "ENSG00000197461              0.0              0.0  \n",
       "ENSG00000188191              0.0              0.0  \n",
       "ENSG00000105963              0.0              0.0  \n",
       "ENSG00000198517              0.0              0.0  \n",
       "ENSG00000002822              0.0              0.0  \n",
       "\n",
       "[5 rows x 281 columns]"
      ]
     },
     "execution_count": 34,
     "metadata": {},
     "output_type": "execute_result"
    }
   ],
   "source": [
    "gene_corrs_df.head()"
   ]
  },
  {
   "cell_type": "code",
   "execution_count": 35,
   "id": "286686af-1b7b-4440-8453-6bdcbd8de19c",
   "metadata": {
    "execution": {
     "iopub.execute_input": "2022-07-11T06:42:51.659964Z",
     "iopub.status.busy": "2022-07-11T06:42:51.659803Z",
     "iopub.status.idle": "2022-07-11T06:42:51.688797Z",
     "shell.execute_reply": "2022-07-11T06:42:51.688379Z"
    },
    "papermill": {
     "duration": 1.485052,
     "end_time": "2022-07-11T06:42:51.690074",
     "exception": false,
     "start_time": "2022-07-11T06:42:50.205022",
     "status": "completed"
    },
    "tags": []
   },
   "outputs": [],
   "source": [
    "assert not gene_corrs_df.isna().any().any()"
   ]
  },
  {
   "cell_type": "code",
   "execution_count": 36,
   "id": "00583efc-7068-4270-ad1e-4a418e91db96",
   "metadata": {
    "execution": {
     "iopub.execute_input": "2022-07-11T06:42:54.718549Z",
     "iopub.status.busy": "2022-07-11T06:42:54.718375Z",
     "iopub.status.idle": "2022-07-11T06:42:54.736134Z",
     "shell.execute_reply": "2022-07-11T06:42:54.735625Z"
    },
    "papermill": {
     "duration": 1.504607,
     "end_time": "2022-07-11T06:42:54.737632",
     "exception": false,
     "start_time": "2022-07-11T06:42:53.233025",
     "status": "completed"
    },
    "tags": []
   },
   "outputs": [
    {
     "data": {
      "text/plain": [
       "0.0"
      ]
     },
     "metadata": {},
     "output_type": "display_data"
    }
   ],
   "source": [
    "_min_val = gene_corrs_df.min().min()\n",
    "display(_min_val)\n",
    "assert _min_val >= 0.0"
   ]
  },
  {
   "cell_type": "code",
   "execution_count": 37,
   "id": "d04fb2cf-1050-475b-b855-f5f7cc04092b",
   "metadata": {
    "execution": {
     "iopub.execute_input": "2022-07-11T06:42:57.680893Z",
     "iopub.status.busy": "2022-07-11T06:42:57.680556Z",
     "iopub.status.idle": "2022-07-11T06:42:57.697316Z",
     "shell.execute_reply": "2022-07-11T06:42:57.696756Z"
    },
    "papermill": {
     "duration": 1.480533,
     "end_time": "2022-07-11T06:42:57.698536",
     "exception": false,
     "start_time": "2022-07-11T06:42:56.218003",
     "status": "completed"
    },
    "tags": []
   },
   "outputs": [
    {
     "data": {
      "text/plain": [
       "1.0"
      ]
     },
     "metadata": {},
     "output_type": "display_data"
    }
   ],
   "source": [
    "_max_val = gene_corrs_df.max().max()  # this captures the diagonal\n",
    "display(_max_val)\n",
    "assert _max_val <= 1.0"
   ]
  },
  {
   "cell_type": "code",
   "execution_count": 38,
   "id": "96d02c44-1fba-47be-8a93-8f2608420b9c",
   "metadata": {
    "execution": {
     "iopub.execute_input": "2022-07-11T06:43:00.647695Z",
     "iopub.status.busy": "2022-07-11T06:43:00.645922Z",
     "iopub.status.idle": "2022-07-11T06:43:00.666622Z",
     "shell.execute_reply": "2022-07-11T06:43:00.666239Z"
    },
    "papermill": {
     "duration": 1.51208,
     "end_time": "2022-07-11T06:43:00.667874",
     "exception": false,
     "start_time": "2022-07-11T06:42:59.155794",
     "status": "completed"
    },
    "tags": []
   },
   "outputs": [],
   "source": [
    "# check upper triangular values\n",
    "assert len(gene_corrs) == int(genes_chr.shape[0] * (genes_chr.shape[0] - 1) / 2)"
   ]
  },
  {
   "cell_type": "code",
   "execution_count": 39,
   "id": "aaa51627-f4e3-4744-a41f-7d25adcc0a78",
   "metadata": {
    "execution": {
     "iopub.execute_input": "2022-07-11T06:43:03.785755Z",
     "iopub.status.busy": "2022-07-11T06:43:03.785589Z",
     "iopub.status.idle": "2022-07-11T06:43:03.804968Z",
     "shell.execute_reply": "2022-07-11T06:43:03.804471Z"
    },
    "papermill": {
     "duration": 1.521572,
     "end_time": "2022-07-11T06:43:03.806295",
     "exception": false,
     "start_time": "2022-07-11T06:43:02.284723",
     "status": "completed"
    },
    "tags": []
   },
   "outputs": [],
   "source": [
    "gene_corrs = pd.Series(gene_corrs)"
   ]
  },
  {
   "cell_type": "code",
   "execution_count": 40,
   "id": "fe283586-c348-40e0-8841-f6d97bfb021c",
   "metadata": {
    "execution": {
     "iopub.execute_input": "2022-07-11T06:43:06.787753Z",
     "iopub.status.busy": "2022-07-11T06:43:06.787546Z",
     "iopub.status.idle": "2022-07-11T06:43:06.807524Z",
     "shell.execute_reply": "2022-07-11T06:43:06.807106Z"
    },
    "papermill": {
     "duration": 1.443987,
     "end_time": "2022-07-11T06:43:06.808689",
     "exception": false,
     "start_time": "2022-07-11T06:43:05.364702",
     "status": "completed"
    },
    "tags": []
   },
   "outputs": [
    {
     "data": {
      "text/plain": [
       "count    39340.000000\n",
       "mean         0.003164\n",
       "std          0.030287\n",
       "min          0.000000\n",
       "25%          0.000000\n",
       "50%          0.000000\n",
       "75%          0.000000\n",
       "max          0.934602\n",
       "dtype: float64"
      ]
     },
     "execution_count": 40,
     "metadata": {},
     "output_type": "execute_result"
    }
   ],
   "source": [
    "gene_corrs.describe()"
   ]
  },
  {
   "cell_type": "code",
   "execution_count": 41,
   "id": "b3815678-0f93-4b35-897b-a9d047a2aa78",
   "metadata": {
    "execution": {
     "iopub.execute_input": "2022-07-11T06:43:09.801227Z",
     "iopub.status.busy": "2022-07-11T06:43:09.800855Z",
     "iopub.status.idle": "2022-07-11T06:43:09.818738Z",
     "shell.execute_reply": "2022-07-11T06:43:09.818287Z"
    },
    "papermill": {
     "duration": 1.519354,
     "end_time": "2022-07-11T06:43:09.819936",
     "exception": false,
     "start_time": "2022-07-11T06:43:08.300582",
     "status": "completed"
    },
    "tags": []
   },
   "outputs": [
    {
     "data": {
      "text/plain": [
       "0.00    0.000000\n",
       "0.05    0.000000\n",
       "0.10    0.000000\n",
       "0.15    0.000000\n",
       "0.20    0.000000\n",
       "0.25    0.000000\n",
       "0.30    0.000000\n",
       "0.35    0.000000\n",
       "0.40    0.000000\n",
       "0.45    0.000000\n",
       "0.50    0.000000\n",
       "0.55    0.000000\n",
       "0.60    0.000000\n",
       "0.65    0.000000\n",
       "0.70    0.000000\n",
       "0.75    0.000000\n",
       "0.80    0.000000\n",
       "0.85    0.000000\n",
       "0.90    0.000000\n",
       "0.95    0.008447\n",
       "dtype: float64"
      ]
     },
     "metadata": {},
     "output_type": "display_data"
    }
   ],
   "source": [
    "gene_corrs_quantiles = gene_corrs.quantile(np.arange(0, 1, 0.05))\n",
    "display(gene_corrs_quantiles)"
   ]
  },
  {
   "cell_type": "markdown",
   "id": "8e60a080-edb2-4e9c-b2ef-22961693200c",
   "metadata": {
    "papermill": {
     "duration": 1.428427,
     "end_time": "2022-07-11T06:43:12.772904",
     "exception": false,
     "start_time": "2022-07-11T06:43:11.344477",
     "status": "completed"
    },
    "tags": []
   },
   "source": [
    "## Plot: distribution"
   ]
  },
  {
   "cell_type": "code",
   "execution_count": 42,
   "id": "8301126b-a7d4-4744-9c7d-f0f86eb6f54c",
   "metadata": {
    "execution": {
     "iopub.execute_input": "2022-07-11T06:43:15.662315Z",
     "iopub.status.busy": "2022-07-11T06:43:15.661336Z",
     "iopub.status.idle": "2022-07-11T06:43:16.042070Z",
     "shell.execute_reply": "2022-07-11T06:43:16.041646Z"
    },
    "papermill": {
     "duration": 1.764653,
     "end_time": "2022-07-11T06:43:16.043228",
     "exception": false,
     "start_time": "2022-07-11T06:43:14.278575",
     "status": "completed"
    },
    "tags": []
   },
   "outputs": [
    {
     "data": {
      "image/png": "[encoded data removed]",
      "text/plain": [
       "<Figure size 504x504 with 1 Axes>"
      ]
     },
     "metadata": {
      "needs_background": "light"
     },
     "output_type": "display_data"
    }
   ],
   "source": [
    "with sns.plotting_context(\"paper\", font_scale=1.5):\n",
    "    g = sns.displot(gene_corrs, kde=True, height=7)\n",
    "    g.ax.set_title(\n",
    "        f\"Distribution of gene correlation values in chromosome {chromosome}\"\n",
    "    )"
   ]
  },
  {
   "cell_type": "markdown",
   "id": "cbd52bca-d878-4a2f-b684-5c83aa3038d4",
   "metadata": {
    "papermill": {
     "duration": 1.535158,
     "end_time": "2022-07-11T06:43:19.228357",
     "exception": false,
     "start_time": "2022-07-11T06:43:17.693199",
     "status": "completed"
    },
    "tags": []
   },
   "source": [
    "## Plot: heatmap"
   ]
  },
  {
   "cell_type": "code",
   "execution_count": 43,
   "id": "d03fe63a-c7b2-4fb9-a53c-db362ce843c9",
   "metadata": {
    "execution": {
     "iopub.execute_input": "2022-07-11T06:43:22.251375Z",
     "iopub.status.busy": "2022-07-11T06:43:22.250406Z",
     "iopub.status.idle": "2022-07-11T06:43:22.268634Z",
     "shell.execute_reply": "2022-07-11T06:43:22.268226Z"
    },
    "papermill": {
     "duration": 1.482836,
     "end_time": "2022-07-11T06:43:22.269875",
     "exception": false,
     "start_time": "2022-07-11T06:43:20.787039",
     "status": "completed"
    },
    "tags": []
   },
   "outputs": [
    {
     "data": {
      "text/plain": [
       "'-0.05 / 0.05'"
      ]
     },
     "metadata": {},
     "output_type": "display_data"
    }
   ],
   "source": [
    "vmin_val = min(-0.05, gene_corrs_quantiles[0.10])\n",
    "vmax_val = max(0.05, gene_corrs_quantiles[0.90])\n",
    "display(f\"{vmin_val} / {vmax_val}\")"
   ]
  },
  {
   "cell_type": "code",
   "execution_count": 44,
   "id": "dc41b70b-5bcc-4d9e-9f33-a22c4a94dab5",
   "metadata": {
    "execution": {
     "iopub.execute_input": "2022-07-11T06:43:25.270240Z",
     "iopub.status.busy": "2022-07-11T06:43:25.269133Z",
     "iopub.status.idle": "2022-07-11T06:43:25.462426Z",
     "shell.execute_reply": "2022-07-11T06:43:25.461852Z"
    },
    "papermill": {
     "duration": 1.719679,
     "end_time": "2022-07-11T06:43:25.463697",
     "exception": false,
     "start_time": "2022-07-11T06:43:23.744018",
     "status": "completed"
    },
    "tags": []
   },
   "outputs": [
    {
     "data": {
      "text/plain": [
       "Text(0.5, 1.0, 'Gene correlations in chromosome 7')"
      ]
     },
     "execution_count": 44,
     "metadata": {},
     "output_type": "execute_result"
    },
    {
     "data": {
      "image/png": "[encoded data removed]",
      "text/plain": [
       "<Figure size 720x720 with 2 Axes>"
      ]
     },
     "metadata": {
      "needs_background": "light"
     },
     "output_type": "display_data"
    }
   ],
   "source": [
    "f, ax = plt.subplots(figsize=(10, 10))\n",
    "sns.heatmap(\n",
    "    gene_corrs_df,\n",
    "    xticklabels=False,\n",
    "    yticklabels=False,\n",
    "    square=True,\n",
    "    vmin=vmin_val,\n",
    "    vmax=vmax_val,\n",
    "    cmap=\"YlGnBu\",\n",
    "    ax=ax,\n",
    ")\n",
    "ax.set_title(f\"Gene correlations in chromosome {chromosome}\")"
   ]
  },
  {
   "cell_type": "code",
   "execution_count": null,
   "id": "b25e3ead",
   "metadata": {
    "papermill": {
     "duration": 1.542557,
     "end_time": "2022-07-11T06:43:28.484931",
     "exception": false,
     "start_time": "2022-07-11T06:43:26.942374",
     "status": "completed"
    },
    "tags": []
   },
   "outputs": [],
   "source": []
  }
 ],
 "metadata": {
  "jupytext": {
   "cell_metadata_filter": "all,-execution,-papermill,-trusted",
   "formats": "ipynb,py//py:percent"
  },
  "kernelspec": {
   "display_name": "Python 3 (ipykernel)",
   "language": "python",
   "name": "python3"
  },
  "language_info": {
   "codemirror_mode": {
    "name": "ipython",
    "version": 3
   },
   "file_extension": ".py",
   "mimetype": "text/x-python",
   "name": "python",
   "nbconvert_exporter": "python",
   "pygments_lexer": "ipython3",
   "version": "3.8.13"
  },
  "papermill": {
   "default_parameters": {},
   "duration": 524.32885,
   "end_time": "2022-07-11T06:43:32.866656",
   "environment_variables": {},
   "exception": null,
   "input_path": "nbs/15_gsa_gls/10-gene_expr_correlations.ipynb",
   "output_path": "nbs/15_gsa_gls/gene_corrs/1000g/mashr/10-gene_expr_correlations-chr7.run.ipynb",
   "parameters": {
    "EQTL_MODEL": "MASHR",
    "REFERENCE_PANEL": "1000G",
    "chromosome": 7
   },
   "start_time": "2022-07-11T06:34:48.537806",
   "version": "2.2.2"
  }
 },
 "nbformat": 4,
 "nbformat_minor": 5
}
