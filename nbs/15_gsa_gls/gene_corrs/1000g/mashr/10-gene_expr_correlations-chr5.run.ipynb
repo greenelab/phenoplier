{
 "cells": [
  {
   "cell_type": "markdown",
   "id": "7a6632fb",
   "metadata": {
    "papermill": {
     "duration": 0.006183,
     "end_time": "2022-07-12T04:04:27.132329",
     "exception": false,
     "start_time": "2022-07-12T04:04:27.126146",
     "status": "completed"
    },
    "tags": []
   },
   "source": [
    "# Description"
   ]
  },
  {
   "cell_type": "markdown",
   "id": "7097c346",
   "metadata": {
    "papermill": {
     "duration": 0.005545,
     "end_time": "2022-07-12T04:04:27.143426",
     "exception": false,
     "start_time": "2022-07-12T04:04:27.137881",
     "status": "completed"
    },
    "tags": []
   },
   "source": [
    "(Please, take a look at the README.md file in this directory for instructions on how to run this notebook)\n",
    "\n",
    "This notebook computes predicted expression correlations between all genes in the MultiPLIER models.\n",
    "\n",
    "It also has a parameter set for papermill to run on a single chromosome to run in parallel (see under `Settings` below).\n",
    "\n",
    "This notebook is not directly run. See README.md."
   ]
  },
  {
   "cell_type": "markdown",
   "id": "c61d8427",
   "metadata": {
    "papermill": {
     "duration": 0.005345,
     "end_time": "2022-07-12T04:04:27.154445",
     "exception": false,
     "start_time": "2022-07-12T04:04:27.149100",
     "status": "completed"
    },
    "tags": []
   },
   "source": [
    "# Modules"
   ]
  },
  {
   "cell_type": "code",
   "execution_count": 1,
   "id": "bbc0234f",
   "metadata": {
    "execution": {
     "iopub.execute_input": "2022-07-12T04:04:27.167487Z",
     "iopub.status.busy": "2022-07-12T04:04:27.166987Z",
     "iopub.status.idle": "2022-07-12T04:04:27.182113Z",
     "shell.execute_reply": "2022-07-12T04:04:27.181723Z"
    },
    "papermill": {
     "duration": 0.023733,
     "end_time": "2022-07-12T04:04:27.183561",
     "exception": false,
     "start_time": "2022-07-12T04:04:27.159828",
     "status": "completed"
    },
    "tags": []
   },
   "outputs": [],
   "source": [
    "%load_ext autoreload\n",
    "%autoreload 2"
   ]
  },
  {
   "cell_type": "code",
   "execution_count": 2,
   "id": "1d5f5a59",
   "metadata": {
    "execution": {
     "iopub.execute_input": "2022-07-12T04:04:27.225393Z",
     "iopub.status.busy": "2022-07-12T04:04:27.225162Z",
     "iopub.status.idle": "2022-07-12T04:04:28.177677Z",
     "shell.execute_reply": "2022-07-12T04:04:28.177226Z"
    },
    "papermill": {
     "duration": 0.961444,
     "end_time": "2022-07-12T04:04:28.179129",
     "exception": false,
     "start_time": "2022-07-12T04:04:27.217685",
     "status": "completed"
    },
    "tags": []
   },
   "outputs": [],
   "source": [
    "from random import sample, seed\n",
    "import warnings\n",
    "from pathlib import Path\n",
    "\n",
    "import numpy as np\n",
    "from scipy.spatial.distance import squareform\n",
    "import pandas as pd\n",
    "from tqdm import tqdm\n",
    "import matplotlib.pyplot as plt\n",
    "import seaborn as sns\n",
    "\n",
    "import conf\n",
    "from entity import Gene"
   ]
  },
  {
   "cell_type": "markdown",
   "id": "1eac24b5",
   "metadata": {
    "papermill": {
     "duration": 0.005745,
     "end_time": "2022-07-12T04:04:28.191061",
     "exception": false,
     "start_time": "2022-07-12T04:04:28.185316",
     "status": "completed"
    },
    "tags": []
   },
   "source": [
    "# Settings"
   ]
  },
  {
   "cell_type": "code",
   "execution_count": 3,
   "id": "ca4560ba",
   "metadata": {
    "execution": {
     "iopub.execute_input": "2022-07-12T04:04:28.203657Z",
     "iopub.status.busy": "2022-07-12T04:04:28.203439Z",
     "iopub.status.idle": "2022-07-12T04:04:28.218627Z",
     "shell.execute_reply": "2022-07-12T04:04:28.218222Z"
    },
    "papermill": {
     "duration": 0.023066,
     "end_time": "2022-07-12T04:04:28.220032",
     "exception": false,
     "start_time": "2022-07-12T04:04:28.196966",
     "status": "completed"
    },
    "tags": [
     "parameters"
    ]
   },
   "outputs": [],
   "source": [
    "# reference panel\n",
    "REFERENCE_PANEL = \"GTEX_V8\"\n",
    "# REFERENCE_PANEL = \"1000G\"\n",
    "\n",
    "# prediction models\n",
    "## mashr\n",
    "EQTL_MODEL = \"MASHR\"\n",
    "\n",
    "# this is the default value used in S-MultiXcan to select the\n",
    "# top principal components of the expression correlation matrix\n",
    "SMULTIXCAN_CONDITION_NUMBER = 30\n",
    "\n",
    "# specifies a single chromosome value\n",
    "# by default, run on all chromosomes\n",
    "chromosome = None"
   ]
  },
  {
   "cell_type": "code",
   "execution_count": 4,
   "id": "527de18b",
   "metadata": {
    "execution": {
     "iopub.execute_input": "2022-07-12T04:04:28.232781Z",
     "iopub.status.busy": "2022-07-12T04:04:28.232566Z",
     "iopub.status.idle": "2022-07-12T04:04:28.247366Z",
     "shell.execute_reply": "2022-07-12T04:04:28.246979Z"
    },
    "papermill": {
     "duration": 0.022686,
     "end_time": "2022-07-12T04:04:28.248698",
     "exception": false,
     "start_time": "2022-07-12T04:04:28.226012",
     "status": "completed"
    },
    "tags": [
     "injected-parameters"
    ]
   },
   "outputs": [],
   "source": [
    "# Parameters\n",
    "chromosome = 5\n",
    "REFERENCE_PANEL = \"1000G\"\n",
    "EQTL_MODEL = \"MASHR\"\n"
   ]
  },
  {
   "cell_type": "code",
   "execution_count": 5,
   "id": "a089c9ff",
   "metadata": {
    "execution": {
     "iopub.execute_input": "2022-07-12T04:04:28.261434Z",
     "iopub.status.busy": "2022-07-12T04:04:28.261120Z",
     "iopub.status.idle": "2022-07-12T04:04:28.276438Z",
     "shell.execute_reply": "2022-07-12T04:04:28.276035Z"
    },
    "papermill": {
     "duration": 0.023168,
     "end_time": "2022-07-12T04:04:28.277780",
     "exception": false,
     "start_time": "2022-07-12T04:04:28.254612",
     "status": "completed"
    },
    "tags": []
   },
   "outputs": [],
   "source": [
    "EQTL_MODEL_FILES_PREFIX = conf.PHENOMEXCAN[\"PREDICTION_MODELS\"][f\"{EQTL_MODEL}_PREFIX\"]"
   ]
  },
  {
   "cell_type": "code",
   "execution_count": 6,
   "id": "8fe24bef",
   "metadata": {
    "execution": {
     "iopub.execute_input": "2022-07-12T04:04:28.290073Z",
     "iopub.status.busy": "2022-07-12T04:04:28.289867Z",
     "iopub.status.idle": "2022-07-12T04:04:28.306923Z",
     "shell.execute_reply": "2022-07-12T04:04:28.306489Z"
    },
    "papermill": {
     "duration": 0.024587,
     "end_time": "2022-07-12T04:04:28.308212",
     "exception": false,
     "start_time": "2022-07-12T04:04:28.283625",
     "status": "completed"
    },
    "tags": []
   },
   "outputs": [
    {
     "data": {
      "text/plain": [
       "'Using eQTL model: MASHR / mashr_'"
      ]
     },
     "metadata": {},
     "output_type": "display_data"
    }
   ],
   "source": [
    "display(f\"Using eQTL model: {EQTL_MODEL} / {EQTL_MODEL_FILES_PREFIX}\")"
   ]
  },
  {
   "cell_type": "code",
   "execution_count": 7,
   "id": "552a7f63-a18c-4d3e-bb6a-94f99b431291",
   "metadata": {
    "execution": {
     "iopub.execute_input": "2022-07-12T04:04:28.321276Z",
     "iopub.status.busy": "2022-07-12T04:04:28.320965Z",
     "iopub.status.idle": "2022-07-12T04:04:28.336194Z",
     "shell.execute_reply": "2022-07-12T04:04:28.335725Z"
    },
    "papermill": {
     "duration": 0.023253,
     "end_time": "2022-07-12T04:04:28.337726",
     "exception": false,
     "start_time": "2022-07-12T04:04:28.314473",
     "status": "completed"
    },
    "tags": []
   },
   "outputs": [
    {
     "data": {
      "text/plain": [
       "'S-MultiXcan condition number: 30'"
      ]
     },
     "metadata": {},
     "output_type": "display_data"
    }
   ],
   "source": [
    "display(f\"S-MultiXcan condition number: {SMULTIXCAN_CONDITION_NUMBER}\")"
   ]
  },
  {
   "cell_type": "code",
   "execution_count": 8,
   "id": "0230ebcb-2c32-4b95-9292-d9a52038e70d",
   "metadata": {
    "execution": {
     "iopub.execute_input": "2022-07-12T04:04:28.350817Z",
     "iopub.status.busy": "2022-07-12T04:04:28.350607Z",
     "iopub.status.idle": "2022-07-12T04:04:28.365671Z",
     "shell.execute_reply": "2022-07-12T04:04:28.365188Z"
    },
    "papermill": {
     "duration": 0.02301,
     "end_time": "2022-07-12T04:04:28.367019",
     "exception": false,
     "start_time": "2022-07-12T04:04:28.344009",
     "status": "completed"
    },
    "tags": []
   },
   "outputs": [],
   "source": [
    "REFERENCE_PANEL_DIR = conf.PHENOMEXCAN[\"LD_BLOCKS\"][f\"{REFERENCE_PANEL}_GENOTYPE_DIR\"]"
   ]
  },
  {
   "cell_type": "code",
   "execution_count": 9,
   "id": "98c4a159-601d-4a22-a1ab-35bd451c25f9",
   "metadata": {
    "execution": {
     "iopub.execute_input": "2022-07-12T04:04:28.380221Z",
     "iopub.status.busy": "2022-07-12T04:04:28.380009Z",
     "iopub.status.idle": "2022-07-12T04:04:28.394888Z",
     "shell.execute_reply": "2022-07-12T04:04:28.394455Z"
    },
    "papermill": {
     "duration": 0.022936,
     "end_time": "2022-07-12T04:04:28.396203",
     "exception": false,
     "start_time": "2022-07-12T04:04:28.373267",
     "status": "completed"
    },
    "tags": []
   },
   "outputs": [
    {
     "data": {
      "text/plain": [
       "'Using reference panel folder: /opt/data/data/phenomexcan/ld_blocks/reference_panel_1000G'"
      ]
     },
     "metadata": {},
     "output_type": "display_data"
    }
   ],
   "source": [
    "display(f\"Using reference panel folder: {str(REFERENCE_PANEL_DIR)}\")"
   ]
  },
  {
   "cell_type": "code",
   "execution_count": 10,
   "id": "396392dc-0340-4540-9b02-e182b833f909",
   "metadata": {
    "execution": {
     "iopub.execute_input": "2022-07-12T04:04:28.410229Z",
     "iopub.status.busy": "2022-07-12T04:04:28.410045Z",
     "iopub.status.idle": "2022-07-12T04:04:28.429813Z",
     "shell.execute_reply": "2022-07-12T04:04:28.429235Z"
    },
    "papermill": {
     "duration": 0.029025,
     "end_time": "2022-07-12T04:04:28.431625",
     "exception": false,
     "start_time": "2022-07-12T04:04:28.402600",
     "status": "completed"
    },
    "tags": []
   },
   "outputs": [],
   "source": [
    "OUTPUT_DIR_BASE = (\n",
    "    conf.PHENOMEXCAN[\"LD_BLOCKS\"][f\"GENE_CORRS_DIR\"]\n",
    "    / REFERENCE_PANEL.lower()\n",
    "    / EQTL_MODEL.lower()\n",
    ")\n",
    "OUTPUT_DIR_BASE.mkdir(parents=True, exist_ok=True)"
   ]
  },
  {
   "cell_type": "code",
   "execution_count": 11,
   "id": "8942c2d3-e53c-4d63-a0eb-b6fce0574d36",
   "metadata": {
    "execution": {
     "iopub.execute_input": "2022-07-12T04:04:28.448546Z",
     "iopub.status.busy": "2022-07-12T04:04:28.448354Z",
     "iopub.status.idle": "2022-07-12T04:04:28.468070Z",
     "shell.execute_reply": "2022-07-12T04:04:28.467439Z"
    },
    "papermill": {
     "duration": 0.029839,
     "end_time": "2022-07-12T04:04:28.469746",
     "exception": false,
     "start_time": "2022-07-12T04:04:28.439907",
     "status": "completed"
    },
    "tags": []
   },
   "outputs": [
    {
     "data": {
      "text/plain": [
       "'Using output dir base: /opt/data/data/phenomexcan/ld_blocks/gene_corrs/1000g/mashr'"
      ]
     },
     "metadata": {},
     "output_type": "display_data"
    }
   ],
   "source": [
    "display(f\"Using output dir base: {OUTPUT_DIR_BASE}\")"
   ]
  },
  {
   "cell_type": "code",
   "execution_count": 12,
   "id": "408aa590",
   "metadata": {
    "execution": {
     "iopub.execute_input": "2022-07-12T04:04:28.484309Z",
     "iopub.status.busy": "2022-07-12T04:04:28.484122Z",
     "iopub.status.idle": "2022-07-12T04:04:28.503035Z",
     "shell.execute_reply": "2022-07-12T04:04:28.502474Z"
    },
    "papermill": {
     "duration": 0.0281,
     "end_time": "2022-07-12T04:04:28.504759",
     "exception": false,
     "start_time": "2022-07-12T04:04:28.476659",
     "status": "completed"
    },
    "tags": []
   },
   "outputs": [],
   "source": [
    "assert (\n",
    "    chromosome is not None\n",
    "), \"You have to select one chromosome (format: number between 1 and 22)\""
   ]
  },
  {
   "cell_type": "code",
   "execution_count": 13,
   "id": "c1c7dd06-80ff-453c-bcb7-0899edce75da",
   "metadata": {
    "execution": {
     "iopub.execute_input": "2022-07-12T04:04:28.519205Z",
     "iopub.status.busy": "2022-07-12T04:04:28.519024Z",
     "iopub.status.idle": "2022-07-12T04:04:28.534426Z",
     "shell.execute_reply": "2022-07-12T04:04:28.533888Z"
    },
    "papermill": {
     "duration": 0.02426,
     "end_time": "2022-07-12T04:04:28.535857",
     "exception": false,
     "start_time": "2022-07-12T04:04:28.511597",
     "status": "completed"
    },
    "tags": []
   },
   "outputs": [],
   "source": [
    "chromosome = str(chromosome)"
   ]
  },
  {
   "cell_type": "code",
   "execution_count": 14,
   "id": "bc17b84c-9c26-47a5-a3ab-7046e72f3ef4",
   "metadata": {
    "execution": {
     "iopub.execute_input": "2022-07-12T04:04:28.549587Z",
     "iopub.status.busy": "2022-07-12T04:04:28.549416Z",
     "iopub.status.idle": "2022-07-12T04:04:28.564707Z",
     "shell.execute_reply": "2022-07-12T04:04:28.564241Z"
    },
    "papermill": {
     "duration": 0.02363,
     "end_time": "2022-07-12T04:04:28.566058",
     "exception": false,
     "start_time": "2022-07-12T04:04:28.542428",
     "status": "completed"
    },
    "tags": []
   },
   "outputs": [
    {
     "data": {
      "text/plain": [
       "'Working on chromosome 5'"
      ]
     },
     "metadata": {},
     "output_type": "display_data"
    }
   ],
   "source": [
    "display(f\"Working on chromosome {chromosome}\")"
   ]
  },
  {
   "cell_type": "code",
   "execution_count": 15,
   "id": "3c7d8574-90c7-4d09-bc8c-469ed0a34737",
   "metadata": {
    "execution": {
     "iopub.execute_input": "2022-07-12T04:04:28.580067Z",
     "iopub.status.busy": "2022-07-12T04:04:28.579806Z",
     "iopub.status.idle": "2022-07-12T04:04:28.595332Z",
     "shell.execute_reply": "2022-07-12T04:04:28.594879Z"
    },
    "papermill": {
     "duration": 0.02406,
     "end_time": "2022-07-12T04:04:28.596704",
     "exception": false,
     "start_time": "2022-07-12T04:04:28.572644",
     "status": "completed"
    },
    "tags": []
   },
   "outputs": [
    {
     "data": {
      "text/plain": [
       "'Compute correlation within distance False'"
      ]
     },
     "metadata": {},
     "output_type": "display_data"
    }
   ],
   "source": [
    "# This paramter, if True, computes the correlation between closeby genes only\n",
    "COMPUTE_CORRELATIONS_WITHIN_DISTANCE = False\n",
    "display(f\"Compute correlation within distance {COMPUTE_CORRELATIONS_WITHIN_DISTANCE}\")"
   ]
  },
  {
   "cell_type": "markdown",
   "id": "d2ba085e",
   "metadata": {
    "papermill": {
     "duration": 0.006465,
     "end_time": "2022-07-12T04:04:28.610088",
     "exception": false,
     "start_time": "2022-07-12T04:04:28.603623",
     "status": "completed"
    },
    "tags": []
   },
   "source": [
    "# Load data"
   ]
  },
  {
   "cell_type": "markdown",
   "id": "7bed0ce0-e7c7-4300-9a61-5412450b1904",
   "metadata": {
    "papermill": {
     "duration": 0.006022,
     "end_time": "2022-07-12T04:04:28.622520",
     "exception": false,
     "start_time": "2022-07-12T04:04:28.616498",
     "status": "completed"
    },
    "tags": []
   },
   "source": [
    "## Prediction model tissues"
   ]
  },
  {
   "cell_type": "code",
   "execution_count": 16,
   "id": "0847c065-0d69-4830-a07f-1c75115d17f5",
   "metadata": {
    "execution": {
     "iopub.execute_input": "2022-07-12T04:04:28.636510Z",
     "iopub.status.busy": "2022-07-12T04:04:28.636297Z",
     "iopub.status.idle": "2022-07-12T04:04:28.651835Z",
     "shell.execute_reply": "2022-07-12T04:04:28.651420Z"
    },
    "papermill": {
     "duration": 0.024136,
     "end_time": "2022-07-12T04:04:28.653199",
     "exception": false,
     "start_time": "2022-07-12T04:04:28.629063",
     "status": "completed"
    },
    "tags": []
   },
   "outputs": [],
   "source": [
    "prediction_model_tissues = conf.PHENOMEXCAN[\"PREDICTION_MODELS\"][\n",
    "    f\"{EQTL_MODEL}_TISSUES\"\n",
    "].split(\" \")"
   ]
  },
  {
   "cell_type": "code",
   "execution_count": 17,
   "id": "aaef70d1-30c6-4c6f-9d6b-abc8e9a0081f",
   "metadata": {
    "execution": {
     "iopub.execute_input": "2022-07-12T04:04:28.667386Z",
     "iopub.status.busy": "2022-07-12T04:04:28.667080Z",
     "iopub.status.idle": "2022-07-12T04:04:28.682317Z",
     "shell.execute_reply": "2022-07-12T04:04:28.681871Z"
    },
    "papermill": {
     "duration": 0.023884,
     "end_time": "2022-07-12T04:04:28.683736",
     "exception": false,
     "start_time": "2022-07-12T04:04:28.659852",
     "status": "completed"
    },
    "tags": []
   },
   "outputs": [
    {
     "data": {
      "text/plain": [
       "49"
      ]
     },
     "execution_count": 17,
     "metadata": {},
     "output_type": "execute_result"
    }
   ],
   "source": [
    "len(prediction_model_tissues)"
   ]
  },
  {
   "cell_type": "code",
   "execution_count": 18,
   "id": "ff35a099-c52d-465d-b863-0ee70c26208c",
   "metadata": {
    "execution": {
     "iopub.execute_input": "2022-07-12T04:04:28.698480Z",
     "iopub.status.busy": "2022-07-12T04:04:28.698058Z",
     "iopub.status.idle": "2022-07-12T04:04:28.713279Z",
     "shell.execute_reply": "2022-07-12T04:04:28.712843Z"
    },
    "papermill": {
     "duration": 0.023901,
     "end_time": "2022-07-12T04:04:28.714524",
     "exception": false,
     "start_time": "2022-07-12T04:04:28.690623",
     "status": "completed"
    },
    "tags": []
   },
   "outputs": [
    {
     "data": {
      "text/plain": [
       "['Skin_Not_Sun_Exposed_Suprapubic',\n",
       " 'Cells_EBV-transformed_lymphocytes',\n",
       " 'Brain_Frontal_Cortex_BA9',\n",
       " 'Kidney_Cortex',\n",
       " 'Brain_Substantia_nigra']"
      ]
     },
     "execution_count": 18,
     "metadata": {},
     "output_type": "execute_result"
    }
   ],
   "source": [
    "prediction_model_tissues[:5]"
   ]
  },
  {
   "cell_type": "markdown",
   "id": "abcc4b3d",
   "metadata": {
    "papermill": {
     "duration": 0.0068,
     "end_time": "2022-07-12T04:04:28.728103",
     "exception": false,
     "start_time": "2022-07-12T04:04:28.721303",
     "status": "completed"
    },
    "tags": []
   },
   "source": [
    "## MultiPLIER Z"
   ]
  },
  {
   "cell_type": "code",
   "execution_count": 19,
   "id": "c48ef527",
   "metadata": {
    "execution": {
     "iopub.execute_input": "2022-07-12T04:04:28.742545Z",
     "iopub.status.busy": "2022-07-12T04:04:28.742313Z",
     "iopub.status.idle": "2022-07-12T04:04:28.784490Z",
     "shell.execute_reply": "2022-07-12T04:04:28.784046Z"
    },
    "papermill": {
     "duration": 0.051142,
     "end_time": "2022-07-12T04:04:28.785993",
     "exception": false,
     "start_time": "2022-07-12T04:04:28.734851",
     "status": "completed"
    },
    "tags": []
   },
   "outputs": [],
   "source": [
    "multiplier_z_genes = pd.read_pickle(\n",
    "    conf.MULTIPLIER[\"MODEL_Z_MATRIX_FILE\"]\n",
    ").index.tolist()"
   ]
  },
  {
   "cell_type": "code",
   "execution_count": 20,
   "id": "0a4ecbd9",
   "metadata": {
    "execution": {
     "iopub.execute_input": "2022-07-12T04:04:28.801231Z",
     "iopub.status.busy": "2022-07-12T04:04:28.801020Z",
     "iopub.status.idle": "2022-07-12T04:04:28.816866Z",
     "shell.execute_reply": "2022-07-12T04:04:28.816422Z"
    },
    "papermill": {
     "duration": 0.024851,
     "end_time": "2022-07-12T04:04:28.818254",
     "exception": false,
     "start_time": "2022-07-12T04:04:28.793403",
     "status": "completed"
    },
    "tags": []
   },
   "outputs": [
    {
     "data": {
      "text/plain": [
       "6750"
      ]
     },
     "execution_count": 20,
     "metadata": {},
     "output_type": "execute_result"
    }
   ],
   "source": [
    "len(multiplier_z_genes)"
   ]
  },
  {
   "cell_type": "code",
   "execution_count": 21,
   "id": "115e8864",
   "metadata": {
    "execution": {
     "iopub.execute_input": "2022-07-12T04:04:28.835357Z",
     "iopub.status.busy": "2022-07-12T04:04:28.835144Z",
     "iopub.status.idle": "2022-07-12T04:04:28.850884Z",
     "shell.execute_reply": "2022-07-12T04:04:28.850432Z"
    },
    "papermill": {
     "duration": 0.024748,
     "end_time": "2022-07-12T04:04:28.852229",
     "exception": false,
     "start_time": "2022-07-12T04:04:28.827481",
     "status": "completed"
    },
    "tags": []
   },
   "outputs": [
    {
     "data": {
      "text/plain": [
       "['GAS6',\n",
       " 'MMP14',\n",
       " 'DSP',\n",
       " 'MARCKSL1',\n",
       " 'SPARC',\n",
       " 'CTSD',\n",
       " 'EPAS1',\n",
       " 'PALLD',\n",
       " 'PHC2',\n",
       " 'LGALS3BP']"
      ]
     },
     "execution_count": 21,
     "metadata": {},
     "output_type": "execute_result"
    }
   ],
   "source": [
    "multiplier_z_genes[:10]"
   ]
  },
  {
   "cell_type": "markdown",
   "id": "7dcb8db7",
   "metadata": {
    "papermill": {
     "duration": 0.006672,
     "end_time": "2022-07-12T04:04:28.866154",
     "exception": false,
     "start_time": "2022-07-12T04:04:28.859482",
     "status": "completed"
    },
    "tags": []
   },
   "source": [
    "## Get gene objects"
   ]
  },
  {
   "cell_type": "code",
   "execution_count": 22,
   "id": "bb932812",
   "metadata": {
    "execution": {
     "iopub.execute_input": "2022-07-12T04:04:28.884394Z",
     "iopub.status.busy": "2022-07-12T04:04:28.884222Z",
     "iopub.status.idle": "2022-07-12T04:04:28.920675Z",
     "shell.execute_reply": "2022-07-12T04:04:28.920161Z"
    },
    "papermill": {
     "duration": 0.047701,
     "end_time": "2022-07-12T04:04:28.922036",
     "exception": false,
     "start_time": "2022-07-12T04:04:28.874335",
     "status": "completed"
    },
    "tags": []
   },
   "outputs": [],
   "source": [
    "multiplier_gene_obj = {\n",
    "    gene_name: Gene(name=gene_name)\n",
    "    for gene_name in multiplier_z_genes\n",
    "    if gene_name in Gene.GENE_NAME_TO_ID_MAP\n",
    "}"
   ]
  },
  {
   "cell_type": "code",
   "execution_count": 23,
   "id": "39533214",
   "metadata": {
    "execution": {
     "iopub.execute_input": "2022-07-12T04:04:28.936932Z",
     "iopub.status.busy": "2022-07-12T04:04:28.936736Z",
     "iopub.status.idle": "2022-07-12T04:04:28.952367Z",
     "shell.execute_reply": "2022-07-12T04:04:28.951857Z"
    },
    "papermill": {
     "duration": 0.02485,
     "end_time": "2022-07-12T04:04:28.953668",
     "exception": false,
     "start_time": "2022-07-12T04:04:28.928818",
     "status": "completed"
    },
    "tags": []
   },
   "outputs": [
    {
     "data": {
      "text/plain": [
       "6454"
      ]
     },
     "execution_count": 23,
     "metadata": {},
     "output_type": "execute_result"
    }
   ],
   "source": [
    "len(multiplier_gene_obj)"
   ]
  },
  {
   "cell_type": "code",
   "execution_count": 24,
   "id": "9a5d0b84",
   "metadata": {
    "execution": {
     "iopub.execute_input": "2022-07-12T04:04:28.969057Z",
     "iopub.status.busy": "2022-07-12T04:04:28.968669Z",
     "iopub.status.idle": "2022-07-12T04:04:28.983796Z",
     "shell.execute_reply": "2022-07-12T04:04:28.983385Z"
    },
    "papermill": {
     "duration": 0.02411,
     "end_time": "2022-07-12T04:04:28.985175",
     "exception": false,
     "start_time": "2022-07-12T04:04:28.961065",
     "status": "completed"
    },
    "tags": []
   },
   "outputs": [
    {
     "data": {
      "text/plain": [
       "'ENSG00000183087'"
      ]
     },
     "execution_count": 24,
     "metadata": {},
     "output_type": "execute_result"
    }
   ],
   "source": [
    "multiplier_gene_obj[\"GAS6\"].ensembl_id"
   ]
  },
  {
   "cell_type": "code",
   "execution_count": 25,
   "id": "e3ffabc7",
   "metadata": {
    "execution": {
     "iopub.execute_input": "2022-07-12T04:04:29.000903Z",
     "iopub.status.busy": "2022-07-12T04:04:29.000648Z",
     "iopub.status.idle": "2022-07-12T04:04:31.130003Z",
     "shell.execute_reply": "2022-07-12T04:04:31.129561Z"
    },
    "papermill": {
     "duration": 2.138563,
     "end_time": "2022-07-12T04:04:31.131356",
     "exception": false,
     "start_time": "2022-07-12T04:04:28.992793",
     "status": "completed"
    },
    "tags": []
   },
   "outputs": [],
   "source": [
    "_gene_obj = list(multiplier_gene_obj.values())\n",
    "\n",
    "genes_info = pd.DataFrame(\n",
    "    {\n",
    "        \"name\": [g.name for g in _gene_obj],\n",
    "        \"id\": [g.ensembl_id for g in _gene_obj],\n",
    "        \"chr\": [g.chromosome for g in _gene_obj],\n",
    "        \"band\": [g.band for g in _gene_obj],\n",
    "        \"start_position\": [g.get_attribute(\"start_position\") for g in _gene_obj],\n",
    "    }\n",
    ")"
   ]
  },
  {
   "cell_type": "code",
   "execution_count": 26,
   "id": "e23519b8",
   "metadata": {
    "execution": {
     "iopub.execute_input": "2022-07-12T04:04:31.145974Z",
     "iopub.status.busy": "2022-07-12T04:04:31.145735Z",
     "iopub.status.idle": "2022-07-12T04:04:31.160560Z",
     "shell.execute_reply": "2022-07-12T04:04:31.160105Z"
    },
    "papermill": {
     "duration": 0.023583,
     "end_time": "2022-07-12T04:04:31.161998",
     "exception": false,
     "start_time": "2022-07-12T04:04:31.138415",
     "status": "completed"
    },
    "tags": []
   },
   "outputs": [
    {
     "data": {
      "text/plain": [
       "(6454, 5)"
      ]
     },
     "execution_count": 26,
     "metadata": {},
     "output_type": "execute_result"
    }
   ],
   "source": [
    "genes_info.shape"
   ]
  },
  {
   "cell_type": "code",
   "execution_count": 27,
   "id": "0d71881c",
   "metadata": {
    "execution": {
     "iopub.execute_input": "2022-07-12T04:04:31.177822Z",
     "iopub.status.busy": "2022-07-12T04:04:31.177613Z",
     "iopub.status.idle": "2022-07-12T04:04:31.199509Z",
     "shell.execute_reply": "2022-07-12T04:04:31.199101Z"
    },
    "papermill": {
     "duration": 0.0312,
     "end_time": "2022-07-12T04:04:31.200774",
     "exception": false,
     "start_time": "2022-07-12T04:04:31.169574",
     "status": "completed"
    },
    "tags": []
   },
   "outputs": [
    {
     "data": {
      "text/html": [
       "<div>\n",
       "<style scoped>\n",
       "    .dataframe tbody tr th:only-of-type {\n",
       "        vertical-align: middle;\n",
       "    }\n",
       "\n",
       "    .dataframe tbody tr th {\n",
       "        vertical-align: top;\n",
       "    }\n",
       "\n",
       "    .dataframe thead th {\n",
       "        text-align: right;\n",
       "    }\n",
       "</style>\n",
       "<table border=\"1\" class=\"dataframe\">\n",
       "  <thead>\n",
       "    <tr style=\"text-align: right;\">\n",
       "      <th></th>\n",
       "      <th>name</th>\n",
       "      <th>id</th>\n",
       "      <th>chr</th>\n",
       "      <th>band</th>\n",
       "      <th>start_position</th>\n",
       "    </tr>\n",
       "  </thead>\n",
       "  <tbody>\n",
       "    <tr>\n",
       "      <th>0</th>\n",
       "      <td>GAS6</td>\n",
       "      <td>ENSG00000183087</td>\n",
       "      <td>13</td>\n",
       "      <td>13q34</td>\n",
       "      <td>113820549.0</td>\n",
       "    </tr>\n",
       "    <tr>\n",
       "      <th>1</th>\n",
       "      <td>MMP14</td>\n",
       "      <td>ENSG00000157227</td>\n",
       "      <td>14</td>\n",
       "      <td>14q11.2</td>\n",
       "      <td>22836560.0</td>\n",
       "    </tr>\n",
       "    <tr>\n",
       "      <th>2</th>\n",
       "      <td>DSP</td>\n",
       "      <td>ENSG00000096696</td>\n",
       "      <td>6</td>\n",
       "      <td>6p24.3</td>\n",
       "      <td>7541617.0</td>\n",
       "    </tr>\n",
       "    <tr>\n",
       "      <th>3</th>\n",
       "      <td>MARCKSL1</td>\n",
       "      <td>ENSG00000175130</td>\n",
       "      <td>1</td>\n",
       "      <td>1p35.1</td>\n",
       "      <td>32333839.0</td>\n",
       "    </tr>\n",
       "    <tr>\n",
       "      <th>4</th>\n",
       "      <td>SPARC</td>\n",
       "      <td>ENSG00000113140</td>\n",
       "      <td>5</td>\n",
       "      <td>5q33.1</td>\n",
       "      <td>151661096.0</td>\n",
       "    </tr>\n",
       "  </tbody>\n",
       "</table>\n",
       "</div>"
      ],
      "text/plain": [
       "       name               id chr     band  start_position\n",
       "0      GAS6  ENSG00000183087  13    13q34     113820549.0\n",
       "1     MMP14  ENSG00000157227  14  14q11.2      22836560.0\n",
       "2       DSP  ENSG00000096696   6   6p24.3       7541617.0\n",
       "3  MARCKSL1  ENSG00000175130   1   1p35.1      32333839.0\n",
       "4     SPARC  ENSG00000113140   5   5q33.1     151661096.0"
      ]
     },
     "execution_count": 27,
     "metadata": {},
     "output_type": "execute_result"
    }
   ],
   "source": [
    "genes_info.head()"
   ]
  },
  {
   "cell_type": "markdown",
   "id": "c8d1038f",
   "metadata": {
    "papermill": {
     "duration": 0.007128,
     "end_time": "2022-07-12T04:04:31.215375",
     "exception": false,
     "start_time": "2022-07-12T04:04:31.208247",
     "status": "completed"
    },
    "tags": []
   },
   "source": [
    "# Test"
   ]
  },
  {
   "cell_type": "code",
   "execution_count": 28,
   "id": "64993abf",
   "metadata": {
    "execution": {
     "iopub.execute_input": "2022-07-12T04:04:31.231207Z",
     "iopub.status.busy": "2022-07-12T04:04:31.230990Z",
     "iopub.status.idle": "2022-07-12T04:04:31.254328Z",
     "shell.execute_reply": "2022-07-12T04:04:31.253837Z"
    },
    "papermill": {
     "duration": 0.03323,
     "end_time": "2022-07-12T04:04:31.255828",
     "exception": false,
     "start_time": "2022-07-12T04:04:31.222598",
     "status": "completed"
    },
    "tags": []
   },
   "outputs": [
    {
     "data": {
      "text/html": [
       "<div>\n",
       "<style scoped>\n",
       "    .dataframe tbody tr th:only-of-type {\n",
       "        vertical-align: middle;\n",
       "    }\n",
       "\n",
       "    .dataframe tbody tr th {\n",
       "        vertical-align: top;\n",
       "    }\n",
       "\n",
       "    .dataframe thead th {\n",
       "        text-align: right;\n",
       "    }\n",
       "</style>\n",
       "<table border=\"1\" class=\"dataframe\">\n",
       "  <thead>\n",
       "    <tr style=\"text-align: right;\">\n",
       "      <th></th>\n",
       "      <th>name</th>\n",
       "      <th>id</th>\n",
       "      <th>chr</th>\n",
       "      <th>band</th>\n",
       "      <th>start_position</th>\n",
       "    </tr>\n",
       "  </thead>\n",
       "  <tbody>\n",
       "    <tr>\n",
       "      <th>4</th>\n",
       "      <td>SPARC</td>\n",
       "      <td>ENSG00000113140</td>\n",
       "      <td>5</td>\n",
       "      <td>5q33.1</td>\n",
       "      <td>151661096.0</td>\n",
       "    </tr>\n",
       "    <tr>\n",
       "      <th>18</th>\n",
       "      <td>DAB2</td>\n",
       "      <td>ENSG00000153071</td>\n",
       "      <td>5</td>\n",
       "      <td>5p13.1</td>\n",
       "      <td>39371675.0</td>\n",
       "    </tr>\n",
       "    <tr>\n",
       "      <th>22</th>\n",
       "      <td>GPX3</td>\n",
       "      <td>ENSG00000211445</td>\n",
       "      <td>5</td>\n",
       "      <td>5q33.1</td>\n",
       "      <td>151020438.0</td>\n",
       "    </tr>\n",
       "    <tr>\n",
       "      <th>24</th>\n",
       "      <td>DPYSL3</td>\n",
       "      <td>ENSG00000113657</td>\n",
       "      <td>5</td>\n",
       "      <td>5q32</td>\n",
       "      <td>147390808.0</td>\n",
       "    </tr>\n",
       "    <tr>\n",
       "      <th>27</th>\n",
       "      <td>TGFBI</td>\n",
       "      <td>ENSG00000120708</td>\n",
       "      <td>5</td>\n",
       "      <td>5q31.1</td>\n",
       "      <td>136028988.0</td>\n",
       "    </tr>\n",
       "    <tr>\n",
       "      <th>...</th>\n",
       "      <td>...</td>\n",
       "      <td>...</td>\n",
       "      <td>...</td>\n",
       "      <td>...</td>\n",
       "      <td>...</td>\n",
       "    </tr>\n",
       "    <tr>\n",
       "      <th>6273</th>\n",
       "      <td>RAD50</td>\n",
       "      <td>ENSG00000113522</td>\n",
       "      <td>5</td>\n",
       "      <td>5q31.1</td>\n",
       "      <td>132556019.0</td>\n",
       "    </tr>\n",
       "    <tr>\n",
       "      <th>6322</th>\n",
       "      <td>FAM13B</td>\n",
       "      <td>ENSG00000031003</td>\n",
       "      <td>5</td>\n",
       "      <td>5q31.2</td>\n",
       "      <td>137937960.0</td>\n",
       "    </tr>\n",
       "    <tr>\n",
       "      <th>6332</th>\n",
       "      <td>MAN2A1</td>\n",
       "      <td>ENSG00000112893</td>\n",
       "      <td>5</td>\n",
       "      <td>5q21.3</td>\n",
       "      <td>109689366.0</td>\n",
       "    </tr>\n",
       "    <tr>\n",
       "      <th>6358</th>\n",
       "      <td>MRPS27</td>\n",
       "      <td>ENSG00000113048</td>\n",
       "      <td>5</td>\n",
       "      <td>5q13.2</td>\n",
       "      <td>72219409.0</td>\n",
       "    </tr>\n",
       "    <tr>\n",
       "      <th>6361</th>\n",
       "      <td>PDE4D</td>\n",
       "      <td>ENSG00000113448</td>\n",
       "      <td>5</td>\n",
       "      <td>5q12.1</td>\n",
       "      <td>58969038.0</td>\n",
       "    </tr>\n",
       "  </tbody>\n",
       "</table>\n",
       "<p>306 rows × 5 columns</p>\n",
       "</div>"
      ],
      "text/plain": [
       "        name               id chr    band  start_position\n",
       "4      SPARC  ENSG00000113140   5  5q33.1     151661096.0\n",
       "18      DAB2  ENSG00000153071   5  5p13.1      39371675.0\n",
       "22      GPX3  ENSG00000211445   5  5q33.1     151020438.0\n",
       "24    DPYSL3  ENSG00000113657   5    5q32     147390808.0\n",
       "27     TGFBI  ENSG00000120708   5  5q31.1     136028988.0\n",
       "...      ...              ...  ..     ...             ...\n",
       "6273   RAD50  ENSG00000113522   5  5q31.1     132556019.0\n",
       "6322  FAM13B  ENSG00000031003   5  5q31.2     137937960.0\n",
       "6332  MAN2A1  ENSG00000112893   5  5q21.3     109689366.0\n",
       "6358  MRPS27  ENSG00000113048   5  5q13.2      72219409.0\n",
       "6361   PDE4D  ENSG00000113448   5  5q12.1      58969038.0\n",
       "\n",
       "[306 rows x 5 columns]"
      ]
     },
     "metadata": {},
     "output_type": "display_data"
    }
   ],
   "source": [
    "chromosome_genes_info = genes_info[genes_info[\"chr\"] == chromosome]\n",
    "display(chromosome_genes_info)"
   ]
  },
  {
   "cell_type": "code",
   "execution_count": 29,
   "id": "d2e42726-7de6-46eb-acfc-6323eaa8fae6",
   "metadata": {
    "execution": {
     "iopub.execute_input": "2022-07-12T04:04:31.272306Z",
     "iopub.status.busy": "2022-07-12T04:04:31.272091Z",
     "iopub.status.idle": "2022-07-12T04:04:31.289475Z",
     "shell.execute_reply": "2022-07-12T04:04:31.288460Z"
    },
    "papermill": {
     "duration": 0.027198,
     "end_time": "2022-07-12T04:04:31.290971",
     "exception": false,
     "start_time": "2022-07-12T04:04:31.263773",
     "status": "completed"
    },
    "tags": []
   },
   "outputs": [
    {
     "data": {
      "text/plain": [
       "5"
      ]
     },
     "metadata": {},
     "output_type": "display_data"
    }
   ],
   "source": [
    "seed(0)\n",
    "_gene_list_ids = sample(chromosome_genes_info[\"id\"].tolist(), 5)\n",
    "selected_chromosome_genes_obj = [Gene(ensembl_id=g_id) for g_id in _gene_list_ids]\n",
    "display(len(selected_chromosome_genes_obj))"
   ]
  },
  {
   "cell_type": "code",
   "execution_count": 30,
   "id": "1b355359",
   "metadata": {
    "execution": {
     "iopub.execute_input": "2022-07-12T04:04:31.307621Z",
     "iopub.status.busy": "2022-07-12T04:04:31.307404Z",
     "iopub.status.idle": "2022-07-12T04:04:32.936764Z",
     "shell.execute_reply": "2022-07-12T04:04:32.936347Z"
    },
    "papermill": {
     "duration": 1.638866,
     "end_time": "2022-07-12T04:04:32.937938",
     "exception": false,
     "start_time": "2022-07-12T04:04:31.299072",
     "status": "completed"
    },
    "tags": []
   },
   "outputs": [
    {
     "name": "stdout",
     "output_type": "stream",
     "text": [
      "SRA1 / SDHA: 0.0\n",
      "SRA1 / IL4: 0.0\n",
      "SRA1 / ZNF354C: 0.0\n",
      "SRA1 / VDAC1: 0.0\n",
      "SDHA / IL4: 0.0\n",
      "SDHA / ZNF354C: 0.0\n",
      "SDHA / VDAC1: 0.0\n",
      "IL4 / ZNF354C: 0.0\n",
      "IL4 / VDAC1: 0.007417371089975152\n",
      "ZNF354C / VDAC1: 0.0\n"
     ]
    }
   ],
   "source": [
    "for gene_idx1 in range(0, len(selected_chromosome_genes_obj) - 1):\n",
    "    gene_obj1 = selected_chromosome_genes_obj[gene_idx1]\n",
    "\n",
    "    for gene_idx2 in range(gene_idx1 + 1, len(selected_chromosome_genes_obj)):\n",
    "        gene_obj2 = selected_chromosome_genes_obj[gene_idx2]\n",
    "\n",
    "        c = gene_obj1.get_ssm_correlation(\n",
    "            gene_obj2,\n",
    "        )\n",
    "\n",
    "        print(f\"{gene_obj1.name} / {gene_obj2.name}: {c}\")"
   ]
  },
  {
   "cell_type": "markdown",
   "id": "d3843e06",
   "metadata": {
    "papermill": {
     "duration": 0.007319,
     "end_time": "2022-07-12T04:04:32.958985",
     "exception": false,
     "start_time": "2022-07-12T04:04:32.951666",
     "status": "completed"
    },
    "tags": []
   },
   "source": [
    "# Compute correlation per chromosome"
   ]
  },
  {
   "cell_type": "code",
   "execution_count": 31,
   "id": "cb859c15-d1f3-4006-a74c-2b83c0db9611",
   "metadata": {
    "execution": {
     "iopub.execute_input": "2022-07-12T04:04:32.975516Z",
     "iopub.status.busy": "2022-07-12T04:04:32.975065Z",
     "iopub.status.idle": "2022-07-12T04:04:32.991148Z",
     "shell.execute_reply": "2022-07-12T04:04:32.990658Z"
    },
    "papermill": {
     "duration": 0.025706,
     "end_time": "2022-07-12T04:04:32.992381",
     "exception": false,
     "start_time": "2022-07-12T04:04:32.966675",
     "status": "completed"
    },
    "tags": []
   },
   "outputs": [
    {
     "data": {
      "text/plain": [
       "PosixPath('/opt/data/data/phenomexcan/ld_blocks/gene_corrs/1000g/mashr/by_chr/gene_corrs-chr5.pkl')"
      ]
     },
     "metadata": {},
     "output_type": "display_data"
    }
   ],
   "source": [
    "output_dir = OUTPUT_DIR_BASE / \"by_chr\"\n",
    "output_dir.mkdir(exist_ok=True, parents=True)\n",
    "output_file = output_dir / f\"gene_corrs-chr{chromosome}.pkl\"\n",
    "display(output_file)"
   ]
  },
  {
   "cell_type": "code",
   "execution_count": 32,
   "id": "aa674fe4-6794-4eed-98fa-32b39d1d4ace",
   "metadata": {
    "execution": {
     "iopub.execute_input": "2022-07-12T04:04:33.009185Z",
     "iopub.status.busy": "2022-07-12T04:04:33.008918Z",
     "iopub.status.idle": "2022-07-12T04:04:33.025356Z",
     "shell.execute_reply": "2022-07-12T04:04:33.024941Z"
    },
    "papermill": {
     "duration": 0.026574,
     "end_time": "2022-07-12T04:04:33.026848",
     "exception": false,
     "start_time": "2022-07-12T04:04:33.000274",
     "status": "completed"
    },
    "tags": []
   },
   "outputs": [],
   "source": [
    "warnings.filterwarnings(\"error\")"
   ]
  },
  {
   "cell_type": "code",
   "execution_count": 33,
   "id": "cdbb90a1",
   "metadata": {
    "execution": {
     "iopub.execute_input": "2022-07-12T04:04:33.043879Z",
     "iopub.status.busy": "2022-07-12T04:04:33.043542Z",
     "iopub.status.idle": "2022-07-12T05:07:28.760932Z",
     "shell.execute_reply": "2022-07-12T05:07:28.760513Z"
    },
    "papermill": {
     "duration": 3775.727474,
     "end_time": "2022-07-12T05:07:28.762270",
     "exception": false,
     "start_time": "2022-07-12T04:04:33.034796",
     "status": "completed"
    },
    "tags": []
   },
   "outputs": [
    {
     "name": "stdout",
     "output_type": "stream",
     "text": [
      "Number of genes in chromosome: 306\n",
      "Number of gene combinations: 46665\n"
     ]
    },
    {
     "name": "stderr",
     "output_type": "stream",
     "text": [
      "ENSG00000113303 / ENSG00000165810: 100%|████████████████████| 46665/46665 [1:02:55<00:00, 12.36it/s]\n"
     ]
    },
    {
     "name": "stdout",
     "output_type": "stream",
     "text": [
      "Min/max values: 0.0 / 0.9745247555727921\n"
     ]
    },
    {
     "data": {
      "text/plain": [
       "PosixPath('/opt/data/data/phenomexcan/ld_blocks/gene_corrs/1000g/mashr/by_chr/gene_corrs-chr5.pkl')"
      ]
     },
     "metadata": {},
     "output_type": "display_data"
    }
   ],
   "source": [
    "# standard checks\n",
    "all_chrs = genes_info[\"chr\"].dropna().unique()\n",
    "assert all_chrs.shape[0] == 22\n",
    "\n",
    "# select chromosome given by the user\n",
    "assert chromosome in all_chrs\n",
    "\n",
    "# run only on the chromosome specified\n",
    "all_chrs = [chromosome]\n",
    "genes_chr = genes_info[genes_info[\"chr\"] == chromosome]\n",
    "\n",
    "# For testing purposes\n",
    "# genes_chr = genes_chr.sample(n=20)\n",
    "\n",
    "print(f\"Number of genes in chromosome: {genes_chr.shape[0]}\", flush=True)\n",
    "\n",
    "# sort genes by starting position to make visualizations better later\n",
    "genes_chr = genes_chr.sort_values(\"start_position\")\n",
    "\n",
    "gene_chr_objs = [Gene(ensembl_id=gene_id) for gene_id in genes_chr[\"id\"]]\n",
    "gene_chr_ids = [g.ensembl_id for g in gene_chr_objs]\n",
    "\n",
    "n = len(gene_chr_objs)\n",
    "n_comb = int(n * (n - 1) / 2.0)\n",
    "print(f\"Number of gene combinations: {n_comb}\", flush=True)\n",
    "\n",
    "gene_corrs = []\n",
    "\n",
    "pbar = tqdm(ncols=100, total=n_comb)\n",
    "i = 0\n",
    "for gene_idx1 in range(0, len(gene_chr_objs) - 1):\n",
    "    gene_obj1 = gene_chr_objs[gene_idx1]\n",
    "\n",
    "    for gene_idx2 in range(gene_idx1 + 1, len(gene_chr_objs)):\n",
    "        gene_obj2 = gene_chr_objs[gene_idx2]\n",
    "\n",
    "        pbar.set_description(f\"{gene_obj1.ensembl_id} / {gene_obj2.ensembl_id}\")\n",
    "\n",
    "        try:\n",
    "            # FIXME: compute the correlation of the sum of squares of the model using all\n",
    "            # the available tissues; this could be problematic because for some results\n",
    "            # (computed on a specific phenotype/GWAS) we might not have all the tissues\n",
    "            # available, which can certainly bias the correlation estimation.\n",
    "            # Since this depends on the GWAS on a specific phenotype, we should ideally have\n",
    "            # one correlation matrix per GWAS. I should look at how we can improve this.\n",
    "            r = gene_obj1.get_ssm_correlation(\n",
    "                other_gene=gene_obj2,\n",
    "                condition_number=SMULTIXCAN_CONDITION_NUMBER,\n",
    "                reference_panel=REFERENCE_PANEL,\n",
    "                model_type=EQTL_MODEL,\n",
    "                use_within_distance=COMPUTE_CORRELATIONS_WITHIN_DISTANCE,\n",
    "            )\n",
    "\n",
    "            if r is None:\n",
    "                # if r is None, it's very likely because:\n",
    "                #  * one of the genes has no prediction models\n",
    "                #  * all the SNPs predictors for the gene are not present in the reference\n",
    "                #    panel\n",
    "\n",
    "                r = 0.0\n",
    "\n",
    "            gene_corrs.append(r)\n",
    "        except Warning:\n",
    "            print(\n",
    "                f\"RuntimeWarning for genes {gene_obj1.ensembl_id} and {gene_obj2.ensembl_id}\",\n",
    "                flush=True,\n",
    "            )\n",
    "            import traceback\n",
    "\n",
    "            print(traceback.format_exc(), flush=True)\n",
    "        except Exception as e:\n",
    "            print(\n",
    "                f\"Exception for genes {gene_obj1.ensembl_id} and {gene_obj2.ensembl_id}\",\n",
    "                flush=True,\n",
    "            )\n",
    "            import traceback\n",
    "\n",
    "            print(traceback.format_exc(), flush=True)\n",
    "            gene_corrs.append(np.nan)\n",
    "\n",
    "        pbar.update(1)\n",
    "\n",
    "pbar.close()\n",
    "\n",
    "# testing\n",
    "gene_corrs_flat = pd.Series(gene_corrs)\n",
    "print(f\"Min/max values: {gene_corrs_flat.min()} / {gene_corrs_flat.max()}\")\n",
    "assert gene_corrs_flat.min() >= -1.001\n",
    "assert gene_corrs_flat.max() <= 1.001\n",
    "\n",
    "# save\n",
    "# FIXME: consider saving only the condenced matrix here. See here for\n",
    "# more details: https://github.com/greenelab/phenoplier/pull/38#discussion_r634600813\n",
    "gene_corrs_data = squareform(np.array(gene_corrs, dtype=np.float64))\n",
    "np.fill_diagonal(gene_corrs_data, 1.0)\n",
    "\n",
    "gene_corrs_df = pd.DataFrame(\n",
    "    data=gene_corrs_data,\n",
    "    index=gene_chr_ids,\n",
    "    columns=gene_chr_ids,\n",
    ")\n",
    "\n",
    "output_dir.mkdir(exist_ok=True, parents=True)\n",
    "display(output_file)\n",
    "\n",
    "gene_corrs_df.to_pickle(output_file)"
   ]
  },
  {
   "cell_type": "markdown",
   "id": "faa67b51-5373-470f-aa72-2ded53fa6dfe",
   "metadata": {
    "papermill": {
     "duration": 2.572668,
     "end_time": "2022-07-12T05:07:33.818728",
     "exception": false,
     "start_time": "2022-07-12T05:07:31.246060",
     "status": "completed"
    },
    "tags": []
   },
   "source": [
    "# Testing"
   ]
  },
  {
   "cell_type": "code",
   "execution_count": 34,
   "id": "14f7d046-4b55-4896-a56b-990127bcc388",
   "metadata": {
    "execution": {
     "iopub.execute_input": "2022-07-12T05:07:38.935684Z",
     "iopub.status.busy": "2022-07-12T05:07:38.935345Z",
     "iopub.status.idle": "2022-07-12T05:07:38.953077Z",
     "shell.execute_reply": "2022-07-12T05:07:38.952618Z"
    },
    "papermill": {
     "duration": 2.632393,
     "end_time": "2022-07-12T05:07:38.954262",
     "exception": false,
     "start_time": "2022-07-12T05:07:36.321869",
     "status": "completed"
    },
    "tags": []
   },
   "outputs": [
    {
     "data": {
      "text/plain": [
       "(306, 306)"
      ]
     },
     "execution_count": 34,
     "metadata": {},
     "output_type": "execute_result"
    }
   ],
   "source": [
    "gene_corrs_df.shape"
   ]
  },
  {
   "cell_type": "code",
   "execution_count": 35,
   "id": "c7d15414-3297-4537-a7c6-7588c0baeb75",
   "metadata": {
    "execution": {
     "iopub.execute_input": "2022-07-12T05:07:44.035791Z",
     "iopub.status.busy": "2022-07-12T05:07:44.035510Z",
     "iopub.status.idle": "2022-07-12T05:07:44.065024Z",
     "shell.execute_reply": "2022-07-12T05:07:44.064584Z"
    },
    "papermill": {
     "duration": 2.615936,
     "end_time": "2022-07-12T05:07:44.066176",
     "exception": false,
     "start_time": "2022-07-12T05:07:41.450240",
     "status": "completed"
    },
    "tags": []
   },
   "outputs": [
    {
     "data": {
      "text/html": [
       "<div>\n",
       "<style scoped>\n",
       "    .dataframe tbody tr th:only-of-type {\n",
       "        vertical-align: middle;\n",
       "    }\n",
       "\n",
       "    .dataframe tbody tr th {\n",
       "        vertical-align: top;\n",
       "    }\n",
       "\n",
       "    .dataframe thead th {\n",
       "        text-align: right;\n",
       "    }\n",
       "</style>\n",
       "<table border=\"1\" class=\"dataframe\">\n",
       "  <thead>\n",
       "    <tr style=\"text-align: right;\">\n",
       "      <th></th>\n",
       "      <th>ENSG00000073578</th>\n",
       "      <th>ENSG00000180104</th>\n",
       "      <th>ENSG00000066230</th>\n",
       "      <th>ENSG00000112877</th>\n",
       "      <th>ENSG00000113504</th>\n",
       "      <th>ENSG00000174358</th>\n",
       "      <th>ENSG00000164362</th>\n",
       "      <th>ENSG00000049656</th>\n",
       "      <th>ENSG00000153395</th>\n",
       "      <th>ENSG00000171421</th>\n",
       "      <th>...</th>\n",
       "      <th>ENSG00000161021</th>\n",
       "      <th>ENSG00000161013</th>\n",
       "      <th>ENSG00000161011</th>\n",
       "      <th>ENSG00000050748</th>\n",
       "      <th>ENSG00000131459</th>\n",
       "      <th>ENSG00000113300</th>\n",
       "      <th>ENSG00000037280</th>\n",
       "      <th>ENSG00000131446</th>\n",
       "      <th>ENSG00000113303</th>\n",
       "      <th>ENSG00000165810</th>\n",
       "    </tr>\n",
       "  </thead>\n",
       "  <tbody>\n",
       "    <tr>\n",
       "      <th>ENSG00000073578</th>\n",
       "      <td>1.000000</td>\n",
       "      <td>0.225270</td>\n",
       "      <td>0.164263</td>\n",
       "      <td>0.057726</td>\n",
       "      <td>0.017172</td>\n",
       "      <td>0.013519</td>\n",
       "      <td>0.011427</td>\n",
       "      <td>0.009907</td>\n",
       "      <td>0.017186</td>\n",
       "      <td>0.012019</td>\n",
       "      <td>...</td>\n",
       "      <td>0.012490</td>\n",
       "      <td>0.016203</td>\n",
       "      <td>0.017967</td>\n",
       "      <td>0.015522</td>\n",
       "      <td>0.016078</td>\n",
       "      <td>0.008165</td>\n",
       "      <td>0.016126</td>\n",
       "      <td>0.017097</td>\n",
       "      <td>0.010405</td>\n",
       "      <td>0.005570</td>\n",
       "    </tr>\n",
       "    <tr>\n",
       "      <th>ENSG00000180104</th>\n",
       "      <td>0.225270</td>\n",
       "      <td>1.000000</td>\n",
       "      <td>0.393816</td>\n",
       "      <td>0.091420</td>\n",
       "      <td>0.015587</td>\n",
       "      <td>0.007592</td>\n",
       "      <td>0.007368</td>\n",
       "      <td>0.010794</td>\n",
       "      <td>0.008879</td>\n",
       "      <td>0.007667</td>\n",
       "      <td>...</td>\n",
       "      <td>0.009919</td>\n",
       "      <td>0.008300</td>\n",
       "      <td>0.010757</td>\n",
       "      <td>0.013817</td>\n",
       "      <td>0.018199</td>\n",
       "      <td>0.011623</td>\n",
       "      <td>0.011837</td>\n",
       "      <td>0.012631</td>\n",
       "      <td>0.007056</td>\n",
       "      <td>0.005940</td>\n",
       "    </tr>\n",
       "    <tr>\n",
       "      <th>ENSG00000066230</th>\n",
       "      <td>0.164263</td>\n",
       "      <td>0.393816</td>\n",
       "      <td>1.000000</td>\n",
       "      <td>0.223077</td>\n",
       "      <td>0.020293</td>\n",
       "      <td>0.008163</td>\n",
       "      <td>0.010617</td>\n",
       "      <td>0.005244</td>\n",
       "      <td>0.012261</td>\n",
       "      <td>0.007169</td>\n",
       "      <td>...</td>\n",
       "      <td>0.005023</td>\n",
       "      <td>0.006202</td>\n",
       "      <td>0.008288</td>\n",
       "      <td>0.011754</td>\n",
       "      <td>0.012430</td>\n",
       "      <td>0.004778</td>\n",
       "      <td>0.005685</td>\n",
       "      <td>0.015565</td>\n",
       "      <td>0.010949</td>\n",
       "      <td>0.010190</td>\n",
       "    </tr>\n",
       "    <tr>\n",
       "      <th>ENSG00000112877</th>\n",
       "      <td>0.057726</td>\n",
       "      <td>0.091420</td>\n",
       "      <td>0.223077</td>\n",
       "      <td>1.000000</td>\n",
       "      <td>0.023220</td>\n",
       "      <td>0.013198</td>\n",
       "      <td>0.007208</td>\n",
       "      <td>0.014335</td>\n",
       "      <td>0.014422</td>\n",
       "      <td>0.008983</td>\n",
       "      <td>...</td>\n",
       "      <td>0.005181</td>\n",
       "      <td>0.006799</td>\n",
       "      <td>0.009682</td>\n",
       "      <td>0.017877</td>\n",
       "      <td>0.015078</td>\n",
       "      <td>0.008716</td>\n",
       "      <td>0.013810</td>\n",
       "      <td>0.015792</td>\n",
       "      <td>0.012996</td>\n",
       "      <td>0.014768</td>\n",
       "    </tr>\n",
       "    <tr>\n",
       "      <th>ENSG00000113504</th>\n",
       "      <td>0.017172</td>\n",
       "      <td>0.015587</td>\n",
       "      <td>0.020293</td>\n",
       "      <td>0.023220</td>\n",
       "      <td>1.000000</td>\n",
       "      <td>0.042886</td>\n",
       "      <td>0.017868</td>\n",
       "      <td>0.016643</td>\n",
       "      <td>0.130195</td>\n",
       "      <td>0.014295</td>\n",
       "      <td>...</td>\n",
       "      <td>0.006406</td>\n",
       "      <td>0.013611</td>\n",
       "      <td>0.019207</td>\n",
       "      <td>0.015342</td>\n",
       "      <td>0.018397</td>\n",
       "      <td>0.009892</td>\n",
       "      <td>0.022001</td>\n",
       "      <td>0.019414</td>\n",
       "      <td>0.011200</td>\n",
       "      <td>0.013536</td>\n",
       "    </tr>\n",
       "  </tbody>\n",
       "</table>\n",
       "<p>5 rows × 306 columns</p>\n",
       "</div>"
      ],
      "text/plain": [
       "                 ENSG00000073578  ENSG00000180104  ENSG00000066230  \\\n",
       "ENSG00000073578         1.000000         0.225270         0.164263   \n",
       "ENSG00000180104         0.225270         1.000000         0.393816   \n",
       "ENSG00000066230         0.164263         0.393816         1.000000   \n",
       "ENSG00000112877         0.057726         0.091420         0.223077   \n",
       "ENSG00000113504         0.017172         0.015587         0.020293   \n",
       "\n",
       "                 ENSG00000112877  ENSG00000113504  ENSG00000174358  \\\n",
       "ENSG00000073578         0.057726         0.017172         0.013519   \n",
       "ENSG00000180104         0.091420         0.015587         0.007592   \n",
       "ENSG00000066230         0.223077         0.020293         0.008163   \n",
       "ENSG00000112877         1.000000         0.023220         0.013198   \n",
       "ENSG00000113504         0.023220         1.000000         0.042886   \n",
       "\n",
       "                 ENSG00000164362  ENSG00000049656  ENSG00000153395  \\\n",
       "ENSG00000073578         0.011427         0.009907         0.017186   \n",
       "ENSG00000180104         0.007368         0.010794         0.008879   \n",
       "ENSG00000066230         0.010617         0.005244         0.012261   \n",
       "ENSG00000112877         0.007208         0.014335         0.014422   \n",
       "ENSG00000113504         0.017868         0.016643         0.130195   \n",
       "\n",
       "                 ENSG00000171421  ...  ENSG00000161021  ENSG00000161013  \\\n",
       "ENSG00000073578         0.012019  ...         0.012490         0.016203   \n",
       "ENSG00000180104         0.007667  ...         0.009919         0.008300   \n",
       "ENSG00000066230         0.007169  ...         0.005023         0.006202   \n",
       "ENSG00000112877         0.008983  ...         0.005181         0.006799   \n",
       "ENSG00000113504         0.014295  ...         0.006406         0.013611   \n",
       "\n",
       "                 ENSG00000161011  ENSG00000050748  ENSG00000131459  \\\n",
       "ENSG00000073578         0.017967         0.015522         0.016078   \n",
       "ENSG00000180104         0.010757         0.013817         0.018199   \n",
       "ENSG00000066230         0.008288         0.011754         0.012430   \n",
       "ENSG00000112877         0.009682         0.017877         0.015078   \n",
       "ENSG00000113504         0.019207         0.015342         0.018397   \n",
       "\n",
       "                 ENSG00000113300  ENSG00000037280  ENSG00000131446  \\\n",
       "ENSG00000073578         0.008165         0.016126         0.017097   \n",
       "ENSG00000180104         0.011623         0.011837         0.012631   \n",
       "ENSG00000066230         0.004778         0.005685         0.015565   \n",
       "ENSG00000112877         0.008716         0.013810         0.015792   \n",
       "ENSG00000113504         0.009892         0.022001         0.019414   \n",
       "\n",
       "                 ENSG00000113303  ENSG00000165810  \n",
       "ENSG00000073578         0.010405         0.005570  \n",
       "ENSG00000180104         0.007056         0.005940  \n",
       "ENSG00000066230         0.010949         0.010190  \n",
       "ENSG00000112877         0.012996         0.014768  \n",
       "ENSG00000113504         0.011200         0.013536  \n",
       "\n",
       "[5 rows x 306 columns]"
      ]
     },
     "execution_count": 35,
     "metadata": {},
     "output_type": "execute_result"
    }
   ],
   "source": [
    "gene_corrs_df.head()"
   ]
  },
  {
   "cell_type": "code",
   "execution_count": 36,
   "id": "286686af-1b7b-4440-8453-6bdcbd8de19c",
   "metadata": {
    "execution": {
     "iopub.execute_input": "2022-07-12T05:07:49.084923Z",
     "iopub.status.busy": "2022-07-12T05:07:49.084675Z",
     "iopub.status.idle": "2022-07-12T05:07:49.101088Z",
     "shell.execute_reply": "2022-07-12T05:07:49.100673Z"
    },
    "papermill": {
     "duration": 2.546957,
     "end_time": "2022-07-12T05:07:49.102421",
     "exception": false,
     "start_time": "2022-07-12T05:07:46.555464",
     "status": "completed"
    },
    "tags": []
   },
   "outputs": [],
   "source": [
    "assert not gene_corrs_df.isna().any().any()"
   ]
  },
  {
   "cell_type": "code",
   "execution_count": 37,
   "id": "00583efc-7068-4270-ad1e-4a418e91db96",
   "metadata": {
    "execution": {
     "iopub.execute_input": "2022-07-12T05:07:54.208733Z",
     "iopub.status.busy": "2022-07-12T05:07:54.208505Z",
     "iopub.status.idle": "2022-07-12T05:07:54.225791Z",
     "shell.execute_reply": "2022-07-12T05:07:54.225369Z"
    },
    "papermill": {
     "duration": 2.544759,
     "end_time": "2022-07-12T05:07:54.227148",
     "exception": false,
     "start_time": "2022-07-12T05:07:51.682389",
     "status": "completed"
    },
    "tags": []
   },
   "outputs": [
    {
     "data": {
      "text/plain": [
       "0.0"
      ]
     },
     "metadata": {},
     "output_type": "display_data"
    }
   ],
   "source": [
    "_min_val = gene_corrs_df.min().min()\n",
    "display(_min_val)\n",
    "assert _min_val >= 0.0"
   ]
  },
  {
   "cell_type": "code",
   "execution_count": 38,
   "id": "d04fb2cf-1050-475b-b855-f5f7cc04092b",
   "metadata": {
    "execution": {
     "iopub.execute_input": "2022-07-12T05:07:59.218710Z",
     "iopub.status.busy": "2022-07-12T05:07:59.218487Z",
     "iopub.status.idle": "2022-07-12T05:07:59.236245Z",
     "shell.execute_reply": "2022-07-12T05:07:59.235815Z"
    },
    "papermill": {
     "duration": 2.51707,
     "end_time": "2022-07-12T05:07:59.237413",
     "exception": false,
     "start_time": "2022-07-12T05:07:56.720343",
     "status": "completed"
    },
    "tags": []
   },
   "outputs": [
    {
     "data": {
      "text/plain": [
       "1.0"
      ]
     },
     "metadata": {},
     "output_type": "display_data"
    }
   ],
   "source": [
    "_max_val = gene_corrs_df.max().max()  # this captures the diagonal\n",
    "display(_max_val)\n",
    "assert _max_val <= 1.0"
   ]
  },
  {
   "cell_type": "code",
   "execution_count": 39,
   "id": "96d02c44-1fba-47be-8a93-8f2608420b9c",
   "metadata": {
    "execution": {
     "iopub.execute_input": "2022-07-12T05:08:04.323807Z",
     "iopub.status.busy": "2022-07-12T05:08:04.323571Z",
     "iopub.status.idle": "2022-07-12T05:08:04.339933Z",
     "shell.execute_reply": "2022-07-12T05:08:04.339529Z"
    },
    "papermill": {
     "duration": 2.492112,
     "end_time": "2022-07-12T05:08:04.341183",
     "exception": false,
     "start_time": "2022-07-12T05:08:01.849071",
     "status": "completed"
    },
    "tags": []
   },
   "outputs": [],
   "source": [
    "# check upper triangular values\n",
    "assert len(gene_corrs) == int(genes_chr.shape[0] * (genes_chr.shape[0] - 1) / 2)"
   ]
  },
  {
   "cell_type": "code",
   "execution_count": 40,
   "id": "aaa51627-f4e3-4744-a41f-7d25adcc0a78",
   "metadata": {
    "execution": {
     "iopub.execute_input": "2022-07-12T05:08:09.501105Z",
     "iopub.status.busy": "2022-07-12T05:08:09.500236Z",
     "iopub.status.idle": "2022-07-12T05:08:09.532378Z",
     "shell.execute_reply": "2022-07-12T05:08:09.531890Z"
    },
    "papermill": {
     "duration": 2.613453,
     "end_time": "2022-07-12T05:08:09.533790",
     "exception": false,
     "start_time": "2022-07-12T05:08:06.920337",
     "status": "completed"
    },
    "tags": []
   },
   "outputs": [],
   "source": [
    "gene_corrs = pd.Series(gene_corrs)"
   ]
  },
  {
   "cell_type": "code",
   "execution_count": 41,
   "id": "fe283586-c348-40e0-8841-f6d97bfb021c",
   "metadata": {
    "execution": {
     "iopub.execute_input": "2022-07-12T05:08:14.565644Z",
     "iopub.status.busy": "2022-07-12T05:08:14.565428Z",
     "iopub.status.idle": "2022-07-12T05:08:14.587088Z",
     "shell.execute_reply": "2022-07-12T05:08:14.586611Z"
    },
    "papermill": {
     "duration": 2.551069,
     "end_time": "2022-07-12T05:08:14.588284",
     "exception": false,
     "start_time": "2022-07-12T05:08:12.037215",
     "status": "completed"
    },
    "tags": []
   },
   "outputs": [
    {
     "data": {
      "text/plain": [
       "count    46665.000000\n",
       "mean         0.010464\n",
       "std          0.029597\n",
       "min          0.000000\n",
       "25%          0.005389\n",
       "50%          0.008155\n",
       "75%          0.011294\n",
       "max          0.974525\n",
       "dtype: float64"
      ]
     },
     "execution_count": 41,
     "metadata": {},
     "output_type": "execute_result"
    }
   ],
   "source": [
    "gene_corrs.describe()"
   ]
  },
  {
   "cell_type": "code",
   "execution_count": 42,
   "id": "b3815678-0f93-4b35-897b-a9d047a2aa78",
   "metadata": {
    "execution": {
     "iopub.execute_input": "2022-07-12T05:08:19.655702Z",
     "iopub.status.busy": "2022-07-12T05:08:19.655247Z",
     "iopub.status.idle": "2022-07-12T05:08:19.676363Z",
     "shell.execute_reply": "2022-07-12T05:08:19.675938Z"
    },
    "papermill": {
     "duration": 2.470683,
     "end_time": "2022-07-12T05:08:19.677682",
     "exception": false,
     "start_time": "2022-07-12T05:08:17.206999",
     "status": "completed"
    },
    "tags": []
   },
   "outputs": [
    {
     "data": {
      "text/plain": [
       "0.00    0.000000\n",
       "0.05    0.002144\n",
       "0.10    0.003253\n",
       "0.15    0.004053\n",
       "0.20    0.004778\n",
       "0.25    0.005389\n",
       "0.30    0.005975\n",
       "0.35    0.006542\n",
       "0.40    0.007074\n",
       "0.45    0.007616\n",
       "0.50    0.008155\n",
       "0.55    0.008729\n",
       "0.60    0.009293\n",
       "0.65    0.009925\n",
       "0.70    0.010563\n",
       "0.75    0.011294\n",
       "0.80    0.012119\n",
       "0.85    0.013115\n",
       "0.90    0.014385\n",
       "0.95    0.016529\n",
       "dtype: float64"
      ]
     },
     "metadata": {},
     "output_type": "display_data"
    }
   ],
   "source": [
    "gene_corrs_quantiles = gene_corrs.quantile(np.arange(0, 1, 0.05))\n",
    "display(gene_corrs_quantiles)"
   ]
  },
  {
   "cell_type": "markdown",
   "id": "8e60a080-edb2-4e9c-b2ef-22961693200c",
   "metadata": {
    "papermill": {
     "duration": 2.982026,
     "end_time": "2022-07-12T05:08:25.220411",
     "exception": false,
     "start_time": "2022-07-12T05:08:22.238385",
     "status": "completed"
    },
    "tags": []
   },
   "source": [
    "## Plot: distribution"
   ]
  },
  {
   "cell_type": "code",
   "execution_count": 43,
   "id": "8301126b-a7d4-4744-9c7d-f0f86eb6f54c",
   "metadata": {
    "execution": {
     "iopub.execute_input": "2022-07-12T05:08:30.335671Z",
     "iopub.status.busy": "2022-07-12T05:08:30.335505Z",
     "iopub.status.idle": "2022-07-12T05:08:35.291355Z",
     "shell.execute_reply": "2022-07-12T05:08:35.290780Z"
    },
    "papermill": {
     "duration": 7.416729,
     "end_time": "2022-07-12T05:08:35.292823",
     "exception": false,
     "start_time": "2022-07-12T05:08:27.876094",
     "status": "completed"
    },
    "tags": []
   },
   "outputs": [
    {
     "data": {
      "image/png": "[encoded data removed]",
      "text/plain": [
       "<Figure size 504x504 with 1 Axes>"
      ]
     },
     "metadata": {
      "needs_background": "light"
     },
     "output_type": "display_data"
    }
   ],
   "source": [
    "with sns.plotting_context(\"paper\", font_scale=1.5):\n",
    "    g = sns.displot(gene_corrs, kde=True, height=7)\n",
    "    g.ax.set_title(\n",
    "        f\"Distribution of gene correlation values in chromosome {chromosome}\"\n",
    "    )"
   ]
  },
  {
   "cell_type": "markdown",
   "id": "cbd52bca-d878-4a2f-b684-5c83aa3038d4",
   "metadata": {
    "papermill": {
     "duration": 2.594558,
     "end_time": "2022-07-12T05:08:40.453589",
     "exception": false,
     "start_time": "2022-07-12T05:08:37.859031",
     "status": "completed"
    },
    "tags": []
   },
   "source": [
    "## Plot: heatmap"
   ]
  },
  {
   "cell_type": "code",
   "execution_count": 44,
   "id": "d03fe63a-c7b2-4fb9-a53c-db362ce843c9",
   "metadata": {
    "execution": {
     "iopub.execute_input": "2022-07-12T05:08:45.488548Z",
     "iopub.status.busy": "2022-07-12T05:08:45.488292Z",
     "iopub.status.idle": "2022-07-12T05:08:45.504363Z",
     "shell.execute_reply": "2022-07-12T05:08:45.503897Z"
    },
    "papermill": {
     "duration": 2.548596,
     "end_time": "2022-07-12T05:08:45.505485",
     "exception": false,
     "start_time": "2022-07-12T05:08:42.956889",
     "status": "completed"
    },
    "tags": []
   },
   "outputs": [
    {
     "data": {
      "text/plain": [
       "'-0.05 / 0.05'"
      ]
     },
     "metadata": {},
     "output_type": "display_data"
    }
   ],
   "source": [
    "vmin_val = min(-0.05, gene_corrs_quantiles[0.10])\n",
    "vmax_val = max(0.05, gene_corrs_quantiles[0.90])\n",
    "display(f\"{vmin_val} / {vmax_val}\")"
   ]
  },
  {
   "cell_type": "code",
   "execution_count": 45,
   "id": "dc41b70b-5bcc-4d9e-9f33-a22c4a94dab5",
   "metadata": {
    "execution": {
     "iopub.execute_input": "2022-07-12T05:08:50.568744Z",
     "iopub.status.busy": "2022-07-12T05:08:50.568545Z",
     "iopub.status.idle": "2022-07-12T05:08:50.819570Z",
     "shell.execute_reply": "2022-07-12T05:08:50.819167Z"
    },
    "papermill": {
     "duration": 2.712999,
     "end_time": "2022-07-12T05:08:50.823287",
     "exception": false,
     "start_time": "2022-07-12T05:08:48.110288",
     "status": "completed"
    },
    "tags": []
   },
   "outputs": [
    {
     "data": {
      "text/plain": [
       "Text(0.5, 1.0, 'Gene correlations in chromosome 5')"
      ]
     },
     "execution_count": 45,
     "metadata": {},
     "output_type": "execute_result"
    },
    {
     "data": {
      "image/png": "[encoded data removed]",
      "text/plain": [
       "<Figure size 720x720 with 2 Axes>"
      ]
     },
     "metadata": {
      "needs_background": "light"
     },
     "output_type": "display_data"
    }
   ],
   "source": [
    "f, ax = plt.subplots(figsize=(10, 10))\n",
    "sns.heatmap(\n",
    "    gene_corrs_df,\n",
    "    xticklabels=False,\n",
    "    yticklabels=False,\n",
    "    square=True,\n",
    "    vmin=vmin_val,\n",
    "    vmax=vmax_val,\n",
    "    cmap=\"YlGnBu\",\n",
    "    ax=ax,\n",
    ")\n",
    "ax.set_title(f\"Gene correlations in chromosome {chromosome}\")"
   ]
  },
  {
   "cell_type": "code",
   "execution_count": null,
   "id": "b25e3ead",
   "metadata": {
    "papermill": {
     "duration": 2.622067,
     "end_time": "2022-07-12T05:08:55.980497",
     "exception": false,
     "start_time": "2022-07-12T05:08:53.358430",
     "status": "completed"
    },
    "tags": []
   },
   "outputs": [],
   "source": []
  }
 ],
 "metadata": {
  "jupytext": {
   "cell_metadata_filter": "all,-execution,-papermill,-trusted",
   "formats": "ipynb,py//py:percent"
  },
  "kernelspec": {
   "display_name": "Python 3 (ipykernel)",
   "language": "python",
   "name": "python3"
  },
  "language_info": {
   "codemirror_mode": {
    "name": "ipython",
    "version": 3
   },
   "file_extension": ".py",
   "mimetype": "text/x-python",
   "name": "python",
   "nbconvert_exporter": "python",
   "pygments_lexer": "ipython3",
   "version": "3.8.13"
  },
  "papermill": {
   "default_parameters": {},
   "duration": 3876.146653,
   "end_time": "2022-07-12T05:09:01.923984",
   "environment_variables": {},
   "exception": null,
   "input_path": "nbs/15_gsa_gls/10-gene_expr_correlations.ipynb",
   "output_path": "nbs/15_gsa_gls/gene_corrs/1000g/mashr/10-gene_expr_correlations-chr5.run.ipynb",
   "parameters": {
    "EQTL_MODEL": "MASHR",
    "REFERENCE_PANEL": "1000G",
    "chromosome": 5
   },
   "start_time": "2022-07-12T04:04:25.777331",
   "version": "2.2.2"
  }
 },
 "nbformat": 4,
 "nbformat_minor": 5
}
