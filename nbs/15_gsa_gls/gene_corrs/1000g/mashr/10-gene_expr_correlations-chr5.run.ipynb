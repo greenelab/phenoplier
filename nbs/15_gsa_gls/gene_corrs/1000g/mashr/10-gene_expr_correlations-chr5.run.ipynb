{
 "cells": [
  {
   "cell_type": "markdown",
   "id": "7a6632fb",
   "metadata": {
    "papermill": {
     "duration": 0.020458,
     "end_time": "2022-07-11T06:22:31.480781",
     "exception": false,
     "start_time": "2022-07-11T06:22:31.460323",
     "status": "completed"
    },
    "tags": []
   },
   "source": [
    "# Description"
   ]
  },
  {
   "cell_type": "markdown",
   "id": "7097c346",
   "metadata": {
    "papermill": {
     "duration": 0.008942,
     "end_time": "2022-07-11T06:22:31.514129",
     "exception": false,
     "start_time": "2022-07-11T06:22:31.505187",
     "status": "completed"
    },
    "tags": []
   },
   "source": [
    "(Please, take a look at the README.md file in this directory for instructions on how to run this notebook)\n",
    "\n",
    "This notebook computes predicted expression correlations between all genes in the MultiPLIER models.\n",
    "\n",
    "It also has a parameter set for papermill to run on a single chromosome to run in parallel (see under `Settings` below).\n",
    "\n",
    "This notebook is not directly run. See README.md."
   ]
  },
  {
   "cell_type": "markdown",
   "id": "c61d8427",
   "metadata": {
    "papermill": {
     "duration": 0.015548,
     "end_time": "2022-07-11T06:22:31.560344",
     "exception": false,
     "start_time": "2022-07-11T06:22:31.544796",
     "status": "completed"
    },
    "tags": []
   },
   "source": [
    "# Modules"
   ]
  },
  {
   "cell_type": "code",
   "execution_count": 1,
   "id": "bbc0234f",
   "metadata": {
    "execution": {
     "iopub.execute_input": "2022-07-11T06:22:31.589516Z",
     "iopub.status.busy": "2022-07-11T06:22:31.589327Z",
     "iopub.status.idle": "2022-07-11T06:22:31.608307Z",
     "shell.execute_reply": "2022-07-11T06:22:31.607719Z"
    },
    "papermill": {
     "duration": 0.037761,
     "end_time": "2022-07-11T06:22:31.609910",
     "exception": false,
     "start_time": "2022-07-11T06:22:31.572149",
     "status": "completed"
    },
    "tags": []
   },
   "outputs": [],
   "source": [
    "%load_ext autoreload\n",
    "%autoreload 2"
   ]
  },
  {
   "cell_type": "code",
   "execution_count": 2,
   "id": "1d5f5a59",
   "metadata": {
    "execution": {
     "iopub.execute_input": "2022-07-11T06:22:31.645700Z",
     "iopub.status.busy": "2022-07-11T06:22:31.645547Z",
     "iopub.status.idle": "2022-07-11T06:22:32.908269Z",
     "shell.execute_reply": "2022-07-11T06:22:32.907790Z"
    },
    "papermill": {
     "duration": 1.288692,
     "end_time": "2022-07-11T06:22:32.909749",
     "exception": false,
     "start_time": "2022-07-11T06:22:31.621057",
     "status": "completed"
    },
    "tags": []
   },
   "outputs": [],
   "source": [
    "from random import sample, seed\n",
    "import warnings\n",
    "from pathlib import Path\n",
    "\n",
    "import numpy as np\n",
    "from scipy.spatial.distance import squareform\n",
    "import pandas as pd\n",
    "from tqdm import tqdm\n",
    "import matplotlib.pyplot as plt\n",
    "import seaborn as sns\n",
    "\n",
    "import conf\n",
    "from entity import Gene"
   ]
  },
  {
   "cell_type": "markdown",
   "id": "1eac24b5",
   "metadata": {
    "papermill": {
     "duration": 0.012464,
     "end_time": "2022-07-11T06:22:32.959944",
     "exception": false,
     "start_time": "2022-07-11T06:22:32.947480",
     "status": "completed"
    },
    "tags": []
   },
   "source": [
    "# Settings"
   ]
  },
  {
   "cell_type": "code",
   "execution_count": 3,
   "id": "ca4560ba",
   "metadata": {
    "execution": {
     "iopub.execute_input": "2022-07-11T06:22:32.982333Z",
     "iopub.status.busy": "2022-07-11T06:22:32.982174Z",
     "iopub.status.idle": "2022-07-11T06:22:33.008365Z",
     "shell.execute_reply": "2022-07-11T06:22:33.007934Z"
    },
    "papermill": {
     "duration": 0.038867,
     "end_time": "2022-07-11T06:22:33.009794",
     "exception": false,
     "start_time": "2022-07-11T06:22:32.970927",
     "status": "completed"
    },
    "tags": [
     "parameters"
    ]
   },
   "outputs": [],
   "source": [
    "# reference panel\n",
    "REFERENCE_PANEL = \"GTEX_V8\"\n",
    "# REFERENCE_PANEL = \"1000G\"\n",
    "\n",
    "# prediction models\n",
    "## mashr\n",
    "EQTL_MODEL = \"MASHR\"\n",
    "\n",
    "# this is the default value used in S-MultiXcan to select the\n",
    "# top principal components of the expression correlation matrix\n",
    "SMULTIXCAN_CONDITION_NUMBER = 30\n",
    "\n",
    "# specifies a single chromosome value\n",
    "# by default, run on all chromosomes\n",
    "chromosome = None"
   ]
  },
  {
   "cell_type": "code",
   "execution_count": 4,
   "id": "813e8c15",
   "metadata": {
    "execution": {
     "iopub.execute_input": "2022-07-11T06:22:33.029983Z",
     "iopub.status.busy": "2022-07-11T06:22:33.029819Z",
     "iopub.status.idle": "2022-07-11T06:22:33.047526Z",
     "shell.execute_reply": "2022-07-11T06:22:33.047124Z"
    },
    "papermill": {
     "duration": 0.030522,
     "end_time": "2022-07-11T06:22:33.048859",
     "exception": false,
     "start_time": "2022-07-11T06:22:33.018337",
     "status": "completed"
    },
    "tags": [
     "injected-parameters"
    ]
   },
   "outputs": [],
   "source": [
    "# Parameters\n",
    "chromosome = 5\n",
    "REFERENCE_PANEL = \"1000G\"\n",
    "EQTL_MODEL = \"MASHR\"\n"
   ]
  },
  {
   "cell_type": "code",
   "execution_count": 5,
   "id": "a089c9ff",
   "metadata": {
    "execution": {
     "iopub.execute_input": "2022-07-11T06:22:33.069507Z",
     "iopub.status.busy": "2022-07-11T06:22:33.069343Z",
     "iopub.status.idle": "2022-07-11T06:22:33.093600Z",
     "shell.execute_reply": "2022-07-11T06:22:33.093204Z"
    },
    "papermill": {
     "duration": 0.037434,
     "end_time": "2022-07-11T06:22:33.094939",
     "exception": false,
     "start_time": "2022-07-11T06:22:33.057505",
     "status": "completed"
    },
    "tags": []
   },
   "outputs": [],
   "source": [
    "EQTL_MODEL_FILES_PREFIX = conf.PHENOMEXCAN[\"PREDICTION_MODELS\"][f\"{EQTL_MODEL}_PREFIX\"]"
   ]
  },
  {
   "cell_type": "code",
   "execution_count": 6,
   "id": "8fe24bef",
   "metadata": {
    "execution": {
     "iopub.execute_input": "2022-07-11T06:22:33.113972Z",
     "iopub.status.busy": "2022-07-11T06:22:33.113808Z",
     "iopub.status.idle": "2022-07-11T06:22:33.140381Z",
     "shell.execute_reply": "2022-07-11T06:22:33.139983Z"
    },
    "papermill": {
     "duration": 0.038648,
     "end_time": "2022-07-11T06:22:33.141495",
     "exception": false,
     "start_time": "2022-07-11T06:22:33.102847",
     "status": "completed"
    },
    "tags": []
   },
   "outputs": [
    {
     "data": {
      "text/plain": [
       "'Using eQTL model: MASHR / mashr_'"
      ]
     },
     "metadata": {},
     "output_type": "display_data"
    }
   ],
   "source": [
    "display(f\"Using eQTL model: {EQTL_MODEL} / {EQTL_MODEL_FILES_PREFIX}\")"
   ]
  },
  {
   "cell_type": "code",
   "execution_count": 7,
   "id": "552a7f63-a18c-4d3e-bb6a-94f99b431291",
   "metadata": {
    "execution": {
     "iopub.execute_input": "2022-07-11T06:22:33.154516Z",
     "iopub.status.busy": "2022-07-11T06:22:33.154353Z",
     "iopub.status.idle": "2022-07-11T06:22:33.170603Z",
     "shell.execute_reply": "2022-07-11T06:22:33.170224Z"
    },
    "papermill": {
     "duration": 0.02494,
     "end_time": "2022-07-11T06:22:33.171961",
     "exception": false,
     "start_time": "2022-07-11T06:22:33.147021",
     "status": "completed"
    },
    "tags": []
   },
   "outputs": [
    {
     "data": {
      "text/plain": [
       "'S-MultiXcan condition number: 30'"
      ]
     },
     "metadata": {},
     "output_type": "display_data"
    }
   ],
   "source": [
    "display(f\"S-MultiXcan condition number: {SMULTIXCAN_CONDITION_NUMBER}\")"
   ]
  },
  {
   "cell_type": "code",
   "execution_count": 8,
   "id": "0230ebcb-2c32-4b95-9292-d9a52038e70d",
   "metadata": {
    "execution": {
     "iopub.execute_input": "2022-07-11T06:22:33.184316Z",
     "iopub.status.busy": "2022-07-11T06:22:33.184152Z",
     "iopub.status.idle": "2022-07-11T06:22:33.200215Z",
     "shell.execute_reply": "2022-07-11T06:22:33.199827Z"
    },
    "papermill": {
     "duration": 0.023673,
     "end_time": "2022-07-11T06:22:33.201631",
     "exception": false,
     "start_time": "2022-07-11T06:22:33.177958",
     "status": "completed"
    },
    "tags": []
   },
   "outputs": [],
   "source": [
    "REFERENCE_PANEL_DIR = conf.PHENOMEXCAN[\"LD_BLOCKS\"][f\"{REFERENCE_PANEL}_GENOTYPE_DIR\"]"
   ]
  },
  {
   "cell_type": "code",
   "execution_count": 9,
   "id": "98c4a159-601d-4a22-a1ab-35bd451c25f9",
   "metadata": {
    "execution": {
     "iopub.execute_input": "2022-07-11T06:22:33.222449Z",
     "iopub.status.busy": "2022-07-11T06:22:33.222291Z",
     "iopub.status.idle": "2022-07-11T06:22:33.237354Z",
     "shell.execute_reply": "2022-07-11T06:22:33.236944Z"
    },
    "papermill": {
     "duration": 0.027842,
     "end_time": "2022-07-11T06:22:33.238734",
     "exception": false,
     "start_time": "2022-07-11T06:22:33.210892",
     "status": "completed"
    },
    "tags": []
   },
   "outputs": [
    {
     "data": {
      "text/plain": [
       "'Using reference panel folder: /opt/data/data/phenomexcan/ld_blocks/reference_panel_1000G'"
      ]
     },
     "metadata": {},
     "output_type": "display_data"
    }
   ],
   "source": [
    "display(f\"Using reference panel folder: {str(REFERENCE_PANEL_DIR)}\")"
   ]
  },
  {
   "cell_type": "code",
   "execution_count": 10,
   "id": "396392dc-0340-4540-9b02-e182b833f909",
   "metadata": {
    "execution": {
     "iopub.execute_input": "2022-07-11T06:22:33.261981Z",
     "iopub.status.busy": "2022-07-11T06:22:33.261820Z",
     "iopub.status.idle": "2022-07-11T06:22:33.286988Z",
     "shell.execute_reply": "2022-07-11T06:22:33.286543Z"
    },
    "papermill": {
     "duration": 0.039721,
     "end_time": "2022-07-11T06:22:33.288284",
     "exception": false,
     "start_time": "2022-07-11T06:22:33.248563",
     "status": "completed"
    },
    "tags": []
   },
   "outputs": [],
   "source": [
    "OUTPUT_DIR_BASE = (\n",
    "    conf.PHENOMEXCAN[\"LD_BLOCKS\"][f\"GENE_CORRS_DIR\"]\n",
    "    / REFERENCE_PANEL.lower()\n",
    "    / EQTL_MODEL.lower()\n",
    ")\n",
    "OUTPUT_DIR_BASE.mkdir(parents=True, exist_ok=True)"
   ]
  },
  {
   "cell_type": "code",
   "execution_count": 11,
   "id": "8942c2d3-e53c-4d63-a0eb-b6fce0574d36",
   "metadata": {
    "execution": {
     "iopub.execute_input": "2022-07-11T06:22:33.300694Z",
     "iopub.status.busy": "2022-07-11T06:22:33.300535Z",
     "iopub.status.idle": "2022-07-11T06:22:33.317009Z",
     "shell.execute_reply": "2022-07-11T06:22:33.316645Z"
    },
    "papermill": {
     "duration": 0.024026,
     "end_time": "2022-07-11T06:22:33.318264",
     "exception": false,
     "start_time": "2022-07-11T06:22:33.294238",
     "status": "completed"
    },
    "tags": []
   },
   "outputs": [
    {
     "data": {
      "text/plain": [
       "'Using output dir base: /opt/data/data/phenomexcan/ld_blocks/gene_corrs/1000g/mashr'"
      ]
     },
     "metadata": {},
     "output_type": "display_data"
    }
   ],
   "source": [
    "display(f\"Using output dir base: {OUTPUT_DIR_BASE}\")"
   ]
  },
  {
   "cell_type": "code",
   "execution_count": 12,
   "id": "408aa590",
   "metadata": {
    "execution": {
     "iopub.execute_input": "2022-07-11T06:22:33.330733Z",
     "iopub.status.busy": "2022-07-11T06:22:33.330575Z",
     "iopub.status.idle": "2022-07-11T06:22:33.354070Z",
     "shell.execute_reply": "2022-07-11T06:22:33.353688Z"
    },
    "papermill": {
     "duration": 0.031105,
     "end_time": "2022-07-11T06:22:33.355402",
     "exception": false,
     "start_time": "2022-07-11T06:22:33.324297",
     "status": "completed"
    },
    "tags": []
   },
   "outputs": [],
   "source": [
    "assert (\n",
    "    chromosome is not None\n",
    "), \"You have to select one chromosome (format: number between 1 and 22)\""
   ]
  },
  {
   "cell_type": "code",
   "execution_count": 13,
   "id": "c1c7dd06-80ff-453c-bcb7-0899edce75da",
   "metadata": {
    "execution": {
     "iopub.execute_input": "2022-07-11T06:22:33.378566Z",
     "iopub.status.busy": "2022-07-11T06:22:33.378401Z",
     "iopub.status.idle": "2022-07-11T06:22:33.400165Z",
     "shell.execute_reply": "2022-07-11T06:22:33.399753Z"
    },
    "papermill": {
     "duration": 0.038315,
     "end_time": "2022-07-11T06:22:33.401655",
     "exception": false,
     "start_time": "2022-07-11T06:22:33.363340",
     "status": "completed"
    },
    "tags": []
   },
   "outputs": [],
   "source": [
    "chromosome = str(chromosome)"
   ]
  },
  {
   "cell_type": "code",
   "execution_count": 14,
   "id": "bc17b84c-9c26-47a5-a3ab-7046e72f3ef4",
   "metadata": {
    "execution": {
     "iopub.execute_input": "2022-07-11T06:22:33.414006Z",
     "iopub.status.busy": "2022-07-11T06:22:33.413849Z",
     "iopub.status.idle": "2022-07-11T06:22:33.432011Z",
     "shell.execute_reply": "2022-07-11T06:22:33.431605Z"
    },
    "papermill": {
     "duration": 0.025774,
     "end_time": "2022-07-11T06:22:33.433286",
     "exception": false,
     "start_time": "2022-07-11T06:22:33.407512",
     "status": "completed"
    },
    "tags": []
   },
   "outputs": [
    {
     "data": {
      "text/plain": [
       "'Working on chromosome 5'"
      ]
     },
     "metadata": {},
     "output_type": "display_data"
    }
   ],
   "source": [
    "display(f\"Working on chromosome {chromosome}\")"
   ]
  },
  {
   "cell_type": "markdown",
   "id": "d2ba085e",
   "metadata": {
    "papermill": {
     "duration": 0.013755,
     "end_time": "2022-07-11T06:22:33.453216",
     "exception": false,
     "start_time": "2022-07-11T06:22:33.439461",
     "status": "completed"
    },
    "tags": []
   },
   "source": [
    "# Load data"
   ]
  },
  {
   "cell_type": "markdown",
   "id": "7bed0ce0-e7c7-4300-9a61-5412450b1904",
   "metadata": {
    "papermill": {
     "duration": 0.011897,
     "end_time": "2022-07-11T06:22:33.477001",
     "exception": false,
     "start_time": "2022-07-11T06:22:33.465104",
     "status": "completed"
    },
    "tags": []
   },
   "source": [
    "## Prediction model tissues"
   ]
  },
  {
   "cell_type": "code",
   "execution_count": 15,
   "id": "0847c065-0d69-4830-a07f-1c75115d17f5",
   "metadata": {
    "execution": {
     "iopub.execute_input": "2022-07-11T06:22:33.491948Z",
     "iopub.status.busy": "2022-07-11T06:22:33.491788Z",
     "iopub.status.idle": "2022-07-11T06:22:33.515645Z",
     "shell.execute_reply": "2022-07-11T06:22:33.515256Z"
    },
    "papermill": {
     "duration": 0.033923,
     "end_time": "2022-07-11T06:22:33.516956",
     "exception": false,
     "start_time": "2022-07-11T06:22:33.483033",
     "status": "completed"
    },
    "tags": []
   },
   "outputs": [],
   "source": [
    "prediction_model_tissues = conf.PHENOMEXCAN[\"PREDICTION_MODELS\"][\n",
    "    f\"{EQTL_MODEL}_TISSUES\"\n",
    "].split(\" \")"
   ]
  },
  {
   "cell_type": "code",
   "execution_count": 16,
   "id": "aaef70d1-30c6-4c6f-9d6b-abc8e9a0081f",
   "metadata": {
    "execution": {
     "iopub.execute_input": "2022-07-11T06:22:33.538077Z",
     "iopub.status.busy": "2022-07-11T06:22:33.537919Z",
     "iopub.status.idle": "2022-07-11T06:22:33.563849Z",
     "shell.execute_reply": "2022-07-11T06:22:33.563470Z"
    },
    "papermill": {
     "duration": 0.041778,
     "end_time": "2022-07-11T06:22:33.565110",
     "exception": false,
     "start_time": "2022-07-11T06:22:33.523332",
     "status": "completed"
    },
    "tags": []
   },
   "outputs": [
    {
     "data": {
      "text/plain": [
       "49"
      ]
     },
     "execution_count": 16,
     "metadata": {},
     "output_type": "execute_result"
    }
   ],
   "source": [
    "len(prediction_model_tissues)"
   ]
  },
  {
   "cell_type": "code",
   "execution_count": 17,
   "id": "ff35a099-c52d-465d-b863-0ee70c26208c",
   "metadata": {
    "execution": {
     "iopub.execute_input": "2022-07-11T06:22:33.578104Z",
     "iopub.status.busy": "2022-07-11T06:22:33.577948Z",
     "iopub.status.idle": "2022-07-11T06:22:33.594272Z",
     "shell.execute_reply": "2022-07-11T06:22:33.593880Z"
    },
    "papermill": {
     "duration": 0.024293,
     "end_time": "2022-07-11T06:22:33.595670",
     "exception": false,
     "start_time": "2022-07-11T06:22:33.571377",
     "status": "completed"
    },
    "tags": []
   },
   "outputs": [
    {
     "data": {
      "text/plain": [
       "['Skin_Not_Sun_Exposed_Suprapubic',\n",
       " 'Cells_EBV-transformed_lymphocytes',\n",
       " 'Brain_Frontal_Cortex_BA9',\n",
       " 'Kidney_Cortex',\n",
       " 'Brain_Substantia_nigra']"
      ]
     },
     "execution_count": 17,
     "metadata": {},
     "output_type": "execute_result"
    }
   ],
   "source": [
    "prediction_model_tissues[:5]"
   ]
  },
  {
   "cell_type": "markdown",
   "id": "abcc4b3d",
   "metadata": {
    "papermill": {
     "duration": 0.013998,
     "end_time": "2022-07-11T06:22:33.623894",
     "exception": false,
     "start_time": "2022-07-11T06:22:33.609896",
     "status": "completed"
    },
    "tags": []
   },
   "source": [
    "## MultiPLIER Z"
   ]
  },
  {
   "cell_type": "code",
   "execution_count": 18,
   "id": "c48ef527",
   "metadata": {
    "execution": {
     "iopub.execute_input": "2022-07-11T06:22:33.636874Z",
     "iopub.status.busy": "2022-07-11T06:22:33.636718Z",
     "iopub.status.idle": "2022-07-11T06:22:33.702347Z",
     "shell.execute_reply": "2022-07-11T06:22:33.701963Z"
    },
    "papermill": {
     "duration": 0.073729,
     "end_time": "2022-07-11T06:22:33.703726",
     "exception": false,
     "start_time": "2022-07-11T06:22:33.629997",
     "status": "completed"
    },
    "tags": []
   },
   "outputs": [],
   "source": [
    "multiplier_z_genes = pd.read_pickle(\n",
    "    conf.MULTIPLIER[\"MODEL_Z_MATRIX_FILE\"]\n",
    ").index.tolist()"
   ]
  },
  {
   "cell_type": "code",
   "execution_count": 19,
   "id": "0a4ecbd9",
   "metadata": {
    "execution": {
     "iopub.execute_input": "2022-07-11T06:22:33.726452Z",
     "iopub.status.busy": "2022-07-11T06:22:33.726291Z",
     "iopub.status.idle": "2022-07-11T06:22:33.744666Z",
     "shell.execute_reply": "2022-07-11T06:22:33.744276Z"
    },
    "papermill": {
     "duration": 0.032047,
     "end_time": "2022-07-11T06:22:33.746048",
     "exception": false,
     "start_time": "2022-07-11T06:22:33.714001",
     "status": "completed"
    },
    "tags": []
   },
   "outputs": [
    {
     "data": {
      "text/plain": [
       "6750"
      ]
     },
     "execution_count": 19,
     "metadata": {},
     "output_type": "execute_result"
    }
   ],
   "source": [
    "len(multiplier_z_genes)"
   ]
  },
  {
   "cell_type": "code",
   "execution_count": 20,
   "id": "115e8864",
   "metadata": {
    "execution": {
     "iopub.execute_input": "2022-07-11T06:22:33.767298Z",
     "iopub.status.busy": "2022-07-11T06:22:33.767141Z",
     "iopub.status.idle": "2022-07-11T06:22:33.791114Z",
     "shell.execute_reply": "2022-07-11T06:22:33.790683Z"
    },
    "papermill": {
     "duration": 0.03208,
     "end_time": "2022-07-11T06:22:33.792461",
     "exception": false,
     "start_time": "2022-07-11T06:22:33.760381",
     "status": "completed"
    },
    "tags": []
   },
   "outputs": [
    {
     "data": {
      "text/plain": [
       "['GAS6',\n",
       " 'MMP14',\n",
       " 'DSP',\n",
       " 'MARCKSL1',\n",
       " 'SPARC',\n",
       " 'CTSD',\n",
       " 'EPAS1',\n",
       " 'PALLD',\n",
       " 'PHC2',\n",
       " 'LGALS3BP']"
      ]
     },
     "execution_count": 20,
     "metadata": {},
     "output_type": "execute_result"
    }
   ],
   "source": [
    "multiplier_z_genes[:10]"
   ]
  },
  {
   "cell_type": "markdown",
   "id": "7dcb8db7",
   "metadata": {
    "papermill": {
     "duration": 0.007022,
     "end_time": "2022-07-11T06:22:33.806610",
     "exception": false,
     "start_time": "2022-07-11T06:22:33.799588",
     "status": "completed"
    },
    "tags": []
   },
   "source": [
    "## Get gene objects"
   ]
  },
  {
   "cell_type": "code",
   "execution_count": 21,
   "id": "bb932812",
   "metadata": {
    "execution": {
     "iopub.execute_input": "2022-07-11T06:22:33.821743Z",
     "iopub.status.busy": "2022-07-11T06:22:33.821582Z",
     "iopub.status.idle": "2022-07-11T06:22:33.850821Z",
     "shell.execute_reply": "2022-07-11T06:22:33.850410Z"
    },
    "papermill": {
     "duration": 0.038366,
     "end_time": "2022-07-11T06:22:33.852198",
     "exception": false,
     "start_time": "2022-07-11T06:22:33.813832",
     "status": "completed"
    },
    "tags": []
   },
   "outputs": [],
   "source": [
    "multiplier_gene_obj = {\n",
    "    gene_name: Gene(name=gene_name)\n",
    "    for gene_name in multiplier_z_genes\n",
    "    if gene_name in Gene.GENE_NAME_TO_ID_MAP\n",
    "}"
   ]
  },
  {
   "cell_type": "code",
   "execution_count": 22,
   "id": "39533214",
   "metadata": {
    "execution": {
     "iopub.execute_input": "2022-07-11T06:22:33.877131Z",
     "iopub.status.busy": "2022-07-11T06:22:33.876969Z",
     "iopub.status.idle": "2022-07-11T06:22:33.903106Z",
     "shell.execute_reply": "2022-07-11T06:22:33.902599Z"
    },
    "papermill": {
     "duration": 0.041735,
     "end_time": "2022-07-11T06:22:33.904408",
     "exception": false,
     "start_time": "2022-07-11T06:22:33.862673",
     "status": "completed"
    },
    "tags": []
   },
   "outputs": [
    {
     "data": {
      "text/plain": [
       "6454"
      ]
     },
     "execution_count": 22,
     "metadata": {},
     "output_type": "execute_result"
    }
   ],
   "source": [
    "len(multiplier_gene_obj)"
   ]
  },
  {
   "cell_type": "code",
   "execution_count": 23,
   "id": "9a5d0b84",
   "metadata": {
    "execution": {
     "iopub.execute_input": "2022-07-11T06:22:33.926838Z",
     "iopub.status.busy": "2022-07-11T06:22:33.926675Z",
     "iopub.status.idle": "2022-07-11T06:22:33.943088Z",
     "shell.execute_reply": "2022-07-11T06:22:33.942686Z"
    },
    "papermill": {
     "duration": 0.029154,
     "end_time": "2022-07-11T06:22:33.944387",
     "exception": false,
     "start_time": "2022-07-11T06:22:33.915233",
     "status": "completed"
    },
    "tags": []
   },
   "outputs": [
    {
     "data": {
      "text/plain": [
       "'ENSG00000183087'"
      ]
     },
     "execution_count": 23,
     "metadata": {},
     "output_type": "execute_result"
    }
   ],
   "source": [
    "multiplier_gene_obj[\"GAS6\"].ensembl_id"
   ]
  },
  {
   "cell_type": "code",
   "execution_count": 24,
   "id": "e3ffabc7",
   "metadata": {
    "execution": {
     "iopub.execute_input": "2022-07-11T06:22:33.958488Z",
     "iopub.status.busy": "2022-07-11T06:22:33.958320Z",
     "iopub.status.idle": "2022-07-11T06:22:36.495828Z",
     "shell.execute_reply": "2022-07-11T06:22:36.492258Z"
    },
    "papermill": {
     "duration": 2.547449,
     "end_time": "2022-07-11T06:22:36.498646",
     "exception": false,
     "start_time": "2022-07-11T06:22:33.951197",
     "status": "completed"
    },
    "tags": []
   },
   "outputs": [],
   "source": [
    "_gene_obj = list(multiplier_gene_obj.values())\n",
    "\n",
    "genes_info = pd.DataFrame(\n",
    "    {\n",
    "        \"name\": [g.name for g in _gene_obj],\n",
    "        \"id\": [g.ensembl_id for g in _gene_obj],\n",
    "        \"chr\": [g.chromosome for g in _gene_obj],\n",
    "        \"band\": [g.band for g in _gene_obj],\n",
    "        \"start_position\": [g.get_attribute(\"start_position\") for g in _gene_obj],\n",
    "    }\n",
    ")"
   ]
  },
  {
   "cell_type": "code",
   "execution_count": 25,
   "id": "e23519b8",
   "metadata": {
    "execution": {
     "iopub.execute_input": "2022-07-11T06:22:36.512471Z",
     "iopub.status.busy": "2022-07-11T06:22:36.512310Z",
     "iopub.status.idle": "2022-07-11T06:22:36.528572Z",
     "shell.execute_reply": "2022-07-11T06:22:36.528207Z"
    },
    "papermill": {
     "duration": 0.024586,
     "end_time": "2022-07-11T06:22:36.529858",
     "exception": false,
     "start_time": "2022-07-11T06:22:36.505272",
     "status": "completed"
    },
    "tags": []
   },
   "outputs": [
    {
     "data": {
      "text/plain": [
       "(6454, 5)"
      ]
     },
     "execution_count": 25,
     "metadata": {},
     "output_type": "execute_result"
    }
   ],
   "source": [
    "genes_info.shape"
   ]
  },
  {
   "cell_type": "code",
   "execution_count": 26,
   "id": "0d71881c",
   "metadata": {
    "execution": {
     "iopub.execute_input": "2022-07-11T06:22:36.544083Z",
     "iopub.status.busy": "2022-07-11T06:22:36.543922Z",
     "iopub.status.idle": "2022-07-11T06:22:36.565115Z",
     "shell.execute_reply": "2022-07-11T06:22:36.564736Z"
    },
    "papermill": {
     "duration": 0.029644,
     "end_time": "2022-07-11T06:22:36.566409",
     "exception": false,
     "start_time": "2022-07-11T06:22:36.536765",
     "status": "completed"
    },
    "tags": []
   },
   "outputs": [
    {
     "data": {
      "text/html": [
       "<div>\n",
       "<style scoped>\n",
       "    .dataframe tbody tr th:only-of-type {\n",
       "        vertical-align: middle;\n",
       "    }\n",
       "\n",
       "    .dataframe tbody tr th {\n",
       "        vertical-align: top;\n",
       "    }\n",
       "\n",
       "    .dataframe thead th {\n",
       "        text-align: right;\n",
       "    }\n",
       "</style>\n",
       "<table border=\"1\" class=\"dataframe\">\n",
       "  <thead>\n",
       "    <tr style=\"text-align: right;\">\n",
       "      <th></th>\n",
       "      <th>name</th>\n",
       "      <th>id</th>\n",
       "      <th>chr</th>\n",
       "      <th>band</th>\n",
       "      <th>start_position</th>\n",
       "    </tr>\n",
       "  </thead>\n",
       "  <tbody>\n",
       "    <tr>\n",
       "      <th>0</th>\n",
       "      <td>GAS6</td>\n",
       "      <td>ENSG00000183087</td>\n",
       "      <td>13</td>\n",
       "      <td>13q34</td>\n",
       "      <td>113820549.0</td>\n",
       "    </tr>\n",
       "    <tr>\n",
       "      <th>1</th>\n",
       "      <td>MMP14</td>\n",
       "      <td>ENSG00000157227</td>\n",
       "      <td>14</td>\n",
       "      <td>14q11.2</td>\n",
       "      <td>22836560.0</td>\n",
       "    </tr>\n",
       "    <tr>\n",
       "      <th>2</th>\n",
       "      <td>DSP</td>\n",
       "      <td>ENSG00000096696</td>\n",
       "      <td>6</td>\n",
       "      <td>6p24.3</td>\n",
       "      <td>7541617.0</td>\n",
       "    </tr>\n",
       "    <tr>\n",
       "      <th>3</th>\n",
       "      <td>MARCKSL1</td>\n",
       "      <td>ENSG00000175130</td>\n",
       "      <td>1</td>\n",
       "      <td>1p35.1</td>\n",
       "      <td>32333839.0</td>\n",
       "    </tr>\n",
       "    <tr>\n",
       "      <th>4</th>\n",
       "      <td>SPARC</td>\n",
       "      <td>ENSG00000113140</td>\n",
       "      <td>5</td>\n",
       "      <td>5q33.1</td>\n",
       "      <td>151661096.0</td>\n",
       "    </tr>\n",
       "  </tbody>\n",
       "</table>\n",
       "</div>"
      ],
      "text/plain": [
       "       name               id chr     band  start_position\n",
       "0      GAS6  ENSG00000183087  13    13q34     113820549.0\n",
       "1     MMP14  ENSG00000157227  14  14q11.2      22836560.0\n",
       "2       DSP  ENSG00000096696   6   6p24.3       7541617.0\n",
       "3  MARCKSL1  ENSG00000175130   1   1p35.1      32333839.0\n",
       "4     SPARC  ENSG00000113140   5   5q33.1     151661096.0"
      ]
     },
     "execution_count": 26,
     "metadata": {},
     "output_type": "execute_result"
    }
   ],
   "source": [
    "genes_info.head()"
   ]
  },
  {
   "cell_type": "markdown",
   "id": "c8d1038f",
   "metadata": {
    "papermill": {
     "duration": 0.006668,
     "end_time": "2022-07-11T06:22:36.580245",
     "exception": false,
     "start_time": "2022-07-11T06:22:36.573577",
     "status": "completed"
    },
    "tags": []
   },
   "source": [
    "# Test"
   ]
  },
  {
   "cell_type": "code",
   "execution_count": 27,
   "id": "64993abf",
   "metadata": {
    "execution": {
     "iopub.execute_input": "2022-07-11T06:22:36.603511Z",
     "iopub.status.busy": "2022-07-11T06:22:36.603346Z",
     "iopub.status.idle": "2022-07-11T06:22:36.644449Z",
     "shell.execute_reply": "2022-07-11T06:22:36.644073Z"
    },
    "papermill": {
     "duration": 0.056844,
     "end_time": "2022-07-11T06:22:36.645724",
     "exception": false,
     "start_time": "2022-07-11T06:22:36.588880",
     "status": "completed"
    },
    "tags": []
   },
   "outputs": [
    {
     "data": {
      "text/html": [
       "<div>\n",
       "<style scoped>\n",
       "    .dataframe tbody tr th:only-of-type {\n",
       "        vertical-align: middle;\n",
       "    }\n",
       "\n",
       "    .dataframe tbody tr th {\n",
       "        vertical-align: top;\n",
       "    }\n",
       "\n",
       "    .dataframe thead th {\n",
       "        text-align: right;\n",
       "    }\n",
       "</style>\n",
       "<table border=\"1\" class=\"dataframe\">\n",
       "  <thead>\n",
       "    <tr style=\"text-align: right;\">\n",
       "      <th></th>\n",
       "      <th>name</th>\n",
       "      <th>id</th>\n",
       "      <th>chr</th>\n",
       "      <th>band</th>\n",
       "      <th>start_position</th>\n",
       "    </tr>\n",
       "  </thead>\n",
       "  <tbody>\n",
       "    <tr>\n",
       "      <th>4</th>\n",
       "      <td>SPARC</td>\n",
       "      <td>ENSG00000113140</td>\n",
       "      <td>5</td>\n",
       "      <td>5q33.1</td>\n",
       "      <td>151661096.0</td>\n",
       "    </tr>\n",
       "    <tr>\n",
       "      <th>18</th>\n",
       "      <td>DAB2</td>\n",
       "      <td>ENSG00000153071</td>\n",
       "      <td>5</td>\n",
       "      <td>5p13.1</td>\n",
       "      <td>39371675.0</td>\n",
       "    </tr>\n",
       "    <tr>\n",
       "      <th>22</th>\n",
       "      <td>GPX3</td>\n",
       "      <td>ENSG00000211445</td>\n",
       "      <td>5</td>\n",
       "      <td>5q33.1</td>\n",
       "      <td>151020438.0</td>\n",
       "    </tr>\n",
       "    <tr>\n",
       "      <th>24</th>\n",
       "      <td>DPYSL3</td>\n",
       "      <td>ENSG00000113657</td>\n",
       "      <td>5</td>\n",
       "      <td>5q32</td>\n",
       "      <td>147390808.0</td>\n",
       "    </tr>\n",
       "    <tr>\n",
       "      <th>27</th>\n",
       "      <td>TGFBI</td>\n",
       "      <td>ENSG00000120708</td>\n",
       "      <td>5</td>\n",
       "      <td>5q31.1</td>\n",
       "      <td>136028988.0</td>\n",
       "    </tr>\n",
       "    <tr>\n",
       "      <th>...</th>\n",
       "      <td>...</td>\n",
       "      <td>...</td>\n",
       "      <td>...</td>\n",
       "      <td>...</td>\n",
       "      <td>...</td>\n",
       "    </tr>\n",
       "    <tr>\n",
       "      <th>6273</th>\n",
       "      <td>RAD50</td>\n",
       "      <td>ENSG00000113522</td>\n",
       "      <td>5</td>\n",
       "      <td>5q31.1</td>\n",
       "      <td>132556019.0</td>\n",
       "    </tr>\n",
       "    <tr>\n",
       "      <th>6322</th>\n",
       "      <td>FAM13B</td>\n",
       "      <td>ENSG00000031003</td>\n",
       "      <td>5</td>\n",
       "      <td>5q31.2</td>\n",
       "      <td>137937960.0</td>\n",
       "    </tr>\n",
       "    <tr>\n",
       "      <th>6332</th>\n",
       "      <td>MAN2A1</td>\n",
       "      <td>ENSG00000112893</td>\n",
       "      <td>5</td>\n",
       "      <td>5q21.3</td>\n",
       "      <td>109689366.0</td>\n",
       "    </tr>\n",
       "    <tr>\n",
       "      <th>6358</th>\n",
       "      <td>MRPS27</td>\n",
       "      <td>ENSG00000113048</td>\n",
       "      <td>5</td>\n",
       "      <td>5q13.2</td>\n",
       "      <td>72219409.0</td>\n",
       "    </tr>\n",
       "    <tr>\n",
       "      <th>6361</th>\n",
       "      <td>PDE4D</td>\n",
       "      <td>ENSG00000113448</td>\n",
       "      <td>5</td>\n",
       "      <td>5q12.1</td>\n",
       "      <td>58969038.0</td>\n",
       "    </tr>\n",
       "  </tbody>\n",
       "</table>\n",
       "<p>306 rows × 5 columns</p>\n",
       "</div>"
      ],
      "text/plain": [
       "        name               id chr    band  start_position\n",
       "4      SPARC  ENSG00000113140   5  5q33.1     151661096.0\n",
       "18      DAB2  ENSG00000153071   5  5p13.1      39371675.0\n",
       "22      GPX3  ENSG00000211445   5  5q33.1     151020438.0\n",
       "24    DPYSL3  ENSG00000113657   5    5q32     147390808.0\n",
       "27     TGFBI  ENSG00000120708   5  5q31.1     136028988.0\n",
       "...      ...              ...  ..     ...             ...\n",
       "6273   RAD50  ENSG00000113522   5  5q31.1     132556019.0\n",
       "6322  FAM13B  ENSG00000031003   5  5q31.2     137937960.0\n",
       "6332  MAN2A1  ENSG00000112893   5  5q21.3     109689366.0\n",
       "6358  MRPS27  ENSG00000113048   5  5q13.2      72219409.0\n",
       "6361   PDE4D  ENSG00000113448   5  5q12.1      58969038.0\n",
       "\n",
       "[306 rows x 5 columns]"
      ]
     },
     "metadata": {},
     "output_type": "display_data"
    }
   ],
   "source": [
    "chromosome_genes_info = genes_info[genes_info[\"chr\"] == chromosome]\n",
    "display(chromosome_genes_info)"
   ]
  },
  {
   "cell_type": "code",
   "execution_count": 28,
   "id": "d2e42726-7de6-46eb-acfc-6323eaa8fae6",
   "metadata": {
    "execution": {
     "iopub.execute_input": "2022-07-11T06:22:36.671610Z",
     "iopub.status.busy": "2022-07-11T06:22:36.671441Z",
     "iopub.status.idle": "2022-07-11T06:22:36.688358Z",
     "shell.execute_reply": "2022-07-11T06:22:36.687982Z"
    },
    "papermill": {
     "duration": 0.031912,
     "end_time": "2022-07-11T06:22:36.689650",
     "exception": false,
     "start_time": "2022-07-11T06:22:36.657738",
     "status": "completed"
    },
    "tags": []
   },
   "outputs": [
    {
     "data": {
      "text/plain": [
       "5"
      ]
     },
     "metadata": {},
     "output_type": "display_data"
    }
   ],
   "source": [
    "seed(0)\n",
    "_gene_list_ids = sample(chromosome_genes_info[\"id\"].tolist(), 5)\n",
    "selected_chromosome_genes_obj = [Gene(ensembl_id=g_id) for g_id in _gene_list_ids]\n",
    "display(len(selected_chromosome_genes_obj))"
   ]
  },
  {
   "cell_type": "code",
   "execution_count": 29,
   "id": "1b355359",
   "metadata": {
    "execution": {
     "iopub.execute_input": "2022-07-11T06:22:36.710355Z",
     "iopub.status.busy": "2022-07-11T06:22:36.710190Z",
     "iopub.status.idle": "2022-07-11T06:22:38.586402Z",
     "shell.execute_reply": "2022-07-11T06:22:38.585999Z"
    },
    "papermill": {
     "duration": 1.88608,
     "end_time": "2022-07-11T06:22:38.587693",
     "exception": false,
     "start_time": "2022-07-11T06:22:36.701613",
     "status": "completed"
    },
    "tags": []
   },
   "outputs": [
    {
     "name": "stdout",
     "output_type": "stream",
     "text": [
      "SRA1 / SDHA: 0.0\n",
      "SRA1 / IL4: 0.0\n",
      "SRA1 / ZNF354C: 0.0\n",
      "SRA1 / VDAC1: 0.0\n",
      "SDHA / IL4: 0.0\n",
      "SDHA / ZNF354C: 0.0\n",
      "SDHA / VDAC1: 0.0\n",
      "IL4 / ZNF354C: 0.0\n",
      "IL4 / VDAC1: 0.007417371089975152\n",
      "ZNF354C / VDAC1: 0.0\n"
     ]
    }
   ],
   "source": [
    "for gene_idx1 in range(0, len(selected_chromosome_genes_obj) - 1):\n",
    "    gene_obj1 = selected_chromosome_genes_obj[gene_idx1]\n",
    "\n",
    "    for gene_idx2 in range(gene_idx1 + 1, len(selected_chromosome_genes_obj)):\n",
    "        gene_obj2 = selected_chromosome_genes_obj[gene_idx2]\n",
    "\n",
    "        c = gene_obj1.get_ssm_correlation(\n",
    "            gene_obj2,\n",
    "        )\n",
    "\n",
    "        print(f\"{gene_obj1.name} / {gene_obj2.name}: {c}\")"
   ]
  },
  {
   "cell_type": "markdown",
   "id": "d3843e06",
   "metadata": {
    "papermill": {
     "duration": 0.007206,
     "end_time": "2022-07-11T06:22:38.602399",
     "exception": false,
     "start_time": "2022-07-11T06:22:38.595193",
     "status": "completed"
    },
    "tags": []
   },
   "source": [
    "# Compute correlation per chromosome"
   ]
  },
  {
   "cell_type": "code",
   "execution_count": 30,
   "id": "cb859c15-d1f3-4006-a74c-2b83c0db9611",
   "metadata": {
    "execution": {
     "iopub.execute_input": "2022-07-11T06:22:38.632133Z",
     "iopub.status.busy": "2022-07-11T06:22:38.631965Z",
     "iopub.status.idle": "2022-07-11T06:22:38.660557Z",
     "shell.execute_reply": "2022-07-11T06:22:38.660163Z"
    },
    "papermill": {
     "duration": 0.044993,
     "end_time": "2022-07-11T06:22:38.661910",
     "exception": false,
     "start_time": "2022-07-11T06:22:38.616917",
     "status": "completed"
    },
    "tags": []
   },
   "outputs": [
    {
     "data": {
      "text/plain": [
       "PosixPath('/opt/data/data/phenomexcan/ld_blocks/gene_corrs/1000g/mashr/by_chr/gene_corrs-chr5.pkl')"
      ]
     },
     "metadata": {},
     "output_type": "display_data"
    }
   ],
   "source": [
    "output_dir = OUTPUT_DIR_BASE / \"by_chr\"\n",
    "output_dir.mkdir(exist_ok=True, parents=True)\n",
    "output_file = output_dir / f\"gene_corrs-chr{chromosome}.pkl\"\n",
    "display(output_file)"
   ]
  },
  {
   "cell_type": "code",
   "execution_count": 31,
   "id": "aa674fe4-6794-4eed-98fa-32b39d1d4ace",
   "metadata": {
    "execution": {
     "iopub.execute_input": "2022-07-11T06:22:38.688502Z",
     "iopub.status.busy": "2022-07-11T06:22:38.688341Z",
     "iopub.status.idle": "2022-07-11T06:22:38.703788Z",
     "shell.execute_reply": "2022-07-11T06:22:38.703326Z"
    },
    "papermill": {
     "duration": 0.030856,
     "end_time": "2022-07-11T06:22:38.705252",
     "exception": false,
     "start_time": "2022-07-11T06:22:38.674396",
     "status": "completed"
    },
    "tags": []
   },
   "outputs": [],
   "source": [
    "warnings.filterwarnings(\"error\")"
   ]
  },
  {
   "cell_type": "code",
   "execution_count": 32,
   "id": "cdbb90a1",
   "metadata": {
    "execution": {
     "iopub.execute_input": "2022-07-11T06:22:38.736876Z",
     "iopub.status.busy": "2022-07-11T06:22:38.736717Z",
     "iopub.status.idle": "2022-07-11T06:33:05.469533Z",
     "shell.execute_reply": "2022-07-11T06:33:05.469125Z"
    },
    "papermill": {
     "duration": 626.750141,
     "end_time": "2022-07-11T06:33:05.470918",
     "exception": false,
     "start_time": "2022-07-11T06:22:38.720777",
     "status": "completed"
    },
    "tags": []
   },
   "outputs": [
    {
     "name": "stdout",
     "output_type": "stream",
     "text": [
      "Number of genes in chromosome: 306\n",
      "Number of gene combinations: 46665\n"
     ]
    },
    {
     "name": "stderr",
     "output_type": "stream",
     "text": [
      "ENSG00000113303 / ENSG00000165810: 100%|██████████████████████| 46665/46665 [10:26<00:00, 74.48it/s]"
     ]
    },
    {
     "name": "stdout",
     "output_type": "stream",
     "text": [
      "Min/max values: 0.0 / 0.9745247555727921\n"
     ]
    },
    {
     "name": "stderr",
     "output_type": "stream",
     "text": [
      "\n"
     ]
    },
    {
     "data": {
      "text/plain": [
       "PosixPath('/opt/data/data/phenomexcan/ld_blocks/gene_corrs/1000g/mashr/by_chr/gene_corrs-chr5.pkl')"
      ]
     },
     "metadata": {},
     "output_type": "display_data"
    }
   ],
   "source": [
    "# standard checks\n",
    "all_chrs = genes_info[\"chr\"].dropna().unique()\n",
    "assert all_chrs.shape[0] == 22\n",
    "\n",
    "# select chromosome given by the user\n",
    "assert chromosome in all_chrs\n",
    "\n",
    "# run only on the chromosome specified\n",
    "all_chrs = [chromosome]\n",
    "genes_chr = genes_info[genes_info[\"chr\"] == chromosome]\n",
    "\n",
    "# For testing purposes\n",
    "# genes_chr = genes_chr.sample(n=20)\n",
    "\n",
    "print(f\"Number of genes in chromosome: {genes_chr.shape[0]}\", flush=True)\n",
    "\n",
    "# sort genes by starting position to make visualizations better later\n",
    "genes_chr = genes_chr.sort_values(\"start_position\")\n",
    "\n",
    "gene_chr_objs = [Gene(ensembl_id=gene_id) for gene_id in genes_chr[\"id\"]]\n",
    "gene_chr_ids = [g.ensembl_id for g in gene_chr_objs]\n",
    "\n",
    "n = len(gene_chr_objs)\n",
    "n_comb = int(n * (n - 1) / 2.0)\n",
    "print(f\"Number of gene combinations: {n_comb}\", flush=True)\n",
    "\n",
    "gene_corrs = []\n",
    "\n",
    "pbar = tqdm(ncols=100, total=n_comb)\n",
    "i = 0\n",
    "for gene_idx1 in range(0, len(gene_chr_objs) - 1):\n",
    "    gene_obj1 = gene_chr_objs[gene_idx1]\n",
    "\n",
    "    for gene_idx2 in range(gene_idx1 + 1, len(gene_chr_objs)):\n",
    "        gene_obj2 = gene_chr_objs[gene_idx2]\n",
    "\n",
    "        pbar.set_description(f\"{gene_obj1.ensembl_id} / {gene_obj2.ensembl_id}\")\n",
    "\n",
    "        try:\n",
    "            # FIXME: compute the correlation of the sum of squares of the model using all\n",
    "            # the available tissues; this could be problematic because for some results\n",
    "            # (computed on a specific phenotype/GWAS) we might not have all the tissues\n",
    "            # available, which can certainly bias the correlation estimation.\n",
    "            # Since this depends on the GWAS on a specific phenotype, we should ideally have\n",
    "            # one correlation matrix per GWAS. I should look at how we can improve this.\n",
    "            r = gene_obj1.get_ssm_correlation(\n",
    "                other_gene=gene_obj2,\n",
    "                condition_number=SMULTIXCAN_CONDITION_NUMBER,\n",
    "                reference_panel=REFERENCE_PANEL,\n",
    "                model_type=EQTL_MODEL,\n",
    "            )\n",
    "\n",
    "            if r is None:\n",
    "                # if r is None, it's very likely because:\n",
    "                #  * one of the genes has no prediction models\n",
    "                #  * all the SNPs predictors for the gene are not present in the reference\n",
    "                #    panel\n",
    "\n",
    "                r = 0.0\n",
    "\n",
    "            gene_corrs.append(r)\n",
    "        except Warning:\n",
    "            print(\n",
    "                f\"RuntimeWarning for genes {gene_obj1.ensembl_id} and {gene_obj2.ensembl_id}\",\n",
    "                flush=True,\n",
    "            )\n",
    "            import traceback\n",
    "\n",
    "            print(traceback.format_exc(), flush=True)\n",
    "        except Exception as e:\n",
    "            print(\n",
    "                f\"Exception for genes {gene_obj1.ensembl_id} and {gene_obj2.ensembl_id}\",\n",
    "                flush=True,\n",
    "            )\n",
    "            import traceback\n",
    "\n",
    "            print(traceback.format_exc(), flush=True)\n",
    "            gene_corrs.append(np.nan)\n",
    "\n",
    "        pbar.update(1)\n",
    "\n",
    "pbar.close()\n",
    "\n",
    "# testing\n",
    "gene_corrs_flat = pd.Series(gene_corrs)\n",
    "print(f\"Min/max values: {gene_corrs_flat.min()} / {gene_corrs_flat.max()}\")\n",
    "assert gene_corrs_flat.min() >= -1.001\n",
    "assert gene_corrs_flat.max() <= 1.001\n",
    "\n",
    "# save\n",
    "# FIXME: consider saving only the condenced matrix here. See here for\n",
    "# more details: https://github.com/greenelab/phenoplier/pull/38#discussion_r634600813\n",
    "gene_corrs_data = squareform(np.array(gene_corrs, dtype=np.float64))\n",
    "np.fill_diagonal(gene_corrs_data, 1.0)\n",
    "\n",
    "gene_corrs_df = pd.DataFrame(\n",
    "    data=gene_corrs_data,\n",
    "    index=gene_chr_ids,\n",
    "    columns=gene_chr_ids,\n",
    ")\n",
    "\n",
    "output_dir.mkdir(exist_ok=True, parents=True)\n",
    "display(output_file)\n",
    "\n",
    "gene_corrs_df.to_pickle(output_file)"
   ]
  },
  {
   "cell_type": "markdown",
   "id": "faa67b51-5373-470f-aa72-2ded53fa6dfe",
   "metadata": {
    "papermill": {
     "duration": 1.759845,
     "end_time": "2022-07-11T06:33:09.417723",
     "exception": false,
     "start_time": "2022-07-11T06:33:07.657878",
     "status": "completed"
    },
    "tags": []
   },
   "source": [
    "# Testing"
   ]
  },
  {
   "cell_type": "code",
   "execution_count": 33,
   "id": "14f7d046-4b55-4896-a56b-990127bcc388",
   "metadata": {
    "execution": {
     "iopub.execute_input": "2022-07-11T06:33:13.468275Z",
     "iopub.status.busy": "2022-07-11T06:33:13.468076Z",
     "iopub.status.idle": "2022-07-11T06:33:13.485314Z",
     "shell.execute_reply": "2022-07-11T06:33:13.484606Z"
    },
    "papermill": {
     "duration": 2.096871,
     "end_time": "2022-07-11T06:33:13.489259",
     "exception": false,
     "start_time": "2022-07-11T06:33:11.392388",
     "status": "completed"
    },
    "tags": []
   },
   "outputs": [
    {
     "data": {
      "text/plain": [
       "(306, 306)"
      ]
     },
     "execution_count": 33,
     "metadata": {},
     "output_type": "execute_result"
    }
   ],
   "source": [
    "gene_corrs_df.shape"
   ]
  },
  {
   "cell_type": "code",
   "execution_count": 34,
   "id": "c7d15414-3297-4537-a7c6-7588c0baeb75",
   "metadata": {
    "execution": {
     "iopub.execute_input": "2022-07-11T06:33:17.600850Z",
     "iopub.status.busy": "2022-07-11T06:33:17.600169Z",
     "iopub.status.idle": "2022-07-11T06:33:17.629260Z",
     "shell.execute_reply": "2022-07-11T06:33:17.628859Z"
    },
    "papermill": {
     "duration": 2.128203,
     "end_time": "2022-07-11T06:33:17.630470",
     "exception": false,
     "start_time": "2022-07-11T06:33:15.502267",
     "status": "completed"
    },
    "tags": []
   },
   "outputs": [
    {
     "data": {
      "text/html": [
       "<div>\n",
       "<style scoped>\n",
       "    .dataframe tbody tr th:only-of-type {\n",
       "        vertical-align: middle;\n",
       "    }\n",
       "\n",
       "    .dataframe tbody tr th {\n",
       "        vertical-align: top;\n",
       "    }\n",
       "\n",
       "    .dataframe thead th {\n",
       "        text-align: right;\n",
       "    }\n",
       "</style>\n",
       "<table border=\"1\" class=\"dataframe\">\n",
       "  <thead>\n",
       "    <tr style=\"text-align: right;\">\n",
       "      <th></th>\n",
       "      <th>ENSG00000073578</th>\n",
       "      <th>ENSG00000180104</th>\n",
       "      <th>ENSG00000066230</th>\n",
       "      <th>ENSG00000112877</th>\n",
       "      <th>ENSG00000113504</th>\n",
       "      <th>ENSG00000174358</th>\n",
       "      <th>ENSG00000164362</th>\n",
       "      <th>ENSG00000049656</th>\n",
       "      <th>ENSG00000153395</th>\n",
       "      <th>ENSG00000171421</th>\n",
       "      <th>...</th>\n",
       "      <th>ENSG00000161021</th>\n",
       "      <th>ENSG00000161013</th>\n",
       "      <th>ENSG00000161011</th>\n",
       "      <th>ENSG00000050748</th>\n",
       "      <th>ENSG00000131459</th>\n",
       "      <th>ENSG00000113300</th>\n",
       "      <th>ENSG00000037280</th>\n",
       "      <th>ENSG00000131446</th>\n",
       "      <th>ENSG00000113303</th>\n",
       "      <th>ENSG00000165810</th>\n",
       "    </tr>\n",
       "  </thead>\n",
       "  <tbody>\n",
       "    <tr>\n",
       "      <th>ENSG00000073578</th>\n",
       "      <td>1.000000</td>\n",
       "      <td>0.225270</td>\n",
       "      <td>0.164263</td>\n",
       "      <td>0.057726</td>\n",
       "      <td>0.017172</td>\n",
       "      <td>0.013519</td>\n",
       "      <td>0.011427</td>\n",
       "      <td>0.009907</td>\n",
       "      <td>0.017186</td>\n",
       "      <td>0.012019</td>\n",
       "      <td>...</td>\n",
       "      <td>0.0</td>\n",
       "      <td>0.0</td>\n",
       "      <td>0.0</td>\n",
       "      <td>0.0</td>\n",
       "      <td>0.0</td>\n",
       "      <td>0.0</td>\n",
       "      <td>0.0</td>\n",
       "      <td>0.0</td>\n",
       "      <td>0.0</td>\n",
       "      <td>0.0</td>\n",
       "    </tr>\n",
       "    <tr>\n",
       "      <th>ENSG00000180104</th>\n",
       "      <td>0.225270</td>\n",
       "      <td>1.000000</td>\n",
       "      <td>0.393816</td>\n",
       "      <td>0.091420</td>\n",
       "      <td>0.015587</td>\n",
       "      <td>0.007592</td>\n",
       "      <td>0.007368</td>\n",
       "      <td>0.010794</td>\n",
       "      <td>0.008879</td>\n",
       "      <td>0.007667</td>\n",
       "      <td>...</td>\n",
       "      <td>0.0</td>\n",
       "      <td>0.0</td>\n",
       "      <td>0.0</td>\n",
       "      <td>0.0</td>\n",
       "      <td>0.0</td>\n",
       "      <td>0.0</td>\n",
       "      <td>0.0</td>\n",
       "      <td>0.0</td>\n",
       "      <td>0.0</td>\n",
       "      <td>0.0</td>\n",
       "    </tr>\n",
       "    <tr>\n",
       "      <th>ENSG00000066230</th>\n",
       "      <td>0.164263</td>\n",
       "      <td>0.393816</td>\n",
       "      <td>1.000000</td>\n",
       "      <td>0.223077</td>\n",
       "      <td>0.020293</td>\n",
       "      <td>0.008163</td>\n",
       "      <td>0.010617</td>\n",
       "      <td>0.005244</td>\n",
       "      <td>0.012261</td>\n",
       "      <td>0.007169</td>\n",
       "      <td>...</td>\n",
       "      <td>0.0</td>\n",
       "      <td>0.0</td>\n",
       "      <td>0.0</td>\n",
       "      <td>0.0</td>\n",
       "      <td>0.0</td>\n",
       "      <td>0.0</td>\n",
       "      <td>0.0</td>\n",
       "      <td>0.0</td>\n",
       "      <td>0.0</td>\n",
       "      <td>0.0</td>\n",
       "    </tr>\n",
       "    <tr>\n",
       "      <th>ENSG00000112877</th>\n",
       "      <td>0.057726</td>\n",
       "      <td>0.091420</td>\n",
       "      <td>0.223077</td>\n",
       "      <td>1.000000</td>\n",
       "      <td>0.023220</td>\n",
       "      <td>0.013198</td>\n",
       "      <td>0.007208</td>\n",
       "      <td>0.014335</td>\n",
       "      <td>0.014422</td>\n",
       "      <td>0.008983</td>\n",
       "      <td>...</td>\n",
       "      <td>0.0</td>\n",
       "      <td>0.0</td>\n",
       "      <td>0.0</td>\n",
       "      <td>0.0</td>\n",
       "      <td>0.0</td>\n",
       "      <td>0.0</td>\n",
       "      <td>0.0</td>\n",
       "      <td>0.0</td>\n",
       "      <td>0.0</td>\n",
       "      <td>0.0</td>\n",
       "    </tr>\n",
       "    <tr>\n",
       "      <th>ENSG00000113504</th>\n",
       "      <td>0.017172</td>\n",
       "      <td>0.015587</td>\n",
       "      <td>0.020293</td>\n",
       "      <td>0.023220</td>\n",
       "      <td>1.000000</td>\n",
       "      <td>0.042886</td>\n",
       "      <td>0.017868</td>\n",
       "      <td>0.016643</td>\n",
       "      <td>0.130195</td>\n",
       "      <td>0.014295</td>\n",
       "      <td>...</td>\n",
       "      <td>0.0</td>\n",
       "      <td>0.0</td>\n",
       "      <td>0.0</td>\n",
       "      <td>0.0</td>\n",
       "      <td>0.0</td>\n",
       "      <td>0.0</td>\n",
       "      <td>0.0</td>\n",
       "      <td>0.0</td>\n",
       "      <td>0.0</td>\n",
       "      <td>0.0</td>\n",
       "    </tr>\n",
       "  </tbody>\n",
       "</table>\n",
       "<p>5 rows × 306 columns</p>\n",
       "</div>"
      ],
      "text/plain": [
       "                 ENSG00000073578  ENSG00000180104  ENSG00000066230  \\\n",
       "ENSG00000073578         1.000000         0.225270         0.164263   \n",
       "ENSG00000180104         0.225270         1.000000         0.393816   \n",
       "ENSG00000066230         0.164263         0.393816         1.000000   \n",
       "ENSG00000112877         0.057726         0.091420         0.223077   \n",
       "ENSG00000113504         0.017172         0.015587         0.020293   \n",
       "\n",
       "                 ENSG00000112877  ENSG00000113504  ENSG00000174358  \\\n",
       "ENSG00000073578         0.057726         0.017172         0.013519   \n",
       "ENSG00000180104         0.091420         0.015587         0.007592   \n",
       "ENSG00000066230         0.223077         0.020293         0.008163   \n",
       "ENSG00000112877         1.000000         0.023220         0.013198   \n",
       "ENSG00000113504         0.023220         1.000000         0.042886   \n",
       "\n",
       "                 ENSG00000164362  ENSG00000049656  ENSG00000153395  \\\n",
       "ENSG00000073578         0.011427         0.009907         0.017186   \n",
       "ENSG00000180104         0.007368         0.010794         0.008879   \n",
       "ENSG00000066230         0.010617         0.005244         0.012261   \n",
       "ENSG00000112877         0.007208         0.014335         0.014422   \n",
       "ENSG00000113504         0.017868         0.016643         0.130195   \n",
       "\n",
       "                 ENSG00000171421  ...  ENSG00000161021  ENSG00000161013  \\\n",
       "ENSG00000073578         0.012019  ...              0.0              0.0   \n",
       "ENSG00000180104         0.007667  ...              0.0              0.0   \n",
       "ENSG00000066230         0.007169  ...              0.0              0.0   \n",
       "ENSG00000112877         0.008983  ...              0.0              0.0   \n",
       "ENSG00000113504         0.014295  ...              0.0              0.0   \n",
       "\n",
       "                 ENSG00000161011  ENSG00000050748  ENSG00000131459  \\\n",
       "ENSG00000073578              0.0              0.0              0.0   \n",
       "ENSG00000180104              0.0              0.0              0.0   \n",
       "ENSG00000066230              0.0              0.0              0.0   \n",
       "ENSG00000112877              0.0              0.0              0.0   \n",
       "ENSG00000113504              0.0              0.0              0.0   \n",
       "\n",
       "                 ENSG00000113300  ENSG00000037280  ENSG00000131446  \\\n",
       "ENSG00000073578              0.0              0.0              0.0   \n",
       "ENSG00000180104              0.0              0.0              0.0   \n",
       "ENSG00000066230              0.0              0.0              0.0   \n",
       "ENSG00000112877              0.0              0.0              0.0   \n",
       "ENSG00000113504              0.0              0.0              0.0   \n",
       "\n",
       "                 ENSG00000113303  ENSG00000165810  \n",
       "ENSG00000073578              0.0              0.0  \n",
       "ENSG00000180104              0.0              0.0  \n",
       "ENSG00000066230              0.0              0.0  \n",
       "ENSG00000112877              0.0              0.0  \n",
       "ENSG00000113504              0.0              0.0  \n",
       "\n",
       "[5 rows x 306 columns]"
      ]
     },
     "execution_count": 34,
     "metadata": {},
     "output_type": "execute_result"
    }
   ],
   "source": [
    "gene_corrs_df.head()"
   ]
  },
  {
   "cell_type": "code",
   "execution_count": 35,
   "id": "286686af-1b7b-4440-8453-6bdcbd8de19c",
   "metadata": {
    "execution": {
     "iopub.execute_input": "2022-07-11T06:33:21.452735Z",
     "iopub.status.busy": "2022-07-11T06:33:21.452275Z",
     "iopub.status.idle": "2022-07-11T06:33:21.469404Z",
     "shell.execute_reply": "2022-07-11T06:33:21.469002Z"
    },
    "papermill": {
     "duration": 1.86759,
     "end_time": "2022-07-11T06:33:21.470850",
     "exception": false,
     "start_time": "2022-07-11T06:33:19.603260",
     "status": "completed"
    },
    "tags": []
   },
   "outputs": [],
   "source": [
    "assert not gene_corrs_df.isna().any().any()"
   ]
  },
  {
   "cell_type": "code",
   "execution_count": 36,
   "id": "00583efc-7068-4270-ad1e-4a418e91db96",
   "metadata": {
    "execution": {
     "iopub.execute_input": "2022-07-11T06:33:25.247485Z",
     "iopub.status.busy": "2022-07-11T06:33:25.247322Z",
     "iopub.status.idle": "2022-07-11T06:33:25.281643Z",
     "shell.execute_reply": "2022-07-11T06:33:25.281231Z"
    },
    "papermill": {
     "duration": 1.843669,
     "end_time": "2022-07-11T06:33:25.282793",
     "exception": false,
     "start_time": "2022-07-11T06:33:23.439124",
     "status": "completed"
    },
    "tags": []
   },
   "outputs": [
    {
     "data": {
      "text/plain": [
       "0.0"
      ]
     },
     "metadata": {},
     "output_type": "display_data"
    }
   ],
   "source": [
    "_min_val = gene_corrs_df.min().min()\n",
    "display(_min_val)\n",
    "assert _min_val >= 0.0"
   ]
  },
  {
   "cell_type": "code",
   "execution_count": 37,
   "id": "d04fb2cf-1050-475b-b855-f5f7cc04092b",
   "metadata": {
    "execution": {
     "iopub.execute_input": "2022-07-11T06:33:29.713398Z",
     "iopub.status.busy": "2022-07-11T06:33:29.713235Z",
     "iopub.status.idle": "2022-07-11T06:33:29.745651Z",
     "shell.execute_reply": "2022-07-11T06:33:29.745230Z"
    },
    "papermill": {
     "duration": 2.370019,
     "end_time": "2022-07-11T06:33:29.746811",
     "exception": false,
     "start_time": "2022-07-11T06:33:27.376792",
     "status": "completed"
    },
    "tags": []
   },
   "outputs": [
    {
     "data": {
      "text/plain": [
       "1.0"
      ]
     },
     "metadata": {},
     "output_type": "display_data"
    }
   ],
   "source": [
    "_max_val = gene_corrs_df.max().max()  # this captures the diagonal\n",
    "display(_max_val)\n",
    "assert _max_val <= 1.0"
   ]
  },
  {
   "cell_type": "code",
   "execution_count": 38,
   "id": "96d02c44-1fba-47be-8a93-8f2608420b9c",
   "metadata": {
    "execution": {
     "iopub.execute_input": "2022-07-11T06:33:33.318638Z",
     "iopub.status.busy": "2022-07-11T06:33:33.318276Z",
     "iopub.status.idle": "2022-07-11T06:33:33.334280Z",
     "shell.execute_reply": "2022-07-11T06:33:33.333764Z"
    },
    "papermill": {
     "duration": 1.779791,
     "end_time": "2022-07-11T06:33:33.335601",
     "exception": false,
     "start_time": "2022-07-11T06:33:31.555810",
     "status": "completed"
    },
    "tags": []
   },
   "outputs": [],
   "source": [
    "# check upper triangular values\n",
    "assert len(gene_corrs) == int(genes_chr.shape[0] * (genes_chr.shape[0] - 1) / 2)"
   ]
  },
  {
   "cell_type": "code",
   "execution_count": 39,
   "id": "aaa51627-f4e3-4744-a41f-7d25adcc0a78",
   "metadata": {
    "execution": {
     "iopub.execute_input": "2022-07-11T06:33:37.284351Z",
     "iopub.status.busy": "2022-07-11T06:33:37.283958Z",
     "iopub.status.idle": "2022-07-11T06:33:37.303382Z",
     "shell.execute_reply": "2022-07-11T06:33:37.302981Z"
    },
    "papermill": {
     "duration": 2.100138,
     "end_time": "2022-07-11T06:33:37.304687",
     "exception": false,
     "start_time": "2022-07-11T06:33:35.204549",
     "status": "completed"
    },
    "tags": []
   },
   "outputs": [],
   "source": [
    "gene_corrs = pd.Series(gene_corrs)"
   ]
  },
  {
   "cell_type": "code",
   "execution_count": 40,
   "id": "fe283586-c348-40e0-8841-f6d97bfb021c",
   "metadata": {
    "execution": {
     "iopub.execute_input": "2022-07-11T06:33:41.338926Z",
     "iopub.status.busy": "2022-07-11T06:33:41.338760Z",
     "iopub.status.idle": "2022-07-11T06:33:41.360109Z",
     "shell.execute_reply": "2022-07-11T06:33:41.359707Z"
    },
    "papermill": {
     "duration": 2.099618,
     "end_time": "2022-07-11T06:33:41.361482",
     "exception": false,
     "start_time": "2022-07-11T06:33:39.261864",
     "status": "completed"
    },
    "tags": []
   },
   "outputs": [
    {
     "data": {
      "text/plain": [
       "count    46665.000000\n",
       "mean         0.002700\n",
       "std          0.029946\n",
       "min          0.000000\n",
       "25%          0.000000\n",
       "50%          0.000000\n",
       "75%          0.000000\n",
       "max          0.974525\n",
       "dtype: float64"
      ]
     },
     "execution_count": 40,
     "metadata": {},
     "output_type": "execute_result"
    }
   ],
   "source": [
    "gene_corrs.describe()"
   ]
  },
  {
   "cell_type": "code",
   "execution_count": 41,
   "id": "b3815678-0f93-4b35-897b-a9d047a2aa78",
   "metadata": {
    "execution": {
     "iopub.execute_input": "2022-07-11T06:33:45.106280Z",
     "iopub.status.busy": "2022-07-11T06:33:45.106117Z",
     "iopub.status.idle": "2022-07-11T06:33:45.126729Z",
     "shell.execute_reply": "2022-07-11T06:33:45.126339Z"
    },
    "papermill": {
     "duration": 1.930458,
     "end_time": "2022-07-11T06:33:45.128101",
     "exception": false,
     "start_time": "2022-07-11T06:33:43.197643",
     "status": "completed"
    },
    "tags": []
   },
   "outputs": [
    {
     "data": {
      "text/plain": [
       "0.00    0.00000\n",
       "0.05    0.00000\n",
       "0.10    0.00000\n",
       "0.15    0.00000\n",
       "0.20    0.00000\n",
       "0.25    0.00000\n",
       "0.30    0.00000\n",
       "0.35    0.00000\n",
       "0.40    0.00000\n",
       "0.45    0.00000\n",
       "0.50    0.00000\n",
       "0.55    0.00000\n",
       "0.60    0.00000\n",
       "0.65    0.00000\n",
       "0.70    0.00000\n",
       "0.75    0.00000\n",
       "0.80    0.00000\n",
       "0.85    0.00000\n",
       "0.90    0.00000\n",
       "0.95    0.00759\n",
       "dtype: float64"
      ]
     },
     "metadata": {},
     "output_type": "display_data"
    }
   ],
   "source": [
    "gene_corrs_quantiles = gene_corrs.quantile(np.arange(0, 1, 0.05))\n",
    "display(gene_corrs_quantiles)"
   ]
  },
  {
   "cell_type": "markdown",
   "id": "8e60a080-edb2-4e9c-b2ef-22961693200c",
   "metadata": {
    "papermill": {
     "duration": 2.312489,
     "end_time": "2022-07-11T06:33:49.811652",
     "exception": false,
     "start_time": "2022-07-11T06:33:47.499163",
     "status": "completed"
    },
    "tags": []
   },
   "source": [
    "## Plot: distribution"
   ]
  },
  {
   "cell_type": "code",
   "execution_count": 42,
   "id": "8301126b-a7d4-4744-9c7d-f0f86eb6f54c",
   "metadata": {
    "execution": {
     "iopub.execute_input": "2022-07-11T06:33:54.637678Z",
     "iopub.status.busy": "2022-07-11T06:33:54.637484Z",
     "iopub.status.idle": "2022-07-11T06:33:55.228182Z",
     "shell.execute_reply": "2022-07-11T06:33:55.227780Z"
    },
    "papermill": {
     "duration": 3.10196,
     "end_time": "2022-07-11T06:33:55.229367",
     "exception": false,
     "start_time": "2022-07-11T06:33:52.127407",
     "status": "completed"
    },
    "tags": []
   },
   "outputs": [
    {
     "data": {
      "image/png": "[encoded data removed]",
      "text/plain": [
       "<Figure size 504x504 with 1 Axes>"
      ]
     },
     "metadata": {
      "needs_background": "light"
     },
     "output_type": "display_data"
    }
   ],
   "source": [
    "with sns.plotting_context(\"paper\", font_scale=1.5):\n",
    "    g = sns.displot(gene_corrs, kde=True, height=7)\n",
    "    g.ax.set_title(\n",
    "        f\"Distribution of gene correlation values in chromosome {chromosome}\"\n",
    "    )"
   ]
  },
  {
   "cell_type": "markdown",
   "id": "cbd52bca-d878-4a2f-b684-5c83aa3038d4",
   "metadata": {
    "papermill": {
     "duration": 2.282798,
     "end_time": "2022-07-11T06:33:59.544225",
     "exception": false,
     "start_time": "2022-07-11T06:33:57.261427",
     "status": "completed"
    },
    "tags": []
   },
   "source": [
    "## Plot: heatmap"
   ]
  },
  {
   "cell_type": "code",
   "execution_count": 43,
   "id": "d03fe63a-c7b2-4fb9-a53c-db362ce843c9",
   "metadata": {
    "execution": {
     "iopub.execute_input": "2022-07-11T06:34:03.354166Z",
     "iopub.status.busy": "2022-07-11T06:34:03.353961Z",
     "iopub.status.idle": "2022-07-11T06:34:03.384995Z",
     "shell.execute_reply": "2022-07-11T06:34:03.384371Z"
    },
    "papermill": {
     "duration": 1.775183,
     "end_time": "2022-07-11T06:34:03.386247",
     "exception": false,
     "start_time": "2022-07-11T06:34:01.611064",
     "status": "completed"
    },
    "tags": []
   },
   "outputs": [
    {
     "data": {
      "text/plain": [
       "'-0.05 / 0.05'"
      ]
     },
     "metadata": {},
     "output_type": "display_data"
    }
   ],
   "source": [
    "vmin_val = min(-0.05, gene_corrs_quantiles[0.10])\n",
    "vmax_val = max(0.05, gene_corrs_quantiles[0.90])\n",
    "display(f\"{vmin_val} / {vmax_val}\")"
   ]
  },
  {
   "cell_type": "code",
   "execution_count": 44,
   "id": "dc41b70b-5bcc-4d9e-9f33-a22c4a94dab5",
   "metadata": {
    "execution": {
     "iopub.execute_input": "2022-07-11T06:34:07.924079Z",
     "iopub.status.busy": "2022-07-11T06:34:07.923911Z",
     "iopub.status.idle": "2022-07-11T06:34:08.226966Z",
     "shell.execute_reply": "2022-07-11T06:34:08.226470Z"
    },
    "papermill": {
     "duration": 2.65694,
     "end_time": "2022-07-11T06:34:08.228181",
     "exception": false,
     "start_time": "2022-07-11T06:34:05.571241",
     "status": "completed"
    },
    "tags": []
   },
   "outputs": [
    {
     "data": {
      "text/plain": [
       "Text(0.5, 1.0, 'Gene correlations in chromosome 5')"
      ]
     },
     "execution_count": 44,
     "metadata": {},
     "output_type": "execute_result"
    },
    {
     "data": {
      "image/png": "[encoded data removed]",
      "text/plain": [
       "<Figure size 720x720 with 2 Axes>"
      ]
     },
     "metadata": {
      "needs_background": "light"
     },
     "output_type": "display_data"
    }
   ],
   "source": [
    "f, ax = plt.subplots(figsize=(10, 10))\n",
    "sns.heatmap(\n",
    "    gene_corrs_df,\n",
    "    xticklabels=False,\n",
    "    yticklabels=False,\n",
    "    square=True,\n",
    "    vmin=vmin_val,\n",
    "    vmax=vmax_val,\n",
    "    cmap=\"YlGnBu\",\n",
    "    ax=ax,\n",
    ")\n",
    "ax.set_title(f\"Gene correlations in chromosome {chromosome}\")"
   ]
  },
  {
   "cell_type": "code",
   "execution_count": null,
   "id": "b25e3ead",
   "metadata": {
    "papermill": {
     "duration": 2.233847,
     "end_time": "2022-07-11T06:34:12.269681",
     "exception": false,
     "start_time": "2022-07-11T06:34:10.035834",
     "status": "completed"
    },
    "tags": []
   },
   "outputs": [],
   "source": []
  }
 ],
 "metadata": {
  "jupytext": {
   "cell_metadata_filter": "all,-execution,-papermill,-trusted",
   "formats": "ipynb,py//py:percent"
  },
  "kernelspec": {
   "display_name": "Python 3 (ipykernel)",
   "language": "python",
   "name": "python3"
  },
  "language_info": {
   "codemirror_mode": {
    "name": "ipython",
    "version": 3
   },
   "file_extension": ".py",
   "mimetype": "text/x-python",
   "name": "python",
   "nbconvert_exporter": "python",
   "pygments_lexer": "ipython3",
   "version": "3.8.13"
  },
  "papermill": {
   "default_parameters": {},
   "duration": 707.557259,
   "end_time": "2022-07-11T06:34:17.173945",
   "environment_variables": {},
   "exception": null,
   "input_path": "nbs/15_gsa_gls/10-gene_expr_correlations.ipynb",
   "output_path": "nbs/15_gsa_gls/gene_corrs/1000g/mashr/10-gene_expr_correlations-chr5.run.ipynb",
   "parameters": {
    "EQTL_MODEL": "MASHR",
    "REFERENCE_PANEL": "1000G",
    "chromosome": 5
   },
   "start_time": "2022-07-11T06:22:29.616686",
   "version": "2.2.2"
  }
 },
 "nbformat": 4,
 "nbformat_minor": 5
}
