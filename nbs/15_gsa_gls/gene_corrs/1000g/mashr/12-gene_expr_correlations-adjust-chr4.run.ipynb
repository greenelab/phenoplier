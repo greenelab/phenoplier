{
 "cells": [
  {
   "cell_type": "markdown",
   "id": "28fc82fa-c3f6-4184-8054-cc91c7c6e2e7",
   "metadata": {
    "papermill": {
     "duration": 0.003558,
     "end_time": "2022-07-11T13:17:31.410766",
     "exception": false,
     "start_time": "2022-07-11T13:17:31.407208",
     "status": "completed"
    },
    "tags": []
   },
   "source": [
    "# Description"
   ]
  },
  {
   "cell_type": "markdown",
   "id": "36839b17-916e-4aec-8fee-96faf1097e78",
   "metadata": {
    "papermill": {
     "duration": 0.003084,
     "end_time": "2022-07-11T13:17:31.416874",
     "exception": false,
     "start_time": "2022-07-11T13:17:31.413790",
     "status": "completed"
    },
    "tags": []
   },
   "source": [
    "**TODO**"
   ]
  },
  {
   "cell_type": "markdown",
   "id": "249e8aa3-ef1a-4bba-a6dd-58120ad80794",
   "metadata": {
    "papermill": {
     "duration": 0.002973,
     "end_time": "2022-07-11T13:17:31.423171",
     "exception": false,
     "start_time": "2022-07-11T13:17:31.420198",
     "status": "completed"
    },
    "tags": []
   },
   "source": [
    "# Modules"
   ]
  },
  {
   "cell_type": "code",
   "execution_count": 1,
   "id": "f9b5022b-7c5e-4d37-9c7a-fdb91777c7f9",
   "metadata": {
    "execution": {
     "iopub.execute_input": "2022-07-11T13:17:31.452656Z",
     "iopub.status.busy": "2022-07-11T13:17:31.451181Z",
     "iopub.status.idle": "2022-07-11T13:17:34.647075Z",
     "shell.execute_reply": "2022-07-11T13:17:34.645838Z"
    },
    "papermill": {
     "duration": 3.222966,
     "end_time": "2022-07-11T13:17:34.649239",
     "exception": false,
     "start_time": "2022-07-11T13:17:31.426273",
     "status": "completed"
    },
    "tags": []
   },
   "outputs": [],
   "source": [
    "library(reticulate)\n",
    "pd <- import(\"pandas\")"
   ]
  },
  {
   "cell_type": "markdown",
   "id": "69e80173-3a39-4b6a-b723-602687cb255b",
   "metadata": {
    "papermill": {
     "duration": 0.003224,
     "end_time": "2022-07-11T13:17:34.656362",
     "exception": false,
     "start_time": "2022-07-11T13:17:34.653138",
     "status": "completed"
    },
    "tags": []
   },
   "source": [
    "# Settings"
   ]
  },
  {
   "cell_type": "code",
   "execution_count": 2,
   "id": "22d12bb4-1699-4a6b-b1b9-d3fdd3d547d7",
   "metadata": {
    "execution": {
     "iopub.execute_input": "2022-07-11T13:17:34.685750Z",
     "iopub.status.busy": "2022-07-11T13:17:34.663958Z",
     "iopub.status.idle": "2022-07-11T13:17:34.696956Z",
     "shell.execute_reply": "2022-07-11T13:17:34.695780Z"
    },
    "papermill": {
     "duration": 0.038901,
     "end_time": "2022-07-11T13:17:34.698643",
     "exception": false,
     "start_time": "2022-07-11T13:17:34.659742",
     "status": "completed"
    },
    "tags": [
     "parameters"
    ]
   },
   "outputs": [],
   "source": [
    "# reference panel\n",
    "REFERENCE_PANEL <- \"GTEX_V8\"\n",
    "# REFERENCE_PANEL = \"1000G\"\n",
    "\n",
    "# prediction models\n",
    "## mashr\n",
    "EQTL_MODEL <- \"MASHR\"\n",
    "\n",
    "chromosome <- NULL"
   ]
  },
  {
   "cell_type": "code",
   "execution_count": 3,
   "id": "c6822913",
   "metadata": {
    "execution": {
     "iopub.execute_input": "2022-07-11T13:17:34.708087Z",
     "iopub.status.busy": "2022-07-11T13:17:34.706993Z",
     "iopub.status.idle": "2022-07-11T13:17:34.725176Z",
     "shell.execute_reply": "2022-07-11T13:17:34.723858Z"
    },
    "papermill": {
     "duration": 0.024903,
     "end_time": "2022-07-11T13:17:34.726912",
     "exception": false,
     "start_time": "2022-07-11T13:17:34.702009",
     "status": "completed"
    },
    "tags": [
     "injected-parameters"
    ]
   },
   "outputs": [],
   "source": [
    "# Parameters\n",
    "chromosome = 4\n",
    "REFERENCE_PANEL = \"1000G\"\n",
    "EQTL_MODEL = \"MASHR\"\n"
   ]
  },
  {
   "cell_type": "code",
   "execution_count": 4,
   "id": "8fe24bef",
   "metadata": {
    "execution": {
     "iopub.execute_input": "2022-07-11T13:17:34.736658Z",
     "iopub.status.busy": "2022-07-11T13:17:34.735333Z",
     "iopub.status.idle": "2022-07-11T13:17:34.749836Z",
     "shell.execute_reply": "2022-07-11T13:17:34.748459Z"
    },
    "papermill": {
     "duration": 0.021111,
     "end_time": "2022-07-11T13:17:34.751732",
     "exception": false,
     "start_time": "2022-07-11T13:17:34.730621",
     "status": "completed"
    },
    "tags": []
   },
   "outputs": [
    {
     "data": {
      "text/html": [
       "'Using reference panel: 1000G'"
      ],
      "text/latex": [
       "'Using reference panel: 1000G'"
      ],
      "text/markdown": [
       "'Using reference panel: 1000G'"
      ],
      "text/plain": [
       "[1] \"Using reference panel: 1000G\""
      ]
     },
     "metadata": {},
     "output_type": "display_data"
    }
   ],
   "source": [
    "paste0(\"Using reference panel: \", REFERENCE_PANEL)"
   ]
  },
  {
   "cell_type": "code",
   "execution_count": 5,
   "id": "d62c28f8-186c-478b-948c-58e14f00df4b",
   "metadata": {
    "execution": {
     "iopub.execute_input": "2022-07-11T13:17:34.761647Z",
     "iopub.status.busy": "2022-07-11T13:17:34.760489Z",
     "iopub.status.idle": "2022-07-11T13:17:34.773422Z",
     "shell.execute_reply": "2022-07-11T13:17:34.772147Z"
    },
    "papermill": {
     "duration": 0.019632,
     "end_time": "2022-07-11T13:17:34.775381",
     "exception": false,
     "start_time": "2022-07-11T13:17:34.755749",
     "status": "completed"
    },
    "tags": []
   },
   "outputs": [
    {
     "data": {
      "text/html": [
       "'Using eQTL model: MASHR'"
      ],
      "text/latex": [
       "'Using eQTL model: MASHR'"
      ],
      "text/markdown": [
       "'Using eQTL model: MASHR'"
      ],
      "text/plain": [
       "[1] \"Using eQTL model: MASHR\""
      ]
     },
     "metadata": {},
     "output_type": "display_data"
    }
   ],
   "source": [
    "paste0(\"Using eQTL model: \", EQTL_MODEL)"
   ]
  },
  {
   "cell_type": "code",
   "execution_count": 6,
   "id": "5243676f-c889-4405-9a4d-262f0f044614",
   "metadata": {
    "execution": {
     "iopub.execute_input": "2022-07-11T13:17:34.785958Z",
     "iopub.status.busy": "2022-07-11T13:17:34.784822Z",
     "iopub.status.idle": "2022-07-11T13:17:34.795052Z",
     "shell.execute_reply": "2022-07-11T13:17:34.793752Z"
    },
    "papermill": {
     "duration": 0.017432,
     "end_time": "2022-07-11T13:17:34.797080",
     "exception": false,
     "start_time": "2022-07-11T13:17:34.779648",
     "status": "completed"
    },
    "tags": []
   },
   "outputs": [],
   "source": [
    "# chromosome must be provided as parameter\n",
    "stopifnot(!is.null(chromosome))"
   ]
  },
  {
   "cell_type": "markdown",
   "id": "c05e4d34-e115-48cd-8a2e-225109eb0042",
   "metadata": {
    "papermill": {
     "duration": 0.004101,
     "end_time": "2022-07-11T13:17:34.805305",
     "exception": false,
     "start_time": "2022-07-11T13:17:34.801204",
     "status": "completed"
    },
    "tags": []
   },
   "source": [
    "# Paths"
   ]
  },
  {
   "cell_type": "code",
   "execution_count": 7,
   "id": "eb6aa8aa-b452-4a2f-a780-93dd80ad4285",
   "metadata": {
    "execution": {
     "iopub.execute_input": "2022-07-11T13:17:34.815820Z",
     "iopub.status.busy": "2022-07-11T13:17:34.814551Z",
     "iopub.status.idle": "2022-07-11T13:17:34.829674Z",
     "shell.execute_reply": "2022-07-11T13:17:34.828378Z"
    },
    "papermill": {
     "duration": 0.022186,
     "end_time": "2022-07-11T13:17:34.831537",
     "exception": false,
     "start_time": "2022-07-11T13:17:34.809351",
     "status": "completed"
    },
    "tags": []
   },
   "outputs": [
    {
     "data": {
      "text/html": [
       "'/opt/data/data/phenomexcan/ld_blocks/gene_corrs'"
      ],
      "text/latex": [
       "'/opt/data/data/phenomexcan/ld\\_blocks/gene\\_corrs'"
      ],
      "text/markdown": [
       "'/opt/data/data/phenomexcan/ld_blocks/gene_corrs'"
      ],
      "text/plain": [
       "[1] \"/opt/data/data/phenomexcan/ld_blocks/gene_corrs\""
      ]
     },
     "metadata": {},
     "output_type": "display_data"
    }
   ],
   "source": [
    "GENE_CORRS_DIR <- Sys.getenv(\"PHENOPLIER_PHENOMEXCAN_LD_BLOCKS_GENE_CORRS_DIR\")\n",
    "IRdisplay::display(GENE_CORRS_DIR)"
   ]
  },
  {
   "cell_type": "code",
   "execution_count": 8,
   "id": "eb24f15f-f282-4476-8943-8413c4483f12",
   "metadata": {
    "execution": {
     "iopub.execute_input": "2022-07-11T13:17:34.842269Z",
     "iopub.status.busy": "2022-07-11T13:17:34.840976Z",
     "iopub.status.idle": "2022-07-11T13:17:34.856188Z",
     "shell.execute_reply": "2022-07-11T13:17:34.854855Z"
    },
    "papermill": {
     "duration": 0.02241,
     "end_time": "2022-07-11T13:17:34.858018",
     "exception": false,
     "start_time": "2022-07-11T13:17:34.835608",
     "status": "completed"
    },
    "tags": []
   },
   "outputs": [
    {
     "data": {
      "text/html": [
       "'/opt/data/data/phenomexcan/ld_blocks/gene_corrs/1000g/mashr/by_chr'"
      ],
      "text/latex": [
       "'/opt/data/data/phenomexcan/ld\\_blocks/gene\\_corrs/1000g/mashr/by\\_chr'"
      ],
      "text/markdown": [
       "'/opt/data/data/phenomexcan/ld_blocks/gene_corrs/1000g/mashr/by_chr'"
      ],
      "text/plain": [
       "[1] \"/opt/data/data/phenomexcan/ld_blocks/gene_corrs/1000g/mashr/by_chr\""
      ]
     },
     "metadata": {},
     "output_type": "display_data"
    }
   ],
   "source": [
    "INPUT_DIR <- file.path(GENE_CORRS_DIR, tolower(REFERENCE_PANEL), tolower(EQTL_MODEL), \"by_chr\")\n",
    "IRdisplay::display(INPUT_DIR)"
   ]
  },
  {
   "cell_type": "code",
   "execution_count": 9,
   "id": "43c1daba-0da9-4822-8d1e-968e9767e251",
   "metadata": {
    "execution": {
     "iopub.execute_input": "2022-07-11T13:17:34.869410Z",
     "iopub.status.busy": "2022-07-11T13:17:34.868344Z",
     "iopub.status.idle": "2022-07-11T13:17:34.883075Z",
     "shell.execute_reply": "2022-07-11T13:17:34.881828Z"
    },
    "papermill": {
     "duration": 0.021958,
     "end_time": "2022-07-11T13:17:34.884961",
     "exception": false,
     "start_time": "2022-07-11T13:17:34.863003",
     "status": "completed"
    },
    "tags": []
   },
   "outputs": [
    {
     "data": {
      "text/html": [
       "'/opt/data/data/phenomexcan/ld_blocks/gene_corrs/1000g/mashr/by_chr/gene_corrs-chr4.pkl'"
      ],
      "text/latex": [
       "'/opt/data/data/phenomexcan/ld\\_blocks/gene\\_corrs/1000g/mashr/by\\_chr/gene\\_corrs-chr4.pkl'"
      ],
      "text/markdown": [
       "'/opt/data/data/phenomexcan/ld_blocks/gene_corrs/1000g/mashr/by_chr/gene_corrs-chr4.pkl'"
      ],
      "text/plain": [
       "[1] \"/opt/data/data/phenomexcan/ld_blocks/gene_corrs/1000g/mashr/by_chr/gene_corrs-chr4.pkl\""
      ]
     },
     "metadata": {},
     "output_type": "display_data"
    }
   ],
   "source": [
    "INPUT_FILE <- file.path(INPUT_DIR, paste0(\"gene_corrs-chr\", chromosome, \".pkl\"))\n",
    "IRdisplay::display(INPUT_FILE)\n",
    "stopifnot(file.exists(INPUT_FILE))"
   ]
  },
  {
   "cell_type": "code",
   "execution_count": 10,
   "id": "72386fbf-982b-420a-9057-ea9a97a5e571",
   "metadata": {
    "execution": {
     "iopub.execute_input": "2022-07-11T13:17:34.895717Z",
     "iopub.status.busy": "2022-07-11T13:17:34.894616Z",
     "iopub.status.idle": "2022-07-11T13:17:34.909306Z",
     "shell.execute_reply": "2022-07-11T13:17:34.908076Z"
    },
    "papermill": {
     "duration": 0.021794,
     "end_time": "2022-07-11T13:17:34.911140",
     "exception": false,
     "start_time": "2022-07-11T13:17:34.889346",
     "status": "completed"
    },
    "tags": []
   },
   "outputs": [
    {
     "data": {
      "text/html": [
       "'/opt/data/data/phenomexcan/ld_blocks/gene_corrs/1000g/mashr/by_chr/corrected_positive_definite'"
      ],
      "text/latex": [
       "'/opt/data/data/phenomexcan/ld\\_blocks/gene\\_corrs/1000g/mashr/by\\_chr/corrected\\_positive\\_definite'"
      ],
      "text/markdown": [
       "'/opt/data/data/phenomexcan/ld_blocks/gene_corrs/1000g/mashr/by_chr/corrected_positive_definite'"
      ],
      "text/plain": [
       "[1] \"/opt/data/data/phenomexcan/ld_blocks/gene_corrs/1000g/mashr/by_chr/corrected_positive_definite\""
      ]
     },
     "metadata": {},
     "output_type": "display_data"
    }
   ],
   "source": [
    "OUTPUT_DIR <- file.path(INPUT_DIR, \"corrected_positive_definite\")\n",
    "IRdisplay::display(OUTPUT_DIR)\n",
    "dir.create(OUTPUT_DIR, recursive = TRUE, showWarnings = FALSE)"
   ]
  },
  {
   "cell_type": "code",
   "execution_count": 11,
   "id": "f9f19d1d-ce4c-4099-a26e-250fec751de7",
   "metadata": {
    "execution": {
     "iopub.execute_input": "2022-07-11T13:17:34.922283Z",
     "iopub.status.busy": "2022-07-11T13:17:34.921237Z",
     "iopub.status.idle": "2022-07-11T13:17:34.935688Z",
     "shell.execute_reply": "2022-07-11T13:17:34.934482Z"
    },
    "papermill": {
     "duration": 0.02159,
     "end_time": "2022-07-11T13:17:34.937446",
     "exception": false,
     "start_time": "2022-07-11T13:17:34.915856",
     "status": "completed"
    },
    "tags": []
   },
   "outputs": [
    {
     "data": {
      "text/html": [
       "'/opt/data/data/phenomexcan/ld_blocks/gene_corrs/1000g/mashr/by_chr/corrected_positive_definite/gene_corrs-chr4.pkl'"
      ],
      "text/latex": [
       "'/opt/data/data/phenomexcan/ld\\_blocks/gene\\_corrs/1000g/mashr/by\\_chr/corrected\\_positive\\_definite/gene\\_corrs-chr4.pkl'"
      ],
      "text/markdown": [
       "'/opt/data/data/phenomexcan/ld_blocks/gene_corrs/1000g/mashr/by_chr/corrected_positive_definite/gene_corrs-chr4.pkl'"
      ],
      "text/plain": [
       "[1] \"/opt/data/data/phenomexcan/ld_blocks/gene_corrs/1000g/mashr/by_chr/corrected_positive_definite/gene_corrs-chr4.pkl\""
      ]
     },
     "metadata": {},
     "output_type": "display_data"
    }
   ],
   "source": [
    "OUTPUT_FILE <- file.path(OUTPUT_DIR, paste0(\"gene_corrs-chr\", chromosome, \".pkl\"))\n",
    "IRdisplay::display(OUTPUT_FILE)\n",
    "if (file.exists(OUTPUT_FILE)) {\n",
    "  IRdisplay::display(\"Output file exists, it will be overwritten\")\n",
    "}"
   ]
  },
  {
   "cell_type": "markdown",
   "id": "24973e62-e888-4b56-843f-489d8d0762b5",
   "metadata": {
    "papermill": {
     "duration": 0.004461,
     "end_time": "2022-07-11T13:17:34.946446",
     "exception": false,
     "start_time": "2022-07-11T13:17:34.941985",
     "status": "completed"
    },
    "tags": []
   },
   "source": [
    "# Functions"
   ]
  },
  {
   "cell_type": "code",
   "execution_count": 12,
   "id": "f828f081-7358-4cc8-8a89-1ee293bcc1a7",
   "metadata": {
    "execution": {
     "iopub.execute_input": "2022-07-11T13:17:34.960778Z",
     "iopub.status.busy": "2022-07-11T13:17:34.956411Z",
     "iopub.status.idle": "2022-07-11T13:17:34.970163Z",
     "shell.execute_reply": "2022-07-11T13:17:34.968845Z"
    },
    "papermill": {
     "duration": 0.021474,
     "end_time": "2022-07-11T13:17:34.972338",
     "exception": false,
     "start_time": "2022-07-11T13:17:34.950864",
     "status": "completed"
    },
    "tags": []
   },
   "outputs": [],
   "source": [
    "# taken from https://www.r-bloggers.com/2013/08/correcting-a-pseudo-correlation-matrix-to-be-positive-semidefinite/\n",
    "# TODO: add documentation\n",
    "CorrectCM <- function(CM, p = 0) {\n",
    "  n <- dim(var(CM))[1L]\n",
    "  E <- eigen(CM)\n",
    "  CM1 <- E$vectors %*% tcrossprod(diag(pmax(E$values, p), n), E$vectors)\n",
    "  Balance <- diag(1 / sqrt(diag(CM1)))\n",
    "  CM2 <- Balance %*% CM1 %*% Balance\n",
    "  return(CM2)\n",
    "}"
   ]
  },
  {
   "cell_type": "code",
   "execution_count": 13,
   "id": "7ab9bebf-50a1-4e6f-b16a-e23cae93d02a",
   "metadata": {
    "execution": {
     "iopub.execute_input": "2022-07-11T13:17:34.984345Z",
     "iopub.status.busy": "2022-07-11T13:17:34.983195Z",
     "iopub.status.idle": "2022-07-11T13:17:34.993009Z",
     "shell.execute_reply": "2022-07-11T13:17:34.991701Z"
    },
    "papermill": {
     "duration": 0.017529,
     "end_time": "2022-07-11T13:17:34.994903",
     "exception": false,
     "start_time": "2022-07-11T13:17:34.977374",
     "status": "completed"
    },
    "tags": []
   },
   "outputs": [],
   "source": [
    "is_positive_definite <- function(data) {\n",
    "  # eigenvalues <- eigen(data)$values\n",
    "  # nonpositive_eigenvalues <- eigenvalues[eigenvalues <= 0]\n",
    "\n",
    "  cholStatus <- try(u <- chol(data), silent = FALSE)\n",
    "  cholError <- ifelse(class(cholStatus) == \"try-error\", TRUE, FALSE)\n",
    "\n",
    "  if (cholError) {\n",
    "    return(FALSE)\n",
    "  } else {\n",
    "    return(TRUE)\n",
    "  }\n",
    "}"
   ]
  },
  {
   "cell_type": "markdown",
   "id": "7403fd78-00b2-4941-9c07-3c3af1ddc636",
   "metadata": {
    "papermill": {
     "duration": 0.004887,
     "end_time": "2022-07-11T13:17:35.005397",
     "exception": false,
     "start_time": "2022-07-11T13:17:35.000510",
     "status": "completed"
    },
    "tags": []
   },
   "source": [
    "# Load data"
   ]
  },
  {
   "cell_type": "code",
   "execution_count": 14,
   "id": "3a7744e1-2e5a-450e-9dcf-945ec181347d",
   "metadata": {
    "execution": {
     "iopub.execute_input": "2022-07-11T13:17:35.016846Z",
     "iopub.status.busy": "2022-07-11T13:17:35.015699Z",
     "iopub.status.idle": "2022-07-11T13:17:35.057618Z",
     "shell.execute_reply": "2022-07-11T13:17:35.056301Z"
    },
    "papermill": {
     "duration": 0.049427,
     "end_time": "2022-07-11T13:17:35.059471",
     "exception": false,
     "start_time": "2022-07-11T13:17:35.010044",
     "status": "completed"
    },
    "tags": []
   },
   "outputs": [],
   "source": [
    "gene_corrs <- pd$read_pickle(INPUT_FILE)"
   ]
  },
  {
   "cell_type": "code",
   "execution_count": 15,
   "id": "6fb150b2-4c68-4e9b-9aa5-1890d3f762e3",
   "metadata": {
    "execution": {
     "iopub.execute_input": "2022-07-11T13:17:35.070931Z",
     "iopub.status.busy": "2022-07-11T13:17:35.069838Z",
     "iopub.status.idle": "2022-07-11T13:17:35.083291Z",
     "shell.execute_reply": "2022-07-11T13:17:35.082021Z"
    },
    "papermill": {
     "duration": 0.020911,
     "end_time": "2022-07-11T13:17:35.085180",
     "exception": false,
     "start_time": "2022-07-11T13:17:35.064269",
     "status": "completed"
    },
    "tags": []
   },
   "outputs": [
    {
     "data": {
      "text/html": [
       "<style>\n",
       ".list-inline {list-style: none; margin:0; padding: 0}\n",
       ".list-inline>li {display: inline-block}\n",
       ".list-inline>li:not(:last-child)::after {content: \"\\00b7\"; padding: 0 .5ex}\n",
       "</style>\n",
       "<ol class=list-inline><li>244</li><li>244</li></ol>\n"
      ],
      "text/latex": [
       "\\begin{enumerate*}\n",
       "\\item 244\n",
       "\\item 244\n",
       "\\end{enumerate*}\n"
      ],
      "text/markdown": [
       "1. 244\n",
       "2. 244\n",
       "\n",
       "\n"
      ],
      "text/plain": [
       "[1] 244 244"
      ]
     },
     "metadata": {},
     "output_type": "display_data"
    }
   ],
   "source": [
    "dim(gene_corrs)"
   ]
  },
  {
   "cell_type": "code",
   "execution_count": 16,
   "id": "0d4e53b5-7586-4a68-8ce5-d930d74ba943",
   "metadata": {
    "execution": {
     "iopub.execute_input": "2022-07-11T13:17:35.097820Z",
     "iopub.status.busy": "2022-07-11T13:17:35.096536Z",
     "iopub.status.idle": "2022-07-11T13:17:35.121084Z",
     "shell.execute_reply": "2022-07-11T13:17:35.118953Z"
    },
    "papermill": {
     "duration": 0.033209,
     "end_time": "2022-07-11T13:17:35.123200",
     "exception": false,
     "start_time": "2022-07-11T13:17:35.089991",
     "status": "completed"
    },
    "tags": []
   },
   "outputs": [
    {
     "data": {
      "text/html": [
       "<table class=\"dataframe\">\n",
       "<caption>A data.frame: 6 × 10</caption>\n",
       "<thead>\n",
       "\t<tr><th></th><th scope=col>ENSG00000272602</th><th scope=col>ENSG00000131127</th><th scope=col>ENSG00000174227</th><th scope=col>ENSG00000133256</th><th scope=col>ENSG00000169020</th><th scope=col>ENSG00000215375</th><th scope=col>ENSG00000169026</th><th scope=col>ENSG00000178950</th><th scope=col>ENSG00000145214</th><th scope=col>ENSG00000145217</th></tr>\n",
       "\t<tr><th></th><th scope=col>&lt;dbl&gt;</th><th scope=col>&lt;dbl&gt;</th><th scope=col>&lt;dbl&gt;</th><th scope=col>&lt;dbl&gt;</th><th scope=col>&lt;dbl&gt;</th><th scope=col>&lt;dbl&gt;</th><th scope=col>&lt;dbl&gt;</th><th scope=col>&lt;dbl&gt;</th><th scope=col>&lt;dbl&gt;</th><th scope=col>&lt;dbl&gt;</th></tr>\n",
       "</thead>\n",
       "<tbody>\n",
       "\t<tr><th scope=row>ENSG00000272602</th><td>1.00000000</td><td>0.05596291</td><td>0.19084806</td><td>0.08895270</td><td>0.09710418</td><td>0.03849587</td><td>0.03940656</td><td>0.01708481</td><td>0.010274400</td><td>8.550148e-03</td></tr>\n",
       "\t<tr><th scope=row>ENSG00000131127</th><td>0.05596291</td><td>1.00000000</td><td>0.33248968</td><td>0.07411937</td><td>0.02910827</td><td>0.02653667</td><td>0.03169595</td><td>0.01760891</td><td>0.019846403</td><td>4.169103e-03</td></tr>\n",
       "\t<tr><th scope=row>ENSG00000174227</th><td>0.19084806</td><td>0.33248968</td><td>1.00000000</td><td>0.29288585</td><td>0.18047385</td><td>0.07607521</td><td>0.09188525</td><td>0.01906973</td><td>0.014028430</td><td>1.120749e-02</td></tr>\n",
       "\t<tr><th scope=row>ENSG00000133256</th><td>0.08895270</td><td>0.07411937</td><td>0.29288585</td><td>1.00000000</td><td>0.29457601</td><td>0.21359652</td><td>0.25694279</td><td>0.01797304</td><td>0.011281444</td><td>5.467237e-03</td></tr>\n",
       "\t<tr><th scope=row>ENSG00000169020</th><td>0.09710418</td><td>0.02910827</td><td>0.18047385</td><td>0.29457601</td><td>1.00000000</td><td>0.18135829</td><td>0.20906949</td><td>0.01316028</td><td>0.008778152</td><td>6.124992e-06</td></tr>\n",
       "\t<tr><th scope=row>ENSG00000215375</th><td>0.03849587</td><td>0.02653667</td><td>0.07607521</td><td>0.21359652</td><td>0.18135829</td><td>1.00000000</td><td>0.31666467</td><td>0.01129060</td><td>0.009528100</td><td>2.156902e-03</td></tr>\n",
       "</tbody>\n",
       "</table>\n"
      ],
      "text/latex": [
       "A data.frame: 6 × 10\n",
       "\\begin{tabular}{r|llllllllll}\n",
       "  & ENSG00000272602 & ENSG00000131127 & ENSG00000174227 & ENSG00000133256 & ENSG00000169020 & ENSG00000215375 & ENSG00000169026 & ENSG00000178950 & ENSG00000145214 & ENSG00000145217\\\\\n",
       "  & <dbl> & <dbl> & <dbl> & <dbl> & <dbl> & <dbl> & <dbl> & <dbl> & <dbl> & <dbl>\\\\\n",
       "\\hline\n",
       "\tENSG00000272602 & 1.00000000 & 0.05596291 & 0.19084806 & 0.08895270 & 0.09710418 & 0.03849587 & 0.03940656 & 0.01708481 & 0.010274400 & 8.550148e-03\\\\\n",
       "\tENSG00000131127 & 0.05596291 & 1.00000000 & 0.33248968 & 0.07411937 & 0.02910827 & 0.02653667 & 0.03169595 & 0.01760891 & 0.019846403 & 4.169103e-03\\\\\n",
       "\tENSG00000174227 & 0.19084806 & 0.33248968 & 1.00000000 & 0.29288585 & 0.18047385 & 0.07607521 & 0.09188525 & 0.01906973 & 0.014028430 & 1.120749e-02\\\\\n",
       "\tENSG00000133256 & 0.08895270 & 0.07411937 & 0.29288585 & 1.00000000 & 0.29457601 & 0.21359652 & 0.25694279 & 0.01797304 & 0.011281444 & 5.467237e-03\\\\\n",
       "\tENSG00000169020 & 0.09710418 & 0.02910827 & 0.18047385 & 0.29457601 & 1.00000000 & 0.18135829 & 0.20906949 & 0.01316028 & 0.008778152 & 6.124992e-06\\\\\n",
       "\tENSG00000215375 & 0.03849587 & 0.02653667 & 0.07607521 & 0.21359652 & 0.18135829 & 1.00000000 & 0.31666467 & 0.01129060 & 0.009528100 & 2.156902e-03\\\\\n",
       "\\end{tabular}\n"
      ],
      "text/markdown": [
       "\n",
       "A data.frame: 6 × 10\n",
       "\n",
       "| <!--/--> | ENSG00000272602 &lt;dbl&gt; | ENSG00000131127 &lt;dbl&gt; | ENSG00000174227 &lt;dbl&gt; | ENSG00000133256 &lt;dbl&gt; | ENSG00000169020 &lt;dbl&gt; | ENSG00000215375 &lt;dbl&gt; | ENSG00000169026 &lt;dbl&gt; | ENSG00000178950 &lt;dbl&gt; | ENSG00000145214 &lt;dbl&gt; | ENSG00000145217 &lt;dbl&gt; |\n",
       "|---|---|---|---|---|---|---|---|---|---|---|\n",
       "| ENSG00000272602 | 1.00000000 | 0.05596291 | 0.19084806 | 0.08895270 | 0.09710418 | 0.03849587 | 0.03940656 | 0.01708481 | 0.010274400 | 8.550148e-03 |\n",
       "| ENSG00000131127 | 0.05596291 | 1.00000000 | 0.33248968 | 0.07411937 | 0.02910827 | 0.02653667 | 0.03169595 | 0.01760891 | 0.019846403 | 4.169103e-03 |\n",
       "| ENSG00000174227 | 0.19084806 | 0.33248968 | 1.00000000 | 0.29288585 | 0.18047385 | 0.07607521 | 0.09188525 | 0.01906973 | 0.014028430 | 1.120749e-02 |\n",
       "| ENSG00000133256 | 0.08895270 | 0.07411937 | 0.29288585 | 1.00000000 | 0.29457601 | 0.21359652 | 0.25694279 | 0.01797304 | 0.011281444 | 5.467237e-03 |\n",
       "| ENSG00000169020 | 0.09710418 | 0.02910827 | 0.18047385 | 0.29457601 | 1.00000000 | 0.18135829 | 0.20906949 | 0.01316028 | 0.008778152 | 6.124992e-06 |\n",
       "| ENSG00000215375 | 0.03849587 | 0.02653667 | 0.07607521 | 0.21359652 | 0.18135829 | 1.00000000 | 0.31666467 | 0.01129060 | 0.009528100 | 2.156902e-03 |\n",
       "\n"
      ],
      "text/plain": [
       "                ENSG00000272602 ENSG00000131127 ENSG00000174227 ENSG00000133256\n",
       "ENSG00000272602 1.00000000      0.05596291      0.19084806      0.08895270     \n",
       "ENSG00000131127 0.05596291      1.00000000      0.33248968      0.07411937     \n",
       "ENSG00000174227 0.19084806      0.33248968      1.00000000      0.29288585     \n",
       "ENSG00000133256 0.08895270      0.07411937      0.29288585      1.00000000     \n",
       "ENSG00000169020 0.09710418      0.02910827      0.18047385      0.29457601     \n",
       "ENSG00000215375 0.03849587      0.02653667      0.07607521      0.21359652     \n",
       "                ENSG00000169020 ENSG00000215375 ENSG00000169026 ENSG00000178950\n",
       "ENSG00000272602 0.09710418      0.03849587      0.03940656      0.01708481     \n",
       "ENSG00000131127 0.02910827      0.02653667      0.03169595      0.01760891     \n",
       "ENSG00000174227 0.18047385      0.07607521      0.09188525      0.01906973     \n",
       "ENSG00000133256 0.29457601      0.21359652      0.25694279      0.01797304     \n",
       "ENSG00000169020 1.00000000      0.18135829      0.20906949      0.01316028     \n",
       "ENSG00000215375 0.18135829      1.00000000      0.31666467      0.01129060     \n",
       "                ENSG00000145214 ENSG00000145217\n",
       "ENSG00000272602 0.010274400     8.550148e-03   \n",
       "ENSG00000131127 0.019846403     4.169103e-03   \n",
       "ENSG00000174227 0.014028430     1.120749e-02   \n",
       "ENSG00000133256 0.011281444     5.467237e-03   \n",
       "ENSG00000169020 0.008778152     6.124992e-06   \n",
       "ENSG00000215375 0.009528100     2.156902e-03   "
      ]
     },
     "metadata": {},
     "output_type": "display_data"
    }
   ],
   "source": [
    "head(gene_corrs[1:10, 1:10])"
   ]
  },
  {
   "cell_type": "markdown",
   "id": "d6cbc88a-2c90-4d11-b7dd-434f046fd03c",
   "metadata": {
    "papermill": {
     "duration": 0.005749,
     "end_time": "2022-07-11T13:17:35.134801",
     "exception": false,
     "start_time": "2022-07-11T13:17:35.129052",
     "status": "completed"
    },
    "tags": []
   },
   "source": [
    "# Check positive definiteness"
   ]
  },
  {
   "cell_type": "code",
   "execution_count": 17,
   "id": "a858a061-7c5a-4a6b-8026-fe4de50c1f26",
   "metadata": {
    "execution": {
     "iopub.execute_input": "2022-07-11T13:17:35.148673Z",
     "iopub.status.busy": "2022-07-11T13:17:35.147412Z",
     "iopub.status.idle": "2022-07-11T13:17:35.166449Z",
     "shell.execute_reply": "2022-07-11T13:17:35.164981Z"
    },
    "papermill": {
     "duration": 0.027688,
     "end_time": "2022-07-11T13:17:35.168485",
     "exception": false,
     "start_time": "2022-07-11T13:17:35.140797",
     "status": "completed"
    },
    "tags": []
   },
   "outputs": [],
   "source": [
    "orig_matrix_is_positive_definite <- is_positive_definite(gene_corrs)"
   ]
  },
  {
   "cell_type": "code",
   "execution_count": 18,
   "id": "410ee452-488f-4518-b93a-2acd608ba99c",
   "metadata": {
    "execution": {
     "iopub.execute_input": "2022-07-11T13:17:35.190495Z",
     "iopub.status.busy": "2022-07-11T13:17:35.189144Z",
     "iopub.status.idle": "2022-07-11T13:17:35.212678Z",
     "shell.execute_reply": "2022-07-11T13:17:35.211327Z"
    },
    "papermill": {
     "duration": 0.040258,
     "end_time": "2022-07-11T13:17:35.218717",
     "exception": false,
     "start_time": "2022-07-11T13:17:35.178459",
     "status": "completed"
    },
    "tags": []
   },
   "outputs": [
    {
     "data": {
      "text/html": [
       "'Matrix is already positive definite!'"
      ],
      "text/latex": [
       "'Matrix is already positive definite!'"
      ],
      "text/markdown": [
       "'Matrix is already positive definite!'"
      ],
      "text/plain": [
       "[1] \"Matrix is already positive definite!\""
      ]
     },
     "metadata": {},
     "output_type": "display_data"
    },
    {
     "data": {
      "text/html": [
       "TRUE"
      ],
      "text/latex": [
       "TRUE"
      ],
      "text/markdown": [
       "TRUE"
      ],
      "text/plain": [
       "[1] TRUE"
      ]
     },
     "metadata": {},
     "output_type": "display_data"
    }
   ],
   "source": [
    "if (orig_matrix_is_positive_definite) {\n",
    "  IRdisplay::display(\"Matrix is already positive definite!\")\n",
    "  file.copy(INPUT_FILE, OUTPUT_FILE)\n",
    "} else {\n",
    "  IRdisplay::display(\"We need to correct the data and make the matrix positive definite\")\n",
    "\n",
    "  eigenvalues <- eigen(gene_corrs)$values\n",
    "  nonpositive_eigenvalues <- eigenvalues[eigenvalues <= 0]\n",
    "  IRdisplay::display(length(nonpositive_eigenvalues))\n",
    "  IRdisplay::display(nonpositive_eigenvalues)\n",
    "\n",
    "  # Make matrix positive definite\n",
    "  gene_corrs_corrected <- CorrectCM(gene_corrs, 1e-10)\n",
    "  dimnames(gene_corrs_corrected)[[1]] <- rownames(gene_corrs)\n",
    "  dimnames(gene_corrs_corrected)[[2]] <- colnames(gene_corrs)\n",
    "  gene_corrs_corrected <- as.data.frame(gene_corrs_corrected)\n",
    "\n",
    "  # check if new matrix is really positive definite\n",
    "  matrix_is_positive_definite <- is_positive_definite(gene_corrs_corrected)\n",
    "  if (matrix_is_positive_definite) {\n",
    "    IRdisplay::display(\"It worked!\")\n",
    "    IRdisplay::display(head(gene_corrs[1:10, 1:10]))\n",
    "    IRdisplay::display(head(gene_corrs_corrected[1:10, 1:10]))\n",
    "    py_save_object(gene_corrs_corrected, OUTPUT_FILE)\n",
    "  } else {\n",
    "    eigenvalues <- eigen(gene_corrs_corrected)$values\n",
    "    nonpositive_eigenvalues <- eigenvalues[eigenvalues <= 0]\n",
    "    IRdisplay::display(length(nonpositive_eigenvalues))\n",
    "    IRdisplay::display(nonpositive_eigenvalues)\n",
    "\n",
    "    stop(\"Method failed to adjust matrix\")\n",
    "  }\n",
    "}"
   ]
  },
  {
   "cell_type": "markdown",
   "id": "6c196700-7491-462f-bab8-ab9d40c63499",
   "metadata": {
    "papermill": {
     "duration": 0.004974,
     "end_time": "2022-07-11T13:17:35.230387",
     "exception": false,
     "start_time": "2022-07-11T13:17:35.225413",
     "status": "completed"
    },
    "tags": []
   },
   "source": [
    "Both matrices should \"look\" similar. We are not interested in perfectly accurate correlation values (they are already inaccurate)."
   ]
  },
  {
   "cell_type": "code",
   "execution_count": null,
   "id": "d8ae4220-2171-460c-9231-cd5219f3fe77",
   "metadata": {
    "papermill": {
     "duration": 0.005252,
     "end_time": "2022-07-11T13:17:35.241128",
     "exception": false,
     "start_time": "2022-07-11T13:17:35.235876",
     "status": "completed"
    },
    "tags": []
   },
   "outputs": [],
   "source": []
  }
 ],
 "metadata": {
  "jupytext": {
   "cell_metadata_filter": "all,-execution,-papermill,-trusted"
  },
  "kernelspec": {
   "display_name": "R",
   "language": "R",
   "name": "ir"
  },
  "language_info": {
   "codemirror_mode": "r",
   "file_extension": ".r",
   "mimetype": "text/x-r-source",
   "name": "R",
   "pygments_lexer": "r",
   "version": "3.6.3"
  },
  "papermill": {
   "default_parameters": {},
   "duration": 4.992147,
   "end_time": "2022-07-11T13:17:35.367024",
   "environment_variables": {},
   "exception": null,
   "input_path": "nbs/15_gsa_gls/12-gene_expr_correlations-adjust.ipynb",
   "output_path": "nbs/15_gsa_gls/gene_corrs/1000g/mashr/12-gene_expr_correlations-adjust-chr4.run.ipynb",
   "parameters": {
    "EQTL_MODEL": "MASHR",
    "REFERENCE_PANEL": "1000G",
    "chromosome": 4
   },
   "start_time": "2022-07-11T13:17:30.374877",
   "version": "2.3.4"
  }
 },
 "nbformat": 4,
 "nbformat_minor": 5
}
