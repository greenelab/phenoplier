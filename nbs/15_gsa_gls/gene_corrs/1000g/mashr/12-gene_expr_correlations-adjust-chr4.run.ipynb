{
 "cells": [
  {
   "cell_type": "markdown",
   "id": "28fc82fa-c3f6-4184-8054-cc91c7c6e2e7",
   "metadata": {
    "papermill": {
     "duration": 0.004553,
     "end_time": "2022-07-12T13:07:08.094774",
     "exception": false,
     "start_time": "2022-07-12T13:07:08.090221",
     "status": "completed"
    },
    "tags": []
   },
   "source": [
    "# Description"
   ]
  },
  {
   "cell_type": "markdown",
   "id": "36839b17-916e-4aec-8fee-96faf1097e78",
   "metadata": {
    "papermill": {
     "duration": 0.003626,
     "end_time": "2022-07-12T13:07:08.102316",
     "exception": false,
     "start_time": "2022-07-12T13:07:08.098690",
     "status": "completed"
    },
    "tags": []
   },
   "source": [
    "**TODO**"
   ]
  },
  {
   "cell_type": "markdown",
   "id": "249e8aa3-ef1a-4bba-a6dd-58120ad80794",
   "metadata": {
    "papermill": {
     "duration": 0.003591,
     "end_time": "2022-07-12T13:07:08.109832",
     "exception": false,
     "start_time": "2022-07-12T13:07:08.106241",
     "status": "completed"
    },
    "tags": []
   },
   "source": [
    "# Modules"
   ]
  },
  {
   "cell_type": "code",
   "execution_count": 1,
   "id": "f9b5022b-7c5e-4d37-9c7a-fdb91777c7f9",
   "metadata": {
    "execution": {
     "iopub.execute_input": "2022-07-12T13:07:08.144597Z",
     "iopub.status.busy": "2022-07-12T13:07:08.142875Z",
     "iopub.status.idle": "2022-07-12T13:07:11.380457Z",
     "shell.execute_reply": "2022-07-12T13:07:11.379183Z"
    },
    "papermill": {
     "duration": 3.26881,
     "end_time": "2022-07-12T13:07:11.382359",
     "exception": false,
     "start_time": "2022-07-12T13:07:08.113549",
     "status": "completed"
    },
    "tags": []
   },
   "outputs": [],
   "source": [
    "library(reticulate)\n",
    "pd <- import(\"pandas\")"
   ]
  },
  {
   "cell_type": "markdown",
   "id": "69e80173-3a39-4b6a-b723-602687cb255b",
   "metadata": {
    "papermill": {
     "duration": 0.003191,
     "end_time": "2022-07-12T13:07:11.389127",
     "exception": false,
     "start_time": "2022-07-12T13:07:11.385936",
     "status": "completed"
    },
    "tags": []
   },
   "source": [
    "# Settings"
   ]
  },
  {
   "cell_type": "code",
   "execution_count": 2,
   "id": "22d12bb4-1699-4a6b-b1b9-d3fdd3d547d7",
   "metadata": {
    "execution": {
     "iopub.execute_input": "2022-07-12T13:07:11.420007Z",
     "iopub.status.busy": "2022-07-12T13:07:11.397411Z",
     "iopub.status.idle": "2022-07-12T13:07:11.432534Z",
     "shell.execute_reply": "2022-07-12T13:07:11.431271Z"
    },
    "papermill": {
     "duration": 0.0415,
     "end_time": "2022-07-12T13:07:11.434368",
     "exception": false,
     "start_time": "2022-07-12T13:07:11.392868",
     "status": "completed"
    },
    "tags": [
     "parameters"
    ]
   },
   "outputs": [],
   "source": [
    "# reference panel\n",
    "REFERENCE_PANEL <- \"GTEX_V8\"\n",
    "# REFERENCE_PANEL = \"1000G\"\n",
    "\n",
    "# prediction models\n",
    "## mashr\n",
    "EQTL_MODEL <- \"MASHR\"\n",
    "\n",
    "chromosome <- NULL"
   ]
  },
  {
   "cell_type": "code",
   "execution_count": 3,
   "id": "74dc480e",
   "metadata": {
    "execution": {
     "iopub.execute_input": "2022-07-12T13:07:11.443966Z",
     "iopub.status.busy": "2022-07-12T13:07:11.442856Z",
     "iopub.status.idle": "2022-07-12T13:07:11.461915Z",
     "shell.execute_reply": "2022-07-12T13:07:11.460671Z"
    },
    "papermill": {
     "duration": 0.026054,
     "end_time": "2022-07-12T13:07:11.463918",
     "exception": false,
     "start_time": "2022-07-12T13:07:11.437864",
     "status": "completed"
    },
    "tags": [
     "injected-parameters"
    ]
   },
   "outputs": [],
   "source": [
    "# Parameters\n",
    "chromosome = 4\n",
    "REFERENCE_PANEL = \"1000G\"\n",
    "EQTL_MODEL = \"MASHR\"\n"
   ]
  },
  {
   "cell_type": "code",
   "execution_count": 4,
   "id": "8fe24bef",
   "metadata": {
    "execution": {
     "iopub.execute_input": "2022-07-12T13:07:11.473765Z",
     "iopub.status.busy": "2022-07-12T13:07:11.472669Z",
     "iopub.status.idle": "2022-07-12T13:07:11.486207Z",
     "shell.execute_reply": "2022-07-12T13:07:11.484947Z"
    },
    "papermill": {
     "duration": 0.020253,
     "end_time": "2022-07-12T13:07:11.488013",
     "exception": false,
     "start_time": "2022-07-12T13:07:11.467760",
     "status": "completed"
    },
    "tags": []
   },
   "outputs": [
    {
     "data": {
      "text/html": [
       "'Using reference panel: 1000G'"
      ],
      "text/latex": [
       "'Using reference panel: 1000G'"
      ],
      "text/markdown": [
       "'Using reference panel: 1000G'"
      ],
      "text/plain": [
       "[1] \"Using reference panel: 1000G\""
      ]
     },
     "metadata": {},
     "output_type": "display_data"
    }
   ],
   "source": [
    "paste0(\"Using reference panel: \", REFERENCE_PANEL)"
   ]
  },
  {
   "cell_type": "code",
   "execution_count": 5,
   "id": "d62c28f8-186c-478b-948c-58e14f00df4b",
   "metadata": {
    "execution": {
     "iopub.execute_input": "2022-07-12T13:07:11.497740Z",
     "iopub.status.busy": "2022-07-12T13:07:11.496523Z",
     "iopub.status.idle": "2022-07-12T13:07:11.508838Z",
     "shell.execute_reply": "2022-07-12T13:07:11.507156Z"
    },
    "papermill": {
     "duration": 0.020399,
     "end_time": "2022-07-12T13:07:11.512335",
     "exception": false,
     "start_time": "2022-07-12T13:07:11.491936",
     "status": "completed"
    },
    "tags": []
   },
   "outputs": [
    {
     "data": {
      "text/html": [
       "'Using eQTL model: MASHR'"
      ],
      "text/latex": [
       "'Using eQTL model: MASHR'"
      ],
      "text/markdown": [
       "'Using eQTL model: MASHR'"
      ],
      "text/plain": [
       "[1] \"Using eQTL model: MASHR\""
      ]
     },
     "metadata": {},
     "output_type": "display_data"
    }
   ],
   "source": [
    "paste0(\"Using eQTL model: \", EQTL_MODEL)"
   ]
  },
  {
   "cell_type": "code",
   "execution_count": 6,
   "id": "5243676f-c889-4405-9a4d-262f0f044614",
   "metadata": {
    "execution": {
     "iopub.execute_input": "2022-07-12T13:07:11.522385Z",
     "iopub.status.busy": "2022-07-12T13:07:11.521100Z",
     "iopub.status.idle": "2022-07-12T13:07:11.531476Z",
     "shell.execute_reply": "2022-07-12T13:07:11.530177Z"
    },
    "papermill": {
     "duration": 0.017231,
     "end_time": "2022-07-12T13:07:11.533367",
     "exception": false,
     "start_time": "2022-07-12T13:07:11.516136",
     "status": "completed"
    },
    "tags": []
   },
   "outputs": [],
   "source": [
    "# chromosome must be provided as parameter\n",
    "stopifnot(!is.null(chromosome))"
   ]
  },
  {
   "cell_type": "markdown",
   "id": "c05e4d34-e115-48cd-8a2e-225109eb0042",
   "metadata": {
    "papermill": {
     "duration": 0.003955,
     "end_time": "2022-07-12T13:07:11.541419",
     "exception": false,
     "start_time": "2022-07-12T13:07:11.537464",
     "status": "completed"
    },
    "tags": []
   },
   "source": [
    "# Paths"
   ]
  },
  {
   "cell_type": "code",
   "execution_count": 7,
   "id": "eb6aa8aa-b452-4a2f-a780-93dd80ad4285",
   "metadata": {
    "execution": {
     "iopub.execute_input": "2022-07-12T13:07:11.551518Z",
     "iopub.status.busy": "2022-07-12T13:07:11.550397Z",
     "iopub.status.idle": "2022-07-12T13:07:11.564255Z",
     "shell.execute_reply": "2022-07-12T13:07:11.562914Z"
    },
    "papermill": {
     "duration": 0.020612,
     "end_time": "2022-07-12T13:07:11.566062",
     "exception": false,
     "start_time": "2022-07-12T13:07:11.545450",
     "status": "completed"
    },
    "tags": []
   },
   "outputs": [
    {
     "data": {
      "text/html": [
       "'/opt/data/data/phenomexcan/ld_blocks/gene_corrs'"
      ],
      "text/latex": [
       "'/opt/data/data/phenomexcan/ld\\_blocks/gene\\_corrs'"
      ],
      "text/markdown": [
       "'/opt/data/data/phenomexcan/ld_blocks/gene_corrs'"
      ],
      "text/plain": [
       "[1] \"/opt/data/data/phenomexcan/ld_blocks/gene_corrs\""
      ]
     },
     "metadata": {},
     "output_type": "display_data"
    }
   ],
   "source": [
    "GENE_CORRS_DIR <- Sys.getenv(\"PHENOPLIER_PHENOMEXCAN_LD_BLOCKS_GENE_CORRS_DIR\")\n",
    "IRdisplay::display(GENE_CORRS_DIR)"
   ]
  },
  {
   "cell_type": "code",
   "execution_count": 8,
   "id": "eb24f15f-f282-4476-8943-8413c4483f12",
   "metadata": {
    "execution": {
     "iopub.execute_input": "2022-07-12T13:07:11.576424Z",
     "iopub.status.busy": "2022-07-12T13:07:11.575235Z",
     "iopub.status.idle": "2022-07-12T13:07:11.588924Z",
     "shell.execute_reply": "2022-07-12T13:07:11.587625Z"
    },
    "papermill": {
     "duration": 0.020637,
     "end_time": "2022-07-12T13:07:11.590762",
     "exception": false,
     "start_time": "2022-07-12T13:07:11.570125",
     "status": "completed"
    },
    "tags": []
   },
   "outputs": [
    {
     "data": {
      "text/html": [
       "'/opt/data/data/phenomexcan/ld_blocks/gene_corrs/1000g/mashr/by_chr'"
      ],
      "text/latex": [
       "'/opt/data/data/phenomexcan/ld\\_blocks/gene\\_corrs/1000g/mashr/by\\_chr'"
      ],
      "text/markdown": [
       "'/opt/data/data/phenomexcan/ld_blocks/gene_corrs/1000g/mashr/by_chr'"
      ],
      "text/plain": [
       "[1] \"/opt/data/data/phenomexcan/ld_blocks/gene_corrs/1000g/mashr/by_chr\""
      ]
     },
     "metadata": {},
     "output_type": "display_data"
    }
   ],
   "source": [
    "INPUT_DIR <- file.path(GENE_CORRS_DIR, tolower(REFERENCE_PANEL), tolower(EQTL_MODEL), \"by_chr\")\n",
    "IRdisplay::display(INPUT_DIR)"
   ]
  },
  {
   "cell_type": "code",
   "execution_count": 9,
   "id": "43c1daba-0da9-4822-8d1e-968e9767e251",
   "metadata": {
    "execution": {
     "iopub.execute_input": "2022-07-12T13:07:11.601563Z",
     "iopub.status.busy": "2022-07-12T13:07:11.600452Z",
     "iopub.status.idle": "2022-07-12T13:07:11.615590Z",
     "shell.execute_reply": "2022-07-12T13:07:11.614313Z"
    },
    "papermill": {
     "duration": 0.022172,
     "end_time": "2022-07-12T13:07:11.617406",
     "exception": false,
     "start_time": "2022-07-12T13:07:11.595234",
     "status": "completed"
    },
    "tags": []
   },
   "outputs": [
    {
     "data": {
      "text/html": [
       "'/opt/data/data/phenomexcan/ld_blocks/gene_corrs/1000g/mashr/by_chr/gene_corrs-chr4.pkl'"
      ],
      "text/latex": [
       "'/opt/data/data/phenomexcan/ld\\_blocks/gene\\_corrs/1000g/mashr/by\\_chr/gene\\_corrs-chr4.pkl'"
      ],
      "text/markdown": [
       "'/opt/data/data/phenomexcan/ld_blocks/gene_corrs/1000g/mashr/by_chr/gene_corrs-chr4.pkl'"
      ],
      "text/plain": [
       "[1] \"/opt/data/data/phenomexcan/ld_blocks/gene_corrs/1000g/mashr/by_chr/gene_corrs-chr4.pkl\""
      ]
     },
     "metadata": {},
     "output_type": "display_data"
    }
   ],
   "source": [
    "INPUT_FILE <- file.path(INPUT_DIR, paste0(\"gene_corrs-chr\", chromosome, \".pkl\"))\n",
    "IRdisplay::display(INPUT_FILE)\n",
    "stopifnot(file.exists(INPUT_FILE))"
   ]
  },
  {
   "cell_type": "code",
   "execution_count": 10,
   "id": "72386fbf-982b-420a-9057-ea9a97a5e571",
   "metadata": {
    "execution": {
     "iopub.execute_input": "2022-07-12T13:07:11.628157Z",
     "iopub.status.busy": "2022-07-12T13:07:11.627005Z",
     "iopub.status.idle": "2022-07-12T13:07:11.642194Z",
     "shell.execute_reply": "2022-07-12T13:07:11.640867Z"
    },
    "papermill": {
     "duration": 0.02227,
     "end_time": "2022-07-12T13:07:11.644052",
     "exception": false,
     "start_time": "2022-07-12T13:07:11.621782",
     "status": "completed"
    },
    "tags": []
   },
   "outputs": [
    {
     "data": {
      "text/html": [
       "'/opt/data/data/phenomexcan/ld_blocks/gene_corrs/1000g/mashr/by_chr/corrected_positive_definite'"
      ],
      "text/latex": [
       "'/opt/data/data/phenomexcan/ld\\_blocks/gene\\_corrs/1000g/mashr/by\\_chr/corrected\\_positive\\_definite'"
      ],
      "text/markdown": [
       "'/opt/data/data/phenomexcan/ld_blocks/gene_corrs/1000g/mashr/by_chr/corrected_positive_definite'"
      ],
      "text/plain": [
       "[1] \"/opt/data/data/phenomexcan/ld_blocks/gene_corrs/1000g/mashr/by_chr/corrected_positive_definite\""
      ]
     },
     "metadata": {},
     "output_type": "display_data"
    }
   ],
   "source": [
    "OUTPUT_DIR <- file.path(INPUT_DIR, \"corrected_positive_definite\")\n",
    "IRdisplay::display(OUTPUT_DIR)\n",
    "dir.create(OUTPUT_DIR, recursive = TRUE, showWarnings = FALSE)"
   ]
  },
  {
   "cell_type": "code",
   "execution_count": 11,
   "id": "f9f19d1d-ce4c-4099-a26e-250fec751de7",
   "metadata": {
    "execution": {
     "iopub.execute_input": "2022-07-12T13:07:11.655182Z",
     "iopub.status.busy": "2022-07-12T13:07:11.654139Z",
     "iopub.status.idle": "2022-07-12T13:07:11.669194Z",
     "shell.execute_reply": "2022-07-12T13:07:11.667867Z"
    },
    "papermill": {
     "duration": 0.022312,
     "end_time": "2022-07-12T13:07:11.671065",
     "exception": false,
     "start_time": "2022-07-12T13:07:11.648753",
     "status": "completed"
    },
    "tags": []
   },
   "outputs": [
    {
     "data": {
      "text/html": [
       "'/opt/data/data/phenomexcan/ld_blocks/gene_corrs/1000g/mashr/by_chr/corrected_positive_definite/gene_corrs-chr4.pkl'"
      ],
      "text/latex": [
       "'/opt/data/data/phenomexcan/ld\\_blocks/gene\\_corrs/1000g/mashr/by\\_chr/corrected\\_positive\\_definite/gene\\_corrs-chr4.pkl'"
      ],
      "text/markdown": [
       "'/opt/data/data/phenomexcan/ld_blocks/gene_corrs/1000g/mashr/by_chr/corrected_positive_definite/gene_corrs-chr4.pkl'"
      ],
      "text/plain": [
       "[1] \"/opt/data/data/phenomexcan/ld_blocks/gene_corrs/1000g/mashr/by_chr/corrected_positive_definite/gene_corrs-chr4.pkl\""
      ]
     },
     "metadata": {},
     "output_type": "display_data"
    }
   ],
   "source": [
    "OUTPUT_FILE <- file.path(OUTPUT_DIR, paste0(\"gene_corrs-chr\", chromosome, \".pkl\"))\n",
    "IRdisplay::display(OUTPUT_FILE)\n",
    "if (file.exists(OUTPUT_FILE)) {\n",
    "  IRdisplay::display(\"Output file exists, it will be overwritten\")\n",
    "}"
   ]
  },
  {
   "cell_type": "markdown",
   "id": "24973e62-e888-4b56-843f-489d8d0762b5",
   "metadata": {
    "papermill": {
     "duration": 0.004629,
     "end_time": "2022-07-12T13:07:11.680331",
     "exception": false,
     "start_time": "2022-07-12T13:07:11.675702",
     "status": "completed"
    },
    "tags": []
   },
   "source": [
    "# Functions"
   ]
  },
  {
   "cell_type": "code",
   "execution_count": 12,
   "id": "f828f081-7358-4cc8-8a89-1ee293bcc1a7",
   "metadata": {
    "execution": {
     "iopub.execute_input": "2022-07-12T13:07:11.695435Z",
     "iopub.status.busy": "2022-07-12T13:07:11.691039Z",
     "iopub.status.idle": "2022-07-12T13:07:11.704589Z",
     "shell.execute_reply": "2022-07-12T13:07:11.703292Z"
    },
    "papermill": {
     "duration": 0.021083,
     "end_time": "2022-07-12T13:07:11.706423",
     "exception": false,
     "start_time": "2022-07-12T13:07:11.685340",
     "status": "completed"
    },
    "tags": []
   },
   "outputs": [],
   "source": [
    "# taken from https://www.r-bloggers.com/2013/08/correcting-a-pseudo-correlation-matrix-to-be-positive-semidefinite/\n",
    "# TODO: add documentation\n",
    "CorrectCM <- function(CM, p = 0) {\n",
    "  n <- dim(var(CM))[1L]\n",
    "  E <- eigen(CM)\n",
    "  CM1 <- E$vectors %*% tcrossprod(diag(pmax(E$values, p), n), E$vectors)\n",
    "  Balance <- diag(1 / sqrt(diag(CM1)))\n",
    "  CM2 <- Balance %*% CM1 %*% Balance\n",
    "  return(CM2)\n",
    "}"
   ]
  },
  {
   "cell_type": "code",
   "execution_count": 13,
   "id": "7ab9bebf-50a1-4e6f-b16a-e23cae93d02a",
   "metadata": {
    "execution": {
     "iopub.execute_input": "2022-07-12T13:07:11.718122Z",
     "iopub.status.busy": "2022-07-12T13:07:11.717039Z",
     "iopub.status.idle": "2022-07-12T13:07:11.726878Z",
     "shell.execute_reply": "2022-07-12T13:07:11.725609Z"
    },
    "papermill": {
     "duration": 0.017528,
     "end_time": "2022-07-12T13:07:11.728717",
     "exception": false,
     "start_time": "2022-07-12T13:07:11.711189",
     "status": "completed"
    },
    "tags": []
   },
   "outputs": [],
   "source": [
    "is_positive_definite <- function(data) {\n",
    "  # eigenvalues <- eigen(data)$values\n",
    "  # nonpositive_eigenvalues <- eigenvalues[eigenvalues <= 0]\n",
    "\n",
    "  cholStatus <- try(u <- chol(data), silent = FALSE)\n",
    "  cholError <- ifelse(class(cholStatus) == \"try-error\", TRUE, FALSE)\n",
    "\n",
    "  if (cholError) {\n",
    "    return(FALSE)\n",
    "  } else {\n",
    "    return(TRUE)\n",
    "  }\n",
    "}"
   ]
  },
  {
   "cell_type": "markdown",
   "id": "7403fd78-00b2-4941-9c07-3c3af1ddc636",
   "metadata": {
    "papermill": {
     "duration": 0.004603,
     "end_time": "2022-07-12T13:07:11.738654",
     "exception": false,
     "start_time": "2022-07-12T13:07:11.734051",
     "status": "completed"
    },
    "tags": []
   },
   "source": [
    "# Load data"
   ]
  },
  {
   "cell_type": "code",
   "execution_count": 14,
   "id": "3a7744e1-2e5a-450e-9dcf-945ec181347d",
   "metadata": {
    "execution": {
     "iopub.execute_input": "2022-07-12T13:07:11.750152Z",
     "iopub.status.busy": "2022-07-12T13:07:11.749029Z",
     "iopub.status.idle": "2022-07-12T13:07:11.791809Z",
     "shell.execute_reply": "2022-07-12T13:07:11.790529Z"
    },
    "papermill": {
     "duration": 0.050161,
     "end_time": "2022-07-12T13:07:11.793462",
     "exception": false,
     "start_time": "2022-07-12T13:07:11.743301",
     "status": "completed"
    },
    "tags": []
   },
   "outputs": [],
   "source": [
    "gene_corrs <- pd$read_pickle(INPUT_FILE)"
   ]
  },
  {
   "cell_type": "code",
   "execution_count": 15,
   "id": "6fb150b2-4c68-4e9b-9aa5-1890d3f762e3",
   "metadata": {
    "execution": {
     "iopub.execute_input": "2022-07-12T13:07:11.804949Z",
     "iopub.status.busy": "2022-07-12T13:07:11.803881Z",
     "iopub.status.idle": "2022-07-12T13:07:11.815681Z",
     "shell.execute_reply": "2022-07-12T13:07:11.814440Z"
    },
    "papermill": {
     "duration": 0.019202,
     "end_time": "2022-07-12T13:07:11.817397",
     "exception": false,
     "start_time": "2022-07-12T13:07:11.798195",
     "status": "completed"
    },
    "tags": []
   },
   "outputs": [
    {
     "data": {
      "text/html": [
       "<style>\n",
       ".list-inline {list-style: none; margin:0; padding: 0}\n",
       ".list-inline>li {display: inline-block}\n",
       ".list-inline>li:not(:last-child)::after {content: \"\\00b7\"; padding: 0 .5ex}\n",
       "</style>\n",
       "<ol class=list-inline><li>244</li><li>244</li></ol>\n"
      ],
      "text/latex": [
       "\\begin{enumerate*}\n",
       "\\item 244\n",
       "\\item 244\n",
       "\\end{enumerate*}\n"
      ],
      "text/markdown": [
       "1. 244\n",
       "2. 244\n",
       "\n",
       "\n"
      ],
      "text/plain": [
       "[1] 244 244"
      ]
     },
     "metadata": {},
     "output_type": "display_data"
    }
   ],
   "source": [
    "dim(gene_corrs)"
   ]
  },
  {
   "cell_type": "code",
   "execution_count": 16,
   "id": "0d4e53b5-7586-4a68-8ce5-d930d74ba943",
   "metadata": {
    "execution": {
     "iopub.execute_input": "2022-07-12T13:07:11.833573Z",
     "iopub.status.busy": "2022-07-12T13:07:11.832533Z",
     "iopub.status.idle": "2022-07-12T13:07:11.856119Z",
     "shell.execute_reply": "2022-07-12T13:07:11.852651Z"
    },
    "papermill": {
     "duration": 0.036009,
     "end_time": "2022-07-12T13:07:11.858126",
     "exception": false,
     "start_time": "2022-07-12T13:07:11.822117",
     "status": "completed"
    },
    "tags": []
   },
   "outputs": [
    {
     "data": {
      "text/html": [
       "<table class=\"dataframe\">\n",
       "<caption>A data.frame: 6 × 10</caption>\n",
       "<thead>\n",
       "\t<tr><th></th><th scope=col>ENSG00000272602</th><th scope=col>ENSG00000131127</th><th scope=col>ENSG00000174227</th><th scope=col>ENSG00000133256</th><th scope=col>ENSG00000169020</th><th scope=col>ENSG00000215375</th><th scope=col>ENSG00000169026</th><th scope=col>ENSG00000178950</th><th scope=col>ENSG00000145214</th><th scope=col>ENSG00000145217</th></tr>\n",
       "\t<tr><th></th><th scope=col>&lt;dbl&gt;</th><th scope=col>&lt;dbl&gt;</th><th scope=col>&lt;dbl&gt;</th><th scope=col>&lt;dbl&gt;</th><th scope=col>&lt;dbl&gt;</th><th scope=col>&lt;dbl&gt;</th><th scope=col>&lt;dbl&gt;</th><th scope=col>&lt;dbl&gt;</th><th scope=col>&lt;dbl&gt;</th><th scope=col>&lt;dbl&gt;</th></tr>\n",
       "</thead>\n",
       "<tbody>\n",
       "\t<tr><th scope=row>ENSG00000272602</th><td>1.00000000</td><td>0.05596291</td><td>0.19084806</td><td>0.08895270</td><td>0.09710418</td><td>0.03849587</td><td>0.03940656</td><td>0.01708481</td><td>0.010274400</td><td>8.550148e-03</td></tr>\n",
       "\t<tr><th scope=row>ENSG00000131127</th><td>0.05596291</td><td>1.00000000</td><td>0.33248968</td><td>0.07411937</td><td>0.02910827</td><td>0.02653667</td><td>0.03169595</td><td>0.01760891</td><td>0.019846403</td><td>4.169103e-03</td></tr>\n",
       "\t<tr><th scope=row>ENSG00000174227</th><td>0.19084806</td><td>0.33248968</td><td>1.00000000</td><td>0.29288585</td><td>0.18047385</td><td>0.07607521</td><td>0.09188525</td><td>0.01906973</td><td>0.014028430</td><td>1.120749e-02</td></tr>\n",
       "\t<tr><th scope=row>ENSG00000133256</th><td>0.08895270</td><td>0.07411937</td><td>0.29288585</td><td>1.00000000</td><td>0.29457601</td><td>0.21359652</td><td>0.25694279</td><td>0.01797304</td><td>0.011281444</td><td>5.467237e-03</td></tr>\n",
       "\t<tr><th scope=row>ENSG00000169020</th><td>0.09710418</td><td>0.02910827</td><td>0.18047385</td><td>0.29457601</td><td>1.00000000</td><td>0.18135829</td><td>0.20906949</td><td>0.01316028</td><td>0.008778152</td><td>6.124992e-06</td></tr>\n",
       "\t<tr><th scope=row>ENSG00000215375</th><td>0.03849587</td><td>0.02653667</td><td>0.07607521</td><td>0.21359652</td><td>0.18135829</td><td>1.00000000</td><td>0.31666467</td><td>0.01129060</td><td>0.009528100</td><td>2.156902e-03</td></tr>\n",
       "</tbody>\n",
       "</table>\n"
      ],
      "text/latex": [
       "A data.frame: 6 × 10\n",
       "\\begin{tabular}{r|llllllllll}\n",
       "  & ENSG00000272602 & ENSG00000131127 & ENSG00000174227 & ENSG00000133256 & ENSG00000169020 & ENSG00000215375 & ENSG00000169026 & ENSG00000178950 & ENSG00000145214 & ENSG00000145217\\\\\n",
       "  & <dbl> & <dbl> & <dbl> & <dbl> & <dbl> & <dbl> & <dbl> & <dbl> & <dbl> & <dbl>\\\\\n",
       "\\hline\n",
       "\tENSG00000272602 & 1.00000000 & 0.05596291 & 0.19084806 & 0.08895270 & 0.09710418 & 0.03849587 & 0.03940656 & 0.01708481 & 0.010274400 & 8.550148e-03\\\\\n",
       "\tENSG00000131127 & 0.05596291 & 1.00000000 & 0.33248968 & 0.07411937 & 0.02910827 & 0.02653667 & 0.03169595 & 0.01760891 & 0.019846403 & 4.169103e-03\\\\\n",
       "\tENSG00000174227 & 0.19084806 & 0.33248968 & 1.00000000 & 0.29288585 & 0.18047385 & 0.07607521 & 0.09188525 & 0.01906973 & 0.014028430 & 1.120749e-02\\\\\n",
       "\tENSG00000133256 & 0.08895270 & 0.07411937 & 0.29288585 & 1.00000000 & 0.29457601 & 0.21359652 & 0.25694279 & 0.01797304 & 0.011281444 & 5.467237e-03\\\\\n",
       "\tENSG00000169020 & 0.09710418 & 0.02910827 & 0.18047385 & 0.29457601 & 1.00000000 & 0.18135829 & 0.20906949 & 0.01316028 & 0.008778152 & 6.124992e-06\\\\\n",
       "\tENSG00000215375 & 0.03849587 & 0.02653667 & 0.07607521 & 0.21359652 & 0.18135829 & 1.00000000 & 0.31666467 & 0.01129060 & 0.009528100 & 2.156902e-03\\\\\n",
       "\\end{tabular}\n"
      ],
      "text/markdown": [
       "\n",
       "A data.frame: 6 × 10\n",
       "\n",
       "| <!--/--> | ENSG00000272602 &lt;dbl&gt; | ENSG00000131127 &lt;dbl&gt; | ENSG00000174227 &lt;dbl&gt; | ENSG00000133256 &lt;dbl&gt; | ENSG00000169020 &lt;dbl&gt; | ENSG00000215375 &lt;dbl&gt; | ENSG00000169026 &lt;dbl&gt; | ENSG00000178950 &lt;dbl&gt; | ENSG00000145214 &lt;dbl&gt; | ENSG00000145217 &lt;dbl&gt; |\n",
       "|---|---|---|---|---|---|---|---|---|---|---|\n",
       "| ENSG00000272602 | 1.00000000 | 0.05596291 | 0.19084806 | 0.08895270 | 0.09710418 | 0.03849587 | 0.03940656 | 0.01708481 | 0.010274400 | 8.550148e-03 |\n",
       "| ENSG00000131127 | 0.05596291 | 1.00000000 | 0.33248968 | 0.07411937 | 0.02910827 | 0.02653667 | 0.03169595 | 0.01760891 | 0.019846403 | 4.169103e-03 |\n",
       "| ENSG00000174227 | 0.19084806 | 0.33248968 | 1.00000000 | 0.29288585 | 0.18047385 | 0.07607521 | 0.09188525 | 0.01906973 | 0.014028430 | 1.120749e-02 |\n",
       "| ENSG00000133256 | 0.08895270 | 0.07411937 | 0.29288585 | 1.00000000 | 0.29457601 | 0.21359652 | 0.25694279 | 0.01797304 | 0.011281444 | 5.467237e-03 |\n",
       "| ENSG00000169020 | 0.09710418 | 0.02910827 | 0.18047385 | 0.29457601 | 1.00000000 | 0.18135829 | 0.20906949 | 0.01316028 | 0.008778152 | 6.124992e-06 |\n",
       "| ENSG00000215375 | 0.03849587 | 0.02653667 | 0.07607521 | 0.21359652 | 0.18135829 | 1.00000000 | 0.31666467 | 0.01129060 | 0.009528100 | 2.156902e-03 |\n",
       "\n"
      ],
      "text/plain": [
       "                ENSG00000272602 ENSG00000131127 ENSG00000174227 ENSG00000133256\n",
       "ENSG00000272602 1.00000000      0.05596291      0.19084806      0.08895270     \n",
       "ENSG00000131127 0.05596291      1.00000000      0.33248968      0.07411937     \n",
       "ENSG00000174227 0.19084806      0.33248968      1.00000000      0.29288585     \n",
       "ENSG00000133256 0.08895270      0.07411937      0.29288585      1.00000000     \n",
       "ENSG00000169020 0.09710418      0.02910827      0.18047385      0.29457601     \n",
       "ENSG00000215375 0.03849587      0.02653667      0.07607521      0.21359652     \n",
       "                ENSG00000169020 ENSG00000215375 ENSG00000169026 ENSG00000178950\n",
       "ENSG00000272602 0.09710418      0.03849587      0.03940656      0.01708481     \n",
       "ENSG00000131127 0.02910827      0.02653667      0.03169595      0.01760891     \n",
       "ENSG00000174227 0.18047385      0.07607521      0.09188525      0.01906973     \n",
       "ENSG00000133256 0.29457601      0.21359652      0.25694279      0.01797304     \n",
       "ENSG00000169020 1.00000000      0.18135829      0.20906949      0.01316028     \n",
       "ENSG00000215375 0.18135829      1.00000000      0.31666467      0.01129060     \n",
       "                ENSG00000145214 ENSG00000145217\n",
       "ENSG00000272602 0.010274400     8.550148e-03   \n",
       "ENSG00000131127 0.019846403     4.169103e-03   \n",
       "ENSG00000174227 0.014028430     1.120749e-02   \n",
       "ENSG00000133256 0.011281444     5.467237e-03   \n",
       "ENSG00000169020 0.008778152     6.124992e-06   \n",
       "ENSG00000215375 0.009528100     2.156902e-03   "
      ]
     },
     "metadata": {},
     "output_type": "display_data"
    }
   ],
   "source": [
    "head(gene_corrs[1:10, 1:10])"
   ]
  },
  {
   "cell_type": "markdown",
   "id": "d6cbc88a-2c90-4d11-b7dd-434f046fd03c",
   "metadata": {
    "papermill": {
     "duration": 0.005309,
     "end_time": "2022-07-12T13:07:11.869999",
     "exception": false,
     "start_time": "2022-07-12T13:07:11.864690",
     "status": "completed"
    },
    "tags": []
   },
   "source": [
    "# Check positive definiteness"
   ]
  },
  {
   "cell_type": "code",
   "execution_count": 17,
   "id": "a858a061-7c5a-4a6b-8026-fe4de50c1f26",
   "metadata": {
    "execution": {
     "iopub.execute_input": "2022-07-12T13:07:11.884219Z",
     "iopub.status.busy": "2022-07-12T13:07:11.883013Z",
     "iopub.status.idle": "2022-07-12T13:07:11.895258Z",
     "shell.execute_reply": "2022-07-12T13:07:11.893932Z"
    },
    "papermill": {
     "duration": 0.020082,
     "end_time": "2022-07-12T13:07:11.896906",
     "exception": false,
     "start_time": "2022-07-12T13:07:11.876824",
     "status": "completed"
    },
    "tags": []
   },
   "outputs": [],
   "source": [
    "orig_matrix_is_positive_definite <- is_positive_definite(gene_corrs)"
   ]
  },
  {
   "cell_type": "code",
   "execution_count": 18,
   "id": "410ee452-488f-4518-b93a-2acd608ba99c",
   "metadata": {
    "execution": {
     "iopub.execute_input": "2022-07-12T13:07:11.919014Z",
     "iopub.status.busy": "2022-07-12T13:07:11.917914Z",
     "iopub.status.idle": "2022-07-12T13:07:11.938144Z",
     "shell.execute_reply": "2022-07-12T13:07:11.935911Z"
    },
    "papermill": {
     "duration": 0.033853,
     "end_time": "2022-07-12T13:07:11.940055",
     "exception": false,
     "start_time": "2022-07-12T13:07:11.906202",
     "status": "completed"
    },
    "tags": []
   },
   "outputs": [
    {
     "data": {
      "text/html": [
       "'Matrix is already positive definite!'"
      ],
      "text/latex": [
       "'Matrix is already positive definite!'"
      ],
      "text/markdown": [
       "'Matrix is already positive definite!'"
      ],
      "text/plain": [
       "[1] \"Matrix is already positive definite!\""
      ]
     },
     "metadata": {},
     "output_type": "display_data"
    },
    {
     "data": {
      "text/html": [
       "TRUE"
      ],
      "text/latex": [
       "TRUE"
      ],
      "text/markdown": [
       "TRUE"
      ],
      "text/plain": [
       "[1] TRUE"
      ]
     },
     "metadata": {},
     "output_type": "display_data"
    }
   ],
   "source": [
    "if (orig_matrix_is_positive_definite) {\n",
    "  IRdisplay::display(\"Matrix is already positive definite!\")\n",
    "  file.copy(INPUT_FILE, OUTPUT_FILE)\n",
    "} else {\n",
    "  IRdisplay::display(\"We need to correct the data and make the matrix positive definite\")\n",
    "\n",
    "  eigenvalues <- eigen(gene_corrs)$values\n",
    "  nonpositive_eigenvalues <- eigenvalues[eigenvalues <= 0]\n",
    "  IRdisplay::display(length(nonpositive_eigenvalues))\n",
    "  IRdisplay::display(nonpositive_eigenvalues)\n",
    "\n",
    "  # Make matrix positive definite\n",
    "  gene_corrs_corrected <- CorrectCM(gene_corrs, 1e-10)\n",
    "  dimnames(gene_corrs_corrected)[[1]] <- rownames(gene_corrs)\n",
    "  dimnames(gene_corrs_corrected)[[2]] <- colnames(gene_corrs)\n",
    "  gene_corrs_corrected <- as.data.frame(gene_corrs_corrected)\n",
    "\n",
    "  # check if new matrix is really positive definite\n",
    "  matrix_is_positive_definite <- is_positive_definite(gene_corrs_corrected)\n",
    "  if (matrix_is_positive_definite) {\n",
    "    IRdisplay::display(\"It worked!\")\n",
    "    IRdisplay::display(head(gene_corrs[1:10, 1:10]))\n",
    "    IRdisplay::display(head(gene_corrs_corrected[1:10, 1:10]))\n",
    "    py_save_object(gene_corrs_corrected, OUTPUT_FILE)\n",
    "  } else {\n",
    "    eigenvalues <- eigen(gene_corrs_corrected)$values\n",
    "    nonpositive_eigenvalues <- eigenvalues[eigenvalues <= 0]\n",
    "    IRdisplay::display(length(nonpositive_eigenvalues))\n",
    "    IRdisplay::display(nonpositive_eigenvalues)\n",
    "\n",
    "    stop(\"Method failed to adjust matrix\")\n",
    "  }\n",
    "}"
   ]
  },
  {
   "cell_type": "markdown",
   "id": "6c196700-7491-462f-bab8-ab9d40c63499",
   "metadata": {
    "papermill": {
     "duration": 0.005077,
     "end_time": "2022-07-12T13:07:11.950621",
     "exception": false,
     "start_time": "2022-07-12T13:07:11.945544",
     "status": "completed"
    },
    "tags": []
   },
   "source": [
    "Both matrices should \"look\" similar. We are not interested in perfectly accurate correlation values (they are already inaccurate)."
   ]
  },
  {
   "cell_type": "code",
   "execution_count": null,
   "id": "d8ae4220-2171-460c-9231-cd5219f3fe77",
   "metadata": {
    "papermill": {
     "duration": 0.004923,
     "end_time": "2022-07-12T13:07:11.960665",
     "exception": false,
     "start_time": "2022-07-12T13:07:11.955742",
     "status": "completed"
    },
    "tags": []
   },
   "outputs": [],
   "source": []
  }
 ],
 "metadata": {
  "jupytext": {
   "cell_metadata_filter": "all,-execution,-papermill,-trusted"
  },
  "kernelspec": {
   "display_name": "R",
   "language": "R",
   "name": "ir"
  },
  "language_info": {
   "codemirror_mode": "r",
   "file_extension": ".r",
   "mimetype": "text/x-r-source",
   "name": "R",
   "pygments_lexer": "r",
   "version": "3.6.3"
  },
  "papermill": {
   "default_parameters": {},
   "duration": 5.048008,
   "end_time": "2022-07-12T13:07:12.083539",
   "environment_variables": {},
   "exception": null,
   "input_path": "nbs/15_gsa_gls/12-gene_expr_correlations-adjust.ipynb",
   "output_path": "nbs/15_gsa_gls/gene_corrs/1000g/mashr/12-gene_expr_correlations-adjust-chr4.run.ipynb",
   "parameters": {
    "EQTL_MODEL": "MASHR",
    "REFERENCE_PANEL": "1000G",
    "chromosome": 4
   },
   "start_time": "2022-07-12T13:07:07.035531",
   "version": "2.3.4"
  }
 },
 "nbformat": 4,
 "nbformat_minor": 5
}
