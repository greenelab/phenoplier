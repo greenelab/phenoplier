{
 "cells": [
  {
   "cell_type": "markdown",
   "id": "28fc82fa-c3f6-4184-8054-cc91c7c6e2e7",
   "metadata": {
    "papermill": {
     "duration": 0.004403,
     "end_time": "2022-07-12T13:07:08.564548",
     "exception": false,
     "start_time": "2022-07-12T13:07:08.560145",
     "status": "completed"
    },
    "tags": []
   },
   "source": [
    "# Description"
   ]
  },
  {
   "cell_type": "markdown",
   "id": "36839b17-916e-4aec-8fee-96faf1097e78",
   "metadata": {
    "papermill": {
     "duration": 0.00366,
     "end_time": "2022-07-12T13:07:08.572018",
     "exception": false,
     "start_time": "2022-07-12T13:07:08.568358",
     "status": "completed"
    },
    "tags": []
   },
   "source": [
    "**TODO**"
   ]
  },
  {
   "cell_type": "markdown",
   "id": "249e8aa3-ef1a-4bba-a6dd-58120ad80794",
   "metadata": {
    "papermill": {
     "duration": 0.003638,
     "end_time": "2022-07-12T13:07:08.579657",
     "exception": false,
     "start_time": "2022-07-12T13:07:08.576019",
     "status": "completed"
    },
    "tags": []
   },
   "source": [
    "# Modules"
   ]
  },
  {
   "cell_type": "code",
   "execution_count": 1,
   "id": "f9b5022b-7c5e-4d37-9c7a-fdb91777c7f9",
   "metadata": {
    "execution": {
     "iopub.execute_input": "2022-07-12T13:07:08.590075Z",
     "iopub.status.busy": "2022-07-12T13:07:08.588274Z",
     "iopub.status.idle": "2022-07-12T13:07:11.854919Z",
     "shell.execute_reply": "2022-07-12T13:07:11.852574Z"
    },
    "papermill": {
     "duration": 3.273679,
     "end_time": "2022-07-12T13:07:11.856962",
     "exception": false,
     "start_time": "2022-07-12T13:07:08.583283",
     "status": "completed"
    },
    "tags": []
   },
   "outputs": [],
   "source": [
    "library(reticulate)\n",
    "pd <- import(\"pandas\")"
   ]
  },
  {
   "cell_type": "markdown",
   "id": "69e80173-3a39-4b6a-b723-602687cb255b",
   "metadata": {
    "papermill": {
     "duration": 0.004642,
     "end_time": "2022-07-12T13:07:11.867488",
     "exception": false,
     "start_time": "2022-07-12T13:07:11.862846",
     "status": "completed"
    },
    "tags": []
   },
   "source": [
    "# Settings"
   ]
  },
  {
   "cell_type": "code",
   "execution_count": 2,
   "id": "22d12bb4-1699-4a6b-b1b9-d3fdd3d547d7",
   "metadata": {
    "execution": {
     "iopub.execute_input": "2022-07-12T13:07:11.902657Z",
     "iopub.status.busy": "2022-07-12T13:07:11.877488Z",
     "iopub.status.idle": "2022-07-12T13:07:11.916452Z",
     "shell.execute_reply": "2022-07-12T13:07:11.914467Z"
    },
    "papermill": {
     "duration": 0.046927,
     "end_time": "2022-07-12T13:07:11.918288",
     "exception": false,
     "start_time": "2022-07-12T13:07:11.871361",
     "status": "completed"
    },
    "tags": [
     "parameters"
    ]
   },
   "outputs": [],
   "source": [
    "# reference panel\n",
    "REFERENCE_PANEL <- \"GTEX_V8\"\n",
    "# REFERENCE_PANEL = \"1000G\"\n",
    "\n",
    "# prediction models\n",
    "## mashr\n",
    "EQTL_MODEL <- \"MASHR\"\n",
    "\n",
    "chromosome <- NULL"
   ]
  },
  {
   "cell_type": "code",
   "execution_count": 3,
   "id": "621b2c54",
   "metadata": {
    "execution": {
     "iopub.execute_input": "2022-07-12T13:07:11.927590Z",
     "iopub.status.busy": "2022-07-12T13:07:11.926459Z",
     "iopub.status.idle": "2022-07-12T13:07:11.944393Z",
     "shell.execute_reply": "2022-07-12T13:07:11.943103Z"
    },
    "papermill": {
     "duration": 0.024315,
     "end_time": "2022-07-12T13:07:11.946153",
     "exception": false,
     "start_time": "2022-07-12T13:07:11.921838",
     "status": "completed"
    },
    "tags": [
     "injected-parameters"
    ]
   },
   "outputs": [],
   "source": [
    "# Parameters\n",
    "chromosome = 6\n",
    "REFERENCE_PANEL = \"1000G\"\n",
    "EQTL_MODEL = \"MASHR\"\n"
   ]
  },
  {
   "cell_type": "code",
   "execution_count": 4,
   "id": "8fe24bef",
   "metadata": {
    "execution": {
     "iopub.execute_input": "2022-07-12T13:07:11.955286Z",
     "iopub.status.busy": "2022-07-12T13:07:11.954242Z",
     "iopub.status.idle": "2022-07-12T13:07:11.970929Z",
     "shell.execute_reply": "2022-07-12T13:07:11.968974Z"
    },
    "papermill": {
     "duration": 0.023023,
     "end_time": "2022-07-12T13:07:11.972686",
     "exception": false,
     "start_time": "2022-07-12T13:07:11.949663",
     "status": "completed"
    },
    "tags": []
   },
   "outputs": [
    {
     "data": {
      "text/html": [
       "'Using reference panel: 1000G'"
      ],
      "text/latex": [
       "'Using reference panel: 1000G'"
      ],
      "text/markdown": [
       "'Using reference panel: 1000G'"
      ],
      "text/plain": [
       "[1] \"Using reference panel: 1000G\""
      ]
     },
     "metadata": {},
     "output_type": "display_data"
    }
   ],
   "source": [
    "paste0(\"Using reference panel: \", REFERENCE_PANEL)"
   ]
  },
  {
   "cell_type": "code",
   "execution_count": 5,
   "id": "d62c28f8-186c-478b-948c-58e14f00df4b",
   "metadata": {
    "execution": {
     "iopub.execute_input": "2022-07-12T13:07:11.982284Z",
     "iopub.status.busy": "2022-07-12T13:07:11.981245Z",
     "iopub.status.idle": "2022-07-12T13:07:11.992671Z",
     "shell.execute_reply": "2022-07-12T13:07:11.991411Z"
    },
    "papermill": {
     "duration": 0.017893,
     "end_time": "2022-07-12T13:07:11.994443",
     "exception": false,
     "start_time": "2022-07-12T13:07:11.976550",
     "status": "completed"
    },
    "tags": []
   },
   "outputs": [
    {
     "data": {
      "text/html": [
       "'Using eQTL model: MASHR'"
      ],
      "text/latex": [
       "'Using eQTL model: MASHR'"
      ],
      "text/markdown": [
       "'Using eQTL model: MASHR'"
      ],
      "text/plain": [
       "[1] \"Using eQTL model: MASHR\""
      ]
     },
     "metadata": {},
     "output_type": "display_data"
    }
   ],
   "source": [
    "paste0(\"Using eQTL model: \", EQTL_MODEL)"
   ]
  },
  {
   "cell_type": "code",
   "execution_count": 6,
   "id": "5243676f-c889-4405-9a4d-262f0f044614",
   "metadata": {
    "execution": {
     "iopub.execute_input": "2022-07-12T13:07:12.004810Z",
     "iopub.status.busy": "2022-07-12T13:07:12.003722Z",
     "iopub.status.idle": "2022-07-12T13:07:12.014485Z",
     "shell.execute_reply": "2022-07-12T13:07:12.013182Z"
    },
    "papermill": {
     "duration": 0.017623,
     "end_time": "2022-07-12T13:07:12.016100",
     "exception": false,
     "start_time": "2022-07-12T13:07:11.998477",
     "status": "completed"
    },
    "tags": []
   },
   "outputs": [],
   "source": [
    "# chromosome must be provided as parameter\n",
    "stopifnot(!is.null(chromosome))"
   ]
  },
  {
   "cell_type": "markdown",
   "id": "c05e4d34-e115-48cd-8a2e-225109eb0042",
   "metadata": {
    "papermill": {
     "duration": 0.003791,
     "end_time": "2022-07-12T13:07:12.023764",
     "exception": false,
     "start_time": "2022-07-12T13:07:12.019973",
     "status": "completed"
    },
    "tags": []
   },
   "source": [
    "# Paths"
   ]
  },
  {
   "cell_type": "code",
   "execution_count": 7,
   "id": "eb6aa8aa-b452-4a2f-a780-93dd80ad4285",
   "metadata": {
    "execution": {
     "iopub.execute_input": "2022-07-12T13:07:12.033015Z",
     "iopub.status.busy": "2022-07-12T13:07:12.032007Z",
     "iopub.status.idle": "2022-07-12T13:07:12.044281Z",
     "shell.execute_reply": "2022-07-12T13:07:12.043065Z"
    },
    "papermill": {
     "duration": 0.018349,
     "end_time": "2022-07-12T13:07:12.045784",
     "exception": false,
     "start_time": "2022-07-12T13:07:12.027435",
     "status": "completed"
    },
    "tags": []
   },
   "outputs": [
    {
     "data": {
      "text/html": [
       "'/opt/data/data/phenomexcan/ld_blocks/gene_corrs'"
      ],
      "text/latex": [
       "'/opt/data/data/phenomexcan/ld\\_blocks/gene\\_corrs'"
      ],
      "text/markdown": [
       "'/opt/data/data/phenomexcan/ld_blocks/gene_corrs'"
      ],
      "text/plain": [
       "[1] \"/opt/data/data/phenomexcan/ld_blocks/gene_corrs\""
      ]
     },
     "metadata": {},
     "output_type": "display_data"
    }
   ],
   "source": [
    "GENE_CORRS_DIR <- Sys.getenv(\"PHENOPLIER_PHENOMEXCAN_LD_BLOCKS_GENE_CORRS_DIR\")\n",
    "IRdisplay::display(GENE_CORRS_DIR)"
   ]
  },
  {
   "cell_type": "code",
   "execution_count": 8,
   "id": "eb24f15f-f282-4476-8943-8413c4483f12",
   "metadata": {
    "execution": {
     "iopub.execute_input": "2022-07-12T13:07:12.054991Z",
     "iopub.status.busy": "2022-07-12T13:07:12.054065Z",
     "iopub.status.idle": "2022-07-12T13:07:12.065658Z",
     "shell.execute_reply": "2022-07-12T13:07:12.064515Z"
    },
    "papermill": {
     "duration": 0.017531,
     "end_time": "2022-07-12T13:07:12.067045",
     "exception": false,
     "start_time": "2022-07-12T13:07:12.049514",
     "status": "completed"
    },
    "tags": []
   },
   "outputs": [
    {
     "data": {
      "text/html": [
       "'/opt/data/data/phenomexcan/ld_blocks/gene_corrs/1000g/mashr/by_chr'"
      ],
      "text/latex": [
       "'/opt/data/data/phenomexcan/ld\\_blocks/gene\\_corrs/1000g/mashr/by\\_chr'"
      ],
      "text/markdown": [
       "'/opt/data/data/phenomexcan/ld_blocks/gene_corrs/1000g/mashr/by_chr'"
      ],
      "text/plain": [
       "[1] \"/opt/data/data/phenomexcan/ld_blocks/gene_corrs/1000g/mashr/by_chr\""
      ]
     },
     "metadata": {},
     "output_type": "display_data"
    }
   ],
   "source": [
    "INPUT_DIR <- file.path(GENE_CORRS_DIR, tolower(REFERENCE_PANEL), tolower(EQTL_MODEL), \"by_chr\")\n",
    "IRdisplay::display(INPUT_DIR)"
   ]
  },
  {
   "cell_type": "code",
   "execution_count": 9,
   "id": "43c1daba-0da9-4822-8d1e-968e9767e251",
   "metadata": {
    "execution": {
     "iopub.execute_input": "2022-07-12T13:07:12.076257Z",
     "iopub.status.busy": "2022-07-12T13:07:12.075283Z",
     "iopub.status.idle": "2022-07-12T13:07:12.092288Z",
     "shell.execute_reply": "2022-07-12T13:07:12.091155Z"
    },
    "papermill": {
     "duration": 0.023155,
     "end_time": "2022-07-12T13:07:12.093947",
     "exception": false,
     "start_time": "2022-07-12T13:07:12.070792",
     "status": "completed"
    },
    "tags": []
   },
   "outputs": [
    {
     "data": {
      "text/html": [
       "'/opt/data/data/phenomexcan/ld_blocks/gene_corrs/1000g/mashr/by_chr/gene_corrs-chr6.pkl'"
      ],
      "text/latex": [
       "'/opt/data/data/phenomexcan/ld\\_blocks/gene\\_corrs/1000g/mashr/by\\_chr/gene\\_corrs-chr6.pkl'"
      ],
      "text/markdown": [
       "'/opt/data/data/phenomexcan/ld_blocks/gene_corrs/1000g/mashr/by_chr/gene_corrs-chr6.pkl'"
      ],
      "text/plain": [
       "[1] \"/opt/data/data/phenomexcan/ld_blocks/gene_corrs/1000g/mashr/by_chr/gene_corrs-chr6.pkl\""
      ]
     },
     "metadata": {},
     "output_type": "display_data"
    }
   ],
   "source": [
    "INPUT_FILE <- file.path(INPUT_DIR, paste0(\"gene_corrs-chr\", chromosome, \".pkl\"))\n",
    "IRdisplay::display(INPUT_FILE)\n",
    "stopifnot(file.exists(INPUT_FILE))"
   ]
  },
  {
   "cell_type": "code",
   "execution_count": 10,
   "id": "72386fbf-982b-420a-9057-ea9a97a5e571",
   "metadata": {
    "execution": {
     "iopub.execute_input": "2022-07-12T13:07:12.104932Z",
     "iopub.status.busy": "2022-07-12T13:07:12.103774Z",
     "iopub.status.idle": "2022-07-12T13:07:12.119263Z",
     "shell.execute_reply": "2022-07-12T13:07:12.117991Z"
    },
    "papermill": {
     "duration": 0.02302,
     "end_time": "2022-07-12T13:07:12.121157",
     "exception": false,
     "start_time": "2022-07-12T13:07:12.098137",
     "status": "completed"
    },
    "tags": []
   },
   "outputs": [
    {
     "data": {
      "text/html": [
       "'/opt/data/data/phenomexcan/ld_blocks/gene_corrs/1000g/mashr/by_chr/corrected_positive_definite'"
      ],
      "text/latex": [
       "'/opt/data/data/phenomexcan/ld\\_blocks/gene\\_corrs/1000g/mashr/by\\_chr/corrected\\_positive\\_definite'"
      ],
      "text/markdown": [
       "'/opt/data/data/phenomexcan/ld_blocks/gene_corrs/1000g/mashr/by_chr/corrected_positive_definite'"
      ],
      "text/plain": [
       "[1] \"/opt/data/data/phenomexcan/ld_blocks/gene_corrs/1000g/mashr/by_chr/corrected_positive_definite\""
      ]
     },
     "metadata": {},
     "output_type": "display_data"
    }
   ],
   "source": [
    "OUTPUT_DIR <- file.path(INPUT_DIR, \"corrected_positive_definite\")\n",
    "IRdisplay::display(OUTPUT_DIR)\n",
    "dir.create(OUTPUT_DIR, recursive = TRUE, showWarnings = FALSE)"
   ]
  },
  {
   "cell_type": "code",
   "execution_count": 11,
   "id": "f9f19d1d-ce4c-4099-a26e-250fec751de7",
   "metadata": {
    "execution": {
     "iopub.execute_input": "2022-07-12T13:07:12.133044Z",
     "iopub.status.busy": "2022-07-12T13:07:12.131923Z",
     "iopub.status.idle": "2022-07-12T13:07:12.147258Z",
     "shell.execute_reply": "2022-07-12T13:07:12.145977Z"
    },
    "papermill": {
     "duration": 0.023093,
     "end_time": "2022-07-12T13:07:12.149076",
     "exception": false,
     "start_time": "2022-07-12T13:07:12.125983",
     "status": "completed"
    },
    "tags": []
   },
   "outputs": [
    {
     "data": {
      "text/html": [
       "'/opt/data/data/phenomexcan/ld_blocks/gene_corrs/1000g/mashr/by_chr/corrected_positive_definite/gene_corrs-chr6.pkl'"
      ],
      "text/latex": [
       "'/opt/data/data/phenomexcan/ld\\_blocks/gene\\_corrs/1000g/mashr/by\\_chr/corrected\\_positive\\_definite/gene\\_corrs-chr6.pkl'"
      ],
      "text/markdown": [
       "'/opt/data/data/phenomexcan/ld_blocks/gene_corrs/1000g/mashr/by_chr/corrected_positive_definite/gene_corrs-chr6.pkl'"
      ],
      "text/plain": [
       "[1] \"/opt/data/data/phenomexcan/ld_blocks/gene_corrs/1000g/mashr/by_chr/corrected_positive_definite/gene_corrs-chr6.pkl\""
      ]
     },
     "metadata": {},
     "output_type": "display_data"
    }
   ],
   "source": [
    "OUTPUT_FILE <- file.path(OUTPUT_DIR, paste0(\"gene_corrs-chr\", chromosome, \".pkl\"))\n",
    "IRdisplay::display(OUTPUT_FILE)\n",
    "if (file.exists(OUTPUT_FILE)) {\n",
    "  IRdisplay::display(\"Output file exists, it will be overwritten\")\n",
    "}"
   ]
  },
  {
   "cell_type": "markdown",
   "id": "24973e62-e888-4b56-843f-489d8d0762b5",
   "metadata": {
    "papermill": {
     "duration": 0.004644,
     "end_time": "2022-07-12T13:07:12.158522",
     "exception": false,
     "start_time": "2022-07-12T13:07:12.153878",
     "status": "completed"
    },
    "tags": []
   },
   "source": [
    "# Functions"
   ]
  },
  {
   "cell_type": "code",
   "execution_count": 12,
   "id": "f828f081-7358-4cc8-8a89-1ee293bcc1a7",
   "metadata": {
    "execution": {
     "iopub.execute_input": "2022-07-12T13:07:12.173785Z",
     "iopub.status.busy": "2022-07-12T13:07:12.169430Z",
     "iopub.status.idle": "2022-07-12T13:07:12.183034Z",
     "shell.execute_reply": "2022-07-12T13:07:12.181736Z"
    },
    "papermill": {
     "duration": 0.021304,
     "end_time": "2022-07-12T13:07:12.184799",
     "exception": false,
     "start_time": "2022-07-12T13:07:12.163495",
     "status": "completed"
    },
    "tags": []
   },
   "outputs": [],
   "source": [
    "# taken from https://www.r-bloggers.com/2013/08/correcting-a-pseudo-correlation-matrix-to-be-positive-semidefinite/\n",
    "# TODO: add documentation\n",
    "CorrectCM <- function(CM, p = 0) {\n",
    "  n <- dim(var(CM))[1L]\n",
    "  E <- eigen(CM)\n",
    "  CM1 <- E$vectors %*% tcrossprod(diag(pmax(E$values, p), n), E$vectors)\n",
    "  Balance <- diag(1 / sqrt(diag(CM1)))\n",
    "  CM2 <- Balance %*% CM1 %*% Balance\n",
    "  return(CM2)\n",
    "}"
   ]
  },
  {
   "cell_type": "code",
   "execution_count": 13,
   "id": "7ab9bebf-50a1-4e6f-b16a-e23cae93d02a",
   "metadata": {
    "execution": {
     "iopub.execute_input": "2022-07-12T13:07:12.196275Z",
     "iopub.status.busy": "2022-07-12T13:07:12.195178Z",
     "iopub.status.idle": "2022-07-12T13:07:12.204658Z",
     "shell.execute_reply": "2022-07-12T13:07:12.203381Z"
    },
    "papermill": {
     "duration": 0.016915,
     "end_time": "2022-07-12T13:07:12.206431",
     "exception": false,
     "start_time": "2022-07-12T13:07:12.189516",
     "status": "completed"
    },
    "tags": []
   },
   "outputs": [],
   "source": [
    "is_positive_definite <- function(data) {\n",
    "  # eigenvalues <- eigen(data)$values\n",
    "  # nonpositive_eigenvalues <- eigenvalues[eigenvalues <= 0]\n",
    "\n",
    "  cholStatus <- try(u <- chol(data), silent = FALSE)\n",
    "  cholError <- ifelse(class(cholStatus) == \"try-error\", TRUE, FALSE)\n",
    "\n",
    "  if (cholError) {\n",
    "    return(FALSE)\n",
    "  } else {\n",
    "    return(TRUE)\n",
    "  }\n",
    "}"
   ]
  },
  {
   "cell_type": "markdown",
   "id": "7403fd78-00b2-4941-9c07-3c3af1ddc636",
   "metadata": {
    "papermill": {
     "duration": 0.004745,
     "end_time": "2022-07-12T13:07:12.216503",
     "exception": false,
     "start_time": "2022-07-12T13:07:12.211758",
     "status": "completed"
    },
    "tags": []
   },
   "source": [
    "# Load data"
   ]
  },
  {
   "cell_type": "code",
   "execution_count": 14,
   "id": "3a7744e1-2e5a-450e-9dcf-945ec181347d",
   "metadata": {
    "execution": {
     "iopub.execute_input": "2022-07-12T13:07:12.228471Z",
     "iopub.status.busy": "2022-07-12T13:07:12.227322Z",
     "iopub.status.idle": "2022-07-12T13:07:12.283743Z",
     "shell.execute_reply": "2022-07-12T13:07:12.282400Z"
    },
    "papermill": {
     "duration": 0.064218,
     "end_time": "2022-07-12T13:07:12.285645",
     "exception": false,
     "start_time": "2022-07-12T13:07:12.221427",
     "status": "completed"
    },
    "tags": []
   },
   "outputs": [],
   "source": [
    "gene_corrs <- pd$read_pickle(INPUT_FILE)"
   ]
  },
  {
   "cell_type": "code",
   "execution_count": 15,
   "id": "6fb150b2-4c68-4e9b-9aa5-1890d3f762e3",
   "metadata": {
    "execution": {
     "iopub.execute_input": "2022-07-12T13:07:12.297732Z",
     "iopub.status.busy": "2022-07-12T13:07:12.296638Z",
     "iopub.status.idle": "2022-07-12T13:07:12.309028Z",
     "shell.execute_reply": "2022-07-12T13:07:12.307738Z"
    },
    "papermill": {
     "duration": 0.020189,
     "end_time": "2022-07-12T13:07:12.310877",
     "exception": false,
     "start_time": "2022-07-12T13:07:12.290688",
     "status": "completed"
    },
    "tags": []
   },
   "outputs": [
    {
     "data": {
      "text/html": [
       "<style>\n",
       ".list-inline {list-style: none; margin:0; padding: 0}\n",
       ".list-inline>li {display: inline-block}\n",
       ".list-inline>li:not(:last-child)::after {content: \"\\00b7\"; padding: 0 .5ex}\n",
       "</style>\n",
       "<ol class=list-inline><li>339</li><li>339</li></ol>\n"
      ],
      "text/latex": [
       "\\begin{enumerate*}\n",
       "\\item 339\n",
       "\\item 339\n",
       "\\end{enumerate*}\n"
      ],
      "text/markdown": [
       "1. 339\n",
       "2. 339\n",
       "\n",
       "\n"
      ],
      "text/plain": [
       "[1] 339 339"
      ]
     },
     "metadata": {},
     "output_type": "display_data"
    }
   ],
   "source": [
    "dim(gene_corrs)"
   ]
  },
  {
   "cell_type": "code",
   "execution_count": 16,
   "id": "0d4e53b5-7586-4a68-8ce5-d930d74ba943",
   "metadata": {
    "execution": {
     "iopub.execute_input": "2022-07-12T13:07:12.322870Z",
     "iopub.status.busy": "2022-07-12T13:07:12.321783Z",
     "iopub.status.idle": "2022-07-12T13:07:12.342925Z",
     "shell.execute_reply": "2022-07-12T13:07:12.341726Z"
    },
    "papermill": {
     "duration": 0.028914,
     "end_time": "2022-07-12T13:07:12.344692",
     "exception": false,
     "start_time": "2022-07-12T13:07:12.315778",
     "status": "completed"
    },
    "tags": []
   },
   "outputs": [
    {
     "data": {
      "text/html": [
       "<table class=\"dataframe\">\n",
       "<caption>A data.frame: 6 × 10</caption>\n",
       "<thead>\n",
       "\t<tr><th></th><th scope=col>ENSG00000137265</th><th scope=col>ENSG00000112685</th><th scope=col>ENSG00000112699</th><th scope=col>ENSG00000124570</th><th scope=col>ENSG00000137275</th><th scope=col>ENSG00000137267</th><th scope=col>ENSG00000112739</th><th scope=col>ENSG00000153046</th><th scope=col>ENSG00000145982</th><th scope=col>ENSG00000124491</th></tr>\n",
       "\t<tr><th></th><th scope=col>&lt;dbl&gt;</th><th scope=col>&lt;dbl&gt;</th><th scope=col>&lt;dbl&gt;</th><th scope=col>&lt;dbl&gt;</th><th scope=col>&lt;dbl&gt;</th><th scope=col>&lt;dbl&gt;</th><th scope=col>&lt;dbl&gt;</th><th scope=col>&lt;dbl&gt;</th><th scope=col>&lt;dbl&gt;</th><th scope=col>&lt;dbl&gt;</th></tr>\n",
       "</thead>\n",
       "<tbody>\n",
       "\t<tr><th scope=row>ENSG00000137265</th><td>1.000000000</td><td>0.009465256</td><td>0.007745370</td><td>0.01658209</td><td>0.005596853</td><td>0.004384057</td><td>0.007276041</td><td>0.011687379</td><td>0.011376873</td><td>0.004127519</td></tr>\n",
       "\t<tr><th scope=row>ENSG00000112685</th><td>0.009465256</td><td>1.000000000</td><td>0.008566562</td><td>0.01133583</td><td>0.005839504</td><td>0.007334236</td><td>0.008654049</td><td>0.007623632</td><td>0.001053097</td><td>0.007442877</td></tr>\n",
       "\t<tr><th scope=row>ENSG00000112699</th><td>0.007745370</td><td>0.008566562</td><td>1.000000000</td><td>0.01236948</td><td>0.010396747</td><td>0.007120565</td><td>0.013495064</td><td>0.010947801</td><td>0.003440956</td><td>0.009617576</td></tr>\n",
       "\t<tr><th scope=row>ENSG00000124570</th><td>0.016582093</td><td>0.011335831</td><td>0.012369480</td><td>1.00000000</td><td>0.129616896</td><td>0.019693188</td><td>0.014658039</td><td>0.016145812</td><td>0.011807152</td><td>0.021676608</td></tr>\n",
       "\t<tr><th scope=row>ENSG00000137275</th><td>0.005596853</td><td>0.005839504</td><td>0.010396747</td><td>0.12961690</td><td>1.000000000</td><td>0.012537697</td><td>0.008423452</td><td>0.013596936</td><td>0.005930630</td><td>0.010738726</td></tr>\n",
       "\t<tr><th scope=row>ENSG00000137267</th><td>0.004384057</td><td>0.007334236</td><td>0.007120565</td><td>0.01969319</td><td>0.012537697</td><td>1.000000000</td><td>0.005397461</td><td>0.008159103</td><td>0.009444435</td><td>0.011646129</td></tr>\n",
       "</tbody>\n",
       "</table>\n"
      ],
      "text/latex": [
       "A data.frame: 6 × 10\n",
       "\\begin{tabular}{r|llllllllll}\n",
       "  & ENSG00000137265 & ENSG00000112685 & ENSG00000112699 & ENSG00000124570 & ENSG00000137275 & ENSG00000137267 & ENSG00000112739 & ENSG00000153046 & ENSG00000145982 & ENSG00000124491\\\\\n",
       "  & <dbl> & <dbl> & <dbl> & <dbl> & <dbl> & <dbl> & <dbl> & <dbl> & <dbl> & <dbl>\\\\\n",
       "\\hline\n",
       "\tENSG00000137265 & 1.000000000 & 0.009465256 & 0.007745370 & 0.01658209 & 0.005596853 & 0.004384057 & 0.007276041 & 0.011687379 & 0.011376873 & 0.004127519\\\\\n",
       "\tENSG00000112685 & 0.009465256 & 1.000000000 & 0.008566562 & 0.01133583 & 0.005839504 & 0.007334236 & 0.008654049 & 0.007623632 & 0.001053097 & 0.007442877\\\\\n",
       "\tENSG00000112699 & 0.007745370 & 0.008566562 & 1.000000000 & 0.01236948 & 0.010396747 & 0.007120565 & 0.013495064 & 0.010947801 & 0.003440956 & 0.009617576\\\\\n",
       "\tENSG00000124570 & 0.016582093 & 0.011335831 & 0.012369480 & 1.00000000 & 0.129616896 & 0.019693188 & 0.014658039 & 0.016145812 & 0.011807152 & 0.021676608\\\\\n",
       "\tENSG00000137275 & 0.005596853 & 0.005839504 & 0.010396747 & 0.12961690 & 1.000000000 & 0.012537697 & 0.008423452 & 0.013596936 & 0.005930630 & 0.010738726\\\\\n",
       "\tENSG00000137267 & 0.004384057 & 0.007334236 & 0.007120565 & 0.01969319 & 0.012537697 & 1.000000000 & 0.005397461 & 0.008159103 & 0.009444435 & 0.011646129\\\\\n",
       "\\end{tabular}\n"
      ],
      "text/markdown": [
       "\n",
       "A data.frame: 6 × 10\n",
       "\n",
       "| <!--/--> | ENSG00000137265 &lt;dbl&gt; | ENSG00000112685 &lt;dbl&gt; | ENSG00000112699 &lt;dbl&gt; | ENSG00000124570 &lt;dbl&gt; | ENSG00000137275 &lt;dbl&gt; | ENSG00000137267 &lt;dbl&gt; | ENSG00000112739 &lt;dbl&gt; | ENSG00000153046 &lt;dbl&gt; | ENSG00000145982 &lt;dbl&gt; | ENSG00000124491 &lt;dbl&gt; |\n",
       "|---|---|---|---|---|---|---|---|---|---|---|\n",
       "| ENSG00000137265 | 1.000000000 | 0.009465256 | 0.007745370 | 0.01658209 | 0.005596853 | 0.004384057 | 0.007276041 | 0.011687379 | 0.011376873 | 0.004127519 |\n",
       "| ENSG00000112685 | 0.009465256 | 1.000000000 | 0.008566562 | 0.01133583 | 0.005839504 | 0.007334236 | 0.008654049 | 0.007623632 | 0.001053097 | 0.007442877 |\n",
       "| ENSG00000112699 | 0.007745370 | 0.008566562 | 1.000000000 | 0.01236948 | 0.010396747 | 0.007120565 | 0.013495064 | 0.010947801 | 0.003440956 | 0.009617576 |\n",
       "| ENSG00000124570 | 0.016582093 | 0.011335831 | 0.012369480 | 1.00000000 | 0.129616896 | 0.019693188 | 0.014658039 | 0.016145812 | 0.011807152 | 0.021676608 |\n",
       "| ENSG00000137275 | 0.005596853 | 0.005839504 | 0.010396747 | 0.12961690 | 1.000000000 | 0.012537697 | 0.008423452 | 0.013596936 | 0.005930630 | 0.010738726 |\n",
       "| ENSG00000137267 | 0.004384057 | 0.007334236 | 0.007120565 | 0.01969319 | 0.012537697 | 1.000000000 | 0.005397461 | 0.008159103 | 0.009444435 | 0.011646129 |\n",
       "\n"
      ],
      "text/plain": [
       "                ENSG00000137265 ENSG00000112685 ENSG00000112699 ENSG00000124570\n",
       "ENSG00000137265 1.000000000     0.009465256     0.007745370     0.01658209     \n",
       "ENSG00000112685 0.009465256     1.000000000     0.008566562     0.01133583     \n",
       "ENSG00000112699 0.007745370     0.008566562     1.000000000     0.01236948     \n",
       "ENSG00000124570 0.016582093     0.011335831     0.012369480     1.00000000     \n",
       "ENSG00000137275 0.005596853     0.005839504     0.010396747     0.12961690     \n",
       "ENSG00000137267 0.004384057     0.007334236     0.007120565     0.01969319     \n",
       "                ENSG00000137275 ENSG00000137267 ENSG00000112739 ENSG00000153046\n",
       "ENSG00000137265 0.005596853     0.004384057     0.007276041     0.011687379    \n",
       "ENSG00000112685 0.005839504     0.007334236     0.008654049     0.007623632    \n",
       "ENSG00000112699 0.010396747     0.007120565     0.013495064     0.010947801    \n",
       "ENSG00000124570 0.129616896     0.019693188     0.014658039     0.016145812    \n",
       "ENSG00000137275 1.000000000     0.012537697     0.008423452     0.013596936    \n",
       "ENSG00000137267 0.012537697     1.000000000     0.005397461     0.008159103    \n",
       "                ENSG00000145982 ENSG00000124491\n",
       "ENSG00000137265 0.011376873     0.004127519    \n",
       "ENSG00000112685 0.001053097     0.007442877    \n",
       "ENSG00000112699 0.003440956     0.009617576    \n",
       "ENSG00000124570 0.011807152     0.021676608    \n",
       "ENSG00000137275 0.005930630     0.010738726    \n",
       "ENSG00000137267 0.009444435     0.011646129    "
      ]
     },
     "metadata": {},
     "output_type": "display_data"
    }
   ],
   "source": [
    "head(gene_corrs[1:10, 1:10])"
   ]
  },
  {
   "cell_type": "markdown",
   "id": "d6cbc88a-2c90-4d11-b7dd-434f046fd03c",
   "metadata": {
    "papermill": {
     "duration": 0.004566,
     "end_time": "2022-07-12T13:07:12.354090",
     "exception": false,
     "start_time": "2022-07-12T13:07:12.349524",
     "status": "completed"
    },
    "tags": []
   },
   "source": [
    "# Check positive definiteness"
   ]
  },
  {
   "cell_type": "code",
   "execution_count": 17,
   "id": "a858a061-7c5a-4a6b-8026-fe4de50c1f26",
   "metadata": {
    "execution": {
     "iopub.execute_input": "2022-07-12T13:07:12.365248Z",
     "iopub.status.busy": "2022-07-12T13:07:12.364255Z",
     "iopub.status.idle": "2022-07-12T13:07:12.378057Z",
     "shell.execute_reply": "2022-07-12T13:07:12.376885Z"
    },
    "papermill": {
     "duration": 0.020779,
     "end_time": "2022-07-12T13:07:12.379510",
     "exception": false,
     "start_time": "2022-07-12T13:07:12.358731",
     "status": "completed"
    },
    "tags": []
   },
   "outputs": [],
   "source": [
    "orig_matrix_is_positive_definite <- is_positive_definite(gene_corrs)"
   ]
  },
  {
   "cell_type": "code",
   "execution_count": 18,
   "id": "410ee452-488f-4518-b93a-2acd608ba99c",
   "metadata": {
    "execution": {
     "iopub.execute_input": "2022-07-12T13:07:12.396780Z",
     "iopub.status.busy": "2022-07-12T13:07:12.395764Z",
     "iopub.status.idle": "2022-07-12T13:07:12.422134Z",
     "shell.execute_reply": "2022-07-12T13:07:12.418978Z"
    },
    "papermill": {
     "duration": 0.038041,
     "end_time": "2022-07-12T13:07:12.423820",
     "exception": false,
     "start_time": "2022-07-12T13:07:12.385779",
     "status": "completed"
    },
    "tags": []
   },
   "outputs": [
    {
     "data": {
      "text/html": [
       "'Matrix is already positive definite!'"
      ],
      "text/latex": [
       "'Matrix is already positive definite!'"
      ],
      "text/markdown": [
       "'Matrix is already positive definite!'"
      ],
      "text/plain": [
       "[1] \"Matrix is already positive definite!\""
      ]
     },
     "metadata": {},
     "output_type": "display_data"
    },
    {
     "data": {
      "text/html": [
       "TRUE"
      ],
      "text/latex": [
       "TRUE"
      ],
      "text/markdown": [
       "TRUE"
      ],
      "text/plain": [
       "[1] TRUE"
      ]
     },
     "metadata": {},
     "output_type": "display_data"
    }
   ],
   "source": [
    "if (orig_matrix_is_positive_definite) {\n",
    "  IRdisplay::display(\"Matrix is already positive definite!\")\n",
    "  file.copy(INPUT_FILE, OUTPUT_FILE)\n",
    "} else {\n",
    "  IRdisplay::display(\"We need to correct the data and make the matrix positive definite\")\n",
    "\n",
    "  eigenvalues <- eigen(gene_corrs)$values\n",
    "  nonpositive_eigenvalues <- eigenvalues[eigenvalues <= 0]\n",
    "  IRdisplay::display(length(nonpositive_eigenvalues))\n",
    "  IRdisplay::display(nonpositive_eigenvalues)\n",
    "\n",
    "  # Make matrix positive definite\n",
    "  gene_corrs_corrected <- CorrectCM(gene_corrs, 1e-10)\n",
    "  dimnames(gene_corrs_corrected)[[1]] <- rownames(gene_corrs)\n",
    "  dimnames(gene_corrs_corrected)[[2]] <- colnames(gene_corrs)\n",
    "  gene_corrs_corrected <- as.data.frame(gene_corrs_corrected)\n",
    "\n",
    "  # check if new matrix is really positive definite\n",
    "  matrix_is_positive_definite <- is_positive_definite(gene_corrs_corrected)\n",
    "  if (matrix_is_positive_definite) {\n",
    "    IRdisplay::display(\"It worked!\")\n",
    "    IRdisplay::display(head(gene_corrs[1:10, 1:10]))\n",
    "    IRdisplay::display(head(gene_corrs_corrected[1:10, 1:10]))\n",
    "    py_save_object(gene_corrs_corrected, OUTPUT_FILE)\n",
    "  } else {\n",
    "    eigenvalues <- eigen(gene_corrs_corrected)$values\n",
    "    nonpositive_eigenvalues <- eigenvalues[eigenvalues <= 0]\n",
    "    IRdisplay::display(length(nonpositive_eigenvalues))\n",
    "    IRdisplay::display(nonpositive_eigenvalues)\n",
    "\n",
    "    stop(\"Method failed to adjust matrix\")\n",
    "  }\n",
    "}"
   ]
  },
  {
   "cell_type": "markdown",
   "id": "6c196700-7491-462f-bab8-ab9d40c63499",
   "metadata": {
    "papermill": {
     "duration": 0.008772,
     "end_time": "2022-07-12T13:07:12.438806",
     "exception": false,
     "start_time": "2022-07-12T13:07:12.430034",
     "status": "completed"
    },
    "tags": []
   },
   "source": [
    "Both matrices should \"look\" similar. We are not interested in perfectly accurate correlation values (they are already inaccurate)."
   ]
  },
  {
   "cell_type": "code",
   "execution_count": null,
   "id": "d8ae4220-2171-460c-9231-cd5219f3fe77",
   "metadata": {
    "papermill": {
     "duration": 0.008863,
     "end_time": "2022-07-12T13:07:12.456863",
     "exception": false,
     "start_time": "2022-07-12T13:07:12.448000",
     "status": "completed"
    },
    "tags": []
   },
   "outputs": [],
   "source": []
  }
 ],
 "metadata": {
  "jupytext": {
   "cell_metadata_filter": "all,-execution,-papermill,-trusted"
  },
  "kernelspec": {
   "display_name": "R",
   "language": "R",
   "name": "ir"
  },
  "language_info": {
   "codemirror_mode": "r",
   "file_extension": ".r",
   "mimetype": "text/x-r-source",
   "name": "R",
   "pygments_lexer": "r",
   "version": "3.6.3"
  },
  "papermill": {
   "default_parameters": {},
   "duration": 5.286237,
   "end_time": "2022-07-12T13:07:12.578539",
   "environment_variables": {},
   "exception": null,
   "input_path": "nbs/15_gsa_gls/12-gene_expr_correlations-adjust.ipynb",
   "output_path": "nbs/15_gsa_gls/gene_corrs/1000g/mashr/12-gene_expr_correlations-adjust-chr6.run.ipynb",
   "parameters": {
    "EQTL_MODEL": "MASHR",
    "REFERENCE_PANEL": "1000G",
    "chromosome": 6
   },
   "start_time": "2022-07-12T13:07:07.292302",
   "version": "2.3.4"
  }
 },
 "nbformat": 4,
 "nbformat_minor": 5
}
