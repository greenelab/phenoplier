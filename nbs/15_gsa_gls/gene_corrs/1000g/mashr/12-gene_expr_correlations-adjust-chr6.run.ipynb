{
 "cells": [
  {
   "cell_type": "markdown",
   "id": "28fc82fa-c3f6-4184-8054-cc91c7c6e2e7",
   "metadata": {
    "papermill": {
     "duration": 0.003946,
     "end_time": "2022-07-11T13:17:32.246711",
     "exception": false,
     "start_time": "2022-07-11T13:17:32.242765",
     "status": "completed"
    },
    "tags": []
   },
   "source": [
    "# Description"
   ]
  },
  {
   "cell_type": "markdown",
   "id": "36839b17-916e-4aec-8fee-96faf1097e78",
   "metadata": {
    "papermill": {
     "duration": 0.003271,
     "end_time": "2022-07-11T13:17:32.253380",
     "exception": false,
     "start_time": "2022-07-11T13:17:32.250109",
     "status": "completed"
    },
    "tags": []
   },
   "source": [
    "**TODO**"
   ]
  },
  {
   "cell_type": "markdown",
   "id": "249e8aa3-ef1a-4bba-a6dd-58120ad80794",
   "metadata": {
    "papermill": {
     "duration": 0.003161,
     "end_time": "2022-07-11T13:17:32.259873",
     "exception": false,
     "start_time": "2022-07-11T13:17:32.256712",
     "status": "completed"
    },
    "tags": []
   },
   "source": [
    "# Modules"
   ]
  },
  {
   "cell_type": "code",
   "execution_count": 1,
   "id": "f9b5022b-7c5e-4d37-9c7a-fdb91777c7f9",
   "metadata": {
    "execution": {
     "iopub.execute_input": "2022-07-11T13:17:32.269261Z",
     "iopub.status.busy": "2022-07-11T13:17:32.267657Z",
     "iopub.status.idle": "2022-07-11T13:17:35.656113Z",
     "shell.execute_reply": "2022-07-11T13:17:35.654917Z"
    },
    "papermill": {
     "duration": 3.394456,
     "end_time": "2022-07-11T13:17:35.657624",
     "exception": false,
     "start_time": "2022-07-11T13:17:32.263168",
     "status": "completed"
    },
    "tags": []
   },
   "outputs": [],
   "source": [
    "library(reticulate)\n",
    "pd <- import(\"pandas\")"
   ]
  },
  {
   "cell_type": "markdown",
   "id": "69e80173-3a39-4b6a-b723-602687cb255b",
   "metadata": {
    "papermill": {
     "duration": 0.005736,
     "end_time": "2022-07-11T13:17:35.666378",
     "exception": false,
     "start_time": "2022-07-11T13:17:35.660642",
     "status": "completed"
    },
    "tags": []
   },
   "source": [
    "# Settings"
   ]
  },
  {
   "cell_type": "code",
   "execution_count": 2,
   "id": "22d12bb4-1699-4a6b-b1b9-d3fdd3d547d7",
   "metadata": {
    "execution": {
     "iopub.execute_input": "2022-07-11T13:17:35.696957Z",
     "iopub.status.busy": "2022-07-11T13:17:35.674103Z",
     "iopub.status.idle": "2022-07-11T13:17:35.709185Z",
     "shell.execute_reply": "2022-07-11T13:17:35.708002Z"
    },
    "papermill": {
     "duration": 0.041208,
     "end_time": "2022-07-11T13:17:35.710915",
     "exception": false,
     "start_time": "2022-07-11T13:17:35.669707",
     "status": "completed"
    },
    "tags": [
     "parameters"
    ]
   },
   "outputs": [],
   "source": [
    "# reference panel\n",
    "REFERENCE_PANEL <- \"GTEX_V8\"\n",
    "# REFERENCE_PANEL = \"1000G\"\n",
    "\n",
    "# prediction models\n",
    "## mashr\n",
    "EQTL_MODEL <- \"MASHR\"\n",
    "\n",
    "chromosome <- NULL"
   ]
  },
  {
   "cell_type": "code",
   "execution_count": 3,
   "id": "d620d600",
   "metadata": {
    "execution": {
     "iopub.execute_input": "2022-07-11T13:17:35.719708Z",
     "iopub.status.busy": "2022-07-11T13:17:35.718693Z",
     "iopub.status.idle": "2022-07-11T13:17:35.735687Z",
     "shell.execute_reply": "2022-07-11T13:17:35.734492Z"
    },
    "papermill": {
     "duration": 0.023059,
     "end_time": "2022-07-11T13:17:35.737376",
     "exception": false,
     "start_time": "2022-07-11T13:17:35.714317",
     "status": "completed"
    },
    "tags": [
     "injected-parameters"
    ]
   },
   "outputs": [],
   "source": [
    "# Parameters\n",
    "chromosome = 6\n",
    "REFERENCE_PANEL = \"1000G\"\n",
    "EQTL_MODEL = \"MASHR\"\n"
   ]
  },
  {
   "cell_type": "code",
   "execution_count": 4,
   "id": "8fe24bef",
   "metadata": {
    "execution": {
     "iopub.execute_input": "2022-07-11T13:17:35.746226Z",
     "iopub.status.busy": "2022-07-11T13:17:35.745259Z",
     "iopub.status.idle": "2022-07-11T13:17:35.757484Z",
     "shell.execute_reply": "2022-07-11T13:17:35.756299Z"
    },
    "papermill": {
     "duration": 0.018234,
     "end_time": "2022-07-11T13:17:35.759157",
     "exception": false,
     "start_time": "2022-07-11T13:17:35.740923",
     "status": "completed"
    },
    "tags": []
   },
   "outputs": [
    {
     "data": {
      "text/html": [
       "'Using reference panel: 1000G'"
      ],
      "text/latex": [
       "'Using reference panel: 1000G'"
      ],
      "text/markdown": [
       "'Using reference panel: 1000G'"
      ],
      "text/plain": [
       "[1] \"Using reference panel: 1000G\""
      ]
     },
     "metadata": {},
     "output_type": "display_data"
    }
   ],
   "source": [
    "paste0(\"Using reference panel: \", REFERENCE_PANEL)"
   ]
  },
  {
   "cell_type": "code",
   "execution_count": 5,
   "id": "d62c28f8-186c-478b-948c-58e14f00df4b",
   "metadata": {
    "execution": {
     "iopub.execute_input": "2022-07-11T13:17:35.768303Z",
     "iopub.status.busy": "2022-07-11T13:17:35.767289Z",
     "iopub.status.idle": "2022-07-11T13:17:35.778402Z",
     "shell.execute_reply": "2022-07-11T13:17:35.777199Z"
    },
    "papermill": {
     "duration": 0.017243,
     "end_time": "2022-07-11T13:17:35.780106",
     "exception": false,
     "start_time": "2022-07-11T13:17:35.762863",
     "status": "completed"
    },
    "tags": []
   },
   "outputs": [
    {
     "data": {
      "text/html": [
       "'Using eQTL model: MASHR'"
      ],
      "text/latex": [
       "'Using eQTL model: MASHR'"
      ],
      "text/markdown": [
       "'Using eQTL model: MASHR'"
      ],
      "text/plain": [
       "[1] \"Using eQTL model: MASHR\""
      ]
     },
     "metadata": {},
     "output_type": "display_data"
    }
   ],
   "source": [
    "paste0(\"Using eQTL model: \", EQTL_MODEL)"
   ]
  },
  {
   "cell_type": "code",
   "execution_count": 6,
   "id": "5243676f-c889-4405-9a4d-262f0f044614",
   "metadata": {
    "execution": {
     "iopub.execute_input": "2022-07-11T13:17:35.789600Z",
     "iopub.status.busy": "2022-07-11T13:17:35.788612Z",
     "iopub.status.idle": "2022-07-11T13:17:35.797835Z",
     "shell.execute_reply": "2022-07-11T13:17:35.796606Z"
    },
    "papermill": {
     "duration": 0.015891,
     "end_time": "2022-07-11T13:17:35.799738",
     "exception": false,
     "start_time": "2022-07-11T13:17:35.783847",
     "status": "completed"
    },
    "tags": []
   },
   "outputs": [],
   "source": [
    "# chromosome must be provided as parameter\n",
    "stopifnot(!is.null(chromosome))"
   ]
  },
  {
   "cell_type": "markdown",
   "id": "c05e4d34-e115-48cd-8a2e-225109eb0042",
   "metadata": {
    "papermill": {
     "duration": 0.003971,
     "end_time": "2022-07-11T13:17:35.807705",
     "exception": false,
     "start_time": "2022-07-11T13:17:35.803734",
     "status": "completed"
    },
    "tags": []
   },
   "source": [
    "# Paths"
   ]
  },
  {
   "cell_type": "code",
   "execution_count": 7,
   "id": "eb6aa8aa-b452-4a2f-a780-93dd80ad4285",
   "metadata": {
    "execution": {
     "iopub.execute_input": "2022-07-11T13:17:35.818160Z",
     "iopub.status.busy": "2022-07-11T13:17:35.816956Z",
     "iopub.status.idle": "2022-07-11T13:17:35.831293Z",
     "shell.execute_reply": "2022-07-11T13:17:35.829944Z"
    },
    "papermill": {
     "duration": 0.021409,
     "end_time": "2022-07-11T13:17:35.833268",
     "exception": false,
     "start_time": "2022-07-11T13:17:35.811859",
     "status": "completed"
    },
    "tags": []
   },
   "outputs": [
    {
     "data": {
      "text/html": [
       "'/opt/data/data/phenomexcan/ld_blocks/gene_corrs'"
      ],
      "text/latex": [
       "'/opt/data/data/phenomexcan/ld\\_blocks/gene\\_corrs'"
      ],
      "text/markdown": [
       "'/opt/data/data/phenomexcan/ld_blocks/gene_corrs'"
      ],
      "text/plain": [
       "[1] \"/opt/data/data/phenomexcan/ld_blocks/gene_corrs\""
      ]
     },
     "metadata": {},
     "output_type": "display_data"
    }
   ],
   "source": [
    "GENE_CORRS_DIR <- Sys.getenv(\"PHENOPLIER_PHENOMEXCAN_LD_BLOCKS_GENE_CORRS_DIR\")\n",
    "IRdisplay::display(GENE_CORRS_DIR)"
   ]
  },
  {
   "cell_type": "code",
   "execution_count": 8,
   "id": "eb24f15f-f282-4476-8943-8413c4483f12",
   "metadata": {
    "execution": {
     "iopub.execute_input": "2022-07-11T13:17:35.843891Z",
     "iopub.status.busy": "2022-07-11T13:17:35.842768Z",
     "iopub.status.idle": "2022-07-11T13:17:35.856739Z",
     "shell.execute_reply": "2022-07-11T13:17:35.855396Z"
    },
    "papermill": {
     "duration": 0.021249,
     "end_time": "2022-07-11T13:17:35.858713",
     "exception": false,
     "start_time": "2022-07-11T13:17:35.837464",
     "status": "completed"
    },
    "tags": []
   },
   "outputs": [
    {
     "data": {
      "text/html": [
       "'/opt/data/data/phenomexcan/ld_blocks/gene_corrs/1000g/mashr/by_chr'"
      ],
      "text/latex": [
       "'/opt/data/data/phenomexcan/ld\\_blocks/gene\\_corrs/1000g/mashr/by\\_chr'"
      ],
      "text/markdown": [
       "'/opt/data/data/phenomexcan/ld_blocks/gene_corrs/1000g/mashr/by_chr'"
      ],
      "text/plain": [
       "[1] \"/opt/data/data/phenomexcan/ld_blocks/gene_corrs/1000g/mashr/by_chr\""
      ]
     },
     "metadata": {},
     "output_type": "display_data"
    }
   ],
   "source": [
    "INPUT_DIR <- file.path(GENE_CORRS_DIR, tolower(REFERENCE_PANEL), tolower(EQTL_MODEL), \"by_chr\")\n",
    "IRdisplay::display(INPUT_DIR)"
   ]
  },
  {
   "cell_type": "code",
   "execution_count": 9,
   "id": "43c1daba-0da9-4822-8d1e-968e9767e251",
   "metadata": {
    "execution": {
     "iopub.execute_input": "2022-07-11T13:17:35.870507Z",
     "iopub.status.busy": "2022-07-11T13:17:35.869260Z",
     "iopub.status.idle": "2022-07-11T13:17:35.885155Z",
     "shell.execute_reply": "2022-07-11T13:17:35.883844Z"
    },
    "papermill": {
     "duration": 0.023532,
     "end_time": "2022-07-11T13:17:35.887032",
     "exception": false,
     "start_time": "2022-07-11T13:17:35.863500",
     "status": "completed"
    },
    "tags": []
   },
   "outputs": [
    {
     "data": {
      "text/html": [
       "'/opt/data/data/phenomexcan/ld_blocks/gene_corrs/1000g/mashr/by_chr/gene_corrs-chr6.pkl'"
      ],
      "text/latex": [
       "'/opt/data/data/phenomexcan/ld\\_blocks/gene\\_corrs/1000g/mashr/by\\_chr/gene\\_corrs-chr6.pkl'"
      ],
      "text/markdown": [
       "'/opt/data/data/phenomexcan/ld_blocks/gene_corrs/1000g/mashr/by_chr/gene_corrs-chr6.pkl'"
      ],
      "text/plain": [
       "[1] \"/opt/data/data/phenomexcan/ld_blocks/gene_corrs/1000g/mashr/by_chr/gene_corrs-chr6.pkl\""
      ]
     },
     "metadata": {},
     "output_type": "display_data"
    }
   ],
   "source": [
    "INPUT_FILE <- file.path(INPUT_DIR, paste0(\"gene_corrs-chr\", chromosome, \".pkl\"))\n",
    "IRdisplay::display(INPUT_FILE)\n",
    "stopifnot(file.exists(INPUT_FILE))"
   ]
  },
  {
   "cell_type": "code",
   "execution_count": 10,
   "id": "72386fbf-982b-420a-9057-ea9a97a5e571",
   "metadata": {
    "execution": {
     "iopub.execute_input": "2022-07-11T13:17:35.898060Z",
     "iopub.status.busy": "2022-07-11T13:17:35.896947Z",
     "iopub.status.idle": "2022-07-11T13:17:35.911968Z",
     "shell.execute_reply": "2022-07-11T13:17:35.910703Z"
    },
    "papermill": {
     "duration": 0.022241,
     "end_time": "2022-07-11T13:17:35.913767",
     "exception": false,
     "start_time": "2022-07-11T13:17:35.891526",
     "status": "completed"
    },
    "tags": []
   },
   "outputs": [
    {
     "data": {
      "text/html": [
       "'/opt/data/data/phenomexcan/ld_blocks/gene_corrs/1000g/mashr/by_chr/corrected_positive_definite'"
      ],
      "text/latex": [
       "'/opt/data/data/phenomexcan/ld\\_blocks/gene\\_corrs/1000g/mashr/by\\_chr/corrected\\_positive\\_definite'"
      ],
      "text/markdown": [
       "'/opt/data/data/phenomexcan/ld_blocks/gene_corrs/1000g/mashr/by_chr/corrected_positive_definite'"
      ],
      "text/plain": [
       "[1] \"/opt/data/data/phenomexcan/ld_blocks/gene_corrs/1000g/mashr/by_chr/corrected_positive_definite\""
      ]
     },
     "metadata": {},
     "output_type": "display_data"
    }
   ],
   "source": [
    "OUTPUT_DIR <- file.path(INPUT_DIR, \"corrected_positive_definite\")\n",
    "IRdisplay::display(OUTPUT_DIR)\n",
    "dir.create(OUTPUT_DIR, recursive = TRUE, showWarnings = FALSE)"
   ]
  },
  {
   "cell_type": "code",
   "execution_count": 11,
   "id": "f9f19d1d-ce4c-4099-a26e-250fec751de7",
   "metadata": {
    "execution": {
     "iopub.execute_input": "2022-07-11T13:17:35.925114Z",
     "iopub.status.busy": "2022-07-11T13:17:35.924029Z",
     "iopub.status.idle": "2022-07-11T13:17:35.938943Z",
     "shell.execute_reply": "2022-07-11T13:17:35.937677Z"
    },
    "papermill": {
     "duration": 0.022275,
     "end_time": "2022-07-11T13:17:35.940762",
     "exception": false,
     "start_time": "2022-07-11T13:17:35.918487",
     "status": "completed"
    },
    "tags": []
   },
   "outputs": [
    {
     "data": {
      "text/html": [
       "'/opt/data/data/phenomexcan/ld_blocks/gene_corrs/1000g/mashr/by_chr/corrected_positive_definite/gene_corrs-chr6.pkl'"
      ],
      "text/latex": [
       "'/opt/data/data/phenomexcan/ld\\_blocks/gene\\_corrs/1000g/mashr/by\\_chr/corrected\\_positive\\_definite/gene\\_corrs-chr6.pkl'"
      ],
      "text/markdown": [
       "'/opt/data/data/phenomexcan/ld_blocks/gene_corrs/1000g/mashr/by_chr/corrected_positive_definite/gene_corrs-chr6.pkl'"
      ],
      "text/plain": [
       "[1] \"/opt/data/data/phenomexcan/ld_blocks/gene_corrs/1000g/mashr/by_chr/corrected_positive_definite/gene_corrs-chr6.pkl\""
      ]
     },
     "metadata": {},
     "output_type": "display_data"
    }
   ],
   "source": [
    "OUTPUT_FILE <- file.path(OUTPUT_DIR, paste0(\"gene_corrs-chr\", chromosome, \".pkl\"))\n",
    "IRdisplay::display(OUTPUT_FILE)\n",
    "if (file.exists(OUTPUT_FILE)) {\n",
    "  IRdisplay::display(\"Output file exists, it will be overwritten\")\n",
    "}"
   ]
  },
  {
   "cell_type": "markdown",
   "id": "24973e62-e888-4b56-843f-489d8d0762b5",
   "metadata": {
    "papermill": {
     "duration": 0.004216,
     "end_time": "2022-07-11T13:17:35.949420",
     "exception": false,
     "start_time": "2022-07-11T13:17:35.945204",
     "status": "completed"
    },
    "tags": []
   },
   "source": [
    "# Functions"
   ]
  },
  {
   "cell_type": "code",
   "execution_count": 12,
   "id": "f828f081-7358-4cc8-8a89-1ee293bcc1a7",
   "metadata": {
    "execution": {
     "iopub.execute_input": "2022-07-11T13:17:35.962923Z",
     "iopub.status.busy": "2022-07-11T13:17:35.958920Z",
     "iopub.status.idle": "2022-07-11T13:17:35.971264Z",
     "shell.execute_reply": "2022-07-11T13:17:35.970092Z"
    },
    "papermill": {
     "duration": 0.019172,
     "end_time": "2022-07-11T13:17:35.972948",
     "exception": false,
     "start_time": "2022-07-11T13:17:35.953776",
     "status": "completed"
    },
    "tags": []
   },
   "outputs": [],
   "source": [
    "# taken from https://www.r-bloggers.com/2013/08/correcting-a-pseudo-correlation-matrix-to-be-positive-semidefinite/\n",
    "# TODO: add documentation\n",
    "CorrectCM <- function(CM, p = 0) {\n",
    "  n <- dim(var(CM))[1L]\n",
    "  E <- eigen(CM)\n",
    "  CM1 <- E$vectors %*% tcrossprod(diag(pmax(E$values, p), n), E$vectors)\n",
    "  Balance <- diag(1 / sqrt(diag(CM1)))\n",
    "  CM2 <- Balance %*% CM1 %*% Balance\n",
    "  return(CM2)\n",
    "}"
   ]
  },
  {
   "cell_type": "code",
   "execution_count": 13,
   "id": "7ab9bebf-50a1-4e6f-b16a-e23cae93d02a",
   "metadata": {
    "execution": {
     "iopub.execute_input": "2022-07-11T13:17:35.983372Z",
     "iopub.status.busy": "2022-07-11T13:17:35.982354Z",
     "iopub.status.idle": "2022-07-11T13:17:35.991092Z",
     "shell.execute_reply": "2022-07-11T13:17:35.989927Z"
    },
    "papermill": {
     "duration": 0.015537,
     "end_time": "2022-07-11T13:17:35.992722",
     "exception": false,
     "start_time": "2022-07-11T13:17:35.977185",
     "status": "completed"
    },
    "tags": []
   },
   "outputs": [],
   "source": [
    "is_positive_definite <- function(data) {\n",
    "  # eigenvalues <- eigen(data)$values\n",
    "  # nonpositive_eigenvalues <- eigenvalues[eigenvalues <= 0]\n",
    "\n",
    "  cholStatus <- try(u <- chol(data), silent = FALSE)\n",
    "  cholError <- ifelse(class(cholStatus) == \"try-error\", TRUE, FALSE)\n",
    "\n",
    "  if (cholError) {\n",
    "    return(FALSE)\n",
    "  } else {\n",
    "    return(TRUE)\n",
    "  }\n",
    "}"
   ]
  },
  {
   "cell_type": "markdown",
   "id": "7403fd78-00b2-4941-9c07-3c3af1ddc636",
   "metadata": {
    "papermill": {
     "duration": 0.003972,
     "end_time": "2022-07-11T13:17:36.001475",
     "exception": false,
     "start_time": "2022-07-11T13:17:35.997503",
     "status": "completed"
    },
    "tags": []
   },
   "source": [
    "# Load data"
   ]
  },
  {
   "cell_type": "code",
   "execution_count": 14,
   "id": "3a7744e1-2e5a-450e-9dcf-945ec181347d",
   "metadata": {
    "execution": {
     "iopub.execute_input": "2022-07-11T13:17:36.011456Z",
     "iopub.status.busy": "2022-07-11T13:17:36.010471Z",
     "iopub.status.idle": "2022-07-11T13:17:36.056906Z",
     "shell.execute_reply": "2022-07-11T13:17:36.055827Z"
    },
    "papermill": {
     "duration": 0.052871,
     "end_time": "2022-07-11T13:17:36.058403",
     "exception": false,
     "start_time": "2022-07-11T13:17:36.005532",
     "status": "completed"
    },
    "tags": []
   },
   "outputs": [],
   "source": [
    "gene_corrs <- pd$read_pickle(INPUT_FILE)"
   ]
  },
  {
   "cell_type": "code",
   "execution_count": 15,
   "id": "6fb150b2-4c68-4e9b-9aa5-1890d3f762e3",
   "metadata": {
    "execution": {
     "iopub.execute_input": "2022-07-11T13:17:36.068258Z",
     "iopub.status.busy": "2022-07-11T13:17:36.067292Z",
     "iopub.status.idle": "2022-07-11T13:17:36.077439Z",
     "shell.execute_reply": "2022-07-11T13:17:36.076358Z"
    },
    "papermill": {
     "duration": 0.016508,
     "end_time": "2022-07-11T13:17:36.079023",
     "exception": false,
     "start_time": "2022-07-11T13:17:36.062515",
     "status": "completed"
    },
    "tags": []
   },
   "outputs": [
    {
     "data": {
      "text/html": [
       "<style>\n",
       ".list-inline {list-style: none; margin:0; padding: 0}\n",
       ".list-inline>li {display: inline-block}\n",
       ".list-inline>li:not(:last-child)::after {content: \"\\00b7\"; padding: 0 .5ex}\n",
       "</style>\n",
       "<ol class=list-inline><li>339</li><li>339</li></ol>\n"
      ],
      "text/latex": [
       "\\begin{enumerate*}\n",
       "\\item 339\n",
       "\\item 339\n",
       "\\end{enumerate*}\n"
      ],
      "text/markdown": [
       "1. 339\n",
       "2. 339\n",
       "\n",
       "\n"
      ],
      "text/plain": [
       "[1] 339 339"
      ]
     },
     "metadata": {},
     "output_type": "display_data"
    }
   ],
   "source": [
    "dim(gene_corrs)"
   ]
  },
  {
   "cell_type": "code",
   "execution_count": 16,
   "id": "0d4e53b5-7586-4a68-8ce5-d930d74ba943",
   "metadata": {
    "execution": {
     "iopub.execute_input": "2022-07-11T13:17:36.089027Z",
     "iopub.status.busy": "2022-07-11T13:17:36.088085Z",
     "iopub.status.idle": "2022-07-11T13:17:36.106898Z",
     "shell.execute_reply": "2022-07-11T13:17:36.105767Z"
    },
    "papermill": {
     "duration": 0.02545,
     "end_time": "2022-07-11T13:17:36.108543",
     "exception": false,
     "start_time": "2022-07-11T13:17:36.083093",
     "status": "completed"
    },
    "tags": []
   },
   "outputs": [
    {
     "data": {
      "text/html": [
       "<table class=\"dataframe\">\n",
       "<caption>A data.frame: 6 × 10</caption>\n",
       "<thead>\n",
       "\t<tr><th></th><th scope=col>ENSG00000137265</th><th scope=col>ENSG00000112685</th><th scope=col>ENSG00000112699</th><th scope=col>ENSG00000124570</th><th scope=col>ENSG00000137275</th><th scope=col>ENSG00000137267</th><th scope=col>ENSG00000112739</th><th scope=col>ENSG00000153046</th><th scope=col>ENSG00000145982</th><th scope=col>ENSG00000124491</th></tr>\n",
       "\t<tr><th></th><th scope=col>&lt;dbl&gt;</th><th scope=col>&lt;dbl&gt;</th><th scope=col>&lt;dbl&gt;</th><th scope=col>&lt;dbl&gt;</th><th scope=col>&lt;dbl&gt;</th><th scope=col>&lt;dbl&gt;</th><th scope=col>&lt;dbl&gt;</th><th scope=col>&lt;dbl&gt;</th><th scope=col>&lt;dbl&gt;</th><th scope=col>&lt;dbl&gt;</th></tr>\n",
       "</thead>\n",
       "<tbody>\n",
       "\t<tr><th scope=row>ENSG00000137265</th><td>1.000000000</td><td>0.009465256</td><td>0.007745370</td><td>0.01658209</td><td>0.005596853</td><td>0.004384057</td><td>0.007276041</td><td>0.011687379</td><td>0.011376873</td><td>0.000000000</td></tr>\n",
       "\t<tr><th scope=row>ENSG00000112685</th><td>0.009465256</td><td>1.000000000</td><td>0.008566562</td><td>0.01133583</td><td>0.005839504</td><td>0.007334236</td><td>0.008654049</td><td>0.007623632</td><td>0.001053097</td><td>0.000000000</td></tr>\n",
       "\t<tr><th scope=row>ENSG00000112699</th><td>0.007745370</td><td>0.008566562</td><td>1.000000000</td><td>0.01236948</td><td>0.010396747</td><td>0.007120565</td><td>0.013495064</td><td>0.010947801</td><td>0.003440956</td><td>0.009617576</td></tr>\n",
       "\t<tr><th scope=row>ENSG00000124570</th><td>0.016582093</td><td>0.011335831</td><td>0.012369480</td><td>1.00000000</td><td>0.129616896</td><td>0.019693188</td><td>0.014658039</td><td>0.016145812</td><td>0.011807152</td><td>0.021676608</td></tr>\n",
       "\t<tr><th scope=row>ENSG00000137275</th><td>0.005596853</td><td>0.005839504</td><td>0.010396747</td><td>0.12961690</td><td>1.000000000</td><td>0.012537697</td><td>0.008423452</td><td>0.013596936</td><td>0.005930630</td><td>0.010738726</td></tr>\n",
       "\t<tr><th scope=row>ENSG00000137267</th><td>0.004384057</td><td>0.007334236</td><td>0.007120565</td><td>0.01969319</td><td>0.012537697</td><td>1.000000000</td><td>0.005397461</td><td>0.008159103</td><td>0.009444435</td><td>0.011646129</td></tr>\n",
       "</tbody>\n",
       "</table>\n"
      ],
      "text/latex": [
       "A data.frame: 6 × 10\n",
       "\\begin{tabular}{r|llllllllll}\n",
       "  & ENSG00000137265 & ENSG00000112685 & ENSG00000112699 & ENSG00000124570 & ENSG00000137275 & ENSG00000137267 & ENSG00000112739 & ENSG00000153046 & ENSG00000145982 & ENSG00000124491\\\\\n",
       "  & <dbl> & <dbl> & <dbl> & <dbl> & <dbl> & <dbl> & <dbl> & <dbl> & <dbl> & <dbl>\\\\\n",
       "\\hline\n",
       "\tENSG00000137265 & 1.000000000 & 0.009465256 & 0.007745370 & 0.01658209 & 0.005596853 & 0.004384057 & 0.007276041 & 0.011687379 & 0.011376873 & 0.000000000\\\\\n",
       "\tENSG00000112685 & 0.009465256 & 1.000000000 & 0.008566562 & 0.01133583 & 0.005839504 & 0.007334236 & 0.008654049 & 0.007623632 & 0.001053097 & 0.000000000\\\\\n",
       "\tENSG00000112699 & 0.007745370 & 0.008566562 & 1.000000000 & 0.01236948 & 0.010396747 & 0.007120565 & 0.013495064 & 0.010947801 & 0.003440956 & 0.009617576\\\\\n",
       "\tENSG00000124570 & 0.016582093 & 0.011335831 & 0.012369480 & 1.00000000 & 0.129616896 & 0.019693188 & 0.014658039 & 0.016145812 & 0.011807152 & 0.021676608\\\\\n",
       "\tENSG00000137275 & 0.005596853 & 0.005839504 & 0.010396747 & 0.12961690 & 1.000000000 & 0.012537697 & 0.008423452 & 0.013596936 & 0.005930630 & 0.010738726\\\\\n",
       "\tENSG00000137267 & 0.004384057 & 0.007334236 & 0.007120565 & 0.01969319 & 0.012537697 & 1.000000000 & 0.005397461 & 0.008159103 & 0.009444435 & 0.011646129\\\\\n",
       "\\end{tabular}\n"
      ],
      "text/markdown": [
       "\n",
       "A data.frame: 6 × 10\n",
       "\n",
       "| <!--/--> | ENSG00000137265 &lt;dbl&gt; | ENSG00000112685 &lt;dbl&gt; | ENSG00000112699 &lt;dbl&gt; | ENSG00000124570 &lt;dbl&gt; | ENSG00000137275 &lt;dbl&gt; | ENSG00000137267 &lt;dbl&gt; | ENSG00000112739 &lt;dbl&gt; | ENSG00000153046 &lt;dbl&gt; | ENSG00000145982 &lt;dbl&gt; | ENSG00000124491 &lt;dbl&gt; |\n",
       "|---|---|---|---|---|---|---|---|---|---|---|\n",
       "| ENSG00000137265 | 1.000000000 | 0.009465256 | 0.007745370 | 0.01658209 | 0.005596853 | 0.004384057 | 0.007276041 | 0.011687379 | 0.011376873 | 0.000000000 |\n",
       "| ENSG00000112685 | 0.009465256 | 1.000000000 | 0.008566562 | 0.01133583 | 0.005839504 | 0.007334236 | 0.008654049 | 0.007623632 | 0.001053097 | 0.000000000 |\n",
       "| ENSG00000112699 | 0.007745370 | 0.008566562 | 1.000000000 | 0.01236948 | 0.010396747 | 0.007120565 | 0.013495064 | 0.010947801 | 0.003440956 | 0.009617576 |\n",
       "| ENSG00000124570 | 0.016582093 | 0.011335831 | 0.012369480 | 1.00000000 | 0.129616896 | 0.019693188 | 0.014658039 | 0.016145812 | 0.011807152 | 0.021676608 |\n",
       "| ENSG00000137275 | 0.005596853 | 0.005839504 | 0.010396747 | 0.12961690 | 1.000000000 | 0.012537697 | 0.008423452 | 0.013596936 | 0.005930630 | 0.010738726 |\n",
       "| ENSG00000137267 | 0.004384057 | 0.007334236 | 0.007120565 | 0.01969319 | 0.012537697 | 1.000000000 | 0.005397461 | 0.008159103 | 0.009444435 | 0.011646129 |\n",
       "\n"
      ],
      "text/plain": [
       "                ENSG00000137265 ENSG00000112685 ENSG00000112699 ENSG00000124570\n",
       "ENSG00000137265 1.000000000     0.009465256     0.007745370     0.01658209     \n",
       "ENSG00000112685 0.009465256     1.000000000     0.008566562     0.01133583     \n",
       "ENSG00000112699 0.007745370     0.008566562     1.000000000     0.01236948     \n",
       "ENSG00000124570 0.016582093     0.011335831     0.012369480     1.00000000     \n",
       "ENSG00000137275 0.005596853     0.005839504     0.010396747     0.12961690     \n",
       "ENSG00000137267 0.004384057     0.007334236     0.007120565     0.01969319     \n",
       "                ENSG00000137275 ENSG00000137267 ENSG00000112739 ENSG00000153046\n",
       "ENSG00000137265 0.005596853     0.004384057     0.007276041     0.011687379    \n",
       "ENSG00000112685 0.005839504     0.007334236     0.008654049     0.007623632    \n",
       "ENSG00000112699 0.010396747     0.007120565     0.013495064     0.010947801    \n",
       "ENSG00000124570 0.129616896     0.019693188     0.014658039     0.016145812    \n",
       "ENSG00000137275 1.000000000     0.012537697     0.008423452     0.013596936    \n",
       "ENSG00000137267 0.012537697     1.000000000     0.005397461     0.008159103    \n",
       "                ENSG00000145982 ENSG00000124491\n",
       "ENSG00000137265 0.011376873     0.000000000    \n",
       "ENSG00000112685 0.001053097     0.000000000    \n",
       "ENSG00000112699 0.003440956     0.009617576    \n",
       "ENSG00000124570 0.011807152     0.021676608    \n",
       "ENSG00000137275 0.005930630     0.010738726    \n",
       "ENSG00000137267 0.009444435     0.011646129    "
      ]
     },
     "metadata": {},
     "output_type": "display_data"
    }
   ],
   "source": [
    "head(gene_corrs[1:10, 1:10])"
   ]
  },
  {
   "cell_type": "markdown",
   "id": "d6cbc88a-2c90-4d11-b7dd-434f046fd03c",
   "metadata": {
    "papermill": {
     "duration": 0.004317,
     "end_time": "2022-07-11T13:17:36.117297",
     "exception": false,
     "start_time": "2022-07-11T13:17:36.112980",
     "status": "completed"
    },
    "tags": []
   },
   "source": [
    "# Check positive definiteness"
   ]
  },
  {
   "cell_type": "code",
   "execution_count": 17,
   "id": "a858a061-7c5a-4a6b-8026-fe4de50c1f26",
   "metadata": {
    "execution": {
     "iopub.execute_input": "2022-07-11T13:17:36.127713Z",
     "iopub.status.busy": "2022-07-11T13:17:36.126792Z",
     "iopub.status.idle": "2022-07-11T13:17:36.141906Z",
     "shell.execute_reply": "2022-07-11T13:17:36.140768Z"
    },
    "papermill": {
     "duration": 0.021648,
     "end_time": "2022-07-11T13:17:36.143338",
     "exception": false,
     "start_time": "2022-07-11T13:17:36.121690",
     "status": "completed"
    },
    "tags": []
   },
   "outputs": [],
   "source": [
    "orig_matrix_is_positive_definite <- is_positive_definite(gene_corrs)"
   ]
  },
  {
   "cell_type": "code",
   "execution_count": 18,
   "id": "410ee452-488f-4518-b93a-2acd608ba99c",
   "metadata": {
    "execution": {
     "iopub.execute_input": "2022-07-11T13:17:36.160349Z",
     "iopub.status.busy": "2022-07-11T13:17:36.159416Z",
     "iopub.status.idle": "2022-07-11T13:17:36.182056Z",
     "shell.execute_reply": "2022-07-11T13:17:36.180886Z"
    },
    "papermill": {
     "duration": 0.034003,
     "end_time": "2022-07-11T13:17:36.183494",
     "exception": false,
     "start_time": "2022-07-11T13:17:36.149491",
     "status": "completed"
    },
    "tags": []
   },
   "outputs": [
    {
     "data": {
      "text/html": [
       "'Matrix is already positive definite!'"
      ],
      "text/latex": [
       "'Matrix is already positive definite!'"
      ],
      "text/markdown": [
       "'Matrix is already positive definite!'"
      ],
      "text/plain": [
       "[1] \"Matrix is already positive definite!\""
      ]
     },
     "metadata": {},
     "output_type": "display_data"
    },
    {
     "data": {
      "text/html": [
       "TRUE"
      ],
      "text/latex": [
       "TRUE"
      ],
      "text/markdown": [
       "TRUE"
      ],
      "text/plain": [
       "[1] TRUE"
      ]
     },
     "metadata": {},
     "output_type": "display_data"
    }
   ],
   "source": [
    "if (orig_matrix_is_positive_definite) {\n",
    "  IRdisplay::display(\"Matrix is already positive definite!\")\n",
    "  file.copy(INPUT_FILE, OUTPUT_FILE)\n",
    "} else {\n",
    "  IRdisplay::display(\"We need to correct the data and make the matrix positive definite\")\n",
    "\n",
    "  eigenvalues <- eigen(gene_corrs)$values\n",
    "  nonpositive_eigenvalues <- eigenvalues[eigenvalues <= 0]\n",
    "  IRdisplay::display(length(nonpositive_eigenvalues))\n",
    "  IRdisplay::display(nonpositive_eigenvalues)\n",
    "\n",
    "  # Make matrix positive definite\n",
    "  gene_corrs_corrected <- CorrectCM(gene_corrs, 1e-10)\n",
    "  dimnames(gene_corrs_corrected)[[1]] <- rownames(gene_corrs)\n",
    "  dimnames(gene_corrs_corrected)[[2]] <- colnames(gene_corrs)\n",
    "  gene_corrs_corrected <- as.data.frame(gene_corrs_corrected)\n",
    "\n",
    "  # check if new matrix is really positive definite\n",
    "  matrix_is_positive_definite <- is_positive_definite(gene_corrs_corrected)\n",
    "  if (matrix_is_positive_definite) {\n",
    "    IRdisplay::display(\"It worked!\")\n",
    "    IRdisplay::display(head(gene_corrs[1:10, 1:10]))\n",
    "    IRdisplay::display(head(gene_corrs_corrected[1:10, 1:10]))\n",
    "    py_save_object(gene_corrs_corrected, OUTPUT_FILE)\n",
    "  } else {\n",
    "    eigenvalues <- eigen(gene_corrs_corrected)$values\n",
    "    nonpositive_eigenvalues <- eigenvalues[eigenvalues <= 0]\n",
    "    IRdisplay::display(length(nonpositive_eigenvalues))\n",
    "    IRdisplay::display(nonpositive_eigenvalues)\n",
    "\n",
    "    stop(\"Method failed to adjust matrix\")\n",
    "  }\n",
    "}"
   ]
  },
  {
   "cell_type": "markdown",
   "id": "6c196700-7491-462f-bab8-ab9d40c63499",
   "metadata": {
    "papermill": {
     "duration": 0.008828,
     "end_time": "2022-07-11T13:17:36.199055",
     "exception": false,
     "start_time": "2022-07-11T13:17:36.190227",
     "status": "completed"
    },
    "tags": []
   },
   "source": [
    "Both matrices should \"look\" similar. We are not interested in perfectly accurate correlation values (they are already inaccurate)."
   ]
  },
  {
   "cell_type": "code",
   "execution_count": null,
   "id": "d8ae4220-2171-460c-9231-cd5219f3fe77",
   "metadata": {
    "papermill": {
     "duration": 0.008406,
     "end_time": "2022-07-11T13:17:36.216775",
     "exception": false,
     "start_time": "2022-07-11T13:17:36.208369",
     "status": "completed"
    },
    "tags": []
   },
   "outputs": [],
   "source": []
  }
 ],
 "metadata": {
  "jupytext": {
   "cell_metadata_filter": "all,-execution,-papermill,-trusted"
  },
  "kernelspec": {
   "display_name": "R",
   "language": "R",
   "name": "ir"
  },
  "language_info": {
   "codemirror_mode": "r",
   "file_extension": ".r",
   "mimetype": "text/x-r-source",
   "name": "R",
   "pygments_lexer": "r",
   "version": "3.6.3"
  },
  "papermill": {
   "default_parameters": {},
   "duration": 5.387199,
   "end_time": "2022-07-11T13:17:36.345906",
   "environment_variables": {},
   "exception": null,
   "input_path": "nbs/15_gsa_gls/12-gene_expr_correlations-adjust.ipynb",
   "output_path": "nbs/15_gsa_gls/gene_corrs/1000g/mashr/12-gene_expr_correlations-adjust-chr6.run.ipynb",
   "parameters": {
    "EQTL_MODEL": "MASHR",
    "REFERENCE_PANEL": "1000G",
    "chromosome": 6
   },
   "start_time": "2022-07-11T13:17:30.958707",
   "version": "2.3.4"
  }
 },
 "nbformat": 4,
 "nbformat_minor": 5
}
