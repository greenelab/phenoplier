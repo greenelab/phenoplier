{
 "cells": [
  {
   "cell_type": "markdown",
   "id": "7a6632fb",
   "metadata": {
    "papermill": {
     "duration": 0.006227,
     "end_time": "2022-07-12T05:26:18.656873",
     "exception": false,
     "start_time": "2022-07-12T05:26:18.650646",
     "status": "completed"
    },
    "tags": []
   },
   "source": [
    "# Description"
   ]
  },
  {
   "cell_type": "markdown",
   "id": "7097c346",
   "metadata": {
    "papermill": {
     "duration": 0.00555,
     "end_time": "2022-07-12T05:26:18.668136",
     "exception": false,
     "start_time": "2022-07-12T05:26:18.662586",
     "status": "completed"
    },
    "tags": []
   },
   "source": [
    "(Please, take a look at the README.md file in this directory for instructions on how to run this notebook)\n",
    "\n",
    "This notebook computes predicted expression correlations between all genes in the MultiPLIER models.\n",
    "\n",
    "It also has a parameter set for papermill to run on a single chromosome to run in parallel (see under `Settings` below).\n",
    "\n",
    "This notebook is not directly run. See README.md."
   ]
  },
  {
   "cell_type": "markdown",
   "id": "c61d8427",
   "metadata": {
    "papermill": {
     "duration": 0.005448,
     "end_time": "2022-07-12T05:26:18.679315",
     "exception": false,
     "start_time": "2022-07-12T05:26:18.673867",
     "status": "completed"
    },
    "tags": []
   },
   "source": [
    "# Modules"
   ]
  },
  {
   "cell_type": "code",
   "execution_count": 1,
   "id": "bbc0234f",
   "metadata": {
    "execution": {
     "iopub.execute_input": "2022-07-12T05:26:18.692138Z",
     "iopub.status.busy": "2022-07-12T05:26:18.691904Z",
     "iopub.status.idle": "2022-07-12T05:26:18.707809Z",
     "shell.execute_reply": "2022-07-12T05:26:18.707307Z"
    },
    "papermill": {
     "duration": 0.023826,
     "end_time": "2022-07-12T05:26:18.709112",
     "exception": false,
     "start_time": "2022-07-12T05:26:18.685286",
     "status": "completed"
    },
    "tags": []
   },
   "outputs": [],
   "source": [
    "%load_ext autoreload\n",
    "%autoreload 2"
   ]
  },
  {
   "cell_type": "code",
   "execution_count": 2,
   "id": "1d5f5a59",
   "metadata": {
    "execution": {
     "iopub.execute_input": "2022-07-12T05:26:18.748404Z",
     "iopub.status.busy": "2022-07-12T05:26:18.748227Z",
     "iopub.status.idle": "2022-07-12T05:26:19.642967Z",
     "shell.execute_reply": "2022-07-12T05:26:19.642568Z"
    },
    "papermill": {
     "duration": 0.903965,
     "end_time": "2022-07-12T05:26:19.645288",
     "exception": false,
     "start_time": "2022-07-12T05:26:18.741323",
     "status": "completed"
    },
    "tags": []
   },
   "outputs": [],
   "source": [
    "from random import sample, seed\n",
    "import warnings\n",
    "from pathlib import Path\n",
    "\n",
    "import numpy as np\n",
    "from scipy.spatial.distance import squareform\n",
    "import pandas as pd\n",
    "from tqdm import tqdm\n",
    "import matplotlib.pyplot as plt\n",
    "import seaborn as sns\n",
    "\n",
    "import conf\n",
    "from entity import Gene"
   ]
  },
  {
   "cell_type": "markdown",
   "id": "1eac24b5",
   "metadata": {
    "papermill": {
     "duration": 0.005352,
     "end_time": "2022-07-12T05:26:19.656296",
     "exception": false,
     "start_time": "2022-07-12T05:26:19.650944",
     "status": "completed"
    },
    "tags": []
   },
   "source": [
    "# Settings"
   ]
  },
  {
   "cell_type": "code",
   "execution_count": 3,
   "id": "ca4560ba",
   "metadata": {
    "execution": {
     "iopub.execute_input": "2022-07-12T05:26:19.668182Z",
     "iopub.status.busy": "2022-07-12T05:26:19.667959Z",
     "iopub.status.idle": "2022-07-12T05:26:19.682692Z",
     "shell.execute_reply": "2022-07-12T05:26:19.682271Z"
    },
    "papermill": {
     "duration": 0.022315,
     "end_time": "2022-07-12T05:26:19.684117",
     "exception": false,
     "start_time": "2022-07-12T05:26:19.661802",
     "status": "completed"
    },
    "tags": [
     "parameters"
    ]
   },
   "outputs": [],
   "source": [
    "# reference panel\n",
    "REFERENCE_PANEL = \"GTEX_V8\"\n",
    "# REFERENCE_PANEL = \"1000G\"\n",
    "\n",
    "# prediction models\n",
    "## mashr\n",
    "EQTL_MODEL = \"MASHR\"\n",
    "\n",
    "# this is the default value used in S-MultiXcan to select the\n",
    "# top principal components of the expression correlation matrix\n",
    "SMULTIXCAN_CONDITION_NUMBER = 30\n",
    "\n",
    "# specifies a single chromosome value\n",
    "# by default, run on all chromosomes\n",
    "chromosome = None"
   ]
  },
  {
   "cell_type": "code",
   "execution_count": 4,
   "id": "3af91db3",
   "metadata": {
    "execution": {
     "iopub.execute_input": "2022-07-12T05:26:19.696805Z",
     "iopub.status.busy": "2022-07-12T05:26:19.696609Z",
     "iopub.status.idle": "2022-07-12T05:26:19.710646Z",
     "shell.execute_reply": "2022-07-12T05:26:19.710252Z"
    },
    "papermill": {
     "duration": 0.022036,
     "end_time": "2022-07-12T05:26:19.712000",
     "exception": false,
     "start_time": "2022-07-12T05:26:19.689964",
     "status": "completed"
    },
    "tags": [
     "injected-parameters"
    ]
   },
   "outputs": [],
   "source": [
    "# Parameters\n",
    "chromosome = 8\n",
    "REFERENCE_PANEL = \"1000G\"\n",
    "EQTL_MODEL = \"MASHR\"\n"
   ]
  },
  {
   "cell_type": "code",
   "execution_count": 5,
   "id": "a089c9ff",
   "metadata": {
    "execution": {
     "iopub.execute_input": "2022-07-12T05:26:19.724700Z",
     "iopub.status.busy": "2022-07-12T05:26:19.724325Z",
     "iopub.status.idle": "2022-07-12T05:26:19.738642Z",
     "shell.execute_reply": "2022-07-12T05:26:19.738256Z"
    },
    "papermill": {
     "duration": 0.021941,
     "end_time": "2022-07-12T05:26:19.739925",
     "exception": false,
     "start_time": "2022-07-12T05:26:19.717984",
     "status": "completed"
    },
    "tags": []
   },
   "outputs": [],
   "source": [
    "EQTL_MODEL_FILES_PREFIX = conf.PHENOMEXCAN[\"PREDICTION_MODELS\"][f\"{EQTL_MODEL}_PREFIX\"]"
   ]
  },
  {
   "cell_type": "code",
   "execution_count": 6,
   "id": "8fe24bef",
   "metadata": {
    "execution": {
     "iopub.execute_input": "2022-07-12T05:26:19.752060Z",
     "iopub.status.busy": "2022-07-12T05:26:19.751694Z",
     "iopub.status.idle": "2022-07-12T05:26:19.767255Z",
     "shell.execute_reply": "2022-07-12T05:26:19.766880Z"
    },
    "papermill": {
     "duration": 0.022814,
     "end_time": "2022-07-12T05:26:19.768374",
     "exception": false,
     "start_time": "2022-07-12T05:26:19.745560",
     "status": "completed"
    },
    "tags": []
   },
   "outputs": [
    {
     "data": {
      "text/plain": [
       "'Using eQTL model: MASHR / mashr_'"
      ]
     },
     "metadata": {},
     "output_type": "display_data"
    }
   ],
   "source": [
    "display(f\"Using eQTL model: {EQTL_MODEL} / {EQTL_MODEL_FILES_PREFIX}\")"
   ]
  },
  {
   "cell_type": "code",
   "execution_count": 7,
   "id": "552a7f63-a18c-4d3e-bb6a-94f99b431291",
   "metadata": {
    "execution": {
     "iopub.execute_input": "2022-07-12T05:26:19.780701Z",
     "iopub.status.busy": "2022-07-12T05:26:19.780363Z",
     "iopub.status.idle": "2022-07-12T05:26:19.797136Z",
     "shell.execute_reply": "2022-07-12T05:26:19.796746Z"
    },
    "papermill": {
     "duration": 0.024155,
     "end_time": "2022-07-12T05:26:19.798297",
     "exception": false,
     "start_time": "2022-07-12T05:26:19.774142",
     "status": "completed"
    },
    "tags": []
   },
   "outputs": [
    {
     "data": {
      "text/plain": [
       "'S-MultiXcan condition number: 30'"
      ]
     },
     "metadata": {},
     "output_type": "display_data"
    }
   ],
   "source": [
    "display(f\"S-MultiXcan condition number: {SMULTIXCAN_CONDITION_NUMBER}\")"
   ]
  },
  {
   "cell_type": "code",
   "execution_count": 8,
   "id": "0230ebcb-2c32-4b95-9292-d9a52038e70d",
   "metadata": {
    "execution": {
     "iopub.execute_input": "2022-07-12T05:26:19.810960Z",
     "iopub.status.busy": "2022-07-12T05:26:19.810765Z",
     "iopub.status.idle": "2022-07-12T05:26:19.825075Z",
     "shell.execute_reply": "2022-07-12T05:26:19.824650Z"
    },
    "papermill": {
     "duration": 0.022048,
     "end_time": "2022-07-12T05:26:19.826374",
     "exception": false,
     "start_time": "2022-07-12T05:26:19.804326",
     "status": "completed"
    },
    "tags": []
   },
   "outputs": [],
   "source": [
    "REFERENCE_PANEL_DIR = conf.PHENOMEXCAN[\"LD_BLOCKS\"][f\"{REFERENCE_PANEL}_GENOTYPE_DIR\"]"
   ]
  },
  {
   "cell_type": "code",
   "execution_count": 9,
   "id": "98c4a159-601d-4a22-a1ab-35bd451c25f9",
   "metadata": {
    "execution": {
     "iopub.execute_input": "2022-07-12T05:26:19.839088Z",
     "iopub.status.busy": "2022-07-12T05:26:19.838892Z",
     "iopub.status.idle": "2022-07-12T05:26:19.854542Z",
     "shell.execute_reply": "2022-07-12T05:26:19.854140Z"
    },
    "papermill": {
     "duration": 0.02336,
     "end_time": "2022-07-12T05:26:19.855754",
     "exception": false,
     "start_time": "2022-07-12T05:26:19.832394",
     "status": "completed"
    },
    "tags": []
   },
   "outputs": [
    {
     "data": {
      "text/plain": [
       "'Using reference panel folder: /opt/data/data/phenomexcan/ld_blocks/reference_panel_1000G'"
      ]
     },
     "metadata": {},
     "output_type": "display_data"
    }
   ],
   "source": [
    "display(f\"Using reference panel folder: {str(REFERENCE_PANEL_DIR)}\")"
   ]
  },
  {
   "cell_type": "code",
   "execution_count": 10,
   "id": "396392dc-0340-4540-9b02-e182b833f909",
   "metadata": {
    "execution": {
     "iopub.execute_input": "2022-07-12T05:26:19.877829Z",
     "iopub.status.busy": "2022-07-12T05:26:19.877504Z",
     "iopub.status.idle": "2022-07-12T05:26:19.893204Z",
     "shell.execute_reply": "2022-07-12T05:26:19.892651Z"
    },
    "papermill": {
     "duration": 0.032458,
     "end_time": "2022-07-12T05:26:19.894555",
     "exception": false,
     "start_time": "2022-07-12T05:26:19.862097",
     "status": "completed"
    },
    "tags": []
   },
   "outputs": [],
   "source": [
    "OUTPUT_DIR_BASE = (\n",
    "    conf.PHENOMEXCAN[\"LD_BLOCKS\"][f\"GENE_CORRS_DIR\"]\n",
    "    / REFERENCE_PANEL.lower()\n",
    "    / EQTL_MODEL.lower()\n",
    ")\n",
    "OUTPUT_DIR_BASE.mkdir(parents=True, exist_ok=True)"
   ]
  },
  {
   "cell_type": "code",
   "execution_count": 11,
   "id": "8942c2d3-e53c-4d63-a0eb-b6fce0574d36",
   "metadata": {
    "execution": {
     "iopub.execute_input": "2022-07-12T05:26:19.907129Z",
     "iopub.status.busy": "2022-07-12T05:26:19.906744Z",
     "iopub.status.idle": "2022-07-12T05:26:19.921195Z",
     "shell.execute_reply": "2022-07-12T05:26:19.920792Z"
    },
    "papermill": {
     "duration": 0.021923,
     "end_time": "2022-07-12T05:26:19.922391",
     "exception": false,
     "start_time": "2022-07-12T05:26:19.900468",
     "status": "completed"
    },
    "tags": []
   },
   "outputs": [
    {
     "data": {
      "text/plain": [
       "'Using output dir base: /opt/data/data/phenomexcan/ld_blocks/gene_corrs/1000g/mashr'"
      ]
     },
     "metadata": {},
     "output_type": "display_data"
    }
   ],
   "source": [
    "display(f\"Using output dir base: {OUTPUT_DIR_BASE}\")"
   ]
  },
  {
   "cell_type": "code",
   "execution_count": 12,
   "id": "408aa590",
   "metadata": {
    "execution": {
     "iopub.execute_input": "2022-07-12T05:26:19.935431Z",
     "iopub.status.busy": "2022-07-12T05:26:19.935192Z",
     "iopub.status.idle": "2022-07-12T05:26:19.949034Z",
     "shell.execute_reply": "2022-07-12T05:26:19.948644Z"
    },
    "papermill": {
     "duration": 0.021939,
     "end_time": "2022-07-12T05:26:19.950330",
     "exception": false,
     "start_time": "2022-07-12T05:26:19.928391",
     "status": "completed"
    },
    "tags": []
   },
   "outputs": [],
   "source": [
    "assert (\n",
    "    chromosome is not None\n",
    "), \"You have to select one chromosome (format: number between 1 and 22)\""
   ]
  },
  {
   "cell_type": "code",
   "execution_count": 13,
   "id": "c1c7dd06-80ff-453c-bcb7-0899edce75da",
   "metadata": {
    "execution": {
     "iopub.execute_input": "2022-07-12T05:26:19.963510Z",
     "iopub.status.busy": "2022-07-12T05:26:19.963159Z",
     "iopub.status.idle": "2022-07-12T05:26:19.976806Z",
     "shell.execute_reply": "2022-07-12T05:26:19.976432Z"
    },
    "papermill": {
     "duration": 0.021562,
     "end_time": "2022-07-12T05:26:19.978053",
     "exception": false,
     "start_time": "2022-07-12T05:26:19.956491",
     "status": "completed"
    },
    "tags": []
   },
   "outputs": [],
   "source": [
    "chromosome = str(chromosome)"
   ]
  },
  {
   "cell_type": "code",
   "execution_count": 14,
   "id": "bc17b84c-9c26-47a5-a3ab-7046e72f3ef4",
   "metadata": {
    "execution": {
     "iopub.execute_input": "2022-07-12T05:26:19.991096Z",
     "iopub.status.busy": "2022-07-12T05:26:19.990897Z",
     "iopub.status.idle": "2022-07-12T05:26:20.005197Z",
     "shell.execute_reply": "2022-07-12T05:26:20.004775Z"
    },
    "papermill": {
     "duration": 0.022288,
     "end_time": "2022-07-12T05:26:20.006391",
     "exception": false,
     "start_time": "2022-07-12T05:26:19.984103",
     "status": "completed"
    },
    "tags": []
   },
   "outputs": [
    {
     "data": {
      "text/plain": [
       "'Working on chromosome 8'"
      ]
     },
     "metadata": {},
     "output_type": "display_data"
    }
   ],
   "source": [
    "display(f\"Working on chromosome {chromosome}\")"
   ]
  },
  {
   "cell_type": "code",
   "execution_count": 15,
   "id": "3c7d8574-90c7-4d09-bc8c-469ed0a34737",
   "metadata": {
    "execution": {
     "iopub.execute_input": "2022-07-12T05:26:20.019865Z",
     "iopub.status.busy": "2022-07-12T05:26:20.019626Z",
     "iopub.status.idle": "2022-07-12T05:26:20.034837Z",
     "shell.execute_reply": "2022-07-12T05:26:20.034402Z"
    },
    "papermill": {
     "duration": 0.023275,
     "end_time": "2022-07-12T05:26:20.036015",
     "exception": false,
     "start_time": "2022-07-12T05:26:20.012740",
     "status": "completed"
    },
    "tags": []
   },
   "outputs": [
    {
     "data": {
      "text/plain": [
       "'Compute correlation within distance False'"
      ]
     },
     "metadata": {},
     "output_type": "display_data"
    }
   ],
   "source": [
    "# This paramter, if True, computes the correlation between closeby genes only\n",
    "COMPUTE_CORRELATIONS_WITHIN_DISTANCE = False\n",
    "display(f\"Compute correlation within distance {COMPUTE_CORRELATIONS_WITHIN_DISTANCE}\")"
   ]
  },
  {
   "cell_type": "markdown",
   "id": "d2ba085e",
   "metadata": {
    "papermill": {
     "duration": 0.006405,
     "end_time": "2022-07-12T05:26:20.048733",
     "exception": false,
     "start_time": "2022-07-12T05:26:20.042328",
     "status": "completed"
    },
    "tags": []
   },
   "source": [
    "# Load data"
   ]
  },
  {
   "cell_type": "markdown",
   "id": "7bed0ce0-e7c7-4300-9a61-5412450b1904",
   "metadata": {
    "papermill": {
     "duration": 0.00629,
     "end_time": "2022-07-12T05:26:20.061714",
     "exception": false,
     "start_time": "2022-07-12T05:26:20.055424",
     "status": "completed"
    },
    "tags": []
   },
   "source": [
    "## Prediction model tissues"
   ]
  },
  {
   "cell_type": "code",
   "execution_count": 16,
   "id": "0847c065-0d69-4830-a07f-1c75115d17f5",
   "metadata": {
    "execution": {
     "iopub.execute_input": "2022-07-12T05:26:20.075032Z",
     "iopub.status.busy": "2022-07-12T05:26:20.074822Z",
     "iopub.status.idle": "2022-07-12T05:26:20.088979Z",
     "shell.execute_reply": "2022-07-12T05:26:20.088584Z"
    },
    "papermill": {
     "duration": 0.022256,
     "end_time": "2022-07-12T05:26:20.090206",
     "exception": false,
     "start_time": "2022-07-12T05:26:20.067950",
     "status": "completed"
    },
    "tags": []
   },
   "outputs": [],
   "source": [
    "prediction_model_tissues = conf.PHENOMEXCAN[\"PREDICTION_MODELS\"][\n",
    "    f\"{EQTL_MODEL}_TISSUES\"\n",
    "].split(\" \")"
   ]
  },
  {
   "cell_type": "code",
   "execution_count": 17,
   "id": "aaef70d1-30c6-4c6f-9d6b-abc8e9a0081f",
   "metadata": {
    "execution": {
     "iopub.execute_input": "2022-07-12T05:26:20.104345Z",
     "iopub.status.busy": "2022-07-12T05:26:20.103997Z",
     "iopub.status.idle": "2022-07-12T05:26:20.118330Z",
     "shell.execute_reply": "2022-07-12T05:26:20.117916Z"
    },
    "papermill": {
     "duration": 0.02258,
     "end_time": "2022-07-12T05:26:20.119539",
     "exception": false,
     "start_time": "2022-07-12T05:26:20.096959",
     "status": "completed"
    },
    "tags": []
   },
   "outputs": [
    {
     "data": {
      "text/plain": [
       "49"
      ]
     },
     "execution_count": 17,
     "metadata": {},
     "output_type": "execute_result"
    }
   ],
   "source": [
    "len(prediction_model_tissues)"
   ]
  },
  {
   "cell_type": "code",
   "execution_count": 18,
   "id": "ff35a099-c52d-465d-b863-0ee70c26208c",
   "metadata": {
    "execution": {
     "iopub.execute_input": "2022-07-12T05:26:20.133392Z",
     "iopub.status.busy": "2022-07-12T05:26:20.132827Z",
     "iopub.status.idle": "2022-07-12T05:26:20.148459Z",
     "shell.execute_reply": "2022-07-12T05:26:20.147882Z"
    },
    "papermill": {
     "duration": 0.023878,
     "end_time": "2022-07-12T05:26:20.149753",
     "exception": false,
     "start_time": "2022-07-12T05:26:20.125875",
     "status": "completed"
    },
    "tags": []
   },
   "outputs": [
    {
     "data": {
      "text/plain": [
       "['Skin_Not_Sun_Exposed_Suprapubic',\n",
       " 'Cells_EBV-transformed_lymphocytes',\n",
       " 'Brain_Frontal_Cortex_BA9',\n",
       " 'Kidney_Cortex',\n",
       " 'Brain_Substantia_nigra']"
      ]
     },
     "execution_count": 18,
     "metadata": {},
     "output_type": "execute_result"
    }
   ],
   "source": [
    "prediction_model_tissues[:5]"
   ]
  },
  {
   "cell_type": "markdown",
   "id": "abcc4b3d",
   "metadata": {
    "papermill": {
     "duration": 0.006209,
     "end_time": "2022-07-12T05:26:20.162466",
     "exception": false,
     "start_time": "2022-07-12T05:26:20.156257",
     "status": "completed"
    },
    "tags": []
   },
   "source": [
    "## MultiPLIER Z"
   ]
  },
  {
   "cell_type": "code",
   "execution_count": 19,
   "id": "c48ef527",
   "metadata": {
    "execution": {
     "iopub.execute_input": "2022-07-12T05:26:20.176625Z",
     "iopub.status.busy": "2022-07-12T05:26:20.176279Z",
     "iopub.status.idle": "2022-07-12T05:26:20.216763Z",
     "shell.execute_reply": "2022-07-12T05:26:20.216351Z"
    },
    "papermill": {
     "duration": 0.049075,
     "end_time": "2022-07-12T05:26:20.218113",
     "exception": false,
     "start_time": "2022-07-12T05:26:20.169038",
     "status": "completed"
    },
    "tags": []
   },
   "outputs": [],
   "source": [
    "multiplier_z_genes = pd.read_pickle(\n",
    "    conf.MULTIPLIER[\"MODEL_Z_MATRIX_FILE\"]\n",
    ").index.tolist()"
   ]
  },
  {
   "cell_type": "code",
   "execution_count": 20,
   "id": "0a4ecbd9",
   "metadata": {
    "execution": {
     "iopub.execute_input": "2022-07-12T05:26:20.232074Z",
     "iopub.status.busy": "2022-07-12T05:26:20.231877Z",
     "iopub.status.idle": "2022-07-12T05:26:20.245921Z",
     "shell.execute_reply": "2022-07-12T05:26:20.245509Z"
    },
    "papermill": {
     "duration": 0.022254,
     "end_time": "2022-07-12T05:26:20.247070",
     "exception": false,
     "start_time": "2022-07-12T05:26:20.224816",
     "status": "completed"
    },
    "tags": []
   },
   "outputs": [
    {
     "data": {
      "text/plain": [
       "6750"
      ]
     },
     "execution_count": 20,
     "metadata": {},
     "output_type": "execute_result"
    }
   ],
   "source": [
    "len(multiplier_z_genes)"
   ]
  },
  {
   "cell_type": "code",
   "execution_count": 21,
   "id": "115e8864",
   "metadata": {
    "execution": {
     "iopub.execute_input": "2022-07-12T05:26:20.261582Z",
     "iopub.status.busy": "2022-07-12T05:26:20.261387Z",
     "iopub.status.idle": "2022-07-12T05:26:20.276463Z",
     "shell.execute_reply": "2022-07-12T05:26:20.276021Z"
    },
    "papermill": {
     "duration": 0.024015,
     "end_time": "2022-07-12T05:26:20.277806",
     "exception": false,
     "start_time": "2022-07-12T05:26:20.253791",
     "status": "completed"
    },
    "tags": []
   },
   "outputs": [
    {
     "data": {
      "text/plain": [
       "['GAS6',\n",
       " 'MMP14',\n",
       " 'DSP',\n",
       " 'MARCKSL1',\n",
       " 'SPARC',\n",
       " 'CTSD',\n",
       " 'EPAS1',\n",
       " 'PALLD',\n",
       " 'PHC2',\n",
       " 'LGALS3BP']"
      ]
     },
     "execution_count": 21,
     "metadata": {},
     "output_type": "execute_result"
    }
   ],
   "source": [
    "multiplier_z_genes[:10]"
   ]
  },
  {
   "cell_type": "markdown",
   "id": "7dcb8db7",
   "metadata": {
    "papermill": {
     "duration": 0.007201,
     "end_time": "2022-07-12T05:26:20.291989",
     "exception": false,
     "start_time": "2022-07-12T05:26:20.284788",
     "status": "completed"
    },
    "tags": []
   },
   "source": [
    "## Get gene objects"
   ]
  },
  {
   "cell_type": "code",
   "execution_count": 22,
   "id": "bb932812",
   "metadata": {
    "execution": {
     "iopub.execute_input": "2022-07-12T05:26:20.306239Z",
     "iopub.status.busy": "2022-07-12T05:26:20.305945Z",
     "iopub.status.idle": "2022-07-12T05:26:20.326575Z",
     "shell.execute_reply": "2022-07-12T05:26:20.326084Z"
    },
    "papermill": {
     "duration": 0.029167,
     "end_time": "2022-07-12T05:26:20.327942",
     "exception": false,
     "start_time": "2022-07-12T05:26:20.298775",
     "status": "completed"
    },
    "tags": []
   },
   "outputs": [],
   "source": [
    "multiplier_gene_obj = {\n",
    "    gene_name: Gene(name=gene_name)\n",
    "    for gene_name in multiplier_z_genes\n",
    "    if gene_name in Gene.GENE_NAME_TO_ID_MAP\n",
    "}"
   ]
  },
  {
   "cell_type": "code",
   "execution_count": 23,
   "id": "39533214",
   "metadata": {
    "execution": {
     "iopub.execute_input": "2022-07-12T05:26:20.344259Z",
     "iopub.status.busy": "2022-07-12T05:26:20.343831Z",
     "iopub.status.idle": "2022-07-12T05:26:20.357964Z",
     "shell.execute_reply": "2022-07-12T05:26:20.357485Z"
    },
    "papermill": {
     "duration": 0.023259,
     "end_time": "2022-07-12T05:26:20.359158",
     "exception": false,
     "start_time": "2022-07-12T05:26:20.335899",
     "status": "completed"
    },
    "tags": []
   },
   "outputs": [
    {
     "data": {
      "text/plain": [
       "6454"
      ]
     },
     "execution_count": 23,
     "metadata": {},
     "output_type": "execute_result"
    }
   ],
   "source": [
    "len(multiplier_gene_obj)"
   ]
  },
  {
   "cell_type": "code",
   "execution_count": 24,
   "id": "9a5d0b84",
   "metadata": {
    "execution": {
     "iopub.execute_input": "2022-07-12T05:26:20.374115Z",
     "iopub.status.busy": "2022-07-12T05:26:20.373814Z",
     "iopub.status.idle": "2022-07-12T05:26:20.388378Z",
     "shell.execute_reply": "2022-07-12T05:26:20.387955Z"
    },
    "papermill": {
     "duration": 0.023423,
     "end_time": "2022-07-12T05:26:20.389619",
     "exception": false,
     "start_time": "2022-07-12T05:26:20.366196",
     "status": "completed"
    },
    "tags": []
   },
   "outputs": [
    {
     "data": {
      "text/plain": [
       "'ENSG00000183087'"
      ]
     },
     "execution_count": 24,
     "metadata": {},
     "output_type": "execute_result"
    }
   ],
   "source": [
    "multiplier_gene_obj[\"GAS6\"].ensembl_id"
   ]
  },
  {
   "cell_type": "code",
   "execution_count": 25,
   "id": "e3ffabc7",
   "metadata": {
    "execution": {
     "iopub.execute_input": "2022-07-12T05:26:20.405566Z",
     "iopub.status.busy": "2022-07-12T05:26:20.405368Z",
     "iopub.status.idle": "2022-07-12T05:26:22.615663Z",
     "shell.execute_reply": "2022-07-12T05:26:22.615230Z"
    },
    "papermill": {
     "duration": 2.219609,
     "end_time": "2022-07-12T05:26:22.617061",
     "exception": false,
     "start_time": "2022-07-12T05:26:20.397452",
     "status": "completed"
    },
    "tags": []
   },
   "outputs": [],
   "source": [
    "_gene_obj = list(multiplier_gene_obj.values())\n",
    "\n",
    "genes_info = pd.DataFrame(\n",
    "    {\n",
    "        \"name\": [g.name for g in _gene_obj],\n",
    "        \"id\": [g.ensembl_id for g in _gene_obj],\n",
    "        \"chr\": [g.chromosome for g in _gene_obj],\n",
    "        \"band\": [g.band for g in _gene_obj],\n",
    "        \"start_position\": [g.get_attribute(\"start_position\") for g in _gene_obj],\n",
    "    }\n",
    ")"
   ]
  },
  {
   "cell_type": "code",
   "execution_count": 26,
   "id": "e23519b8",
   "metadata": {
    "execution": {
     "iopub.execute_input": "2022-07-12T05:26:22.632925Z",
     "iopub.status.busy": "2022-07-12T05:26:22.632677Z",
     "iopub.status.idle": "2022-07-12T05:26:22.648177Z",
     "shell.execute_reply": "2022-07-12T05:26:22.647800Z"
    },
    "papermill": {
     "duration": 0.024777,
     "end_time": "2022-07-12T05:26:22.649365",
     "exception": false,
     "start_time": "2022-07-12T05:26:22.624588",
     "status": "completed"
    },
    "tags": []
   },
   "outputs": [
    {
     "data": {
      "text/plain": [
       "(6454, 5)"
      ]
     },
     "execution_count": 26,
     "metadata": {},
     "output_type": "execute_result"
    }
   ],
   "source": [
    "genes_info.shape"
   ]
  },
  {
   "cell_type": "code",
   "execution_count": 27,
   "id": "0d71881c",
   "metadata": {
    "execution": {
     "iopub.execute_input": "2022-07-12T05:26:22.665047Z",
     "iopub.status.busy": "2022-07-12T05:26:22.664848Z",
     "iopub.status.idle": "2022-07-12T05:26:22.684262Z",
     "shell.execute_reply": "2022-07-12T05:26:22.683842Z"
    },
    "papermill": {
     "duration": 0.028813,
     "end_time": "2022-07-12T05:26:22.685509",
     "exception": false,
     "start_time": "2022-07-12T05:26:22.656696",
     "status": "completed"
    },
    "tags": []
   },
   "outputs": [
    {
     "data": {
      "text/html": [
       "<div>\n",
       "<style scoped>\n",
       "    .dataframe tbody tr th:only-of-type {\n",
       "        vertical-align: middle;\n",
       "    }\n",
       "\n",
       "    .dataframe tbody tr th {\n",
       "        vertical-align: top;\n",
       "    }\n",
       "\n",
       "    .dataframe thead th {\n",
       "        text-align: right;\n",
       "    }\n",
       "</style>\n",
       "<table border=\"1\" class=\"dataframe\">\n",
       "  <thead>\n",
       "    <tr style=\"text-align: right;\">\n",
       "      <th></th>\n",
       "      <th>name</th>\n",
       "      <th>id</th>\n",
       "      <th>chr</th>\n",
       "      <th>band</th>\n",
       "      <th>start_position</th>\n",
       "    </tr>\n",
       "  </thead>\n",
       "  <tbody>\n",
       "    <tr>\n",
       "      <th>0</th>\n",
       "      <td>GAS6</td>\n",
       "      <td>ENSG00000183087</td>\n",
       "      <td>13</td>\n",
       "      <td>13q34</td>\n",
       "      <td>113820549.0</td>\n",
       "    </tr>\n",
       "    <tr>\n",
       "      <th>1</th>\n",
       "      <td>MMP14</td>\n",
       "      <td>ENSG00000157227</td>\n",
       "      <td>14</td>\n",
       "      <td>14q11.2</td>\n",
       "      <td>22836560.0</td>\n",
       "    </tr>\n",
       "    <tr>\n",
       "      <th>2</th>\n",
       "      <td>DSP</td>\n",
       "      <td>ENSG00000096696</td>\n",
       "      <td>6</td>\n",
       "      <td>6p24.3</td>\n",
       "      <td>7541617.0</td>\n",
       "    </tr>\n",
       "    <tr>\n",
       "      <th>3</th>\n",
       "      <td>MARCKSL1</td>\n",
       "      <td>ENSG00000175130</td>\n",
       "      <td>1</td>\n",
       "      <td>1p35.1</td>\n",
       "      <td>32333839.0</td>\n",
       "    </tr>\n",
       "    <tr>\n",
       "      <th>4</th>\n",
       "      <td>SPARC</td>\n",
       "      <td>ENSG00000113140</td>\n",
       "      <td>5</td>\n",
       "      <td>5q33.1</td>\n",
       "      <td>151661096.0</td>\n",
       "    </tr>\n",
       "  </tbody>\n",
       "</table>\n",
       "</div>"
      ],
      "text/plain": [
       "       name               id chr     band  start_position\n",
       "0      GAS6  ENSG00000183087  13    13q34     113820549.0\n",
       "1     MMP14  ENSG00000157227  14  14q11.2      22836560.0\n",
       "2       DSP  ENSG00000096696   6   6p24.3       7541617.0\n",
       "3  MARCKSL1  ENSG00000175130   1   1p35.1      32333839.0\n",
       "4     SPARC  ENSG00000113140   5   5q33.1     151661096.0"
      ]
     },
     "execution_count": 27,
     "metadata": {},
     "output_type": "execute_result"
    }
   ],
   "source": [
    "genes_info.head()"
   ]
  },
  {
   "cell_type": "markdown",
   "id": "c8d1038f",
   "metadata": {
    "papermill": {
     "duration": 0.007399,
     "end_time": "2022-07-12T05:26:22.699953",
     "exception": false,
     "start_time": "2022-07-12T05:26:22.692554",
     "status": "completed"
    },
    "tags": []
   },
   "source": [
    "# Test"
   ]
  },
  {
   "cell_type": "code",
   "execution_count": 28,
   "id": "64993abf",
   "metadata": {
    "execution": {
     "iopub.execute_input": "2022-07-12T05:26:22.715486Z",
     "iopub.status.busy": "2022-07-12T05:26:22.715288Z",
     "iopub.status.idle": "2022-07-12T05:26:22.738191Z",
     "shell.execute_reply": "2022-07-12T05:26:22.737817Z"
    },
    "papermill": {
     "duration": 0.03207,
     "end_time": "2022-07-12T05:26:22.739344",
     "exception": false,
     "start_time": "2022-07-12T05:26:22.707274",
     "status": "completed"
    },
    "tags": []
   },
   "outputs": [
    {
     "data": {
      "text/html": [
       "<div>\n",
       "<style scoped>\n",
       "    .dataframe tbody tr th:only-of-type {\n",
       "        vertical-align: middle;\n",
       "    }\n",
       "\n",
       "    .dataframe tbody tr th {\n",
       "        vertical-align: top;\n",
       "    }\n",
       "\n",
       "    .dataframe thead th {\n",
       "        text-align: right;\n",
       "    }\n",
       "</style>\n",
       "<table border=\"1\" class=\"dataframe\">\n",
       "  <thead>\n",
       "    <tr style=\"text-align: right;\">\n",
       "      <th></th>\n",
       "      <th>name</th>\n",
       "      <th>id</th>\n",
       "      <th>chr</th>\n",
       "      <th>band</th>\n",
       "      <th>start_position</th>\n",
       "    </tr>\n",
       "  </thead>\n",
       "  <tbody>\n",
       "    <tr>\n",
       "      <th>34</th>\n",
       "      <td>TPD52</td>\n",
       "      <td>ENSG00000076554</td>\n",
       "      <td>8</td>\n",
       "      <td>8q21.13</td>\n",
       "      <td>80034745.0</td>\n",
       "    </tr>\n",
       "    <tr>\n",
       "      <th>56</th>\n",
       "      <td>ADAM9</td>\n",
       "      <td>ENSG00000168615</td>\n",
       "      <td>8</td>\n",
       "      <td>8p11.22</td>\n",
       "      <td>38996869.0</td>\n",
       "    </tr>\n",
       "    <tr>\n",
       "      <th>99</th>\n",
       "      <td>PSD3</td>\n",
       "      <td>ENSG00000156011</td>\n",
       "      <td>8</td>\n",
       "      <td>8p22</td>\n",
       "      <td>18527303.0</td>\n",
       "    </tr>\n",
       "    <tr>\n",
       "      <th>108</th>\n",
       "      <td>LPL</td>\n",
       "      <td>ENSG00000175445</td>\n",
       "      <td>8</td>\n",
       "      <td>8p21.3</td>\n",
       "      <td>19901717.0</td>\n",
       "    </tr>\n",
       "    <tr>\n",
       "      <th>231</th>\n",
       "      <td>MYOM2</td>\n",
       "      <td>ENSG00000036448</td>\n",
       "      <td>8</td>\n",
       "      <td>8p23.3</td>\n",
       "      <td>2045046.0</td>\n",
       "    </tr>\n",
       "    <tr>\n",
       "      <th>...</th>\n",
       "      <td>...</td>\n",
       "      <td>...</td>\n",
       "      <td>...</td>\n",
       "      <td>...</td>\n",
       "      <td>...</td>\n",
       "    </tr>\n",
       "    <tr>\n",
       "      <th>6280</th>\n",
       "      <td>CEBPD</td>\n",
       "      <td>ENSG00000221869</td>\n",
       "      <td>8</td>\n",
       "      <td>8q11.21</td>\n",
       "      <td>47736909.0</td>\n",
       "    </tr>\n",
       "    <tr>\n",
       "      <th>6301</th>\n",
       "      <td>TSNARE1</td>\n",
       "      <td>ENSG00000171045</td>\n",
       "      <td>8</td>\n",
       "      <td>8q24.3</td>\n",
       "      <td>142212080.0</td>\n",
       "    </tr>\n",
       "    <tr>\n",
       "      <th>6309</th>\n",
       "      <td>EXTL3</td>\n",
       "      <td>ENSG00000012232</td>\n",
       "      <td>8</td>\n",
       "      <td>8p21.1</td>\n",
       "      <td>28600469.0</td>\n",
       "    </tr>\n",
       "    <tr>\n",
       "      <th>6311</th>\n",
       "      <td>GPT</td>\n",
       "      <td>ENSG00000167701</td>\n",
       "      <td>8</td>\n",
       "      <td>8q24.3</td>\n",
       "      <td>144502973.0</td>\n",
       "    </tr>\n",
       "    <tr>\n",
       "      <th>6415</th>\n",
       "      <td>PLAT</td>\n",
       "      <td>ENSG00000104368</td>\n",
       "      <td>8</td>\n",
       "      <td>8p11.21</td>\n",
       "      <td>42175233.0</td>\n",
       "    </tr>\n",
       "  </tbody>\n",
       "</table>\n",
       "<p>222 rows × 5 columns</p>\n",
       "</div>"
      ],
      "text/plain": [
       "         name               id chr     band  start_position\n",
       "34      TPD52  ENSG00000076554   8  8q21.13      80034745.0\n",
       "56      ADAM9  ENSG00000168615   8  8p11.22      38996869.0\n",
       "99       PSD3  ENSG00000156011   8     8p22      18527303.0\n",
       "108       LPL  ENSG00000175445   8   8p21.3      19901717.0\n",
       "231     MYOM2  ENSG00000036448   8   8p23.3       2045046.0\n",
       "...       ...              ...  ..      ...             ...\n",
       "6280    CEBPD  ENSG00000221869   8  8q11.21      47736909.0\n",
       "6301  TSNARE1  ENSG00000171045   8   8q24.3     142212080.0\n",
       "6309    EXTL3  ENSG00000012232   8   8p21.1      28600469.0\n",
       "6311      GPT  ENSG00000167701   8   8q24.3     144502973.0\n",
       "6415     PLAT  ENSG00000104368   8  8p11.21      42175233.0\n",
       "\n",
       "[222 rows x 5 columns]"
      ]
     },
     "metadata": {},
     "output_type": "display_data"
    }
   ],
   "source": [
    "chromosome_genes_info = genes_info[genes_info[\"chr\"] == chromosome]\n",
    "display(chromosome_genes_info)"
   ]
  },
  {
   "cell_type": "code",
   "execution_count": 29,
   "id": "d2e42726-7de6-46eb-acfc-6323eaa8fae6",
   "metadata": {
    "execution": {
     "iopub.execute_input": "2022-07-12T05:26:22.754677Z",
     "iopub.status.busy": "2022-07-12T05:26:22.754485Z",
     "iopub.status.idle": "2022-07-12T05:26:22.769527Z",
     "shell.execute_reply": "2022-07-12T05:26:22.769121Z"
    },
    "papermill": {
     "duration": 0.024043,
     "end_time": "2022-07-12T05:26:22.770715",
     "exception": false,
     "start_time": "2022-07-12T05:26:22.746672",
     "status": "completed"
    },
    "tags": []
   },
   "outputs": [
    {
     "data": {
      "text/plain": [
       "5"
      ]
     },
     "metadata": {},
     "output_type": "display_data"
    }
   ],
   "source": [
    "seed(0)\n",
    "_gene_list_ids = sample(chromosome_genes_info[\"id\"].tolist(), 5)\n",
    "selected_chromosome_genes_obj = [Gene(ensembl_id=g_id) for g_id in _gene_list_ids]\n",
    "display(len(selected_chromosome_genes_obj))"
   ]
  },
  {
   "cell_type": "code",
   "execution_count": 30,
   "id": "1b355359",
   "metadata": {
    "execution": {
     "iopub.execute_input": "2022-07-12T05:26:22.786966Z",
     "iopub.status.busy": "2022-07-12T05:26:22.786772Z",
     "iopub.status.idle": "2022-07-12T05:26:22.804894Z",
     "shell.execute_reply": "2022-07-12T05:26:22.804380Z"
    },
    "papermill": {
     "duration": 0.027658,
     "end_time": "2022-07-12T05:26:22.806068",
     "exception": false,
     "start_time": "2022-07-12T05:26:22.778410",
     "status": "completed"
    },
    "tags": []
   },
   "outputs": [
    {
     "name": "stdout",
     "output_type": "stream",
     "text": [
      "DLC1 / SLA: 0.0\n",
      "DLC1 / DOK2: 0.0\n",
      "DLC1 / BAG4: 0.0\n",
      "DLC1 / DEFA4: 0.0\n",
      "SLA / DOK2: 0.0\n",
      "SLA / BAG4: 0.0\n",
      "SLA / DEFA4: 0.0\n",
      "DOK2 / BAG4: 0.0\n",
      "DOK2 / DEFA4: 0.0\n",
      "BAG4 / DEFA4: 0.0\n"
     ]
    }
   ],
   "source": [
    "for gene_idx1 in range(0, len(selected_chromosome_genes_obj) - 1):\n",
    "    gene_obj1 = selected_chromosome_genes_obj[gene_idx1]\n",
    "\n",
    "    for gene_idx2 in range(gene_idx1 + 1, len(selected_chromosome_genes_obj)):\n",
    "        gene_obj2 = selected_chromosome_genes_obj[gene_idx2]\n",
    "\n",
    "        c = gene_obj1.get_ssm_correlation(\n",
    "            gene_obj2,\n",
    "        )\n",
    "\n",
    "        print(f\"{gene_obj1.name} / {gene_obj2.name}: {c}\")"
   ]
  },
  {
   "cell_type": "markdown",
   "id": "d3843e06",
   "metadata": {
    "papermill": {
     "duration": 0.007862,
     "end_time": "2022-07-12T05:26:22.822039",
     "exception": false,
     "start_time": "2022-07-12T05:26:22.814177",
     "status": "completed"
    },
    "tags": []
   },
   "source": [
    "# Compute correlation per chromosome"
   ]
  },
  {
   "cell_type": "code",
   "execution_count": 31,
   "id": "cb859c15-d1f3-4006-a74c-2b83c0db9611",
   "metadata": {
    "execution": {
     "iopub.execute_input": "2022-07-12T05:26:22.838510Z",
     "iopub.status.busy": "2022-07-12T05:26:22.838310Z",
     "iopub.status.idle": "2022-07-12T05:26:22.853294Z",
     "shell.execute_reply": "2022-07-12T05:26:22.852814Z"
    },
    "papermill": {
     "duration": 0.024505,
     "end_time": "2022-07-12T05:26:22.854432",
     "exception": false,
     "start_time": "2022-07-12T05:26:22.829927",
     "status": "completed"
    },
    "tags": []
   },
   "outputs": [
    {
     "data": {
      "text/plain": [
       "PosixPath('/opt/data/data/phenomexcan/ld_blocks/gene_corrs/1000g/mashr/by_chr/gene_corrs-chr8.pkl')"
      ]
     },
     "metadata": {},
     "output_type": "display_data"
    }
   ],
   "source": [
    "output_dir = OUTPUT_DIR_BASE / \"by_chr\"\n",
    "output_dir.mkdir(exist_ok=True, parents=True)\n",
    "output_file = output_dir / f\"gene_corrs-chr{chromosome}.pkl\"\n",
    "display(output_file)"
   ]
  },
  {
   "cell_type": "code",
   "execution_count": 32,
   "id": "aa674fe4-6794-4eed-98fa-32b39d1d4ace",
   "metadata": {
    "execution": {
     "iopub.execute_input": "2022-07-12T05:26:22.870711Z",
     "iopub.status.busy": "2022-07-12T05:26:22.870525Z",
     "iopub.status.idle": "2022-07-12T05:26:22.884651Z",
     "shell.execute_reply": "2022-07-12T05:26:22.884240Z"
    },
    "papermill": {
     "duration": 0.023929,
     "end_time": "2022-07-12T05:26:22.885893",
     "exception": false,
     "start_time": "2022-07-12T05:26:22.861964",
     "status": "completed"
    },
    "tags": []
   },
   "outputs": [],
   "source": [
    "warnings.filterwarnings(\"error\")"
   ]
  },
  {
   "cell_type": "code",
   "execution_count": 33,
   "id": "cdbb90a1",
   "metadata": {
    "execution": {
     "iopub.execute_input": "2022-07-12T05:26:22.902548Z",
     "iopub.status.busy": "2022-07-12T05:26:22.902368Z",
     "iopub.status.idle": "2022-07-12T05:57:36.529024Z",
     "shell.execute_reply": "2022-07-12T05:57:36.528448Z"
    },
    "papermill": {
     "duration": 1874.306622,
     "end_time": "2022-07-12T05:57:37.200169",
     "exception": false,
     "start_time": "2022-07-12T05:26:22.893547",
     "status": "completed"
    },
    "tags": []
   },
   "outputs": [
    {
     "name": "stdout",
     "output_type": "stream",
     "text": [
      "Number of genes in chromosome: 222\n",
      "Number of gene combinations: 24531\n"
     ]
    },
    {
     "name": "stderr",
     "output_type": "stream",
     "text": [
      "ENSG00000197363 / ENSG00000196150: 100%|██████████████████████| 24531/24531 [31:13<00:00, 13.09it/s]"
     ]
    },
    {
     "name": "stdout",
     "output_type": "stream",
     "text": [
      "Min/max values: 1.4094910934153512e-09 / 0.7580058954107368\n"
     ]
    },
    {
     "name": "stderr",
     "output_type": "stream",
     "text": [
      "\n"
     ]
    },
    {
     "data": {
      "text/plain": [
       "PosixPath('/opt/data/data/phenomexcan/ld_blocks/gene_corrs/1000g/mashr/by_chr/gene_corrs-chr8.pkl')"
      ]
     },
     "metadata": {},
     "output_type": "display_data"
    }
   ],
   "source": [
    "# standard checks\n",
    "all_chrs = genes_info[\"chr\"].dropna().unique()\n",
    "assert all_chrs.shape[0] == 22\n",
    "\n",
    "# select chromosome given by the user\n",
    "assert chromosome in all_chrs\n",
    "\n",
    "# run only on the chromosome specified\n",
    "all_chrs = [chromosome]\n",
    "genes_chr = genes_info[genes_info[\"chr\"] == chromosome]\n",
    "\n",
    "# For testing purposes\n",
    "# genes_chr = genes_chr.sample(n=20)\n",
    "\n",
    "print(f\"Number of genes in chromosome: {genes_chr.shape[0]}\", flush=True)\n",
    "\n",
    "# sort genes by starting position to make visualizations better later\n",
    "genes_chr = genes_chr.sort_values(\"start_position\")\n",
    "\n",
    "gene_chr_objs = [Gene(ensembl_id=gene_id) for gene_id in genes_chr[\"id\"]]\n",
    "gene_chr_ids = [g.ensembl_id for g in gene_chr_objs]\n",
    "\n",
    "n = len(gene_chr_objs)\n",
    "n_comb = int(n * (n - 1) / 2.0)\n",
    "print(f\"Number of gene combinations: {n_comb}\", flush=True)\n",
    "\n",
    "gene_corrs = []\n",
    "\n",
    "pbar = tqdm(ncols=100, total=n_comb)\n",
    "i = 0\n",
    "for gene_idx1 in range(0, len(gene_chr_objs) - 1):\n",
    "    gene_obj1 = gene_chr_objs[gene_idx1]\n",
    "\n",
    "    for gene_idx2 in range(gene_idx1 + 1, len(gene_chr_objs)):\n",
    "        gene_obj2 = gene_chr_objs[gene_idx2]\n",
    "\n",
    "        pbar.set_description(f\"{gene_obj1.ensembl_id} / {gene_obj2.ensembl_id}\")\n",
    "\n",
    "        try:\n",
    "            # FIXME: compute the correlation of the sum of squares of the model using all\n",
    "            # the available tissues; this could be problematic because for some results\n",
    "            # (computed on a specific phenotype/GWAS) we might not have all the tissues\n",
    "            # available, which can certainly bias the correlation estimation.\n",
    "            # Since this depends on the GWAS on a specific phenotype, we should ideally have\n",
    "            # one correlation matrix per GWAS. I should look at how we can improve this.\n",
    "            r = gene_obj1.get_ssm_correlation(\n",
    "                other_gene=gene_obj2,\n",
    "                condition_number=SMULTIXCAN_CONDITION_NUMBER,\n",
    "                reference_panel=REFERENCE_PANEL,\n",
    "                model_type=EQTL_MODEL,\n",
    "                use_within_distance=COMPUTE_CORRELATIONS_WITHIN_DISTANCE,\n",
    "            )\n",
    "\n",
    "            if r is None:\n",
    "                # if r is None, it's very likely because:\n",
    "                #  * one of the genes has no prediction models\n",
    "                #  * all the SNPs predictors for the gene are not present in the reference\n",
    "                #    panel\n",
    "\n",
    "                r = 0.0\n",
    "\n",
    "            gene_corrs.append(r)\n",
    "        except Warning:\n",
    "            print(\n",
    "                f\"RuntimeWarning for genes {gene_obj1.ensembl_id} and {gene_obj2.ensembl_id}\",\n",
    "                flush=True,\n",
    "            )\n",
    "            import traceback\n",
    "\n",
    "            print(traceback.format_exc(), flush=True)\n",
    "        except Exception as e:\n",
    "            print(\n",
    "                f\"Exception for genes {gene_obj1.ensembl_id} and {gene_obj2.ensembl_id}\",\n",
    "                flush=True,\n",
    "            )\n",
    "            import traceback\n",
    "\n",
    "            print(traceback.format_exc(), flush=True)\n",
    "            gene_corrs.append(np.nan)\n",
    "\n",
    "        pbar.update(1)\n",
    "\n",
    "pbar.close()\n",
    "\n",
    "# testing\n",
    "gene_corrs_flat = pd.Series(gene_corrs)\n",
    "print(f\"Min/max values: {gene_corrs_flat.min()} / {gene_corrs_flat.max()}\")\n",
    "assert gene_corrs_flat.min() >= -1.001\n",
    "assert gene_corrs_flat.max() <= 1.001\n",
    "\n",
    "# save\n",
    "# FIXME: consider saving only the condenced matrix here. See here for\n",
    "# more details: https://github.com/greenelab/phenoplier/pull/38#discussion_r634600813\n",
    "gene_corrs_data = squareform(np.array(gene_corrs, dtype=np.float64))\n",
    "np.fill_diagonal(gene_corrs_data, 1.0)\n",
    "\n",
    "gene_corrs_df = pd.DataFrame(\n",
    "    data=gene_corrs_data,\n",
    "    index=gene_chr_ids,\n",
    "    columns=gene_chr_ids,\n",
    ")\n",
    "\n",
    "output_dir.mkdir(exist_ok=True, parents=True)\n",
    "display(output_file)\n",
    "\n",
    "gene_corrs_df.to_pickle(output_file)"
   ]
  },
  {
   "cell_type": "markdown",
   "id": "faa67b51-5373-470f-aa72-2ded53fa6dfe",
   "metadata": {
    "papermill": {
     "duration": 1.289961,
     "end_time": "2022-07-12T05:57:39.815086",
     "exception": false,
     "start_time": "2022-07-12T05:57:38.525125",
     "status": "completed"
    },
    "tags": []
   },
   "source": [
    "# Testing"
   ]
  },
  {
   "cell_type": "code",
   "execution_count": 34,
   "id": "14f7d046-4b55-4896-a56b-990127bcc388",
   "metadata": {
    "execution": {
     "iopub.execute_input": "2022-07-12T05:57:42.432421Z",
     "iopub.status.busy": "2022-07-12T05:57:42.432207Z",
     "iopub.status.idle": "2022-07-12T05:57:42.447962Z",
     "shell.execute_reply": "2022-07-12T05:57:42.447477Z"
    },
    "papermill": {
     "duration": 1.308173,
     "end_time": "2022-07-12T05:57:42.449131",
     "exception": false,
     "start_time": "2022-07-12T05:57:41.140958",
     "status": "completed"
    },
    "tags": []
   },
   "outputs": [
    {
     "data": {
      "text/plain": [
       "(222, 222)"
      ]
     },
     "execution_count": 34,
     "metadata": {},
     "output_type": "execute_result"
    }
   ],
   "source": [
    "gene_corrs_df.shape"
   ]
  },
  {
   "cell_type": "code",
   "execution_count": 35,
   "id": "c7d15414-3297-4537-a7c6-7588c0baeb75",
   "metadata": {
    "execution": {
     "iopub.execute_input": "2022-07-12T05:57:45.047234Z",
     "iopub.status.busy": "2022-07-12T05:57:45.047024Z",
     "iopub.status.idle": "2022-07-12T05:57:45.077716Z",
     "shell.execute_reply": "2022-07-12T05:57:45.076918Z"
    },
    "papermill": {
     "duration": 1.311929,
     "end_time": "2022-07-12T05:57:45.078911",
     "exception": false,
     "start_time": "2022-07-12T05:57:43.766982",
     "status": "completed"
    },
    "tags": []
   },
   "outputs": [
    {
     "data": {
      "text/html": [
       "<div>\n",
       "<style scoped>\n",
       "    .dataframe tbody tr th:only-of-type {\n",
       "        vertical-align: middle;\n",
       "    }\n",
       "\n",
       "    .dataframe tbody tr th {\n",
       "        vertical-align: top;\n",
       "    }\n",
       "\n",
       "    .dataframe thead th {\n",
       "        text-align: right;\n",
       "    }\n",
       "</style>\n",
       "<table border=\"1\" class=\"dataframe\">\n",
       "  <thead>\n",
       "    <tr style=\"text-align: right;\">\n",
       "      <th></th>\n",
       "      <th>ENSG00000172748</th>\n",
       "      <th>ENSG00000182372</th>\n",
       "      <th>ENSG00000104728</th>\n",
       "      <th>ENSG00000036448</th>\n",
       "      <th>ENSG00000091879</th>\n",
       "      <th>ENSG00000155189</th>\n",
       "      <th>ENSG00000164821</th>\n",
       "      <th>ENSG00000253958</th>\n",
       "      <th>ENSG00000147324</th>\n",
       "      <th>ENSG00000173281</th>\n",
       "      <th>...</th>\n",
       "      <th>ENSG00000071894</th>\n",
       "      <th>ENSG00000147804</th>\n",
       "      <th>ENSG00000160948</th>\n",
       "      <th>ENSG00000160949</th>\n",
       "      <th>ENSG00000187954</th>\n",
       "      <th>ENSG00000160972</th>\n",
       "      <th>ENSG00000167701</th>\n",
       "      <th>ENSG00000161016</th>\n",
       "      <th>ENSG00000197363</th>\n",
       "      <th>ENSG00000196150</th>\n",
       "    </tr>\n",
       "  </thead>\n",
       "  <tbody>\n",
       "    <tr>\n",
       "      <th>ENSG00000172748</th>\n",
       "      <td>1.000000</td>\n",
       "      <td>0.008854</td>\n",
       "      <td>0.018368</td>\n",
       "      <td>0.015724</td>\n",
       "      <td>0.011965</td>\n",
       "      <td>0.010225</td>\n",
       "      <td>0.007858</td>\n",
       "      <td>0.009695</td>\n",
       "      <td>0.006447</td>\n",
       "      <td>0.008447</td>\n",
       "      <td>...</td>\n",
       "      <td>0.005088</td>\n",
       "      <td>0.008847</td>\n",
       "      <td>0.008583</td>\n",
       "      <td>0.005580</td>\n",
       "      <td>0.020421</td>\n",
       "      <td>0.014035</td>\n",
       "      <td>0.016177</td>\n",
       "      <td>0.003297</td>\n",
       "      <td>0.005476</td>\n",
       "      <td>0.005038</td>\n",
       "    </tr>\n",
       "    <tr>\n",
       "      <th>ENSG00000182372</th>\n",
       "      <td>0.008854</td>\n",
       "      <td>1.000000</td>\n",
       "      <td>0.179129</td>\n",
       "      <td>0.014785</td>\n",
       "      <td>0.011253</td>\n",
       "      <td>0.007711</td>\n",
       "      <td>0.002467</td>\n",
       "      <td>0.007930</td>\n",
       "      <td>0.007764</td>\n",
       "      <td>0.007042</td>\n",
       "      <td>...</td>\n",
       "      <td>0.004255</td>\n",
       "      <td>0.008133</td>\n",
       "      <td>0.004954</td>\n",
       "      <td>0.002934</td>\n",
       "      <td>0.006203</td>\n",
       "      <td>0.004687</td>\n",
       "      <td>0.005454</td>\n",
       "      <td>0.003934</td>\n",
       "      <td>0.002419</td>\n",
       "      <td>0.003326</td>\n",
       "    </tr>\n",
       "    <tr>\n",
       "      <th>ENSG00000104728</th>\n",
       "      <td>0.018368</td>\n",
       "      <td>0.179129</td>\n",
       "      <td>1.000000</td>\n",
       "      <td>0.038911</td>\n",
       "      <td>0.018487</td>\n",
       "      <td>0.021773</td>\n",
       "      <td>0.014438</td>\n",
       "      <td>0.020036</td>\n",
       "      <td>0.021818</td>\n",
       "      <td>0.019017</td>\n",
       "      <td>...</td>\n",
       "      <td>0.006686</td>\n",
       "      <td>0.019882</td>\n",
       "      <td>0.009279</td>\n",
       "      <td>0.010439</td>\n",
       "      <td>0.019526</td>\n",
       "      <td>0.015258</td>\n",
       "      <td>0.021320</td>\n",
       "      <td>0.006402</td>\n",
       "      <td>0.017207</td>\n",
       "      <td>0.014296</td>\n",
       "    </tr>\n",
       "    <tr>\n",
       "      <th>ENSG00000036448</th>\n",
       "      <td>0.015724</td>\n",
       "      <td>0.014785</td>\n",
       "      <td>0.038911</td>\n",
       "      <td>1.000000</td>\n",
       "      <td>0.014444</td>\n",
       "      <td>0.013368</td>\n",
       "      <td>0.015180</td>\n",
       "      <td>0.011154</td>\n",
       "      <td>0.012421</td>\n",
       "      <td>0.013131</td>\n",
       "      <td>...</td>\n",
       "      <td>0.010455</td>\n",
       "      <td>0.012223</td>\n",
       "      <td>0.003352</td>\n",
       "      <td>0.010050</td>\n",
       "      <td>0.015169</td>\n",
       "      <td>0.009370</td>\n",
       "      <td>0.012734</td>\n",
       "      <td>0.005159</td>\n",
       "      <td>0.007259</td>\n",
       "      <td>0.007739</td>\n",
       "    </tr>\n",
       "    <tr>\n",
       "      <th>ENSG00000091879</th>\n",
       "      <td>0.011965</td>\n",
       "      <td>0.011253</td>\n",
       "      <td>0.018487</td>\n",
       "      <td>0.014444</td>\n",
       "      <td>1.000000</td>\n",
       "      <td>0.090980</td>\n",
       "      <td>0.029294</td>\n",
       "      <td>0.007554</td>\n",
       "      <td>0.011896</td>\n",
       "      <td>0.017696</td>\n",
       "      <td>...</td>\n",
       "      <td>0.001479</td>\n",
       "      <td>0.008290</td>\n",
       "      <td>0.002738</td>\n",
       "      <td>0.011153</td>\n",
       "      <td>0.014528</td>\n",
       "      <td>0.006116</td>\n",
       "      <td>0.006579</td>\n",
       "      <td>0.003857</td>\n",
       "      <td>0.008081</td>\n",
       "      <td>0.007860</td>\n",
       "    </tr>\n",
       "  </tbody>\n",
       "</table>\n",
       "<p>5 rows × 222 columns</p>\n",
       "</div>"
      ],
      "text/plain": [
       "                 ENSG00000172748  ENSG00000182372  ENSG00000104728  \\\n",
       "ENSG00000172748         1.000000         0.008854         0.018368   \n",
       "ENSG00000182372         0.008854         1.000000         0.179129   \n",
       "ENSG00000104728         0.018368         0.179129         1.000000   \n",
       "ENSG00000036448         0.015724         0.014785         0.038911   \n",
       "ENSG00000091879         0.011965         0.011253         0.018487   \n",
       "\n",
       "                 ENSG00000036448  ENSG00000091879  ENSG00000155189  \\\n",
       "ENSG00000172748         0.015724         0.011965         0.010225   \n",
       "ENSG00000182372         0.014785         0.011253         0.007711   \n",
       "ENSG00000104728         0.038911         0.018487         0.021773   \n",
       "ENSG00000036448         1.000000         0.014444         0.013368   \n",
       "ENSG00000091879         0.014444         1.000000         0.090980   \n",
       "\n",
       "                 ENSG00000164821  ENSG00000253958  ENSG00000147324  \\\n",
       "ENSG00000172748         0.007858         0.009695         0.006447   \n",
       "ENSG00000182372         0.002467         0.007930         0.007764   \n",
       "ENSG00000104728         0.014438         0.020036         0.021818   \n",
       "ENSG00000036448         0.015180         0.011154         0.012421   \n",
       "ENSG00000091879         0.029294         0.007554         0.011896   \n",
       "\n",
       "                 ENSG00000173281  ...  ENSG00000071894  ENSG00000147804  \\\n",
       "ENSG00000172748         0.008447  ...         0.005088         0.008847   \n",
       "ENSG00000182372         0.007042  ...         0.004255         0.008133   \n",
       "ENSG00000104728         0.019017  ...         0.006686         0.019882   \n",
       "ENSG00000036448         0.013131  ...         0.010455         0.012223   \n",
       "ENSG00000091879         0.017696  ...         0.001479         0.008290   \n",
       "\n",
       "                 ENSG00000160948  ENSG00000160949  ENSG00000187954  \\\n",
       "ENSG00000172748         0.008583         0.005580         0.020421   \n",
       "ENSG00000182372         0.004954         0.002934         0.006203   \n",
       "ENSG00000104728         0.009279         0.010439         0.019526   \n",
       "ENSG00000036448         0.003352         0.010050         0.015169   \n",
       "ENSG00000091879         0.002738         0.011153         0.014528   \n",
       "\n",
       "                 ENSG00000160972  ENSG00000167701  ENSG00000161016  \\\n",
       "ENSG00000172748         0.014035         0.016177         0.003297   \n",
       "ENSG00000182372         0.004687         0.005454         0.003934   \n",
       "ENSG00000104728         0.015258         0.021320         0.006402   \n",
       "ENSG00000036448         0.009370         0.012734         0.005159   \n",
       "ENSG00000091879         0.006116         0.006579         0.003857   \n",
       "\n",
       "                 ENSG00000197363  ENSG00000196150  \n",
       "ENSG00000172748         0.005476         0.005038  \n",
       "ENSG00000182372         0.002419         0.003326  \n",
       "ENSG00000104728         0.017207         0.014296  \n",
       "ENSG00000036448         0.007259         0.007739  \n",
       "ENSG00000091879         0.008081         0.007860  \n",
       "\n",
       "[5 rows x 222 columns]"
      ]
     },
     "execution_count": 35,
     "metadata": {},
     "output_type": "execute_result"
    }
   ],
   "source": [
    "gene_corrs_df.head()"
   ]
  },
  {
   "cell_type": "code",
   "execution_count": 36,
   "id": "286686af-1b7b-4440-8453-6bdcbd8de19c",
   "metadata": {
    "execution": {
     "iopub.execute_input": "2022-07-12T05:57:47.758586Z",
     "iopub.status.busy": "2022-07-12T05:57:47.758329Z",
     "iopub.status.idle": "2022-07-12T05:57:47.774687Z",
     "shell.execute_reply": "2022-07-12T05:57:47.774284Z"
    },
    "papermill": {
     "duration": 1.404068,
     "end_time": "2022-07-12T05:57:47.776027",
     "exception": false,
     "start_time": "2022-07-12T05:57:46.371959",
     "status": "completed"
    },
    "tags": []
   },
   "outputs": [],
   "source": [
    "assert not gene_corrs_df.isna().any().any()"
   ]
  },
  {
   "cell_type": "code",
   "execution_count": 37,
   "id": "00583efc-7068-4270-ad1e-4a418e91db96",
   "metadata": {
    "execution": {
     "iopub.execute_input": "2022-07-12T05:57:50.438283Z",
     "iopub.status.busy": "2022-07-12T05:57:50.438069Z",
     "iopub.status.idle": "2022-07-12T05:57:50.455294Z",
     "shell.execute_reply": "2022-07-12T05:57:50.454830Z"
    },
    "papermill": {
     "duration": 1.346417,
     "end_time": "2022-07-12T05:57:50.456959",
     "exception": false,
     "start_time": "2022-07-12T05:57:49.110542",
     "status": "completed"
    },
    "tags": []
   },
   "outputs": [
    {
     "data": {
      "text/plain": [
       "1.4094910934153512e-09"
      ]
     },
     "metadata": {},
     "output_type": "display_data"
    }
   ],
   "source": [
    "_min_val = gene_corrs_df.min().min()\n",
    "display(_min_val)\n",
    "assert _min_val >= 0.0"
   ]
  },
  {
   "cell_type": "code",
   "execution_count": 38,
   "id": "d04fb2cf-1050-475b-b855-f5f7cc04092b",
   "metadata": {
    "execution": {
     "iopub.execute_input": "2022-07-12T05:57:53.108044Z",
     "iopub.status.busy": "2022-07-12T05:57:53.107821Z",
     "iopub.status.idle": "2022-07-12T05:57:53.124679Z",
     "shell.execute_reply": "2022-07-12T05:57:53.124253Z"
    },
    "papermill": {
     "duration": 1.386496,
     "end_time": "2022-07-12T05:57:53.125794",
     "exception": false,
     "start_time": "2022-07-12T05:57:51.739298",
     "status": "completed"
    },
    "tags": []
   },
   "outputs": [
    {
     "data": {
      "text/plain": [
       "1.0"
      ]
     },
     "metadata": {},
     "output_type": "display_data"
    }
   ],
   "source": [
    "_max_val = gene_corrs_df.max().max()  # this captures the diagonal\n",
    "display(_max_val)\n",
    "assert _max_val <= 1.0"
   ]
  },
  {
   "cell_type": "code",
   "execution_count": 39,
   "id": "96d02c44-1fba-47be-8a93-8f2608420b9c",
   "metadata": {
    "execution": {
     "iopub.execute_input": "2022-07-12T05:57:55.715942Z",
     "iopub.status.busy": "2022-07-12T05:57:55.715733Z",
     "iopub.status.idle": "2022-07-12T05:57:55.730941Z",
     "shell.execute_reply": "2022-07-12T05:57:55.730500Z"
    },
    "papermill": {
     "duration": 1.339252,
     "end_time": "2022-07-12T05:57:55.732213",
     "exception": false,
     "start_time": "2022-07-12T05:57:54.392961",
     "status": "completed"
    },
    "tags": []
   },
   "outputs": [],
   "source": [
    "# check upper triangular values\n",
    "assert len(gene_corrs) == int(genes_chr.shape[0] * (genes_chr.shape[0] - 1) / 2)"
   ]
  },
  {
   "cell_type": "code",
   "execution_count": 40,
   "id": "aaa51627-f4e3-4744-a41f-7d25adcc0a78",
   "metadata": {
    "execution": {
     "iopub.execute_input": "2022-07-12T05:57:58.362910Z",
     "iopub.status.busy": "2022-07-12T05:57:58.362674Z",
     "iopub.status.idle": "2022-07-12T05:57:58.385626Z",
     "shell.execute_reply": "2022-07-12T05:57:58.385146Z"
    },
    "papermill": {
     "duration": 1.378474,
     "end_time": "2022-07-12T05:57:58.387295",
     "exception": false,
     "start_time": "2022-07-12T05:57:57.008821",
     "status": "completed"
    },
    "tags": []
   },
   "outputs": [],
   "source": [
    "gene_corrs = pd.Series(gene_corrs)"
   ]
  },
  {
   "cell_type": "code",
   "execution_count": 41,
   "id": "fe283586-c348-40e0-8841-f6d97bfb021c",
   "metadata": {
    "execution": {
     "iopub.execute_input": "2022-07-12T05:58:00.950481Z",
     "iopub.status.busy": "2022-07-12T05:58:00.950319Z",
     "iopub.status.idle": "2022-07-12T05:58:00.969270Z",
     "shell.execute_reply": "2022-07-12T05:58:00.968843Z"
    },
    "papermill": {
     "duration": 1.321309,
     "end_time": "2022-07-12T05:58:00.970429",
     "exception": false,
     "start_time": "2022-07-12T05:57:59.649120",
     "status": "completed"
    },
    "tags": []
   },
   "outputs": [
    {
     "data": {
      "text/plain": [
       "count    2.453100e+04\n",
       "mean     1.044972e-02\n",
       "std      2.314649e-02\n",
       "min      1.409491e-09\n",
       "25%      5.525051e-03\n",
       "50%      8.369710e-03\n",
       "75%      1.164457e-02\n",
       "max      7.580059e-01\n",
       "dtype: float64"
      ]
     },
     "execution_count": 41,
     "metadata": {},
     "output_type": "execute_result"
    }
   ],
   "source": [
    "gene_corrs.describe()"
   ]
  },
  {
   "cell_type": "code",
   "execution_count": 42,
   "id": "b3815678-0f93-4b35-897b-a9d047a2aa78",
   "metadata": {
    "execution": {
     "iopub.execute_input": "2022-07-12T05:58:03.562658Z",
     "iopub.status.busy": "2022-07-12T05:58:03.562449Z",
     "iopub.status.idle": "2022-07-12T05:58:03.580648Z",
     "shell.execute_reply": "2022-07-12T05:58:03.580146Z"
    },
    "papermill": {
     "duration": 1.299611,
     "end_time": "2022-07-12T05:58:03.581821",
     "exception": false,
     "start_time": "2022-07-12T05:58:02.282210",
     "status": "completed"
    },
    "tags": []
   },
   "outputs": [
    {
     "data": {
      "text/plain": [
       "0.00    1.409491e-09\n",
       "0.05    2.282688e-03\n",
       "0.10    3.346209e-03\n",
       "0.15    4.183939e-03\n",
       "0.20    4.889228e-03\n",
       "0.25    5.525051e-03\n",
       "0.30    6.141232e-03\n",
       "0.35    6.709526e-03\n",
       "0.40    7.279614e-03\n",
       "0.45    7.837505e-03\n",
       "0.50    8.369710e-03\n",
       "0.55    8.938892e-03\n",
       "0.60    9.520701e-03\n",
       "0.65    1.018337e-02\n",
       "0.70    1.089914e-02\n",
       "0.75    1.164457e-02\n",
       "0.80    1.254599e-02\n",
       "0.85    1.365526e-02\n",
       "0.90    1.515839e-02\n",
       "0.95    1.771296e-02\n",
       "dtype: float64"
      ]
     },
     "metadata": {},
     "output_type": "display_data"
    }
   ],
   "source": [
    "gene_corrs_quantiles = gene_corrs.quantile(np.arange(0, 1, 0.05))\n",
    "display(gene_corrs_quantiles)"
   ]
  },
  {
   "cell_type": "markdown",
   "id": "8e60a080-edb2-4e9c-b2ef-22961693200c",
   "metadata": {
    "papermill": {
     "duration": 1.301308,
     "end_time": "2022-07-12T05:58:06.156694",
     "exception": false,
     "start_time": "2022-07-12T05:58:04.855386",
     "status": "completed"
    },
    "tags": []
   },
   "source": [
    "## Plot: distribution"
   ]
  },
  {
   "cell_type": "code",
   "execution_count": 43,
   "id": "8301126b-a7d4-4744-9c7d-f0f86eb6f54c",
   "metadata": {
    "execution": {
     "iopub.execute_input": "2022-07-12T05:58:08.726688Z",
     "iopub.status.busy": "2022-07-12T05:58:08.726473Z",
     "iopub.status.idle": "2022-07-12T05:58:12.657912Z",
     "shell.execute_reply": "2022-07-12T05:58:12.657416Z"
    },
    "papermill": {
     "duration": 5.265021,
     "end_time": "2022-07-12T05:58:12.659310",
     "exception": false,
     "start_time": "2022-07-12T05:58:07.394289",
     "status": "completed"
    },
    "tags": []
   },
   "outputs": [
    {
     "data": {
      "image/png": "[encoded data removed]",
      "text/plain": [
       "<Figure size 504x504 with 1 Axes>"
      ]
     },
     "metadata": {
      "needs_background": "light"
     },
     "output_type": "display_data"
    }
   ],
   "source": [
    "with sns.plotting_context(\"paper\", font_scale=1.5):\n",
    "    g = sns.displot(gene_corrs, kde=True, height=7)\n",
    "    g.ax.set_title(\n",
    "        f\"Distribution of gene correlation values in chromosome {chromosome}\"\n",
    "    )"
   ]
  },
  {
   "cell_type": "markdown",
   "id": "cbd52bca-d878-4a2f-b684-5c83aa3038d4",
   "metadata": {
    "papermill": {
     "duration": 1.353954,
     "end_time": "2022-07-12T05:58:15.320942",
     "exception": false,
     "start_time": "2022-07-12T05:58:13.966988",
     "status": "completed"
    },
    "tags": []
   },
   "source": [
    "## Plot: heatmap"
   ]
  },
  {
   "cell_type": "code",
   "execution_count": 44,
   "id": "d03fe63a-c7b2-4fb9-a53c-db362ce843c9",
   "metadata": {
    "execution": {
     "iopub.execute_input": "2022-07-12T05:58:17.960811Z",
     "iopub.status.busy": "2022-07-12T05:58:17.960594Z",
     "iopub.status.idle": "2022-07-12T05:58:17.978286Z",
     "shell.execute_reply": "2022-07-12T05:58:17.977845Z"
    },
    "papermill": {
     "duration": 1.394161,
     "end_time": "2022-07-12T05:58:17.979506",
     "exception": false,
     "start_time": "2022-07-12T05:58:16.585345",
     "status": "completed"
    },
    "tags": []
   },
   "outputs": [
    {
     "data": {
      "text/plain": [
       "'-0.05 / 0.05'"
      ]
     },
     "metadata": {},
     "output_type": "display_data"
    }
   ],
   "source": [
    "vmin_val = min(-0.05, gene_corrs_quantiles[0.10])\n",
    "vmax_val = max(0.05, gene_corrs_quantiles[0.90])\n",
    "display(f\"{vmin_val} / {vmax_val}\")"
   ]
  },
  {
   "cell_type": "code",
   "execution_count": 45,
   "id": "dc41b70b-5bcc-4d9e-9f33-a22c4a94dab5",
   "metadata": {
    "execution": {
     "iopub.execute_input": "2022-07-12T05:58:20.641042Z",
     "iopub.status.busy": "2022-07-12T05:58:20.640819Z",
     "iopub.status.idle": "2022-07-12T05:58:20.835967Z",
     "shell.execute_reply": "2022-07-12T05:58:20.835516Z"
    },
    "papermill": {
     "duration": 1.557247,
     "end_time": "2022-07-12T05:58:20.837188",
     "exception": false,
     "start_time": "2022-07-12T05:58:19.279941",
     "status": "completed"
    },
    "tags": []
   },
   "outputs": [
    {
     "data": {
      "text/plain": [
       "Text(0.5, 1.0, 'Gene correlations in chromosome 8')"
      ]
     },
     "execution_count": 45,
     "metadata": {},
     "output_type": "execute_result"
    },
    {
     "data": {
      "image/png": "[encoded data removed]",
      "text/plain": [
       "<Figure size 720x720 with 2 Axes>"
      ]
     },
     "metadata": {
      "needs_background": "light"
     },
     "output_type": "display_data"
    }
   ],
   "source": [
    "f, ax = plt.subplots(figsize=(10, 10))\n",
    "sns.heatmap(\n",
    "    gene_corrs_df,\n",
    "    xticklabels=False,\n",
    "    yticklabels=False,\n",
    "    square=True,\n",
    "    vmin=vmin_val,\n",
    "    vmax=vmax_val,\n",
    "    cmap=\"YlGnBu\",\n",
    "    ax=ax,\n",
    ")\n",
    "ax.set_title(f\"Gene correlations in chromosome {chromosome}\")"
   ]
  },
  {
   "cell_type": "code",
   "execution_count": null,
   "id": "b25e3ead",
   "metadata": {
    "papermill": {
     "duration": 1.270969,
     "end_time": "2022-07-12T05:58:23.436099",
     "exception": false,
     "start_time": "2022-07-12T05:58:22.165130",
     "status": "completed"
    },
    "tags": []
   },
   "outputs": [],
   "source": []
  }
 ],
 "metadata": {
  "jupytext": {
   "cell_metadata_filter": "all,-execution,-papermill,-trusted",
   "formats": "ipynb,py//py:percent"
  },
  "kernelspec": {
   "display_name": "Python 3 (ipykernel)",
   "language": "python",
   "name": "python3"
  },
  "language_info": {
   "codemirror_mode": {
    "name": "ipython",
    "version": 3
   },
   "file_extension": ".py",
   "mimetype": "text/x-python",
   "name": "python",
   "nbconvert_exporter": "python",
   "pygments_lexer": "ipython3",
   "version": "3.8.13"
  },
  "papermill": {
   "default_parameters": {},
   "duration": 1930.793249,
   "end_time": "2022-07-12T05:58:28.233583",
   "environment_variables": {},
   "exception": null,
   "input_path": "nbs/15_gsa_gls/10-gene_expr_correlations.ipynb",
   "output_path": "nbs/15_gsa_gls/gene_corrs/1000g/mashr/10-gene_expr_correlations-chr8.run.ipynb",
   "parameters": {
    "EQTL_MODEL": "MASHR",
    "REFERENCE_PANEL": "1000G",
    "chromosome": 8
   },
   "start_time": "2022-07-12T05:26:17.440334",
   "version": "2.2.2"
  }
 },
 "nbformat": 4,
 "nbformat_minor": 5
}
