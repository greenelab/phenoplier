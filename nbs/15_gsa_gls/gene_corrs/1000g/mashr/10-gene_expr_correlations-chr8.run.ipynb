{
 "cells": [
  {
   "cell_type": "markdown",
   "id": "7a6632fb",
   "metadata": {
    "papermill": {
     "duration": 0.008443,
     "end_time": "2022-07-11T06:43:56.758482",
     "exception": false,
     "start_time": "2022-07-11T06:43:56.750039",
     "status": "completed"
    },
    "tags": []
   },
   "source": [
    "# Description"
   ]
  },
  {
   "cell_type": "markdown",
   "id": "7097c346",
   "metadata": {
    "papermill": {
     "duration": 0.008953,
     "end_time": "2022-07-11T06:43:56.778312",
     "exception": false,
     "start_time": "2022-07-11T06:43:56.769359",
     "status": "completed"
    },
    "tags": []
   },
   "source": [
    "(Please, take a look at the README.md file in this directory for instructions on how to run this notebook)\n",
    "\n",
    "This notebook computes predicted expression correlations between all genes in the MultiPLIER models.\n",
    "\n",
    "It also has a parameter set for papermill to run on a single chromosome to run in parallel (see under `Settings` below).\n",
    "\n",
    "This notebook is not directly run. See README.md."
   ]
  },
  {
   "cell_type": "markdown",
   "id": "c61d8427",
   "metadata": {
    "papermill": {
     "duration": 0.014755,
     "end_time": "2022-07-11T06:43:56.801573",
     "exception": false,
     "start_time": "2022-07-11T06:43:56.786818",
     "status": "completed"
    },
    "tags": []
   },
   "source": [
    "# Modules"
   ]
  },
  {
   "cell_type": "code",
   "execution_count": 1,
   "id": "bbc0234f",
   "metadata": {
    "execution": {
     "iopub.execute_input": "2022-07-11T06:43:56.815515Z",
     "iopub.status.busy": "2022-07-11T06:43:56.815146Z",
     "iopub.status.idle": "2022-07-11T06:43:56.830434Z",
     "shell.execute_reply": "2022-07-11T06:43:56.829950Z"
    },
    "papermill": {
     "duration": 0.022849,
     "end_time": "2022-07-11T06:43:56.831814",
     "exception": false,
     "start_time": "2022-07-11T06:43:56.808965",
     "status": "completed"
    },
    "tags": []
   },
   "outputs": [],
   "source": [
    "%load_ext autoreload\n",
    "%autoreload 2"
   ]
  },
  {
   "cell_type": "code",
   "execution_count": 2,
   "id": "1d5f5a59",
   "metadata": {
    "execution": {
     "iopub.execute_input": "2022-07-11T06:43:56.844132Z",
     "iopub.status.busy": "2022-07-11T06:43:56.843842Z",
     "iopub.status.idle": "2022-07-11T06:43:57.845008Z",
     "shell.execute_reply": "2022-07-11T06:43:57.844571Z"
    },
    "papermill": {
     "duration": 1.009116,
     "end_time": "2022-07-11T06:43:57.846450",
     "exception": false,
     "start_time": "2022-07-11T06:43:56.837334",
     "status": "completed"
    },
    "tags": []
   },
   "outputs": [],
   "source": [
    "from random import sample, seed\n",
    "import warnings\n",
    "from pathlib import Path\n",
    "\n",
    "import numpy as np\n",
    "from scipy.spatial.distance import squareform\n",
    "import pandas as pd\n",
    "from tqdm import tqdm\n",
    "import matplotlib.pyplot as plt\n",
    "import seaborn as sns\n",
    "\n",
    "import conf\n",
    "from entity import Gene"
   ]
  },
  {
   "cell_type": "markdown",
   "id": "1eac24b5",
   "metadata": {
    "papermill": {
     "duration": 0.006178,
     "end_time": "2022-07-11T06:43:57.886213",
     "exception": false,
     "start_time": "2022-07-11T06:43:57.880035",
     "status": "completed"
    },
    "tags": []
   },
   "source": [
    "# Settings"
   ]
  },
  {
   "cell_type": "code",
   "execution_count": 3,
   "id": "ca4560ba",
   "metadata": {
    "execution": {
     "iopub.execute_input": "2022-07-11T06:43:57.901217Z",
     "iopub.status.busy": "2022-07-11T06:43:57.900703Z",
     "iopub.status.idle": "2022-07-11T06:43:57.939494Z",
     "shell.execute_reply": "2022-07-11T06:43:57.939109Z"
    },
    "papermill": {
     "duration": 0.048493,
     "end_time": "2022-07-11T06:43:57.940743",
     "exception": false,
     "start_time": "2022-07-11T06:43:57.892250",
     "status": "completed"
    },
    "tags": [
     "parameters"
    ]
   },
   "outputs": [],
   "source": [
    "# reference panel\n",
    "REFERENCE_PANEL = \"GTEX_V8\"\n",
    "# REFERENCE_PANEL = \"1000G\"\n",
    "\n",
    "# prediction models\n",
    "## mashr\n",
    "EQTL_MODEL = \"MASHR\"\n",
    "\n",
    "# this is the default value used in S-MultiXcan to select the\n",
    "# top principal components of the expression correlation matrix\n",
    "SMULTIXCAN_CONDITION_NUMBER = 30\n",
    "\n",
    "# specifies a single chromosome value\n",
    "# by default, run on all chromosomes\n",
    "chromosome = None"
   ]
  },
  {
   "cell_type": "code",
   "execution_count": 4,
   "id": "754c8a81",
   "metadata": {
    "execution": {
     "iopub.execute_input": "2022-07-11T06:43:57.964162Z",
     "iopub.status.busy": "2022-07-11T06:43:57.964001Z",
     "iopub.status.idle": "2022-07-11T06:43:57.998675Z",
     "shell.execute_reply": "2022-07-11T06:43:57.998287Z"
    },
    "papermill": {
     "duration": 0.044056,
     "end_time": "2022-07-11T06:43:57.999899",
     "exception": false,
     "start_time": "2022-07-11T06:43:57.955843",
     "status": "completed"
    },
    "tags": [
     "injected-parameters"
    ]
   },
   "outputs": [],
   "source": [
    "# Parameters\n",
    "chromosome = 8\n",
    "REFERENCE_PANEL = \"1000G\"\n",
    "EQTL_MODEL = \"MASHR\"\n"
   ]
  },
  {
   "cell_type": "code",
   "execution_count": 5,
   "id": "a089c9ff",
   "metadata": {
    "execution": {
     "iopub.execute_input": "2022-07-11T06:43:58.019797Z",
     "iopub.status.busy": "2022-07-11T06:43:58.019626Z",
     "iopub.status.idle": "2022-07-11T06:43:58.034931Z",
     "shell.execute_reply": "2022-07-11T06:43:58.034528Z"
    },
    "papermill": {
     "duration": 0.022863,
     "end_time": "2022-07-11T06:43:58.036375",
     "exception": false,
     "start_time": "2022-07-11T06:43:58.013512",
     "status": "completed"
    },
    "tags": []
   },
   "outputs": [],
   "source": [
    "EQTL_MODEL_FILES_PREFIX = conf.PHENOMEXCAN[\"PREDICTION_MODELS\"][f\"{EQTL_MODEL}_PREFIX\"]"
   ]
  },
  {
   "cell_type": "code",
   "execution_count": 6,
   "id": "8fe24bef",
   "metadata": {
    "execution": {
     "iopub.execute_input": "2022-07-11T06:43:58.048884Z",
     "iopub.status.busy": "2022-07-11T06:43:58.048718Z",
     "iopub.status.idle": "2022-07-11T06:43:58.067850Z",
     "shell.execute_reply": "2022-07-11T06:43:58.067427Z"
    },
    "papermill": {
     "duration": 0.027014,
     "end_time": "2022-07-11T06:43:58.069334",
     "exception": false,
     "start_time": "2022-07-11T06:43:58.042320",
     "status": "completed"
    },
    "tags": []
   },
   "outputs": [
    {
     "data": {
      "text/plain": [
       "'Using eQTL model: MASHR / mashr_'"
      ]
     },
     "metadata": {},
     "output_type": "display_data"
    }
   ],
   "source": [
    "display(f\"Using eQTL model: {EQTL_MODEL} / {EQTL_MODEL_FILES_PREFIX}\")"
   ]
  },
  {
   "cell_type": "code",
   "execution_count": 7,
   "id": "552a7f63-a18c-4d3e-bb6a-94f99b431291",
   "metadata": {
    "execution": {
     "iopub.execute_input": "2022-07-11T06:43:58.082479Z",
     "iopub.status.busy": "2022-07-11T06:43:58.082311Z",
     "iopub.status.idle": "2022-07-11T06:43:58.100039Z",
     "shell.execute_reply": "2022-07-11T06:43:58.099572Z"
    },
    "papermill": {
     "duration": 0.02596,
     "end_time": "2022-07-11T06:43:58.101625",
     "exception": false,
     "start_time": "2022-07-11T06:43:58.075665",
     "status": "completed"
    },
    "tags": []
   },
   "outputs": [
    {
     "data": {
      "text/plain": [
       "'S-MultiXcan condition number: 30'"
      ]
     },
     "metadata": {},
     "output_type": "display_data"
    }
   ],
   "source": [
    "display(f\"S-MultiXcan condition number: {SMULTIXCAN_CONDITION_NUMBER}\")"
   ]
  },
  {
   "cell_type": "code",
   "execution_count": 8,
   "id": "0230ebcb-2c32-4b95-9292-d9a52038e70d",
   "metadata": {
    "execution": {
     "iopub.execute_input": "2022-07-11T06:43:58.115210Z",
     "iopub.status.busy": "2022-07-11T06:43:58.115038Z",
     "iopub.status.idle": "2022-07-11T06:43:58.131361Z",
     "shell.execute_reply": "2022-07-11T06:43:58.130886Z"
    },
    "papermill": {
     "duration": 0.024704,
     "end_time": "2022-07-11T06:43:58.132901",
     "exception": false,
     "start_time": "2022-07-11T06:43:58.108197",
     "status": "completed"
    },
    "tags": []
   },
   "outputs": [],
   "source": [
    "REFERENCE_PANEL_DIR = conf.PHENOMEXCAN[\"LD_BLOCKS\"][f\"{REFERENCE_PANEL}_GENOTYPE_DIR\"]"
   ]
  },
  {
   "cell_type": "code",
   "execution_count": 9,
   "id": "98c4a159-601d-4a22-a1ab-35bd451c25f9",
   "metadata": {
    "execution": {
     "iopub.execute_input": "2022-07-11T06:43:58.146483Z",
     "iopub.status.busy": "2022-07-11T06:43:58.146306Z",
     "iopub.status.idle": "2022-07-11T06:43:58.164244Z",
     "shell.execute_reply": "2022-07-11T06:43:58.163799Z"
    },
    "papermill": {
     "duration": 0.026404,
     "end_time": "2022-07-11T06:43:58.165723",
     "exception": false,
     "start_time": "2022-07-11T06:43:58.139319",
     "status": "completed"
    },
    "tags": []
   },
   "outputs": [
    {
     "data": {
      "text/plain": [
       "'Using reference panel folder: /opt/data/data/phenomexcan/ld_blocks/reference_panel_1000G'"
      ]
     },
     "metadata": {},
     "output_type": "display_data"
    }
   ],
   "source": [
    "display(f\"Using reference panel folder: {str(REFERENCE_PANEL_DIR)}\")"
   ]
  },
  {
   "cell_type": "code",
   "execution_count": 10,
   "id": "396392dc-0340-4540-9b02-e182b833f909",
   "metadata": {
    "execution": {
     "iopub.execute_input": "2022-07-11T06:43:58.179756Z",
     "iopub.status.busy": "2022-07-11T06:43:58.179572Z",
     "iopub.status.idle": "2022-07-11T06:43:58.196309Z",
     "shell.execute_reply": "2022-07-11T06:43:58.195886Z"
    },
    "papermill": {
     "duration": 0.025297,
     "end_time": "2022-07-11T06:43:58.197817",
     "exception": false,
     "start_time": "2022-07-11T06:43:58.172520",
     "status": "completed"
    },
    "tags": []
   },
   "outputs": [],
   "source": [
    "OUTPUT_DIR_BASE = (\n",
    "    conf.PHENOMEXCAN[\"LD_BLOCKS\"][f\"GENE_CORRS_DIR\"]\n",
    "    / REFERENCE_PANEL.lower()\n",
    "    / EQTL_MODEL.lower()\n",
    ")\n",
    "OUTPUT_DIR_BASE.mkdir(parents=True, exist_ok=True)"
   ]
  },
  {
   "cell_type": "code",
   "execution_count": 11,
   "id": "8942c2d3-e53c-4d63-a0eb-b6fce0574d36",
   "metadata": {
    "execution": {
     "iopub.execute_input": "2022-07-11T06:43:58.211787Z",
     "iopub.status.busy": "2022-07-11T06:43:58.211612Z",
     "iopub.status.idle": "2022-07-11T06:43:58.229574Z",
     "shell.execute_reply": "2022-07-11T06:43:58.229138Z"
    },
    "papermill": {
     "duration": 0.026498,
     "end_time": "2022-07-11T06:43:58.231047",
     "exception": false,
     "start_time": "2022-07-11T06:43:58.204549",
     "status": "completed"
    },
    "tags": []
   },
   "outputs": [
    {
     "data": {
      "text/plain": [
       "'Using output dir base: /opt/data/data/phenomexcan/ld_blocks/gene_corrs/1000g/mashr'"
      ]
     },
     "metadata": {},
     "output_type": "display_data"
    }
   ],
   "source": [
    "display(f\"Using output dir base: {OUTPUT_DIR_BASE}\")"
   ]
  },
  {
   "cell_type": "code",
   "execution_count": 12,
   "id": "408aa590",
   "metadata": {
    "execution": {
     "iopub.execute_input": "2022-07-11T06:43:58.245109Z",
     "iopub.status.busy": "2022-07-11T06:43:58.244939Z",
     "iopub.status.idle": "2022-07-11T06:43:58.260904Z",
     "shell.execute_reply": "2022-07-11T06:43:58.260457Z"
    },
    "papermill": {
     "duration": 0.024599,
     "end_time": "2022-07-11T06:43:58.262425",
     "exception": false,
     "start_time": "2022-07-11T06:43:58.237826",
     "status": "completed"
    },
    "tags": []
   },
   "outputs": [],
   "source": [
    "assert (\n",
    "    chromosome is not None\n",
    "), \"You have to select one chromosome (format: number between 1 and 22)\""
   ]
  },
  {
   "cell_type": "code",
   "execution_count": 13,
   "id": "c1c7dd06-80ff-453c-bcb7-0899edce75da",
   "metadata": {
    "execution": {
     "iopub.execute_input": "2022-07-11T06:43:58.276742Z",
     "iopub.status.busy": "2022-07-11T06:43:58.276575Z",
     "iopub.status.idle": "2022-07-11T06:43:58.292295Z",
     "shell.execute_reply": "2022-07-11T06:43:58.291850Z"
    },
    "papermill": {
     "duration": 0.024344,
     "end_time": "2022-07-11T06:43:58.293767",
     "exception": false,
     "start_time": "2022-07-11T06:43:58.269423",
     "status": "completed"
    },
    "tags": []
   },
   "outputs": [],
   "source": [
    "chromosome = str(chromosome)"
   ]
  },
  {
   "cell_type": "code",
   "execution_count": 14,
   "id": "bc17b84c-9c26-47a5-a3ab-7046e72f3ef4",
   "metadata": {
    "execution": {
     "iopub.execute_input": "2022-07-11T06:43:58.308396Z",
     "iopub.status.busy": "2022-07-11T06:43:58.307733Z",
     "iopub.status.idle": "2022-07-11T06:43:58.325880Z",
     "shell.execute_reply": "2022-07-11T06:43:58.325438Z"
    },
    "papermill": {
     "duration": 0.026841,
     "end_time": "2022-07-11T06:43:58.327441",
     "exception": false,
     "start_time": "2022-07-11T06:43:58.300600",
     "status": "completed"
    },
    "tags": []
   },
   "outputs": [
    {
     "data": {
      "text/plain": [
       "'Working on chromosome 8'"
      ]
     },
     "metadata": {},
     "output_type": "display_data"
    }
   ],
   "source": [
    "display(f\"Working on chromosome {chromosome}\")"
   ]
  },
  {
   "cell_type": "markdown",
   "id": "d2ba085e",
   "metadata": {
    "papermill": {
     "duration": 0.006441,
     "end_time": "2022-07-11T06:43:58.340817",
     "exception": false,
     "start_time": "2022-07-11T06:43:58.334376",
     "status": "completed"
    },
    "tags": []
   },
   "source": [
    "# Load data"
   ]
  },
  {
   "cell_type": "markdown",
   "id": "7bed0ce0-e7c7-4300-9a61-5412450b1904",
   "metadata": {
    "papermill": {
     "duration": 0.006331,
     "end_time": "2022-07-11T06:43:58.353601",
     "exception": false,
     "start_time": "2022-07-11T06:43:58.347270",
     "status": "completed"
    },
    "tags": []
   },
   "source": [
    "## Prediction model tissues"
   ]
  },
  {
   "cell_type": "code",
   "execution_count": 15,
   "id": "0847c065-0d69-4830-a07f-1c75115d17f5",
   "metadata": {
    "execution": {
     "iopub.execute_input": "2022-07-11T06:43:58.367414Z",
     "iopub.status.busy": "2022-07-11T06:43:58.367200Z",
     "iopub.status.idle": "2022-07-11T06:43:58.382834Z",
     "shell.execute_reply": "2022-07-11T06:43:58.382428Z"
    },
    "papermill": {
     "duration": 0.024277,
     "end_time": "2022-07-11T06:43:58.384391",
     "exception": false,
     "start_time": "2022-07-11T06:43:58.360114",
     "status": "completed"
    },
    "tags": []
   },
   "outputs": [],
   "source": [
    "prediction_model_tissues = conf.PHENOMEXCAN[\"PREDICTION_MODELS\"][\n",
    "    f\"{EQTL_MODEL}_TISSUES\"\n",
    "].split(\" \")"
   ]
  },
  {
   "cell_type": "code",
   "execution_count": 16,
   "id": "aaef70d1-30c6-4c6f-9d6b-abc8e9a0081f",
   "metadata": {
    "execution": {
     "iopub.execute_input": "2022-07-11T06:43:58.398673Z",
     "iopub.status.busy": "2022-07-11T06:43:58.398505Z",
     "iopub.status.idle": "2022-07-11T06:43:58.415811Z",
     "shell.execute_reply": "2022-07-11T06:43:58.415396Z"
    },
    "papermill": {
     "duration": 0.025883,
     "end_time": "2022-07-11T06:43:58.417210",
     "exception": false,
     "start_time": "2022-07-11T06:43:58.391327",
     "status": "completed"
    },
    "tags": []
   },
   "outputs": [
    {
     "data": {
      "text/plain": [
       "49"
      ]
     },
     "execution_count": 16,
     "metadata": {},
     "output_type": "execute_result"
    }
   ],
   "source": [
    "len(prediction_model_tissues)"
   ]
  },
  {
   "cell_type": "code",
   "execution_count": 17,
   "id": "ff35a099-c52d-465d-b863-0ee70c26208c",
   "metadata": {
    "execution": {
     "iopub.execute_input": "2022-07-11T06:43:58.431202Z",
     "iopub.status.busy": "2022-07-11T06:43:58.430802Z",
     "iopub.status.idle": "2022-07-11T06:43:58.447707Z",
     "shell.execute_reply": "2022-07-11T06:43:58.447289Z"
    },
    "papermill": {
     "duration": 0.02506,
     "end_time": "2022-07-11T06:43:58.449057",
     "exception": false,
     "start_time": "2022-07-11T06:43:58.423997",
     "status": "completed"
    },
    "tags": []
   },
   "outputs": [
    {
     "data": {
      "text/plain": [
       "['Skin_Not_Sun_Exposed_Suprapubic',\n",
       " 'Cells_EBV-transformed_lymphocytes',\n",
       " 'Brain_Frontal_Cortex_BA9',\n",
       " 'Kidney_Cortex',\n",
       " 'Brain_Substantia_nigra']"
      ]
     },
     "execution_count": 17,
     "metadata": {},
     "output_type": "execute_result"
    }
   ],
   "source": [
    "prediction_model_tissues[:5]"
   ]
  },
  {
   "cell_type": "markdown",
   "id": "abcc4b3d",
   "metadata": {
    "papermill": {
     "duration": 0.006264,
     "end_time": "2022-07-11T06:43:58.462055",
     "exception": false,
     "start_time": "2022-07-11T06:43:58.455791",
     "status": "completed"
    },
    "tags": []
   },
   "source": [
    "## MultiPLIER Z"
   ]
  },
  {
   "cell_type": "code",
   "execution_count": 18,
   "id": "c48ef527",
   "metadata": {
    "execution": {
     "iopub.execute_input": "2022-07-11T06:43:58.475480Z",
     "iopub.status.busy": "2022-07-11T06:43:58.475079Z",
     "iopub.status.idle": "2022-07-11T06:43:58.518848Z",
     "shell.execute_reply": "2022-07-11T06:43:58.518374Z"
    },
    "papermill": {
     "duration": 0.052071,
     "end_time": "2022-07-11T06:43:58.520390",
     "exception": false,
     "start_time": "2022-07-11T06:43:58.468319",
     "status": "completed"
    },
    "tags": []
   },
   "outputs": [],
   "source": [
    "multiplier_z_genes = pd.read_pickle(\n",
    "    conf.MULTIPLIER[\"MODEL_Z_MATRIX_FILE\"]\n",
    ").index.tolist()"
   ]
  },
  {
   "cell_type": "code",
   "execution_count": 19,
   "id": "0a4ecbd9",
   "metadata": {
    "execution": {
     "iopub.execute_input": "2022-07-11T06:43:58.550171Z",
     "iopub.status.busy": "2022-07-11T06:43:58.549930Z",
     "iopub.status.idle": "2022-07-11T06:43:58.580356Z",
     "shell.execute_reply": "2022-07-11T06:43:58.579912Z"
    },
    "papermill": {
     "duration": 0.047811,
     "end_time": "2022-07-11T06:43:58.581665",
     "exception": false,
     "start_time": "2022-07-11T06:43:58.533854",
     "status": "completed"
    },
    "tags": []
   },
   "outputs": [
    {
     "data": {
      "text/plain": [
       "6750"
      ]
     },
     "execution_count": 19,
     "metadata": {},
     "output_type": "execute_result"
    }
   ],
   "source": [
    "len(multiplier_z_genes)"
   ]
  },
  {
   "cell_type": "code",
   "execution_count": 20,
   "id": "115e8864",
   "metadata": {
    "execution": {
     "iopub.execute_input": "2022-07-11T06:43:58.601772Z",
     "iopub.status.busy": "2022-07-11T06:43:58.601473Z",
     "iopub.status.idle": "2022-07-11T06:43:58.618618Z",
     "shell.execute_reply": "2022-07-11T06:43:58.618163Z"
    },
    "papermill": {
     "duration": 0.026687,
     "end_time": "2022-07-11T06:43:58.619912",
     "exception": false,
     "start_time": "2022-07-11T06:43:58.593225",
     "status": "completed"
    },
    "tags": []
   },
   "outputs": [
    {
     "data": {
      "text/plain": [
       "['GAS6',\n",
       " 'MMP14',\n",
       " 'DSP',\n",
       " 'MARCKSL1',\n",
       " 'SPARC',\n",
       " 'CTSD',\n",
       " 'EPAS1',\n",
       " 'PALLD',\n",
       " 'PHC2',\n",
       " 'LGALS3BP']"
      ]
     },
     "execution_count": 20,
     "metadata": {},
     "output_type": "execute_result"
    }
   ],
   "source": [
    "multiplier_z_genes[:10]"
   ]
  },
  {
   "cell_type": "markdown",
   "id": "7dcb8db7",
   "metadata": {
    "papermill": {
     "duration": 0.015088,
     "end_time": "2022-07-11T06:43:58.647849",
     "exception": false,
     "start_time": "2022-07-11T06:43:58.632761",
     "status": "completed"
    },
    "tags": []
   },
   "source": [
    "## Get gene objects"
   ]
  },
  {
   "cell_type": "code",
   "execution_count": 21,
   "id": "bb932812",
   "metadata": {
    "execution": {
     "iopub.execute_input": "2022-07-11T06:43:58.675923Z",
     "iopub.status.busy": "2022-07-11T06:43:58.675762Z",
     "iopub.status.idle": "2022-07-11T06:43:58.711794Z",
     "shell.execute_reply": "2022-07-11T06:43:58.711399Z"
    },
    "papermill": {
     "duration": 0.053698,
     "end_time": "2022-07-11T06:43:58.713022",
     "exception": false,
     "start_time": "2022-07-11T06:43:58.659324",
     "status": "completed"
    },
    "tags": []
   },
   "outputs": [],
   "source": [
    "multiplier_gene_obj = {\n",
    "    gene_name: Gene(name=gene_name)\n",
    "    for gene_name in multiplier_z_genes\n",
    "    if gene_name in Gene.GENE_NAME_TO_ID_MAP\n",
    "}"
   ]
  },
  {
   "cell_type": "code",
   "execution_count": 22,
   "id": "39533214",
   "metadata": {
    "execution": {
     "iopub.execute_input": "2022-07-11T06:43:58.734723Z",
     "iopub.status.busy": "2022-07-11T06:43:58.734558Z",
     "iopub.status.idle": "2022-07-11T06:43:58.758424Z",
     "shell.execute_reply": "2022-07-11T06:43:58.758048Z"
    },
    "papermill": {
     "duration": 0.040113,
     "end_time": "2022-07-11T06:43:58.759574",
     "exception": false,
     "start_time": "2022-07-11T06:43:58.719461",
     "status": "completed"
    },
    "tags": []
   },
   "outputs": [
    {
     "data": {
      "text/plain": [
       "6454"
      ]
     },
     "execution_count": 22,
     "metadata": {},
     "output_type": "execute_result"
    }
   ],
   "source": [
    "len(multiplier_gene_obj)"
   ]
  },
  {
   "cell_type": "code",
   "execution_count": 23,
   "id": "9a5d0b84",
   "metadata": {
    "execution": {
     "iopub.execute_input": "2022-07-11T06:43:58.783357Z",
     "iopub.status.busy": "2022-07-11T06:43:58.783201Z",
     "iopub.status.idle": "2022-07-11T06:43:58.807269Z",
     "shell.execute_reply": "2022-07-11T06:43:58.806867Z"
    },
    "papermill": {
     "duration": 0.037851,
     "end_time": "2022-07-11T06:43:58.808451",
     "exception": false,
     "start_time": "2022-07-11T06:43:58.770600",
     "status": "completed"
    },
    "tags": []
   },
   "outputs": [
    {
     "data": {
      "text/plain": [
       "'ENSG00000183087'"
      ]
     },
     "execution_count": 23,
     "metadata": {},
     "output_type": "execute_result"
    }
   ],
   "source": [
    "multiplier_gene_obj[\"GAS6\"].ensembl_id"
   ]
  },
  {
   "cell_type": "code",
   "execution_count": 24,
   "id": "e3ffabc7",
   "metadata": {
    "execution": {
     "iopub.execute_input": "2022-07-11T06:43:58.835978Z",
     "iopub.status.busy": "2022-07-11T06:43:58.835810Z",
     "iopub.status.idle": "2022-07-11T06:44:01.175198Z",
     "shell.execute_reply": "2022-07-11T06:44:01.174688Z"
    },
    "papermill": {
     "duration": 2.353493,
     "end_time": "2022-07-11T06:44:01.176665",
     "exception": false,
     "start_time": "2022-07-11T06:43:58.823172",
     "status": "completed"
    },
    "tags": []
   },
   "outputs": [],
   "source": [
    "_gene_obj = list(multiplier_gene_obj.values())\n",
    "\n",
    "genes_info = pd.DataFrame(\n",
    "    {\n",
    "        \"name\": [g.name for g in _gene_obj],\n",
    "        \"id\": [g.ensembl_id for g in _gene_obj],\n",
    "        \"chr\": [g.chromosome for g in _gene_obj],\n",
    "        \"band\": [g.band for g in _gene_obj],\n",
    "        \"start_position\": [g.get_attribute(\"start_position\") for g in _gene_obj],\n",
    "    }\n",
    ")"
   ]
  },
  {
   "cell_type": "code",
   "execution_count": 25,
   "id": "e23519b8",
   "metadata": {
    "execution": {
     "iopub.execute_input": "2022-07-11T06:44:01.191338Z",
     "iopub.status.busy": "2022-07-11T06:44:01.191167Z",
     "iopub.status.idle": "2022-07-11T06:44:01.207813Z",
     "shell.execute_reply": "2022-07-11T06:44:01.207250Z"
    },
    "papermill": {
     "duration": 0.025545,
     "end_time": "2022-07-11T06:44:01.209135",
     "exception": false,
     "start_time": "2022-07-11T06:44:01.183590",
     "status": "completed"
    },
    "tags": []
   },
   "outputs": [
    {
     "data": {
      "text/plain": [
       "(6454, 5)"
      ]
     },
     "execution_count": 25,
     "metadata": {},
     "output_type": "execute_result"
    }
   ],
   "source": [
    "genes_info.shape"
   ]
  },
  {
   "cell_type": "code",
   "execution_count": 26,
   "id": "0d71881c",
   "metadata": {
    "execution": {
     "iopub.execute_input": "2022-07-11T06:44:01.224422Z",
     "iopub.status.busy": "2022-07-11T06:44:01.224232Z",
     "iopub.status.idle": "2022-07-11T06:44:01.246452Z",
     "shell.execute_reply": "2022-07-11T06:44:01.245912Z"
    },
    "papermill": {
     "duration": 0.031423,
     "end_time": "2022-07-11T06:44:01.247835",
     "exception": false,
     "start_time": "2022-07-11T06:44:01.216412",
     "status": "completed"
    },
    "tags": []
   },
   "outputs": [
    {
     "data": {
      "text/html": [
       "<div>\n",
       "<style scoped>\n",
       "    .dataframe tbody tr th:only-of-type {\n",
       "        vertical-align: middle;\n",
       "    }\n",
       "\n",
       "    .dataframe tbody tr th {\n",
       "        vertical-align: top;\n",
       "    }\n",
       "\n",
       "    .dataframe thead th {\n",
       "        text-align: right;\n",
       "    }\n",
       "</style>\n",
       "<table border=\"1\" class=\"dataframe\">\n",
       "  <thead>\n",
       "    <tr style=\"text-align: right;\">\n",
       "      <th></th>\n",
       "      <th>name</th>\n",
       "      <th>id</th>\n",
       "      <th>chr</th>\n",
       "      <th>band</th>\n",
       "      <th>start_position</th>\n",
       "    </tr>\n",
       "  </thead>\n",
       "  <tbody>\n",
       "    <tr>\n",
       "      <th>0</th>\n",
       "      <td>GAS6</td>\n",
       "      <td>ENSG00000183087</td>\n",
       "      <td>13</td>\n",
       "      <td>13q34</td>\n",
       "      <td>113820549.0</td>\n",
       "    </tr>\n",
       "    <tr>\n",
       "      <th>1</th>\n",
       "      <td>MMP14</td>\n",
       "      <td>ENSG00000157227</td>\n",
       "      <td>14</td>\n",
       "      <td>14q11.2</td>\n",
       "      <td>22836560.0</td>\n",
       "    </tr>\n",
       "    <tr>\n",
       "      <th>2</th>\n",
       "      <td>DSP</td>\n",
       "      <td>ENSG00000096696</td>\n",
       "      <td>6</td>\n",
       "      <td>6p24.3</td>\n",
       "      <td>7541617.0</td>\n",
       "    </tr>\n",
       "    <tr>\n",
       "      <th>3</th>\n",
       "      <td>MARCKSL1</td>\n",
       "      <td>ENSG00000175130</td>\n",
       "      <td>1</td>\n",
       "      <td>1p35.1</td>\n",
       "      <td>32333839.0</td>\n",
       "    </tr>\n",
       "    <tr>\n",
       "      <th>4</th>\n",
       "      <td>SPARC</td>\n",
       "      <td>ENSG00000113140</td>\n",
       "      <td>5</td>\n",
       "      <td>5q33.1</td>\n",
       "      <td>151661096.0</td>\n",
       "    </tr>\n",
       "  </tbody>\n",
       "</table>\n",
       "</div>"
      ],
      "text/plain": [
       "       name               id chr     band  start_position\n",
       "0      GAS6  ENSG00000183087  13    13q34     113820549.0\n",
       "1     MMP14  ENSG00000157227  14  14q11.2      22836560.0\n",
       "2       DSP  ENSG00000096696   6   6p24.3       7541617.0\n",
       "3  MARCKSL1  ENSG00000175130   1   1p35.1      32333839.0\n",
       "4     SPARC  ENSG00000113140   5   5q33.1     151661096.0"
      ]
     },
     "execution_count": 26,
     "metadata": {},
     "output_type": "execute_result"
    }
   ],
   "source": [
    "genes_info.head()"
   ]
  },
  {
   "cell_type": "markdown",
   "id": "c8d1038f",
   "metadata": {
    "papermill": {
     "duration": 0.007141,
     "end_time": "2022-07-11T06:44:01.262455",
     "exception": false,
     "start_time": "2022-07-11T06:44:01.255314",
     "status": "completed"
    },
    "tags": []
   },
   "source": [
    "# Test"
   ]
  },
  {
   "cell_type": "code",
   "execution_count": 27,
   "id": "64993abf",
   "metadata": {
    "execution": {
     "iopub.execute_input": "2022-07-11T06:44:01.278056Z",
     "iopub.status.busy": "2022-07-11T06:44:01.277572Z",
     "iopub.status.idle": "2022-07-11T06:44:01.300526Z",
     "shell.execute_reply": "2022-07-11T06:44:01.299989Z"
    },
    "papermill": {
     "duration": 0.031781,
     "end_time": "2022-07-11T06:44:01.301772",
     "exception": false,
     "start_time": "2022-07-11T06:44:01.269991",
     "status": "completed"
    },
    "tags": []
   },
   "outputs": [
    {
     "data": {
      "text/html": [
       "<div>\n",
       "<style scoped>\n",
       "    .dataframe tbody tr th:only-of-type {\n",
       "        vertical-align: middle;\n",
       "    }\n",
       "\n",
       "    .dataframe tbody tr th {\n",
       "        vertical-align: top;\n",
       "    }\n",
       "\n",
       "    .dataframe thead th {\n",
       "        text-align: right;\n",
       "    }\n",
       "</style>\n",
       "<table border=\"1\" class=\"dataframe\">\n",
       "  <thead>\n",
       "    <tr style=\"text-align: right;\">\n",
       "      <th></th>\n",
       "      <th>name</th>\n",
       "      <th>id</th>\n",
       "      <th>chr</th>\n",
       "      <th>band</th>\n",
       "      <th>start_position</th>\n",
       "    </tr>\n",
       "  </thead>\n",
       "  <tbody>\n",
       "    <tr>\n",
       "      <th>34</th>\n",
       "      <td>TPD52</td>\n",
       "      <td>ENSG00000076554</td>\n",
       "      <td>8</td>\n",
       "      <td>8q21.13</td>\n",
       "      <td>80034745.0</td>\n",
       "    </tr>\n",
       "    <tr>\n",
       "      <th>56</th>\n",
       "      <td>ADAM9</td>\n",
       "      <td>ENSG00000168615</td>\n",
       "      <td>8</td>\n",
       "      <td>8p11.22</td>\n",
       "      <td>38996869.0</td>\n",
       "    </tr>\n",
       "    <tr>\n",
       "      <th>99</th>\n",
       "      <td>PSD3</td>\n",
       "      <td>ENSG00000156011</td>\n",
       "      <td>8</td>\n",
       "      <td>8p22</td>\n",
       "      <td>18527303.0</td>\n",
       "    </tr>\n",
       "    <tr>\n",
       "      <th>108</th>\n",
       "      <td>LPL</td>\n",
       "      <td>ENSG00000175445</td>\n",
       "      <td>8</td>\n",
       "      <td>8p21.3</td>\n",
       "      <td>19901717.0</td>\n",
       "    </tr>\n",
       "    <tr>\n",
       "      <th>231</th>\n",
       "      <td>MYOM2</td>\n",
       "      <td>ENSG00000036448</td>\n",
       "      <td>8</td>\n",
       "      <td>8p23.3</td>\n",
       "      <td>2045046.0</td>\n",
       "    </tr>\n",
       "    <tr>\n",
       "      <th>...</th>\n",
       "      <td>...</td>\n",
       "      <td>...</td>\n",
       "      <td>...</td>\n",
       "      <td>...</td>\n",
       "      <td>...</td>\n",
       "    </tr>\n",
       "    <tr>\n",
       "      <th>6280</th>\n",
       "      <td>CEBPD</td>\n",
       "      <td>ENSG00000221869</td>\n",
       "      <td>8</td>\n",
       "      <td>8q11.21</td>\n",
       "      <td>47736909.0</td>\n",
       "    </tr>\n",
       "    <tr>\n",
       "      <th>6301</th>\n",
       "      <td>TSNARE1</td>\n",
       "      <td>ENSG00000171045</td>\n",
       "      <td>8</td>\n",
       "      <td>8q24.3</td>\n",
       "      <td>142212080.0</td>\n",
       "    </tr>\n",
       "    <tr>\n",
       "      <th>6309</th>\n",
       "      <td>EXTL3</td>\n",
       "      <td>ENSG00000012232</td>\n",
       "      <td>8</td>\n",
       "      <td>8p21.1</td>\n",
       "      <td>28600469.0</td>\n",
       "    </tr>\n",
       "    <tr>\n",
       "      <th>6311</th>\n",
       "      <td>GPT</td>\n",
       "      <td>ENSG00000167701</td>\n",
       "      <td>8</td>\n",
       "      <td>8q24.3</td>\n",
       "      <td>144502973.0</td>\n",
       "    </tr>\n",
       "    <tr>\n",
       "      <th>6415</th>\n",
       "      <td>PLAT</td>\n",
       "      <td>ENSG00000104368</td>\n",
       "      <td>8</td>\n",
       "      <td>8p11.21</td>\n",
       "      <td>42175233.0</td>\n",
       "    </tr>\n",
       "  </tbody>\n",
       "</table>\n",
       "<p>222 rows × 5 columns</p>\n",
       "</div>"
      ],
      "text/plain": [
       "         name               id chr     band  start_position\n",
       "34      TPD52  ENSG00000076554   8  8q21.13      80034745.0\n",
       "56      ADAM9  ENSG00000168615   8  8p11.22      38996869.0\n",
       "99       PSD3  ENSG00000156011   8     8p22      18527303.0\n",
       "108       LPL  ENSG00000175445   8   8p21.3      19901717.0\n",
       "231     MYOM2  ENSG00000036448   8   8p23.3       2045046.0\n",
       "...       ...              ...  ..      ...             ...\n",
       "6280    CEBPD  ENSG00000221869   8  8q11.21      47736909.0\n",
       "6301  TSNARE1  ENSG00000171045   8   8q24.3     142212080.0\n",
       "6309    EXTL3  ENSG00000012232   8   8p21.1      28600469.0\n",
       "6311      GPT  ENSG00000167701   8   8q24.3     144502973.0\n",
       "6415     PLAT  ENSG00000104368   8  8p11.21      42175233.0\n",
       "\n",
       "[222 rows x 5 columns]"
      ]
     },
     "metadata": {},
     "output_type": "display_data"
    }
   ],
   "source": [
    "chromosome_genes_info = genes_info[genes_info[\"chr\"] == chromosome]\n",
    "display(chromosome_genes_info)"
   ]
  },
  {
   "cell_type": "code",
   "execution_count": 28,
   "id": "d2e42726-7de6-46eb-acfc-6323eaa8fae6",
   "metadata": {
    "execution": {
     "iopub.execute_input": "2022-07-11T06:44:01.317274Z",
     "iopub.status.busy": "2022-07-11T06:44:01.316840Z",
     "iopub.status.idle": "2022-07-11T06:44:01.333118Z",
     "shell.execute_reply": "2022-07-11T06:44:01.332589Z"
    },
    "papermill": {
     "duration": 0.025253,
     "end_time": "2022-07-11T06:44:01.334347",
     "exception": false,
     "start_time": "2022-07-11T06:44:01.309094",
     "status": "completed"
    },
    "tags": []
   },
   "outputs": [
    {
     "data": {
      "text/plain": [
       "5"
      ]
     },
     "metadata": {},
     "output_type": "display_data"
    }
   ],
   "source": [
    "seed(0)\n",
    "_gene_list_ids = sample(chromosome_genes_info[\"id\"].tolist(), 5)\n",
    "selected_chromosome_genes_obj = [Gene(ensembl_id=g_id) for g_id in _gene_list_ids]\n",
    "display(len(selected_chromosome_genes_obj))"
   ]
  },
  {
   "cell_type": "code",
   "execution_count": 29,
   "id": "1b355359",
   "metadata": {
    "execution": {
     "iopub.execute_input": "2022-07-11T06:44:01.349564Z",
     "iopub.status.busy": "2022-07-11T06:44:01.349189Z",
     "iopub.status.idle": "2022-07-11T06:44:01.366480Z",
     "shell.execute_reply": "2022-07-11T06:44:01.365972Z"
    },
    "papermill": {
     "duration": 0.02715,
     "end_time": "2022-07-11T06:44:01.368708",
     "exception": false,
     "start_time": "2022-07-11T06:44:01.341558",
     "status": "completed"
    },
    "tags": []
   },
   "outputs": [
    {
     "name": "stdout",
     "output_type": "stream",
     "text": [
      "DLC1 / SLA: 0.0\n",
      "DLC1 / DOK2: 0.0\n",
      "DLC1 / BAG4: 0.0\n",
      "DLC1 / DEFA4: 0.0\n",
      "SLA / DOK2: 0.0\n",
      "SLA / BAG4: 0.0\n",
      "SLA / DEFA4: 0.0\n",
      "DOK2 / BAG4: 0.0\n",
      "DOK2 / DEFA4: 0.0\n",
      "BAG4 / DEFA4: 0.0\n"
     ]
    }
   ],
   "source": [
    "for gene_idx1 in range(0, len(selected_chromosome_genes_obj) - 1):\n",
    "    gene_obj1 = selected_chromosome_genes_obj[gene_idx1]\n",
    "\n",
    "    for gene_idx2 in range(gene_idx1 + 1, len(selected_chromosome_genes_obj)):\n",
    "        gene_obj2 = selected_chromosome_genes_obj[gene_idx2]\n",
    "\n",
    "        c = gene_obj1.get_ssm_correlation(\n",
    "            gene_obj2,\n",
    "        )\n",
    "\n",
    "        print(f\"{gene_obj1.name} / {gene_obj2.name}: {c}\")"
   ]
  },
  {
   "cell_type": "markdown",
   "id": "d3843e06",
   "metadata": {
    "papermill": {
     "duration": 0.007639,
     "end_time": "2022-07-11T06:44:01.385806",
     "exception": false,
     "start_time": "2022-07-11T06:44:01.378167",
     "status": "completed"
    },
    "tags": []
   },
   "source": [
    "# Compute correlation per chromosome"
   ]
  },
  {
   "cell_type": "code",
   "execution_count": 30,
   "id": "cb859c15-d1f3-4006-a74c-2b83c0db9611",
   "metadata": {
    "execution": {
     "iopub.execute_input": "2022-07-11T06:44:01.401459Z",
     "iopub.status.busy": "2022-07-11T06:44:01.401295Z",
     "iopub.status.idle": "2022-07-11T06:44:01.417918Z",
     "shell.execute_reply": "2022-07-11T06:44:01.417541Z"
    },
    "papermill": {
     "duration": 0.025707,
     "end_time": "2022-07-11T06:44:01.419166",
     "exception": false,
     "start_time": "2022-07-11T06:44:01.393459",
     "status": "completed"
    },
    "tags": []
   },
   "outputs": [
    {
     "data": {
      "text/plain": [
       "PosixPath('/opt/data/data/phenomexcan/ld_blocks/gene_corrs/1000g/mashr/by_chr/gene_corrs-chr8.pkl')"
      ]
     },
     "metadata": {},
     "output_type": "display_data"
    }
   ],
   "source": [
    "output_dir = OUTPUT_DIR_BASE / \"by_chr\"\n",
    "output_dir.mkdir(exist_ok=True, parents=True)\n",
    "output_file = output_dir / f\"gene_corrs-chr{chromosome}.pkl\"\n",
    "display(output_file)"
   ]
  },
  {
   "cell_type": "code",
   "execution_count": 31,
   "id": "aa674fe4-6794-4eed-98fa-32b39d1d4ace",
   "metadata": {
    "execution": {
     "iopub.execute_input": "2022-07-11T06:44:01.434698Z",
     "iopub.status.busy": "2022-07-11T06:44:01.434540Z",
     "iopub.status.idle": "2022-07-11T06:44:01.449227Z",
     "shell.execute_reply": "2022-07-11T06:44:01.448840Z"
    },
    "papermill": {
     "duration": 0.023787,
     "end_time": "2022-07-11T06:44:01.450545",
     "exception": false,
     "start_time": "2022-07-11T06:44:01.426758",
     "status": "completed"
    },
    "tags": []
   },
   "outputs": [],
   "source": [
    "warnings.filterwarnings(\"error\")"
   ]
  },
  {
   "cell_type": "code",
   "execution_count": 32,
   "id": "cdbb90a1",
   "metadata": {
    "execution": {
     "iopub.execute_input": "2022-07-11T06:44:01.466257Z",
     "iopub.status.busy": "2022-07-11T06:44:01.466098Z",
     "iopub.status.idle": "2022-07-11T06:49:19.809323Z",
     "shell.execute_reply": "2022-07-11T06:49:19.808865Z"
    },
    "papermill": {
     "duration": 318.352755,
     "end_time": "2022-07-11T06:49:19.810856",
     "exception": false,
     "start_time": "2022-07-11T06:44:01.458101",
     "status": "completed"
    },
    "tags": []
   },
   "outputs": [
    {
     "name": "stdout",
     "output_type": "stream",
     "text": [
      "Number of genes in chromosome: 222\n",
      "Number of gene combinations: 24531\n"
     ]
    },
    {
     "name": "stderr",
     "output_type": "stream",
     "text": [
      "ENSG00000197363 / ENSG00000196150: 100%|██████████████████████| 24531/24531 [05:18<00:00, 77.07it/s]"
     ]
    },
    {
     "name": "stdout",
     "output_type": "stream",
     "text": [
      "Min/max values: 0.0 / 0.7580058954107368\n"
     ]
    },
    {
     "name": "stderr",
     "output_type": "stream",
     "text": [
      "\n"
     ]
    },
    {
     "data": {
      "text/plain": [
       "PosixPath('/opt/data/data/phenomexcan/ld_blocks/gene_corrs/1000g/mashr/by_chr/gene_corrs-chr8.pkl')"
      ]
     },
     "metadata": {},
     "output_type": "display_data"
    }
   ],
   "source": [
    "# standard checks\n",
    "all_chrs = genes_info[\"chr\"].dropna().unique()\n",
    "assert all_chrs.shape[0] == 22\n",
    "\n",
    "# select chromosome given by the user\n",
    "assert chromosome in all_chrs\n",
    "\n",
    "# run only on the chromosome specified\n",
    "all_chrs = [chromosome]\n",
    "genes_chr = genes_info[genes_info[\"chr\"] == chromosome]\n",
    "\n",
    "# For testing purposes\n",
    "# genes_chr = genes_chr.sample(n=20)\n",
    "\n",
    "print(f\"Number of genes in chromosome: {genes_chr.shape[0]}\", flush=True)\n",
    "\n",
    "# sort genes by starting position to make visualizations better later\n",
    "genes_chr = genes_chr.sort_values(\"start_position\")\n",
    "\n",
    "gene_chr_objs = [Gene(ensembl_id=gene_id) for gene_id in genes_chr[\"id\"]]\n",
    "gene_chr_ids = [g.ensembl_id for g in gene_chr_objs]\n",
    "\n",
    "n = len(gene_chr_objs)\n",
    "n_comb = int(n * (n - 1) / 2.0)\n",
    "print(f\"Number of gene combinations: {n_comb}\", flush=True)\n",
    "\n",
    "gene_corrs = []\n",
    "\n",
    "pbar = tqdm(ncols=100, total=n_comb)\n",
    "i = 0\n",
    "for gene_idx1 in range(0, len(gene_chr_objs) - 1):\n",
    "    gene_obj1 = gene_chr_objs[gene_idx1]\n",
    "\n",
    "    for gene_idx2 in range(gene_idx1 + 1, len(gene_chr_objs)):\n",
    "        gene_obj2 = gene_chr_objs[gene_idx2]\n",
    "\n",
    "        pbar.set_description(f\"{gene_obj1.ensembl_id} / {gene_obj2.ensembl_id}\")\n",
    "\n",
    "        try:\n",
    "            # FIXME: compute the correlation of the sum of squares of the model using all\n",
    "            # the available tissues; this could be problematic because for some results\n",
    "            # (computed on a specific phenotype/GWAS) we might not have all the tissues\n",
    "            # available, which can certainly bias the correlation estimation.\n",
    "            # Since this depends on the GWAS on a specific phenotype, we should ideally have\n",
    "            # one correlation matrix per GWAS. I should look at how we can improve this.\n",
    "            r = gene_obj1.get_ssm_correlation(\n",
    "                other_gene=gene_obj2,\n",
    "                condition_number=SMULTIXCAN_CONDITION_NUMBER,\n",
    "                reference_panel=REFERENCE_PANEL,\n",
    "                model_type=EQTL_MODEL,\n",
    "            )\n",
    "\n",
    "            if r is None:\n",
    "                # if r is None, it's very likely because:\n",
    "                #  * one of the genes has no prediction models\n",
    "                #  * all the SNPs predictors for the gene are not present in the reference\n",
    "                #    panel\n",
    "\n",
    "                r = 0.0\n",
    "\n",
    "            gene_corrs.append(r)\n",
    "        except Warning:\n",
    "            print(\n",
    "                f\"RuntimeWarning for genes {gene_obj1.ensembl_id} and {gene_obj2.ensembl_id}\",\n",
    "                flush=True,\n",
    "            )\n",
    "            import traceback\n",
    "\n",
    "            print(traceback.format_exc(), flush=True)\n",
    "        except Exception as e:\n",
    "            print(\n",
    "                f\"Exception for genes {gene_obj1.ensembl_id} and {gene_obj2.ensembl_id}\",\n",
    "                flush=True,\n",
    "            )\n",
    "            import traceback\n",
    "\n",
    "            print(traceback.format_exc(), flush=True)\n",
    "            gene_corrs.append(np.nan)\n",
    "\n",
    "        pbar.update(1)\n",
    "\n",
    "pbar.close()\n",
    "\n",
    "# testing\n",
    "gene_corrs_flat = pd.Series(gene_corrs)\n",
    "print(f\"Min/max values: {gene_corrs_flat.min()} / {gene_corrs_flat.max()}\")\n",
    "assert gene_corrs_flat.min() >= -1.001\n",
    "assert gene_corrs_flat.max() <= 1.001\n",
    "\n",
    "# save\n",
    "# FIXME: consider saving only the condenced matrix here. See here for\n",
    "# more details: https://github.com/greenelab/phenoplier/pull/38#discussion_r634600813\n",
    "gene_corrs_data = squareform(np.array(gene_corrs, dtype=np.float64))\n",
    "np.fill_diagonal(gene_corrs_data, 1.0)\n",
    "\n",
    "gene_corrs_df = pd.DataFrame(\n",
    "    data=gene_corrs_data,\n",
    "    index=gene_chr_ids,\n",
    "    columns=gene_chr_ids,\n",
    ")\n",
    "\n",
    "output_dir.mkdir(exist_ok=True, parents=True)\n",
    "display(output_file)\n",
    "\n",
    "gene_corrs_df.to_pickle(output_file)"
   ]
  },
  {
   "cell_type": "markdown",
   "id": "faa67b51-5373-470f-aa72-2ded53fa6dfe",
   "metadata": {
    "papermill": {
     "duration": 0.921988,
     "end_time": "2022-07-11T06:49:21.726303",
     "exception": false,
     "start_time": "2022-07-11T06:49:20.804315",
     "status": "completed"
    },
    "tags": []
   },
   "source": [
    "# Testing"
   ]
  },
  {
   "cell_type": "code",
   "execution_count": 33,
   "id": "14f7d046-4b55-4896-a56b-990127bcc388",
   "metadata": {
    "execution": {
     "iopub.execute_input": "2022-07-11T06:49:23.542820Z",
     "iopub.status.busy": "2022-07-11T06:49:23.542347Z",
     "iopub.status.idle": "2022-07-11T06:49:23.576746Z",
     "shell.execute_reply": "2022-07-11T06:49:23.576346Z"
    },
    "papermill": {
     "duration": 0.952649,
     "end_time": "2022-07-11T06:49:23.578014",
     "exception": false,
     "start_time": "2022-07-11T06:49:22.625365",
     "status": "completed"
    },
    "tags": []
   },
   "outputs": [
    {
     "data": {
      "text/plain": [
       "(222, 222)"
      ]
     },
     "execution_count": 33,
     "metadata": {},
     "output_type": "execute_result"
    }
   ],
   "source": [
    "gene_corrs_df.shape"
   ]
  },
  {
   "cell_type": "code",
   "execution_count": 34,
   "id": "c7d15414-3297-4537-a7c6-7588c0baeb75",
   "metadata": {
    "execution": {
     "iopub.execute_input": "2022-07-11T06:49:25.493123Z",
     "iopub.status.busy": "2022-07-11T06:49:25.492958Z",
     "iopub.status.idle": "2022-07-11T06:49:25.531936Z",
     "shell.execute_reply": "2022-07-11T06:49:25.531545Z"
    },
    "papermill": {
     "duration": 0.971192,
     "end_time": "2022-07-11T06:49:25.533044",
     "exception": false,
     "start_time": "2022-07-11T06:49:24.561852",
     "status": "completed"
    },
    "tags": []
   },
   "outputs": [
    {
     "data": {
      "text/html": [
       "<div>\n",
       "<style scoped>\n",
       "    .dataframe tbody tr th:only-of-type {\n",
       "        vertical-align: middle;\n",
       "    }\n",
       "\n",
       "    .dataframe tbody tr th {\n",
       "        vertical-align: top;\n",
       "    }\n",
       "\n",
       "    .dataframe thead th {\n",
       "        text-align: right;\n",
       "    }\n",
       "</style>\n",
       "<table border=\"1\" class=\"dataframe\">\n",
       "  <thead>\n",
       "    <tr style=\"text-align: right;\">\n",
       "      <th></th>\n",
       "      <th>ENSG00000172748</th>\n",
       "      <th>ENSG00000182372</th>\n",
       "      <th>ENSG00000104728</th>\n",
       "      <th>ENSG00000036448</th>\n",
       "      <th>ENSG00000091879</th>\n",
       "      <th>ENSG00000155189</th>\n",
       "      <th>ENSG00000164821</th>\n",
       "      <th>ENSG00000253958</th>\n",
       "      <th>ENSG00000147324</th>\n",
       "      <th>ENSG00000173281</th>\n",
       "      <th>...</th>\n",
       "      <th>ENSG00000071894</th>\n",
       "      <th>ENSG00000147804</th>\n",
       "      <th>ENSG00000160948</th>\n",
       "      <th>ENSG00000160949</th>\n",
       "      <th>ENSG00000187954</th>\n",
       "      <th>ENSG00000160972</th>\n",
       "      <th>ENSG00000167701</th>\n",
       "      <th>ENSG00000161016</th>\n",
       "      <th>ENSG00000197363</th>\n",
       "      <th>ENSG00000196150</th>\n",
       "    </tr>\n",
       "  </thead>\n",
       "  <tbody>\n",
       "    <tr>\n",
       "      <th>ENSG00000172748</th>\n",
       "      <td>1.000000</td>\n",
       "      <td>0.008854</td>\n",
       "      <td>0.018368</td>\n",
       "      <td>0.015724</td>\n",
       "      <td>0.000000</td>\n",
       "      <td>0.000000</td>\n",
       "      <td>0.000000</td>\n",
       "      <td>0.000000</td>\n",
       "      <td>0.000000</td>\n",
       "      <td>0.000000</td>\n",
       "      <td>...</td>\n",
       "      <td>0.0</td>\n",
       "      <td>0.0</td>\n",
       "      <td>0.0</td>\n",
       "      <td>0.0</td>\n",
       "      <td>0.0</td>\n",
       "      <td>0.0</td>\n",
       "      <td>0.0</td>\n",
       "      <td>0.0</td>\n",
       "      <td>0.0</td>\n",
       "      <td>0.0</td>\n",
       "    </tr>\n",
       "    <tr>\n",
       "      <th>ENSG00000182372</th>\n",
       "      <td>0.008854</td>\n",
       "      <td>1.000000</td>\n",
       "      <td>0.179129</td>\n",
       "      <td>0.014785</td>\n",
       "      <td>0.011253</td>\n",
       "      <td>0.007711</td>\n",
       "      <td>0.000000</td>\n",
       "      <td>0.000000</td>\n",
       "      <td>0.000000</td>\n",
       "      <td>0.000000</td>\n",
       "      <td>...</td>\n",
       "      <td>0.0</td>\n",
       "      <td>0.0</td>\n",
       "      <td>0.0</td>\n",
       "      <td>0.0</td>\n",
       "      <td>0.0</td>\n",
       "      <td>0.0</td>\n",
       "      <td>0.0</td>\n",
       "      <td>0.0</td>\n",
       "      <td>0.0</td>\n",
       "      <td>0.0</td>\n",
       "    </tr>\n",
       "    <tr>\n",
       "      <th>ENSG00000104728</th>\n",
       "      <td>0.018368</td>\n",
       "      <td>0.179129</td>\n",
       "      <td>1.000000</td>\n",
       "      <td>0.038911</td>\n",
       "      <td>0.018487</td>\n",
       "      <td>0.021773</td>\n",
       "      <td>0.014438</td>\n",
       "      <td>0.000000</td>\n",
       "      <td>0.000000</td>\n",
       "      <td>0.000000</td>\n",
       "      <td>...</td>\n",
       "      <td>0.0</td>\n",
       "      <td>0.0</td>\n",
       "      <td>0.0</td>\n",
       "      <td>0.0</td>\n",
       "      <td>0.0</td>\n",
       "      <td>0.0</td>\n",
       "      <td>0.0</td>\n",
       "      <td>0.0</td>\n",
       "      <td>0.0</td>\n",
       "      <td>0.0</td>\n",
       "    </tr>\n",
       "    <tr>\n",
       "      <th>ENSG00000036448</th>\n",
       "      <td>0.015724</td>\n",
       "      <td>0.014785</td>\n",
       "      <td>0.038911</td>\n",
       "      <td>1.000000</td>\n",
       "      <td>0.014444</td>\n",
       "      <td>0.013368</td>\n",
       "      <td>0.015180</td>\n",
       "      <td>0.000000</td>\n",
       "      <td>0.000000</td>\n",
       "      <td>0.000000</td>\n",
       "      <td>...</td>\n",
       "      <td>0.0</td>\n",
       "      <td>0.0</td>\n",
       "      <td>0.0</td>\n",
       "      <td>0.0</td>\n",
       "      <td>0.0</td>\n",
       "      <td>0.0</td>\n",
       "      <td>0.0</td>\n",
       "      <td>0.0</td>\n",
       "      <td>0.0</td>\n",
       "      <td>0.0</td>\n",
       "    </tr>\n",
       "    <tr>\n",
       "      <th>ENSG00000091879</th>\n",
       "      <td>0.000000</td>\n",
       "      <td>0.011253</td>\n",
       "      <td>0.018487</td>\n",
       "      <td>0.014444</td>\n",
       "      <td>1.000000</td>\n",
       "      <td>0.090980</td>\n",
       "      <td>0.029294</td>\n",
       "      <td>0.007554</td>\n",
       "      <td>0.011896</td>\n",
       "      <td>0.017696</td>\n",
       "      <td>...</td>\n",
       "      <td>0.0</td>\n",
       "      <td>0.0</td>\n",
       "      <td>0.0</td>\n",
       "      <td>0.0</td>\n",
       "      <td>0.0</td>\n",
       "      <td>0.0</td>\n",
       "      <td>0.0</td>\n",
       "      <td>0.0</td>\n",
       "      <td>0.0</td>\n",
       "      <td>0.0</td>\n",
       "    </tr>\n",
       "  </tbody>\n",
       "</table>\n",
       "<p>5 rows × 222 columns</p>\n",
       "</div>"
      ],
      "text/plain": [
       "                 ENSG00000172748  ENSG00000182372  ENSG00000104728  \\\n",
       "ENSG00000172748         1.000000         0.008854         0.018368   \n",
       "ENSG00000182372         0.008854         1.000000         0.179129   \n",
       "ENSG00000104728         0.018368         0.179129         1.000000   \n",
       "ENSG00000036448         0.015724         0.014785         0.038911   \n",
       "ENSG00000091879         0.000000         0.011253         0.018487   \n",
       "\n",
       "                 ENSG00000036448  ENSG00000091879  ENSG00000155189  \\\n",
       "ENSG00000172748         0.015724         0.000000         0.000000   \n",
       "ENSG00000182372         0.014785         0.011253         0.007711   \n",
       "ENSG00000104728         0.038911         0.018487         0.021773   \n",
       "ENSG00000036448         1.000000         0.014444         0.013368   \n",
       "ENSG00000091879         0.014444         1.000000         0.090980   \n",
       "\n",
       "                 ENSG00000164821  ENSG00000253958  ENSG00000147324  \\\n",
       "ENSG00000172748         0.000000         0.000000         0.000000   \n",
       "ENSG00000182372         0.000000         0.000000         0.000000   \n",
       "ENSG00000104728         0.014438         0.000000         0.000000   \n",
       "ENSG00000036448         0.015180         0.000000         0.000000   \n",
       "ENSG00000091879         0.029294         0.007554         0.011896   \n",
       "\n",
       "                 ENSG00000173281  ...  ENSG00000071894  ENSG00000147804  \\\n",
       "ENSG00000172748         0.000000  ...              0.0              0.0   \n",
       "ENSG00000182372         0.000000  ...              0.0              0.0   \n",
       "ENSG00000104728         0.000000  ...              0.0              0.0   \n",
       "ENSG00000036448         0.000000  ...              0.0              0.0   \n",
       "ENSG00000091879         0.017696  ...              0.0              0.0   \n",
       "\n",
       "                 ENSG00000160948  ENSG00000160949  ENSG00000187954  \\\n",
       "ENSG00000172748              0.0              0.0              0.0   \n",
       "ENSG00000182372              0.0              0.0              0.0   \n",
       "ENSG00000104728              0.0              0.0              0.0   \n",
       "ENSG00000036448              0.0              0.0              0.0   \n",
       "ENSG00000091879              0.0              0.0              0.0   \n",
       "\n",
       "                 ENSG00000160972  ENSG00000167701  ENSG00000161016  \\\n",
       "ENSG00000172748              0.0              0.0              0.0   \n",
       "ENSG00000182372              0.0              0.0              0.0   \n",
       "ENSG00000104728              0.0              0.0              0.0   \n",
       "ENSG00000036448              0.0              0.0              0.0   \n",
       "ENSG00000091879              0.0              0.0              0.0   \n",
       "\n",
       "                 ENSG00000197363  ENSG00000196150  \n",
       "ENSG00000172748              0.0              0.0  \n",
       "ENSG00000182372              0.0              0.0  \n",
       "ENSG00000104728              0.0              0.0  \n",
       "ENSG00000036448              0.0              0.0  \n",
       "ENSG00000091879              0.0              0.0  \n",
       "\n",
       "[5 rows x 222 columns]"
      ]
     },
     "execution_count": 34,
     "metadata": {},
     "output_type": "execute_result"
    }
   ],
   "source": [
    "gene_corrs_df.head()"
   ]
  },
  {
   "cell_type": "code",
   "execution_count": 35,
   "id": "286686af-1b7b-4440-8453-6bdcbd8de19c",
   "metadata": {
    "execution": {
     "iopub.execute_input": "2022-07-11T06:49:27.511596Z",
     "iopub.status.busy": "2022-07-11T06:49:27.511401Z",
     "iopub.status.idle": "2022-07-11T06:49:27.528608Z",
     "shell.execute_reply": "2022-07-11T06:49:27.528009Z"
    },
    "papermill": {
     "duration": 0.99982,
     "end_time": "2022-07-11T06:49:27.530018",
     "exception": false,
     "start_time": "2022-07-11T06:49:26.530198",
     "status": "completed"
    },
    "tags": []
   },
   "outputs": [],
   "source": [
    "assert not gene_corrs_df.isna().any().any()"
   ]
  },
  {
   "cell_type": "code",
   "execution_count": 36,
   "id": "00583efc-7068-4270-ad1e-4a418e91db96",
   "metadata": {
    "execution": {
     "iopub.execute_input": "2022-07-11T06:49:29.340711Z",
     "iopub.status.busy": "2022-07-11T06:49:29.340550Z",
     "iopub.status.idle": "2022-07-11T06:49:29.357891Z",
     "shell.execute_reply": "2022-07-11T06:49:29.357396Z"
    },
    "papermill": {
     "duration": 0.934427,
     "end_time": "2022-07-11T06:49:29.359269",
     "exception": false,
     "start_time": "2022-07-11T06:49:28.424842",
     "status": "completed"
    },
    "tags": []
   },
   "outputs": [
    {
     "data": {
      "text/plain": [
       "0.0"
      ]
     },
     "metadata": {},
     "output_type": "display_data"
    }
   ],
   "source": [
    "_min_val = gene_corrs_df.min().min()\n",
    "display(_min_val)\n",
    "assert _min_val >= 0.0"
   ]
  },
  {
   "cell_type": "code",
   "execution_count": 37,
   "id": "d04fb2cf-1050-475b-b855-f5f7cc04092b",
   "metadata": {
    "execution": {
     "iopub.execute_input": "2022-07-11T06:49:31.261823Z",
     "iopub.status.busy": "2022-07-11T06:49:31.261641Z",
     "iopub.status.idle": "2022-07-11T06:49:31.279264Z",
     "shell.execute_reply": "2022-07-11T06:49:31.278714Z"
    },
    "papermill": {
     "duration": 0.959298,
     "end_time": "2022-07-11T06:49:31.280622",
     "exception": false,
     "start_time": "2022-07-11T06:49:30.321324",
     "status": "completed"
    },
    "tags": []
   },
   "outputs": [
    {
     "data": {
      "text/plain": [
       "1.0"
      ]
     },
     "metadata": {},
     "output_type": "display_data"
    }
   ],
   "source": [
    "_max_val = gene_corrs_df.max().max()  # this captures the diagonal\n",
    "display(_max_val)\n",
    "assert _max_val <= 1.0"
   ]
  },
  {
   "cell_type": "code",
   "execution_count": 38,
   "id": "96d02c44-1fba-47be-8a93-8f2608420b9c",
   "metadata": {
    "execution": {
     "iopub.execute_input": "2022-07-11T06:49:33.178599Z",
     "iopub.status.busy": "2022-07-11T06:49:33.178389Z",
     "iopub.status.idle": "2022-07-11T06:49:33.203477Z",
     "shell.execute_reply": "2022-07-11T06:49:33.203081Z"
    },
    "papermill": {
     "duration": 0.927108,
     "end_time": "2022-07-11T06:49:33.204662",
     "exception": false,
     "start_time": "2022-07-11T06:49:32.277554",
     "status": "completed"
    },
    "tags": []
   },
   "outputs": [],
   "source": [
    "# check upper triangular values\n",
    "assert len(gene_corrs) == int(genes_chr.shape[0] * (genes_chr.shape[0] - 1) / 2)"
   ]
  },
  {
   "cell_type": "code",
   "execution_count": 39,
   "id": "aaa51627-f4e3-4744-a41f-7d25adcc0a78",
   "metadata": {
    "execution": {
     "iopub.execute_input": "2022-07-11T06:49:35.149303Z",
     "iopub.status.busy": "2022-07-11T06:49:35.148984Z",
     "iopub.status.idle": "2022-07-11T06:49:35.167382Z",
     "shell.execute_reply": "2022-07-11T06:49:35.166900Z"
    },
    "papermill": {
     "duration": 0.935636,
     "end_time": "2022-07-11T06:49:35.168734",
     "exception": false,
     "start_time": "2022-07-11T06:49:34.233098",
     "status": "completed"
    },
    "tags": []
   },
   "outputs": [],
   "source": [
    "gene_corrs = pd.Series(gene_corrs)"
   ]
  },
  {
   "cell_type": "code",
   "execution_count": 40,
   "id": "fe283586-c348-40e0-8841-f6d97bfb021c",
   "metadata": {
    "execution": {
     "iopub.execute_input": "2022-07-11T06:49:36.965235Z",
     "iopub.status.busy": "2022-07-11T06:49:36.964689Z",
     "iopub.status.idle": "2022-07-11T06:49:36.985465Z",
     "shell.execute_reply": "2022-07-11T06:49:36.985063Z"
    },
    "papermill": {
     "duration": 0.934064,
     "end_time": "2022-07-11T06:49:36.986877",
     "exception": false,
     "start_time": "2022-07-11T06:49:36.052813",
     "status": "completed"
    },
    "tags": []
   },
   "outputs": [
    {
     "data": {
      "text/plain": [
       "count    24531.000000\n",
       "mean         0.002538\n",
       "std          0.023493\n",
       "min          0.000000\n",
       "25%          0.000000\n",
       "50%          0.000000\n",
       "75%          0.000000\n",
       "max          0.758006\n",
       "dtype: float64"
      ]
     },
     "execution_count": 40,
     "metadata": {},
     "output_type": "execute_result"
    }
   ],
   "source": [
    "gene_corrs.describe()"
   ]
  },
  {
   "cell_type": "code",
   "execution_count": 41,
   "id": "b3815678-0f93-4b35-897b-a9d047a2aa78",
   "metadata": {
    "execution": {
     "iopub.execute_input": "2022-07-11T06:49:38.790213Z",
     "iopub.status.busy": "2022-07-11T06:49:38.790026Z",
     "iopub.status.idle": "2022-07-11T06:49:38.810319Z",
     "shell.execute_reply": "2022-07-11T06:49:38.809893Z"
    },
    "papermill": {
     "duration": 0.913704,
     "end_time": "2022-07-11T06:49:38.811731",
     "exception": false,
     "start_time": "2022-07-11T06:49:37.898027",
     "status": "completed"
    },
    "tags": []
   },
   "outputs": [
    {
     "data": {
      "text/plain": [
       "0.00    0.000000\n",
       "0.05    0.000000\n",
       "0.10    0.000000\n",
       "0.15    0.000000\n",
       "0.20    0.000000\n",
       "0.25    0.000000\n",
       "0.30    0.000000\n",
       "0.35    0.000000\n",
       "0.40    0.000000\n",
       "0.45    0.000000\n",
       "0.50    0.000000\n",
       "0.55    0.000000\n",
       "0.60    0.000000\n",
       "0.65    0.000000\n",
       "0.70    0.000000\n",
       "0.75    0.000000\n",
       "0.80    0.000000\n",
       "0.85    0.000000\n",
       "0.90    0.000000\n",
       "0.95    0.009168\n",
       "dtype: float64"
      ]
     },
     "metadata": {},
     "output_type": "display_data"
    }
   ],
   "source": [
    "gene_corrs_quantiles = gene_corrs.quantile(np.arange(0, 1, 0.05))\n",
    "display(gene_corrs_quantiles)"
   ]
  },
  {
   "cell_type": "markdown",
   "id": "8e60a080-edb2-4e9c-b2ef-22961693200c",
   "metadata": {
    "papermill": {
     "duration": 0.929669,
     "end_time": "2022-07-11T06:49:40.713441",
     "exception": false,
     "start_time": "2022-07-11T06:49:39.783772",
     "status": "completed"
    },
    "tags": []
   },
   "source": [
    "## Plot: distribution"
   ]
  },
  {
   "cell_type": "code",
   "execution_count": 42,
   "id": "8301126b-a7d4-4744-9c7d-f0f86eb6f54c",
   "metadata": {
    "execution": {
     "iopub.execute_input": "2022-07-11T06:49:42.611438Z",
     "iopub.status.busy": "2022-07-11T06:49:42.611266Z",
     "iopub.status.idle": "2022-07-11T06:49:42.976882Z",
     "shell.execute_reply": "2022-07-11T06:49:42.976510Z"
    },
    "papermill": {
     "duration": 1.311172,
     "end_time": "2022-07-11T06:49:42.980506",
     "exception": false,
     "start_time": "2022-07-11T06:49:41.669334",
     "status": "completed"
    },
    "tags": []
   },
   "outputs": [
    {
     "data": {
      "image/png": "[encoded data removed]",
      "text/plain": [
       "<Figure size 504x504 with 1 Axes>"
      ]
     },
     "metadata": {
      "needs_background": "light"
     },
     "output_type": "display_data"
    }
   ],
   "source": [
    "with sns.plotting_context(\"paper\", font_scale=1.5):\n",
    "    g = sns.displot(gene_corrs, kde=True, height=7)\n",
    "    g.ax.set_title(\n",
    "        f\"Distribution of gene correlation values in chromosome {chromosome}\"\n",
    "    )"
   ]
  },
  {
   "cell_type": "markdown",
   "id": "cbd52bca-d878-4a2f-b684-5c83aa3038d4",
   "metadata": {
    "papermill": {
     "duration": 0.952004,
     "end_time": "2022-07-11T06:49:44.923267",
     "exception": false,
     "start_time": "2022-07-11T06:49:43.971263",
     "status": "completed"
    },
    "tags": []
   },
   "source": [
    "## Plot: heatmap"
   ]
  },
  {
   "cell_type": "code",
   "execution_count": 43,
   "id": "d03fe63a-c7b2-4fb9-a53c-db362ce843c9",
   "metadata": {
    "execution": {
     "iopub.execute_input": "2022-07-11T06:49:46.785452Z",
     "iopub.status.busy": "2022-07-11T06:49:46.785259Z",
     "iopub.status.idle": "2022-07-11T06:49:46.810549Z",
     "shell.execute_reply": "2022-07-11T06:49:46.810061Z"
    },
    "papermill": {
     "duration": 0.953448,
     "end_time": "2022-07-11T06:49:46.811864",
     "exception": false,
     "start_time": "2022-07-11T06:49:45.858416",
     "status": "completed"
    },
    "tags": []
   },
   "outputs": [
    {
     "data": {
      "text/plain": [
       "'-0.05 / 0.05'"
      ]
     },
     "metadata": {},
     "output_type": "display_data"
    }
   ],
   "source": [
    "vmin_val = min(-0.05, gene_corrs_quantiles[0.10])\n",
    "vmax_val = max(0.05, gene_corrs_quantiles[0.90])\n",
    "display(f\"{vmin_val} / {vmax_val}\")"
   ]
  },
  {
   "cell_type": "code",
   "execution_count": 44,
   "id": "dc41b70b-5bcc-4d9e-9f33-a22c4a94dab5",
   "metadata": {
    "execution": {
     "iopub.execute_input": "2022-07-11T06:49:48.787658Z",
     "iopub.status.busy": "2022-07-11T06:49:48.785461Z",
     "iopub.status.idle": "2022-07-11T06:49:49.044615Z",
     "shell.execute_reply": "2022-07-11T06:49:49.044213Z"
    },
    "papermill": {
     "duration": 1.262421,
     "end_time": "2022-07-11T06:49:49.045779",
     "exception": false,
     "start_time": "2022-07-11T06:49:47.783358",
     "status": "completed"
    },
    "tags": []
   },
   "outputs": [
    {
     "data": {
      "text/plain": [
       "Text(0.5, 1.0, 'Gene correlations in chromosome 8')"
      ]
     },
     "execution_count": 44,
     "metadata": {},
     "output_type": "execute_result"
    },
    {
     "data": {
      "image/png": "[encoded data removed]",
      "text/plain": [
       "<Figure size 720x720 with 2 Axes>"
      ]
     },
     "metadata": {
      "needs_background": "light"
     },
     "output_type": "display_data"
    }
   ],
   "source": [
    "f, ax = plt.subplots(figsize=(10, 10))\n",
    "sns.heatmap(\n",
    "    gene_corrs_df,\n",
    "    xticklabels=False,\n",
    "    yticklabels=False,\n",
    "    square=True,\n",
    "    vmin=vmin_val,\n",
    "    vmax=vmax_val,\n",
    "    cmap=\"YlGnBu\",\n",
    "    ax=ax,\n",
    ")\n",
    "ax.set_title(f\"Gene correlations in chromosome {chromosome}\")"
   ]
  },
  {
   "cell_type": "code",
   "execution_count": null,
   "id": "b25e3ead",
   "metadata": {
    "papermill": {
     "duration": 1.102535,
     "end_time": "2022-07-11T06:49:51.148076",
     "exception": false,
     "start_time": "2022-07-11T06:49:50.045541",
     "status": "completed"
    },
    "tags": []
   },
   "outputs": [],
   "source": []
  }
 ],
 "metadata": {
  "jupytext": {
   "cell_metadata_filter": "all,-execution,-papermill,-trusted",
   "formats": "ipynb,py//py:percent"
  },
  "kernelspec": {
   "display_name": "Python 3 (ipykernel)",
   "language": "python",
   "name": "python3"
  },
  "language_info": {
   "codemirror_mode": {
    "name": "ipython",
    "version": 3
   },
   "file_extension": ".py",
   "mimetype": "text/x-python",
   "name": "python",
   "nbconvert_exporter": "python",
   "pygments_lexer": "ipython3",
   "version": "3.8.13"
  },
  "papermill": {
   "default_parameters": {},
   "duration": 359.917642,
   "end_time": "2022-07-11T06:49:55.473184",
   "environment_variables": {},
   "exception": null,
   "input_path": "nbs/15_gsa_gls/10-gene_expr_correlations.ipynb",
   "output_path": "nbs/15_gsa_gls/gene_corrs/1000g/mashr/10-gene_expr_correlations-chr8.run.ipynb",
   "parameters": {
    "EQTL_MODEL": "MASHR",
    "REFERENCE_PANEL": "1000G",
    "chromosome": 8
   },
   "start_time": "2022-07-11T06:43:55.555542",
   "version": "2.2.2"
  }
 },
 "nbformat": 4,
 "nbformat_minor": 5
}
