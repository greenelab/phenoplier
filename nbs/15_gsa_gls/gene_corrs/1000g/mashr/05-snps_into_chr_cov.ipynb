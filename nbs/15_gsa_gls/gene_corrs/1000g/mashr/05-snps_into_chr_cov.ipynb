{
 "cells": [
  {
   "cell_type": "markdown",
   "id": "d88b3ffc",
   "metadata": {
    "papermill": {
     "duration": 0.033394,
     "end_time": "2022-07-09T08:45:56.002309",
     "exception": false,
     "start_time": "2022-07-09T08:45:55.968915",
     "status": "completed"
    },
    "tags": []
   },
   "source": [
    "# Description"
   ]
  },
  {
   "cell_type": "markdown",
   "id": "69f66c44",
   "metadata": {
    "papermill": {
     "duration": 0.009459,
     "end_time": "2022-07-09T08:45:56.026468",
     "exception": false,
     "start_time": "2022-07-09T08:45:56.017009",
     "status": "completed"
    },
    "tags": []
   },
   "source": [
    "(Please, take a look at the README.md file in this directory for instructions on how to run this notebook)\n",
    "\n",
    "This notebook computes the covariance of SNPs for each chr."
   ]
  },
  {
   "cell_type": "markdown",
   "id": "0cb79cbe",
   "metadata": {
    "papermill": {
     "duration": 0.008249,
     "end_time": "2022-07-09T08:45:56.042908",
     "exception": false,
     "start_time": "2022-07-09T08:45:56.034659",
     "status": "completed"
    },
    "tags": []
   },
   "source": [
    "# Modules"
   ]
  },
  {
   "cell_type": "code",
   "execution_count": 1,
   "id": "0a4272be",
   "metadata": {
    "execution": {
     "iopub.execute_input": "2022-07-09T08:45:56.089232Z",
     "iopub.status.busy": "2022-07-09T08:45:56.089015Z",
     "iopub.status.idle": "2022-07-09T08:45:56.105676Z",
     "shell.execute_reply": "2022-07-09T08:45:56.105112Z"
    },
    "papermill": {
     "duration": 0.028962,
     "end_time": "2022-07-09T08:45:56.107297",
     "exception": false,
     "start_time": "2022-07-09T08:45:56.078335",
     "status": "completed"
    },
    "tags": []
   },
   "outputs": [],
   "source": [
    "%load_ext autoreload\n",
    "%autoreload 2"
   ]
  },
  {
   "cell_type": "code",
   "execution_count": 2,
   "id": "4141c781",
   "metadata": {
    "execution": {
     "iopub.execute_input": "2022-07-09T08:45:56.127556Z",
     "iopub.status.busy": "2022-07-09T08:45:56.127376Z",
     "iopub.status.idle": "2022-07-09T08:45:56.618026Z",
     "shell.execute_reply": "2022-07-09T08:45:56.617436Z"
    },
    "papermill": {
     "duration": 0.502483,
     "end_time": "2022-07-09T08:45:56.619536",
     "exception": false,
     "start_time": "2022-07-09T08:45:56.117053",
     "status": "completed"
    },
    "tags": []
   },
   "outputs": [],
   "source": [
    "import gc\n",
    "import sqlite3\n",
    "from pathlib import Path\n",
    "\n",
    "import numpy as np\n",
    "import pandas as pd\n",
    "from tqdm import tqdm\n",
    "\n",
    "import conf\n",
    "from entity import Gene"
   ]
  },
  {
   "cell_type": "markdown",
   "id": "37055abe",
   "metadata": {
    "papermill": {
     "duration": 0.008842,
     "end_time": "2022-07-09T08:45:56.637886",
     "exception": false,
     "start_time": "2022-07-09T08:45:56.629044",
     "status": "completed"
    },
    "tags": []
   },
   "source": [
    "# Settings"
   ]
  },
  {
   "cell_type": "code",
   "execution_count": 3,
   "id": "ac93914d",
   "metadata": {
    "execution": {
     "iopub.execute_input": "2022-07-09T08:45:56.656016Z",
     "iopub.status.busy": "2022-07-09T08:45:56.655850Z",
     "iopub.status.idle": "2022-07-09T08:45:56.668266Z",
     "shell.execute_reply": "2022-07-09T08:45:56.667715Z"
    },
    "papermill": {
     "duration": 0.022891,
     "end_time": "2022-07-09T08:45:56.669595",
     "exception": false,
     "start_time": "2022-07-09T08:45:56.646704",
     "status": "completed"
    },
    "tags": [
     "parameters"
    ]
   },
   "outputs": [],
   "source": [
    "# reference panel\n",
    "REFERENCE_PANEL = \"GTEX_V8\"\n",
    "# REFERENCE_PANEL = \"1000G\"\n",
    "\n",
    "# prediction models\n",
    "## mashr\n",
    "EQTL_MODEL = \"MASHR\"\n",
    "EQTL_MODEL_FILES_PREFIX = \"mashr_\"\n",
    "\n",
    "# ## elastic net\n",
    "# EQTL_MODEL = \"ELASTIC_NET\"\n",
    "# EQTL_MODEL_FILES_PREFIX = \"en_\"\n",
    "\n",
    "# make it read the prefix from conf.py\n",
    "EQTL_MODEL_FILES_PREFIX = None\n",
    "\n",
    "# the numpy dtype used for the covariance matrix\n",
    "#  either float64 or float32 (for huge matrices)\n",
    "COVARIANCE_MATRIX_DTYPE = None"
   ]
  },
  {
   "cell_type": "code",
   "execution_count": 4,
   "id": "2a78decc",
   "metadata": {
    "execution": {
     "iopub.execute_input": "2022-07-09T08:45:56.686965Z",
     "iopub.status.busy": "2022-07-09T08:45:56.686806Z",
     "iopub.status.idle": "2022-07-09T08:45:56.698678Z",
     "shell.execute_reply": "2022-07-09T08:45:56.698130Z"
    },
    "papermill": {
     "duration": 0.022009,
     "end_time": "2022-07-09T08:45:56.700059",
     "exception": false,
     "start_time": "2022-07-09T08:45:56.678050",
     "status": "completed"
    },
    "tags": [
     "injected-parameters"
    ]
   },
   "outputs": [],
   "source": [
    "# Parameters\n",
    "REFERENCE_PANEL = \"1000G\"\n",
    "EQTL_MODEL = \"MASHR\"\n"
   ]
  },
  {
   "cell_type": "code",
   "execution_count": 5,
   "id": "455c2e55",
   "metadata": {
    "execution": {
     "iopub.execute_input": "2022-07-09T08:45:56.717695Z",
     "iopub.status.busy": "2022-07-09T08:45:56.717521Z",
     "iopub.status.idle": "2022-07-09T08:45:56.729790Z",
     "shell.execute_reply": "2022-07-09T08:45:56.729216Z"
    },
    "papermill": {
     "duration": 0.022686,
     "end_time": "2022-07-09T08:45:56.731191",
     "exception": false,
     "start_time": "2022-07-09T08:45:56.708505",
     "status": "completed"
    },
    "tags": []
   },
   "outputs": [],
   "source": [
    "if EQTL_MODEL_FILES_PREFIX is None:\n",
    "    EQTL_MODEL_FILES_PREFIX = conf.PHENOMEXCAN[\"PREDICTION_MODELS\"][\n",
    "        f\"{EQTL_MODEL}_PREFIX\"\n",
    "    ]"
   ]
  },
  {
   "cell_type": "code",
   "execution_count": 6,
   "id": "ebd7a49b-8062-4c37-b571-efb5c4689adc",
   "metadata": {
    "execution": {
     "iopub.execute_input": "2022-07-09T08:45:56.748955Z",
     "iopub.status.busy": "2022-07-09T08:45:56.748788Z",
     "iopub.status.idle": "2022-07-09T08:45:56.765852Z",
     "shell.execute_reply": "2022-07-09T08:45:56.765349Z"
    },
    "papermill": {
     "duration": 0.02749,
     "end_time": "2022-07-09T08:45:56.767179",
     "exception": false,
     "start_time": "2022-07-09T08:45:56.739689",
     "status": "completed"
    },
    "tags": []
   },
   "outputs": [
    {
     "data": {
      "text/plain": [
       "'Using eQTL model: MASHR / mashr_'"
      ]
     },
     "metadata": {},
     "output_type": "display_data"
    }
   ],
   "source": [
    "display(f\"Using eQTL model: {EQTL_MODEL} / {EQTL_MODEL_FILES_PREFIX}\")"
   ]
  },
  {
   "cell_type": "code",
   "execution_count": 7,
   "id": "32bd0019-14eb-4645-8a7f-98bdcf11e04a",
   "metadata": {
    "execution": {
     "iopub.execute_input": "2022-07-09T08:45:56.785118Z",
     "iopub.status.busy": "2022-07-09T08:45:56.784952Z",
     "iopub.status.idle": "2022-07-09T08:45:56.797207Z",
     "shell.execute_reply": "2022-07-09T08:45:56.796654Z"
    },
    "papermill": {
     "duration": 0.022865,
     "end_time": "2022-07-09T08:45:56.798654",
     "exception": false,
     "start_time": "2022-07-09T08:45:56.775789",
     "status": "completed"
    },
    "tags": []
   },
   "outputs": [],
   "source": [
    "REFERENCE_PANEL_DIR = conf.PHENOMEXCAN[\"LD_BLOCKS\"][f\"{REFERENCE_PANEL}_GENOTYPE_DIR\"]"
   ]
  },
  {
   "cell_type": "code",
   "execution_count": 8,
   "id": "a2ea1be5",
   "metadata": {
    "execution": {
     "iopub.execute_input": "2022-07-09T08:45:56.819535Z",
     "iopub.status.busy": "2022-07-09T08:45:56.819088Z",
     "iopub.status.idle": "2022-07-09T08:45:56.832839Z",
     "shell.execute_reply": "2022-07-09T08:45:56.832250Z"
    },
    "papermill": {
     "duration": 0.025292,
     "end_time": "2022-07-09T08:45:56.834224",
     "exception": false,
     "start_time": "2022-07-09T08:45:56.808932",
     "status": "completed"
    },
    "tags": []
   },
   "outputs": [
    {
     "data": {
      "text/plain": [
       "'Using reference panel folder: /opt/data/data/phenomexcan/ld_blocks/reference_panel_1000G'"
      ]
     },
     "metadata": {},
     "output_type": "display_data"
    }
   ],
   "source": [
    "display(f\"Using reference panel folder: {str(REFERENCE_PANEL_DIR)}\")"
   ]
  },
  {
   "cell_type": "code",
   "execution_count": 9,
   "id": "e9bac058-9add-44c1-897d-09200964448c",
   "metadata": {
    "execution": {
     "iopub.execute_input": "2022-07-09T08:45:56.853610Z",
     "iopub.status.busy": "2022-07-09T08:45:56.853141Z",
     "iopub.status.idle": "2022-07-09T08:45:56.865457Z",
     "shell.execute_reply": "2022-07-09T08:45:56.864853Z"
    },
    "papermill": {
     "duration": 0.023296,
     "end_time": "2022-07-09T08:45:56.866807",
     "exception": false,
     "start_time": "2022-07-09T08:45:56.843511",
     "status": "completed"
    },
    "tags": []
   },
   "outputs": [],
   "source": [
    "OUTPUT_DIR_BASE = (\n",
    "    conf.PHENOMEXCAN[\"LD_BLOCKS\"][f\"GENE_CORRS_DIR\"]\n",
    "    / REFERENCE_PANEL.lower()\n",
    "    / EQTL_MODEL.lower()\n",
    ")\n",
    "OUTPUT_DIR_BASE.mkdir(parents=True, exist_ok=True)"
   ]
  },
  {
   "cell_type": "code",
   "execution_count": 10,
   "id": "09a8d5b0-82d8-4f5d-97f4-6910301cba8b",
   "metadata": {
    "execution": {
     "iopub.execute_input": "2022-07-09T08:45:56.884732Z",
     "iopub.status.busy": "2022-07-09T08:45:56.884575Z",
     "iopub.status.idle": "2022-07-09T08:45:56.897362Z",
     "shell.execute_reply": "2022-07-09T08:45:56.896734Z"
    },
    "papermill": {
     "duration": 0.023134,
     "end_time": "2022-07-09T08:45:56.898670",
     "exception": false,
     "start_time": "2022-07-09T08:45:56.875536",
     "status": "completed"
    },
    "tags": []
   },
   "outputs": [
    {
     "data": {
      "text/plain": [
       "'Using output dir base: /opt/data/data/phenomexcan/ld_blocks/gene_corrs/1000g/mashr'"
      ]
     },
     "metadata": {},
     "output_type": "display_data"
    }
   ],
   "source": [
    "display(f\"Using output dir base: {OUTPUT_DIR_BASE}\")"
   ]
  },
  {
   "cell_type": "code",
   "execution_count": 11,
   "id": "c264a67f",
   "metadata": {
    "execution": {
     "iopub.execute_input": "2022-07-09T08:45:56.916638Z",
     "iopub.status.busy": "2022-07-09T08:45:56.916485Z",
     "iopub.status.idle": "2022-07-09T08:45:56.929621Z",
     "shell.execute_reply": "2022-07-09T08:45:56.929031Z"
    },
    "papermill": {
     "duration": 0.023468,
     "end_time": "2022-07-09T08:45:56.930934",
     "exception": false,
     "start_time": "2022-07-09T08:45:56.907466",
     "status": "completed"
    },
    "tags": []
   },
   "outputs": [
    {
     "data": {
      "text/plain": [
       "\"Covariance matrix dtype used: <class 'numpy.float64'>\""
      ]
     },
     "metadata": {},
     "output_type": "display_data"
    }
   ],
   "source": [
    "cov_dtype_dict = {\n",
    "    \"float32\": np.float32,\n",
    "    \"float64\": np.float64,\n",
    "}\n",
    "\n",
    "if COVARIANCE_MATRIX_DTYPE in cov_dtype_dict:\n",
    "    COV_DTYPE = cov_dtype_dict[COVARIANCE_MATRIX_DTYPE]\n",
    "else:\n",
    "    COV_DTYPE = np.float64\n",
    "\n",
    "display(f\"Covariance matrix dtype used: {str(COV_DTYPE)}\")"
   ]
  },
  {
   "cell_type": "markdown",
   "id": "37dfafb8",
   "metadata": {
    "papermill": {
     "duration": 0.008137,
     "end_time": "2022-07-09T08:45:56.947927",
     "exception": false,
     "start_time": "2022-07-09T08:45:56.939790",
     "status": "completed"
    },
    "tags": []
   },
   "source": [
    "# Load data"
   ]
  },
  {
   "cell_type": "markdown",
   "id": "c6f55abd",
   "metadata": {
    "papermill": {
     "duration": 0.008273,
     "end_time": "2022-07-09T08:45:56.964488",
     "exception": false,
     "start_time": "2022-07-09T08:45:56.956215",
     "status": "completed"
    },
    "tags": []
   },
   "source": [
    "## Functions"
   ]
  },
  {
   "cell_type": "code",
   "execution_count": 12,
   "id": "5d1731cc-7c43-4dbe-bea5-88a9ecfc58f8",
   "metadata": {
    "execution": {
     "iopub.execute_input": "2022-07-09T08:45:56.982191Z",
     "iopub.status.busy": "2022-07-09T08:45:56.981636Z",
     "iopub.status.idle": "2022-07-09T08:45:56.993788Z",
     "shell.execute_reply": "2022-07-09T08:45:56.993311Z"
    },
    "papermill": {
     "duration": 0.022311,
     "end_time": "2022-07-09T08:45:56.995033",
     "exception": false,
     "start_time": "2022-07-09T08:45:56.972722",
     "status": "completed"
    },
    "tags": []
   },
   "outputs": [],
   "source": [
    "def get_reference_panel_file(directory: Path, file_pattern: str) -> Path:\n",
    "    files = list(directory.glob(f\"*{file_pattern}*.parquet\"))\n",
    "    assert len(files) == 1, f\"More than one file was found: {files}\"\n",
    "    return files[0]"
   ]
  },
  {
   "cell_type": "code",
   "execution_count": 13,
   "id": "5b460090-39d3-40da-a06a-8ccc039e748c",
   "metadata": {
    "execution": {
     "iopub.execute_input": "2022-07-09T08:45:57.012658Z",
     "iopub.status.busy": "2022-07-09T08:45:57.012500Z",
     "iopub.status.idle": "2022-07-09T08:45:57.027390Z",
     "shell.execute_reply": "2022-07-09T08:45:57.026812Z"
    },
    "papermill": {
     "duration": 0.025122,
     "end_time": "2022-07-09T08:45:57.028730",
     "exception": false,
     "start_time": "2022-07-09T08:45:57.003608",
     "status": "completed"
    },
    "tags": []
   },
   "outputs": [],
   "source": [
    "# testing\n",
    "_tmp = get_reference_panel_file(\n",
    "    conf.PHENOMEXCAN[\"LD_BLOCKS\"][\"GTEX_V8_GENOTYPE_DIR\"], \"chr1.variants\"\n",
    ")\n",
    "assert _tmp is not None\n",
    "assert (\n",
    "    _tmp.name\n",
    "    == \"gtex_v8_eur_filtered_maf0.01_monoallelic_variants.chr1.variants.parquet\"\n",
    ")\n",
    "\n",
    "_tmp = get_reference_panel_file(\n",
    "    conf.PHENOMEXCAN[\"LD_BLOCKS\"][\"GTEX_V8_GENOTYPE_DIR\"], \"_metadata\"\n",
    ")\n",
    "assert _tmp is not None\n",
    "assert (\n",
    "    _tmp.name\n",
    "    == \"gtex_v8_eur_filtered_maf0.01_monoallelic_variants.variants_metadata.parquet\"\n",
    ")\n",
    "\n",
    "# 1000G\n",
    "_tmp = get_reference_panel_file(\n",
    "    conf.PHENOMEXCAN[\"LD_BLOCKS\"][\"1000G_GENOTYPE_DIR\"], \"chr1.variants\"\n",
    ")\n",
    "assert _tmp is not None\n",
    "assert _tmp.name == \"chr1.variants.parquet\"\n",
    "\n",
    "_tmp = get_reference_panel_file(\n",
    "    conf.PHENOMEXCAN[\"LD_BLOCKS\"][\"1000G_GENOTYPE_DIR\"], \"_metadata\"\n",
    ")\n",
    "assert _tmp is not None\n",
    "assert _tmp.name == \"variant_metadata.parquet\"\n",
    "\n",
    "# pattern matches more than one file\n",
    "try:\n",
    "    get_reference_panel_file(\n",
    "        conf.PHENOMEXCAN[\"LD_BLOCKS\"][\"1000G_GENOTYPE_DIR\"], \"chr1\"\n",
    "    )\n",
    "    raise AssertionError(\"Exception was not raised\")\n",
    "except AssertionError as e:\n",
    "    assert \"More than one file was found\" in str(e)"
   ]
  },
  {
   "cell_type": "markdown",
   "id": "cd93f57d-ba1b-463c-b5ae-97435954a5de",
   "metadata": {
    "papermill": {
     "duration": 0.00854,
     "end_time": "2022-07-09T08:45:57.046065",
     "exception": false,
     "start_time": "2022-07-09T08:45:57.037525",
     "status": "completed"
    },
    "tags": []
   },
   "source": [
    "## SNPs in predictions models"
   ]
  },
  {
   "cell_type": "code",
   "execution_count": 14,
   "id": "c94c4cbb",
   "metadata": {
    "execution": {
     "iopub.execute_input": "2022-07-09T08:45:57.064959Z",
     "iopub.status.busy": "2022-07-09T08:45:57.064785Z",
     "iopub.status.idle": "2022-07-09T08:45:57.077348Z",
     "shell.execute_reply": "2022-07-09T08:45:57.076842Z"
    },
    "papermill": {
     "duration": 0.024028,
     "end_time": "2022-07-09T08:45:57.078683",
     "exception": false,
     "start_time": "2022-07-09T08:45:57.054655",
     "status": "completed"
    },
    "tags": []
   },
   "outputs": [],
   "source": [
    "mashr_models_db_files = list(\n",
    "    conf.PHENOMEXCAN[\"PREDICTION_MODELS\"][EQTL_MODEL].glob(\"*.db\")\n",
    ")"
   ]
  },
  {
   "cell_type": "code",
   "execution_count": 15,
   "id": "9015c1d7",
   "metadata": {
    "execution": {
     "iopub.execute_input": "2022-07-09T08:45:57.096792Z",
     "iopub.status.busy": "2022-07-09T08:45:57.096632Z",
     "iopub.status.idle": "2022-07-09T08:45:57.108618Z",
     "shell.execute_reply": "2022-07-09T08:45:57.108025Z"
    },
    "papermill": {
     "duration": 0.022577,
     "end_time": "2022-07-09T08:45:57.109914",
     "exception": false,
     "start_time": "2022-07-09T08:45:57.087337",
     "status": "completed"
    },
    "tags": []
   },
   "outputs": [],
   "source": [
    "assert len(mashr_models_db_files) == 49"
   ]
  },
  {
   "cell_type": "code",
   "execution_count": 16,
   "id": "d5a28a46",
   "metadata": {
    "execution": {
     "iopub.execute_input": "2022-07-09T08:45:57.128180Z",
     "iopub.status.busy": "2022-07-09T08:45:57.128016Z",
     "iopub.status.idle": "2022-07-09T08:45:58.672417Z",
     "shell.execute_reply": "2022-07-09T08:45:58.671752Z"
    },
    "papermill": {
     "duration": 1.555287,
     "end_time": "2022-07-09T08:45:58.673924",
     "exception": false,
     "start_time": "2022-07-09T08:45:57.118637",
     "status": "completed"
    },
    "tags": []
   },
   "outputs": [
    {
     "name": "stdout",
     "output_type": "stream",
     "text": [
      "Processing mashr_Skin_Not_Sun_Exposed_Suprapubic.db\n",
      "Processing mashr_Cells_EBV-transformed_lymphocytes.db\n",
      "Processing mashr_Brain_Frontal_Cortex_BA9.db\n",
      "Processing mashr_Kidney_Cortex.db\n",
      "Processing mashr_Brain_Substantia_nigra.db\n",
      "Processing mashr_Spleen.db\n",
      "Processing mashr_Colon_Transverse.db\n",
      "Processing mashr_Heart_Left_Ventricle.db\n",
      "Processing mashr_Lung.db\n",
      "Processing mashr_Muscle_Skeletal.db\n",
      "Processing mashr_Brain_Hypothalamus.db\n",
      "Processing mashr_Brain_Cortex.db\n",
      "Processing mashr_Brain_Amygdala.db\n",
      "Processing mashr_Esophagus_Mucosa.db\n",
      "Processing mashr_Adrenal_Gland.db\n",
      "Processing mashr_Uterus.db\n",
      "Processing mashr_Prostate.db\n",
      "Processing mashr_Whole_Blood.db\n",
      "Processing mashr_Pituitary.db\n",
      "Processing mashr_Esophagus_Gastroesophageal_Junction.db\n",
      "Processing mashr_Stomach.db\n",
      "Processing mashr_Heart_Atrial_Appendage.db\n",
      "Processing mashr_Brain_Cerebellum.db\n",
      "Processing mashr_Breast_Mammary_Tissue.db\n",
      "Processing mashr_Artery_Tibial.db\n",
      "Processing mashr_Artery_Aorta.db\n",
      "Processing mashr_Small_Intestine_Terminal_Ileum.db\n",
      "Processing mashr_Brain_Hippocampus.db\n",
      "Processing mashr_Testis.db\n",
      "Processing mashr_Brain_Putamen_basal_ganglia.db\n",
      "Processing mashr_Pancreas.db\n",
      "Processing mashr_Adipose_Subcutaneous.db\n",
      "Processing mashr_Brain_Cerebellar_Hemisphere.db\n",
      "Processing mashr_Colon_Sigmoid.db\n",
      "Processing mashr_Minor_Salivary_Gland.db\n",
      "Processing mashr_Cells_Cultured_fibroblasts.db\n",
      "Processing mashr_Brain_Nucleus_accumbens_basal_ganglia.db\n",
      "Processing mashr_Brain_Anterior_cingulate_cortex_BA24.db\n",
      "Processing mashr_Vagina.db\n",
      "Processing mashr_Ovary.db\n",
      "Processing mashr_Skin_Sun_Exposed_Lower_leg.db\n",
      "Processing mashr_Esophagus_Muscularis.db\n",
      "Processing mashr_Brain_Spinal_cord_cervical_c-1.db\n",
      "Processing mashr_Artery_Coronary.db\n",
      "Processing mashr_Thyroid.db\n",
      "Processing mashr_Brain_Caudate_basal_ganglia.db\n",
      "Processing mashr_Adipose_Visceral_Omentum.db\n",
      "Processing mashr_Nerve_Tibial.db\n",
      "Processing mashr_Liver.db\n"
     ]
    }
   ],
   "source": [
    "all_variants_ids = []\n",
    "\n",
    "for m in mashr_models_db_files:\n",
    "    print(f\"Processing {m.name}\")\n",
    "    tissue = m.name.split(EQTL_MODEL_FILES_PREFIX)[1].split(\".db\")[0]\n",
    "\n",
    "    with sqlite3.connect(m) as conn:\n",
    "        df = pd.read_sql(\"select gene, varID from weights\", conn)\n",
    "        df[\"gene\"] = df[\"gene\"].apply(lambda x: x.split(\".\")[0])\n",
    "        df = df.assign(tissue=tissue)\n",
    "\n",
    "        all_variants_ids.append(df)"
   ]
  },
  {
   "cell_type": "code",
   "execution_count": 17,
   "id": "986feda1",
   "metadata": {
    "execution": {
     "iopub.execute_input": "2022-07-09T08:45:58.694452Z",
     "iopub.status.busy": "2022-07-09T08:45:58.694283Z",
     "iopub.status.idle": "2022-07-09T08:45:58.838856Z",
     "shell.execute_reply": "2022-07-09T08:45:58.838233Z"
    },
    "papermill": {
     "duration": 0.15634,
     "end_time": "2022-07-09T08:45:58.840416",
     "exception": false,
     "start_time": "2022-07-09T08:45:58.684076",
     "status": "completed"
    },
    "tags": []
   },
   "outputs": [],
   "source": [
    "all_gene_snps = pd.concat(all_variants_ids, ignore_index=True)"
   ]
  },
  {
   "cell_type": "code",
   "execution_count": 18,
   "id": "cdbb12ef",
   "metadata": {
    "execution": {
     "iopub.execute_input": "2022-07-09T08:45:58.862597Z",
     "iopub.status.busy": "2022-07-09T08:45:58.862401Z",
     "iopub.status.idle": "2022-07-09T08:45:58.876426Z",
     "shell.execute_reply": "2022-07-09T08:45:58.875820Z"
    },
    "papermill": {
     "duration": 0.026621,
     "end_time": "2022-07-09T08:45:58.877798",
     "exception": false,
     "start_time": "2022-07-09T08:45:58.851177",
     "status": "completed"
    },
    "tags": []
   },
   "outputs": [
    {
     "data": {
      "text/plain": [
       "(1132714, 3)"
      ]
     },
     "execution_count": 18,
     "metadata": {},
     "output_type": "execute_result"
    }
   ],
   "source": [
    "all_gene_snps.shape"
   ]
  },
  {
   "cell_type": "code",
   "execution_count": 19,
   "id": "c5300203",
   "metadata": {
    "execution": {
     "iopub.execute_input": "2022-07-09T08:45:58.899431Z",
     "iopub.status.busy": "2022-07-09T08:45:58.899247Z",
     "iopub.status.idle": "2022-07-09T08:45:58.917628Z",
     "shell.execute_reply": "2022-07-09T08:45:58.917025Z"
    },
    "papermill": {
     "duration": 0.03081,
     "end_time": "2022-07-09T08:45:58.919009",
     "exception": false,
     "start_time": "2022-07-09T08:45:58.888199",
     "status": "completed"
    },
    "tags": []
   },
   "outputs": [
    {
     "data": {
      "text/html": [
       "<div>\n",
       "<style scoped>\n",
       "    .dataframe tbody tr th:only-of-type {\n",
       "        vertical-align: middle;\n",
       "    }\n",
       "\n",
       "    .dataframe tbody tr th {\n",
       "        vertical-align: top;\n",
       "    }\n",
       "\n",
       "    .dataframe thead th {\n",
       "        text-align: right;\n",
       "    }\n",
       "</style>\n",
       "<table border=\"1\" class=\"dataframe\">\n",
       "  <thead>\n",
       "    <tr style=\"text-align: right;\">\n",
       "      <th></th>\n",
       "      <th>gene</th>\n",
       "      <th>varID</th>\n",
       "      <th>tissue</th>\n",
       "    </tr>\n",
       "  </thead>\n",
       "  <tbody>\n",
       "    <tr>\n",
       "      <th>0</th>\n",
       "      <td>ENSG00000169583</td>\n",
       "      <td>chr9_136996001_G_A_b38</td>\n",
       "      <td>Skin_Not_Sun_Exposed_Suprapubic</td>\n",
       "    </tr>\n",
       "    <tr>\n",
       "      <th>1</th>\n",
       "      <td>ENSG00000107331</td>\n",
       "      <td>chr9_137029055_C_CA_b38</td>\n",
       "      <td>Skin_Not_Sun_Exposed_Suprapubic</td>\n",
       "    </tr>\n",
       "    <tr>\n",
       "      <th>2</th>\n",
       "      <td>ENSG00000107331</td>\n",
       "      <td>chr9_137029407_T_G_b38</td>\n",
       "      <td>Skin_Not_Sun_Exposed_Suprapubic</td>\n",
       "    </tr>\n",
       "    <tr>\n",
       "      <th>3</th>\n",
       "      <td>ENSG00000180549</td>\n",
       "      <td>chr9_137031950_T_C_b38</td>\n",
       "      <td>Skin_Not_Sun_Exposed_Suprapubic</td>\n",
       "    </tr>\n",
       "    <tr>\n",
       "      <th>4</th>\n",
       "      <td>ENSG00000180549</td>\n",
       "      <td>chr9_137032610_A_G_b38</td>\n",
       "      <td>Skin_Not_Sun_Exposed_Suprapubic</td>\n",
       "    </tr>\n",
       "  </tbody>\n",
       "</table>\n",
       "</div>"
      ],
      "text/plain": [
       "              gene                    varID                           tissue\n",
       "0  ENSG00000169583   chr9_136996001_G_A_b38  Skin_Not_Sun_Exposed_Suprapubic\n",
       "1  ENSG00000107331  chr9_137029055_C_CA_b38  Skin_Not_Sun_Exposed_Suprapubic\n",
       "2  ENSG00000107331   chr9_137029407_T_G_b38  Skin_Not_Sun_Exposed_Suprapubic\n",
       "3  ENSG00000180549   chr9_137031950_T_C_b38  Skin_Not_Sun_Exposed_Suprapubic\n",
       "4  ENSG00000180549   chr9_137032610_A_G_b38  Skin_Not_Sun_Exposed_Suprapubic"
      ]
     },
     "execution_count": 19,
     "metadata": {},
     "output_type": "execute_result"
    }
   ],
   "source": [
    "all_gene_snps.head()"
   ]
  },
  {
   "cell_type": "code",
   "execution_count": 20,
   "id": "e5a2d4be",
   "metadata": {
    "execution": {
     "iopub.execute_input": "2022-07-09T08:45:58.939422Z",
     "iopub.status.busy": "2022-07-09T08:45:58.939256Z",
     "iopub.status.idle": "2022-07-09T08:45:59.275467Z",
     "shell.execute_reply": "2022-07-09T08:45:59.274713Z"
    },
    "papermill": {
     "duration": 0.348022,
     "end_time": "2022-07-09T08:45:59.277105",
     "exception": false,
     "start_time": "2022-07-09T08:45:58.929083",
     "status": "completed"
    },
    "tags": []
   },
   "outputs": [],
   "source": [
    "all_snps_in_models = set(all_gene_snps[\"varID\"].unique())"
   ]
  },
  {
   "cell_type": "markdown",
   "id": "e2cfb3d9",
   "metadata": {
    "papermill": {
     "duration": 0.010599,
     "end_time": "2022-07-09T08:45:59.299006",
     "exception": false,
     "start_time": "2022-07-09T08:45:59.288407",
     "status": "completed"
    },
    "tags": []
   },
   "source": [
    "## MultiPLIER Z"
   ]
  },
  {
   "cell_type": "code",
   "execution_count": 21,
   "id": "0e901bf8",
   "metadata": {
    "execution": {
     "iopub.execute_input": "2022-07-09T08:45:59.320728Z",
     "iopub.status.busy": "2022-07-09T08:45:59.320557Z",
     "iopub.status.idle": "2022-07-09T08:45:59.357090Z",
     "shell.execute_reply": "2022-07-09T08:45:59.356530Z"
    },
    "papermill": {
     "duration": 0.048859,
     "end_time": "2022-07-09T08:45:59.358629",
     "exception": false,
     "start_time": "2022-07-09T08:45:59.309770",
     "status": "completed"
    },
    "tags": []
   },
   "outputs": [],
   "source": [
    "multiplier_z = pd.read_pickle(conf.MULTIPLIER[\"MODEL_Z_MATRIX_FILE\"])"
   ]
  },
  {
   "cell_type": "code",
   "execution_count": 22,
   "id": "55da6f21",
   "metadata": {
    "execution": {
     "iopub.execute_input": "2022-07-09T08:45:59.380787Z",
     "iopub.status.busy": "2022-07-09T08:45:59.380602Z",
     "iopub.status.idle": "2022-07-09T08:45:59.394810Z",
     "shell.execute_reply": "2022-07-09T08:45:59.394106Z"
    },
    "papermill": {
     "duration": 0.02692,
     "end_time": "2022-07-09T08:45:59.396281",
     "exception": false,
     "start_time": "2022-07-09T08:45:59.369361",
     "status": "completed"
    },
    "tags": []
   },
   "outputs": [
    {
     "data": {
      "text/plain": [
       "(6750, 987)"
      ]
     },
     "execution_count": 22,
     "metadata": {},
     "output_type": "execute_result"
    }
   ],
   "source": [
    "multiplier_z.shape"
   ]
  },
  {
   "cell_type": "code",
   "execution_count": 23,
   "id": "5efd6fc7",
   "metadata": {
    "execution": {
     "iopub.execute_input": "2022-07-09T08:45:59.417117Z",
     "iopub.status.busy": "2022-07-09T08:45:59.416716Z",
     "iopub.status.idle": "2022-07-09T08:45:59.453249Z",
     "shell.execute_reply": "2022-07-09T08:45:59.452665Z"
    },
    "papermill": {
     "duration": 0.047893,
     "end_time": "2022-07-09T08:45:59.454726",
     "exception": false,
     "start_time": "2022-07-09T08:45:59.406833",
     "status": "completed"
    },
    "tags": []
   },
   "outputs": [
    {
     "data": {
      "text/html": [
       "<div>\n",
       "<style scoped>\n",
       "    .dataframe tbody tr th:only-of-type {\n",
       "        vertical-align: middle;\n",
       "    }\n",
       "\n",
       "    .dataframe tbody tr th {\n",
       "        vertical-align: top;\n",
       "    }\n",
       "\n",
       "    .dataframe thead th {\n",
       "        text-align: right;\n",
       "    }\n",
       "</style>\n",
       "<table border=\"1\" class=\"dataframe\">\n",
       "  <thead>\n",
       "    <tr style=\"text-align: right;\">\n",
       "      <th></th>\n",
       "      <th>LV1</th>\n",
       "      <th>LV2</th>\n",
       "      <th>LV3</th>\n",
       "      <th>LV4</th>\n",
       "      <th>LV5</th>\n",
       "      <th>LV6</th>\n",
       "      <th>LV7</th>\n",
       "      <th>LV8</th>\n",
       "      <th>LV9</th>\n",
       "      <th>LV10</th>\n",
       "      <th>...</th>\n",
       "      <th>LV978</th>\n",
       "      <th>LV979</th>\n",
       "      <th>LV980</th>\n",
       "      <th>LV981</th>\n",
       "      <th>LV982</th>\n",
       "      <th>LV983</th>\n",
       "      <th>LV984</th>\n",
       "      <th>LV985</th>\n",
       "      <th>LV986</th>\n",
       "      <th>LV987</th>\n",
       "    </tr>\n",
       "  </thead>\n",
       "  <tbody>\n",
       "    <tr>\n",
       "      <th>GAS6</th>\n",
       "      <td>0.000000</td>\n",
       "      <td>0.0</td>\n",
       "      <td>0.039438</td>\n",
       "      <td>0.0</td>\n",
       "      <td>0.050476</td>\n",
       "      <td>0.000000</td>\n",
       "      <td>0.0</td>\n",
       "      <td>0.000000</td>\n",
       "      <td>0.590949</td>\n",
       "      <td>0.000000</td>\n",
       "      <td>...</td>\n",
       "      <td>0.050125</td>\n",
       "      <td>0.00000</td>\n",
       "      <td>0.033407</td>\n",
       "      <td>0.000000</td>\n",
       "      <td>0.000000</td>\n",
       "      <td>0.005963</td>\n",
       "      <td>0.347362</td>\n",
       "      <td>0.0</td>\n",
       "      <td>0.000000</td>\n",
       "      <td>0.000000</td>\n",
       "    </tr>\n",
       "    <tr>\n",
       "      <th>MMP14</th>\n",
       "      <td>0.000000</td>\n",
       "      <td>0.0</td>\n",
       "      <td>0.000000</td>\n",
       "      <td>0.0</td>\n",
       "      <td>0.070072</td>\n",
       "      <td>0.000000</td>\n",
       "      <td>0.0</td>\n",
       "      <td>0.004904</td>\n",
       "      <td>1.720179</td>\n",
       "      <td>2.423595</td>\n",
       "      <td>...</td>\n",
       "      <td>0.000000</td>\n",
       "      <td>0.00000</td>\n",
       "      <td>0.001007</td>\n",
       "      <td>0.000000</td>\n",
       "      <td>0.035747</td>\n",
       "      <td>0.000000</td>\n",
       "      <td>0.000000</td>\n",
       "      <td>0.0</td>\n",
       "      <td>0.014978</td>\n",
       "      <td>0.000000</td>\n",
       "    </tr>\n",
       "    <tr>\n",
       "      <th>DSP</th>\n",
       "      <td>0.000000</td>\n",
       "      <td>0.0</td>\n",
       "      <td>0.000000</td>\n",
       "      <td>0.0</td>\n",
       "      <td>0.000000</td>\n",
       "      <td>0.041697</td>\n",
       "      <td>0.0</td>\n",
       "      <td>0.005718</td>\n",
       "      <td>0.000000</td>\n",
       "      <td>0.000000</td>\n",
       "      <td>...</td>\n",
       "      <td>0.020853</td>\n",
       "      <td>0.00000</td>\n",
       "      <td>0.000000</td>\n",
       "      <td>0.000000</td>\n",
       "      <td>0.000000</td>\n",
       "      <td>0.005774</td>\n",
       "      <td>0.000000</td>\n",
       "      <td>0.0</td>\n",
       "      <td>0.000000</td>\n",
       "      <td>0.416405</td>\n",
       "    </tr>\n",
       "    <tr>\n",
       "      <th>MARCKSL1</th>\n",
       "      <td>0.305212</td>\n",
       "      <td>0.0</td>\n",
       "      <td>0.000000</td>\n",
       "      <td>0.0</td>\n",
       "      <td>0.000000</td>\n",
       "      <td>0.000000</td>\n",
       "      <td>0.0</td>\n",
       "      <td>0.000000</td>\n",
       "      <td>0.161843</td>\n",
       "      <td>0.149471</td>\n",
       "      <td>...</td>\n",
       "      <td>0.027134</td>\n",
       "      <td>0.05272</td>\n",
       "      <td>0.000000</td>\n",
       "      <td>0.030189</td>\n",
       "      <td>0.060884</td>\n",
       "      <td>0.000000</td>\n",
       "      <td>0.000000</td>\n",
       "      <td>0.0</td>\n",
       "      <td>0.000000</td>\n",
       "      <td>0.448480</td>\n",
       "    </tr>\n",
       "    <tr>\n",
       "      <th>SPARC</th>\n",
       "      <td>0.000000</td>\n",
       "      <td>0.0</td>\n",
       "      <td>0.000000</td>\n",
       "      <td>0.0</td>\n",
       "      <td>0.000000</td>\n",
       "      <td>0.000000</td>\n",
       "      <td>0.0</td>\n",
       "      <td>0.000000</td>\n",
       "      <td>0.000000</td>\n",
       "      <td>0.014014</td>\n",
       "      <td>...</td>\n",
       "      <td>0.000000</td>\n",
       "      <td>0.00000</td>\n",
       "      <td>0.000000</td>\n",
       "      <td>0.000000</td>\n",
       "      <td>0.000000</td>\n",
       "      <td>0.000000</td>\n",
       "      <td>0.067779</td>\n",
       "      <td>0.0</td>\n",
       "      <td>0.122417</td>\n",
       "      <td>0.062665</td>\n",
       "    </tr>\n",
       "  </tbody>\n",
       "</table>\n",
       "<p>5 rows × 987 columns</p>\n",
       "</div>"
      ],
      "text/plain": [
       "               LV1  LV2       LV3  LV4       LV5       LV6  LV7       LV8  \\\n",
       "GAS6      0.000000  0.0  0.039438  0.0  0.050476  0.000000  0.0  0.000000   \n",
       "MMP14     0.000000  0.0  0.000000  0.0  0.070072  0.000000  0.0  0.004904   \n",
       "DSP       0.000000  0.0  0.000000  0.0  0.000000  0.041697  0.0  0.005718   \n",
       "MARCKSL1  0.305212  0.0  0.000000  0.0  0.000000  0.000000  0.0  0.000000   \n",
       "SPARC     0.000000  0.0  0.000000  0.0  0.000000  0.000000  0.0  0.000000   \n",
       "\n",
       "               LV9      LV10  ...     LV978    LV979     LV980     LV981  \\\n",
       "GAS6      0.590949  0.000000  ...  0.050125  0.00000  0.033407  0.000000   \n",
       "MMP14     1.720179  2.423595  ...  0.000000  0.00000  0.001007  0.000000   \n",
       "DSP       0.000000  0.000000  ...  0.020853  0.00000  0.000000  0.000000   \n",
       "MARCKSL1  0.161843  0.149471  ...  0.027134  0.05272  0.000000  0.030189   \n",
       "SPARC     0.000000  0.014014  ...  0.000000  0.00000  0.000000  0.000000   \n",
       "\n",
       "             LV982     LV983     LV984  LV985     LV986     LV987  \n",
       "GAS6      0.000000  0.005963  0.347362    0.0  0.000000  0.000000  \n",
       "MMP14     0.035747  0.000000  0.000000    0.0  0.014978  0.000000  \n",
       "DSP       0.000000  0.005774  0.000000    0.0  0.000000  0.416405  \n",
       "MARCKSL1  0.060884  0.000000  0.000000    0.0  0.000000  0.448480  \n",
       "SPARC     0.000000  0.000000  0.067779    0.0  0.122417  0.062665  \n",
       "\n",
       "[5 rows x 987 columns]"
      ]
     },
     "execution_count": 23,
     "metadata": {},
     "output_type": "execute_result"
    }
   ],
   "source": [
    "multiplier_z.head()"
   ]
  },
  {
   "cell_type": "markdown",
   "id": "c2109617",
   "metadata": {
    "papermill": {
     "duration": 0.011456,
     "end_time": "2022-07-09T08:45:59.477500",
     "exception": false,
     "start_time": "2022-07-09T08:45:59.466044",
     "status": "completed"
    },
    "tags": []
   },
   "source": [
    "## Reference panel variants metadata"
   ]
  },
  {
   "cell_type": "code",
   "execution_count": 24,
   "id": "f69e80b2",
   "metadata": {
    "execution": {
     "iopub.execute_input": "2022-07-09T08:45:59.502074Z",
     "iopub.status.busy": "2022-07-09T08:45:59.501879Z",
     "iopub.status.idle": "2022-07-09T08:45:59.516152Z",
     "shell.execute_reply": "2022-07-09T08:45:59.515600Z"
    },
    "papermill": {
     "duration": 0.028205,
     "end_time": "2022-07-09T08:45:59.517591",
     "exception": false,
     "start_time": "2022-07-09T08:45:59.489386",
     "status": "completed"
    },
    "tags": []
   },
   "outputs": [
    {
     "data": {
      "text/plain": [
       "PosixPath('/opt/data/data/phenomexcan/ld_blocks/reference_panel_1000G/variant_metadata.parquet')"
      ]
     },
     "metadata": {},
     "output_type": "display_data"
    }
   ],
   "source": [
    "input_file = get_reference_panel_file(REFERENCE_PANEL_DIR, \"_metadata\")\n",
    "display(input_file)"
   ]
  },
  {
   "cell_type": "code",
   "execution_count": 25,
   "id": "41e34ee0",
   "metadata": {
    "execution": {
     "iopub.execute_input": "2022-07-09T08:45:59.540873Z",
     "iopub.status.busy": "2022-07-09T08:45:59.540695Z",
     "iopub.status.idle": "2022-07-09T08:46:05.552246Z",
     "shell.execute_reply": "2022-07-09T08:46:05.551610Z"
    },
    "papermill": {
     "duration": 6.02469,
     "end_time": "2022-07-09T08:46:05.553733",
     "exception": false,
     "start_time": "2022-07-09T08:45:59.529043",
     "status": "completed"
    },
    "tags": []
   },
   "outputs": [],
   "source": [
    "variants_metadata = pd.read_parquet(input_file, columns=[\"id\"])"
   ]
  },
  {
   "cell_type": "code",
   "execution_count": 26,
   "id": "81410760",
   "metadata": {
    "execution": {
     "iopub.execute_input": "2022-07-09T08:46:05.577734Z",
     "iopub.status.busy": "2022-07-09T08:46:05.577557Z",
     "iopub.status.idle": "2022-07-09T08:46:05.592974Z",
     "shell.execute_reply": "2022-07-09T08:46:05.592484Z"
    },
    "papermill": {
     "duration": 0.028276,
     "end_time": "2022-07-09T08:46:05.594227",
     "exception": false,
     "start_time": "2022-07-09T08:46:05.565951",
     "status": "completed"
    },
    "tags": []
   },
   "outputs": [
    {
     "data": {
      "text/plain": [
       "(27731498, 1)"
      ]
     },
     "execution_count": 26,
     "metadata": {},
     "output_type": "execute_result"
    }
   ],
   "source": [
    "variants_metadata.shape"
   ]
  },
  {
   "cell_type": "code",
   "execution_count": 27,
   "id": "1d008de7",
   "metadata": {
    "execution": {
     "iopub.execute_input": "2022-07-09T08:46:05.615979Z",
     "iopub.status.busy": "2022-07-09T08:46:05.615807Z",
     "iopub.status.idle": "2022-07-09T08:46:05.633477Z",
     "shell.execute_reply": "2022-07-09T08:46:05.632983Z"
    },
    "papermill": {
     "duration": 0.029918,
     "end_time": "2022-07-09T08:46:05.634798",
     "exception": false,
     "start_time": "2022-07-09T08:46:05.604880",
     "status": "completed"
    },
    "tags": []
   },
   "outputs": [
    {
     "data": {
      "text/html": [
       "<div>\n",
       "<style scoped>\n",
       "    .dataframe tbody tr th:only-of-type {\n",
       "        vertical-align: middle;\n",
       "    }\n",
       "\n",
       "    .dataframe tbody tr th {\n",
       "        vertical-align: top;\n",
       "    }\n",
       "\n",
       "    .dataframe thead th {\n",
       "        text-align: right;\n",
       "    }\n",
       "</style>\n",
       "<table border=\"1\" class=\"dataframe\">\n",
       "  <thead>\n",
       "    <tr style=\"text-align: right;\">\n",
       "      <th></th>\n",
       "      <th>id</th>\n",
       "    </tr>\n",
       "  </thead>\n",
       "  <tbody>\n",
       "    <tr>\n",
       "      <th>0</th>\n",
       "      <td>chr1_17496_AC_A_b38</td>\n",
       "    </tr>\n",
       "    <tr>\n",
       "      <th>1</th>\n",
       "      <td>chr1_54490_G_A_b38</td>\n",
       "    </tr>\n",
       "    <tr>\n",
       "      <th>2</th>\n",
       "      <td>chr1_55330_G_A_b38</td>\n",
       "    </tr>\n",
       "    <tr>\n",
       "      <th>3</th>\n",
       "      <td>chr1_55416_G_A_b38</td>\n",
       "    </tr>\n",
       "    <tr>\n",
       "      <th>4</th>\n",
       "      <td>chr1_62157_G_A_b38</td>\n",
       "    </tr>\n",
       "  </tbody>\n",
       "</table>\n",
       "</div>"
      ],
      "text/plain": [
       "                    id\n",
       "0  chr1_17496_AC_A_b38\n",
       "1   chr1_54490_G_A_b38\n",
       "2   chr1_55330_G_A_b38\n",
       "3   chr1_55416_G_A_b38\n",
       "4   chr1_62157_G_A_b38"
      ]
     },
     "execution_count": 27,
     "metadata": {},
     "output_type": "execute_result"
    }
   ],
   "source": [
    "variants_metadata.head()"
   ]
  },
  {
   "cell_type": "code",
   "execution_count": 28,
   "id": "45bd2164",
   "metadata": {
    "execution": {
     "iopub.execute_input": "2022-07-09T08:46:05.656726Z",
     "iopub.status.busy": "2022-07-09T08:46:05.656551Z",
     "iopub.status.idle": "2022-07-09T08:46:13.577233Z",
     "shell.execute_reply": "2022-07-09T08:46:13.576605Z"
    },
    "papermill": {
     "duration": 7.933397,
     "end_time": "2022-07-09T08:46:13.578797",
     "exception": false,
     "start_time": "2022-07-09T08:46:05.645400",
     "status": "completed"
    },
    "tags": []
   },
   "outputs": [],
   "source": [
    "variants_ids_with_genotype = set(variants_metadata[\"id\"])"
   ]
  },
  {
   "cell_type": "code",
   "execution_count": 29,
   "id": "8f2937d7",
   "metadata": {
    "execution": {
     "iopub.execute_input": "2022-07-09T08:46:13.603499Z",
     "iopub.status.busy": "2022-07-09T08:46:13.603311Z",
     "iopub.status.idle": "2022-07-09T08:46:13.620181Z",
     "shell.execute_reply": "2022-07-09T08:46:13.619505Z"
    },
    "papermill": {
     "duration": 0.030634,
     "end_time": "2022-07-09T08:46:13.621565",
     "exception": false,
     "start_time": "2022-07-09T08:46:13.590931",
     "status": "completed"
    },
    "tags": []
   },
   "outputs": [
    {
     "data": {
      "text/plain": [
       "27731498"
      ]
     },
     "execution_count": 29,
     "metadata": {},
     "output_type": "execute_result"
    }
   ],
   "source": [
    "len(variants_ids_with_genotype)"
   ]
  },
  {
   "cell_type": "code",
   "execution_count": 30,
   "id": "6b160cc3",
   "metadata": {
    "execution": {
     "iopub.execute_input": "2022-07-09T08:46:13.643822Z",
     "iopub.status.busy": "2022-07-09T08:46:13.643653Z",
     "iopub.status.idle": "2022-07-09T08:46:16.513693Z",
     "shell.execute_reply": "2022-07-09T08:46:16.512856Z"
    },
    "papermill": {
     "duration": 2.882739,
     "end_time": "2022-07-09T08:46:16.515690",
     "exception": false,
     "start_time": "2022-07-09T08:46:13.632951",
     "status": "completed"
    },
    "tags": []
   },
   "outputs": [
    {
     "data": {
      "text/plain": [
       "['chr1_37985530_C_G_b38',\n",
       " 'chr10_15569395_T_C_b38',\n",
       " 'chr8_55098244_G_A_b38',\n",
       " 'chr5_120588383_C_T_b38',\n",
       " 'chr2_149192685_C_T_b38',\n",
       " 'chr2_80027582_T_C_b38',\n",
       " 'chr5_149757891_C_A_b38',\n",
       " 'chr15_61600701_C_G_b38',\n",
       " 'chr8_73519344_TC_T_b38',\n",
       " 'chr13_42027366_GT_G_b38']"
      ]
     },
     "execution_count": 30,
     "metadata": {},
     "output_type": "execute_result"
    }
   ],
   "source": [
    "list(variants_ids_with_genotype)[:10]"
   ]
  },
  {
   "cell_type": "code",
   "execution_count": 31,
   "id": "0a38a43c",
   "metadata": {
    "execution": {
     "iopub.execute_input": "2022-07-09T08:46:16.543843Z",
     "iopub.status.busy": "2022-07-09T08:46:16.543648Z",
     "iopub.status.idle": "2022-07-09T08:46:16.559884Z",
     "shell.execute_reply": "2022-07-09T08:46:16.559269Z"
    },
    "papermill": {
     "duration": 0.031121,
     "end_time": "2022-07-09T08:46:16.561515",
     "exception": false,
     "start_time": "2022-07-09T08:46:16.530394",
     "status": "completed"
    },
    "tags": []
   },
   "outputs": [],
   "source": [
    "del variants_metadata"
   ]
  },
  {
   "cell_type": "markdown",
   "id": "4b7ca4c8",
   "metadata": {
    "papermill": {
     "duration": 0.012377,
     "end_time": "2022-07-09T08:46:16.586419",
     "exception": false,
     "start_time": "2022-07-09T08:46:16.574042",
     "status": "completed"
    },
    "tags": []
   },
   "source": [
    "# How many variants in predictions models are present in the reference panel?"
   ]
  },
  {
   "cell_type": "code",
   "execution_count": 32,
   "id": "4e323c11",
   "metadata": {
    "execution": {
     "iopub.execute_input": "2022-07-09T08:46:16.608249Z",
     "iopub.status.busy": "2022-07-09T08:46:16.608058Z",
     "iopub.status.idle": "2022-07-09T08:46:16.622664Z",
     "shell.execute_reply": "2022-07-09T08:46:16.622000Z"
    },
    "papermill": {
     "duration": 0.027064,
     "end_time": "2022-07-09T08:46:16.624672",
     "exception": false,
     "start_time": "2022-07-09T08:46:16.597608",
     "status": "completed"
    },
    "tags": []
   },
   "outputs": [
    {
     "data": {
      "text/plain": [
       "237405"
      ]
     },
     "metadata": {},
     "output_type": "display_data"
    }
   ],
   "source": [
    "n_snps_in_models = len(all_snps_in_models)\n",
    "display(n_snps_in_models)"
   ]
  },
  {
   "cell_type": "code",
   "execution_count": 33,
   "id": "a9ecb68e",
   "metadata": {
    "execution": {
     "iopub.execute_input": "2022-07-09T08:46:16.647024Z",
     "iopub.status.busy": "2022-07-09T08:46:16.646855Z",
     "iopub.status.idle": "2022-07-09T08:46:16.717634Z",
     "shell.execute_reply": "2022-07-09T08:46:16.716939Z"
    },
    "papermill": {
     "duration": 0.08381,
     "end_time": "2022-07-09T08:46:16.719351",
     "exception": false,
     "start_time": "2022-07-09T08:46:16.635541",
     "status": "completed"
    },
    "tags": []
   },
   "outputs": [
    {
     "data": {
      "text/plain": [
       "222720"
      ]
     },
     "metadata": {},
     "output_type": "display_data"
    }
   ],
   "source": [
    "n_snps_in_ref_panel = len(all_snps_in_models.intersection(variants_ids_with_genotype))\n",
    "display(n_snps_in_ref_panel)"
   ]
  },
  {
   "cell_type": "code",
   "execution_count": 34,
   "id": "5f2f5991",
   "metadata": {
    "execution": {
     "iopub.execute_input": "2022-07-09T08:46:16.746228Z",
     "iopub.status.busy": "2022-07-09T08:46:16.746034Z",
     "iopub.status.idle": "2022-07-09T08:46:16.763135Z",
     "shell.execute_reply": "2022-07-09T08:46:16.762523Z"
    },
    "papermill": {
     "duration": 0.032114,
     "end_time": "2022-07-09T08:46:16.764639",
     "exception": false,
     "start_time": "2022-07-09T08:46:16.732525",
     "status": "completed"
    },
    "tags": []
   },
   "outputs": [
    {
     "data": {
      "text/plain": [
       "0.9381436785240412"
      ]
     },
     "execution_count": 34,
     "metadata": {},
     "output_type": "execute_result"
    }
   ],
   "source": [
    "n_snps_in_ref_panel / n_snps_in_models"
   ]
  },
  {
   "cell_type": "markdown",
   "id": "a9a0d07c",
   "metadata": {
    "papermill": {
     "duration": 0.012595,
     "end_time": "2022-07-09T08:46:16.790117",
     "exception": false,
     "start_time": "2022-07-09T08:46:16.777522",
     "status": "completed"
    },
    "tags": []
   },
   "source": [
    "# Get final list of genes in MultiPLIER"
   ]
  },
  {
   "cell_type": "code",
   "execution_count": 35,
   "id": "e9801fec",
   "metadata": {
    "execution": {
     "iopub.execute_input": "2022-07-09T08:46:16.813302Z",
     "iopub.status.busy": "2022-07-09T08:46:16.812524Z",
     "iopub.status.idle": "2022-07-09T08:46:16.831895Z",
     "shell.execute_reply": "2022-07-09T08:46:16.831322Z"
    },
    "papermill": {
     "duration": 0.031636,
     "end_time": "2022-07-09T08:46:16.833248",
     "exception": false,
     "start_time": "2022-07-09T08:46:16.801612",
     "status": "completed"
    },
    "tags": []
   },
   "outputs": [],
   "source": [
    "genes_in_z = [\n",
    "    Gene(name=gene_name).ensembl_id\n",
    "    for gene_name in multiplier_z.index\n",
    "    if gene_name in Gene.GENE_NAME_TO_ID_MAP\n",
    "]"
   ]
  },
  {
   "cell_type": "code",
   "execution_count": 36,
   "id": "4cde8776",
   "metadata": {
    "execution": {
     "iopub.execute_input": "2022-07-09T08:46:16.855011Z",
     "iopub.status.busy": "2022-07-09T08:46:16.854845Z",
     "iopub.status.idle": "2022-07-09T08:46:16.869268Z",
     "shell.execute_reply": "2022-07-09T08:46:16.868807Z"
    },
    "papermill": {
     "duration": 0.026727,
     "end_time": "2022-07-09T08:46:16.870473",
     "exception": false,
     "start_time": "2022-07-09T08:46:16.843746",
     "status": "completed"
    },
    "tags": []
   },
   "outputs": [
    {
     "data": {
      "text/plain": [
       "6454"
      ]
     },
     "execution_count": 36,
     "metadata": {},
     "output_type": "execute_result"
    }
   ],
   "source": [
    "len(genes_in_z)"
   ]
  },
  {
   "cell_type": "code",
   "execution_count": 37,
   "id": "577cf614",
   "metadata": {
    "execution": {
     "iopub.execute_input": "2022-07-09T08:46:16.892559Z",
     "iopub.status.busy": "2022-07-09T08:46:16.892381Z",
     "iopub.status.idle": "2022-07-09T08:46:16.909359Z",
     "shell.execute_reply": "2022-07-09T08:46:16.908807Z"
    },
    "papermill": {
     "duration": 0.029514,
     "end_time": "2022-07-09T08:46:16.910642",
     "exception": false,
     "start_time": "2022-07-09T08:46:16.881128",
     "status": "completed"
    },
    "tags": []
   },
   "outputs": [
    {
     "data": {
      "text/plain": [
       "['ENSG00000183087',\n",
       " 'ENSG00000157227',\n",
       " 'ENSG00000096696',\n",
       " 'ENSG00000175130',\n",
       " 'ENSG00000113140']"
      ]
     },
     "execution_count": 37,
     "metadata": {},
     "output_type": "execute_result"
    }
   ],
   "source": [
    "genes_in_z[:5]"
   ]
  },
  {
   "cell_type": "code",
   "execution_count": 38,
   "id": "3136fc66",
   "metadata": {
    "execution": {
     "iopub.execute_input": "2022-07-09T08:46:16.933765Z",
     "iopub.status.busy": "2022-07-09T08:46:16.933607Z",
     "iopub.status.idle": "2022-07-09T08:46:16.948278Z",
     "shell.execute_reply": "2022-07-09T08:46:16.947703Z"
    },
    "papermill": {
     "duration": 0.027441,
     "end_time": "2022-07-09T08:46:16.949624",
     "exception": false,
     "start_time": "2022-07-09T08:46:16.922183",
     "status": "completed"
    },
    "tags": []
   },
   "outputs": [],
   "source": [
    "genes_in_z = set(genes_in_z)"
   ]
  },
  {
   "cell_type": "code",
   "execution_count": 39,
   "id": "0f1cace8",
   "metadata": {
    "execution": {
     "iopub.execute_input": "2022-07-09T08:46:16.971357Z",
     "iopub.status.busy": "2022-07-09T08:46:16.971202Z",
     "iopub.status.idle": "2022-07-09T08:46:16.985714Z",
     "shell.execute_reply": "2022-07-09T08:46:16.985176Z"
    },
    "papermill": {
     "duration": 0.026817,
     "end_time": "2022-07-09T08:46:16.987020",
     "exception": false,
     "start_time": "2022-07-09T08:46:16.960203",
     "status": "completed"
    },
    "tags": []
   },
   "outputs": [
    {
     "data": {
      "text/plain": [
       "6454"
      ]
     },
     "execution_count": 39,
     "metadata": {},
     "output_type": "execute_result"
    }
   ],
   "source": [
    "len(genes_in_z)"
   ]
  },
  {
   "cell_type": "code",
   "execution_count": 40,
   "id": "b9dc4d3e",
   "metadata": {
    "execution": {
     "iopub.execute_input": "2022-07-09T08:46:17.008937Z",
     "iopub.status.busy": "2022-07-09T08:46:17.008778Z",
     "iopub.status.idle": "2022-07-09T08:46:17.116993Z",
     "shell.execute_reply": "2022-07-09T08:46:17.116371Z"
    },
    "papermill": {
     "duration": 0.120642,
     "end_time": "2022-07-09T08:46:17.118421",
     "exception": false,
     "start_time": "2022-07-09T08:46:16.997779",
     "status": "completed"
    },
    "tags": []
   },
   "outputs": [
    {
     "data": {
      "text/plain": [
       "(1132714, 3)"
      ]
     },
     "metadata": {},
     "output_type": "display_data"
    },
    {
     "data": {
      "text/plain": [
       "(396890, 3)"
      ]
     },
     "metadata": {},
     "output_type": "display_data"
    }
   ],
   "source": [
    "# keep genes in MultiPLIER only\n",
    "display(all_gene_snps.shape)\n",
    "\n",
    "all_gene_snps = all_gene_snps[all_gene_snps[\"gene\"].isin(genes_in_z)]\n",
    "\n",
    "display(all_gene_snps.shape)"
   ]
  },
  {
   "cell_type": "markdown",
   "id": "69e77b6e",
   "metadata": {
    "papermill": {
     "duration": 0.012859,
     "end_time": "2022-07-09T08:46:17.144297",
     "exception": false,
     "start_time": "2022-07-09T08:46:17.131438",
     "status": "completed"
    },
    "tags": []
   },
   "source": [
    "# (For MultiPLIER genes): How many variants in predictions models are present in the reference panel?"
   ]
  },
  {
   "cell_type": "code",
   "execution_count": 41,
   "id": "c8a3405c",
   "metadata": {
    "execution": {
     "iopub.execute_input": "2022-07-09T08:46:17.171150Z",
     "iopub.status.busy": "2022-07-09T08:46:17.170960Z",
     "iopub.status.idle": "2022-07-09T08:46:17.286954Z",
     "shell.execute_reply": "2022-07-09T08:46:17.286331Z"
    },
    "papermill": {
     "duration": 0.13118,
     "end_time": "2022-07-09T08:46:17.288458",
     "exception": false,
     "start_time": "2022-07-09T08:46:17.157278",
     "status": "completed"
    },
    "tags": []
   },
   "outputs": [
    {
     "data": {
      "text/plain": [
       "84708"
      ]
     },
     "metadata": {},
     "output_type": "display_data"
    }
   ],
   "source": [
    "all_snps_in_models_multiplier = set(all_gene_snps[\"varID\"])\n",
    "\n",
    "n_snps_in_models = len(all_snps_in_models_multiplier)\n",
    "display(n_snps_in_models)"
   ]
  },
  {
   "cell_type": "code",
   "execution_count": 42,
   "id": "a118deab",
   "metadata": {
    "execution": {
     "iopub.execute_input": "2022-07-09T08:46:17.315535Z",
     "iopub.status.busy": "2022-07-09T08:46:17.315346Z",
     "iopub.status.idle": "2022-07-09T08:46:17.351831Z",
     "shell.execute_reply": "2022-07-09T08:46:17.351170Z"
    },
    "papermill": {
     "duration": 0.051658,
     "end_time": "2022-07-09T08:46:17.353344",
     "exception": false,
     "start_time": "2022-07-09T08:46:17.301686",
     "status": "completed"
    },
    "tags": []
   },
   "outputs": [
    {
     "data": {
      "text/plain": [
       "80339"
      ]
     },
     "metadata": {},
     "output_type": "display_data"
    }
   ],
   "source": [
    "n_snps_in_ref_panel = len(\n",
    "    all_snps_in_models_multiplier.intersection(variants_ids_with_genotype)\n",
    ")\n",
    "display(n_snps_in_ref_panel)"
   ]
  },
  {
   "cell_type": "code",
   "execution_count": 43,
   "id": "cb5b96f3",
   "metadata": {
    "execution": {
     "iopub.execute_input": "2022-07-09T08:46:17.380837Z",
     "iopub.status.busy": "2022-07-09T08:46:17.380649Z",
     "iopub.status.idle": "2022-07-09T08:46:17.397329Z",
     "shell.execute_reply": "2022-07-09T08:46:17.396739Z"
    },
    "papermill": {
     "duration": 0.031914,
     "end_time": "2022-07-09T08:46:17.398709",
     "exception": false,
     "start_time": "2022-07-09T08:46:17.366795",
     "status": "completed"
    },
    "tags": []
   },
   "outputs": [
    {
     "data": {
      "text/plain": [
       "0.9484228172073476"
      ]
     },
     "execution_count": 43,
     "metadata": {},
     "output_type": "execute_result"
    }
   ],
   "source": [
    "n_snps_in_ref_panel / n_snps_in_models"
   ]
  },
  {
   "cell_type": "markdown",
   "id": "dbabf1c1",
   "metadata": {
    "papermill": {
     "duration": 0.012594,
     "end_time": "2022-07-09T08:46:17.424093",
     "exception": false,
     "start_time": "2022-07-09T08:46:17.411499",
     "status": "completed"
    },
    "tags": []
   },
   "source": [
    "## Preprocess SNPs data"
   ]
  },
  {
   "cell_type": "code",
   "execution_count": 44,
   "id": "19838f0a",
   "metadata": {
    "execution": {
     "iopub.execute_input": "2022-07-09T08:46:17.447934Z",
     "iopub.status.busy": "2022-07-09T08:46:17.447739Z",
     "iopub.status.idle": "2022-07-09T08:46:17.581863Z",
     "shell.execute_reply": "2022-07-09T08:46:17.581240Z"
    },
    "papermill": {
     "duration": 0.147404,
     "end_time": "2022-07-09T08:46:17.583511",
     "exception": false,
     "start_time": "2022-07-09T08:46:17.436107",
     "status": "completed"
    },
    "tags": []
   },
   "outputs": [],
   "source": [
    "variants_ld_block_df = all_gene_snps[[\"varID\"]].drop_duplicates()"
   ]
  },
  {
   "cell_type": "code",
   "execution_count": 45,
   "id": "d015b20d",
   "metadata": {
    "execution": {
     "iopub.execute_input": "2022-07-09T08:46:17.612434Z",
     "iopub.status.busy": "2022-07-09T08:46:17.611791Z",
     "iopub.status.idle": "2022-07-09T08:46:17.628958Z",
     "shell.execute_reply": "2022-07-09T08:46:17.628321Z"
    },
    "papermill": {
     "duration": 0.03307,
     "end_time": "2022-07-09T08:46:17.630448",
     "exception": false,
     "start_time": "2022-07-09T08:46:17.597378",
     "status": "completed"
    },
    "tags": []
   },
   "outputs": [
    {
     "data": {
      "text/plain": [
       "(84708, 1)"
      ]
     },
     "execution_count": 45,
     "metadata": {},
     "output_type": "execute_result"
    }
   ],
   "source": [
    "variants_ld_block_df.shape"
   ]
  },
  {
   "cell_type": "code",
   "execution_count": 46,
   "id": "ed4a5faa",
   "metadata": {
    "execution": {
     "iopub.execute_input": "2022-07-09T08:46:17.656877Z",
     "iopub.status.busy": "2022-07-09T08:46:17.656710Z",
     "iopub.status.idle": "2022-07-09T08:46:17.673338Z",
     "shell.execute_reply": "2022-07-09T08:46:17.672821Z"
    },
    "papermill": {
     "duration": 0.03025,
     "end_time": "2022-07-09T08:46:17.674625",
     "exception": false,
     "start_time": "2022-07-09T08:46:17.644375",
     "status": "completed"
    },
    "tags": []
   },
   "outputs": [
    {
     "data": {
      "text/html": [
       "<div>\n",
       "<style scoped>\n",
       "    .dataframe tbody tr th:only-of-type {\n",
       "        vertical-align: middle;\n",
       "    }\n",
       "\n",
       "    .dataframe tbody tr th {\n",
       "        vertical-align: top;\n",
       "    }\n",
       "\n",
       "    .dataframe thead th {\n",
       "        text-align: right;\n",
       "    }\n",
       "</style>\n",
       "<table border=\"1\" class=\"dataframe\">\n",
       "  <thead>\n",
       "    <tr style=\"text-align: right;\">\n",
       "      <th></th>\n",
       "      <th>varID</th>\n",
       "    </tr>\n",
       "  </thead>\n",
       "  <tbody>\n",
       "    <tr>\n",
       "      <th>0</th>\n",
       "      <td>chr9_136996001_G_A_b38</td>\n",
       "    </tr>\n",
       "    <tr>\n",
       "      <th>1</th>\n",
       "      <td>chr9_137029055_C_CA_b38</td>\n",
       "    </tr>\n",
       "    <tr>\n",
       "      <th>2</th>\n",
       "      <td>chr9_137029407_T_G_b38</td>\n",
       "    </tr>\n",
       "    <tr>\n",
       "      <th>10</th>\n",
       "      <td>chr9_137084985_C_T_b38</td>\n",
       "    </tr>\n",
       "    <tr>\n",
       "      <th>11</th>\n",
       "      <td>chr9_137102549_TACAC_T_b38</td>\n",
       "    </tr>\n",
       "  </tbody>\n",
       "</table>\n",
       "</div>"
      ],
      "text/plain": [
       "                         varID\n",
       "0       chr9_136996001_G_A_b38\n",
       "1      chr9_137029055_C_CA_b38\n",
       "2       chr9_137029407_T_G_b38\n",
       "10      chr9_137084985_C_T_b38\n",
       "11  chr9_137102549_TACAC_T_b38"
      ]
     },
     "execution_count": 46,
     "metadata": {},
     "output_type": "execute_result"
    }
   ],
   "source": [
    "variants_ld_block_df.head()"
   ]
  },
  {
   "cell_type": "code",
   "execution_count": 47,
   "id": "3557d870",
   "metadata": {
    "execution": {
     "iopub.execute_input": "2022-07-09T08:46:17.698699Z",
     "iopub.status.busy": "2022-07-09T08:46:17.698509Z",
     "iopub.status.idle": "2022-07-09T08:46:24.672583Z",
     "shell.execute_reply": "2022-07-09T08:46:24.671839Z"
    },
    "papermill": {
     "duration": 6.987642,
     "end_time": "2022-07-09T08:46:24.674233",
     "exception": false,
     "start_time": "2022-07-09T08:46:17.686591",
     "status": "completed"
    },
    "tags": []
   },
   "outputs": [],
   "source": [
    "variants_info = variants_ld_block_df[\"varID\"].str.split(\"_\", expand=True)"
   ]
  },
  {
   "cell_type": "code",
   "execution_count": 48,
   "id": "bd49aa4c",
   "metadata": {
    "execution": {
     "iopub.execute_input": "2022-07-09T08:46:24.702336Z",
     "iopub.status.busy": "2022-07-09T08:46:24.702150Z",
     "iopub.status.idle": "2022-07-09T08:46:24.718913Z",
     "shell.execute_reply": "2022-07-09T08:46:24.718226Z"
    },
    "papermill": {
     "duration": 0.032371,
     "end_time": "2022-07-09T08:46:24.720373",
     "exception": false,
     "start_time": "2022-07-09T08:46:24.688002",
     "status": "completed"
    },
    "tags": []
   },
   "outputs": [
    {
     "data": {
      "text/plain": [
       "(84708, 5)"
      ]
     },
     "execution_count": 48,
     "metadata": {},
     "output_type": "execute_result"
    }
   ],
   "source": [
    "variants_info.shape"
   ]
  },
  {
   "cell_type": "code",
   "execution_count": 49,
   "id": "7e2b7606",
   "metadata": {
    "execution": {
     "iopub.execute_input": "2022-07-09T08:46:24.745877Z",
     "iopub.status.busy": "2022-07-09T08:46:24.745700Z",
     "iopub.status.idle": "2022-07-09T08:46:24.759912Z",
     "shell.execute_reply": "2022-07-09T08:46:24.759393Z"
    },
    "papermill": {
     "duration": 0.028009,
     "end_time": "2022-07-09T08:46:24.761274",
     "exception": false,
     "start_time": "2022-07-09T08:46:24.733265",
     "status": "completed"
    },
    "tags": []
   },
   "outputs": [],
   "source": [
    "assert variants_ld_block_df.shape[0] == variants_info.shape[0]"
   ]
  },
  {
   "cell_type": "code",
   "execution_count": 50,
   "id": "048abd7f",
   "metadata": {
    "execution": {
     "iopub.execute_input": "2022-07-09T08:46:24.785553Z",
     "iopub.status.busy": "2022-07-09T08:46:24.785396Z",
     "iopub.status.idle": "2022-07-09T08:46:24.834954Z",
     "shell.execute_reply": "2022-07-09T08:46:24.834252Z"
    },
    "papermill": {
     "duration": 0.063491,
     "end_time": "2022-07-09T08:46:24.836766",
     "exception": false,
     "start_time": "2022-07-09T08:46:24.773275",
     "status": "completed"
    },
    "tags": []
   },
   "outputs": [],
   "source": [
    "variants_ld_block_df = variants_ld_block_df.join(variants_info)[[\"varID\", 0, 1, 2, 3]]"
   ]
  },
  {
   "cell_type": "code",
   "execution_count": 51,
   "id": "5bfb6a7a",
   "metadata": {
    "execution": {
     "iopub.execute_input": "2022-07-09T08:46:24.866031Z",
     "iopub.status.busy": "2022-07-09T08:46:24.865842Z",
     "iopub.status.idle": "2022-07-09T08:46:24.881984Z",
     "shell.execute_reply": "2022-07-09T08:46:24.881264Z"
    },
    "papermill": {
     "duration": 0.032187,
     "end_time": "2022-07-09T08:46:24.883514",
     "exception": false,
     "start_time": "2022-07-09T08:46:24.851327",
     "status": "completed"
    },
    "tags": []
   },
   "outputs": [],
   "source": [
    "assert variants_ld_block_df.shape[0] == variants_info.shape[0]"
   ]
  },
  {
   "cell_type": "code",
   "execution_count": 52,
   "id": "4d8cf1da",
   "metadata": {
    "execution": {
     "iopub.execute_input": "2022-07-09T08:46:24.914699Z",
     "iopub.status.busy": "2022-07-09T08:46:24.914494Z",
     "iopub.status.idle": "2022-07-09T08:46:24.936409Z",
     "shell.execute_reply": "2022-07-09T08:46:24.935707Z"
    },
    "papermill": {
     "duration": 0.039534,
     "end_time": "2022-07-09T08:46:24.937833",
     "exception": false,
     "start_time": "2022-07-09T08:46:24.898299",
     "status": "completed"
    },
    "tags": []
   },
   "outputs": [
    {
     "data": {
      "text/html": [
       "<div>\n",
       "<style scoped>\n",
       "    .dataframe tbody tr th:only-of-type {\n",
       "        vertical-align: middle;\n",
       "    }\n",
       "\n",
       "    .dataframe tbody tr th {\n",
       "        vertical-align: top;\n",
       "    }\n",
       "\n",
       "    .dataframe thead th {\n",
       "        text-align: right;\n",
       "    }\n",
       "</style>\n",
       "<table border=\"1\" class=\"dataframe\">\n",
       "  <thead>\n",
       "    <tr style=\"text-align: right;\">\n",
       "      <th></th>\n",
       "      <th>varID</th>\n",
       "      <th>0</th>\n",
       "      <th>1</th>\n",
       "      <th>2</th>\n",
       "      <th>3</th>\n",
       "    </tr>\n",
       "  </thead>\n",
       "  <tbody>\n",
       "    <tr>\n",
       "      <th>0</th>\n",
       "      <td>chr9_136996001_G_A_b38</td>\n",
       "      <td>chr9</td>\n",
       "      <td>136996001</td>\n",
       "      <td>G</td>\n",
       "      <td>A</td>\n",
       "    </tr>\n",
       "    <tr>\n",
       "      <th>1</th>\n",
       "      <td>chr9_137029055_C_CA_b38</td>\n",
       "      <td>chr9</td>\n",
       "      <td>137029055</td>\n",
       "      <td>C</td>\n",
       "      <td>CA</td>\n",
       "    </tr>\n",
       "    <tr>\n",
       "      <th>2</th>\n",
       "      <td>chr9_137029407_T_G_b38</td>\n",
       "      <td>chr9</td>\n",
       "      <td>137029407</td>\n",
       "      <td>T</td>\n",
       "      <td>G</td>\n",
       "    </tr>\n",
       "    <tr>\n",
       "      <th>10</th>\n",
       "      <td>chr9_137084985_C_T_b38</td>\n",
       "      <td>chr9</td>\n",
       "      <td>137084985</td>\n",
       "      <td>C</td>\n",
       "      <td>T</td>\n",
       "    </tr>\n",
       "    <tr>\n",
       "      <th>11</th>\n",
       "      <td>chr9_137102549_TACAC_T_b38</td>\n",
       "      <td>chr9</td>\n",
       "      <td>137102549</td>\n",
       "      <td>TACAC</td>\n",
       "      <td>T</td>\n",
       "    </tr>\n",
       "  </tbody>\n",
       "</table>\n",
       "</div>"
      ],
      "text/plain": [
       "                         varID     0          1      2   3\n",
       "0       chr9_136996001_G_A_b38  chr9  136996001      G   A\n",
       "1      chr9_137029055_C_CA_b38  chr9  137029055      C  CA\n",
       "2       chr9_137029407_T_G_b38  chr9  137029407      T   G\n",
       "10      chr9_137084985_C_T_b38  chr9  137084985      C   T\n",
       "11  chr9_137102549_TACAC_T_b38  chr9  137102549  TACAC   T"
      ]
     },
     "execution_count": 52,
     "metadata": {},
     "output_type": "execute_result"
    }
   ],
   "source": [
    "variants_ld_block_df.head()"
   ]
  },
  {
   "cell_type": "code",
   "execution_count": 53,
   "id": "47448229",
   "metadata": {
    "execution": {
     "iopub.execute_input": "2022-07-09T08:46:24.963333Z",
     "iopub.status.busy": "2022-07-09T08:46:24.963173Z",
     "iopub.status.idle": "2022-07-09T08:46:24.981641Z",
     "shell.execute_reply": "2022-07-09T08:46:24.981055Z"
    },
    "papermill": {
     "duration": 0.032447,
     "end_time": "2022-07-09T08:46:24.983237",
     "exception": false,
     "start_time": "2022-07-09T08:46:24.950790",
     "status": "completed"
    },
    "tags": []
   },
   "outputs": [],
   "source": [
    "variants_ld_block_df = variants_ld_block_df.rename(\n",
    "    columns={\n",
    "        0: \"chr\",\n",
    "        1: \"position\",\n",
    "        2: \"ref_allele\",\n",
    "        3: \"eff_allele\",\n",
    "    }\n",
    ")"
   ]
  },
  {
   "cell_type": "code",
   "execution_count": 54,
   "id": "3beadcf8",
   "metadata": {
    "execution": {
     "iopub.execute_input": "2022-07-09T08:46:25.010505Z",
     "iopub.status.busy": "2022-07-09T08:46:25.010342Z",
     "iopub.status.idle": "2022-07-09T08:46:25.064441Z",
     "shell.execute_reply": "2022-07-09T08:46:25.063695Z"
    },
    "papermill": {
     "duration": 0.068783,
     "end_time": "2022-07-09T08:46:25.066011",
     "exception": false,
     "start_time": "2022-07-09T08:46:24.997228",
     "status": "completed"
    },
    "tags": []
   },
   "outputs": [],
   "source": [
    "variants_ld_block_df[\"chr\"] = variants_ld_block_df[\"chr\"].apply(lambda x: int(x[3:]))"
   ]
  },
  {
   "cell_type": "code",
   "execution_count": 55,
   "id": "b18c25c1",
   "metadata": {
    "execution": {
     "iopub.execute_input": "2022-07-09T08:46:25.094922Z",
     "iopub.status.busy": "2022-07-09T08:46:25.094730Z",
     "iopub.status.idle": "2022-07-09T08:46:25.121191Z",
     "shell.execute_reply": "2022-07-09T08:46:25.120600Z"
    },
    "papermill": {
     "duration": 0.042807,
     "end_time": "2022-07-09T08:46:25.122773",
     "exception": false,
     "start_time": "2022-07-09T08:46:25.079966",
     "status": "completed"
    },
    "tags": []
   },
   "outputs": [],
   "source": [
    "variants_ld_block_df[\"position\"] = variants_ld_block_df[\"position\"].astype(int)"
   ]
  },
  {
   "cell_type": "code",
   "execution_count": 56,
   "id": "13af12ae",
   "metadata": {
    "execution": {
     "iopub.execute_input": "2022-07-09T08:46:25.151700Z",
     "iopub.status.busy": "2022-07-09T08:46:25.151525Z",
     "iopub.status.idle": "2022-07-09T08:46:25.166982Z",
     "shell.execute_reply": "2022-07-09T08:46:25.166461Z"
    },
    "papermill": {
     "duration": 0.031366,
     "end_time": "2022-07-09T08:46:25.168327",
     "exception": false,
     "start_time": "2022-07-09T08:46:25.136961",
     "status": "completed"
    },
    "tags": []
   },
   "outputs": [
    {
     "data": {
      "text/plain": [
       "(84708, 5)"
      ]
     },
     "execution_count": 56,
     "metadata": {},
     "output_type": "execute_result"
    }
   ],
   "source": [
    "variants_ld_block_df.shape"
   ]
  },
  {
   "cell_type": "code",
   "execution_count": 57,
   "id": "431d8602",
   "metadata": {
    "execution": {
     "iopub.execute_input": "2022-07-09T08:46:25.194579Z",
     "iopub.status.busy": "2022-07-09T08:46:25.194393Z",
     "iopub.status.idle": "2022-07-09T08:46:25.213553Z",
     "shell.execute_reply": "2022-07-09T08:46:25.212971Z"
    },
    "papermill": {
     "duration": 0.033806,
     "end_time": "2022-07-09T08:46:25.214907",
     "exception": false,
     "start_time": "2022-07-09T08:46:25.181101",
     "status": "completed"
    },
    "tags": []
   },
   "outputs": [
    {
     "data": {
      "text/html": [
       "<div>\n",
       "<style scoped>\n",
       "    .dataframe tbody tr th:only-of-type {\n",
       "        vertical-align: middle;\n",
       "    }\n",
       "\n",
       "    .dataframe tbody tr th {\n",
       "        vertical-align: top;\n",
       "    }\n",
       "\n",
       "    .dataframe thead th {\n",
       "        text-align: right;\n",
       "    }\n",
       "</style>\n",
       "<table border=\"1\" class=\"dataframe\">\n",
       "  <thead>\n",
       "    <tr style=\"text-align: right;\">\n",
       "      <th></th>\n",
       "      <th>varID</th>\n",
       "      <th>chr</th>\n",
       "      <th>position</th>\n",
       "      <th>ref_allele</th>\n",
       "      <th>eff_allele</th>\n",
       "    </tr>\n",
       "  </thead>\n",
       "  <tbody>\n",
       "    <tr>\n",
       "      <th>0</th>\n",
       "      <td>chr9_136996001_G_A_b38</td>\n",
       "      <td>9</td>\n",
       "      <td>136996001</td>\n",
       "      <td>G</td>\n",
       "      <td>A</td>\n",
       "    </tr>\n",
       "    <tr>\n",
       "      <th>1</th>\n",
       "      <td>chr9_137029055_C_CA_b38</td>\n",
       "      <td>9</td>\n",
       "      <td>137029055</td>\n",
       "      <td>C</td>\n",
       "      <td>CA</td>\n",
       "    </tr>\n",
       "    <tr>\n",
       "      <th>2</th>\n",
       "      <td>chr9_137029407_T_G_b38</td>\n",
       "      <td>9</td>\n",
       "      <td>137029407</td>\n",
       "      <td>T</td>\n",
       "      <td>G</td>\n",
       "    </tr>\n",
       "    <tr>\n",
       "      <th>10</th>\n",
       "      <td>chr9_137084985_C_T_b38</td>\n",
       "      <td>9</td>\n",
       "      <td>137084985</td>\n",
       "      <td>C</td>\n",
       "      <td>T</td>\n",
       "    </tr>\n",
       "    <tr>\n",
       "      <th>11</th>\n",
       "      <td>chr9_137102549_TACAC_T_b38</td>\n",
       "      <td>9</td>\n",
       "      <td>137102549</td>\n",
       "      <td>TACAC</td>\n",
       "      <td>T</td>\n",
       "    </tr>\n",
       "  </tbody>\n",
       "</table>\n",
       "</div>"
      ],
      "text/plain": [
       "                         varID  chr   position ref_allele eff_allele\n",
       "0       chr9_136996001_G_A_b38    9  136996001          G          A\n",
       "1      chr9_137029055_C_CA_b38    9  137029055          C         CA\n",
       "2       chr9_137029407_T_G_b38    9  137029407          T          G\n",
       "10      chr9_137084985_C_T_b38    9  137084985          C          T\n",
       "11  chr9_137102549_TACAC_T_b38    9  137102549      TACAC          T"
      ]
     },
     "execution_count": 57,
     "metadata": {},
     "output_type": "execute_result"
    }
   ],
   "source": [
    "variants_ld_block_df.head()"
   ]
  },
  {
   "cell_type": "code",
   "execution_count": 58,
   "id": "35fc8e6d",
   "metadata": {
    "execution": {
     "iopub.execute_input": "2022-07-09T08:46:25.241102Z",
     "iopub.status.busy": "2022-07-09T08:46:25.240882Z",
     "iopub.status.idle": "2022-07-09T08:46:25.256393Z",
     "shell.execute_reply": "2022-07-09T08:46:25.255887Z"
    },
    "papermill": {
     "duration": 0.029831,
     "end_time": "2022-07-09T08:46:25.257627",
     "exception": false,
     "start_time": "2022-07-09T08:46:25.227796",
     "status": "completed"
    },
    "tags": []
   },
   "outputs": [
    {
     "data": {
      "text/plain": [
       "varID         object\n",
       "chr            int64\n",
       "position       int64\n",
       "ref_allele    object\n",
       "eff_allele    object\n",
       "dtype: object"
      ]
     },
     "execution_count": 58,
     "metadata": {},
     "output_type": "execute_result"
    }
   ],
   "source": [
    "variants_ld_block_df.dtypes"
   ]
  },
  {
   "cell_type": "markdown",
   "id": "ec84177c",
   "metadata": {
    "papermill": {
     "duration": 0.011494,
     "end_time": "2022-07-09T08:46:25.280981",
     "exception": false,
     "start_time": "2022-07-09T08:46:25.269487",
     "status": "completed"
    },
    "tags": []
   },
   "source": [
    "# Covariance for each chromosome block"
   ]
  },
  {
   "cell_type": "markdown",
   "id": "d43e1890",
   "metadata": {
    "papermill": {
     "duration": 0.011542,
     "end_time": "2022-07-09T08:46:25.304416",
     "exception": false,
     "start_time": "2022-07-09T08:46:25.292874",
     "status": "completed"
    },
    "tags": []
   },
   "source": [
    "## Functions"
   ]
  },
  {
   "cell_type": "code",
   "execution_count": 59,
   "id": "394c6b4d",
   "metadata": {
    "execution": {
     "iopub.execute_input": "2022-07-09T08:46:25.328529Z",
     "iopub.status.busy": "2022-07-09T08:46:25.328345Z",
     "iopub.status.idle": "2022-07-09T08:46:25.342540Z",
     "shell.execute_reply": "2022-07-09T08:46:25.342051Z"
    },
    "papermill": {
     "duration": 0.027851,
     "end_time": "2022-07-09T08:46:25.343922",
     "exception": false,
     "start_time": "2022-07-09T08:46:25.316071",
     "status": "completed"
    },
    "tags": []
   },
   "outputs": [],
   "source": [
    "def covariance(df, dtype):\n",
    "    n = df.shape[0]\n",
    "    df = df.sub(df.mean(), axis=1).astype(dtype)\n",
    "    return df.T.dot(df) / (n - 1)"
   ]
  },
  {
   "cell_type": "code",
   "execution_count": 60,
   "id": "ed702fd0",
   "metadata": {
    "execution": {
     "iopub.execute_input": "2022-07-09T08:46:25.368523Z",
     "iopub.status.busy": "2022-07-09T08:46:25.368337Z",
     "iopub.status.idle": "2022-07-09T08:46:25.409846Z",
     "shell.execute_reply": "2022-07-09T08:46:25.409286Z"
    },
    "papermill": {
     "duration": 0.055375,
     "end_time": "2022-07-09T08:46:25.411304",
     "exception": false,
     "start_time": "2022-07-09T08:46:25.355929",
     "status": "completed"
    },
    "tags": []
   },
   "outputs": [],
   "source": [
    "# testing\n",
    "rs = np.random.RandomState(0)\n",
    "\n",
    "_test_data = pd.DataFrame(rs.normal(size=(50, 5)), columns=[f\"c{i}\" for i in range(5)])\n",
    "\n",
    "# float64\n",
    "pd.testing.assert_frame_equal(\n",
    "    covariance(_test_data, np.float64),\n",
    "    _test_data.cov(),\n",
    "    rtol=1e-10,\n",
    "    atol=1e-10,\n",
    "    check_dtype=True,\n",
    ")\n",
    "\n",
    "# float32\n",
    "pd.testing.assert_frame_equal(\n",
    "    covariance(_test_data, np.float32),\n",
    "    _test_data.cov(),\n",
    "    rtol=1e-5,\n",
    "    atol=1e-8,\n",
    "    check_dtype=False,\n",
    ")\n",
    "\n",
    "del _test_data"
   ]
  },
  {
   "cell_type": "code",
   "execution_count": 61,
   "id": "417717ae",
   "metadata": {
    "execution": {
     "iopub.execute_input": "2022-07-09T08:46:25.435459Z",
     "iopub.status.busy": "2022-07-09T08:46:25.435301Z",
     "iopub.status.idle": "2022-07-09T08:46:25.450169Z",
     "shell.execute_reply": "2022-07-09T08:46:25.449700Z"
    },
    "papermill": {
     "duration": 0.028527,
     "end_time": "2022-07-09T08:46:25.451510",
     "exception": false,
     "start_time": "2022-07-09T08:46:25.422983",
     "status": "completed"
    },
    "tags": []
   },
   "outputs": [],
   "source": [
    "def compute_snps_cov(snps_df):\n",
    "    assert snps_df[\"chr\"].unique().shape[0] == 1\n",
    "    chromosome = snps_df[\"chr\"].unique()[0]\n",
    "\n",
    "    # keep variants only present in genotype\n",
    "    snps_ids = list(set(snps_df[\"varID\"]).intersection(variants_ids_with_genotype))\n",
    "\n",
    "    chromosome_file = get_reference_panel_file(\n",
    "        REFERENCE_PANEL_DIR, f\"chr{chromosome}.variants\"\n",
    "    )\n",
    "    snps_genotypes = pd.read_parquet(chromosome_file, columns=snps_ids)\n",
    "\n",
    "    return covariance(snps_genotypes, COV_DTYPE)"
   ]
  },
  {
   "cell_type": "code",
   "execution_count": 62,
   "id": "db4aed3c",
   "metadata": {
    "execution": {
     "iopub.execute_input": "2022-07-09T08:46:25.475947Z",
     "iopub.status.busy": "2022-07-09T08:46:25.475760Z",
     "iopub.status.idle": "2022-07-09T08:46:25.491840Z",
     "shell.execute_reply": "2022-07-09T08:46:25.491302Z"
    },
    "papermill": {
     "duration": 0.029849,
     "end_time": "2022-07-09T08:46:25.493189",
     "exception": false,
     "start_time": "2022-07-09T08:46:25.463340",
     "status": "completed"
    },
    "tags": []
   },
   "outputs": [],
   "source": [
    "# testing\n",
    "_tmp_snps = variants_ld_block_df[variants_ld_block_df[\"chr\"] == 22]\n",
    "assert _tmp_snps.shape[0] > 0"
   ]
  },
  {
   "cell_type": "code",
   "execution_count": 63,
   "id": "db520e6e",
   "metadata": {
    "execution": {
     "iopub.execute_input": "2022-07-09T08:46:25.518707Z",
     "iopub.status.busy": "2022-07-09T08:46:25.518542Z",
     "iopub.status.idle": "2022-07-09T08:46:25.534077Z",
     "shell.execute_reply": "2022-07-09T08:46:25.533533Z"
    },
    "papermill": {
     "duration": 0.029765,
     "end_time": "2022-07-09T08:46:25.535348",
     "exception": false,
     "start_time": "2022-07-09T08:46:25.505583",
     "status": "completed"
    },
    "tags": []
   },
   "outputs": [
    {
     "data": {
      "text/plain": [
       "(2687, 5)"
      ]
     },
     "execution_count": 63,
     "metadata": {},
     "output_type": "execute_result"
    }
   ],
   "source": [
    "_tmp_snps.shape"
   ]
  },
  {
   "cell_type": "code",
   "execution_count": 64,
   "id": "7f7bb541",
   "metadata": {
    "execution": {
     "iopub.execute_input": "2022-07-09T08:46:25.561911Z",
     "iopub.status.busy": "2022-07-09T08:46:25.561750Z",
     "iopub.status.idle": "2022-07-09T08:46:25.578196Z",
     "shell.execute_reply": "2022-07-09T08:46:25.577658Z"
    },
    "papermill": {
     "duration": 0.031318,
     "end_time": "2022-07-09T08:46:25.579549",
     "exception": false,
     "start_time": "2022-07-09T08:46:25.548231",
     "status": "completed"
    },
    "tags": []
   },
   "outputs": [
    {
     "data": {
      "text/plain": [
       "2484"
      ]
     },
     "metadata": {},
     "output_type": "display_data"
    }
   ],
   "source": [
    "n_expected = len(set(_tmp_snps[\"varID\"]).intersection(variants_ids_with_genotype))\n",
    "display(n_expected)"
   ]
  },
  {
   "cell_type": "code",
   "execution_count": 65,
   "id": "f9de93c0",
   "metadata": {
    "execution": {
     "iopub.execute_input": "2022-07-09T08:46:25.606002Z",
     "iopub.status.busy": "2022-07-09T08:46:25.605747Z",
     "iopub.status.idle": "2022-07-09T08:47:21.983587Z",
     "shell.execute_reply": "2022-07-09T08:47:21.982977Z"
    },
    "papermill": {
     "duration": 56.39216,
     "end_time": "2022-07-09T08:47:21.985084",
     "exception": false,
     "start_time": "2022-07-09T08:46:25.592924",
     "status": "completed"
    },
    "tags": []
   },
   "outputs": [],
   "source": [
    "_tmp = compute_snps_cov(_tmp_snps)"
   ]
  },
  {
   "cell_type": "code",
   "execution_count": 66,
   "id": "46ab35a8",
   "metadata": {
    "execution": {
     "iopub.execute_input": "2022-07-09T08:47:22.010527Z",
     "iopub.status.busy": "2022-07-09T08:47:22.010342Z",
     "iopub.status.idle": "2022-07-09T08:47:22.032197Z",
     "shell.execute_reply": "2022-07-09T08:47:22.031554Z"
    },
    "papermill": {
     "duration": 0.036033,
     "end_time": "2022-07-09T08:47:22.033487",
     "exception": false,
     "start_time": "2022-07-09T08:47:21.997454",
     "status": "completed"
    },
    "tags": []
   },
   "outputs": [],
   "source": [
    "assert _tmp.shape == (n_expected, n_expected)\n",
    "assert not _tmp.isna().any().any()"
   ]
  },
  {
   "cell_type": "code",
   "execution_count": 67,
   "id": "9320eeb4",
   "metadata": {
    "execution": {
     "iopub.execute_input": "2022-07-09T08:47:22.059173Z",
     "iopub.status.busy": "2022-07-09T08:47:22.058410Z",
     "iopub.status.idle": "2022-07-09T08:47:22.072714Z",
     "shell.execute_reply": "2022-07-09T08:47:22.072190Z"
    },
    "papermill": {
     "duration": 0.02823,
     "end_time": "2022-07-09T08:47:22.074005",
     "exception": false,
     "start_time": "2022-07-09T08:47:22.045775",
     "status": "completed"
    },
    "tags": []
   },
   "outputs": [],
   "source": [
    "del _tmp_snps, _tmp"
   ]
  },
  {
   "cell_type": "markdown",
   "id": "1264f97f",
   "metadata": {
    "papermill": {
     "duration": 0.012001,
     "end_time": "2022-07-09T08:47:22.098427",
     "exception": false,
     "start_time": "2022-07-09T08:47:22.086426",
     "status": "completed"
    },
    "tags": []
   },
   "source": [
    "## Compute covariance and save"
   ]
  },
  {
   "cell_type": "code",
   "execution_count": 68,
   "id": "b938ae8a",
   "metadata": {
    "execution": {
     "iopub.execute_input": "2022-07-09T08:47:22.123098Z",
     "iopub.status.busy": "2022-07-09T08:47:22.122882Z",
     "iopub.status.idle": "2022-07-09T08:47:22.138275Z",
     "shell.execute_reply": "2022-07-09T08:47:22.137768Z"
    },
    "papermill": {
     "duration": 0.02928,
     "end_time": "2022-07-09T08:47:22.139490",
     "exception": false,
     "start_time": "2022-07-09T08:47:22.110210",
     "status": "completed"
    },
    "tags": []
   },
   "outputs": [
    {
     "data": {
      "text/plain": [
       "PosixPath('/opt/data/data/phenomexcan/ld_blocks/gene_corrs/1000g/mashr/snps_chr_blocks_cov.h5')"
      ]
     },
     "metadata": {},
     "output_type": "display_data"
    }
   ],
   "source": [
    "output_file_name_template = conf.PHENOMEXCAN[\"LD_BLOCKS\"][\n",
    "    \"GENE_CORRS_FILE_NAME_TEMPLATES\"\n",
    "][\"SNPS_COVARIANCE\"]\n",
    "\n",
    "output_file = OUTPUT_DIR_BASE / output_file_name_template.format(\n",
    "    prefix=\"\",\n",
    "    suffix=\"\",\n",
    ")\n",
    "display(output_file)"
   ]
  },
  {
   "cell_type": "code",
   "execution_count": 69,
   "id": "8953db89",
   "metadata": {
    "execution": {
     "iopub.execute_input": "2022-07-09T08:47:22.164991Z",
     "iopub.status.busy": "2022-07-09T08:47:22.164828Z",
     "iopub.status.idle": "2022-07-09T09:54:38.798805Z",
     "shell.execute_reply": "2022-07-09T09:54:38.797947Z"
    },
    "papermill": {
     "duration": 4036.665224,
     "end_time": "2022-07-09T09:54:38.817105",
     "exception": false,
     "start_time": "2022-07-09T08:47:22.151881",
     "status": "completed"
    },
    "tags": []
   },
   "outputs": [
    {
     "name": "stderr",
     "output_type": "stream",
     "text": [
      "22 (2687, 5): 100%|██████████████████████████████████████████████| 22/22 [1:07:16<00:00, 183.48s/it]\n"
     ]
    }
   ],
   "source": [
    "with pd.HDFStore(output_file, mode=\"w\", complevel=4) as store:\n",
    "    pbar = tqdm(\n",
    "        variants_ld_block_df.groupby(\"chr\"),\n",
    "        ncols=100,\n",
    "        total=variants_ld_block_df[\"chr\"].unique().shape[0],\n",
    "    )\n",
    "\n",
    "    store[\"metadata\"] = variants_ld_block_df\n",
    "\n",
    "    for grp_name, grp_data in pbar:\n",
    "        pbar.set_description(f\"{grp_name} {grp_data.shape}\")\n",
    "        snps_cov = compute_snps_cov(grp_data)  # .astype(COV_DTYPE)\n",
    "        assert not snps_cov.isna().any().any()\n",
    "        store[f\"chr{grp_name}\"] = snps_cov\n",
    "\n",
    "        del snps_cov\n",
    "        store.flush()\n",
    "\n",
    "        gc.collect()"
   ]
  },
  {
   "cell_type": "markdown",
   "id": "1de34e70",
   "metadata": {
    "papermill": {
     "duration": 0.01673,
     "end_time": "2022-07-09T09:54:38.851339",
     "exception": false,
     "start_time": "2022-07-09T09:54:38.834609",
     "status": "completed"
    },
    "tags": []
   },
   "source": [
    "# Testing"
   ]
  },
  {
   "cell_type": "code",
   "execution_count": 70,
   "id": "54fc512c",
   "metadata": {
    "execution": {
     "iopub.execute_input": "2022-07-09T09:54:38.882494Z",
     "iopub.status.busy": "2022-07-09T09:54:38.882172Z",
     "iopub.status.idle": "2022-07-09T09:54:38.898171Z",
     "shell.execute_reply": "2022-07-09T09:54:38.897452Z"
    },
    "papermill": {
     "duration": 0.032408,
     "end_time": "2022-07-09T09:54:38.899635",
     "exception": false,
     "start_time": "2022-07-09T09:54:38.867227",
     "status": "completed"
    },
    "tags": []
   },
   "outputs": [],
   "source": [
    "_tmp = variants_ld_block_df[variants_ld_block_df[\"chr\"] == 1]"
   ]
  },
  {
   "cell_type": "code",
   "execution_count": 71,
   "id": "a3bd8ede",
   "metadata": {
    "execution": {
     "iopub.execute_input": "2022-07-09T09:54:38.929192Z",
     "iopub.status.busy": "2022-07-09T09:54:38.928984Z",
     "iopub.status.idle": "2022-07-09T09:54:38.944571Z",
     "shell.execute_reply": "2022-07-09T09:54:38.943981Z"
    },
    "papermill": {
     "duration": 0.031339,
     "end_time": "2022-07-09T09:54:38.945811",
     "exception": false,
     "start_time": "2022-07-09T09:54:38.914472",
     "status": "completed"
    },
    "tags": []
   },
   "outputs": [
    {
     "data": {
      "text/plain": [
       "(8130, 5)"
      ]
     },
     "execution_count": 71,
     "metadata": {},
     "output_type": "execute_result"
    }
   ],
   "source": [
    "_tmp.shape"
   ]
  },
  {
   "cell_type": "code",
   "execution_count": 72,
   "id": "6149cee4",
   "metadata": {
    "execution": {
     "iopub.execute_input": "2022-07-09T09:54:38.975109Z",
     "iopub.status.busy": "2022-07-09T09:54:38.974910Z",
     "iopub.status.idle": "2022-07-09T09:54:38.989919Z",
     "shell.execute_reply": "2022-07-09T09:54:38.989360Z"
    },
    "papermill": {
     "duration": 0.030951,
     "end_time": "2022-07-09T09:54:38.991287",
     "exception": false,
     "start_time": "2022-07-09T09:54:38.960336",
     "status": "completed"
    },
    "tags": []
   },
   "outputs": [],
   "source": [
    "assert _tmp.shape[0] > 0"
   ]
  },
  {
   "cell_type": "code",
   "execution_count": 73,
   "id": "8aceb74a",
   "metadata": {
    "execution": {
     "iopub.execute_input": "2022-07-09T09:54:39.022902Z",
     "iopub.status.busy": "2022-07-09T09:54:39.022695Z",
     "iopub.status.idle": "2022-07-09T09:54:39.041656Z",
     "shell.execute_reply": "2022-07-09T09:54:39.041090Z"
    },
    "papermill": {
     "duration": 0.036841,
     "end_time": "2022-07-09T09:54:39.043045",
     "exception": false,
     "start_time": "2022-07-09T09:54:39.006204",
     "status": "completed"
    },
    "tags": []
   },
   "outputs": [
    {
     "data": {
      "text/plain": [
       "7701"
      ]
     },
     "metadata": {},
     "output_type": "display_data"
    }
   ],
   "source": [
    "n_expected = len(set(_tmp[\"varID\"]).intersection(variants_ids_with_genotype))\n",
    "display(n_expected)\n",
    "assert n_expected > 0"
   ]
  },
  {
   "cell_type": "code",
   "execution_count": 74,
   "id": "ffdb4c4b",
   "metadata": {
    "execution": {
     "iopub.execute_input": "2022-07-09T09:54:39.073356Z",
     "iopub.status.busy": "2022-07-09T09:54:39.073198Z",
     "iopub.status.idle": "2022-07-09T09:54:40.963420Z",
     "shell.execute_reply": "2022-07-09T09:54:40.962817Z"
    },
    "papermill": {
     "duration": 1.906397,
     "end_time": "2022-07-09T09:54:40.965011",
     "exception": false,
     "start_time": "2022-07-09T09:54:39.058614",
     "status": "completed"
    },
    "tags": []
   },
   "outputs": [],
   "source": [
    "with pd.HDFStore(output_file, mode=\"r\") as store:\n",
    "    df = store[\"chr1\"]\n",
    "    assert df.shape == (n_expected, n_expected)\n",
    "    assert not df.isna().any().any()"
   ]
  },
  {
   "cell_type": "code",
   "execution_count": null,
   "id": "49dccd49",
   "metadata": {
    "papermill": {
     "duration": 0.01502,
     "end_time": "2022-07-09T09:54:40.997481",
     "exception": false,
     "start_time": "2022-07-09T09:54:40.982461",
     "status": "completed"
    },
    "tags": []
   },
   "outputs": [],
   "source": []
  }
 ],
 "metadata": {
  "jupytext": {
   "cell_metadata_filter": "all,-execution,-papermill,-trusted",
   "formats": "ipynb,py//py:percent"
  },
  "kernelspec": {
   "display_name": "Python 3 (ipykernel)",
   "language": "python",
   "name": "python3"
  },
  "language_info": {
   "codemirror_mode": {
    "name": "ipython",
    "version": 3
   },
   "file_extension": ".py",
   "mimetype": "text/x-python",
   "name": "python",
   "nbconvert_exporter": "python",
   "pygments_lexer": "ipython3",
   "version": "3.8.13"
  },
  "papermill": {
   "default_parameters": {},
   "duration": 4129.087778,
   "end_time": "2022-07-09T09:54:43.846970",
   "environment_variables": {},
   "exception": null,
   "input_path": "nbs/15_gsa_gls/05-snps_into_chr_cov.ipynb",
   "output_path": "nbs/15_gsa_gls/gene_corrs/1000g/mashr/05-snps_into_chr_cov.ipynb",
   "parameters": {
    "EQTL_MODEL": "MASHR",
    "REFERENCE_PANEL": "1000G"
   },
   "start_time": "2022-07-09T08:45:54.759192",
   "version": "2.2.2"
  }
 },
 "nbformat": 4,
 "nbformat_minor": 5
}
