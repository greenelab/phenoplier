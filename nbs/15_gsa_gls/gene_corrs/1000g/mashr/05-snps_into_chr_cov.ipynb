{
 "cells": [
  {
   "cell_type": "markdown",
   "id": "d88b3ffc",
   "metadata": {
    "papermill": {
     "duration": 0.010291,
     "end_time": "2022-07-08T17:34:38.868002",
     "exception": false,
     "start_time": "2022-07-08T17:34:38.857711",
     "status": "completed"
    },
    "tags": []
   },
   "source": [
    "# Description"
   ]
  },
  {
   "cell_type": "markdown",
   "id": "69f66c44",
   "metadata": {
    "papermill": {
     "duration": 0.00866,
     "end_time": "2022-07-08T17:34:38.886293",
     "exception": false,
     "start_time": "2022-07-08T17:34:38.877633",
     "status": "completed"
    },
    "tags": []
   },
   "source": [
    "(Please, take a look at the README.md file in this directory for instructions on how to run this notebook)\n",
    "\n",
    "This notebook computes the covariance of SNPs for each chr."
   ]
  },
  {
   "cell_type": "markdown",
   "id": "0cb79cbe",
   "metadata": {
    "papermill": {
     "duration": 0.008246,
     "end_time": "2022-07-08T17:34:38.902608",
     "exception": false,
     "start_time": "2022-07-08T17:34:38.894362",
     "status": "completed"
    },
    "tags": []
   },
   "source": [
    "# Modules"
   ]
  },
  {
   "cell_type": "code",
   "execution_count": 1,
   "id": "0a4272be",
   "metadata": {
    "execution": {
     "iopub.execute_input": "2022-07-08T17:34:38.949145Z",
     "iopub.status.busy": "2022-07-08T17:34:38.948929Z",
     "iopub.status.idle": "2022-07-08T17:34:38.965547Z",
     "shell.execute_reply": "2022-07-08T17:34:38.965012Z"
    },
    "papermill": {
     "duration": 0.028771,
     "end_time": "2022-07-08T17:34:38.967137",
     "exception": false,
     "start_time": "2022-07-08T17:34:38.938366",
     "status": "completed"
    },
    "tags": []
   },
   "outputs": [],
   "source": [
    "%load_ext autoreload\n",
    "%autoreload 2"
   ]
  },
  {
   "cell_type": "code",
   "execution_count": 2,
   "id": "4141c781",
   "metadata": {
    "execution": {
     "iopub.execute_input": "2022-07-08T17:34:38.985783Z",
     "iopub.status.busy": "2022-07-08T17:34:38.985605Z",
     "iopub.status.idle": "2022-07-08T17:34:39.457103Z",
     "shell.execute_reply": "2022-07-08T17:34:39.456543Z"
    },
    "papermill": {
     "duration": 0.483038,
     "end_time": "2022-07-08T17:34:39.458583",
     "exception": false,
     "start_time": "2022-07-08T17:34:38.975545",
     "status": "completed"
    },
    "tags": []
   },
   "outputs": [],
   "source": [
    "import gc\n",
    "import sqlite3\n",
    "from pathlib import Path\n",
    "\n",
    "import numpy as np\n",
    "import pandas as pd\n",
    "from tqdm import tqdm\n",
    "\n",
    "import conf\n",
    "from entity import Gene"
   ]
  },
  {
   "cell_type": "markdown",
   "id": "37055abe",
   "metadata": {
    "papermill": {
     "duration": 0.009296,
     "end_time": "2022-07-08T17:34:39.476667",
     "exception": false,
     "start_time": "2022-07-08T17:34:39.467371",
     "status": "completed"
    },
    "tags": []
   },
   "source": [
    "# Settings"
   ]
  },
  {
   "cell_type": "code",
   "execution_count": 3,
   "id": "c264a67f",
   "metadata": {
    "execution": {
     "iopub.execute_input": "2022-07-08T17:34:39.498850Z",
     "iopub.status.busy": "2022-07-08T17:34:39.498656Z",
     "iopub.status.idle": "2022-07-08T17:34:39.512078Z",
     "shell.execute_reply": "2022-07-08T17:34:39.511511Z"
    },
    "papermill": {
     "duration": 0.027022,
     "end_time": "2022-07-08T17:34:39.513598",
     "exception": false,
     "start_time": "2022-07-08T17:34:39.486576",
     "status": "completed"
    },
    "tags": []
   },
   "outputs": [],
   "source": [
    "COV_DTYPE = np.float32"
   ]
  },
  {
   "cell_type": "code",
   "execution_count": 4,
   "id": "ac93914d",
   "metadata": {
    "execution": {
     "iopub.execute_input": "2022-07-08T17:34:39.533578Z",
     "iopub.status.busy": "2022-07-08T17:34:39.533397Z",
     "iopub.status.idle": "2022-07-08T17:34:39.546670Z",
     "shell.execute_reply": "2022-07-08T17:34:39.546107Z"
    },
    "papermill": {
     "duration": 0.025232,
     "end_time": "2022-07-08T17:34:39.548190",
     "exception": false,
     "start_time": "2022-07-08T17:34:39.522958",
     "status": "completed"
    },
    "tags": [
     "parameters"
    ]
   },
   "outputs": [],
   "source": [
    "# reference panel\n",
    "REFERENCE_PANEL = \"GTEX_V8\"\n",
    "# REFERENCE_PANEL = \"1000G\"\n",
    "\n",
    "# prediction models\n",
    "## mashr\n",
    "EQTL_MODEL = \"MASHR\"\n",
    "EQTL_MODEL_FILES_PREFIX = \"mashr_\"\n",
    "\n",
    "# ## elastic net\n",
    "# EQTL_MODEL = \"ELASTIC_NET\"\n",
    "# EQTL_MODEL_FILES_PREFIX = \"en_\"\n",
    "\n",
    "# make it read the prefix from conf.py\n",
    "EQTL_MODEL_FILES_PREFIX = None"
   ]
  },
  {
   "cell_type": "code",
   "execution_count": 5,
   "id": "a57281a0",
   "metadata": {
    "execution": {
     "iopub.execute_input": "2022-07-08T17:34:39.567040Z",
     "iopub.status.busy": "2022-07-08T17:34:39.566869Z",
     "iopub.status.idle": "2022-07-08T17:34:39.579253Z",
     "shell.execute_reply": "2022-07-08T17:34:39.578696Z"
    },
    "papermill": {
     "duration": 0.023147,
     "end_time": "2022-07-08T17:34:39.580689",
     "exception": false,
     "start_time": "2022-07-08T17:34:39.557542",
     "status": "completed"
    },
    "tags": [
     "injected-parameters"
    ]
   },
   "outputs": [],
   "source": [
    "# Parameters\n",
    "REFERENCE_PANEL = \"1000G\"\n",
    "EQTL_MODEL = \"MASHR\"\n"
   ]
  },
  {
   "cell_type": "code",
   "execution_count": 6,
   "id": "455c2e55",
   "metadata": {
    "execution": {
     "iopub.execute_input": "2022-07-08T17:34:39.598385Z",
     "iopub.status.busy": "2022-07-08T17:34:39.598220Z",
     "iopub.status.idle": "2022-07-08T17:34:39.610176Z",
     "shell.execute_reply": "2022-07-08T17:34:39.609613Z"
    },
    "papermill": {
     "duration": 0.021989,
     "end_time": "2022-07-08T17:34:39.611416",
     "exception": false,
     "start_time": "2022-07-08T17:34:39.589427",
     "status": "completed"
    },
    "tags": []
   },
   "outputs": [],
   "source": [
    "if EQTL_MODEL_FILES_PREFIX is None:\n",
    "    EQTL_MODEL_FILES_PREFIX = conf.PHENOMEXCAN[\"PREDICTION_MODELS\"][\n",
    "        f\"{EQTL_MODEL}_PREFIX\"\n",
    "    ]"
   ]
  },
  {
   "cell_type": "code",
   "execution_count": 7,
   "id": "ebd7a49b-8062-4c37-b571-efb5c4689adc",
   "metadata": {
    "execution": {
     "iopub.execute_input": "2022-07-08T17:34:39.628663Z",
     "iopub.status.busy": "2022-07-08T17:34:39.628503Z",
     "iopub.status.idle": "2022-07-08T17:34:39.645038Z",
     "shell.execute_reply": "2022-07-08T17:34:39.644507Z"
    },
    "papermill": {
     "duration": 0.026424,
     "end_time": "2022-07-08T17:34:39.646345",
     "exception": false,
     "start_time": "2022-07-08T17:34:39.619921",
     "status": "completed"
    },
    "tags": []
   },
   "outputs": [
    {
     "data": {
      "text/plain": [
       "'Using eQTL model: MASHR / mashr_'"
      ]
     },
     "metadata": {},
     "output_type": "display_data"
    }
   ],
   "source": [
    "display(f\"Using eQTL model: {EQTL_MODEL} / {EQTL_MODEL_FILES_PREFIX}\")"
   ]
  },
  {
   "cell_type": "code",
   "execution_count": 8,
   "id": "32bd0019-14eb-4645-8a7f-98bdcf11e04a",
   "metadata": {
    "execution": {
     "iopub.execute_input": "2022-07-08T17:34:39.663937Z",
     "iopub.status.busy": "2022-07-08T17:34:39.663784Z",
     "iopub.status.idle": "2022-07-08T17:34:39.675166Z",
     "shell.execute_reply": "2022-07-08T17:34:39.674679Z"
    },
    "papermill": {
     "duration": 0.021541,
     "end_time": "2022-07-08T17:34:39.676458",
     "exception": false,
     "start_time": "2022-07-08T17:34:39.654917",
     "status": "completed"
    },
    "tags": []
   },
   "outputs": [],
   "source": [
    "REFERENCE_PANEL_DIR = conf.PHENOMEXCAN[\"LD_BLOCKS\"][f\"{REFERENCE_PANEL}_GENOTYPE_DIR\"]"
   ]
  },
  {
   "cell_type": "code",
   "execution_count": 9,
   "id": "a2ea1be5",
   "metadata": {
    "execution": {
     "iopub.execute_input": "2022-07-08T17:34:39.694146Z",
     "iopub.status.busy": "2022-07-08T17:34:39.693981Z",
     "iopub.status.idle": "2022-07-08T17:34:39.706397Z",
     "shell.execute_reply": "2022-07-08T17:34:39.705863Z"
    },
    "papermill": {
     "duration": 0.022544,
     "end_time": "2022-07-08T17:34:39.707644",
     "exception": false,
     "start_time": "2022-07-08T17:34:39.685100",
     "status": "completed"
    },
    "tags": []
   },
   "outputs": [
    {
     "data": {
      "text/plain": [
       "'Using reference panel folder: /opt/data/data/phenomexcan/ld_blocks/reference_panel_1000G'"
      ]
     },
     "metadata": {},
     "output_type": "display_data"
    }
   ],
   "source": [
    "display(f\"Using reference panel folder: {str(REFERENCE_PANEL_DIR)}\")"
   ]
  },
  {
   "cell_type": "code",
   "execution_count": 10,
   "id": "e9bac058-9add-44c1-897d-09200964448c",
   "metadata": {
    "execution": {
     "iopub.execute_input": "2022-07-08T17:34:39.725181Z",
     "iopub.status.busy": "2022-07-08T17:34:39.725022Z",
     "iopub.status.idle": "2022-07-08T17:34:39.737139Z",
     "shell.execute_reply": "2022-07-08T17:34:39.736563Z"
    },
    "papermill": {
     "duration": 0.022522,
     "end_time": "2022-07-08T17:34:39.738538",
     "exception": false,
     "start_time": "2022-07-08T17:34:39.716016",
     "status": "completed"
    },
    "tags": []
   },
   "outputs": [],
   "source": [
    "OUTPUT_DIR_BASE = (\n",
    "    conf.PHENOMEXCAN[\"LD_BLOCKS\"][f\"GENE_CORRS_DIR\"]\n",
    "    / REFERENCE_PANEL.lower()\n",
    "    / EQTL_MODEL.lower()\n",
    ")\n",
    "OUTPUT_DIR_BASE.mkdir(parents=True, exist_ok=True)"
   ]
  },
  {
   "cell_type": "code",
   "execution_count": 11,
   "id": "09a8d5b0-82d8-4f5d-97f4-6910301cba8b",
   "metadata": {
    "execution": {
     "iopub.execute_input": "2022-07-08T17:34:39.756220Z",
     "iopub.status.busy": "2022-07-08T17:34:39.756058Z",
     "iopub.status.idle": "2022-07-08T17:34:39.768320Z",
     "shell.execute_reply": "2022-07-08T17:34:39.767830Z"
    },
    "papermill": {
     "duration": 0.022635,
     "end_time": "2022-07-08T17:34:39.769693",
     "exception": false,
     "start_time": "2022-07-08T17:34:39.747058",
     "status": "completed"
    },
    "tags": []
   },
   "outputs": [
    {
     "data": {
      "text/plain": [
       "'Using output dir base: /opt/data/data/phenomexcan/ld_blocks/gene_corrs/1000g/mashr'"
      ]
     },
     "metadata": {},
     "output_type": "display_data"
    }
   ],
   "source": [
    "display(f\"Using output dir base: {OUTPUT_DIR_BASE}\")"
   ]
  },
  {
   "cell_type": "markdown",
   "id": "37dfafb8",
   "metadata": {
    "papermill": {
     "duration": 0.00965,
     "end_time": "2022-07-08T17:34:39.788705",
     "exception": false,
     "start_time": "2022-07-08T17:34:39.779055",
     "status": "completed"
    },
    "tags": []
   },
   "source": [
    "# Load data"
   ]
  },
  {
   "cell_type": "markdown",
   "id": "c6f55abd",
   "metadata": {
    "papermill": {
     "duration": 0.008506,
     "end_time": "2022-07-08T17:34:39.806347",
     "exception": false,
     "start_time": "2022-07-08T17:34:39.797841",
     "status": "completed"
    },
    "tags": []
   },
   "source": [
    "## Functions"
   ]
  },
  {
   "cell_type": "code",
   "execution_count": 12,
   "id": "5d1731cc-7c43-4dbe-bea5-88a9ecfc58f8",
   "metadata": {
    "execution": {
     "iopub.execute_input": "2022-07-08T17:34:39.823925Z",
     "iopub.status.busy": "2022-07-08T17:34:39.823755Z",
     "iopub.status.idle": "2022-07-08T17:34:39.836362Z",
     "shell.execute_reply": "2022-07-08T17:34:39.835726Z"
    },
    "papermill": {
     "duration": 0.023026,
     "end_time": "2022-07-08T17:34:39.837729",
     "exception": false,
     "start_time": "2022-07-08T17:34:39.814703",
     "status": "completed"
    },
    "tags": []
   },
   "outputs": [],
   "source": [
    "def get_reference_panel_file(directory: Path, file_pattern: str) -> Path:\n",
    "    files = list(directory.glob(f\"*{file_pattern}*.parquet\"))\n",
    "    assert len(files) == 1, f\"More than one file was found: {files}\"\n",
    "    return files[0]"
   ]
  },
  {
   "cell_type": "code",
   "execution_count": 13,
   "id": "5b460090-39d3-40da-a06a-8ccc039e748c",
   "metadata": {
    "execution": {
     "iopub.execute_input": "2022-07-08T17:34:39.855455Z",
     "iopub.status.busy": "2022-07-08T17:34:39.855299Z",
     "iopub.status.idle": "2022-07-08T17:34:39.870051Z",
     "shell.execute_reply": "2022-07-08T17:34:39.869480Z"
    },
    "papermill": {
     "duration": 0.024907,
     "end_time": "2022-07-08T17:34:39.871434",
     "exception": false,
     "start_time": "2022-07-08T17:34:39.846527",
     "status": "completed"
    },
    "tags": []
   },
   "outputs": [],
   "source": [
    "# testing\n",
    "_tmp = get_reference_panel_file(\n",
    "    conf.PHENOMEXCAN[\"LD_BLOCKS\"][\"GTEX_V8_GENOTYPE_DIR\"], \"chr1.variants\"\n",
    ")\n",
    "assert _tmp is not None\n",
    "assert (\n",
    "    _tmp.name\n",
    "    == \"gtex_v8_eur_filtered_maf0.01_monoallelic_variants.chr1.variants.parquet\"\n",
    ")\n",
    "\n",
    "_tmp = get_reference_panel_file(\n",
    "    conf.PHENOMEXCAN[\"LD_BLOCKS\"][\"GTEX_V8_GENOTYPE_DIR\"], \"_metadata\"\n",
    ")\n",
    "assert _tmp is not None\n",
    "assert (\n",
    "    _tmp.name\n",
    "    == \"gtex_v8_eur_filtered_maf0.01_monoallelic_variants.variants_metadata.parquet\"\n",
    ")\n",
    "\n",
    "# 1000G\n",
    "_tmp = get_reference_panel_file(\n",
    "    conf.PHENOMEXCAN[\"LD_BLOCKS\"][\"1000G_GENOTYPE_DIR\"], \"chr1.variants\"\n",
    ")\n",
    "assert _tmp is not None\n",
    "assert _tmp.name == \"chr1.variants.parquet\"\n",
    "\n",
    "_tmp = get_reference_panel_file(\n",
    "    conf.PHENOMEXCAN[\"LD_BLOCKS\"][\"1000G_GENOTYPE_DIR\"], \"_metadata\"\n",
    ")\n",
    "assert _tmp is not None\n",
    "assert _tmp.name == \"variant_metadata.parquet\"\n",
    "\n",
    "# pattern matches more than one file\n",
    "try:\n",
    "    get_reference_panel_file(\n",
    "        conf.PHENOMEXCAN[\"LD_BLOCKS\"][\"1000G_GENOTYPE_DIR\"], \"chr1\"\n",
    "    )\n",
    "    raise AssertionError(\"Exception was not raised\")\n",
    "except AssertionError as e:\n",
    "    assert \"More than one file was found\" in str(e)"
   ]
  },
  {
   "cell_type": "markdown",
   "id": "cd93f57d-ba1b-463c-b5ae-97435954a5de",
   "metadata": {
    "papermill": {
     "duration": 0.008109,
     "end_time": "2022-07-08T17:34:39.888207",
     "exception": false,
     "start_time": "2022-07-08T17:34:39.880098",
     "status": "completed"
    },
    "tags": []
   },
   "source": [
    "## SNPs in predictions models"
   ]
  },
  {
   "cell_type": "code",
   "execution_count": 14,
   "id": "c94c4cbb",
   "metadata": {
    "execution": {
     "iopub.execute_input": "2022-07-08T17:34:39.905317Z",
     "iopub.status.busy": "2022-07-08T17:34:39.905112Z",
     "iopub.status.idle": "2022-07-08T17:34:39.917196Z",
     "shell.execute_reply": "2022-07-08T17:34:39.916697Z"
    },
    "papermill": {
     "duration": 0.022358,
     "end_time": "2022-07-08T17:34:39.918567",
     "exception": false,
     "start_time": "2022-07-08T17:34:39.896209",
     "status": "completed"
    },
    "tags": []
   },
   "outputs": [],
   "source": [
    "mashr_models_db_files = list(\n",
    "    conf.PHENOMEXCAN[\"PREDICTION_MODELS\"][EQTL_MODEL].glob(\"*.db\")\n",
    ")"
   ]
  },
  {
   "cell_type": "code",
   "execution_count": 15,
   "id": "9015c1d7",
   "metadata": {
    "execution": {
     "iopub.execute_input": "2022-07-08T17:34:39.936501Z",
     "iopub.status.busy": "2022-07-08T17:34:39.936339Z",
     "iopub.status.idle": "2022-07-08T17:34:39.948086Z",
     "shell.execute_reply": "2022-07-08T17:34:39.947592Z"
    },
    "papermill": {
     "duration": 0.022195,
     "end_time": "2022-07-08T17:34:39.949401",
     "exception": false,
     "start_time": "2022-07-08T17:34:39.927206",
     "status": "completed"
    },
    "tags": []
   },
   "outputs": [],
   "source": [
    "assert len(mashr_models_db_files) == 49"
   ]
  },
  {
   "cell_type": "code",
   "execution_count": 16,
   "id": "d5a28a46",
   "metadata": {
    "execution": {
     "iopub.execute_input": "2022-07-08T17:34:39.967278Z",
     "iopub.status.busy": "2022-07-08T17:34:39.967115Z",
     "iopub.status.idle": "2022-07-08T17:34:41.523319Z",
     "shell.execute_reply": "2022-07-08T17:34:41.522614Z"
    },
    "papermill": {
     "duration": 1.566923,
     "end_time": "2022-07-08T17:34:41.524889",
     "exception": false,
     "start_time": "2022-07-08T17:34:39.957966",
     "status": "completed"
    },
    "tags": []
   },
   "outputs": [
    {
     "name": "stdout",
     "output_type": "stream",
     "text": [
      "Processing mashr_Skin_Not_Sun_Exposed_Suprapubic.db\n",
      "Processing mashr_Cells_EBV-transformed_lymphocytes.db\n",
      "Processing mashr_Brain_Frontal_Cortex_BA9.db\n",
      "Processing mashr_Kidney_Cortex.db\n",
      "Processing mashr_Brain_Substantia_nigra.db\n",
      "Processing mashr_Spleen.db\n",
      "Processing mashr_Colon_Transverse.db\n",
      "Processing mashr_Heart_Left_Ventricle.db\n",
      "Processing mashr_Lung.db\n",
      "Processing mashr_Muscle_Skeletal.db\n",
      "Processing mashr_Brain_Hypothalamus.db\n",
      "Processing mashr_Brain_Cortex.db\n",
      "Processing mashr_Brain_Amygdala.db\n",
      "Processing mashr_Esophagus_Mucosa.db\n",
      "Processing mashr_Adrenal_Gland.db\n",
      "Processing mashr_Uterus.db\n",
      "Processing mashr_Prostate.db\n",
      "Processing mashr_Whole_Blood.db\n",
      "Processing mashr_Pituitary.db\n",
      "Processing mashr_Esophagus_Gastroesophageal_Junction.db\n",
      "Processing mashr_Stomach.db\n",
      "Processing mashr_Heart_Atrial_Appendage.db\n",
      "Processing mashr_Brain_Cerebellum.db\n",
      "Processing mashr_Breast_Mammary_Tissue.db\n",
      "Processing mashr_Artery_Tibial.db\n",
      "Processing mashr_Artery_Aorta.db\n",
      "Processing mashr_Small_Intestine_Terminal_Ileum.db\n",
      "Processing mashr_Brain_Hippocampus.db\n",
      "Processing mashr_Testis.db\n",
      "Processing mashr_Brain_Putamen_basal_ganglia.db\n",
      "Processing mashr_Pancreas.db\n",
      "Processing mashr_Adipose_Subcutaneous.db\n",
      "Processing mashr_Brain_Cerebellar_Hemisphere.db\n",
      "Processing mashr_Colon_Sigmoid.db\n",
      "Processing mashr_Minor_Salivary_Gland.db\n",
      "Processing mashr_Cells_Cultured_fibroblasts.db\n",
      "Processing mashr_Brain_Nucleus_accumbens_basal_ganglia.db\n",
      "Processing mashr_Brain_Anterior_cingulate_cortex_BA24.db\n",
      "Processing mashr_Vagina.db\n",
      "Processing mashr_Ovary.db\n",
      "Processing mashr_Skin_Sun_Exposed_Lower_leg.db\n",
      "Processing mashr_Esophagus_Muscularis.db\n",
      "Processing mashr_Brain_Spinal_cord_cervical_c-1.db\n",
      "Processing mashr_Artery_Coronary.db\n",
      "Processing mashr_Thyroid.db\n",
      "Processing mashr_Brain_Caudate_basal_ganglia.db\n",
      "Processing mashr_Adipose_Visceral_Omentum.db\n",
      "Processing mashr_Nerve_Tibial.db\n",
      "Processing mashr_Liver.db\n"
     ]
    }
   ],
   "source": [
    "all_variants_ids = []\n",
    "\n",
    "for m in mashr_models_db_files:\n",
    "    print(f\"Processing {m.name}\")\n",
    "    tissue = m.name.split(EQTL_MODEL_FILES_PREFIX)[1].split(\".db\")[0]\n",
    "\n",
    "    with sqlite3.connect(m) as conn:\n",
    "        df = pd.read_sql(\"select gene, varID from weights\", conn)\n",
    "        df[\"gene\"] = df[\"gene\"].apply(lambda x: x.split(\".\")[0])\n",
    "        df = df.assign(tissue=tissue)\n",
    "\n",
    "        all_variants_ids.append(df)"
   ]
  },
  {
   "cell_type": "code",
   "execution_count": 17,
   "id": "986feda1",
   "metadata": {
    "execution": {
     "iopub.execute_input": "2022-07-08T17:34:41.545093Z",
     "iopub.status.busy": "2022-07-08T17:34:41.544919Z",
     "iopub.status.idle": "2022-07-08T17:34:41.688023Z",
     "shell.execute_reply": "2022-07-08T17:34:41.687366Z"
    },
    "papermill": {
     "duration": 0.15482,
     "end_time": "2022-07-08T17:34:41.689703",
     "exception": false,
     "start_time": "2022-07-08T17:34:41.534883",
     "status": "completed"
    },
    "tags": []
   },
   "outputs": [],
   "source": [
    "all_gene_snps = pd.concat(all_variants_ids, ignore_index=True)"
   ]
  },
  {
   "cell_type": "code",
   "execution_count": 18,
   "id": "cdbb12ef",
   "metadata": {
    "execution": {
     "iopub.execute_input": "2022-07-08T17:34:41.713150Z",
     "iopub.status.busy": "2022-07-08T17:34:41.712908Z",
     "iopub.status.idle": "2022-07-08T17:34:41.727059Z",
     "shell.execute_reply": "2022-07-08T17:34:41.726408Z"
    },
    "papermill": {
     "duration": 0.027936,
     "end_time": "2022-07-08T17:34:41.728578",
     "exception": false,
     "start_time": "2022-07-08T17:34:41.700642",
     "status": "completed"
    },
    "tags": []
   },
   "outputs": [
    {
     "data": {
      "text/plain": [
       "(1132714, 3)"
      ]
     },
     "execution_count": 18,
     "metadata": {},
     "output_type": "execute_result"
    }
   ],
   "source": [
    "all_gene_snps.shape"
   ]
  },
  {
   "cell_type": "code",
   "execution_count": 19,
   "id": "c5300203",
   "metadata": {
    "execution": {
     "iopub.execute_input": "2022-07-08T17:34:41.748652Z",
     "iopub.status.busy": "2022-07-08T17:34:41.748490Z",
     "iopub.status.idle": "2022-07-08T17:34:41.765008Z",
     "shell.execute_reply": "2022-07-08T17:34:41.764472Z"
    },
    "papermill": {
     "duration": 0.027636,
     "end_time": "2022-07-08T17:34:41.766281",
     "exception": false,
     "start_time": "2022-07-08T17:34:41.738645",
     "status": "completed"
    },
    "tags": []
   },
   "outputs": [
    {
     "data": {
      "text/html": [
       "<div>\n",
       "<style scoped>\n",
       "    .dataframe tbody tr th:only-of-type {\n",
       "        vertical-align: middle;\n",
       "    }\n",
       "\n",
       "    .dataframe tbody tr th {\n",
       "        vertical-align: top;\n",
       "    }\n",
       "\n",
       "    .dataframe thead th {\n",
       "        text-align: right;\n",
       "    }\n",
       "</style>\n",
       "<table border=\"1\" class=\"dataframe\">\n",
       "  <thead>\n",
       "    <tr style=\"text-align: right;\">\n",
       "      <th></th>\n",
       "      <th>gene</th>\n",
       "      <th>varID</th>\n",
       "      <th>tissue</th>\n",
       "    </tr>\n",
       "  </thead>\n",
       "  <tbody>\n",
       "    <tr>\n",
       "      <th>0</th>\n",
       "      <td>ENSG00000169583</td>\n",
       "      <td>chr9_136996001_G_A_b38</td>\n",
       "      <td>Skin_Not_Sun_Exposed_Suprapubic</td>\n",
       "    </tr>\n",
       "    <tr>\n",
       "      <th>1</th>\n",
       "      <td>ENSG00000107331</td>\n",
       "      <td>chr9_137029055_C_CA_b38</td>\n",
       "      <td>Skin_Not_Sun_Exposed_Suprapubic</td>\n",
       "    </tr>\n",
       "    <tr>\n",
       "      <th>2</th>\n",
       "      <td>ENSG00000107331</td>\n",
       "      <td>chr9_137029407_T_G_b38</td>\n",
       "      <td>Skin_Not_Sun_Exposed_Suprapubic</td>\n",
       "    </tr>\n",
       "    <tr>\n",
       "      <th>3</th>\n",
       "      <td>ENSG00000180549</td>\n",
       "      <td>chr9_137031950_T_C_b38</td>\n",
       "      <td>Skin_Not_Sun_Exposed_Suprapubic</td>\n",
       "    </tr>\n",
       "    <tr>\n",
       "      <th>4</th>\n",
       "      <td>ENSG00000180549</td>\n",
       "      <td>chr9_137032610_A_G_b38</td>\n",
       "      <td>Skin_Not_Sun_Exposed_Suprapubic</td>\n",
       "    </tr>\n",
       "  </tbody>\n",
       "</table>\n",
       "</div>"
      ],
      "text/plain": [
       "              gene                    varID                           tissue\n",
       "0  ENSG00000169583   chr9_136996001_G_A_b38  Skin_Not_Sun_Exposed_Suprapubic\n",
       "1  ENSG00000107331  chr9_137029055_C_CA_b38  Skin_Not_Sun_Exposed_Suprapubic\n",
       "2  ENSG00000107331   chr9_137029407_T_G_b38  Skin_Not_Sun_Exposed_Suprapubic\n",
       "3  ENSG00000180549   chr9_137031950_T_C_b38  Skin_Not_Sun_Exposed_Suprapubic\n",
       "4  ENSG00000180549   chr9_137032610_A_G_b38  Skin_Not_Sun_Exposed_Suprapubic"
      ]
     },
     "execution_count": 19,
     "metadata": {},
     "output_type": "execute_result"
    }
   ],
   "source": [
    "all_gene_snps.head()"
   ]
  },
  {
   "cell_type": "code",
   "execution_count": 20,
   "id": "e5a2d4be",
   "metadata": {
    "execution": {
     "iopub.execute_input": "2022-07-08T17:34:41.785945Z",
     "iopub.status.busy": "2022-07-08T17:34:41.785774Z",
     "iopub.status.idle": "2022-07-08T17:34:42.120284Z",
     "shell.execute_reply": "2022-07-08T17:34:42.119662Z"
    },
    "papermill": {
     "duration": 0.346305,
     "end_time": "2022-07-08T17:34:42.121947",
     "exception": false,
     "start_time": "2022-07-08T17:34:41.775642",
     "status": "completed"
    },
    "tags": []
   },
   "outputs": [],
   "source": [
    "all_snps_in_models = set(all_gene_snps[\"varID\"].unique())"
   ]
  },
  {
   "cell_type": "markdown",
   "id": "e2cfb3d9",
   "metadata": {
    "papermill": {
     "duration": 0.010496,
     "end_time": "2022-07-08T17:34:42.143635",
     "exception": false,
     "start_time": "2022-07-08T17:34:42.133139",
     "status": "completed"
    },
    "tags": []
   },
   "source": [
    "## MultiPLIER Z"
   ]
  },
  {
   "cell_type": "code",
   "execution_count": 21,
   "id": "0e901bf8",
   "metadata": {
    "execution": {
     "iopub.execute_input": "2022-07-08T17:34:42.165120Z",
     "iopub.status.busy": "2022-07-08T17:34:42.164946Z",
     "iopub.status.idle": "2022-07-08T17:34:42.200603Z",
     "shell.execute_reply": "2022-07-08T17:34:42.199930Z"
    },
    "papermill": {
     "duration": 0.047938,
     "end_time": "2022-07-08T17:34:42.202196",
     "exception": false,
     "start_time": "2022-07-08T17:34:42.154258",
     "status": "completed"
    },
    "tags": []
   },
   "outputs": [],
   "source": [
    "multiplier_z = pd.read_pickle(conf.MULTIPLIER[\"MODEL_Z_MATRIX_FILE\"])"
   ]
  },
  {
   "cell_type": "code",
   "execution_count": 22,
   "id": "55da6f21",
   "metadata": {
    "execution": {
     "iopub.execute_input": "2022-07-08T17:34:42.222699Z",
     "iopub.status.busy": "2022-07-08T17:34:42.222533Z",
     "iopub.status.idle": "2022-07-08T17:34:42.235095Z",
     "shell.execute_reply": "2022-07-08T17:34:42.234582Z"
    },
    "papermill": {
     "duration": 0.024142,
     "end_time": "2022-07-08T17:34:42.236426",
     "exception": false,
     "start_time": "2022-07-08T17:34:42.212284",
     "status": "completed"
    },
    "tags": []
   },
   "outputs": [
    {
     "data": {
      "text/plain": [
       "(6750, 987)"
      ]
     },
     "execution_count": 22,
     "metadata": {},
     "output_type": "execute_result"
    }
   ],
   "source": [
    "multiplier_z.shape"
   ]
  },
  {
   "cell_type": "code",
   "execution_count": 23,
   "id": "5efd6fc7",
   "metadata": {
    "execution": {
     "iopub.execute_input": "2022-07-08T17:34:42.256299Z",
     "iopub.status.busy": "2022-07-08T17:34:42.256124Z",
     "iopub.status.idle": "2022-07-08T17:34:42.293268Z",
     "shell.execute_reply": "2022-07-08T17:34:42.292577Z"
    },
    "papermill": {
     "duration": 0.048676,
     "end_time": "2022-07-08T17:34:42.294728",
     "exception": false,
     "start_time": "2022-07-08T17:34:42.246052",
     "status": "completed"
    },
    "tags": []
   },
   "outputs": [
    {
     "data": {
      "text/html": [
       "<div>\n",
       "<style scoped>\n",
       "    .dataframe tbody tr th:only-of-type {\n",
       "        vertical-align: middle;\n",
       "    }\n",
       "\n",
       "    .dataframe tbody tr th {\n",
       "        vertical-align: top;\n",
       "    }\n",
       "\n",
       "    .dataframe thead th {\n",
       "        text-align: right;\n",
       "    }\n",
       "</style>\n",
       "<table border=\"1\" class=\"dataframe\">\n",
       "  <thead>\n",
       "    <tr style=\"text-align: right;\">\n",
       "      <th></th>\n",
       "      <th>LV1</th>\n",
       "      <th>LV2</th>\n",
       "      <th>LV3</th>\n",
       "      <th>LV4</th>\n",
       "      <th>LV5</th>\n",
       "      <th>LV6</th>\n",
       "      <th>LV7</th>\n",
       "      <th>LV8</th>\n",
       "      <th>LV9</th>\n",
       "      <th>LV10</th>\n",
       "      <th>...</th>\n",
       "      <th>LV978</th>\n",
       "      <th>LV979</th>\n",
       "      <th>LV980</th>\n",
       "      <th>LV981</th>\n",
       "      <th>LV982</th>\n",
       "      <th>LV983</th>\n",
       "      <th>LV984</th>\n",
       "      <th>LV985</th>\n",
       "      <th>LV986</th>\n",
       "      <th>LV987</th>\n",
       "    </tr>\n",
       "  </thead>\n",
       "  <tbody>\n",
       "    <tr>\n",
       "      <th>GAS6</th>\n",
       "      <td>0.000000</td>\n",
       "      <td>0.0</td>\n",
       "      <td>0.039438</td>\n",
       "      <td>0.0</td>\n",
       "      <td>0.050476</td>\n",
       "      <td>0.000000</td>\n",
       "      <td>0.0</td>\n",
       "      <td>0.000000</td>\n",
       "      <td>0.590949</td>\n",
       "      <td>0.000000</td>\n",
       "      <td>...</td>\n",
       "      <td>0.050125</td>\n",
       "      <td>0.00000</td>\n",
       "      <td>0.033407</td>\n",
       "      <td>0.000000</td>\n",
       "      <td>0.000000</td>\n",
       "      <td>0.005963</td>\n",
       "      <td>0.347362</td>\n",
       "      <td>0.0</td>\n",
       "      <td>0.000000</td>\n",
       "      <td>0.000000</td>\n",
       "    </tr>\n",
       "    <tr>\n",
       "      <th>MMP14</th>\n",
       "      <td>0.000000</td>\n",
       "      <td>0.0</td>\n",
       "      <td>0.000000</td>\n",
       "      <td>0.0</td>\n",
       "      <td>0.070072</td>\n",
       "      <td>0.000000</td>\n",
       "      <td>0.0</td>\n",
       "      <td>0.004904</td>\n",
       "      <td>1.720179</td>\n",
       "      <td>2.423595</td>\n",
       "      <td>...</td>\n",
       "      <td>0.000000</td>\n",
       "      <td>0.00000</td>\n",
       "      <td>0.001007</td>\n",
       "      <td>0.000000</td>\n",
       "      <td>0.035747</td>\n",
       "      <td>0.000000</td>\n",
       "      <td>0.000000</td>\n",
       "      <td>0.0</td>\n",
       "      <td>0.014978</td>\n",
       "      <td>0.000000</td>\n",
       "    </tr>\n",
       "    <tr>\n",
       "      <th>DSP</th>\n",
       "      <td>0.000000</td>\n",
       "      <td>0.0</td>\n",
       "      <td>0.000000</td>\n",
       "      <td>0.0</td>\n",
       "      <td>0.000000</td>\n",
       "      <td>0.041697</td>\n",
       "      <td>0.0</td>\n",
       "      <td>0.005718</td>\n",
       "      <td>0.000000</td>\n",
       "      <td>0.000000</td>\n",
       "      <td>...</td>\n",
       "      <td>0.020853</td>\n",
       "      <td>0.00000</td>\n",
       "      <td>0.000000</td>\n",
       "      <td>0.000000</td>\n",
       "      <td>0.000000</td>\n",
       "      <td>0.005774</td>\n",
       "      <td>0.000000</td>\n",
       "      <td>0.0</td>\n",
       "      <td>0.000000</td>\n",
       "      <td>0.416405</td>\n",
       "    </tr>\n",
       "    <tr>\n",
       "      <th>MARCKSL1</th>\n",
       "      <td>0.305212</td>\n",
       "      <td>0.0</td>\n",
       "      <td>0.000000</td>\n",
       "      <td>0.0</td>\n",
       "      <td>0.000000</td>\n",
       "      <td>0.000000</td>\n",
       "      <td>0.0</td>\n",
       "      <td>0.000000</td>\n",
       "      <td>0.161843</td>\n",
       "      <td>0.149471</td>\n",
       "      <td>...</td>\n",
       "      <td>0.027134</td>\n",
       "      <td>0.05272</td>\n",
       "      <td>0.000000</td>\n",
       "      <td>0.030189</td>\n",
       "      <td>0.060884</td>\n",
       "      <td>0.000000</td>\n",
       "      <td>0.000000</td>\n",
       "      <td>0.0</td>\n",
       "      <td>0.000000</td>\n",
       "      <td>0.448480</td>\n",
       "    </tr>\n",
       "    <tr>\n",
       "      <th>SPARC</th>\n",
       "      <td>0.000000</td>\n",
       "      <td>0.0</td>\n",
       "      <td>0.000000</td>\n",
       "      <td>0.0</td>\n",
       "      <td>0.000000</td>\n",
       "      <td>0.000000</td>\n",
       "      <td>0.0</td>\n",
       "      <td>0.000000</td>\n",
       "      <td>0.000000</td>\n",
       "      <td>0.014014</td>\n",
       "      <td>...</td>\n",
       "      <td>0.000000</td>\n",
       "      <td>0.00000</td>\n",
       "      <td>0.000000</td>\n",
       "      <td>0.000000</td>\n",
       "      <td>0.000000</td>\n",
       "      <td>0.000000</td>\n",
       "      <td>0.067779</td>\n",
       "      <td>0.0</td>\n",
       "      <td>0.122417</td>\n",
       "      <td>0.062665</td>\n",
       "    </tr>\n",
       "  </tbody>\n",
       "</table>\n",
       "<p>5 rows × 987 columns</p>\n",
       "</div>"
      ],
      "text/plain": [
       "               LV1  LV2       LV3  LV4       LV5       LV6  LV7       LV8  \\\n",
       "GAS6      0.000000  0.0  0.039438  0.0  0.050476  0.000000  0.0  0.000000   \n",
       "MMP14     0.000000  0.0  0.000000  0.0  0.070072  0.000000  0.0  0.004904   \n",
       "DSP       0.000000  0.0  0.000000  0.0  0.000000  0.041697  0.0  0.005718   \n",
       "MARCKSL1  0.305212  0.0  0.000000  0.0  0.000000  0.000000  0.0  0.000000   \n",
       "SPARC     0.000000  0.0  0.000000  0.0  0.000000  0.000000  0.0  0.000000   \n",
       "\n",
       "               LV9      LV10  ...     LV978    LV979     LV980     LV981  \\\n",
       "GAS6      0.590949  0.000000  ...  0.050125  0.00000  0.033407  0.000000   \n",
       "MMP14     1.720179  2.423595  ...  0.000000  0.00000  0.001007  0.000000   \n",
       "DSP       0.000000  0.000000  ...  0.020853  0.00000  0.000000  0.000000   \n",
       "MARCKSL1  0.161843  0.149471  ...  0.027134  0.05272  0.000000  0.030189   \n",
       "SPARC     0.000000  0.014014  ...  0.000000  0.00000  0.000000  0.000000   \n",
       "\n",
       "             LV982     LV983     LV984  LV985     LV986     LV987  \n",
       "GAS6      0.000000  0.005963  0.347362    0.0  0.000000  0.000000  \n",
       "MMP14     0.035747  0.000000  0.000000    0.0  0.014978  0.000000  \n",
       "DSP       0.000000  0.005774  0.000000    0.0  0.000000  0.416405  \n",
       "MARCKSL1  0.060884  0.000000  0.000000    0.0  0.000000  0.448480  \n",
       "SPARC     0.000000  0.000000  0.067779    0.0  0.122417  0.062665  \n",
       "\n",
       "[5 rows x 987 columns]"
      ]
     },
     "execution_count": 23,
     "metadata": {},
     "output_type": "execute_result"
    }
   ],
   "source": [
    "multiplier_z.head()"
   ]
  },
  {
   "cell_type": "markdown",
   "id": "c2109617",
   "metadata": {
    "papermill": {
     "duration": 0.010984,
     "end_time": "2022-07-08T17:34:42.317036",
     "exception": false,
     "start_time": "2022-07-08T17:34:42.306052",
     "status": "completed"
    },
    "tags": []
   },
   "source": [
    "## Reference panel variants metadata"
   ]
  },
  {
   "cell_type": "code",
   "execution_count": 24,
   "id": "f69e80b2",
   "metadata": {
    "execution": {
     "iopub.execute_input": "2022-07-08T17:34:42.337735Z",
     "iopub.status.busy": "2022-07-08T17:34:42.337544Z",
     "iopub.status.idle": "2022-07-08T17:34:42.349961Z",
     "shell.execute_reply": "2022-07-08T17:34:42.349313Z"
    },
    "papermill": {
     "duration": 0.023388,
     "end_time": "2022-07-08T17:34:42.351177",
     "exception": false,
     "start_time": "2022-07-08T17:34:42.327789",
     "status": "completed"
    },
    "tags": []
   },
   "outputs": [
    {
     "data": {
      "text/plain": [
       "PosixPath('/opt/data/data/phenomexcan/ld_blocks/reference_panel_1000G/variant_metadata.parquet')"
      ]
     },
     "metadata": {},
     "output_type": "display_data"
    }
   ],
   "source": [
    "input_file = get_reference_panel_file(REFERENCE_PANEL_DIR, \"_metadata\")\n",
    "display(input_file)"
   ]
  },
  {
   "cell_type": "code",
   "execution_count": 25,
   "id": "41e34ee0",
   "metadata": {
    "execution": {
     "iopub.execute_input": "2022-07-08T17:34:42.370553Z",
     "iopub.status.busy": "2022-07-08T17:34:42.370393Z",
     "iopub.status.idle": "2022-07-08T17:34:48.358639Z",
     "shell.execute_reply": "2022-07-08T17:34:48.358083Z"
    },
    "papermill": {
     "duration": 5.999517,
     "end_time": "2022-07-08T17:34:48.360085",
     "exception": false,
     "start_time": "2022-07-08T17:34:42.360568",
     "status": "completed"
    },
    "tags": []
   },
   "outputs": [],
   "source": [
    "variants_metadata = pd.read_parquet(input_file, columns=[\"id\"])"
   ]
  },
  {
   "cell_type": "code",
   "execution_count": 26,
   "id": "81410760",
   "metadata": {
    "execution": {
     "iopub.execute_input": "2022-07-08T17:34:48.380188Z",
     "iopub.status.busy": "2022-07-08T17:34:48.379999Z",
     "iopub.status.idle": "2022-07-08T17:34:48.394052Z",
     "shell.execute_reply": "2022-07-08T17:34:48.393550Z"
    },
    "papermill": {
     "duration": 0.025434,
     "end_time": "2022-07-08T17:34:48.395298",
     "exception": false,
     "start_time": "2022-07-08T17:34:48.369864",
     "status": "completed"
    },
    "tags": []
   },
   "outputs": [
    {
     "data": {
      "text/plain": [
       "(27731498, 1)"
      ]
     },
     "execution_count": 26,
     "metadata": {},
     "output_type": "execute_result"
    }
   ],
   "source": [
    "variants_metadata.shape"
   ]
  },
  {
   "cell_type": "code",
   "execution_count": 27,
   "id": "1d008de7",
   "metadata": {
    "execution": {
     "iopub.execute_input": "2022-07-08T17:34:48.415122Z",
     "iopub.status.busy": "2022-07-08T17:34:48.414905Z",
     "iopub.status.idle": "2022-07-08T17:34:48.431152Z",
     "shell.execute_reply": "2022-07-08T17:34:48.430631Z"
    },
    "papermill": {
     "duration": 0.027564,
     "end_time": "2022-07-08T17:34:48.432413",
     "exception": false,
     "start_time": "2022-07-08T17:34:48.404849",
     "status": "completed"
    },
    "tags": []
   },
   "outputs": [
    {
     "data": {
      "text/html": [
       "<div>\n",
       "<style scoped>\n",
       "    .dataframe tbody tr th:only-of-type {\n",
       "        vertical-align: middle;\n",
       "    }\n",
       "\n",
       "    .dataframe tbody tr th {\n",
       "        vertical-align: top;\n",
       "    }\n",
       "\n",
       "    .dataframe thead th {\n",
       "        text-align: right;\n",
       "    }\n",
       "</style>\n",
       "<table border=\"1\" class=\"dataframe\">\n",
       "  <thead>\n",
       "    <tr style=\"text-align: right;\">\n",
       "      <th></th>\n",
       "      <th>id</th>\n",
       "    </tr>\n",
       "  </thead>\n",
       "  <tbody>\n",
       "    <tr>\n",
       "      <th>0</th>\n",
       "      <td>chr1_17496_AC_A_b38</td>\n",
       "    </tr>\n",
       "    <tr>\n",
       "      <th>1</th>\n",
       "      <td>chr1_54490_G_A_b38</td>\n",
       "    </tr>\n",
       "    <tr>\n",
       "      <th>2</th>\n",
       "      <td>chr1_55330_G_A_b38</td>\n",
       "    </tr>\n",
       "    <tr>\n",
       "      <th>3</th>\n",
       "      <td>chr1_55416_G_A_b38</td>\n",
       "    </tr>\n",
       "    <tr>\n",
       "      <th>4</th>\n",
       "      <td>chr1_62157_G_A_b38</td>\n",
       "    </tr>\n",
       "  </tbody>\n",
       "</table>\n",
       "</div>"
      ],
      "text/plain": [
       "                    id\n",
       "0  chr1_17496_AC_A_b38\n",
       "1   chr1_54490_G_A_b38\n",
       "2   chr1_55330_G_A_b38\n",
       "3   chr1_55416_G_A_b38\n",
       "4   chr1_62157_G_A_b38"
      ]
     },
     "execution_count": 27,
     "metadata": {},
     "output_type": "execute_result"
    }
   ],
   "source": [
    "variants_metadata.head()"
   ]
  },
  {
   "cell_type": "code",
   "execution_count": 28,
   "id": "45bd2164",
   "metadata": {
    "execution": {
     "iopub.execute_input": "2022-07-08T17:34:48.452254Z",
     "iopub.status.busy": "2022-07-08T17:34:48.452054Z",
     "iopub.status.idle": "2022-07-08T17:34:56.599476Z",
     "shell.execute_reply": "2022-07-08T17:34:56.598925Z"
    },
    "papermill": {
     "duration": 8.159033,
     "end_time": "2022-07-08T17:34:56.601029",
     "exception": false,
     "start_time": "2022-07-08T17:34:48.441996",
     "status": "completed"
    },
    "tags": []
   },
   "outputs": [],
   "source": [
    "variants_ids_with_genotype = set(variants_metadata[\"id\"])"
   ]
  },
  {
   "cell_type": "code",
   "execution_count": 29,
   "id": "8f2937d7",
   "metadata": {
    "execution": {
     "iopub.execute_input": "2022-07-08T17:34:56.625675Z",
     "iopub.status.busy": "2022-07-08T17:34:56.625485Z",
     "iopub.status.idle": "2022-07-08T17:34:56.642489Z",
     "shell.execute_reply": "2022-07-08T17:34:56.641894Z"
    },
    "papermill": {
     "duration": 0.030987,
     "end_time": "2022-07-08T17:34:56.643954",
     "exception": false,
     "start_time": "2022-07-08T17:34:56.612967",
     "status": "completed"
    },
    "tags": []
   },
   "outputs": [
    {
     "data": {
      "text/plain": [
       "27731498"
      ]
     },
     "execution_count": 29,
     "metadata": {},
     "output_type": "execute_result"
    }
   ],
   "source": [
    "len(variants_ids_with_genotype)"
   ]
  },
  {
   "cell_type": "code",
   "execution_count": 30,
   "id": "6b160cc3",
   "metadata": {
    "execution": {
     "iopub.execute_input": "2022-07-08T17:34:56.668024Z",
     "iopub.status.busy": "2022-07-08T17:34:56.667848Z",
     "iopub.status.idle": "2022-07-08T17:34:59.142249Z",
     "shell.execute_reply": "2022-07-08T17:34:59.141545Z"
    },
    "papermill": {
     "duration": 2.488052,
     "end_time": "2022-07-08T17:34:59.143817",
     "exception": false,
     "start_time": "2022-07-08T17:34:56.655765",
     "status": "completed"
    },
    "tags": []
   },
   "outputs": [
    {
     "data": {
      "text/plain": [
       "['chr1_145702119_C_G_b38',\n",
       " 'chr14_29772877_C_T_b38',\n",
       " 'chr8_127242885_G_A_b38',\n",
       " 'chr16_81110522_A_G_b38',\n",
       " 'chr4_79640650_C_T_b38',\n",
       " 'chr20_5684597_G_A_b38',\n",
       " 'chr7_63282599_C_G_b38',\n",
       " 'chr1_195879972_G_T_b38',\n",
       " 'chr8_107495624_G_A_b38',\n",
       " 'chr4_101497505_C_T_b38']"
      ]
     },
     "execution_count": 30,
     "metadata": {},
     "output_type": "execute_result"
    }
   ],
   "source": [
    "list(variants_ids_with_genotype)[:10]"
   ]
  },
  {
   "cell_type": "code",
   "execution_count": 31,
   "id": "0a38a43c",
   "metadata": {
    "execution": {
     "iopub.execute_input": "2022-07-08T17:34:59.171060Z",
     "iopub.status.busy": "2022-07-08T17:34:59.170859Z",
     "iopub.status.idle": "2022-07-08T17:34:59.187208Z",
     "shell.execute_reply": "2022-07-08T17:34:59.186617Z"
    },
    "papermill": {
     "duration": 0.031,
     "end_time": "2022-07-08T17:34:59.188846",
     "exception": false,
     "start_time": "2022-07-08T17:34:59.157846",
     "status": "completed"
    },
    "tags": []
   },
   "outputs": [],
   "source": [
    "del variants_metadata"
   ]
  },
  {
   "cell_type": "markdown",
   "id": "4b7ca4c8",
   "metadata": {
    "papermill": {
     "duration": 0.012126,
     "end_time": "2022-07-08T17:34:59.213538",
     "exception": false,
     "start_time": "2022-07-08T17:34:59.201412",
     "status": "completed"
    },
    "tags": []
   },
   "source": [
    "# How many variants in predictions models are present in the reference panel?"
   ]
  },
  {
   "cell_type": "code",
   "execution_count": 32,
   "id": "4e323c11",
   "metadata": {
    "execution": {
     "iopub.execute_input": "2022-07-08T17:34:59.237397Z",
     "iopub.status.busy": "2022-07-08T17:34:59.237219Z",
     "iopub.status.idle": "2022-07-08T17:34:59.252847Z",
     "shell.execute_reply": "2022-07-08T17:34:59.252170Z"
    },
    "papermill": {
     "duration": 0.02899,
     "end_time": "2022-07-08T17:34:59.254167",
     "exception": false,
     "start_time": "2022-07-08T17:34:59.225177",
     "status": "completed"
    },
    "tags": []
   },
   "outputs": [
    {
     "data": {
      "text/plain": [
       "237405"
      ]
     },
     "metadata": {},
     "output_type": "display_data"
    }
   ],
   "source": [
    "n_snps_in_models = len(all_snps_in_models)\n",
    "display(n_snps_in_models)"
   ]
  },
  {
   "cell_type": "code",
   "execution_count": 33,
   "id": "a9ecb68e",
   "metadata": {
    "execution": {
     "iopub.execute_input": "2022-07-08T17:34:59.277635Z",
     "iopub.status.busy": "2022-07-08T17:34:59.277416Z",
     "iopub.status.idle": "2022-07-08T17:34:59.348808Z",
     "shell.execute_reply": "2022-07-08T17:34:59.348158Z"
    },
    "papermill": {
     "duration": 0.084704,
     "end_time": "2022-07-08T17:34:59.350329",
     "exception": false,
     "start_time": "2022-07-08T17:34:59.265625",
     "status": "completed"
    },
    "tags": []
   },
   "outputs": [
    {
     "data": {
      "text/plain": [
       "222720"
      ]
     },
     "metadata": {},
     "output_type": "display_data"
    }
   ],
   "source": [
    "n_snps_in_ref_panel = len(all_snps_in_models.intersection(variants_ids_with_genotype))\n",
    "display(n_snps_in_ref_panel)"
   ]
  },
  {
   "cell_type": "code",
   "execution_count": 34,
   "id": "5f2f5991",
   "metadata": {
    "execution": {
     "iopub.execute_input": "2022-07-08T17:34:59.377081Z",
     "iopub.status.busy": "2022-07-08T17:34:59.376699Z",
     "iopub.status.idle": "2022-07-08T17:34:59.393630Z",
     "shell.execute_reply": "2022-07-08T17:34:59.393054Z"
    },
    "papermill": {
     "duration": 0.031905,
     "end_time": "2022-07-08T17:34:59.395223",
     "exception": false,
     "start_time": "2022-07-08T17:34:59.363318",
     "status": "completed"
    },
    "tags": []
   },
   "outputs": [
    {
     "data": {
      "text/plain": [
       "0.9381436785240412"
      ]
     },
     "execution_count": 34,
     "metadata": {},
     "output_type": "execute_result"
    }
   ],
   "source": [
    "n_snps_in_ref_panel / n_snps_in_models"
   ]
  },
  {
   "cell_type": "markdown",
   "id": "a9a0d07c",
   "metadata": {
    "papermill": {
     "duration": 0.012025,
     "end_time": "2022-07-08T17:34:59.420092",
     "exception": false,
     "start_time": "2022-07-08T17:34:59.408067",
     "status": "completed"
    },
    "tags": []
   },
   "source": [
    "# Get final list of genes in MultiPLIER"
   ]
  },
  {
   "cell_type": "code",
   "execution_count": 35,
   "id": "e9801fec",
   "metadata": {
    "execution": {
     "iopub.execute_input": "2022-07-08T17:34:59.444079Z",
     "iopub.status.busy": "2022-07-08T17:34:59.443904Z",
     "iopub.status.idle": "2022-07-08T17:34:59.465271Z",
     "shell.execute_reply": "2022-07-08T17:34:59.464788Z"
    },
    "papermill": {
     "duration": 0.035046,
     "end_time": "2022-07-08T17:34:59.466743",
     "exception": false,
     "start_time": "2022-07-08T17:34:59.431697",
     "status": "completed"
    },
    "tags": []
   },
   "outputs": [],
   "source": [
    "genes_in_z = [\n",
    "    Gene(name=gene_name).ensembl_id\n",
    "    for gene_name in multiplier_z.index\n",
    "    if gene_name in Gene.GENE_NAME_TO_ID_MAP\n",
    "]"
   ]
  },
  {
   "cell_type": "code",
   "execution_count": 36,
   "id": "4cde8776",
   "metadata": {
    "execution": {
     "iopub.execute_input": "2022-07-08T17:34:59.490959Z",
     "iopub.status.busy": "2022-07-08T17:34:59.490772Z",
     "iopub.status.idle": "2022-07-08T17:34:59.507496Z",
     "shell.execute_reply": "2022-07-08T17:34:59.506973Z"
    },
    "papermill": {
     "duration": 0.030369,
     "end_time": "2022-07-08T17:34:59.508846",
     "exception": false,
     "start_time": "2022-07-08T17:34:59.478477",
     "status": "completed"
    },
    "tags": []
   },
   "outputs": [
    {
     "data": {
      "text/plain": [
       "6454"
      ]
     },
     "execution_count": 36,
     "metadata": {},
     "output_type": "execute_result"
    }
   ],
   "source": [
    "len(genes_in_z)"
   ]
  },
  {
   "cell_type": "code",
   "execution_count": 37,
   "id": "577cf614",
   "metadata": {
    "execution": {
     "iopub.execute_input": "2022-07-08T17:34:59.532738Z",
     "iopub.status.busy": "2022-07-08T17:34:59.532201Z",
     "iopub.status.idle": "2022-07-08T17:34:59.546976Z",
     "shell.execute_reply": "2022-07-08T17:34:59.546513Z"
    },
    "papermill": {
     "duration": 0.027931,
     "end_time": "2022-07-08T17:34:59.548283",
     "exception": false,
     "start_time": "2022-07-08T17:34:59.520352",
     "status": "completed"
    },
    "tags": []
   },
   "outputs": [
    {
     "data": {
      "text/plain": [
       "['ENSG00000183087',\n",
       " 'ENSG00000157227',\n",
       " 'ENSG00000096696',\n",
       " 'ENSG00000175130',\n",
       " 'ENSG00000113140']"
      ]
     },
     "execution_count": 37,
     "metadata": {},
     "output_type": "execute_result"
    }
   ],
   "source": [
    "genes_in_z[:5]"
   ]
  },
  {
   "cell_type": "code",
   "execution_count": 38,
   "id": "3136fc66",
   "metadata": {
    "execution": {
     "iopub.execute_input": "2022-07-08T17:34:59.571646Z",
     "iopub.status.busy": "2022-07-08T17:34:59.571462Z",
     "iopub.status.idle": "2022-07-08T17:34:59.586751Z",
     "shell.execute_reply": "2022-07-08T17:34:59.586177Z"
    },
    "papermill": {
     "duration": 0.028599,
     "end_time": "2022-07-08T17:34:59.588154",
     "exception": false,
     "start_time": "2022-07-08T17:34:59.559555",
     "status": "completed"
    },
    "tags": []
   },
   "outputs": [],
   "source": [
    "genes_in_z = set(genes_in_z)"
   ]
  },
  {
   "cell_type": "code",
   "execution_count": 39,
   "id": "0f1cace8",
   "metadata": {
    "execution": {
     "iopub.execute_input": "2022-07-08T17:34:59.610873Z",
     "iopub.status.busy": "2022-07-08T17:34:59.610685Z",
     "iopub.status.idle": "2022-07-08T17:34:59.624910Z",
     "shell.execute_reply": "2022-07-08T17:34:59.624433Z"
    },
    "papermill": {
     "duration": 0.026605,
     "end_time": "2022-07-08T17:34:59.626218",
     "exception": false,
     "start_time": "2022-07-08T17:34:59.599613",
     "status": "completed"
    },
    "tags": []
   },
   "outputs": [
    {
     "data": {
      "text/plain": [
       "6454"
      ]
     },
     "execution_count": 39,
     "metadata": {},
     "output_type": "execute_result"
    }
   ],
   "source": [
    "len(genes_in_z)"
   ]
  },
  {
   "cell_type": "code",
   "execution_count": 40,
   "id": "b9dc4d3e",
   "metadata": {
    "execution": {
     "iopub.execute_input": "2022-07-08T17:34:59.648131Z",
     "iopub.status.busy": "2022-07-08T17:34:59.647949Z",
     "iopub.status.idle": "2022-07-08T17:34:59.758070Z",
     "shell.execute_reply": "2022-07-08T17:34:59.757458Z"
    },
    "papermill": {
     "duration": 0.122397,
     "end_time": "2022-07-08T17:34:59.759441",
     "exception": false,
     "start_time": "2022-07-08T17:34:59.637044",
     "status": "completed"
    },
    "tags": []
   },
   "outputs": [
    {
     "data": {
      "text/plain": [
       "(1132714, 3)"
      ]
     },
     "metadata": {},
     "output_type": "display_data"
    },
    {
     "data": {
      "text/plain": [
       "(396890, 3)"
      ]
     },
     "metadata": {},
     "output_type": "display_data"
    }
   ],
   "source": [
    "# keep genes in MultiPLIER only\n",
    "display(all_gene_snps.shape)\n",
    "\n",
    "all_gene_snps = all_gene_snps[all_gene_snps[\"gene\"].isin(genes_in_z)]\n",
    "\n",
    "display(all_gene_snps.shape)"
   ]
  },
  {
   "cell_type": "markdown",
   "id": "69e77b6e",
   "metadata": {
    "papermill": {
     "duration": 0.012555,
     "end_time": "2022-07-08T17:34:59.784851",
     "exception": false,
     "start_time": "2022-07-08T17:34:59.772296",
     "status": "completed"
    },
    "tags": []
   },
   "source": [
    "# (For MultiPLIER genes): How many variants in predictions models are present in the reference panel?"
   ]
  },
  {
   "cell_type": "code",
   "execution_count": 41,
   "id": "c8a3405c",
   "metadata": {
    "execution": {
     "iopub.execute_input": "2022-07-08T17:34:59.808283Z",
     "iopub.status.busy": "2022-07-08T17:34:59.808124Z",
     "iopub.status.idle": "2022-07-08T17:34:59.923612Z",
     "shell.execute_reply": "2022-07-08T17:34:59.923016Z"
    },
    "papermill": {
     "duration": 0.128185,
     "end_time": "2022-07-08T17:34:59.925151",
     "exception": false,
     "start_time": "2022-07-08T17:34:59.796966",
     "status": "completed"
    },
    "tags": []
   },
   "outputs": [
    {
     "data": {
      "text/plain": [
       "84708"
      ]
     },
     "metadata": {},
     "output_type": "display_data"
    }
   ],
   "source": [
    "all_snps_in_models_multiplier = set(all_gene_snps[\"varID\"])\n",
    "\n",
    "n_snps_in_models = len(all_snps_in_models_multiplier)\n",
    "display(n_snps_in_models)"
   ]
  },
  {
   "cell_type": "code",
   "execution_count": 42,
   "id": "a118deab",
   "metadata": {
    "execution": {
     "iopub.execute_input": "2022-07-08T17:34:59.952527Z",
     "iopub.status.busy": "2022-07-08T17:34:59.952107Z",
     "iopub.status.idle": "2022-07-08T17:34:59.988972Z",
     "shell.execute_reply": "2022-07-08T17:34:59.988287Z"
    },
    "papermill": {
     "duration": 0.052126,
     "end_time": "2022-07-08T17:34:59.990544",
     "exception": false,
     "start_time": "2022-07-08T17:34:59.938418",
     "status": "completed"
    },
    "tags": []
   },
   "outputs": [
    {
     "data": {
      "text/plain": [
       "80339"
      ]
     },
     "metadata": {},
     "output_type": "display_data"
    }
   ],
   "source": [
    "n_snps_in_ref_panel = len(\n",
    "    all_snps_in_models_multiplier.intersection(variants_ids_with_genotype)\n",
    ")\n",
    "display(n_snps_in_ref_panel)"
   ]
  },
  {
   "cell_type": "code",
   "execution_count": 43,
   "id": "cb5b96f3",
   "metadata": {
    "execution": {
     "iopub.execute_input": "2022-07-08T17:35:00.019066Z",
     "iopub.status.busy": "2022-07-08T17:35:00.018864Z",
     "iopub.status.idle": "2022-07-08T17:35:00.036895Z",
     "shell.execute_reply": "2022-07-08T17:35:00.036295Z"
    },
    "papermill": {
     "duration": 0.034376,
     "end_time": "2022-07-08T17:35:00.038401",
     "exception": false,
     "start_time": "2022-07-08T17:35:00.004025",
     "status": "completed"
    },
    "tags": []
   },
   "outputs": [
    {
     "data": {
      "text/plain": [
       "0.9484228172073476"
      ]
     },
     "execution_count": 43,
     "metadata": {},
     "output_type": "execute_result"
    }
   ],
   "source": [
    "n_snps_in_ref_panel / n_snps_in_models"
   ]
  },
  {
   "cell_type": "markdown",
   "id": "dbabf1c1",
   "metadata": {
    "papermill": {
     "duration": 0.01184,
     "end_time": "2022-07-08T17:35:00.063281",
     "exception": false,
     "start_time": "2022-07-08T17:35:00.051441",
     "status": "completed"
    },
    "tags": []
   },
   "source": [
    "## Preprocess SNPs data"
   ]
  },
  {
   "cell_type": "code",
   "execution_count": 44,
   "id": "19838f0a",
   "metadata": {
    "execution": {
     "iopub.execute_input": "2022-07-08T17:35:00.086026Z",
     "iopub.status.busy": "2022-07-08T17:35:00.085836Z",
     "iopub.status.idle": "2022-07-08T17:35:00.225839Z",
     "shell.execute_reply": "2022-07-08T17:35:00.225130Z"
    },
    "papermill": {
     "duration": 0.153221,
     "end_time": "2022-07-08T17:35:00.227565",
     "exception": false,
     "start_time": "2022-07-08T17:35:00.074344",
     "status": "completed"
    },
    "tags": []
   },
   "outputs": [],
   "source": [
    "variants_ld_block_df = all_gene_snps[[\"varID\"]].drop_duplicates()"
   ]
  },
  {
   "cell_type": "code",
   "execution_count": 45,
   "id": "d015b20d",
   "metadata": {
    "execution": {
     "iopub.execute_input": "2022-07-08T17:35:00.256753Z",
     "iopub.status.busy": "2022-07-08T17:35:00.256560Z",
     "iopub.status.idle": "2022-07-08T17:35:00.273364Z",
     "shell.execute_reply": "2022-07-08T17:35:00.272750Z"
    },
    "papermill": {
     "duration": 0.032912,
     "end_time": "2022-07-08T17:35:00.274823",
     "exception": false,
     "start_time": "2022-07-08T17:35:00.241911",
     "status": "completed"
    },
    "tags": []
   },
   "outputs": [
    {
     "data": {
      "text/plain": [
       "(84708, 1)"
      ]
     },
     "execution_count": 45,
     "metadata": {},
     "output_type": "execute_result"
    }
   ],
   "source": [
    "variants_ld_block_df.shape"
   ]
  },
  {
   "cell_type": "code",
   "execution_count": 46,
   "id": "ed4a5faa",
   "metadata": {
    "execution": {
     "iopub.execute_input": "2022-07-08T17:35:00.301292Z",
     "iopub.status.busy": "2022-07-08T17:35:00.301124Z",
     "iopub.status.idle": "2022-07-08T17:35:00.317928Z",
     "shell.execute_reply": "2022-07-08T17:35:00.317415Z"
    },
    "papermill": {
     "duration": 0.030933,
     "end_time": "2022-07-08T17:35:00.319190",
     "exception": false,
     "start_time": "2022-07-08T17:35:00.288257",
     "status": "completed"
    },
    "tags": []
   },
   "outputs": [
    {
     "data": {
      "text/html": [
       "<div>\n",
       "<style scoped>\n",
       "    .dataframe tbody tr th:only-of-type {\n",
       "        vertical-align: middle;\n",
       "    }\n",
       "\n",
       "    .dataframe tbody tr th {\n",
       "        vertical-align: top;\n",
       "    }\n",
       "\n",
       "    .dataframe thead th {\n",
       "        text-align: right;\n",
       "    }\n",
       "</style>\n",
       "<table border=\"1\" class=\"dataframe\">\n",
       "  <thead>\n",
       "    <tr style=\"text-align: right;\">\n",
       "      <th></th>\n",
       "      <th>varID</th>\n",
       "    </tr>\n",
       "  </thead>\n",
       "  <tbody>\n",
       "    <tr>\n",
       "      <th>0</th>\n",
       "      <td>chr9_136996001_G_A_b38</td>\n",
       "    </tr>\n",
       "    <tr>\n",
       "      <th>1</th>\n",
       "      <td>chr9_137029055_C_CA_b38</td>\n",
       "    </tr>\n",
       "    <tr>\n",
       "      <th>2</th>\n",
       "      <td>chr9_137029407_T_G_b38</td>\n",
       "    </tr>\n",
       "    <tr>\n",
       "      <th>10</th>\n",
       "      <td>chr9_137084985_C_T_b38</td>\n",
       "    </tr>\n",
       "    <tr>\n",
       "      <th>11</th>\n",
       "      <td>chr9_137102549_TACAC_T_b38</td>\n",
       "    </tr>\n",
       "  </tbody>\n",
       "</table>\n",
       "</div>"
      ],
      "text/plain": [
       "                         varID\n",
       "0       chr9_136996001_G_A_b38\n",
       "1      chr9_137029055_C_CA_b38\n",
       "2       chr9_137029407_T_G_b38\n",
       "10      chr9_137084985_C_T_b38\n",
       "11  chr9_137102549_TACAC_T_b38"
      ]
     },
     "execution_count": 46,
     "metadata": {},
     "output_type": "execute_result"
    }
   ],
   "source": [
    "variants_ld_block_df.head()"
   ]
  },
  {
   "cell_type": "code",
   "execution_count": 47,
   "id": "3557d870",
   "metadata": {
    "execution": {
     "iopub.execute_input": "2022-07-08T17:35:00.342937Z",
     "iopub.status.busy": "2022-07-08T17:35:00.342780Z",
     "iopub.status.idle": "2022-07-08T17:35:07.278630Z",
     "shell.execute_reply": "2022-07-08T17:35:07.278006Z"
    },
    "papermill": {
     "duration": 6.949279,
     "end_time": "2022-07-08T17:35:07.280349",
     "exception": false,
     "start_time": "2022-07-08T17:35:00.331070",
     "status": "completed"
    },
    "tags": []
   },
   "outputs": [],
   "source": [
    "variants_info = variants_ld_block_df[\"varID\"].str.split(\"_\", expand=True)"
   ]
  },
  {
   "cell_type": "code",
   "execution_count": 48,
   "id": "bd49aa4c",
   "metadata": {
    "execution": {
     "iopub.execute_input": "2022-07-08T17:35:07.309545Z",
     "iopub.status.busy": "2022-07-08T17:35:07.309332Z",
     "iopub.status.idle": "2022-07-08T17:35:07.326229Z",
     "shell.execute_reply": "2022-07-08T17:35:07.325640Z"
    },
    "papermill": {
     "duration": 0.032619,
     "end_time": "2022-07-08T17:35:07.327728",
     "exception": false,
     "start_time": "2022-07-08T17:35:07.295109",
     "status": "completed"
    },
    "tags": []
   },
   "outputs": [
    {
     "data": {
      "text/plain": [
       "(84708, 5)"
      ]
     },
     "execution_count": 48,
     "metadata": {},
     "output_type": "execute_result"
    }
   ],
   "source": [
    "variants_info.shape"
   ]
  },
  {
   "cell_type": "code",
   "execution_count": 49,
   "id": "7e2b7606",
   "metadata": {
    "execution": {
     "iopub.execute_input": "2022-07-08T17:35:07.354969Z",
     "iopub.status.busy": "2022-07-08T17:35:07.354776Z",
     "iopub.status.idle": "2022-07-08T17:35:07.370176Z",
     "shell.execute_reply": "2022-07-08T17:35:07.369567Z"
    },
    "papermill": {
     "duration": 0.030783,
     "end_time": "2022-07-08T17:35:07.371732",
     "exception": false,
     "start_time": "2022-07-08T17:35:07.340949",
     "status": "completed"
    },
    "tags": []
   },
   "outputs": [],
   "source": [
    "assert variants_ld_block_df.shape[0] == variants_info.shape[0]"
   ]
  },
  {
   "cell_type": "code",
   "execution_count": 50,
   "id": "048abd7f",
   "metadata": {
    "execution": {
     "iopub.execute_input": "2022-07-08T17:35:07.397670Z",
     "iopub.status.busy": "2022-07-08T17:35:07.397470Z",
     "iopub.status.idle": "2022-07-08T17:35:07.448314Z",
     "shell.execute_reply": "2022-07-08T17:35:07.447618Z"
    },
    "papermill": {
     "duration": 0.065153,
     "end_time": "2022-07-08T17:35:07.450045",
     "exception": false,
     "start_time": "2022-07-08T17:35:07.384892",
     "status": "completed"
    },
    "tags": []
   },
   "outputs": [],
   "source": [
    "variants_ld_block_df = variants_ld_block_df.join(variants_info)[[\"varID\", 0, 1, 2, 3]]"
   ]
  },
  {
   "cell_type": "code",
   "execution_count": 51,
   "id": "5bfb6a7a",
   "metadata": {
    "execution": {
     "iopub.execute_input": "2022-07-08T17:35:07.479381Z",
     "iopub.status.busy": "2022-07-08T17:35:07.479181Z",
     "iopub.status.idle": "2022-07-08T17:35:07.495213Z",
     "shell.execute_reply": "2022-07-08T17:35:07.494620Z"
    },
    "papermill": {
     "duration": 0.032336,
     "end_time": "2022-07-08T17:35:07.496791",
     "exception": false,
     "start_time": "2022-07-08T17:35:07.464455",
     "status": "completed"
    },
    "tags": []
   },
   "outputs": [],
   "source": [
    "assert variants_ld_block_df.shape[0] == variants_info.shape[0]"
   ]
  },
  {
   "cell_type": "code",
   "execution_count": 52,
   "id": "4d8cf1da",
   "metadata": {
    "execution": {
     "iopub.execute_input": "2022-07-08T17:35:07.525097Z",
     "iopub.status.busy": "2022-07-08T17:35:07.524909Z",
     "iopub.status.idle": "2022-07-08T17:35:07.546683Z",
     "shell.execute_reply": "2022-07-08T17:35:07.546145Z"
    },
    "papermill": {
     "duration": 0.03772,
     "end_time": "2022-07-08T17:35:07.548158",
     "exception": false,
     "start_time": "2022-07-08T17:35:07.510438",
     "status": "completed"
    },
    "tags": []
   },
   "outputs": [
    {
     "data": {
      "text/html": [
       "<div>\n",
       "<style scoped>\n",
       "    .dataframe tbody tr th:only-of-type {\n",
       "        vertical-align: middle;\n",
       "    }\n",
       "\n",
       "    .dataframe tbody tr th {\n",
       "        vertical-align: top;\n",
       "    }\n",
       "\n",
       "    .dataframe thead th {\n",
       "        text-align: right;\n",
       "    }\n",
       "</style>\n",
       "<table border=\"1\" class=\"dataframe\">\n",
       "  <thead>\n",
       "    <tr style=\"text-align: right;\">\n",
       "      <th></th>\n",
       "      <th>varID</th>\n",
       "      <th>0</th>\n",
       "      <th>1</th>\n",
       "      <th>2</th>\n",
       "      <th>3</th>\n",
       "    </tr>\n",
       "  </thead>\n",
       "  <tbody>\n",
       "    <tr>\n",
       "      <th>0</th>\n",
       "      <td>chr9_136996001_G_A_b38</td>\n",
       "      <td>chr9</td>\n",
       "      <td>136996001</td>\n",
       "      <td>G</td>\n",
       "      <td>A</td>\n",
       "    </tr>\n",
       "    <tr>\n",
       "      <th>1</th>\n",
       "      <td>chr9_137029055_C_CA_b38</td>\n",
       "      <td>chr9</td>\n",
       "      <td>137029055</td>\n",
       "      <td>C</td>\n",
       "      <td>CA</td>\n",
       "    </tr>\n",
       "    <tr>\n",
       "      <th>2</th>\n",
       "      <td>chr9_137029407_T_G_b38</td>\n",
       "      <td>chr9</td>\n",
       "      <td>137029407</td>\n",
       "      <td>T</td>\n",
       "      <td>G</td>\n",
       "    </tr>\n",
       "    <tr>\n",
       "      <th>10</th>\n",
       "      <td>chr9_137084985_C_T_b38</td>\n",
       "      <td>chr9</td>\n",
       "      <td>137084985</td>\n",
       "      <td>C</td>\n",
       "      <td>T</td>\n",
       "    </tr>\n",
       "    <tr>\n",
       "      <th>11</th>\n",
       "      <td>chr9_137102549_TACAC_T_b38</td>\n",
       "      <td>chr9</td>\n",
       "      <td>137102549</td>\n",
       "      <td>TACAC</td>\n",
       "      <td>T</td>\n",
       "    </tr>\n",
       "  </tbody>\n",
       "</table>\n",
       "</div>"
      ],
      "text/plain": [
       "                         varID     0          1      2   3\n",
       "0       chr9_136996001_G_A_b38  chr9  136996001      G   A\n",
       "1      chr9_137029055_C_CA_b38  chr9  137029055      C  CA\n",
       "2       chr9_137029407_T_G_b38  chr9  137029407      T   G\n",
       "10      chr9_137084985_C_T_b38  chr9  137084985      C   T\n",
       "11  chr9_137102549_TACAC_T_b38  chr9  137102549  TACAC   T"
      ]
     },
     "execution_count": 52,
     "metadata": {},
     "output_type": "execute_result"
    }
   ],
   "source": [
    "variants_ld_block_df.head()"
   ]
  },
  {
   "cell_type": "code",
   "execution_count": 53,
   "id": "47448229",
   "metadata": {
    "execution": {
     "iopub.execute_input": "2022-07-08T17:35:07.576350Z",
     "iopub.status.busy": "2022-07-08T17:35:07.576182Z",
     "iopub.status.idle": "2022-07-08T17:35:07.594871Z",
     "shell.execute_reply": "2022-07-08T17:35:07.594276Z"
    },
    "papermill": {
     "duration": 0.034408,
     "end_time": "2022-07-08T17:35:07.596484",
     "exception": false,
     "start_time": "2022-07-08T17:35:07.562076",
     "status": "completed"
    },
    "tags": []
   },
   "outputs": [],
   "source": [
    "variants_ld_block_df = variants_ld_block_df.rename(\n",
    "    columns={\n",
    "        0: \"chr\",\n",
    "        1: \"position\",\n",
    "        2: \"ref_allele\",\n",
    "        3: \"eff_allele\",\n",
    "    }\n",
    ")"
   ]
  },
  {
   "cell_type": "code",
   "execution_count": 54,
   "id": "3beadcf8",
   "metadata": {
    "execution": {
     "iopub.execute_input": "2022-07-08T17:35:07.625282Z",
     "iopub.status.busy": "2022-07-08T17:35:07.624899Z",
     "iopub.status.idle": "2022-07-08T17:35:07.679045Z",
     "shell.execute_reply": "2022-07-08T17:35:07.678456Z"
    },
    "papermill": {
     "duration": 0.070256,
     "end_time": "2022-07-08T17:35:07.680638",
     "exception": false,
     "start_time": "2022-07-08T17:35:07.610382",
     "status": "completed"
    },
    "tags": []
   },
   "outputs": [],
   "source": [
    "variants_ld_block_df[\"chr\"] = variants_ld_block_df[\"chr\"].apply(lambda x: int(x[3:]))"
   ]
  },
  {
   "cell_type": "code",
   "execution_count": 55,
   "id": "b18c25c1",
   "metadata": {
    "execution": {
     "iopub.execute_input": "2022-07-08T17:35:07.709449Z",
     "iopub.status.busy": "2022-07-08T17:35:07.709257Z",
     "iopub.status.idle": "2022-07-08T17:35:07.738252Z",
     "shell.execute_reply": "2022-07-08T17:35:07.737629Z"
    },
    "papermill": {
     "duration": 0.045221,
     "end_time": "2022-07-08T17:35:07.739866",
     "exception": false,
     "start_time": "2022-07-08T17:35:07.694645",
     "status": "completed"
    },
    "tags": []
   },
   "outputs": [],
   "source": [
    "variants_ld_block_df[\"position\"] = variants_ld_block_df[\"position\"].astype(int)"
   ]
  },
  {
   "cell_type": "code",
   "execution_count": 56,
   "id": "13af12ae",
   "metadata": {
    "execution": {
     "iopub.execute_input": "2022-07-08T17:35:07.769149Z",
     "iopub.status.busy": "2022-07-08T17:35:07.768977Z",
     "iopub.status.idle": "2022-07-08T17:35:07.784163Z",
     "shell.execute_reply": "2022-07-08T17:35:07.783642Z"
    },
    "papermill": {
     "duration": 0.031061,
     "end_time": "2022-07-08T17:35:07.785515",
     "exception": false,
     "start_time": "2022-07-08T17:35:07.754454",
     "status": "completed"
    },
    "tags": []
   },
   "outputs": [
    {
     "data": {
      "text/plain": [
       "(84708, 5)"
      ]
     },
     "execution_count": 56,
     "metadata": {},
     "output_type": "execute_result"
    }
   ],
   "source": [
    "variants_ld_block_df.shape"
   ]
  },
  {
   "cell_type": "code",
   "execution_count": 57,
   "id": "431d8602",
   "metadata": {
    "execution": {
     "iopub.execute_input": "2022-07-08T17:35:07.811294Z",
     "iopub.status.busy": "2022-07-08T17:35:07.811139Z",
     "iopub.status.idle": "2022-07-08T17:35:07.829177Z",
     "shell.execute_reply": "2022-07-08T17:35:07.828666Z"
    },
    "papermill": {
     "duration": 0.032088,
     "end_time": "2022-07-08T17:35:07.830501",
     "exception": false,
     "start_time": "2022-07-08T17:35:07.798413",
     "status": "completed"
    },
    "tags": []
   },
   "outputs": [
    {
     "data": {
      "text/html": [
       "<div>\n",
       "<style scoped>\n",
       "    .dataframe tbody tr th:only-of-type {\n",
       "        vertical-align: middle;\n",
       "    }\n",
       "\n",
       "    .dataframe tbody tr th {\n",
       "        vertical-align: top;\n",
       "    }\n",
       "\n",
       "    .dataframe thead th {\n",
       "        text-align: right;\n",
       "    }\n",
       "</style>\n",
       "<table border=\"1\" class=\"dataframe\">\n",
       "  <thead>\n",
       "    <tr style=\"text-align: right;\">\n",
       "      <th></th>\n",
       "      <th>varID</th>\n",
       "      <th>chr</th>\n",
       "      <th>position</th>\n",
       "      <th>ref_allele</th>\n",
       "      <th>eff_allele</th>\n",
       "    </tr>\n",
       "  </thead>\n",
       "  <tbody>\n",
       "    <tr>\n",
       "      <th>0</th>\n",
       "      <td>chr9_136996001_G_A_b38</td>\n",
       "      <td>9</td>\n",
       "      <td>136996001</td>\n",
       "      <td>G</td>\n",
       "      <td>A</td>\n",
       "    </tr>\n",
       "    <tr>\n",
       "      <th>1</th>\n",
       "      <td>chr9_137029055_C_CA_b38</td>\n",
       "      <td>9</td>\n",
       "      <td>137029055</td>\n",
       "      <td>C</td>\n",
       "      <td>CA</td>\n",
       "    </tr>\n",
       "    <tr>\n",
       "      <th>2</th>\n",
       "      <td>chr9_137029407_T_G_b38</td>\n",
       "      <td>9</td>\n",
       "      <td>137029407</td>\n",
       "      <td>T</td>\n",
       "      <td>G</td>\n",
       "    </tr>\n",
       "    <tr>\n",
       "      <th>10</th>\n",
       "      <td>chr9_137084985_C_T_b38</td>\n",
       "      <td>9</td>\n",
       "      <td>137084985</td>\n",
       "      <td>C</td>\n",
       "      <td>T</td>\n",
       "    </tr>\n",
       "    <tr>\n",
       "      <th>11</th>\n",
       "      <td>chr9_137102549_TACAC_T_b38</td>\n",
       "      <td>9</td>\n",
       "      <td>137102549</td>\n",
       "      <td>TACAC</td>\n",
       "      <td>T</td>\n",
       "    </tr>\n",
       "  </tbody>\n",
       "</table>\n",
       "</div>"
      ],
      "text/plain": [
       "                         varID  chr   position ref_allele eff_allele\n",
       "0       chr9_136996001_G_A_b38    9  136996001          G          A\n",
       "1      chr9_137029055_C_CA_b38    9  137029055          C         CA\n",
       "2       chr9_137029407_T_G_b38    9  137029407          T          G\n",
       "10      chr9_137084985_C_T_b38    9  137084985          C          T\n",
       "11  chr9_137102549_TACAC_T_b38    9  137102549      TACAC          T"
      ]
     },
     "execution_count": 57,
     "metadata": {},
     "output_type": "execute_result"
    }
   ],
   "source": [
    "variants_ld_block_df.head()"
   ]
  },
  {
   "cell_type": "code",
   "execution_count": 58,
   "id": "35fc8e6d",
   "metadata": {
    "execution": {
     "iopub.execute_input": "2022-07-08T17:35:07.856048Z",
     "iopub.status.busy": "2022-07-08T17:35:07.855881Z",
     "iopub.status.idle": "2022-07-08T17:35:07.871727Z",
     "shell.execute_reply": "2022-07-08T17:35:07.871148Z"
    },
    "papermill": {
     "duration": 0.030223,
     "end_time": "2022-07-08T17:35:07.873102",
     "exception": false,
     "start_time": "2022-07-08T17:35:07.842879",
     "status": "completed"
    },
    "tags": []
   },
   "outputs": [
    {
     "data": {
      "text/plain": [
       "varID         object\n",
       "chr            int64\n",
       "position       int64\n",
       "ref_allele    object\n",
       "eff_allele    object\n",
       "dtype: object"
      ]
     },
     "execution_count": 58,
     "metadata": {},
     "output_type": "execute_result"
    }
   ],
   "source": [
    "variants_ld_block_df.dtypes"
   ]
  },
  {
   "cell_type": "markdown",
   "id": "ec84177c",
   "metadata": {
    "papermill": {
     "duration": 0.011578,
     "end_time": "2022-07-08T17:35:07.897229",
     "exception": false,
     "start_time": "2022-07-08T17:35:07.885651",
     "status": "completed"
    },
    "tags": []
   },
   "source": [
    "# Covariance for each chromosome block"
   ]
  },
  {
   "cell_type": "markdown",
   "id": "d43e1890",
   "metadata": {
    "papermill": {
     "duration": 0.011319,
     "end_time": "2022-07-08T17:35:07.919745",
     "exception": false,
     "start_time": "2022-07-08T17:35:07.908426",
     "status": "completed"
    },
    "tags": []
   },
   "source": [
    "## Functions"
   ]
  },
  {
   "cell_type": "code",
   "execution_count": 59,
   "id": "394c6b4d",
   "metadata": {
    "execution": {
     "iopub.execute_input": "2022-07-08T17:35:07.943584Z",
     "iopub.status.busy": "2022-07-08T17:35:07.943274Z",
     "iopub.status.idle": "2022-07-08T17:35:07.957296Z",
     "shell.execute_reply": "2022-07-08T17:35:07.956724Z"
    },
    "papermill": {
     "duration": 0.027329,
     "end_time": "2022-07-08T17:35:07.958554",
     "exception": false,
     "start_time": "2022-07-08T17:35:07.931225",
     "status": "completed"
    },
    "tags": []
   },
   "outputs": [],
   "source": [
    "def covariance(df, dtype):\n",
    "    n = df.shape[0]\n",
    "    df = df.sub(df.mean(), axis=1).astype(dtype)\n",
    "    return df.T.dot(df) / (n - 1)"
   ]
  },
  {
   "cell_type": "code",
   "execution_count": 60,
   "id": "ed702fd0",
   "metadata": {
    "execution": {
     "iopub.execute_input": "2022-07-08T17:35:07.982815Z",
     "iopub.status.busy": "2022-07-08T17:35:07.982597Z",
     "iopub.status.idle": "2022-07-08T17:35:08.024070Z",
     "shell.execute_reply": "2022-07-08T17:35:08.023551Z"
    },
    "papermill": {
     "duration": 0.055056,
     "end_time": "2022-07-08T17:35:08.025452",
     "exception": false,
     "start_time": "2022-07-08T17:35:07.970396",
     "status": "completed"
    },
    "tags": []
   },
   "outputs": [],
   "source": [
    "# testing\n",
    "rs = np.random.RandomState(0)\n",
    "\n",
    "_test_data = pd.DataFrame(rs.normal(size=(50, 5)), columns=[f\"c{i}\" for i in range(5)])\n",
    "\n",
    "# float64\n",
    "pd.testing.assert_frame_equal(\n",
    "    covariance(_test_data, np.float64),\n",
    "    _test_data.cov(),\n",
    "    rtol=1e-10,\n",
    "    atol=1e-10,\n",
    "    check_dtype=True,\n",
    ")\n",
    "\n",
    "# float32\n",
    "pd.testing.assert_frame_equal(\n",
    "    covariance(_test_data, np.float32),\n",
    "    _test_data.cov(),\n",
    "    rtol=1e-5,\n",
    "    atol=1e-8,\n",
    "    check_dtype=False,\n",
    ")\n",
    "\n",
    "del _test_data"
   ]
  },
  {
   "cell_type": "code",
   "execution_count": 61,
   "id": "417717ae",
   "metadata": {
    "execution": {
     "iopub.execute_input": "2022-07-08T17:35:08.050027Z",
     "iopub.status.busy": "2022-07-08T17:35:08.049867Z",
     "iopub.status.idle": "2022-07-08T17:35:08.064967Z",
     "shell.execute_reply": "2022-07-08T17:35:08.064419Z"
    },
    "papermill": {
     "duration": 0.028953,
     "end_time": "2022-07-08T17:35:08.066357",
     "exception": false,
     "start_time": "2022-07-08T17:35:08.037404",
     "status": "completed"
    },
    "tags": []
   },
   "outputs": [],
   "source": [
    "def compute_snps_cov(snps_df):\n",
    "    assert snps_df[\"chr\"].unique().shape[0] == 1\n",
    "    chromosome = snps_df[\"chr\"].unique()[0]\n",
    "\n",
    "    # keep variants only present in genotype\n",
    "    snps_ids = list(set(snps_df[\"varID\"]).intersection(variants_ids_with_genotype))\n",
    "\n",
    "    chromosome_file = get_reference_panel_file(\n",
    "        REFERENCE_PANEL_DIR, f\"chr{chromosome}.variants\"\n",
    "    )\n",
    "    snps_genotypes = pd.read_parquet(chromosome_file, columns=snps_ids)\n",
    "\n",
    "    return covariance(snps_genotypes, COV_DTYPE)"
   ]
  },
  {
   "cell_type": "code",
   "execution_count": 62,
   "id": "db4aed3c",
   "metadata": {
    "execution": {
     "iopub.execute_input": "2022-07-08T17:35:08.091094Z",
     "iopub.status.busy": "2022-07-08T17:35:08.090887Z",
     "iopub.status.idle": "2022-07-08T17:35:08.107160Z",
     "shell.execute_reply": "2022-07-08T17:35:08.106649Z"
    },
    "papermill": {
     "duration": 0.030172,
     "end_time": "2022-07-08T17:35:08.108580",
     "exception": false,
     "start_time": "2022-07-08T17:35:08.078408",
     "status": "completed"
    },
    "tags": []
   },
   "outputs": [],
   "source": [
    "# testing\n",
    "_tmp_snps = variants_ld_block_df[variants_ld_block_df[\"chr\"] == 22]\n",
    "assert _tmp_snps.shape[0] > 0"
   ]
  },
  {
   "cell_type": "code",
   "execution_count": 63,
   "id": "db520e6e",
   "metadata": {
    "execution": {
     "iopub.execute_input": "2022-07-08T17:35:08.134422Z",
     "iopub.status.busy": "2022-07-08T17:35:08.133915Z",
     "iopub.status.idle": "2022-07-08T17:35:08.148972Z",
     "shell.execute_reply": "2022-07-08T17:35:08.148475Z"
    },
    "papermill": {
     "duration": 0.029161,
     "end_time": "2022-07-08T17:35:08.150235",
     "exception": false,
     "start_time": "2022-07-08T17:35:08.121074",
     "status": "completed"
    },
    "tags": []
   },
   "outputs": [
    {
     "data": {
      "text/plain": [
       "(2687, 5)"
      ]
     },
     "execution_count": 63,
     "metadata": {},
     "output_type": "execute_result"
    }
   ],
   "source": [
    "_tmp_snps.shape"
   ]
  },
  {
   "cell_type": "code",
   "execution_count": 64,
   "id": "7f7bb541",
   "metadata": {
    "execution": {
     "iopub.execute_input": "2022-07-08T17:35:08.186657Z",
     "iopub.status.busy": "2022-07-08T17:35:08.185874Z",
     "iopub.status.idle": "2022-07-08T17:35:08.204064Z",
     "shell.execute_reply": "2022-07-08T17:35:08.203548Z"
    },
    "papermill": {
     "duration": 0.042523,
     "end_time": "2022-07-08T17:35:08.205215",
     "exception": false,
     "start_time": "2022-07-08T17:35:08.162692",
     "status": "completed"
    },
    "tags": []
   },
   "outputs": [
    {
     "data": {
      "text/plain": [
       "2484"
      ]
     },
     "metadata": {},
     "output_type": "display_data"
    }
   ],
   "source": [
    "n_expected = len(set(_tmp_snps[\"varID\"]).intersection(variants_ids_with_genotype))\n",
    "display(n_expected)"
   ]
  },
  {
   "cell_type": "code",
   "execution_count": 65,
   "id": "f9de93c0",
   "metadata": {
    "execution": {
     "iopub.execute_input": "2022-07-08T17:35:08.230174Z",
     "iopub.status.busy": "2022-07-08T17:35:08.229959Z",
     "iopub.status.idle": "2022-07-08T17:36:04.340193Z",
     "shell.execute_reply": "2022-07-08T17:36:04.339615Z"
    },
    "papermill": {
     "duration": 56.124404,
     "end_time": "2022-07-08T17:36:04.341782",
     "exception": false,
     "start_time": "2022-07-08T17:35:08.217378",
     "status": "completed"
    },
    "tags": []
   },
   "outputs": [],
   "source": [
    "_tmp = compute_snps_cov(_tmp_snps)"
   ]
  },
  {
   "cell_type": "code",
   "execution_count": 66,
   "id": "46ab35a8",
   "metadata": {
    "execution": {
     "iopub.execute_input": "2022-07-08T17:36:04.367801Z",
     "iopub.status.busy": "2022-07-08T17:36:04.367570Z",
     "iopub.status.idle": "2022-07-08T17:36:04.387568Z",
     "shell.execute_reply": "2022-07-08T17:36:04.387072Z"
    },
    "papermill": {
     "duration": 0.034208,
     "end_time": "2022-07-08T17:36:04.389047",
     "exception": false,
     "start_time": "2022-07-08T17:36:04.354839",
     "status": "completed"
    },
    "tags": []
   },
   "outputs": [],
   "source": [
    "assert _tmp.shape == (n_expected, n_expected)\n",
    "assert not _tmp.isna().any().any()"
   ]
  },
  {
   "cell_type": "code",
   "execution_count": 67,
   "id": "9320eeb4",
   "metadata": {
    "execution": {
     "iopub.execute_input": "2022-07-08T17:36:04.414639Z",
     "iopub.status.busy": "2022-07-08T17:36:04.414105Z",
     "iopub.status.idle": "2022-07-08T17:36:04.428122Z",
     "shell.execute_reply": "2022-07-08T17:36:04.427514Z"
    },
    "papermill": {
     "duration": 0.028074,
     "end_time": "2022-07-08T17:36:04.429459",
     "exception": false,
     "start_time": "2022-07-08T17:36:04.401385",
     "status": "completed"
    },
    "tags": []
   },
   "outputs": [],
   "source": [
    "del _tmp_snps, _tmp"
   ]
  },
  {
   "cell_type": "markdown",
   "id": "1264f97f",
   "metadata": {
    "papermill": {
     "duration": 0.011657,
     "end_time": "2022-07-08T17:36:04.453601",
     "exception": false,
     "start_time": "2022-07-08T17:36:04.441944",
     "status": "completed"
    },
    "tags": []
   },
   "source": [
    "## Compute covariance and save"
   ]
  },
  {
   "cell_type": "code",
   "execution_count": 68,
   "id": "b938ae8a",
   "metadata": {
    "execution": {
     "iopub.execute_input": "2022-07-08T17:36:04.478508Z",
     "iopub.status.busy": "2022-07-08T17:36:04.478290Z",
     "iopub.status.idle": "2022-07-08T17:36:04.495173Z",
     "shell.execute_reply": "2022-07-08T17:36:04.494160Z"
    },
    "papermill": {
     "duration": 0.031096,
     "end_time": "2022-07-08T17:36:04.496503",
     "exception": false,
     "start_time": "2022-07-08T17:36:04.465407",
     "status": "completed"
    },
    "tags": []
   },
   "outputs": [
    {
     "data": {
      "text/plain": [
       "PosixPath('/opt/data/data/phenomexcan/ld_blocks/gene_corrs/1000g/mashr/snps_chr_blocks_cov.h5')"
      ]
     },
     "metadata": {},
     "output_type": "display_data"
    }
   ],
   "source": [
    "output_file_name_template = conf.PHENOMEXCAN[\"LD_BLOCKS\"][\n",
    "    \"GENE_CORRS_FILE_NAME_TEMPLATES\"\n",
    "][\"SNPS_COVARIANCE\"]\n",
    "\n",
    "output_file = OUTPUT_DIR_BASE / output_file_name_template.format(\n",
    "    prefix=\"\",\n",
    "    suffix=\"\",\n",
    ")\n",
    "display(output_file)"
   ]
  },
  {
   "cell_type": "code",
   "execution_count": 69,
   "id": "8953db89",
   "metadata": {
    "execution": {
     "iopub.execute_input": "2022-07-08T17:36:04.523471Z",
     "iopub.status.busy": "2022-07-08T17:36:04.522776Z",
     "iopub.status.idle": "2022-07-08T18:43:22.397596Z",
     "shell.execute_reply": "2022-07-08T18:43:22.396775Z"
    },
    "papermill": {
     "duration": 4037.905789,
     "end_time": "2022-07-08T18:43:22.415257",
     "exception": false,
     "start_time": "2022-07-08T17:36:04.509468",
     "status": "completed"
    },
    "tags": []
   },
   "outputs": [
    {
     "name": "stderr",
     "output_type": "stream",
     "text": [
      "22 (2687, 5): 100%|██████████████████████████████████████████████| 22/22 [1:07:17<00:00, 183.53s/it]\n"
     ]
    }
   ],
   "source": [
    "with pd.HDFStore(output_file, mode=\"w\", complevel=4) as store:\n",
    "    pbar = tqdm(\n",
    "        variants_ld_block_df.groupby(\"chr\"),\n",
    "        ncols=100,\n",
    "        total=variants_ld_block_df[\"chr\"].unique().shape[0],\n",
    "    )\n",
    "\n",
    "    store[\"metadata\"] = variants_ld_block_df\n",
    "\n",
    "    for grp_name, grp_data in pbar:\n",
    "        pbar.set_description(f\"{grp_name} {grp_data.shape}\")\n",
    "        snps_cov = compute_snps_cov(grp_data)  # .astype(COV_DTYPE)\n",
    "        assert not snps_cov.isna().any().any()\n",
    "        store[f\"chr{grp_name}\"] = snps_cov\n",
    "\n",
    "        del snps_cov\n",
    "        store.flush()\n",
    "\n",
    "        gc.collect()"
   ]
  },
  {
   "cell_type": "markdown",
   "id": "1de34e70",
   "metadata": {
    "papermill": {
     "duration": 0.016572,
     "end_time": "2022-07-08T18:43:22.449454",
     "exception": false,
     "start_time": "2022-07-08T18:43:22.432882",
     "status": "completed"
    },
    "tags": []
   },
   "source": [
    "# Testing"
   ]
  },
  {
   "cell_type": "code",
   "execution_count": 70,
   "id": "54fc512c",
   "metadata": {
    "execution": {
     "iopub.execute_input": "2022-07-08T18:43:22.480657Z",
     "iopub.status.busy": "2022-07-08T18:43:22.480489Z",
     "iopub.status.idle": "2022-07-08T18:43:22.496558Z",
     "shell.execute_reply": "2022-07-08T18:43:22.495806Z"
    },
    "papermill": {
     "duration": 0.032745,
     "end_time": "2022-07-08T18:43:22.498018",
     "exception": false,
     "start_time": "2022-07-08T18:43:22.465273",
     "status": "completed"
    },
    "tags": []
   },
   "outputs": [],
   "source": [
    "_tmp = variants_ld_block_df[variants_ld_block_df[\"chr\"] == 1]"
   ]
  },
  {
   "cell_type": "code",
   "execution_count": 71,
   "id": "a3bd8ede",
   "metadata": {
    "execution": {
     "iopub.execute_input": "2022-07-08T18:43:22.527553Z",
     "iopub.status.busy": "2022-07-08T18:43:22.527388Z",
     "iopub.status.idle": "2022-07-08T18:43:22.542632Z",
     "shell.execute_reply": "2022-07-08T18:43:22.542060Z"
    },
    "papermill": {
     "duration": 0.031275,
     "end_time": "2022-07-08T18:43:22.543927",
     "exception": false,
     "start_time": "2022-07-08T18:43:22.512652",
     "status": "completed"
    },
    "tags": []
   },
   "outputs": [
    {
     "data": {
      "text/plain": [
       "(8130, 5)"
      ]
     },
     "execution_count": 71,
     "metadata": {},
     "output_type": "execute_result"
    }
   ],
   "source": [
    "_tmp.shape"
   ]
  },
  {
   "cell_type": "code",
   "execution_count": 72,
   "id": "6149cee4",
   "metadata": {
    "execution": {
     "iopub.execute_input": "2022-07-08T18:43:22.574669Z",
     "iopub.status.busy": "2022-07-08T18:43:22.574488Z",
     "iopub.status.idle": "2022-07-08T18:43:22.588648Z",
     "shell.execute_reply": "2022-07-08T18:43:22.588066Z"
    },
    "papermill": {
     "duration": 0.03095,
     "end_time": "2022-07-08T18:43:22.589967",
     "exception": false,
     "start_time": "2022-07-08T18:43:22.559017",
     "status": "completed"
    },
    "tags": []
   },
   "outputs": [],
   "source": [
    "assert _tmp.shape[0] > 0"
   ]
  },
  {
   "cell_type": "code",
   "execution_count": 73,
   "id": "8aceb74a",
   "metadata": {
    "execution": {
     "iopub.execute_input": "2022-07-08T18:43:22.618756Z",
     "iopub.status.busy": "2022-07-08T18:43:22.618595Z",
     "iopub.status.idle": "2022-07-08T18:43:22.637056Z",
     "shell.execute_reply": "2022-07-08T18:43:22.636507Z"
    },
    "papermill": {
     "duration": 0.034394,
     "end_time": "2022-07-08T18:43:22.638452",
     "exception": false,
     "start_time": "2022-07-08T18:43:22.604058",
     "status": "completed"
    },
    "tags": []
   },
   "outputs": [
    {
     "data": {
      "text/plain": [
       "7701"
      ]
     },
     "metadata": {},
     "output_type": "display_data"
    }
   ],
   "source": [
    "n_expected = len(set(_tmp[\"varID\"]).intersection(variants_ids_with_genotype))\n",
    "display(n_expected)\n",
    "assert n_expected > 0"
   ]
  },
  {
   "cell_type": "code",
   "execution_count": 74,
   "id": "ffdb4c4b",
   "metadata": {
    "execution": {
     "iopub.execute_input": "2022-07-08T18:43:22.669225Z",
     "iopub.status.busy": "2022-07-08T18:43:22.669067Z",
     "iopub.status.idle": "2022-07-08T18:43:23.575665Z",
     "shell.execute_reply": "2022-07-08T18:43:23.575112Z"
    },
    "papermill": {
     "duration": 0.922952,
     "end_time": "2022-07-08T18:43:23.577251",
     "exception": false,
     "start_time": "2022-07-08T18:43:22.654299",
     "status": "completed"
    },
    "tags": []
   },
   "outputs": [],
   "source": [
    "with pd.HDFStore(output_file, mode=\"r\") as store:\n",
    "    df = store[\"chr1\"]\n",
    "    assert df.shape == (n_expected, n_expected)\n",
    "    assert not df.isna().any().any()"
   ]
  },
  {
   "cell_type": "code",
   "execution_count": null,
   "id": "49dccd49",
   "metadata": {
    "papermill": {
     "duration": 0.015688,
     "end_time": "2022-07-08T18:43:23.610447",
     "exception": false,
     "start_time": "2022-07-08T18:43:23.594759",
     "status": "completed"
    },
    "tags": []
   },
   "outputs": [],
   "source": []
  }
 ],
 "metadata": {
  "jupytext": {
   "cell_metadata_filter": "all,-execution,-papermill,-trusted",
   "formats": "ipynb,py//py:percent"
  },
  "kernelspec": {
   "display_name": "Python 3 (ipykernel)",
   "language": "python",
   "name": "python3"
  },
  "language_info": {
   "codemirror_mode": {
    "name": "ipython",
    "version": 3
   },
   "file_extension": ".py",
   "mimetype": "text/x-python",
   "name": "python",
   "nbconvert_exporter": "python",
   "pygments_lexer": "ipython3",
   "version": "3.8.13"
  },
  "papermill": {
   "default_parameters": {},
   "duration": 4128.751036,
   "end_time": "2022-07-08T18:43:26.461539",
   "environment_variables": {},
   "exception": null,
   "input_path": "nbs/15_gsa_gls/05-snps_into_chr_cov.ipynb",
   "output_path": "nbs/15_gsa_gls/gene_corrs/1000g/mashr/05-snps_into_chr_cov.ipynb",
   "parameters": {
    "EQTL_MODEL": "MASHR",
    "REFERENCE_PANEL": "1000G"
   },
   "start_time": "2022-07-08T17:34:37.710503",
   "version": "2.2.2"
  }
 },
 "nbformat": 4,
 "nbformat_minor": 5
}
