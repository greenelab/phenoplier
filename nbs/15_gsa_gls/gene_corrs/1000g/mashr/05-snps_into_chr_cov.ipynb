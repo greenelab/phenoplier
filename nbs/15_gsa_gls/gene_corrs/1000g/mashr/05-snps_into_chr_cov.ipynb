{
 "cells": [
  {
   "cell_type": "markdown",
   "id": "d88b3ffc",
   "metadata": {
    "papermill": {
     "duration": 0.080718,
     "end_time": "2022-02-28T22:25:16.300415",
     "exception": false,
     "start_time": "2022-02-28T22:25:16.219697",
     "status": "completed"
    },
    "tags": []
   },
   "source": [
    "# Description"
   ]
  },
  {
   "cell_type": "markdown",
   "id": "69f66c44",
   "metadata": {
    "papermill": {
     "duration": 0.042513,
     "end_time": "2022-02-28T22:25:16.386131",
     "exception": false,
     "start_time": "2022-02-28T22:25:16.343618",
     "status": "completed"
    },
    "tags": []
   },
   "source": [
    "This notebook computes the covariance of SNPs for each chr."
   ]
  },
  {
   "cell_type": "markdown",
   "id": "0cb79cbe",
   "metadata": {
    "papermill": {
     "duration": 0.042912,
     "end_time": "2022-02-28T22:25:16.471263",
     "exception": false,
     "start_time": "2022-02-28T22:25:16.428351",
     "status": "completed"
    },
    "tags": []
   },
   "source": [
    "# Modules"
   ]
  },
  {
   "cell_type": "code",
   "execution_count": 1,
   "id": "0a4272be",
   "metadata": {
    "execution": {
     "iopub.execute_input": "2022-02-28T22:25:16.558256Z",
     "iopub.status.busy": "2022-02-28T22:25:16.557997Z",
     "iopub.status.idle": "2022-02-28T22:25:16.573865Z",
     "shell.execute_reply": "2022-02-28T22:25:16.573227Z"
    },
    "papermill": {
     "duration": 0.061565,
     "end_time": "2022-02-28T22:25:16.575394",
     "exception": false,
     "start_time": "2022-02-28T22:25:16.513829",
     "status": "completed"
    },
    "tags": []
   },
   "outputs": [],
   "source": [
    "%load_ext autoreload\n",
    "%autoreload 2"
   ]
  },
  {
   "cell_type": "code",
   "execution_count": 2,
   "id": "4141c781",
   "metadata": {
    "execution": {
     "iopub.execute_input": "2022-02-28T22:25:16.663445Z",
     "iopub.status.busy": "2022-02-28T22:25:16.663234Z",
     "iopub.status.idle": "2022-02-28T22:25:17.119920Z",
     "shell.execute_reply": "2022-02-28T22:25:17.119234Z"
    },
    "papermill": {
     "duration": 0.502019,
     "end_time": "2022-02-28T22:25:17.121545",
     "exception": false,
     "start_time": "2022-02-28T22:25:16.619526",
     "status": "completed"
    },
    "tags": []
   },
   "outputs": [],
   "source": [
    "import gc\n",
    "import sqlite3\n",
    "\n",
    "import numpy as np\n",
    "import pandas as pd\n",
    "from tqdm import tqdm\n",
    "\n",
    "import conf\n",
    "from entity import Gene"
   ]
  },
  {
   "cell_type": "markdown",
   "id": "37055abe",
   "metadata": {
    "papermill": {
     "duration": 0.069389,
     "end_time": "2022-02-28T22:25:17.237261",
     "exception": false,
     "start_time": "2022-02-28T22:25:17.167872",
     "status": "completed"
    },
    "tags": []
   },
   "source": [
    "# Settings"
   ]
  },
  {
   "cell_type": "code",
   "execution_count": 3,
   "id": "c264a67f",
   "metadata": {
    "execution": {
     "iopub.execute_input": "2022-02-28T22:25:17.331648Z",
     "iopub.status.busy": "2022-02-28T22:25:17.331427Z",
     "iopub.status.idle": "2022-02-28T22:25:17.343585Z",
     "shell.execute_reply": "2022-02-28T22:25:17.342989Z"
    },
    "papermill": {
     "duration": 0.056706,
     "end_time": "2022-02-28T22:25:17.345199",
     "exception": false,
     "start_time": "2022-02-28T22:25:17.288493",
     "status": "completed"
    },
    "tags": []
   },
   "outputs": [],
   "source": [
    "COV_DTYPE = np.float32"
   ]
  },
  {
   "cell_type": "code",
   "execution_count": 4,
   "id": "ac93914d",
   "metadata": {
    "execution": {
     "iopub.execute_input": "2022-02-28T22:25:17.432037Z",
     "iopub.status.busy": "2022-02-28T22:25:17.431820Z",
     "iopub.status.idle": "2022-02-28T22:25:17.444006Z",
     "shell.execute_reply": "2022-02-28T22:25:17.443478Z"
    },
    "papermill": {
     "duration": 0.056759,
     "end_time": "2022-02-28T22:25:17.445470",
     "exception": false,
     "start_time": "2022-02-28T22:25:17.388711",
     "status": "completed"
    },
    "tags": [
     "parameters"
    ]
   },
   "outputs": [],
   "source": [
    "# mashr\n",
    "EQTL_MODEL = \"MASHR\"\n",
    "EQTL_MODEL_FILES_PREFIX = \"mashr_\"\n",
    "\n",
    "# # elastic net\n",
    "# EQTL_MODEL = \"ELASTIC_NET\"\n",
    "# EQTL_MODEL_FILES_PREFIX = \"en_\"\n",
    "\n",
    "# make it read the prefix from conf.py\n",
    "EQTL_MODEL_FILES_PREFIX = None"
   ]
  },
  {
   "cell_type": "code",
   "execution_count": 5,
   "id": "05449fb3",
   "metadata": {
    "execution": {
     "iopub.execute_input": "2022-02-28T22:25:17.532946Z",
     "iopub.status.busy": "2022-02-28T22:25:17.532732Z",
     "iopub.status.idle": "2022-02-28T22:25:17.544996Z",
     "shell.execute_reply": "2022-02-28T22:25:17.544468Z"
    },
    "papermill": {
     "duration": 0.0572,
     "end_time": "2022-02-28T22:25:17.546510",
     "exception": false,
     "start_time": "2022-02-28T22:25:17.489310",
     "status": "completed"
    },
    "tags": [
     "injected-parameters"
    ]
   },
   "outputs": [],
   "source": [
    "# Parameters\n",
    "EQTL_MODEL = \"MASHR\"\n"
   ]
  },
  {
   "cell_type": "code",
   "execution_count": 6,
   "id": "455c2e55",
   "metadata": {
    "execution": {
     "iopub.execute_input": "2022-02-28T22:25:17.634220Z",
     "iopub.status.busy": "2022-02-28T22:25:17.633977Z",
     "iopub.status.idle": "2022-02-28T22:25:17.646265Z",
     "shell.execute_reply": "2022-02-28T22:25:17.645667Z"
    },
    "papermill": {
     "duration": 0.057845,
     "end_time": "2022-02-28T22:25:17.647863",
     "exception": false,
     "start_time": "2022-02-28T22:25:17.590018",
     "status": "completed"
    },
    "tags": []
   },
   "outputs": [],
   "source": [
    "if EQTL_MODEL_FILES_PREFIX is None:\n",
    "    EQTL_MODEL_FILES_PREFIX = conf.PHENOMEXCAN[\"PREDICTION_MODELS_PREFIXES\"][EQTL_MODEL]"
   ]
  },
  {
   "cell_type": "code",
   "execution_count": 7,
   "id": "a2ea1be5",
   "metadata": {
    "execution": {
     "iopub.execute_input": "2022-02-28T22:25:17.737011Z",
     "iopub.status.busy": "2022-02-28T22:25:17.736794Z",
     "iopub.status.idle": "2022-02-28T22:25:17.753919Z",
     "shell.execute_reply": "2022-02-28T22:25:17.753342Z"
    },
    "papermill": {
     "duration": 0.062251,
     "end_time": "2022-02-28T22:25:17.755386",
     "exception": false,
     "start_time": "2022-02-28T22:25:17.693135",
     "status": "completed"
    },
    "tags": []
   },
   "outputs": [
    {
     "data": {
      "text/plain": [
       "'Using eQTL model: MASHR / mashr_'"
      ]
     },
     "metadata": {},
     "output_type": "display_data"
    }
   ],
   "source": [
    "display(f\"Using eQTL model: {EQTL_MODEL} / {EQTL_MODEL_FILES_PREFIX}\")"
   ]
  },
  {
   "cell_type": "markdown",
   "id": "37dfafb8",
   "metadata": {
    "papermill": {
     "duration": 0.043429,
     "end_time": "2022-02-28T22:25:17.843223",
     "exception": false,
     "start_time": "2022-02-28T22:25:17.799794",
     "status": "completed"
    },
    "tags": []
   },
   "source": [
    "# Load data"
   ]
  },
  {
   "cell_type": "markdown",
   "id": "c6f55abd",
   "metadata": {
    "papermill": {
     "duration": 0.042903,
     "end_time": "2022-02-28T22:25:17.929440",
     "exception": false,
     "start_time": "2022-02-28T22:25:17.886537",
     "status": "completed"
    },
    "tags": []
   },
   "source": [
    "## SNPs in predictions models"
   ]
  },
  {
   "cell_type": "code",
   "execution_count": 8,
   "id": "c94c4cbb",
   "metadata": {
    "execution": {
     "iopub.execute_input": "2022-02-28T22:25:18.018271Z",
     "iopub.status.busy": "2022-02-28T22:25:18.017579Z",
     "iopub.status.idle": "2022-02-28T22:25:18.029952Z",
     "shell.execute_reply": "2022-02-28T22:25:18.029414Z"
    },
    "papermill": {
     "duration": 0.058005,
     "end_time": "2022-02-28T22:25:18.031389",
     "exception": false,
     "start_time": "2022-02-28T22:25:17.973384",
     "status": "completed"
    },
    "tags": []
   },
   "outputs": [],
   "source": [
    "mashr_models_db_files = list(\n",
    "    conf.PHENOMEXCAN[\"PREDICTION_MODELS\"][EQTL_MODEL].glob(\"*.db\")\n",
    ")"
   ]
  },
  {
   "cell_type": "code",
   "execution_count": 9,
   "id": "9015c1d7",
   "metadata": {
    "execution": {
     "iopub.execute_input": "2022-02-28T22:25:18.120026Z",
     "iopub.status.busy": "2022-02-28T22:25:18.119810Z",
     "iopub.status.idle": "2022-02-28T22:25:18.131859Z",
     "shell.execute_reply": "2022-02-28T22:25:18.131296Z"
    },
    "papermill": {
     "duration": 0.058038,
     "end_time": "2022-02-28T22:25:18.133285",
     "exception": false,
     "start_time": "2022-02-28T22:25:18.075247",
     "status": "completed"
    },
    "tags": []
   },
   "outputs": [],
   "source": [
    "assert len(mashr_models_db_files) == 49"
   ]
  },
  {
   "cell_type": "code",
   "execution_count": 10,
   "id": "d5a28a46",
   "metadata": {
    "execution": {
     "iopub.execute_input": "2022-02-28T22:25:18.223065Z",
     "iopub.status.busy": "2022-02-28T22:25:18.222852Z",
     "iopub.status.idle": "2022-02-28T22:25:20.536939Z",
     "shell.execute_reply": "2022-02-28T22:25:20.536338Z"
    },
    "papermill": {
     "duration": 2.360681,
     "end_time": "2022-02-28T22:25:20.538425",
     "exception": false,
     "start_time": "2022-02-28T22:25:18.177744",
     "status": "completed"
    },
    "tags": []
   },
   "outputs": [
    {
     "name": "stdout",
     "output_type": "stream",
     "text": [
      "Processing mashr_Skin_Not_Sun_Exposed_Suprapubic.db\n",
      "Processing mashr_Cells_EBV-transformed_lymphocytes.db\n",
      "Processing mashr_Brain_Frontal_Cortex_BA9.db\n",
      "Processing mashr_Kidney_Cortex.db\n",
      "Processing mashr_Brain_Substantia_nigra.db\n",
      "Processing mashr_Spleen.db\n",
      "Processing mashr_Colon_Transverse.db\n",
      "Processing mashr_Heart_Left_Ventricle.db\n",
      "Processing mashr_Lung.db\n",
      "Processing mashr_Muscle_Skeletal.db\n",
      "Processing mashr_Brain_Hypothalamus.db\n",
      "Processing mashr_Brain_Cortex.db\n",
      "Processing mashr_Brain_Amygdala.db\n",
      "Processing mashr_Esophagus_Mucosa.db\n",
      "Processing mashr_Adrenal_Gland.db\n",
      "Processing mashr_Uterus.db\n",
      "Processing mashr_Prostate.db\n",
      "Processing mashr_Whole_Blood.db\n",
      "Processing mashr_Pituitary.db\n",
      "Processing mashr_Esophagus_Gastroesophageal_Junction.db\n",
      "Processing mashr_Stomach.db\n",
      "Processing mashr_Heart_Atrial_Appendage.db\n",
      "Processing mashr_Brain_Cerebellum.db\n",
      "Processing mashr_Breast_Mammary_Tissue.db\n",
      "Processing mashr_Artery_Tibial.db\n",
      "Processing mashr_Artery_Aorta.db\n",
      "Processing mashr_Small_Intestine_Terminal_Ileum.db\n",
      "Processing mashr_Brain_Hippocampus.db\n",
      "Processing mashr_Testis.db\n",
      "Processing mashr_Brain_Putamen_basal_ganglia.db\n",
      "Processing mashr_Pancreas.db\n",
      "Processing mashr_Adipose_Subcutaneous.db\n",
      "Processing mashr_Brain_Cerebellar_Hemisphere.db\n",
      "Processing mashr_Colon_Sigmoid.db\n",
      "Processing mashr_Minor_Salivary_Gland.db\n",
      "Processing mashr_Cells_Cultured_fibroblasts.db\n",
      "Processing mashr_Brain_Nucleus_accumbens_basal_ganglia.db\n",
      "Processing mashr_Brain_Anterior_cingulate_cortex_BA24.db\n",
      "Processing mashr_Vagina.db\n",
      "Processing mashr_Ovary.db\n",
      "Processing mashr_Skin_Sun_Exposed_Lower_leg.db\n",
      "Processing mashr_Esophagus_Muscularis.db\n",
      "Processing mashr_Brain_Spinal_cord_cervical_c-1.db\n",
      "Processing mashr_Artery_Coronary.db\n",
      "Processing mashr_Thyroid.db\n",
      "Processing mashr_Brain_Caudate_basal_ganglia.db\n",
      "Processing mashr_Adipose_Visceral_Omentum.db\n",
      "Processing mashr_Nerve_Tibial.db\n",
      "Processing mashr_Liver.db\n"
     ]
    }
   ],
   "source": [
    "all_variants_ids = []\n",
    "\n",
    "for m in mashr_models_db_files:\n",
    "    print(f\"Processing {m.name}\")\n",
    "    tissue = m.name.split(EQTL_MODEL_FILES_PREFIX)[1].split(\".db\")[0]\n",
    "\n",
    "    with sqlite3.connect(m) as conn:\n",
    "        df = pd.read_sql(\"select gene, varID from weights\", conn)\n",
    "        df[\"gene\"] = df[\"gene\"].apply(lambda x: x.split(\".\")[0])\n",
    "        df = df.assign(tissue=tissue)\n",
    "\n",
    "        all_variants_ids.append(df)"
   ]
  },
  {
   "cell_type": "code",
   "execution_count": 11,
   "id": "986feda1",
   "metadata": {
    "execution": {
     "iopub.execute_input": "2022-02-28T22:25:20.634791Z",
     "iopub.status.busy": "2022-02-28T22:25:20.634576Z",
     "iopub.status.idle": "2022-02-28T22:25:20.784698Z",
     "shell.execute_reply": "2022-02-28T22:25:20.784023Z"
    },
    "papermill": {
     "duration": 0.199412,
     "end_time": "2022-02-28T22:25:20.786453",
     "exception": false,
     "start_time": "2022-02-28T22:25:20.587041",
     "status": "completed"
    },
    "tags": []
   },
   "outputs": [],
   "source": [
    "all_gene_snps = pd.concat(all_variants_ids, ignore_index=True)"
   ]
  },
  {
   "cell_type": "code",
   "execution_count": 12,
   "id": "cdbb12ef",
   "metadata": {
    "execution": {
     "iopub.execute_input": "2022-02-28T22:25:20.889350Z",
     "iopub.status.busy": "2022-02-28T22:25:20.889128Z",
     "iopub.status.idle": "2022-02-28T22:25:20.902214Z",
     "shell.execute_reply": "2022-02-28T22:25:20.901619Z"
    },
    "papermill": {
     "duration": 0.062056,
     "end_time": "2022-02-28T22:25:20.903611",
     "exception": false,
     "start_time": "2022-02-28T22:25:20.841555",
     "status": "completed"
    },
    "tags": []
   },
   "outputs": [
    {
     "data": {
      "text/plain": [
       "(1132714, 3)"
      ]
     },
     "execution_count": 12,
     "metadata": {},
     "output_type": "execute_result"
    }
   ],
   "source": [
    "all_gene_snps.shape"
   ]
  },
  {
   "cell_type": "code",
   "execution_count": 13,
   "id": "c5300203",
   "metadata": {
    "execution": {
     "iopub.execute_input": "2022-02-28T22:25:20.998733Z",
     "iopub.status.busy": "2022-02-28T22:25:20.998507Z",
     "iopub.status.idle": "2022-02-28T22:25:21.015650Z",
     "shell.execute_reply": "2022-02-28T22:25:21.015146Z"
    },
    "papermill": {
     "duration": 0.075465,
     "end_time": "2022-02-28T22:25:21.026121",
     "exception": false,
     "start_time": "2022-02-28T22:25:20.950656",
     "status": "completed"
    },
    "tags": []
   },
   "outputs": [
    {
     "data": {
      "text/html": [
       "<div>\n",
       "<style scoped>\n",
       "    .dataframe tbody tr th:only-of-type {\n",
       "        vertical-align: middle;\n",
       "    }\n",
       "\n",
       "    .dataframe tbody tr th {\n",
       "        vertical-align: top;\n",
       "    }\n",
       "\n",
       "    .dataframe thead th {\n",
       "        text-align: right;\n",
       "    }\n",
       "</style>\n",
       "<table border=\"1\" class=\"dataframe\">\n",
       "  <thead>\n",
       "    <tr style=\"text-align: right;\">\n",
       "      <th></th>\n",
       "      <th>gene</th>\n",
       "      <th>varID</th>\n",
       "      <th>tissue</th>\n",
       "    </tr>\n",
       "  </thead>\n",
       "  <tbody>\n",
       "    <tr>\n",
       "      <th>0</th>\n",
       "      <td>ENSG00000169583</td>\n",
       "      <td>chr9_136996001_G_A_b38</td>\n",
       "      <td>Skin_Not_Sun_Exposed_Suprapubic</td>\n",
       "    </tr>\n",
       "    <tr>\n",
       "      <th>1</th>\n",
       "      <td>ENSG00000107331</td>\n",
       "      <td>chr9_137029055_C_CA_b38</td>\n",
       "      <td>Skin_Not_Sun_Exposed_Suprapubic</td>\n",
       "    </tr>\n",
       "    <tr>\n",
       "      <th>2</th>\n",
       "      <td>ENSG00000107331</td>\n",
       "      <td>chr9_137029407_T_G_b38</td>\n",
       "      <td>Skin_Not_Sun_Exposed_Suprapubic</td>\n",
       "    </tr>\n",
       "    <tr>\n",
       "      <th>3</th>\n",
       "      <td>ENSG00000180549</td>\n",
       "      <td>chr9_137031950_T_C_b38</td>\n",
       "      <td>Skin_Not_Sun_Exposed_Suprapubic</td>\n",
       "    </tr>\n",
       "    <tr>\n",
       "      <th>4</th>\n",
       "      <td>ENSG00000180549</td>\n",
       "      <td>chr9_137032610_A_G_b38</td>\n",
       "      <td>Skin_Not_Sun_Exposed_Suprapubic</td>\n",
       "    </tr>\n",
       "  </tbody>\n",
       "</table>\n",
       "</div>"
      ],
      "text/plain": [
       "              gene                    varID                           tissue\n",
       "0  ENSG00000169583   chr9_136996001_G_A_b38  Skin_Not_Sun_Exposed_Suprapubic\n",
       "1  ENSG00000107331  chr9_137029055_C_CA_b38  Skin_Not_Sun_Exposed_Suprapubic\n",
       "2  ENSG00000107331   chr9_137029407_T_G_b38  Skin_Not_Sun_Exposed_Suprapubic\n",
       "3  ENSG00000180549   chr9_137031950_T_C_b38  Skin_Not_Sun_Exposed_Suprapubic\n",
       "4  ENSG00000180549   chr9_137032610_A_G_b38  Skin_Not_Sun_Exposed_Suprapubic"
      ]
     },
     "execution_count": 13,
     "metadata": {},
     "output_type": "execute_result"
    }
   ],
   "source": [
    "all_gene_snps.head()"
   ]
  },
  {
   "cell_type": "code",
   "execution_count": 14,
   "id": "e5a2d4be",
   "metadata": {
    "execution": {
     "iopub.execute_input": "2022-02-28T22:25:21.129639Z",
     "iopub.status.busy": "2022-02-28T22:25:21.129420Z",
     "iopub.status.idle": "2022-02-28T22:25:21.468914Z",
     "shell.execute_reply": "2022-02-28T22:25:21.468172Z"
    },
    "papermill": {
     "duration": 0.390746,
     "end_time": "2022-02-28T22:25:21.470749",
     "exception": false,
     "start_time": "2022-02-28T22:25:21.080003",
     "status": "completed"
    },
    "tags": []
   },
   "outputs": [],
   "source": [
    "all_snps_in_models = set(all_gene_snps[\"varID\"].unique())"
   ]
  },
  {
   "cell_type": "markdown",
   "id": "e2cfb3d9",
   "metadata": {
    "papermill": {
     "duration": 0.047657,
     "end_time": "2022-02-28T22:25:21.577475",
     "exception": false,
     "start_time": "2022-02-28T22:25:21.529818",
     "status": "completed"
    },
    "tags": []
   },
   "source": [
    "## MultiPLIER Z"
   ]
  },
  {
   "cell_type": "code",
   "execution_count": 15,
   "id": "0e901bf8",
   "metadata": {
    "execution": {
     "iopub.execute_input": "2022-02-28T22:25:21.674165Z",
     "iopub.status.busy": "2022-02-28T22:25:21.673461Z",
     "iopub.status.idle": "2022-02-28T22:25:21.706555Z",
     "shell.execute_reply": "2022-02-28T22:25:21.705993Z"
    },
    "papermill": {
     "duration": 0.082637,
     "end_time": "2022-02-28T22:25:21.708172",
     "exception": false,
     "start_time": "2022-02-28T22:25:21.625535",
     "status": "completed"
    },
    "tags": []
   },
   "outputs": [],
   "source": [
    "multiplier_z = pd.read_pickle(conf.MULTIPLIER[\"MODEL_Z_MATRIX_FILE\"])"
   ]
  },
  {
   "cell_type": "code",
   "execution_count": 16,
   "id": "55da6f21",
   "metadata": {
    "execution": {
     "iopub.execute_input": "2022-02-28T22:25:21.807285Z",
     "iopub.status.busy": "2022-02-28T22:25:21.807067Z",
     "iopub.status.idle": "2022-02-28T22:25:21.820243Z",
     "shell.execute_reply": "2022-02-28T22:25:21.819626Z"
    },
    "papermill": {
     "duration": 0.063167,
     "end_time": "2022-02-28T22:25:21.821627",
     "exception": false,
     "start_time": "2022-02-28T22:25:21.758460",
     "status": "completed"
    },
    "tags": []
   },
   "outputs": [
    {
     "data": {
      "text/plain": [
       "(6750, 987)"
      ]
     },
     "execution_count": 16,
     "metadata": {},
     "output_type": "execute_result"
    }
   ],
   "source": [
    "multiplier_z.shape"
   ]
  },
  {
   "cell_type": "code",
   "execution_count": 17,
   "id": "5efd6fc7",
   "metadata": {
    "execution": {
     "iopub.execute_input": "2022-02-28T22:25:21.918908Z",
     "iopub.status.busy": "2022-02-28T22:25:21.918691Z",
     "iopub.status.idle": "2022-02-28T22:25:21.958708Z",
     "shell.execute_reply": "2022-02-28T22:25:21.958026Z"
    },
    "papermill": {
     "duration": 0.090009,
     "end_time": "2022-02-28T22:25:21.960338",
     "exception": false,
     "start_time": "2022-02-28T22:25:21.870329",
     "status": "completed"
    },
    "tags": []
   },
   "outputs": [
    {
     "data": {
      "text/html": [
       "<div>\n",
       "<style scoped>\n",
       "    .dataframe tbody tr th:only-of-type {\n",
       "        vertical-align: middle;\n",
       "    }\n",
       "\n",
       "    .dataframe tbody tr th {\n",
       "        vertical-align: top;\n",
       "    }\n",
       "\n",
       "    .dataframe thead th {\n",
       "        text-align: right;\n",
       "    }\n",
       "</style>\n",
       "<table border=\"1\" class=\"dataframe\">\n",
       "  <thead>\n",
       "    <tr style=\"text-align: right;\">\n",
       "      <th></th>\n",
       "      <th>LV1</th>\n",
       "      <th>LV2</th>\n",
       "      <th>LV3</th>\n",
       "      <th>LV4</th>\n",
       "      <th>LV5</th>\n",
       "      <th>LV6</th>\n",
       "      <th>LV7</th>\n",
       "      <th>LV8</th>\n",
       "      <th>LV9</th>\n",
       "      <th>LV10</th>\n",
       "      <th>...</th>\n",
       "      <th>LV978</th>\n",
       "      <th>LV979</th>\n",
       "      <th>LV980</th>\n",
       "      <th>LV981</th>\n",
       "      <th>LV982</th>\n",
       "      <th>LV983</th>\n",
       "      <th>LV984</th>\n",
       "      <th>LV985</th>\n",
       "      <th>LV986</th>\n",
       "      <th>LV987</th>\n",
       "    </tr>\n",
       "  </thead>\n",
       "  <tbody>\n",
       "    <tr>\n",
       "      <th>GAS6</th>\n",
       "      <td>0.000000</td>\n",
       "      <td>0.0</td>\n",
       "      <td>0.039438</td>\n",
       "      <td>0.0</td>\n",
       "      <td>0.050476</td>\n",
       "      <td>0.000000</td>\n",
       "      <td>0.0</td>\n",
       "      <td>0.000000</td>\n",
       "      <td>0.590949</td>\n",
       "      <td>0.000000</td>\n",
       "      <td>...</td>\n",
       "      <td>0.050125</td>\n",
       "      <td>0.00000</td>\n",
       "      <td>0.033407</td>\n",
       "      <td>0.000000</td>\n",
       "      <td>0.000000</td>\n",
       "      <td>0.005963</td>\n",
       "      <td>0.347362</td>\n",
       "      <td>0.0</td>\n",
       "      <td>0.000000</td>\n",
       "      <td>0.000000</td>\n",
       "    </tr>\n",
       "    <tr>\n",
       "      <th>MMP14</th>\n",
       "      <td>0.000000</td>\n",
       "      <td>0.0</td>\n",
       "      <td>0.000000</td>\n",
       "      <td>0.0</td>\n",
       "      <td>0.070072</td>\n",
       "      <td>0.000000</td>\n",
       "      <td>0.0</td>\n",
       "      <td>0.004904</td>\n",
       "      <td>1.720179</td>\n",
       "      <td>2.423595</td>\n",
       "      <td>...</td>\n",
       "      <td>0.000000</td>\n",
       "      <td>0.00000</td>\n",
       "      <td>0.001007</td>\n",
       "      <td>0.000000</td>\n",
       "      <td>0.035747</td>\n",
       "      <td>0.000000</td>\n",
       "      <td>0.000000</td>\n",
       "      <td>0.0</td>\n",
       "      <td>0.014978</td>\n",
       "      <td>0.000000</td>\n",
       "    </tr>\n",
       "    <tr>\n",
       "      <th>DSP</th>\n",
       "      <td>0.000000</td>\n",
       "      <td>0.0</td>\n",
       "      <td>0.000000</td>\n",
       "      <td>0.0</td>\n",
       "      <td>0.000000</td>\n",
       "      <td>0.041697</td>\n",
       "      <td>0.0</td>\n",
       "      <td>0.005718</td>\n",
       "      <td>0.000000</td>\n",
       "      <td>0.000000</td>\n",
       "      <td>...</td>\n",
       "      <td>0.020853</td>\n",
       "      <td>0.00000</td>\n",
       "      <td>0.000000</td>\n",
       "      <td>0.000000</td>\n",
       "      <td>0.000000</td>\n",
       "      <td>0.005774</td>\n",
       "      <td>0.000000</td>\n",
       "      <td>0.0</td>\n",
       "      <td>0.000000</td>\n",
       "      <td>0.416405</td>\n",
       "    </tr>\n",
       "    <tr>\n",
       "      <th>MARCKSL1</th>\n",
       "      <td>0.305212</td>\n",
       "      <td>0.0</td>\n",
       "      <td>0.000000</td>\n",
       "      <td>0.0</td>\n",
       "      <td>0.000000</td>\n",
       "      <td>0.000000</td>\n",
       "      <td>0.0</td>\n",
       "      <td>0.000000</td>\n",
       "      <td>0.161843</td>\n",
       "      <td>0.149471</td>\n",
       "      <td>...</td>\n",
       "      <td>0.027134</td>\n",
       "      <td>0.05272</td>\n",
       "      <td>0.000000</td>\n",
       "      <td>0.030189</td>\n",
       "      <td>0.060884</td>\n",
       "      <td>0.000000</td>\n",
       "      <td>0.000000</td>\n",
       "      <td>0.0</td>\n",
       "      <td>0.000000</td>\n",
       "      <td>0.448480</td>\n",
       "    </tr>\n",
       "    <tr>\n",
       "      <th>SPARC</th>\n",
       "      <td>0.000000</td>\n",
       "      <td>0.0</td>\n",
       "      <td>0.000000</td>\n",
       "      <td>0.0</td>\n",
       "      <td>0.000000</td>\n",
       "      <td>0.000000</td>\n",
       "      <td>0.0</td>\n",
       "      <td>0.000000</td>\n",
       "      <td>0.000000</td>\n",
       "      <td>0.014014</td>\n",
       "      <td>...</td>\n",
       "      <td>0.000000</td>\n",
       "      <td>0.00000</td>\n",
       "      <td>0.000000</td>\n",
       "      <td>0.000000</td>\n",
       "      <td>0.000000</td>\n",
       "      <td>0.000000</td>\n",
       "      <td>0.067779</td>\n",
       "      <td>0.0</td>\n",
       "      <td>0.122417</td>\n",
       "      <td>0.062665</td>\n",
       "    </tr>\n",
       "  </tbody>\n",
       "</table>\n",
       "<p>5 rows × 987 columns</p>\n",
       "</div>"
      ],
      "text/plain": [
       "               LV1  LV2       LV3  LV4       LV5       LV6  LV7       LV8  \\\n",
       "GAS6      0.000000  0.0  0.039438  0.0  0.050476  0.000000  0.0  0.000000   \n",
       "MMP14     0.000000  0.0  0.000000  0.0  0.070072  0.000000  0.0  0.004904   \n",
       "DSP       0.000000  0.0  0.000000  0.0  0.000000  0.041697  0.0  0.005718   \n",
       "MARCKSL1  0.305212  0.0  0.000000  0.0  0.000000  0.000000  0.0  0.000000   \n",
       "SPARC     0.000000  0.0  0.000000  0.0  0.000000  0.000000  0.0  0.000000   \n",
       "\n",
       "               LV9      LV10  ...     LV978    LV979     LV980     LV981  \\\n",
       "GAS6      0.590949  0.000000  ...  0.050125  0.00000  0.033407  0.000000   \n",
       "MMP14     1.720179  2.423595  ...  0.000000  0.00000  0.001007  0.000000   \n",
       "DSP       0.000000  0.000000  ...  0.020853  0.00000  0.000000  0.000000   \n",
       "MARCKSL1  0.161843  0.149471  ...  0.027134  0.05272  0.000000  0.030189   \n",
       "SPARC     0.000000  0.014014  ...  0.000000  0.00000  0.000000  0.000000   \n",
       "\n",
       "             LV982     LV983     LV984  LV985     LV986     LV987  \n",
       "GAS6      0.000000  0.005963  0.347362    0.0  0.000000  0.000000  \n",
       "MMP14     0.035747  0.000000  0.000000    0.0  0.014978  0.000000  \n",
       "DSP       0.000000  0.005774  0.000000    0.0  0.000000  0.416405  \n",
       "MARCKSL1  0.060884  0.000000  0.000000    0.0  0.000000  0.448480  \n",
       "SPARC     0.000000  0.000000  0.067779    0.0  0.122417  0.062665  \n",
       "\n",
       "[5 rows x 987 columns]"
      ]
     },
     "execution_count": 17,
     "metadata": {},
     "output_type": "execute_result"
    }
   ],
   "source": [
    "multiplier_z.head()"
   ]
  },
  {
   "cell_type": "markdown",
   "id": "c2109617",
   "metadata": {
    "papermill": {
     "duration": 0.051825,
     "end_time": "2022-02-28T22:25:22.064081",
     "exception": false,
     "start_time": "2022-02-28T22:25:22.012256",
     "status": "completed"
    },
    "tags": []
   },
   "source": [
    "## 1000G variants metadata"
   ]
  },
  {
   "cell_type": "code",
   "execution_count": 18,
   "id": "f69e80b2",
   "metadata": {
    "execution": {
     "iopub.execute_input": "2022-02-28T22:25:22.162144Z",
     "iopub.status.busy": "2022-02-28T22:25:22.161924Z",
     "iopub.status.idle": "2022-02-28T22:25:22.175196Z",
     "shell.execute_reply": "2022-02-28T22:25:22.174414Z"
    },
    "papermill": {
     "duration": 0.063927,
     "end_time": "2022-02-28T22:25:22.176626",
     "exception": false,
     "start_time": "2022-02-28T22:25:22.112699",
     "status": "completed"
    },
    "tags": []
   },
   "outputs": [
    {
     "data": {
      "text/plain": [
       "PosixPath('/opt/data/data/phenomexcan/ld_blocks/reference_panel_1000G/variant_metadata.parquet')"
      ]
     },
     "metadata": {},
     "output_type": "display_data"
    }
   ],
   "source": [
    "input_file = (\n",
    "    conf.PHENOMEXCAN[\"LD_BLOCKS\"][\"1000G_GENOTYPE_DIR\"] / \"variant_metadata.parquet\"\n",
    ")\n",
    "display(input_file)"
   ]
  },
  {
   "cell_type": "code",
   "execution_count": 19,
   "id": "41e34ee0",
   "metadata": {
    "execution": {
     "iopub.execute_input": "2022-02-28T22:25:22.275323Z",
     "iopub.status.busy": "2022-02-28T22:25:22.275109Z",
     "iopub.status.idle": "2022-02-28T22:25:30.949536Z",
     "shell.execute_reply": "2022-02-28T22:25:30.948826Z"
    },
    "papermill": {
     "duration": 8.725318,
     "end_time": "2022-02-28T22:25:30.951173",
     "exception": false,
     "start_time": "2022-02-28T22:25:22.225855",
     "status": "completed"
    },
    "tags": []
   },
   "outputs": [],
   "source": [
    "variants_metadata = pd.read_parquet(input_file, columns=[\"id\"])"
   ]
  },
  {
   "cell_type": "code",
   "execution_count": 20,
   "id": "81410760",
   "metadata": {
    "execution": {
     "iopub.execute_input": "2022-02-28T22:25:31.052324Z",
     "iopub.status.busy": "2022-02-28T22:25:31.052126Z",
     "iopub.status.idle": "2022-02-28T22:25:31.070672Z",
     "shell.execute_reply": "2022-02-28T22:25:31.070027Z"
    },
    "papermill": {
     "duration": 0.069962,
     "end_time": "2022-02-28T22:25:31.072363",
     "exception": false,
     "start_time": "2022-02-28T22:25:31.002401",
     "status": "completed"
    },
    "tags": []
   },
   "outputs": [
    {
     "data": {
      "text/plain": [
       "(27731498, 1)"
      ]
     },
     "execution_count": 20,
     "metadata": {},
     "output_type": "execute_result"
    }
   ],
   "source": [
    "variants_metadata.shape"
   ]
  },
  {
   "cell_type": "code",
   "execution_count": 21,
   "id": "1d008de7",
   "metadata": {
    "execution": {
     "iopub.execute_input": "2022-02-28T22:25:31.176857Z",
     "iopub.status.busy": "2022-02-28T22:25:31.176639Z",
     "iopub.status.idle": "2022-02-28T22:25:31.194348Z",
     "shell.execute_reply": "2022-02-28T22:25:31.193788Z"
    },
    "papermill": {
     "duration": 0.069464,
     "end_time": "2022-02-28T22:25:31.195780",
     "exception": false,
     "start_time": "2022-02-28T22:25:31.126316",
     "status": "completed"
    },
    "tags": []
   },
   "outputs": [
    {
     "data": {
      "text/html": [
       "<div>\n",
       "<style scoped>\n",
       "    .dataframe tbody tr th:only-of-type {\n",
       "        vertical-align: middle;\n",
       "    }\n",
       "\n",
       "    .dataframe tbody tr th {\n",
       "        vertical-align: top;\n",
       "    }\n",
       "\n",
       "    .dataframe thead th {\n",
       "        text-align: right;\n",
       "    }\n",
       "</style>\n",
       "<table border=\"1\" class=\"dataframe\">\n",
       "  <thead>\n",
       "    <tr style=\"text-align: right;\">\n",
       "      <th></th>\n",
       "      <th>id</th>\n",
       "    </tr>\n",
       "  </thead>\n",
       "  <tbody>\n",
       "    <tr>\n",
       "      <th>0</th>\n",
       "      <td>chr1_17496_AC_A_b38</td>\n",
       "    </tr>\n",
       "    <tr>\n",
       "      <th>1</th>\n",
       "      <td>chr1_54490_G_A_b38</td>\n",
       "    </tr>\n",
       "    <tr>\n",
       "      <th>2</th>\n",
       "      <td>chr1_55330_G_A_b38</td>\n",
       "    </tr>\n",
       "    <tr>\n",
       "      <th>3</th>\n",
       "      <td>chr1_55416_G_A_b38</td>\n",
       "    </tr>\n",
       "    <tr>\n",
       "      <th>4</th>\n",
       "      <td>chr1_62157_G_A_b38</td>\n",
       "    </tr>\n",
       "  </tbody>\n",
       "</table>\n",
       "</div>"
      ],
      "text/plain": [
       "                    id\n",
       "0  chr1_17496_AC_A_b38\n",
       "1   chr1_54490_G_A_b38\n",
       "2   chr1_55330_G_A_b38\n",
       "3   chr1_55416_G_A_b38\n",
       "4   chr1_62157_G_A_b38"
      ]
     },
     "execution_count": 21,
     "metadata": {},
     "output_type": "execute_result"
    }
   ],
   "source": [
    "variants_metadata.head()"
   ]
  },
  {
   "cell_type": "code",
   "execution_count": 22,
   "id": "45bd2164",
   "metadata": {
    "execution": {
     "iopub.execute_input": "2022-02-28T22:25:31.297207Z",
     "iopub.status.busy": "2022-02-28T22:25:31.296981Z",
     "iopub.status.idle": "2022-02-28T22:25:39.464428Z",
     "shell.execute_reply": "2022-02-28T22:25:39.463760Z"
    },
    "papermill": {
     "duration": 8.219547,
     "end_time": "2022-02-28T22:25:39.466156",
     "exception": false,
     "start_time": "2022-02-28T22:25:31.246609",
     "status": "completed"
    },
    "tags": []
   },
   "outputs": [],
   "source": [
    "variants_ids_with_genotype = set(variants_metadata[\"id\"])"
   ]
  },
  {
   "cell_type": "code",
   "execution_count": 23,
   "id": "8f2937d7",
   "metadata": {
    "execution": {
     "iopub.execute_input": "2022-02-28T22:25:39.576305Z",
     "iopub.status.busy": "2022-02-28T22:25:39.576108Z",
     "iopub.status.idle": "2022-02-28T22:25:39.592126Z",
     "shell.execute_reply": "2022-02-28T22:25:39.591489Z"
    },
    "papermill": {
     "duration": 0.068209,
     "end_time": "2022-02-28T22:25:39.593438",
     "exception": false,
     "start_time": "2022-02-28T22:25:39.525229",
     "status": "completed"
    },
    "tags": []
   },
   "outputs": [
    {
     "data": {
      "text/plain": [
       "27731498"
      ]
     },
     "execution_count": 23,
     "metadata": {},
     "output_type": "execute_result"
    }
   ],
   "source": [
    "len(variants_ids_with_genotype)"
   ]
  },
  {
   "cell_type": "code",
   "execution_count": 24,
   "id": "6b160cc3",
   "metadata": {
    "execution": {
     "iopub.execute_input": "2022-02-28T22:25:39.695688Z",
     "iopub.status.busy": "2022-02-28T22:25:39.695496Z",
     "iopub.status.idle": "2022-02-28T22:25:42.528580Z",
     "shell.execute_reply": "2022-02-28T22:25:42.527676Z"
    },
    "papermill": {
     "duration": 2.886408,
     "end_time": "2022-02-28T22:25:42.530916",
     "exception": false,
     "start_time": "2022-02-28T22:25:39.644508",
     "status": "completed"
    },
    "tags": []
   },
   "outputs": [
    {
     "data": {
      "text/plain": [
       "['chr1_203148767_C_T_b38',\n",
       " 'chr5_101741893_G_T_b38',\n",
       " 'chr5_147235562_G_A_b38',\n",
       " 'chr7_121742746_C_G_b38',\n",
       " 'chr8_24511427_A_G_b38',\n",
       " 'chr11_110424325_C_A_b38',\n",
       " 'chr14_69322186_A_G_b38',\n",
       " 'chr21_23076762_T_G_b38',\n",
       " 'chr15_31670819_G_A_b38',\n",
       " 'chr2_31191964_G_A_b38']"
      ]
     },
     "execution_count": 24,
     "metadata": {},
     "output_type": "execute_result"
    }
   ],
   "source": [
    "list(variants_ids_with_genotype)[:10]"
   ]
  },
  {
   "cell_type": "code",
   "execution_count": 25,
   "id": "0a38a43c",
   "metadata": {
    "execution": {
     "iopub.execute_input": "2022-02-28T22:25:42.649917Z",
     "iopub.status.busy": "2022-02-28T22:25:42.649700Z",
     "iopub.status.idle": "2022-02-28T22:25:42.664085Z",
     "shell.execute_reply": "2022-02-28T22:25:42.663562Z"
    },
    "papermill": {
     "duration": 0.067346,
     "end_time": "2022-02-28T22:25:42.665576",
     "exception": false,
     "start_time": "2022-02-28T22:25:42.598230",
     "status": "completed"
    },
    "tags": []
   },
   "outputs": [],
   "source": [
    "del variants_metadata"
   ]
  },
  {
   "cell_type": "markdown",
   "id": "4b7ca4c8",
   "metadata": {
    "papermill": {
     "duration": 0.050352,
     "end_time": "2022-02-28T22:25:42.767262",
     "exception": false,
     "start_time": "2022-02-28T22:25:42.716910",
     "status": "completed"
    },
    "tags": []
   },
   "source": [
    "# How many variants in predictions models are present in 1000G?"
   ]
  },
  {
   "cell_type": "code",
   "execution_count": 26,
   "id": "4e323c11",
   "metadata": {
    "execution": {
     "iopub.execute_input": "2022-02-28T22:25:42.869881Z",
     "iopub.status.busy": "2022-02-28T22:25:42.869665Z",
     "iopub.status.idle": "2022-02-28T22:25:42.885728Z",
     "shell.execute_reply": "2022-02-28T22:25:42.885077Z"
    },
    "papermill": {
     "duration": 0.068494,
     "end_time": "2022-02-28T22:25:42.887047",
     "exception": false,
     "start_time": "2022-02-28T22:25:42.818553",
     "status": "completed"
    },
    "tags": []
   },
   "outputs": [
    {
     "data": {
      "text/plain": [
       "237405"
      ]
     },
     "metadata": {},
     "output_type": "display_data"
    }
   ],
   "source": [
    "n_snps_in_models = len(all_snps_in_models)\n",
    "display(n_snps_in_models)"
   ]
  },
  {
   "cell_type": "code",
   "execution_count": 27,
   "id": "a9ecb68e",
   "metadata": {
    "execution": {
     "iopub.execute_input": "2022-02-28T22:25:42.991149Z",
     "iopub.status.busy": "2022-02-28T22:25:42.990930Z",
     "iopub.status.idle": "2022-02-28T22:25:43.062034Z",
     "shell.execute_reply": "2022-02-28T22:25:43.061286Z"
    },
    "papermill": {
     "duration": 0.125162,
     "end_time": "2022-02-28T22:25:43.064020",
     "exception": false,
     "start_time": "2022-02-28T22:25:42.938858",
     "status": "completed"
    },
    "tags": []
   },
   "outputs": [
    {
     "data": {
      "text/plain": [
       "222720"
      ]
     },
     "metadata": {},
     "output_type": "display_data"
    }
   ],
   "source": [
    "n_snps_in_1000g = len(all_snps_in_models.intersection(variants_ids_with_genotype))\n",
    "display(n_snps_in_1000g)"
   ]
  },
  {
   "cell_type": "code",
   "execution_count": 28,
   "id": "5f2f5991",
   "metadata": {
    "execution": {
     "iopub.execute_input": "2022-02-28T22:25:43.188699Z",
     "iopub.status.busy": "2022-02-28T22:25:43.188480Z",
     "iopub.status.idle": "2022-02-28T22:25:43.204180Z",
     "shell.execute_reply": "2022-02-28T22:25:43.203539Z"
    },
    "papermill": {
     "duration": 0.072183,
     "end_time": "2022-02-28T22:25:43.205693",
     "exception": false,
     "start_time": "2022-02-28T22:25:43.133510",
     "status": "completed"
    },
    "tags": []
   },
   "outputs": [
    {
     "data": {
      "text/plain": [
       "0.9381436785240412"
      ]
     },
     "execution_count": 28,
     "metadata": {},
     "output_type": "execute_result"
    }
   ],
   "source": [
    "n_snps_in_1000g / n_snps_in_models"
   ]
  },
  {
   "cell_type": "markdown",
   "id": "a9a0d07c",
   "metadata": {
    "papermill": {
     "duration": 0.051896,
     "end_time": "2022-02-28T22:25:43.310254",
     "exception": false,
     "start_time": "2022-02-28T22:25:43.258358",
     "status": "completed"
    },
    "tags": []
   },
   "source": [
    "# Get final list of genes in MultiPLIER"
   ]
  },
  {
   "cell_type": "code",
   "execution_count": 29,
   "id": "e9801fec",
   "metadata": {
    "execution": {
     "iopub.execute_input": "2022-02-28T22:25:43.416552Z",
     "iopub.status.busy": "2022-02-28T22:25:43.416259Z",
     "iopub.status.idle": "2022-02-28T22:25:43.437431Z",
     "shell.execute_reply": "2022-02-28T22:25:43.436810Z"
    },
    "papermill": {
     "duration": 0.07624,
     "end_time": "2022-02-28T22:25:43.439050",
     "exception": false,
     "start_time": "2022-02-28T22:25:43.362810",
     "status": "completed"
    },
    "tags": []
   },
   "outputs": [],
   "source": [
    "genes_in_z = [\n",
    "    Gene(name=gene_name).ensembl_id\n",
    "    for gene_name in multiplier_z.index\n",
    "    if gene_name in Gene.GENE_NAME_TO_ID_MAP\n",
    "]"
   ]
  },
  {
   "cell_type": "code",
   "execution_count": 30,
   "id": "4cde8776",
   "metadata": {
    "execution": {
     "iopub.execute_input": "2022-02-28T22:25:43.544779Z",
     "iopub.status.busy": "2022-02-28T22:25:43.544560Z",
     "iopub.status.idle": "2022-02-28T22:25:43.560537Z",
     "shell.execute_reply": "2022-02-28T22:25:43.559850Z"
    },
    "papermill": {
     "duration": 0.070386,
     "end_time": "2022-02-28T22:25:43.562035",
     "exception": false,
     "start_time": "2022-02-28T22:25:43.491649",
     "status": "completed"
    },
    "tags": []
   },
   "outputs": [
    {
     "data": {
      "text/plain": [
       "6454"
      ]
     },
     "execution_count": 30,
     "metadata": {},
     "output_type": "execute_result"
    }
   ],
   "source": [
    "len(genes_in_z)"
   ]
  },
  {
   "cell_type": "code",
   "execution_count": 31,
   "id": "577cf614",
   "metadata": {
    "execution": {
     "iopub.execute_input": "2022-02-28T22:25:43.669381Z",
     "iopub.status.busy": "2022-02-28T22:25:43.668789Z",
     "iopub.status.idle": "2022-02-28T22:25:43.684205Z",
     "shell.execute_reply": "2022-02-28T22:25:43.683717Z"
    },
    "papermill": {
     "duration": 0.070475,
     "end_time": "2022-02-28T22:25:43.685666",
     "exception": false,
     "start_time": "2022-02-28T22:25:43.615191",
     "status": "completed"
    },
    "tags": []
   },
   "outputs": [
    {
     "data": {
      "text/plain": [
       "['ENSG00000183087',\n",
       " 'ENSG00000157227',\n",
       " 'ENSG00000096696',\n",
       " 'ENSG00000175130',\n",
       " 'ENSG00000113140']"
      ]
     },
     "execution_count": 31,
     "metadata": {},
     "output_type": "execute_result"
    }
   ],
   "source": [
    "genes_in_z[:5]"
   ]
  },
  {
   "cell_type": "code",
   "execution_count": 32,
   "id": "3136fc66",
   "metadata": {
    "execution": {
     "iopub.execute_input": "2022-02-28T22:25:43.794853Z",
     "iopub.status.busy": "2022-02-28T22:25:43.794633Z",
     "iopub.status.idle": "2022-02-28T22:25:43.810483Z",
     "shell.execute_reply": "2022-02-28T22:25:43.809916Z"
    },
    "papermill": {
     "duration": 0.071187,
     "end_time": "2022-02-28T22:25:43.812097",
     "exception": false,
     "start_time": "2022-02-28T22:25:43.740910",
     "status": "completed"
    },
    "tags": []
   },
   "outputs": [],
   "source": [
    "genes_in_z = set(genes_in_z)"
   ]
  },
  {
   "cell_type": "code",
   "execution_count": 33,
   "id": "0f1cace8",
   "metadata": {
    "execution": {
     "iopub.execute_input": "2022-02-28T22:25:43.920668Z",
     "iopub.status.busy": "2022-02-28T22:25:43.920448Z",
     "iopub.status.idle": "2022-02-28T22:25:43.936844Z",
     "shell.execute_reply": "2022-02-28T22:25:43.936113Z"
    },
    "papermill": {
     "duration": 0.071545,
     "end_time": "2022-02-28T22:25:43.938195",
     "exception": false,
     "start_time": "2022-02-28T22:25:43.866650",
     "status": "completed"
    },
    "tags": []
   },
   "outputs": [
    {
     "data": {
      "text/plain": [
       "6454"
      ]
     },
     "execution_count": 33,
     "metadata": {},
     "output_type": "execute_result"
    }
   ],
   "source": [
    "len(genes_in_z)"
   ]
  },
  {
   "cell_type": "code",
   "execution_count": 34,
   "id": "b9dc4d3e",
   "metadata": {
    "execution": {
     "iopub.execute_input": "2022-02-28T22:25:44.046787Z",
     "iopub.status.busy": "2022-02-28T22:25:44.046571Z",
     "iopub.status.idle": "2022-02-28T22:25:44.162830Z",
     "shell.execute_reply": "2022-02-28T22:25:44.162167Z"
    },
    "papermill": {
     "duration": 0.171549,
     "end_time": "2022-02-28T22:25:44.164457",
     "exception": false,
     "start_time": "2022-02-28T22:25:43.992908",
     "status": "completed"
    },
    "tags": []
   },
   "outputs": [
    {
     "data": {
      "text/plain": [
       "(1132714, 3)"
      ]
     },
     "metadata": {},
     "output_type": "display_data"
    },
    {
     "data": {
      "text/plain": [
       "(396890, 3)"
      ]
     },
     "metadata": {},
     "output_type": "display_data"
    }
   ],
   "source": [
    "# keep genes in MultiPLIER only\n",
    "display(all_gene_snps.shape)\n",
    "\n",
    "all_gene_snps = all_gene_snps[all_gene_snps[\"gene\"].isin(genes_in_z)]\n",
    "\n",
    "display(all_gene_snps.shape)"
   ]
  },
  {
   "cell_type": "markdown",
   "id": "69e77b6e",
   "metadata": {
    "papermill": {
     "duration": 0.054886,
     "end_time": "2022-02-28T22:25:44.280242",
     "exception": false,
     "start_time": "2022-02-28T22:25:44.225356",
     "status": "completed"
    },
    "tags": []
   },
   "source": [
    "# (For MultiPLIER genes): How many variants in predictions models are present in 1000G?"
   ]
  },
  {
   "cell_type": "code",
   "execution_count": 35,
   "id": "c8a3405c",
   "metadata": {
    "execution": {
     "iopub.execute_input": "2022-02-28T22:25:44.388846Z",
     "iopub.status.busy": "2022-02-28T22:25:44.388625Z",
     "iopub.status.idle": "2022-02-28T22:25:44.497426Z",
     "shell.execute_reply": "2022-02-28T22:25:44.496787Z"
    },
    "papermill": {
     "duration": 0.16484,
     "end_time": "2022-02-28T22:25:44.499060",
     "exception": false,
     "start_time": "2022-02-28T22:25:44.334220",
     "status": "completed"
    },
    "tags": []
   },
   "outputs": [
    {
     "data": {
      "text/plain": [
       "84708"
      ]
     },
     "metadata": {},
     "output_type": "display_data"
    }
   ],
   "source": [
    "all_snps_in_models_multiplier = set(all_gene_snps[\"varID\"])\n",
    "\n",
    "n_snps_in_models = len(all_snps_in_models_multiplier)\n",
    "display(n_snps_in_models)"
   ]
  },
  {
   "cell_type": "code",
   "execution_count": 36,
   "id": "a118deab",
   "metadata": {
    "execution": {
     "iopub.execute_input": "2022-02-28T22:25:44.617558Z",
     "iopub.status.busy": "2022-02-28T22:25:44.617340Z",
     "iopub.status.idle": "2022-02-28T22:25:44.653346Z",
     "shell.execute_reply": "2022-02-28T22:25:44.652631Z"
    },
    "papermill": {
     "duration": 0.093509,
     "end_time": "2022-02-28T22:25:44.654997",
     "exception": false,
     "start_time": "2022-02-28T22:25:44.561488",
     "status": "completed"
    },
    "tags": []
   },
   "outputs": [
    {
     "data": {
      "text/plain": [
       "80339"
      ]
     },
     "metadata": {},
     "output_type": "display_data"
    }
   ],
   "source": [
    "n_snps_in_1000g = len(\n",
    "    all_snps_in_models_multiplier.intersection(variants_ids_with_genotype)\n",
    ")\n",
    "display(n_snps_in_1000g)"
   ]
  },
  {
   "cell_type": "code",
   "execution_count": 37,
   "id": "cb5b96f3",
   "metadata": {
    "execution": {
     "iopub.execute_input": "2022-02-28T22:25:44.776944Z",
     "iopub.status.busy": "2022-02-28T22:25:44.776727Z",
     "iopub.status.idle": "2022-02-28T22:25:44.794430Z",
     "shell.execute_reply": "2022-02-28T22:25:44.793859Z"
    },
    "papermill": {
     "duration": 0.074608,
     "end_time": "2022-02-28T22:25:44.795779",
     "exception": false,
     "start_time": "2022-02-28T22:25:44.721171",
     "status": "completed"
    },
    "tags": []
   },
   "outputs": [
    {
     "data": {
      "text/plain": [
       "0.9484228172073476"
      ]
     },
     "execution_count": 37,
     "metadata": {},
     "output_type": "execute_result"
    }
   ],
   "source": [
    "n_snps_in_1000g / n_snps_in_models"
   ]
  },
  {
   "cell_type": "markdown",
   "id": "dbabf1c1",
   "metadata": {
    "papermill": {
     "duration": 0.054992,
     "end_time": "2022-02-28T22:25:44.906213",
     "exception": false,
     "start_time": "2022-02-28T22:25:44.851221",
     "status": "completed"
    },
    "tags": []
   },
   "source": [
    "## Preprocess SNPs data"
   ]
  },
  {
   "cell_type": "code",
   "execution_count": 38,
   "id": "19838f0a",
   "metadata": {
    "execution": {
     "iopub.execute_input": "2022-02-28T22:25:45.018262Z",
     "iopub.status.busy": "2022-02-28T22:25:45.018057Z",
     "iopub.status.idle": "2022-02-28T22:25:45.157961Z",
     "shell.execute_reply": "2022-02-28T22:25:45.157262Z"
    },
    "papermill": {
     "duration": 0.197926,
     "end_time": "2022-02-28T22:25:45.159768",
     "exception": false,
     "start_time": "2022-02-28T22:25:44.961842",
     "status": "completed"
    },
    "tags": []
   },
   "outputs": [],
   "source": [
    "variants_ld_block_df = all_gene_snps[[\"varID\"]].drop_duplicates()"
   ]
  },
  {
   "cell_type": "code",
   "execution_count": 39,
   "id": "d015b20d",
   "metadata": {
    "execution": {
     "iopub.execute_input": "2022-02-28T22:25:45.283283Z",
     "iopub.status.busy": "2022-02-28T22:25:45.283065Z",
     "iopub.status.idle": "2022-02-28T22:25:45.298971Z",
     "shell.execute_reply": "2022-02-28T22:25:45.298319Z"
    },
    "papermill": {
     "duration": 0.074152,
     "end_time": "2022-02-28T22:25:45.300459",
     "exception": false,
     "start_time": "2022-02-28T22:25:45.226307",
     "status": "completed"
    },
    "tags": []
   },
   "outputs": [
    {
     "data": {
      "text/plain": [
       "(84708, 1)"
      ]
     },
     "execution_count": 39,
     "metadata": {},
     "output_type": "execute_result"
    }
   ],
   "source": [
    "variants_ld_block_df.shape"
   ]
  },
  {
   "cell_type": "code",
   "execution_count": 40,
   "id": "ed4a5faa",
   "metadata": {
    "execution": {
     "iopub.execute_input": "2022-02-28T22:25:45.413648Z",
     "iopub.status.busy": "2022-02-28T22:25:45.413429Z",
     "iopub.status.idle": "2022-02-28T22:25:45.431795Z",
     "shell.execute_reply": "2022-02-28T22:25:45.431106Z"
    },
    "papermill": {
     "duration": 0.076845,
     "end_time": "2022-02-28T22:25:45.433357",
     "exception": false,
     "start_time": "2022-02-28T22:25:45.356512",
     "status": "completed"
    },
    "tags": []
   },
   "outputs": [
    {
     "data": {
      "text/html": [
       "<div>\n",
       "<style scoped>\n",
       "    .dataframe tbody tr th:only-of-type {\n",
       "        vertical-align: middle;\n",
       "    }\n",
       "\n",
       "    .dataframe tbody tr th {\n",
       "        vertical-align: top;\n",
       "    }\n",
       "\n",
       "    .dataframe thead th {\n",
       "        text-align: right;\n",
       "    }\n",
       "</style>\n",
       "<table border=\"1\" class=\"dataframe\">\n",
       "  <thead>\n",
       "    <tr style=\"text-align: right;\">\n",
       "      <th></th>\n",
       "      <th>varID</th>\n",
       "    </tr>\n",
       "  </thead>\n",
       "  <tbody>\n",
       "    <tr>\n",
       "      <th>0</th>\n",
       "      <td>chr9_136996001_G_A_b38</td>\n",
       "    </tr>\n",
       "    <tr>\n",
       "      <th>1</th>\n",
       "      <td>chr9_137029055_C_CA_b38</td>\n",
       "    </tr>\n",
       "    <tr>\n",
       "      <th>2</th>\n",
       "      <td>chr9_137029407_T_G_b38</td>\n",
       "    </tr>\n",
       "    <tr>\n",
       "      <th>10</th>\n",
       "      <td>chr9_137084985_C_T_b38</td>\n",
       "    </tr>\n",
       "    <tr>\n",
       "      <th>11</th>\n",
       "      <td>chr9_137102549_TACAC_T_b38</td>\n",
       "    </tr>\n",
       "  </tbody>\n",
       "</table>\n",
       "</div>"
      ],
      "text/plain": [
       "                         varID\n",
       "0       chr9_136996001_G_A_b38\n",
       "1      chr9_137029055_C_CA_b38\n",
       "2       chr9_137029407_T_G_b38\n",
       "10      chr9_137084985_C_T_b38\n",
       "11  chr9_137102549_TACAC_T_b38"
      ]
     },
     "execution_count": 40,
     "metadata": {},
     "output_type": "execute_result"
    }
   ],
   "source": [
    "variants_ld_block_df.head()"
   ]
  },
  {
   "cell_type": "code",
   "execution_count": 41,
   "id": "3557d870",
   "metadata": {
    "execution": {
     "iopub.execute_input": "2022-02-28T22:25:45.546886Z",
     "iopub.status.busy": "2022-02-28T22:25:45.546669Z",
     "iopub.status.idle": "2022-02-28T22:25:52.837972Z",
     "shell.execute_reply": "2022-02-28T22:25:52.837266Z"
    },
    "papermill": {
     "duration": 7.349496,
     "end_time": "2022-02-28T22:25:52.839803",
     "exception": false,
     "start_time": "2022-02-28T22:25:45.490307",
     "status": "completed"
    },
    "tags": []
   },
   "outputs": [],
   "source": [
    "variants_info = variants_ld_block_df[\"varID\"].str.split(\"_\", expand=True)"
   ]
  },
  {
   "cell_type": "code",
   "execution_count": 42,
   "id": "bd49aa4c",
   "metadata": {
    "execution": {
     "iopub.execute_input": "2022-02-28T22:25:52.962219Z",
     "iopub.status.busy": "2022-02-28T22:25:52.962000Z",
     "iopub.status.idle": "2022-02-28T22:25:52.978251Z",
     "shell.execute_reply": "2022-02-28T22:25:52.977636Z"
    },
    "papermill": {
     "duration": 0.075557,
     "end_time": "2022-02-28T22:25:52.979633",
     "exception": false,
     "start_time": "2022-02-28T22:25:52.904076",
     "status": "completed"
    },
    "tags": []
   },
   "outputs": [
    {
     "data": {
      "text/plain": [
       "(84708, 5)"
      ]
     },
     "execution_count": 42,
     "metadata": {},
     "output_type": "execute_result"
    }
   ],
   "source": [
    "variants_info.shape"
   ]
  },
  {
   "cell_type": "code",
   "execution_count": 43,
   "id": "7e2b7606",
   "metadata": {
    "execution": {
     "iopub.execute_input": "2022-02-28T22:25:53.096121Z",
     "iopub.status.busy": "2022-02-28T22:25:53.095378Z",
     "iopub.status.idle": "2022-02-28T22:25:53.110362Z",
     "shell.execute_reply": "2022-02-28T22:25:53.109811Z"
    },
    "papermill": {
     "duration": 0.074054,
     "end_time": "2022-02-28T22:25:53.111883",
     "exception": false,
     "start_time": "2022-02-28T22:25:53.037829",
     "status": "completed"
    },
    "tags": []
   },
   "outputs": [],
   "source": [
    "assert variants_ld_block_df.shape[0] == variants_info.shape[0]"
   ]
  },
  {
   "cell_type": "code",
   "execution_count": 44,
   "id": "048abd7f",
   "metadata": {
    "execution": {
     "iopub.execute_input": "2022-02-28T22:25:53.230742Z",
     "iopub.status.busy": "2022-02-28T22:25:53.230522Z",
     "iopub.status.idle": "2022-02-28T22:25:53.280693Z",
     "shell.execute_reply": "2022-02-28T22:25:53.280007Z"
    },
    "papermill": {
     "duration": 0.110787,
     "end_time": "2022-02-28T22:25:53.282573",
     "exception": false,
     "start_time": "2022-02-28T22:25:53.171786",
     "status": "completed"
    },
    "tags": []
   },
   "outputs": [],
   "source": [
    "variants_ld_block_df = variants_ld_block_df.join(variants_info)[[\"varID\", 0, 1, 2, 3]]"
   ]
  },
  {
   "cell_type": "code",
   "execution_count": 45,
   "id": "5bfb6a7a",
   "metadata": {
    "execution": {
     "iopub.execute_input": "2022-02-28T22:25:53.409240Z",
     "iopub.status.busy": "2022-02-28T22:25:53.409008Z",
     "iopub.status.idle": "2022-02-28T22:25:53.423920Z",
     "shell.execute_reply": "2022-02-28T22:25:53.423361Z"
    },
    "papermill": {
     "duration": 0.07376,
     "end_time": "2022-02-28T22:25:53.425406",
     "exception": false,
     "start_time": "2022-02-28T22:25:53.351646",
     "status": "completed"
    },
    "tags": []
   },
   "outputs": [],
   "source": [
    "assert variants_ld_block_df.shape[0] == variants_info.shape[0]"
   ]
  },
  {
   "cell_type": "code",
   "execution_count": 46,
   "id": "4d8cf1da",
   "metadata": {
    "execution": {
     "iopub.execute_input": "2022-02-28T22:25:53.541778Z",
     "iopub.status.busy": "2022-02-28T22:25:53.541559Z",
     "iopub.status.idle": "2022-02-28T22:25:53.561457Z",
     "shell.execute_reply": "2022-02-28T22:25:53.560706Z"
    },
    "papermill": {
     "duration": 0.078839,
     "end_time": "2022-02-28T22:25:53.562929",
     "exception": false,
     "start_time": "2022-02-28T22:25:53.484090",
     "status": "completed"
    },
    "tags": []
   },
   "outputs": [
    {
     "data": {
      "text/html": [
       "<div>\n",
       "<style scoped>\n",
       "    .dataframe tbody tr th:only-of-type {\n",
       "        vertical-align: middle;\n",
       "    }\n",
       "\n",
       "    .dataframe tbody tr th {\n",
       "        vertical-align: top;\n",
       "    }\n",
       "\n",
       "    .dataframe thead th {\n",
       "        text-align: right;\n",
       "    }\n",
       "</style>\n",
       "<table border=\"1\" class=\"dataframe\">\n",
       "  <thead>\n",
       "    <tr style=\"text-align: right;\">\n",
       "      <th></th>\n",
       "      <th>varID</th>\n",
       "      <th>0</th>\n",
       "      <th>1</th>\n",
       "      <th>2</th>\n",
       "      <th>3</th>\n",
       "    </tr>\n",
       "  </thead>\n",
       "  <tbody>\n",
       "    <tr>\n",
       "      <th>0</th>\n",
       "      <td>chr9_136996001_G_A_b38</td>\n",
       "      <td>chr9</td>\n",
       "      <td>136996001</td>\n",
       "      <td>G</td>\n",
       "      <td>A</td>\n",
       "    </tr>\n",
       "    <tr>\n",
       "      <th>1</th>\n",
       "      <td>chr9_137029055_C_CA_b38</td>\n",
       "      <td>chr9</td>\n",
       "      <td>137029055</td>\n",
       "      <td>C</td>\n",
       "      <td>CA</td>\n",
       "    </tr>\n",
       "    <tr>\n",
       "      <th>2</th>\n",
       "      <td>chr9_137029407_T_G_b38</td>\n",
       "      <td>chr9</td>\n",
       "      <td>137029407</td>\n",
       "      <td>T</td>\n",
       "      <td>G</td>\n",
       "    </tr>\n",
       "    <tr>\n",
       "      <th>10</th>\n",
       "      <td>chr9_137084985_C_T_b38</td>\n",
       "      <td>chr9</td>\n",
       "      <td>137084985</td>\n",
       "      <td>C</td>\n",
       "      <td>T</td>\n",
       "    </tr>\n",
       "    <tr>\n",
       "      <th>11</th>\n",
       "      <td>chr9_137102549_TACAC_T_b38</td>\n",
       "      <td>chr9</td>\n",
       "      <td>137102549</td>\n",
       "      <td>TACAC</td>\n",
       "      <td>T</td>\n",
       "    </tr>\n",
       "  </tbody>\n",
       "</table>\n",
       "</div>"
      ],
      "text/plain": [
       "                         varID     0          1      2   3\n",
       "0       chr9_136996001_G_A_b38  chr9  136996001      G   A\n",
       "1      chr9_137029055_C_CA_b38  chr9  137029055      C  CA\n",
       "2       chr9_137029407_T_G_b38  chr9  137029407      T   G\n",
       "10      chr9_137084985_C_T_b38  chr9  137084985      C   T\n",
       "11  chr9_137102549_TACAC_T_b38  chr9  137102549  TACAC   T"
      ]
     },
     "execution_count": 46,
     "metadata": {},
     "output_type": "execute_result"
    }
   ],
   "source": [
    "variants_ld_block_df.head()"
   ]
  },
  {
   "cell_type": "code",
   "execution_count": 47,
   "id": "47448229",
   "metadata": {
    "execution": {
     "iopub.execute_input": "2022-02-28T22:25:53.680430Z",
     "iopub.status.busy": "2022-02-28T22:25:53.680156Z",
     "iopub.status.idle": "2022-02-28T22:25:53.699545Z",
     "shell.execute_reply": "2022-02-28T22:25:53.698966Z"
    },
    "papermill": {
     "duration": 0.079733,
     "end_time": "2022-02-28T22:25:53.701263",
     "exception": false,
     "start_time": "2022-02-28T22:25:53.621530",
     "status": "completed"
    },
    "tags": []
   },
   "outputs": [],
   "source": [
    "variants_ld_block_df = variants_ld_block_df.rename(\n",
    "    columns={\n",
    "        0: \"chr\",\n",
    "        1: \"position\",\n",
    "        2: \"ref_allele\",\n",
    "        3: \"eff_allele\",\n",
    "    }\n",
    ")"
   ]
  },
  {
   "cell_type": "code",
   "execution_count": 48,
   "id": "3beadcf8",
   "metadata": {
    "execution": {
     "iopub.execute_input": "2022-02-28T22:25:53.820854Z",
     "iopub.status.busy": "2022-02-28T22:25:53.820636Z",
     "iopub.status.idle": "2022-02-28T22:25:53.877348Z",
     "shell.execute_reply": "2022-02-28T22:25:53.876685Z"
    },
    "papermill": {
     "duration": 0.116917,
     "end_time": "2022-02-28T22:25:53.879124",
     "exception": false,
     "start_time": "2022-02-28T22:25:53.762207",
     "status": "completed"
    },
    "tags": []
   },
   "outputs": [],
   "source": [
    "variants_ld_block_df[\"chr\"] = variants_ld_block_df[\"chr\"].apply(lambda x: int(x[3:]))"
   ]
  },
  {
   "cell_type": "code",
   "execution_count": 49,
   "id": "b18c25c1",
   "metadata": {
    "execution": {
     "iopub.execute_input": "2022-02-28T22:25:54.001864Z",
     "iopub.status.busy": "2022-02-28T22:25:54.001634Z",
     "iopub.status.idle": "2022-02-28T22:25:54.027749Z",
     "shell.execute_reply": "2022-02-28T22:25:54.027175Z"
    },
    "papermill": {
     "duration": 0.086795,
     "end_time": "2022-02-28T22:25:54.029434",
     "exception": false,
     "start_time": "2022-02-28T22:25:53.942639",
     "status": "completed"
    },
    "tags": []
   },
   "outputs": [],
   "source": [
    "variants_ld_block_df[\"position\"] = variants_ld_block_df[\"position\"].astype(int)"
   ]
  },
  {
   "cell_type": "code",
   "execution_count": 50,
   "id": "13af12ae",
   "metadata": {
    "execution": {
     "iopub.execute_input": "2022-02-28T22:25:54.154994Z",
     "iopub.status.busy": "2022-02-28T22:25:54.153662Z",
     "iopub.status.idle": "2022-02-28T22:25:54.171478Z",
     "shell.execute_reply": "2022-02-28T22:25:54.170929Z"
    },
    "papermill": {
     "duration": 0.079445,
     "end_time": "2022-02-28T22:25:54.172947",
     "exception": false,
     "start_time": "2022-02-28T22:25:54.093502",
     "status": "completed"
    },
    "tags": []
   },
   "outputs": [
    {
     "data": {
      "text/plain": [
       "(84708, 5)"
      ]
     },
     "execution_count": 50,
     "metadata": {},
     "output_type": "execute_result"
    }
   ],
   "source": [
    "variants_ld_block_df.shape"
   ]
  },
  {
   "cell_type": "code",
   "execution_count": 51,
   "id": "431d8602",
   "metadata": {
    "execution": {
     "iopub.execute_input": "2022-02-28T22:25:54.292960Z",
     "iopub.status.busy": "2022-02-28T22:25:54.292728Z",
     "iopub.status.idle": "2022-02-28T22:25:54.312644Z",
     "shell.execute_reply": "2022-02-28T22:25:54.311911Z"
    },
    "papermill": {
     "duration": 0.079964,
     "end_time": "2022-02-28T22:25:54.314109",
     "exception": false,
     "start_time": "2022-02-28T22:25:54.234145",
     "status": "completed"
    },
    "tags": []
   },
   "outputs": [
    {
     "data": {
      "text/html": [
       "<div>\n",
       "<style scoped>\n",
       "    .dataframe tbody tr th:only-of-type {\n",
       "        vertical-align: middle;\n",
       "    }\n",
       "\n",
       "    .dataframe tbody tr th {\n",
       "        vertical-align: top;\n",
       "    }\n",
       "\n",
       "    .dataframe thead th {\n",
       "        text-align: right;\n",
       "    }\n",
       "</style>\n",
       "<table border=\"1\" class=\"dataframe\">\n",
       "  <thead>\n",
       "    <tr style=\"text-align: right;\">\n",
       "      <th></th>\n",
       "      <th>varID</th>\n",
       "      <th>chr</th>\n",
       "      <th>position</th>\n",
       "      <th>ref_allele</th>\n",
       "      <th>eff_allele</th>\n",
       "    </tr>\n",
       "  </thead>\n",
       "  <tbody>\n",
       "    <tr>\n",
       "      <th>0</th>\n",
       "      <td>chr9_136996001_G_A_b38</td>\n",
       "      <td>9</td>\n",
       "      <td>136996001</td>\n",
       "      <td>G</td>\n",
       "      <td>A</td>\n",
       "    </tr>\n",
       "    <tr>\n",
       "      <th>1</th>\n",
       "      <td>chr9_137029055_C_CA_b38</td>\n",
       "      <td>9</td>\n",
       "      <td>137029055</td>\n",
       "      <td>C</td>\n",
       "      <td>CA</td>\n",
       "    </tr>\n",
       "    <tr>\n",
       "      <th>2</th>\n",
       "      <td>chr9_137029407_T_G_b38</td>\n",
       "      <td>9</td>\n",
       "      <td>137029407</td>\n",
       "      <td>T</td>\n",
       "      <td>G</td>\n",
       "    </tr>\n",
       "    <tr>\n",
       "      <th>10</th>\n",
       "      <td>chr9_137084985_C_T_b38</td>\n",
       "      <td>9</td>\n",
       "      <td>137084985</td>\n",
       "      <td>C</td>\n",
       "      <td>T</td>\n",
       "    </tr>\n",
       "    <tr>\n",
       "      <th>11</th>\n",
       "      <td>chr9_137102549_TACAC_T_b38</td>\n",
       "      <td>9</td>\n",
       "      <td>137102549</td>\n",
       "      <td>TACAC</td>\n",
       "      <td>T</td>\n",
       "    </tr>\n",
       "  </tbody>\n",
       "</table>\n",
       "</div>"
      ],
      "text/plain": [
       "                         varID  chr   position ref_allele eff_allele\n",
       "0       chr9_136996001_G_A_b38    9  136996001          G          A\n",
       "1      chr9_137029055_C_CA_b38    9  137029055          C         CA\n",
       "2       chr9_137029407_T_G_b38    9  137029407          T          G\n",
       "10      chr9_137084985_C_T_b38    9  137084985          C          T\n",
       "11  chr9_137102549_TACAC_T_b38    9  137102549      TACAC          T"
      ]
     },
     "execution_count": 51,
     "metadata": {},
     "output_type": "execute_result"
    }
   ],
   "source": [
    "variants_ld_block_df.head()"
   ]
  },
  {
   "cell_type": "code",
   "execution_count": 52,
   "id": "35fc8e6d",
   "metadata": {
    "execution": {
     "iopub.execute_input": "2022-02-28T22:25:54.432775Z",
     "iopub.status.busy": "2022-02-28T22:25:54.432250Z",
     "iopub.status.idle": "2022-02-28T22:25:54.448641Z",
     "shell.execute_reply": "2022-02-28T22:25:54.447906Z"
    },
    "papermill": {
     "duration": 0.077434,
     "end_time": "2022-02-28T22:25:54.450140",
     "exception": false,
     "start_time": "2022-02-28T22:25:54.372706",
     "status": "completed"
    },
    "tags": []
   },
   "outputs": [
    {
     "data": {
      "text/plain": [
       "varID         object\n",
       "chr            int64\n",
       "position       int64\n",
       "ref_allele    object\n",
       "eff_allele    object\n",
       "dtype: object"
      ]
     },
     "execution_count": 52,
     "metadata": {},
     "output_type": "execute_result"
    }
   ],
   "source": [
    "variants_ld_block_df.dtypes"
   ]
  },
  {
   "cell_type": "markdown",
   "id": "ec84177c",
   "metadata": {
    "papermill": {
     "duration": 0.058982,
     "end_time": "2022-02-28T22:25:54.570131",
     "exception": false,
     "start_time": "2022-02-28T22:25:54.511149",
     "status": "completed"
    },
    "tags": []
   },
   "source": [
    "# Covariance for each chromosome block"
   ]
  },
  {
   "cell_type": "markdown",
   "id": "d43e1890",
   "metadata": {
    "papermill": {
     "duration": 0.059162,
     "end_time": "2022-02-28T22:25:54.688799",
     "exception": false,
     "start_time": "2022-02-28T22:25:54.629637",
     "status": "completed"
    },
    "tags": []
   },
   "source": [
    "## Functions"
   ]
  },
  {
   "cell_type": "code",
   "execution_count": 53,
   "id": "394c6b4d",
   "metadata": {
    "execution": {
     "iopub.execute_input": "2022-02-28T22:25:54.808408Z",
     "iopub.status.busy": "2022-02-28T22:25:54.808166Z",
     "iopub.status.idle": "2022-02-28T22:25:54.823580Z",
     "shell.execute_reply": "2022-02-28T22:25:54.822936Z"
    },
    "papermill": {
     "duration": 0.076674,
     "end_time": "2022-02-28T22:25:54.825184",
     "exception": false,
     "start_time": "2022-02-28T22:25:54.748510",
     "status": "completed"
    },
    "tags": []
   },
   "outputs": [],
   "source": [
    "def covariance(df, dtype):\n",
    "    n = df.shape[0]\n",
    "    df = df.sub(df.mean(), axis=1).astype(dtype)\n",
    "    return df.T.dot(df) / (n - 1)"
   ]
  },
  {
   "cell_type": "code",
   "execution_count": 54,
   "id": "ed702fd0",
   "metadata": {
    "execution": {
     "iopub.execute_input": "2022-02-28T22:25:54.946140Z",
     "iopub.status.busy": "2022-02-28T22:25:54.945922Z",
     "iopub.status.idle": "2022-02-28T22:25:54.999295Z",
     "shell.execute_reply": "2022-02-28T22:25:54.998703Z"
    },
    "papermill": {
     "duration": 0.116186,
     "end_time": "2022-02-28T22:25:55.001028",
     "exception": false,
     "start_time": "2022-02-28T22:25:54.884842",
     "status": "completed"
    },
    "tags": []
   },
   "outputs": [],
   "source": [
    "# testing\n",
    "rs = np.random.RandomState(0)\n",
    "\n",
    "_test_data = pd.DataFrame(rs.normal(size=(50, 5)), columns=[f\"c{i}\" for i in range(5)])\n",
    "\n",
    "# float64\n",
    "pd.testing.assert_frame_equal(\n",
    "    covariance(_test_data, np.float64),\n",
    "    _test_data.cov(),\n",
    "    rtol=1e-10,\n",
    "    atol=1e-10,\n",
    "    check_dtype=True,\n",
    ")\n",
    "\n",
    "# float32\n",
    "pd.testing.assert_frame_equal(\n",
    "    covariance(_test_data, np.float32),\n",
    "    _test_data.cov(),\n",
    "    rtol=1e-5,\n",
    "    atol=1e-8,\n",
    "    check_dtype=False,\n",
    ")\n",
    "\n",
    "del _test_data"
   ]
  },
  {
   "cell_type": "code",
   "execution_count": 55,
   "id": "417717ae",
   "metadata": {
    "execution": {
     "iopub.execute_input": "2022-02-28T22:25:55.123048Z",
     "iopub.status.busy": "2022-02-28T22:25:55.122828Z",
     "iopub.status.idle": "2022-02-28T22:25:55.140665Z",
     "shell.execute_reply": "2022-02-28T22:25:55.140052Z"
    },
    "lines_to_next_cell": 2,
    "papermill": {
     "duration": 0.080544,
     "end_time": "2022-02-28T22:25:55.142167",
     "exception": false,
     "start_time": "2022-02-28T22:25:55.061623",
     "status": "completed"
    },
    "tags": []
   },
   "outputs": [],
   "source": [
    "def compute_snps_cov(snps_df):\n",
    "    assert snps_df[\"chr\"].unique().shape[0] == 1\n",
    "    chromosome = snps_df[\"chr\"].unique()[0]\n",
    "\n",
    "    # keep variants only present in genotype\n",
    "    snps_ids = list(set(snps_df[\"varID\"]).intersection(variants_ids_with_genotype))\n",
    "\n",
    "    chromosome_file = (\n",
    "        conf.PHENOMEXCAN[\"LD_BLOCKS\"][\"1000G_GENOTYPE_DIR\"]\n",
    "        / f\"chr{chromosome}.variants.parquet\"\n",
    "    )\n",
    "    snps_genotypes = pd.read_parquet(chromosome_file, columns=snps_ids)\n",
    "\n",
    "    return covariance(snps_genotypes, COV_DTYPE)\n",
    "\n",
    "\n",
    "#     return snps_genotypes.cov()"
   ]
  },
  {
   "cell_type": "code",
   "execution_count": 56,
   "id": "db4aed3c",
   "metadata": {
    "execution": {
     "iopub.execute_input": "2022-02-28T22:25:55.267378Z",
     "iopub.status.busy": "2022-02-28T22:25:55.267158Z",
     "iopub.status.idle": "2022-02-28T22:25:55.291337Z",
     "shell.execute_reply": "2022-02-28T22:25:55.290811Z"
    },
    "papermill": {
     "duration": 0.086489,
     "end_time": "2022-02-28T22:25:55.292853",
     "exception": false,
     "start_time": "2022-02-28T22:25:55.206364",
     "status": "completed"
    },
    "tags": []
   },
   "outputs": [],
   "source": [
    "# testing\n",
    "_tmp_snps = variants_ld_block_df[variants_ld_block_df[\"chr\"] == 22]\n",
    "assert _tmp_snps.shape[0] > 0"
   ]
  },
  {
   "cell_type": "code",
   "execution_count": 57,
   "id": "db520e6e",
   "metadata": {
    "execution": {
     "iopub.execute_input": "2022-02-28T22:25:55.415904Z",
     "iopub.status.busy": "2022-02-28T22:25:55.415687Z",
     "iopub.status.idle": "2022-02-28T22:25:55.432716Z",
     "shell.execute_reply": "2022-02-28T22:25:55.432157Z"
    },
    "papermill": {
     "duration": 0.079366,
     "end_time": "2022-02-28T22:25:55.434027",
     "exception": false,
     "start_time": "2022-02-28T22:25:55.354661",
     "status": "completed"
    },
    "tags": []
   },
   "outputs": [
    {
     "data": {
      "text/plain": [
       "(2687, 5)"
      ]
     },
     "execution_count": 57,
     "metadata": {},
     "output_type": "execute_result"
    }
   ],
   "source": [
    "_tmp_snps.shape"
   ]
  },
  {
   "cell_type": "code",
   "execution_count": 58,
   "id": "7f7bb541",
   "metadata": {
    "execution": {
     "iopub.execute_input": "2022-02-28T22:25:55.556630Z",
     "iopub.status.busy": "2022-02-28T22:25:55.556384Z",
     "iopub.status.idle": "2022-02-28T22:25:55.573785Z",
     "shell.execute_reply": "2022-02-28T22:25:55.573042Z"
    },
    "papermill": {
     "duration": 0.079834,
     "end_time": "2022-02-28T22:25:55.575213",
     "exception": false,
     "start_time": "2022-02-28T22:25:55.495379",
     "status": "completed"
    },
    "tags": []
   },
   "outputs": [
    {
     "data": {
      "text/plain": [
       "2484"
      ]
     },
     "metadata": {},
     "output_type": "display_data"
    }
   ],
   "source": [
    "n_expected = len(set(_tmp_snps[\"varID\"]).intersection(variants_ids_with_genotype))\n",
    "display(n_expected)"
   ]
  },
  {
   "cell_type": "code",
   "execution_count": 59,
   "id": "f9de93c0",
   "metadata": {
    "execution": {
     "iopub.execute_input": "2022-02-28T22:25:55.697723Z",
     "iopub.status.busy": "2022-02-28T22:25:55.697506Z",
     "iopub.status.idle": "2022-02-28T22:26:54.976786Z",
     "shell.execute_reply": "2022-02-28T22:26:54.976204Z"
    },
    "papermill": {
     "duration": 59.342112,
     "end_time": "2022-02-28T22:26:54.978319",
     "exception": false,
     "start_time": "2022-02-28T22:25:55.636207",
     "status": "completed"
    },
    "tags": []
   },
   "outputs": [],
   "source": [
    "_tmp = compute_snps_cov(_tmp_snps)"
   ]
  },
  {
   "cell_type": "code",
   "execution_count": 60,
   "id": "46ab35a8",
   "metadata": {
    "execution": {
     "iopub.execute_input": "2022-02-28T22:26:55.104760Z",
     "iopub.status.busy": "2022-02-28T22:26:55.104540Z",
     "iopub.status.idle": "2022-02-28T22:26:55.126759Z",
     "shell.execute_reply": "2022-02-28T22:26:55.126268Z"
    },
    "papermill": {
     "duration": 0.085199,
     "end_time": "2022-02-28T22:26:55.128135",
     "exception": false,
     "start_time": "2022-02-28T22:26:55.042936",
     "status": "completed"
    },
    "tags": []
   },
   "outputs": [],
   "source": [
    "assert _tmp.shape == (n_expected, n_expected)\n",
    "assert not _tmp.isna().any().any()"
   ]
  },
  {
   "cell_type": "code",
   "execution_count": 61,
   "id": "9320eeb4",
   "metadata": {
    "execution": {
     "iopub.execute_input": "2022-02-28T22:26:55.251977Z",
     "iopub.status.busy": "2022-02-28T22:26:55.251748Z",
     "iopub.status.idle": "2022-02-28T22:26:55.267087Z",
     "shell.execute_reply": "2022-02-28T22:26:55.266603Z"
    },
    "papermill": {
     "duration": 0.078943,
     "end_time": "2022-02-28T22:26:55.268631",
     "exception": false,
     "start_time": "2022-02-28T22:26:55.189688",
     "status": "completed"
    },
    "tags": []
   },
   "outputs": [],
   "source": [
    "del _tmp_snps, _tmp"
   ]
  },
  {
   "cell_type": "markdown",
   "id": "1264f97f",
   "metadata": {
    "papermill": {
     "duration": 0.06179,
     "end_time": "2022-02-28T22:26:55.391909",
     "exception": false,
     "start_time": "2022-02-28T22:26:55.330119",
     "status": "completed"
    },
    "tags": []
   },
   "source": [
    "## Compute covariance and save"
   ]
  },
  {
   "cell_type": "code",
   "execution_count": 62,
   "id": "b938ae8a",
   "metadata": {
    "execution": {
     "iopub.execute_input": "2022-02-28T22:26:55.518278Z",
     "iopub.status.busy": "2022-02-28T22:26:55.518059Z",
     "iopub.status.idle": "2022-02-28T22:26:55.534843Z",
     "shell.execute_reply": "2022-02-28T22:26:55.534053Z"
    },
    "papermill": {
     "duration": 0.07999,
     "end_time": "2022-02-28T22:26:55.536259",
     "exception": false,
     "start_time": "2022-02-28T22:26:55.456269",
     "status": "completed"
    },
    "tags": []
   },
   "outputs": [
    {
     "data": {
      "text/plain": [
       "PosixPath('/opt/data/data/phenomexcan/ld_blocks/mashr_snps_chr_blocks_cov.h5')"
      ]
     },
     "metadata": {},
     "output_type": "display_data"
    }
   ],
   "source": [
    "output_file = conf.PHENOMEXCAN[\"LD_BLOCKS\"][EQTL_MODEL][\"SNPS_COVARIANCE_FILE\"]\n",
    "display(output_file)"
   ]
  },
  {
   "cell_type": "code",
   "execution_count": 63,
   "id": "8953db89",
   "metadata": {
    "execution": {
     "iopub.execute_input": "2022-02-28T22:26:55.660614Z",
     "iopub.status.busy": "2022-02-28T22:26:55.660291Z",
     "iopub.status.idle": "2022-02-28T23:33:31.412074Z",
     "shell.execute_reply": "2022-02-28T23:33:31.411267Z"
    },
    "papermill": {
     "duration": 3995.900752,
     "end_time": "2022-02-28T23:33:31.498836",
     "exception": false,
     "start_time": "2022-02-28T22:26:55.598084",
     "status": "completed"
    },
    "tags": []
   },
   "outputs": [
    {
     "name": "stderr",
     "output_type": "stream",
     "text": [
      "22 (2687, 5): 100%|██████████████████████████████████████████████| 22/22 [1:06:35<00:00, 181.62s/it]\n"
     ]
    }
   ],
   "source": [
    "with pd.HDFStore(output_file, mode=\"w\", complevel=4) as store:\n",
    "    pbar = tqdm(\n",
    "        variants_ld_block_df.groupby(\"chr\"),\n",
    "        ncols=100,\n",
    "        total=variants_ld_block_df[\"chr\"].unique().shape[0],\n",
    "    )\n",
    "\n",
    "    store[\"metadata\"] = variants_ld_block_df\n",
    "\n",
    "    for grp_name, grp_data in pbar:\n",
    "        pbar.set_description(f\"{grp_name} {grp_data.shape}\")\n",
    "        snps_cov = compute_snps_cov(grp_data)  # .astype(COV_DTYPE)\n",
    "        assert not snps_cov.isna().any().any()\n",
    "        store[f\"chr{grp_name}\"] = snps_cov\n",
    "\n",
    "        del snps_cov\n",
    "        store.flush()\n",
    "\n",
    "        gc.collect()"
   ]
  },
  {
   "cell_type": "markdown",
   "id": "1de34e70",
   "metadata": {
    "papermill": {
     "duration": 0.073891,
     "end_time": "2022-02-28T23:33:31.646093",
     "exception": false,
     "start_time": "2022-02-28T23:33:31.572202",
     "status": "completed"
    },
    "tags": []
   },
   "source": [
    "# Testing"
   ]
  },
  {
   "cell_type": "code",
   "execution_count": 64,
   "id": "54fc512c",
   "metadata": {
    "execution": {
     "iopub.execute_input": "2022-02-28T23:33:31.794390Z",
     "iopub.status.busy": "2022-02-28T23:33:31.793850Z",
     "iopub.status.idle": "2022-02-28T23:33:31.810584Z",
     "shell.execute_reply": "2022-02-28T23:33:31.809993Z"
    },
    "papermill": {
     "duration": 0.092878,
     "end_time": "2022-02-28T23:33:31.812221",
     "exception": false,
     "start_time": "2022-02-28T23:33:31.719343",
     "status": "completed"
    },
    "tags": []
   },
   "outputs": [],
   "source": [
    "_tmp = variants_ld_block_df[variants_ld_block_df[\"chr\"] == 1]"
   ]
  },
  {
   "cell_type": "code",
   "execution_count": 65,
   "id": "a3bd8ede",
   "metadata": {
    "execution": {
     "iopub.execute_input": "2022-02-28T23:33:31.959393Z",
     "iopub.status.busy": "2022-02-28T23:33:31.959176Z",
     "iopub.status.idle": "2022-02-28T23:33:31.976059Z",
     "shell.execute_reply": "2022-02-28T23:33:31.975475Z"
    },
    "papermill": {
     "duration": 0.091678,
     "end_time": "2022-02-28T23:33:31.977382",
     "exception": false,
     "start_time": "2022-02-28T23:33:31.885704",
     "status": "completed"
    },
    "tags": []
   },
   "outputs": [
    {
     "data": {
      "text/plain": [
       "(8130, 5)"
      ]
     },
     "execution_count": 65,
     "metadata": {},
     "output_type": "execute_result"
    }
   ],
   "source": [
    "_tmp.shape"
   ]
  },
  {
   "cell_type": "code",
   "execution_count": 66,
   "id": "6149cee4",
   "metadata": {
    "execution": {
     "iopub.execute_input": "2022-02-28T23:33:32.126090Z",
     "iopub.status.busy": "2022-02-28T23:33:32.125873Z",
     "iopub.status.idle": "2022-02-28T23:33:32.141175Z",
     "shell.execute_reply": "2022-02-28T23:33:32.140549Z"
    },
    "papermill": {
     "duration": 0.090772,
     "end_time": "2022-02-28T23:33:32.142768",
     "exception": false,
     "start_time": "2022-02-28T23:33:32.051996",
     "status": "completed"
    },
    "tags": []
   },
   "outputs": [],
   "source": [
    "assert _tmp.shape[0] > 0"
   ]
  },
  {
   "cell_type": "code",
   "execution_count": 67,
   "id": "8aceb74a",
   "metadata": {
    "execution": {
     "iopub.execute_input": "2022-02-28T23:33:32.293353Z",
     "iopub.status.busy": "2022-02-28T23:33:32.292961Z",
     "iopub.status.idle": "2022-02-28T23:33:32.317281Z",
     "shell.execute_reply": "2022-02-28T23:33:32.316625Z"
    },
    "papermill": {
     "duration": 0.101481,
     "end_time": "2022-02-28T23:33:32.318835",
     "exception": false,
     "start_time": "2022-02-28T23:33:32.217354",
     "status": "completed"
    },
    "tags": []
   },
   "outputs": [
    {
     "data": {
      "text/plain": [
       "7701"
      ]
     },
     "metadata": {},
     "output_type": "display_data"
    }
   ],
   "source": [
    "n_expected = len(set(_tmp[\"varID\"]).intersection(variants_ids_with_genotype))\n",
    "display(n_expected)\n",
    "assert n_expected > 0"
   ]
  },
  {
   "cell_type": "code",
   "execution_count": 68,
   "id": "ffdb4c4b",
   "metadata": {
    "execution": {
     "iopub.execute_input": "2022-02-28T23:33:32.474281Z",
     "iopub.status.busy": "2022-02-28T23:33:32.474065Z",
     "iopub.status.idle": "2022-02-28T23:33:33.365817Z",
     "shell.execute_reply": "2022-02-28T23:33:33.365144Z"
    },
    "papermill": {
     "duration": 0.969232,
     "end_time": "2022-02-28T23:33:33.367625",
     "exception": false,
     "start_time": "2022-02-28T23:33:32.398393",
     "status": "completed"
    },
    "tags": []
   },
   "outputs": [],
   "source": [
    "with pd.HDFStore(output_file, mode=\"r\") as store:\n",
    "    df = store[\"chr1\"]\n",
    "    assert df.shape == (n_expected, n_expected)\n",
    "    assert not df.isna().any().any()"
   ]
  },
  {
   "cell_type": "code",
   "execution_count": null,
   "id": "49dccd49",
   "metadata": {
    "papermill": {
     "duration": 0.074041,
     "end_time": "2022-02-28T23:33:33.521966",
     "exception": false,
     "start_time": "2022-02-28T23:33:33.447925",
     "status": "completed"
    },
    "tags": []
   },
   "outputs": [],
   "source": []
  }
 ],
 "metadata": {
  "jupytext": {
   "cell_metadata_filter": "all,-execution,-papermill,-trusted",
   "formats": "ipynb,py//py:percent"
  },
  "kernelspec": {
   "display_name": "Python 3 (ipykernel)",
   "language": "python",
   "name": "python3"
  },
  "language_info": {
   "codemirror_mode": {
    "name": "ipython",
    "version": 3
   },
   "file_extension": ".py",
   "mimetype": "text/x-python",
   "name": "python",
   "nbconvert_exporter": "python",
   "pygments_lexer": "ipython3",
   "version": "3.8.12"
  },
  "papermill": {
   "default_parameters": {},
   "duration": 4101.380381,
   "end_time": "2022-02-28T23:33:36.321828",
   "environment_variables": {},
   "exception": null,
   "input_path": "nbs/15_gsa_gls/05-snps_into_chr_cov.ipynb",
   "output_path": "nbs/15_gsa_gls/mashr_gene_corrs/05-snps_into_chr_cov.ipynb",
   "parameters": {
    "EQTL_MODEL": "MASHR"
   },
   "start_time": "2022-02-28T22:25:14.941447",
   "version": "2.2.2"
  }
 },
 "nbformat": 4,
 "nbformat_minor": 5
}
