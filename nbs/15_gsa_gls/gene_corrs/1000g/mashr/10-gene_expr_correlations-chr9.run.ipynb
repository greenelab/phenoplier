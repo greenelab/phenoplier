{
 "cells": [
  {
   "cell_type": "markdown",
   "id": "7a6632fb",
   "metadata": {
    "papermill": {
     "duration": 0.008966,
     "end_time": "2022-07-11T06:46:49.082149",
     "exception": false,
     "start_time": "2022-07-11T06:46:49.073183",
     "status": "completed"
    },
    "tags": []
   },
   "source": [
    "# Description"
   ]
  },
  {
   "cell_type": "markdown",
   "id": "7097c346",
   "metadata": {
    "papermill": {
     "duration": 0.010635,
     "end_time": "2022-07-11T06:46:49.103953",
     "exception": false,
     "start_time": "2022-07-11T06:46:49.093318",
     "status": "completed"
    },
    "tags": []
   },
   "source": [
    "(Please, take a look at the README.md file in this directory for instructions on how to run this notebook)\n",
    "\n",
    "This notebook computes predicted expression correlations between all genes in the MultiPLIER models.\n",
    "\n",
    "It also has a parameter set for papermill to run on a single chromosome to run in parallel (see under `Settings` below).\n",
    "\n",
    "This notebook is not directly run. See README.md."
   ]
  },
  {
   "cell_type": "markdown",
   "id": "c61d8427",
   "metadata": {
    "papermill": {
     "duration": 0.005651,
     "end_time": "2022-07-11T06:46:49.119210",
     "exception": false,
     "start_time": "2022-07-11T06:46:49.113559",
     "status": "completed"
    },
    "tags": []
   },
   "source": [
    "# Modules"
   ]
  },
  {
   "cell_type": "code",
   "execution_count": 1,
   "id": "bbc0234f",
   "metadata": {
    "execution": {
     "iopub.execute_input": "2022-07-11T06:46:49.131594Z",
     "iopub.status.busy": "2022-07-11T06:46:49.131304Z",
     "iopub.status.idle": "2022-07-11T06:46:49.148209Z",
     "shell.execute_reply": "2022-07-11T06:46:49.147518Z"
    },
    "papermill": {
     "duration": 0.024859,
     "end_time": "2022-07-11T06:46:49.149723",
     "exception": false,
     "start_time": "2022-07-11T06:46:49.124864",
     "status": "completed"
    },
    "tags": []
   },
   "outputs": [],
   "source": [
    "%load_ext autoreload\n",
    "%autoreload 2"
   ]
  },
  {
   "cell_type": "code",
   "execution_count": 2,
   "id": "1d5f5a59",
   "metadata": {
    "execution": {
     "iopub.execute_input": "2022-07-11T06:46:49.163307Z",
     "iopub.status.busy": "2022-07-11T06:46:49.163119Z",
     "iopub.status.idle": "2022-07-11T06:46:50.110736Z",
     "shell.execute_reply": "2022-07-11T06:46:50.110320Z"
    },
    "papermill": {
     "duration": 0.956383,
     "end_time": "2022-07-11T06:46:50.112216",
     "exception": false,
     "start_time": "2022-07-11T06:46:49.155833",
     "status": "completed"
    },
    "tags": []
   },
   "outputs": [],
   "source": [
    "from random import sample, seed\n",
    "import warnings\n",
    "from pathlib import Path\n",
    "\n",
    "import numpy as np\n",
    "from scipy.spatial.distance import squareform\n",
    "import pandas as pd\n",
    "from tqdm import tqdm\n",
    "import matplotlib.pyplot as plt\n",
    "import seaborn as sns\n",
    "\n",
    "import conf\n",
    "from entity import Gene"
   ]
  },
  {
   "cell_type": "markdown",
   "id": "1eac24b5",
   "metadata": {
    "papermill": {
     "duration": 0.00653,
     "end_time": "2022-07-11T06:46:50.153182",
     "exception": false,
     "start_time": "2022-07-11T06:46:50.146652",
     "status": "completed"
    },
    "tags": []
   },
   "source": [
    "# Settings"
   ]
  },
  {
   "cell_type": "code",
   "execution_count": 3,
   "id": "ca4560ba",
   "metadata": {
    "execution": {
     "iopub.execute_input": "2022-07-11T06:46:50.166360Z",
     "iopub.status.busy": "2022-07-11T06:46:50.166186Z",
     "iopub.status.idle": "2022-07-11T06:46:50.183028Z",
     "shell.execute_reply": "2022-07-11T06:46:50.182615Z"
    },
    "papermill": {
     "duration": 0.025062,
     "end_time": "2022-07-11T06:46:50.184543",
     "exception": false,
     "start_time": "2022-07-11T06:46:50.159481",
     "status": "completed"
    },
    "tags": [
     "parameters"
    ]
   },
   "outputs": [],
   "source": [
    "# reference panel\n",
    "REFERENCE_PANEL = \"GTEX_V8\"\n",
    "# REFERENCE_PANEL = \"1000G\"\n",
    "\n",
    "# prediction models\n",
    "## mashr\n",
    "EQTL_MODEL = \"MASHR\"\n",
    "\n",
    "# this is the default value used in S-MultiXcan to select the\n",
    "# top principal components of the expression correlation matrix\n",
    "SMULTIXCAN_CONDITION_NUMBER = 30\n",
    "\n",
    "# specifies a single chromosome value\n",
    "# by default, run on all chromosomes\n",
    "chromosome = None"
   ]
  },
  {
   "cell_type": "code",
   "execution_count": 4,
   "id": "8ebfd065",
   "metadata": {
    "execution": {
     "iopub.execute_input": "2022-07-11T06:46:50.197232Z",
     "iopub.status.busy": "2022-07-11T06:46:50.197068Z",
     "iopub.status.idle": "2022-07-11T06:46:50.212812Z",
     "shell.execute_reply": "2022-07-11T06:46:50.212421Z"
    },
    "papermill": {
     "duration": 0.023421,
     "end_time": "2022-07-11T06:46:50.214238",
     "exception": false,
     "start_time": "2022-07-11T06:46:50.190817",
     "status": "completed"
    },
    "tags": [
     "injected-parameters"
    ]
   },
   "outputs": [],
   "source": [
    "# Parameters\n",
    "chromosome = 9\n",
    "REFERENCE_PANEL = \"1000G\"\n",
    "EQTL_MODEL = \"MASHR\"\n"
   ]
  },
  {
   "cell_type": "code",
   "execution_count": 5,
   "id": "a089c9ff",
   "metadata": {
    "execution": {
     "iopub.execute_input": "2022-07-11T06:46:50.227707Z",
     "iopub.status.busy": "2022-07-11T06:46:50.226729Z",
     "iopub.status.idle": "2022-07-11T06:46:50.242741Z",
     "shell.execute_reply": "2022-07-11T06:46:50.242294Z"
    },
    "papermill": {
     "duration": 0.024283,
     "end_time": "2022-07-11T06:46:50.244346",
     "exception": false,
     "start_time": "2022-07-11T06:46:50.220063",
     "status": "completed"
    },
    "tags": []
   },
   "outputs": [],
   "source": [
    "EQTL_MODEL_FILES_PREFIX = conf.PHENOMEXCAN[\"PREDICTION_MODELS\"][f\"{EQTL_MODEL}_PREFIX\"]"
   ]
  },
  {
   "cell_type": "code",
   "execution_count": 6,
   "id": "8fe24bef",
   "metadata": {
    "execution": {
     "iopub.execute_input": "2022-07-11T06:46:50.256858Z",
     "iopub.status.busy": "2022-07-11T06:46:50.256696Z",
     "iopub.status.idle": "2022-07-11T06:46:50.275413Z",
     "shell.execute_reply": "2022-07-11T06:46:50.275001Z"
    },
    "papermill": {
     "duration": 0.026325,
     "end_time": "2022-07-11T06:46:50.276774",
     "exception": false,
     "start_time": "2022-07-11T06:46:50.250449",
     "status": "completed"
    },
    "tags": []
   },
   "outputs": [
    {
     "data": {
      "text/plain": [
       "'Using eQTL model: MASHR / mashr_'"
      ]
     },
     "metadata": {},
     "output_type": "display_data"
    }
   ],
   "source": [
    "display(f\"Using eQTL model: {EQTL_MODEL} / {EQTL_MODEL_FILES_PREFIX}\")"
   ]
  },
  {
   "cell_type": "code",
   "execution_count": 7,
   "id": "552a7f63-a18c-4d3e-bb6a-94f99b431291",
   "metadata": {
    "execution": {
     "iopub.execute_input": "2022-07-11T06:46:50.289295Z",
     "iopub.status.busy": "2022-07-11T06:46:50.289135Z",
     "iopub.status.idle": "2022-07-11T06:46:50.306167Z",
     "shell.execute_reply": "2022-07-11T06:46:50.305772Z"
    },
    "papermill": {
     "duration": 0.024712,
     "end_time": "2022-07-11T06:46:50.307585",
     "exception": false,
     "start_time": "2022-07-11T06:46:50.282873",
     "status": "completed"
    },
    "tags": []
   },
   "outputs": [
    {
     "data": {
      "text/plain": [
       "'S-MultiXcan condition number: 30'"
      ]
     },
     "metadata": {},
     "output_type": "display_data"
    }
   ],
   "source": [
    "display(f\"S-MultiXcan condition number: {SMULTIXCAN_CONDITION_NUMBER}\")"
   ]
  },
  {
   "cell_type": "code",
   "execution_count": 8,
   "id": "0230ebcb-2c32-4b95-9292-d9a52038e70d",
   "metadata": {
    "execution": {
     "iopub.execute_input": "2022-07-11T06:46:50.319996Z",
     "iopub.status.busy": "2022-07-11T06:46:50.319829Z",
     "iopub.status.idle": "2022-07-11T06:46:50.334711Z",
     "shell.execute_reply": "2022-07-11T06:46:50.334188Z"
    },
    "papermill": {
     "duration": 0.022728,
     "end_time": "2022-07-11T06:46:50.336121",
     "exception": false,
     "start_time": "2022-07-11T06:46:50.313393",
     "status": "completed"
    },
    "tags": []
   },
   "outputs": [],
   "source": [
    "REFERENCE_PANEL_DIR = conf.PHENOMEXCAN[\"LD_BLOCKS\"][f\"{REFERENCE_PANEL}_GENOTYPE_DIR\"]"
   ]
  },
  {
   "cell_type": "code",
   "execution_count": 9,
   "id": "98c4a159-601d-4a22-a1ab-35bd451c25f9",
   "metadata": {
    "execution": {
     "iopub.execute_input": "2022-07-11T06:46:50.349084Z",
     "iopub.status.busy": "2022-07-11T06:46:50.348731Z",
     "iopub.status.idle": "2022-07-11T06:46:50.363931Z",
     "shell.execute_reply": "2022-07-11T06:46:50.363488Z"
    },
    "papermill": {
     "duration": 0.022917,
     "end_time": "2022-07-11T06:46:50.365168",
     "exception": false,
     "start_time": "2022-07-11T06:46:50.342251",
     "status": "completed"
    },
    "tags": []
   },
   "outputs": [
    {
     "data": {
      "text/plain": [
       "'Using reference panel folder: /opt/data/data/phenomexcan/ld_blocks/reference_panel_1000G'"
      ]
     },
     "metadata": {},
     "output_type": "display_data"
    }
   ],
   "source": [
    "display(f\"Using reference panel folder: {str(REFERENCE_PANEL_DIR)}\")"
   ]
  },
  {
   "cell_type": "code",
   "execution_count": 10,
   "id": "396392dc-0340-4540-9b02-e182b833f909",
   "metadata": {
    "execution": {
     "iopub.execute_input": "2022-07-11T06:46:50.378215Z",
     "iopub.status.busy": "2022-07-11T06:46:50.377738Z",
     "iopub.status.idle": "2022-07-11T06:46:50.392967Z",
     "shell.execute_reply": "2022-07-11T06:46:50.392574Z"
    },
    "papermill": {
     "duration": 0.022965,
     "end_time": "2022-07-11T06:46:50.394269",
     "exception": false,
     "start_time": "2022-07-11T06:46:50.371304",
     "status": "completed"
    },
    "tags": []
   },
   "outputs": [],
   "source": [
    "OUTPUT_DIR_BASE = (\n",
    "    conf.PHENOMEXCAN[\"LD_BLOCKS\"][f\"GENE_CORRS_DIR\"]\n",
    "    / REFERENCE_PANEL.lower()\n",
    "    / EQTL_MODEL.lower()\n",
    ")\n",
    "OUTPUT_DIR_BASE.mkdir(parents=True, exist_ok=True)"
   ]
  },
  {
   "cell_type": "code",
   "execution_count": 11,
   "id": "8942c2d3-e53c-4d63-a0eb-b6fce0574d36",
   "metadata": {
    "execution": {
     "iopub.execute_input": "2022-07-11T06:46:50.416955Z",
     "iopub.status.busy": "2022-07-11T06:46:50.416793Z",
     "iopub.status.idle": "2022-07-11T06:46:50.443083Z",
     "shell.execute_reply": "2022-07-11T06:46:50.442705Z"
    },
    "papermill": {
     "duration": 0.04015,
     "end_time": "2022-07-11T06:46:50.444383",
     "exception": false,
     "start_time": "2022-07-11T06:46:50.404233",
     "status": "completed"
    },
    "tags": []
   },
   "outputs": [
    {
     "data": {
      "text/plain": [
       "'Using output dir base: /opt/data/data/phenomexcan/ld_blocks/gene_corrs/1000g/mashr'"
      ]
     },
     "metadata": {},
     "output_type": "display_data"
    }
   ],
   "source": [
    "display(f\"Using output dir base: {OUTPUT_DIR_BASE}\")"
   ]
  },
  {
   "cell_type": "code",
   "execution_count": 12,
   "id": "408aa590",
   "metadata": {
    "execution": {
     "iopub.execute_input": "2022-07-11T06:46:50.466716Z",
     "iopub.status.busy": "2022-07-11T06:46:50.466555Z",
     "iopub.status.idle": "2022-07-11T06:46:50.483851Z",
     "shell.execute_reply": "2022-07-11T06:46:50.480655Z"
    },
    "papermill": {
     "duration": 0.031339,
     "end_time": "2022-07-11T06:46:50.485453",
     "exception": false,
     "start_time": "2022-07-11T06:46:50.454114",
     "status": "completed"
    },
    "tags": []
   },
   "outputs": [],
   "source": [
    "assert (\n",
    "    chromosome is not None\n",
    "), \"You have to select one chromosome (format: number between 1 and 22)\""
   ]
  },
  {
   "cell_type": "code",
   "execution_count": 13,
   "id": "c1c7dd06-80ff-453c-bcb7-0899edce75da",
   "metadata": {
    "execution": {
     "iopub.execute_input": "2022-07-11T06:46:50.499344Z",
     "iopub.status.busy": "2022-07-11T06:46:50.499173Z",
     "iopub.status.idle": "2022-07-11T06:46:50.514754Z",
     "shell.execute_reply": "2022-07-11T06:46:50.514105Z"
    },
    "papermill": {
     "duration": 0.024161,
     "end_time": "2022-07-11T06:46:50.516194",
     "exception": false,
     "start_time": "2022-07-11T06:46:50.492033",
     "status": "completed"
    },
    "tags": []
   },
   "outputs": [],
   "source": [
    "chromosome = str(chromosome)"
   ]
  },
  {
   "cell_type": "code",
   "execution_count": 14,
   "id": "bc17b84c-9c26-47a5-a3ab-7046e72f3ef4",
   "metadata": {
    "execution": {
     "iopub.execute_input": "2022-07-11T06:46:50.530681Z",
     "iopub.status.busy": "2022-07-11T06:46:50.530504Z",
     "iopub.status.idle": "2022-07-11T06:46:50.549174Z",
     "shell.execute_reply": "2022-07-11T06:46:50.548458Z"
    },
    "papermill": {
     "duration": 0.027756,
     "end_time": "2022-07-11T06:46:50.550814",
     "exception": false,
     "start_time": "2022-07-11T06:46:50.523058",
     "status": "completed"
    },
    "tags": []
   },
   "outputs": [
    {
     "data": {
      "text/plain": [
       "'Working on chromosome 9'"
      ]
     },
     "metadata": {},
     "output_type": "display_data"
    }
   ],
   "source": [
    "display(f\"Working on chromosome {chromosome}\")"
   ]
  },
  {
   "cell_type": "markdown",
   "id": "d2ba085e",
   "metadata": {
    "papermill": {
     "duration": 0.006587,
     "end_time": "2022-07-11T06:46:50.568909",
     "exception": false,
     "start_time": "2022-07-11T06:46:50.562322",
     "status": "completed"
    },
    "tags": []
   },
   "source": [
    "# Load data"
   ]
  },
  {
   "cell_type": "markdown",
   "id": "7bed0ce0-e7c7-4300-9a61-5412450b1904",
   "metadata": {
    "papermill": {
     "duration": 0.006361,
     "end_time": "2022-07-11T06:46:50.581960",
     "exception": false,
     "start_time": "2022-07-11T06:46:50.575599",
     "status": "completed"
    },
    "tags": []
   },
   "source": [
    "## Prediction model tissues"
   ]
  },
  {
   "cell_type": "code",
   "execution_count": 15,
   "id": "0847c065-0d69-4830-a07f-1c75115d17f5",
   "metadata": {
    "execution": {
     "iopub.execute_input": "2022-07-11T06:46:50.596131Z",
     "iopub.status.busy": "2022-07-11T06:46:50.595844Z",
     "iopub.status.idle": "2022-07-11T06:46:50.610782Z",
     "shell.execute_reply": "2022-07-11T06:46:50.610349Z"
    },
    "papermill": {
     "duration": 0.0236,
     "end_time": "2022-07-11T06:46:50.612203",
     "exception": false,
     "start_time": "2022-07-11T06:46:50.588603",
     "status": "completed"
    },
    "tags": []
   },
   "outputs": [],
   "source": [
    "prediction_model_tissues = conf.PHENOMEXCAN[\"PREDICTION_MODELS\"][\n",
    "    f\"{EQTL_MODEL}_TISSUES\"\n",
    "].split(\" \")"
   ]
  },
  {
   "cell_type": "code",
   "execution_count": 16,
   "id": "aaef70d1-30c6-4c6f-9d6b-abc8e9a0081f",
   "metadata": {
    "execution": {
     "iopub.execute_input": "2022-07-11T06:46:50.626270Z",
     "iopub.status.busy": "2022-07-11T06:46:50.626087Z",
     "iopub.status.idle": "2022-07-11T06:46:50.643862Z",
     "shell.execute_reply": "2022-07-11T06:46:50.643454Z"
    },
    "papermill": {
     "duration": 0.026398,
     "end_time": "2022-07-11T06:46:50.645246",
     "exception": false,
     "start_time": "2022-07-11T06:46:50.618848",
     "status": "completed"
    },
    "tags": []
   },
   "outputs": [
    {
     "data": {
      "text/plain": [
       "49"
      ]
     },
     "execution_count": 16,
     "metadata": {},
     "output_type": "execute_result"
    }
   ],
   "source": [
    "len(prediction_model_tissues)"
   ]
  },
  {
   "cell_type": "code",
   "execution_count": 17,
   "id": "ff35a099-c52d-465d-b863-0ee70c26208c",
   "metadata": {
    "execution": {
     "iopub.execute_input": "2022-07-11T06:46:50.669834Z",
     "iopub.status.busy": "2022-07-11T06:46:50.669674Z",
     "iopub.status.idle": "2022-07-11T06:46:50.696466Z",
     "shell.execute_reply": "2022-07-11T06:46:50.696090Z"
    },
    "papermill": {
     "duration": 0.041576,
     "end_time": "2022-07-11T06:46:50.697757",
     "exception": false,
     "start_time": "2022-07-11T06:46:50.656181",
     "status": "completed"
    },
    "tags": []
   },
   "outputs": [
    {
     "data": {
      "text/plain": [
       "['Skin_Not_Sun_Exposed_Suprapubic',\n",
       " 'Cells_EBV-transformed_lymphocytes',\n",
       " 'Brain_Frontal_Cortex_BA9',\n",
       " 'Kidney_Cortex',\n",
       " 'Brain_Substantia_nigra']"
      ]
     },
     "execution_count": 17,
     "metadata": {},
     "output_type": "execute_result"
    }
   ],
   "source": [
    "prediction_model_tissues[:5]"
   ]
  },
  {
   "cell_type": "markdown",
   "id": "abcc4b3d",
   "metadata": {
    "papermill": {
     "duration": 0.00643,
     "end_time": "2022-07-11T06:46:50.711139",
     "exception": false,
     "start_time": "2022-07-11T06:46:50.704709",
     "status": "completed"
    },
    "tags": []
   },
   "source": [
    "## MultiPLIER Z"
   ]
  },
  {
   "cell_type": "code",
   "execution_count": 18,
   "id": "c48ef527",
   "metadata": {
    "execution": {
     "iopub.execute_input": "2022-07-11T06:46:50.725276Z",
     "iopub.status.busy": "2022-07-11T06:46:50.725070Z",
     "iopub.status.idle": "2022-07-11T06:46:50.765913Z",
     "shell.execute_reply": "2022-07-11T06:46:50.765500Z"
    },
    "papermill": {
     "duration": 0.049396,
     "end_time": "2022-07-11T06:46:50.767231",
     "exception": false,
     "start_time": "2022-07-11T06:46:50.717835",
     "status": "completed"
    },
    "tags": []
   },
   "outputs": [],
   "source": [
    "multiplier_z_genes = pd.read_pickle(\n",
    "    conf.MULTIPLIER[\"MODEL_Z_MATRIX_FILE\"]\n",
    ").index.tolist()"
   ]
  },
  {
   "cell_type": "code",
   "execution_count": 19,
   "id": "0a4ecbd9",
   "metadata": {
    "execution": {
     "iopub.execute_input": "2022-07-11T06:46:50.792040Z",
     "iopub.status.busy": "2022-07-11T06:46:50.791836Z",
     "iopub.status.idle": "2022-07-11T06:46:50.816165Z",
     "shell.execute_reply": "2022-07-11T06:46:50.815786Z"
    },
    "papermill": {
     "duration": 0.039109,
     "end_time": "2022-07-11T06:46:50.817351",
     "exception": false,
     "start_time": "2022-07-11T06:46:50.778242",
     "status": "completed"
    },
    "tags": []
   },
   "outputs": [
    {
     "data": {
      "text/plain": [
       "6750"
      ]
     },
     "execution_count": 19,
     "metadata": {},
     "output_type": "execute_result"
    }
   ],
   "source": [
    "len(multiplier_z_genes)"
   ]
  },
  {
   "cell_type": "code",
   "execution_count": 20,
   "id": "115e8864",
   "metadata": {
    "execution": {
     "iopub.execute_input": "2022-07-11T06:46:50.831431Z",
     "iopub.status.busy": "2022-07-11T06:46:50.831040Z",
     "iopub.status.idle": "2022-07-11T06:46:50.847185Z",
     "shell.execute_reply": "2022-07-11T06:46:50.846663Z"
    },
    "papermill": {
     "duration": 0.024626,
     "end_time": "2022-07-11T06:46:50.848501",
     "exception": false,
     "start_time": "2022-07-11T06:46:50.823875",
     "status": "completed"
    },
    "tags": []
   },
   "outputs": [
    {
     "data": {
      "text/plain": [
       "['GAS6',\n",
       " 'MMP14',\n",
       " 'DSP',\n",
       " 'MARCKSL1',\n",
       " 'SPARC',\n",
       " 'CTSD',\n",
       " 'EPAS1',\n",
       " 'PALLD',\n",
       " 'PHC2',\n",
       " 'LGALS3BP']"
      ]
     },
     "execution_count": 20,
     "metadata": {},
     "output_type": "execute_result"
    }
   ],
   "source": [
    "multiplier_z_genes[:10]"
   ]
  },
  {
   "cell_type": "markdown",
   "id": "7dcb8db7",
   "metadata": {
    "papermill": {
     "duration": 0.006508,
     "end_time": "2022-07-11T06:46:50.862009",
     "exception": false,
     "start_time": "2022-07-11T06:46:50.855501",
     "status": "completed"
    },
    "tags": []
   },
   "source": [
    "## Get gene objects"
   ]
  },
  {
   "cell_type": "code",
   "execution_count": 21,
   "id": "bb932812",
   "metadata": {
    "execution": {
     "iopub.execute_input": "2022-07-11T06:46:50.885951Z",
     "iopub.status.busy": "2022-07-11T06:46:50.885788Z",
     "iopub.status.idle": "2022-07-11T06:46:50.923137Z",
     "shell.execute_reply": "2022-07-11T06:46:50.922744Z"
    },
    "papermill": {
     "duration": 0.054198,
     "end_time": "2022-07-11T06:46:50.924483",
     "exception": false,
     "start_time": "2022-07-11T06:46:50.870285",
     "status": "completed"
    },
    "tags": []
   },
   "outputs": [],
   "source": [
    "multiplier_gene_obj = {\n",
    "    gene_name: Gene(name=gene_name)\n",
    "    for gene_name in multiplier_z_genes\n",
    "    if gene_name in Gene.GENE_NAME_TO_ID_MAP\n",
    "}"
   ]
  },
  {
   "cell_type": "code",
   "execution_count": 22,
   "id": "39533214",
   "metadata": {
    "execution": {
     "iopub.execute_input": "2022-07-11T06:46:50.949618Z",
     "iopub.status.busy": "2022-07-11T06:46:50.949459Z",
     "iopub.status.idle": "2022-07-11T06:46:50.964320Z",
     "shell.execute_reply": "2022-07-11T06:46:50.963932Z"
    },
    "papermill": {
     "duration": 0.028852,
     "end_time": "2022-07-11T06:46:50.965484",
     "exception": false,
     "start_time": "2022-07-11T06:46:50.936632",
     "status": "completed"
    },
    "tags": []
   },
   "outputs": [
    {
     "data": {
      "text/plain": [
       "6454"
      ]
     },
     "execution_count": 22,
     "metadata": {},
     "output_type": "execute_result"
    }
   ],
   "source": [
    "len(multiplier_gene_obj)"
   ]
  },
  {
   "cell_type": "code",
   "execution_count": 23,
   "id": "9a5d0b84",
   "metadata": {
    "execution": {
     "iopub.execute_input": "2022-07-11T06:46:50.988019Z",
     "iopub.status.busy": "2022-07-11T06:46:50.987832Z",
     "iopub.status.idle": "2022-07-11T06:46:51.012674Z",
     "shell.execute_reply": "2022-07-11T06:46:51.012291Z"
    },
    "papermill": {
     "duration": 0.037536,
     "end_time": "2022-07-11T06:46:51.013810",
     "exception": false,
     "start_time": "2022-07-11T06:46:50.976274",
     "status": "completed"
    },
    "tags": []
   },
   "outputs": [
    {
     "data": {
      "text/plain": [
       "'ENSG00000183087'"
      ]
     },
     "execution_count": 23,
     "metadata": {},
     "output_type": "execute_result"
    }
   ],
   "source": [
    "multiplier_gene_obj[\"GAS6\"].ensembl_id"
   ]
  },
  {
   "cell_type": "code",
   "execution_count": 24,
   "id": "e3ffabc7",
   "metadata": {
    "execution": {
     "iopub.execute_input": "2022-07-11T06:46:51.039191Z",
     "iopub.status.busy": "2022-07-11T06:46:51.039030Z",
     "iopub.status.idle": "2022-07-11T06:46:53.098523Z",
     "shell.execute_reply": "2022-07-11T06:46:53.098088Z"
    },
    "papermill": {
     "duration": 2.0749,
     "end_time": "2022-07-11T06:46:53.099873",
     "exception": false,
     "start_time": "2022-07-11T06:46:51.024973",
     "status": "completed"
    },
    "tags": []
   },
   "outputs": [],
   "source": [
    "_gene_obj = list(multiplier_gene_obj.values())\n",
    "\n",
    "genes_info = pd.DataFrame(\n",
    "    {\n",
    "        \"name\": [g.name for g in _gene_obj],\n",
    "        \"id\": [g.ensembl_id for g in _gene_obj],\n",
    "        \"chr\": [g.chromosome for g in _gene_obj],\n",
    "        \"band\": [g.band for g in _gene_obj],\n",
    "        \"start_position\": [g.get_attribute(\"start_position\") for g in _gene_obj],\n",
    "    }\n",
    ")"
   ]
  },
  {
   "cell_type": "code",
   "execution_count": 25,
   "id": "e23519b8",
   "metadata": {
    "execution": {
     "iopub.execute_input": "2022-07-11T06:46:53.124647Z",
     "iopub.status.busy": "2022-07-11T06:46:53.124235Z",
     "iopub.status.idle": "2022-07-11T06:46:53.141969Z",
     "shell.execute_reply": "2022-07-11T06:46:53.141534Z"
    },
    "papermill": {
     "duration": 0.026434,
     "end_time": "2022-07-11T06:46:53.143188",
     "exception": false,
     "start_time": "2022-07-11T06:46:53.116754",
     "status": "completed"
    },
    "tags": []
   },
   "outputs": [
    {
     "data": {
      "text/plain": [
       "(6454, 5)"
      ]
     },
     "execution_count": 25,
     "metadata": {},
     "output_type": "execute_result"
    }
   ],
   "source": [
    "genes_info.shape"
   ]
  },
  {
   "cell_type": "code",
   "execution_count": 26,
   "id": "0d71881c",
   "metadata": {
    "execution": {
     "iopub.execute_input": "2022-07-11T06:46:53.158160Z",
     "iopub.status.busy": "2022-07-11T06:46:53.157824Z",
     "iopub.status.idle": "2022-07-11T06:46:53.179470Z",
     "shell.execute_reply": "2022-07-11T06:46:53.179046Z"
    },
    "papermill": {
     "duration": 0.030333,
     "end_time": "2022-07-11T06:46:53.180728",
     "exception": false,
     "start_time": "2022-07-11T06:46:53.150395",
     "status": "completed"
    },
    "tags": []
   },
   "outputs": [
    {
     "data": {
      "text/html": [
       "<div>\n",
       "<style scoped>\n",
       "    .dataframe tbody tr th:only-of-type {\n",
       "        vertical-align: middle;\n",
       "    }\n",
       "\n",
       "    .dataframe tbody tr th {\n",
       "        vertical-align: top;\n",
       "    }\n",
       "\n",
       "    .dataframe thead th {\n",
       "        text-align: right;\n",
       "    }\n",
       "</style>\n",
       "<table border=\"1\" class=\"dataframe\">\n",
       "  <thead>\n",
       "    <tr style=\"text-align: right;\">\n",
       "      <th></th>\n",
       "      <th>name</th>\n",
       "      <th>id</th>\n",
       "      <th>chr</th>\n",
       "      <th>band</th>\n",
       "      <th>start_position</th>\n",
       "    </tr>\n",
       "  </thead>\n",
       "  <tbody>\n",
       "    <tr>\n",
       "      <th>0</th>\n",
       "      <td>GAS6</td>\n",
       "      <td>ENSG00000183087</td>\n",
       "      <td>13</td>\n",
       "      <td>13q34</td>\n",
       "      <td>113820549.0</td>\n",
       "    </tr>\n",
       "    <tr>\n",
       "      <th>1</th>\n",
       "      <td>MMP14</td>\n",
       "      <td>ENSG00000157227</td>\n",
       "      <td>14</td>\n",
       "      <td>14q11.2</td>\n",
       "      <td>22836560.0</td>\n",
       "    </tr>\n",
       "    <tr>\n",
       "      <th>2</th>\n",
       "      <td>DSP</td>\n",
       "      <td>ENSG00000096696</td>\n",
       "      <td>6</td>\n",
       "      <td>6p24.3</td>\n",
       "      <td>7541617.0</td>\n",
       "    </tr>\n",
       "    <tr>\n",
       "      <th>3</th>\n",
       "      <td>MARCKSL1</td>\n",
       "      <td>ENSG00000175130</td>\n",
       "      <td>1</td>\n",
       "      <td>1p35.1</td>\n",
       "      <td>32333839.0</td>\n",
       "    </tr>\n",
       "    <tr>\n",
       "      <th>4</th>\n",
       "      <td>SPARC</td>\n",
       "      <td>ENSG00000113140</td>\n",
       "      <td>5</td>\n",
       "      <td>5q33.1</td>\n",
       "      <td>151661096.0</td>\n",
       "    </tr>\n",
       "  </tbody>\n",
       "</table>\n",
       "</div>"
      ],
      "text/plain": [
       "       name               id chr     band  start_position\n",
       "0      GAS6  ENSG00000183087  13    13q34     113820549.0\n",
       "1     MMP14  ENSG00000157227  14  14q11.2      22836560.0\n",
       "2       DSP  ENSG00000096696   6   6p24.3       7541617.0\n",
       "3  MARCKSL1  ENSG00000175130   1   1p35.1      32333839.0\n",
       "4     SPARC  ENSG00000113140   5   5q33.1     151661096.0"
      ]
     },
     "execution_count": 26,
     "metadata": {},
     "output_type": "execute_result"
    }
   ],
   "source": [
    "genes_info.head()"
   ]
  },
  {
   "cell_type": "markdown",
   "id": "c8d1038f",
   "metadata": {
    "papermill": {
     "duration": 0.006857,
     "end_time": "2022-07-11T06:46:53.195045",
     "exception": false,
     "start_time": "2022-07-11T06:46:53.188188",
     "status": "completed"
    },
    "tags": []
   },
   "source": [
    "# Test"
   ]
  },
  {
   "cell_type": "code",
   "execution_count": 27,
   "id": "64993abf",
   "metadata": {
    "execution": {
     "iopub.execute_input": "2022-07-11T06:46:53.209853Z",
     "iopub.status.busy": "2022-07-11T06:46:53.209489Z",
     "iopub.status.idle": "2022-07-11T06:46:53.232729Z",
     "shell.execute_reply": "2022-07-11T06:46:53.232283Z"
    },
    "papermill": {
     "duration": 0.031972,
     "end_time": "2022-07-11T06:46:53.233949",
     "exception": false,
     "start_time": "2022-07-11T06:46:53.201977",
     "status": "completed"
    },
    "tags": []
   },
   "outputs": [
    {
     "data": {
      "text/html": [
       "<div>\n",
       "<style scoped>\n",
       "    .dataframe tbody tr th:only-of-type {\n",
       "        vertical-align: middle;\n",
       "    }\n",
       "\n",
       "    .dataframe tbody tr th {\n",
       "        vertical-align: top;\n",
       "    }\n",
       "\n",
       "    .dataframe thead th {\n",
       "        text-align: right;\n",
       "    }\n",
       "</style>\n",
       "<table border=\"1\" class=\"dataframe\">\n",
       "  <thead>\n",
       "    <tr style=\"text-align: right;\">\n",
       "      <th></th>\n",
       "      <th>name</th>\n",
       "      <th>id</th>\n",
       "      <th>chr</th>\n",
       "      <th>band</th>\n",
       "      <th>start_position</th>\n",
       "    </tr>\n",
       "  </thead>\n",
       "  <tbody>\n",
       "    <tr>\n",
       "      <th>59</th>\n",
       "      <td>RXRA</td>\n",
       "      <td>ENSG00000186350</td>\n",
       "      <td>9</td>\n",
       "      <td>9q34.2</td>\n",
       "      <td>134317098.0</td>\n",
       "    </tr>\n",
       "    <tr>\n",
       "      <th>87</th>\n",
       "      <td>NINJ1</td>\n",
       "      <td>ENSG00000131669</td>\n",
       "      <td>9</td>\n",
       "      <td>9q22.31</td>\n",
       "      <td>93121496.0</td>\n",
       "    </tr>\n",
       "    <tr>\n",
       "      <th>106</th>\n",
       "      <td>ABCA1</td>\n",
       "      <td>ENSG00000165029</td>\n",
       "      <td>9</td>\n",
       "      <td>9q31.1</td>\n",
       "      <td>104781006.0</td>\n",
       "    </tr>\n",
       "    <tr>\n",
       "      <th>115</th>\n",
       "      <td>TMOD1</td>\n",
       "      <td>ENSG00000136842</td>\n",
       "      <td>9</td>\n",
       "      <td>9q22.33</td>\n",
       "      <td>97501180.0</td>\n",
       "    </tr>\n",
       "    <tr>\n",
       "      <th>137</th>\n",
       "      <td>LPAR1</td>\n",
       "      <td>ENSG00000198121</td>\n",
       "      <td>9</td>\n",
       "      <td>9q31.3</td>\n",
       "      <td>110873263.0</td>\n",
       "    </tr>\n",
       "    <tr>\n",
       "      <th>...</th>\n",
       "      <td>...</td>\n",
       "      <td>...</td>\n",
       "      <td>...</td>\n",
       "      <td>...</td>\n",
       "      <td>...</td>\n",
       "    </tr>\n",
       "    <tr>\n",
       "      <th>6362</th>\n",
       "      <td>SCAI</td>\n",
       "      <td>ENSG00000173611</td>\n",
       "      <td>9</td>\n",
       "      <td>9q33.3</td>\n",
       "      <td>124942608.0</td>\n",
       "    </tr>\n",
       "    <tr>\n",
       "      <th>6387</th>\n",
       "      <td>GOLGA2</td>\n",
       "      <td>ENSG00000167110</td>\n",
       "      <td>9</td>\n",
       "      <td>9q34.11</td>\n",
       "      <td>128255829.0</td>\n",
       "    </tr>\n",
       "    <tr>\n",
       "      <th>6401</th>\n",
       "      <td>DNM1</td>\n",
       "      <td>ENSG00000106976</td>\n",
       "      <td>9</td>\n",
       "      <td>9q34.11</td>\n",
       "      <td>128191655.0</td>\n",
       "    </tr>\n",
       "    <tr>\n",
       "      <th>6421</th>\n",
       "      <td>RAD23B</td>\n",
       "      <td>ENSG00000119318</td>\n",
       "      <td>9</td>\n",
       "      <td>9q31.2</td>\n",
       "      <td>107283137.0</td>\n",
       "    </tr>\n",
       "    <tr>\n",
       "      <th>6450</th>\n",
       "      <td>NFIB</td>\n",
       "      <td>ENSG00000147862</td>\n",
       "      <td>9</td>\n",
       "      <td>9p22.3</td>\n",
       "      <td>14081843.0</td>\n",
       "    </tr>\n",
       "  </tbody>\n",
       "</table>\n",
       "<p>245 rows × 5 columns</p>\n",
       "</div>"
      ],
      "text/plain": [
       "        name               id chr     band  start_position\n",
       "59      RXRA  ENSG00000186350   9   9q34.2     134317098.0\n",
       "87     NINJ1  ENSG00000131669   9  9q22.31      93121496.0\n",
       "106    ABCA1  ENSG00000165029   9   9q31.1     104781006.0\n",
       "115    TMOD1  ENSG00000136842   9  9q22.33      97501180.0\n",
       "137    LPAR1  ENSG00000198121   9   9q31.3     110873263.0\n",
       "...      ...              ...  ..      ...             ...\n",
       "6362    SCAI  ENSG00000173611   9   9q33.3     124942608.0\n",
       "6387  GOLGA2  ENSG00000167110   9  9q34.11     128255829.0\n",
       "6401    DNM1  ENSG00000106976   9  9q34.11     128191655.0\n",
       "6421  RAD23B  ENSG00000119318   9   9q31.2     107283137.0\n",
       "6450    NFIB  ENSG00000147862   9   9p22.3      14081843.0\n",
       "\n",
       "[245 rows x 5 columns]"
      ]
     },
     "metadata": {},
     "output_type": "display_data"
    }
   ],
   "source": [
    "chromosome_genes_info = genes_info[genes_info[\"chr\"] == chromosome]\n",
    "display(chromosome_genes_info)"
   ]
  },
  {
   "cell_type": "code",
   "execution_count": 28,
   "id": "d2e42726-7de6-46eb-acfc-6323eaa8fae6",
   "metadata": {
    "execution": {
     "iopub.execute_input": "2022-07-11T06:46:53.251009Z",
     "iopub.status.busy": "2022-07-11T06:46:53.250474Z",
     "iopub.status.idle": "2022-07-11T06:46:53.279930Z",
     "shell.execute_reply": "2022-07-11T06:46:53.279531Z"
    },
    "papermill": {
     "duration": 0.039733,
     "end_time": "2022-07-11T06:46:53.281092",
     "exception": false,
     "start_time": "2022-07-11T06:46:53.241359",
     "status": "completed"
    },
    "tags": []
   },
   "outputs": [
    {
     "data": {
      "text/plain": [
       "5"
      ]
     },
     "metadata": {},
     "output_type": "display_data"
    }
   ],
   "source": [
    "seed(0)\n",
    "_gene_list_ids = sample(chromosome_genes_info[\"id\"].tolist(), 5)\n",
    "selected_chromosome_genes_obj = [Gene(ensembl_id=g_id) for g_id in _gene_list_ids]\n",
    "display(len(selected_chromosome_genes_obj))"
   ]
  },
  {
   "cell_type": "code",
   "execution_count": 29,
   "id": "1b355359",
   "metadata": {
    "execution": {
     "iopub.execute_input": "2022-07-11T06:46:53.308804Z",
     "iopub.status.busy": "2022-07-11T06:46:53.308641Z",
     "iopub.status.idle": "2022-07-11T06:46:55.528271Z",
     "shell.execute_reply": "2022-07-11T06:46:55.527720Z"
    },
    "papermill": {
     "duration": 2.236075,
     "end_time": "2022-07-11T06:46:55.529602",
     "exception": false,
     "start_time": "2022-07-11T06:46:53.293527",
     "status": "completed"
    },
    "tags": []
   },
   "outputs": [
    {
     "name": "stdout",
     "output_type": "stream",
     "text": [
      "TLN1 / NOTCH1: 0.0\n",
      "TLN1 / NFX1: 0.0036400036207084627\n",
      "TLN1 / AQP3: 0.008040819885825333\n",
      "TLN1 / FPGS: 0.0\n",
      "NOTCH1 / NFX1: 0.0\n",
      "NOTCH1 / AQP3: 0.0\n",
      "NOTCH1 / FPGS: 0.0\n",
      "NFX1 / AQP3: 0.043548215725470824\n",
      "NFX1 / FPGS: 0.0\n",
      "AQP3 / FPGS: 0.0\n"
     ]
    }
   ],
   "source": [
    "for gene_idx1 in range(0, len(selected_chromosome_genes_obj) - 1):\n",
    "    gene_obj1 = selected_chromosome_genes_obj[gene_idx1]\n",
    "\n",
    "    for gene_idx2 in range(gene_idx1 + 1, len(selected_chromosome_genes_obj)):\n",
    "        gene_obj2 = selected_chromosome_genes_obj[gene_idx2]\n",
    "\n",
    "        c = gene_obj1.get_ssm_correlation(\n",
    "            gene_obj2,\n",
    "        )\n",
    "\n",
    "        print(f\"{gene_obj1.name} / {gene_obj2.name}: {c}\")"
   ]
  },
  {
   "cell_type": "markdown",
   "id": "d3843e06",
   "metadata": {
    "papermill": {
     "duration": 0.012522,
     "end_time": "2022-07-11T06:46:55.550601",
     "exception": false,
     "start_time": "2022-07-11T06:46:55.538079",
     "status": "completed"
    },
    "tags": []
   },
   "source": [
    "# Compute correlation per chromosome"
   ]
  },
  {
   "cell_type": "code",
   "execution_count": 30,
   "id": "cb859c15-d1f3-4006-a74c-2b83c0db9611",
   "metadata": {
    "execution": {
     "iopub.execute_input": "2022-07-11T06:46:55.568272Z",
     "iopub.status.busy": "2022-07-11T06:46:55.568078Z",
     "iopub.status.idle": "2022-07-11T06:46:55.587371Z",
     "shell.execute_reply": "2022-07-11T06:46:55.586819Z"
    },
    "papermill": {
     "duration": 0.029717,
     "end_time": "2022-07-11T06:46:55.588828",
     "exception": false,
     "start_time": "2022-07-11T06:46:55.559111",
     "status": "completed"
    },
    "tags": []
   },
   "outputs": [
    {
     "data": {
      "text/plain": [
       "PosixPath('/opt/data/data/phenomexcan/ld_blocks/gene_corrs/1000g/mashr/by_chr/gene_corrs-chr9.pkl')"
      ]
     },
     "metadata": {},
     "output_type": "display_data"
    }
   ],
   "source": [
    "output_dir = OUTPUT_DIR_BASE / \"by_chr\"\n",
    "output_dir.mkdir(exist_ok=True, parents=True)\n",
    "output_file = output_dir / f\"gene_corrs-chr{chromosome}.pkl\"\n",
    "display(output_file)"
   ]
  },
  {
   "cell_type": "code",
   "execution_count": 31,
   "id": "aa674fe4-6794-4eed-98fa-32b39d1d4ace",
   "metadata": {
    "execution": {
     "iopub.execute_input": "2022-07-11T06:46:55.607170Z",
     "iopub.status.busy": "2022-07-11T06:46:55.606597Z",
     "iopub.status.idle": "2022-07-11T06:46:55.623338Z",
     "shell.execute_reply": "2022-07-11T06:46:55.622797Z"
    },
    "papermill": {
     "duration": 0.02741,
     "end_time": "2022-07-11T06:46:55.624825",
     "exception": false,
     "start_time": "2022-07-11T06:46:55.597415",
     "status": "completed"
    },
    "tags": []
   },
   "outputs": [],
   "source": [
    "warnings.filterwarnings(\"error\")"
   ]
  },
  {
   "cell_type": "code",
   "execution_count": 32,
   "id": "cdbb90a1",
   "metadata": {
    "execution": {
     "iopub.execute_input": "2022-07-11T06:46:55.643172Z",
     "iopub.status.busy": "2022-07-11T06:46:55.642667Z",
     "iopub.status.idle": "2022-07-11T06:54:53.546633Z",
     "shell.execute_reply": "2022-07-11T06:54:53.546180Z"
    },
    "papermill": {
     "duration": 477.914781,
     "end_time": "2022-07-11T06:54:53.548162",
     "exception": false,
     "start_time": "2022-07-11T06:46:55.633381",
     "status": "completed"
    },
    "tags": []
   },
   "outputs": [
    {
     "name": "stdout",
     "output_type": "stream",
     "text": [
      "Number of genes in chromosome: 245\n",
      "Number of gene combinations: 29890\n"
     ]
    },
    {
     "name": "stderr",
     "output_type": "stream",
     "text": [
      "ENSG00000182154 / ENSG00000181090: 100%|██████████████████████| 29890/29890 [07:57<00:00, 62.55it/s]"
     ]
    },
    {
     "name": "stdout",
     "output_type": "stream",
     "text": [
      "Min/max values: 0.0 / 0.923684088892138\n"
     ]
    },
    {
     "name": "stderr",
     "output_type": "stream",
     "text": [
      "\n"
     ]
    },
    {
     "data": {
      "text/plain": [
       "PosixPath('/opt/data/data/phenomexcan/ld_blocks/gene_corrs/1000g/mashr/by_chr/gene_corrs-chr9.pkl')"
      ]
     },
     "metadata": {},
     "output_type": "display_data"
    }
   ],
   "source": [
    "# standard checks\n",
    "all_chrs = genes_info[\"chr\"].dropna().unique()\n",
    "assert all_chrs.shape[0] == 22\n",
    "\n",
    "# select chromosome given by the user\n",
    "assert chromosome in all_chrs\n",
    "\n",
    "# run only on the chromosome specified\n",
    "all_chrs = [chromosome]\n",
    "genes_chr = genes_info[genes_info[\"chr\"] == chromosome]\n",
    "\n",
    "# For testing purposes\n",
    "# genes_chr = genes_chr.sample(n=20)\n",
    "\n",
    "print(f\"Number of genes in chromosome: {genes_chr.shape[0]}\", flush=True)\n",
    "\n",
    "# sort genes by starting position to make visualizations better later\n",
    "genes_chr = genes_chr.sort_values(\"start_position\")\n",
    "\n",
    "gene_chr_objs = [Gene(ensembl_id=gene_id) for gene_id in genes_chr[\"id\"]]\n",
    "gene_chr_ids = [g.ensembl_id for g in gene_chr_objs]\n",
    "\n",
    "n = len(gene_chr_objs)\n",
    "n_comb = int(n * (n - 1) / 2.0)\n",
    "print(f\"Number of gene combinations: {n_comb}\", flush=True)\n",
    "\n",
    "gene_corrs = []\n",
    "\n",
    "pbar = tqdm(ncols=100, total=n_comb)\n",
    "i = 0\n",
    "for gene_idx1 in range(0, len(gene_chr_objs) - 1):\n",
    "    gene_obj1 = gene_chr_objs[gene_idx1]\n",
    "\n",
    "    for gene_idx2 in range(gene_idx1 + 1, len(gene_chr_objs)):\n",
    "        gene_obj2 = gene_chr_objs[gene_idx2]\n",
    "\n",
    "        pbar.set_description(f\"{gene_obj1.ensembl_id} / {gene_obj2.ensembl_id}\")\n",
    "\n",
    "        try:\n",
    "            # FIXME: compute the correlation of the sum of squares of the model using all\n",
    "            # the available tissues; this could be problematic because for some results\n",
    "            # (computed on a specific phenotype/GWAS) we might not have all the tissues\n",
    "            # available, which can certainly bias the correlation estimation.\n",
    "            # Since this depends on the GWAS on a specific phenotype, we should ideally have\n",
    "            # one correlation matrix per GWAS. I should look at how we can improve this.\n",
    "            r = gene_obj1.get_ssm_correlation(\n",
    "                other_gene=gene_obj2,\n",
    "                condition_number=SMULTIXCAN_CONDITION_NUMBER,\n",
    "                reference_panel=REFERENCE_PANEL,\n",
    "                model_type=EQTL_MODEL,\n",
    "            )\n",
    "\n",
    "            if r is None:\n",
    "                # if r is None, it's very likely because:\n",
    "                #  * one of the genes has no prediction models\n",
    "                #  * all the SNPs predictors for the gene are not present in the reference\n",
    "                #    panel\n",
    "\n",
    "                r = 0.0\n",
    "\n",
    "            gene_corrs.append(r)\n",
    "        except Warning:\n",
    "            print(\n",
    "                f\"RuntimeWarning for genes {gene_obj1.ensembl_id} and {gene_obj2.ensembl_id}\",\n",
    "                flush=True,\n",
    "            )\n",
    "            import traceback\n",
    "\n",
    "            print(traceback.format_exc(), flush=True)\n",
    "        except Exception as e:\n",
    "            print(\n",
    "                f\"Exception for genes {gene_obj1.ensembl_id} and {gene_obj2.ensembl_id}\",\n",
    "                flush=True,\n",
    "            )\n",
    "            import traceback\n",
    "\n",
    "            print(traceback.format_exc(), flush=True)\n",
    "            gene_corrs.append(np.nan)\n",
    "\n",
    "        pbar.update(1)\n",
    "\n",
    "pbar.close()\n",
    "\n",
    "# testing\n",
    "gene_corrs_flat = pd.Series(gene_corrs)\n",
    "print(f\"Min/max values: {gene_corrs_flat.min()} / {gene_corrs_flat.max()}\")\n",
    "assert gene_corrs_flat.min() >= -1.001\n",
    "assert gene_corrs_flat.max() <= 1.001\n",
    "\n",
    "# save\n",
    "# FIXME: consider saving only the condenced matrix here. See here for\n",
    "# more details: https://github.com/greenelab/phenoplier/pull/38#discussion_r634600813\n",
    "gene_corrs_data = squareform(np.array(gene_corrs, dtype=np.float64))\n",
    "np.fill_diagonal(gene_corrs_data, 1.0)\n",
    "\n",
    "gene_corrs_df = pd.DataFrame(\n",
    "    data=gene_corrs_data,\n",
    "    index=gene_chr_ids,\n",
    "    columns=gene_chr_ids,\n",
    ")\n",
    "\n",
    "output_dir.mkdir(exist_ok=True, parents=True)\n",
    "display(output_file)\n",
    "\n",
    "gene_corrs_df.to_pickle(output_file)"
   ]
  },
  {
   "cell_type": "markdown",
   "id": "faa67b51-5373-470f-aa72-2ded53fa6dfe",
   "metadata": {
    "papermill": {
     "duration": 1.398284,
     "end_time": "2022-07-11T06:54:56.139629",
     "exception": false,
     "start_time": "2022-07-11T06:54:54.741345",
     "status": "completed"
    },
    "tags": []
   },
   "source": [
    "# Testing"
   ]
  },
  {
   "cell_type": "code",
   "execution_count": 33,
   "id": "14f7d046-4b55-4896-a56b-990127bcc388",
   "metadata": {
    "execution": {
     "iopub.execute_input": "2022-07-11T06:54:58.470927Z",
     "iopub.status.busy": "2022-07-11T06:54:58.470767Z",
     "iopub.status.idle": "2022-07-11T06:54:58.501723Z",
     "shell.execute_reply": "2022-07-11T06:54:58.501331Z"
    },
    "papermill": {
     "duration": 1.181368,
     "end_time": "2022-07-11T06:54:58.502928",
     "exception": false,
     "start_time": "2022-07-11T06:54:57.321560",
     "status": "completed"
    },
    "tags": []
   },
   "outputs": [
    {
     "data": {
      "text/plain": [
       "(245, 245)"
      ]
     },
     "execution_count": 33,
     "metadata": {},
     "output_type": "execute_result"
    }
   ],
   "source": [
    "gene_corrs_df.shape"
   ]
  },
  {
   "cell_type": "code",
   "execution_count": 34,
   "id": "c7d15414-3297-4537-a7c6-7588c0baeb75",
   "metadata": {
    "execution": {
     "iopub.execute_input": "2022-07-11T06:55:00.783308Z",
     "iopub.status.busy": "2022-07-11T06:55:00.783148Z",
     "iopub.status.idle": "2022-07-11T06:55:00.815138Z",
     "shell.execute_reply": "2022-07-11T06:55:00.814724Z"
    },
    "papermill": {
     "duration": 1.18683,
     "end_time": "2022-07-11T06:55:00.816396",
     "exception": false,
     "start_time": "2022-07-11T06:54:59.629566",
     "status": "completed"
    },
    "tags": []
   },
   "outputs": [
    {
     "data": {
      "text/html": [
       "<div>\n",
       "<style scoped>\n",
       "    .dataframe tbody tr th:only-of-type {\n",
       "        vertical-align: middle;\n",
       "    }\n",
       "\n",
       "    .dataframe tbody tr th {\n",
       "        vertical-align: top;\n",
       "    }\n",
       "\n",
       "    .dataframe thead th {\n",
       "        text-align: right;\n",
       "    }\n",
       "</style>\n",
       "<table border=\"1\" class=\"dataframe\">\n",
       "  <thead>\n",
       "    <tr style=\"text-align: right;\">\n",
       "      <th></th>\n",
       "      <th>ENSG00000107099</th>\n",
       "      <th>ENSG00000080503</th>\n",
       "      <th>ENSG00000147852</th>\n",
       "      <th>ENSG00000107249</th>\n",
       "      <th>ENSG00000147853</th>\n",
       "      <th>ENSG00000096968</th>\n",
       "      <th>ENSG00000107014</th>\n",
       "      <th>ENSG00000120217</th>\n",
       "      <th>ENSG00000197646</th>\n",
       "      <th>ENSG00000178445</th>\n",
       "      <th>...</th>\n",
       "      <th>ENSG00000107317</th>\n",
       "      <th>ENSG00000169583</th>\n",
       "      <th>ENSG00000107331</th>\n",
       "      <th>ENSG00000054179</th>\n",
       "      <th>ENSG00000177239</th>\n",
       "      <th>ENSG00000176248</th>\n",
       "      <th>ENSG00000176101</th>\n",
       "      <th>ENSG00000188747</th>\n",
       "      <th>ENSG00000182154</th>\n",
       "      <th>ENSG00000181090</th>\n",
       "    </tr>\n",
       "  </thead>\n",
       "  <tbody>\n",
       "    <tr>\n",
       "      <th>ENSG00000107099</th>\n",
       "      <td>1.000000</td>\n",
       "      <td>0.010578</td>\n",
       "      <td>0.027918</td>\n",
       "      <td>0.011640</td>\n",
       "      <td>0.017930</td>\n",
       "      <td>0.010548</td>\n",
       "      <td>0.006667</td>\n",
       "      <td>0.013394</td>\n",
       "      <td>0.000000</td>\n",
       "      <td>0.000000</td>\n",
       "      <td>...</td>\n",
       "      <td>0.0</td>\n",
       "      <td>0.0</td>\n",
       "      <td>0.0</td>\n",
       "      <td>0.0</td>\n",
       "      <td>0.0</td>\n",
       "      <td>0.0</td>\n",
       "      <td>0.0</td>\n",
       "      <td>0.0</td>\n",
       "      <td>0.0</td>\n",
       "      <td>0.0</td>\n",
       "    </tr>\n",
       "    <tr>\n",
       "      <th>ENSG00000080503</th>\n",
       "      <td>0.010578</td>\n",
       "      <td>1.000000</td>\n",
       "      <td>0.019882</td>\n",
       "      <td>0.012062</td>\n",
       "      <td>0.010278</td>\n",
       "      <td>0.011658</td>\n",
       "      <td>0.008593</td>\n",
       "      <td>0.013771</td>\n",
       "      <td>0.007175</td>\n",
       "      <td>0.011470</td>\n",
       "      <td>...</td>\n",
       "      <td>0.0</td>\n",
       "      <td>0.0</td>\n",
       "      <td>0.0</td>\n",
       "      <td>0.0</td>\n",
       "      <td>0.0</td>\n",
       "      <td>0.0</td>\n",
       "      <td>0.0</td>\n",
       "      <td>0.0</td>\n",
       "      <td>0.0</td>\n",
       "      <td>0.0</td>\n",
       "    </tr>\n",
       "    <tr>\n",
       "      <th>ENSG00000147852</th>\n",
       "      <td>0.027918</td>\n",
       "      <td>0.019882</td>\n",
       "      <td>1.000000</td>\n",
       "      <td>0.024127</td>\n",
       "      <td>0.021493</td>\n",
       "      <td>0.032027</td>\n",
       "      <td>0.017602</td>\n",
       "      <td>0.025209</td>\n",
       "      <td>0.015091</td>\n",
       "      <td>0.018996</td>\n",
       "      <td>...</td>\n",
       "      <td>0.0</td>\n",
       "      <td>0.0</td>\n",
       "      <td>0.0</td>\n",
       "      <td>0.0</td>\n",
       "      <td>0.0</td>\n",
       "      <td>0.0</td>\n",
       "      <td>0.0</td>\n",
       "      <td>0.0</td>\n",
       "      <td>0.0</td>\n",
       "      <td>0.0</td>\n",
       "    </tr>\n",
       "    <tr>\n",
       "      <th>ENSG00000107249</th>\n",
       "      <td>0.011640</td>\n",
       "      <td>0.012062</td>\n",
       "      <td>0.024127</td>\n",
       "      <td>1.000000</td>\n",
       "      <td>0.022874</td>\n",
       "      <td>0.018729</td>\n",
       "      <td>0.011897</td>\n",
       "      <td>0.015548</td>\n",
       "      <td>0.009184</td>\n",
       "      <td>0.013681</td>\n",
       "      <td>...</td>\n",
       "      <td>0.0</td>\n",
       "      <td>0.0</td>\n",
       "      <td>0.0</td>\n",
       "      <td>0.0</td>\n",
       "      <td>0.0</td>\n",
       "      <td>0.0</td>\n",
       "      <td>0.0</td>\n",
       "      <td>0.0</td>\n",
       "      <td>0.0</td>\n",
       "      <td>0.0</td>\n",
       "    </tr>\n",
       "    <tr>\n",
       "      <th>ENSG00000147853</th>\n",
       "      <td>0.017930</td>\n",
       "      <td>0.010278</td>\n",
       "      <td>0.021493</td>\n",
       "      <td>0.022874</td>\n",
       "      <td>1.000000</td>\n",
       "      <td>0.032336</td>\n",
       "      <td>0.012458</td>\n",
       "      <td>0.015127</td>\n",
       "      <td>0.013069</td>\n",
       "      <td>0.016242</td>\n",
       "      <td>...</td>\n",
       "      <td>0.0</td>\n",
       "      <td>0.0</td>\n",
       "      <td>0.0</td>\n",
       "      <td>0.0</td>\n",
       "      <td>0.0</td>\n",
       "      <td>0.0</td>\n",
       "      <td>0.0</td>\n",
       "      <td>0.0</td>\n",
       "      <td>0.0</td>\n",
       "      <td>0.0</td>\n",
       "    </tr>\n",
       "  </tbody>\n",
       "</table>\n",
       "<p>5 rows × 245 columns</p>\n",
       "</div>"
      ],
      "text/plain": [
       "                 ENSG00000107099  ENSG00000080503  ENSG00000147852  \\\n",
       "ENSG00000107099         1.000000         0.010578         0.027918   \n",
       "ENSG00000080503         0.010578         1.000000         0.019882   \n",
       "ENSG00000147852         0.027918         0.019882         1.000000   \n",
       "ENSG00000107249         0.011640         0.012062         0.024127   \n",
       "ENSG00000147853         0.017930         0.010278         0.021493   \n",
       "\n",
       "                 ENSG00000107249  ENSG00000147853  ENSG00000096968  \\\n",
       "ENSG00000107099         0.011640         0.017930         0.010548   \n",
       "ENSG00000080503         0.012062         0.010278         0.011658   \n",
       "ENSG00000147852         0.024127         0.021493         0.032027   \n",
       "ENSG00000107249         1.000000         0.022874         0.018729   \n",
       "ENSG00000147853         0.022874         1.000000         0.032336   \n",
       "\n",
       "                 ENSG00000107014  ENSG00000120217  ENSG00000197646  \\\n",
       "ENSG00000107099         0.006667         0.013394         0.000000   \n",
       "ENSG00000080503         0.008593         0.013771         0.007175   \n",
       "ENSG00000147852         0.017602         0.025209         0.015091   \n",
       "ENSG00000107249         0.011897         0.015548         0.009184   \n",
       "ENSG00000147853         0.012458         0.015127         0.013069   \n",
       "\n",
       "                 ENSG00000178445  ...  ENSG00000107317  ENSG00000169583  \\\n",
       "ENSG00000107099         0.000000  ...              0.0              0.0   \n",
       "ENSG00000080503         0.011470  ...              0.0              0.0   \n",
       "ENSG00000147852         0.018996  ...              0.0              0.0   \n",
       "ENSG00000107249         0.013681  ...              0.0              0.0   \n",
       "ENSG00000147853         0.016242  ...              0.0              0.0   \n",
       "\n",
       "                 ENSG00000107331  ENSG00000054179  ENSG00000177239  \\\n",
       "ENSG00000107099              0.0              0.0              0.0   \n",
       "ENSG00000080503              0.0              0.0              0.0   \n",
       "ENSG00000147852              0.0              0.0              0.0   \n",
       "ENSG00000107249              0.0              0.0              0.0   \n",
       "ENSG00000147853              0.0              0.0              0.0   \n",
       "\n",
       "                 ENSG00000176248  ENSG00000176101  ENSG00000188747  \\\n",
       "ENSG00000107099              0.0              0.0              0.0   \n",
       "ENSG00000080503              0.0              0.0              0.0   \n",
       "ENSG00000147852              0.0              0.0              0.0   \n",
       "ENSG00000107249              0.0              0.0              0.0   \n",
       "ENSG00000147853              0.0              0.0              0.0   \n",
       "\n",
       "                 ENSG00000182154  ENSG00000181090  \n",
       "ENSG00000107099              0.0              0.0  \n",
       "ENSG00000080503              0.0              0.0  \n",
       "ENSG00000147852              0.0              0.0  \n",
       "ENSG00000107249              0.0              0.0  \n",
       "ENSG00000147853              0.0              0.0  \n",
       "\n",
       "[5 rows x 245 columns]"
      ]
     },
     "execution_count": 34,
     "metadata": {},
     "output_type": "execute_result"
    }
   ],
   "source": [
    "gene_corrs_df.head()"
   ]
  },
  {
   "cell_type": "code",
   "execution_count": 35,
   "id": "286686af-1b7b-4440-8453-6bdcbd8de19c",
   "metadata": {
    "execution": {
     "iopub.execute_input": "2022-07-11T06:55:03.154429Z",
     "iopub.status.busy": "2022-07-11T06:55:03.154260Z",
     "iopub.status.idle": "2022-07-11T06:55:03.172203Z",
     "shell.execute_reply": "2022-07-11T06:55:03.171783Z"
    },
    "papermill": {
     "duration": 1.209843,
     "end_time": "2022-07-11T06:55:03.173719",
     "exception": false,
     "start_time": "2022-07-11T06:55:01.963876",
     "status": "completed"
    },
    "tags": []
   },
   "outputs": [],
   "source": [
    "assert not gene_corrs_df.isna().any().any()"
   ]
  },
  {
   "cell_type": "code",
   "execution_count": 36,
   "id": "00583efc-7068-4270-ad1e-4a418e91db96",
   "metadata": {
    "execution": {
     "iopub.execute_input": "2022-07-11T06:55:05.420865Z",
     "iopub.status.busy": "2022-07-11T06:55:05.420703Z",
     "iopub.status.idle": "2022-07-11T06:55:05.455368Z",
     "shell.execute_reply": "2022-07-11T06:55:05.454956Z"
    },
    "papermill": {
     "duration": 1.159628,
     "end_time": "2022-07-11T06:55:05.456529",
     "exception": false,
     "start_time": "2022-07-11T06:55:04.296901",
     "status": "completed"
    },
    "tags": []
   },
   "outputs": [
    {
     "data": {
      "text/plain": [
       "0.0"
      ]
     },
     "metadata": {},
     "output_type": "display_data"
    }
   ],
   "source": [
    "_min_val = gene_corrs_df.min().min()\n",
    "display(_min_val)\n",
    "assert _min_val >= 0.0"
   ]
  },
  {
   "cell_type": "code",
   "execution_count": 37,
   "id": "d04fb2cf-1050-475b-b855-f5f7cc04092b",
   "metadata": {
    "execution": {
     "iopub.execute_input": "2022-07-11T06:55:07.832133Z",
     "iopub.status.busy": "2022-07-11T06:55:07.831958Z",
     "iopub.status.idle": "2022-07-11T06:55:07.850763Z",
     "shell.execute_reply": "2022-07-11T06:55:07.850166Z"
    },
    "papermill": {
     "duration": 1.271515,
     "end_time": "2022-07-11T06:55:07.852074",
     "exception": false,
     "start_time": "2022-07-11T06:55:06.580559",
     "status": "completed"
    },
    "tags": []
   },
   "outputs": [
    {
     "data": {
      "text/plain": [
       "1.0"
      ]
     },
     "metadata": {},
     "output_type": "display_data"
    }
   ],
   "source": [
    "_max_val = gene_corrs_df.max().max()  # this captures the diagonal\n",
    "display(_max_val)\n",
    "assert _max_val <= 1.0"
   ]
  },
  {
   "cell_type": "code",
   "execution_count": 38,
   "id": "96d02c44-1fba-47be-8a93-8f2608420b9c",
   "metadata": {
    "execution": {
     "iopub.execute_input": "2022-07-11T06:55:10.237173Z",
     "iopub.status.busy": "2022-07-11T06:55:10.237005Z",
     "iopub.status.idle": "2022-07-11T06:55:10.253537Z",
     "shell.execute_reply": "2022-07-11T06:55:10.253144Z"
    },
    "papermill": {
     "duration": 1.146236,
     "end_time": "2022-07-11T06:55:10.254939",
     "exception": false,
     "start_time": "2022-07-11T06:55:09.108703",
     "status": "completed"
    },
    "tags": []
   },
   "outputs": [],
   "source": [
    "# check upper triangular values\n",
    "assert len(gene_corrs) == int(genes_chr.shape[0] * (genes_chr.shape[0] - 1) / 2)"
   ]
  },
  {
   "cell_type": "code",
   "execution_count": 39,
   "id": "aaa51627-f4e3-4744-a41f-7d25adcc0a78",
   "metadata": {
    "execution": {
     "iopub.execute_input": "2022-07-11T06:55:12.726974Z",
     "iopub.status.busy": "2022-07-11T06:55:12.726788Z",
     "iopub.status.idle": "2022-07-11T06:55:12.745278Z",
     "shell.execute_reply": "2022-07-11T06:55:12.744766Z"
    },
    "papermill": {
     "duration": 1.266555,
     "end_time": "2022-07-11T06:55:12.746612",
     "exception": false,
     "start_time": "2022-07-11T06:55:11.480057",
     "status": "completed"
    },
    "tags": []
   },
   "outputs": [],
   "source": [
    "gene_corrs = pd.Series(gene_corrs)"
   ]
  },
  {
   "cell_type": "code",
   "execution_count": 40,
   "id": "fe283586-c348-40e0-8841-f6d97bfb021c",
   "metadata": {
    "execution": {
     "iopub.execute_input": "2022-07-11T06:55:15.517303Z",
     "iopub.status.busy": "2022-07-11T06:55:15.517138Z",
     "iopub.status.idle": "2022-07-11T06:55:15.537713Z",
     "shell.execute_reply": "2022-07-11T06:55:15.537274Z"
    },
    "papermill": {
     "duration": 1.406045,
     "end_time": "2022-07-11T06:55:15.539058",
     "exception": false,
     "start_time": "2022-07-11T06:55:14.133013",
     "status": "completed"
    },
    "tags": []
   },
   "outputs": [
    {
     "data": {
      "text/plain": [
       "count    29890.000000\n",
       "mean         0.003226\n",
       "std          0.027456\n",
       "min          0.000000\n",
       "25%          0.000000\n",
       "50%          0.000000\n",
       "75%          0.000000\n",
       "max          0.923684\n",
       "dtype: float64"
      ]
     },
     "execution_count": 40,
     "metadata": {},
     "output_type": "execute_result"
    }
   ],
   "source": [
    "gene_corrs.describe()"
   ]
  },
  {
   "cell_type": "code",
   "execution_count": 41,
   "id": "b3815678-0f93-4b35-897b-a9d047a2aa78",
   "metadata": {
    "execution": {
     "iopub.execute_input": "2022-07-11T06:55:18.029474Z",
     "iopub.status.busy": "2022-07-11T06:55:18.029307Z",
     "iopub.status.idle": "2022-07-11T06:55:18.066316Z",
     "shell.execute_reply": "2022-07-11T06:55:18.065908Z"
    },
    "papermill": {
     "duration": 1.308054,
     "end_time": "2022-07-11T06:55:18.067446",
     "exception": false,
     "start_time": "2022-07-11T06:55:16.759392",
     "status": "completed"
    },
    "tags": []
   },
   "outputs": [
    {
     "data": {
      "text/plain": [
       "0.00    0.000000\n",
       "0.05    0.000000\n",
       "0.10    0.000000\n",
       "0.15    0.000000\n",
       "0.20    0.000000\n",
       "0.25    0.000000\n",
       "0.30    0.000000\n",
       "0.35    0.000000\n",
       "0.40    0.000000\n",
       "0.45    0.000000\n",
       "0.50    0.000000\n",
       "0.55    0.000000\n",
       "0.60    0.000000\n",
       "0.65    0.000000\n",
       "0.70    0.000000\n",
       "0.75    0.000000\n",
       "0.80    0.000000\n",
       "0.85    0.000000\n",
       "0.90    0.005102\n",
       "0.95    0.010913\n",
       "dtype: float64"
      ]
     },
     "metadata": {},
     "output_type": "display_data"
    }
   ],
   "source": [
    "gene_corrs_quantiles = gene_corrs.quantile(np.arange(0, 1, 0.05))\n",
    "display(gene_corrs_quantiles)"
   ]
  },
  {
   "cell_type": "markdown",
   "id": "8e60a080-edb2-4e9c-b2ef-22961693200c",
   "metadata": {
    "papermill": {
     "duration": 1.490373,
     "end_time": "2022-07-11T06:55:20.803181",
     "exception": false,
     "start_time": "2022-07-11T06:55:19.312808",
     "status": "completed"
    },
    "tags": []
   },
   "source": [
    "## Plot: distribution"
   ]
  },
  {
   "cell_type": "code",
   "execution_count": 42,
   "id": "8301126b-a7d4-4744-9c7d-f0f86eb6f54c",
   "metadata": {
    "execution": {
     "iopub.execute_input": "2022-07-11T06:55:23.323207Z",
     "iopub.status.busy": "2022-07-11T06:55:23.322767Z",
     "iopub.status.idle": "2022-07-11T06:55:23.887936Z",
     "shell.execute_reply": "2022-07-11T06:55:23.887528Z"
    },
    "papermill": {
     "duration": 1.737574,
     "end_time": "2022-07-11T06:55:23.889112",
     "exception": false,
     "start_time": "2022-07-11T06:55:22.151538",
     "status": "completed"
    },
    "tags": []
   },
   "outputs": [
    {
     "data": {
      "image/png": "[encoded data removed]",
      "text/plain": [
       "<Figure size 504x504 with 1 Axes>"
      ]
     },
     "metadata": {
      "needs_background": "light"
     },
     "output_type": "display_data"
    }
   ],
   "source": [
    "with sns.plotting_context(\"paper\", font_scale=1.5):\n",
    "    g = sns.displot(gene_corrs, kde=True, height=7)\n",
    "    g.ax.set_title(\n",
    "        f\"Distribution of gene correlation values in chromosome {chromosome}\"\n",
    "    )"
   ]
  },
  {
   "cell_type": "markdown",
   "id": "cbd52bca-d878-4a2f-b684-5c83aa3038d4",
   "metadata": {
    "papermill": {
     "duration": 1.135274,
     "end_time": "2022-07-11T06:55:26.220052",
     "exception": false,
     "start_time": "2022-07-11T06:55:25.084778",
     "status": "completed"
    },
    "tags": []
   },
   "source": [
    "## Plot: heatmap"
   ]
  },
  {
   "cell_type": "code",
   "execution_count": 43,
   "id": "d03fe63a-c7b2-4fb9-a53c-db362ce843c9",
   "metadata": {
    "execution": {
     "iopub.execute_input": "2022-07-11T06:55:28.688919Z",
     "iopub.status.busy": "2022-07-11T06:55:28.688756Z",
     "iopub.status.idle": "2022-07-11T06:55:28.721563Z",
     "shell.execute_reply": "2022-07-11T06:55:28.721174Z"
    },
    "papermill": {
     "duration": 1.341804,
     "end_time": "2022-07-11T06:55:28.722757",
     "exception": false,
     "start_time": "2022-07-11T06:55:27.380953",
     "status": "completed"
    },
    "tags": []
   },
   "outputs": [
    {
     "data": {
      "text/plain": [
       "'-0.05 / 0.05'"
      ]
     },
     "metadata": {},
     "output_type": "display_data"
    }
   ],
   "source": [
    "vmin_val = min(-0.05, gene_corrs_quantiles[0.10])\n",
    "vmax_val = max(0.05, gene_corrs_quantiles[0.90])\n",
    "display(f\"{vmin_val} / {vmax_val}\")"
   ]
  },
  {
   "cell_type": "code",
   "execution_count": 44,
   "id": "dc41b70b-5bcc-4d9e-9f33-a22c4a94dab5",
   "metadata": {
    "execution": {
     "iopub.execute_input": "2022-07-11T06:55:31.093892Z",
     "iopub.status.busy": "2022-07-11T06:55:31.093555Z",
     "iopub.status.idle": "2022-07-11T06:55:31.286121Z",
     "shell.execute_reply": "2022-07-11T06:55:31.285561Z"
    },
    "papermill": {
     "duration": 1.356277,
     "end_time": "2022-07-11T06:55:31.287449",
     "exception": false,
     "start_time": "2022-07-11T06:55:29.931172",
     "status": "completed"
    },
    "tags": []
   },
   "outputs": [
    {
     "data": {
      "text/plain": [
       "Text(0.5, 1.0, 'Gene correlations in chromosome 9')"
      ]
     },
     "execution_count": 44,
     "metadata": {},
     "output_type": "execute_result"
    },
    {
     "data": {
      "image/png": "[encoded data removed]",
      "text/plain": [
       "<Figure size 720x720 with 2 Axes>"
      ]
     },
     "metadata": {
      "needs_background": "light"
     },
     "output_type": "display_data"
    }
   ],
   "source": [
    "f, ax = plt.subplots(figsize=(10, 10))\n",
    "sns.heatmap(\n",
    "    gene_corrs_df,\n",
    "    xticklabels=False,\n",
    "    yticklabels=False,\n",
    "    square=True,\n",
    "    vmin=vmin_val,\n",
    "    vmax=vmax_val,\n",
    "    cmap=\"YlGnBu\",\n",
    "    ax=ax,\n",
    ")\n",
    "ax.set_title(f\"Gene correlations in chromosome {chromosome}\")"
   ]
  },
  {
   "cell_type": "code",
   "execution_count": null,
   "id": "b25e3ead",
   "metadata": {
    "papermill": {
     "duration": 1.199002,
     "end_time": "2022-07-11T06:55:33.599494",
     "exception": false,
     "start_time": "2022-07-11T06:55:32.400492",
     "status": "completed"
    },
    "tags": []
   },
   "outputs": [],
   "source": []
  }
 ],
 "metadata": {
  "jupytext": {
   "cell_metadata_filter": "all,-execution,-papermill,-trusted",
   "formats": "ipynb,py//py:percent"
  },
  "kernelspec": {
   "display_name": "Python 3 (ipykernel)",
   "language": "python",
   "name": "python3"
  },
  "language_info": {
   "codemirror_mode": {
    "name": "ipython",
    "version": 3
   },
   "file_extension": ".py",
   "mimetype": "text/x-python",
   "name": "python",
   "nbconvert_exporter": "python",
   "pygments_lexer": "ipython3",
   "version": "3.8.13"
  },
  "papermill": {
   "default_parameters": {},
   "duration": 530.24524,
   "end_time": "2022-07-11T06:55:38.102156",
   "environment_variables": {},
   "exception": null,
   "input_path": "nbs/15_gsa_gls/10-gene_expr_correlations.ipynb",
   "output_path": "nbs/15_gsa_gls/gene_corrs/1000g/mashr/10-gene_expr_correlations-chr9.run.ipynb",
   "parameters": {
    "EQTL_MODEL": "MASHR",
    "REFERENCE_PANEL": "1000G",
    "chromosome": 9
   },
   "start_time": "2022-07-11T06:46:47.856916",
   "version": "2.2.2"
  }
 },
 "nbformat": 4,
 "nbformat_minor": 5
}
