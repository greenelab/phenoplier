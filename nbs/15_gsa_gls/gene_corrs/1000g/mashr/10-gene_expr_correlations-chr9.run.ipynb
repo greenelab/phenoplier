{
 "cells": [
  {
   "cell_type": "markdown",
   "id": "7a6632fb",
   "metadata": {
    "papermill": {
     "duration": 0.006686,
     "end_time": "2022-07-12T05:58:47.542682",
     "exception": false,
     "start_time": "2022-07-12T05:58:47.535996",
     "status": "completed"
    },
    "tags": []
   },
   "source": [
    "# Description"
   ]
  },
  {
   "cell_type": "markdown",
   "id": "7097c346",
   "metadata": {
    "papermill": {
     "duration": 0.006465,
     "end_time": "2022-07-12T05:58:47.555852",
     "exception": false,
     "start_time": "2022-07-12T05:58:47.549387",
     "status": "completed"
    },
    "tags": []
   },
   "source": [
    "(Please, take a look at the README.md file in this directory for instructions on how to run this notebook)\n",
    "\n",
    "This notebook computes predicted expression correlations between all genes in the MultiPLIER models.\n",
    "\n",
    "It also has a parameter set for papermill to run on a single chromosome to run in parallel (see under `Settings` below).\n",
    "\n",
    "This notebook is not directly run. See README.md."
   ]
  },
  {
   "cell_type": "markdown",
   "id": "c61d8427",
   "metadata": {
    "papermill": {
     "duration": 0.006446,
     "end_time": "2022-07-12T05:58:47.568898",
     "exception": false,
     "start_time": "2022-07-12T05:58:47.562452",
     "status": "completed"
    },
    "tags": []
   },
   "source": [
    "# Modules"
   ]
  },
  {
   "cell_type": "code",
   "execution_count": 1,
   "id": "bbc0234f",
   "metadata": {
    "execution": {
     "iopub.execute_input": "2022-07-12T05:58:47.583815Z",
     "iopub.status.busy": "2022-07-12T05:58:47.583310Z",
     "iopub.status.idle": "2022-07-12T05:58:47.598776Z",
     "shell.execute_reply": "2022-07-12T05:58:47.598403Z"
    },
    "papermill": {
     "duration": 0.024767,
     "end_time": "2022-07-12T05:58:47.600237",
     "exception": false,
     "start_time": "2022-07-12T05:58:47.575470",
     "status": "completed"
    },
    "tags": []
   },
   "outputs": [],
   "source": [
    "%load_ext autoreload\n",
    "%autoreload 2"
   ]
  },
  {
   "cell_type": "code",
   "execution_count": 2,
   "id": "1d5f5a59",
   "metadata": {
    "execution": {
     "iopub.execute_input": "2022-07-12T05:58:47.639526Z",
     "iopub.status.busy": "2022-07-12T05:58:47.639360Z",
     "iopub.status.idle": "2022-07-12T05:58:48.486178Z",
     "shell.execute_reply": "2022-07-12T05:58:48.485774Z"
    },
    "papermill": {
     "duration": 0.855097,
     "end_time": "2022-07-12T05:58:48.487626",
     "exception": false,
     "start_time": "2022-07-12T05:58:47.632529",
     "status": "completed"
    },
    "tags": []
   },
   "outputs": [],
   "source": [
    "from random import sample, seed\n",
    "import warnings\n",
    "from pathlib import Path\n",
    "\n",
    "import numpy as np\n",
    "from scipy.spatial.distance import squareform\n",
    "import pandas as pd\n",
    "from tqdm import tqdm\n",
    "import matplotlib.pyplot as plt\n",
    "import seaborn as sns\n",
    "\n",
    "import conf\n",
    "from entity import Gene"
   ]
  },
  {
   "cell_type": "markdown",
   "id": "1eac24b5",
   "metadata": {
    "papermill": {
     "duration": 0.005732,
     "end_time": "2022-07-12T05:58:48.499397",
     "exception": false,
     "start_time": "2022-07-12T05:58:48.493665",
     "status": "completed"
    },
    "tags": []
   },
   "source": [
    "# Settings"
   ]
  },
  {
   "cell_type": "code",
   "execution_count": 3,
   "id": "ca4560ba",
   "metadata": {
    "execution": {
     "iopub.execute_input": "2022-07-12T05:58:48.511202Z",
     "iopub.status.busy": "2022-07-12T05:58:48.511042Z",
     "iopub.status.idle": "2022-07-12T05:58:48.526334Z",
     "shell.execute_reply": "2022-07-12T05:58:48.525951Z"
    },
    "papermill": {
     "duration": 0.022761,
     "end_time": "2022-07-12T05:58:48.527756",
     "exception": false,
     "start_time": "2022-07-12T05:58:48.504995",
     "status": "completed"
    },
    "tags": [
     "parameters"
    ]
   },
   "outputs": [],
   "source": [
    "# reference panel\n",
    "REFERENCE_PANEL = \"GTEX_V8\"\n",
    "# REFERENCE_PANEL = \"1000G\"\n",
    "\n",
    "# prediction models\n",
    "## mashr\n",
    "EQTL_MODEL = \"MASHR\"\n",
    "\n",
    "# this is the default value used in S-MultiXcan to select the\n",
    "# top principal components of the expression correlation matrix\n",
    "SMULTIXCAN_CONDITION_NUMBER = 30\n",
    "\n",
    "# specifies a single chromosome value\n",
    "# by default, run on all chromosomes\n",
    "chromosome = None"
   ]
  },
  {
   "cell_type": "code",
   "execution_count": 4,
   "id": "3686e6bf",
   "metadata": {
    "execution": {
     "iopub.execute_input": "2022-07-12T05:58:48.539889Z",
     "iopub.status.busy": "2022-07-12T05:58:48.539728Z",
     "iopub.status.idle": "2022-07-12T05:58:48.554616Z",
     "shell.execute_reply": "2022-07-12T05:58:48.554210Z"
    },
    "papermill": {
     "duration": 0.022377,
     "end_time": "2022-07-12T05:58:48.556006",
     "exception": false,
     "start_time": "2022-07-12T05:58:48.533629",
     "status": "completed"
    },
    "tags": [
     "injected-parameters"
    ]
   },
   "outputs": [],
   "source": [
    "# Parameters\n",
    "chromosome = 9\n",
    "REFERENCE_PANEL = \"1000G\"\n",
    "EQTL_MODEL = \"MASHR\"\n"
   ]
  },
  {
   "cell_type": "code",
   "execution_count": 5,
   "id": "a089c9ff",
   "metadata": {
    "execution": {
     "iopub.execute_input": "2022-07-12T05:58:48.568042Z",
     "iopub.status.busy": "2022-07-12T05:58:48.567886Z",
     "iopub.status.idle": "2022-07-12T05:58:48.582955Z",
     "shell.execute_reply": "2022-07-12T05:58:48.582538Z"
    },
    "papermill": {
     "duration": 0.022532,
     "end_time": "2022-07-12T05:58:48.584359",
     "exception": false,
     "start_time": "2022-07-12T05:58:48.561827",
     "status": "completed"
    },
    "tags": []
   },
   "outputs": [],
   "source": [
    "EQTL_MODEL_FILES_PREFIX = conf.PHENOMEXCAN[\"PREDICTION_MODELS\"][f\"{EQTL_MODEL}_PREFIX\"]"
   ]
  },
  {
   "cell_type": "code",
   "execution_count": 6,
   "id": "8fe24bef",
   "metadata": {
    "execution": {
     "iopub.execute_input": "2022-07-12T05:58:48.596530Z",
     "iopub.status.busy": "2022-07-12T05:58:48.596374Z",
     "iopub.status.idle": "2022-07-12T05:58:48.614313Z",
     "shell.execute_reply": "2022-07-12T05:58:48.613812Z"
    },
    "papermill": {
     "duration": 0.025463,
     "end_time": "2022-07-12T05:58:48.615636",
     "exception": false,
     "start_time": "2022-07-12T05:58:48.590173",
     "status": "completed"
    },
    "tags": []
   },
   "outputs": [
    {
     "data": {
      "text/plain": [
       "'Using eQTL model: MASHR / mashr_'"
      ]
     },
     "metadata": {},
     "output_type": "display_data"
    }
   ],
   "source": [
    "display(f\"Using eQTL model: {EQTL_MODEL} / {EQTL_MODEL_FILES_PREFIX}\")"
   ]
  },
  {
   "cell_type": "code",
   "execution_count": 7,
   "id": "552a7f63-a18c-4d3e-bb6a-94f99b431291",
   "metadata": {
    "execution": {
     "iopub.execute_input": "2022-07-12T05:58:48.627941Z",
     "iopub.status.busy": "2022-07-12T05:58:48.627781Z",
     "iopub.status.idle": "2022-07-12T05:58:48.644503Z",
     "shell.execute_reply": "2022-07-12T05:58:48.644098Z"
    },
    "papermill": {
     "duration": 0.024401,
     "end_time": "2022-07-12T05:58:48.645960",
     "exception": false,
     "start_time": "2022-07-12T05:58:48.621559",
     "status": "completed"
    },
    "tags": []
   },
   "outputs": [
    {
     "data": {
      "text/plain": [
       "'S-MultiXcan condition number: 30'"
      ]
     },
     "metadata": {},
     "output_type": "display_data"
    }
   ],
   "source": [
    "display(f\"S-MultiXcan condition number: {SMULTIXCAN_CONDITION_NUMBER}\")"
   ]
  },
  {
   "cell_type": "code",
   "execution_count": 8,
   "id": "0230ebcb-2c32-4b95-9292-d9a52038e70d",
   "metadata": {
    "execution": {
     "iopub.execute_input": "2022-07-12T05:58:48.658291Z",
     "iopub.status.busy": "2022-07-12T05:58:48.658133Z",
     "iopub.status.idle": "2022-07-12T05:58:48.673213Z",
     "shell.execute_reply": "2022-07-12T05:58:48.672808Z"
    },
    "papermill": {
     "duration": 0.022901,
     "end_time": "2022-07-12T05:58:48.674730",
     "exception": false,
     "start_time": "2022-07-12T05:58:48.651829",
     "status": "completed"
    },
    "tags": []
   },
   "outputs": [],
   "source": [
    "REFERENCE_PANEL_DIR = conf.PHENOMEXCAN[\"LD_BLOCKS\"][f\"{REFERENCE_PANEL}_GENOTYPE_DIR\"]"
   ]
  },
  {
   "cell_type": "code",
   "execution_count": 9,
   "id": "98c4a159-601d-4a22-a1ab-35bd451c25f9",
   "metadata": {
    "execution": {
     "iopub.execute_input": "2022-07-12T05:58:48.687022Z",
     "iopub.status.busy": "2022-07-12T05:58:48.686866Z",
     "iopub.status.idle": "2022-07-12T05:58:48.703239Z",
     "shell.execute_reply": "2022-07-12T05:58:48.702832Z"
    },
    "papermill": {
     "duration": 0.024066,
     "end_time": "2022-07-12T05:58:48.704671",
     "exception": false,
     "start_time": "2022-07-12T05:58:48.680605",
     "status": "completed"
    },
    "tags": []
   },
   "outputs": [
    {
     "data": {
      "text/plain": [
       "'Using reference panel folder: /opt/data/data/phenomexcan/ld_blocks/reference_panel_1000G'"
      ]
     },
     "metadata": {},
     "output_type": "display_data"
    }
   ],
   "source": [
    "display(f\"Using reference panel folder: {str(REFERENCE_PANEL_DIR)}\")"
   ]
  },
  {
   "cell_type": "code",
   "execution_count": 10,
   "id": "396392dc-0340-4540-9b02-e182b833f909",
   "metadata": {
    "execution": {
     "iopub.execute_input": "2022-07-12T05:58:48.717279Z",
     "iopub.status.busy": "2022-07-12T05:58:48.717122Z",
     "iopub.status.idle": "2022-07-12T05:58:48.732452Z",
     "shell.execute_reply": "2022-07-12T05:58:48.732051Z"
    },
    "papermill": {
     "duration": 0.023133,
     "end_time": "2022-07-12T05:58:48.733719",
     "exception": false,
     "start_time": "2022-07-12T05:58:48.710586",
     "status": "completed"
    },
    "tags": []
   },
   "outputs": [],
   "source": [
    "OUTPUT_DIR_BASE = (\n",
    "    conf.PHENOMEXCAN[\"LD_BLOCKS\"][f\"GENE_CORRS_DIR\"]\n",
    "    / REFERENCE_PANEL.lower()\n",
    "    / EQTL_MODEL.lower()\n",
    ")\n",
    "OUTPUT_DIR_BASE.mkdir(parents=True, exist_ok=True)"
   ]
  },
  {
   "cell_type": "code",
   "execution_count": 11,
   "id": "8942c2d3-e53c-4d63-a0eb-b6fce0574d36",
   "metadata": {
    "execution": {
     "iopub.execute_input": "2022-07-12T05:58:48.746411Z",
     "iopub.status.busy": "2022-07-12T05:58:48.746254Z",
     "iopub.status.idle": "2022-07-12T05:58:48.762455Z",
     "shell.execute_reply": "2022-07-12T05:58:48.762046Z"
    },
    "papermill": {
     "duration": 0.024073,
     "end_time": "2022-07-12T05:58:48.763964",
     "exception": false,
     "start_time": "2022-07-12T05:58:48.739891",
     "status": "completed"
    },
    "tags": []
   },
   "outputs": [
    {
     "data": {
      "text/plain": [
       "'Using output dir base: /opt/data/data/phenomexcan/ld_blocks/gene_corrs/1000g/mashr'"
      ]
     },
     "metadata": {},
     "output_type": "display_data"
    }
   ],
   "source": [
    "display(f\"Using output dir base: {OUTPUT_DIR_BASE}\")"
   ]
  },
  {
   "cell_type": "code",
   "execution_count": 12,
   "id": "408aa590",
   "metadata": {
    "execution": {
     "iopub.execute_input": "2022-07-12T05:58:48.776821Z",
     "iopub.status.busy": "2022-07-12T05:58:48.776443Z",
     "iopub.status.idle": "2022-07-12T05:58:48.791002Z",
     "shell.execute_reply": "2022-07-12T05:58:48.790611Z"
    },
    "papermill": {
     "duration": 0.022296,
     "end_time": "2022-07-12T05:58:48.792284",
     "exception": false,
     "start_time": "2022-07-12T05:58:48.769988",
     "status": "completed"
    },
    "tags": []
   },
   "outputs": [],
   "source": [
    "assert (\n",
    "    chromosome is not None\n",
    "), \"You have to select one chromosome (format: number between 1 and 22)\""
   ]
  },
  {
   "cell_type": "code",
   "execution_count": 13,
   "id": "c1c7dd06-80ff-453c-bcb7-0899edce75da",
   "metadata": {
    "execution": {
     "iopub.execute_input": "2022-07-12T05:58:48.805445Z",
     "iopub.status.busy": "2022-07-12T05:58:48.805067Z",
     "iopub.status.idle": "2022-07-12T05:58:48.819721Z",
     "shell.execute_reply": "2022-07-12T05:58:48.819320Z"
    },
    "papermill": {
     "duration": 0.02262,
     "end_time": "2022-07-12T05:58:48.821163",
     "exception": false,
     "start_time": "2022-07-12T05:58:48.798543",
     "status": "completed"
    },
    "tags": []
   },
   "outputs": [],
   "source": [
    "chromosome = str(chromosome)"
   ]
  },
  {
   "cell_type": "code",
   "execution_count": 14,
   "id": "bc17b84c-9c26-47a5-a3ab-7046e72f3ef4",
   "metadata": {
    "execution": {
     "iopub.execute_input": "2022-07-12T05:58:48.834042Z",
     "iopub.status.busy": "2022-07-12T05:58:48.833696Z",
     "iopub.status.idle": "2022-07-12T05:58:48.849816Z",
     "shell.execute_reply": "2022-07-12T05:58:48.849446Z"
    },
    "papermill": {
     "duration": 0.023966,
     "end_time": "2022-07-12T05:58:48.851181",
     "exception": false,
     "start_time": "2022-07-12T05:58:48.827215",
     "status": "completed"
    },
    "tags": []
   },
   "outputs": [
    {
     "data": {
      "text/plain": [
       "'Working on chromosome 9'"
      ]
     },
     "metadata": {},
     "output_type": "display_data"
    }
   ],
   "source": [
    "display(f\"Working on chromosome {chromosome}\")"
   ]
  },
  {
   "cell_type": "code",
   "execution_count": 15,
   "id": "3c7d8574-90c7-4d09-bc8c-469ed0a34737",
   "metadata": {
    "execution": {
     "iopub.execute_input": "2022-07-12T05:58:48.864502Z",
     "iopub.status.busy": "2022-07-12T05:58:48.864152Z",
     "iopub.status.idle": "2022-07-12T05:58:48.880343Z",
     "shell.execute_reply": "2022-07-12T05:58:48.879965Z"
    },
    "papermill": {
     "duration": 0.02429,
     "end_time": "2022-07-12T05:58:48.881671",
     "exception": false,
     "start_time": "2022-07-12T05:58:48.857381",
     "status": "completed"
    },
    "tags": []
   },
   "outputs": [
    {
     "data": {
      "text/plain": [
       "'Compute correlation within distance False'"
      ]
     },
     "metadata": {},
     "output_type": "display_data"
    }
   ],
   "source": [
    "# This paramter, if True, computes the correlation between closeby genes only\n",
    "COMPUTE_CORRELATIONS_WITHIN_DISTANCE = False\n",
    "display(f\"Compute correlation within distance {COMPUTE_CORRELATIONS_WITHIN_DISTANCE}\")"
   ]
  },
  {
   "cell_type": "markdown",
   "id": "d2ba085e",
   "metadata": {
    "papermill": {
     "duration": 0.006112,
     "end_time": "2022-07-12T05:58:48.894004",
     "exception": false,
     "start_time": "2022-07-12T05:58:48.887892",
     "status": "completed"
    },
    "tags": []
   },
   "source": [
    "# Load data"
   ]
  },
  {
   "cell_type": "markdown",
   "id": "7bed0ce0-e7c7-4300-9a61-5412450b1904",
   "metadata": {
    "papermill": {
     "duration": 0.005974,
     "end_time": "2022-07-12T05:58:48.906175",
     "exception": false,
     "start_time": "2022-07-12T05:58:48.900201",
     "status": "completed"
    },
    "tags": []
   },
   "source": [
    "## Prediction model tissues"
   ]
  },
  {
   "cell_type": "code",
   "execution_count": 16,
   "id": "0847c065-0d69-4830-a07f-1c75115d17f5",
   "metadata": {
    "execution": {
     "iopub.execute_input": "2022-07-12T05:58:48.919526Z",
     "iopub.status.busy": "2022-07-12T05:58:48.919172Z",
     "iopub.status.idle": "2022-07-12T05:58:48.933987Z",
     "shell.execute_reply": "2022-07-12T05:58:48.933569Z"
    },
    "papermill": {
     "duration": 0.023152,
     "end_time": "2022-07-12T05:58:48.935452",
     "exception": false,
     "start_time": "2022-07-12T05:58:48.912300",
     "status": "completed"
    },
    "tags": []
   },
   "outputs": [],
   "source": [
    "prediction_model_tissues = conf.PHENOMEXCAN[\"PREDICTION_MODELS\"][\n",
    "    f\"{EQTL_MODEL}_TISSUES\"\n",
    "].split(\" \")"
   ]
  },
  {
   "cell_type": "code",
   "execution_count": 17,
   "id": "aaef70d1-30c6-4c6f-9d6b-abc8e9a0081f",
   "metadata": {
    "execution": {
     "iopub.execute_input": "2022-07-12T05:58:48.948895Z",
     "iopub.status.busy": "2022-07-12T05:58:48.948519Z",
     "iopub.status.idle": "2022-07-12T05:58:48.964902Z",
     "shell.execute_reply": "2022-07-12T05:58:48.964505Z"
    },
    "papermill": {
     "duration": 0.024464,
     "end_time": "2022-07-12T05:58:48.966262",
     "exception": false,
     "start_time": "2022-07-12T05:58:48.941798",
     "status": "completed"
    },
    "tags": []
   },
   "outputs": [
    {
     "data": {
      "text/plain": [
       "49"
      ]
     },
     "execution_count": 17,
     "metadata": {},
     "output_type": "execute_result"
    }
   ],
   "source": [
    "len(prediction_model_tissues)"
   ]
  },
  {
   "cell_type": "code",
   "execution_count": 18,
   "id": "ff35a099-c52d-465d-b863-0ee70c26208c",
   "metadata": {
    "execution": {
     "iopub.execute_input": "2022-07-12T05:58:48.980660Z",
     "iopub.status.busy": "2022-07-12T05:58:48.979664Z",
     "iopub.status.idle": "2022-07-12T05:58:48.996152Z",
     "shell.execute_reply": "2022-07-12T05:58:48.995788Z"
    },
    "papermill": {
     "duration": 0.024758,
     "end_time": "2022-07-12T05:58:48.997479",
     "exception": false,
     "start_time": "2022-07-12T05:58:48.972721",
     "status": "completed"
    },
    "tags": []
   },
   "outputs": [
    {
     "data": {
      "text/plain": [
       "['Skin_Not_Sun_Exposed_Suprapubic',\n",
       " 'Cells_EBV-transformed_lymphocytes',\n",
       " 'Brain_Frontal_Cortex_BA9',\n",
       " 'Kidney_Cortex',\n",
       " 'Brain_Substantia_nigra']"
      ]
     },
     "execution_count": 18,
     "metadata": {},
     "output_type": "execute_result"
    }
   ],
   "source": [
    "prediction_model_tissues[:5]"
   ]
  },
  {
   "cell_type": "markdown",
   "id": "abcc4b3d",
   "metadata": {
    "papermill": {
     "duration": 0.006209,
     "end_time": "2022-07-12T05:58:49.010124",
     "exception": false,
     "start_time": "2022-07-12T05:58:49.003915",
     "status": "completed"
    },
    "tags": []
   },
   "source": [
    "## MultiPLIER Z"
   ]
  },
  {
   "cell_type": "code",
   "execution_count": 19,
   "id": "c48ef527",
   "metadata": {
    "execution": {
     "iopub.execute_input": "2022-07-12T05:58:49.023912Z",
     "iopub.status.busy": "2022-07-12T05:58:49.023546Z",
     "iopub.status.idle": "2022-07-12T05:58:49.061594Z",
     "shell.execute_reply": "2022-07-12T05:58:49.061180Z"
    },
    "papermill": {
     "duration": 0.04633,
     "end_time": "2022-07-12T05:58:49.062964",
     "exception": false,
     "start_time": "2022-07-12T05:58:49.016634",
     "status": "completed"
    },
    "tags": []
   },
   "outputs": [],
   "source": [
    "multiplier_z_genes = pd.read_pickle(\n",
    "    conf.MULTIPLIER[\"MODEL_Z_MATRIX_FILE\"]\n",
    ").index.tolist()"
   ]
  },
  {
   "cell_type": "code",
   "execution_count": 20,
   "id": "0a4ecbd9",
   "metadata": {
    "execution": {
     "iopub.execute_input": "2022-07-12T05:58:49.076967Z",
     "iopub.status.busy": "2022-07-12T05:58:49.076597Z",
     "iopub.status.idle": "2022-07-12T05:58:49.092784Z",
     "shell.execute_reply": "2022-07-12T05:58:49.092398Z"
    },
    "papermill": {
     "duration": 0.024381,
     "end_time": "2022-07-12T05:58:49.094060",
     "exception": false,
     "start_time": "2022-07-12T05:58:49.069679",
     "status": "completed"
    },
    "tags": []
   },
   "outputs": [
    {
     "data": {
      "text/plain": [
       "6750"
      ]
     },
     "execution_count": 20,
     "metadata": {},
     "output_type": "execute_result"
    }
   ],
   "source": [
    "len(multiplier_z_genes)"
   ]
  },
  {
   "cell_type": "code",
   "execution_count": 21,
   "id": "115e8864",
   "metadata": {
    "execution": {
     "iopub.execute_input": "2022-07-12T05:58:49.108144Z",
     "iopub.status.busy": "2022-07-12T05:58:49.107770Z",
     "iopub.status.idle": "2022-07-12T05:58:49.124165Z",
     "shell.execute_reply": "2022-07-12T05:58:49.123720Z"
    },
    "papermill": {
     "duration": 0.024756,
     "end_time": "2022-07-12T05:58:49.125536",
     "exception": false,
     "start_time": "2022-07-12T05:58:49.100780",
     "status": "completed"
    },
    "tags": []
   },
   "outputs": [
    {
     "data": {
      "text/plain": [
       "['GAS6',\n",
       " 'MMP14',\n",
       " 'DSP',\n",
       " 'MARCKSL1',\n",
       " 'SPARC',\n",
       " 'CTSD',\n",
       " 'EPAS1',\n",
       " 'PALLD',\n",
       " 'PHC2',\n",
       " 'LGALS3BP']"
      ]
     },
     "execution_count": 21,
     "metadata": {},
     "output_type": "execute_result"
    }
   ],
   "source": [
    "multiplier_z_genes[:10]"
   ]
  },
  {
   "cell_type": "markdown",
   "id": "7dcb8db7",
   "metadata": {
    "papermill": {
     "duration": 0.006412,
     "end_time": "2022-07-12T05:58:49.138910",
     "exception": false,
     "start_time": "2022-07-12T05:58:49.132498",
     "status": "completed"
    },
    "tags": []
   },
   "source": [
    "## Get gene objects"
   ]
  },
  {
   "cell_type": "code",
   "execution_count": 22,
   "id": "bb932812",
   "metadata": {
    "execution": {
     "iopub.execute_input": "2022-07-12T05:58:49.153093Z",
     "iopub.status.busy": "2022-07-12T05:58:49.152712Z",
     "iopub.status.idle": "2022-07-12T05:58:49.173961Z",
     "shell.execute_reply": "2022-07-12T05:58:49.173562Z"
    },
    "papermill": {
     "duration": 0.029705,
     "end_time": "2022-07-12T05:58:49.175248",
     "exception": false,
     "start_time": "2022-07-12T05:58:49.145543",
     "status": "completed"
    },
    "tags": []
   },
   "outputs": [],
   "source": [
    "multiplier_gene_obj = {\n",
    "    gene_name: Gene(name=gene_name)\n",
    "    for gene_name in multiplier_z_genes\n",
    "    if gene_name in Gene.GENE_NAME_TO_ID_MAP\n",
    "}"
   ]
  },
  {
   "cell_type": "code",
   "execution_count": 23,
   "id": "39533214",
   "metadata": {
    "execution": {
     "iopub.execute_input": "2022-07-12T05:58:49.189668Z",
     "iopub.status.busy": "2022-07-12T05:58:49.189318Z",
     "iopub.status.idle": "2022-07-12T05:58:49.206157Z",
     "shell.execute_reply": "2022-07-12T05:58:49.205741Z"
    },
    "papermill": {
     "duration": 0.025418,
     "end_time": "2022-07-12T05:58:49.207607",
     "exception": false,
     "start_time": "2022-07-12T05:58:49.182189",
     "status": "completed"
    },
    "tags": []
   },
   "outputs": [
    {
     "data": {
      "text/plain": [
       "6454"
      ]
     },
     "execution_count": 23,
     "metadata": {},
     "output_type": "execute_result"
    }
   ],
   "source": [
    "len(multiplier_gene_obj)"
   ]
  },
  {
   "cell_type": "code",
   "execution_count": 24,
   "id": "9a5d0b84",
   "metadata": {
    "execution": {
     "iopub.execute_input": "2022-07-12T05:58:49.224302Z",
     "iopub.status.busy": "2022-07-12T05:58:49.223859Z",
     "iopub.status.idle": "2022-07-12T05:58:49.242282Z",
     "shell.execute_reply": "2022-07-12T05:58:49.241857Z"
    },
    "papermill": {
     "duration": 0.028403,
     "end_time": "2022-07-12T05:58:49.243922",
     "exception": false,
     "start_time": "2022-07-12T05:58:49.215519",
     "status": "completed"
    },
    "tags": []
   },
   "outputs": [
    {
     "data": {
      "text/plain": [
       "'ENSG00000183087'"
      ]
     },
     "execution_count": 24,
     "metadata": {},
     "output_type": "execute_result"
    }
   ],
   "source": [
    "multiplier_gene_obj[\"GAS6\"].ensembl_id"
   ]
  },
  {
   "cell_type": "code",
   "execution_count": 25,
   "id": "e3ffabc7",
   "metadata": {
    "execution": {
     "iopub.execute_input": "2022-07-12T05:58:49.260185Z",
     "iopub.status.busy": "2022-07-12T05:58:49.259769Z",
     "iopub.status.idle": "2022-07-12T05:58:51.454939Z",
     "shell.execute_reply": "2022-07-12T05:58:51.454375Z"
    },
    "papermill": {
     "duration": 2.204614,
     "end_time": "2022-07-12T05:58:51.456269",
     "exception": false,
     "start_time": "2022-07-12T05:58:49.251655",
     "status": "completed"
    },
    "tags": []
   },
   "outputs": [],
   "source": [
    "_gene_obj = list(multiplier_gene_obj.values())\n",
    "\n",
    "genes_info = pd.DataFrame(\n",
    "    {\n",
    "        \"name\": [g.name for g in _gene_obj],\n",
    "        \"id\": [g.ensembl_id for g in _gene_obj],\n",
    "        \"chr\": [g.chromosome for g in _gene_obj],\n",
    "        \"band\": [g.band for g in _gene_obj],\n",
    "        \"start_position\": [g.get_attribute(\"start_position\") for g in _gene_obj],\n",
    "    }\n",
    ")"
   ]
  },
  {
   "cell_type": "code",
   "execution_count": 26,
   "id": "e23519b8",
   "metadata": {
    "execution": {
     "iopub.execute_input": "2022-07-12T05:58:51.471529Z",
     "iopub.status.busy": "2022-07-12T05:58:51.471332Z",
     "iopub.status.idle": "2022-07-12T05:58:51.487510Z",
     "shell.execute_reply": "2022-07-12T05:58:51.487094Z"
    },
    "papermill": {
     "duration": 0.026232,
     "end_time": "2022-07-12T05:58:51.489604",
     "exception": false,
     "start_time": "2022-07-12T05:58:51.463372",
     "status": "completed"
    },
    "tags": []
   },
   "outputs": [
    {
     "data": {
      "text/plain": [
       "(6454, 5)"
      ]
     },
     "execution_count": 26,
     "metadata": {},
     "output_type": "execute_result"
    }
   ],
   "source": [
    "genes_info.shape"
   ]
  },
  {
   "cell_type": "code",
   "execution_count": 27,
   "id": "0d71881c",
   "metadata": {
    "execution": {
     "iopub.execute_input": "2022-07-12T05:58:51.504395Z",
     "iopub.status.busy": "2022-07-12T05:58:51.504173Z",
     "iopub.status.idle": "2022-07-12T05:58:51.524270Z",
     "shell.execute_reply": "2022-07-12T05:58:51.523867Z"
    },
    "papermill": {
     "duration": 0.028818,
     "end_time": "2022-07-12T05:58:51.525490",
     "exception": false,
     "start_time": "2022-07-12T05:58:51.496672",
     "status": "completed"
    },
    "tags": []
   },
   "outputs": [
    {
     "data": {
      "text/html": [
       "<div>\n",
       "<style scoped>\n",
       "    .dataframe tbody tr th:only-of-type {\n",
       "        vertical-align: middle;\n",
       "    }\n",
       "\n",
       "    .dataframe tbody tr th {\n",
       "        vertical-align: top;\n",
       "    }\n",
       "\n",
       "    .dataframe thead th {\n",
       "        text-align: right;\n",
       "    }\n",
       "</style>\n",
       "<table border=\"1\" class=\"dataframe\">\n",
       "  <thead>\n",
       "    <tr style=\"text-align: right;\">\n",
       "      <th></th>\n",
       "      <th>name</th>\n",
       "      <th>id</th>\n",
       "      <th>chr</th>\n",
       "      <th>band</th>\n",
       "      <th>start_position</th>\n",
       "    </tr>\n",
       "  </thead>\n",
       "  <tbody>\n",
       "    <tr>\n",
       "      <th>0</th>\n",
       "      <td>GAS6</td>\n",
       "      <td>ENSG00000183087</td>\n",
       "      <td>13</td>\n",
       "      <td>13q34</td>\n",
       "      <td>113820549.0</td>\n",
       "    </tr>\n",
       "    <tr>\n",
       "      <th>1</th>\n",
       "      <td>MMP14</td>\n",
       "      <td>ENSG00000157227</td>\n",
       "      <td>14</td>\n",
       "      <td>14q11.2</td>\n",
       "      <td>22836560.0</td>\n",
       "    </tr>\n",
       "    <tr>\n",
       "      <th>2</th>\n",
       "      <td>DSP</td>\n",
       "      <td>ENSG00000096696</td>\n",
       "      <td>6</td>\n",
       "      <td>6p24.3</td>\n",
       "      <td>7541617.0</td>\n",
       "    </tr>\n",
       "    <tr>\n",
       "      <th>3</th>\n",
       "      <td>MARCKSL1</td>\n",
       "      <td>ENSG00000175130</td>\n",
       "      <td>1</td>\n",
       "      <td>1p35.1</td>\n",
       "      <td>32333839.0</td>\n",
       "    </tr>\n",
       "    <tr>\n",
       "      <th>4</th>\n",
       "      <td>SPARC</td>\n",
       "      <td>ENSG00000113140</td>\n",
       "      <td>5</td>\n",
       "      <td>5q33.1</td>\n",
       "      <td>151661096.0</td>\n",
       "    </tr>\n",
       "  </tbody>\n",
       "</table>\n",
       "</div>"
      ],
      "text/plain": [
       "       name               id chr     band  start_position\n",
       "0      GAS6  ENSG00000183087  13    13q34     113820549.0\n",
       "1     MMP14  ENSG00000157227  14  14q11.2      22836560.0\n",
       "2       DSP  ENSG00000096696   6   6p24.3       7541617.0\n",
       "3  MARCKSL1  ENSG00000175130   1   1p35.1      32333839.0\n",
       "4     SPARC  ENSG00000113140   5   5q33.1     151661096.0"
      ]
     },
     "execution_count": 27,
     "metadata": {},
     "output_type": "execute_result"
    }
   ],
   "source": [
    "genes_info.head()"
   ]
  },
  {
   "cell_type": "markdown",
   "id": "c8d1038f",
   "metadata": {
    "papermill": {
     "duration": 0.007415,
     "end_time": "2022-07-12T05:58:51.540514",
     "exception": false,
     "start_time": "2022-07-12T05:58:51.533099",
     "status": "completed"
    },
    "tags": []
   },
   "source": [
    "# Test"
   ]
  },
  {
   "cell_type": "code",
   "execution_count": 28,
   "id": "64993abf",
   "metadata": {
    "execution": {
     "iopub.execute_input": "2022-07-12T05:58:51.556494Z",
     "iopub.status.busy": "2022-07-12T05:58:51.556298Z",
     "iopub.status.idle": "2022-07-12T05:58:51.580082Z",
     "shell.execute_reply": "2022-07-12T05:58:51.579696Z"
    },
    "papermill": {
     "duration": 0.033186,
     "end_time": "2022-07-12T05:58:51.581216",
     "exception": false,
     "start_time": "2022-07-12T05:58:51.548030",
     "status": "completed"
    },
    "tags": []
   },
   "outputs": [
    {
     "data": {
      "text/html": [
       "<div>\n",
       "<style scoped>\n",
       "    .dataframe tbody tr th:only-of-type {\n",
       "        vertical-align: middle;\n",
       "    }\n",
       "\n",
       "    .dataframe tbody tr th {\n",
       "        vertical-align: top;\n",
       "    }\n",
       "\n",
       "    .dataframe thead th {\n",
       "        text-align: right;\n",
       "    }\n",
       "</style>\n",
       "<table border=\"1\" class=\"dataframe\">\n",
       "  <thead>\n",
       "    <tr style=\"text-align: right;\">\n",
       "      <th></th>\n",
       "      <th>name</th>\n",
       "      <th>id</th>\n",
       "      <th>chr</th>\n",
       "      <th>band</th>\n",
       "      <th>start_position</th>\n",
       "    </tr>\n",
       "  </thead>\n",
       "  <tbody>\n",
       "    <tr>\n",
       "      <th>59</th>\n",
       "      <td>RXRA</td>\n",
       "      <td>ENSG00000186350</td>\n",
       "      <td>9</td>\n",
       "      <td>9q34.2</td>\n",
       "      <td>134317098.0</td>\n",
       "    </tr>\n",
       "    <tr>\n",
       "      <th>87</th>\n",
       "      <td>NINJ1</td>\n",
       "      <td>ENSG00000131669</td>\n",
       "      <td>9</td>\n",
       "      <td>9q22.31</td>\n",
       "      <td>93121496.0</td>\n",
       "    </tr>\n",
       "    <tr>\n",
       "      <th>106</th>\n",
       "      <td>ABCA1</td>\n",
       "      <td>ENSG00000165029</td>\n",
       "      <td>9</td>\n",
       "      <td>9q31.1</td>\n",
       "      <td>104781006.0</td>\n",
       "    </tr>\n",
       "    <tr>\n",
       "      <th>115</th>\n",
       "      <td>TMOD1</td>\n",
       "      <td>ENSG00000136842</td>\n",
       "      <td>9</td>\n",
       "      <td>9q22.33</td>\n",
       "      <td>97501180.0</td>\n",
       "    </tr>\n",
       "    <tr>\n",
       "      <th>137</th>\n",
       "      <td>LPAR1</td>\n",
       "      <td>ENSG00000198121</td>\n",
       "      <td>9</td>\n",
       "      <td>9q31.3</td>\n",
       "      <td>110873263.0</td>\n",
       "    </tr>\n",
       "    <tr>\n",
       "      <th>...</th>\n",
       "      <td>...</td>\n",
       "      <td>...</td>\n",
       "      <td>...</td>\n",
       "      <td>...</td>\n",
       "      <td>...</td>\n",
       "    </tr>\n",
       "    <tr>\n",
       "      <th>6362</th>\n",
       "      <td>SCAI</td>\n",
       "      <td>ENSG00000173611</td>\n",
       "      <td>9</td>\n",
       "      <td>9q33.3</td>\n",
       "      <td>124942608.0</td>\n",
       "    </tr>\n",
       "    <tr>\n",
       "      <th>6387</th>\n",
       "      <td>GOLGA2</td>\n",
       "      <td>ENSG00000167110</td>\n",
       "      <td>9</td>\n",
       "      <td>9q34.11</td>\n",
       "      <td>128255829.0</td>\n",
       "    </tr>\n",
       "    <tr>\n",
       "      <th>6401</th>\n",
       "      <td>DNM1</td>\n",
       "      <td>ENSG00000106976</td>\n",
       "      <td>9</td>\n",
       "      <td>9q34.11</td>\n",
       "      <td>128191655.0</td>\n",
       "    </tr>\n",
       "    <tr>\n",
       "      <th>6421</th>\n",
       "      <td>RAD23B</td>\n",
       "      <td>ENSG00000119318</td>\n",
       "      <td>9</td>\n",
       "      <td>9q31.2</td>\n",
       "      <td>107283137.0</td>\n",
       "    </tr>\n",
       "    <tr>\n",
       "      <th>6450</th>\n",
       "      <td>NFIB</td>\n",
       "      <td>ENSG00000147862</td>\n",
       "      <td>9</td>\n",
       "      <td>9p22.3</td>\n",
       "      <td>14081843.0</td>\n",
       "    </tr>\n",
       "  </tbody>\n",
       "</table>\n",
       "<p>245 rows × 5 columns</p>\n",
       "</div>"
      ],
      "text/plain": [
       "        name               id chr     band  start_position\n",
       "59      RXRA  ENSG00000186350   9   9q34.2     134317098.0\n",
       "87     NINJ1  ENSG00000131669   9  9q22.31      93121496.0\n",
       "106    ABCA1  ENSG00000165029   9   9q31.1     104781006.0\n",
       "115    TMOD1  ENSG00000136842   9  9q22.33      97501180.0\n",
       "137    LPAR1  ENSG00000198121   9   9q31.3     110873263.0\n",
       "...      ...              ...  ..      ...             ...\n",
       "6362    SCAI  ENSG00000173611   9   9q33.3     124942608.0\n",
       "6387  GOLGA2  ENSG00000167110   9  9q34.11     128255829.0\n",
       "6401    DNM1  ENSG00000106976   9  9q34.11     128191655.0\n",
       "6421  RAD23B  ENSG00000119318   9   9q31.2     107283137.0\n",
       "6450    NFIB  ENSG00000147862   9   9p22.3      14081843.0\n",
       "\n",
       "[245 rows x 5 columns]"
      ]
     },
     "metadata": {},
     "output_type": "display_data"
    }
   ],
   "source": [
    "chromosome_genes_info = genes_info[genes_info[\"chr\"] == chromosome]\n",
    "display(chromosome_genes_info)"
   ]
  },
  {
   "cell_type": "code",
   "execution_count": 29,
   "id": "d2e42726-7de6-46eb-acfc-6323eaa8fae6",
   "metadata": {
    "execution": {
     "iopub.execute_input": "2022-07-12T05:58:51.597493Z",
     "iopub.status.busy": "2022-07-12T05:58:51.597205Z",
     "iopub.status.idle": "2022-07-12T05:58:51.613442Z",
     "shell.execute_reply": "2022-07-12T05:58:51.613026Z"
    },
    "papermill": {
     "duration": 0.025756,
     "end_time": "2022-07-12T05:58:51.614632",
     "exception": false,
     "start_time": "2022-07-12T05:58:51.588876",
     "status": "completed"
    },
    "tags": []
   },
   "outputs": [
    {
     "data": {
      "text/plain": [
       "5"
      ]
     },
     "metadata": {},
     "output_type": "display_data"
    }
   ],
   "source": [
    "seed(0)\n",
    "_gene_list_ids = sample(chromosome_genes_info[\"id\"].tolist(), 5)\n",
    "selected_chromosome_genes_obj = [Gene(ensembl_id=g_id) for g_id in _gene_list_ids]\n",
    "display(len(selected_chromosome_genes_obj))"
   ]
  },
  {
   "cell_type": "code",
   "execution_count": 30,
   "id": "1b355359",
   "metadata": {
    "execution": {
     "iopub.execute_input": "2022-07-12T05:58:51.630855Z",
     "iopub.status.busy": "2022-07-12T05:58:51.630659Z",
     "iopub.status.idle": "2022-07-12T05:58:53.748886Z",
     "shell.execute_reply": "2022-07-12T05:58:53.748158Z"
    },
    "papermill": {
     "duration": 2.127625,
     "end_time": "2022-07-12T05:58:53.750046",
     "exception": false,
     "start_time": "2022-07-12T05:58:51.622421",
     "status": "completed"
    },
    "tags": []
   },
   "outputs": [
    {
     "name": "stdout",
     "output_type": "stream",
     "text": [
      "TLN1 / NOTCH1: 0.0\n",
      "TLN1 / NFX1: 0.0036400036207084627\n",
      "TLN1 / AQP3: 0.008040819885825333\n",
      "TLN1 / FPGS: 0.0\n",
      "NOTCH1 / NFX1: 0.0\n",
      "NOTCH1 / AQP3: 0.0\n",
      "NOTCH1 / FPGS: 0.0\n",
      "NFX1 / AQP3: 0.043548215725470824\n",
      "NFX1 / FPGS: 0.0\n",
      "AQP3 / FPGS: 0.0\n"
     ]
    }
   ],
   "source": [
    "for gene_idx1 in range(0, len(selected_chromosome_genes_obj) - 1):\n",
    "    gene_obj1 = selected_chromosome_genes_obj[gene_idx1]\n",
    "\n",
    "    for gene_idx2 in range(gene_idx1 + 1, len(selected_chromosome_genes_obj)):\n",
    "        gene_obj2 = selected_chromosome_genes_obj[gene_idx2]\n",
    "\n",
    "        c = gene_obj1.get_ssm_correlation(\n",
    "            gene_obj2,\n",
    "        )\n",
    "\n",
    "        print(f\"{gene_obj1.name} / {gene_obj2.name}: {c}\")"
   ]
  },
  {
   "cell_type": "markdown",
   "id": "d3843e06",
   "metadata": {
    "papermill": {
     "duration": 0.007328,
     "end_time": "2022-07-12T05:58:53.765341",
     "exception": false,
     "start_time": "2022-07-12T05:58:53.758013",
     "status": "completed"
    },
    "tags": []
   },
   "source": [
    "# Compute correlation per chromosome"
   ]
  },
  {
   "cell_type": "code",
   "execution_count": 31,
   "id": "cb859c15-d1f3-4006-a74c-2b83c0db9611",
   "metadata": {
    "execution": {
     "iopub.execute_input": "2022-07-12T05:58:53.781651Z",
     "iopub.status.busy": "2022-07-12T05:58:53.781441Z",
     "iopub.status.idle": "2022-07-12T05:58:53.799088Z",
     "shell.execute_reply": "2022-07-12T05:58:53.798690Z"
    },
    "papermill": {
     "duration": 0.027208,
     "end_time": "2022-07-12T05:58:53.800287",
     "exception": false,
     "start_time": "2022-07-12T05:58:53.773079",
     "status": "completed"
    },
    "tags": []
   },
   "outputs": [
    {
     "data": {
      "text/plain": [
       "PosixPath('/opt/data/data/phenomexcan/ld_blocks/gene_corrs/1000g/mashr/by_chr/gene_corrs-chr9.pkl')"
      ]
     },
     "metadata": {},
     "output_type": "display_data"
    }
   ],
   "source": [
    "output_dir = OUTPUT_DIR_BASE / \"by_chr\"\n",
    "output_dir.mkdir(exist_ok=True, parents=True)\n",
    "output_file = output_dir / f\"gene_corrs-chr{chromosome}.pkl\"\n",
    "display(output_file)"
   ]
  },
  {
   "cell_type": "code",
   "execution_count": 32,
   "id": "aa674fe4-6794-4eed-98fa-32b39d1d4ace",
   "metadata": {
    "execution": {
     "iopub.execute_input": "2022-07-12T05:58:53.816951Z",
     "iopub.status.busy": "2022-07-12T05:58:53.816754Z",
     "iopub.status.idle": "2022-07-12T05:58:53.831661Z",
     "shell.execute_reply": "2022-07-12T05:58:53.831230Z"
    },
    "papermill": {
     "duration": 0.024606,
     "end_time": "2022-07-12T05:58:53.833003",
     "exception": false,
     "start_time": "2022-07-12T05:58:53.808397",
     "status": "completed"
    },
    "tags": []
   },
   "outputs": [],
   "source": [
    "warnings.filterwarnings(\"error\")"
   ]
  },
  {
   "cell_type": "code",
   "execution_count": 33,
   "id": "cdbb90a1",
   "metadata": {
    "execution": {
     "iopub.execute_input": "2022-07-12T05:58:53.850409Z",
     "iopub.status.busy": "2022-07-12T05:58:53.850102Z",
     "iopub.status.idle": "2022-07-12T06:39:24.417082Z",
     "shell.execute_reply": "2022-07-12T06:39:24.416649Z"
    },
    "papermill": {
     "duration": 2430.577002,
     "end_time": "2022-07-12T06:39:24.418274",
     "exception": false,
     "start_time": "2022-07-12T05:58:53.841272",
     "status": "completed"
    },
    "tags": []
   },
   "outputs": [
    {
     "name": "stdout",
     "output_type": "stream",
     "text": [
      "Number of genes in chromosome: 245\n",
      "Number of gene combinations: 29890\n"
     ]
    },
    {
     "name": "stderr",
     "output_type": "stream",
     "text": [
      "ENSG00000182154 / ENSG00000181090: 100%|██████████████████████| 29890/29890 [40:30<00:00, 12.30it/s]\n"
     ]
    },
    {
     "name": "stdout",
     "output_type": "stream",
     "text": [
      "Min/max values: 5.7451337959631175e-08 / 0.923684088892138\n"
     ]
    },
    {
     "data": {
      "text/plain": [
       "PosixPath('/opt/data/data/phenomexcan/ld_blocks/gene_corrs/1000g/mashr/by_chr/gene_corrs-chr9.pkl')"
      ]
     },
     "metadata": {},
     "output_type": "display_data"
    }
   ],
   "source": [
    "# standard checks\n",
    "all_chrs = genes_info[\"chr\"].dropna().unique()\n",
    "assert all_chrs.shape[0] == 22\n",
    "\n",
    "# select chromosome given by the user\n",
    "assert chromosome in all_chrs\n",
    "\n",
    "# run only on the chromosome specified\n",
    "all_chrs = [chromosome]\n",
    "genes_chr = genes_info[genes_info[\"chr\"] == chromosome]\n",
    "\n",
    "# For testing purposes\n",
    "# genes_chr = genes_chr.sample(n=20)\n",
    "\n",
    "print(f\"Number of genes in chromosome: {genes_chr.shape[0]}\", flush=True)\n",
    "\n",
    "# sort genes by starting position to make visualizations better later\n",
    "genes_chr = genes_chr.sort_values(\"start_position\")\n",
    "\n",
    "gene_chr_objs = [Gene(ensembl_id=gene_id) for gene_id in genes_chr[\"id\"]]\n",
    "gene_chr_ids = [g.ensembl_id for g in gene_chr_objs]\n",
    "\n",
    "n = len(gene_chr_objs)\n",
    "n_comb = int(n * (n - 1) / 2.0)\n",
    "print(f\"Number of gene combinations: {n_comb}\", flush=True)\n",
    "\n",
    "gene_corrs = []\n",
    "\n",
    "pbar = tqdm(ncols=100, total=n_comb)\n",
    "i = 0\n",
    "for gene_idx1 in range(0, len(gene_chr_objs) - 1):\n",
    "    gene_obj1 = gene_chr_objs[gene_idx1]\n",
    "\n",
    "    for gene_idx2 in range(gene_idx1 + 1, len(gene_chr_objs)):\n",
    "        gene_obj2 = gene_chr_objs[gene_idx2]\n",
    "\n",
    "        pbar.set_description(f\"{gene_obj1.ensembl_id} / {gene_obj2.ensembl_id}\")\n",
    "\n",
    "        try:\n",
    "            # FIXME: compute the correlation of the sum of squares of the model using all\n",
    "            # the available tissues; this could be problematic because for some results\n",
    "            # (computed on a specific phenotype/GWAS) we might not have all the tissues\n",
    "            # available, which can certainly bias the correlation estimation.\n",
    "            # Since this depends on the GWAS on a specific phenotype, we should ideally have\n",
    "            # one correlation matrix per GWAS. I should look at how we can improve this.\n",
    "            r = gene_obj1.get_ssm_correlation(\n",
    "                other_gene=gene_obj2,\n",
    "                condition_number=SMULTIXCAN_CONDITION_NUMBER,\n",
    "                reference_panel=REFERENCE_PANEL,\n",
    "                model_type=EQTL_MODEL,\n",
    "                use_within_distance=COMPUTE_CORRELATIONS_WITHIN_DISTANCE,\n",
    "            )\n",
    "\n",
    "            if r is None:\n",
    "                # if r is None, it's very likely because:\n",
    "                #  * one of the genes has no prediction models\n",
    "                #  * all the SNPs predictors for the gene are not present in the reference\n",
    "                #    panel\n",
    "\n",
    "                r = 0.0\n",
    "\n",
    "            gene_corrs.append(r)\n",
    "        except Warning:\n",
    "            print(\n",
    "                f\"RuntimeWarning for genes {gene_obj1.ensembl_id} and {gene_obj2.ensembl_id}\",\n",
    "                flush=True,\n",
    "            )\n",
    "            import traceback\n",
    "\n",
    "            print(traceback.format_exc(), flush=True)\n",
    "        except Exception as e:\n",
    "            print(\n",
    "                f\"Exception for genes {gene_obj1.ensembl_id} and {gene_obj2.ensembl_id}\",\n",
    "                flush=True,\n",
    "            )\n",
    "            import traceback\n",
    "\n",
    "            print(traceback.format_exc(), flush=True)\n",
    "            gene_corrs.append(np.nan)\n",
    "\n",
    "        pbar.update(1)\n",
    "\n",
    "pbar.close()\n",
    "\n",
    "# testing\n",
    "gene_corrs_flat = pd.Series(gene_corrs)\n",
    "print(f\"Min/max values: {gene_corrs_flat.min()} / {gene_corrs_flat.max()}\")\n",
    "assert gene_corrs_flat.min() >= -1.001\n",
    "assert gene_corrs_flat.max() <= 1.001\n",
    "\n",
    "# save\n",
    "# FIXME: consider saving only the condenced matrix here. See here for\n",
    "# more details: https://github.com/greenelab/phenoplier/pull/38#discussion_r634600813\n",
    "gene_corrs_data = squareform(np.array(gene_corrs, dtype=np.float64))\n",
    "np.fill_diagonal(gene_corrs_data, 1.0)\n",
    "\n",
    "gene_corrs_df = pd.DataFrame(\n",
    "    data=gene_corrs_data,\n",
    "    index=gene_chr_ids,\n",
    "    columns=gene_chr_ids,\n",
    ")\n",
    "\n",
    "output_dir.mkdir(exist_ok=True, parents=True)\n",
    "display(output_file)\n",
    "\n",
    "gene_corrs_df.to_pickle(output_file)"
   ]
  },
  {
   "cell_type": "markdown",
   "id": "faa67b51-5373-470f-aa72-2ded53fa6dfe",
   "metadata": {
    "papermill": {
     "duration": 1.651597,
     "end_time": "2022-07-12T06:39:27.645283",
     "exception": false,
     "start_time": "2022-07-12T06:39:25.993686",
     "status": "completed"
    },
    "tags": []
   },
   "source": [
    "# Testing"
   ]
  },
  {
   "cell_type": "code",
   "execution_count": 34,
   "id": "14f7d046-4b55-4896-a56b-990127bcc388",
   "metadata": {
    "execution": {
     "iopub.execute_input": "2022-07-12T06:39:30.908120Z",
     "iopub.status.busy": "2022-07-12T06:39:30.907754Z",
     "iopub.status.idle": "2022-07-12T06:39:30.924234Z",
     "shell.execute_reply": "2022-07-12T06:39:30.923782Z"
    },
    "papermill": {
     "duration": 1.621223,
     "end_time": "2022-07-12T06:39:30.925432",
     "exception": false,
     "start_time": "2022-07-12T06:39:29.304209",
     "status": "completed"
    },
    "tags": []
   },
   "outputs": [
    {
     "data": {
      "text/plain": [
       "(245, 245)"
      ]
     },
     "execution_count": 34,
     "metadata": {},
     "output_type": "execute_result"
    }
   ],
   "source": [
    "gene_corrs_df.shape"
   ]
  },
  {
   "cell_type": "code",
   "execution_count": 35,
   "id": "c7d15414-3297-4537-a7c6-7588c0baeb75",
   "metadata": {
    "execution": {
     "iopub.execute_input": "2022-07-12T06:39:34.182924Z",
     "iopub.status.busy": "2022-07-12T06:39:34.182759Z",
     "iopub.status.idle": "2022-07-12T06:39:34.212732Z",
     "shell.execute_reply": "2022-07-12T06:39:34.212316Z"
    },
    "papermill": {
     "duration": 1.640183,
     "end_time": "2022-07-12T06:39:34.214045",
     "exception": false,
     "start_time": "2022-07-12T06:39:32.573862",
     "status": "completed"
    },
    "tags": []
   },
   "outputs": [
    {
     "data": {
      "text/html": [
       "<div>\n",
       "<style scoped>\n",
       "    .dataframe tbody tr th:only-of-type {\n",
       "        vertical-align: middle;\n",
       "    }\n",
       "\n",
       "    .dataframe tbody tr th {\n",
       "        vertical-align: top;\n",
       "    }\n",
       "\n",
       "    .dataframe thead th {\n",
       "        text-align: right;\n",
       "    }\n",
       "</style>\n",
       "<table border=\"1\" class=\"dataframe\">\n",
       "  <thead>\n",
       "    <tr style=\"text-align: right;\">\n",
       "      <th></th>\n",
       "      <th>ENSG00000107099</th>\n",
       "      <th>ENSG00000080503</th>\n",
       "      <th>ENSG00000147852</th>\n",
       "      <th>ENSG00000107249</th>\n",
       "      <th>ENSG00000147853</th>\n",
       "      <th>ENSG00000096968</th>\n",
       "      <th>ENSG00000107014</th>\n",
       "      <th>ENSG00000120217</th>\n",
       "      <th>ENSG00000197646</th>\n",
       "      <th>ENSG00000178445</th>\n",
       "      <th>...</th>\n",
       "      <th>ENSG00000107317</th>\n",
       "      <th>ENSG00000169583</th>\n",
       "      <th>ENSG00000107331</th>\n",
       "      <th>ENSG00000054179</th>\n",
       "      <th>ENSG00000177239</th>\n",
       "      <th>ENSG00000176248</th>\n",
       "      <th>ENSG00000176101</th>\n",
       "      <th>ENSG00000188747</th>\n",
       "      <th>ENSG00000182154</th>\n",
       "      <th>ENSG00000181090</th>\n",
       "    </tr>\n",
       "  </thead>\n",
       "  <tbody>\n",
       "    <tr>\n",
       "      <th>ENSG00000107099</th>\n",
       "      <td>1.000000</td>\n",
       "      <td>0.010578</td>\n",
       "      <td>0.027918</td>\n",
       "      <td>0.011640</td>\n",
       "      <td>0.017930</td>\n",
       "      <td>0.010548</td>\n",
       "      <td>0.006667</td>\n",
       "      <td>0.013394</td>\n",
       "      <td>0.008972</td>\n",
       "      <td>0.011997</td>\n",
       "      <td>...</td>\n",
       "      <td>0.011467</td>\n",
       "      <td>0.017478</td>\n",
       "      <td>0.011517</td>\n",
       "      <td>0.011900</td>\n",
       "      <td>0.009459</td>\n",
       "      <td>0.004668</td>\n",
       "      <td>0.003919</td>\n",
       "      <td>0.010221</td>\n",
       "      <td>0.004733</td>\n",
       "      <td>0.007673</td>\n",
       "    </tr>\n",
       "    <tr>\n",
       "      <th>ENSG00000080503</th>\n",
       "      <td>0.010578</td>\n",
       "      <td>1.000000</td>\n",
       "      <td>0.019882</td>\n",
       "      <td>0.012062</td>\n",
       "      <td>0.010278</td>\n",
       "      <td>0.011658</td>\n",
       "      <td>0.008593</td>\n",
       "      <td>0.013771</td>\n",
       "      <td>0.007175</td>\n",
       "      <td>0.011470</td>\n",
       "      <td>...</td>\n",
       "      <td>0.014745</td>\n",
       "      <td>0.008383</td>\n",
       "      <td>0.008273</td>\n",
       "      <td>0.012437</td>\n",
       "      <td>0.011655</td>\n",
       "      <td>0.010204</td>\n",
       "      <td>0.006983</td>\n",
       "      <td>0.012846</td>\n",
       "      <td>0.004564</td>\n",
       "      <td>0.005521</td>\n",
       "    </tr>\n",
       "    <tr>\n",
       "      <th>ENSG00000147852</th>\n",
       "      <td>0.027918</td>\n",
       "      <td>0.019882</td>\n",
       "      <td>1.000000</td>\n",
       "      <td>0.024127</td>\n",
       "      <td>0.021493</td>\n",
       "      <td>0.032027</td>\n",
       "      <td>0.017602</td>\n",
       "      <td>0.025209</td>\n",
       "      <td>0.015091</td>\n",
       "      <td>0.018996</td>\n",
       "      <td>...</td>\n",
       "      <td>0.022375</td>\n",
       "      <td>0.021354</td>\n",
       "      <td>0.020071</td>\n",
       "      <td>0.027100</td>\n",
       "      <td>0.021366</td>\n",
       "      <td>0.018052</td>\n",
       "      <td>0.015038</td>\n",
       "      <td>0.011365</td>\n",
       "      <td>0.010418</td>\n",
       "      <td>0.018889</td>\n",
       "    </tr>\n",
       "    <tr>\n",
       "      <th>ENSG00000107249</th>\n",
       "      <td>0.011640</td>\n",
       "      <td>0.012062</td>\n",
       "      <td>0.024127</td>\n",
       "      <td>1.000000</td>\n",
       "      <td>0.022874</td>\n",
       "      <td>0.018729</td>\n",
       "      <td>0.011897</td>\n",
       "      <td>0.015548</td>\n",
       "      <td>0.009184</td>\n",
       "      <td>0.013681</td>\n",
       "      <td>...</td>\n",
       "      <td>0.015071</td>\n",
       "      <td>0.017018</td>\n",
       "      <td>0.013399</td>\n",
       "      <td>0.015291</td>\n",
       "      <td>0.013300</td>\n",
       "      <td>0.008497</td>\n",
       "      <td>0.002623</td>\n",
       "      <td>0.014571</td>\n",
       "      <td>0.005581</td>\n",
       "      <td>0.009162</td>\n",
       "    </tr>\n",
       "    <tr>\n",
       "      <th>ENSG00000147853</th>\n",
       "      <td>0.017930</td>\n",
       "      <td>0.010278</td>\n",
       "      <td>0.021493</td>\n",
       "      <td>0.022874</td>\n",
       "      <td>1.000000</td>\n",
       "      <td>0.032336</td>\n",
       "      <td>0.012458</td>\n",
       "      <td>0.015127</td>\n",
       "      <td>0.013069</td>\n",
       "      <td>0.016242</td>\n",
       "      <td>...</td>\n",
       "      <td>0.014094</td>\n",
       "      <td>0.012716</td>\n",
       "      <td>0.009416</td>\n",
       "      <td>0.016856</td>\n",
       "      <td>0.017485</td>\n",
       "      <td>0.011616</td>\n",
       "      <td>0.008834</td>\n",
       "      <td>0.016662</td>\n",
       "      <td>0.004722</td>\n",
       "      <td>0.008815</td>\n",
       "    </tr>\n",
       "  </tbody>\n",
       "</table>\n",
       "<p>5 rows × 245 columns</p>\n",
       "</div>"
      ],
      "text/plain": [
       "                 ENSG00000107099  ENSG00000080503  ENSG00000147852  \\\n",
       "ENSG00000107099         1.000000         0.010578         0.027918   \n",
       "ENSG00000080503         0.010578         1.000000         0.019882   \n",
       "ENSG00000147852         0.027918         0.019882         1.000000   \n",
       "ENSG00000107249         0.011640         0.012062         0.024127   \n",
       "ENSG00000147853         0.017930         0.010278         0.021493   \n",
       "\n",
       "                 ENSG00000107249  ENSG00000147853  ENSG00000096968  \\\n",
       "ENSG00000107099         0.011640         0.017930         0.010548   \n",
       "ENSG00000080503         0.012062         0.010278         0.011658   \n",
       "ENSG00000147852         0.024127         0.021493         0.032027   \n",
       "ENSG00000107249         1.000000         0.022874         0.018729   \n",
       "ENSG00000147853         0.022874         1.000000         0.032336   \n",
       "\n",
       "                 ENSG00000107014  ENSG00000120217  ENSG00000197646  \\\n",
       "ENSG00000107099         0.006667         0.013394         0.008972   \n",
       "ENSG00000080503         0.008593         0.013771         0.007175   \n",
       "ENSG00000147852         0.017602         0.025209         0.015091   \n",
       "ENSG00000107249         0.011897         0.015548         0.009184   \n",
       "ENSG00000147853         0.012458         0.015127         0.013069   \n",
       "\n",
       "                 ENSG00000178445  ...  ENSG00000107317  ENSG00000169583  \\\n",
       "ENSG00000107099         0.011997  ...         0.011467         0.017478   \n",
       "ENSG00000080503         0.011470  ...         0.014745         0.008383   \n",
       "ENSG00000147852         0.018996  ...         0.022375         0.021354   \n",
       "ENSG00000107249         0.013681  ...         0.015071         0.017018   \n",
       "ENSG00000147853         0.016242  ...         0.014094         0.012716   \n",
       "\n",
       "                 ENSG00000107331  ENSG00000054179  ENSG00000177239  \\\n",
       "ENSG00000107099         0.011517         0.011900         0.009459   \n",
       "ENSG00000080503         0.008273         0.012437         0.011655   \n",
       "ENSG00000147852         0.020071         0.027100         0.021366   \n",
       "ENSG00000107249         0.013399         0.015291         0.013300   \n",
       "ENSG00000147853         0.009416         0.016856         0.017485   \n",
       "\n",
       "                 ENSG00000176248  ENSG00000176101  ENSG00000188747  \\\n",
       "ENSG00000107099         0.004668         0.003919         0.010221   \n",
       "ENSG00000080503         0.010204         0.006983         0.012846   \n",
       "ENSG00000147852         0.018052         0.015038         0.011365   \n",
       "ENSG00000107249         0.008497         0.002623         0.014571   \n",
       "ENSG00000147853         0.011616         0.008834         0.016662   \n",
       "\n",
       "                 ENSG00000182154  ENSG00000181090  \n",
       "ENSG00000107099         0.004733         0.007673  \n",
       "ENSG00000080503         0.004564         0.005521  \n",
       "ENSG00000147852         0.010418         0.018889  \n",
       "ENSG00000107249         0.005581         0.009162  \n",
       "ENSG00000147853         0.004722         0.008815  \n",
       "\n",
       "[5 rows x 245 columns]"
      ]
     },
     "execution_count": 35,
     "metadata": {},
     "output_type": "execute_result"
    }
   ],
   "source": [
    "gene_corrs_df.head()"
   ]
  },
  {
   "cell_type": "code",
   "execution_count": 36,
   "id": "286686af-1b7b-4440-8453-6bdcbd8de19c",
   "metadata": {
    "execution": {
     "iopub.execute_input": "2022-07-12T06:39:37.815469Z",
     "iopub.status.busy": "2022-07-12T06:39:37.815306Z",
     "iopub.status.idle": "2022-07-12T06:39:37.833427Z",
     "shell.execute_reply": "2022-07-12T06:39:37.833000Z"
    },
    "papermill": {
     "duration": 1.753422,
     "end_time": "2022-07-12T06:39:37.834838",
     "exception": false,
     "start_time": "2022-07-12T06:39:36.081416",
     "status": "completed"
    },
    "tags": []
   },
   "outputs": [],
   "source": [
    "assert not gene_corrs_df.isna().any().any()"
   ]
  },
  {
   "cell_type": "code",
   "execution_count": 37,
   "id": "00583efc-7068-4270-ad1e-4a418e91db96",
   "metadata": {
    "execution": {
     "iopub.execute_input": "2022-07-12T06:39:41.083069Z",
     "iopub.status.busy": "2022-07-12T06:39:41.082909Z",
     "iopub.status.idle": "2022-07-12T06:39:41.102877Z",
     "shell.execute_reply": "2022-07-12T06:39:41.102458Z"
    },
    "papermill": {
     "duration": 1.644571,
     "end_time": "2022-07-12T06:39:41.104216",
     "exception": false,
     "start_time": "2022-07-12T06:39:39.459645",
     "status": "completed"
    },
    "tags": []
   },
   "outputs": [
    {
     "data": {
      "text/plain": [
       "5.7451337959631175e-08"
      ]
     },
     "metadata": {},
     "output_type": "display_data"
    }
   ],
   "source": [
    "_min_val = gene_corrs_df.min().min()\n",
    "display(_min_val)\n",
    "assert _min_val >= 0.0"
   ]
  },
  {
   "cell_type": "code",
   "execution_count": 38,
   "id": "d04fb2cf-1050-475b-b855-f5f7cc04092b",
   "metadata": {
    "execution": {
     "iopub.execute_input": "2022-07-12T06:39:44.494089Z",
     "iopub.status.busy": "2022-07-12T06:39:44.493922Z",
     "iopub.status.idle": "2022-07-12T06:39:44.514600Z",
     "shell.execute_reply": "2022-07-12T06:39:44.514227Z"
    },
    "papermill": {
     "duration": 1.716619,
     "end_time": "2022-07-12T06:39:44.515907",
     "exception": false,
     "start_time": "2022-07-12T06:39:42.799288",
     "status": "completed"
    },
    "tags": []
   },
   "outputs": [
    {
     "data": {
      "text/plain": [
       "1.0"
      ]
     },
     "metadata": {},
     "output_type": "display_data"
    }
   ],
   "source": [
    "_max_val = gene_corrs_df.max().max()  # this captures the diagonal\n",
    "display(_max_val)\n",
    "assert _max_val <= 1.0"
   ]
  },
  {
   "cell_type": "code",
   "execution_count": 39,
   "id": "96d02c44-1fba-47be-8a93-8f2608420b9c",
   "metadata": {
    "execution": {
     "iopub.execute_input": "2022-07-12T06:39:47.730028Z",
     "iopub.status.busy": "2022-07-12T06:39:47.729805Z",
     "iopub.status.idle": "2022-07-12T06:39:47.745732Z",
     "shell.execute_reply": "2022-07-12T06:39:47.745237Z"
    },
    "papermill": {
     "duration": 1.657572,
     "end_time": "2022-07-12T06:39:47.746942",
     "exception": false,
     "start_time": "2022-07-12T06:39:46.089370",
     "status": "completed"
    },
    "tags": []
   },
   "outputs": [],
   "source": [
    "# check upper triangular values\n",
    "assert len(gene_corrs) == int(genes_chr.shape[0] * (genes_chr.shape[0] - 1) / 2)"
   ]
  },
  {
   "cell_type": "code",
   "execution_count": 40,
   "id": "aaa51627-f4e3-4744-a41f-7d25adcc0a78",
   "metadata": {
    "execution": {
     "iopub.execute_input": "2022-07-12T06:39:50.989583Z",
     "iopub.status.busy": "2022-07-12T06:39:50.989389Z",
     "iopub.status.idle": "2022-07-12T06:39:51.014747Z",
     "shell.execute_reply": "2022-07-12T06:39:51.014321Z"
    },
    "papermill": {
     "duration": 1.623204,
     "end_time": "2022-07-12T06:39:51.016174",
     "exception": false,
     "start_time": "2022-07-12T06:39:49.392970",
     "status": "completed"
    },
    "tags": []
   },
   "outputs": [],
   "source": [
    "gene_corrs = pd.Series(gene_corrs)"
   ]
  },
  {
   "cell_type": "code",
   "execution_count": 41,
   "id": "fe283586-c348-40e0-8841-f6d97bfb021c",
   "metadata": {
    "execution": {
     "iopub.execute_input": "2022-07-12T06:39:54.312594Z",
     "iopub.status.busy": "2022-07-12T06:39:54.312391Z",
     "iopub.status.idle": "2022-07-12T06:39:54.332758Z",
     "shell.execute_reply": "2022-07-12T06:39:54.332318Z"
    },
    "papermill": {
     "duration": 1.683191,
     "end_time": "2022-07-12T06:39:54.333894",
     "exception": false,
     "start_time": "2022-07-12T06:39:52.650703",
     "status": "completed"
    },
    "tags": []
   },
   "outputs": [
    {
     "data": {
      "text/plain": [
       "count    2.989000e+04\n",
       "mean     1.065264e-02\n",
       "std      2.702888e-02\n",
       "min      5.745134e-08\n",
       "25%      5.311500e-03\n",
       "50%      8.182337e-03\n",
       "75%      1.148412e-02\n",
       "max      9.236841e-01\n",
       "dtype: float64"
      ]
     },
     "execution_count": 41,
     "metadata": {},
     "output_type": "execute_result"
    }
   ],
   "source": [
    "gene_corrs.describe()"
   ]
  },
  {
   "cell_type": "code",
   "execution_count": 42,
   "id": "b3815678-0f93-4b35-897b-a9d047a2aa78",
   "metadata": {
    "execution": {
     "iopub.execute_input": "2022-07-12T06:39:57.581583Z",
     "iopub.status.busy": "2022-07-12T06:39:57.581355Z",
     "iopub.status.idle": "2022-07-12T06:39:57.600580Z",
     "shell.execute_reply": "2022-07-12T06:39:57.600198Z"
    },
    "papermill": {
     "duration": 1.616067,
     "end_time": "2022-07-12T06:39:57.601717",
     "exception": false,
     "start_time": "2022-07-12T06:39:55.985650",
     "status": "completed"
    },
    "tags": []
   },
   "outputs": [
    {
     "data": {
      "text/plain": [
       "0.00    5.745134e-08\n",
       "0.05    2.088711e-03\n",
       "0.10    3.156998e-03\n",
       "0.15    3.977722e-03\n",
       "0.20    4.690427e-03\n",
       "0.25    5.311500e-03\n",
       "0.30    5.921713e-03\n",
       "0.35    6.490379e-03\n",
       "0.40    7.059418e-03\n",
       "0.45    7.629092e-03\n",
       "0.50    8.182337e-03\n",
       "0.55    8.773801e-03\n",
       "0.60    9.380649e-03\n",
       "0.65    1.002726e-02\n",
       "0.70    1.072180e-02\n",
       "0.75    1.148412e-02\n",
       "0.80    1.234874e-02\n",
       "0.85    1.345047e-02\n",
       "0.90    1.489113e-02\n",
       "0.95    1.737261e-02\n",
       "dtype: float64"
      ]
     },
     "metadata": {},
     "output_type": "display_data"
    }
   ],
   "source": [
    "gene_corrs_quantiles = gene_corrs.quantile(np.arange(0, 1, 0.05))\n",
    "display(gene_corrs_quantiles)"
   ]
  },
  {
   "cell_type": "markdown",
   "id": "8e60a080-edb2-4e9c-b2ef-22961693200c",
   "metadata": {
    "papermill": {
     "duration": 1.660961,
     "end_time": "2022-07-12T06:40:00.909806",
     "exception": false,
     "start_time": "2022-07-12T06:39:59.248845",
     "status": "completed"
    },
    "tags": []
   },
   "source": [
    "## Plot: distribution"
   ]
  },
  {
   "cell_type": "code",
   "execution_count": 43,
   "id": "8301126b-a7d4-4744-9c7d-f0f86eb6f54c",
   "metadata": {
    "execution": {
     "iopub.execute_input": "2022-07-12T06:40:04.179912Z",
     "iopub.status.busy": "2022-07-12T06:40:04.179682Z",
     "iopub.status.idle": "2022-07-12T06:40:08.032140Z",
     "shell.execute_reply": "2022-07-12T06:40:08.031299Z"
    },
    "papermill": {
     "duration": 5.518776,
     "end_time": "2022-07-12T06:40:08.033531",
     "exception": false,
     "start_time": "2022-07-12T06:40:02.514755",
     "status": "completed"
    },
    "tags": []
   },
   "outputs": [
    {
     "data": {
      "image/png": "[encoded data removed]",
      "text/plain": [
       "<Figure size 504x504 with 1 Axes>"
      ]
     },
     "metadata": {
      "needs_background": "light"
     },
     "output_type": "display_data"
    }
   ],
   "source": [
    "with sns.plotting_context(\"paper\", font_scale=1.5):\n",
    "    g = sns.displot(gene_corrs, kde=True, height=7)\n",
    "    g.ax.set_title(\n",
    "        f\"Distribution of gene correlation values in chromosome {chromosome}\"\n",
    "    )"
   ]
  },
  {
   "cell_type": "markdown",
   "id": "cbd52bca-d878-4a2f-b684-5c83aa3038d4",
   "metadata": {
    "papermill": {
     "duration": 1.602722,
     "end_time": "2022-07-12T06:40:11.314839",
     "exception": false,
     "start_time": "2022-07-12T06:40:09.712117",
     "status": "completed"
    },
    "tags": []
   },
   "source": [
    "## Plot: heatmap"
   ]
  },
  {
   "cell_type": "code",
   "execution_count": 44,
   "id": "d03fe63a-c7b2-4fb9-a53c-db362ce843c9",
   "metadata": {
    "execution": {
     "iopub.execute_input": "2022-07-12T06:40:14.566387Z",
     "iopub.status.busy": "2022-07-12T06:40:14.566171Z",
     "iopub.status.idle": "2022-07-12T06:40:14.582809Z",
     "shell.execute_reply": "2022-07-12T06:40:14.582376Z"
    },
    "papermill": {
     "duration": 1.636948,
     "end_time": "2022-07-12T06:40:14.583940",
     "exception": false,
     "start_time": "2022-07-12T06:40:12.946992",
     "status": "completed"
    },
    "tags": []
   },
   "outputs": [
    {
     "data": {
      "text/plain": [
       "'-0.05 / 0.05'"
      ]
     },
     "metadata": {},
     "output_type": "display_data"
    }
   ],
   "source": [
    "vmin_val = min(-0.05, gene_corrs_quantiles[0.10])\n",
    "vmax_val = max(0.05, gene_corrs_quantiles[0.90])\n",
    "display(f\"{vmin_val} / {vmax_val}\")"
   ]
  },
  {
   "cell_type": "code",
   "execution_count": 45,
   "id": "dc41b70b-5bcc-4d9e-9f33-a22c4a94dab5",
   "metadata": {
    "execution": {
     "iopub.execute_input": "2022-07-12T06:40:17.798631Z",
     "iopub.status.busy": "2022-07-12T06:40:17.798392Z",
     "iopub.status.idle": "2022-07-12T06:40:18.010883Z",
     "shell.execute_reply": "2022-07-12T06:40:18.008268Z"
    },
    "papermill": {
     "duration": 1.819784,
     "end_time": "2022-07-12T06:40:18.012117",
     "exception": false,
     "start_time": "2022-07-12T06:40:16.192333",
     "status": "completed"
    },
    "tags": []
   },
   "outputs": [
    {
     "data": {
      "text/plain": [
       "Text(0.5, 1.0, 'Gene correlations in chromosome 9')"
      ]
     },
     "execution_count": 45,
     "metadata": {},
     "output_type": "execute_result"
    },
    {
     "data": {
      "image/png": "[encoded data removed]",
      "text/plain": [
       "<Figure size 720x720 with 2 Axes>"
      ]
     },
     "metadata": {
      "needs_background": "light"
     },
     "output_type": "display_data"
    }
   ],
   "source": [
    "f, ax = plt.subplots(figsize=(10, 10))\n",
    "sns.heatmap(\n",
    "    gene_corrs_df,\n",
    "    xticklabels=False,\n",
    "    yticklabels=False,\n",
    "    square=True,\n",
    "    vmin=vmin_val,\n",
    "    vmax=vmax_val,\n",
    "    cmap=\"YlGnBu\",\n",
    "    ax=ax,\n",
    ")\n",
    "ax.set_title(f\"Gene correlations in chromosome {chromosome}\")"
   ]
  },
  {
   "cell_type": "code",
   "execution_count": null,
   "id": "b25e3ead",
   "metadata": {
    "papermill": {
     "duration": 1.595761,
     "end_time": "2022-07-12T06:40:21.239452",
     "exception": false,
     "start_time": "2022-07-12T06:40:19.643691",
     "status": "completed"
    },
    "tags": []
   },
   "outputs": [],
   "source": []
  }
 ],
 "metadata": {
  "jupytext": {
   "cell_metadata_filter": "all,-execution,-papermill,-trusted",
   "formats": "ipynb,py//py:percent"
  },
  "kernelspec": {
   "display_name": "Python 3 (ipykernel)",
   "language": "python",
   "name": "python3"
  },
  "language_info": {
   "codemirror_mode": {
    "name": "ipython",
    "version": 3
   },
   "file_extension": ".py",
   "mimetype": "text/x-python",
   "name": "python",
   "nbconvert_exporter": "python",
   "pygments_lexer": "ipython3",
   "version": "3.8.13"
  },
  "papermill": {
   "default_parameters": {},
   "duration": 2500.26595,
   "end_time": "2022-07-12T06:40:26.473101",
   "environment_variables": {},
   "exception": null,
   "input_path": "nbs/15_gsa_gls/10-gene_expr_correlations.ipynb",
   "output_path": "nbs/15_gsa_gls/gene_corrs/1000g/mashr/10-gene_expr_correlations-chr9.run.ipynb",
   "parameters": {
    "EQTL_MODEL": "MASHR",
    "REFERENCE_PANEL": "1000G",
    "chromosome": 9
   },
   "start_time": "2022-07-12T05:58:46.207151",
   "version": "2.2.2"
  }
 },
 "nbformat": 4,
 "nbformat_minor": 5
}
