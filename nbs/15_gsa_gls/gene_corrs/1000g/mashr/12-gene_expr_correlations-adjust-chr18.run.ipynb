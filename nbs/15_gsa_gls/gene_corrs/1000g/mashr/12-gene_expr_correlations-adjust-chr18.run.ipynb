{
 "cells": [
  {
   "cell_type": "markdown",
   "id": "28fc82fa-c3f6-4184-8054-cc91c7c6e2e7",
   "metadata": {
    "papermill": {
     "duration": 0.00444,
     "end_time": "2022-07-12T13:07:35.696572",
     "exception": false,
     "start_time": "2022-07-12T13:07:35.692132",
     "status": "completed"
    },
    "tags": []
   },
   "source": [
    "# Description"
   ]
  },
  {
   "cell_type": "markdown",
   "id": "36839b17-916e-4aec-8fee-96faf1097e78",
   "metadata": {
    "papermill": {
     "duration": 0.003741,
     "end_time": "2022-07-12T13:07:35.704069",
     "exception": false,
     "start_time": "2022-07-12T13:07:35.700328",
     "status": "completed"
    },
    "tags": []
   },
   "source": [
    "**TODO**"
   ]
  },
  {
   "cell_type": "markdown",
   "id": "249e8aa3-ef1a-4bba-a6dd-58120ad80794",
   "metadata": {
    "papermill": {
     "duration": 0.003757,
     "end_time": "2022-07-12T13:07:35.711790",
     "exception": false,
     "start_time": "2022-07-12T13:07:35.708033",
     "status": "completed"
    },
    "tags": []
   },
   "source": [
    "# Modules"
   ]
  },
  {
   "cell_type": "code",
   "execution_count": 1,
   "id": "f9b5022b-7c5e-4d37-9c7a-fdb91777c7f9",
   "metadata": {
    "execution": {
     "iopub.execute_input": "2022-07-12T13:07:35.722721Z",
     "iopub.status.busy": "2022-07-12T13:07:35.720901Z",
     "iopub.status.idle": "2022-07-12T13:07:39.157818Z",
     "shell.execute_reply": "2022-07-12T13:07:39.156530Z"
    },
    "papermill": {
     "duration": 3.443743,
     "end_time": "2022-07-12T13:07:39.159457",
     "exception": false,
     "start_time": "2022-07-12T13:07:35.715714",
     "status": "completed"
    },
    "tags": []
   },
   "outputs": [],
   "source": [
    "library(reticulate)\n",
    "pd <- import(\"pandas\")"
   ]
  },
  {
   "cell_type": "markdown",
   "id": "69e80173-3a39-4b6a-b723-602687cb255b",
   "metadata": {
    "papermill": {
     "duration": 0.003122,
     "end_time": "2022-07-12T13:07:39.165845",
     "exception": false,
     "start_time": "2022-07-12T13:07:39.162723",
     "status": "completed"
    },
    "tags": []
   },
   "source": [
    "# Settings"
   ]
  },
  {
   "cell_type": "code",
   "execution_count": 2,
   "id": "22d12bb4-1699-4a6b-b1b9-d3fdd3d547d7",
   "metadata": {
    "execution": {
     "iopub.execute_input": "2022-07-12T13:07:39.199443Z",
     "iopub.status.busy": "2022-07-12T13:07:39.173579Z",
     "iopub.status.idle": "2022-07-12T13:07:39.214846Z",
     "shell.execute_reply": "2022-07-12T13:07:39.213635Z"
    },
    "papermill": {
     "duration": 0.047211,
     "end_time": "2022-07-12T13:07:39.216376",
     "exception": false,
     "start_time": "2022-07-12T13:07:39.169165",
     "status": "completed"
    },
    "tags": [
     "parameters"
    ]
   },
   "outputs": [],
   "source": [
    "# reference panel\n",
    "REFERENCE_PANEL <- \"GTEX_V8\"\n",
    "# REFERENCE_PANEL = \"1000G\"\n",
    "\n",
    "# prediction models\n",
    "## mashr\n",
    "EQTL_MODEL <- \"MASHR\"\n",
    "\n",
    "chromosome <- NULL"
   ]
  },
  {
   "cell_type": "code",
   "execution_count": 3,
   "id": "c1681830",
   "metadata": {
    "execution": {
     "iopub.execute_input": "2022-07-12T13:07:39.229273Z",
     "iopub.status.busy": "2022-07-12T13:07:39.228306Z",
     "iopub.status.idle": "2022-07-12T13:07:39.251344Z",
     "shell.execute_reply": "2022-07-12T13:07:39.250120Z"
    },
    "papermill": {
     "duration": 0.032485,
     "end_time": "2022-07-12T13:07:39.253061",
     "exception": false,
     "start_time": "2022-07-12T13:07:39.220576",
     "status": "completed"
    },
    "tags": [
     "injected-parameters"
    ]
   },
   "outputs": [],
   "source": [
    "# Parameters\n",
    "chromosome = 18\n",
    "REFERENCE_PANEL = \"1000G\"\n",
    "EQTL_MODEL = \"MASHR\"\n"
   ]
  },
  {
   "cell_type": "code",
   "execution_count": 4,
   "id": "8fe24bef",
   "metadata": {
    "execution": {
     "iopub.execute_input": "2022-07-12T13:07:39.262550Z",
     "iopub.status.busy": "2022-07-12T13:07:39.261457Z",
     "iopub.status.idle": "2022-07-12T13:07:39.274788Z",
     "shell.execute_reply": "2022-07-12T13:07:39.273560Z"
    },
    "papermill": {
     "duration": 0.019858,
     "end_time": "2022-07-12T13:07:39.276552",
     "exception": false,
     "start_time": "2022-07-12T13:07:39.256694",
     "status": "completed"
    },
    "tags": []
   },
   "outputs": [
    {
     "data": {
      "text/html": [
       "'Using reference panel: 1000G'"
      ],
      "text/latex": [
       "'Using reference panel: 1000G'"
      ],
      "text/markdown": [
       "'Using reference panel: 1000G'"
      ],
      "text/plain": [
       "[1] \"Using reference panel: 1000G\""
      ]
     },
     "metadata": {},
     "output_type": "display_data"
    }
   ],
   "source": [
    "paste0(\"Using reference panel: \", REFERENCE_PANEL)"
   ]
  },
  {
   "cell_type": "code",
   "execution_count": 5,
   "id": "d62c28f8-186c-478b-948c-58e14f00df4b",
   "metadata": {
    "execution": {
     "iopub.execute_input": "2022-07-12T13:07:39.286364Z",
     "iopub.status.busy": "2022-07-12T13:07:39.285326Z",
     "iopub.status.idle": "2022-07-12T13:07:39.296377Z",
     "shell.execute_reply": "2022-07-12T13:07:39.295163Z"
    },
    "papermill": {
     "duration": 0.017586,
     "end_time": "2022-07-12T13:07:39.298140",
     "exception": false,
     "start_time": "2022-07-12T13:07:39.280554",
     "status": "completed"
    },
    "tags": []
   },
   "outputs": [
    {
     "data": {
      "text/html": [
       "'Using eQTL model: MASHR'"
      ],
      "text/latex": [
       "'Using eQTL model: MASHR'"
      ],
      "text/markdown": [
       "'Using eQTL model: MASHR'"
      ],
      "text/plain": [
       "[1] \"Using eQTL model: MASHR\""
      ]
     },
     "metadata": {},
     "output_type": "display_data"
    }
   ],
   "source": [
    "paste0(\"Using eQTL model: \", EQTL_MODEL)"
   ]
  },
  {
   "cell_type": "code",
   "execution_count": 6,
   "id": "5243676f-c889-4405-9a4d-262f0f044614",
   "metadata": {
    "execution": {
     "iopub.execute_input": "2022-07-12T13:07:39.307800Z",
     "iopub.status.busy": "2022-07-12T13:07:39.306786Z",
     "iopub.status.idle": "2022-07-12T13:07:39.315844Z",
     "shell.execute_reply": "2022-07-12T13:07:39.314639Z"
    },
    "papermill": {
     "duration": 0.015546,
     "end_time": "2022-07-12T13:07:39.317476",
     "exception": false,
     "start_time": "2022-07-12T13:07:39.301930",
     "status": "completed"
    },
    "tags": []
   },
   "outputs": [],
   "source": [
    "# chromosome must be provided as parameter\n",
    "stopifnot(!is.null(chromosome))"
   ]
  },
  {
   "cell_type": "markdown",
   "id": "c05e4d34-e115-48cd-8a2e-225109eb0042",
   "metadata": {
    "papermill": {
     "duration": 0.003518,
     "end_time": "2022-07-12T13:07:39.324711",
     "exception": false,
     "start_time": "2022-07-12T13:07:39.321193",
     "status": "completed"
    },
    "tags": []
   },
   "source": [
    "# Paths"
   ]
  },
  {
   "cell_type": "code",
   "execution_count": 7,
   "id": "eb6aa8aa-b452-4a2f-a780-93dd80ad4285",
   "metadata": {
    "execution": {
     "iopub.execute_input": "2022-07-12T13:07:39.333606Z",
     "iopub.status.busy": "2022-07-12T13:07:39.332640Z",
     "iopub.status.idle": "2022-07-12T13:07:39.344487Z",
     "shell.execute_reply": "2022-07-12T13:07:39.343338Z"
    },
    "papermill": {
     "duration": 0.017769,
     "end_time": "2022-07-12T13:07:39.345994",
     "exception": false,
     "start_time": "2022-07-12T13:07:39.328225",
     "status": "completed"
    },
    "tags": []
   },
   "outputs": [
    {
     "data": {
      "text/html": [
       "'/opt/data/data/phenomexcan/ld_blocks/gene_corrs'"
      ],
      "text/latex": [
       "'/opt/data/data/phenomexcan/ld\\_blocks/gene\\_corrs'"
      ],
      "text/markdown": [
       "'/opt/data/data/phenomexcan/ld_blocks/gene_corrs'"
      ],
      "text/plain": [
       "[1] \"/opt/data/data/phenomexcan/ld_blocks/gene_corrs\""
      ]
     },
     "metadata": {},
     "output_type": "display_data"
    }
   ],
   "source": [
    "GENE_CORRS_DIR <- Sys.getenv(\"PHENOPLIER_PHENOMEXCAN_LD_BLOCKS_GENE_CORRS_DIR\")\n",
    "IRdisplay::display(GENE_CORRS_DIR)"
   ]
  },
  {
   "cell_type": "code",
   "execution_count": 8,
   "id": "eb24f15f-f282-4476-8943-8413c4483f12",
   "metadata": {
    "execution": {
     "iopub.execute_input": "2022-07-12T13:07:39.355786Z",
     "iopub.status.busy": "2022-07-12T13:07:39.354785Z",
     "iopub.status.idle": "2022-07-12T13:07:39.366888Z",
     "shell.execute_reply": "2022-07-12T13:07:39.365730Z"
    },
    "papermill": {
     "duration": 0.018799,
     "end_time": "2022-07-12T13:07:39.368603",
     "exception": false,
     "start_time": "2022-07-12T13:07:39.349804",
     "status": "completed"
    },
    "tags": []
   },
   "outputs": [
    {
     "data": {
      "text/html": [
       "'/opt/data/data/phenomexcan/ld_blocks/gene_corrs/1000g/mashr/by_chr'"
      ],
      "text/latex": [
       "'/opt/data/data/phenomexcan/ld\\_blocks/gene\\_corrs/1000g/mashr/by\\_chr'"
      ],
      "text/markdown": [
       "'/opt/data/data/phenomexcan/ld_blocks/gene_corrs/1000g/mashr/by_chr'"
      ],
      "text/plain": [
       "[1] \"/opt/data/data/phenomexcan/ld_blocks/gene_corrs/1000g/mashr/by_chr\""
      ]
     },
     "metadata": {},
     "output_type": "display_data"
    }
   ],
   "source": [
    "INPUT_DIR <- file.path(GENE_CORRS_DIR, tolower(REFERENCE_PANEL), tolower(EQTL_MODEL), \"by_chr\")\n",
    "IRdisplay::display(INPUT_DIR)"
   ]
  },
  {
   "cell_type": "code",
   "execution_count": 9,
   "id": "43c1daba-0da9-4822-8d1e-968e9767e251",
   "metadata": {
    "execution": {
     "iopub.execute_input": "2022-07-12T13:07:39.379673Z",
     "iopub.status.busy": "2022-07-12T13:07:39.378530Z",
     "iopub.status.idle": "2022-07-12T13:07:39.392968Z",
     "shell.execute_reply": "2022-07-12T13:07:39.391649Z"
    },
    "papermill": {
     "duration": 0.021712,
     "end_time": "2022-07-12T13:07:39.394790",
     "exception": false,
     "start_time": "2022-07-12T13:07:39.373078",
     "status": "completed"
    },
    "tags": []
   },
   "outputs": [
    {
     "data": {
      "text/html": [
       "'/opt/data/data/phenomexcan/ld_blocks/gene_corrs/1000g/mashr/by_chr/gene_corrs-chr18.pkl'"
      ],
      "text/latex": [
       "'/opt/data/data/phenomexcan/ld\\_blocks/gene\\_corrs/1000g/mashr/by\\_chr/gene\\_corrs-chr18.pkl'"
      ],
      "text/markdown": [
       "'/opt/data/data/phenomexcan/ld_blocks/gene_corrs/1000g/mashr/by_chr/gene_corrs-chr18.pkl'"
      ],
      "text/plain": [
       "[1] \"/opt/data/data/phenomexcan/ld_blocks/gene_corrs/1000g/mashr/by_chr/gene_corrs-chr18.pkl\""
      ]
     },
     "metadata": {},
     "output_type": "display_data"
    }
   ],
   "source": [
    "INPUT_FILE <- file.path(INPUT_DIR, paste0(\"gene_corrs-chr\", chromosome, \".pkl\"))\n",
    "IRdisplay::display(INPUT_FILE)\n",
    "stopifnot(file.exists(INPUT_FILE))"
   ]
  },
  {
   "cell_type": "code",
   "execution_count": 10,
   "id": "72386fbf-982b-420a-9057-ea9a97a5e571",
   "metadata": {
    "execution": {
     "iopub.execute_input": "2022-07-12T13:07:39.406255Z",
     "iopub.status.busy": "2022-07-12T13:07:39.405073Z",
     "iopub.status.idle": "2022-07-12T13:07:39.420741Z",
     "shell.execute_reply": "2022-07-12T13:07:39.419297Z"
    },
    "papermill": {
     "duration": 0.023504,
     "end_time": "2022-07-12T13:07:39.422883",
     "exception": false,
     "start_time": "2022-07-12T13:07:39.399379",
     "status": "completed"
    },
    "tags": []
   },
   "outputs": [
    {
     "data": {
      "text/html": [
       "'/opt/data/data/phenomexcan/ld_blocks/gene_corrs/1000g/mashr/by_chr/corrected_positive_definite'"
      ],
      "text/latex": [
       "'/opt/data/data/phenomexcan/ld\\_blocks/gene\\_corrs/1000g/mashr/by\\_chr/corrected\\_positive\\_definite'"
      ],
      "text/markdown": [
       "'/opt/data/data/phenomexcan/ld_blocks/gene_corrs/1000g/mashr/by_chr/corrected_positive_definite'"
      ],
      "text/plain": [
       "[1] \"/opt/data/data/phenomexcan/ld_blocks/gene_corrs/1000g/mashr/by_chr/corrected_positive_definite\""
      ]
     },
     "metadata": {},
     "output_type": "display_data"
    }
   ],
   "source": [
    "OUTPUT_DIR <- file.path(INPUT_DIR, \"corrected_positive_definite\")\n",
    "IRdisplay::display(OUTPUT_DIR)\n",
    "dir.create(OUTPUT_DIR, recursive = TRUE, showWarnings = FALSE)"
   ]
  },
  {
   "cell_type": "code",
   "execution_count": 11,
   "id": "f9f19d1d-ce4c-4099-a26e-250fec751de7",
   "metadata": {
    "execution": {
     "iopub.execute_input": "2022-07-12T13:07:39.435332Z",
     "iopub.status.busy": "2022-07-12T13:07:39.434080Z",
     "iopub.status.idle": "2022-07-12T13:07:39.450583Z",
     "shell.execute_reply": "2022-07-12T13:07:39.449231Z"
    },
    "papermill": {
     "duration": 0.024698,
     "end_time": "2022-07-12T13:07:39.452577",
     "exception": false,
     "start_time": "2022-07-12T13:07:39.427879",
     "status": "completed"
    },
    "tags": []
   },
   "outputs": [
    {
     "data": {
      "text/html": [
       "'/opt/data/data/phenomexcan/ld_blocks/gene_corrs/1000g/mashr/by_chr/corrected_positive_definite/gene_corrs-chr18.pkl'"
      ],
      "text/latex": [
       "'/opt/data/data/phenomexcan/ld\\_blocks/gene\\_corrs/1000g/mashr/by\\_chr/corrected\\_positive\\_definite/gene\\_corrs-chr18.pkl'"
      ],
      "text/markdown": [
       "'/opt/data/data/phenomexcan/ld_blocks/gene_corrs/1000g/mashr/by_chr/corrected_positive_definite/gene_corrs-chr18.pkl'"
      ],
      "text/plain": [
       "[1] \"/opt/data/data/phenomexcan/ld_blocks/gene_corrs/1000g/mashr/by_chr/corrected_positive_definite/gene_corrs-chr18.pkl\""
      ]
     },
     "metadata": {},
     "output_type": "display_data"
    }
   ],
   "source": [
    "OUTPUT_FILE <- file.path(OUTPUT_DIR, paste0(\"gene_corrs-chr\", chromosome, \".pkl\"))\n",
    "IRdisplay::display(OUTPUT_FILE)\n",
    "if (file.exists(OUTPUT_FILE)) {\n",
    "  IRdisplay::display(\"Output file exists, it will be overwritten\")\n",
    "}"
   ]
  },
  {
   "cell_type": "markdown",
   "id": "24973e62-e888-4b56-843f-489d8d0762b5",
   "metadata": {
    "papermill": {
     "duration": 0.004988,
     "end_time": "2022-07-12T13:07:39.462640",
     "exception": false,
     "start_time": "2022-07-12T13:07:39.457652",
     "status": "completed"
    },
    "tags": []
   },
   "source": [
    "# Functions"
   ]
  },
  {
   "cell_type": "code",
   "execution_count": 12,
   "id": "f828f081-7358-4cc8-8a89-1ee293bcc1a7",
   "metadata": {
    "execution": {
     "iopub.execute_input": "2022-07-12T13:07:39.478412Z",
     "iopub.status.busy": "2022-07-12T13:07:39.473740Z",
     "iopub.status.idle": "2022-07-12T13:07:39.490438Z",
     "shell.execute_reply": "2022-07-12T13:07:39.488212Z"
    },
    "papermill": {
     "duration": 0.024727,
     "end_time": "2022-07-12T13:07:39.492418",
     "exception": false,
     "start_time": "2022-07-12T13:07:39.467691",
     "status": "completed"
    },
    "tags": []
   },
   "outputs": [],
   "source": [
    "# taken from https://www.r-bloggers.com/2013/08/correcting-a-pseudo-correlation-matrix-to-be-positive-semidefinite/\n",
    "# TODO: add documentation\n",
    "CorrectCM <- function(CM, p = 0) {\n",
    "  n <- dim(var(CM))[1L]\n",
    "  E <- eigen(CM)\n",
    "  CM1 <- E$vectors %*% tcrossprod(diag(pmax(E$values, p), n), E$vectors)\n",
    "  Balance <- diag(1 / sqrt(diag(CM1)))\n",
    "  CM2 <- Balance %*% CM1 %*% Balance\n",
    "  return(CM2)\n",
    "}"
   ]
  },
  {
   "cell_type": "code",
   "execution_count": 13,
   "id": "7ab9bebf-50a1-4e6f-b16a-e23cae93d02a",
   "metadata": {
    "execution": {
     "iopub.execute_input": "2022-07-12T13:07:39.504259Z",
     "iopub.status.busy": "2022-07-12T13:07:39.503162Z",
     "iopub.status.idle": "2022-07-12T13:07:39.512933Z",
     "shell.execute_reply": "2022-07-12T13:07:39.511546Z"
    },
    "papermill": {
     "duration": 0.01754,
     "end_time": "2022-07-12T13:07:39.514790",
     "exception": false,
     "start_time": "2022-07-12T13:07:39.497250",
     "status": "completed"
    },
    "tags": []
   },
   "outputs": [],
   "source": [
    "is_positive_definite <- function(data) {\n",
    "  # eigenvalues <- eigen(data)$values\n",
    "  # nonpositive_eigenvalues <- eigenvalues[eigenvalues <= 0]\n",
    "\n",
    "  cholStatus <- try(u <- chol(data), silent = FALSE)\n",
    "  cholError <- ifelse(class(cholStatus) == \"try-error\", TRUE, FALSE)\n",
    "\n",
    "  if (cholError) {\n",
    "    return(FALSE)\n",
    "  } else {\n",
    "    return(TRUE)\n",
    "  }\n",
    "}"
   ]
  },
  {
   "cell_type": "markdown",
   "id": "7403fd78-00b2-4941-9c07-3c3af1ddc636",
   "metadata": {
    "papermill": {
     "duration": 0.004594,
     "end_time": "2022-07-12T13:07:39.524743",
     "exception": false,
     "start_time": "2022-07-12T13:07:39.520149",
     "status": "completed"
    },
    "tags": []
   },
   "source": [
    "# Load data"
   ]
  },
  {
   "cell_type": "code",
   "execution_count": 14,
   "id": "3a7744e1-2e5a-450e-9dcf-945ec181347d",
   "metadata": {
    "execution": {
     "iopub.execute_input": "2022-07-12T13:07:39.536097Z",
     "iopub.status.busy": "2022-07-12T13:07:39.534978Z",
     "iopub.status.idle": "2022-07-12T13:07:39.560209Z",
     "shell.execute_reply": "2022-07-12T13:07:39.558938Z"
    },
    "papermill": {
     "duration": 0.032544,
     "end_time": "2022-07-12T13:07:39.561963",
     "exception": false,
     "start_time": "2022-07-12T13:07:39.529419",
     "status": "completed"
    },
    "tags": []
   },
   "outputs": [],
   "source": [
    "gene_corrs <- pd$read_pickle(INPUT_FILE)"
   ]
  },
  {
   "cell_type": "code",
   "execution_count": 15,
   "id": "6fb150b2-4c68-4e9b-9aa5-1890d3f762e3",
   "metadata": {
    "execution": {
     "iopub.execute_input": "2022-07-12T13:07:39.573010Z",
     "iopub.status.busy": "2022-07-12T13:07:39.571961Z",
     "iopub.status.idle": "2022-07-12T13:07:39.583210Z",
     "shell.execute_reply": "2022-07-12T13:07:39.581987Z"
    },
    "papermill": {
     "duration": 0.01837,
     "end_time": "2022-07-12T13:07:39.584980",
     "exception": false,
     "start_time": "2022-07-12T13:07:39.566610",
     "status": "completed"
    },
    "tags": []
   },
   "outputs": [
    {
     "data": {
      "text/html": [
       "<style>\n",
       ".list-inline {list-style: none; margin:0; padding: 0}\n",
       ".list-inline>li {display: inline-block}\n",
       ".list-inline>li:not(:last-child)::after {content: \"\\00b7\"; padding: 0 .5ex}\n",
       "</style>\n",
       "<ol class=list-inline><li>96</li><li>96</li></ol>\n"
      ],
      "text/latex": [
       "\\begin{enumerate*}\n",
       "\\item 96\n",
       "\\item 96\n",
       "\\end{enumerate*}\n"
      ],
      "text/markdown": [
       "1. 96\n",
       "2. 96\n",
       "\n",
       "\n"
      ],
      "text/plain": [
       "[1] 96 96"
      ]
     },
     "metadata": {},
     "output_type": "display_data"
    }
   ],
   "source": [
    "dim(gene_corrs)"
   ]
  },
  {
   "cell_type": "code",
   "execution_count": 16,
   "id": "0d4e53b5-7586-4a68-8ce5-d930d74ba943",
   "metadata": {
    "execution": {
     "iopub.execute_input": "2022-07-12T13:07:39.596001Z",
     "iopub.status.busy": "2022-07-12T13:07:39.594985Z",
     "iopub.status.idle": "2022-07-12T13:07:39.614679Z",
     "shell.execute_reply": "2022-07-12T13:07:39.613534Z"
    },
    "papermill": {
     "duration": 0.026705,
     "end_time": "2022-07-12T13:07:39.616230",
     "exception": false,
     "start_time": "2022-07-12T13:07:39.589525",
     "status": "completed"
    },
    "tags": []
   },
   "outputs": [
    {
     "data": {
      "text/html": [
       "<table class=\"dataframe\">\n",
       "<caption>A data.frame: 6 × 10</caption>\n",
       "<thead>\n",
       "\t<tr><th></th><th scope=col>ENSG00000079134</th><th scope=col>ENSG00000158270</th><th scope=col>ENSG00000176890</th><th scope=col>ENSG00000176105</th><th scope=col>ENSG00000080986</th><th scope=col>ENSG00000132205</th><th scope=col>ENSG00000101577</th><th scope=col>ENSG00000101608</th><th scope=col>ENSG00000118680</th><th scope=col>ENSG00000177426</th></tr>\n",
       "\t<tr><th></th><th scope=col>&lt;dbl&gt;</th><th scope=col>&lt;dbl&gt;</th><th scope=col>&lt;dbl&gt;</th><th scope=col>&lt;dbl&gt;</th><th scope=col>&lt;dbl&gt;</th><th scope=col>&lt;dbl&gt;</th><th scope=col>&lt;dbl&gt;</th><th scope=col>&lt;dbl&gt;</th><th scope=col>&lt;dbl&gt;</th><th scope=col>&lt;dbl&gt;</th></tr>\n",
       "</thead>\n",
       "<tbody>\n",
       "\t<tr><th scope=row>ENSG00000079134</th><td>1.000000000</td><td>0.02732694</td><td>0.01098645</td><td>0.008945918</td><td>0.012391944</td><td>0.01392377</td><td>0.01920465</td><td>0.015497687</td><td>0.016753136</td><td>0.011800423</td></tr>\n",
       "\t<tr><th scope=row>ENSG00000158270</th><td>0.027326942</td><td>1.00000000</td><td>0.02064532</td><td>0.013929237</td><td>0.012564676</td><td>0.01991691</td><td>0.02105521</td><td>0.016313137</td><td>0.009864415</td><td>0.010885963</td></tr>\n",
       "\t<tr><th scope=row>ENSG00000176890</th><td>0.010986453</td><td>0.02064532</td><td>1.00000000</td><td>0.127420429</td><td>0.017521837</td><td>0.02074898</td><td>0.01639230</td><td>0.012177630</td><td>0.009219959</td><td>0.014962964</td></tr>\n",
       "\t<tr><th scope=row>ENSG00000176105</th><td>0.008945918</td><td>0.01392924</td><td>0.12742043</td><td>1.000000000</td><td>0.006700826</td><td>0.01240900</td><td>0.01895737</td><td>0.007398920</td><td>0.004663276</td><td>0.005910613</td></tr>\n",
       "\t<tr><th scope=row>ENSG00000080986</th><td>0.012391944</td><td>0.01256468</td><td>0.01752184</td><td>0.006700826</td><td>1.000000000</td><td>0.02470300</td><td>0.01950099</td><td>0.008463994</td><td>0.005911002</td><td>0.008447429</td></tr>\n",
       "\t<tr><th scope=row>ENSG00000132205</th><td>0.013923770</td><td>0.01991691</td><td>0.02074898</td><td>0.012409002</td><td>0.024703004</td><td>1.00000000</td><td>0.15924338</td><td>0.013636704</td><td>0.014767566</td><td>0.011099845</td></tr>\n",
       "</tbody>\n",
       "</table>\n"
      ],
      "text/latex": [
       "A data.frame: 6 × 10\n",
       "\\begin{tabular}{r|llllllllll}\n",
       "  & ENSG00000079134 & ENSG00000158270 & ENSG00000176890 & ENSG00000176105 & ENSG00000080986 & ENSG00000132205 & ENSG00000101577 & ENSG00000101608 & ENSG00000118680 & ENSG00000177426\\\\\n",
       "  & <dbl> & <dbl> & <dbl> & <dbl> & <dbl> & <dbl> & <dbl> & <dbl> & <dbl> & <dbl>\\\\\n",
       "\\hline\n",
       "\tENSG00000079134 & 1.000000000 & 0.02732694 & 0.01098645 & 0.008945918 & 0.012391944 & 0.01392377 & 0.01920465 & 0.015497687 & 0.016753136 & 0.011800423\\\\\n",
       "\tENSG00000158270 & 0.027326942 & 1.00000000 & 0.02064532 & 0.013929237 & 0.012564676 & 0.01991691 & 0.02105521 & 0.016313137 & 0.009864415 & 0.010885963\\\\\n",
       "\tENSG00000176890 & 0.010986453 & 0.02064532 & 1.00000000 & 0.127420429 & 0.017521837 & 0.02074898 & 0.01639230 & 0.012177630 & 0.009219959 & 0.014962964\\\\\n",
       "\tENSG00000176105 & 0.008945918 & 0.01392924 & 0.12742043 & 1.000000000 & 0.006700826 & 0.01240900 & 0.01895737 & 0.007398920 & 0.004663276 & 0.005910613\\\\\n",
       "\tENSG00000080986 & 0.012391944 & 0.01256468 & 0.01752184 & 0.006700826 & 1.000000000 & 0.02470300 & 0.01950099 & 0.008463994 & 0.005911002 & 0.008447429\\\\\n",
       "\tENSG00000132205 & 0.013923770 & 0.01991691 & 0.02074898 & 0.012409002 & 0.024703004 & 1.00000000 & 0.15924338 & 0.013636704 & 0.014767566 & 0.011099845\\\\\n",
       "\\end{tabular}\n"
      ],
      "text/markdown": [
       "\n",
       "A data.frame: 6 × 10\n",
       "\n",
       "| <!--/--> | ENSG00000079134 &lt;dbl&gt; | ENSG00000158270 &lt;dbl&gt; | ENSG00000176890 &lt;dbl&gt; | ENSG00000176105 &lt;dbl&gt; | ENSG00000080986 &lt;dbl&gt; | ENSG00000132205 &lt;dbl&gt; | ENSG00000101577 &lt;dbl&gt; | ENSG00000101608 &lt;dbl&gt; | ENSG00000118680 &lt;dbl&gt; | ENSG00000177426 &lt;dbl&gt; |\n",
       "|---|---|---|---|---|---|---|---|---|---|---|\n",
       "| ENSG00000079134 | 1.000000000 | 0.02732694 | 0.01098645 | 0.008945918 | 0.012391944 | 0.01392377 | 0.01920465 | 0.015497687 | 0.016753136 | 0.011800423 |\n",
       "| ENSG00000158270 | 0.027326942 | 1.00000000 | 0.02064532 | 0.013929237 | 0.012564676 | 0.01991691 | 0.02105521 | 0.016313137 | 0.009864415 | 0.010885963 |\n",
       "| ENSG00000176890 | 0.010986453 | 0.02064532 | 1.00000000 | 0.127420429 | 0.017521837 | 0.02074898 | 0.01639230 | 0.012177630 | 0.009219959 | 0.014962964 |\n",
       "| ENSG00000176105 | 0.008945918 | 0.01392924 | 0.12742043 | 1.000000000 | 0.006700826 | 0.01240900 | 0.01895737 | 0.007398920 | 0.004663276 | 0.005910613 |\n",
       "| ENSG00000080986 | 0.012391944 | 0.01256468 | 0.01752184 | 0.006700826 | 1.000000000 | 0.02470300 | 0.01950099 | 0.008463994 | 0.005911002 | 0.008447429 |\n",
       "| ENSG00000132205 | 0.013923770 | 0.01991691 | 0.02074898 | 0.012409002 | 0.024703004 | 1.00000000 | 0.15924338 | 0.013636704 | 0.014767566 | 0.011099845 |\n",
       "\n"
      ],
      "text/plain": [
       "                ENSG00000079134 ENSG00000158270 ENSG00000176890 ENSG00000176105\n",
       "ENSG00000079134 1.000000000     0.02732694      0.01098645      0.008945918    \n",
       "ENSG00000158270 0.027326942     1.00000000      0.02064532      0.013929237    \n",
       "ENSG00000176890 0.010986453     0.02064532      1.00000000      0.127420429    \n",
       "ENSG00000176105 0.008945918     0.01392924      0.12742043      1.000000000    \n",
       "ENSG00000080986 0.012391944     0.01256468      0.01752184      0.006700826    \n",
       "ENSG00000132205 0.013923770     0.01991691      0.02074898      0.012409002    \n",
       "                ENSG00000080986 ENSG00000132205 ENSG00000101577 ENSG00000101608\n",
       "ENSG00000079134 0.012391944     0.01392377      0.01920465      0.015497687    \n",
       "ENSG00000158270 0.012564676     0.01991691      0.02105521      0.016313137    \n",
       "ENSG00000176890 0.017521837     0.02074898      0.01639230      0.012177630    \n",
       "ENSG00000176105 0.006700826     0.01240900      0.01895737      0.007398920    \n",
       "ENSG00000080986 1.000000000     0.02470300      0.01950099      0.008463994    \n",
       "ENSG00000132205 0.024703004     1.00000000      0.15924338      0.013636704    \n",
       "                ENSG00000118680 ENSG00000177426\n",
       "ENSG00000079134 0.016753136     0.011800423    \n",
       "ENSG00000158270 0.009864415     0.010885963    \n",
       "ENSG00000176890 0.009219959     0.014962964    \n",
       "ENSG00000176105 0.004663276     0.005910613    \n",
       "ENSG00000080986 0.005911002     0.008447429    \n",
       "ENSG00000132205 0.014767566     0.011099845    "
      ]
     },
     "metadata": {},
     "output_type": "display_data"
    }
   ],
   "source": [
    "head(gene_corrs[1:10, 1:10])"
   ]
  },
  {
   "cell_type": "markdown",
   "id": "d6cbc88a-2c90-4d11-b7dd-434f046fd03c",
   "metadata": {
    "papermill": {
     "duration": 0.004463,
     "end_time": "2022-07-12T13:07:39.625265",
     "exception": false,
     "start_time": "2022-07-12T13:07:39.620802",
     "status": "completed"
    },
    "tags": []
   },
   "source": [
    "# Check positive definiteness"
   ]
  },
  {
   "cell_type": "code",
   "execution_count": 17,
   "id": "a858a061-7c5a-4a6b-8026-fe4de50c1f26",
   "metadata": {
    "execution": {
     "iopub.execute_input": "2022-07-12T13:07:39.636100Z",
     "iopub.status.busy": "2022-07-12T13:07:39.635167Z",
     "iopub.status.idle": "2022-07-12T13:07:39.647010Z",
     "shell.execute_reply": "2022-07-12T13:07:39.643808Z"
    },
    "papermill": {
     "duration": 0.018757,
     "end_time": "2022-07-12T13:07:39.648599",
     "exception": false,
     "start_time": "2022-07-12T13:07:39.629842",
     "status": "completed"
    },
    "tags": []
   },
   "outputs": [],
   "source": [
    "orig_matrix_is_positive_definite <- is_positive_definite(gene_corrs)"
   ]
  },
  {
   "cell_type": "code",
   "execution_count": 18,
   "id": "410ee452-488f-4518-b93a-2acd608ba99c",
   "metadata": {
    "execution": {
     "iopub.execute_input": "2022-07-12T13:07:39.663849Z",
     "iopub.status.busy": "2022-07-12T13:07:39.662811Z",
     "iopub.status.idle": "2022-07-12T13:07:39.687900Z",
     "shell.execute_reply": "2022-07-12T13:07:39.684846Z"
    },
    "papermill": {
     "duration": 0.036547,
     "end_time": "2022-07-12T13:07:39.689528",
     "exception": false,
     "start_time": "2022-07-12T13:07:39.652981",
     "status": "completed"
    },
    "tags": []
   },
   "outputs": [
    {
     "data": {
      "text/html": [
       "'Matrix is already positive definite!'"
      ],
      "text/latex": [
       "'Matrix is already positive definite!'"
      ],
      "text/markdown": [
       "'Matrix is already positive definite!'"
      ],
      "text/plain": [
       "[1] \"Matrix is already positive definite!\""
      ]
     },
     "metadata": {},
     "output_type": "display_data"
    },
    {
     "data": {
      "text/html": [
       "TRUE"
      ],
      "text/latex": [
       "TRUE"
      ],
      "text/markdown": [
       "TRUE"
      ],
      "text/plain": [
       "[1] TRUE"
      ]
     },
     "metadata": {},
     "output_type": "display_data"
    }
   ],
   "source": [
    "if (orig_matrix_is_positive_definite) {\n",
    "  IRdisplay::display(\"Matrix is already positive definite!\")\n",
    "  file.copy(INPUT_FILE, OUTPUT_FILE)\n",
    "} else {\n",
    "  IRdisplay::display(\"We need to correct the data and make the matrix positive definite\")\n",
    "\n",
    "  eigenvalues <- eigen(gene_corrs)$values\n",
    "  nonpositive_eigenvalues <- eigenvalues[eigenvalues <= 0]\n",
    "  IRdisplay::display(length(nonpositive_eigenvalues))\n",
    "  IRdisplay::display(nonpositive_eigenvalues)\n",
    "\n",
    "  # Make matrix positive definite\n",
    "  gene_corrs_corrected <- CorrectCM(gene_corrs, 1e-10)\n",
    "  dimnames(gene_corrs_corrected)[[1]] <- rownames(gene_corrs)\n",
    "  dimnames(gene_corrs_corrected)[[2]] <- colnames(gene_corrs)\n",
    "  gene_corrs_corrected <- as.data.frame(gene_corrs_corrected)\n",
    "\n",
    "  # check if new matrix is really positive definite\n",
    "  matrix_is_positive_definite <- is_positive_definite(gene_corrs_corrected)\n",
    "  if (matrix_is_positive_definite) {\n",
    "    IRdisplay::display(\"It worked!\")\n",
    "    IRdisplay::display(head(gene_corrs[1:10, 1:10]))\n",
    "    IRdisplay::display(head(gene_corrs_corrected[1:10, 1:10]))\n",
    "    py_save_object(gene_corrs_corrected, OUTPUT_FILE)\n",
    "  } else {\n",
    "    eigenvalues <- eigen(gene_corrs_corrected)$values\n",
    "    nonpositive_eigenvalues <- eigenvalues[eigenvalues <= 0]\n",
    "    IRdisplay::display(length(nonpositive_eigenvalues))\n",
    "    IRdisplay::display(nonpositive_eigenvalues)\n",
    "\n",
    "    stop(\"Method failed to adjust matrix\")\n",
    "  }\n",
    "}"
   ]
  },
  {
   "cell_type": "markdown",
   "id": "6c196700-7491-462f-bab8-ab9d40c63499",
   "metadata": {
    "papermill": {
     "duration": 0.007731,
     "end_time": "2022-07-12T13:07:39.701848",
     "exception": false,
     "start_time": "2022-07-12T13:07:39.694117",
     "status": "completed"
    },
    "tags": []
   },
   "source": [
    "Both matrices should \"look\" similar. We are not interested in perfectly accurate correlation values (they are already inaccurate)."
   ]
  },
  {
   "cell_type": "code",
   "execution_count": null,
   "id": "d8ae4220-2171-460c-9231-cd5219f3fe77",
   "metadata": {
    "papermill": {
     "duration": 0.007784,
     "end_time": "2022-07-12T13:07:39.719053",
     "exception": false,
     "start_time": "2022-07-12T13:07:39.711269",
     "status": "completed"
    },
    "tags": []
   },
   "outputs": [],
   "source": []
  }
 ],
 "metadata": {
  "jupytext": {
   "cell_metadata_filter": "all,-execution,-papermill,-trusted"
  },
  "kernelspec": {
   "display_name": "R",
   "language": "R",
   "name": "ir"
  },
  "language_info": {
   "codemirror_mode": "r",
   "file_extension": ".r",
   "mimetype": "text/x-r-source",
   "name": "R",
   "pygments_lexer": "r",
   "version": "3.6.3"
  },
  "papermill": {
   "default_parameters": {},
   "duration": 5.427068,
   "end_time": "2022-07-12T13:07:39.845471",
   "environment_variables": {},
   "exception": null,
   "input_path": "nbs/15_gsa_gls/12-gene_expr_correlations-adjust.ipynb",
   "output_path": "nbs/15_gsa_gls/gene_corrs/1000g/mashr/12-gene_expr_correlations-adjust-chr18.run.ipynb",
   "parameters": {
    "EQTL_MODEL": "MASHR",
    "REFERENCE_PANEL": "1000G",
    "chromosome": 18
   },
   "start_time": "2022-07-12T13:07:34.418403",
   "version": "2.3.4"
  }
 },
 "nbformat": 4,
 "nbformat_minor": 5
}
