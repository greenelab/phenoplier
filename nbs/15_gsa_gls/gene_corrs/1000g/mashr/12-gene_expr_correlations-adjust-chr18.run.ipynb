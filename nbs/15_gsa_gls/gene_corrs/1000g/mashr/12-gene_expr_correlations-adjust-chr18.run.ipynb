{
 "cells": [
  {
   "cell_type": "markdown",
   "id": "28fc82fa-c3f6-4184-8054-cc91c7c6e2e7",
   "metadata": {
    "papermill": {
     "duration": 0.003718,
     "end_time": "2022-07-11T13:17:59.789620",
     "exception": false,
     "start_time": "2022-07-11T13:17:59.785902",
     "status": "completed"
    },
    "tags": []
   },
   "source": [
    "# Description"
   ]
  },
  {
   "cell_type": "markdown",
   "id": "36839b17-916e-4aec-8fee-96faf1097e78",
   "metadata": {
    "papermill": {
     "duration": 0.003527,
     "end_time": "2022-07-11T13:17:59.796478",
     "exception": false,
     "start_time": "2022-07-11T13:17:59.792951",
     "status": "completed"
    },
    "tags": []
   },
   "source": [
    "**TODO**"
   ]
  },
  {
   "cell_type": "markdown",
   "id": "249e8aa3-ef1a-4bba-a6dd-58120ad80794",
   "metadata": {
    "papermill": {
     "duration": 0.003707,
     "end_time": "2022-07-11T13:17:59.803874",
     "exception": false,
     "start_time": "2022-07-11T13:17:59.800167",
     "status": "completed"
    },
    "tags": []
   },
   "source": [
    "# Modules"
   ]
  },
  {
   "cell_type": "code",
   "execution_count": 1,
   "id": "f9b5022b-7c5e-4d37-9c7a-fdb91777c7f9",
   "metadata": {
    "execution": {
     "iopub.execute_input": "2022-07-11T13:17:59.815520Z",
     "iopub.status.busy": "2022-07-11T13:17:59.813192Z",
     "iopub.status.idle": "2022-07-11T13:18:03.233193Z",
     "shell.execute_reply": "2022-07-11T13:18:03.232038Z"
    },
    "papermill": {
     "duration": 3.426849,
     "end_time": "2022-07-11T13:18:03.234748",
     "exception": false,
     "start_time": "2022-07-11T13:17:59.807899",
     "status": "completed"
    },
    "tags": []
   },
   "outputs": [],
   "source": [
    "library(reticulate)\n",
    "pd <- import(\"pandas\")"
   ]
  },
  {
   "cell_type": "markdown",
   "id": "69e80173-3a39-4b6a-b723-602687cb255b",
   "metadata": {
    "papermill": {
     "duration": 0.00339,
     "end_time": "2022-07-11T13:18:03.241403",
     "exception": false,
     "start_time": "2022-07-11T13:18:03.238013",
     "status": "completed"
    },
    "tags": []
   },
   "source": [
    "# Settings"
   ]
  },
  {
   "cell_type": "code",
   "execution_count": 2,
   "id": "22d12bb4-1699-4a6b-b1b9-d3fdd3d547d7",
   "metadata": {
    "execution": {
     "iopub.execute_input": "2022-07-11T13:18:03.275165Z",
     "iopub.status.busy": "2022-07-11T13:18:03.250321Z",
     "iopub.status.idle": "2022-07-11T13:18:03.288415Z",
     "shell.execute_reply": "2022-07-11T13:18:03.287089Z"
    },
    "papermill": {
     "duration": 0.044839,
     "end_time": "2022-07-11T13:18:03.290332",
     "exception": false,
     "start_time": "2022-07-11T13:18:03.245493",
     "status": "completed"
    },
    "tags": [
     "parameters"
    ]
   },
   "outputs": [],
   "source": [
    "# reference panel\n",
    "REFERENCE_PANEL <- \"GTEX_V8\"\n",
    "# REFERENCE_PANEL = \"1000G\"\n",
    "\n",
    "# prediction models\n",
    "## mashr\n",
    "EQTL_MODEL <- \"MASHR\"\n",
    "\n",
    "chromosome <- NULL"
   ]
  },
  {
   "cell_type": "code",
   "execution_count": 3,
   "id": "c4b1aad2",
   "metadata": {
    "execution": {
     "iopub.execute_input": "2022-07-11T13:18:03.300199Z",
     "iopub.status.busy": "2022-07-11T13:18:03.299051Z",
     "iopub.status.idle": "2022-07-11T13:18:03.317865Z",
     "shell.execute_reply": "2022-07-11T13:18:03.316491Z"
    },
    "papermill": {
     "duration": 0.030864,
     "end_time": "2022-07-11T13:18:03.325007",
     "exception": false,
     "start_time": "2022-07-11T13:18:03.294143",
     "status": "completed"
    },
    "tags": [
     "injected-parameters"
    ]
   },
   "outputs": [],
   "source": [
    "# Parameters\n",
    "chromosome = 18\n",
    "REFERENCE_PANEL = \"1000G\"\n",
    "EQTL_MODEL = \"MASHR\"\n"
   ]
  },
  {
   "cell_type": "code",
   "execution_count": 4,
   "id": "8fe24bef",
   "metadata": {
    "execution": {
     "iopub.execute_input": "2022-07-11T13:18:03.341644Z",
     "iopub.status.busy": "2022-07-11T13:18:03.338774Z",
     "iopub.status.idle": "2022-07-11T13:18:03.357456Z",
     "shell.execute_reply": "2022-07-11T13:18:03.356124Z"
    },
    "papermill": {
     "duration": 0.026175,
     "end_time": "2022-07-11T13:18:03.359279",
     "exception": false,
     "start_time": "2022-07-11T13:18:03.333104",
     "status": "completed"
    },
    "tags": []
   },
   "outputs": [
    {
     "data": {
      "text/html": [
       "'Using reference panel: 1000G'"
      ],
      "text/latex": [
       "'Using reference panel: 1000G'"
      ],
      "text/markdown": [
       "'Using reference panel: 1000G'"
      ],
      "text/plain": [
       "[1] \"Using reference panel: 1000G\""
      ]
     },
     "metadata": {},
     "output_type": "display_data"
    }
   ],
   "source": [
    "paste0(\"Using reference panel: \", REFERENCE_PANEL)"
   ]
  },
  {
   "cell_type": "code",
   "execution_count": 5,
   "id": "d62c28f8-186c-478b-948c-58e14f00df4b",
   "metadata": {
    "execution": {
     "iopub.execute_input": "2022-07-11T13:18:03.369864Z",
     "iopub.status.busy": "2022-07-11T13:18:03.368613Z",
     "iopub.status.idle": "2022-07-11T13:18:03.381310Z",
     "shell.execute_reply": "2022-07-11T13:18:03.379984Z"
    },
    "papermill": {
     "duration": 0.019767,
     "end_time": "2022-07-11T13:18:03.383168",
     "exception": false,
     "start_time": "2022-07-11T13:18:03.363401",
     "status": "completed"
    },
    "tags": []
   },
   "outputs": [
    {
     "data": {
      "text/html": [
       "'Using eQTL model: MASHR'"
      ],
      "text/latex": [
       "'Using eQTL model: MASHR'"
      ],
      "text/markdown": [
       "'Using eQTL model: MASHR'"
      ],
      "text/plain": [
       "[1] \"Using eQTL model: MASHR\""
      ]
     },
     "metadata": {},
     "output_type": "display_data"
    }
   ],
   "source": [
    "paste0(\"Using eQTL model: \", EQTL_MODEL)"
   ]
  },
  {
   "cell_type": "code",
   "execution_count": 6,
   "id": "5243676f-c889-4405-9a4d-262f0f044614",
   "metadata": {
    "execution": {
     "iopub.execute_input": "2022-07-11T13:18:03.393539Z",
     "iopub.status.busy": "2022-07-11T13:18:03.392424Z",
     "iopub.status.idle": "2022-07-11T13:18:03.402163Z",
     "shell.execute_reply": "2022-07-11T13:18:03.400916Z"
    },
    "papermill": {
     "duration": 0.016674,
     "end_time": "2022-07-11T13:18:03.403952",
     "exception": false,
     "start_time": "2022-07-11T13:18:03.387278",
     "status": "completed"
    },
    "tags": []
   },
   "outputs": [],
   "source": [
    "# chromosome must be provided as parameter\n",
    "stopifnot(!is.null(chromosome))"
   ]
  },
  {
   "cell_type": "markdown",
   "id": "c05e4d34-e115-48cd-8a2e-225109eb0042",
   "metadata": {
    "papermill": {
     "duration": 0.00405,
     "end_time": "2022-07-11T13:18:03.412124",
     "exception": false,
     "start_time": "2022-07-11T13:18:03.408074",
     "status": "completed"
    },
    "tags": []
   },
   "source": [
    "# Paths"
   ]
  },
  {
   "cell_type": "code",
   "execution_count": 7,
   "id": "eb6aa8aa-b452-4a2f-a780-93dd80ad4285",
   "metadata": {
    "execution": {
     "iopub.execute_input": "2022-07-11T13:18:03.422359Z",
     "iopub.status.busy": "2022-07-11T13:18:03.421227Z",
     "iopub.status.idle": "2022-07-11T13:18:03.434958Z",
     "shell.execute_reply": "2022-07-11T13:18:03.433680Z"
    },
    "papermill": {
     "duration": 0.020536,
     "end_time": "2022-07-11T13:18:03.436765",
     "exception": false,
     "start_time": "2022-07-11T13:18:03.416229",
     "status": "completed"
    },
    "tags": []
   },
   "outputs": [
    {
     "data": {
      "text/html": [
       "'/opt/data/data/phenomexcan/ld_blocks/gene_corrs'"
      ],
      "text/latex": [
       "'/opt/data/data/phenomexcan/ld\\_blocks/gene\\_corrs'"
      ],
      "text/markdown": [
       "'/opt/data/data/phenomexcan/ld_blocks/gene_corrs'"
      ],
      "text/plain": [
       "[1] \"/opt/data/data/phenomexcan/ld_blocks/gene_corrs\""
      ]
     },
     "metadata": {},
     "output_type": "display_data"
    }
   ],
   "source": [
    "GENE_CORRS_DIR <- Sys.getenv(\"PHENOPLIER_PHENOMEXCAN_LD_BLOCKS_GENE_CORRS_DIR\")\n",
    "IRdisplay::display(GENE_CORRS_DIR)"
   ]
  },
  {
   "cell_type": "code",
   "execution_count": 8,
   "id": "eb24f15f-f282-4476-8943-8413c4483f12",
   "metadata": {
    "execution": {
     "iopub.execute_input": "2022-07-11T13:18:03.446730Z",
     "iopub.status.busy": "2022-07-11T13:18:03.445689Z",
     "iopub.status.idle": "2022-07-11T13:18:03.458376Z",
     "shell.execute_reply": "2022-07-11T13:18:03.457182Z"
    },
    "papermill": {
     "duration": 0.01924,
     "end_time": "2022-07-11T13:18:03.460025",
     "exception": false,
     "start_time": "2022-07-11T13:18:03.440785",
     "status": "completed"
    },
    "tags": []
   },
   "outputs": [
    {
     "data": {
      "text/html": [
       "'/opt/data/data/phenomexcan/ld_blocks/gene_corrs/1000g/mashr/by_chr'"
      ],
      "text/latex": [
       "'/opt/data/data/phenomexcan/ld\\_blocks/gene\\_corrs/1000g/mashr/by\\_chr'"
      ],
      "text/markdown": [
       "'/opt/data/data/phenomexcan/ld_blocks/gene_corrs/1000g/mashr/by_chr'"
      ],
      "text/plain": [
       "[1] \"/opt/data/data/phenomexcan/ld_blocks/gene_corrs/1000g/mashr/by_chr\""
      ]
     },
     "metadata": {},
     "output_type": "display_data"
    }
   ],
   "source": [
    "INPUT_DIR <- file.path(GENE_CORRS_DIR, tolower(REFERENCE_PANEL), tolower(EQTL_MODEL), \"by_chr\")\n",
    "IRdisplay::display(INPUT_DIR)"
   ]
  },
  {
   "cell_type": "code",
   "execution_count": 9,
   "id": "43c1daba-0da9-4822-8d1e-968e9767e251",
   "metadata": {
    "execution": {
     "iopub.execute_input": "2022-07-11T13:18:03.469855Z",
     "iopub.status.busy": "2022-07-11T13:18:03.468848Z",
     "iopub.status.idle": "2022-07-11T13:18:03.482470Z",
     "shell.execute_reply": "2022-07-11T13:18:03.481336Z"
    },
    "papermill": {
     "duration": 0.019854,
     "end_time": "2022-07-11T13:18:03.484009",
     "exception": false,
     "start_time": "2022-07-11T13:18:03.464155",
     "status": "completed"
    },
    "tags": []
   },
   "outputs": [
    {
     "data": {
      "text/html": [
       "'/opt/data/data/phenomexcan/ld_blocks/gene_corrs/1000g/mashr/by_chr/gene_corrs-chr18.pkl'"
      ],
      "text/latex": [
       "'/opt/data/data/phenomexcan/ld\\_blocks/gene\\_corrs/1000g/mashr/by\\_chr/gene\\_corrs-chr18.pkl'"
      ],
      "text/markdown": [
       "'/opt/data/data/phenomexcan/ld_blocks/gene_corrs/1000g/mashr/by_chr/gene_corrs-chr18.pkl'"
      ],
      "text/plain": [
       "[1] \"/opt/data/data/phenomexcan/ld_blocks/gene_corrs/1000g/mashr/by_chr/gene_corrs-chr18.pkl\""
      ]
     },
     "metadata": {},
     "output_type": "display_data"
    }
   ],
   "source": [
    "INPUT_FILE <- file.path(INPUT_DIR, paste0(\"gene_corrs-chr\", chromosome, \".pkl\"))\n",
    "IRdisplay::display(INPUT_FILE)\n",
    "stopifnot(file.exists(INPUT_FILE))"
   ]
  },
  {
   "cell_type": "code",
   "execution_count": 10,
   "id": "72386fbf-982b-420a-9057-ea9a97a5e571",
   "metadata": {
    "execution": {
     "iopub.execute_input": "2022-07-11T13:18:03.493822Z",
     "iopub.status.busy": "2022-07-11T13:18:03.492857Z",
     "iopub.status.idle": "2022-07-11T13:18:03.506253Z",
     "shell.execute_reply": "2022-07-11T13:18:03.505079Z"
    },
    "papermill": {
     "duration": 0.019972,
     "end_time": "2022-07-11T13:18:03.507913",
     "exception": false,
     "start_time": "2022-07-11T13:18:03.487941",
     "status": "completed"
    },
    "tags": []
   },
   "outputs": [
    {
     "data": {
      "text/html": [
       "'/opt/data/data/phenomexcan/ld_blocks/gene_corrs/1000g/mashr/by_chr/corrected_positive_definite'"
      ],
      "text/latex": [
       "'/opt/data/data/phenomexcan/ld\\_blocks/gene\\_corrs/1000g/mashr/by\\_chr/corrected\\_positive\\_definite'"
      ],
      "text/markdown": [
       "'/opt/data/data/phenomexcan/ld_blocks/gene_corrs/1000g/mashr/by_chr/corrected_positive_definite'"
      ],
      "text/plain": [
       "[1] \"/opt/data/data/phenomexcan/ld_blocks/gene_corrs/1000g/mashr/by_chr/corrected_positive_definite\""
      ]
     },
     "metadata": {},
     "output_type": "display_data"
    }
   ],
   "source": [
    "OUTPUT_DIR <- file.path(INPUT_DIR, \"corrected_positive_definite\")\n",
    "IRdisplay::display(OUTPUT_DIR)\n",
    "dir.create(OUTPUT_DIR, recursive = TRUE, showWarnings = FALSE)"
   ]
  },
  {
   "cell_type": "code",
   "execution_count": 11,
   "id": "f9f19d1d-ce4c-4099-a26e-250fec751de7",
   "metadata": {
    "execution": {
     "iopub.execute_input": "2022-07-11T13:18:03.518110Z",
     "iopub.status.busy": "2022-07-11T13:18:03.517102Z",
     "iopub.status.idle": "2022-07-11T13:18:03.530847Z",
     "shell.execute_reply": "2022-07-11T13:18:03.529729Z"
    },
    "papermill": {
     "duration": 0.020395,
     "end_time": "2022-07-11T13:18:03.532510",
     "exception": false,
     "start_time": "2022-07-11T13:18:03.512115",
     "status": "completed"
    },
    "tags": []
   },
   "outputs": [
    {
     "data": {
      "text/html": [
       "'/opt/data/data/phenomexcan/ld_blocks/gene_corrs/1000g/mashr/by_chr/corrected_positive_definite/gene_corrs-chr18.pkl'"
      ],
      "text/latex": [
       "'/opt/data/data/phenomexcan/ld\\_blocks/gene\\_corrs/1000g/mashr/by\\_chr/corrected\\_positive\\_definite/gene\\_corrs-chr18.pkl'"
      ],
      "text/markdown": [
       "'/opt/data/data/phenomexcan/ld_blocks/gene_corrs/1000g/mashr/by_chr/corrected_positive_definite/gene_corrs-chr18.pkl'"
      ],
      "text/plain": [
       "[1] \"/opt/data/data/phenomexcan/ld_blocks/gene_corrs/1000g/mashr/by_chr/corrected_positive_definite/gene_corrs-chr18.pkl\""
      ]
     },
     "metadata": {},
     "output_type": "display_data"
    }
   ],
   "source": [
    "OUTPUT_FILE <- file.path(OUTPUT_DIR, paste0(\"gene_corrs-chr\", chromosome, \".pkl\"))\n",
    "IRdisplay::display(OUTPUT_FILE)\n",
    "if (file.exists(OUTPUT_FILE)) {\n",
    "  IRdisplay::display(\"Output file exists, it will be overwritten\")\n",
    "}"
   ]
  },
  {
   "cell_type": "markdown",
   "id": "24973e62-e888-4b56-843f-489d8d0762b5",
   "metadata": {
    "papermill": {
     "duration": 0.004138,
     "end_time": "2022-07-11T13:18:03.540738",
     "exception": false,
     "start_time": "2022-07-11T13:18:03.536600",
     "status": "completed"
    },
    "tags": []
   },
   "source": [
    "# Functions"
   ]
  },
  {
   "cell_type": "code",
   "execution_count": 12,
   "id": "f828f081-7358-4cc8-8a89-1ee293bcc1a7",
   "metadata": {
    "execution": {
     "iopub.execute_input": "2022-07-11T13:18:03.553833Z",
     "iopub.status.busy": "2022-07-11T13:18:03.549843Z",
     "iopub.status.idle": "2022-07-11T13:18:03.562070Z",
     "shell.execute_reply": "2022-07-11T13:18:03.560915Z"
    },
    "papermill": {
     "duration": 0.018873,
     "end_time": "2022-07-11T13:18:03.563708",
     "exception": false,
     "start_time": "2022-07-11T13:18:03.544835",
     "status": "completed"
    },
    "tags": []
   },
   "outputs": [],
   "source": [
    "# taken from https://www.r-bloggers.com/2013/08/correcting-a-pseudo-correlation-matrix-to-be-positive-semidefinite/\n",
    "# TODO: add documentation\n",
    "CorrectCM <- function(CM, p = 0) {\n",
    "  n <- dim(var(CM))[1L]\n",
    "  E <- eigen(CM)\n",
    "  CM1 <- E$vectors %*% tcrossprod(diag(pmax(E$values, p), n), E$vectors)\n",
    "  Balance <- diag(1 / sqrt(diag(CM1)))\n",
    "  CM2 <- Balance %*% CM1 %*% Balance\n",
    "  return(CM2)\n",
    "}"
   ]
  },
  {
   "cell_type": "code",
   "execution_count": 13,
   "id": "7ab9bebf-50a1-4e6f-b16a-e23cae93d02a",
   "metadata": {
    "execution": {
     "iopub.execute_input": "2022-07-11T13:18:03.574090Z",
     "iopub.status.busy": "2022-07-11T13:18:03.573096Z",
     "iopub.status.idle": "2022-07-11T13:18:03.581698Z",
     "shell.execute_reply": "2022-07-11T13:18:03.580549Z"
    },
    "papermill": {
     "duration": 0.015412,
     "end_time": "2022-07-11T13:18:03.583328",
     "exception": false,
     "start_time": "2022-07-11T13:18:03.567916",
     "status": "completed"
    },
    "tags": []
   },
   "outputs": [],
   "source": [
    "is_positive_definite <- function(data) {\n",
    "  # eigenvalues <- eigen(data)$values\n",
    "  # nonpositive_eigenvalues <- eigenvalues[eigenvalues <= 0]\n",
    "\n",
    "  cholStatus <- try(u <- chol(data), silent = FALSE)\n",
    "  cholError <- ifelse(class(cholStatus) == \"try-error\", TRUE, FALSE)\n",
    "\n",
    "  if (cholError) {\n",
    "    return(FALSE)\n",
    "  } else {\n",
    "    return(TRUE)\n",
    "  }\n",
    "}"
   ]
  },
  {
   "cell_type": "markdown",
   "id": "7403fd78-00b2-4941-9c07-3c3af1ddc636",
   "metadata": {
    "papermill": {
     "duration": 0.004266,
     "end_time": "2022-07-11T13:18:03.592483",
     "exception": false,
     "start_time": "2022-07-11T13:18:03.588217",
     "status": "completed"
    },
    "tags": []
   },
   "source": [
    "# Load data"
   ]
  },
  {
   "cell_type": "code",
   "execution_count": 14,
   "id": "3a7744e1-2e5a-450e-9dcf-945ec181347d",
   "metadata": {
    "execution": {
     "iopub.execute_input": "2022-07-11T13:18:03.602622Z",
     "iopub.status.busy": "2022-07-11T13:18:03.601608Z",
     "iopub.status.idle": "2022-07-11T13:18:03.624404Z",
     "shell.execute_reply": "2022-07-11T13:18:03.623219Z"
    },
    "papermill": {
     "duration": 0.02942,
     "end_time": "2022-07-11T13:18:03.625995",
     "exception": false,
     "start_time": "2022-07-11T13:18:03.596575",
     "status": "completed"
    },
    "tags": []
   },
   "outputs": [],
   "source": [
    "gene_corrs <- pd$read_pickle(INPUT_FILE)"
   ]
  },
  {
   "cell_type": "code",
   "execution_count": 15,
   "id": "6fb150b2-4c68-4e9b-9aa5-1890d3f762e3",
   "metadata": {
    "execution": {
     "iopub.execute_input": "2022-07-11T13:18:03.636254Z",
     "iopub.status.busy": "2022-07-11T13:18:03.635283Z",
     "iopub.status.idle": "2022-07-11T13:18:03.645692Z",
     "shell.execute_reply": "2022-07-11T13:18:03.644581Z"
    },
    "papermill": {
     "duration": 0.017008,
     "end_time": "2022-07-11T13:18:03.647306",
     "exception": false,
     "start_time": "2022-07-11T13:18:03.630298",
     "status": "completed"
    },
    "tags": []
   },
   "outputs": [
    {
     "data": {
      "text/html": [
       "<style>\n",
       ".list-inline {list-style: none; margin:0; padding: 0}\n",
       ".list-inline>li {display: inline-block}\n",
       ".list-inline>li:not(:last-child)::after {content: \"\\00b7\"; padding: 0 .5ex}\n",
       "</style>\n",
       "<ol class=list-inline><li>96</li><li>96</li></ol>\n"
      ],
      "text/latex": [
       "\\begin{enumerate*}\n",
       "\\item 96\n",
       "\\item 96\n",
       "\\end{enumerate*}\n"
      ],
      "text/markdown": [
       "1. 96\n",
       "2. 96\n",
       "\n",
       "\n"
      ],
      "text/plain": [
       "[1] 96 96"
      ]
     },
     "metadata": {},
     "output_type": "display_data"
    }
   ],
   "source": [
    "dim(gene_corrs)"
   ]
  },
  {
   "cell_type": "code",
   "execution_count": 16,
   "id": "0d4e53b5-7586-4a68-8ce5-d930d74ba943",
   "metadata": {
    "execution": {
     "iopub.execute_input": "2022-07-11T13:18:03.657937Z",
     "iopub.status.busy": "2022-07-11T13:18:03.656900Z",
     "iopub.status.idle": "2022-07-11T13:18:03.677257Z",
     "shell.execute_reply": "2022-07-11T13:18:03.676081Z"
    },
    "papermill": {
     "duration": 0.027241,
     "end_time": "2022-07-11T13:18:03.678900",
     "exception": false,
     "start_time": "2022-07-11T13:18:03.651659",
     "status": "completed"
    },
    "tags": []
   },
   "outputs": [
    {
     "data": {
      "text/html": [
       "<table class=\"dataframe\">\n",
       "<caption>A data.frame: 6 × 10</caption>\n",
       "<thead>\n",
       "\t<tr><th></th><th scope=col>ENSG00000079134</th><th scope=col>ENSG00000158270</th><th scope=col>ENSG00000176890</th><th scope=col>ENSG00000176105</th><th scope=col>ENSG00000080986</th><th scope=col>ENSG00000132205</th><th scope=col>ENSG00000101577</th><th scope=col>ENSG00000101608</th><th scope=col>ENSG00000118680</th><th scope=col>ENSG00000177426</th></tr>\n",
       "\t<tr><th></th><th scope=col>&lt;dbl&gt;</th><th scope=col>&lt;dbl&gt;</th><th scope=col>&lt;dbl&gt;</th><th scope=col>&lt;dbl&gt;</th><th scope=col>&lt;dbl&gt;</th><th scope=col>&lt;dbl&gt;</th><th scope=col>&lt;dbl&gt;</th><th scope=col>&lt;dbl&gt;</th><th scope=col>&lt;dbl&gt;</th><th scope=col>&lt;dbl&gt;</th></tr>\n",
       "</thead>\n",
       "<tbody>\n",
       "\t<tr><th scope=row>ENSG00000079134</th><td>1.000000000</td><td>0.02732694</td><td>0.01098645</td><td>0.008945918</td><td>0.012391944</td><td>0.01392377</td><td>0.01920465</td><td>0.015497687</td><td>0.016753136</td><td>0.011800423</td></tr>\n",
       "\t<tr><th scope=row>ENSG00000158270</th><td>0.027326942</td><td>1.00000000</td><td>0.02064532</td><td>0.013929237</td><td>0.012564676</td><td>0.01991691</td><td>0.02105521</td><td>0.016313137</td><td>0.009864415</td><td>0.010885963</td></tr>\n",
       "\t<tr><th scope=row>ENSG00000176890</th><td>0.010986453</td><td>0.02064532</td><td>1.00000000</td><td>0.127420429</td><td>0.017521837</td><td>0.02074898</td><td>0.01639230</td><td>0.012177630</td><td>0.009219959</td><td>0.014962964</td></tr>\n",
       "\t<tr><th scope=row>ENSG00000176105</th><td>0.008945918</td><td>0.01392924</td><td>0.12742043</td><td>1.000000000</td><td>0.006700826</td><td>0.01240900</td><td>0.01895737</td><td>0.007398920</td><td>0.004663276</td><td>0.005910613</td></tr>\n",
       "\t<tr><th scope=row>ENSG00000080986</th><td>0.012391944</td><td>0.01256468</td><td>0.01752184</td><td>0.006700826</td><td>1.000000000</td><td>0.02470300</td><td>0.01950099</td><td>0.008463994</td><td>0.005911002</td><td>0.008447429</td></tr>\n",
       "\t<tr><th scope=row>ENSG00000132205</th><td>0.013923770</td><td>0.01991691</td><td>0.02074898</td><td>0.012409002</td><td>0.024703004</td><td>1.00000000</td><td>0.15924338</td><td>0.013636704</td><td>0.014767566</td><td>0.011099845</td></tr>\n",
       "</tbody>\n",
       "</table>\n"
      ],
      "text/latex": [
       "A data.frame: 6 × 10\n",
       "\\begin{tabular}{r|llllllllll}\n",
       "  & ENSG00000079134 & ENSG00000158270 & ENSG00000176890 & ENSG00000176105 & ENSG00000080986 & ENSG00000132205 & ENSG00000101577 & ENSG00000101608 & ENSG00000118680 & ENSG00000177426\\\\\n",
       "  & <dbl> & <dbl> & <dbl> & <dbl> & <dbl> & <dbl> & <dbl> & <dbl> & <dbl> & <dbl>\\\\\n",
       "\\hline\n",
       "\tENSG00000079134 & 1.000000000 & 0.02732694 & 0.01098645 & 0.008945918 & 0.012391944 & 0.01392377 & 0.01920465 & 0.015497687 & 0.016753136 & 0.011800423\\\\\n",
       "\tENSG00000158270 & 0.027326942 & 1.00000000 & 0.02064532 & 0.013929237 & 0.012564676 & 0.01991691 & 0.02105521 & 0.016313137 & 0.009864415 & 0.010885963\\\\\n",
       "\tENSG00000176890 & 0.010986453 & 0.02064532 & 1.00000000 & 0.127420429 & 0.017521837 & 0.02074898 & 0.01639230 & 0.012177630 & 0.009219959 & 0.014962964\\\\\n",
       "\tENSG00000176105 & 0.008945918 & 0.01392924 & 0.12742043 & 1.000000000 & 0.006700826 & 0.01240900 & 0.01895737 & 0.007398920 & 0.004663276 & 0.005910613\\\\\n",
       "\tENSG00000080986 & 0.012391944 & 0.01256468 & 0.01752184 & 0.006700826 & 1.000000000 & 0.02470300 & 0.01950099 & 0.008463994 & 0.005911002 & 0.008447429\\\\\n",
       "\tENSG00000132205 & 0.013923770 & 0.01991691 & 0.02074898 & 0.012409002 & 0.024703004 & 1.00000000 & 0.15924338 & 0.013636704 & 0.014767566 & 0.011099845\\\\\n",
       "\\end{tabular}\n"
      ],
      "text/markdown": [
       "\n",
       "A data.frame: 6 × 10\n",
       "\n",
       "| <!--/--> | ENSG00000079134 &lt;dbl&gt; | ENSG00000158270 &lt;dbl&gt; | ENSG00000176890 &lt;dbl&gt; | ENSG00000176105 &lt;dbl&gt; | ENSG00000080986 &lt;dbl&gt; | ENSG00000132205 &lt;dbl&gt; | ENSG00000101577 &lt;dbl&gt; | ENSG00000101608 &lt;dbl&gt; | ENSG00000118680 &lt;dbl&gt; | ENSG00000177426 &lt;dbl&gt; |\n",
       "|---|---|---|---|---|---|---|---|---|---|---|\n",
       "| ENSG00000079134 | 1.000000000 | 0.02732694 | 0.01098645 | 0.008945918 | 0.012391944 | 0.01392377 | 0.01920465 | 0.015497687 | 0.016753136 | 0.011800423 |\n",
       "| ENSG00000158270 | 0.027326942 | 1.00000000 | 0.02064532 | 0.013929237 | 0.012564676 | 0.01991691 | 0.02105521 | 0.016313137 | 0.009864415 | 0.010885963 |\n",
       "| ENSG00000176890 | 0.010986453 | 0.02064532 | 1.00000000 | 0.127420429 | 0.017521837 | 0.02074898 | 0.01639230 | 0.012177630 | 0.009219959 | 0.014962964 |\n",
       "| ENSG00000176105 | 0.008945918 | 0.01392924 | 0.12742043 | 1.000000000 | 0.006700826 | 0.01240900 | 0.01895737 | 0.007398920 | 0.004663276 | 0.005910613 |\n",
       "| ENSG00000080986 | 0.012391944 | 0.01256468 | 0.01752184 | 0.006700826 | 1.000000000 | 0.02470300 | 0.01950099 | 0.008463994 | 0.005911002 | 0.008447429 |\n",
       "| ENSG00000132205 | 0.013923770 | 0.01991691 | 0.02074898 | 0.012409002 | 0.024703004 | 1.00000000 | 0.15924338 | 0.013636704 | 0.014767566 | 0.011099845 |\n",
       "\n"
      ],
      "text/plain": [
       "                ENSG00000079134 ENSG00000158270 ENSG00000176890 ENSG00000176105\n",
       "ENSG00000079134 1.000000000     0.02732694      0.01098645      0.008945918    \n",
       "ENSG00000158270 0.027326942     1.00000000      0.02064532      0.013929237    \n",
       "ENSG00000176890 0.010986453     0.02064532      1.00000000      0.127420429    \n",
       "ENSG00000176105 0.008945918     0.01392924      0.12742043      1.000000000    \n",
       "ENSG00000080986 0.012391944     0.01256468      0.01752184      0.006700826    \n",
       "ENSG00000132205 0.013923770     0.01991691      0.02074898      0.012409002    \n",
       "                ENSG00000080986 ENSG00000132205 ENSG00000101577 ENSG00000101608\n",
       "ENSG00000079134 0.012391944     0.01392377      0.01920465      0.015497687    \n",
       "ENSG00000158270 0.012564676     0.01991691      0.02105521      0.016313137    \n",
       "ENSG00000176890 0.017521837     0.02074898      0.01639230      0.012177630    \n",
       "ENSG00000176105 0.006700826     0.01240900      0.01895737      0.007398920    \n",
       "ENSG00000080986 1.000000000     0.02470300      0.01950099      0.008463994    \n",
       "ENSG00000132205 0.024703004     1.00000000      0.15924338      0.013636704    \n",
       "                ENSG00000118680 ENSG00000177426\n",
       "ENSG00000079134 0.016753136     0.011800423    \n",
       "ENSG00000158270 0.009864415     0.010885963    \n",
       "ENSG00000176890 0.009219959     0.014962964    \n",
       "ENSG00000176105 0.004663276     0.005910613    \n",
       "ENSG00000080986 0.005911002     0.008447429    \n",
       "ENSG00000132205 0.014767566     0.011099845    "
      ]
     },
     "metadata": {},
     "output_type": "display_data"
    }
   ],
   "source": [
    "head(gene_corrs[1:10, 1:10])"
   ]
  },
  {
   "cell_type": "markdown",
   "id": "d6cbc88a-2c90-4d11-b7dd-434f046fd03c",
   "metadata": {
    "papermill": {
     "duration": 0.004791,
     "end_time": "2022-07-11T13:18:03.688508",
     "exception": false,
     "start_time": "2022-07-11T13:18:03.683717",
     "status": "completed"
    },
    "tags": []
   },
   "source": [
    "# Check positive definiteness"
   ]
  },
  {
   "cell_type": "code",
   "execution_count": 17,
   "id": "a858a061-7c5a-4a6b-8026-fe4de50c1f26",
   "metadata": {
    "execution": {
     "iopub.execute_input": "2022-07-11T13:18:03.700919Z",
     "iopub.status.busy": "2022-07-11T13:18:03.699841Z",
     "iopub.status.idle": "2022-07-11T13:18:03.710431Z",
     "shell.execute_reply": "2022-07-11T13:18:03.709089Z"
    },
    "papermill": {
     "duration": 0.018501,
     "end_time": "2022-07-11T13:18:03.712135",
     "exception": false,
     "start_time": "2022-07-11T13:18:03.693634",
     "status": "completed"
    },
    "tags": []
   },
   "outputs": [],
   "source": [
    "orig_matrix_is_positive_definite <- is_positive_definite(gene_corrs)"
   ]
  },
  {
   "cell_type": "code",
   "execution_count": 18,
   "id": "410ee452-488f-4518-b93a-2acd608ba99c",
   "metadata": {
    "execution": {
     "iopub.execute_input": "2022-07-11T13:18:03.732012Z",
     "iopub.status.busy": "2022-07-11T13:18:03.730966Z",
     "iopub.status.idle": "2022-07-11T13:18:03.756135Z",
     "shell.execute_reply": "2022-07-11T13:18:03.753025Z"
    },
    "papermill": {
     "duration": 0.036649,
     "end_time": "2022-07-11T13:18:03.757770",
     "exception": false,
     "start_time": "2022-07-11T13:18:03.721121",
     "status": "completed"
    },
    "tags": []
   },
   "outputs": [
    {
     "data": {
      "text/html": [
       "'Matrix is already positive definite!'"
      ],
      "text/latex": [
       "'Matrix is already positive definite!'"
      ],
      "text/markdown": [
       "'Matrix is already positive definite!'"
      ],
      "text/plain": [
       "[1] \"Matrix is already positive definite!\""
      ]
     },
     "metadata": {},
     "output_type": "display_data"
    },
    {
     "data": {
      "text/html": [
       "TRUE"
      ],
      "text/latex": [
       "TRUE"
      ],
      "text/markdown": [
       "TRUE"
      ],
      "text/plain": [
       "[1] TRUE"
      ]
     },
     "metadata": {},
     "output_type": "display_data"
    }
   ],
   "source": [
    "if (orig_matrix_is_positive_definite) {\n",
    "  IRdisplay::display(\"Matrix is already positive definite!\")\n",
    "  file.copy(INPUT_FILE, OUTPUT_FILE)\n",
    "} else {\n",
    "  IRdisplay::display(\"We need to correct the data and make the matrix positive definite\")\n",
    "\n",
    "  eigenvalues <- eigen(gene_corrs)$values\n",
    "  nonpositive_eigenvalues <- eigenvalues[eigenvalues <= 0]\n",
    "  IRdisplay::display(length(nonpositive_eigenvalues))\n",
    "  IRdisplay::display(nonpositive_eigenvalues)\n",
    "\n",
    "  # Make matrix positive definite\n",
    "  gene_corrs_corrected <- CorrectCM(gene_corrs, 1e-10)\n",
    "  dimnames(gene_corrs_corrected)[[1]] <- rownames(gene_corrs)\n",
    "  dimnames(gene_corrs_corrected)[[2]] <- colnames(gene_corrs)\n",
    "  gene_corrs_corrected <- as.data.frame(gene_corrs_corrected)\n",
    "\n",
    "  # check if new matrix is really positive definite\n",
    "  matrix_is_positive_definite <- is_positive_definite(gene_corrs_corrected)\n",
    "  if (matrix_is_positive_definite) {\n",
    "    IRdisplay::display(\"It worked!\")\n",
    "    IRdisplay::display(head(gene_corrs[1:10, 1:10]))\n",
    "    IRdisplay::display(head(gene_corrs_corrected[1:10, 1:10]))\n",
    "    py_save_object(gene_corrs_corrected, OUTPUT_FILE)\n",
    "  } else {\n",
    "    eigenvalues <- eigen(gene_corrs_corrected)$values\n",
    "    nonpositive_eigenvalues <- eigenvalues[eigenvalues <= 0]\n",
    "    IRdisplay::display(length(nonpositive_eigenvalues))\n",
    "    IRdisplay::display(nonpositive_eigenvalues)\n",
    "\n",
    "    stop(\"Method failed to adjust matrix\")\n",
    "  }\n",
    "}"
   ]
  },
  {
   "cell_type": "markdown",
   "id": "6c196700-7491-462f-bab8-ab9d40c63499",
   "metadata": {
    "papermill": {
     "duration": 0.007476,
     "end_time": "2022-07-11T13:18:03.770148",
     "exception": false,
     "start_time": "2022-07-11T13:18:03.762672",
     "status": "completed"
    },
    "tags": []
   },
   "source": [
    "Both matrices should \"look\" similar. We are not interested in perfectly accurate correlation values (they are already inaccurate)."
   ]
  },
  {
   "cell_type": "code",
   "execution_count": null,
   "id": "d8ae4220-2171-460c-9231-cd5219f3fe77",
   "metadata": {
    "papermill": {
     "duration": 0.008435,
     "end_time": "2022-07-11T13:18:03.790843",
     "exception": false,
     "start_time": "2022-07-11T13:18:03.782408",
     "status": "completed"
    },
    "tags": []
   },
   "outputs": [],
   "source": []
  }
 ],
 "metadata": {
  "jupytext": {
   "cell_metadata_filter": "all,-execution,-papermill,-trusted"
  },
  "kernelspec": {
   "display_name": "R",
   "language": "R",
   "name": "ir"
  },
  "language_info": {
   "codemirror_mode": "r",
   "file_extension": ".r",
   "mimetype": "text/x-r-source",
   "name": "R",
   "pygments_lexer": "r",
   "version": "3.6.3"
  },
  "papermill": {
   "default_parameters": {},
   "duration": 5.370623,
   "end_time": "2022-07-11T13:18:03.912262",
   "environment_variables": {},
   "exception": null,
   "input_path": "nbs/15_gsa_gls/12-gene_expr_correlations-adjust.ipynb",
   "output_path": "nbs/15_gsa_gls/gene_corrs/1000g/mashr/12-gene_expr_correlations-adjust-chr18.run.ipynb",
   "parameters": {
    "EQTL_MODEL": "MASHR",
    "REFERENCE_PANEL": "1000G",
    "chromosome": 18
   },
   "start_time": "2022-07-11T13:17:58.541639",
   "version": "2.3.4"
  }
 },
 "nbformat": 4,
 "nbformat_minor": 5
}
