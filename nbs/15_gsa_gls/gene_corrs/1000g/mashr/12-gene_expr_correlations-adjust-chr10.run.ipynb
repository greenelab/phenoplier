{
 "cells": [
  {
   "cell_type": "markdown",
   "id": "28fc82fa-c3f6-4184-8054-cc91c7c6e2e7",
   "metadata": {
    "papermill": {
     "duration": 0.004379,
     "end_time": "2022-07-11T13:17:44.725983",
     "exception": false,
     "start_time": "2022-07-11T13:17:44.721604",
     "status": "completed"
    },
    "tags": []
   },
   "source": [
    "# Description"
   ]
  },
  {
   "cell_type": "markdown",
   "id": "36839b17-916e-4aec-8fee-96faf1097e78",
   "metadata": {
    "papermill": {
     "duration": 0.003695,
     "end_time": "2022-07-11T13:17:44.733448",
     "exception": false,
     "start_time": "2022-07-11T13:17:44.729753",
     "status": "completed"
    },
    "tags": []
   },
   "source": [
    "**TODO**"
   ]
  },
  {
   "cell_type": "markdown",
   "id": "249e8aa3-ef1a-4bba-a6dd-58120ad80794",
   "metadata": {
    "papermill": {
     "duration": 0.003866,
     "end_time": "2022-07-11T13:17:44.741252",
     "exception": false,
     "start_time": "2022-07-11T13:17:44.737386",
     "status": "completed"
    },
    "tags": []
   },
   "source": [
    "# Modules"
   ]
  },
  {
   "cell_type": "code",
   "execution_count": 1,
   "id": "f9b5022b-7c5e-4d37-9c7a-fdb91777c7f9",
   "metadata": {
    "execution": {
     "iopub.execute_input": "2022-07-11T13:17:44.751640Z",
     "iopub.status.busy": "2022-07-11T13:17:44.749889Z",
     "iopub.status.idle": "2022-07-11T13:17:47.983430Z",
     "shell.execute_reply": "2022-07-11T13:17:47.981389Z"
    },
    "papermill": {
     "duration": 3.241018,
     "end_time": "2022-07-11T13:17:47.985896",
     "exception": false,
     "start_time": "2022-07-11T13:17:44.744878",
     "status": "completed"
    },
    "tags": []
   },
   "outputs": [],
   "source": [
    "library(reticulate)\n",
    "pd <- import(\"pandas\")"
   ]
  },
  {
   "cell_type": "markdown",
   "id": "69e80173-3a39-4b6a-b723-602687cb255b",
   "metadata": {
    "papermill": {
     "duration": 0.003953,
     "end_time": "2022-07-11T13:17:47.993975",
     "exception": false,
     "start_time": "2022-07-11T13:17:47.990022",
     "status": "completed"
    },
    "tags": []
   },
   "source": [
    "# Settings"
   ]
  },
  {
   "cell_type": "code",
   "execution_count": 2,
   "id": "22d12bb4-1699-4a6b-b1b9-d3fdd3d547d7",
   "metadata": {
    "execution": {
     "iopub.execute_input": "2022-07-11T13:17:48.026153Z",
     "iopub.status.busy": "2022-07-11T13:17:48.003190Z",
     "iopub.status.idle": "2022-07-11T13:17:48.038626Z",
     "shell.execute_reply": "2022-07-11T13:17:48.037404Z"
    },
    "papermill": {
     "duration": 0.042403,
     "end_time": "2022-07-11T13:17:48.040400",
     "exception": false,
     "start_time": "2022-07-11T13:17:47.997997",
     "status": "completed"
    },
    "tags": [
     "parameters"
    ]
   },
   "outputs": [],
   "source": [
    "# reference panel\n",
    "REFERENCE_PANEL <- \"GTEX_V8\"\n",
    "# REFERENCE_PANEL = \"1000G\"\n",
    "\n",
    "# prediction models\n",
    "## mashr\n",
    "EQTL_MODEL <- \"MASHR\"\n",
    "\n",
    "chromosome <- NULL"
   ]
  },
  {
   "cell_type": "code",
   "execution_count": 3,
   "id": "03ca9df1",
   "metadata": {
    "execution": {
     "iopub.execute_input": "2022-07-11T13:17:48.049692Z",
     "iopub.status.busy": "2022-07-11T13:17:48.048617Z",
     "iopub.status.idle": "2022-07-11T13:17:48.066840Z",
     "shell.execute_reply": "2022-07-11T13:17:48.065636Z"
    },
    "papermill": {
     "duration": 0.024697,
     "end_time": "2022-07-11T13:17:48.068705",
     "exception": false,
     "start_time": "2022-07-11T13:17:48.044008",
     "status": "completed"
    },
    "tags": [
     "injected-parameters"
    ]
   },
   "outputs": [],
   "source": [
    "# Parameters\n",
    "chromosome = 10\n",
    "REFERENCE_PANEL = \"1000G\"\n",
    "EQTL_MODEL = \"MASHR\"\n"
   ]
  },
  {
   "cell_type": "code",
   "execution_count": 4,
   "id": "8fe24bef",
   "metadata": {
    "execution": {
     "iopub.execute_input": "2022-07-11T13:17:48.079044Z",
     "iopub.status.busy": "2022-07-11T13:17:48.077788Z",
     "iopub.status.idle": "2022-07-11T13:17:48.102755Z",
     "shell.execute_reply": "2022-07-11T13:17:48.099454Z"
    },
    "papermill": {
     "duration": 0.031938,
     "end_time": "2022-07-11T13:17:48.104648",
     "exception": false,
     "start_time": "2022-07-11T13:17:48.072710",
     "status": "completed"
    },
    "tags": []
   },
   "outputs": [
    {
     "data": {
      "text/html": [
       "'Using reference panel: 1000G'"
      ],
      "text/latex": [
       "'Using reference panel: 1000G'"
      ],
      "text/markdown": [
       "'Using reference panel: 1000G'"
      ],
      "text/plain": [
       "[1] \"Using reference panel: 1000G\""
      ]
     },
     "metadata": {},
     "output_type": "display_data"
    }
   ],
   "source": [
    "paste0(\"Using reference panel: \", REFERENCE_PANEL)"
   ]
  },
  {
   "cell_type": "code",
   "execution_count": 5,
   "id": "d62c28f8-186c-478b-948c-58e14f00df4b",
   "metadata": {
    "execution": {
     "iopub.execute_input": "2022-07-11T13:17:48.119767Z",
     "iopub.status.busy": "2022-07-11T13:17:48.118666Z",
     "iopub.status.idle": "2022-07-11T13:17:48.139126Z",
     "shell.execute_reply": "2022-07-11T13:17:48.135768Z"
    },
    "papermill": {
     "duration": 0.031332,
     "end_time": "2022-07-11T13:17:48.141066",
     "exception": false,
     "start_time": "2022-07-11T13:17:48.109734",
     "status": "completed"
    },
    "tags": []
   },
   "outputs": [
    {
     "data": {
      "text/html": [
       "'Using eQTL model: MASHR'"
      ],
      "text/latex": [
       "'Using eQTL model: MASHR'"
      ],
      "text/markdown": [
       "'Using eQTL model: MASHR'"
      ],
      "text/plain": [
       "[1] \"Using eQTL model: MASHR\""
      ]
     },
     "metadata": {},
     "output_type": "display_data"
    }
   ],
   "source": [
    "paste0(\"Using eQTL model: \", EQTL_MODEL)"
   ]
  },
  {
   "cell_type": "code",
   "execution_count": 6,
   "id": "5243676f-c889-4405-9a4d-262f0f044614",
   "metadata": {
    "execution": {
     "iopub.execute_input": "2022-07-11T13:17:48.157101Z",
     "iopub.status.busy": "2022-07-11T13:17:48.155879Z",
     "iopub.status.idle": "2022-07-11T13:17:48.165963Z",
     "shell.execute_reply": "2022-07-11T13:17:48.164713Z"
    },
    "papermill": {
     "duration": 0.02167,
     "end_time": "2022-07-11T13:17:48.167692",
     "exception": false,
     "start_time": "2022-07-11T13:17:48.146022",
     "status": "completed"
    },
    "tags": []
   },
   "outputs": [],
   "source": [
    "# chromosome must be provided as parameter\n",
    "stopifnot(!is.null(chromosome))"
   ]
  },
  {
   "cell_type": "markdown",
   "id": "c05e4d34-e115-48cd-8a2e-225109eb0042",
   "metadata": {
    "papermill": {
     "duration": 0.003941,
     "end_time": "2022-07-11T13:17:48.175679",
     "exception": false,
     "start_time": "2022-07-11T13:17:48.171738",
     "status": "completed"
    },
    "tags": []
   },
   "source": [
    "# Paths"
   ]
  },
  {
   "cell_type": "code",
   "execution_count": 7,
   "id": "eb6aa8aa-b452-4a2f-a780-93dd80ad4285",
   "metadata": {
    "execution": {
     "iopub.execute_input": "2022-07-11T13:17:48.185971Z",
     "iopub.status.busy": "2022-07-11T13:17:48.184738Z",
     "iopub.status.idle": "2022-07-11T13:17:48.200093Z",
     "shell.execute_reply": "2022-07-11T13:17:48.198647Z"
    },
    "papermill": {
     "duration": 0.022722,
     "end_time": "2022-07-11T13:17:48.202426",
     "exception": false,
     "start_time": "2022-07-11T13:17:48.179704",
     "status": "completed"
    },
    "tags": []
   },
   "outputs": [
    {
     "data": {
      "text/html": [
       "'/opt/data/data/phenomexcan/ld_blocks/gene_corrs'"
      ],
      "text/latex": [
       "'/opt/data/data/phenomexcan/ld\\_blocks/gene\\_corrs'"
      ],
      "text/markdown": [
       "'/opt/data/data/phenomexcan/ld_blocks/gene_corrs'"
      ],
      "text/plain": [
       "[1] \"/opt/data/data/phenomexcan/ld_blocks/gene_corrs\""
      ]
     },
     "metadata": {},
     "output_type": "display_data"
    }
   ],
   "source": [
    "GENE_CORRS_DIR <- Sys.getenv(\"PHENOPLIER_PHENOMEXCAN_LD_BLOCKS_GENE_CORRS_DIR\")\n",
    "IRdisplay::display(GENE_CORRS_DIR)"
   ]
  },
  {
   "cell_type": "code",
   "execution_count": 8,
   "id": "eb24f15f-f282-4476-8943-8413c4483f12",
   "metadata": {
    "execution": {
     "iopub.execute_input": "2022-07-11T13:17:48.213609Z",
     "iopub.status.busy": "2022-07-11T13:17:48.212343Z",
     "iopub.status.idle": "2022-07-11T13:17:48.226856Z",
     "shell.execute_reply": "2022-07-11T13:17:48.225488Z"
    },
    "papermill": {
     "duration": 0.021626,
     "end_time": "2022-07-11T13:17:48.228760",
     "exception": false,
     "start_time": "2022-07-11T13:17:48.207134",
     "status": "completed"
    },
    "tags": []
   },
   "outputs": [
    {
     "data": {
      "text/html": [
       "'/opt/data/data/phenomexcan/ld_blocks/gene_corrs/1000g/mashr/by_chr'"
      ],
      "text/latex": [
       "'/opt/data/data/phenomexcan/ld\\_blocks/gene\\_corrs/1000g/mashr/by\\_chr'"
      ],
      "text/markdown": [
       "'/opt/data/data/phenomexcan/ld_blocks/gene_corrs/1000g/mashr/by_chr'"
      ],
      "text/plain": [
       "[1] \"/opt/data/data/phenomexcan/ld_blocks/gene_corrs/1000g/mashr/by_chr\""
      ]
     },
     "metadata": {},
     "output_type": "display_data"
    }
   ],
   "source": [
    "INPUT_DIR <- file.path(GENE_CORRS_DIR, tolower(REFERENCE_PANEL), tolower(EQTL_MODEL), \"by_chr\")\n",
    "IRdisplay::display(INPUT_DIR)"
   ]
  },
  {
   "cell_type": "code",
   "execution_count": 9,
   "id": "43c1daba-0da9-4822-8d1e-968e9767e251",
   "metadata": {
    "execution": {
     "iopub.execute_input": "2022-07-11T13:17:48.239553Z",
     "iopub.status.busy": "2022-07-11T13:17:48.238496Z",
     "iopub.status.idle": "2022-07-11T13:17:48.253331Z",
     "shell.execute_reply": "2022-07-11T13:17:48.252085Z"
    },
    "papermill": {
     "duration": 0.02207,
     "end_time": "2022-07-11T13:17:48.255291",
     "exception": false,
     "start_time": "2022-07-11T13:17:48.233221",
     "status": "completed"
    },
    "tags": []
   },
   "outputs": [
    {
     "data": {
      "text/html": [
       "'/opt/data/data/phenomexcan/ld_blocks/gene_corrs/1000g/mashr/by_chr/gene_corrs-chr10.pkl'"
      ],
      "text/latex": [
       "'/opt/data/data/phenomexcan/ld\\_blocks/gene\\_corrs/1000g/mashr/by\\_chr/gene\\_corrs-chr10.pkl'"
      ],
      "text/markdown": [
       "'/opt/data/data/phenomexcan/ld_blocks/gene_corrs/1000g/mashr/by_chr/gene_corrs-chr10.pkl'"
      ],
      "text/plain": [
       "[1] \"/opt/data/data/phenomexcan/ld_blocks/gene_corrs/1000g/mashr/by_chr/gene_corrs-chr10.pkl\""
      ]
     },
     "metadata": {},
     "output_type": "display_data"
    }
   ],
   "source": [
    "INPUT_FILE <- file.path(INPUT_DIR, paste0(\"gene_corrs-chr\", chromosome, \".pkl\"))\n",
    "IRdisplay::display(INPUT_FILE)\n",
    "stopifnot(file.exists(INPUT_FILE))"
   ]
  },
  {
   "cell_type": "code",
   "execution_count": 10,
   "id": "72386fbf-982b-420a-9057-ea9a97a5e571",
   "metadata": {
    "execution": {
     "iopub.execute_input": "2022-07-11T13:17:48.271268Z",
     "iopub.status.busy": "2022-07-11T13:17:48.265609Z",
     "iopub.status.idle": "2022-07-11T13:17:48.287525Z",
     "shell.execute_reply": "2022-07-11T13:17:48.285289Z"
    },
    "papermill": {
     "duration": 0.029735,
     "end_time": "2022-07-11T13:17:48.289522",
     "exception": false,
     "start_time": "2022-07-11T13:17:48.259787",
     "status": "completed"
    },
    "tags": []
   },
   "outputs": [
    {
     "data": {
      "text/html": [
       "'/opt/data/data/phenomexcan/ld_blocks/gene_corrs/1000g/mashr/by_chr/corrected_positive_definite'"
      ],
      "text/latex": [
       "'/opt/data/data/phenomexcan/ld\\_blocks/gene\\_corrs/1000g/mashr/by\\_chr/corrected\\_positive\\_definite'"
      ],
      "text/markdown": [
       "'/opt/data/data/phenomexcan/ld_blocks/gene_corrs/1000g/mashr/by_chr/corrected_positive_definite'"
      ],
      "text/plain": [
       "[1] \"/opt/data/data/phenomexcan/ld_blocks/gene_corrs/1000g/mashr/by_chr/corrected_positive_definite\""
      ]
     },
     "metadata": {},
     "output_type": "display_data"
    }
   ],
   "source": [
    "OUTPUT_DIR <- file.path(INPUT_DIR, \"corrected_positive_definite\")\n",
    "IRdisplay::display(OUTPUT_DIR)\n",
    "dir.create(OUTPUT_DIR, recursive = TRUE, showWarnings = FALSE)"
   ]
  },
  {
   "cell_type": "code",
   "execution_count": 11,
   "id": "f9f19d1d-ce4c-4099-a26e-250fec751de7",
   "metadata": {
    "execution": {
     "iopub.execute_input": "2022-07-11T13:17:48.304445Z",
     "iopub.status.busy": "2022-07-11T13:17:48.302760Z",
     "iopub.status.idle": "2022-07-11T13:17:48.321738Z",
     "shell.execute_reply": "2022-07-11T13:17:48.319206Z"
    },
    "papermill": {
     "duration": 0.028467,
     "end_time": "2022-07-11T13:17:48.323771",
     "exception": false,
     "start_time": "2022-07-11T13:17:48.295304",
     "status": "completed"
    },
    "tags": []
   },
   "outputs": [
    {
     "data": {
      "text/html": [
       "'/opt/data/data/phenomexcan/ld_blocks/gene_corrs/1000g/mashr/by_chr/corrected_positive_definite/gene_corrs-chr10.pkl'"
      ],
      "text/latex": [
       "'/opt/data/data/phenomexcan/ld\\_blocks/gene\\_corrs/1000g/mashr/by\\_chr/corrected\\_positive\\_definite/gene\\_corrs-chr10.pkl'"
      ],
      "text/markdown": [
       "'/opt/data/data/phenomexcan/ld_blocks/gene_corrs/1000g/mashr/by_chr/corrected_positive_definite/gene_corrs-chr10.pkl'"
      ],
      "text/plain": [
       "[1] \"/opt/data/data/phenomexcan/ld_blocks/gene_corrs/1000g/mashr/by_chr/corrected_positive_definite/gene_corrs-chr10.pkl\""
      ]
     },
     "metadata": {},
     "output_type": "display_data"
    }
   ],
   "source": [
    "OUTPUT_FILE <- file.path(OUTPUT_DIR, paste0(\"gene_corrs-chr\", chromosome, \".pkl\"))\n",
    "IRdisplay::display(OUTPUT_FILE)\n",
    "if (file.exists(OUTPUT_FILE)) {\n",
    "  IRdisplay::display(\"Output file exists, it will be overwritten\")\n",
    "}"
   ]
  },
  {
   "cell_type": "markdown",
   "id": "24973e62-e888-4b56-843f-489d8d0762b5",
   "metadata": {
    "papermill": {
     "duration": 0.004726,
     "end_time": "2022-07-11T13:17:48.333295",
     "exception": false,
     "start_time": "2022-07-11T13:17:48.328569",
     "status": "completed"
    },
    "tags": []
   },
   "source": [
    "# Functions"
   ]
  },
  {
   "cell_type": "code",
   "execution_count": 12,
   "id": "f828f081-7358-4cc8-8a89-1ee293bcc1a7",
   "metadata": {
    "execution": {
     "iopub.execute_input": "2022-07-11T13:17:48.348315Z",
     "iopub.status.busy": "2022-07-11T13:17:48.343516Z",
     "iopub.status.idle": "2022-07-11T13:17:48.358223Z",
     "shell.execute_reply": "2022-07-11T13:17:48.356933Z"
    },
    "papermill": {
     "duration": 0.022528,
     "end_time": "2022-07-11T13:17:48.360458",
     "exception": false,
     "start_time": "2022-07-11T13:17:48.337930",
     "status": "completed"
    },
    "tags": []
   },
   "outputs": [],
   "source": [
    "# taken from https://www.r-bloggers.com/2013/08/correcting-a-pseudo-correlation-matrix-to-be-positive-semidefinite/\n",
    "# TODO: add documentation\n",
    "CorrectCM <- function(CM, p = 0) {\n",
    "  n <- dim(var(CM))[1L]\n",
    "  E <- eigen(CM)\n",
    "  CM1 <- E$vectors %*% tcrossprod(diag(pmax(E$values, p), n), E$vectors)\n",
    "  Balance <- diag(1 / sqrt(diag(CM1)))\n",
    "  CM2 <- Balance %*% CM1 %*% Balance\n",
    "  return(CM2)\n",
    "}"
   ]
  },
  {
   "cell_type": "code",
   "execution_count": 13,
   "id": "7ab9bebf-50a1-4e6f-b16a-e23cae93d02a",
   "metadata": {
    "execution": {
     "iopub.execute_input": "2022-07-11T13:17:48.372411Z",
     "iopub.status.busy": "2022-07-11T13:17:48.371272Z",
     "iopub.status.idle": "2022-07-11T13:17:48.381348Z",
     "shell.execute_reply": "2022-07-11T13:17:48.379885Z"
    },
    "papermill": {
     "duration": 0.017717,
     "end_time": "2022-07-11T13:17:48.383199",
     "exception": false,
     "start_time": "2022-07-11T13:17:48.365482",
     "status": "completed"
    },
    "tags": []
   },
   "outputs": [],
   "source": [
    "is_positive_definite <- function(data) {\n",
    "  # eigenvalues <- eigen(data)$values\n",
    "  # nonpositive_eigenvalues <- eigenvalues[eigenvalues <= 0]\n",
    "\n",
    "  cholStatus <- try(u <- chol(data), silent = FALSE)\n",
    "  cholError <- ifelse(class(cholStatus) == \"try-error\", TRUE, FALSE)\n",
    "\n",
    "  if (cholError) {\n",
    "    return(FALSE)\n",
    "  } else {\n",
    "    return(TRUE)\n",
    "  }\n",
    "}"
   ]
  },
  {
   "cell_type": "markdown",
   "id": "7403fd78-00b2-4941-9c07-3c3af1ddc636",
   "metadata": {
    "papermill": {
     "duration": 0.004524,
     "end_time": "2022-07-11T13:17:48.393374",
     "exception": false,
     "start_time": "2022-07-11T13:17:48.388850",
     "status": "completed"
    },
    "tags": []
   },
   "source": [
    "# Load data"
   ]
  },
  {
   "cell_type": "code",
   "execution_count": 14,
   "id": "3a7744e1-2e5a-450e-9dcf-945ec181347d",
   "metadata": {
    "execution": {
     "iopub.execute_input": "2022-07-11T13:17:48.407202Z",
     "iopub.status.busy": "2022-07-11T13:17:48.405932Z",
     "iopub.status.idle": "2022-07-11T13:17:48.451155Z",
     "shell.execute_reply": "2022-07-11T13:17:48.449902Z"
    },
    "papermill": {
     "duration": 0.052887,
     "end_time": "2022-07-11T13:17:48.452954",
     "exception": false,
     "start_time": "2022-07-11T13:17:48.400067",
     "status": "completed"
    },
    "tags": []
   },
   "outputs": [],
   "source": [
    "gene_corrs <- pd$read_pickle(INPUT_FILE)"
   ]
  },
  {
   "cell_type": "code",
   "execution_count": 15,
   "id": "6fb150b2-4c68-4e9b-9aa5-1890d3f762e3",
   "metadata": {
    "execution": {
     "iopub.execute_input": "2022-07-11T13:17:48.464773Z",
     "iopub.status.busy": "2022-07-11T13:17:48.463522Z",
     "iopub.status.idle": "2022-07-11T13:17:48.476105Z",
     "shell.execute_reply": "2022-07-11T13:17:48.474715Z"
    },
    "papermill": {
     "duration": 0.020041,
     "end_time": "2022-07-11T13:17:48.477960",
     "exception": false,
     "start_time": "2022-07-11T13:17:48.457919",
     "status": "completed"
    },
    "tags": []
   },
   "outputs": [
    {
     "data": {
      "text/html": [
       "<style>\n",
       ".list-inline {list-style: none; margin:0; padding: 0}\n",
       ".list-inline>li {display: inline-block}\n",
       ".list-inline>li:not(:last-child)::after {content: \"\\00b7\"; padding: 0 .5ex}\n",
       "</style>\n",
       "<ol class=list-inline><li>245</li><li>245</li></ol>\n"
      ],
      "text/latex": [
       "\\begin{enumerate*}\n",
       "\\item 245\n",
       "\\item 245\n",
       "\\end{enumerate*}\n"
      ],
      "text/markdown": [
       "1. 245\n",
       "2. 245\n",
       "\n",
       "\n"
      ],
      "text/plain": [
       "[1] 245 245"
      ]
     },
     "metadata": {},
     "output_type": "display_data"
    }
   ],
   "source": [
    "dim(gene_corrs)"
   ]
  },
  {
   "cell_type": "code",
   "execution_count": 16,
   "id": "0d4e53b5-7586-4a68-8ce5-d930d74ba943",
   "metadata": {
    "execution": {
     "iopub.execute_input": "2022-07-11T13:17:48.489589Z",
     "iopub.status.busy": "2022-07-11T13:17:48.488425Z",
     "iopub.status.idle": "2022-07-11T13:17:48.510480Z",
     "shell.execute_reply": "2022-07-11T13:17:48.509174Z"
    },
    "papermill": {
     "duration": 0.029771,
     "end_time": "2022-07-11T13:17:48.512528",
     "exception": false,
     "start_time": "2022-07-11T13:17:48.482757",
     "status": "completed"
    },
    "tags": []
   },
   "outputs": [
    {
     "data": {
      "text/html": [
       "<table class=\"dataframe\">\n",
       "<caption>A data.frame: 6 × 10</caption>\n",
       "<thead>\n",
       "\t<tr><th></th><th scope=col>ENSG00000261456</th><th scope=col>ENSG00000148377</th><th scope=col>ENSG00000067064</th><th scope=col>ENSG00000067057</th><th scope=col>ENSG00000067082</th><th scope=col>ENSG00000187134</th><th scope=col>ENSG00000151632</th><th scope=col>ENSG00000196139</th><th scope=col>ENSG00000173848</th><th scope=col>ENSG00000196372</th></tr>\n",
       "\t<tr><th></th><th scope=col>&lt;dbl&gt;</th><th scope=col>&lt;dbl&gt;</th><th scope=col>&lt;dbl&gt;</th><th scope=col>&lt;dbl&gt;</th><th scope=col>&lt;dbl&gt;</th><th scope=col>&lt;dbl&gt;</th><th scope=col>&lt;dbl&gt;</th><th scope=col>&lt;dbl&gt;</th><th scope=col>&lt;dbl&gt;</th><th scope=col>&lt;dbl&gt;</th></tr>\n",
       "</thead>\n",
       "<tbody>\n",
       "\t<tr><th scope=row>ENSG00000261456</th><td>1.000000000</td><td>0.009276299</td><td>0.01125132</td><td>0.018050100</td><td>0.007917804</td><td>0.008960592</td><td>0.011278445</td><td>0.011212124</td><td>0.000000000</td><td>0.000000000</td></tr>\n",
       "\t<tr><th scope=row>ENSG00000148377</th><td>0.009276299</td><td>1.000000000</td><td>0.08226515</td><td>0.008849175</td><td>0.002638345</td><td>0.005401564</td><td>0.002854389</td><td>0.006661711</td><td>0.003950335</td><td>0.006822013</td></tr>\n",
       "\t<tr><th scope=row>ENSG00000067064</th><td>0.011251321</td><td>0.082265147</td><td>1.00000000</td><td>0.014118420</td><td>0.010838409</td><td>0.010339060</td><td>0.019729164</td><td>0.015974911</td><td>0.013212565</td><td>0.013264373</td></tr>\n",
       "\t<tr><th scope=row>ENSG00000067057</th><td>0.018050100</td><td>0.008849175</td><td>0.01411842</td><td>1.000000000</td><td>0.012992187</td><td>0.020652738</td><td>0.026356620</td><td>0.026792202</td><td>0.014647739</td><td>0.026514805</td></tr>\n",
       "\t<tr><th scope=row>ENSG00000067082</th><td>0.007917804</td><td>0.002638345</td><td>0.01083841</td><td>0.012992187</td><td>1.000000000</td><td>0.019429840</td><td>0.016258298</td><td>0.012085451</td><td>0.015884971</td><td>0.017249927</td></tr>\n",
       "\t<tr><th scope=row>ENSG00000187134</th><td>0.008960592</td><td>0.005401564</td><td>0.01033906</td><td>0.020652738</td><td>0.019429840</td><td>1.000000000</td><td>0.293149533</td><td>0.142053317</td><td>0.008167124</td><td>0.019299994</td></tr>\n",
       "</tbody>\n",
       "</table>\n"
      ],
      "text/latex": [
       "A data.frame: 6 × 10\n",
       "\\begin{tabular}{r|llllllllll}\n",
       "  & ENSG00000261456 & ENSG00000148377 & ENSG00000067064 & ENSG00000067057 & ENSG00000067082 & ENSG00000187134 & ENSG00000151632 & ENSG00000196139 & ENSG00000173848 & ENSG00000196372\\\\\n",
       "  & <dbl> & <dbl> & <dbl> & <dbl> & <dbl> & <dbl> & <dbl> & <dbl> & <dbl> & <dbl>\\\\\n",
       "\\hline\n",
       "\tENSG00000261456 & 1.000000000 & 0.009276299 & 0.01125132 & 0.018050100 & 0.007917804 & 0.008960592 & 0.011278445 & 0.011212124 & 0.000000000 & 0.000000000\\\\\n",
       "\tENSG00000148377 & 0.009276299 & 1.000000000 & 0.08226515 & 0.008849175 & 0.002638345 & 0.005401564 & 0.002854389 & 0.006661711 & 0.003950335 & 0.006822013\\\\\n",
       "\tENSG00000067064 & 0.011251321 & 0.082265147 & 1.00000000 & 0.014118420 & 0.010838409 & 0.010339060 & 0.019729164 & 0.015974911 & 0.013212565 & 0.013264373\\\\\n",
       "\tENSG00000067057 & 0.018050100 & 0.008849175 & 0.01411842 & 1.000000000 & 0.012992187 & 0.020652738 & 0.026356620 & 0.026792202 & 0.014647739 & 0.026514805\\\\\n",
       "\tENSG00000067082 & 0.007917804 & 0.002638345 & 0.01083841 & 0.012992187 & 1.000000000 & 0.019429840 & 0.016258298 & 0.012085451 & 0.015884971 & 0.017249927\\\\\n",
       "\tENSG00000187134 & 0.008960592 & 0.005401564 & 0.01033906 & 0.020652738 & 0.019429840 & 1.000000000 & 0.293149533 & 0.142053317 & 0.008167124 & 0.019299994\\\\\n",
       "\\end{tabular}\n"
      ],
      "text/markdown": [
       "\n",
       "A data.frame: 6 × 10\n",
       "\n",
       "| <!--/--> | ENSG00000261456 &lt;dbl&gt; | ENSG00000148377 &lt;dbl&gt; | ENSG00000067064 &lt;dbl&gt; | ENSG00000067057 &lt;dbl&gt; | ENSG00000067082 &lt;dbl&gt; | ENSG00000187134 &lt;dbl&gt; | ENSG00000151632 &lt;dbl&gt; | ENSG00000196139 &lt;dbl&gt; | ENSG00000173848 &lt;dbl&gt; | ENSG00000196372 &lt;dbl&gt; |\n",
       "|---|---|---|---|---|---|---|---|---|---|---|\n",
       "| ENSG00000261456 | 1.000000000 | 0.009276299 | 0.01125132 | 0.018050100 | 0.007917804 | 0.008960592 | 0.011278445 | 0.011212124 | 0.000000000 | 0.000000000 |\n",
       "| ENSG00000148377 | 0.009276299 | 1.000000000 | 0.08226515 | 0.008849175 | 0.002638345 | 0.005401564 | 0.002854389 | 0.006661711 | 0.003950335 | 0.006822013 |\n",
       "| ENSG00000067064 | 0.011251321 | 0.082265147 | 1.00000000 | 0.014118420 | 0.010838409 | 0.010339060 | 0.019729164 | 0.015974911 | 0.013212565 | 0.013264373 |\n",
       "| ENSG00000067057 | 0.018050100 | 0.008849175 | 0.01411842 | 1.000000000 | 0.012992187 | 0.020652738 | 0.026356620 | 0.026792202 | 0.014647739 | 0.026514805 |\n",
       "| ENSG00000067082 | 0.007917804 | 0.002638345 | 0.01083841 | 0.012992187 | 1.000000000 | 0.019429840 | 0.016258298 | 0.012085451 | 0.015884971 | 0.017249927 |\n",
       "| ENSG00000187134 | 0.008960592 | 0.005401564 | 0.01033906 | 0.020652738 | 0.019429840 | 1.000000000 | 0.293149533 | 0.142053317 | 0.008167124 | 0.019299994 |\n",
       "\n"
      ],
      "text/plain": [
       "                ENSG00000261456 ENSG00000148377 ENSG00000067064 ENSG00000067057\n",
       "ENSG00000261456 1.000000000     0.009276299     0.01125132      0.018050100    \n",
       "ENSG00000148377 0.009276299     1.000000000     0.08226515      0.008849175    \n",
       "ENSG00000067064 0.011251321     0.082265147     1.00000000      0.014118420    \n",
       "ENSG00000067057 0.018050100     0.008849175     0.01411842      1.000000000    \n",
       "ENSG00000067082 0.007917804     0.002638345     0.01083841      0.012992187    \n",
       "ENSG00000187134 0.008960592     0.005401564     0.01033906      0.020652738    \n",
       "                ENSG00000067082 ENSG00000187134 ENSG00000151632 ENSG00000196139\n",
       "ENSG00000261456 0.007917804     0.008960592     0.011278445     0.011212124    \n",
       "ENSG00000148377 0.002638345     0.005401564     0.002854389     0.006661711    \n",
       "ENSG00000067064 0.010838409     0.010339060     0.019729164     0.015974911    \n",
       "ENSG00000067057 0.012992187     0.020652738     0.026356620     0.026792202    \n",
       "ENSG00000067082 1.000000000     0.019429840     0.016258298     0.012085451    \n",
       "ENSG00000187134 0.019429840     1.000000000     0.293149533     0.142053317    \n",
       "                ENSG00000173848 ENSG00000196372\n",
       "ENSG00000261456 0.000000000     0.000000000    \n",
       "ENSG00000148377 0.003950335     0.006822013    \n",
       "ENSG00000067064 0.013212565     0.013264373    \n",
       "ENSG00000067057 0.014647739     0.026514805    \n",
       "ENSG00000067082 0.015884971     0.017249927    \n",
       "ENSG00000187134 0.008167124     0.019299994    "
      ]
     },
     "metadata": {},
     "output_type": "display_data"
    }
   ],
   "source": [
    "head(gene_corrs[1:10, 1:10])"
   ]
  },
  {
   "cell_type": "markdown",
   "id": "d6cbc88a-2c90-4d11-b7dd-434f046fd03c",
   "metadata": {
    "papermill": {
     "duration": 0.004966,
     "end_time": "2022-07-11T13:17:48.522817",
     "exception": false,
     "start_time": "2022-07-11T13:17:48.517851",
     "status": "completed"
    },
    "tags": []
   },
   "source": [
    "# Check positive definiteness"
   ]
  },
  {
   "cell_type": "code",
   "execution_count": 17,
   "id": "a858a061-7c5a-4a6b-8026-fe4de50c1f26",
   "metadata": {
    "execution": {
     "iopub.execute_input": "2022-07-11T13:17:48.535535Z",
     "iopub.status.busy": "2022-07-11T13:17:48.534488Z",
     "iopub.status.idle": "2022-07-11T13:17:48.548037Z",
     "shell.execute_reply": "2022-07-11T13:17:48.546035Z"
    },
    "papermill": {
     "duration": 0.021909,
     "end_time": "2022-07-11T13:17:48.549607",
     "exception": false,
     "start_time": "2022-07-11T13:17:48.527698",
     "status": "completed"
    },
    "tags": []
   },
   "outputs": [],
   "source": [
    "orig_matrix_is_positive_definite <- is_positive_definite(gene_corrs)"
   ]
  },
  {
   "cell_type": "code",
   "execution_count": 18,
   "id": "410ee452-488f-4518-b93a-2acd608ba99c",
   "metadata": {
    "execution": {
     "iopub.execute_input": "2022-07-11T13:17:48.565609Z",
     "iopub.status.busy": "2022-07-11T13:17:48.564597Z",
     "iopub.status.idle": "2022-07-11T13:17:48.583840Z",
     "shell.execute_reply": "2022-07-11T13:17:48.581874Z"
    },
    "papermill": {
     "duration": 0.030825,
     "end_time": "2022-07-11T13:17:48.585518",
     "exception": false,
     "start_time": "2022-07-11T13:17:48.554693",
     "status": "completed"
    },
    "tags": []
   },
   "outputs": [
    {
     "data": {
      "text/html": [
       "'Matrix is already positive definite!'"
      ],
      "text/latex": [
       "'Matrix is already positive definite!'"
      ],
      "text/markdown": [
       "'Matrix is already positive definite!'"
      ],
      "text/plain": [
       "[1] \"Matrix is already positive definite!\""
      ]
     },
     "metadata": {},
     "output_type": "display_data"
    },
    {
     "data": {
      "text/html": [
       "TRUE"
      ],
      "text/latex": [
       "TRUE"
      ],
      "text/markdown": [
       "TRUE"
      ],
      "text/plain": [
       "[1] TRUE"
      ]
     },
     "metadata": {},
     "output_type": "display_data"
    }
   ],
   "source": [
    "if (orig_matrix_is_positive_definite) {\n",
    "  IRdisplay::display(\"Matrix is already positive definite!\")\n",
    "  file.copy(INPUT_FILE, OUTPUT_FILE)\n",
    "} else {\n",
    "  IRdisplay::display(\"We need to correct the data and make the matrix positive definite\")\n",
    "\n",
    "  eigenvalues <- eigen(gene_corrs)$values\n",
    "  nonpositive_eigenvalues <- eigenvalues[eigenvalues <= 0]\n",
    "  IRdisplay::display(length(nonpositive_eigenvalues))\n",
    "  IRdisplay::display(nonpositive_eigenvalues)\n",
    "\n",
    "  # Make matrix positive definite\n",
    "  gene_corrs_corrected <- CorrectCM(gene_corrs, 1e-10)\n",
    "  dimnames(gene_corrs_corrected)[[1]] <- rownames(gene_corrs)\n",
    "  dimnames(gene_corrs_corrected)[[2]] <- colnames(gene_corrs)\n",
    "  gene_corrs_corrected <- as.data.frame(gene_corrs_corrected)\n",
    "\n",
    "  # check if new matrix is really positive definite\n",
    "  matrix_is_positive_definite <- is_positive_definite(gene_corrs_corrected)\n",
    "  if (matrix_is_positive_definite) {\n",
    "    IRdisplay::display(\"It worked!\")\n",
    "    IRdisplay::display(head(gene_corrs[1:10, 1:10]))\n",
    "    IRdisplay::display(head(gene_corrs_corrected[1:10, 1:10]))\n",
    "    py_save_object(gene_corrs_corrected, OUTPUT_FILE)\n",
    "  } else {\n",
    "    eigenvalues <- eigen(gene_corrs_corrected)$values\n",
    "    nonpositive_eigenvalues <- eigenvalues[eigenvalues <= 0]\n",
    "    IRdisplay::display(length(nonpositive_eigenvalues))\n",
    "    IRdisplay::display(nonpositive_eigenvalues)\n",
    "\n",
    "    stop(\"Method failed to adjust matrix\")\n",
    "  }\n",
    "}"
   ]
  },
  {
   "cell_type": "markdown",
   "id": "6c196700-7491-462f-bab8-ab9d40c63499",
   "metadata": {
    "papermill": {
     "duration": 0.004676,
     "end_time": "2022-07-11T13:17:48.595157",
     "exception": false,
     "start_time": "2022-07-11T13:17:48.590481",
     "status": "completed"
    },
    "tags": []
   },
   "source": [
    "Both matrices should \"look\" similar. We are not interested in perfectly accurate correlation values (they are already inaccurate)."
   ]
  },
  {
   "cell_type": "code",
   "execution_count": null,
   "id": "d8ae4220-2171-460c-9231-cd5219f3fe77",
   "metadata": {
    "papermill": {
     "duration": 0.005412,
     "end_time": "2022-07-11T13:17:48.605308",
     "exception": false,
     "start_time": "2022-07-11T13:17:48.599896",
     "status": "completed"
    },
    "tags": []
   },
   "outputs": [],
   "source": []
  }
 ],
 "metadata": {
  "jupytext": {
   "cell_metadata_filter": "all,-execution,-papermill,-trusted"
  },
  "kernelspec": {
   "display_name": "R",
   "language": "R",
   "name": "ir"
  },
  "language_info": {
   "codemirror_mode": "r",
   "file_extension": ".r",
   "mimetype": "text/x-r-source",
   "name": "R",
   "pygments_lexer": "r",
   "version": "3.6.3"
  },
  "papermill": {
   "default_parameters": {},
   "duration": 5.274782,
   "end_time": "2022-07-11T13:17:48.735416",
   "environment_variables": {},
   "exception": null,
   "input_path": "nbs/15_gsa_gls/12-gene_expr_correlations-adjust.ipynb",
   "output_path": "nbs/15_gsa_gls/gene_corrs/1000g/mashr/12-gene_expr_correlations-adjust-chr10.run.ipynb",
   "parameters": {
    "EQTL_MODEL": "MASHR",
    "REFERENCE_PANEL": "1000G",
    "chromosome": 10
   },
   "start_time": "2022-07-11T13:17:43.460634",
   "version": "2.3.4"
  }
 },
 "nbformat": 4,
 "nbformat_minor": 5
}
