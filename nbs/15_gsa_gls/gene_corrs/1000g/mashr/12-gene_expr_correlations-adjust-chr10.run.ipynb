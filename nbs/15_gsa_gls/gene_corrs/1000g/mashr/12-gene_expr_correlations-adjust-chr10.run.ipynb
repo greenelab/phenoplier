{
 "cells": [
  {
   "cell_type": "markdown",
   "id": "28fc82fa-c3f6-4184-8054-cc91c7c6e2e7",
   "metadata": {
    "papermill": {
     "duration": 0.004705,
     "end_time": "2022-07-12T13:07:21.082038",
     "exception": false,
     "start_time": "2022-07-12T13:07:21.077333",
     "status": "completed"
    },
    "tags": []
   },
   "source": [
    "# Description"
   ]
  },
  {
   "cell_type": "markdown",
   "id": "36839b17-916e-4aec-8fee-96faf1097e78",
   "metadata": {
    "papermill": {
     "duration": 0.003847,
     "end_time": "2022-07-12T13:07:21.089931",
     "exception": false,
     "start_time": "2022-07-12T13:07:21.086084",
     "status": "completed"
    },
    "tags": []
   },
   "source": [
    "**TODO**"
   ]
  },
  {
   "cell_type": "markdown",
   "id": "249e8aa3-ef1a-4bba-a6dd-58120ad80794",
   "metadata": {
    "papermill": {
     "duration": 0.003853,
     "end_time": "2022-07-12T13:07:21.097912",
     "exception": false,
     "start_time": "2022-07-12T13:07:21.094059",
     "status": "completed"
    },
    "tags": []
   },
   "source": [
    "# Modules"
   ]
  },
  {
   "cell_type": "code",
   "execution_count": 1,
   "id": "f9b5022b-7c5e-4d37-9c7a-fdb91777c7f9",
   "metadata": {
    "execution": {
     "iopub.execute_input": "2022-07-12T13:07:21.137995Z",
     "iopub.status.busy": "2022-07-12T13:07:21.134984Z",
     "iopub.status.idle": "2022-07-12T13:07:24.334131Z",
     "shell.execute_reply": "2022-07-12T13:07:24.332178Z"
    },
    "papermill": {
     "duration": 3.233803,
     "end_time": "2022-07-12T13:07:24.335698",
     "exception": false,
     "start_time": "2022-07-12T13:07:21.101895",
     "status": "completed"
    },
    "tags": []
   },
   "outputs": [],
   "source": [
    "library(reticulate)\n",
    "pd <- import(\"pandas\")"
   ]
  },
  {
   "cell_type": "markdown",
   "id": "69e80173-3a39-4b6a-b723-602687cb255b",
   "metadata": {
    "papermill": {
     "duration": 0.003005,
     "end_time": "2022-07-12T13:07:24.342422",
     "exception": false,
     "start_time": "2022-07-12T13:07:24.339417",
     "status": "completed"
    },
    "tags": []
   },
   "source": [
    "# Settings"
   ]
  },
  {
   "cell_type": "code",
   "execution_count": 2,
   "id": "22d12bb4-1699-4a6b-b1b9-d3fdd3d547d7",
   "metadata": {
    "execution": {
     "iopub.execute_input": "2022-07-12T13:07:24.371172Z",
     "iopub.status.busy": "2022-07-12T13:07:24.349404Z",
     "iopub.status.idle": "2022-07-12T13:07:24.383038Z",
     "shell.execute_reply": "2022-07-12T13:07:24.381853Z"
    },
    "papermill": {
     "duration": 0.03929,
     "end_time": "2022-07-12T13:07:24.384775",
     "exception": false,
     "start_time": "2022-07-12T13:07:24.345485",
     "status": "completed"
    },
    "tags": [
     "parameters"
    ]
   },
   "outputs": [],
   "source": [
    "# reference panel\n",
    "REFERENCE_PANEL <- \"GTEX_V8\"\n",
    "# REFERENCE_PANEL = \"1000G\"\n",
    "\n",
    "# prediction models\n",
    "## mashr\n",
    "EQTL_MODEL <- \"MASHR\"\n",
    "\n",
    "chromosome <- NULL"
   ]
  },
  {
   "cell_type": "code",
   "execution_count": 3,
   "id": "b11f87ac",
   "metadata": {
    "execution": {
     "iopub.execute_input": "2022-07-12T13:07:24.394210Z",
     "iopub.status.busy": "2022-07-12T13:07:24.393143Z",
     "iopub.status.idle": "2022-07-12T13:07:24.411110Z",
     "shell.execute_reply": "2022-07-12T13:07:24.409852Z"
    },
    "papermill": {
     "duration": 0.024805,
     "end_time": "2022-07-12T13:07:24.413056",
     "exception": false,
     "start_time": "2022-07-12T13:07:24.388251",
     "status": "completed"
    },
    "tags": [
     "injected-parameters"
    ]
   },
   "outputs": [],
   "source": [
    "# Parameters\n",
    "chromosome = 10\n",
    "REFERENCE_PANEL = \"1000G\"\n",
    "EQTL_MODEL = \"MASHR\"\n"
   ]
  },
  {
   "cell_type": "code",
   "execution_count": 4,
   "id": "8fe24bef",
   "metadata": {
    "execution": {
     "iopub.execute_input": "2022-07-12T13:07:24.423412Z",
     "iopub.status.busy": "2022-07-12T13:07:24.421627Z",
     "iopub.status.idle": "2022-07-12T13:07:24.437850Z",
     "shell.execute_reply": "2022-07-12T13:07:24.436500Z"
    },
    "papermill": {
     "duration": 0.023111,
     "end_time": "2022-07-12T13:07:24.439974",
     "exception": false,
     "start_time": "2022-07-12T13:07:24.416863",
     "status": "completed"
    },
    "tags": []
   },
   "outputs": [
    {
     "data": {
      "text/html": [
       "'Using reference panel: 1000G'"
      ],
      "text/latex": [
       "'Using reference panel: 1000G'"
      ],
      "text/markdown": [
       "'Using reference panel: 1000G'"
      ],
      "text/plain": [
       "[1] \"Using reference panel: 1000G\""
      ]
     },
     "metadata": {},
     "output_type": "display_data"
    }
   ],
   "source": [
    "paste0(\"Using reference panel: \", REFERENCE_PANEL)"
   ]
  },
  {
   "cell_type": "code",
   "execution_count": 5,
   "id": "d62c28f8-186c-478b-948c-58e14f00df4b",
   "metadata": {
    "execution": {
     "iopub.execute_input": "2022-07-12T13:07:24.450020Z",
     "iopub.status.busy": "2022-07-12T13:07:24.448839Z",
     "iopub.status.idle": "2022-07-12T13:07:24.461640Z",
     "shell.execute_reply": "2022-07-12T13:07:24.460349Z"
    },
    "papermill": {
     "duration": 0.01968,
     "end_time": "2022-07-12T13:07:24.463677",
     "exception": false,
     "start_time": "2022-07-12T13:07:24.443997",
     "status": "completed"
    },
    "tags": []
   },
   "outputs": [
    {
     "data": {
      "text/html": [
       "'Using eQTL model: MASHR'"
      ],
      "text/latex": [
       "'Using eQTL model: MASHR'"
      ],
      "text/markdown": [
       "'Using eQTL model: MASHR'"
      ],
      "text/plain": [
       "[1] \"Using eQTL model: MASHR\""
      ]
     },
     "metadata": {},
     "output_type": "display_data"
    }
   ],
   "source": [
    "paste0(\"Using eQTL model: \", EQTL_MODEL)"
   ]
  },
  {
   "cell_type": "code",
   "execution_count": 6,
   "id": "5243676f-c889-4405-9a4d-262f0f044614",
   "metadata": {
    "execution": {
     "iopub.execute_input": "2022-07-12T13:07:24.474236Z",
     "iopub.status.busy": "2022-07-12T13:07:24.473151Z",
     "iopub.status.idle": "2022-07-12T13:07:24.483933Z",
     "shell.execute_reply": "2022-07-12T13:07:24.482135Z"
    },
    "papermill": {
     "duration": 0.018998,
     "end_time": "2022-07-12T13:07:24.486454",
     "exception": false,
     "start_time": "2022-07-12T13:07:24.467456",
     "status": "completed"
    },
    "tags": []
   },
   "outputs": [],
   "source": [
    "# chromosome must be provided as parameter\n",
    "stopifnot(!is.null(chromosome))"
   ]
  },
  {
   "cell_type": "markdown",
   "id": "c05e4d34-e115-48cd-8a2e-225109eb0042",
   "metadata": {
    "papermill": {
     "duration": 0.00444,
     "end_time": "2022-07-12T13:07:24.495174",
     "exception": false,
     "start_time": "2022-07-12T13:07:24.490734",
     "status": "completed"
    },
    "tags": []
   },
   "source": [
    "# Paths"
   ]
  },
  {
   "cell_type": "code",
   "execution_count": 7,
   "id": "eb6aa8aa-b452-4a2f-a780-93dd80ad4285",
   "metadata": {
    "execution": {
     "iopub.execute_input": "2022-07-12T13:07:24.505805Z",
     "iopub.status.busy": "2022-07-12T13:07:24.504680Z",
     "iopub.status.idle": "2022-07-12T13:07:24.519023Z",
     "shell.execute_reply": "2022-07-12T13:07:24.517642Z"
    },
    "papermill": {
     "duration": 0.021607,
     "end_time": "2022-07-12T13:07:24.521024",
     "exception": false,
     "start_time": "2022-07-12T13:07:24.499417",
     "status": "completed"
    },
    "tags": []
   },
   "outputs": [
    {
     "data": {
      "text/html": [
       "'/opt/data/data/phenomexcan/ld_blocks/gene_corrs'"
      ],
      "text/latex": [
       "'/opt/data/data/phenomexcan/ld\\_blocks/gene\\_corrs'"
      ],
      "text/markdown": [
       "'/opt/data/data/phenomexcan/ld_blocks/gene_corrs'"
      ],
      "text/plain": [
       "[1] \"/opt/data/data/phenomexcan/ld_blocks/gene_corrs\""
      ]
     },
     "metadata": {},
     "output_type": "display_data"
    }
   ],
   "source": [
    "GENE_CORRS_DIR <- Sys.getenv(\"PHENOPLIER_PHENOMEXCAN_LD_BLOCKS_GENE_CORRS_DIR\")\n",
    "IRdisplay::display(GENE_CORRS_DIR)"
   ]
  },
  {
   "cell_type": "code",
   "execution_count": 8,
   "id": "eb24f15f-f282-4476-8943-8413c4483f12",
   "metadata": {
    "execution": {
     "iopub.execute_input": "2022-07-12T13:07:24.531389Z",
     "iopub.status.busy": "2022-07-12T13:07:24.530134Z",
     "iopub.status.idle": "2022-07-12T13:07:24.545462Z",
     "shell.execute_reply": "2022-07-12T13:07:24.543980Z"
    },
    "papermill": {
     "duration": 0.022314,
     "end_time": "2022-07-12T13:07:24.547416",
     "exception": false,
     "start_time": "2022-07-12T13:07:24.525102",
     "status": "completed"
    },
    "tags": []
   },
   "outputs": [
    {
     "data": {
      "text/html": [
       "'/opt/data/data/phenomexcan/ld_blocks/gene_corrs/1000g/mashr/by_chr'"
      ],
      "text/latex": [
       "'/opt/data/data/phenomexcan/ld\\_blocks/gene\\_corrs/1000g/mashr/by\\_chr'"
      ],
      "text/markdown": [
       "'/opt/data/data/phenomexcan/ld_blocks/gene_corrs/1000g/mashr/by_chr'"
      ],
      "text/plain": [
       "[1] \"/opt/data/data/phenomexcan/ld_blocks/gene_corrs/1000g/mashr/by_chr\""
      ]
     },
     "metadata": {},
     "output_type": "display_data"
    }
   ],
   "source": [
    "INPUT_DIR <- file.path(GENE_CORRS_DIR, tolower(REFERENCE_PANEL), tolower(EQTL_MODEL), \"by_chr\")\n",
    "IRdisplay::display(INPUT_DIR)"
   ]
  },
  {
   "cell_type": "code",
   "execution_count": 9,
   "id": "43c1daba-0da9-4822-8d1e-968e9767e251",
   "metadata": {
    "execution": {
     "iopub.execute_input": "2022-07-12T13:07:24.558453Z",
     "iopub.status.busy": "2022-07-12T13:07:24.557180Z",
     "iopub.status.idle": "2022-07-12T13:07:24.572513Z",
     "shell.execute_reply": "2022-07-12T13:07:24.571221Z"
    },
    "papermill": {
     "duration": 0.022365,
     "end_time": "2022-07-12T13:07:24.574263",
     "exception": false,
     "start_time": "2022-07-12T13:07:24.551898",
     "status": "completed"
    },
    "tags": []
   },
   "outputs": [
    {
     "data": {
      "text/html": [
       "'/opt/data/data/phenomexcan/ld_blocks/gene_corrs/1000g/mashr/by_chr/gene_corrs-chr10.pkl'"
      ],
      "text/latex": [
       "'/opt/data/data/phenomexcan/ld\\_blocks/gene\\_corrs/1000g/mashr/by\\_chr/gene\\_corrs-chr10.pkl'"
      ],
      "text/markdown": [
       "'/opt/data/data/phenomexcan/ld_blocks/gene_corrs/1000g/mashr/by_chr/gene_corrs-chr10.pkl'"
      ],
      "text/plain": [
       "[1] \"/opt/data/data/phenomexcan/ld_blocks/gene_corrs/1000g/mashr/by_chr/gene_corrs-chr10.pkl\""
      ]
     },
     "metadata": {},
     "output_type": "display_data"
    }
   ],
   "source": [
    "INPUT_FILE <- file.path(INPUT_DIR, paste0(\"gene_corrs-chr\", chromosome, \".pkl\"))\n",
    "IRdisplay::display(INPUT_FILE)\n",
    "stopifnot(file.exists(INPUT_FILE))"
   ]
  },
  {
   "cell_type": "code",
   "execution_count": 10,
   "id": "72386fbf-982b-420a-9057-ea9a97a5e571",
   "metadata": {
    "execution": {
     "iopub.execute_input": "2022-07-12T13:07:24.585731Z",
     "iopub.status.busy": "2022-07-12T13:07:24.584634Z",
     "iopub.status.idle": "2022-07-12T13:07:24.600015Z",
     "shell.execute_reply": "2022-07-12T13:07:24.598720Z"
    },
    "papermill": {
     "duration": 0.022952,
     "end_time": "2022-07-12T13:07:24.601977",
     "exception": false,
     "start_time": "2022-07-12T13:07:24.579025",
     "status": "completed"
    },
    "tags": []
   },
   "outputs": [
    {
     "data": {
      "text/html": [
       "'/opt/data/data/phenomexcan/ld_blocks/gene_corrs/1000g/mashr/by_chr/corrected_positive_definite'"
      ],
      "text/latex": [
       "'/opt/data/data/phenomexcan/ld\\_blocks/gene\\_corrs/1000g/mashr/by\\_chr/corrected\\_positive\\_definite'"
      ],
      "text/markdown": [
       "'/opt/data/data/phenomexcan/ld_blocks/gene_corrs/1000g/mashr/by_chr/corrected_positive_definite'"
      ],
      "text/plain": [
       "[1] \"/opt/data/data/phenomexcan/ld_blocks/gene_corrs/1000g/mashr/by_chr/corrected_positive_definite\""
      ]
     },
     "metadata": {},
     "output_type": "display_data"
    }
   ],
   "source": [
    "OUTPUT_DIR <- file.path(INPUT_DIR, \"corrected_positive_definite\")\n",
    "IRdisplay::display(OUTPUT_DIR)\n",
    "dir.create(OUTPUT_DIR, recursive = TRUE, showWarnings = FALSE)"
   ]
  },
  {
   "cell_type": "code",
   "execution_count": 11,
   "id": "f9f19d1d-ce4c-4099-a26e-250fec751de7",
   "metadata": {
    "execution": {
     "iopub.execute_input": "2022-07-12T13:07:24.614570Z",
     "iopub.status.busy": "2022-07-12T13:07:24.613532Z",
     "iopub.status.idle": "2022-07-12T13:07:24.629930Z",
     "shell.execute_reply": "2022-07-12T13:07:24.628067Z"
    },
    "papermill": {
     "duration": 0.024647,
     "end_time": "2022-07-12T13:07:24.631905",
     "exception": false,
     "start_time": "2022-07-12T13:07:24.607258",
     "status": "completed"
    },
    "tags": []
   },
   "outputs": [
    {
     "data": {
      "text/html": [
       "'/opt/data/data/phenomexcan/ld_blocks/gene_corrs/1000g/mashr/by_chr/corrected_positive_definite/gene_corrs-chr10.pkl'"
      ],
      "text/latex": [
       "'/opt/data/data/phenomexcan/ld\\_blocks/gene\\_corrs/1000g/mashr/by\\_chr/corrected\\_positive\\_definite/gene\\_corrs-chr10.pkl'"
      ],
      "text/markdown": [
       "'/opt/data/data/phenomexcan/ld_blocks/gene_corrs/1000g/mashr/by_chr/corrected_positive_definite/gene_corrs-chr10.pkl'"
      ],
      "text/plain": [
       "[1] \"/opt/data/data/phenomexcan/ld_blocks/gene_corrs/1000g/mashr/by_chr/corrected_positive_definite/gene_corrs-chr10.pkl\""
      ]
     },
     "metadata": {},
     "output_type": "display_data"
    }
   ],
   "source": [
    "OUTPUT_FILE <- file.path(OUTPUT_DIR, paste0(\"gene_corrs-chr\", chromosome, \".pkl\"))\n",
    "IRdisplay::display(OUTPUT_FILE)\n",
    "if (file.exists(OUTPUT_FILE)) {\n",
    "  IRdisplay::display(\"Output file exists, it will be overwritten\")\n",
    "}"
   ]
  },
  {
   "cell_type": "markdown",
   "id": "24973e62-e888-4b56-843f-489d8d0762b5",
   "metadata": {
    "papermill": {
     "duration": 0.004502,
     "end_time": "2022-07-12T13:07:24.641785",
     "exception": false,
     "start_time": "2022-07-12T13:07:24.637283",
     "status": "completed"
    },
    "tags": []
   },
   "source": [
    "# Functions"
   ]
  },
  {
   "cell_type": "code",
   "execution_count": 12,
   "id": "f828f081-7358-4cc8-8a89-1ee293bcc1a7",
   "metadata": {
    "execution": {
     "iopub.execute_input": "2022-07-12T13:07:24.656687Z",
     "iopub.status.busy": "2022-07-12T13:07:24.652189Z",
     "iopub.status.idle": "2022-07-12T13:07:24.666050Z",
     "shell.execute_reply": "2022-07-12T13:07:24.664665Z"
    },
    "papermill": {
     "duration": 0.021432,
     "end_time": "2022-07-12T13:07:24.667962",
     "exception": false,
     "start_time": "2022-07-12T13:07:24.646530",
     "status": "completed"
    },
    "tags": []
   },
   "outputs": [],
   "source": [
    "# taken from https://www.r-bloggers.com/2013/08/correcting-a-pseudo-correlation-matrix-to-be-positive-semidefinite/\n",
    "# TODO: add documentation\n",
    "CorrectCM <- function(CM, p = 0) {\n",
    "  n <- dim(var(CM))[1L]\n",
    "  E <- eigen(CM)\n",
    "  CM1 <- E$vectors %*% tcrossprod(diag(pmax(E$values, p), n), E$vectors)\n",
    "  Balance <- diag(1 / sqrt(diag(CM1)))\n",
    "  CM2 <- Balance %*% CM1 %*% Balance\n",
    "  return(CM2)\n",
    "}"
   ]
  },
  {
   "cell_type": "code",
   "execution_count": 13,
   "id": "7ab9bebf-50a1-4e6f-b16a-e23cae93d02a",
   "metadata": {
    "execution": {
     "iopub.execute_input": "2022-07-12T13:07:24.679955Z",
     "iopub.status.busy": "2022-07-12T13:07:24.678612Z",
     "iopub.status.idle": "2022-07-12T13:07:24.689443Z",
     "shell.execute_reply": "2022-07-12T13:07:24.688070Z"
    },
    "papermill": {
     "duration": 0.018543,
     "end_time": "2022-07-12T13:07:24.691334",
     "exception": false,
     "start_time": "2022-07-12T13:07:24.672791",
     "status": "completed"
    },
    "tags": []
   },
   "outputs": [],
   "source": [
    "is_positive_definite <- function(data) {\n",
    "  # eigenvalues <- eigen(data)$values\n",
    "  # nonpositive_eigenvalues <- eigenvalues[eigenvalues <= 0]\n",
    "\n",
    "  cholStatus <- try(u <- chol(data), silent = FALSE)\n",
    "  cholError <- ifelse(class(cholStatus) == \"try-error\", TRUE, FALSE)\n",
    "\n",
    "  if (cholError) {\n",
    "    return(FALSE)\n",
    "  } else {\n",
    "    return(TRUE)\n",
    "  }\n",
    "}"
   ]
  },
  {
   "cell_type": "markdown",
   "id": "7403fd78-00b2-4941-9c07-3c3af1ddc636",
   "metadata": {
    "papermill": {
     "duration": 0.0046,
     "end_time": "2022-07-12T13:07:24.701557",
     "exception": false,
     "start_time": "2022-07-12T13:07:24.696957",
     "status": "completed"
    },
    "tags": []
   },
   "source": [
    "# Load data"
   ]
  },
  {
   "cell_type": "code",
   "execution_count": 14,
   "id": "3a7744e1-2e5a-450e-9dcf-945ec181347d",
   "metadata": {
    "execution": {
     "iopub.execute_input": "2022-07-12T13:07:24.713196Z",
     "iopub.status.busy": "2022-07-12T13:07:24.712043Z",
     "iopub.status.idle": "2022-07-12T13:07:24.753394Z",
     "shell.execute_reply": "2022-07-12T13:07:24.752204Z"
    },
    "papermill": {
     "duration": 0.048753,
     "end_time": "2022-07-12T13:07:24.754989",
     "exception": false,
     "start_time": "2022-07-12T13:07:24.706236",
     "status": "completed"
    },
    "tags": []
   },
   "outputs": [],
   "source": [
    "gene_corrs <- pd$read_pickle(INPUT_FILE)"
   ]
  },
  {
   "cell_type": "code",
   "execution_count": 15,
   "id": "6fb150b2-4c68-4e9b-9aa5-1890d3f762e3",
   "metadata": {
    "execution": {
     "iopub.execute_input": "2022-07-12T13:07:24.766141Z",
     "iopub.status.busy": "2022-07-12T13:07:24.765109Z",
     "iopub.status.idle": "2022-07-12T13:07:24.776556Z",
     "shell.execute_reply": "2022-07-12T13:07:24.775318Z"
    },
    "papermill": {
     "duration": 0.018776,
     "end_time": "2022-07-12T13:07:24.778269",
     "exception": false,
     "start_time": "2022-07-12T13:07:24.759493",
     "status": "completed"
    },
    "tags": []
   },
   "outputs": [
    {
     "data": {
      "text/html": [
       "<style>\n",
       ".list-inline {list-style: none; margin:0; padding: 0}\n",
       ".list-inline>li {display: inline-block}\n",
       ".list-inline>li:not(:last-child)::after {content: \"\\00b7\"; padding: 0 .5ex}\n",
       "</style>\n",
       "<ol class=list-inline><li>245</li><li>245</li></ol>\n"
      ],
      "text/latex": [
       "\\begin{enumerate*}\n",
       "\\item 245\n",
       "\\item 245\n",
       "\\end{enumerate*}\n"
      ],
      "text/markdown": [
       "1. 245\n",
       "2. 245\n",
       "\n",
       "\n"
      ],
      "text/plain": [
       "[1] 245 245"
      ]
     },
     "metadata": {},
     "output_type": "display_data"
    }
   ],
   "source": [
    "dim(gene_corrs)"
   ]
  },
  {
   "cell_type": "code",
   "execution_count": 16,
   "id": "0d4e53b5-7586-4a68-8ce5-d930d74ba943",
   "metadata": {
    "execution": {
     "iopub.execute_input": "2022-07-12T13:07:24.789374Z",
     "iopub.status.busy": "2022-07-12T13:07:24.788330Z",
     "iopub.status.idle": "2022-07-12T13:07:24.809169Z",
     "shell.execute_reply": "2022-07-12T13:07:24.807914Z"
    },
    "papermill": {
     "duration": 0.028206,
     "end_time": "2022-07-12T13:07:24.810932",
     "exception": false,
     "start_time": "2022-07-12T13:07:24.782726",
     "status": "completed"
    },
    "tags": []
   },
   "outputs": [
    {
     "data": {
      "text/html": [
       "<table class=\"dataframe\">\n",
       "<caption>A data.frame: 6 × 10</caption>\n",
       "<thead>\n",
       "\t<tr><th></th><th scope=col>ENSG00000261456</th><th scope=col>ENSG00000148377</th><th scope=col>ENSG00000067064</th><th scope=col>ENSG00000067057</th><th scope=col>ENSG00000067082</th><th scope=col>ENSG00000187134</th><th scope=col>ENSG00000151632</th><th scope=col>ENSG00000196139</th><th scope=col>ENSG00000173848</th><th scope=col>ENSG00000196372</th></tr>\n",
       "\t<tr><th></th><th scope=col>&lt;dbl&gt;</th><th scope=col>&lt;dbl&gt;</th><th scope=col>&lt;dbl&gt;</th><th scope=col>&lt;dbl&gt;</th><th scope=col>&lt;dbl&gt;</th><th scope=col>&lt;dbl&gt;</th><th scope=col>&lt;dbl&gt;</th><th scope=col>&lt;dbl&gt;</th><th scope=col>&lt;dbl&gt;</th><th scope=col>&lt;dbl&gt;</th></tr>\n",
       "</thead>\n",
       "<tbody>\n",
       "\t<tr><th scope=row>ENSG00000261456</th><td>1.000000000</td><td>0.009276299</td><td>0.01125132</td><td>0.018050100</td><td>0.007917804</td><td>0.008960592</td><td>0.011278445</td><td>0.011212124</td><td>0.009100233</td><td>0.020100530</td></tr>\n",
       "\t<tr><th scope=row>ENSG00000148377</th><td>0.009276299</td><td>1.000000000</td><td>0.08226515</td><td>0.008849175</td><td>0.002638345</td><td>0.005401564</td><td>0.002854389</td><td>0.006661711</td><td>0.003950335</td><td>0.006822013</td></tr>\n",
       "\t<tr><th scope=row>ENSG00000067064</th><td>0.011251321</td><td>0.082265147</td><td>1.00000000</td><td>0.014118420</td><td>0.010838409</td><td>0.010339060</td><td>0.019729164</td><td>0.015974911</td><td>0.013212565</td><td>0.013264373</td></tr>\n",
       "\t<tr><th scope=row>ENSG00000067057</th><td>0.018050100</td><td>0.008849175</td><td>0.01411842</td><td>1.000000000</td><td>0.012992187</td><td>0.020652738</td><td>0.026356620</td><td>0.026792202</td><td>0.014647739</td><td>0.026514805</td></tr>\n",
       "\t<tr><th scope=row>ENSG00000067082</th><td>0.007917804</td><td>0.002638345</td><td>0.01083841</td><td>0.012992187</td><td>1.000000000</td><td>0.019429840</td><td>0.016258298</td><td>0.012085451</td><td>0.015884971</td><td>0.017249927</td></tr>\n",
       "\t<tr><th scope=row>ENSG00000187134</th><td>0.008960592</td><td>0.005401564</td><td>0.01033906</td><td>0.020652738</td><td>0.019429840</td><td>1.000000000</td><td>0.293149533</td><td>0.142053317</td><td>0.008167124</td><td>0.019299994</td></tr>\n",
       "</tbody>\n",
       "</table>\n"
      ],
      "text/latex": [
       "A data.frame: 6 × 10\n",
       "\\begin{tabular}{r|llllllllll}\n",
       "  & ENSG00000261456 & ENSG00000148377 & ENSG00000067064 & ENSG00000067057 & ENSG00000067082 & ENSG00000187134 & ENSG00000151632 & ENSG00000196139 & ENSG00000173848 & ENSG00000196372\\\\\n",
       "  & <dbl> & <dbl> & <dbl> & <dbl> & <dbl> & <dbl> & <dbl> & <dbl> & <dbl> & <dbl>\\\\\n",
       "\\hline\n",
       "\tENSG00000261456 & 1.000000000 & 0.009276299 & 0.01125132 & 0.018050100 & 0.007917804 & 0.008960592 & 0.011278445 & 0.011212124 & 0.009100233 & 0.020100530\\\\\n",
       "\tENSG00000148377 & 0.009276299 & 1.000000000 & 0.08226515 & 0.008849175 & 0.002638345 & 0.005401564 & 0.002854389 & 0.006661711 & 0.003950335 & 0.006822013\\\\\n",
       "\tENSG00000067064 & 0.011251321 & 0.082265147 & 1.00000000 & 0.014118420 & 0.010838409 & 0.010339060 & 0.019729164 & 0.015974911 & 0.013212565 & 0.013264373\\\\\n",
       "\tENSG00000067057 & 0.018050100 & 0.008849175 & 0.01411842 & 1.000000000 & 0.012992187 & 0.020652738 & 0.026356620 & 0.026792202 & 0.014647739 & 0.026514805\\\\\n",
       "\tENSG00000067082 & 0.007917804 & 0.002638345 & 0.01083841 & 0.012992187 & 1.000000000 & 0.019429840 & 0.016258298 & 0.012085451 & 0.015884971 & 0.017249927\\\\\n",
       "\tENSG00000187134 & 0.008960592 & 0.005401564 & 0.01033906 & 0.020652738 & 0.019429840 & 1.000000000 & 0.293149533 & 0.142053317 & 0.008167124 & 0.019299994\\\\\n",
       "\\end{tabular}\n"
      ],
      "text/markdown": [
       "\n",
       "A data.frame: 6 × 10\n",
       "\n",
       "| <!--/--> | ENSG00000261456 &lt;dbl&gt; | ENSG00000148377 &lt;dbl&gt; | ENSG00000067064 &lt;dbl&gt; | ENSG00000067057 &lt;dbl&gt; | ENSG00000067082 &lt;dbl&gt; | ENSG00000187134 &lt;dbl&gt; | ENSG00000151632 &lt;dbl&gt; | ENSG00000196139 &lt;dbl&gt; | ENSG00000173848 &lt;dbl&gt; | ENSG00000196372 &lt;dbl&gt; |\n",
       "|---|---|---|---|---|---|---|---|---|---|---|\n",
       "| ENSG00000261456 | 1.000000000 | 0.009276299 | 0.01125132 | 0.018050100 | 0.007917804 | 0.008960592 | 0.011278445 | 0.011212124 | 0.009100233 | 0.020100530 |\n",
       "| ENSG00000148377 | 0.009276299 | 1.000000000 | 0.08226515 | 0.008849175 | 0.002638345 | 0.005401564 | 0.002854389 | 0.006661711 | 0.003950335 | 0.006822013 |\n",
       "| ENSG00000067064 | 0.011251321 | 0.082265147 | 1.00000000 | 0.014118420 | 0.010838409 | 0.010339060 | 0.019729164 | 0.015974911 | 0.013212565 | 0.013264373 |\n",
       "| ENSG00000067057 | 0.018050100 | 0.008849175 | 0.01411842 | 1.000000000 | 0.012992187 | 0.020652738 | 0.026356620 | 0.026792202 | 0.014647739 | 0.026514805 |\n",
       "| ENSG00000067082 | 0.007917804 | 0.002638345 | 0.01083841 | 0.012992187 | 1.000000000 | 0.019429840 | 0.016258298 | 0.012085451 | 0.015884971 | 0.017249927 |\n",
       "| ENSG00000187134 | 0.008960592 | 0.005401564 | 0.01033906 | 0.020652738 | 0.019429840 | 1.000000000 | 0.293149533 | 0.142053317 | 0.008167124 | 0.019299994 |\n",
       "\n"
      ],
      "text/plain": [
       "                ENSG00000261456 ENSG00000148377 ENSG00000067064 ENSG00000067057\n",
       "ENSG00000261456 1.000000000     0.009276299     0.01125132      0.018050100    \n",
       "ENSG00000148377 0.009276299     1.000000000     0.08226515      0.008849175    \n",
       "ENSG00000067064 0.011251321     0.082265147     1.00000000      0.014118420    \n",
       "ENSG00000067057 0.018050100     0.008849175     0.01411842      1.000000000    \n",
       "ENSG00000067082 0.007917804     0.002638345     0.01083841      0.012992187    \n",
       "ENSG00000187134 0.008960592     0.005401564     0.01033906      0.020652738    \n",
       "                ENSG00000067082 ENSG00000187134 ENSG00000151632 ENSG00000196139\n",
       "ENSG00000261456 0.007917804     0.008960592     0.011278445     0.011212124    \n",
       "ENSG00000148377 0.002638345     0.005401564     0.002854389     0.006661711    \n",
       "ENSG00000067064 0.010838409     0.010339060     0.019729164     0.015974911    \n",
       "ENSG00000067057 0.012992187     0.020652738     0.026356620     0.026792202    \n",
       "ENSG00000067082 1.000000000     0.019429840     0.016258298     0.012085451    \n",
       "ENSG00000187134 0.019429840     1.000000000     0.293149533     0.142053317    \n",
       "                ENSG00000173848 ENSG00000196372\n",
       "ENSG00000261456 0.009100233     0.020100530    \n",
       "ENSG00000148377 0.003950335     0.006822013    \n",
       "ENSG00000067064 0.013212565     0.013264373    \n",
       "ENSG00000067057 0.014647739     0.026514805    \n",
       "ENSG00000067082 0.015884971     0.017249927    \n",
       "ENSG00000187134 0.008167124     0.019299994    "
      ]
     },
     "metadata": {},
     "output_type": "display_data"
    }
   ],
   "source": [
    "head(gene_corrs[1:10, 1:10])"
   ]
  },
  {
   "cell_type": "markdown",
   "id": "d6cbc88a-2c90-4d11-b7dd-434f046fd03c",
   "metadata": {
    "papermill": {
     "duration": 0.004771,
     "end_time": "2022-07-12T13:07:24.820654",
     "exception": false,
     "start_time": "2022-07-12T13:07:24.815883",
     "status": "completed"
    },
    "tags": []
   },
   "source": [
    "# Check positive definiteness"
   ]
  },
  {
   "cell_type": "code",
   "execution_count": 17,
   "id": "a858a061-7c5a-4a6b-8026-fe4de50c1f26",
   "metadata": {
    "execution": {
     "iopub.execute_input": "2022-07-12T13:07:24.832429Z",
     "iopub.status.busy": "2022-07-12T13:07:24.831327Z",
     "iopub.status.idle": "2022-07-12T13:07:24.846711Z",
     "shell.execute_reply": "2022-07-12T13:07:24.845123Z"
    },
    "papermill": {
     "duration": 0.02315,
     "end_time": "2022-07-12T13:07:24.848734",
     "exception": false,
     "start_time": "2022-07-12T13:07:24.825584",
     "status": "completed"
    },
    "tags": []
   },
   "outputs": [],
   "source": [
    "orig_matrix_is_positive_definite <- is_positive_definite(gene_corrs)"
   ]
  },
  {
   "cell_type": "code",
   "execution_count": 18,
   "id": "410ee452-488f-4518-b93a-2acd608ba99c",
   "metadata": {
    "execution": {
     "iopub.execute_input": "2022-07-12T13:07:24.871574Z",
     "iopub.status.busy": "2022-07-12T13:07:24.870238Z",
     "iopub.status.idle": "2022-07-12T13:07:24.888844Z",
     "shell.execute_reply": "2022-07-12T13:07:24.887380Z"
    },
    "papermill": {
     "duration": 0.033504,
     "end_time": "2022-07-12T13:07:24.890738",
     "exception": false,
     "start_time": "2022-07-12T13:07:24.857234",
     "status": "completed"
    },
    "tags": []
   },
   "outputs": [
    {
     "data": {
      "text/html": [
       "'Matrix is already positive definite!'"
      ],
      "text/latex": [
       "'Matrix is already positive definite!'"
      ],
      "text/markdown": [
       "'Matrix is already positive definite!'"
      ],
      "text/plain": [
       "[1] \"Matrix is already positive definite!\""
      ]
     },
     "metadata": {},
     "output_type": "display_data"
    },
    {
     "data": {
      "text/html": [
       "TRUE"
      ],
      "text/latex": [
       "TRUE"
      ],
      "text/markdown": [
       "TRUE"
      ],
      "text/plain": [
       "[1] TRUE"
      ]
     },
     "metadata": {},
     "output_type": "display_data"
    }
   ],
   "source": [
    "if (orig_matrix_is_positive_definite) {\n",
    "  IRdisplay::display(\"Matrix is already positive definite!\")\n",
    "  file.copy(INPUT_FILE, OUTPUT_FILE)\n",
    "} else {\n",
    "  IRdisplay::display(\"We need to correct the data and make the matrix positive definite\")\n",
    "\n",
    "  eigenvalues <- eigen(gene_corrs)$values\n",
    "  nonpositive_eigenvalues <- eigenvalues[eigenvalues <= 0]\n",
    "  IRdisplay::display(length(nonpositive_eigenvalues))\n",
    "  IRdisplay::display(nonpositive_eigenvalues)\n",
    "\n",
    "  # Make matrix positive definite\n",
    "  gene_corrs_corrected <- CorrectCM(gene_corrs, 1e-10)\n",
    "  dimnames(gene_corrs_corrected)[[1]] <- rownames(gene_corrs)\n",
    "  dimnames(gene_corrs_corrected)[[2]] <- colnames(gene_corrs)\n",
    "  gene_corrs_corrected <- as.data.frame(gene_corrs_corrected)\n",
    "\n",
    "  # check if new matrix is really positive definite\n",
    "  matrix_is_positive_definite <- is_positive_definite(gene_corrs_corrected)\n",
    "  if (matrix_is_positive_definite) {\n",
    "    IRdisplay::display(\"It worked!\")\n",
    "    IRdisplay::display(head(gene_corrs[1:10, 1:10]))\n",
    "    IRdisplay::display(head(gene_corrs_corrected[1:10, 1:10]))\n",
    "    py_save_object(gene_corrs_corrected, OUTPUT_FILE)\n",
    "  } else {\n",
    "    eigenvalues <- eigen(gene_corrs_corrected)$values\n",
    "    nonpositive_eigenvalues <- eigenvalues[eigenvalues <= 0]\n",
    "    IRdisplay::display(length(nonpositive_eigenvalues))\n",
    "    IRdisplay::display(nonpositive_eigenvalues)\n",
    "\n",
    "    stop(\"Method failed to adjust matrix\")\n",
    "  }\n",
    "}"
   ]
  },
  {
   "cell_type": "markdown",
   "id": "6c196700-7491-462f-bab8-ab9d40c63499",
   "metadata": {
    "papermill": {
     "duration": 0.014897,
     "end_time": "2022-07-12T13:07:24.910617",
     "exception": false,
     "start_time": "2022-07-12T13:07:24.895720",
     "status": "completed"
    },
    "tags": []
   },
   "source": [
    "Both matrices should \"look\" similar. We are not interested in perfectly accurate correlation values (they are already inaccurate)."
   ]
  },
  {
   "cell_type": "code",
   "execution_count": null,
   "id": "d8ae4220-2171-460c-9231-cd5219f3fe77",
   "metadata": {
    "papermill": {
     "duration": 0.005058,
     "end_time": "2022-07-12T13:07:24.927213",
     "exception": false,
     "start_time": "2022-07-12T13:07:24.922155",
     "status": "completed"
    },
    "tags": []
   },
   "outputs": [],
   "source": []
  }
 ],
 "metadata": {
  "jupytext": {
   "cell_metadata_filter": "all,-execution,-papermill,-trusted"
  },
  "kernelspec": {
   "display_name": "R",
   "language": "R",
   "name": "ir"
  },
  "language_info": {
   "codemirror_mode": "r",
   "file_extension": ".r",
   "mimetype": "text/x-r-source",
   "name": "R",
   "pygments_lexer": "r",
   "version": "3.6.3"
  },
  "papermill": {
   "default_parameters": {},
   "duration": 5.006144,
   "end_time": "2022-07-12T13:07:25.051191",
   "environment_variables": {},
   "exception": null,
   "input_path": "nbs/15_gsa_gls/12-gene_expr_correlations-adjust.ipynb",
   "output_path": "nbs/15_gsa_gls/gene_corrs/1000g/mashr/12-gene_expr_correlations-adjust-chr10.run.ipynb",
   "parameters": {
    "EQTL_MODEL": "MASHR",
    "REFERENCE_PANEL": "1000G",
    "chromosome": 10
   },
   "start_time": "2022-07-12T13:07:20.045047",
   "version": "2.3.4"
  }
 },
 "nbformat": 4,
 "nbformat_minor": 5
}
