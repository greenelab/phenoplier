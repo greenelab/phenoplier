{
 "cells": [
  {
   "cell_type": "markdown",
   "id": "28fc82fa-c3f6-4184-8054-cc91c7c6e2e7",
   "metadata": {
    "papermill": {
     "duration": 0.004046,
     "end_time": "2022-07-11T13:18:05.603440",
     "exception": false,
     "start_time": "2022-07-11T13:18:05.599394",
     "status": "completed"
    },
    "tags": []
   },
   "source": [
    "# Description"
   ]
  },
  {
   "cell_type": "markdown",
   "id": "36839b17-916e-4aec-8fee-96faf1097e78",
   "metadata": {
    "papermill": {
     "duration": 0.006433,
     "end_time": "2022-07-11T13:18:05.616533",
     "exception": false,
     "start_time": "2022-07-11T13:18:05.610100",
     "status": "completed"
    },
    "tags": []
   },
   "source": [
    "**TODO**"
   ]
  },
  {
   "cell_type": "markdown",
   "id": "249e8aa3-ef1a-4bba-a6dd-58120ad80794",
   "metadata": {
    "papermill": {
     "duration": 0.006254,
     "end_time": "2022-07-11T13:18:05.629087",
     "exception": false,
     "start_time": "2022-07-11T13:18:05.622833",
     "status": "completed"
    },
    "tags": []
   },
   "source": [
    "# Modules"
   ]
  },
  {
   "cell_type": "code",
   "execution_count": 1,
   "id": "f9b5022b-7c5e-4d37-9c7a-fdb91777c7f9",
   "metadata": {
    "execution": {
     "iopub.execute_input": "2022-07-11T13:18:05.644906Z",
     "iopub.status.busy": "2022-07-11T13:18:05.643305Z",
     "iopub.status.idle": "2022-07-11T13:18:08.960217Z",
     "shell.execute_reply": "2022-07-11T13:18:08.958683Z"
    },
    "papermill": {
     "duration": 3.326637,
     "end_time": "2022-07-11T13:18:08.962155",
     "exception": false,
     "start_time": "2022-07-11T13:18:05.635518",
     "status": "completed"
    },
    "tags": []
   },
   "outputs": [],
   "source": [
    "library(reticulate)\n",
    "pd <- import(\"pandas\")"
   ]
  },
  {
   "cell_type": "markdown",
   "id": "69e80173-3a39-4b6a-b723-602687cb255b",
   "metadata": {
    "papermill": {
     "duration": 0.004001,
     "end_time": "2022-07-11T13:18:08.969958",
     "exception": false,
     "start_time": "2022-07-11T13:18:08.965957",
     "status": "completed"
    },
    "tags": []
   },
   "source": [
    "# Settings"
   ]
  },
  {
   "cell_type": "code",
   "execution_count": 2,
   "id": "22d12bb4-1699-4a6b-b1b9-d3fdd3d547d7",
   "metadata": {
    "execution": {
     "iopub.execute_input": "2022-07-11T13:18:09.004695Z",
     "iopub.status.busy": "2022-07-11T13:18:08.979082Z",
     "iopub.status.idle": "2022-07-11T13:18:09.018316Z",
     "shell.execute_reply": "2022-07-11T13:18:09.016916Z"
    },
    "papermill": {
     "duration": 0.046292,
     "end_time": "2022-07-11T13:18:09.020294",
     "exception": false,
     "start_time": "2022-07-11T13:18:08.974002",
     "status": "completed"
    },
    "tags": [
     "parameters"
    ]
   },
   "outputs": [],
   "source": [
    "# reference panel\n",
    "REFERENCE_PANEL <- \"GTEX_V8\"\n",
    "# REFERENCE_PANEL = \"1000G\"\n",
    "\n",
    "# prediction models\n",
    "## mashr\n",
    "EQTL_MODEL <- \"MASHR\"\n",
    "\n",
    "chromosome <- NULL"
   ]
  },
  {
   "cell_type": "code",
   "execution_count": 3,
   "id": "a534c7e5",
   "metadata": {
    "execution": {
     "iopub.execute_input": "2022-07-11T13:18:09.030620Z",
     "iopub.status.busy": "2022-07-11T13:18:09.029421Z",
     "iopub.status.idle": "2022-07-11T13:18:09.048417Z",
     "shell.execute_reply": "2022-07-11T13:18:09.047120Z"
    },
    "papermill": {
     "duration": 0.025964,
     "end_time": "2022-07-11T13:18:09.050190",
     "exception": false,
     "start_time": "2022-07-11T13:18:09.024226",
     "status": "completed"
    },
    "tags": [
     "injected-parameters"
    ]
   },
   "outputs": [],
   "source": [
    "# Parameters\n",
    "chromosome = 20\n",
    "REFERENCE_PANEL = \"1000G\"\n",
    "EQTL_MODEL = \"MASHR\"\n"
   ]
  },
  {
   "cell_type": "code",
   "execution_count": 4,
   "id": "8fe24bef",
   "metadata": {
    "execution": {
     "iopub.execute_input": "2022-07-11T13:18:09.060039Z",
     "iopub.status.busy": "2022-07-11T13:18:09.058882Z",
     "iopub.status.idle": "2022-07-11T13:18:09.073001Z",
     "shell.execute_reply": "2022-07-11T13:18:09.071600Z"
    },
    "papermill": {
     "duration": 0.02081,
     "end_time": "2022-07-11T13:18:09.074839",
     "exception": false,
     "start_time": "2022-07-11T13:18:09.054029",
     "status": "completed"
    },
    "tags": []
   },
   "outputs": [
    {
     "data": {
      "text/html": [
       "'Using reference panel: 1000G'"
      ],
      "text/latex": [
       "'Using reference panel: 1000G'"
      ],
      "text/markdown": [
       "'Using reference panel: 1000G'"
      ],
      "text/plain": [
       "[1] \"Using reference panel: 1000G\""
      ]
     },
     "metadata": {},
     "output_type": "display_data"
    }
   ],
   "source": [
    "paste0(\"Using reference panel: \", REFERENCE_PANEL)"
   ]
  },
  {
   "cell_type": "code",
   "execution_count": 5,
   "id": "d62c28f8-186c-478b-948c-58e14f00df4b",
   "metadata": {
    "execution": {
     "iopub.execute_input": "2022-07-11T13:18:09.085178Z",
     "iopub.status.busy": "2022-07-11T13:18:09.084038Z",
     "iopub.status.idle": "2022-07-11T13:18:09.096289Z",
     "shell.execute_reply": "2022-07-11T13:18:09.094936Z"
    },
    "papermill": {
     "duration": 0.019198,
     "end_time": "2022-07-11T13:18:09.098139",
     "exception": false,
     "start_time": "2022-07-11T13:18:09.078941",
     "status": "completed"
    },
    "tags": []
   },
   "outputs": [
    {
     "data": {
      "text/html": [
       "'Using eQTL model: MASHR'"
      ],
      "text/latex": [
       "'Using eQTL model: MASHR'"
      ],
      "text/markdown": [
       "'Using eQTL model: MASHR'"
      ],
      "text/plain": [
       "[1] \"Using eQTL model: MASHR\""
      ]
     },
     "metadata": {},
     "output_type": "display_data"
    }
   ],
   "source": [
    "paste0(\"Using eQTL model: \", EQTL_MODEL)"
   ]
  },
  {
   "cell_type": "code",
   "execution_count": 6,
   "id": "5243676f-c889-4405-9a4d-262f0f044614",
   "metadata": {
    "execution": {
     "iopub.execute_input": "2022-07-11T13:18:09.109097Z",
     "iopub.status.busy": "2022-07-11T13:18:09.107870Z",
     "iopub.status.idle": "2022-07-11T13:18:09.118417Z",
     "shell.execute_reply": "2022-07-11T13:18:09.117082Z"
    },
    "papermill": {
     "duration": 0.017947,
     "end_time": "2022-07-11T13:18:09.120264",
     "exception": false,
     "start_time": "2022-07-11T13:18:09.102317",
     "status": "completed"
    },
    "tags": []
   },
   "outputs": [],
   "source": [
    "# chromosome must be provided as parameter\n",
    "stopifnot(!is.null(chromosome))"
   ]
  },
  {
   "cell_type": "markdown",
   "id": "c05e4d34-e115-48cd-8a2e-225109eb0042",
   "metadata": {
    "papermill": {
     "duration": 0.003894,
     "end_time": "2022-07-11T13:18:09.129055",
     "exception": false,
     "start_time": "2022-07-11T13:18:09.125161",
     "status": "completed"
    },
    "tags": []
   },
   "source": [
    "# Paths"
   ]
  },
  {
   "cell_type": "code",
   "execution_count": 7,
   "id": "eb6aa8aa-b452-4a2f-a780-93dd80ad4285",
   "metadata": {
    "execution": {
     "iopub.execute_input": "2022-07-11T13:18:09.138994Z",
     "iopub.status.busy": "2022-07-11T13:18:09.137951Z",
     "iopub.status.idle": "2022-07-11T13:18:09.151089Z",
     "shell.execute_reply": "2022-07-11T13:18:09.149809Z"
    },
    "papermill": {
     "duration": 0.019914,
     "end_time": "2022-07-11T13:18:09.152936",
     "exception": false,
     "start_time": "2022-07-11T13:18:09.133022",
     "status": "completed"
    },
    "tags": []
   },
   "outputs": [
    {
     "data": {
      "text/html": [
       "'/opt/data/data/phenomexcan/ld_blocks/gene_corrs'"
      ],
      "text/latex": [
       "'/opt/data/data/phenomexcan/ld\\_blocks/gene\\_corrs'"
      ],
      "text/markdown": [
       "'/opt/data/data/phenomexcan/ld_blocks/gene_corrs'"
      ],
      "text/plain": [
       "[1] \"/opt/data/data/phenomexcan/ld_blocks/gene_corrs\""
      ]
     },
     "metadata": {},
     "output_type": "display_data"
    }
   ],
   "source": [
    "GENE_CORRS_DIR <- Sys.getenv(\"PHENOPLIER_PHENOMEXCAN_LD_BLOCKS_GENE_CORRS_DIR\")\n",
    "IRdisplay::display(GENE_CORRS_DIR)"
   ]
  },
  {
   "cell_type": "code",
   "execution_count": 8,
   "id": "eb24f15f-f282-4476-8943-8413c4483f12",
   "metadata": {
    "execution": {
     "iopub.execute_input": "2022-07-11T13:18:09.163285Z",
     "iopub.status.busy": "2022-07-11T13:18:09.162195Z",
     "iopub.status.idle": "2022-07-11T13:18:09.175493Z",
     "shell.execute_reply": "2022-07-11T13:18:09.174230Z"
    },
    "papermill": {
     "duration": 0.020348,
     "end_time": "2022-07-11T13:18:09.177346",
     "exception": false,
     "start_time": "2022-07-11T13:18:09.156998",
     "status": "completed"
    },
    "tags": []
   },
   "outputs": [
    {
     "data": {
      "text/html": [
       "'/opt/data/data/phenomexcan/ld_blocks/gene_corrs/1000g/mashr/by_chr'"
      ],
      "text/latex": [
       "'/opt/data/data/phenomexcan/ld\\_blocks/gene\\_corrs/1000g/mashr/by\\_chr'"
      ],
      "text/markdown": [
       "'/opt/data/data/phenomexcan/ld_blocks/gene_corrs/1000g/mashr/by_chr'"
      ],
      "text/plain": [
       "[1] \"/opt/data/data/phenomexcan/ld_blocks/gene_corrs/1000g/mashr/by_chr\""
      ]
     },
     "metadata": {},
     "output_type": "display_data"
    }
   ],
   "source": [
    "INPUT_DIR <- file.path(GENE_CORRS_DIR, tolower(REFERENCE_PANEL), tolower(EQTL_MODEL), \"by_chr\")\n",
    "IRdisplay::display(INPUT_DIR)"
   ]
  },
  {
   "cell_type": "code",
   "execution_count": 9,
   "id": "43c1daba-0da9-4822-8d1e-968e9767e251",
   "metadata": {
    "execution": {
     "iopub.execute_input": "2022-07-11T13:18:09.187466Z",
     "iopub.status.busy": "2022-07-11T13:18:09.186396Z",
     "iopub.status.idle": "2022-07-11T13:18:09.200023Z",
     "shell.execute_reply": "2022-07-11T13:18:09.198860Z"
    },
    "papermill": {
     "duration": 0.020163,
     "end_time": "2022-07-11T13:18:09.201705",
     "exception": false,
     "start_time": "2022-07-11T13:18:09.181542",
     "status": "completed"
    },
    "tags": []
   },
   "outputs": [
    {
     "data": {
      "text/html": [
       "'/opt/data/data/phenomexcan/ld_blocks/gene_corrs/1000g/mashr/by_chr/gene_corrs-chr20.pkl'"
      ],
      "text/latex": [
       "'/opt/data/data/phenomexcan/ld\\_blocks/gene\\_corrs/1000g/mashr/by\\_chr/gene\\_corrs-chr20.pkl'"
      ],
      "text/markdown": [
       "'/opt/data/data/phenomexcan/ld_blocks/gene_corrs/1000g/mashr/by_chr/gene_corrs-chr20.pkl'"
      ],
      "text/plain": [
       "[1] \"/opt/data/data/phenomexcan/ld_blocks/gene_corrs/1000g/mashr/by_chr/gene_corrs-chr20.pkl\""
      ]
     },
     "metadata": {},
     "output_type": "display_data"
    }
   ],
   "source": [
    "INPUT_FILE <- file.path(INPUT_DIR, paste0(\"gene_corrs-chr\", chromosome, \".pkl\"))\n",
    "IRdisplay::display(INPUT_FILE)\n",
    "stopifnot(file.exists(INPUT_FILE))"
   ]
  },
  {
   "cell_type": "code",
   "execution_count": 10,
   "id": "72386fbf-982b-420a-9057-ea9a97a5e571",
   "metadata": {
    "execution": {
     "iopub.execute_input": "2022-07-11T13:18:09.211676Z",
     "iopub.status.busy": "2022-07-11T13:18:09.210644Z",
     "iopub.status.idle": "2022-07-11T13:18:09.224689Z",
     "shell.execute_reply": "2022-07-11T13:18:09.223501Z"
    },
    "papermill": {
     "duration": 0.020696,
     "end_time": "2022-07-11T13:18:09.226395",
     "exception": false,
     "start_time": "2022-07-11T13:18:09.205699",
     "status": "completed"
    },
    "tags": []
   },
   "outputs": [
    {
     "data": {
      "text/html": [
       "'/opt/data/data/phenomexcan/ld_blocks/gene_corrs/1000g/mashr/by_chr/corrected_positive_definite'"
      ],
      "text/latex": [
       "'/opt/data/data/phenomexcan/ld\\_blocks/gene\\_corrs/1000g/mashr/by\\_chr/corrected\\_positive\\_definite'"
      ],
      "text/markdown": [
       "'/opt/data/data/phenomexcan/ld_blocks/gene_corrs/1000g/mashr/by_chr/corrected_positive_definite'"
      ],
      "text/plain": [
       "[1] \"/opt/data/data/phenomexcan/ld_blocks/gene_corrs/1000g/mashr/by_chr/corrected_positive_definite\""
      ]
     },
     "metadata": {},
     "output_type": "display_data"
    }
   ],
   "source": [
    "OUTPUT_DIR <- file.path(INPUT_DIR, \"corrected_positive_definite\")\n",
    "IRdisplay::display(OUTPUT_DIR)\n",
    "dir.create(OUTPUT_DIR, recursive = TRUE, showWarnings = FALSE)"
   ]
  },
  {
   "cell_type": "code",
   "execution_count": 11,
   "id": "f9f19d1d-ce4c-4099-a26e-250fec751de7",
   "metadata": {
    "execution": {
     "iopub.execute_input": "2022-07-11T13:18:09.236656Z",
     "iopub.status.busy": "2022-07-11T13:18:09.235651Z",
     "iopub.status.idle": "2022-07-11T13:18:09.250165Z",
     "shell.execute_reply": "2022-07-11T13:18:09.248854Z"
    },
    "papermill": {
     "duration": 0.021419,
     "end_time": "2022-07-11T13:18:09.252094",
     "exception": false,
     "start_time": "2022-07-11T13:18:09.230675",
     "status": "completed"
    },
    "tags": []
   },
   "outputs": [
    {
     "data": {
      "text/html": [
       "'/opt/data/data/phenomexcan/ld_blocks/gene_corrs/1000g/mashr/by_chr/corrected_positive_definite/gene_corrs-chr20.pkl'"
      ],
      "text/latex": [
       "'/opt/data/data/phenomexcan/ld\\_blocks/gene\\_corrs/1000g/mashr/by\\_chr/corrected\\_positive\\_definite/gene\\_corrs-chr20.pkl'"
      ],
      "text/markdown": [
       "'/opt/data/data/phenomexcan/ld_blocks/gene_corrs/1000g/mashr/by_chr/corrected_positive_definite/gene_corrs-chr20.pkl'"
      ],
      "text/plain": [
       "[1] \"/opt/data/data/phenomexcan/ld_blocks/gene_corrs/1000g/mashr/by_chr/corrected_positive_definite/gene_corrs-chr20.pkl\""
      ]
     },
     "metadata": {},
     "output_type": "display_data"
    }
   ],
   "source": [
    "OUTPUT_FILE <- file.path(OUTPUT_DIR, paste0(\"gene_corrs-chr\", chromosome, \".pkl\"))\n",
    "IRdisplay::display(OUTPUT_FILE)\n",
    "if (file.exists(OUTPUT_FILE)) {\n",
    "  IRdisplay::display(\"Output file exists, it will be overwritten\")\n",
    "}"
   ]
  },
  {
   "cell_type": "markdown",
   "id": "24973e62-e888-4b56-843f-489d8d0762b5",
   "metadata": {
    "papermill": {
     "duration": 0.004639,
     "end_time": "2022-07-11T13:18:09.261438",
     "exception": false,
     "start_time": "2022-07-11T13:18:09.256799",
     "status": "completed"
    },
    "tags": []
   },
   "source": [
    "# Functions"
   ]
  },
  {
   "cell_type": "code",
   "execution_count": 12,
   "id": "f828f081-7358-4cc8-8a89-1ee293bcc1a7",
   "metadata": {
    "execution": {
     "iopub.execute_input": "2022-07-11T13:18:09.276437Z",
     "iopub.status.busy": "2022-07-11T13:18:09.271953Z",
     "iopub.status.idle": "2022-07-11T13:18:09.285938Z",
     "shell.execute_reply": "2022-07-11T13:18:09.284581Z"
    },
    "papermill": {
     "duration": 0.021606,
     "end_time": "2022-07-11T13:18:09.287850",
     "exception": false,
     "start_time": "2022-07-11T13:18:09.266244",
     "status": "completed"
    },
    "tags": []
   },
   "outputs": [],
   "source": [
    "# taken from https://www.r-bloggers.com/2013/08/correcting-a-pseudo-correlation-matrix-to-be-positive-semidefinite/\n",
    "# TODO: add documentation\n",
    "CorrectCM <- function(CM, p = 0) {\n",
    "  n <- dim(var(CM))[1L]\n",
    "  E <- eigen(CM)\n",
    "  CM1 <- E$vectors %*% tcrossprod(diag(pmax(E$values, p), n), E$vectors)\n",
    "  Balance <- diag(1 / sqrt(diag(CM1)))\n",
    "  CM2 <- Balance %*% CM1 %*% Balance\n",
    "  return(CM2)\n",
    "}"
   ]
  },
  {
   "cell_type": "code",
   "execution_count": 13,
   "id": "7ab9bebf-50a1-4e6f-b16a-e23cae93d02a",
   "metadata": {
    "execution": {
     "iopub.execute_input": "2022-07-11T13:18:09.299280Z",
     "iopub.status.busy": "2022-07-11T13:18:09.298270Z",
     "iopub.status.idle": "2022-07-11T13:18:09.308896Z",
     "shell.execute_reply": "2022-07-11T13:18:09.307316Z"
    },
    "papermill": {
     "duration": 0.018416,
     "end_time": "2022-07-11T13:18:09.310929",
     "exception": false,
     "start_time": "2022-07-11T13:18:09.292513",
     "status": "completed"
    },
    "tags": []
   },
   "outputs": [],
   "source": [
    "is_positive_definite <- function(data) {\n",
    "  # eigenvalues <- eigen(data)$values\n",
    "  # nonpositive_eigenvalues <- eigenvalues[eigenvalues <= 0]\n",
    "\n",
    "  cholStatus <- try(u <- chol(data), silent = FALSE)\n",
    "  cholError <- ifelse(class(cholStatus) == \"try-error\", TRUE, FALSE)\n",
    "\n",
    "  if (cholError) {\n",
    "    return(FALSE)\n",
    "  } else {\n",
    "    return(TRUE)\n",
    "  }\n",
    "}"
   ]
  },
  {
   "cell_type": "markdown",
   "id": "7403fd78-00b2-4941-9c07-3c3af1ddc636",
   "metadata": {
    "papermill": {
     "duration": 0.004548,
     "end_time": "2022-07-11T13:18:09.320858",
     "exception": false,
     "start_time": "2022-07-11T13:18:09.316310",
     "status": "completed"
    },
    "tags": []
   },
   "source": [
    "# Load data"
   ]
  },
  {
   "cell_type": "code",
   "execution_count": 14,
   "id": "3a7744e1-2e5a-450e-9dcf-945ec181347d",
   "metadata": {
    "execution": {
     "iopub.execute_input": "2022-07-11T13:18:09.332185Z",
     "iopub.status.busy": "2022-07-11T13:18:09.330907Z",
     "iopub.status.idle": "2022-07-11T13:18:09.377727Z",
     "shell.execute_reply": "2022-07-11T13:18:09.375432Z"
    },
    "papermill": {
     "duration": 0.054433,
     "end_time": "2022-07-11T13:18:09.379747",
     "exception": false,
     "start_time": "2022-07-11T13:18:09.325314",
     "status": "completed"
    },
    "tags": []
   },
   "outputs": [],
   "source": [
    "gene_corrs <- pd$read_pickle(INPUT_FILE)"
   ]
  },
  {
   "cell_type": "code",
   "execution_count": 15,
   "id": "6fb150b2-4c68-4e9b-9aa5-1890d3f762e3",
   "metadata": {
    "execution": {
     "iopub.execute_input": "2022-07-11T13:18:09.391651Z",
     "iopub.status.busy": "2022-07-11T13:18:09.390436Z",
     "iopub.status.idle": "2022-07-11T13:18:09.404016Z",
     "shell.execute_reply": "2022-07-11T13:18:09.402677Z"
    },
    "papermill": {
     "duration": 0.021333,
     "end_time": "2022-07-11T13:18:09.405966",
     "exception": false,
     "start_time": "2022-07-11T13:18:09.384633",
     "status": "completed"
    },
    "tags": []
   },
   "outputs": [
    {
     "data": {
      "text/html": [
       "<style>\n",
       ".list-inline {list-style: none; margin:0; padding: 0}\n",
       ".list-inline>li {display: inline-block}\n",
       ".list-inline>li:not(:last-child)::after {content: \"\\00b7\"; padding: 0 .5ex}\n",
       "</style>\n",
       "<ol class=list-inline><li>187</li><li>187</li></ol>\n"
      ],
      "text/latex": [
       "\\begin{enumerate*}\n",
       "\\item 187\n",
       "\\item 187\n",
       "\\end{enumerate*}\n"
      ],
      "text/markdown": [
       "1. 187\n",
       "2. 187\n",
       "\n",
       "\n"
      ],
      "text/plain": [
       "[1] 187 187"
      ]
     },
     "metadata": {},
     "output_type": "display_data"
    }
   ],
   "source": [
    "dim(gene_corrs)"
   ]
  },
  {
   "cell_type": "code",
   "execution_count": 16,
   "id": "0d4e53b5-7586-4a68-8ce5-d930d74ba943",
   "metadata": {
    "execution": {
     "iopub.execute_input": "2022-07-11T13:18:09.418408Z",
     "iopub.status.busy": "2022-07-11T13:18:09.417091Z",
     "iopub.status.idle": "2022-07-11T13:18:09.442258Z",
     "shell.execute_reply": "2022-07-11T13:18:09.440823Z"
    },
    "papermill": {
     "duration": 0.033321,
     "end_time": "2022-07-11T13:18:09.444113",
     "exception": false,
     "start_time": "2022-07-11T13:18:09.410792",
     "status": "completed"
    },
    "tags": []
   },
   "outputs": [
    {
     "data": {
      "text/html": [
       "<table class=\"dataframe\">\n",
       "<caption>A data.frame: 6 × 10</caption>\n",
       "<thead>\n",
       "\t<tr><th></th><th scope=col>ENSG00000101255</th><th scope=col>ENSG00000125826</th><th scope=col>ENSG00000101266</th><th scope=col>ENSG00000101280</th><th scope=col>ENSG00000125818</th><th scope=col>ENSG00000101298</th><th scope=col>ENSG00000088832</th><th scope=col>ENSG00000101307</th><th scope=col>ENSG00000089012</th><th scope=col>ENSG00000198053</th></tr>\n",
       "\t<tr><th></th><th scope=col>&lt;dbl&gt;</th><th scope=col>&lt;dbl&gt;</th><th scope=col>&lt;dbl&gt;</th><th scope=col>&lt;dbl&gt;</th><th scope=col>&lt;dbl&gt;</th><th scope=col>&lt;dbl&gt;</th><th scope=col>&lt;dbl&gt;</th><th scope=col>&lt;dbl&gt;</th><th scope=col>&lt;dbl&gt;</th><th scope=col>&lt;dbl&gt;</th></tr>\n",
       "</thead>\n",
       "<tbody>\n",
       "\t<tr><th scope=row>ENSG00000101255</th><td>1.000000000</td><td>0.05068269</td><td>0.017861104</td><td>0.011774588</td><td>0.002719712</td><td>0.00814416</td><td>0.01309113</td><td>0.003197765</td><td>0.01035162</td><td>0.01063901</td></tr>\n",
       "\t<tr><th scope=row>ENSG00000125826</th><td>0.050682690</td><td>1.00000000</td><td>0.066957862</td><td>0.008756830</td><td>0.004395320</td><td>0.01677144</td><td>0.01506084</td><td>0.008081757</td><td>0.01372676</td><td>0.01449992</td></tr>\n",
       "\t<tr><th scope=row>ENSG00000101266</th><td>0.017861104</td><td>0.06695786</td><td>1.000000000</td><td>0.014596113</td><td>0.005386047</td><td>0.01514657</td><td>0.01511090</td><td>0.005819456</td><td>0.01361762</td><td>0.01244477</td></tr>\n",
       "\t<tr><th scope=row>ENSG00000101280</th><td>0.011774588</td><td>0.00875683</td><td>0.014596113</td><td>1.000000000</td><td>0.009148151</td><td>0.01389990</td><td>0.02096479</td><td>0.006433103</td><td>0.01484844</td><td>0.02098590</td></tr>\n",
       "\t<tr><th scope=row>ENSG00000125818</th><td>0.002719712</td><td>0.00439532</td><td>0.005386047</td><td>0.009148151</td><td>1.000000000</td><td>0.01602667</td><td>0.01320785</td><td>0.004111942</td><td>0.00809658</td><td>0.01088853</td></tr>\n",
       "\t<tr><th scope=row>ENSG00000101298</th><td>0.008144160</td><td>0.01677144</td><td>0.015146573</td><td>0.013899900</td><td>0.016026672</td><td>1.00000000</td><td>0.13626889</td><td>0.009903855</td><td>0.02406512</td><td>0.02144635</td></tr>\n",
       "</tbody>\n",
       "</table>\n"
      ],
      "text/latex": [
       "A data.frame: 6 × 10\n",
       "\\begin{tabular}{r|llllllllll}\n",
       "  & ENSG00000101255 & ENSG00000125826 & ENSG00000101266 & ENSG00000101280 & ENSG00000125818 & ENSG00000101298 & ENSG00000088832 & ENSG00000101307 & ENSG00000089012 & ENSG00000198053\\\\\n",
       "  & <dbl> & <dbl> & <dbl> & <dbl> & <dbl> & <dbl> & <dbl> & <dbl> & <dbl> & <dbl>\\\\\n",
       "\\hline\n",
       "\tENSG00000101255 & 1.000000000 & 0.05068269 & 0.017861104 & 0.011774588 & 0.002719712 & 0.00814416 & 0.01309113 & 0.003197765 & 0.01035162 & 0.01063901\\\\\n",
       "\tENSG00000125826 & 0.050682690 & 1.00000000 & 0.066957862 & 0.008756830 & 0.004395320 & 0.01677144 & 0.01506084 & 0.008081757 & 0.01372676 & 0.01449992\\\\\n",
       "\tENSG00000101266 & 0.017861104 & 0.06695786 & 1.000000000 & 0.014596113 & 0.005386047 & 0.01514657 & 0.01511090 & 0.005819456 & 0.01361762 & 0.01244477\\\\\n",
       "\tENSG00000101280 & 0.011774588 & 0.00875683 & 0.014596113 & 1.000000000 & 0.009148151 & 0.01389990 & 0.02096479 & 0.006433103 & 0.01484844 & 0.02098590\\\\\n",
       "\tENSG00000125818 & 0.002719712 & 0.00439532 & 0.005386047 & 0.009148151 & 1.000000000 & 0.01602667 & 0.01320785 & 0.004111942 & 0.00809658 & 0.01088853\\\\\n",
       "\tENSG00000101298 & 0.008144160 & 0.01677144 & 0.015146573 & 0.013899900 & 0.016026672 & 1.00000000 & 0.13626889 & 0.009903855 & 0.02406512 & 0.02144635\\\\\n",
       "\\end{tabular}\n"
      ],
      "text/markdown": [
       "\n",
       "A data.frame: 6 × 10\n",
       "\n",
       "| <!--/--> | ENSG00000101255 &lt;dbl&gt; | ENSG00000125826 &lt;dbl&gt; | ENSG00000101266 &lt;dbl&gt; | ENSG00000101280 &lt;dbl&gt; | ENSG00000125818 &lt;dbl&gt; | ENSG00000101298 &lt;dbl&gt; | ENSG00000088832 &lt;dbl&gt; | ENSG00000101307 &lt;dbl&gt; | ENSG00000089012 &lt;dbl&gt; | ENSG00000198053 &lt;dbl&gt; |\n",
       "|---|---|---|---|---|---|---|---|---|---|---|\n",
       "| ENSG00000101255 | 1.000000000 | 0.05068269 | 0.017861104 | 0.011774588 | 0.002719712 | 0.00814416 | 0.01309113 | 0.003197765 | 0.01035162 | 0.01063901 |\n",
       "| ENSG00000125826 | 0.050682690 | 1.00000000 | 0.066957862 | 0.008756830 | 0.004395320 | 0.01677144 | 0.01506084 | 0.008081757 | 0.01372676 | 0.01449992 |\n",
       "| ENSG00000101266 | 0.017861104 | 0.06695786 | 1.000000000 | 0.014596113 | 0.005386047 | 0.01514657 | 0.01511090 | 0.005819456 | 0.01361762 | 0.01244477 |\n",
       "| ENSG00000101280 | 0.011774588 | 0.00875683 | 0.014596113 | 1.000000000 | 0.009148151 | 0.01389990 | 0.02096479 | 0.006433103 | 0.01484844 | 0.02098590 |\n",
       "| ENSG00000125818 | 0.002719712 | 0.00439532 | 0.005386047 | 0.009148151 | 1.000000000 | 0.01602667 | 0.01320785 | 0.004111942 | 0.00809658 | 0.01088853 |\n",
       "| ENSG00000101298 | 0.008144160 | 0.01677144 | 0.015146573 | 0.013899900 | 0.016026672 | 1.00000000 | 0.13626889 | 0.009903855 | 0.02406512 | 0.02144635 |\n",
       "\n"
      ],
      "text/plain": [
       "                ENSG00000101255 ENSG00000125826 ENSG00000101266 ENSG00000101280\n",
       "ENSG00000101255 1.000000000     0.05068269      0.017861104     0.011774588    \n",
       "ENSG00000125826 0.050682690     1.00000000      0.066957862     0.008756830    \n",
       "ENSG00000101266 0.017861104     0.06695786      1.000000000     0.014596113    \n",
       "ENSG00000101280 0.011774588     0.00875683      0.014596113     1.000000000    \n",
       "ENSG00000125818 0.002719712     0.00439532      0.005386047     0.009148151    \n",
       "ENSG00000101298 0.008144160     0.01677144      0.015146573     0.013899900    \n",
       "                ENSG00000125818 ENSG00000101298 ENSG00000088832 ENSG00000101307\n",
       "ENSG00000101255 0.002719712     0.00814416      0.01309113      0.003197765    \n",
       "ENSG00000125826 0.004395320     0.01677144      0.01506084      0.008081757    \n",
       "ENSG00000101266 0.005386047     0.01514657      0.01511090      0.005819456    \n",
       "ENSG00000101280 0.009148151     0.01389990      0.02096479      0.006433103    \n",
       "ENSG00000125818 1.000000000     0.01602667      0.01320785      0.004111942    \n",
       "ENSG00000101298 0.016026672     1.00000000      0.13626889      0.009903855    \n",
       "                ENSG00000089012 ENSG00000198053\n",
       "ENSG00000101255 0.01035162      0.01063901     \n",
       "ENSG00000125826 0.01372676      0.01449992     \n",
       "ENSG00000101266 0.01361762      0.01244477     \n",
       "ENSG00000101280 0.01484844      0.02098590     \n",
       "ENSG00000125818 0.00809658      0.01088853     \n",
       "ENSG00000101298 0.02406512      0.02144635     "
      ]
     },
     "metadata": {},
     "output_type": "display_data"
    }
   ],
   "source": [
    "head(gene_corrs[1:10, 1:10])"
   ]
  },
  {
   "cell_type": "markdown",
   "id": "d6cbc88a-2c90-4d11-b7dd-434f046fd03c",
   "metadata": {
    "papermill": {
     "duration": 0.004943,
     "end_time": "2022-07-11T13:18:09.454041",
     "exception": false,
     "start_time": "2022-07-11T13:18:09.449098",
     "status": "completed"
    },
    "tags": []
   },
   "source": [
    "# Check positive definiteness"
   ]
  },
  {
   "cell_type": "code",
   "execution_count": 17,
   "id": "a858a061-7c5a-4a6b-8026-fe4de50c1f26",
   "metadata": {
    "execution": {
     "iopub.execute_input": "2022-07-11T13:18:09.475085Z",
     "iopub.status.busy": "2022-07-11T13:18:09.472668Z",
     "iopub.status.idle": "2022-07-11T13:18:09.489777Z",
     "shell.execute_reply": "2022-07-11T13:18:09.487160Z"
    },
    "papermill": {
     "duration": 0.032857,
     "end_time": "2022-07-11T13:18:09.491842",
     "exception": false,
     "start_time": "2022-07-11T13:18:09.458985",
     "status": "completed"
    },
    "tags": []
   },
   "outputs": [],
   "source": [
    "orig_matrix_is_positive_definite <- is_positive_definite(gene_corrs)"
   ]
  },
  {
   "cell_type": "code",
   "execution_count": 18,
   "id": "410ee452-488f-4518-b93a-2acd608ba99c",
   "metadata": {
    "execution": {
     "iopub.execute_input": "2022-07-11T13:18:09.507410Z",
     "iopub.status.busy": "2022-07-11T13:18:09.506295Z",
     "iopub.status.idle": "2022-07-11T13:18:09.525896Z",
     "shell.execute_reply": "2022-07-11T13:18:09.524503Z"
    },
    "papermill": {
     "duration": 0.029254,
     "end_time": "2022-07-11T13:18:09.527781",
     "exception": false,
     "start_time": "2022-07-11T13:18:09.498527",
     "status": "completed"
    },
    "tags": []
   },
   "outputs": [
    {
     "data": {
      "text/html": [
       "'Matrix is already positive definite!'"
      ],
      "text/latex": [
       "'Matrix is already positive definite!'"
      ],
      "text/markdown": [
       "'Matrix is already positive definite!'"
      ],
      "text/plain": [
       "[1] \"Matrix is already positive definite!\""
      ]
     },
     "metadata": {},
     "output_type": "display_data"
    },
    {
     "data": {
      "text/html": [
       "TRUE"
      ],
      "text/latex": [
       "TRUE"
      ],
      "text/markdown": [
       "TRUE"
      ],
      "text/plain": [
       "[1] TRUE"
      ]
     },
     "metadata": {},
     "output_type": "display_data"
    }
   ],
   "source": [
    "if (orig_matrix_is_positive_definite) {\n",
    "  IRdisplay::display(\"Matrix is already positive definite!\")\n",
    "  file.copy(INPUT_FILE, OUTPUT_FILE)\n",
    "} else {\n",
    "  IRdisplay::display(\"We need to correct the data and make the matrix positive definite\")\n",
    "\n",
    "  eigenvalues <- eigen(gene_corrs)$values\n",
    "  nonpositive_eigenvalues <- eigenvalues[eigenvalues <= 0]\n",
    "  IRdisplay::display(length(nonpositive_eigenvalues))\n",
    "  IRdisplay::display(nonpositive_eigenvalues)\n",
    "\n",
    "  # Make matrix positive definite\n",
    "  gene_corrs_corrected <- CorrectCM(gene_corrs, 1e-10)\n",
    "  dimnames(gene_corrs_corrected)[[1]] <- rownames(gene_corrs)\n",
    "  dimnames(gene_corrs_corrected)[[2]] <- colnames(gene_corrs)\n",
    "  gene_corrs_corrected <- as.data.frame(gene_corrs_corrected)\n",
    "\n",
    "  # check if new matrix is really positive definite\n",
    "  matrix_is_positive_definite <- is_positive_definite(gene_corrs_corrected)\n",
    "  if (matrix_is_positive_definite) {\n",
    "    IRdisplay::display(\"It worked!\")\n",
    "    IRdisplay::display(head(gene_corrs[1:10, 1:10]))\n",
    "    IRdisplay::display(head(gene_corrs_corrected[1:10, 1:10]))\n",
    "    py_save_object(gene_corrs_corrected, OUTPUT_FILE)\n",
    "  } else {\n",
    "    eigenvalues <- eigen(gene_corrs_corrected)$values\n",
    "    nonpositive_eigenvalues <- eigenvalues[eigenvalues <= 0]\n",
    "    IRdisplay::display(length(nonpositive_eigenvalues))\n",
    "    IRdisplay::display(nonpositive_eigenvalues)\n",
    "\n",
    "    stop(\"Method failed to adjust matrix\")\n",
    "  }\n",
    "}"
   ]
  },
  {
   "cell_type": "markdown",
   "id": "6c196700-7491-462f-bab8-ab9d40c63499",
   "metadata": {
    "papermill": {
     "duration": 0.004891,
     "end_time": "2022-07-11T13:18:09.538942",
     "exception": false,
     "start_time": "2022-07-11T13:18:09.534051",
     "status": "completed"
    },
    "tags": []
   },
   "source": [
    "Both matrices should \"look\" similar. We are not interested in perfectly accurate correlation values (they are already inaccurate)."
   ]
  },
  {
   "cell_type": "code",
   "execution_count": null,
   "id": "d8ae4220-2171-460c-9231-cd5219f3fe77",
   "metadata": {
    "papermill": {
     "duration": 0.004542,
     "end_time": "2022-07-11T13:18:09.549217",
     "exception": false,
     "start_time": "2022-07-11T13:18:09.544675",
     "status": "completed"
    },
    "tags": []
   },
   "outputs": [],
   "source": []
  }
 ],
 "metadata": {
  "jupytext": {
   "cell_metadata_filter": "all,-execution,-papermill,-trusted"
  },
  "kernelspec": {
   "display_name": "R",
   "language": "R",
   "name": "ir"
  },
  "language_info": {
   "codemirror_mode": "r",
   "file_extension": ".r",
   "mimetype": "text/x-r-source",
   "name": "R",
   "pygments_lexer": "r",
   "version": "3.6.3"
  },
  "papermill": {
   "default_parameters": {},
   "duration": 5.317631,
   "end_time": "2022-07-11T13:18:09.671157",
   "environment_variables": {},
   "exception": null,
   "input_path": "nbs/15_gsa_gls/12-gene_expr_correlations-adjust.ipynb",
   "output_path": "nbs/15_gsa_gls/gene_corrs/1000g/mashr/12-gene_expr_correlations-adjust-chr20.run.ipynb",
   "parameters": {
    "EQTL_MODEL": "MASHR",
    "REFERENCE_PANEL": "1000G",
    "chromosome": 20
   },
   "start_time": "2022-07-11T13:18:04.353526",
   "version": "2.3.4"
  }
 },
 "nbformat": 4,
 "nbformat_minor": 5
}
