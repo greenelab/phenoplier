{
 "cells": [
  {
   "cell_type": "markdown",
   "id": "7a6632fb",
   "metadata": {
    "papermill": {
     "duration": 0.00598,
     "end_time": "2022-07-11T07:49:54.103105",
     "exception": false,
     "start_time": "2022-07-11T07:49:54.097125",
     "status": "completed"
    },
    "tags": []
   },
   "source": [
    "# Description"
   ]
  },
  {
   "cell_type": "markdown",
   "id": "7097c346",
   "metadata": {
    "papermill": {
     "duration": 0.013201,
     "end_time": "2022-07-11T07:49:54.129687",
     "exception": false,
     "start_time": "2022-07-11T07:49:54.116486",
     "status": "completed"
    },
    "tags": []
   },
   "source": [
    "(Please, take a look at the README.md file in this directory for instructions on how to run this notebook)\n",
    "\n",
    "This notebook computes predicted expression correlations between all genes in the MultiPLIER models.\n",
    "\n",
    "It also has a parameter set for papermill to run on a single chromosome to run in parallel (see under `Settings` below).\n",
    "\n",
    "This notebook is not directly run. See README.md."
   ]
  },
  {
   "cell_type": "markdown",
   "id": "c61d8427",
   "metadata": {
    "papermill": {
     "duration": 0.013341,
     "end_time": "2022-07-11T07:49:54.148349",
     "exception": false,
     "start_time": "2022-07-11T07:49:54.135008",
     "status": "completed"
    },
    "tags": []
   },
   "source": [
    "# Modules"
   ]
  },
  {
   "cell_type": "code",
   "execution_count": 1,
   "id": "bbc0234f",
   "metadata": {
    "execution": {
     "iopub.execute_input": "2022-07-11T07:49:54.167875Z",
     "iopub.status.busy": "2022-07-11T07:49:54.167654Z",
     "iopub.status.idle": "2022-07-11T07:49:54.190636Z",
     "shell.execute_reply": "2022-07-11T07:49:54.190267Z"
    },
    "papermill": {
     "duration": 0.030197,
     "end_time": "2022-07-11T07:49:54.191919",
     "exception": false,
     "start_time": "2022-07-11T07:49:54.161722",
     "status": "completed"
    },
    "tags": []
   },
   "outputs": [],
   "source": [
    "%load_ext autoreload\n",
    "%autoreload 2"
   ]
  },
  {
   "cell_type": "code",
   "execution_count": 2,
   "id": "1d5f5a59",
   "metadata": {
    "execution": {
     "iopub.execute_input": "2022-07-11T07:49:54.211865Z",
     "iopub.status.busy": "2022-07-11T07:49:54.211681Z",
     "iopub.status.idle": "2022-07-11T07:49:55.133033Z",
     "shell.execute_reply": "2022-07-11T07:49:55.132508Z"
    },
    "papermill": {
     "duration": 0.92897,
     "end_time": "2022-07-11T07:49:55.134417",
     "exception": false,
     "start_time": "2022-07-11T07:49:54.205447",
     "status": "completed"
    },
    "tags": []
   },
   "outputs": [],
   "source": [
    "from random import sample, seed\n",
    "import warnings\n",
    "from pathlib import Path\n",
    "\n",
    "import numpy as np\n",
    "from scipy.spatial.distance import squareform\n",
    "import pandas as pd\n",
    "from tqdm import tqdm\n",
    "import matplotlib.pyplot as plt\n",
    "import seaborn as sns\n",
    "\n",
    "import conf\n",
    "from entity import Gene"
   ]
  },
  {
   "cell_type": "markdown",
   "id": "1eac24b5",
   "metadata": {
    "papermill": {
     "duration": 0.011048,
     "end_time": "2022-07-11T07:49:55.179162",
     "exception": false,
     "start_time": "2022-07-11T07:49:55.168114",
     "status": "completed"
    },
    "tags": []
   },
   "source": [
    "# Settings"
   ]
  },
  {
   "cell_type": "code",
   "execution_count": 3,
   "id": "ca4560ba",
   "metadata": {
    "execution": {
     "iopub.execute_input": "2022-07-11T07:49:55.192156Z",
     "iopub.status.busy": "2022-07-11T07:49:55.191833Z",
     "iopub.status.idle": "2022-07-11T07:49:55.207600Z",
     "shell.execute_reply": "2022-07-11T07:49:55.207180Z"
    },
    "papermill": {
     "duration": 0.023789,
     "end_time": "2022-07-11T07:49:55.208959",
     "exception": false,
     "start_time": "2022-07-11T07:49:55.185170",
     "status": "completed"
    },
    "tags": [
     "parameters"
    ]
   },
   "outputs": [],
   "source": [
    "# reference panel\n",
    "REFERENCE_PANEL = \"GTEX_V8\"\n",
    "# REFERENCE_PANEL = \"1000G\"\n",
    "\n",
    "# prediction models\n",
    "## mashr\n",
    "EQTL_MODEL = \"MASHR\"\n",
    "\n",
    "# this is the default value used in S-MultiXcan to select the\n",
    "# top principal components of the expression correlation matrix\n",
    "SMULTIXCAN_CONDITION_NUMBER = 30\n",
    "\n",
    "# specifies a single chromosome value\n",
    "# by default, run on all chromosomes\n",
    "chromosome = None"
   ]
  },
  {
   "cell_type": "code",
   "execution_count": 4,
   "id": "07e66261",
   "metadata": {
    "execution": {
     "iopub.execute_input": "2022-07-11T07:49:55.220968Z",
     "iopub.status.busy": "2022-07-11T07:49:55.220810Z",
     "iopub.status.idle": "2022-07-11T07:49:55.235726Z",
     "shell.execute_reply": "2022-07-11T07:49:55.235319Z"
    },
    "papermill": {
     "duration": 0.022322,
     "end_time": "2022-07-11T07:49:55.237125",
     "exception": false,
     "start_time": "2022-07-11T07:49:55.214803",
     "status": "completed"
    },
    "tags": [
     "injected-parameters"
    ]
   },
   "outputs": [],
   "source": [
    "# Parameters\n",
    "chromosome = 22\n",
    "REFERENCE_PANEL = \"1000G\"\n",
    "EQTL_MODEL = \"MASHR\"\n"
   ]
  },
  {
   "cell_type": "code",
   "execution_count": 5,
   "id": "a089c9ff",
   "metadata": {
    "execution": {
     "iopub.execute_input": "2022-07-11T07:49:55.249082Z",
     "iopub.status.busy": "2022-07-11T07:49:55.248826Z",
     "iopub.status.idle": "2022-07-11T07:49:55.263657Z",
     "shell.execute_reply": "2022-07-11T07:49:55.263206Z"
    },
    "papermill": {
     "duration": 0.022311,
     "end_time": "2022-07-11T07:49:55.265000",
     "exception": false,
     "start_time": "2022-07-11T07:49:55.242689",
     "status": "completed"
    },
    "tags": []
   },
   "outputs": [],
   "source": [
    "EQTL_MODEL_FILES_PREFIX = conf.PHENOMEXCAN[\"PREDICTION_MODELS\"][f\"{EQTL_MODEL}_PREFIX\"]"
   ]
  },
  {
   "cell_type": "code",
   "execution_count": 6,
   "id": "8fe24bef",
   "metadata": {
    "execution": {
     "iopub.execute_input": "2022-07-11T07:49:55.277692Z",
     "iopub.status.busy": "2022-07-11T07:49:55.277527Z",
     "iopub.status.idle": "2022-07-11T07:49:55.296539Z",
     "shell.execute_reply": "2022-07-11T07:49:55.296067Z"
    },
    "papermill": {
     "duration": 0.027046,
     "end_time": "2022-07-11T07:49:55.298052",
     "exception": false,
     "start_time": "2022-07-11T07:49:55.271006",
     "status": "completed"
    },
    "tags": []
   },
   "outputs": [
    {
     "data": {
      "text/plain": [
       "'Using eQTL model: MASHR / mashr_'"
      ]
     },
     "metadata": {},
     "output_type": "display_data"
    }
   ],
   "source": [
    "display(f\"Using eQTL model: {EQTL_MODEL} / {EQTL_MODEL_FILES_PREFIX}\")"
   ]
  },
  {
   "cell_type": "code",
   "execution_count": 7,
   "id": "552a7f63-a18c-4d3e-bb6a-94f99b431291",
   "metadata": {
    "execution": {
     "iopub.execute_input": "2022-07-11T07:49:55.312263Z",
     "iopub.status.busy": "2022-07-11T07:49:55.312094Z",
     "iopub.status.idle": "2022-07-11T07:49:55.331072Z",
     "shell.execute_reply": "2022-07-11T07:49:55.330429Z"
    },
    "papermill": {
     "duration": 0.027904,
     "end_time": "2022-07-11T07:49:55.332785",
     "exception": false,
     "start_time": "2022-07-11T07:49:55.304881",
     "status": "completed"
    },
    "tags": []
   },
   "outputs": [
    {
     "data": {
      "text/plain": [
       "'S-MultiXcan condition number: 30'"
      ]
     },
     "metadata": {},
     "output_type": "display_data"
    }
   ],
   "source": [
    "display(f\"S-MultiXcan condition number: {SMULTIXCAN_CONDITION_NUMBER}\")"
   ]
  },
  {
   "cell_type": "code",
   "execution_count": 8,
   "id": "0230ebcb-2c32-4b95-9292-d9a52038e70d",
   "metadata": {
    "execution": {
     "iopub.execute_input": "2022-07-11T07:49:55.353542Z",
     "iopub.status.busy": "2022-07-11T07:49:55.353026Z",
     "iopub.status.idle": "2022-07-11T07:49:55.370030Z",
     "shell.execute_reply": "2022-07-11T07:49:55.369238Z"
    },
    "papermill": {
     "duration": 0.029794,
     "end_time": "2022-07-11T07:49:55.371356",
     "exception": false,
     "start_time": "2022-07-11T07:49:55.341562",
     "status": "completed"
    },
    "tags": []
   },
   "outputs": [],
   "source": [
    "REFERENCE_PANEL_DIR = conf.PHENOMEXCAN[\"LD_BLOCKS\"][f\"{REFERENCE_PANEL}_GENOTYPE_DIR\"]"
   ]
  },
  {
   "cell_type": "code",
   "execution_count": 9,
   "id": "98c4a159-601d-4a22-a1ab-35bd451c25f9",
   "metadata": {
    "execution": {
     "iopub.execute_input": "2022-07-11T07:49:55.384404Z",
     "iopub.status.busy": "2022-07-11T07:49:55.384239Z",
     "iopub.status.idle": "2022-07-11T07:49:55.402516Z",
     "shell.execute_reply": "2022-07-11T07:49:55.401552Z"
    },
    "papermill": {
     "duration": 0.026533,
     "end_time": "2022-07-11T07:49:55.404147",
     "exception": false,
     "start_time": "2022-07-11T07:49:55.377614",
     "status": "completed"
    },
    "tags": []
   },
   "outputs": [
    {
     "data": {
      "text/plain": [
       "'Using reference panel folder: /opt/data/data/phenomexcan/ld_blocks/reference_panel_1000G'"
      ]
     },
     "metadata": {},
     "output_type": "display_data"
    }
   ],
   "source": [
    "display(f\"Using reference panel folder: {str(REFERENCE_PANEL_DIR)}\")"
   ]
  },
  {
   "cell_type": "code",
   "execution_count": 10,
   "id": "396392dc-0340-4540-9b02-e182b833f909",
   "metadata": {
    "execution": {
     "iopub.execute_input": "2022-07-11T07:49:55.425118Z",
     "iopub.status.busy": "2022-07-11T07:49:55.424717Z",
     "iopub.status.idle": "2022-07-11T07:49:55.444013Z",
     "shell.execute_reply": "2022-07-11T07:49:55.443555Z"
    },
    "papermill": {
     "duration": 0.032836,
     "end_time": "2022-07-11T07:49:55.445559",
     "exception": false,
     "start_time": "2022-07-11T07:49:55.412723",
     "status": "completed"
    },
    "tags": []
   },
   "outputs": [],
   "source": [
    "OUTPUT_DIR_BASE = (\n",
    "    conf.PHENOMEXCAN[\"LD_BLOCKS\"][f\"GENE_CORRS_DIR\"]\n",
    "    / REFERENCE_PANEL.lower()\n",
    "    / EQTL_MODEL.lower()\n",
    ")\n",
    "OUTPUT_DIR_BASE.mkdir(parents=True, exist_ok=True)"
   ]
  },
  {
   "cell_type": "code",
   "execution_count": 11,
   "id": "8942c2d3-e53c-4d63-a0eb-b6fce0574d36",
   "metadata": {
    "execution": {
     "iopub.execute_input": "2022-07-11T07:49:55.460731Z",
     "iopub.status.busy": "2022-07-11T07:49:55.460542Z",
     "iopub.status.idle": "2022-07-11T07:49:55.478544Z",
     "shell.execute_reply": "2022-07-11T07:49:55.478145Z"
    },
    "papermill": {
     "duration": 0.027747,
     "end_time": "2022-07-11T07:49:55.480033",
     "exception": false,
     "start_time": "2022-07-11T07:49:55.452286",
     "status": "completed"
    },
    "tags": []
   },
   "outputs": [
    {
     "data": {
      "text/plain": [
       "'Using output dir base: /opt/data/data/phenomexcan/ld_blocks/gene_corrs/1000g/mashr'"
      ]
     },
     "metadata": {},
     "output_type": "display_data"
    }
   ],
   "source": [
    "display(f\"Using output dir base: {OUTPUT_DIR_BASE}\")"
   ]
  },
  {
   "cell_type": "code",
   "execution_count": 12,
   "id": "408aa590",
   "metadata": {
    "execution": {
     "iopub.execute_input": "2022-07-11T07:49:55.493566Z",
     "iopub.status.busy": "2022-07-11T07:49:55.493406Z",
     "iopub.status.idle": "2022-07-11T07:49:55.508497Z",
     "shell.execute_reply": "2022-07-11T07:49:55.508115Z"
    },
    "papermill": {
     "duration": 0.023237,
     "end_time": "2022-07-11T07:49:55.509888",
     "exception": false,
     "start_time": "2022-07-11T07:49:55.486651",
     "status": "completed"
    },
    "tags": []
   },
   "outputs": [],
   "source": [
    "assert (\n",
    "    chromosome is not None\n",
    "), \"You have to select one chromosome (format: number between 1 and 22)\""
   ]
  },
  {
   "cell_type": "code",
   "execution_count": 13,
   "id": "c1c7dd06-80ff-453c-bcb7-0899edce75da",
   "metadata": {
    "execution": {
     "iopub.execute_input": "2022-07-11T07:49:55.523250Z",
     "iopub.status.busy": "2022-07-11T07:49:55.522862Z",
     "iopub.status.idle": "2022-07-11T07:49:55.537647Z",
     "shell.execute_reply": "2022-07-11T07:49:55.537240Z"
    },
    "papermill": {
     "duration": 0.022878,
     "end_time": "2022-07-11T07:49:55.539135",
     "exception": false,
     "start_time": "2022-07-11T07:49:55.516257",
     "status": "completed"
    },
    "tags": []
   },
   "outputs": [],
   "source": [
    "chromosome = str(chromosome)"
   ]
  },
  {
   "cell_type": "code",
   "execution_count": 14,
   "id": "bc17b84c-9c26-47a5-a3ab-7046e72f3ef4",
   "metadata": {
    "execution": {
     "iopub.execute_input": "2022-07-11T07:49:55.560669Z",
     "iopub.status.busy": "2022-07-11T07:49:55.560487Z",
     "iopub.status.idle": "2022-07-11T07:49:55.578188Z",
     "shell.execute_reply": "2022-07-11T07:49:55.577619Z"
    },
    "papermill": {
     "duration": 0.027607,
     "end_time": "2022-07-11T07:49:55.580947",
     "exception": false,
     "start_time": "2022-07-11T07:49:55.553340",
     "status": "completed"
    },
    "tags": []
   },
   "outputs": [
    {
     "data": {
      "text/plain": [
       "'Working on chromosome 22'"
      ]
     },
     "metadata": {},
     "output_type": "display_data"
    }
   ],
   "source": [
    "display(f\"Working on chromosome {chromosome}\")"
   ]
  },
  {
   "cell_type": "markdown",
   "id": "d2ba085e",
   "metadata": {
    "papermill": {
     "duration": 0.014858,
     "end_time": "2022-07-11T07:49:55.612097",
     "exception": false,
     "start_time": "2022-07-11T07:49:55.597239",
     "status": "completed"
    },
    "tags": []
   },
   "source": [
    "# Load data"
   ]
  },
  {
   "cell_type": "markdown",
   "id": "7bed0ce0-e7c7-4300-9a61-5412450b1904",
   "metadata": {
    "papermill": {
     "duration": 0.013987,
     "end_time": "2022-07-11T07:49:55.641112",
     "exception": false,
     "start_time": "2022-07-11T07:49:55.627125",
     "status": "completed"
    },
    "tags": []
   },
   "source": [
    "## Prediction model tissues"
   ]
  },
  {
   "cell_type": "code",
   "execution_count": 15,
   "id": "0847c065-0d69-4830-a07f-1c75115d17f5",
   "metadata": {
    "execution": {
     "iopub.execute_input": "2022-07-11T07:49:55.668193Z",
     "iopub.status.busy": "2022-07-11T07:49:55.668034Z",
     "iopub.status.idle": "2022-07-11T07:49:55.696724Z",
     "shell.execute_reply": "2022-07-11T07:49:55.696327Z"
    },
    "papermill": {
     "duration": 0.042932,
     "end_time": "2022-07-11T07:49:55.698118",
     "exception": false,
     "start_time": "2022-07-11T07:49:55.655186",
     "status": "completed"
    },
    "tags": []
   },
   "outputs": [],
   "source": [
    "prediction_model_tissues = conf.PHENOMEXCAN[\"PREDICTION_MODELS\"][\n",
    "    f\"{EQTL_MODEL}_TISSUES\"\n",
    "].split(\" \")"
   ]
  },
  {
   "cell_type": "code",
   "execution_count": 16,
   "id": "aaef70d1-30c6-4c6f-9d6b-abc8e9a0081f",
   "metadata": {
    "execution": {
     "iopub.execute_input": "2022-07-11T07:49:55.721126Z",
     "iopub.status.busy": "2022-07-11T07:49:55.720966Z",
     "iopub.status.idle": "2022-07-11T07:49:55.749414Z",
     "shell.execute_reply": "2022-07-11T07:49:55.749018Z"
    },
    "papermill": {
     "duration": 0.042422,
     "end_time": "2022-07-11T07:49:55.750526",
     "exception": false,
     "start_time": "2022-07-11T07:49:55.708104",
     "status": "completed"
    },
    "tags": []
   },
   "outputs": [
    {
     "data": {
      "text/plain": [
       "49"
      ]
     },
     "execution_count": 16,
     "metadata": {},
     "output_type": "execute_result"
    }
   ],
   "source": [
    "len(prediction_model_tissues)"
   ]
  },
  {
   "cell_type": "code",
   "execution_count": 17,
   "id": "ff35a099-c52d-465d-b863-0ee70c26208c",
   "metadata": {
    "execution": {
     "iopub.execute_input": "2022-07-11T07:49:55.773878Z",
     "iopub.status.busy": "2022-07-11T07:49:55.773720Z",
     "iopub.status.idle": "2022-07-11T07:49:55.801470Z",
     "shell.execute_reply": "2022-07-11T07:49:55.801081Z"
    },
    "papermill": {
     "duration": 0.041804,
     "end_time": "2022-07-11T07:49:55.802684",
     "exception": false,
     "start_time": "2022-07-11T07:49:55.760880",
     "status": "completed"
    },
    "tags": []
   },
   "outputs": [
    {
     "data": {
      "text/plain": [
       "['Skin_Not_Sun_Exposed_Suprapubic',\n",
       " 'Cells_EBV-transformed_lymphocytes',\n",
       " 'Brain_Frontal_Cortex_BA9',\n",
       " 'Kidney_Cortex',\n",
       " 'Brain_Substantia_nigra']"
      ]
     },
     "execution_count": 17,
     "metadata": {},
     "output_type": "execute_result"
    }
   ],
   "source": [
    "prediction_model_tissues[:5]"
   ]
  },
  {
   "cell_type": "markdown",
   "id": "abcc4b3d",
   "metadata": {
    "papermill": {
     "duration": 0.006008,
     "end_time": "2022-07-11T07:49:55.819239",
     "exception": false,
     "start_time": "2022-07-11T07:49:55.813231",
     "status": "completed"
    },
    "tags": []
   },
   "source": [
    "## MultiPLIER Z"
   ]
  },
  {
   "cell_type": "code",
   "execution_count": 18,
   "id": "c48ef527",
   "metadata": {
    "execution": {
     "iopub.execute_input": "2022-07-11T07:49:55.832699Z",
     "iopub.status.busy": "2022-07-11T07:49:55.832233Z",
     "iopub.status.idle": "2022-07-11T07:49:55.885605Z",
     "shell.execute_reply": "2022-07-11T07:49:55.885219Z"
    },
    "papermill": {
     "duration": 0.061552,
     "end_time": "2022-07-11T07:49:55.887018",
     "exception": false,
     "start_time": "2022-07-11T07:49:55.825466",
     "status": "completed"
    },
    "tags": []
   },
   "outputs": [],
   "source": [
    "multiplier_z_genes = pd.read_pickle(\n",
    "    conf.MULTIPLIER[\"MODEL_Z_MATRIX_FILE\"]\n",
    ").index.tolist()"
   ]
  },
  {
   "cell_type": "code",
   "execution_count": 19,
   "id": "0a4ecbd9",
   "metadata": {
    "execution": {
     "iopub.execute_input": "2022-07-11T07:49:55.910300Z",
     "iopub.status.busy": "2022-07-11T07:49:55.910142Z",
     "iopub.status.idle": "2022-07-11T07:49:55.925337Z",
     "shell.execute_reply": "2022-07-11T07:49:55.924978Z"
    },
    "papermill": {
     "duration": 0.029238,
     "end_time": "2022-07-11T07:49:55.926442",
     "exception": false,
     "start_time": "2022-07-11T07:49:55.897204",
     "status": "completed"
    },
    "tags": []
   },
   "outputs": [
    {
     "data": {
      "text/plain": [
       "6750"
      ]
     },
     "execution_count": 19,
     "metadata": {},
     "output_type": "execute_result"
    }
   ],
   "source": [
    "len(multiplier_z_genes)"
   ]
  },
  {
   "cell_type": "code",
   "execution_count": 20,
   "id": "115e8864",
   "metadata": {
    "execution": {
     "iopub.execute_input": "2022-07-11T07:49:55.953330Z",
     "iopub.status.busy": "2022-07-11T07:49:55.953178Z",
     "iopub.status.idle": "2022-07-11T07:49:55.978114Z",
     "shell.execute_reply": "2022-07-11T07:49:55.977752Z"
    },
    "papermill": {
     "duration": 0.041414,
     "end_time": "2022-07-11T07:49:55.979269",
     "exception": false,
     "start_time": "2022-07-11T07:49:55.937855",
     "status": "completed"
    },
    "tags": []
   },
   "outputs": [
    {
     "data": {
      "text/plain": [
       "['GAS6',\n",
       " 'MMP14',\n",
       " 'DSP',\n",
       " 'MARCKSL1',\n",
       " 'SPARC',\n",
       " 'CTSD',\n",
       " 'EPAS1',\n",
       " 'PALLD',\n",
       " 'PHC2',\n",
       " 'LGALS3BP']"
      ]
     },
     "execution_count": 20,
     "metadata": {},
     "output_type": "execute_result"
    }
   ],
   "source": [
    "multiplier_z_genes[:10]"
   ]
  },
  {
   "cell_type": "markdown",
   "id": "7dcb8db7",
   "metadata": {
    "papermill": {
     "duration": 0.012475,
     "end_time": "2022-07-11T07:49:56.002032",
     "exception": false,
     "start_time": "2022-07-11T07:49:55.989557",
     "status": "completed"
    },
    "tags": []
   },
   "source": [
    "## Get gene objects"
   ]
  },
  {
   "cell_type": "code",
   "execution_count": 21,
   "id": "bb932812",
   "metadata": {
    "execution": {
     "iopub.execute_input": "2022-07-11T07:49:56.029648Z",
     "iopub.status.busy": "2022-07-11T07:49:56.029489Z",
     "iopub.status.idle": "2022-07-11T07:49:56.070929Z",
     "shell.execute_reply": "2022-07-11T07:49:56.070526Z"
    },
    "papermill": {
     "duration": 0.057098,
     "end_time": "2022-07-11T07:49:56.072245",
     "exception": false,
     "start_time": "2022-07-11T07:49:56.015147",
     "status": "completed"
    },
    "tags": []
   },
   "outputs": [],
   "source": [
    "multiplier_gene_obj = {\n",
    "    gene_name: Gene(name=gene_name)\n",
    "    for gene_name in multiplier_z_genes\n",
    "    if gene_name in Gene.GENE_NAME_TO_ID_MAP\n",
    "}"
   ]
  },
  {
   "cell_type": "code",
   "execution_count": 22,
   "id": "39533214",
   "metadata": {
    "execution": {
     "iopub.execute_input": "2022-07-11T07:49:56.099647Z",
     "iopub.status.busy": "2022-07-11T07:49:56.097918Z",
     "iopub.status.idle": "2022-07-11T07:49:56.125339Z",
     "shell.execute_reply": "2022-07-11T07:49:56.124957Z"
    },
    "papermill": {
     "duration": 0.039682,
     "end_time": "2022-07-11T07:49:56.126458",
     "exception": false,
     "start_time": "2022-07-11T07:49:56.086776",
     "status": "completed"
    },
    "tags": []
   },
   "outputs": [
    {
     "data": {
      "text/plain": [
       "6454"
      ]
     },
     "execution_count": 22,
     "metadata": {},
     "output_type": "execute_result"
    }
   ],
   "source": [
    "len(multiplier_gene_obj)"
   ]
  },
  {
   "cell_type": "code",
   "execution_count": 23,
   "id": "9a5d0b84",
   "metadata": {
    "execution": {
     "iopub.execute_input": "2022-07-11T07:49:56.155650Z",
     "iopub.status.busy": "2022-07-11T07:49:56.151256Z",
     "iopub.status.idle": "2022-07-11T07:49:56.180908Z",
     "shell.execute_reply": "2022-07-11T07:49:56.180323Z"
    },
    "papermill": {
     "duration": 0.044572,
     "end_time": "2022-07-11T07:49:56.182086",
     "exception": false,
     "start_time": "2022-07-11T07:49:56.137514",
     "status": "completed"
    },
    "tags": []
   },
   "outputs": [
    {
     "data": {
      "text/plain": [
       "'ENSG00000183087'"
      ]
     },
     "execution_count": 23,
     "metadata": {},
     "output_type": "execute_result"
    }
   ],
   "source": [
    "multiplier_gene_obj[\"GAS6\"].ensembl_id"
   ]
  },
  {
   "cell_type": "code",
   "execution_count": 24,
   "id": "e3ffabc7",
   "metadata": {
    "execution": {
     "iopub.execute_input": "2022-07-11T07:49:56.203410Z",
     "iopub.status.busy": "2022-07-11T07:49:56.203254Z",
     "iopub.status.idle": "2022-07-11T07:49:58.539744Z",
     "shell.execute_reply": "2022-07-11T07:49:58.539354Z"
    },
    "papermill": {
     "duration": 2.35157,
     "end_time": "2022-07-11T07:49:58.541048",
     "exception": false,
     "start_time": "2022-07-11T07:49:56.189478",
     "status": "completed"
    },
    "tags": []
   },
   "outputs": [],
   "source": [
    "_gene_obj = list(multiplier_gene_obj.values())\n",
    "\n",
    "genes_info = pd.DataFrame(\n",
    "    {\n",
    "        \"name\": [g.name for g in _gene_obj],\n",
    "        \"id\": [g.ensembl_id for g in _gene_obj],\n",
    "        \"chr\": [g.chromosome for g in _gene_obj],\n",
    "        \"band\": [g.band for g in _gene_obj],\n",
    "        \"start_position\": [g.get_attribute(\"start_position\") for g in _gene_obj],\n",
    "    }\n",
    ")"
   ]
  },
  {
   "cell_type": "code",
   "execution_count": 25,
   "id": "e23519b8",
   "metadata": {
    "execution": {
     "iopub.execute_input": "2022-07-11T07:49:58.563602Z",
     "iopub.status.busy": "2022-07-11T07:49:58.563405Z",
     "iopub.status.idle": "2022-07-11T07:49:58.590496Z",
     "shell.execute_reply": "2022-07-11T07:49:58.590091Z"
    },
    "papermill": {
     "duration": 0.039801,
     "end_time": "2022-07-11T07:49:58.591631",
     "exception": false,
     "start_time": "2022-07-11T07:49:58.551830",
     "status": "completed"
    },
    "tags": []
   },
   "outputs": [
    {
     "data": {
      "text/plain": [
       "(6454, 5)"
      ]
     },
     "execution_count": 25,
     "metadata": {},
     "output_type": "execute_result"
    }
   ],
   "source": [
    "genes_info.shape"
   ]
  },
  {
   "cell_type": "code",
   "execution_count": 26,
   "id": "0d71881c",
   "metadata": {
    "execution": {
     "iopub.execute_input": "2022-07-11T07:49:58.623687Z",
     "iopub.status.busy": "2022-07-11T07:49:58.618733Z",
     "iopub.status.idle": "2022-07-11T07:49:58.673025Z",
     "shell.execute_reply": "2022-07-11T07:49:58.672556Z"
    },
    "papermill": {
     "duration": 0.07191,
     "end_time": "2022-07-11T07:49:58.675036",
     "exception": false,
     "start_time": "2022-07-11T07:49:58.603126",
     "status": "completed"
    },
    "tags": []
   },
   "outputs": [
    {
     "data": {
      "text/html": [
       "<div>\n",
       "<style scoped>\n",
       "    .dataframe tbody tr th:only-of-type {\n",
       "        vertical-align: middle;\n",
       "    }\n",
       "\n",
       "    .dataframe tbody tr th {\n",
       "        vertical-align: top;\n",
       "    }\n",
       "\n",
       "    .dataframe thead th {\n",
       "        text-align: right;\n",
       "    }\n",
       "</style>\n",
       "<table border=\"1\" class=\"dataframe\">\n",
       "  <thead>\n",
       "    <tr style=\"text-align: right;\">\n",
       "      <th></th>\n",
       "      <th>name</th>\n",
       "      <th>id</th>\n",
       "      <th>chr</th>\n",
       "      <th>band</th>\n",
       "      <th>start_position</th>\n",
       "    </tr>\n",
       "  </thead>\n",
       "  <tbody>\n",
       "    <tr>\n",
       "      <th>0</th>\n",
       "      <td>GAS6</td>\n",
       "      <td>ENSG00000183087</td>\n",
       "      <td>13</td>\n",
       "      <td>13q34</td>\n",
       "      <td>113820549.0</td>\n",
       "    </tr>\n",
       "    <tr>\n",
       "      <th>1</th>\n",
       "      <td>MMP14</td>\n",
       "      <td>ENSG00000157227</td>\n",
       "      <td>14</td>\n",
       "      <td>14q11.2</td>\n",
       "      <td>22836560.0</td>\n",
       "    </tr>\n",
       "    <tr>\n",
       "      <th>2</th>\n",
       "      <td>DSP</td>\n",
       "      <td>ENSG00000096696</td>\n",
       "      <td>6</td>\n",
       "      <td>6p24.3</td>\n",
       "      <td>7541617.0</td>\n",
       "    </tr>\n",
       "    <tr>\n",
       "      <th>3</th>\n",
       "      <td>MARCKSL1</td>\n",
       "      <td>ENSG00000175130</td>\n",
       "      <td>1</td>\n",
       "      <td>1p35.1</td>\n",
       "      <td>32333839.0</td>\n",
       "    </tr>\n",
       "    <tr>\n",
       "      <th>4</th>\n",
       "      <td>SPARC</td>\n",
       "      <td>ENSG00000113140</td>\n",
       "      <td>5</td>\n",
       "      <td>5q33.1</td>\n",
       "      <td>151661096.0</td>\n",
       "    </tr>\n",
       "  </tbody>\n",
       "</table>\n",
       "</div>"
      ],
      "text/plain": [
       "       name               id chr     band  start_position\n",
       "0      GAS6  ENSG00000183087  13    13q34     113820549.0\n",
       "1     MMP14  ENSG00000157227  14  14q11.2      22836560.0\n",
       "2       DSP  ENSG00000096696   6   6p24.3       7541617.0\n",
       "3  MARCKSL1  ENSG00000175130   1   1p35.1      32333839.0\n",
       "4     SPARC  ENSG00000113140   5   5q33.1     151661096.0"
      ]
     },
     "execution_count": 26,
     "metadata": {},
     "output_type": "execute_result"
    }
   ],
   "source": [
    "genes_info.head()"
   ]
  },
  {
   "cell_type": "markdown",
   "id": "c8d1038f",
   "metadata": {
    "papermill": {
     "duration": 0.013657,
     "end_time": "2022-07-11T07:49:58.697282",
     "exception": false,
     "start_time": "2022-07-11T07:49:58.683625",
     "status": "completed"
    },
    "tags": []
   },
   "source": [
    "# Test"
   ]
  },
  {
   "cell_type": "code",
   "execution_count": 27,
   "id": "64993abf",
   "metadata": {
    "execution": {
     "iopub.execute_input": "2022-07-11T07:49:58.731655Z",
     "iopub.status.busy": "2022-07-11T07:49:58.726919Z",
     "iopub.status.idle": "2022-07-11T07:49:58.756029Z",
     "shell.execute_reply": "2022-07-11T07:49:58.755608Z"
    },
    "papermill": {
     "duration": 0.045796,
     "end_time": "2022-07-11T07:49:58.757221",
     "exception": false,
     "start_time": "2022-07-11T07:49:58.711425",
     "status": "completed"
    },
    "tags": []
   },
   "outputs": [
    {
     "data": {
      "text/html": [
       "<div>\n",
       "<style scoped>\n",
       "    .dataframe tbody tr th:only-of-type {\n",
       "        vertical-align: middle;\n",
       "    }\n",
       "\n",
       "    .dataframe tbody tr th {\n",
       "        vertical-align: top;\n",
       "    }\n",
       "\n",
       "    .dataframe thead th {\n",
       "        text-align: right;\n",
       "    }\n",
       "</style>\n",
       "<table border=\"1\" class=\"dataframe\">\n",
       "  <thead>\n",
       "    <tr style=\"text-align: right;\">\n",
       "      <th></th>\n",
       "      <th>name</th>\n",
       "      <th>id</th>\n",
       "      <th>chr</th>\n",
       "      <th>band</th>\n",
       "      <th>start_position</th>\n",
       "    </tr>\n",
       "  </thead>\n",
       "  <tbody>\n",
       "    <tr>\n",
       "      <th>15</th>\n",
       "      <td>TIMP3</td>\n",
       "      <td>ENSG00000100234</td>\n",
       "      <td>22</td>\n",
       "      <td>22q12.3</td>\n",
       "      <td>32801701.0</td>\n",
       "    </tr>\n",
       "    <tr>\n",
       "      <th>50</th>\n",
       "      <td>LIMK2</td>\n",
       "      <td>ENSG00000182541</td>\n",
       "      <td>22</td>\n",
       "      <td>22q12.2</td>\n",
       "      <td>31212239.0</td>\n",
       "    </tr>\n",
       "    <tr>\n",
       "      <th>72</th>\n",
       "      <td>TOM1</td>\n",
       "      <td>ENSG00000100284</td>\n",
       "      <td>22</td>\n",
       "      <td>22q12.3</td>\n",
       "      <td>35299275.0</td>\n",
       "    </tr>\n",
       "    <tr>\n",
       "      <th>136</th>\n",
       "      <td>KDELR3</td>\n",
       "      <td>ENSG00000100196</td>\n",
       "      <td>22</td>\n",
       "      <td>22q13.1</td>\n",
       "      <td>38468078.0</td>\n",
       "    </tr>\n",
       "    <tr>\n",
       "      <th>170</th>\n",
       "      <td>PICK1</td>\n",
       "      <td>ENSG00000100151</td>\n",
       "      <td>22</td>\n",
       "      <td>22q13.1</td>\n",
       "      <td>38056311.0</td>\n",
       "    </tr>\n",
       "    <tr>\n",
       "      <th>...</th>\n",
       "      <td>...</td>\n",
       "      <td>...</td>\n",
       "      <td>...</td>\n",
       "      <td>...</td>\n",
       "      <td>...</td>\n",
       "    </tr>\n",
       "    <tr>\n",
       "      <th>6244</th>\n",
       "      <td>MKL1</td>\n",
       "      <td>ENSG00000196588</td>\n",
       "      <td>22</td>\n",
       "      <td>22q13.2</td>\n",
       "      <td>40410281.0</td>\n",
       "    </tr>\n",
       "    <tr>\n",
       "      <th>6286</th>\n",
       "      <td>XRCC6</td>\n",
       "      <td>ENSG00000196419</td>\n",
       "      <td>22</td>\n",
       "      <td>22q13.2</td>\n",
       "      <td>41621119.0</td>\n",
       "    </tr>\n",
       "    <tr>\n",
       "      <th>6399</th>\n",
       "      <td>PDGFB</td>\n",
       "      <td>ENSG00000100311</td>\n",
       "      <td>22</td>\n",
       "      <td>22q13.1</td>\n",
       "      <td>39223359.0</td>\n",
       "    </tr>\n",
       "    <tr>\n",
       "      <th>6402</th>\n",
       "      <td>UBE2L3</td>\n",
       "      <td>ENSG00000185651</td>\n",
       "      <td>22</td>\n",
       "      <td>22q11.21</td>\n",
       "      <td>21549447.0</td>\n",
       "    </tr>\n",
       "    <tr>\n",
       "      <th>6420</th>\n",
       "      <td>TUBA8</td>\n",
       "      <td>ENSG00000183785</td>\n",
       "      <td>22</td>\n",
       "      <td>22q11.21</td>\n",
       "      <td>18110331.0</td>\n",
       "    </tr>\n",
       "  </tbody>\n",
       "</table>\n",
       "<p>170 rows × 5 columns</p>\n",
       "</div>"
      ],
      "text/plain": [
       "        name               id chr      band  start_position\n",
       "15     TIMP3  ENSG00000100234  22   22q12.3      32801701.0\n",
       "50     LIMK2  ENSG00000182541  22   22q12.2      31212239.0\n",
       "72      TOM1  ENSG00000100284  22   22q12.3      35299275.0\n",
       "136   KDELR3  ENSG00000100196  22   22q13.1      38468078.0\n",
       "170    PICK1  ENSG00000100151  22   22q13.1      38056311.0\n",
       "...      ...              ...  ..       ...             ...\n",
       "6244    MKL1  ENSG00000196588  22   22q13.2      40410281.0\n",
       "6286   XRCC6  ENSG00000196419  22   22q13.2      41621119.0\n",
       "6399   PDGFB  ENSG00000100311  22   22q13.1      39223359.0\n",
       "6402  UBE2L3  ENSG00000185651  22  22q11.21      21549447.0\n",
       "6420   TUBA8  ENSG00000183785  22  22q11.21      18110331.0\n",
       "\n",
       "[170 rows x 5 columns]"
      ]
     },
     "metadata": {},
     "output_type": "display_data"
    }
   ],
   "source": [
    "chromosome_genes_info = genes_info[genes_info[\"chr\"] == chromosome]\n",
    "display(chromosome_genes_info)"
   ]
  },
  {
   "cell_type": "code",
   "execution_count": 28,
   "id": "d2e42726-7de6-46eb-acfc-6323eaa8fae6",
   "metadata": {
    "execution": {
     "iopub.execute_input": "2022-07-11T07:49:58.772557Z",
     "iopub.status.busy": "2022-07-11T07:49:58.772136Z",
     "iopub.status.idle": "2022-07-11T07:49:58.789546Z",
     "shell.execute_reply": "2022-07-11T07:49:58.789153Z"
    },
    "papermill": {
     "duration": 0.026452,
     "end_time": "2022-07-11T07:49:58.790960",
     "exception": false,
     "start_time": "2022-07-11T07:49:58.764508",
     "status": "completed"
    },
    "tags": []
   },
   "outputs": [
    {
     "data": {
      "text/plain": [
       "5"
      ]
     },
     "metadata": {},
     "output_type": "display_data"
    }
   ],
   "source": [
    "seed(0)\n",
    "_gene_list_ids = sample(chromosome_genes_info[\"id\"].tolist(), 5)\n",
    "selected_chromosome_genes_obj = [Gene(ensembl_id=g_id) for g_id in _gene_list_ids]\n",
    "display(len(selected_chromosome_genes_obj))"
   ]
  },
  {
   "cell_type": "code",
   "execution_count": 29,
   "id": "1b355359",
   "metadata": {
    "execution": {
     "iopub.execute_input": "2022-07-11T07:49:58.820771Z",
     "iopub.status.busy": "2022-07-11T07:49:58.820610Z",
     "iopub.status.idle": "2022-07-11T07:50:00.773477Z",
     "shell.execute_reply": "2022-07-11T07:50:00.773073Z"
    },
    "papermill": {
     "duration": 1.966638,
     "end_time": "2022-07-11T07:50:00.774555",
     "exception": false,
     "start_time": "2022-07-11T07:49:58.807917",
     "status": "completed"
    },
    "tags": []
   },
   "outputs": [
    {
     "name": "stdout",
     "output_type": "stream",
     "text": [
      "MGAT3 / ADM2: 0.0\n",
      "MGAT3 / TTC28: 0.0\n",
      "MGAT3 / SMC1B: 0.0\n",
      "MGAT3 / RANGAP1: 0.00739042092743749\n",
      "ADM2 / TTC28: 0.0\n",
      "ADM2 / SMC1B: 0.0\n",
      "ADM2 / RANGAP1: 0.0\n",
      "TTC28 / SMC1B: 0.0\n",
      "TTC28 / RANGAP1: 0.0\n",
      "SMC1B / RANGAP1: 0.006867143019214248\n"
     ]
    }
   ],
   "source": [
    "for gene_idx1 in range(0, len(selected_chromosome_genes_obj) - 1):\n",
    "    gene_obj1 = selected_chromosome_genes_obj[gene_idx1]\n",
    "\n",
    "    for gene_idx2 in range(gene_idx1 + 1, len(selected_chromosome_genes_obj)):\n",
    "        gene_obj2 = selected_chromosome_genes_obj[gene_idx2]\n",
    "\n",
    "        c = gene_obj1.get_ssm_correlation(\n",
    "            gene_obj2,\n",
    "        )\n",
    "\n",
    "        print(f\"{gene_obj1.name} / {gene_obj2.name}: {c}\")"
   ]
  },
  {
   "cell_type": "markdown",
   "id": "d3843e06",
   "metadata": {
    "papermill": {
     "duration": 0.009709,
     "end_time": "2022-07-11T07:50:00.798553",
     "exception": false,
     "start_time": "2022-07-11T07:50:00.788844",
     "status": "completed"
    },
    "tags": []
   },
   "source": [
    "# Compute correlation per chromosome"
   ]
  },
  {
   "cell_type": "code",
   "execution_count": 30,
   "id": "cb859c15-d1f3-4006-a74c-2b83c0db9611",
   "metadata": {
    "execution": {
     "iopub.execute_input": "2022-07-11T07:50:00.815454Z",
     "iopub.status.busy": "2022-07-11T07:50:00.815028Z",
     "iopub.status.idle": "2022-07-11T07:50:00.834660Z",
     "shell.execute_reply": "2022-07-11T07:50:00.834286Z"
    },
    "papermill": {
     "duration": 0.028609,
     "end_time": "2022-07-11T07:50:00.835799",
     "exception": false,
     "start_time": "2022-07-11T07:50:00.807190",
     "status": "completed"
    },
    "tags": []
   },
   "outputs": [
    {
     "data": {
      "text/plain": [
       "PosixPath('/opt/data/data/phenomexcan/ld_blocks/gene_corrs/1000g/mashr/by_chr/gene_corrs-chr22.pkl')"
      ]
     },
     "metadata": {},
     "output_type": "display_data"
    }
   ],
   "source": [
    "output_dir = OUTPUT_DIR_BASE / \"by_chr\"\n",
    "output_dir.mkdir(exist_ok=True, parents=True)\n",
    "output_file = output_dir / f\"gene_corrs-chr{chromosome}.pkl\"\n",
    "display(output_file)"
   ]
  },
  {
   "cell_type": "code",
   "execution_count": 31,
   "id": "aa674fe4-6794-4eed-98fa-32b39d1d4ace",
   "metadata": {
    "execution": {
     "iopub.execute_input": "2022-07-11T07:50:00.854474Z",
     "iopub.status.busy": "2022-07-11T07:50:00.854282Z",
     "iopub.status.idle": "2022-07-11T07:50:00.868836Z",
     "shell.execute_reply": "2022-07-11T07:50:00.868458Z"
    },
    "papermill": {
     "duration": 0.024089,
     "end_time": "2022-07-11T07:50:00.870180",
     "exception": false,
     "start_time": "2022-07-11T07:50:00.846091",
     "status": "completed"
    },
    "tags": []
   },
   "outputs": [],
   "source": [
    "warnings.filterwarnings(\"error\")"
   ]
  },
  {
   "cell_type": "code",
   "execution_count": 32,
   "id": "cdbb90a1",
   "metadata": {
    "execution": {
     "iopub.execute_input": "2022-07-11T07:50:00.887070Z",
     "iopub.status.busy": "2022-07-11T07:50:00.886913Z",
     "iopub.status.idle": "2022-07-11T07:57:39.846767Z",
     "shell.execute_reply": "2022-07-11T07:57:39.846360Z"
    },
    "papermill": {
     "duration": 458.968928,
     "end_time": "2022-07-11T07:57:39.847888",
     "exception": false,
     "start_time": "2022-07-11T07:50:00.878960",
     "status": "completed"
    },
    "tags": []
   },
   "outputs": [
    {
     "name": "stdout",
     "output_type": "stream",
     "text": [
      "Number of genes in chromosome: 170\n",
      "Number of gene combinations: 14365\n"
     ]
    },
    {
     "name": "stderr",
     "output_type": "stream",
     "text": [
      "ENSG00000100299 / ENSG00000251322: 100%|██████████████████████| 14365/14365 [07:38<00:00, 31.30it/s]"
     ]
    },
    {
     "name": "stdout",
     "output_type": "stream",
     "text": [
      "Min/max values: 0.0 / 0.9863304556182002\n"
     ]
    },
    {
     "name": "stderr",
     "output_type": "stream",
     "text": [
      "\n"
     ]
    },
    {
     "data": {
      "text/plain": [
       "PosixPath('/opt/data/data/phenomexcan/ld_blocks/gene_corrs/1000g/mashr/by_chr/gene_corrs-chr22.pkl')"
      ]
     },
     "metadata": {},
     "output_type": "display_data"
    }
   ],
   "source": [
    "# standard checks\n",
    "all_chrs = genes_info[\"chr\"].dropna().unique()\n",
    "assert all_chrs.shape[0] == 22\n",
    "\n",
    "# select chromosome given by the user\n",
    "assert chromosome in all_chrs\n",
    "\n",
    "# run only on the chromosome specified\n",
    "all_chrs = [chromosome]\n",
    "genes_chr = genes_info[genes_info[\"chr\"] == chromosome]\n",
    "\n",
    "# For testing purposes\n",
    "# genes_chr = genes_chr.sample(n=20)\n",
    "\n",
    "print(f\"Number of genes in chromosome: {genes_chr.shape[0]}\", flush=True)\n",
    "\n",
    "# sort genes by starting position to make visualizations better later\n",
    "genes_chr = genes_chr.sort_values(\"start_position\")\n",
    "\n",
    "gene_chr_objs = [Gene(ensembl_id=gene_id) for gene_id in genes_chr[\"id\"]]\n",
    "gene_chr_ids = [g.ensembl_id for g in gene_chr_objs]\n",
    "\n",
    "n = len(gene_chr_objs)\n",
    "n_comb = int(n * (n - 1) / 2.0)\n",
    "print(f\"Number of gene combinations: {n_comb}\", flush=True)\n",
    "\n",
    "gene_corrs = []\n",
    "\n",
    "pbar = tqdm(ncols=100, total=n_comb)\n",
    "i = 0\n",
    "for gene_idx1 in range(0, len(gene_chr_objs) - 1):\n",
    "    gene_obj1 = gene_chr_objs[gene_idx1]\n",
    "\n",
    "    for gene_idx2 in range(gene_idx1 + 1, len(gene_chr_objs)):\n",
    "        gene_obj2 = gene_chr_objs[gene_idx2]\n",
    "\n",
    "        pbar.set_description(f\"{gene_obj1.ensembl_id} / {gene_obj2.ensembl_id}\")\n",
    "\n",
    "        try:\n",
    "            # FIXME: compute the correlation of the sum of squares of the model using all\n",
    "            # the available tissues; this could be problematic because for some results\n",
    "            # (computed on a specific phenotype/GWAS) we might not have all the tissues\n",
    "            # available, which can certainly bias the correlation estimation.\n",
    "            # Since this depends on the GWAS on a specific phenotype, we should ideally have\n",
    "            # one correlation matrix per GWAS. I should look at how we can improve this.\n",
    "            r = gene_obj1.get_ssm_correlation(\n",
    "                other_gene=gene_obj2,\n",
    "                condition_number=SMULTIXCAN_CONDITION_NUMBER,\n",
    "                reference_panel=REFERENCE_PANEL,\n",
    "                model_type=EQTL_MODEL,\n",
    "            )\n",
    "\n",
    "            if r is None:\n",
    "                # if r is None, it's very likely because:\n",
    "                #  * one of the genes has no prediction models\n",
    "                #  * all the SNPs predictors for the gene are not present in the reference\n",
    "                #    panel\n",
    "\n",
    "                r = 0.0\n",
    "\n",
    "            gene_corrs.append(r)\n",
    "        except Warning:\n",
    "            print(\n",
    "                f\"RuntimeWarning for genes {gene_obj1.ensembl_id} and {gene_obj2.ensembl_id}\",\n",
    "                flush=True,\n",
    "            )\n",
    "            import traceback\n",
    "\n",
    "            print(traceback.format_exc(), flush=True)\n",
    "        except Exception as e:\n",
    "            print(\n",
    "                f\"Exception for genes {gene_obj1.ensembl_id} and {gene_obj2.ensembl_id}\",\n",
    "                flush=True,\n",
    "            )\n",
    "            import traceback\n",
    "\n",
    "            print(traceback.format_exc(), flush=True)\n",
    "            gene_corrs.append(np.nan)\n",
    "\n",
    "        pbar.update(1)\n",
    "\n",
    "pbar.close()\n",
    "\n",
    "# testing\n",
    "gene_corrs_flat = pd.Series(gene_corrs)\n",
    "print(f\"Min/max values: {gene_corrs_flat.min()} / {gene_corrs_flat.max()}\")\n",
    "assert gene_corrs_flat.min() >= -1.001\n",
    "assert gene_corrs_flat.max() <= 1.001\n",
    "\n",
    "# save\n",
    "# FIXME: consider saving only the condenced matrix here. See here for\n",
    "# more details: https://github.com/greenelab/phenoplier/pull/38#discussion_r634600813\n",
    "gene_corrs_data = squareform(np.array(gene_corrs, dtype=np.float64))\n",
    "np.fill_diagonal(gene_corrs_data, 1.0)\n",
    "\n",
    "gene_corrs_df = pd.DataFrame(\n",
    "    data=gene_corrs_data,\n",
    "    index=gene_chr_ids,\n",
    "    columns=gene_chr_ids,\n",
    ")\n",
    "\n",
    "output_dir.mkdir(exist_ok=True, parents=True)\n",
    "display(output_file)\n",
    "\n",
    "gene_corrs_df.to_pickle(output_file)"
   ]
  },
  {
   "cell_type": "markdown",
   "id": "faa67b51-5373-470f-aa72-2ded53fa6dfe",
   "metadata": {
    "papermill": {
     "duration": 0.543408,
     "end_time": "2022-07-11T07:57:40.932577",
     "exception": false,
     "start_time": "2022-07-11T07:57:40.389169",
     "status": "completed"
    },
    "tags": []
   },
   "source": [
    "# Testing"
   ]
  },
  {
   "cell_type": "code",
   "execution_count": 33,
   "id": "14f7d046-4b55-4896-a56b-990127bcc388",
   "metadata": {
    "execution": {
     "iopub.execute_input": "2022-07-11T07:57:41.990327Z",
     "iopub.status.busy": "2022-07-11T07:57:41.989816Z",
     "iopub.status.idle": "2022-07-11T07:57:42.006593Z",
     "shell.execute_reply": "2022-07-11T07:57:42.006228Z"
    },
    "papermill": {
     "duration": 0.535233,
     "end_time": "2022-07-11T07:57:42.007878",
     "exception": false,
     "start_time": "2022-07-11T07:57:41.472645",
     "status": "completed"
    },
    "tags": []
   },
   "outputs": [
    {
     "data": {
      "text/plain": [
       "(170, 170)"
      ]
     },
     "execution_count": 33,
     "metadata": {},
     "output_type": "execute_result"
    }
   ],
   "source": [
    "gene_corrs_df.shape"
   ]
  },
  {
   "cell_type": "code",
   "execution_count": 34,
   "id": "c7d15414-3297-4537-a7c6-7588c0baeb75",
   "metadata": {
    "execution": {
     "iopub.execute_input": "2022-07-11T07:57:43.096975Z",
     "iopub.status.busy": "2022-07-11T07:57:43.096569Z",
     "iopub.status.idle": "2022-07-11T07:57:43.142187Z",
     "shell.execute_reply": "2022-07-11T07:57:43.141829Z"
    },
    "papermill": {
     "duration": 0.593739,
     "end_time": "2022-07-11T07:57:43.143468",
     "exception": false,
     "start_time": "2022-07-11T07:57:42.549729",
     "status": "completed"
    },
    "tags": []
   },
   "outputs": [
    {
     "data": {
      "text/html": [
       "<div>\n",
       "<style scoped>\n",
       "    .dataframe tbody tr th:only-of-type {\n",
       "        vertical-align: middle;\n",
       "    }\n",
       "\n",
       "    .dataframe tbody tr th {\n",
       "        vertical-align: top;\n",
       "    }\n",
       "\n",
       "    .dataframe thead th {\n",
       "        text-align: right;\n",
       "    }\n",
       "</style>\n",
       "<table border=\"1\" class=\"dataframe\">\n",
       "  <thead>\n",
       "    <tr style=\"text-align: right;\">\n",
       "      <th></th>\n",
       "      <th>ENSG00000177663</th>\n",
       "      <th>ENSG00000131100</th>\n",
       "      <th>ENSG00000099968</th>\n",
       "      <th>ENSG00000015475</th>\n",
       "      <th>ENSG00000243156</th>\n",
       "      <th>ENSG00000215193</th>\n",
       "      <th>ENSG00000183785</th>\n",
       "      <th>ENSG00000184979</th>\n",
       "      <th>ENSG00000100033</th>\n",
       "      <th>ENSG00000100075</th>\n",
       "      <th>...</th>\n",
       "      <th>ENSG00000196576</th>\n",
       "      <th>ENSG00000128165</th>\n",
       "      <th>ENSG00000100253</th>\n",
       "      <th>ENSG00000130489</th>\n",
       "      <th>ENSG00000025708</th>\n",
       "      <th>ENSG00000205560</th>\n",
       "      <th>ENSG00000100288</th>\n",
       "      <th>ENSG00000008735</th>\n",
       "      <th>ENSG00000100299</th>\n",
       "      <th>ENSG00000251322</th>\n",
       "    </tr>\n",
       "  </thead>\n",
       "  <tbody>\n",
       "    <tr>\n",
       "      <th>ENSG00000177663</th>\n",
       "      <td>1.000000</td>\n",
       "      <td>0.006885</td>\n",
       "      <td>0.011973</td>\n",
       "      <td>0.007085</td>\n",
       "      <td>0.016720</td>\n",
       "      <td>0.010888</td>\n",
       "      <td>0.015925</td>\n",
       "      <td>0.007941</td>\n",
       "      <td>0.012096</td>\n",
       "      <td>0.004606</td>\n",
       "      <td>...</td>\n",
       "      <td>0.0</td>\n",
       "      <td>0.0</td>\n",
       "      <td>0.0</td>\n",
       "      <td>0.0</td>\n",
       "      <td>0.0</td>\n",
       "      <td>0.0</td>\n",
       "      <td>0.0</td>\n",
       "      <td>0.0</td>\n",
       "      <td>0.0</td>\n",
       "      <td>0.0</td>\n",
       "    </tr>\n",
       "    <tr>\n",
       "      <th>ENSG00000131100</th>\n",
       "      <td>0.006885</td>\n",
       "      <td>1.000000</td>\n",
       "      <td>0.556418</td>\n",
       "      <td>0.253376</td>\n",
       "      <td>0.019566</td>\n",
       "      <td>0.012030</td>\n",
       "      <td>0.017317</td>\n",
       "      <td>0.005654</td>\n",
       "      <td>0.009928</td>\n",
       "      <td>0.000794</td>\n",
       "      <td>...</td>\n",
       "      <td>0.0</td>\n",
       "      <td>0.0</td>\n",
       "      <td>0.0</td>\n",
       "      <td>0.0</td>\n",
       "      <td>0.0</td>\n",
       "      <td>0.0</td>\n",
       "      <td>0.0</td>\n",
       "      <td>0.0</td>\n",
       "      <td>0.0</td>\n",
       "      <td>0.0</td>\n",
       "    </tr>\n",
       "    <tr>\n",
       "      <th>ENSG00000099968</th>\n",
       "      <td>0.011973</td>\n",
       "      <td>0.556418</td>\n",
       "      <td>1.000000</td>\n",
       "      <td>0.378947</td>\n",
       "      <td>0.026867</td>\n",
       "      <td>0.016886</td>\n",
       "      <td>0.022113</td>\n",
       "      <td>0.015004</td>\n",
       "      <td>0.015125</td>\n",
       "      <td>0.003133</td>\n",
       "      <td>...</td>\n",
       "      <td>0.0</td>\n",
       "      <td>0.0</td>\n",
       "      <td>0.0</td>\n",
       "      <td>0.0</td>\n",
       "      <td>0.0</td>\n",
       "      <td>0.0</td>\n",
       "      <td>0.0</td>\n",
       "      <td>0.0</td>\n",
       "      <td>0.0</td>\n",
       "      <td>0.0</td>\n",
       "    </tr>\n",
       "    <tr>\n",
       "      <th>ENSG00000015475</th>\n",
       "      <td>0.007085</td>\n",
       "      <td>0.253376</td>\n",
       "      <td>0.378947</td>\n",
       "      <td>1.000000</td>\n",
       "      <td>0.029674</td>\n",
       "      <td>0.022601</td>\n",
       "      <td>0.027740</td>\n",
       "      <td>0.015827</td>\n",
       "      <td>0.020504</td>\n",
       "      <td>0.010525</td>\n",
       "      <td>...</td>\n",
       "      <td>0.0</td>\n",
       "      <td>0.0</td>\n",
       "      <td>0.0</td>\n",
       "      <td>0.0</td>\n",
       "      <td>0.0</td>\n",
       "      <td>0.0</td>\n",
       "      <td>0.0</td>\n",
       "      <td>0.0</td>\n",
       "      <td>0.0</td>\n",
       "      <td>0.0</td>\n",
       "    </tr>\n",
       "    <tr>\n",
       "      <th>ENSG00000243156</th>\n",
       "      <td>0.016720</td>\n",
       "      <td>0.019566</td>\n",
       "      <td>0.026867</td>\n",
       "      <td>0.029674</td>\n",
       "      <td>1.000000</td>\n",
       "      <td>0.060184</td>\n",
       "      <td>0.028523</td>\n",
       "      <td>0.023187</td>\n",
       "      <td>0.022125</td>\n",
       "      <td>0.008680</td>\n",
       "      <td>...</td>\n",
       "      <td>0.0</td>\n",
       "      <td>0.0</td>\n",
       "      <td>0.0</td>\n",
       "      <td>0.0</td>\n",
       "      <td>0.0</td>\n",
       "      <td>0.0</td>\n",
       "      <td>0.0</td>\n",
       "      <td>0.0</td>\n",
       "      <td>0.0</td>\n",
       "      <td>0.0</td>\n",
       "    </tr>\n",
       "  </tbody>\n",
       "</table>\n",
       "<p>5 rows × 170 columns</p>\n",
       "</div>"
      ],
      "text/plain": [
       "                 ENSG00000177663  ENSG00000131100  ENSG00000099968  \\\n",
       "ENSG00000177663         1.000000         0.006885         0.011973   \n",
       "ENSG00000131100         0.006885         1.000000         0.556418   \n",
       "ENSG00000099968         0.011973         0.556418         1.000000   \n",
       "ENSG00000015475         0.007085         0.253376         0.378947   \n",
       "ENSG00000243156         0.016720         0.019566         0.026867   \n",
       "\n",
       "                 ENSG00000015475  ENSG00000243156  ENSG00000215193  \\\n",
       "ENSG00000177663         0.007085         0.016720         0.010888   \n",
       "ENSG00000131100         0.253376         0.019566         0.012030   \n",
       "ENSG00000099968         0.378947         0.026867         0.016886   \n",
       "ENSG00000015475         1.000000         0.029674         0.022601   \n",
       "ENSG00000243156         0.029674         1.000000         0.060184   \n",
       "\n",
       "                 ENSG00000183785  ENSG00000184979  ENSG00000100033  \\\n",
       "ENSG00000177663         0.015925         0.007941         0.012096   \n",
       "ENSG00000131100         0.017317         0.005654         0.009928   \n",
       "ENSG00000099968         0.022113         0.015004         0.015125   \n",
       "ENSG00000015475         0.027740         0.015827         0.020504   \n",
       "ENSG00000243156         0.028523         0.023187         0.022125   \n",
       "\n",
       "                 ENSG00000100075  ...  ENSG00000196576  ENSG00000128165  \\\n",
       "ENSG00000177663         0.004606  ...              0.0              0.0   \n",
       "ENSG00000131100         0.000794  ...              0.0              0.0   \n",
       "ENSG00000099968         0.003133  ...              0.0              0.0   \n",
       "ENSG00000015475         0.010525  ...              0.0              0.0   \n",
       "ENSG00000243156         0.008680  ...              0.0              0.0   \n",
       "\n",
       "                 ENSG00000100253  ENSG00000130489  ENSG00000025708  \\\n",
       "ENSG00000177663              0.0              0.0              0.0   \n",
       "ENSG00000131100              0.0              0.0              0.0   \n",
       "ENSG00000099968              0.0              0.0              0.0   \n",
       "ENSG00000015475              0.0              0.0              0.0   \n",
       "ENSG00000243156              0.0              0.0              0.0   \n",
       "\n",
       "                 ENSG00000205560  ENSG00000100288  ENSG00000008735  \\\n",
       "ENSG00000177663              0.0              0.0              0.0   \n",
       "ENSG00000131100              0.0              0.0              0.0   \n",
       "ENSG00000099968              0.0              0.0              0.0   \n",
       "ENSG00000015475              0.0              0.0              0.0   \n",
       "ENSG00000243156              0.0              0.0              0.0   \n",
       "\n",
       "                 ENSG00000100299  ENSG00000251322  \n",
       "ENSG00000177663              0.0              0.0  \n",
       "ENSG00000131100              0.0              0.0  \n",
       "ENSG00000099968              0.0              0.0  \n",
       "ENSG00000015475              0.0              0.0  \n",
       "ENSG00000243156              0.0              0.0  \n",
       "\n",
       "[5 rows x 170 columns]"
      ]
     },
     "execution_count": 34,
     "metadata": {},
     "output_type": "execute_result"
    }
   ],
   "source": [
    "gene_corrs_df.head()"
   ]
  },
  {
   "cell_type": "code",
   "execution_count": 35,
   "id": "286686af-1b7b-4440-8453-6bdcbd8de19c",
   "metadata": {
    "execution": {
     "iopub.execute_input": "2022-07-11T07:57:44.190936Z",
     "iopub.status.busy": "2022-07-11T07:57:44.190503Z",
     "iopub.status.idle": "2022-07-11T07:57:44.206368Z",
     "shell.execute_reply": "2022-07-11T07:57:44.206004Z"
    },
    "papermill": {
     "duration": 0.553671,
     "end_time": "2022-07-11T07:57:44.207544",
     "exception": false,
     "start_time": "2022-07-11T07:57:43.653873",
     "status": "completed"
    },
    "tags": []
   },
   "outputs": [],
   "source": [
    "assert not gene_corrs_df.isna().any().any()"
   ]
  },
  {
   "cell_type": "code",
   "execution_count": 36,
   "id": "00583efc-7068-4270-ad1e-4a418e91db96",
   "metadata": {
    "execution": {
     "iopub.execute_input": "2022-07-11T07:57:45.254550Z",
     "iopub.status.busy": "2022-07-11T07:57:45.254140Z",
     "iopub.status.idle": "2022-07-11T07:57:45.271788Z",
     "shell.execute_reply": "2022-07-11T07:57:45.271408Z"
    },
    "papermill": {
     "duration": 0.529049,
     "end_time": "2022-07-11T07:57:45.273044",
     "exception": false,
     "start_time": "2022-07-11T07:57:44.743995",
     "status": "completed"
    },
    "tags": []
   },
   "outputs": [
    {
     "data": {
      "text/plain": [
       "0.0"
      ]
     },
     "metadata": {},
     "output_type": "display_data"
    }
   ],
   "source": [
    "_min_val = gene_corrs_df.min().min()\n",
    "display(_min_val)\n",
    "assert _min_val >= 0.0"
   ]
  },
  {
   "cell_type": "code",
   "execution_count": 37,
   "id": "d04fb2cf-1050-475b-b855-f5f7cc04092b",
   "metadata": {
    "execution": {
     "iopub.execute_input": "2022-07-11T07:57:46.352733Z",
     "iopub.status.busy": "2022-07-11T07:57:46.352477Z",
     "iopub.status.idle": "2022-07-11T07:57:46.368838Z",
     "shell.execute_reply": "2022-07-11T07:57:46.368434Z"
    },
    "papermill": {
     "duration": 0.556775,
     "end_time": "2022-07-11T07:57:46.369953",
     "exception": false,
     "start_time": "2022-07-11T07:57:45.813178",
     "status": "completed"
    },
    "tags": []
   },
   "outputs": [
    {
     "data": {
      "text/plain": [
       "1.0"
      ]
     },
     "metadata": {},
     "output_type": "display_data"
    }
   ],
   "source": [
    "_max_val = gene_corrs_df.max().max()  # this captures the diagonal\n",
    "display(_max_val)\n",
    "assert _max_val <= 1.0"
   ]
  },
  {
   "cell_type": "code",
   "execution_count": 38,
   "id": "96d02c44-1fba-47be-8a93-8f2608420b9c",
   "metadata": {
    "execution": {
     "iopub.execute_input": "2022-07-11T07:57:47.430516Z",
     "iopub.status.busy": "2022-07-11T07:57:47.430311Z",
     "iopub.status.idle": "2022-07-11T07:57:47.445325Z",
     "shell.execute_reply": "2022-07-11T07:57:47.444934Z"
    },
    "papermill": {
     "duration": 0.563923,
     "end_time": "2022-07-11T07:57:47.446443",
     "exception": false,
     "start_time": "2022-07-11T07:57:46.882520",
     "status": "completed"
    },
    "tags": []
   },
   "outputs": [],
   "source": [
    "# check upper triangular values\n",
    "assert len(gene_corrs) == int(genes_chr.shape[0] * (genes_chr.shape[0] - 1) / 2)"
   ]
  },
  {
   "cell_type": "code",
   "execution_count": 39,
   "id": "aaa51627-f4e3-4744-a41f-7d25adcc0a78",
   "metadata": {
    "execution": {
     "iopub.execute_input": "2022-07-11T07:57:48.535277Z",
     "iopub.status.busy": "2022-07-11T07:57:48.535084Z",
     "iopub.status.idle": "2022-07-11T07:57:48.551904Z",
     "shell.execute_reply": "2022-07-11T07:57:48.551524Z"
    },
    "papermill": {
     "duration": 0.542362,
     "end_time": "2022-07-11T07:57:48.553130",
     "exception": false,
     "start_time": "2022-07-11T07:57:48.010768",
     "status": "completed"
    },
    "tags": []
   },
   "outputs": [],
   "source": [
    "gene_corrs = pd.Series(gene_corrs)"
   ]
  },
  {
   "cell_type": "code",
   "execution_count": 40,
   "id": "fe283586-c348-40e0-8841-f6d97bfb021c",
   "metadata": {
    "execution": {
     "iopub.execute_input": "2022-07-11T07:57:49.638353Z",
     "iopub.status.busy": "2022-07-11T07:57:49.638154Z",
     "iopub.status.idle": "2022-07-11T07:57:49.656038Z",
     "shell.execute_reply": "2022-07-11T07:57:49.655624Z"
    },
    "papermill": {
     "duration": 0.562528,
     "end_time": "2022-07-11T07:57:49.657288",
     "exception": false,
     "start_time": "2022-07-11T07:57:49.094760",
     "status": "completed"
    },
    "tags": []
   },
   "outputs": [
    {
     "data": {
      "text/plain": [
       "count    14365.000000\n",
       "mean         0.007464\n",
       "std          0.040393\n",
       "min          0.000000\n",
       "25%          0.000000\n",
       "50%          0.000000\n",
       "75%          0.003713\n",
       "max          0.986330\n",
       "dtype: float64"
      ]
     },
     "execution_count": 40,
     "metadata": {},
     "output_type": "execute_result"
    }
   ],
   "source": [
    "gene_corrs.describe()"
   ]
  },
  {
   "cell_type": "code",
   "execution_count": 41,
   "id": "b3815678-0f93-4b35-897b-a9d047a2aa78",
   "metadata": {
    "execution": {
     "iopub.execute_input": "2022-07-11T07:57:50.703136Z",
     "iopub.status.busy": "2022-07-11T07:57:50.702978Z",
     "iopub.status.idle": "2022-07-11T07:57:50.721469Z",
     "shell.execute_reply": "2022-07-11T07:57:50.721112Z"
    },
    "papermill": {
     "duration": 0.556846,
     "end_time": "2022-07-11T07:57:50.722790",
     "exception": false,
     "start_time": "2022-07-11T07:57:50.165944",
     "status": "completed"
    },
    "tags": []
   },
   "outputs": [
    {
     "data": {
      "text/plain": [
       "0.00    0.000000\n",
       "0.05    0.000000\n",
       "0.10    0.000000\n",
       "0.15    0.000000\n",
       "0.20    0.000000\n",
       "0.25    0.000000\n",
       "0.30    0.000000\n",
       "0.35    0.000000\n",
       "0.40    0.000000\n",
       "0.45    0.000000\n",
       "0.50    0.000000\n",
       "0.55    0.000000\n",
       "0.60    0.000000\n",
       "0.65    0.000000\n",
       "0.70    0.000000\n",
       "0.75    0.003713\n",
       "0.80    0.006669\n",
       "0.85    0.009047\n",
       "0.90    0.011816\n",
       "0.95    0.016634\n",
       "dtype: float64"
      ]
     },
     "metadata": {},
     "output_type": "display_data"
    }
   ],
   "source": [
    "gene_corrs_quantiles = gene_corrs.quantile(np.arange(0, 1, 0.05))\n",
    "display(gene_corrs_quantiles)"
   ]
  },
  {
   "cell_type": "markdown",
   "id": "8e60a080-edb2-4e9c-b2ef-22961693200c",
   "metadata": {
    "papermill": {
     "duration": 0.539908,
     "end_time": "2022-07-11T07:57:51.802948",
     "exception": false,
     "start_time": "2022-07-11T07:57:51.263040",
     "status": "completed"
    },
    "tags": []
   },
   "source": [
    "## Plot: distribution"
   ]
  },
  {
   "cell_type": "code",
   "execution_count": 42,
   "id": "8301126b-a7d4-4744-9c7d-f0f86eb6f54c",
   "metadata": {
    "execution": {
     "iopub.execute_input": "2022-07-11T07:57:52.857897Z",
     "iopub.status.busy": "2022-07-11T07:57:52.857528Z",
     "iopub.status.idle": "2022-07-11T07:57:57.714136Z",
     "shell.execute_reply": "2022-07-11T07:57:57.713637Z"
    },
    "papermill": {
     "duration": 5.399924,
     "end_time": "2022-07-11T07:57:57.715554",
     "exception": false,
     "start_time": "2022-07-11T07:57:52.315630",
     "status": "completed"
    },
    "tags": []
   },
   "outputs": [
    {
     "data": {
      "image/png": "[encoded data removed]",
      "text/plain": [
       "<Figure size 504x504 with 1 Axes>"
      ]
     },
     "metadata": {
      "needs_background": "light"
     },
     "output_type": "display_data"
    }
   ],
   "source": [
    "with sns.plotting_context(\"paper\", font_scale=1.5):\n",
    "    g = sns.displot(gene_corrs, kde=True, height=7)\n",
    "    g.ax.set_title(\n",
    "        f\"Distribution of gene correlation values in chromosome {chromosome}\"\n",
    "    )"
   ]
  },
  {
   "cell_type": "markdown",
   "id": "cbd52bca-d878-4a2f-b684-5c83aa3038d4",
   "metadata": {
    "papermill": {
     "duration": 0.540748,
     "end_time": "2022-07-11T07:57:58.770640",
     "exception": false,
     "start_time": "2022-07-11T07:57:58.229892",
     "status": "completed"
    },
    "tags": []
   },
   "source": [
    "## Plot: heatmap"
   ]
  },
  {
   "cell_type": "code",
   "execution_count": 43,
   "id": "d03fe63a-c7b2-4fb9-a53c-db362ce843c9",
   "metadata": {
    "execution": {
     "iopub.execute_input": "2022-07-11T07:57:59.932389Z",
     "iopub.status.busy": "2022-07-11T07:57:59.931954Z",
     "iopub.status.idle": "2022-07-11T07:57:59.958506Z",
     "shell.execute_reply": "2022-07-11T07:57:59.958118Z"
    },
    "papermill": {
     "duration": 0.620387,
     "end_time": "2022-07-11T07:57:59.959630",
     "exception": false,
     "start_time": "2022-07-11T07:57:59.339243",
     "status": "completed"
    },
    "tags": []
   },
   "outputs": [
    {
     "data": {
      "text/plain": [
       "'-0.05 / 0.05'"
      ]
     },
     "metadata": {},
     "output_type": "display_data"
    }
   ],
   "source": [
    "vmin_val = min(-0.05, gene_corrs_quantiles[0.10])\n",
    "vmax_val = max(0.05, gene_corrs_quantiles[0.90])\n",
    "display(f\"{vmin_val} / {vmax_val}\")"
   ]
  },
  {
   "cell_type": "code",
   "execution_count": 44,
   "id": "dc41b70b-5bcc-4d9e-9f33-a22c4a94dab5",
   "metadata": {
    "execution": {
     "iopub.execute_input": "2022-07-11T07:58:01.194112Z",
     "iopub.status.busy": "2022-07-11T07:58:01.193799Z",
     "iopub.status.idle": "2022-07-11T07:58:01.680894Z",
     "shell.execute_reply": "2022-07-11T07:58:01.680328Z"
    },
    "papermill": {
     "duration": 1.087754,
     "end_time": "2022-07-11T07:58:01.682396",
     "exception": false,
     "start_time": "2022-07-11T07:58:00.594642",
     "status": "completed"
    },
    "tags": []
   },
   "outputs": [
    {
     "data": {
      "text/plain": [
       "Text(0.5, 1.0, 'Gene correlations in chromosome 22')"
      ]
     },
     "execution_count": 44,
     "metadata": {},
     "output_type": "execute_result"
    },
    {
     "data": {
      "image/png": "[encoded data removed]",
      "text/plain": [
       "<Figure size 720x720 with 2 Axes>"
      ]
     },
     "metadata": {
      "needs_background": "light"
     },
     "output_type": "display_data"
    }
   ],
   "source": [
    "f, ax = plt.subplots(figsize=(10, 10))\n",
    "sns.heatmap(\n",
    "    gene_corrs_df,\n",
    "    xticklabels=False,\n",
    "    yticklabels=False,\n",
    "    square=True,\n",
    "    vmin=vmin_val,\n",
    "    vmax=vmax_val,\n",
    "    cmap=\"YlGnBu\",\n",
    "    ax=ax,\n",
    ")\n",
    "ax.set_title(f\"Gene correlations in chromosome {chromosome}\")"
   ]
  },
  {
   "cell_type": "code",
   "execution_count": null,
   "id": "b25e3ead",
   "metadata": {
    "papermill": {
     "duration": 0.643574,
     "end_time": "2022-07-11T07:58:03.047869",
     "exception": false,
     "start_time": "2022-07-11T07:58:02.404295",
     "status": "completed"
    },
    "tags": []
   },
   "outputs": [],
   "source": []
  }
 ],
 "metadata": {
  "jupytext": {
   "cell_metadata_filter": "all,-execution,-papermill,-trusted",
   "formats": "ipynb,py//py:percent"
  },
  "kernelspec": {
   "display_name": "Python 3 (ipykernel)",
   "language": "python",
   "name": "python3"
  },
  "language_info": {
   "codemirror_mode": {
    "name": "ipython",
    "version": 3
   },
   "file_extension": ".py",
   "mimetype": "text/x-python",
   "name": "python",
   "nbconvert_exporter": "python",
   "pygments_lexer": "ipython3",
   "version": "3.8.13"
  },
  "papermill": {
   "default_parameters": {},
   "duration": 493.901336,
   "end_time": "2022-07-11T07:58:06.759631",
   "environment_variables": {},
   "exception": null,
   "input_path": "nbs/15_gsa_gls/10-gene_expr_correlations.ipynb",
   "output_path": "nbs/15_gsa_gls/gene_corrs/1000g/mashr/10-gene_expr_correlations-chr22.run.ipynb",
   "parameters": {
    "EQTL_MODEL": "MASHR",
    "REFERENCE_PANEL": "1000G",
    "chromosome": 22
   },
   "start_time": "2022-07-11T07:49:52.858295",
   "version": "2.2.2"
  }
 },
 "nbformat": 4,
 "nbformat_minor": 5
}
