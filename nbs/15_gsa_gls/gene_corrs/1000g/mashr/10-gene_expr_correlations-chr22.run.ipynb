{
 "cells": [
  {
   "cell_type": "markdown",
   "id": "7a6632fb",
   "metadata": {
    "papermill": {
     "duration": 0.006531,
     "end_time": "2022-07-12T10:01:16.302581",
     "exception": false,
     "start_time": "2022-07-12T10:01:16.296050",
     "status": "completed"
    },
    "tags": []
   },
   "source": [
    "# Description"
   ]
  },
  {
   "cell_type": "markdown",
   "id": "7097c346",
   "metadata": {
    "papermill": {
     "duration": 0.005634,
     "end_time": "2022-07-12T10:01:16.314547",
     "exception": false,
     "start_time": "2022-07-12T10:01:16.308913",
     "status": "completed"
    },
    "tags": []
   },
   "source": [
    "(Please, take a look at the README.md file in this directory for instructions on how to run this notebook)\n",
    "\n",
    "This notebook computes predicted expression correlations between all genes in the MultiPLIER models.\n",
    "\n",
    "It also has a parameter set for papermill to run on a single chromosome to run in parallel (see under `Settings` below).\n",
    "\n",
    "This notebook is not directly run. See README.md."
   ]
  },
  {
   "cell_type": "markdown",
   "id": "c61d8427",
   "metadata": {
    "papermill": {
     "duration": 0.00567,
     "end_time": "2022-07-12T10:01:16.325986",
     "exception": false,
     "start_time": "2022-07-12T10:01:16.320316",
     "status": "completed"
    },
    "tags": []
   },
   "source": [
    "# Modules"
   ]
  },
  {
   "cell_type": "code",
   "execution_count": 1,
   "id": "bbc0234f",
   "metadata": {
    "execution": {
     "iopub.execute_input": "2022-07-12T10:01:16.339214Z",
     "iopub.status.busy": "2022-07-12T10:01:16.338983Z",
     "iopub.status.idle": "2022-07-12T10:01:16.354049Z",
     "shell.execute_reply": "2022-07-12T10:01:16.353624Z"
    },
    "papermill": {
     "duration": 0.023563,
     "end_time": "2022-07-12T10:01:16.355387",
     "exception": false,
     "start_time": "2022-07-12T10:01:16.331824",
     "status": "completed"
    },
    "tags": []
   },
   "outputs": [],
   "source": [
    "%load_ext autoreload\n",
    "%autoreload 2"
   ]
  },
  {
   "cell_type": "code",
   "execution_count": 2,
   "id": "1d5f5a59",
   "metadata": {
    "execution": {
     "iopub.execute_input": "2022-07-12T10:01:16.397920Z",
     "iopub.status.busy": "2022-07-12T10:01:16.397447Z",
     "iopub.status.idle": "2022-07-12T10:01:17.307831Z",
     "shell.execute_reply": "2022-07-12T10:01:17.307390Z"
    },
    "papermill": {
     "duration": 0.919149,
     "end_time": "2022-07-12T10:01:17.309235",
     "exception": false,
     "start_time": "2022-07-12T10:01:16.390086",
     "status": "completed"
    },
    "tags": []
   },
   "outputs": [],
   "source": [
    "from random import sample, seed\n",
    "import warnings\n",
    "from pathlib import Path\n",
    "\n",
    "import numpy as np\n",
    "from scipy.spatial.distance import squareform\n",
    "import pandas as pd\n",
    "from tqdm import tqdm\n",
    "import matplotlib.pyplot as plt\n",
    "import seaborn as sns\n",
    "\n",
    "import conf\n",
    "from entity import Gene"
   ]
  },
  {
   "cell_type": "markdown",
   "id": "1eac24b5",
   "metadata": {
    "papermill": {
     "duration": 0.005322,
     "end_time": "2022-07-12T10:01:17.320381",
     "exception": false,
     "start_time": "2022-07-12T10:01:17.315059",
     "status": "completed"
    },
    "tags": []
   },
   "source": [
    "# Settings"
   ]
  },
  {
   "cell_type": "code",
   "execution_count": 3,
   "id": "ca4560ba",
   "metadata": {
    "execution": {
     "iopub.execute_input": "2022-07-12T10:01:17.332570Z",
     "iopub.status.busy": "2022-07-12T10:01:17.332306Z",
     "iopub.status.idle": "2022-07-12T10:01:17.347663Z",
     "shell.execute_reply": "2022-07-12T10:01:17.347271Z"
    },
    "papermill": {
     "duration": 0.023014,
     "end_time": "2022-07-12T10:01:17.348924",
     "exception": false,
     "start_time": "2022-07-12T10:01:17.325910",
     "status": "completed"
    },
    "tags": [
     "parameters"
    ]
   },
   "outputs": [],
   "source": [
    "# reference panel\n",
    "REFERENCE_PANEL = \"GTEX_V8\"\n",
    "# REFERENCE_PANEL = \"1000G\"\n",
    "\n",
    "# prediction models\n",
    "## mashr\n",
    "EQTL_MODEL = \"MASHR\"\n",
    "\n",
    "# this is the default value used in S-MultiXcan to select the\n",
    "# top principal components of the expression correlation matrix\n",
    "SMULTIXCAN_CONDITION_NUMBER = 30\n",
    "\n",
    "# specifies a single chromosome value\n",
    "# by default, run on all chromosomes\n",
    "chromosome = None"
   ]
  },
  {
   "cell_type": "code",
   "execution_count": 4,
   "id": "1c10854e",
   "metadata": {
    "execution": {
     "iopub.execute_input": "2022-07-12T10:01:17.361169Z",
     "iopub.status.busy": "2022-07-12T10:01:17.360968Z",
     "iopub.status.idle": "2022-07-12T10:01:17.375504Z",
     "shell.execute_reply": "2022-07-12T10:01:17.375100Z"
    },
    "papermill": {
     "duration": 0.022239,
     "end_time": "2022-07-12T10:01:17.376842",
     "exception": false,
     "start_time": "2022-07-12T10:01:17.354603",
     "status": "completed"
    },
    "tags": [
     "injected-parameters"
    ]
   },
   "outputs": [],
   "source": [
    "# Parameters\n",
    "chromosome = 22\n",
    "REFERENCE_PANEL = \"1000G\"\n",
    "EQTL_MODEL = \"MASHR\"\n"
   ]
  },
  {
   "cell_type": "code",
   "execution_count": 5,
   "id": "a089c9ff",
   "metadata": {
    "execution": {
     "iopub.execute_input": "2022-07-12T10:01:17.390139Z",
     "iopub.status.busy": "2022-07-12T10:01:17.389938Z",
     "iopub.status.idle": "2022-07-12T10:01:17.404895Z",
     "shell.execute_reply": "2022-07-12T10:01:17.404485Z"
    },
    "papermill": {
     "duration": 0.022434,
     "end_time": "2022-07-12T10:01:17.406206",
     "exception": false,
     "start_time": "2022-07-12T10:01:17.383772",
     "status": "completed"
    },
    "tags": []
   },
   "outputs": [],
   "source": [
    "EQTL_MODEL_FILES_PREFIX = conf.PHENOMEXCAN[\"PREDICTION_MODELS\"][f\"{EQTL_MODEL}_PREFIX\"]"
   ]
  },
  {
   "cell_type": "code",
   "execution_count": 6,
   "id": "8fe24bef",
   "metadata": {
    "execution": {
     "iopub.execute_input": "2022-07-12T10:01:17.418468Z",
     "iopub.status.busy": "2022-07-12T10:01:17.418267Z",
     "iopub.status.idle": "2022-07-12T10:01:17.434072Z",
     "shell.execute_reply": "2022-07-12T10:01:17.433654Z"
    },
    "papermill": {
     "duration": 0.023125,
     "end_time": "2022-07-12T10:01:17.435327",
     "exception": false,
     "start_time": "2022-07-12T10:01:17.412202",
     "status": "completed"
    },
    "tags": []
   },
   "outputs": [
    {
     "data": {
      "text/plain": [
       "'Using eQTL model: MASHR / mashr_'"
      ]
     },
     "metadata": {},
     "output_type": "display_data"
    }
   ],
   "source": [
    "display(f\"Using eQTL model: {EQTL_MODEL} / {EQTL_MODEL_FILES_PREFIX}\")"
   ]
  },
  {
   "cell_type": "code",
   "execution_count": 7,
   "id": "552a7f63-a18c-4d3e-bb6a-94f99b431291",
   "metadata": {
    "execution": {
     "iopub.execute_input": "2022-07-12T10:01:17.448915Z",
     "iopub.status.busy": "2022-07-12T10:01:17.448688Z",
     "iopub.status.idle": "2022-07-12T10:01:17.463554Z",
     "shell.execute_reply": "2022-07-12T10:01:17.463135Z"
    },
    "papermill": {
     "duration": 0.02254,
     "end_time": "2022-07-12T10:01:17.464776",
     "exception": false,
     "start_time": "2022-07-12T10:01:17.442236",
     "status": "completed"
    },
    "tags": []
   },
   "outputs": [
    {
     "data": {
      "text/plain": [
       "'S-MultiXcan condition number: 30'"
      ]
     },
     "metadata": {},
     "output_type": "display_data"
    }
   ],
   "source": [
    "display(f\"S-MultiXcan condition number: {SMULTIXCAN_CONDITION_NUMBER}\")"
   ]
  },
  {
   "cell_type": "code",
   "execution_count": 8,
   "id": "0230ebcb-2c32-4b95-9292-d9a52038e70d",
   "metadata": {
    "execution": {
     "iopub.execute_input": "2022-07-12T10:01:17.477466Z",
     "iopub.status.busy": "2022-07-12T10:01:17.477017Z",
     "iopub.status.idle": "2022-07-12T10:01:17.491118Z",
     "shell.execute_reply": "2022-07-12T10:01:17.490712Z"
    },
    "papermill": {
     "duration": 0.021744,
     "end_time": "2022-07-12T10:01:17.492406",
     "exception": false,
     "start_time": "2022-07-12T10:01:17.470662",
     "status": "completed"
    },
    "tags": []
   },
   "outputs": [],
   "source": [
    "REFERENCE_PANEL_DIR = conf.PHENOMEXCAN[\"LD_BLOCKS\"][f\"{REFERENCE_PANEL}_GENOTYPE_DIR\"]"
   ]
  },
  {
   "cell_type": "code",
   "execution_count": 9,
   "id": "98c4a159-601d-4a22-a1ab-35bd451c25f9",
   "metadata": {
    "execution": {
     "iopub.execute_input": "2022-07-12T10:01:17.505184Z",
     "iopub.status.busy": "2022-07-12T10:01:17.504925Z",
     "iopub.status.idle": "2022-07-12T10:01:17.519598Z",
     "shell.execute_reply": "2022-07-12T10:01:17.519175Z"
    },
    "papermill": {
     "duration": 0.023205,
     "end_time": "2022-07-12T10:01:17.521501",
     "exception": false,
     "start_time": "2022-07-12T10:01:17.498296",
     "status": "completed"
    },
    "tags": []
   },
   "outputs": [
    {
     "data": {
      "text/plain": [
       "'Using reference panel folder: /opt/data/data/phenomexcan/ld_blocks/reference_panel_1000G'"
      ]
     },
     "metadata": {},
     "output_type": "display_data"
    }
   ],
   "source": [
    "display(f\"Using reference panel folder: {str(REFERENCE_PANEL_DIR)}\")"
   ]
  },
  {
   "cell_type": "code",
   "execution_count": 10,
   "id": "396392dc-0340-4540-9b02-e182b833f909",
   "metadata": {
    "execution": {
     "iopub.execute_input": "2022-07-12T10:01:17.534091Z",
     "iopub.status.busy": "2022-07-12T10:01:17.533783Z",
     "iopub.status.idle": "2022-07-12T10:01:17.548154Z",
     "shell.execute_reply": "2022-07-12T10:01:17.547739Z"
    },
    "papermill": {
     "duration": 0.022037,
     "end_time": "2022-07-12T10:01:17.549421",
     "exception": false,
     "start_time": "2022-07-12T10:01:17.527384",
     "status": "completed"
    },
    "tags": []
   },
   "outputs": [],
   "source": [
    "OUTPUT_DIR_BASE = (\n",
    "    conf.PHENOMEXCAN[\"LD_BLOCKS\"][f\"GENE_CORRS_DIR\"]\n",
    "    / REFERENCE_PANEL.lower()\n",
    "    / EQTL_MODEL.lower()\n",
    ")\n",
    "OUTPUT_DIR_BASE.mkdir(parents=True, exist_ok=True)"
   ]
  },
  {
   "cell_type": "code",
   "execution_count": 11,
   "id": "8942c2d3-e53c-4d63-a0eb-b6fce0574d36",
   "metadata": {
    "execution": {
     "iopub.execute_input": "2022-07-12T10:01:17.562629Z",
     "iopub.status.busy": "2022-07-12T10:01:17.562424Z",
     "iopub.status.idle": "2022-07-12T10:01:17.579776Z",
     "shell.execute_reply": "2022-07-12T10:01:17.578948Z"
    },
    "papermill": {
     "duration": 0.025468,
     "end_time": "2022-07-12T10:01:17.581024",
     "exception": false,
     "start_time": "2022-07-12T10:01:17.555556",
     "status": "completed"
    },
    "tags": []
   },
   "outputs": [
    {
     "data": {
      "text/plain": [
       "'Using output dir base: /opt/data/data/phenomexcan/ld_blocks/gene_corrs/1000g/mashr'"
      ]
     },
     "metadata": {},
     "output_type": "display_data"
    }
   ],
   "source": [
    "display(f\"Using output dir base: {OUTPUT_DIR_BASE}\")"
   ]
  },
  {
   "cell_type": "code",
   "execution_count": 12,
   "id": "408aa590",
   "metadata": {
    "execution": {
     "iopub.execute_input": "2022-07-12T10:01:17.593824Z",
     "iopub.status.busy": "2022-07-12T10:01:17.593610Z",
     "iopub.status.idle": "2022-07-12T10:01:17.607473Z",
     "shell.execute_reply": "2022-07-12T10:01:17.607091Z"
    },
    "papermill": {
     "duration": 0.021614,
     "end_time": "2022-07-12T10:01:17.608689",
     "exception": false,
     "start_time": "2022-07-12T10:01:17.587075",
     "status": "completed"
    },
    "tags": []
   },
   "outputs": [],
   "source": [
    "assert (\n",
    "    chromosome is not None\n",
    "), \"You have to select one chromosome (format: number between 1 and 22)\""
   ]
  },
  {
   "cell_type": "code",
   "execution_count": 13,
   "id": "c1c7dd06-80ff-453c-bcb7-0899edce75da",
   "metadata": {
    "execution": {
     "iopub.execute_input": "2022-07-12T10:01:17.622087Z",
     "iopub.status.busy": "2022-07-12T10:01:17.621683Z",
     "iopub.status.idle": "2022-07-12T10:01:17.635808Z",
     "shell.execute_reply": "2022-07-12T10:01:17.635417Z"
    },
    "papermill": {
     "duration": 0.022302,
     "end_time": "2022-07-12T10:01:17.637097",
     "exception": false,
     "start_time": "2022-07-12T10:01:17.614795",
     "status": "completed"
    },
    "tags": []
   },
   "outputs": [],
   "source": [
    "chromosome = str(chromosome)"
   ]
  },
  {
   "cell_type": "code",
   "execution_count": 14,
   "id": "bc17b84c-9c26-47a5-a3ab-7046e72f3ef4",
   "metadata": {
    "execution": {
     "iopub.execute_input": "2022-07-12T10:01:17.650213Z",
     "iopub.status.busy": "2022-07-12T10:01:17.649741Z",
     "iopub.status.idle": "2022-07-12T10:01:17.664211Z",
     "shell.execute_reply": "2022-07-12T10:01:17.663797Z"
    },
    "papermill": {
     "duration": 0.022234,
     "end_time": "2022-07-12T10:01:17.665407",
     "exception": false,
     "start_time": "2022-07-12T10:01:17.643173",
     "status": "completed"
    },
    "tags": []
   },
   "outputs": [
    {
     "data": {
      "text/plain": [
       "'Working on chromosome 22'"
      ]
     },
     "metadata": {},
     "output_type": "display_data"
    }
   ],
   "source": [
    "display(f\"Working on chromosome {chromosome}\")"
   ]
  },
  {
   "cell_type": "code",
   "execution_count": 15,
   "id": "3c7d8574-90c7-4d09-bc8c-469ed0a34737",
   "metadata": {
    "execution": {
     "iopub.execute_input": "2022-07-12T10:01:17.678947Z",
     "iopub.status.busy": "2022-07-12T10:01:17.678749Z",
     "iopub.status.idle": "2022-07-12T10:01:17.693717Z",
     "shell.execute_reply": "2022-07-12T10:01:17.693302Z"
    },
    "papermill": {
     "duration": 0.023157,
     "end_time": "2022-07-12T10:01:17.694955",
     "exception": false,
     "start_time": "2022-07-12T10:01:17.671798",
     "status": "completed"
    },
    "tags": []
   },
   "outputs": [
    {
     "data": {
      "text/plain": [
       "'Compute correlation within distance False'"
      ]
     },
     "metadata": {},
     "output_type": "display_data"
    }
   ],
   "source": [
    "# This paramter, if True, computes the correlation between closeby genes only\n",
    "COMPUTE_CORRELATIONS_WITHIN_DISTANCE = False\n",
    "display(f\"Compute correlation within distance {COMPUTE_CORRELATIONS_WITHIN_DISTANCE}\")"
   ]
  },
  {
   "cell_type": "markdown",
   "id": "d2ba085e",
   "metadata": {
    "papermill": {
     "duration": 0.006479,
     "end_time": "2022-07-12T10:01:17.707923",
     "exception": false,
     "start_time": "2022-07-12T10:01:17.701444",
     "status": "completed"
    },
    "tags": []
   },
   "source": [
    "# Load data"
   ]
  },
  {
   "cell_type": "markdown",
   "id": "7bed0ce0-e7c7-4300-9a61-5412450b1904",
   "metadata": {
    "papermill": {
     "duration": 0.006263,
     "end_time": "2022-07-12T10:01:17.720507",
     "exception": false,
     "start_time": "2022-07-12T10:01:17.714244",
     "status": "completed"
    },
    "tags": []
   },
   "source": [
    "## Prediction model tissues"
   ]
  },
  {
   "cell_type": "code",
   "execution_count": 16,
   "id": "0847c065-0d69-4830-a07f-1c75115d17f5",
   "metadata": {
    "execution": {
     "iopub.execute_input": "2022-07-12T10:01:17.734297Z",
     "iopub.status.busy": "2022-07-12T10:01:17.733928Z",
     "iopub.status.idle": "2022-07-12T10:01:17.747890Z",
     "shell.execute_reply": "2022-07-12T10:01:17.747473Z"
    },
    "papermill": {
     "duration": 0.022227,
     "end_time": "2022-07-12T10:01:17.749146",
     "exception": false,
     "start_time": "2022-07-12T10:01:17.726919",
     "status": "completed"
    },
    "tags": []
   },
   "outputs": [],
   "source": [
    "prediction_model_tissues = conf.PHENOMEXCAN[\"PREDICTION_MODELS\"][\n",
    "    f\"{EQTL_MODEL}_TISSUES\"\n",
    "].split(\" \")"
   ]
  },
  {
   "cell_type": "code",
   "execution_count": 17,
   "id": "aaef70d1-30c6-4c6f-9d6b-abc8e9a0081f",
   "metadata": {
    "execution": {
     "iopub.execute_input": "2022-07-12T10:01:17.762460Z",
     "iopub.status.busy": "2022-07-12T10:01:17.762045Z",
     "iopub.status.idle": "2022-07-12T10:01:17.776846Z",
     "shell.execute_reply": "2022-07-12T10:01:17.776423Z"
    },
    "papermill": {
     "duration": 0.022523,
     "end_time": "2022-07-12T10:01:17.777995",
     "exception": false,
     "start_time": "2022-07-12T10:01:17.755472",
     "status": "completed"
    },
    "tags": []
   },
   "outputs": [
    {
     "data": {
      "text/plain": [
       "49"
      ]
     },
     "execution_count": 17,
     "metadata": {},
     "output_type": "execute_result"
    }
   ],
   "source": [
    "len(prediction_model_tissues)"
   ]
  },
  {
   "cell_type": "code",
   "execution_count": 18,
   "id": "ff35a099-c52d-465d-b863-0ee70c26208c",
   "metadata": {
    "execution": {
     "iopub.execute_input": "2022-07-12T10:01:17.791309Z",
     "iopub.status.busy": "2022-07-12T10:01:17.791015Z",
     "iopub.status.idle": "2022-07-12T10:01:17.806520Z",
     "shell.execute_reply": "2022-07-12T10:01:17.806095Z"
    },
    "papermill": {
     "duration": 0.023384,
     "end_time": "2022-07-12T10:01:17.807697",
     "exception": false,
     "start_time": "2022-07-12T10:01:17.784313",
     "status": "completed"
    },
    "tags": []
   },
   "outputs": [
    {
     "data": {
      "text/plain": [
       "['Skin_Not_Sun_Exposed_Suprapubic',\n",
       " 'Cells_EBV-transformed_lymphocytes',\n",
       " 'Brain_Frontal_Cortex_BA9',\n",
       " 'Kidney_Cortex',\n",
       " 'Brain_Substantia_nigra']"
      ]
     },
     "execution_count": 18,
     "metadata": {},
     "output_type": "execute_result"
    }
   ],
   "source": [
    "prediction_model_tissues[:5]"
   ]
  },
  {
   "cell_type": "markdown",
   "id": "abcc4b3d",
   "metadata": {
    "papermill": {
     "duration": 0.006318,
     "end_time": "2022-07-12T10:01:17.820590",
     "exception": false,
     "start_time": "2022-07-12T10:01:17.814272",
     "status": "completed"
    },
    "tags": []
   },
   "source": [
    "## MultiPLIER Z"
   ]
  },
  {
   "cell_type": "code",
   "execution_count": 19,
   "id": "c48ef527",
   "metadata": {
    "execution": {
     "iopub.execute_input": "2022-07-12T10:01:17.834438Z",
     "iopub.status.busy": "2022-07-12T10:01:17.834275Z",
     "iopub.status.idle": "2022-07-12T10:01:17.874698Z",
     "shell.execute_reply": "2022-07-12T10:01:17.874280Z"
    },
    "papermill": {
     "duration": 0.049072,
     "end_time": "2022-07-12T10:01:17.876064",
     "exception": false,
     "start_time": "2022-07-12T10:01:17.826992",
     "status": "completed"
    },
    "tags": []
   },
   "outputs": [],
   "source": [
    "multiplier_z_genes = pd.read_pickle(\n",
    "    conf.MULTIPLIER[\"MODEL_Z_MATRIX_FILE\"]\n",
    ").index.tolist()"
   ]
  },
  {
   "cell_type": "code",
   "execution_count": 20,
   "id": "0a4ecbd9",
   "metadata": {
    "execution": {
     "iopub.execute_input": "2022-07-12T10:01:17.890511Z",
     "iopub.status.busy": "2022-07-12T10:01:17.890304Z",
     "iopub.status.idle": "2022-07-12T10:01:17.906496Z",
     "shell.execute_reply": "2022-07-12T10:01:17.905970Z"
    },
    "papermill": {
     "duration": 0.024818,
     "end_time": "2022-07-12T10:01:17.907769",
     "exception": false,
     "start_time": "2022-07-12T10:01:17.882951",
     "status": "completed"
    },
    "tags": []
   },
   "outputs": [
    {
     "data": {
      "text/plain": [
       "6750"
      ]
     },
     "execution_count": 20,
     "metadata": {},
     "output_type": "execute_result"
    }
   ],
   "source": [
    "len(multiplier_z_genes)"
   ]
  },
  {
   "cell_type": "code",
   "execution_count": 21,
   "id": "115e8864",
   "metadata": {
    "execution": {
     "iopub.execute_input": "2022-07-12T10:01:17.922083Z",
     "iopub.status.busy": "2022-07-12T10:01:17.921645Z",
     "iopub.status.idle": "2022-07-12T10:01:17.936182Z",
     "shell.execute_reply": "2022-07-12T10:01:17.935761Z"
    },
    "papermill": {
     "duration": 0.022877,
     "end_time": "2022-07-12T10:01:17.937426",
     "exception": false,
     "start_time": "2022-07-12T10:01:17.914549",
     "status": "completed"
    },
    "tags": []
   },
   "outputs": [
    {
     "data": {
      "text/plain": [
       "['GAS6',\n",
       " 'MMP14',\n",
       " 'DSP',\n",
       " 'MARCKSL1',\n",
       " 'SPARC',\n",
       " 'CTSD',\n",
       " 'EPAS1',\n",
       " 'PALLD',\n",
       " 'PHC2',\n",
       " 'LGALS3BP']"
      ]
     },
     "execution_count": 21,
     "metadata": {},
     "output_type": "execute_result"
    }
   ],
   "source": [
    "multiplier_z_genes[:10]"
   ]
  },
  {
   "cell_type": "markdown",
   "id": "7dcb8db7",
   "metadata": {
    "papermill": {
     "duration": 0.006349,
     "end_time": "2022-07-12T10:01:17.950473",
     "exception": false,
     "start_time": "2022-07-12T10:01:17.944124",
     "status": "completed"
    },
    "tags": []
   },
   "source": [
    "## Get gene objects"
   ]
  },
  {
   "cell_type": "code",
   "execution_count": 22,
   "id": "bb932812",
   "metadata": {
    "execution": {
     "iopub.execute_input": "2022-07-12T10:01:17.964560Z",
     "iopub.status.busy": "2022-07-12T10:01:17.964125Z",
     "iopub.status.idle": "2022-07-12T10:01:17.984533Z",
     "shell.execute_reply": "2022-07-12T10:01:17.984127Z"
    },
    "papermill": {
     "duration": 0.028847,
     "end_time": "2022-07-12T10:01:17.985833",
     "exception": false,
     "start_time": "2022-07-12T10:01:17.956986",
     "status": "completed"
    },
    "tags": []
   },
   "outputs": [],
   "source": [
    "multiplier_gene_obj = {\n",
    "    gene_name: Gene(name=gene_name)\n",
    "    for gene_name in multiplier_z_genes\n",
    "    if gene_name in Gene.GENE_NAME_TO_ID_MAP\n",
    "}"
   ]
  },
  {
   "cell_type": "code",
   "execution_count": 23,
   "id": "39533214",
   "metadata": {
    "execution": {
     "iopub.execute_input": "2022-07-12T10:01:18.000295Z",
     "iopub.status.busy": "2022-07-12T10:01:18.000092Z",
     "iopub.status.idle": "2022-07-12T10:01:18.014550Z",
     "shell.execute_reply": "2022-07-12T10:01:18.014135Z"
    },
    "papermill": {
     "duration": 0.022996,
     "end_time": "2022-07-12T10:01:18.015768",
     "exception": false,
     "start_time": "2022-07-12T10:01:17.992772",
     "status": "completed"
    },
    "tags": []
   },
   "outputs": [
    {
     "data": {
      "text/plain": [
       "6454"
      ]
     },
     "execution_count": 23,
     "metadata": {},
     "output_type": "execute_result"
    }
   ],
   "source": [
    "len(multiplier_gene_obj)"
   ]
  },
  {
   "cell_type": "code",
   "execution_count": 24,
   "id": "9a5d0b84",
   "metadata": {
    "execution": {
     "iopub.execute_input": "2022-07-12T10:01:18.030607Z",
     "iopub.status.busy": "2022-07-12T10:01:18.030127Z",
     "iopub.status.idle": "2022-07-12T10:01:18.044594Z",
     "shell.execute_reply": "2022-07-12T10:01:18.044172Z"
    },
    "papermill": {
     "duration": 0.023115,
     "end_time": "2022-07-12T10:01:18.045795",
     "exception": false,
     "start_time": "2022-07-12T10:01:18.022680",
     "status": "completed"
    },
    "tags": []
   },
   "outputs": [
    {
     "data": {
      "text/plain": [
       "'ENSG00000183087'"
      ]
     },
     "execution_count": 24,
     "metadata": {},
     "output_type": "execute_result"
    }
   ],
   "source": [
    "multiplier_gene_obj[\"GAS6\"].ensembl_id"
   ]
  },
  {
   "cell_type": "code",
   "execution_count": 25,
   "id": "e3ffabc7",
   "metadata": {
    "execution": {
     "iopub.execute_input": "2022-07-12T10:01:18.060982Z",
     "iopub.status.busy": "2022-07-12T10:01:18.060756Z",
     "iopub.status.idle": "2022-07-12T10:01:20.256059Z",
     "shell.execute_reply": "2022-07-12T10:01:20.255603Z"
    },
    "papermill": {
     "duration": 2.20454,
     "end_time": "2022-07-12T10:01:20.257415",
     "exception": false,
     "start_time": "2022-07-12T10:01:18.052875",
     "status": "completed"
    },
    "tags": []
   },
   "outputs": [],
   "source": [
    "_gene_obj = list(multiplier_gene_obj.values())\n",
    "\n",
    "genes_info = pd.DataFrame(\n",
    "    {\n",
    "        \"name\": [g.name for g in _gene_obj],\n",
    "        \"id\": [g.ensembl_id for g in _gene_obj],\n",
    "        \"chr\": [g.chromosome for g in _gene_obj],\n",
    "        \"band\": [g.band for g in _gene_obj],\n",
    "        \"start_position\": [g.get_attribute(\"start_position\") for g in _gene_obj],\n",
    "    }\n",
    ")"
   ]
  },
  {
   "cell_type": "code",
   "execution_count": 26,
   "id": "e23519b8",
   "metadata": {
    "execution": {
     "iopub.execute_input": "2022-07-12T10:01:20.272893Z",
     "iopub.status.busy": "2022-07-12T10:01:20.272420Z",
     "iopub.status.idle": "2022-07-12T10:01:20.288257Z",
     "shell.execute_reply": "2022-07-12T10:01:20.286938Z"
    },
    "papermill": {
     "duration": 0.025119,
     "end_time": "2022-07-12T10:01:20.289619",
     "exception": false,
     "start_time": "2022-07-12T10:01:20.264500",
     "status": "completed"
    },
    "tags": []
   },
   "outputs": [
    {
     "data": {
      "text/plain": [
       "(6454, 5)"
      ]
     },
     "execution_count": 26,
     "metadata": {},
     "output_type": "execute_result"
    }
   ],
   "source": [
    "genes_info.shape"
   ]
  },
  {
   "cell_type": "code",
   "execution_count": 27,
   "id": "0d71881c",
   "metadata": {
    "execution": {
     "iopub.execute_input": "2022-07-12T10:01:20.304221Z",
     "iopub.status.busy": "2022-07-12T10:01:20.304054Z",
     "iopub.status.idle": "2022-07-12T10:01:20.323958Z",
     "shell.execute_reply": "2022-07-12T10:01:20.323503Z"
    },
    "papermill": {
     "duration": 0.028491,
     "end_time": "2022-07-12T10:01:20.325229",
     "exception": false,
     "start_time": "2022-07-12T10:01:20.296738",
     "status": "completed"
    },
    "tags": []
   },
   "outputs": [
    {
     "data": {
      "text/html": [
       "<div>\n",
       "<style scoped>\n",
       "    .dataframe tbody tr th:only-of-type {\n",
       "        vertical-align: middle;\n",
       "    }\n",
       "\n",
       "    .dataframe tbody tr th {\n",
       "        vertical-align: top;\n",
       "    }\n",
       "\n",
       "    .dataframe thead th {\n",
       "        text-align: right;\n",
       "    }\n",
       "</style>\n",
       "<table border=\"1\" class=\"dataframe\">\n",
       "  <thead>\n",
       "    <tr style=\"text-align: right;\">\n",
       "      <th></th>\n",
       "      <th>name</th>\n",
       "      <th>id</th>\n",
       "      <th>chr</th>\n",
       "      <th>band</th>\n",
       "      <th>start_position</th>\n",
       "    </tr>\n",
       "  </thead>\n",
       "  <tbody>\n",
       "    <tr>\n",
       "      <th>0</th>\n",
       "      <td>GAS6</td>\n",
       "      <td>ENSG00000183087</td>\n",
       "      <td>13</td>\n",
       "      <td>13q34</td>\n",
       "      <td>113820549.0</td>\n",
       "    </tr>\n",
       "    <tr>\n",
       "      <th>1</th>\n",
       "      <td>MMP14</td>\n",
       "      <td>ENSG00000157227</td>\n",
       "      <td>14</td>\n",
       "      <td>14q11.2</td>\n",
       "      <td>22836560.0</td>\n",
       "    </tr>\n",
       "    <tr>\n",
       "      <th>2</th>\n",
       "      <td>DSP</td>\n",
       "      <td>ENSG00000096696</td>\n",
       "      <td>6</td>\n",
       "      <td>6p24.3</td>\n",
       "      <td>7541617.0</td>\n",
       "    </tr>\n",
       "    <tr>\n",
       "      <th>3</th>\n",
       "      <td>MARCKSL1</td>\n",
       "      <td>ENSG00000175130</td>\n",
       "      <td>1</td>\n",
       "      <td>1p35.1</td>\n",
       "      <td>32333839.0</td>\n",
       "    </tr>\n",
       "    <tr>\n",
       "      <th>4</th>\n",
       "      <td>SPARC</td>\n",
       "      <td>ENSG00000113140</td>\n",
       "      <td>5</td>\n",
       "      <td>5q33.1</td>\n",
       "      <td>151661096.0</td>\n",
       "    </tr>\n",
       "  </tbody>\n",
       "</table>\n",
       "</div>"
      ],
      "text/plain": [
       "       name               id chr     band  start_position\n",
       "0      GAS6  ENSG00000183087  13    13q34     113820549.0\n",
       "1     MMP14  ENSG00000157227  14  14q11.2      22836560.0\n",
       "2       DSP  ENSG00000096696   6   6p24.3       7541617.0\n",
       "3  MARCKSL1  ENSG00000175130   1   1p35.1      32333839.0\n",
       "4     SPARC  ENSG00000113140   5   5q33.1     151661096.0"
      ]
     },
     "execution_count": 27,
     "metadata": {},
     "output_type": "execute_result"
    }
   ],
   "source": [
    "genes_info.head()"
   ]
  },
  {
   "cell_type": "markdown",
   "id": "c8d1038f",
   "metadata": {
    "papermill": {
     "duration": 0.007144,
     "end_time": "2022-07-12T10:01:20.339621",
     "exception": false,
     "start_time": "2022-07-12T10:01:20.332477",
     "status": "completed"
    },
    "tags": []
   },
   "source": [
    "# Test"
   ]
  },
  {
   "cell_type": "code",
   "execution_count": 28,
   "id": "64993abf",
   "metadata": {
    "execution": {
     "iopub.execute_input": "2022-07-12T10:01:20.354724Z",
     "iopub.status.busy": "2022-07-12T10:01:20.354522Z",
     "iopub.status.idle": "2022-07-12T10:01:20.378507Z",
     "shell.execute_reply": "2022-07-12T10:01:20.378085Z"
    },
    "papermill": {
     "duration": 0.032952,
     "end_time": "2022-07-12T10:01:20.379734",
     "exception": false,
     "start_time": "2022-07-12T10:01:20.346782",
     "status": "completed"
    },
    "tags": []
   },
   "outputs": [
    {
     "data": {
      "text/html": [
       "<div>\n",
       "<style scoped>\n",
       "    .dataframe tbody tr th:only-of-type {\n",
       "        vertical-align: middle;\n",
       "    }\n",
       "\n",
       "    .dataframe tbody tr th {\n",
       "        vertical-align: top;\n",
       "    }\n",
       "\n",
       "    .dataframe thead th {\n",
       "        text-align: right;\n",
       "    }\n",
       "</style>\n",
       "<table border=\"1\" class=\"dataframe\">\n",
       "  <thead>\n",
       "    <tr style=\"text-align: right;\">\n",
       "      <th></th>\n",
       "      <th>name</th>\n",
       "      <th>id</th>\n",
       "      <th>chr</th>\n",
       "      <th>band</th>\n",
       "      <th>start_position</th>\n",
       "    </tr>\n",
       "  </thead>\n",
       "  <tbody>\n",
       "    <tr>\n",
       "      <th>15</th>\n",
       "      <td>TIMP3</td>\n",
       "      <td>ENSG00000100234</td>\n",
       "      <td>22</td>\n",
       "      <td>22q12.3</td>\n",
       "      <td>32801701.0</td>\n",
       "    </tr>\n",
       "    <tr>\n",
       "      <th>50</th>\n",
       "      <td>LIMK2</td>\n",
       "      <td>ENSG00000182541</td>\n",
       "      <td>22</td>\n",
       "      <td>22q12.2</td>\n",
       "      <td>31212239.0</td>\n",
       "    </tr>\n",
       "    <tr>\n",
       "      <th>72</th>\n",
       "      <td>TOM1</td>\n",
       "      <td>ENSG00000100284</td>\n",
       "      <td>22</td>\n",
       "      <td>22q12.3</td>\n",
       "      <td>35299275.0</td>\n",
       "    </tr>\n",
       "    <tr>\n",
       "      <th>136</th>\n",
       "      <td>KDELR3</td>\n",
       "      <td>ENSG00000100196</td>\n",
       "      <td>22</td>\n",
       "      <td>22q13.1</td>\n",
       "      <td>38468078.0</td>\n",
       "    </tr>\n",
       "    <tr>\n",
       "      <th>170</th>\n",
       "      <td>PICK1</td>\n",
       "      <td>ENSG00000100151</td>\n",
       "      <td>22</td>\n",
       "      <td>22q13.1</td>\n",
       "      <td>38056311.0</td>\n",
       "    </tr>\n",
       "    <tr>\n",
       "      <th>...</th>\n",
       "      <td>...</td>\n",
       "      <td>...</td>\n",
       "      <td>...</td>\n",
       "      <td>...</td>\n",
       "      <td>...</td>\n",
       "    </tr>\n",
       "    <tr>\n",
       "      <th>6244</th>\n",
       "      <td>MKL1</td>\n",
       "      <td>ENSG00000196588</td>\n",
       "      <td>22</td>\n",
       "      <td>22q13.2</td>\n",
       "      <td>40410281.0</td>\n",
       "    </tr>\n",
       "    <tr>\n",
       "      <th>6286</th>\n",
       "      <td>XRCC6</td>\n",
       "      <td>ENSG00000196419</td>\n",
       "      <td>22</td>\n",
       "      <td>22q13.2</td>\n",
       "      <td>41621119.0</td>\n",
       "    </tr>\n",
       "    <tr>\n",
       "      <th>6399</th>\n",
       "      <td>PDGFB</td>\n",
       "      <td>ENSG00000100311</td>\n",
       "      <td>22</td>\n",
       "      <td>22q13.1</td>\n",
       "      <td>39223359.0</td>\n",
       "    </tr>\n",
       "    <tr>\n",
       "      <th>6402</th>\n",
       "      <td>UBE2L3</td>\n",
       "      <td>ENSG00000185651</td>\n",
       "      <td>22</td>\n",
       "      <td>22q11.21</td>\n",
       "      <td>21549447.0</td>\n",
       "    </tr>\n",
       "    <tr>\n",
       "      <th>6420</th>\n",
       "      <td>TUBA8</td>\n",
       "      <td>ENSG00000183785</td>\n",
       "      <td>22</td>\n",
       "      <td>22q11.21</td>\n",
       "      <td>18110331.0</td>\n",
       "    </tr>\n",
       "  </tbody>\n",
       "</table>\n",
       "<p>170 rows × 5 columns</p>\n",
       "</div>"
      ],
      "text/plain": [
       "        name               id chr      band  start_position\n",
       "15     TIMP3  ENSG00000100234  22   22q12.3      32801701.0\n",
       "50     LIMK2  ENSG00000182541  22   22q12.2      31212239.0\n",
       "72      TOM1  ENSG00000100284  22   22q12.3      35299275.0\n",
       "136   KDELR3  ENSG00000100196  22   22q13.1      38468078.0\n",
       "170    PICK1  ENSG00000100151  22   22q13.1      38056311.0\n",
       "...      ...              ...  ..       ...             ...\n",
       "6244    MKL1  ENSG00000196588  22   22q13.2      40410281.0\n",
       "6286   XRCC6  ENSG00000196419  22   22q13.2      41621119.0\n",
       "6399   PDGFB  ENSG00000100311  22   22q13.1      39223359.0\n",
       "6402  UBE2L3  ENSG00000185651  22  22q11.21      21549447.0\n",
       "6420   TUBA8  ENSG00000183785  22  22q11.21      18110331.0\n",
       "\n",
       "[170 rows x 5 columns]"
      ]
     },
     "metadata": {},
     "output_type": "display_data"
    }
   ],
   "source": [
    "chromosome_genes_info = genes_info[genes_info[\"chr\"] == chromosome]\n",
    "display(chromosome_genes_info)"
   ]
  },
  {
   "cell_type": "code",
   "execution_count": 29,
   "id": "d2e42726-7de6-46eb-acfc-6323eaa8fae6",
   "metadata": {
    "execution": {
     "iopub.execute_input": "2022-07-12T10:01:20.396127Z",
     "iopub.status.busy": "2022-07-12T10:01:20.395894Z",
     "iopub.status.idle": "2022-07-12T10:01:20.411503Z",
     "shell.execute_reply": "2022-07-12T10:01:20.411070Z"
    },
    "papermill": {
     "duration": 0.025277,
     "end_time": "2022-07-12T10:01:20.412745",
     "exception": false,
     "start_time": "2022-07-12T10:01:20.387468",
     "status": "completed"
    },
    "tags": []
   },
   "outputs": [
    {
     "data": {
      "text/plain": [
       "5"
      ]
     },
     "metadata": {},
     "output_type": "display_data"
    }
   ],
   "source": [
    "seed(0)\n",
    "_gene_list_ids = sample(chromosome_genes_info[\"id\"].tolist(), 5)\n",
    "selected_chromosome_genes_obj = [Gene(ensembl_id=g_id) for g_id in _gene_list_ids]\n",
    "display(len(selected_chromosome_genes_obj))"
   ]
  },
  {
   "cell_type": "code",
   "execution_count": 30,
   "id": "1b355359",
   "metadata": {
    "execution": {
     "iopub.execute_input": "2022-07-12T10:01:20.428340Z",
     "iopub.status.busy": "2022-07-12T10:01:20.428139Z",
     "iopub.status.idle": "2022-07-12T10:01:22.344046Z",
     "shell.execute_reply": "2022-07-12T10:01:22.343571Z"
    },
    "papermill": {
     "duration": 1.924891,
     "end_time": "2022-07-12T10:01:22.345198",
     "exception": false,
     "start_time": "2022-07-12T10:01:20.420307",
     "status": "completed"
    },
    "tags": []
   },
   "outputs": [
    {
     "name": "stdout",
     "output_type": "stream",
     "text": [
      "MGAT3 / ADM2: 0.0\n",
      "MGAT3 / TTC28: 0.0\n",
      "MGAT3 / SMC1B: 0.0\n",
      "MGAT3 / RANGAP1: 0.00739042092743749\n",
      "ADM2 / TTC28: 0.0\n",
      "ADM2 / SMC1B: 0.0\n",
      "ADM2 / RANGAP1: 0.0\n",
      "TTC28 / SMC1B: 0.0\n",
      "TTC28 / RANGAP1: 0.0\n",
      "SMC1B / RANGAP1: 0.006867143019214248\n"
     ]
    }
   ],
   "source": [
    "for gene_idx1 in range(0, len(selected_chromosome_genes_obj) - 1):\n",
    "    gene_obj1 = selected_chromosome_genes_obj[gene_idx1]\n",
    "\n",
    "    for gene_idx2 in range(gene_idx1 + 1, len(selected_chromosome_genes_obj)):\n",
    "        gene_obj2 = selected_chromosome_genes_obj[gene_idx2]\n",
    "\n",
    "        c = gene_obj1.get_ssm_correlation(\n",
    "            gene_obj2,\n",
    "        )\n",
    "\n",
    "        print(f\"{gene_obj1.name} / {gene_obj2.name}: {c}\")"
   ]
  },
  {
   "cell_type": "markdown",
   "id": "d3843e06",
   "metadata": {
    "papermill": {
     "duration": 0.007613,
     "end_time": "2022-07-12T10:01:22.360720",
     "exception": false,
     "start_time": "2022-07-12T10:01:22.353107",
     "status": "completed"
    },
    "tags": []
   },
   "source": [
    "# Compute correlation per chromosome"
   ]
  },
  {
   "cell_type": "code",
   "execution_count": 31,
   "id": "cb859c15-d1f3-4006-a74c-2b83c0db9611",
   "metadata": {
    "execution": {
     "iopub.execute_input": "2022-07-12T10:01:22.377411Z",
     "iopub.status.busy": "2022-07-12T10:01:22.377204Z",
     "iopub.status.idle": "2022-07-12T10:01:22.394388Z",
     "shell.execute_reply": "2022-07-12T10:01:22.393991Z"
    },
    "papermill": {
     "duration": 0.026647,
     "end_time": "2022-07-12T10:01:22.395530",
     "exception": false,
     "start_time": "2022-07-12T10:01:22.368883",
     "status": "completed"
    },
    "tags": []
   },
   "outputs": [
    {
     "data": {
      "text/plain": [
       "PosixPath('/opt/data/data/phenomexcan/ld_blocks/gene_corrs/1000g/mashr/by_chr/gene_corrs-chr22.pkl')"
      ]
     },
     "metadata": {},
     "output_type": "display_data"
    }
   ],
   "source": [
    "output_dir = OUTPUT_DIR_BASE / \"by_chr\"\n",
    "output_dir.mkdir(exist_ok=True, parents=True)\n",
    "output_file = output_dir / f\"gene_corrs-chr{chromosome}.pkl\"\n",
    "display(output_file)"
   ]
  },
  {
   "cell_type": "code",
   "execution_count": 32,
   "id": "aa674fe4-6794-4eed-98fa-32b39d1d4ace",
   "metadata": {
    "execution": {
     "iopub.execute_input": "2022-07-12T10:01:22.412135Z",
     "iopub.status.busy": "2022-07-12T10:01:22.411904Z",
     "iopub.status.idle": "2022-07-12T10:01:22.426555Z",
     "shell.execute_reply": "2022-07-12T10:01:22.426171Z"
    },
    "papermill": {
     "duration": 0.024149,
     "end_time": "2022-07-12T10:01:22.427822",
     "exception": false,
     "start_time": "2022-07-12T10:01:22.403673",
     "status": "completed"
    },
    "tags": []
   },
   "outputs": [],
   "source": [
    "warnings.filterwarnings(\"error\")"
   ]
  },
  {
   "cell_type": "code",
   "execution_count": 33,
   "id": "cdbb90a1",
   "metadata": {
    "execution": {
     "iopub.execute_input": "2022-07-12T10:01:22.444025Z",
     "iopub.status.busy": "2022-07-12T10:01:22.443723Z",
     "iopub.status.idle": "2022-07-12T10:22:33.290013Z",
     "shell.execute_reply": "2022-07-12T10:22:33.289587Z"
    },
    "papermill": {
     "duration": 1270.855774,
     "end_time": "2022-07-12T10:22:33.291201",
     "exception": false,
     "start_time": "2022-07-12T10:01:22.435427",
     "status": "completed"
    },
    "tags": []
   },
   "outputs": [
    {
     "name": "stdout",
     "output_type": "stream",
     "text": [
      "Number of genes in chromosome: 170\n",
      "Number of gene combinations: 14365\n"
     ]
    },
    {
     "name": "stderr",
     "output_type": "stream",
     "text": [
      "ENSG00000100299 / ENSG00000251322: 100%|██████████████████████| 14365/14365 [21:10<00:00, 11.30it/s]"
     ]
    },
    {
     "name": "stdout",
     "output_type": "stream",
     "text": [
      "Min/max values: 3.6954557816576085e-06 / 0.9863304556182002\n"
     ]
    },
    {
     "name": "stderr",
     "output_type": "stream",
     "text": [
      "\n"
     ]
    },
    {
     "data": {
      "text/plain": [
       "PosixPath('/opt/data/data/phenomexcan/ld_blocks/gene_corrs/1000g/mashr/by_chr/gene_corrs-chr22.pkl')"
      ]
     },
     "metadata": {},
     "output_type": "display_data"
    }
   ],
   "source": [
    "# standard checks\n",
    "all_chrs = genes_info[\"chr\"].dropna().unique()\n",
    "assert all_chrs.shape[0] == 22\n",
    "\n",
    "# select chromosome given by the user\n",
    "assert chromosome in all_chrs\n",
    "\n",
    "# run only on the chromosome specified\n",
    "all_chrs = [chromosome]\n",
    "genes_chr = genes_info[genes_info[\"chr\"] == chromosome]\n",
    "\n",
    "# For testing purposes\n",
    "# genes_chr = genes_chr.sample(n=20)\n",
    "\n",
    "print(f\"Number of genes in chromosome: {genes_chr.shape[0]}\", flush=True)\n",
    "\n",
    "# sort genes by starting position to make visualizations better later\n",
    "genes_chr = genes_chr.sort_values(\"start_position\")\n",
    "\n",
    "gene_chr_objs = [Gene(ensembl_id=gene_id) for gene_id in genes_chr[\"id\"]]\n",
    "gene_chr_ids = [g.ensembl_id for g in gene_chr_objs]\n",
    "\n",
    "n = len(gene_chr_objs)\n",
    "n_comb = int(n * (n - 1) / 2.0)\n",
    "print(f\"Number of gene combinations: {n_comb}\", flush=True)\n",
    "\n",
    "gene_corrs = []\n",
    "\n",
    "pbar = tqdm(ncols=100, total=n_comb)\n",
    "i = 0\n",
    "for gene_idx1 in range(0, len(gene_chr_objs) - 1):\n",
    "    gene_obj1 = gene_chr_objs[gene_idx1]\n",
    "\n",
    "    for gene_idx2 in range(gene_idx1 + 1, len(gene_chr_objs)):\n",
    "        gene_obj2 = gene_chr_objs[gene_idx2]\n",
    "\n",
    "        pbar.set_description(f\"{gene_obj1.ensembl_id} / {gene_obj2.ensembl_id}\")\n",
    "\n",
    "        try:\n",
    "            # FIXME: compute the correlation of the sum of squares of the model using all\n",
    "            # the available tissues; this could be problematic because for some results\n",
    "            # (computed on a specific phenotype/GWAS) we might not have all the tissues\n",
    "            # available, which can certainly bias the correlation estimation.\n",
    "            # Since this depends on the GWAS on a specific phenotype, we should ideally have\n",
    "            # one correlation matrix per GWAS. I should look at how we can improve this.\n",
    "            r = gene_obj1.get_ssm_correlation(\n",
    "                other_gene=gene_obj2,\n",
    "                condition_number=SMULTIXCAN_CONDITION_NUMBER,\n",
    "                reference_panel=REFERENCE_PANEL,\n",
    "                model_type=EQTL_MODEL,\n",
    "                use_within_distance=COMPUTE_CORRELATIONS_WITHIN_DISTANCE,\n",
    "            )\n",
    "\n",
    "            if r is None:\n",
    "                # if r is None, it's very likely because:\n",
    "                #  * one of the genes has no prediction models\n",
    "                #  * all the SNPs predictors for the gene are not present in the reference\n",
    "                #    panel\n",
    "\n",
    "                r = 0.0\n",
    "\n",
    "            gene_corrs.append(r)\n",
    "        except Warning:\n",
    "            print(\n",
    "                f\"RuntimeWarning for genes {gene_obj1.ensembl_id} and {gene_obj2.ensembl_id}\",\n",
    "                flush=True,\n",
    "            )\n",
    "            import traceback\n",
    "\n",
    "            print(traceback.format_exc(), flush=True)\n",
    "        except Exception as e:\n",
    "            print(\n",
    "                f\"Exception for genes {gene_obj1.ensembl_id} and {gene_obj2.ensembl_id}\",\n",
    "                flush=True,\n",
    "            )\n",
    "            import traceback\n",
    "\n",
    "            print(traceback.format_exc(), flush=True)\n",
    "            gene_corrs.append(np.nan)\n",
    "\n",
    "        pbar.update(1)\n",
    "\n",
    "pbar.close()\n",
    "\n",
    "# testing\n",
    "gene_corrs_flat = pd.Series(gene_corrs)\n",
    "print(f\"Min/max values: {gene_corrs_flat.min()} / {gene_corrs_flat.max()}\")\n",
    "assert gene_corrs_flat.min() >= -1.001\n",
    "assert gene_corrs_flat.max() <= 1.001\n",
    "\n",
    "# save\n",
    "# FIXME: consider saving only the condenced matrix here. See here for\n",
    "# more details: https://github.com/greenelab/phenoplier/pull/38#discussion_r634600813\n",
    "gene_corrs_data = squareform(np.array(gene_corrs, dtype=np.float64))\n",
    "np.fill_diagonal(gene_corrs_data, 1.0)\n",
    "\n",
    "gene_corrs_df = pd.DataFrame(\n",
    "    data=gene_corrs_data,\n",
    "    index=gene_chr_ids,\n",
    "    columns=gene_chr_ids,\n",
    ")\n",
    "\n",
    "output_dir.mkdir(exist_ok=True, parents=True)\n",
    "display(output_file)\n",
    "\n",
    "gene_corrs_df.to_pickle(output_file)"
   ]
  },
  {
   "cell_type": "markdown",
   "id": "faa67b51-5373-470f-aa72-2ded53fa6dfe",
   "metadata": {
    "papermill": {
     "duration": 0.816627,
     "end_time": "2022-07-12T10:22:34.917976",
     "exception": false,
     "start_time": "2022-07-12T10:22:34.101349",
     "status": "completed"
    },
    "tags": []
   },
   "source": [
    "# Testing"
   ]
  },
  {
   "cell_type": "code",
   "execution_count": 34,
   "id": "14f7d046-4b55-4896-a56b-990127bcc388",
   "metadata": {
    "execution": {
     "iopub.execute_input": "2022-07-12T10:22:36.531701Z",
     "iopub.status.busy": "2022-07-12T10:22:36.531487Z",
     "iopub.status.idle": "2022-07-12T10:22:36.547386Z",
     "shell.execute_reply": "2022-07-12T10:22:36.546920Z"
    },
    "papermill": {
     "duration": 0.820507,
     "end_time": "2022-07-12T10:22:36.548609",
     "exception": false,
     "start_time": "2022-07-12T10:22:35.728102",
     "status": "completed"
    },
    "tags": []
   },
   "outputs": [
    {
     "data": {
      "text/plain": [
       "(170, 170)"
      ]
     },
     "execution_count": 34,
     "metadata": {},
     "output_type": "execute_result"
    }
   ],
   "source": [
    "gene_corrs_df.shape"
   ]
  },
  {
   "cell_type": "code",
   "execution_count": 35,
   "id": "c7d15414-3297-4537-a7c6-7588c0baeb75",
   "metadata": {
    "execution": {
     "iopub.execute_input": "2022-07-12T10:22:38.168324Z",
     "iopub.status.busy": "2022-07-12T10:22:38.168153Z",
     "iopub.status.idle": "2022-07-12T10:22:38.196464Z",
     "shell.execute_reply": "2022-07-12T10:22:38.196070Z"
    },
    "papermill": {
     "duration": 0.833076,
     "end_time": "2022-07-12T10:22:38.197558",
     "exception": false,
     "start_time": "2022-07-12T10:22:37.364482",
     "status": "completed"
    },
    "tags": []
   },
   "outputs": [
    {
     "data": {
      "text/html": [
       "<div>\n",
       "<style scoped>\n",
       "    .dataframe tbody tr th:only-of-type {\n",
       "        vertical-align: middle;\n",
       "    }\n",
       "\n",
       "    .dataframe tbody tr th {\n",
       "        vertical-align: top;\n",
       "    }\n",
       "\n",
       "    .dataframe thead th {\n",
       "        text-align: right;\n",
       "    }\n",
       "</style>\n",
       "<table border=\"1\" class=\"dataframe\">\n",
       "  <thead>\n",
       "    <tr style=\"text-align: right;\">\n",
       "      <th></th>\n",
       "      <th>ENSG00000177663</th>\n",
       "      <th>ENSG00000131100</th>\n",
       "      <th>ENSG00000099968</th>\n",
       "      <th>ENSG00000015475</th>\n",
       "      <th>ENSG00000243156</th>\n",
       "      <th>ENSG00000215193</th>\n",
       "      <th>ENSG00000183785</th>\n",
       "      <th>ENSG00000184979</th>\n",
       "      <th>ENSG00000100033</th>\n",
       "      <th>ENSG00000100075</th>\n",
       "      <th>...</th>\n",
       "      <th>ENSG00000196576</th>\n",
       "      <th>ENSG00000128165</th>\n",
       "      <th>ENSG00000100253</th>\n",
       "      <th>ENSG00000130489</th>\n",
       "      <th>ENSG00000025708</th>\n",
       "      <th>ENSG00000205560</th>\n",
       "      <th>ENSG00000100288</th>\n",
       "      <th>ENSG00000008735</th>\n",
       "      <th>ENSG00000100299</th>\n",
       "      <th>ENSG00000251322</th>\n",
       "    </tr>\n",
       "  </thead>\n",
       "  <tbody>\n",
       "    <tr>\n",
       "      <th>ENSG00000177663</th>\n",
       "      <td>1.000000</td>\n",
       "      <td>0.006885</td>\n",
       "      <td>0.011973</td>\n",
       "      <td>0.007085</td>\n",
       "      <td>0.016720</td>\n",
       "      <td>0.010888</td>\n",
       "      <td>0.015925</td>\n",
       "      <td>0.007941</td>\n",
       "      <td>0.012096</td>\n",
       "      <td>0.004606</td>\n",
       "      <td>...</td>\n",
       "      <td>0.012007</td>\n",
       "      <td>0.014367</td>\n",
       "      <td>0.010482</td>\n",
       "      <td>0.003709</td>\n",
       "      <td>0.007791</td>\n",
       "      <td>0.007127</td>\n",
       "      <td>0.007134</td>\n",
       "      <td>0.018233</td>\n",
       "      <td>0.007500</td>\n",
       "      <td>0.004604</td>\n",
       "    </tr>\n",
       "    <tr>\n",
       "      <th>ENSG00000131100</th>\n",
       "      <td>0.006885</td>\n",
       "      <td>1.000000</td>\n",
       "      <td>0.556418</td>\n",
       "      <td>0.253376</td>\n",
       "      <td>0.019566</td>\n",
       "      <td>0.012030</td>\n",
       "      <td>0.017317</td>\n",
       "      <td>0.005654</td>\n",
       "      <td>0.009928</td>\n",
       "      <td>0.000794</td>\n",
       "      <td>...</td>\n",
       "      <td>0.008609</td>\n",
       "      <td>0.008664</td>\n",
       "      <td>0.008162</td>\n",
       "      <td>0.003060</td>\n",
       "      <td>0.005902</td>\n",
       "      <td>0.004916</td>\n",
       "      <td>0.003981</td>\n",
       "      <td>0.005284</td>\n",
       "      <td>0.001697</td>\n",
       "      <td>0.000112</td>\n",
       "    </tr>\n",
       "    <tr>\n",
       "      <th>ENSG00000099968</th>\n",
       "      <td>0.011973</td>\n",
       "      <td>0.556418</td>\n",
       "      <td>1.000000</td>\n",
       "      <td>0.378947</td>\n",
       "      <td>0.026867</td>\n",
       "      <td>0.016886</td>\n",
       "      <td>0.022113</td>\n",
       "      <td>0.015004</td>\n",
       "      <td>0.015125</td>\n",
       "      <td>0.003133</td>\n",
       "      <td>...</td>\n",
       "      <td>0.015989</td>\n",
       "      <td>0.014591</td>\n",
       "      <td>0.009541</td>\n",
       "      <td>0.009158</td>\n",
       "      <td>0.010837</td>\n",
       "      <td>0.005968</td>\n",
       "      <td>0.006191</td>\n",
       "      <td>0.009896</td>\n",
       "      <td>0.005697</td>\n",
       "      <td>0.004035</td>\n",
       "    </tr>\n",
       "    <tr>\n",
       "      <th>ENSG00000015475</th>\n",
       "      <td>0.007085</td>\n",
       "      <td>0.253376</td>\n",
       "      <td>0.378947</td>\n",
       "      <td>1.000000</td>\n",
       "      <td>0.029674</td>\n",
       "      <td>0.022601</td>\n",
       "      <td>0.027740</td>\n",
       "      <td>0.015827</td>\n",
       "      <td>0.020504</td>\n",
       "      <td>0.010525</td>\n",
       "      <td>...</td>\n",
       "      <td>0.018733</td>\n",
       "      <td>0.015612</td>\n",
       "      <td>0.010639</td>\n",
       "      <td>0.015128</td>\n",
       "      <td>0.015018</td>\n",
       "      <td>0.012114</td>\n",
       "      <td>0.015088</td>\n",
       "      <td>0.013239</td>\n",
       "      <td>0.011199</td>\n",
       "      <td>0.002163</td>\n",
       "    </tr>\n",
       "    <tr>\n",
       "      <th>ENSG00000243156</th>\n",
       "      <td>0.016720</td>\n",
       "      <td>0.019566</td>\n",
       "      <td>0.026867</td>\n",
       "      <td>0.029674</td>\n",
       "      <td>1.000000</td>\n",
       "      <td>0.060184</td>\n",
       "      <td>0.028523</td>\n",
       "      <td>0.023187</td>\n",
       "      <td>0.022125</td>\n",
       "      <td>0.008680</td>\n",
       "      <td>...</td>\n",
       "      <td>0.019114</td>\n",
       "      <td>0.019942</td>\n",
       "      <td>0.014152</td>\n",
       "      <td>0.006013</td>\n",
       "      <td>0.013212</td>\n",
       "      <td>0.009810</td>\n",
       "      <td>0.010069</td>\n",
       "      <td>0.017089</td>\n",
       "      <td>0.011610</td>\n",
       "      <td>0.007667</td>\n",
       "    </tr>\n",
       "  </tbody>\n",
       "</table>\n",
       "<p>5 rows × 170 columns</p>\n",
       "</div>"
      ],
      "text/plain": [
       "                 ENSG00000177663  ENSG00000131100  ENSG00000099968  \\\n",
       "ENSG00000177663         1.000000         0.006885         0.011973   \n",
       "ENSG00000131100         0.006885         1.000000         0.556418   \n",
       "ENSG00000099968         0.011973         0.556418         1.000000   \n",
       "ENSG00000015475         0.007085         0.253376         0.378947   \n",
       "ENSG00000243156         0.016720         0.019566         0.026867   \n",
       "\n",
       "                 ENSG00000015475  ENSG00000243156  ENSG00000215193  \\\n",
       "ENSG00000177663         0.007085         0.016720         0.010888   \n",
       "ENSG00000131100         0.253376         0.019566         0.012030   \n",
       "ENSG00000099968         0.378947         0.026867         0.016886   \n",
       "ENSG00000015475         1.000000         0.029674         0.022601   \n",
       "ENSG00000243156         0.029674         1.000000         0.060184   \n",
       "\n",
       "                 ENSG00000183785  ENSG00000184979  ENSG00000100033  \\\n",
       "ENSG00000177663         0.015925         0.007941         0.012096   \n",
       "ENSG00000131100         0.017317         0.005654         0.009928   \n",
       "ENSG00000099968         0.022113         0.015004         0.015125   \n",
       "ENSG00000015475         0.027740         0.015827         0.020504   \n",
       "ENSG00000243156         0.028523         0.023187         0.022125   \n",
       "\n",
       "                 ENSG00000100075  ...  ENSG00000196576  ENSG00000128165  \\\n",
       "ENSG00000177663         0.004606  ...         0.012007         0.014367   \n",
       "ENSG00000131100         0.000794  ...         0.008609         0.008664   \n",
       "ENSG00000099968         0.003133  ...         0.015989         0.014591   \n",
       "ENSG00000015475         0.010525  ...         0.018733         0.015612   \n",
       "ENSG00000243156         0.008680  ...         0.019114         0.019942   \n",
       "\n",
       "                 ENSG00000100253  ENSG00000130489  ENSG00000025708  \\\n",
       "ENSG00000177663         0.010482         0.003709         0.007791   \n",
       "ENSG00000131100         0.008162         0.003060         0.005902   \n",
       "ENSG00000099968         0.009541         0.009158         0.010837   \n",
       "ENSG00000015475         0.010639         0.015128         0.015018   \n",
       "ENSG00000243156         0.014152         0.006013         0.013212   \n",
       "\n",
       "                 ENSG00000205560  ENSG00000100288  ENSG00000008735  \\\n",
       "ENSG00000177663         0.007127         0.007134         0.018233   \n",
       "ENSG00000131100         0.004916         0.003981         0.005284   \n",
       "ENSG00000099968         0.005968         0.006191         0.009896   \n",
       "ENSG00000015475         0.012114         0.015088         0.013239   \n",
       "ENSG00000243156         0.009810         0.010069         0.017089   \n",
       "\n",
       "                 ENSG00000100299  ENSG00000251322  \n",
       "ENSG00000177663         0.007500         0.004604  \n",
       "ENSG00000131100         0.001697         0.000112  \n",
       "ENSG00000099968         0.005697         0.004035  \n",
       "ENSG00000015475         0.011199         0.002163  \n",
       "ENSG00000243156         0.011610         0.007667  \n",
       "\n",
       "[5 rows x 170 columns]"
      ]
     },
     "execution_count": 35,
     "metadata": {},
     "output_type": "execute_result"
    }
   ],
   "source": [
    "gene_corrs_df.head()"
   ]
  },
  {
   "cell_type": "code",
   "execution_count": 36,
   "id": "286686af-1b7b-4440-8453-6bdcbd8de19c",
   "metadata": {
    "execution": {
     "iopub.execute_input": "2022-07-12T10:22:39.814459Z",
     "iopub.status.busy": "2022-07-12T10:22:39.814254Z",
     "iopub.status.idle": "2022-07-12T10:22:39.830136Z",
     "shell.execute_reply": "2022-07-12T10:22:39.829612Z"
    },
    "papermill": {
     "duration": 0.828441,
     "end_time": "2022-07-12T10:22:39.831395",
     "exception": false,
     "start_time": "2022-07-12T10:22:39.002954",
     "status": "completed"
    },
    "tags": []
   },
   "outputs": [],
   "source": [
    "assert not gene_corrs_df.isna().any().any()"
   ]
  },
  {
   "cell_type": "code",
   "execution_count": 37,
   "id": "00583efc-7068-4270-ad1e-4a418e91db96",
   "metadata": {
    "execution": {
     "iopub.execute_input": "2022-07-12T10:22:41.464629Z",
     "iopub.status.busy": "2022-07-12T10:22:41.464416Z",
     "iopub.status.idle": "2022-07-12T10:22:41.481737Z",
     "shell.execute_reply": "2022-07-12T10:22:41.481264Z"
    },
    "papermill": {
     "duration": 0.842762,
     "end_time": "2022-07-12T10:22:41.482946",
     "exception": false,
     "start_time": "2022-07-12T10:22:40.640184",
     "status": "completed"
    },
    "tags": []
   },
   "outputs": [
    {
     "data": {
      "text/plain": [
       "3.6954557816576085e-06"
      ]
     },
     "metadata": {},
     "output_type": "display_data"
    }
   ],
   "source": [
    "_min_val = gene_corrs_df.min().min()\n",
    "display(_min_val)\n",
    "assert _min_val >= 0.0"
   ]
  },
  {
   "cell_type": "code",
   "execution_count": 38,
   "id": "d04fb2cf-1050-475b-b855-f5f7cc04092b",
   "metadata": {
    "execution": {
     "iopub.execute_input": "2022-07-12T10:22:43.102993Z",
     "iopub.status.busy": "2022-07-12T10:22:43.102774Z",
     "iopub.status.idle": "2022-07-12T10:22:43.119659Z",
     "shell.execute_reply": "2022-07-12T10:22:43.119192Z"
    },
    "papermill": {
     "duration": 0.830766,
     "end_time": "2022-07-12T10:22:43.120991",
     "exception": false,
     "start_time": "2022-07-12T10:22:42.290225",
     "status": "completed"
    },
    "tags": []
   },
   "outputs": [
    {
     "data": {
      "text/plain": [
       "1.0"
      ]
     },
     "metadata": {},
     "output_type": "display_data"
    }
   ],
   "source": [
    "_max_val = gene_corrs_df.max().max()  # this captures the diagonal\n",
    "display(_max_val)\n",
    "assert _max_val <= 1.0"
   ]
  },
  {
   "cell_type": "code",
   "execution_count": 39,
   "id": "96d02c44-1fba-47be-8a93-8f2608420b9c",
   "metadata": {
    "execution": {
     "iopub.execute_input": "2022-07-12T10:22:44.682696Z",
     "iopub.status.busy": "2022-07-12T10:22:44.682485Z",
     "iopub.status.idle": "2022-07-12T10:22:44.697708Z",
     "shell.execute_reply": "2022-07-12T10:22:44.697294Z"
    },
    "papermill": {
     "duration": 0.806089,
     "end_time": "2022-07-12T10:22:44.699074",
     "exception": false,
     "start_time": "2022-07-12T10:22:43.892985",
     "status": "completed"
    },
    "tags": []
   },
   "outputs": [],
   "source": [
    "# check upper triangular values\n",
    "assert len(gene_corrs) == int(genes_chr.shape[0] * (genes_chr.shape[0] - 1) / 2)"
   ]
  },
  {
   "cell_type": "code",
   "execution_count": 40,
   "id": "aaa51627-f4e3-4744-a41f-7d25adcc0a78",
   "metadata": {
    "execution": {
     "iopub.execute_input": "2022-07-12T10:22:46.322027Z",
     "iopub.status.busy": "2022-07-12T10:22:46.321824Z",
     "iopub.status.idle": "2022-07-12T10:22:46.341260Z",
     "shell.execute_reply": "2022-07-12T10:22:46.340849Z"
    },
    "papermill": {
     "duration": 0.838834,
     "end_time": "2022-07-12T10:22:46.342602",
     "exception": false,
     "start_time": "2022-07-12T10:22:45.503768",
     "status": "completed"
    },
    "tags": []
   },
   "outputs": [],
   "source": [
    "gene_corrs = pd.Series(gene_corrs)"
   ]
  },
  {
   "cell_type": "code",
   "execution_count": 41,
   "id": "fe283586-c348-40e0-8841-f6d97bfb021c",
   "metadata": {
    "execution": {
     "iopub.execute_input": "2022-07-12T10:22:47.935453Z",
     "iopub.status.busy": "2022-07-12T10:22:47.935246Z",
     "iopub.status.idle": "2022-07-12T10:22:47.954254Z",
     "shell.execute_reply": "2022-07-12T10:22:47.953668Z"
    },
    "papermill": {
     "duration": 0.811827,
     "end_time": "2022-07-12T10:22:47.955413",
     "exception": false,
     "start_time": "2022-07-12T10:22:47.143586",
     "status": "completed"
    },
    "tags": []
   },
   "outputs": [
    {
     "data": {
      "text/plain": [
       "count    14365.000000\n",
       "mean         0.013667\n",
       "std          0.039587\n",
       "min          0.000004\n",
       "25%          0.005654\n",
       "50%          0.008523\n",
       "75%          0.011969\n",
       "max          0.986330\n",
       "dtype: float64"
      ]
     },
     "execution_count": 41,
     "metadata": {},
     "output_type": "execute_result"
    }
   ],
   "source": [
    "gene_corrs.describe()"
   ]
  },
  {
   "cell_type": "code",
   "execution_count": 42,
   "id": "b3815678-0f93-4b35-897b-a9d047a2aa78",
   "metadata": {
    "execution": {
     "iopub.execute_input": "2022-07-12T10:22:49.533796Z",
     "iopub.status.busy": "2022-07-12T10:22:49.532792Z",
     "iopub.status.idle": "2022-07-12T10:22:49.553112Z",
     "shell.execute_reply": "2022-07-12T10:22:49.552729Z"
    },
    "papermill": {
     "duration": 0.796415,
     "end_time": "2022-07-12T10:22:49.554413",
     "exception": false,
     "start_time": "2022-07-12T10:22:48.757998",
     "status": "completed"
    },
    "tags": []
   },
   "outputs": [
    {
     "data": {
      "text/plain": [
       "0.00    0.000004\n",
       "0.05    0.002196\n",
       "0.10    0.003360\n",
       "0.15    0.004271\n",
       "0.20    0.005011\n",
       "0.25    0.005654\n",
       "0.30    0.006284\n",
       "0.35    0.006860\n",
       "0.40    0.007392\n",
       "0.45    0.007960\n",
       "0.50    0.008523\n",
       "0.55    0.009133\n",
       "0.60    0.009742\n",
       "0.65    0.010439\n",
       "0.70    0.011161\n",
       "0.75    0.011969\n",
       "0.80    0.012911\n",
       "0.85    0.014129\n",
       "0.90    0.015656\n",
       "0.95    0.019143\n",
       "dtype: float64"
      ]
     },
     "metadata": {},
     "output_type": "display_data"
    }
   ],
   "source": [
    "gene_corrs_quantiles = gene_corrs.quantile(np.arange(0, 1, 0.05))\n",
    "display(gene_corrs_quantiles)"
   ]
  },
  {
   "cell_type": "markdown",
   "id": "8e60a080-edb2-4e9c-b2ef-22961693200c",
   "metadata": {
    "papermill": {
     "duration": 0.794719,
     "end_time": "2022-07-12T10:22:51.123506",
     "exception": false,
     "start_time": "2022-07-12T10:22:50.328787",
     "status": "completed"
    },
    "tags": []
   },
   "source": [
    "## Plot: distribution"
   ]
  },
  {
   "cell_type": "code",
   "execution_count": 43,
   "id": "8301126b-a7d4-4744-9c7d-f0f86eb6f54c",
   "metadata": {
    "execution": {
     "iopub.execute_input": "2022-07-12T10:22:52.694086Z",
     "iopub.status.busy": "2022-07-12T10:22:52.693861Z",
     "iopub.status.idle": "2022-07-12T10:22:55.924979Z",
     "shell.execute_reply": "2022-07-12T10:22:55.924585Z"
    },
    "papermill": {
     "duration": 4.033248,
     "end_time": "2022-07-12T10:22:55.926131",
     "exception": false,
     "start_time": "2022-07-12T10:22:51.892883",
     "status": "completed"
    },
    "tags": []
   },
   "outputs": [
    {
     "data": {
      "image/png": "[encoded data removed]",
      "text/plain": [
       "<Figure size 504x504 with 1 Axes>"
      ]
     },
     "metadata": {
      "needs_background": "light"
     },
     "output_type": "display_data"
    }
   ],
   "source": [
    "with sns.plotting_context(\"paper\", font_scale=1.5):\n",
    "    g = sns.displot(gene_corrs, kde=True, height=7)\n",
    "    g.ax.set_title(\n",
    "        f\"Distribution of gene correlation values in chromosome {chromosome}\"\n",
    "    )"
   ]
  },
  {
   "cell_type": "markdown",
   "id": "cbd52bca-d878-4a2f-b684-5c83aa3038d4",
   "metadata": {
    "papermill": {
     "duration": 0.787736,
     "end_time": "2022-07-12T10:22:57.500070",
     "exception": false,
     "start_time": "2022-07-12T10:22:56.712334",
     "status": "completed"
    },
    "tags": []
   },
   "source": [
    "## Plot: heatmap"
   ]
  },
  {
   "cell_type": "code",
   "execution_count": 44,
   "id": "d03fe63a-c7b2-4fb9-a53c-db362ce843c9",
   "metadata": {
    "execution": {
     "iopub.execute_input": "2022-07-12T10:22:59.091184Z",
     "iopub.status.busy": "2022-07-12T10:22:59.090976Z",
     "iopub.status.idle": "2022-07-12T10:22:59.106930Z",
     "shell.execute_reply": "2022-07-12T10:22:59.106483Z"
    },
    "papermill": {
     "duration": 0.813586,
     "end_time": "2022-07-12T10:22:59.108070",
     "exception": false,
     "start_time": "2022-07-12T10:22:58.294484",
     "status": "completed"
    },
    "tags": []
   },
   "outputs": [
    {
     "data": {
      "text/plain": [
       "'-0.05 / 0.05'"
      ]
     },
     "metadata": {},
     "output_type": "display_data"
    }
   ],
   "source": [
    "vmin_val = min(-0.05, gene_corrs_quantiles[0.10])\n",
    "vmax_val = max(0.05, gene_corrs_quantiles[0.90])\n",
    "display(f\"{vmin_val} / {vmax_val}\")"
   ]
  },
  {
   "cell_type": "code",
   "execution_count": 45,
   "id": "dc41b70b-5bcc-4d9e-9f33-a22c4a94dab5",
   "metadata": {
    "execution": {
     "iopub.execute_input": "2022-07-12T10:23:00.722195Z",
     "iopub.status.busy": "2022-07-12T10:23:00.721987Z",
     "iopub.status.idle": "2022-07-12T10:23:00.900866Z",
     "shell.execute_reply": "2022-07-12T10:23:00.900445Z"
    },
    "papermill": {
     "duration": 0.977275,
     "end_time": "2022-07-12T10:23:00.902639",
     "exception": false,
     "start_time": "2022-07-12T10:22:59.925364",
     "status": "completed"
    },
    "tags": []
   },
   "outputs": [
    {
     "data": {
      "text/plain": [
       "Text(0.5, 1.0, 'Gene correlations in chromosome 22')"
      ]
     },
     "execution_count": 45,
     "metadata": {},
     "output_type": "execute_result"
    },
    {
     "data": {
      "image/png": "[encoded data removed]",
      "text/plain": [
       "<Figure size 720x720 with 2 Axes>"
      ]
     },
     "metadata": {
      "needs_background": "light"
     },
     "output_type": "display_data"
    }
   ],
   "source": [
    "f, ax = plt.subplots(figsize=(10, 10))\n",
    "sns.heatmap(\n",
    "    gene_corrs_df,\n",
    "    xticklabels=False,\n",
    "    yticklabels=False,\n",
    "    square=True,\n",
    "    vmin=vmin_val,\n",
    "    vmax=vmax_val,\n",
    "    cmap=\"YlGnBu\",\n",
    "    ax=ax,\n",
    ")\n",
    "ax.set_title(f\"Gene correlations in chromosome {chromosome}\")"
   ]
  },
  {
   "cell_type": "code",
   "execution_count": null,
   "id": "b25e3ead",
   "metadata": {
    "papermill": {
     "duration": 0.806967,
     "end_time": "2022-07-12T10:23:02.534404",
     "exception": false,
     "start_time": "2022-07-12T10:23:01.727437",
     "status": "completed"
    },
    "tags": []
   },
   "outputs": [],
   "source": []
  }
 ],
 "metadata": {
  "jupytext": {
   "cell_metadata_filter": "all,-execution,-papermill,-trusted",
   "formats": "ipynb,py//py:percent"
  },
  "kernelspec": {
   "display_name": "Python 3 (ipykernel)",
   "language": "python",
   "name": "python3"
  },
  "language_info": {
   "codemirror_mode": {
    "name": "ipython",
    "version": 3
   },
   "file_extension": ".py",
   "mimetype": "text/x-python",
   "name": "python",
   "nbconvert_exporter": "python",
   "pygments_lexer": "ipython3",
   "version": "3.8.13"
  },
  "papermill": {
   "default_parameters": {},
   "duration": 1311.193778,
   "end_time": "2022-07-12T10:23:06.143284",
   "environment_variables": {},
   "exception": null,
   "input_path": "nbs/15_gsa_gls/10-gene_expr_correlations.ipynb",
   "output_path": "nbs/15_gsa_gls/gene_corrs/1000g/mashr/10-gene_expr_correlations-chr22.run.ipynb",
   "parameters": {
    "EQTL_MODEL": "MASHR",
    "REFERENCE_PANEL": "1000G",
    "chromosome": 22
   },
   "start_time": "2022-07-12T10:01:14.949506",
   "version": "2.2.2"
  }
 },
 "nbformat": 4,
 "nbformat_minor": 5
}
