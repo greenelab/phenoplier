{
 "cells": [
  {
   "cell_type": "markdown",
   "id": "7a6632fb",
   "metadata": {
    "papermill": {
     "duration": 0.008941,
     "end_time": "2022-07-11T06:50:08.182714",
     "exception": false,
     "start_time": "2022-07-11T06:50:08.173773",
     "status": "completed"
    },
    "tags": []
   },
   "source": [
    "# Description"
   ]
  },
  {
   "cell_type": "markdown",
   "id": "7097c346",
   "metadata": {
    "papermill": {
     "duration": 0.010647,
     "end_time": "2022-07-11T06:50:08.204500",
     "exception": false,
     "start_time": "2022-07-11T06:50:08.193853",
     "status": "completed"
    },
    "tags": []
   },
   "source": [
    "(Please, take a look at the README.md file in this directory for instructions on how to run this notebook)\n",
    "\n",
    "This notebook computes predicted expression correlations between all genes in the MultiPLIER models.\n",
    "\n",
    "It also has a parameter set for papermill to run on a single chromosome to run in parallel (see under `Settings` below).\n",
    "\n",
    "This notebook is not directly run. See README.md."
   ]
  },
  {
   "cell_type": "markdown",
   "id": "c61d8427",
   "metadata": {
    "papermill": {
     "duration": 0.008052,
     "end_time": "2022-07-11T06:50:08.223570",
     "exception": false,
     "start_time": "2022-07-11T06:50:08.215518",
     "status": "completed"
    },
    "tags": []
   },
   "source": [
    "# Modules"
   ]
  },
  {
   "cell_type": "code",
   "execution_count": 1,
   "id": "bbc0234f",
   "metadata": {
    "execution": {
     "iopub.execute_input": "2022-07-11T06:50:08.239781Z",
     "iopub.status.busy": "2022-07-11T06:50:08.239303Z",
     "iopub.status.idle": "2022-07-11T06:50:08.263418Z",
     "shell.execute_reply": "2022-07-11T06:50:08.263028Z"
    },
    "papermill": {
     "duration": 0.035183,
     "end_time": "2022-07-11T06:50:08.264731",
     "exception": false,
     "start_time": "2022-07-11T06:50:08.229548",
     "status": "completed"
    },
    "tags": []
   },
   "outputs": [],
   "source": [
    "%load_ext autoreload\n",
    "%autoreload 2"
   ]
  },
  {
   "cell_type": "code",
   "execution_count": 2,
   "id": "1d5f5a59",
   "metadata": {
    "execution": {
     "iopub.execute_input": "2022-07-11T06:50:08.285085Z",
     "iopub.status.busy": "2022-07-11T06:50:08.284928Z",
     "iopub.status.idle": "2022-07-11T06:50:09.322674Z",
     "shell.execute_reply": "2022-07-11T06:50:09.322048Z"
    },
    "papermill": {
     "duration": 1.053881,
     "end_time": "2022-07-11T06:50:09.324250",
     "exception": false,
     "start_time": "2022-07-11T06:50:08.270369",
     "status": "completed"
    },
    "tags": []
   },
   "outputs": [],
   "source": [
    "from random import sample, seed\n",
    "import warnings\n",
    "from pathlib import Path\n",
    "\n",
    "import numpy as np\n",
    "from scipy.spatial.distance import squareform\n",
    "import pandas as pd\n",
    "from tqdm import tqdm\n",
    "import matplotlib.pyplot as plt\n",
    "import seaborn as sns\n",
    "\n",
    "import conf\n",
    "from entity import Gene"
   ]
  },
  {
   "cell_type": "markdown",
   "id": "1eac24b5",
   "metadata": {
    "papermill": {
     "duration": 0.006596,
     "end_time": "2022-07-11T06:50:09.367991",
     "exception": false,
     "start_time": "2022-07-11T06:50:09.361395",
     "status": "completed"
    },
    "tags": []
   },
   "source": [
    "# Settings"
   ]
  },
  {
   "cell_type": "code",
   "execution_count": 3,
   "id": "ca4560ba",
   "metadata": {
    "execution": {
     "iopub.execute_input": "2022-07-11T06:50:09.382684Z",
     "iopub.status.busy": "2022-07-11T06:50:09.382076Z",
     "iopub.status.idle": "2022-07-11T06:50:09.399000Z",
     "shell.execute_reply": "2022-07-11T06:50:09.398371Z"
    },
    "papermill": {
     "duration": 0.025987,
     "end_time": "2022-07-11T06:50:09.400607",
     "exception": false,
     "start_time": "2022-07-11T06:50:09.374620",
     "status": "completed"
    },
    "tags": [
     "parameters"
    ]
   },
   "outputs": [],
   "source": [
    "# reference panel\n",
    "REFERENCE_PANEL = \"GTEX_V8\"\n",
    "# REFERENCE_PANEL = \"1000G\"\n",
    "\n",
    "# prediction models\n",
    "## mashr\n",
    "EQTL_MODEL = \"MASHR\"\n",
    "\n",
    "# this is the default value used in S-MultiXcan to select the\n",
    "# top principal components of the expression correlation matrix\n",
    "SMULTIXCAN_CONDITION_NUMBER = 30\n",
    "\n",
    "# specifies a single chromosome value\n",
    "# by default, run on all chromosomes\n",
    "chromosome = None"
   ]
  },
  {
   "cell_type": "code",
   "execution_count": 4,
   "id": "76e6013d",
   "metadata": {
    "execution": {
     "iopub.execute_input": "2022-07-11T06:50:09.414806Z",
     "iopub.status.busy": "2022-07-11T06:50:09.414271Z",
     "iopub.status.idle": "2022-07-11T06:50:09.430029Z",
     "shell.execute_reply": "2022-07-11T06:50:09.429460Z"
    },
    "papermill": {
     "duration": 0.024413,
     "end_time": "2022-07-11T06:50:09.431486",
     "exception": false,
     "start_time": "2022-07-11T06:50:09.407073",
     "status": "completed"
    },
    "tags": [
     "injected-parameters"
    ]
   },
   "outputs": [],
   "source": [
    "# Parameters\n",
    "chromosome = 10\n",
    "REFERENCE_PANEL = \"1000G\"\n",
    "EQTL_MODEL = \"MASHR\"\n"
   ]
  },
  {
   "cell_type": "code",
   "execution_count": 5,
   "id": "a089c9ff",
   "metadata": {
    "execution": {
     "iopub.execute_input": "2022-07-11T06:50:09.445514Z",
     "iopub.status.busy": "2022-07-11T06:50:09.444982Z",
     "iopub.status.idle": "2022-07-11T06:50:09.460763Z",
     "shell.execute_reply": "2022-07-11T06:50:09.460199Z"
    },
    "papermill": {
     "duration": 0.024551,
     "end_time": "2022-07-11T06:50:09.462488",
     "exception": false,
     "start_time": "2022-07-11T06:50:09.437937",
     "status": "completed"
    },
    "tags": []
   },
   "outputs": [],
   "source": [
    "EQTL_MODEL_FILES_PREFIX = conf.PHENOMEXCAN[\"PREDICTION_MODELS\"][f\"{EQTL_MODEL}_PREFIX\"]"
   ]
  },
  {
   "cell_type": "code",
   "execution_count": 6,
   "id": "8fe24bef",
   "metadata": {
    "execution": {
     "iopub.execute_input": "2022-07-11T06:50:09.480731Z",
     "iopub.status.busy": "2022-07-11T06:50:09.480528Z",
     "iopub.status.idle": "2022-07-11T06:50:09.502827Z",
     "shell.execute_reply": "2022-07-11T06:50:09.502213Z"
    },
    "papermill": {
     "duration": 0.035003,
     "end_time": "2022-07-11T06:50:09.504313",
     "exception": false,
     "start_time": "2022-07-11T06:50:09.469310",
     "status": "completed"
    },
    "tags": []
   },
   "outputs": [
    {
     "data": {
      "text/plain": [
       "'Using eQTL model: MASHR / mashr_'"
      ]
     },
     "metadata": {},
     "output_type": "display_data"
    }
   ],
   "source": [
    "display(f\"Using eQTL model: {EQTL_MODEL} / {EQTL_MODEL_FILES_PREFIX}\")"
   ]
  },
  {
   "cell_type": "code",
   "execution_count": 7,
   "id": "552a7f63-a18c-4d3e-bb6a-94f99b431291",
   "metadata": {
    "execution": {
     "iopub.execute_input": "2022-07-11T06:50:09.519288Z",
     "iopub.status.busy": "2022-07-11T06:50:09.518776Z",
     "iopub.status.idle": "2022-07-11T06:50:09.536013Z",
     "shell.execute_reply": "2022-07-11T06:50:09.535447Z"
    },
    "papermill": {
     "duration": 0.026181,
     "end_time": "2022-07-11T06:50:09.537417",
     "exception": false,
     "start_time": "2022-07-11T06:50:09.511236",
     "status": "completed"
    },
    "tags": []
   },
   "outputs": [
    {
     "data": {
      "text/plain": [
       "'S-MultiXcan condition number: 30'"
      ]
     },
     "metadata": {},
     "output_type": "display_data"
    }
   ],
   "source": [
    "display(f\"S-MultiXcan condition number: {SMULTIXCAN_CONDITION_NUMBER}\")"
   ]
  },
  {
   "cell_type": "code",
   "execution_count": 8,
   "id": "0230ebcb-2c32-4b95-9292-d9a52038e70d",
   "metadata": {
    "execution": {
     "iopub.execute_input": "2022-07-11T06:50:09.551926Z",
     "iopub.status.busy": "2022-07-11T06:50:09.551739Z",
     "iopub.status.idle": "2022-07-11T06:50:09.568495Z",
     "shell.execute_reply": "2022-07-11T06:50:09.567942Z"
    },
    "papermill": {
     "duration": 0.025519,
     "end_time": "2022-07-11T06:50:09.569869",
     "exception": false,
     "start_time": "2022-07-11T06:50:09.544350",
     "status": "completed"
    },
    "tags": []
   },
   "outputs": [],
   "source": [
    "REFERENCE_PANEL_DIR = conf.PHENOMEXCAN[\"LD_BLOCKS\"][f\"{REFERENCE_PANEL}_GENOTYPE_DIR\"]"
   ]
  },
  {
   "cell_type": "code",
   "execution_count": 9,
   "id": "98c4a159-601d-4a22-a1ab-35bd451c25f9",
   "metadata": {
    "execution": {
     "iopub.execute_input": "2022-07-11T06:50:09.583376Z",
     "iopub.status.busy": "2022-07-11T06:50:09.583015Z",
     "iopub.status.idle": "2022-07-11T06:50:09.599418Z",
     "shell.execute_reply": "2022-07-11T06:50:09.598856Z"
    },
    "papermill": {
     "duration": 0.024542,
     "end_time": "2022-07-11T06:50:09.600773",
     "exception": false,
     "start_time": "2022-07-11T06:50:09.576231",
     "status": "completed"
    },
    "tags": []
   },
   "outputs": [
    {
     "data": {
      "text/plain": [
       "'Using reference panel folder: /opt/data/data/phenomexcan/ld_blocks/reference_panel_1000G'"
      ]
     },
     "metadata": {},
     "output_type": "display_data"
    }
   ],
   "source": [
    "display(f\"Using reference panel folder: {str(REFERENCE_PANEL_DIR)}\")"
   ]
  },
  {
   "cell_type": "code",
   "execution_count": 10,
   "id": "396392dc-0340-4540-9b02-e182b833f909",
   "metadata": {
    "execution": {
     "iopub.execute_input": "2022-07-11T06:50:09.613846Z",
     "iopub.status.busy": "2022-07-11T06:50:09.613674Z",
     "iopub.status.idle": "2022-07-11T06:50:09.628209Z",
     "shell.execute_reply": "2022-07-11T06:50:09.627699Z"
    },
    "papermill": {
     "duration": 0.022642,
     "end_time": "2022-07-11T06:50:09.629542",
     "exception": false,
     "start_time": "2022-07-11T06:50:09.606900",
     "status": "completed"
    },
    "tags": []
   },
   "outputs": [],
   "source": [
    "OUTPUT_DIR_BASE = (\n",
    "    conf.PHENOMEXCAN[\"LD_BLOCKS\"][f\"GENE_CORRS_DIR\"]\n",
    "    / REFERENCE_PANEL.lower()\n",
    "    / EQTL_MODEL.lower()\n",
    ")\n",
    "OUTPUT_DIR_BASE.mkdir(parents=True, exist_ok=True)"
   ]
  },
  {
   "cell_type": "code",
   "execution_count": 11,
   "id": "8942c2d3-e53c-4d63-a0eb-b6fce0574d36",
   "metadata": {
    "execution": {
     "iopub.execute_input": "2022-07-11T06:50:09.642822Z",
     "iopub.status.busy": "2022-07-11T06:50:09.642498Z",
     "iopub.status.idle": "2022-07-11T06:50:09.658636Z",
     "shell.execute_reply": "2022-07-11T06:50:09.658076Z"
    },
    "papermill": {
     "duration": 0.024047,
     "end_time": "2022-07-11T06:50:09.659997",
     "exception": false,
     "start_time": "2022-07-11T06:50:09.635950",
     "status": "completed"
    },
    "tags": []
   },
   "outputs": [
    {
     "data": {
      "text/plain": [
       "'Using output dir base: /opt/data/data/phenomexcan/ld_blocks/gene_corrs/1000g/mashr'"
      ]
     },
     "metadata": {},
     "output_type": "display_data"
    }
   ],
   "source": [
    "display(f\"Using output dir base: {OUTPUT_DIR_BASE}\")"
   ]
  },
  {
   "cell_type": "code",
   "execution_count": 12,
   "id": "408aa590",
   "metadata": {
    "execution": {
     "iopub.execute_input": "2022-07-11T06:50:09.673196Z",
     "iopub.status.busy": "2022-07-11T06:50:09.672742Z",
     "iopub.status.idle": "2022-07-11T06:50:09.687001Z",
     "shell.execute_reply": "2022-07-11T06:50:09.686594Z"
    },
    "papermill": {
     "duration": 0.022108,
     "end_time": "2022-07-11T06:50:09.688347",
     "exception": false,
     "start_time": "2022-07-11T06:50:09.666239",
     "status": "completed"
    },
    "tags": []
   },
   "outputs": [],
   "source": [
    "assert (\n",
    "    chromosome is not None\n",
    "), \"You have to select one chromosome (format: number between 1 and 22)\""
   ]
  },
  {
   "cell_type": "code",
   "execution_count": 13,
   "id": "c1c7dd06-80ff-453c-bcb7-0899edce75da",
   "metadata": {
    "execution": {
     "iopub.execute_input": "2022-07-11T06:50:09.711105Z",
     "iopub.status.busy": "2022-07-11T06:50:09.710897Z",
     "iopub.status.idle": "2022-07-11T06:50:09.724797Z",
     "shell.execute_reply": "2022-07-11T06:50:09.724381Z"
    },
    "papermill": {
     "duration": 0.027332,
     "end_time": "2022-07-11T06:50:09.726183",
     "exception": false,
     "start_time": "2022-07-11T06:50:09.698851",
     "status": "completed"
    },
    "tags": []
   },
   "outputs": [],
   "source": [
    "chromosome = str(chromosome)"
   ]
  },
  {
   "cell_type": "code",
   "execution_count": 14,
   "id": "bc17b84c-9c26-47a5-a3ab-7046e72f3ef4",
   "metadata": {
    "execution": {
     "iopub.execute_input": "2022-07-11T06:50:09.739228Z",
     "iopub.status.busy": "2022-07-11T06:50:09.739060Z",
     "iopub.status.idle": "2022-07-11T06:50:09.755824Z",
     "shell.execute_reply": "2022-07-11T06:50:09.755398Z"
    },
    "papermill": {
     "duration": 0.024647,
     "end_time": "2022-07-11T06:50:09.757165",
     "exception": false,
     "start_time": "2022-07-11T06:50:09.732518",
     "status": "completed"
    },
    "tags": []
   },
   "outputs": [
    {
     "data": {
      "text/plain": [
       "'Working on chromosome 10'"
      ]
     },
     "metadata": {},
     "output_type": "display_data"
    }
   ],
   "source": [
    "display(f\"Working on chromosome {chromosome}\")"
   ]
  },
  {
   "cell_type": "markdown",
   "id": "d2ba085e",
   "metadata": {
    "papermill": {
     "duration": 0.00588,
     "end_time": "2022-07-11T06:50:09.769296",
     "exception": false,
     "start_time": "2022-07-11T06:50:09.763416",
     "status": "completed"
    },
    "tags": []
   },
   "source": [
    "# Load data"
   ]
  },
  {
   "cell_type": "markdown",
   "id": "7bed0ce0-e7c7-4300-9a61-5412450b1904",
   "metadata": {
    "papermill": {
     "duration": 0.005708,
     "end_time": "2022-07-11T06:50:09.781090",
     "exception": false,
     "start_time": "2022-07-11T06:50:09.775382",
     "status": "completed"
    },
    "tags": []
   },
   "source": [
    "## Prediction model tissues"
   ]
  },
  {
   "cell_type": "code",
   "execution_count": 15,
   "id": "0847c065-0d69-4830-a07f-1c75115d17f5",
   "metadata": {
    "execution": {
     "iopub.execute_input": "2022-07-11T06:50:09.794080Z",
     "iopub.status.busy": "2022-07-11T06:50:09.793539Z",
     "iopub.status.idle": "2022-07-11T06:50:09.808628Z",
     "shell.execute_reply": "2022-07-11T06:50:09.808093Z"
    },
    "papermill": {
     "duration": 0.023012,
     "end_time": "2022-07-11T06:50:09.810006",
     "exception": false,
     "start_time": "2022-07-11T06:50:09.786994",
     "status": "completed"
    },
    "tags": []
   },
   "outputs": [],
   "source": [
    "prediction_model_tissues = conf.PHENOMEXCAN[\"PREDICTION_MODELS\"][\n",
    "    f\"{EQTL_MODEL}_TISSUES\"\n",
    "].split(\" \")"
   ]
  },
  {
   "cell_type": "code",
   "execution_count": 16,
   "id": "aaef70d1-30c6-4c6f-9d6b-abc8e9a0081f",
   "metadata": {
    "execution": {
     "iopub.execute_input": "2022-07-11T06:50:09.836062Z",
     "iopub.status.busy": "2022-07-11T06:50:09.835887Z",
     "iopub.status.idle": "2022-07-11T06:50:09.856296Z",
     "shell.execute_reply": "2022-07-11T06:50:09.855820Z"
    },
    "papermill": {
     "duration": 0.036925,
     "end_time": "2022-07-11T06:50:09.857783",
     "exception": false,
     "start_time": "2022-07-11T06:50:09.820858",
     "status": "completed"
    },
    "tags": []
   },
   "outputs": [
    {
     "data": {
      "text/plain": [
       "49"
      ]
     },
     "execution_count": 16,
     "metadata": {},
     "output_type": "execute_result"
    }
   ],
   "source": [
    "len(prediction_model_tissues)"
   ]
  },
  {
   "cell_type": "code",
   "execution_count": 17,
   "id": "ff35a099-c52d-465d-b863-0ee70c26208c",
   "metadata": {
    "execution": {
     "iopub.execute_input": "2022-07-11T06:50:09.872602Z",
     "iopub.status.busy": "2022-07-11T06:50:09.872423Z",
     "iopub.status.idle": "2022-07-11T06:50:09.890900Z",
     "shell.execute_reply": "2022-07-11T06:50:09.890451Z"
    },
    "papermill": {
     "duration": 0.027602,
     "end_time": "2022-07-11T06:50:09.892523",
     "exception": false,
     "start_time": "2022-07-11T06:50:09.864921",
     "status": "completed"
    },
    "tags": []
   },
   "outputs": [
    {
     "data": {
      "text/plain": [
       "['Skin_Not_Sun_Exposed_Suprapubic',\n",
       " 'Cells_EBV-transformed_lymphocytes',\n",
       " 'Brain_Frontal_Cortex_BA9',\n",
       " 'Kidney_Cortex',\n",
       " 'Brain_Substantia_nigra']"
      ]
     },
     "execution_count": 17,
     "metadata": {},
     "output_type": "execute_result"
    }
   ],
   "source": [
    "prediction_model_tissues[:5]"
   ]
  },
  {
   "cell_type": "markdown",
   "id": "abcc4b3d",
   "metadata": {
    "papermill": {
     "duration": 0.006664,
     "end_time": "2022-07-11T06:50:09.906227",
     "exception": false,
     "start_time": "2022-07-11T06:50:09.899563",
     "status": "completed"
    },
    "tags": []
   },
   "source": [
    "## MultiPLIER Z"
   ]
  },
  {
   "cell_type": "code",
   "execution_count": 18,
   "id": "c48ef527",
   "metadata": {
    "execution": {
     "iopub.execute_input": "2022-07-11T06:50:09.920667Z",
     "iopub.status.busy": "2022-07-11T06:50:09.920498Z",
     "iopub.status.idle": "2022-07-11T06:50:09.962976Z",
     "shell.execute_reply": "2022-07-11T06:50:09.962560Z"
    },
    "papermill": {
     "duration": 0.051368,
     "end_time": "2022-07-11T06:50:09.964491",
     "exception": false,
     "start_time": "2022-07-11T06:50:09.913123",
     "status": "completed"
    },
    "tags": []
   },
   "outputs": [],
   "source": [
    "multiplier_z_genes = pd.read_pickle(\n",
    "    conf.MULTIPLIER[\"MODEL_Z_MATRIX_FILE\"]\n",
    ").index.tolist()"
   ]
  },
  {
   "cell_type": "code",
   "execution_count": 19,
   "id": "0a4ecbd9",
   "metadata": {
    "execution": {
     "iopub.execute_input": "2022-07-11T06:50:09.979194Z",
     "iopub.status.busy": "2022-07-11T06:50:09.979024Z",
     "iopub.status.idle": "2022-07-11T06:50:09.996265Z",
     "shell.execute_reply": "2022-07-11T06:50:09.995859Z"
    },
    "papermill": {
     "duration": 0.025956,
     "end_time": "2022-07-11T06:50:09.997652",
     "exception": false,
     "start_time": "2022-07-11T06:50:09.971696",
     "status": "completed"
    },
    "tags": []
   },
   "outputs": [
    {
     "data": {
      "text/plain": [
       "6750"
      ]
     },
     "execution_count": 19,
     "metadata": {},
     "output_type": "execute_result"
    }
   ],
   "source": [
    "len(multiplier_z_genes)"
   ]
  },
  {
   "cell_type": "code",
   "execution_count": 20,
   "id": "115e8864",
   "metadata": {
    "execution": {
     "iopub.execute_input": "2022-07-11T06:50:10.023434Z",
     "iopub.status.busy": "2022-07-11T06:50:10.023260Z",
     "iopub.status.idle": "2022-07-11T06:50:10.051288Z",
     "shell.execute_reply": "2022-07-11T06:50:10.050900Z"
    },
    "papermill": {
     "duration": 0.043531,
     "end_time": "2022-07-11T06:50:10.052670",
     "exception": false,
     "start_time": "2022-07-11T06:50:10.009139",
     "status": "completed"
    },
    "tags": []
   },
   "outputs": [
    {
     "data": {
      "text/plain": [
       "['GAS6',\n",
       " 'MMP14',\n",
       " 'DSP',\n",
       " 'MARCKSL1',\n",
       " 'SPARC',\n",
       " 'CTSD',\n",
       " 'EPAS1',\n",
       " 'PALLD',\n",
       " 'PHC2',\n",
       " 'LGALS3BP']"
      ]
     },
     "execution_count": 20,
     "metadata": {},
     "output_type": "execute_result"
    }
   ],
   "source": [
    "multiplier_z_genes[:10]"
   ]
  },
  {
   "cell_type": "markdown",
   "id": "7dcb8db7",
   "metadata": {
    "papermill": {
     "duration": 0.010206,
     "end_time": "2022-07-11T06:50:10.074361",
     "exception": false,
     "start_time": "2022-07-11T06:50:10.064155",
     "status": "completed"
    },
    "tags": []
   },
   "source": [
    "## Get gene objects"
   ]
  },
  {
   "cell_type": "code",
   "execution_count": 21,
   "id": "bb932812",
   "metadata": {
    "execution": {
     "iopub.execute_input": "2022-07-11T06:50:10.088971Z",
     "iopub.status.busy": "2022-07-11T06:50:10.088803Z",
     "iopub.status.idle": "2022-07-11T06:50:10.126195Z",
     "shell.execute_reply": "2022-07-11T06:50:10.125790Z"
    },
    "papermill": {
     "duration": 0.046638,
     "end_time": "2022-07-11T06:50:10.127436",
     "exception": false,
     "start_time": "2022-07-11T06:50:10.080798",
     "status": "completed"
    },
    "tags": []
   },
   "outputs": [],
   "source": [
    "multiplier_gene_obj = {\n",
    "    gene_name: Gene(name=gene_name)\n",
    "    for gene_name in multiplier_z_genes\n",
    "    if gene_name in Gene.GENE_NAME_TO_ID_MAP\n",
    "}"
   ]
  },
  {
   "cell_type": "code",
   "execution_count": 22,
   "id": "39533214",
   "metadata": {
    "execution": {
     "iopub.execute_input": "2022-07-11T06:50:10.157318Z",
     "iopub.status.busy": "2022-07-11T06:50:10.157154Z",
     "iopub.status.idle": "2022-07-11T06:50:10.181812Z",
     "shell.execute_reply": "2022-07-11T06:50:10.181403Z"
    },
    "papermill": {
     "duration": 0.040905,
     "end_time": "2022-07-11T06:50:10.183033",
     "exception": false,
     "start_time": "2022-07-11T06:50:10.142128",
     "status": "completed"
    },
    "tags": []
   },
   "outputs": [
    {
     "data": {
      "text/plain": [
       "6454"
      ]
     },
     "execution_count": 22,
     "metadata": {},
     "output_type": "execute_result"
    }
   ],
   "source": [
    "len(multiplier_gene_obj)"
   ]
  },
  {
   "cell_type": "code",
   "execution_count": 23,
   "id": "9a5d0b84",
   "metadata": {
    "execution": {
     "iopub.execute_input": "2022-07-11T06:50:10.201628Z",
     "iopub.status.busy": "2022-07-11T06:50:10.201463Z",
     "iopub.status.idle": "2022-07-11T06:50:10.223839Z",
     "shell.execute_reply": "2022-07-11T06:50:10.223342Z"
    },
    "papermill": {
     "duration": 0.031194,
     "end_time": "2022-07-11T06:50:10.225254",
     "exception": false,
     "start_time": "2022-07-11T06:50:10.194060",
     "status": "completed"
    },
    "tags": []
   },
   "outputs": [
    {
     "data": {
      "text/plain": [
       "'ENSG00000183087'"
      ]
     },
     "execution_count": 23,
     "metadata": {},
     "output_type": "execute_result"
    }
   ],
   "source": [
    "multiplier_gene_obj[\"GAS6\"].ensembl_id"
   ]
  },
  {
   "cell_type": "code",
   "execution_count": 24,
   "id": "e3ffabc7",
   "metadata": {
    "execution": {
     "iopub.execute_input": "2022-07-11T06:50:10.240572Z",
     "iopub.status.busy": "2022-07-11T06:50:10.240135Z",
     "iopub.status.idle": "2022-07-11T06:50:12.445146Z",
     "shell.execute_reply": "2022-07-11T06:50:12.444755Z"
    },
    "papermill": {
     "duration": 2.214043,
     "end_time": "2022-07-11T06:50:12.446416",
     "exception": false,
     "start_time": "2022-07-11T06:50:10.232373",
     "status": "completed"
    },
    "tags": []
   },
   "outputs": [],
   "source": [
    "_gene_obj = list(multiplier_gene_obj.values())\n",
    "\n",
    "genes_info = pd.DataFrame(\n",
    "    {\n",
    "        \"name\": [g.name for g in _gene_obj],\n",
    "        \"id\": [g.ensembl_id for g in _gene_obj],\n",
    "        \"chr\": [g.chromosome for g in _gene_obj],\n",
    "        \"band\": [g.band for g in _gene_obj],\n",
    "        \"start_position\": [g.get_attribute(\"start_position\") for g in _gene_obj],\n",
    "    }\n",
    ")"
   ]
  },
  {
   "cell_type": "code",
   "execution_count": 25,
   "id": "e23519b8",
   "metadata": {
    "execution": {
     "iopub.execute_input": "2022-07-11T06:50:12.460754Z",
     "iopub.status.busy": "2022-07-11T06:50:12.460297Z",
     "iopub.status.idle": "2022-07-11T06:50:12.476858Z",
     "shell.execute_reply": "2022-07-11T06:50:12.476457Z"
    },
    "papermill": {
     "duration": 0.025114,
     "end_time": "2022-07-11T06:50:12.478242",
     "exception": false,
     "start_time": "2022-07-11T06:50:12.453128",
     "status": "completed"
    },
    "tags": []
   },
   "outputs": [
    {
     "data": {
      "text/plain": [
       "(6454, 5)"
      ]
     },
     "execution_count": 25,
     "metadata": {},
     "output_type": "execute_result"
    }
   ],
   "source": [
    "genes_info.shape"
   ]
  },
  {
   "cell_type": "code",
   "execution_count": 26,
   "id": "0d71881c",
   "metadata": {
    "execution": {
     "iopub.execute_input": "2022-07-11T06:50:12.493126Z",
     "iopub.status.busy": "2022-07-11T06:50:12.492964Z",
     "iopub.status.idle": "2022-07-11T06:50:12.514617Z",
     "shell.execute_reply": "2022-07-11T06:50:12.514225Z"
    },
    "papermill": {
     "duration": 0.030226,
     "end_time": "2022-07-11T06:50:12.515991",
     "exception": false,
     "start_time": "2022-07-11T06:50:12.485765",
     "status": "completed"
    },
    "tags": []
   },
   "outputs": [
    {
     "data": {
      "text/html": [
       "<div>\n",
       "<style scoped>\n",
       "    .dataframe tbody tr th:only-of-type {\n",
       "        vertical-align: middle;\n",
       "    }\n",
       "\n",
       "    .dataframe tbody tr th {\n",
       "        vertical-align: top;\n",
       "    }\n",
       "\n",
       "    .dataframe thead th {\n",
       "        text-align: right;\n",
       "    }\n",
       "</style>\n",
       "<table border=\"1\" class=\"dataframe\">\n",
       "  <thead>\n",
       "    <tr style=\"text-align: right;\">\n",
       "      <th></th>\n",
       "      <th>name</th>\n",
       "      <th>id</th>\n",
       "      <th>chr</th>\n",
       "      <th>band</th>\n",
       "      <th>start_position</th>\n",
       "    </tr>\n",
       "  </thead>\n",
       "  <tbody>\n",
       "    <tr>\n",
       "      <th>0</th>\n",
       "      <td>GAS6</td>\n",
       "      <td>ENSG00000183087</td>\n",
       "      <td>13</td>\n",
       "      <td>13q34</td>\n",
       "      <td>113820549.0</td>\n",
       "    </tr>\n",
       "    <tr>\n",
       "      <th>1</th>\n",
       "      <td>MMP14</td>\n",
       "      <td>ENSG00000157227</td>\n",
       "      <td>14</td>\n",
       "      <td>14q11.2</td>\n",
       "      <td>22836560.0</td>\n",
       "    </tr>\n",
       "    <tr>\n",
       "      <th>2</th>\n",
       "      <td>DSP</td>\n",
       "      <td>ENSG00000096696</td>\n",
       "      <td>6</td>\n",
       "      <td>6p24.3</td>\n",
       "      <td>7541617.0</td>\n",
       "    </tr>\n",
       "    <tr>\n",
       "      <th>3</th>\n",
       "      <td>MARCKSL1</td>\n",
       "      <td>ENSG00000175130</td>\n",
       "      <td>1</td>\n",
       "      <td>1p35.1</td>\n",
       "      <td>32333839.0</td>\n",
       "    </tr>\n",
       "    <tr>\n",
       "      <th>4</th>\n",
       "      <td>SPARC</td>\n",
       "      <td>ENSG00000113140</td>\n",
       "      <td>5</td>\n",
       "      <td>5q33.1</td>\n",
       "      <td>151661096.0</td>\n",
       "    </tr>\n",
       "  </tbody>\n",
       "</table>\n",
       "</div>"
      ],
      "text/plain": [
       "       name               id chr     band  start_position\n",
       "0      GAS6  ENSG00000183087  13    13q34     113820549.0\n",
       "1     MMP14  ENSG00000157227  14  14q11.2      22836560.0\n",
       "2       DSP  ENSG00000096696   6   6p24.3       7541617.0\n",
       "3  MARCKSL1  ENSG00000175130   1   1p35.1      32333839.0\n",
       "4     SPARC  ENSG00000113140   5   5q33.1     151661096.0"
      ]
     },
     "execution_count": 26,
     "metadata": {},
     "output_type": "execute_result"
    }
   ],
   "source": [
    "genes_info.head()"
   ]
  },
  {
   "cell_type": "markdown",
   "id": "c8d1038f",
   "metadata": {
    "papermill": {
     "duration": 0.006628,
     "end_time": "2022-07-11T06:50:12.530082",
     "exception": false,
     "start_time": "2022-07-11T06:50:12.523454",
     "status": "completed"
    },
    "tags": []
   },
   "source": [
    "# Test"
   ]
  },
  {
   "cell_type": "code",
   "execution_count": 27,
   "id": "64993abf",
   "metadata": {
    "execution": {
     "iopub.execute_input": "2022-07-11T06:50:12.544435Z",
     "iopub.status.busy": "2022-07-11T06:50:12.544275Z",
     "iopub.status.idle": "2022-07-11T06:50:12.568172Z",
     "shell.execute_reply": "2022-07-11T06:50:12.567794Z"
    },
    "papermill": {
     "duration": 0.032598,
     "end_time": "2022-07-11T06:50:12.569470",
     "exception": false,
     "start_time": "2022-07-11T06:50:12.536872",
     "status": "completed"
    },
    "tags": []
   },
   "outputs": [
    {
     "data": {
      "text/html": [
       "<div>\n",
       "<style scoped>\n",
       "    .dataframe tbody tr th:only-of-type {\n",
       "        vertical-align: middle;\n",
       "    }\n",
       "\n",
       "    .dataframe tbody tr th {\n",
       "        vertical-align: top;\n",
       "    }\n",
       "\n",
       "    .dataframe thead th {\n",
       "        text-align: right;\n",
       "    }\n",
       "</style>\n",
       "<table border=\"1\" class=\"dataframe\">\n",
       "  <thead>\n",
       "    <tr style=\"text-align: right;\">\n",
       "      <th></th>\n",
       "      <th>name</th>\n",
       "      <th>id</th>\n",
       "      <th>chr</th>\n",
       "      <th>band</th>\n",
       "      <th>start_position</th>\n",
       "    </tr>\n",
       "  </thead>\n",
       "  <tbody>\n",
       "    <tr>\n",
       "      <th>26</th>\n",
       "      <td>PPIF</td>\n",
       "      <td>ENSG00000108179</td>\n",
       "      <td>10</td>\n",
       "      <td>10q22.3</td>\n",
       "      <td>79347469.0</td>\n",
       "    </tr>\n",
       "    <tr>\n",
       "      <th>33</th>\n",
       "      <td>DLG5</td>\n",
       "      <td>ENSG00000151208</td>\n",
       "      <td>10</td>\n",
       "      <td>10q22.3</td>\n",
       "      <td>77790791.0</td>\n",
       "    </tr>\n",
       "    <tr>\n",
       "      <th>61</th>\n",
       "      <td>PFKFB3</td>\n",
       "      <td>ENSG00000170525</td>\n",
       "      <td>10</td>\n",
       "      <td>10p15.1</td>\n",
       "      <td>6144934.0</td>\n",
       "    </tr>\n",
       "    <tr>\n",
       "      <th>84</th>\n",
       "      <td>INPP5A</td>\n",
       "      <td>ENSG00000068383</td>\n",
       "      <td>10</td>\n",
       "      <td>10q26.3</td>\n",
       "      <td>132537787.0</td>\n",
       "    </tr>\n",
       "    <tr>\n",
       "      <th>88</th>\n",
       "      <td>PAPSS2</td>\n",
       "      <td>ENSG00000198682</td>\n",
       "      <td>10</td>\n",
       "      <td>10q23.2</td>\n",
       "      <td>87659613.0</td>\n",
       "    </tr>\n",
       "    <tr>\n",
       "      <th>...</th>\n",
       "      <td>...</td>\n",
       "      <td>...</td>\n",
       "      <td>...</td>\n",
       "      <td>...</td>\n",
       "      <td>...</td>\n",
       "    </tr>\n",
       "    <tr>\n",
       "      <th>6187</th>\n",
       "      <td>RBM17</td>\n",
       "      <td>ENSG00000134453</td>\n",
       "      <td>10</td>\n",
       "      <td>10p15.1</td>\n",
       "      <td>6089034.0</td>\n",
       "    </tr>\n",
       "    <tr>\n",
       "      <th>6202</th>\n",
       "      <td>TUBGCP2</td>\n",
       "      <td>ENSG00000130640</td>\n",
       "      <td>10</td>\n",
       "      <td>10q26.3</td>\n",
       "      <td>133278630.0</td>\n",
       "    </tr>\n",
       "    <tr>\n",
       "      <th>6381</th>\n",
       "      <td>ABCC2</td>\n",
       "      <td>ENSG00000023839</td>\n",
       "      <td>10</td>\n",
       "      <td>10q24.2</td>\n",
       "      <td>99782640.0</td>\n",
       "    </tr>\n",
       "    <tr>\n",
       "      <th>6382</th>\n",
       "      <td>NMT2</td>\n",
       "      <td>ENSG00000152465</td>\n",
       "      <td>10</td>\n",
       "      <td>10p13</td>\n",
       "      <td>15102584.0</td>\n",
       "    </tr>\n",
       "    <tr>\n",
       "      <th>6412</th>\n",
       "      <td>PLAU</td>\n",
       "      <td>ENSG00000122861</td>\n",
       "      <td>10</td>\n",
       "      <td>10q22.2</td>\n",
       "      <td>73909177.0</td>\n",
       "    </tr>\n",
       "  </tbody>\n",
       "</table>\n",
       "<p>245 rows × 5 columns</p>\n",
       "</div>"
      ],
      "text/plain": [
       "         name               id chr     band  start_position\n",
       "26       PPIF  ENSG00000108179  10  10q22.3      79347469.0\n",
       "33       DLG5  ENSG00000151208  10  10q22.3      77790791.0\n",
       "61     PFKFB3  ENSG00000170525  10  10p15.1       6144934.0\n",
       "84     INPP5A  ENSG00000068383  10  10q26.3     132537787.0\n",
       "88     PAPSS2  ENSG00000198682  10  10q23.2      87659613.0\n",
       "...       ...              ...  ..      ...             ...\n",
       "6187    RBM17  ENSG00000134453  10  10p15.1       6089034.0\n",
       "6202  TUBGCP2  ENSG00000130640  10  10q26.3     133278630.0\n",
       "6381    ABCC2  ENSG00000023839  10  10q24.2      99782640.0\n",
       "6382     NMT2  ENSG00000152465  10    10p13      15102584.0\n",
       "6412     PLAU  ENSG00000122861  10  10q22.2      73909177.0\n",
       "\n",
       "[245 rows x 5 columns]"
      ]
     },
     "metadata": {},
     "output_type": "display_data"
    }
   ],
   "source": [
    "chromosome_genes_info = genes_info[genes_info[\"chr\"] == chromosome]\n",
    "display(chromosome_genes_info)"
   ]
  },
  {
   "cell_type": "code",
   "execution_count": 28,
   "id": "d2e42726-7de6-46eb-acfc-6323eaa8fae6",
   "metadata": {
    "execution": {
     "iopub.execute_input": "2022-07-11T06:50:12.584652Z",
     "iopub.status.busy": "2022-07-11T06:50:12.584494Z",
     "iopub.status.idle": "2022-07-11T06:50:12.601898Z",
     "shell.execute_reply": "2022-07-11T06:50:12.601374Z"
    },
    "papermill": {
     "duration": 0.026337,
     "end_time": "2022-07-11T06:50:12.603312",
     "exception": false,
     "start_time": "2022-07-11T06:50:12.576975",
     "status": "completed"
    },
    "tags": []
   },
   "outputs": [
    {
     "data": {
      "text/plain": [
       "5"
      ]
     },
     "metadata": {},
     "output_type": "display_data"
    }
   ],
   "source": [
    "seed(0)\n",
    "_gene_list_ids = sample(chromosome_genes_info[\"id\"].tolist(), 5)\n",
    "selected_chromosome_genes_obj = [Gene(ensembl_id=g_id) for g_id in _gene_list_ids]\n",
    "display(len(selected_chromosome_genes_obj))"
   ]
  },
  {
   "cell_type": "code",
   "execution_count": 29,
   "id": "1b355359",
   "metadata": {
    "execution": {
     "iopub.execute_input": "2022-07-11T06:50:12.619231Z",
     "iopub.status.busy": "2022-07-11T06:50:12.619060Z",
     "iopub.status.idle": "2022-07-11T06:50:13.993339Z",
     "shell.execute_reply": "2022-07-11T06:50:13.992722Z"
    },
    "papermill": {
     "duration": 1.383465,
     "end_time": "2022-07-11T06:50:13.994488",
     "exception": false,
     "start_time": "2022-07-11T06:50:12.611023",
     "status": "completed"
    },
    "tags": []
   },
   "outputs": [
    {
     "name": "stdout",
     "output_type": "stream",
     "text": [
      "MAP3K8 / PDCD4: 0.0\n",
      "MAP3K8 / PCBD1: 0.0\n",
      "MAP3K8 / BMPR1A: 0.0\n",
      "MAP3K8 / SMNDC1: 0.0\n",
      "PDCD4 / PCBD1: 0.0\n",
      "PDCD4 / BMPR1A: 0.0\n",
      "PDCD4 / SMNDC1: 0.011975798897859033\n",
      "PCBD1 / BMPR1A: 0.0\n",
      "PCBD1 / SMNDC1: 0.0\n",
      "BMPR1A / SMNDC1: 0.0\n"
     ]
    }
   ],
   "source": [
    "for gene_idx1 in range(0, len(selected_chromosome_genes_obj) - 1):\n",
    "    gene_obj1 = selected_chromosome_genes_obj[gene_idx1]\n",
    "\n",
    "    for gene_idx2 in range(gene_idx1 + 1, len(selected_chromosome_genes_obj)):\n",
    "        gene_obj2 = selected_chromosome_genes_obj[gene_idx2]\n",
    "\n",
    "        c = gene_obj1.get_ssm_correlation(\n",
    "            gene_obj2,\n",
    "        )\n",
    "\n",
    "        print(f\"{gene_obj1.name} / {gene_obj2.name}: {c}\")"
   ]
  },
  {
   "cell_type": "markdown",
   "id": "d3843e06",
   "metadata": {
    "papermill": {
     "duration": 0.014504,
     "end_time": "2022-07-11T06:50:14.022247",
     "exception": false,
     "start_time": "2022-07-11T06:50:14.007743",
     "status": "completed"
    },
    "tags": []
   },
   "source": [
    "# Compute correlation per chromosome"
   ]
  },
  {
   "cell_type": "code",
   "execution_count": 30,
   "id": "cb859c15-d1f3-4006-a74c-2b83c0db9611",
   "metadata": {
    "execution": {
     "iopub.execute_input": "2022-07-11T06:50:14.052807Z",
     "iopub.status.busy": "2022-07-11T06:50:14.052599Z",
     "iopub.status.idle": "2022-07-11T06:50:14.069321Z",
     "shell.execute_reply": "2022-07-11T06:50:14.068928Z"
    },
    "papermill": {
     "duration": 0.033051,
     "end_time": "2022-07-11T06:50:14.070628",
     "exception": false,
     "start_time": "2022-07-11T06:50:14.037577",
     "status": "completed"
    },
    "tags": []
   },
   "outputs": [
    {
     "data": {
      "text/plain": [
       "PosixPath('/opt/data/data/phenomexcan/ld_blocks/gene_corrs/1000g/mashr/by_chr/gene_corrs-chr10.pkl')"
      ]
     },
     "metadata": {},
     "output_type": "display_data"
    }
   ],
   "source": [
    "output_dir = OUTPUT_DIR_BASE / \"by_chr\"\n",
    "output_dir.mkdir(exist_ok=True, parents=True)\n",
    "output_file = output_dir / f\"gene_corrs-chr{chromosome}.pkl\"\n",
    "display(output_file)"
   ]
  },
  {
   "cell_type": "code",
   "execution_count": 31,
   "id": "aa674fe4-6794-4eed-98fa-32b39d1d4ace",
   "metadata": {
    "execution": {
     "iopub.execute_input": "2022-07-11T06:50:14.086236Z",
     "iopub.status.busy": "2022-07-11T06:50:14.086074Z",
     "iopub.status.idle": "2022-07-11T06:50:14.101425Z",
     "shell.execute_reply": "2022-07-11T06:50:14.101020Z"
    },
    "papermill": {
     "duration": 0.024632,
     "end_time": "2022-07-11T06:50:14.102855",
     "exception": false,
     "start_time": "2022-07-11T06:50:14.078223",
     "status": "completed"
    },
    "tags": []
   },
   "outputs": [],
   "source": [
    "warnings.filterwarnings(\"error\")"
   ]
  },
  {
   "cell_type": "code",
   "execution_count": 32,
   "id": "cdbb90a1",
   "metadata": {
    "execution": {
     "iopub.execute_input": "2022-07-11T06:50:14.118881Z",
     "iopub.status.busy": "2022-07-11T06:50:14.118708Z",
     "iopub.status.idle": "2022-07-11T06:57:09.131207Z",
     "shell.execute_reply": "2022-07-11T06:57:09.130806Z"
    },
    "papermill": {
     "duration": 415.021846,
     "end_time": "2022-07-11T06:57:09.132573",
     "exception": false,
     "start_time": "2022-07-11T06:50:14.110727",
     "status": "completed"
    },
    "tags": []
   },
   "outputs": [
    {
     "name": "stdout",
     "output_type": "stream",
     "text": [
      "Number of genes in chromosome: 245\n",
      "Number of gene combinations: 29890\n"
     ]
    },
    {
     "name": "stderr",
     "output_type": "stream",
     "text": [
      "ENSG00000148832 / ENSG00000130649: 100%|██████████████████████| 29890/29890 [06:54<00:00, 72.04it/s]"
     ]
    },
    {
     "name": "stdout",
     "output_type": "stream",
     "text": [
      "Min/max values: 0.0 / 0.9890639236400698\n"
     ]
    },
    {
     "name": "stderr",
     "output_type": "stream",
     "text": [
      "\n"
     ]
    },
    {
     "data": {
      "text/plain": [
       "PosixPath('/opt/data/data/phenomexcan/ld_blocks/gene_corrs/1000g/mashr/by_chr/gene_corrs-chr10.pkl')"
      ]
     },
     "metadata": {},
     "output_type": "display_data"
    }
   ],
   "source": [
    "# standard checks\n",
    "all_chrs = genes_info[\"chr\"].dropna().unique()\n",
    "assert all_chrs.shape[0] == 22\n",
    "\n",
    "# select chromosome given by the user\n",
    "assert chromosome in all_chrs\n",
    "\n",
    "# run only on the chromosome specified\n",
    "all_chrs = [chromosome]\n",
    "genes_chr = genes_info[genes_info[\"chr\"] == chromosome]\n",
    "\n",
    "# For testing purposes\n",
    "# genes_chr = genes_chr.sample(n=20)\n",
    "\n",
    "print(f\"Number of genes in chromosome: {genes_chr.shape[0]}\", flush=True)\n",
    "\n",
    "# sort genes by starting position to make visualizations better later\n",
    "genes_chr = genes_chr.sort_values(\"start_position\")\n",
    "\n",
    "gene_chr_objs = [Gene(ensembl_id=gene_id) for gene_id in genes_chr[\"id\"]]\n",
    "gene_chr_ids = [g.ensembl_id for g in gene_chr_objs]\n",
    "\n",
    "n = len(gene_chr_objs)\n",
    "n_comb = int(n * (n - 1) / 2.0)\n",
    "print(f\"Number of gene combinations: {n_comb}\", flush=True)\n",
    "\n",
    "gene_corrs = []\n",
    "\n",
    "pbar = tqdm(ncols=100, total=n_comb)\n",
    "i = 0\n",
    "for gene_idx1 in range(0, len(gene_chr_objs) - 1):\n",
    "    gene_obj1 = gene_chr_objs[gene_idx1]\n",
    "\n",
    "    for gene_idx2 in range(gene_idx1 + 1, len(gene_chr_objs)):\n",
    "        gene_obj2 = gene_chr_objs[gene_idx2]\n",
    "\n",
    "        pbar.set_description(f\"{gene_obj1.ensembl_id} / {gene_obj2.ensembl_id}\")\n",
    "\n",
    "        try:\n",
    "            # FIXME: compute the correlation of the sum of squares of the model using all\n",
    "            # the available tissues; this could be problematic because for some results\n",
    "            # (computed on a specific phenotype/GWAS) we might not have all the tissues\n",
    "            # available, which can certainly bias the correlation estimation.\n",
    "            # Since this depends on the GWAS on a specific phenotype, we should ideally have\n",
    "            # one correlation matrix per GWAS. I should look at how we can improve this.\n",
    "            r = gene_obj1.get_ssm_correlation(\n",
    "                other_gene=gene_obj2,\n",
    "                condition_number=SMULTIXCAN_CONDITION_NUMBER,\n",
    "                reference_panel=REFERENCE_PANEL,\n",
    "                model_type=EQTL_MODEL,\n",
    "            )\n",
    "\n",
    "            if r is None:\n",
    "                # if r is None, it's very likely because:\n",
    "                #  * one of the genes has no prediction models\n",
    "                #  * all the SNPs predictors for the gene are not present in the reference\n",
    "                #    panel\n",
    "\n",
    "                r = 0.0\n",
    "\n",
    "            gene_corrs.append(r)\n",
    "        except Warning:\n",
    "            print(\n",
    "                f\"RuntimeWarning for genes {gene_obj1.ensembl_id} and {gene_obj2.ensembl_id}\",\n",
    "                flush=True,\n",
    "            )\n",
    "            import traceback\n",
    "\n",
    "            print(traceback.format_exc(), flush=True)\n",
    "        except Exception as e:\n",
    "            print(\n",
    "                f\"Exception for genes {gene_obj1.ensembl_id} and {gene_obj2.ensembl_id}\",\n",
    "                flush=True,\n",
    "            )\n",
    "            import traceback\n",
    "\n",
    "            print(traceback.format_exc(), flush=True)\n",
    "            gene_corrs.append(np.nan)\n",
    "\n",
    "        pbar.update(1)\n",
    "\n",
    "pbar.close()\n",
    "\n",
    "# testing\n",
    "gene_corrs_flat = pd.Series(gene_corrs)\n",
    "print(f\"Min/max values: {gene_corrs_flat.min()} / {gene_corrs_flat.max()}\")\n",
    "assert gene_corrs_flat.min() >= -1.001\n",
    "assert gene_corrs_flat.max() <= 1.001\n",
    "\n",
    "# save\n",
    "# FIXME: consider saving only the condenced matrix here. See here for\n",
    "# more details: https://github.com/greenelab/phenoplier/pull/38#discussion_r634600813\n",
    "gene_corrs_data = squareform(np.array(gene_corrs, dtype=np.float64))\n",
    "np.fill_diagonal(gene_corrs_data, 1.0)\n",
    "\n",
    "gene_corrs_df = pd.DataFrame(\n",
    "    data=gene_corrs_data,\n",
    "    index=gene_chr_ids,\n",
    "    columns=gene_chr_ids,\n",
    ")\n",
    "\n",
    "output_dir.mkdir(exist_ok=True, parents=True)\n",
    "display(output_file)\n",
    "\n",
    "gene_corrs_df.to_pickle(output_file)"
   ]
  },
  {
   "cell_type": "markdown",
   "id": "faa67b51-5373-470f-aa72-2ded53fa6dfe",
   "metadata": {
    "papermill": {
     "duration": 1.174626,
     "end_time": "2022-07-11T06:57:11.524519",
     "exception": false,
     "start_time": "2022-07-11T06:57:10.349893",
     "status": "completed"
    },
    "tags": []
   },
   "source": [
    "# Testing"
   ]
  },
  {
   "cell_type": "code",
   "execution_count": 33,
   "id": "14f7d046-4b55-4896-a56b-990127bcc388",
   "metadata": {
    "execution": {
     "iopub.execute_input": "2022-07-11T06:57:13.883854Z",
     "iopub.status.busy": "2022-07-11T06:57:13.882188Z",
     "iopub.status.idle": "2022-07-11T06:57:13.913402Z",
     "shell.execute_reply": "2022-07-11T06:57:13.913005Z"
    },
    "papermill": {
     "duration": 1.219788,
     "end_time": "2022-07-11T06:57:13.914534",
     "exception": false,
     "start_time": "2022-07-11T06:57:12.694746",
     "status": "completed"
    },
    "tags": []
   },
   "outputs": [
    {
     "data": {
      "text/plain": [
       "(245, 245)"
      ]
     },
     "execution_count": 33,
     "metadata": {},
     "output_type": "execute_result"
    }
   ],
   "source": [
    "gene_corrs_df.shape"
   ]
  },
  {
   "cell_type": "code",
   "execution_count": 34,
   "id": "c7d15414-3297-4537-a7c6-7588c0baeb75",
   "metadata": {
    "execution": {
     "iopub.execute_input": "2022-07-11T06:57:16.443657Z",
     "iopub.status.busy": "2022-07-11T06:57:16.441484Z",
     "iopub.status.idle": "2022-07-11T06:57:16.492095Z",
     "shell.execute_reply": "2022-07-11T06:57:16.491649Z"
    },
    "papermill": {
     "duration": 1.235825,
     "end_time": "2022-07-11T06:57:16.493403",
     "exception": false,
     "start_time": "2022-07-11T06:57:15.257578",
     "status": "completed"
    },
    "tags": []
   },
   "outputs": [
    {
     "data": {
      "text/html": [
       "<div>\n",
       "<style scoped>\n",
       "    .dataframe tbody tr th:only-of-type {\n",
       "        vertical-align: middle;\n",
       "    }\n",
       "\n",
       "    .dataframe tbody tr th {\n",
       "        vertical-align: top;\n",
       "    }\n",
       "\n",
       "    .dataframe thead th {\n",
       "        text-align: right;\n",
       "    }\n",
       "</style>\n",
       "<table border=\"1\" class=\"dataframe\">\n",
       "  <thead>\n",
       "    <tr style=\"text-align: right;\">\n",
       "      <th></th>\n",
       "      <th>ENSG00000261456</th>\n",
       "      <th>ENSG00000148377</th>\n",
       "      <th>ENSG00000067064</th>\n",
       "      <th>ENSG00000067057</th>\n",
       "      <th>ENSG00000067082</th>\n",
       "      <th>ENSG00000187134</th>\n",
       "      <th>ENSG00000151632</th>\n",
       "      <th>ENSG00000196139</th>\n",
       "      <th>ENSG00000173848</th>\n",
       "      <th>ENSG00000196372</th>\n",
       "      <th>...</th>\n",
       "      <th>ENSG00000148773</th>\n",
       "      <th>ENSG00000170430</th>\n",
       "      <th>ENSG00000175470</th>\n",
       "      <th>ENSG00000176171</th>\n",
       "      <th>ENSG00000151640</th>\n",
       "      <th>ENSG00000068383</th>\n",
       "      <th>ENSG00000130640</th>\n",
       "      <th>ENSG00000127884</th>\n",
       "      <th>ENSG00000148832</th>\n",
       "      <th>ENSG00000130649</th>\n",
       "    </tr>\n",
       "  </thead>\n",
       "  <tbody>\n",
       "    <tr>\n",
       "      <th>ENSG00000261456</th>\n",
       "      <td>1.000000</td>\n",
       "      <td>0.009276</td>\n",
       "      <td>0.011251</td>\n",
       "      <td>0.018050</td>\n",
       "      <td>0.007918</td>\n",
       "      <td>0.008961</td>\n",
       "      <td>0.011278</td>\n",
       "      <td>0.011212</td>\n",
       "      <td>0.000000</td>\n",
       "      <td>0.000000</td>\n",
       "      <td>...</td>\n",
       "      <td>0.0</td>\n",
       "      <td>0.0</td>\n",
       "      <td>0.0</td>\n",
       "      <td>0.0</td>\n",
       "      <td>0.0</td>\n",
       "      <td>0.0</td>\n",
       "      <td>0.0</td>\n",
       "      <td>0.0</td>\n",
       "      <td>0.0</td>\n",
       "      <td>0.0</td>\n",
       "    </tr>\n",
       "    <tr>\n",
       "      <th>ENSG00000148377</th>\n",
       "      <td>0.009276</td>\n",
       "      <td>1.000000</td>\n",
       "      <td>0.082265</td>\n",
       "      <td>0.008849</td>\n",
       "      <td>0.002638</td>\n",
       "      <td>0.005402</td>\n",
       "      <td>0.002854</td>\n",
       "      <td>0.006662</td>\n",
       "      <td>0.003950</td>\n",
       "      <td>0.006822</td>\n",
       "      <td>...</td>\n",
       "      <td>0.0</td>\n",
       "      <td>0.0</td>\n",
       "      <td>0.0</td>\n",
       "      <td>0.0</td>\n",
       "      <td>0.0</td>\n",
       "      <td>0.0</td>\n",
       "      <td>0.0</td>\n",
       "      <td>0.0</td>\n",
       "      <td>0.0</td>\n",
       "      <td>0.0</td>\n",
       "    </tr>\n",
       "    <tr>\n",
       "      <th>ENSG00000067064</th>\n",
       "      <td>0.011251</td>\n",
       "      <td>0.082265</td>\n",
       "      <td>1.000000</td>\n",
       "      <td>0.014118</td>\n",
       "      <td>0.010838</td>\n",
       "      <td>0.010339</td>\n",
       "      <td>0.019729</td>\n",
       "      <td>0.015975</td>\n",
       "      <td>0.013213</td>\n",
       "      <td>0.013264</td>\n",
       "      <td>...</td>\n",
       "      <td>0.0</td>\n",
       "      <td>0.0</td>\n",
       "      <td>0.0</td>\n",
       "      <td>0.0</td>\n",
       "      <td>0.0</td>\n",
       "      <td>0.0</td>\n",
       "      <td>0.0</td>\n",
       "      <td>0.0</td>\n",
       "      <td>0.0</td>\n",
       "      <td>0.0</td>\n",
       "    </tr>\n",
       "    <tr>\n",
       "      <th>ENSG00000067057</th>\n",
       "      <td>0.018050</td>\n",
       "      <td>0.008849</td>\n",
       "      <td>0.014118</td>\n",
       "      <td>1.000000</td>\n",
       "      <td>0.012992</td>\n",
       "      <td>0.020653</td>\n",
       "      <td>0.026357</td>\n",
       "      <td>0.026792</td>\n",
       "      <td>0.014648</td>\n",
       "      <td>0.026515</td>\n",
       "      <td>...</td>\n",
       "      <td>0.0</td>\n",
       "      <td>0.0</td>\n",
       "      <td>0.0</td>\n",
       "      <td>0.0</td>\n",
       "      <td>0.0</td>\n",
       "      <td>0.0</td>\n",
       "      <td>0.0</td>\n",
       "      <td>0.0</td>\n",
       "      <td>0.0</td>\n",
       "      <td>0.0</td>\n",
       "    </tr>\n",
       "    <tr>\n",
       "      <th>ENSG00000067082</th>\n",
       "      <td>0.007918</td>\n",
       "      <td>0.002638</td>\n",
       "      <td>0.010838</td>\n",
       "      <td>0.012992</td>\n",
       "      <td>1.000000</td>\n",
       "      <td>0.019430</td>\n",
       "      <td>0.016258</td>\n",
       "      <td>0.012085</td>\n",
       "      <td>0.015885</td>\n",
       "      <td>0.017250</td>\n",
       "      <td>...</td>\n",
       "      <td>0.0</td>\n",
       "      <td>0.0</td>\n",
       "      <td>0.0</td>\n",
       "      <td>0.0</td>\n",
       "      <td>0.0</td>\n",
       "      <td>0.0</td>\n",
       "      <td>0.0</td>\n",
       "      <td>0.0</td>\n",
       "      <td>0.0</td>\n",
       "      <td>0.0</td>\n",
       "    </tr>\n",
       "  </tbody>\n",
       "</table>\n",
       "<p>5 rows × 245 columns</p>\n",
       "</div>"
      ],
      "text/plain": [
       "                 ENSG00000261456  ENSG00000148377  ENSG00000067064  \\\n",
       "ENSG00000261456         1.000000         0.009276         0.011251   \n",
       "ENSG00000148377         0.009276         1.000000         0.082265   \n",
       "ENSG00000067064         0.011251         0.082265         1.000000   \n",
       "ENSG00000067057         0.018050         0.008849         0.014118   \n",
       "ENSG00000067082         0.007918         0.002638         0.010838   \n",
       "\n",
       "                 ENSG00000067057  ENSG00000067082  ENSG00000187134  \\\n",
       "ENSG00000261456         0.018050         0.007918         0.008961   \n",
       "ENSG00000148377         0.008849         0.002638         0.005402   \n",
       "ENSG00000067064         0.014118         0.010838         0.010339   \n",
       "ENSG00000067057         1.000000         0.012992         0.020653   \n",
       "ENSG00000067082         0.012992         1.000000         0.019430   \n",
       "\n",
       "                 ENSG00000151632  ENSG00000196139  ENSG00000173848  \\\n",
       "ENSG00000261456         0.011278         0.011212         0.000000   \n",
       "ENSG00000148377         0.002854         0.006662         0.003950   \n",
       "ENSG00000067064         0.019729         0.015975         0.013213   \n",
       "ENSG00000067057         0.026357         0.026792         0.014648   \n",
       "ENSG00000067082         0.016258         0.012085         0.015885   \n",
       "\n",
       "                 ENSG00000196372  ...  ENSG00000148773  ENSG00000170430  \\\n",
       "ENSG00000261456         0.000000  ...              0.0              0.0   \n",
       "ENSG00000148377         0.006822  ...              0.0              0.0   \n",
       "ENSG00000067064         0.013264  ...              0.0              0.0   \n",
       "ENSG00000067057         0.026515  ...              0.0              0.0   \n",
       "ENSG00000067082         0.017250  ...              0.0              0.0   \n",
       "\n",
       "                 ENSG00000175470  ENSG00000176171  ENSG00000151640  \\\n",
       "ENSG00000261456              0.0              0.0              0.0   \n",
       "ENSG00000148377              0.0              0.0              0.0   \n",
       "ENSG00000067064              0.0              0.0              0.0   \n",
       "ENSG00000067057              0.0              0.0              0.0   \n",
       "ENSG00000067082              0.0              0.0              0.0   \n",
       "\n",
       "                 ENSG00000068383  ENSG00000130640  ENSG00000127884  \\\n",
       "ENSG00000261456              0.0              0.0              0.0   \n",
       "ENSG00000148377              0.0              0.0              0.0   \n",
       "ENSG00000067064              0.0              0.0              0.0   \n",
       "ENSG00000067057              0.0              0.0              0.0   \n",
       "ENSG00000067082              0.0              0.0              0.0   \n",
       "\n",
       "                 ENSG00000148832  ENSG00000130649  \n",
       "ENSG00000261456              0.0              0.0  \n",
       "ENSG00000148377              0.0              0.0  \n",
       "ENSG00000067064              0.0              0.0  \n",
       "ENSG00000067057              0.0              0.0  \n",
       "ENSG00000067082              0.0              0.0  \n",
       "\n",
       "[5 rows x 245 columns]"
      ]
     },
     "execution_count": 34,
     "metadata": {},
     "output_type": "execute_result"
    }
   ],
   "source": [
    "gene_corrs_df.head()"
   ]
  },
  {
   "cell_type": "code",
   "execution_count": 35,
   "id": "286686af-1b7b-4440-8453-6bdcbd8de19c",
   "metadata": {
    "execution": {
     "iopub.execute_input": "2022-07-11T06:57:19.003529Z",
     "iopub.status.busy": "2022-07-11T06:57:19.003314Z",
     "iopub.status.idle": "2022-07-11T06:57:19.031238Z",
     "shell.execute_reply": "2022-07-11T06:57:19.030845Z"
    },
    "papermill": {
     "duration": 1.342154,
     "end_time": "2022-07-11T06:57:19.032457",
     "exception": false,
     "start_time": "2022-07-11T06:57:17.690303",
     "status": "completed"
    },
    "tags": []
   },
   "outputs": [],
   "source": [
    "assert not gene_corrs_df.isna().any().any()"
   ]
  },
  {
   "cell_type": "code",
   "execution_count": 36,
   "id": "00583efc-7068-4270-ad1e-4a418e91db96",
   "metadata": {
    "execution": {
     "iopub.execute_input": "2022-07-11T06:57:21.455786Z",
     "iopub.status.busy": "2022-07-11T06:57:21.455327Z",
     "iopub.status.idle": "2022-07-11T06:57:21.484584Z",
     "shell.execute_reply": "2022-07-11T06:57:21.484180Z"
    },
    "papermill": {
     "duration": 1.176258,
     "end_time": "2022-07-11T06:57:21.485697",
     "exception": false,
     "start_time": "2022-07-11T06:57:20.309439",
     "status": "completed"
    },
    "tags": []
   },
   "outputs": [
    {
     "data": {
      "text/plain": [
       "0.0"
      ]
     },
     "metadata": {},
     "output_type": "display_data"
    }
   ],
   "source": [
    "_min_val = gene_corrs_df.min().min()\n",
    "display(_min_val)\n",
    "assert _min_val >= 0.0"
   ]
  },
  {
   "cell_type": "code",
   "execution_count": 37,
   "id": "d04fb2cf-1050-475b-b855-f5f7cc04092b",
   "metadata": {
    "execution": {
     "iopub.execute_input": "2022-07-11T06:57:23.898302Z",
     "iopub.status.busy": "2022-07-11T06:57:23.898132Z",
     "iopub.status.idle": "2022-07-11T06:57:23.926820Z",
     "shell.execute_reply": "2022-07-11T06:57:23.926427Z"
    },
    "papermill": {
     "duration": 1.215138,
     "end_time": "2022-07-11T06:57:23.927982",
     "exception": false,
     "start_time": "2022-07-11T06:57:22.712844",
     "status": "completed"
    },
    "tags": []
   },
   "outputs": [
    {
     "data": {
      "text/plain": [
       "1.0"
      ]
     },
     "metadata": {},
     "output_type": "display_data"
    }
   ],
   "source": [
    "_max_val = gene_corrs_df.max().max()  # this captures the diagonal\n",
    "display(_max_val)\n",
    "assert _max_val <= 1.0"
   ]
  },
  {
   "cell_type": "code",
   "execution_count": 38,
   "id": "96d02c44-1fba-47be-8a93-8f2608420b9c",
   "metadata": {
    "execution": {
     "iopub.execute_input": "2022-07-11T06:57:26.302327Z",
     "iopub.status.busy": "2022-07-11T06:57:26.302148Z",
     "iopub.status.idle": "2022-07-11T06:57:26.317672Z",
     "shell.execute_reply": "2022-07-11T06:57:26.317261Z"
    },
    "papermill": {
     "duration": 1.21303,
     "end_time": "2022-07-11T06:57:26.318995",
     "exception": false,
     "start_time": "2022-07-11T06:57:25.105965",
     "status": "completed"
    },
    "tags": []
   },
   "outputs": [],
   "source": [
    "# check upper triangular values\n",
    "assert len(gene_corrs) == int(genes_chr.shape[0] * (genes_chr.shape[0] - 1) / 2)"
   ]
  },
  {
   "cell_type": "code",
   "execution_count": 39,
   "id": "aaa51627-f4e3-4744-a41f-7d25adcc0a78",
   "metadata": {
    "execution": {
     "iopub.execute_input": "2022-07-11T06:57:28.671272Z",
     "iopub.status.busy": "2022-07-11T06:57:28.671104Z",
     "iopub.status.idle": "2022-07-11T06:57:28.701910Z",
     "shell.execute_reply": "2022-07-11T06:57:28.701498Z"
    },
    "papermill": {
     "duration": 1.167512,
     "end_time": "2022-07-11T06:57:28.703191",
     "exception": false,
     "start_time": "2022-07-11T06:57:27.535679",
     "status": "completed"
    },
    "tags": []
   },
   "outputs": [],
   "source": [
    "gene_corrs = pd.Series(gene_corrs)"
   ]
  },
  {
   "cell_type": "code",
   "execution_count": 40,
   "id": "fe283586-c348-40e0-8841-f6d97bfb021c",
   "metadata": {
    "execution": {
     "iopub.execute_input": "2022-07-11T06:57:31.153133Z",
     "iopub.status.busy": "2022-07-11T06:57:31.152967Z",
     "iopub.status.idle": "2022-07-11T06:57:31.174243Z",
     "shell.execute_reply": "2022-07-11T06:57:31.173334Z"
    },
    "papermill": {
     "duration": 1.20964,
     "end_time": "2022-07-11T06:57:31.175633",
     "exception": false,
     "start_time": "2022-07-11T06:57:29.965993",
     "status": "completed"
    },
    "tags": []
   },
   "outputs": [
    {
     "data": {
      "text/plain": [
       "count    29890.000000\n",
       "mean         0.002854\n",
       "std          0.029172\n",
       "min          0.000000\n",
       "25%          0.000000\n",
       "50%          0.000000\n",
       "75%          0.000000\n",
       "max          0.989064\n",
       "dtype: float64"
      ]
     },
     "execution_count": 40,
     "metadata": {},
     "output_type": "execute_result"
    }
   ],
   "source": [
    "gene_corrs.describe()"
   ]
  },
  {
   "cell_type": "code",
   "execution_count": 41,
   "id": "b3815678-0f93-4b35-897b-a9d047a2aa78",
   "metadata": {
    "execution": {
     "iopub.execute_input": "2022-07-11T06:57:33.486081Z",
     "iopub.status.busy": "2022-07-11T06:57:33.485905Z",
     "iopub.status.idle": "2022-07-11T06:57:33.506441Z",
     "shell.execute_reply": "2022-07-11T06:57:33.505970Z"
    },
    "papermill": {
     "duration": 1.15718,
     "end_time": "2022-07-11T06:57:33.507672",
     "exception": false,
     "start_time": "2022-07-11T06:57:32.350492",
     "status": "completed"
    },
    "tags": []
   },
   "outputs": [
    {
     "data": {
      "text/plain": [
       "0.00    0.000000\n",
       "0.05    0.000000\n",
       "0.10    0.000000\n",
       "0.15    0.000000\n",
       "0.20    0.000000\n",
       "0.25    0.000000\n",
       "0.30    0.000000\n",
       "0.35    0.000000\n",
       "0.40    0.000000\n",
       "0.45    0.000000\n",
       "0.50    0.000000\n",
       "0.55    0.000000\n",
       "0.60    0.000000\n",
       "0.65    0.000000\n",
       "0.70    0.000000\n",
       "0.75    0.000000\n",
       "0.80    0.000000\n",
       "0.85    0.000000\n",
       "0.90    0.000000\n",
       "0.95    0.009773\n",
       "dtype: float64"
      ]
     },
     "metadata": {},
     "output_type": "display_data"
    }
   ],
   "source": [
    "gene_corrs_quantiles = gene_corrs.quantile(np.arange(0, 1, 0.05))\n",
    "display(gene_corrs_quantiles)"
   ]
  },
  {
   "cell_type": "markdown",
   "id": "8e60a080-edb2-4e9c-b2ef-22961693200c",
   "metadata": {
    "papermill": {
     "duration": 1.156454,
     "end_time": "2022-07-11T06:57:35.846261",
     "exception": false,
     "start_time": "2022-07-11T06:57:34.689807",
     "status": "completed"
    },
    "tags": []
   },
   "source": [
    "## Plot: distribution"
   ]
  },
  {
   "cell_type": "code",
   "execution_count": 42,
   "id": "8301126b-a7d4-4744-9c7d-f0f86eb6f54c",
   "metadata": {
    "execution": {
     "iopub.execute_input": "2022-07-11T06:57:38.229297Z",
     "iopub.status.busy": "2022-07-11T06:57:38.228470Z",
     "iopub.status.idle": "2022-07-11T06:57:38.678800Z",
     "shell.execute_reply": "2022-07-11T06:57:38.678418Z"
    },
    "papermill": {
     "duration": 1.569246,
     "end_time": "2022-07-11T06:57:38.679971",
     "exception": false,
     "start_time": "2022-07-11T06:57:37.110725",
     "status": "completed"
    },
    "tags": []
   },
   "outputs": [
    {
     "data": {
      "image/png": "[encoded data removed]",
      "text/plain": [
       "<Figure size 504x504 with 1 Axes>"
      ]
     },
     "metadata": {
      "needs_background": "light"
     },
     "output_type": "display_data"
    }
   ],
   "source": [
    "with sns.plotting_context(\"paper\", font_scale=1.5):\n",
    "    g = sns.displot(gene_corrs, kde=True, height=7)\n",
    "    g.ax.set_title(\n",
    "        f\"Distribution of gene correlation values in chromosome {chromosome}\"\n",
    "    )"
   ]
  },
  {
   "cell_type": "markdown",
   "id": "cbd52bca-d878-4a2f-b684-5c83aa3038d4",
   "metadata": {
    "papermill": {
     "duration": 1.117224,
     "end_time": "2022-07-11T06:57:41.199626",
     "exception": false,
     "start_time": "2022-07-11T06:57:40.082402",
     "status": "completed"
    },
    "tags": []
   },
   "source": [
    "## Plot: heatmap"
   ]
  },
  {
   "cell_type": "code",
   "execution_count": 43,
   "id": "d03fe63a-c7b2-4fb9-a53c-db362ce843c9",
   "metadata": {
    "execution": {
     "iopub.execute_input": "2022-07-11T06:57:43.517158Z",
     "iopub.status.busy": "2022-07-11T06:57:43.516980Z",
     "iopub.status.idle": "2022-07-11T06:57:43.546955Z",
     "shell.execute_reply": "2022-07-11T06:57:43.546546Z"
    },
    "papermill": {
     "duration": 1.201464,
     "end_time": "2022-07-11T06:57:43.548384",
     "exception": false,
     "start_time": "2022-07-11T06:57:42.346920",
     "status": "completed"
    },
    "tags": []
   },
   "outputs": [
    {
     "data": {
      "text/plain": [
       "'-0.05 / 0.05'"
      ]
     },
     "metadata": {},
     "output_type": "display_data"
    }
   ],
   "source": [
    "vmin_val = min(-0.05, gene_corrs_quantiles[0.10])\n",
    "vmax_val = max(0.05, gene_corrs_quantiles[0.90])\n",
    "display(f\"{vmin_val} / {vmax_val}\")"
   ]
  },
  {
   "cell_type": "code",
   "execution_count": 44,
   "id": "dc41b70b-5bcc-4d9e-9f33-a22c4a94dab5",
   "metadata": {
    "execution": {
     "iopub.execute_input": "2022-07-11T06:57:45.861011Z",
     "iopub.status.busy": "2022-07-11T06:57:45.860849Z",
     "iopub.status.idle": "2022-07-11T06:57:46.097848Z",
     "shell.execute_reply": "2022-07-11T06:57:46.097459Z"
    },
    "papermill": {
     "duration": 1.3376,
     "end_time": "2022-07-11T06:57:46.099263",
     "exception": false,
     "start_time": "2022-07-11T06:57:44.761663",
     "status": "completed"
    },
    "tags": []
   },
   "outputs": [
    {
     "data": {
      "text/plain": [
       "Text(0.5, 1.0, 'Gene correlations in chromosome 10')"
      ]
     },
     "execution_count": 44,
     "metadata": {},
     "output_type": "execute_result"
    },
    {
     "data": {
      "image/png": "[encoded data removed]",
      "text/plain": [
       "<Figure size 720x720 with 2 Axes>"
      ]
     },
     "metadata": {
      "needs_background": "light"
     },
     "output_type": "display_data"
    }
   ],
   "source": [
    "f, ax = plt.subplots(figsize=(10, 10))\n",
    "sns.heatmap(\n",
    "    gene_corrs_df,\n",
    "    xticklabels=False,\n",
    "    yticklabels=False,\n",
    "    square=True,\n",
    "    vmin=vmin_val,\n",
    "    vmax=vmax_val,\n",
    "    cmap=\"YlGnBu\",\n",
    "    ax=ax,\n",
    ")\n",
    "ax.set_title(f\"Gene correlations in chromosome {chromosome}\")"
   ]
  },
  {
   "cell_type": "code",
   "execution_count": null,
   "id": "b25e3ead",
   "metadata": {
    "papermill": {
     "duration": 1.111342,
     "end_time": "2022-07-11T06:57:48.353609",
     "exception": false,
     "start_time": "2022-07-11T06:57:47.242267",
     "status": "completed"
    },
    "tags": []
   },
   "outputs": [],
   "source": []
  }
 ],
 "metadata": {
  "jupytext": {
   "cell_metadata_filter": "all,-execution,-papermill,-trusted",
   "formats": "ipynb,py//py:percent"
  },
  "kernelspec": {
   "display_name": "Python 3 (ipykernel)",
   "language": "python",
   "name": "python3"
  },
  "language_info": {
   "codemirror_mode": {
    "name": "ipython",
    "version": 3
   },
   "file_extension": ".py",
   "mimetype": "text/x-python",
   "name": "python",
   "nbconvert_exporter": "python",
   "pygments_lexer": "ipython3",
   "version": "3.8.13"
  },
  "papermill": {
   "default_parameters": {},
   "duration": 466.143187,
   "end_time": "2022-07-11T06:57:53.087751",
   "environment_variables": {},
   "exception": null,
   "input_path": "nbs/15_gsa_gls/10-gene_expr_correlations.ipynb",
   "output_path": "nbs/15_gsa_gls/gene_corrs/1000g/mashr/10-gene_expr_correlations-chr10.run.ipynb",
   "parameters": {
    "EQTL_MODEL": "MASHR",
    "REFERENCE_PANEL": "1000G",
    "chromosome": 10
   },
   "start_time": "2022-07-11T06:50:06.944564",
   "version": "2.2.2"
  }
 },
 "nbformat": 4,
 "nbformat_minor": 5
}
