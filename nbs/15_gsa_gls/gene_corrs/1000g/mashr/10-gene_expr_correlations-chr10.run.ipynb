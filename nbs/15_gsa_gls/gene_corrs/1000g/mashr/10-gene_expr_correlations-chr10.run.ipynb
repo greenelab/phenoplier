{
 "cells": [
  {
   "cell_type": "markdown",
   "id": "7a6632fb",
   "metadata": {
    "papermill": {
     "duration": 0.006141,
     "end_time": "2022-07-12T06:05:10.710139",
     "exception": false,
     "start_time": "2022-07-12T06:05:10.703998",
     "status": "completed"
    },
    "tags": []
   },
   "source": [
    "# Description"
   ]
  },
  {
   "cell_type": "markdown",
   "id": "7097c346",
   "metadata": {
    "papermill": {
     "duration": 0.005364,
     "end_time": "2022-07-12T06:05:10.721249",
     "exception": false,
     "start_time": "2022-07-12T06:05:10.715885",
     "status": "completed"
    },
    "tags": []
   },
   "source": [
    "(Please, take a look at the README.md file in this directory for instructions on how to run this notebook)\n",
    "\n",
    "This notebook computes predicted expression correlations between all genes in the MultiPLIER models.\n",
    "\n",
    "It also has a parameter set for papermill to run on a single chromosome to run in parallel (see under `Settings` below).\n",
    "\n",
    "This notebook is not directly run. See README.md."
   ]
  },
  {
   "cell_type": "markdown",
   "id": "c61d8427",
   "metadata": {
    "papermill": {
     "duration": 0.005678,
     "end_time": "2022-07-12T06:05:10.732528",
     "exception": false,
     "start_time": "2022-07-12T06:05:10.726850",
     "status": "completed"
    },
    "tags": []
   },
   "source": [
    "# Modules"
   ]
  },
  {
   "cell_type": "code",
   "execution_count": 1,
   "id": "bbc0234f",
   "metadata": {
    "execution": {
     "iopub.execute_input": "2022-07-12T06:05:10.745101Z",
     "iopub.status.busy": "2022-07-12T06:05:10.744822Z",
     "iopub.status.idle": "2022-07-12T06:05:10.759325Z",
     "shell.execute_reply": "2022-07-12T06:05:10.758903Z"
    },
    "papermill": {
     "duration": 0.022652,
     "end_time": "2022-07-12T06:05:10.760808",
     "exception": false,
     "start_time": "2022-07-12T06:05:10.738156",
     "status": "completed"
    },
    "tags": []
   },
   "outputs": [],
   "source": [
    "%load_ext autoreload\n",
    "%autoreload 2"
   ]
  },
  {
   "cell_type": "code",
   "execution_count": 2,
   "id": "1d5f5a59",
   "metadata": {
    "execution": {
     "iopub.execute_input": "2022-07-12T06:05:10.801030Z",
     "iopub.status.busy": "2022-07-12T06:05:10.800810Z",
     "iopub.status.idle": "2022-07-12T06:05:11.680165Z",
     "shell.execute_reply": "2022-07-12T06:05:11.679754Z"
    },
    "papermill": {
     "duration": 0.887846,
     "end_time": "2022-07-12T06:05:11.681491",
     "exception": false,
     "start_time": "2022-07-12T06:05:10.793645",
     "status": "completed"
    },
    "tags": []
   },
   "outputs": [],
   "source": [
    "from random import sample, seed\n",
    "import warnings\n",
    "from pathlib import Path\n",
    "\n",
    "import numpy as np\n",
    "from scipy.spatial.distance import squareform\n",
    "import pandas as pd\n",
    "from tqdm import tqdm\n",
    "import matplotlib.pyplot as plt\n",
    "import seaborn as sns\n",
    "\n",
    "import conf\n",
    "from entity import Gene"
   ]
  },
  {
   "cell_type": "markdown",
   "id": "1eac24b5",
   "metadata": {
    "papermill": {
     "duration": 0.005449,
     "end_time": "2022-07-12T06:05:11.692491",
     "exception": false,
     "start_time": "2022-07-12T06:05:11.687042",
     "status": "completed"
    },
    "tags": []
   },
   "source": [
    "# Settings"
   ]
  },
  {
   "cell_type": "code",
   "execution_count": 3,
   "id": "ca4560ba",
   "metadata": {
    "execution": {
     "iopub.execute_input": "2022-07-12T06:05:11.705200Z",
     "iopub.status.busy": "2022-07-12T06:05:11.704999Z",
     "iopub.status.idle": "2022-07-12T06:05:11.719779Z",
     "shell.execute_reply": "2022-07-12T06:05:11.719349Z"
    },
    "papermill": {
     "duration": 0.022981,
     "end_time": "2022-07-12T06:05:11.721075",
     "exception": false,
     "start_time": "2022-07-12T06:05:11.698094",
     "status": "completed"
    },
    "tags": [
     "parameters"
    ]
   },
   "outputs": [],
   "source": [
    "# reference panel\n",
    "REFERENCE_PANEL = \"GTEX_V8\"\n",
    "# REFERENCE_PANEL = \"1000G\"\n",
    "\n",
    "# prediction models\n",
    "## mashr\n",
    "EQTL_MODEL = \"MASHR\"\n",
    "\n",
    "# this is the default value used in S-MultiXcan to select the\n",
    "# top principal components of the expression correlation matrix\n",
    "SMULTIXCAN_CONDITION_NUMBER = 30\n",
    "\n",
    "# specifies a single chromosome value\n",
    "# by default, run on all chromosomes\n",
    "chromosome = None"
   ]
  },
  {
   "cell_type": "code",
   "execution_count": 4,
   "id": "4dc7a892",
   "metadata": {
    "execution": {
     "iopub.execute_input": "2022-07-12T06:05:11.733849Z",
     "iopub.status.busy": "2022-07-12T06:05:11.733651Z",
     "iopub.status.idle": "2022-07-12T06:05:11.747434Z",
     "shell.execute_reply": "2022-07-12T06:05:11.747053Z"
    },
    "papermill": {
     "duration": 0.021486,
     "end_time": "2022-07-12T06:05:11.748737",
     "exception": false,
     "start_time": "2022-07-12T06:05:11.727251",
     "status": "completed"
    },
    "tags": [
     "injected-parameters"
    ]
   },
   "outputs": [],
   "source": [
    "# Parameters\n",
    "chromosome = 10\n",
    "REFERENCE_PANEL = \"1000G\"\n",
    "EQTL_MODEL = \"MASHR\"\n"
   ]
  },
  {
   "cell_type": "code",
   "execution_count": 5,
   "id": "a089c9ff",
   "metadata": {
    "execution": {
     "iopub.execute_input": "2022-07-12T06:05:11.760496Z",
     "iopub.status.busy": "2022-07-12T06:05:11.760302Z",
     "iopub.status.idle": "2022-07-12T06:05:11.774389Z",
     "shell.execute_reply": "2022-07-12T06:05:11.774000Z"
    },
    "papermill": {
     "duration": 0.021451,
     "end_time": "2022-07-12T06:05:11.775698",
     "exception": false,
     "start_time": "2022-07-12T06:05:11.754247",
     "status": "completed"
    },
    "tags": []
   },
   "outputs": [],
   "source": [
    "EQTL_MODEL_FILES_PREFIX = conf.PHENOMEXCAN[\"PREDICTION_MODELS\"][f\"{EQTL_MODEL}_PREFIX\"]"
   ]
  },
  {
   "cell_type": "code",
   "execution_count": 6,
   "id": "8fe24bef",
   "metadata": {
    "execution": {
     "iopub.execute_input": "2022-07-12T06:05:11.787663Z",
     "iopub.status.busy": "2022-07-12T06:05:11.787463Z",
     "iopub.status.idle": "2022-07-12T06:05:11.803693Z",
     "shell.execute_reply": "2022-07-12T06:05:11.803244Z"
    },
    "papermill": {
     "duration": 0.023906,
     "end_time": "2022-07-12T06:05:11.805195",
     "exception": false,
     "start_time": "2022-07-12T06:05:11.781289",
     "status": "completed"
    },
    "tags": []
   },
   "outputs": [
    {
     "data": {
      "text/plain": [
       "'Using eQTL model: MASHR / mashr_'"
      ]
     },
     "metadata": {},
     "output_type": "display_data"
    }
   ],
   "source": [
    "display(f\"Using eQTL model: {EQTL_MODEL} / {EQTL_MODEL_FILES_PREFIX}\")"
   ]
  },
  {
   "cell_type": "code",
   "execution_count": 7,
   "id": "552a7f63-a18c-4d3e-bb6a-94f99b431291",
   "metadata": {
    "execution": {
     "iopub.execute_input": "2022-07-12T06:05:11.818560Z",
     "iopub.status.busy": "2022-07-12T06:05:11.818029Z",
     "iopub.status.idle": "2022-07-12T06:05:11.832421Z",
     "shell.execute_reply": "2022-07-12T06:05:11.831951Z"
    },
    "papermill": {
     "duration": 0.02257,
     "end_time": "2022-07-12T06:05:11.833585",
     "exception": false,
     "start_time": "2022-07-12T06:05:11.811015",
     "status": "completed"
    },
    "tags": []
   },
   "outputs": [
    {
     "data": {
      "text/plain": [
       "'S-MultiXcan condition number: 30'"
      ]
     },
     "metadata": {},
     "output_type": "display_data"
    }
   ],
   "source": [
    "display(f\"S-MultiXcan condition number: {SMULTIXCAN_CONDITION_NUMBER}\")"
   ]
  },
  {
   "cell_type": "code",
   "execution_count": 8,
   "id": "0230ebcb-2c32-4b95-9292-d9a52038e70d",
   "metadata": {
    "execution": {
     "iopub.execute_input": "2022-07-12T06:05:11.846564Z",
     "iopub.status.busy": "2022-07-12T06:05:11.846408Z",
     "iopub.status.idle": "2022-07-12T06:05:11.860482Z",
     "shell.execute_reply": "2022-07-12T06:05:11.860107Z"
    },
    "papermill": {
     "duration": 0.022077,
     "end_time": "2022-07-12T06:05:11.861723",
     "exception": false,
     "start_time": "2022-07-12T06:05:11.839646",
     "status": "completed"
    },
    "tags": []
   },
   "outputs": [],
   "source": [
    "REFERENCE_PANEL_DIR = conf.PHENOMEXCAN[\"LD_BLOCKS\"][f\"{REFERENCE_PANEL}_GENOTYPE_DIR\"]"
   ]
  },
  {
   "cell_type": "code",
   "execution_count": 9,
   "id": "98c4a159-601d-4a22-a1ab-35bd451c25f9",
   "metadata": {
    "execution": {
     "iopub.execute_input": "2022-07-12T06:05:11.874486Z",
     "iopub.status.busy": "2022-07-12T06:05:11.874092Z",
     "iopub.status.idle": "2022-07-12T06:05:11.888762Z",
     "shell.execute_reply": "2022-07-12T06:05:11.888381Z"
    },
    "papermill": {
     "duration": 0.022415,
     "end_time": "2022-07-12T06:05:11.889942",
     "exception": false,
     "start_time": "2022-07-12T06:05:11.867527",
     "status": "completed"
    },
    "tags": []
   },
   "outputs": [
    {
     "data": {
      "text/plain": [
       "'Using reference panel folder: /opt/data/data/phenomexcan/ld_blocks/reference_panel_1000G'"
      ]
     },
     "metadata": {},
     "output_type": "display_data"
    }
   ],
   "source": [
    "display(f\"Using reference panel folder: {str(REFERENCE_PANEL_DIR)}\")"
   ]
  },
  {
   "cell_type": "code",
   "execution_count": 10,
   "id": "396392dc-0340-4540-9b02-e182b833f909",
   "metadata": {
    "execution": {
     "iopub.execute_input": "2022-07-12T06:05:11.902461Z",
     "iopub.status.busy": "2022-07-12T06:05:11.902024Z",
     "iopub.status.idle": "2022-07-12T06:05:11.916176Z",
     "shell.execute_reply": "2022-07-12T06:05:11.915787Z"
    },
    "papermill": {
     "duration": 0.021706,
     "end_time": "2022-07-12T06:05:11.917459",
     "exception": false,
     "start_time": "2022-07-12T06:05:11.895753",
     "status": "completed"
    },
    "tags": []
   },
   "outputs": [],
   "source": [
    "OUTPUT_DIR_BASE = (\n",
    "    conf.PHENOMEXCAN[\"LD_BLOCKS\"][f\"GENE_CORRS_DIR\"]\n",
    "    / REFERENCE_PANEL.lower()\n",
    "    / EQTL_MODEL.lower()\n",
    ")\n",
    "OUTPUT_DIR_BASE.mkdir(parents=True, exist_ok=True)"
   ]
  },
  {
   "cell_type": "code",
   "execution_count": 11,
   "id": "8942c2d3-e53c-4d63-a0eb-b6fce0574d36",
   "metadata": {
    "execution": {
     "iopub.execute_input": "2022-07-12T06:05:11.929976Z",
     "iopub.status.busy": "2022-07-12T06:05:11.929784Z",
     "iopub.status.idle": "2022-07-12T06:05:11.944428Z",
     "shell.execute_reply": "2022-07-12T06:05:11.943993Z"
    },
    "papermill": {
     "duration": 0.022227,
     "end_time": "2022-07-12T06:05:11.945623",
     "exception": false,
     "start_time": "2022-07-12T06:05:11.923396",
     "status": "completed"
    },
    "tags": []
   },
   "outputs": [
    {
     "data": {
      "text/plain": [
       "'Using output dir base: /opt/data/data/phenomexcan/ld_blocks/gene_corrs/1000g/mashr'"
      ]
     },
     "metadata": {},
     "output_type": "display_data"
    }
   ],
   "source": [
    "display(f\"Using output dir base: {OUTPUT_DIR_BASE}\")"
   ]
  },
  {
   "cell_type": "code",
   "execution_count": 12,
   "id": "408aa590",
   "metadata": {
    "execution": {
     "iopub.execute_input": "2022-07-12T06:05:11.958588Z",
     "iopub.status.busy": "2022-07-12T06:05:11.958378Z",
     "iopub.status.idle": "2022-07-12T06:05:11.972485Z",
     "shell.execute_reply": "2022-07-12T06:05:11.972081Z"
    },
    "papermill": {
     "duration": 0.022074,
     "end_time": "2022-07-12T06:05:11.973767",
     "exception": false,
     "start_time": "2022-07-12T06:05:11.951693",
     "status": "completed"
    },
    "tags": []
   },
   "outputs": [],
   "source": [
    "assert (\n",
    "    chromosome is not None\n",
    "), \"You have to select one chromosome (format: number between 1 and 22)\""
   ]
  },
  {
   "cell_type": "code",
   "execution_count": 13,
   "id": "c1c7dd06-80ff-453c-bcb7-0899edce75da",
   "metadata": {
    "execution": {
     "iopub.execute_input": "2022-07-12T06:05:11.988762Z",
     "iopub.status.busy": "2022-07-12T06:05:11.988602Z",
     "iopub.status.idle": "2022-07-12T06:05:12.002699Z",
     "shell.execute_reply": "2022-07-12T06:05:12.002280Z"
    },
    "papermill": {
     "duration": 0.022444,
     "end_time": "2022-07-12T06:05:12.003986",
     "exception": false,
     "start_time": "2022-07-12T06:05:11.981542",
     "status": "completed"
    },
    "tags": []
   },
   "outputs": [],
   "source": [
    "chromosome = str(chromosome)"
   ]
  },
  {
   "cell_type": "code",
   "execution_count": 14,
   "id": "bc17b84c-9c26-47a5-a3ab-7046e72f3ef4",
   "metadata": {
    "execution": {
     "iopub.execute_input": "2022-07-12T06:05:12.017225Z",
     "iopub.status.busy": "2022-07-12T06:05:12.016992Z",
     "iopub.status.idle": "2022-07-12T06:05:12.032661Z",
     "shell.execute_reply": "2022-07-12T06:05:12.032236Z"
    },
    "papermill": {
     "duration": 0.023433,
     "end_time": "2022-07-12T06:05:12.033825",
     "exception": false,
     "start_time": "2022-07-12T06:05:12.010392",
     "status": "completed"
    },
    "tags": []
   },
   "outputs": [
    {
     "data": {
      "text/plain": [
       "'Working on chromosome 10'"
      ]
     },
     "metadata": {},
     "output_type": "display_data"
    }
   ],
   "source": [
    "display(f\"Working on chromosome {chromosome}\")"
   ]
  },
  {
   "cell_type": "code",
   "execution_count": 15,
   "id": "3c7d8574-90c7-4d09-bc8c-469ed0a34737",
   "metadata": {
    "execution": {
     "iopub.execute_input": "2022-07-12T06:05:12.047033Z",
     "iopub.status.busy": "2022-07-12T06:05:12.046840Z",
     "iopub.status.idle": "2022-07-12T06:05:12.061529Z",
     "shell.execute_reply": "2022-07-12T06:05:12.061162Z"
    },
    "papermill": {
     "duration": 0.023154,
     "end_time": "2022-07-12T06:05:12.063114",
     "exception": false,
     "start_time": "2022-07-12T06:05:12.039960",
     "status": "completed"
    },
    "tags": []
   },
   "outputs": [
    {
     "data": {
      "text/plain": [
       "'Compute correlation within distance False'"
      ]
     },
     "metadata": {},
     "output_type": "display_data"
    }
   ],
   "source": [
    "# This paramter, if True, computes the correlation between closeby genes only\n",
    "COMPUTE_CORRELATIONS_WITHIN_DISTANCE = False\n",
    "display(f\"Compute correlation within distance {COMPUTE_CORRELATIONS_WITHIN_DISTANCE}\")"
   ]
  },
  {
   "cell_type": "markdown",
   "id": "d2ba085e",
   "metadata": {
    "papermill": {
     "duration": 0.006388,
     "end_time": "2022-07-12T06:05:12.075735",
     "exception": false,
     "start_time": "2022-07-12T06:05:12.069347",
     "status": "completed"
    },
    "tags": []
   },
   "source": [
    "# Load data"
   ]
  },
  {
   "cell_type": "markdown",
   "id": "7bed0ce0-e7c7-4300-9a61-5412450b1904",
   "metadata": {
    "papermill": {
     "duration": 0.006062,
     "end_time": "2022-07-12T06:05:12.088371",
     "exception": false,
     "start_time": "2022-07-12T06:05:12.082309",
     "status": "completed"
    },
    "tags": []
   },
   "source": [
    "## Prediction model tissues"
   ]
  },
  {
   "cell_type": "code",
   "execution_count": 16,
   "id": "0847c065-0d69-4830-a07f-1c75115d17f5",
   "metadata": {
    "execution": {
     "iopub.execute_input": "2022-07-12T06:05:12.101760Z",
     "iopub.status.busy": "2022-07-12T06:05:12.101456Z",
     "iopub.status.idle": "2022-07-12T06:05:12.115941Z",
     "shell.execute_reply": "2022-07-12T06:05:12.115473Z"
    },
    "papermill": {
     "duration": 0.022722,
     "end_time": "2022-07-12T06:05:12.117317",
     "exception": false,
     "start_time": "2022-07-12T06:05:12.094595",
     "status": "completed"
    },
    "tags": []
   },
   "outputs": [],
   "source": [
    "prediction_model_tissues = conf.PHENOMEXCAN[\"PREDICTION_MODELS\"][\n",
    "    f\"{EQTL_MODEL}_TISSUES\"\n",
    "].split(\" \")"
   ]
  },
  {
   "cell_type": "code",
   "execution_count": 17,
   "id": "aaef70d1-30c6-4c6f-9d6b-abc8e9a0081f",
   "metadata": {
    "execution": {
     "iopub.execute_input": "2022-07-12T06:05:12.131187Z",
     "iopub.status.busy": "2022-07-12T06:05:12.130988Z",
     "iopub.status.idle": "2022-07-12T06:05:12.147679Z",
     "shell.execute_reply": "2022-07-12T06:05:12.147237Z"
    },
    "papermill": {
     "duration": 0.025048,
     "end_time": "2022-07-12T06:05:12.148896",
     "exception": false,
     "start_time": "2022-07-12T06:05:12.123848",
     "status": "completed"
    },
    "tags": []
   },
   "outputs": [
    {
     "data": {
      "text/plain": [
       "49"
      ]
     },
     "execution_count": 17,
     "metadata": {},
     "output_type": "execute_result"
    }
   ],
   "source": [
    "len(prediction_model_tissues)"
   ]
  },
  {
   "cell_type": "code",
   "execution_count": 18,
   "id": "ff35a099-c52d-465d-b863-0ee70c26208c",
   "metadata": {
    "execution": {
     "iopub.execute_input": "2022-07-12T06:05:12.162963Z",
     "iopub.status.busy": "2022-07-12T06:05:12.162767Z",
     "iopub.status.idle": "2022-07-12T06:05:12.178236Z",
     "shell.execute_reply": "2022-07-12T06:05:12.177766Z"
    },
    "papermill": {
     "duration": 0.023834,
     "end_time": "2022-07-12T06:05:12.179453",
     "exception": false,
     "start_time": "2022-07-12T06:05:12.155619",
     "status": "completed"
    },
    "tags": []
   },
   "outputs": [
    {
     "data": {
      "text/plain": [
       "['Skin_Not_Sun_Exposed_Suprapubic',\n",
       " 'Cells_EBV-transformed_lymphocytes',\n",
       " 'Brain_Frontal_Cortex_BA9',\n",
       " 'Kidney_Cortex',\n",
       " 'Brain_Substantia_nigra']"
      ]
     },
     "execution_count": 18,
     "metadata": {},
     "output_type": "execute_result"
    }
   ],
   "source": [
    "prediction_model_tissues[:5]"
   ]
  },
  {
   "cell_type": "markdown",
   "id": "abcc4b3d",
   "metadata": {
    "papermill": {
     "duration": 0.007778,
     "end_time": "2022-07-12T06:05:12.193992",
     "exception": false,
     "start_time": "2022-07-12T06:05:12.186214",
     "status": "completed"
    },
    "tags": []
   },
   "source": [
    "## MultiPLIER Z"
   ]
  },
  {
   "cell_type": "code",
   "execution_count": 19,
   "id": "c48ef527",
   "metadata": {
    "execution": {
     "iopub.execute_input": "2022-07-12T06:05:12.207957Z",
     "iopub.status.busy": "2022-07-12T06:05:12.207604Z",
     "iopub.status.idle": "2022-07-12T06:05:12.250469Z",
     "shell.execute_reply": "2022-07-12T06:05:12.249997Z"
    },
    "papermill": {
     "duration": 0.051491,
     "end_time": "2022-07-12T06:05:12.252062",
     "exception": false,
     "start_time": "2022-07-12T06:05:12.200571",
     "status": "completed"
    },
    "tags": []
   },
   "outputs": [],
   "source": [
    "multiplier_z_genes = pd.read_pickle(\n",
    "    conf.MULTIPLIER[\"MODEL_Z_MATRIX_FILE\"]\n",
    ").index.tolist()"
   ]
  },
  {
   "cell_type": "code",
   "execution_count": 20,
   "id": "0a4ecbd9",
   "metadata": {
    "execution": {
     "iopub.execute_input": "2022-07-12T06:05:12.266425Z",
     "iopub.status.busy": "2022-07-12T06:05:12.266227Z",
     "iopub.status.idle": "2022-07-12T06:05:12.280904Z",
     "shell.execute_reply": "2022-07-12T06:05:12.280305Z"
    },
    "papermill": {
     "duration": 0.023529,
     "end_time": "2022-07-12T06:05:12.282624",
     "exception": false,
     "start_time": "2022-07-12T06:05:12.259095",
     "status": "completed"
    },
    "tags": []
   },
   "outputs": [
    {
     "data": {
      "text/plain": [
       "6750"
      ]
     },
     "execution_count": 20,
     "metadata": {},
     "output_type": "execute_result"
    }
   ],
   "source": [
    "len(multiplier_z_genes)"
   ]
  },
  {
   "cell_type": "code",
   "execution_count": 21,
   "id": "115e8864",
   "metadata": {
    "execution": {
     "iopub.execute_input": "2022-07-12T06:05:12.296194Z",
     "iopub.status.busy": "2022-07-12T06:05:12.296003Z",
     "iopub.status.idle": "2022-07-12T06:05:12.311539Z",
     "shell.execute_reply": "2022-07-12T06:05:12.311133Z"
    },
    "papermill": {
     "duration": 0.023737,
     "end_time": "2022-07-12T06:05:12.312733",
     "exception": false,
     "start_time": "2022-07-12T06:05:12.288996",
     "status": "completed"
    },
    "tags": []
   },
   "outputs": [
    {
     "data": {
      "text/plain": [
       "['GAS6',\n",
       " 'MMP14',\n",
       " 'DSP',\n",
       " 'MARCKSL1',\n",
       " 'SPARC',\n",
       " 'CTSD',\n",
       " 'EPAS1',\n",
       " 'PALLD',\n",
       " 'PHC2',\n",
       " 'LGALS3BP']"
      ]
     },
     "execution_count": 21,
     "metadata": {},
     "output_type": "execute_result"
    }
   ],
   "source": [
    "multiplier_z_genes[:10]"
   ]
  },
  {
   "cell_type": "markdown",
   "id": "7dcb8db7",
   "metadata": {
    "papermill": {
     "duration": 0.006889,
     "end_time": "2022-07-12T06:05:12.326159",
     "exception": false,
     "start_time": "2022-07-12T06:05:12.319270",
     "status": "completed"
    },
    "tags": []
   },
   "source": [
    "## Get gene objects"
   ]
  },
  {
   "cell_type": "code",
   "execution_count": 22,
   "id": "bb932812",
   "metadata": {
    "execution": {
     "iopub.execute_input": "2022-07-12T06:05:12.340884Z",
     "iopub.status.busy": "2022-07-12T06:05:12.340674Z",
     "iopub.status.idle": "2022-07-12T06:05:12.363436Z",
     "shell.execute_reply": "2022-07-12T06:05:12.362988Z"
    },
    "papermill": {
     "duration": 0.031696,
     "end_time": "2022-07-12T06:05:12.364887",
     "exception": false,
     "start_time": "2022-07-12T06:05:12.333191",
     "status": "completed"
    },
    "tags": []
   },
   "outputs": [],
   "source": [
    "multiplier_gene_obj = {\n",
    "    gene_name: Gene(name=gene_name)\n",
    "    for gene_name in multiplier_z_genes\n",
    "    if gene_name in Gene.GENE_NAME_TO_ID_MAP\n",
    "}"
   ]
  },
  {
   "cell_type": "code",
   "execution_count": 23,
   "id": "39533214",
   "metadata": {
    "execution": {
     "iopub.execute_input": "2022-07-12T06:05:12.379094Z",
     "iopub.status.busy": "2022-07-12T06:05:12.378930Z",
     "iopub.status.idle": "2022-07-12T06:05:12.392964Z",
     "shell.execute_reply": "2022-07-12T06:05:12.392553Z"
    },
    "papermill": {
     "duration": 0.022334,
     "end_time": "2022-07-12T06:05:12.394105",
     "exception": false,
     "start_time": "2022-07-12T06:05:12.371771",
     "status": "completed"
    },
    "tags": []
   },
   "outputs": [
    {
     "data": {
      "text/plain": [
       "6454"
      ]
     },
     "execution_count": 23,
     "metadata": {},
     "output_type": "execute_result"
    }
   ],
   "source": [
    "len(multiplier_gene_obj)"
   ]
  },
  {
   "cell_type": "code",
   "execution_count": 24,
   "id": "9a5d0b84",
   "metadata": {
    "execution": {
     "iopub.execute_input": "2022-07-12T06:05:12.431037Z",
     "iopub.status.busy": "2022-07-12T06:05:12.430614Z",
     "iopub.status.idle": "2022-07-12T06:05:12.445613Z",
     "shell.execute_reply": "2022-07-12T06:05:12.445164Z"
    },
    "papermill": {
     "duration": 0.043098,
     "end_time": "2022-07-12T06:05:12.446880",
     "exception": false,
     "start_time": "2022-07-12T06:05:12.403782",
     "status": "completed"
    },
    "tags": []
   },
   "outputs": [
    {
     "data": {
      "text/plain": [
       "'ENSG00000183087'"
      ]
     },
     "execution_count": 24,
     "metadata": {},
     "output_type": "execute_result"
    }
   ],
   "source": [
    "multiplier_gene_obj[\"GAS6\"].ensembl_id"
   ]
  },
  {
   "cell_type": "code",
   "execution_count": 25,
   "id": "e3ffabc7",
   "metadata": {
    "execution": {
     "iopub.execute_input": "2022-07-12T06:05:12.462589Z",
     "iopub.status.busy": "2022-07-12T06:05:12.461477Z",
     "iopub.status.idle": "2022-07-12T06:05:14.579290Z",
     "shell.execute_reply": "2022-07-12T06:05:14.578902Z"
    },
    "papermill": {
     "duration": 2.126788,
     "end_time": "2022-07-12T06:05:14.580602",
     "exception": false,
     "start_time": "2022-07-12T06:05:12.453814",
     "status": "completed"
    },
    "tags": []
   },
   "outputs": [],
   "source": [
    "_gene_obj = list(multiplier_gene_obj.values())\n",
    "\n",
    "genes_info = pd.DataFrame(\n",
    "    {\n",
    "        \"name\": [g.name for g in _gene_obj],\n",
    "        \"id\": [g.ensembl_id for g in _gene_obj],\n",
    "        \"chr\": [g.chromosome for g in _gene_obj],\n",
    "        \"band\": [g.band for g in _gene_obj],\n",
    "        \"start_position\": [g.get_attribute(\"start_position\") for g in _gene_obj],\n",
    "    }\n",
    ")"
   ]
  },
  {
   "cell_type": "code",
   "execution_count": 26,
   "id": "e23519b8",
   "metadata": {
    "execution": {
     "iopub.execute_input": "2022-07-12T06:05:14.601385Z",
     "iopub.status.busy": "2022-07-12T06:05:14.601221Z",
     "iopub.status.idle": "2022-07-12T06:05:14.615512Z",
     "shell.execute_reply": "2022-07-12T06:05:14.615121Z"
    },
    "papermill": {
     "duration": 0.02827,
     "end_time": "2022-07-12T06:05:14.616684",
     "exception": false,
     "start_time": "2022-07-12T06:05:14.588414",
     "status": "completed"
    },
    "tags": []
   },
   "outputs": [
    {
     "data": {
      "text/plain": [
       "(6454, 5)"
      ]
     },
     "execution_count": 26,
     "metadata": {},
     "output_type": "execute_result"
    }
   ],
   "source": [
    "genes_info.shape"
   ]
  },
  {
   "cell_type": "code",
   "execution_count": 27,
   "id": "0d71881c",
   "metadata": {
    "execution": {
     "iopub.execute_input": "2022-07-12T06:05:14.631059Z",
     "iopub.status.busy": "2022-07-12T06:05:14.630864Z",
     "iopub.status.idle": "2022-07-12T06:05:14.650115Z",
     "shell.execute_reply": "2022-07-12T06:05:14.649689Z"
    },
    "papermill": {
     "duration": 0.02782,
     "end_time": "2022-07-12T06:05:14.651368",
     "exception": false,
     "start_time": "2022-07-12T06:05:14.623548",
     "status": "completed"
    },
    "tags": []
   },
   "outputs": [
    {
     "data": {
      "text/html": [
       "<div>\n",
       "<style scoped>\n",
       "    .dataframe tbody tr th:only-of-type {\n",
       "        vertical-align: middle;\n",
       "    }\n",
       "\n",
       "    .dataframe tbody tr th {\n",
       "        vertical-align: top;\n",
       "    }\n",
       "\n",
       "    .dataframe thead th {\n",
       "        text-align: right;\n",
       "    }\n",
       "</style>\n",
       "<table border=\"1\" class=\"dataframe\">\n",
       "  <thead>\n",
       "    <tr style=\"text-align: right;\">\n",
       "      <th></th>\n",
       "      <th>name</th>\n",
       "      <th>id</th>\n",
       "      <th>chr</th>\n",
       "      <th>band</th>\n",
       "      <th>start_position</th>\n",
       "    </tr>\n",
       "  </thead>\n",
       "  <tbody>\n",
       "    <tr>\n",
       "      <th>0</th>\n",
       "      <td>GAS6</td>\n",
       "      <td>ENSG00000183087</td>\n",
       "      <td>13</td>\n",
       "      <td>13q34</td>\n",
       "      <td>113820549.0</td>\n",
       "    </tr>\n",
       "    <tr>\n",
       "      <th>1</th>\n",
       "      <td>MMP14</td>\n",
       "      <td>ENSG00000157227</td>\n",
       "      <td>14</td>\n",
       "      <td>14q11.2</td>\n",
       "      <td>22836560.0</td>\n",
       "    </tr>\n",
       "    <tr>\n",
       "      <th>2</th>\n",
       "      <td>DSP</td>\n",
       "      <td>ENSG00000096696</td>\n",
       "      <td>6</td>\n",
       "      <td>6p24.3</td>\n",
       "      <td>7541617.0</td>\n",
       "    </tr>\n",
       "    <tr>\n",
       "      <th>3</th>\n",
       "      <td>MARCKSL1</td>\n",
       "      <td>ENSG00000175130</td>\n",
       "      <td>1</td>\n",
       "      <td>1p35.1</td>\n",
       "      <td>32333839.0</td>\n",
       "    </tr>\n",
       "    <tr>\n",
       "      <th>4</th>\n",
       "      <td>SPARC</td>\n",
       "      <td>ENSG00000113140</td>\n",
       "      <td>5</td>\n",
       "      <td>5q33.1</td>\n",
       "      <td>151661096.0</td>\n",
       "    </tr>\n",
       "  </tbody>\n",
       "</table>\n",
       "</div>"
      ],
      "text/plain": [
       "       name               id chr     band  start_position\n",
       "0      GAS6  ENSG00000183087  13    13q34     113820549.0\n",
       "1     MMP14  ENSG00000157227  14  14q11.2      22836560.0\n",
       "2       DSP  ENSG00000096696   6   6p24.3       7541617.0\n",
       "3  MARCKSL1  ENSG00000175130   1   1p35.1      32333839.0\n",
       "4     SPARC  ENSG00000113140   5   5q33.1     151661096.0"
      ]
     },
     "execution_count": 27,
     "metadata": {},
     "output_type": "execute_result"
    }
   ],
   "source": [
    "genes_info.head()"
   ]
  },
  {
   "cell_type": "markdown",
   "id": "c8d1038f",
   "metadata": {
    "papermill": {
     "duration": 0.00718,
     "end_time": "2022-07-12T06:05:14.666808",
     "exception": false,
     "start_time": "2022-07-12T06:05:14.659628",
     "status": "completed"
    },
    "tags": []
   },
   "source": [
    "# Test"
   ]
  },
  {
   "cell_type": "code",
   "execution_count": 28,
   "id": "64993abf",
   "metadata": {
    "execution": {
     "iopub.execute_input": "2022-07-12T06:05:14.681795Z",
     "iopub.status.busy": "2022-07-12T06:05:14.681593Z",
     "iopub.status.idle": "2022-07-12T06:05:14.704483Z",
     "shell.execute_reply": "2022-07-12T06:05:14.704050Z"
    },
    "papermill": {
     "duration": 0.03166,
     "end_time": "2022-07-12T06:05:14.705654",
     "exception": false,
     "start_time": "2022-07-12T06:05:14.673994",
     "status": "completed"
    },
    "tags": []
   },
   "outputs": [
    {
     "data": {
      "text/html": [
       "<div>\n",
       "<style scoped>\n",
       "    .dataframe tbody tr th:only-of-type {\n",
       "        vertical-align: middle;\n",
       "    }\n",
       "\n",
       "    .dataframe tbody tr th {\n",
       "        vertical-align: top;\n",
       "    }\n",
       "\n",
       "    .dataframe thead th {\n",
       "        text-align: right;\n",
       "    }\n",
       "</style>\n",
       "<table border=\"1\" class=\"dataframe\">\n",
       "  <thead>\n",
       "    <tr style=\"text-align: right;\">\n",
       "      <th></th>\n",
       "      <th>name</th>\n",
       "      <th>id</th>\n",
       "      <th>chr</th>\n",
       "      <th>band</th>\n",
       "      <th>start_position</th>\n",
       "    </tr>\n",
       "  </thead>\n",
       "  <tbody>\n",
       "    <tr>\n",
       "      <th>26</th>\n",
       "      <td>PPIF</td>\n",
       "      <td>ENSG00000108179</td>\n",
       "      <td>10</td>\n",
       "      <td>10q22.3</td>\n",
       "      <td>79347469.0</td>\n",
       "    </tr>\n",
       "    <tr>\n",
       "      <th>33</th>\n",
       "      <td>DLG5</td>\n",
       "      <td>ENSG00000151208</td>\n",
       "      <td>10</td>\n",
       "      <td>10q22.3</td>\n",
       "      <td>77790791.0</td>\n",
       "    </tr>\n",
       "    <tr>\n",
       "      <th>61</th>\n",
       "      <td>PFKFB3</td>\n",
       "      <td>ENSG00000170525</td>\n",
       "      <td>10</td>\n",
       "      <td>10p15.1</td>\n",
       "      <td>6144934.0</td>\n",
       "    </tr>\n",
       "    <tr>\n",
       "      <th>84</th>\n",
       "      <td>INPP5A</td>\n",
       "      <td>ENSG00000068383</td>\n",
       "      <td>10</td>\n",
       "      <td>10q26.3</td>\n",
       "      <td>132537787.0</td>\n",
       "    </tr>\n",
       "    <tr>\n",
       "      <th>88</th>\n",
       "      <td>PAPSS2</td>\n",
       "      <td>ENSG00000198682</td>\n",
       "      <td>10</td>\n",
       "      <td>10q23.2</td>\n",
       "      <td>87659613.0</td>\n",
       "    </tr>\n",
       "    <tr>\n",
       "      <th>...</th>\n",
       "      <td>...</td>\n",
       "      <td>...</td>\n",
       "      <td>...</td>\n",
       "      <td>...</td>\n",
       "      <td>...</td>\n",
       "    </tr>\n",
       "    <tr>\n",
       "      <th>6187</th>\n",
       "      <td>RBM17</td>\n",
       "      <td>ENSG00000134453</td>\n",
       "      <td>10</td>\n",
       "      <td>10p15.1</td>\n",
       "      <td>6089034.0</td>\n",
       "    </tr>\n",
       "    <tr>\n",
       "      <th>6202</th>\n",
       "      <td>TUBGCP2</td>\n",
       "      <td>ENSG00000130640</td>\n",
       "      <td>10</td>\n",
       "      <td>10q26.3</td>\n",
       "      <td>133278630.0</td>\n",
       "    </tr>\n",
       "    <tr>\n",
       "      <th>6381</th>\n",
       "      <td>ABCC2</td>\n",
       "      <td>ENSG00000023839</td>\n",
       "      <td>10</td>\n",
       "      <td>10q24.2</td>\n",
       "      <td>99782640.0</td>\n",
       "    </tr>\n",
       "    <tr>\n",
       "      <th>6382</th>\n",
       "      <td>NMT2</td>\n",
       "      <td>ENSG00000152465</td>\n",
       "      <td>10</td>\n",
       "      <td>10p13</td>\n",
       "      <td>15102584.0</td>\n",
       "    </tr>\n",
       "    <tr>\n",
       "      <th>6412</th>\n",
       "      <td>PLAU</td>\n",
       "      <td>ENSG00000122861</td>\n",
       "      <td>10</td>\n",
       "      <td>10q22.2</td>\n",
       "      <td>73909177.0</td>\n",
       "    </tr>\n",
       "  </tbody>\n",
       "</table>\n",
       "<p>245 rows × 5 columns</p>\n",
       "</div>"
      ],
      "text/plain": [
       "         name               id chr     band  start_position\n",
       "26       PPIF  ENSG00000108179  10  10q22.3      79347469.0\n",
       "33       DLG5  ENSG00000151208  10  10q22.3      77790791.0\n",
       "61     PFKFB3  ENSG00000170525  10  10p15.1       6144934.0\n",
       "84     INPP5A  ENSG00000068383  10  10q26.3     132537787.0\n",
       "88     PAPSS2  ENSG00000198682  10  10q23.2      87659613.0\n",
       "...       ...              ...  ..      ...             ...\n",
       "6187    RBM17  ENSG00000134453  10  10p15.1       6089034.0\n",
       "6202  TUBGCP2  ENSG00000130640  10  10q26.3     133278630.0\n",
       "6381    ABCC2  ENSG00000023839  10  10q24.2      99782640.0\n",
       "6382     NMT2  ENSG00000152465  10    10p13      15102584.0\n",
       "6412     PLAU  ENSG00000122861  10  10q22.2      73909177.0\n",
       "\n",
       "[245 rows x 5 columns]"
      ]
     },
     "metadata": {},
     "output_type": "display_data"
    }
   ],
   "source": [
    "chromosome_genes_info = genes_info[genes_info[\"chr\"] == chromosome]\n",
    "display(chromosome_genes_info)"
   ]
  },
  {
   "cell_type": "code",
   "execution_count": 29,
   "id": "d2e42726-7de6-46eb-acfc-6323eaa8fae6",
   "metadata": {
    "execution": {
     "iopub.execute_input": "2022-07-12T06:05:14.721363Z",
     "iopub.status.busy": "2022-07-12T06:05:14.721164Z",
     "iopub.status.idle": "2022-07-12T06:05:14.738610Z",
     "shell.execute_reply": "2022-07-12T06:05:14.736412Z"
    },
    "papermill": {
     "duration": 0.026612,
     "end_time": "2022-07-12T06:05:14.739939",
     "exception": false,
     "start_time": "2022-07-12T06:05:14.713327",
     "status": "completed"
    },
    "tags": []
   },
   "outputs": [
    {
     "data": {
      "text/plain": [
       "5"
      ]
     },
     "metadata": {},
     "output_type": "display_data"
    }
   ],
   "source": [
    "seed(0)\n",
    "_gene_list_ids = sample(chromosome_genes_info[\"id\"].tolist(), 5)\n",
    "selected_chromosome_genes_obj = [Gene(ensembl_id=g_id) for g_id in _gene_list_ids]\n",
    "display(len(selected_chromosome_genes_obj))"
   ]
  },
  {
   "cell_type": "code",
   "execution_count": 30,
   "id": "1b355359",
   "metadata": {
    "execution": {
     "iopub.execute_input": "2022-07-12T06:05:14.755369Z",
     "iopub.status.busy": "2022-07-12T06:05:14.755208Z",
     "iopub.status.idle": "2022-07-12T06:05:16.088397Z",
     "shell.execute_reply": "2022-07-12T06:05:16.087786Z"
    },
    "papermill": {
     "duration": 1.34219,
     "end_time": "2022-07-12T06:05:16.089631",
     "exception": false,
     "start_time": "2022-07-12T06:05:14.747441",
     "status": "completed"
    },
    "tags": []
   },
   "outputs": [
    {
     "name": "stdout",
     "output_type": "stream",
     "text": [
      "MAP3K8 / PDCD4: 0.0\n",
      "MAP3K8 / PCBD1: 0.0\n",
      "MAP3K8 / BMPR1A: 0.0\n",
      "MAP3K8 / SMNDC1: 0.0\n",
      "PDCD4 / PCBD1: 0.0\n",
      "PDCD4 / BMPR1A: 0.0\n",
      "PDCD4 / SMNDC1: 0.011975798897859033\n",
      "PCBD1 / BMPR1A: 0.0\n",
      "PCBD1 / SMNDC1: 0.0\n",
      "BMPR1A / SMNDC1: 0.0\n"
     ]
    }
   ],
   "source": [
    "for gene_idx1 in range(0, len(selected_chromosome_genes_obj) - 1):\n",
    "    gene_obj1 = selected_chromosome_genes_obj[gene_idx1]\n",
    "\n",
    "    for gene_idx2 in range(gene_idx1 + 1, len(selected_chromosome_genes_obj)):\n",
    "        gene_obj2 = selected_chromosome_genes_obj[gene_idx2]\n",
    "\n",
    "        c = gene_obj1.get_ssm_correlation(\n",
    "            gene_obj2,\n",
    "        )\n",
    "\n",
    "        print(f\"{gene_obj1.name} / {gene_obj2.name}: {c}\")"
   ]
  },
  {
   "cell_type": "markdown",
   "id": "d3843e06",
   "metadata": {
    "papermill": {
     "duration": 0.007547,
     "end_time": "2022-07-12T06:05:16.104694",
     "exception": false,
     "start_time": "2022-07-12T06:05:16.097147",
     "status": "completed"
    },
    "tags": []
   },
   "source": [
    "# Compute correlation per chromosome"
   ]
  },
  {
   "cell_type": "code",
   "execution_count": 31,
   "id": "cb859c15-d1f3-4006-a74c-2b83c0db9611",
   "metadata": {
    "execution": {
     "iopub.execute_input": "2022-07-12T06:05:16.121232Z",
     "iopub.status.busy": "2022-07-12T06:05:16.121032Z",
     "iopub.status.idle": "2022-07-12T06:05:16.137043Z",
     "shell.execute_reply": "2022-07-12T06:05:16.136612Z"
    },
    "papermill": {
     "duration": 0.025455,
     "end_time": "2022-07-12T06:05:16.138213",
     "exception": false,
     "start_time": "2022-07-12T06:05:16.112758",
     "status": "completed"
    },
    "tags": []
   },
   "outputs": [
    {
     "data": {
      "text/plain": [
       "PosixPath('/opt/data/data/phenomexcan/ld_blocks/gene_corrs/1000g/mashr/by_chr/gene_corrs-chr10.pkl')"
      ]
     },
     "metadata": {},
     "output_type": "display_data"
    }
   ],
   "source": [
    "output_dir = OUTPUT_DIR_BASE / \"by_chr\"\n",
    "output_dir.mkdir(exist_ok=True, parents=True)\n",
    "output_file = output_dir / f\"gene_corrs-chr{chromosome}.pkl\"\n",
    "display(output_file)"
   ]
  },
  {
   "cell_type": "code",
   "execution_count": 32,
   "id": "aa674fe4-6794-4eed-98fa-32b39d1d4ace",
   "metadata": {
    "execution": {
     "iopub.execute_input": "2022-07-12T06:05:16.154412Z",
     "iopub.status.busy": "2022-07-12T06:05:16.154187Z",
     "iopub.status.idle": "2022-07-12T06:05:16.168445Z",
     "shell.execute_reply": "2022-07-12T06:05:16.168052Z"
    },
    "papermill": {
     "duration": 0.023714,
     "end_time": "2022-07-12T06:05:16.169694",
     "exception": false,
     "start_time": "2022-07-12T06:05:16.145980",
     "status": "completed"
    },
    "tags": []
   },
   "outputs": [],
   "source": [
    "warnings.filterwarnings(\"error\")"
   ]
  },
  {
   "cell_type": "code",
   "execution_count": 33,
   "id": "cdbb90a1",
   "metadata": {
    "execution": {
     "iopub.execute_input": "2022-07-12T06:05:16.186163Z",
     "iopub.status.busy": "2022-07-12T06:05:16.185858Z",
     "iopub.status.idle": "2022-07-12T06:47:16.546957Z",
     "shell.execute_reply": "2022-07-12T06:47:16.546540Z"
    },
    "papermill": {
     "duration": 2520.370929,
     "end_time": "2022-07-12T06:47:16.548150",
     "exception": false,
     "start_time": "2022-07-12T06:05:16.177221",
     "status": "completed"
    },
    "tags": []
   },
   "outputs": [
    {
     "name": "stdout",
     "output_type": "stream",
     "text": [
      "Number of genes in chromosome: 245\n",
      "Number of gene combinations: 29890\n"
     ]
    },
    {
     "name": "stderr",
     "output_type": "stream",
     "text": [
      "ENSG00000148832 / ENSG00000130649: 100%|██████████████████████| 29890/29890 [42:00<00:00, 11.86it/s]"
     ]
    },
    {
     "name": "stdout",
     "output_type": "stream",
     "text": [
      "Min/max values: 3.572503468990372e-07 / 0.9890639236400698\n"
     ]
    },
    {
     "name": "stderr",
     "output_type": "stream",
     "text": [
      "\n"
     ]
    },
    {
     "data": {
      "text/plain": [
       "PosixPath('/opt/data/data/phenomexcan/ld_blocks/gene_corrs/1000g/mashr/by_chr/gene_corrs-chr10.pkl')"
      ]
     },
     "metadata": {},
     "output_type": "display_data"
    }
   ],
   "source": [
    "# standard checks\n",
    "all_chrs = genes_info[\"chr\"].dropna().unique()\n",
    "assert all_chrs.shape[0] == 22\n",
    "\n",
    "# select chromosome given by the user\n",
    "assert chromosome in all_chrs\n",
    "\n",
    "# run only on the chromosome specified\n",
    "all_chrs = [chromosome]\n",
    "genes_chr = genes_info[genes_info[\"chr\"] == chromosome]\n",
    "\n",
    "# For testing purposes\n",
    "# genes_chr = genes_chr.sample(n=20)\n",
    "\n",
    "print(f\"Number of genes in chromosome: {genes_chr.shape[0]}\", flush=True)\n",
    "\n",
    "# sort genes by starting position to make visualizations better later\n",
    "genes_chr = genes_chr.sort_values(\"start_position\")\n",
    "\n",
    "gene_chr_objs = [Gene(ensembl_id=gene_id) for gene_id in genes_chr[\"id\"]]\n",
    "gene_chr_ids = [g.ensembl_id for g in gene_chr_objs]\n",
    "\n",
    "n = len(gene_chr_objs)\n",
    "n_comb = int(n * (n - 1) / 2.0)\n",
    "print(f\"Number of gene combinations: {n_comb}\", flush=True)\n",
    "\n",
    "gene_corrs = []\n",
    "\n",
    "pbar = tqdm(ncols=100, total=n_comb)\n",
    "i = 0\n",
    "for gene_idx1 in range(0, len(gene_chr_objs) - 1):\n",
    "    gene_obj1 = gene_chr_objs[gene_idx1]\n",
    "\n",
    "    for gene_idx2 in range(gene_idx1 + 1, len(gene_chr_objs)):\n",
    "        gene_obj2 = gene_chr_objs[gene_idx2]\n",
    "\n",
    "        pbar.set_description(f\"{gene_obj1.ensembl_id} / {gene_obj2.ensembl_id}\")\n",
    "\n",
    "        try:\n",
    "            # FIXME: compute the correlation of the sum of squares of the model using all\n",
    "            # the available tissues; this could be problematic because for some results\n",
    "            # (computed on a specific phenotype/GWAS) we might not have all the tissues\n",
    "            # available, which can certainly bias the correlation estimation.\n",
    "            # Since this depends on the GWAS on a specific phenotype, we should ideally have\n",
    "            # one correlation matrix per GWAS. I should look at how we can improve this.\n",
    "            r = gene_obj1.get_ssm_correlation(\n",
    "                other_gene=gene_obj2,\n",
    "                condition_number=SMULTIXCAN_CONDITION_NUMBER,\n",
    "                reference_panel=REFERENCE_PANEL,\n",
    "                model_type=EQTL_MODEL,\n",
    "                use_within_distance=COMPUTE_CORRELATIONS_WITHIN_DISTANCE,\n",
    "            )\n",
    "\n",
    "            if r is None:\n",
    "                # if r is None, it's very likely because:\n",
    "                #  * one of the genes has no prediction models\n",
    "                #  * all the SNPs predictors for the gene are not present in the reference\n",
    "                #    panel\n",
    "\n",
    "                r = 0.0\n",
    "\n",
    "            gene_corrs.append(r)\n",
    "        except Warning:\n",
    "            print(\n",
    "                f\"RuntimeWarning for genes {gene_obj1.ensembl_id} and {gene_obj2.ensembl_id}\",\n",
    "                flush=True,\n",
    "            )\n",
    "            import traceback\n",
    "\n",
    "            print(traceback.format_exc(), flush=True)\n",
    "        except Exception as e:\n",
    "            print(\n",
    "                f\"Exception for genes {gene_obj1.ensembl_id} and {gene_obj2.ensembl_id}\",\n",
    "                flush=True,\n",
    "            )\n",
    "            import traceback\n",
    "\n",
    "            print(traceback.format_exc(), flush=True)\n",
    "            gene_corrs.append(np.nan)\n",
    "\n",
    "        pbar.update(1)\n",
    "\n",
    "pbar.close()\n",
    "\n",
    "# testing\n",
    "gene_corrs_flat = pd.Series(gene_corrs)\n",
    "print(f\"Min/max values: {gene_corrs_flat.min()} / {gene_corrs_flat.max()}\")\n",
    "assert gene_corrs_flat.min() >= -1.001\n",
    "assert gene_corrs_flat.max() <= 1.001\n",
    "\n",
    "# save\n",
    "# FIXME: consider saving only the condenced matrix here. See here for\n",
    "# more details: https://github.com/greenelab/phenoplier/pull/38#discussion_r634600813\n",
    "gene_corrs_data = squareform(np.array(gene_corrs, dtype=np.float64))\n",
    "np.fill_diagonal(gene_corrs_data, 1.0)\n",
    "\n",
    "gene_corrs_df = pd.DataFrame(\n",
    "    data=gene_corrs_data,\n",
    "    index=gene_chr_ids,\n",
    "    columns=gene_chr_ids,\n",
    ")\n",
    "\n",
    "output_dir.mkdir(exist_ok=True, parents=True)\n",
    "display(output_file)\n",
    "\n",
    "gene_corrs_df.to_pickle(output_file)"
   ]
  },
  {
   "cell_type": "markdown",
   "id": "faa67b51-5373-470f-aa72-2ded53fa6dfe",
   "metadata": {
    "papermill": {
     "duration": 1.667883,
     "end_time": "2022-07-12T06:47:19.833212",
     "exception": false,
     "start_time": "2022-07-12T06:47:18.165329",
     "status": "completed"
    },
    "tags": []
   },
   "source": [
    "# Testing"
   ]
  },
  {
   "cell_type": "code",
   "execution_count": 34,
   "id": "14f7d046-4b55-4896-a56b-990127bcc388",
   "metadata": {
    "execution": {
     "iopub.execute_input": "2022-07-12T06:47:23.191182Z",
     "iopub.status.busy": "2022-07-12T06:47:23.190929Z",
     "iopub.status.idle": "2022-07-12T06:47:23.207428Z",
     "shell.execute_reply": "2022-07-12T06:47:23.206905Z"
    },
    "papermill": {
     "duration": 1.723031,
     "end_time": "2022-07-12T06:47:23.208553",
     "exception": false,
     "start_time": "2022-07-12T06:47:21.485522",
     "status": "completed"
    },
    "tags": []
   },
   "outputs": [
    {
     "data": {
      "text/plain": [
       "(245, 245)"
      ]
     },
     "execution_count": 34,
     "metadata": {},
     "output_type": "execute_result"
    }
   ],
   "source": [
    "gene_corrs_df.shape"
   ]
  },
  {
   "cell_type": "code",
   "execution_count": 35,
   "id": "c7d15414-3297-4537-a7c6-7588c0baeb75",
   "metadata": {
    "execution": {
     "iopub.execute_input": "2022-07-12T06:47:26.487819Z",
     "iopub.status.busy": "2022-07-12T06:47:26.487557Z",
     "iopub.status.idle": "2022-07-12T06:47:26.515886Z",
     "shell.execute_reply": "2022-07-12T06:47:26.515495Z"
    },
    "papermill": {
     "duration": 1.651812,
     "end_time": "2022-07-12T06:47:26.517171",
     "exception": false,
     "start_time": "2022-07-12T06:47:24.865359",
     "status": "completed"
    },
    "tags": []
   },
   "outputs": [
    {
     "data": {
      "text/html": [
       "<div>\n",
       "<style scoped>\n",
       "    .dataframe tbody tr th:only-of-type {\n",
       "        vertical-align: middle;\n",
       "    }\n",
       "\n",
       "    .dataframe tbody tr th {\n",
       "        vertical-align: top;\n",
       "    }\n",
       "\n",
       "    .dataframe thead th {\n",
       "        text-align: right;\n",
       "    }\n",
       "</style>\n",
       "<table border=\"1\" class=\"dataframe\">\n",
       "  <thead>\n",
       "    <tr style=\"text-align: right;\">\n",
       "      <th></th>\n",
       "      <th>ENSG00000261456</th>\n",
       "      <th>ENSG00000148377</th>\n",
       "      <th>ENSG00000067064</th>\n",
       "      <th>ENSG00000067057</th>\n",
       "      <th>ENSG00000067082</th>\n",
       "      <th>ENSG00000187134</th>\n",
       "      <th>ENSG00000151632</th>\n",
       "      <th>ENSG00000196139</th>\n",
       "      <th>ENSG00000173848</th>\n",
       "      <th>ENSG00000196372</th>\n",
       "      <th>...</th>\n",
       "      <th>ENSG00000148773</th>\n",
       "      <th>ENSG00000170430</th>\n",
       "      <th>ENSG00000175470</th>\n",
       "      <th>ENSG00000176171</th>\n",
       "      <th>ENSG00000151640</th>\n",
       "      <th>ENSG00000068383</th>\n",
       "      <th>ENSG00000130640</th>\n",
       "      <th>ENSG00000127884</th>\n",
       "      <th>ENSG00000148832</th>\n",
       "      <th>ENSG00000130649</th>\n",
       "    </tr>\n",
       "  </thead>\n",
       "  <tbody>\n",
       "    <tr>\n",
       "      <th>ENSG00000261456</th>\n",
       "      <td>1.000000</td>\n",
       "      <td>0.009276</td>\n",
       "      <td>0.011251</td>\n",
       "      <td>0.018050</td>\n",
       "      <td>0.007918</td>\n",
       "      <td>0.008961</td>\n",
       "      <td>0.011278</td>\n",
       "      <td>0.011212</td>\n",
       "      <td>0.009100</td>\n",
       "      <td>0.020101</td>\n",
       "      <td>...</td>\n",
       "      <td>0.010152</td>\n",
       "      <td>0.005868</td>\n",
       "      <td>0.007588</td>\n",
       "      <td>0.012484</td>\n",
       "      <td>0.007523</td>\n",
       "      <td>0.008147</td>\n",
       "      <td>0.014677</td>\n",
       "      <td>0.006019</td>\n",
       "      <td>0.008514</td>\n",
       "      <td>0.007687</td>\n",
       "    </tr>\n",
       "    <tr>\n",
       "      <th>ENSG00000148377</th>\n",
       "      <td>0.009276</td>\n",
       "      <td>1.000000</td>\n",
       "      <td>0.082265</td>\n",
       "      <td>0.008849</td>\n",
       "      <td>0.002638</td>\n",
       "      <td>0.005402</td>\n",
       "      <td>0.002854</td>\n",
       "      <td>0.006662</td>\n",
       "      <td>0.003950</td>\n",
       "      <td>0.006822</td>\n",
       "      <td>...</td>\n",
       "      <td>0.001948</td>\n",
       "      <td>0.004004</td>\n",
       "      <td>0.004415</td>\n",
       "      <td>0.002538</td>\n",
       "      <td>0.005284</td>\n",
       "      <td>0.004551</td>\n",
       "      <td>0.009475</td>\n",
       "      <td>0.001292</td>\n",
       "      <td>0.001342</td>\n",
       "      <td>0.002738</td>\n",
       "    </tr>\n",
       "    <tr>\n",
       "      <th>ENSG00000067064</th>\n",
       "      <td>0.011251</td>\n",
       "      <td>0.082265</td>\n",
       "      <td>1.000000</td>\n",
       "      <td>0.014118</td>\n",
       "      <td>0.010838</td>\n",
       "      <td>0.010339</td>\n",
       "      <td>0.019729</td>\n",
       "      <td>0.015975</td>\n",
       "      <td>0.013213</td>\n",
       "      <td>0.013264</td>\n",
       "      <td>...</td>\n",
       "      <td>0.010608</td>\n",
       "      <td>0.007741</td>\n",
       "      <td>0.012950</td>\n",
       "      <td>0.008105</td>\n",
       "      <td>0.010058</td>\n",
       "      <td>0.018294</td>\n",
       "      <td>0.017131</td>\n",
       "      <td>0.021504</td>\n",
       "      <td>0.020720</td>\n",
       "      <td>0.009231</td>\n",
       "    </tr>\n",
       "    <tr>\n",
       "      <th>ENSG00000067057</th>\n",
       "      <td>0.018050</td>\n",
       "      <td>0.008849</td>\n",
       "      <td>0.014118</td>\n",
       "      <td>1.000000</td>\n",
       "      <td>0.012992</td>\n",
       "      <td>0.020653</td>\n",
       "      <td>0.026357</td>\n",
       "      <td>0.026792</td>\n",
       "      <td>0.014648</td>\n",
       "      <td>0.026515</td>\n",
       "      <td>...</td>\n",
       "      <td>0.016340</td>\n",
       "      <td>0.008307</td>\n",
       "      <td>0.023652</td>\n",
       "      <td>0.018932</td>\n",
       "      <td>0.012589</td>\n",
       "      <td>0.020674</td>\n",
       "      <td>0.021889</td>\n",
       "      <td>0.013410</td>\n",
       "      <td>0.016956</td>\n",
       "      <td>0.012558</td>\n",
       "    </tr>\n",
       "    <tr>\n",
       "      <th>ENSG00000067082</th>\n",
       "      <td>0.007918</td>\n",
       "      <td>0.002638</td>\n",
       "      <td>0.010838</td>\n",
       "      <td>0.012992</td>\n",
       "      <td>1.000000</td>\n",
       "      <td>0.019430</td>\n",
       "      <td>0.016258</td>\n",
       "      <td>0.012085</td>\n",
       "      <td>0.015885</td>\n",
       "      <td>0.017250</td>\n",
       "      <td>...</td>\n",
       "      <td>0.013997</td>\n",
       "      <td>0.012025</td>\n",
       "      <td>0.006131</td>\n",
       "      <td>0.007410</td>\n",
       "      <td>0.012551</td>\n",
       "      <td>0.013883</td>\n",
       "      <td>0.009349</td>\n",
       "      <td>0.005773</td>\n",
       "      <td>0.010563</td>\n",
       "      <td>0.009960</td>\n",
       "    </tr>\n",
       "  </tbody>\n",
       "</table>\n",
       "<p>5 rows × 245 columns</p>\n",
       "</div>"
      ],
      "text/plain": [
       "                 ENSG00000261456  ENSG00000148377  ENSG00000067064  \\\n",
       "ENSG00000261456         1.000000         0.009276         0.011251   \n",
       "ENSG00000148377         0.009276         1.000000         0.082265   \n",
       "ENSG00000067064         0.011251         0.082265         1.000000   \n",
       "ENSG00000067057         0.018050         0.008849         0.014118   \n",
       "ENSG00000067082         0.007918         0.002638         0.010838   \n",
       "\n",
       "                 ENSG00000067057  ENSG00000067082  ENSG00000187134  \\\n",
       "ENSG00000261456         0.018050         0.007918         0.008961   \n",
       "ENSG00000148377         0.008849         0.002638         0.005402   \n",
       "ENSG00000067064         0.014118         0.010838         0.010339   \n",
       "ENSG00000067057         1.000000         0.012992         0.020653   \n",
       "ENSG00000067082         0.012992         1.000000         0.019430   \n",
       "\n",
       "                 ENSG00000151632  ENSG00000196139  ENSG00000173848  \\\n",
       "ENSG00000261456         0.011278         0.011212         0.009100   \n",
       "ENSG00000148377         0.002854         0.006662         0.003950   \n",
       "ENSG00000067064         0.019729         0.015975         0.013213   \n",
       "ENSG00000067057         0.026357         0.026792         0.014648   \n",
       "ENSG00000067082         0.016258         0.012085         0.015885   \n",
       "\n",
       "                 ENSG00000196372  ...  ENSG00000148773  ENSG00000170430  \\\n",
       "ENSG00000261456         0.020101  ...         0.010152         0.005868   \n",
       "ENSG00000148377         0.006822  ...         0.001948         0.004004   \n",
       "ENSG00000067064         0.013264  ...         0.010608         0.007741   \n",
       "ENSG00000067057         0.026515  ...         0.016340         0.008307   \n",
       "ENSG00000067082         0.017250  ...         0.013997         0.012025   \n",
       "\n",
       "                 ENSG00000175470  ENSG00000176171  ENSG00000151640  \\\n",
       "ENSG00000261456         0.007588         0.012484         0.007523   \n",
       "ENSG00000148377         0.004415         0.002538         0.005284   \n",
       "ENSG00000067064         0.012950         0.008105         0.010058   \n",
       "ENSG00000067057         0.023652         0.018932         0.012589   \n",
       "ENSG00000067082         0.006131         0.007410         0.012551   \n",
       "\n",
       "                 ENSG00000068383  ENSG00000130640  ENSG00000127884  \\\n",
       "ENSG00000261456         0.008147         0.014677         0.006019   \n",
       "ENSG00000148377         0.004551         0.009475         0.001292   \n",
       "ENSG00000067064         0.018294         0.017131         0.021504   \n",
       "ENSG00000067057         0.020674         0.021889         0.013410   \n",
       "ENSG00000067082         0.013883         0.009349         0.005773   \n",
       "\n",
       "                 ENSG00000148832  ENSG00000130649  \n",
       "ENSG00000261456         0.008514         0.007687  \n",
       "ENSG00000148377         0.001342         0.002738  \n",
       "ENSG00000067064         0.020720         0.009231  \n",
       "ENSG00000067057         0.016956         0.012558  \n",
       "ENSG00000067082         0.010563         0.009960  \n",
       "\n",
       "[5 rows x 245 columns]"
      ]
     },
     "execution_count": 35,
     "metadata": {},
     "output_type": "execute_result"
    }
   ],
   "source": [
    "gene_corrs_df.head()"
   ]
  },
  {
   "cell_type": "code",
   "execution_count": 36,
   "id": "286686af-1b7b-4440-8453-6bdcbd8de19c",
   "metadata": {
    "execution": {
     "iopub.execute_input": "2022-07-12T06:47:29.886470Z",
     "iopub.status.busy": "2022-07-12T06:47:29.886314Z",
     "iopub.status.idle": "2022-07-12T06:47:29.902035Z",
     "shell.execute_reply": "2022-07-12T06:47:29.901649Z"
    },
    "papermill": {
     "duration": 1.65128,
     "end_time": "2022-07-12T06:47:29.903304",
     "exception": false,
     "start_time": "2022-07-12T06:47:28.252024",
     "status": "completed"
    },
    "tags": []
   },
   "outputs": [],
   "source": [
    "assert not gene_corrs_df.isna().any().any()"
   ]
  },
  {
   "cell_type": "code",
   "execution_count": 37,
   "id": "00583efc-7068-4270-ad1e-4a418e91db96",
   "metadata": {
    "execution": {
     "iopub.execute_input": "2022-07-12T06:47:33.148179Z",
     "iopub.status.busy": "2022-07-12T06:47:33.148016Z",
     "iopub.status.idle": "2022-07-12T06:47:33.166531Z",
     "shell.execute_reply": "2022-07-12T06:47:33.165427Z"
    },
    "papermill": {
     "duration": 1.661954,
     "end_time": "2022-07-12T06:47:33.167944",
     "exception": false,
     "start_time": "2022-07-12T06:47:31.505990",
     "status": "completed"
    },
    "tags": []
   },
   "outputs": [
    {
     "data": {
      "text/plain": [
       "3.572503468990372e-07"
      ]
     },
     "metadata": {},
     "output_type": "display_data"
    }
   ],
   "source": [
    "_min_val = gene_corrs_df.min().min()\n",
    "display(_min_val)\n",
    "assert _min_val >= 0.0"
   ]
  },
  {
   "cell_type": "code",
   "execution_count": 38,
   "id": "d04fb2cf-1050-475b-b855-f5f7cc04092b",
   "metadata": {
    "execution": {
     "iopub.execute_input": "2022-07-12T06:47:36.508659Z",
     "iopub.status.busy": "2022-07-12T06:47:36.508217Z",
     "iopub.status.idle": "2022-07-12T06:47:36.525343Z",
     "shell.execute_reply": "2022-07-12T06:47:36.524910Z"
    },
    "papermill": {
     "duration": 1.688243,
     "end_time": "2022-07-12T06:47:36.526573",
     "exception": false,
     "start_time": "2022-07-12T06:47:34.838330",
     "status": "completed"
    },
    "tags": []
   },
   "outputs": [
    {
     "data": {
      "text/plain": [
       "1.0"
      ]
     },
     "metadata": {},
     "output_type": "display_data"
    }
   ],
   "source": [
    "_max_val = gene_corrs_df.max().max()  # this captures the diagonal\n",
    "display(_max_val)\n",
    "assert _max_val <= 1.0"
   ]
  },
  {
   "cell_type": "code",
   "execution_count": 39,
   "id": "96d02c44-1fba-47be-8a93-8f2608420b9c",
   "metadata": {
    "execution": {
     "iopub.execute_input": "2022-07-12T06:47:39.892151Z",
     "iopub.status.busy": "2022-07-12T06:47:39.891942Z",
     "iopub.status.idle": "2022-07-12T06:47:39.906747Z",
     "shell.execute_reply": "2022-07-12T06:47:39.906364Z"
    },
    "papermill": {
     "duration": 1.678685,
     "end_time": "2022-07-12T06:47:39.908174",
     "exception": false,
     "start_time": "2022-07-12T06:47:38.229489",
     "status": "completed"
    },
    "tags": []
   },
   "outputs": [],
   "source": [
    "# check upper triangular values\n",
    "assert len(gene_corrs) == int(genes_chr.shape[0] * (genes_chr.shape[0] - 1) / 2)"
   ]
  },
  {
   "cell_type": "code",
   "execution_count": 40,
   "id": "aaa51627-f4e3-4744-a41f-7d25adcc0a78",
   "metadata": {
    "execution": {
     "iopub.execute_input": "2022-07-12T06:47:43.210171Z",
     "iopub.status.busy": "2022-07-12T06:47:43.209949Z",
     "iopub.status.idle": "2022-07-12T06:47:43.234472Z",
     "shell.execute_reply": "2022-07-12T06:47:43.234058Z"
    },
    "papermill": {
     "duration": 1.57392,
     "end_time": "2022-07-12T06:47:43.235838",
     "exception": false,
     "start_time": "2022-07-12T06:47:41.661918",
     "status": "completed"
    },
    "tags": []
   },
   "outputs": [],
   "source": [
    "gene_corrs = pd.Series(gene_corrs)"
   ]
  },
  {
   "cell_type": "code",
   "execution_count": 41,
   "id": "fe283586-c348-40e0-8841-f6d97bfb021c",
   "metadata": {
    "execution": {
     "iopub.execute_input": "2022-07-12T06:47:46.425651Z",
     "iopub.status.busy": "2022-07-12T06:47:46.425453Z",
     "iopub.status.idle": "2022-07-12T06:47:46.445854Z",
     "shell.execute_reply": "2022-07-12T06:47:46.445393Z"
    },
    "papermill": {
     "duration": 1.626091,
     "end_time": "2022-07-12T06:47:46.447145",
     "exception": false,
     "start_time": "2022-07-12T06:47:44.821054",
     "status": "completed"
    },
    "tags": []
   },
   "outputs": [
    {
     "data": {
      "text/plain": [
       "count    2.989000e+04\n",
       "mean     1.105624e-02\n",
       "std      2.880773e-02\n",
       "min      3.572503e-07\n",
       "25%      5.823387e-03\n",
       "50%      8.776807e-03\n",
       "75%      1.213418e-02\n",
       "max      9.890639e-01\n",
       "dtype: float64"
      ]
     },
     "execution_count": 41,
     "metadata": {},
     "output_type": "execute_result"
    }
   ],
   "source": [
    "gene_corrs.describe()"
   ]
  },
  {
   "cell_type": "code",
   "execution_count": 42,
   "id": "b3815678-0f93-4b35-897b-a9d047a2aa78",
   "metadata": {
    "execution": {
     "iopub.execute_input": "2022-07-12T06:47:49.742995Z",
     "iopub.status.busy": "2022-07-12T06:47:49.742564Z",
     "iopub.status.idle": "2022-07-12T06:47:49.763564Z",
     "shell.execute_reply": "2022-07-12T06:47:49.762951Z"
    },
    "papermill": {
     "duration": 1.628648,
     "end_time": "2022-07-12T06:47:49.764981",
     "exception": false,
     "start_time": "2022-07-12T06:47:48.136333",
     "status": "completed"
    },
    "tags": []
   },
   "outputs": [
    {
     "data": {
      "text/plain": [
       "0.00    3.572503e-07\n",
       "0.05    2.282647e-03\n",
       "0.10    3.481673e-03\n",
       "0.15    4.370714e-03\n",
       "0.20    5.151313e-03\n",
       "0.25    5.823387e-03\n",
       "0.30    6.411909e-03\n",
       "0.35    7.023819e-03\n",
       "0.40    7.627643e-03\n",
       "0.45    8.216394e-03\n",
       "0.50    8.776807e-03\n",
       "0.55    9.388431e-03\n",
       "0.60    1.002057e-02\n",
       "0.65    1.067415e-02\n",
       "0.70    1.137854e-02\n",
       "0.75    1.213418e-02\n",
       "0.80    1.301907e-02\n",
       "0.85    1.416077e-02\n",
       "0.90    1.553322e-02\n",
       "0.95    1.787825e-02\n",
       "dtype: float64"
      ]
     },
     "metadata": {},
     "output_type": "display_data"
    }
   ],
   "source": [
    "gene_corrs_quantiles = gene_corrs.quantile(np.arange(0, 1, 0.05))\n",
    "display(gene_corrs_quantiles)"
   ]
  },
  {
   "cell_type": "markdown",
   "id": "8e60a080-edb2-4e9c-b2ef-22961693200c",
   "metadata": {
    "papermill": {
     "duration": 1.649719,
     "end_time": "2022-07-12T06:47:53.146599",
     "exception": false,
     "start_time": "2022-07-12T06:47:51.496880",
     "status": "completed"
    },
    "tags": []
   },
   "source": [
    "## Plot: distribution"
   ]
  },
  {
   "cell_type": "code",
   "execution_count": 43,
   "id": "8301126b-a7d4-4744-9c7d-f0f86eb6f54c",
   "metadata": {
    "execution": {
     "iopub.execute_input": "2022-07-12T06:47:56.355420Z",
     "iopub.status.busy": "2022-07-12T06:47:56.355224Z",
     "iopub.status.idle": "2022-07-12T06:48:01.526867Z",
     "shell.execute_reply": "2022-07-12T06:48:01.526398Z"
    },
    "papermill": {
     "duration": 6.763923,
     "end_time": "2022-07-12T06:48:01.532775",
     "exception": false,
     "start_time": "2022-07-12T06:47:54.768852",
     "status": "completed"
    },
    "tags": []
   },
   "outputs": [
    {
     "data": {
      "image/png": "[encoded data removed]",
      "text/plain": [
       "<Figure size 504x504 with 1 Axes>"
      ]
     },
     "metadata": {
      "needs_background": "light"
     },
     "output_type": "display_data"
    }
   ],
   "source": [
    "with sns.plotting_context(\"paper\", font_scale=1.5):\n",
    "    g = sns.displot(gene_corrs, kde=True, height=7)\n",
    "    g.ax.set_title(\n",
    "        f\"Distribution of gene correlation values in chromosome {chromosome}\"\n",
    "    )"
   ]
  },
  {
   "cell_type": "markdown",
   "id": "cbd52bca-d878-4a2f-b684-5c83aa3038d4",
   "metadata": {
    "papermill": {
     "duration": 1.677437,
     "end_time": "2022-07-12T06:48:04.900978",
     "exception": false,
     "start_time": "2022-07-12T06:48:03.223541",
     "status": "completed"
    },
    "tags": []
   },
   "source": [
    "## Plot: heatmap"
   ]
  },
  {
   "cell_type": "code",
   "execution_count": 44,
   "id": "d03fe63a-c7b2-4fb9-a53c-db362ce843c9",
   "metadata": {
    "execution": {
     "iopub.execute_input": "2022-07-12T06:48:08.140511Z",
     "iopub.status.busy": "2022-07-12T06:48:08.140241Z",
     "iopub.status.idle": "2022-07-12T06:48:08.157143Z",
     "shell.execute_reply": "2022-07-12T06:48:08.156684Z"
    },
    "papermill": {
     "duration": 1.626928,
     "end_time": "2022-07-12T06:48:08.158406",
     "exception": false,
     "start_time": "2022-07-12T06:48:06.531478",
     "status": "completed"
    },
    "tags": []
   },
   "outputs": [
    {
     "data": {
      "text/plain": [
       "'-0.05 / 0.05'"
      ]
     },
     "metadata": {},
     "output_type": "display_data"
    }
   ],
   "source": [
    "vmin_val = min(-0.05, gene_corrs_quantiles[0.10])\n",
    "vmax_val = max(0.05, gene_corrs_quantiles[0.90])\n",
    "display(f\"{vmin_val} / {vmax_val}\")"
   ]
  },
  {
   "cell_type": "code",
   "execution_count": 45,
   "id": "dc41b70b-5bcc-4d9e-9f33-a22c4a94dab5",
   "metadata": {
    "execution": {
     "iopub.execute_input": "2022-07-12T06:48:11.339668Z",
     "iopub.status.busy": "2022-07-12T06:48:11.339220Z",
     "iopub.status.idle": "2022-07-12T06:48:11.550269Z",
     "shell.execute_reply": "2022-07-12T06:48:11.549835Z"
    },
    "papermill": {
     "duration": 1.844233,
     "end_time": "2022-07-12T06:48:11.552537",
     "exception": false,
     "start_time": "2022-07-12T06:48:09.708304",
     "status": "completed"
    },
    "tags": []
   },
   "outputs": [
    {
     "data": {
      "text/plain": [
       "Text(0.5, 1.0, 'Gene correlations in chromosome 10')"
      ]
     },
     "execution_count": 45,
     "metadata": {},
     "output_type": "execute_result"
    },
    {
     "data": {
      "image/png": "[encoded data removed]",
      "text/plain": [
       "<Figure size 720x720 with 2 Axes>"
      ]
     },
     "metadata": {
      "needs_background": "light"
     },
     "output_type": "display_data"
    }
   ],
   "source": [
    "f, ax = plt.subplots(figsize=(10, 10))\n",
    "sns.heatmap(\n",
    "    gene_corrs_df,\n",
    "    xticklabels=False,\n",
    "    yticklabels=False,\n",
    "    square=True,\n",
    "    vmin=vmin_val,\n",
    "    vmax=vmax_val,\n",
    "    cmap=\"YlGnBu\",\n",
    "    ax=ax,\n",
    ")\n",
    "ax.set_title(f\"Gene correlations in chromosome {chromosome}\")"
   ]
  },
  {
   "cell_type": "code",
   "execution_count": null,
   "id": "b25e3ead",
   "metadata": {
    "papermill": {
     "duration": 1.692566,
     "end_time": "2022-07-12T06:48:14.881646",
     "exception": false,
     "start_time": "2022-07-12T06:48:13.189080",
     "status": "completed"
    },
    "tags": []
   },
   "outputs": [],
   "source": []
  }
 ],
 "metadata": {
  "jupytext": {
   "cell_metadata_filter": "all,-execution,-papermill,-trusted",
   "formats": "ipynb,py//py:percent"
  },
  "kernelspec": {
   "display_name": "Python 3 (ipykernel)",
   "language": "python",
   "name": "python3"
  },
  "language_info": {
   "codemirror_mode": {
    "name": "ipython",
    "version": 3
   },
   "file_extension": ".py",
   "mimetype": "text/x-python",
   "name": "python",
   "nbconvert_exporter": "python",
   "pygments_lexer": "ipython3",
   "version": "3.8.13"
  },
  "papermill": {
   "default_parameters": {},
   "duration": 2590.364568,
   "end_time": "2022-07-12T06:48:19.865187",
   "environment_variables": {},
   "exception": null,
   "input_path": "nbs/15_gsa_gls/10-gene_expr_correlations.ipynb",
   "output_path": "nbs/15_gsa_gls/gene_corrs/1000g/mashr/10-gene_expr_correlations-chr10.run.ipynb",
   "parameters": {
    "EQTL_MODEL": "MASHR",
    "REFERENCE_PANEL": "1000G",
    "chromosome": 10
   },
   "start_time": "2022-07-12T06:05:09.500619",
   "version": "2.2.2"
  }
 },
 "nbformat": 4,
 "nbformat_minor": 5
}
