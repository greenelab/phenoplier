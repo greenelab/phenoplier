{
 "cells": [
  {
   "cell_type": "markdown",
   "id": "7a6632fb",
   "metadata": {
    "papermill": {
     "duration": 0.007173,
     "end_time": "2022-07-12T09:58:00.750165",
     "exception": false,
     "start_time": "2022-07-12T09:58:00.742992",
     "status": "completed"
    },
    "tags": []
   },
   "source": [
    "# Description"
   ]
  },
  {
   "cell_type": "markdown",
   "id": "7097c346",
   "metadata": {
    "papermill": {
     "duration": 0.005889,
     "end_time": "2022-07-12T09:58:00.767775",
     "exception": false,
     "start_time": "2022-07-12T09:58:00.761886",
     "status": "completed"
    },
    "tags": []
   },
   "source": [
    "(Please, take a look at the README.md file in this directory for instructions on how to run this notebook)\n",
    "\n",
    "This notebook computes predicted expression correlations between all genes in the MultiPLIER models.\n",
    "\n",
    "It also has a parameter set for papermill to run on a single chromosome to run in parallel (see under `Settings` below).\n",
    "\n",
    "This notebook is not directly run. See README.md."
   ]
  },
  {
   "cell_type": "markdown",
   "id": "c61d8427",
   "metadata": {
    "papermill": {
     "duration": 0.005324,
     "end_time": "2022-07-12T09:58:00.778867",
     "exception": false,
     "start_time": "2022-07-12T09:58:00.773543",
     "status": "completed"
    },
    "tags": []
   },
   "source": [
    "# Modules"
   ]
  },
  {
   "cell_type": "code",
   "execution_count": 1,
   "id": "bbc0234f",
   "metadata": {
    "execution": {
     "iopub.execute_input": "2022-07-12T09:58:00.791126Z",
     "iopub.status.busy": "2022-07-12T09:58:00.790749Z",
     "iopub.status.idle": "2022-07-12T09:58:00.804712Z",
     "shell.execute_reply": "2022-07-12T09:58:00.804233Z"
    },
    "papermill": {
     "duration": 0.021827,
     "end_time": "2022-07-12T09:58:00.806023",
     "exception": false,
     "start_time": "2022-07-12T09:58:00.784196",
     "status": "completed"
    },
    "tags": []
   },
   "outputs": [],
   "source": [
    "%load_ext autoreload\n",
    "%autoreload 2"
   ]
  },
  {
   "cell_type": "code",
   "execution_count": 2,
   "id": "1d5f5a59",
   "metadata": {
    "execution": {
     "iopub.execute_input": "2022-07-12T09:58:00.845295Z",
     "iopub.status.busy": "2022-07-12T09:58:00.844966Z",
     "iopub.status.idle": "2022-07-12T09:58:01.704512Z",
     "shell.execute_reply": "2022-07-12T09:58:01.703952Z"
    },
    "papermill": {
     "duration": 0.867975,
     "end_time": "2022-07-12T09:58:01.705779",
     "exception": false,
     "start_time": "2022-07-12T09:58:00.837804",
     "status": "completed"
    },
    "tags": []
   },
   "outputs": [],
   "source": [
    "from random import sample, seed\n",
    "import warnings\n",
    "from pathlib import Path\n",
    "\n",
    "import numpy as np\n",
    "from scipy.spatial.distance import squareform\n",
    "import pandas as pd\n",
    "from tqdm import tqdm\n",
    "import matplotlib.pyplot as plt\n",
    "import seaborn as sns\n",
    "\n",
    "import conf\n",
    "from entity import Gene"
   ]
  },
  {
   "cell_type": "markdown",
   "id": "1eac24b5",
   "metadata": {
    "papermill": {
     "duration": 0.005326,
     "end_time": "2022-07-12T09:58:01.716727",
     "exception": false,
     "start_time": "2022-07-12T09:58:01.711401",
     "status": "completed"
    },
    "tags": []
   },
   "source": [
    "# Settings"
   ]
  },
  {
   "cell_type": "code",
   "execution_count": 3,
   "id": "ca4560ba",
   "metadata": {
    "execution": {
     "iopub.execute_input": "2022-07-12T09:58:01.728719Z",
     "iopub.status.busy": "2022-07-12T09:58:01.728164Z",
     "iopub.status.idle": "2022-07-12T09:58:01.742486Z",
     "shell.execute_reply": "2022-07-12T09:58:01.742037Z"
    },
    "papermill": {
     "duration": 0.021792,
     "end_time": "2022-07-12T09:58:01.743848",
     "exception": false,
     "start_time": "2022-07-12T09:58:01.722056",
     "status": "completed"
    },
    "tags": [
     "parameters"
    ]
   },
   "outputs": [],
   "source": [
    "# reference panel\n",
    "REFERENCE_PANEL = \"GTEX_V8\"\n",
    "# REFERENCE_PANEL = \"1000G\"\n",
    "\n",
    "# prediction models\n",
    "## mashr\n",
    "EQTL_MODEL = \"MASHR\"\n",
    "\n",
    "# this is the default value used in S-MultiXcan to select the\n",
    "# top principal components of the expression correlation matrix\n",
    "SMULTIXCAN_CONDITION_NUMBER = 30\n",
    "\n",
    "# specifies a single chromosome value\n",
    "# by default, run on all chromosomes\n",
    "chromosome = None"
   ]
  },
  {
   "cell_type": "code",
   "execution_count": 4,
   "id": "413d2918",
   "metadata": {
    "execution": {
     "iopub.execute_input": "2022-07-12T09:58:01.756685Z",
     "iopub.status.busy": "2022-07-12T09:58:01.756492Z",
     "iopub.status.idle": "2022-07-12T09:58:01.771070Z",
     "shell.execute_reply": "2022-07-12T09:58:01.770689Z"
    },
    "papermill": {
     "duration": 0.022359,
     "end_time": "2022-07-12T09:58:01.772358",
     "exception": false,
     "start_time": "2022-07-12T09:58:01.749999",
     "status": "completed"
    },
    "tags": [
     "injected-parameters"
    ]
   },
   "outputs": [],
   "source": [
    "# Parameters\n",
    "chromosome = 21\n",
    "REFERENCE_PANEL = \"1000G\"\n",
    "EQTL_MODEL = \"MASHR\"\n"
   ]
  },
  {
   "cell_type": "code",
   "execution_count": 5,
   "id": "a089c9ff",
   "metadata": {
    "execution": {
     "iopub.execute_input": "2022-07-12T09:58:01.785213Z",
     "iopub.status.busy": "2022-07-12T09:58:01.785019Z",
     "iopub.status.idle": "2022-07-12T09:58:01.799490Z",
     "shell.execute_reply": "2022-07-12T09:58:01.799046Z"
    },
    "papermill": {
     "duration": 0.022184,
     "end_time": "2022-07-12T09:58:01.800755",
     "exception": false,
     "start_time": "2022-07-12T09:58:01.778571",
     "status": "completed"
    },
    "tags": []
   },
   "outputs": [],
   "source": [
    "EQTL_MODEL_FILES_PREFIX = conf.PHENOMEXCAN[\"PREDICTION_MODELS\"][f\"{EQTL_MODEL}_PREFIX\"]"
   ]
  },
  {
   "cell_type": "code",
   "execution_count": 6,
   "id": "8fe24bef",
   "metadata": {
    "execution": {
     "iopub.execute_input": "2022-07-12T09:58:01.812864Z",
     "iopub.status.busy": "2022-07-12T09:58:01.812654Z",
     "iopub.status.idle": "2022-07-12T09:58:01.828694Z",
     "shell.execute_reply": "2022-07-12T09:58:01.828318Z"
    },
    "papermill": {
     "duration": 0.023466,
     "end_time": "2022-07-12T09:58:01.829844",
     "exception": false,
     "start_time": "2022-07-12T09:58:01.806378",
     "status": "completed"
    },
    "tags": []
   },
   "outputs": [
    {
     "data": {
      "text/plain": [
       "'Using eQTL model: MASHR / mashr_'"
      ]
     },
     "metadata": {},
     "output_type": "display_data"
    }
   ],
   "source": [
    "display(f\"Using eQTL model: {EQTL_MODEL} / {EQTL_MODEL_FILES_PREFIX}\")"
   ]
  },
  {
   "cell_type": "code",
   "execution_count": 7,
   "id": "552a7f63-a18c-4d3e-bb6a-94f99b431291",
   "metadata": {
    "execution": {
     "iopub.execute_input": "2022-07-12T09:58:01.842417Z",
     "iopub.status.busy": "2022-07-12T09:58:01.841991Z",
     "iopub.status.idle": "2022-07-12T09:58:01.856500Z",
     "shell.execute_reply": "2022-07-12T09:58:01.856080Z"
    },
    "papermill": {
     "duration": 0.021919,
     "end_time": "2022-07-12T09:58:01.857695",
     "exception": false,
     "start_time": "2022-07-12T09:58:01.835776",
     "status": "completed"
    },
    "tags": []
   },
   "outputs": [
    {
     "data": {
      "text/plain": [
       "'S-MultiXcan condition number: 30'"
      ]
     },
     "metadata": {},
     "output_type": "display_data"
    }
   ],
   "source": [
    "display(f\"S-MultiXcan condition number: {SMULTIXCAN_CONDITION_NUMBER}\")"
   ]
  },
  {
   "cell_type": "code",
   "execution_count": 8,
   "id": "0230ebcb-2c32-4b95-9292-d9a52038e70d",
   "metadata": {
    "execution": {
     "iopub.execute_input": "2022-07-12T09:58:01.870454Z",
     "iopub.status.busy": "2022-07-12T09:58:01.870237Z",
     "iopub.status.idle": "2022-07-12T09:58:01.884162Z",
     "shell.execute_reply": "2022-07-12T09:58:01.883760Z"
    },
    "papermill": {
     "duration": 0.021492,
     "end_time": "2022-07-12T09:58:01.885382",
     "exception": false,
     "start_time": "2022-07-12T09:58:01.863890",
     "status": "completed"
    },
    "tags": []
   },
   "outputs": [],
   "source": [
    "REFERENCE_PANEL_DIR = conf.PHENOMEXCAN[\"LD_BLOCKS\"][f\"{REFERENCE_PANEL}_GENOTYPE_DIR\"]"
   ]
  },
  {
   "cell_type": "code",
   "execution_count": 9,
   "id": "98c4a159-601d-4a22-a1ab-35bd451c25f9",
   "metadata": {
    "execution": {
     "iopub.execute_input": "2022-07-12T09:58:01.898563Z",
     "iopub.status.busy": "2022-07-12T09:58:01.898338Z",
     "iopub.status.idle": "2022-07-12T09:58:01.912936Z",
     "shell.execute_reply": "2022-07-12T09:58:01.912479Z"
    },
    "papermill": {
     "duration": 0.022396,
     "end_time": "2022-07-12T09:58:01.914061",
     "exception": false,
     "start_time": "2022-07-12T09:58:01.891665",
     "status": "completed"
    },
    "tags": []
   },
   "outputs": [
    {
     "data": {
      "text/plain": [
       "'Using reference panel folder: /opt/data/data/phenomexcan/ld_blocks/reference_panel_1000G'"
      ]
     },
     "metadata": {},
     "output_type": "display_data"
    }
   ],
   "source": [
    "display(f\"Using reference panel folder: {str(REFERENCE_PANEL_DIR)}\")"
   ]
  },
  {
   "cell_type": "code",
   "execution_count": 10,
   "id": "396392dc-0340-4540-9b02-e182b833f909",
   "metadata": {
    "execution": {
     "iopub.execute_input": "2022-07-12T09:58:01.926742Z",
     "iopub.status.busy": "2022-07-12T09:58:01.926247Z",
     "iopub.status.idle": "2022-07-12T09:58:01.940280Z",
     "shell.execute_reply": "2022-07-12T09:58:01.939719Z"
    },
    "papermill": {
     "duration": 0.021808,
     "end_time": "2022-07-12T09:58:01.941716",
     "exception": false,
     "start_time": "2022-07-12T09:58:01.919908",
     "status": "completed"
    },
    "tags": []
   },
   "outputs": [],
   "source": [
    "OUTPUT_DIR_BASE = (\n",
    "    conf.PHENOMEXCAN[\"LD_BLOCKS\"][f\"GENE_CORRS_DIR\"]\n",
    "    / REFERENCE_PANEL.lower()\n",
    "    / EQTL_MODEL.lower()\n",
    ")\n",
    "OUTPUT_DIR_BASE.mkdir(parents=True, exist_ok=True)"
   ]
  },
  {
   "cell_type": "code",
   "execution_count": 11,
   "id": "8942c2d3-e53c-4d63-a0eb-b6fce0574d36",
   "metadata": {
    "execution": {
     "iopub.execute_input": "2022-07-12T09:58:01.954611Z",
     "iopub.status.busy": "2022-07-12T09:58:01.954056Z",
     "iopub.status.idle": "2022-07-12T09:58:01.969579Z",
     "shell.execute_reply": "2022-07-12T09:58:01.968958Z"
    },
    "papermill": {
     "duration": 0.023216,
     "end_time": "2022-07-12T09:58:01.970825",
     "exception": false,
     "start_time": "2022-07-12T09:58:01.947609",
     "status": "completed"
    },
    "tags": []
   },
   "outputs": [
    {
     "data": {
      "text/plain": [
       "'Using output dir base: /opt/data/data/phenomexcan/ld_blocks/gene_corrs/1000g/mashr'"
      ]
     },
     "metadata": {},
     "output_type": "display_data"
    }
   ],
   "source": [
    "display(f\"Using output dir base: {OUTPUT_DIR_BASE}\")"
   ]
  },
  {
   "cell_type": "code",
   "execution_count": 12,
   "id": "408aa590",
   "metadata": {
    "execution": {
     "iopub.execute_input": "2022-07-12T09:58:01.983988Z",
     "iopub.status.busy": "2022-07-12T09:58:01.983645Z",
     "iopub.status.idle": "2022-07-12T09:58:01.998156Z",
     "shell.execute_reply": "2022-07-12T09:58:01.997707Z"
    },
    "papermill": {
     "duration": 0.022563,
     "end_time": "2022-07-12T09:58:01.999428",
     "exception": false,
     "start_time": "2022-07-12T09:58:01.976865",
     "status": "completed"
    },
    "tags": []
   },
   "outputs": [],
   "source": [
    "assert (\n",
    "    chromosome is not None\n",
    "), \"You have to select one chromosome (format: number between 1 and 22)\""
   ]
  },
  {
   "cell_type": "code",
   "execution_count": 13,
   "id": "c1c7dd06-80ff-453c-bcb7-0899edce75da",
   "metadata": {
    "execution": {
     "iopub.execute_input": "2022-07-12T09:58:02.013429Z",
     "iopub.status.busy": "2022-07-12T09:58:02.013234Z",
     "iopub.status.idle": "2022-07-12T09:58:02.028345Z",
     "shell.execute_reply": "2022-07-12T09:58:02.027888Z"
    },
    "papermill": {
     "duration": 0.023383,
     "end_time": "2022-07-12T09:58:02.029581",
     "exception": false,
     "start_time": "2022-07-12T09:58:02.006198",
     "status": "completed"
    },
    "tags": []
   },
   "outputs": [],
   "source": [
    "chromosome = str(chromosome)"
   ]
  },
  {
   "cell_type": "code",
   "execution_count": 14,
   "id": "bc17b84c-9c26-47a5-a3ab-7046e72f3ef4",
   "metadata": {
    "execution": {
     "iopub.execute_input": "2022-07-12T09:58:02.043003Z",
     "iopub.status.busy": "2022-07-12T09:58:02.042382Z",
     "iopub.status.idle": "2022-07-12T09:58:02.056666Z",
     "shell.execute_reply": "2022-07-12T09:58:02.056256Z"
    },
    "papermill": {
     "duration": 0.022242,
     "end_time": "2022-07-12T09:58:02.057870",
     "exception": false,
     "start_time": "2022-07-12T09:58:02.035628",
     "status": "completed"
    },
    "tags": []
   },
   "outputs": [
    {
     "data": {
      "text/plain": [
       "'Working on chromosome 21'"
      ]
     },
     "metadata": {},
     "output_type": "display_data"
    }
   ],
   "source": [
    "display(f\"Working on chromosome {chromosome}\")"
   ]
  },
  {
   "cell_type": "code",
   "execution_count": 15,
   "id": "3c7d8574-90c7-4d09-bc8c-469ed0a34737",
   "metadata": {
    "execution": {
     "iopub.execute_input": "2022-07-12T09:58:02.071043Z",
     "iopub.status.busy": "2022-07-12T09:58:02.070518Z",
     "iopub.status.idle": "2022-07-12T09:58:02.085017Z",
     "shell.execute_reply": "2022-07-12T09:58:02.084445Z"
    },
    "papermill": {
     "duration": 0.022325,
     "end_time": "2022-07-12T09:58:02.086285",
     "exception": false,
     "start_time": "2022-07-12T09:58:02.063960",
     "status": "completed"
    },
    "tags": []
   },
   "outputs": [
    {
     "data": {
      "text/plain": [
       "'Compute correlation within distance False'"
      ]
     },
     "metadata": {},
     "output_type": "display_data"
    }
   ],
   "source": [
    "# This paramter, if True, computes the correlation between closeby genes only\n",
    "COMPUTE_CORRELATIONS_WITHIN_DISTANCE = False\n",
    "display(f\"Compute correlation within distance {COMPUTE_CORRELATIONS_WITHIN_DISTANCE}\")"
   ]
  },
  {
   "cell_type": "markdown",
   "id": "d2ba085e",
   "metadata": {
    "papermill": {
     "duration": 0.006193,
     "end_time": "2022-07-12T09:58:02.098709",
     "exception": false,
     "start_time": "2022-07-12T09:58:02.092516",
     "status": "completed"
    },
    "tags": []
   },
   "source": [
    "# Load data"
   ]
  },
  {
   "cell_type": "markdown",
   "id": "7bed0ce0-e7c7-4300-9a61-5412450b1904",
   "metadata": {
    "papermill": {
     "duration": 0.006263,
     "end_time": "2022-07-12T09:58:02.117831",
     "exception": false,
     "start_time": "2022-07-12T09:58:02.111568",
     "status": "completed"
    },
    "tags": []
   },
   "source": [
    "## Prediction model tissues"
   ]
  },
  {
   "cell_type": "code",
   "execution_count": 16,
   "id": "0847c065-0d69-4830-a07f-1c75115d17f5",
   "metadata": {
    "execution": {
     "iopub.execute_input": "2022-07-12T09:58:02.131864Z",
     "iopub.status.busy": "2022-07-12T09:58:02.131448Z",
     "iopub.status.idle": "2022-07-12T09:58:02.145945Z",
     "shell.execute_reply": "2022-07-12T09:58:02.145356Z"
    },
    "papermill": {
     "duration": 0.023092,
     "end_time": "2022-07-12T09:58:02.147399",
     "exception": false,
     "start_time": "2022-07-12T09:58:02.124307",
     "status": "completed"
    },
    "tags": []
   },
   "outputs": [],
   "source": [
    "prediction_model_tissues = conf.PHENOMEXCAN[\"PREDICTION_MODELS\"][\n",
    "    f\"{EQTL_MODEL}_TISSUES\"\n",
    "].split(\" \")"
   ]
  },
  {
   "cell_type": "code",
   "execution_count": 17,
   "id": "aaef70d1-30c6-4c6f-9d6b-abc8e9a0081f",
   "metadata": {
    "execution": {
     "iopub.execute_input": "2022-07-12T09:58:02.160916Z",
     "iopub.status.busy": "2022-07-12T09:58:02.160743Z",
     "iopub.status.idle": "2022-07-12T09:58:02.175296Z",
     "shell.execute_reply": "2022-07-12T09:58:02.174855Z"
    },
    "papermill": {
     "duration": 0.022731,
     "end_time": "2022-07-12T09:58:02.176495",
     "exception": false,
     "start_time": "2022-07-12T09:58:02.153764",
     "status": "completed"
    },
    "tags": []
   },
   "outputs": [
    {
     "data": {
      "text/plain": [
       "49"
      ]
     },
     "execution_count": 17,
     "metadata": {},
     "output_type": "execute_result"
    }
   ],
   "source": [
    "len(prediction_model_tissues)"
   ]
  },
  {
   "cell_type": "code",
   "execution_count": 18,
   "id": "ff35a099-c52d-465d-b863-0ee70c26208c",
   "metadata": {
    "execution": {
     "iopub.execute_input": "2022-07-12T09:58:02.190548Z",
     "iopub.status.busy": "2022-07-12T09:58:02.190392Z",
     "iopub.status.idle": "2022-07-12T09:58:02.205790Z",
     "shell.execute_reply": "2022-07-12T09:58:02.205374Z"
    },
    "papermill": {
     "duration": 0.023864,
     "end_time": "2022-07-12T09:58:02.206958",
     "exception": false,
     "start_time": "2022-07-12T09:58:02.183094",
     "status": "completed"
    },
    "tags": []
   },
   "outputs": [
    {
     "data": {
      "text/plain": [
       "['Skin_Not_Sun_Exposed_Suprapubic',\n",
       " 'Cells_EBV-transformed_lymphocytes',\n",
       " 'Brain_Frontal_Cortex_BA9',\n",
       " 'Kidney_Cortex',\n",
       " 'Brain_Substantia_nigra']"
      ]
     },
     "execution_count": 18,
     "metadata": {},
     "output_type": "execute_result"
    }
   ],
   "source": [
    "prediction_model_tissues[:5]"
   ]
  },
  {
   "cell_type": "markdown",
   "id": "abcc4b3d",
   "metadata": {
    "papermill": {
     "duration": 0.006649,
     "end_time": "2022-07-12T09:58:02.220553",
     "exception": false,
     "start_time": "2022-07-12T09:58:02.213904",
     "status": "completed"
    },
    "tags": []
   },
   "source": [
    "## MultiPLIER Z"
   ]
  },
  {
   "cell_type": "code",
   "execution_count": 19,
   "id": "c48ef527",
   "metadata": {
    "execution": {
     "iopub.execute_input": "2022-07-12T09:58:02.234791Z",
     "iopub.status.busy": "2022-07-12T09:58:02.234583Z",
     "iopub.status.idle": "2022-07-12T09:58:02.274707Z",
     "shell.execute_reply": "2022-07-12T09:58:02.274260Z"
    },
    "papermill": {
     "duration": 0.048871,
     "end_time": "2022-07-12T09:58:02.276070",
     "exception": false,
     "start_time": "2022-07-12T09:58:02.227199",
     "status": "completed"
    },
    "tags": []
   },
   "outputs": [],
   "source": [
    "multiplier_z_genes = pd.read_pickle(\n",
    "    conf.MULTIPLIER[\"MODEL_Z_MATRIX_FILE\"]\n",
    ").index.tolist()"
   ]
  },
  {
   "cell_type": "code",
   "execution_count": 20,
   "id": "0a4ecbd9",
   "metadata": {
    "execution": {
     "iopub.execute_input": "2022-07-12T09:58:02.290271Z",
     "iopub.status.busy": "2022-07-12T09:58:02.290056Z",
     "iopub.status.idle": "2022-07-12T09:58:02.304955Z",
     "shell.execute_reply": "2022-07-12T09:58:02.304503Z"
    },
    "papermill": {
     "duration": 0.023376,
     "end_time": "2022-07-12T09:58:02.306218",
     "exception": false,
     "start_time": "2022-07-12T09:58:02.282842",
     "status": "completed"
    },
    "tags": []
   },
   "outputs": [
    {
     "data": {
      "text/plain": [
       "6750"
      ]
     },
     "execution_count": 20,
     "metadata": {},
     "output_type": "execute_result"
    }
   ],
   "source": [
    "len(multiplier_z_genes)"
   ]
  },
  {
   "cell_type": "code",
   "execution_count": 21,
   "id": "115e8864",
   "metadata": {
    "execution": {
     "iopub.execute_input": "2022-07-12T09:58:02.320236Z",
     "iopub.status.busy": "2022-07-12T09:58:02.320033Z",
     "iopub.status.idle": "2022-07-12T09:58:02.335830Z",
     "shell.execute_reply": "2022-07-12T09:58:02.335366Z"
    },
    "papermill": {
     "duration": 0.024087,
     "end_time": "2022-07-12T09:58:02.336988",
     "exception": false,
     "start_time": "2022-07-12T09:58:02.312901",
     "status": "completed"
    },
    "tags": []
   },
   "outputs": [
    {
     "data": {
      "text/plain": [
       "['GAS6',\n",
       " 'MMP14',\n",
       " 'DSP',\n",
       " 'MARCKSL1',\n",
       " 'SPARC',\n",
       " 'CTSD',\n",
       " 'EPAS1',\n",
       " 'PALLD',\n",
       " 'PHC2',\n",
       " 'LGALS3BP']"
      ]
     },
     "execution_count": 21,
     "metadata": {},
     "output_type": "execute_result"
    }
   ],
   "source": [
    "multiplier_z_genes[:10]"
   ]
  },
  {
   "cell_type": "markdown",
   "id": "7dcb8db7",
   "metadata": {
    "papermill": {
     "duration": 0.006612,
     "end_time": "2022-07-12T09:58:02.350163",
     "exception": false,
     "start_time": "2022-07-12T09:58:02.343551",
     "status": "completed"
    },
    "tags": []
   },
   "source": [
    "## Get gene objects"
   ]
  },
  {
   "cell_type": "code",
   "execution_count": 22,
   "id": "bb932812",
   "metadata": {
    "execution": {
     "iopub.execute_input": "2022-07-12T09:58:02.364819Z",
     "iopub.status.busy": "2022-07-12T09:58:02.364419Z",
     "iopub.status.idle": "2022-07-12T09:58:02.385084Z",
     "shell.execute_reply": "2022-07-12T09:58:02.384649Z"
    },
    "papermill": {
     "duration": 0.029384,
     "end_time": "2022-07-12T09:58:02.386374",
     "exception": false,
     "start_time": "2022-07-12T09:58:02.356990",
     "status": "completed"
    },
    "tags": []
   },
   "outputs": [],
   "source": [
    "multiplier_gene_obj = {\n",
    "    gene_name: Gene(name=gene_name)\n",
    "    for gene_name in multiplier_z_genes\n",
    "    if gene_name in Gene.GENE_NAME_TO_ID_MAP\n",
    "}"
   ]
  },
  {
   "cell_type": "code",
   "execution_count": 23,
   "id": "39533214",
   "metadata": {
    "execution": {
     "iopub.execute_input": "2022-07-12T09:58:02.402443Z",
     "iopub.status.busy": "2022-07-12T09:58:02.402151Z",
     "iopub.status.idle": "2022-07-12T09:58:02.416751Z",
     "shell.execute_reply": "2022-07-12T09:58:02.416316Z"
    },
    "papermill": {
     "duration": 0.023327,
     "end_time": "2022-07-12T09:58:02.417981",
     "exception": false,
     "start_time": "2022-07-12T09:58:02.394654",
     "status": "completed"
    },
    "tags": []
   },
   "outputs": [
    {
     "data": {
      "text/plain": [
       "6454"
      ]
     },
     "execution_count": 23,
     "metadata": {},
     "output_type": "execute_result"
    }
   ],
   "source": [
    "len(multiplier_gene_obj)"
   ]
  },
  {
   "cell_type": "code",
   "execution_count": 24,
   "id": "9a5d0b84",
   "metadata": {
    "execution": {
     "iopub.execute_input": "2022-07-12T09:58:02.433055Z",
     "iopub.status.busy": "2022-07-12T09:58:02.432840Z",
     "iopub.status.idle": "2022-07-12T09:58:02.447821Z",
     "shell.execute_reply": "2022-07-12T09:58:02.447369Z"
    },
    "papermill": {
     "duration": 0.02402,
     "end_time": "2022-07-12T09:58:02.449055",
     "exception": false,
     "start_time": "2022-07-12T09:58:02.425035",
     "status": "completed"
    },
    "tags": []
   },
   "outputs": [
    {
     "data": {
      "text/plain": [
       "'ENSG00000183087'"
      ]
     },
     "execution_count": 24,
     "metadata": {},
     "output_type": "execute_result"
    }
   ],
   "source": [
    "multiplier_gene_obj[\"GAS6\"].ensembl_id"
   ]
  },
  {
   "cell_type": "code",
   "execution_count": 25,
   "id": "e3ffabc7",
   "metadata": {
    "execution": {
     "iopub.execute_input": "2022-07-12T09:58:02.464325Z",
     "iopub.status.busy": "2022-07-12T09:58:02.464072Z",
     "iopub.status.idle": "2022-07-12T09:58:04.624036Z",
     "shell.execute_reply": "2022-07-12T09:58:04.623616Z"
    },
    "papermill": {
     "duration": 2.168959,
     "end_time": "2022-07-12T09:58:04.625336",
     "exception": false,
     "start_time": "2022-07-12T09:58:02.456377",
     "status": "completed"
    },
    "tags": []
   },
   "outputs": [],
   "source": [
    "_gene_obj = list(multiplier_gene_obj.values())\n",
    "\n",
    "genes_info = pd.DataFrame(\n",
    "    {\n",
    "        \"name\": [g.name for g in _gene_obj],\n",
    "        \"id\": [g.ensembl_id for g in _gene_obj],\n",
    "        \"chr\": [g.chromosome for g in _gene_obj],\n",
    "        \"band\": [g.band for g in _gene_obj],\n",
    "        \"start_position\": [g.get_attribute(\"start_position\") for g in _gene_obj],\n",
    "    }\n",
    ")"
   ]
  },
  {
   "cell_type": "code",
   "execution_count": 26,
   "id": "e23519b8",
   "metadata": {
    "execution": {
     "iopub.execute_input": "2022-07-12T09:58:04.640824Z",
     "iopub.status.busy": "2022-07-12T09:58:04.640626Z",
     "iopub.status.idle": "2022-07-12T09:58:04.655624Z",
     "shell.execute_reply": "2022-07-12T09:58:04.655208Z"
    },
    "papermill": {
     "duration": 0.025006,
     "end_time": "2022-07-12T09:58:04.657728",
     "exception": false,
     "start_time": "2022-07-12T09:58:04.632722",
     "status": "completed"
    },
    "tags": []
   },
   "outputs": [
    {
     "data": {
      "text/plain": [
       "(6454, 5)"
      ]
     },
     "execution_count": 26,
     "metadata": {},
     "output_type": "execute_result"
    }
   ],
   "source": [
    "genes_info.shape"
   ]
  },
  {
   "cell_type": "code",
   "execution_count": 27,
   "id": "0d71881c",
   "metadata": {
    "execution": {
     "iopub.execute_input": "2022-07-12T09:58:04.672624Z",
     "iopub.status.busy": "2022-07-12T09:58:04.672402Z",
     "iopub.status.idle": "2022-07-12T09:58:04.692045Z",
     "shell.execute_reply": "2022-07-12T09:58:04.691610Z"
    },
    "papermill": {
     "duration": 0.028585,
     "end_time": "2022-07-12T09:58:04.693431",
     "exception": false,
     "start_time": "2022-07-12T09:58:04.664846",
     "status": "completed"
    },
    "tags": []
   },
   "outputs": [
    {
     "data": {
      "text/html": [
       "<div>\n",
       "<style scoped>\n",
       "    .dataframe tbody tr th:only-of-type {\n",
       "        vertical-align: middle;\n",
       "    }\n",
       "\n",
       "    .dataframe tbody tr th {\n",
       "        vertical-align: top;\n",
       "    }\n",
       "\n",
       "    .dataframe thead th {\n",
       "        text-align: right;\n",
       "    }\n",
       "</style>\n",
       "<table border=\"1\" class=\"dataframe\">\n",
       "  <thead>\n",
       "    <tr style=\"text-align: right;\">\n",
       "      <th></th>\n",
       "      <th>name</th>\n",
       "      <th>id</th>\n",
       "      <th>chr</th>\n",
       "      <th>band</th>\n",
       "      <th>start_position</th>\n",
       "    </tr>\n",
       "  </thead>\n",
       "  <tbody>\n",
       "    <tr>\n",
       "      <th>0</th>\n",
       "      <td>GAS6</td>\n",
       "      <td>ENSG00000183087</td>\n",
       "      <td>13</td>\n",
       "      <td>13q34</td>\n",
       "      <td>113820549.0</td>\n",
       "    </tr>\n",
       "    <tr>\n",
       "      <th>1</th>\n",
       "      <td>MMP14</td>\n",
       "      <td>ENSG00000157227</td>\n",
       "      <td>14</td>\n",
       "      <td>14q11.2</td>\n",
       "      <td>22836560.0</td>\n",
       "    </tr>\n",
       "    <tr>\n",
       "      <th>2</th>\n",
       "      <td>DSP</td>\n",
       "      <td>ENSG00000096696</td>\n",
       "      <td>6</td>\n",
       "      <td>6p24.3</td>\n",
       "      <td>7541617.0</td>\n",
       "    </tr>\n",
       "    <tr>\n",
       "      <th>3</th>\n",
       "      <td>MARCKSL1</td>\n",
       "      <td>ENSG00000175130</td>\n",
       "      <td>1</td>\n",
       "      <td>1p35.1</td>\n",
       "      <td>32333839.0</td>\n",
       "    </tr>\n",
       "    <tr>\n",
       "      <th>4</th>\n",
       "      <td>SPARC</td>\n",
       "      <td>ENSG00000113140</td>\n",
       "      <td>5</td>\n",
       "      <td>5q33.1</td>\n",
       "      <td>151661096.0</td>\n",
       "    </tr>\n",
       "  </tbody>\n",
       "</table>\n",
       "</div>"
      ],
      "text/plain": [
       "       name               id chr     band  start_position\n",
       "0      GAS6  ENSG00000183087  13    13q34     113820549.0\n",
       "1     MMP14  ENSG00000157227  14  14q11.2      22836560.0\n",
       "2       DSP  ENSG00000096696   6   6p24.3       7541617.0\n",
       "3  MARCKSL1  ENSG00000175130   1   1p35.1      32333839.0\n",
       "4     SPARC  ENSG00000113140   5   5q33.1     151661096.0"
      ]
     },
     "execution_count": 27,
     "metadata": {},
     "output_type": "execute_result"
    }
   ],
   "source": [
    "genes_info.head()"
   ]
  },
  {
   "cell_type": "markdown",
   "id": "c8d1038f",
   "metadata": {
    "papermill": {
     "duration": 0.006877,
     "end_time": "2022-07-12T09:58:04.707600",
     "exception": false,
     "start_time": "2022-07-12T09:58:04.700723",
     "status": "completed"
    },
    "tags": []
   },
   "source": [
    "# Test"
   ]
  },
  {
   "cell_type": "code",
   "execution_count": 28,
   "id": "64993abf",
   "metadata": {
    "execution": {
     "iopub.execute_input": "2022-07-12T09:58:04.723134Z",
     "iopub.status.busy": "2022-07-12T09:58:04.722912Z",
     "iopub.status.idle": "2022-07-12T09:58:04.745651Z",
     "shell.execute_reply": "2022-07-12T09:58:04.745245Z"
    },
    "papermill": {
     "duration": 0.032209,
     "end_time": "2022-07-12T09:58:04.746902",
     "exception": false,
     "start_time": "2022-07-12T09:58:04.714693",
     "status": "completed"
    },
    "tags": []
   },
   "outputs": [
    {
     "data": {
      "text/html": [
       "<div>\n",
       "<style scoped>\n",
       "    .dataframe tbody tr th:only-of-type {\n",
       "        vertical-align: middle;\n",
       "    }\n",
       "\n",
       "    .dataframe tbody tr th {\n",
       "        vertical-align: top;\n",
       "    }\n",
       "\n",
       "    .dataframe thead th {\n",
       "        text-align: right;\n",
       "    }\n",
       "</style>\n",
       "<table border=\"1\" class=\"dataframe\">\n",
       "  <thead>\n",
       "    <tr style=\"text-align: right;\">\n",
       "      <th></th>\n",
       "      <th>name</th>\n",
       "      <th>id</th>\n",
       "      <th>chr</th>\n",
       "      <th>band</th>\n",
       "      <th>start_position</th>\n",
       "    </tr>\n",
       "  </thead>\n",
       "  <tbody>\n",
       "    <tr>\n",
       "      <th>17</th>\n",
       "      <td>CSTB</td>\n",
       "      <td>ENSG00000160213</td>\n",
       "      <td>21</td>\n",
       "      <td>21q22.3</td>\n",
       "      <td>43772511.0</td>\n",
       "    </tr>\n",
       "    <tr>\n",
       "      <th>21</th>\n",
       "      <td>ETS2</td>\n",
       "      <td>ENSG00000157557</td>\n",
       "      <td>21</td>\n",
       "      <td>21q22.2</td>\n",
       "      <td>38805307.0</td>\n",
       "    </tr>\n",
       "    <tr>\n",
       "      <th>46</th>\n",
       "      <td>MX1</td>\n",
       "      <td>ENSG00000157601</td>\n",
       "      <td>21</td>\n",
       "      <td>21q22.3</td>\n",
       "      <td>41420304.0</td>\n",
       "    </tr>\n",
       "    <tr>\n",
       "      <th>126</th>\n",
       "      <td>ADARB1</td>\n",
       "      <td>ENSG00000197381</td>\n",
       "      <td>21</td>\n",
       "      <td>21q22.3</td>\n",
       "      <td>45073853.0</td>\n",
       "    </tr>\n",
       "    <tr>\n",
       "      <th>202</th>\n",
       "      <td>CBR3</td>\n",
       "      <td>ENSG00000159231</td>\n",
       "      <td>21</td>\n",
       "      <td>21q22.12</td>\n",
       "      <td>36135079.0</td>\n",
       "    </tr>\n",
       "    <tr>\n",
       "      <th>...</th>\n",
       "      <td>...</td>\n",
       "      <td>...</td>\n",
       "      <td>...</td>\n",
       "      <td>...</td>\n",
       "      <td>...</td>\n",
       "    </tr>\n",
       "    <tr>\n",
       "      <th>5589</th>\n",
       "      <td>TFF3</td>\n",
       "      <td>ENSG00000160180</td>\n",
       "      <td>21</td>\n",
       "      <td>21q22.3</td>\n",
       "      <td>42311667.0</td>\n",
       "    </tr>\n",
       "    <tr>\n",
       "      <th>5675</th>\n",
       "      <td>DYRK1A</td>\n",
       "      <td>ENSG00000157540</td>\n",
       "      <td>21</td>\n",
       "      <td>21q22.13</td>\n",
       "      <td>37365573.0</td>\n",
       "    </tr>\n",
       "    <tr>\n",
       "      <th>5997</th>\n",
       "      <td>COL18A1</td>\n",
       "      <td>ENSG00000182871</td>\n",
       "      <td>21</td>\n",
       "      <td>21q22.3</td>\n",
       "      <td>45405137.0</td>\n",
       "    </tr>\n",
       "    <tr>\n",
       "      <th>6019</th>\n",
       "      <td>SLC5A3</td>\n",
       "      <td>ENSG00000198743</td>\n",
       "      <td>21</td>\n",
       "      <td>21q22.11</td>\n",
       "      <td>34073578.0</td>\n",
       "    </tr>\n",
       "    <tr>\n",
       "      <th>6182</th>\n",
       "      <td>RCAN1</td>\n",
       "      <td>ENSG00000159200</td>\n",
       "      <td>21</td>\n",
       "      <td>21q22.12</td>\n",
       "      <td>34513142.0</td>\n",
       "    </tr>\n",
       "  </tbody>\n",
       "</table>\n",
       "<p>62 rows × 5 columns</p>\n",
       "</div>"
      ],
      "text/plain": [
       "         name               id chr      band  start_position\n",
       "17       CSTB  ENSG00000160213  21   21q22.3      43772511.0\n",
       "21       ETS2  ENSG00000157557  21   21q22.2      38805307.0\n",
       "46        MX1  ENSG00000157601  21   21q22.3      41420304.0\n",
       "126    ADARB1  ENSG00000197381  21   21q22.3      45073853.0\n",
       "202      CBR3  ENSG00000159231  21  21q22.12      36135079.0\n",
       "...       ...              ...  ..       ...             ...\n",
       "5589     TFF3  ENSG00000160180  21   21q22.3      42311667.0\n",
       "5675   DYRK1A  ENSG00000157540  21  21q22.13      37365573.0\n",
       "5997  COL18A1  ENSG00000182871  21   21q22.3      45405137.0\n",
       "6019   SLC5A3  ENSG00000198743  21  21q22.11      34073578.0\n",
       "6182    RCAN1  ENSG00000159200  21  21q22.12      34513142.0\n",
       "\n",
       "[62 rows x 5 columns]"
      ]
     },
     "metadata": {},
     "output_type": "display_data"
    }
   ],
   "source": [
    "chromosome_genes_info = genes_info[genes_info[\"chr\"] == chromosome]\n",
    "display(chromosome_genes_info)"
   ]
  },
  {
   "cell_type": "code",
   "execution_count": 29,
   "id": "d2e42726-7de6-46eb-acfc-6323eaa8fae6",
   "metadata": {
    "execution": {
     "iopub.execute_input": "2022-07-12T09:58:04.762817Z",
     "iopub.status.busy": "2022-07-12T09:58:04.762617Z",
     "iopub.status.idle": "2022-07-12T09:58:04.778975Z",
     "shell.execute_reply": "2022-07-12T09:58:04.778579Z"
    },
    "papermill": {
     "duration": 0.025602,
     "end_time": "2022-07-12T09:58:04.780175",
     "exception": false,
     "start_time": "2022-07-12T09:58:04.754573",
     "status": "completed"
    },
    "tags": []
   },
   "outputs": [
    {
     "data": {
      "text/plain": [
       "5"
      ]
     },
     "metadata": {},
     "output_type": "display_data"
    }
   ],
   "source": [
    "seed(0)\n",
    "_gene_list_ids = sample(chromosome_genes_info[\"id\"].tolist(), 5)\n",
    "selected_chromosome_genes_obj = [Gene(ensembl_id=g_id) for g_id in _gene_list_ids]\n",
    "display(len(selected_chromosome_genes_obj))"
   ]
  },
  {
   "cell_type": "code",
   "execution_count": 30,
   "id": "1b355359",
   "metadata": {
    "execution": {
     "iopub.execute_input": "2022-07-12T09:58:04.795961Z",
     "iopub.status.busy": "2022-07-12T09:58:04.795768Z",
     "iopub.status.idle": "2022-07-12T09:58:06.400081Z",
     "shell.execute_reply": "2022-07-12T09:58:06.399667Z"
    },
    "papermill": {
     "duration": 1.613679,
     "end_time": "2022-07-12T09:58:06.401430",
     "exception": false,
     "start_time": "2022-07-12T09:58:04.787751",
     "status": "completed"
    },
    "tags": []
   },
   "outputs": [
    {
     "name": "stdout",
     "output_type": "stream",
     "text": [
      "GART / U2AF1: 0.0\n",
      "GART / UBE2G2: 0.0\n",
      "GART / MRPS6: 0.0273202854913764\n",
      "GART / ATP5J: 0.0\n",
      "U2AF1 / UBE2G2: 0.010582656350490641\n",
      "U2AF1 / MRPS6: 0.0\n",
      "U2AF1 / ATP5J: 0.0\n",
      "UBE2G2 / MRPS6: 0.0\n",
      "UBE2G2 / ATP5J: 0.0\n",
      "MRPS6 / ATP5J: 0.0\n"
     ]
    }
   ],
   "source": [
    "for gene_idx1 in range(0, len(selected_chromosome_genes_obj) - 1):\n",
    "    gene_obj1 = selected_chromosome_genes_obj[gene_idx1]\n",
    "\n",
    "    for gene_idx2 in range(gene_idx1 + 1, len(selected_chromosome_genes_obj)):\n",
    "        gene_obj2 = selected_chromosome_genes_obj[gene_idx2]\n",
    "\n",
    "        c = gene_obj1.get_ssm_correlation(\n",
    "            gene_obj2,\n",
    "        )\n",
    "\n",
    "        print(f\"{gene_obj1.name} / {gene_obj2.name}: {c}\")"
   ]
  },
  {
   "cell_type": "markdown",
   "id": "d3843e06",
   "metadata": {
    "papermill": {
     "duration": 0.011998,
     "end_time": "2022-07-12T09:58:06.421859",
     "exception": false,
     "start_time": "2022-07-12T09:58:06.409861",
     "status": "completed"
    },
    "tags": []
   },
   "source": [
    "# Compute correlation per chromosome"
   ]
  },
  {
   "cell_type": "code",
   "execution_count": 31,
   "id": "cb859c15-d1f3-4006-a74c-2b83c0db9611",
   "metadata": {
    "execution": {
     "iopub.execute_input": "2022-07-12T09:58:06.438821Z",
     "iopub.status.busy": "2022-07-12T09:58:06.438656Z",
     "iopub.status.idle": "2022-07-12T09:58:06.455797Z",
     "shell.execute_reply": "2022-07-12T09:58:06.455281Z"
    },
    "papermill": {
     "duration": 0.026953,
     "end_time": "2022-07-12T09:58:06.456943",
     "exception": false,
     "start_time": "2022-07-12T09:58:06.429990",
     "status": "completed"
    },
    "tags": []
   },
   "outputs": [
    {
     "data": {
      "text/plain": [
       "PosixPath('/opt/data/data/phenomexcan/ld_blocks/gene_corrs/1000g/mashr/by_chr/gene_corrs-chr21.pkl')"
      ]
     },
     "metadata": {},
     "output_type": "display_data"
    }
   ],
   "source": [
    "output_dir = OUTPUT_DIR_BASE / \"by_chr\"\n",
    "output_dir.mkdir(exist_ok=True, parents=True)\n",
    "output_file = output_dir / f\"gene_corrs-chr{chromosome}.pkl\"\n",
    "display(output_file)"
   ]
  },
  {
   "cell_type": "code",
   "execution_count": 32,
   "id": "aa674fe4-6794-4eed-98fa-32b39d1d4ace",
   "metadata": {
    "execution": {
     "iopub.execute_input": "2022-07-12T09:58:06.473168Z",
     "iopub.status.busy": "2022-07-12T09:58:06.472567Z",
     "iopub.status.idle": "2022-07-12T09:58:06.487377Z",
     "shell.execute_reply": "2022-07-12T09:58:06.486855Z"
    },
    "papermill": {
     "duration": 0.024223,
     "end_time": "2022-07-12T09:58:06.488742",
     "exception": false,
     "start_time": "2022-07-12T09:58:06.464519",
     "status": "completed"
    },
    "tags": []
   },
   "outputs": [],
   "source": [
    "warnings.filterwarnings(\"error\")"
   ]
  },
  {
   "cell_type": "code",
   "execution_count": 33,
   "id": "cdbb90a1",
   "metadata": {
    "execution": {
     "iopub.execute_input": "2022-07-12T09:58:06.505423Z",
     "iopub.status.busy": "2022-07-12T09:58:06.505192Z",
     "iopub.status.idle": "2022-07-12T10:01:04.805704Z",
     "shell.execute_reply": "2022-07-12T10:01:04.805283Z"
    },
    "papermill": {
     "duration": 178.310232,
     "end_time": "2022-07-12T10:01:04.806832",
     "exception": false,
     "start_time": "2022-07-12T09:58:06.496600",
     "status": "completed"
    },
    "tags": []
   },
   "outputs": [
    {
     "name": "stdout",
     "output_type": "stream",
     "text": [
      "Number of genes in chromosome: 62\n",
      "Number of gene combinations: 1891\n"
     ]
    },
    {
     "name": "stderr",
     "output_type": "stream",
     "text": [
      "ENSG00000160299 / ENSG00000160307: 100%|████████████████████████| 1891/1891 [02:58<00:00, 10.61it/s]"
     ]
    },
    {
     "name": "stdout",
     "output_type": "stream",
     "text": [
      "Min/max values: 0.0007864252268651447 / 0.5458289821452219\n"
     ]
    },
    {
     "name": "stderr",
     "output_type": "stream",
     "text": [
      "\n"
     ]
    },
    {
     "data": {
      "text/plain": [
       "PosixPath('/opt/data/data/phenomexcan/ld_blocks/gene_corrs/1000g/mashr/by_chr/gene_corrs-chr21.pkl')"
      ]
     },
     "metadata": {},
     "output_type": "display_data"
    }
   ],
   "source": [
    "# standard checks\n",
    "all_chrs = genes_info[\"chr\"].dropna().unique()\n",
    "assert all_chrs.shape[0] == 22\n",
    "\n",
    "# select chromosome given by the user\n",
    "assert chromosome in all_chrs\n",
    "\n",
    "# run only on the chromosome specified\n",
    "all_chrs = [chromosome]\n",
    "genes_chr = genes_info[genes_info[\"chr\"] == chromosome]\n",
    "\n",
    "# For testing purposes\n",
    "# genes_chr = genes_chr.sample(n=20)\n",
    "\n",
    "print(f\"Number of genes in chromosome: {genes_chr.shape[0]}\", flush=True)\n",
    "\n",
    "# sort genes by starting position to make visualizations better later\n",
    "genes_chr = genes_chr.sort_values(\"start_position\")\n",
    "\n",
    "gene_chr_objs = [Gene(ensembl_id=gene_id) for gene_id in genes_chr[\"id\"]]\n",
    "gene_chr_ids = [g.ensembl_id for g in gene_chr_objs]\n",
    "\n",
    "n = len(gene_chr_objs)\n",
    "n_comb = int(n * (n - 1) / 2.0)\n",
    "print(f\"Number of gene combinations: {n_comb}\", flush=True)\n",
    "\n",
    "gene_corrs = []\n",
    "\n",
    "pbar = tqdm(ncols=100, total=n_comb)\n",
    "i = 0\n",
    "for gene_idx1 in range(0, len(gene_chr_objs) - 1):\n",
    "    gene_obj1 = gene_chr_objs[gene_idx1]\n",
    "\n",
    "    for gene_idx2 in range(gene_idx1 + 1, len(gene_chr_objs)):\n",
    "        gene_obj2 = gene_chr_objs[gene_idx2]\n",
    "\n",
    "        pbar.set_description(f\"{gene_obj1.ensembl_id} / {gene_obj2.ensembl_id}\")\n",
    "\n",
    "        try:\n",
    "            # FIXME: compute the correlation of the sum of squares of the model using all\n",
    "            # the available tissues; this could be problematic because for some results\n",
    "            # (computed on a specific phenotype/GWAS) we might not have all the tissues\n",
    "            # available, which can certainly bias the correlation estimation.\n",
    "            # Since this depends on the GWAS on a specific phenotype, we should ideally have\n",
    "            # one correlation matrix per GWAS. I should look at how we can improve this.\n",
    "            r = gene_obj1.get_ssm_correlation(\n",
    "                other_gene=gene_obj2,\n",
    "                condition_number=SMULTIXCAN_CONDITION_NUMBER,\n",
    "                reference_panel=REFERENCE_PANEL,\n",
    "                model_type=EQTL_MODEL,\n",
    "                use_within_distance=COMPUTE_CORRELATIONS_WITHIN_DISTANCE,\n",
    "            )\n",
    "\n",
    "            if r is None:\n",
    "                # if r is None, it's very likely because:\n",
    "                #  * one of the genes has no prediction models\n",
    "                #  * all the SNPs predictors for the gene are not present in the reference\n",
    "                #    panel\n",
    "\n",
    "                r = 0.0\n",
    "\n",
    "            gene_corrs.append(r)\n",
    "        except Warning:\n",
    "            print(\n",
    "                f\"RuntimeWarning for genes {gene_obj1.ensembl_id} and {gene_obj2.ensembl_id}\",\n",
    "                flush=True,\n",
    "            )\n",
    "            import traceback\n",
    "\n",
    "            print(traceback.format_exc(), flush=True)\n",
    "        except Exception as e:\n",
    "            print(\n",
    "                f\"Exception for genes {gene_obj1.ensembl_id} and {gene_obj2.ensembl_id}\",\n",
    "                flush=True,\n",
    "            )\n",
    "            import traceback\n",
    "\n",
    "            print(traceback.format_exc(), flush=True)\n",
    "            gene_corrs.append(np.nan)\n",
    "\n",
    "        pbar.update(1)\n",
    "\n",
    "pbar.close()\n",
    "\n",
    "# testing\n",
    "gene_corrs_flat = pd.Series(gene_corrs)\n",
    "print(f\"Min/max values: {gene_corrs_flat.min()} / {gene_corrs_flat.max()}\")\n",
    "assert gene_corrs_flat.min() >= -1.001\n",
    "assert gene_corrs_flat.max() <= 1.001\n",
    "\n",
    "# save\n",
    "# FIXME: consider saving only the condenced matrix here. See here for\n",
    "# more details: https://github.com/greenelab/phenoplier/pull/38#discussion_r634600813\n",
    "gene_corrs_data = squareform(np.array(gene_corrs, dtype=np.float64))\n",
    "np.fill_diagonal(gene_corrs_data, 1.0)\n",
    "\n",
    "gene_corrs_df = pd.DataFrame(\n",
    "    data=gene_corrs_data,\n",
    "    index=gene_chr_ids,\n",
    "    columns=gene_chr_ids,\n",
    ")\n",
    "\n",
    "output_dir.mkdir(exist_ok=True, parents=True)\n",
    "display(output_file)\n",
    "\n",
    "gene_corrs_df.to_pickle(output_file)"
   ]
  },
  {
   "cell_type": "markdown",
   "id": "faa67b51-5373-470f-aa72-2ded53fa6dfe",
   "metadata": {
    "papermill": {
     "duration": 0.108674,
     "end_time": "2022-07-12T10:01:05.026881",
     "exception": false,
     "start_time": "2022-07-12T10:01:04.918207",
     "status": "completed"
    },
    "tags": []
   },
   "source": [
    "# Testing"
   ]
  },
  {
   "cell_type": "code",
   "execution_count": 34,
   "id": "14f7d046-4b55-4896-a56b-990127bcc388",
   "metadata": {
    "execution": {
     "iopub.execute_input": "2022-07-12T10:01:05.283598Z",
     "iopub.status.busy": "2022-07-12T10:01:05.283335Z",
     "iopub.status.idle": "2022-07-12T10:01:05.298725Z",
     "shell.execute_reply": "2022-07-12T10:01:05.298316Z"
    },
    "papermill": {
     "duration": 0.154171,
     "end_time": "2022-07-12T10:01:05.299867",
     "exception": false,
     "start_time": "2022-07-12T10:01:05.145696",
     "status": "completed"
    },
    "tags": []
   },
   "outputs": [
    {
     "data": {
      "text/plain": [
       "(62, 62)"
      ]
     },
     "execution_count": 34,
     "metadata": {},
     "output_type": "execute_result"
    }
   ],
   "source": [
    "gene_corrs_df.shape"
   ]
  },
  {
   "cell_type": "code",
   "execution_count": 35,
   "id": "c7d15414-3297-4537-a7c6-7588c0baeb75",
   "metadata": {
    "execution": {
     "iopub.execute_input": "2022-07-12T10:01:05.521533Z",
     "iopub.status.busy": "2022-07-12T10:01:05.521333Z",
     "iopub.status.idle": "2022-07-12T10:01:05.550263Z",
     "shell.execute_reply": "2022-07-12T10:01:05.549874Z"
    },
    "papermill": {
     "duration": 0.142148,
     "end_time": "2022-07-12T10:01:05.551479",
     "exception": false,
     "start_time": "2022-07-12T10:01:05.409331",
     "status": "completed"
    },
    "tags": []
   },
   "outputs": [
    {
     "data": {
      "text/html": [
       "<div>\n",
       "<style scoped>\n",
       "    .dataframe tbody tr th:only-of-type {\n",
       "        vertical-align: middle;\n",
       "    }\n",
       "\n",
       "    .dataframe tbody tr th {\n",
       "        vertical-align: top;\n",
       "    }\n",
       "\n",
       "    .dataframe thead th {\n",
       "        text-align: right;\n",
       "    }\n",
       "</style>\n",
       "<table border=\"1\" class=\"dataframe\">\n",
       "  <thead>\n",
       "    <tr style=\"text-align: right;\">\n",
       "      <th></th>\n",
       "      <th>ENSG00000155307</th>\n",
       "      <th>ENSG00000180530</th>\n",
       "      <th>ENSG00000154719</th>\n",
       "      <th>ENSG00000154721</th>\n",
       "      <th>ENSG00000154723</th>\n",
       "      <th>ENSG00000142192</th>\n",
       "      <th>ENSG00000154734</th>\n",
       "      <th>ENSG00000156261</th>\n",
       "      <th>ENSG00000171189</th>\n",
       "      <th>ENSG00000156299</th>\n",
       "      <th>...</th>\n",
       "      <th>ENSG00000160255</th>\n",
       "      <th>ENSG00000197381</th>\n",
       "      <th>ENSG00000182871</th>\n",
       "      <th>ENSG00000173638</th>\n",
       "      <th>ENSG00000142156</th>\n",
       "      <th>ENSG00000142173</th>\n",
       "      <th>ENSG00000160282</th>\n",
       "      <th>ENSG00000160285</th>\n",
       "      <th>ENSG00000160299</th>\n",
       "      <th>ENSG00000160307</th>\n",
       "    </tr>\n",
       "  </thead>\n",
       "  <tbody>\n",
       "    <tr>\n",
       "      <th>ENSG00000155307</th>\n",
       "      <td>1.000000</td>\n",
       "      <td>0.009524</td>\n",
       "      <td>0.009005</td>\n",
       "      <td>0.014193</td>\n",
       "      <td>0.011602</td>\n",
       "      <td>0.007964</td>\n",
       "      <td>0.009001</td>\n",
       "      <td>0.003462</td>\n",
       "      <td>0.011411</td>\n",
       "      <td>0.009418</td>\n",
       "      <td>...</td>\n",
       "      <td>0.010377</td>\n",
       "      <td>0.013520</td>\n",
       "      <td>0.015242</td>\n",
       "      <td>0.013189</td>\n",
       "      <td>0.010285</td>\n",
       "      <td>0.017090</td>\n",
       "      <td>0.011381</td>\n",
       "      <td>0.008778</td>\n",
       "      <td>0.015226</td>\n",
       "      <td>0.012667</td>\n",
       "    </tr>\n",
       "    <tr>\n",
       "      <th>ENSG00000180530</th>\n",
       "      <td>0.009524</td>\n",
       "      <td>1.000000</td>\n",
       "      <td>0.009485</td>\n",
       "      <td>0.011263</td>\n",
       "      <td>0.015074</td>\n",
       "      <td>0.008841</td>\n",
       "      <td>0.007742</td>\n",
       "      <td>0.008483</td>\n",
       "      <td>0.005554</td>\n",
       "      <td>0.016694</td>\n",
       "      <td>...</td>\n",
       "      <td>0.015923</td>\n",
       "      <td>0.011296</td>\n",
       "      <td>0.022143</td>\n",
       "      <td>0.010372</td>\n",
       "      <td>0.010501</td>\n",
       "      <td>0.017568</td>\n",
       "      <td>0.012738</td>\n",
       "      <td>0.010915</td>\n",
       "      <td>0.019424</td>\n",
       "      <td>0.015643</td>\n",
       "    </tr>\n",
       "    <tr>\n",
       "      <th>ENSG00000154719</th>\n",
       "      <td>0.009005</td>\n",
       "      <td>0.009485</td>\n",
       "      <td>1.000000</td>\n",
       "      <td>0.441590</td>\n",
       "      <td>0.181989</td>\n",
       "      <td>0.012504</td>\n",
       "      <td>0.008913</td>\n",
       "      <td>0.007761</td>\n",
       "      <td>0.005954</td>\n",
       "      <td>0.010846</td>\n",
       "      <td>...</td>\n",
       "      <td>0.007334</td>\n",
       "      <td>0.012565</td>\n",
       "      <td>0.011780</td>\n",
       "      <td>0.014071</td>\n",
       "      <td>0.007409</td>\n",
       "      <td>0.015709</td>\n",
       "      <td>0.015736</td>\n",
       "      <td>0.010516</td>\n",
       "      <td>0.016921</td>\n",
       "      <td>0.010365</td>\n",
       "    </tr>\n",
       "    <tr>\n",
       "      <th>ENSG00000154721</th>\n",
       "      <td>0.014193</td>\n",
       "      <td>0.011263</td>\n",
       "      <td>0.441590</td>\n",
       "      <td>1.000000</td>\n",
       "      <td>0.323127</td>\n",
       "      <td>0.016043</td>\n",
       "      <td>0.006526</td>\n",
       "      <td>0.002206</td>\n",
       "      <td>0.011834</td>\n",
       "      <td>0.010480</td>\n",
       "      <td>...</td>\n",
       "      <td>0.008025</td>\n",
       "      <td>0.012028</td>\n",
       "      <td>0.011178</td>\n",
       "      <td>0.011743</td>\n",
       "      <td>0.006242</td>\n",
       "      <td>0.015081</td>\n",
       "      <td>0.010449</td>\n",
       "      <td>0.012568</td>\n",
       "      <td>0.013231</td>\n",
       "      <td>0.010454</td>\n",
       "    </tr>\n",
       "    <tr>\n",
       "      <th>ENSG00000154723</th>\n",
       "      <td>0.011602</td>\n",
       "      <td>0.015074</td>\n",
       "      <td>0.181989</td>\n",
       "      <td>0.323127</td>\n",
       "      <td>1.000000</td>\n",
       "      <td>0.022413</td>\n",
       "      <td>0.006861</td>\n",
       "      <td>0.005666</td>\n",
       "      <td>0.005191</td>\n",
       "      <td>0.011175</td>\n",
       "      <td>...</td>\n",
       "      <td>0.011883</td>\n",
       "      <td>0.007867</td>\n",
       "      <td>0.010872</td>\n",
       "      <td>0.012146</td>\n",
       "      <td>0.011167</td>\n",
       "      <td>0.019937</td>\n",
       "      <td>0.005710</td>\n",
       "      <td>0.011212</td>\n",
       "      <td>0.012482</td>\n",
       "      <td>0.010064</td>\n",
       "    </tr>\n",
       "  </tbody>\n",
       "</table>\n",
       "<p>5 rows × 62 columns</p>\n",
       "</div>"
      ],
      "text/plain": [
       "                 ENSG00000155307  ENSG00000180530  ENSG00000154719  \\\n",
       "ENSG00000155307         1.000000         0.009524         0.009005   \n",
       "ENSG00000180530         0.009524         1.000000         0.009485   \n",
       "ENSG00000154719         0.009005         0.009485         1.000000   \n",
       "ENSG00000154721         0.014193         0.011263         0.441590   \n",
       "ENSG00000154723         0.011602         0.015074         0.181989   \n",
       "\n",
       "                 ENSG00000154721  ENSG00000154723  ENSG00000142192  \\\n",
       "ENSG00000155307         0.014193         0.011602         0.007964   \n",
       "ENSG00000180530         0.011263         0.015074         0.008841   \n",
       "ENSG00000154719         0.441590         0.181989         0.012504   \n",
       "ENSG00000154721         1.000000         0.323127         0.016043   \n",
       "ENSG00000154723         0.323127         1.000000         0.022413   \n",
       "\n",
       "                 ENSG00000154734  ENSG00000156261  ENSG00000171189  \\\n",
       "ENSG00000155307         0.009001         0.003462         0.011411   \n",
       "ENSG00000180530         0.007742         0.008483         0.005554   \n",
       "ENSG00000154719         0.008913         0.007761         0.005954   \n",
       "ENSG00000154721         0.006526         0.002206         0.011834   \n",
       "ENSG00000154723         0.006861         0.005666         0.005191   \n",
       "\n",
       "                 ENSG00000156299  ...  ENSG00000160255  ENSG00000197381  \\\n",
       "ENSG00000155307         0.009418  ...         0.010377         0.013520   \n",
       "ENSG00000180530         0.016694  ...         0.015923         0.011296   \n",
       "ENSG00000154719         0.010846  ...         0.007334         0.012565   \n",
       "ENSG00000154721         0.010480  ...         0.008025         0.012028   \n",
       "ENSG00000154723         0.011175  ...         0.011883         0.007867   \n",
       "\n",
       "                 ENSG00000182871  ENSG00000173638  ENSG00000142156  \\\n",
       "ENSG00000155307         0.015242         0.013189         0.010285   \n",
       "ENSG00000180530         0.022143         0.010372         0.010501   \n",
       "ENSG00000154719         0.011780         0.014071         0.007409   \n",
       "ENSG00000154721         0.011178         0.011743         0.006242   \n",
       "ENSG00000154723         0.010872         0.012146         0.011167   \n",
       "\n",
       "                 ENSG00000142173  ENSG00000160282  ENSG00000160285  \\\n",
       "ENSG00000155307         0.017090         0.011381         0.008778   \n",
       "ENSG00000180530         0.017568         0.012738         0.010915   \n",
       "ENSG00000154719         0.015709         0.015736         0.010516   \n",
       "ENSG00000154721         0.015081         0.010449         0.012568   \n",
       "ENSG00000154723         0.019937         0.005710         0.011212   \n",
       "\n",
       "                 ENSG00000160299  ENSG00000160307  \n",
       "ENSG00000155307         0.015226         0.012667  \n",
       "ENSG00000180530         0.019424         0.015643  \n",
       "ENSG00000154719         0.016921         0.010365  \n",
       "ENSG00000154721         0.013231         0.010454  \n",
       "ENSG00000154723         0.012482         0.010064  \n",
       "\n",
       "[5 rows x 62 columns]"
      ]
     },
     "execution_count": 35,
     "metadata": {},
     "output_type": "execute_result"
    }
   ],
   "source": [
    "gene_corrs_df.head()"
   ]
  },
  {
   "cell_type": "code",
   "execution_count": 36,
   "id": "286686af-1b7b-4440-8453-6bdcbd8de19c",
   "metadata": {
    "execution": {
     "iopub.execute_input": "2022-07-12T10:01:05.777768Z",
     "iopub.status.busy": "2022-07-12T10:01:05.777568Z",
     "iopub.status.idle": "2022-07-12T10:01:05.794311Z",
     "shell.execute_reply": "2022-07-12T10:01:05.793905Z"
    },
    "papermill": {
     "duration": 0.130716,
     "end_time": "2022-07-12T10:01:05.795538",
     "exception": false,
     "start_time": "2022-07-12T10:01:05.664822",
     "status": "completed"
    },
    "tags": []
   },
   "outputs": [],
   "source": [
    "assert not gene_corrs_df.isna().any().any()"
   ]
  },
  {
   "cell_type": "code",
   "execution_count": 37,
   "id": "00583efc-7068-4270-ad1e-4a418e91db96",
   "metadata": {
    "execution": {
     "iopub.execute_input": "2022-07-12T10:01:06.018945Z",
     "iopub.status.busy": "2022-07-12T10:01:06.018742Z",
     "iopub.status.idle": "2022-07-12T10:01:06.036317Z",
     "shell.execute_reply": "2022-07-12T10:01:06.035285Z"
    },
    "papermill": {
     "duration": 0.130655,
     "end_time": "2022-07-12T10:01:06.037514",
     "exception": false,
     "start_time": "2022-07-12T10:01:05.906859",
     "status": "completed"
    },
    "tags": []
   },
   "outputs": [
    {
     "data": {
      "text/plain": [
       "0.0007864252268651447"
      ]
     },
     "metadata": {},
     "output_type": "display_data"
    }
   ],
   "source": [
    "_min_val = gene_corrs_df.min().min()\n",
    "display(_min_val)\n",
    "assert _min_val >= 0.0"
   ]
  },
  {
   "cell_type": "code",
   "execution_count": 38,
   "id": "d04fb2cf-1050-475b-b855-f5f7cc04092b",
   "metadata": {
    "execution": {
     "iopub.execute_input": "2022-07-12T10:01:06.271558Z",
     "iopub.status.busy": "2022-07-12T10:01:06.271336Z",
     "iopub.status.idle": "2022-07-12T10:01:06.288568Z",
     "shell.execute_reply": "2022-07-12T10:01:06.288165Z"
    },
    "papermill": {
     "duration": 0.131368,
     "end_time": "2022-07-12T10:01:06.289748",
     "exception": false,
     "start_time": "2022-07-12T10:01:06.158380",
     "status": "completed"
    },
    "tags": []
   },
   "outputs": [
    {
     "data": {
      "text/plain": [
       "1.0"
      ]
     },
     "metadata": {},
     "output_type": "display_data"
    }
   ],
   "source": [
    "_max_val = gene_corrs_df.max().max()  # this captures the diagonal\n",
    "display(_max_val)\n",
    "assert _max_val <= 1.0"
   ]
  },
  {
   "cell_type": "code",
   "execution_count": 39,
   "id": "96d02c44-1fba-47be-8a93-8f2608420b9c",
   "metadata": {
    "execution": {
     "iopub.execute_input": "2022-07-12T10:01:06.542569Z",
     "iopub.status.busy": "2022-07-12T10:01:06.541352Z",
     "iopub.status.idle": "2022-07-12T10:01:06.556960Z",
     "shell.execute_reply": "2022-07-12T10:01:06.556444Z"
    },
    "papermill": {
     "duration": 0.153482,
     "end_time": "2022-07-12T10:01:06.558217",
     "exception": false,
     "start_time": "2022-07-12T10:01:06.404735",
     "status": "completed"
    },
    "tags": []
   },
   "outputs": [],
   "source": [
    "# check upper triangular values\n",
    "assert len(gene_corrs) == int(genes_chr.shape[0] * (genes_chr.shape[0] - 1) / 2)"
   ]
  },
  {
   "cell_type": "code",
   "execution_count": 40,
   "id": "aaa51627-f4e3-4744-a41f-7d25adcc0a78",
   "metadata": {
    "execution": {
     "iopub.execute_input": "2022-07-12T10:01:06.779565Z",
     "iopub.status.busy": "2022-07-12T10:01:06.778689Z",
     "iopub.status.idle": "2022-07-12T10:01:06.795357Z",
     "shell.execute_reply": "2022-07-12T10:01:06.794977Z"
    },
    "papermill": {
     "duration": 0.129599,
     "end_time": "2022-07-12T10:01:06.796609",
     "exception": false,
     "start_time": "2022-07-12T10:01:06.667010",
     "status": "completed"
    },
    "tags": []
   },
   "outputs": [],
   "source": [
    "gene_corrs = pd.Series(gene_corrs)"
   ]
  },
  {
   "cell_type": "code",
   "execution_count": 41,
   "id": "fe283586-c348-40e0-8841-f6d97bfb021c",
   "metadata": {
    "execution": {
     "iopub.execute_input": "2022-07-12T10:01:07.017274Z",
     "iopub.status.busy": "2022-07-12T10:01:07.017023Z",
     "iopub.status.idle": "2022-07-12T10:01:07.037629Z",
     "shell.execute_reply": "2022-07-12T10:01:07.037212Z"
    },
    "papermill": {
     "duration": 0.130892,
     "end_time": "2022-07-12T10:01:07.038868",
     "exception": false,
     "start_time": "2022-07-12T10:01:06.907976",
     "status": "completed"
    },
    "tags": []
   },
   "outputs": [
    {
     "data": {
      "text/plain": [
       "count    1891.000000\n",
       "mean        0.016477\n",
       "std         0.037638\n",
       "min         0.000786\n",
       "25%         0.007932\n",
       "50%         0.010932\n",
       "75%         0.014285\n",
       "max         0.545829\n",
       "dtype: float64"
      ]
     },
     "execution_count": 41,
     "metadata": {},
     "output_type": "execute_result"
    }
   ],
   "source": [
    "gene_corrs.describe()"
   ]
  },
  {
   "cell_type": "code",
   "execution_count": 42,
   "id": "b3815678-0f93-4b35-897b-a9d047a2aa78",
   "metadata": {
    "execution": {
     "iopub.execute_input": "2022-07-12T10:01:07.271588Z",
     "iopub.status.busy": "2022-07-12T10:01:07.271318Z",
     "iopub.status.idle": "2022-07-12T10:01:07.288503Z",
     "shell.execute_reply": "2022-07-12T10:01:07.287928Z"
    },
    "papermill": {
     "duration": 0.138022,
     "end_time": "2022-07-12T10:01:07.289713",
     "exception": false,
     "start_time": "2022-07-12T10:01:07.151691",
     "status": "completed"
    },
    "tags": []
   },
   "outputs": [
    {
     "data": {
      "text/plain": [
       "0.00    0.000786\n",
       "0.05    0.004581\n",
       "0.10    0.005690\n",
       "0.15    0.006561\n",
       "0.20    0.007334\n",
       "0.25    0.007932\n",
       "0.30    0.008547\n",
       "0.35    0.009113\n",
       "0.40    0.009733\n",
       "0.45    0.010312\n",
       "0.50    0.010932\n",
       "0.55    0.011487\n",
       "0.60    0.012062\n",
       "0.65    0.012794\n",
       "0.70    0.013513\n",
       "0.75    0.014285\n",
       "0.80    0.015161\n",
       "0.85    0.016546\n",
       "0.90    0.018600\n",
       "0.95    0.023178\n",
       "dtype: float64"
      ]
     },
     "metadata": {},
     "output_type": "display_data"
    }
   ],
   "source": [
    "gene_corrs_quantiles = gene_corrs.quantile(np.arange(0, 1, 0.05))\n",
    "display(gene_corrs_quantiles)"
   ]
  },
  {
   "cell_type": "markdown",
   "id": "8e60a080-edb2-4e9c-b2ef-22961693200c",
   "metadata": {
    "papermill": {
     "duration": 0.115126,
     "end_time": "2022-07-12T10:01:07.540348",
     "exception": false,
     "start_time": "2022-07-12T10:01:07.425222",
     "status": "completed"
    },
    "tags": []
   },
   "source": [
    "## Plot: distribution"
   ]
  },
  {
   "cell_type": "code",
   "execution_count": 43,
   "id": "8301126b-a7d4-4744-9c7d-f0f86eb6f54c",
   "metadata": {
    "execution": {
     "iopub.execute_input": "2022-07-12T10:01:07.763357Z",
     "iopub.status.busy": "2022-07-12T10:01:07.763099Z",
     "iopub.status.idle": "2022-07-12T10:01:08.696291Z",
     "shell.execute_reply": "2022-07-12T10:01:08.695905Z"
    },
    "papermill": {
     "duration": 1.046452,
     "end_time": "2022-07-12T10:01:08.697534",
     "exception": false,
     "start_time": "2022-07-12T10:01:07.651082",
     "status": "completed"
    },
    "tags": []
   },
   "outputs": [
    {
     "data": {
      "image/png": "[encoded data removed]",
      "text/plain": [
       "<Figure size 504x504 with 1 Axes>"
      ]
     },
     "metadata": {
      "needs_background": "light"
     },
     "output_type": "display_data"
    }
   ],
   "source": [
    "with sns.plotting_context(\"paper\", font_scale=1.5):\n",
    "    g = sns.displot(gene_corrs, kde=True, height=7)\n",
    "    g.ax.set_title(\n",
    "        f\"Distribution of gene correlation values in chromosome {chromosome}\"\n",
    "    )"
   ]
  },
  {
   "cell_type": "markdown",
   "id": "cbd52bca-d878-4a2f-b684-5c83aa3038d4",
   "metadata": {
    "papermill": {
     "duration": 0.111407,
     "end_time": "2022-07-12T10:01:08.936168",
     "exception": false,
     "start_time": "2022-07-12T10:01:08.824761",
     "status": "completed"
    },
    "tags": []
   },
   "source": [
    "## Plot: heatmap"
   ]
  },
  {
   "cell_type": "code",
   "execution_count": 44,
   "id": "d03fe63a-c7b2-4fb9-a53c-db362ce843c9",
   "metadata": {
    "execution": {
     "iopub.execute_input": "2022-07-12T10:01:09.154000Z",
     "iopub.status.busy": "2022-07-12T10:01:09.153664Z",
     "iopub.status.idle": "2022-07-12T10:01:09.173509Z",
     "shell.execute_reply": "2022-07-12T10:01:09.173117Z"
    },
    "papermill": {
     "duration": 0.131122,
     "end_time": "2022-07-12T10:01:09.175267",
     "exception": false,
     "start_time": "2022-07-12T10:01:09.044145",
     "status": "completed"
    },
    "tags": []
   },
   "outputs": [
    {
     "data": {
      "text/plain": [
       "'-0.05 / 0.05'"
      ]
     },
     "metadata": {},
     "output_type": "display_data"
    }
   ],
   "source": [
    "vmin_val = min(-0.05, gene_corrs_quantiles[0.10])\n",
    "vmax_val = max(0.05, gene_corrs_quantiles[0.90])\n",
    "display(f\"{vmin_val} / {vmax_val}\")"
   ]
  },
  {
   "cell_type": "code",
   "execution_count": 45,
   "id": "dc41b70b-5bcc-4d9e-9f33-a22c4a94dab5",
   "metadata": {
    "execution": {
     "iopub.execute_input": "2022-07-12T10:01:09.433545Z",
     "iopub.status.busy": "2022-07-12T10:01:09.433386Z",
     "iopub.status.idle": "2022-07-12T10:01:09.569542Z",
     "shell.execute_reply": "2022-07-12T10:01:09.569161Z"
    },
    "papermill": {
     "duration": 0.25979,
     "end_time": "2022-07-12T10:01:09.570868",
     "exception": false,
     "start_time": "2022-07-12T10:01:09.311078",
     "status": "completed"
    },
    "tags": []
   },
   "outputs": [
    {
     "data": {
      "text/plain": [
       "Text(0.5, 1.0, 'Gene correlations in chromosome 21')"
      ]
     },
     "execution_count": 45,
     "metadata": {},
     "output_type": "execute_result"
    },
    {
     "data": {
      "image/png": "[encoded data removed]",
      "text/plain": [
       "<Figure size 720x720 with 2 Axes>"
      ]
     },
     "metadata": {
      "needs_background": "light"
     },
     "output_type": "display_data"
    }
   ],
   "source": [
    "f, ax = plt.subplots(figsize=(10, 10))\n",
    "sns.heatmap(\n",
    "    gene_corrs_df,\n",
    "    xticklabels=False,\n",
    "    yticklabels=False,\n",
    "    square=True,\n",
    "    vmin=vmin_val,\n",
    "    vmax=vmax_val,\n",
    "    cmap=\"YlGnBu\",\n",
    "    ax=ax,\n",
    ")\n",
    "ax.set_title(f\"Gene correlations in chromosome {chromosome}\")"
   ]
  },
  {
   "cell_type": "code",
   "execution_count": null,
   "id": "b25e3ead",
   "metadata": {
    "papermill": {
     "duration": 0.108525,
     "end_time": "2022-07-12T10:01:09.789148",
     "exception": false,
     "start_time": "2022-07-12T10:01:09.680623",
     "status": "completed"
    },
    "tags": []
   },
   "outputs": [],
   "source": []
  }
 ],
 "metadata": {
  "jupytext": {
   "cell_metadata_filter": "all,-execution,-papermill,-trusted",
   "formats": "ipynb,py//py:percent"
  },
  "kernelspec": {
   "display_name": "Python 3 (ipykernel)",
   "language": "python",
   "name": "python3"
  },
  "language_info": {
   "codemirror_mode": {
    "name": "ipython",
    "version": 3
   },
   "file_extension": ".py",
   "mimetype": "text/x-python",
   "name": "python",
   "nbconvert_exporter": "python",
   "pygments_lexer": "ipython3",
   "version": "3.8.13"
  },
  "papermill": {
   "default_parameters": {},
   "duration": 193.50497,
   "end_time": "2022-07-12T10:01:13.014866",
   "environment_variables": {},
   "exception": null,
   "input_path": "nbs/15_gsa_gls/10-gene_expr_correlations.ipynb",
   "output_path": "nbs/15_gsa_gls/gene_corrs/1000g/mashr/10-gene_expr_correlations-chr21.run.ipynb",
   "parameters": {
    "EQTL_MODEL": "MASHR",
    "REFERENCE_PANEL": "1000G",
    "chromosome": 21
   },
   "start_time": "2022-07-12T09:57:59.509896",
   "version": "2.2.2"
  }
 },
 "nbformat": 4,
 "nbformat_minor": 5
}
