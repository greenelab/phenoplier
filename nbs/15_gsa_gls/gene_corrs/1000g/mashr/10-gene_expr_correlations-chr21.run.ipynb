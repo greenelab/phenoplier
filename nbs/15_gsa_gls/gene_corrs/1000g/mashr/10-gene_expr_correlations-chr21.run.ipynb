{
 "cells": [
  {
   "cell_type": "markdown",
   "id": "7a6632fb",
   "metadata": {
    "papermill": {
     "duration": 0.014056,
     "end_time": "2022-07-11T07:47:28.730052",
     "exception": false,
     "start_time": "2022-07-11T07:47:28.715996",
     "status": "completed"
    },
    "tags": []
   },
   "source": [
    "# Description"
   ]
  },
  {
   "cell_type": "markdown",
   "id": "7097c346",
   "metadata": {
    "papermill": {
     "duration": 0.005804,
     "end_time": "2022-07-11T07:47:28.742064",
     "exception": false,
     "start_time": "2022-07-11T07:47:28.736260",
     "status": "completed"
    },
    "tags": []
   },
   "source": [
    "(Please, take a look at the README.md file in this directory for instructions on how to run this notebook)\n",
    "\n",
    "This notebook computes predicted expression correlations between all genes in the MultiPLIER models.\n",
    "\n",
    "It also has a parameter set for papermill to run on a single chromosome to run in parallel (see under `Settings` below).\n",
    "\n",
    "This notebook is not directly run. See README.md."
   ]
  },
  {
   "cell_type": "markdown",
   "id": "c61d8427",
   "metadata": {
    "papermill": {
     "duration": 0.005583,
     "end_time": "2022-07-11T07:47:28.753469",
     "exception": false,
     "start_time": "2022-07-11T07:47:28.747886",
     "status": "completed"
    },
    "tags": []
   },
   "source": [
    "# Modules"
   ]
  },
  {
   "cell_type": "code",
   "execution_count": 1,
   "id": "bbc0234f",
   "metadata": {
    "execution": {
     "iopub.execute_input": "2022-07-11T07:47:28.766184Z",
     "iopub.status.busy": "2022-07-11T07:47:28.765738Z",
     "iopub.status.idle": "2022-07-11T07:47:28.781980Z",
     "shell.execute_reply": "2022-07-11T07:47:28.781549Z"
    },
    "papermill": {
     "duration": 0.024196,
     "end_time": "2022-07-11T07:47:28.783413",
     "exception": false,
     "start_time": "2022-07-11T07:47:28.759217",
     "status": "completed"
    },
    "tags": []
   },
   "outputs": [],
   "source": [
    "%load_ext autoreload\n",
    "%autoreload 2"
   ]
  },
  {
   "cell_type": "code",
   "execution_count": 2,
   "id": "1d5f5a59",
   "metadata": {
    "execution": {
     "iopub.execute_input": "2022-07-11T07:47:28.795950Z",
     "iopub.status.busy": "2022-07-11T07:47:28.795765Z",
     "iopub.status.idle": "2022-07-11T07:47:29.905369Z",
     "shell.execute_reply": "2022-07-11T07:47:29.904946Z"
    },
    "papermill": {
     "duration": 1.11755,
     "end_time": "2022-07-11T07:47:29.906671",
     "exception": false,
     "start_time": "2022-07-11T07:47:28.789121",
     "status": "completed"
    },
    "tags": []
   },
   "outputs": [],
   "source": [
    "from random import sample, seed\n",
    "import warnings\n",
    "from pathlib import Path\n",
    "\n",
    "import numpy as np\n",
    "from scipy.spatial.distance import squareform\n",
    "import pandas as pd\n",
    "from tqdm import tqdm\n",
    "import matplotlib.pyplot as plt\n",
    "import seaborn as sns\n",
    "\n",
    "import conf\n",
    "from entity import Gene"
   ]
  },
  {
   "cell_type": "markdown",
   "id": "1eac24b5",
   "metadata": {
    "papermill": {
     "duration": 0.018188,
     "end_time": "2022-07-11T07:47:29.981670",
     "exception": false,
     "start_time": "2022-07-11T07:47:29.963482",
     "status": "completed"
    },
    "tags": []
   },
   "source": [
    "# Settings"
   ]
  },
  {
   "cell_type": "code",
   "execution_count": 3,
   "id": "ca4560ba",
   "metadata": {
    "execution": {
     "iopub.execute_input": "2022-07-11T07:47:30.006157Z",
     "iopub.status.busy": "2022-07-11T07:47:30.005998Z",
     "iopub.status.idle": "2022-07-11T07:47:30.035744Z",
     "shell.execute_reply": "2022-07-11T07:47:30.032024Z"
    },
    "papermill": {
     "duration": 0.043048,
     "end_time": "2022-07-11T07:47:30.037101",
     "exception": false,
     "start_time": "2022-07-11T07:47:29.994053",
     "status": "completed"
    },
    "tags": [
     "parameters"
    ]
   },
   "outputs": [],
   "source": [
    "# reference panel\n",
    "REFERENCE_PANEL = \"GTEX_V8\"\n",
    "# REFERENCE_PANEL = \"1000G\"\n",
    "\n",
    "# prediction models\n",
    "## mashr\n",
    "EQTL_MODEL = \"MASHR\"\n",
    "\n",
    "# this is the default value used in S-MultiXcan to select the\n",
    "# top principal components of the expression correlation matrix\n",
    "SMULTIXCAN_CONDITION_NUMBER = 30\n",
    "\n",
    "# specifies a single chromosome value\n",
    "# by default, run on all chromosomes\n",
    "chromosome = None"
   ]
  },
  {
   "cell_type": "code",
   "execution_count": 4,
   "id": "d2a566e8",
   "metadata": {
    "execution": {
     "iopub.execute_input": "2022-07-11T07:47:30.057227Z",
     "iopub.status.busy": "2022-07-11T07:47:30.057060Z",
     "iopub.status.idle": "2022-07-11T07:47:30.071674Z",
     "shell.execute_reply": "2022-07-11T07:47:30.071256Z"
    },
    "papermill": {
     "duration": 0.027722,
     "end_time": "2022-07-11T07:47:30.073184",
     "exception": false,
     "start_time": "2022-07-11T07:47:30.045462",
     "status": "completed"
    },
    "tags": [
     "injected-parameters"
    ]
   },
   "outputs": [],
   "source": [
    "# Parameters\n",
    "chromosome = 21\n",
    "REFERENCE_PANEL = \"1000G\"\n",
    "EQTL_MODEL = \"MASHR\"\n"
   ]
  },
  {
   "cell_type": "code",
   "execution_count": 5,
   "id": "a089c9ff",
   "metadata": {
    "execution": {
     "iopub.execute_input": "2022-07-11T07:47:30.096321Z",
     "iopub.status.busy": "2022-07-11T07:47:30.096163Z",
     "iopub.status.idle": "2022-07-11T07:47:30.116753Z",
     "shell.execute_reply": "2022-07-11T07:47:30.116370Z"
    },
    "papermill": {
     "duration": 0.0359,
     "end_time": "2022-07-11T07:47:30.117998",
     "exception": false,
     "start_time": "2022-07-11T07:47:30.082098",
     "status": "completed"
    },
    "tags": []
   },
   "outputs": [],
   "source": [
    "EQTL_MODEL_FILES_PREFIX = conf.PHENOMEXCAN[\"PREDICTION_MODELS\"][f\"{EQTL_MODEL}_PREFIX\"]"
   ]
  },
  {
   "cell_type": "code",
   "execution_count": 6,
   "id": "8fe24bef",
   "metadata": {
    "execution": {
     "iopub.execute_input": "2022-07-11T07:47:30.145616Z",
     "iopub.status.busy": "2022-07-11T07:47:30.144625Z",
     "iopub.status.idle": "2022-07-11T07:47:30.167122Z",
     "shell.execute_reply": "2022-07-11T07:47:30.166515Z"
    },
    "papermill": {
     "duration": 0.03663,
     "end_time": "2022-07-11T07:47:30.168472",
     "exception": false,
     "start_time": "2022-07-11T07:47:30.131842",
     "status": "completed"
    },
    "tags": []
   },
   "outputs": [
    {
     "data": {
      "text/plain": [
       "'Using eQTL model: MASHR / mashr_'"
      ]
     },
     "metadata": {},
     "output_type": "display_data"
    }
   ],
   "source": [
    "display(f\"Using eQTL model: {EQTL_MODEL} / {EQTL_MODEL_FILES_PREFIX}\")"
   ]
  },
  {
   "cell_type": "code",
   "execution_count": 7,
   "id": "552a7f63-a18c-4d3e-bb6a-94f99b431291",
   "metadata": {
    "execution": {
     "iopub.execute_input": "2022-07-11T07:47:30.181065Z",
     "iopub.status.busy": "2022-07-11T07:47:30.180764Z",
     "iopub.status.idle": "2022-07-11T07:47:30.204493Z",
     "shell.execute_reply": "2022-07-11T07:47:30.204085Z"
    },
    "papermill": {
     "duration": 0.031542,
     "end_time": "2022-07-11T07:47:30.205754",
     "exception": false,
     "start_time": "2022-07-11T07:47:30.174212",
     "status": "completed"
    },
    "tags": []
   },
   "outputs": [
    {
     "data": {
      "text/plain": [
       "'S-MultiXcan condition number: 30'"
      ]
     },
     "metadata": {},
     "output_type": "display_data"
    }
   ],
   "source": [
    "display(f\"S-MultiXcan condition number: {SMULTIXCAN_CONDITION_NUMBER}\")"
   ]
  },
  {
   "cell_type": "code",
   "execution_count": 8,
   "id": "0230ebcb-2c32-4b95-9292-d9a52038e70d",
   "metadata": {
    "execution": {
     "iopub.execute_input": "2022-07-11T07:47:30.227927Z",
     "iopub.status.busy": "2022-07-11T07:47:30.227765Z",
     "iopub.status.idle": "2022-07-11T07:47:30.241342Z",
     "shell.execute_reply": "2022-07-11T07:47:30.240952Z"
    },
    "papermill": {
     "duration": 0.027414,
     "end_time": "2022-07-11T07:47:30.242558",
     "exception": false,
     "start_time": "2022-07-11T07:47:30.215144",
     "status": "completed"
    },
    "tags": []
   },
   "outputs": [],
   "source": [
    "REFERENCE_PANEL_DIR = conf.PHENOMEXCAN[\"LD_BLOCKS\"][f\"{REFERENCE_PANEL}_GENOTYPE_DIR\"]"
   ]
  },
  {
   "cell_type": "code",
   "execution_count": 9,
   "id": "98c4a159-601d-4a22-a1ab-35bd451c25f9",
   "metadata": {
    "execution": {
     "iopub.execute_input": "2022-07-11T07:47:30.263765Z",
     "iopub.status.busy": "2022-07-11T07:47:30.263453Z",
     "iopub.status.idle": "2022-07-11T07:47:30.279933Z",
     "shell.execute_reply": "2022-07-11T07:47:30.279479Z"
    },
    "papermill": {
     "duration": 0.029968,
     "end_time": "2022-07-11T07:47:30.281418",
     "exception": false,
     "start_time": "2022-07-11T07:47:30.251450",
     "status": "completed"
    },
    "tags": []
   },
   "outputs": [
    {
     "data": {
      "text/plain": [
       "'Using reference panel folder: /opt/data/data/phenomexcan/ld_blocks/reference_panel_1000G'"
      ]
     },
     "metadata": {},
     "output_type": "display_data"
    }
   ],
   "source": [
    "display(f\"Using reference panel folder: {str(REFERENCE_PANEL_DIR)}\")"
   ]
  },
  {
   "cell_type": "code",
   "execution_count": 10,
   "id": "396392dc-0340-4540-9b02-e182b833f909",
   "metadata": {
    "execution": {
     "iopub.execute_input": "2022-07-11T07:47:30.294472Z",
     "iopub.status.busy": "2022-07-11T07:47:30.294314Z",
     "iopub.status.idle": "2022-07-11T07:47:30.309822Z",
     "shell.execute_reply": "2022-07-11T07:47:30.309431Z"
    },
    "papermill": {
     "duration": 0.02349,
     "end_time": "2022-07-11T07:47:30.311258",
     "exception": false,
     "start_time": "2022-07-11T07:47:30.287768",
     "status": "completed"
    },
    "tags": []
   },
   "outputs": [],
   "source": [
    "OUTPUT_DIR_BASE = (\n",
    "    conf.PHENOMEXCAN[\"LD_BLOCKS\"][f\"GENE_CORRS_DIR\"]\n",
    "    / REFERENCE_PANEL.lower()\n",
    "    / EQTL_MODEL.lower()\n",
    ")\n",
    "OUTPUT_DIR_BASE.mkdir(parents=True, exist_ok=True)"
   ]
  },
  {
   "cell_type": "code",
   "execution_count": 11,
   "id": "8942c2d3-e53c-4d63-a0eb-b6fce0574d36",
   "metadata": {
    "execution": {
     "iopub.execute_input": "2022-07-11T07:47:30.324056Z",
     "iopub.status.busy": "2022-07-11T07:47:30.323897Z",
     "iopub.status.idle": "2022-07-11T07:47:30.340396Z",
     "shell.execute_reply": "2022-07-11T07:47:30.340004Z"
    },
    "papermill": {
     "duration": 0.024324,
     "end_time": "2022-07-11T07:47:30.341770",
     "exception": false,
     "start_time": "2022-07-11T07:47:30.317446",
     "status": "completed"
    },
    "tags": []
   },
   "outputs": [
    {
     "data": {
      "text/plain": [
       "'Using output dir base: /opt/data/data/phenomexcan/ld_blocks/gene_corrs/1000g/mashr'"
      ]
     },
     "metadata": {},
     "output_type": "display_data"
    }
   ],
   "source": [
    "display(f\"Using output dir base: {OUTPUT_DIR_BASE}\")"
   ]
  },
  {
   "cell_type": "code",
   "execution_count": 12,
   "id": "408aa590",
   "metadata": {
    "execution": {
     "iopub.execute_input": "2022-07-11T07:47:30.354775Z",
     "iopub.status.busy": "2022-07-11T07:47:30.354617Z",
     "iopub.status.idle": "2022-07-11T07:47:30.370184Z",
     "shell.execute_reply": "2022-07-11T07:47:30.369784Z"
    },
    "papermill": {
     "duration": 0.023614,
     "end_time": "2022-07-11T07:47:30.371634",
     "exception": false,
     "start_time": "2022-07-11T07:47:30.348020",
     "status": "completed"
    },
    "tags": []
   },
   "outputs": [],
   "source": [
    "assert (\n",
    "    chromosome is not None\n",
    "), \"You have to select one chromosome (format: number between 1 and 22)\""
   ]
  },
  {
   "cell_type": "code",
   "execution_count": 13,
   "id": "c1c7dd06-80ff-453c-bcb7-0899edce75da",
   "metadata": {
    "execution": {
     "iopub.execute_input": "2022-07-11T07:47:30.394344Z",
     "iopub.status.busy": "2022-07-11T07:47:30.394187Z",
     "iopub.status.idle": "2022-07-11T07:47:30.417178Z",
     "shell.execute_reply": "2022-07-11T07:47:30.416796Z"
    },
    "papermill": {
     "duration": 0.036721,
     "end_time": "2022-07-11T07:47:30.418520",
     "exception": false,
     "start_time": "2022-07-11T07:47:30.381799",
     "status": "completed"
    },
    "tags": []
   },
   "outputs": [],
   "source": [
    "chromosome = str(chromosome)"
   ]
  },
  {
   "cell_type": "code",
   "execution_count": 14,
   "id": "bc17b84c-9c26-47a5-a3ab-7046e72f3ef4",
   "metadata": {
    "execution": {
     "iopub.execute_input": "2022-07-11T07:47:30.440447Z",
     "iopub.status.busy": "2022-07-11T07:47:30.440290Z",
     "iopub.status.idle": "2022-07-11T07:47:30.457093Z",
     "shell.execute_reply": "2022-07-11T07:47:30.456644Z"
    },
    "papermill": {
     "duration": 0.030286,
     "end_time": "2022-07-11T07:47:30.458300",
     "exception": false,
     "start_time": "2022-07-11T07:47:30.428014",
     "status": "completed"
    },
    "tags": []
   },
   "outputs": [
    {
     "data": {
      "text/plain": [
       "'Working on chromosome 21'"
      ]
     },
     "metadata": {},
     "output_type": "display_data"
    }
   ],
   "source": [
    "display(f\"Working on chromosome {chromosome}\")"
   ]
  },
  {
   "cell_type": "markdown",
   "id": "d2ba085e",
   "metadata": {
    "papermill": {
     "duration": 0.005823,
     "end_time": "2022-07-11T07:47:30.470154",
     "exception": false,
     "start_time": "2022-07-11T07:47:30.464331",
     "status": "completed"
    },
    "tags": []
   },
   "source": [
    "# Load data"
   ]
  },
  {
   "cell_type": "markdown",
   "id": "7bed0ce0-e7c7-4300-9a61-5412450b1904",
   "metadata": {
    "papermill": {
     "duration": 0.005829,
     "end_time": "2022-07-11T07:47:30.482830",
     "exception": false,
     "start_time": "2022-07-11T07:47:30.477001",
     "status": "completed"
    },
    "tags": []
   },
   "source": [
    "## Prediction model tissues"
   ]
  },
  {
   "cell_type": "code",
   "execution_count": 15,
   "id": "0847c065-0d69-4830-a07f-1c75115d17f5",
   "metadata": {
    "execution": {
     "iopub.execute_input": "2022-07-11T07:47:30.496903Z",
     "iopub.status.busy": "2022-07-11T07:47:30.496705Z",
     "iopub.status.idle": "2022-07-11T07:47:30.520580Z",
     "shell.execute_reply": "2022-07-11T07:47:30.520185Z"
    },
    "papermill": {
     "duration": 0.032068,
     "end_time": "2022-07-11T07:47:30.521995",
     "exception": false,
     "start_time": "2022-07-11T07:47:30.489927",
     "status": "completed"
    },
    "tags": []
   },
   "outputs": [],
   "source": [
    "prediction_model_tissues = conf.PHENOMEXCAN[\"PREDICTION_MODELS\"][\n",
    "    f\"{EQTL_MODEL}_TISSUES\"\n",
    "].split(\" \")"
   ]
  },
  {
   "cell_type": "code",
   "execution_count": 16,
   "id": "aaef70d1-30c6-4c6f-9d6b-abc8e9a0081f",
   "metadata": {
    "execution": {
     "iopub.execute_input": "2022-07-11T07:47:30.534983Z",
     "iopub.status.busy": "2022-07-11T07:47:30.534826Z",
     "iopub.status.idle": "2022-07-11T07:47:30.550956Z",
     "shell.execute_reply": "2022-07-11T07:47:30.550565Z"
    },
    "papermill": {
     "duration": 0.024117,
     "end_time": "2022-07-11T07:47:30.552431",
     "exception": false,
     "start_time": "2022-07-11T07:47:30.528314",
     "status": "completed"
    },
    "tags": []
   },
   "outputs": [
    {
     "data": {
      "text/plain": [
       "49"
      ]
     },
     "execution_count": 16,
     "metadata": {},
     "output_type": "execute_result"
    }
   ],
   "source": [
    "len(prediction_model_tissues)"
   ]
  },
  {
   "cell_type": "code",
   "execution_count": 17,
   "id": "ff35a099-c52d-465d-b863-0ee70c26208c",
   "metadata": {
    "execution": {
     "iopub.execute_input": "2022-07-11T07:47:30.567147Z",
     "iopub.status.busy": "2022-07-11T07:47:30.566987Z",
     "iopub.status.idle": "2022-07-11T07:47:30.583425Z",
     "shell.execute_reply": "2022-07-11T07:47:30.583039Z"
    },
    "papermill": {
     "duration": 0.024665,
     "end_time": "2022-07-11T07:47:30.584803",
     "exception": false,
     "start_time": "2022-07-11T07:47:30.560138",
     "status": "completed"
    },
    "tags": []
   },
   "outputs": [
    {
     "data": {
      "text/plain": [
       "['Skin_Not_Sun_Exposed_Suprapubic',\n",
       " 'Cells_EBV-transformed_lymphocytes',\n",
       " 'Brain_Frontal_Cortex_BA9',\n",
       " 'Kidney_Cortex',\n",
       " 'Brain_Substantia_nigra']"
      ]
     },
     "execution_count": 17,
     "metadata": {},
     "output_type": "execute_result"
    }
   ],
   "source": [
    "prediction_model_tissues[:5]"
   ]
  },
  {
   "cell_type": "markdown",
   "id": "abcc4b3d",
   "metadata": {
    "papermill": {
     "duration": 0.017943,
     "end_time": "2022-07-11T07:47:30.613129",
     "exception": false,
     "start_time": "2022-07-11T07:47:30.595186",
     "status": "completed"
    },
    "tags": []
   },
   "source": [
    "## MultiPLIER Z"
   ]
  },
  {
   "cell_type": "code",
   "execution_count": 18,
   "id": "c48ef527",
   "metadata": {
    "execution": {
     "iopub.execute_input": "2022-07-11T07:47:30.640211Z",
     "iopub.status.busy": "2022-07-11T07:47:30.640051Z",
     "iopub.status.idle": "2022-07-11T07:47:30.680781Z",
     "shell.execute_reply": "2022-07-11T07:47:30.680364Z"
    },
    "papermill": {
     "duration": 0.056233,
     "end_time": "2022-07-11T07:47:30.682293",
     "exception": false,
     "start_time": "2022-07-11T07:47:30.626060",
     "status": "completed"
    },
    "tags": []
   },
   "outputs": [],
   "source": [
    "multiplier_z_genes = pd.read_pickle(\n",
    "    conf.MULTIPLIER[\"MODEL_Z_MATRIX_FILE\"]\n",
    ").index.tolist()"
   ]
  },
  {
   "cell_type": "code",
   "execution_count": 19,
   "id": "0a4ecbd9",
   "metadata": {
    "execution": {
     "iopub.execute_input": "2022-07-11T07:47:30.697641Z",
     "iopub.status.busy": "2022-07-11T07:47:30.696580Z",
     "iopub.status.idle": "2022-07-11T07:47:30.713797Z",
     "shell.execute_reply": "2022-07-11T07:47:30.713361Z"
    },
    "papermill": {
     "duration": 0.026326,
     "end_time": "2022-07-11T07:47:30.715358",
     "exception": false,
     "start_time": "2022-07-11T07:47:30.689032",
     "status": "completed"
    },
    "tags": []
   },
   "outputs": [
    {
     "data": {
      "text/plain": [
       "6750"
      ]
     },
     "execution_count": 19,
     "metadata": {},
     "output_type": "execute_result"
    }
   ],
   "source": [
    "len(multiplier_z_genes)"
   ]
  },
  {
   "cell_type": "code",
   "execution_count": 20,
   "id": "115e8864",
   "metadata": {
    "execution": {
     "iopub.execute_input": "2022-07-11T07:47:30.744682Z",
     "iopub.status.busy": "2022-07-11T07:47:30.744523Z",
     "iopub.status.idle": "2022-07-11T07:47:30.761239Z",
     "shell.execute_reply": "2022-07-11T07:47:30.760828Z"
    },
    "papermill": {
     "duration": 0.029966,
     "end_time": "2022-07-11T07:47:30.762716",
     "exception": false,
     "start_time": "2022-07-11T07:47:30.732750",
     "status": "completed"
    },
    "tags": []
   },
   "outputs": [
    {
     "data": {
      "text/plain": [
       "['GAS6',\n",
       " 'MMP14',\n",
       " 'DSP',\n",
       " 'MARCKSL1',\n",
       " 'SPARC',\n",
       " 'CTSD',\n",
       " 'EPAS1',\n",
       " 'PALLD',\n",
       " 'PHC2',\n",
       " 'LGALS3BP']"
      ]
     },
     "execution_count": 20,
     "metadata": {},
     "output_type": "execute_result"
    }
   ],
   "source": [
    "multiplier_z_genes[:10]"
   ]
  },
  {
   "cell_type": "markdown",
   "id": "7dcb8db7",
   "metadata": {
    "papermill": {
     "duration": 0.006453,
     "end_time": "2022-07-11T07:47:30.784858",
     "exception": false,
     "start_time": "2022-07-11T07:47:30.778405",
     "status": "completed"
    },
    "tags": []
   },
   "source": [
    "## Get gene objects"
   ]
  },
  {
   "cell_type": "code",
   "execution_count": 21,
   "id": "bb932812",
   "metadata": {
    "execution": {
     "iopub.execute_input": "2022-07-11T07:47:30.799471Z",
     "iopub.status.busy": "2022-07-11T07:47:30.799259Z",
     "iopub.status.idle": "2022-07-11T07:47:30.820191Z",
     "shell.execute_reply": "2022-07-11T07:47:30.819652Z"
    },
    "papermill": {
     "duration": 0.02993,
     "end_time": "2022-07-11T07:47:30.821654",
     "exception": false,
     "start_time": "2022-07-11T07:47:30.791724",
     "status": "completed"
    },
    "tags": []
   },
   "outputs": [],
   "source": [
    "multiplier_gene_obj = {\n",
    "    gene_name: Gene(name=gene_name)\n",
    "    for gene_name in multiplier_z_genes\n",
    "    if gene_name in Gene.GENE_NAME_TO_ID_MAP\n",
    "}"
   ]
  },
  {
   "cell_type": "code",
   "execution_count": 22,
   "id": "39533214",
   "metadata": {
    "execution": {
     "iopub.execute_input": "2022-07-11T07:47:30.836204Z",
     "iopub.status.busy": "2022-07-11T07:47:30.836036Z",
     "iopub.status.idle": "2022-07-11T07:47:30.852124Z",
     "shell.execute_reply": "2022-07-11T07:47:30.851605Z"
    },
    "papermill": {
     "duration": 0.024948,
     "end_time": "2022-07-11T07:47:30.853506",
     "exception": false,
     "start_time": "2022-07-11T07:47:30.828558",
     "status": "completed"
    },
    "tags": []
   },
   "outputs": [
    {
     "data": {
      "text/plain": [
       "6454"
      ]
     },
     "execution_count": 22,
     "metadata": {},
     "output_type": "execute_result"
    }
   ],
   "source": [
    "len(multiplier_gene_obj)"
   ]
  },
  {
   "cell_type": "code",
   "execution_count": 23,
   "id": "9a5d0b84",
   "metadata": {
    "execution": {
     "iopub.execute_input": "2022-07-11T07:47:30.868250Z",
     "iopub.status.busy": "2022-07-11T07:47:30.868083Z",
     "iopub.status.idle": "2022-07-11T07:47:30.888193Z",
     "shell.execute_reply": "2022-07-11T07:47:30.887797Z"
    },
    "papermill": {
     "duration": 0.028844,
     "end_time": "2022-07-11T07:47:30.889394",
     "exception": false,
     "start_time": "2022-07-11T07:47:30.860550",
     "status": "completed"
    },
    "tags": []
   },
   "outputs": [
    {
     "data": {
      "text/plain": [
       "'ENSG00000183087'"
      ]
     },
     "execution_count": 23,
     "metadata": {},
     "output_type": "execute_result"
    }
   ],
   "source": [
    "multiplier_gene_obj[\"GAS6\"].ensembl_id"
   ]
  },
  {
   "cell_type": "code",
   "execution_count": 24,
   "id": "e3ffabc7",
   "metadata": {
    "execution": {
     "iopub.execute_input": "2022-07-11T07:47:30.916111Z",
     "iopub.status.busy": "2022-07-11T07:47:30.915954Z",
     "iopub.status.idle": "2022-07-11T07:47:33.136081Z",
     "shell.execute_reply": "2022-07-11T07:47:33.135687Z"
    },
    "papermill": {
     "duration": 2.236628,
     "end_time": "2022-07-11T07:47:33.137342",
     "exception": false,
     "start_time": "2022-07-11T07:47:30.900714",
     "status": "completed"
    },
    "tags": []
   },
   "outputs": [],
   "source": [
    "_gene_obj = list(multiplier_gene_obj.values())\n",
    "\n",
    "genes_info = pd.DataFrame(\n",
    "    {\n",
    "        \"name\": [g.name for g in _gene_obj],\n",
    "        \"id\": [g.ensembl_id for g in _gene_obj],\n",
    "        \"chr\": [g.chromosome for g in _gene_obj],\n",
    "        \"band\": [g.band for g in _gene_obj],\n",
    "        \"start_position\": [g.get_attribute(\"start_position\") for g in _gene_obj],\n",
    "    }\n",
    ")"
   ]
  },
  {
   "cell_type": "code",
   "execution_count": 25,
   "id": "e23519b8",
   "metadata": {
    "execution": {
     "iopub.execute_input": "2022-07-11T07:47:33.163663Z",
     "iopub.status.busy": "2022-07-11T07:47:33.163456Z",
     "iopub.status.idle": "2022-07-11T07:47:33.186756Z",
     "shell.execute_reply": "2022-07-11T07:47:33.186370Z"
    },
    "papermill": {
     "duration": 0.035813,
     "end_time": "2022-07-11T07:47:33.187946",
     "exception": false,
     "start_time": "2022-07-11T07:47:33.152133",
     "status": "completed"
    },
    "tags": []
   },
   "outputs": [
    {
     "data": {
      "text/plain": [
       "(6454, 5)"
      ]
     },
     "execution_count": 25,
     "metadata": {},
     "output_type": "execute_result"
    }
   ],
   "source": [
    "genes_info.shape"
   ]
  },
  {
   "cell_type": "code",
   "execution_count": 26,
   "id": "0d71881c",
   "metadata": {
    "execution": {
     "iopub.execute_input": "2022-07-11T07:47:33.206374Z",
     "iopub.status.busy": "2022-07-11T07:47:33.205951Z",
     "iopub.status.idle": "2022-07-11T07:47:33.225555Z",
     "shell.execute_reply": "2022-07-11T07:47:33.225082Z"
    },
    "papermill": {
     "duration": 0.028616,
     "end_time": "2022-07-11T07:47:33.226829",
     "exception": false,
     "start_time": "2022-07-11T07:47:33.198213",
     "status": "completed"
    },
    "tags": []
   },
   "outputs": [
    {
     "data": {
      "text/html": [
       "<div>\n",
       "<style scoped>\n",
       "    .dataframe tbody tr th:only-of-type {\n",
       "        vertical-align: middle;\n",
       "    }\n",
       "\n",
       "    .dataframe tbody tr th {\n",
       "        vertical-align: top;\n",
       "    }\n",
       "\n",
       "    .dataframe thead th {\n",
       "        text-align: right;\n",
       "    }\n",
       "</style>\n",
       "<table border=\"1\" class=\"dataframe\">\n",
       "  <thead>\n",
       "    <tr style=\"text-align: right;\">\n",
       "      <th></th>\n",
       "      <th>name</th>\n",
       "      <th>id</th>\n",
       "      <th>chr</th>\n",
       "      <th>band</th>\n",
       "      <th>start_position</th>\n",
       "    </tr>\n",
       "  </thead>\n",
       "  <tbody>\n",
       "    <tr>\n",
       "      <th>0</th>\n",
       "      <td>GAS6</td>\n",
       "      <td>ENSG00000183087</td>\n",
       "      <td>13</td>\n",
       "      <td>13q34</td>\n",
       "      <td>113820549.0</td>\n",
       "    </tr>\n",
       "    <tr>\n",
       "      <th>1</th>\n",
       "      <td>MMP14</td>\n",
       "      <td>ENSG00000157227</td>\n",
       "      <td>14</td>\n",
       "      <td>14q11.2</td>\n",
       "      <td>22836560.0</td>\n",
       "    </tr>\n",
       "    <tr>\n",
       "      <th>2</th>\n",
       "      <td>DSP</td>\n",
       "      <td>ENSG00000096696</td>\n",
       "      <td>6</td>\n",
       "      <td>6p24.3</td>\n",
       "      <td>7541617.0</td>\n",
       "    </tr>\n",
       "    <tr>\n",
       "      <th>3</th>\n",
       "      <td>MARCKSL1</td>\n",
       "      <td>ENSG00000175130</td>\n",
       "      <td>1</td>\n",
       "      <td>1p35.1</td>\n",
       "      <td>32333839.0</td>\n",
       "    </tr>\n",
       "    <tr>\n",
       "      <th>4</th>\n",
       "      <td>SPARC</td>\n",
       "      <td>ENSG00000113140</td>\n",
       "      <td>5</td>\n",
       "      <td>5q33.1</td>\n",
       "      <td>151661096.0</td>\n",
       "    </tr>\n",
       "  </tbody>\n",
       "</table>\n",
       "</div>"
      ],
      "text/plain": [
       "       name               id chr     band  start_position\n",
       "0      GAS6  ENSG00000183087  13    13q34     113820549.0\n",
       "1     MMP14  ENSG00000157227  14  14q11.2      22836560.0\n",
       "2       DSP  ENSG00000096696   6   6p24.3       7541617.0\n",
       "3  MARCKSL1  ENSG00000175130   1   1p35.1      32333839.0\n",
       "4     SPARC  ENSG00000113140   5   5q33.1     151661096.0"
      ]
     },
     "execution_count": 26,
     "metadata": {},
     "output_type": "execute_result"
    }
   ],
   "source": [
    "genes_info.head()"
   ]
  },
  {
   "cell_type": "markdown",
   "id": "c8d1038f",
   "metadata": {
    "papermill": {
     "duration": 0.00682,
     "end_time": "2022-07-11T07:47:33.240833",
     "exception": false,
     "start_time": "2022-07-11T07:47:33.234013",
     "status": "completed"
    },
    "tags": []
   },
   "source": [
    "# Test"
   ]
  },
  {
   "cell_type": "code",
   "execution_count": 27,
   "id": "64993abf",
   "metadata": {
    "execution": {
     "iopub.execute_input": "2022-07-11T07:47:33.256805Z",
     "iopub.status.busy": "2022-07-11T07:47:33.256444Z",
     "iopub.status.idle": "2022-07-11T07:47:33.279750Z",
     "shell.execute_reply": "2022-07-11T07:47:33.279282Z"
    },
    "papermill": {
     "duration": 0.033268,
     "end_time": "2022-07-11T07:47:33.281028",
     "exception": false,
     "start_time": "2022-07-11T07:47:33.247760",
     "status": "completed"
    },
    "tags": []
   },
   "outputs": [
    {
     "data": {
      "text/html": [
       "<div>\n",
       "<style scoped>\n",
       "    .dataframe tbody tr th:only-of-type {\n",
       "        vertical-align: middle;\n",
       "    }\n",
       "\n",
       "    .dataframe tbody tr th {\n",
       "        vertical-align: top;\n",
       "    }\n",
       "\n",
       "    .dataframe thead th {\n",
       "        text-align: right;\n",
       "    }\n",
       "</style>\n",
       "<table border=\"1\" class=\"dataframe\">\n",
       "  <thead>\n",
       "    <tr style=\"text-align: right;\">\n",
       "      <th></th>\n",
       "      <th>name</th>\n",
       "      <th>id</th>\n",
       "      <th>chr</th>\n",
       "      <th>band</th>\n",
       "      <th>start_position</th>\n",
       "    </tr>\n",
       "  </thead>\n",
       "  <tbody>\n",
       "    <tr>\n",
       "      <th>17</th>\n",
       "      <td>CSTB</td>\n",
       "      <td>ENSG00000160213</td>\n",
       "      <td>21</td>\n",
       "      <td>21q22.3</td>\n",
       "      <td>43772511.0</td>\n",
       "    </tr>\n",
       "    <tr>\n",
       "      <th>21</th>\n",
       "      <td>ETS2</td>\n",
       "      <td>ENSG00000157557</td>\n",
       "      <td>21</td>\n",
       "      <td>21q22.2</td>\n",
       "      <td>38805307.0</td>\n",
       "    </tr>\n",
       "    <tr>\n",
       "      <th>46</th>\n",
       "      <td>MX1</td>\n",
       "      <td>ENSG00000157601</td>\n",
       "      <td>21</td>\n",
       "      <td>21q22.3</td>\n",
       "      <td>41420304.0</td>\n",
       "    </tr>\n",
       "    <tr>\n",
       "      <th>126</th>\n",
       "      <td>ADARB1</td>\n",
       "      <td>ENSG00000197381</td>\n",
       "      <td>21</td>\n",
       "      <td>21q22.3</td>\n",
       "      <td>45073853.0</td>\n",
       "    </tr>\n",
       "    <tr>\n",
       "      <th>202</th>\n",
       "      <td>CBR3</td>\n",
       "      <td>ENSG00000159231</td>\n",
       "      <td>21</td>\n",
       "      <td>21q22.12</td>\n",
       "      <td>36135079.0</td>\n",
       "    </tr>\n",
       "    <tr>\n",
       "      <th>...</th>\n",
       "      <td>...</td>\n",
       "      <td>...</td>\n",
       "      <td>...</td>\n",
       "      <td>...</td>\n",
       "      <td>...</td>\n",
       "    </tr>\n",
       "    <tr>\n",
       "      <th>5589</th>\n",
       "      <td>TFF3</td>\n",
       "      <td>ENSG00000160180</td>\n",
       "      <td>21</td>\n",
       "      <td>21q22.3</td>\n",
       "      <td>42311667.0</td>\n",
       "    </tr>\n",
       "    <tr>\n",
       "      <th>5675</th>\n",
       "      <td>DYRK1A</td>\n",
       "      <td>ENSG00000157540</td>\n",
       "      <td>21</td>\n",
       "      <td>21q22.13</td>\n",
       "      <td>37365573.0</td>\n",
       "    </tr>\n",
       "    <tr>\n",
       "      <th>5997</th>\n",
       "      <td>COL18A1</td>\n",
       "      <td>ENSG00000182871</td>\n",
       "      <td>21</td>\n",
       "      <td>21q22.3</td>\n",
       "      <td>45405137.0</td>\n",
       "    </tr>\n",
       "    <tr>\n",
       "      <th>6019</th>\n",
       "      <td>SLC5A3</td>\n",
       "      <td>ENSG00000198743</td>\n",
       "      <td>21</td>\n",
       "      <td>21q22.11</td>\n",
       "      <td>34073578.0</td>\n",
       "    </tr>\n",
       "    <tr>\n",
       "      <th>6182</th>\n",
       "      <td>RCAN1</td>\n",
       "      <td>ENSG00000159200</td>\n",
       "      <td>21</td>\n",
       "      <td>21q22.12</td>\n",
       "      <td>34513142.0</td>\n",
       "    </tr>\n",
       "  </tbody>\n",
       "</table>\n",
       "<p>62 rows × 5 columns</p>\n",
       "</div>"
      ],
      "text/plain": [
       "         name               id chr      band  start_position\n",
       "17       CSTB  ENSG00000160213  21   21q22.3      43772511.0\n",
       "21       ETS2  ENSG00000157557  21   21q22.2      38805307.0\n",
       "46        MX1  ENSG00000157601  21   21q22.3      41420304.0\n",
       "126    ADARB1  ENSG00000197381  21   21q22.3      45073853.0\n",
       "202      CBR3  ENSG00000159231  21  21q22.12      36135079.0\n",
       "...       ...              ...  ..       ...             ...\n",
       "5589     TFF3  ENSG00000160180  21   21q22.3      42311667.0\n",
       "5675   DYRK1A  ENSG00000157540  21  21q22.13      37365573.0\n",
       "5997  COL18A1  ENSG00000182871  21   21q22.3      45405137.0\n",
       "6019   SLC5A3  ENSG00000198743  21  21q22.11      34073578.0\n",
       "6182    RCAN1  ENSG00000159200  21  21q22.12      34513142.0\n",
       "\n",
       "[62 rows x 5 columns]"
      ]
     },
     "metadata": {},
     "output_type": "display_data"
    }
   ],
   "source": [
    "chromosome_genes_info = genes_info[genes_info[\"chr\"] == chromosome]\n",
    "display(chromosome_genes_info)"
   ]
  },
  {
   "cell_type": "code",
   "execution_count": 28,
   "id": "d2e42726-7de6-46eb-acfc-6323eaa8fae6",
   "metadata": {
    "execution": {
     "iopub.execute_input": "2022-07-11T07:47:33.296190Z",
     "iopub.status.busy": "2022-07-11T07:47:33.295845Z",
     "iopub.status.idle": "2022-07-11T07:47:33.312389Z",
     "shell.execute_reply": "2022-07-11T07:47:33.311987Z"
    },
    "papermill": {
     "duration": 0.025252,
     "end_time": "2022-07-11T07:47:33.313683",
     "exception": false,
     "start_time": "2022-07-11T07:47:33.288431",
     "status": "completed"
    },
    "tags": []
   },
   "outputs": [
    {
     "data": {
      "text/plain": [
       "5"
      ]
     },
     "metadata": {},
     "output_type": "display_data"
    }
   ],
   "source": [
    "seed(0)\n",
    "_gene_list_ids = sample(chromosome_genes_info[\"id\"].tolist(), 5)\n",
    "selected_chromosome_genes_obj = [Gene(ensembl_id=g_id) for g_id in _gene_list_ids]\n",
    "display(len(selected_chromosome_genes_obj))"
   ]
  },
  {
   "cell_type": "code",
   "execution_count": 29,
   "id": "1b355359",
   "metadata": {
    "execution": {
     "iopub.execute_input": "2022-07-11T07:47:33.330230Z",
     "iopub.status.busy": "2022-07-11T07:47:33.329809Z",
     "iopub.status.idle": "2022-07-11T07:47:35.147211Z",
     "shell.execute_reply": "2022-07-11T07:47:35.146826Z"
    },
    "papermill": {
     "duration": 1.827055,
     "end_time": "2022-07-11T07:47:35.148530",
     "exception": false,
     "start_time": "2022-07-11T07:47:33.321475",
     "status": "completed"
    },
    "tags": []
   },
   "outputs": [
    {
     "name": "stdout",
     "output_type": "stream",
     "text": [
      "GART / U2AF1: 0.0\n",
      "GART / UBE2G2: 0.0\n",
      "GART / MRPS6: 0.0273202854913764\n",
      "GART / ATP5J: 0.0\n",
      "U2AF1 / UBE2G2: 0.010582656350490641\n",
      "U2AF1 / MRPS6: 0.0\n",
      "U2AF1 / ATP5J: 0.0\n",
      "UBE2G2 / MRPS6: 0.0\n",
      "UBE2G2 / ATP5J: 0.0\n",
      "MRPS6 / ATP5J: 0.0\n"
     ]
    }
   ],
   "source": [
    "for gene_idx1 in range(0, len(selected_chromosome_genes_obj) - 1):\n",
    "    gene_obj1 = selected_chromosome_genes_obj[gene_idx1]\n",
    "\n",
    "    for gene_idx2 in range(gene_idx1 + 1, len(selected_chromosome_genes_obj)):\n",
    "        gene_obj2 = selected_chromosome_genes_obj[gene_idx2]\n",
    "\n",
    "        c = gene_obj1.get_ssm_correlation(\n",
    "            gene_obj2,\n",
    "        )\n",
    "\n",
    "        print(f\"{gene_obj1.name} / {gene_obj2.name}: {c}\")"
   ]
  },
  {
   "cell_type": "markdown",
   "id": "d3843e06",
   "metadata": {
    "papermill": {
     "duration": 0.00748,
     "end_time": "2022-07-11T07:47:35.163667",
     "exception": false,
     "start_time": "2022-07-11T07:47:35.156187",
     "status": "completed"
    },
    "tags": []
   },
   "source": [
    "# Compute correlation per chromosome"
   ]
  },
  {
   "cell_type": "code",
   "execution_count": 30,
   "id": "cb859c15-d1f3-4006-a74c-2b83c0db9611",
   "metadata": {
    "execution": {
     "iopub.execute_input": "2022-07-11T07:47:35.179961Z",
     "iopub.status.busy": "2022-07-11T07:47:35.179560Z",
     "iopub.status.idle": "2022-07-11T07:47:35.207181Z",
     "shell.execute_reply": "2022-07-11T07:47:35.206783Z"
    },
    "papermill": {
     "duration": 0.037069,
     "end_time": "2022-07-11T07:47:35.208503",
     "exception": false,
     "start_time": "2022-07-11T07:47:35.171434",
     "status": "completed"
    },
    "tags": []
   },
   "outputs": [
    {
     "data": {
      "text/plain": [
       "PosixPath('/opt/data/data/phenomexcan/ld_blocks/gene_corrs/1000g/mashr/by_chr/gene_corrs-chr21.pkl')"
      ]
     },
     "metadata": {},
     "output_type": "display_data"
    }
   ],
   "source": [
    "output_dir = OUTPUT_DIR_BASE / \"by_chr\"\n",
    "output_dir.mkdir(exist_ok=True, parents=True)\n",
    "output_file = output_dir / f\"gene_corrs-chr{chromosome}.pkl\"\n",
    "display(output_file)"
   ]
  },
  {
   "cell_type": "code",
   "execution_count": 31,
   "id": "aa674fe4-6794-4eed-98fa-32b39d1d4ace",
   "metadata": {
    "execution": {
     "iopub.execute_input": "2022-07-11T07:47:35.235981Z",
     "iopub.status.busy": "2022-07-11T07:47:35.235820Z",
     "iopub.status.idle": "2022-07-11T07:47:35.260148Z",
     "shell.execute_reply": "2022-07-11T07:47:35.259758Z"
    },
    "papermill": {
     "duration": 0.040492,
     "end_time": "2022-07-11T07:47:35.261481",
     "exception": false,
     "start_time": "2022-07-11T07:47:35.220989",
     "status": "completed"
    },
    "tags": []
   },
   "outputs": [],
   "source": [
    "warnings.filterwarnings(\"error\")"
   ]
  },
  {
   "cell_type": "code",
   "execution_count": 32,
   "id": "cdbb90a1",
   "metadata": {
    "execution": {
     "iopub.execute_input": "2022-07-11T07:47:35.277177Z",
     "iopub.status.busy": "2022-07-11T07:47:35.277021Z",
     "iopub.status.idle": "2022-07-11T07:49:43.625204Z",
     "shell.execute_reply": "2022-07-11T07:49:43.624803Z"
    },
    "papermill": {
     "duration": 128.357502,
     "end_time": "2022-07-11T07:49:43.626591",
     "exception": false,
     "start_time": "2022-07-11T07:47:35.269089",
     "status": "completed"
    },
    "tags": []
   },
   "outputs": [
    {
     "name": "stdout",
     "output_type": "stream",
     "text": [
      "Number of genes in chromosome: 62\n",
      "Number of gene combinations: 1891\n"
     ]
    },
    {
     "name": "stderr",
     "output_type": "stream",
     "text": [
      "ENSG00000160299 / ENSG00000160307: 100%|████████████████████████| 1891/1891 [02:08<00:00, 14.74it/s]"
     ]
    },
    {
     "name": "stdout",
     "output_type": "stream",
     "text": [
      "Min/max values: 0.0 / 0.5458289821452219\n"
     ]
    },
    {
     "name": "stderr",
     "output_type": "stream",
     "text": [
      "\n"
     ]
    },
    {
     "data": {
      "text/plain": [
       "PosixPath('/opt/data/data/phenomexcan/ld_blocks/gene_corrs/1000g/mashr/by_chr/gene_corrs-chr21.pkl')"
      ]
     },
     "metadata": {},
     "output_type": "display_data"
    }
   ],
   "source": [
    "# standard checks\n",
    "all_chrs = genes_info[\"chr\"].dropna().unique()\n",
    "assert all_chrs.shape[0] == 22\n",
    "\n",
    "# select chromosome given by the user\n",
    "assert chromosome in all_chrs\n",
    "\n",
    "# run only on the chromosome specified\n",
    "all_chrs = [chromosome]\n",
    "genes_chr = genes_info[genes_info[\"chr\"] == chromosome]\n",
    "\n",
    "# For testing purposes\n",
    "# genes_chr = genes_chr.sample(n=20)\n",
    "\n",
    "print(f\"Number of genes in chromosome: {genes_chr.shape[0]}\", flush=True)\n",
    "\n",
    "# sort genes by starting position to make visualizations better later\n",
    "genes_chr = genes_chr.sort_values(\"start_position\")\n",
    "\n",
    "gene_chr_objs = [Gene(ensembl_id=gene_id) for gene_id in genes_chr[\"id\"]]\n",
    "gene_chr_ids = [g.ensembl_id for g in gene_chr_objs]\n",
    "\n",
    "n = len(gene_chr_objs)\n",
    "n_comb = int(n * (n - 1) / 2.0)\n",
    "print(f\"Number of gene combinations: {n_comb}\", flush=True)\n",
    "\n",
    "gene_corrs = []\n",
    "\n",
    "pbar = tqdm(ncols=100, total=n_comb)\n",
    "i = 0\n",
    "for gene_idx1 in range(0, len(gene_chr_objs) - 1):\n",
    "    gene_obj1 = gene_chr_objs[gene_idx1]\n",
    "\n",
    "    for gene_idx2 in range(gene_idx1 + 1, len(gene_chr_objs)):\n",
    "        gene_obj2 = gene_chr_objs[gene_idx2]\n",
    "\n",
    "        pbar.set_description(f\"{gene_obj1.ensembl_id} / {gene_obj2.ensembl_id}\")\n",
    "\n",
    "        try:\n",
    "            # FIXME: compute the correlation of the sum of squares of the model using all\n",
    "            # the available tissues; this could be problematic because for some results\n",
    "            # (computed on a specific phenotype/GWAS) we might not have all the tissues\n",
    "            # available, which can certainly bias the correlation estimation.\n",
    "            # Since this depends on the GWAS on a specific phenotype, we should ideally have\n",
    "            # one correlation matrix per GWAS. I should look at how we can improve this.\n",
    "            r = gene_obj1.get_ssm_correlation(\n",
    "                other_gene=gene_obj2,\n",
    "                condition_number=SMULTIXCAN_CONDITION_NUMBER,\n",
    "                reference_panel=REFERENCE_PANEL,\n",
    "                model_type=EQTL_MODEL,\n",
    "            )\n",
    "\n",
    "            if r is None:\n",
    "                # if r is None, it's very likely because:\n",
    "                #  * one of the genes has no prediction models\n",
    "                #  * all the SNPs predictors for the gene are not present in the reference\n",
    "                #    panel\n",
    "\n",
    "                r = 0.0\n",
    "\n",
    "            gene_corrs.append(r)\n",
    "        except Warning:\n",
    "            print(\n",
    "                f\"RuntimeWarning for genes {gene_obj1.ensembl_id} and {gene_obj2.ensembl_id}\",\n",
    "                flush=True,\n",
    "            )\n",
    "            import traceback\n",
    "\n",
    "            print(traceback.format_exc(), flush=True)\n",
    "        except Exception as e:\n",
    "            print(\n",
    "                f\"Exception for genes {gene_obj1.ensembl_id} and {gene_obj2.ensembl_id}\",\n",
    "                flush=True,\n",
    "            )\n",
    "            import traceback\n",
    "\n",
    "            print(traceback.format_exc(), flush=True)\n",
    "            gene_corrs.append(np.nan)\n",
    "\n",
    "        pbar.update(1)\n",
    "\n",
    "pbar.close()\n",
    "\n",
    "# testing\n",
    "gene_corrs_flat = pd.Series(gene_corrs)\n",
    "print(f\"Min/max values: {gene_corrs_flat.min()} / {gene_corrs_flat.max()}\")\n",
    "assert gene_corrs_flat.min() >= -1.001\n",
    "assert gene_corrs_flat.max() <= 1.001\n",
    "\n",
    "# save\n",
    "# FIXME: consider saving only the condenced matrix here. See here for\n",
    "# more details: https://github.com/greenelab/phenoplier/pull/38#discussion_r634600813\n",
    "gene_corrs_data = squareform(np.array(gene_corrs, dtype=np.float64))\n",
    "np.fill_diagonal(gene_corrs_data, 1.0)\n",
    "\n",
    "gene_corrs_df = pd.DataFrame(\n",
    "    data=gene_corrs_data,\n",
    "    index=gene_chr_ids,\n",
    "    columns=gene_chr_ids,\n",
    ")\n",
    "\n",
    "output_dir.mkdir(exist_ok=True, parents=True)\n",
    "display(output_file)\n",
    "\n",
    "gene_corrs_df.to_pickle(output_file)"
   ]
  },
  {
   "cell_type": "markdown",
   "id": "faa67b51-5373-470f-aa72-2ded53fa6dfe",
   "metadata": {
    "papermill": {
     "duration": 0.082446,
     "end_time": "2022-07-11T07:49:43.830429",
     "exception": false,
     "start_time": "2022-07-11T07:49:43.747983",
     "status": "completed"
    },
    "tags": []
   },
   "source": [
    "# Testing"
   ]
  },
  {
   "cell_type": "code",
   "execution_count": 33,
   "id": "14f7d046-4b55-4896-a56b-990127bcc388",
   "metadata": {
    "execution": {
     "iopub.execute_input": "2022-07-11T07:49:43.997688Z",
     "iopub.status.busy": "2022-07-11T07:49:43.997525Z",
     "iopub.status.idle": "2022-07-11T07:49:44.014292Z",
     "shell.execute_reply": "2022-07-11T07:49:44.013930Z"
    },
    "papermill": {
     "duration": 0.102829,
     "end_time": "2022-07-11T07:49:44.015519",
     "exception": false,
     "start_time": "2022-07-11T07:49:43.912690",
     "status": "completed"
    },
    "tags": []
   },
   "outputs": [
    {
     "data": {
      "text/plain": [
       "(62, 62)"
      ]
     },
     "execution_count": 33,
     "metadata": {},
     "output_type": "execute_result"
    }
   ],
   "source": [
    "gene_corrs_df.shape"
   ]
  },
  {
   "cell_type": "code",
   "execution_count": 34,
   "id": "c7d15414-3297-4537-a7c6-7588c0baeb75",
   "metadata": {
    "execution": {
     "iopub.execute_input": "2022-07-11T07:49:44.204578Z",
     "iopub.status.busy": "2022-07-11T07:49:44.204195Z",
     "iopub.status.idle": "2022-07-11T07:49:44.233202Z",
     "shell.execute_reply": "2022-07-11T07:49:44.232827Z"
    },
    "papermill": {
     "duration": 0.136717,
     "end_time": "2022-07-11T07:49:44.234479",
     "exception": false,
     "start_time": "2022-07-11T07:49:44.097762",
     "status": "completed"
    },
    "tags": []
   },
   "outputs": [
    {
     "data": {
      "text/html": [
       "<div>\n",
       "<style scoped>\n",
       "    .dataframe tbody tr th:only-of-type {\n",
       "        vertical-align: middle;\n",
       "    }\n",
       "\n",
       "    .dataframe tbody tr th {\n",
       "        vertical-align: top;\n",
       "    }\n",
       "\n",
       "    .dataframe thead th {\n",
       "        text-align: right;\n",
       "    }\n",
       "</style>\n",
       "<table border=\"1\" class=\"dataframe\">\n",
       "  <thead>\n",
       "    <tr style=\"text-align: right;\">\n",
       "      <th></th>\n",
       "      <th>ENSG00000155307</th>\n",
       "      <th>ENSG00000180530</th>\n",
       "      <th>ENSG00000154719</th>\n",
       "      <th>ENSG00000154721</th>\n",
       "      <th>ENSG00000154723</th>\n",
       "      <th>ENSG00000142192</th>\n",
       "      <th>ENSG00000154734</th>\n",
       "      <th>ENSG00000156261</th>\n",
       "      <th>ENSG00000171189</th>\n",
       "      <th>ENSG00000156299</th>\n",
       "      <th>...</th>\n",
       "      <th>ENSG00000160255</th>\n",
       "      <th>ENSG00000197381</th>\n",
       "      <th>ENSG00000182871</th>\n",
       "      <th>ENSG00000173638</th>\n",
       "      <th>ENSG00000142156</th>\n",
       "      <th>ENSG00000142173</th>\n",
       "      <th>ENSG00000160282</th>\n",
       "      <th>ENSG00000160285</th>\n",
       "      <th>ENSG00000160299</th>\n",
       "      <th>ENSG00000160307</th>\n",
       "    </tr>\n",
       "  </thead>\n",
       "  <tbody>\n",
       "    <tr>\n",
       "      <th>ENSG00000155307</th>\n",
       "      <td>1.000000</td>\n",
       "      <td>0.009524</td>\n",
       "      <td>0.000000</td>\n",
       "      <td>0.000000</td>\n",
       "      <td>0.000000</td>\n",
       "      <td>0.000000</td>\n",
       "      <td>0.000000</td>\n",
       "      <td>0.000000</td>\n",
       "      <td>0.000000</td>\n",
       "      <td>0.0</td>\n",
       "      <td>...</td>\n",
       "      <td>0.0</td>\n",
       "      <td>0.0</td>\n",
       "      <td>0.0</td>\n",
       "      <td>0.0</td>\n",
       "      <td>0.0</td>\n",
       "      <td>0.0</td>\n",
       "      <td>0.0</td>\n",
       "      <td>0.0</td>\n",
       "      <td>0.0</td>\n",
       "      <td>0.0</td>\n",
       "    </tr>\n",
       "    <tr>\n",
       "      <th>ENSG00000180530</th>\n",
       "      <td>0.009524</td>\n",
       "      <td>1.000000</td>\n",
       "      <td>0.000000</td>\n",
       "      <td>0.000000</td>\n",
       "      <td>0.000000</td>\n",
       "      <td>0.000000</td>\n",
       "      <td>0.000000</td>\n",
       "      <td>0.000000</td>\n",
       "      <td>0.000000</td>\n",
       "      <td>0.0</td>\n",
       "      <td>...</td>\n",
       "      <td>0.0</td>\n",
       "      <td>0.0</td>\n",
       "      <td>0.0</td>\n",
       "      <td>0.0</td>\n",
       "      <td>0.0</td>\n",
       "      <td>0.0</td>\n",
       "      <td>0.0</td>\n",
       "      <td>0.0</td>\n",
       "      <td>0.0</td>\n",
       "      <td>0.0</td>\n",
       "    </tr>\n",
       "    <tr>\n",
       "      <th>ENSG00000154719</th>\n",
       "      <td>0.000000</td>\n",
       "      <td>0.000000</td>\n",
       "      <td>1.000000</td>\n",
       "      <td>0.441590</td>\n",
       "      <td>0.181989</td>\n",
       "      <td>0.012504</td>\n",
       "      <td>0.008913</td>\n",
       "      <td>0.007761</td>\n",
       "      <td>0.005954</td>\n",
       "      <td>0.0</td>\n",
       "      <td>...</td>\n",
       "      <td>0.0</td>\n",
       "      <td>0.0</td>\n",
       "      <td>0.0</td>\n",
       "      <td>0.0</td>\n",
       "      <td>0.0</td>\n",
       "      <td>0.0</td>\n",
       "      <td>0.0</td>\n",
       "      <td>0.0</td>\n",
       "      <td>0.0</td>\n",
       "      <td>0.0</td>\n",
       "    </tr>\n",
       "    <tr>\n",
       "      <th>ENSG00000154721</th>\n",
       "      <td>0.000000</td>\n",
       "      <td>0.000000</td>\n",
       "      <td>0.441590</td>\n",
       "      <td>1.000000</td>\n",
       "      <td>0.323127</td>\n",
       "      <td>0.016043</td>\n",
       "      <td>0.006526</td>\n",
       "      <td>0.002206</td>\n",
       "      <td>0.011834</td>\n",
       "      <td>0.0</td>\n",
       "      <td>...</td>\n",
       "      <td>0.0</td>\n",
       "      <td>0.0</td>\n",
       "      <td>0.0</td>\n",
       "      <td>0.0</td>\n",
       "      <td>0.0</td>\n",
       "      <td>0.0</td>\n",
       "      <td>0.0</td>\n",
       "      <td>0.0</td>\n",
       "      <td>0.0</td>\n",
       "      <td>0.0</td>\n",
       "    </tr>\n",
       "    <tr>\n",
       "      <th>ENSG00000154723</th>\n",
       "      <td>0.000000</td>\n",
       "      <td>0.000000</td>\n",
       "      <td>0.181989</td>\n",
       "      <td>0.323127</td>\n",
       "      <td>1.000000</td>\n",
       "      <td>0.022413</td>\n",
       "      <td>0.006861</td>\n",
       "      <td>0.005666</td>\n",
       "      <td>0.005191</td>\n",
       "      <td>0.0</td>\n",
       "      <td>...</td>\n",
       "      <td>0.0</td>\n",
       "      <td>0.0</td>\n",
       "      <td>0.0</td>\n",
       "      <td>0.0</td>\n",
       "      <td>0.0</td>\n",
       "      <td>0.0</td>\n",
       "      <td>0.0</td>\n",
       "      <td>0.0</td>\n",
       "      <td>0.0</td>\n",
       "      <td>0.0</td>\n",
       "    </tr>\n",
       "  </tbody>\n",
       "</table>\n",
       "<p>5 rows × 62 columns</p>\n",
       "</div>"
      ],
      "text/plain": [
       "                 ENSG00000155307  ENSG00000180530  ENSG00000154719  \\\n",
       "ENSG00000155307         1.000000         0.009524         0.000000   \n",
       "ENSG00000180530         0.009524         1.000000         0.000000   \n",
       "ENSG00000154719         0.000000         0.000000         1.000000   \n",
       "ENSG00000154721         0.000000         0.000000         0.441590   \n",
       "ENSG00000154723         0.000000         0.000000         0.181989   \n",
       "\n",
       "                 ENSG00000154721  ENSG00000154723  ENSG00000142192  \\\n",
       "ENSG00000155307         0.000000         0.000000         0.000000   \n",
       "ENSG00000180530         0.000000         0.000000         0.000000   \n",
       "ENSG00000154719         0.441590         0.181989         0.012504   \n",
       "ENSG00000154721         1.000000         0.323127         0.016043   \n",
       "ENSG00000154723         0.323127         1.000000         0.022413   \n",
       "\n",
       "                 ENSG00000154734  ENSG00000156261  ENSG00000171189  \\\n",
       "ENSG00000155307         0.000000         0.000000         0.000000   \n",
       "ENSG00000180530         0.000000         0.000000         0.000000   \n",
       "ENSG00000154719         0.008913         0.007761         0.005954   \n",
       "ENSG00000154721         0.006526         0.002206         0.011834   \n",
       "ENSG00000154723         0.006861         0.005666         0.005191   \n",
       "\n",
       "                 ENSG00000156299  ...  ENSG00000160255  ENSG00000197381  \\\n",
       "ENSG00000155307              0.0  ...              0.0              0.0   \n",
       "ENSG00000180530              0.0  ...              0.0              0.0   \n",
       "ENSG00000154719              0.0  ...              0.0              0.0   \n",
       "ENSG00000154721              0.0  ...              0.0              0.0   \n",
       "ENSG00000154723              0.0  ...              0.0              0.0   \n",
       "\n",
       "                 ENSG00000182871  ENSG00000173638  ENSG00000142156  \\\n",
       "ENSG00000155307              0.0              0.0              0.0   \n",
       "ENSG00000180530              0.0              0.0              0.0   \n",
       "ENSG00000154719              0.0              0.0              0.0   \n",
       "ENSG00000154721              0.0              0.0              0.0   \n",
       "ENSG00000154723              0.0              0.0              0.0   \n",
       "\n",
       "                 ENSG00000142173  ENSG00000160282  ENSG00000160285  \\\n",
       "ENSG00000155307              0.0              0.0              0.0   \n",
       "ENSG00000180530              0.0              0.0              0.0   \n",
       "ENSG00000154719              0.0              0.0              0.0   \n",
       "ENSG00000154721              0.0              0.0              0.0   \n",
       "ENSG00000154723              0.0              0.0              0.0   \n",
       "\n",
       "                 ENSG00000160299  ENSG00000160307  \n",
       "ENSG00000155307              0.0              0.0  \n",
       "ENSG00000180530              0.0              0.0  \n",
       "ENSG00000154719              0.0              0.0  \n",
       "ENSG00000154721              0.0              0.0  \n",
       "ENSG00000154723              0.0              0.0  \n",
       "\n",
       "[5 rows x 62 columns]"
      ]
     },
     "execution_count": 34,
     "metadata": {},
     "output_type": "execute_result"
    }
   ],
   "source": [
    "gene_corrs_df.head()"
   ]
  },
  {
   "cell_type": "code",
   "execution_count": 35,
   "id": "286686af-1b7b-4440-8453-6bdcbd8de19c",
   "metadata": {
    "execution": {
     "iopub.execute_input": "2022-07-11T07:49:44.409870Z",
     "iopub.status.busy": "2022-07-11T07:49:44.409559Z",
     "iopub.status.idle": "2022-07-11T07:49:44.426026Z",
     "shell.execute_reply": "2022-07-11T07:49:44.425594Z"
    },
    "papermill": {
     "duration": 0.107646,
     "end_time": "2022-07-11T07:49:44.427408",
     "exception": false,
     "start_time": "2022-07-11T07:49:44.319762",
     "status": "completed"
    },
    "tags": []
   },
   "outputs": [],
   "source": [
    "assert not gene_corrs_df.isna().any().any()"
   ]
  },
  {
   "cell_type": "code",
   "execution_count": 36,
   "id": "00583efc-7068-4270-ad1e-4a418e91db96",
   "metadata": {
    "execution": {
     "iopub.execute_input": "2022-07-11T07:49:44.611413Z",
     "iopub.status.busy": "2022-07-11T07:49:44.611001Z",
     "iopub.status.idle": "2022-07-11T07:49:44.628405Z",
     "shell.execute_reply": "2022-07-11T07:49:44.627971Z"
    },
    "papermill": {
     "duration": 0.1016,
     "end_time": "2022-07-11T07:49:44.629664",
     "exception": false,
     "start_time": "2022-07-11T07:49:44.528064",
     "status": "completed"
    },
    "tags": []
   },
   "outputs": [
    {
     "data": {
      "text/plain": [
       "0.0"
      ]
     },
     "metadata": {},
     "output_type": "display_data"
    }
   ],
   "source": [
    "_min_val = gene_corrs_df.min().min()\n",
    "display(_min_val)\n",
    "assert _min_val >= 0.0"
   ]
  },
  {
   "cell_type": "code",
   "execution_count": 37,
   "id": "d04fb2cf-1050-475b-b855-f5f7cc04092b",
   "metadata": {
    "execution": {
     "iopub.execute_input": "2022-07-11T07:49:44.798877Z",
     "iopub.status.busy": "2022-07-11T07:49:44.798481Z",
     "iopub.status.idle": "2022-07-11T07:49:44.816982Z",
     "shell.execute_reply": "2022-07-11T07:49:44.816303Z"
    },
    "papermill": {
     "duration": 0.104567,
     "end_time": "2022-07-11T07:49:44.818232",
     "exception": false,
     "start_time": "2022-07-11T07:49:44.713665",
     "status": "completed"
    },
    "tags": []
   },
   "outputs": [
    {
     "data": {
      "text/plain": [
       "1.0"
      ]
     },
     "metadata": {},
     "output_type": "display_data"
    }
   ],
   "source": [
    "_max_val = gene_corrs_df.max().max()  # this captures the diagonal\n",
    "display(_max_val)\n",
    "assert _max_val <= 1.0"
   ]
  },
  {
   "cell_type": "code",
   "execution_count": 38,
   "id": "96d02c44-1fba-47be-8a93-8f2608420b9c",
   "metadata": {
    "execution": {
     "iopub.execute_input": "2022-07-11T07:49:45.033774Z",
     "iopub.status.busy": "2022-07-11T07:49:45.033568Z",
     "iopub.status.idle": "2022-07-11T07:49:45.055559Z",
     "shell.execute_reply": "2022-07-11T07:49:45.055146Z"
    },
    "papermill": {
     "duration": 0.107769,
     "end_time": "2022-07-11T07:49:45.056856",
     "exception": false,
     "start_time": "2022-07-11T07:49:44.949087",
     "status": "completed"
    },
    "tags": []
   },
   "outputs": [],
   "source": [
    "# check upper triangular values\n",
    "assert len(gene_corrs) == int(genes_chr.shape[0] * (genes_chr.shape[0] - 1) / 2)"
   ]
  },
  {
   "cell_type": "code",
   "execution_count": 39,
   "id": "aaa51627-f4e3-4744-a41f-7d25adcc0a78",
   "metadata": {
    "execution": {
     "iopub.execute_input": "2022-07-11T07:49:45.261523Z",
     "iopub.status.busy": "2022-07-11T07:49:45.261329Z",
     "iopub.status.idle": "2022-07-11T07:49:45.276500Z",
     "shell.execute_reply": "2022-07-11T07:49:45.276122Z"
    },
    "papermill": {
     "duration": 0.102796,
     "end_time": "2022-07-11T07:49:45.277733",
     "exception": false,
     "start_time": "2022-07-11T07:49:45.174937",
     "status": "completed"
    },
    "tags": []
   },
   "outputs": [],
   "source": [
    "gene_corrs = pd.Series(gene_corrs)"
   ]
  },
  {
   "cell_type": "code",
   "execution_count": 40,
   "id": "fe283586-c348-40e0-8841-f6d97bfb021c",
   "metadata": {
    "execution": {
     "iopub.execute_input": "2022-07-11T07:49:45.447718Z",
     "iopub.status.busy": "2022-07-11T07:49:45.447513Z",
     "iopub.status.idle": "2022-07-11T07:49:45.465130Z",
     "shell.execute_reply": "2022-07-11T07:49:45.464709Z"
    },
    "papermill": {
     "duration": 0.105023,
     "end_time": "2022-07-11T07:49:45.466245",
     "exception": false,
     "start_time": "2022-07-11T07:49:45.361222",
     "status": "completed"
    },
    "tags": []
   },
   "outputs": [
    {
     "data": {
      "text/plain": [
       "count    1891.000000\n",
       "mean        0.010096\n",
       "std         0.038825\n",
       "min         0.000000\n",
       "25%         0.000000\n",
       "50%         0.000000\n",
       "75%         0.010214\n",
       "max         0.545829\n",
       "dtype: float64"
      ]
     },
     "execution_count": 40,
     "metadata": {},
     "output_type": "execute_result"
    }
   ],
   "source": [
    "gene_corrs.describe()"
   ]
  },
  {
   "cell_type": "code",
   "execution_count": 41,
   "id": "b3815678-0f93-4b35-897b-a9d047a2aa78",
   "metadata": {
    "execution": {
     "iopub.execute_input": "2022-07-11T07:49:45.634991Z",
     "iopub.status.busy": "2022-07-11T07:49:45.634746Z",
     "iopub.status.idle": "2022-07-11T07:49:45.664744Z",
     "shell.execute_reply": "2022-07-11T07:49:45.664381Z"
    },
    "papermill": {
     "duration": 0.114847,
     "end_time": "2022-07-11T07:49:45.665836",
     "exception": false,
     "start_time": "2022-07-11T07:49:45.550989",
     "status": "completed"
    },
    "tags": []
   },
   "outputs": [
    {
     "data": {
      "text/plain": [
       "0.00    0.000000\n",
       "0.05    0.000000\n",
       "0.10    0.000000\n",
       "0.15    0.000000\n",
       "0.20    0.000000\n",
       "0.25    0.000000\n",
       "0.30    0.000000\n",
       "0.35    0.000000\n",
       "0.40    0.000000\n",
       "0.45    0.000000\n",
       "0.50    0.000000\n",
       "0.55    0.000000\n",
       "0.60    0.002867\n",
       "0.65    0.006673\n",
       "0.70    0.008467\n",
       "0.75    0.010214\n",
       "0.80    0.011903\n",
       "0.85    0.013650\n",
       "0.90    0.016250\n",
       "0.95    0.022503\n",
       "dtype: float64"
      ]
     },
     "metadata": {},
     "output_type": "display_data"
    }
   ],
   "source": [
    "gene_corrs_quantiles = gene_corrs.quantile(np.arange(0, 1, 0.05))\n",
    "display(gene_corrs_quantiles)"
   ]
  },
  {
   "cell_type": "markdown",
   "id": "8e60a080-edb2-4e9c-b2ef-22961693200c",
   "metadata": {
    "papermill": {
     "duration": 0.087688,
     "end_time": "2022-07-11T07:49:45.869411",
     "exception": false,
     "start_time": "2022-07-11T07:49:45.781723",
     "status": "completed"
    },
    "tags": []
   },
   "source": [
    "## Plot: distribution"
   ]
  },
  {
   "cell_type": "code",
   "execution_count": 42,
   "id": "8301126b-a7d4-4744-9c7d-f0f86eb6f54c",
   "metadata": {
    "execution": {
     "iopub.execute_input": "2022-07-11T07:49:46.065824Z",
     "iopub.status.busy": "2022-07-11T07:49:46.065665Z",
     "iopub.status.idle": "2022-07-11T07:49:46.659120Z",
     "shell.execute_reply": "2022-07-11T07:49:46.658690Z"
    },
    "papermill": {
     "duration": 0.705017,
     "end_time": "2022-07-11T07:49:46.660423",
     "exception": false,
     "start_time": "2022-07-11T07:49:45.955406",
     "status": "completed"
    },
    "tags": []
   },
   "outputs": [
    {
     "data": {
      "image/png": "[encoded data removed]",
      "text/plain": [
       "<Figure size 504x504 with 1 Axes>"
      ]
     },
     "metadata": {
      "needs_background": "light"
     },
     "output_type": "display_data"
    }
   ],
   "source": [
    "with sns.plotting_context(\"paper\", font_scale=1.5):\n",
    "    g = sns.displot(gene_corrs, kde=True, height=7)\n",
    "    g.ax.set_title(\n",
    "        f\"Distribution of gene correlation values in chromosome {chromosome}\"\n",
    "    )"
   ]
  },
  {
   "cell_type": "markdown",
   "id": "cbd52bca-d878-4a2f-b684-5c83aa3038d4",
   "metadata": {
    "papermill": {
     "duration": 0.0925,
     "end_time": "2022-07-11T07:49:46.862911",
     "exception": false,
     "start_time": "2022-07-11T07:49:46.770411",
     "status": "completed"
    },
    "tags": []
   },
   "source": [
    "## Plot: heatmap"
   ]
  },
  {
   "cell_type": "code",
   "execution_count": 43,
   "id": "d03fe63a-c7b2-4fb9-a53c-db362ce843c9",
   "metadata": {
    "execution": {
     "iopub.execute_input": "2022-07-11T07:49:47.153012Z",
     "iopub.status.busy": "2022-07-11T07:49:47.152689Z",
     "iopub.status.idle": "2022-07-11T07:49:47.180965Z",
     "shell.execute_reply": "2022-07-11T07:49:47.180596Z"
    },
    "papermill": {
     "duration": 0.184336,
     "end_time": "2022-07-11T07:49:47.182049",
     "exception": false,
     "start_time": "2022-07-11T07:49:46.997713",
     "status": "completed"
    },
    "tags": []
   },
   "outputs": [
    {
     "data": {
      "text/plain": [
       "'-0.05 / 0.05'"
      ]
     },
     "metadata": {},
     "output_type": "display_data"
    }
   ],
   "source": [
    "vmin_val = min(-0.05, gene_corrs_quantiles[0.10])\n",
    "vmax_val = max(0.05, gene_corrs_quantiles[0.90])\n",
    "display(f\"{vmin_val} / {vmax_val}\")"
   ]
  },
  {
   "cell_type": "code",
   "execution_count": 44,
   "id": "dc41b70b-5bcc-4d9e-9f33-a22c4a94dab5",
   "metadata": {
    "execution": {
     "iopub.execute_input": "2022-07-11T07:49:47.396570Z",
     "iopub.status.busy": "2022-07-11T07:49:47.396103Z",
     "iopub.status.idle": "2022-07-11T07:49:47.513808Z",
     "shell.execute_reply": "2022-07-11T07:49:47.513424Z"
    },
    "papermill": {
     "duration": 0.202147,
     "end_time": "2022-07-11T07:49:47.515065",
     "exception": false,
     "start_time": "2022-07-11T07:49:47.312918",
     "status": "completed"
    },
    "tags": []
   },
   "outputs": [
    {
     "data": {
      "text/plain": [
       "Text(0.5, 1.0, 'Gene correlations in chromosome 21')"
      ]
     },
     "execution_count": 44,
     "metadata": {},
     "output_type": "execute_result"
    },
    {
     "data": {
      "image/png": "[encoded data removed]",
      "text/plain": [
       "<Figure size 720x720 with 2 Axes>"
      ]
     },
     "metadata": {
      "needs_background": "light"
     },
     "output_type": "display_data"
    }
   ],
   "source": [
    "f, ax = plt.subplots(figsize=(10, 10))\n",
    "sns.heatmap(\n",
    "    gene_corrs_df,\n",
    "    xticklabels=False,\n",
    "    yticklabels=False,\n",
    "    square=True,\n",
    "    vmin=vmin_val,\n",
    "    vmax=vmax_val,\n",
    "    cmap=\"YlGnBu\",\n",
    "    ax=ax,\n",
    ")\n",
    "ax.set_title(f\"Gene correlations in chromosome {chromosome}\")"
   ]
  },
  {
   "cell_type": "code",
   "execution_count": null,
   "id": "b25e3ead",
   "metadata": {
    "papermill": {
     "duration": 0.102659,
     "end_time": "2022-07-11T07:49:47.745366",
     "exception": false,
     "start_time": "2022-07-11T07:49:47.642707",
     "status": "completed"
    },
    "tags": []
   },
   "outputs": [],
   "source": []
  }
 ],
 "metadata": {
  "jupytext": {
   "cell_metadata_filter": "all,-execution,-papermill,-trusted",
   "formats": "ipynb,py//py:percent"
  },
  "kernelspec": {
   "display_name": "Python 3 (ipykernel)",
   "language": "python",
   "name": "python3"
  },
  "language_info": {
   "codemirror_mode": {
    "name": "ipython",
    "version": 3
   },
   "file_extension": ".py",
   "mimetype": "text/x-python",
   "name": "python",
   "nbconvert_exporter": "python",
   "pygments_lexer": "ipython3",
   "version": "3.8.13"
  },
  "papermill": {
   "default_parameters": {},
   "duration": 143.531202,
   "end_time": "2022-07-11T07:49:50.957503",
   "environment_variables": {},
   "exception": null,
   "input_path": "nbs/15_gsa_gls/10-gene_expr_correlations.ipynb",
   "output_path": "nbs/15_gsa_gls/gene_corrs/1000g/mashr/10-gene_expr_correlations-chr21.run.ipynb",
   "parameters": {
    "EQTL_MODEL": "MASHR",
    "REFERENCE_PANEL": "1000G",
    "chromosome": 21
   },
   "start_time": "2022-07-11T07:47:27.426301",
   "version": "2.2.2"
  }
 },
 "nbformat": 4,
 "nbformat_minor": 5
}
