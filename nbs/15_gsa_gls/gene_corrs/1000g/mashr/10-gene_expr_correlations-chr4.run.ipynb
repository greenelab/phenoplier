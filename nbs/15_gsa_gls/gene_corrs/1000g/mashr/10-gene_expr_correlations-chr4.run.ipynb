{
 "cells": [
  {
   "cell_type": "markdown",
   "id": "7a6632fb",
   "metadata": {
    "papermill": {
     "duration": 0.007416,
     "end_time": "2022-07-11T06:21:54.780383",
     "exception": false,
     "start_time": "2022-07-11T06:21:54.772967",
     "status": "completed"
    },
    "tags": []
   },
   "source": [
    "# Description"
   ]
  },
  {
   "cell_type": "markdown",
   "id": "7097c346",
   "metadata": {
    "papermill": {
     "duration": 0.006735,
     "end_time": "2022-07-11T06:21:54.794138",
     "exception": false,
     "start_time": "2022-07-11T06:21:54.787403",
     "status": "completed"
    },
    "tags": []
   },
   "source": [
    "(Please, take a look at the README.md file in this directory for instructions on how to run this notebook)\n",
    "\n",
    "This notebook computes predicted expression correlations between all genes in the MultiPLIER models.\n",
    "\n",
    "It also has a parameter set for papermill to run on a single chromosome to run in parallel (see under `Settings` below).\n",
    "\n",
    "This notebook is not directly run. See README.md."
   ]
  },
  {
   "cell_type": "markdown",
   "id": "c61d8427",
   "metadata": {
    "papermill": {
     "duration": 0.006574,
     "end_time": "2022-07-11T06:21:54.807461",
     "exception": false,
     "start_time": "2022-07-11T06:21:54.800887",
     "status": "completed"
    },
    "tags": []
   },
   "source": [
    "# Modules"
   ]
  },
  {
   "cell_type": "code",
   "execution_count": 1,
   "id": "bbc0234f",
   "metadata": {
    "execution": {
     "iopub.execute_input": "2022-07-11T06:21:54.834688Z",
     "iopub.status.busy": "2022-07-11T06:21:54.834100Z",
     "iopub.status.idle": "2022-07-11T06:21:54.866836Z",
     "shell.execute_reply": "2022-07-11T06:21:54.866352Z"
    },
    "papermill": {
     "duration": 0.048574,
     "end_time": "2022-07-11T06:21:54.868761",
     "exception": false,
     "start_time": "2022-07-11T06:21:54.820187",
     "status": "completed"
    },
    "tags": []
   },
   "outputs": [],
   "source": [
    "%load_ext autoreload\n",
    "%autoreload 2"
   ]
  },
  {
   "cell_type": "code",
   "execution_count": 2,
   "id": "1d5f5a59",
   "metadata": {
    "execution": {
     "iopub.execute_input": "2022-07-11T06:21:54.896968Z",
     "iopub.status.busy": "2022-07-11T06:21:54.896774Z",
     "iopub.status.idle": "2022-07-11T06:21:56.059914Z",
     "shell.execute_reply": "2022-07-11T06:21:56.059382Z"
    },
    "papermill": {
     "duration": 1.181091,
     "end_time": "2022-07-11T06:21:56.061929",
     "exception": false,
     "start_time": "2022-07-11T06:21:54.880838",
     "status": "completed"
    },
    "tags": []
   },
   "outputs": [],
   "source": [
    "from random import sample, seed\n",
    "import warnings\n",
    "from pathlib import Path\n",
    "\n",
    "import numpy as np\n",
    "from scipy.spatial.distance import squareform\n",
    "import pandas as pd\n",
    "from tqdm import tqdm\n",
    "import matplotlib.pyplot as plt\n",
    "import seaborn as sns\n",
    "\n",
    "import conf\n",
    "from entity import Gene"
   ]
  },
  {
   "cell_type": "markdown",
   "id": "1eac24b5",
   "metadata": {
    "papermill": {
     "duration": 0.00677,
     "end_time": "2022-07-11T06:21:56.111602",
     "exception": false,
     "start_time": "2022-07-11T06:21:56.104832",
     "status": "completed"
    },
    "tags": []
   },
   "source": [
    "# Settings"
   ]
  },
  {
   "cell_type": "code",
   "execution_count": 3,
   "id": "ca4560ba",
   "metadata": {
    "execution": {
     "iopub.execute_input": "2022-07-11T06:21:56.126224Z",
     "iopub.status.busy": "2022-07-11T06:21:56.126034Z",
     "iopub.status.idle": "2022-07-11T06:21:56.144496Z",
     "shell.execute_reply": "2022-07-11T06:21:56.144024Z"
    },
    "papermill": {
     "duration": 0.028007,
     "end_time": "2022-07-11T06:21:56.146268",
     "exception": false,
     "start_time": "2022-07-11T06:21:56.118261",
     "status": "completed"
    },
    "tags": [
     "parameters"
    ]
   },
   "outputs": [],
   "source": [
    "# reference panel\n",
    "REFERENCE_PANEL = \"GTEX_V8\"\n",
    "# REFERENCE_PANEL = \"1000G\"\n",
    "\n",
    "# prediction models\n",
    "## mashr\n",
    "EQTL_MODEL = \"MASHR\"\n",
    "\n",
    "# this is the default value used in S-MultiXcan to select the\n",
    "# top principal components of the expression correlation matrix\n",
    "SMULTIXCAN_CONDITION_NUMBER = 30\n",
    "\n",
    "# specifies a single chromosome value\n",
    "# by default, run on all chromosomes\n",
    "chromosome = None"
   ]
  },
  {
   "cell_type": "code",
   "execution_count": 4,
   "id": "d0aab739",
   "metadata": {
    "execution": {
     "iopub.execute_input": "2022-07-11T06:21:56.160869Z",
     "iopub.status.busy": "2022-07-11T06:21:56.160661Z",
     "iopub.status.idle": "2022-07-11T06:21:56.179383Z",
     "shell.execute_reply": "2022-07-11T06:21:56.178889Z"
    },
    "papermill": {
     "duration": 0.027891,
     "end_time": "2022-07-11T06:21:56.181177",
     "exception": false,
     "start_time": "2022-07-11T06:21:56.153286",
     "status": "completed"
    },
    "tags": [
     "injected-parameters"
    ]
   },
   "outputs": [],
   "source": [
    "# Parameters\n",
    "chromosome = 4\n",
    "REFERENCE_PANEL = \"1000G\"\n",
    "EQTL_MODEL = \"MASHR\"\n"
   ]
  },
  {
   "cell_type": "code",
   "execution_count": 5,
   "id": "a089c9ff",
   "metadata": {
    "execution": {
     "iopub.execute_input": "2022-07-11T06:21:56.195446Z",
     "iopub.status.busy": "2022-07-11T06:21:56.195244Z",
     "iopub.status.idle": "2022-07-11T06:21:56.214087Z",
     "shell.execute_reply": "2022-07-11T06:21:56.213576Z"
    },
    "papermill": {
     "duration": 0.027885,
     "end_time": "2022-07-11T06:21:56.215885",
     "exception": false,
     "start_time": "2022-07-11T06:21:56.188000",
     "status": "completed"
    },
    "tags": []
   },
   "outputs": [],
   "source": [
    "EQTL_MODEL_FILES_PREFIX = conf.PHENOMEXCAN[\"PREDICTION_MODELS\"][f\"{EQTL_MODEL}_PREFIX\"]"
   ]
  },
  {
   "cell_type": "code",
   "execution_count": 6,
   "id": "8fe24bef",
   "metadata": {
    "execution": {
     "iopub.execute_input": "2022-07-11T06:21:56.233995Z",
     "iopub.status.busy": "2022-07-11T06:21:56.233819Z",
     "iopub.status.idle": "2022-07-11T06:21:56.251710Z",
     "shell.execute_reply": "2022-07-11T06:21:56.251196Z"
    },
    "papermill": {
     "duration": 0.030348,
     "end_time": "2022-07-11T06:21:56.253123",
     "exception": false,
     "start_time": "2022-07-11T06:21:56.222775",
     "status": "completed"
    },
    "tags": []
   },
   "outputs": [
    {
     "data": {
      "text/plain": [
       "'Using eQTL model: MASHR / mashr_'"
      ]
     },
     "metadata": {},
     "output_type": "display_data"
    }
   ],
   "source": [
    "display(f\"Using eQTL model: {EQTL_MODEL} / {EQTL_MODEL_FILES_PREFIX}\")"
   ]
  },
  {
   "cell_type": "code",
   "execution_count": 7,
   "id": "552a7f63-a18c-4d3e-bb6a-94f99b431291",
   "metadata": {
    "execution": {
     "iopub.execute_input": "2022-07-11T06:21:56.266164Z",
     "iopub.status.busy": "2022-07-11T06:21:56.265709Z",
     "iopub.status.idle": "2022-07-11T06:21:56.283874Z",
     "shell.execute_reply": "2022-07-11T06:21:56.283474Z"
    },
    "papermill": {
     "duration": 0.025931,
     "end_time": "2022-07-11T06:21:56.285201",
     "exception": false,
     "start_time": "2022-07-11T06:21:56.259270",
     "status": "completed"
    },
    "tags": []
   },
   "outputs": [
    {
     "data": {
      "text/plain": [
       "'S-MultiXcan condition number: 30'"
      ]
     },
     "metadata": {},
     "output_type": "display_data"
    }
   ],
   "source": [
    "display(f\"S-MultiXcan condition number: {SMULTIXCAN_CONDITION_NUMBER}\")"
   ]
  },
  {
   "cell_type": "code",
   "execution_count": 8,
   "id": "0230ebcb-2c32-4b95-9292-d9a52038e70d",
   "metadata": {
    "execution": {
     "iopub.execute_input": "2022-07-11T06:21:56.298317Z",
     "iopub.status.busy": "2022-07-11T06:21:56.298126Z",
     "iopub.status.idle": "2022-07-11T06:21:56.314241Z",
     "shell.execute_reply": "2022-07-11T06:21:56.313776Z"
    },
    "papermill": {
     "duration": 0.024755,
     "end_time": "2022-07-11T06:21:56.315911",
     "exception": false,
     "start_time": "2022-07-11T06:21:56.291156",
     "status": "completed"
    },
    "tags": []
   },
   "outputs": [],
   "source": [
    "REFERENCE_PANEL_DIR = conf.PHENOMEXCAN[\"LD_BLOCKS\"][f\"{REFERENCE_PANEL}_GENOTYPE_DIR\"]"
   ]
  },
  {
   "cell_type": "code",
   "execution_count": 9,
   "id": "98c4a159-601d-4a22-a1ab-35bd451c25f9",
   "metadata": {
    "execution": {
     "iopub.execute_input": "2022-07-11T06:21:56.329925Z",
     "iopub.status.busy": "2022-07-11T06:21:56.329724Z",
     "iopub.status.idle": "2022-07-11T06:21:56.349341Z",
     "shell.execute_reply": "2022-07-11T06:21:56.348861Z"
    },
    "papermill": {
     "duration": 0.028386,
     "end_time": "2022-07-11T06:21:56.351001",
     "exception": false,
     "start_time": "2022-07-11T06:21:56.322615",
     "status": "completed"
    },
    "tags": []
   },
   "outputs": [
    {
     "data": {
      "text/plain": [
       "'Using reference panel folder: /opt/data/data/phenomexcan/ld_blocks/reference_panel_1000G'"
      ]
     },
     "metadata": {},
     "output_type": "display_data"
    }
   ],
   "source": [
    "display(f\"Using reference panel folder: {str(REFERENCE_PANEL_DIR)}\")"
   ]
  },
  {
   "cell_type": "code",
   "execution_count": 10,
   "id": "396392dc-0340-4540-9b02-e182b833f909",
   "metadata": {
    "execution": {
     "iopub.execute_input": "2022-07-11T06:21:56.366488Z",
     "iopub.status.busy": "2022-07-11T06:21:56.366312Z",
     "iopub.status.idle": "2022-07-11T06:21:56.384641Z",
     "shell.execute_reply": "2022-07-11T06:21:56.384066Z"
    },
    "papermill": {
     "duration": 0.027903,
     "end_time": "2022-07-11T06:21:56.386484",
     "exception": false,
     "start_time": "2022-07-11T06:21:56.358581",
     "status": "completed"
    },
    "tags": []
   },
   "outputs": [],
   "source": [
    "OUTPUT_DIR_BASE = (\n",
    "    conf.PHENOMEXCAN[\"LD_BLOCKS\"][f\"GENE_CORRS_DIR\"]\n",
    "    / REFERENCE_PANEL.lower()\n",
    "    / EQTL_MODEL.lower()\n",
    ")\n",
    "OUTPUT_DIR_BASE.mkdir(parents=True, exist_ok=True)"
   ]
  },
  {
   "cell_type": "code",
   "execution_count": 11,
   "id": "8942c2d3-e53c-4d63-a0eb-b6fce0574d36",
   "metadata": {
    "execution": {
     "iopub.execute_input": "2022-07-11T06:21:56.413406Z",
     "iopub.status.busy": "2022-07-11T06:21:56.413231Z",
     "iopub.status.idle": "2022-07-11T06:21:56.445601Z",
     "shell.execute_reply": "2022-07-11T06:21:56.445166Z"
    },
    "papermill": {
     "duration": 0.048571,
     "end_time": "2022-07-11T06:21:56.447156",
     "exception": false,
     "start_time": "2022-07-11T06:21:56.398585",
     "status": "completed"
    },
    "tags": []
   },
   "outputs": [
    {
     "data": {
      "text/plain": [
       "'Using output dir base: /opt/data/data/phenomexcan/ld_blocks/gene_corrs/1000g/mashr'"
      ]
     },
     "metadata": {},
     "output_type": "display_data"
    }
   ],
   "source": [
    "display(f\"Using output dir base: {OUTPUT_DIR_BASE}\")"
   ]
  },
  {
   "cell_type": "code",
   "execution_count": 12,
   "id": "408aa590",
   "metadata": {
    "execution": {
     "iopub.execute_input": "2022-07-11T06:21:56.462663Z",
     "iopub.status.busy": "2022-07-11T06:21:56.462450Z",
     "iopub.status.idle": "2022-07-11T06:21:56.481431Z",
     "shell.execute_reply": "2022-07-11T06:21:56.480890Z"
    },
    "papermill": {
     "duration": 0.028862,
     "end_time": "2022-07-11T06:21:56.483327",
     "exception": false,
     "start_time": "2022-07-11T06:21:56.454465",
     "status": "completed"
    },
    "tags": []
   },
   "outputs": [],
   "source": [
    "assert (\n",
    "    chromosome is not None\n",
    "), \"You have to select one chromosome (format: number between 1 and 22)\""
   ]
  },
  {
   "cell_type": "code",
   "execution_count": 13,
   "id": "c1c7dd06-80ff-453c-bcb7-0899edce75da",
   "metadata": {
    "execution": {
     "iopub.execute_input": "2022-07-11T06:21:56.500164Z",
     "iopub.status.busy": "2022-07-11T06:21:56.499952Z",
     "iopub.status.idle": "2022-07-11T06:21:56.519411Z",
     "shell.execute_reply": "2022-07-11T06:21:56.518827Z"
    },
    "papermill": {
     "duration": 0.029959,
     "end_time": "2022-07-11T06:21:56.521368",
     "exception": false,
     "start_time": "2022-07-11T06:21:56.491409",
     "status": "completed"
    },
    "tags": []
   },
   "outputs": [],
   "source": [
    "chromosome = str(chromosome)"
   ]
  },
  {
   "cell_type": "code",
   "execution_count": 14,
   "id": "bc17b84c-9c26-47a5-a3ab-7046e72f3ef4",
   "metadata": {
    "execution": {
     "iopub.execute_input": "2022-07-11T06:21:56.538245Z",
     "iopub.status.busy": "2022-07-11T06:21:56.538033Z",
     "iopub.status.idle": "2022-07-11T06:21:56.559943Z",
     "shell.execute_reply": "2022-07-11T06:21:56.559436Z"
    },
    "papermill": {
     "duration": 0.032277,
     "end_time": "2022-07-11T06:21:56.561792",
     "exception": false,
     "start_time": "2022-07-11T06:21:56.529515",
     "status": "completed"
    },
    "tags": []
   },
   "outputs": [
    {
     "data": {
      "text/plain": [
       "'Working on chromosome 4'"
      ]
     },
     "metadata": {},
     "output_type": "display_data"
    }
   ],
   "source": [
    "display(f\"Working on chromosome {chromosome}\")"
   ]
  },
  {
   "cell_type": "markdown",
   "id": "d2ba085e",
   "metadata": {
    "papermill": {
     "duration": 0.007611,
     "end_time": "2022-07-11T06:21:56.577640",
     "exception": false,
     "start_time": "2022-07-11T06:21:56.570029",
     "status": "completed"
    },
    "tags": []
   },
   "source": [
    "# Load data"
   ]
  },
  {
   "cell_type": "markdown",
   "id": "7bed0ce0-e7c7-4300-9a61-5412450b1904",
   "metadata": {
    "papermill": {
     "duration": 0.007677,
     "end_time": "2022-07-11T06:21:56.593203",
     "exception": false,
     "start_time": "2022-07-11T06:21:56.585526",
     "status": "completed"
    },
    "tags": []
   },
   "source": [
    "## Prediction model tissues"
   ]
  },
  {
   "cell_type": "code",
   "execution_count": 15,
   "id": "0847c065-0d69-4830-a07f-1c75115d17f5",
   "metadata": {
    "execution": {
     "iopub.execute_input": "2022-07-11T06:21:56.610051Z",
     "iopub.status.busy": "2022-07-11T06:21:56.609837Z",
     "iopub.status.idle": "2022-07-11T06:21:56.629385Z",
     "shell.execute_reply": "2022-07-11T06:21:56.628854Z"
    },
    "papermill": {
     "duration": 0.030193,
     "end_time": "2022-07-11T06:21:56.631345",
     "exception": false,
     "start_time": "2022-07-11T06:21:56.601152",
     "status": "completed"
    },
    "tags": []
   },
   "outputs": [],
   "source": [
    "prediction_model_tissues = conf.PHENOMEXCAN[\"PREDICTION_MODELS\"][\n",
    "    f\"{EQTL_MODEL}_TISSUES\"\n",
    "].split(\" \")"
   ]
  },
  {
   "cell_type": "code",
   "execution_count": 16,
   "id": "aaef70d1-30c6-4c6f-9d6b-abc8e9a0081f",
   "metadata": {
    "execution": {
     "iopub.execute_input": "2022-07-11T06:21:56.648637Z",
     "iopub.status.busy": "2022-07-11T06:21:56.648423Z",
     "iopub.status.idle": "2022-07-11T06:21:56.670410Z",
     "shell.execute_reply": "2022-07-11T06:21:56.669900Z"
    },
    "papermill": {
     "duration": 0.032522,
     "end_time": "2022-07-11T06:21:56.672267",
     "exception": false,
     "start_time": "2022-07-11T06:21:56.639745",
     "status": "completed"
    },
    "tags": []
   },
   "outputs": [
    {
     "data": {
      "text/plain": [
       "49"
      ]
     },
     "execution_count": 16,
     "metadata": {},
     "output_type": "execute_result"
    }
   ],
   "source": [
    "len(prediction_model_tissues)"
   ]
  },
  {
   "cell_type": "code",
   "execution_count": 17,
   "id": "ff35a099-c52d-465d-b863-0ee70c26208c",
   "metadata": {
    "execution": {
     "iopub.execute_input": "2022-07-11T06:21:56.689568Z",
     "iopub.status.busy": "2022-07-11T06:21:56.689355Z",
     "iopub.status.idle": "2022-07-11T06:21:56.711497Z",
     "shell.execute_reply": "2022-07-11T06:21:56.710960Z"
    },
    "papermill": {
     "duration": 0.032875,
     "end_time": "2022-07-11T06:21:56.713438",
     "exception": false,
     "start_time": "2022-07-11T06:21:56.680563",
     "status": "completed"
    },
    "tags": []
   },
   "outputs": [
    {
     "data": {
      "text/plain": [
       "['Skin_Not_Sun_Exposed_Suprapubic',\n",
       " 'Cells_EBV-transformed_lymphocytes',\n",
       " 'Brain_Frontal_Cortex_BA9',\n",
       " 'Kidney_Cortex',\n",
       " 'Brain_Substantia_nigra']"
      ]
     },
     "execution_count": 17,
     "metadata": {},
     "output_type": "execute_result"
    }
   ],
   "source": [
    "prediction_model_tissues[:5]"
   ]
  },
  {
   "cell_type": "markdown",
   "id": "abcc4b3d",
   "metadata": {
    "papermill": {
     "duration": 0.008008,
     "end_time": "2022-07-11T06:21:56.729994",
     "exception": false,
     "start_time": "2022-07-11T06:21:56.721986",
     "status": "completed"
    },
    "tags": []
   },
   "source": [
    "## MultiPLIER Z"
   ]
  },
  {
   "cell_type": "code",
   "execution_count": 18,
   "id": "c48ef527",
   "metadata": {
    "execution": {
     "iopub.execute_input": "2022-07-11T06:21:56.747354Z",
     "iopub.status.busy": "2022-07-11T06:21:56.747137Z",
     "iopub.status.idle": "2022-07-11T06:21:56.799171Z",
     "shell.execute_reply": "2022-07-11T06:21:56.798620Z"
    },
    "papermill": {
     "duration": 0.062793,
     "end_time": "2022-07-11T06:21:56.801012",
     "exception": false,
     "start_time": "2022-07-11T06:21:56.738219",
     "status": "completed"
    },
    "tags": []
   },
   "outputs": [],
   "source": [
    "multiplier_z_genes = pd.read_pickle(\n",
    "    conf.MULTIPLIER[\"MODEL_Z_MATRIX_FILE\"]\n",
    ").index.tolist()"
   ]
  },
  {
   "cell_type": "code",
   "execution_count": 19,
   "id": "0a4ecbd9",
   "metadata": {
    "execution": {
     "iopub.execute_input": "2022-07-11T06:21:56.818280Z",
     "iopub.status.busy": "2022-07-11T06:21:56.817723Z",
     "iopub.status.idle": "2022-07-11T06:21:56.838341Z",
     "shell.execute_reply": "2022-07-11T06:21:56.837856Z"
    },
    "papermill": {
     "duration": 0.030871,
     "end_time": "2022-07-11T06:21:56.840002",
     "exception": false,
     "start_time": "2022-07-11T06:21:56.809131",
     "status": "completed"
    },
    "tags": []
   },
   "outputs": [
    {
     "data": {
      "text/plain": [
       "6750"
      ]
     },
     "execution_count": 19,
     "metadata": {},
     "output_type": "execute_result"
    }
   ],
   "source": [
    "len(multiplier_z_genes)"
   ]
  },
  {
   "cell_type": "code",
   "execution_count": 20,
   "id": "115e8864",
   "metadata": {
    "execution": {
     "iopub.execute_input": "2022-07-11T06:21:56.857168Z",
     "iopub.status.busy": "2022-07-11T06:21:56.856589Z",
     "iopub.status.idle": "2022-07-11T06:21:56.877141Z",
     "shell.execute_reply": "2022-07-11T06:21:56.876674Z"
    },
    "papermill": {
     "duration": 0.030708,
     "end_time": "2022-07-11T06:21:56.878764",
     "exception": false,
     "start_time": "2022-07-11T06:21:56.848056",
     "status": "completed"
    },
    "tags": []
   },
   "outputs": [
    {
     "data": {
      "text/plain": [
       "['GAS6',\n",
       " 'MMP14',\n",
       " 'DSP',\n",
       " 'MARCKSL1',\n",
       " 'SPARC',\n",
       " 'CTSD',\n",
       " 'EPAS1',\n",
       " 'PALLD',\n",
       " 'PHC2',\n",
       " 'LGALS3BP']"
      ]
     },
     "execution_count": 20,
     "metadata": {},
     "output_type": "execute_result"
    }
   ],
   "source": [
    "multiplier_z_genes[:10]"
   ]
  },
  {
   "cell_type": "markdown",
   "id": "7dcb8db7",
   "metadata": {
    "papermill": {
     "duration": 0.007572,
     "end_time": "2022-07-11T06:21:56.894397",
     "exception": false,
     "start_time": "2022-07-11T06:21:56.886825",
     "status": "completed"
    },
    "tags": []
   },
   "source": [
    "## Get gene objects"
   ]
  },
  {
   "cell_type": "code",
   "execution_count": 21,
   "id": "bb932812",
   "metadata": {
    "execution": {
     "iopub.execute_input": "2022-07-11T06:21:56.910271Z",
     "iopub.status.busy": "2022-07-11T06:21:56.910066Z",
     "iopub.status.idle": "2022-07-11T06:21:56.936412Z",
     "shell.execute_reply": "2022-07-11T06:21:56.935923Z"
    },
    "papermill": {
     "duration": 0.03631,
     "end_time": "2022-07-11T06:21:56.938223",
     "exception": false,
     "start_time": "2022-07-11T06:21:56.901913",
     "status": "completed"
    },
    "tags": []
   },
   "outputs": [],
   "source": [
    "multiplier_gene_obj = {\n",
    "    gene_name: Gene(name=gene_name)\n",
    "    for gene_name in multiplier_z_genes\n",
    "    if gene_name in Gene.GENE_NAME_TO_ID_MAP\n",
    "}"
   ]
  },
  {
   "cell_type": "code",
   "execution_count": 22,
   "id": "39533214",
   "metadata": {
    "execution": {
     "iopub.execute_input": "2022-07-11T06:21:56.955019Z",
     "iopub.status.busy": "2022-07-11T06:21:56.954811Z",
     "iopub.status.idle": "2022-07-11T06:21:56.985106Z",
     "shell.execute_reply": "2022-07-11T06:21:56.984636Z"
    },
    "papermill": {
     "duration": 0.040249,
     "end_time": "2022-07-11T06:21:56.986684",
     "exception": false,
     "start_time": "2022-07-11T06:21:56.946435",
     "status": "completed"
    },
    "tags": []
   },
   "outputs": [
    {
     "data": {
      "text/plain": [
       "6454"
      ]
     },
     "execution_count": 22,
     "metadata": {},
     "output_type": "execute_result"
    }
   ],
   "source": [
    "len(multiplier_gene_obj)"
   ]
  },
  {
   "cell_type": "code",
   "execution_count": 23,
   "id": "9a5d0b84",
   "metadata": {
    "execution": {
     "iopub.execute_input": "2022-07-11T06:21:57.017419Z",
     "iopub.status.busy": "2022-07-11T06:21:57.017240Z",
     "iopub.status.idle": "2022-07-11T06:21:57.036741Z",
     "shell.execute_reply": "2022-07-11T06:21:57.036291Z"
    },
    "papermill": {
     "duration": 0.037376,
     "end_time": "2022-07-11T06:21:57.038420",
     "exception": false,
     "start_time": "2022-07-11T06:21:57.001044",
     "status": "completed"
    },
    "tags": []
   },
   "outputs": [
    {
     "data": {
      "text/plain": [
       "'ENSG00000183087'"
      ]
     },
     "execution_count": 23,
     "metadata": {},
     "output_type": "execute_result"
    }
   ],
   "source": [
    "multiplier_gene_obj[\"GAS6\"].ensembl_id"
   ]
  },
  {
   "cell_type": "code",
   "execution_count": 24,
   "id": "e3ffabc7",
   "metadata": {
    "execution": {
     "iopub.execute_input": "2022-07-11T06:21:57.059164Z",
     "iopub.status.busy": "2022-07-11T06:21:57.058978Z",
     "iopub.status.idle": "2022-07-11T06:21:59.344456Z",
     "shell.execute_reply": "2022-07-11T06:21:59.344027Z"
    },
    "papermill": {
     "duration": 2.29539,
     "end_time": "2022-07-11T06:21:59.345724",
     "exception": false,
     "start_time": "2022-07-11T06:21:57.050334",
     "status": "completed"
    },
    "tags": []
   },
   "outputs": [],
   "source": [
    "_gene_obj = list(multiplier_gene_obj.values())\n",
    "\n",
    "genes_info = pd.DataFrame(\n",
    "    {\n",
    "        \"name\": [g.name for g in _gene_obj],\n",
    "        \"id\": [g.ensembl_id for g in _gene_obj],\n",
    "        \"chr\": [g.chromosome for g in _gene_obj],\n",
    "        \"band\": [g.band for g in _gene_obj],\n",
    "        \"start_position\": [g.get_attribute(\"start_position\") for g in _gene_obj],\n",
    "    }\n",
    ")"
   ]
  },
  {
   "cell_type": "code",
   "execution_count": 25,
   "id": "e23519b8",
   "metadata": {
    "execution": {
     "iopub.execute_input": "2022-07-11T06:21:59.375881Z",
     "iopub.status.busy": "2022-07-11T06:21:59.375699Z",
     "iopub.status.idle": "2022-07-11T06:21:59.392174Z",
     "shell.execute_reply": "2022-07-11T06:21:59.391689Z"
    },
    "papermill": {
     "duration": 0.034057,
     "end_time": "2022-07-11T06:21:59.393630",
     "exception": false,
     "start_time": "2022-07-11T06:21:59.359573",
     "status": "completed"
    },
    "tags": []
   },
   "outputs": [
    {
     "data": {
      "text/plain": [
       "(6454, 5)"
      ]
     },
     "execution_count": 25,
     "metadata": {},
     "output_type": "execute_result"
    }
   ],
   "source": [
    "genes_info.shape"
   ]
  },
  {
   "cell_type": "code",
   "execution_count": 26,
   "id": "0d71881c",
   "metadata": {
    "execution": {
     "iopub.execute_input": "2022-07-11T06:21:59.410314Z",
     "iopub.status.busy": "2022-07-11T06:21:59.409838Z",
     "iopub.status.idle": "2022-07-11T06:21:59.450816Z",
     "shell.execute_reply": "2022-07-11T06:21:59.450416Z"
    },
    "papermill": {
     "duration": 0.050846,
     "end_time": "2022-07-11T06:21:59.452234",
     "exception": false,
     "start_time": "2022-07-11T06:21:59.401388",
     "status": "completed"
    },
    "tags": []
   },
   "outputs": [
    {
     "data": {
      "text/html": [
       "<div>\n",
       "<style scoped>\n",
       "    .dataframe tbody tr th:only-of-type {\n",
       "        vertical-align: middle;\n",
       "    }\n",
       "\n",
       "    .dataframe tbody tr th {\n",
       "        vertical-align: top;\n",
       "    }\n",
       "\n",
       "    .dataframe thead th {\n",
       "        text-align: right;\n",
       "    }\n",
       "</style>\n",
       "<table border=\"1\" class=\"dataframe\">\n",
       "  <thead>\n",
       "    <tr style=\"text-align: right;\">\n",
       "      <th></th>\n",
       "      <th>name</th>\n",
       "      <th>id</th>\n",
       "      <th>chr</th>\n",
       "      <th>band</th>\n",
       "      <th>start_position</th>\n",
       "    </tr>\n",
       "  </thead>\n",
       "  <tbody>\n",
       "    <tr>\n",
       "      <th>0</th>\n",
       "      <td>GAS6</td>\n",
       "      <td>ENSG00000183087</td>\n",
       "      <td>13</td>\n",
       "      <td>13q34</td>\n",
       "      <td>113820549.0</td>\n",
       "    </tr>\n",
       "    <tr>\n",
       "      <th>1</th>\n",
       "      <td>MMP14</td>\n",
       "      <td>ENSG00000157227</td>\n",
       "      <td>14</td>\n",
       "      <td>14q11.2</td>\n",
       "      <td>22836560.0</td>\n",
       "    </tr>\n",
       "    <tr>\n",
       "      <th>2</th>\n",
       "      <td>DSP</td>\n",
       "      <td>ENSG00000096696</td>\n",
       "      <td>6</td>\n",
       "      <td>6p24.3</td>\n",
       "      <td>7541617.0</td>\n",
       "    </tr>\n",
       "    <tr>\n",
       "      <th>3</th>\n",
       "      <td>MARCKSL1</td>\n",
       "      <td>ENSG00000175130</td>\n",
       "      <td>1</td>\n",
       "      <td>1p35.1</td>\n",
       "      <td>32333839.0</td>\n",
       "    </tr>\n",
       "    <tr>\n",
       "      <th>4</th>\n",
       "      <td>SPARC</td>\n",
       "      <td>ENSG00000113140</td>\n",
       "      <td>5</td>\n",
       "      <td>5q33.1</td>\n",
       "      <td>151661096.0</td>\n",
       "    </tr>\n",
       "  </tbody>\n",
       "</table>\n",
       "</div>"
      ],
      "text/plain": [
       "       name               id chr     band  start_position\n",
       "0      GAS6  ENSG00000183087  13    13q34     113820549.0\n",
       "1     MMP14  ENSG00000157227  14  14q11.2      22836560.0\n",
       "2       DSP  ENSG00000096696   6   6p24.3       7541617.0\n",
       "3  MARCKSL1  ENSG00000175130   1   1p35.1      32333839.0\n",
       "4     SPARC  ENSG00000113140   5   5q33.1     151661096.0"
      ]
     },
     "execution_count": 26,
     "metadata": {},
     "output_type": "execute_result"
    }
   ],
   "source": [
    "genes_info.head()"
   ]
  },
  {
   "cell_type": "markdown",
   "id": "c8d1038f",
   "metadata": {
    "papermill": {
     "duration": 0.014434,
     "end_time": "2022-07-11T06:21:59.479546",
     "exception": false,
     "start_time": "2022-07-11T06:21:59.465112",
     "status": "completed"
    },
    "tags": []
   },
   "source": [
    "# Test"
   ]
  },
  {
   "cell_type": "code",
   "execution_count": 27,
   "id": "64993abf",
   "metadata": {
    "execution": {
     "iopub.execute_input": "2022-07-11T06:21:59.509244Z",
     "iopub.status.busy": "2022-07-11T06:21:59.509049Z",
     "iopub.status.idle": "2022-07-11T06:21:59.537859Z",
     "shell.execute_reply": "2022-07-11T06:21:59.537284Z"
    },
    "papermill": {
     "duration": 0.044986,
     "end_time": "2022-07-11T06:21:59.539649",
     "exception": false,
     "start_time": "2022-07-11T06:21:59.494663",
     "status": "completed"
    },
    "tags": []
   },
   "outputs": [
    {
     "data": {
      "text/html": [
       "<div>\n",
       "<style scoped>\n",
       "    .dataframe tbody tr th:only-of-type {\n",
       "        vertical-align: middle;\n",
       "    }\n",
       "\n",
       "    .dataframe tbody tr th {\n",
       "        vertical-align: top;\n",
       "    }\n",
       "\n",
       "    .dataframe thead th {\n",
       "        text-align: right;\n",
       "    }\n",
       "</style>\n",
       "<table border=\"1\" class=\"dataframe\">\n",
       "  <thead>\n",
       "    <tr style=\"text-align: right;\">\n",
       "      <th></th>\n",
       "      <th>name</th>\n",
       "      <th>id</th>\n",
       "      <th>chr</th>\n",
       "      <th>band</th>\n",
       "      <th>start_position</th>\n",
       "    </tr>\n",
       "  </thead>\n",
       "  <tbody>\n",
       "    <tr>\n",
       "      <th>7</th>\n",
       "      <td>PALLD</td>\n",
       "      <td>ENSG00000129116</td>\n",
       "      <td>4</td>\n",
       "      <td>4q32.3</td>\n",
       "      <td>168497052.0</td>\n",
       "    </tr>\n",
       "    <tr>\n",
       "      <th>29</th>\n",
       "      <td>GRSF1</td>\n",
       "      <td>ENSG00000132463</td>\n",
       "      <td>4</td>\n",
       "      <td>4q13.3</td>\n",
       "      <td>70815783.0</td>\n",
       "    </tr>\n",
       "    <tr>\n",
       "      <th>78</th>\n",
       "      <td>WFS1</td>\n",
       "      <td>ENSG00000109501</td>\n",
       "      <td>4</td>\n",
       "      <td>4p16.1</td>\n",
       "      <td>6269849.0</td>\n",
       "    </tr>\n",
       "    <tr>\n",
       "      <th>129</th>\n",
       "      <td>HPGD</td>\n",
       "      <td>ENSG00000164120</td>\n",
       "      <td>4</td>\n",
       "      <td>4q34.1</td>\n",
       "      <td>174490175.0</td>\n",
       "    </tr>\n",
       "    <tr>\n",
       "      <th>153</th>\n",
       "      <td>ELOVL6</td>\n",
       "      <td>ENSG00000170522</td>\n",
       "      <td>4</td>\n",
       "      <td>4q25</td>\n",
       "      <td>110045846.0</td>\n",
       "    </tr>\n",
       "    <tr>\n",
       "      <th>...</th>\n",
       "      <td>...</td>\n",
       "      <td>...</td>\n",
       "      <td>...</td>\n",
       "      <td>...</td>\n",
       "      <td>...</td>\n",
       "    </tr>\n",
       "    <tr>\n",
       "      <th>6297</th>\n",
       "      <td>MYL5</td>\n",
       "      <td>ENSG00000215375</td>\n",
       "      <td>4</td>\n",
       "      <td>4p16.3</td>\n",
       "      <td>673580.0</td>\n",
       "    </tr>\n",
       "    <tr>\n",
       "      <th>6310</th>\n",
       "      <td>ETFDH</td>\n",
       "      <td>ENSG00000171503</td>\n",
       "      <td>4</td>\n",
       "      <td>4q32.1</td>\n",
       "      <td>158672125.0</td>\n",
       "    </tr>\n",
       "    <tr>\n",
       "      <th>6323</th>\n",
       "      <td>FAM13A</td>\n",
       "      <td>ENSG00000138640</td>\n",
       "      <td>4</td>\n",
       "      <td>4q22.1</td>\n",
       "      <td>88725955.0</td>\n",
       "    </tr>\n",
       "    <tr>\n",
       "      <th>6431</th>\n",
       "      <td>RGS12</td>\n",
       "      <td>ENSG00000159788</td>\n",
       "      <td>4</td>\n",
       "      <td>4p16.3</td>\n",
       "      <td>3293028.0</td>\n",
       "    </tr>\n",
       "    <tr>\n",
       "      <th>6437</th>\n",
       "      <td>ELF2</td>\n",
       "      <td>ENSG00000109381</td>\n",
       "      <td>4</td>\n",
       "      <td>4q31.1</td>\n",
       "      <td>139028112.0</td>\n",
       "    </tr>\n",
       "  </tbody>\n",
       "</table>\n",
       "<p>244 rows × 5 columns</p>\n",
       "</div>"
      ],
      "text/plain": [
       "        name               id chr    band  start_position\n",
       "7      PALLD  ENSG00000129116   4  4q32.3     168497052.0\n",
       "29     GRSF1  ENSG00000132463   4  4q13.3      70815783.0\n",
       "78      WFS1  ENSG00000109501   4  4p16.1       6269849.0\n",
       "129     HPGD  ENSG00000164120   4  4q34.1     174490175.0\n",
       "153   ELOVL6  ENSG00000170522   4    4q25     110045846.0\n",
       "...      ...              ...  ..     ...             ...\n",
       "6297    MYL5  ENSG00000215375   4  4p16.3        673580.0\n",
       "6310   ETFDH  ENSG00000171503   4  4q32.1     158672125.0\n",
       "6323  FAM13A  ENSG00000138640   4  4q22.1      88725955.0\n",
       "6431   RGS12  ENSG00000159788   4  4p16.3       3293028.0\n",
       "6437    ELF2  ENSG00000109381   4  4q31.1     139028112.0\n",
       "\n",
       "[244 rows x 5 columns]"
      ]
     },
     "metadata": {},
     "output_type": "display_data"
    }
   ],
   "source": [
    "chromosome_genes_info = genes_info[genes_info[\"chr\"] == chromosome]\n",
    "display(chromosome_genes_info)"
   ]
  },
  {
   "cell_type": "code",
   "execution_count": 28,
   "id": "d2e42726-7de6-46eb-acfc-6323eaa8fae6",
   "metadata": {
    "execution": {
     "iopub.execute_input": "2022-07-11T06:21:59.558020Z",
     "iopub.status.busy": "2022-07-11T06:21:59.557812Z",
     "iopub.status.idle": "2022-07-11T06:21:59.595810Z",
     "shell.execute_reply": "2022-07-11T06:21:59.595337Z"
    },
    "papermill": {
     "duration": 0.04884,
     "end_time": "2022-07-11T06:21:59.597435",
     "exception": false,
     "start_time": "2022-07-11T06:21:59.548595",
     "status": "completed"
    },
    "tags": []
   },
   "outputs": [
    {
     "data": {
      "text/plain": [
       "5"
      ]
     },
     "metadata": {},
     "output_type": "display_data"
    }
   ],
   "source": [
    "seed(0)\n",
    "_gene_list_ids = sample(chromosome_genes_info[\"id\"].tolist(), 5)\n",
    "selected_chromosome_genes_obj = [Gene(ensembl_id=g_id) for g_id in _gene_list_ids]\n",
    "display(len(selected_chromosome_genes_obj))"
   ]
  },
  {
   "cell_type": "code",
   "execution_count": 29,
   "id": "1b355359",
   "metadata": {
    "execution": {
     "iopub.execute_input": "2022-07-11T06:21:59.629717Z",
     "iopub.status.busy": "2022-07-11T06:21:59.629515Z",
     "iopub.status.idle": "2022-07-11T06:21:59.660851Z",
     "shell.execute_reply": "2022-07-11T06:21:59.660315Z"
    },
    "papermill": {
     "duration": 0.050278,
     "end_time": "2022-07-11T06:21:59.662533",
     "exception": false,
     "start_time": "2022-07-11T06:21:59.612255",
     "status": "completed"
    },
    "tags": []
   },
   "outputs": [
    {
     "name": "stdout",
     "output_type": "stream",
     "text": [
      "UGT8 / ARHGAP24: 0.0\n",
      "UGT8 / ANAPC10: 0.0\n",
      "UGT8 / SGCB: 0.0\n",
      "UGT8 / ACOX3: 0.0\n",
      "ARHGAP24 / ANAPC10: 0.0\n",
      "ARHGAP24 / SGCB: 0.0\n",
      "ARHGAP24 / ACOX3: 0.0\n",
      "ANAPC10 / SGCB: 0.0\n",
      "ANAPC10 / ACOX3: 0.0\n",
      "SGCB / ACOX3: 0.0\n"
     ]
    }
   ],
   "source": [
    "for gene_idx1 in range(0, len(selected_chromosome_genes_obj) - 1):\n",
    "    gene_obj1 = selected_chromosome_genes_obj[gene_idx1]\n",
    "\n",
    "    for gene_idx2 in range(gene_idx1 + 1, len(selected_chromosome_genes_obj)):\n",
    "        gene_obj2 = selected_chromosome_genes_obj[gene_idx2]\n",
    "\n",
    "        c = gene_obj1.get_ssm_correlation(\n",
    "            gene_obj2,\n",
    "        )\n",
    "\n",
    "        print(f\"{gene_obj1.name} / {gene_obj2.name}: {c}\")"
   ]
  },
  {
   "cell_type": "markdown",
   "id": "d3843e06",
   "metadata": {
    "papermill": {
     "duration": 0.007636,
     "end_time": "2022-07-11T06:21:59.691506",
     "exception": false,
     "start_time": "2022-07-11T06:21:59.683870",
     "status": "completed"
    },
    "tags": []
   },
   "source": [
    "# Compute correlation per chromosome"
   ]
  },
  {
   "cell_type": "code",
   "execution_count": 30,
   "id": "cb859c15-d1f3-4006-a74c-2b83c0db9611",
   "metadata": {
    "execution": {
     "iopub.execute_input": "2022-07-11T06:21:59.723432Z",
     "iopub.status.busy": "2022-07-11T06:21:59.723244Z",
     "iopub.status.idle": "2022-07-11T06:21:59.747775Z",
     "shell.execute_reply": "2022-07-11T06:21:59.747167Z"
    },
    "papermill": {
     "duration": 0.042635,
     "end_time": "2022-07-11T06:21:59.749637",
     "exception": false,
     "start_time": "2022-07-11T06:21:59.707002",
     "status": "completed"
    },
    "tags": []
   },
   "outputs": [
    {
     "data": {
      "text/plain": [
       "PosixPath('/opt/data/data/phenomexcan/ld_blocks/gene_corrs/1000g/mashr/by_chr/gene_corrs-chr4.pkl')"
      ]
     },
     "metadata": {},
     "output_type": "display_data"
    }
   ],
   "source": [
    "output_dir = OUTPUT_DIR_BASE / \"by_chr\"\n",
    "output_dir.mkdir(exist_ok=True, parents=True)\n",
    "output_file = output_dir / f\"gene_corrs-chr{chromosome}.pkl\"\n",
    "display(output_file)"
   ]
  },
  {
   "cell_type": "code",
   "execution_count": 31,
   "id": "aa674fe4-6794-4eed-98fa-32b39d1d4ace",
   "metadata": {
    "execution": {
     "iopub.execute_input": "2022-07-11T06:21:59.789580Z",
     "iopub.status.busy": "2022-07-11T06:21:59.789335Z",
     "iopub.status.idle": "2022-07-11T06:21:59.805345Z",
     "shell.execute_reply": "2022-07-11T06:21:59.804877Z"
    },
    "papermill": {
     "duration": 0.035816,
     "end_time": "2022-07-11T06:21:59.806608",
     "exception": false,
     "start_time": "2022-07-11T06:21:59.770792",
     "status": "completed"
    },
    "tags": []
   },
   "outputs": [],
   "source": [
    "warnings.filterwarnings(\"error\")"
   ]
  },
  {
   "cell_type": "code",
   "execution_count": 32,
   "id": "cdbb90a1",
   "metadata": {
    "execution": {
     "iopub.execute_input": "2022-07-11T06:21:59.839372Z",
     "iopub.status.busy": "2022-07-11T06:21:59.839207Z",
     "iopub.status.idle": "2022-07-11T06:29:04.975683Z",
     "shell.execute_reply": "2022-07-11T06:29:04.975255Z"
    },
    "papermill": {
     "duration": 425.154338,
     "end_time": "2022-07-11T06:29:04.977077",
     "exception": false,
     "start_time": "2022-07-11T06:21:59.822739",
     "status": "completed"
    },
    "tags": []
   },
   "outputs": [
    {
     "name": "stdout",
     "output_type": "stream",
     "text": [
      "Number of genes in chromosome: 244\n",
      "Number of gene combinations: 29646\n"
     ]
    },
    {
     "name": "stderr",
     "output_type": "stream",
     "text": [
      "ENSG00000164344 / ENSG00000109536: 100%|██████████████████████| 29646/29646 [07:05<00:00, 69.74it/s]"
     ]
    },
    {
     "name": "stdout",
     "output_type": "stream",
     "text": [
      "Min/max values: 0.0 / 0.9238464951236948\n"
     ]
    },
    {
     "name": "stderr",
     "output_type": "stream",
     "text": [
      "\n"
     ]
    },
    {
     "data": {
      "text/plain": [
       "PosixPath('/opt/data/data/phenomexcan/ld_blocks/gene_corrs/1000g/mashr/by_chr/gene_corrs-chr4.pkl')"
      ]
     },
     "metadata": {},
     "output_type": "display_data"
    }
   ],
   "source": [
    "# standard checks\n",
    "all_chrs = genes_info[\"chr\"].dropna().unique()\n",
    "assert all_chrs.shape[0] == 22\n",
    "\n",
    "# select chromosome given by the user\n",
    "assert chromosome in all_chrs\n",
    "\n",
    "# run only on the chromosome specified\n",
    "all_chrs = [chromosome]\n",
    "genes_chr = genes_info[genes_info[\"chr\"] == chromosome]\n",
    "\n",
    "# For testing purposes\n",
    "# genes_chr = genes_chr.sample(n=20)\n",
    "\n",
    "print(f\"Number of genes in chromosome: {genes_chr.shape[0]}\", flush=True)\n",
    "\n",
    "# sort genes by starting position to make visualizations better later\n",
    "genes_chr = genes_chr.sort_values(\"start_position\")\n",
    "\n",
    "gene_chr_objs = [Gene(ensembl_id=gene_id) for gene_id in genes_chr[\"id\"]]\n",
    "gene_chr_ids = [g.ensembl_id for g in gene_chr_objs]\n",
    "\n",
    "n = len(gene_chr_objs)\n",
    "n_comb = int(n * (n - 1) / 2.0)\n",
    "print(f\"Number of gene combinations: {n_comb}\", flush=True)\n",
    "\n",
    "gene_corrs = []\n",
    "\n",
    "pbar = tqdm(ncols=100, total=n_comb)\n",
    "i = 0\n",
    "for gene_idx1 in range(0, len(gene_chr_objs) - 1):\n",
    "    gene_obj1 = gene_chr_objs[gene_idx1]\n",
    "\n",
    "    for gene_idx2 in range(gene_idx1 + 1, len(gene_chr_objs)):\n",
    "        gene_obj2 = gene_chr_objs[gene_idx2]\n",
    "\n",
    "        pbar.set_description(f\"{gene_obj1.ensembl_id} / {gene_obj2.ensembl_id}\")\n",
    "\n",
    "        try:\n",
    "            # FIXME: compute the correlation of the sum of squares of the model using all\n",
    "            # the available tissues; this could be problematic because for some results\n",
    "            # (computed on a specific phenotype/GWAS) we might not have all the tissues\n",
    "            # available, which can certainly bias the correlation estimation.\n",
    "            # Since this depends on the GWAS on a specific phenotype, we should ideally have\n",
    "            # one correlation matrix per GWAS. I should look at how we can improve this.\n",
    "            r = gene_obj1.get_ssm_correlation(\n",
    "                other_gene=gene_obj2,\n",
    "                condition_number=SMULTIXCAN_CONDITION_NUMBER,\n",
    "                reference_panel=REFERENCE_PANEL,\n",
    "                model_type=EQTL_MODEL,\n",
    "            )\n",
    "\n",
    "            if r is None:\n",
    "                # if r is None, it's very likely because:\n",
    "                #  * one of the genes has no prediction models\n",
    "                #  * all the SNPs predictors for the gene are not present in the reference\n",
    "                #    panel\n",
    "\n",
    "                r = 0.0\n",
    "\n",
    "            gene_corrs.append(r)\n",
    "        except Warning:\n",
    "            print(\n",
    "                f\"RuntimeWarning for genes {gene_obj1.ensembl_id} and {gene_obj2.ensembl_id}\",\n",
    "                flush=True,\n",
    "            )\n",
    "            import traceback\n",
    "\n",
    "            print(traceback.format_exc(), flush=True)\n",
    "        except Exception as e:\n",
    "            print(\n",
    "                f\"Exception for genes {gene_obj1.ensembl_id} and {gene_obj2.ensembl_id}\",\n",
    "                flush=True,\n",
    "            )\n",
    "            import traceback\n",
    "\n",
    "            print(traceback.format_exc(), flush=True)\n",
    "            gene_corrs.append(np.nan)\n",
    "\n",
    "        pbar.update(1)\n",
    "\n",
    "pbar.close()\n",
    "\n",
    "# testing\n",
    "gene_corrs_flat = pd.Series(gene_corrs)\n",
    "print(f\"Min/max values: {gene_corrs_flat.min()} / {gene_corrs_flat.max()}\")\n",
    "assert gene_corrs_flat.min() >= -1.001\n",
    "assert gene_corrs_flat.max() <= 1.001\n",
    "\n",
    "# save\n",
    "# FIXME: consider saving only the condenced matrix here. See here for\n",
    "# more details: https://github.com/greenelab/phenoplier/pull/38#discussion_r634600813\n",
    "gene_corrs_data = squareform(np.array(gene_corrs, dtype=np.float64))\n",
    "np.fill_diagonal(gene_corrs_data, 1.0)\n",
    "\n",
    "gene_corrs_df = pd.DataFrame(\n",
    "    data=gene_corrs_data,\n",
    "    index=gene_chr_ids,\n",
    "    columns=gene_chr_ids,\n",
    ")\n",
    "\n",
    "output_dir.mkdir(exist_ok=True, parents=True)\n",
    "display(output_file)\n",
    "\n",
    "gene_corrs_df.to_pickle(output_file)"
   ]
  },
  {
   "cell_type": "markdown",
   "id": "faa67b51-5373-470f-aa72-2ded53fa6dfe",
   "metadata": {
    "papermill": {
     "duration": 1.394354,
     "end_time": "2022-07-11T06:29:07.844633",
     "exception": false,
     "start_time": "2022-07-11T06:29:06.450279",
     "status": "completed"
    },
    "tags": []
   },
   "source": [
    "# Testing"
   ]
  },
  {
   "cell_type": "code",
   "execution_count": 33,
   "id": "14f7d046-4b55-4896-a56b-990127bcc388",
   "metadata": {
    "execution": {
     "iopub.execute_input": "2022-07-11T06:29:10.391659Z",
     "iopub.status.busy": "2022-07-11T06:29:10.389836Z",
     "iopub.status.idle": "2022-07-11T06:29:10.408174Z",
     "shell.execute_reply": "2022-07-11T06:29:10.407801Z"
    },
    "papermill": {
     "duration": 1.174117,
     "end_time": "2022-07-11T06:29:10.409411",
     "exception": false,
     "start_time": "2022-07-11T06:29:09.235294",
     "status": "completed"
    },
    "tags": []
   },
   "outputs": [
    {
     "data": {
      "text/plain": [
       "(244, 244)"
      ]
     },
     "execution_count": 33,
     "metadata": {},
     "output_type": "execute_result"
    }
   ],
   "source": [
    "gene_corrs_df.shape"
   ]
  },
  {
   "cell_type": "code",
   "execution_count": 34,
   "id": "c7d15414-3297-4537-a7c6-7588c0baeb75",
   "metadata": {
    "execution": {
     "iopub.execute_input": "2022-07-11T06:29:13.154484Z",
     "iopub.status.busy": "2022-07-11T06:29:13.154320Z",
     "iopub.status.idle": "2022-07-11T06:29:13.231976Z",
     "shell.execute_reply": "2022-07-11T06:29:13.231602Z"
    },
    "papermill": {
     "duration": 1.37917,
     "end_time": "2022-07-11T06:29:13.233060",
     "exception": false,
     "start_time": "2022-07-11T06:29:11.853890",
     "status": "completed"
    },
    "tags": []
   },
   "outputs": [
    {
     "data": {
      "text/html": [
       "<div>\n",
       "<style scoped>\n",
       "    .dataframe tbody tr th:only-of-type {\n",
       "        vertical-align: middle;\n",
       "    }\n",
       "\n",
       "    .dataframe tbody tr th {\n",
       "        vertical-align: top;\n",
       "    }\n",
       "\n",
       "    .dataframe thead th {\n",
       "        text-align: right;\n",
       "    }\n",
       "</style>\n",
       "<table border=\"1\" class=\"dataframe\">\n",
       "  <thead>\n",
       "    <tr style=\"text-align: right;\">\n",
       "      <th></th>\n",
       "      <th>ENSG00000272602</th>\n",
       "      <th>ENSG00000131127</th>\n",
       "      <th>ENSG00000174227</th>\n",
       "      <th>ENSG00000133256</th>\n",
       "      <th>ENSG00000169020</th>\n",
       "      <th>ENSG00000215375</th>\n",
       "      <th>ENSG00000169026</th>\n",
       "      <th>ENSG00000178950</th>\n",
       "      <th>ENSG00000145214</th>\n",
       "      <th>ENSG00000145217</th>\n",
       "      <th>...</th>\n",
       "      <th>ENSG00000109674</th>\n",
       "      <th>ENSG00000038002</th>\n",
       "      <th>ENSG00000129187</th>\n",
       "      <th>ENSG00000168310</th>\n",
       "      <th>ENSG00000164305</th>\n",
       "      <th>ENSG00000151726</th>\n",
       "      <th>ENSG00000151729</th>\n",
       "      <th>ENSG00000164342</th>\n",
       "      <th>ENSG00000164344</th>\n",
       "      <th>ENSG00000109536</th>\n",
       "    </tr>\n",
       "  </thead>\n",
       "  <tbody>\n",
       "    <tr>\n",
       "      <th>ENSG00000272602</th>\n",
       "      <td>1.000000</td>\n",
       "      <td>0.055963</td>\n",
       "      <td>0.190848</td>\n",
       "      <td>0.088953</td>\n",
       "      <td>0.097104</td>\n",
       "      <td>0.038496</td>\n",
       "      <td>0.039407</td>\n",
       "      <td>0.017085</td>\n",
       "      <td>0.010274</td>\n",
       "      <td>0.008550</td>\n",
       "      <td>...</td>\n",
       "      <td>0.0</td>\n",
       "      <td>0.0</td>\n",
       "      <td>0.0</td>\n",
       "      <td>0.0</td>\n",
       "      <td>0.0</td>\n",
       "      <td>0.0</td>\n",
       "      <td>0.0</td>\n",
       "      <td>0.0</td>\n",
       "      <td>0.0</td>\n",
       "      <td>0.0</td>\n",
       "    </tr>\n",
       "    <tr>\n",
       "      <th>ENSG00000131127</th>\n",
       "      <td>0.055963</td>\n",
       "      <td>1.000000</td>\n",
       "      <td>0.332490</td>\n",
       "      <td>0.074119</td>\n",
       "      <td>0.029108</td>\n",
       "      <td>0.026537</td>\n",
       "      <td>0.031696</td>\n",
       "      <td>0.017609</td>\n",
       "      <td>0.019846</td>\n",
       "      <td>0.004169</td>\n",
       "      <td>...</td>\n",
       "      <td>0.0</td>\n",
       "      <td>0.0</td>\n",
       "      <td>0.0</td>\n",
       "      <td>0.0</td>\n",
       "      <td>0.0</td>\n",
       "      <td>0.0</td>\n",
       "      <td>0.0</td>\n",
       "      <td>0.0</td>\n",
       "      <td>0.0</td>\n",
       "      <td>0.0</td>\n",
       "    </tr>\n",
       "    <tr>\n",
       "      <th>ENSG00000174227</th>\n",
       "      <td>0.190848</td>\n",
       "      <td>0.332490</td>\n",
       "      <td>1.000000</td>\n",
       "      <td>0.292886</td>\n",
       "      <td>0.180474</td>\n",
       "      <td>0.076075</td>\n",
       "      <td>0.091885</td>\n",
       "      <td>0.019070</td>\n",
       "      <td>0.014028</td>\n",
       "      <td>0.011207</td>\n",
       "      <td>...</td>\n",
       "      <td>0.0</td>\n",
       "      <td>0.0</td>\n",
       "      <td>0.0</td>\n",
       "      <td>0.0</td>\n",
       "      <td>0.0</td>\n",
       "      <td>0.0</td>\n",
       "      <td>0.0</td>\n",
       "      <td>0.0</td>\n",
       "      <td>0.0</td>\n",
       "      <td>0.0</td>\n",
       "    </tr>\n",
       "    <tr>\n",
       "      <th>ENSG00000133256</th>\n",
       "      <td>0.088953</td>\n",
       "      <td>0.074119</td>\n",
       "      <td>0.292886</td>\n",
       "      <td>1.000000</td>\n",
       "      <td>0.294576</td>\n",
       "      <td>0.213597</td>\n",
       "      <td>0.256943</td>\n",
       "      <td>0.017973</td>\n",
       "      <td>0.011281</td>\n",
       "      <td>0.005467</td>\n",
       "      <td>...</td>\n",
       "      <td>0.0</td>\n",
       "      <td>0.0</td>\n",
       "      <td>0.0</td>\n",
       "      <td>0.0</td>\n",
       "      <td>0.0</td>\n",
       "      <td>0.0</td>\n",
       "      <td>0.0</td>\n",
       "      <td>0.0</td>\n",
       "      <td>0.0</td>\n",
       "      <td>0.0</td>\n",
       "    </tr>\n",
       "    <tr>\n",
       "      <th>ENSG00000169020</th>\n",
       "      <td>0.097104</td>\n",
       "      <td>0.029108</td>\n",
       "      <td>0.180474</td>\n",
       "      <td>0.294576</td>\n",
       "      <td>1.000000</td>\n",
       "      <td>0.181358</td>\n",
       "      <td>0.209069</td>\n",
       "      <td>0.013160</td>\n",
       "      <td>0.008778</td>\n",
       "      <td>0.000006</td>\n",
       "      <td>...</td>\n",
       "      <td>0.0</td>\n",
       "      <td>0.0</td>\n",
       "      <td>0.0</td>\n",
       "      <td>0.0</td>\n",
       "      <td>0.0</td>\n",
       "      <td>0.0</td>\n",
       "      <td>0.0</td>\n",
       "      <td>0.0</td>\n",
       "      <td>0.0</td>\n",
       "      <td>0.0</td>\n",
       "    </tr>\n",
       "  </tbody>\n",
       "</table>\n",
       "<p>5 rows × 244 columns</p>\n",
       "</div>"
      ],
      "text/plain": [
       "                 ENSG00000272602  ENSG00000131127  ENSG00000174227  \\\n",
       "ENSG00000272602         1.000000         0.055963         0.190848   \n",
       "ENSG00000131127         0.055963         1.000000         0.332490   \n",
       "ENSG00000174227         0.190848         0.332490         1.000000   \n",
       "ENSG00000133256         0.088953         0.074119         0.292886   \n",
       "ENSG00000169020         0.097104         0.029108         0.180474   \n",
       "\n",
       "                 ENSG00000133256  ENSG00000169020  ENSG00000215375  \\\n",
       "ENSG00000272602         0.088953         0.097104         0.038496   \n",
       "ENSG00000131127         0.074119         0.029108         0.026537   \n",
       "ENSG00000174227         0.292886         0.180474         0.076075   \n",
       "ENSG00000133256         1.000000         0.294576         0.213597   \n",
       "ENSG00000169020         0.294576         1.000000         0.181358   \n",
       "\n",
       "                 ENSG00000169026  ENSG00000178950  ENSG00000145214  \\\n",
       "ENSG00000272602         0.039407         0.017085         0.010274   \n",
       "ENSG00000131127         0.031696         0.017609         0.019846   \n",
       "ENSG00000174227         0.091885         0.019070         0.014028   \n",
       "ENSG00000133256         0.256943         0.017973         0.011281   \n",
       "ENSG00000169020         0.209069         0.013160         0.008778   \n",
       "\n",
       "                 ENSG00000145217  ...  ENSG00000109674  ENSG00000038002  \\\n",
       "ENSG00000272602         0.008550  ...              0.0              0.0   \n",
       "ENSG00000131127         0.004169  ...              0.0              0.0   \n",
       "ENSG00000174227         0.011207  ...              0.0              0.0   \n",
       "ENSG00000133256         0.005467  ...              0.0              0.0   \n",
       "ENSG00000169020         0.000006  ...              0.0              0.0   \n",
       "\n",
       "                 ENSG00000129187  ENSG00000168310  ENSG00000164305  \\\n",
       "ENSG00000272602              0.0              0.0              0.0   \n",
       "ENSG00000131127              0.0              0.0              0.0   \n",
       "ENSG00000174227              0.0              0.0              0.0   \n",
       "ENSG00000133256              0.0              0.0              0.0   \n",
       "ENSG00000169020              0.0              0.0              0.0   \n",
       "\n",
       "                 ENSG00000151726  ENSG00000151729  ENSG00000164342  \\\n",
       "ENSG00000272602              0.0              0.0              0.0   \n",
       "ENSG00000131127              0.0              0.0              0.0   \n",
       "ENSG00000174227              0.0              0.0              0.0   \n",
       "ENSG00000133256              0.0              0.0              0.0   \n",
       "ENSG00000169020              0.0              0.0              0.0   \n",
       "\n",
       "                 ENSG00000164344  ENSG00000109536  \n",
       "ENSG00000272602              0.0              0.0  \n",
       "ENSG00000131127              0.0              0.0  \n",
       "ENSG00000174227              0.0              0.0  \n",
       "ENSG00000133256              0.0              0.0  \n",
       "ENSG00000169020              0.0              0.0  \n",
       "\n",
       "[5 rows x 244 columns]"
      ]
     },
     "execution_count": 34,
     "metadata": {},
     "output_type": "execute_result"
    }
   ],
   "source": [
    "gene_corrs_df.head()"
   ]
  },
  {
   "cell_type": "code",
   "execution_count": 35,
   "id": "286686af-1b7b-4440-8453-6bdcbd8de19c",
   "metadata": {
    "execution": {
     "iopub.execute_input": "2022-07-11T06:29:15.527543Z",
     "iopub.status.busy": "2022-07-11T06:29:15.527377Z",
     "iopub.status.idle": "2022-07-11T06:29:15.548045Z",
     "shell.execute_reply": "2022-07-11T06:29:15.547611Z"
    },
    "papermill": {
     "duration": 1.137911,
     "end_time": "2022-07-11T06:29:15.549422",
     "exception": false,
     "start_time": "2022-07-11T06:29:14.411511",
     "status": "completed"
    },
    "tags": []
   },
   "outputs": [],
   "source": [
    "assert not gene_corrs_df.isna().any().any()"
   ]
  },
  {
   "cell_type": "code",
   "execution_count": 36,
   "id": "00583efc-7068-4270-ad1e-4a418e91db96",
   "metadata": {
    "execution": {
     "iopub.execute_input": "2022-07-11T06:29:17.950077Z",
     "iopub.status.busy": "2022-07-11T06:29:17.949917Z",
     "iopub.status.idle": "2022-07-11T06:29:17.969225Z",
     "shell.execute_reply": "2022-07-11T06:29:17.968831Z"
    },
    "papermill": {
     "duration": 1.141149,
     "end_time": "2022-07-11T06:29:17.970477",
     "exception": false,
     "start_time": "2022-07-11T06:29:16.829328",
     "status": "completed"
    },
    "tags": []
   },
   "outputs": [
    {
     "data": {
      "text/plain": [
       "0.0"
      ]
     },
     "metadata": {},
     "output_type": "display_data"
    }
   ],
   "source": [
    "_min_val = gene_corrs_df.min().min()\n",
    "display(_min_val)\n",
    "assert _min_val >= 0.0"
   ]
  },
  {
   "cell_type": "code",
   "execution_count": 37,
   "id": "d04fb2cf-1050-475b-b855-f5f7cc04092b",
   "metadata": {
    "execution": {
     "iopub.execute_input": "2022-07-11T06:29:20.662265Z",
     "iopub.status.busy": "2022-07-11T06:29:20.662106Z",
     "iopub.status.idle": "2022-07-11T06:29:20.693642Z",
     "shell.execute_reply": "2022-07-11T06:29:20.693249Z"
    },
    "papermill": {
     "duration": 1.414462,
     "end_time": "2022-07-11T06:29:20.694834",
     "exception": false,
     "start_time": "2022-07-11T06:29:19.280372",
     "status": "completed"
    },
    "tags": []
   },
   "outputs": [
    {
     "data": {
      "text/plain": [
       "1.0"
      ]
     },
     "metadata": {},
     "output_type": "display_data"
    }
   ],
   "source": [
    "_max_val = gene_corrs_df.max().max()  # this captures the diagonal\n",
    "display(_max_val)\n",
    "assert _max_val <= 1.0"
   ]
  },
  {
   "cell_type": "code",
   "execution_count": 38,
   "id": "96d02c44-1fba-47be-8a93-8f2608420b9c",
   "metadata": {
    "execution": {
     "iopub.execute_input": "2022-07-11T06:29:23.231762Z",
     "iopub.status.busy": "2022-07-11T06:29:23.231601Z",
     "iopub.status.idle": "2022-07-11T06:29:23.253882Z",
     "shell.execute_reply": "2022-07-11T06:29:23.253349Z"
    },
    "papermill": {
     "duration": 1.33381,
     "end_time": "2022-07-11T06:29:23.255134",
     "exception": false,
     "start_time": "2022-07-11T06:29:21.921324",
     "status": "completed"
    },
    "tags": []
   },
   "outputs": [],
   "source": [
    "# check upper triangular values\n",
    "assert len(gene_corrs) == int(genes_chr.shape[0] * (genes_chr.shape[0] - 1) / 2)"
   ]
  },
  {
   "cell_type": "code",
   "execution_count": 39,
   "id": "aaa51627-f4e3-4744-a41f-7d25adcc0a78",
   "metadata": {
    "execution": {
     "iopub.execute_input": "2022-07-11T06:29:25.819779Z",
     "iopub.status.busy": "2022-07-11T06:29:25.819619Z",
     "iopub.status.idle": "2022-07-11T06:29:25.852771Z",
     "shell.execute_reply": "2022-07-11T06:29:25.852358Z"
    },
    "papermill": {
     "duration": 1.259456,
     "end_time": "2022-07-11T06:29:25.854046",
     "exception": false,
     "start_time": "2022-07-11T06:29:24.594590",
     "status": "completed"
    },
    "tags": []
   },
   "outputs": [],
   "source": [
    "gene_corrs = pd.Series(gene_corrs)"
   ]
  },
  {
   "cell_type": "code",
   "execution_count": 40,
   "id": "fe283586-c348-40e0-8841-f6d97bfb021c",
   "metadata": {
    "execution": {
     "iopub.execute_input": "2022-07-11T06:29:28.677394Z",
     "iopub.status.busy": "2022-07-11T06:29:28.677234Z",
     "iopub.status.idle": "2022-07-11T06:29:28.711773Z",
     "shell.execute_reply": "2022-07-11T06:29:28.711364Z"
    },
    "papermill": {
     "duration": 1.422678,
     "end_time": "2022-07-11T06:29:28.712853",
     "exception": false,
     "start_time": "2022-07-11T06:29:27.290175",
     "status": "completed"
    },
    "tags": []
   },
   "outputs": [
    {
     "data": {
      "text/plain": [
       "count    29646.000000\n",
       "mean         0.001888\n",
       "std          0.022197\n",
       "min          0.000000\n",
       "25%          0.000000\n",
       "50%          0.000000\n",
       "75%          0.000000\n",
       "max          0.923846\n",
       "dtype: float64"
      ]
     },
     "execution_count": 40,
     "metadata": {},
     "output_type": "execute_result"
    }
   ],
   "source": [
    "gene_corrs.describe()"
   ]
  },
  {
   "cell_type": "code",
   "execution_count": 41,
   "id": "b3815678-0f93-4b35-897b-a9d047a2aa78",
   "metadata": {
    "execution": {
     "iopub.execute_input": "2022-07-11T06:29:31.523343Z",
     "iopub.status.busy": "2022-07-11T06:29:31.523178Z",
     "iopub.status.idle": "2022-07-11T06:29:31.553491Z",
     "shell.execute_reply": "2022-07-11T06:29:31.553096Z"
    },
    "papermill": {
     "duration": 1.486874,
     "end_time": "2022-07-11T06:29:31.554717",
     "exception": false,
     "start_time": "2022-07-11T06:29:30.067843",
     "status": "completed"
    },
    "tags": []
   },
   "outputs": [
    {
     "data": {
      "text/plain": [
       "0.00    0.000000\n",
       "0.05    0.000000\n",
       "0.10    0.000000\n",
       "0.15    0.000000\n",
       "0.20    0.000000\n",
       "0.25    0.000000\n",
       "0.30    0.000000\n",
       "0.35    0.000000\n",
       "0.40    0.000000\n",
       "0.45    0.000000\n",
       "0.50    0.000000\n",
       "0.55    0.000000\n",
       "0.60    0.000000\n",
       "0.65    0.000000\n",
       "0.70    0.000000\n",
       "0.75    0.000000\n",
       "0.80    0.000000\n",
       "0.85    0.000000\n",
       "0.90    0.000000\n",
       "0.95    0.006262\n",
       "dtype: float64"
      ]
     },
     "metadata": {},
     "output_type": "display_data"
    }
   ],
   "source": [
    "gene_corrs_quantiles = gene_corrs.quantile(np.arange(0, 1, 0.05))\n",
    "display(gene_corrs_quantiles)"
   ]
  },
  {
   "cell_type": "markdown",
   "id": "8e60a080-edb2-4e9c-b2ef-22961693200c",
   "metadata": {
    "papermill": {
     "duration": 1.323803,
     "end_time": "2022-07-11T06:29:34.099125",
     "exception": false,
     "start_time": "2022-07-11T06:29:32.775322",
     "status": "completed"
    },
    "tags": []
   },
   "source": [
    "## Plot: distribution"
   ]
  },
  {
   "cell_type": "code",
   "execution_count": 42,
   "id": "8301126b-a7d4-4744-9c7d-f0f86eb6f54c",
   "metadata": {
    "execution": {
     "iopub.execute_input": "2022-07-11T06:29:36.692744Z",
     "iopub.status.busy": "2022-07-11T06:29:36.692584Z",
     "iopub.status.idle": "2022-07-11T06:29:37.061264Z",
     "shell.execute_reply": "2022-07-11T06:29:37.060866Z"
    },
    "papermill": {
     "duration": 1.553715,
     "end_time": "2022-07-11T06:29:37.062427",
     "exception": false,
     "start_time": "2022-07-11T06:29:35.508712",
     "status": "completed"
    },
    "tags": []
   },
   "outputs": [
    {
     "data": {
      "image/png": "[encoded data removed]",
      "text/plain": [
       "<Figure size 504x504 with 1 Axes>"
      ]
     },
     "metadata": {
      "needs_background": "light"
     },
     "output_type": "display_data"
    }
   ],
   "source": [
    "with sns.plotting_context(\"paper\", font_scale=1.5):\n",
    "    g = sns.displot(gene_corrs, kde=True, height=7)\n",
    "    g.ax.set_title(\n",
    "        f\"Distribution of gene correlation values in chromosome {chromosome}\"\n",
    "    )"
   ]
  },
  {
   "cell_type": "markdown",
   "id": "cbd52bca-d878-4a2f-b684-5c83aa3038d4",
   "metadata": {
    "papermill": {
     "duration": 1.25324,
     "end_time": "2022-07-11T06:29:39.591272",
     "exception": false,
     "start_time": "2022-07-11T06:29:38.338032",
     "status": "completed"
    },
    "tags": []
   },
   "source": [
    "## Plot: heatmap"
   ]
  },
  {
   "cell_type": "code",
   "execution_count": 43,
   "id": "d03fe63a-c7b2-4fb9-a53c-db362ce843c9",
   "metadata": {
    "execution": {
     "iopub.execute_input": "2022-07-11T06:29:42.369456Z",
     "iopub.status.busy": "2022-07-11T06:29:42.369293Z",
     "iopub.status.idle": "2022-07-11T06:29:42.398931Z",
     "shell.execute_reply": "2022-07-11T06:29:42.398536Z"
    },
    "papermill": {
     "duration": 1.355874,
     "end_time": "2022-07-11T06:29:42.400112",
     "exception": false,
     "start_time": "2022-07-11T06:29:41.044238",
     "status": "completed"
    },
    "tags": []
   },
   "outputs": [
    {
     "data": {
      "text/plain": [
       "'-0.05 / 0.05'"
      ]
     },
     "metadata": {},
     "output_type": "display_data"
    }
   ],
   "source": [
    "vmin_val = min(-0.05, gene_corrs_quantiles[0.10])\n",
    "vmax_val = max(0.05, gene_corrs_quantiles[0.90])\n",
    "display(f\"{vmin_val} / {vmax_val}\")"
   ]
  },
  {
   "cell_type": "code",
   "execution_count": 44,
   "id": "dc41b70b-5bcc-4d9e-9f33-a22c4a94dab5",
   "metadata": {
    "execution": {
     "iopub.execute_input": "2022-07-11T06:29:45.105719Z",
     "iopub.status.busy": "2022-07-11T06:29:45.105555Z",
     "iopub.status.idle": "2022-07-11T06:29:45.360167Z",
     "shell.execute_reply": "2022-07-11T06:29:45.359734Z"
    },
    "papermill": {
     "duration": 1.574719,
     "end_time": "2022-07-11T06:29:45.361329",
     "exception": false,
     "start_time": "2022-07-11T06:29:43.786610",
     "status": "completed"
    },
    "tags": []
   },
   "outputs": [
    {
     "data": {
      "text/plain": [
       "Text(0.5, 1.0, 'Gene correlations in chromosome 4')"
      ]
     },
     "execution_count": 44,
     "metadata": {},
     "output_type": "execute_result"
    },
    {
     "data": {
      "image/png": "[encoded data removed]",
      "text/plain": [
       "<Figure size 720x720 with 2 Axes>"
      ]
     },
     "metadata": {
      "needs_background": "light"
     },
     "output_type": "display_data"
    }
   ],
   "source": [
    "f, ax = plt.subplots(figsize=(10, 10))\n",
    "sns.heatmap(\n",
    "    gene_corrs_df,\n",
    "    xticklabels=False,\n",
    "    yticklabels=False,\n",
    "    square=True,\n",
    "    vmin=vmin_val,\n",
    "    vmax=vmax_val,\n",
    "    cmap=\"YlGnBu\",\n",
    "    ax=ax,\n",
    ")\n",
    "ax.set_title(f\"Gene correlations in chromosome {chromosome}\")"
   ]
  },
  {
   "cell_type": "code",
   "execution_count": null,
   "id": "b25e3ead",
   "metadata": {
    "papermill": {
     "duration": 1.094742,
     "end_time": "2022-07-11T06:29:47.723064",
     "exception": false,
     "start_time": "2022-07-11T06:29:46.628322",
     "status": "completed"
    },
    "tags": []
   },
   "outputs": [],
   "source": []
  }
 ],
 "metadata": {
  "jupytext": {
   "cell_metadata_filter": "all,-execution,-papermill,-trusted",
   "formats": "ipynb,py//py:percent"
  },
  "kernelspec": {
   "display_name": "Python 3 (ipykernel)",
   "language": "python",
   "name": "python3"
  },
  "language_info": {
   "codemirror_mode": {
    "name": "ipython",
    "version": 3
   },
   "file_extension": ".py",
   "mimetype": "text/x-python",
   "name": "python",
   "nbconvert_exporter": "python",
   "pygments_lexer": "ipython3",
   "version": "3.8.13"
  },
  "papermill": {
   "default_parameters": {},
   "duration": 478.513103,
   "end_time": "2022-07-11T06:29:51.781674",
   "environment_variables": {},
   "exception": null,
   "input_path": "nbs/15_gsa_gls/10-gene_expr_correlations.ipynb",
   "output_path": "nbs/15_gsa_gls/gene_corrs/1000g/mashr/10-gene_expr_correlations-chr4.run.ipynb",
   "parameters": {
    "EQTL_MODEL": "MASHR",
    "REFERENCE_PANEL": "1000G",
    "chromosome": 4
   },
   "start_time": "2022-07-11T06:21:53.268571",
   "version": "2.2.2"
  }
 },
 "nbformat": 4,
 "nbformat_minor": 5
}
