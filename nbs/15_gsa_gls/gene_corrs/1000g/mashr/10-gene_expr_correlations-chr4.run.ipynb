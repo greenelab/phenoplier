{
 "cells": [
  {
   "cell_type": "markdown",
   "id": "7a6632fb",
   "metadata": {
    "papermill": {
     "duration": 0.006197,
     "end_time": "2022-07-12T03:24:50.586216",
     "exception": false,
     "start_time": "2022-07-12T03:24:50.580019",
     "status": "completed"
    },
    "tags": []
   },
   "source": [
    "# Description"
   ]
  },
  {
   "cell_type": "markdown",
   "id": "7097c346",
   "metadata": {
    "papermill": {
     "duration": 0.005621,
     "end_time": "2022-07-12T03:24:50.597452",
     "exception": false,
     "start_time": "2022-07-12T03:24:50.591831",
     "status": "completed"
    },
    "tags": []
   },
   "source": [
    "(Please, take a look at the README.md file in this directory for instructions on how to run this notebook)\n",
    "\n",
    "This notebook computes predicted expression correlations between all genes in the MultiPLIER models.\n",
    "\n",
    "It also has a parameter set for papermill to run on a single chromosome to run in parallel (see under `Settings` below).\n",
    "\n",
    "This notebook is not directly run. See README.md."
   ]
  },
  {
   "cell_type": "markdown",
   "id": "c61d8427",
   "metadata": {
    "papermill": {
     "duration": 0.005492,
     "end_time": "2022-07-12T03:24:50.608551",
     "exception": false,
     "start_time": "2022-07-12T03:24:50.603059",
     "status": "completed"
    },
    "tags": []
   },
   "source": [
    "# Modules"
   ]
  },
  {
   "cell_type": "code",
   "execution_count": 1,
   "id": "bbc0234f",
   "metadata": {
    "execution": {
     "iopub.execute_input": "2022-07-12T03:24:50.621575Z",
     "iopub.status.busy": "2022-07-12T03:24:50.621333Z",
     "iopub.status.idle": "2022-07-12T03:24:50.635643Z",
     "shell.execute_reply": "2022-07-12T03:24:50.635231Z"
    },
    "papermill": {
     "duration": 0.022743,
     "end_time": "2022-07-12T03:24:50.636997",
     "exception": false,
     "start_time": "2022-07-12T03:24:50.614254",
     "status": "completed"
    },
    "tags": []
   },
   "outputs": [],
   "source": [
    "%load_ext autoreload\n",
    "%autoreload 2"
   ]
  },
  {
   "cell_type": "code",
   "execution_count": 2,
   "id": "1d5f5a59",
   "metadata": {
    "execution": {
     "iopub.execute_input": "2022-07-12T03:24:50.676850Z",
     "iopub.status.busy": "2022-07-12T03:24:50.676528Z",
     "iopub.status.idle": "2022-07-12T03:24:51.573496Z",
     "shell.execute_reply": "2022-07-12T03:24:51.572950Z"
    },
    "papermill": {
     "duration": 0.905431,
     "end_time": "2022-07-12T03:24:51.574941",
     "exception": false,
     "start_time": "2022-07-12T03:24:50.669510",
     "status": "completed"
    },
    "tags": []
   },
   "outputs": [],
   "source": [
    "from random import sample, seed\n",
    "import warnings\n",
    "from pathlib import Path\n",
    "\n",
    "import numpy as np\n",
    "from scipy.spatial.distance import squareform\n",
    "import pandas as pd\n",
    "from tqdm import tqdm\n",
    "import matplotlib.pyplot as plt\n",
    "import seaborn as sns\n",
    "\n",
    "import conf\n",
    "from entity import Gene"
   ]
  },
  {
   "cell_type": "markdown",
   "id": "1eac24b5",
   "metadata": {
    "papermill": {
     "duration": 0.005527,
     "end_time": "2022-07-12T03:24:51.586559",
     "exception": false,
     "start_time": "2022-07-12T03:24:51.581032",
     "status": "completed"
    },
    "tags": []
   },
   "source": [
    "# Settings"
   ]
  },
  {
   "cell_type": "code",
   "execution_count": 3,
   "id": "ca4560ba",
   "metadata": {
    "execution": {
     "iopub.execute_input": "2022-07-12T03:24:51.598483Z",
     "iopub.status.busy": "2022-07-12T03:24:51.598243Z",
     "iopub.status.idle": "2022-07-12T03:24:51.612686Z",
     "shell.execute_reply": "2022-07-12T03:24:51.612272Z"
    },
    "papermill": {
     "duration": 0.021934,
     "end_time": "2022-07-12T03:24:51.613983",
     "exception": false,
     "start_time": "2022-07-12T03:24:51.592049",
     "status": "completed"
    },
    "tags": [
     "parameters"
    ]
   },
   "outputs": [],
   "source": [
    "# reference panel\n",
    "REFERENCE_PANEL = \"GTEX_V8\"\n",
    "# REFERENCE_PANEL = \"1000G\"\n",
    "\n",
    "# prediction models\n",
    "## mashr\n",
    "EQTL_MODEL = \"MASHR\"\n",
    "\n",
    "# this is the default value used in S-MultiXcan to select the\n",
    "# top principal components of the expression correlation matrix\n",
    "SMULTIXCAN_CONDITION_NUMBER = 30\n",
    "\n",
    "# specifies a single chromosome value\n",
    "# by default, run on all chromosomes\n",
    "chromosome = None"
   ]
  },
  {
   "cell_type": "code",
   "execution_count": 4,
   "id": "4ae8d8b4",
   "metadata": {
    "execution": {
     "iopub.execute_input": "2022-07-12T03:24:51.626394Z",
     "iopub.status.busy": "2022-07-12T03:24:51.626176Z",
     "iopub.status.idle": "2022-07-12T03:24:51.640151Z",
     "shell.execute_reply": "2022-07-12T03:24:51.639743Z"
    },
    "papermill": {
     "duration": 0.021802,
     "end_time": "2022-07-12T03:24:51.641490",
     "exception": false,
     "start_time": "2022-07-12T03:24:51.619688",
     "status": "completed"
    },
    "tags": [
     "injected-parameters"
    ]
   },
   "outputs": [],
   "source": [
    "# Parameters\n",
    "chromosome = 4\n",
    "REFERENCE_PANEL = \"1000G\"\n",
    "EQTL_MODEL = \"MASHR\"\n"
   ]
  },
  {
   "cell_type": "code",
   "execution_count": 5,
   "id": "a089c9ff",
   "metadata": {
    "execution": {
     "iopub.execute_input": "2022-07-12T03:24:51.653704Z",
     "iopub.status.busy": "2022-07-12T03:24:51.653235Z",
     "iopub.status.idle": "2022-07-12T03:24:51.667451Z",
     "shell.execute_reply": "2022-07-12T03:24:51.667025Z"
    },
    "papermill": {
     "duration": 0.021607,
     "end_time": "2022-07-12T03:24:51.668677",
     "exception": false,
     "start_time": "2022-07-12T03:24:51.647070",
     "status": "completed"
    },
    "tags": []
   },
   "outputs": [],
   "source": [
    "EQTL_MODEL_FILES_PREFIX = conf.PHENOMEXCAN[\"PREDICTION_MODELS\"][f\"{EQTL_MODEL}_PREFIX\"]"
   ]
  },
  {
   "cell_type": "code",
   "execution_count": 6,
   "id": "8fe24bef",
   "metadata": {
    "execution": {
     "iopub.execute_input": "2022-07-12T03:24:51.682652Z",
     "iopub.status.busy": "2022-07-12T03:24:51.682359Z",
     "iopub.status.idle": "2022-07-12T03:24:51.698249Z",
     "shell.execute_reply": "2022-07-12T03:24:51.697790Z"
    },
    "papermill": {
     "duration": 0.024892,
     "end_time": "2022-07-12T03:24:51.699616",
     "exception": false,
     "start_time": "2022-07-12T03:24:51.674724",
     "status": "completed"
    },
    "tags": []
   },
   "outputs": [
    {
     "data": {
      "text/plain": [
       "'Using eQTL model: MASHR / mashr_'"
      ]
     },
     "metadata": {},
     "output_type": "display_data"
    }
   ],
   "source": [
    "display(f\"Using eQTL model: {EQTL_MODEL} / {EQTL_MODEL_FILES_PREFIX}\")"
   ]
  },
  {
   "cell_type": "code",
   "execution_count": 7,
   "id": "552a7f63-a18c-4d3e-bb6a-94f99b431291",
   "metadata": {
    "execution": {
     "iopub.execute_input": "2022-07-12T03:24:51.711980Z",
     "iopub.status.busy": "2022-07-12T03:24:51.711784Z",
     "iopub.status.idle": "2022-07-12T03:24:51.727622Z",
     "shell.execute_reply": "2022-07-12T03:24:51.727155Z"
    },
    "papermill": {
     "duration": 0.023468,
     "end_time": "2022-07-12T03:24:51.728832",
     "exception": false,
     "start_time": "2022-07-12T03:24:51.705364",
     "status": "completed"
    },
    "tags": []
   },
   "outputs": [
    {
     "data": {
      "text/plain": [
       "'S-MultiXcan condition number: 30'"
      ]
     },
     "metadata": {},
     "output_type": "display_data"
    }
   ],
   "source": [
    "display(f\"S-MultiXcan condition number: {SMULTIXCAN_CONDITION_NUMBER}\")"
   ]
  },
  {
   "cell_type": "code",
   "execution_count": 8,
   "id": "0230ebcb-2c32-4b95-9292-d9a52038e70d",
   "metadata": {
    "execution": {
     "iopub.execute_input": "2022-07-12T03:24:51.741337Z",
     "iopub.status.busy": "2022-07-12T03:24:51.741133Z",
     "iopub.status.idle": "2022-07-12T03:24:51.755066Z",
     "shell.execute_reply": "2022-07-12T03:24:51.754680Z"
    },
    "papermill": {
     "duration": 0.021809,
     "end_time": "2022-07-12T03:24:51.756361",
     "exception": false,
     "start_time": "2022-07-12T03:24:51.734552",
     "status": "completed"
    },
    "tags": []
   },
   "outputs": [],
   "source": [
    "REFERENCE_PANEL_DIR = conf.PHENOMEXCAN[\"LD_BLOCKS\"][f\"{REFERENCE_PANEL}_GENOTYPE_DIR\"]"
   ]
  },
  {
   "cell_type": "code",
   "execution_count": 9,
   "id": "98c4a159-601d-4a22-a1ab-35bd451c25f9",
   "metadata": {
    "execution": {
     "iopub.execute_input": "2022-07-12T03:24:51.768793Z",
     "iopub.status.busy": "2022-07-12T03:24:51.768604Z",
     "iopub.status.idle": "2022-07-12T03:24:51.782894Z",
     "shell.execute_reply": "2022-07-12T03:24:51.782429Z"
    },
    "papermill": {
     "duration": 0.021775,
     "end_time": "2022-07-12T03:24:51.784084",
     "exception": false,
     "start_time": "2022-07-12T03:24:51.762309",
     "status": "completed"
    },
    "tags": []
   },
   "outputs": [
    {
     "data": {
      "text/plain": [
       "'Using reference panel folder: /opt/data/data/phenomexcan/ld_blocks/reference_panel_1000G'"
      ]
     },
     "metadata": {},
     "output_type": "display_data"
    }
   ],
   "source": [
    "display(f\"Using reference panel folder: {str(REFERENCE_PANEL_DIR)}\")"
   ]
  },
  {
   "cell_type": "code",
   "execution_count": 10,
   "id": "396392dc-0340-4540-9b02-e182b833f909",
   "metadata": {
    "execution": {
     "iopub.execute_input": "2022-07-12T03:24:51.797187Z",
     "iopub.status.busy": "2022-07-12T03:24:51.796819Z",
     "iopub.status.idle": "2022-07-12T03:24:51.812187Z",
     "shell.execute_reply": "2022-07-12T03:24:51.811692Z"
    },
    "papermill": {
     "duration": 0.023513,
     "end_time": "2022-07-12T03:24:51.813487",
     "exception": false,
     "start_time": "2022-07-12T03:24:51.789974",
     "status": "completed"
    },
    "tags": []
   },
   "outputs": [],
   "source": [
    "OUTPUT_DIR_BASE = (\n",
    "    conf.PHENOMEXCAN[\"LD_BLOCKS\"][f\"GENE_CORRS_DIR\"]\n",
    "    / REFERENCE_PANEL.lower()\n",
    "    / EQTL_MODEL.lower()\n",
    ")\n",
    "OUTPUT_DIR_BASE.mkdir(parents=True, exist_ok=True)"
   ]
  },
  {
   "cell_type": "code",
   "execution_count": 11,
   "id": "8942c2d3-e53c-4d63-a0eb-b6fce0574d36",
   "metadata": {
    "execution": {
     "iopub.execute_input": "2022-07-12T03:24:51.826471Z",
     "iopub.status.busy": "2022-07-12T03:24:51.826279Z",
     "iopub.status.idle": "2022-07-12T03:24:51.841503Z",
     "shell.execute_reply": "2022-07-12T03:24:51.841093Z"
    },
    "papermill": {
     "duration": 0.023129,
     "end_time": "2022-07-12T03:24:51.842684",
     "exception": false,
     "start_time": "2022-07-12T03:24:51.819555",
     "status": "completed"
    },
    "tags": []
   },
   "outputs": [
    {
     "data": {
      "text/plain": [
       "'Using output dir base: /opt/data/data/phenomexcan/ld_blocks/gene_corrs/1000g/mashr'"
      ]
     },
     "metadata": {},
     "output_type": "display_data"
    }
   ],
   "source": [
    "display(f\"Using output dir base: {OUTPUT_DIR_BASE}\")"
   ]
  },
  {
   "cell_type": "code",
   "execution_count": 12,
   "id": "408aa590",
   "metadata": {
    "execution": {
     "iopub.execute_input": "2022-07-12T03:24:51.855672Z",
     "iopub.status.busy": "2022-07-12T03:24:51.855458Z",
     "iopub.status.idle": "2022-07-12T03:24:51.869556Z",
     "shell.execute_reply": "2022-07-12T03:24:51.869178Z"
    },
    "papermill": {
     "duration": 0.021946,
     "end_time": "2022-07-12T03:24:51.870828",
     "exception": false,
     "start_time": "2022-07-12T03:24:51.848882",
     "status": "completed"
    },
    "tags": []
   },
   "outputs": [],
   "source": [
    "assert (\n",
    "    chromosome is not None\n",
    "), \"You have to select one chromosome (format: number between 1 and 22)\""
   ]
  },
  {
   "cell_type": "code",
   "execution_count": 13,
   "id": "c1c7dd06-80ff-453c-bcb7-0899edce75da",
   "metadata": {
    "execution": {
     "iopub.execute_input": "2022-07-12T03:24:51.885035Z",
     "iopub.status.busy": "2022-07-12T03:24:51.884840Z",
     "iopub.status.idle": "2022-07-12T03:24:51.898463Z",
     "shell.execute_reply": "2022-07-12T03:24:51.898047Z"
    },
    "papermill": {
     "duration": 0.021496,
     "end_time": "2022-07-12T03:24:51.899806",
     "exception": false,
     "start_time": "2022-07-12T03:24:51.878310",
     "status": "completed"
    },
    "tags": []
   },
   "outputs": [],
   "source": [
    "chromosome = str(chromosome)"
   ]
  },
  {
   "cell_type": "code",
   "execution_count": 14,
   "id": "bc17b84c-9c26-47a5-a3ab-7046e72f3ef4",
   "metadata": {
    "execution": {
     "iopub.execute_input": "2022-07-12T03:24:51.912867Z",
     "iopub.status.busy": "2022-07-12T03:24:51.912661Z",
     "iopub.status.idle": "2022-07-12T03:24:51.928877Z",
     "shell.execute_reply": "2022-07-12T03:24:51.928466Z"
    },
    "papermill": {
     "duration": 0.024124,
     "end_time": "2022-07-12T03:24:51.930060",
     "exception": false,
     "start_time": "2022-07-12T03:24:51.905936",
     "status": "completed"
    },
    "tags": []
   },
   "outputs": [
    {
     "data": {
      "text/plain": [
       "'Working on chromosome 4'"
      ]
     },
     "metadata": {},
     "output_type": "display_data"
    }
   ],
   "source": [
    "display(f\"Working on chromosome {chromosome}\")"
   ]
  },
  {
   "cell_type": "code",
   "execution_count": 15,
   "id": "3c7d8574-90c7-4d09-bc8c-469ed0a34737",
   "metadata": {
    "execution": {
     "iopub.execute_input": "2022-07-12T03:24:51.943058Z",
     "iopub.status.busy": "2022-07-12T03:24:51.942854Z",
     "iopub.status.idle": "2022-07-12T03:24:51.957189Z",
     "shell.execute_reply": "2022-07-12T03:24:51.956763Z"
    },
    "papermill": {
     "duration": 0.022094,
     "end_time": "2022-07-12T03:24:51.958360",
     "exception": false,
     "start_time": "2022-07-12T03:24:51.936266",
     "status": "completed"
    },
    "tags": []
   },
   "outputs": [
    {
     "data": {
      "text/plain": [
       "'Compute correlation within distance False'"
      ]
     },
     "metadata": {},
     "output_type": "display_data"
    }
   ],
   "source": [
    "# This paramter, if True, computes the correlation between closeby genes only\n",
    "COMPUTE_CORRELATIONS_WITHIN_DISTANCE = False\n",
    "display(f\"Compute correlation within distance {COMPUTE_CORRELATIONS_WITHIN_DISTANCE}\")"
   ]
  },
  {
   "cell_type": "markdown",
   "id": "d2ba085e",
   "metadata": {
    "papermill": {
     "duration": 0.006184,
     "end_time": "2022-07-12T03:24:51.970926",
     "exception": false,
     "start_time": "2022-07-12T03:24:51.964742",
     "status": "completed"
    },
    "tags": []
   },
   "source": [
    "# Load data"
   ]
  },
  {
   "cell_type": "markdown",
   "id": "7bed0ce0-e7c7-4300-9a61-5412450b1904",
   "metadata": {
    "papermill": {
     "duration": 0.00608,
     "end_time": "2022-07-12T03:24:51.983255",
     "exception": false,
     "start_time": "2022-07-12T03:24:51.977175",
     "status": "completed"
    },
    "tags": []
   },
   "source": [
    "## Prediction model tissues"
   ]
  },
  {
   "cell_type": "code",
   "execution_count": 16,
   "id": "0847c065-0d69-4830-a07f-1c75115d17f5",
   "metadata": {
    "execution": {
     "iopub.execute_input": "2022-07-12T03:24:51.996424Z",
     "iopub.status.busy": "2022-07-12T03:24:51.996200Z",
     "iopub.status.idle": "2022-07-12T03:24:52.010486Z",
     "shell.execute_reply": "2022-07-12T03:24:52.010034Z"
    },
    "papermill": {
     "duration": 0.022284,
     "end_time": "2022-07-12T03:24:52.011775",
     "exception": false,
     "start_time": "2022-07-12T03:24:51.989491",
     "status": "completed"
    },
    "tags": []
   },
   "outputs": [],
   "source": [
    "prediction_model_tissues = conf.PHENOMEXCAN[\"PREDICTION_MODELS\"][\n",
    "    f\"{EQTL_MODEL}_TISSUES\"\n",
    "].split(\" \")"
   ]
  },
  {
   "cell_type": "code",
   "execution_count": 17,
   "id": "aaef70d1-30c6-4c6f-9d6b-abc8e9a0081f",
   "metadata": {
    "execution": {
     "iopub.execute_input": "2022-07-12T03:24:52.025542Z",
     "iopub.status.busy": "2022-07-12T03:24:52.025239Z",
     "iopub.status.idle": "2022-07-12T03:24:52.039800Z",
     "shell.execute_reply": "2022-07-12T03:24:52.039335Z"
    },
    "papermill": {
     "duration": 0.022732,
     "end_time": "2022-07-12T03:24:52.041086",
     "exception": false,
     "start_time": "2022-07-12T03:24:52.018354",
     "status": "completed"
    },
    "tags": []
   },
   "outputs": [
    {
     "data": {
      "text/plain": [
       "49"
      ]
     },
     "execution_count": 17,
     "metadata": {},
     "output_type": "execute_result"
    }
   ],
   "source": [
    "len(prediction_model_tissues)"
   ]
  },
  {
   "cell_type": "code",
   "execution_count": 18,
   "id": "ff35a099-c52d-465d-b863-0ee70c26208c",
   "metadata": {
    "execution": {
     "iopub.execute_input": "2022-07-12T03:24:52.055473Z",
     "iopub.status.busy": "2022-07-12T03:24:52.055260Z",
     "iopub.status.idle": "2022-07-12T03:24:52.069855Z",
     "shell.execute_reply": "2022-07-12T03:24:52.069373Z"
    },
    "papermill": {
     "duration": 0.02309,
     "end_time": "2022-07-12T03:24:52.071089",
     "exception": false,
     "start_time": "2022-07-12T03:24:52.047999",
     "status": "completed"
    },
    "tags": []
   },
   "outputs": [
    {
     "data": {
      "text/plain": [
       "['Skin_Not_Sun_Exposed_Suprapubic',\n",
       " 'Cells_EBV-transformed_lymphocytes',\n",
       " 'Brain_Frontal_Cortex_BA9',\n",
       " 'Kidney_Cortex',\n",
       " 'Brain_Substantia_nigra']"
      ]
     },
     "execution_count": 18,
     "metadata": {},
     "output_type": "execute_result"
    }
   ],
   "source": [
    "prediction_model_tissues[:5]"
   ]
  },
  {
   "cell_type": "markdown",
   "id": "abcc4b3d",
   "metadata": {
    "papermill": {
     "duration": 0.006554,
     "end_time": "2022-07-12T03:24:52.084232",
     "exception": false,
     "start_time": "2022-07-12T03:24:52.077678",
     "status": "completed"
    },
    "tags": []
   },
   "source": [
    "## MultiPLIER Z"
   ]
  },
  {
   "cell_type": "code",
   "execution_count": 19,
   "id": "c48ef527",
   "metadata": {
    "execution": {
     "iopub.execute_input": "2022-07-12T03:24:52.099132Z",
     "iopub.status.busy": "2022-07-12T03:24:52.098417Z",
     "iopub.status.idle": "2022-07-12T03:24:52.137027Z",
     "shell.execute_reply": "2022-07-12T03:24:52.136604Z"
    },
    "papermill": {
     "duration": 0.047319,
     "end_time": "2022-07-12T03:24:52.138374",
     "exception": false,
     "start_time": "2022-07-12T03:24:52.091055",
     "status": "completed"
    },
    "tags": []
   },
   "outputs": [],
   "source": [
    "multiplier_z_genes = pd.read_pickle(\n",
    "    conf.MULTIPLIER[\"MODEL_Z_MATRIX_FILE\"]\n",
    ").index.tolist()"
   ]
  },
  {
   "cell_type": "code",
   "execution_count": 20,
   "id": "0a4ecbd9",
   "metadata": {
    "execution": {
     "iopub.execute_input": "2022-07-12T03:24:52.152699Z",
     "iopub.status.busy": "2022-07-12T03:24:52.152531Z",
     "iopub.status.idle": "2022-07-12T03:24:52.167042Z",
     "shell.execute_reply": "2022-07-12T03:24:52.166588Z"
    },
    "papermill": {
     "duration": 0.023249,
     "end_time": "2022-07-12T03:24:52.168263",
     "exception": false,
     "start_time": "2022-07-12T03:24:52.145014",
     "status": "completed"
    },
    "tags": []
   },
   "outputs": [
    {
     "data": {
      "text/plain": [
       "6750"
      ]
     },
     "execution_count": 20,
     "metadata": {},
     "output_type": "execute_result"
    }
   ],
   "source": [
    "len(multiplier_z_genes)"
   ]
  },
  {
   "cell_type": "code",
   "execution_count": 21,
   "id": "115e8864",
   "metadata": {
    "execution": {
     "iopub.execute_input": "2022-07-12T03:24:52.182144Z",
     "iopub.status.busy": "2022-07-12T03:24:52.181947Z",
     "iopub.status.idle": "2022-07-12T03:24:52.196334Z",
     "shell.execute_reply": "2022-07-12T03:24:52.195909Z"
    },
    "papermill": {
     "duration": 0.022595,
     "end_time": "2022-07-12T03:24:52.197542",
     "exception": false,
     "start_time": "2022-07-12T03:24:52.174947",
     "status": "completed"
    },
    "tags": []
   },
   "outputs": [
    {
     "data": {
      "text/plain": [
       "['GAS6',\n",
       " 'MMP14',\n",
       " 'DSP',\n",
       " 'MARCKSL1',\n",
       " 'SPARC',\n",
       " 'CTSD',\n",
       " 'EPAS1',\n",
       " 'PALLD',\n",
       " 'PHC2',\n",
       " 'LGALS3BP']"
      ]
     },
     "execution_count": 21,
     "metadata": {},
     "output_type": "execute_result"
    }
   ],
   "source": [
    "multiplier_z_genes[:10]"
   ]
  },
  {
   "cell_type": "markdown",
   "id": "7dcb8db7",
   "metadata": {
    "papermill": {
     "duration": 0.006527,
     "end_time": "2022-07-12T03:24:52.210748",
     "exception": false,
     "start_time": "2022-07-12T03:24:52.204221",
     "status": "completed"
    },
    "tags": []
   },
   "source": [
    "## Get gene objects"
   ]
  },
  {
   "cell_type": "code",
   "execution_count": 22,
   "id": "bb932812",
   "metadata": {
    "execution": {
     "iopub.execute_input": "2022-07-12T03:24:52.225128Z",
     "iopub.status.busy": "2022-07-12T03:24:52.224889Z",
     "iopub.status.idle": "2022-07-12T03:24:52.246827Z",
     "shell.execute_reply": "2022-07-12T03:24:52.246432Z"
    },
    "papermill": {
     "duration": 0.030648,
     "end_time": "2022-07-12T03:24:52.248163",
     "exception": false,
     "start_time": "2022-07-12T03:24:52.217515",
     "status": "completed"
    },
    "tags": []
   },
   "outputs": [],
   "source": [
    "multiplier_gene_obj = {\n",
    "    gene_name: Gene(name=gene_name)\n",
    "    for gene_name in multiplier_z_genes\n",
    "    if gene_name in Gene.GENE_NAME_TO_ID_MAP\n",
    "}"
   ]
  },
  {
   "cell_type": "code",
   "execution_count": 23,
   "id": "39533214",
   "metadata": {
    "execution": {
     "iopub.execute_input": "2022-07-12T03:24:52.262726Z",
     "iopub.status.busy": "2022-07-12T03:24:52.262530Z",
     "iopub.status.idle": "2022-07-12T03:24:52.276645Z",
     "shell.execute_reply": "2022-07-12T03:24:52.276223Z"
    },
    "papermill": {
     "duration": 0.022705,
     "end_time": "2022-07-12T03:24:52.277822",
     "exception": false,
     "start_time": "2022-07-12T03:24:52.255117",
     "status": "completed"
    },
    "tags": []
   },
   "outputs": [
    {
     "data": {
      "text/plain": [
       "6454"
      ]
     },
     "execution_count": 23,
     "metadata": {},
     "output_type": "execute_result"
    }
   ],
   "source": [
    "len(multiplier_gene_obj)"
   ]
  },
  {
   "cell_type": "code",
   "execution_count": 24,
   "id": "9a5d0b84",
   "metadata": {
    "execution": {
     "iopub.execute_input": "2022-07-12T03:24:52.293699Z",
     "iopub.status.busy": "2022-07-12T03:24:52.293503Z",
     "iopub.status.idle": "2022-07-12T03:24:52.308575Z",
     "shell.execute_reply": "2022-07-12T03:24:52.308146Z"
    },
    "papermill": {
     "duration": 0.02517,
     "end_time": "2022-07-12T03:24:52.309752",
     "exception": false,
     "start_time": "2022-07-12T03:24:52.284582",
     "status": "completed"
    },
    "tags": []
   },
   "outputs": [
    {
     "data": {
      "text/plain": [
       "'ENSG00000183087'"
      ]
     },
     "execution_count": 24,
     "metadata": {},
     "output_type": "execute_result"
    }
   ],
   "source": [
    "multiplier_gene_obj[\"GAS6\"].ensembl_id"
   ]
  },
  {
   "cell_type": "code",
   "execution_count": 25,
   "id": "e3ffabc7",
   "metadata": {
    "execution": {
     "iopub.execute_input": "2022-07-12T03:24:52.324342Z",
     "iopub.status.busy": "2022-07-12T03:24:52.324120Z",
     "iopub.status.idle": "2022-07-12T03:24:54.475023Z",
     "shell.execute_reply": "2022-07-12T03:24:54.474516Z"
    },
    "papermill": {
     "duration": 2.159798,
     "end_time": "2022-07-12T03:24:54.476373",
     "exception": false,
     "start_time": "2022-07-12T03:24:52.316575",
     "status": "completed"
    },
    "tags": []
   },
   "outputs": [],
   "source": [
    "_gene_obj = list(multiplier_gene_obj.values())\n",
    "\n",
    "genes_info = pd.DataFrame(\n",
    "    {\n",
    "        \"name\": [g.name for g in _gene_obj],\n",
    "        \"id\": [g.ensembl_id for g in _gene_obj],\n",
    "        \"chr\": [g.chromosome for g in _gene_obj],\n",
    "        \"band\": [g.band for g in _gene_obj],\n",
    "        \"start_position\": [g.get_attribute(\"start_position\") for g in _gene_obj],\n",
    "    }\n",
    ")"
   ]
  },
  {
   "cell_type": "code",
   "execution_count": 26,
   "id": "e23519b8",
   "metadata": {
    "execution": {
     "iopub.execute_input": "2022-07-12T03:24:54.498264Z",
     "iopub.status.busy": "2022-07-12T03:24:54.498079Z",
     "iopub.status.idle": "2022-07-12T03:24:54.520787Z",
     "shell.execute_reply": "2022-07-12T03:24:54.520347Z"
    },
    "papermill": {
     "duration": 0.038876,
     "end_time": "2022-07-12T03:24:54.522322",
     "exception": false,
     "start_time": "2022-07-12T03:24:54.483446",
     "status": "completed"
    },
    "tags": []
   },
   "outputs": [
    {
     "data": {
      "text/plain": [
       "(6454, 5)"
      ]
     },
     "execution_count": 26,
     "metadata": {},
     "output_type": "execute_result"
    }
   ],
   "source": [
    "genes_info.shape"
   ]
  },
  {
   "cell_type": "code",
   "execution_count": 27,
   "id": "0d71881c",
   "metadata": {
    "execution": {
     "iopub.execute_input": "2022-07-12T03:24:54.541661Z",
     "iopub.status.busy": "2022-07-12T03:24:54.541201Z",
     "iopub.status.idle": "2022-07-12T03:24:54.562231Z",
     "shell.execute_reply": "2022-07-12T03:24:54.561724Z"
    },
    "papermill": {
     "duration": 0.030724,
     "end_time": "2022-07-12T03:24:54.563515",
     "exception": false,
     "start_time": "2022-07-12T03:24:54.532791",
     "status": "completed"
    },
    "tags": []
   },
   "outputs": [
    {
     "data": {
      "text/html": [
       "<div>\n",
       "<style scoped>\n",
       "    .dataframe tbody tr th:only-of-type {\n",
       "        vertical-align: middle;\n",
       "    }\n",
       "\n",
       "    .dataframe tbody tr th {\n",
       "        vertical-align: top;\n",
       "    }\n",
       "\n",
       "    .dataframe thead th {\n",
       "        text-align: right;\n",
       "    }\n",
       "</style>\n",
       "<table border=\"1\" class=\"dataframe\">\n",
       "  <thead>\n",
       "    <tr style=\"text-align: right;\">\n",
       "      <th></th>\n",
       "      <th>name</th>\n",
       "      <th>id</th>\n",
       "      <th>chr</th>\n",
       "      <th>band</th>\n",
       "      <th>start_position</th>\n",
       "    </tr>\n",
       "  </thead>\n",
       "  <tbody>\n",
       "    <tr>\n",
       "      <th>0</th>\n",
       "      <td>GAS6</td>\n",
       "      <td>ENSG00000183087</td>\n",
       "      <td>13</td>\n",
       "      <td>13q34</td>\n",
       "      <td>113820549.0</td>\n",
       "    </tr>\n",
       "    <tr>\n",
       "      <th>1</th>\n",
       "      <td>MMP14</td>\n",
       "      <td>ENSG00000157227</td>\n",
       "      <td>14</td>\n",
       "      <td>14q11.2</td>\n",
       "      <td>22836560.0</td>\n",
       "    </tr>\n",
       "    <tr>\n",
       "      <th>2</th>\n",
       "      <td>DSP</td>\n",
       "      <td>ENSG00000096696</td>\n",
       "      <td>6</td>\n",
       "      <td>6p24.3</td>\n",
       "      <td>7541617.0</td>\n",
       "    </tr>\n",
       "    <tr>\n",
       "      <th>3</th>\n",
       "      <td>MARCKSL1</td>\n",
       "      <td>ENSG00000175130</td>\n",
       "      <td>1</td>\n",
       "      <td>1p35.1</td>\n",
       "      <td>32333839.0</td>\n",
       "    </tr>\n",
       "    <tr>\n",
       "      <th>4</th>\n",
       "      <td>SPARC</td>\n",
       "      <td>ENSG00000113140</td>\n",
       "      <td>5</td>\n",
       "      <td>5q33.1</td>\n",
       "      <td>151661096.0</td>\n",
       "    </tr>\n",
       "  </tbody>\n",
       "</table>\n",
       "</div>"
      ],
      "text/plain": [
       "       name               id chr     band  start_position\n",
       "0      GAS6  ENSG00000183087  13    13q34     113820549.0\n",
       "1     MMP14  ENSG00000157227  14  14q11.2      22836560.0\n",
       "2       DSP  ENSG00000096696   6   6p24.3       7541617.0\n",
       "3  MARCKSL1  ENSG00000175130   1   1p35.1      32333839.0\n",
       "4     SPARC  ENSG00000113140   5   5q33.1     151661096.0"
      ]
     },
     "execution_count": 27,
     "metadata": {},
     "output_type": "execute_result"
    }
   ],
   "source": [
    "genes_info.head()"
   ]
  },
  {
   "cell_type": "markdown",
   "id": "c8d1038f",
   "metadata": {
    "papermill": {
     "duration": 0.007336,
     "end_time": "2022-07-12T03:24:54.578460",
     "exception": false,
     "start_time": "2022-07-12T03:24:54.571124",
     "status": "completed"
    },
    "tags": []
   },
   "source": [
    "# Test"
   ]
  },
  {
   "cell_type": "code",
   "execution_count": 28,
   "id": "64993abf",
   "metadata": {
    "execution": {
     "iopub.execute_input": "2022-07-12T03:24:54.593750Z",
     "iopub.status.busy": "2022-07-12T03:24:54.593456Z",
     "iopub.status.idle": "2022-07-12T03:24:54.614865Z",
     "shell.execute_reply": "2022-07-12T03:24:54.614444Z"
    },
    "papermill": {
     "duration": 0.0304,
     "end_time": "2022-07-12T03:24:54.616191",
     "exception": false,
     "start_time": "2022-07-12T03:24:54.585791",
     "status": "completed"
    },
    "tags": []
   },
   "outputs": [
    {
     "data": {
      "text/html": [
       "<div>\n",
       "<style scoped>\n",
       "    .dataframe tbody tr th:only-of-type {\n",
       "        vertical-align: middle;\n",
       "    }\n",
       "\n",
       "    .dataframe tbody tr th {\n",
       "        vertical-align: top;\n",
       "    }\n",
       "\n",
       "    .dataframe thead th {\n",
       "        text-align: right;\n",
       "    }\n",
       "</style>\n",
       "<table border=\"1\" class=\"dataframe\">\n",
       "  <thead>\n",
       "    <tr style=\"text-align: right;\">\n",
       "      <th></th>\n",
       "      <th>name</th>\n",
       "      <th>id</th>\n",
       "      <th>chr</th>\n",
       "      <th>band</th>\n",
       "      <th>start_position</th>\n",
       "    </tr>\n",
       "  </thead>\n",
       "  <tbody>\n",
       "    <tr>\n",
       "      <th>7</th>\n",
       "      <td>PALLD</td>\n",
       "      <td>ENSG00000129116</td>\n",
       "      <td>4</td>\n",
       "      <td>4q32.3</td>\n",
       "      <td>168497052.0</td>\n",
       "    </tr>\n",
       "    <tr>\n",
       "      <th>29</th>\n",
       "      <td>GRSF1</td>\n",
       "      <td>ENSG00000132463</td>\n",
       "      <td>4</td>\n",
       "      <td>4q13.3</td>\n",
       "      <td>70815783.0</td>\n",
       "    </tr>\n",
       "    <tr>\n",
       "      <th>78</th>\n",
       "      <td>WFS1</td>\n",
       "      <td>ENSG00000109501</td>\n",
       "      <td>4</td>\n",
       "      <td>4p16.1</td>\n",
       "      <td>6269849.0</td>\n",
       "    </tr>\n",
       "    <tr>\n",
       "      <th>129</th>\n",
       "      <td>HPGD</td>\n",
       "      <td>ENSG00000164120</td>\n",
       "      <td>4</td>\n",
       "      <td>4q34.1</td>\n",
       "      <td>174490175.0</td>\n",
       "    </tr>\n",
       "    <tr>\n",
       "      <th>153</th>\n",
       "      <td>ELOVL6</td>\n",
       "      <td>ENSG00000170522</td>\n",
       "      <td>4</td>\n",
       "      <td>4q25</td>\n",
       "      <td>110045846.0</td>\n",
       "    </tr>\n",
       "    <tr>\n",
       "      <th>...</th>\n",
       "      <td>...</td>\n",
       "      <td>...</td>\n",
       "      <td>...</td>\n",
       "      <td>...</td>\n",
       "      <td>...</td>\n",
       "    </tr>\n",
       "    <tr>\n",
       "      <th>6297</th>\n",
       "      <td>MYL5</td>\n",
       "      <td>ENSG00000215375</td>\n",
       "      <td>4</td>\n",
       "      <td>4p16.3</td>\n",
       "      <td>673580.0</td>\n",
       "    </tr>\n",
       "    <tr>\n",
       "      <th>6310</th>\n",
       "      <td>ETFDH</td>\n",
       "      <td>ENSG00000171503</td>\n",
       "      <td>4</td>\n",
       "      <td>4q32.1</td>\n",
       "      <td>158672125.0</td>\n",
       "    </tr>\n",
       "    <tr>\n",
       "      <th>6323</th>\n",
       "      <td>FAM13A</td>\n",
       "      <td>ENSG00000138640</td>\n",
       "      <td>4</td>\n",
       "      <td>4q22.1</td>\n",
       "      <td>88725955.0</td>\n",
       "    </tr>\n",
       "    <tr>\n",
       "      <th>6431</th>\n",
       "      <td>RGS12</td>\n",
       "      <td>ENSG00000159788</td>\n",
       "      <td>4</td>\n",
       "      <td>4p16.3</td>\n",
       "      <td>3293028.0</td>\n",
       "    </tr>\n",
       "    <tr>\n",
       "      <th>6437</th>\n",
       "      <td>ELF2</td>\n",
       "      <td>ENSG00000109381</td>\n",
       "      <td>4</td>\n",
       "      <td>4q31.1</td>\n",
       "      <td>139028112.0</td>\n",
       "    </tr>\n",
       "  </tbody>\n",
       "</table>\n",
       "<p>244 rows × 5 columns</p>\n",
       "</div>"
      ],
      "text/plain": [
       "        name               id chr    band  start_position\n",
       "7      PALLD  ENSG00000129116   4  4q32.3     168497052.0\n",
       "29     GRSF1  ENSG00000132463   4  4q13.3      70815783.0\n",
       "78      WFS1  ENSG00000109501   4  4p16.1       6269849.0\n",
       "129     HPGD  ENSG00000164120   4  4q34.1     174490175.0\n",
       "153   ELOVL6  ENSG00000170522   4    4q25     110045846.0\n",
       "...      ...              ...  ..     ...             ...\n",
       "6297    MYL5  ENSG00000215375   4  4p16.3        673580.0\n",
       "6310   ETFDH  ENSG00000171503   4  4q32.1     158672125.0\n",
       "6323  FAM13A  ENSG00000138640   4  4q22.1      88725955.0\n",
       "6431   RGS12  ENSG00000159788   4  4p16.3       3293028.0\n",
       "6437    ELF2  ENSG00000109381   4  4q31.1     139028112.0\n",
       "\n",
       "[244 rows x 5 columns]"
      ]
     },
     "metadata": {},
     "output_type": "display_data"
    }
   ],
   "source": [
    "chromosome_genes_info = genes_info[genes_info[\"chr\"] == chromosome]\n",
    "display(chromosome_genes_info)"
   ]
  },
  {
   "cell_type": "code",
   "execution_count": 29,
   "id": "d2e42726-7de6-46eb-acfc-6323eaa8fae6",
   "metadata": {
    "execution": {
     "iopub.execute_input": "2022-07-12T03:24:54.633180Z",
     "iopub.status.busy": "2022-07-12T03:24:54.632853Z",
     "iopub.status.idle": "2022-07-12T03:24:54.650186Z",
     "shell.execute_reply": "2022-07-12T03:24:54.649719Z"
    },
    "papermill": {
     "duration": 0.027765,
     "end_time": "2022-07-12T03:24:54.651450",
     "exception": false,
     "start_time": "2022-07-12T03:24:54.623685",
     "status": "completed"
    },
    "tags": []
   },
   "outputs": [
    {
     "data": {
      "text/plain": [
       "5"
      ]
     },
     "metadata": {},
     "output_type": "display_data"
    }
   ],
   "source": [
    "seed(0)\n",
    "_gene_list_ids = sample(chromosome_genes_info[\"id\"].tolist(), 5)\n",
    "selected_chromosome_genes_obj = [Gene(ensembl_id=g_id) for g_id in _gene_list_ids]\n",
    "display(len(selected_chromosome_genes_obj))"
   ]
  },
  {
   "cell_type": "code",
   "execution_count": 30,
   "id": "1b355359",
   "metadata": {
    "execution": {
     "iopub.execute_input": "2022-07-12T03:24:54.667583Z",
     "iopub.status.busy": "2022-07-12T03:24:54.667287Z",
     "iopub.status.idle": "2022-07-12T03:24:54.685399Z",
     "shell.execute_reply": "2022-07-12T03:24:54.684953Z"
    },
    "papermill": {
     "duration": 0.027591,
     "end_time": "2022-07-12T03:24:54.686606",
     "exception": false,
     "start_time": "2022-07-12T03:24:54.659015",
     "status": "completed"
    },
    "tags": []
   },
   "outputs": [
    {
     "name": "stdout",
     "output_type": "stream",
     "text": [
      "UGT8 / ARHGAP24: 0.0\n",
      "UGT8 / ANAPC10: 0.0\n",
      "UGT8 / SGCB: 0.0\n",
      "UGT8 / ACOX3: 0.0\n",
      "ARHGAP24 / ANAPC10: 0.0\n",
      "ARHGAP24 / SGCB: 0.0\n",
      "ARHGAP24 / ACOX3: 0.0\n",
      "ANAPC10 / SGCB: 0.0\n",
      "ANAPC10 / ACOX3: 0.0\n",
      "SGCB / ACOX3: 0.0\n"
     ]
    }
   ],
   "source": [
    "for gene_idx1 in range(0, len(selected_chromosome_genes_obj) - 1):\n",
    "    gene_obj1 = selected_chromosome_genes_obj[gene_idx1]\n",
    "\n",
    "    for gene_idx2 in range(gene_idx1 + 1, len(selected_chromosome_genes_obj)):\n",
    "        gene_obj2 = selected_chromosome_genes_obj[gene_idx2]\n",
    "\n",
    "        c = gene_obj1.get_ssm_correlation(\n",
    "            gene_obj2,\n",
    "        )\n",
    "\n",
    "        print(f\"{gene_obj1.name} / {gene_obj2.name}: {c}\")"
   ]
  },
  {
   "cell_type": "markdown",
   "id": "d3843e06",
   "metadata": {
    "papermill": {
     "duration": 0.007712,
     "end_time": "2022-07-12T03:24:54.702105",
     "exception": false,
     "start_time": "2022-07-12T03:24:54.694393",
     "status": "completed"
    },
    "tags": []
   },
   "source": [
    "# Compute correlation per chromosome"
   ]
  },
  {
   "cell_type": "code",
   "execution_count": 31,
   "id": "cb859c15-d1f3-4006-a74c-2b83c0db9611",
   "metadata": {
    "execution": {
     "iopub.execute_input": "2022-07-12T03:24:54.718291Z",
     "iopub.status.busy": "2022-07-12T03:24:54.718096Z",
     "iopub.status.idle": "2022-07-12T03:24:54.733269Z",
     "shell.execute_reply": "2022-07-12T03:24:54.732818Z"
    },
    "papermill": {
     "duration": 0.024632,
     "end_time": "2022-07-12T03:24:54.734448",
     "exception": false,
     "start_time": "2022-07-12T03:24:54.709816",
     "status": "completed"
    },
    "tags": []
   },
   "outputs": [
    {
     "data": {
      "text/plain": [
       "PosixPath('/opt/data/data/phenomexcan/ld_blocks/gene_corrs/1000g/mashr/by_chr/gene_corrs-chr4.pkl')"
      ]
     },
     "metadata": {},
     "output_type": "display_data"
    }
   ],
   "source": [
    "output_dir = OUTPUT_DIR_BASE / \"by_chr\"\n",
    "output_dir.mkdir(exist_ok=True, parents=True)\n",
    "output_file = output_dir / f\"gene_corrs-chr{chromosome}.pkl\"\n",
    "display(output_file)"
   ]
  },
  {
   "cell_type": "code",
   "execution_count": 32,
   "id": "aa674fe4-6794-4eed-98fa-32b39d1d4ace",
   "metadata": {
    "execution": {
     "iopub.execute_input": "2022-07-12T03:24:54.751151Z",
     "iopub.status.busy": "2022-07-12T03:24:54.750856Z",
     "iopub.status.idle": "2022-07-12T03:24:54.766048Z",
     "shell.execute_reply": "2022-07-12T03:24:54.765652Z"
    },
    "papermill": {
     "duration": 0.025077,
     "end_time": "2022-07-12T03:24:54.767374",
     "exception": false,
     "start_time": "2022-07-12T03:24:54.742297",
     "status": "completed"
    },
    "tags": []
   },
   "outputs": [],
   "source": [
    "warnings.filterwarnings(\"error\")"
   ]
  },
  {
   "cell_type": "code",
   "execution_count": 33,
   "id": "cdbb90a1",
   "metadata": {
    "execution": {
     "iopub.execute_input": "2022-07-12T03:24:54.784427Z",
     "iopub.status.busy": "2022-07-12T03:24:54.784014Z",
     "iopub.status.idle": "2022-07-12T04:02:56.810253Z",
     "shell.execute_reply": "2022-07-12T04:02:56.809775Z"
    },
    "papermill": {
     "duration": 2282.036588,
     "end_time": "2022-07-12T04:02:56.811784",
     "exception": false,
     "start_time": "2022-07-12T03:24:54.775196",
     "status": "completed"
    },
    "tags": []
   },
   "outputs": [
    {
     "name": "stdout",
     "output_type": "stream",
     "text": [
      "Number of genes in chromosome: 244\n",
      "Number of gene combinations: 29646\n"
     ]
    },
    {
     "name": "stderr",
     "output_type": "stream",
     "text": [
      "ENSG00000164344 / ENSG00000109536: 100%|██████████████████████| 29646/29646 [38:01<00:00, 12.99it/s]"
     ]
    },
    {
     "name": "stdout",
     "output_type": "stream",
     "text": [
      "Min/max values: 5.4623565598616326e-08 / 0.9238464951236948\n"
     ]
    },
    {
     "name": "stderr",
     "output_type": "stream",
     "text": [
      "\n"
     ]
    },
    {
     "data": {
      "text/plain": [
       "PosixPath('/opt/data/data/phenomexcan/ld_blocks/gene_corrs/1000g/mashr/by_chr/gene_corrs-chr4.pkl')"
      ]
     },
     "metadata": {},
     "output_type": "display_data"
    }
   ],
   "source": [
    "# standard checks\n",
    "all_chrs = genes_info[\"chr\"].dropna().unique()\n",
    "assert all_chrs.shape[0] == 22\n",
    "\n",
    "# select chromosome given by the user\n",
    "assert chromosome in all_chrs\n",
    "\n",
    "# run only on the chromosome specified\n",
    "all_chrs = [chromosome]\n",
    "genes_chr = genes_info[genes_info[\"chr\"] == chromosome]\n",
    "\n",
    "# For testing purposes\n",
    "# genes_chr = genes_chr.sample(n=20)\n",
    "\n",
    "print(f\"Number of genes in chromosome: {genes_chr.shape[0]}\", flush=True)\n",
    "\n",
    "# sort genes by starting position to make visualizations better later\n",
    "genes_chr = genes_chr.sort_values(\"start_position\")\n",
    "\n",
    "gene_chr_objs = [Gene(ensembl_id=gene_id) for gene_id in genes_chr[\"id\"]]\n",
    "gene_chr_ids = [g.ensembl_id for g in gene_chr_objs]\n",
    "\n",
    "n = len(gene_chr_objs)\n",
    "n_comb = int(n * (n - 1) / 2.0)\n",
    "print(f\"Number of gene combinations: {n_comb}\", flush=True)\n",
    "\n",
    "gene_corrs = []\n",
    "\n",
    "pbar = tqdm(ncols=100, total=n_comb)\n",
    "i = 0\n",
    "for gene_idx1 in range(0, len(gene_chr_objs) - 1):\n",
    "    gene_obj1 = gene_chr_objs[gene_idx1]\n",
    "\n",
    "    for gene_idx2 in range(gene_idx1 + 1, len(gene_chr_objs)):\n",
    "        gene_obj2 = gene_chr_objs[gene_idx2]\n",
    "\n",
    "        pbar.set_description(f\"{gene_obj1.ensembl_id} / {gene_obj2.ensembl_id}\")\n",
    "\n",
    "        try:\n",
    "            # FIXME: compute the correlation of the sum of squares of the model using all\n",
    "            # the available tissues; this could be problematic because for some results\n",
    "            # (computed on a specific phenotype/GWAS) we might not have all the tissues\n",
    "            # available, which can certainly bias the correlation estimation.\n",
    "            # Since this depends on the GWAS on a specific phenotype, we should ideally have\n",
    "            # one correlation matrix per GWAS. I should look at how we can improve this.\n",
    "            r = gene_obj1.get_ssm_correlation(\n",
    "                other_gene=gene_obj2,\n",
    "                condition_number=SMULTIXCAN_CONDITION_NUMBER,\n",
    "                reference_panel=REFERENCE_PANEL,\n",
    "                model_type=EQTL_MODEL,\n",
    "                use_within_distance=COMPUTE_CORRELATIONS_WITHIN_DISTANCE,\n",
    "            )\n",
    "\n",
    "            if r is None:\n",
    "                # if r is None, it's very likely because:\n",
    "                #  * one of the genes has no prediction models\n",
    "                #  * all the SNPs predictors for the gene are not present in the reference\n",
    "                #    panel\n",
    "\n",
    "                r = 0.0\n",
    "\n",
    "            gene_corrs.append(r)\n",
    "        except Warning:\n",
    "            print(\n",
    "                f\"RuntimeWarning for genes {gene_obj1.ensembl_id} and {gene_obj2.ensembl_id}\",\n",
    "                flush=True,\n",
    "            )\n",
    "            import traceback\n",
    "\n",
    "            print(traceback.format_exc(), flush=True)\n",
    "        except Exception as e:\n",
    "            print(\n",
    "                f\"Exception for genes {gene_obj1.ensembl_id} and {gene_obj2.ensembl_id}\",\n",
    "                flush=True,\n",
    "            )\n",
    "            import traceback\n",
    "\n",
    "            print(traceback.format_exc(), flush=True)\n",
    "            gene_corrs.append(np.nan)\n",
    "\n",
    "        pbar.update(1)\n",
    "\n",
    "pbar.close()\n",
    "\n",
    "# testing\n",
    "gene_corrs_flat = pd.Series(gene_corrs)\n",
    "print(f\"Min/max values: {gene_corrs_flat.min()} / {gene_corrs_flat.max()}\")\n",
    "assert gene_corrs_flat.min() >= -1.001\n",
    "assert gene_corrs_flat.max() <= 1.001\n",
    "\n",
    "# save\n",
    "# FIXME: consider saving only the condenced matrix here. See here for\n",
    "# more details: https://github.com/greenelab/phenoplier/pull/38#discussion_r634600813\n",
    "gene_corrs_data = squareform(np.array(gene_corrs, dtype=np.float64))\n",
    "np.fill_diagonal(gene_corrs_data, 1.0)\n",
    "\n",
    "gene_corrs_df = pd.DataFrame(\n",
    "    data=gene_corrs_data,\n",
    "    index=gene_chr_ids,\n",
    "    columns=gene_chr_ids,\n",
    ")\n",
    "\n",
    "output_dir.mkdir(exist_ok=True, parents=True)\n",
    "display(output_file)\n",
    "\n",
    "gene_corrs_df.to_pickle(output_file)"
   ]
  },
  {
   "cell_type": "markdown",
   "id": "faa67b51-5373-470f-aa72-2ded53fa6dfe",
   "metadata": {
    "papermill": {
     "duration": 1.697997,
     "end_time": "2022-07-12T04:03:00.229238",
     "exception": false,
     "start_time": "2022-07-12T04:02:58.531241",
     "status": "completed"
    },
    "tags": []
   },
   "source": [
    "# Testing"
   ]
  },
  {
   "cell_type": "code",
   "execution_count": 34,
   "id": "14f7d046-4b55-4896-a56b-990127bcc388",
   "metadata": {
    "execution": {
     "iopub.execute_input": "2022-07-12T04:03:03.434312Z",
     "iopub.status.busy": "2022-07-12T04:03:03.433913Z",
     "iopub.status.idle": "2022-07-12T04:03:03.451012Z",
     "shell.execute_reply": "2022-07-12T04:03:03.450586Z"
    },
    "papermill": {
     "duration": 1.653867,
     "end_time": "2022-07-12T04:03:03.452316",
     "exception": false,
     "start_time": "2022-07-12T04:03:01.798449",
     "status": "completed"
    },
    "tags": []
   },
   "outputs": [
    {
     "data": {
      "text/plain": [
       "(244, 244)"
      ]
     },
     "execution_count": 34,
     "metadata": {},
     "output_type": "execute_result"
    }
   ],
   "source": [
    "gene_corrs_df.shape"
   ]
  },
  {
   "cell_type": "code",
   "execution_count": 35,
   "id": "c7d15414-3297-4537-a7c6-7588c0baeb75",
   "metadata": {
    "execution": {
     "iopub.execute_input": "2022-07-12T04:03:06.666060Z",
     "iopub.status.busy": "2022-07-12T04:03:06.665881Z",
     "iopub.status.idle": "2022-07-12T04:03:06.695234Z",
     "shell.execute_reply": "2022-07-12T04:03:06.694830Z"
    },
    "papermill": {
     "duration": 1.614761,
     "end_time": "2022-07-12T04:03:06.696445",
     "exception": false,
     "start_time": "2022-07-12T04:03:05.081684",
     "status": "completed"
    },
    "tags": []
   },
   "outputs": [
    {
     "data": {
      "text/html": [
       "<div>\n",
       "<style scoped>\n",
       "    .dataframe tbody tr th:only-of-type {\n",
       "        vertical-align: middle;\n",
       "    }\n",
       "\n",
       "    .dataframe tbody tr th {\n",
       "        vertical-align: top;\n",
       "    }\n",
       "\n",
       "    .dataframe thead th {\n",
       "        text-align: right;\n",
       "    }\n",
       "</style>\n",
       "<table border=\"1\" class=\"dataframe\">\n",
       "  <thead>\n",
       "    <tr style=\"text-align: right;\">\n",
       "      <th></th>\n",
       "      <th>ENSG00000272602</th>\n",
       "      <th>ENSG00000131127</th>\n",
       "      <th>ENSG00000174227</th>\n",
       "      <th>ENSG00000133256</th>\n",
       "      <th>ENSG00000169020</th>\n",
       "      <th>ENSG00000215375</th>\n",
       "      <th>ENSG00000169026</th>\n",
       "      <th>ENSG00000178950</th>\n",
       "      <th>ENSG00000145214</th>\n",
       "      <th>ENSG00000145217</th>\n",
       "      <th>...</th>\n",
       "      <th>ENSG00000109674</th>\n",
       "      <th>ENSG00000038002</th>\n",
       "      <th>ENSG00000129187</th>\n",
       "      <th>ENSG00000168310</th>\n",
       "      <th>ENSG00000164305</th>\n",
       "      <th>ENSG00000151726</th>\n",
       "      <th>ENSG00000151729</th>\n",
       "      <th>ENSG00000164342</th>\n",
       "      <th>ENSG00000164344</th>\n",
       "      <th>ENSG00000109536</th>\n",
       "    </tr>\n",
       "  </thead>\n",
       "  <tbody>\n",
       "    <tr>\n",
       "      <th>ENSG00000272602</th>\n",
       "      <td>1.000000</td>\n",
       "      <td>0.055963</td>\n",
       "      <td>0.190848</td>\n",
       "      <td>0.088953</td>\n",
       "      <td>0.097104</td>\n",
       "      <td>0.038496</td>\n",
       "      <td>0.039407</td>\n",
       "      <td>0.017085</td>\n",
       "      <td>0.010274</td>\n",
       "      <td>0.008550</td>\n",
       "      <td>...</td>\n",
       "      <td>0.011293</td>\n",
       "      <td>0.003976</td>\n",
       "      <td>0.009994</td>\n",
       "      <td>0.012164</td>\n",
       "      <td>0.010508</td>\n",
       "      <td>0.011360</td>\n",
       "      <td>0.006107</td>\n",
       "      <td>0.024040</td>\n",
       "      <td>0.009609</td>\n",
       "      <td>0.007955</td>\n",
       "    </tr>\n",
       "    <tr>\n",
       "      <th>ENSG00000131127</th>\n",
       "      <td>0.055963</td>\n",
       "      <td>1.000000</td>\n",
       "      <td>0.332490</td>\n",
       "      <td>0.074119</td>\n",
       "      <td>0.029108</td>\n",
       "      <td>0.026537</td>\n",
       "      <td>0.031696</td>\n",
       "      <td>0.017609</td>\n",
       "      <td>0.019846</td>\n",
       "      <td>0.004169</td>\n",
       "      <td>...</td>\n",
       "      <td>0.007431</td>\n",
       "      <td>0.006405</td>\n",
       "      <td>0.010952</td>\n",
       "      <td>0.005998</td>\n",
       "      <td>0.011946</td>\n",
       "      <td>0.009701</td>\n",
       "      <td>0.012015</td>\n",
       "      <td>0.021031</td>\n",
       "      <td>0.008260</td>\n",
       "      <td>0.007588</td>\n",
       "    </tr>\n",
       "    <tr>\n",
       "      <th>ENSG00000174227</th>\n",
       "      <td>0.190848</td>\n",
       "      <td>0.332490</td>\n",
       "      <td>1.000000</td>\n",
       "      <td>0.292886</td>\n",
       "      <td>0.180474</td>\n",
       "      <td>0.076075</td>\n",
       "      <td>0.091885</td>\n",
       "      <td>0.019070</td>\n",
       "      <td>0.014028</td>\n",
       "      <td>0.011207</td>\n",
       "      <td>...</td>\n",
       "      <td>0.009701</td>\n",
       "      <td>0.002663</td>\n",
       "      <td>0.009264</td>\n",
       "      <td>0.015099</td>\n",
       "      <td>0.007044</td>\n",
       "      <td>0.009475</td>\n",
       "      <td>0.011735</td>\n",
       "      <td>0.016979</td>\n",
       "      <td>0.012064</td>\n",
       "      <td>0.006070</td>\n",
       "    </tr>\n",
       "    <tr>\n",
       "      <th>ENSG00000133256</th>\n",
       "      <td>0.088953</td>\n",
       "      <td>0.074119</td>\n",
       "      <td>0.292886</td>\n",
       "      <td>1.000000</td>\n",
       "      <td>0.294576</td>\n",
       "      <td>0.213597</td>\n",
       "      <td>0.256943</td>\n",
       "      <td>0.017973</td>\n",
       "      <td>0.011281</td>\n",
       "      <td>0.005467</td>\n",
       "      <td>...</td>\n",
       "      <td>0.010279</td>\n",
       "      <td>0.002643</td>\n",
       "      <td>0.015005</td>\n",
       "      <td>0.017813</td>\n",
       "      <td>0.012327</td>\n",
       "      <td>0.008707</td>\n",
       "      <td>0.007849</td>\n",
       "      <td>0.016891</td>\n",
       "      <td>0.010021</td>\n",
       "      <td>0.013363</td>\n",
       "    </tr>\n",
       "    <tr>\n",
       "      <th>ENSG00000169020</th>\n",
       "      <td>0.097104</td>\n",
       "      <td>0.029108</td>\n",
       "      <td>0.180474</td>\n",
       "      <td>0.294576</td>\n",
       "      <td>1.000000</td>\n",
       "      <td>0.181358</td>\n",
       "      <td>0.209069</td>\n",
       "      <td>0.013160</td>\n",
       "      <td>0.008778</td>\n",
       "      <td>0.000006</td>\n",
       "      <td>...</td>\n",
       "      <td>0.002939</td>\n",
       "      <td>0.001123</td>\n",
       "      <td>0.003127</td>\n",
       "      <td>0.005294</td>\n",
       "      <td>0.003389</td>\n",
       "      <td>0.001329</td>\n",
       "      <td>0.003203</td>\n",
       "      <td>0.003331</td>\n",
       "      <td>0.005664</td>\n",
       "      <td>0.004214</td>\n",
       "    </tr>\n",
       "  </tbody>\n",
       "</table>\n",
       "<p>5 rows × 244 columns</p>\n",
       "</div>"
      ],
      "text/plain": [
       "                 ENSG00000272602  ENSG00000131127  ENSG00000174227  \\\n",
       "ENSG00000272602         1.000000         0.055963         0.190848   \n",
       "ENSG00000131127         0.055963         1.000000         0.332490   \n",
       "ENSG00000174227         0.190848         0.332490         1.000000   \n",
       "ENSG00000133256         0.088953         0.074119         0.292886   \n",
       "ENSG00000169020         0.097104         0.029108         0.180474   \n",
       "\n",
       "                 ENSG00000133256  ENSG00000169020  ENSG00000215375  \\\n",
       "ENSG00000272602         0.088953         0.097104         0.038496   \n",
       "ENSG00000131127         0.074119         0.029108         0.026537   \n",
       "ENSG00000174227         0.292886         0.180474         0.076075   \n",
       "ENSG00000133256         1.000000         0.294576         0.213597   \n",
       "ENSG00000169020         0.294576         1.000000         0.181358   \n",
       "\n",
       "                 ENSG00000169026  ENSG00000178950  ENSG00000145214  \\\n",
       "ENSG00000272602         0.039407         0.017085         0.010274   \n",
       "ENSG00000131127         0.031696         0.017609         0.019846   \n",
       "ENSG00000174227         0.091885         0.019070         0.014028   \n",
       "ENSG00000133256         0.256943         0.017973         0.011281   \n",
       "ENSG00000169020         0.209069         0.013160         0.008778   \n",
       "\n",
       "                 ENSG00000145217  ...  ENSG00000109674  ENSG00000038002  \\\n",
       "ENSG00000272602         0.008550  ...         0.011293         0.003976   \n",
       "ENSG00000131127         0.004169  ...         0.007431         0.006405   \n",
       "ENSG00000174227         0.011207  ...         0.009701         0.002663   \n",
       "ENSG00000133256         0.005467  ...         0.010279         0.002643   \n",
       "ENSG00000169020         0.000006  ...         0.002939         0.001123   \n",
       "\n",
       "                 ENSG00000129187  ENSG00000168310  ENSG00000164305  \\\n",
       "ENSG00000272602         0.009994         0.012164         0.010508   \n",
       "ENSG00000131127         0.010952         0.005998         0.011946   \n",
       "ENSG00000174227         0.009264         0.015099         0.007044   \n",
       "ENSG00000133256         0.015005         0.017813         0.012327   \n",
       "ENSG00000169020         0.003127         0.005294         0.003389   \n",
       "\n",
       "                 ENSG00000151726  ENSG00000151729  ENSG00000164342  \\\n",
       "ENSG00000272602         0.011360         0.006107         0.024040   \n",
       "ENSG00000131127         0.009701         0.012015         0.021031   \n",
       "ENSG00000174227         0.009475         0.011735         0.016979   \n",
       "ENSG00000133256         0.008707         0.007849         0.016891   \n",
       "ENSG00000169020         0.001329         0.003203         0.003331   \n",
       "\n",
       "                 ENSG00000164344  ENSG00000109536  \n",
       "ENSG00000272602         0.009609         0.007955  \n",
       "ENSG00000131127         0.008260         0.007588  \n",
       "ENSG00000174227         0.012064         0.006070  \n",
       "ENSG00000133256         0.010021         0.013363  \n",
       "ENSG00000169020         0.005664         0.004214  \n",
       "\n",
       "[5 rows x 244 columns]"
      ]
     },
     "execution_count": 35,
     "metadata": {},
     "output_type": "execute_result"
    }
   ],
   "source": [
    "gene_corrs_df.head()"
   ]
  },
  {
   "cell_type": "code",
   "execution_count": 36,
   "id": "286686af-1b7b-4440-8453-6bdcbd8de19c",
   "metadata": {
    "execution": {
     "iopub.execute_input": "2022-07-12T04:03:10.000499Z",
     "iopub.status.busy": "2022-07-12T04:03:10.000336Z",
     "iopub.status.idle": "2022-07-12T04:03:10.015874Z",
     "shell.execute_reply": "2022-07-12T04:03:10.015415Z"
    },
    "papermill": {
     "duration": 1.677514,
     "end_time": "2022-07-12T04:03:10.017314",
     "exception": false,
     "start_time": "2022-07-12T04:03:08.339800",
     "status": "completed"
    },
    "tags": []
   },
   "outputs": [],
   "source": [
    "assert not gene_corrs_df.isna().any().any()"
   ]
  },
  {
   "cell_type": "code",
   "execution_count": 37,
   "id": "00583efc-7068-4270-ad1e-4a418e91db96",
   "metadata": {
    "execution": {
     "iopub.execute_input": "2022-07-12T04:03:13.271403Z",
     "iopub.status.busy": "2022-07-12T04:03:13.271077Z",
     "iopub.status.idle": "2022-07-12T04:03:13.288693Z",
     "shell.execute_reply": "2022-07-12T04:03:13.288189Z"
    },
    "papermill": {
     "duration": 1.612524,
     "end_time": "2022-07-12T04:03:13.289967",
     "exception": false,
     "start_time": "2022-07-12T04:03:11.677443",
     "status": "completed"
    },
    "tags": []
   },
   "outputs": [
    {
     "data": {
      "text/plain": [
       "5.4623565598616326e-08"
      ]
     },
     "metadata": {},
     "output_type": "display_data"
    }
   ],
   "source": [
    "_min_val = gene_corrs_df.min().min()\n",
    "display(_min_val)\n",
    "assert _min_val >= 0.0"
   ]
  },
  {
   "cell_type": "code",
   "execution_count": 38,
   "id": "d04fb2cf-1050-475b-b855-f5f7cc04092b",
   "metadata": {
    "execution": {
     "iopub.execute_input": "2022-07-12T04:03:16.542687Z",
     "iopub.status.busy": "2022-07-12T04:03:16.542252Z",
     "iopub.status.idle": "2022-07-12T04:03:16.560645Z",
     "shell.execute_reply": "2022-07-12T04:03:16.560209Z"
    },
    "papermill": {
     "duration": 1.629228,
     "end_time": "2022-07-12T04:03:16.561941",
     "exception": false,
     "start_time": "2022-07-12T04:03:14.932713",
     "status": "completed"
    },
    "tags": []
   },
   "outputs": [
    {
     "data": {
      "text/plain": [
       "1.0"
      ]
     },
     "metadata": {},
     "output_type": "display_data"
    }
   ],
   "source": [
    "_max_val = gene_corrs_df.max().max()  # this captures the diagonal\n",
    "display(_max_val)\n",
    "assert _max_val <= 1.0"
   ]
  },
  {
   "cell_type": "code",
   "execution_count": 39,
   "id": "96d02c44-1fba-47be-8a93-8f2608420b9c",
   "metadata": {
    "execution": {
     "iopub.execute_input": "2022-07-12T04:03:19.790189Z",
     "iopub.status.busy": "2022-07-12T04:03:19.789989Z",
     "iopub.status.idle": "2022-07-12T04:03:19.805169Z",
     "shell.execute_reply": "2022-07-12T04:03:19.804756Z"
    },
    "papermill": {
     "duration": 1.662035,
     "end_time": "2022-07-12T04:03:19.806487",
     "exception": false,
     "start_time": "2022-07-12T04:03:18.144452",
     "status": "completed"
    },
    "tags": []
   },
   "outputs": [],
   "source": [
    "# check upper triangular values\n",
    "assert len(gene_corrs) == int(genes_chr.shape[0] * (genes_chr.shape[0] - 1) / 2)"
   ]
  },
  {
   "cell_type": "code",
   "execution_count": 40,
   "id": "aaa51627-f4e3-4744-a41f-7d25adcc0a78",
   "metadata": {
    "execution": {
     "iopub.execute_input": "2022-07-12T04:03:23.025532Z",
     "iopub.status.busy": "2022-07-12T04:03:23.025121Z",
     "iopub.status.idle": "2022-07-12T04:03:23.050902Z",
     "shell.execute_reply": "2022-07-12T04:03:23.050451Z"
    },
    "papermill": {
     "duration": 1.611066,
     "end_time": "2022-07-12T04:03:23.052331",
     "exception": false,
     "start_time": "2022-07-12T04:03:21.441265",
     "status": "completed"
    },
    "tags": []
   },
   "outputs": [],
   "source": [
    "gene_corrs = pd.Series(gene_corrs)"
   ]
  },
  {
   "cell_type": "code",
   "execution_count": 41,
   "id": "fe283586-c348-40e0-8841-f6d97bfb021c",
   "metadata": {
    "execution": {
     "iopub.execute_input": "2022-07-12T04:03:26.291465Z",
     "iopub.status.busy": "2022-07-12T04:03:26.291053Z",
     "iopub.status.idle": "2022-07-12T04:03:26.310817Z",
     "shell.execute_reply": "2022-07-12T04:03:26.310368Z"
    },
    "papermill": {
     "duration": 1.60837,
     "end_time": "2022-07-12T04:03:26.312086",
     "exception": false,
     "start_time": "2022-07-12T04:03:24.703716",
     "status": "completed"
    },
    "tags": []
   },
   "outputs": [
    {
     "data": {
      "text/plain": [
       "count    2.964600e+04\n",
       "mean     9.488369e-03\n",
       "std      2.202795e-02\n",
       "min      5.462357e-08\n",
       "25%      5.063520e-03\n",
       "50%      7.838708e-03\n",
       "75%      1.101657e-02\n",
       "max      9.238465e-01\n",
       "dtype: float64"
      ]
     },
     "execution_count": 41,
     "metadata": {},
     "output_type": "execute_result"
    }
   ],
   "source": [
    "gene_corrs.describe()"
   ]
  },
  {
   "cell_type": "code",
   "execution_count": 42,
   "id": "b3815678-0f93-4b35-897b-a9d047a2aa78",
   "metadata": {
    "execution": {
     "iopub.execute_input": "2022-07-12T04:03:29.513848Z",
     "iopub.status.busy": "2022-07-12T04:03:29.513091Z",
     "iopub.status.idle": "2022-07-12T04:03:29.533502Z",
     "shell.execute_reply": "2022-07-12T04:03:29.533004Z"
    },
    "papermill": {
     "duration": 1.652901,
     "end_time": "2022-07-12T04:03:29.534862",
     "exception": false,
     "start_time": "2022-07-12T04:03:27.881961",
     "status": "completed"
    },
    "tags": []
   },
   "outputs": [
    {
     "data": {
      "text/plain": [
       "0.00    5.462357e-08\n",
       "0.05    1.886560e-03\n",
       "0.10    2.882749e-03\n",
       "0.15    3.742538e-03\n",
       "0.20    4.412352e-03\n",
       "0.25    5.063520e-03\n",
       "0.30    5.634057e-03\n",
       "0.35    6.195895e-03\n",
       "0.40    6.737260e-03\n",
       "0.45    7.282023e-03\n",
       "0.50    7.838708e-03\n",
       "0.55    8.423700e-03\n",
       "0.60    9.021596e-03\n",
       "0.65    9.631648e-03\n",
       "0.70    1.029913e-02\n",
       "0.75    1.101657e-02\n",
       "0.80    1.188006e-02\n",
       "0.85    1.290689e-02\n",
       "0.90    1.422557e-02\n",
       "0.95    1.638017e-02\n",
       "dtype: float64"
      ]
     },
     "metadata": {},
     "output_type": "display_data"
    }
   ],
   "source": [
    "gene_corrs_quantiles = gene_corrs.quantile(np.arange(0, 1, 0.05))\n",
    "display(gene_corrs_quantiles)"
   ]
  },
  {
   "cell_type": "markdown",
   "id": "8e60a080-edb2-4e9c-b2ef-22961693200c",
   "metadata": {
    "papermill": {
     "duration": 1.620385,
     "end_time": "2022-07-12T04:03:32.798849",
     "exception": false,
     "start_time": "2022-07-12T04:03:31.178464",
     "status": "completed"
    },
    "tags": []
   },
   "source": [
    "## Plot: distribution"
   ]
  },
  {
   "cell_type": "code",
   "execution_count": 43,
   "id": "8301126b-a7d4-4744-9c7d-f0f86eb6f54c",
   "metadata": {
    "execution": {
     "iopub.execute_input": "2022-07-12T04:03:36.122030Z",
     "iopub.status.busy": "2022-07-12T04:03:36.121824Z",
     "iopub.status.idle": "2022-07-12T04:03:41.352737Z",
     "shell.execute_reply": "2022-07-12T04:03:41.352241Z"
    },
    "papermill": {
     "duration": 6.840244,
     "end_time": "2022-07-12T04:03:41.354119",
     "exception": false,
     "start_time": "2022-07-12T04:03:34.513875",
     "status": "completed"
    },
    "tags": []
   },
   "outputs": [
    {
     "data": {
      "image/png": "[encoded data removed]",
      "text/plain": [
       "<Figure size 504x504 with 1 Axes>"
      ]
     },
     "metadata": {
      "needs_background": "light"
     },
     "output_type": "display_data"
    }
   ],
   "source": [
    "with sns.plotting_context(\"paper\", font_scale=1.5):\n",
    "    g = sns.displot(gene_corrs, kde=True, height=7)\n",
    "    g.ax.set_title(\n",
    "        f\"Distribution of gene correlation values in chromosome {chromosome}\"\n",
    "    )"
   ]
  },
  {
   "cell_type": "markdown",
   "id": "cbd52bca-d878-4a2f-b684-5c83aa3038d4",
   "metadata": {
    "papermill": {
     "duration": 1.632541,
     "end_time": "2022-07-12T04:03:44.712784",
     "exception": false,
     "start_time": "2022-07-12T04:03:43.080243",
     "status": "completed"
    },
    "tags": []
   },
   "source": [
    "## Plot: heatmap"
   ]
  },
  {
   "cell_type": "code",
   "execution_count": 44,
   "id": "d03fe63a-c7b2-4fb9-a53c-db362ce843c9",
   "metadata": {
    "execution": {
     "iopub.execute_input": "2022-07-12T04:03:47.941592Z",
     "iopub.status.busy": "2022-07-12T04:03:47.941361Z",
     "iopub.status.idle": "2022-07-12T04:03:47.958294Z",
     "shell.execute_reply": "2022-07-12T04:03:47.957860Z"
    },
    "papermill": {
     "duration": 1.591731,
     "end_time": "2022-07-12T04:03:47.959515",
     "exception": false,
     "start_time": "2022-07-12T04:03:46.367784",
     "status": "completed"
    },
    "tags": []
   },
   "outputs": [
    {
     "data": {
      "text/plain": [
       "'-0.05 / 0.05'"
      ]
     },
     "metadata": {},
     "output_type": "display_data"
    }
   ],
   "source": [
    "vmin_val = min(-0.05, gene_corrs_quantiles[0.10])\n",
    "vmax_val = max(0.05, gene_corrs_quantiles[0.90])\n",
    "display(f\"{vmin_val} / {vmax_val}\")"
   ]
  },
  {
   "cell_type": "code",
   "execution_count": 45,
   "id": "dc41b70b-5bcc-4d9e-9f33-a22c4a94dab5",
   "metadata": {
    "execution": {
     "iopub.execute_input": "2022-07-12T04:03:51.182740Z",
     "iopub.status.busy": "2022-07-12T04:03:51.182353Z",
     "iopub.status.idle": "2022-07-12T04:03:51.407316Z",
     "shell.execute_reply": "2022-07-12T04:03:51.406789Z"
    },
    "papermill": {
     "duration": 1.810195,
     "end_time": "2022-07-12T04:03:51.410009",
     "exception": false,
     "start_time": "2022-07-12T04:03:49.599814",
     "status": "completed"
    },
    "tags": []
   },
   "outputs": [
    {
     "data": {
      "text/plain": [
       "Text(0.5, 1.0, 'Gene correlations in chromosome 4')"
      ]
     },
     "execution_count": 45,
     "metadata": {},
     "output_type": "execute_result"
    },
    {
     "data": {
      "image/png": "[encoded data removed]",
      "text/plain": [
       "<Figure size 720x720 with 2 Axes>"
      ]
     },
     "metadata": {
      "needs_background": "light"
     },
     "output_type": "display_data"
    }
   ],
   "source": [
    "f, ax = plt.subplots(figsize=(10, 10))\n",
    "sns.heatmap(\n",
    "    gene_corrs_df,\n",
    "    xticklabels=False,\n",
    "    yticklabels=False,\n",
    "    square=True,\n",
    "    vmin=vmin_val,\n",
    "    vmax=vmax_val,\n",
    "    cmap=\"YlGnBu\",\n",
    "    ax=ax,\n",
    ")\n",
    "ax.set_title(f\"Gene correlations in chromosome {chromosome}\")"
   ]
  },
  {
   "cell_type": "code",
   "execution_count": null,
   "id": "b25e3ead",
   "metadata": {
    "papermill": {
     "duration": 1.655723,
     "end_time": "2022-07-12T04:03:54.636857",
     "exception": false,
     "start_time": "2022-07-12T04:03:52.981134",
     "status": "completed"
    },
    "tags": []
   },
   "outputs": [],
   "source": []
  }
 ],
 "metadata": {
  "jupytext": {
   "cell_metadata_filter": "all,-execution,-papermill,-trusted",
   "formats": "ipynb,py//py:percent"
  },
  "kernelspec": {
   "display_name": "Python 3 (ipykernel)",
   "language": "python",
   "name": "python3"
  },
  "language_info": {
   "codemirror_mode": {
    "name": "ipython",
    "version": 3
   },
   "file_extension": ".py",
   "mimetype": "text/x-python",
   "name": "python",
   "nbconvert_exporter": "python",
   "pygments_lexer": "ipython3",
   "version": "3.8.13"
  },
  "papermill": {
   "default_parameters": {},
   "duration": 2350.256232,
   "end_time": "2022-07-12T04:03:59.493716",
   "environment_variables": {},
   "exception": null,
   "input_path": "nbs/15_gsa_gls/10-gene_expr_correlations.ipynb",
   "output_path": "nbs/15_gsa_gls/gene_corrs/1000g/mashr/10-gene_expr_correlations-chr4.run.ipynb",
   "parameters": {
    "EQTL_MODEL": "MASHR",
    "REFERENCE_PANEL": "1000G",
    "chromosome": 4
   },
   "start_time": "2022-07-12T03:24:49.237484",
   "version": "2.2.2"
  }
 },
 "nbformat": 4,
 "nbformat_minor": 5
}
