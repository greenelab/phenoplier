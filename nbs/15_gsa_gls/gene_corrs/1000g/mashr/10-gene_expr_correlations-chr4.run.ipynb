{
 "cells": [
  {
   "cell_type": "markdown",
   "id": "94cc4ea0",
   "metadata": {
    "papermill": {
     "duration": 0.022251,
     "end_time": "2022-03-01T06:49:50.357888",
     "exception": false,
     "start_time": "2022-03-01T06:49:50.335637",
     "status": "completed"
    },
    "tags": []
   },
   "source": [
    "# Description"
   ]
  },
  {
   "cell_type": "markdown",
   "id": "5faaa1e2",
   "metadata": {
    "papermill": {
     "duration": 0.023672,
     "end_time": "2022-03-01T06:49:50.403526",
     "exception": false,
     "start_time": "2022-03-01T06:49:50.379854",
     "status": "completed"
    },
    "tags": []
   },
   "source": [
    "This notebook computes predicted expression correlations between all genes in the MultiPLIER models.\n",
    "\n",
    "It also has a parameter set for papermill to run on a single chromosome to run in parallel (see under `Settings` below).\n",
    "\n",
    "This notebook does not have an output because it is not directly run. If you want to see outputs for each chromosome, check out the `gene_corrs` folder, which contains a copy of this notebook for each chromosome."
   ]
  },
  {
   "cell_type": "markdown",
   "id": "dc309e70",
   "metadata": {
    "papermill": {
     "duration": 0.036614,
     "end_time": "2022-03-01T06:49:50.466591",
     "exception": false,
     "start_time": "2022-03-01T06:49:50.429977",
     "status": "completed"
    },
    "tags": []
   },
   "source": [
    "# Modules"
   ]
  },
  {
   "cell_type": "code",
   "execution_count": 1,
   "id": "43913724",
   "metadata": {
    "execution": {
     "iopub.execute_input": "2022-03-01T06:49:50.513859Z",
     "iopub.status.busy": "2022-03-01T06:49:50.513575Z",
     "iopub.status.idle": "2022-03-01T06:49:50.532626Z",
     "shell.execute_reply": "2022-03-01T06:49:50.532119Z"
    },
    "papermill": {
     "duration": 0.044827,
     "end_time": "2022-03-01T06:49:50.534188",
     "exception": false,
     "start_time": "2022-03-01T06:49:50.489361",
     "status": "completed"
    },
    "tags": []
   },
   "outputs": [],
   "source": [
    "%load_ext autoreload\n",
    "%autoreload 2"
   ]
  },
  {
   "cell_type": "code",
   "execution_count": 2,
   "id": "f853fabe",
   "metadata": {
    "execution": {
     "iopub.execute_input": "2022-03-01T06:49:50.583295Z",
     "iopub.status.busy": "2022-03-01T06:49:50.583065Z",
     "iopub.status.idle": "2022-03-01T06:49:51.194709Z",
     "shell.execute_reply": "2022-03-01T06:49:51.194204Z"
    },
    "papermill": {
     "duration": 0.638745,
     "end_time": "2022-03-01T06:49:51.196258",
     "exception": false,
     "start_time": "2022-03-01T06:49:50.557513",
     "status": "completed"
    },
    "tags": []
   },
   "outputs": [],
   "source": [
    "import numpy as np\n",
    "from scipy.spatial.distance import squareform\n",
    "import pandas as pd\n",
    "from tqdm import tqdm\n",
    "\n",
    "import conf\n",
    "from entity import Gene"
   ]
  },
  {
   "cell_type": "markdown",
   "id": "1188ecb0",
   "metadata": {
    "papermill": {
     "duration": 0.025045,
     "end_time": "2022-03-01T06:49:51.245126",
     "exception": false,
     "start_time": "2022-03-01T06:49:51.220081",
     "status": "completed"
    },
    "tags": []
   },
   "source": [
    "# Settings"
   ]
  },
  {
   "cell_type": "code",
   "execution_count": 3,
   "id": "efc384fc",
   "metadata": {
    "execution": {
     "iopub.execute_input": "2022-03-01T06:49:51.290096Z",
     "iopub.status.busy": "2022-03-01T06:49:51.289909Z",
     "iopub.status.idle": "2022-03-01T06:49:51.303558Z",
     "shell.execute_reply": "2022-03-01T06:49:51.303090Z"
    },
    "papermill": {
     "duration": 0.037668,
     "end_time": "2022-03-01T06:49:51.305055",
     "exception": false,
     "start_time": "2022-03-01T06:49:51.267387",
     "status": "completed"
    },
    "tags": [
     "parameters"
    ]
   },
   "outputs": [],
   "source": [
    "# mashr\n",
    "EQTL_MODEL = \"MASHR\"\n",
    "EQTL_MODEL_FILES_PREFIX = \"mashr_\"\n",
    "\n",
    "# # elastic net\n",
    "# EQTL_MODEL = \"ELASTIC_NET\"\n",
    "# EQTL_MODEL_FILES_PREFIX = \"en_\"\n",
    "\n",
    "# make it read the prefix from conf.py\n",
    "EQTL_MODEL_FILES_PREFIX = None\n",
    "\n",
    "# specifies a single chromosome value\n",
    "# by default, run on all chromosomes\n",
    "chromosome = \"all\""
   ]
  },
  {
   "cell_type": "code",
   "execution_count": 4,
   "id": "1f6e3ff2",
   "metadata": {
    "execution": {
     "iopub.execute_input": "2022-03-01T06:49:51.351089Z",
     "iopub.status.busy": "2022-03-01T06:49:51.350589Z",
     "iopub.status.idle": "2022-03-01T06:49:51.365531Z",
     "shell.execute_reply": "2022-03-01T06:49:51.365071Z"
    },
    "papermill": {
     "duration": 0.03967,
     "end_time": "2022-03-01T06:49:51.367209",
     "exception": false,
     "start_time": "2022-03-01T06:49:51.327539",
     "status": "completed"
    },
    "tags": [
     "injected-parameters"
    ]
   },
   "outputs": [],
   "source": [
    "# Parameters\n",
    "chromosome = 4\n",
    "EQTL_MODEL = \"MASHR\"\n"
   ]
  },
  {
   "cell_type": "code",
   "execution_count": 5,
   "id": "6273f87b",
   "metadata": {
    "execution": {
     "iopub.execute_input": "2022-03-01T06:49:51.412977Z",
     "iopub.status.busy": "2022-03-01T06:49:51.412783Z",
     "iopub.status.idle": "2022-03-01T06:49:51.435438Z",
     "shell.execute_reply": "2022-03-01T06:49:51.434905Z"
    },
    "papermill": {
     "duration": 0.048331,
     "end_time": "2022-03-01T06:49:51.438426",
     "exception": false,
     "start_time": "2022-03-01T06:49:51.390095",
     "status": "completed"
    },
    "tags": []
   },
   "outputs": [],
   "source": [
    "if EQTL_MODEL_FILES_PREFIX is None:\n",
    "    EQTL_MODEL_FILES_PREFIX = conf.PHENOMEXCAN[\"PREDICTION_MODELS_PREFIXES\"][EQTL_MODEL]"
   ]
  },
  {
   "cell_type": "code",
   "execution_count": 6,
   "id": "c5dbb802",
   "metadata": {
    "execution": {
     "iopub.execute_input": "2022-03-01T06:49:51.502334Z",
     "iopub.status.busy": "2022-03-01T06:49:51.502101Z",
     "iopub.status.idle": "2022-03-01T06:49:51.521735Z",
     "shell.execute_reply": "2022-03-01T06:49:51.521262Z"
    },
    "papermill": {
     "duration": 0.047731,
     "end_time": "2022-03-01T06:49:51.523137",
     "exception": false,
     "start_time": "2022-03-01T06:49:51.475406",
     "status": "completed"
    },
    "tags": []
   },
   "outputs": [
    {
     "data": {
      "text/plain": [
       "'Using eQTL model: MASHR / mashr_'"
      ]
     },
     "metadata": {},
     "output_type": "display_data"
    }
   ],
   "source": [
    "display(f\"Using eQTL model: {EQTL_MODEL} / {EQTL_MODEL_FILES_PREFIX}\")"
   ]
  },
  {
   "cell_type": "code",
   "execution_count": 7,
   "id": "7ea885ec",
   "metadata": {
    "execution": {
     "iopub.execute_input": "2022-03-01T06:49:51.570875Z",
     "iopub.status.busy": "2022-03-01T06:49:51.570686Z",
     "iopub.status.idle": "2022-03-01T06:49:51.584949Z",
     "shell.execute_reply": "2022-03-01T06:49:51.584464Z"
    },
    "papermill": {
     "duration": 0.039436,
     "end_time": "2022-03-01T06:49:51.586454",
     "exception": false,
     "start_time": "2022-03-01T06:49:51.547018",
     "status": "completed"
    },
    "tags": []
   },
   "outputs": [],
   "source": [
    "if chromosome == \"all\":\n",
    "    from time import sleep\n",
    "\n",
    "    message = \"\"\"\n",
    "    WARNING: you are going to compute correlations of gene predicted expression across all chromosomes without parallelism.\n",
    "    It is recommended that you look at the README.md file in this subfolder (nbs/08_gsa_gls/README.md) to know how to do that.\n",
    "    \n",
    "    It will continue in 20 seconds.\n",
    "    \"\"\"\n",
    "    print(message)\n",
    "    sleep(20)"
   ]
  },
  {
   "cell_type": "markdown",
   "id": "2aae4936",
   "metadata": {
    "papermill": {
     "duration": 0.022335,
     "end_time": "2022-03-01T06:49:51.632081",
     "exception": false,
     "start_time": "2022-03-01T06:49:51.609746",
     "status": "completed"
    },
    "tags": []
   },
   "source": [
    "# Load data"
   ]
  },
  {
   "cell_type": "markdown",
   "id": "24e10368",
   "metadata": {
    "papermill": {
     "duration": 0.02229,
     "end_time": "2022-03-01T06:49:51.676630",
     "exception": false,
     "start_time": "2022-03-01T06:49:51.654340",
     "status": "completed"
    },
    "tags": []
   },
   "source": [
    "## MultiPLIER Z"
   ]
  },
  {
   "cell_type": "code",
   "execution_count": 8,
   "id": "df154b08",
   "metadata": {
    "execution": {
     "iopub.execute_input": "2022-03-01T06:49:51.722328Z",
     "iopub.status.busy": "2022-03-01T06:49:51.722148Z",
     "iopub.status.idle": "2022-03-01T06:49:51.764353Z",
     "shell.execute_reply": "2022-03-01T06:49:51.763824Z"
    },
    "papermill": {
     "duration": 0.067286,
     "end_time": "2022-03-01T06:49:51.766143",
     "exception": false,
     "start_time": "2022-03-01T06:49:51.698857",
     "status": "completed"
    },
    "tags": []
   },
   "outputs": [],
   "source": [
    "multiplier_z_genes = pd.read_pickle(\n",
    "    conf.MULTIPLIER[\"MODEL_Z_MATRIX_FILE\"]\n",
    ").index.tolist()"
   ]
  },
  {
   "cell_type": "code",
   "execution_count": 9,
   "id": "9919b407",
   "metadata": {
    "execution": {
     "iopub.execute_input": "2022-03-01T06:49:51.815487Z",
     "iopub.status.busy": "2022-03-01T06:49:51.815301Z",
     "iopub.status.idle": "2022-03-01T06:49:51.832265Z",
     "shell.execute_reply": "2022-03-01T06:49:51.831802Z"
    },
    "papermill": {
     "duration": 0.042642,
     "end_time": "2022-03-01T06:49:51.833868",
     "exception": false,
     "start_time": "2022-03-01T06:49:51.791226",
     "status": "completed"
    },
    "tags": []
   },
   "outputs": [
    {
     "data": {
      "text/plain": [
       "6750"
      ]
     },
     "execution_count": 9,
     "metadata": {},
     "output_type": "execute_result"
    }
   ],
   "source": [
    "len(multiplier_z_genes)"
   ]
  },
  {
   "cell_type": "code",
   "execution_count": 10,
   "id": "d297bd8d",
   "metadata": {
    "execution": {
     "iopub.execute_input": "2022-03-01T06:49:51.882610Z",
     "iopub.status.busy": "2022-03-01T06:49:51.882379Z",
     "iopub.status.idle": "2022-03-01T06:49:51.899548Z",
     "shell.execute_reply": "2022-03-01T06:49:51.899011Z"
    },
    "papermill": {
     "duration": 0.043103,
     "end_time": "2022-03-01T06:49:51.901208",
     "exception": false,
     "start_time": "2022-03-01T06:49:51.858105",
     "status": "completed"
    },
    "tags": []
   },
   "outputs": [
    {
     "data": {
      "text/plain": [
       "['GAS6',\n",
       " 'MMP14',\n",
       " 'DSP',\n",
       " 'MARCKSL1',\n",
       " 'SPARC',\n",
       " 'CTSD',\n",
       " 'EPAS1',\n",
       " 'PALLD',\n",
       " 'PHC2',\n",
       " 'LGALS3BP']"
      ]
     },
     "execution_count": 10,
     "metadata": {},
     "output_type": "execute_result"
    }
   ],
   "source": [
    "multiplier_z_genes[:10]"
   ]
  },
  {
   "cell_type": "markdown",
   "id": "b8bbc4fd",
   "metadata": {
    "papermill": {
     "duration": 0.023776,
     "end_time": "2022-03-01T06:49:51.949748",
     "exception": false,
     "start_time": "2022-03-01T06:49:51.925972",
     "status": "completed"
    },
    "tags": []
   },
   "source": [
    "## Get gene objects"
   ]
  },
  {
   "cell_type": "code",
   "execution_count": 11,
   "id": "6f785c35",
   "metadata": {
    "execution": {
     "iopub.execute_input": "2022-03-01T06:49:52.003827Z",
     "iopub.status.busy": "2022-03-01T06:49:52.003602Z",
     "iopub.status.idle": "2022-03-01T06:49:52.026097Z",
     "shell.execute_reply": "2022-03-01T06:49:52.025600Z"
    },
    "papermill": {
     "duration": 0.048389,
     "end_time": "2022-03-01T06:49:52.027696",
     "exception": false,
     "start_time": "2022-03-01T06:49:51.979307",
     "status": "completed"
    },
    "tags": []
   },
   "outputs": [],
   "source": [
    "multiplier_gene_obj = {\n",
    "    gene_name: Gene(name=gene_name)\n",
    "    for gene_name in multiplier_z_genes\n",
    "    if gene_name in Gene.GENE_NAME_TO_ID_MAP\n",
    "}"
   ]
  },
  {
   "cell_type": "code",
   "execution_count": 12,
   "id": "8249f836",
   "metadata": {
    "execution": {
     "iopub.execute_input": "2022-03-01T06:49:52.077283Z",
     "iopub.status.busy": "2022-03-01T06:49:52.077095Z",
     "iopub.status.idle": "2022-03-01T06:49:52.093635Z",
     "shell.execute_reply": "2022-03-01T06:49:52.093155Z"
    },
    "papermill": {
     "duration": 0.042853,
     "end_time": "2022-03-01T06:49:52.095313",
     "exception": false,
     "start_time": "2022-03-01T06:49:52.052460",
     "status": "completed"
    },
    "tags": []
   },
   "outputs": [
    {
     "data": {
      "text/plain": [
       "6454"
      ]
     },
     "execution_count": 12,
     "metadata": {},
     "output_type": "execute_result"
    }
   ],
   "source": [
    "len(multiplier_gene_obj)"
   ]
  },
  {
   "cell_type": "code",
   "execution_count": 13,
   "id": "46f78e0a",
   "metadata": {
    "execution": {
     "iopub.execute_input": "2022-03-01T06:49:52.146328Z",
     "iopub.status.busy": "2022-03-01T06:49:52.146152Z",
     "iopub.status.idle": "2022-03-01T06:49:52.162825Z",
     "shell.execute_reply": "2022-03-01T06:49:52.162344Z"
    },
    "papermill": {
     "duration": 0.043662,
     "end_time": "2022-03-01T06:49:52.164514",
     "exception": false,
     "start_time": "2022-03-01T06:49:52.120852",
     "status": "completed"
    },
    "tags": []
   },
   "outputs": [
    {
     "data": {
      "text/plain": [
       "'ENSG00000183087'"
      ]
     },
     "execution_count": 13,
     "metadata": {},
     "output_type": "execute_result"
    }
   ],
   "source": [
    "multiplier_gene_obj[\"GAS6\"].ensembl_id"
   ]
  },
  {
   "cell_type": "code",
   "execution_count": 14,
   "id": "97644699",
   "metadata": {
    "execution": {
     "iopub.execute_input": "2022-03-01T06:49:52.215897Z",
     "iopub.status.busy": "2022-03-01T06:49:52.215706Z",
     "iopub.status.idle": "2022-03-01T06:49:53.121719Z",
     "shell.execute_reply": "2022-03-01T06:49:53.121246Z"
    },
    "papermill": {
     "duration": 0.933143,
     "end_time": "2022-03-01T06:49:53.123397",
     "exception": false,
     "start_time": "2022-03-01T06:49:52.190254",
     "status": "completed"
    },
    "tags": []
   },
   "outputs": [],
   "source": [
    "_gene_obj = list(multiplier_gene_obj.values())\n",
    "\n",
    "genes_info = pd.DataFrame(\n",
    "    {\n",
    "        \"name\": [g.name for g in _gene_obj],\n",
    "        \"id\": [g.ensembl_id for g in _gene_obj],\n",
    "        \"chr\": [g.chromosome for g in _gene_obj],\n",
    "    }\n",
    ")"
   ]
  },
  {
   "cell_type": "code",
   "execution_count": 15,
   "id": "e4477eed",
   "metadata": {
    "execution": {
     "iopub.execute_input": "2022-03-01T06:49:53.173872Z",
     "iopub.status.busy": "2022-03-01T06:49:53.173676Z",
     "iopub.status.idle": "2022-03-01T06:49:53.190370Z",
     "shell.execute_reply": "2022-03-01T06:49:53.189886Z"
    },
    "papermill": {
     "duration": 0.043612,
     "end_time": "2022-03-01T06:49:53.192081",
     "exception": false,
     "start_time": "2022-03-01T06:49:53.148469",
     "status": "completed"
    },
    "tags": []
   },
   "outputs": [
    {
     "data": {
      "text/plain": [
       "(6454, 3)"
      ]
     },
     "execution_count": 15,
     "metadata": {},
     "output_type": "execute_result"
    }
   ],
   "source": [
    "genes_info.shape"
   ]
  },
  {
   "cell_type": "code",
   "execution_count": 16,
   "id": "797ebef5",
   "metadata": {
    "execution": {
     "iopub.execute_input": "2022-03-01T06:49:53.244040Z",
     "iopub.status.busy": "2022-03-01T06:49:53.243854Z",
     "iopub.status.idle": "2022-03-01T06:49:53.262972Z",
     "shell.execute_reply": "2022-03-01T06:49:53.262442Z"
    },
    "papermill": {
     "duration": 0.046471,
     "end_time": "2022-03-01T06:49:53.264627",
     "exception": false,
     "start_time": "2022-03-01T06:49:53.218156",
     "status": "completed"
    },
    "tags": []
   },
   "outputs": [
    {
     "data": {
      "text/html": [
       "<div>\n",
       "<style scoped>\n",
       "    .dataframe tbody tr th:only-of-type {\n",
       "        vertical-align: middle;\n",
       "    }\n",
       "\n",
       "    .dataframe tbody tr th {\n",
       "        vertical-align: top;\n",
       "    }\n",
       "\n",
       "    .dataframe thead th {\n",
       "        text-align: right;\n",
       "    }\n",
       "</style>\n",
       "<table border=\"1\" class=\"dataframe\">\n",
       "  <thead>\n",
       "    <tr style=\"text-align: right;\">\n",
       "      <th></th>\n",
       "      <th>name</th>\n",
       "      <th>id</th>\n",
       "      <th>chr</th>\n",
       "    </tr>\n",
       "  </thead>\n",
       "  <tbody>\n",
       "    <tr>\n",
       "      <th>0</th>\n",
       "      <td>GAS6</td>\n",
       "      <td>ENSG00000183087</td>\n",
       "      <td>13</td>\n",
       "    </tr>\n",
       "    <tr>\n",
       "      <th>1</th>\n",
       "      <td>MMP14</td>\n",
       "      <td>ENSG00000157227</td>\n",
       "      <td>14</td>\n",
       "    </tr>\n",
       "    <tr>\n",
       "      <th>2</th>\n",
       "      <td>DSP</td>\n",
       "      <td>ENSG00000096696</td>\n",
       "      <td>6</td>\n",
       "    </tr>\n",
       "    <tr>\n",
       "      <th>3</th>\n",
       "      <td>MARCKSL1</td>\n",
       "      <td>ENSG00000175130</td>\n",
       "      <td>1</td>\n",
       "    </tr>\n",
       "    <tr>\n",
       "      <th>4</th>\n",
       "      <td>SPARC</td>\n",
       "      <td>ENSG00000113140</td>\n",
       "      <td>5</td>\n",
       "    </tr>\n",
       "  </tbody>\n",
       "</table>\n",
       "</div>"
      ],
      "text/plain": [
       "       name               id chr\n",
       "0      GAS6  ENSG00000183087  13\n",
       "1     MMP14  ENSG00000157227  14\n",
       "2       DSP  ENSG00000096696   6\n",
       "3  MARCKSL1  ENSG00000175130   1\n",
       "4     SPARC  ENSG00000113140   5"
      ]
     },
     "execution_count": 16,
     "metadata": {},
     "output_type": "execute_result"
    }
   ],
   "source": [
    "genes_info.head()"
   ]
  },
  {
   "cell_type": "markdown",
   "id": "993a0d2d",
   "metadata": {
    "papermill": {
     "duration": 0.025896,
     "end_time": "2022-03-01T06:49:53.317446",
     "exception": false,
     "start_time": "2022-03-01T06:49:53.291550",
     "status": "completed"
    },
    "tags": []
   },
   "source": [
    "## Get tissues names"
   ]
  },
  {
   "cell_type": "code",
   "execution_count": 17,
   "id": "783dbd29",
   "metadata": {
    "execution": {
     "iopub.execute_input": "2022-03-01T06:49:53.368896Z",
     "iopub.status.busy": "2022-03-01T06:49:53.368654Z",
     "iopub.status.idle": "2022-03-01T06:49:53.383964Z",
     "shell.execute_reply": "2022-03-01T06:49:53.383483Z"
    },
    "papermill": {
     "duration": 0.042892,
     "end_time": "2022-03-01T06:49:53.385563",
     "exception": false,
     "start_time": "2022-03-01T06:49:53.342671",
     "status": "completed"
    },
    "tags": []
   },
   "outputs": [],
   "source": [
    "db_files = list(conf.PHENOMEXCAN[\"PREDICTION_MODELS\"][EQTL_MODEL].glob(\"*.db\"))"
   ]
  },
  {
   "cell_type": "code",
   "execution_count": 18,
   "id": "04664f7d",
   "metadata": {
    "execution": {
     "iopub.execute_input": "2022-03-01T06:49:53.439150Z",
     "iopub.status.busy": "2022-03-01T06:49:53.438924Z",
     "iopub.status.idle": "2022-03-01T06:49:53.456871Z",
     "shell.execute_reply": "2022-03-01T06:49:53.456299Z"
    },
    "papermill": {
     "duration": 0.047255,
     "end_time": "2022-03-01T06:49:53.459066",
     "exception": false,
     "start_time": "2022-03-01T06:49:53.411811",
     "status": "completed"
    },
    "tags": []
   },
   "outputs": [],
   "source": [
    "assert len(db_files) == 49"
   ]
  },
  {
   "cell_type": "code",
   "execution_count": 19,
   "id": "4717fbb3",
   "metadata": {
    "execution": {
     "iopub.execute_input": "2022-03-01T06:49:53.517914Z",
     "iopub.status.busy": "2022-03-01T06:49:53.517718Z",
     "iopub.status.idle": "2022-03-01T06:49:53.533326Z",
     "shell.execute_reply": "2022-03-01T06:49:53.532821Z"
    },
    "papermill": {
     "duration": 0.04552,
     "end_time": "2022-03-01T06:49:53.535056",
     "exception": false,
     "start_time": "2022-03-01T06:49:53.489536",
     "status": "completed"
    },
    "tags": []
   },
   "outputs": [],
   "source": [
    "tissues = [\n",
    "    str(f).split(EQTL_MODEL_FILES_PREFIX, maxsplit=1)[1].split(\".db\")[0]\n",
    "    for f in db_files\n",
    "]"
   ]
  },
  {
   "cell_type": "code",
   "execution_count": 20,
   "id": "3cc28e7c",
   "metadata": {
    "execution": {
     "iopub.execute_input": "2022-03-01T06:49:53.589713Z",
     "iopub.status.busy": "2022-03-01T06:49:53.589533Z",
     "iopub.status.idle": "2022-03-01T06:49:53.606470Z",
     "shell.execute_reply": "2022-03-01T06:49:53.605988Z"
    },
    "papermill": {
     "duration": 0.045748,
     "end_time": "2022-03-01T06:49:53.608162",
     "exception": false,
     "start_time": "2022-03-01T06:49:53.562414",
     "status": "completed"
    },
    "tags": []
   },
   "outputs": [
    {
     "data": {
      "text/plain": [
       "['Skin_Not_Sun_Exposed_Suprapubic',\n",
       " 'Cells_EBV-transformed_lymphocytes',\n",
       " 'Brain_Frontal_Cortex_BA9',\n",
       " 'Kidney_Cortex',\n",
       " 'Brain_Substantia_nigra']"
      ]
     },
     "execution_count": 20,
     "metadata": {},
     "output_type": "execute_result"
    }
   ],
   "source": [
    "tissues[:5]"
   ]
  },
  {
   "cell_type": "markdown",
   "id": "65fba569",
   "metadata": {
    "papermill": {
     "duration": 0.026128,
     "end_time": "2022-03-01T06:49:53.661474",
     "exception": false,
     "start_time": "2022-03-01T06:49:53.635346",
     "status": "completed"
    },
    "tags": []
   },
   "source": [
    "# Test"
   ]
  },
  {
   "cell_type": "code",
   "execution_count": 21,
   "id": "c557bc63",
   "metadata": {
    "execution": {
     "iopub.execute_input": "2022-03-01T06:49:53.715074Z",
     "iopub.status.busy": "2022-03-01T06:49:53.714894Z",
     "iopub.status.idle": "2022-03-01T06:49:53.738279Z",
     "shell.execute_reply": "2022-03-01T06:49:53.737800Z"
    },
    "papermill": {
     "duration": 0.052043,
     "end_time": "2022-03-01T06:49:53.739955",
     "exception": false,
     "start_time": "2022-03-01T06:49:53.687912",
     "status": "completed"
    },
    "tags": []
   },
   "outputs": [
    {
     "data": {
      "text/html": [
       "<div>\n",
       "<style scoped>\n",
       "    .dataframe tbody tr th:only-of-type {\n",
       "        vertical-align: middle;\n",
       "    }\n",
       "\n",
       "    .dataframe tbody tr th {\n",
       "        vertical-align: top;\n",
       "    }\n",
       "\n",
       "    .dataframe thead th {\n",
       "        text-align: right;\n",
       "    }\n",
       "</style>\n",
       "<table border=\"1\" class=\"dataframe\">\n",
       "  <thead>\n",
       "    <tr style=\"text-align: right;\">\n",
       "      <th></th>\n",
       "      <th>name</th>\n",
       "      <th>id</th>\n",
       "      <th>chr</th>\n",
       "    </tr>\n",
       "  </thead>\n",
       "  <tbody>\n",
       "    <tr>\n",
       "      <th>0</th>\n",
       "      <td>GAS6</td>\n",
       "      <td>ENSG00000183087</td>\n",
       "      <td>13</td>\n",
       "    </tr>\n",
       "    <tr>\n",
       "      <th>139</th>\n",
       "      <td>FRY</td>\n",
       "      <td>ENSG00000073910</td>\n",
       "      <td>13</td>\n",
       "    </tr>\n",
       "    <tr>\n",
       "      <th>239</th>\n",
       "      <td>CCNA1</td>\n",
       "      <td>ENSG00000133101</td>\n",
       "      <td>13</td>\n",
       "    </tr>\n",
       "    <tr>\n",
       "      <th>283</th>\n",
       "      <td>FLT3</td>\n",
       "      <td>ENSG00000122025</td>\n",
       "      <td>13</td>\n",
       "    </tr>\n",
       "    <tr>\n",
       "      <th>412</th>\n",
       "      <td>TNFSF11</td>\n",
       "      <td>ENSG00000120659</td>\n",
       "      <td>13</td>\n",
       "    </tr>\n",
       "    <tr>\n",
       "      <th>...</th>\n",
       "      <td>...</td>\n",
       "      <td>...</td>\n",
       "      <td>...</td>\n",
       "    </tr>\n",
       "    <tr>\n",
       "      <th>6269</th>\n",
       "      <td>KL</td>\n",
       "      <td>ENSG00000133116</td>\n",
       "      <td>13</td>\n",
       "    </tr>\n",
       "    <tr>\n",
       "      <th>6351</th>\n",
       "      <td>MTMR6</td>\n",
       "      <td>ENSG00000139505</td>\n",
       "      <td>13</td>\n",
       "    </tr>\n",
       "    <tr>\n",
       "      <th>6379</th>\n",
       "      <td>ABCC4</td>\n",
       "      <td>ENSG00000125257</td>\n",
       "      <td>13</td>\n",
       "    </tr>\n",
       "    <tr>\n",
       "      <th>6416</th>\n",
       "      <td>RFXAP</td>\n",
       "      <td>ENSG00000133111</td>\n",
       "      <td>13</td>\n",
       "    </tr>\n",
       "    <tr>\n",
       "      <th>6436</th>\n",
       "      <td>ELF1</td>\n",
       "      <td>ENSG00000120690</td>\n",
       "      <td>13</td>\n",
       "    </tr>\n",
       "  </tbody>\n",
       "</table>\n",
       "<p>118 rows × 3 columns</p>\n",
       "</div>"
      ],
      "text/plain": [
       "         name               id chr\n",
       "0        GAS6  ENSG00000183087  13\n",
       "139       FRY  ENSG00000073910  13\n",
       "239     CCNA1  ENSG00000133101  13\n",
       "283      FLT3  ENSG00000122025  13\n",
       "412   TNFSF11  ENSG00000120659  13\n",
       "...       ...              ...  ..\n",
       "6269       KL  ENSG00000133116  13\n",
       "6351    MTMR6  ENSG00000139505  13\n",
       "6379    ABCC4  ENSG00000125257  13\n",
       "6416    RFXAP  ENSG00000133111  13\n",
       "6436     ELF1  ENSG00000120690  13\n",
       "\n",
       "[118 rows x 3 columns]"
      ]
     },
     "execution_count": 21,
     "metadata": {},
     "output_type": "execute_result"
    }
   ],
   "source": [
    "genes_info[genes_info[\"chr\"] == \"13\"]"
   ]
  },
  {
   "cell_type": "code",
   "execution_count": 22,
   "id": "d9a014bc",
   "metadata": {
    "execution": {
     "iopub.execute_input": "2022-03-01T06:49:53.795793Z",
     "iopub.status.busy": "2022-03-01T06:49:53.795600Z",
     "iopub.status.idle": "2022-03-01T06:49:53.811132Z",
     "shell.execute_reply": "2022-03-01T06:49:53.810614Z"
    },
    "papermill": {
     "duration": 0.044811,
     "end_time": "2022-03-01T06:49:53.812885",
     "exception": false,
     "start_time": "2022-03-01T06:49:53.768074",
     "status": "completed"
    },
    "tags": []
   },
   "outputs": [],
   "source": [
    "_gene_list = [\n",
    "    Gene(\"ENSG00000134871\"),\n",
    "    Gene(\"ENSG00000187498\"),\n",
    "    Gene(\"ENSG00000183087\"),\n",
    "    Gene(\"ENSG00000073910\"),\n",
    "    Gene(\"ENSG00000133101\"),\n",
    "    Gene(\"ENSG00000122025\"),\n",
    "    Gene(\"ENSG00000120659\"),\n",
    "    Gene(\"ENSG00000133116\"),\n",
    "]\n",
    "\n",
    "tissue = \"Whole_Blood\""
   ]
  },
  {
   "cell_type": "code",
   "execution_count": 23,
   "id": "14337f6d",
   "metadata": {
    "execution": {
     "iopub.execute_input": "2022-03-01T06:49:53.869349Z",
     "iopub.status.busy": "2022-03-01T06:49:53.869167Z",
     "iopub.status.idle": "2022-03-01T06:49:54.715210Z",
     "shell.execute_reply": "2022-03-01T06:49:54.714681Z"
    },
    "papermill": {
     "duration": 0.875245,
     "end_time": "2022-03-01T06:49:54.717016",
     "exception": false,
     "start_time": "2022-03-01T06:49:53.841771",
     "status": "completed"
    },
    "tags": []
   },
   "outputs": [
    {
     "name": "stdout",
     "output_type": "stream",
     "text": [
      "82.1 ms ± 5.61 ms per loop (mean ± std. dev. of 7 runs, 1 loop each)\n"
     ]
    }
   ],
   "source": [
    "%%timeit\n",
    "for gene_idx1 in range(0, len(_gene_list) - 1):\n",
    "    gene_obj1 = _gene_list[gene_idx1]\n",
    "\n",
    "    for gene_idx2 in range(gene_idx1 + 1, len(_gene_list)):\n",
    "        gene_obj2 = _gene_list[gene_idx2]\n",
    "\n",
    "        gene_obj1.get_expression_correlation(\n",
    "            gene_obj2,\n",
    "            tissue,\n",
    "        )"
   ]
  },
  {
   "cell_type": "markdown",
   "id": "7787172c",
   "metadata": {
    "papermill": {
     "duration": 0.027485,
     "end_time": "2022-03-01T06:49:54.774138",
     "exception": false,
     "start_time": "2022-03-01T06:49:54.746653",
     "status": "completed"
    },
    "tags": []
   },
   "source": [
    "# Compute correlation per chromosome"
   ]
  },
  {
   "cell_type": "code",
   "execution_count": 24,
   "id": "53bac8a2",
   "metadata": {
    "execution": {
     "iopub.execute_input": "2022-03-01T06:49:54.829754Z",
     "iopub.status.busy": "2022-03-01T06:49:54.829510Z",
     "iopub.status.idle": "2022-03-01T08:05:38.645387Z",
     "shell.execute_reply": "2022-03-01T08:05:38.644790Z"
    },
    "papermill": {
     "duration": 4543.845433,
     "end_time": "2022-03-01T08:05:38.646804",
     "exception": false,
     "start_time": "2022-03-01T06:49:54.801371",
     "status": "completed"
    },
    "tags": []
   },
   "outputs": [
    {
     "name": "stdout",
     "output_type": "stream",
     "text": [
      "Chromosome 4\n",
      "Genes in chromosome(244, 3)\n",
      "Number of gene combinations: 29646\n",
      "Tissue Skin_Not_Sun_Exposed_Suprapubic\n"
     ]
    },
    {
     "name": "stderr",
     "output_type": "stream",
     "text": [
      "100%|████████████████████████████████████████████████████████| 29646/29646 [01:40<00:00, 294.79it/s]"
     ]
    },
    {
     "name": "stdout",
     "output_type": "stream",
     "text": [
      "Min/max values: -0.9352223891230323 / 0.9457917754147297\n"
     ]
    },
    {
     "name": "stderr",
     "output_type": "stream",
     "text": [
      "\n"
     ]
    },
    {
     "data": {
      "text/plain": [
       "PosixPath('/opt/data/data/phenomexcan/ld_blocks/mashr_gene_corrs/Skin_Not_Sun_Exposed_Suprapubic/gene_corrs-Skin_Not_Sun_Exposed_Suprapubic-chr4.pkl')"
      ]
     },
     "metadata": {},
     "output_type": "display_data"
    },
    {
     "name": "stdout",
     "output_type": "stream",
     "text": [
      "Tissue Cells_EBV-transformed_lymphocytes\n"
     ]
    },
    {
     "name": "stderr",
     "output_type": "stream",
     "text": [
      "100%|████████████████████████████████████████████████████████| 29646/29646 [01:23<00:00, 356.32it/s]"
     ]
    },
    {
     "name": "stdout",
     "output_type": "stream",
     "text": [
      "Min/max values: -1.0 / 0.9476468125866901\n"
     ]
    },
    {
     "name": "stderr",
     "output_type": "stream",
     "text": [
      "\n"
     ]
    },
    {
     "data": {
      "text/plain": [
       "PosixPath('/opt/data/data/phenomexcan/ld_blocks/mashr_gene_corrs/Cells_EBV-transformed_lymphocytes/gene_corrs-Cells_EBV-transformed_lymphocytes-chr4.pkl')"
      ]
     },
     "metadata": {},
     "output_type": "display_data"
    },
    {
     "name": "stdout",
     "output_type": "stream",
     "text": [
      "Tissue Brain_Frontal_Cortex_BA9\n"
     ]
    },
    {
     "name": "stderr",
     "output_type": "stream",
     "text": [
      "100%|████████████████████████████████████████████████████████| 29646/29646 [01:36<00:00, 307.38it/s]"
     ]
    },
    {
     "name": "stdout",
     "output_type": "stream",
     "text": [
      "Min/max values: -0.9352223891230325 / 0.8983805011254156\n"
     ]
    },
    {
     "name": "stderr",
     "output_type": "stream",
     "text": [
      "\n"
     ]
    },
    {
     "data": {
      "text/plain": [
       "PosixPath('/opt/data/data/phenomexcan/ld_blocks/mashr_gene_corrs/Brain_Frontal_Cortex_BA9/gene_corrs-Brain_Frontal_Cortex_BA9-chr4.pkl')"
      ]
     },
     "metadata": {},
     "output_type": "display_data"
    },
    {
     "name": "stdout",
     "output_type": "stream",
     "text": [
      "Tissue Kidney_Cortex\n"
     ]
    },
    {
     "name": "stderr",
     "output_type": "stream",
     "text": [
      "100%|████████████████████████████████████████████████████████| 29646/29646 [01:08<00:00, 433.03it/s]"
     ]
    },
    {
     "name": "stdout",
     "output_type": "stream",
     "text": [
      "Min/max values: -0.834882126115421 / 0.9466245342530623\n"
     ]
    },
    {
     "name": "stderr",
     "output_type": "stream",
     "text": [
      "\n"
     ]
    },
    {
     "data": {
      "text/plain": [
       "PosixPath('/opt/data/data/phenomexcan/ld_blocks/mashr_gene_corrs/Kidney_Cortex/gene_corrs-Kidney_Cortex-chr4.pkl')"
      ]
     },
     "metadata": {},
     "output_type": "display_data"
    },
    {
     "name": "stdout",
     "output_type": "stream",
     "text": [
      "Tissue Brain_Substantia_nigra\n"
     ]
    },
    {
     "name": "stderr",
     "output_type": "stream",
     "text": [
      "100%|████████████████████████████████████████████████████████| 29646/29646 [01:22<00:00, 360.45it/s]"
     ]
    },
    {
     "name": "stdout",
     "output_type": "stream",
     "text": [
      "Min/max values: -0.7076254921736479 / 1.0\n"
     ]
    },
    {
     "name": "stderr",
     "output_type": "stream",
     "text": [
      "\n"
     ]
    },
    {
     "data": {
      "text/plain": [
       "PosixPath('/opt/data/data/phenomexcan/ld_blocks/mashr_gene_corrs/Brain_Substantia_nigra/gene_corrs-Brain_Substantia_nigra-chr4.pkl')"
      ]
     },
     "metadata": {},
     "output_type": "display_data"
    },
    {
     "name": "stdout",
     "output_type": "stream",
     "text": [
      "Tissue Spleen\n"
     ]
    },
    {
     "name": "stderr",
     "output_type": "stream",
     "text": [
      "100%|████████████████████████████████████████████████████████| 29646/29646 [01:37<00:00, 304.91it/s]"
     ]
    },
    {
     "name": "stdout",
     "output_type": "stream",
     "text": [
      "Min/max values: -0.8083397705429078 / 1.0\n"
     ]
    },
    {
     "name": "stderr",
     "output_type": "stream",
     "text": [
      "\n"
     ]
    },
    {
     "data": {
      "text/plain": [
       "PosixPath('/opt/data/data/phenomexcan/ld_blocks/mashr_gene_corrs/Spleen/gene_corrs-Spleen-chr4.pkl')"
      ]
     },
     "metadata": {},
     "output_type": "display_data"
    },
    {
     "name": "stdout",
     "output_type": "stream",
     "text": [
      "Tissue Colon_Transverse\n"
     ]
    },
    {
     "name": "stderr",
     "output_type": "stream",
     "text": [
      "100%|████████████████████████████████████████████████████████| 29646/29646 [01:40<00:00, 293.71it/s]"
     ]
    },
    {
     "name": "stdout",
     "output_type": "stream",
     "text": [
      "Min/max values: -0.8252283300210226 / 0.9423033819605575\n"
     ]
    },
    {
     "name": "stderr",
     "output_type": "stream",
     "text": [
      "\n"
     ]
    },
    {
     "data": {
      "text/plain": [
       "PosixPath('/opt/data/data/phenomexcan/ld_blocks/mashr_gene_corrs/Colon_Transverse/gene_corrs-Colon_Transverse-chr4.pkl')"
      ]
     },
     "metadata": {},
     "output_type": "display_data"
    },
    {
     "name": "stdout",
     "output_type": "stream",
     "text": [
      "Tissue Heart_Left_Ventricle\n"
     ]
    },
    {
     "name": "stderr",
     "output_type": "stream",
     "text": [
      "100%|████████████████████████████████████████████████████████| 29646/29646 [01:36<00:00, 308.13it/s]"
     ]
    },
    {
     "name": "stdout",
     "output_type": "stream",
     "text": [
      "Min/max values: -0.7881257437619469 / 0.9878236310932165\n"
     ]
    },
    {
     "name": "stderr",
     "output_type": "stream",
     "text": [
      "\n"
     ]
    },
    {
     "data": {
      "text/plain": [
       "PosixPath('/opt/data/data/phenomexcan/ld_blocks/mashr_gene_corrs/Heart_Left_Ventricle/gene_corrs-Heart_Left_Ventricle-chr4.pkl')"
      ]
     },
     "metadata": {},
     "output_type": "display_data"
    },
    {
     "name": "stdout",
     "output_type": "stream",
     "text": [
      "Tissue Lung\n"
     ]
    },
    {
     "name": "stderr",
     "output_type": "stream",
     "text": [
      "100%|████████████████████████████████████████████████████████| 29646/29646 [01:37<00:00, 304.65it/s]"
     ]
    },
    {
     "name": "stdout",
     "output_type": "stream",
     "text": [
      "Min/max values: -0.8829277273834347 / 0.7534046004457303\n"
     ]
    },
    {
     "name": "stderr",
     "output_type": "stream",
     "text": [
      "\n"
     ]
    },
    {
     "data": {
      "text/plain": [
       "PosixPath('/opt/data/data/phenomexcan/ld_blocks/mashr_gene_corrs/Lung/gene_corrs-Lung-chr4.pkl')"
      ]
     },
     "metadata": {},
     "output_type": "display_data"
    },
    {
     "name": "stdout",
     "output_type": "stream",
     "text": [
      "Tissue Muscle_Skeletal\n"
     ]
    },
    {
     "name": "stderr",
     "output_type": "stream",
     "text": [
      "100%|████████████████████████████████████████████████████████| 29646/29646 [01:30<00:00, 327.44it/s]"
     ]
    },
    {
     "name": "stdout",
     "output_type": "stream",
     "text": [
      "Min/max values: -0.9352223891230325 / 0.9787503131613562\n"
     ]
    },
    {
     "name": "stderr",
     "output_type": "stream",
     "text": [
      "\n"
     ]
    },
    {
     "data": {
      "text/plain": [
       "PosixPath('/opt/data/data/phenomexcan/ld_blocks/mashr_gene_corrs/Muscle_Skeletal/gene_corrs-Muscle_Skeletal-chr4.pkl')"
      ]
     },
     "metadata": {},
     "output_type": "display_data"
    },
    {
     "name": "stdout",
     "output_type": "stream",
     "text": [
      "Tissue Brain_Hypothalamus\n"
     ]
    },
    {
     "name": "stderr",
     "output_type": "stream",
     "text": [
      "100%|████████████████████████████████████████████████████████| 29646/29646 [01:15<00:00, 391.80it/s]"
     ]
    },
    {
     "name": "stdout",
     "output_type": "stream",
     "text": [
      "Min/max values: -0.9862159797795994 / 0.8079873549907116\n"
     ]
    },
    {
     "name": "stderr",
     "output_type": "stream",
     "text": [
      "\n"
     ]
    },
    {
     "data": {
      "text/plain": [
       "PosixPath('/opt/data/data/phenomexcan/ld_blocks/mashr_gene_corrs/Brain_Hypothalamus/gene_corrs-Brain_Hypothalamus-chr4.pkl')"
      ]
     },
     "metadata": {},
     "output_type": "display_data"
    },
    {
     "name": "stdout",
     "output_type": "stream",
     "text": [
      "Tissue Brain_Cortex\n"
     ]
    },
    {
     "name": "stderr",
     "output_type": "stream",
     "text": [
      "100%|████████████████████████████████████████████████████████| 29646/29646 [01:29<00:00, 331.60it/s]"
     ]
    },
    {
     "name": "stdout",
     "output_type": "stream",
     "text": [
      "Min/max values: -0.9100886683737691 / 0.7924641605129858\n"
     ]
    },
    {
     "name": "stderr",
     "output_type": "stream",
     "text": [
      "\n"
     ]
    },
    {
     "data": {
      "text/plain": [
       "PosixPath('/opt/data/data/phenomexcan/ld_blocks/mashr_gene_corrs/Brain_Cortex/gene_corrs-Brain_Cortex-chr4.pkl')"
      ]
     },
     "metadata": {},
     "output_type": "display_data"
    },
    {
     "name": "stdout",
     "output_type": "stream",
     "text": [
      "Tissue Brain_Amygdala\n"
     ]
    },
    {
     "name": "stderr",
     "output_type": "stream",
     "text": [
      "100%|████████████████████████████████████████████████████████| 29646/29646 [01:18<00:00, 375.45it/s]"
     ]
    },
    {
     "name": "stdout",
     "output_type": "stream",
     "text": [
      "Min/max values: -0.94888163535108 / 0.893255500712977\n"
     ]
    },
    {
     "name": "stderr",
     "output_type": "stream",
     "text": [
      "\n"
     ]
    },
    {
     "data": {
      "text/plain": [
       "PosixPath('/opt/data/data/phenomexcan/ld_blocks/mashr_gene_corrs/Brain_Amygdala/gene_corrs-Brain_Amygdala-chr4.pkl')"
      ]
     },
     "metadata": {},
     "output_type": "display_data"
    },
    {
     "name": "stdout",
     "output_type": "stream",
     "text": [
      "Tissue Esophagus_Mucosa\n"
     ]
    },
    {
     "name": "stderr",
     "output_type": "stream",
     "text": [
      "100%|████████████████████████████████████████████████████████| 29646/29646 [01:48<00:00, 273.41it/s]"
     ]
    },
    {
     "name": "stdout",
     "output_type": "stream",
     "text": [
      "Min/max values: -0.6940500989468719 / 0.9712614155178088\n"
     ]
    },
    {
     "name": "stderr",
     "output_type": "stream",
     "text": [
      "\n"
     ]
    },
    {
     "data": {
      "text/plain": [
       "PosixPath('/opt/data/data/phenomexcan/ld_blocks/mashr_gene_corrs/Esophagus_Mucosa/gene_corrs-Esophagus_Mucosa-chr4.pkl')"
      ]
     },
     "metadata": {},
     "output_type": "display_data"
    },
    {
     "name": "stdout",
     "output_type": "stream",
     "text": [
      "Tissue Adrenal_Gland\n"
     ]
    },
    {
     "name": "stderr",
     "output_type": "stream",
     "text": [
      "100%|████████████████████████████████████████████████████████| 29646/29646 [01:38<00:00, 302.43it/s]"
     ]
    },
    {
     "name": "stdout",
     "output_type": "stream",
     "text": [
      "Min/max values: -0.8164044746662653 / 0.8284235528460883\n"
     ]
    },
    {
     "name": "stderr",
     "output_type": "stream",
     "text": [
      "\n"
     ]
    },
    {
     "data": {
      "text/plain": [
       "PosixPath('/opt/data/data/phenomexcan/ld_blocks/mashr_gene_corrs/Adrenal_Gland/gene_corrs-Adrenal_Gland-chr4.pkl')"
      ]
     },
     "metadata": {},
     "output_type": "display_data"
    },
    {
     "name": "stdout",
     "output_type": "stream",
     "text": [
      "Tissue Uterus\n"
     ]
    },
    {
     "name": "stderr",
     "output_type": "stream",
     "text": [
      "100%|████████████████████████████████████████████████████████| 29646/29646 [01:22<00:00, 358.05it/s]"
     ]
    },
    {
     "name": "stdout",
     "output_type": "stream",
     "text": [
      "Min/max values: -0.7509057359202449 / 0.8947823391379538\n"
     ]
    },
    {
     "name": "stderr",
     "output_type": "stream",
     "text": [
      "\n"
     ]
    },
    {
     "data": {
      "text/plain": [
       "PosixPath('/opt/data/data/phenomexcan/ld_blocks/mashr_gene_corrs/Uterus/gene_corrs-Uterus-chr4.pkl')"
      ]
     },
     "metadata": {},
     "output_type": "display_data"
    },
    {
     "name": "stdout",
     "output_type": "stream",
     "text": [
      "Tissue Prostate\n"
     ]
    },
    {
     "name": "stderr",
     "output_type": "stream",
     "text": [
      "100%|████████████████████████████████████████████████████████| 29646/29646 [01:41<00:00, 291.53it/s]"
     ]
    },
    {
     "name": "stdout",
     "output_type": "stream",
     "text": [
      "Min/max values: -0.9116860106243126 / 0.9792140087790924\n"
     ]
    },
    {
     "name": "stderr",
     "output_type": "stream",
     "text": [
      "\n"
     ]
    },
    {
     "data": {
      "text/plain": [
       "PosixPath('/opt/data/data/phenomexcan/ld_blocks/mashr_gene_corrs/Prostate/gene_corrs-Prostate-chr4.pkl')"
      ]
     },
     "metadata": {},
     "output_type": "display_data"
    },
    {
     "name": "stdout",
     "output_type": "stream",
     "text": [
      "Tissue Whole_Blood\n"
     ]
    },
    {
     "name": "stderr",
     "output_type": "stream",
     "text": [
      "100%|████████████████████████████████████████████████████████| 29646/29646 [01:48<00:00, 273.27it/s]"
     ]
    },
    {
     "name": "stdout",
     "output_type": "stream",
     "text": [
      "Min/max values: -0.939556003717192 / 0.9404992280829396\n"
     ]
    },
    {
     "name": "stderr",
     "output_type": "stream",
     "text": [
      "\n"
     ]
    },
    {
     "data": {
      "text/plain": [
       "PosixPath('/opt/data/data/phenomexcan/ld_blocks/mashr_gene_corrs/Whole_Blood/gene_corrs-Whole_Blood-chr4.pkl')"
      ]
     },
     "metadata": {},
     "output_type": "display_data"
    },
    {
     "name": "stdout",
     "output_type": "stream",
     "text": [
      "Tissue Pituitary\n"
     ]
    },
    {
     "name": "stderr",
     "output_type": "stream",
     "text": [
      "100%|████████████████████████████████████████████████████████| 29646/29646 [01:33<00:00, 318.08it/s]"
     ]
    },
    {
     "name": "stdout",
     "output_type": "stream",
     "text": [
      "Min/max values: -0.7076254921736478 / 0.9193025407348214\n"
     ]
    },
    {
     "name": "stderr",
     "output_type": "stream",
     "text": [
      "\n"
     ]
    },
    {
     "data": {
      "text/plain": [
       "PosixPath('/opt/data/data/phenomexcan/ld_blocks/mashr_gene_corrs/Pituitary/gene_corrs-Pituitary-chr4.pkl')"
      ]
     },
     "metadata": {},
     "output_type": "display_data"
    },
    {
     "name": "stdout",
     "output_type": "stream",
     "text": [
      "Tissue Esophagus_Gastroesophageal_Junction\n"
     ]
    },
    {
     "name": "stderr",
     "output_type": "stream",
     "text": [
      "100%|████████████████████████████████████████████████████████| 29646/29646 [01:41<00:00, 290.97it/s]"
     ]
    },
    {
     "name": "stdout",
     "output_type": "stream",
     "text": [
      "Min/max values: -0.8113999675103928 / 0.7695363547944464\n"
     ]
    },
    {
     "name": "stderr",
     "output_type": "stream",
     "text": [
      "\n"
     ]
    },
    {
     "data": {
      "text/plain": [
       "PosixPath('/opt/data/data/phenomexcan/ld_blocks/mashr_gene_corrs/Esophagus_Gastroesophageal_Junction/gene_corrs-Esophagus_Gastroesophageal_Junction-chr4.pkl')"
      ]
     },
     "metadata": {},
     "output_type": "display_data"
    },
    {
     "name": "stdout",
     "output_type": "stream",
     "text": [
      "Tissue Stomach\n"
     ]
    },
    {
     "name": "stderr",
     "output_type": "stream",
     "text": [
      "100%|████████████████████████████████████████████████████████| 29646/29646 [01:38<00:00, 301.21it/s]"
     ]
    },
    {
     "name": "stdout",
     "output_type": "stream",
     "text": [
      "Min/max values: -0.5971184542312808 / 0.850296267746751\n"
     ]
    },
    {
     "name": "stderr",
     "output_type": "stream",
     "text": [
      "\n"
     ]
    },
    {
     "data": {
      "text/plain": [
       "PosixPath('/opt/data/data/phenomexcan/ld_blocks/mashr_gene_corrs/Stomach/gene_corrs-Stomach-chr4.pkl')"
      ]
     },
     "metadata": {},
     "output_type": "display_data"
    },
    {
     "name": "stdout",
     "output_type": "stream",
     "text": [
      "Tissue Heart_Atrial_Appendage\n"
     ]
    },
    {
     "name": "stderr",
     "output_type": "stream",
     "text": [
      "100%|████████████████████████████████████████████████████████| 29646/29646 [01:33<00:00, 316.23it/s]"
     ]
    },
    {
     "name": "stdout",
     "output_type": "stream",
     "text": [
      "Min/max values: -0.9162052823888301 / 0.8404886652112591\n"
     ]
    },
    {
     "name": "stderr",
     "output_type": "stream",
     "text": [
      "\n"
     ]
    },
    {
     "data": {
      "text/plain": [
       "PosixPath('/opt/data/data/phenomexcan/ld_blocks/mashr_gene_corrs/Heart_Atrial_Appendage/gene_corrs-Heart_Atrial_Appendage-chr4.pkl')"
      ]
     },
     "metadata": {},
     "output_type": "display_data"
    },
    {
     "name": "stdout",
     "output_type": "stream",
     "text": [
      "Tissue Brain_Cerebellum\n"
     ]
    },
    {
     "name": "stderr",
     "output_type": "stream",
     "text": [
      "100%|████████████████████████████████████████████████████████| 29646/29646 [01:20<00:00, 369.69it/s]"
     ]
    },
    {
     "name": "stdout",
     "output_type": "stream",
     "text": [
      "Min/max values: -0.8122514096036434 / 0.9960077143150461\n"
     ]
    },
    {
     "name": "stderr",
     "output_type": "stream",
     "text": [
      "\n"
     ]
    },
    {
     "data": {
      "text/plain": [
       "PosixPath('/opt/data/data/phenomexcan/ld_blocks/mashr_gene_corrs/Brain_Cerebellum/gene_corrs-Brain_Cerebellum-chr4.pkl')"
      ]
     },
     "metadata": {},
     "output_type": "display_data"
    },
    {
     "name": "stdout",
     "output_type": "stream",
     "text": [
      "Tissue Breast_Mammary_Tissue\n"
     ]
    },
    {
     "name": "stderr",
     "output_type": "stream",
     "text": [
      "100%|████████████████████████████████████████████████████████| 29646/29646 [01:36<00:00, 307.46it/s]"
     ]
    },
    {
     "name": "stdout",
     "output_type": "stream",
     "text": [
      "Min/max values: -0.8748482792238008 / 0.8137090938568529\n"
     ]
    },
    {
     "name": "stderr",
     "output_type": "stream",
     "text": [
      "\n"
     ]
    },
    {
     "data": {
      "text/plain": [
       "PosixPath('/opt/data/data/phenomexcan/ld_blocks/mashr_gene_corrs/Breast_Mammary_Tissue/gene_corrs-Breast_Mammary_Tissue-chr4.pkl')"
      ]
     },
     "metadata": {},
     "output_type": "display_data"
    },
    {
     "name": "stdout",
     "output_type": "stream",
     "text": [
      "Tissue Artery_Tibial\n"
     ]
    },
    {
     "name": "stderr",
     "output_type": "stream",
     "text": [
      "100%|████████████████████████████████████████████████████████| 29646/29646 [01:39<00:00, 298.02it/s]"
     ]
    },
    {
     "name": "stdout",
     "output_type": "stream",
     "text": [
      "Min/max values: -0.8697975430360713 / 0.972806530021224\n"
     ]
    },
    {
     "name": "stderr",
     "output_type": "stream",
     "text": [
      "\n"
     ]
    },
    {
     "data": {
      "text/plain": [
       "PosixPath('/opt/data/data/phenomexcan/ld_blocks/mashr_gene_corrs/Artery_Tibial/gene_corrs-Artery_Tibial-chr4.pkl')"
      ]
     },
     "metadata": {},
     "output_type": "display_data"
    },
    {
     "name": "stdout",
     "output_type": "stream",
     "text": [
      "Tissue Artery_Aorta\n"
     ]
    },
    {
     "name": "stderr",
     "output_type": "stream",
     "text": [
      "100%|████████████████████████████████████████████████████████| 29646/29646 [01:41<00:00, 293.50it/s]"
     ]
    },
    {
     "name": "stdout",
     "output_type": "stream",
     "text": [
      "Min/max values: -1.0 / 0.8895997619019769\n"
     ]
    },
    {
     "name": "stderr",
     "output_type": "stream",
     "text": [
      "\n"
     ]
    },
    {
     "data": {
      "text/plain": [
       "PosixPath('/opt/data/data/phenomexcan/ld_blocks/mashr_gene_corrs/Artery_Aorta/gene_corrs-Artery_Aorta-chr4.pkl')"
      ]
     },
     "metadata": {},
     "output_type": "display_data"
    },
    {
     "name": "stdout",
     "output_type": "stream",
     "text": [
      "Tissue Small_Intestine_Terminal_Ileum\n"
     ]
    },
    {
     "name": "stderr",
     "output_type": "stream",
     "text": [
      "100%|████████████████████████████████████████████████████████| 29646/29646 [01:37<00:00, 304.53it/s]"
     ]
    },
    {
     "name": "stdout",
     "output_type": "stream",
     "text": [
      "Min/max values: -0.8032659062473064 / 0.9776902049353701\n"
     ]
    },
    {
     "name": "stderr",
     "output_type": "stream",
     "text": [
      "\n"
     ]
    },
    {
     "data": {
      "text/plain": [
       "PosixPath('/opt/data/data/phenomexcan/ld_blocks/mashr_gene_corrs/Small_Intestine_Terminal_Ileum/gene_corrs-Small_Intestine_Terminal_Ileum-chr4.pkl')"
      ]
     },
     "metadata": {},
     "output_type": "display_data"
    },
    {
     "name": "stdout",
     "output_type": "stream",
     "text": [
      "Tissue Brain_Hippocampus\n"
     ]
    },
    {
     "name": "stderr",
     "output_type": "stream",
     "text": [
      "100%|████████████████████████████████████████████████████████| 29646/29646 [01:18<00:00, 375.33it/s]"
     ]
    },
    {
     "name": "stdout",
     "output_type": "stream",
     "text": [
      "Min/max values: -0.9792140087790925 / 0.8582470207494808\n"
     ]
    },
    {
     "name": "stderr",
     "output_type": "stream",
     "text": [
      "\n"
     ]
    },
    {
     "data": {
      "text/plain": [
       "PosixPath('/opt/data/data/phenomexcan/ld_blocks/mashr_gene_corrs/Brain_Hippocampus/gene_corrs-Brain_Hippocampus-chr4.pkl')"
      ]
     },
     "metadata": {},
     "output_type": "display_data"
    },
    {
     "name": "stdout",
     "output_type": "stream",
     "text": [
      "Tissue Testis\n"
     ]
    },
    {
     "name": "stderr",
     "output_type": "stream",
     "text": [
      "100%|████████████████████████████████████████████████████████| 29646/29646 [01:55<00:00, 256.81it/s]\n"
     ]
    },
    {
     "name": "stdout",
     "output_type": "stream",
     "text": [
      "Min/max values: -0.8115220503139671 / 1.0\n"
     ]
    },
    {
     "data": {
      "text/plain": [
       "PosixPath('/opt/data/data/phenomexcan/ld_blocks/mashr_gene_corrs/Testis/gene_corrs-Testis-chr4.pkl')"
      ]
     },
     "metadata": {},
     "output_type": "display_data"
    },
    {
     "name": "stdout",
     "output_type": "stream",
     "text": [
      "Tissue Brain_Putamen_basal_ganglia\n"
     ]
    },
    {
     "name": "stderr",
     "output_type": "stream",
     "text": [
      "100%|████████████████████████████████████████████████████████| 29646/29646 [01:25<00:00, 346.50it/s]"
     ]
    },
    {
     "name": "stdout",
     "output_type": "stream",
     "text": [
      "Min/max values: -0.7779546157899783 / 0.8554874603113976\n"
     ]
    },
    {
     "name": "stderr",
     "output_type": "stream",
     "text": [
      "\n"
     ]
    },
    {
     "data": {
      "text/plain": [
       "PosixPath('/opt/data/data/phenomexcan/ld_blocks/mashr_gene_corrs/Brain_Putamen_basal_ganglia/gene_corrs-Brain_Putamen_basal_ganglia-chr4.pkl')"
      ]
     },
     "metadata": {},
     "output_type": "display_data"
    },
    {
     "name": "stdout",
     "output_type": "stream",
     "text": [
      "Tissue Pancreas\n"
     ]
    },
    {
     "name": "stderr",
     "output_type": "stream",
     "text": [
      "100%|████████████████████████████████████████████████████████| 29646/29646 [01:37<00:00, 303.81it/s]"
     ]
    },
    {
     "name": "stdout",
     "output_type": "stream",
     "text": [
      "Min/max values: -0.7283481840345125 / 0.8473579683138747\n"
     ]
    },
    {
     "name": "stderr",
     "output_type": "stream",
     "text": [
      "\n"
     ]
    },
    {
     "data": {
      "text/plain": [
       "PosixPath('/opt/data/data/phenomexcan/ld_blocks/mashr_gene_corrs/Pancreas/gene_corrs-Pancreas-chr4.pkl')"
      ]
     },
     "metadata": {},
     "output_type": "display_data"
    },
    {
     "name": "stdout",
     "output_type": "stream",
     "text": [
      "Tissue Adipose_Subcutaneous\n"
     ]
    },
    {
     "name": "stderr",
     "output_type": "stream",
     "text": [
      "100%|████████████████████████████████████████████████████████| 29646/29646 [01:45<00:00, 279.88it/s]"
     ]
    },
    {
     "name": "stdout",
     "output_type": "stream",
     "text": [
      "Min/max values: -1.0 / 0.8895997619019769\n"
     ]
    },
    {
     "name": "stderr",
     "output_type": "stream",
     "text": [
      "\n"
     ]
    },
    {
     "data": {
      "text/plain": [
       "PosixPath('/opt/data/data/phenomexcan/ld_blocks/mashr_gene_corrs/Adipose_Subcutaneous/gene_corrs-Adipose_Subcutaneous-chr4.pkl')"
      ]
     },
     "metadata": {},
     "output_type": "display_data"
    },
    {
     "name": "stdout",
     "output_type": "stream",
     "text": [
      "Tissue Brain_Cerebellar_Hemisphere\n"
     ]
    },
    {
     "name": "stderr",
     "output_type": "stream",
     "text": [
      "100%|████████████████████████████████████████████████████████| 29646/29646 [01:21<00:00, 361.77it/s]"
     ]
    },
    {
     "name": "stdout",
     "output_type": "stream",
     "text": [
      "Min/max values: -1.0000000000000002 / 0.7546953636387036\n"
     ]
    },
    {
     "name": "stderr",
     "output_type": "stream",
     "text": [
      "\n"
     ]
    },
    {
     "data": {
      "text/plain": [
       "PosixPath('/opt/data/data/phenomexcan/ld_blocks/mashr_gene_corrs/Brain_Cerebellar_Hemisphere/gene_corrs-Brain_Cerebellar_Hemisphere-chr4.pkl')"
      ]
     },
     "metadata": {},
     "output_type": "display_data"
    },
    {
     "name": "stdout",
     "output_type": "stream",
     "text": [
      "Tissue Colon_Sigmoid\n"
     ]
    },
    {
     "name": "stderr",
     "output_type": "stream",
     "text": [
      "100%|████████████████████████████████████████████████████████| 29646/29646 [01:36<00:00, 306.24it/s]"
     ]
    },
    {
     "name": "stdout",
     "output_type": "stream",
     "text": [
      "Min/max values: -0.5899304447575224 / 0.9792140087790924\n"
     ]
    },
    {
     "name": "stderr",
     "output_type": "stream",
     "text": [
      "\n"
     ]
    },
    {
     "data": {
      "text/plain": [
       "PosixPath('/opt/data/data/phenomexcan/ld_blocks/mashr_gene_corrs/Colon_Sigmoid/gene_corrs-Colon_Sigmoid-chr4.pkl')"
      ]
     },
     "metadata": {},
     "output_type": "display_data"
    },
    {
     "name": "stdout",
     "output_type": "stream",
     "text": [
      "Tissue Minor_Salivary_Gland\n"
     ]
    },
    {
     "name": "stderr",
     "output_type": "stream",
     "text": [
      "100%|████████████████████████████████████████████████████████| 29646/29646 [01:25<00:00, 346.00it/s]\n"
     ]
    },
    {
     "name": "stdout",
     "output_type": "stream",
     "text": [
      "Min/max values: -0.9039938424232238 / 0.8157569707639418\n"
     ]
    },
    {
     "data": {
      "text/plain": [
       "PosixPath('/opt/data/data/phenomexcan/ld_blocks/mashr_gene_corrs/Minor_Salivary_Gland/gene_corrs-Minor_Salivary_Gland-chr4.pkl')"
      ]
     },
     "metadata": {},
     "output_type": "display_data"
    },
    {
     "name": "stdout",
     "output_type": "stream",
     "text": [
      "Tissue Cells_Cultured_fibroblasts\n"
     ]
    },
    {
     "name": "stderr",
     "output_type": "stream",
     "text": [
      "100%|████████████████████████████████████████████████████████| 29646/29646 [01:39<00:00, 297.63it/s]"
     ]
    },
    {
     "name": "stdout",
     "output_type": "stream",
     "text": [
      "Min/max values: -0.9792140087790926 / 0.8732063349435337\n"
     ]
    },
    {
     "name": "stderr",
     "output_type": "stream",
     "text": [
      "\n"
     ]
    },
    {
     "data": {
      "text/plain": [
       "PosixPath('/opt/data/data/phenomexcan/ld_blocks/mashr_gene_corrs/Cells_Cultured_fibroblasts/gene_corrs-Cells_Cultured_fibroblasts-chr4.pkl')"
      ]
     },
     "metadata": {},
     "output_type": "display_data"
    },
    {
     "name": "stdout",
     "output_type": "stream",
     "text": [
      "Tissue Brain_Nucleus_accumbens_basal_ganglia\n"
     ]
    },
    {
     "name": "stderr",
     "output_type": "stream",
     "text": [
      "100%|████████████████████████████████████████████████████████| 29646/29646 [01:30<00:00, 327.96it/s]"
     ]
    },
    {
     "name": "stdout",
     "output_type": "stream",
     "text": [
      "Min/max values: -0.9572148674907539 / 0.8411965937551136\n"
     ]
    },
    {
     "name": "stderr",
     "output_type": "stream",
     "text": [
      "\n"
     ]
    },
    {
     "data": {
      "text/plain": [
       "PosixPath('/opt/data/data/phenomexcan/ld_blocks/mashr_gene_corrs/Brain_Nucleus_accumbens_basal_ganglia/gene_corrs-Brain_Nucleus_accumbens_basal_ganglia-chr4.pkl')"
      ]
     },
     "metadata": {},
     "output_type": "display_data"
    },
    {
     "name": "stdout",
     "output_type": "stream",
     "text": [
      "Tissue Brain_Anterior_cingulate_cortex_BA24\n"
     ]
    },
    {
     "name": "stderr",
     "output_type": "stream",
     "text": [
      "100%|████████████████████████████████████████████████████████| 29646/29646 [01:30<00:00, 328.11it/s]"
     ]
    },
    {
     "name": "stdout",
     "output_type": "stream",
     "text": [
      "Min/max values: -0.9695766455113329 / 0.9553736739349569\n"
     ]
    },
    {
     "name": "stderr",
     "output_type": "stream",
     "text": [
      "\n"
     ]
    },
    {
     "data": {
      "text/plain": [
       "PosixPath('/opt/data/data/phenomexcan/ld_blocks/mashr_gene_corrs/Brain_Anterior_cingulate_cortex_BA24/gene_corrs-Brain_Anterior_cingulate_cortex_BA24-chr4.pkl')"
      ]
     },
     "metadata": {},
     "output_type": "display_data"
    },
    {
     "name": "stdout",
     "output_type": "stream",
     "text": [
      "Tissue Vagina\n"
     ]
    },
    {
     "name": "stderr",
     "output_type": "stream",
     "text": [
      "100%|████████████████████████████████████████████████████████| 29646/29646 [01:17<00:00, 382.09it/s]"
     ]
    },
    {
     "name": "stdout",
     "output_type": "stream",
     "text": [
      "Min/max values: -0.8986324453190142 / 0.9915297374185371\n"
     ]
    },
    {
     "name": "stderr",
     "output_type": "stream",
     "text": [
      "\n"
     ]
    },
    {
     "data": {
      "text/plain": [
       "PosixPath('/opt/data/data/phenomexcan/ld_blocks/mashr_gene_corrs/Vagina/gene_corrs-Vagina-chr4.pkl')"
      ]
     },
     "metadata": {},
     "output_type": "display_data"
    },
    {
     "name": "stdout",
     "output_type": "stream",
     "text": [
      "Tissue Ovary\n"
     ]
    },
    {
     "name": "stderr",
     "output_type": "stream",
     "text": [
      "100%|████████████████████████████████████████████████████████| 29646/29646 [01:25<00:00, 346.64it/s]"
     ]
    },
    {
     "name": "stdout",
     "output_type": "stream",
     "text": [
      "Min/max values: -0.650659485362286 / 0.9949336336706043\n"
     ]
    },
    {
     "name": "stderr",
     "output_type": "stream",
     "text": [
      "\n"
     ]
    },
    {
     "data": {
      "text/plain": [
       "PosixPath('/opt/data/data/phenomexcan/ld_blocks/mashr_gene_corrs/Ovary/gene_corrs-Ovary-chr4.pkl')"
      ]
     },
     "metadata": {},
     "output_type": "display_data"
    },
    {
     "name": "stdout",
     "output_type": "stream",
     "text": [
      "Tissue Skin_Sun_Exposed_Lower_leg\n"
     ]
    },
    {
     "name": "stderr",
     "output_type": "stream",
     "text": [
      "100%|████████████████████████████████████████████████████████| 29646/29646 [01:51<00:00, 265.12it/s]"
     ]
    },
    {
     "name": "stdout",
     "output_type": "stream",
     "text": [
      "Min/max values: -0.7867877006703434 / 0.9526192742985324\n"
     ]
    },
    {
     "name": "stderr",
     "output_type": "stream",
     "text": [
      "\n"
     ]
    },
    {
     "data": {
      "text/plain": [
       "PosixPath('/opt/data/data/phenomexcan/ld_blocks/mashr_gene_corrs/Skin_Sun_Exposed_Lower_leg/gene_corrs-Skin_Sun_Exposed_Lower_leg-chr4.pkl')"
      ]
     },
     "metadata": {},
     "output_type": "display_data"
    },
    {
     "name": "stdout",
     "output_type": "stream",
     "text": [
      "Tissue Esophagus_Muscularis\n"
     ]
    },
    {
     "name": "stderr",
     "output_type": "stream",
     "text": [
      "100%|████████████████████████████████████████████████████████| 29646/29646 [01:42<00:00, 288.02it/s]"
     ]
    },
    {
     "name": "stdout",
     "output_type": "stream",
     "text": [
      "Min/max values: -0.7225801067862342 / 0.8686009163620727\n"
     ]
    },
    {
     "name": "stderr",
     "output_type": "stream",
     "text": [
      "\n"
     ]
    },
    {
     "data": {
      "text/plain": [
       "PosixPath('/opt/data/data/phenomexcan/ld_blocks/mashr_gene_corrs/Esophagus_Muscularis/gene_corrs-Esophagus_Muscularis-chr4.pkl')"
      ]
     },
     "metadata": {},
     "output_type": "display_data"
    },
    {
     "name": "stdout",
     "output_type": "stream",
     "text": [
      "Tissue Brain_Spinal_cord_cervical_c-1\n"
     ]
    },
    {
     "name": "stderr",
     "output_type": "stream",
     "text": [
      "100%|████████████████████████████████████████████████████████| 29646/29646 [01:15<00:00, 392.21it/s]"
     ]
    },
    {
     "name": "stdout",
     "output_type": "stream",
     "text": [
      "Min/max values: -0.9792140087790924 / 0.8090887436805264\n"
     ]
    },
    {
     "name": "stderr",
     "output_type": "stream",
     "text": [
      "\n"
     ]
    },
    {
     "data": {
      "text/plain": [
       "PosixPath('/opt/data/data/phenomexcan/ld_blocks/mashr_gene_corrs/Brain_Spinal_cord_cervical_c-1/gene_corrs-Brain_Spinal_cord_cervical_c-1-chr4.pkl')"
      ]
     },
     "metadata": {},
     "output_type": "display_data"
    },
    {
     "name": "stdout",
     "output_type": "stream",
     "text": [
      "Tissue Artery_Coronary\n"
     ]
    },
    {
     "name": "stderr",
     "output_type": "stream",
     "text": [
      "100%|████████████████████████████████████████████████████████| 29646/29646 [01:31<00:00, 325.04it/s]"
     ]
    },
    {
     "name": "stdout",
     "output_type": "stream",
     "text": [
      "Min/max values: -0.7731825887585473 / 1.0\n"
     ]
    },
    {
     "name": "stderr",
     "output_type": "stream",
     "text": [
      "\n"
     ]
    },
    {
     "data": {
      "text/plain": [
       "PosixPath('/opt/data/data/phenomexcan/ld_blocks/mashr_gene_corrs/Artery_Coronary/gene_corrs-Artery_Coronary-chr4.pkl')"
      ]
     },
     "metadata": {},
     "output_type": "display_data"
    },
    {
     "name": "stdout",
     "output_type": "stream",
     "text": [
      "Tissue Thyroid\n"
     ]
    },
    {
     "name": "stderr",
     "output_type": "stream",
     "text": [
      "100%|████████████████████████████████████████████████████████| 29646/29646 [01:35<00:00, 310.64it/s]"
     ]
    },
    {
     "name": "stdout",
     "output_type": "stream",
     "text": [
      "Min/max values: -1.0 / 0.9466731999357901\n"
     ]
    },
    {
     "name": "stderr",
     "output_type": "stream",
     "text": [
      "\n"
     ]
    },
    {
     "data": {
      "text/plain": [
       "PosixPath('/opt/data/data/phenomexcan/ld_blocks/mashr_gene_corrs/Thyroid/gene_corrs-Thyroid-chr4.pkl')"
      ]
     },
     "metadata": {},
     "output_type": "display_data"
    },
    {
     "name": "stdout",
     "output_type": "stream",
     "text": [
      "Tissue Brain_Caudate_basal_ganglia\n"
     ]
    },
    {
     "name": "stderr",
     "output_type": "stream",
     "text": [
      "100%|████████████████████████████████████████████████████████| 29646/29646 [01:22<00:00, 359.48it/s]"
     ]
    },
    {
     "name": "stdout",
     "output_type": "stream",
     "text": [
      "Min/max values: -0.9722530329569388 / 0.8808252351639865\n"
     ]
    },
    {
     "name": "stderr",
     "output_type": "stream",
     "text": [
      "\n"
     ]
    },
    {
     "data": {
      "text/plain": [
       "PosixPath('/opt/data/data/phenomexcan/ld_blocks/mashr_gene_corrs/Brain_Caudate_basal_ganglia/gene_corrs-Brain_Caudate_basal_ganglia-chr4.pkl')"
      ]
     },
     "metadata": {},
     "output_type": "display_data"
    },
    {
     "name": "stdout",
     "output_type": "stream",
     "text": [
      "Tissue Adipose_Visceral_Omentum\n"
     ]
    },
    {
     "name": "stderr",
     "output_type": "stream",
     "text": [
      "100%|████████████████████████████████████████████████████████| 29646/29646 [01:32<00:00, 321.48it/s]"
     ]
    },
    {
     "name": "stdout",
     "output_type": "stream",
     "text": [
      "Min/max values: -0.9352223891230325 / 0.7721239849673723\n"
     ]
    },
    {
     "name": "stderr",
     "output_type": "stream",
     "text": [
      "\n"
     ]
    },
    {
     "data": {
      "text/plain": [
       "PosixPath('/opt/data/data/phenomexcan/ld_blocks/mashr_gene_corrs/Adipose_Visceral_Omentum/gene_corrs-Adipose_Visceral_Omentum-chr4.pkl')"
      ]
     },
     "metadata": {},
     "output_type": "display_data"
    },
    {
     "name": "stdout",
     "output_type": "stream",
     "text": [
      "Tissue Nerve_Tibial\n"
     ]
    },
    {
     "name": "stderr",
     "output_type": "stream",
     "text": [
      "100%|████████████████████████████████████████████████████████| 29646/29646 [01:42<00:00, 288.88it/s]"
     ]
    },
    {
     "name": "stdout",
     "output_type": "stream",
     "text": [
      "Min/max values: -0.9770244118678176 / 0.9661930715510811\n"
     ]
    },
    {
     "name": "stderr",
     "output_type": "stream",
     "text": [
      "\n"
     ]
    },
    {
     "data": {
      "text/plain": [
       "PosixPath('/opt/data/data/phenomexcan/ld_blocks/mashr_gene_corrs/Nerve_Tibial/gene_corrs-Nerve_Tibial-chr4.pkl')"
      ]
     },
     "metadata": {},
     "output_type": "display_data"
    },
    {
     "name": "stdout",
     "output_type": "stream",
     "text": [
      "Tissue Liver\n"
     ]
    },
    {
     "name": "stderr",
     "output_type": "stream",
     "text": [
      "100%|████████████████████████████████████████████████████████| 29646/29646 [01:19<00:00, 375.24it/s]"
     ]
    },
    {
     "name": "stdout",
     "output_type": "stream",
     "text": [
      "Min/max values: -0.9177537819028923 / 0.9081957496862576\n"
     ]
    },
    {
     "name": "stderr",
     "output_type": "stream",
     "text": [
      "\n"
     ]
    },
    {
     "data": {
      "text/plain": [
       "PosixPath('/opt/data/data/phenomexcan/ld_blocks/mashr_gene_corrs/Liver/gene_corrs-Liver-chr4.pkl')"
      ]
     },
     "metadata": {},
     "output_type": "display_data"
    }
   ],
   "source": [
    "all_chrs = genes_info[\"chr\"].dropna().unique()\n",
    "assert all_chrs.shape[0] == 22\n",
    "\n",
    "if chromosome != \"all\":\n",
    "    chromosome = str(chromosome)\n",
    "    assert chromosome in all_chrs\n",
    "\n",
    "    # run only on the chromosome specified\n",
    "    all_chrs = [chromosome]\n",
    "\n",
    "# # For testing purposes\n",
    "# all_chrs = [\"13\"]\n",
    "# tissues = [\"Whole_Blood\"]\n",
    "# genes_info = genes_info[genes_info[\"id\"].isin([\"ENSG00000134871\", \"ENSG00000187498\", \"ENSG00000183087\", \"ENSG00000073910\"])]\n",
    "\n",
    "for chr_num in all_chrs:\n",
    "    print(f\"Chromosome {chr_num}\", flush=True)\n",
    "\n",
    "    genes_chr = genes_info[genes_info[\"chr\"] == chr_num]\n",
    "    print(f\"Genes in chromosome{genes_chr.shape}\", flush=True)\n",
    "\n",
    "    gene_chr_objs = [Gene(ensembl_id=gene_id) for gene_id in genes_chr[\"id\"]]\n",
    "    gene_chr_ids = [g.ensembl_id for g in gene_chr_objs]\n",
    "\n",
    "    n = len(gene_chr_objs)\n",
    "    n_comb = int(n * (n - 1) / 2.0)\n",
    "    print(f\"Number of gene combinations: {n_comb}\", flush=True)\n",
    "\n",
    "    for tissue in tissues:\n",
    "        print(f\"Tissue {tissue}\", flush=True)\n",
    "\n",
    "        # check if results exist\n",
    "        output_dir = (\n",
    "            conf.PHENOMEXCAN[\"LD_BLOCKS\"][\"BASE_DIR\"]\n",
    "            / f\"{EQTL_MODEL_FILES_PREFIX}gene_corrs\"\n",
    "            / tissue\n",
    "        )\n",
    "        output_file = output_dir / f\"gene_corrs-{tissue}-chr{chr_num}.pkl\"\n",
    "\n",
    "        if output_file.exists():\n",
    "            _tmp_data = pd.read_pickle(output_file)\n",
    "\n",
    "            if _tmp_data.shape[0] > 0:\n",
    "                print(\"Already run, stopping.\")\n",
    "                continue\n",
    "\n",
    "        gene_corrs = []\n",
    "\n",
    "        pbar = tqdm(ncols=100, total=n_comb)\n",
    "        i = 0\n",
    "        for gene_idx1 in range(0, len(gene_chr_objs) - 1):\n",
    "            gene_obj1 = gene_chr_objs[gene_idx1]\n",
    "\n",
    "            for gene_idx2 in range(gene_idx1 + 1, len(gene_chr_objs)):\n",
    "                gene_obj2 = gene_chr_objs[gene_idx2]\n",
    "\n",
    "                gene_corrs.append(\n",
    "                    gene_obj1.get_expression_correlation(\n",
    "                        gene_obj2, tissue, model_type=EQTL_MODEL\n",
    "                    )\n",
    "                )\n",
    "\n",
    "                pbar.update(1)\n",
    "\n",
    "        pbar.close()\n",
    "\n",
    "        # testing\n",
    "        gene_corrs_flat = pd.Series(gene_corrs)\n",
    "        print(f\"Min/max values: {gene_corrs_flat.min()} / {gene_corrs_flat.max()}\")\n",
    "        assert gene_corrs_flat.min() >= -1.001\n",
    "        assert gene_corrs_flat.max() <= 1.001\n",
    "\n",
    "        # save\n",
    "        # FIXME: consider saving only the condenced matrix here. See here for\n",
    "        # more details: https://github.com/greenelab/phenoplier/pull/38#discussion_r634600813\n",
    "        gene_corrs_data = squareform(np.array(gene_corrs, dtype=np.float32))\n",
    "        np.fill_diagonal(gene_corrs_data, 1.0)\n",
    "\n",
    "        gene_corrs_df = pd.DataFrame(\n",
    "            data=gene_corrs_data,\n",
    "            index=gene_chr_ids,\n",
    "            columns=gene_chr_ids,\n",
    "        )\n",
    "\n",
    "        output_dir.mkdir(exist_ok=True, parents=True)\n",
    "        display(output_file)\n",
    "\n",
    "        gene_corrs_df.to_pickle(output_file)"
   ]
  },
  {
   "cell_type": "markdown",
   "id": "eab5a00b",
   "metadata": {
    "papermill": {
     "duration": 8.381117,
     "end_time": "2022-03-01T08:05:55.375450",
     "exception": false,
     "start_time": "2022-03-01T08:05:46.994333",
     "status": "completed"
    },
    "tags": []
   },
   "source": [
    "# Testing"
   ]
  },
  {
   "cell_type": "code",
   "execution_count": 25,
   "id": "7803c342",
   "metadata": {
    "execution": {
     "iopub.execute_input": "2022-03-01T08:06:12.113758Z",
     "iopub.status.busy": "2022-03-01T08:06:12.113250Z",
     "iopub.status.idle": "2022-03-01T08:06:12.127173Z",
     "shell.execute_reply": "2022-03-01T08:06:12.126516Z"
    },
    "papermill": {
     "duration": 8.301811,
     "end_time": "2022-03-01T08:06:12.128579",
     "exception": false,
     "start_time": "2022-03-01T08:06:03.826768",
     "status": "completed"
    },
    "tags": []
   },
   "outputs": [],
   "source": [
    "# data = pd.read_pickle(\n",
    "#     conf.PHENOMEXCAN[\"LD_BLOCKS\"][\"BASE_DIR\"] / \"gene_corrs\" / \"Whole_Blood\" / \"gene_corrs-Whole_Blood-chr13.pkl\"\n",
    "# )"
   ]
  },
  {
   "cell_type": "code",
   "execution_count": 26,
   "id": "d8e42e9e",
   "metadata": {
    "execution": {
     "iopub.execute_input": "2022-03-01T08:06:28.985278Z",
     "iopub.status.busy": "2022-03-01T08:06:28.985062Z",
     "iopub.status.idle": "2022-03-01T08:06:28.998874Z",
     "shell.execute_reply": "2022-03-01T08:06:28.998343Z"
    },
    "papermill": {
     "duration": 8.46476,
     "end_time": "2022-03-01T08:06:29.000247",
     "exception": false,
     "start_time": "2022-03-01T08:06:20.535487",
     "status": "completed"
    },
    "tags": []
   },
   "outputs": [],
   "source": [
    "# assert data.loc[\"ENSG00000134871\", \"ENSG00000187498\"] > 0.97"
   ]
  },
  {
   "cell_type": "code",
   "execution_count": null,
   "id": "43918bdb",
   "metadata": {
    "papermill": {
     "duration": 8.392474,
     "end_time": "2022-03-01T08:06:45.702978",
     "exception": false,
     "start_time": "2022-03-01T08:06:37.310504",
     "status": "completed"
    },
    "tags": []
   },
   "outputs": [],
   "source": []
  }
 ],
 "metadata": {
  "jupytext": {
   "cell_metadata_filter": "all,-execution,-papermill,-trusted",
   "formats": "ipynb,py//py:percent"
  },
  "kernelspec": {
   "display_name": "Python 3 (ipykernel)",
   "language": "python",
   "name": "python3"
  },
  "language_info": {
   "codemirror_mode": {
    "name": "ipython",
    "version": 3
   },
   "file_extension": ".py",
   "mimetype": "text/x-python",
   "name": "python",
   "nbconvert_exporter": "python",
   "pygments_lexer": "ipython3",
   "version": "3.8.12"
  },
  "papermill": {
   "default_parameters": {},
   "duration": 4625.612997,
   "end_time": "2022-03-01T08:06:54.618335",
   "environment_variables": {},
   "exception": null,
   "input_path": "nbs/15_gsa_gls/10-gene_expr_correlations.ipynb",
   "output_path": "nbs/15_gsa_gls/mashr_gene_corrs/10-gene_expr_correlations-chr4.run.ipynb",
   "parameters": {
    "EQTL_MODEL": "MASHR",
    "chromosome": 4
   },
   "start_time": "2022-03-01T06:49:49.005338",
   "version": "2.2.2"
  }
 },
 "nbformat": 4,
 "nbformat_minor": 5
}
