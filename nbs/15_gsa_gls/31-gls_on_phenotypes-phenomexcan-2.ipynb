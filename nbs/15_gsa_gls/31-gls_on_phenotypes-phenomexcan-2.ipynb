{
 "cells": [
  {
   "cell_type": "markdown",
   "id": "meaning-colombia",
   "metadata": {
    "papermill": {
     "duration": 0.0561,
     "end_time": "2021-07-23T16:23:08.693394",
     "exception": false,
     "start_time": "2021-07-23T16:23:08.637294",
     "status": "completed"
    },
    "tags": []
   },
   "source": [
    "# Description"
   ]
  },
  {
   "cell_type": "markdown",
   "id": "remarkable-table",
   "metadata": {
    "papermill": {
     "duration": 0.018277,
     "end_time": "2021-07-23T16:23:08.731595",
     "exception": false,
     "start_time": "2021-07-23T16:23:08.713318",
     "status": "completed"
    },
    "tags": []
   },
   "source": [
    "It runs GLSPhenoplier to compute an association between each selected LV and PhenomeXcan trait. Traits of interest are selected from the \"complex branch\" (clustering results), and LVs are those predicted (by a decision tree classifier) to be discriminative for those clusters in the \"complex branch\"."
   ]
  },
  {
   "cell_type": "markdown",
   "id": "latter-providence",
   "metadata": {
    "papermill": {
     "duration": 0.0183,
     "end_time": "2021-07-23T16:23:08.768447",
     "exception": false,
     "start_time": "2021-07-23T16:23:08.750147",
     "status": "completed"
    },
    "tags": []
   },
   "source": [
    "This notebook is the same as `30-gls_on_phenotypes-phenomexcan.ipynb`, but it includes more clusters of traits. The fact that it is separated is that we want to avoid running all again (we decided to analyze other clusters later)."
   ]
  },
  {
   "cell_type": "markdown",
   "id": "relative-scott",
   "metadata": {
    "papermill": {
     "duration": 0.018602,
     "end_time": "2021-07-23T16:23:08.805546",
     "exception": false,
     "start_time": "2021-07-23T16:23:08.786944",
     "status": "completed"
    },
    "tags": []
   },
   "source": [
    "# Environment variables"
   ]
  },
  {
   "cell_type": "code",
   "execution_count": 1,
   "id": "irish-blackberry",
   "metadata": {
    "execution": {
     "iopub.execute_input": "2021-07-23T16:23:08.848158Z",
     "iopub.status.busy": "2021-07-23T16:23:08.847790Z",
     "iopub.status.idle": "2021-07-23T16:23:08.855492Z",
     "shell.execute_reply": "2021-07-23T16:23:08.855070Z"
    },
    "papermill": {
     "duration": 0.031523,
     "end_time": "2021-07-23T16:23:08.855584",
     "exception": false,
     "start_time": "2021-07-23T16:23:08.824061",
     "status": "completed"
    },
    "tags": []
   },
   "outputs": [],
   "source": [
    "%load_ext autoreload\n",
    "%autoreload 2"
   ]
  },
  {
   "cell_type": "code",
   "execution_count": 2,
   "id": "dutch-trader",
   "metadata": {
    "execution": {
     "iopub.execute_input": "2021-07-23T16:23:08.897305Z",
     "iopub.status.busy": "2021-07-23T16:23:08.896939Z",
     "iopub.status.idle": "2021-07-23T16:23:08.907062Z",
     "shell.execute_reply": "2021-07-23T16:23:08.906668Z"
    },
    "papermill": {
     "duration": 0.031268,
     "end_time": "2021-07-23T16:23:08.907149",
     "exception": false,
     "start_time": "2021-07-23T16:23:08.875881",
     "status": "completed"
    },
    "tags": []
   },
   "outputs": [],
   "source": [
    "import conf"
   ]
  },
  {
   "cell_type": "code",
   "execution_count": 3,
   "id": "julian-warehouse",
   "metadata": {
    "execution": {
     "iopub.execute_input": "2021-07-23T16:23:08.949317Z",
     "iopub.status.busy": "2021-07-23T16:23:08.948955Z",
     "iopub.status.idle": "2021-07-23T16:23:08.959344Z",
     "shell.execute_reply": "2021-07-23T16:23:08.958975Z"
    },
    "papermill": {
     "duration": 0.03189,
     "end_time": "2021-07-23T16:23:08.959429",
     "exception": false,
     "start_time": "2021-07-23T16:23:08.927539",
     "status": "completed"
    },
    "tags": []
   },
   "outputs": [
    {
     "data": {
      "text/plain": [
       "3"
      ]
     },
     "metadata": {},
     "output_type": "display_data"
    }
   ],
   "source": [
    "N_JOBS = conf.GENERAL[\"N_JOBS\"]\n",
    "display(N_JOBS)"
   ]
  },
  {
   "cell_type": "code",
   "execution_count": 4,
   "id": "future-alfred",
   "metadata": {
    "execution": {
     "iopub.execute_input": "2021-07-23T16:23:09.001614Z",
     "iopub.status.busy": "2021-07-23T16:23:09.001245Z",
     "iopub.status.idle": "2021-07-23T16:23:09.007539Z",
     "shell.execute_reply": "2021-07-23T16:23:09.007815Z"
    },
    "papermill": {
     "duration": 0.028861,
     "end_time": "2021-07-23T16:23:09.007922",
     "exception": false,
     "start_time": "2021-07-23T16:23:08.979061",
     "status": "completed"
    },
    "tags": []
   },
   "outputs": [
    {
     "name": "stdout",
     "output_type": "stream",
     "text": [
      "env: MKL_NUM_THREADS=3\n",
      "env: OPEN_BLAS_NUM_THREADS=3\n",
      "env: NUMEXPR_NUM_THREADS=3\n",
      "env: OMP_NUM_THREADS=3\n"
     ]
    }
   ],
   "source": [
    "%env MKL_NUM_THREADS=$N_JOBS\n",
    "%env OPEN_BLAS_NUM_THREADS=$N_JOBS\n",
    "%env NUMEXPR_NUM_THREADS=$N_JOBS\n",
    "%env OMP_NUM_THREADS=$N_JOBS"
   ]
  },
  {
   "cell_type": "markdown",
   "id": "bizarre-street",
   "metadata": {
    "papermill": {
     "duration": 0.018886,
     "end_time": "2021-07-23T16:23:09.047163",
     "exception": false,
     "start_time": "2021-07-23T16:23:09.028277",
     "status": "completed"
    },
    "tags": []
   },
   "source": [
    "# Modules"
   ]
  },
  {
   "cell_type": "code",
   "execution_count": 5,
   "id": "dietary-miami",
   "metadata": {
    "execution": {
     "iopub.execute_input": "2021-07-23T16:23:09.088090Z",
     "iopub.status.busy": "2021-07-23T16:23:09.087726Z",
     "iopub.status.idle": "2021-07-23T16:23:09.846916Z",
     "shell.execute_reply": "2021-07-23T16:23:09.847227Z"
    },
    "papermill": {
     "duration": 0.781032,
     "end_time": "2021-07-23T16:23:09.847343",
     "exception": false,
     "start_time": "2021-07-23T16:23:09.066311",
     "status": "completed"
    },
    "tags": []
   },
   "outputs": [],
   "source": [
    "from pathlib import Path\n",
    "\n",
    "import statsmodels.api as sm\n",
    "import numpy as np\n",
    "import pandas as pd\n",
    "from sklearn.preprocessing import scale\n",
    "from tqdm import tqdm\n",
    "\n",
    "from gls import GLSPhenoplier"
   ]
  },
  {
   "cell_type": "markdown",
   "id": "missing-monaco",
   "metadata": {
    "papermill": {
     "duration": 0.020341,
     "end_time": "2021-07-23T16:23:09.888530",
     "exception": false,
     "start_time": "2021-07-23T16:23:09.868189",
     "status": "completed"
    },
    "tags": []
   },
   "source": [
    "# Settings"
   ]
  },
  {
   "cell_type": "code",
   "execution_count": 6,
   "id": "posted-shower",
   "metadata": {
    "execution": {
     "iopub.execute_input": "2021-07-23T16:23:09.929937Z",
     "iopub.status.busy": "2021-07-23T16:23:09.929557Z",
     "iopub.status.idle": "2021-07-23T16:23:09.941874Z",
     "shell.execute_reply": "2021-07-23T16:23:09.941472Z"
    },
    "papermill": {
     "duration": 0.034413,
     "end_time": "2021-07-23T16:23:09.941967",
     "exception": false,
     "start_time": "2021-07-23T16:23:09.907554",
     "status": "completed"
    },
    "tags": []
   },
   "outputs": [
    {
     "data": {
      "text/plain": [
       "PosixPath('/home/miltondp/projects/labs/greenelab/phenoplier/base/results/gls')"
      ]
     },
     "metadata": {},
     "output_type": "display_data"
    }
   ],
   "source": [
    "OUTPUT_DIR = conf.RESULTS[\"GLS\"]\n",
    "display(OUTPUT_DIR)\n",
    "\n",
    "OUTPUT_DIR.mkdir(exist_ok=True, parents=True)"
   ]
  },
  {
   "cell_type": "code",
   "execution_count": 7,
   "id": "together-commitment",
   "metadata": {
    "execution": {
     "iopub.execute_input": "2021-07-23T16:23:09.984788Z",
     "iopub.status.busy": "2021-07-23T16:23:09.984382Z",
     "iopub.status.idle": "2021-07-23T16:23:09.996054Z",
     "shell.execute_reply": "2021-07-23T16:23:09.995683Z"
    },
    "papermill": {
     "duration": 0.03365,
     "end_time": "2021-07-23T16:23:09.996139",
     "exception": false,
     "start_time": "2021-07-23T16:23:09.962489",
     "status": "completed"
    },
    "tags": []
   },
   "outputs": [
    {
     "data": {
      "text/plain": [
       "PosixPath('/home/miltondp/projects/labs/greenelab/phenoplier/base/results/gls/gls_phenotypes-phenomexcan-2.pkl')"
      ]
     },
     "metadata": {},
     "output_type": "display_data"
    }
   ],
   "source": [
    "OUTPUT_FILENAME = OUTPUT_DIR / \"gls_phenotypes-phenomexcan-2.pkl\"\n",
    "display(OUTPUT_FILENAME)"
   ]
  },
  {
   "cell_type": "markdown",
   "id": "latter-playlist",
   "metadata": {
    "papermill": {
     "duration": 0.019538,
     "end_time": "2021-07-23T16:23:10.035524",
     "exception": false,
     "start_time": "2021-07-23T16:23:10.015986",
     "status": "completed"
    },
    "tags": []
   },
   "source": [
    "# Load data"
   ]
  },
  {
   "cell_type": "markdown",
   "id": "known-portland",
   "metadata": {
    "papermill": {
     "duration": 0.019185,
     "end_time": "2021-07-23T16:23:10.074030",
     "exception": false,
     "start_time": "2021-07-23T16:23:10.054845",
     "status": "completed"
    },
    "tags": []
   },
   "source": [
    "## PhenomeXcan (S-MultiXcan)"
   ]
  },
  {
   "cell_type": "code",
   "execution_count": 8,
   "id": "biological-salon",
   "metadata": {
    "execution": {
     "iopub.execute_input": "2021-07-23T16:23:10.115543Z",
     "iopub.status.busy": "2021-07-23T16:23:10.115178Z",
     "iopub.status.idle": "2021-07-23T16:23:10.126367Z",
     "shell.execute_reply": "2021-07-23T16:23:10.126003Z"
    },
    "papermill": {
     "duration": 0.033135,
     "end_time": "2021-07-23T16:23:10.126450",
     "exception": false,
     "start_time": "2021-07-23T16:23:10.093315",
     "status": "completed"
    },
    "tags": []
   },
   "outputs": [],
   "source": [
    "INPUT_SUBSET = \"z_score_std\""
   ]
  },
  {
   "cell_type": "code",
   "execution_count": 9,
   "id": "stuck-witness",
   "metadata": {
    "execution": {
     "iopub.execute_input": "2021-07-23T16:23:10.169094Z",
     "iopub.status.busy": "2021-07-23T16:23:10.168652Z",
     "iopub.status.idle": "2021-07-23T16:23:10.179387Z",
     "shell.execute_reply": "2021-07-23T16:23:10.179051Z"
    },
    "papermill": {
     "duration": 0.032758,
     "end_time": "2021-07-23T16:23:10.179474",
     "exception": false,
     "start_time": "2021-07-23T16:23:10.146716",
     "status": "completed"
    },
    "tags": []
   },
   "outputs": [],
   "source": [
    "INPUT_STEM = \"projection-smultixcan-efo_partial-mashr-zscores\""
   ]
  },
  {
   "cell_type": "code",
   "execution_count": 10,
   "id": "statewide-swift",
   "metadata": {
    "execution": {
     "iopub.execute_input": "2021-07-23T16:23:10.222409Z",
     "iopub.status.busy": "2021-07-23T16:23:10.222039Z",
     "iopub.status.idle": "2021-07-23T16:23:10.233192Z",
     "shell.execute_reply": "2021-07-23T16:23:10.232820Z"
    },
    "papermill": {
     "duration": 0.033454,
     "end_time": "2021-07-23T16:23:10.233305",
     "exception": false,
     "start_time": "2021-07-23T16:23:10.199851",
     "status": "completed"
    },
    "tags": []
   },
   "outputs": [],
   "source": [
    "input_filepath = Path(\n",
    "    conf.RESULTS[\"DATA_TRANSFORMATIONS_DIR\"],\n",
    "    INPUT_SUBSET,\n",
    "    f\"{INPUT_SUBSET}-{INPUT_STEM}.pkl\",\n",
    ").resolve()"
   ]
  },
  {
   "cell_type": "code",
   "execution_count": 11,
   "id": "greenhouse-klein",
   "metadata": {
    "execution": {
     "iopub.execute_input": "2021-07-23T16:23:10.275226Z",
     "iopub.status.busy": "2021-07-23T16:23:10.274871Z",
     "iopub.status.idle": "2021-07-23T16:23:10.299977Z",
     "shell.execute_reply": "2021-07-23T16:23:10.299622Z"
    },
    "papermill": {
     "duration": 0.046897,
     "end_time": "2021-07-23T16:23:10.300078",
     "exception": false,
     "start_time": "2021-07-23T16:23:10.253181",
     "status": "completed"
    },
    "tags": []
   },
   "outputs": [],
   "source": [
    "data = pd.read_pickle(input_filepath)"
   ]
  },
  {
   "cell_type": "code",
   "execution_count": 12,
   "id": "specialized-kidney",
   "metadata": {
    "execution": {
     "iopub.execute_input": "2021-07-23T16:23:10.346595Z",
     "iopub.status.busy": "2021-07-23T16:23:10.346227Z",
     "iopub.status.idle": "2021-07-23T16:23:10.358015Z",
     "shell.execute_reply": "2021-07-23T16:23:10.357644Z"
    },
    "papermill": {
     "duration": 0.034961,
     "end_time": "2021-07-23T16:23:10.358099",
     "exception": false,
     "start_time": "2021-07-23T16:23:10.323138",
     "status": "completed"
    },
    "tags": []
   },
   "outputs": [
    {
     "data": {
      "text/plain": [
       "(3752, 987)"
      ]
     },
     "execution_count": 12,
     "metadata": {},
     "output_type": "execute_result"
    }
   ],
   "source": [
    "data.shape"
   ]
  },
  {
   "cell_type": "code",
   "execution_count": 13,
   "id": "mechanical-solomon",
   "metadata": {
    "execution": {
     "iopub.execute_input": "2021-07-23T16:23:10.400439Z",
     "iopub.status.busy": "2021-07-23T16:23:10.400084Z",
     "iopub.status.idle": "2021-07-23T16:23:10.423553Z",
     "shell.execute_reply": "2021-07-23T16:23:10.423849Z"
    },
    "papermill": {
     "duration": 0.045638,
     "end_time": "2021-07-23T16:23:10.423956",
     "exception": false,
     "start_time": "2021-07-23T16:23:10.378318",
     "status": "completed"
    },
    "tags": []
   },
   "outputs": [
    {
     "data": {
      "text/html": [
       "<div>\n",
       "<style scoped>\n",
       "    .dataframe tbody tr th:only-of-type {\n",
       "        vertical-align: middle;\n",
       "    }\n",
       "\n",
       "    .dataframe tbody tr th {\n",
       "        vertical-align: top;\n",
       "    }\n",
       "\n",
       "    .dataframe thead th {\n",
       "        text-align: right;\n",
       "    }\n",
       "</style>\n",
       "<table border=\"1\" class=\"dataframe\">\n",
       "  <thead>\n",
       "    <tr style=\"text-align: right;\">\n",
       "      <th></th>\n",
       "      <th>LV1</th>\n",
       "      <th>LV2</th>\n",
       "      <th>LV3</th>\n",
       "      <th>LV4</th>\n",
       "      <th>LV5</th>\n",
       "      <th>LV6</th>\n",
       "      <th>LV7</th>\n",
       "      <th>LV8</th>\n",
       "      <th>LV9</th>\n",
       "      <th>LV10</th>\n",
       "      <th>...</th>\n",
       "      <th>LV978</th>\n",
       "      <th>LV979</th>\n",
       "      <th>LV980</th>\n",
       "      <th>LV981</th>\n",
       "      <th>LV982</th>\n",
       "      <th>LV983</th>\n",
       "      <th>LV984</th>\n",
       "      <th>LV985</th>\n",
       "      <th>LV986</th>\n",
       "      <th>LV987</th>\n",
       "    </tr>\n",
       "  </thead>\n",
       "  <tbody>\n",
       "    <tr>\n",
       "      <th>100001_raw-Food_weight</th>\n",
       "      <td>-0.695006</td>\n",
       "      <td>1.962565</td>\n",
       "      <td>0.057683</td>\n",
       "      <td>0.878731</td>\n",
       "      <td>-0.539977</td>\n",
       "      <td>1.481272</td>\n",
       "      <td>-0.396422</td>\n",
       "      <td>1.090180</td>\n",
       "      <td>0.759223</td>\n",
       "      <td>0.931395</td>\n",
       "      <td>...</td>\n",
       "      <td>1.129784</td>\n",
       "      <td>1.752343</td>\n",
       "      <td>-1.411403</td>\n",
       "      <td>2.823863</td>\n",
       "      <td>0.931116</td>\n",
       "      <td>-1.054519</td>\n",
       "      <td>0.432982</td>\n",
       "      <td>-0.633597</td>\n",
       "      <td>0.554279</td>\n",
       "      <td>-0.642479</td>\n",
       "    </tr>\n",
       "    <tr>\n",
       "      <th>100002_raw-Energy</th>\n",
       "      <td>-1.528127</td>\n",
       "      <td>-0.345309</td>\n",
       "      <td>-0.148953</td>\n",
       "      <td>-0.242060</td>\n",
       "      <td>0.373427</td>\n",
       "      <td>0.791092</td>\n",
       "      <td>0.263477</td>\n",
       "      <td>0.987702</td>\n",
       "      <td>0.354391</td>\n",
       "      <td>1.416059</td>\n",
       "      <td>...</td>\n",
       "      <td>0.224604</td>\n",
       "      <td>0.769882</td>\n",
       "      <td>-0.509482</td>\n",
       "      <td>0.091153</td>\n",
       "      <td>2.286789</td>\n",
       "      <td>-1.008256</td>\n",
       "      <td>-0.029764</td>\n",
       "      <td>1.737229</td>\n",
       "      <td>-0.272107</td>\n",
       "      <td>-0.526125</td>\n",
       "    </tr>\n",
       "    <tr>\n",
       "      <th>100003_raw-Protein</th>\n",
       "      <td>-0.704572</td>\n",
       "      <td>-1.011299</td>\n",
       "      <td>0.671420</td>\n",
       "      <td>0.143991</td>\n",
       "      <td>0.615212</td>\n",
       "      <td>0.874212</td>\n",
       "      <td>-0.040998</td>\n",
       "      <td>0.915170</td>\n",
       "      <td>0.254369</td>\n",
       "      <td>-0.084237</td>\n",
       "      <td>...</td>\n",
       "      <td>1.003019</td>\n",
       "      <td>1.044314</td>\n",
       "      <td>-2.376108</td>\n",
       "      <td>0.004778</td>\n",
       "      <td>0.053714</td>\n",
       "      <td>-0.892447</td>\n",
       "      <td>-0.183800</td>\n",
       "      <td>1.377991</td>\n",
       "      <td>-0.278794</td>\n",
       "      <td>-0.419733</td>\n",
       "    </tr>\n",
       "    <tr>\n",
       "      <th>100004_raw-Fat</th>\n",
       "      <td>-0.989832</td>\n",
       "      <td>-1.875490</td>\n",
       "      <td>0.261555</td>\n",
       "      <td>-1.420719</td>\n",
       "      <td>0.366238</td>\n",
       "      <td>1.167049</td>\n",
       "      <td>0.257387</td>\n",
       "      <td>0.717674</td>\n",
       "      <td>-0.997664</td>\n",
       "      <td>0.969825</td>\n",
       "      <td>...</td>\n",
       "      <td>0.585913</td>\n",
       "      <td>0.638314</td>\n",
       "      <td>0.119139</td>\n",
       "      <td>-0.140204</td>\n",
       "      <td>1.394326</td>\n",
       "      <td>-1.173402</td>\n",
       "      <td>0.555058</td>\n",
       "      <td>1.013982</td>\n",
       "      <td>-0.544506</td>\n",
       "      <td>-0.064061</td>\n",
       "    </tr>\n",
       "    <tr>\n",
       "      <th>100005_raw-Carbohydrate</th>\n",
       "      <td>-0.580143</td>\n",
       "      <td>0.243335</td>\n",
       "      <td>0.158966</td>\n",
       "      <td>-0.036558</td>\n",
       "      <td>0.068176</td>\n",
       "      <td>-0.202639</td>\n",
       "      <td>1.101281</td>\n",
       "      <td>0.675227</td>\n",
       "      <td>1.463432</td>\n",
       "      <td>1.010078</td>\n",
       "      <td>...</td>\n",
       "      <td>-0.249108</td>\n",
       "      <td>-0.026814</td>\n",
       "      <td>0.232713</td>\n",
       "      <td>0.323682</td>\n",
       "      <td>1.168642</td>\n",
       "      <td>-0.282935</td>\n",
       "      <td>0.653105</td>\n",
       "      <td>1.909526</td>\n",
       "      <td>0.199997</td>\n",
       "      <td>-1.656894</td>\n",
       "    </tr>\n",
       "  </tbody>\n",
       "</table>\n",
       "<p>5 rows × 987 columns</p>\n",
       "</div>"
      ],
      "text/plain": [
       "                              LV1       LV2       LV3       LV4       LV5  \\\n",
       "100001_raw-Food_weight  -0.695006  1.962565  0.057683  0.878731 -0.539977   \n",
       "100002_raw-Energy       -1.528127 -0.345309 -0.148953 -0.242060  0.373427   \n",
       "100003_raw-Protein      -0.704572 -1.011299  0.671420  0.143991  0.615212   \n",
       "100004_raw-Fat          -0.989832 -1.875490  0.261555 -1.420719  0.366238   \n",
       "100005_raw-Carbohydrate -0.580143  0.243335  0.158966 -0.036558  0.068176   \n",
       "\n",
       "                              LV6       LV7       LV8       LV9      LV10  \\\n",
       "100001_raw-Food_weight   1.481272 -0.396422  1.090180  0.759223  0.931395   \n",
       "100002_raw-Energy        0.791092  0.263477  0.987702  0.354391  1.416059   \n",
       "100003_raw-Protein       0.874212 -0.040998  0.915170  0.254369 -0.084237   \n",
       "100004_raw-Fat           1.167049  0.257387  0.717674 -0.997664  0.969825   \n",
       "100005_raw-Carbohydrate -0.202639  1.101281  0.675227  1.463432  1.010078   \n",
       "\n",
       "                         ...     LV978     LV979     LV980     LV981  \\\n",
       "100001_raw-Food_weight   ...  1.129784  1.752343 -1.411403  2.823863   \n",
       "100002_raw-Energy        ...  0.224604  0.769882 -0.509482  0.091153   \n",
       "100003_raw-Protein       ...  1.003019  1.044314 -2.376108  0.004778   \n",
       "100004_raw-Fat           ...  0.585913  0.638314  0.119139 -0.140204   \n",
       "100005_raw-Carbohydrate  ... -0.249108 -0.026814  0.232713  0.323682   \n",
       "\n",
       "                            LV982     LV983     LV984     LV985     LV986  \\\n",
       "100001_raw-Food_weight   0.931116 -1.054519  0.432982 -0.633597  0.554279   \n",
       "100002_raw-Energy        2.286789 -1.008256 -0.029764  1.737229 -0.272107   \n",
       "100003_raw-Protein       0.053714 -0.892447 -0.183800  1.377991 -0.278794   \n",
       "100004_raw-Fat           1.394326 -1.173402  0.555058  1.013982 -0.544506   \n",
       "100005_raw-Carbohydrate  1.168642 -0.282935  0.653105  1.909526  0.199997   \n",
       "\n",
       "                            LV987  \n",
       "100001_raw-Food_weight  -0.642479  \n",
       "100002_raw-Energy       -0.526125  \n",
       "100003_raw-Protein      -0.419733  \n",
       "100004_raw-Fat          -0.064061  \n",
       "100005_raw-Carbohydrate -1.656894  \n",
       "\n",
       "[5 rows x 987 columns]"
      ]
     },
     "execution_count": 13,
     "metadata": {},
     "output_type": "execute_result"
    }
   ],
   "source": [
    "data.head()"
   ]
  },
  {
   "cell_type": "markdown",
   "id": "formal-roller",
   "metadata": {
    "papermill": {
     "duration": 0.02295,
     "end_time": "2021-07-23T16:23:10.467577",
     "exception": false,
     "start_time": "2021-07-23T16:23:10.444627",
     "status": "completed"
    },
    "tags": []
   },
   "source": [
    "## Clustering results"
   ]
  },
  {
   "cell_type": "code",
   "execution_count": 14,
   "id": "secret-religious",
   "metadata": {
    "execution": {
     "iopub.execute_input": "2021-07-23T16:23:10.512759Z",
     "iopub.status.busy": "2021-07-23T16:23:10.512357Z",
     "iopub.status.idle": "2021-07-23T16:23:10.524341Z",
     "shell.execute_reply": "2021-07-23T16:23:10.523994Z"
    },
    "papermill": {
     "duration": 0.034798,
     "end_time": "2021-07-23T16:23:10.524429",
     "exception": false,
     "start_time": "2021-07-23T16:23:10.489631",
     "status": "completed"
    },
    "tags": []
   },
   "outputs": [
    {
     "data": {
      "text/plain": [
       "PosixPath('/home/miltondp/projects/labs/greenelab/phenoplier/base/results/clustering/consensus_clustering')"
      ]
     },
     "metadata": {},
     "output_type": "display_data"
    }
   ],
   "source": [
    "CONSENSUS_CLUSTERING_DIR = Path(\n",
    "    conf.RESULTS[\"CLUSTERING_DIR\"], \"consensus_clustering\"\n",
    ").resolve()\n",
    "\n",
    "display(CONSENSUS_CLUSTERING_DIR)"
   ]
  },
  {
   "cell_type": "code",
   "execution_count": 15,
   "id": "double-grave",
   "metadata": {
    "execution": {
     "iopub.execute_input": "2021-07-23T16:23:10.568139Z",
     "iopub.status.busy": "2021-07-23T16:23:10.567780Z",
     "iopub.status.idle": "2021-07-23T16:23:10.579427Z",
     "shell.execute_reply": "2021-07-23T16:23:10.579062Z"
    },
    "papermill": {
     "duration": 0.034229,
     "end_time": "2021-07-23T16:23:10.579511",
     "exception": false,
     "start_time": "2021-07-23T16:23:10.545282",
     "status": "completed"
    },
    "tags": []
   },
   "outputs": [
    {
     "data": {
      "text/plain": [
       "PosixPath('/home/miltondp/projects/labs/greenelab/phenoplier/base/results/clustering/consensus_clustering/best_partitions_by_k.pkl')"
      ]
     },
     "metadata": {},
     "output_type": "display_data"
    }
   ],
   "source": [
    "input_file = Path(CONSENSUS_CLUSTERING_DIR, \"best_partitions_by_k.pkl\").resolve()\n",
    "display(input_file)"
   ]
  },
  {
   "cell_type": "code",
   "execution_count": 16,
   "id": "disciplinary-riding",
   "metadata": {
    "execution": {
     "iopub.execute_input": "2021-07-23T16:23:10.623775Z",
     "iopub.status.busy": "2021-07-23T16:23:10.623414Z",
     "iopub.status.idle": "2021-07-23T16:23:10.635306Z",
     "shell.execute_reply": "2021-07-23T16:23:10.634927Z"
    },
    "papermill": {
     "duration": 0.03516,
     "end_time": "2021-07-23T16:23:10.635394",
     "exception": false,
     "start_time": "2021-07-23T16:23:10.600234",
     "status": "completed"
    },
    "tags": []
   },
   "outputs": [],
   "source": [
    "best_partitions = pd.read_pickle(input_file)"
   ]
  },
  {
   "cell_type": "code",
   "execution_count": 17,
   "id": "outdoor-swimming",
   "metadata": {
    "execution": {
     "iopub.execute_input": "2021-07-23T16:23:10.679264Z",
     "iopub.status.busy": "2021-07-23T16:23:10.678907Z",
     "iopub.status.idle": "2021-07-23T16:23:10.690604Z",
     "shell.execute_reply": "2021-07-23T16:23:10.690254Z"
    },
    "papermill": {
     "duration": 0.034323,
     "end_time": "2021-07-23T16:23:10.690685",
     "exception": false,
     "start_time": "2021-07-23T16:23:10.656362",
     "status": "completed"
    },
    "tags": []
   },
   "outputs": [
    {
     "data": {
      "text/plain": [
       "(59, 4)"
      ]
     },
     "execution_count": 17,
     "metadata": {},
     "output_type": "execute_result"
    }
   ],
   "source": [
    "best_partitions.shape"
   ]
  },
  {
   "cell_type": "code",
   "execution_count": 18,
   "id": "alpine-privilege",
   "metadata": {
    "execution": {
     "iopub.execute_input": "2021-07-23T16:23:10.734684Z",
     "iopub.status.busy": "2021-07-23T16:23:10.734314Z",
     "iopub.status.idle": "2021-07-23T16:23:10.754006Z",
     "shell.execute_reply": "2021-07-23T16:23:10.753654Z"
    },
    "papermill": {
     "duration": 0.042609,
     "end_time": "2021-07-23T16:23:10.754086",
     "exception": false,
     "start_time": "2021-07-23T16:23:10.711477",
     "status": "completed"
    },
    "tags": []
   },
   "outputs": [
    {
     "data": {
      "text/html": [
       "<div>\n",
       "<style scoped>\n",
       "    .dataframe tbody tr th:only-of-type {\n",
       "        vertical-align: middle;\n",
       "    }\n",
       "\n",
       "    .dataframe tbody tr th {\n",
       "        vertical-align: top;\n",
       "    }\n",
       "\n",
       "    .dataframe thead th {\n",
       "        text-align: right;\n",
       "    }\n",
       "</style>\n",
       "<table border=\"1\" class=\"dataframe\">\n",
       "  <thead>\n",
       "    <tr style=\"text-align: right;\">\n",
       "      <th></th>\n",
       "      <th>method</th>\n",
       "      <th>partition</th>\n",
       "      <th>ari_median</th>\n",
       "      <th>selected</th>\n",
       "    </tr>\n",
       "    <tr>\n",
       "      <th>k</th>\n",
       "      <th></th>\n",
       "      <th></th>\n",
       "      <th></th>\n",
       "      <th></th>\n",
       "    </tr>\n",
       "  </thead>\n",
       "  <tbody>\n",
       "    <tr>\n",
       "      <th>14</th>\n",
       "      <td>scc_025</td>\n",
       "      <td>[0, 0, 0, 0, 0, 0, 0, 0, 0, 0, 0, 0, 0, 0, 0, ...</td>\n",
       "      <td>0.090117</td>\n",
       "      <td>True</td>\n",
       "    </tr>\n",
       "    <tr>\n",
       "      <th>22</th>\n",
       "      <td>scc_020</td>\n",
       "      <td>[13, 18, 18, 18, 18, 18, 18, 18, 18, 13, 18, 1...</td>\n",
       "      <td>0.090100</td>\n",
       "      <td>True</td>\n",
       "    </tr>\n",
       "    <tr>\n",
       "      <th>13</th>\n",
       "      <td>scc_025</td>\n",
       "      <td>[0, 0, 0, 0, 0, 0, 0, 0, 0, 0, 0, 0, 0, 0, 0, ...</td>\n",
       "      <td>0.089920</td>\n",
       "      <td>True</td>\n",
       "    </tr>\n",
       "    <tr>\n",
       "      <th>12</th>\n",
       "      <td>scc_025</td>\n",
       "      <td>[0, 0, 0, 0, 0, 0, 0, 0, 0, 0, 0, 0, 0, 0, 0, ...</td>\n",
       "      <td>0.089894</td>\n",
       "      <td>True</td>\n",
       "    </tr>\n",
       "    <tr>\n",
       "      <th>11</th>\n",
       "      <td>scc_025</td>\n",
       "      <td>[0, 0, 0, 0, 0, 0, 0, 0, 0, 0, 0, 0, 0, 0, 0, ...</td>\n",
       "      <td>0.089616</td>\n",
       "      <td>True</td>\n",
       "    </tr>\n",
       "  </tbody>\n",
       "</table>\n",
       "</div>"
      ],
      "text/plain": [
       "     method                                          partition  ari_median  \\\n",
       "k                                                                            \n",
       "14  scc_025  [0, 0, 0, 0, 0, 0, 0, 0, 0, 0, 0, 0, 0, 0, 0, ...    0.090117   \n",
       "22  scc_020  [13, 18, 18, 18, 18, 18, 18, 18, 18, 13, 18, 1...    0.090100   \n",
       "13  scc_025  [0, 0, 0, 0, 0, 0, 0, 0, 0, 0, 0, 0, 0, 0, 0, ...    0.089920   \n",
       "12  scc_025  [0, 0, 0, 0, 0, 0, 0, 0, 0, 0, 0, 0, 0, 0, 0, ...    0.089894   \n",
       "11  scc_025  [0, 0, 0, 0, 0, 0, 0, 0, 0, 0, 0, 0, 0, 0, 0, ...    0.089616   \n",
       "\n",
       "    selected  \n",
       "k             \n",
       "14      True  \n",
       "22      True  \n",
       "13      True  \n",
       "12      True  \n",
       "11      True  "
      ]
     },
     "execution_count": 18,
     "metadata": {},
     "output_type": "execute_result"
    }
   ],
   "source": [
    "best_partitions.head()"
   ]
  },
  {
   "cell_type": "markdown",
   "id": "wooden-polls",
   "metadata": {
    "papermill": {
     "duration": 0.020753,
     "end_time": "2021-07-23T16:23:10.795513",
     "exception": false,
     "start_time": "2021-07-23T16:23:10.774760",
     "status": "completed"
    },
    "tags": []
   },
   "source": [
    "## MultiPLIER summary"
   ]
  },
  {
   "cell_type": "code",
   "execution_count": 19,
   "id": "growing-summit",
   "metadata": {
    "execution": {
     "iopub.execute_input": "2021-07-23T16:23:10.840040Z",
     "iopub.status.busy": "2021-07-23T16:23:10.839665Z",
     "iopub.status.idle": "2021-07-23T16:23:10.851952Z",
     "shell.execute_reply": "2021-07-23T16:23:10.851563Z"
    },
    "papermill": {
     "duration": 0.035725,
     "end_time": "2021-07-23T16:23:10.852037",
     "exception": false,
     "start_time": "2021-07-23T16:23:10.816312",
     "status": "completed"
    },
    "tags": []
   },
   "outputs": [],
   "source": [
    "multiplier_model_summary = pd.read_pickle(conf.MULTIPLIER[\"MODEL_SUMMARY_FILE\"])"
   ]
  },
  {
   "cell_type": "code",
   "execution_count": 20,
   "id": "honey-deployment",
   "metadata": {
    "execution": {
     "iopub.execute_input": "2021-07-23T16:23:10.897502Z",
     "iopub.status.busy": "2021-07-23T16:23:10.897119Z",
     "iopub.status.idle": "2021-07-23T16:23:10.909155Z",
     "shell.execute_reply": "2021-07-23T16:23:10.908784Z"
    },
    "papermill": {
     "duration": 0.035351,
     "end_time": "2021-07-23T16:23:10.909240",
     "exception": false,
     "start_time": "2021-07-23T16:23:10.873889",
     "status": "completed"
    },
    "tags": []
   },
   "outputs": [
    {
     "data": {
      "text/plain": [
       "(2157, 5)"
      ]
     },
     "execution_count": 20,
     "metadata": {},
     "output_type": "execute_result"
    }
   ],
   "source": [
    "multiplier_model_summary.shape"
   ]
  },
  {
   "cell_type": "code",
   "execution_count": 21,
   "id": "rational-parallel",
   "metadata": {
    "execution": {
     "iopub.execute_input": "2021-07-23T16:23:10.955363Z",
     "iopub.status.busy": "2021-07-23T16:23:10.955011Z",
     "iopub.status.idle": "2021-07-23T16:23:10.970202Z",
     "shell.execute_reply": "2021-07-23T16:23:10.970502Z"
    },
    "papermill": {
     "duration": 0.039509,
     "end_time": "2021-07-23T16:23:10.970608",
     "exception": false,
     "start_time": "2021-07-23T16:23:10.931099",
     "status": "completed"
    },
    "tags": []
   },
   "outputs": [
    {
     "data": {
      "text/html": [
       "<div>\n",
       "<style scoped>\n",
       "    .dataframe tbody tr th:only-of-type {\n",
       "        vertical-align: middle;\n",
       "    }\n",
       "\n",
       "    .dataframe tbody tr th {\n",
       "        vertical-align: top;\n",
       "    }\n",
       "\n",
       "    .dataframe thead th {\n",
       "        text-align: right;\n",
       "    }\n",
       "</style>\n",
       "<table border=\"1\" class=\"dataframe\">\n",
       "  <thead>\n",
       "    <tr style=\"text-align: right;\">\n",
       "      <th></th>\n",
       "      <th>pathway</th>\n",
       "      <th>LV index</th>\n",
       "      <th>AUC</th>\n",
       "      <th>p-value</th>\n",
       "      <th>FDR</th>\n",
       "    </tr>\n",
       "  </thead>\n",
       "  <tbody>\n",
       "    <tr>\n",
       "      <th>1</th>\n",
       "      <td>KEGG_LYSINE_DEGRADATION</td>\n",
       "      <td>1</td>\n",
       "      <td>0.388059</td>\n",
       "      <td>0.866078</td>\n",
       "      <td>0.956005</td>\n",
       "    </tr>\n",
       "    <tr>\n",
       "      <th>2</th>\n",
       "      <td>REACTOME_MRNA_SPLICING</td>\n",
       "      <td>1</td>\n",
       "      <td>0.733057</td>\n",
       "      <td>0.000048</td>\n",
       "      <td>0.000582</td>\n",
       "    </tr>\n",
       "    <tr>\n",
       "      <th>3</th>\n",
       "      <td>MIPS_NOP56P_ASSOCIATED_PRE_RRNA_COMPLEX</td>\n",
       "      <td>1</td>\n",
       "      <td>0.680555</td>\n",
       "      <td>0.001628</td>\n",
       "      <td>0.011366</td>\n",
       "    </tr>\n",
       "    <tr>\n",
       "      <th>4</th>\n",
       "      <td>KEGG_DNA_REPLICATION</td>\n",
       "      <td>1</td>\n",
       "      <td>0.549473</td>\n",
       "      <td>0.312155</td>\n",
       "      <td>0.539951</td>\n",
       "    </tr>\n",
       "    <tr>\n",
       "      <th>5</th>\n",
       "      <td>PID_MYC_ACTIVPATHWAY</td>\n",
       "      <td>1</td>\n",
       "      <td>0.639303</td>\n",
       "      <td>0.021702</td>\n",
       "      <td>0.083739</td>\n",
       "    </tr>\n",
       "  </tbody>\n",
       "</table>\n",
       "</div>"
      ],
      "text/plain": [
       "                                   pathway LV index       AUC   p-value  \\\n",
       "1                  KEGG_LYSINE_DEGRADATION        1  0.388059  0.866078   \n",
       "2                   REACTOME_MRNA_SPLICING        1  0.733057  0.000048   \n",
       "3  MIPS_NOP56P_ASSOCIATED_PRE_RRNA_COMPLEX        1  0.680555  0.001628   \n",
       "4                     KEGG_DNA_REPLICATION        1  0.549473  0.312155   \n",
       "5                     PID_MYC_ACTIVPATHWAY        1  0.639303  0.021702   \n",
       "\n",
       "        FDR  \n",
       "1  0.956005  \n",
       "2  0.000582  \n",
       "3  0.011366  \n",
       "4  0.539951  \n",
       "5  0.083739  "
      ]
     },
     "execution_count": 21,
     "metadata": {},
     "output_type": "execute_result"
    }
   ],
   "source": [
    "multiplier_model_summary.head()"
   ]
  },
  {
   "cell_type": "code",
   "execution_count": 22,
   "id": "appropriate-audience",
   "metadata": {
    "execution": {
     "iopub.execute_input": "2021-07-23T16:23:11.017997Z",
     "iopub.status.busy": "2021-07-23T16:23:11.017642Z",
     "iopub.status.idle": "2021-07-23T16:23:11.037263Z",
     "shell.execute_reply": "2021-07-23T16:23:11.036956Z"
    },
    "papermill": {
     "duration": 0.043744,
     "end_time": "2021-07-23T16:23:11.037348",
     "exception": false,
     "start_time": "2021-07-23T16:23:10.993604",
     "status": "completed"
    },
    "tags": []
   },
   "outputs": [
    {
     "data": {
      "text/plain": [
       "(469, 5)"
      ]
     },
     "metadata": {},
     "output_type": "display_data"
    },
    {
     "data": {
      "text/html": [
       "<div>\n",
       "<style scoped>\n",
       "    .dataframe tbody tr th:only-of-type {\n",
       "        vertical-align: middle;\n",
       "    }\n",
       "\n",
       "    .dataframe tbody tr th {\n",
       "        vertical-align: top;\n",
       "    }\n",
       "\n",
       "    .dataframe thead th {\n",
       "        text-align: right;\n",
       "    }\n",
       "</style>\n",
       "<table border=\"1\" class=\"dataframe\">\n",
       "  <thead>\n",
       "    <tr style=\"text-align: right;\">\n",
       "      <th></th>\n",
       "      <th>pathway</th>\n",
       "      <th>LV index</th>\n",
       "      <th>AUC</th>\n",
       "      <th>p-value</th>\n",
       "      <th>FDR</th>\n",
       "    </tr>\n",
       "  </thead>\n",
       "  <tbody>\n",
       "    <tr>\n",
       "      <th>2</th>\n",
       "      <td>REACTOME_MRNA_SPLICING</td>\n",
       "      <td>1</td>\n",
       "      <td>0.733057</td>\n",
       "      <td>4.772691e-05</td>\n",
       "      <td>5.816211e-04</td>\n",
       "    </tr>\n",
       "    <tr>\n",
       "      <th>3</th>\n",
       "      <td>MIPS_NOP56P_ASSOCIATED_PRE_RRNA_COMPLEX</td>\n",
       "      <td>1</td>\n",
       "      <td>0.680555</td>\n",
       "      <td>1.628217e-03</td>\n",
       "      <td>1.136590e-02</td>\n",
       "    </tr>\n",
       "    <tr>\n",
       "      <th>8</th>\n",
       "      <td>REACTOME_MITOTIC_G1_G1_S_PHASES</td>\n",
       "      <td>1</td>\n",
       "      <td>0.686170</td>\n",
       "      <td>2.517619e-04</td>\n",
       "      <td>2.392292e-03</td>\n",
       "    </tr>\n",
       "    <tr>\n",
       "      <th>9</th>\n",
       "      <td>IRIS_Monocyte-Day0</td>\n",
       "      <td>2</td>\n",
       "      <td>0.890036</td>\n",
       "      <td>4.315812e-25</td>\n",
       "      <td>1.329887e-22</td>\n",
       "    </tr>\n",
       "    <tr>\n",
       "      <th>10</th>\n",
       "      <td>DMAP_MONO2</td>\n",
       "      <td>2</td>\n",
       "      <td>0.904676</td>\n",
       "      <td>1.313970e-16</td>\n",
       "      <td>1.574574e-14</td>\n",
       "    </tr>\n",
       "  </tbody>\n",
       "</table>\n",
       "</div>"
      ],
      "text/plain": [
       "                                    pathway LV index       AUC       p-value  \\\n",
       "2                    REACTOME_MRNA_SPLICING        1  0.733057  4.772691e-05   \n",
       "3   MIPS_NOP56P_ASSOCIATED_PRE_RRNA_COMPLEX        1  0.680555  1.628217e-03   \n",
       "8           REACTOME_MITOTIC_G1_G1_S_PHASES        1  0.686170  2.517619e-04   \n",
       "9                        IRIS_Monocyte-Day0        2  0.890036  4.315812e-25   \n",
       "10                               DMAP_MONO2        2  0.904676  1.313970e-16   \n",
       "\n",
       "             FDR  \n",
       "2   5.816211e-04  \n",
       "3   1.136590e-02  \n",
       "8   2.392292e-03  \n",
       "9   1.329887e-22  \n",
       "10  1.574574e-14  "
      ]
     },
     "metadata": {},
     "output_type": "display_data"
    }
   ],
   "source": [
    "well_aligned_lvs = multiplier_model_summary[\n",
    "    (multiplier_model_summary[\"FDR\"] < 0.05) | (multiplier_model_summary[\"AUC\"] >= 0.75)\n",
    "]\n",
    "\n",
    "display(well_aligned_lvs.shape)\n",
    "display(well_aligned_lvs.head())"
   ]
  },
  {
   "cell_type": "code",
   "execution_count": 23,
   "id": "enhanced-somalia",
   "metadata": {
    "execution": {
     "iopub.execute_input": "2021-07-23T16:23:11.083568Z",
     "iopub.status.busy": "2021-07-23T16:23:11.083213Z",
     "iopub.status.idle": "2021-07-23T16:23:11.094134Z",
     "shell.execute_reply": "2021-07-23T16:23:11.093771Z"
    },
    "papermill": {
     "duration": 0.034931,
     "end_time": "2021-07-23T16:23:11.094218",
     "exception": false,
     "start_time": "2021-07-23T16:23:11.059287",
     "status": "completed"
    },
    "tags": []
   },
   "outputs": [],
   "source": [
    "well_aligned_lv_codes = set([f\"LV{lvi}\" for lvi in well_aligned_lvs[\"LV index\"]])"
   ]
  },
  {
   "cell_type": "code",
   "execution_count": 24,
   "id": "baking-evening",
   "metadata": {
    "execution": {
     "iopub.execute_input": "2021-07-23T16:23:11.141167Z",
     "iopub.status.busy": "2021-07-23T16:23:11.140814Z",
     "iopub.status.idle": "2021-07-23T16:23:11.152186Z",
     "shell.execute_reply": "2021-07-23T16:23:11.152488Z"
    },
    "papermill": {
     "duration": 0.035836,
     "end_time": "2021-07-23T16:23:11.152595",
     "exception": false,
     "start_time": "2021-07-23T16:23:11.116759",
     "status": "completed"
    },
    "tags": []
   },
   "outputs": [
    {
     "data": {
      "text/plain": [
       "200"
      ]
     },
     "execution_count": 24,
     "metadata": {},
     "output_type": "execute_result"
    }
   ],
   "source": [
    "len(well_aligned_lv_codes)"
   ]
  },
  {
   "cell_type": "code",
   "execution_count": 25,
   "id": "retired-samba",
   "metadata": {
    "execution": {
     "iopub.execute_input": "2021-07-23T16:23:11.201141Z",
     "iopub.status.busy": "2021-07-23T16:23:11.200781Z",
     "iopub.status.idle": "2021-07-23T16:23:11.212583Z",
     "shell.execute_reply": "2021-07-23T16:23:11.212214Z"
    },
    "papermill": {
     "duration": 0.036463,
     "end_time": "2021-07-23T16:23:11.212668",
     "exception": false,
     "start_time": "2021-07-23T16:23:11.176205",
     "status": "completed"
    },
    "tags": []
   },
   "outputs": [
    {
     "data": {
      "text/plain": [
       "['LV7', 'LV904', 'LV928', 'LV177', 'LV827']"
      ]
     },
     "execution_count": 25,
     "metadata": {},
     "output_type": "execute_result"
    }
   ],
   "source": [
    "list(well_aligned_lv_codes)[:5]"
   ]
  },
  {
   "cell_type": "markdown",
   "id": "secure-target",
   "metadata": {
    "papermill": {
     "duration": 0.022076,
     "end_time": "2021-07-23T16:23:11.257869",
     "exception": false,
     "start_time": "2021-07-23T16:23:11.235793",
     "status": "completed"
    },
    "tags": []
   },
   "source": [
    "# Select partition / cluster pairs"
   ]
  },
  {
   "cell_type": "code",
   "execution_count": 26,
   "id": "amended-dryer",
   "metadata": {
    "execution": {
     "iopub.execute_input": "2021-07-23T16:23:11.304880Z",
     "iopub.status.busy": "2021-07-23T16:23:11.304449Z",
     "iopub.status.idle": "2021-07-23T16:23:11.315404Z",
     "shell.execute_reply": "2021-07-23T16:23:11.315051Z"
    },
    "papermill": {
     "duration": 0.035844,
     "end_time": "2021-07-23T16:23:11.315485",
     "exception": false,
     "start_time": "2021-07-23T16:23:11.279641",
     "status": "completed"
    },
    "tags": []
   },
   "outputs": [],
   "source": [
    "# This dictionary specifies in the keys the partition/clusters where traits will be selected from.\n",
    "# To select the LVs, we will take those LVs that are discriminative for the partition/cluster in the key,\n",
    "# but we also include an additional set of partition/clusters since there is a hierarchy of clustering solutions,\n",
    "# one LV in those might have not been present in the original partition/cluster tuple. This is manually inferred\n",
    "# by looking at the clustering tree. For example, within the \"complex branch\", we have the partition/cluster tuple\n",
    "# (29,11), including coronary artery disease and other traits. This tuple has a set of (at most) 20 LVs that are\n",
    "# discriminative for these traits. However, at k=26, this tuple is a children of (26,13) (which is a parent of (29,16)),\n",
    "# which has another set of discriminative LVs. We also take those ones for (29,11).\n",
    "#\n",
    "# key: a tuple (partition_k or ID, cluster_id)\n",
    "# value: a list of tuples (each tuple having two elements: (partition_k or ID, cluster_id))\n",
    "PHENOTYPES_LVS_CONFIG = {\n",
    "    # red blood cells\n",
    "    (29, 4): [],\n",
    "    (29, 2): [(16, 1)],\n",
    "    (29, 5): [(16, 1)],\n",
    "    (29, 23): [(16, 1)],\n",
    "    # platelets\n",
    "    (29, 1): [],\n",
    "}"
   ]
  },
  {
   "cell_type": "code",
   "execution_count": 27,
   "id": "ancient-alexandria",
   "metadata": {
    "execution": {
     "iopub.execute_input": "2021-07-23T16:23:11.362160Z",
     "iopub.status.busy": "2021-07-23T16:23:11.361800Z",
     "iopub.status.idle": "2021-07-23T16:23:11.373402Z",
     "shell.execute_reply": "2021-07-23T16:23:11.373030Z"
    },
    "papermill": {
     "duration": 0.035824,
     "end_time": "2021-07-23T16:23:11.373487",
     "exception": false,
     "start_time": "2021-07-23T16:23:11.337663",
     "status": "completed"
    },
    "tags": []
   },
   "outputs": [
    {
     "data": {
      "text/plain": [
       "PosixPath('/home/miltondp/projects/labs/greenelab/phenoplier/base/results/clustering/interpretation/cluster_lvs')"
      ]
     },
     "metadata": {},
     "output_type": "display_data"
    }
   ],
   "source": [
    "CLUSTER_LV_DIR = conf.RESULTS[\"CLUSTERING_INTERPRETATION\"][\"BASE_DIR\"] / \"cluster_lvs\"\n",
    "assert CLUSTER_LV_DIR.exists()\n",
    "\n",
    "display(CLUSTER_LV_DIR)"
   ]
  },
  {
   "cell_type": "code",
   "execution_count": 28,
   "id": "purple-transportation",
   "metadata": {
    "execution": {
     "iopub.execute_input": "2021-07-23T16:23:11.422153Z",
     "iopub.status.busy": "2021-07-23T16:23:11.421792Z",
     "iopub.status.idle": "2021-07-23T16:23:11.432490Z",
     "shell.execute_reply": "2021-07-23T16:23:11.432812Z"
    },
    "papermill": {
     "duration": 0.036528,
     "end_time": "2021-07-23T16:23:11.432919",
     "exception": false,
     "start_time": "2021-07-23T16:23:11.396391",
     "status": "completed"
    },
    "tags": []
   },
   "outputs": [],
   "source": [
    "def _get_lvs_data(part_k, cluster_idx):\n",
    "    \"\"\"\n",
    "    For a partition/cluster pair, it returns a list of LV names that are discriminative for that cluster.\n",
    "    \"\"\"\n",
    "    cluster_lvs = pd.read_pickle(\n",
    "        CLUSTER_LV_DIR\n",
    "        / f\"part{part_k}\"\n",
    "        / f\"cluster_interpreter-part{part_k}_k{cluster_idx}.pkl\"\n",
    "    )\n",
    "\n",
    "    return list(cluster_lvs[\"name\"])"
   ]
  },
  {
   "cell_type": "code",
   "execution_count": 29,
   "id": "naval-diploma",
   "metadata": {
    "execution": {
     "iopub.execute_input": "2021-07-23T16:23:11.484945Z",
     "iopub.status.busy": "2021-07-23T16:23:11.484547Z",
     "iopub.status.idle": "2021-07-23T16:23:11.498355Z",
     "shell.execute_reply": "2021-07-23T16:23:11.497943Z"
    },
    "papermill": {
     "duration": 0.042433,
     "end_time": "2021-07-23T16:23:11.498451",
     "exception": false,
     "start_time": "2021-07-23T16:23:11.456018",
     "status": "completed"
    },
    "tags": []
   },
   "outputs": [
    {
     "data": {
      "text/plain": [
       "['LV140', 'LV884', 'LV727', 'LV455', 'LV136']"
      ]
     },
     "execution_count": 29,
     "metadata": {},
     "output_type": "execute_result"
    }
   ],
   "source": [
    "_get_lvs_data(29, 11)[:5]"
   ]
  },
  {
   "cell_type": "markdown",
   "id": "endless-information",
   "metadata": {
    "papermill": {
     "duration": 0.02233,
     "end_time": "2021-07-23T16:23:11.546362",
     "exception": false,
     "start_time": "2021-07-23T16:23:11.524032",
     "status": "completed"
    },
    "tags": []
   },
   "source": [
    "# GLSPhenoplier"
   ]
  },
  {
   "cell_type": "markdown",
   "id": "fatty-joint",
   "metadata": {
    "papermill": {
     "duration": 0.022247,
     "end_time": "2021-07-23T16:23:11.590909",
     "exception": false,
     "start_time": "2021-07-23T16:23:11.568662",
     "status": "completed"
    },
    "tags": []
   },
   "source": [
    "## Get list of phenotypes/lvs pairs"
   ]
  },
  {
   "cell_type": "markdown",
   "id": "built-windsor",
   "metadata": {
    "papermill": {
     "duration": 0.022088,
     "end_time": "2021-07-23T16:23:11.635394",
     "exception": false,
     "start_time": "2021-07-23T16:23:11.613306",
     "status": "completed"
    },
    "tags": []
   },
   "source": [
    "Here I get a list of phenotype/lv pairs to run GLSPhenoplier on. I do this because I don't need to train the model\n",
    "for all LVs and all traits. The pairs are read from the `PHENOTYPES_LVS_CONFIG` dictionary specified before."
   ]
  },
  {
   "cell_type": "code",
   "execution_count": 30,
   "id": "geological-editor",
   "metadata": {
    "execution": {
     "iopub.execute_input": "2021-07-23T16:23:11.683764Z",
     "iopub.status.busy": "2021-07-23T16:23:11.683388Z",
     "iopub.status.idle": "2021-07-23T16:23:11.749530Z",
     "shell.execute_reply": "2021-07-23T16:23:11.747984Z"
    },
    "papermill": {
     "duration": 0.092133,
     "end_time": "2021-07-23T16:23:11.749866",
     "exception": false,
     "start_time": "2021-07-23T16:23:11.657733",
     "status": "completed"
    },
    "tags": []
   },
   "outputs": [],
   "source": [
    "phenotypes_lvs_pairs = []\n",
    "\n",
    "for (part_k, cluster_id), extra_for_lvs in PHENOTYPES_LVS_CONFIG.items():\n",
    "    # get traits from the partition/cluster\n",
    "    part = best_partitions.loc[part_k, \"partition\"]\n",
    "    cluster_traits = data.index[part == cluster_id]\n",
    "\n",
    "    # get first the LVs that are predictive for this partition/cluster\n",
    "    # then, add extra LVs from the partition/cluster \"parents\" specified in\n",
    "    # PHENOTYPES_LVS_CONFIG as a list of values\n",
    "    lv_list = _get_lvs_data(part_k, cluster_id)\n",
    "\n",
    "    for extra_part_k, extra_cluster_id in extra_for_lvs:\n",
    "        extra_lv_list = _get_lvs_data(part_k, cluster_id)\n",
    "        lv_list.extend(extra_lv_list)\n",
    "\n",
    "    # now create the list of trait/lv pairs where GLSPhenoplier will be run on later\n",
    "    for phenotype_code in cluster_traits:\n",
    "        for lv_code in lv_list:\n",
    "            phenotypes_lvs_pairs.append(\n",
    "                {\n",
    "                    \"phenotype_part_k\": part_k,\n",
    "                    \"phenotype_cluster_id\": cluster_id,\n",
    "                    \"phenotype\": phenotype_code,\n",
    "                    \"lv\": lv_code,\n",
    "                }\n",
    "            )\n",
    "\n",
    "phenotypes_lvs_pairs = pd.DataFrame(phenotypes_lvs_pairs).drop_duplicates()"
   ]
  },
  {
   "cell_type": "code",
   "execution_count": 31,
   "id": "rolled-orientation",
   "metadata": {
    "execution": {
     "iopub.execute_input": "2021-07-23T16:23:11.829584Z",
     "iopub.status.busy": "2021-07-23T16:23:11.829225Z",
     "iopub.status.idle": "2021-07-23T16:23:11.840613Z",
     "shell.execute_reply": "2021-07-23T16:23:11.840241Z"
    },
    "papermill": {
     "duration": 0.036184,
     "end_time": "2021-07-23T16:23:11.840718",
     "exception": false,
     "start_time": "2021-07-23T16:23:11.804534",
     "status": "completed"
    },
    "tags": []
   },
   "outputs": [],
   "source": [
    "phenotypes_lvs_pairs = phenotypes_lvs_pairs.sort_values(\"phenotype\").reset_index(\n",
    "    drop=True\n",
    ")"
   ]
  },
  {
   "cell_type": "code",
   "execution_count": 32,
   "id": "secure-election",
   "metadata": {
    "execution": {
     "iopub.execute_input": "2021-07-23T16:23:11.889249Z",
     "iopub.status.busy": "2021-07-23T16:23:11.888888Z",
     "iopub.status.idle": "2021-07-23T16:23:11.900233Z",
     "shell.execute_reply": "2021-07-23T16:23:11.900510Z"
    },
    "papermill": {
     "duration": 0.036975,
     "end_time": "2021-07-23T16:23:11.900617",
     "exception": false,
     "start_time": "2021-07-23T16:23:11.863642",
     "status": "completed"
    },
    "tags": []
   },
   "outputs": [
    {
     "data": {
      "text/plain": [
       "(400, 4)"
      ]
     },
     "execution_count": 32,
     "metadata": {},
     "output_type": "execute_result"
    }
   ],
   "source": [
    "phenotypes_lvs_pairs.shape"
   ]
  },
  {
   "cell_type": "code",
   "execution_count": 33,
   "id": "infinite-paintball",
   "metadata": {
    "execution": {
     "iopub.execute_input": "2021-07-23T16:23:11.949441Z",
     "iopub.status.busy": "2021-07-23T16:23:11.949061Z",
     "iopub.status.idle": "2021-07-23T16:23:11.964022Z",
     "shell.execute_reply": "2021-07-23T16:23:11.963633Z"
    },
    "papermill": {
     "duration": 0.040573,
     "end_time": "2021-07-23T16:23:11.964111",
     "exception": false,
     "start_time": "2021-07-23T16:23:11.923538",
     "status": "completed"
    },
    "tags": []
   },
   "outputs": [
    {
     "data": {
      "text/html": [
       "<div>\n",
       "<style scoped>\n",
       "    .dataframe tbody tr th:only-of-type {\n",
       "        vertical-align: middle;\n",
       "    }\n",
       "\n",
       "    .dataframe tbody tr th {\n",
       "        vertical-align: top;\n",
       "    }\n",
       "\n",
       "    .dataframe thead th {\n",
       "        text-align: right;\n",
       "    }\n",
       "</style>\n",
       "<table border=\"1\" class=\"dataframe\">\n",
       "  <thead>\n",
       "    <tr style=\"text-align: right;\">\n",
       "      <th></th>\n",
       "      <th>phenotype_part_k</th>\n",
       "      <th>phenotype_cluster_id</th>\n",
       "      <th>phenotype</th>\n",
       "      <th>lv</th>\n",
       "    </tr>\n",
       "  </thead>\n",
       "  <tbody>\n",
       "    <tr>\n",
       "      <th>0</th>\n",
       "      <td>29</td>\n",
       "      <td>5</td>\n",
       "      <td>30010_raw-Red_blood_cell_erythrocyte_count</td>\n",
       "      <td>LV928</td>\n",
       "    </tr>\n",
       "    <tr>\n",
       "      <th>1</th>\n",
       "      <td>29</td>\n",
       "      <td>5</td>\n",
       "      <td>30010_raw-Red_blood_cell_erythrocyte_count</td>\n",
       "      <td>LV895</td>\n",
       "    </tr>\n",
       "    <tr>\n",
       "      <th>2</th>\n",
       "      <td>29</td>\n",
       "      <td>5</td>\n",
       "      <td>30010_raw-Red_blood_cell_erythrocyte_count</td>\n",
       "      <td>LV382</td>\n",
       "    </tr>\n",
       "    <tr>\n",
       "      <th>3</th>\n",
       "      <td>29</td>\n",
       "      <td>5</td>\n",
       "      <td>30010_raw-Red_blood_cell_erythrocyte_count</td>\n",
       "      <td>LV677</td>\n",
       "    </tr>\n",
       "    <tr>\n",
       "      <th>4</th>\n",
       "      <td>29</td>\n",
       "      <td>5</td>\n",
       "      <td>30010_raw-Red_blood_cell_erythrocyte_count</td>\n",
       "      <td>LV588</td>\n",
       "    </tr>\n",
       "  </tbody>\n",
       "</table>\n",
       "</div>"
      ],
      "text/plain": [
       "   phenotype_part_k  phenotype_cluster_id  \\\n",
       "0                29                     5   \n",
       "1                29                     5   \n",
       "2                29                     5   \n",
       "3                29                     5   \n",
       "4                29                     5   \n",
       "\n",
       "                                    phenotype     lv  \n",
       "0  30010_raw-Red_blood_cell_erythrocyte_count  LV928  \n",
       "1  30010_raw-Red_blood_cell_erythrocyte_count  LV895  \n",
       "2  30010_raw-Red_blood_cell_erythrocyte_count  LV382  \n",
       "3  30010_raw-Red_blood_cell_erythrocyte_count  LV677  \n",
       "4  30010_raw-Red_blood_cell_erythrocyte_count  LV588  "
      ]
     },
     "execution_count": 33,
     "metadata": {},
     "output_type": "execute_result"
    }
   ],
   "source": [
    "phenotypes_lvs_pairs.head()"
   ]
  },
  {
   "cell_type": "markdown",
   "id": "vanilla-constitution",
   "metadata": {
    "papermill": {
     "duration": 0.02268,
     "end_time": "2021-07-23T16:23:12.010527",
     "exception": false,
     "start_time": "2021-07-23T16:23:11.987847",
     "status": "completed"
    },
    "tags": []
   },
   "source": [
    "## Run"
   ]
  },
  {
   "cell_type": "code",
   "execution_count": 34,
   "id": "supposed-wesley",
   "metadata": {
    "execution": {
     "iopub.execute_input": "2021-07-23T16:23:12.059833Z",
     "iopub.status.busy": "2021-07-23T16:23:12.059457Z",
     "iopub.status.idle": "2021-07-23T17:25:49.530869Z",
     "shell.execute_reply": "2021-07-23T17:25:49.530018Z"
    },
    "papermill": {
     "duration": 3757.497817,
     "end_time": "2021-07-23T17:25:49.530957",
     "exception": false,
     "start_time": "2021-07-23T16:23:12.033140",
     "status": "completed"
    },
    "tags": []
   },
   "outputs": [
    {
     "name": "stderr",
     "output_type": "stream",
     "text": [
      "reticulocyte count - LV30: 100%|██████████| 400/400 [1:02:37<00:00,  9.39s/it]\n"
     ]
    }
   ],
   "source": [
    "results = []\n",
    "\n",
    "pbar = tqdm(total=phenotypes_lvs_pairs.shape[0])\n",
    "\n",
    "for idx, row in phenotypes_lvs_pairs.iterrows():\n",
    "    phenotype_code = row[\"phenotype\"]\n",
    "    lv_code = row[\"lv\"]\n",
    "\n",
    "    pbar.set_description(f\"{phenotype_code} - {lv_code}\")\n",
    "\n",
    "    gls_model = GLSPhenoplier(\n",
    "        smultixcan_result_set_filepath=conf.PHENOMEXCAN[\n",
    "            \"SMULTIXCAN_EFO_PARTIAL_MASHR_ZSCORES_FILE\"\n",
    "        ]\n",
    "    )\n",
    "    gls_model.fit_named(lv_code, phenotype_code)\n",
    "    res = gls_model.results\n",
    "\n",
    "    results.append(\n",
    "        {\n",
    "            \"part_k\": row[\"phenotype_part_k\"],\n",
    "            \"cluster_id\": row[\"phenotype_cluster_id\"],\n",
    "            \"phenotype\": phenotype_code,\n",
    "            \"lv\": lv_code,\n",
    "            \"lv_with_pathway\": lv_code in well_aligned_lv_codes,\n",
    "            \"coef\": res.params.loc[\"lv\"],\n",
    "            \"pvalue\": res.pvalues_onesided.loc[\"lv\"],\n",
    "            \"pvalue_twosided\": res.pvalues.loc[\"lv\"],\n",
    "            \"summary\": gls_model.results_summary,\n",
    "        }\n",
    "    )\n",
    "\n",
    "    # save results every 10 models trained\n",
    "    if (idx % 10) == 0:\n",
    "        pd.DataFrame(results).to_pickle(OUTPUT_FILENAME)\n",
    "\n",
    "    pbar.update(1)\n",
    "\n",
    "pbar.close()"
   ]
  },
  {
   "cell_type": "code",
   "execution_count": 35,
   "id": "metropolitan-shell",
   "metadata": {
    "execution": {
     "iopub.execute_input": "2021-07-23T17:25:49.833434Z",
     "iopub.status.busy": "2021-07-23T17:25:49.833075Z",
     "iopub.status.idle": "2021-07-23T17:25:49.845768Z",
     "shell.execute_reply": "2021-07-23T17:25:49.845389Z"
    },
    "papermill": {
     "duration": 0.164489,
     "end_time": "2021-07-23T17:25:49.845856",
     "exception": false,
     "start_time": "2021-07-23T17:25:49.681367",
     "status": "completed"
    },
    "tags": []
   },
   "outputs": [],
   "source": [
    "results = pd.DataFrame(results)"
   ]
  },
  {
   "cell_type": "code",
   "execution_count": 36,
   "id": "sophisticated-trance",
   "metadata": {
    "execution": {
     "iopub.execute_input": "2021-07-23T17:25:50.146366Z",
     "iopub.status.busy": "2021-07-23T17:25:50.146000Z",
     "iopub.status.idle": "2021-07-23T17:25:50.157981Z",
     "shell.execute_reply": "2021-07-23T17:25:50.157588Z"
    },
    "papermill": {
     "duration": 0.163249,
     "end_time": "2021-07-23T17:25:50.158066",
     "exception": false,
     "start_time": "2021-07-23T17:25:49.994817",
     "status": "completed"
    },
    "tags": []
   },
   "outputs": [
    {
     "data": {
      "text/plain": [
       "(400, 9)"
      ]
     },
     "execution_count": 36,
     "metadata": {},
     "output_type": "execute_result"
    }
   ],
   "source": [
    "results.shape"
   ]
  },
  {
   "cell_type": "code",
   "execution_count": 37,
   "id": "expressed-anime",
   "metadata": {
    "execution": {
     "iopub.execute_input": "2021-07-23T17:25:50.457619Z",
     "iopub.status.busy": "2021-07-23T17:25:50.457252Z",
     "iopub.status.idle": "2021-07-23T17:25:50.490028Z",
     "shell.execute_reply": "2021-07-23T17:25:50.489661Z"
    },
    "papermill": {
     "duration": 0.183551,
     "end_time": "2021-07-23T17:25:50.490116",
     "exception": false,
     "start_time": "2021-07-23T17:25:50.306565",
     "status": "completed"
    },
    "tags": []
   },
   "outputs": [
    {
     "data": {
      "text/html": [
       "<div>\n",
       "<style scoped>\n",
       "    .dataframe tbody tr th:only-of-type {\n",
       "        vertical-align: middle;\n",
       "    }\n",
       "\n",
       "    .dataframe tbody tr th {\n",
       "        vertical-align: top;\n",
       "    }\n",
       "\n",
       "    .dataframe thead th {\n",
       "        text-align: right;\n",
       "    }\n",
       "</style>\n",
       "<table border=\"1\" class=\"dataframe\">\n",
       "  <thead>\n",
       "    <tr style=\"text-align: right;\">\n",
       "      <th></th>\n",
       "      <th>part_k</th>\n",
       "      <th>cluster_id</th>\n",
       "      <th>phenotype</th>\n",
       "      <th>lv</th>\n",
       "      <th>lv_with_pathway</th>\n",
       "      <th>coef</th>\n",
       "      <th>pvalue</th>\n",
       "      <th>pvalue_twosided</th>\n",
       "      <th>summary</th>\n",
       "    </tr>\n",
       "  </thead>\n",
       "  <tbody>\n",
       "    <tr>\n",
       "      <th>0</th>\n",
       "      <td>29</td>\n",
       "      <td>5</td>\n",
       "      <td>30010_raw-Red_blood_cell_erythrocyte_count</td>\n",
       "      <td>LV928</td>\n",
       "      <td>True</td>\n",
       "      <td>0.109940</td>\n",
       "      <td>3.899674e-18</td>\n",
       "      <td>7.799348e-18</td>\n",
       "      <td>GLS Regression Res...</td>\n",
       "    </tr>\n",
       "    <tr>\n",
       "      <th>1</th>\n",
       "      <td>29</td>\n",
       "      <td>5</td>\n",
       "      <td>30010_raw-Red_blood_cell_erythrocyte_count</td>\n",
       "      <td>LV895</td>\n",
       "      <td>False</td>\n",
       "      <td>0.012789</td>\n",
       "      <td>1.619516e-01</td>\n",
       "      <td>3.239032e-01</td>\n",
       "      <td>GLS Regression Res...</td>\n",
       "    </tr>\n",
       "    <tr>\n",
       "      <th>2</th>\n",
       "      <td>29</td>\n",
       "      <td>5</td>\n",
       "      <td>30010_raw-Red_blood_cell_erythrocyte_count</td>\n",
       "      <td>LV382</td>\n",
       "      <td>False</td>\n",
       "      <td>0.025226</td>\n",
       "      <td>2.491257e-02</td>\n",
       "      <td>4.982515e-02</td>\n",
       "      <td>GLS Regression Res...</td>\n",
       "    </tr>\n",
       "    <tr>\n",
       "      <th>3</th>\n",
       "      <td>29</td>\n",
       "      <td>5</td>\n",
       "      <td>30010_raw-Red_blood_cell_erythrocyte_count</td>\n",
       "      <td>LV677</td>\n",
       "      <td>False</td>\n",
       "      <td>0.018216</td>\n",
       "      <td>7.778114e-02</td>\n",
       "      <td>1.555623e-01</td>\n",
       "      <td>GLS Regression Res...</td>\n",
       "    </tr>\n",
       "    <tr>\n",
       "      <th>4</th>\n",
       "      <td>29</td>\n",
       "      <td>5</td>\n",
       "      <td>30010_raw-Red_blood_cell_erythrocyte_count</td>\n",
       "      <td>LV588</td>\n",
       "      <td>False</td>\n",
       "      <td>0.001769</td>\n",
       "      <td>4.446061e-01</td>\n",
       "      <td>8.892123e-01</td>\n",
       "      <td>GLS Regression Res...</td>\n",
       "    </tr>\n",
       "  </tbody>\n",
       "</table>\n",
       "</div>"
      ],
      "text/plain": [
       "   part_k  cluster_id                                   phenotype     lv  \\\n",
       "0      29           5  30010_raw-Red_blood_cell_erythrocyte_count  LV928   \n",
       "1      29           5  30010_raw-Red_blood_cell_erythrocyte_count  LV895   \n",
       "2      29           5  30010_raw-Red_blood_cell_erythrocyte_count  LV382   \n",
       "3      29           5  30010_raw-Red_blood_cell_erythrocyte_count  LV677   \n",
       "4      29           5  30010_raw-Red_blood_cell_erythrocyte_count  LV588   \n",
       "\n",
       "   lv_with_pathway      coef        pvalue  pvalue_twosided  \\\n",
       "0             True  0.109940  3.899674e-18     7.799348e-18   \n",
       "1            False  0.012789  1.619516e-01     3.239032e-01   \n",
       "2            False  0.025226  2.491257e-02     4.982515e-02   \n",
       "3            False  0.018216  7.778114e-02     1.555623e-01   \n",
       "4            False  0.001769  4.446061e-01     8.892123e-01   \n",
       "\n",
       "                                             summary  \n",
       "0                              GLS Regression Res...  \n",
       "1                              GLS Regression Res...  \n",
       "2                              GLS Regression Res...  \n",
       "3                              GLS Regression Res...  \n",
       "4                              GLS Regression Res...  "
      ]
     },
     "execution_count": 37,
     "metadata": {},
     "output_type": "execute_result"
    }
   ],
   "source": [
    "results.head()"
   ]
  },
  {
   "cell_type": "code",
   "execution_count": 38,
   "id": "brave-plymouth",
   "metadata": {
    "execution": {
     "iopub.execute_input": "2021-07-23T17:25:50.798989Z",
     "iopub.status.busy": "2021-07-23T17:25:50.798632Z",
     "iopub.status.idle": "2021-07-23T17:25:50.847112Z",
     "shell.execute_reply": "2021-07-23T17:25:50.846743Z"
    },
    "papermill": {
     "duration": 0.200758,
     "end_time": "2021-07-23T17:25:50.847197",
     "exception": false,
     "start_time": "2021-07-23T17:25:50.646439",
     "status": "completed"
    },
    "tags": []
   },
   "outputs": [
    {
     "data": {
      "text/html": [
       "<div>\n",
       "<style scoped>\n",
       "    .dataframe tbody tr th:only-of-type {\n",
       "        vertical-align: middle;\n",
       "    }\n",
       "\n",
       "    .dataframe tbody tr th {\n",
       "        vertical-align: top;\n",
       "    }\n",
       "\n",
       "    .dataframe thead th {\n",
       "        text-align: right;\n",
       "    }\n",
       "</style>\n",
       "<table border=\"1\" class=\"dataframe\">\n",
       "  <thead>\n",
       "    <tr style=\"text-align: right;\">\n",
       "      <th></th>\n",
       "      <th>part_k</th>\n",
       "      <th>cluster_id</th>\n",
       "      <th>phenotype</th>\n",
       "      <th>lv</th>\n",
       "      <th>lv_with_pathway</th>\n",
       "      <th>coef</th>\n",
       "      <th>pvalue</th>\n",
       "      <th>pvalue_twosided</th>\n",
       "      <th>summary</th>\n",
       "    </tr>\n",
       "  </thead>\n",
       "  <tbody>\n",
       "    <tr>\n",
       "      <th>231</th>\n",
       "      <td>29</td>\n",
       "      <td>4</td>\n",
       "      <td>30250_raw-Reticulocyte_count</td>\n",
       "      <td>LV584</td>\n",
       "      <td>False</td>\n",
       "      <td>0.230159</td>\n",
       "      <td>2.574853e-116</td>\n",
       "      <td>5.149705e-116</td>\n",
       "      <td>GLS Regression Res...</td>\n",
       "    </tr>\n",
       "    <tr>\n",
       "      <th>209</th>\n",
       "      <td>29</td>\n",
       "      <td>4</td>\n",
       "      <td>30240_raw-Reticulocyte_percentage</td>\n",
       "      <td>LV584</td>\n",
       "      <td>False</td>\n",
       "      <td>0.211679</td>\n",
       "      <td>5.201832e-101</td>\n",
       "      <td>1.040366e-100</td>\n",
       "      <td>GLS Regression Res...</td>\n",
       "    </tr>\n",
       "    <tr>\n",
       "      <th>398</th>\n",
       "      <td>29</td>\n",
       "      <td>4</td>\n",
       "      <td>reticulocyte count</td>\n",
       "      <td>LV584</td>\n",
       "      <td>False</td>\n",
       "      <td>0.211275</td>\n",
       "      <td>3.733660e-99</td>\n",
       "      <td>7.467320e-99</td>\n",
       "      <td>GLS Regression Res...</td>\n",
       "    </tr>\n",
       "    <tr>\n",
       "      <th>327</th>\n",
       "      <td>29</td>\n",
       "      <td>4</td>\n",
       "      <td>30300_raw-High_light_scatter_reticulocyte_count</td>\n",
       "      <td>LV584</td>\n",
       "      <td>False</td>\n",
       "      <td>0.206401</td>\n",
       "      <td>7.539141e-95</td>\n",
       "      <td>1.507828e-94</td>\n",
       "      <td>GLS Regression Res...</td>\n",
       "    </tr>\n",
       "    <tr>\n",
       "      <th>306</th>\n",
       "      <td>29</td>\n",
       "      <td>4</td>\n",
       "      <td>30290_raw-High_light_scatter_reticulocyte_perc...</td>\n",
       "      <td>LV584</td>\n",
       "      <td>False</td>\n",
       "      <td>0.187418</td>\n",
       "      <td>4.073651e-80</td>\n",
       "      <td>8.147302e-80</td>\n",
       "      <td>GLS Regression Res...</td>\n",
       "    </tr>\n",
       "    <tr>\n",
       "      <th>95</th>\n",
       "      <td>29</td>\n",
       "      <td>2</td>\n",
       "      <td>30050_raw-Mean_corpuscular_haemoglobin</td>\n",
       "      <td>LV847</td>\n",
       "      <td>True</td>\n",
       "      <td>0.234947</td>\n",
       "      <td>7.614625e-76</td>\n",
       "      <td>1.522925e-75</td>\n",
       "      <td>GLS Regression Res...</td>\n",
       "    </tr>\n",
       "    <tr>\n",
       "      <th>243</th>\n",
       "      <td>29</td>\n",
       "      <td>2</td>\n",
       "      <td>30260_raw-Mean_reticulocyte_volume</td>\n",
       "      <td>LV30</td>\n",
       "      <td>True</td>\n",
       "      <td>0.201376</td>\n",
       "      <td>2.200959e-54</td>\n",
       "      <td>4.401918e-54</td>\n",
       "      <td>GLS Regression Res...</td>\n",
       "    </tr>\n",
       "    <tr>\n",
       "      <th>61</th>\n",
       "      <td>29</td>\n",
       "      <td>2</td>\n",
       "      <td>30040_raw-Mean_corpuscular_volume</td>\n",
       "      <td>LV847</td>\n",
       "      <td>True</td>\n",
       "      <td>0.197762</td>\n",
       "      <td>2.466464e-53</td>\n",
       "      <td>4.932928e-53</td>\n",
       "      <td>GLS Regression Res...</td>\n",
       "    </tr>\n",
       "    <tr>\n",
       "      <th>276</th>\n",
       "      <td>29</td>\n",
       "      <td>2</td>\n",
       "      <td>30270_raw-Mean_sphered_cell_volume</td>\n",
       "      <td>LV928</td>\n",
       "      <td>True</td>\n",
       "      <td>0.193080</td>\n",
       "      <td>4.152256e-49</td>\n",
       "      <td>8.304513e-49</td>\n",
       "      <td>GLS Regression Res...</td>\n",
       "    </tr>\n",
       "    <tr>\n",
       "      <th>242</th>\n",
       "      <td>29</td>\n",
       "      <td>2</td>\n",
       "      <td>30260_raw-Mean_reticulocyte_volume</td>\n",
       "      <td>LV928</td>\n",
       "      <td>True</td>\n",
       "      <td>0.185119</td>\n",
       "      <td>8.467597e-47</td>\n",
       "      <td>1.693519e-46</td>\n",
       "      <td>GLS Regression Res...</td>\n",
       "    </tr>\n",
       "  </tbody>\n",
       "</table>\n",
       "</div>"
      ],
      "text/plain": [
       "     part_k  cluster_id                                          phenotype  \\\n",
       "231      29           4                       30250_raw-Reticulocyte_count   \n",
       "209      29           4                  30240_raw-Reticulocyte_percentage   \n",
       "398      29           4                                 reticulocyte count   \n",
       "327      29           4    30300_raw-High_light_scatter_reticulocyte_count   \n",
       "306      29           4  30290_raw-High_light_scatter_reticulocyte_perc...   \n",
       "95       29           2             30050_raw-Mean_corpuscular_haemoglobin   \n",
       "243      29           2                 30260_raw-Mean_reticulocyte_volume   \n",
       "61       29           2                  30040_raw-Mean_corpuscular_volume   \n",
       "276      29           2                 30270_raw-Mean_sphered_cell_volume   \n",
       "242      29           2                 30260_raw-Mean_reticulocyte_volume   \n",
       "\n",
       "        lv  lv_with_pathway      coef         pvalue  pvalue_twosided  \\\n",
       "231  LV584            False  0.230159  2.574853e-116    5.149705e-116   \n",
       "209  LV584            False  0.211679  5.201832e-101    1.040366e-100   \n",
       "398  LV584            False  0.211275   3.733660e-99     7.467320e-99   \n",
       "327  LV584            False  0.206401   7.539141e-95     1.507828e-94   \n",
       "306  LV584            False  0.187418   4.073651e-80     8.147302e-80   \n",
       "95   LV847             True  0.234947   7.614625e-76     1.522925e-75   \n",
       "243   LV30             True  0.201376   2.200959e-54     4.401918e-54   \n",
       "61   LV847             True  0.197762   2.466464e-53     4.932928e-53   \n",
       "276  LV928             True  0.193080   4.152256e-49     8.304513e-49   \n",
       "242  LV928             True  0.185119   8.467597e-47     1.693519e-46   \n",
       "\n",
       "                                               summary  \n",
       "231                              GLS Regression Res...  \n",
       "209                              GLS Regression Res...  \n",
       "398                              GLS Regression Res...  \n",
       "327                              GLS Regression Res...  \n",
       "306                              GLS Regression Res...  \n",
       "95                               GLS Regression Res...  \n",
       "243                              GLS Regression Res...  \n",
       "61                               GLS Regression Res...  \n",
       "276                              GLS Regression Res...  \n",
       "242                              GLS Regression Res...  "
      ]
     },
     "execution_count": 38,
     "metadata": {},
     "output_type": "execute_result"
    }
   ],
   "source": [
    "results.sort_values(\"pvalue\").head(10)"
   ]
  },
  {
   "cell_type": "markdown",
   "id": "palestinian-accordance",
   "metadata": {
    "papermill": {
     "duration": 0.148852,
     "end_time": "2021-07-23T17:25:51.144646",
     "exception": false,
     "start_time": "2021-07-23T17:25:50.995794",
     "status": "completed"
    },
    "tags": []
   },
   "source": [
    "## Save"
   ]
  },
  {
   "cell_type": "code",
   "execution_count": 39,
   "id": "quarterly-ethernet",
   "metadata": {
    "execution": {
     "iopub.execute_input": "2021-07-23T17:25:51.443851Z",
     "iopub.status.busy": "2021-07-23T17:25:51.443497Z",
     "iopub.status.idle": "2021-07-23T17:25:51.515650Z",
     "shell.execute_reply": "2021-07-23T17:25:51.516011Z"
    },
    "papermill": {
     "duration": 0.223663,
     "end_time": "2021-07-23T17:25:51.516151",
     "exception": false,
     "start_time": "2021-07-23T17:25:51.292488",
     "status": "completed"
    },
    "tags": []
   },
   "outputs": [],
   "source": [
    "results.to_pickle(OUTPUT_FILENAME)"
   ]
  },
  {
   "cell_type": "code",
   "execution_count": null,
   "id": "domestic-coral",
   "metadata": {
    "papermill": {
     "duration": 0.149003,
     "end_time": "2021-07-23T17:25:51.819305",
     "exception": false,
     "start_time": "2021-07-23T17:25:51.670302",
     "status": "completed"
    },
    "tags": []
   },
   "outputs": [],
   "source": []
  }
 ],
 "metadata": {
  "jupytext": {
   "cell_metadata_filter": "all,-execution,-papermill,-trusted",
   "formats": "ipynb,py//py:percent"
  },
  "kernelspec": {
   "display_name": "Python 3",
   "language": "python",
   "name": "python3"
  },
  "language_info": {
   "codemirror_mode": {
    "name": "ipython",
    "version": 3
   },
   "file_extension": ".py",
   "mimetype": "text/x-python",
   "name": "python",
   "nbconvert_exporter": "python",
   "pygments_lexer": "ipython3",
   "version": "3.8.8"
  },
  "papermill": {
   "default_parameters": {},
   "duration": 3764.815351,
   "end_time": "2021-07-23T17:25:52.474838",
   "environment_variables": {},
   "exception": null,
   "input_path": "08_gsa_gls/31-gls_on_phenotypes-phenomexcan-2.ipynb",
   "output_path": "08_gsa_gls/31-gls_on_phenotypes-phenomexcan-2.run.ipynb",
   "parameters": {},
   "start_time": "2021-07-23T16:23:07.659487",
   "version": "2.2.2"
  }
 },
 "nbformat": 4,
 "nbformat_minor": 5
}
