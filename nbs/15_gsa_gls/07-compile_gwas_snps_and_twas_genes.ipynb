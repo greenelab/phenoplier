{
 "cells": [
  {
   "cell_type": "markdown",
   "id": "7a6632fb",
   "metadata": {
    "papermill": {
     "duration": 0.018708,
     "end_time": "2021-04-28T22:27:16.472059",
     "exception": false,
     "start_time": "2021-04-28T22:27:16.453351",
     "status": "completed"
    },
    "tags": []
   },
   "source": [
    "# Description"
   ]
  },
  {
   "cell_type": "markdown",
   "id": "7097c346",
   "metadata": {
    "papermill": {
     "duration": 0.015071,
     "end_time": "2021-04-28T22:27:16.502145",
     "exception": false,
     "start_time": "2021-04-28T22:27:16.487074",
     "status": "completed"
    },
    "tags": []
   },
   "source": [
    "(Please, take a look at the README.md file in this directory for instructions on how to run this notebook)\n",
    "\n",
    "**TODO:** update\n",
    "\n",
    "This notebook computes predicted expression correlations between all genes in the MultiPLIER models.\n",
    "\n",
    "It also has a parameter set for papermill to run on a single chromosome to run in parallel (see under `Settings` below).\n",
    "\n",
    "This notebook is not directly run. See README.md."
   ]
  },
  {
   "cell_type": "markdown",
   "id": "c61d8427",
   "metadata": {
    "papermill": {
     "duration": 0.014891,
     "end_time": "2021-04-28T22:27:16.532200",
     "exception": false,
     "start_time": "2021-04-28T22:27:16.517309",
     "status": "completed"
    },
    "tags": []
   },
   "source": [
    "# Modules"
   ]
  },
  {
   "cell_type": "code",
   "execution_count": 1,
   "id": "bbc0234f",
   "metadata": {
    "papermill": {
     "duration": 0.027924,
     "end_time": "2021-04-28T22:27:16.575188",
     "exception": false,
     "start_time": "2021-04-28T22:27:16.547264",
     "status": "completed"
    },
    "tags": []
   },
   "outputs": [],
   "source": [
    "%load_ext autoreload\n",
    "%autoreload 2"
   ]
  },
  {
   "cell_type": "code",
   "execution_count": 2,
   "id": "1d5f5a59",
   "metadata": {
    "papermill": {
     "duration": 0.461025,
     "end_time": "2021-04-28T22:27:17.051883",
     "exception": false,
     "start_time": "2021-04-28T22:27:16.590858",
     "status": "completed"
    },
    "tags": []
   },
   "outputs": [],
   "source": [
    "# from random import sample, seed\n",
    "# import warnings\n",
    "from pathlib import Path\n",
    "import pickle\n",
    "\n",
    "import numpy as np\n",
    "\n",
    "# from scipy.spatial.distance import squareform\n",
    "import pandas as pd\n",
    "from tqdm import tqdm\n",
    "\n",
    "# import matplotlib.pyplot as plt\n",
    "# import seaborn as sns\n",
    "\n",
    "import conf\n",
    "from entity import Gene"
   ]
  },
  {
   "cell_type": "markdown",
   "id": "1eac24b5",
   "metadata": {
    "papermill": {
     "duration": 0.01618,
     "end_time": "2021-04-28T22:27:17.085464",
     "exception": false,
     "start_time": "2021-04-28T22:27:17.069284",
     "status": "completed"
    },
    "tags": []
   },
   "source": [
    "# Settings"
   ]
  },
  {
   "cell_type": "code",
   "execution_count": 3,
   "id": "ca4560ba",
   "metadata": {
    "tags": [
     "parameters"
    ]
   },
   "outputs": [],
   "source": [
    "# a cohort name (it could be something like UK_BIOBANK, etc)\n",
    "COHORT_NAME = \"1000G_EUR\"\n",
    "\n",
    "# a string with a path pointing to an imputed GWAS\n",
    "GWAS_FILE = None\n",
    "\n",
    "# a string with a path pointing where S-PrediXcan results (tissue-specific are located\n",
    "SPREDIXCAN_FOLDER = None\n",
    "\n",
    "# an f-string with one placeholder {tissue}\n",
    "SPREDIXCAN_FILE_PATTERN = None\n",
    "\n",
    "# a string with a path pointing to an S-MultiXcan result\n",
    "SMULTIXCAN_FILE = None\n",
    "\n",
    "# predictions models such as MASHR or ELASTIC_NET\n",
    "EQTL_MODEL = None"
   ]
  },
  {
   "cell_type": "code",
   "execution_count": 4,
   "id": "fd2e2614-223b-4cad-ab40-a49e32f391f7",
   "metadata": {
    "lines_to_next_cell": 2,
    "papermill": {
     "duration": 0.023645,
     "end_time": "2022-07-21T20:07:34.210009",
     "exception": false,
     "start_time": "2022-07-21T20:07:34.186364",
     "status": "completed"
    },
    "tags": [
     "injected-parameters"
    ]
   },
   "outputs": [],
   "source": [
    "# FIXME: remove later\n",
    "# Parameters\n",
    "COHORT_NAME = \"1000G_EUR\"\n",
    "GWAS_FILE = \"/opt/data/results/gls/null_sims/final_imputed_gwas/random.pheno0.glm-imputed.txt.gz\"\n",
    "SPREDIXCAN_FOLDER = \"/opt/data/results/gls/null_sims/twas/spredixcan/\"\n",
    "SPREDIXCAN_FILE_PATTERN = \"random.pheno0-gtex_v8-mashr-{tissue}.csv\"\n",
    "SMULTIXCAN_FILE = \"/opt/data/results/gls/null_sims/twas/smultixcan/random.pheno0-gtex_v8-mashr-smultixcan.txt\"\n",
    "EQTL_MODEL = \"MASHR\""
   ]
  },
  {
   "cell_type": "code",
   "execution_count": 5,
   "id": "8fe24bef",
   "metadata": {},
   "outputs": [
    {
     "data": {
      "text/plain": [
       "'Cohort name: 1000g_eur'"
      ]
     },
     "metadata": {},
     "output_type": "display_data"
    }
   ],
   "source": [
    "assert COHORT_NAME is not None or len(COHORT_NAME) == 0, \"A cohort name must be given\"\n",
    "\n",
    "COHORT_NAME = COHORT_NAME.lower()\n",
    "display(f\"Cohort name: {COHORT_NAME}\")"
   ]
  },
  {
   "cell_type": "code",
   "execution_count": 6,
   "id": "7a970044-2d34-4e5b-a850-eff44079afe8",
   "metadata": {},
   "outputs": [
    {
     "data": {
      "text/plain": [
       "'GWAS file path: /opt/data/results/gls/null_sims/final_imputed_gwas/random.pheno0.glm-imputed.txt.gz'"
      ]
     },
     "metadata": {},
     "output_type": "display_data"
    }
   ],
   "source": [
    "assert GWAS_FILE is not None or len(GWAS_FILE) == 0, \"A GWAS file path must be given\"\n",
    "GWAS_FILE = Path(GWAS_FILE).resolve()\n",
    "assert GWAS_FILE.exists(), \"GWAS file does not exist\"\n",
    "\n",
    "display(f\"GWAS file path: {str(GWAS_FILE)}\")"
   ]
  },
  {
   "cell_type": "code",
   "execution_count": 7,
   "id": "552a7f63-a18c-4d3e-bb6a-94f99b431291",
   "metadata": {},
   "outputs": [
    {
     "data": {
      "text/plain": [
       "'S-PrediXcan folder path: /opt/data/results/gls/null_sims/twas/spredixcan'"
      ]
     },
     "metadata": {},
     "output_type": "display_data"
    }
   ],
   "source": [
    "assert (\n",
    "    SPREDIXCAN_FOLDER is not None or len(SPREDIXCAN_FOLDER) == 0\n",
    "), \"An S-PrediXcan folder path must be given\"\n",
    "SPREDIXCAN_FOLDER = Path(SPREDIXCAN_FOLDER).resolve()\n",
    "assert SPREDIXCAN_FOLDER.exists(), \"S-PrediXcan folder does not exist\"\n",
    "\n",
    "display(f\"S-PrediXcan folder path: {str(SPREDIXCAN_FOLDER)}\")"
   ]
  },
  {
   "cell_type": "code",
   "execution_count": 8,
   "id": "6e2000dc-f1dc-4db8-93d5-9a7209a2e121",
   "metadata": {},
   "outputs": [
    {
     "data": {
      "text/plain": [
       "'S-PrediXcan file template: random.pheno0-gtex_v8-mashr-{tissue}.csv'"
      ]
     },
     "metadata": {},
     "output_type": "display_data"
    }
   ],
   "source": [
    "assert (\n",
    "    SPREDIXCAN_FILE_PATTERN is not None or len(SPREDIXCAN_FILE_PATTERN) == 0\n",
    "), \"An S-PrediXcan file pattern must be given\"\n",
    "assert (\n",
    "    \"{tissue}\" in SPREDIXCAN_FILE_PATTERN\n",
    "), \"S-PrediXcan file pattern must have a '{tissue}' placeholder\"\n",
    "\n",
    "display(f\"S-PrediXcan file template: {SPREDIXCAN_FILE_PATTERN}\")"
   ]
  },
  {
   "cell_type": "code",
   "execution_count": 9,
   "id": "f5a5aa9d-c6f3-4fb5-9351-37382b6e67bc",
   "metadata": {},
   "outputs": [
    {
     "data": {
      "text/plain": [
       "'S-MultiXcan file path: /opt/data/results/gls/null_sims/twas/smultixcan/random.pheno0-gtex_v8-mashr-smultixcan.txt'"
      ]
     },
     "metadata": {},
     "output_type": "display_data"
    }
   ],
   "source": [
    "assert (\n",
    "    SMULTIXCAN_FILE is not None or len(SMULTIXCAN_FILE) == 0\n",
    "), \"An S-MultiXcan result file path must be given\"\n",
    "SMULTIXCAN_FILE = Path(SMULTIXCAN_FILE).resolve()\n",
    "assert SMULTIXCAN_FILE.exists(), \"S-MultiXcan result file does not exist\"\n",
    "\n",
    "display(f\"S-MultiXcan file path: {str(SMULTIXCAN_FILE)}\")"
   ]
  },
  {
   "cell_type": "code",
   "execution_count": 10,
   "id": "0723dc2f-34d1-407c-a55b-d6d13c55d63d",
   "metadata": {},
   "outputs": [
    {
     "data": {
      "text/plain": [
       "'Using eQTL model: MASHR'"
      ]
     },
     "metadata": {},
     "output_type": "display_data"
    }
   ],
   "source": [
    "assert (\n",
    "    EQTL_MODEL is not None or len(EQTL_MODEL) == 0\n",
    "), \"An S-MultiXcan result file path must be given\"\n",
    "\n",
    "# EQTL_MODEL_FILES_PREFIX = conf.PHENOMEXCAN[\"PREDICTION_MODELS\"][f\"{EQTL_MODEL}_PREFIX\"]\n",
    "display(f\"Using eQTL model: {EQTL_MODEL}\")  # / {EQTL_MODEL_FILES_PREFIX}\")"
   ]
  },
  {
   "cell_type": "code",
   "execution_count": 11,
   "id": "396392dc-0340-4540-9b02-e182b833f909",
   "metadata": {},
   "outputs": [
    {
     "data": {
      "text/plain": [
       "'Using output dir base: /opt/data/results/gls/cohorts_config/1000g_eur'"
      ]
     },
     "metadata": {},
     "output_type": "display_data"
    }
   ],
   "source": [
    "OUTPUT_DIR_BASE = conf.RESULTS[\"GLS\"] / \"gene_corrs\" / \"cohorts\" / COHORT_NAME\n",
    "OUTPUT_DIR_BASE.mkdir(parents=True, exist_ok=True)\n",
    "\n",
    "display(f\"Using output dir base: {OUTPUT_DIR_BASE}\")"
   ]
  },
  {
   "cell_type": "markdown",
   "id": "b6ebb422-8204-494b-8c72-360a71ce9863",
   "metadata": {
    "papermill": {
     "duration": 0.016156,
     "end_time": "2021-04-28T22:27:17.704727",
     "exception": false,
     "start_time": "2021-04-28T22:27:17.688571",
     "status": "completed"
    },
    "tags": []
   },
   "source": [
    "## Load MultiPLIER Z genes"
   ]
  },
  {
   "cell_type": "code",
   "execution_count": 12,
   "id": "c48ef527",
   "metadata": {
    "papermill": {
     "duration": 0.050172,
     "end_time": "2021-04-28T22:27:17.770996",
     "exception": false,
     "start_time": "2021-04-28T22:27:17.720824",
     "status": "completed"
    },
    "tags": []
   },
   "outputs": [],
   "source": [
    "multiplier_z_genes = pd.read_pickle(\n",
    "    conf.MULTIPLIER[\"MODEL_Z_MATRIX_FILE\"]\n",
    ").index.tolist()"
   ]
  },
  {
   "cell_type": "code",
   "execution_count": 13,
   "id": "0a4ecbd9",
   "metadata": {
    "papermill": {
     "duration": 0.027596,
     "end_time": "2021-04-28T22:27:17.819065",
     "exception": false,
     "start_time": "2021-04-28T22:27:17.791469",
     "status": "completed"
    },
    "tags": []
   },
   "outputs": [
    {
     "data": {
      "text/plain": [
       "6750"
      ]
     },
     "execution_count": 13,
     "metadata": {},
     "output_type": "execute_result"
    }
   ],
   "source": [
    "len(multiplier_z_genes)"
   ]
  },
  {
   "cell_type": "code",
   "execution_count": 14,
   "id": "a18ce359-0759-4260-ae6f-053e8c0041b7",
   "metadata": {},
   "outputs": [],
   "source": [
    "assert len(multiplier_z_genes) == len(set(multiplier_z_genes))"
   ]
  },
  {
   "cell_type": "code",
   "execution_count": 15,
   "id": "115e8864",
   "metadata": {
    "papermill": {
     "duration": 0.027396,
     "end_time": "2021-04-28T22:27:17.863147",
     "exception": false,
     "start_time": "2021-04-28T22:27:17.835751",
     "status": "completed"
    },
    "tags": []
   },
   "outputs": [
    {
     "data": {
      "text/plain": [
       "['GAS6', 'MMP14', 'DSP', 'MARCKSL1', 'SPARC']"
      ]
     },
     "execution_count": 15,
     "metadata": {},
     "output_type": "execute_result"
    }
   ],
   "source": [
    "multiplier_z_genes[:5]"
   ]
  },
  {
   "cell_type": "markdown",
   "id": "7bed0ce0-e7c7-4300-9a61-5412450b1904",
   "metadata": {
    "papermill": {
     "duration": 0.006254,
     "end_time": "2022-07-11T00:59:29.336579",
     "exception": false,
     "start_time": "2022-07-11T00:59:29.330325",
     "status": "completed"
    },
    "tags": []
   },
   "source": [
    "# GWAS"
   ]
  },
  {
   "cell_type": "code",
   "execution_count": 16,
   "id": "331e5691-c014-43e4-b94c-060c64d329df",
   "metadata": {},
   "outputs": [],
   "source": [
    "gwas_file_columns = pd.read_csv(GWAS_FILE, sep=\"\\t\", nrows=2).columns\n",
    "assert (\n",
    "    \"panel_variant_id\" in gwas_file_columns\n",
    "), \"GWAS file must be final imputed one with column 'panel_variant_id'\"\n",
    "# FIXME: add other needed columns here"
   ]
  },
  {
   "cell_type": "code",
   "execution_count": 17,
   "id": "8d419629-8f4d-4c83-bed3-cfc071a58090",
   "metadata": {},
   "outputs": [],
   "source": [
    "gwas_data = pd.read_csv(\n",
    "    GWAS_FILE,\n",
    "    sep=\"\\t\",\n",
    "    usecols=[\"panel_variant_id\", \"pvalue\", \"zscore\", \"imputation_status\"],\n",
    ")"
   ]
  },
  {
   "cell_type": "code",
   "execution_count": 18,
   "id": "3f4e814e-6b41-407e-9099-86795eec6ed9",
   "metadata": {},
   "outputs": [
    {
     "data": {
      "text/plain": [
       "(8339505, 4)"
      ]
     },
     "execution_count": 18,
     "metadata": {},
     "output_type": "execute_result"
    }
   ],
   "source": [
    "gwas_data.shape"
   ]
  },
  {
   "cell_type": "code",
   "execution_count": 19,
   "id": "b4a906e9-c80a-47fc-9d73-5adb046f8b76",
   "metadata": {},
   "outputs": [
    {
     "data": {
      "text/html": [
       "<div>\n",
       "<style scoped>\n",
       "    .dataframe tbody tr th:only-of-type {\n",
       "        vertical-align: middle;\n",
       "    }\n",
       "\n",
       "    .dataframe tbody tr th {\n",
       "        vertical-align: top;\n",
       "    }\n",
       "\n",
       "    .dataframe thead th {\n",
       "        text-align: right;\n",
       "    }\n",
       "</style>\n",
       "<table border=\"1\" class=\"dataframe\">\n",
       "  <thead>\n",
       "    <tr style=\"text-align: right;\">\n",
       "      <th></th>\n",
       "      <th>panel_variant_id</th>\n",
       "      <th>zscore</th>\n",
       "      <th>pvalue</th>\n",
       "      <th>imputation_status</th>\n",
       "    </tr>\n",
       "  </thead>\n",
       "  <tbody>\n",
       "    <tr>\n",
       "      <th>0</th>\n",
       "      <td>chr1_54490_G_A_b38</td>\n",
       "      <td>1.567452</td>\n",
       "      <td>0.117009</td>\n",
       "      <td>original</td>\n",
       "    </tr>\n",
       "    <tr>\n",
       "      <th>1</th>\n",
       "      <td>chr1_87021_T_C_b38</td>\n",
       "      <td>0.244372</td>\n",
       "      <td>0.806943</td>\n",
       "      <td>imputed</td>\n",
       "    </tr>\n",
       "    <tr>\n",
       "      <th>2</th>\n",
       "      <td>chr1_263722_C_G_b38</td>\n",
       "      <td>1.155239</td>\n",
       "      <td>0.247993</td>\n",
       "      <td>imputed</td>\n",
       "    </tr>\n",
       "    <tr>\n",
       "      <th>3</th>\n",
       "      <td>chr1_594402_C_T_b38</td>\n",
       "      <td>0.851234</td>\n",
       "      <td>0.394639</td>\n",
       "      <td>imputed</td>\n",
       "    </tr>\n",
       "    <tr>\n",
       "      <th>4</th>\n",
       "      <td>chr1_630555_C_T_b38</td>\n",
       "      <td>0.855129</td>\n",
       "      <td>0.392480</td>\n",
       "      <td>imputed</td>\n",
       "    </tr>\n",
       "  </tbody>\n",
       "</table>\n",
       "</div>"
      ],
      "text/plain": [
       "      panel_variant_id    zscore    pvalue imputation_status\n",
       "0   chr1_54490_G_A_b38  1.567452  0.117009          original\n",
       "1   chr1_87021_T_C_b38  0.244372  0.806943           imputed\n",
       "2  chr1_263722_C_G_b38  1.155239  0.247993           imputed\n",
       "3  chr1_594402_C_T_b38  0.851234  0.394639           imputed\n",
       "4  chr1_630555_C_T_b38  0.855129  0.392480           imputed"
      ]
     },
     "execution_count": 19,
     "metadata": {},
     "output_type": "execute_result"
    }
   ],
   "source": [
    "gwas_data.head()"
   ]
  },
  {
   "cell_type": "code",
   "execution_count": 20,
   "id": "346e2f88-44c6-4067-8752-118e2491f6fa",
   "metadata": {},
   "outputs": [
    {
     "data": {
      "text/plain": [
       "array(['original', 'imputed'], dtype=object)"
      ]
     },
     "execution_count": 20,
     "metadata": {},
     "output_type": "execute_result"
    }
   ],
   "source": [
    "gwas_data[\"imputation_status\"].unique()"
   ]
  },
  {
   "cell_type": "code",
   "execution_count": 21,
   "id": "033c24fb-9c60-4ffd-929e-b0e6089820ae",
   "metadata": {},
   "outputs": [
    {
     "data": {
      "text/plain": [
       "(8339505, 4)"
      ]
     },
     "execution_count": 21,
     "metadata": {},
     "output_type": "execute_result"
    }
   ],
   "source": [
    "gwas_data.dropna().shape"
   ]
  },
  {
   "cell_type": "code",
   "execution_count": 22,
   "id": "28232ce5-0afd-464e-9be3-64c3a68c2b25",
   "metadata": {},
   "outputs": [],
   "source": [
    "# remove SNPs with no results\n",
    "gwas_data = gwas_data.dropna()"
   ]
  },
  {
   "cell_type": "code",
   "execution_count": 23,
   "id": "d9a6c31f-eedd-43e5-b762-5a9663be1b77",
   "metadata": {},
   "outputs": [
    {
     "data": {
      "text/plain": [
       "(8339505, 4)"
      ]
     },
     "execution_count": 23,
     "metadata": {},
     "output_type": "execute_result"
    }
   ],
   "source": [
    "gwas_data.shape"
   ]
  },
  {
   "cell_type": "markdown",
   "id": "8da344de-2aa5-48a9-98ec-e8c3397ae7e6",
   "metadata": {
    "papermill": {
     "duration": 0.016403,
     "end_time": "2021-04-28T22:27:17.896463",
     "exception": false,
     "start_time": "2021-04-28T22:27:17.880060",
     "status": "completed"
    },
    "tags": []
   },
   "source": [
    "## Save GWAS variants"
   ]
  },
  {
   "cell_type": "code",
   "execution_count": 24,
   "id": "ac11fb33-ea3c-4d5c-a90b-0ceebdac43d3",
   "metadata": {},
   "outputs": [
    {
     "data": {
      "text/html": [
       "<div>\n",
       "<style scoped>\n",
       "    .dataframe tbody tr th:only-of-type {\n",
       "        vertical-align: middle;\n",
       "    }\n",
       "\n",
       "    .dataframe tbody tr th {\n",
       "        vertical-align: top;\n",
       "    }\n",
       "\n",
       "    .dataframe thead th {\n",
       "        text-align: right;\n",
       "    }\n",
       "</style>\n",
       "<table border=\"1\" class=\"dataframe\">\n",
       "  <thead>\n",
       "    <tr style=\"text-align: right;\">\n",
       "      <th></th>\n",
       "      <th>panel_variant_id</th>\n",
       "      <th>zscore</th>\n",
       "      <th>pvalue</th>\n",
       "      <th>imputation_status</th>\n",
       "    </tr>\n",
       "  </thead>\n",
       "  <tbody>\n",
       "    <tr>\n",
       "      <th>0</th>\n",
       "      <td>chr1_54490_G_A_b38</td>\n",
       "      <td>1.567452</td>\n",
       "      <td>0.117009</td>\n",
       "      <td>original</td>\n",
       "    </tr>\n",
       "    <tr>\n",
       "      <th>1</th>\n",
       "      <td>chr1_87021_T_C_b38</td>\n",
       "      <td>0.244372</td>\n",
       "      <td>0.806943</td>\n",
       "      <td>imputed</td>\n",
       "    </tr>\n",
       "    <tr>\n",
       "      <th>2</th>\n",
       "      <td>chr1_263722_C_G_b38</td>\n",
       "      <td>1.155239</td>\n",
       "      <td>0.247993</td>\n",
       "      <td>imputed</td>\n",
       "    </tr>\n",
       "    <tr>\n",
       "      <th>3</th>\n",
       "      <td>chr1_594402_C_T_b38</td>\n",
       "      <td>0.851234</td>\n",
       "      <td>0.394639</td>\n",
       "      <td>imputed</td>\n",
       "    </tr>\n",
       "    <tr>\n",
       "      <th>4</th>\n",
       "      <td>chr1_630555_C_T_b38</td>\n",
       "      <td>0.855129</td>\n",
       "      <td>0.392480</td>\n",
       "      <td>imputed</td>\n",
       "    </tr>\n",
       "  </tbody>\n",
       "</table>\n",
       "</div>"
      ],
      "text/plain": [
       "      panel_variant_id    zscore    pvalue imputation_status\n",
       "0   chr1_54490_G_A_b38  1.567452  0.117009          original\n",
       "1   chr1_87021_T_C_b38  0.244372  0.806943           imputed\n",
       "2  chr1_263722_C_G_b38  1.155239  0.247993           imputed\n",
       "3  chr1_594402_C_T_b38  0.851234  0.394639           imputed\n",
       "4  chr1_630555_C_T_b38  0.855129  0.392480           imputed"
      ]
     },
     "execution_count": 24,
     "metadata": {},
     "output_type": "execute_result"
    }
   ],
   "source": [
    "gwas_data.head()"
   ]
  },
  {
   "cell_type": "code",
   "execution_count": 25,
   "id": "5f34bb3d-761a-4860-a179-77ea5f5784ad",
   "metadata": {},
   "outputs": [],
   "source": [
    "assert gwas_data[\"panel_variant_id\"].is_unique"
   ]
  },
  {
   "cell_type": "code",
   "execution_count": 26,
   "id": "d4f23b2f-01a3-4a45-a2b6-31b245b5778e",
   "metadata": {},
   "outputs": [
    {
     "data": {
      "text/plain": [
       "['chr18_73448521_G_A_b38',\n",
       " 'chr1_17272189_T_C_b38',\n",
       " 'chr2_102935850_C_G_b38',\n",
       " 'chr12_82820306_A_G_b38',\n",
       " 'chr14_73951885_G_A_b38']"
      ]
     },
     "execution_count": 26,
     "metadata": {},
     "output_type": "execute_result"
    }
   ],
   "source": [
    "gwas_variants_ids_set = frozenset(gwas_data[\"panel_variant_id\"])\n",
    "list(gwas_variants_ids_set)[:5]"
   ]
  },
  {
   "cell_type": "code",
   "execution_count": 27,
   "id": "b4a441df-07d7-48dc-be36-cdb3f92be651",
   "metadata": {},
   "outputs": [],
   "source": [
    "with open(OUTPUT_DIR_BASE / \"gwas_variant_ids.pkl\", \"wb\") as handle:\n",
    "    pickle.dump(gwas_variants_ids_set, handle, protocol=pickle.HIGHEST_PROTOCOL)"
   ]
  },
  {
   "cell_type": "markdown",
   "id": "abcc4b3d",
   "metadata": {
    "papermill": {
     "duration": 0.016156,
     "end_time": "2021-04-28T22:27:17.704727",
     "exception": false,
     "start_time": "2021-04-28T22:27:17.688571",
     "status": "completed"
    },
    "tags": []
   },
   "source": [
    "# TWAS"
   ]
  },
  {
   "cell_type": "markdown",
   "id": "2fbc7358-0563-4fc6-bc47-a0fbcc5cdfd4",
   "metadata": {
    "papermill": {
     "duration": 0.016156,
     "end_time": "2021-04-28T22:27:17.704727",
     "exception": false,
     "start_time": "2021-04-28T22:27:17.688571",
     "status": "completed"
    },
    "tags": []
   },
   "source": [
    "## Available tissues for eQTL model"
   ]
  },
  {
   "cell_type": "code",
   "execution_count": 28,
   "id": "f32c0a84-030a-436b-b597-852b6150d2ac",
   "metadata": {},
   "outputs": [],
   "source": [
    "prediction_model_tissues = conf.PHENOMEXCAN[\"PREDICTION_MODELS\"][\n",
    "    f\"{EQTL_MODEL}_TISSUES\"\n",
    "].split(\" \")"
   ]
  },
  {
   "cell_type": "code",
   "execution_count": 29,
   "id": "0e760d0e-f23d-4590-abfb-811a43f7c237",
   "metadata": {},
   "outputs": [
    {
     "data": {
      "text/plain": [
       "49"
      ]
     },
     "execution_count": 29,
     "metadata": {},
     "output_type": "execute_result"
    }
   ],
   "source": [
    "len(prediction_model_tissues)"
   ]
  },
  {
   "cell_type": "code",
   "execution_count": 30,
   "id": "fa4d942c-cd67-4b31-9491-585c887c0ee3",
   "metadata": {},
   "outputs": [
    {
     "data": {
      "text/plain": [
       "['Skin_Not_Sun_Exposed_Suprapubic',\n",
       " 'Cells_EBV-transformed_lymphocytes',\n",
       " 'Brain_Frontal_Cortex_BA9',\n",
       " 'Kidney_Cortex',\n",
       " 'Brain_Substantia_nigra']"
      ]
     },
     "execution_count": 30,
     "metadata": {},
     "output_type": "execute_result"
    }
   ],
   "source": [
    "prediction_model_tissues[:5]"
   ]
  },
  {
   "cell_type": "markdown",
   "id": "5b9f384a-5a91-4a8d-9007-cfe43f2d86f8",
   "metadata": {
    "papermill": {
     "duration": 0.016156,
     "end_time": "2021-04-28T22:27:17.704727",
     "exception": false,
     "start_time": "2021-04-28T22:27:17.688571",
     "status": "completed"
    },
    "tags": []
   },
   "source": [
    "## S-PrediXcan results"
   ]
  },
  {
   "cell_type": "markdown",
   "id": "fc0a2a4c-960c-4a0a-9b23-b66c3d5d6e07",
   "metadata": {
    "papermill": {
     "duration": 0.016156,
     "end_time": "2021-04-28T22:27:17.704727",
     "exception": false,
     "start_time": "2021-04-28T22:27:17.688571",
     "status": "completed"
    },
    "tags": []
   },
   "source": [
    "### Load results across all tissues"
   ]
  },
  {
   "cell_type": "code",
   "execution_count": 31,
   "id": "0b4867d7-a608-4b08-9d77-1782be3a0c94",
   "metadata": {},
   "outputs": [],
   "source": [
    "spredixcan_result_files = {\n",
    "    t: SPREDIXCAN_FOLDER / SPREDIXCAN_FILE_PATTERN.format(tissue=t)\n",
    "    for t in prediction_model_tissues\n",
    "}"
   ]
  },
  {
   "cell_type": "code",
   "execution_count": 32,
   "id": "0ce270dd-46ac-4eaa-9d86-2b201d67d82f",
   "metadata": {},
   "outputs": [
    {
     "data": {
      "text/plain": [
       "[PosixPath('/opt/data/results/gls/null_sims/twas/spredixcan/random.pheno0-gtex_v8-mashr-Skin_Not_Sun_Exposed_Suprapubic.csv'),\n",
       " PosixPath('/opt/data/results/gls/null_sims/twas/spredixcan/random.pheno0-gtex_v8-mashr-Cells_EBV-transformed_lymphocytes.csv'),\n",
       " PosixPath('/opt/data/results/gls/null_sims/twas/spredixcan/random.pheno0-gtex_v8-mashr-Brain_Frontal_Cortex_BA9.csv'),\n",
       " PosixPath('/opt/data/results/gls/null_sims/twas/spredixcan/random.pheno0-gtex_v8-mashr-Kidney_Cortex.csv'),\n",
       " PosixPath('/opt/data/results/gls/null_sims/twas/spredixcan/random.pheno0-gtex_v8-mashr-Brain_Substantia_nigra.csv')]"
      ]
     },
     "metadata": {},
     "output_type": "display_data"
    }
   ],
   "source": [
    "assert len(spredixcan_result_files) == len(prediction_model_tissues)\n",
    "display(list(spredixcan_result_files.values())[:5])"
   ]
  },
  {
   "cell_type": "code",
   "execution_count": 33,
   "id": "4381b9ff-6ab5-47f1-89d1-560f88fdf07f",
   "metadata": {},
   "outputs": [],
   "source": [
    "assert all(f.exists() for f in spredixcan_result_files.values())"
   ]
  },
  {
   "cell_type": "code",
   "execution_count": 34,
   "id": "d477157f-51e9-4c7c-b826-7ab5f4fdf3e3",
   "metadata": {},
   "outputs": [],
   "source": [
    "spredixcan_dfs = [\n",
    "    pd.read_csv(f, usecols=[\"gene\", \"zscore\", \"pvalue\"]).dropna().assign(tissue=t)\n",
    "    for t, f in spredixcan_result_files.items()\n",
    "]"
   ]
  },
  {
   "cell_type": "code",
   "execution_count": 35,
   "id": "9730bd37-b769-411f-bb6b-bb658d1ff88c",
   "metadata": {},
   "outputs": [],
   "source": [
    "assert len(spredixcan_dfs) == len(prediction_model_tissues)"
   ]
  },
  {
   "cell_type": "code",
   "execution_count": 36,
   "id": "bcd73f53-1283-4ff6-bbb5-25fb71f5cb72",
   "metadata": {},
   "outputs": [],
   "source": [
    "spredixcan_dfs = pd.concat(spredixcan_dfs)"
   ]
  },
  {
   "cell_type": "code",
   "execution_count": 37,
   "id": "ae99c7b5-14fc-4b39-a6b2-40fc703acd0a",
   "metadata": {},
   "outputs": [],
   "source": [
    "assert spredixcan_dfs[\"tissue\"].unique().shape[0] == len(prediction_model_tissues)"
   ]
  },
  {
   "cell_type": "code",
   "execution_count": 38,
   "id": "b7223a23-e40f-4cd3-8988-72033f8739bd",
   "metadata": {},
   "outputs": [
    {
     "data": {
      "text/plain": [
       "(653140, 4)"
      ]
     },
     "execution_count": 38,
     "metadata": {},
     "output_type": "execute_result"
    }
   ],
   "source": [
    "spredixcan_dfs.shape"
   ]
  },
  {
   "cell_type": "code",
   "execution_count": 39,
   "id": "6b47d026-01c0-4f7c-a90e-f0baa13235f4",
   "metadata": {},
   "outputs": [
    {
     "data": {
      "text/html": [
       "<div>\n",
       "<style scoped>\n",
       "    .dataframe tbody tr th:only-of-type {\n",
       "        vertical-align: middle;\n",
       "    }\n",
       "\n",
       "    .dataframe tbody tr th {\n",
       "        vertical-align: top;\n",
       "    }\n",
       "\n",
       "    .dataframe thead th {\n",
       "        text-align: right;\n",
       "    }\n",
       "</style>\n",
       "<table border=\"1\" class=\"dataframe\">\n",
       "  <thead>\n",
       "    <tr style=\"text-align: right;\">\n",
       "      <th></th>\n",
       "      <th>gene</th>\n",
       "      <th>zscore</th>\n",
       "      <th>pvalue</th>\n",
       "      <th>tissue</th>\n",
       "    </tr>\n",
       "  </thead>\n",
       "  <tbody>\n",
       "    <tr>\n",
       "      <th>0</th>\n",
       "      <td>ENSG00000131236.16</td>\n",
       "      <td>-3.882684</td>\n",
       "      <td>0.000103</td>\n",
       "      <td>Skin_Not_Sun_Exposed_Suprapubic</td>\n",
       "    </tr>\n",
       "    <tr>\n",
       "      <th>1</th>\n",
       "      <td>ENSG00000196172.9</td>\n",
       "      <td>-3.710444</td>\n",
       "      <td>0.000207</td>\n",
       "      <td>Skin_Not_Sun_Exposed_Suprapubic</td>\n",
       "    </tr>\n",
       "    <tr>\n",
       "      <th>2</th>\n",
       "      <td>ENSG00000280789.1</td>\n",
       "      <td>3.403263</td>\n",
       "      <td>0.000666</td>\n",
       "      <td>Skin_Not_Sun_Exposed_Suprapubic</td>\n",
       "    </tr>\n",
       "    <tr>\n",
       "      <th>3</th>\n",
       "      <td>ENSG00000215218.3</td>\n",
       "      <td>3.385093</td>\n",
       "      <td>0.000712</td>\n",
       "      <td>Skin_Not_Sun_Exposed_Suprapubic</td>\n",
       "    </tr>\n",
       "    <tr>\n",
       "      <th>4</th>\n",
       "      <td>ENSG00000167371.17</td>\n",
       "      <td>3.381834</td>\n",
       "      <td>0.000720</td>\n",
       "      <td>Skin_Not_Sun_Exposed_Suprapubic</td>\n",
       "    </tr>\n",
       "  </tbody>\n",
       "</table>\n",
       "</div>"
      ],
      "text/plain": [
       "                 gene    zscore    pvalue                           tissue\n",
       "0  ENSG00000131236.16 -3.882684  0.000103  Skin_Not_Sun_Exposed_Suprapubic\n",
       "1   ENSG00000196172.9 -3.710444  0.000207  Skin_Not_Sun_Exposed_Suprapubic\n",
       "2   ENSG00000280789.1  3.403263  0.000666  Skin_Not_Sun_Exposed_Suprapubic\n",
       "3   ENSG00000215218.3  3.385093  0.000712  Skin_Not_Sun_Exposed_Suprapubic\n",
       "4  ENSG00000167371.17  3.381834  0.000720  Skin_Not_Sun_Exposed_Suprapubic"
      ]
     },
     "execution_count": 39,
     "metadata": {},
     "output_type": "execute_result"
    }
   ],
   "source": [
    "spredixcan_dfs.head()"
   ]
  },
  {
   "cell_type": "markdown",
   "id": "5ecfd141-ecb8-47cf-905e-25cc1b4d3f9d",
   "metadata": {
    "papermill": {
     "duration": 0.016156,
     "end_time": "2021-04-28T22:27:17.704727",
     "exception": false,
     "start_time": "2021-04-28T22:27:17.688571",
     "status": "completed"
    },
    "tags": []
   },
   "source": [
    "### Count number of tissues available per gene"
   ]
  },
  {
   "cell_type": "code",
   "execution_count": 40,
   "id": "86fe37e1-a303-4221-a12e-3a54a04dd510",
   "metadata": {},
   "outputs": [],
   "source": [
    "spredixcan_genes_n_models = spredixcan_dfs.groupby(\"gene\")[\"tissue\"].nunique()"
   ]
  },
  {
   "cell_type": "code",
   "execution_count": 41,
   "id": "31416d48-1e4d-463f-9a5c-34d29803c3f8",
   "metadata": {},
   "outputs": [
    {
     "data": {
      "text/plain": [
       "gene\n",
       "ENSG00000000419.12     2\n",
       "ENSG00000000457.13    48\n",
       "ENSG00000000460.16    39\n",
       "ENSG00000000938.12    36\n",
       "ENSG00000000971.15    34\n",
       "                      ..\n",
       "ENSG00000284430.1      6\n",
       "ENSG00000284452.1      1\n",
       "ENSG00000284513.1      1\n",
       "ENSG00000284526.1     42\n",
       "ENSG00000284552.1      1\n",
       "Name: tissue, Length: 22314, dtype: int64"
      ]
     },
     "execution_count": 41,
     "metadata": {},
     "output_type": "execute_result"
    }
   ],
   "source": [
    "spredixcan_genes_n_models"
   ]
  },
  {
   "cell_type": "markdown",
   "id": "904d7d30-9c2d-4c3e-b674-3f081954fe8b",
   "metadata": {
    "papermill": {
     "duration": 0.016156,
     "end_time": "2021-04-28T22:27:17.704727",
     "exception": false,
     "start_time": "2021-04-28T22:27:17.688571",
     "status": "completed"
    },
    "tags": []
   },
   "source": [
    "### Get tissues available per gene"
   ]
  },
  {
   "cell_type": "code",
   "execution_count": 42,
   "id": "cf014e81-4b4e-4c46-9265-67718b3ab08e",
   "metadata": {},
   "outputs": [],
   "source": [
    "spredixcan_genes_models = spredixcan_dfs.groupby(\"gene\")[\"tissue\"].apply(\n",
    "    lambda x: frozenset(x.tolist())\n",
    ")"
   ]
  },
  {
   "cell_type": "code",
   "execution_count": 43,
   "id": "5df09d7f-39c9-408f-9fef-5189e8ca1c87",
   "metadata": {},
   "outputs": [
    {
     "data": {
      "text/plain": [
       "gene\n",
       "ENSG00000000419.12         (Brain_Substantia_nigra, Brain_Hypothalamus)\n",
       "ENSG00000000457.13    (Thyroid, Artery_Aorta, Brain_Cerebellum, Esop...\n",
       "ENSG00000000460.16    (Thyroid, Artery_Aorta, Brain_Cerebellum, Esop...\n",
       "ENSG00000000938.12    (Thyroid, Artery_Aorta, Brain_Cerebellum, Esop...\n",
       "ENSG00000000971.15    (Thyroid, Artery_Aorta, Brain_Cerebellum, Esop...\n",
       "                                            ...                        \n",
       "ENSG00000284430.1     (Thyroid, Esophagus_Gastroesophageal_Junction,...\n",
       "ENSG00000284452.1                                              (Testis)\n",
       "ENSG00000284513.1                         (Brain_Cerebellar_Hemisphere)\n",
       "ENSG00000284526.1     (Thyroid, Esophagus_Muscularis, Nerve_Tibial, ...\n",
       "ENSG00000284552.1                                              (Spleen)\n",
       "Name: tissue, Length: 22314, dtype: object"
      ]
     },
     "execution_count": 43,
     "metadata": {},
     "output_type": "execute_result"
    }
   ],
   "source": [
    "spredixcan_genes_models"
   ]
  },
  {
   "cell_type": "code",
   "execution_count": 44,
   "id": "97c46886-5a48-4813-b890-1dcdb09ec09d",
   "metadata": {},
   "outputs": [],
   "source": [
    "assert spredixcan_genes_n_models.shape[0] == spredixcan_genes_models.shape[0]"
   ]
  },
  {
   "cell_type": "code",
   "execution_count": 45,
   "id": "abc13913-a681-4297-a0e6-dde62f43c36f",
   "metadata": {},
   "outputs": [],
   "source": [
    "assert spredixcan_genes_n_models.index.equals(spredixcan_genes_models.index)"
   ]
  },
  {
   "cell_type": "code",
   "execution_count": 46,
   "id": "995a02e7-b836-471b-b438-17c8c46e4fde",
   "metadata": {},
   "outputs": [],
   "source": [
    "assert (spredixcan_genes_models.apply(len) <= len(prediction_model_tissues)).all()"
   ]
  },
  {
   "cell_type": "code",
   "execution_count": 47,
   "id": "0c1d0c68-1a06-480c-b6d6-d3c4fdf0f5aa",
   "metadata": {},
   "outputs": [
    {
     "data": {
      "text/plain": [
       "count    22314.000000\n",
       "mean        29.270413\n",
       "std         17.208404\n",
       "min          1.000000\n",
       "25%         13.000000\n",
       "50%         35.000000\n",
       "75%         45.000000\n",
       "max         49.000000\n",
       "Name: tissue, dtype: float64"
      ]
     },
     "execution_count": 47,
     "metadata": {},
     "output_type": "execute_result"
    }
   ],
   "source": [
    "spredixcan_genes_models.apply(len).describe()"
   ]
  },
  {
   "cell_type": "code",
   "execution_count": 48,
   "id": "991b9441-6bb5-4b72-9285-5fd579875e40",
   "metadata": {},
   "outputs": [],
   "source": [
    "# testing\n",
    "assert (\n",
    "    spredixcan_genes_models.loc[spredixcan_genes_n_models.index]\n",
    "    .apply(len)\n",
    "    .equals(spredixcan_genes_n_models)\n",
    ")"
   ]
  },
  {
   "cell_type": "markdown",
   "id": "3042b22d-9d88-4e21-b112-ab23cf8d24ea",
   "metadata": {},
   "source": [
    "### Get simple gene id and add gene name"
   ]
  },
  {
   "cell_type": "code",
   "execution_count": 49,
   "id": "3b7b0e76-7aca-44bf-beff-5f1c1b6193ee",
   "metadata": {},
   "outputs": [],
   "source": [
    "spredixcan_genes_models = spredixcan_genes_models.to_frame().reset_index()"
   ]
  },
  {
   "cell_type": "code",
   "execution_count": 50,
   "id": "ffab4b61-c2d4-4bcc-a147-23a4bf30f715",
   "metadata": {},
   "outputs": [
    {
     "data": {
      "text/html": [
       "<div>\n",
       "<style scoped>\n",
       "    .dataframe tbody tr th:only-of-type {\n",
       "        vertical-align: middle;\n",
       "    }\n",
       "\n",
       "    .dataframe tbody tr th {\n",
       "        vertical-align: top;\n",
       "    }\n",
       "\n",
       "    .dataframe thead th {\n",
       "        text-align: right;\n",
       "    }\n",
       "</style>\n",
       "<table border=\"1\" class=\"dataframe\">\n",
       "  <thead>\n",
       "    <tr style=\"text-align: right;\">\n",
       "      <th></th>\n",
       "      <th>gene</th>\n",
       "      <th>tissue</th>\n",
       "    </tr>\n",
       "  </thead>\n",
       "  <tbody>\n",
       "    <tr>\n",
       "      <th>0</th>\n",
       "      <td>ENSG00000000419.12</td>\n",
       "      <td>(Brain_Substantia_nigra, Brain_Hypothalamus)</td>\n",
       "    </tr>\n",
       "    <tr>\n",
       "      <th>1</th>\n",
       "      <td>ENSG00000000457.13</td>\n",
       "      <td>(Thyroid, Artery_Aorta, Brain_Cerebellum, Esop...</td>\n",
       "    </tr>\n",
       "    <tr>\n",
       "      <th>2</th>\n",
       "      <td>ENSG00000000460.16</td>\n",
       "      <td>(Thyroid, Artery_Aorta, Brain_Cerebellum, Esop...</td>\n",
       "    </tr>\n",
       "    <tr>\n",
       "      <th>3</th>\n",
       "      <td>ENSG00000000938.12</td>\n",
       "      <td>(Thyroid, Artery_Aorta, Brain_Cerebellum, Esop...</td>\n",
       "    </tr>\n",
       "    <tr>\n",
       "      <th>4</th>\n",
       "      <td>ENSG00000000971.15</td>\n",
       "      <td>(Thyroid, Artery_Aorta, Brain_Cerebellum, Esop...</td>\n",
       "    </tr>\n",
       "  </tbody>\n",
       "</table>\n",
       "</div>"
      ],
      "text/plain": [
       "                 gene                                             tissue\n",
       "0  ENSG00000000419.12       (Brain_Substantia_nigra, Brain_Hypothalamus)\n",
       "1  ENSG00000000457.13  (Thyroid, Artery_Aorta, Brain_Cerebellum, Esop...\n",
       "2  ENSG00000000460.16  (Thyroid, Artery_Aorta, Brain_Cerebellum, Esop...\n",
       "3  ENSG00000000938.12  (Thyroid, Artery_Aorta, Brain_Cerebellum, Esop...\n",
       "4  ENSG00000000971.15  (Thyroid, Artery_Aorta, Brain_Cerebellum, Esop..."
      ]
     },
     "execution_count": 50,
     "metadata": {},
     "output_type": "execute_result"
    }
   ],
   "source": [
    "spredixcan_genes_models.head()"
   ]
  },
  {
   "cell_type": "code",
   "execution_count": 51,
   "id": "7462e77a-5436-420d-a551-ec61ef42ebf0",
   "metadata": {},
   "outputs": [],
   "source": [
    "spredixcan_genes_models = spredixcan_genes_models.assign(\n",
    "    gene_id=spredixcan_genes_models[\"gene\"].apply(lambda g: g.split(\".\")[0])\n",
    ")"
   ]
  },
  {
   "cell_type": "code",
   "execution_count": 52,
   "id": "25d6c953-4cc9-4cf6-b338-d4e653c2a231",
   "metadata": {},
   "outputs": [
    {
     "data": {
      "text/html": [
       "<div>\n",
       "<style scoped>\n",
       "    .dataframe tbody tr th:only-of-type {\n",
       "        vertical-align: middle;\n",
       "    }\n",
       "\n",
       "    .dataframe tbody tr th {\n",
       "        vertical-align: top;\n",
       "    }\n",
       "\n",
       "    .dataframe thead th {\n",
       "        text-align: right;\n",
       "    }\n",
       "</style>\n",
       "<table border=\"1\" class=\"dataframe\">\n",
       "  <thead>\n",
       "    <tr style=\"text-align: right;\">\n",
       "      <th></th>\n",
       "      <th>gene</th>\n",
       "      <th>tissue</th>\n",
       "      <th>gene_id</th>\n",
       "    </tr>\n",
       "  </thead>\n",
       "  <tbody>\n",
       "    <tr>\n",
       "      <th>0</th>\n",
       "      <td>ENSG00000000419.12</td>\n",
       "      <td>(Brain_Substantia_nigra, Brain_Hypothalamus)</td>\n",
       "      <td>ENSG00000000419</td>\n",
       "    </tr>\n",
       "    <tr>\n",
       "      <th>1</th>\n",
       "      <td>ENSG00000000457.13</td>\n",
       "      <td>(Thyroid, Artery_Aorta, Brain_Cerebellum, Esop...</td>\n",
       "      <td>ENSG00000000457</td>\n",
       "    </tr>\n",
       "    <tr>\n",
       "      <th>2</th>\n",
       "      <td>ENSG00000000460.16</td>\n",
       "      <td>(Thyroid, Artery_Aorta, Brain_Cerebellum, Esop...</td>\n",
       "      <td>ENSG00000000460</td>\n",
       "    </tr>\n",
       "    <tr>\n",
       "      <th>3</th>\n",
       "      <td>ENSG00000000938.12</td>\n",
       "      <td>(Thyroid, Artery_Aorta, Brain_Cerebellum, Esop...</td>\n",
       "      <td>ENSG00000000938</td>\n",
       "    </tr>\n",
       "    <tr>\n",
       "      <th>4</th>\n",
       "      <td>ENSG00000000971.15</td>\n",
       "      <td>(Thyroid, Artery_Aorta, Brain_Cerebellum, Esop...</td>\n",
       "      <td>ENSG00000000971</td>\n",
       "    </tr>\n",
       "  </tbody>\n",
       "</table>\n",
       "</div>"
      ],
      "text/plain": [
       "                 gene                                             tissue  \\\n",
       "0  ENSG00000000419.12       (Brain_Substantia_nigra, Brain_Hypothalamus)   \n",
       "1  ENSG00000000457.13  (Thyroid, Artery_Aorta, Brain_Cerebellum, Esop...   \n",
       "2  ENSG00000000460.16  (Thyroid, Artery_Aorta, Brain_Cerebellum, Esop...   \n",
       "3  ENSG00000000938.12  (Thyroid, Artery_Aorta, Brain_Cerebellum, Esop...   \n",
       "4  ENSG00000000971.15  (Thyroid, Artery_Aorta, Brain_Cerebellum, Esop...   \n",
       "\n",
       "           gene_id  \n",
       "0  ENSG00000000419  \n",
       "1  ENSG00000000457  \n",
       "2  ENSG00000000460  \n",
       "3  ENSG00000000938  \n",
       "4  ENSG00000000971  "
      ]
     },
     "execution_count": 52,
     "metadata": {},
     "output_type": "execute_result"
    }
   ],
   "source": [
    "spredixcan_genes_models.head()"
   ]
  },
  {
   "cell_type": "code",
   "execution_count": 53,
   "id": "e1cb2fe5-969f-4526-bca7-a3b8919b3509",
   "metadata": {},
   "outputs": [],
   "source": [
    "spredixcan_genes_models = spredixcan_genes_models.assign(\n",
    "    gene_name=spredixcan_genes_models[\"gene_id\"].apply(\n",
    "        lambda g: Gene.GENE_ID_TO_NAME_MAP[g]\n",
    "    )\n",
    ")"
   ]
  },
  {
   "cell_type": "code",
   "execution_count": 54,
   "id": "ff078ce5-3f18-442e-a593-3326436c758e",
   "metadata": {},
   "outputs": [],
   "source": [
    "spredixcan_genes_models = spredixcan_genes_models[[\"gene_id\", \"gene_name\", \"tissue\"]]"
   ]
  },
  {
   "cell_type": "code",
   "execution_count": 55,
   "id": "af6b40b9-fc58-47a1-a1b5-4404034b008b",
   "metadata": {},
   "outputs": [
    {
     "data": {
      "text/html": [
       "<div>\n",
       "<style scoped>\n",
       "    .dataframe tbody tr th:only-of-type {\n",
       "        vertical-align: middle;\n",
       "    }\n",
       "\n",
       "    .dataframe tbody tr th {\n",
       "        vertical-align: top;\n",
       "    }\n",
       "\n",
       "    .dataframe thead th {\n",
       "        text-align: right;\n",
       "    }\n",
       "</style>\n",
       "<table border=\"1\" class=\"dataframe\">\n",
       "  <thead>\n",
       "    <tr style=\"text-align: right;\">\n",
       "      <th></th>\n",
       "      <th>gene_id</th>\n",
       "      <th>gene_name</th>\n",
       "      <th>tissue</th>\n",
       "    </tr>\n",
       "  </thead>\n",
       "  <tbody>\n",
       "    <tr>\n",
       "      <th>0</th>\n",
       "      <td>ENSG00000000419</td>\n",
       "      <td>DPM1</td>\n",
       "      <td>(Brain_Substantia_nigra, Brain_Hypothalamus)</td>\n",
       "    </tr>\n",
       "    <tr>\n",
       "      <th>1</th>\n",
       "      <td>ENSG00000000457</td>\n",
       "      <td>SCYL3</td>\n",
       "      <td>(Thyroid, Artery_Aorta, Brain_Cerebellum, Esop...</td>\n",
       "    </tr>\n",
       "    <tr>\n",
       "      <th>2</th>\n",
       "      <td>ENSG00000000460</td>\n",
       "      <td>C1orf112</td>\n",
       "      <td>(Thyroid, Artery_Aorta, Brain_Cerebellum, Esop...</td>\n",
       "    </tr>\n",
       "    <tr>\n",
       "      <th>3</th>\n",
       "      <td>ENSG00000000938</td>\n",
       "      <td>FGR</td>\n",
       "      <td>(Thyroid, Artery_Aorta, Brain_Cerebellum, Esop...</td>\n",
       "    </tr>\n",
       "    <tr>\n",
       "      <th>4</th>\n",
       "      <td>ENSG00000000971</td>\n",
       "      <td>CFH</td>\n",
       "      <td>(Thyroid, Artery_Aorta, Brain_Cerebellum, Esop...</td>\n",
       "    </tr>\n",
       "  </tbody>\n",
       "</table>\n",
       "</div>"
      ],
      "text/plain": [
       "           gene_id gene_name  \\\n",
       "0  ENSG00000000419      DPM1   \n",
       "1  ENSG00000000457     SCYL3   \n",
       "2  ENSG00000000460  C1orf112   \n",
       "3  ENSG00000000938       FGR   \n",
       "4  ENSG00000000971       CFH   \n",
       "\n",
       "                                              tissue  \n",
       "0       (Brain_Substantia_nigra, Brain_Hypothalamus)  \n",
       "1  (Thyroid, Artery_Aorta, Brain_Cerebellum, Esop...  \n",
       "2  (Thyroid, Artery_Aorta, Brain_Cerebellum, Esop...  \n",
       "3  (Thyroid, Artery_Aorta, Brain_Cerebellum, Esop...  \n",
       "4  (Thyroid, Artery_Aorta, Brain_Cerebellum, Esop...  "
      ]
     },
     "execution_count": 55,
     "metadata": {},
     "output_type": "execute_result"
    }
   ],
   "source": [
    "spredixcan_genes_models.head()"
   ]
  },
  {
   "cell_type": "markdown",
   "id": "d6947d45-ea78-4c6b-bf71-f7413d1687e3",
   "metadata": {},
   "source": [
    "### Save"
   ]
  },
  {
   "cell_type": "code",
   "execution_count": 56,
   "id": "10e19441-8390-4eb1-8da4-24752597bb54",
   "metadata": {},
   "outputs": [],
   "source": [
    "spredixcan_genes_models.to_pickle(OUTPUT_DIR_BASE / \"gene_tissues.pkl\")"
   ]
  },
  {
   "cell_type": "markdown",
   "id": "d5b7f4ea-1844-420a-8037-53095f3823c5",
   "metadata": {
    "papermill": {
     "duration": 0.016156,
     "end_time": "2021-04-28T22:27:17.704727",
     "exception": false,
     "start_time": "2021-04-28T22:27:17.688571",
     "status": "completed"
    },
    "tags": []
   },
   "source": [
    "## S-MultiXcan results"
   ]
  },
  {
   "cell_type": "code",
   "execution_count": 57,
   "id": "2b73c11e-9aa2-410e-84b4-a70be34d02e4",
   "metadata": {},
   "outputs": [],
   "source": [
    "# TODO: something that could be interesting to do is to compare `n_indep` with the number of independent components I get\n",
    "smultixcan_results = pd.read_csv(\n",
    "    SMULTIXCAN_FILE, sep=\"\\t\", usecols=[\"gene\", \"gene_name\", \"pvalue\", \"n\"]\n",
    ")"
   ]
  },
  {
   "cell_type": "code",
   "execution_count": 58,
   "id": "8b5abebd-baab-4188-9e3d-655ebbe32401",
   "metadata": {},
   "outputs": [
    {
     "data": {
      "text/plain": [
       "(22317, 4)"
      ]
     },
     "execution_count": 58,
     "metadata": {},
     "output_type": "execute_result"
    }
   ],
   "source": [
    "smultixcan_results.shape"
   ]
  },
  {
   "cell_type": "code",
   "execution_count": 59,
   "id": "c65e233f-9ef6-4883-9386-7abf1d6d1cbd",
   "metadata": {},
   "outputs": [],
   "source": [
    "smultixcan_results = smultixcan_results.dropna()"
   ]
  },
  {
   "cell_type": "code",
   "execution_count": 60,
   "id": "57d2d311-4a42-4725-9e37-b124ed13ad33",
   "metadata": {},
   "outputs": [
    {
     "data": {
      "text/plain": [
       "(22314, 4)"
      ]
     },
     "execution_count": 60,
     "metadata": {},
     "output_type": "execute_result"
    }
   ],
   "source": [
    "smultixcan_results.shape"
   ]
  },
  {
   "cell_type": "code",
   "execution_count": 61,
   "id": "c49f62a9-a01a-44af-87da-47d195b0ef7e",
   "metadata": {},
   "outputs": [
    {
     "data": {
      "text/html": [
       "<div>\n",
       "<style scoped>\n",
       "    .dataframe tbody tr th:only-of-type {\n",
       "        vertical-align: middle;\n",
       "    }\n",
       "\n",
       "    .dataframe tbody tr th {\n",
       "        vertical-align: top;\n",
       "    }\n",
       "\n",
       "    .dataframe thead th {\n",
       "        text-align: right;\n",
       "    }\n",
       "</style>\n",
       "<table border=\"1\" class=\"dataframe\">\n",
       "  <thead>\n",
       "    <tr style=\"text-align: right;\">\n",
       "      <th></th>\n",
       "      <th>gene</th>\n",
       "      <th>gene_name</th>\n",
       "      <th>pvalue</th>\n",
       "      <th>n</th>\n",
       "    </tr>\n",
       "  </thead>\n",
       "  <tbody>\n",
       "    <tr>\n",
       "      <th>0</th>\n",
       "      <td>ENSG00000131941.7</td>\n",
       "      <td>RHPN2</td>\n",
       "      <td>0.000040</td>\n",
       "      <td>48.0</td>\n",
       "    </tr>\n",
       "    <tr>\n",
       "      <th>1</th>\n",
       "      <td>ENSG00000076650.6</td>\n",
       "      <td>GPATCH1</td>\n",
       "      <td>0.000078</td>\n",
       "      <td>40.0</td>\n",
       "    </tr>\n",
       "    <tr>\n",
       "      <th>2</th>\n",
       "      <td>ENSG00000100906.10</td>\n",
       "      <td>NFKBIA</td>\n",
       "      <td>0.000096</td>\n",
       "      <td>1.0</td>\n",
       "    </tr>\n",
       "    <tr>\n",
       "      <th>3</th>\n",
       "      <td>ENSG00000136319.11</td>\n",
       "      <td>TTC5</td>\n",
       "      <td>0.000109</td>\n",
       "      <td>47.0</td>\n",
       "    </tr>\n",
       "    <tr>\n",
       "      <th>4</th>\n",
       "      <td>ENSG00000152990.13</td>\n",
       "      <td>ADGRA3</td>\n",
       "      <td>0.000135</td>\n",
       "      <td>41.0</td>\n",
       "    </tr>\n",
       "  </tbody>\n",
       "</table>\n",
       "</div>"
      ],
      "text/plain": [
       "                 gene gene_name    pvalue     n\n",
       "0   ENSG00000131941.7     RHPN2  0.000040  48.0\n",
       "1   ENSG00000076650.6   GPATCH1  0.000078  40.0\n",
       "2  ENSG00000100906.10    NFKBIA  0.000096   1.0\n",
       "3  ENSG00000136319.11      TTC5  0.000109  47.0\n",
       "4  ENSG00000152990.13    ADGRA3  0.000135  41.0"
      ]
     },
     "execution_count": 61,
     "metadata": {},
     "output_type": "execute_result"
    }
   ],
   "source": [
    "smultixcan_results.head()"
   ]
  },
  {
   "cell_type": "code",
   "execution_count": 62,
   "id": "9c4c023c-86d6-4c4b-8d57-c2b6b93aaf84",
   "metadata": {},
   "outputs": [],
   "source": [
    "assert smultixcan_results[\"gene\"].is_unique"
   ]
  },
  {
   "cell_type": "code",
   "execution_count": 63,
   "id": "d737ad4f-f821-4546-9a3e-6703fe264b49",
   "metadata": {},
   "outputs": [],
   "source": [
    "# testing\n",
    "_tmp_smultixcan_results_n_models = (\n",
    "    smultixcan_results.set_index(\"gene\")[\"n\"].astype(int).rename(\"tissue\")\n",
    ")\n",
    "\n",
    "assert spredixcan_genes_n_models.shape[0] == _tmp_smultixcan_results_n_models.shape[0]\n",
    "assert spredixcan_genes_n_models.equals(\n",
    "    _tmp_smultixcan_results_n_models.loc[spredixcan_genes_n_models.index]\n",
    ")"
   ]
  },
  {
   "cell_type": "markdown",
   "id": "12f04660-3c26-4580-8372-7c29ee3ab7df",
   "metadata": {},
   "source": [
    "### Remove duplicated gene names"
   ]
  },
  {
   "cell_type": "code",
   "execution_count": 64,
   "id": "3db4cebf-7f10-4651-be4e-c50e65b855c5",
   "metadata": {},
   "outputs": [
    {
     "data": {
      "text/plain": [
       "False"
      ]
     },
     "execution_count": 64,
     "metadata": {},
     "output_type": "execute_result"
    }
   ],
   "source": [
    "smultixcan_results[\"gene_name\"].is_unique"
   ]
  },
  {
   "cell_type": "code",
   "execution_count": 65,
   "id": "359a302e-d9a9-4bce-bc45-89ab285d8ad5",
   "metadata": {},
   "outputs": [
    {
     "data": {
      "text/html": [
       "<div>\n",
       "<style scoped>\n",
       "    .dataframe tbody tr th:only-of-type {\n",
       "        vertical-align: middle;\n",
       "    }\n",
       "\n",
       "    .dataframe tbody tr th {\n",
       "        vertical-align: top;\n",
       "    }\n",
       "\n",
       "    .dataframe thead th {\n",
       "        text-align: right;\n",
       "    }\n",
       "</style>\n",
       "<table border=\"1\" class=\"dataframe\">\n",
       "  <thead>\n",
       "    <tr style=\"text-align: right;\">\n",
       "      <th></th>\n",
       "      <th>gene</th>\n",
       "      <th>gene_name</th>\n",
       "      <th>pvalue</th>\n",
       "      <th>n</th>\n",
       "    </tr>\n",
       "  </thead>\n",
       "  <tbody>\n",
       "    <tr>\n",
       "      <th>1461</th>\n",
       "      <td>ENSG00000235641.4</td>\n",
       "      <td>LINC00484</td>\n",
       "      <td>0.068450</td>\n",
       "      <td>35.0</td>\n",
       "    </tr>\n",
       "    <tr>\n",
       "      <th>2390</th>\n",
       "      <td>ENSG00000237667.5</td>\n",
       "      <td>LINC01115</td>\n",
       "      <td>0.112329</td>\n",
       "      <td>22.0</td>\n",
       "    </tr>\n",
       "    <tr>\n",
       "      <th>5198</th>\n",
       "      <td>ENSG00000272342.1</td>\n",
       "      <td>LINC01115</td>\n",
       "      <td>0.243122</td>\n",
       "      <td>4.0</td>\n",
       "    </tr>\n",
       "    <tr>\n",
       "      <th>5883</th>\n",
       "      <td>ENSG00000229694.6</td>\n",
       "      <td>LINC00484</td>\n",
       "      <td>0.274814</td>\n",
       "      <td>40.0</td>\n",
       "    </tr>\n",
       "    <tr>\n",
       "      <th>6129</th>\n",
       "      <td>ENSG00000147676.13</td>\n",
       "      <td>MAL2</td>\n",
       "      <td>0.286003</td>\n",
       "      <td>29.0</td>\n",
       "    </tr>\n",
       "    <tr>\n",
       "      <th>6207</th>\n",
       "      <td>ENSG00000283992.1</td>\n",
       "      <td>LYNX1</td>\n",
       "      <td>0.289628</td>\n",
       "      <td>45.0</td>\n",
       "    </tr>\n",
       "    <tr>\n",
       "      <th>10559</th>\n",
       "      <td>ENSG00000180155.19</td>\n",
       "      <td>LYNX1</td>\n",
       "      <td>0.486960</td>\n",
       "      <td>48.0</td>\n",
       "    </tr>\n",
       "    <tr>\n",
       "      <th>14026</th>\n",
       "      <td>ENSG00000235271.5</td>\n",
       "      <td>LINC01422</td>\n",
       "      <td>0.643355</td>\n",
       "      <td>38.0</td>\n",
       "    </tr>\n",
       "    <tr>\n",
       "      <th>14251</th>\n",
       "      <td>ENSG00000253972.5</td>\n",
       "      <td>MAL2</td>\n",
       "      <td>0.654873</td>\n",
       "      <td>6.0</td>\n",
       "    </tr>\n",
       "    <tr>\n",
       "      <th>20086</th>\n",
       "      <td>ENSG00000182957.15</td>\n",
       "      <td>SPATA13</td>\n",
       "      <td>0.906729</td>\n",
       "      <td>40.0</td>\n",
       "    </tr>\n",
       "    <tr>\n",
       "      <th>21031</th>\n",
       "      <td>ENSG00000223704.1</td>\n",
       "      <td>LINC01422</td>\n",
       "      <td>0.946342</td>\n",
       "      <td>48.0</td>\n",
       "    </tr>\n",
       "    <tr>\n",
       "      <th>21040</th>\n",
       "      <td>ENSG00000228741.2</td>\n",
       "      <td>SPATA13</td>\n",
       "      <td>0.946653</td>\n",
       "      <td>23.0</td>\n",
       "    </tr>\n",
       "  </tbody>\n",
       "</table>\n",
       "</div>"
      ],
      "text/plain": [
       "                     gene  gene_name    pvalue     n\n",
       "1461    ENSG00000235641.4  LINC00484  0.068450  35.0\n",
       "2390    ENSG00000237667.5  LINC01115  0.112329  22.0\n",
       "5198    ENSG00000272342.1  LINC01115  0.243122   4.0\n",
       "5883    ENSG00000229694.6  LINC00484  0.274814  40.0\n",
       "6129   ENSG00000147676.13       MAL2  0.286003  29.0\n",
       "6207    ENSG00000283992.1      LYNX1  0.289628  45.0\n",
       "10559  ENSG00000180155.19      LYNX1  0.486960  48.0\n",
       "14026   ENSG00000235271.5  LINC01422  0.643355  38.0\n",
       "14251   ENSG00000253972.5       MAL2  0.654873   6.0\n",
       "20086  ENSG00000182957.15    SPATA13  0.906729  40.0\n",
       "21031   ENSG00000223704.1  LINC01422  0.946342  48.0\n",
       "21040   ENSG00000228741.2    SPATA13  0.946653  23.0"
      ]
     },
     "metadata": {},
     "output_type": "display_data"
    }
   ],
   "source": [
    "# list duplicated gene names\n",
    "_smultixcan_duplicated_gene_names = smultixcan_results[\n",
    "    smultixcan_results[\"gene_name\"].duplicated(keep=False)\n",
    "]\n",
    "display(_smultixcan_duplicated_gene_names)"
   ]
  },
  {
   "cell_type": "code",
   "execution_count": 66,
   "id": "d8ff3ec1-312a-48be-b33f-50fb6f103c21",
   "metadata": {},
   "outputs": [],
   "source": [
    "# TODO: my strategy below to handle duplicated gene names is to keep the first one\n",
    "#  it might be better to have another strategy, maybe keeping the most significant"
   ]
  },
  {
   "cell_type": "code",
   "execution_count": 67,
   "id": "11e348f5-ba33-487a-9dfe-cd493a02f320",
   "metadata": {},
   "outputs": [
    {
     "data": {
      "text/plain": [
       "(22308, 4)"
      ]
     },
     "metadata": {},
     "output_type": "display_data"
    }
   ],
   "source": [
    "smultixcan_results = smultixcan_results.drop_duplicates(\n",
    "    subset=[\"gene_name\"], keep=\"first\"\n",
    ")\n",
    "display(smultixcan_results.shape)"
   ]
  },
  {
   "cell_type": "markdown",
   "id": "7dcb8db7",
   "metadata": {
    "papermill": {
     "duration": 0.016403,
     "end_time": "2021-04-28T22:27:17.896463",
     "exception": false,
     "start_time": "2021-04-28T22:27:17.880060",
     "status": "completed"
    },
    "tags": []
   },
   "source": [
    "## Get common genes with MultiPLIER"
   ]
  },
  {
   "cell_type": "code",
   "execution_count": 68,
   "id": "c820e6cf-6350-45af-b49a-0abd94f570ff",
   "metadata": {},
   "outputs": [],
   "source": [
    "common_genes = set(multiplier_z_genes).intersection(\n",
    "    set(smultixcan_results[\"gene_name\"])\n",
    ")"
   ]
  },
  {
   "cell_type": "code",
   "execution_count": 69,
   "id": "0a7328f9-96c7-4ac6-a9a6-ae4fa121a4cd",
   "metadata": {},
   "outputs": [
    {
     "data": {
      "text/plain": [
       "6444"
      ]
     },
     "execution_count": 69,
     "metadata": {},
     "output_type": "execute_result"
    }
   ],
   "source": [
    "len(common_genes)"
   ]
  },
  {
   "cell_type": "code",
   "execution_count": 70,
   "id": "5b08d362-44c8-4db2-9258-670e2e2a9cc0",
   "metadata": {},
   "outputs": [
    {
     "data": {
      "text/plain": [
       "['A2M', 'AAAS', 'AANAT', 'AARS', 'AARS2']"
      ]
     },
     "execution_count": 70,
     "metadata": {},
     "output_type": "execute_result"
    }
   ],
   "source": [
    "sorted(list(common_genes))[:5]"
   ]
  },
  {
   "cell_type": "code",
   "execution_count": 71,
   "id": "ddc47580-bd3d-4168-bbb2-0763d227369b",
   "metadata": {},
   "outputs": [],
   "source": [
    "assert smultixcan_results[smultixcan_results[\"gene_name\"].isin(common_genes)].shape[\n",
    "    0\n",
    "] == len(common_genes)"
   ]
  },
  {
   "cell_type": "markdown",
   "id": "94587312-9a1c-4c46-a131-6921a729a8cc",
   "metadata": {},
   "source": [
    "### Save"
   ]
  },
  {
   "cell_type": "code",
   "execution_count": 72,
   "id": "1fc57e26-d415-4565-be7f-e7e1de935dbb",
   "metadata": {},
   "outputs": [],
   "source": [
    "with open(OUTPUT_DIR_BASE / \"common_genes.pkl\", \"wb\") as handle:\n",
    "    pickle.dump(common_genes, handle, protocol=pickle.HIGHEST_PROTOCOL)"
   ]
  },
  {
   "cell_type": "markdown",
   "id": "19fa0a3e-2fe7-43de-9939-9e8fcd0579e3",
   "metadata": {
    "papermill": {
     "duration": 0.016403,
     "end_time": "2021-04-28T22:27:17.896463",
     "exception": false,
     "start_time": "2021-04-28T22:27:17.880060",
     "status": "completed"
    },
    "tags": []
   },
   "source": [
    "# Get gene objects"
   ]
  },
  {
   "cell_type": "code",
   "execution_count": 75,
   "id": "bb932812",
   "metadata": {
    "papermill": {
     "duration": 0.032133,
     "end_time": "2021-04-28T22:27:17.945091",
     "exception": false,
     "start_time": "2021-04-28T22:27:17.912958",
     "status": "completed"
    },
    "tags": []
   },
   "outputs": [],
   "source": [
    "multiplier_gene_obj = {\n",
    "    gene_name: Gene(name=gene_name)\n",
    "    for gene_name in common_genes\n",
    "    if gene_name in Gene.GENE_NAME_TO_ID_MAP\n",
    "}"
   ]
  },
  {
   "cell_type": "code",
   "execution_count": 76,
   "id": "39533214",
   "metadata": {
    "papermill": {
     "duration": 0.028153,
     "end_time": "2021-04-28T22:27:17.990710",
     "exception": false,
     "start_time": "2021-04-28T22:27:17.962557",
     "status": "completed"
    },
    "tags": []
   },
   "outputs": [
    {
     "data": {
      "text/plain": [
       "6444"
      ]
     },
     "execution_count": 76,
     "metadata": {},
     "output_type": "execute_result"
    }
   ],
   "source": [
    "len(multiplier_gene_obj)"
   ]
  },
  {
   "cell_type": "code",
   "execution_count": 77,
   "id": "9a5d0b84",
   "metadata": {
    "papermill": {
     "duration": 0.028361,
     "end_time": "2021-04-28T22:27:18.036595",
     "exception": false,
     "start_time": "2021-04-28T22:27:18.008234",
     "status": "completed"
    },
    "tags": []
   },
   "outputs": [],
   "source": [
    "assert multiplier_gene_obj[\"GAS6\"].ensembl_id == \"ENSG00000183087\""
   ]
  },
  {
   "cell_type": "code",
   "execution_count": 78,
   "id": "e3ffabc7",
   "metadata": {
    "papermill": {
     "duration": 0.693976,
     "end_time": "2021-04-28T22:27:18.748183",
     "exception": false,
     "start_time": "2021-04-28T22:27:18.054207",
     "status": "completed"
    },
    "tags": []
   },
   "outputs": [],
   "source": [
    "_gene_obj = list(multiplier_gene_obj.values())\n",
    "\n",
    "genes_info = pd.DataFrame(\n",
    "    {\n",
    "        \"name\": [g.name for g in _gene_obj],\n",
    "        \"id\": [g.ensembl_id for g in _gene_obj],\n",
    "        \"chr\": [g.chromosome for g in _gene_obj],\n",
    "        \"band\": [g.band for g in _gene_obj],\n",
    "        \"start_position\": [g.get_attribute(\"start_position\") for g in _gene_obj],\n",
    "        \"end_position\": [g.get_attribute(\"end_position\") for g in _gene_obj],\n",
    "    }\n",
    ")"
   ]
  },
  {
   "cell_type": "code",
   "execution_count": 79,
   "id": "00475e72-1cfc-485f-8b4e-1d9cce695f58",
   "metadata": {},
   "outputs": [],
   "source": [
    "genes_info = genes_info.assign(\n",
    "    gene_length=genes_info.apply(\n",
    "        lambda x: x[\"end_position\"] - x[\"start_position\"], axis=1\n",
    "    )\n",
    ")"
   ]
  },
  {
   "cell_type": "code",
   "execution_count": 80,
   "id": "e23519b8",
   "metadata": {
    "papermill": {
     "duration": 0.028574,
     "end_time": "2021-04-28T22:27:18.793860",
     "exception": false,
     "start_time": "2021-04-28T22:27:18.765286",
     "status": "completed"
    },
    "tags": []
   },
   "outputs": [
    {
     "data": {
      "text/plain": [
       "(6444, 7)"
      ]
     },
     "execution_count": 80,
     "metadata": {},
     "output_type": "execute_result"
    }
   ],
   "source": [
    "genes_info.shape"
   ]
  },
  {
   "cell_type": "code",
   "execution_count": 81,
   "id": "0d71881c",
   "metadata": {
    "papermill": {
     "duration": 0.03142,
     "end_time": "2021-04-28T22:27:18.843921",
     "exception": false,
     "start_time": "2021-04-28T22:27:18.812501",
     "status": "completed"
    },
    "tags": []
   },
   "outputs": [
    {
     "data": {
      "text/html": [
       "<div>\n",
       "<style scoped>\n",
       "    .dataframe tbody tr th:only-of-type {\n",
       "        vertical-align: middle;\n",
       "    }\n",
       "\n",
       "    .dataframe tbody tr th {\n",
       "        vertical-align: top;\n",
       "    }\n",
       "\n",
       "    .dataframe thead th {\n",
       "        text-align: right;\n",
       "    }\n",
       "</style>\n",
       "<table border=\"1\" class=\"dataframe\">\n",
       "  <thead>\n",
       "    <tr style=\"text-align: right;\">\n",
       "      <th></th>\n",
       "      <th>name</th>\n",
       "      <th>id</th>\n",
       "      <th>chr</th>\n",
       "      <th>band</th>\n",
       "      <th>start_position</th>\n",
       "      <th>end_position</th>\n",
       "      <th>gene_length</th>\n",
       "    </tr>\n",
       "  </thead>\n",
       "  <tbody>\n",
       "    <tr>\n",
       "      <th>0</th>\n",
       "      <td>CYB5R1</td>\n",
       "      <td>ENSG00000159348</td>\n",
       "      <td>1</td>\n",
       "      <td>1q32.1</td>\n",
       "      <td>202961873.0</td>\n",
       "      <td>202967275.0</td>\n",
       "      <td>5402.0</td>\n",
       "    </tr>\n",
       "    <tr>\n",
       "      <th>1</th>\n",
       "      <td>DAPK1</td>\n",
       "      <td>ENSG00000196730</td>\n",
       "      <td>9</td>\n",
       "      <td>9q21.33</td>\n",
       "      <td>87497228.0</td>\n",
       "      <td>87708634.0</td>\n",
       "      <td>211406.0</td>\n",
       "    </tr>\n",
       "    <tr>\n",
       "      <th>2</th>\n",
       "      <td>IDE</td>\n",
       "      <td>ENSG00000119912</td>\n",
       "      <td>10</td>\n",
       "      <td>10q23.33</td>\n",
       "      <td>92451684.0</td>\n",
       "      <td>92574076.0</td>\n",
       "      <td>122392.0</td>\n",
       "    </tr>\n",
       "    <tr>\n",
       "      <th>3</th>\n",
       "      <td>MACC1</td>\n",
       "      <td>ENSG00000183742</td>\n",
       "      <td>7</td>\n",
       "      <td>7p21.1</td>\n",
       "      <td>20134655.0</td>\n",
       "      <td>20217404.0</td>\n",
       "      <td>82749.0</td>\n",
       "    </tr>\n",
       "    <tr>\n",
       "      <th>4</th>\n",
       "      <td>CDR2L</td>\n",
       "      <td>ENSG00000109089</td>\n",
       "      <td>17</td>\n",
       "      <td>17q25.1</td>\n",
       "      <td>74987632.0</td>\n",
       "      <td>75005800.0</td>\n",
       "      <td>18168.0</td>\n",
       "    </tr>\n",
       "  </tbody>\n",
       "</table>\n",
       "</div>"
      ],
      "text/plain": [
       "     name               id chr      band  start_position  end_position  \\\n",
       "0  CYB5R1  ENSG00000159348   1    1q32.1     202961873.0   202967275.0   \n",
       "1   DAPK1  ENSG00000196730   9   9q21.33      87497228.0    87708634.0   \n",
       "2     IDE  ENSG00000119912  10  10q23.33      92451684.0    92574076.0   \n",
       "3   MACC1  ENSG00000183742   7    7p21.1      20134655.0    20217404.0   \n",
       "4   CDR2L  ENSG00000109089  17   17q25.1      74987632.0    75005800.0   \n",
       "\n",
       "   gene_length  \n",
       "0       5402.0  \n",
       "1     211406.0  \n",
       "2     122392.0  \n",
       "3      82749.0  \n",
       "4      18168.0  "
      ]
     },
     "execution_count": 81,
     "metadata": {},
     "output_type": "execute_result"
    }
   ],
   "source": [
    "genes_info.head()"
   ]
  },
  {
   "cell_type": "markdown",
   "id": "f036828d-da4b-4f74-a0a2-e851a3f30a7c",
   "metadata": {},
   "source": [
    "## Save"
   ]
  },
  {
   "cell_type": "code",
   "execution_count": 82,
   "id": "32cf6566-03bb-4a85-81e1-da46fc9f37ad",
   "metadata": {},
   "outputs": [],
   "source": [
    "genes_info.to_pickle(OUTPUT_DIR_BASE / \"genes_info.pkl\")"
   ]
  },
  {
   "cell_type": "code",
   "execution_count": null,
   "id": "b25e3ead",
   "metadata": {},
   "outputs": [],
   "source": []
  }
 ],
 "metadata": {
  "jupytext": {
   "cell_metadata_filter": "all,-execution,-papermill,-trusted",
   "formats": "ipynb,py//py:percent"
  },
  "kernelspec": {
   "display_name": "Python 3 (ipykernel)",
   "language": "python",
   "name": "python3"
  },
  "language_info": {
   "codemirror_mode": {
    "name": "ipython",
    "version": 3
   },
   "file_extension": ".py",
   "mimetype": "text/x-python",
   "name": "python",
   "nbconvert_exporter": "python",
   "pygments_lexer": "ipython3",
   "version": "3.8.13"
  },
  "papermill": {
   "default_parameters": {},
   "duration": 722.130107,
   "end_time": "2021-04-28T22:39:17.602577",
   "environment_variables": {},
   "exception": null,
   "input_path": "08_gsa_gls/10-gene_expr_correlations.ipynb",
   "output_path": "08_gsa_gls/10-gene_expr_correlations.run.ipynb",
   "parameters": {},
   "start_time": "2021-04-28T22:27:15.472470",
   "version": "2.2.2"
  }
 },
 "nbformat": 4,
 "nbformat_minor": 5
}
