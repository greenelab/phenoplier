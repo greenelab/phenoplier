{
 "cells": [
  {
   "cell_type": "markdown",
   "id": "7a6632fb",
   "metadata": {
    "papermill": {
     "duration": 0.018708,
     "end_time": "2021-04-28T22:27:16.472059",
     "exception": false,
     "start_time": "2021-04-28T22:27:16.453351",
     "status": "completed"
    },
    "tags": []
   },
   "source": [
    "# Description"
   ]
  },
  {
   "cell_type": "markdown",
   "id": "7097c346",
   "metadata": {
    "papermill": {
     "duration": 0.015071,
     "end_time": "2021-04-28T22:27:16.502145",
     "exception": false,
     "start_time": "2021-04-28T22:27:16.487074",
     "status": "completed"
    },
    "tags": []
   },
   "source": [
    "(Please, take a look at the README.md file in this directory for instructions on how to run this notebook)\n",
    "\n",
    "**TODO:** update\n",
    "\n",
    "This notebook computes predicted expression correlations between all genes in the MultiPLIER models.\n",
    "\n",
    "It also has a parameter set for papermill to run on a single chromosome to run in parallel (see under `Settings` below).\n",
    "\n",
    "This notebook is not directly run. See README.md."
   ]
  },
  {
   "cell_type": "markdown",
   "id": "c61d8427",
   "metadata": {
    "papermill": {
     "duration": 0.014891,
     "end_time": "2021-04-28T22:27:16.532200",
     "exception": false,
     "start_time": "2021-04-28T22:27:16.517309",
     "status": "completed"
    },
    "tags": []
   },
   "source": [
    "# Modules"
   ]
  },
  {
   "cell_type": "code",
   "execution_count": null,
   "id": "bbc0234f",
   "metadata": {
    "papermill": {
     "duration": 0.027924,
     "end_time": "2021-04-28T22:27:16.575188",
     "exception": false,
     "start_time": "2021-04-28T22:27:16.547264",
     "status": "completed"
    },
    "tags": []
   },
   "outputs": [],
   "source": [
    "%load_ext autoreload\n",
    "%autoreload 2"
   ]
  },
  {
   "cell_type": "code",
   "execution_count": null,
   "id": "1d5f5a59",
   "metadata": {
    "papermill": {
     "duration": 0.461025,
     "end_time": "2021-04-28T22:27:17.051883",
     "exception": false,
     "start_time": "2021-04-28T22:27:16.590858",
     "status": "completed"
    },
    "tags": []
   },
   "outputs": [],
   "source": [
    "# from random import sample, seed\n",
    "# import warnings\n",
    "from pathlib import Path\n",
    "import pickle\n",
    "\n",
    "import numpy as np\n",
    "\n",
    "# from scipy.spatial.distance import squareform\n",
    "import pandas as pd\n",
    "from tqdm import tqdm\n",
    "\n",
    "# import matplotlib.pyplot as plt\n",
    "# import seaborn as sns\n",
    "\n",
    "import conf\n",
    "from entity import Gene"
   ]
  },
  {
   "cell_type": "markdown",
   "id": "1eac24b5",
   "metadata": {
    "papermill": {
     "duration": 0.01618,
     "end_time": "2021-04-28T22:27:17.085464",
     "exception": false,
     "start_time": "2021-04-28T22:27:17.069284",
     "status": "completed"
    },
    "tags": []
   },
   "source": [
    "# Settings"
   ]
  },
  {
   "cell_type": "code",
   "execution_count": null,
   "id": "ca4560ba",
   "metadata": {
    "tags": [
     "parameters"
    ]
   },
   "outputs": [],
   "source": [
    "# a cohort name (it could be something like UK_BIOBANK, etc)\n",
    "COHORT_NAME = None\n",
    "\n",
    "# a string with a path pointing to an imputed GWAS\n",
    "GWAS_FILE = None\n",
    "\n",
    "# a string with a path pointing where S-PrediXcan results (tissue-specific are located\n",
    "SPREDIXCAN_FOLDER = None\n",
    "\n",
    "# an f-string with one placeholder {tissue}\n",
    "SPREDIXCAN_FILE_PATTERN = None\n",
    "\n",
    "# a string with a path pointing to an S-MultiXcan result\n",
    "SMULTIXCAN_FILE = None\n",
    "\n",
    "# predictions models such as MASHR or ELASTIC_NET\n",
    "EQTL_MODEL = None"
   ]
  },
  {
   "cell_type": "code",
   "execution_count": null,
   "id": "8fe24bef",
   "metadata": {},
   "outputs": [],
   "source": [
    "assert COHORT_NAME is not None and len(COHORT_NAME) > 0, \"A cohort name must be given\"\n",
    "\n",
    "COHORT_NAME = COHORT_NAME.lower()\n",
    "display(f\"Cohort name: {COHORT_NAME}\")"
   ]
  },
  {
   "cell_type": "code",
   "execution_count": null,
   "id": "7a970044-2d34-4e5b-a850-eff44079afe8",
   "metadata": {},
   "outputs": [],
   "source": [
    "assert GWAS_FILE is not None and len(GWAS_FILE) > 0, \"A GWAS file path must be given\"\n",
    "GWAS_FILE = Path(GWAS_FILE).resolve()\n",
    "assert GWAS_FILE.exists(), \"GWAS file does not exist\"\n",
    "\n",
    "display(f\"GWAS file path: {str(GWAS_FILE)}\")"
   ]
  },
  {
   "cell_type": "code",
   "execution_count": null,
   "id": "552a7f63-a18c-4d3e-bb6a-94f99b431291",
   "metadata": {},
   "outputs": [],
   "source": [
    "assert (\n",
    "    SPREDIXCAN_FOLDER is not None and len(SPREDIXCAN_FOLDER) > 0\n",
    "), \"An S-PrediXcan folder path must be given\"\n",
    "SPREDIXCAN_FOLDER = Path(SPREDIXCAN_FOLDER).resolve()\n",
    "assert SPREDIXCAN_FOLDER.exists(), \"S-PrediXcan folder does not exist\"\n",
    "\n",
    "display(f\"S-PrediXcan folder path: {str(SPREDIXCAN_FOLDER)}\")"
   ]
  },
  {
   "cell_type": "code",
   "execution_count": null,
   "id": "6e2000dc-f1dc-4db8-93d5-9a7209a2e121",
   "metadata": {},
   "outputs": [],
   "source": [
    "assert (\n",
    "    SPREDIXCAN_FILE_PATTERN is not None and len(SPREDIXCAN_FILE_PATTERN) > 0\n",
    "), \"An S-PrediXcan file pattern must be given\"\n",
    "assert (\n",
    "    \"{tissue}\" in SPREDIXCAN_FILE_PATTERN\n",
    "), \"S-PrediXcan file pattern must have a '{tissue}' placeholder\"\n",
    "\n",
    "display(f\"S-PrediXcan file template: {SPREDIXCAN_FILE_PATTERN}\")"
   ]
  },
  {
   "cell_type": "code",
   "execution_count": null,
   "id": "f5a5aa9d-c6f3-4fb5-9351-37382b6e67bc",
   "metadata": {},
   "outputs": [],
   "source": [
    "assert (\n",
    "    SMULTIXCAN_FILE is not None and len(SMULTIXCAN_FILE) > 0\n",
    "), \"An S-MultiXcan result file path must be given\"\n",
    "SMULTIXCAN_FILE = Path(SMULTIXCAN_FILE).resolve()\n",
    "assert SMULTIXCAN_FILE.exists(), \"S-MultiXcan result file does not exist\"\n",
    "\n",
    "display(f\"S-MultiXcan file path: {str(SMULTIXCAN_FILE)}\")"
   ]
  },
  {
   "cell_type": "code",
   "execution_count": null,
   "id": "0723dc2f-34d1-407c-a55b-d6d13c55d63d",
   "metadata": {},
   "outputs": [],
   "source": [
    "assert (\n",
    "    EQTL_MODEL is not None and len(EQTL_MODEL) > 0\n",
    "), \"A prediction/eQTL model must be given\"\n",
    "\n",
    "display(f\"eQTL model: {EQTL_MODEL}\")"
   ]
  },
  {
   "cell_type": "code",
   "execution_count": null,
   "id": "396392dc-0340-4540-9b02-e182b833f909",
   "metadata": {},
   "outputs": [],
   "source": [
    "OUTPUT_DIR_BASE = conf.RESULTS[\"GLS\"] / \"gene_corrs\" / \"cohorts\" / COHORT_NAME\n",
    "OUTPUT_DIR_BASE.mkdir(parents=True, exist_ok=True)\n",
    "\n",
    "display(f\"Using output dir base: {OUTPUT_DIR_BASE}\")"
   ]
  },
  {
   "cell_type": "markdown",
   "id": "b6ebb422-8204-494b-8c72-360a71ce9863",
   "metadata": {
    "papermill": {
     "duration": 0.016156,
     "end_time": "2021-04-28T22:27:17.704727",
     "exception": false,
     "start_time": "2021-04-28T22:27:17.688571",
     "status": "completed"
    },
    "tags": []
   },
   "source": [
    "# Load MultiPLIER Z genes"
   ]
  },
  {
   "cell_type": "code",
   "execution_count": null,
   "id": "c48ef527",
   "metadata": {
    "papermill": {
     "duration": 0.050172,
     "end_time": "2021-04-28T22:27:17.770996",
     "exception": false,
     "start_time": "2021-04-28T22:27:17.720824",
     "status": "completed"
    },
    "tags": []
   },
   "outputs": [],
   "source": [
    "multiplier_z_genes = pd.read_pickle(\n",
    "    conf.MULTIPLIER[\"MODEL_Z_MATRIX_FILE\"]\n",
    ").index.tolist()"
   ]
  },
  {
   "cell_type": "code",
   "execution_count": null,
   "id": "0a4ecbd9",
   "metadata": {
    "papermill": {
     "duration": 0.027596,
     "end_time": "2021-04-28T22:27:17.819065",
     "exception": false,
     "start_time": "2021-04-28T22:27:17.791469",
     "status": "completed"
    },
    "tags": []
   },
   "outputs": [],
   "source": [
    "len(multiplier_z_genes)"
   ]
  },
  {
   "cell_type": "code",
   "execution_count": null,
   "id": "a18ce359-0759-4260-ae6f-053e8c0041b7",
   "metadata": {},
   "outputs": [],
   "source": [
    "assert len(multiplier_z_genes) == len(set(multiplier_z_genes))"
   ]
  },
  {
   "cell_type": "code",
   "execution_count": null,
   "id": "115e8864",
   "metadata": {
    "papermill": {
     "duration": 0.027396,
     "end_time": "2021-04-28T22:27:17.863147",
     "exception": false,
     "start_time": "2021-04-28T22:27:17.835751",
     "status": "completed"
    },
    "tags": []
   },
   "outputs": [],
   "source": [
    "multiplier_z_genes[:5]"
   ]
  },
  {
   "cell_type": "markdown",
   "id": "7bed0ce0-e7c7-4300-9a61-5412450b1904",
   "metadata": {
    "papermill": {
     "duration": 0.006254,
     "end_time": "2022-07-11T00:59:29.336579",
     "exception": false,
     "start_time": "2022-07-11T00:59:29.330325",
     "status": "completed"
    },
    "tags": []
   },
   "source": [
    "# GWAS"
   ]
  },
  {
   "cell_type": "code",
   "execution_count": null,
   "id": "331e5691-c014-43e4-b94c-060c64d329df",
   "metadata": {},
   "outputs": [],
   "source": [
    "gwas_file_columns = pd.read_csv(GWAS_FILE, sep=\"\\t\", nrows=2).columns\n",
    "assert (\n",
    "    \"panel_variant_id\" in gwas_file_columns\n",
    "), \"GWAS file must be final imputed one with column 'panel_variant_id'\"\n",
    "# FIXME: add other needed columns here"
   ]
  },
  {
   "cell_type": "code",
   "execution_count": null,
   "id": "8d419629-8f4d-4c83-bed3-cfc071a58090",
   "metadata": {},
   "outputs": [],
   "source": [
    "gwas_data = pd.read_csv(\n",
    "    GWAS_FILE,\n",
    "    sep=\"\\t\",\n",
    "    usecols=[\"panel_variant_id\", \"pvalue\", \"zscore\", \"imputation_status\"],\n",
    ")"
   ]
  },
  {
   "cell_type": "code",
   "execution_count": null,
   "id": "3f4e814e-6b41-407e-9099-86795eec6ed9",
   "metadata": {},
   "outputs": [],
   "source": [
    "gwas_data.shape"
   ]
  },
  {
   "cell_type": "code",
   "execution_count": null,
   "id": "b4a906e9-c80a-47fc-9d73-5adb046f8b76",
   "metadata": {},
   "outputs": [],
   "source": [
    "gwas_data.head()"
   ]
  },
  {
   "cell_type": "code",
   "execution_count": null,
   "id": "346e2f88-44c6-4067-8752-118e2491f6fa",
   "metadata": {},
   "outputs": [],
   "source": [
    "gwas_data[\"imputation_status\"].unique()"
   ]
  },
  {
   "cell_type": "code",
   "execution_count": null,
   "id": "033c24fb-9c60-4ffd-929e-b0e6089820ae",
   "metadata": {},
   "outputs": [],
   "source": [
    "gwas_data.dropna().shape"
   ]
  },
  {
   "cell_type": "code",
   "execution_count": null,
   "id": "28232ce5-0afd-464e-9be3-64c3a68c2b25",
   "metadata": {},
   "outputs": [],
   "source": [
    "# remove SNPs with no results\n",
    "gwas_data = gwas_data.dropna()"
   ]
  },
  {
   "cell_type": "code",
   "execution_count": null,
   "id": "d9a6c31f-eedd-43e5-b762-5a9663be1b77",
   "metadata": {},
   "outputs": [],
   "source": [
    "gwas_data.shape"
   ]
  },
  {
   "cell_type": "markdown",
   "id": "8da344de-2aa5-48a9-98ec-e8c3397ae7e6",
   "metadata": {
    "papermill": {
     "duration": 0.016403,
     "end_time": "2021-04-28T22:27:17.896463",
     "exception": false,
     "start_time": "2021-04-28T22:27:17.880060",
     "status": "completed"
    },
    "tags": []
   },
   "source": [
    "## Save GWAS variants"
   ]
  },
  {
   "cell_type": "code",
   "execution_count": null,
   "id": "ac11fb33-ea3c-4d5c-a90b-0ceebdac43d3",
   "metadata": {},
   "outputs": [],
   "source": [
    "gwas_data.head()"
   ]
  },
  {
   "cell_type": "code",
   "execution_count": null,
   "id": "5f34bb3d-761a-4860-a179-77ea5f5784ad",
   "metadata": {},
   "outputs": [],
   "source": [
    "assert gwas_data[\"panel_variant_id\"].is_unique"
   ]
  },
  {
   "cell_type": "code",
   "execution_count": null,
   "id": "d4f23b2f-01a3-4a45-a2b6-31b245b5778e",
   "metadata": {},
   "outputs": [],
   "source": [
    "gwas_variants_ids_set = frozenset(gwas_data[\"panel_variant_id\"])\n",
    "list(gwas_variants_ids_set)[:5]"
   ]
  },
  {
   "cell_type": "code",
   "execution_count": null,
   "id": "b4a441df-07d7-48dc-be36-cdb3f92be651",
   "metadata": {},
   "outputs": [],
   "source": [
    "with open(OUTPUT_DIR_BASE / \"gwas_variant_ids.pkl\", \"wb\") as handle:\n",
    "    pickle.dump(gwas_variants_ids_set, handle, protocol=pickle.HIGHEST_PROTOCOL)"
   ]
  },
  {
   "cell_type": "markdown",
   "id": "abcc4b3d",
   "metadata": {
    "papermill": {
     "duration": 0.016156,
     "end_time": "2021-04-28T22:27:17.704727",
     "exception": false,
     "start_time": "2021-04-28T22:27:17.688571",
     "status": "completed"
    },
    "tags": []
   },
   "source": [
    "# TWAS"
   ]
  },
  {
   "cell_type": "markdown",
   "id": "2fbc7358-0563-4fc6-bc47-a0fbcc5cdfd4",
   "metadata": {
    "papermill": {
     "duration": 0.016156,
     "end_time": "2021-04-28T22:27:17.704727",
     "exception": false,
     "start_time": "2021-04-28T22:27:17.688571",
     "status": "completed"
    },
    "tags": []
   },
   "source": [
    "## Available tissues for eQTL model"
   ]
  },
  {
   "cell_type": "code",
   "execution_count": null,
   "id": "f32c0a84-030a-436b-b597-852b6150d2ac",
   "metadata": {},
   "outputs": [],
   "source": [
    "prediction_model_tissues = conf.PHENOMEXCAN[\"PREDICTION_MODELS\"][\n",
    "    f\"{EQTL_MODEL}_TISSUES\"\n",
    "].split(\" \")"
   ]
  },
  {
   "cell_type": "code",
   "execution_count": null,
   "id": "0e760d0e-f23d-4590-abfb-811a43f7c237",
   "metadata": {},
   "outputs": [],
   "source": [
    "len(prediction_model_tissues)"
   ]
  },
  {
   "cell_type": "code",
   "execution_count": null,
   "id": "fa4d942c-cd67-4b31-9491-585c887c0ee3",
   "metadata": {},
   "outputs": [],
   "source": [
    "prediction_model_tissues[:5]"
   ]
  },
  {
   "cell_type": "markdown",
   "id": "5b9f384a-5a91-4a8d-9007-cfe43f2d86f8",
   "metadata": {
    "papermill": {
     "duration": 0.016156,
     "end_time": "2021-04-28T22:27:17.704727",
     "exception": false,
     "start_time": "2021-04-28T22:27:17.688571",
     "status": "completed"
    },
    "tags": []
   },
   "source": [
    "## S-PrediXcan results"
   ]
  },
  {
   "cell_type": "markdown",
   "id": "fc0a2a4c-960c-4a0a-9b23-b66c3d5d6e07",
   "metadata": {
    "papermill": {
     "duration": 0.016156,
     "end_time": "2021-04-28T22:27:17.704727",
     "exception": false,
     "start_time": "2021-04-28T22:27:17.688571",
     "status": "completed"
    },
    "tags": []
   },
   "source": [
    "### Load results across all tissues"
   ]
  },
  {
   "cell_type": "code",
   "execution_count": null,
   "id": "0b4867d7-a608-4b08-9d77-1782be3a0c94",
   "metadata": {},
   "outputs": [],
   "source": [
    "spredixcan_result_files = {\n",
    "    t: SPREDIXCAN_FOLDER / SPREDIXCAN_FILE_PATTERN.format(tissue=t)\n",
    "    for t in prediction_model_tissues\n",
    "}"
   ]
  },
  {
   "cell_type": "code",
   "execution_count": null,
   "id": "0ce270dd-46ac-4eaa-9d86-2b201d67d82f",
   "metadata": {},
   "outputs": [],
   "source": [
    "assert len(spredixcan_result_files) == len(prediction_model_tissues)\n",
    "display(list(spredixcan_result_files.values())[:5])"
   ]
  },
  {
   "cell_type": "code",
   "execution_count": null,
   "id": "4381b9ff-6ab5-47f1-89d1-560f88fdf07f",
   "metadata": {},
   "outputs": [],
   "source": [
    "assert all(f.exists() for f in spredixcan_result_files.values())"
   ]
  },
  {
   "cell_type": "code",
   "execution_count": null,
   "id": "d477157f-51e9-4c7c-b826-7ab5f4fdf3e3",
   "metadata": {},
   "outputs": [],
   "source": [
    "spredixcan_dfs = [\n",
    "    pd.read_csv(f, usecols=[\"gene\", \"zscore\", \"pvalue\"]).dropna().assign(tissue=t)\n",
    "    for t, f in spredixcan_result_files.items()\n",
    "]"
   ]
  },
  {
   "cell_type": "code",
   "execution_count": null,
   "id": "9730bd37-b769-411f-bb6b-bb658d1ff88c",
   "metadata": {},
   "outputs": [],
   "source": [
    "assert len(spredixcan_dfs) == len(prediction_model_tissues)"
   ]
  },
  {
   "cell_type": "code",
   "execution_count": null,
   "id": "bcd73f53-1283-4ff6-bbb5-25fb71f5cb72",
   "metadata": {},
   "outputs": [],
   "source": [
    "spredixcan_dfs = pd.concat(spredixcan_dfs)"
   ]
  },
  {
   "cell_type": "code",
   "execution_count": null,
   "id": "ae99c7b5-14fc-4b39-a6b2-40fc703acd0a",
   "metadata": {},
   "outputs": [],
   "source": [
    "assert spredixcan_dfs[\"tissue\"].unique().shape[0] == len(prediction_model_tissues)"
   ]
  },
  {
   "cell_type": "code",
   "execution_count": null,
   "id": "b7223a23-e40f-4cd3-8988-72033f8739bd",
   "metadata": {},
   "outputs": [],
   "source": [
    "spredixcan_dfs.shape"
   ]
  },
  {
   "cell_type": "code",
   "execution_count": null,
   "id": "6b47d026-01c0-4f7c-a90e-f0baa13235f4",
   "metadata": {},
   "outputs": [],
   "source": [
    "spredixcan_dfs.head()"
   ]
  },
  {
   "cell_type": "markdown",
   "id": "5ecfd141-ecb8-47cf-905e-25cc1b4d3f9d",
   "metadata": {
    "papermill": {
     "duration": 0.016156,
     "end_time": "2021-04-28T22:27:17.704727",
     "exception": false,
     "start_time": "2021-04-28T22:27:17.688571",
     "status": "completed"
    },
    "tags": []
   },
   "source": [
    "### Count number of tissues available per gene"
   ]
  },
  {
   "cell_type": "code",
   "execution_count": null,
   "id": "86fe37e1-a303-4221-a12e-3a54a04dd510",
   "metadata": {},
   "outputs": [],
   "source": [
    "spredixcan_genes_n_models = spredixcan_dfs.groupby(\"gene\")[\"tissue\"].nunique()"
   ]
  },
  {
   "cell_type": "code",
   "execution_count": null,
   "id": "31416d48-1e4d-463f-9a5c-34d29803c3f8",
   "metadata": {},
   "outputs": [],
   "source": [
    "spredixcan_genes_n_models"
   ]
  },
  {
   "cell_type": "markdown",
   "id": "904d7d30-9c2d-4c3e-b674-3f081954fe8b",
   "metadata": {
    "papermill": {
     "duration": 0.016156,
     "end_time": "2021-04-28T22:27:17.704727",
     "exception": false,
     "start_time": "2021-04-28T22:27:17.688571",
     "status": "completed"
    },
    "tags": []
   },
   "source": [
    "### Get tissues available per gene"
   ]
  },
  {
   "cell_type": "code",
   "execution_count": null,
   "id": "cf014e81-4b4e-4c46-9265-67718b3ab08e",
   "metadata": {},
   "outputs": [],
   "source": [
    "spredixcan_genes_models = spredixcan_dfs.groupby(\"gene\")[\"tissue\"].apply(\n",
    "    lambda x: frozenset(x.tolist())\n",
    ")"
   ]
  },
  {
   "cell_type": "code",
   "execution_count": null,
   "id": "5df09d7f-39c9-408f-9fef-5189e8ca1c87",
   "metadata": {},
   "outputs": [],
   "source": [
    "spredixcan_genes_models"
   ]
  },
  {
   "cell_type": "code",
   "execution_count": null,
   "id": "97c46886-5a48-4813-b890-1dcdb09ec09d",
   "metadata": {},
   "outputs": [],
   "source": [
    "assert spredixcan_genes_n_models.shape[0] == spredixcan_genes_models.shape[0]"
   ]
  },
  {
   "cell_type": "code",
   "execution_count": null,
   "id": "abc13913-a681-4297-a0e6-dde62f43c36f",
   "metadata": {},
   "outputs": [],
   "source": [
    "assert spredixcan_genes_n_models.index.equals(spredixcan_genes_models.index)"
   ]
  },
  {
   "cell_type": "code",
   "execution_count": null,
   "id": "995a02e7-b836-471b-b438-17c8c46e4fde",
   "metadata": {},
   "outputs": [],
   "source": [
    "assert (spredixcan_genes_models.apply(len) <= len(prediction_model_tissues)).all()"
   ]
  },
  {
   "cell_type": "code",
   "execution_count": null,
   "id": "0c1d0c68-1a06-480c-b6d6-d3c4fdf0f5aa",
   "metadata": {},
   "outputs": [],
   "source": [
    "spredixcan_genes_models.apply(len).describe()"
   ]
  },
  {
   "cell_type": "code",
   "execution_count": null,
   "id": "991b9441-6bb5-4b72-9285-5fd579875e40",
   "metadata": {},
   "outputs": [],
   "source": [
    "# testing\n",
    "assert (\n",
    "    spredixcan_genes_models.loc[spredixcan_genes_n_models.index]\n",
    "    .apply(len)\n",
    "    .equals(spredixcan_genes_n_models)\n",
    ")"
   ]
  },
  {
   "cell_type": "markdown",
   "id": "3042b22d-9d88-4e21-b112-ab23cf8d24ea",
   "metadata": {},
   "source": [
    "### Get simple gene id and add gene name"
   ]
  },
  {
   "cell_type": "code",
   "execution_count": null,
   "id": "3b7b0e76-7aca-44bf-beff-5f1c1b6193ee",
   "metadata": {},
   "outputs": [],
   "source": [
    "spredixcan_genes_models = spredixcan_genes_models.to_frame().reset_index()"
   ]
  },
  {
   "cell_type": "code",
   "execution_count": null,
   "id": "ffab4b61-c2d4-4bcc-a147-23a4bf30f715",
   "metadata": {},
   "outputs": [],
   "source": [
    "spredixcan_genes_models.head()"
   ]
  },
  {
   "cell_type": "code",
   "execution_count": null,
   "id": "7462e77a-5436-420d-a551-ec61ef42ebf0",
   "metadata": {},
   "outputs": [],
   "source": [
    "spredixcan_genes_models = spredixcan_genes_models.assign(\n",
    "    gene_id=spredixcan_genes_models[\"gene\"].apply(lambda g: g.split(\".\")[0])\n",
    ")"
   ]
  },
  {
   "cell_type": "code",
   "execution_count": null,
   "id": "25d6c953-4cc9-4cf6-b338-d4e653c2a231",
   "metadata": {},
   "outputs": [],
   "source": [
    "spredixcan_genes_models.head()"
   ]
  },
  {
   "cell_type": "code",
   "execution_count": null,
   "id": "e1cb2fe5-969f-4526-bca7-a3b8919b3509",
   "metadata": {},
   "outputs": [],
   "source": [
    "spredixcan_genes_models = spredixcan_genes_models.assign(\n",
    "    gene_name=spredixcan_genes_models[\"gene_id\"].apply(\n",
    "        lambda g: Gene.GENE_ID_TO_NAME_MAP[g]\n",
    "    )\n",
    ")"
   ]
  },
  {
   "cell_type": "code",
   "execution_count": null,
   "id": "ff078ce5-3f18-442e-a593-3326436c758e",
   "metadata": {},
   "outputs": [],
   "source": [
    "spredixcan_genes_models = spredixcan_genes_models[[\"gene_id\", \"gene_name\", \"tissue\"]]"
   ]
  },
  {
   "cell_type": "code",
   "execution_count": null,
   "id": "af6b40b9-fc58-47a1-a1b5-4404034b008b",
   "metadata": {},
   "outputs": [],
   "source": [
    "spredixcan_genes_models.head()"
   ]
  },
  {
   "cell_type": "markdown",
   "id": "d6947d45-ea78-4c6b-bf71-f7413d1687e3",
   "metadata": {},
   "source": [
    "### Save"
   ]
  },
  {
   "cell_type": "code",
   "execution_count": null,
   "id": "10e19441-8390-4eb1-8da4-24752597bb54",
   "metadata": {},
   "outputs": [],
   "source": [
    "spredixcan_genes_models.to_pickle(OUTPUT_DIR_BASE / \"gene_tissues.pkl\")"
   ]
  },
  {
   "cell_type": "markdown",
   "id": "d5b7f4ea-1844-420a-8037-53095f3823c5",
   "metadata": {
    "papermill": {
     "duration": 0.016156,
     "end_time": "2021-04-28T22:27:17.704727",
     "exception": false,
     "start_time": "2021-04-28T22:27:17.688571",
     "status": "completed"
    },
    "tags": []
   },
   "source": [
    "## S-MultiXcan results"
   ]
  },
  {
   "cell_type": "code",
   "execution_count": null,
   "id": "2b73c11e-9aa2-410e-84b4-a70be34d02e4",
   "metadata": {},
   "outputs": [],
   "source": [
    "# TODO: something that could be interesting to do is to compare `n_indep` with the number of independent components I get\n",
    "smultixcan_results = pd.read_csv(\n",
    "    SMULTIXCAN_FILE, sep=\"\\t\", usecols=[\"gene\", \"gene_name\", \"pvalue\", \"n\"]\n",
    ")"
   ]
  },
  {
   "cell_type": "code",
   "execution_count": null,
   "id": "8b5abebd-baab-4188-9e3d-655ebbe32401",
   "metadata": {},
   "outputs": [],
   "source": [
    "smultixcan_results.shape"
   ]
  },
  {
   "cell_type": "code",
   "execution_count": null,
   "id": "c65e233f-9ef6-4883-9386-7abf1d6d1cbd",
   "metadata": {},
   "outputs": [],
   "source": [
    "smultixcan_results = smultixcan_results.dropna()"
   ]
  },
  {
   "cell_type": "code",
   "execution_count": null,
   "id": "57d2d311-4a42-4725-9e37-b124ed13ad33",
   "metadata": {},
   "outputs": [],
   "source": [
    "smultixcan_results.shape"
   ]
  },
  {
   "cell_type": "code",
   "execution_count": null,
   "id": "c49f62a9-a01a-44af-87da-47d195b0ef7e",
   "metadata": {},
   "outputs": [],
   "source": [
    "smultixcan_results.head()"
   ]
  },
  {
   "cell_type": "code",
   "execution_count": null,
   "id": "9c4c023c-86d6-4c4b-8d57-c2b6b93aaf84",
   "metadata": {},
   "outputs": [],
   "source": [
    "assert smultixcan_results[\"gene\"].is_unique"
   ]
  },
  {
   "cell_type": "code",
   "execution_count": null,
   "id": "d737ad4f-f821-4546-9a3e-6703fe264b49",
   "metadata": {},
   "outputs": [],
   "source": [
    "# testing\n",
    "_tmp_smultixcan_results_n_models = (\n",
    "    smultixcan_results.set_index(\"gene\")[\"n\"].astype(int).rename(\"tissue\")\n",
    ")\n",
    "\n",
    "assert spredixcan_genes_n_models.shape[0] == _tmp_smultixcan_results_n_models.shape[0]\n",
    "assert spredixcan_genes_n_models.equals(\n",
    "    _tmp_smultixcan_results_n_models.loc[spredixcan_genes_n_models.index]\n",
    ")"
   ]
  },
  {
   "cell_type": "markdown",
   "id": "12f04660-3c26-4580-8372-7c29ee3ab7df",
   "metadata": {},
   "source": [
    "### Remove duplicated gene names"
   ]
  },
  {
   "cell_type": "code",
   "execution_count": null,
   "id": "3db4cebf-7f10-4651-be4e-c50e65b855c5",
   "metadata": {},
   "outputs": [],
   "source": [
    "smultixcan_results[\"gene_name\"].is_unique"
   ]
  },
  {
   "cell_type": "code",
   "execution_count": null,
   "id": "359a302e-d9a9-4bce-bc45-89ab285d8ad5",
   "metadata": {},
   "outputs": [],
   "source": [
    "# list duplicated gene names\n",
    "_smultixcan_duplicated_gene_names = smultixcan_results[\n",
    "    smultixcan_results[\"gene_name\"].duplicated(keep=False)\n",
    "]\n",
    "display(_smultixcan_duplicated_gene_names)"
   ]
  },
  {
   "cell_type": "code",
   "execution_count": null,
   "id": "d8ff3ec1-312a-48be-b33f-50fb6f103c21",
   "metadata": {},
   "outputs": [],
   "source": [
    "# TODO: my strategy below to handle duplicated gene names is to keep the first one\n",
    "#  it might be better to have another strategy, maybe keeping the most significant"
   ]
  },
  {
   "cell_type": "code",
   "execution_count": null,
   "id": "11e348f5-ba33-487a-9dfe-cd493a02f320",
   "metadata": {},
   "outputs": [],
   "source": [
    "smultixcan_results = smultixcan_results.drop_duplicates(\n",
    "    subset=[\"gene_name\"], keep=\"first\"\n",
    ")\n",
    "display(smultixcan_results.shape)"
   ]
  },
  {
   "cell_type": "markdown",
   "id": "7dcb8db7",
   "metadata": {
    "papermill": {
     "duration": 0.016403,
     "end_time": "2021-04-28T22:27:17.896463",
     "exception": false,
     "start_time": "2021-04-28T22:27:17.880060",
     "status": "completed"
    },
    "tags": []
   },
   "source": [
    "### Get common genes with MultiPLIER"
   ]
  },
  {
   "cell_type": "code",
   "execution_count": null,
   "id": "c820e6cf-6350-45af-b49a-0abd94f570ff",
   "metadata": {},
   "outputs": [],
   "source": [
    "common_genes = set(multiplier_z_genes).intersection(\n",
    "    set(smultixcan_results[\"gene_name\"])\n",
    ")"
   ]
  },
  {
   "cell_type": "code",
   "execution_count": null,
   "id": "0a7328f9-96c7-4ac6-a9a6-ae4fa121a4cd",
   "metadata": {},
   "outputs": [],
   "source": [
    "len(common_genes)"
   ]
  },
  {
   "cell_type": "code",
   "execution_count": null,
   "id": "5b08d362-44c8-4db2-9258-670e2e2a9cc0",
   "metadata": {},
   "outputs": [],
   "source": [
    "sorted(list(common_genes))[:5]"
   ]
  },
  {
   "cell_type": "code",
   "execution_count": null,
   "id": "ddc47580-bd3d-4168-bbb2-0763d227369b",
   "metadata": {},
   "outputs": [],
   "source": [
    "assert smultixcan_results[smultixcan_results[\"gene_name\"].isin(common_genes)].shape[\n",
    "    0\n",
    "] == len(common_genes)"
   ]
  },
  {
   "cell_type": "markdown",
   "id": "94587312-9a1c-4c46-a131-6921a729a8cc",
   "metadata": {},
   "source": [
    "### Save"
   ]
  },
  {
   "cell_type": "code",
   "execution_count": null,
   "id": "1fc57e26-d415-4565-be7f-e7e1de935dbb",
   "metadata": {},
   "outputs": [],
   "source": [
    "with open(OUTPUT_DIR_BASE / \"common_genes.pkl\", \"wb\") as handle:\n",
    "    pickle.dump(common_genes, handle, protocol=pickle.HIGHEST_PROTOCOL)"
   ]
  },
  {
   "cell_type": "markdown",
   "id": "19fa0a3e-2fe7-43de-9939-9e8fcd0579e3",
   "metadata": {
    "papermill": {
     "duration": 0.016403,
     "end_time": "2021-04-28T22:27:17.896463",
     "exception": false,
     "start_time": "2021-04-28T22:27:17.880060",
     "status": "completed"
    },
    "tags": []
   },
   "source": [
    "# Get gene objects"
   ]
  },
  {
   "cell_type": "code",
   "execution_count": null,
   "id": "bb932812",
   "metadata": {
    "papermill": {
     "duration": 0.032133,
     "end_time": "2021-04-28T22:27:17.945091",
     "exception": false,
     "start_time": "2021-04-28T22:27:17.912958",
     "status": "completed"
    },
    "tags": []
   },
   "outputs": [],
   "source": [
    "multiplier_gene_obj = {\n",
    "    gene_name: Gene(name=gene_name)\n",
    "    for gene_name in common_genes\n",
    "    if gene_name in Gene.GENE_NAME_TO_ID_MAP\n",
    "}"
   ]
  },
  {
   "cell_type": "code",
   "execution_count": null,
   "id": "39533214",
   "metadata": {
    "papermill": {
     "duration": 0.028153,
     "end_time": "2021-04-28T22:27:17.990710",
     "exception": false,
     "start_time": "2021-04-28T22:27:17.962557",
     "status": "completed"
    },
    "tags": []
   },
   "outputs": [],
   "source": [
    "len(multiplier_gene_obj)"
   ]
  },
  {
   "cell_type": "code",
   "execution_count": null,
   "id": "9a5d0b84",
   "metadata": {
    "papermill": {
     "duration": 0.028361,
     "end_time": "2021-04-28T22:27:18.036595",
     "exception": false,
     "start_time": "2021-04-28T22:27:18.008234",
     "status": "completed"
    },
    "tags": []
   },
   "outputs": [],
   "source": [
    "assert multiplier_gene_obj[\"GAS6\"].ensembl_id == \"ENSG00000183087\""
   ]
  },
  {
   "cell_type": "code",
   "execution_count": null,
   "id": "e3ffabc7",
   "metadata": {
    "papermill": {
     "duration": 0.693976,
     "end_time": "2021-04-28T22:27:18.748183",
     "exception": false,
     "start_time": "2021-04-28T22:27:18.054207",
     "status": "completed"
    },
    "tags": []
   },
   "outputs": [],
   "source": [
    "_gene_obj = list(multiplier_gene_obj.values())\n",
    "\n",
    "genes_info = pd.DataFrame(\n",
    "    {\n",
    "        \"name\": [g.name for g in _gene_obj],\n",
    "        \"id\": [g.ensembl_id for g in _gene_obj],\n",
    "        \"chr\": [g.chromosome for g in _gene_obj],\n",
    "        \"band\": [g.band for g in _gene_obj],\n",
    "        \"start_position\": [g.get_attribute(\"start_position\") for g in _gene_obj],\n",
    "        \"end_position\": [g.get_attribute(\"end_position\") for g in _gene_obj],\n",
    "    }\n",
    ")"
   ]
  },
  {
   "cell_type": "code",
   "execution_count": null,
   "id": "00475e72-1cfc-485f-8b4e-1d9cce695f58",
   "metadata": {},
   "outputs": [],
   "source": [
    "genes_info = genes_info.assign(\n",
    "    gene_length=genes_info.apply(\n",
    "        lambda x: x[\"end_position\"] - x[\"start_position\"], axis=1\n",
    "    )\n",
    ")"
   ]
  },
  {
   "cell_type": "code",
   "execution_count": null,
   "id": "e23519b8",
   "metadata": {
    "papermill": {
     "duration": 0.028574,
     "end_time": "2021-04-28T22:27:18.793860",
     "exception": false,
     "start_time": "2021-04-28T22:27:18.765286",
     "status": "completed"
    },
    "tags": []
   },
   "outputs": [],
   "source": [
    "genes_info.shape"
   ]
  },
  {
   "cell_type": "code",
   "execution_count": null,
   "id": "0d71881c",
   "metadata": {
    "papermill": {
     "duration": 0.03142,
     "end_time": "2021-04-28T22:27:18.843921",
     "exception": false,
     "start_time": "2021-04-28T22:27:18.812501",
     "status": "completed"
    },
    "tags": []
   },
   "outputs": [],
   "source": [
    "genes_info.head()"
   ]
  },
  {
   "cell_type": "markdown",
   "id": "f036828d-da4b-4f74-a0a2-e851a3f30a7c",
   "metadata": {},
   "source": [
    "## Save"
   ]
  },
  {
   "cell_type": "code",
   "execution_count": null,
   "id": "32cf6566-03bb-4a85-81e1-da46fc9f37ad",
   "metadata": {},
   "outputs": [],
   "source": [
    "genes_info.to_pickle(OUTPUT_DIR_BASE / \"genes_info.pkl\")"
   ]
  },
  {
   "cell_type": "code",
   "execution_count": null,
   "id": "b25e3ead",
   "metadata": {},
   "outputs": [],
   "source": []
  }
 ],
 "metadata": {
  "jupytext": {
   "cell_metadata_filter": "all,-execution,-papermill,-trusted",
   "formats": "ipynb,py//py:percent"
  },
  "kernelspec": {
   "display_name": "Python 3 (ipykernel)",
   "language": "python",
   "name": "python3"
  },
  "language_info": {
   "codemirror_mode": {
    "name": "ipython",
    "version": 3
   },
   "file_extension": ".py",
   "mimetype": "text/x-python",
   "name": "python",
   "nbconvert_exporter": "python",
   "pygments_lexer": "ipython3",
   "version": "3.8.13"
  },
  "papermill": {
   "default_parameters": {},
   "duration": 722.130107,
   "end_time": "2021-04-28T22:39:17.602577",
   "environment_variables": {},
   "exception": null,
   "input_path": "08_gsa_gls/10-gene_expr_correlations.ipynb",
   "output_path": "08_gsa_gls/10-gene_expr_correlations.run.ipynb",
   "parameters": {},
   "start_time": "2021-04-28T22:27:15.472470",
   "version": "2.2.2"
  }
 },
 "nbformat": 4,
 "nbformat_minor": 5
}
