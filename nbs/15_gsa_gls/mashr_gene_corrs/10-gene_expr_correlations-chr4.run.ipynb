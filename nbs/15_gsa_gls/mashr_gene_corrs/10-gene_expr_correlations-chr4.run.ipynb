{
 "cells": [
  {
   "cell_type": "markdown",
   "id": "wicked-wrong",
   "metadata": {
    "papermill": {
     "duration": 0.012886,
     "end_time": "2021-05-01T06:16:22.761005",
     "exception": false,
     "start_time": "2021-05-01T06:16:22.748119",
     "status": "completed"
    },
    "tags": []
   },
   "source": [
    "# Description"
   ]
  },
  {
   "cell_type": "markdown",
   "id": "metropolitan-august",
   "metadata": {
    "papermill": {
     "duration": 0.012019,
     "end_time": "2021-05-01T06:16:22.785194",
     "exception": false,
     "start_time": "2021-05-01T06:16:22.773175",
     "status": "completed"
    },
    "tags": []
   },
   "source": [
    "This notebook computes predicted expression correlations between all genes in the MultiPLIER models.\n",
    "\n",
    "It also has a parameter set for papermill to run on a single chromosome to run in parallel (see under `Settings` below)."
   ]
  },
  {
   "cell_type": "markdown",
   "id": "focal-graduation",
   "metadata": {
    "papermill": {
     "duration": 0.012105,
     "end_time": "2021-05-01T06:16:22.809556",
     "exception": false,
     "start_time": "2021-05-01T06:16:22.797451",
     "status": "completed"
    },
    "tags": []
   },
   "source": [
    "# Modules"
   ]
  },
  {
   "cell_type": "code",
   "execution_count": 1,
   "id": "opening-tonight",
   "metadata": {
    "execution": {
     "iopub.execute_input": "2021-05-01T06:16:22.840406Z",
     "iopub.status.busy": "2021-05-01T06:16:22.839953Z",
     "iopub.status.idle": "2021-05-01T06:16:22.848419Z",
     "shell.execute_reply": "2021-05-01T06:16:22.847979Z"
    },
    "papermill": {
     "duration": 0.026676,
     "end_time": "2021-05-01T06:16:22.848535",
     "exception": false,
     "start_time": "2021-05-01T06:16:22.821859",
     "status": "completed"
    },
    "tags": []
   },
   "outputs": [],
   "source": [
    "%load_ext autoreload\n",
    "%autoreload 2"
   ]
  },
  {
   "cell_type": "code",
   "execution_count": 2,
   "id": "choice-theta",
   "metadata": {
    "execution": {
     "iopub.execute_input": "2021-05-01T06:16:22.876955Z",
     "iopub.status.busy": "2021-05-01T06:16:22.876513Z",
     "iopub.status.idle": "2021-05-01T06:16:23.449341Z",
     "shell.execute_reply": "2021-05-01T06:16:23.449908Z"
    },
    "papermill": {
     "duration": 0.588407,
     "end_time": "2021-05-01T06:16:23.450043",
     "exception": false,
     "start_time": "2021-05-01T06:16:22.861636",
     "status": "completed"
    },
    "tags": []
   },
   "outputs": [],
   "source": [
    "import numpy as np\n",
    "from scipy.spatial.distance import squareform\n",
    "import pandas as pd\n",
    "from tqdm import tqdm\n",
    "\n",
    "import conf\n",
    "from entity import Gene"
   ]
  },
  {
   "cell_type": "markdown",
   "id": "pressed-forth",
   "metadata": {
    "papermill": {
     "duration": 0.013383,
     "end_time": "2021-05-01T06:16:23.477475",
     "exception": false,
     "start_time": "2021-05-01T06:16:23.464092",
     "status": "completed"
    },
    "tags": []
   },
   "source": [
    "# Settings"
   ]
  },
  {
   "cell_type": "code",
   "execution_count": 3,
   "id": "catholic-necklace",
   "metadata": {
    "execution": {
     "iopub.execute_input": "2021-05-01T06:16:23.511937Z",
     "iopub.status.busy": "2021-05-01T06:16:23.505716Z",
     "iopub.status.idle": "2021-05-01T06:16:23.513476Z",
     "shell.execute_reply": "2021-05-01T06:16:23.513802Z"
    },
    "papermill": {
     "duration": 0.023416,
     "end_time": "2021-05-01T06:16:23.513923",
     "exception": false,
     "start_time": "2021-05-01T06:16:23.490507",
     "status": "completed"
    },
    "tags": [
     "parameters"
    ]
   },
   "outputs": [],
   "source": [
    "# specifies a single chromosome value\n",
    "# by default, run on all chromosomes\n",
    "chromosome = \"all\""
   ]
  },
  {
   "cell_type": "code",
   "execution_count": 4,
   "id": "universal-activation",
   "metadata": {
    "execution": {
     "iopub.execute_input": "2021-05-01T06:16:23.542371Z",
     "iopub.status.busy": "2021-05-01T06:16:23.541925Z",
     "iopub.status.idle": "2021-05-01T06:16:23.550070Z",
     "shell.execute_reply": "2021-05-01T06:16:23.550457Z"
    },
    "papermill": {
     "duration": 0.023537,
     "end_time": "2021-05-01T06:16:23.550576",
     "exception": false,
     "start_time": "2021-05-01T06:16:23.527039",
     "status": "completed"
    },
    "tags": [
     "injected-parameters"
    ]
   },
   "outputs": [],
   "source": [
    "# Parameters\n",
    "chromosome = 4\n"
   ]
  },
  {
   "cell_type": "code",
   "execution_count": 5,
   "id": "hairy-facing",
   "metadata": {
    "execution": {
     "iopub.execute_input": "2021-05-01T06:16:23.580448Z",
     "iopub.status.busy": "2021-05-01T06:16:23.579999Z",
     "iopub.status.idle": "2021-05-01T06:16:23.588815Z",
     "shell.execute_reply": "2021-05-01T06:16:23.589163Z"
    },
    "papermill": {
     "duration": 0.024868,
     "end_time": "2021-05-01T06:16:23.589283",
     "exception": false,
     "start_time": "2021-05-01T06:16:23.564415",
     "status": "completed"
    },
    "tags": []
   },
   "outputs": [],
   "source": [
    "if chromosome == \"all\":\n",
    "    from time import sleep\n",
    "\n",
    "    message = \"\"\"\n",
    "    WARNING: you are going to compute correlations of gene predicted expression across all chromosomes without parallelism.\n",
    "    It is recommended that you look at the README.md file in this subfolder (nbs/08_gsa_gls/README.md) to know how to do that.\n",
    "    \n",
    "    It will continue in 20 seconds.\n",
    "    \"\"\"\n",
    "    print(message)\n",
    "    sleep(20)"
   ]
  },
  {
   "cell_type": "markdown",
   "id": "oriental-soldier",
   "metadata": {
    "papermill": {
     "duration": 0.012859,
     "end_time": "2021-05-01T06:16:23.615458",
     "exception": false,
     "start_time": "2021-05-01T06:16:23.602599",
     "status": "completed"
    },
    "tags": []
   },
   "source": [
    "# Load data"
   ]
  },
  {
   "cell_type": "markdown",
   "id": "lined-convert",
   "metadata": {
    "papermill": {
     "duration": 0.012456,
     "end_time": "2021-05-01T06:16:23.640925",
     "exception": false,
     "start_time": "2021-05-01T06:16:23.628469",
     "status": "completed"
    },
    "tags": []
   },
   "source": [
    "## MultiPLIER Z"
   ]
  },
  {
   "cell_type": "code",
   "execution_count": 6,
   "id": "elder-cowboy",
   "metadata": {
    "execution": {
     "iopub.execute_input": "2021-05-01T06:16:23.668387Z",
     "iopub.status.busy": "2021-05-01T06:16:23.667975Z",
     "iopub.status.idle": "2021-05-01T06:16:23.703229Z",
     "shell.execute_reply": "2021-05-01T06:16:23.703615Z"
    },
    "papermill": {
     "duration": 0.050351,
     "end_time": "2021-05-01T06:16:23.703743",
     "exception": false,
     "start_time": "2021-05-01T06:16:23.653392",
     "status": "completed"
    },
    "tags": []
   },
   "outputs": [],
   "source": [
    "multiplier_z_genes = pd.read_pickle(\n",
    "    conf.MULTIPLIER[\"MODEL_Z_MATRIX_FILE\"]\n",
    ").index.tolist()"
   ]
  },
  {
   "cell_type": "code",
   "execution_count": 7,
   "id": "precise-fifteen",
   "metadata": {
    "execution": {
     "iopub.execute_input": "2021-05-01T06:16:23.737719Z",
     "iopub.status.busy": "2021-05-01T06:16:23.737275Z",
     "iopub.status.idle": "2021-05-01T06:16:23.746740Z",
     "shell.execute_reply": "2021-05-01T06:16:23.747099Z"
    },
    "papermill": {
     "duration": 0.029407,
     "end_time": "2021-05-01T06:16:23.747221",
     "exception": false,
     "start_time": "2021-05-01T06:16:23.717814",
     "status": "completed"
    },
    "tags": []
   },
   "outputs": [
    {
     "data": {
      "text/plain": [
       "6750"
      ]
     },
     "execution_count": 7,
     "metadata": {},
     "output_type": "execute_result"
    }
   ],
   "source": [
    "len(multiplier_z_genes)"
   ]
  },
  {
   "cell_type": "code",
   "execution_count": 8,
   "id": "congressional-centre",
   "metadata": {
    "execution": {
     "iopub.execute_input": "2021-05-01T06:16:23.777569Z",
     "iopub.status.busy": "2021-05-01T06:16:23.777095Z",
     "iopub.status.idle": "2021-05-01T06:16:23.786301Z",
     "shell.execute_reply": "2021-05-01T06:16:23.786642Z"
    },
    "papermill": {
     "duration": 0.025307,
     "end_time": "2021-05-01T06:16:23.786770",
     "exception": false,
     "start_time": "2021-05-01T06:16:23.761463",
     "status": "completed"
    },
    "tags": []
   },
   "outputs": [
    {
     "data": {
      "text/plain": [
       "['GAS6',\n",
       " 'MMP14',\n",
       " 'DSP',\n",
       " 'MARCKSL1',\n",
       " 'SPARC',\n",
       " 'CTSD',\n",
       " 'EPAS1',\n",
       " 'PALLD',\n",
       " 'PHC2',\n",
       " 'LGALS3BP']"
      ]
     },
     "execution_count": 8,
     "metadata": {},
     "output_type": "execute_result"
    }
   ],
   "source": [
    "multiplier_z_genes[:10]"
   ]
  },
  {
   "cell_type": "markdown",
   "id": "sharing-surfing",
   "metadata": {
    "papermill": {
     "duration": 0.013528,
     "end_time": "2021-05-01T06:16:23.814551",
     "exception": false,
     "start_time": "2021-05-01T06:16:23.801023",
     "status": "completed"
    },
    "tags": []
   },
   "source": [
    "## Get gene objects"
   ]
  },
  {
   "cell_type": "code",
   "execution_count": 9,
   "id": "laden-contamination",
   "metadata": {
    "execution": {
     "iopub.execute_input": "2021-05-01T06:16:23.844262Z",
     "iopub.status.busy": "2021-05-01T06:16:23.843830Z",
     "iopub.status.idle": "2021-05-01T06:16:23.859828Z",
     "shell.execute_reply": "2021-05-01T06:16:23.860169Z"
    },
    "papermill": {
     "duration": 0.032152,
     "end_time": "2021-05-01T06:16:23.860298",
     "exception": false,
     "start_time": "2021-05-01T06:16:23.828146",
     "status": "completed"
    },
    "tags": []
   },
   "outputs": [],
   "source": [
    "multiplier_gene_obj = {\n",
    "    gene_name: Gene(name=gene_name)\n",
    "    for gene_name in multiplier_z_genes\n",
    "    if gene_name in Gene.GENE_NAME_TO_ID_MAP\n",
    "}"
   ]
  },
  {
   "cell_type": "code",
   "execution_count": 10,
   "id": "greatest-remains",
   "metadata": {
    "execution": {
     "iopub.execute_input": "2021-05-01T06:16:23.890952Z",
     "iopub.status.busy": "2021-05-01T06:16:23.890514Z",
     "iopub.status.idle": "2021-05-01T06:16:23.899429Z",
     "shell.execute_reply": "2021-05-01T06:16:23.899779Z"
    },
    "papermill": {
     "duration": 0.025329,
     "end_time": "2021-05-01T06:16:23.899901",
     "exception": false,
     "start_time": "2021-05-01T06:16:23.874572",
     "status": "completed"
    },
    "tags": []
   },
   "outputs": [
    {
     "data": {
      "text/plain": [
       "6454"
      ]
     },
     "execution_count": 10,
     "metadata": {},
     "output_type": "execute_result"
    }
   ],
   "source": [
    "len(multiplier_gene_obj)"
   ]
  },
  {
   "cell_type": "code",
   "execution_count": 11,
   "id": "photographic-location",
   "metadata": {
    "execution": {
     "iopub.execute_input": "2021-05-01T06:16:23.931670Z",
     "iopub.status.busy": "2021-05-01T06:16:23.930218Z",
     "iopub.status.idle": "2021-05-01T06:16:23.938960Z",
     "shell.execute_reply": "2021-05-01T06:16:23.939338Z"
    },
    "papermill": {
     "duration": 0.025193,
     "end_time": "2021-05-01T06:16:23.939460",
     "exception": false,
     "start_time": "2021-05-01T06:16:23.914267",
     "status": "completed"
    },
    "tags": []
   },
   "outputs": [
    {
     "data": {
      "text/plain": [
       "'ENSG00000183087'"
      ]
     },
     "execution_count": 11,
     "metadata": {},
     "output_type": "execute_result"
    }
   ],
   "source": [
    "multiplier_gene_obj[\"GAS6\"].ensembl_id"
   ]
  },
  {
   "cell_type": "code",
   "execution_count": 12,
   "id": "korean-expert",
   "metadata": {
    "execution": {
     "iopub.execute_input": "2021-05-01T06:16:23.972734Z",
     "iopub.status.busy": "2021-05-01T06:16:23.972265Z",
     "iopub.status.idle": "2021-05-01T06:16:24.714362Z",
     "shell.execute_reply": "2021-05-01T06:16:24.713791Z"
    },
    "papermill": {
     "duration": 0.759962,
     "end_time": "2021-05-01T06:16:24.714461",
     "exception": false,
     "start_time": "2021-05-01T06:16:23.954499",
     "status": "completed"
    },
    "tags": []
   },
   "outputs": [],
   "source": [
    "_gene_obj = list(multiplier_gene_obj.values())\n",
    "\n",
    "genes_info = pd.DataFrame(\n",
    "    {\n",
    "        \"name\": [g.name for g in _gene_obj],\n",
    "        \"id\": [g.ensembl_id for g in _gene_obj],\n",
    "        \"chr\": [g.chromosome for g in _gene_obj],\n",
    "    }\n",
    ")"
   ]
  },
  {
   "cell_type": "code",
   "execution_count": 13,
   "id": "increasing-cream",
   "metadata": {
    "execution": {
     "iopub.execute_input": "2021-05-01T06:16:24.746905Z",
     "iopub.status.busy": "2021-05-01T06:16:24.746472Z",
     "iopub.status.idle": "2021-05-01T06:16:24.755639Z",
     "shell.execute_reply": "2021-05-01T06:16:24.755250Z"
    },
    "papermill": {
     "duration": 0.026586,
     "end_time": "2021-05-01T06:16:24.755739",
     "exception": false,
     "start_time": "2021-05-01T06:16:24.729153",
     "status": "completed"
    },
    "tags": []
   },
   "outputs": [
    {
     "data": {
      "text/plain": [
       "(6454, 3)"
      ]
     },
     "execution_count": 13,
     "metadata": {},
     "output_type": "execute_result"
    }
   ],
   "source": [
    "genes_info.shape"
   ]
  },
  {
   "cell_type": "code",
   "execution_count": 14,
   "id": "immune-slide",
   "metadata": {
    "execution": {
     "iopub.execute_input": "2021-05-01T06:16:24.791081Z",
     "iopub.status.busy": "2021-05-01T06:16:24.790631Z",
     "iopub.status.idle": "2021-05-01T06:16:24.804215Z",
     "shell.execute_reply": "2021-05-01T06:16:24.803816Z"
    },
    "papermill": {
     "duration": 0.032473,
     "end_time": "2021-05-01T06:16:24.804323",
     "exception": false,
     "start_time": "2021-05-01T06:16:24.771850",
     "status": "completed"
    },
    "tags": []
   },
   "outputs": [
    {
     "data": {
      "text/html": [
       "<div>\n",
       "<style scoped>\n",
       "    .dataframe tbody tr th:only-of-type {\n",
       "        vertical-align: middle;\n",
       "    }\n",
       "\n",
       "    .dataframe tbody tr th {\n",
       "        vertical-align: top;\n",
       "    }\n",
       "\n",
       "    .dataframe thead th {\n",
       "        text-align: right;\n",
       "    }\n",
       "</style>\n",
       "<table border=\"1\" class=\"dataframe\">\n",
       "  <thead>\n",
       "    <tr style=\"text-align: right;\">\n",
       "      <th></th>\n",
       "      <th>name</th>\n",
       "      <th>id</th>\n",
       "      <th>chr</th>\n",
       "    </tr>\n",
       "  </thead>\n",
       "  <tbody>\n",
       "    <tr>\n",
       "      <th>0</th>\n",
       "      <td>GAS6</td>\n",
       "      <td>ENSG00000183087</td>\n",
       "      <td>13</td>\n",
       "    </tr>\n",
       "    <tr>\n",
       "      <th>1</th>\n",
       "      <td>MMP14</td>\n",
       "      <td>ENSG00000157227</td>\n",
       "      <td>14</td>\n",
       "    </tr>\n",
       "    <tr>\n",
       "      <th>2</th>\n",
       "      <td>DSP</td>\n",
       "      <td>ENSG00000096696</td>\n",
       "      <td>6</td>\n",
       "    </tr>\n",
       "    <tr>\n",
       "      <th>3</th>\n",
       "      <td>MARCKSL1</td>\n",
       "      <td>ENSG00000175130</td>\n",
       "      <td>1</td>\n",
       "    </tr>\n",
       "    <tr>\n",
       "      <th>4</th>\n",
       "      <td>SPARC</td>\n",
       "      <td>ENSG00000113140</td>\n",
       "      <td>5</td>\n",
       "    </tr>\n",
       "  </tbody>\n",
       "</table>\n",
       "</div>"
      ],
      "text/plain": [
       "       name               id chr\n",
       "0      GAS6  ENSG00000183087  13\n",
       "1     MMP14  ENSG00000157227  14\n",
       "2       DSP  ENSG00000096696   6\n",
       "3  MARCKSL1  ENSG00000175130   1\n",
       "4     SPARC  ENSG00000113140   5"
      ]
     },
     "execution_count": 14,
     "metadata": {},
     "output_type": "execute_result"
    }
   ],
   "source": [
    "genes_info.head()"
   ]
  },
  {
   "cell_type": "markdown",
   "id": "leading-colombia",
   "metadata": {
    "papermill": {
     "duration": 0.015764,
     "end_time": "2021-05-01T06:16:24.836610",
     "exception": false,
     "start_time": "2021-05-01T06:16:24.820846",
     "status": "completed"
    },
    "tags": []
   },
   "source": [
    "## Get tissues names"
   ]
  },
  {
   "cell_type": "code",
   "execution_count": 15,
   "id": "comfortable-corrections",
   "metadata": {
    "execution": {
     "iopub.execute_input": "2021-05-01T06:16:24.868896Z",
     "iopub.status.busy": "2021-05-01T06:16:24.868461Z",
     "iopub.status.idle": "2021-05-01T06:16:24.877132Z",
     "shell.execute_reply": "2021-05-01T06:16:24.877490Z"
    },
    "papermill": {
     "duration": 0.02618,
     "end_time": "2021-05-01T06:16:24.877614",
     "exception": false,
     "start_time": "2021-05-01T06:16:24.851434",
     "status": "completed"
    },
    "tags": []
   },
   "outputs": [],
   "source": [
    "db_files = list(conf.PHENOMEXCAN[\"PREDICTION_MODELS\"][\"MASHR\"].glob(\"*.db\"))"
   ]
  },
  {
   "cell_type": "code",
   "execution_count": 16,
   "id": "sticky-allowance",
   "metadata": {
    "execution": {
     "iopub.execute_input": "2021-05-01T06:16:24.910010Z",
     "iopub.status.busy": "2021-05-01T06:16:24.909531Z",
     "iopub.status.idle": "2021-05-01T06:16:24.918087Z",
     "shell.execute_reply": "2021-05-01T06:16:24.917530Z"
    },
    "papermill": {
     "duration": 0.025751,
     "end_time": "2021-05-01T06:16:24.918198",
     "exception": false,
     "start_time": "2021-05-01T06:16:24.892447",
     "status": "completed"
    },
    "tags": []
   },
   "outputs": [],
   "source": [
    "assert len(db_files) == 49"
   ]
  },
  {
   "cell_type": "code",
   "execution_count": 17,
   "id": "primary-brooks",
   "metadata": {
    "execution": {
     "iopub.execute_input": "2021-05-01T06:16:24.957996Z",
     "iopub.status.busy": "2021-05-01T06:16:24.957518Z",
     "iopub.status.idle": "2021-05-01T06:16:24.969575Z",
     "shell.execute_reply": "2021-05-01T06:16:24.969181Z"
    },
    "papermill": {
     "duration": 0.036036,
     "end_time": "2021-05-01T06:16:24.969685",
     "exception": false,
     "start_time": "2021-05-01T06:16:24.933649",
     "status": "completed"
    },
    "tags": []
   },
   "outputs": [],
   "source": [
    "tissues = [str(f).split(\"mashr_\")[1].split(\".db\")[0] for f in db_files]"
   ]
  },
  {
   "cell_type": "code",
   "execution_count": 18,
   "id": "champion-acting",
   "metadata": {
    "execution": {
     "iopub.execute_input": "2021-05-01T06:16:25.004797Z",
     "iopub.status.busy": "2021-05-01T06:16:25.004340Z",
     "iopub.status.idle": "2021-05-01T06:16:25.013397Z",
     "shell.execute_reply": "2021-05-01T06:16:25.013788Z"
    },
    "papermill": {
     "duration": 0.027422,
     "end_time": "2021-05-01T06:16:25.013914",
     "exception": false,
     "start_time": "2021-05-01T06:16:24.986492",
     "status": "completed"
    },
    "tags": []
   },
   "outputs": [
    {
     "data": {
      "text/plain": [
       "['Skin_Not_Sun_Exposed_Suprapubic',\n",
       " 'Cells_EBV-transformed_lymphocytes',\n",
       " 'Brain_Frontal_Cortex_BA9',\n",
       " 'Kidney_Cortex',\n",
       " 'Brain_Substantia_nigra']"
      ]
     },
     "execution_count": 18,
     "metadata": {},
     "output_type": "execute_result"
    }
   ],
   "source": [
    "tissues[:5]"
   ]
  },
  {
   "cell_type": "markdown",
   "id": "peaceful-breathing",
   "metadata": {
    "papermill": {
     "duration": 0.015619,
     "end_time": "2021-05-01T06:16:25.045675",
     "exception": false,
     "start_time": "2021-05-01T06:16:25.030056",
     "status": "completed"
    },
    "tags": []
   },
   "source": [
    "# Test"
   ]
  },
  {
   "cell_type": "code",
   "execution_count": 19,
   "id": "together-breakfast",
   "metadata": {
    "execution": {
     "iopub.execute_input": "2021-05-01T06:16:25.079108Z",
     "iopub.status.busy": "2021-05-01T06:16:25.078678Z",
     "iopub.status.idle": "2021-05-01T06:16:25.093270Z",
     "shell.execute_reply": "2021-05-01T06:16:25.093639Z"
    },
    "papermill": {
     "duration": 0.032484,
     "end_time": "2021-05-01T06:16:25.093759",
     "exception": false,
     "start_time": "2021-05-01T06:16:25.061275",
     "status": "completed"
    },
    "tags": []
   },
   "outputs": [
    {
     "data": {
      "text/html": [
       "<div>\n",
       "<style scoped>\n",
       "    .dataframe tbody tr th:only-of-type {\n",
       "        vertical-align: middle;\n",
       "    }\n",
       "\n",
       "    .dataframe tbody tr th {\n",
       "        vertical-align: top;\n",
       "    }\n",
       "\n",
       "    .dataframe thead th {\n",
       "        text-align: right;\n",
       "    }\n",
       "</style>\n",
       "<table border=\"1\" class=\"dataframe\">\n",
       "  <thead>\n",
       "    <tr style=\"text-align: right;\">\n",
       "      <th></th>\n",
       "      <th>name</th>\n",
       "      <th>id</th>\n",
       "      <th>chr</th>\n",
       "    </tr>\n",
       "  </thead>\n",
       "  <tbody>\n",
       "    <tr>\n",
       "      <th>0</th>\n",
       "      <td>GAS6</td>\n",
       "      <td>ENSG00000183087</td>\n",
       "      <td>13</td>\n",
       "    </tr>\n",
       "    <tr>\n",
       "      <th>139</th>\n",
       "      <td>FRY</td>\n",
       "      <td>ENSG00000073910</td>\n",
       "      <td>13</td>\n",
       "    </tr>\n",
       "    <tr>\n",
       "      <th>239</th>\n",
       "      <td>CCNA1</td>\n",
       "      <td>ENSG00000133101</td>\n",
       "      <td>13</td>\n",
       "    </tr>\n",
       "    <tr>\n",
       "      <th>283</th>\n",
       "      <td>FLT3</td>\n",
       "      <td>ENSG00000122025</td>\n",
       "      <td>13</td>\n",
       "    </tr>\n",
       "    <tr>\n",
       "      <th>412</th>\n",
       "      <td>TNFSF11</td>\n",
       "      <td>ENSG00000120659</td>\n",
       "      <td>13</td>\n",
       "    </tr>\n",
       "    <tr>\n",
       "      <th>...</th>\n",
       "      <td>...</td>\n",
       "      <td>...</td>\n",
       "      <td>...</td>\n",
       "    </tr>\n",
       "    <tr>\n",
       "      <th>6269</th>\n",
       "      <td>KL</td>\n",
       "      <td>ENSG00000133116</td>\n",
       "      <td>13</td>\n",
       "    </tr>\n",
       "    <tr>\n",
       "      <th>6351</th>\n",
       "      <td>MTMR6</td>\n",
       "      <td>ENSG00000139505</td>\n",
       "      <td>13</td>\n",
       "    </tr>\n",
       "    <tr>\n",
       "      <th>6379</th>\n",
       "      <td>ABCC4</td>\n",
       "      <td>ENSG00000125257</td>\n",
       "      <td>13</td>\n",
       "    </tr>\n",
       "    <tr>\n",
       "      <th>6416</th>\n",
       "      <td>RFXAP</td>\n",
       "      <td>ENSG00000133111</td>\n",
       "      <td>13</td>\n",
       "    </tr>\n",
       "    <tr>\n",
       "      <th>6436</th>\n",
       "      <td>ELF1</td>\n",
       "      <td>ENSG00000120690</td>\n",
       "      <td>13</td>\n",
       "    </tr>\n",
       "  </tbody>\n",
       "</table>\n",
       "<p>118 rows × 3 columns</p>\n",
       "</div>"
      ],
      "text/plain": [
       "         name               id chr\n",
       "0        GAS6  ENSG00000183087  13\n",
       "139       FRY  ENSG00000073910  13\n",
       "239     CCNA1  ENSG00000133101  13\n",
       "283      FLT3  ENSG00000122025  13\n",
       "412   TNFSF11  ENSG00000120659  13\n",
       "...       ...              ...  ..\n",
       "6269       KL  ENSG00000133116  13\n",
       "6351    MTMR6  ENSG00000139505  13\n",
       "6379    ABCC4  ENSG00000125257  13\n",
       "6416    RFXAP  ENSG00000133111  13\n",
       "6436     ELF1  ENSG00000120690  13\n",
       "\n",
       "[118 rows x 3 columns]"
      ]
     },
     "execution_count": 19,
     "metadata": {},
     "output_type": "execute_result"
    }
   ],
   "source": [
    "genes_info[genes_info[\"chr\"] == \"13\"]"
   ]
  },
  {
   "cell_type": "code",
   "execution_count": 20,
   "id": "mature-manor",
   "metadata": {
    "execution": {
     "iopub.execute_input": "2021-05-01T06:16:25.129210Z",
     "iopub.status.busy": "2021-05-01T06:16:25.128737Z",
     "iopub.status.idle": "2021-05-01T06:16:25.137213Z",
     "shell.execute_reply": "2021-05-01T06:16:25.137562Z"
    },
    "papermill": {
     "duration": 0.027605,
     "end_time": "2021-05-01T06:16:25.137681",
     "exception": false,
     "start_time": "2021-05-01T06:16:25.110076",
     "status": "completed"
    },
    "tags": []
   },
   "outputs": [],
   "source": [
    "_gene_list = [\n",
    "    Gene(\"ENSG00000134871\"),\n",
    "    Gene(\"ENSG00000187498\"),\n",
    "    Gene(\"ENSG00000183087\"),\n",
    "    Gene(\"ENSG00000073910\"),\n",
    "    Gene(\"ENSG00000133101\"),\n",
    "    Gene(\"ENSG00000122025\"),\n",
    "    Gene(\"ENSG00000120659\"),\n",
    "    Gene(\"ENSG00000133116\"),\n",
    "]\n",
    "\n",
    "tissue = \"Whole_Blood\""
   ]
  },
  {
   "cell_type": "code",
   "execution_count": 21,
   "id": "heard-scenario",
   "metadata": {
    "execution": {
     "iopub.execute_input": "2021-05-01T06:16:25.172604Z",
     "iopub.status.busy": "2021-05-01T06:16:25.172160Z",
     "iopub.status.idle": "2021-05-01T06:16:26.000028Z",
     "shell.execute_reply": "2021-05-01T06:16:26.000364Z"
    },
    "papermill": {
     "duration": 0.846616,
     "end_time": "2021-05-01T06:16:26.000491",
     "exception": false,
     "start_time": "2021-05-01T06:16:25.153875",
     "status": "completed"
    },
    "tags": []
   },
   "outputs": [
    {
     "name": "stdout",
     "output_type": "stream",
     "text": [
      "71.3 ms ± 3.79 ms per loop (mean ± std. dev. of 7 runs, 1 loop each)\n"
     ]
    }
   ],
   "source": [
    "%%timeit\n",
    "for gene_idx1 in range(0, len(_gene_list) - 1):\n",
    "    gene_obj1 = _gene_list[gene_idx1]\n",
    "\n",
    "    for gene_idx2 in range(gene_idx1 + 1, len(_gene_list)):\n",
    "        gene_obj2 = _gene_list[gene_idx2]\n",
    "\n",
    "        gene_obj1.get_expression_correlation(\n",
    "            gene_obj2,\n",
    "            tissue,\n",
    "        )"
   ]
  },
  {
   "cell_type": "markdown",
   "id": "standing-envelope",
   "metadata": {
    "papermill": {
     "duration": 0.016391,
     "end_time": "2021-05-01T06:16:26.035137",
     "exception": false,
     "start_time": "2021-05-01T06:16:26.018746",
     "status": "completed"
    },
    "tags": []
   },
   "source": [
    "# Compute correlation per chromosome"
   ]
  },
  {
   "cell_type": "code",
   "execution_count": 22,
   "id": "attempted-sharing",
   "metadata": {
    "execution": {
     "iopub.execute_input": "2021-05-01T06:16:26.074794Z",
     "iopub.status.busy": "2021-05-01T06:16:26.074319Z",
     "iopub.status.idle": "2021-05-01T07:23:18.998357Z",
     "shell.execute_reply": "2021-05-01T07:23:18.998655Z"
    },
    "papermill": {
     "duration": 4012.947338,
     "end_time": "2021-05-01T07:23:18.998772",
     "exception": false,
     "start_time": "2021-05-01T06:16:26.051434",
     "status": "completed"
    },
    "tags": []
   },
   "outputs": [
    {
     "name": "stdout",
     "output_type": "stream",
     "text": [
      "Chromosome 4\n",
      "Genes in chromosome(244, 3)\n",
      "Number of gene combinations: 29646\n",
      "Tissue Skin_Not_Sun_Exposed_Suprapubic\n"
     ]
    },
    {
     "name": "stderr",
     "output_type": "stream",
     "text": [
      "100%|████████████████████████████████████████████████████████| 29646/29646 [01:30<00:00, 326.47it/s]"
     ]
    },
    {
     "name": "stdout",
     "output_type": "stream",
     "text": [
      "Min/max values: -0.9352245979873216 / 0.9457885753080653\n"
     ]
    },
    {
     "name": "stderr",
     "output_type": "stream",
     "text": [
      "\n"
     ]
    },
    {
     "data": {
      "text/plain": [
       "PosixPath('/home/miltondp/projects/labs/greenelab/phenoplier/base/data/phenomexcan/ld_blocks/gene_corrs/Skin_Not_Sun_Exposed_Suprapubic/gene_corrs-Skin_Not_Sun_Exposed_Suprapubic-chr4.pkl')"
      ]
     },
     "metadata": {},
     "output_type": "display_data"
    },
    {
     "name": "stdout",
     "output_type": "stream",
     "text": [
      "Tissue Cells_EBV-transformed_lymphocytes\n"
     ]
    },
    {
     "name": "stderr",
     "output_type": "stream",
     "text": [
      "100%|████████████████████████████████████████████████████████| 29646/29646 [01:12<00:00, 408.86it/s]"
     ]
    },
    {
     "name": "stdout",
     "output_type": "stream",
     "text": [
      "Min/max values: -1.0 / 0.9476455152387505\n"
     ]
    },
    {
     "name": "stderr",
     "output_type": "stream",
     "text": [
      "\n"
     ]
    },
    {
     "data": {
      "text/plain": [
       "PosixPath('/home/miltondp/projects/labs/greenelab/phenoplier/base/data/phenomexcan/ld_blocks/gene_corrs/Cells_EBV-transformed_lymphocytes/gene_corrs-Cells_EBV-transformed_lymphocytes-chr4.pkl')"
      ]
     },
     "metadata": {},
     "output_type": "display_data"
    },
    {
     "name": "stdout",
     "output_type": "stream",
     "text": [
      "Tissue Brain_Frontal_Cortex_BA9\n"
     ]
    },
    {
     "name": "stderr",
     "output_type": "stream",
     "text": [
      "100%|████████████████████████████████████████████████████████| 29646/29646 [01:26<00:00, 344.21it/s]"
     ]
    },
    {
     "name": "stdout",
     "output_type": "stream",
     "text": [
      "Min/max values: -0.9352245979873214 / 0.8983812658393475\n"
     ]
    },
    {
     "name": "stderr",
     "output_type": "stream",
     "text": [
      "\n"
     ]
    },
    {
     "data": {
      "text/plain": [
       "PosixPath('/home/miltondp/projects/labs/greenelab/phenoplier/base/data/phenomexcan/ld_blocks/gene_corrs/Brain_Frontal_Cortex_BA9/gene_corrs-Brain_Frontal_Cortex_BA9-chr4.pkl')"
      ]
     },
     "metadata": {},
     "output_type": "display_data"
    },
    {
     "name": "stdout",
     "output_type": "stream",
     "text": [
      "Tissue Kidney_Cortex\n"
     ]
    },
    {
     "name": "stderr",
     "output_type": "stream",
     "text": [
      "100%|████████████████████████████████████████████████████████| 29646/29646 [00:59<00:00, 499.35it/s]\n"
     ]
    },
    {
     "name": "stdout",
     "output_type": "stream",
     "text": [
      "Min/max values: -0.834882324712027 / 0.9466264834794937\n"
     ]
    },
    {
     "data": {
      "text/plain": [
       "PosixPath('/home/miltondp/projects/labs/greenelab/phenoplier/base/data/phenomexcan/ld_blocks/gene_corrs/Kidney_Cortex/gene_corrs-Kidney_Cortex-chr4.pkl')"
      ]
     },
     "metadata": {},
     "output_type": "display_data"
    },
    {
     "name": "stdout",
     "output_type": "stream",
     "text": [
      "Tissue Brain_Substantia_nigra\n"
     ]
    },
    {
     "name": "stderr",
     "output_type": "stream",
     "text": [
      "100%|████████████████████████████████████████████████████████| 29646/29646 [01:12<00:00, 409.56it/s]"
     ]
    },
    {
     "name": "stdout",
     "output_type": "stream",
     "text": [
      "Min/max values: -0.7076256850750715 / 1.0000000000000002\n"
     ]
    },
    {
     "name": "stderr",
     "output_type": "stream",
     "text": [
      "\n"
     ]
    },
    {
     "data": {
      "text/plain": [
       "PosixPath('/home/miltondp/projects/labs/greenelab/phenoplier/base/data/phenomexcan/ld_blocks/gene_corrs/Brain_Substantia_nigra/gene_corrs-Brain_Substantia_nigra-chr4.pkl')"
      ]
     },
     "metadata": {},
     "output_type": "display_data"
    },
    {
     "name": "stdout",
     "output_type": "stream",
     "text": [
      "Tissue Spleen\n"
     ]
    },
    {
     "name": "stderr",
     "output_type": "stream",
     "text": [
      "100%|████████████████████████████████████████████████████████| 29646/29646 [01:26<00:00, 341.19it/s]\n"
     ]
    },
    {
     "name": "stdout",
     "output_type": "stream",
     "text": [
      "Min/max values: -0.8083399751686949 / 1.0\n"
     ]
    },
    {
     "data": {
      "text/plain": [
       "PosixPath('/home/miltondp/projects/labs/greenelab/phenoplier/base/data/phenomexcan/ld_blocks/gene_corrs/Spleen/gene_corrs-Spleen-chr4.pkl')"
      ]
     },
     "metadata": {},
     "output_type": "display_data"
    },
    {
     "name": "stdout",
     "output_type": "stream",
     "text": [
      "Tissue Colon_Transverse\n"
     ]
    },
    {
     "name": "stderr",
     "output_type": "stream",
     "text": [
      "100%|████████████████████████████████████████████████████████| 29646/29646 [01:27<00:00, 340.29it/s]"
     ]
    },
    {
     "name": "stdout",
     "output_type": "stream",
     "text": [
      "Min/max values: -0.8252284348943996 / 0.9423035195475448\n"
     ]
    },
    {
     "name": "stderr",
     "output_type": "stream",
     "text": [
      "\n"
     ]
    },
    {
     "data": {
      "text/plain": [
       "PosixPath('/home/miltondp/projects/labs/greenelab/phenoplier/base/data/phenomexcan/ld_blocks/gene_corrs/Colon_Transverse/gene_corrs-Colon_Transverse-chr4.pkl')"
      ]
     },
     "metadata": {},
     "output_type": "display_data"
    },
    {
     "name": "stdout",
     "output_type": "stream",
     "text": [
      "Tissue Heart_Left_Ventricle\n"
     ]
    },
    {
     "name": "stderr",
     "output_type": "stream",
     "text": [
      "100%|████████████████████████████████████████████████████████| 29646/29646 [01:25<00:00, 348.00it/s]"
     ]
    },
    {
     "name": "stdout",
     "output_type": "stream",
     "text": [
      "Min/max values: -0.7881234165508164 / 0.987823611412126\n"
     ]
    },
    {
     "name": "stderr",
     "output_type": "stream",
     "text": [
      "\n"
     ]
    },
    {
     "data": {
      "text/plain": [
       "PosixPath('/home/miltondp/projects/labs/greenelab/phenoplier/base/data/phenomexcan/ld_blocks/gene_corrs/Heart_Left_Ventricle/gene_corrs-Heart_Left_Ventricle-chr4.pkl')"
      ]
     },
     "metadata": {},
     "output_type": "display_data"
    },
    {
     "name": "stdout",
     "output_type": "stream",
     "text": [
      "Tissue Lung\n"
     ]
    },
    {
     "name": "stderr",
     "output_type": "stream",
     "text": [
      "100%|████████████████████████████████████████████████████████| 29646/29646 [01:25<00:00, 345.29it/s]"
     ]
    },
    {
     "name": "stdout",
     "output_type": "stream",
     "text": [
      "Min/max values: -0.8829283664011021 / 0.7534026949094471\n"
     ]
    },
    {
     "name": "stderr",
     "output_type": "stream",
     "text": [
      "\n"
     ]
    },
    {
     "data": {
      "text/plain": [
       "PosixPath('/home/miltondp/projects/labs/greenelab/phenoplier/base/data/phenomexcan/ld_blocks/gene_corrs/Lung/gene_corrs-Lung-chr4.pkl')"
      ]
     },
     "metadata": {},
     "output_type": "display_data"
    },
    {
     "name": "stdout",
     "output_type": "stream",
     "text": [
      "Tissue Muscle_Skeletal\n"
     ]
    },
    {
     "name": "stderr",
     "output_type": "stream",
     "text": [
      "100%|████████████████████████████████████████████████████████| 29646/29646 [01:18<00:00, 377.25it/s]"
     ]
    },
    {
     "name": "stdout",
     "output_type": "stream",
     "text": [
      "Min/max values: -0.9352245979873217 / 0.9787502605751174\n"
     ]
    },
    {
     "name": "stderr",
     "output_type": "stream",
     "text": [
      "\n"
     ]
    },
    {
     "data": {
      "text/plain": [
       "PosixPath('/home/miltondp/projects/labs/greenelab/phenoplier/base/data/phenomexcan/ld_blocks/gene_corrs/Muscle_Skeletal/gene_corrs-Muscle_Skeletal-chr4.pkl')"
      ]
     },
     "metadata": {},
     "output_type": "display_data"
    },
    {
     "name": "stdout",
     "output_type": "stream",
     "text": [
      "Tissue Brain_Hypothalamus\n"
     ]
    },
    {
     "name": "stderr",
     "output_type": "stream",
     "text": [
      "100%|████████████████████████████████████████████████████████| 29646/29646 [01:08<00:00, 434.92it/s]"
     ]
    },
    {
     "name": "stdout",
     "output_type": "stream",
     "text": [
      "Min/max values: -0.9862147460885831 / 0.8079897896492104\n"
     ]
    },
    {
     "name": "stderr",
     "output_type": "stream",
     "text": [
      "\n"
     ]
    },
    {
     "data": {
      "text/plain": [
       "PosixPath('/home/miltondp/projects/labs/greenelab/phenoplier/base/data/phenomexcan/ld_blocks/gene_corrs/Brain_Hypothalamus/gene_corrs-Brain_Hypothalamus-chr4.pkl')"
      ]
     },
     "metadata": {},
     "output_type": "display_data"
    },
    {
     "name": "stdout",
     "output_type": "stream",
     "text": [
      "Tissue Brain_Cortex\n"
     ]
    },
    {
     "name": "stderr",
     "output_type": "stream",
     "text": [
      "100%|████████████████████████████████████████████████████████| 29646/29646 [01:16<00:00, 386.91it/s]"
     ]
    },
    {
     "name": "stdout",
     "output_type": "stream",
     "text": [
      "Min/max values: -0.910088507033429 / 0.7924650218318896\n"
     ]
    },
    {
     "name": "stderr",
     "output_type": "stream",
     "text": [
      "\n"
     ]
    },
    {
     "data": {
      "text/plain": [
       "PosixPath('/home/miltondp/projects/labs/greenelab/phenoplier/base/data/phenomexcan/ld_blocks/gene_corrs/Brain_Cortex/gene_corrs-Brain_Cortex-chr4.pkl')"
      ]
     },
     "metadata": {},
     "output_type": "display_data"
    },
    {
     "name": "stdout",
     "output_type": "stream",
     "text": [
      "Tissue Brain_Amygdala\n"
     ]
    },
    {
     "name": "stderr",
     "output_type": "stream",
     "text": [
      "100%|████████████████████████████████████████████████████████| 29646/29646 [01:10<00:00, 421.20it/s]"
     ]
    },
    {
     "name": "stdout",
     "output_type": "stream",
     "text": [
      "Min/max values: -0.9488814669662441 / 0.8932563713327373\n"
     ]
    },
    {
     "name": "stderr",
     "output_type": "stream",
     "text": [
      "\n"
     ]
    },
    {
     "data": {
      "text/plain": [
       "PosixPath('/home/miltondp/projects/labs/greenelab/phenoplier/base/data/phenomexcan/ld_blocks/gene_corrs/Brain_Amygdala/gene_corrs-Brain_Amygdala-chr4.pkl')"
      ]
     },
     "metadata": {},
     "output_type": "display_data"
    },
    {
     "name": "stdout",
     "output_type": "stream",
     "text": [
      "Tissue Esophagus_Mucosa\n"
     ]
    },
    {
     "name": "stderr",
     "output_type": "stream",
     "text": [
      "100%|████████████████████████████████████████████████████████| 29646/29646 [01:34<00:00, 315.36it/s]"
     ]
    },
    {
     "name": "stdout",
     "output_type": "stream",
     "text": [
      "Min/max values: -0.6940506508810506 / 0.9712618851304284\n"
     ]
    },
    {
     "name": "stderr",
     "output_type": "stream",
     "text": [
      "\n"
     ]
    },
    {
     "data": {
      "text/plain": [
       "PosixPath('/home/miltondp/projects/labs/greenelab/phenoplier/base/data/phenomexcan/ld_blocks/gene_corrs/Esophagus_Mucosa/gene_corrs-Esophagus_Mucosa-chr4.pkl')"
      ]
     },
     "metadata": {},
     "output_type": "display_data"
    },
    {
     "name": "stdout",
     "output_type": "stream",
     "text": [
      "Tissue Adrenal_Gland\n"
     ]
    },
    {
     "name": "stderr",
     "output_type": "stream",
     "text": [
      "100%|████████████████████████████████████████████████████████| 29646/29646 [01:24<00:00, 350.36it/s]"
     ]
    },
    {
     "name": "stdout",
     "output_type": "stream",
     "text": [
      "Min/max values: -0.8164039944234674 / 0.8284246441930605\n"
     ]
    },
    {
     "name": "stderr",
     "output_type": "stream",
     "text": [
      "\n"
     ]
    },
    {
     "data": {
      "text/plain": [
       "PosixPath('/home/miltondp/projects/labs/greenelab/phenoplier/base/data/phenomexcan/ld_blocks/gene_corrs/Adrenal_Gland/gene_corrs-Adrenal_Gland-chr4.pkl')"
      ]
     },
     "metadata": {},
     "output_type": "display_data"
    },
    {
     "name": "stdout",
     "output_type": "stream",
     "text": [
      "Tissue Uterus\n"
     ]
    },
    {
     "name": "stderr",
     "output_type": "stream",
     "text": [
      "100%|████████████████████████████████████████████████████████| 29646/29646 [01:12<00:00, 408.75it/s]"
     ]
    },
    {
     "name": "stdout",
     "output_type": "stream",
     "text": [
      "Min/max values: -0.7509036105442921 / 0.8947829788112476\n"
     ]
    },
    {
     "name": "stderr",
     "output_type": "stream",
     "text": [
      "\n"
     ]
    },
    {
     "data": {
      "text/plain": [
       "PosixPath('/home/miltondp/projects/labs/greenelab/phenoplier/base/data/phenomexcan/ld_blocks/gene_corrs/Uterus/gene_corrs-Uterus-chr4.pkl')"
      ]
     },
     "metadata": {},
     "output_type": "display_data"
    },
    {
     "name": "stdout",
     "output_type": "stream",
     "text": [
      "Tissue Prostate\n"
     ]
    },
    {
     "name": "stderr",
     "output_type": "stream",
     "text": [
      "100%|████████████████████████████████████████████████████████| 29646/29646 [01:29<00:00, 332.32it/s]"
     ]
    },
    {
     "name": "stdout",
     "output_type": "stream",
     "text": [
      "Min/max values: -0.9116821039505786 / 0.9792140744032394\n"
     ]
    },
    {
     "name": "stderr",
     "output_type": "stream",
     "text": [
      "\n"
     ]
    },
    {
     "data": {
      "text/plain": [
       "PosixPath('/home/miltondp/projects/labs/greenelab/phenoplier/base/data/phenomexcan/ld_blocks/gene_corrs/Prostate/gene_corrs-Prostate-chr4.pkl')"
      ]
     },
     "metadata": {},
     "output_type": "display_data"
    },
    {
     "name": "stdout",
     "output_type": "stream",
     "text": [
      "Tissue Whole_Blood\n"
     ]
    },
    {
     "name": "stderr",
     "output_type": "stream",
     "text": [
      "100%|████████████████████████████████████████████████████████| 29646/29646 [01:33<00:00, 315.95it/s]"
     ]
    },
    {
     "name": "stdout",
     "output_type": "stream",
     "text": [
      "Min/max values: -0.9395571807580474 / 0.9404991837413291\n"
     ]
    },
    {
     "name": "stderr",
     "output_type": "stream",
     "text": [
      "\n"
     ]
    },
    {
     "data": {
      "text/plain": [
       "PosixPath('/home/miltondp/projects/labs/greenelab/phenoplier/base/data/phenomexcan/ld_blocks/gene_corrs/Whole_Blood/gene_corrs-Whole_Blood-chr4.pkl')"
      ]
     },
     "metadata": {},
     "output_type": "display_data"
    },
    {
     "name": "stdout",
     "output_type": "stream",
     "text": [
      "Tissue Pituitary\n"
     ]
    },
    {
     "name": "stderr",
     "output_type": "stream",
     "text": [
      "100%|████████████████████████████████████████████████████████| 29646/29646 [01:22<00:00, 357.68it/s]"
     ]
    },
    {
     "name": "stdout",
     "output_type": "stream",
     "text": [
      "Min/max values: -0.7076256850750715 / 0.9193019285882359\n"
     ]
    },
    {
     "name": "stderr",
     "output_type": "stream",
     "text": [
      "\n"
     ]
    },
    {
     "data": {
      "text/plain": [
       "PosixPath('/home/miltondp/projects/labs/greenelab/phenoplier/base/data/phenomexcan/ld_blocks/gene_corrs/Pituitary/gene_corrs-Pituitary-chr4.pkl')"
      ]
     },
     "metadata": {},
     "output_type": "display_data"
    },
    {
     "name": "stdout",
     "output_type": "stream",
     "text": [
      "Tissue Esophagus_Gastroesophageal_Junction\n"
     ]
    },
    {
     "name": "stderr",
     "output_type": "stream",
     "text": [
      "100%|████████████████████████████████████████████████████████| 29646/29646 [01:27<00:00, 337.70it/s]"
     ]
    },
    {
     "name": "stdout",
     "output_type": "stream",
     "text": [
      "Min/max values: -0.8113986499475381 / 0.769537284602451\n"
     ]
    },
    {
     "name": "stderr",
     "output_type": "stream",
     "text": [
      "\n"
     ]
    },
    {
     "data": {
      "text/plain": [
       "PosixPath('/home/miltondp/projects/labs/greenelab/phenoplier/base/data/phenomexcan/ld_blocks/gene_corrs/Esophagus_Gastroesophageal_Junction/gene_corrs-Esophagus_Gastroesophageal_Junction-chr4.pkl')"
      ]
     },
     "metadata": {},
     "output_type": "display_data"
    },
    {
     "name": "stdout",
     "output_type": "stream",
     "text": [
      "Tissue Stomach\n"
     ]
    },
    {
     "name": "stderr",
     "output_type": "stream",
     "text": [
      "100%|████████████████████████████████████████████████████████| 29646/29646 [01:26<00:00, 343.74it/s]"
     ]
    },
    {
     "name": "stdout",
     "output_type": "stream",
     "text": [
      "Min/max values: -0.5971180572509105 / 0.8502960222759516\n"
     ]
    },
    {
     "name": "stderr",
     "output_type": "stream",
     "text": [
      "\n"
     ]
    },
    {
     "data": {
      "text/plain": [
       "PosixPath('/home/miltondp/projects/labs/greenelab/phenoplier/base/data/phenomexcan/ld_blocks/gene_corrs/Stomach/gene_corrs-Stomach-chr4.pkl')"
      ]
     },
     "metadata": {},
     "output_type": "display_data"
    },
    {
     "name": "stdout",
     "output_type": "stream",
     "text": [
      "Tissue Heart_Atrial_Appendage\n"
     ]
    },
    {
     "name": "stderr",
     "output_type": "stream",
     "text": [
      "100%|████████████████████████████████████████████████████████| 29646/29646 [01:21<00:00, 361.98it/s]"
     ]
    },
    {
     "name": "stdout",
     "output_type": "stream",
     "text": [
      "Min/max values: -0.9162052829623173 / 0.8404901438973477\n"
     ]
    },
    {
     "name": "stderr",
     "output_type": "stream",
     "text": [
      "\n"
     ]
    },
    {
     "data": {
      "text/plain": [
       "PosixPath('/home/miltondp/projects/labs/greenelab/phenoplier/base/data/phenomexcan/ld_blocks/gene_corrs/Heart_Atrial_Appendage/gene_corrs-Heart_Atrial_Appendage-chr4.pkl')"
      ]
     },
     "metadata": {},
     "output_type": "display_data"
    },
    {
     "name": "stdout",
     "output_type": "stream",
     "text": [
      "Tissue Brain_Cerebellum\n"
     ]
    },
    {
     "name": "stderr",
     "output_type": "stream",
     "text": [
      "100%|████████████████████████████████████████████████████████| 29646/29646 [01:09<00:00, 424.82it/s]"
     ]
    },
    {
     "name": "stdout",
     "output_type": "stream",
     "text": [
      "Min/max values: -0.8122514303685299 / 0.9960076892913736\n"
     ]
    },
    {
     "name": "stderr",
     "output_type": "stream",
     "text": [
      "\n"
     ]
    },
    {
     "data": {
      "text/plain": [
       "PosixPath('/home/miltondp/projects/labs/greenelab/phenoplier/base/data/phenomexcan/ld_blocks/gene_corrs/Brain_Cerebellum/gene_corrs-Brain_Cerebellum-chr4.pkl')"
      ]
     },
     "metadata": {},
     "output_type": "display_data"
    },
    {
     "name": "stdout",
     "output_type": "stream",
     "text": [
      "Tissue Breast_Mammary_Tissue\n"
     ]
    },
    {
     "name": "stderr",
     "output_type": "stream",
     "text": [
      "100%|████████████████████████████████████████████████████████| 29646/29646 [01:24<00:00, 350.81it/s]"
     ]
    },
    {
     "name": "stdout",
     "output_type": "stream",
     "text": [
      "Min/max values: -0.8748493634026164 / 0.8137102577257421\n"
     ]
    },
    {
     "name": "stderr",
     "output_type": "stream",
     "text": [
      "\n"
     ]
    },
    {
     "data": {
      "text/plain": [
       "PosixPath('/home/miltondp/projects/labs/greenelab/phenoplier/base/data/phenomexcan/ld_blocks/gene_corrs/Breast_Mammary_Tissue/gene_corrs-Breast_Mammary_Tissue-chr4.pkl')"
      ]
     },
     "metadata": {},
     "output_type": "display_data"
    },
    {
     "name": "stdout",
     "output_type": "stream",
     "text": [
      "Tissue Artery_Tibial\n"
     ]
    },
    {
     "name": "stderr",
     "output_type": "stream",
     "text": [
      "100%|████████████████████████████████████████████████████████| 29646/29646 [01:27<00:00, 337.21it/s]"
     ]
    },
    {
     "name": "stdout",
     "output_type": "stream",
     "text": [
      "Min/max values: -0.8697975920490484 / 0.9728040253365429\n"
     ]
    },
    {
     "name": "stderr",
     "output_type": "stream",
     "text": [
      "\n"
     ]
    },
    {
     "data": {
      "text/plain": [
       "PosixPath('/home/miltondp/projects/labs/greenelab/phenoplier/base/data/phenomexcan/ld_blocks/gene_corrs/Artery_Tibial/gene_corrs-Artery_Tibial-chr4.pkl')"
      ]
     },
     "metadata": {},
     "output_type": "display_data"
    },
    {
     "name": "stdout",
     "output_type": "stream",
     "text": [
      "Tissue Artery_Aorta\n"
     ]
    },
    {
     "name": "stderr",
     "output_type": "stream",
     "text": [
      "100%|████████████████████████████████████████████████████████| 29646/29646 [01:26<00:00, 341.03it/s]\n"
     ]
    },
    {
     "name": "stdout",
     "output_type": "stream",
     "text": [
      "Min/max values: -1.0 / 0.8896014187340712\n"
     ]
    },
    {
     "data": {
      "text/plain": [
       "PosixPath('/home/miltondp/projects/labs/greenelab/phenoplier/base/data/phenomexcan/ld_blocks/gene_corrs/Artery_Aorta/gene_corrs-Artery_Aorta-chr4.pkl')"
      ]
     },
     "metadata": {},
     "output_type": "display_data"
    },
    {
     "name": "stdout",
     "output_type": "stream",
     "text": [
      "Tissue Small_Intestine_Terminal_Ileum\n"
     ]
    },
    {
     "name": "stderr",
     "output_type": "stream",
     "text": [
      "100%|████████████████████████████████████████████████████████| 29646/29646 [01:24<00:00, 350.02it/s]"
     ]
    },
    {
     "name": "stdout",
     "output_type": "stream",
     "text": [
      "Min/max values: -0.8032679098300436 / 0.9776897804594799\n"
     ]
    },
    {
     "name": "stderr",
     "output_type": "stream",
     "text": [
      "\n"
     ]
    },
    {
     "data": {
      "text/plain": [
       "PosixPath('/home/miltondp/projects/labs/greenelab/phenoplier/base/data/phenomexcan/ld_blocks/gene_corrs/Small_Intestine_Terminal_Ileum/gene_corrs-Small_Intestine_Terminal_Ileum-chr4.pkl')"
      ]
     },
     "metadata": {},
     "output_type": "display_data"
    },
    {
     "name": "stdout",
     "output_type": "stream",
     "text": [
      "Tissue Brain_Hippocampus\n"
     ]
    },
    {
     "name": "stderr",
     "output_type": "stream",
     "text": [
      "100%|████████████████████████████████████████████████████████| 29646/29646 [01:09<00:00, 426.25it/s]"
     ]
    },
    {
     "name": "stdout",
     "output_type": "stream",
     "text": [
      "Min/max values: -0.9792140744032395 / 0.8582462110978862\n"
     ]
    },
    {
     "name": "stderr",
     "output_type": "stream",
     "text": [
      "\n"
     ]
    },
    {
     "data": {
      "text/plain": [
       "PosixPath('/home/miltondp/projects/labs/greenelab/phenoplier/base/data/phenomexcan/ld_blocks/gene_corrs/Brain_Hippocampus/gene_corrs-Brain_Hippocampus-chr4.pkl')"
      ]
     },
     "metadata": {},
     "output_type": "display_data"
    },
    {
     "name": "stdout",
     "output_type": "stream",
     "text": [
      "Tissue Testis\n"
     ]
    },
    {
     "name": "stderr",
     "output_type": "stream",
     "text": [
      "100%|████████████████████████████████████████████████████████| 29646/29646 [01:39<00:00, 297.96it/s]"
     ]
    },
    {
     "name": "stdout",
     "output_type": "stream",
     "text": [
      "Min/max values: -0.8115209122652112 / 1.0\n"
     ]
    },
    {
     "name": "stderr",
     "output_type": "stream",
     "text": [
      "\n"
     ]
    },
    {
     "data": {
      "text/plain": [
       "PosixPath('/home/miltondp/projects/labs/greenelab/phenoplier/base/data/phenomexcan/ld_blocks/gene_corrs/Testis/gene_corrs-Testis-chr4.pkl')"
      ]
     },
     "metadata": {},
     "output_type": "display_data"
    },
    {
     "name": "stdout",
     "output_type": "stream",
     "text": [
      "Tissue Brain_Putamen_basal_ganglia\n"
     ]
    },
    {
     "name": "stderr",
     "output_type": "stream",
     "text": [
      "100%|████████████████████████████████████████████████████████| 29646/29646 [01:16<00:00, 387.96it/s]"
     ]
    },
    {
     "name": "stdout",
     "output_type": "stream",
     "text": [
      "Min/max values: -0.7779539774255787 / 0.8554867992799308\n"
     ]
    },
    {
     "name": "stderr",
     "output_type": "stream",
     "text": [
      "\n"
     ]
    },
    {
     "data": {
      "text/plain": [
       "PosixPath('/home/miltondp/projects/labs/greenelab/phenoplier/base/data/phenomexcan/ld_blocks/gene_corrs/Brain_Putamen_basal_ganglia/gene_corrs-Brain_Putamen_basal_ganglia-chr4.pkl')"
      ]
     },
     "metadata": {},
     "output_type": "display_data"
    },
    {
     "name": "stdout",
     "output_type": "stream",
     "text": [
      "Tissue Pancreas\n"
     ]
    },
    {
     "name": "stderr",
     "output_type": "stream",
     "text": [
      "100%|████████████████████████████████████████████████████████| 29646/29646 [01:23<00:00, 356.13it/s]"
     ]
    },
    {
     "name": "stdout",
     "output_type": "stream",
     "text": [
      "Min/max values: -0.7283490758211337 / 0.8473576282891023\n"
     ]
    },
    {
     "name": "stderr",
     "output_type": "stream",
     "text": [
      "\n"
     ]
    },
    {
     "data": {
      "text/plain": [
       "PosixPath('/home/miltondp/projects/labs/greenelab/phenoplier/base/data/phenomexcan/ld_blocks/gene_corrs/Pancreas/gene_corrs-Pancreas-chr4.pkl')"
      ]
     },
     "metadata": {},
     "output_type": "display_data"
    },
    {
     "name": "stdout",
     "output_type": "stream",
     "text": [
      "Tissue Adipose_Subcutaneous\n"
     ]
    },
    {
     "name": "stderr",
     "output_type": "stream",
     "text": [
      "100%|████████████████████████████████████████████████████████| 29646/29646 [01:32<00:00, 321.22it/s]"
     ]
    },
    {
     "name": "stdout",
     "output_type": "stream",
     "text": [
      "Min/max values: -1.0000000000000002 / 0.8896014187340712\n"
     ]
    },
    {
     "name": "stderr",
     "output_type": "stream",
     "text": [
      "\n"
     ]
    },
    {
     "data": {
      "text/plain": [
       "PosixPath('/home/miltondp/projects/labs/greenelab/phenoplier/base/data/phenomexcan/ld_blocks/gene_corrs/Adipose_Subcutaneous/gene_corrs-Adipose_Subcutaneous-chr4.pkl')"
      ]
     },
     "metadata": {},
     "output_type": "display_data"
    },
    {
     "name": "stdout",
     "output_type": "stream",
     "text": [
      "Tissue Brain_Cerebellar_Hemisphere\n"
     ]
    },
    {
     "name": "stderr",
     "output_type": "stream",
     "text": [
      "100%|████████████████████████████████████████████████████████| 29646/29646 [01:12<00:00, 407.92it/s]"
     ]
    },
    {
     "name": "stdout",
     "output_type": "stream",
     "text": [
      "Min/max values: -0.9999999999999999 / 0.7546958043022194\n"
     ]
    },
    {
     "name": "stderr",
     "output_type": "stream",
     "text": [
      "\n"
     ]
    },
    {
     "data": {
      "text/plain": [
       "PosixPath('/home/miltondp/projects/labs/greenelab/phenoplier/base/data/phenomexcan/ld_blocks/gene_corrs/Brain_Cerebellar_Hemisphere/gene_corrs-Brain_Cerebellar_Hemisphere-chr4.pkl')"
      ]
     },
     "metadata": {},
     "output_type": "display_data"
    },
    {
     "name": "stdout",
     "output_type": "stream",
     "text": [
      "Tissue Colon_Sigmoid\n"
     ]
    },
    {
     "name": "stderr",
     "output_type": "stream",
     "text": [
      "100%|████████████████████████████████████████████████████████| 29646/29646 [01:24<00:00, 351.92it/s]"
     ]
    },
    {
     "name": "stdout",
     "output_type": "stream",
     "text": [
      "Min/max values: -0.589930509814817 / 0.9792140744032395\n"
     ]
    },
    {
     "name": "stderr",
     "output_type": "stream",
     "text": [
      "\n"
     ]
    },
    {
     "data": {
      "text/plain": [
       "PosixPath('/home/miltondp/projects/labs/greenelab/phenoplier/base/data/phenomexcan/ld_blocks/gene_corrs/Colon_Sigmoid/gene_corrs-Colon_Sigmoid-chr4.pkl')"
      ]
     },
     "metadata": {},
     "output_type": "display_data"
    },
    {
     "name": "stdout",
     "output_type": "stream",
     "text": [
      "Tissue Minor_Salivary_Gland\n"
     ]
    },
    {
     "name": "stderr",
     "output_type": "stream",
     "text": [
      "100%|████████████████████████████████████████████████████████| 29646/29646 [01:15<00:00, 390.34it/s]"
     ]
    },
    {
     "name": "stdout",
     "output_type": "stream",
     "text": [
      "Min/max values: -0.9039944289397831 / 0.8157582978965638\n"
     ]
    },
    {
     "name": "stderr",
     "output_type": "stream",
     "text": [
      "\n"
     ]
    },
    {
     "data": {
      "text/plain": [
       "PosixPath('/home/miltondp/projects/labs/greenelab/phenoplier/base/data/phenomexcan/ld_blocks/gene_corrs/Minor_Salivary_Gland/gene_corrs-Minor_Salivary_Gland-chr4.pkl')"
      ]
     },
     "metadata": {},
     "output_type": "display_data"
    },
    {
     "name": "stdout",
     "output_type": "stream",
     "text": [
      "Tissue Cells_Cultured_fibroblasts\n"
     ]
    },
    {
     "name": "stderr",
     "output_type": "stream",
     "text": [
      "100%|████████████████████████████████████████████████████████| 29646/29646 [01:28<00:00, 334.36it/s]"
     ]
    },
    {
     "name": "stdout",
     "output_type": "stream",
     "text": [
      "Min/max values: -0.9792140744032395 / 0.8732063464806137\n"
     ]
    },
    {
     "name": "stderr",
     "output_type": "stream",
     "text": [
      "\n"
     ]
    },
    {
     "data": {
      "text/plain": [
       "PosixPath('/home/miltondp/projects/labs/greenelab/phenoplier/base/data/phenomexcan/ld_blocks/gene_corrs/Cells_Cultured_fibroblasts/gene_corrs-Cells_Cultured_fibroblasts-chr4.pkl')"
      ]
     },
     "metadata": {},
     "output_type": "display_data"
    },
    {
     "name": "stdout",
     "output_type": "stream",
     "text": [
      "Tissue Brain_Nucleus_accumbens_basal_ganglia\n"
     ]
    },
    {
     "name": "stderr",
     "output_type": "stream",
     "text": [
      "100%|████████████████████████████████████████████████████████| 29646/29646 [01:17<00:00, 381.57it/s]"
     ]
    },
    {
     "name": "stdout",
     "output_type": "stream",
     "text": [
      "Min/max values: -0.9572148207846811 / 0.8411954708893079\n"
     ]
    },
    {
     "name": "stderr",
     "output_type": "stream",
     "text": [
      "\n"
     ]
    },
    {
     "data": {
      "text/plain": [
       "PosixPath('/home/miltondp/projects/labs/greenelab/phenoplier/base/data/phenomexcan/ld_blocks/gene_corrs/Brain_Nucleus_accumbens_basal_ganglia/gene_corrs-Brain_Nucleus_accumbens_basal_ganglia-chr4.pkl')"
      ]
     },
     "metadata": {},
     "output_type": "display_data"
    },
    {
     "name": "stdout",
     "output_type": "stream",
     "text": [
      "Tissue Brain_Anterior_cingulate_cortex_BA24\n"
     ]
    },
    {
     "name": "stderr",
     "output_type": "stream",
     "text": [
      "100%|████████████████████████████████████████████████████████| 29646/29646 [01:19<00:00, 374.40it/s]"
     ]
    },
    {
     "name": "stdout",
     "output_type": "stream",
     "text": [
      "Min/max values: -0.9695742319102812 / 0.9553717206466786\n"
     ]
    },
    {
     "name": "stderr",
     "output_type": "stream",
     "text": [
      "\n"
     ]
    },
    {
     "data": {
      "text/plain": [
       "PosixPath('/home/miltondp/projects/labs/greenelab/phenoplier/base/data/phenomexcan/ld_blocks/gene_corrs/Brain_Anterior_cingulate_cortex_BA24/gene_corrs-Brain_Anterior_cingulate_cortex_BA24-chr4.pkl')"
      ]
     },
     "metadata": {},
     "output_type": "display_data"
    },
    {
     "name": "stdout",
     "output_type": "stream",
     "text": [
      "Tissue Vagina\n"
     ]
    },
    {
     "name": "stderr",
     "output_type": "stream",
     "text": [
      "100%|████████████████████████████████████████████████████████| 29646/29646 [01:07<00:00, 440.40it/s]"
     ]
    },
    {
     "name": "stdout",
     "output_type": "stream",
     "text": [
      "Min/max values: -0.8986328413752125 / 0.9915294090312592\n"
     ]
    },
    {
     "name": "stderr",
     "output_type": "stream",
     "text": [
      "\n"
     ]
    },
    {
     "data": {
      "text/plain": [
       "PosixPath('/home/miltondp/projects/labs/greenelab/phenoplier/base/data/phenomexcan/ld_blocks/gene_corrs/Vagina/gene_corrs-Vagina-chr4.pkl')"
      ]
     },
     "metadata": {},
     "output_type": "display_data"
    },
    {
     "name": "stdout",
     "output_type": "stream",
     "text": [
      "Tissue Ovary\n"
     ]
    },
    {
     "name": "stderr",
     "output_type": "stream",
     "text": [
      "100%|████████████████████████████████████████████████████████| 29646/29646 [01:15<00:00, 392.53it/s]"
     ]
    },
    {
     "name": "stdout",
     "output_type": "stream",
     "text": [
      "Min/max values: -0.6506603378775154 / 0.9949336134538672\n"
     ]
    },
    {
     "name": "stderr",
     "output_type": "stream",
     "text": [
      "\n"
     ]
    },
    {
     "data": {
      "text/plain": [
       "PosixPath('/home/miltondp/projects/labs/greenelab/phenoplier/base/data/phenomexcan/ld_blocks/gene_corrs/Ovary/gene_corrs-Ovary-chr4.pkl')"
      ]
     },
     "metadata": {},
     "output_type": "display_data"
    },
    {
     "name": "stdout",
     "output_type": "stream",
     "text": [
      "Tissue Skin_Sun_Exposed_Lower_leg\n"
     ]
    },
    {
     "name": "stderr",
     "output_type": "stream",
     "text": [
      "100%|████████████████████████████████████████████████████████| 29646/29646 [01:37<00:00, 305.61it/s]"
     ]
    },
    {
     "name": "stdout",
     "output_type": "stream",
     "text": [
      "Min/max values: -0.7867880890640739 / 0.952619328239147\n"
     ]
    },
    {
     "name": "stderr",
     "output_type": "stream",
     "text": [
      "\n"
     ]
    },
    {
     "data": {
      "text/plain": [
       "PosixPath('/home/miltondp/projects/labs/greenelab/phenoplier/base/data/phenomexcan/ld_blocks/gene_corrs/Skin_Sun_Exposed_Lower_leg/gene_corrs-Skin_Sun_Exposed_Lower_leg-chr4.pkl')"
      ]
     },
     "metadata": {},
     "output_type": "display_data"
    },
    {
     "name": "stdout",
     "output_type": "stream",
     "text": [
      "Tissue Esophagus_Muscularis\n"
     ]
    },
    {
     "name": "stderr",
     "output_type": "stream",
     "text": [
      "100%|████████████████████████████████████████████████████████| 29646/29646 [01:32<00:00, 319.20it/s]"
     ]
    },
    {
     "name": "stdout",
     "output_type": "stream",
     "text": [
      "Min/max values: -0.7225794963846357 / 0.8686026529463912\n"
     ]
    },
    {
     "name": "stderr",
     "output_type": "stream",
     "text": [
      "\n"
     ]
    },
    {
     "data": {
      "text/plain": [
       "PosixPath('/home/miltondp/projects/labs/greenelab/phenoplier/base/data/phenomexcan/ld_blocks/gene_corrs/Esophagus_Muscularis/gene_corrs-Esophagus_Muscularis-chr4.pkl')"
      ]
     },
     "metadata": {},
     "output_type": "display_data"
    },
    {
     "name": "stdout",
     "output_type": "stream",
     "text": [
      "Tissue Brain_Spinal_cord_cervical_c-1\n"
     ]
    },
    {
     "name": "stderr",
     "output_type": "stream",
     "text": [
      "100%|████████████████████████████████████████████████████████| 29646/29646 [01:04<00:00, 457.93it/s]"
     ]
    },
    {
     "name": "stdout",
     "output_type": "stream",
     "text": [
      "Min/max values: -0.9792140744032394 / 0.8090874499656338\n"
     ]
    },
    {
     "name": "stderr",
     "output_type": "stream",
     "text": [
      "\n"
     ]
    },
    {
     "data": {
      "text/plain": [
       "PosixPath('/home/miltondp/projects/labs/greenelab/phenoplier/base/data/phenomexcan/ld_blocks/gene_corrs/Brain_Spinal_cord_cervical_c-1/gene_corrs-Brain_Spinal_cord_cervical_c-1-chr4.pkl')"
      ]
     },
     "metadata": {},
     "output_type": "display_data"
    },
    {
     "name": "stdout",
     "output_type": "stream",
     "text": [
      "Tissue Artery_Coronary\n"
     ]
    },
    {
     "name": "stderr",
     "output_type": "stream",
     "text": [
      "100%|████████████████████████████████████████████████████████| 29646/29646 [01:19<00:00, 373.87it/s]"
     ]
    },
    {
     "name": "stdout",
     "output_type": "stream",
     "text": [
      "Min/max values: -0.7731827371114617 / 1.0\n"
     ]
    },
    {
     "name": "stderr",
     "output_type": "stream",
     "text": [
      "\n"
     ]
    },
    {
     "data": {
      "text/plain": [
       "PosixPath('/home/miltondp/projects/labs/greenelab/phenoplier/base/data/phenomexcan/ld_blocks/gene_corrs/Artery_Coronary/gene_corrs-Artery_Coronary-chr4.pkl')"
      ]
     },
     "metadata": {},
     "output_type": "display_data"
    },
    {
     "name": "stdout",
     "output_type": "stream",
     "text": [
      "Tissue Thyroid\n"
     ]
    },
    {
     "name": "stderr",
     "output_type": "stream",
     "text": [
      "100%|████████████████████████████████████████████████████████| 29646/29646 [01:32<00:00, 320.57it/s]"
     ]
    },
    {
     "name": "stdout",
     "output_type": "stream",
     "text": [
      "Min/max values: -1.0 / 0.9466699633873852\n"
     ]
    },
    {
     "name": "stderr",
     "output_type": "stream",
     "text": [
      "\n"
     ]
    },
    {
     "data": {
      "text/plain": [
       "PosixPath('/home/miltondp/projects/labs/greenelab/phenoplier/base/data/phenomexcan/ld_blocks/gene_corrs/Thyroid/gene_corrs-Thyroid-chr4.pkl')"
      ]
     },
     "metadata": {},
     "output_type": "display_data"
    },
    {
     "name": "stdout",
     "output_type": "stream",
     "text": [
      "Tissue Brain_Caudate_basal_ganglia\n"
     ]
    },
    {
     "name": "stderr",
     "output_type": "stream",
     "text": [
      "100%|████████████████████████████████████████████████████████| 29646/29646 [01:17<00:00, 380.13it/s]"
     ]
    },
    {
     "name": "stdout",
     "output_type": "stream",
     "text": [
      "Min/max values: -0.9722505716449724 / 0.8808255921716464\n"
     ]
    },
    {
     "name": "stderr",
     "output_type": "stream",
     "text": [
      "\n"
     ]
    },
    {
     "data": {
      "text/plain": [
       "PosixPath('/home/miltondp/projects/labs/greenelab/phenoplier/base/data/phenomexcan/ld_blocks/gene_corrs/Brain_Caudate_basal_ganglia/gene_corrs-Brain_Caudate_basal_ganglia-chr4.pkl')"
      ]
     },
     "metadata": {},
     "output_type": "display_data"
    },
    {
     "name": "stdout",
     "output_type": "stream",
     "text": [
      "Tissue Adipose_Visceral_Omentum\n"
     ]
    },
    {
     "name": "stderr",
     "output_type": "stream",
     "text": [
      "100%|████████████████████████████████████████████████████████| 29646/29646 [01:32<00:00, 321.83it/s]"
     ]
    },
    {
     "name": "stdout",
     "output_type": "stream",
     "text": [
      "Min/max values: -0.9352245979873215 / 0.7721262867515889\n"
     ]
    },
    {
     "name": "stderr",
     "output_type": "stream",
     "text": [
      "\n"
     ]
    },
    {
     "data": {
      "text/plain": [
       "PosixPath('/home/miltondp/projects/labs/greenelab/phenoplier/base/data/phenomexcan/ld_blocks/gene_corrs/Adipose_Visceral_Omentum/gene_corrs-Adipose_Visceral_Omentum-chr4.pkl')"
      ]
     },
     "metadata": {},
     "output_type": "display_data"
    },
    {
     "name": "stdout",
     "output_type": "stream",
     "text": [
      "Tissue Nerve_Tibial\n"
     ]
    },
    {
     "name": "stderr",
     "output_type": "stream",
     "text": [
      "100%|████████████████████████████████████████████████████████| 29646/29646 [01:39<00:00, 296.84it/s]"
     ]
    },
    {
     "name": "stdout",
     "output_type": "stream",
     "text": [
      "Min/max values: -0.9770268791793637 / 0.966195664570395\n"
     ]
    },
    {
     "name": "stderr",
     "output_type": "stream",
     "text": [
      "\n"
     ]
    },
    {
     "data": {
      "text/plain": [
       "PosixPath('/home/miltondp/projects/labs/greenelab/phenoplier/base/data/phenomexcan/ld_blocks/gene_corrs/Nerve_Tibial/gene_corrs-Nerve_Tibial-chr4.pkl')"
      ]
     },
     "metadata": {},
     "output_type": "display_data"
    },
    {
     "name": "stdout",
     "output_type": "stream",
     "text": [
      "Tissue Liver\n"
     ]
    },
    {
     "name": "stderr",
     "output_type": "stream",
     "text": [
      "100%|████████████████████████████████████████████████████████| 29646/29646 [01:06<00:00, 444.57it/s]"
     ]
    },
    {
     "name": "stdout",
     "output_type": "stream",
     "text": [
      "Min/max values: -0.917755315131055 / 0.908198761842977\n"
     ]
    },
    {
     "name": "stderr",
     "output_type": "stream",
     "text": [
      "\n"
     ]
    },
    {
     "data": {
      "text/plain": [
       "PosixPath('/home/miltondp/projects/labs/greenelab/phenoplier/base/data/phenomexcan/ld_blocks/gene_corrs/Liver/gene_corrs-Liver-chr4.pkl')"
      ]
     },
     "metadata": {},
     "output_type": "display_data"
    }
   ],
   "source": [
    "all_chrs = genes_info[\"chr\"].dropna().unique()\n",
    "assert all_chrs.shape[0] == 22\n",
    "\n",
    "if chromosome != \"all\":\n",
    "    chromosome = str(chromosome)\n",
    "    assert chromosome in all_chrs\n",
    "\n",
    "    # run only on the chromosome specified\n",
    "    all_chrs = [chromosome]\n",
    "\n",
    "# # For testing purposes\n",
    "# all_chrs = [\"13\"]\n",
    "# tissues = [\"Whole_Blood\"]\n",
    "# genes_info = genes_info[genes_info[\"id\"].isin([\"ENSG00000134871\", \"ENSG00000187498\", \"ENSG00000183087\", \"ENSG00000073910\"])]\n",
    "\n",
    "for chr_num in all_chrs:\n",
    "    print(f\"Chromosome {chr_num}\", flush=True)\n",
    "\n",
    "    genes_chr = genes_info[genes_info[\"chr\"] == chr_num]\n",
    "    print(f\"Genes in chromosome{genes_chr.shape}\", flush=True)\n",
    "\n",
    "    gene_chr_objs = [Gene(ensembl_id=gene_id) for gene_id in genes_chr[\"id\"]]\n",
    "    gene_chr_ids = [g.ensembl_id for g in gene_chr_objs]\n",
    "\n",
    "    n = len(gene_chr_objs)\n",
    "    n_comb = int(n * (n - 1) / 2.0)\n",
    "    print(f\"Number of gene combinations: {n_comb}\", flush=True)\n",
    "\n",
    "    for tissue in tissues:\n",
    "        print(f\"Tissue {tissue}\", flush=True)\n",
    "\n",
    "        # check if results exist\n",
    "        output_dir = conf.PHENOMEXCAN[\"LD_BLOCKS\"][\"BASE_DIR\"] / \"gene_corrs\" / tissue\n",
    "        output_file = output_dir / f\"gene_corrs-{tissue}-chr{chr_num}.pkl\"\n",
    "\n",
    "        if output_file.exists():\n",
    "            _tmp_data = pd.read_pickle(output_file)\n",
    "\n",
    "            if _tmp_data.shape[0] > 0:\n",
    "                print(\"Already run, stopping.\")\n",
    "                continue\n",
    "\n",
    "        gene_corrs = []\n",
    "\n",
    "        pbar = tqdm(ncols=100, total=n_comb)\n",
    "        i = 0\n",
    "        for gene_idx1 in range(0, len(gene_chr_objs) - 1):\n",
    "            gene_obj1 = gene_chr_objs[gene_idx1]\n",
    "\n",
    "            for gene_idx2 in range(gene_idx1 + 1, len(gene_chr_objs)):\n",
    "                gene_obj2 = gene_chr_objs[gene_idx2]\n",
    "\n",
    "                gene_corrs.append(\n",
    "                    gene_obj1.get_expression_correlation(gene_obj2, tissue)\n",
    "                )\n",
    "\n",
    "                pbar.update(1)\n",
    "\n",
    "        pbar.close()\n",
    "\n",
    "        # testing\n",
    "        gene_corrs_flat = pd.Series(gene_corrs)\n",
    "        print(f\"Min/max values: {gene_corrs_flat.min()} / {gene_corrs_flat.max()}\")\n",
    "        assert gene_corrs_flat.min() >= -1.001\n",
    "        assert gene_corrs_flat.max() <= 1.001\n",
    "\n",
    "        # save\n",
    "        gene_corrs_data = squareform(np.array(gene_corrs, dtype=np.float32))\n",
    "        np.fill_diagonal(gene_corrs_data, 1.0)\n",
    "\n",
    "        gene_corrs_df = pd.DataFrame(\n",
    "            data=gene_corrs_data,\n",
    "            index=gene_chr_ids,\n",
    "            columns=gene_chr_ids,\n",
    "        )\n",
    "\n",
    "        output_dir.mkdir(exist_ok=True, parents=True)\n",
    "        display(output_file)\n",
    "\n",
    "        gene_corrs_df.to_pickle(output_file)"
   ]
  },
  {
   "cell_type": "markdown",
   "id": "wired-deviation",
   "metadata": {
    "papermill": {
     "duration": 4.563339,
     "end_time": "2021-05-01T07:23:28.174235",
     "exception": false,
     "start_time": "2021-05-01T07:23:23.610896",
     "status": "completed"
    },
    "tags": []
   },
   "source": [
    "# Testing"
   ]
  },
  {
   "cell_type": "code",
   "execution_count": 23,
   "id": "northern-consultancy",
   "metadata": {
    "execution": {
     "iopub.execute_input": "2021-05-01T07:23:37.420263Z",
     "iopub.status.busy": "2021-05-01T07:23:37.419849Z",
     "iopub.status.idle": "2021-05-01T07:23:37.421776Z",
     "shell.execute_reply": "2021-05-01T07:23:37.422076Z"
    },
    "papermill": {
     "duration": 4.624893,
     "end_time": "2021-05-01T07:23:37.422194",
     "exception": false,
     "start_time": "2021-05-01T07:23:32.797301",
     "status": "completed"
    },
    "tags": []
   },
   "outputs": [],
   "source": [
    "# data = pd.read_pickle(\n",
    "#     conf.PHENOMEXCAN[\"LD_BLOCKS\"][\"BASE_DIR\"] / \"gene_corrs\" / \"Whole_Blood\" / \"gene_corrs-Whole_Blood-chr13.pkl\"\n",
    "# )"
   ]
  },
  {
   "cell_type": "code",
   "execution_count": 24,
   "id": "honest-rental",
   "metadata": {
    "execution": {
     "iopub.execute_input": "2021-05-01T07:23:46.563291Z",
     "iopub.status.busy": "2021-05-01T07:23:46.562858Z",
     "iopub.status.idle": "2021-05-01T07:23:46.565013Z",
     "shell.execute_reply": "2021-05-01T07:23:46.565342Z"
    },
    "papermill": {
     "duration": 4.59358,
     "end_time": "2021-05-01T07:23:46.565473",
     "exception": false,
     "start_time": "2021-05-01T07:23:41.971893",
     "status": "completed"
    },
    "tags": []
   },
   "outputs": [],
   "source": [
    "# assert data.loc[\"ENSG00000134871\", \"ENSG00000187498\"] > 0.97"
   ]
  },
  {
   "cell_type": "code",
   "execution_count": null,
   "id": "sudden-enhancement",
   "metadata": {
    "papermill": {
     "duration": 4.653818,
     "end_time": "2021-05-01T07:23:55.842828",
     "exception": false,
     "start_time": "2021-05-01T07:23:51.189010",
     "status": "completed"
    },
    "tags": []
   },
   "outputs": [],
   "source": []
  }
 ],
 "metadata": {
  "jupytext": {
   "cell_metadata_filter": "all,-execution,-papermill,-trusted",
   "formats": "ipynb,py//py:percent"
  },
  "kernelspec": {
   "display_name": "Python 3",
   "language": "python",
   "name": "python3"
  },
  "language_info": {
   "codemirror_mode": {
    "name": "ipython",
    "version": 3
   },
   "file_extension": ".py",
   "mimetype": "text/x-python",
   "name": "python",
   "nbconvert_exporter": "python",
   "pygments_lexer": "ipython3",
   "version": "3.8.8"
  },
  "papermill": {
   "default_parameters": {},
   "duration": 4059.3364,
   "end_time": "2021-05-01T07:24:01.207096",
   "environment_variables": {},
   "exception": null,
   "input_path": "08_gsa_gls/10-gene_expr_correlations.ipynb",
   "output_path": "08_gsa_gls/gene_corrs/10-gene_expr_correlations-chr4.run.ipynb",
   "parameters": {
    "chromosome": 4
   },
   "start_time": "2021-05-01T06:16:21.870696",
   "version": "2.2.2"
  }
 },
 "nbformat": 4,
 "nbformat_minor": 5
}
