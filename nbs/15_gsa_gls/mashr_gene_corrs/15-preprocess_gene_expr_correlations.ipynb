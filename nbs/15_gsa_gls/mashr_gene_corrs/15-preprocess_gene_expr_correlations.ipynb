{
 "cells": [
  {
   "cell_type": "markdown",
   "id": "eb8b5286",
   "metadata": {
    "papermill": {
     "duration": 0.071503,
     "end_time": "2022-03-01T23:48:31.575412",
     "exception": false,
     "start_time": "2022-03-01T23:48:31.503909",
     "status": "completed"
    },
    "tags": []
   },
   "source": [
    "# Description"
   ]
  },
  {
   "cell_type": "markdown",
   "id": "ec633fd3",
   "metadata": {
    "papermill": {
     "duration": 0.038908,
     "end_time": "2022-03-01T23:48:31.653634",
     "exception": false,
     "start_time": "2022-03-01T23:48:31.614726",
     "status": "completed"
    },
    "tags": []
   },
   "source": [
    "This notebook reads all gene correlations across all tissues and computes a single correlation matrix."
   ]
  },
  {
   "cell_type": "markdown",
   "id": "6c656652",
   "metadata": {
    "papermill": {
     "duration": 0.039475,
     "end_time": "2022-03-01T23:48:31.733242",
     "exception": false,
     "start_time": "2022-03-01T23:48:31.693767",
     "status": "completed"
    },
    "tags": []
   },
   "source": [
    "# Modules"
   ]
  },
  {
   "cell_type": "code",
   "execution_count": 1,
   "id": "57b2c9ae",
   "metadata": {
    "execution": {
     "iopub.execute_input": "2022-03-01T23:48:31.813241Z",
     "iopub.status.busy": "2022-03-01T23:48:31.812980Z",
     "iopub.status.idle": "2022-03-01T23:48:31.828573Z",
     "shell.execute_reply": "2022-03-01T23:48:31.827983Z"
    },
    "papermill": {
     "duration": 0.05767,
     "end_time": "2022-03-01T23:48:31.830238",
     "exception": false,
     "start_time": "2022-03-01T23:48:31.772568",
     "status": "completed"
    },
    "tags": []
   },
   "outputs": [],
   "source": [
    "%load_ext autoreload\n",
    "%autoreload 2"
   ]
  },
  {
   "cell_type": "code",
   "execution_count": 2,
   "id": "7e5042fa",
   "metadata": {
    "execution": {
     "iopub.execute_input": "2022-03-01T23:48:31.911413Z",
     "iopub.status.busy": "2022-03-01T23:48:31.911201Z",
     "iopub.status.idle": "2022-03-01T23:48:32.388351Z",
     "shell.execute_reply": "2022-03-01T23:48:32.387765Z"
    },
    "papermill": {
     "duration": 0.519336,
     "end_time": "2022-03-01T23:48:32.389923",
     "exception": false,
     "start_time": "2022-03-01T23:48:31.870587",
     "status": "completed"
    },
    "tags": []
   },
   "outputs": [],
   "source": [
    "import numpy as np\n",
    "from scipy.spatial.distance import squareform\n",
    "import pandas as pd\n",
    "\n",
    "# from tqdm import tqdm\n",
    "\n",
    "import conf\n",
    "from entity import Gene"
   ]
  },
  {
   "cell_type": "markdown",
   "id": "274532ef",
   "metadata": {
    "papermill": {
     "duration": 0.070077,
     "end_time": "2022-03-01T23:48:32.501209",
     "exception": false,
     "start_time": "2022-03-01T23:48:32.431132",
     "status": "completed"
    },
    "tags": []
   },
   "source": [
    "# Settings"
   ]
  },
  {
   "cell_type": "code",
   "execution_count": 3,
   "id": "311d3a7b",
   "metadata": {
    "execution": {
     "iopub.execute_input": "2022-03-01T23:48:32.591332Z",
     "iopub.status.busy": "2022-03-01T23:48:32.591115Z",
     "iopub.status.idle": "2022-03-01T23:48:32.604107Z",
     "shell.execute_reply": "2022-03-01T23:48:32.603509Z"
    },
    "papermill": {
     "duration": 0.05468,
     "end_time": "2022-03-01T23:48:32.605564",
     "exception": false,
     "start_time": "2022-03-01T23:48:32.550884",
     "status": "completed"
    },
    "tags": [
     "parameters"
    ]
   },
   "outputs": [],
   "source": [
    "# mashr\n",
    "EQTL_MODEL = \"MASHR\"\n",
    "EQTL_MODEL_FILES_PREFIX = \"mashr_\"\n",
    "\n",
    "# # elastic net\n",
    "# EQTL_MODEL = \"ELASTIC_NET\"\n",
    "# EQTL_MODEL_FILES_PREFIX = \"en_\"\n",
    "\n",
    "EQTL_MODEL_FILES_PREFIX = None"
   ]
  },
  {
   "cell_type": "code",
   "execution_count": 4,
   "id": "468265df",
   "metadata": {
    "execution": {
     "iopub.execute_input": "2022-03-01T23:48:32.686578Z",
     "iopub.status.busy": "2022-03-01T23:48:32.686349Z",
     "iopub.status.idle": "2022-03-01T23:48:32.699324Z",
     "shell.execute_reply": "2022-03-01T23:48:32.698659Z"
    },
    "papermill": {
     "duration": 0.055218,
     "end_time": "2022-03-01T23:48:32.700806",
     "exception": false,
     "start_time": "2022-03-01T23:48:32.645588",
     "status": "completed"
    },
    "tags": [
     "injected-parameters"
    ]
   },
   "outputs": [],
   "source": [
    "# Parameters\n",
    "EQTL_MODEL = \"MASHR\"\n"
   ]
  },
  {
   "cell_type": "code",
   "execution_count": 5,
   "id": "867797e3",
   "metadata": {
    "execution": {
     "iopub.execute_input": "2022-03-01T23:48:32.783445Z",
     "iopub.status.busy": "2022-03-01T23:48:32.783216Z",
     "iopub.status.idle": "2022-03-01T23:48:32.796184Z",
     "shell.execute_reply": "2022-03-01T23:48:32.795628Z"
    },
    "papermill": {
     "duration": 0.055058,
     "end_time": "2022-03-01T23:48:32.797738",
     "exception": false,
     "start_time": "2022-03-01T23:48:32.742680",
     "status": "completed"
    },
    "tags": []
   },
   "outputs": [],
   "source": [
    "if EQTL_MODEL_FILES_PREFIX is None:\n",
    "    EQTL_MODEL_FILES_PREFIX = conf.PHENOMEXCAN[\"PREDICTION_MODELS_PREFIXES\"][EQTL_MODEL]"
   ]
  },
  {
   "cell_type": "code",
   "execution_count": 6,
   "id": "a9cac80a",
   "metadata": {
    "execution": {
     "iopub.execute_input": "2022-03-01T23:48:32.879701Z",
     "iopub.status.busy": "2022-03-01T23:48:32.879436Z",
     "iopub.status.idle": "2022-03-01T23:48:32.898532Z",
     "shell.execute_reply": "2022-03-01T23:48:32.898053Z"
    },
    "papermill": {
     "duration": 0.062105,
     "end_time": "2022-03-01T23:48:32.899890",
     "exception": false,
     "start_time": "2022-03-01T23:48:32.837785",
     "status": "completed"
    },
    "tags": []
   },
   "outputs": [
    {
     "data": {
      "text/plain": [
       "'Using eQTL model: MASHR / mashr_'"
      ]
     },
     "metadata": {},
     "output_type": "display_data"
    }
   ],
   "source": [
    "display(f\"Using eQTL model: {EQTL_MODEL} / {EQTL_MODEL_FILES_PREFIX}\")"
   ]
  },
  {
   "cell_type": "code",
   "execution_count": 7,
   "id": "96094f8e",
   "metadata": {
    "execution": {
     "iopub.execute_input": "2022-03-01T23:48:32.983256Z",
     "iopub.status.busy": "2022-03-01T23:48:32.983037Z",
     "iopub.status.idle": "2022-03-01T23:48:32.997002Z",
     "shell.execute_reply": "2022-03-01T23:48:32.996333Z"
    },
    "papermill": {
     "duration": 0.056193,
     "end_time": "2022-03-01T23:48:32.998424",
     "exception": false,
     "start_time": "2022-03-01T23:48:32.942231",
     "status": "completed"
    },
    "tags": []
   },
   "outputs": [
    {
     "data": {
      "text/plain": [
       "PosixPath('/opt/data/data/phenomexcan/ld_blocks/mashr_gene_corrs')"
      ]
     },
     "metadata": {},
     "output_type": "display_data"
    }
   ],
   "source": [
    "INPUT_DIR = (\n",
    "    conf.PHENOMEXCAN[\"LD_BLOCKS\"][\"BASE_DIR\"] / f\"{EQTL_MODEL_FILES_PREFIX}gene_corrs\"\n",
    ")\n",
    "display(INPUT_DIR)"
   ]
  },
  {
   "cell_type": "markdown",
   "id": "85ce1c46",
   "metadata": {
    "papermill": {
     "duration": 0.040428,
     "end_time": "2022-03-01T23:48:33.080712",
     "exception": false,
     "start_time": "2022-03-01T23:48:33.040284",
     "status": "completed"
    },
    "tags": []
   },
   "source": [
    "# Load data"
   ]
  },
  {
   "cell_type": "markdown",
   "id": "ca7e2c53",
   "metadata": {
    "papermill": {
     "duration": 0.040417,
     "end_time": "2022-03-01T23:48:33.161591",
     "exception": false,
     "start_time": "2022-03-01T23:48:33.121174",
     "status": "completed"
    },
    "tags": []
   },
   "source": [
    "## Gene correlations"
   ]
  },
  {
   "cell_type": "code",
   "execution_count": 8,
   "id": "3a6b5dbd",
   "metadata": {
    "execution": {
     "iopub.execute_input": "2022-03-01T23:48:33.243411Z",
     "iopub.status.busy": "2022-03-01T23:48:33.243202Z",
     "iopub.status.idle": "2022-03-01T23:48:33.263173Z",
     "shell.execute_reply": "2022-03-01T23:48:33.262636Z"
    },
    "papermill": {
     "duration": 0.062236,
     "end_time": "2022-03-01T23:48:33.264717",
     "exception": false,
     "start_time": "2022-03-01T23:48:33.202481",
     "status": "completed"
    },
    "tags": []
   },
   "outputs": [],
   "source": [
    "all_gene_corr_files = list(INPUT_DIR.rglob(\"*.pkl\"))"
   ]
  },
  {
   "cell_type": "code",
   "execution_count": 9,
   "id": "aaeafbfd",
   "metadata": {
    "execution": {
     "iopub.execute_input": "2022-03-01T23:48:33.347096Z",
     "iopub.status.busy": "2022-03-01T23:48:33.346876Z",
     "iopub.status.idle": "2022-03-01T23:48:33.361085Z",
     "shell.execute_reply": "2022-03-01T23:48:33.360419Z"
    },
    "papermill": {
     "duration": 0.056799,
     "end_time": "2022-03-01T23:48:33.362406",
     "exception": false,
     "start_time": "2022-03-01T23:48:33.305607",
     "status": "completed"
    },
    "tags": []
   },
   "outputs": [
    {
     "data": {
      "text/plain": [
       "1078"
      ]
     },
     "execution_count": 9,
     "metadata": {},
     "output_type": "execute_result"
    }
   ],
   "source": [
    "len(all_gene_corr_files)"
   ]
  },
  {
   "cell_type": "code",
   "execution_count": 10,
   "id": "7d7c4919",
   "metadata": {
    "execution": {
     "iopub.execute_input": "2022-03-01T23:48:33.448238Z",
     "iopub.status.busy": "2022-03-01T23:48:33.448009Z",
     "iopub.status.idle": "2022-03-01T23:48:33.465643Z",
     "shell.execute_reply": "2022-03-01T23:48:33.465068Z"
    },
    "papermill": {
     "duration": 0.062204,
     "end_time": "2022-03-01T23:48:33.467522",
     "exception": false,
     "start_time": "2022-03-01T23:48:33.405318",
     "status": "completed"
    },
    "tags": []
   },
   "outputs": [
    {
     "data": {
      "text/plain": [
       "[PosixPath('/opt/data/data/phenomexcan/ld_blocks/mashr_gene_corrs/Adrenal_Gland/gene_corrs-Adrenal_Gland-chr21.pkl'),\n",
       " PosixPath('/opt/data/data/phenomexcan/ld_blocks/mashr_gene_corrs/Adrenal_Gland/gene_corrs-Adrenal_Gland-chr4.pkl'),\n",
       " PosixPath('/opt/data/data/phenomexcan/ld_blocks/mashr_gene_corrs/Adrenal_Gland/gene_corrs-Adrenal_Gland-chr18.pkl'),\n",
       " PosixPath('/opt/data/data/phenomexcan/ld_blocks/mashr_gene_corrs/Adrenal_Gland/gene_corrs-Adrenal_Gland-chr10.pkl'),\n",
       " PosixPath('/opt/data/data/phenomexcan/ld_blocks/mashr_gene_corrs/Adrenal_Gland/gene_corrs-Adrenal_Gland-chr13.pkl')]"
      ]
     },
     "execution_count": 10,
     "metadata": {},
     "output_type": "execute_result"
    }
   ],
   "source": [
    "all_gene_corr_files[:5]"
   ]
  },
  {
   "cell_type": "code",
   "execution_count": 11,
   "id": "637ed6d6",
   "metadata": {
    "execution": {
     "iopub.execute_input": "2022-03-01T23:48:33.555948Z",
     "iopub.status.busy": "2022-03-01T23:48:33.555718Z",
     "iopub.status.idle": "2022-03-01T23:48:33.568729Z",
     "shell.execute_reply": "2022-03-01T23:48:33.568087Z"
    },
    "papermill": {
     "duration": 0.057299,
     "end_time": "2022-03-01T23:48:33.570192",
     "exception": false,
     "start_time": "2022-03-01T23:48:33.512893",
     "status": "completed"
    },
    "tags": []
   },
   "outputs": [],
   "source": [
    "assert len(all_gene_corr_files) == 22 * 49"
   ]
  },
  {
   "cell_type": "code",
   "execution_count": 12,
   "id": "505d15d6",
   "metadata": {
    "execution": {
     "iopub.execute_input": "2022-03-01T23:48:33.655413Z",
     "iopub.status.busy": "2022-03-01T23:48:33.655186Z",
     "iopub.status.idle": "2022-03-01T23:48:33.668934Z",
     "shell.execute_reply": "2022-03-01T23:48:33.668297Z"
    },
    "papermill": {
     "duration": 0.058049,
     "end_time": "2022-03-01T23:48:33.670528",
     "exception": false,
     "start_time": "2022-03-01T23:48:33.612479",
     "status": "completed"
    },
    "tags": []
   },
   "outputs": [],
   "source": [
    "all_gene_corr_files_df = pd.DataFrame({\"corr_file\": [f for f in all_gene_corr_files]})"
   ]
  },
  {
   "cell_type": "code",
   "execution_count": 13,
   "id": "a79dd3f5",
   "metadata": {
    "execution": {
     "iopub.execute_input": "2022-03-01T23:48:33.755606Z",
     "iopub.status.busy": "2022-03-01T23:48:33.754916Z",
     "iopub.status.idle": "2022-03-01T23:48:33.769040Z",
     "shell.execute_reply": "2022-03-01T23:48:33.768405Z"
    },
    "papermill": {
     "duration": 0.057534,
     "end_time": "2022-03-01T23:48:33.770608",
     "exception": false,
     "start_time": "2022-03-01T23:48:33.713074",
     "status": "completed"
    },
    "tags": []
   },
   "outputs": [],
   "source": [
    "all_gene_corr_files_df = all_gene_corr_files_df.assign(\n",
    "    file_name=all_gene_corr_files_df[\"corr_file\"].apply(lambda x: x.name)\n",
    ")"
   ]
  },
  {
   "cell_type": "code",
   "execution_count": 14,
   "id": "8cdb8088",
   "metadata": {
    "execution": {
     "iopub.execute_input": "2022-03-01T23:48:33.856891Z",
     "iopub.status.busy": "2022-03-01T23:48:33.856662Z",
     "iopub.status.idle": "2022-03-01T23:48:33.871339Z",
     "shell.execute_reply": "2022-03-01T23:48:33.870765Z"
    },
    "papermill": {
     "duration": 0.059618,
     "end_time": "2022-03-01T23:48:33.872888",
     "exception": false,
     "start_time": "2022-03-01T23:48:33.813270",
     "status": "completed"
    },
    "tags": []
   },
   "outputs": [],
   "source": [
    "all_gene_corr_files_df = all_gene_corr_files_df.assign(\n",
    "    tissue=all_gene_corr_files_df[\"file_name\"].apply(\n",
    "        lambda x: x.split(\"-chr\")[0].split(\"gene_corrs-\")[1]\n",
    "    )\n",
    ")"
   ]
  },
  {
   "cell_type": "code",
   "execution_count": 15,
   "id": "74d18e4d",
   "metadata": {
    "execution": {
     "iopub.execute_input": "2022-03-01T23:48:33.957252Z",
     "iopub.status.busy": "2022-03-01T23:48:33.957035Z",
     "iopub.status.idle": "2022-03-01T23:48:33.971682Z",
     "shell.execute_reply": "2022-03-01T23:48:33.971040Z"
    },
    "papermill": {
     "duration": 0.058211,
     "end_time": "2022-03-01T23:48:33.973192",
     "exception": false,
     "start_time": "2022-03-01T23:48:33.914981",
     "status": "completed"
    },
    "tags": []
   },
   "outputs": [],
   "source": [
    "all_gene_corr_files_df = all_gene_corr_files_df.assign(\n",
    "    chromosome=all_gene_corr_files_df[\"file_name\"].apply(\n",
    "        lambda x: int(x.split(\"-chr\")[1].split(\".\")[0])\n",
    "    )\n",
    ")"
   ]
  },
  {
   "cell_type": "code",
   "execution_count": 16,
   "id": "7d998234",
   "metadata": {
    "execution": {
     "iopub.execute_input": "2022-03-01T23:48:34.057803Z",
     "iopub.status.busy": "2022-03-01T23:48:34.057587Z",
     "iopub.status.idle": "2022-03-01T23:48:34.070706Z",
     "shell.execute_reply": "2022-03-01T23:48:34.070143Z"
    },
    "papermill": {
     "duration": 0.057185,
     "end_time": "2022-03-01T23:48:34.072197",
     "exception": false,
     "start_time": "2022-03-01T23:48:34.015012",
     "status": "completed"
    },
    "tags": []
   },
   "outputs": [],
   "source": [
    "assert all_gene_corr_files_df[\"tissue\"].unique().shape[0] == 49"
   ]
  },
  {
   "cell_type": "code",
   "execution_count": 17,
   "id": "53558f69",
   "metadata": {
    "execution": {
     "iopub.execute_input": "2022-03-01T23:48:34.157983Z",
     "iopub.status.busy": "2022-03-01T23:48:34.157766Z",
     "iopub.status.idle": "2022-03-01T23:48:34.171067Z",
     "shell.execute_reply": "2022-03-01T23:48:34.170566Z"
    },
    "papermill": {
     "duration": 0.057857,
     "end_time": "2022-03-01T23:48:34.172551",
     "exception": false,
     "start_time": "2022-03-01T23:48:34.114694",
     "status": "completed"
    },
    "tags": []
   },
   "outputs": [],
   "source": [
    "assert all_gene_corr_files_df[\"chromosome\"].unique().shape[0] == 22\n",
    "assert set(all_gene_corr_files_df[\"chromosome\"]) == set(range(1, 23))"
   ]
  },
  {
   "cell_type": "code",
   "execution_count": 18,
   "id": "8647cde3",
   "metadata": {
    "execution": {
     "iopub.execute_input": "2022-03-01T23:48:34.257587Z",
     "iopub.status.busy": "2022-03-01T23:48:34.257358Z",
     "iopub.status.idle": "2022-03-01T23:48:34.271094Z",
     "shell.execute_reply": "2022-03-01T23:48:34.270541Z"
    },
    "papermill": {
     "duration": 0.057821,
     "end_time": "2022-03-01T23:48:34.272644",
     "exception": false,
     "start_time": "2022-03-01T23:48:34.214823",
     "status": "completed"
    },
    "tags": []
   },
   "outputs": [
    {
     "data": {
      "text/plain": [
       "(1078, 4)"
      ]
     },
     "execution_count": 18,
     "metadata": {},
     "output_type": "execute_result"
    }
   ],
   "source": [
    "all_gene_corr_files_df.shape"
   ]
  },
  {
   "cell_type": "code",
   "execution_count": 19,
   "id": "1bb52af6",
   "metadata": {
    "execution": {
     "iopub.execute_input": "2022-03-01T23:48:34.368970Z",
     "iopub.status.busy": "2022-03-01T23:48:34.368751Z",
     "iopub.status.idle": "2022-03-01T23:48:34.387494Z",
     "shell.execute_reply": "2022-03-01T23:48:34.386895Z"
    },
    "papermill": {
     "duration": 0.068098,
     "end_time": "2022-03-01T23:48:34.388906",
     "exception": false,
     "start_time": "2022-03-01T23:48:34.320808",
     "status": "completed"
    },
    "tags": []
   },
   "outputs": [
    {
     "data": {
      "text/html": [
       "<div>\n",
       "<style scoped>\n",
       "    .dataframe tbody tr th:only-of-type {\n",
       "        vertical-align: middle;\n",
       "    }\n",
       "\n",
       "    .dataframe tbody tr th {\n",
       "        vertical-align: top;\n",
       "    }\n",
       "\n",
       "    .dataframe thead th {\n",
       "        text-align: right;\n",
       "    }\n",
       "</style>\n",
       "<table border=\"1\" class=\"dataframe\">\n",
       "  <thead>\n",
       "    <tr style=\"text-align: right;\">\n",
       "      <th></th>\n",
       "      <th>corr_file</th>\n",
       "      <th>file_name</th>\n",
       "      <th>tissue</th>\n",
       "      <th>chromosome</th>\n",
       "    </tr>\n",
       "  </thead>\n",
       "  <tbody>\n",
       "    <tr>\n",
       "      <th>0</th>\n",
       "      <td>/opt/data/data/phenomexcan/ld_blocks/mashr_gen...</td>\n",
       "      <td>gene_corrs-Adrenal_Gland-chr21.pkl</td>\n",
       "      <td>Adrenal_Gland</td>\n",
       "      <td>21</td>\n",
       "    </tr>\n",
       "    <tr>\n",
       "      <th>1</th>\n",
       "      <td>/opt/data/data/phenomexcan/ld_blocks/mashr_gen...</td>\n",
       "      <td>gene_corrs-Adrenal_Gland-chr4.pkl</td>\n",
       "      <td>Adrenal_Gland</td>\n",
       "      <td>4</td>\n",
       "    </tr>\n",
       "    <tr>\n",
       "      <th>2</th>\n",
       "      <td>/opt/data/data/phenomexcan/ld_blocks/mashr_gen...</td>\n",
       "      <td>gene_corrs-Adrenal_Gland-chr18.pkl</td>\n",
       "      <td>Adrenal_Gland</td>\n",
       "      <td>18</td>\n",
       "    </tr>\n",
       "    <tr>\n",
       "      <th>3</th>\n",
       "      <td>/opt/data/data/phenomexcan/ld_blocks/mashr_gen...</td>\n",
       "      <td>gene_corrs-Adrenal_Gland-chr10.pkl</td>\n",
       "      <td>Adrenal_Gland</td>\n",
       "      <td>10</td>\n",
       "    </tr>\n",
       "    <tr>\n",
       "      <th>4</th>\n",
       "      <td>/opt/data/data/phenomexcan/ld_blocks/mashr_gen...</td>\n",
       "      <td>gene_corrs-Adrenal_Gland-chr13.pkl</td>\n",
       "      <td>Adrenal_Gland</td>\n",
       "      <td>13</td>\n",
       "    </tr>\n",
       "  </tbody>\n",
       "</table>\n",
       "</div>"
      ],
      "text/plain": [
       "                                           corr_file  \\\n",
       "0  /opt/data/data/phenomexcan/ld_blocks/mashr_gen...   \n",
       "1  /opt/data/data/phenomexcan/ld_blocks/mashr_gen...   \n",
       "2  /opt/data/data/phenomexcan/ld_blocks/mashr_gen...   \n",
       "3  /opt/data/data/phenomexcan/ld_blocks/mashr_gen...   \n",
       "4  /opt/data/data/phenomexcan/ld_blocks/mashr_gen...   \n",
       "\n",
       "                            file_name         tissue  chromosome  \n",
       "0  gene_corrs-Adrenal_Gland-chr21.pkl  Adrenal_Gland          21  \n",
       "1   gene_corrs-Adrenal_Gland-chr4.pkl  Adrenal_Gland           4  \n",
       "2  gene_corrs-Adrenal_Gland-chr18.pkl  Adrenal_Gland          18  \n",
       "3  gene_corrs-Adrenal_Gland-chr10.pkl  Adrenal_Gland          10  \n",
       "4  gene_corrs-Adrenal_Gland-chr13.pkl  Adrenal_Gland          13  "
      ]
     },
     "execution_count": 19,
     "metadata": {},
     "output_type": "execute_result"
    }
   ],
   "source": [
    "all_gene_corr_files_df.head()"
   ]
  },
  {
   "cell_type": "markdown",
   "id": "0954e7e7",
   "metadata": {
    "papermill": {
     "duration": 0.046111,
     "end_time": "2022-03-01T23:48:34.478622",
     "exception": false,
     "start_time": "2022-03-01T23:48:34.432511",
     "status": "completed"
    },
    "tags": []
   },
   "source": [
    "## MultiPLIER Z"
   ]
  },
  {
   "cell_type": "code",
   "execution_count": 20,
   "id": "066dd1d3",
   "metadata": {
    "execution": {
     "iopub.execute_input": "2022-03-01T23:48:34.567985Z",
     "iopub.status.busy": "2022-03-01T23:48:34.567548Z",
     "iopub.status.idle": "2022-03-01T23:48:34.607295Z",
     "shell.execute_reply": "2022-03-01T23:48:34.606700Z"
    },
    "papermill": {
     "duration": 0.085717,
     "end_time": "2022-03-01T23:48:34.609037",
     "exception": false,
     "start_time": "2022-03-01T23:48:34.523320",
     "status": "completed"
    },
    "tags": []
   },
   "outputs": [],
   "source": [
    "multiplier_z_genes = pd.read_pickle(\n",
    "    conf.MULTIPLIER[\"MODEL_Z_MATRIX_FILE\"]\n",
    ").index.tolist()"
   ]
  },
  {
   "cell_type": "code",
   "execution_count": 21,
   "id": "8c2ef954",
   "metadata": {
    "execution": {
     "iopub.execute_input": "2022-03-01T23:48:34.701651Z",
     "iopub.status.busy": "2022-03-01T23:48:34.701432Z",
     "iopub.status.idle": "2022-03-01T23:48:34.715110Z",
     "shell.execute_reply": "2022-03-01T23:48:34.714596Z"
    },
    "papermill": {
     "duration": 0.059022,
     "end_time": "2022-03-01T23:48:34.716471",
     "exception": false,
     "start_time": "2022-03-01T23:48:34.657449",
     "status": "completed"
    },
    "tags": []
   },
   "outputs": [
    {
     "data": {
      "text/plain": [
       "6750"
      ]
     },
     "execution_count": 21,
     "metadata": {},
     "output_type": "execute_result"
    }
   ],
   "source": [
    "len(multiplier_z_genes)"
   ]
  },
  {
   "cell_type": "code",
   "execution_count": 22,
   "id": "02d5c9af",
   "metadata": {
    "execution": {
     "iopub.execute_input": "2022-03-01T23:48:34.804108Z",
     "iopub.status.busy": "2022-03-01T23:48:34.803686Z",
     "iopub.status.idle": "2022-03-01T23:48:34.817509Z",
     "shell.execute_reply": "2022-03-01T23:48:34.816770Z"
    },
    "papermill": {
     "duration": 0.058939,
     "end_time": "2022-03-01T23:48:34.818917",
     "exception": false,
     "start_time": "2022-03-01T23:48:34.759978",
     "status": "completed"
    },
    "tags": []
   },
   "outputs": [
    {
     "data": {
      "text/plain": [
       "['GAS6',\n",
       " 'MMP14',\n",
       " 'DSP',\n",
       " 'MARCKSL1',\n",
       " 'SPARC',\n",
       " 'CTSD',\n",
       " 'EPAS1',\n",
       " 'PALLD',\n",
       " 'PHC2',\n",
       " 'LGALS3BP']"
      ]
     },
     "execution_count": 22,
     "metadata": {},
     "output_type": "execute_result"
    }
   ],
   "source": [
    "multiplier_z_genes[:10]"
   ]
  },
  {
   "cell_type": "markdown",
   "id": "ead1d676",
   "metadata": {
    "papermill": {
     "duration": 0.043192,
     "end_time": "2022-03-01T23:48:34.907248",
     "exception": false,
     "start_time": "2022-03-01T23:48:34.864056",
     "status": "completed"
    },
    "tags": []
   },
   "source": [
    "## Get gene objects"
   ]
  },
  {
   "cell_type": "code",
   "execution_count": 23,
   "id": "9739ebd0",
   "metadata": {
    "execution": {
     "iopub.execute_input": "2022-03-01T23:48:34.995604Z",
     "iopub.status.busy": "2022-03-01T23:48:34.995364Z",
     "iopub.status.idle": "2022-03-01T23:48:35.014690Z",
     "shell.execute_reply": "2022-03-01T23:48:35.014119Z"
    },
    "papermill": {
     "duration": 0.065159,
     "end_time": "2022-03-01T23:48:35.016274",
     "exception": false,
     "start_time": "2022-03-01T23:48:34.951115",
     "status": "completed"
    },
    "tags": []
   },
   "outputs": [],
   "source": [
    "multiplier_gene_obj = {\n",
    "    gene_name: Gene(name=gene_name)\n",
    "    for gene_name in multiplier_z_genes\n",
    "    if gene_name in Gene.GENE_NAME_TO_ID_MAP\n",
    "}"
   ]
  },
  {
   "cell_type": "code",
   "execution_count": 24,
   "id": "9b961463",
   "metadata": {
    "execution": {
     "iopub.execute_input": "2022-03-01T23:48:35.105840Z",
     "iopub.status.busy": "2022-03-01T23:48:35.105610Z",
     "iopub.status.idle": "2022-03-01T23:48:35.119428Z",
     "shell.execute_reply": "2022-03-01T23:48:35.118763Z"
    },
    "papermill": {
     "duration": 0.059847,
     "end_time": "2022-03-01T23:48:35.120898",
     "exception": false,
     "start_time": "2022-03-01T23:48:35.061051",
     "status": "completed"
    },
    "tags": []
   },
   "outputs": [
    {
     "data": {
      "text/plain": [
       "6454"
      ]
     },
     "execution_count": 24,
     "metadata": {},
     "output_type": "execute_result"
    }
   ],
   "source": [
    "len(multiplier_gene_obj)"
   ]
  },
  {
   "cell_type": "code",
   "execution_count": 25,
   "id": "96c5d2b0",
   "metadata": {
    "execution": {
     "iopub.execute_input": "2022-03-01T23:48:35.210859Z",
     "iopub.status.busy": "2022-03-01T23:48:35.210393Z",
     "iopub.status.idle": "2022-03-01T23:48:35.224220Z",
     "shell.execute_reply": "2022-03-01T23:48:35.223405Z"
    },
    "papermill": {
     "duration": 0.059483,
     "end_time": "2022-03-01T23:48:35.225618",
     "exception": false,
     "start_time": "2022-03-01T23:48:35.166135",
     "status": "completed"
    },
    "tags": []
   },
   "outputs": [
    {
     "data": {
      "text/plain": [
       "'ENSG00000183087'"
      ]
     },
     "execution_count": 25,
     "metadata": {},
     "output_type": "execute_result"
    }
   ],
   "source": [
    "multiplier_gene_obj[\"GAS6\"].ensembl_id"
   ]
  },
  {
   "cell_type": "code",
   "execution_count": 26,
   "id": "77f5b215",
   "metadata": {
    "execution": {
     "iopub.execute_input": "2022-03-01T23:48:35.317842Z",
     "iopub.status.busy": "2022-03-01T23:48:35.317628Z",
     "iopub.status.idle": "2022-03-01T23:48:36.140534Z",
     "shell.execute_reply": "2022-03-01T23:48:36.139947Z"
    },
    "papermill": {
     "duration": 0.870348,
     "end_time": "2022-03-01T23:48:36.142247",
     "exception": false,
     "start_time": "2022-03-01T23:48:35.271899",
     "status": "completed"
    },
    "tags": []
   },
   "outputs": [],
   "source": [
    "_gene_obj = list(multiplier_gene_obj.values())\n",
    "\n",
    "genes_info = pd.DataFrame(\n",
    "    {\n",
    "        \"name\": [g.name for g in _gene_obj],\n",
    "        \"id\": [g.ensembl_id for g in _gene_obj],\n",
    "        \"chr\": [g.chromosome for g in _gene_obj],\n",
    "    }\n",
    ").dropna()"
   ]
  },
  {
   "cell_type": "code",
   "execution_count": 27,
   "id": "612ed2f3",
   "metadata": {
    "execution": {
     "iopub.execute_input": "2022-03-01T23:48:36.232887Z",
     "iopub.status.busy": "2022-03-01T23:48:36.232667Z",
     "iopub.status.idle": "2022-03-01T23:48:36.247415Z",
     "shell.execute_reply": "2022-03-01T23:48:36.246698Z"
    },
    "papermill": {
     "duration": 0.061365,
     "end_time": "2022-03-01T23:48:36.248778",
     "exception": false,
     "start_time": "2022-03-01T23:48:36.187413",
     "status": "completed"
    },
    "tags": []
   },
   "outputs": [
    {
     "data": {
      "text/plain": [
       "(6452, 3)"
      ]
     },
     "execution_count": 27,
     "metadata": {},
     "output_type": "execute_result"
    }
   ],
   "source": [
    "genes_info.shape"
   ]
  },
  {
   "cell_type": "code",
   "execution_count": 28,
   "id": "477861f8",
   "metadata": {
    "execution": {
     "iopub.execute_input": "2022-03-01T23:48:36.340217Z",
     "iopub.status.busy": "2022-03-01T23:48:36.340023Z",
     "iopub.status.idle": "2022-03-01T23:48:36.357562Z",
     "shell.execute_reply": "2022-03-01T23:48:36.356678Z"
    },
    "papermill": {
     "duration": 0.065005,
     "end_time": "2022-03-01T23:48:36.359116",
     "exception": false,
     "start_time": "2022-03-01T23:48:36.294111",
     "status": "completed"
    },
    "tags": []
   },
   "outputs": [
    {
     "data": {
      "text/html": [
       "<div>\n",
       "<style scoped>\n",
       "    .dataframe tbody tr th:only-of-type {\n",
       "        vertical-align: middle;\n",
       "    }\n",
       "\n",
       "    .dataframe tbody tr th {\n",
       "        vertical-align: top;\n",
       "    }\n",
       "\n",
       "    .dataframe thead th {\n",
       "        text-align: right;\n",
       "    }\n",
       "</style>\n",
       "<table border=\"1\" class=\"dataframe\">\n",
       "  <thead>\n",
       "    <tr style=\"text-align: right;\">\n",
       "      <th></th>\n",
       "      <th>name</th>\n",
       "      <th>id</th>\n",
       "      <th>chr</th>\n",
       "    </tr>\n",
       "  </thead>\n",
       "  <tbody>\n",
       "    <tr>\n",
       "      <th>0</th>\n",
       "      <td>GAS6</td>\n",
       "      <td>ENSG00000183087</td>\n",
       "      <td>13</td>\n",
       "    </tr>\n",
       "    <tr>\n",
       "      <th>1</th>\n",
       "      <td>MMP14</td>\n",
       "      <td>ENSG00000157227</td>\n",
       "      <td>14</td>\n",
       "    </tr>\n",
       "    <tr>\n",
       "      <th>2</th>\n",
       "      <td>DSP</td>\n",
       "      <td>ENSG00000096696</td>\n",
       "      <td>6</td>\n",
       "    </tr>\n",
       "    <tr>\n",
       "      <th>3</th>\n",
       "      <td>MARCKSL1</td>\n",
       "      <td>ENSG00000175130</td>\n",
       "      <td>1</td>\n",
       "    </tr>\n",
       "    <tr>\n",
       "      <th>4</th>\n",
       "      <td>SPARC</td>\n",
       "      <td>ENSG00000113140</td>\n",
       "      <td>5</td>\n",
       "    </tr>\n",
       "  </tbody>\n",
       "</table>\n",
       "</div>"
      ],
      "text/plain": [
       "       name               id chr\n",
       "0      GAS6  ENSG00000183087  13\n",
       "1     MMP14  ENSG00000157227  14\n",
       "2       DSP  ENSG00000096696   6\n",
       "3  MARCKSL1  ENSG00000175130   1\n",
       "4     SPARC  ENSG00000113140   5"
      ]
     },
     "execution_count": 28,
     "metadata": {},
     "output_type": "execute_result"
    }
   ],
   "source": [
    "genes_info.head()"
   ]
  },
  {
   "cell_type": "markdown",
   "id": "d3f7c38b",
   "metadata": {
    "papermill": {
     "duration": 0.044957,
     "end_time": "2022-03-01T23:48:36.449985",
     "exception": false,
     "start_time": "2022-03-01T23:48:36.405028",
     "status": "completed"
    },
    "tags": []
   },
   "source": [
    "## Get tissues names"
   ]
  },
  {
   "cell_type": "code",
   "execution_count": 29,
   "id": "bc13af08",
   "metadata": {
    "execution": {
     "iopub.execute_input": "2022-03-01T23:48:36.545669Z",
     "iopub.status.busy": "2022-03-01T23:48:36.545454Z",
     "iopub.status.idle": "2022-03-01T23:48:36.559538Z",
     "shell.execute_reply": "2022-03-01T23:48:36.558980Z"
    },
    "papermill": {
     "duration": 0.062181,
     "end_time": "2022-03-01T23:48:36.561058",
     "exception": false,
     "start_time": "2022-03-01T23:48:36.498877",
     "status": "completed"
    },
    "tags": []
   },
   "outputs": [],
   "source": [
    "db_files = list(conf.PHENOMEXCAN[\"PREDICTION_MODELS\"][EQTL_MODEL].glob(\"*.db\"))"
   ]
  },
  {
   "cell_type": "code",
   "execution_count": 30,
   "id": "01de3e59",
   "metadata": {
    "execution": {
     "iopub.execute_input": "2022-03-01T23:48:36.653224Z",
     "iopub.status.busy": "2022-03-01T23:48:36.653007Z",
     "iopub.status.idle": "2022-03-01T23:48:36.666211Z",
     "shell.execute_reply": "2022-03-01T23:48:36.665729Z"
    },
    "papermill": {
     "duration": 0.061011,
     "end_time": "2022-03-01T23:48:36.667707",
     "exception": false,
     "start_time": "2022-03-01T23:48:36.606696",
     "status": "completed"
    },
    "tags": []
   },
   "outputs": [],
   "source": [
    "assert len(db_files) == 49"
   ]
  },
  {
   "cell_type": "code",
   "execution_count": 31,
   "id": "40844f16",
   "metadata": {
    "execution": {
     "iopub.execute_input": "2022-03-01T23:48:36.762174Z",
     "iopub.status.busy": "2022-03-01T23:48:36.761958Z",
     "iopub.status.idle": "2022-03-01T23:48:36.775499Z",
     "shell.execute_reply": "2022-03-01T23:48:36.774936Z"
    },
    "papermill": {
     "duration": 0.061431,
     "end_time": "2022-03-01T23:48:36.777111",
     "exception": false,
     "start_time": "2022-03-01T23:48:36.715680",
     "status": "completed"
    },
    "tags": []
   },
   "outputs": [],
   "source": [
    "tissues = [str(f).split(EQTL_MODEL_FILES_PREFIX)[1].split(\".db\")[0] for f in db_files]"
   ]
  },
  {
   "cell_type": "code",
   "execution_count": 32,
   "id": "bb0d38ac",
   "metadata": {
    "execution": {
     "iopub.execute_input": "2022-03-01T23:48:36.870354Z",
     "iopub.status.busy": "2022-03-01T23:48:36.870137Z",
     "iopub.status.idle": "2022-03-01T23:48:36.884242Z",
     "shell.execute_reply": "2022-03-01T23:48:36.883562Z"
    },
    "papermill": {
     "duration": 0.062193,
     "end_time": "2022-03-01T23:48:36.885853",
     "exception": false,
     "start_time": "2022-03-01T23:48:36.823660",
     "status": "completed"
    },
    "tags": []
   },
   "outputs": [
    {
     "data": {
      "text/plain": [
       "['Skin_Not_Sun_Exposed_Suprapubic',\n",
       " 'Cells_EBV-transformed_lymphocytes',\n",
       " 'Brain_Frontal_Cortex_BA9',\n",
       " 'Kidney_Cortex',\n",
       " 'Brain_Substantia_nigra']"
      ]
     },
     "execution_count": 32,
     "metadata": {},
     "output_type": "execute_result"
    }
   ],
   "source": [
    "tissues[:5]"
   ]
  },
  {
   "cell_type": "markdown",
   "id": "0afc81cf",
   "metadata": {
    "papermill": {
     "duration": 0.04567,
     "end_time": "2022-03-01T23:48:36.977882",
     "exception": false,
     "start_time": "2022-03-01T23:48:36.932212",
     "status": "completed"
    },
    "tags": []
   },
   "source": [
    "# Average correlations per chromosome"
   ]
  },
  {
   "cell_type": "code",
   "execution_count": 33,
   "id": "ce14b4cb",
   "metadata": {
    "execution": {
     "iopub.execute_input": "2022-03-01T23:48:37.071550Z",
     "iopub.status.busy": "2022-03-01T23:48:37.071320Z",
     "iopub.status.idle": "2022-03-01T23:48:40.849677Z",
     "shell.execute_reply": "2022-03-01T23:48:40.849043Z"
    },
    "papermill": {
     "duration": 3.827197,
     "end_time": "2022-03-01T23:48:40.851009",
     "exception": false,
     "start_time": "2022-03-01T23:48:37.023812",
     "status": "completed"
    },
    "tags": []
   },
   "outputs": [
    {
     "name": "stdout",
     "output_type": "stream",
     "text": [
      "Chromosome: 1\n",
      "Number of corrs files: (49, 4)\n",
      "Number of MultiPLIER genes: (700, 3)\n",
      "Reading corrs per tissue\n"
     ]
    },
    {
     "data": {
      "text/plain": [
       "count    244650.000000\n",
       "mean          0.000062\n",
       "std           0.016267\n",
       "min          -0.604064\n",
       "25%          -0.005203\n",
       "50%           0.000000\n",
       "75%           0.005283\n",
       "max           0.662772\n",
       "dtype: float64"
      ]
     },
     "metadata": {},
     "output_type": "display_data"
    },
    {
     "name": "stdout",
     "output_type": "stream",
     "text": [
      "\n",
      "\n",
      "Chromosome: 2\n",
      "Number of corrs files: (49, 4)\n",
      "Number of MultiPLIER genes: (445, 3)\n",
      "Reading corrs per tissue\n"
     ]
    },
    {
     "data": {
      "text/plain": [
       "count    98790.000000\n",
       "mean        -0.000031\n",
       "std          0.016511\n",
       "min         -0.572576\n",
       "25%         -0.005460\n",
       "50%          0.000000\n",
       "75%          0.005474\n",
       "max          0.555836\n",
       "dtype: float64"
      ]
     },
     "metadata": {},
     "output_type": "display_data"
    },
    {
     "name": "stdout",
     "output_type": "stream",
     "text": [
      "\n",
      "\n",
      "Chromosome: 3\n",
      "Number of corrs files: (49, 4)\n",
      "Number of MultiPLIER genes: (393, 3)\n",
      "Reading corrs per tissue\n"
     ]
    },
    {
     "data": {
      "text/plain": [
       "count    77028.000000\n",
       "mean         0.000007\n",
       "std          0.018638\n",
       "min         -0.926208\n",
       "25%         -0.005516\n",
       "50%          0.000000\n",
       "75%          0.005437\n",
       "max          0.892996\n",
       "dtype: float64"
      ]
     },
     "metadata": {},
     "output_type": "display_data"
    },
    {
     "name": "stdout",
     "output_type": "stream",
     "text": [
      "\n",
      "\n",
      "Chromosome: 4\n",
      "Number of corrs files: (49, 4)\n",
      "Number of MultiPLIER genes: (244, 3)\n",
      "Reading corrs per tissue\n"
     ]
    },
    {
     "data": {
      "text/plain": [
       "count    29646.000000\n",
       "mean         0.000081\n",
       "std          0.015757\n",
       "min         -0.493401\n",
       "25%         -0.005026\n",
       "50%          0.000000\n",
       "75%          0.005064\n",
       "max          0.556111\n",
       "dtype: float64"
      ]
     },
     "metadata": {},
     "output_type": "display_data"
    },
    {
     "name": "stdout",
     "output_type": "stream",
     "text": [
      "\n",
      "\n",
      "Chromosome: 5\n",
      "Number of corrs files: (49, 4)\n",
      "Number of MultiPLIER genes: (306, 3)\n",
      "Reading corrs per tissue\n"
     ]
    },
    {
     "data": {
      "text/plain": [
       "count    46665.000000\n",
       "mean         0.000041\n",
       "std          0.018839\n",
       "min         -0.620979\n",
       "25%         -0.005262\n",
       "50%          0.000000\n",
       "75%          0.005253\n",
       "max          0.717109\n",
       "dtype: float64"
      ]
     },
     "metadata": {},
     "output_type": "display_data"
    },
    {
     "name": "stdout",
     "output_type": "stream",
     "text": [
      "\n",
      "\n",
      "Chromosome: 6\n",
      "Number of corrs files: (49, 4)\n",
      "Number of MultiPLIER genes: (339, 3)\n",
      "Reading corrs per tissue\n"
     ]
    },
    {
     "data": {
      "text/plain": [
       "count    57291.000000\n",
       "mean         0.000085\n",
       "std          0.018855\n",
       "min         -0.549863\n",
       "25%         -0.005654\n",
       "50%          0.000000\n",
       "75%          0.005680\n",
       "max          0.763644\n",
       "dtype: float64"
      ]
     },
     "metadata": {},
     "output_type": "display_data"
    },
    {
     "name": "stdout",
     "output_type": "stream",
     "text": [
      "\n",
      "\n",
      "Chromosome: 7\n",
      "Number of corrs files: (49, 4)\n",
      "Number of MultiPLIER genes: (281, 3)\n",
      "Reading corrs per tissue\n"
     ]
    },
    {
     "data": {
      "text/plain": [
       "count    39340.000000\n",
       "mean         0.000242\n",
       "std          0.017489\n",
       "min         -0.335488\n",
       "25%         -0.005271\n",
       "50%          0.000002\n",
       "75%          0.005450\n",
       "max          0.703423\n",
       "dtype: float64"
      ]
     },
     "metadata": {},
     "output_type": "display_data"
    },
    {
     "name": "stdout",
     "output_type": "stream",
     "text": [
      "\n",
      "\n",
      "Chromosome: 8\n",
      "Number of corrs files: (49, 4)\n",
      "Number of MultiPLIER genes: (222, 3)\n",
      "Reading corrs per tissue\n"
     ]
    },
    {
     "data": {
      "text/plain": [
       "count    24531.000000\n",
       "mean        -0.000046\n",
       "std          0.015408\n",
       "min         -0.497478\n",
       "25%         -0.004892\n",
       "50%          0.000012\n",
       "75%          0.004903\n",
       "max          0.653567\n",
       "dtype: float64"
      ]
     },
     "metadata": {},
     "output_type": "display_data"
    },
    {
     "name": "stdout",
     "output_type": "stream",
     "text": [
      "\n",
      "\n",
      "Chromosome: 9\n",
      "Number of corrs files: (49, 4)\n",
      "Number of MultiPLIER genes: (245, 3)\n",
      "Reading corrs per tissue\n"
     ]
    },
    {
     "data": {
      "text/plain": [
       "count    29890.000000\n",
       "mean        -0.000095\n",
       "std          0.018607\n",
       "min         -0.800606\n",
       "25%         -0.005406\n",
       "50%          0.000000\n",
       "75%          0.005427\n",
       "max          0.763848\n",
       "dtype: float64"
      ]
     },
     "metadata": {},
     "output_type": "display_data"
    },
    {
     "name": "stdout",
     "output_type": "stream",
     "text": [
      "\n",
      "\n",
      "Chromosome: 10\n",
      "Number of corrs files: (49, 4)\n",
      "Number of MultiPLIER genes: (245, 3)\n",
      "Reading corrs per tissue\n"
     ]
    },
    {
     "data": {
      "text/plain": [
       "count    29890.000000\n",
       "mean        -0.000005\n",
       "std          0.017629\n",
       "min         -0.798728\n",
       "25%         -0.005992\n",
       "50%          0.000000\n",
       "75%          0.005860\n",
       "max          0.707145\n",
       "dtype: float64"
      ]
     },
     "metadata": {},
     "output_type": "display_data"
    },
    {
     "name": "stdout",
     "output_type": "stream",
     "text": [
      "\n",
      "\n",
      "Chromosome: 11\n",
      "Number of corrs files: (49, 4)\n",
      "Number of MultiPLIER genes: (387, 3)\n",
      "Reading corrs per tissue\n"
     ]
    },
    {
     "data": {
      "text/plain": [
       "count    74691.000000\n",
       "mean         0.000085\n",
       "std          0.019831\n",
       "min         -0.805329\n",
       "25%         -0.005683\n",
       "50%          0.000000\n",
       "75%          0.005740\n",
       "max          0.626080\n",
       "dtype: float64"
      ]
     },
     "metadata": {},
     "output_type": "display_data"
    },
    {
     "name": "stdout",
     "output_type": "stream",
     "text": [
      "\n",
      "\n",
      "Chromosome: 12\n",
      "Number of corrs files: (49, 4)\n",
      "Number of MultiPLIER genes: (389, 3)\n",
      "Reading corrs per tissue\n"
     ]
    },
    {
     "data": {
      "text/plain": [
       "count    75466.000000\n",
       "mean        -0.000073\n",
       "std          0.018400\n",
       "min         -0.881911\n",
       "25%         -0.005265\n",
       "50%          0.000000\n",
       "75%          0.005168\n",
       "max          0.723506\n",
       "dtype: float64"
      ]
     },
     "metadata": {},
     "output_type": "display_data"
    },
    {
     "name": "stdout",
     "output_type": "stream",
     "text": [
      "\n",
      "\n",
      "Chromosome: 13\n",
      "Number of corrs files: (49, 4)\n",
      "Number of MultiPLIER genes: (118, 3)\n",
      "Reading corrs per tissue\n"
     ]
    },
    {
     "data": {
      "text/plain": [
       "count    6903.000000\n",
       "mean       -0.000031\n",
       "std         0.021762\n",
       "min        -0.484959\n",
       "25%        -0.004572\n",
       "50%         0.000000\n",
       "75%         0.004676\n",
       "max         0.497591\n",
       "dtype: float64"
      ]
     },
     "metadata": {},
     "output_type": "display_data"
    },
    {
     "name": "stdout",
     "output_type": "stream",
     "text": [
      "\n",
      "\n",
      "Chromosome: 14\n",
      "Number of corrs files: (49, 4)\n",
      "Number of MultiPLIER genes: (211, 3)\n",
      "Reading corrs per tissue\n"
     ]
    },
    {
     "data": {
      "text/plain": [
       "count    22155.000000\n",
       "mean         0.000050\n",
       "std          0.018158\n",
       "min         -0.733258\n",
       "25%         -0.005152\n",
       "50%          0.000000\n",
       "75%          0.005261\n",
       "max          0.481465\n",
       "dtype: float64"
      ]
     },
     "metadata": {},
     "output_type": "display_data"
    },
    {
     "name": "stdout",
     "output_type": "stream",
     "text": [
      "\n",
      "\n",
      "Chromosome: 15\n",
      "Number of corrs files: (49, 4)\n",
      "Number of MultiPLIER genes: (187, 3)\n",
      "Reading corrs per tissue\n"
     ]
    },
    {
     "data": {
      "text/plain": [
       "count    17391.000000\n",
       "mean         0.000092\n",
       "std          0.023125\n",
       "min         -0.753693\n",
       "25%         -0.005577\n",
       "50%          0.000000\n",
       "75%          0.005513\n",
       "max          0.530052\n",
       "dtype: float64"
      ]
     },
     "metadata": {},
     "output_type": "display_data"
    },
    {
     "name": "stdout",
     "output_type": "stream",
     "text": [
      "\n",
      "\n",
      "Chromosome: 16\n",
      "Number of corrs files: (49, 4)\n",
      "Number of MultiPLIER genes: (274, 3)\n",
      "Reading corrs per tissue\n"
     ]
    },
    {
     "data": {
      "text/plain": [
       "count    37401.000000\n",
       "mean        -0.000028\n",
       "std          0.025896\n",
       "min         -0.750217\n",
       "25%         -0.005933\n",
       "50%          0.000000\n",
       "75%          0.005818\n",
       "max          0.710002\n",
       "dtype: float64"
      ]
     },
     "metadata": {},
     "output_type": "display_data"
    },
    {
     "name": "stdout",
     "output_type": "stream",
     "text": [
      "\n",
      "\n",
      "Chromosome: 17\n",
      "Number of corrs files: (49, 4)\n",
      "Number of MultiPLIER genes: (411, 3)\n",
      "Reading corrs per tissue\n"
     ]
    },
    {
     "data": {
      "text/plain": [
       "count    84255.000000\n",
       "mean         0.000021\n",
       "std          0.019209\n",
       "min         -0.666764\n",
       "25%         -0.005698\n",
       "50%          0.000000\n",
       "75%          0.005789\n",
       "max          0.616416\n",
       "dtype: float64"
      ]
     },
     "metadata": {},
     "output_type": "display_data"
    },
    {
     "name": "stdout",
     "output_type": "stream",
     "text": [
      "\n",
      "\n",
      "Chromosome: 18\n",
      "Number of corrs files: (49, 4)\n",
      "Number of MultiPLIER genes: (96, 3)\n",
      "Reading corrs per tissue\n"
     ]
    },
    {
     "data": {
      "text/plain": [
       "count    4560.000000\n",
       "mean       -0.000165\n",
       "std         0.014240\n",
       "min        -0.165306\n",
       "25%        -0.005642\n",
       "50%        -0.000173\n",
       "75%         0.005389\n",
       "max         0.297951\n",
       "dtype: float64"
      ]
     },
     "metadata": {},
     "output_type": "display_data"
    },
    {
     "name": "stdout",
     "output_type": "stream",
     "text": [
      "\n",
      "\n",
      "Chromosome: 19\n",
      "Number of corrs files: (49, 4)\n",
      "Number of MultiPLIER genes: (540, 3)\n",
      "Reading corrs per tissue\n"
     ]
    },
    {
     "data": {
      "text/plain": [
       "count    145530.000000\n",
       "mean          0.000057\n",
       "std           0.018714\n",
       "min          -0.646847\n",
       "25%          -0.006179\n",
       "50%           0.000000\n",
       "75%           0.006243\n",
       "max           0.806688\n",
       "dtype: float64"
      ]
     },
     "metadata": {},
     "output_type": "display_data"
    },
    {
     "name": "stdout",
     "output_type": "stream",
     "text": [
      "\n",
      "\n",
      "Chromosome: 20\n",
      "Number of corrs files: (49, 4)\n",
      "Number of MultiPLIER genes: (187, 3)\n",
      "Reading corrs per tissue\n"
     ]
    },
    {
     "data": {
      "text/plain": [
       "count    17391.000000\n",
       "mean        -0.000008\n",
       "std          0.021300\n",
       "min         -0.512276\n",
       "25%         -0.006265\n",
       "50%         -0.000054\n",
       "75%          0.005810\n",
       "max          0.581009\n",
       "dtype: float64"
      ]
     },
     "metadata": {},
     "output_type": "display_data"
    },
    {
     "name": "stdout",
     "output_type": "stream",
     "text": [
      "\n",
      "\n",
      "Chromosome: 21\n",
      "Number of corrs files: (49, 4)\n",
      "Number of MultiPLIER genes: (62, 3)\n",
      "Reading corrs per tissue\n"
     ]
    },
    {
     "data": {
      "text/plain": [
       "count    1891.000000\n",
       "mean        0.000785\n",
       "std         0.018951\n",
       "min        -0.330358\n",
       "25%        -0.005045\n",
       "50%         0.000378\n",
       "75%         0.006563\n",
       "max         0.172858\n",
       "dtype: float64"
      ]
     },
     "metadata": {},
     "output_type": "display_data"
    },
    {
     "name": "stdout",
     "output_type": "stream",
     "text": [
      "\n",
      "\n",
      "Chromosome: 22\n",
      "Number of corrs files: (49, 4)\n",
      "Number of MultiPLIER genes: (170, 3)\n",
      "Reading corrs per tissue\n"
     ]
    },
    {
     "data": {
      "text/plain": [
       "count    14365.000000\n",
       "mean        -0.000173\n",
       "std          0.024237\n",
       "min         -0.659690\n",
       "25%         -0.006331\n",
       "50%         -0.000084\n",
       "75%          0.006518\n",
       "max          0.719813\n",
       "dtype: float64"
      ]
     },
     "metadata": {},
     "output_type": "display_data"
    },
    {
     "name": "stdout",
     "output_type": "stream",
     "text": [
      "\n",
      "\n"
     ]
    }
   ],
   "source": [
    "corrs_per_chr = {}\n",
    "\n",
    "for chr_num in range(1, 23):\n",
    "    print(f\"Chromosome: {chr_num}\", flush=True)\n",
    "\n",
    "    chr_files = all_gene_corr_files_df[all_gene_corr_files_df[\"chromosome\"] == chr_num]\n",
    "    print(f\"Number of corrs files: {chr_files.shape}\")\n",
    "\n",
    "    multiplier_genes_in_chr = genes_info[genes_info[\"chr\"] == str(chr_num)]\n",
    "    print(f\"Number of MultiPLIER genes: {multiplier_genes_in_chr.shape}\")\n",
    "\n",
    "    # create final dataframe with corrs for this chr\n",
    "    chr_df = pd.DataFrame(\n",
    "        data=0.0,\n",
    "        index=multiplier_genes_in_chr[\"id\"],\n",
    "        columns=multiplier_genes_in_chr[\"id\"],\n",
    "    )\n",
    "\n",
    "    print(\"Reading corrs per tissue\", flush=True)\n",
    "    for idx, tissue_corrs in chr_files.iterrows():\n",
    "        tissue_corrs_df = pd.read_pickle(tissue_corrs[\"corr_file\"])\n",
    "\n",
    "        nan_values = tissue_corrs_df.isna()\n",
    "        if nan_values.any().any():\n",
    "            print(\n",
    "                f\"  WARNING ({tissue_corrs['tissue']}): has NaN values ({nan_values.sum().sum()})\"\n",
    "            )\n",
    "            tissue_corrs_df = tissue_corrs_df.fillna(0.0)\n",
    "\n",
    "        # align\n",
    "        tissue_corrs_df = tissue_corrs_df.loc[chr_df.index, chr_df.columns]\n",
    "\n",
    "        chr_df = chr_df + tissue_corrs_df\n",
    "    #         chr_df = chr_df.where(chr_df.abs() > tissue_corrs_df.abs(), tissue_corrs_df).fillna(chr_df)\n",
    "\n",
    "    chr_df = chr_df / float(chr_files.shape[0])\n",
    "    chr_df_flat = pd.Series(squareform(chr_df.values, checks=False))\n",
    "    display(chr_df_flat.describe())\n",
    "\n",
    "    corrs_per_chr[chr_num] = chr_df\n",
    "\n",
    "    print(\"\\n\")"
   ]
  },
  {
   "cell_type": "markdown",
   "id": "50ed3d87",
   "metadata": {
    "papermill": {
     "duration": 0.065043,
     "end_time": "2022-03-01T23:48:40.981106",
     "exception": false,
     "start_time": "2022-03-01T23:48:40.916063",
     "status": "completed"
    },
    "tags": []
   },
   "source": [
    "# Create full gene correlation matrix"
   ]
  },
  {
   "cell_type": "markdown",
   "id": "4b630295",
   "metadata": {
    "papermill": {
     "duration": 0.064686,
     "end_time": "2022-03-01T23:48:41.110774",
     "exception": false,
     "start_time": "2022-03-01T23:48:41.046088",
     "status": "completed"
    },
    "tags": []
   },
   "source": [
    "This matrix has all genes in MultiPLIER Z"
   ]
  },
  {
   "cell_type": "code",
   "execution_count": 34,
   "id": "211193f1",
   "metadata": {
    "execution": {
     "iopub.execute_input": "2022-03-01T23:48:41.242121Z",
     "iopub.status.busy": "2022-03-01T23:48:41.241902Z",
     "iopub.status.idle": "2022-03-01T23:48:41.292620Z",
     "shell.execute_reply": "2022-03-01T23:48:41.291906Z"
    },
    "papermill": {
     "duration": 0.118075,
     "end_time": "2022-03-01T23:48:41.294164",
     "exception": false,
     "start_time": "2022-03-01T23:48:41.176089",
     "status": "completed"
    },
    "tags": []
   },
   "outputs": [],
   "source": [
    "gene_corrs_df = pd.DataFrame(data=0.0, index=genes_info[\"id\"], columns=genes_info[\"id\"])"
   ]
  },
  {
   "cell_type": "code",
   "execution_count": 35,
   "id": "f6a3dad2",
   "metadata": {
    "execution": {
     "iopub.execute_input": "2022-03-01T23:48:41.425692Z",
     "iopub.status.busy": "2022-03-01T23:48:41.425474Z",
     "iopub.status.idle": "2022-03-01T23:48:41.439683Z",
     "shell.execute_reply": "2022-03-01T23:48:41.438970Z"
    },
    "papermill": {
     "duration": 0.081583,
     "end_time": "2022-03-01T23:48:41.441256",
     "exception": false,
     "start_time": "2022-03-01T23:48:41.359673",
     "status": "completed"
    },
    "tags": []
   },
   "outputs": [
    {
     "data": {
      "text/plain": [
       "(6452, 6452)"
      ]
     },
     "execution_count": 35,
     "metadata": {},
     "output_type": "execute_result"
    }
   ],
   "source": [
    "gene_corrs_df.shape"
   ]
  },
  {
   "cell_type": "code",
   "execution_count": 36,
   "id": "5d08c185",
   "metadata": {
    "execution": {
     "iopub.execute_input": "2022-03-01T23:48:41.578817Z",
     "iopub.status.busy": "2022-03-01T23:48:41.578323Z",
     "iopub.status.idle": "2022-03-01T23:48:41.608593Z",
     "shell.execute_reply": "2022-03-01T23:48:41.608073Z"
    },
    "papermill": {
     "duration": 0.099517,
     "end_time": "2022-03-01T23:48:41.610006",
     "exception": false,
     "start_time": "2022-03-01T23:48:41.510489",
     "status": "completed"
    },
    "tags": []
   },
   "outputs": [
    {
     "data": {
      "text/html": [
       "<div>\n",
       "<style scoped>\n",
       "    .dataframe tbody tr th:only-of-type {\n",
       "        vertical-align: middle;\n",
       "    }\n",
       "\n",
       "    .dataframe tbody tr th {\n",
       "        vertical-align: top;\n",
       "    }\n",
       "\n",
       "    .dataframe thead th {\n",
       "        text-align: right;\n",
       "    }\n",
       "</style>\n",
       "<table border=\"1\" class=\"dataframe\">\n",
       "  <thead>\n",
       "    <tr style=\"text-align: right;\">\n",
       "      <th>id</th>\n",
       "      <th>ENSG00000183087</th>\n",
       "      <th>ENSG00000157227</th>\n",
       "      <th>ENSG00000096696</th>\n",
       "      <th>ENSG00000175130</th>\n",
       "      <th>ENSG00000113140</th>\n",
       "      <th>ENSG00000117984</th>\n",
       "      <th>ENSG00000116016</th>\n",
       "      <th>ENSG00000129116</th>\n",
       "      <th>ENSG00000134686</th>\n",
       "      <th>ENSG00000108679</th>\n",
       "      <th>...</th>\n",
       "      <th>ENSG00000111716</th>\n",
       "      <th>ENSG00000166796</th>\n",
       "      <th>ENSG00000114331</th>\n",
       "      <th>ENSG00000131584</th>\n",
       "      <th>ENSG00000165410</th>\n",
       "      <th>ENSG00000172757</th>\n",
       "      <th>ENSG00000147862</th>\n",
       "      <th>ENSG00000008323</th>\n",
       "      <th>ENSG00000167083</th>\n",
       "      <th>ENSG00000149257</th>\n",
       "    </tr>\n",
       "    <tr>\n",
       "      <th>id</th>\n",
       "      <th></th>\n",
       "      <th></th>\n",
       "      <th></th>\n",
       "      <th></th>\n",
       "      <th></th>\n",
       "      <th></th>\n",
       "      <th></th>\n",
       "      <th></th>\n",
       "      <th></th>\n",
       "      <th></th>\n",
       "      <th></th>\n",
       "      <th></th>\n",
       "      <th></th>\n",
       "      <th></th>\n",
       "      <th></th>\n",
       "      <th></th>\n",
       "      <th></th>\n",
       "      <th></th>\n",
       "      <th></th>\n",
       "      <th></th>\n",
       "      <th></th>\n",
       "    </tr>\n",
       "  </thead>\n",
       "  <tbody>\n",
       "    <tr>\n",
       "      <th>ENSG00000183087</th>\n",
       "      <td>0.0</td>\n",
       "      <td>0.0</td>\n",
       "      <td>0.0</td>\n",
       "      <td>0.0</td>\n",
       "      <td>0.0</td>\n",
       "      <td>0.0</td>\n",
       "      <td>0.0</td>\n",
       "      <td>0.0</td>\n",
       "      <td>0.0</td>\n",
       "      <td>0.0</td>\n",
       "      <td>...</td>\n",
       "      <td>0.0</td>\n",
       "      <td>0.0</td>\n",
       "      <td>0.0</td>\n",
       "      <td>0.0</td>\n",
       "      <td>0.0</td>\n",
       "      <td>0.0</td>\n",
       "      <td>0.0</td>\n",
       "      <td>0.0</td>\n",
       "      <td>0.0</td>\n",
       "      <td>0.0</td>\n",
       "    </tr>\n",
       "    <tr>\n",
       "      <th>ENSG00000157227</th>\n",
       "      <td>0.0</td>\n",
       "      <td>0.0</td>\n",
       "      <td>0.0</td>\n",
       "      <td>0.0</td>\n",
       "      <td>0.0</td>\n",
       "      <td>0.0</td>\n",
       "      <td>0.0</td>\n",
       "      <td>0.0</td>\n",
       "      <td>0.0</td>\n",
       "      <td>0.0</td>\n",
       "      <td>...</td>\n",
       "      <td>0.0</td>\n",
       "      <td>0.0</td>\n",
       "      <td>0.0</td>\n",
       "      <td>0.0</td>\n",
       "      <td>0.0</td>\n",
       "      <td>0.0</td>\n",
       "      <td>0.0</td>\n",
       "      <td>0.0</td>\n",
       "      <td>0.0</td>\n",
       "      <td>0.0</td>\n",
       "    </tr>\n",
       "    <tr>\n",
       "      <th>ENSG00000096696</th>\n",
       "      <td>0.0</td>\n",
       "      <td>0.0</td>\n",
       "      <td>0.0</td>\n",
       "      <td>0.0</td>\n",
       "      <td>0.0</td>\n",
       "      <td>0.0</td>\n",
       "      <td>0.0</td>\n",
       "      <td>0.0</td>\n",
       "      <td>0.0</td>\n",
       "      <td>0.0</td>\n",
       "      <td>...</td>\n",
       "      <td>0.0</td>\n",
       "      <td>0.0</td>\n",
       "      <td>0.0</td>\n",
       "      <td>0.0</td>\n",
       "      <td>0.0</td>\n",
       "      <td>0.0</td>\n",
       "      <td>0.0</td>\n",
       "      <td>0.0</td>\n",
       "      <td>0.0</td>\n",
       "      <td>0.0</td>\n",
       "    </tr>\n",
       "    <tr>\n",
       "      <th>ENSG00000175130</th>\n",
       "      <td>0.0</td>\n",
       "      <td>0.0</td>\n",
       "      <td>0.0</td>\n",
       "      <td>0.0</td>\n",
       "      <td>0.0</td>\n",
       "      <td>0.0</td>\n",
       "      <td>0.0</td>\n",
       "      <td>0.0</td>\n",
       "      <td>0.0</td>\n",
       "      <td>0.0</td>\n",
       "      <td>...</td>\n",
       "      <td>0.0</td>\n",
       "      <td>0.0</td>\n",
       "      <td>0.0</td>\n",
       "      <td>0.0</td>\n",
       "      <td>0.0</td>\n",
       "      <td>0.0</td>\n",
       "      <td>0.0</td>\n",
       "      <td>0.0</td>\n",
       "      <td>0.0</td>\n",
       "      <td>0.0</td>\n",
       "    </tr>\n",
       "    <tr>\n",
       "      <th>ENSG00000113140</th>\n",
       "      <td>0.0</td>\n",
       "      <td>0.0</td>\n",
       "      <td>0.0</td>\n",
       "      <td>0.0</td>\n",
       "      <td>0.0</td>\n",
       "      <td>0.0</td>\n",
       "      <td>0.0</td>\n",
       "      <td>0.0</td>\n",
       "      <td>0.0</td>\n",
       "      <td>0.0</td>\n",
       "      <td>...</td>\n",
       "      <td>0.0</td>\n",
       "      <td>0.0</td>\n",
       "      <td>0.0</td>\n",
       "      <td>0.0</td>\n",
       "      <td>0.0</td>\n",
       "      <td>0.0</td>\n",
       "      <td>0.0</td>\n",
       "      <td>0.0</td>\n",
       "      <td>0.0</td>\n",
       "      <td>0.0</td>\n",
       "    </tr>\n",
       "  </tbody>\n",
       "</table>\n",
       "<p>5 rows × 6452 columns</p>\n",
       "</div>"
      ],
      "text/plain": [
       "id               ENSG00000183087  ENSG00000157227  ENSG00000096696  \\\n",
       "id                                                                   \n",
       "ENSG00000183087              0.0              0.0              0.0   \n",
       "ENSG00000157227              0.0              0.0              0.0   \n",
       "ENSG00000096696              0.0              0.0              0.0   \n",
       "ENSG00000175130              0.0              0.0              0.0   \n",
       "ENSG00000113140              0.0              0.0              0.0   \n",
       "\n",
       "id               ENSG00000175130  ENSG00000113140  ENSG00000117984  \\\n",
       "id                                                                   \n",
       "ENSG00000183087              0.0              0.0              0.0   \n",
       "ENSG00000157227              0.0              0.0              0.0   \n",
       "ENSG00000096696              0.0              0.0              0.0   \n",
       "ENSG00000175130              0.0              0.0              0.0   \n",
       "ENSG00000113140              0.0              0.0              0.0   \n",
       "\n",
       "id               ENSG00000116016  ENSG00000129116  ENSG00000134686  \\\n",
       "id                                                                   \n",
       "ENSG00000183087              0.0              0.0              0.0   \n",
       "ENSG00000157227              0.0              0.0              0.0   \n",
       "ENSG00000096696              0.0              0.0              0.0   \n",
       "ENSG00000175130              0.0              0.0              0.0   \n",
       "ENSG00000113140              0.0              0.0              0.0   \n",
       "\n",
       "id               ENSG00000108679  ...  ENSG00000111716  ENSG00000166796  \\\n",
       "id                                ...                                     \n",
       "ENSG00000183087              0.0  ...              0.0              0.0   \n",
       "ENSG00000157227              0.0  ...              0.0              0.0   \n",
       "ENSG00000096696              0.0  ...              0.0              0.0   \n",
       "ENSG00000175130              0.0  ...              0.0              0.0   \n",
       "ENSG00000113140              0.0  ...              0.0              0.0   \n",
       "\n",
       "id               ENSG00000114331  ENSG00000131584  ENSG00000165410  \\\n",
       "id                                                                   \n",
       "ENSG00000183087              0.0              0.0              0.0   \n",
       "ENSG00000157227              0.0              0.0              0.0   \n",
       "ENSG00000096696              0.0              0.0              0.0   \n",
       "ENSG00000175130              0.0              0.0              0.0   \n",
       "ENSG00000113140              0.0              0.0              0.0   \n",
       "\n",
       "id               ENSG00000172757  ENSG00000147862  ENSG00000008323  \\\n",
       "id                                                                   \n",
       "ENSG00000183087              0.0              0.0              0.0   \n",
       "ENSG00000157227              0.0              0.0              0.0   \n",
       "ENSG00000096696              0.0              0.0              0.0   \n",
       "ENSG00000175130              0.0              0.0              0.0   \n",
       "ENSG00000113140              0.0              0.0              0.0   \n",
       "\n",
       "id               ENSG00000167083  ENSG00000149257  \n",
       "id                                                 \n",
       "ENSG00000183087              0.0              0.0  \n",
       "ENSG00000157227              0.0              0.0  \n",
       "ENSG00000096696              0.0              0.0  \n",
       "ENSG00000175130              0.0              0.0  \n",
       "ENSG00000113140              0.0              0.0  \n",
       "\n",
       "[5 rows x 6452 columns]"
      ]
     },
     "execution_count": 36,
     "metadata": {},
     "output_type": "execute_result"
    }
   ],
   "source": [
    "gene_corrs_df.head()"
   ]
  },
  {
   "cell_type": "code",
   "execution_count": 37,
   "id": "2203a7a7",
   "metadata": {
    "execution": {
     "iopub.execute_input": "2022-03-01T23:48:41.746259Z",
     "iopub.status.busy": "2022-03-01T23:48:41.745662Z",
     "iopub.status.idle": "2022-03-01T23:48:50.123862Z",
     "shell.execute_reply": "2022-03-01T23:48:50.123238Z"
    },
    "papermill": {
     "duration": 8.448553,
     "end_time": "2022-03-01T23:48:50.125868",
     "exception": false,
     "start_time": "2022-03-01T23:48:41.677315",
     "status": "completed"
    },
    "tags": []
   },
   "outputs": [],
   "source": [
    "for chr_num, chr_data in corrs_per_chr.items():\n",
    "    chr_data = chr_data.reindex(\n",
    "        index=gene_corrs_df.index, columns=gene_corrs_df.columns\n",
    "    )\n",
    "    gene_corrs_df = gene_corrs_df + chr_data.fillna(0.0)"
   ]
  },
  {
   "cell_type": "code",
   "execution_count": 38,
   "id": "49c42ebe",
   "metadata": {
    "execution": {
     "iopub.execute_input": "2022-03-01T23:48:50.266420Z",
     "iopub.status.busy": "2022-03-01T23:48:50.266200Z",
     "iopub.status.idle": "2022-03-01T23:48:50.316862Z",
     "shell.execute_reply": "2022-03-01T23:48:50.316230Z"
    },
    "papermill": {
     "duration": 0.119899,
     "end_time": "2022-03-01T23:48:50.318494",
     "exception": false,
     "start_time": "2022-03-01T23:48:50.198595",
     "status": "completed"
    },
    "tags": []
   },
   "outputs": [],
   "source": [
    "gene_corrs_df = gene_corrs_df.astype(np.float32)"
   ]
  },
  {
   "cell_type": "code",
   "execution_count": 39,
   "id": "0639e08b",
   "metadata": {
    "execution": {
     "iopub.execute_input": "2022-03-01T23:48:50.454926Z",
     "iopub.status.busy": "2022-03-01T23:48:50.454707Z",
     "iopub.status.idle": "2022-03-01T23:48:50.483324Z",
     "shell.execute_reply": "2022-03-01T23:48:50.482511Z"
    },
    "papermill": {
     "duration": 0.097056,
     "end_time": "2022-03-01T23:48:50.484776",
     "exception": false,
     "start_time": "2022-03-01T23:48:50.387720",
     "status": "completed"
    },
    "tags": []
   },
   "outputs": [
    {
     "data": {
      "text/html": [
       "<div>\n",
       "<style scoped>\n",
       "    .dataframe tbody tr th:only-of-type {\n",
       "        vertical-align: middle;\n",
       "    }\n",
       "\n",
       "    .dataframe tbody tr th {\n",
       "        vertical-align: top;\n",
       "    }\n",
       "\n",
       "    .dataframe thead th {\n",
       "        text-align: right;\n",
       "    }\n",
       "</style>\n",
       "<table border=\"1\" class=\"dataframe\">\n",
       "  <thead>\n",
       "    <tr style=\"text-align: right;\">\n",
       "      <th>id</th>\n",
       "      <th>ENSG00000183087</th>\n",
       "      <th>ENSG00000157227</th>\n",
       "      <th>ENSG00000096696</th>\n",
       "      <th>ENSG00000175130</th>\n",
       "      <th>ENSG00000113140</th>\n",
       "      <th>ENSG00000117984</th>\n",
       "      <th>ENSG00000116016</th>\n",
       "      <th>ENSG00000129116</th>\n",
       "      <th>ENSG00000134686</th>\n",
       "      <th>ENSG00000108679</th>\n",
       "      <th>...</th>\n",
       "      <th>ENSG00000111716</th>\n",
       "      <th>ENSG00000166796</th>\n",
       "      <th>ENSG00000114331</th>\n",
       "      <th>ENSG00000131584</th>\n",
       "      <th>ENSG00000165410</th>\n",
       "      <th>ENSG00000172757</th>\n",
       "      <th>ENSG00000147862</th>\n",
       "      <th>ENSG00000008323</th>\n",
       "      <th>ENSG00000167083</th>\n",
       "      <th>ENSG00000149257</th>\n",
       "    </tr>\n",
       "    <tr>\n",
       "      <th>id</th>\n",
       "      <th></th>\n",
       "      <th></th>\n",
       "      <th></th>\n",
       "      <th></th>\n",
       "      <th></th>\n",
       "      <th></th>\n",
       "      <th></th>\n",
       "      <th></th>\n",
       "      <th></th>\n",
       "      <th></th>\n",
       "      <th></th>\n",
       "      <th></th>\n",
       "      <th></th>\n",
       "      <th></th>\n",
       "      <th></th>\n",
       "      <th></th>\n",
       "      <th></th>\n",
       "      <th></th>\n",
       "      <th></th>\n",
       "      <th></th>\n",
       "      <th></th>\n",
       "    </tr>\n",
       "  </thead>\n",
       "  <tbody>\n",
       "    <tr>\n",
       "      <th>ENSG00000183087</th>\n",
       "      <td>1.0</td>\n",
       "      <td>0.0</td>\n",
       "      <td>0.0</td>\n",
       "      <td>0.0</td>\n",
       "      <td>0.0</td>\n",
       "      <td>0.0</td>\n",
       "      <td>0.0</td>\n",
       "      <td>0.0</td>\n",
       "      <td>0.000000</td>\n",
       "      <td>0.0</td>\n",
       "      <td>...</td>\n",
       "      <td>0.0</td>\n",
       "      <td>0.0</td>\n",
       "      <td>0.0</td>\n",
       "      <td>0.000000</td>\n",
       "      <td>0.000000</td>\n",
       "      <td>0.0</td>\n",
       "      <td>0.0</td>\n",
       "      <td>0.0</td>\n",
       "      <td>0.0</td>\n",
       "      <td>0.0</td>\n",
       "    </tr>\n",
       "    <tr>\n",
       "      <th>ENSG00000157227</th>\n",
       "      <td>0.0</td>\n",
       "      <td>1.0</td>\n",
       "      <td>0.0</td>\n",
       "      <td>0.0</td>\n",
       "      <td>0.0</td>\n",
       "      <td>0.0</td>\n",
       "      <td>0.0</td>\n",
       "      <td>0.0</td>\n",
       "      <td>0.000000</td>\n",
       "      <td>0.0</td>\n",
       "      <td>...</td>\n",
       "      <td>0.0</td>\n",
       "      <td>0.0</td>\n",
       "      <td>0.0</td>\n",
       "      <td>0.000000</td>\n",
       "      <td>-0.000683</td>\n",
       "      <td>0.0</td>\n",
       "      <td>0.0</td>\n",
       "      <td>0.0</td>\n",
       "      <td>0.0</td>\n",
       "      <td>0.0</td>\n",
       "    </tr>\n",
       "    <tr>\n",
       "      <th>ENSG00000096696</th>\n",
       "      <td>0.0</td>\n",
       "      <td>0.0</td>\n",
       "      <td>1.0</td>\n",
       "      <td>0.0</td>\n",
       "      <td>0.0</td>\n",
       "      <td>0.0</td>\n",
       "      <td>0.0</td>\n",
       "      <td>0.0</td>\n",
       "      <td>0.000000</td>\n",
       "      <td>0.0</td>\n",
       "      <td>...</td>\n",
       "      <td>0.0</td>\n",
       "      <td>0.0</td>\n",
       "      <td>0.0</td>\n",
       "      <td>0.000000</td>\n",
       "      <td>0.000000</td>\n",
       "      <td>0.0</td>\n",
       "      <td>0.0</td>\n",
       "      <td>0.0</td>\n",
       "      <td>0.0</td>\n",
       "      <td>0.0</td>\n",
       "    </tr>\n",
       "    <tr>\n",
       "      <th>ENSG00000175130</th>\n",
       "      <td>0.0</td>\n",
       "      <td>0.0</td>\n",
       "      <td>0.0</td>\n",
       "      <td>1.0</td>\n",
       "      <td>0.0</td>\n",
       "      <td>0.0</td>\n",
       "      <td>0.0</td>\n",
       "      <td>0.0</td>\n",
       "      <td>-0.001079</td>\n",
       "      <td>0.0</td>\n",
       "      <td>...</td>\n",
       "      <td>0.0</td>\n",
       "      <td>0.0</td>\n",
       "      <td>0.0</td>\n",
       "      <td>-0.000171</td>\n",
       "      <td>0.000000</td>\n",
       "      <td>0.0</td>\n",
       "      <td>0.0</td>\n",
       "      <td>0.0</td>\n",
       "      <td>0.0</td>\n",
       "      <td>0.0</td>\n",
       "    </tr>\n",
       "    <tr>\n",
       "      <th>ENSG00000113140</th>\n",
       "      <td>0.0</td>\n",
       "      <td>0.0</td>\n",
       "      <td>0.0</td>\n",
       "      <td>0.0</td>\n",
       "      <td>1.0</td>\n",
       "      <td>0.0</td>\n",
       "      <td>0.0</td>\n",
       "      <td>0.0</td>\n",
       "      <td>0.000000</td>\n",
       "      <td>0.0</td>\n",
       "      <td>...</td>\n",
       "      <td>0.0</td>\n",
       "      <td>0.0</td>\n",
       "      <td>0.0</td>\n",
       "      <td>0.000000</td>\n",
       "      <td>0.000000</td>\n",
       "      <td>0.0</td>\n",
       "      <td>0.0</td>\n",
       "      <td>0.0</td>\n",
       "      <td>0.0</td>\n",
       "      <td>0.0</td>\n",
       "    </tr>\n",
       "  </tbody>\n",
       "</table>\n",
       "<p>5 rows × 6452 columns</p>\n",
       "</div>"
      ],
      "text/plain": [
       "id               ENSG00000183087  ENSG00000157227  ENSG00000096696  \\\n",
       "id                                                                   \n",
       "ENSG00000183087              1.0              0.0              0.0   \n",
       "ENSG00000157227              0.0              1.0              0.0   \n",
       "ENSG00000096696              0.0              0.0              1.0   \n",
       "ENSG00000175130              0.0              0.0              0.0   \n",
       "ENSG00000113140              0.0              0.0              0.0   \n",
       "\n",
       "id               ENSG00000175130  ENSG00000113140  ENSG00000117984  \\\n",
       "id                                                                   \n",
       "ENSG00000183087              0.0              0.0              0.0   \n",
       "ENSG00000157227              0.0              0.0              0.0   \n",
       "ENSG00000096696              0.0              0.0              0.0   \n",
       "ENSG00000175130              1.0              0.0              0.0   \n",
       "ENSG00000113140              0.0              1.0              0.0   \n",
       "\n",
       "id               ENSG00000116016  ENSG00000129116  ENSG00000134686  \\\n",
       "id                                                                   \n",
       "ENSG00000183087              0.0              0.0         0.000000   \n",
       "ENSG00000157227              0.0              0.0         0.000000   \n",
       "ENSG00000096696              0.0              0.0         0.000000   \n",
       "ENSG00000175130              0.0              0.0        -0.001079   \n",
       "ENSG00000113140              0.0              0.0         0.000000   \n",
       "\n",
       "id               ENSG00000108679  ...  ENSG00000111716  ENSG00000166796  \\\n",
       "id                                ...                                     \n",
       "ENSG00000183087              0.0  ...              0.0              0.0   \n",
       "ENSG00000157227              0.0  ...              0.0              0.0   \n",
       "ENSG00000096696              0.0  ...              0.0              0.0   \n",
       "ENSG00000175130              0.0  ...              0.0              0.0   \n",
       "ENSG00000113140              0.0  ...              0.0              0.0   \n",
       "\n",
       "id               ENSG00000114331  ENSG00000131584  ENSG00000165410  \\\n",
       "id                                                                   \n",
       "ENSG00000183087              0.0         0.000000         0.000000   \n",
       "ENSG00000157227              0.0         0.000000        -0.000683   \n",
       "ENSG00000096696              0.0         0.000000         0.000000   \n",
       "ENSG00000175130              0.0        -0.000171         0.000000   \n",
       "ENSG00000113140              0.0         0.000000         0.000000   \n",
       "\n",
       "id               ENSG00000172757  ENSG00000147862  ENSG00000008323  \\\n",
       "id                                                                   \n",
       "ENSG00000183087              0.0              0.0              0.0   \n",
       "ENSG00000157227              0.0              0.0              0.0   \n",
       "ENSG00000096696              0.0              0.0              0.0   \n",
       "ENSG00000175130              0.0              0.0              0.0   \n",
       "ENSG00000113140              0.0              0.0              0.0   \n",
       "\n",
       "id               ENSG00000167083  ENSG00000149257  \n",
       "id                                                 \n",
       "ENSG00000183087              0.0              0.0  \n",
       "ENSG00000157227              0.0              0.0  \n",
       "ENSG00000096696              0.0              0.0  \n",
       "ENSG00000175130              0.0              0.0  \n",
       "ENSG00000113140              0.0              0.0  \n",
       "\n",
       "[5 rows x 6452 columns]"
      ]
     },
     "execution_count": 39,
     "metadata": {},
     "output_type": "execute_result"
    }
   ],
   "source": [
    "gene_corrs_df.head()"
   ]
  },
  {
   "cell_type": "code",
   "execution_count": 40,
   "id": "7e23ddbd",
   "metadata": {
    "execution": {
     "iopub.execute_input": "2022-03-01T23:48:50.623374Z",
     "iopub.status.busy": "2022-03-01T23:48:50.623155Z",
     "iopub.status.idle": "2022-03-01T23:48:50.636259Z",
     "shell.execute_reply": "2022-03-01T23:48:50.635673Z"
    },
    "papermill": {
     "duration": 0.082557,
     "end_time": "2022-03-01T23:48:50.637814",
     "exception": false,
     "start_time": "2022-03-01T23:48:50.555257",
     "status": "completed"
    },
    "tags": []
   },
   "outputs": [],
   "source": [
    "assert np.all(gene_corrs_df.values.diagonal() == 1.0)"
   ]
  },
  {
   "cell_type": "markdown",
   "id": "b55067e8",
   "metadata": {
    "papermill": {
     "duration": 0.06772,
     "end_time": "2022-03-01T23:48:50.774370",
     "exception": false,
     "start_time": "2022-03-01T23:48:50.706650",
     "status": "completed"
    },
    "tags": []
   },
   "source": [
    "## Stats"
   ]
  },
  {
   "cell_type": "code",
   "execution_count": 41,
   "id": "5588b68a",
   "metadata": {
    "execution": {
     "iopub.execute_input": "2022-03-01T23:48:50.909923Z",
     "iopub.status.busy": "2022-03-01T23:48:50.909086Z",
     "iopub.status.idle": "2022-03-01T23:48:51.056238Z",
     "shell.execute_reply": "2022-03-01T23:48:51.055590Z"
    },
    "papermill": {
     "duration": 0.216496,
     "end_time": "2022-03-01T23:48:51.057880",
     "exception": false,
     "start_time": "2022-03-01T23:48:50.841384",
     "status": "completed"
    },
    "tags": []
   },
   "outputs": [],
   "source": [
    "_gene_corrs_flat = squareform(gene_corrs_df.values, checks=False)"
   ]
  },
  {
   "cell_type": "code",
   "execution_count": 42,
   "id": "f401dad8",
   "metadata": {
    "execution": {
     "iopub.execute_input": "2022-03-01T23:48:51.196237Z",
     "iopub.status.busy": "2022-03-01T23:48:51.196044Z",
     "iopub.status.idle": "2022-03-01T23:48:51.692266Z",
     "shell.execute_reply": "2022-03-01T23:48:51.691751Z"
    },
    "papermill": {
     "duration": 0.56588,
     "end_time": "2022-03-01T23:48:51.693645",
     "exception": false,
     "start_time": "2022-03-01T23:48:51.127765",
     "status": "completed"
    },
    "tags": []
   },
   "outputs": [
    {
     "data": {
      "text/plain": [
       "count    2.081093e+07\n",
       "mean     1.812489e-06\n",
       "std      4.384554e-03\n",
       "min     -9.262075e-01\n",
       "25%      0.000000e+00\n",
       "50%      0.000000e+00\n",
       "75%      0.000000e+00\n",
       "max      8.929958e-01\n",
       "dtype: float64"
      ]
     },
     "execution_count": 42,
     "metadata": {},
     "output_type": "execute_result"
    }
   ],
   "source": [
    "pd.Series(_gene_corrs_flat).describe()"
   ]
  },
  {
   "cell_type": "markdown",
   "id": "6ea8e6de",
   "metadata": {
    "papermill": {
     "duration": 0.068044,
     "end_time": "2022-03-01T23:48:51.830463",
     "exception": false,
     "start_time": "2022-03-01T23:48:51.762419",
     "status": "completed"
    },
    "tags": []
   },
   "source": [
    "# Plot"
   ]
  },
  {
   "cell_type": "code",
   "execution_count": 43,
   "id": "a78cc4a3",
   "metadata": {
    "execution": {
     "iopub.execute_input": "2022-03-01T23:48:51.967654Z",
     "iopub.status.busy": "2022-03-01T23:48:51.967434Z",
     "iopub.status.idle": "2022-03-01T23:48:52.216895Z",
     "shell.execute_reply": "2022-03-01T23:48:52.216362Z"
    },
    "papermill": {
     "duration": 0.319724,
     "end_time": "2022-03-01T23:48:52.218461",
     "exception": false,
     "start_time": "2022-03-01T23:48:51.898737",
     "status": "completed"
    },
    "tags": []
   },
   "outputs": [],
   "source": [
    "import matplotlib.pyplot as plt\n",
    "from matplotlib.colors import ListedColormap"
   ]
  },
  {
   "cell_type": "code",
   "execution_count": 44,
   "id": "2dfbaa8f",
   "metadata": {
    "execution": {
     "iopub.execute_input": "2022-03-01T23:48:52.356165Z",
     "iopub.status.busy": "2022-03-01T23:48:52.355431Z",
     "iopub.status.idle": "2022-03-01T23:48:52.372590Z",
     "shell.execute_reply": "2022-03-01T23:48:52.371994Z"
    },
    "papermill": {
     "duration": 0.087516,
     "end_time": "2022-03-01T23:48:52.374178",
     "exception": false,
     "start_time": "2022-03-01T23:48:52.286662",
     "status": "completed"
    },
    "tags": []
   },
   "outputs": [],
   "source": [
    "genes_order = genes_info.sort_values(\"chr\")[\"id\"].tolist()"
   ]
  },
  {
   "cell_type": "code",
   "execution_count": 45,
   "id": "1809fc22",
   "metadata": {
    "execution": {
     "iopub.execute_input": "2022-03-01T23:48:52.511839Z",
     "iopub.status.busy": "2022-03-01T23:48:52.511621Z",
     "iopub.status.idle": "2022-03-01T23:48:52.526394Z",
     "shell.execute_reply": "2022-03-01T23:48:52.525728Z"
    },
    "papermill": {
     "duration": 0.085582,
     "end_time": "2022-03-01T23:48:52.527889",
     "exception": false,
     "start_time": "2022-03-01T23:48:52.442307",
     "status": "completed"
    },
    "tags": []
   },
   "outputs": [],
   "source": [
    "cmap = ListedColormap([\"w\", \"r\"])"
   ]
  },
  {
   "cell_type": "code",
   "execution_count": 46,
   "id": "e02151cf",
   "metadata": {
    "execution": {
     "iopub.execute_input": "2022-03-01T23:48:52.669981Z",
     "iopub.status.busy": "2022-03-01T23:48:52.669762Z",
     "iopub.status.idle": "2022-03-01T23:48:53.635714Z",
     "shell.execute_reply": "2022-03-01T23:48:53.635178Z"
    },
    "papermill": {
     "duration": 1.036577,
     "end_time": "2022-03-01T23:48:53.637390",
     "exception": false,
     "start_time": "2022-03-01T23:48:52.600813",
     "status": "completed"
    },
    "tags": []
   },
   "outputs": [
    {
     "data": {
      "text/plain": [
       "[]"
      ]
     },
     "execution_count": 46,
     "metadata": {},
     "output_type": "execute_result"
    },
    {
     "data": {
      "image/png": "[encoded data removed]",
      "text/plain": [
       "<Figure size 720x720 with 1 Axes>"
      ]
     },
     "metadata": {},
     "output_type": "display_data"
    }
   ],
   "source": [
    "fig, ax = plt.subplots(figsize=(10, 10))\n",
    "ax.matshow(\n",
    "    gene_corrs_df.loc[genes_order, genes_order].values, vmin=-0.05, vmax=0.05, cmap=cmap\n",
    ")\n",
    "ax.set_xlabel(\"Genes\")\n",
    "ax.set_ylabel(\"Genes\")\n",
    "ax.set_xticks([])\n",
    "ax.set_yticks([])"
   ]
  },
  {
   "cell_type": "markdown",
   "id": "e04ec98e",
   "metadata": {
    "papermill": {
     "duration": 0.069645,
     "end_time": "2022-03-01T23:48:53.776044",
     "exception": false,
     "start_time": "2022-03-01T23:48:53.706399",
     "status": "completed"
    },
    "tags": []
   },
   "source": [
    "# Testing"
   ]
  },
  {
   "cell_type": "code",
   "execution_count": 47,
   "id": "338cb68c",
   "metadata": {
    "execution": {
     "iopub.execute_input": "2022-03-01T23:48:53.916200Z",
     "iopub.status.busy": "2022-03-01T23:48:53.915989Z",
     "iopub.status.idle": "2022-03-01T23:48:53.931927Z",
     "shell.execute_reply": "2022-03-01T23:48:53.931348Z"
    },
    "papermill": {
     "duration": 0.08747,
     "end_time": "2022-03-01T23:48:53.933291",
     "exception": false,
     "start_time": "2022-03-01T23:48:53.845821",
     "status": "completed"
    },
    "tags": []
   },
   "outputs": [
    {
     "data": {
      "text/plain": [
       "0.20144834"
      ]
     },
     "execution_count": 47,
     "metadata": {},
     "output_type": "execute_result"
    }
   ],
   "source": [
    "# COL4A1 and COL4A2\n",
    "gene1 = \"ENSG00000187498\"\n",
    "gene2 = \"ENSG00000134871\"\n",
    "\n",
    "gene_corrs_df.loc[gene1, gene2]"
   ]
  },
  {
   "cell_type": "code",
   "execution_count": 48,
   "id": "48efaae1",
   "metadata": {
    "execution": {
     "iopub.execute_input": "2022-03-01T23:48:54.074055Z",
     "iopub.status.busy": "2022-03-01T23:48:54.073464Z",
     "iopub.status.idle": "2022-03-01T23:48:54.088293Z",
     "shell.execute_reply": "2022-03-01T23:48:54.087666Z"
    },
    "papermill": {
     "duration": 0.086388,
     "end_time": "2022-03-01T23:48:54.089877",
     "exception": false,
     "start_time": "2022-03-01T23:48:54.003489",
     "status": "completed"
    },
    "tags": []
   },
   "outputs": [],
   "source": [
    "_genes_files = all_gene_corr_files_df[all_gene_corr_files_df[\"chromosome\"] == 13][\n",
    "    \"corr_file\"\n",
    "].tolist()\n",
    "assert len(_genes_files) == 49"
   ]
  },
  {
   "cell_type": "code",
   "execution_count": 49,
   "id": "667932c2",
   "metadata": {
    "execution": {
     "iopub.execute_input": "2022-03-01T23:48:54.230372Z",
     "iopub.status.busy": "2022-03-01T23:48:54.230155Z",
     "iopub.status.idle": "2022-03-01T23:48:54.276293Z",
     "shell.execute_reply": "2022-03-01T23:48:54.275685Z"
    },
    "papermill": {
     "duration": 0.11824,
     "end_time": "2022-03-01T23:48:54.277914",
     "exception": false,
     "start_time": "2022-03-01T23:48:54.159674",
     "status": "completed"
    },
    "tags": []
   },
   "outputs": [],
   "source": [
    "_gene_values = []\n",
    "for f in _genes_files:\n",
    "    gene1_gene2_corr = pd.read_pickle(f).loc[gene1, gene2]\n",
    "    _gene_values.append(gene1_gene2_corr)"
   ]
  },
  {
   "cell_type": "code",
   "execution_count": 50,
   "id": "e4873fe9",
   "metadata": {
    "execution": {
     "iopub.execute_input": "2022-03-01T23:48:54.418446Z",
     "iopub.status.busy": "2022-03-01T23:48:54.418217Z",
     "iopub.status.idle": "2022-03-01T23:48:54.433046Z",
     "shell.execute_reply": "2022-03-01T23:48:54.432347Z"
    },
    "papermill": {
     "duration": 0.086669,
     "end_time": "2022-03-01T23:48:54.434535",
     "exception": false,
     "start_time": "2022-03-01T23:48:54.347866",
     "status": "completed"
    },
    "tags": []
   },
   "outputs": [],
   "source": [
    "_gene_values = np.array(_gene_values)\n",
    "assert _gene_values.shape[0] == 49"
   ]
  },
  {
   "cell_type": "code",
   "execution_count": 51,
   "id": "47a7b62b",
   "metadata": {
    "execution": {
     "iopub.execute_input": "2022-03-01T23:48:54.579047Z",
     "iopub.status.busy": "2022-03-01T23:48:54.578817Z",
     "iopub.status.idle": "2022-03-01T23:48:54.594534Z",
     "shell.execute_reply": "2022-03-01T23:48:54.593870Z"
    },
    "papermill": {
     "duration": 0.090626,
     "end_time": "2022-03-01T23:48:54.595869",
     "exception": false,
     "start_time": "2022-03-01T23:48:54.505243",
     "status": "completed"
    },
    "tags": []
   },
   "outputs": [
    {
     "data": {
      "text/plain": [
       "0.20144832"
      ]
     },
     "metadata": {},
     "output_type": "display_data"
    }
   ],
   "source": [
    "display(_gene_values.mean())\n",
    "assert gene_corrs_df.loc[gene1, gene2].round(5) == _gene_values.mean().round(\n",
    "    5\n",
    "), gene_corrs_df.loc[gene1, gene2]"
   ]
  },
  {
   "cell_type": "markdown",
   "id": "7e903104",
   "metadata": {
    "papermill": {
     "duration": 0.070645,
     "end_time": "2022-03-01T23:48:54.738602",
     "exception": false,
     "start_time": "2022-03-01T23:48:54.667957",
     "status": "completed"
    },
    "tags": []
   },
   "source": [
    "# Save"
   ]
  },
  {
   "cell_type": "markdown",
   "id": "e9bef4e8",
   "metadata": {
    "papermill": {
     "duration": 0.070299,
     "end_time": "2022-03-01T23:48:54.880163",
     "exception": false,
     "start_time": "2022-03-01T23:48:54.809864",
     "status": "completed"
    },
    "tags": []
   },
   "source": [
    "## With ensemble ids"
   ]
  },
  {
   "cell_type": "code",
   "execution_count": 52,
   "id": "136f9ee0",
   "metadata": {
    "execution": {
     "iopub.execute_input": "2022-03-01T23:48:55.022584Z",
     "iopub.status.busy": "2022-03-01T23:48:55.022058Z",
     "iopub.status.idle": "2022-03-01T23:48:55.037135Z",
     "shell.execute_reply": "2022-03-01T23:48:55.036349Z"
    },
    "papermill": {
     "duration": 0.087784,
     "end_time": "2022-03-01T23:48:55.038548",
     "exception": false,
     "start_time": "2022-03-01T23:48:54.950764",
     "status": "completed"
    },
    "tags": []
   },
   "outputs": [
    {
     "data": {
      "text/plain": [
       "PosixPath('/opt/data/data/phenomexcan/ld_blocks/mashr_multiplier_genes-pred_expression_corr_avg.pkl')"
      ]
     },
     "metadata": {},
     "output_type": "display_data"
    }
   ],
   "source": [
    "output_file = conf.PHENOMEXCAN[\"LD_BLOCKS\"][EQTL_MODEL][\"GENE_IDS_CORR_AVG\"]\n",
    "display(output_file)"
   ]
  },
  {
   "cell_type": "code",
   "execution_count": 53,
   "id": "2a09bb4d",
   "metadata": {
    "execution": {
     "iopub.execute_input": "2022-03-01T23:48:55.181694Z",
     "iopub.status.busy": "2022-03-01T23:48:55.181128Z",
     "iopub.status.idle": "2022-03-01T23:48:55.366076Z",
     "shell.execute_reply": "2022-03-01T23:48:55.365538Z"
    },
    "papermill": {
     "duration": 0.2578,
     "end_time": "2022-03-01T23:48:55.367783",
     "exception": false,
     "start_time": "2022-03-01T23:48:55.109983",
     "status": "completed"
    },
    "tags": []
   },
   "outputs": [],
   "source": [
    "gene_corrs_df.to_pickle(output_file)"
   ]
  },
  {
   "cell_type": "markdown",
   "id": "26ec92a4",
   "metadata": {
    "papermill": {
     "duration": 0.070206,
     "end_time": "2022-03-01T23:48:55.513884",
     "exception": false,
     "start_time": "2022-03-01T23:48:55.443678",
     "status": "completed"
    },
    "tags": []
   },
   "source": [
    "## With gene symbols"
   ]
  },
  {
   "cell_type": "code",
   "execution_count": 54,
   "id": "bfc927ab",
   "metadata": {
    "execution": {
     "iopub.execute_input": "2022-03-01T23:48:55.659856Z",
     "iopub.status.busy": "2022-03-01T23:48:55.659619Z",
     "iopub.status.idle": "2022-03-01T23:48:55.675186Z",
     "shell.execute_reply": "2022-03-01T23:48:55.674464Z"
    },
    "papermill": {
     "duration": 0.088349,
     "end_time": "2022-03-01T23:48:55.676574",
     "exception": false,
     "start_time": "2022-03-01T23:48:55.588225",
     "status": "completed"
    },
    "tags": []
   },
   "outputs": [
    {
     "data": {
      "text/plain": [
       "PosixPath('/opt/data/data/phenomexcan/ld_blocks/mashr_multiplier_genes-pred_expression_corr_avg-gene_names.pkl')"
      ]
     },
     "metadata": {},
     "output_type": "display_data"
    }
   ],
   "source": [
    "output_file = conf.PHENOMEXCAN[\"LD_BLOCKS\"][EQTL_MODEL][\"GENE_NAMES_CORR_AVG\"]\n",
    "display(output_file)"
   ]
  },
  {
   "cell_type": "code",
   "execution_count": 55,
   "id": "2f3dc29f",
   "metadata": {
    "execution": {
     "iopub.execute_input": "2022-03-01T23:48:55.819971Z",
     "iopub.status.busy": "2022-03-01T23:48:55.819736Z",
     "iopub.status.idle": "2022-03-01T23:48:55.874594Z",
     "shell.execute_reply": "2022-03-01T23:48:55.874052Z"
    },
    "papermill": {
     "duration": 0.128568,
     "end_time": "2022-03-01T23:48:55.876131",
     "exception": false,
     "start_time": "2022-03-01T23:48:55.747563",
     "status": "completed"
    },
    "tags": []
   },
   "outputs": [],
   "source": [
    "gene_corrs_gene_names_df = gene_corrs_df.rename(\n",
    "    index=Gene.GENE_ID_TO_NAME_MAP, columns=Gene.GENE_ID_TO_NAME_MAP\n",
    ")"
   ]
  },
  {
   "cell_type": "code",
   "execution_count": 56,
   "id": "cc5fef8e",
   "metadata": {
    "execution": {
     "iopub.execute_input": "2022-03-01T23:48:56.019968Z",
     "iopub.status.busy": "2022-03-01T23:48:56.019749Z",
     "iopub.status.idle": "2022-03-01T23:48:56.035217Z",
     "shell.execute_reply": "2022-03-01T23:48:56.034597Z"
    },
    "papermill": {
     "duration": 0.088423,
     "end_time": "2022-03-01T23:48:56.036872",
     "exception": false,
     "start_time": "2022-03-01T23:48:55.948449",
     "status": "completed"
    },
    "tags": []
   },
   "outputs": [],
   "source": [
    "assert gene_corrs_gene_names_df.index.is_unique"
   ]
  },
  {
   "cell_type": "code",
   "execution_count": 57,
   "id": "4b79bdb7",
   "metadata": {
    "execution": {
     "iopub.execute_input": "2022-03-01T23:48:56.180889Z",
     "iopub.status.busy": "2022-03-01T23:48:56.180659Z",
     "iopub.status.idle": "2022-03-01T23:48:56.196458Z",
     "shell.execute_reply": "2022-03-01T23:48:56.195841Z"
    },
    "papermill": {
     "duration": 0.089334,
     "end_time": "2022-03-01T23:48:56.198052",
     "exception": false,
     "start_time": "2022-03-01T23:48:56.108718",
     "status": "completed"
    },
    "tags": []
   },
   "outputs": [],
   "source": [
    "assert gene_corrs_gene_names_df.columns.is_unique"
   ]
  },
  {
   "cell_type": "code",
   "execution_count": 58,
   "id": "5fff389b",
   "metadata": {
    "execution": {
     "iopub.execute_input": "2022-03-01T23:48:56.343812Z",
     "iopub.status.busy": "2022-03-01T23:48:56.343582Z",
     "iopub.status.idle": "2022-03-01T23:48:56.358804Z",
     "shell.execute_reply": "2022-03-01T23:48:56.358128Z"
    },
    "papermill": {
     "duration": 0.089287,
     "end_time": "2022-03-01T23:48:56.360210",
     "exception": false,
     "start_time": "2022-03-01T23:48:56.270923",
     "status": "completed"
    },
    "tags": []
   },
   "outputs": [
    {
     "data": {
      "text/plain": [
       "(6452, 6452)"
      ]
     },
     "execution_count": 58,
     "metadata": {},
     "output_type": "execute_result"
    }
   ],
   "source": [
    "gene_corrs_gene_names_df.shape"
   ]
  },
  {
   "cell_type": "code",
   "execution_count": 59,
   "id": "5b4ab58a",
   "metadata": {
    "execution": {
     "iopub.execute_input": "2022-03-01T23:48:56.505811Z",
     "iopub.status.busy": "2022-03-01T23:48:56.505354Z",
     "iopub.status.idle": "2022-03-01T23:48:56.534430Z",
     "shell.execute_reply": "2022-03-01T23:48:56.533720Z"
    },
    "papermill": {
     "duration": 0.102539,
     "end_time": "2022-03-01T23:48:56.535812",
     "exception": false,
     "start_time": "2022-03-01T23:48:56.433273",
     "status": "completed"
    },
    "tags": []
   },
   "outputs": [
    {
     "data": {
      "text/html": [
       "<div>\n",
       "<style scoped>\n",
       "    .dataframe tbody tr th:only-of-type {\n",
       "        vertical-align: middle;\n",
       "    }\n",
       "\n",
       "    .dataframe tbody tr th {\n",
       "        vertical-align: top;\n",
       "    }\n",
       "\n",
       "    .dataframe thead th {\n",
       "        text-align: right;\n",
       "    }\n",
       "</style>\n",
       "<table border=\"1\" class=\"dataframe\">\n",
       "  <thead>\n",
       "    <tr style=\"text-align: right;\">\n",
       "      <th>id</th>\n",
       "      <th>GAS6</th>\n",
       "      <th>MMP14</th>\n",
       "      <th>DSP</th>\n",
       "      <th>MARCKSL1</th>\n",
       "      <th>SPARC</th>\n",
       "      <th>CTSD</th>\n",
       "      <th>EPAS1</th>\n",
       "      <th>PALLD</th>\n",
       "      <th>PHC2</th>\n",
       "      <th>LGALS3BP</th>\n",
       "      <th>...</th>\n",
       "      <th>LDHB</th>\n",
       "      <th>LDHC</th>\n",
       "      <th>ACAP2</th>\n",
       "      <th>ACAP3</th>\n",
       "      <th>CFL2</th>\n",
       "      <th>CFL1</th>\n",
       "      <th>NFIB</th>\n",
       "      <th>PLEKHG6</th>\n",
       "      <th>GNGT2</th>\n",
       "      <th>SERPINH1</th>\n",
       "    </tr>\n",
       "    <tr>\n",
       "      <th>id</th>\n",
       "      <th></th>\n",
       "      <th></th>\n",
       "      <th></th>\n",
       "      <th></th>\n",
       "      <th></th>\n",
       "      <th></th>\n",
       "      <th></th>\n",
       "      <th></th>\n",
       "      <th></th>\n",
       "      <th></th>\n",
       "      <th></th>\n",
       "      <th></th>\n",
       "      <th></th>\n",
       "      <th></th>\n",
       "      <th></th>\n",
       "      <th></th>\n",
       "      <th></th>\n",
       "      <th></th>\n",
       "      <th></th>\n",
       "      <th></th>\n",
       "      <th></th>\n",
       "    </tr>\n",
       "  </thead>\n",
       "  <tbody>\n",
       "    <tr>\n",
       "      <th>GAS6</th>\n",
       "      <td>1.0</td>\n",
       "      <td>0.0</td>\n",
       "      <td>0.0</td>\n",
       "      <td>0.0</td>\n",
       "      <td>0.0</td>\n",
       "      <td>0.0</td>\n",
       "      <td>0.0</td>\n",
       "      <td>0.0</td>\n",
       "      <td>0.000000</td>\n",
       "      <td>0.0</td>\n",
       "      <td>...</td>\n",
       "      <td>0.0</td>\n",
       "      <td>0.0</td>\n",
       "      <td>0.0</td>\n",
       "      <td>0.000000</td>\n",
       "      <td>0.000000</td>\n",
       "      <td>0.0</td>\n",
       "      <td>0.0</td>\n",
       "      <td>0.0</td>\n",
       "      <td>0.0</td>\n",
       "      <td>0.0</td>\n",
       "    </tr>\n",
       "    <tr>\n",
       "      <th>MMP14</th>\n",
       "      <td>0.0</td>\n",
       "      <td>1.0</td>\n",
       "      <td>0.0</td>\n",
       "      <td>0.0</td>\n",
       "      <td>0.0</td>\n",
       "      <td>0.0</td>\n",
       "      <td>0.0</td>\n",
       "      <td>0.0</td>\n",
       "      <td>0.000000</td>\n",
       "      <td>0.0</td>\n",
       "      <td>...</td>\n",
       "      <td>0.0</td>\n",
       "      <td>0.0</td>\n",
       "      <td>0.0</td>\n",
       "      <td>0.000000</td>\n",
       "      <td>-0.000683</td>\n",
       "      <td>0.0</td>\n",
       "      <td>0.0</td>\n",
       "      <td>0.0</td>\n",
       "      <td>0.0</td>\n",
       "      <td>0.0</td>\n",
       "    </tr>\n",
       "    <tr>\n",
       "      <th>DSP</th>\n",
       "      <td>0.0</td>\n",
       "      <td>0.0</td>\n",
       "      <td>1.0</td>\n",
       "      <td>0.0</td>\n",
       "      <td>0.0</td>\n",
       "      <td>0.0</td>\n",
       "      <td>0.0</td>\n",
       "      <td>0.0</td>\n",
       "      <td>0.000000</td>\n",
       "      <td>0.0</td>\n",
       "      <td>...</td>\n",
       "      <td>0.0</td>\n",
       "      <td>0.0</td>\n",
       "      <td>0.0</td>\n",
       "      <td>0.000000</td>\n",
       "      <td>0.000000</td>\n",
       "      <td>0.0</td>\n",
       "      <td>0.0</td>\n",
       "      <td>0.0</td>\n",
       "      <td>0.0</td>\n",
       "      <td>0.0</td>\n",
       "    </tr>\n",
       "    <tr>\n",
       "      <th>MARCKSL1</th>\n",
       "      <td>0.0</td>\n",
       "      <td>0.0</td>\n",
       "      <td>0.0</td>\n",
       "      <td>1.0</td>\n",
       "      <td>0.0</td>\n",
       "      <td>0.0</td>\n",
       "      <td>0.0</td>\n",
       "      <td>0.0</td>\n",
       "      <td>-0.001079</td>\n",
       "      <td>0.0</td>\n",
       "      <td>...</td>\n",
       "      <td>0.0</td>\n",
       "      <td>0.0</td>\n",
       "      <td>0.0</td>\n",
       "      <td>-0.000171</td>\n",
       "      <td>0.000000</td>\n",
       "      <td>0.0</td>\n",
       "      <td>0.0</td>\n",
       "      <td>0.0</td>\n",
       "      <td>0.0</td>\n",
       "      <td>0.0</td>\n",
       "    </tr>\n",
       "    <tr>\n",
       "      <th>SPARC</th>\n",
       "      <td>0.0</td>\n",
       "      <td>0.0</td>\n",
       "      <td>0.0</td>\n",
       "      <td>0.0</td>\n",
       "      <td>1.0</td>\n",
       "      <td>0.0</td>\n",
       "      <td>0.0</td>\n",
       "      <td>0.0</td>\n",
       "      <td>0.000000</td>\n",
       "      <td>0.0</td>\n",
       "      <td>...</td>\n",
       "      <td>0.0</td>\n",
       "      <td>0.0</td>\n",
       "      <td>0.0</td>\n",
       "      <td>0.000000</td>\n",
       "      <td>0.000000</td>\n",
       "      <td>0.0</td>\n",
       "      <td>0.0</td>\n",
       "      <td>0.0</td>\n",
       "      <td>0.0</td>\n",
       "      <td>0.0</td>\n",
       "    </tr>\n",
       "  </tbody>\n",
       "</table>\n",
       "<p>5 rows × 6452 columns</p>\n",
       "</div>"
      ],
      "text/plain": [
       "id        GAS6  MMP14  DSP  MARCKSL1  SPARC  CTSD  EPAS1  PALLD      PHC2  \\\n",
       "id                                                                          \n",
       "GAS6       1.0    0.0  0.0       0.0    0.0   0.0    0.0    0.0  0.000000   \n",
       "MMP14      0.0    1.0  0.0       0.0    0.0   0.0    0.0    0.0  0.000000   \n",
       "DSP        0.0    0.0  1.0       0.0    0.0   0.0    0.0    0.0  0.000000   \n",
       "MARCKSL1   0.0    0.0  0.0       1.0    0.0   0.0    0.0    0.0 -0.001079   \n",
       "SPARC      0.0    0.0  0.0       0.0    1.0   0.0    0.0    0.0  0.000000   \n",
       "\n",
       "id        LGALS3BP  ...  LDHB  LDHC  ACAP2     ACAP3      CFL2  CFL1  NFIB  \\\n",
       "id                  ...                                                      \n",
       "GAS6           0.0  ...   0.0   0.0    0.0  0.000000  0.000000   0.0   0.0   \n",
       "MMP14          0.0  ...   0.0   0.0    0.0  0.000000 -0.000683   0.0   0.0   \n",
       "DSP            0.0  ...   0.0   0.0    0.0  0.000000  0.000000   0.0   0.0   \n",
       "MARCKSL1       0.0  ...   0.0   0.0    0.0 -0.000171  0.000000   0.0   0.0   \n",
       "SPARC          0.0  ...   0.0   0.0    0.0  0.000000  0.000000   0.0   0.0   \n",
       "\n",
       "id        PLEKHG6  GNGT2  SERPINH1  \n",
       "id                                  \n",
       "GAS6          0.0    0.0       0.0  \n",
       "MMP14         0.0    0.0       0.0  \n",
       "DSP           0.0    0.0       0.0  \n",
       "MARCKSL1      0.0    0.0       0.0  \n",
       "SPARC         0.0    0.0       0.0  \n",
       "\n",
       "[5 rows x 6452 columns]"
      ]
     },
     "execution_count": 59,
     "metadata": {},
     "output_type": "execute_result"
    }
   ],
   "source": [
    "gene_corrs_gene_names_df.head()"
   ]
  },
  {
   "cell_type": "code",
   "execution_count": 60,
   "id": "5d982343",
   "metadata": {
    "execution": {
     "iopub.execute_input": "2022-03-01T23:48:56.687367Z",
     "iopub.status.busy": "2022-03-01T23:48:56.687141Z",
     "iopub.status.idle": "2022-03-01T23:48:56.869166Z",
     "shell.execute_reply": "2022-03-01T23:48:56.868600Z"
    },
    "papermill": {
     "duration": 0.257402,
     "end_time": "2022-03-01T23:48:56.870903",
     "exception": false,
     "start_time": "2022-03-01T23:48:56.613501",
     "status": "completed"
    },
    "tags": []
   },
   "outputs": [],
   "source": [
    "gene_corrs_gene_names_df.to_pickle(output_file)"
   ]
  },
  {
   "cell_type": "code",
   "execution_count": null,
   "id": "5663eba0",
   "metadata": {
    "papermill": {
     "duration": 0.071906,
     "end_time": "2022-03-01T23:48:57.018769",
     "exception": false,
     "start_time": "2022-03-01T23:48:56.946863",
     "status": "completed"
    },
    "tags": []
   },
   "outputs": [],
   "source": []
  }
 ],
 "metadata": {
  "jupytext": {
   "cell_metadata_filter": "all,-execution,-papermill,-trusted",
   "formats": "ipynb,py//py:percent"
  },
  "kernelspec": {
   "display_name": "Python 3 (ipykernel)",
   "language": "python",
   "name": "python3"
  },
  "language_info": {
   "codemirror_mode": {
    "name": "ipython",
    "version": 3
   },
   "file_extension": ".py",
   "mimetype": "text/x-python",
   "name": "python",
   "nbconvert_exporter": "python",
   "pygments_lexer": "ipython3",
   "version": "3.8.12"
  },
  "papermill": {
   "default_parameters": {},
   "duration": 27.17841,
   "end_time": "2022-03-01T23:48:57.410874",
   "environment_variables": {},
   "exception": null,
   "input_path": "nbs/15_gsa_gls/15-preprocess_gene_expr_correlations.ipynb",
   "output_path": "nbs/15_gsa_gls/mashr_gene_corrs/15-preprocess_gene_expr_correlations.ipynb",
   "parameters": {
    "EQTL_MODEL": "MASHR"
   },
   "start_time": "2022-03-01T23:48:30.232464",
   "version": "2.2.2"
  }
 },
 "nbformat": 4,
 "nbformat_minor": 5
}
