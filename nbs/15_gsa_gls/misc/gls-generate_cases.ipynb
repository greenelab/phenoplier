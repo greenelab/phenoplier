{
 "cells": [
  {
   "cell_type": "markdown",
   "id": "5ef66977",
   "metadata": {
    "papermill": {
     "duration": 0.010512,
     "end_time": "2022-07-11T13:22:07.207937",
     "exception": false,
     "start_time": "2022-07-11T13:22:07.197425",
     "status": "completed"
    },
    "tags": []
   },
   "source": [
    "# Description"
   ]
  },
  {
   "cell_type": "markdown",
   "id": "658d4f7c",
   "metadata": {
    "papermill": {
     "duration": 0.007193,
     "end_time": "2022-07-11T13:22:07.222297",
     "exception": false,
     "start_time": "2022-07-11T13:22:07.215104",
     "status": "completed"
    },
    "tags": []
   },
   "source": [
    "(Please, take a look at the README.md file in this directory for instructions on how to run this notebook)\n",
    "\n",
    "This notebook reads all gene correlations across all chromosomes and computes a single correlation matrix by assembling a big correlation matrix with all genes."
   ]
  },
  {
   "cell_type": "markdown",
   "id": "60fa4530",
   "metadata": {
    "papermill": {
     "duration": 0.007062,
     "end_time": "2022-07-11T13:22:07.236433",
     "exception": false,
     "start_time": "2022-07-11T13:22:07.229371",
     "status": "completed"
    },
    "tags": []
   },
   "source": [
    "# Modules"
   ]
  },
  {
   "cell_type": "code",
   "execution_count": 1,
   "id": "d70b0833",
   "metadata": {
    "papermill": {
     "duration": 0.023639,
     "end_time": "2022-07-11T13:22:07.267099",
     "exception": false,
     "start_time": "2022-07-11T13:22:07.243460",
     "status": "completed"
    },
    "tags": []
   },
   "outputs": [],
   "source": [
    "%load_ext autoreload\n",
    "%autoreload 2"
   ]
  },
  {
   "cell_type": "code",
   "execution_count": 2,
   "id": "6b2f9ca0",
   "metadata": {
    "papermill": {
     "duration": 0.815336,
     "end_time": "2022-07-11T13:22:08.117525",
     "exception": false,
     "start_time": "2022-07-11T13:22:07.302189",
     "status": "completed"
    },
    "tags": []
   },
   "outputs": [],
   "source": [
    "import sys\n",
    "\n",
    "import numpy as np\n",
    "from scipy.spatial.distance import squareform\n",
    "import pandas as pd\n",
    "from scipy import stats\n",
    "import matplotlib.pyplot as plt\n",
    "import seaborn as sns\n",
    "\n",
    "import conf\n",
    "import utils\n",
    "from entity import Gene"
   ]
  },
  {
   "cell_type": "markdown",
   "id": "5b96e797",
   "metadata": {
    "papermill": {
     "duration": 0.007353,
     "end_time": "2022-07-11T13:22:08.132804",
     "exception": false,
     "start_time": "2022-07-11T13:22:08.125451",
     "status": "completed"
    },
    "tags": []
   },
   "source": [
    "# Settings"
   ]
  },
  {
   "cell_type": "code",
   "execution_count": 3,
   "id": "4fc1b6a0",
   "metadata": {
    "papermill": {
     "duration": 0.02389,
     "end_time": "2022-07-11T13:22:08.163791",
     "exception": false,
     "start_time": "2022-07-11T13:22:08.139901",
     "status": "completed"
    },
    "tags": [
     "parameters"
    ]
   },
   "outputs": [],
   "source": [
    "# reference panel\n",
    "REFERENCE_PANEL = \"GTEX_V8\"\n",
    "# REFERENCE_PANEL = \"1000G\"\n",
    "\n",
    "# prediction models\n",
    "## mashr\n",
    "EQTL_MODEL = \"MASHR\"\n",
    "EQTL_MODEL_FILES_PREFIX = \"mashr_\"\n",
    "\n",
    "# ## elastic net\n",
    "# EQTL_MODEL = \"ELASTIC_NET\"\n",
    "# EQTL_MODEL_FILES_PREFIX = \"en_\"\n",
    "\n",
    "# make it read the prefix from conf.py\n",
    "EQTL_MODEL_FILES_PREFIX = None"
   ]
  },
  {
   "cell_type": "code",
   "execution_count": 4,
   "id": "1bbdf463",
   "metadata": {
    "lines_to_next_cell": 2,
    "papermill": {
     "duration": 0.023396,
     "end_time": "2022-07-11T13:22:08.194824",
     "exception": false,
     "start_time": "2022-07-11T13:22:08.171428",
     "status": "completed"
    },
    "tags": [
     "injected-parameters"
    ]
   },
   "outputs": [],
   "source": [
    "# Parameters\n",
    "REFERENCE_PANEL = \"1000G\"\n",
    "EQTL_MODEL = \"MASHR\""
   ]
  },
  {
   "cell_type": "code",
   "execution_count": 5,
   "id": "92e6297a",
   "metadata": {
    "papermill": {
     "duration": 0.02466,
     "end_time": "2022-07-11T13:22:08.227356",
     "exception": false,
     "start_time": "2022-07-11T13:22:08.202696",
     "status": "completed"
    },
    "tags": []
   },
   "outputs": [],
   "source": [
    "if EQTL_MODEL_FILES_PREFIX is None:\n",
    "    EQTL_MODEL_FILES_PREFIX = conf.PHENOMEXCAN[\"PREDICTION_MODELS\"][\n",
    "        f\"{EQTL_MODEL}_PREFIX\"\n",
    "    ]"
   ]
  },
  {
   "cell_type": "code",
   "execution_count": 6,
   "id": "c76e4f93",
   "metadata": {
    "papermill": {
     "duration": 0.026034,
     "end_time": "2022-07-11T13:22:08.261147",
     "exception": false,
     "start_time": "2022-07-11T13:22:08.235113",
     "status": "completed"
    },
    "tags": []
   },
   "outputs": [
    {
     "data": {
      "text/plain": [
       "'Using eQTL model: MASHR / mashr_'"
      ]
     },
     "metadata": {},
     "output_type": "display_data"
    }
   ],
   "source": [
    "display(f\"Using eQTL model: {EQTL_MODEL} / {EQTL_MODEL_FILES_PREFIX}\")"
   ]
  },
  {
   "cell_type": "code",
   "execution_count": 7,
   "id": "8b85565e-d749-42a9-840d-794f535503ce",
   "metadata": {
    "papermill": {
     "duration": 0.024124,
     "end_time": "2022-07-11T13:22:08.293201",
     "exception": false,
     "start_time": "2022-07-11T13:22:08.269077",
     "status": "completed"
    },
    "tags": []
   },
   "outputs": [],
   "source": [
    "REFERENCE_PANEL_DIR = conf.PHENOMEXCAN[\"LD_BLOCKS\"][f\"{REFERENCE_PANEL}_GENOTYPE_DIR\"]"
   ]
  },
  {
   "cell_type": "code",
   "execution_count": 8,
   "id": "7d88b555-08c0-4a85-94e1-c7679a361093",
   "metadata": {
    "papermill": {
     "duration": 0.024695,
     "end_time": "2022-07-11T13:22:08.325817",
     "exception": false,
     "start_time": "2022-07-11T13:22:08.301122",
     "status": "completed"
    },
    "tags": []
   },
   "outputs": [
    {
     "data": {
      "text/plain": [
       "'Using reference panel folder: /opt/data/data/phenomexcan/ld_blocks/reference_panel_1000G'"
      ]
     },
     "metadata": {},
     "output_type": "display_data"
    }
   ],
   "source": [
    "display(f\"Using reference panel folder: {str(REFERENCE_PANEL_DIR)}\")"
   ]
  },
  {
   "cell_type": "code",
   "execution_count": 9,
   "id": "ac0c0705-90e4-42f8-8298-a457c7e778ff",
   "metadata": {
    "papermill": {
     "duration": 0.026136,
     "end_time": "2022-07-11T13:22:08.360188",
     "exception": false,
     "start_time": "2022-07-11T13:22:08.334052",
     "status": "completed"
    },
    "tags": []
   },
   "outputs": [
    {
     "data": {
      "text/plain": [
       "PosixPath('/opt/data/data/phenomexcan/ld_blocks/gene_corrs/1000g/mashr')"
      ]
     },
     "metadata": {},
     "output_type": "display_data"
    }
   ],
   "source": [
    "OUTPUT_DIR_BASE = (\n",
    "    conf.PHENOMEXCAN[\"LD_BLOCKS\"][f\"GENE_CORRS_DIR\"]\n",
    "    / REFERENCE_PANEL.lower()\n",
    "    / EQTL_MODEL.lower()\n",
    ")\n",
    "display(OUTPUT_DIR_BASE)\n",
    "OUTPUT_DIR_BASE.mkdir(parents=True, exist_ok=True)"
   ]
  },
  {
   "cell_type": "code",
   "execution_count": 10,
   "id": "91e9b1f6-954d-494f-9ace-c2c9dfc74d4f",
   "metadata": {
    "papermill": {
     "duration": 0.02494,
     "end_time": "2022-07-11T13:22:08.393412",
     "exception": false,
     "start_time": "2022-07-11T13:22:08.368472",
     "status": "completed"
    },
    "tags": []
   },
   "outputs": [
    {
     "data": {
      "text/plain": [
       "'Using output dir base: /opt/data/data/phenomexcan/ld_blocks/gene_corrs/1000g/mashr'"
      ]
     },
     "metadata": {},
     "output_type": "display_data"
    }
   ],
   "source": [
    "display(f\"Using output dir base: {OUTPUT_DIR_BASE}\")"
   ]
  },
  {
   "cell_type": "code",
   "execution_count": 11,
   "id": "0949e7ac-1952-4552-9ee9-4f289cd40583",
   "metadata": {},
   "outputs": [],
   "source": [
    "OUTPUT_DIR = utils.get_git_repository_path() / \"tests\" / \"data\" / \"gls\"\n",
    "assert OUTPUT_DIR.exists()"
   ]
  },
  {
   "cell_type": "markdown",
   "id": "99ccb166",
   "metadata": {
    "papermill": {
     "duration": 0.008141,
     "end_time": "2022-07-11T13:22:08.443463",
     "exception": false,
     "start_time": "2022-07-11T13:22:08.435322",
     "status": "completed"
    },
    "tags": []
   },
   "source": [
    "# Load data"
   ]
  },
  {
   "cell_type": "markdown",
   "id": "46ae0b3e",
   "metadata": {
    "papermill": {
     "duration": 0.008625,
     "end_time": "2022-07-11T13:22:08.646659",
     "exception": false,
     "start_time": "2022-07-11T13:22:08.638034",
     "status": "completed"
    },
    "tags": []
   },
   "source": [
    "## MultiPLIER Z"
   ]
  },
  {
   "cell_type": "code",
   "execution_count": 12,
   "id": "d38d9749",
   "metadata": {
    "papermill": {
     "duration": 0.050011,
     "end_time": "2022-07-11T13:22:08.705065",
     "exception": false,
     "start_time": "2022-07-11T13:22:08.655054",
     "status": "completed"
    },
    "tags": []
   },
   "outputs": [],
   "source": [
    "multiplier_z = pd.read_pickle(conf.MULTIPLIER[\"MODEL_Z_MATRIX_FILE\"])"
   ]
  },
  {
   "cell_type": "code",
   "execution_count": 13,
   "id": "2dd5031b-7d59-4b87-8e76-0ca4436a945a",
   "metadata": {
    "papermill": {
     "duration": 0.050011,
     "end_time": "2022-07-11T13:22:08.705065",
     "exception": false,
     "start_time": "2022-07-11T13:22:08.655054",
     "status": "completed"
    },
    "tags": []
   },
   "outputs": [],
   "source": [
    "multiplier_z_genes = multiplier_z.index.tolist()"
   ]
  },
  {
   "cell_type": "code",
   "execution_count": 14,
   "id": "67e93797",
   "metadata": {
    "papermill": {
     "duration": 0.026612,
     "end_time": "2022-07-11T13:22:08.741377",
     "exception": false,
     "start_time": "2022-07-11T13:22:08.714765",
     "status": "completed"
    },
    "tags": []
   },
   "outputs": [
    {
     "data": {
      "text/plain": [
       "6750"
      ]
     },
     "execution_count": 14,
     "metadata": {},
     "output_type": "execute_result"
    }
   ],
   "source": [
    "len(multiplier_z_genes)"
   ]
  },
  {
   "cell_type": "code",
   "execution_count": 15,
   "id": "e1ba1ead",
   "metadata": {
    "papermill": {
     "duration": 0.025283,
     "end_time": "2022-07-11T13:22:08.775398",
     "exception": false,
     "start_time": "2022-07-11T13:22:08.750115",
     "status": "completed"
    },
    "tags": []
   },
   "outputs": [
    {
     "data": {
      "text/plain": [
       "['GAS6',\n",
       " 'MMP14',\n",
       " 'DSP',\n",
       " 'MARCKSL1',\n",
       " 'SPARC',\n",
       " 'CTSD',\n",
       " 'EPAS1',\n",
       " 'PALLD',\n",
       " 'PHC2',\n",
       " 'LGALS3BP']"
      ]
     },
     "execution_count": 15,
     "metadata": {},
     "output_type": "execute_result"
    }
   ],
   "source": [
    "multiplier_z_genes[:10]"
   ]
  },
  {
   "cell_type": "markdown",
   "id": "7ad1d143-b9b7-4405-88d0-d5b8acdbe7fa",
   "metadata": {},
   "source": [
    "## Function to load MultiXcan's results on random phenotypes"
   ]
  },
  {
   "cell_type": "code",
   "execution_count": 16,
   "id": "3cb53517-17a9-4154-a12e-8f67af6b385f",
   "metadata": {},
   "outputs": [],
   "source": [
    "def load_multixcan_random_phenotype(phenotype_code):\n",
    "    multixcan_random_results = pd.read_csv(\n",
    "        conf.RESULTS[\"GLS_NULL_SIMS\"]\n",
    "        / \"twas\"\n",
    "        / \"smultixcan\"\n",
    "        / f\"random.pheno{phenotype_code}-gtex_v8-mashr-smultixcan.txt\",\n",
    "        sep=\"\\t\",\n",
    "        index_col=\"gene_name\",\n",
    "    )\n",
    "\n",
    "    return multixcan_random_results"
   ]
  },
  {
   "cell_type": "markdown",
   "id": "37ce8c4f-6046-4d81-aa1a-f196153f0c69",
   "metadata": {
    "papermill": {
     "duration": 0.008625,
     "end_time": "2022-07-11T13:22:08.646659",
     "exception": false,
     "start_time": "2022-07-11T13:22:08.638034",
     "status": "completed"
    },
    "tags": []
   },
   "source": [
    "## MultiXcan real results (PhenomeXcan)"
   ]
  },
  {
   "cell_type": "code",
   "execution_count": 17,
   "id": "ff6a93a3-1d7e-4cef-99f6-866ad0726022",
   "metadata": {},
   "outputs": [],
   "source": [
    "multixcan_real_results = pd.read_pickle(\n",
    "    conf.PHENOMEXCAN[\"SMULTIXCAN_EFO_PARTIAL_MASHR_ZSCORES_FILE\"]\n",
    ").rename(index=Gene.GENE_ID_TO_NAME_MAP)"
   ]
  },
  {
   "cell_type": "code",
   "execution_count": 18,
   "id": "74f17127-afe3-4d93-9e93-50b193d2b996",
   "metadata": {},
   "outputs": [],
   "source": [
    "multixcan_real_results = multixcan_real_results[\n",
    "    ~multixcan_real_results.index.duplicated(keep=\"first\")\n",
    "].dropna(how=\"all\", axis=0)"
   ]
  },
  {
   "cell_type": "code",
   "execution_count": 19,
   "id": "05f85eb5-9816-4a38-948a-f133aeffa70c",
   "metadata": {},
   "outputs": [
    {
     "data": {
      "text/plain": [
       "(22508, 3752)"
      ]
     },
     "execution_count": 19,
     "metadata": {},
     "output_type": "execute_result"
    }
   ],
   "source": [
    "multixcan_real_results.shape"
   ]
  },
  {
   "cell_type": "code",
   "execution_count": 20,
   "id": "a5ee14c2-0359-48d0-bfbf-1e529f7a7cc9",
   "metadata": {},
   "outputs": [
    {
     "data": {
      "text/html": [
       "<div>\n",
       "<style scoped>\n",
       "    .dataframe tbody tr th:only-of-type {\n",
       "        vertical-align: middle;\n",
       "    }\n",
       "\n",
       "    .dataframe tbody tr th {\n",
       "        vertical-align: top;\n",
       "    }\n",
       "\n",
       "    .dataframe thead th {\n",
       "        text-align: right;\n",
       "    }\n",
       "</style>\n",
       "<table border=\"1\" class=\"dataframe\">\n",
       "  <thead>\n",
       "    <tr style=\"text-align: right;\">\n",
       "      <th></th>\n",
       "      <th>100001_raw-Food_weight</th>\n",
       "      <th>100002_raw-Energy</th>\n",
       "      <th>100003_raw-Protein</th>\n",
       "      <th>100004_raw-Fat</th>\n",
       "      <th>100005_raw-Carbohydrate</th>\n",
       "      <th>100006_raw-Saturated_fat</th>\n",
       "      <th>100007_raw-Polyunsaturated_fat</th>\n",
       "      <th>100008_raw-Total_sugars</th>\n",
       "      <th>100009_raw-Englyst_dietary_fibre</th>\n",
       "      <th>100010-Portion_size</th>\n",
       "      <th>...</th>\n",
       "      <th>visual impairment</th>\n",
       "      <th>vitiligo</th>\n",
       "      <th>vitreous body disease</th>\n",
       "      <th>vocal cord polyp</th>\n",
       "      <th>voice disorders</th>\n",
       "      <th>wellbeing measurement AND family relationship</th>\n",
       "      <th>wheezing</th>\n",
       "      <th>whooping cough</th>\n",
       "      <th>worry measurement</th>\n",
       "      <th>wrist fracture</th>\n",
       "    </tr>\n",
       "    <tr>\n",
       "      <th>gene_name</th>\n",
       "      <th></th>\n",
       "      <th></th>\n",
       "      <th></th>\n",
       "      <th></th>\n",
       "      <th></th>\n",
       "      <th></th>\n",
       "      <th></th>\n",
       "      <th></th>\n",
       "      <th></th>\n",
       "      <th></th>\n",
       "      <th></th>\n",
       "      <th></th>\n",
       "      <th></th>\n",
       "      <th></th>\n",
       "      <th></th>\n",
       "      <th></th>\n",
       "      <th></th>\n",
       "      <th></th>\n",
       "      <th></th>\n",
       "      <th></th>\n",
       "      <th></th>\n",
       "    </tr>\n",
       "  </thead>\n",
       "  <tbody>\n",
       "    <tr>\n",
       "      <th>DPM1</th>\n",
       "      <td>1.145442</td>\n",
       "      <td>0.724557</td>\n",
       "      <td>0.090876</td>\n",
       "      <td>0.298165</td>\n",
       "      <td>1.134347</td>\n",
       "      <td>1.371138</td>\n",
       "      <td>0.065718</td>\n",
       "      <td>0.794317</td>\n",
       "      <td>0.600342</td>\n",
       "      <td>0.317652</td>\n",
       "      <td>...</td>\n",
       "      <td>0.360518</td>\n",
       "      <td>1.351624</td>\n",
       "      <td>1.157695</td>\n",
       "      <td>0.835289</td>\n",
       "      <td>1.173072</td>\n",
       "      <td>1.337280</td>\n",
       "      <td>1.743822</td>\n",
       "      <td>1.017226</td>\n",
       "      <td>1.512184</td>\n",
       "      <td>0.972241</td>\n",
       "    </tr>\n",
       "    <tr>\n",
       "      <th>SCYL3</th>\n",
       "      <td>0.618066</td>\n",
       "      <td>1.028131</td>\n",
       "      <td>2.218420</td>\n",
       "      <td>0.762584</td>\n",
       "      <td>0.934418</td>\n",
       "      <td>0.192993</td>\n",
       "      <td>1.080230</td>\n",
       "      <td>0.765997</td>\n",
       "      <td>0.375898</td>\n",
       "      <td>0.678731</td>\n",
       "      <td>...</td>\n",
       "      <td>2.134504</td>\n",
       "      <td>0.127830</td>\n",
       "      <td>0.534690</td>\n",
       "      <td>0.120516</td>\n",
       "      <td>0.517464</td>\n",
       "      <td>2.545363</td>\n",
       "      <td>0.673331</td>\n",
       "      <td>2.003092</td>\n",
       "      <td>0.344000</td>\n",
       "      <td>2.033122</td>\n",
       "    </tr>\n",
       "    <tr>\n",
       "      <th>C1orf112</th>\n",
       "      <td>0.515724</td>\n",
       "      <td>0.403596</td>\n",
       "      <td>1.251359</td>\n",
       "      <td>0.433091</td>\n",
       "      <td>0.413466</td>\n",
       "      <td>0.246261</td>\n",
       "      <td>1.236151</td>\n",
       "      <td>0.827430</td>\n",
       "      <td>0.571985</td>\n",
       "      <td>0.782174</td>\n",
       "      <td>...</td>\n",
       "      <td>1.768905</td>\n",
       "      <td>0.992408</td>\n",
       "      <td>0.548215</td>\n",
       "      <td>0.412341</td>\n",
       "      <td>1.499415</td>\n",
       "      <td>1.366780</td>\n",
       "      <td>0.443318</td>\n",
       "      <td>0.417630</td>\n",
       "      <td>0.225934</td>\n",
       "      <td>1.613246</td>\n",
       "    </tr>\n",
       "    <tr>\n",
       "      <th>FGR</th>\n",
       "      <td>0.280781</td>\n",
       "      <td>0.253910</td>\n",
       "      <td>0.879148</td>\n",
       "      <td>0.352705</td>\n",
       "      <td>0.051846</td>\n",
       "      <td>0.184212</td>\n",
       "      <td>0.148566</td>\n",
       "      <td>0.009989</td>\n",
       "      <td>0.363751</td>\n",
       "      <td>0.374514</td>\n",
       "      <td>...</td>\n",
       "      <td>0.656552</td>\n",
       "      <td>2.046041</td>\n",
       "      <td>2.746832</td>\n",
       "      <td>0.108211</td>\n",
       "      <td>1.008258</td>\n",
       "      <td>0.755695</td>\n",
       "      <td>0.896228</td>\n",
       "      <td>0.875047</td>\n",
       "      <td>0.476405</td>\n",
       "      <td>1.693057</td>\n",
       "    </tr>\n",
       "    <tr>\n",
       "      <th>CFH</th>\n",
       "      <td>0.548127</td>\n",
       "      <td>0.389877</td>\n",
       "      <td>0.723469</td>\n",
       "      <td>1.167250</td>\n",
       "      <td>0.315952</td>\n",
       "      <td>0.324939</td>\n",
       "      <td>1.613932</td>\n",
       "      <td>0.311432</td>\n",
       "      <td>0.333548</td>\n",
       "      <td>1.807243</td>\n",
       "      <td>...</td>\n",
       "      <td>0.260482</td>\n",
       "      <td>0.646204</td>\n",
       "      <td>1.080240</td>\n",
       "      <td>0.678330</td>\n",
       "      <td>1.465358</td>\n",
       "      <td>0.307672</td>\n",
       "      <td>0.118376</td>\n",
       "      <td>1.419812</td>\n",
       "      <td>0.000002</td>\n",
       "      <td>1.040737</td>\n",
       "    </tr>\n",
       "  </tbody>\n",
       "</table>\n",
       "<p>5 rows × 3752 columns</p>\n",
       "</div>"
      ],
      "text/plain": [
       "           100001_raw-Food_weight  100002_raw-Energy  100003_raw-Protein  \\\n",
       "gene_name                                                                  \n",
       "DPM1                     1.145442           0.724557            0.090876   \n",
       "SCYL3                    0.618066           1.028131            2.218420   \n",
       "C1orf112                 0.515724           0.403596            1.251359   \n",
       "FGR                      0.280781           0.253910            0.879148   \n",
       "CFH                      0.548127           0.389877            0.723469   \n",
       "\n",
       "           100004_raw-Fat  100005_raw-Carbohydrate  100006_raw-Saturated_fat  \\\n",
       "gene_name                                                                      \n",
       "DPM1             0.298165                 1.134347                  1.371138   \n",
       "SCYL3            0.762584                 0.934418                  0.192993   \n",
       "C1orf112         0.433091                 0.413466                  0.246261   \n",
       "FGR              0.352705                 0.051846                  0.184212   \n",
       "CFH              1.167250                 0.315952                  0.324939   \n",
       "\n",
       "           100007_raw-Polyunsaturated_fat  100008_raw-Total_sugars  \\\n",
       "gene_name                                                            \n",
       "DPM1                             0.065718                 0.794317   \n",
       "SCYL3                            1.080230                 0.765997   \n",
       "C1orf112                         1.236151                 0.827430   \n",
       "FGR                              0.148566                 0.009989   \n",
       "CFH                              1.613932                 0.311432   \n",
       "\n",
       "           100009_raw-Englyst_dietary_fibre  100010-Portion_size  ...  \\\n",
       "gene_name                                                         ...   \n",
       "DPM1                               0.600342             0.317652  ...   \n",
       "SCYL3                              0.375898             0.678731  ...   \n",
       "C1orf112                           0.571985             0.782174  ...   \n",
       "FGR                                0.363751             0.374514  ...   \n",
       "CFH                                0.333548             1.807243  ...   \n",
       "\n",
       "           visual impairment  vitiligo  vitreous body disease  \\\n",
       "gene_name                                                       \n",
       "DPM1                0.360518  1.351624               1.157695   \n",
       "SCYL3               2.134504  0.127830               0.534690   \n",
       "C1orf112            1.768905  0.992408               0.548215   \n",
       "FGR                 0.656552  2.046041               2.746832   \n",
       "CFH                 0.260482  0.646204               1.080240   \n",
       "\n",
       "           vocal cord polyp  voice disorders  \\\n",
       "gene_name                                      \n",
       "DPM1               0.835289         1.173072   \n",
       "SCYL3              0.120516         0.517464   \n",
       "C1orf112           0.412341         1.499415   \n",
       "FGR                0.108211         1.008258   \n",
       "CFH                0.678330         1.465358   \n",
       "\n",
       "           wellbeing measurement AND family relationship  wheezing  \\\n",
       "gene_name                                                            \n",
       "DPM1                                            1.337280  1.743822   \n",
       "SCYL3                                           2.545363  0.673331   \n",
       "C1orf112                                        1.366780  0.443318   \n",
       "FGR                                             0.755695  0.896228   \n",
       "CFH                                             0.307672  0.118376   \n",
       "\n",
       "           whooping cough  worry measurement  wrist fracture  \n",
       "gene_name                                                     \n",
       "DPM1             1.017226           1.512184        0.972241  \n",
       "SCYL3            2.003092           0.344000        2.033122  \n",
       "C1orf112         0.417630           0.225934        1.613246  \n",
       "FGR              0.875047           0.476405        1.693057  \n",
       "CFH              1.419812           0.000002        1.040737  \n",
       "\n",
       "[5 rows x 3752 columns]"
      ]
     },
     "execution_count": 20,
     "metadata": {},
     "output_type": "execute_result"
    }
   ],
   "source": [
    "multixcan_real_results.head()"
   ]
  },
  {
   "cell_type": "code",
   "execution_count": 21,
   "id": "36835af0-264a-4f86-bce7-93a8b163aa3d",
   "metadata": {},
   "outputs": [],
   "source": [
    "assert not multixcan_real_results.isna().any(None)"
   ]
  },
  {
   "cell_type": "markdown",
   "id": "f4d4f177",
   "metadata": {
    "papermill": {
     "duration": 0.01453,
     "end_time": "2022-07-11T13:22:11.041316",
     "exception": false,
     "start_time": "2022-07-11T13:22:11.026786",
     "status": "completed"
    },
    "tags": []
   },
   "source": [
    "## Load full correlation matrix"
   ]
  },
  {
   "cell_type": "code",
   "execution_count": 22,
   "id": "2f174f95-2be3-4b63-95fb-451413ad361d",
   "metadata": {
    "papermill": {
     "duration": 0.032885,
     "end_time": "2022-07-11T13:24:54.640545",
     "exception": false,
     "start_time": "2022-07-11T13:24:54.607660",
     "status": "completed"
    },
    "tags": []
   },
   "outputs": [
    {
     "data": {
      "text/plain": [
       "PosixPath('/opt/data/data/phenomexcan/ld_blocks/gene_corrs/1000g/mashr/multiplier_genes-gene_correlations_within_distance-gene_symbols.pkl')"
      ]
     },
     "metadata": {},
     "output_type": "display_data"
    }
   ],
   "source": [
    "output_file_name_template = conf.PHENOMEXCAN[\"LD_BLOCKS\"][\n",
    "    \"GENE_CORRS_FILE_NAME_TEMPLATES\"\n",
    "][\"GENE_CORR_AVG\"]\n",
    "\n",
    "# output_file = OUTPUT_DIR_BASE / \"multiplier_genes-gene_correlations-gene_symbols.pkl\"\n",
    "output_file = (\n",
    "    OUTPUT_DIR_BASE\n",
    "    / \"multiplier_genes-gene_correlations_within_distance-gene_symbols.pkl\"\n",
    ")\n",
    "display(output_file)"
   ]
  },
  {
   "cell_type": "code",
   "execution_count": 23,
   "id": "fbd5ecdf-2501-45bb-a076-d4da54e6f28a",
   "metadata": {},
   "outputs": [],
   "source": [
    "full_corr_matrix_gene_symbols = pd.read_pickle(output_file)"
   ]
  },
  {
   "cell_type": "code",
   "execution_count": 24,
   "id": "d9e18eab",
   "metadata": {
    "papermill": {
     "duration": 0.033448,
     "end_time": "2022-07-11T13:24:55.150874",
     "exception": false,
     "start_time": "2022-07-11T13:24:55.117426",
     "status": "completed"
    },
    "tags": []
   },
   "outputs": [
    {
     "data": {
      "text/plain": [
       "(6452, 6452)"
      ]
     },
     "execution_count": 24,
     "metadata": {},
     "output_type": "execute_result"
    }
   ],
   "source": [
    "full_corr_matrix_gene_symbols.shape"
   ]
  },
  {
   "cell_type": "code",
   "execution_count": 25,
   "id": "44e83e62",
   "metadata": {
    "papermill": {
     "duration": 0.045551,
     "end_time": "2022-07-11T13:24:55.209471",
     "exception": false,
     "start_time": "2022-07-11T13:24:55.163920",
     "status": "completed"
    },
    "tags": []
   },
   "outputs": [
    {
     "data": {
      "text/html": [
       "<div>\n",
       "<style scoped>\n",
       "    .dataframe tbody tr th:only-of-type {\n",
       "        vertical-align: middle;\n",
       "    }\n",
       "\n",
       "    .dataframe tbody tr th {\n",
       "        vertical-align: top;\n",
       "    }\n",
       "\n",
       "    .dataframe thead th {\n",
       "        text-align: right;\n",
       "    }\n",
       "</style>\n",
       "<table border=\"1\" class=\"dataframe\">\n",
       "  <thead>\n",
       "    <tr style=\"text-align: right;\">\n",
       "      <th></th>\n",
       "      <th>NOC2L</th>\n",
       "      <th>HES4</th>\n",
       "      <th>ISG15</th>\n",
       "      <th>AGRN</th>\n",
       "      <th>TNFRSF18</th>\n",
       "      <th>TNFRSF4</th>\n",
       "      <th>B3GALT6</th>\n",
       "      <th>UBE2J2</th>\n",
       "      <th>ACAP3</th>\n",
       "      <th>TAS1R3</th>\n",
       "      <th>...</th>\n",
       "      <th>PLXNB2</th>\n",
       "      <th>ADM2</th>\n",
       "      <th>MIOX</th>\n",
       "      <th>SCO2</th>\n",
       "      <th>TYMP</th>\n",
       "      <th>CPT1B</th>\n",
       "      <th>CHKB</th>\n",
       "      <th>MAPK8IP2</th>\n",
       "      <th>ARSA</th>\n",
       "      <th>SHANK3</th>\n",
       "    </tr>\n",
       "  </thead>\n",
       "  <tbody>\n",
       "    <tr>\n",
       "      <th>NOC2L</th>\n",
       "      <td>1.000000</td>\n",
       "      <td>0.115011</td>\n",
       "      <td>0.173138</td>\n",
       "      <td>0.052445</td>\n",
       "      <td>0.008032</td>\n",
       "      <td>0.008727</td>\n",
       "      <td>0.006797</td>\n",
       "      <td>0.004533</td>\n",
       "      <td>0.007350</td>\n",
       "      <td>0.010391</td>\n",
       "      <td>...</td>\n",
       "      <td>0.0</td>\n",
       "      <td>0.0</td>\n",
       "      <td>0.0</td>\n",
       "      <td>0.0</td>\n",
       "      <td>0.0</td>\n",
       "      <td>0.0</td>\n",
       "      <td>0.0</td>\n",
       "      <td>0.0</td>\n",
       "      <td>0.0</td>\n",
       "      <td>0.0</td>\n",
       "    </tr>\n",
       "    <tr>\n",
       "      <th>HES4</th>\n",
       "      <td>0.115011</td>\n",
       "      <td>1.000000</td>\n",
       "      <td>0.681368</td>\n",
       "      <td>0.347023</td>\n",
       "      <td>0.011545</td>\n",
       "      <td>0.010729</td>\n",
       "      <td>0.003577</td>\n",
       "      <td>0.010230</td>\n",
       "      <td>0.010747</td>\n",
       "      <td>0.008769</td>\n",
       "      <td>...</td>\n",
       "      <td>0.0</td>\n",
       "      <td>0.0</td>\n",
       "      <td>0.0</td>\n",
       "      <td>0.0</td>\n",
       "      <td>0.0</td>\n",
       "      <td>0.0</td>\n",
       "      <td>0.0</td>\n",
       "      <td>0.0</td>\n",
       "      <td>0.0</td>\n",
       "      <td>0.0</td>\n",
       "    </tr>\n",
       "    <tr>\n",
       "      <th>ISG15</th>\n",
       "      <td>0.173138</td>\n",
       "      <td>0.681368</td>\n",
       "      <td>1.000000</td>\n",
       "      <td>0.351822</td>\n",
       "      <td>0.011774</td>\n",
       "      <td>0.012527</td>\n",
       "      <td>0.003754</td>\n",
       "      <td>0.012096</td>\n",
       "      <td>0.012679</td>\n",
       "      <td>0.010442</td>\n",
       "      <td>...</td>\n",
       "      <td>0.0</td>\n",
       "      <td>0.0</td>\n",
       "      <td>0.0</td>\n",
       "      <td>0.0</td>\n",
       "      <td>0.0</td>\n",
       "      <td>0.0</td>\n",
       "      <td>0.0</td>\n",
       "      <td>0.0</td>\n",
       "      <td>0.0</td>\n",
       "      <td>0.0</td>\n",
       "    </tr>\n",
       "    <tr>\n",
       "      <th>AGRN</th>\n",
       "      <td>0.052445</td>\n",
       "      <td>0.347023</td>\n",
       "      <td>0.351822</td>\n",
       "      <td>1.000000</td>\n",
       "      <td>0.014103</td>\n",
       "      <td>0.013988</td>\n",
       "      <td>0.006056</td>\n",
       "      <td>0.006296</td>\n",
       "      <td>0.005363</td>\n",
       "      <td>0.008300</td>\n",
       "      <td>...</td>\n",
       "      <td>0.0</td>\n",
       "      <td>0.0</td>\n",
       "      <td>0.0</td>\n",
       "      <td>0.0</td>\n",
       "      <td>0.0</td>\n",
       "      <td>0.0</td>\n",
       "      <td>0.0</td>\n",
       "      <td>0.0</td>\n",
       "      <td>0.0</td>\n",
       "      <td>0.0</td>\n",
       "    </tr>\n",
       "    <tr>\n",
       "      <th>TNFRSF18</th>\n",
       "      <td>0.008032</td>\n",
       "      <td>0.011545</td>\n",
       "      <td>0.011774</td>\n",
       "      <td>0.014103</td>\n",
       "      <td>1.000000</td>\n",
       "      <td>0.356676</td>\n",
       "      <td>0.454010</td>\n",
       "      <td>0.137643</td>\n",
       "      <td>0.200340</td>\n",
       "      <td>0.093210</td>\n",
       "      <td>...</td>\n",
       "      <td>0.0</td>\n",
       "      <td>0.0</td>\n",
       "      <td>0.0</td>\n",
       "      <td>0.0</td>\n",
       "      <td>0.0</td>\n",
       "      <td>0.0</td>\n",
       "      <td>0.0</td>\n",
       "      <td>0.0</td>\n",
       "      <td>0.0</td>\n",
       "      <td>0.0</td>\n",
       "    </tr>\n",
       "  </tbody>\n",
       "</table>\n",
       "<p>5 rows × 6452 columns</p>\n",
       "</div>"
      ],
      "text/plain": [
       "             NOC2L      HES4     ISG15      AGRN  TNFRSF18   TNFRSF4  \\\n",
       "NOC2L     1.000000  0.115011  0.173138  0.052445  0.008032  0.008727   \n",
       "HES4      0.115011  1.000000  0.681368  0.347023  0.011545  0.010729   \n",
       "ISG15     0.173138  0.681368  1.000000  0.351822  0.011774  0.012527   \n",
       "AGRN      0.052445  0.347023  0.351822  1.000000  0.014103  0.013988   \n",
       "TNFRSF18  0.008032  0.011545  0.011774  0.014103  1.000000  0.356676   \n",
       "\n",
       "           B3GALT6    UBE2J2     ACAP3    TAS1R3  ...  PLXNB2  ADM2  MIOX  \\\n",
       "NOC2L     0.006797  0.004533  0.007350  0.010391  ...     0.0   0.0   0.0   \n",
       "HES4      0.003577  0.010230  0.010747  0.008769  ...     0.0   0.0   0.0   \n",
       "ISG15     0.003754  0.012096  0.012679  0.010442  ...     0.0   0.0   0.0   \n",
       "AGRN      0.006056  0.006296  0.005363  0.008300  ...     0.0   0.0   0.0   \n",
       "TNFRSF18  0.454010  0.137643  0.200340  0.093210  ...     0.0   0.0   0.0   \n",
       "\n",
       "          SCO2  TYMP  CPT1B  CHKB  MAPK8IP2  ARSA  SHANK3  \n",
       "NOC2L      0.0   0.0    0.0   0.0       0.0   0.0     0.0  \n",
       "HES4       0.0   0.0    0.0   0.0       0.0   0.0     0.0  \n",
       "ISG15      0.0   0.0    0.0   0.0       0.0   0.0     0.0  \n",
       "AGRN       0.0   0.0    0.0   0.0       0.0   0.0     0.0  \n",
       "TNFRSF18   0.0   0.0    0.0   0.0       0.0   0.0     0.0  \n",
       "\n",
       "[5 rows x 6452 columns]"
      ]
     },
     "execution_count": 25,
     "metadata": {},
     "output_type": "execute_result"
    }
   ],
   "source": [
    "full_corr_matrix_gene_symbols.head()"
   ]
  },
  {
   "cell_type": "markdown",
   "id": "c4741bcc-5cb5-42ad-9266-e86947c29849",
   "metadata": {
    "papermill": {
     "duration": 0.012899,
     "end_time": "2022-07-11T13:23:15.569947",
     "exception": false,
     "start_time": "2022-07-11T13:23:15.557048",
     "status": "completed"
    },
    "tags": []
   },
   "source": [
    "### Make matrix compatible with GLS"
   ]
  },
  {
   "cell_type": "code",
   "execution_count": 26,
   "id": "d2650b16-618d-4e37-a973-bd24c1e4aa46",
   "metadata": {},
   "outputs": [
    {
     "data": {
      "text/plain": [
       "0"
      ]
     },
     "metadata": {},
     "output_type": "display_data"
    },
    {
     "data": {
      "text/plain": [
       "array([], dtype=float64)"
      ]
     },
     "metadata": {},
     "output_type": "display_data"
    }
   ],
   "source": [
    "_eigvals = np.linalg.eigvals(full_corr_matrix_gene_symbols)\n",
    "display(_eigvals[_eigvals < 0].shape[0])\n",
    "display(_eigvals[_eigvals < 0])"
   ]
  },
  {
   "cell_type": "code",
   "execution_count": 27,
   "id": "9e7a09a0-693f-40a2-899a-a9464fe37cd7",
   "metadata": {},
   "outputs": [
    {
     "name": "stdout",
     "output_type": "stream",
     "text": [
      "No need to fix\n"
     ]
    }
   ],
   "source": [
    "try:\n",
    "    np.linalg.cholesky(full_corr_matrix_gene_symbols)\n",
    "    print(\"No need to fix\")\n",
    "except Exception as e:\n",
    "    print(f\"Failed with:\\n {str(e)}\")"
   ]
  },
  {
   "cell_type": "code",
   "execution_count": 28,
   "id": "695e8ac0-82d5-46f5-a5a4-d956998e122b",
   "metadata": {},
   "outputs": [],
   "source": [
    "orig_corr_mat = full_corr_matrix_gene_symbols"
   ]
  },
  {
   "cell_type": "code",
   "execution_count": 86,
   "id": "ed96e54f-0414-4290-837e-717d443d7871",
   "metadata": {},
   "outputs": [],
   "source": [
    "orig_corr_mat.to_pickle(OUTPUT_DIR / \"corr_mat.pkl.xz\")"
   ]
  },
  {
   "cell_type": "code",
   "execution_count": 29,
   "id": "c86c18f6-3bdb-414e-b0ec-04d583ec9589",
   "metadata": {},
   "outputs": [],
   "source": [
    "# %load_ext rpy2.ipython"
   ]
  },
  {
   "cell_type": "code",
   "execution_count": 30,
   "id": "af48b7b3-f961-4af0-bb73-5d06fc7cb29e",
   "metadata": {},
   "outputs": [],
   "source": [
    "# corr_mat_r = full_corr_matrix_gene_symbols.to_numpy()"
   ]
  },
  {
   "cell_type": "code",
   "execution_count": 31,
   "id": "e4fd7da7-3cb5-4590-b390-56d0908be149",
   "metadata": {},
   "outputs": [],
   "source": [
    "# %Rpush corr_mat_r"
   ]
  },
  {
   "cell_type": "code",
   "execution_count": 32,
   "id": "f486869d-8f6f-4c32-ae81-230b357942e7",
   "metadata": {},
   "outputs": [],
   "source": [
    "# %%R\n",
    "# # taken from https://www.r-bloggers.com/2013/08/correcting-a-pseudo-correlation-matrix-to-be-positive-semidefinite/\n",
    "# CorrectCM <- function(CM, p = 0) {\n",
    "#   n <- dim(CM)[1L]\n",
    "#   E <- eigen(CM)\n",
    "#   CM1 <- E$vectors %*% tcrossprod(diag(pmax(E$values, p), n), E$vectors)\n",
    "#   Balance <- diag(1 / sqrt(diag(CM1)))\n",
    "#   CM2 <- Balance %*% CM1 %*% Balance\n",
    "#   return(CM2)\n",
    "# }"
   ]
  },
  {
   "cell_type": "code",
   "execution_count": 33,
   "id": "34ab51b4-b78d-4028-b915-39ac0ba05490",
   "metadata": {},
   "outputs": [],
   "source": [
    "# %%R -o corr_mat_r_fixed\n",
    "# corr_mat_r_fixed <- CorrectCM(corr_mat_r, 1e-5)"
   ]
  },
  {
   "cell_type": "code",
   "execution_count": 34,
   "id": "bd89853a-cc99-45f5-b450-d51e9c4d1426",
   "metadata": {},
   "outputs": [],
   "source": [
    "# corr_mat_r_fixed"
   ]
  },
  {
   "cell_type": "code",
   "execution_count": 35,
   "id": "43b2ad46-be28-43d8-a55c-bb93b1bb2bd8",
   "metadata": {},
   "outputs": [],
   "source": [
    "# corr_mat_r_fixed = pd.DataFrame(\n",
    "#     corr_mat_r_fixed,\n",
    "#     index=full_corr_matrix_gene_symbols.index.tolist(),\n",
    "#     columns=full_corr_matrix_gene_symbols.columns.tolist()\n",
    "# )"
   ]
  },
  {
   "cell_type": "code",
   "execution_count": 36,
   "id": "2153fd02-e44a-474f-a4af-0576446878bb",
   "metadata": {},
   "outputs": [],
   "source": [
    "# corr_mat_r_fixed.shape"
   ]
  },
  {
   "cell_type": "code",
   "execution_count": 37,
   "id": "c586b3ab-ad10-48b0-abe1-7f49c035054d",
   "metadata": {},
   "outputs": [],
   "source": [
    "# corr_mat_r_fixed.head()"
   ]
  },
  {
   "cell_type": "code",
   "execution_count": 38,
   "id": "e0dcd373-e76a-419e-8cbf-af2a0732e79a",
   "metadata": {},
   "outputs": [],
   "source": [
    "# corr_mat_r_fixed.equals(full_corr_matrix_gene_symbols)"
   ]
  },
  {
   "cell_type": "code",
   "execution_count": 39,
   "id": "cb1e7f0b-8899-4a49-b047-a155b6d8d6e2",
   "metadata": {},
   "outputs": [],
   "source": [
    "# del full_corr_matrix_gene_symbols"
   ]
  },
  {
   "cell_type": "code",
   "execution_count": 40,
   "id": "0bb3ccf1-c2c5-4308-b944-6dcd517a5063",
   "metadata": {},
   "outputs": [],
   "source": [
    "# orig_corr_mat = corr_mat_r_fixed"
   ]
  },
  {
   "cell_type": "code",
   "execution_count": 41,
   "id": "03b49c7b-42d8-42bd-8781-7ae16e0d718e",
   "metadata": {},
   "outputs": [],
   "source": [
    "# orig_corr_mat.to_pickle(OUTPUT_DIR / \"corr_mat_fixed.pkl.xz\")"
   ]
  },
  {
   "cell_type": "markdown",
   "id": "768a0b6a-d711-468a-b8e6-2cff279636fa",
   "metadata": {
    "papermill": {
     "duration": 0.012899,
     "end_time": "2022-07-11T13:23:15.569947",
     "exception": false,
     "start_time": "2022-07-11T13:23:15.557048",
     "status": "completed"
    },
    "tags": []
   },
   "source": [
    "# Functions"
   ]
  },
  {
   "cell_type": "code",
   "execution_count": 42,
   "id": "35409e2f-d9d5-4d82-bcd8-a7b6a93475a9",
   "metadata": {
    "papermill": {
     "duration": 0.233317,
     "end_time": "2022-07-11T13:23:15.815161",
     "exception": false,
     "start_time": "2022-07-11T13:23:15.581844",
     "status": "completed"
    },
    "tags": []
   },
   "outputs": [],
   "source": [
    "import statsmodels.api as sm\n",
    "from sklearn.preprocessing import scale"
   ]
  },
  {
   "cell_type": "code",
   "execution_count": 43,
   "id": "d4864e24-7153-49de-88ee-30acc3449d3b",
   "metadata": {},
   "outputs": [],
   "source": [
    "def get_data(lv_code, random_phenotype_code=None, real_phenotype_code=None):\n",
    "    if random_phenotype_code is not None:\n",
    "        target_data = load_multixcan_random_phenotype(random_phenotype_code)[\"pvalue\"]\n",
    "        y = pd.Series(\n",
    "            data=np.abs(stats.norm.ppf(target_data.to_numpy() / 2)),\n",
    "            index=target_data.index.copy(),\n",
    "        )\n",
    "    elif real_phenotype_code is not None:\n",
    "        y = multixcan_real_results[real_phenotype_code]\n",
    "\n",
    "    y = y[~y.index.duplicated(keep=\"first\")]\n",
    "    y = y.dropna()\n",
    "\n",
    "    common_genes = orig_corr_mat.index.intersection(y.index)\n",
    "    y = y.loc[common_genes]\n",
    "\n",
    "    X = multiplier_z[lv_code].copy()\n",
    "    X = X.loc[common_genes]\n",
    "    # X = (X - X.mean()) / X.std()\n",
    "    X = sm.add_constant(X)\n",
    "\n",
    "    return X, y"
   ]
  },
  {
   "cell_type": "code",
   "execution_count": 44,
   "id": "8523c426-33e5-4b6d-961b-976997f139b7",
   "metadata": {},
   "outputs": [],
   "source": [
    "def standardize_data(X, y):\n",
    "    X = X.copy()\n",
    "    y = y.copy()\n",
    "\n",
    "    c = [c for c in X.columns if c != \"const\"]\n",
    "    X[c] = (X[c] - X[c].mean()) / X[c].std()\n",
    "\n",
    "    return X, (y - y.mean()) / y.std()"
   ]
  },
  {
   "cell_type": "code",
   "execution_count": 45,
   "id": "16ee41fa-fa9a-4529-85a5-8f267c22ec92",
   "metadata": {},
   "outputs": [],
   "source": [
    "def get_aligned_corr_mat(X, perc=1.0):\n",
    "    # perc == 1.0 means select all nonzero genes\n",
    "    gene_corrs = orig_corr_mat.loc[X.index, X.index]\n",
    "\n",
    "    corr_mat_sub = pd.DataFrame(\n",
    "        np.identity(gene_corrs.shape[0]),\n",
    "        index=gene_corrs.index.copy(),\n",
    "        columns=gene_corrs.columns.copy(),\n",
    "    )\n",
    "\n",
    "    X = X.iloc[:, 1]\n",
    "\n",
    "    X_non_zero = X[X > 0]\n",
    "    X_thres = X_non_zero.quantile(1 - perc)\n",
    "    lv_nonzero_genes = X[X >= X_thres].index\n",
    "\n",
    "    lv_nonzero_genes = lv_nonzero_genes.intersection(gene_corrs.index)\n",
    "    corr_mat_sub.loc[lv_nonzero_genes, lv_nonzero_genes] = gene_corrs.loc[\n",
    "        lv_nonzero_genes, lv_nonzero_genes\n",
    "    ]\n",
    "\n",
    "    return corr_mat_sub"
   ]
  },
  {
   "cell_type": "code",
   "execution_count": 46,
   "id": "5fd9e921-3db5-4cd2-99f7-73671c2de61d",
   "metadata": {},
   "outputs": [],
   "source": [
    "# testing"
   ]
  },
  {
   "cell_type": "code",
   "execution_count": 47,
   "id": "f1082f1a-8912-4d45-885a-b12da15271ee",
   "metadata": {},
   "outputs": [],
   "source": [
    "def train_statsmodels_gls(X, y, corr_mat):\n",
    "    gls_model = sm.GLS(y, X, sigma=corr_mat)\n",
    "    gls_results = gls_model.fit()\n",
    "    return gls_results"
   ]
  },
  {
   "cell_type": "markdown",
   "id": "7a6677b8-0aaa-483b-a422-674bd64e6baf",
   "metadata": {
    "papermill": {
     "duration": 0.012899,
     "end_time": "2022-07-11T13:23:15.569947",
     "exception": false,
     "start_time": "2022-07-11T13:23:15.557048",
     "status": "completed"
    },
    "tags": []
   },
   "source": [
    "# Make sure statsmodels (Python) and gls from R give the same results"
   ]
  },
  {
   "cell_type": "markdown",
   "id": "2d723306-4712-4a91-bd3c-2e4bac514862",
   "metadata": {},
   "source": [
    "## Random phenotype 0"
   ]
  },
  {
   "cell_type": "code",
   "execution_count": 48,
   "id": "a2c50d9c-a237-4e65-8123-e72f8ddec8b6",
   "metadata": {},
   "outputs": [],
   "source": [
    "# lv_code = \"LV1\""
   ]
  },
  {
   "cell_type": "code",
   "execution_count": 49,
   "id": "dda6fe27-ebf3-4750-a870-51870f3f7533",
   "metadata": {},
   "outputs": [],
   "source": [
    "# X, y = get_data(lv_code, random_phenotype_code=1, transformation=\"log10\")"
   ]
  },
  {
   "cell_type": "code",
   "execution_count": 50,
   "id": "4bbca28c-6213-4421-8649-28d2dc7a9f10",
   "metadata": {},
   "outputs": [],
   "source": [
    "# X.shape"
   ]
  },
  {
   "cell_type": "code",
   "execution_count": 51,
   "id": "ae8b2222-e1b0-4205-94b5-52219415255d",
   "metadata": {},
   "outputs": [],
   "source": [
    "# y.shape"
   ]
  },
  {
   "cell_type": "code",
   "execution_count": 52,
   "id": "f37f3b6d-302c-4436-be30-e18fd3f8427c",
   "metadata": {},
   "outputs": [],
   "source": [
    "# corr_mat = get_aligned_corr_mat(X)"
   ]
  },
  {
   "cell_type": "code",
   "execution_count": 53,
   "id": "462d417e-0d30-4677-8602-be66b73f513e",
   "metadata": {},
   "outputs": [],
   "source": [
    "# corr_mat.shape"
   ]
  },
  {
   "cell_type": "markdown",
   "id": "d3f7ab14-3a2a-4dd8-8ec7-3cdc1e829af1",
   "metadata": {},
   "source": [
    "## statsmodels.GLS"
   ]
  },
  {
   "cell_type": "code",
   "execution_count": 54,
   "id": "0aa02874-a025-4454-b326-002fd6befe41",
   "metadata": {},
   "outputs": [],
   "source": [
    "# _gls_results = train_statsmodels_gls(X, y, corr_mat)"
   ]
  },
  {
   "cell_type": "code",
   "execution_count": 55,
   "id": "c998ce3f-f74f-4f44-bd20-13535e02ade9",
   "metadata": {},
   "outputs": [],
   "source": [
    "# print(_gls_results.summary())"
   ]
  },
  {
   "cell_type": "code",
   "execution_count": 56,
   "id": "afb778fd-651d-4090-9b12-ef1924809553",
   "metadata": {},
   "outputs": [],
   "source": [
    "# # print full numbers\n",
    "# with np.printoptions(threshold=sys.maxsize, precision=20):\n",
    "#     print(_gls_results.params.to_numpy())\n",
    "#     print(_gls_results.bse.to_numpy())\n",
    "#     print(_gls_results.tvalues.to_numpy())\n",
    "#     print(_gls_results.pvalues.to_numpy())"
   ]
  },
  {
   "cell_type": "markdown",
   "id": "2285b0e6-52c9-438c-bf7f-9263e562db47",
   "metadata": {},
   "source": [
    "## R gls"
   ]
  },
  {
   "cell_type": "code",
   "execution_count": 57,
   "id": "cb39e368-278a-4591-84ed-1872c6215097",
   "metadata": {},
   "outputs": [],
   "source": [
    "# training_data = pd.concat([X, y], axis=1)"
   ]
  },
  {
   "cell_type": "code",
   "execution_count": 58,
   "id": "3f348f64-74d6-4d4b-8265-72d9b09f8846",
   "metadata": {},
   "outputs": [],
   "source": [
    "# training_data"
   ]
  },
  {
   "cell_type": "code",
   "execution_count": 59,
   "id": "639f3505-1084-4ce1-bc22-9f6f3b15fe37",
   "metadata": {},
   "outputs": [],
   "source": [
    "# %load_ext rpy2.ipython"
   ]
  },
  {
   "cell_type": "code",
   "execution_count": 60,
   "id": "dd933134-4333-4435-904c-4848f654ab32",
   "metadata": {},
   "outputs": [],
   "source": [
    "# corr_mat_r = corr_mat.to_numpy()"
   ]
  },
  {
   "cell_type": "code",
   "execution_count": 61,
   "id": "893e76af-3e72-462c-9243-0a776c8ab58a",
   "metadata": {},
   "outputs": [],
   "source": [
    "# %Rpush corr_mat_r"
   ]
  },
  {
   "cell_type": "code",
   "execution_count": 62,
   "id": "3a3b16d9-0c6b-458f-86fc-7236004336ae",
   "metadata": {},
   "outputs": [],
   "source": [
    "# %%R -i training_data\n",
    "# library(nlme)\n",
    "\n",
    "# C <- corSymm(corr_mat_r[lower.tri(corr_mat_r)], fixed = T)\n",
    "\n",
    "# g <- gls(pvalue ~ LV1, correlation=C, data=training_data)"
   ]
  },
  {
   "cell_type": "code",
   "execution_count": 63,
   "id": "3a08e7b4-591d-429d-a7d6-1934a15f848e",
   "metadata": {},
   "outputs": [],
   "source": [
    "# %%R\n",
    "# summary(g)$tTable"
   ]
  },
  {
   "cell_type": "code",
   "execution_count": 64,
   "id": "82eab399-241d-41dd-99f1-d0ff8c356d6a",
   "metadata": {},
   "outputs": [],
   "source": [
    "# %%R -o r_gls_results\n",
    "# r_gls_results <- summary(g)$tTable"
   ]
  },
  {
   "cell_type": "code",
   "execution_count": 65,
   "id": "068146d1-23fe-4bb5-9fef-9839ee93928e",
   "metadata": {},
   "outputs": [],
   "source": [
    "# r_gls_results_df = pd.DataFrame(r_gls_results, index=[\"(Intercept)\", lv_code], columns=[\"Value\", \"Std.Error\", \"t-value\", \"p-value\"])"
   ]
  },
  {
   "cell_type": "code",
   "execution_count": 66,
   "id": "00a4ec12-2a2c-4960-8e5d-5159597ef8c6",
   "metadata": {},
   "outputs": [],
   "source": [
    "# r_gls_results_df"
   ]
  },
  {
   "cell_type": "code",
   "execution_count": 67,
   "id": "07c909ed-698c-4f98-8fc5-d5cbd45dc176",
   "metadata": {},
   "outputs": [],
   "source": [
    "# assert np.allclose(r_gls_results_df[\"Value\"].to_numpy().flatten(), _gls_results.params.values, atol=0.0, rtol=1e-5)"
   ]
  },
  {
   "cell_type": "code",
   "execution_count": 68,
   "id": "bd579639-cc22-4d70-a436-5f968dd81139",
   "metadata": {},
   "outputs": [],
   "source": [
    "# assert np.allclose(r_gls_results_df[\"Std.Error\"].to_numpy().flatten(), _gls_results.bse.values, atol=0.0, rtol=1e-5)"
   ]
  },
  {
   "cell_type": "code",
   "execution_count": 69,
   "id": "cfa583bc-8025-4598-9cd5-9863bb14f466",
   "metadata": {},
   "outputs": [],
   "source": [
    "# assert np.allclose(r_gls_results_df[\"t-value\"].to_numpy().flatten(), _gls_results.tvalues, atol=0.0, rtol=1e-5)"
   ]
  },
  {
   "cell_type": "code",
   "execution_count": 70,
   "id": "d080acec-610f-4f94-ad58-3bd21e4b2aa5",
   "metadata": {},
   "outputs": [],
   "source": [
    "# assert np.allclose(r_gls_results_df[\"p-value\"].to_numpy().flatten(), _gls_results.pvalues, atol=0.0, rtol=1e-5)"
   ]
  },
  {
   "cell_type": "markdown",
   "id": "342af9bf-8901-4955-aa77-24cab6528535",
   "metadata": {
    "papermill": {
     "duration": 0.012899,
     "end_time": "2022-07-11T13:23:15.569947",
     "exception": false,
     "start_time": "2022-07-11T13:23:15.557048",
     "status": "completed"
    },
    "tags": []
   },
   "source": [
    "# GLS on randomly generated phenotypes"
   ]
  },
  {
   "cell_type": "code",
   "execution_count": 78,
   "id": "e891f483-ce8d-4d9d-8aeb-4f251837812f",
   "metadata": {},
   "outputs": [],
   "source": [
    "PERC_NONZERO_GENES = 1.00"
   ]
  },
  {
   "cell_type": "markdown",
   "id": "8e89a38f-3586-43c6-a9e9-7f0364ae12c9",
   "metadata": {},
   "source": [
    "## Random phenotype 6 / LV45"
   ]
  },
  {
   "cell_type": "code",
   "execution_count": 79,
   "id": "331460e1-4722-4579-8dca-3cd337424bca",
   "metadata": {},
   "outputs": [
    {
     "data": {
      "text/plain": [
       "'multixcan-random_phenotype6-pvalues'"
      ]
     },
     "metadata": {},
     "output_type": "display_data"
    }
   ],
   "source": [
    "lv_code = \"LV45\"\n",
    "phenotype_code = 6\n",
    "\n",
    "phenotype_name = f\"multixcan-random_phenotype{phenotype_code}-pvalues\"\n",
    "display(phenotype_name)"
   ]
  },
  {
   "cell_type": "code",
   "execution_count": 80,
   "id": "d3e8b704-0d0f-4720-a98f-525b0c2bb300",
   "metadata": {},
   "outputs": [],
   "source": [
    "X, y = get_data(lv_code, random_phenotype_code=phenotype_code)\n",
    "corr_mat = get_aligned_corr_mat(X, PERC_NONZERO_GENES)\n",
    "\n",
    "Xs, ys = standardize_data(X, y)\n",
    "_gls_results = train_statsmodels_gls(Xs, ys, corr_mat)"
   ]
  },
  {
   "cell_type": "code",
   "execution_count": 81,
   "id": "f8795e2d-1f9c-4320-8a47-50d60c97bfe4",
   "metadata": {},
   "outputs": [
    {
     "name": "stdout",
     "output_type": "stream",
     "text": [
      "                            GLS Regression Results                            \n",
      "==============================================================================\n",
      "Dep. Variable:                      y   R-squared:                       0.000\n",
      "Model:                            GLS   Adj. R-squared:                  0.000\n",
      "Method:                 Least Squares   F-statistic:                     1.249\n",
      "Date:                Thu, 14 Jul 2022   Prob (F-statistic):              0.264\n",
      "Time:                        14:06:52   Log-Likelihood:                -9137.4\n",
      "No. Observations:                6442   AIC:                         1.828e+04\n",
      "Df Residuals:                    6440   BIC:                         1.829e+04\n",
      "Df Model:                           1                                         \n",
      "Covariance Type:            nonrobust                                         \n",
      "==============================================================================\n",
      "                 coef    std err          t      P>|t|      [0.025      0.975]\n",
      "------------------------------------------------------------------------------\n",
      "const          0.0002      0.013      0.017      0.987      -0.024       0.025\n",
      "LV45          -0.0130      0.012     -1.117      0.264      -0.036       0.010\n",
      "==============================================================================\n",
      "Omnibus:                     1100.608   Durbin-Watson:                   1.637\n",
      "Prob(Omnibus):                  0.000   Jarque-Bera (JB):             1884.344\n",
      "Skew:                           1.116   Prob(JB):                         0.00\n",
      "Kurtosis:                       4.426   Cond. No.                         1.08\n",
      "==============================================================================\n",
      "\n",
      "Notes:\n",
      "[1] Standard Errors assume that the covariance matrix of the errors is correctly specified.\n"
     ]
    }
   ],
   "source": [
    "print(_gls_results.summary())"
   ]
  },
  {
   "cell_type": "code",
   "execution_count": 82,
   "id": "c1597a73-4851-4dc9-a33d-a65d5a3ed9a7",
   "metadata": {},
   "outputs": [
    {
     "name": "stdout",
     "output_type": "stream",
     "text": [
      "-0.012985100862501646\n",
      "0.011620815913625014\n",
      "-1.117400099873973\n",
      "0.2638649762970155\n"
     ]
    }
   ],
   "source": [
    "# print full numbers\n",
    "with np.printoptions(threshold=sys.maxsize, precision=20):\n",
    "    print(_gls_results.params.to_numpy()[1])\n",
    "    print(_gls_results.bse.to_numpy()[1])\n",
    "    print(_gls_results.tvalues.to_numpy()[1])\n",
    "    print(_gls_results.pvalues.to_numpy()[1])"
   ]
  },
  {
   "cell_type": "code",
   "execution_count": 83,
   "id": "30428b4b-31ef-4ca5-aeb4-3e3ccbc9df38",
   "metadata": {},
   "outputs": [],
   "source": [
    "# save phenotype\n",
    "y.to_pickle(OUTPUT_DIR / f\"{phenotype_name}.pkl.xz\")"
   ]
  },
  {
   "cell_type": "code",
   "execution_count": 84,
   "id": "4b05b7dd-a60a-41ff-aa2c-0bbdb112d567",
   "metadata": {},
   "outputs": [
    {
     "data": {
      "text/plain": [
       "NOC2L       0.325533\n",
       "HES4        0.274247\n",
       "ISG15       1.189163\n",
       "AGRN        1.567185\n",
       "TNFRSF18    0.910990\n",
       "              ...   \n",
       "CPT1B       1.060302\n",
       "CHKB        1.820202\n",
       "MAPK8IP2    0.175087\n",
       "ARSA        0.432990\n",
       "SHANK3      0.315227\n",
       "Length: 6442, dtype: float64"
      ]
     },
     "execution_count": 84,
     "metadata": {},
     "output_type": "execute_result"
    }
   ],
   "source": [
    "y"
   ]
  },
  {
   "cell_type": "markdown",
   "id": "2ffb8be9-1756-4fba-92c7-5615e9452ac7",
   "metadata": {},
   "source": [
    "## Random phenotype 10 / LV10"
   ]
  },
  {
   "cell_type": "code",
   "execution_count": 101,
   "id": "88607958-3e35-4ba8-a481-658e17a57364",
   "metadata": {},
   "outputs": [
    {
     "data": {
      "text/plain": [
       "'multixcan-random_phenotype10-pvalues'"
      ]
     },
     "metadata": {},
     "output_type": "display_data"
    }
   ],
   "source": [
    "lv_code = \"LV100\"\n",
    "phenotype_code = 10\n",
    "\n",
    "phenotype_name = f\"multixcan-random_phenotype{phenotype_code}-pvalues\"\n",
    "display(phenotype_name)"
   ]
  },
  {
   "cell_type": "code",
   "execution_count": 102,
   "id": "46b748b9-4449-407d-bff5-e542335b52be",
   "metadata": {},
   "outputs": [],
   "source": [
    "X, y = get_data(lv_code, random_phenotype_code=phenotype_code)\n",
    "corr_mat = get_aligned_corr_mat(X, PERC_NONZERO_GENES)\n",
    "\n",
    "Xs, ys = standardize_data(X, y)\n",
    "_gls_results = train_statsmodels_gls(Xs, ys, corr_mat)"
   ]
  },
  {
   "cell_type": "code",
   "execution_count": 103,
   "id": "a04b410a-6c1f-447b-b7a6-5b35352835fa",
   "metadata": {},
   "outputs": [
    {
     "name": "stdout",
     "output_type": "stream",
     "text": [
      "                            GLS Regression Results                            \n",
      "==============================================================================\n",
      "Dep. Variable:                      y   R-squared:                       0.000\n",
      "Model:                            GLS   Adj. R-squared:                 -0.000\n",
      "Method:                 Least Squares   F-statistic:                 4.829e-06\n",
      "Date:                Thu, 14 Jul 2022   Prob (F-statistic):              0.998\n",
      "Time:                        14:18:25   Log-Likelihood:                -8974.5\n",
      "No. Observations:                6442   AIC:                         1.795e+04\n",
      "Df Residuals:                    6440   BIC:                         1.797e+04\n",
      "Df Model:                           1                                         \n",
      "Covariance Type:            nonrobust                                         \n",
      "==============================================================================\n",
      "                 coef    std err          t      P>|t|      [0.025      0.975]\n",
      "------------------------------------------------------------------------------\n",
      "const          0.0092      0.014      0.676      0.499      -0.017       0.036\n",
      "LV100       6.009e-08   2.73e-05      0.002      0.998   -5.35e-05    5.37e-05\n",
      "==============================================================================\n",
      "Omnibus:                      915.706   Durbin-Watson:                   1.718\n",
      "Prob(Omnibus):                  0.000   Jarque-Bera (JB):             1396.907\n",
      "Skew:                           1.017   Prob(JB):                    4.63e-304\n",
      "Kurtosis:                       4.034   Cond. No.                         498.\n",
      "==============================================================================\n",
      "\n",
      "Notes:\n",
      "[1] Standard Errors assume that the covariance matrix of the errors is correctly specified.\n"
     ]
    }
   ],
   "source": [
    "print(_gls_results.summary())"
   ]
  },
  {
   "cell_type": "code",
   "execution_count": 104,
   "id": "f081badb-7feb-4aee-9ad7-210442a6bc4a",
   "metadata": {},
   "outputs": [
    {
     "name": "stdout",
     "output_type": "stream",
     "text": [
      "6.008877267380782e-08\n",
      "2.7345042158271415e-05\n",
      "0.0021974284159453007\n",
      "0.9982467752659725\n"
     ]
    }
   ],
   "source": [
    "# print full numbers\n",
    "with np.printoptions(threshold=sys.maxsize, precision=20):\n",
    "    print(_gls_results.params.to_numpy()[1])\n",
    "    print(_gls_results.bse.to_numpy()[1])\n",
    "    print(_gls_results.tvalues.to_numpy()[1])\n",
    "    print(_gls_results.pvalues.to_numpy()[1])"
   ]
  },
  {
   "cell_type": "code",
   "execution_count": 105,
   "id": "a3c4911b-e6e6-4fcb-b4ef-a2141ed9fd71",
   "metadata": {},
   "outputs": [],
   "source": [
    "# save phenotype\n",
    "y.to_pickle(OUTPUT_DIR / f\"{phenotype_name}.pkl.xz\")"
   ]
  },
  {
   "cell_type": "code",
   "execution_count": 106,
   "id": "2a03d75c-d45b-4870-b6d1-3b3f59f78a00",
   "metadata": {},
   "outputs": [
    {
     "data": {
      "text/plain": [
       "NOC2L       0.679536\n",
       "HES4        2.495365\n",
       "ISG15       1.892361\n",
       "AGRN        1.428397\n",
       "TNFRSF18    0.390039\n",
       "              ...   \n",
       "CPT1B       0.388832\n",
       "CHKB        0.377164\n",
       "MAPK8IP2    0.466494\n",
       "ARSA        0.379426\n",
       "SHANK3      0.516225\n",
       "Length: 6442, dtype: float64"
      ]
     },
     "execution_count": 106,
     "metadata": {},
     "output_type": "execute_result"
    }
   ],
   "source": [
    "y"
   ]
  },
  {
   "cell_type": "markdown",
   "id": "e83ddcff-2a18-4846-9920-3fb4ef46ef16",
   "metadata": {},
   "source": [
    "## Random phenotype 0 / LV800"
   ]
  },
  {
   "cell_type": "code",
   "execution_count": 119,
   "id": "37abcf6c-7291-45e6-85b9-4bfbea650413",
   "metadata": {},
   "outputs": [
    {
     "data": {
      "text/plain": [
       "'multixcan-random_phenotype0-pvalues'"
      ]
     },
     "metadata": {},
     "output_type": "display_data"
    }
   ],
   "source": [
    "lv_code = \"LV800\"\n",
    "phenotype_code = 0\n",
    "\n",
    "phenotype_name = f\"multixcan-random_phenotype{phenotype_code}-pvalues\"\n",
    "display(phenotype_name)"
   ]
  },
  {
   "cell_type": "code",
   "execution_count": 120,
   "id": "117943ff-df05-422e-ba29-5642b8c4e324",
   "metadata": {},
   "outputs": [],
   "source": [
    "X, y = get_data(lv_code, random_phenotype_code=phenotype_code)\n",
    "corr_mat = get_aligned_corr_mat(X, PERC_NONZERO_GENES)\n",
    "\n",
    "Xs, ys = standardize_data(X, y)\n",
    "_gls_results = train_statsmodels_gls(Xs, ys, corr_mat)"
   ]
  },
  {
   "cell_type": "code",
   "execution_count": 121,
   "id": "23065184-7d4a-4995-b8c8-b09cb828c858",
   "metadata": {},
   "outputs": [
    {
     "name": "stdout",
     "output_type": "stream",
     "text": [
      "                            GLS Regression Results                            \n",
      "==============================================================================\n",
      "Dep. Variable:                      y   R-squared:                       0.000\n",
      "Model:                            GLS   Adj. R-squared:                 -0.000\n",
      "Method:                 Least Squares   F-statistic:                    0.1969\n",
      "Date:                Thu, 14 Jul 2022   Prob (F-statistic):              0.657\n",
      "Time:                        14:22:16   Log-Likelihood:                -9062.0\n",
      "No. Observations:                6442   AIC:                         1.813e+04\n",
      "Df Residuals:                    6440   BIC:                         1.814e+04\n",
      "Df Model:                           1                                         \n",
      "Covariance Type:            nonrobust                                         \n",
      "==============================================================================\n",
      "                 coef    std err          t      P>|t|      [0.025      0.975]\n",
      "------------------------------------------------------------------------------\n",
      "const          0.0013      0.013      0.102      0.919      -0.024       0.027\n",
      "LV800          0.0061      0.014      0.444      0.657      -0.021       0.033\n",
      "==============================================================================\n",
      "Omnibus:                     1034.815   Durbin-Watson:                   1.696\n",
      "Prob(Omnibus):                  0.000   Jarque-Bera (JB):             1707.061\n",
      "Skew:                           1.078   Prob(JB):                         0.00\n",
      "Kurtosis:                       4.309   Cond. No.                         1.12\n",
      "==============================================================================\n",
      "\n",
      "Notes:\n",
      "[1] Standard Errors assume that the covariance matrix of the errors is correctly specified.\n"
     ]
    }
   ],
   "source": [
    "print(_gls_results.summary())"
   ]
  },
  {
   "cell_type": "code",
   "execution_count": 122,
   "id": "86c32e02-4987-4f2a-a7b6-7f40497fc44e",
   "metadata": {},
   "outputs": [
    {
     "name": "stdout",
     "output_type": "stream",
     "text": [
      "0.006103958765364128\n",
      "0.013754152651896586\n",
      "0.4437902442883271\n",
      "0.6572091521023612\n"
     ]
    }
   ],
   "source": [
    "# print full numbers\n",
    "with np.printoptions(threshold=sys.maxsize, precision=20):\n",
    "    print(_gls_results.params.to_numpy()[1])\n",
    "    print(_gls_results.bse.to_numpy()[1])\n",
    "    print(_gls_results.tvalues.to_numpy()[1])\n",
    "    print(_gls_results.pvalues.to_numpy()[1])"
   ]
  },
  {
   "cell_type": "code",
   "execution_count": 123,
   "id": "18abe500-4216-4017-a54d-ed6aec63e18e",
   "metadata": {},
   "outputs": [],
   "source": [
    "# save phenotype\n",
    "y.to_pickle(OUTPUT_DIR / f\"{phenotype_name}.pkl.xz\")"
   ]
  },
  {
   "cell_type": "code",
   "execution_count": 124,
   "id": "f2d462a7-a2c1-4224-8267-985954ba636d",
   "metadata": {},
   "outputs": [
    {
     "data": {
      "text/plain": [
       "NOC2L       1.192661\n",
       "HES4        0.615835\n",
       "ISG15       1.388647\n",
       "AGRN        0.098554\n",
       "TNFRSF18    0.085000\n",
       "              ...   \n",
       "CPT1B       0.060585\n",
       "CHKB        0.265594\n",
       "MAPK8IP2    0.940106\n",
       "ARSA        1.460604\n",
       "SHANK3      0.015885\n",
       "Length: 6442, dtype: float64"
      ]
     },
     "execution_count": 124,
     "metadata": {},
     "output_type": "execute_result"
    }
   ],
   "source": [
    "y"
   ]
  },
  {
   "cell_type": "markdown",
   "id": "cff49c9c-e1fc-424a-9abd-fac903e5b02a",
   "metadata": {
    "papermill": {
     "duration": 0.012899,
     "end_time": "2022-07-11T13:23:15.569947",
     "exception": false,
     "start_time": "2022-07-11T13:23:15.557048",
     "status": "completed"
    },
    "tags": []
   },
   "source": [
    "# GLS on real phenotypes"
   ]
  },
  {
   "cell_type": "code",
   "execution_count": 125,
   "id": "eeecfcc6-b010-47f3-9f34-24ea22f3b88e",
   "metadata": {},
   "outputs": [
    {
     "data": {
      "text/plain": [
       "Index(['100001_raw-Food_weight', '100002_raw-Energy', '100003_raw-Protein',\n",
       "       '100004_raw-Fat', '100005_raw-Carbohydrate', '100006_raw-Saturated_fat',\n",
       "       '100007_raw-Polyunsaturated_fat', '100008_raw-Total_sugars',\n",
       "       '100009_raw-Englyst_dietary_fibre', '100010-Portion_size',\n",
       "       ...\n",
       "       'visual impairment', 'vitiligo', 'vitreous body disease',\n",
       "       'vocal cord polyp', 'voice disorders',\n",
       "       'wellbeing measurement AND family relationship', 'wheezing',\n",
       "       'whooping cough', 'worry measurement', 'wrist fracture'],\n",
       "      dtype='object', length=3752)"
      ]
     },
     "execution_count": 125,
     "metadata": {},
     "output_type": "execute_result"
    }
   ],
   "source": [
    "multixcan_real_results.columns"
   ]
  },
  {
   "cell_type": "markdown",
   "id": "324f39f6-33f2-4d51-b7de-015b6184b53d",
   "metadata": {},
   "source": [
    "## whooping cough / LV570"
   ]
  },
  {
   "cell_type": "code",
   "execution_count": 140,
   "id": "9fb22ddc-4653-420c-9ac1-40bf8189b0f0",
   "metadata": {},
   "outputs": [
    {
     "data": {
      "text/plain": [
       "'multixcan-phenomexcan-whooping_cough-pvalues'"
      ]
     },
     "metadata": {},
     "output_type": "display_data"
    }
   ],
   "source": [
    "lv_code = \"LV570\"\n",
    "phenotype_code = \"whooping cough\"\n",
    "\n",
    "phenotype_name = f\"multixcan-phenomexcan-{phenotype_code.replace(' ', '_')}-pvalues\"\n",
    "display(phenotype_name)"
   ]
  },
  {
   "cell_type": "code",
   "execution_count": 141,
   "id": "1c00282e-ddff-4516-a19a-ef22afd9f9cc",
   "metadata": {},
   "outputs": [],
   "source": [
    "X, y = get_data(lv_code, real_phenotype_code=phenotype_code)\n",
    "corr_mat = get_aligned_corr_mat(X, PERC_NONZERO_GENES)\n",
    "\n",
    "Xs, ys = standardize_data(X, y)\n",
    "_gls_results = train_statsmodels_gls(Xs, ys, corr_mat)"
   ]
  },
  {
   "cell_type": "code",
   "execution_count": 142,
   "id": "899485df-d693-432b-a8bd-455892a4c8dd",
   "metadata": {},
   "outputs": [
    {
     "name": "stdout",
     "output_type": "stream",
     "text": [
      "                            GLS Regression Results                            \n",
      "==============================================================================\n",
      "Dep. Variable:         whooping cough   R-squared:                       0.000\n",
      "Model:                            GLS   Adj. R-squared:                 -0.000\n",
      "Method:                 Least Squares   F-statistic:                    0.9445\n",
      "Date:                Thu, 14 Jul 2022   Prob (F-statistic):              0.331\n",
      "Time:                        14:27:06   Log-Likelihood:                -9095.1\n",
      "No. Observations:                6450   AIC:                         1.819e+04\n",
      "Df Residuals:                    6448   BIC:                         1.821e+04\n",
      "Df Model:                           1                                         \n",
      "Covariance Type:            nonrobust                                         \n",
      "==============================================================================\n",
      "                 coef    std err          t      P>|t|      [0.025      0.975]\n",
      "------------------------------------------------------------------------------\n",
      "const         -0.0036      0.013     -0.273      0.785      -0.029       0.022\n",
      "LV570          0.0101      0.010      0.972      0.331      -0.010       0.030\n",
      "==============================================================================\n",
      "Omnibus:                      923.550   Durbin-Watson:                   1.686\n",
      "Prob(Omnibus):                  0.000   Jarque-Bera (JB):             1414.354\n",
      "Skew:                           1.021   Prob(JB):                    7.53e-308\n",
      "Kurtosis:                       4.047   Cond. No.                         1.27\n",
      "==============================================================================\n",
      "\n",
      "Notes:\n",
      "[1] Standard Errors assume that the covariance matrix of the errors is correctly specified.\n"
     ]
    }
   ],
   "source": [
    "print(_gls_results.summary())"
   ]
  },
  {
   "cell_type": "code",
   "execution_count": 143,
   "id": "070170db-3271-47bf-bd05-c7cb74b86801",
   "metadata": {},
   "outputs": [
    {
     "name": "stdout",
     "output_type": "stream",
     "text": [
      "0.010052199503207914\n",
      "0.010343425212644251\n",
      "0.971844364565006\n",
      "0.3311644354099884\n"
     ]
    }
   ],
   "source": [
    "# print full numbers\n",
    "with np.printoptions(threshold=sys.maxsize, precision=20):\n",
    "    print(_gls_results.params.to_numpy()[1])\n",
    "    print(_gls_results.bse.to_numpy()[1])\n",
    "    print(_gls_results.tvalues.to_numpy()[1])\n",
    "    print(_gls_results.pvalues.to_numpy()[1])"
   ]
  },
  {
   "cell_type": "code",
   "execution_count": 144,
   "id": "a1d96a22-54d1-4a3c-b4f2-29649de888d6",
   "metadata": {},
   "outputs": [],
   "source": [
    "# save phenotype\n",
    "y.to_pickle(OUTPUT_DIR / f\"{phenotype_name}.pkl.xz\")"
   ]
  },
  {
   "cell_type": "code",
   "execution_count": 145,
   "id": "cd4242c6-f596-4f1c-bed1-f95692fc53f8",
   "metadata": {},
   "outputs": [
    {
     "data": {
      "text/plain": [
       "NOC2L       1.301498\n",
       "HES4        0.491604\n",
       "ISG15       0.300490\n",
       "AGRN        1.595415\n",
       "TNFRSF18    0.362178\n",
       "              ...   \n",
       "CPT1B       0.283934\n",
       "CHKB        0.621814\n",
       "MAPK8IP2    0.479153\n",
       "ARSA        0.274866\n",
       "SHANK3      1.125992\n",
       "Name: whooping cough, Length: 6450, dtype: float64"
      ]
     },
     "execution_count": 145,
     "metadata": {},
     "output_type": "execute_result"
    }
   ],
   "source": [
    "y"
   ]
  },
  {
   "cell_type": "markdown",
   "id": "eccaf7f0-0ce8-4970-9882-3c9aef7a7e16",
   "metadata": {},
   "source": [
    "## wheezing and LV400"
   ]
  },
  {
   "cell_type": "code",
   "execution_count": 164,
   "id": "29103834-d6ca-4ef8-b477-f3f3b65d3c8e",
   "metadata": {},
   "outputs": [
    {
     "data": {
      "text/plain": [
       "'multixcan-phenomexcan-wheezing-pvalues'"
      ]
     },
     "metadata": {},
     "output_type": "display_data"
    }
   ],
   "source": [
    "lv_code = \"LV400\"\n",
    "phenotype_code = \"wheezing\"\n",
    "\n",
    "phenotype_name = f\"multixcan-phenomexcan-{phenotype_code.replace(' ', '_')}-pvalues\"\n",
    "display(phenotype_name)"
   ]
  },
  {
   "cell_type": "code",
   "execution_count": 165,
   "id": "a65ff306-535b-4253-9a3b-72c1ec9ec25c",
   "metadata": {},
   "outputs": [],
   "source": [
    "X, y = get_data(lv_code, real_phenotype_code=phenotype_code)\n",
    "corr_mat = get_aligned_corr_mat(X, PERC_NONZERO_GENES)\n",
    "\n",
    "Xs, ys = standardize_data(X, y)\n",
    "_gls_results = train_statsmodels_gls(Xs, ys, corr_mat)"
   ]
  },
  {
   "cell_type": "code",
   "execution_count": 166,
   "id": "bd4a1eb9-d71e-4475-87ca-ff8d9012c7b7",
   "metadata": {},
   "outputs": [
    {
     "name": "stdout",
     "output_type": "stream",
     "text": [
      "                            GLS Regression Results                            \n",
      "==============================================================================\n",
      "Dep. Variable:               wheezing   R-squared:                       0.010\n",
      "Model:                            GLS   Adj. R-squared:                  0.009\n",
      "Method:                 Least Squares   F-statistic:                     62.81\n",
      "Date:                Thu, 14 Jul 2022   Prob (F-statistic):           2.67e-15\n",
      "Time:                        14:34:48   Log-Likelihood:                -9568.4\n",
      "No. Observations:                6450   AIC:                         1.914e+04\n",
      "Df Residuals:                    6448   BIC:                         1.915e+04\n",
      "Df Model:                           1                                         \n",
      "Covariance Type:            nonrobust                                         \n",
      "==============================================================================\n",
      "                 coef    std err          t      P>|t|      [0.025      0.975]\n",
      "------------------------------------------------------------------------------\n",
      "const         -0.0234      0.014     -1.625      0.104      -0.052       0.005\n",
      "LV400         -0.0950      0.012     -7.925      0.000      -0.119      -0.072\n",
      "==============================================================================\n",
      "Omnibus:                     9430.988   Durbin-Watson:                   1.520\n",
      "Prob(Omnibus):                  0.000   Jarque-Bera (JB):         16432311.544\n",
      "Skew:                           8.160   Prob(JB):                         0.00\n",
      "Kurtosis:                     249.733   Cond. No.                         1.20\n",
      "==============================================================================\n",
      "\n",
      "Notes:\n",
      "[1] Standard Errors assume that the covariance matrix of the errors is correctly specified.\n"
     ]
    }
   ],
   "source": [
    "print(_gls_results.summary())"
   ]
  },
  {
   "cell_type": "code",
   "execution_count": 167,
   "id": "415ac124-7d2c-4573-bf5d-e7dc0eccac5c",
   "metadata": {},
   "outputs": [
    {
     "name": "stdout",
     "output_type": "stream",
     "text": [
      "-0.09501682279807443\n",
      "0.01198940412636518\n",
      "-7.925066316609398\n",
      "2.6672597928016686e-15\n"
     ]
    }
   ],
   "source": [
    "# print full numbers\n",
    "with np.printoptions(threshold=sys.maxsize, precision=20):\n",
    "    print(_gls_results.params.to_numpy()[1])\n",
    "    print(_gls_results.bse.to_numpy()[1])\n",
    "    print(_gls_results.tvalues.to_numpy()[1])\n",
    "    print(_gls_results.pvalues.to_numpy()[1])"
   ]
  },
  {
   "cell_type": "code",
   "execution_count": 168,
   "id": "ca0cd886-0da1-4434-8a66-e7b82e1fbdeb",
   "metadata": {},
   "outputs": [],
   "source": [
    "# save phenotype\n",
    "y.to_pickle(OUTPUT_DIR / f\"{phenotype_name}.pkl.xz\")"
   ]
  },
  {
   "cell_type": "code",
   "execution_count": 169,
   "id": "93d0dc9e-1990-4944-b14a-0b74f3692040",
   "metadata": {},
   "outputs": [
    {
     "data": {
      "text/plain": [
       "NOC2L       2.745848\n",
       "HES4        0.208291\n",
       "ISG15       0.136734\n",
       "AGRN        0.229924\n",
       "TNFRSF18    0.408283\n",
       "              ...   \n",
       "CPT1B       0.483466\n",
       "CHKB        0.264246\n",
       "MAPK8IP2    0.709193\n",
       "ARSA        0.786883\n",
       "SHANK3      0.404021\n",
       "Name: wheezing, Length: 6450, dtype: float64"
      ]
     },
     "execution_count": 169,
     "metadata": {},
     "output_type": "execute_result"
    }
   ],
   "source": [
    "y"
   ]
  },
  {
   "cell_type": "code",
   "execution_count": null,
   "id": "d309ef59-6ac1-4362-a027-9ab01a5530c9",
   "metadata": {},
   "outputs": [],
   "source": []
  }
 ],
 "metadata": {
  "jupytext": {
   "cell_metadata_filter": "all,-execution,-papermill,-trusted",
   "formats": "ipynb,py//py:percent"
  },
  "kernelspec": {
   "display_name": "Python 3 (ipykernel)",
   "language": "python",
   "name": "python3"
  },
  "language_info": {
   "codemirror_mode": {
    "name": "ipython",
    "version": 3
   },
   "file_extension": ".py",
   "mimetype": "text/x-python",
   "name": "python",
   "nbconvert_exporter": "python",
   "pygments_lexer": "ipython3",
   "version": "3.8.13"
  },
  "papermill": {
   "default_parameters": {},
   "duration": 171.690116,
   "end_time": "2022-07-11T13:24:57.694597",
   "environment_variables": {},
   "exception": null,
   "input_path": "nbs/15_gsa_gls/15-postprocess_gene_expr_correlations.ipynb",
   "output_path": "nbs/15_gsa_gls/gene_corrs/1000g/mashr/15-postprocess_gene_expr_correlations.ipynb",
   "parameters": {
    "EQTL_MODEL": "MASHR",
    "REFERENCE_PANEL": "1000G"
   },
   "start_time": "2022-07-11T13:22:06.004481",
   "version": "2.2.2"
  },
  "toc-autonumbering": true
 },
 "nbformat": 4,
 "nbformat_minor": 5
}
