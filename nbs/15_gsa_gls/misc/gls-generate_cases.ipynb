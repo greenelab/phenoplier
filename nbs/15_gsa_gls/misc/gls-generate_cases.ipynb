{
 "cells": [
  {
   "cell_type": "markdown",
   "id": "5ef66977",
   "metadata": {
    "papermill": {
     "duration": 0.010512,
     "end_time": "2022-07-11T13:22:07.207937",
     "exception": false,
     "start_time": "2022-07-11T13:22:07.197425",
     "status": "completed"
    },
    "tags": []
   },
   "source": [
    "# Description"
   ]
  },
  {
   "cell_type": "markdown",
   "id": "658d4f7c",
   "metadata": {
    "papermill": {
     "duration": 0.007193,
     "end_time": "2022-07-11T13:22:07.222297",
     "exception": false,
     "start_time": "2022-07-11T13:22:07.215104",
     "status": "completed"
    },
    "tags": []
   },
   "source": [
    "(Please, take a look at the README.md file in this directory for instructions on how to run this notebook)\n",
    "\n",
    "This notebook reads all gene correlations across all chromosomes and computes a single correlation matrix by assembling a big correlation matrix with all genes."
   ]
  },
  {
   "cell_type": "markdown",
   "id": "60fa4530",
   "metadata": {
    "papermill": {
     "duration": 0.007062,
     "end_time": "2022-07-11T13:22:07.236433",
     "exception": false,
     "start_time": "2022-07-11T13:22:07.229371",
     "status": "completed"
    },
    "tags": []
   },
   "source": [
    "# Modules"
   ]
  },
  {
   "cell_type": "code",
   "execution_count": 1,
   "id": "d70b0833",
   "metadata": {
    "papermill": {
     "duration": 0.023639,
     "end_time": "2022-07-11T13:22:07.267099",
     "exception": false,
     "start_time": "2022-07-11T13:22:07.243460",
     "status": "completed"
    },
    "tags": []
   },
   "outputs": [],
   "source": [
    "%load_ext autoreload\n",
    "%autoreload 2"
   ]
  },
  {
   "cell_type": "code",
   "execution_count": 2,
   "id": "6b2f9ca0",
   "metadata": {
    "papermill": {
     "duration": 0.815336,
     "end_time": "2022-07-11T13:22:08.117525",
     "exception": false,
     "start_time": "2022-07-11T13:22:07.302189",
     "status": "completed"
    },
    "tags": []
   },
   "outputs": [],
   "source": [
    "import sys\n",
    "\n",
    "import numpy as np\n",
    "from scipy.spatial.distance import squareform\n",
    "import pandas as pd\n",
    "from scipy import stats\n",
    "import matplotlib.pyplot as plt\n",
    "import seaborn as sns\n",
    "\n",
    "import conf\n",
    "import utils\n",
    "from entity import Gene"
   ]
  },
  {
   "cell_type": "markdown",
   "id": "5b96e797",
   "metadata": {
    "papermill": {
     "duration": 0.007353,
     "end_time": "2022-07-11T13:22:08.132804",
     "exception": false,
     "start_time": "2022-07-11T13:22:08.125451",
     "status": "completed"
    },
    "tags": []
   },
   "source": [
    "# Settings"
   ]
  },
  {
   "cell_type": "code",
   "execution_count": 3,
   "id": "4fc1b6a0",
   "metadata": {
    "papermill": {
     "duration": 0.02389,
     "end_time": "2022-07-11T13:22:08.163791",
     "exception": false,
     "start_time": "2022-07-11T13:22:08.139901",
     "status": "completed"
    },
    "tags": [
     "parameters"
    ]
   },
   "outputs": [],
   "source": [
    "# reference panel\n",
    "REFERENCE_PANEL = \"GTEX_V8\"\n",
    "# REFERENCE_PANEL = \"1000G\"\n",
    "\n",
    "# prediction models\n",
    "## mashr\n",
    "EQTL_MODEL = \"MASHR\"\n",
    "EQTL_MODEL_FILES_PREFIX = \"mashr_\"\n",
    "\n",
    "# ## elastic net\n",
    "# EQTL_MODEL = \"ELASTIC_NET\"\n",
    "# EQTL_MODEL_FILES_PREFIX = \"en_\"\n",
    "\n",
    "# make it read the prefix from conf.py\n",
    "EQTL_MODEL_FILES_PREFIX = None"
   ]
  },
  {
   "cell_type": "code",
   "execution_count": 4,
   "id": "1bbdf463",
   "metadata": {
    "lines_to_next_cell": 2,
    "papermill": {
     "duration": 0.023396,
     "end_time": "2022-07-11T13:22:08.194824",
     "exception": false,
     "start_time": "2022-07-11T13:22:08.171428",
     "status": "completed"
    },
    "tags": [
     "injected-parameters"
    ]
   },
   "outputs": [],
   "source": [
    "# Parameters\n",
    "REFERENCE_PANEL = \"1000G\"\n",
    "EQTL_MODEL = \"MASHR\""
   ]
  },
  {
   "cell_type": "code",
   "execution_count": 5,
   "id": "92e6297a",
   "metadata": {
    "papermill": {
     "duration": 0.02466,
     "end_time": "2022-07-11T13:22:08.227356",
     "exception": false,
     "start_time": "2022-07-11T13:22:08.202696",
     "status": "completed"
    },
    "tags": []
   },
   "outputs": [],
   "source": [
    "if EQTL_MODEL_FILES_PREFIX is None:\n",
    "    EQTL_MODEL_FILES_PREFIX = conf.PHENOMEXCAN[\"PREDICTION_MODELS\"][\n",
    "        f\"{EQTL_MODEL}_PREFIX\"\n",
    "    ]"
   ]
  },
  {
   "cell_type": "code",
   "execution_count": 6,
   "id": "c76e4f93",
   "metadata": {
    "papermill": {
     "duration": 0.026034,
     "end_time": "2022-07-11T13:22:08.261147",
     "exception": false,
     "start_time": "2022-07-11T13:22:08.235113",
     "status": "completed"
    },
    "tags": []
   },
   "outputs": [
    {
     "data": {
      "text/plain": [
       "'Using eQTL model: MASHR / mashr_'"
      ]
     },
     "metadata": {},
     "output_type": "display_data"
    }
   ],
   "source": [
    "display(f\"Using eQTL model: {EQTL_MODEL} / {EQTL_MODEL_FILES_PREFIX}\")"
   ]
  },
  {
   "cell_type": "code",
   "execution_count": 7,
   "id": "8b85565e-d749-42a9-840d-794f535503ce",
   "metadata": {
    "papermill": {
     "duration": 0.024124,
     "end_time": "2022-07-11T13:22:08.293201",
     "exception": false,
     "start_time": "2022-07-11T13:22:08.269077",
     "status": "completed"
    },
    "tags": []
   },
   "outputs": [],
   "source": [
    "REFERENCE_PANEL_DIR = conf.PHENOMEXCAN[\"LD_BLOCKS\"][f\"{REFERENCE_PANEL}_GENOTYPE_DIR\"]"
   ]
  },
  {
   "cell_type": "code",
   "execution_count": 8,
   "id": "7d88b555-08c0-4a85-94e1-c7679a361093",
   "metadata": {
    "papermill": {
     "duration": 0.024695,
     "end_time": "2022-07-11T13:22:08.325817",
     "exception": false,
     "start_time": "2022-07-11T13:22:08.301122",
     "status": "completed"
    },
    "tags": []
   },
   "outputs": [
    {
     "data": {
      "text/plain": [
       "'Using reference panel folder: /opt/data/data/phenomexcan/ld_blocks/reference_panel_1000G'"
      ]
     },
     "metadata": {},
     "output_type": "display_data"
    }
   ],
   "source": [
    "display(f\"Using reference panel folder: {str(REFERENCE_PANEL_DIR)}\")"
   ]
  },
  {
   "cell_type": "code",
   "execution_count": 9,
   "id": "ac0c0705-90e4-42f8-8298-a457c7e778ff",
   "metadata": {
    "papermill": {
     "duration": 0.026136,
     "end_time": "2022-07-11T13:22:08.360188",
     "exception": false,
     "start_time": "2022-07-11T13:22:08.334052",
     "status": "completed"
    },
    "tags": []
   },
   "outputs": [
    {
     "data": {
      "text/plain": [
       "PosixPath('/opt/data/data/phenomexcan/ld_blocks/gene_corrs/1000g/mashr')"
      ]
     },
     "metadata": {},
     "output_type": "display_data"
    }
   ],
   "source": [
    "OUTPUT_DIR_BASE = (\n",
    "    conf.PHENOMEXCAN[\"LD_BLOCKS\"][f\"GENE_CORRS_DIR\"]\n",
    "    / REFERENCE_PANEL.lower()\n",
    "    / EQTL_MODEL.lower()\n",
    ")\n",
    "display(OUTPUT_DIR_BASE)\n",
    "OUTPUT_DIR_BASE.mkdir(parents=True, exist_ok=True)"
   ]
  },
  {
   "cell_type": "code",
   "execution_count": 10,
   "id": "91e9b1f6-954d-494f-9ace-c2c9dfc74d4f",
   "metadata": {
    "papermill": {
     "duration": 0.02494,
     "end_time": "2022-07-11T13:22:08.393412",
     "exception": false,
     "start_time": "2022-07-11T13:22:08.368472",
     "status": "completed"
    },
    "tags": []
   },
   "outputs": [
    {
     "data": {
      "text/plain": [
       "'Using output dir base: /opt/data/data/phenomexcan/ld_blocks/gene_corrs/1000g/mashr'"
      ]
     },
     "metadata": {},
     "output_type": "display_data"
    }
   ],
   "source": [
    "display(f\"Using output dir base: {OUTPUT_DIR_BASE}\")"
   ]
  },
  {
   "cell_type": "code",
   "execution_count": 11,
   "id": "0949e7ac-1952-4552-9ee9-4f289cd40583",
   "metadata": {},
   "outputs": [
    {
     "data": {
      "text/plain": [
       "PosixPath('/opt/code/tests/data/gls')"
      ]
     },
     "metadata": {},
     "output_type": "display_data"
    }
   ],
   "source": [
    "OUTPUT_DIR = utils.get_git_repository_path() / \"tests\" / \"data\" / \"gls\"\n",
    "display(OUTPUT_DIR)\n",
    "assert OUTPUT_DIR.exists()"
   ]
  },
  {
   "cell_type": "markdown",
   "id": "99ccb166",
   "metadata": {
    "papermill": {
     "duration": 0.008141,
     "end_time": "2022-07-11T13:22:08.443463",
     "exception": false,
     "start_time": "2022-07-11T13:22:08.435322",
     "status": "completed"
    },
    "tags": []
   },
   "source": [
    "# Load data"
   ]
  },
  {
   "cell_type": "markdown",
   "id": "46ae0b3e",
   "metadata": {
    "papermill": {
     "duration": 0.008625,
     "end_time": "2022-07-11T13:22:08.646659",
     "exception": false,
     "start_time": "2022-07-11T13:22:08.638034",
     "status": "completed"
    },
    "tags": []
   },
   "source": [
    "## MultiPLIER Z"
   ]
  },
  {
   "cell_type": "code",
   "execution_count": 12,
   "id": "d38d9749",
   "metadata": {
    "papermill": {
     "duration": 0.050011,
     "end_time": "2022-07-11T13:22:08.705065",
     "exception": false,
     "start_time": "2022-07-11T13:22:08.655054",
     "status": "completed"
    },
    "tags": []
   },
   "outputs": [],
   "source": [
    "multiplier_z = pd.read_pickle(conf.MULTIPLIER[\"MODEL_Z_MATRIX_FILE\"])"
   ]
  },
  {
   "cell_type": "code",
   "execution_count": 13,
   "id": "2dd5031b-7d59-4b87-8e76-0ca4436a945a",
   "metadata": {
    "papermill": {
     "duration": 0.050011,
     "end_time": "2022-07-11T13:22:08.705065",
     "exception": false,
     "start_time": "2022-07-11T13:22:08.655054",
     "status": "completed"
    },
    "tags": []
   },
   "outputs": [],
   "source": [
    "multiplier_z_genes = multiplier_z.index.tolist()"
   ]
  },
  {
   "cell_type": "code",
   "execution_count": 14,
   "id": "67e93797",
   "metadata": {
    "papermill": {
     "duration": 0.026612,
     "end_time": "2022-07-11T13:22:08.741377",
     "exception": false,
     "start_time": "2022-07-11T13:22:08.714765",
     "status": "completed"
    },
    "tags": []
   },
   "outputs": [
    {
     "data": {
      "text/plain": [
       "6750"
      ]
     },
     "execution_count": 14,
     "metadata": {},
     "output_type": "execute_result"
    }
   ],
   "source": [
    "len(multiplier_z_genes)"
   ]
  },
  {
   "cell_type": "code",
   "execution_count": 15,
   "id": "e1ba1ead",
   "metadata": {
    "papermill": {
     "duration": 0.025283,
     "end_time": "2022-07-11T13:22:08.775398",
     "exception": false,
     "start_time": "2022-07-11T13:22:08.750115",
     "status": "completed"
    },
    "tags": []
   },
   "outputs": [
    {
     "data": {
      "text/plain": [
       "['GAS6',\n",
       " 'MMP14',\n",
       " 'DSP',\n",
       " 'MARCKSL1',\n",
       " 'SPARC',\n",
       " 'CTSD',\n",
       " 'EPAS1',\n",
       " 'PALLD',\n",
       " 'PHC2',\n",
       " 'LGALS3BP']"
      ]
     },
     "execution_count": 15,
     "metadata": {},
     "output_type": "execute_result"
    }
   ],
   "source": [
    "multiplier_z_genes[:10]"
   ]
  },
  {
   "cell_type": "markdown",
   "id": "7ad1d143-b9b7-4405-88d0-d5b8acdbe7fa",
   "metadata": {},
   "source": [
    "## Function to load MultiXcan's results on random phenotypes"
   ]
  },
  {
   "cell_type": "code",
   "execution_count": 16,
   "id": "3cb53517-17a9-4154-a12e-8f67af6b385f",
   "metadata": {},
   "outputs": [],
   "source": [
    "def load_multixcan_random_phenotype(phenotype_code):\n",
    "    multixcan_random_results = pd.read_csv(\n",
    "        conf.RESULTS[\"GLS_NULL_SIMS\"]\n",
    "        / \"twas\"\n",
    "        / \"smultixcan\"\n",
    "        / f\"random.pheno{phenotype_code}-gtex_v8-mashr-smultixcan.txt\",\n",
    "        sep=\"\\t\",\n",
    "        index_col=\"gene_name\",\n",
    "    )\n",
    "\n",
    "    return multixcan_random_results"
   ]
  },
  {
   "cell_type": "markdown",
   "id": "37ce8c4f-6046-4d81-aa1a-f196153f0c69",
   "metadata": {
    "papermill": {
     "duration": 0.008625,
     "end_time": "2022-07-11T13:22:08.646659",
     "exception": false,
     "start_time": "2022-07-11T13:22:08.638034",
     "status": "completed"
    },
    "tags": []
   },
   "source": [
    "## MultiXcan real results (PhenomeXcan)"
   ]
  },
  {
   "cell_type": "code",
   "execution_count": 17,
   "id": "ff6a93a3-1d7e-4cef-99f6-866ad0726022",
   "metadata": {},
   "outputs": [],
   "source": [
    "multixcan_real_results = pd.read_pickle(\n",
    "    conf.PHENOMEXCAN[\"SMULTIXCAN_EFO_PARTIAL_MASHR_ZSCORES_FILE\"]\n",
    ").rename(index=Gene.GENE_ID_TO_NAME_MAP)"
   ]
  },
  {
   "cell_type": "code",
   "execution_count": 18,
   "id": "74f17127-afe3-4d93-9e93-50b193d2b996",
   "metadata": {},
   "outputs": [],
   "source": [
    "multixcan_real_results = multixcan_real_results[\n",
    "    ~multixcan_real_results.index.duplicated(keep=\"first\")\n",
    "].dropna(how=\"all\", axis=0)"
   ]
  },
  {
   "cell_type": "code",
   "execution_count": 19,
   "id": "05f85eb5-9816-4a38-948a-f133aeffa70c",
   "metadata": {},
   "outputs": [
    {
     "data": {
      "text/plain": [
       "(22508, 3752)"
      ]
     },
     "execution_count": 19,
     "metadata": {},
     "output_type": "execute_result"
    }
   ],
   "source": [
    "multixcan_real_results.shape"
   ]
  },
  {
   "cell_type": "code",
   "execution_count": 20,
   "id": "a5ee14c2-0359-48d0-bfbf-1e529f7a7cc9",
   "metadata": {},
   "outputs": [
    {
     "data": {
      "text/html": [
       "<div>\n",
       "<style scoped>\n",
       "    .dataframe tbody tr th:only-of-type {\n",
       "        vertical-align: middle;\n",
       "    }\n",
       "\n",
       "    .dataframe tbody tr th {\n",
       "        vertical-align: top;\n",
       "    }\n",
       "\n",
       "    .dataframe thead th {\n",
       "        text-align: right;\n",
       "    }\n",
       "</style>\n",
       "<table border=\"1\" class=\"dataframe\">\n",
       "  <thead>\n",
       "    <tr style=\"text-align: right;\">\n",
       "      <th></th>\n",
       "      <th>100001_raw-Food_weight</th>\n",
       "      <th>100002_raw-Energy</th>\n",
       "      <th>100003_raw-Protein</th>\n",
       "      <th>100004_raw-Fat</th>\n",
       "      <th>100005_raw-Carbohydrate</th>\n",
       "      <th>100006_raw-Saturated_fat</th>\n",
       "      <th>100007_raw-Polyunsaturated_fat</th>\n",
       "      <th>100008_raw-Total_sugars</th>\n",
       "      <th>100009_raw-Englyst_dietary_fibre</th>\n",
       "      <th>100010-Portion_size</th>\n",
       "      <th>...</th>\n",
       "      <th>visual impairment</th>\n",
       "      <th>vitiligo</th>\n",
       "      <th>vitreous body disease</th>\n",
       "      <th>vocal cord polyp</th>\n",
       "      <th>voice disorders</th>\n",
       "      <th>wellbeing measurement AND family relationship</th>\n",
       "      <th>wheezing</th>\n",
       "      <th>whooping cough</th>\n",
       "      <th>worry measurement</th>\n",
       "      <th>wrist fracture</th>\n",
       "    </tr>\n",
       "    <tr>\n",
       "      <th>gene_name</th>\n",
       "      <th></th>\n",
       "      <th></th>\n",
       "      <th></th>\n",
       "      <th></th>\n",
       "      <th></th>\n",
       "      <th></th>\n",
       "      <th></th>\n",
       "      <th></th>\n",
       "      <th></th>\n",
       "      <th></th>\n",
       "      <th></th>\n",
       "      <th></th>\n",
       "      <th></th>\n",
       "      <th></th>\n",
       "      <th></th>\n",
       "      <th></th>\n",
       "      <th></th>\n",
       "      <th></th>\n",
       "      <th></th>\n",
       "      <th></th>\n",
       "      <th></th>\n",
       "    </tr>\n",
       "  </thead>\n",
       "  <tbody>\n",
       "    <tr>\n",
       "      <th>DPM1</th>\n",
       "      <td>1.145442</td>\n",
       "      <td>0.724557</td>\n",
       "      <td>0.090876</td>\n",
       "      <td>0.298165</td>\n",
       "      <td>1.134347</td>\n",
       "      <td>1.371138</td>\n",
       "      <td>0.065718</td>\n",
       "      <td>0.794317</td>\n",
       "      <td>0.600342</td>\n",
       "      <td>0.317652</td>\n",
       "      <td>...</td>\n",
       "      <td>0.360518</td>\n",
       "      <td>1.351624</td>\n",
       "      <td>1.157695</td>\n",
       "      <td>0.835289</td>\n",
       "      <td>1.173072</td>\n",
       "      <td>1.337280</td>\n",
       "      <td>1.743822</td>\n",
       "      <td>1.017226</td>\n",
       "      <td>1.512184</td>\n",
       "      <td>0.972241</td>\n",
       "    </tr>\n",
       "    <tr>\n",
       "      <th>SCYL3</th>\n",
       "      <td>0.618066</td>\n",
       "      <td>1.028131</td>\n",
       "      <td>2.218420</td>\n",
       "      <td>0.762584</td>\n",
       "      <td>0.934418</td>\n",
       "      <td>0.192993</td>\n",
       "      <td>1.080230</td>\n",
       "      <td>0.765997</td>\n",
       "      <td>0.375898</td>\n",
       "      <td>0.678731</td>\n",
       "      <td>...</td>\n",
       "      <td>2.134504</td>\n",
       "      <td>0.127830</td>\n",
       "      <td>0.534690</td>\n",
       "      <td>0.120516</td>\n",
       "      <td>0.517464</td>\n",
       "      <td>2.545363</td>\n",
       "      <td>0.673331</td>\n",
       "      <td>2.003092</td>\n",
       "      <td>0.344000</td>\n",
       "      <td>2.033122</td>\n",
       "    </tr>\n",
       "    <tr>\n",
       "      <th>C1orf112</th>\n",
       "      <td>0.515724</td>\n",
       "      <td>0.403596</td>\n",
       "      <td>1.251359</td>\n",
       "      <td>0.433091</td>\n",
       "      <td>0.413466</td>\n",
       "      <td>0.246261</td>\n",
       "      <td>1.236151</td>\n",
       "      <td>0.827430</td>\n",
       "      <td>0.571985</td>\n",
       "      <td>0.782174</td>\n",
       "      <td>...</td>\n",
       "      <td>1.768905</td>\n",
       "      <td>0.992408</td>\n",
       "      <td>0.548215</td>\n",
       "      <td>0.412341</td>\n",
       "      <td>1.499415</td>\n",
       "      <td>1.366780</td>\n",
       "      <td>0.443318</td>\n",
       "      <td>0.417630</td>\n",
       "      <td>0.225934</td>\n",
       "      <td>1.613246</td>\n",
       "    </tr>\n",
       "    <tr>\n",
       "      <th>FGR</th>\n",
       "      <td>0.280781</td>\n",
       "      <td>0.253910</td>\n",
       "      <td>0.879148</td>\n",
       "      <td>0.352705</td>\n",
       "      <td>0.051846</td>\n",
       "      <td>0.184212</td>\n",
       "      <td>0.148566</td>\n",
       "      <td>0.009989</td>\n",
       "      <td>0.363751</td>\n",
       "      <td>0.374514</td>\n",
       "      <td>...</td>\n",
       "      <td>0.656552</td>\n",
       "      <td>2.046041</td>\n",
       "      <td>2.746832</td>\n",
       "      <td>0.108211</td>\n",
       "      <td>1.008258</td>\n",
       "      <td>0.755695</td>\n",
       "      <td>0.896228</td>\n",
       "      <td>0.875047</td>\n",
       "      <td>0.476405</td>\n",
       "      <td>1.693057</td>\n",
       "    </tr>\n",
       "    <tr>\n",
       "      <th>CFH</th>\n",
       "      <td>0.548127</td>\n",
       "      <td>0.389877</td>\n",
       "      <td>0.723469</td>\n",
       "      <td>1.167250</td>\n",
       "      <td>0.315952</td>\n",
       "      <td>0.324939</td>\n",
       "      <td>1.613932</td>\n",
       "      <td>0.311432</td>\n",
       "      <td>0.333548</td>\n",
       "      <td>1.807243</td>\n",
       "      <td>...</td>\n",
       "      <td>0.260482</td>\n",
       "      <td>0.646204</td>\n",
       "      <td>1.080240</td>\n",
       "      <td>0.678330</td>\n",
       "      <td>1.465358</td>\n",
       "      <td>0.307672</td>\n",
       "      <td>0.118376</td>\n",
       "      <td>1.419812</td>\n",
       "      <td>0.000002</td>\n",
       "      <td>1.040737</td>\n",
       "    </tr>\n",
       "  </tbody>\n",
       "</table>\n",
       "<p>5 rows × 3752 columns</p>\n",
       "</div>"
      ],
      "text/plain": [
       "           100001_raw-Food_weight  100002_raw-Energy  100003_raw-Protein  \\\n",
       "gene_name                                                                  \n",
       "DPM1                     1.145442           0.724557            0.090876   \n",
       "SCYL3                    0.618066           1.028131            2.218420   \n",
       "C1orf112                 0.515724           0.403596            1.251359   \n",
       "FGR                      0.280781           0.253910            0.879148   \n",
       "CFH                      0.548127           0.389877            0.723469   \n",
       "\n",
       "           100004_raw-Fat  100005_raw-Carbohydrate  100006_raw-Saturated_fat  \\\n",
       "gene_name                                                                      \n",
       "DPM1             0.298165                 1.134347                  1.371138   \n",
       "SCYL3            0.762584                 0.934418                  0.192993   \n",
       "C1orf112         0.433091                 0.413466                  0.246261   \n",
       "FGR              0.352705                 0.051846                  0.184212   \n",
       "CFH              1.167250                 0.315952                  0.324939   \n",
       "\n",
       "           100007_raw-Polyunsaturated_fat  100008_raw-Total_sugars  \\\n",
       "gene_name                                                            \n",
       "DPM1                             0.065718                 0.794317   \n",
       "SCYL3                            1.080230                 0.765997   \n",
       "C1orf112                         1.236151                 0.827430   \n",
       "FGR                              0.148566                 0.009989   \n",
       "CFH                              1.613932                 0.311432   \n",
       "\n",
       "           100009_raw-Englyst_dietary_fibre  100010-Portion_size  ...  \\\n",
       "gene_name                                                         ...   \n",
       "DPM1                               0.600342             0.317652  ...   \n",
       "SCYL3                              0.375898             0.678731  ...   \n",
       "C1orf112                           0.571985             0.782174  ...   \n",
       "FGR                                0.363751             0.374514  ...   \n",
       "CFH                                0.333548             1.807243  ...   \n",
       "\n",
       "           visual impairment  vitiligo  vitreous body disease  \\\n",
       "gene_name                                                       \n",
       "DPM1                0.360518  1.351624               1.157695   \n",
       "SCYL3               2.134504  0.127830               0.534690   \n",
       "C1orf112            1.768905  0.992408               0.548215   \n",
       "FGR                 0.656552  2.046041               2.746832   \n",
       "CFH                 0.260482  0.646204               1.080240   \n",
       "\n",
       "           vocal cord polyp  voice disorders  \\\n",
       "gene_name                                      \n",
       "DPM1               0.835289         1.173072   \n",
       "SCYL3              0.120516         0.517464   \n",
       "C1orf112           0.412341         1.499415   \n",
       "FGR                0.108211         1.008258   \n",
       "CFH                0.678330         1.465358   \n",
       "\n",
       "           wellbeing measurement AND family relationship  wheezing  \\\n",
       "gene_name                                                            \n",
       "DPM1                                            1.337280  1.743822   \n",
       "SCYL3                                           2.545363  0.673331   \n",
       "C1orf112                                        1.366780  0.443318   \n",
       "FGR                                             0.755695  0.896228   \n",
       "CFH                                             0.307672  0.118376   \n",
       "\n",
       "           whooping cough  worry measurement  wrist fracture  \n",
       "gene_name                                                     \n",
       "DPM1             1.017226           1.512184        0.972241  \n",
       "SCYL3            2.003092           0.344000        2.033122  \n",
       "C1orf112         0.417630           0.225934        1.613246  \n",
       "FGR              0.875047           0.476405        1.693057  \n",
       "CFH              1.419812           0.000002        1.040737  \n",
       "\n",
       "[5 rows x 3752 columns]"
      ]
     },
     "execution_count": 20,
     "metadata": {},
     "output_type": "execute_result"
    }
   ],
   "source": [
    "multixcan_real_results.head()"
   ]
  },
  {
   "cell_type": "code",
   "execution_count": 21,
   "id": "36835af0-264a-4f86-bce7-93a8b163aa3d",
   "metadata": {},
   "outputs": [],
   "source": [
    "assert not multixcan_real_results.isna().any(None)"
   ]
  },
  {
   "cell_type": "markdown",
   "id": "f4d4f177",
   "metadata": {
    "papermill": {
     "duration": 0.01453,
     "end_time": "2022-07-11T13:22:11.041316",
     "exception": false,
     "start_time": "2022-07-11T13:22:11.026786",
     "status": "completed"
    },
    "tags": []
   },
   "source": [
    "## Load full correlation matrix"
   ]
  },
  {
   "cell_type": "code",
   "execution_count": 22,
   "id": "2f174f95-2be3-4b63-95fb-451413ad361d",
   "metadata": {
    "papermill": {
     "duration": 0.032885,
     "end_time": "2022-07-11T13:24:54.640545",
     "exception": false,
     "start_time": "2022-07-11T13:24:54.607660",
     "status": "completed"
    },
    "tags": []
   },
   "outputs": [
    {
     "data": {
      "text/plain": [
       "PosixPath('/opt/data/data/phenomexcan/ld_blocks/gene_corrs/1000g/mashr/multiplier_genes-gene_correlations-gene_symbols.pkl')"
      ]
     },
     "metadata": {},
     "output_type": "display_data"
    }
   ],
   "source": [
    "output_file_name_template = conf.PHENOMEXCAN[\"LD_BLOCKS\"][\n",
    "    \"GENE_CORRS_FILE_NAME_TEMPLATES\"\n",
    "][\"GENE_CORR_AVG\"]\n",
    "\n",
    "output_file = OUTPUT_DIR_BASE / \"multiplier_genes-gene_correlations-gene_symbols.pkl\"\n",
    "\n",
    "# # FIXME testing remove\n",
    "# output_file = (\n",
    "#     OUTPUT_DIR_BASE\n",
    "#     / \"_gene_corrs_using_use_within_distance_False\"\n",
    "#     / \"multiplier_genes-gene_correlations-gene_symbols-fixed.pkl\"\n",
    "# )\n",
    "\n",
    "display(output_file)"
   ]
  },
  {
   "cell_type": "code",
   "execution_count": 23,
   "id": "fbd5ecdf-2501-45bb-a076-d4da54e6f28a",
   "metadata": {},
   "outputs": [],
   "source": [
    "full_corr_matrix_gene_symbols = pd.read_pickle(output_file)"
   ]
  },
  {
   "cell_type": "code",
   "execution_count": 24,
   "id": "d9e18eab",
   "metadata": {
    "papermill": {
     "duration": 0.033448,
     "end_time": "2022-07-11T13:24:55.150874",
     "exception": false,
     "start_time": "2022-07-11T13:24:55.117426",
     "status": "completed"
    },
    "tags": []
   },
   "outputs": [
    {
     "data": {
      "text/plain": [
       "(6452, 6452)"
      ]
     },
     "execution_count": 24,
     "metadata": {},
     "output_type": "execute_result"
    }
   ],
   "source": [
    "full_corr_matrix_gene_symbols.shape"
   ]
  },
  {
   "cell_type": "code",
   "execution_count": 25,
   "id": "44e83e62",
   "metadata": {
    "papermill": {
     "duration": 0.045551,
     "end_time": "2022-07-11T13:24:55.209471",
     "exception": false,
     "start_time": "2022-07-11T13:24:55.163920",
     "status": "completed"
    },
    "tags": []
   },
   "outputs": [
    {
     "data": {
      "text/html": [
       "<div>\n",
       "<style scoped>\n",
       "    .dataframe tbody tr th:only-of-type {\n",
       "        vertical-align: middle;\n",
       "    }\n",
       "\n",
       "    .dataframe tbody tr th {\n",
       "        vertical-align: top;\n",
       "    }\n",
       "\n",
       "    .dataframe thead th {\n",
       "        text-align: right;\n",
       "    }\n",
       "</style>\n",
       "<table border=\"1\" class=\"dataframe\">\n",
       "  <thead>\n",
       "    <tr style=\"text-align: right;\">\n",
       "      <th></th>\n",
       "      <th>NOC2L</th>\n",
       "      <th>HES4</th>\n",
       "      <th>ISG15</th>\n",
       "      <th>AGRN</th>\n",
       "      <th>TNFRSF18</th>\n",
       "      <th>TNFRSF4</th>\n",
       "      <th>B3GALT6</th>\n",
       "      <th>UBE2J2</th>\n",
       "      <th>ACAP3</th>\n",
       "      <th>TAS1R3</th>\n",
       "      <th>...</th>\n",
       "      <th>PLXNB2</th>\n",
       "      <th>ADM2</th>\n",
       "      <th>MIOX</th>\n",
       "      <th>SCO2</th>\n",
       "      <th>TYMP</th>\n",
       "      <th>CPT1B</th>\n",
       "      <th>CHKB</th>\n",
       "      <th>MAPK8IP2</th>\n",
       "      <th>ARSA</th>\n",
       "      <th>SHANK3</th>\n",
       "    </tr>\n",
       "  </thead>\n",
       "  <tbody>\n",
       "    <tr>\n",
       "      <th>NOC2L</th>\n",
       "      <td>1.000000</td>\n",
       "      <td>0.115011</td>\n",
       "      <td>0.173138</td>\n",
       "      <td>0.052445</td>\n",
       "      <td>0.008032</td>\n",
       "      <td>0.008727</td>\n",
       "      <td>0.006797</td>\n",
       "      <td>0.004533</td>\n",
       "      <td>0.007350</td>\n",
       "      <td>0.010391</td>\n",
       "      <td>...</td>\n",
       "      <td>0.0</td>\n",
       "      <td>0.0</td>\n",
       "      <td>0.0</td>\n",
       "      <td>0.0</td>\n",
       "      <td>0.0</td>\n",
       "      <td>0.0</td>\n",
       "      <td>0.0</td>\n",
       "      <td>0.0</td>\n",
       "      <td>0.0</td>\n",
       "      <td>0.0</td>\n",
       "    </tr>\n",
       "    <tr>\n",
       "      <th>HES4</th>\n",
       "      <td>0.115011</td>\n",
       "      <td>1.000000</td>\n",
       "      <td>0.681368</td>\n",
       "      <td>0.347023</td>\n",
       "      <td>0.011545</td>\n",
       "      <td>0.010729</td>\n",
       "      <td>0.003577</td>\n",
       "      <td>0.010230</td>\n",
       "      <td>0.010747</td>\n",
       "      <td>0.008769</td>\n",
       "      <td>...</td>\n",
       "      <td>0.0</td>\n",
       "      <td>0.0</td>\n",
       "      <td>0.0</td>\n",
       "      <td>0.0</td>\n",
       "      <td>0.0</td>\n",
       "      <td>0.0</td>\n",
       "      <td>0.0</td>\n",
       "      <td>0.0</td>\n",
       "      <td>0.0</td>\n",
       "      <td>0.0</td>\n",
       "    </tr>\n",
       "    <tr>\n",
       "      <th>ISG15</th>\n",
       "      <td>0.173138</td>\n",
       "      <td>0.681368</td>\n",
       "      <td>1.000000</td>\n",
       "      <td>0.351822</td>\n",
       "      <td>0.011774</td>\n",
       "      <td>0.012527</td>\n",
       "      <td>0.003754</td>\n",
       "      <td>0.012096</td>\n",
       "      <td>0.012679</td>\n",
       "      <td>0.010442</td>\n",
       "      <td>...</td>\n",
       "      <td>0.0</td>\n",
       "      <td>0.0</td>\n",
       "      <td>0.0</td>\n",
       "      <td>0.0</td>\n",
       "      <td>0.0</td>\n",
       "      <td>0.0</td>\n",
       "      <td>0.0</td>\n",
       "      <td>0.0</td>\n",
       "      <td>0.0</td>\n",
       "      <td>0.0</td>\n",
       "    </tr>\n",
       "    <tr>\n",
       "      <th>AGRN</th>\n",
       "      <td>0.052445</td>\n",
       "      <td>0.347023</td>\n",
       "      <td>0.351822</td>\n",
       "      <td>1.000000</td>\n",
       "      <td>0.014103</td>\n",
       "      <td>0.013988</td>\n",
       "      <td>0.006056</td>\n",
       "      <td>0.006296</td>\n",
       "      <td>0.005363</td>\n",
       "      <td>0.008300</td>\n",
       "      <td>...</td>\n",
       "      <td>0.0</td>\n",
       "      <td>0.0</td>\n",
       "      <td>0.0</td>\n",
       "      <td>0.0</td>\n",
       "      <td>0.0</td>\n",
       "      <td>0.0</td>\n",
       "      <td>0.0</td>\n",
       "      <td>0.0</td>\n",
       "      <td>0.0</td>\n",
       "      <td>0.0</td>\n",
       "    </tr>\n",
       "    <tr>\n",
       "      <th>TNFRSF18</th>\n",
       "      <td>0.008032</td>\n",
       "      <td>0.011545</td>\n",
       "      <td>0.011774</td>\n",
       "      <td>0.014103</td>\n",
       "      <td>1.000000</td>\n",
       "      <td>0.356676</td>\n",
       "      <td>0.454010</td>\n",
       "      <td>0.137643</td>\n",
       "      <td>0.200340</td>\n",
       "      <td>0.093210</td>\n",
       "      <td>...</td>\n",
       "      <td>0.0</td>\n",
       "      <td>0.0</td>\n",
       "      <td>0.0</td>\n",
       "      <td>0.0</td>\n",
       "      <td>0.0</td>\n",
       "      <td>0.0</td>\n",
       "      <td>0.0</td>\n",
       "      <td>0.0</td>\n",
       "      <td>0.0</td>\n",
       "      <td>0.0</td>\n",
       "    </tr>\n",
       "  </tbody>\n",
       "</table>\n",
       "<p>5 rows × 6452 columns</p>\n",
       "</div>"
      ],
      "text/plain": [
       "             NOC2L      HES4     ISG15      AGRN  TNFRSF18   TNFRSF4  \\\n",
       "NOC2L     1.000000  0.115011  0.173138  0.052445  0.008032  0.008727   \n",
       "HES4      0.115011  1.000000  0.681368  0.347023  0.011545  0.010729   \n",
       "ISG15     0.173138  0.681368  1.000000  0.351822  0.011774  0.012527   \n",
       "AGRN      0.052445  0.347023  0.351822  1.000000  0.014103  0.013988   \n",
       "TNFRSF18  0.008032  0.011545  0.011774  0.014103  1.000000  0.356676   \n",
       "\n",
       "           B3GALT6    UBE2J2     ACAP3    TAS1R3  ...  PLXNB2  ADM2  MIOX  \\\n",
       "NOC2L     0.006797  0.004533  0.007350  0.010391  ...     0.0   0.0   0.0   \n",
       "HES4      0.003577  0.010230  0.010747  0.008769  ...     0.0   0.0   0.0   \n",
       "ISG15     0.003754  0.012096  0.012679  0.010442  ...     0.0   0.0   0.0   \n",
       "AGRN      0.006056  0.006296  0.005363  0.008300  ...     0.0   0.0   0.0   \n",
       "TNFRSF18  0.454010  0.137643  0.200340  0.093210  ...     0.0   0.0   0.0   \n",
       "\n",
       "          SCO2  TYMP  CPT1B  CHKB  MAPK8IP2  ARSA  SHANK3  \n",
       "NOC2L      0.0   0.0    0.0   0.0       0.0   0.0     0.0  \n",
       "HES4       0.0   0.0    0.0   0.0       0.0   0.0     0.0  \n",
       "ISG15      0.0   0.0    0.0   0.0       0.0   0.0     0.0  \n",
       "AGRN       0.0   0.0    0.0   0.0       0.0   0.0     0.0  \n",
       "TNFRSF18   0.0   0.0    0.0   0.0       0.0   0.0     0.0  \n",
       "\n",
       "[5 rows x 6452 columns]"
      ]
     },
     "execution_count": 25,
     "metadata": {},
     "output_type": "execute_result"
    }
   ],
   "source": [
    "full_corr_matrix_gene_symbols.head()"
   ]
  },
  {
   "cell_type": "markdown",
   "id": "c4741bcc-5cb5-42ad-9266-e86947c29849",
   "metadata": {
    "papermill": {
     "duration": 0.012899,
     "end_time": "2022-07-11T13:23:15.569947",
     "exception": false,
     "start_time": "2022-07-11T13:23:15.557048",
     "status": "completed"
    },
    "tags": []
   },
   "source": [
    "### Make matrix compatible with GLS"
   ]
  },
  {
   "cell_type": "code",
   "execution_count": 26,
   "id": "d2650b16-618d-4e37-a973-bd24c1e4aa46",
   "metadata": {},
   "outputs": [
    {
     "data": {
      "text/plain": [
       "0"
      ]
     },
     "metadata": {},
     "output_type": "display_data"
    },
    {
     "data": {
      "text/plain": [
       "array([], dtype=float64)"
      ]
     },
     "metadata": {},
     "output_type": "display_data"
    }
   ],
   "source": [
    "_eigvals = np.linalg.eigvals(full_corr_matrix_gene_symbols)\n",
    "display(_eigvals[_eigvals < 0].shape[0])\n",
    "display(_eigvals[_eigvals < 0])"
   ]
  },
  {
   "cell_type": "code",
   "execution_count": 27,
   "id": "9e7a09a0-693f-40a2-899a-a9464fe37cd7",
   "metadata": {},
   "outputs": [
    {
     "name": "stdout",
     "output_type": "stream",
     "text": [
      "No need to fix\n"
     ]
    }
   ],
   "source": [
    "try:\n",
    "    np.linalg.cholesky(full_corr_matrix_gene_symbols)\n",
    "    print(\"No need to fix\")\n",
    "except Exception as e:\n",
    "    print(f\"Failed with:\\n {str(e)}\")"
   ]
  },
  {
   "cell_type": "code",
   "execution_count": 28,
   "id": "695e8ac0-82d5-46f5-a5a4-d956998e122b",
   "metadata": {},
   "outputs": [],
   "source": [
    "orig_corr_mat = full_corr_matrix_gene_symbols"
   ]
  },
  {
   "cell_type": "code",
   "execution_count": 29,
   "id": "ed96e54f-0414-4290-837e-717d443d7871",
   "metadata": {},
   "outputs": [],
   "source": [
    "orig_corr_mat.to_pickle(OUTPUT_DIR / \"corr_mat.pkl.xz\")"
   ]
  },
  {
   "cell_type": "code",
   "execution_count": 30,
   "id": "c86c18f6-3bdb-414e-b0ec-04d583ec9589",
   "metadata": {},
   "outputs": [],
   "source": [
    "# %load_ext rpy2.ipython"
   ]
  },
  {
   "cell_type": "code",
   "execution_count": 31,
   "id": "af48b7b3-f961-4af0-bb73-5d06fc7cb29e",
   "metadata": {},
   "outputs": [],
   "source": [
    "# corr_mat_r = full_corr_matrix_gene_symbols.to_numpy()"
   ]
  },
  {
   "cell_type": "code",
   "execution_count": 32,
   "id": "e4fd7da7-3cb5-4590-b390-56d0908be149",
   "metadata": {},
   "outputs": [],
   "source": [
    "# %Rpush corr_mat_r"
   ]
  },
  {
   "cell_type": "code",
   "execution_count": 33,
   "id": "f486869d-8f6f-4c32-ae81-230b357942e7",
   "metadata": {},
   "outputs": [],
   "source": [
    "# %%R\n",
    "# # taken from https://www.r-bloggers.com/2013/08/correcting-a-pseudo-correlation-matrix-to-be-positive-semidefinite/\n",
    "# CorrectCM <- function(CM, p = 0) {\n",
    "#   n <- dim(CM)[1L]\n",
    "#   E <- eigen(CM)\n",
    "#   CM1 <- E$vectors %*% tcrossprod(diag(pmax(E$values, p), n), E$vectors)\n",
    "#   Balance <- diag(1 / sqrt(diag(CM1)))\n",
    "#   CM2 <- Balance %*% CM1 %*% Balance\n",
    "#   return(CM2)\n",
    "# }"
   ]
  },
  {
   "cell_type": "code",
   "execution_count": 34,
   "id": "34ab51b4-b78d-4028-b915-39ac0ba05490",
   "metadata": {},
   "outputs": [],
   "source": [
    "# %%R -o corr_mat_r_fixed\n",
    "# corr_mat_r_fixed <- CorrectCM(corr_mat_r, 1e-5)"
   ]
  },
  {
   "cell_type": "code",
   "execution_count": 35,
   "id": "bd89853a-cc99-45f5-b450-d51e9c4d1426",
   "metadata": {},
   "outputs": [],
   "source": [
    "# corr_mat_r_fixed"
   ]
  },
  {
   "cell_type": "code",
   "execution_count": 36,
   "id": "43b2ad46-be28-43d8-a55c-bb93b1bb2bd8",
   "metadata": {},
   "outputs": [],
   "source": [
    "# corr_mat_r_fixed = pd.DataFrame(\n",
    "#     corr_mat_r_fixed,\n",
    "#     index=full_corr_matrix_gene_symbols.index.tolist(),\n",
    "#     columns=full_corr_matrix_gene_symbols.columns.tolist()\n",
    "# )"
   ]
  },
  {
   "cell_type": "code",
   "execution_count": 37,
   "id": "2153fd02-e44a-474f-a4af-0576446878bb",
   "metadata": {},
   "outputs": [],
   "source": [
    "# corr_mat_r_fixed.shape"
   ]
  },
  {
   "cell_type": "code",
   "execution_count": 38,
   "id": "c586b3ab-ad10-48b0-abe1-7f49c035054d",
   "metadata": {},
   "outputs": [],
   "source": [
    "# corr_mat_r_fixed.head()"
   ]
  },
  {
   "cell_type": "code",
   "execution_count": 39,
   "id": "e0dcd373-e76a-419e-8cbf-af2a0732e79a",
   "metadata": {},
   "outputs": [],
   "source": [
    "# corr_mat_r_fixed.equals(full_corr_matrix_gene_symbols)"
   ]
  },
  {
   "cell_type": "code",
   "execution_count": 40,
   "id": "cb1e7f0b-8899-4a49-b047-a155b6d8d6e2",
   "metadata": {},
   "outputs": [],
   "source": [
    "# del full_corr_matrix_gene_symbols"
   ]
  },
  {
   "cell_type": "code",
   "execution_count": 41,
   "id": "0bb3ccf1-c2c5-4308-b944-6dcd517a5063",
   "metadata": {},
   "outputs": [],
   "source": [
    "# orig_corr_mat = corr_mat_r_fixed"
   ]
  },
  {
   "cell_type": "code",
   "execution_count": 42,
   "id": "03b49c7b-42d8-42bd-8781-7ae16e0d718e",
   "metadata": {},
   "outputs": [],
   "source": [
    "# orig_corr_mat.to_pickle(OUTPUT_DIR / \"corr_mat_fixed.pkl.xz\")"
   ]
  },
  {
   "cell_type": "markdown",
   "id": "768a0b6a-d711-468a-b8e6-2cff279636fa",
   "metadata": {
    "papermill": {
     "duration": 0.012899,
     "end_time": "2022-07-11T13:23:15.569947",
     "exception": false,
     "start_time": "2022-07-11T13:23:15.557048",
     "status": "completed"
    },
    "tags": []
   },
   "source": [
    "# Functions"
   ]
  },
  {
   "cell_type": "code",
   "execution_count": 43,
   "id": "35409e2f-d9d5-4d82-bcd8-a7b6a93475a9",
   "metadata": {
    "papermill": {
     "duration": 0.233317,
     "end_time": "2022-07-11T13:23:15.815161",
     "exception": false,
     "start_time": "2022-07-11T13:23:15.581844",
     "status": "completed"
    },
    "tags": []
   },
   "outputs": [],
   "source": [
    "import statsmodels.api as sm\n",
    "from sklearn.preprocessing import scale"
   ]
  },
  {
   "cell_type": "code",
   "execution_count": 44,
   "id": "d4864e24-7153-49de-88ee-30acc3449d3b",
   "metadata": {},
   "outputs": [],
   "source": [
    "def get_data(lv_code, random_phenotype_code=None, real_phenotype_code=None):\n",
    "    if random_phenotype_code is not None:\n",
    "        target_data = load_multixcan_random_phenotype(random_phenotype_code)[\"pvalue\"]\n",
    "        y = pd.Series(\n",
    "            data=np.abs(stats.norm.ppf(target_data.to_numpy() / 2)),\n",
    "            index=target_data.index.copy(),\n",
    "        )\n",
    "    elif real_phenotype_code is not None:\n",
    "        y = multixcan_real_results[real_phenotype_code]\n",
    "\n",
    "    y = y[~y.index.duplicated(keep=\"first\")]\n",
    "    y = y.dropna()\n",
    "\n",
    "    X = multiplier_z[lv_code].copy()\n",
    "\n",
    "    common_genes = orig_corr_mat.index.intersection(y.index).intersection(X.index)\n",
    "    y = y.loc[common_genes]\n",
    "\n",
    "    X = X.loc[common_genes]\n",
    "    X = sm.add_constant(X)\n",
    "\n",
    "    return X, y"
   ]
  },
  {
   "cell_type": "code",
   "execution_count": 45,
   "id": "8523c426-33e5-4b6d-961b-976997f139b7",
   "metadata": {},
   "outputs": [],
   "source": [
    "def standardize_data(X, y):\n",
    "    X = X.copy()\n",
    "    y = y.copy()\n",
    "\n",
    "    c = [c for c in X.columns if c != \"const\"]\n",
    "    X[c] = (X[c] - X[c].mean()) / X[c].std()\n",
    "\n",
    "    return X, (y - y.mean()) / y.std()"
   ]
  },
  {
   "cell_type": "code",
   "execution_count": 46,
   "id": "16ee41fa-fa9a-4529-85a5-8f267c22ec92",
   "metadata": {},
   "outputs": [],
   "source": [
    "def get_aligned_corr_mat(X, perc=1.0):\n",
    "    # perc == 1.0 means select all nonzero genes;\n",
    "    # perc = None means do not subset the correlation matrix\n",
    "    gene_corrs = orig_corr_mat.loc[X.index, X.index]\n",
    "\n",
    "    if perc is None:\n",
    "        return gene_corrs\n",
    "\n",
    "    corr_mat_sub = pd.DataFrame(\n",
    "        np.identity(gene_corrs.shape[0]),\n",
    "        index=gene_corrs.index.copy(),\n",
    "        columns=gene_corrs.columns.copy(),\n",
    "    )\n",
    "\n",
    "    X = X.iloc[:, 1]\n",
    "\n",
    "    X_non_zero = X[X > 0]\n",
    "    X_thres = X_non_zero.quantile(1 - perc)\n",
    "    lv_nonzero_genes = X[X >= X_thres].index\n",
    "\n",
    "    lv_nonzero_genes = lv_nonzero_genes.intersection(gene_corrs.index)\n",
    "    corr_mat_sub.loc[lv_nonzero_genes, lv_nonzero_genes] = gene_corrs.loc[\n",
    "        lv_nonzero_genes, lv_nonzero_genes\n",
    "    ]\n",
    "\n",
    "    return corr_mat_sub"
   ]
  },
  {
   "cell_type": "code",
   "execution_count": 47,
   "id": "5fd9e921-3db5-4cd2-99f7-73671c2de61d",
   "metadata": {},
   "outputs": [],
   "source": [
    "# testing\n",
    "_X_test = pd.DataFrame(\n",
    "    {\n",
    "        \"const\": 1.0,\n",
    "        \"LV1\": [1.0, 0.4, 0.0],  # the last gene has zero weight\n",
    "    },\n",
    "    index=[\n",
    "        \"PSMB10\",  # the first two genes have a high sum of correlations, to make sure the sum is not close to 1.0\n",
    "        \"SLC12A4\",\n",
    "        \"ACD\",\n",
    "    ],\n",
    ")\n",
    "\n",
    "# do not subset\n",
    "_tmp_corr = get_aligned_corr_mat(_X_test, perc=None)\n",
    "assert _tmp_corr.shape == (_X_test.shape[0], _X_test.shape[0])\n",
    "assert np.array_equal(\n",
    "    _tmp_corr.round(2).to_numpy(),\n",
    "    np.array(\n",
    "        [\n",
    "            [1.0, 0.77, 0.73],\n",
    "            [0.77, 1.0, 0.63],\n",
    "            [0.73, 0.63, 1.00],\n",
    "        ]\n",
    "    ),\n",
    ")\n",
    "\n",
    "# do subset: include all non-zero LV genes\n",
    "_tmp_corr = get_aligned_corr_mat(_X_test, perc=1.0)\n",
    "assert _tmp_corr.shape == (_X_test.shape[0], _X_test.shape[0])\n",
    "assert np.array_equal(\n",
    "    _tmp_corr.round(2).to_numpy(),\n",
    "    np.array(\n",
    "        [\n",
    "            [1.0, 0.77, 0.00],\n",
    "            [0.77, 1.0, 0.00],\n",
    "            [0.00, 0.00, 1.00],\n",
    "        ]\n",
    "    ),\n",
    ")\n",
    "\n",
    "# do subset: include all non-zero LV genes with weight > 99% percentile\n",
    "_tmp_corr = get_aligned_corr_mat(_X_test, perc=0.99)\n",
    "assert _tmp_corr.shape == (_X_test.shape[0], _X_test.shape[0])\n",
    "assert np.array_equal(\n",
    "    _tmp_corr.round(2).to_numpy(),\n",
    "    np.array(\n",
    "        [\n",
    "            [1.0, 0.00, 0.00],\n",
    "            [0.00, 1.0, 0.00],\n",
    "            [0.00, 0.00, 1.00],\n",
    "        ]\n",
    "    ),\n",
    ")"
   ]
  },
  {
   "cell_type": "code",
   "execution_count": 48,
   "id": "f1082f1a-8912-4d45-885a-b12da15271ee",
   "metadata": {},
   "outputs": [],
   "source": [
    "def train_statsmodels_gls(X, y, corr_mat):\n",
    "    gls_model = sm.GLS(y, X, sigma=corr_mat)\n",
    "    gls_results = gls_model.fit()\n",
    "    return gls_results"
   ]
  },
  {
   "cell_type": "markdown",
   "id": "40091f08-2f59-462f-b492-010beffdae98",
   "metadata": {
    "papermill": {
     "duration": 0.012899,
     "end_time": "2022-07-11T13:23:15.569947",
     "exception": false,
     "start_time": "2022-07-11T13:23:15.557048",
     "status": "completed"
    },
    "tags": []
   },
   "source": [
    "# [full corr matrix] GLS on randomly generated phenotypes"
   ]
  },
  {
   "cell_type": "code",
   "execution_count": 49,
   "id": "1b096240-e242-4bd8-af91-77b05c8de3d9",
   "metadata": {},
   "outputs": [],
   "source": [
    "PERC_NONZERO_GENES = None"
   ]
  },
  {
   "cell_type": "markdown",
   "id": "2f832b8e-cfc1-48c1-b323-4dee054b9b82",
   "metadata": {},
   "source": [
    "## Random phenotype 6 / LV45"
   ]
  },
  {
   "cell_type": "code",
   "execution_count": 50,
   "id": "260b7aeb-eeb9-48a2-8ffb-fbfd7b0c67cf",
   "metadata": {},
   "outputs": [
    {
     "data": {
      "text/plain": [
       "'multixcan-random_phenotype6-pvalues'"
      ]
     },
     "metadata": {},
     "output_type": "display_data"
    }
   ],
   "source": [
    "lv_code = \"LV45\"\n",
    "phenotype_code = 6\n",
    "\n",
    "phenotype_name = f\"multixcan-random_phenotype{phenotype_code}-pvalues\"\n",
    "display(phenotype_name)"
   ]
  },
  {
   "cell_type": "code",
   "execution_count": 51,
   "id": "57af945a-361b-4901-b5cd-f93d7cc7cfe0",
   "metadata": {},
   "outputs": [],
   "source": [
    "X, y = get_data(lv_code, random_phenotype_code=phenotype_code)\n",
    "corr_mat = get_aligned_corr_mat(X, perc=PERC_NONZERO_GENES)\n",
    "\n",
    "Xs, ys = standardize_data(X, y)\n",
    "_gls_results = train_statsmodels_gls(Xs, ys, corr_mat)"
   ]
  },
  {
   "cell_type": "code",
   "execution_count": 52,
   "id": "ebac5d34-6826-45bc-b8e3-65f83a641c5d",
   "metadata": {},
   "outputs": [
    {
     "name": "stdout",
     "output_type": "stream",
     "text": [
      "                            GLS Regression Results                            \n",
      "==============================================================================\n",
      "Dep. Variable:                      y   R-squared:                       0.000\n",
      "Model:                            GLS   Adj. R-squared:                 -0.000\n",
      "Method:                 Least Squares   F-statistic:                   0.09643\n",
      "Date:                Mon, 18 Jul 2022   Prob (F-statistic):              0.756\n",
      "Time:                        20:18:41   Log-Likelihood:                -10482.\n",
      "No. Observations:                6442   AIC:                         2.097e+04\n",
      "Df Residuals:                    6440   BIC:                         2.098e+04\n",
      "Df Model:                           1                                         \n",
      "Covariance Type:            nonrobust                                         \n",
      "==============================================================================\n",
      "                 coef    std err          t      P>|t|      [0.025      0.975]\n",
      "------------------------------------------------------------------------------\n",
      "const         -1.1039      0.002   -561.718      0.000      -1.108      -1.100\n",
      "LV45           0.0038      0.012      0.311      0.756      -0.020       0.028\n",
      "==============================================================================\n",
      "Omnibus:                      833.845   Durbin-Watson:                   1.203\n",
      "Prob(Omnibus):                  0.000   Jarque-Bera (JB):             1513.299\n",
      "Skew:                           0.846   Prob(JB):                         0.00\n",
      "Kurtosis:                       4.666   Cond. No.                         6.75\n",
      "==============================================================================\n",
      "\n",
      "Notes:\n",
      "[1] Standard Errors assume that the covariance matrix of the errors is correctly specified.\n"
     ]
    }
   ],
   "source": [
    "print(_gls_results.summary())"
   ]
  },
  {
   "cell_type": "code",
   "execution_count": 53,
   "id": "95d39abe-a88f-4acf-9bc7-ddffc8e8cb67",
   "metadata": {},
   "outputs": [
    {
     "name": "stdout",
     "output_type": "stream",
     "text": [
      "                            OLS Regression Results                            \n",
      "==============================================================================\n",
      "Dep. Variable:                      y   R-squared:                       0.001\n",
      "Model:                            OLS   Adj. R-squared:                  0.000\n",
      "Method:                 Least Squares   F-statistic:                     3.429\n",
      "Date:                Mon, 18 Jul 2022   Prob (F-statistic):             0.0641\n",
      "Time:                        20:18:48   Log-Likelihood:                -5683.6\n",
      "No. Observations:                6442   AIC:                         1.137e+04\n",
      "Df Residuals:                    6440   BIC:                         1.138e+04\n",
      "Df Model:                           1                                         \n",
      "Covariance Type:            nonrobust                                         \n",
      "==============================================================================\n",
      "                 coef    std err          t      P>|t|      [0.025      0.975]\n",
      "------------------------------------------------------------------------------\n",
      "const          0.7650      0.007    104.807      0.000       0.751       0.779\n",
      "LV45          -0.0444      0.024     -1.852      0.064      -0.091       0.003\n",
      "==============================================================================\n",
      "Omnibus:                     1105.575   Durbin-Watson:                   1.630\n",
      "Prob(Omnibus):                  0.000   Jarque-Bera (JB):             1894.745\n",
      "Skew:                           1.121   Prob(JB):                         0.00\n",
      "Kurtosis:                       4.427   Cond. No.                         3.29\n",
      "==============================================================================\n",
      "\n",
      "Notes:\n",
      "[1] Standard Errors assume that the covariance matrix of the errors is correctly specified.\n"
     ]
    }
   ],
   "source": [
    "# for debugging purposes I print the OLS results also\n",
    "_tmp_model = sm.OLS(y, X)\n",
    "_tmp_results = _tmp_model.fit()\n",
    "print(_tmp_results.summary())"
   ]
  },
  {
   "cell_type": "code",
   "execution_count": 54,
   "id": "0f31bccc-1d8b-4c8e-bad4-d809496389b2",
   "metadata": {},
   "outputs": [
    {
     "name": "stdout",
     "output_type": "stream",
     "text": [
      "0.003810795472142111\n",
      "0.012271545160174927\n",
      "0.310539171913685\n",
      "0.7561610253800751\n",
      "0.37808051269003756\n"
     ]
    }
   ],
   "source": [
    "# print full numbers\n",
    "with np.printoptions(threshold=sys.maxsize, precision=20):\n",
    "    print(_gls_results.params.to_numpy()[1])\n",
    "    print(_gls_results.bse.to_numpy()[1])\n",
    "    print(_gls_results.tvalues.to_numpy()[1])\n",
    "    print(_gls_results.pvalues.to_numpy()[1])\n",
    "    print(stats.t.sf(_gls_results.tvalues.to_numpy()[1], _gls_results.df_resid))"
   ]
  },
  {
   "cell_type": "code",
   "execution_count": 55,
   "id": "7004657e-0595-4b9c-9fa1-fa6a8ba564a5",
   "metadata": {},
   "outputs": [
    {
     "data": {
      "text/html": [
       "<div>\n",
       "<style scoped>\n",
       "    .dataframe tbody tr th:only-of-type {\n",
       "        vertical-align: middle;\n",
       "    }\n",
       "\n",
       "    .dataframe tbody tr th {\n",
       "        vertical-align: top;\n",
       "    }\n",
       "\n",
       "    .dataframe thead th {\n",
       "        text-align: right;\n",
       "    }\n",
       "</style>\n",
       "<table border=\"1\" class=\"dataframe\">\n",
       "  <thead>\n",
       "    <tr style=\"text-align: right;\">\n",
       "      <th></th>\n",
       "      <th>const</th>\n",
       "      <th>LV45</th>\n",
       "    </tr>\n",
       "  </thead>\n",
       "  <tbody>\n",
       "    <tr>\n",
       "      <th>HIST1H2BO</th>\n",
       "      <td>1.0</td>\n",
       "      <td>8.480948</td>\n",
       "    </tr>\n",
       "    <tr>\n",
       "      <th>HIST1H2BF</th>\n",
       "      <td>1.0</td>\n",
       "      <td>8.426226</td>\n",
       "    </tr>\n",
       "    <tr>\n",
       "      <th>HIST1H2BK</th>\n",
       "      <td>1.0</td>\n",
       "      <td>8.245903</td>\n",
       "    </tr>\n",
       "    <tr>\n",
       "      <th>HIST1H2BD</th>\n",
       "      <td>1.0</td>\n",
       "      <td>8.119013</td>\n",
       "    </tr>\n",
       "    <tr>\n",
       "      <th>HIST1H2BC</th>\n",
       "      <td>1.0</td>\n",
       "      <td>7.744137</td>\n",
       "    </tr>\n",
       "    <tr>\n",
       "      <th>...</th>\n",
       "      <td>...</td>\n",
       "      <td>...</td>\n",
       "    </tr>\n",
       "    <tr>\n",
       "      <th>TREM1</th>\n",
       "      <td>1.0</td>\n",
       "      <td>0.000000</td>\n",
       "    </tr>\n",
       "    <tr>\n",
       "      <th>TREML2</th>\n",
       "      <td>1.0</td>\n",
       "      <td>0.000000</td>\n",
       "    </tr>\n",
       "    <tr>\n",
       "      <th>TREM2</th>\n",
       "      <td>1.0</td>\n",
       "      <td>0.000000</td>\n",
       "    </tr>\n",
       "    <tr>\n",
       "      <th>NFYA</th>\n",
       "      <td>1.0</td>\n",
       "      <td>0.000000</td>\n",
       "    </tr>\n",
       "    <tr>\n",
       "      <th>SHANK3</th>\n",
       "      <td>1.0</td>\n",
       "      <td>0.000000</td>\n",
       "    </tr>\n",
       "  </tbody>\n",
       "</table>\n",
       "<p>6442 rows × 2 columns</p>\n",
       "</div>"
      ],
      "text/plain": [
       "           const      LV45\n",
       "HIST1H2BO    1.0  8.480948\n",
       "HIST1H2BF    1.0  8.426226\n",
       "HIST1H2BK    1.0  8.245903\n",
       "HIST1H2BD    1.0  8.119013\n",
       "HIST1H2BC    1.0  7.744137\n",
       "...          ...       ...\n",
       "TREM1        1.0  0.000000\n",
       "TREML2       1.0  0.000000\n",
       "TREM2        1.0  0.000000\n",
       "NFYA         1.0  0.000000\n",
       "SHANK3       1.0  0.000000\n",
       "\n",
       "[6442 rows x 2 columns]"
      ]
     },
     "execution_count": 55,
     "metadata": {},
     "output_type": "execute_result"
    }
   ],
   "source": [
    "X.sort_values(lv_code, ascending=False)"
   ]
  },
  {
   "cell_type": "code",
   "execution_count": 56,
   "id": "4ee8aaff-5e86-4a62-b2be-9dee462c0456",
   "metadata": {},
   "outputs": [
    {
     "data": {
      "text/html": [
       "<div>\n",
       "<style scoped>\n",
       "    .dataframe tbody tr th:only-of-type {\n",
       "        vertical-align: middle;\n",
       "    }\n",
       "\n",
       "    .dataframe tbody tr th {\n",
       "        vertical-align: top;\n",
       "    }\n",
       "\n",
       "    .dataframe thead th {\n",
       "        text-align: right;\n",
       "    }\n",
       "</style>\n",
       "<table border=\"1\" class=\"dataframe\">\n",
       "  <thead>\n",
       "    <tr style=\"text-align: right;\">\n",
       "      <th></th>\n",
       "      <th>const</th>\n",
       "      <th>LV45</th>\n",
       "    </tr>\n",
       "  </thead>\n",
       "  <tbody>\n",
       "    <tr>\n",
       "      <th>HIST1H2BO</th>\n",
       "      <td>1.0</td>\n",
       "      <td>27.865226</td>\n",
       "    </tr>\n",
       "    <tr>\n",
       "      <th>HIST1H2BF</th>\n",
       "      <td>1.0</td>\n",
       "      <td>27.685041</td>\n",
       "    </tr>\n",
       "    <tr>\n",
       "      <th>HIST1H2BK</th>\n",
       "      <td>1.0</td>\n",
       "      <td>27.091293</td>\n",
       "    </tr>\n",
       "    <tr>\n",
       "      <th>HIST1H2BD</th>\n",
       "      <td>1.0</td>\n",
       "      <td>26.673482</td>\n",
       "    </tr>\n",
       "    <tr>\n",
       "      <th>HIST1H2BC</th>\n",
       "      <td>1.0</td>\n",
       "      <td>25.439130</td>\n",
       "    </tr>\n",
       "    <tr>\n",
       "      <th>...</th>\n",
       "      <td>...</td>\n",
       "      <td>...</td>\n",
       "    </tr>\n",
       "    <tr>\n",
       "      <th>TREM1</th>\n",
       "      <td>1.0</td>\n",
       "      <td>-0.059957</td>\n",
       "    </tr>\n",
       "    <tr>\n",
       "      <th>TREML2</th>\n",
       "      <td>1.0</td>\n",
       "      <td>-0.059957</td>\n",
       "    </tr>\n",
       "    <tr>\n",
       "      <th>TREM2</th>\n",
       "      <td>1.0</td>\n",
       "      <td>-0.059957</td>\n",
       "    </tr>\n",
       "    <tr>\n",
       "      <th>NFYA</th>\n",
       "      <td>1.0</td>\n",
       "      <td>-0.059957</td>\n",
       "    </tr>\n",
       "    <tr>\n",
       "      <th>SHANK3</th>\n",
       "      <td>1.0</td>\n",
       "      <td>-0.059957</td>\n",
       "    </tr>\n",
       "  </tbody>\n",
       "</table>\n",
       "<p>6442 rows × 2 columns</p>\n",
       "</div>"
      ],
      "text/plain": [
       "           const       LV45\n",
       "HIST1H2BO    1.0  27.865226\n",
       "HIST1H2BF    1.0  27.685041\n",
       "HIST1H2BK    1.0  27.091293\n",
       "HIST1H2BD    1.0  26.673482\n",
       "HIST1H2BC    1.0  25.439130\n",
       "...          ...        ...\n",
       "TREM1        1.0  -0.059957\n",
       "TREML2       1.0  -0.059957\n",
       "TREM2        1.0  -0.059957\n",
       "NFYA         1.0  -0.059957\n",
       "SHANK3       1.0  -0.059957\n",
       "\n",
       "[6442 rows x 2 columns]"
      ]
     },
     "execution_count": 56,
     "metadata": {},
     "output_type": "execute_result"
    }
   ],
   "source": [
    "Xs.sort_values(lv_code, ascending=False)"
   ]
  },
  {
   "cell_type": "code",
   "execution_count": 57,
   "id": "390aa1f7-461f-4f79-897b-dc927c6cb45e",
   "metadata": {},
   "outputs": [
    {
     "data": {
      "text/plain": [
       "CHPF2     4.039680\n",
       "PRR5      3.726033\n",
       "MMP12     3.686147\n",
       "RBM38     3.581041\n",
       "SOS1      3.528183\n",
       "            ...   \n",
       "GPX3      0.000826\n",
       "SUOX      0.000686\n",
       "SPRED2    0.000364\n",
       "DEGS1     0.000152\n",
       "SAFB      0.000072\n",
       "Length: 6442, dtype: float64"
      ]
     },
     "execution_count": 57,
     "metadata": {},
     "output_type": "execute_result"
    }
   ],
   "source": [
    "y.sort_values(ascending=False)"
   ]
  },
  {
   "cell_type": "code",
   "execution_count": 58,
   "id": "3ffd3129-3261-41ad-a2a1-d59a2f8bb988",
   "metadata": {},
   "outputs": [
    {
     "data": {
      "text/plain": [
       "CHPF2     5.600117\n",
       "PRR5      5.063874\n",
       "MMP12     4.995681\n",
       "RBM38     4.815982\n",
       "SOS1      4.725610\n",
       "            ...   \n",
       "GPX3     -1.305113\n",
       "SUOX     -1.305353\n",
       "SPRED2   -1.305903\n",
       "DEGS1    -1.306266\n",
       "SAFB     -1.306403\n",
       "Length: 6442, dtype: float64"
      ]
     },
     "execution_count": 58,
     "metadata": {},
     "output_type": "execute_result"
    }
   ],
   "source": [
    "ys.sort_values(ascending=False)"
   ]
  },
  {
   "cell_type": "code",
   "execution_count": 59,
   "id": "964aa3fb-7e6b-4a30-a5b4-e3a7c65e39f3",
   "metadata": {},
   "outputs": [],
   "source": [
    "# save phenotype\n",
    "y.to_pickle(OUTPUT_DIR / f\"{phenotype_name}.pkl.xz\")"
   ]
  },
  {
   "cell_type": "markdown",
   "id": "65e3c753-bf07-47b9-9248-bbe2041a079b",
   "metadata": {},
   "source": [
    "## Random phenotype 6 / LV455"
   ]
  },
  {
   "cell_type": "code",
   "execution_count": 68,
   "id": "f8b2369f-9009-4ecd-ad10-c4c1f12d5d6f",
   "metadata": {},
   "outputs": [
    {
     "data": {
      "text/plain": [
       "'multixcan-random_phenotype6-pvalues'"
      ]
     },
     "metadata": {},
     "output_type": "display_data"
    }
   ],
   "source": [
    "lv_code = \"LV455\"\n",
    "phenotype_code = 6\n",
    "\n",
    "phenotype_name = f\"multixcan-random_phenotype{phenotype_code}-pvalues\"\n",
    "display(phenotype_name)"
   ]
  },
  {
   "cell_type": "code",
   "execution_count": 69,
   "id": "2bb07ce6-e81c-4244-bc2b-4114e30e9b5c",
   "metadata": {},
   "outputs": [],
   "source": [
    "X, y = get_data(lv_code, random_phenotype_code=phenotype_code)\n",
    "corr_mat = get_aligned_corr_mat(X, perc=PERC_NONZERO_GENES)\n",
    "\n",
    "Xs, ys = standardize_data(X, y)\n",
    "_gls_results = train_statsmodels_gls(Xs, ys, corr_mat)"
   ]
  },
  {
   "cell_type": "code",
   "execution_count": 70,
   "id": "37f4074f-d433-451f-96c4-be2e9676088d",
   "metadata": {},
   "outputs": [
    {
     "name": "stdout",
     "output_type": "stream",
     "text": [
      "                            GLS Regression Results                            \n",
      "==============================================================================\n",
      "Dep. Variable:                      y   R-squared:                       0.000\n",
      "Model:                            GLS   Adj. R-squared:                 -0.000\n",
      "Method:                 Least Squares   F-statistic:                    0.2301\n",
      "Date:                Mon, 18 Jul 2022   Prob (F-statistic):              0.631\n",
      "Time:                        20:21:53   Log-Likelihood:                -10481.\n",
      "No. Observations:                6442   AIC:                         2.097e+04\n",
      "Df Residuals:                    6440   BIC:                         2.098e+04\n",
      "Df Model:                           1                                         \n",
      "Covariance Type:            nonrobust                                         \n",
      "==============================================================================\n",
      "                 coef    std err          t      P>|t|      [0.025      0.975]\n",
      "------------------------------------------------------------------------------\n",
      "const         -1.1041      0.002   -603.202      0.000      -1.108      -1.100\n",
      "LV455       8.651e-05      0.000      0.480      0.631      -0.000       0.000\n",
      "==============================================================================\n",
      "Omnibus:                      833.276   Durbin-Watson:                   1.203\n",
      "Prob(Omnibus):                  0.000   Jarque-Bera (JB):             1511.242\n",
      "Skew:                           0.846   Prob(JB):                         0.00\n",
      "Kurtosis:                       4.664   Cond. No.                         10.2\n",
      "==============================================================================\n",
      "\n",
      "Notes:\n",
      "[1] Standard Errors assume that the covariance matrix of the errors is correctly specified.\n"
     ]
    }
   ],
   "source": [
    "print(_gls_results.summary())"
   ]
  },
  {
   "cell_type": "code",
   "execution_count": 71,
   "id": "162b2ae0-1a42-4945-b1f8-0756899d3b42",
   "metadata": {},
   "outputs": [
    {
     "name": "stdout",
     "output_type": "stream",
     "text": [
      "                            OLS Regression Results                            \n",
      "==============================================================================\n",
      "Dep. Variable:                      y   R-squared:                       0.000\n",
      "Model:                            OLS   Adj. R-squared:                 -0.000\n",
      "Method:                 Least Squares   F-statistic:                    0.2956\n",
      "Date:                Mon, 18 Jul 2022   Prob (F-statistic):              0.587\n",
      "Time:                        20:21:53   Log-Likelihood:                -5685.2\n",
      "No. Observations:                6442   AIC:                         1.137e+04\n",
      "Df Residuals:                    6440   BIC:                         1.139e+04\n",
      "Df Model:                           1                                         \n",
      "Covariance Type:            nonrobust                                         \n",
      "==============================================================================\n",
      "                 coef    std err          t      P>|t|      [0.025      0.975]\n",
      "------------------------------------------------------------------------------\n",
      "const          0.7639      0.007    104.494      0.000       0.750       0.778\n",
      "LV455          0.0199      0.037      0.544      0.587      -0.052       0.092\n",
      "==============================================================================\n",
      "Omnibus:                     1108.095   Durbin-Watson:                   1.629\n",
      "Prob(Omnibus):                  0.000   Jarque-Bera (JB):             1901.040\n",
      "Skew:                           1.122   Prob(JB):                         0.00\n",
      "Kurtosis:                       4.429   Cond. No.                         5.02\n",
      "==============================================================================\n",
      "\n",
      "Notes:\n",
      "[1] Standard Errors assume that the covariance matrix of the errors is correctly specified.\n"
     ]
    }
   ],
   "source": [
    "# for debugging purposes I print the OLS results also\n",
    "_tmp_model = sm.OLS(y, X)\n",
    "_tmp_results = _tmp_model.fit()\n",
    "print(_tmp_results.summary())"
   ]
  },
  {
   "cell_type": "code",
   "execution_count": 72,
   "id": "871885f1-7097-4998-904b-50fb16624d35",
   "metadata": {},
   "outputs": [
    {
     "name": "stdout",
     "output_type": "stream",
     "text": [
      "8.650711873537164e-05\n",
      "0.00018035107257825515\n",
      "0.47965957451035285\n",
      "0.6314857662460573\n",
      "0.3157428831230287\n"
     ]
    }
   ],
   "source": [
    "# print full numbers\n",
    "with np.printoptions(threshold=sys.maxsize, precision=20):\n",
    "    print(_gls_results.params.to_numpy()[1])\n",
    "    print(_gls_results.bse.to_numpy()[1])\n",
    "    print(_gls_results.tvalues.to_numpy()[1])\n",
    "    print(_gls_results.pvalues.to_numpy()[1])\n",
    "    print(stats.t.sf(_gls_results.tvalues.to_numpy()[1], _gls_results.df_resid))"
   ]
  },
  {
   "cell_type": "code",
   "execution_count": 73,
   "id": "f4da113e-7563-49e6-a76b-8c6ee7e8b1b8",
   "metadata": {},
   "outputs": [
    {
     "data": {
      "text/html": [
       "<div>\n",
       "<style scoped>\n",
       "    .dataframe tbody tr th:only-of-type {\n",
       "        vertical-align: middle;\n",
       "    }\n",
       "\n",
       "    .dataframe tbody tr th {\n",
       "        vertical-align: top;\n",
       "    }\n",
       "\n",
       "    .dataframe thead th {\n",
       "        text-align: right;\n",
       "    }\n",
       "</style>\n",
       "<table border=\"1\" class=\"dataframe\">\n",
       "  <thead>\n",
       "    <tr style=\"text-align: right;\">\n",
       "      <th></th>\n",
       "      <th>const</th>\n",
       "      <th>LV455</th>\n",
       "    </tr>\n",
       "  </thead>\n",
       "  <tbody>\n",
       "    <tr>\n",
       "      <th>CACNA1A</th>\n",
       "      <td>1.0</td>\n",
       "      <td>8.294351</td>\n",
       "    </tr>\n",
       "    <tr>\n",
       "      <th>ZNF26</th>\n",
       "      <td>1.0</td>\n",
       "      <td>7.956442</td>\n",
       "    </tr>\n",
       "    <tr>\n",
       "      <th>ARHGAP42</th>\n",
       "      <td>1.0</td>\n",
       "      <td>5.592084</td>\n",
       "    </tr>\n",
       "    <tr>\n",
       "      <th>UBE2B</th>\n",
       "      <td>1.0</td>\n",
       "      <td>5.379685</td>\n",
       "    </tr>\n",
       "    <tr>\n",
       "      <th>GAB2</th>\n",
       "      <td>1.0</td>\n",
       "      <td>3.946462</td>\n",
       "    </tr>\n",
       "    <tr>\n",
       "      <th>...</th>\n",
       "      <td>...</td>\n",
       "      <td>...</td>\n",
       "    </tr>\n",
       "    <tr>\n",
       "      <th>ZNF655</th>\n",
       "      <td>1.0</td>\n",
       "      <td>0.000000</td>\n",
       "    </tr>\n",
       "    <tr>\n",
       "      <th>ZKSCAN5</th>\n",
       "      <td>1.0</td>\n",
       "      <td>0.000000</td>\n",
       "    </tr>\n",
       "    <tr>\n",
       "      <th>ZNF394</th>\n",
       "      <td>1.0</td>\n",
       "      <td>0.000000</td>\n",
       "    </tr>\n",
       "    <tr>\n",
       "      <th>ATP5J2</th>\n",
       "      <td>1.0</td>\n",
       "      <td>0.000000</td>\n",
       "    </tr>\n",
       "    <tr>\n",
       "      <th>SHANK3</th>\n",
       "      <td>1.0</td>\n",
       "      <td>0.000000</td>\n",
       "    </tr>\n",
       "  </tbody>\n",
       "</table>\n",
       "<p>6442 rows × 2 columns</p>\n",
       "</div>"
      ],
      "text/plain": [
       "          const     LV455\n",
       "CACNA1A     1.0  8.294351\n",
       "ZNF26       1.0  7.956442\n",
       "ARHGAP42    1.0  5.592084\n",
       "UBE2B       1.0  5.379685\n",
       "GAB2        1.0  3.946462\n",
       "...         ...       ...\n",
       "ZNF655      1.0  0.000000\n",
       "ZKSCAN5     1.0  0.000000\n",
       "ZNF394      1.0  0.000000\n",
       "ATP5J2      1.0  0.000000\n",
       "SHANK3      1.0  0.000000\n",
       "\n",
       "[6442 rows x 2 columns]"
      ]
     },
     "execution_count": 73,
     "metadata": {},
     "output_type": "execute_result"
    }
   ],
   "source": [
    "X.sort_values(lv_code, ascending=False)"
   ]
  },
  {
   "cell_type": "code",
   "execution_count": 74,
   "id": "965dacd9-e83c-4919-9dbe-2cf6dc3778f2",
   "metadata": {},
   "outputs": [
    {
     "data": {
      "text/plain": [
       "CHPF2     4.039680\n",
       "PRR5      3.726033\n",
       "MMP12     3.686147\n",
       "RBM38     3.581041\n",
       "SOS1      3.528183\n",
       "            ...   \n",
       "GPX3      0.000826\n",
       "SUOX      0.000686\n",
       "SPRED2    0.000364\n",
       "DEGS1     0.000152\n",
       "SAFB      0.000072\n",
       "Length: 6442, dtype: float64"
      ]
     },
     "execution_count": 74,
     "metadata": {},
     "output_type": "execute_result"
    }
   ],
   "source": [
    "y.sort_values(ascending=False)"
   ]
  },
  {
   "cell_type": "code",
   "execution_count": 75,
   "id": "4e5e52d0-af7b-4b66-805e-576bbb6f7e13",
   "metadata": {},
   "outputs": [],
   "source": [
    "# save phenotype\n",
    "y.to_pickle(OUTPUT_DIR / f\"{phenotype_name}.pkl.xz\")"
   ]
  },
  {
   "cell_type": "markdown",
   "id": "ec4be667-0372-4c43-8d23-bb8915f4749b",
   "metadata": {},
   "source": [
    "## Random phenotype 0 / LV800"
   ]
  },
  {
   "cell_type": "code",
   "execution_count": 76,
   "id": "a387299e-ab0c-4425-b5e5-322fd01e8897",
   "metadata": {},
   "outputs": [
    {
     "data": {
      "text/plain": [
       "'multixcan-random_phenotype0-pvalues'"
      ]
     },
     "metadata": {},
     "output_type": "display_data"
    }
   ],
   "source": [
    "lv_code = \"LV800\"\n",
    "phenotype_code = 0\n",
    "\n",
    "phenotype_name = f\"multixcan-random_phenotype{phenotype_code}-pvalues\"\n",
    "display(phenotype_name)"
   ]
  },
  {
   "cell_type": "code",
   "execution_count": 77,
   "id": "0b39fa86-e789-4776-9810-aba34bc59c7d",
   "metadata": {},
   "outputs": [],
   "source": [
    "X, y = get_data(lv_code, random_phenotype_code=phenotype_code)\n",
    "corr_mat = get_aligned_corr_mat(X, perc=PERC_NONZERO_GENES)\n",
    "\n",
    "Xs, ys = standardize_data(X, y)\n",
    "_gls_results = train_statsmodels_gls(Xs, ys, corr_mat)"
   ]
  },
  {
   "cell_type": "code",
   "execution_count": 78,
   "id": "9275ada7-d0df-4b80-825e-9f0886089057",
   "metadata": {},
   "outputs": [
    {
     "name": "stdout",
     "output_type": "stream",
     "text": [
      "                            GLS Regression Results                            \n",
      "==============================================================================\n",
      "Dep. Variable:                      y   R-squared:                       0.001\n",
      "Model:                            GLS   Adj. R-squared:                  0.001\n",
      "Method:                 Least Squares   F-statistic:                     7.383\n",
      "Date:                Mon, 18 Jul 2022   Prob (F-statistic):            0.00660\n",
      "Time:                        20:25:33   Log-Likelihood:                -11319.\n",
      "No. Observations:                6442   AIC:                         2.264e+04\n",
      "Df Residuals:                    6440   BIC:                         2.266e+04\n",
      "Df Model:                           1                                         \n",
      "Covariance Type:            nonrobust                                         \n",
      "==============================================================================\n",
      "                 coef    std err          t      P>|t|      [0.025      0.975]\n",
      "------------------------------------------------------------------------------\n",
      "const         -1.4327      0.006   -248.297      0.000      -1.444      -1.421\n",
      "LV800         -0.0009      0.000     -2.717      0.007      -0.001      -0.000\n",
      "==============================================================================\n",
      "Omnibus:                     1881.220   Durbin-Watson:                   1.041\n",
      "Prob(Omnibus):                  0.000   Jarque-Bera (JB):           219973.773\n",
      "Skew:                          -0.259   Prob(JB):                         0.00\n",
      "Kurtosis:                      31.623   Cond. No.                         50.3\n",
      "==============================================================================\n",
      "\n",
      "Notes:\n",
      "[1] Standard Errors assume that the covariance matrix of the errors is correctly specified.\n"
     ]
    }
   ],
   "source": [
    "print(_gls_results.summary())"
   ]
  },
  {
   "cell_type": "code",
   "execution_count": 79,
   "id": "83d6698e-ccd5-48ca-a3e8-9e9b049e0d79",
   "metadata": {},
   "outputs": [
    {
     "name": "stdout",
     "output_type": "stream",
     "text": [
      "                            OLS Regression Results                            \n",
      "==============================================================================\n",
      "Dep. Variable:                      y   R-squared:                       0.000\n",
      "Model:                            OLS   Adj. R-squared:                 -0.000\n",
      "Method:                 Least Squares   F-statistic:                    0.4172\n",
      "Date:                Mon, 18 Jul 2022   Prob (F-statistic):              0.518\n",
      "Time:                        20:25:33   Log-Likelihood:                -5887.9\n",
      "No. Observations:                6442   AIC:                         1.178e+04\n",
      "Df Residuals:                    6440   BIC:                         1.179e+04\n",
      "Df Model:                           1                                         \n",
      "Covariance Type:            nonrobust                                         \n",
      "==============================================================================\n",
      "                 coef    std err          t      P>|t|      [0.025      0.975]\n",
      "------------------------------------------------------------------------------\n",
      "const          0.7706      0.008     98.662      0.000       0.755       0.786\n",
      "LV800          0.0254      0.039      0.646      0.518      -0.052       0.103\n",
      "==============================================================================\n",
      "Omnibus:                     1069.805   Durbin-Watson:                   1.618\n",
      "Prob(Omnibus):                  0.000   Jarque-Bera (JB):             1777.302\n",
      "Skew:                           1.108   Prob(JB):                         0.00\n",
      "Kurtosis:                       4.308   Cond. No.                         5.25\n",
      "==============================================================================\n",
      "\n",
      "Notes:\n",
      "[1] Standard Errors assume that the covariance matrix of the errors is correctly specified.\n"
     ]
    }
   ],
   "source": [
    "# for debugging purposes I print the OLS results also\n",
    "_tmp_model = sm.OLS(y, X)\n",
    "_tmp_results = _tmp_model.fit()\n",
    "print(_tmp_results.summary())"
   ]
  },
  {
   "cell_type": "code",
   "execution_count": 80,
   "id": "c0dc22fd-358c-4c41-881a-cd6fa38e68ef",
   "metadata": {},
   "outputs": [
    {
     "name": "stdout",
     "output_type": "stream",
     "text": [
      "-0.0008674165392909389\n",
      "0.0003192417956200798\n",
      "-2.717114585845851\n",
      "0.0066029845360324755\n",
      "0.9966985077319838\n"
     ]
    }
   ],
   "source": [
    "# print full numbers\n",
    "with np.printoptions(threshold=sys.maxsize, precision=20):\n",
    "    print(_gls_results.params.to_numpy()[1])\n",
    "    print(_gls_results.bse.to_numpy()[1])\n",
    "    print(_gls_results.tvalues.to_numpy()[1])\n",
    "    print(_gls_results.pvalues.to_numpy()[1])\n",
    "    print(stats.t.sf(_gls_results.tvalues.to_numpy()[1], _gls_results.df_resid))"
   ]
  },
  {
   "cell_type": "code",
   "execution_count": 81,
   "id": "38f466f2-9178-4557-b6e2-f5326fd8dee9",
   "metadata": {},
   "outputs": [
    {
     "data": {
      "text/html": [
       "<div>\n",
       "<style scoped>\n",
       "    .dataframe tbody tr th:only-of-type {\n",
       "        vertical-align: middle;\n",
       "    }\n",
       "\n",
       "    .dataframe tbody tr th {\n",
       "        vertical-align: top;\n",
       "    }\n",
       "\n",
       "    .dataframe thead th {\n",
       "        text-align: right;\n",
       "    }\n",
       "</style>\n",
       "<table border=\"1\" class=\"dataframe\">\n",
       "  <thead>\n",
       "    <tr style=\"text-align: right;\">\n",
       "      <th></th>\n",
       "      <th>const</th>\n",
       "      <th>LV800</th>\n",
       "    </tr>\n",
       "  </thead>\n",
       "  <tbody>\n",
       "    <tr>\n",
       "      <th>ZNF20</th>\n",
       "      <td>1.0</td>\n",
       "      <td>1.980700</td>\n",
       "    </tr>\n",
       "    <tr>\n",
       "      <th>ZNF606</th>\n",
       "      <td>1.0</td>\n",
       "      <td>1.931659</td>\n",
       "    </tr>\n",
       "    <tr>\n",
       "      <th>ZNF551</th>\n",
       "      <td>1.0</td>\n",
       "      <td>1.832833</td>\n",
       "    </tr>\n",
       "    <tr>\n",
       "      <th>ZNF543</th>\n",
       "      <td>1.0</td>\n",
       "      <td>1.701683</td>\n",
       "    </tr>\n",
       "    <tr>\n",
       "      <th>ZNF14</th>\n",
       "      <td>1.0</td>\n",
       "      <td>1.640789</td>\n",
       "    </tr>\n",
       "  </tbody>\n",
       "</table>\n",
       "</div>"
      ],
      "text/plain": [
       "        const     LV800\n",
       "ZNF20     1.0  1.980700\n",
       "ZNF606    1.0  1.931659\n",
       "ZNF551    1.0  1.832833\n",
       "ZNF543    1.0  1.701683\n",
       "ZNF14     1.0  1.640789"
      ]
     },
     "execution_count": 81,
     "metadata": {},
     "output_type": "execute_result"
    }
   ],
   "source": [
    "X.sort_values(lv_code, ascending=False).head()"
   ]
  },
  {
   "cell_type": "code",
   "execution_count": 82,
   "id": "6f387e1b-ade6-43ee-9d5a-91df455ae15d",
   "metadata": {},
   "outputs": [
    {
     "data": {
      "text/plain": [
       "GPATCH1    3.951082\n",
       "NFKBIA     3.900707\n",
       "TTC5       3.870256\n",
       "ZNF17      3.807992\n",
       "ZNF563     3.747230\n",
       "dtype: float64"
      ]
     },
     "execution_count": 82,
     "metadata": {},
     "output_type": "execute_result"
    }
   ],
   "source": [
    "y.sort_values(ascending=False).head()"
   ]
  },
  {
   "cell_type": "code",
   "execution_count": 83,
   "id": "7016bfd2-f27b-41f6-9ffc-27135bb2f1ce",
   "metadata": {},
   "outputs": [],
   "source": [
    "# save phenotype\n",
    "y.to_pickle(OUTPUT_DIR / f\"{phenotype_name}.pkl.xz\")"
   ]
  },
  {
   "cell_type": "markdown",
   "id": "c61d3662-1ac7-4bb5-989d-5fe3708d7bae",
   "metadata": {
    "papermill": {
     "duration": 0.012899,
     "end_time": "2022-07-11T13:23:15.569947",
     "exception": false,
     "start_time": "2022-07-11T13:23:15.557048",
     "status": "completed"
    },
    "tags": []
   },
   "source": [
    "# [sub corr matrix ] GLS on randomly generated phenotypes"
   ]
  },
  {
   "cell_type": "code",
   "execution_count": 144,
   "id": "e891f483-ce8d-4d9d-8aeb-4f251837812f",
   "metadata": {},
   "outputs": [],
   "source": [
    "PERC_NONZERO_GENES = 1.00"
   ]
  },
  {
   "cell_type": "markdown",
   "id": "8e89a38f-3586-43c6-a9e9-7f0364ae12c9",
   "metadata": {},
   "source": [
    "## Random phenotype 6 / LV45"
   ]
  },
  {
   "cell_type": "code",
   "execution_count": 145,
   "id": "331460e1-4722-4579-8dca-3cd337424bca",
   "metadata": {},
   "outputs": [
    {
     "data": {
      "text/plain": [
       "'multixcan-random_phenotype6-pvalues'"
      ]
     },
     "metadata": {},
     "output_type": "display_data"
    }
   ],
   "source": [
    "lv_code = \"LV45\"\n",
    "phenotype_code = 6\n",
    "\n",
    "phenotype_name = f\"multixcan-random_phenotype{phenotype_code}-pvalues\"\n",
    "display(phenotype_name)"
   ]
  },
  {
   "cell_type": "code",
   "execution_count": 146,
   "id": "d3e8b704-0d0f-4720-a98f-525b0c2bb300",
   "metadata": {},
   "outputs": [],
   "source": [
    "X, y = get_data(lv_code, random_phenotype_code=phenotype_code)\n",
    "corr_mat = get_aligned_corr_mat(X, perc=PERC_NONZERO_GENES)\n",
    "\n",
    "Xs, ys = standardize_data(X, y)\n",
    "_gls_results = train_statsmodels_gls(Xs, ys, corr_mat)"
   ]
  },
  {
   "cell_type": "code",
   "execution_count": 147,
   "id": "f8795e2d-1f9c-4320-8a47-50d60c97bfe4",
   "metadata": {},
   "outputs": [
    {
     "name": "stdout",
     "output_type": "stream",
     "text": [
      "                            GLS Regression Results                            \n",
      "==============================================================================\n",
      "Dep. Variable:                      y   R-squared:                       0.000\n",
      "Model:                            GLS   Adj. R-squared:                  0.000\n",
      "Method:                 Least Squares   F-statistic:                     1.249\n",
      "Date:                Mon, 18 Jul 2022   Prob (F-statistic):              0.264\n",
      "Time:                        20:47:39   Log-Likelihood:                -9137.4\n",
      "No. Observations:                6442   AIC:                         1.828e+04\n",
      "Df Residuals:                    6440   BIC:                         1.829e+04\n",
      "Df Model:                           1                                         \n",
      "Covariance Type:            nonrobust                                         \n",
      "==============================================================================\n",
      "                 coef    std err          t      P>|t|      [0.025      0.975]\n",
      "------------------------------------------------------------------------------\n",
      "const          0.0002      0.013      0.017      0.987      -0.024       0.025\n",
      "LV45          -0.0130      0.012     -1.117      0.264      -0.036       0.010\n",
      "==============================================================================\n",
      "Omnibus:                     1100.608   Durbin-Watson:                   1.637\n",
      "Prob(Omnibus):                  0.000   Jarque-Bera (JB):             1884.344\n",
      "Skew:                           1.116   Prob(JB):                         0.00\n",
      "Kurtosis:                       4.426   Cond. No.                         1.08\n",
      "==============================================================================\n",
      "\n",
      "Notes:\n",
      "[1] Standard Errors assume that the covariance matrix of the errors is correctly specified.\n"
     ]
    }
   ],
   "source": [
    "print(_gls_results.summary())"
   ]
  },
  {
   "cell_type": "code",
   "execution_count": 148,
   "id": "bc89908f-8536-4289-b95f-189e2800395d",
   "metadata": {},
   "outputs": [
    {
     "name": "stdout",
     "output_type": "stream",
     "text": [
      "                            OLS Regression Results                            \n",
      "==============================================================================\n",
      "Dep. Variable:                      y   R-squared:                       0.001\n",
      "Model:                            OLS   Adj. R-squared:                  0.000\n",
      "Method:                 Least Squares   F-statistic:                     3.429\n",
      "Date:                Mon, 18 Jul 2022   Prob (F-statistic):             0.0641\n",
      "Time:                        20:47:39   Log-Likelihood:                -5683.6\n",
      "No. Observations:                6442   AIC:                         1.137e+04\n",
      "Df Residuals:                    6440   BIC:                         1.138e+04\n",
      "Df Model:                           1                                         \n",
      "Covariance Type:            nonrobust                                         \n",
      "==============================================================================\n",
      "                 coef    std err          t      P>|t|      [0.025      0.975]\n",
      "------------------------------------------------------------------------------\n",
      "const          0.7650      0.007    104.807      0.000       0.751       0.779\n",
      "LV45          -0.0444      0.024     -1.852      0.064      -0.091       0.003\n",
      "==============================================================================\n",
      "Omnibus:                     1105.575   Durbin-Watson:                   1.630\n",
      "Prob(Omnibus):                  0.000   Jarque-Bera (JB):             1894.745\n",
      "Skew:                           1.121   Prob(JB):                         0.00\n",
      "Kurtosis:                       4.427   Cond. No.                         3.29\n",
      "==============================================================================\n",
      "\n",
      "Notes:\n",
      "[1] Standard Errors assume that the covariance matrix of the errors is correctly specified.\n"
     ]
    }
   ],
   "source": [
    "# for debugging purposes I print the OLS results also\n",
    "_tmp_model = sm.OLS(y, X)\n",
    "_tmp_results = _tmp_model.fit()\n",
    "print(_tmp_results.summary())"
   ]
  },
  {
   "cell_type": "code",
   "execution_count": 149,
   "id": "c1597a73-4851-4dc9-a33d-a65d5a3ed9a7",
   "metadata": {},
   "outputs": [
    {
     "name": "stdout",
     "output_type": "stream",
     "text": [
      "-0.012985100862501646\n",
      "0.011620815913625014\n",
      "-1.117400099873973\n",
      "0.2638649762970155\n",
      "0.8680675118514922\n"
     ]
    }
   ],
   "source": [
    "# print full numbers\n",
    "with np.printoptions(threshold=sys.maxsize, precision=20):\n",
    "    print(_gls_results.params.to_numpy()[1])\n",
    "    print(_gls_results.bse.to_numpy()[1])\n",
    "    print(_gls_results.tvalues.to_numpy()[1])\n",
    "    print(_gls_results.pvalues.to_numpy()[1])\n",
    "    print(stats.t.sf(_gls_results.tvalues.to_numpy()[1], _gls_results.df_resid))"
   ]
  },
  {
   "cell_type": "code",
   "execution_count": 150,
   "id": "13160101-6f98-4eed-b99c-1234fff84d17",
   "metadata": {},
   "outputs": [
    {
     "data": {
      "text/html": [
       "<div>\n",
       "<style scoped>\n",
       "    .dataframe tbody tr th:only-of-type {\n",
       "        vertical-align: middle;\n",
       "    }\n",
       "\n",
       "    .dataframe tbody tr th {\n",
       "        vertical-align: top;\n",
       "    }\n",
       "\n",
       "    .dataframe thead th {\n",
       "        text-align: right;\n",
       "    }\n",
       "</style>\n",
       "<table border=\"1\" class=\"dataframe\">\n",
       "  <thead>\n",
       "    <tr style=\"text-align: right;\">\n",
       "      <th></th>\n",
       "      <th>const</th>\n",
       "      <th>LV45</th>\n",
       "    </tr>\n",
       "  </thead>\n",
       "  <tbody>\n",
       "    <tr>\n",
       "      <th>HIST1H2BO</th>\n",
       "      <td>1.0</td>\n",
       "      <td>8.480948</td>\n",
       "    </tr>\n",
       "    <tr>\n",
       "      <th>HIST1H2BF</th>\n",
       "      <td>1.0</td>\n",
       "      <td>8.426226</td>\n",
       "    </tr>\n",
       "    <tr>\n",
       "      <th>HIST1H2BK</th>\n",
       "      <td>1.0</td>\n",
       "      <td>8.245903</td>\n",
       "    </tr>\n",
       "    <tr>\n",
       "      <th>HIST1H2BD</th>\n",
       "      <td>1.0</td>\n",
       "      <td>8.119013</td>\n",
       "    </tr>\n",
       "    <tr>\n",
       "      <th>HIST1H2BC</th>\n",
       "      <td>1.0</td>\n",
       "      <td>7.744137</td>\n",
       "    </tr>\n",
       "  </tbody>\n",
       "</table>\n",
       "</div>"
      ],
      "text/plain": [
       "           const      LV45\n",
       "HIST1H2BO    1.0  8.480948\n",
       "HIST1H2BF    1.0  8.426226\n",
       "HIST1H2BK    1.0  8.245903\n",
       "HIST1H2BD    1.0  8.119013\n",
       "HIST1H2BC    1.0  7.744137"
      ]
     },
     "execution_count": 150,
     "metadata": {},
     "output_type": "execute_result"
    }
   ],
   "source": [
    "X.sort_values(lv_code, ascending=False).head()"
   ]
  },
  {
   "cell_type": "code",
   "execution_count": 151,
   "id": "c1b3c9d9-be48-43eb-8373-980d8411c49b",
   "metadata": {},
   "outputs": [
    {
     "data": {
      "text/plain": [
       "CHPF2    4.039680\n",
       "PRR5     3.726033\n",
       "MMP12    3.686147\n",
       "RBM38    3.581041\n",
       "SOS1     3.528183\n",
       "dtype: float64"
      ]
     },
     "execution_count": 151,
     "metadata": {},
     "output_type": "execute_result"
    }
   ],
   "source": [
    "y.sort_values(ascending=False).head()"
   ]
  },
  {
   "cell_type": "code",
   "execution_count": 152,
   "id": "30428b4b-31ef-4ca5-aeb4-3e3ccbc9df38",
   "metadata": {},
   "outputs": [],
   "source": [
    "# save phenotype\n",
    "y.to_pickle(OUTPUT_DIR / f\"{phenotype_name}.pkl.xz\")"
   ]
  },
  {
   "cell_type": "markdown",
   "id": "9da1adf4-9f0c-4845-9658-6dc75f85d97c",
   "metadata": {},
   "source": [
    "## Random phenotype 6 / LV455"
   ]
  },
  {
   "cell_type": "code",
   "execution_count": 153,
   "id": "fea22baf-7f44-48c4-bddc-14325ddb1f99",
   "metadata": {},
   "outputs": [
    {
     "data": {
      "text/plain": [
       "'multixcan-random_phenotype6-pvalues'"
      ]
     },
     "metadata": {},
     "output_type": "display_data"
    }
   ],
   "source": [
    "lv_code = \"LV455\"\n",
    "phenotype_code = 6\n",
    "\n",
    "phenotype_name = f\"multixcan-random_phenotype{phenotype_code}-pvalues\"\n",
    "display(phenotype_name)"
   ]
  },
  {
   "cell_type": "code",
   "execution_count": 154,
   "id": "f0b2b9de-0055-4120-99ef-85299bea5535",
   "metadata": {},
   "outputs": [],
   "source": [
    "X, y = get_data(lv_code, random_phenotype_code=phenotype_code)\n",
    "corr_mat = get_aligned_corr_mat(X, perc=PERC_NONZERO_GENES)\n",
    "\n",
    "Xs, ys = standardize_data(X, y)\n",
    "_gls_results = train_statsmodels_gls(Xs, ys, corr_mat)"
   ]
  },
  {
   "cell_type": "code",
   "execution_count": 155,
   "id": "f055e9c5-1f98-428c-9408-d7a7763f5436",
   "metadata": {},
   "outputs": [
    {
     "name": "stdout",
     "output_type": "stream",
     "text": [
      "                            GLS Regression Results                            \n",
      "==============================================================================\n",
      "Dep. Variable:                      y   R-squared:                       0.000\n",
      "Model:                            GLS   Adj. R-squared:                 -0.000\n",
      "Method:                 Least Squares   F-statistic:                    0.2274\n",
      "Date:                Mon, 18 Jul 2022   Prob (F-statistic):              0.633\n",
      "Time:                        20:48:27   Log-Likelihood:                -9085.7\n",
      "No. Observations:                6442   AIC:                         1.818e+04\n",
      "Df Residuals:                    6440   BIC:                         1.819e+04\n",
      "Df Model:                           1                                         \n",
      "Covariance Type:            nonrobust                                         \n",
      "==============================================================================\n",
      "                 coef    std err          t      P>|t|      [0.025      0.975]\n",
      "------------------------------------------------------------------------------\n",
      "const          0.0007      0.013      0.050      0.960      -0.025       0.026\n",
      "LV455          0.0056      0.012      0.477      0.633      -0.017       0.029\n",
      "==============================================================================\n",
      "Omnibus:                     1071.943   Durbin-Watson:                   1.692\n",
      "Prob(Omnibus):                  0.000   Jarque-Bera (JB):             1809.563\n",
      "Skew:                           1.098   Prob(JB):                         0.00\n",
      "Kurtosis:                       4.385   Cond. No.                         1.11\n",
      "==============================================================================\n",
      "\n",
      "Notes:\n",
      "[1] Standard Errors assume that the covariance matrix of the errors is correctly specified.\n"
     ]
    }
   ],
   "source": [
    "print(_gls_results.summary())"
   ]
  },
  {
   "cell_type": "code",
   "execution_count": 156,
   "id": "4368bbca-0ca9-4e76-bfc6-080f42825715",
   "metadata": {},
   "outputs": [
    {
     "name": "stdout",
     "output_type": "stream",
     "text": [
      "                            OLS Regression Results                            \n",
      "==============================================================================\n",
      "Dep. Variable:                      y   R-squared:                       0.000\n",
      "Model:                            OLS   Adj. R-squared:                 -0.000\n",
      "Method:                 Least Squares   F-statistic:                    0.2956\n",
      "Date:                Mon, 18 Jul 2022   Prob (F-statistic):              0.587\n",
      "Time:                        20:48:27   Log-Likelihood:                -5685.2\n",
      "No. Observations:                6442   AIC:                         1.137e+04\n",
      "Df Residuals:                    6440   BIC:                         1.139e+04\n",
      "Df Model:                           1                                         \n",
      "Covariance Type:            nonrobust                                         \n",
      "==============================================================================\n",
      "                 coef    std err          t      P>|t|      [0.025      0.975]\n",
      "------------------------------------------------------------------------------\n",
      "const          0.7639      0.007    104.494      0.000       0.750       0.778\n",
      "LV455          0.0199      0.037      0.544      0.587      -0.052       0.092\n",
      "==============================================================================\n",
      "Omnibus:                     1108.095   Durbin-Watson:                   1.629\n",
      "Prob(Omnibus):                  0.000   Jarque-Bera (JB):             1901.040\n",
      "Skew:                           1.122   Prob(JB):                         0.00\n",
      "Kurtosis:                       4.429   Cond. No.                         5.02\n",
      "==============================================================================\n",
      "\n",
      "Notes:\n",
      "[1] Standard Errors assume that the covariance matrix of the errors is correctly specified.\n"
     ]
    }
   ],
   "source": [
    "# for debugging purposes I print the OLS results also\n",
    "_tmp_model = sm.OLS(y, X)\n",
    "_tmp_results = _tmp_model.fit()\n",
    "print(_tmp_results.summary())"
   ]
  },
  {
   "cell_type": "code",
   "execution_count": 157,
   "id": "b6e6eb98-9488-4c66-b768-22f0bee10788",
   "metadata": {},
   "outputs": [
    {
     "name": "stdout",
     "output_type": "stream",
     "text": [
      "0.005579886461567623\n",
      "0.011701985846626066\n",
      "0.4768324397842631\n",
      "0.6334976228046719\n",
      "0.31674881140233596\n"
     ]
    }
   ],
   "source": [
    "# print full numbers\n",
    "with np.printoptions(threshold=sys.maxsize, precision=20):\n",
    "    print(_gls_results.params.to_numpy()[1])\n",
    "    print(_gls_results.bse.to_numpy()[1])\n",
    "    print(_gls_results.tvalues.to_numpy()[1])\n",
    "    print(_gls_results.pvalues.to_numpy()[1])\n",
    "    print(stats.t.sf(_gls_results.tvalues.to_numpy()[1], _gls_results.df_resid))"
   ]
  },
  {
   "cell_type": "code",
   "execution_count": 158,
   "id": "153c3fb2-9cfe-4a28-a072-043dced8011c",
   "metadata": {},
   "outputs": [
    {
     "data": {
      "text/html": [
       "<div>\n",
       "<style scoped>\n",
       "    .dataframe tbody tr th:only-of-type {\n",
       "        vertical-align: middle;\n",
       "    }\n",
       "\n",
       "    .dataframe tbody tr th {\n",
       "        vertical-align: top;\n",
       "    }\n",
       "\n",
       "    .dataframe thead th {\n",
       "        text-align: right;\n",
       "    }\n",
       "</style>\n",
       "<table border=\"1\" class=\"dataframe\">\n",
       "  <thead>\n",
       "    <tr style=\"text-align: right;\">\n",
       "      <th></th>\n",
       "      <th>const</th>\n",
       "      <th>LV455</th>\n",
       "    </tr>\n",
       "  </thead>\n",
       "  <tbody>\n",
       "    <tr>\n",
       "      <th>CACNA1A</th>\n",
       "      <td>1.0</td>\n",
       "      <td>8.294351</td>\n",
       "    </tr>\n",
       "    <tr>\n",
       "      <th>ZNF26</th>\n",
       "      <td>1.0</td>\n",
       "      <td>7.956442</td>\n",
       "    </tr>\n",
       "    <tr>\n",
       "      <th>ARHGAP42</th>\n",
       "      <td>1.0</td>\n",
       "      <td>5.592084</td>\n",
       "    </tr>\n",
       "    <tr>\n",
       "      <th>UBE2B</th>\n",
       "      <td>1.0</td>\n",
       "      <td>5.379685</td>\n",
       "    </tr>\n",
       "    <tr>\n",
       "      <th>GAB2</th>\n",
       "      <td>1.0</td>\n",
       "      <td>3.946462</td>\n",
       "    </tr>\n",
       "  </tbody>\n",
       "</table>\n",
       "</div>"
      ],
      "text/plain": [
       "          const     LV455\n",
       "CACNA1A     1.0  8.294351\n",
       "ZNF26       1.0  7.956442\n",
       "ARHGAP42    1.0  5.592084\n",
       "UBE2B       1.0  5.379685\n",
       "GAB2        1.0  3.946462"
      ]
     },
     "execution_count": 158,
     "metadata": {},
     "output_type": "execute_result"
    }
   ],
   "source": [
    "X.sort_values(lv_code, ascending=False).head()"
   ]
  },
  {
   "cell_type": "code",
   "execution_count": 159,
   "id": "f6de590c-5176-4949-9dc6-b79a00cbde8a",
   "metadata": {},
   "outputs": [
    {
     "data": {
      "text/plain": [
       "CHPF2    4.039680\n",
       "PRR5     3.726033\n",
       "MMP12    3.686147\n",
       "RBM38    3.581041\n",
       "SOS1     3.528183\n",
       "dtype: float64"
      ]
     },
     "execution_count": 159,
     "metadata": {},
     "output_type": "execute_result"
    }
   ],
   "source": [
    "y.sort_values(ascending=False).head()"
   ]
  },
  {
   "cell_type": "code",
   "execution_count": 160,
   "id": "250edaa3-e519-48b8-bd9b-63dd703c18dd",
   "metadata": {},
   "outputs": [],
   "source": [
    "# save phenotype\n",
    "y.to_pickle(OUTPUT_DIR / f\"{phenotype_name}.pkl.xz\")"
   ]
  },
  {
   "cell_type": "markdown",
   "id": "2ffb8be9-1756-4fba-92c7-5615e9452ac7",
   "metadata": {},
   "source": [
    "## Random phenotype 10 / LV100"
   ]
  },
  {
   "cell_type": "code",
   "execution_count": 112,
   "id": "88607958-3e35-4ba8-a481-658e17a57364",
   "metadata": {},
   "outputs": [
    {
     "data": {
      "text/plain": [
       "'multixcan-random_phenotype10-pvalues'"
      ]
     },
     "metadata": {},
     "output_type": "display_data"
    }
   ],
   "source": [
    "lv_code = \"LV100\"\n",
    "phenotype_code = 10\n",
    "\n",
    "phenotype_name = f\"multixcan-random_phenotype{phenotype_code}-pvalues\"\n",
    "display(phenotype_name)"
   ]
  },
  {
   "cell_type": "code",
   "execution_count": 113,
   "id": "46b748b9-4449-407d-bff5-e542335b52be",
   "metadata": {},
   "outputs": [],
   "source": [
    "X, y = get_data(lv_code, random_phenotype_code=phenotype_code)\n",
    "corr_mat = get_aligned_corr_mat(X, perc=PERC_NONZERO_GENES)\n",
    "\n",
    "Xs, ys = standardize_data(X, y)\n",
    "_gls_results = train_statsmodels_gls(Xs, ys, corr_mat)"
   ]
  },
  {
   "cell_type": "code",
   "execution_count": 114,
   "id": "a04b410a-6c1f-447b-b7a6-5b35352835fa",
   "metadata": {},
   "outputs": [
    {
     "name": "stdout",
     "output_type": "stream",
     "text": [
      "                            GLS Regression Results                            \n",
      "==============================================================================\n",
      "Dep. Variable:                      y   R-squared:                       0.000\n",
      "Model:                            GLS   Adj. R-squared:                 -0.000\n",
      "Method:                 Least Squares   F-statistic:                 4.829e-06\n",
      "Date:                Mon, 18 Jul 2022   Prob (F-statistic):              0.998\n",
      "Time:                        20:32:45   Log-Likelihood:                -8974.5\n",
      "No. Observations:                6442   AIC:                         1.795e+04\n",
      "Df Residuals:                    6440   BIC:                         1.797e+04\n",
      "Df Model:                           1                                         \n",
      "Covariance Type:            nonrobust                                         \n",
      "==============================================================================\n",
      "                 coef    std err          t      P>|t|      [0.025      0.975]\n",
      "------------------------------------------------------------------------------\n",
      "const          0.0092      0.014      0.676      0.499      -0.017       0.036\n",
      "LV100       6.009e-08   2.73e-05      0.002      0.998   -5.35e-05    5.37e-05\n",
      "==============================================================================\n",
      "Omnibus:                      915.706   Durbin-Watson:                   1.718\n",
      "Prob(Omnibus):                  0.000   Jarque-Bera (JB):             1396.907\n",
      "Skew:                           1.017   Prob(JB):                    4.63e-304\n",
      "Kurtosis:                       4.034   Cond. No.                         498.\n",
      "==============================================================================\n",
      "\n",
      "Notes:\n",
      "[1] Standard Errors assume that the covariance matrix of the errors is correctly specified.\n"
     ]
    }
   ],
   "source": [
    "print(_gls_results.summary())"
   ]
  },
  {
   "cell_type": "code",
   "execution_count": 115,
   "id": "39f3a002-a989-4084-94c2-b8b5add1763b",
   "metadata": {},
   "outputs": [
    {
     "name": "stdout",
     "output_type": "stream",
     "text": [
      "                            OLS Regression Results                            \n",
      "==============================================================================\n",
      "Dep. Variable:                      y   R-squared:                       0.000\n",
      "Model:                            OLS   Adj. R-squared:                 -0.000\n",
      "Method:                 Least Squares   F-statistic:                    0.5978\n",
      "Date:                Mon, 18 Jul 2022   Prob (F-statistic):              0.439\n",
      "Time:                        20:32:46   Log-Likelihood:                -5800.3\n",
      "No. Observations:                6442   AIC:                         1.160e+04\n",
      "Df Residuals:                    6440   BIC:                         1.162e+04\n",
      "Df Model:                           1                                         \n",
      "Covariance Type:            nonrobust                                         \n",
      "==============================================================================\n",
      "                 coef    std err          t      P>|t|      [0.025      0.975]\n",
      "------------------------------------------------------------------------------\n",
      "const          0.7726      0.008    102.837      0.000       0.758       0.787\n",
      "LV100         -0.0304      0.039     -0.773      0.439      -0.107       0.047\n",
      "==============================================================================\n",
      "Omnibus:                      944.089   Durbin-Watson:                   1.589\n",
      "Prob(Omnibus):                  0.000   Jarque-Bera (JB):             1443.354\n",
      "Skew:                           1.047   Prob(JB):                         0.00\n",
      "Kurtosis:                       3.994   Cond. No.                         5.30\n",
      "==============================================================================\n",
      "\n",
      "Notes:\n",
      "[1] Standard Errors assume that the covariance matrix of the errors is correctly specified.\n"
     ]
    }
   ],
   "source": [
    "# for debugging purposes I print the OLS results also\n",
    "_tmp_model = sm.OLS(y, X)\n",
    "_tmp_results = _tmp_model.fit()\n",
    "print(_tmp_results.summary())"
   ]
  },
  {
   "cell_type": "code",
   "execution_count": 116,
   "id": "f081badb-7feb-4aee-9ad7-210442a6bc4a",
   "metadata": {},
   "outputs": [
    {
     "name": "stdout",
     "output_type": "stream",
     "text": [
      "6.008877267380782e-08\n",
      "2.7345042158271415e-05\n",
      "0.0021974284159453007\n",
      "0.9982467752659725\n",
      "0.49912338763298625\n"
     ]
    }
   ],
   "source": [
    "# print full numbers\n",
    "with np.printoptions(threshold=sys.maxsize, precision=20):\n",
    "    print(_gls_results.params.to_numpy()[1])\n",
    "    print(_gls_results.bse.to_numpy()[1])\n",
    "    print(_gls_results.tvalues.to_numpy()[1])\n",
    "    print(_gls_results.pvalues.to_numpy()[1])\n",
    "    print(stats.t.sf(_gls_results.tvalues.to_numpy()[1], _gls_results.df_resid))"
   ]
  },
  {
   "cell_type": "code",
   "execution_count": 117,
   "id": "00fd1d8b-655f-4e5a-9589-c0dc77ddcbaf",
   "metadata": {},
   "outputs": [
    {
     "data": {
      "text/html": [
       "<div>\n",
       "<style scoped>\n",
       "    .dataframe tbody tr th:only-of-type {\n",
       "        vertical-align: middle;\n",
       "    }\n",
       "\n",
       "    .dataframe tbody tr th {\n",
       "        vertical-align: top;\n",
       "    }\n",
       "\n",
       "    .dataframe thead th {\n",
       "        text-align: right;\n",
       "    }\n",
       "</style>\n",
       "<table border=\"1\" class=\"dataframe\">\n",
       "  <thead>\n",
       "    <tr style=\"text-align: right;\">\n",
       "      <th></th>\n",
       "      <th>const</th>\n",
       "      <th>LV100</th>\n",
       "    </tr>\n",
       "  </thead>\n",
       "  <tbody>\n",
       "    <tr>\n",
       "      <th>STX4</th>\n",
       "      <td>1.0</td>\n",
       "      <td>6.438276</td>\n",
       "    </tr>\n",
       "    <tr>\n",
       "      <th>RAB11B</th>\n",
       "      <td>1.0</td>\n",
       "      <td>6.341480</td>\n",
       "    </tr>\n",
       "    <tr>\n",
       "      <th>MED11</th>\n",
       "      <td>1.0</td>\n",
       "      <td>5.910379</td>\n",
       "    </tr>\n",
       "    <tr>\n",
       "      <th>NDUFB7</th>\n",
       "      <td>1.0</td>\n",
       "      <td>4.358643</td>\n",
       "    </tr>\n",
       "    <tr>\n",
       "      <th>MRPL34</th>\n",
       "      <td>1.0</td>\n",
       "      <td>3.903225</td>\n",
       "    </tr>\n",
       "  </tbody>\n",
       "</table>\n",
       "</div>"
      ],
      "text/plain": [
       "        const     LV100\n",
       "STX4      1.0  6.438276\n",
       "RAB11B    1.0  6.341480\n",
       "MED11     1.0  5.910379\n",
       "NDUFB7    1.0  4.358643\n",
       "MRPL34    1.0  3.903225"
      ]
     },
     "execution_count": 117,
     "metadata": {},
     "output_type": "execute_result"
    }
   ],
   "source": [
    "X.sort_values(lv_code, ascending=False).head()"
   ]
  },
  {
   "cell_type": "code",
   "execution_count": 118,
   "id": "989d6029-b948-411a-a28c-3eb22c17ff83",
   "metadata": {},
   "outputs": [
    {
     "data": {
      "text/plain": [
       "RPL15     3.852128\n",
       "VAMP4     3.543077\n",
       "HMGCS1    3.404068\n",
       "MED9      3.360888\n",
       "ABCB10    3.335043\n",
       "dtype: float64"
      ]
     },
     "execution_count": 118,
     "metadata": {},
     "output_type": "execute_result"
    }
   ],
   "source": [
    "y.sort_values(ascending=False).head()"
   ]
  },
  {
   "cell_type": "code",
   "execution_count": 119,
   "id": "a3c4911b-e6e6-4fcb-b4ef-a2141ed9fd71",
   "metadata": {},
   "outputs": [],
   "source": [
    "# save phenotype\n",
    "y.to_pickle(OUTPUT_DIR / f\"{phenotype_name}.pkl.xz\")"
   ]
  },
  {
   "cell_type": "markdown",
   "id": "e83ddcff-2a18-4846-9920-3fb4ef46ef16",
   "metadata": {},
   "source": [
    "## Random phenotype 0 / LV800"
   ]
  },
  {
   "cell_type": "code",
   "execution_count": 120,
   "id": "37abcf6c-7291-45e6-85b9-4bfbea650413",
   "metadata": {},
   "outputs": [
    {
     "data": {
      "text/plain": [
       "'multixcan-random_phenotype0-pvalues'"
      ]
     },
     "metadata": {},
     "output_type": "display_data"
    }
   ],
   "source": [
    "lv_code = \"LV800\"\n",
    "phenotype_code = 0\n",
    "\n",
    "phenotype_name = f\"multixcan-random_phenotype{phenotype_code}-pvalues\"\n",
    "display(phenotype_name)"
   ]
  },
  {
   "cell_type": "code",
   "execution_count": 121,
   "id": "117943ff-df05-422e-ba29-5642b8c4e324",
   "metadata": {},
   "outputs": [],
   "source": [
    "X, y = get_data(lv_code, random_phenotype_code=phenotype_code)\n",
    "corr_mat = get_aligned_corr_mat(X, perc=PERC_NONZERO_GENES)\n",
    "\n",
    "Xs, ys = standardize_data(X, y)\n",
    "_gls_results = train_statsmodels_gls(Xs, ys, corr_mat)"
   ]
  },
  {
   "cell_type": "code",
   "execution_count": 122,
   "id": "23065184-7d4a-4995-b8c8-b09cb828c858",
   "metadata": {},
   "outputs": [
    {
     "name": "stdout",
     "output_type": "stream",
     "text": [
      "                            GLS Regression Results                            \n",
      "==============================================================================\n",
      "Dep. Variable:                      y   R-squared:                       0.000\n",
      "Model:                            GLS   Adj. R-squared:                 -0.000\n",
      "Method:                 Least Squares   F-statistic:                    0.1969\n",
      "Date:                Mon, 18 Jul 2022   Prob (F-statistic):              0.657\n",
      "Time:                        20:33:21   Log-Likelihood:                -9062.0\n",
      "No. Observations:                6442   AIC:                         1.813e+04\n",
      "Df Residuals:                    6440   BIC:                         1.814e+04\n",
      "Df Model:                           1                                         \n",
      "Covariance Type:            nonrobust                                         \n",
      "==============================================================================\n",
      "                 coef    std err          t      P>|t|      [0.025      0.975]\n",
      "------------------------------------------------------------------------------\n",
      "const          0.0013      0.013      0.102      0.919      -0.024       0.027\n",
      "LV800          0.0061      0.014      0.444      0.657      -0.021       0.033\n",
      "==============================================================================\n",
      "Omnibus:                     1034.815   Durbin-Watson:                   1.696\n",
      "Prob(Omnibus):                  0.000   Jarque-Bera (JB):             1707.061\n",
      "Skew:                           1.078   Prob(JB):                         0.00\n",
      "Kurtosis:                       4.309   Cond. No.                         1.12\n",
      "==============================================================================\n",
      "\n",
      "Notes:\n",
      "[1] Standard Errors assume that the covariance matrix of the errors is correctly specified.\n"
     ]
    }
   ],
   "source": [
    "print(_gls_results.summary())"
   ]
  },
  {
   "cell_type": "code",
   "execution_count": 123,
   "id": "e648e30e-7177-4f65-a9bb-b507e04eff9f",
   "metadata": {},
   "outputs": [
    {
     "name": "stdout",
     "output_type": "stream",
     "text": [
      "                            OLS Regression Results                            \n",
      "==============================================================================\n",
      "Dep. Variable:                      y   R-squared:                       0.000\n",
      "Model:                            OLS   Adj. R-squared:                 -0.000\n",
      "Method:                 Least Squares   F-statistic:                    0.4172\n",
      "Date:                Mon, 18 Jul 2022   Prob (F-statistic):              0.518\n",
      "Time:                        20:33:21   Log-Likelihood:                -5887.9\n",
      "No. Observations:                6442   AIC:                         1.178e+04\n",
      "Df Residuals:                    6440   BIC:                         1.179e+04\n",
      "Df Model:                           1                                         \n",
      "Covariance Type:            nonrobust                                         \n",
      "==============================================================================\n",
      "                 coef    std err          t      P>|t|      [0.025      0.975]\n",
      "------------------------------------------------------------------------------\n",
      "const          0.7706      0.008     98.662      0.000       0.755       0.786\n",
      "LV800          0.0254      0.039      0.646      0.518      -0.052       0.103\n",
      "==============================================================================\n",
      "Omnibus:                     1069.805   Durbin-Watson:                   1.618\n",
      "Prob(Omnibus):                  0.000   Jarque-Bera (JB):             1777.302\n",
      "Skew:                           1.108   Prob(JB):                         0.00\n",
      "Kurtosis:                       4.308   Cond. No.                         5.25\n",
      "==============================================================================\n",
      "\n",
      "Notes:\n",
      "[1] Standard Errors assume that the covariance matrix of the errors is correctly specified.\n"
     ]
    }
   ],
   "source": [
    "# for debugging purposes I print the OLS results also\n",
    "_tmp_model = sm.OLS(y, X)\n",
    "_tmp_results = _tmp_model.fit()\n",
    "print(_tmp_results.summary())"
   ]
  },
  {
   "cell_type": "code",
   "execution_count": 124,
   "id": "86c32e02-4987-4f2a-a7b6-7f40497fc44e",
   "metadata": {},
   "outputs": [
    {
     "name": "stdout",
     "output_type": "stream",
     "text": [
      "0.006103958765364128\n",
      "0.013754152651896586\n",
      "0.4437902442883271\n",
      "0.6572091521023612\n",
      "0.3286045760511806\n"
     ]
    }
   ],
   "source": [
    "# print full numbers\n",
    "with np.printoptions(threshold=sys.maxsize, precision=20):\n",
    "    print(_gls_results.params.to_numpy()[1])\n",
    "    print(_gls_results.bse.to_numpy()[1])\n",
    "    print(_gls_results.tvalues.to_numpy()[1])\n",
    "    print(_gls_results.pvalues.to_numpy()[1])\n",
    "    print(stats.t.sf(_gls_results.tvalues.to_numpy()[1], _gls_results.df_resid))"
   ]
  },
  {
   "cell_type": "code",
   "execution_count": 125,
   "id": "b038e21d-cca8-4c0b-a437-e3ff7fa9e985",
   "metadata": {},
   "outputs": [
    {
     "data": {
      "text/html": [
       "<div>\n",
       "<style scoped>\n",
       "    .dataframe tbody tr th:only-of-type {\n",
       "        vertical-align: middle;\n",
       "    }\n",
       "\n",
       "    .dataframe tbody tr th {\n",
       "        vertical-align: top;\n",
       "    }\n",
       "\n",
       "    .dataframe thead th {\n",
       "        text-align: right;\n",
       "    }\n",
       "</style>\n",
       "<table border=\"1\" class=\"dataframe\">\n",
       "  <thead>\n",
       "    <tr style=\"text-align: right;\">\n",
       "      <th></th>\n",
       "      <th>const</th>\n",
       "      <th>LV800</th>\n",
       "    </tr>\n",
       "  </thead>\n",
       "  <tbody>\n",
       "    <tr>\n",
       "      <th>ZNF20</th>\n",
       "      <td>1.0</td>\n",
       "      <td>1.980700</td>\n",
       "    </tr>\n",
       "    <tr>\n",
       "      <th>ZNF606</th>\n",
       "      <td>1.0</td>\n",
       "      <td>1.931659</td>\n",
       "    </tr>\n",
       "    <tr>\n",
       "      <th>ZNF551</th>\n",
       "      <td>1.0</td>\n",
       "      <td>1.832833</td>\n",
       "    </tr>\n",
       "    <tr>\n",
       "      <th>ZNF543</th>\n",
       "      <td>1.0</td>\n",
       "      <td>1.701683</td>\n",
       "    </tr>\n",
       "    <tr>\n",
       "      <th>ZNF14</th>\n",
       "      <td>1.0</td>\n",
       "      <td>1.640789</td>\n",
       "    </tr>\n",
       "  </tbody>\n",
       "</table>\n",
       "</div>"
      ],
      "text/plain": [
       "        const     LV800\n",
       "ZNF20     1.0  1.980700\n",
       "ZNF606    1.0  1.931659\n",
       "ZNF551    1.0  1.832833\n",
       "ZNF543    1.0  1.701683\n",
       "ZNF14     1.0  1.640789"
      ]
     },
     "execution_count": 125,
     "metadata": {},
     "output_type": "execute_result"
    }
   ],
   "source": [
    "X.sort_values(lv_code, ascending=False).head()"
   ]
  },
  {
   "cell_type": "code",
   "execution_count": 126,
   "id": "bb7d974c-0f9d-447e-ac7f-6833f22067c9",
   "metadata": {},
   "outputs": [
    {
     "data": {
      "text/plain": [
       "GPATCH1    3.951082\n",
       "NFKBIA     3.900707\n",
       "TTC5       3.870256\n",
       "ZNF17      3.807992\n",
       "ZNF563     3.747230\n",
       "dtype: float64"
      ]
     },
     "execution_count": 126,
     "metadata": {},
     "output_type": "execute_result"
    }
   ],
   "source": [
    "y.sort_values(ascending=False).head()"
   ]
  },
  {
   "cell_type": "code",
   "execution_count": 127,
   "id": "18abe500-4216-4017-a54d-ed6aec63e18e",
   "metadata": {},
   "outputs": [],
   "source": [
    "# save phenotype\n",
    "y.to_pickle(OUTPUT_DIR / f\"{phenotype_name}.pkl.xz\")"
   ]
  },
  {
   "cell_type": "markdown",
   "id": "cff49c9c-e1fc-424a-9abd-fac903e5b02a",
   "metadata": {
    "papermill": {
     "duration": 0.012899,
     "end_time": "2022-07-11T13:23:15.569947",
     "exception": false,
     "start_time": "2022-07-11T13:23:15.557048",
     "status": "completed"
    },
    "tags": []
   },
   "source": [
    "# GLS on real phenotypes"
   ]
  },
  {
   "cell_type": "code",
   "execution_count": 128,
   "id": "f81cf8a3-a3ca-463f-ad7e-4b23434d9674",
   "metadata": {},
   "outputs": [],
   "source": [
    "PERC_NONZERO_GENES = 1.00"
   ]
  },
  {
   "cell_type": "code",
   "execution_count": 129,
   "id": "eeecfcc6-b010-47f3-9f34-24ea22f3b88e",
   "metadata": {},
   "outputs": [
    {
     "data": {
      "text/plain": [
       "Index(['100001_raw-Food_weight', '100002_raw-Energy', '100003_raw-Protein',\n",
       "       '100004_raw-Fat', '100005_raw-Carbohydrate', '100006_raw-Saturated_fat',\n",
       "       '100007_raw-Polyunsaturated_fat', '100008_raw-Total_sugars',\n",
       "       '100009_raw-Englyst_dietary_fibre', '100010-Portion_size',\n",
       "       ...\n",
       "       'visual impairment', 'vitiligo', 'vitreous body disease',\n",
       "       'vocal cord polyp', 'voice disorders',\n",
       "       'wellbeing measurement AND family relationship', 'wheezing',\n",
       "       'whooping cough', 'worry measurement', 'wrist fracture'],\n",
       "      dtype='object', length=3752)"
      ]
     },
     "execution_count": 129,
     "metadata": {},
     "output_type": "execute_result"
    }
   ],
   "source": [
    "multixcan_real_results.columns"
   ]
  },
  {
   "cell_type": "markdown",
   "id": "324f39f6-33f2-4d51-b7de-015b6184b53d",
   "metadata": {},
   "source": [
    "## whooping cough / LV570"
   ]
  },
  {
   "cell_type": "code",
   "execution_count": 130,
   "id": "9fb22ddc-4653-420c-9ac1-40bf8189b0f0",
   "metadata": {},
   "outputs": [
    {
     "data": {
      "text/plain": [
       "'multixcan-phenomexcan-whooping_cough-pvalues'"
      ]
     },
     "metadata": {},
     "output_type": "display_data"
    }
   ],
   "source": [
    "lv_code = \"LV570\"\n",
    "phenotype_code = \"whooping cough\"\n",
    "\n",
    "phenotype_name = f\"multixcan-phenomexcan-{phenotype_code.replace(' ', '_')}-pvalues\"\n",
    "display(phenotype_name)"
   ]
  },
  {
   "cell_type": "code",
   "execution_count": 131,
   "id": "1c00282e-ddff-4516-a19a-ef22afd9f9cc",
   "metadata": {},
   "outputs": [],
   "source": [
    "X, y = get_data(lv_code, real_phenotype_code=phenotype_code)\n",
    "corr_mat = get_aligned_corr_mat(X, perc=PERC_NONZERO_GENES)\n",
    "\n",
    "Xs, ys = standardize_data(X, y)\n",
    "_gls_results = train_statsmodels_gls(Xs, ys, corr_mat)"
   ]
  },
  {
   "cell_type": "code",
   "execution_count": 132,
   "id": "899485df-d693-432b-a8bd-455892a4c8dd",
   "metadata": {},
   "outputs": [
    {
     "name": "stdout",
     "output_type": "stream",
     "text": [
      "                            GLS Regression Results                            \n",
      "==============================================================================\n",
      "Dep. Variable:         whooping cough   R-squared:                       0.000\n",
      "Model:                            GLS   Adj. R-squared:                 -0.000\n",
      "Method:                 Least Squares   F-statistic:                    0.9445\n",
      "Date:                Mon, 18 Jul 2022   Prob (F-statistic):              0.331\n",
      "Time:                        20:34:38   Log-Likelihood:                -9095.1\n",
      "No. Observations:                6450   AIC:                         1.819e+04\n",
      "Df Residuals:                    6448   BIC:                         1.821e+04\n",
      "Df Model:                           1                                         \n",
      "Covariance Type:            nonrobust                                         \n",
      "==============================================================================\n",
      "                 coef    std err          t      P>|t|      [0.025      0.975]\n",
      "------------------------------------------------------------------------------\n",
      "const         -0.0036      0.013     -0.273      0.785      -0.029       0.022\n",
      "LV570          0.0101      0.010      0.972      0.331      -0.010       0.030\n",
      "==============================================================================\n",
      "Omnibus:                      923.550   Durbin-Watson:                   1.686\n",
      "Prob(Omnibus):                  0.000   Jarque-Bera (JB):             1414.354\n",
      "Skew:                           1.021   Prob(JB):                    7.53e-308\n",
      "Kurtosis:                       4.047   Cond. No.                         1.27\n",
      "==============================================================================\n",
      "\n",
      "Notes:\n",
      "[1] Standard Errors assume that the covariance matrix of the errors is correctly specified.\n"
     ]
    }
   ],
   "source": [
    "print(_gls_results.summary())"
   ]
  },
  {
   "cell_type": "code",
   "execution_count": 133,
   "id": "c4a64234-bd9b-4746-bf7a-09b24fcd17f2",
   "metadata": {},
   "outputs": [
    {
     "name": "stdout",
     "output_type": "stream",
     "text": [
      "                            OLS Regression Results                            \n",
      "==============================================================================\n",
      "Dep. Variable:         whooping cough   R-squared:                       0.000\n",
      "Model:                            OLS   Adj. R-squared:                  0.000\n",
      "Method:                 Least Squares   F-statistic:                     1.685\n",
      "Date:                Mon, 18 Jul 2022   Prob (F-statistic):              0.194\n",
      "Time:                        20:34:42   Log-Likelihood:                -5888.1\n",
      "No. Observations:                6450   AIC:                         1.178e+04\n",
      "Df Residuals:                    6448   BIC:                         1.179e+04\n",
      "Df Model:                           1                                         \n",
      "Covariance Type:            nonrobust                                         \n",
      "==============================================================================\n",
      "                 coef    std err          t      P>|t|      [0.025      0.975]\n",
      "------------------------------------------------------------------------------\n",
      "const          0.7911      0.008    103.763      0.000       0.776       0.806\n",
      "LV570          0.0562      0.043      1.298      0.194      -0.029       0.141\n",
      "==============================================================================\n",
      "Omnibus:                      936.666   Durbin-Watson:                   1.611\n",
      "Prob(Omnibus):                  0.000   Jarque-Bera (JB):             1435.433\n",
      "Skew:                           1.035   Prob(JB):                         0.00\n",
      "Kurtosis:                       4.028   Cond. No.                         5.78\n",
      "==============================================================================\n",
      "\n",
      "Notes:\n",
      "[1] Standard Errors assume that the covariance matrix of the errors is correctly specified.\n"
     ]
    }
   ],
   "source": [
    "# for debugging purposes I print the OLS results also\n",
    "_tmp_model = sm.OLS(y, X)\n",
    "_tmp_results = _tmp_model.fit()\n",
    "print(_tmp_results.summary())"
   ]
  },
  {
   "cell_type": "code",
   "execution_count": 134,
   "id": "070170db-3271-47bf-bd05-c7cb74b86801",
   "metadata": {},
   "outputs": [
    {
     "name": "stdout",
     "output_type": "stream",
     "text": [
      "0.010052199503207914\n",
      "0.010343425212644251\n",
      "0.971844364565006\n",
      "0.3311644354099884\n",
      "0.1655822177049942\n"
     ]
    }
   ],
   "source": [
    "# print full numbers\n",
    "with np.printoptions(threshold=sys.maxsize, precision=20):\n",
    "    print(_gls_results.params.to_numpy()[1])\n",
    "    print(_gls_results.bse.to_numpy()[1])\n",
    "    print(_gls_results.tvalues.to_numpy()[1])\n",
    "    print(_gls_results.pvalues.to_numpy()[1])\n",
    "    print(stats.t.sf(_gls_results.tvalues.to_numpy()[1], _gls_results.df_resid))"
   ]
  },
  {
   "cell_type": "code",
   "execution_count": 135,
   "id": "a1d96a22-54d1-4a3c-b4f2-29649de888d6",
   "metadata": {},
   "outputs": [],
   "source": [
    "# save phenotype\n",
    "y.to_pickle(OUTPUT_DIR / f\"{phenotype_name}.pkl.xz\")"
   ]
  },
  {
   "cell_type": "code",
   "execution_count": 136,
   "id": "cd4242c6-f596-4f1c-bed1-f95692fc53f8",
   "metadata": {},
   "outputs": [
    {
     "data": {
      "text/plain": [
       "NOC2L       1.301498\n",
       "HES4        0.491604\n",
       "ISG15       0.300490\n",
       "AGRN        1.595415\n",
       "TNFRSF18    0.362178\n",
       "              ...   \n",
       "CPT1B       0.283934\n",
       "CHKB        0.621814\n",
       "MAPK8IP2    0.479153\n",
       "ARSA        0.274866\n",
       "SHANK3      1.125992\n",
       "Name: whooping cough, Length: 6450, dtype: float64"
      ]
     },
     "execution_count": 136,
     "metadata": {},
     "output_type": "execute_result"
    }
   ],
   "source": [
    "y"
   ]
  },
  {
   "cell_type": "markdown",
   "id": "eccaf7f0-0ce8-4970-9882-3c9aef7a7e16",
   "metadata": {},
   "source": [
    "## wheezing and LV400"
   ]
  },
  {
   "cell_type": "code",
   "execution_count": 137,
   "id": "29103834-d6ca-4ef8-b477-f3f3b65d3c8e",
   "metadata": {},
   "outputs": [
    {
     "data": {
      "text/plain": [
       "'multixcan-phenomexcan-wheezing-pvalues'"
      ]
     },
     "metadata": {},
     "output_type": "display_data"
    }
   ],
   "source": [
    "lv_code = \"LV400\"\n",
    "phenotype_code = \"wheezing\"\n",
    "\n",
    "phenotype_name = f\"multixcan-phenomexcan-{phenotype_code.replace(' ', '_')}-pvalues\"\n",
    "display(phenotype_name)"
   ]
  },
  {
   "cell_type": "code",
   "execution_count": 138,
   "id": "a65ff306-535b-4253-9a3b-72c1ec9ec25c",
   "metadata": {},
   "outputs": [],
   "source": [
    "X, y = get_data(lv_code, real_phenotype_code=phenotype_code)\n",
    "corr_mat = get_aligned_corr_mat(X, perc=PERC_NONZERO_GENES)\n",
    "\n",
    "Xs, ys = standardize_data(X, y)\n",
    "_gls_results = train_statsmodels_gls(Xs, ys, corr_mat)"
   ]
  },
  {
   "cell_type": "code",
   "execution_count": 139,
   "id": "bd4a1eb9-d71e-4475-87ca-ff8d9012c7b7",
   "metadata": {},
   "outputs": [
    {
     "name": "stdout",
     "output_type": "stream",
     "text": [
      "                            GLS Regression Results                            \n",
      "==============================================================================\n",
      "Dep. Variable:               wheezing   R-squared:                       0.010\n",
      "Model:                            GLS   Adj. R-squared:                  0.009\n",
      "Method:                 Least Squares   F-statistic:                     62.81\n",
      "Date:                Mon, 18 Jul 2022   Prob (F-statistic):           2.67e-15\n",
      "Time:                        20:35:17   Log-Likelihood:                -9568.4\n",
      "No. Observations:                6450   AIC:                         1.914e+04\n",
      "Df Residuals:                    6448   BIC:                         1.915e+04\n",
      "Df Model:                           1                                         \n",
      "Covariance Type:            nonrobust                                         \n",
      "==============================================================================\n",
      "                 coef    std err          t      P>|t|      [0.025      0.975]\n",
      "------------------------------------------------------------------------------\n",
      "const         -0.0234      0.014     -1.625      0.104      -0.052       0.005\n",
      "LV400         -0.0950      0.012     -7.925      0.000      -0.119      -0.072\n",
      "==============================================================================\n",
      "Omnibus:                     9430.988   Durbin-Watson:                   1.520\n",
      "Prob(Omnibus):                  0.000   Jarque-Bera (JB):         16432311.544\n",
      "Skew:                           8.160   Prob(JB):                         0.00\n",
      "Kurtosis:                     249.733   Cond. No.                         1.20\n",
      "==============================================================================\n",
      "\n",
      "Notes:\n",
      "[1] Standard Errors assume that the covariance matrix of the errors is correctly specified.\n"
     ]
    }
   ],
   "source": [
    "print(_gls_results.summary())"
   ]
  },
  {
   "cell_type": "code",
   "execution_count": 140,
   "id": "29bec44f-8222-4662-9b31-5edf8a543c14",
   "metadata": {},
   "outputs": [
    {
     "name": "stdout",
     "output_type": "stream",
     "text": [
      "                            OLS Regression Results                            \n",
      "==============================================================================\n",
      "Dep. Variable:               wheezing   R-squared:                       0.000\n",
      "Model:                            OLS   Adj. R-squared:                  0.000\n",
      "Method:                 Least Squares   F-statistic:                     1.672\n",
      "Date:                Mon, 18 Jul 2022   Prob (F-statistic):              0.196\n",
      "Time:                        20:35:17   Log-Likelihood:                -8849.6\n",
      "No. Observations:                6450   AIC:                         1.770e+04\n",
      "Df Residuals:                    6448   BIC:                         1.772e+04\n",
      "Df Model:                           1                                         \n",
      "Covariance Type:            nonrobust                                         \n",
      "==============================================================================\n",
      "                 coef    std err          t      P>|t|      [0.025      0.975]\n",
      "------------------------------------------------------------------------------\n",
      "const          1.1786      0.012     96.100      0.000       1.155       1.203\n",
      "LV400          0.1049      0.081      1.293      0.196      -0.054       0.264\n",
      "==============================================================================\n",
      "Omnibus:                     2929.133   Durbin-Watson:                   1.172\n",
      "Prob(Omnibus):                  0.000   Jarque-Bera (JB):            26957.386\n",
      "Skew:                           1.946   Prob(JB):                         0.00\n",
      "Kurtosis:                      12.228   Cond. No.                         6.84\n",
      "==============================================================================\n",
      "\n",
      "Notes:\n",
      "[1] Standard Errors assume that the covariance matrix of the errors is correctly specified.\n"
     ]
    }
   ],
   "source": [
    "# for debugging purposes I print the OLS results also\n",
    "_tmp_model = sm.OLS(y, X)\n",
    "_tmp_results = _tmp_model.fit()\n",
    "print(_tmp_results.summary())"
   ]
  },
  {
   "cell_type": "code",
   "execution_count": 141,
   "id": "415ac124-7d2c-4573-bf5d-e7dc0eccac5c",
   "metadata": {},
   "outputs": [
    {
     "name": "stdout",
     "output_type": "stream",
     "text": [
      "-0.09501682279807443\n",
      "0.01198940412636518\n",
      "-7.925066316609398\n",
      "2.6672597928016686e-15\n",
      "0.9999999999999987\n"
     ]
    }
   ],
   "source": [
    "# print full numbers\n",
    "with np.printoptions(threshold=sys.maxsize, precision=20):\n",
    "    print(_gls_results.params.to_numpy()[1])\n",
    "    print(_gls_results.bse.to_numpy()[1])\n",
    "    print(_gls_results.tvalues.to_numpy()[1])\n",
    "    print(_gls_results.pvalues.to_numpy()[1])\n",
    "    print(stats.t.sf(_gls_results.tvalues.to_numpy()[1], _gls_results.df_resid))"
   ]
  },
  {
   "cell_type": "code",
   "execution_count": 142,
   "id": "ca0cd886-0da1-4434-8a66-e7b82e1fbdeb",
   "metadata": {},
   "outputs": [],
   "source": [
    "# save phenotype\n",
    "y.to_pickle(OUTPUT_DIR / f\"{phenotype_name}.pkl.xz\")"
   ]
  },
  {
   "cell_type": "code",
   "execution_count": 143,
   "id": "93d0dc9e-1990-4944-b14a-0b74f3692040",
   "metadata": {},
   "outputs": [
    {
     "data": {
      "text/plain": [
       "NOC2L       2.745848\n",
       "HES4        0.208291\n",
       "ISG15       0.136734\n",
       "AGRN        0.229924\n",
       "TNFRSF18    0.408283\n",
       "              ...   \n",
       "CPT1B       0.483466\n",
       "CHKB        0.264246\n",
       "MAPK8IP2    0.709193\n",
       "ARSA        0.786883\n",
       "SHANK3      0.404021\n",
       "Name: wheezing, Length: 6450, dtype: float64"
      ]
     },
     "execution_count": 143,
     "metadata": {},
     "output_type": "execute_result"
    }
   ],
   "source": [
    "y"
   ]
  },
  {
   "cell_type": "code",
   "execution_count": null,
   "id": "d309ef59-6ac1-4362-a027-9ab01a5530c9",
   "metadata": {},
   "outputs": [],
   "source": []
  }
 ],
 "metadata": {
  "jupytext": {
   "cell_metadata_filter": "all,-execution,-papermill,-trusted",
   "formats": "ipynb,py//py:percent"
  },
  "kernelspec": {
   "display_name": "Python 3 (ipykernel)",
   "language": "python",
   "name": "python3"
  },
  "language_info": {
   "codemirror_mode": {
    "name": "ipython",
    "version": 3
   },
   "file_extension": ".py",
   "mimetype": "text/x-python",
   "name": "python",
   "nbconvert_exporter": "python",
   "pygments_lexer": "ipython3",
   "version": "3.8.13"
  },
  "papermill": {
   "default_parameters": {},
   "duration": 171.690116,
   "end_time": "2022-07-11T13:24:57.694597",
   "environment_variables": {},
   "exception": null,
   "input_path": "nbs/15_gsa_gls/15-postprocess_gene_expr_correlations.ipynb",
   "output_path": "nbs/15_gsa_gls/gene_corrs/1000g/mashr/15-postprocess_gene_expr_correlations.ipynb",
   "parameters": {
    "EQTL_MODEL": "MASHR",
    "REFERENCE_PANEL": "1000G"
   },
   "start_time": "2022-07-11T13:22:06.004481",
   "version": "2.2.2"
  },
  "toc-autonumbering": true
 },
 "nbformat": 4,
 "nbformat_minor": 5
}
