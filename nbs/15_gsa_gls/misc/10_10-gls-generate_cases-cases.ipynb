{
 "cells": [
  {
   "cell_type": "markdown",
   "id": "5ef66977",
   "metadata": {
    "papermill": {
     "duration": 0.010512,
     "end_time": "2022-07-11T13:22:07.207937",
     "exception": false,
     "start_time": "2022-07-11T13:22:07.197425",
     "status": "completed"
    },
    "tags": []
   },
   "source": [
    "# Description"
   ]
  },
  {
   "cell_type": "markdown",
   "id": "658d4f7c",
   "metadata": {
    "papermill": {
     "duration": 0.007193,
     "end_time": "2022-07-11T13:22:07.222297",
     "exception": false,
     "start_time": "2022-07-11T13:22:07.215104",
     "status": "completed"
    },
    "tags": []
   },
   "source": [
    "**TODO:** update"
   ]
  },
  {
   "cell_type": "markdown",
   "id": "60fa4530",
   "metadata": {
    "papermill": {
     "duration": 0.007062,
     "end_time": "2022-07-11T13:22:07.236433",
     "exception": false,
     "start_time": "2022-07-11T13:22:07.229371",
     "status": "completed"
    },
    "tags": []
   },
   "source": [
    "# Modules"
   ]
  },
  {
   "cell_type": "code",
   "execution_count": 1,
   "id": "d70b0833",
   "metadata": {
    "papermill": {
     "duration": 0.023639,
     "end_time": "2022-07-11T13:22:07.267099",
     "exception": false,
     "start_time": "2022-07-11T13:22:07.243460",
     "status": "completed"
    },
    "tags": []
   },
   "outputs": [],
   "source": [
    "%load_ext autoreload\n",
    "%autoreload 2"
   ]
  },
  {
   "cell_type": "code",
   "execution_count": 2,
   "id": "6b2f9ca0",
   "metadata": {
    "papermill": {
     "duration": 0.815336,
     "end_time": "2022-07-11T13:22:08.117525",
     "exception": false,
     "start_time": "2022-07-11T13:22:07.302189",
     "status": "completed"
    },
    "tags": []
   },
   "outputs": [],
   "source": [
    "import sys\n",
    "\n",
    "import numpy as np\n",
    "from scipy.spatial.distance import squareform\n",
    "import pandas as pd\n",
    "from scipy import stats\n",
    "\n",
    "# import matplotlib.pyplot as plt\n",
    "# import seaborn as sns\n",
    "\n",
    "import conf\n",
    "import utils\n",
    "from entity import Gene"
   ]
  },
  {
   "cell_type": "markdown",
   "id": "5b96e797",
   "metadata": {
    "papermill": {
     "duration": 0.007353,
     "end_time": "2022-07-11T13:22:08.132804",
     "exception": false,
     "start_time": "2022-07-11T13:22:08.125451",
     "status": "completed"
    },
    "tags": []
   },
   "source": [
    "# Settings"
   ]
  },
  {
   "cell_type": "code",
   "execution_count": 3,
   "id": "4fc1b6a0",
   "metadata": {
    "papermill": {
     "duration": 0.02389,
     "end_time": "2022-07-11T13:22:08.163791",
     "exception": false,
     "start_time": "2022-07-11T13:22:08.139901",
     "status": "completed"
    },
    "tags": [
     "parameters"
    ]
   },
   "outputs": [],
   "source": [
    "# a cohort name (it could be something like UK_BIOBANK, etc)\n",
    "COHORT_NAME = \"1000G_EUR\"\n",
    "\n",
    "# reference panel such as 1000G or GTEX_V8\n",
    "REFERENCE_PANEL = \"1000G\"\n",
    "\n",
    "# predictions models such as MASHR or ELASTIC_NET\n",
    "EQTL_MODEL = \"MASHR\""
   ]
  },
  {
   "cell_type": "code",
   "execution_count": 4,
   "id": "ac0c0705-90e4-42f8-8298-a457c7e778ff",
   "metadata": {
    "papermill": {
     "duration": 0.026136,
     "end_time": "2022-07-11T13:22:08.360188",
     "exception": false,
     "start_time": "2022-07-11T13:22:08.334052",
     "status": "completed"
    },
    "tags": []
   },
   "outputs": [
    {
     "data": {
      "text/plain": [
       "PosixPath('/opt/data/results/gls/gene_corrs/cohorts/1000g_eur/1000g/mashr')"
      ]
     },
     "metadata": {},
     "output_type": "display_data"
    }
   ],
   "source": [
    "OUTPUT_DIR_BASE = (\n",
    "    conf.RESULTS[\"GLS\"]\n",
    "    / \"gene_corrs\"\n",
    "    / \"cohorts\"\n",
    "    / COHORT_NAME.lower()\n",
    "    / REFERENCE_PANEL.lower()\n",
    "    / EQTL_MODEL.lower()\n",
    ")\n",
    "display(OUTPUT_DIR_BASE)\n",
    "assert OUTPUT_DIR_BASE.exists()\n",
    "\n",
    "# OUTPUT_DIR_BASE.mkdir(parents=True, exist_ok=True)"
   ]
  },
  {
   "cell_type": "code",
   "execution_count": 5,
   "id": "0949e7ac-1952-4552-9ee9-4f289cd40583",
   "metadata": {},
   "outputs": [
    {
     "data": {
      "text/plain": [
       "PosixPath('/opt/code/tests/data/gls')"
      ]
     },
     "metadata": {},
     "output_type": "display_data"
    }
   ],
   "source": [
    "OUTPUT_DIR = utils.get_git_repository_path() / \"tests\" / \"data\" / \"gls\"\n",
    "display(OUTPUT_DIR)\n",
    "assert OUTPUT_DIR.exists()"
   ]
  },
  {
   "cell_type": "markdown",
   "id": "99ccb166",
   "metadata": {
    "papermill": {
     "duration": 0.008141,
     "end_time": "2022-07-11T13:22:08.443463",
     "exception": false,
     "start_time": "2022-07-11T13:22:08.435322",
     "status": "completed"
    },
    "tags": []
   },
   "source": [
    "# Load data"
   ]
  },
  {
   "cell_type": "markdown",
   "id": "46ae0b3e",
   "metadata": {
    "papermill": {
     "duration": 0.008625,
     "end_time": "2022-07-11T13:22:08.646659",
     "exception": false,
     "start_time": "2022-07-11T13:22:08.638034",
     "status": "completed"
    },
    "tags": []
   },
   "source": [
    "## MultiPLIER Z"
   ]
  },
  {
   "cell_type": "code",
   "execution_count": 6,
   "id": "d38d9749",
   "metadata": {
    "papermill": {
     "duration": 0.050011,
     "end_time": "2022-07-11T13:22:08.705065",
     "exception": false,
     "start_time": "2022-07-11T13:22:08.655054",
     "status": "completed"
    },
    "tags": []
   },
   "outputs": [],
   "source": [
    "multiplier_z = pd.read_pickle(conf.MULTIPLIER[\"MODEL_Z_MATRIX_FILE\"])"
   ]
  },
  {
   "cell_type": "code",
   "execution_count": 7,
   "id": "2dd5031b-7d59-4b87-8e76-0ca4436a945a",
   "metadata": {
    "papermill": {
     "duration": 0.050011,
     "end_time": "2022-07-11T13:22:08.705065",
     "exception": false,
     "start_time": "2022-07-11T13:22:08.655054",
     "status": "completed"
    },
    "tags": []
   },
   "outputs": [],
   "source": [
    "multiplier_z_genes = multiplier_z.index.tolist()"
   ]
  },
  {
   "cell_type": "code",
   "execution_count": 8,
   "id": "67e93797",
   "metadata": {
    "papermill": {
     "duration": 0.026612,
     "end_time": "2022-07-11T13:22:08.741377",
     "exception": false,
     "start_time": "2022-07-11T13:22:08.714765",
     "status": "completed"
    },
    "tags": []
   },
   "outputs": [
    {
     "data": {
      "text/plain": [
       "6750"
      ]
     },
     "execution_count": 8,
     "metadata": {},
     "output_type": "execute_result"
    }
   ],
   "source": [
    "len(multiplier_z_genes)"
   ]
  },
  {
   "cell_type": "code",
   "execution_count": 9,
   "id": "e1ba1ead",
   "metadata": {
    "papermill": {
     "duration": 0.025283,
     "end_time": "2022-07-11T13:22:08.775398",
     "exception": false,
     "start_time": "2022-07-11T13:22:08.750115",
     "status": "completed"
    },
    "tags": []
   },
   "outputs": [
    {
     "data": {
      "text/plain": [
       "['GAS6',\n",
       " 'MMP14',\n",
       " 'DSP',\n",
       " 'MARCKSL1',\n",
       " 'SPARC',\n",
       " 'CTSD',\n",
       " 'EPAS1',\n",
       " 'PALLD',\n",
       " 'PHC2',\n",
       " 'LGALS3BP']"
      ]
     },
     "execution_count": 9,
     "metadata": {},
     "output_type": "execute_result"
    }
   ],
   "source": [
    "multiplier_z_genes[:10]"
   ]
  },
  {
   "cell_type": "markdown",
   "id": "7ad1d143-b9b7-4405-88d0-d5b8acdbe7fa",
   "metadata": {},
   "source": [
    "## Function to load MultiXcan's results on random phenotypes"
   ]
  },
  {
   "cell_type": "code",
   "execution_count": 10,
   "id": "3cb53517-17a9-4154-a12e-8f67af6b385f",
   "metadata": {},
   "outputs": [],
   "source": [
    "def load_multixcan_random_phenotype(phenotype_code):\n",
    "    multixcan_random_results = pd.read_csv(\n",
    "        conf.RESULTS[\"GLS_NULL_SIMS\"]\n",
    "        / \"twas\"\n",
    "        / \"smultixcan\"\n",
    "        / f\"random.pheno{phenotype_code}-gtex_v8-mashr-smultixcan.txt\",\n",
    "        sep=\"\\t\",\n",
    "        index_col=\"gene_name\",\n",
    "    )\n",
    "\n",
    "    return multixcan_random_results"
   ]
  },
  {
   "cell_type": "code",
   "execution_count": 11,
   "id": "f7f549ed-e8aa-4e41-9576-b9aed3ced43f",
   "metadata": {},
   "outputs": [
    {
     "data": {
      "text/html": [
       "<div>\n",
       "<style scoped>\n",
       "    .dataframe tbody tr th:only-of-type {\n",
       "        vertical-align: middle;\n",
       "    }\n",
       "\n",
       "    .dataframe tbody tr th {\n",
       "        vertical-align: top;\n",
       "    }\n",
       "\n",
       "    .dataframe thead th {\n",
       "        text-align: right;\n",
       "    }\n",
       "</style>\n",
       "<table border=\"1\" class=\"dataframe\">\n",
       "  <thead>\n",
       "    <tr style=\"text-align: right;\">\n",
       "      <th></th>\n",
       "      <th>gene</th>\n",
       "      <th>pvalue</th>\n",
       "      <th>n</th>\n",
       "      <th>n_indep</th>\n",
       "      <th>p_i_best</th>\n",
       "      <th>t_i_best</th>\n",
       "      <th>p_i_worst</th>\n",
       "      <th>t_i_worst</th>\n",
       "      <th>eigen_max</th>\n",
       "      <th>eigen_min</th>\n",
       "      <th>eigen_min_kept</th>\n",
       "      <th>z_min</th>\n",
       "      <th>z_max</th>\n",
       "      <th>z_mean</th>\n",
       "      <th>z_sd</th>\n",
       "      <th>tmi</th>\n",
       "      <th>status</th>\n",
       "    </tr>\n",
       "    <tr>\n",
       "      <th>gene_name</th>\n",
       "      <th></th>\n",
       "      <th></th>\n",
       "      <th></th>\n",
       "      <th></th>\n",
       "      <th></th>\n",
       "      <th></th>\n",
       "      <th></th>\n",
       "      <th></th>\n",
       "      <th></th>\n",
       "      <th></th>\n",
       "      <th></th>\n",
       "      <th></th>\n",
       "      <th></th>\n",
       "      <th></th>\n",
       "      <th></th>\n",
       "      <th></th>\n",
       "      <th></th>\n",
       "    </tr>\n",
       "  </thead>\n",
       "  <tbody>\n",
       "    <tr>\n",
       "      <th>RHPN2</th>\n",
       "      <td>ENSG00000131941.7</td>\n",
       "      <td>0.000040</td>\n",
       "      <td>48.0</td>\n",
       "      <td>3.0</td>\n",
       "      <td>2.139470e-04</td>\n",
       "      <td>Artery_Tibial</td>\n",
       "      <td>0.990132</td>\n",
       "      <td>Brain_Nucleus_accumbens_basal_ganglia</td>\n",
       "      <td>36.556432</td>\n",
       "      <td>7.692089e-16</td>\n",
       "      <td>2.519701</td>\n",
       "      <td>-2.721185</td>\n",
       "      <td>3.701952</td>\n",
       "      <td>1.283152</td>\n",
       "      <td>1.825567</td>\n",
       "      <td>3.0</td>\n",
       "      <td>0</td>\n",
       "    </tr>\n",
       "    <tr>\n",
       "      <th>GPATCH1</th>\n",
       "      <td>ENSG00000076650.6</td>\n",
       "      <td>0.000078</td>\n",
       "      <td>40.0</td>\n",
       "      <td>3.0</td>\n",
       "      <td>4.534390e-04</td>\n",
       "      <td>Brain_Cerebellum</td>\n",
       "      <td>0.817384</td>\n",
       "      <td>Brain_Frontal_Cortex_BA9</td>\n",
       "      <td>29.990208</td>\n",
       "      <td>2.086487e-15</td>\n",
       "      <td>1.815203</td>\n",
       "      <td>-3.506853</td>\n",
       "      <td>2.383485</td>\n",
       "      <td>-2.016745</td>\n",
       "      <td>1.715495</td>\n",
       "      <td>3.0</td>\n",
       "      <td>0</td>\n",
       "    </tr>\n",
       "    <tr>\n",
       "      <th>NFKBIA</th>\n",
       "      <td>ENSG00000100906.10</td>\n",
       "      <td>0.000096</td>\n",
       "      <td>1.0</td>\n",
       "      <td>1.0</td>\n",
       "      <td>9.591208e-05</td>\n",
       "      <td>Brain_Frontal_Cortex_BA9</td>\n",
       "      <td>0.000096</td>\n",
       "      <td>Brain_Frontal_Cortex_BA9</td>\n",
       "      <td>1.000000</td>\n",
       "      <td>1.000000e+00</td>\n",
       "      <td>1.000000</td>\n",
       "      <td>-3.900707</td>\n",
       "      <td>-3.900707</td>\n",
       "      <td>-3.900707</td>\n",
       "      <td>NaN</td>\n",
       "      <td>1.0</td>\n",
       "      <td>0</td>\n",
       "    </tr>\n",
       "    <tr>\n",
       "      <th>TTC5</th>\n",
       "      <td>ENSG00000136319.11</td>\n",
       "      <td>0.000109</td>\n",
       "      <td>47.0</td>\n",
       "      <td>5.0</td>\n",
       "      <td>1.402826e-03</td>\n",
       "      <td>Brain_Hippocampus</td>\n",
       "      <td>0.961887</td>\n",
       "      <td>Colon_Sigmoid</td>\n",
       "      <td>21.272442</td>\n",
       "      <td>8.142339e-16</td>\n",
       "      <td>0.732606</td>\n",
       "      <td>-3.194069</td>\n",
       "      <td>1.397514</td>\n",
       "      <td>-0.916662</td>\n",
       "      <td>1.068989</td>\n",
       "      <td>5.0</td>\n",
       "      <td>0</td>\n",
       "    </tr>\n",
       "    <tr>\n",
       "      <th>ADGRA3</th>\n",
       "      <td>ENSG00000152990.13</td>\n",
       "      <td>0.000135</td>\n",
       "      <td>41.0</td>\n",
       "      <td>12.0</td>\n",
       "      <td>3.211289e-07</td>\n",
       "      <td>Heart_Atrial_Appendage</td>\n",
       "      <td>0.653657</td>\n",
       "      <td>Whole_Blood</td>\n",
       "      <td>12.988248</td>\n",
       "      <td>3.499412e-16</td>\n",
       "      <td>0.444682</td>\n",
       "      <td>-5.110605</td>\n",
       "      <td>3.599410</td>\n",
       "      <td>-0.464735</td>\n",
       "      <td>2.316607</td>\n",
       "      <td>12.0</td>\n",
       "      <td>0</td>\n",
       "    </tr>\n",
       "  </tbody>\n",
       "</table>\n",
       "</div>"
      ],
      "text/plain": [
       "                         gene    pvalue     n  n_indep      p_i_best  \\\n",
       "gene_name                                                              \n",
       "RHPN2       ENSG00000131941.7  0.000040  48.0      3.0  2.139470e-04   \n",
       "GPATCH1     ENSG00000076650.6  0.000078  40.0      3.0  4.534390e-04   \n",
       "NFKBIA     ENSG00000100906.10  0.000096   1.0      1.0  9.591208e-05   \n",
       "TTC5       ENSG00000136319.11  0.000109  47.0      5.0  1.402826e-03   \n",
       "ADGRA3     ENSG00000152990.13  0.000135  41.0     12.0  3.211289e-07   \n",
       "\n",
       "                           t_i_best  p_i_worst  \\\n",
       "gene_name                                        \n",
       "RHPN2                 Artery_Tibial   0.990132   \n",
       "GPATCH1            Brain_Cerebellum   0.817384   \n",
       "NFKBIA     Brain_Frontal_Cortex_BA9   0.000096   \n",
       "TTC5              Brain_Hippocampus   0.961887   \n",
       "ADGRA3       Heart_Atrial_Appendage   0.653657   \n",
       "\n",
       "                                       t_i_worst  eigen_max     eigen_min  \\\n",
       "gene_name                                                                   \n",
       "RHPN2      Brain_Nucleus_accumbens_basal_ganglia  36.556432  7.692089e-16   \n",
       "GPATCH1                 Brain_Frontal_Cortex_BA9  29.990208  2.086487e-15   \n",
       "NFKBIA                  Brain_Frontal_Cortex_BA9   1.000000  1.000000e+00   \n",
       "TTC5                               Colon_Sigmoid  21.272442  8.142339e-16   \n",
       "ADGRA3                               Whole_Blood  12.988248  3.499412e-16   \n",
       "\n",
       "           eigen_min_kept     z_min     z_max    z_mean      z_sd   tmi  \\\n",
       "gene_name                                                                 \n",
       "RHPN2            2.519701 -2.721185  3.701952  1.283152  1.825567   3.0   \n",
       "GPATCH1          1.815203 -3.506853  2.383485 -2.016745  1.715495   3.0   \n",
       "NFKBIA           1.000000 -3.900707 -3.900707 -3.900707       NaN   1.0   \n",
       "TTC5             0.732606 -3.194069  1.397514 -0.916662  1.068989   5.0   \n",
       "ADGRA3           0.444682 -5.110605  3.599410 -0.464735  2.316607  12.0   \n",
       "\n",
       "           status  \n",
       "gene_name          \n",
       "RHPN2           0  \n",
       "GPATCH1         0  \n",
       "NFKBIA          0  \n",
       "TTC5            0  \n",
       "ADGRA3          0  "
      ]
     },
     "execution_count": 11,
     "metadata": {},
     "output_type": "execute_result"
    }
   ],
   "source": [
    "load_multixcan_random_phenotype(0).head()"
   ]
  },
  {
   "cell_type": "markdown",
   "id": "37ce8c4f-6046-4d81-aa1a-f196153f0c69",
   "metadata": {
    "papermill": {
     "duration": 0.008625,
     "end_time": "2022-07-11T13:22:08.646659",
     "exception": false,
     "start_time": "2022-07-11T13:22:08.638034",
     "status": "completed"
    },
    "tags": []
   },
   "source": [
    "## MultiXcan real results (PhenomeXcan)"
   ]
  },
  {
   "cell_type": "code",
   "execution_count": 12,
   "id": "ff6a93a3-1d7e-4cef-99f6-866ad0726022",
   "metadata": {},
   "outputs": [],
   "source": [
    "multixcan_real_results = pd.read_pickle(\n",
    "    conf.PHENOMEXCAN[\"SMULTIXCAN_EFO_PARTIAL_MASHR_ZSCORES_FILE\"]\n",
    ").rename(index=Gene.GENE_ID_TO_NAME_MAP)"
   ]
  },
  {
   "cell_type": "code",
   "execution_count": 13,
   "id": "74f17127-afe3-4d93-9e93-50b193d2b996",
   "metadata": {},
   "outputs": [],
   "source": [
    "multixcan_real_results = multixcan_real_results[\n",
    "    ~multixcan_real_results.index.duplicated(keep=\"first\")\n",
    "].dropna(how=\"all\", axis=0)"
   ]
  },
  {
   "cell_type": "code",
   "execution_count": 14,
   "id": "05f85eb5-9816-4a38-948a-f133aeffa70c",
   "metadata": {},
   "outputs": [
    {
     "data": {
      "text/plain": [
       "(22508, 3752)"
      ]
     },
     "execution_count": 14,
     "metadata": {},
     "output_type": "execute_result"
    }
   ],
   "source": [
    "multixcan_real_results.shape"
   ]
  },
  {
   "cell_type": "code",
   "execution_count": 15,
   "id": "a5ee14c2-0359-48d0-bfbf-1e529f7a7cc9",
   "metadata": {},
   "outputs": [
    {
     "data": {
      "text/html": [
       "<div>\n",
       "<style scoped>\n",
       "    .dataframe tbody tr th:only-of-type {\n",
       "        vertical-align: middle;\n",
       "    }\n",
       "\n",
       "    .dataframe tbody tr th {\n",
       "        vertical-align: top;\n",
       "    }\n",
       "\n",
       "    .dataframe thead th {\n",
       "        text-align: right;\n",
       "    }\n",
       "</style>\n",
       "<table border=\"1\" class=\"dataframe\">\n",
       "  <thead>\n",
       "    <tr style=\"text-align: right;\">\n",
       "      <th></th>\n",
       "      <th>100001_raw-Food_weight</th>\n",
       "      <th>100002_raw-Energy</th>\n",
       "      <th>100003_raw-Protein</th>\n",
       "      <th>100004_raw-Fat</th>\n",
       "      <th>100005_raw-Carbohydrate</th>\n",
       "      <th>100006_raw-Saturated_fat</th>\n",
       "      <th>100007_raw-Polyunsaturated_fat</th>\n",
       "      <th>100008_raw-Total_sugars</th>\n",
       "      <th>100009_raw-Englyst_dietary_fibre</th>\n",
       "      <th>100010-Portion_size</th>\n",
       "      <th>...</th>\n",
       "      <th>visual impairment</th>\n",
       "      <th>vitiligo</th>\n",
       "      <th>vitreous body disease</th>\n",
       "      <th>vocal cord polyp</th>\n",
       "      <th>voice disorders</th>\n",
       "      <th>wellbeing measurement AND family relationship</th>\n",
       "      <th>wheezing</th>\n",
       "      <th>whooping cough</th>\n",
       "      <th>worry measurement</th>\n",
       "      <th>wrist fracture</th>\n",
       "    </tr>\n",
       "    <tr>\n",
       "      <th>gene_name</th>\n",
       "      <th></th>\n",
       "      <th></th>\n",
       "      <th></th>\n",
       "      <th></th>\n",
       "      <th></th>\n",
       "      <th></th>\n",
       "      <th></th>\n",
       "      <th></th>\n",
       "      <th></th>\n",
       "      <th></th>\n",
       "      <th></th>\n",
       "      <th></th>\n",
       "      <th></th>\n",
       "      <th></th>\n",
       "      <th></th>\n",
       "      <th></th>\n",
       "      <th></th>\n",
       "      <th></th>\n",
       "      <th></th>\n",
       "      <th></th>\n",
       "      <th></th>\n",
       "    </tr>\n",
       "  </thead>\n",
       "  <tbody>\n",
       "    <tr>\n",
       "      <th>DPM1</th>\n",
       "      <td>1.145442</td>\n",
       "      <td>0.724557</td>\n",
       "      <td>0.090876</td>\n",
       "      <td>0.298165</td>\n",
       "      <td>1.134347</td>\n",
       "      <td>1.371138</td>\n",
       "      <td>0.065718</td>\n",
       "      <td>0.794317</td>\n",
       "      <td>0.600342</td>\n",
       "      <td>0.317652</td>\n",
       "      <td>...</td>\n",
       "      <td>0.360518</td>\n",
       "      <td>1.351624</td>\n",
       "      <td>1.157695</td>\n",
       "      <td>0.835289</td>\n",
       "      <td>1.173072</td>\n",
       "      <td>1.337280</td>\n",
       "      <td>1.743822</td>\n",
       "      <td>1.017226</td>\n",
       "      <td>1.512184</td>\n",
       "      <td>0.972241</td>\n",
       "    </tr>\n",
       "    <tr>\n",
       "      <th>SCYL3</th>\n",
       "      <td>0.618066</td>\n",
       "      <td>1.028131</td>\n",
       "      <td>2.218420</td>\n",
       "      <td>0.762584</td>\n",
       "      <td>0.934418</td>\n",
       "      <td>0.192993</td>\n",
       "      <td>1.080230</td>\n",
       "      <td>0.765997</td>\n",
       "      <td>0.375898</td>\n",
       "      <td>0.678731</td>\n",
       "      <td>...</td>\n",
       "      <td>2.134504</td>\n",
       "      <td>0.127830</td>\n",
       "      <td>0.534690</td>\n",
       "      <td>0.120516</td>\n",
       "      <td>0.517464</td>\n",
       "      <td>2.545363</td>\n",
       "      <td>0.673331</td>\n",
       "      <td>2.003092</td>\n",
       "      <td>0.344000</td>\n",
       "      <td>2.033122</td>\n",
       "    </tr>\n",
       "    <tr>\n",
       "      <th>C1orf112</th>\n",
       "      <td>0.515724</td>\n",
       "      <td>0.403596</td>\n",
       "      <td>1.251359</td>\n",
       "      <td>0.433091</td>\n",
       "      <td>0.413466</td>\n",
       "      <td>0.246261</td>\n",
       "      <td>1.236151</td>\n",
       "      <td>0.827430</td>\n",
       "      <td>0.571985</td>\n",
       "      <td>0.782174</td>\n",
       "      <td>...</td>\n",
       "      <td>1.768905</td>\n",
       "      <td>0.992408</td>\n",
       "      <td>0.548215</td>\n",
       "      <td>0.412341</td>\n",
       "      <td>1.499415</td>\n",
       "      <td>1.366780</td>\n",
       "      <td>0.443318</td>\n",
       "      <td>0.417630</td>\n",
       "      <td>0.225934</td>\n",
       "      <td>1.613246</td>\n",
       "    </tr>\n",
       "    <tr>\n",
       "      <th>FGR</th>\n",
       "      <td>0.280781</td>\n",
       "      <td>0.253910</td>\n",
       "      <td>0.879148</td>\n",
       "      <td>0.352705</td>\n",
       "      <td>0.051846</td>\n",
       "      <td>0.184212</td>\n",
       "      <td>0.148566</td>\n",
       "      <td>0.009989</td>\n",
       "      <td>0.363751</td>\n",
       "      <td>0.374514</td>\n",
       "      <td>...</td>\n",
       "      <td>0.656552</td>\n",
       "      <td>2.046041</td>\n",
       "      <td>2.746832</td>\n",
       "      <td>0.108211</td>\n",
       "      <td>1.008258</td>\n",
       "      <td>0.755695</td>\n",
       "      <td>0.896228</td>\n",
       "      <td>0.875047</td>\n",
       "      <td>0.476405</td>\n",
       "      <td>1.693057</td>\n",
       "    </tr>\n",
       "    <tr>\n",
       "      <th>CFH</th>\n",
       "      <td>0.548127</td>\n",
       "      <td>0.389877</td>\n",
       "      <td>0.723469</td>\n",
       "      <td>1.167250</td>\n",
       "      <td>0.315952</td>\n",
       "      <td>0.324939</td>\n",
       "      <td>1.613932</td>\n",
       "      <td>0.311432</td>\n",
       "      <td>0.333548</td>\n",
       "      <td>1.807243</td>\n",
       "      <td>...</td>\n",
       "      <td>0.260482</td>\n",
       "      <td>0.646204</td>\n",
       "      <td>1.080240</td>\n",
       "      <td>0.678330</td>\n",
       "      <td>1.465358</td>\n",
       "      <td>0.307672</td>\n",
       "      <td>0.118376</td>\n",
       "      <td>1.419812</td>\n",
       "      <td>0.000002</td>\n",
       "      <td>1.040737</td>\n",
       "    </tr>\n",
       "  </tbody>\n",
       "</table>\n",
       "<p>5 rows × 3752 columns</p>\n",
       "</div>"
      ],
      "text/plain": [
       "           100001_raw-Food_weight  100002_raw-Energy  100003_raw-Protein  \\\n",
       "gene_name                                                                  \n",
       "DPM1                     1.145442           0.724557            0.090876   \n",
       "SCYL3                    0.618066           1.028131            2.218420   \n",
       "C1orf112                 0.515724           0.403596            1.251359   \n",
       "FGR                      0.280781           0.253910            0.879148   \n",
       "CFH                      0.548127           0.389877            0.723469   \n",
       "\n",
       "           100004_raw-Fat  100005_raw-Carbohydrate  100006_raw-Saturated_fat  \\\n",
       "gene_name                                                                      \n",
       "DPM1             0.298165                 1.134347                  1.371138   \n",
       "SCYL3            0.762584                 0.934418                  0.192993   \n",
       "C1orf112         0.433091                 0.413466                  0.246261   \n",
       "FGR              0.352705                 0.051846                  0.184212   \n",
       "CFH              1.167250                 0.315952                  0.324939   \n",
       "\n",
       "           100007_raw-Polyunsaturated_fat  100008_raw-Total_sugars  \\\n",
       "gene_name                                                            \n",
       "DPM1                             0.065718                 0.794317   \n",
       "SCYL3                            1.080230                 0.765997   \n",
       "C1orf112                         1.236151                 0.827430   \n",
       "FGR                              0.148566                 0.009989   \n",
       "CFH                              1.613932                 0.311432   \n",
       "\n",
       "           100009_raw-Englyst_dietary_fibre  100010-Portion_size  ...  \\\n",
       "gene_name                                                         ...   \n",
       "DPM1                               0.600342             0.317652  ...   \n",
       "SCYL3                              0.375898             0.678731  ...   \n",
       "C1orf112                           0.571985             0.782174  ...   \n",
       "FGR                                0.363751             0.374514  ...   \n",
       "CFH                                0.333548             1.807243  ...   \n",
       "\n",
       "           visual impairment  vitiligo  vitreous body disease  \\\n",
       "gene_name                                                       \n",
       "DPM1                0.360518  1.351624               1.157695   \n",
       "SCYL3               2.134504  0.127830               0.534690   \n",
       "C1orf112            1.768905  0.992408               0.548215   \n",
       "FGR                 0.656552  2.046041               2.746832   \n",
       "CFH                 0.260482  0.646204               1.080240   \n",
       "\n",
       "           vocal cord polyp  voice disorders  \\\n",
       "gene_name                                      \n",
       "DPM1               0.835289         1.173072   \n",
       "SCYL3              0.120516         0.517464   \n",
       "C1orf112           0.412341         1.499415   \n",
       "FGR                0.108211         1.008258   \n",
       "CFH                0.678330         1.465358   \n",
       "\n",
       "           wellbeing measurement AND family relationship  wheezing  \\\n",
       "gene_name                                                            \n",
       "DPM1                                            1.337280  1.743822   \n",
       "SCYL3                                           2.545363  0.673331   \n",
       "C1orf112                                        1.366780  0.443318   \n",
       "FGR                                             0.755695  0.896228   \n",
       "CFH                                             0.307672  0.118376   \n",
       "\n",
       "           whooping cough  worry measurement  wrist fracture  \n",
       "gene_name                                                     \n",
       "DPM1             1.017226           1.512184        0.972241  \n",
       "SCYL3            2.003092           0.344000        2.033122  \n",
       "C1orf112         0.417630           0.225934        1.613246  \n",
       "FGR              0.875047           0.476405        1.693057  \n",
       "CFH              1.419812           0.000002        1.040737  \n",
       "\n",
       "[5 rows x 3752 columns]"
      ]
     },
     "execution_count": 15,
     "metadata": {},
     "output_type": "execute_result"
    }
   ],
   "source": [
    "multixcan_real_results.head()"
   ]
  },
  {
   "cell_type": "code",
   "execution_count": 16,
   "id": "36835af0-264a-4f86-bce7-93a8b163aa3d",
   "metadata": {},
   "outputs": [],
   "source": [
    "assert not multixcan_real_results.isna().any(None)"
   ]
  },
  {
   "cell_type": "markdown",
   "id": "f4d4f177",
   "metadata": {
    "papermill": {
     "duration": 0.01453,
     "end_time": "2022-07-11T13:22:11.041316",
     "exception": false,
     "start_time": "2022-07-11T13:22:11.026786",
     "status": "completed"
    },
    "tags": []
   },
   "source": [
    "## Load full correlation matrix"
   ]
  },
  {
   "cell_type": "code",
   "execution_count": 17,
   "id": "5c2508c1-ae29-4c83-a515-2bf4486c442d",
   "metadata": {},
   "outputs": [],
   "source": [
    "orig_corr_mat = pd.read_pickle(OUTPUT_DIR / \"corr_mat.pkl.xz\")"
   ]
  },
  {
   "cell_type": "code",
   "execution_count": 18,
   "id": "30ccfc68-1548-4009-aba8-c84224f16ea1",
   "metadata": {},
   "outputs": [
    {
     "data": {
      "text/plain": [
       "(6442, 6442)"
      ]
     },
     "execution_count": 18,
     "metadata": {},
     "output_type": "execute_result"
    }
   ],
   "source": [
    "orig_corr_mat.shape"
   ]
  },
  {
   "cell_type": "code",
   "execution_count": 19,
   "id": "fab6bb31-636f-48eb-bf85-4c17cad87dfd",
   "metadata": {},
   "outputs": [
    {
     "data": {
      "text/html": [
       "<div>\n",
       "<style scoped>\n",
       "    .dataframe tbody tr th:only-of-type {\n",
       "        vertical-align: middle;\n",
       "    }\n",
       "\n",
       "    .dataframe tbody tr th {\n",
       "        vertical-align: top;\n",
       "    }\n",
       "\n",
       "    .dataframe thead th {\n",
       "        text-align: right;\n",
       "    }\n",
       "</style>\n",
       "<table border=\"1\" class=\"dataframe\">\n",
       "  <thead>\n",
       "    <tr style=\"text-align: right;\">\n",
       "      <th></th>\n",
       "      <th>NOC2L</th>\n",
       "      <th>HES4</th>\n",
       "      <th>ISG15</th>\n",
       "      <th>AGRN</th>\n",
       "      <th>TNFRSF18</th>\n",
       "      <th>TNFRSF4</th>\n",
       "      <th>B3GALT6</th>\n",
       "      <th>UBE2J2</th>\n",
       "      <th>ACAP3</th>\n",
       "      <th>TAS1R3</th>\n",
       "      <th>...</th>\n",
       "      <th>PLXNB2</th>\n",
       "      <th>ADM2</th>\n",
       "      <th>MIOX</th>\n",
       "      <th>SCO2</th>\n",
       "      <th>TYMP</th>\n",
       "      <th>CPT1B</th>\n",
       "      <th>CHKB</th>\n",
       "      <th>MAPK8IP2</th>\n",
       "      <th>ARSA</th>\n",
       "      <th>SHANK3</th>\n",
       "    </tr>\n",
       "  </thead>\n",
       "  <tbody>\n",
       "    <tr>\n",
       "      <th>NOC2L</th>\n",
       "      <td>1.000000</td>\n",
       "      <td>0.115011</td>\n",
       "      <td>0.173138</td>\n",
       "      <td>0.056096</td>\n",
       "      <td>0.008032</td>\n",
       "      <td>0.008727</td>\n",
       "      <td>0.006797</td>\n",
       "      <td>0.004533</td>\n",
       "      <td>0.007350</td>\n",
       "      <td>0.010391</td>\n",
       "      <td>...</td>\n",
       "      <td>0.0</td>\n",
       "      <td>0.0</td>\n",
       "      <td>0.0</td>\n",
       "      <td>0.0</td>\n",
       "      <td>0.0</td>\n",
       "      <td>0.0</td>\n",
       "      <td>0.0</td>\n",
       "      <td>0.0</td>\n",
       "      <td>0.0</td>\n",
       "      <td>0.0</td>\n",
       "    </tr>\n",
       "    <tr>\n",
       "      <th>HES4</th>\n",
       "      <td>0.115011</td>\n",
       "      <td>1.000000</td>\n",
       "      <td>0.681368</td>\n",
       "      <td>0.360588</td>\n",
       "      <td>0.011545</td>\n",
       "      <td>0.010729</td>\n",
       "      <td>0.003577</td>\n",
       "      <td>0.010230</td>\n",
       "      <td>0.010747</td>\n",
       "      <td>0.008769</td>\n",
       "      <td>...</td>\n",
       "      <td>0.0</td>\n",
       "      <td>0.0</td>\n",
       "      <td>0.0</td>\n",
       "      <td>0.0</td>\n",
       "      <td>0.0</td>\n",
       "      <td>0.0</td>\n",
       "      <td>0.0</td>\n",
       "      <td>0.0</td>\n",
       "      <td>0.0</td>\n",
       "      <td>0.0</td>\n",
       "    </tr>\n",
       "    <tr>\n",
       "      <th>ISG15</th>\n",
       "      <td>0.173138</td>\n",
       "      <td>0.681368</td>\n",
       "      <td>1.000000</td>\n",
       "      <td>0.381394</td>\n",
       "      <td>0.011774</td>\n",
       "      <td>0.012527</td>\n",
       "      <td>0.003754</td>\n",
       "      <td>0.012096</td>\n",
       "      <td>0.012679</td>\n",
       "      <td>0.010442</td>\n",
       "      <td>...</td>\n",
       "      <td>0.0</td>\n",
       "      <td>0.0</td>\n",
       "      <td>0.0</td>\n",
       "      <td>0.0</td>\n",
       "      <td>0.0</td>\n",
       "      <td>0.0</td>\n",
       "      <td>0.0</td>\n",
       "      <td>0.0</td>\n",
       "      <td>0.0</td>\n",
       "      <td>0.0</td>\n",
       "    </tr>\n",
       "    <tr>\n",
       "      <th>AGRN</th>\n",
       "      <td>0.056096</td>\n",
       "      <td>0.360588</td>\n",
       "      <td>0.381394</td>\n",
       "      <td>1.000000</td>\n",
       "      <td>0.013005</td>\n",
       "      <td>0.015775</td>\n",
       "      <td>0.006184</td>\n",
       "      <td>0.006813</td>\n",
       "      <td>0.010775</td>\n",
       "      <td>0.009189</td>\n",
       "      <td>...</td>\n",
       "      <td>0.0</td>\n",
       "      <td>0.0</td>\n",
       "      <td>0.0</td>\n",
       "      <td>0.0</td>\n",
       "      <td>0.0</td>\n",
       "      <td>0.0</td>\n",
       "      <td>0.0</td>\n",
       "      <td>0.0</td>\n",
       "      <td>0.0</td>\n",
       "      <td>0.0</td>\n",
       "    </tr>\n",
       "    <tr>\n",
       "      <th>TNFRSF18</th>\n",
       "      <td>0.008032</td>\n",
       "      <td>0.011545</td>\n",
       "      <td>0.011774</td>\n",
       "      <td>0.013005</td>\n",
       "      <td>1.000000</td>\n",
       "      <td>0.356676</td>\n",
       "      <td>0.454010</td>\n",
       "      <td>0.137643</td>\n",
       "      <td>0.200340</td>\n",
       "      <td>0.093210</td>\n",
       "      <td>...</td>\n",
       "      <td>0.0</td>\n",
       "      <td>0.0</td>\n",
       "      <td>0.0</td>\n",
       "      <td>0.0</td>\n",
       "      <td>0.0</td>\n",
       "      <td>0.0</td>\n",
       "      <td>0.0</td>\n",
       "      <td>0.0</td>\n",
       "      <td>0.0</td>\n",
       "      <td>0.0</td>\n",
       "    </tr>\n",
       "  </tbody>\n",
       "</table>\n",
       "<p>5 rows × 6442 columns</p>\n",
       "</div>"
      ],
      "text/plain": [
       "             NOC2L      HES4     ISG15      AGRN  TNFRSF18   TNFRSF4  \\\n",
       "NOC2L     1.000000  0.115011  0.173138  0.056096  0.008032  0.008727   \n",
       "HES4      0.115011  1.000000  0.681368  0.360588  0.011545  0.010729   \n",
       "ISG15     0.173138  0.681368  1.000000  0.381394  0.011774  0.012527   \n",
       "AGRN      0.056096  0.360588  0.381394  1.000000  0.013005  0.015775   \n",
       "TNFRSF18  0.008032  0.011545  0.011774  0.013005  1.000000  0.356676   \n",
       "\n",
       "           B3GALT6    UBE2J2     ACAP3    TAS1R3  ...  PLXNB2  ADM2  MIOX  \\\n",
       "NOC2L     0.006797  0.004533  0.007350  0.010391  ...     0.0   0.0   0.0   \n",
       "HES4      0.003577  0.010230  0.010747  0.008769  ...     0.0   0.0   0.0   \n",
       "ISG15     0.003754  0.012096  0.012679  0.010442  ...     0.0   0.0   0.0   \n",
       "AGRN      0.006184  0.006813  0.010775  0.009189  ...     0.0   0.0   0.0   \n",
       "TNFRSF18  0.454010  0.137643  0.200340  0.093210  ...     0.0   0.0   0.0   \n",
       "\n",
       "          SCO2  TYMP  CPT1B  CHKB  MAPK8IP2  ARSA  SHANK3  \n",
       "NOC2L      0.0   0.0    0.0   0.0       0.0   0.0     0.0  \n",
       "HES4       0.0   0.0    0.0   0.0       0.0   0.0     0.0  \n",
       "ISG15      0.0   0.0    0.0   0.0       0.0   0.0     0.0  \n",
       "AGRN       0.0   0.0    0.0   0.0       0.0   0.0     0.0  \n",
       "TNFRSF18   0.0   0.0    0.0   0.0       0.0   0.0     0.0  \n",
       "\n",
       "[5 rows x 6442 columns]"
      ]
     },
     "execution_count": 19,
     "metadata": {},
     "output_type": "execute_result"
    }
   ],
   "source": [
    "orig_corr_mat.head()"
   ]
  },
  {
   "cell_type": "markdown",
   "id": "9b4872de-b652-4b2e-ab3d-6e326548592b",
   "metadata": {
    "papermill": {
     "duration": 0.01453,
     "end_time": "2022-07-11T13:22:11.041316",
     "exception": false,
     "start_time": "2022-07-11T13:22:11.026786",
     "status": "completed"
    },
    "tags": []
   },
   "source": [
    "## Load cohort metadata"
   ]
  },
  {
   "cell_type": "code",
   "execution_count": 20,
   "id": "66155d03-e4cf-4b6e-954e-00fd8af9fe65",
   "metadata": {},
   "outputs": [],
   "source": [
    "gene_tissues_df = pd.read_pickle(\n",
    "    utils.get_git_repository_path()\n",
    "    / \"tests\"\n",
    "    / \"data\"\n",
    "    / \"gls\"\n",
    "    / \"cohort_1000g_eur_metadata\"\n",
    "    / \"gene_tissues.pkl.gz\"\n",
    ").set_index(\"gene_name\")"
   ]
  },
  {
   "cell_type": "code",
   "execution_count": 21,
   "id": "3180282c-74ac-42da-bab2-1f30c1d6b13f",
   "metadata": {},
   "outputs": [
    {
     "data": {
      "text/plain": [
       "(22314, 6)"
      ]
     },
     "execution_count": 21,
     "metadata": {},
     "output_type": "execute_result"
    }
   ],
   "source": [
    "gene_tissues_df.shape"
   ]
  },
  {
   "cell_type": "code",
   "execution_count": 22,
   "id": "f3f6e0ca-eceb-4de8-a3c8-cfbbb78e2666",
   "metadata": {},
   "outputs": [],
   "source": [
    "gene_tissues_df = gene_tissues_df.loc[~gene_tissues_df.index.duplicated(keep=\"first\")]"
   ]
  },
  {
   "cell_type": "code",
   "execution_count": 23,
   "id": "58592992-5436-4f90-95f9-1cb24df8864e",
   "metadata": {},
   "outputs": [
    {
     "data": {
      "text/plain": [
       "(22308, 6)"
      ]
     },
     "execution_count": 23,
     "metadata": {},
     "output_type": "execute_result"
    }
   ],
   "source": [
    "gene_tissues_df.shape"
   ]
  },
  {
   "cell_type": "code",
   "execution_count": 24,
   "id": "81954acb-3ccb-4a70-b371-0d35b13953b2",
   "metadata": {},
   "outputs": [],
   "source": [
    "assert gene_tissues_df.index.is_unique"
   ]
  },
  {
   "cell_type": "code",
   "execution_count": 25,
   "id": "00d31d31-fdc8-4403-abac-dbd622ab57e2",
   "metadata": {},
   "outputs": [
    {
     "data": {
      "text/html": [
       "<div>\n",
       "<style scoped>\n",
       "    .dataframe tbody tr th:only-of-type {\n",
       "        vertical-align: middle;\n",
       "    }\n",
       "\n",
       "    .dataframe tbody tr th {\n",
       "        vertical-align: top;\n",
       "    }\n",
       "\n",
       "    .dataframe thead th {\n",
       "        text-align: right;\n",
       "    }\n",
       "</style>\n",
       "<table border=\"1\" class=\"dataframe\">\n",
       "  <thead>\n",
       "    <tr style=\"text-align: right;\">\n",
       "      <th></th>\n",
       "      <th>tissue</th>\n",
       "      <th>n_tissues</th>\n",
       "      <th>n_snps_used_sum</th>\n",
       "      <th>n_snps_in_model_sum</th>\n",
       "      <th>unique_n_snps_in_model</th>\n",
       "      <th>unique_n_snps_used</th>\n",
       "    </tr>\n",
       "    <tr>\n",
       "      <th>gene_name</th>\n",
       "      <th></th>\n",
       "      <th></th>\n",
       "      <th></th>\n",
       "      <th></th>\n",
       "      <th></th>\n",
       "      <th></th>\n",
       "    </tr>\n",
       "  </thead>\n",
       "  <tbody>\n",
       "    <tr>\n",
       "      <th>DPM1</th>\n",
       "      <td>(Brain_Substantia_nigra, Brain_Hypothalamus)</td>\n",
       "      <td>2</td>\n",
       "      <td>2</td>\n",
       "      <td>2</td>\n",
       "      <td>2</td>\n",
       "      <td>2</td>\n",
       "    </tr>\n",
       "    <tr>\n",
       "      <th>SCYL3</th>\n",
       "      <td>(Brain_Hippocampus, Nerve_Tibial, Brain_Anteri...</td>\n",
       "      <td>48</td>\n",
       "      <td>88</td>\n",
       "      <td>90</td>\n",
       "      <td>18</td>\n",
       "      <td>17</td>\n",
       "    </tr>\n",
       "    <tr>\n",
       "      <th>C1orf112</th>\n",
       "      <td>(Brain_Hippocampus, Nerve_Tibial, Brain_Substa...</td>\n",
       "      <td>39</td>\n",
       "      <td>62</td>\n",
       "      <td>64</td>\n",
       "      <td>24</td>\n",
       "      <td>22</td>\n",
       "    </tr>\n",
       "    <tr>\n",
       "      <th>FGR</th>\n",
       "      <td>(Brain_Hippocampus, Nerve_Tibial, Brain_Anteri...</td>\n",
       "      <td>36</td>\n",
       "      <td>40</td>\n",
       "      <td>40</td>\n",
       "      <td>5</td>\n",
       "      <td>5</td>\n",
       "    </tr>\n",
       "    <tr>\n",
       "      <th>CFH</th>\n",
       "      <td>(Brain_Hippocampus, Nerve_Tibial, Brain_Anteri...</td>\n",
       "      <td>34</td>\n",
       "      <td>44</td>\n",
       "      <td>44</td>\n",
       "      <td>12</td>\n",
       "      <td>12</td>\n",
       "    </tr>\n",
       "  </tbody>\n",
       "</table>\n",
       "</div>"
      ],
      "text/plain": [
       "                                                      tissue  n_tissues  \\\n",
       "gene_name                                                                 \n",
       "DPM1            (Brain_Substantia_nigra, Brain_Hypothalamus)          2   \n",
       "SCYL3      (Brain_Hippocampus, Nerve_Tibial, Brain_Anteri...         48   \n",
       "C1orf112   (Brain_Hippocampus, Nerve_Tibial, Brain_Substa...         39   \n",
       "FGR        (Brain_Hippocampus, Nerve_Tibial, Brain_Anteri...         36   \n",
       "CFH        (Brain_Hippocampus, Nerve_Tibial, Brain_Anteri...         34   \n",
       "\n",
       "           n_snps_used_sum  n_snps_in_model_sum  unique_n_snps_in_model  \\\n",
       "gene_name                                                                 \n",
       "DPM1                     2                    2                       2   \n",
       "SCYL3                   88                   90                      18   \n",
       "C1orf112                62                   64                      24   \n",
       "FGR                     40                   40                       5   \n",
       "CFH                     44                   44                      12   \n",
       "\n",
       "           unique_n_snps_used  \n",
       "gene_name                      \n",
       "DPM1                        2  \n",
       "SCYL3                      17  \n",
       "C1orf112                   22  \n",
       "FGR                         5  \n",
       "CFH                        12  "
      ]
     },
     "execution_count": 25,
     "metadata": {},
     "output_type": "execute_result"
    }
   ],
   "source": [
    "gene_tissues_df.head()"
   ]
  },
  {
   "cell_type": "markdown",
   "id": "768a0b6a-d711-468a-b8e6-2cff279636fa",
   "metadata": {
    "papermill": {
     "duration": 0.012899,
     "end_time": "2022-07-11T13:23:15.569947",
     "exception": false,
     "start_time": "2022-07-11T13:23:15.557048",
     "status": "completed"
    },
    "tags": []
   },
   "source": [
    "# Functions"
   ]
  },
  {
   "cell_type": "code",
   "execution_count": 35,
   "id": "35409e2f-d9d5-4d82-bcd8-a7b6a93475a9",
   "metadata": {
    "papermill": {
     "duration": 0.233317,
     "end_time": "2022-07-11T13:23:15.815161",
     "exception": false,
     "start_time": "2022-07-11T13:23:15.581844",
     "status": "completed"
    },
    "tags": []
   },
   "outputs": [],
   "source": [
    "import statsmodels.api as sm\n",
    "from sklearn.preprocessing import scale"
   ]
  },
  {
   "cell_type": "code",
   "execution_count": 205,
   "id": "d4864e24-7153-49de-88ee-30acc3449d3b",
   "metadata": {},
   "outputs": [],
   "source": [
    "def get_data(\n",
    "    lv_code,\n",
    "    random_phenotype_code=None,\n",
    "    real_phenotype_code=None,\n",
    "    add_covars=False,\n",
    "    add_snplevel_covars=False,\n",
    "    add_covars_logs=False,\n",
    "):\n",
    "    if random_phenotype_code is not None:\n",
    "        target_data = load_multixcan_random_phenotype(random_phenotype_code)[\"pvalue\"]\n",
    "        y = pd.Series(\n",
    "            data=np.abs(stats.norm.ppf(target_data.to_numpy() / 2)),\n",
    "            index=target_data.index.copy(),\n",
    "        )\n",
    "    elif real_phenotype_code is not None:\n",
    "        y = multixcan_real_results[real_phenotype_code]\n",
    "\n",
    "    y = y[~y.index.duplicated(keep=\"first\")]\n",
    "    y = y.dropna()\n",
    "\n",
    "    X = multiplier_z[lv_code].copy()\n",
    "\n",
    "    common_genes = orig_corr_mat.index.intersection(y.index).intersection(X.index)\n",
    "    y = y.loc[common_genes]\n",
    "\n",
    "    X = X.loc[common_genes]\n",
    "    X = sm.add_constant(X)\n",
    "\n",
    "    if add_covars or add_snplevel_covars:\n",
    "        covars = load_multixcan_random_phenotype(random_phenotype_code)[\n",
    "            [\"n\", \"n_indep\"]\n",
    "        ]\n",
    "        covars = covars[~covars.index.duplicated(keep=\"first\")]\n",
    "        covars = covars.loc[X.index]\n",
    "\n",
    "    if add_covars:\n",
    "        covars = covars.rename(\n",
    "            columns={\n",
    "                \"n_indep\": \"gene_size\",\n",
    "            }\n",
    "        )\n",
    "        covars = covars.assign(\n",
    "            gene_density=covars.apply(lambda x: x[\"gene_size\"] / x[\"n\"], axis=1)\n",
    "        )\n",
    "\n",
    "        if add_covars_logs:\n",
    "            covars[\"gene_size_log\"] = np.log(covars[\"gene_size\"])\n",
    "            covars[\"gene_density_log\"] = -np.log(covars[\"gene_density\"])\n",
    "\n",
    "    if add_snplevel_covars:\n",
    "        covars = covars.assign(gene_n_snps_used=gene_tissues_df[\"n_snps_used_sum\"])\n",
    "\n",
    "        covars = covars.assign(\n",
    "            gene_n_snps_used_density=gene_tissues_df.apply(\n",
    "                lambda x: x[\"n_snps_used_sum\"] / x[\"n_snps_in_model_sum\"], axis=1\n",
    "            )\n",
    "        )\n",
    "\n",
    "        if add_covars_logs:\n",
    "            covars[\"gene_n_snps_used_log\"] = np.log(covars[\"gene_n_snps_used\"])\n",
    "            covars[\"gene_n_snps_used_density_log\"] = -np.log(\n",
    "                covars[\"gene_n_snps_used_density\"]\n",
    "            )\n",
    "\n",
    "    if add_covars or add_snplevel_covars:\n",
    "        if not add_covars:\n",
    "            covars = covars.drop(\n",
    "                columns=[\n",
    "                    c\n",
    "                    for c in covars.columns\n",
    "                    if c.startswith((\"gene_size\", \"gene_density\"))\n",
    "                ]\n",
    "            )\n",
    "\n",
    "        if not add_snplevel_covars:\n",
    "            covars = covars.drop(\n",
    "                columns=[\n",
    "                    c\n",
    "                    for c in covars.columns\n",
    "                    if c.startswith((\"gene_n_snps_used\", \"gene_n_snps_used_density\"))\n",
    "                ]\n",
    "            )\n",
    "\n",
    "        covars = covars.drop(\n",
    "            columns=[c for c in covars.columns if c in (\"n\", \"n_indep\")]\n",
    "        )\n",
    "\n",
    "        X = X.join(covars)\n",
    "\n",
    "    return X, y"
   ]
  },
  {
   "cell_type": "code",
   "execution_count": 206,
   "id": "9dd68960-dc49-4498-b30a-5af92dc2df83",
   "metadata": {},
   "outputs": [],
   "source": [
    "# testing\n",
    "_X, _y = get_data(\"LV7\", 10)\n",
    "assert _X.shape[0] < 7000\n",
    "assert _X.shape[1] == 2\n",
    "assert \"LV7\" in _X.columns\n",
    "assert \"const\" in _X.columns\n",
    "assert not _X.isna().any(None)\n",
    "\n",
    "assert _y.shape[0] == _X.shape[0]\n",
    "assert not _y.isna().any(None)"
   ]
  },
  {
   "cell_type": "code",
   "execution_count": 207,
   "id": "3f014c4d-7086-4e6e-aeca-3e7f9a238a4f",
   "metadata": {},
   "outputs": [
    {
     "data": {
      "text/html": [
       "<div>\n",
       "<style scoped>\n",
       "    .dataframe tbody tr th:only-of-type {\n",
       "        vertical-align: middle;\n",
       "    }\n",
       "\n",
       "    .dataframe tbody tr th {\n",
       "        vertical-align: top;\n",
       "    }\n",
       "\n",
       "    .dataframe thead th {\n",
       "        text-align: right;\n",
       "    }\n",
       "</style>\n",
       "<table border=\"1\" class=\"dataframe\">\n",
       "  <thead>\n",
       "    <tr style=\"text-align: right;\">\n",
       "      <th></th>\n",
       "      <th>const</th>\n",
       "      <th>LV7</th>\n",
       "    </tr>\n",
       "  </thead>\n",
       "  <tbody>\n",
       "    <tr>\n",
       "      <th>NOC2L</th>\n",
       "      <td>1.0</td>\n",
       "      <td>0.0</td>\n",
       "    </tr>\n",
       "    <tr>\n",
       "      <th>HES4</th>\n",
       "      <td>1.0</td>\n",
       "      <td>0.0</td>\n",
       "    </tr>\n",
       "    <tr>\n",
       "      <th>ISG15</th>\n",
       "      <td>1.0</td>\n",
       "      <td>0.0</td>\n",
       "    </tr>\n",
       "    <tr>\n",
       "      <th>AGRN</th>\n",
       "      <td>1.0</td>\n",
       "      <td>0.0</td>\n",
       "    </tr>\n",
       "    <tr>\n",
       "      <th>TNFRSF18</th>\n",
       "      <td>1.0</td>\n",
       "      <td>0.0</td>\n",
       "    </tr>\n",
       "  </tbody>\n",
       "</table>\n",
       "</div>"
      ],
      "text/plain": [
       "          const  LV7\n",
       "NOC2L       1.0  0.0\n",
       "HES4        1.0  0.0\n",
       "ISG15       1.0  0.0\n",
       "AGRN        1.0  0.0\n",
       "TNFRSF18    1.0  0.0"
      ]
     },
     "execution_count": 207,
     "metadata": {},
     "output_type": "execute_result"
    }
   ],
   "source": [
    "_X.head()"
   ]
  },
  {
   "cell_type": "code",
   "execution_count": 208,
   "id": "70aa7583-aa21-45db-a0dd-108fbe623c00",
   "metadata": {},
   "outputs": [
    {
     "data": {
      "text/plain": [
       "NOC2L       0.679536\n",
       "HES4        2.495365\n",
       "ISG15       1.892361\n",
       "AGRN        1.428397\n",
       "TNFRSF18    0.390039\n",
       "dtype: float64"
      ]
     },
     "execution_count": 208,
     "metadata": {},
     "output_type": "execute_result"
    }
   ],
   "source": [
    "_y.head()"
   ]
  },
  {
   "cell_type": "code",
   "execution_count": 209,
   "id": "d37bab30-81dd-4415-895d-959769910f7d",
   "metadata": {},
   "outputs": [],
   "source": [
    "# testing\n",
    "_X, _y = get_data(\"LV7\", 10, add_covars=True)\n",
    "assert _X.shape[0] < 7000\n",
    "assert _X.shape[1] == 4\n",
    "assert \"LV7\" in _X.columns\n",
    "assert \"const\" in _X.columns\n",
    "assert \"gene_size\" in _X.columns\n",
    "assert \"gene_density\" in _X.columns\n",
    "assert not _X.isna().any(None)\n",
    "\n",
    "assert _y.shape[0] == _X.shape[0]\n",
    "assert not _y.isna().any(None)"
   ]
  },
  {
   "cell_type": "code",
   "execution_count": 210,
   "id": "322d966b-fc04-4d59-9471-299a7446c971",
   "metadata": {},
   "outputs": [
    {
     "data": {
      "text/html": [
       "<div>\n",
       "<style scoped>\n",
       "    .dataframe tbody tr th:only-of-type {\n",
       "        vertical-align: middle;\n",
       "    }\n",
       "\n",
       "    .dataframe tbody tr th {\n",
       "        vertical-align: top;\n",
       "    }\n",
       "\n",
       "    .dataframe thead th {\n",
       "        text-align: right;\n",
       "    }\n",
       "</style>\n",
       "<table border=\"1\" class=\"dataframe\">\n",
       "  <thead>\n",
       "    <tr style=\"text-align: right;\">\n",
       "      <th></th>\n",
       "      <th>const</th>\n",
       "      <th>LV7</th>\n",
       "      <th>gene_size</th>\n",
       "      <th>gene_density</th>\n",
       "    </tr>\n",
       "  </thead>\n",
       "  <tbody>\n",
       "    <tr>\n",
       "      <th>NOC2L</th>\n",
       "      <td>1.0</td>\n",
       "      <td>0.0</td>\n",
       "      <td>5.0</td>\n",
       "      <td>0.106383</td>\n",
       "    </tr>\n",
       "    <tr>\n",
       "      <th>HES4</th>\n",
       "      <td>1.0</td>\n",
       "      <td>0.0</td>\n",
       "      <td>3.0</td>\n",
       "      <td>0.068182</td>\n",
       "    </tr>\n",
       "    <tr>\n",
       "      <th>ISG15</th>\n",
       "      <td>1.0</td>\n",
       "      <td>0.0</td>\n",
       "      <td>6.0</td>\n",
       "      <td>0.142857</td>\n",
       "    </tr>\n",
       "    <tr>\n",
       "      <th>AGRN</th>\n",
       "      <td>1.0</td>\n",
       "      <td>0.0</td>\n",
       "      <td>4.0</td>\n",
       "      <td>0.086957</td>\n",
       "    </tr>\n",
       "    <tr>\n",
       "      <th>TNFRSF18</th>\n",
       "      <td>1.0</td>\n",
       "      <td>0.0</td>\n",
       "      <td>4.0</td>\n",
       "      <td>0.088889</td>\n",
       "    </tr>\n",
       "  </tbody>\n",
       "</table>\n",
       "</div>"
      ],
      "text/plain": [
       "          const  LV7  gene_size  gene_density\n",
       "NOC2L       1.0  0.0        5.0      0.106383\n",
       "HES4        1.0  0.0        3.0      0.068182\n",
       "ISG15       1.0  0.0        6.0      0.142857\n",
       "AGRN        1.0  0.0        4.0      0.086957\n",
       "TNFRSF18    1.0  0.0        4.0      0.088889"
      ]
     },
     "execution_count": 210,
     "metadata": {},
     "output_type": "execute_result"
    }
   ],
   "source": [
    "_X.head()"
   ]
  },
  {
   "cell_type": "code",
   "execution_count": 211,
   "id": "e43870e5-5140-4d6c-a375-364162c4952f",
   "metadata": {},
   "outputs": [],
   "source": [
    "# load_multixcan_random_phenotype(10).loc[\"TNFRSF18\"]"
   ]
  },
  {
   "cell_type": "code",
   "execution_count": 212,
   "id": "4a997d26-bac3-4186-b4c3-c744cf745a5f",
   "metadata": {},
   "outputs": [],
   "source": [
    "assert _X.loc[\"TNFRSF18\", \"gene_size\"] == 4.0\n",
    "assert _X.loc[\"TNFRSF18\", \"gene_density\"] == 4 / 45.0"
   ]
  },
  {
   "cell_type": "code",
   "execution_count": 213,
   "id": "17e3ccc5-a267-4691-89f4-db8c677b534e",
   "metadata": {},
   "outputs": [
    {
     "data": {
      "text/plain": [
       "NOC2L       0.679536\n",
       "HES4        2.495365\n",
       "ISG15       1.892361\n",
       "AGRN        1.428397\n",
       "TNFRSF18    0.390039\n",
       "dtype: float64"
      ]
     },
     "execution_count": 213,
     "metadata": {},
     "output_type": "execute_result"
    }
   ],
   "source": [
    "_y.head()"
   ]
  },
  {
   "cell_type": "code",
   "execution_count": 214,
   "id": "02c8cfa8-639e-4ce8-a4ff-531ad3b223ad",
   "metadata": {},
   "outputs": [],
   "source": [
    "# testing\n",
    "_X, _y = get_data(\"LV7\", 10, add_snplevel_covars=True)\n",
    "assert _X.shape[0] < 7000\n",
    "assert _X.shape[1] == 4\n",
    "assert \"LV7\" in _X.columns\n",
    "assert \"const\" in _X.columns\n",
    "assert \"gene_n_snps_used\" in _X.columns\n",
    "assert \"gene_n_snps_used_density\" in _X.columns\n",
    "assert not _X.isna().any(None)\n",
    "\n",
    "assert _y.shape[0] == _X.shape[0]\n",
    "assert not _y.isna().any(None)"
   ]
  },
  {
   "cell_type": "code",
   "execution_count": 215,
   "id": "67b89cc0-00cd-4994-acb3-370d23614372",
   "metadata": {},
   "outputs": [
    {
     "data": {
      "text/html": [
       "<div>\n",
       "<style scoped>\n",
       "    .dataframe tbody tr th:only-of-type {\n",
       "        vertical-align: middle;\n",
       "    }\n",
       "\n",
       "    .dataframe tbody tr th {\n",
       "        vertical-align: top;\n",
       "    }\n",
       "\n",
       "    .dataframe thead th {\n",
       "        text-align: right;\n",
       "    }\n",
       "</style>\n",
       "<table border=\"1\" class=\"dataframe\">\n",
       "  <thead>\n",
       "    <tr style=\"text-align: right;\">\n",
       "      <th></th>\n",
       "      <th>const</th>\n",
       "      <th>LV7</th>\n",
       "      <th>gene_n_snps_used</th>\n",
       "      <th>gene_n_snps_used_density</th>\n",
       "    </tr>\n",
       "  </thead>\n",
       "  <tbody>\n",
       "    <tr>\n",
       "      <th>NOC2L</th>\n",
       "      <td>1.0</td>\n",
       "      <td>0.0</td>\n",
       "      <td>103</td>\n",
       "      <td>0.980952</td>\n",
       "    </tr>\n",
       "    <tr>\n",
       "      <th>HES4</th>\n",
       "      <td>1.0</td>\n",
       "      <td>0.0</td>\n",
       "      <td>55</td>\n",
       "      <td>0.785714</td>\n",
       "    </tr>\n",
       "    <tr>\n",
       "      <th>ISG15</th>\n",
       "      <td>1.0</td>\n",
       "      <td>0.0</td>\n",
       "      <td>59</td>\n",
       "      <td>0.967213</td>\n",
       "    </tr>\n",
       "    <tr>\n",
       "      <th>AGRN</th>\n",
       "      <td>1.0</td>\n",
       "      <td>0.0</td>\n",
       "      <td>75</td>\n",
       "      <td>0.728155</td>\n",
       "    </tr>\n",
       "    <tr>\n",
       "      <th>TNFRSF18</th>\n",
       "      <td>1.0</td>\n",
       "      <td>0.0</td>\n",
       "      <td>65</td>\n",
       "      <td>0.984848</td>\n",
       "    </tr>\n",
       "  </tbody>\n",
       "</table>\n",
       "</div>"
      ],
      "text/plain": [
       "          const  LV7  gene_n_snps_used  gene_n_snps_used_density\n",
       "NOC2L       1.0  0.0               103                  0.980952\n",
       "HES4        1.0  0.0                55                  0.785714\n",
       "ISG15       1.0  0.0                59                  0.967213\n",
       "AGRN        1.0  0.0                75                  0.728155\n",
       "TNFRSF18    1.0  0.0                65                  0.984848"
      ]
     },
     "execution_count": 215,
     "metadata": {},
     "output_type": "execute_result"
    }
   ],
   "source": [
    "_X.head()"
   ]
  },
  {
   "cell_type": "code",
   "execution_count": 216,
   "id": "2429048e-2294-4275-91fb-3e78dfeaec4f",
   "metadata": {},
   "outputs": [],
   "source": [
    "# gene_tissues_df.loc[\"AGRN\"]"
   ]
  },
  {
   "cell_type": "code",
   "execution_count": 217,
   "id": "17a152ef-db7d-47d1-b06b-1d22b7676d92",
   "metadata": {},
   "outputs": [],
   "source": [
    "assert _X.loc[\"AGRN\", \"gene_n_snps_used\"] == 75.0\n",
    "assert _X.loc[\"AGRN\", \"gene_n_snps_used_density\"] == 75 / 103.0"
   ]
  },
  {
   "cell_type": "code",
   "execution_count": 218,
   "id": "23cb1ed1-e6fe-48bf-a602-5638a52e3b4c",
   "metadata": {},
   "outputs": [
    {
     "data": {
      "text/plain": [
       "NOC2L       0.679536\n",
       "HES4        2.495365\n",
       "ISG15       1.892361\n",
       "AGRN        1.428397\n",
       "TNFRSF18    0.390039\n",
       "dtype: float64"
      ]
     },
     "execution_count": 218,
     "metadata": {},
     "output_type": "execute_result"
    }
   ],
   "source": [
    "_y.head()"
   ]
  },
  {
   "cell_type": "code",
   "execution_count": 219,
   "id": "562aa2c7-3591-49aa-8fc8-07433e6a4f94",
   "metadata": {},
   "outputs": [],
   "source": [
    "# testing\n",
    "_X, _y = get_data(\"LV7\", 10, add_covars=True, add_snplevel_covars=True)\n",
    "assert _X.shape[0] < 7000\n",
    "assert _X.shape[1] == 6\n",
    "assert \"LV7\" in _X.columns\n",
    "assert \"const\" in _X.columns\n",
    "assert \"gene_size\" in _X.columns\n",
    "assert \"gene_density\" in _X.columns\n",
    "assert \"gene_n_snps_used\" in _X.columns\n",
    "assert \"gene_n_snps_used_density\" in _X.columns\n",
    "assert not _X.isna().any(None)\n",
    "\n",
    "assert _y.shape[0] == _X.shape[0]\n",
    "assert not _y.isna().any(None)"
   ]
  },
  {
   "cell_type": "code",
   "execution_count": 220,
   "id": "75a2640a-7853-46d0-a7c8-a719c327c412",
   "metadata": {},
   "outputs": [
    {
     "data": {
      "text/html": [
       "<div>\n",
       "<style scoped>\n",
       "    .dataframe tbody tr th:only-of-type {\n",
       "        vertical-align: middle;\n",
       "    }\n",
       "\n",
       "    .dataframe tbody tr th {\n",
       "        vertical-align: top;\n",
       "    }\n",
       "\n",
       "    .dataframe thead th {\n",
       "        text-align: right;\n",
       "    }\n",
       "</style>\n",
       "<table border=\"1\" class=\"dataframe\">\n",
       "  <thead>\n",
       "    <tr style=\"text-align: right;\">\n",
       "      <th></th>\n",
       "      <th>const</th>\n",
       "      <th>LV7</th>\n",
       "      <th>gene_size</th>\n",
       "      <th>gene_density</th>\n",
       "      <th>gene_n_snps_used</th>\n",
       "      <th>gene_n_snps_used_density</th>\n",
       "    </tr>\n",
       "  </thead>\n",
       "  <tbody>\n",
       "    <tr>\n",
       "      <th>NOC2L</th>\n",
       "      <td>1.0</td>\n",
       "      <td>0.0</td>\n",
       "      <td>5.0</td>\n",
       "      <td>0.106383</td>\n",
       "      <td>103</td>\n",
       "      <td>0.980952</td>\n",
       "    </tr>\n",
       "    <tr>\n",
       "      <th>HES4</th>\n",
       "      <td>1.0</td>\n",
       "      <td>0.0</td>\n",
       "      <td>3.0</td>\n",
       "      <td>0.068182</td>\n",
       "      <td>55</td>\n",
       "      <td>0.785714</td>\n",
       "    </tr>\n",
       "    <tr>\n",
       "      <th>ISG15</th>\n",
       "      <td>1.0</td>\n",
       "      <td>0.0</td>\n",
       "      <td>6.0</td>\n",
       "      <td>0.142857</td>\n",
       "      <td>59</td>\n",
       "      <td>0.967213</td>\n",
       "    </tr>\n",
       "    <tr>\n",
       "      <th>AGRN</th>\n",
       "      <td>1.0</td>\n",
       "      <td>0.0</td>\n",
       "      <td>4.0</td>\n",
       "      <td>0.086957</td>\n",
       "      <td>75</td>\n",
       "      <td>0.728155</td>\n",
       "    </tr>\n",
       "    <tr>\n",
       "      <th>TNFRSF18</th>\n",
       "      <td>1.0</td>\n",
       "      <td>0.0</td>\n",
       "      <td>4.0</td>\n",
       "      <td>0.088889</td>\n",
       "      <td>65</td>\n",
       "      <td>0.984848</td>\n",
       "    </tr>\n",
       "  </tbody>\n",
       "</table>\n",
       "</div>"
      ],
      "text/plain": [
       "          const  LV7  gene_size  gene_density  gene_n_snps_used  \\\n",
       "NOC2L       1.0  0.0        5.0      0.106383               103   \n",
       "HES4        1.0  0.0        3.0      0.068182                55   \n",
       "ISG15       1.0  0.0        6.0      0.142857                59   \n",
       "AGRN        1.0  0.0        4.0      0.086957                75   \n",
       "TNFRSF18    1.0  0.0        4.0      0.088889                65   \n",
       "\n",
       "          gene_n_snps_used_density  \n",
       "NOC2L                     0.980952  \n",
       "HES4                      0.785714  \n",
       "ISG15                     0.967213  \n",
       "AGRN                      0.728155  \n",
       "TNFRSF18                  0.984848  "
      ]
     },
     "execution_count": 220,
     "metadata": {},
     "output_type": "execute_result"
    }
   ],
   "source": [
    "_X.head()"
   ]
  },
  {
   "cell_type": "code",
   "execution_count": 221,
   "id": "a0f6c67a-1bbe-4a13-ac6f-f8cf26739a36",
   "metadata": {},
   "outputs": [],
   "source": [
    "# gene_tissues_df.loc[\"AGRN\"]"
   ]
  },
  {
   "cell_type": "code",
   "execution_count": 222,
   "id": "baca697d-d612-4359-bb24-a7188af1be78",
   "metadata": {},
   "outputs": [],
   "source": [
    "assert _X.loc[\"AGRN\", \"gene_n_snps_used\"] == 75.0\n",
    "assert _X.loc[\"AGRN\", \"gene_n_snps_used_density\"] == 75 / 103.0"
   ]
  },
  {
   "cell_type": "code",
   "execution_count": 223,
   "id": "d5adba9b-7e93-44a0-885c-7f6f8ad30184",
   "metadata": {},
   "outputs": [
    {
     "data": {
      "text/plain": [
       "NOC2L       0.679536\n",
       "HES4        2.495365\n",
       "ISG15       1.892361\n",
       "AGRN        1.428397\n",
       "TNFRSF18    0.390039\n",
       "dtype: float64"
      ]
     },
     "execution_count": 223,
     "metadata": {},
     "output_type": "execute_result"
    }
   ],
   "source": [
    "_y.head()"
   ]
  },
  {
   "cell_type": "code",
   "execution_count": 224,
   "id": "b5b4e879-8b1f-418d-ab5c-30e47d4fa984",
   "metadata": {},
   "outputs": [],
   "source": [
    "# testing\n",
    "_X, _y = get_data(\n",
    "    \"LV7\", 10, add_covars=True, add_snplevel_covars=True, add_covars_logs=True\n",
    ")\n",
    "assert _X.shape[0] < 7000\n",
    "assert _X.shape[1] == 10\n",
    "assert \"LV7\" in _X.columns\n",
    "assert \"const\" in _X.columns\n",
    "assert \"gene_size\" in _X.columns\n",
    "assert \"gene_size_log\" in _X.columns\n",
    "assert \"gene_density\" in _X.columns\n",
    "assert \"gene_density_log\" in _X.columns\n",
    "assert \"gene_n_snps_used\" in _X.columns\n",
    "assert \"gene_n_snps_used_log\" in _X.columns\n",
    "assert \"gene_n_snps_used_density\" in _X.columns\n",
    "assert \"gene_n_snps_used_density_log\" in _X.columns\n",
    "assert not _X.isna().any(None)\n",
    "\n",
    "assert _X[\"gene_density\"].between(0.0, 1.0, inclusive=\"right\").all()\n",
    "assert _X[\"gene_density_log\"].min() >= 0.0\n",
    "assert _X[\"gene_size\"].min() >= 0.0\n",
    "assert _X[\"gene_size_log\"].min() >= 0.0\n",
    "assert _X[\"gene_n_snps_used\"].min() >= 0.0\n",
    "assert _X[\"gene_n_snps_used_log\"].min() >= 0.0\n",
    "assert _X[\"gene_n_snps_used_density\"].between(0.0, 1.0, inclusive=\"right\").all()\n",
    "assert _X[\"gene_n_snps_used_density_log\"].min() >= 0.0\n",
    "\n",
    "assert _y.shape[0] == _X.shape[0]\n",
    "assert not _y.isna().any(None)"
   ]
  },
  {
   "cell_type": "code",
   "execution_count": 225,
   "id": "5aef7bfe-2203-4f2f-a530-59bd37027c73",
   "metadata": {},
   "outputs": [
    {
     "data": {
      "text/plain": [
       "count    6442.000000\n",
       "mean        1.328358\n",
       "std         0.564777\n",
       "min         0.000000\n",
       "25%         1.098612\n",
       "50%         1.386294\n",
       "75%         1.791759\n",
       "max         2.890372\n",
       "Name: gene_size_log, dtype: float64"
      ]
     },
     "execution_count": 225,
     "metadata": {},
     "output_type": "execute_result"
    }
   ],
   "source": [
    "_X[\"gene_size_log\"].describe()"
   ]
  },
  {
   "cell_type": "code",
   "execution_count": 226,
   "id": "04a92b20-5777-49b6-9d59-2bcef99f573c",
   "metadata": {},
   "outputs": [
    {
     "data": {
      "text/plain": [
       "count    6442.000000\n",
       "mean        2.134227\n",
       "std         0.801612\n",
       "min        -0.000000\n",
       "25%         1.658228\n",
       "50%         2.219203\n",
       "75%         2.708050\n",
       "max         3.891820\n",
       "Name: gene_density_log, dtype: float64"
      ]
     },
     "execution_count": 226,
     "metadata": {},
     "output_type": "execute_result"
    }
   ],
   "source": [
    "_X[\"gene_density_log\"].describe()"
   ]
  },
  {
   "cell_type": "code",
   "execution_count": 227,
   "id": "307b9a77-b161-4cb0-ae72-1710c20c58c5",
   "metadata": {},
   "outputs": [
    {
     "data": {
      "text/plain": [
       "count    6442.000000\n",
       "mean        3.816128\n",
       "std         0.795153\n",
       "min         0.000000\n",
       "25%         3.555348\n",
       "50%         4.007333\n",
       "75%         4.343805\n",
       "max         5.318120\n",
       "Name: gene_n_snps_used_log, dtype: float64"
      ]
     },
     "execution_count": 227,
     "metadata": {},
     "output_type": "execute_result"
    }
   ],
   "source": [
    "_X[\"gene_n_snps_used_log\"].describe()"
   ]
  },
  {
   "cell_type": "code",
   "execution_count": 228,
   "id": "665b6612-3d0b-4435-992b-a0d096708d55",
   "metadata": {},
   "outputs": [
    {
     "data": {
      "text/plain": [
       "count    6442.000000\n",
       "mean        0.056216\n",
       "std         0.125470\n",
       "min        -0.000000\n",
       "25%        -0.000000\n",
       "50%        -0.000000\n",
       "75%         0.039221\n",
       "max         1.252763\n",
       "Name: gene_n_snps_used_density_log, dtype: float64"
      ]
     },
     "execution_count": 228,
     "metadata": {},
     "output_type": "execute_result"
    }
   ],
   "source": [
    "_X[\"gene_n_snps_used_density_log\"].describe()"
   ]
  },
  {
   "cell_type": "code",
   "execution_count": 229,
   "id": "bf6ad5e6-37ac-4f0e-8448-2af7d1a2cd1a",
   "metadata": {},
   "outputs": [
    {
     "data": {
      "text/html": [
       "<div>\n",
       "<style scoped>\n",
       "    .dataframe tbody tr th:only-of-type {\n",
       "        vertical-align: middle;\n",
       "    }\n",
       "\n",
       "    .dataframe tbody tr th {\n",
       "        vertical-align: top;\n",
       "    }\n",
       "\n",
       "    .dataframe thead th {\n",
       "        text-align: right;\n",
       "    }\n",
       "</style>\n",
       "<table border=\"1\" class=\"dataframe\">\n",
       "  <thead>\n",
       "    <tr style=\"text-align: right;\">\n",
       "      <th></th>\n",
       "      <th>const</th>\n",
       "      <th>LV7</th>\n",
       "      <th>gene_size</th>\n",
       "      <th>gene_density</th>\n",
       "      <th>gene_size_log</th>\n",
       "      <th>gene_density_log</th>\n",
       "      <th>gene_n_snps_used</th>\n",
       "      <th>gene_n_snps_used_density</th>\n",
       "      <th>gene_n_snps_used_log</th>\n",
       "      <th>gene_n_snps_used_density_log</th>\n",
       "    </tr>\n",
       "  </thead>\n",
       "  <tbody>\n",
       "    <tr>\n",
       "      <th>NOC2L</th>\n",
       "      <td>1.0</td>\n",
       "      <td>0.0</td>\n",
       "      <td>5.0</td>\n",
       "      <td>0.106383</td>\n",
       "      <td>1.609438</td>\n",
       "      <td>2.240710</td>\n",
       "      <td>103</td>\n",
       "      <td>0.980952</td>\n",
       "      <td>4.634729</td>\n",
       "      <td>0.019231</td>\n",
       "    </tr>\n",
       "    <tr>\n",
       "      <th>HES4</th>\n",
       "      <td>1.0</td>\n",
       "      <td>0.0</td>\n",
       "      <td>3.0</td>\n",
       "      <td>0.068182</td>\n",
       "      <td>1.098612</td>\n",
       "      <td>2.685577</td>\n",
       "      <td>55</td>\n",
       "      <td>0.785714</td>\n",
       "      <td>4.007333</td>\n",
       "      <td>0.241162</td>\n",
       "    </tr>\n",
       "    <tr>\n",
       "      <th>ISG15</th>\n",
       "      <td>1.0</td>\n",
       "      <td>0.0</td>\n",
       "      <td>6.0</td>\n",
       "      <td>0.142857</td>\n",
       "      <td>1.791759</td>\n",
       "      <td>1.945910</td>\n",
       "      <td>59</td>\n",
       "      <td>0.967213</td>\n",
       "      <td>4.077537</td>\n",
       "      <td>0.033336</td>\n",
       "    </tr>\n",
       "    <tr>\n",
       "      <th>AGRN</th>\n",
       "      <td>1.0</td>\n",
       "      <td>0.0</td>\n",
       "      <td>4.0</td>\n",
       "      <td>0.086957</td>\n",
       "      <td>1.386294</td>\n",
       "      <td>2.442347</td>\n",
       "      <td>75</td>\n",
       "      <td>0.728155</td>\n",
       "      <td>4.317488</td>\n",
       "      <td>0.317241</td>\n",
       "    </tr>\n",
       "    <tr>\n",
       "      <th>TNFRSF18</th>\n",
       "      <td>1.0</td>\n",
       "      <td>0.0</td>\n",
       "      <td>4.0</td>\n",
       "      <td>0.088889</td>\n",
       "      <td>1.386294</td>\n",
       "      <td>2.420368</td>\n",
       "      <td>65</td>\n",
       "      <td>0.984848</td>\n",
       "      <td>4.174387</td>\n",
       "      <td>0.015267</td>\n",
       "    </tr>\n",
       "  </tbody>\n",
       "</table>\n",
       "</div>"
      ],
      "text/plain": [
       "          const  LV7  gene_size  gene_density  gene_size_log  \\\n",
       "NOC2L       1.0  0.0        5.0      0.106383       1.609438   \n",
       "HES4        1.0  0.0        3.0      0.068182       1.098612   \n",
       "ISG15       1.0  0.0        6.0      0.142857       1.791759   \n",
       "AGRN        1.0  0.0        4.0      0.086957       1.386294   \n",
       "TNFRSF18    1.0  0.0        4.0      0.088889       1.386294   \n",
       "\n",
       "          gene_density_log  gene_n_snps_used  gene_n_snps_used_density  \\\n",
       "NOC2L             2.240710               103                  0.980952   \n",
       "HES4              2.685577                55                  0.785714   \n",
       "ISG15             1.945910                59                  0.967213   \n",
       "AGRN              2.442347                75                  0.728155   \n",
       "TNFRSF18          2.420368                65                  0.984848   \n",
       "\n",
       "          gene_n_snps_used_log  gene_n_snps_used_density_log  \n",
       "NOC2L                 4.634729                      0.019231  \n",
       "HES4                  4.007333                      0.241162  \n",
       "ISG15                 4.077537                      0.033336  \n",
       "AGRN                  4.317488                      0.317241  \n",
       "TNFRSF18              4.174387                      0.015267  "
      ]
     },
     "execution_count": 229,
     "metadata": {},
     "output_type": "execute_result"
    }
   ],
   "source": [
    "_X.head()"
   ]
  },
  {
   "cell_type": "code",
   "execution_count": 230,
   "id": "ec680b4c-b630-4c3b-bb5a-a8ec6edf30bf",
   "metadata": {},
   "outputs": [
    {
     "data": {
      "text/plain": [
       "NOC2L       0.679536\n",
       "HES4        2.495365\n",
       "ISG15       1.892361\n",
       "AGRN        1.428397\n",
       "TNFRSF18    0.390039\n",
       "dtype: float64"
      ]
     },
     "execution_count": 230,
     "metadata": {},
     "output_type": "execute_result"
    }
   ],
   "source": [
    "_y.head()"
   ]
  },
  {
   "cell_type": "code",
   "execution_count": 231,
   "id": "8523c426-33e5-4b6d-961b-976997f139b7",
   "metadata": {},
   "outputs": [],
   "source": [
    "def standardize_data(X, y):\n",
    "    X = X.copy()\n",
    "    y = y.copy()\n",
    "\n",
    "    c = [c for c in X.columns if c != \"const\"]\n",
    "    X[c] = (X[c] - X[c].mean()) / X[c].std()\n",
    "\n",
    "    return X, (y - y.mean()) / y.std()"
   ]
  },
  {
   "cell_type": "code",
   "execution_count": 232,
   "id": "16ee41fa-fa9a-4529-85a5-8f267c22ec92",
   "metadata": {},
   "outputs": [],
   "source": [
    "def get_aligned_corr_mat(X, perc=1.0):\n",
    "    # perc == 1.0 means select all nonzero genes;\n",
    "    # perc = None means do not subset the correlation matrix\n",
    "    gene_corrs = orig_corr_mat.loc[X.index, X.index]\n",
    "\n",
    "    if perc is None:\n",
    "        return gene_corrs\n",
    "\n",
    "    corr_mat_sub = pd.DataFrame(\n",
    "        np.identity(gene_corrs.shape[0]),\n",
    "        index=gene_corrs.index.copy(),\n",
    "        columns=gene_corrs.columns.copy(),\n",
    "    )\n",
    "\n",
    "    X = X.iloc[:, 1]\n",
    "\n",
    "    X_non_zero = X[X > 0]\n",
    "    X_thres = X_non_zero.quantile(1 - perc)\n",
    "    lv_nonzero_genes = X[X >= X_thres].index\n",
    "\n",
    "    lv_nonzero_genes = lv_nonzero_genes.intersection(gene_corrs.index)\n",
    "    corr_mat_sub.loc[lv_nonzero_genes, lv_nonzero_genes] = gene_corrs.loc[\n",
    "        lv_nonzero_genes, lv_nonzero_genes\n",
    "    ]\n",
    "\n",
    "    return corr_mat_sub"
   ]
  },
  {
   "cell_type": "code",
   "execution_count": 233,
   "id": "5fd9e921-3db5-4cd2-99f7-73671c2de61d",
   "metadata": {},
   "outputs": [],
   "source": [
    "# testing\n",
    "_X_test = pd.DataFrame(\n",
    "    {\n",
    "        \"const\": 1.0,\n",
    "        \"LV1\": [1.0, 0.4, 0.0],  # the last gene has zero weight\n",
    "    },\n",
    "    index=[\n",
    "        \"PSMB10\",  # the first two genes have a high sum of correlations, to make sure the sum is not close to 1.0\n",
    "        \"SLC12A4\",\n",
    "        \"ACD\",\n",
    "    ],\n",
    ")\n",
    "\n",
    "# do not subset\n",
    "_tmp_corr = get_aligned_corr_mat(_X_test, perc=None)\n",
    "assert _tmp_corr.shape == (_X_test.shape[0], _X_test.shape[0])\n",
    "assert np.array_equal(\n",
    "    _tmp_corr.round(2).to_numpy(),\n",
    "    np.array(\n",
    "        [\n",
    "            [1.0, 0.77, 0.73],\n",
    "            [0.77, 1.0, 0.63],\n",
    "            [0.73, 0.63, 1.00],\n",
    "        ]\n",
    "    ),\n",
    ")\n",
    "\n",
    "# do subset: include all non-zero LV genes\n",
    "_tmp_corr = get_aligned_corr_mat(_X_test, perc=1.0)\n",
    "assert _tmp_corr.shape == (_X_test.shape[0], _X_test.shape[0])\n",
    "assert np.array_equal(\n",
    "    _tmp_corr.round(2).to_numpy(),\n",
    "    np.array(\n",
    "        [\n",
    "            [1.0, 0.77, 0.00],\n",
    "            [0.77, 1.0, 0.00],\n",
    "            [0.00, 0.00, 1.00],\n",
    "        ]\n",
    "    ),\n",
    ")\n",
    "\n",
    "# do subset: include all non-zero LV genes with weight > 99% percentile\n",
    "_tmp_corr = get_aligned_corr_mat(_X_test, perc=0.99)\n",
    "assert _tmp_corr.shape == (_X_test.shape[0], _X_test.shape[0])\n",
    "assert np.array_equal(\n",
    "    _tmp_corr.round(2).to_numpy(),\n",
    "    np.array(\n",
    "        [\n",
    "            [1.0, 0.00, 0.00],\n",
    "            [0.00, 1.0, 0.00],\n",
    "            [0.00, 0.00, 1.00],\n",
    "        ]\n",
    "    ),\n",
    ")"
   ]
  },
  {
   "cell_type": "code",
   "execution_count": 234,
   "id": "f1082f1a-8912-4d45-885a-b12da15271ee",
   "metadata": {},
   "outputs": [],
   "source": [
    "def train_statsmodels_gls(X, y, corr_mat):\n",
    "    gls_model = sm.GLS(y, X, sigma=corr_mat)\n",
    "    gls_results = gls_model.fit()\n",
    "    return gls_results"
   ]
  },
  {
   "cell_type": "markdown",
   "id": "bf5fb682-5e92-4662-a6c7-0353a3594838",
   "metadata": {
    "papermill": {
     "duration": 0.012899,
     "end_time": "2022-07-11T13:23:15.569947",
     "exception": false,
     "start_time": "2022-07-11T13:23:15.557048",
     "status": "completed"
    },
    "tags": []
   },
   "source": [
    "# [full corr matrix] GLS on randomly generated phenotypes"
   ]
  },
  {
   "cell_type": "code",
   "execution_count": 32,
   "id": "1b096240-e242-4bd8-af91-77b05c8de3d9",
   "metadata": {},
   "outputs": [],
   "source": [
    "PERC_NONZERO_GENES = None"
   ]
  },
  {
   "cell_type": "markdown",
   "id": "2f832b8e-cfc1-48c1-b323-4dee054b9b82",
   "metadata": {},
   "source": [
    "## Random phenotype 6 / LV45"
   ]
  },
  {
   "cell_type": "code",
   "execution_count": 33,
   "id": "260b7aeb-eeb9-48a2-8ffb-fbfd7b0c67cf",
   "metadata": {},
   "outputs": [
    {
     "data": {
      "text/plain": [
       "'multixcan-random_phenotype6-pvalues'"
      ]
     },
     "metadata": {},
     "output_type": "display_data"
    }
   ],
   "source": [
    "lv_code = \"LV45\"\n",
    "phenotype_code = 6\n",
    "\n",
    "phenotype_name = f\"multixcan-random_phenotype{phenotype_code}-pvalues\"\n",
    "display(phenotype_name)"
   ]
  },
  {
   "cell_type": "code",
   "execution_count": 34,
   "id": "57af945a-361b-4901-b5cd-f93d7cc7cfe0",
   "metadata": {},
   "outputs": [],
   "source": [
    "X, y = get_data(lv_code, random_phenotype_code=phenotype_code)\n",
    "corr_mat = get_aligned_corr_mat(X, perc=PERC_NONZERO_GENES)\n",
    "\n",
    "Xs, ys = standardize_data(X, y)\n",
    "_gls_results = train_statsmodels_gls(Xs, ys, corr_mat)"
   ]
  },
  {
   "cell_type": "code",
   "execution_count": 35,
   "id": "ebac5d34-6826-45bc-b8e3-65f83a641c5d",
   "metadata": {},
   "outputs": [
    {
     "name": "stdout",
     "output_type": "stream",
     "text": [
      "                            GLS Regression Results                            \n",
      "==============================================================================\n",
      "Dep. Variable:                      y   R-squared:                       0.000\n",
      "Model:                            GLS   Adj. R-squared:                 -0.000\n",
      "Method:                 Least Squares   F-statistic:                    0.1459\n",
      "Date:                Mon, 25 Jul 2022   Prob (F-statistic):              0.702\n",
      "Time:                        15:42:55   Log-Likelihood:                -8695.5\n",
      "No. Observations:                6442   AIC:                         1.739e+04\n",
      "Df Residuals:                    6440   BIC:                         1.741e+04\n",
      "Df Model:                           1                                         \n",
      "Covariance Type:            nonrobust                                         \n",
      "==============================================================================\n",
      "                 coef    std err          t      P>|t|      [0.025      0.975]\n",
      "------------------------------------------------------------------------------\n",
      "const          0.0278      0.024      1.152      0.249      -0.020       0.075\n",
      "LV45          -0.0033      0.009     -0.382      0.702      -0.020       0.014\n",
      "==============================================================================\n",
      "Omnibus:                      925.632   Durbin-Watson:                   1.991\n",
      "Prob(Omnibus):                  0.000   Jarque-Bera (JB):             1526.390\n",
      "Skew:                           0.972   Prob(JB):                         0.00\n",
      "Kurtosis:                       4.382   Cond. No.                         2.81\n",
      "==============================================================================\n",
      "\n",
      "Notes:\n",
      "[1] Standard Errors assume that the covariance matrix of the errors is correctly specified.\n"
     ]
    }
   ],
   "source": [
    "print(_gls_results.summary())"
   ]
  },
  {
   "cell_type": "code",
   "execution_count": 36,
   "id": "6ea29e70-624b-4ee2-9d4e-dfabfaced57d",
   "metadata": {},
   "outputs": [
    {
     "name": "stdout",
     "output_type": "stream",
     "text": [
      "                            OLS Regression Results                            \n",
      "==============================================================================\n",
      "Dep. Variable:                      y   R-squared:                       0.001\n",
      "Model:                            OLS   Adj. R-squared:                  0.000\n",
      "Method:                 Least Squares   F-statistic:                     3.429\n",
      "Date:                Mon, 25 Jul 2022   Prob (F-statistic):             0.0641\n",
      "Time:                        15:42:55   Log-Likelihood:                -5683.6\n",
      "No. Observations:                6442   AIC:                         1.137e+04\n",
      "Df Residuals:                    6440   BIC:                         1.138e+04\n",
      "Df Model:                           1                                         \n",
      "Covariance Type:            nonrobust                                         \n",
      "==============================================================================\n",
      "                 coef    std err          t      P>|t|      [0.025      0.975]\n",
      "------------------------------------------------------------------------------\n",
      "const          0.7650      0.007    104.807      0.000       0.751       0.779\n",
      "LV45          -0.0444      0.024     -1.852      0.064      -0.091       0.003\n",
      "==============================================================================\n",
      "Omnibus:                     1105.575   Durbin-Watson:                   1.630\n",
      "Prob(Omnibus):                  0.000   Jarque-Bera (JB):             1894.745\n",
      "Skew:                           1.121   Prob(JB):                         0.00\n",
      "Kurtosis:                       4.427   Cond. No.                         3.29\n",
      "==============================================================================\n",
      "\n",
      "Notes:\n",
      "[1] Standard Errors assume that the covariance matrix of the errors is correctly specified.\n"
     ]
    }
   ],
   "source": [
    "# for debugging purposes I print the OLS results also\n",
    "_tmp_model = sm.OLS(y, X)\n",
    "_tmp_results = _tmp_model.fit()\n",
    "print(_tmp_results.summary())"
   ]
  },
  {
   "cell_type": "code",
   "execution_count": 37,
   "id": "0f31bccc-1d8b-4c8e-bad4-d809496389b2",
   "metadata": {},
   "outputs": [
    {
     "name": "stdout",
     "output_type": "stream",
     "text": [
      "-0.003281047962518868\n",
      "0.008589327735370812\n",
      "-0.3819912411779944\n",
      "0.702480465360728\n",
      "0.6487597673196361\n"
     ]
    }
   ],
   "source": [
    "# print full numbers\n",
    "with np.printoptions(threshold=sys.maxsize, precision=20):\n",
    "    print(_gls_results.params.to_numpy()[1])\n",
    "    print(_gls_results.bse.to_numpy()[1])\n",
    "    print(_gls_results.tvalues.to_numpy()[1])\n",
    "    print(_gls_results.pvalues.to_numpy()[1])\n",
    "    print(stats.t.sf(_gls_results.tvalues.to_numpy()[1], _gls_results.df_resid))"
   ]
  },
  {
   "cell_type": "code",
   "execution_count": 38,
   "id": "7004657e-0595-4b9c-9fa1-fa6a8ba564a5",
   "metadata": {},
   "outputs": [
    {
     "data": {
      "text/html": [
       "<div>\n",
       "<style scoped>\n",
       "    .dataframe tbody tr th:only-of-type {\n",
       "        vertical-align: middle;\n",
       "    }\n",
       "\n",
       "    .dataframe tbody tr th {\n",
       "        vertical-align: top;\n",
       "    }\n",
       "\n",
       "    .dataframe thead th {\n",
       "        text-align: right;\n",
       "    }\n",
       "</style>\n",
       "<table border=\"1\" class=\"dataframe\">\n",
       "  <thead>\n",
       "    <tr style=\"text-align: right;\">\n",
       "      <th></th>\n",
       "      <th>const</th>\n",
       "      <th>LV45</th>\n",
       "    </tr>\n",
       "  </thead>\n",
       "  <tbody>\n",
       "    <tr>\n",
       "      <th>HIST1H2BO</th>\n",
       "      <td>1.0</td>\n",
       "      <td>8.480948</td>\n",
       "    </tr>\n",
       "    <tr>\n",
       "      <th>HIST1H2BF</th>\n",
       "      <td>1.0</td>\n",
       "      <td>8.426226</td>\n",
       "    </tr>\n",
       "    <tr>\n",
       "      <th>HIST1H2BK</th>\n",
       "      <td>1.0</td>\n",
       "      <td>8.245903</td>\n",
       "    </tr>\n",
       "    <tr>\n",
       "      <th>HIST1H2BD</th>\n",
       "      <td>1.0</td>\n",
       "      <td>8.119013</td>\n",
       "    </tr>\n",
       "    <tr>\n",
       "      <th>HIST1H2BC</th>\n",
       "      <td>1.0</td>\n",
       "      <td>7.744137</td>\n",
       "    </tr>\n",
       "    <tr>\n",
       "      <th>...</th>\n",
       "      <td>...</td>\n",
       "      <td>...</td>\n",
       "    </tr>\n",
       "    <tr>\n",
       "      <th>TREM1</th>\n",
       "      <td>1.0</td>\n",
       "      <td>0.000000</td>\n",
       "    </tr>\n",
       "    <tr>\n",
       "      <th>TREML2</th>\n",
       "      <td>1.0</td>\n",
       "      <td>0.000000</td>\n",
       "    </tr>\n",
       "    <tr>\n",
       "      <th>TREM2</th>\n",
       "      <td>1.0</td>\n",
       "      <td>0.000000</td>\n",
       "    </tr>\n",
       "    <tr>\n",
       "      <th>NFYA</th>\n",
       "      <td>1.0</td>\n",
       "      <td>0.000000</td>\n",
       "    </tr>\n",
       "    <tr>\n",
       "      <th>SHANK3</th>\n",
       "      <td>1.0</td>\n",
       "      <td>0.000000</td>\n",
       "    </tr>\n",
       "  </tbody>\n",
       "</table>\n",
       "<p>6442 rows × 2 columns</p>\n",
       "</div>"
      ],
      "text/plain": [
       "           const      LV45\n",
       "HIST1H2BO    1.0  8.480948\n",
       "HIST1H2BF    1.0  8.426226\n",
       "HIST1H2BK    1.0  8.245903\n",
       "HIST1H2BD    1.0  8.119013\n",
       "HIST1H2BC    1.0  7.744137\n",
       "...          ...       ...\n",
       "TREM1        1.0  0.000000\n",
       "TREML2       1.0  0.000000\n",
       "TREM2        1.0  0.000000\n",
       "NFYA         1.0  0.000000\n",
       "SHANK3       1.0  0.000000\n",
       "\n",
       "[6442 rows x 2 columns]"
      ]
     },
     "execution_count": 38,
     "metadata": {},
     "output_type": "execute_result"
    }
   ],
   "source": [
    "X.sort_values(lv_code, ascending=False)"
   ]
  },
  {
   "cell_type": "code",
   "execution_count": 39,
   "id": "4ee8aaff-5e86-4a62-b2be-9dee462c0456",
   "metadata": {},
   "outputs": [
    {
     "data": {
      "text/html": [
       "<div>\n",
       "<style scoped>\n",
       "    .dataframe tbody tr th:only-of-type {\n",
       "        vertical-align: middle;\n",
       "    }\n",
       "\n",
       "    .dataframe tbody tr th {\n",
       "        vertical-align: top;\n",
       "    }\n",
       "\n",
       "    .dataframe thead th {\n",
       "        text-align: right;\n",
       "    }\n",
       "</style>\n",
       "<table border=\"1\" class=\"dataframe\">\n",
       "  <thead>\n",
       "    <tr style=\"text-align: right;\">\n",
       "      <th></th>\n",
       "      <th>const</th>\n",
       "      <th>LV45</th>\n",
       "    </tr>\n",
       "  </thead>\n",
       "  <tbody>\n",
       "    <tr>\n",
       "      <th>HIST1H2BO</th>\n",
       "      <td>1.0</td>\n",
       "      <td>27.865226</td>\n",
       "    </tr>\n",
       "    <tr>\n",
       "      <th>HIST1H2BF</th>\n",
       "      <td>1.0</td>\n",
       "      <td>27.685041</td>\n",
       "    </tr>\n",
       "    <tr>\n",
       "      <th>HIST1H2BK</th>\n",
       "      <td>1.0</td>\n",
       "      <td>27.091293</td>\n",
       "    </tr>\n",
       "    <tr>\n",
       "      <th>HIST1H2BD</th>\n",
       "      <td>1.0</td>\n",
       "      <td>26.673482</td>\n",
       "    </tr>\n",
       "    <tr>\n",
       "      <th>HIST1H2BC</th>\n",
       "      <td>1.0</td>\n",
       "      <td>25.439130</td>\n",
       "    </tr>\n",
       "    <tr>\n",
       "      <th>...</th>\n",
       "      <td>...</td>\n",
       "      <td>...</td>\n",
       "    </tr>\n",
       "    <tr>\n",
       "      <th>TREM1</th>\n",
       "      <td>1.0</td>\n",
       "      <td>-0.059957</td>\n",
       "    </tr>\n",
       "    <tr>\n",
       "      <th>TREML2</th>\n",
       "      <td>1.0</td>\n",
       "      <td>-0.059957</td>\n",
       "    </tr>\n",
       "    <tr>\n",
       "      <th>TREM2</th>\n",
       "      <td>1.0</td>\n",
       "      <td>-0.059957</td>\n",
       "    </tr>\n",
       "    <tr>\n",
       "      <th>NFYA</th>\n",
       "      <td>1.0</td>\n",
       "      <td>-0.059957</td>\n",
       "    </tr>\n",
       "    <tr>\n",
       "      <th>SHANK3</th>\n",
       "      <td>1.0</td>\n",
       "      <td>-0.059957</td>\n",
       "    </tr>\n",
       "  </tbody>\n",
       "</table>\n",
       "<p>6442 rows × 2 columns</p>\n",
       "</div>"
      ],
      "text/plain": [
       "           const       LV45\n",
       "HIST1H2BO    1.0  27.865226\n",
       "HIST1H2BF    1.0  27.685041\n",
       "HIST1H2BK    1.0  27.091293\n",
       "HIST1H2BD    1.0  26.673482\n",
       "HIST1H2BC    1.0  25.439130\n",
       "...          ...        ...\n",
       "TREM1        1.0  -0.059957\n",
       "TREML2       1.0  -0.059957\n",
       "TREM2        1.0  -0.059957\n",
       "NFYA         1.0  -0.059957\n",
       "SHANK3       1.0  -0.059957\n",
       "\n",
       "[6442 rows x 2 columns]"
      ]
     },
     "execution_count": 39,
     "metadata": {},
     "output_type": "execute_result"
    }
   ],
   "source": [
    "Xs.sort_values(lv_code, ascending=False)"
   ]
  },
  {
   "cell_type": "code",
   "execution_count": 40,
   "id": "390aa1f7-461f-4f79-897b-dc927c6cb45e",
   "metadata": {},
   "outputs": [
    {
     "data": {
      "text/plain": [
       "CHPF2     4.039680\n",
       "PRR5      3.726033\n",
       "MMP12     3.686147\n",
       "RBM38     3.581041\n",
       "SOS1      3.528183\n",
       "            ...   \n",
       "GPX3      0.000826\n",
       "SUOX      0.000686\n",
       "SPRED2    0.000364\n",
       "DEGS1     0.000152\n",
       "SAFB      0.000072\n",
       "Length: 6442, dtype: float64"
      ]
     },
     "execution_count": 40,
     "metadata": {},
     "output_type": "execute_result"
    }
   ],
   "source": [
    "y.sort_values(ascending=False)"
   ]
  },
  {
   "cell_type": "code",
   "execution_count": 41,
   "id": "3ffd3129-3261-41ad-a2a1-d59a2f8bb988",
   "metadata": {},
   "outputs": [
    {
     "data": {
      "text/plain": [
       "CHPF2     5.600117\n",
       "PRR5      5.063874\n",
       "MMP12     4.995681\n",
       "RBM38     4.815982\n",
       "SOS1      4.725610\n",
       "            ...   \n",
       "GPX3     -1.305113\n",
       "SUOX     -1.305353\n",
       "SPRED2   -1.305903\n",
       "DEGS1    -1.306266\n",
       "SAFB     -1.306403\n",
       "Length: 6442, dtype: float64"
      ]
     },
     "execution_count": 41,
     "metadata": {},
     "output_type": "execute_result"
    }
   ],
   "source": [
    "ys.sort_values(ascending=False)"
   ]
  },
  {
   "cell_type": "code",
   "execution_count": 42,
   "id": "964aa3fb-7e6b-4a30-a5b4-e3a7c65e39f3",
   "metadata": {},
   "outputs": [],
   "source": [
    "# save phenotype\n",
    "y.to_pickle(OUTPUT_DIR / f\"{phenotype_name}.pkl.xz\")"
   ]
  },
  {
   "cell_type": "markdown",
   "id": "65e3c753-bf07-47b9-9248-bbe2041a079b",
   "metadata": {},
   "source": [
    "## Random phenotype 6 / LV455"
   ]
  },
  {
   "cell_type": "code",
   "execution_count": 43,
   "id": "f8b2369f-9009-4ecd-ad10-c4c1f12d5d6f",
   "metadata": {},
   "outputs": [
    {
     "data": {
      "text/plain": [
       "'multixcan-random_phenotype6-pvalues'"
      ]
     },
     "metadata": {},
     "output_type": "display_data"
    }
   ],
   "source": [
    "lv_code = \"LV455\"\n",
    "phenotype_code = 6\n",
    "\n",
    "phenotype_name = f\"multixcan-random_phenotype{phenotype_code}-pvalues\"\n",
    "display(phenotype_name)"
   ]
  },
  {
   "cell_type": "code",
   "execution_count": 44,
   "id": "2bb07ce6-e81c-4244-bc2b-4114e30e9b5c",
   "metadata": {},
   "outputs": [],
   "source": [
    "X, y = get_data(lv_code, random_phenotype_code=phenotype_code)\n",
    "corr_mat = get_aligned_corr_mat(X, perc=PERC_NONZERO_GENES)\n",
    "\n",
    "Xs, ys = standardize_data(X, y)\n",
    "_gls_results = train_statsmodels_gls(Xs, ys, corr_mat)"
   ]
  },
  {
   "cell_type": "code",
   "execution_count": 45,
   "id": "37f4074f-d433-451f-96c4-be2e9676088d",
   "metadata": {},
   "outputs": [
    {
     "name": "stdout",
     "output_type": "stream",
     "text": [
      "                            GLS Regression Results                            \n",
      "==============================================================================\n",
      "Dep. Variable:                      y   R-squared:                       0.000\n",
      "Model:                            GLS   Adj. R-squared:                 -0.000\n",
      "Method:                 Least Squares   F-statistic:                   0.02003\n",
      "Date:                Mon, 25 Jul 2022   Prob (F-statistic):              0.887\n",
      "Time:                        15:43:18   Log-Likelihood:                -8695.5\n",
      "No. Observations:                6442   AIC:                         1.740e+04\n",
      "Df Residuals:                    6440   BIC:                         1.741e+04\n",
      "Df Model:                           1                                         \n",
      "Covariance Type:            nonrobust                                         \n",
      "==============================================================================\n",
      "                 coef    std err          t      P>|t|      [0.025      0.975]\n",
      "------------------------------------------------------------------------------\n",
      "const          0.0280      0.024      1.158      0.247      -0.019       0.075\n",
      "LV455          0.0016      0.011      0.142      0.887      -0.020       0.023\n",
      "==============================================================================\n",
      "Omnibus:                      926.068   Durbin-Watson:                   1.991\n",
      "Prob(Omnibus):                  0.000   Jarque-Bera (JB):             1527.251\n",
      "Skew:                           0.972   Prob(JB):                         0.00\n",
      "Kurtosis:                       4.382   Cond. No.                         2.19\n",
      "==============================================================================\n",
      "\n",
      "Notes:\n",
      "[1] Standard Errors assume that the covariance matrix of the errors is correctly specified.\n"
     ]
    }
   ],
   "source": [
    "print(_gls_results.summary())"
   ]
  },
  {
   "cell_type": "code",
   "execution_count": 46,
   "id": "162b2ae0-1a42-4945-b1f8-0756899d3b42",
   "metadata": {},
   "outputs": [
    {
     "name": "stdout",
     "output_type": "stream",
     "text": [
      "                            OLS Regression Results                            \n",
      "==============================================================================\n",
      "Dep. Variable:                      y   R-squared:                       0.000\n",
      "Model:                            OLS   Adj. R-squared:                 -0.000\n",
      "Method:                 Least Squares   F-statistic:                    0.2956\n",
      "Date:                Mon, 25 Jul 2022   Prob (F-statistic):              0.587\n",
      "Time:                        15:43:18   Log-Likelihood:                -5685.2\n",
      "No. Observations:                6442   AIC:                         1.137e+04\n",
      "Df Residuals:                    6440   BIC:                         1.139e+04\n",
      "Df Model:                           1                                         \n",
      "Covariance Type:            nonrobust                                         \n",
      "==============================================================================\n",
      "                 coef    std err          t      P>|t|      [0.025      0.975]\n",
      "------------------------------------------------------------------------------\n",
      "const          0.7639      0.007    104.494      0.000       0.750       0.778\n",
      "LV455          0.0199      0.037      0.544      0.587      -0.052       0.092\n",
      "==============================================================================\n",
      "Omnibus:                     1108.095   Durbin-Watson:                   1.629\n",
      "Prob(Omnibus):                  0.000   Jarque-Bera (JB):             1901.040\n",
      "Skew:                           1.122   Prob(JB):                         0.00\n",
      "Kurtosis:                       4.429   Cond. No.                         5.02\n",
      "==============================================================================\n",
      "\n",
      "Notes:\n",
      "[1] Standard Errors assume that the covariance matrix of the errors is correctly specified.\n"
     ]
    }
   ],
   "source": [
    "# for debugging purposes I print the OLS results also\n",
    "_tmp_model = sm.OLS(y, X)\n",
    "_tmp_results = _tmp_model.fit()\n",
    "print(_tmp_results.summary())"
   ]
  },
  {
   "cell_type": "code",
   "execution_count": 47,
   "id": "871885f1-7097-4998-904b-50fb16624d35",
   "metadata": {},
   "outputs": [
    {
     "name": "stdout",
     "output_type": "stream",
     "text": [
      "0.0015604132867500819\n",
      "0.011025668844737165\n",
      "0.14152549915326973\n",
      "0.8874592440993045\n",
      "0.4437296220496523\n"
     ]
    }
   ],
   "source": [
    "# print full numbers\n",
    "with np.printoptions(threshold=sys.maxsize, precision=20):\n",
    "    print(_gls_results.params.to_numpy()[1])\n",
    "    print(_gls_results.bse.to_numpy()[1])\n",
    "    print(_gls_results.tvalues.to_numpy()[1])\n",
    "    print(_gls_results.pvalues.to_numpy()[1])\n",
    "    print(stats.t.sf(_gls_results.tvalues.to_numpy()[1], _gls_results.df_resid))"
   ]
  },
  {
   "cell_type": "code",
   "execution_count": 48,
   "id": "f4da113e-7563-49e6-a76b-8c6ee7e8b1b8",
   "metadata": {},
   "outputs": [
    {
     "data": {
      "text/html": [
       "<div>\n",
       "<style scoped>\n",
       "    .dataframe tbody tr th:only-of-type {\n",
       "        vertical-align: middle;\n",
       "    }\n",
       "\n",
       "    .dataframe tbody tr th {\n",
       "        vertical-align: top;\n",
       "    }\n",
       "\n",
       "    .dataframe thead th {\n",
       "        text-align: right;\n",
       "    }\n",
       "</style>\n",
       "<table border=\"1\" class=\"dataframe\">\n",
       "  <thead>\n",
       "    <tr style=\"text-align: right;\">\n",
       "      <th></th>\n",
       "      <th>const</th>\n",
       "      <th>LV455</th>\n",
       "    </tr>\n",
       "  </thead>\n",
       "  <tbody>\n",
       "    <tr>\n",
       "      <th>CACNA1A</th>\n",
       "      <td>1.0</td>\n",
       "      <td>8.294351</td>\n",
       "    </tr>\n",
       "    <tr>\n",
       "      <th>ZNF26</th>\n",
       "      <td>1.0</td>\n",
       "      <td>7.956442</td>\n",
       "    </tr>\n",
       "    <tr>\n",
       "      <th>ARHGAP42</th>\n",
       "      <td>1.0</td>\n",
       "      <td>5.592084</td>\n",
       "    </tr>\n",
       "    <tr>\n",
       "      <th>UBE2B</th>\n",
       "      <td>1.0</td>\n",
       "      <td>5.379685</td>\n",
       "    </tr>\n",
       "    <tr>\n",
       "      <th>GAB2</th>\n",
       "      <td>1.0</td>\n",
       "      <td>3.946462</td>\n",
       "    </tr>\n",
       "    <tr>\n",
       "      <th>...</th>\n",
       "      <td>...</td>\n",
       "      <td>...</td>\n",
       "    </tr>\n",
       "    <tr>\n",
       "      <th>ZNF655</th>\n",
       "      <td>1.0</td>\n",
       "      <td>0.000000</td>\n",
       "    </tr>\n",
       "    <tr>\n",
       "      <th>ZKSCAN5</th>\n",
       "      <td>1.0</td>\n",
       "      <td>0.000000</td>\n",
       "    </tr>\n",
       "    <tr>\n",
       "      <th>ZNF394</th>\n",
       "      <td>1.0</td>\n",
       "      <td>0.000000</td>\n",
       "    </tr>\n",
       "    <tr>\n",
       "      <th>ATP5J2</th>\n",
       "      <td>1.0</td>\n",
       "      <td>0.000000</td>\n",
       "    </tr>\n",
       "    <tr>\n",
       "      <th>SHANK3</th>\n",
       "      <td>1.0</td>\n",
       "      <td>0.000000</td>\n",
       "    </tr>\n",
       "  </tbody>\n",
       "</table>\n",
       "<p>6442 rows × 2 columns</p>\n",
       "</div>"
      ],
      "text/plain": [
       "          const     LV455\n",
       "CACNA1A     1.0  8.294351\n",
       "ZNF26       1.0  7.956442\n",
       "ARHGAP42    1.0  5.592084\n",
       "UBE2B       1.0  5.379685\n",
       "GAB2        1.0  3.946462\n",
       "...         ...       ...\n",
       "ZNF655      1.0  0.000000\n",
       "ZKSCAN5     1.0  0.000000\n",
       "ZNF394      1.0  0.000000\n",
       "ATP5J2      1.0  0.000000\n",
       "SHANK3      1.0  0.000000\n",
       "\n",
       "[6442 rows x 2 columns]"
      ]
     },
     "execution_count": 48,
     "metadata": {},
     "output_type": "execute_result"
    }
   ],
   "source": [
    "X.sort_values(lv_code, ascending=False)"
   ]
  },
  {
   "cell_type": "code",
   "execution_count": 49,
   "id": "965dacd9-e83c-4919-9dbe-2cf6dc3778f2",
   "metadata": {},
   "outputs": [
    {
     "data": {
      "text/plain": [
       "CHPF2     4.039680\n",
       "PRR5      3.726033\n",
       "MMP12     3.686147\n",
       "RBM38     3.581041\n",
       "SOS1      3.528183\n",
       "            ...   \n",
       "GPX3      0.000826\n",
       "SUOX      0.000686\n",
       "SPRED2    0.000364\n",
       "DEGS1     0.000152\n",
       "SAFB      0.000072\n",
       "Length: 6442, dtype: float64"
      ]
     },
     "execution_count": 49,
     "metadata": {},
     "output_type": "execute_result"
    }
   ],
   "source": [
    "y.sort_values(ascending=False)"
   ]
  },
  {
   "cell_type": "code",
   "execution_count": 50,
   "id": "4e5e52d0-af7b-4b66-805e-576bbb6f7e13",
   "metadata": {},
   "outputs": [],
   "source": [
    "# save phenotype\n",
    "y.to_pickle(OUTPUT_DIR / f\"{phenotype_name}.pkl.xz\")"
   ]
  },
  {
   "cell_type": "markdown",
   "id": "ec4be667-0372-4c43-8d23-bb8915f4749b",
   "metadata": {},
   "source": [
    "## Random phenotype 0 / LV801"
   ]
  },
  {
   "cell_type": "code",
   "execution_count": 59,
   "id": "a387299e-ab0c-4425-b5e5-322fd01e8897",
   "metadata": {},
   "outputs": [
    {
     "data": {
      "text/plain": [
       "'multixcan-random_phenotype0-pvalues'"
      ]
     },
     "metadata": {},
     "output_type": "display_data"
    }
   ],
   "source": [
    "lv_code = \"LV801\"\n",
    "phenotype_code = 0\n",
    "\n",
    "phenotype_name = f\"multixcan-random_phenotype{phenotype_code}-pvalues\"\n",
    "display(phenotype_name)"
   ]
  },
  {
   "cell_type": "code",
   "execution_count": 60,
   "id": "0b39fa86-e789-4776-9810-aba34bc59c7d",
   "metadata": {},
   "outputs": [],
   "source": [
    "X, y = get_data(lv_code, random_phenotype_code=phenotype_code)\n",
    "corr_mat = get_aligned_corr_mat(X, perc=PERC_NONZERO_GENES)\n",
    "\n",
    "Xs, ys = standardize_data(X, y)\n",
    "_gls_results = train_statsmodels_gls(Xs, ys, corr_mat)"
   ]
  },
  {
   "cell_type": "code",
   "execution_count": 61,
   "id": "9275ada7-d0df-4b80-825e-9f0886089057",
   "metadata": {},
   "outputs": [
    {
     "name": "stdout",
     "output_type": "stream",
     "text": [
      "                            GLS Regression Results                            \n",
      "==============================================================================\n",
      "Dep. Variable:                      y   R-squared:                       0.000\n",
      "Model:                            GLS   Adj. R-squared:                 -0.000\n",
      "Method:                 Least Squares   F-statistic:                    0.5235\n",
      "Date:                Mon, 25 Jul 2022   Prob (F-statistic):              0.469\n",
      "Time:                        15:47:30   Log-Likelihood:                -8680.1\n",
      "No. Observations:                6442   AIC:                         1.736e+04\n",
      "Df Residuals:                    6440   BIC:                         1.738e+04\n",
      "Df Model:                           1                                         \n",
      "Covariance Type:            nonrobust                                         \n",
      "==============================================================================\n",
      "                 coef    std err          t      P>|t|      [0.025      0.975]\n",
      "------------------------------------------------------------------------------\n",
      "const         -0.0218      0.024     -0.905      0.366      -0.069       0.025\n",
      "LV801          0.0079      0.011      0.724      0.469      -0.014       0.029\n",
      "==============================================================================\n",
      "Omnibus:                     1357.128   Durbin-Watson:                   2.031\n",
      "Prob(Omnibus):                  0.000   Jarque-Bera (JB):             3555.862\n",
      "Skew:                           1.136   Prob(JB):                         0.00\n",
      "Kurtosis:                       5.844   Cond. No.                         2.20\n",
      "==============================================================================\n",
      "\n",
      "Notes:\n",
      "[1] Standard Errors assume that the covariance matrix of the errors is correctly specified.\n"
     ]
    }
   ],
   "source": [
    "print(_gls_results.summary())"
   ]
  },
  {
   "cell_type": "code",
   "execution_count": 62,
   "id": "83d6698e-ccd5-48ca-a3e8-9e9b049e0d79",
   "metadata": {},
   "outputs": [
    {
     "name": "stdout",
     "output_type": "stream",
     "text": [
      "                            OLS Regression Results                            \n",
      "==============================================================================\n",
      "Dep. Variable:                      y   R-squared:                       0.000\n",
      "Model:                            OLS   Adj. R-squared:                  0.000\n",
      "Method:                 Least Squares   F-statistic:                     2.082\n",
      "Date:                Mon, 25 Jul 2022   Prob (F-statistic):              0.149\n",
      "Time:                        15:47:50   Log-Likelihood:                -5887.0\n",
      "No. Observations:                6442   AIC:                         1.178e+04\n",
      "Df Residuals:                    6440   BIC:                         1.179e+04\n",
      "Df Model:                           1                                         \n",
      "Covariance Type:            nonrobust                                         \n",
      "==============================================================================\n",
      "                 coef    std err          t      P>|t|      [0.025      0.975]\n",
      "------------------------------------------------------------------------------\n",
      "const          0.7704      0.008    101.372      0.000       0.755       0.785\n",
      "LV801          0.0637      0.044      1.443      0.149      -0.023       0.150\n",
      "==============================================================================\n",
      "Omnibus:                     1070.380   Durbin-Watson:                   1.618\n",
      "Prob(Omnibus):                  0.000   Jarque-Bera (JB):             1780.492\n",
      "Skew:                           1.108   Prob(JB):                         0.00\n",
      "Kurtosis:                       4.314   Cond. No.                         5.87\n",
      "==============================================================================\n",
      "\n",
      "Notes:\n",
      "[1] Standard Errors assume that the covariance matrix of the errors is correctly specified.\n"
     ]
    }
   ],
   "source": [
    "# for debugging purposes I print the OLS results also\n",
    "_tmp_model = sm.OLS(y, X)\n",
    "_tmp_results = _tmp_model.fit()\n",
    "print(_tmp_results.summary())"
   ]
  },
  {
   "cell_type": "code",
   "execution_count": 63,
   "id": "c0dc22fd-358c-4c41-881a-cd6fa38e68ef",
   "metadata": {},
   "outputs": [
    {
     "name": "stdout",
     "output_type": "stream",
     "text": [
      "0.007927779814996835\n",
      "0.010957049553795768\n",
      "0.7235323502074036\n",
      "0.4693791652354944\n",
      "0.2346895826177472\n"
     ]
    }
   ],
   "source": [
    "# print full numbers\n",
    "with np.printoptions(threshold=sys.maxsize, precision=20):\n",
    "    print(_gls_results.params.to_numpy()[1])\n",
    "    print(_gls_results.bse.to_numpy()[1])\n",
    "    print(_gls_results.tvalues.to_numpy()[1])\n",
    "    print(_gls_results.pvalues.to_numpy()[1])\n",
    "    print(stats.t.sf(_gls_results.tvalues.to_numpy()[1], _gls_results.df_resid))"
   ]
  },
  {
   "cell_type": "code",
   "execution_count": 64,
   "id": "38f466f2-9178-4557-b6e2-f5326fd8dee9",
   "metadata": {},
   "outputs": [
    {
     "data": {
      "text/html": [
       "<div>\n",
       "<style scoped>\n",
       "    .dataframe tbody tr th:only-of-type {\n",
       "        vertical-align: middle;\n",
       "    }\n",
       "\n",
       "    .dataframe tbody tr th {\n",
       "        vertical-align: top;\n",
       "    }\n",
       "\n",
       "    .dataframe thead th {\n",
       "        text-align: right;\n",
       "    }\n",
       "</style>\n",
       "<table border=\"1\" class=\"dataframe\">\n",
       "  <thead>\n",
       "    <tr style=\"text-align: right;\">\n",
       "      <th></th>\n",
       "      <th>const</th>\n",
       "      <th>LV801</th>\n",
       "    </tr>\n",
       "  </thead>\n",
       "  <tbody>\n",
       "    <tr>\n",
       "      <th>SPATS2</th>\n",
       "      <td>1.0</td>\n",
       "      <td>7.137544</td>\n",
       "    </tr>\n",
       "    <tr>\n",
       "      <th>SSR3</th>\n",
       "      <td>1.0</td>\n",
       "      <td>6.096376</td>\n",
       "    </tr>\n",
       "    <tr>\n",
       "      <th>H3F3C</th>\n",
       "      <td>1.0</td>\n",
       "      <td>4.471034</td>\n",
       "    </tr>\n",
       "    <tr>\n",
       "      <th>COLEC12</th>\n",
       "      <td>1.0</td>\n",
       "      <td>4.057876</td>\n",
       "    </tr>\n",
       "    <tr>\n",
       "      <th>AP4M1</th>\n",
       "      <td>1.0</td>\n",
       "      <td>2.904084</td>\n",
       "    </tr>\n",
       "  </tbody>\n",
       "</table>\n",
       "</div>"
      ],
      "text/plain": [
       "         const     LV801\n",
       "SPATS2     1.0  7.137544\n",
       "SSR3       1.0  6.096376\n",
       "H3F3C      1.0  4.471034\n",
       "COLEC12    1.0  4.057876\n",
       "AP4M1      1.0  2.904084"
      ]
     },
     "execution_count": 64,
     "metadata": {},
     "output_type": "execute_result"
    }
   ],
   "source": [
    "X.sort_values(lv_code, ascending=False).head()"
   ]
  },
  {
   "cell_type": "code",
   "execution_count": 65,
   "id": "6f387e1b-ade6-43ee-9d5a-91df455ae15d",
   "metadata": {},
   "outputs": [
    {
     "data": {
      "text/plain": [
       "GPATCH1    3.951082\n",
       "NFKBIA     3.900707\n",
       "TTC5       3.870256\n",
       "ZNF17      3.807992\n",
       "ZNF563     3.747230\n",
       "dtype: float64"
      ]
     },
     "execution_count": 65,
     "metadata": {},
     "output_type": "execute_result"
    }
   ],
   "source": [
    "y.sort_values(ascending=False).head()"
   ]
  },
  {
   "cell_type": "code",
   "execution_count": 66,
   "id": "7016bfd2-f27b-41f6-9ffc-27135bb2f1ce",
   "metadata": {},
   "outputs": [],
   "source": [
    "# save phenotype\n",
    "y.to_pickle(OUTPUT_DIR / f\"{phenotype_name}.pkl.xz\")"
   ]
  },
  {
   "cell_type": "markdown",
   "id": "c61d3662-1ac7-4bb5-989d-5fe3708d7bae",
   "metadata": {
    "papermill": {
     "duration": 0.012899,
     "end_time": "2022-07-11T13:23:15.569947",
     "exception": false,
     "start_time": "2022-07-11T13:23:15.557048",
     "status": "completed"
    },
    "tags": []
   },
   "source": [
    "# [sub corr matrix ] GLS on randomly generated phenotypes"
   ]
  },
  {
   "cell_type": "code",
   "execution_count": 67,
   "id": "e891f483-ce8d-4d9d-8aeb-4f251837812f",
   "metadata": {},
   "outputs": [],
   "source": [
    "PERC_NONZERO_GENES = 1.00"
   ]
  },
  {
   "cell_type": "markdown",
   "id": "8e89a38f-3586-43c6-a9e9-7f0364ae12c9",
   "metadata": {},
   "source": [
    "## Random phenotype 6 / LV45"
   ]
  },
  {
   "cell_type": "code",
   "execution_count": 68,
   "id": "331460e1-4722-4579-8dca-3cd337424bca",
   "metadata": {},
   "outputs": [
    {
     "data": {
      "text/plain": [
       "'multixcan-random_phenotype6-pvalues'"
      ]
     },
     "metadata": {},
     "output_type": "display_data"
    }
   ],
   "source": [
    "lv_code = \"LV45\"\n",
    "phenotype_code = 6\n",
    "\n",
    "phenotype_name = f\"multixcan-random_phenotype{phenotype_code}-pvalues\"\n",
    "display(phenotype_name)"
   ]
  },
  {
   "cell_type": "code",
   "execution_count": 69,
   "id": "d3e8b704-0d0f-4720-a98f-525b0c2bb300",
   "metadata": {},
   "outputs": [],
   "source": [
    "X, y = get_data(lv_code, random_phenotype_code=phenotype_code)\n",
    "corr_mat = get_aligned_corr_mat(X, perc=PERC_NONZERO_GENES)\n",
    "\n",
    "Xs, ys = standardize_data(X, y)\n",
    "_gls_results = train_statsmodels_gls(Xs, ys, corr_mat)"
   ]
  },
  {
   "cell_type": "code",
   "execution_count": 70,
   "id": "f8795e2d-1f9c-4320-8a47-50d60c97bfe4",
   "metadata": {},
   "outputs": [
    {
     "name": "stdout",
     "output_type": "stream",
     "text": [
      "                            GLS Regression Results                            \n",
      "==============================================================================\n",
      "Dep. Variable:                      y   R-squared:                       0.000\n",
      "Model:                            GLS   Adj. R-squared:                 -0.000\n",
      "Method:                 Least Squares   F-statistic:                    0.5651\n",
      "Date:                Mon, 25 Jul 2022   Prob (F-statistic):              0.452\n",
      "Time:                        15:53:29   Log-Likelihood:                -9137.9\n",
      "No. Observations:                6442   AIC:                         1.828e+04\n",
      "Df Residuals:                    6440   BIC:                         1.829e+04\n",
      "Df Model:                           1                                         \n",
      "Covariance Type:            nonrobust                                         \n",
      "==============================================================================\n",
      "                 coef    std err          t      P>|t|      [0.025      0.975]\n",
      "------------------------------------------------------------------------------\n",
      "const          0.0003      0.013      0.027      0.979      -0.024       0.025\n",
      "LV45          -0.0078      0.010     -0.752      0.452      -0.028       0.012\n",
      "==============================================================================\n",
      "Omnibus:                     1099.557   Durbin-Watson:                   1.637\n",
      "Prob(Omnibus):                  0.000   Jarque-Bera (JB):             1881.408\n",
      "Skew:                           1.116   Prob(JB):                         0.00\n",
      "Kurtosis:                       4.424   Cond. No.                         1.22\n",
      "==============================================================================\n",
      "\n",
      "Notes:\n",
      "[1] Standard Errors assume that the covariance matrix of the errors is correctly specified.\n"
     ]
    }
   ],
   "source": [
    "print(_gls_results.summary())"
   ]
  },
  {
   "cell_type": "code",
   "execution_count": 71,
   "id": "bc89908f-8536-4289-b95f-189e2800395d",
   "metadata": {},
   "outputs": [
    {
     "name": "stdout",
     "output_type": "stream",
     "text": [
      "                            OLS Regression Results                            \n",
      "==============================================================================\n",
      "Dep. Variable:                      y   R-squared:                       0.001\n",
      "Model:                            OLS   Adj. R-squared:                  0.000\n",
      "Method:                 Least Squares   F-statistic:                     3.429\n",
      "Date:                Mon, 25 Jul 2022   Prob (F-statistic):             0.0641\n",
      "Time:                        15:53:55   Log-Likelihood:                -5683.6\n",
      "No. Observations:                6442   AIC:                         1.137e+04\n",
      "Df Residuals:                    6440   BIC:                         1.138e+04\n",
      "Df Model:                           1                                         \n",
      "Covariance Type:            nonrobust                                         \n",
      "==============================================================================\n",
      "                 coef    std err          t      P>|t|      [0.025      0.975]\n",
      "------------------------------------------------------------------------------\n",
      "const          0.7650      0.007    104.807      0.000       0.751       0.779\n",
      "LV45          -0.0444      0.024     -1.852      0.064      -0.091       0.003\n",
      "==============================================================================\n",
      "Omnibus:                     1105.575   Durbin-Watson:                   1.630\n",
      "Prob(Omnibus):                  0.000   Jarque-Bera (JB):             1894.745\n",
      "Skew:                           1.121   Prob(JB):                         0.00\n",
      "Kurtosis:                       4.427   Cond. No.                         3.29\n",
      "==============================================================================\n",
      "\n",
      "Notes:\n",
      "[1] Standard Errors assume that the covariance matrix of the errors is correctly specified.\n"
     ]
    }
   ],
   "source": [
    "# for debugging purposes I print the OLS results also\n",
    "_tmp_model = sm.OLS(y, X)\n",
    "_tmp_results = _tmp_model.fit()\n",
    "print(_tmp_results.summary())"
   ]
  },
  {
   "cell_type": "code",
   "execution_count": 72,
   "id": "c1597a73-4851-4dc9-a33d-a65d5a3ed9a7",
   "metadata": {},
   "outputs": [
    {
     "name": "stdout",
     "output_type": "stream",
     "text": [
      "-0.007758262616074735\n",
      "0.010320432763493127\n",
      "-0.7517381096186531\n",
      "0.45223603891122643\n",
      "0.7738819805443868\n"
     ]
    }
   ],
   "source": [
    "# print full numbers\n",
    "with np.printoptions(threshold=sys.maxsize, precision=20):\n",
    "    print(_gls_results.params.to_numpy()[1])\n",
    "    print(_gls_results.bse.to_numpy()[1])\n",
    "    print(_gls_results.tvalues.to_numpy()[1])\n",
    "    print(_gls_results.pvalues.to_numpy()[1])\n",
    "    print(stats.t.sf(_gls_results.tvalues.to_numpy()[1], _gls_results.df_resid))"
   ]
  },
  {
   "cell_type": "code",
   "execution_count": 73,
   "id": "13160101-6f98-4eed-b99c-1234fff84d17",
   "metadata": {},
   "outputs": [
    {
     "data": {
      "text/html": [
       "<div>\n",
       "<style scoped>\n",
       "    .dataframe tbody tr th:only-of-type {\n",
       "        vertical-align: middle;\n",
       "    }\n",
       "\n",
       "    .dataframe tbody tr th {\n",
       "        vertical-align: top;\n",
       "    }\n",
       "\n",
       "    .dataframe thead th {\n",
       "        text-align: right;\n",
       "    }\n",
       "</style>\n",
       "<table border=\"1\" class=\"dataframe\">\n",
       "  <thead>\n",
       "    <tr style=\"text-align: right;\">\n",
       "      <th></th>\n",
       "      <th>const</th>\n",
       "      <th>LV45</th>\n",
       "    </tr>\n",
       "  </thead>\n",
       "  <tbody>\n",
       "    <tr>\n",
       "      <th>HIST1H2BO</th>\n",
       "      <td>1.0</td>\n",
       "      <td>8.480948</td>\n",
       "    </tr>\n",
       "    <tr>\n",
       "      <th>HIST1H2BF</th>\n",
       "      <td>1.0</td>\n",
       "      <td>8.426226</td>\n",
       "    </tr>\n",
       "    <tr>\n",
       "      <th>HIST1H2BK</th>\n",
       "      <td>1.0</td>\n",
       "      <td>8.245903</td>\n",
       "    </tr>\n",
       "    <tr>\n",
       "      <th>HIST1H2BD</th>\n",
       "      <td>1.0</td>\n",
       "      <td>8.119013</td>\n",
       "    </tr>\n",
       "    <tr>\n",
       "      <th>HIST1H2BC</th>\n",
       "      <td>1.0</td>\n",
       "      <td>7.744137</td>\n",
       "    </tr>\n",
       "  </tbody>\n",
       "</table>\n",
       "</div>"
      ],
      "text/plain": [
       "           const      LV45\n",
       "HIST1H2BO    1.0  8.480948\n",
       "HIST1H2BF    1.0  8.426226\n",
       "HIST1H2BK    1.0  8.245903\n",
       "HIST1H2BD    1.0  8.119013\n",
       "HIST1H2BC    1.0  7.744137"
      ]
     },
     "execution_count": 73,
     "metadata": {},
     "output_type": "execute_result"
    }
   ],
   "source": [
    "X.sort_values(lv_code, ascending=False).head()"
   ]
  },
  {
   "cell_type": "code",
   "execution_count": 74,
   "id": "c1b3c9d9-be48-43eb-8373-980d8411c49b",
   "metadata": {},
   "outputs": [
    {
     "data": {
      "text/plain": [
       "CHPF2    4.039680\n",
       "PRR5     3.726033\n",
       "MMP12    3.686147\n",
       "RBM38    3.581041\n",
       "SOS1     3.528183\n",
       "dtype: float64"
      ]
     },
     "execution_count": 74,
     "metadata": {},
     "output_type": "execute_result"
    }
   ],
   "source": [
    "y.sort_values(ascending=False).head()"
   ]
  },
  {
   "cell_type": "code",
   "execution_count": 75,
   "id": "30428b4b-31ef-4ca5-aeb4-3e3ccbc9df38",
   "metadata": {},
   "outputs": [],
   "source": [
    "# save phenotype\n",
    "y.to_pickle(OUTPUT_DIR / f\"{phenotype_name}.pkl.xz\")"
   ]
  },
  {
   "cell_type": "markdown",
   "id": "9da1adf4-9f0c-4845-9658-6dc75f85d97c",
   "metadata": {},
   "source": [
    "## Random phenotype 6 / LV455"
   ]
  },
  {
   "cell_type": "code",
   "execution_count": 76,
   "id": "fea22baf-7f44-48c4-bddc-14325ddb1f99",
   "metadata": {},
   "outputs": [
    {
     "data": {
      "text/plain": [
       "'multixcan-random_phenotype6-pvalues'"
      ]
     },
     "metadata": {},
     "output_type": "display_data"
    }
   ],
   "source": [
    "lv_code = \"LV455\"\n",
    "phenotype_code = 6\n",
    "\n",
    "phenotype_name = f\"multixcan-random_phenotype{phenotype_code}-pvalues\"\n",
    "display(phenotype_name)"
   ]
  },
  {
   "cell_type": "code",
   "execution_count": 77,
   "id": "f0b2b9de-0055-4120-99ef-85299bea5535",
   "metadata": {},
   "outputs": [],
   "source": [
    "X, y = get_data(lv_code, random_phenotype_code=phenotype_code)\n",
    "corr_mat = get_aligned_corr_mat(X, perc=PERC_NONZERO_GENES)\n",
    "\n",
    "Xs, ys = standardize_data(X, y)\n",
    "_gls_results = train_statsmodels_gls(Xs, ys, corr_mat)"
   ]
  },
  {
   "cell_type": "code",
   "execution_count": 78,
   "id": "f055e9c5-1f98-428c-9408-d7a7763f5436",
   "metadata": {},
   "outputs": [
    {
     "name": "stdout",
     "output_type": "stream",
     "text": [
      "                            GLS Regression Results                            \n",
      "==============================================================================\n",
      "Dep. Variable:                      y   R-squared:                       0.000\n",
      "Model:                            GLS   Adj. R-squared:                 -0.000\n",
      "Method:                 Least Squares   F-statistic:                    0.2917\n",
      "Date:                Mon, 25 Jul 2022   Prob (F-statistic):              0.589\n",
      "Time:                        15:56:28   Log-Likelihood:                -9088.5\n",
      "No. Observations:                6442   AIC:                         1.818e+04\n",
      "Df Residuals:                    6440   BIC:                         1.819e+04\n",
      "Df Model:                           1                                         \n",
      "Covariance Type:            nonrobust                                         \n",
      "==============================================================================\n",
      "                 coef    std err          t      P>|t|      [0.025      0.975]\n",
      "------------------------------------------------------------------------------\n",
      "const          0.0047      0.014      0.336      0.737      -0.022       0.032\n",
      "LV455          0.0063      0.012      0.540      0.589      -0.017       0.029\n",
      "==============================================================================\n",
      "Omnibus:                     1070.359   Durbin-Watson:                   1.692\n",
      "Prob(Omnibus):                  0.000   Jarque-Bera (JB):             1804.733\n",
      "Skew:                           1.097   Prob(JB):                         0.00\n",
      "Kurtosis:                       4.381   Cond. No.                         1.19\n",
      "==============================================================================\n",
      "\n",
      "Notes:\n",
      "[1] Standard Errors assume that the covariance matrix of the errors is correctly specified.\n"
     ]
    }
   ],
   "source": [
    "print(_gls_results.summary())"
   ]
  },
  {
   "cell_type": "code",
   "execution_count": 79,
   "id": "4368bbca-0ca9-4e76-bfc6-080f42825715",
   "metadata": {},
   "outputs": [
    {
     "name": "stdout",
     "output_type": "stream",
     "text": [
      "                            OLS Regression Results                            \n",
      "==============================================================================\n",
      "Dep. Variable:                      y   R-squared:                       0.000\n",
      "Model:                            OLS   Adj. R-squared:                 -0.000\n",
      "Method:                 Least Squares   F-statistic:                    0.2956\n",
      "Date:                Mon, 25 Jul 2022   Prob (F-statistic):              0.587\n",
      "Time:                        15:56:43   Log-Likelihood:                -5685.2\n",
      "No. Observations:                6442   AIC:                         1.137e+04\n",
      "Df Residuals:                    6440   BIC:                         1.139e+04\n",
      "Df Model:                           1                                         \n",
      "Covariance Type:            nonrobust                                         \n",
      "==============================================================================\n",
      "                 coef    std err          t      P>|t|      [0.025      0.975]\n",
      "------------------------------------------------------------------------------\n",
      "const          0.7639      0.007    104.494      0.000       0.750       0.778\n",
      "LV455          0.0199      0.037      0.544      0.587      -0.052       0.092\n",
      "==============================================================================\n",
      "Omnibus:                     1108.095   Durbin-Watson:                   1.629\n",
      "Prob(Omnibus):                  0.000   Jarque-Bera (JB):             1901.040\n",
      "Skew:                           1.122   Prob(JB):                         0.00\n",
      "Kurtosis:                       4.429   Cond. No.                         5.02\n",
      "==============================================================================\n",
      "\n",
      "Notes:\n",
      "[1] Standard Errors assume that the covariance matrix of the errors is correctly specified.\n"
     ]
    }
   ],
   "source": [
    "# for debugging purposes I print the OLS results also\n",
    "_tmp_model = sm.OLS(y, X)\n",
    "_tmp_results = _tmp_model.fit()\n",
    "print(_tmp_results.summary())"
   ]
  },
  {
   "cell_type": "code",
   "execution_count": 80,
   "id": "b6e6eb98-9488-4c66-b768-22f0bee10788",
   "metadata": {},
   "outputs": [
    {
     "name": "stdout",
     "output_type": "stream",
     "text": [
      "0.006302906163160309\n",
      "0.011669857436439947\n",
      "0.5401013849131561\n",
      "0.5891457914757958\n",
      "0.2945728957378979\n"
     ]
    }
   ],
   "source": [
    "# print full numbers\n",
    "with np.printoptions(threshold=sys.maxsize, precision=20):\n",
    "    print(_gls_results.params.to_numpy()[1])\n",
    "    print(_gls_results.bse.to_numpy()[1])\n",
    "    print(_gls_results.tvalues.to_numpy()[1])\n",
    "    print(_gls_results.pvalues.to_numpy()[1])\n",
    "    print(stats.t.sf(_gls_results.tvalues.to_numpy()[1], _gls_results.df_resid))"
   ]
  },
  {
   "cell_type": "code",
   "execution_count": 81,
   "id": "153c3fb2-9cfe-4a28-a072-043dced8011c",
   "metadata": {},
   "outputs": [
    {
     "data": {
      "text/html": [
       "<div>\n",
       "<style scoped>\n",
       "    .dataframe tbody tr th:only-of-type {\n",
       "        vertical-align: middle;\n",
       "    }\n",
       "\n",
       "    .dataframe tbody tr th {\n",
       "        vertical-align: top;\n",
       "    }\n",
       "\n",
       "    .dataframe thead th {\n",
       "        text-align: right;\n",
       "    }\n",
       "</style>\n",
       "<table border=\"1\" class=\"dataframe\">\n",
       "  <thead>\n",
       "    <tr style=\"text-align: right;\">\n",
       "      <th></th>\n",
       "      <th>const</th>\n",
       "      <th>LV455</th>\n",
       "    </tr>\n",
       "  </thead>\n",
       "  <tbody>\n",
       "    <tr>\n",
       "      <th>CACNA1A</th>\n",
       "      <td>1.0</td>\n",
       "      <td>8.294351</td>\n",
       "    </tr>\n",
       "    <tr>\n",
       "      <th>ZNF26</th>\n",
       "      <td>1.0</td>\n",
       "      <td>7.956442</td>\n",
       "    </tr>\n",
       "    <tr>\n",
       "      <th>ARHGAP42</th>\n",
       "      <td>1.0</td>\n",
       "      <td>5.592084</td>\n",
       "    </tr>\n",
       "    <tr>\n",
       "      <th>UBE2B</th>\n",
       "      <td>1.0</td>\n",
       "      <td>5.379685</td>\n",
       "    </tr>\n",
       "    <tr>\n",
       "      <th>GAB2</th>\n",
       "      <td>1.0</td>\n",
       "      <td>3.946462</td>\n",
       "    </tr>\n",
       "  </tbody>\n",
       "</table>\n",
       "</div>"
      ],
      "text/plain": [
       "          const     LV455\n",
       "CACNA1A     1.0  8.294351\n",
       "ZNF26       1.0  7.956442\n",
       "ARHGAP42    1.0  5.592084\n",
       "UBE2B       1.0  5.379685\n",
       "GAB2        1.0  3.946462"
      ]
     },
     "execution_count": 81,
     "metadata": {},
     "output_type": "execute_result"
    }
   ],
   "source": [
    "X.sort_values(lv_code, ascending=False).head()"
   ]
  },
  {
   "cell_type": "code",
   "execution_count": 82,
   "id": "f6de590c-5176-4949-9dc6-b79a00cbde8a",
   "metadata": {},
   "outputs": [
    {
     "data": {
      "text/plain": [
       "CHPF2    4.039680\n",
       "PRR5     3.726033\n",
       "MMP12    3.686147\n",
       "RBM38    3.581041\n",
       "SOS1     3.528183\n",
       "dtype: float64"
      ]
     },
     "execution_count": 82,
     "metadata": {},
     "output_type": "execute_result"
    }
   ],
   "source": [
    "y.sort_values(ascending=False).head()"
   ]
  },
  {
   "cell_type": "code",
   "execution_count": 83,
   "id": "250edaa3-e519-48b8-bd9b-63dd703c18dd",
   "metadata": {},
   "outputs": [],
   "source": [
    "# save phenotype\n",
    "y.to_pickle(OUTPUT_DIR / f\"{phenotype_name}.pkl.xz\")"
   ]
  },
  {
   "cell_type": "markdown",
   "id": "2ffb8be9-1756-4fba-92c7-5615e9452ac7",
   "metadata": {},
   "source": [
    "## Random phenotype 10 / LV100"
   ]
  },
  {
   "cell_type": "code",
   "execution_count": 84,
   "id": "88607958-3e35-4ba8-a481-658e17a57364",
   "metadata": {},
   "outputs": [
    {
     "data": {
      "text/plain": [
       "'multixcan-random_phenotype10-pvalues'"
      ]
     },
     "metadata": {},
     "output_type": "display_data"
    }
   ],
   "source": [
    "lv_code = \"LV100\"\n",
    "phenotype_code = 10\n",
    "\n",
    "phenotype_name = f\"multixcan-random_phenotype{phenotype_code}-pvalues\"\n",
    "display(phenotype_name)"
   ]
  },
  {
   "cell_type": "code",
   "execution_count": 85,
   "id": "46b748b9-4449-407d-bff5-e542335b52be",
   "metadata": {},
   "outputs": [],
   "source": [
    "X, y = get_data(lv_code, random_phenotype_code=phenotype_code)\n",
    "corr_mat = get_aligned_corr_mat(X, perc=PERC_NONZERO_GENES)\n",
    "\n",
    "Xs, ys = standardize_data(X, y)\n",
    "_gls_results = train_statsmodels_gls(Xs, ys, corr_mat)"
   ]
  },
  {
   "cell_type": "code",
   "execution_count": 86,
   "id": "a04b410a-6c1f-447b-b7a6-5b35352835fa",
   "metadata": {},
   "outputs": [
    {
     "name": "stdout",
     "output_type": "stream",
     "text": [
      "                            GLS Regression Results                            \n",
      "==============================================================================\n",
      "Dep. Variable:                      y   R-squared:                       0.000\n",
      "Model:                            GLS   Adj. R-squared:                 -0.000\n",
      "Method:                 Least Squares   F-statistic:                  0.009376\n",
      "Date:                Mon, 25 Jul 2022   Prob (F-statistic):              0.923\n",
      "Time:                        15:58:34   Log-Likelihood:                -8978.3\n",
      "No. Observations:                6442   AIC:                         1.796e+04\n",
      "Df Residuals:                    6440   BIC:                         1.797e+04\n",
      "Df Model:                           1                                         \n",
      "Covariance Type:            nonrobust                                         \n",
      "==============================================================================\n",
      "                 coef    std err          t      P>|t|      [0.025      0.975]\n",
      "------------------------------------------------------------------------------\n",
      "const          0.0153      0.015      0.999      0.318      -0.015       0.045\n",
      "LV100          0.0004      0.004      0.097      0.923      -0.008       0.009\n",
      "==============================================================================\n",
      "Omnibus:                      912.784   Durbin-Watson:                   1.719\n",
      "Prob(Omnibus):                  0.000   Jarque-Bera (JB):             1388.484\n",
      "Skew:                           1.016   Prob(JB):                    3.12e-302\n",
      "Kurtosis:                       4.020   Cond. No.                         3.68\n",
      "==============================================================================\n",
      "\n",
      "Notes:\n",
      "[1] Standard Errors assume that the covariance matrix of the errors is correctly specified.\n"
     ]
    }
   ],
   "source": [
    "print(_gls_results.summary())"
   ]
  },
  {
   "cell_type": "code",
   "execution_count": 87,
   "id": "39f3a002-a989-4084-94c2-b8b5add1763b",
   "metadata": {},
   "outputs": [
    {
     "name": "stdout",
     "output_type": "stream",
     "text": [
      "                            OLS Regression Results                            \n",
      "==============================================================================\n",
      "Dep. Variable:                      y   R-squared:                       0.000\n",
      "Model:                            OLS   Adj. R-squared:                 -0.000\n",
      "Method:                 Least Squares   F-statistic:                    0.5978\n",
      "Date:                Mon, 25 Jul 2022   Prob (F-statistic):              0.439\n",
      "Time:                        15:58:40   Log-Likelihood:                -5800.3\n",
      "No. Observations:                6442   AIC:                         1.160e+04\n",
      "Df Residuals:                    6440   BIC:                         1.162e+04\n",
      "Df Model:                           1                                         \n",
      "Covariance Type:            nonrobust                                         \n",
      "==============================================================================\n",
      "                 coef    std err          t      P>|t|      [0.025      0.975]\n",
      "------------------------------------------------------------------------------\n",
      "const          0.7726      0.008    102.837      0.000       0.758       0.787\n",
      "LV100         -0.0304      0.039     -0.773      0.439      -0.107       0.047\n",
      "==============================================================================\n",
      "Omnibus:                      944.089   Durbin-Watson:                   1.589\n",
      "Prob(Omnibus):                  0.000   Jarque-Bera (JB):             1443.354\n",
      "Skew:                           1.047   Prob(JB):                         0.00\n",
      "Kurtosis:                       3.994   Cond. No.                         5.30\n",
      "==============================================================================\n",
      "\n",
      "Notes:\n",
      "[1] Standard Errors assume that the covariance matrix of the errors is correctly specified.\n"
     ]
    }
   ],
   "source": [
    "# for debugging purposes I print the OLS results also\n",
    "_tmp_model = sm.OLS(y, X)\n",
    "_tmp_results = _tmp_model.fit()\n",
    "print(_tmp_results.summary())"
   ]
  },
  {
   "cell_type": "code",
   "execution_count": 88,
   "id": "f081badb-7feb-4aee-9ad7-210442a6bc4a",
   "metadata": {},
   "outputs": [
    {
     "name": "stdout",
     "output_type": "stream",
     "text": [
      "0.0004030553781634736\n",
      "0.004162484428442315\n",
      "0.0968304831146972\n",
      "0.9228640287589255\n",
      "0.46143201437946274\n"
     ]
    }
   ],
   "source": [
    "# print full numbers\n",
    "with np.printoptions(threshold=sys.maxsize, precision=20):\n",
    "    print(_gls_results.params.to_numpy()[1])\n",
    "    print(_gls_results.bse.to_numpy()[1])\n",
    "    print(_gls_results.tvalues.to_numpy()[1])\n",
    "    print(_gls_results.pvalues.to_numpy()[1])\n",
    "    print(stats.t.sf(_gls_results.tvalues.to_numpy()[1], _gls_results.df_resid))"
   ]
  },
  {
   "cell_type": "code",
   "execution_count": 89,
   "id": "00fd1d8b-655f-4e5a-9589-c0dc77ddcbaf",
   "metadata": {},
   "outputs": [
    {
     "data": {
      "text/html": [
       "<div>\n",
       "<style scoped>\n",
       "    .dataframe tbody tr th:only-of-type {\n",
       "        vertical-align: middle;\n",
       "    }\n",
       "\n",
       "    .dataframe tbody tr th {\n",
       "        vertical-align: top;\n",
       "    }\n",
       "\n",
       "    .dataframe thead th {\n",
       "        text-align: right;\n",
       "    }\n",
       "</style>\n",
       "<table border=\"1\" class=\"dataframe\">\n",
       "  <thead>\n",
       "    <tr style=\"text-align: right;\">\n",
       "      <th></th>\n",
       "      <th>const</th>\n",
       "      <th>LV100</th>\n",
       "    </tr>\n",
       "  </thead>\n",
       "  <tbody>\n",
       "    <tr>\n",
       "      <th>STX4</th>\n",
       "      <td>1.0</td>\n",
       "      <td>6.438276</td>\n",
       "    </tr>\n",
       "    <tr>\n",
       "      <th>RAB11B</th>\n",
       "      <td>1.0</td>\n",
       "      <td>6.341480</td>\n",
       "    </tr>\n",
       "    <tr>\n",
       "      <th>MED11</th>\n",
       "      <td>1.0</td>\n",
       "      <td>5.910379</td>\n",
       "    </tr>\n",
       "    <tr>\n",
       "      <th>NDUFB7</th>\n",
       "      <td>1.0</td>\n",
       "      <td>4.358643</td>\n",
       "    </tr>\n",
       "    <tr>\n",
       "      <th>MRPL34</th>\n",
       "      <td>1.0</td>\n",
       "      <td>3.903225</td>\n",
       "    </tr>\n",
       "  </tbody>\n",
       "</table>\n",
       "</div>"
      ],
      "text/plain": [
       "        const     LV100\n",
       "STX4      1.0  6.438276\n",
       "RAB11B    1.0  6.341480\n",
       "MED11     1.0  5.910379\n",
       "NDUFB7    1.0  4.358643\n",
       "MRPL34    1.0  3.903225"
      ]
     },
     "execution_count": 89,
     "metadata": {},
     "output_type": "execute_result"
    }
   ],
   "source": [
    "X.sort_values(lv_code, ascending=False).head()"
   ]
  },
  {
   "cell_type": "code",
   "execution_count": 90,
   "id": "989d6029-b948-411a-a28c-3eb22c17ff83",
   "metadata": {},
   "outputs": [
    {
     "data": {
      "text/plain": [
       "RPL15     3.852128\n",
       "VAMP4     3.543077\n",
       "HMGCS1    3.404068\n",
       "MED9      3.360888\n",
       "ABCB10    3.335043\n",
       "dtype: float64"
      ]
     },
     "execution_count": 90,
     "metadata": {},
     "output_type": "execute_result"
    }
   ],
   "source": [
    "y.sort_values(ascending=False).head()"
   ]
  },
  {
   "cell_type": "code",
   "execution_count": 91,
   "id": "a3c4911b-e6e6-4fcb-b4ef-a2141ed9fd71",
   "metadata": {},
   "outputs": [],
   "source": [
    "# save phenotype\n",
    "y.to_pickle(OUTPUT_DIR / f\"{phenotype_name}.pkl.xz\")"
   ]
  },
  {
   "cell_type": "markdown",
   "id": "e83ddcff-2a18-4846-9920-3fb4ef46ef16",
   "metadata": {},
   "source": [
    "## Random phenotype 0 / LV800"
   ]
  },
  {
   "cell_type": "code",
   "execution_count": 92,
   "id": "37abcf6c-7291-45e6-85b9-4bfbea650413",
   "metadata": {},
   "outputs": [
    {
     "data": {
      "text/plain": [
       "'multixcan-random_phenotype0-pvalues'"
      ]
     },
     "metadata": {},
     "output_type": "display_data"
    }
   ],
   "source": [
    "lv_code = \"LV800\"\n",
    "phenotype_code = 0\n",
    "\n",
    "phenotype_name = f\"multixcan-random_phenotype{phenotype_code}-pvalues\"\n",
    "display(phenotype_name)"
   ]
  },
  {
   "cell_type": "code",
   "execution_count": 93,
   "id": "117943ff-df05-422e-ba29-5642b8c4e324",
   "metadata": {},
   "outputs": [],
   "source": [
    "X, y = get_data(lv_code, random_phenotype_code=phenotype_code)\n",
    "corr_mat = get_aligned_corr_mat(X, perc=PERC_NONZERO_GENES)\n",
    "\n",
    "Xs, ys = standardize_data(X, y)\n",
    "_gls_results = train_statsmodels_gls(Xs, ys, corr_mat)"
   ]
  },
  {
   "cell_type": "code",
   "execution_count": 94,
   "id": "23065184-7d4a-4995-b8c8-b09cb828c858",
   "metadata": {},
   "outputs": [
    {
     "name": "stdout",
     "output_type": "stream",
     "text": [
      "                            GLS Regression Results                            \n",
      "==============================================================================\n",
      "Dep. Variable:                      y   R-squared:                       0.000\n",
      "Model:                            GLS   Adj. R-squared:                 -0.000\n",
      "Method:                 Least Squares   F-statistic:                   0.08856\n",
      "Date:                Mon, 25 Jul 2022   Prob (F-statistic):              0.766\n",
      "Time:                        16:00:19   Log-Likelihood:                -9056.1\n",
      "No. Observations:                6442   AIC:                         1.812e+04\n",
      "Df Residuals:                    6440   BIC:                         1.813e+04\n",
      "Df Model:                           1                                         \n",
      "Covariance Type:            nonrobust                                         \n",
      "==============================================================================\n",
      "                 coef    std err          t      P>|t|      [0.025      0.975]\n",
      "------------------------------------------------------------------------------\n",
      "const          0.0021      0.014      0.152      0.879      -0.025       0.029\n",
      "LV800          0.0042      0.014      0.298      0.766      -0.023       0.032\n",
      "==============================================================================\n",
      "Omnibus:                     1034.054   Durbin-Watson:                   1.699\n",
      "Prob(Omnibus):                  0.000   Jarque-Bera (JB):             1706.714\n",
      "Skew:                           1.076   Prob(JB):                         0.00\n",
      "Kurtosis:                       4.313   Cond. No.                         1.16\n",
      "==============================================================================\n",
      "\n",
      "Notes:\n",
      "[1] Standard Errors assume that the covariance matrix of the errors is correctly specified.\n"
     ]
    }
   ],
   "source": [
    "print(_gls_results.summary())"
   ]
  },
  {
   "cell_type": "code",
   "execution_count": 95,
   "id": "e648e30e-7177-4f65-a9bb-b507e04eff9f",
   "metadata": {},
   "outputs": [
    {
     "name": "stdout",
     "output_type": "stream",
     "text": [
      "                            OLS Regression Results                            \n",
      "==============================================================================\n",
      "Dep. Variable:                      y   R-squared:                       0.000\n",
      "Model:                            OLS   Adj. R-squared:                 -0.000\n",
      "Method:                 Least Squares   F-statistic:                    0.4172\n",
      "Date:                Mon, 25 Jul 2022   Prob (F-statistic):              0.518\n",
      "Time:                        16:00:29   Log-Likelihood:                -5887.9\n",
      "No. Observations:                6442   AIC:                         1.178e+04\n",
      "Df Residuals:                    6440   BIC:                         1.179e+04\n",
      "Df Model:                           1                                         \n",
      "Covariance Type:            nonrobust                                         \n",
      "==============================================================================\n",
      "                 coef    std err          t      P>|t|      [0.025      0.975]\n",
      "------------------------------------------------------------------------------\n",
      "const          0.7706      0.008     98.662      0.000       0.755       0.786\n",
      "LV800          0.0254      0.039      0.646      0.518      -0.052       0.103\n",
      "==============================================================================\n",
      "Omnibus:                     1069.805   Durbin-Watson:                   1.618\n",
      "Prob(Omnibus):                  0.000   Jarque-Bera (JB):             1777.302\n",
      "Skew:                           1.108   Prob(JB):                         0.00\n",
      "Kurtosis:                       4.308   Cond. No.                         5.25\n",
      "==============================================================================\n",
      "\n",
      "Notes:\n",
      "[1] Standard Errors assume that the covariance matrix of the errors is correctly specified.\n"
     ]
    }
   ],
   "source": [
    "# for debugging purposes I print the OLS results also\n",
    "_tmp_model = sm.OLS(y, X)\n",
    "_tmp_results = _tmp_model.fit()\n",
    "print(_tmp_results.summary())"
   ]
  },
  {
   "cell_type": "code",
   "execution_count": 96,
   "id": "86c32e02-4987-4f2a-a7b6-7f40497fc44e",
   "metadata": {},
   "outputs": [
    {
     "name": "stdout",
     "output_type": "stream",
     "text": [
      "0.004170133621705775\n",
      "0.014013329781567654\n",
      "0.2975833500465346\n",
      "0.7660307826493885\n",
      "0.38301539132469425\n"
     ]
    }
   ],
   "source": [
    "# print full numbers\n",
    "with np.printoptions(threshold=sys.maxsize, precision=20):\n",
    "    print(_gls_results.params.to_numpy()[1])\n",
    "    print(_gls_results.bse.to_numpy()[1])\n",
    "    print(_gls_results.tvalues.to_numpy()[1])\n",
    "    print(_gls_results.pvalues.to_numpy()[1])\n",
    "    print(stats.t.sf(_gls_results.tvalues.to_numpy()[1], _gls_results.df_resid))"
   ]
  },
  {
   "cell_type": "code",
   "execution_count": 97,
   "id": "b038e21d-cca8-4c0b-a437-e3ff7fa9e985",
   "metadata": {},
   "outputs": [
    {
     "data": {
      "text/html": [
       "<div>\n",
       "<style scoped>\n",
       "    .dataframe tbody tr th:only-of-type {\n",
       "        vertical-align: middle;\n",
       "    }\n",
       "\n",
       "    .dataframe tbody tr th {\n",
       "        vertical-align: top;\n",
       "    }\n",
       "\n",
       "    .dataframe thead th {\n",
       "        text-align: right;\n",
       "    }\n",
       "</style>\n",
       "<table border=\"1\" class=\"dataframe\">\n",
       "  <thead>\n",
       "    <tr style=\"text-align: right;\">\n",
       "      <th></th>\n",
       "      <th>const</th>\n",
       "      <th>LV800</th>\n",
       "    </tr>\n",
       "  </thead>\n",
       "  <tbody>\n",
       "    <tr>\n",
       "      <th>ZNF20</th>\n",
       "      <td>1.0</td>\n",
       "      <td>1.980700</td>\n",
       "    </tr>\n",
       "    <tr>\n",
       "      <th>ZNF606</th>\n",
       "      <td>1.0</td>\n",
       "      <td>1.931659</td>\n",
       "    </tr>\n",
       "    <tr>\n",
       "      <th>ZNF551</th>\n",
       "      <td>1.0</td>\n",
       "      <td>1.832833</td>\n",
       "    </tr>\n",
       "    <tr>\n",
       "      <th>ZNF543</th>\n",
       "      <td>1.0</td>\n",
       "      <td>1.701683</td>\n",
       "    </tr>\n",
       "    <tr>\n",
       "      <th>ZNF14</th>\n",
       "      <td>1.0</td>\n",
       "      <td>1.640789</td>\n",
       "    </tr>\n",
       "  </tbody>\n",
       "</table>\n",
       "</div>"
      ],
      "text/plain": [
       "        const     LV800\n",
       "ZNF20     1.0  1.980700\n",
       "ZNF606    1.0  1.931659\n",
       "ZNF551    1.0  1.832833\n",
       "ZNF543    1.0  1.701683\n",
       "ZNF14     1.0  1.640789"
      ]
     },
     "execution_count": 97,
     "metadata": {},
     "output_type": "execute_result"
    }
   ],
   "source": [
    "X.sort_values(lv_code, ascending=False).head()"
   ]
  },
  {
   "cell_type": "code",
   "execution_count": 98,
   "id": "bb7d974c-0f9d-447e-ac7f-6833f22067c9",
   "metadata": {},
   "outputs": [
    {
     "data": {
      "text/plain": [
       "GPATCH1    3.951082\n",
       "NFKBIA     3.900707\n",
       "TTC5       3.870256\n",
       "ZNF17      3.807992\n",
       "ZNF563     3.747230\n",
       "dtype: float64"
      ]
     },
     "execution_count": 98,
     "metadata": {},
     "output_type": "execute_result"
    }
   ],
   "source": [
    "y.sort_values(ascending=False).head()"
   ]
  },
  {
   "cell_type": "code",
   "execution_count": 99,
   "id": "18abe500-4216-4017-a54d-ed6aec63e18e",
   "metadata": {},
   "outputs": [],
   "source": [
    "# save phenotype\n",
    "y.to_pickle(OUTPUT_DIR / f\"{phenotype_name}.pkl.xz\")"
   ]
  },
  {
   "cell_type": "markdown",
   "id": "cff49c9c-e1fc-424a-9abd-fac903e5b02a",
   "metadata": {
    "papermill": {
     "duration": 0.012899,
     "end_time": "2022-07-11T13:23:15.569947",
     "exception": false,
     "start_time": "2022-07-11T13:23:15.557048",
     "status": "completed"
    },
    "tags": []
   },
   "source": [
    "# GLS on real phenotypes"
   ]
  },
  {
   "cell_type": "code",
   "execution_count": 100,
   "id": "f81cf8a3-a3ca-463f-ad7e-4b23434d9674",
   "metadata": {},
   "outputs": [],
   "source": [
    "PERC_NONZERO_GENES = 1.00"
   ]
  },
  {
   "cell_type": "code",
   "execution_count": 101,
   "id": "eeecfcc6-b010-47f3-9f34-24ea22f3b88e",
   "metadata": {},
   "outputs": [
    {
     "data": {
      "text/plain": [
       "Index(['100001_raw-Food_weight', '100002_raw-Energy', '100003_raw-Protein',\n",
       "       '100004_raw-Fat', '100005_raw-Carbohydrate', '100006_raw-Saturated_fat',\n",
       "       '100007_raw-Polyunsaturated_fat', '100008_raw-Total_sugars',\n",
       "       '100009_raw-Englyst_dietary_fibre', '100010-Portion_size',\n",
       "       ...\n",
       "       'visual impairment', 'vitiligo', 'vitreous body disease',\n",
       "       'vocal cord polyp', 'voice disorders',\n",
       "       'wellbeing measurement AND family relationship', 'wheezing',\n",
       "       'whooping cough', 'worry measurement', 'wrist fracture'],\n",
       "      dtype='object', length=3752)"
      ]
     },
     "execution_count": 101,
     "metadata": {},
     "output_type": "execute_result"
    }
   ],
   "source": [
    "multixcan_real_results.columns"
   ]
  },
  {
   "cell_type": "markdown",
   "id": "324f39f6-33f2-4d51-b7de-015b6184b53d",
   "metadata": {},
   "source": [
    "## whooping cough / LV570"
   ]
  },
  {
   "cell_type": "code",
   "execution_count": 102,
   "id": "9fb22ddc-4653-420c-9ac1-40bf8189b0f0",
   "metadata": {},
   "outputs": [
    {
     "data": {
      "text/plain": [
       "'multixcan-phenomexcan-whooping_cough-pvalues'"
      ]
     },
     "metadata": {},
     "output_type": "display_data"
    }
   ],
   "source": [
    "lv_code = \"LV570\"\n",
    "phenotype_code = \"whooping cough\"\n",
    "\n",
    "phenotype_name = f\"multixcan-phenomexcan-{phenotype_code.replace(' ', '_')}-pvalues\"\n",
    "display(phenotype_name)"
   ]
  },
  {
   "cell_type": "code",
   "execution_count": 103,
   "id": "1c00282e-ddff-4516-a19a-ef22afd9f9cc",
   "metadata": {},
   "outputs": [],
   "source": [
    "X, y = get_data(lv_code, real_phenotype_code=phenotype_code)\n",
    "corr_mat = get_aligned_corr_mat(X, perc=PERC_NONZERO_GENES)\n",
    "\n",
    "Xs, ys = standardize_data(X, y)\n",
    "_gls_results = train_statsmodels_gls(Xs, ys, corr_mat)"
   ]
  },
  {
   "cell_type": "code",
   "execution_count": 104,
   "id": "899485df-d693-432b-a8bd-455892a4c8dd",
   "metadata": {},
   "outputs": [
    {
     "name": "stdout",
     "output_type": "stream",
     "text": [
      "                            GLS Regression Results                            \n",
      "==============================================================================\n",
      "Dep. Variable:         whooping cough   R-squared:                       0.000\n",
      "Model:                            GLS   Adj. R-squared:                 -0.000\n",
      "Method:                 Least Squares   F-statistic:                    0.2320\n",
      "Date:                Mon, 25 Jul 2022   Prob (F-statistic):              0.630\n",
      "Time:                        16:04:43   Log-Likelihood:                -9096.4\n",
      "No. Observations:                6442   AIC:                         1.820e+04\n",
      "Df Residuals:                    6440   BIC:                         1.821e+04\n",
      "Df Model:                           1                                         \n",
      "Covariance Type:            nonrobust                                         \n",
      "==============================================================================\n",
      "                 coef    std err          t      P>|t|      [0.025      0.975]\n",
      "------------------------------------------------------------------------------\n",
      "const         -0.0017      0.014     -0.119      0.905      -0.029       0.026\n",
      "LV570          0.0050      0.010      0.482      0.630      -0.015       0.025\n",
      "==============================================================================\n",
      "Omnibus:                      944.227   Durbin-Watson:                   1.688\n",
      "Prob(Omnibus):                  0.000   Jarque-Bera (JB):             1470.141\n",
      "Skew:                           1.030   Prob(JB):                         0.00\n",
      "Kurtosis:                       4.112   Cond. No.                         1.38\n",
      "==============================================================================\n",
      "\n",
      "Notes:\n",
      "[1] Standard Errors assume that the covariance matrix of the errors is correctly specified.\n"
     ]
    }
   ],
   "source": [
    "print(_gls_results.summary())"
   ]
  },
  {
   "cell_type": "code",
   "execution_count": 105,
   "id": "c4a64234-bd9b-4746-bf7a-09b24fcd17f2",
   "metadata": {},
   "outputs": [
    {
     "name": "stdout",
     "output_type": "stream",
     "text": [
      "                            OLS Regression Results                            \n",
      "==============================================================================\n",
      "Dep. Variable:         whooping cough   R-squared:                       0.000\n",
      "Model:                            OLS   Adj. R-squared:                  0.000\n",
      "Method:                 Least Squares   F-statistic:                     1.665\n",
      "Date:                Mon, 25 Jul 2022   Prob (F-statistic):              0.197\n",
      "Time:                        16:04:53   Log-Likelihood:                -5875.5\n",
      "No. Observations:                6442   AIC:                         1.176e+04\n",
      "Df Residuals:                    6440   BIC:                         1.177e+04\n",
      "Df Model:                           1                                         \n",
      "Covariance Type:            nonrobust                                         \n",
      "==============================================================================\n",
      "                 coef    std err          t      P>|t|      [0.025      0.975]\n",
      "------------------------------------------------------------------------------\n",
      "const          0.7908      0.008    103.754      0.000       0.776       0.806\n",
      "LV570          0.0559      0.043      1.290      0.197      -0.029       0.141\n",
      "==============================================================================\n",
      "Omnibus:                      932.533   Durbin-Watson:                   1.613\n",
      "Prob(Omnibus):                  0.000   Jarque-Bera (JB):             1426.827\n",
      "Skew:                           1.033   Prob(JB):                    1.47e-310\n",
      "Kurtosis:                       4.023   Cond. No.                         5.77\n",
      "==============================================================================\n",
      "\n",
      "Notes:\n",
      "[1] Standard Errors assume that the covariance matrix of the errors is correctly specified.\n"
     ]
    }
   ],
   "source": [
    "# for debugging purposes I print the OLS results also\n",
    "_tmp_model = sm.OLS(y, X)\n",
    "_tmp_results = _tmp_model.fit()\n",
    "print(_tmp_results.summary())"
   ]
  },
  {
   "cell_type": "code",
   "execution_count": 106,
   "id": "070170db-3271-47bf-bd05-c7cb74b86801",
   "metadata": {},
   "outputs": [
    {
     "name": "stdout",
     "output_type": "stream",
     "text": [
      "0.0049802005250721\n",
      "0.010338597588777377\n",
      "0.4817094854797467\n",
      "0.6300287052648046\n",
      "0.3150143526324023\n"
     ]
    }
   ],
   "source": [
    "# print full numbers\n",
    "with np.printoptions(threshold=sys.maxsize, precision=20):\n",
    "    print(_gls_results.params.to_numpy()[1])\n",
    "    print(_gls_results.bse.to_numpy()[1])\n",
    "    print(_gls_results.tvalues.to_numpy()[1])\n",
    "    print(_gls_results.pvalues.to_numpy()[1])\n",
    "    print(stats.t.sf(_gls_results.tvalues.to_numpy()[1], _gls_results.df_resid))"
   ]
  },
  {
   "cell_type": "code",
   "execution_count": 107,
   "id": "a1d96a22-54d1-4a3c-b4f2-29649de888d6",
   "metadata": {},
   "outputs": [],
   "source": [
    "# save phenotype\n",
    "y.to_pickle(OUTPUT_DIR / f\"{phenotype_name}.pkl.xz\")"
   ]
  },
  {
   "cell_type": "code",
   "execution_count": 108,
   "id": "cd4242c6-f596-4f1c-bed1-f95692fc53f8",
   "metadata": {},
   "outputs": [
    {
     "data": {
      "text/plain": [
       "NOC2L       1.301498\n",
       "HES4        0.491604\n",
       "ISG15       0.300490\n",
       "AGRN        1.595415\n",
       "TNFRSF18    0.362178\n",
       "              ...   \n",
       "CPT1B       0.283934\n",
       "CHKB        0.621814\n",
       "MAPK8IP2    0.479153\n",
       "ARSA        0.274866\n",
       "SHANK3      1.125992\n",
       "Name: whooping cough, Length: 6442, dtype: float64"
      ]
     },
     "execution_count": 108,
     "metadata": {},
     "output_type": "execute_result"
    }
   ],
   "source": [
    "y"
   ]
  },
  {
   "cell_type": "markdown",
   "id": "eccaf7f0-0ce8-4970-9882-3c9aef7a7e16",
   "metadata": {},
   "source": [
    "## wheezing and LV400"
   ]
  },
  {
   "cell_type": "code",
   "execution_count": 109,
   "id": "29103834-d6ca-4ef8-b477-f3f3b65d3c8e",
   "metadata": {},
   "outputs": [
    {
     "data": {
      "text/plain": [
       "'multixcan-phenomexcan-wheezing-pvalues'"
      ]
     },
     "metadata": {},
     "output_type": "display_data"
    }
   ],
   "source": [
    "lv_code = \"LV400\"\n",
    "phenotype_code = \"wheezing\"\n",
    "\n",
    "phenotype_name = f\"multixcan-phenomexcan-{phenotype_code.replace(' ', '_')}-pvalues\"\n",
    "display(phenotype_name)"
   ]
  },
  {
   "cell_type": "code",
   "execution_count": 110,
   "id": "a65ff306-535b-4253-9a3b-72c1ec9ec25c",
   "metadata": {},
   "outputs": [],
   "source": [
    "X, y = get_data(lv_code, real_phenotype_code=phenotype_code)\n",
    "corr_mat = get_aligned_corr_mat(X, perc=PERC_NONZERO_GENES)\n",
    "\n",
    "Xs, ys = standardize_data(X, y)\n",
    "_gls_results = train_statsmodels_gls(Xs, ys, corr_mat)"
   ]
  },
  {
   "cell_type": "code",
   "execution_count": 111,
   "id": "bd4a1eb9-d71e-4475-87ca-ff8d9012c7b7",
   "metadata": {},
   "outputs": [
    {
     "name": "stdout",
     "output_type": "stream",
     "text": [
      "                            GLS Regression Results                            \n",
      "==============================================================================\n",
      "Dep. Variable:               wheezing   R-squared:                       0.030\n",
      "Model:                            GLS   Adj. R-squared:                  0.030\n",
      "Method:                 Least Squares   F-statistic:                     200.6\n",
      "Date:                Mon, 25 Jul 2022   Prob (F-statistic):           7.17e-45\n",
      "Time:                        16:06:01   Log-Likelihood:                -10037.\n",
      "No. Observations:                6442   AIC:                         2.008e+04\n",
      "Df Residuals:                    6440   BIC:                         2.009e+04\n",
      "Df Model:                           1                                         \n",
      "Covariance Type:            nonrobust                                         \n",
      "==============================================================================\n",
      "                 coef    std err          t      P>|t|      [0.025      0.975]\n",
      "------------------------------------------------------------------------------\n",
      "const         -0.0370      0.017     -2.199      0.028      -0.070      -0.004\n",
      "LV400         -0.1787      0.013    -14.164      0.000      -0.203      -0.154\n",
      "==============================================================================\n",
      "Omnibus:                    11957.649   Durbin-Watson:                   1.594\n",
      "Prob(Omnibus):                  0.000   Jarque-Bera (JB):         73291706.400\n",
      "Skew:                          13.257   Prob(JB):                         0.00\n",
      "Kurtosis:                     524.871   Cond. No.                         1.35\n",
      "==============================================================================\n",
      "\n",
      "Notes:\n",
      "[1] Standard Errors assume that the covariance matrix of the errors is correctly specified.\n"
     ]
    }
   ],
   "source": [
    "print(_gls_results.summary())"
   ]
  },
  {
   "cell_type": "code",
   "execution_count": 112,
   "id": "29bec44f-8222-4662-9b31-5edf8a543c14",
   "metadata": {},
   "outputs": [
    {
     "name": "stdout",
     "output_type": "stream",
     "text": [
      "                            OLS Regression Results                            \n",
      "==============================================================================\n",
      "Dep. Variable:               wheezing   R-squared:                       0.000\n",
      "Model:                            OLS   Adj. R-squared:                  0.000\n",
      "Method:                 Least Squares   F-statistic:                     1.553\n",
      "Date:                Mon, 25 Jul 2022   Prob (F-statistic):              0.213\n",
      "Time:                        16:06:27   Log-Likelihood:                -8840.7\n",
      "No. Observations:                6442   AIC:                         1.769e+04\n",
      "Df Residuals:                    6440   BIC:                         1.770e+04\n",
      "Df Model:                           1                                         \n",
      "Covariance Type:            nonrobust                                         \n",
      "==============================================================================\n",
      "                 coef    std err          t      P>|t|      [0.025      0.975]\n",
      "------------------------------------------------------------------------------\n",
      "const          1.1791      0.012     95.965      0.000       1.155       1.203\n",
      "LV400          0.1040      0.083      1.246      0.213      -0.060       0.267\n",
      "==============================================================================\n",
      "Omnibus:                     2924.712   Durbin-Watson:                   1.173\n",
      "Prob(Omnibus):                  0.000   Jarque-Bera (JB):            26896.977\n",
      "Skew:                           1.946   Prob(JB):                         0.00\n",
      "Kurtosis:                      12.223   Cond. No.                         7.02\n",
      "==============================================================================\n",
      "\n",
      "Notes:\n",
      "[1] Standard Errors assume that the covariance matrix of the errors is correctly specified.\n"
     ]
    }
   ],
   "source": [
    "# for debugging purposes I print the OLS results also\n",
    "_tmp_model = sm.OLS(y, X)\n",
    "_tmp_results = _tmp_model.fit()\n",
    "print(_tmp_results.summary())"
   ]
  },
  {
   "cell_type": "code",
   "execution_count": 113,
   "id": "415ac124-7d2c-4573-bf5d-e7dc0eccac5c",
   "metadata": {},
   "outputs": [
    {
     "name": "stdout",
     "output_type": "stream",
     "text": [
      "-0.1787005272685236\n",
      "0.012616403393185567\n",
      "-14.164141847671436\n",
      "7.167212012881414e-45\n",
      "1.0\n"
     ]
    }
   ],
   "source": [
    "# print full numbers\n",
    "with np.printoptions(threshold=sys.maxsize, precision=20):\n",
    "    print(_gls_results.params.to_numpy()[1])\n",
    "    print(_gls_results.bse.to_numpy()[1])\n",
    "    print(_gls_results.tvalues.to_numpy()[1])\n",
    "    print(_gls_results.pvalues.to_numpy()[1])\n",
    "    print(stats.t.sf(_gls_results.tvalues.to_numpy()[1], _gls_results.df_resid))"
   ]
  },
  {
   "cell_type": "code",
   "execution_count": 114,
   "id": "ca0cd886-0da1-4434-8a66-e7b82e1fbdeb",
   "metadata": {},
   "outputs": [],
   "source": [
    "# save phenotype\n",
    "y.to_pickle(OUTPUT_DIR / f\"{phenotype_name}.pkl.xz\")"
   ]
  },
  {
   "cell_type": "code",
   "execution_count": 115,
   "id": "93d0dc9e-1990-4944-b14a-0b74f3692040",
   "metadata": {},
   "outputs": [
    {
     "data": {
      "text/plain": [
       "NOC2L       2.745848\n",
       "HES4        0.208291\n",
       "ISG15       0.136734\n",
       "AGRN        0.229924\n",
       "TNFRSF18    0.408283\n",
       "              ...   \n",
       "CPT1B       0.483466\n",
       "CHKB        0.264246\n",
       "MAPK8IP2    0.709193\n",
       "ARSA        0.786883\n",
       "SHANK3      0.404021\n",
       "Name: wheezing, Length: 6442, dtype: float64"
      ]
     },
     "execution_count": 115,
     "metadata": {},
     "output_type": "execute_result"
    }
   ],
   "source": [
    "y"
   ]
  },
  {
   "cell_type": "markdown",
   "id": "7fda91cb-b5dc-4d13-a779-847dc05195a1",
   "metadata": {
    "papermill": {
     "duration": 0.012899,
     "end_time": "2022-07-11T13:23:15.569947",
     "exception": false,
     "start_time": "2022-07-11T13:23:15.557048",
     "status": "completed"
    },
    "tags": []
   },
   "source": [
    "# [full corr matrix] GLS on randomly generated phenotypes using gene-level covariates"
   ]
  },
  {
   "cell_type": "code",
   "execution_count": 186,
   "id": "ed44929a-f26b-4669-b9de-6df527198dd2",
   "metadata": {},
   "outputs": [],
   "source": [
    "PERC_NONZERO_GENES = None"
   ]
  },
  {
   "cell_type": "markdown",
   "id": "e116c136-f62f-4b6b-8eb4-c5318a7413fa",
   "metadata": {},
   "source": [
    "## Random phenotype 6 / LV45"
   ]
  },
  {
   "cell_type": "code",
   "execution_count": 187,
   "id": "c9a3ee15-a9dd-48bf-b41b-b5df10377cdc",
   "metadata": {},
   "outputs": [
    {
     "data": {
      "text/plain": [
       "'multixcan-random_phenotype6-pvalues'"
      ]
     },
     "metadata": {},
     "output_type": "display_data"
    }
   ],
   "source": [
    "lv_code = \"LV45\"\n",
    "phenotype_code = 6\n",
    "\n",
    "phenotype_name_base = f\"multixcan-random_phenotype{phenotype_code}\"\n",
    "phenotype_name = f\"{phenotype_name_base}-pvalues\"\n",
    "display(phenotype_name)"
   ]
  },
  {
   "cell_type": "code",
   "execution_count": 188,
   "id": "5f291b93-f100-4fe9-951a-9e349b16ca41",
   "metadata": {},
   "outputs": [],
   "source": [
    "X, y = get_data(lv_code, random_phenotype_code=phenotype_code, add_covars=True)\n",
    "corr_mat = get_aligned_corr_mat(X, perc=PERC_NONZERO_GENES)"
   ]
  },
  {
   "cell_type": "code",
   "execution_count": 189,
   "id": "22585e33-fcef-42c4-b669-040b264984c6",
   "metadata": {},
   "outputs": [
    {
     "data": {
      "text/html": [
       "<div>\n",
       "<style scoped>\n",
       "    .dataframe tbody tr th:only-of-type {\n",
       "        vertical-align: middle;\n",
       "    }\n",
       "\n",
       "    .dataframe tbody tr th {\n",
       "        vertical-align: top;\n",
       "    }\n",
       "\n",
       "    .dataframe thead th {\n",
       "        text-align: right;\n",
       "    }\n",
       "</style>\n",
       "<table border=\"1\" class=\"dataframe\">\n",
       "  <thead>\n",
       "    <tr style=\"text-align: right;\">\n",
       "      <th></th>\n",
       "      <th>const</th>\n",
       "      <th>LV45</th>\n",
       "      <th>gene_size</th>\n",
       "      <th>gene_density</th>\n",
       "    </tr>\n",
       "  </thead>\n",
       "  <tbody>\n",
       "    <tr>\n",
       "      <th>NOC2L</th>\n",
       "      <td>1.0</td>\n",
       "      <td>0.0</td>\n",
       "      <td>5.0</td>\n",
       "      <td>0.106383</td>\n",
       "    </tr>\n",
       "    <tr>\n",
       "      <th>HES4</th>\n",
       "      <td>1.0</td>\n",
       "      <td>0.0</td>\n",
       "      <td>3.0</td>\n",
       "      <td>0.068182</td>\n",
       "    </tr>\n",
       "    <tr>\n",
       "      <th>ISG15</th>\n",
       "      <td>1.0</td>\n",
       "      <td>0.0</td>\n",
       "      <td>6.0</td>\n",
       "      <td>0.142857</td>\n",
       "    </tr>\n",
       "    <tr>\n",
       "      <th>AGRN</th>\n",
       "      <td>1.0</td>\n",
       "      <td>0.0</td>\n",
       "      <td>4.0</td>\n",
       "      <td>0.086957</td>\n",
       "    </tr>\n",
       "    <tr>\n",
       "      <th>TNFRSF18</th>\n",
       "      <td>1.0</td>\n",
       "      <td>0.0</td>\n",
       "      <td>4.0</td>\n",
       "      <td>0.088889</td>\n",
       "    </tr>\n",
       "  </tbody>\n",
       "</table>\n",
       "</div>"
      ],
      "text/plain": [
       "          const  LV45  gene_size  gene_density\n",
       "NOC2L       1.0   0.0        5.0      0.106383\n",
       "HES4        1.0   0.0        3.0      0.068182\n",
       "ISG15       1.0   0.0        6.0      0.142857\n",
       "AGRN        1.0   0.0        4.0      0.086957\n",
       "TNFRSF18    1.0   0.0        4.0      0.088889"
      ]
     },
     "execution_count": 189,
     "metadata": {},
     "output_type": "execute_result"
    }
   ],
   "source": [
    "X.head()"
   ]
  },
  {
   "cell_type": "code",
   "execution_count": 190,
   "id": "a7ce9a37-48f1-4c94-835c-9b6c58e66811",
   "metadata": {},
   "outputs": [
    {
     "data": {
      "text/plain": [
       "NOC2L       0.325533\n",
       "HES4        0.274247\n",
       "ISG15       1.189163\n",
       "AGRN        1.567185\n",
       "TNFRSF18    0.910990\n",
       "dtype: float64"
      ]
     },
     "execution_count": 190,
     "metadata": {},
     "output_type": "execute_result"
    }
   ],
   "source": [
    "y.head()"
   ]
  },
  {
   "cell_type": "code",
   "execution_count": 202,
   "id": "395840cb-b195-4fe1-9cba-c2d1082ccd0e",
   "metadata": {},
   "outputs": [],
   "source": [
    "Xs, ys = standardize_data(X, y)"
   ]
  },
  {
   "cell_type": "code",
   "execution_count": 208,
   "id": "ff21697c-bc6e-42ae-b7f2-e6e966692d8c",
   "metadata": {},
   "outputs": [
    {
     "data": {
      "text/html": [
       "<div>\n",
       "<style scoped>\n",
       "    .dataframe tbody tr th:only-of-type {\n",
       "        vertical-align: middle;\n",
       "    }\n",
       "\n",
       "    .dataframe tbody tr th {\n",
       "        vertical-align: top;\n",
       "    }\n",
       "\n",
       "    .dataframe thead th {\n",
       "        text-align: right;\n",
       "    }\n",
       "</style>\n",
       "<table border=\"1\" class=\"dataframe\">\n",
       "  <thead>\n",
       "    <tr style=\"text-align: right;\">\n",
       "      <th></th>\n",
       "      <th>LV45</th>\n",
       "      <th>gene_size</th>\n",
       "      <th>gene_density</th>\n",
       "    </tr>\n",
       "  </thead>\n",
       "  <tbody>\n",
       "    <tr>\n",
       "      <th>count</th>\n",
       "      <td>6.442000e+03</td>\n",
       "      <td>6.442000e+03</td>\n",
       "      <td>6.442000e+03</td>\n",
       "    </tr>\n",
       "    <tr>\n",
       "      <th>mean</th>\n",
       "      <td>1.764776e-17</td>\n",
       "      <td>1.985372e-17</td>\n",
       "      <td>6.138110e-15</td>\n",
       "    </tr>\n",
       "    <tr>\n",
       "      <th>std</th>\n",
       "      <td>1.000000e+00</td>\n",
       "      <td>1.000000e+00</td>\n",
       "      <td>1.000000e+00</td>\n",
       "    </tr>\n",
       "    <tr>\n",
       "      <th>min</th>\n",
       "      <td>-5.995686e-02</td>\n",
       "      <td>-1.451864e+00</td>\n",
       "      <td>-8.443140e-01</td>\n",
       "    </tr>\n",
       "    <tr>\n",
       "      <th>25%</th>\n",
       "      <td>-5.995686e-02</td>\n",
       "      <td>-5.898049e-01</td>\n",
       "      <td>-5.795094e-01</td>\n",
       "    </tr>\n",
       "    <tr>\n",
       "      <th>50%</th>\n",
       "      <td>-5.995686e-02</td>\n",
       "      <td>-1.587756e-01</td>\n",
       "      <td>-3.389165e-01</td>\n",
       "    </tr>\n",
       "    <tr>\n",
       "      <th>75%</th>\n",
       "      <td>-5.995686e-02</td>\n",
       "      <td>7.032830e-01</td>\n",
       "      <td>1.292323e-01</td>\n",
       "    </tr>\n",
       "    <tr>\n",
       "      <th>max</th>\n",
       "      <td>2.786523e+01</td>\n",
       "      <td>5.875635e+00</td>\n",
       "      <td>4.763313e+00</td>\n",
       "    </tr>\n",
       "  </tbody>\n",
       "</table>\n",
       "</div>"
      ],
      "text/plain": [
       "               LV45     gene_size  gene_density\n",
       "count  6.442000e+03  6.442000e+03  6.442000e+03\n",
       "mean   1.764776e-17  1.985372e-17  6.138110e-15\n",
       "std    1.000000e+00  1.000000e+00  1.000000e+00\n",
       "min   -5.995686e-02 -1.451864e+00 -8.443140e-01\n",
       "25%   -5.995686e-02 -5.898049e-01 -5.795094e-01\n",
       "50%   -5.995686e-02 -1.587756e-01 -3.389165e-01\n",
       "75%   -5.995686e-02  7.032830e-01  1.292323e-01\n",
       "max    2.786523e+01  5.875635e+00  4.763313e+00"
      ]
     },
     "metadata": {},
     "output_type": "display_data"
    }
   ],
   "source": [
    "_Xs_desc = Xs[[lv_code, \"gene_size\", \"gene_density\"]].describe()\n",
    "display(_Xs_desc)\n",
    "assert (_Xs_desc.loc[\"mean\"] < 1e-10).all()\n",
    "assert (_Xs_desc.loc[\"std\"].between(0.9999, 1.00001)).all()"
   ]
  },
  {
   "cell_type": "code",
   "execution_count": 192,
   "id": "8caf2e5c-31f5-4567-9d63-6076d29aba9c",
   "metadata": {},
   "outputs": [
    {
     "data": {
      "text/html": [
       "<div>\n",
       "<style scoped>\n",
       "    .dataframe tbody tr th:only-of-type {\n",
       "        vertical-align: middle;\n",
       "    }\n",
       "\n",
       "    .dataframe tbody tr th {\n",
       "        vertical-align: top;\n",
       "    }\n",
       "\n",
       "    .dataframe thead th {\n",
       "        text-align: right;\n",
       "    }\n",
       "</style>\n",
       "<table border=\"1\" class=\"dataframe\">\n",
       "  <thead>\n",
       "    <tr style=\"text-align: right;\">\n",
       "      <th></th>\n",
       "      <th>const</th>\n",
       "      <th>LV45</th>\n",
       "      <th>gene_size</th>\n",
       "      <th>gene_density</th>\n",
       "    </tr>\n",
       "  </thead>\n",
       "  <tbody>\n",
       "    <tr>\n",
       "      <th>NOC2L</th>\n",
       "      <td>1.0</td>\n",
       "      <td>-0.059957</td>\n",
       "      <td>0.272254</td>\n",
       "      <td>-0.352155</td>\n",
       "    </tr>\n",
       "    <tr>\n",
       "      <th>HES4</th>\n",
       "      <td>1.0</td>\n",
       "      <td>-0.059957</td>\n",
       "      <td>-0.589805</td>\n",
       "      <td>-0.570836</td>\n",
       "    </tr>\n",
       "    <tr>\n",
       "      <th>ISG15</th>\n",
       "      <td>1.0</td>\n",
       "      <td>-0.059957</td>\n",
       "      <td>0.703283</td>\n",
       "      <td>-0.143361</td>\n",
       "    </tr>\n",
       "    <tr>\n",
       "      <th>AGRN</th>\n",
       "      <td>1.0</td>\n",
       "      <td>-0.059957</td>\n",
       "      <td>-0.158776</td>\n",
       "      <td>-0.463361</td>\n",
       "    </tr>\n",
       "    <tr>\n",
       "      <th>TNFRSF18</th>\n",
       "      <td>1.0</td>\n",
       "      <td>-0.059957</td>\n",
       "      <td>-0.158776</td>\n",
       "      <td>-0.452299</td>\n",
       "    </tr>\n",
       "  </tbody>\n",
       "</table>\n",
       "</div>"
      ],
      "text/plain": [
       "          const      LV45  gene_size  gene_density\n",
       "NOC2L       1.0 -0.059957   0.272254     -0.352155\n",
       "HES4        1.0 -0.059957  -0.589805     -0.570836\n",
       "ISG15       1.0 -0.059957   0.703283     -0.143361\n",
       "AGRN        1.0 -0.059957  -0.158776     -0.463361\n",
       "TNFRSF18    1.0 -0.059957  -0.158776     -0.452299"
      ]
     },
     "execution_count": 192,
     "metadata": {},
     "output_type": "execute_result"
    }
   ],
   "source": [
    "Xs.head()"
   ]
  },
  {
   "cell_type": "code",
   "execution_count": 193,
   "id": "6c268354-84b6-4e91-ae42-629bca84b71a",
   "metadata": {},
   "outputs": [
    {
     "data": {
      "text/plain": [
       "NOC2L      -0.749961\n",
       "HES4       -0.837645\n",
       "ISG15       0.726586\n",
       "AGRN        1.372890\n",
       "TNFRSF18    0.250993\n",
       "dtype: float64"
      ]
     },
     "execution_count": 193,
     "metadata": {},
     "output_type": "execute_result"
    }
   ],
   "source": [
    "ys.head()"
   ]
  },
  {
   "cell_type": "code",
   "execution_count": 194,
   "id": "586be850-fbfe-440d-8c06-b886b999f879",
   "metadata": {},
   "outputs": [],
   "source": [
    "_gls_results = train_statsmodels_gls(Xs, ys, corr_mat)"
   ]
  },
  {
   "cell_type": "code",
   "execution_count": 195,
   "id": "7072a13b-2501-4a1a-8c23-0bcd49541744",
   "metadata": {},
   "outputs": [
    {
     "name": "stdout",
     "output_type": "stream",
     "text": [
      "                            GLS Regression Results                            \n",
      "==============================================================================\n",
      "Dep. Variable:                      y   R-squared:                       0.000\n",
      "Model:                            GLS   Adj. R-squared:                 -0.000\n",
      "Method:                 Least Squares   F-statistic:                    0.1685\n",
      "Date:                Mon, 25 Jul 2022   Prob (F-statistic):              0.918\n",
      "Time:                        18:37:33   Log-Likelihood:                -8695.3\n",
      "No. Observations:                6442   AIC:                         1.740e+04\n",
      "Df Residuals:                    6438   BIC:                         1.743e+04\n",
      "Df Model:                           3                                         \n",
      "Covariance Type:            nonrobust                                         \n",
      "================================================================================\n",
      "                   coef    std err          t      P>|t|      [0.025      0.975]\n",
      "--------------------------------------------------------------------------------\n",
      "const            0.0239      0.025      0.956      0.339      -0.025       0.073\n",
      "LV45            -0.0032      0.009     -0.376      0.707      -0.020       0.014\n",
      "gene_size       -0.0080      0.013     -0.595      0.552      -0.034       0.018\n",
      "gene_density     0.0002      0.002      0.097      0.923      -0.003       0.003\n",
      "==============================================================================\n",
      "Omnibus:                      927.007   Durbin-Watson:                   1.991\n",
      "Prob(Omnibus):                  0.000   Jarque-Bera (JB):             1530.727\n",
      "Skew:                           0.972   Prob(JB):                         0.00\n",
      "Kurtosis:                       4.386   Cond. No.                         15.2\n",
      "==============================================================================\n",
      "\n",
      "Notes:\n",
      "[1] Standard Errors assume that the covariance matrix of the errors is correctly specified.\n"
     ]
    }
   ],
   "source": [
    "print(_gls_results.summary())"
   ]
  },
  {
   "cell_type": "code",
   "execution_count": 209,
   "id": "2abeacf6-6b0f-43e2-bfc0-a97b2e571384",
   "metadata": {},
   "outputs": [
    {
     "data": {
      "text/plain": [
       "const           0.023948\n",
       "LV45           -0.003233\n",
       "gene_size      -0.007980\n",
       "gene_density    0.000162\n",
       "dtype: float64"
      ]
     },
     "execution_count": 209,
     "metadata": {},
     "output_type": "execute_result"
    }
   ],
   "source": [
    "_gls_results.params"
   ]
  },
  {
   "cell_type": "code",
   "execution_count": 197,
   "id": "f6b10cfb-3cfe-40d0-893a-cd94e9dc8266",
   "metadata": {},
   "outputs": [
    {
     "name": "stdout",
     "output_type": "stream",
     "text": [
      "-0.0032326620431897984\n",
      "0.008590802143381404\n",
      "-0.37629338788582534\n",
      "0.7067111941216788\n",
      "0.6466444029391605\n"
     ]
    }
   ],
   "source": [
    "# print full numbers\n",
    "with np.printoptions(threshold=sys.maxsize, precision=20):\n",
    "    print(_gls_results.params.to_numpy()[1])\n",
    "    print(_gls_results.bse.to_numpy()[1])\n",
    "    print(_gls_results.tvalues.to_numpy()[1])\n",
    "    print(_gls_results.pvalues.to_numpy()[1])\n",
    "    print(stats.t.sf(_gls_results.tvalues.to_numpy()[1], _gls_results.df_resid))"
   ]
  },
  {
   "cell_type": "code",
   "execution_count": 198,
   "id": "0585341f-30f1-4eeb-b341-2a3a7dcc085e",
   "metadata": {},
   "outputs": [],
   "source": [
    "# save phenotype\n",
    "y.to_pickle(OUTPUT_DIR / f\"{phenotype_name}.pkl.xz\")"
   ]
  },
  {
   "cell_type": "code",
   "execution_count": 199,
   "id": "5b22358f-476a-4365-940b-cfee66a43a07",
   "metadata": {},
   "outputs": [
    {
     "data": {
      "text/plain": [
       "'multixcan-random_phenotype6-covars'"
      ]
     },
     "metadata": {},
     "output_type": "display_data"
    }
   ],
   "source": [
    "# save covariates\n",
    "phenotype_covars_name = f\"{phenotype_name_base}-covars\"\n",
    "display(phenotype_covars_name)"
   ]
  },
  {
   "cell_type": "code",
   "execution_count": 200,
   "id": "af42919d-5545-40d6-9e8d-1ebe746b07e9",
   "metadata": {},
   "outputs": [
    {
     "data": {
      "text/html": [
       "<div>\n",
       "<style scoped>\n",
       "    .dataframe tbody tr th:only-of-type {\n",
       "        vertical-align: middle;\n",
       "    }\n",
       "\n",
       "    .dataframe tbody tr th {\n",
       "        vertical-align: top;\n",
       "    }\n",
       "\n",
       "    .dataframe thead th {\n",
       "        text-align: right;\n",
       "    }\n",
       "</style>\n",
       "<table border=\"1\" class=\"dataframe\">\n",
       "  <thead>\n",
       "    <tr style=\"text-align: right;\">\n",
       "      <th></th>\n",
       "      <th>gene_size</th>\n",
       "      <th>gene_density</th>\n",
       "    </tr>\n",
       "  </thead>\n",
       "  <tbody>\n",
       "    <tr>\n",
       "      <th>NOC2L</th>\n",
       "      <td>5.0</td>\n",
       "      <td>0.106383</td>\n",
       "    </tr>\n",
       "    <tr>\n",
       "      <th>HES4</th>\n",
       "      <td>3.0</td>\n",
       "      <td>0.068182</td>\n",
       "    </tr>\n",
       "    <tr>\n",
       "      <th>ISG15</th>\n",
       "      <td>6.0</td>\n",
       "      <td>0.142857</td>\n",
       "    </tr>\n",
       "    <tr>\n",
       "      <th>AGRN</th>\n",
       "      <td>4.0</td>\n",
       "      <td>0.086957</td>\n",
       "    </tr>\n",
       "    <tr>\n",
       "      <th>TNFRSF18</th>\n",
       "      <td>4.0</td>\n",
       "      <td>0.088889</td>\n",
       "    </tr>\n",
       "  </tbody>\n",
       "</table>\n",
       "</div>"
      ],
      "text/plain": [
       "          gene_size  gene_density\n",
       "NOC2L           5.0      0.106383\n",
       "HES4            3.0      0.068182\n",
       "ISG15           6.0      0.142857\n",
       "AGRN            4.0      0.086957\n",
       "TNFRSF18        4.0      0.088889"
      ]
     },
     "metadata": {},
     "output_type": "display_data"
    }
   ],
   "source": [
    "y_covars = X[[c for c in X.columns if c not in (\"const\", lv_code)]]\n",
    "display(y_covars.head())\n",
    "assert not y_covars.isna().any(None)"
   ]
  },
  {
   "cell_type": "code",
   "execution_count": 201,
   "id": "b824bc76-4dee-4fe5-afe2-bf083ea45cf0",
   "metadata": {},
   "outputs": [],
   "source": [
    "# save covariates\n",
    "y_covars.to_pickle(OUTPUT_DIR / f\"{phenotype_covars_name}.pkl.xz\")"
   ]
  },
  {
   "cell_type": "code",
   "execution_count": 196,
   "id": "9c2749db-7fce-4387-816f-661dc201b7a8",
   "metadata": {},
   "outputs": [
    {
     "name": "stdout",
     "output_type": "stream",
     "text": [
      "                            OLS Regression Results                            \n",
      "==============================================================================\n",
      "Dep. Variable:                      y   R-squared:                       0.001\n",
      "Model:                            OLS   Adj. R-squared:                  0.000\n",
      "Method:                 Least Squares   F-statistic:                     1.210\n",
      "Date:                Mon, 25 Jul 2022   Prob (F-statistic):              0.304\n",
      "Time:                        18:37:33   Log-Likelihood:                -5683.5\n",
      "No. Observations:                6442   AIC:                         1.138e+04\n",
      "Df Residuals:                    6438   BIC:                         1.140e+04\n",
      "Df Model:                           3                                         \n",
      "Covariance Type:            nonrobust                                         \n",
      "================================================================================\n",
      "                   coef    std err          t      P>|t|      [0.025      0.975]\n",
      "--------------------------------------------------------------------------------\n",
      "const            0.7647      0.016     48.535      0.000       0.734       0.796\n",
      "LV45            -0.0445      0.024     -1.854      0.064      -0.092       0.003\n",
      "gene_size       -0.0007      0.003     -0.209      0.834      -0.007       0.006\n",
      "gene_density     0.0198      0.044      0.445      0.656      -0.067       0.107\n",
      "==============================================================================\n",
      "Omnibus:                     1105.929   Durbin-Watson:                   1.630\n",
      "Prob(Omnibus):                  0.000   Jarque-Bera (JB):             1896.057\n",
      "Skew:                           1.121   Prob(JB):                         0.00\n",
      "Kurtosis:                       4.428   Cond. No.                         30.7\n",
      "==============================================================================\n",
      "\n",
      "Notes:\n",
      "[1] Standard Errors assume that the covariance matrix of the errors is correctly specified.\n"
     ]
    }
   ],
   "source": [
    "# for debugging purposes I print the OLS results also\n",
    "_tmp_model = sm.OLS(ys, Xs)\n",
    "_tmp_results = _tmp_model.fit()\n",
    "print(_tmp_results.summary())"
   ]
  },
  {
   "cell_type": "markdown",
   "id": "c317f3ad-3667-4cb6-9db5-7e06ec93d616",
   "metadata": {},
   "source": [
    "## Random phenotype 6 / LV455"
   ]
  },
  {
   "cell_type": "code",
   "execution_count": 210,
   "id": "43db2a62-d944-4fab-beb2-714f2a688a20",
   "metadata": {},
   "outputs": [
    {
     "data": {
      "text/plain": [
       "'multixcan-random_phenotype6-pvalues'"
      ]
     },
     "metadata": {},
     "output_type": "display_data"
    }
   ],
   "source": [
    "lv_code = \"LV455\"\n",
    "phenotype_code = 6\n",
    "\n",
    "phenotype_name_base = f\"multixcan-random_phenotype{phenotype_code}\"\n",
    "phenotype_name = f\"{phenotype_name_base}-pvalues\"\n",
    "display(phenotype_name)"
   ]
  },
  {
   "cell_type": "code",
   "execution_count": 211,
   "id": "a4721d29-ced1-48ee-bdb2-0e3122b04016",
   "metadata": {},
   "outputs": [],
   "source": [
    "X, y = get_data(lv_code, random_phenotype_code=phenotype_code, add_covars=True)\n",
    "corr_mat = get_aligned_corr_mat(X, perc=PERC_NONZERO_GENES)"
   ]
  },
  {
   "cell_type": "code",
   "execution_count": 212,
   "id": "808e5771-5505-4666-aaad-74d1a49f31eb",
   "metadata": {},
   "outputs": [
    {
     "data": {
      "text/html": [
       "<div>\n",
       "<style scoped>\n",
       "    .dataframe tbody tr th:only-of-type {\n",
       "        vertical-align: middle;\n",
       "    }\n",
       "\n",
       "    .dataframe tbody tr th {\n",
       "        vertical-align: top;\n",
       "    }\n",
       "\n",
       "    .dataframe thead th {\n",
       "        text-align: right;\n",
       "    }\n",
       "</style>\n",
       "<table border=\"1\" class=\"dataframe\">\n",
       "  <thead>\n",
       "    <tr style=\"text-align: right;\">\n",
       "      <th></th>\n",
       "      <th>const</th>\n",
       "      <th>LV455</th>\n",
       "      <th>gene_size</th>\n",
       "      <th>gene_density</th>\n",
       "    </tr>\n",
       "  </thead>\n",
       "  <tbody>\n",
       "    <tr>\n",
       "      <th>NOC2L</th>\n",
       "      <td>1.0</td>\n",
       "      <td>0.005223</td>\n",
       "      <td>5.0</td>\n",
       "      <td>0.106383</td>\n",
       "    </tr>\n",
       "    <tr>\n",
       "      <th>HES4</th>\n",
       "      <td>1.0</td>\n",
       "      <td>0.000000</td>\n",
       "      <td>3.0</td>\n",
       "      <td>0.068182</td>\n",
       "    </tr>\n",
       "    <tr>\n",
       "      <th>ISG15</th>\n",
       "      <td>1.0</td>\n",
       "      <td>0.000000</td>\n",
       "      <td>6.0</td>\n",
       "      <td>0.142857</td>\n",
       "    </tr>\n",
       "    <tr>\n",
       "      <th>AGRN</th>\n",
       "      <td>1.0</td>\n",
       "      <td>0.002763</td>\n",
       "      <td>4.0</td>\n",
       "      <td>0.086957</td>\n",
       "    </tr>\n",
       "    <tr>\n",
       "      <th>TNFRSF18</th>\n",
       "      <td>1.0</td>\n",
       "      <td>0.003323</td>\n",
       "      <td>4.0</td>\n",
       "      <td>0.088889</td>\n",
       "    </tr>\n",
       "  </tbody>\n",
       "</table>\n",
       "</div>"
      ],
      "text/plain": [
       "          const     LV455  gene_size  gene_density\n",
       "NOC2L       1.0  0.005223        5.0      0.106383\n",
       "HES4        1.0  0.000000        3.0      0.068182\n",
       "ISG15       1.0  0.000000        6.0      0.142857\n",
       "AGRN        1.0  0.002763        4.0      0.086957\n",
       "TNFRSF18    1.0  0.003323        4.0      0.088889"
      ]
     },
     "execution_count": 212,
     "metadata": {},
     "output_type": "execute_result"
    }
   ],
   "source": [
    "X.head()"
   ]
  },
  {
   "cell_type": "code",
   "execution_count": 213,
   "id": "1baf98d9-045b-4c42-baa2-495ba534a3eb",
   "metadata": {},
   "outputs": [
    {
     "data": {
      "text/plain": [
       "NOC2L       0.325533\n",
       "HES4        0.274247\n",
       "ISG15       1.189163\n",
       "AGRN        1.567185\n",
       "TNFRSF18    0.910990\n",
       "dtype: float64"
      ]
     },
     "execution_count": 213,
     "metadata": {},
     "output_type": "execute_result"
    }
   ],
   "source": [
    "y.head()"
   ]
  },
  {
   "cell_type": "code",
   "execution_count": 214,
   "id": "2a311753-ae29-41e7-99d2-777da81b49e4",
   "metadata": {},
   "outputs": [],
   "source": [
    "Xs, ys = standardize_data(X, y)"
   ]
  },
  {
   "cell_type": "code",
   "execution_count": 215,
   "id": "762345ac-39be-4552-931e-bdfe08f6b77c",
   "metadata": {},
   "outputs": [
    {
     "data": {
      "text/html": [
       "<div>\n",
       "<style scoped>\n",
       "    .dataframe tbody tr th:only-of-type {\n",
       "        vertical-align: middle;\n",
       "    }\n",
       "\n",
       "    .dataframe tbody tr th {\n",
       "        vertical-align: top;\n",
       "    }\n",
       "\n",
       "    .dataframe thead th {\n",
       "        text-align: right;\n",
       "    }\n",
       "</style>\n",
       "<table border=\"1\" class=\"dataframe\">\n",
       "  <thead>\n",
       "    <tr style=\"text-align: right;\">\n",
       "      <th></th>\n",
       "      <th>LV455</th>\n",
       "      <th>gene_size</th>\n",
       "      <th>gene_density</th>\n",
       "    </tr>\n",
       "  </thead>\n",
       "  <tbody>\n",
       "    <tr>\n",
       "      <th>count</th>\n",
       "      <td>6.442000e+03</td>\n",
       "      <td>6.442000e+03</td>\n",
       "      <td>6.442000e+03</td>\n",
       "    </tr>\n",
       "    <tr>\n",
       "      <th>mean</th>\n",
       "      <td>9.485668e-17</td>\n",
       "      <td>1.985372e-17</td>\n",
       "      <td>6.138110e-15</td>\n",
       "    </tr>\n",
       "    <tr>\n",
       "      <th>std</th>\n",
       "      <td>1.000000e+00</td>\n",
       "      <td>1.000000e+00</td>\n",
       "      <td>1.000000e+00</td>\n",
       "    </tr>\n",
       "    <tr>\n",
       "      <th>min</th>\n",
       "      <td>-7.851697e-02</td>\n",
       "      <td>-1.451864e+00</td>\n",
       "      <td>-8.443140e-01</td>\n",
       "    </tr>\n",
       "    <tr>\n",
       "      <th>25%</th>\n",
       "      <td>-7.851697e-02</td>\n",
       "      <td>-5.898049e-01</td>\n",
       "      <td>-5.795094e-01</td>\n",
       "    </tr>\n",
       "    <tr>\n",
       "      <th>50%</th>\n",
       "      <td>-7.851697e-02</td>\n",
       "      <td>-1.587756e-01</td>\n",
       "      <td>-3.389165e-01</td>\n",
       "    </tr>\n",
       "    <tr>\n",
       "      <th>75%</th>\n",
       "      <td>-4.700189e-02</td>\n",
       "      <td>7.032830e-01</td>\n",
       "      <td>1.292323e-01</td>\n",
       "    </tr>\n",
       "    <tr>\n",
       "      <th>max</th>\n",
       "      <td>4.151043e+01</td>\n",
       "      <td>5.875635e+00</td>\n",
       "      <td>4.763313e+00</td>\n",
       "    </tr>\n",
       "  </tbody>\n",
       "</table>\n",
       "</div>"
      ],
      "text/plain": [
       "              LV455     gene_size  gene_density\n",
       "count  6.442000e+03  6.442000e+03  6.442000e+03\n",
       "mean   9.485668e-17  1.985372e-17  6.138110e-15\n",
       "std    1.000000e+00  1.000000e+00  1.000000e+00\n",
       "min   -7.851697e-02 -1.451864e+00 -8.443140e-01\n",
       "25%   -7.851697e-02 -5.898049e-01 -5.795094e-01\n",
       "50%   -7.851697e-02 -1.587756e-01 -3.389165e-01\n",
       "75%   -4.700189e-02  7.032830e-01  1.292323e-01\n",
       "max    4.151043e+01  5.875635e+00  4.763313e+00"
      ]
     },
     "metadata": {},
     "output_type": "display_data"
    }
   ],
   "source": [
    "_Xs_desc = Xs[[lv_code, \"gene_size\", \"gene_density\"]].describe()\n",
    "display(_Xs_desc)\n",
    "assert (_Xs_desc.loc[\"mean\"] < 1e-10).all()\n",
    "assert (_Xs_desc.loc[\"std\"].between(0.9999, 1.00001)).all()"
   ]
  },
  {
   "cell_type": "code",
   "execution_count": 216,
   "id": "ec3c81d9-787b-48ea-a093-93486fd91eaa",
   "metadata": {},
   "outputs": [
    {
     "data": {
      "text/html": [
       "<div>\n",
       "<style scoped>\n",
       "    .dataframe tbody tr th:only-of-type {\n",
       "        vertical-align: middle;\n",
       "    }\n",
       "\n",
       "    .dataframe tbody tr th {\n",
       "        vertical-align: top;\n",
       "    }\n",
       "\n",
       "    .dataframe thead th {\n",
       "        text-align: right;\n",
       "    }\n",
       "</style>\n",
       "<table border=\"1\" class=\"dataframe\">\n",
       "  <thead>\n",
       "    <tr style=\"text-align: right;\">\n",
       "      <th></th>\n",
       "      <th>const</th>\n",
       "      <th>LV455</th>\n",
       "      <th>gene_size</th>\n",
       "      <th>gene_density</th>\n",
       "    </tr>\n",
       "  </thead>\n",
       "  <tbody>\n",
       "    <tr>\n",
       "      <th>NOC2L</th>\n",
       "      <td>1.0</td>\n",
       "      <td>-0.052328</td>\n",
       "      <td>0.272254</td>\n",
       "      <td>-0.352155</td>\n",
       "    </tr>\n",
       "    <tr>\n",
       "      <th>HES4</th>\n",
       "      <td>1.0</td>\n",
       "      <td>-0.078517</td>\n",
       "      <td>-0.589805</td>\n",
       "      <td>-0.570836</td>\n",
       "    </tr>\n",
       "    <tr>\n",
       "      <th>ISG15</th>\n",
       "      <td>1.0</td>\n",
       "      <td>-0.078517</td>\n",
       "      <td>0.703283</td>\n",
       "      <td>-0.143361</td>\n",
       "    </tr>\n",
       "    <tr>\n",
       "      <th>AGRN</th>\n",
       "      <td>1.0</td>\n",
       "      <td>-0.064664</td>\n",
       "      <td>-0.158776</td>\n",
       "      <td>-0.463361</td>\n",
       "    </tr>\n",
       "    <tr>\n",
       "      <th>TNFRSF18</th>\n",
       "      <td>1.0</td>\n",
       "      <td>-0.061858</td>\n",
       "      <td>-0.158776</td>\n",
       "      <td>-0.452299</td>\n",
       "    </tr>\n",
       "  </tbody>\n",
       "</table>\n",
       "</div>"
      ],
      "text/plain": [
       "          const     LV455  gene_size  gene_density\n",
       "NOC2L       1.0 -0.052328   0.272254     -0.352155\n",
       "HES4        1.0 -0.078517  -0.589805     -0.570836\n",
       "ISG15       1.0 -0.078517   0.703283     -0.143361\n",
       "AGRN        1.0 -0.064664  -0.158776     -0.463361\n",
       "TNFRSF18    1.0 -0.061858  -0.158776     -0.452299"
      ]
     },
     "execution_count": 216,
     "metadata": {},
     "output_type": "execute_result"
    }
   ],
   "source": [
    "Xs.head()"
   ]
  },
  {
   "cell_type": "code",
   "execution_count": 217,
   "id": "10d190c5-b014-496b-b9a4-e6b9409fa2b5",
   "metadata": {},
   "outputs": [
    {
     "data": {
      "text/plain": [
       "NOC2L      -0.749961\n",
       "HES4       -0.837645\n",
       "ISG15       0.726586\n",
       "AGRN        1.372890\n",
       "TNFRSF18    0.250993\n",
       "dtype: float64"
      ]
     },
     "execution_count": 217,
     "metadata": {},
     "output_type": "execute_result"
    }
   ],
   "source": [
    "ys.head()"
   ]
  },
  {
   "cell_type": "code",
   "execution_count": 218,
   "id": "4da52cbc-49cc-4d9a-a9e5-3cc58b638279",
   "metadata": {},
   "outputs": [],
   "source": [
    "_gls_results = train_statsmodels_gls(Xs, ys, corr_mat)"
   ]
  },
  {
   "cell_type": "code",
   "execution_count": 219,
   "id": "51f1877e-a4d8-4021-86ae-6fb355007731",
   "metadata": {},
   "outputs": [
    {
     "name": "stdout",
     "output_type": "stream",
     "text": [
      "                            GLS Regression Results                            \n",
      "==============================================================================\n",
      "Dep. Variable:                      y   R-squared:                       0.000\n",
      "Model:                            GLS   Adj. R-squared:                 -0.000\n",
      "Method:                 Least Squares   F-statistic:                    0.1268\n",
      "Date:                Mon, 25 Jul 2022   Prob (F-statistic):              0.944\n",
      "Time:                        19:30:27   Log-Likelihood:                -8695.4\n",
      "No. Observations:                6442   AIC:                         1.740e+04\n",
      "Df Residuals:                    6438   BIC:                         1.743e+04\n",
      "Df Model:                           3                                         \n",
      "Covariance Type:            nonrobust                                         \n",
      "================================================================================\n",
      "                   coef    std err          t      P>|t|      [0.025      0.975]\n",
      "--------------------------------------------------------------------------------\n",
      "const            0.0241      0.025      0.961      0.337      -0.025       0.073\n",
      "LV455            0.0015      0.011      0.129      0.898      -0.021       0.024\n",
      "gene_size       -0.0080      0.013     -0.599      0.549      -0.034       0.018\n",
      "gene_density     0.0001      0.002      0.068      0.946      -0.003       0.003\n",
      "==============================================================================\n",
      "Omnibus:                      927.412   Durbin-Watson:                   1.991\n",
      "Prob(Omnibus):                  0.000   Jarque-Bera (JB):             1531.528\n",
      "Skew:                           0.973   Prob(JB):                         0.00\n",
      "Kurtosis:                       4.387   Cond. No.                         15.2\n",
      "==============================================================================\n",
      "\n",
      "Notes:\n",
      "[1] Standard Errors assume that the covariance matrix of the errors is correctly specified.\n"
     ]
    }
   ],
   "source": [
    "print(_gls_results.summary())"
   ]
  },
  {
   "cell_type": "code",
   "execution_count": 220,
   "id": "19f20e1c-11ac-488a-8980-42dcbe166981",
   "metadata": {},
   "outputs": [
    {
     "data": {
      "text/plain": [
       "const           0.024066\n",
       "LV455           0.001452\n",
       "gene_size      -0.008025\n",
       "gene_density    0.000116\n",
       "dtype: float64"
      ]
     },
     "execution_count": 220,
     "metadata": {},
     "output_type": "execute_result"
    }
   ],
   "source": [
    "_gls_results.params"
   ]
  },
  {
   "cell_type": "code",
   "execution_count": 221,
   "id": "c2e619c2-8312-49c2-b404-dc545c391815",
   "metadata": {},
   "outputs": [
    {
     "name": "stdout",
     "output_type": "stream",
     "text": [
      "0.0014516113831524813\n",
      "0.011295356092071307\n",
      "0.12851399914442976\n",
      "0.8977462345701058\n",
      "0.4488731172850529\n"
     ]
    }
   ],
   "source": [
    "# print full numbers\n",
    "with np.printoptions(threshold=sys.maxsize, precision=20):\n",
    "    print(_gls_results.params.to_numpy()[1])\n",
    "    print(_gls_results.bse.to_numpy()[1])\n",
    "    print(_gls_results.tvalues.to_numpy()[1])\n",
    "    print(_gls_results.pvalues.to_numpy()[1])\n",
    "    print(stats.t.sf(_gls_results.tvalues.to_numpy()[1], _gls_results.df_resid))"
   ]
  },
  {
   "cell_type": "code",
   "execution_count": 222,
   "id": "144cfe46-3f7c-4b68-a89a-cc1f6d80f2bf",
   "metadata": {},
   "outputs": [],
   "source": [
    "# save phenotype\n",
    "y.to_pickle(OUTPUT_DIR / f\"{phenotype_name}.pkl.xz\")"
   ]
  },
  {
   "cell_type": "code",
   "execution_count": 223,
   "id": "f8a37556-ba37-4e7b-a803-31f0864e2a46",
   "metadata": {},
   "outputs": [
    {
     "data": {
      "text/plain": [
       "'multixcan-random_phenotype6-covars'"
      ]
     },
     "metadata": {},
     "output_type": "display_data"
    }
   ],
   "source": [
    "# save covariates\n",
    "phenotype_covars_name = f\"{phenotype_name_base}-covars\"\n",
    "display(phenotype_covars_name)"
   ]
  },
  {
   "cell_type": "code",
   "execution_count": 224,
   "id": "84c1f550-bc09-4eb6-bbeb-ddace6979217",
   "metadata": {},
   "outputs": [
    {
     "data": {
      "text/html": [
       "<div>\n",
       "<style scoped>\n",
       "    .dataframe tbody tr th:only-of-type {\n",
       "        vertical-align: middle;\n",
       "    }\n",
       "\n",
       "    .dataframe tbody tr th {\n",
       "        vertical-align: top;\n",
       "    }\n",
       "\n",
       "    .dataframe thead th {\n",
       "        text-align: right;\n",
       "    }\n",
       "</style>\n",
       "<table border=\"1\" class=\"dataframe\">\n",
       "  <thead>\n",
       "    <tr style=\"text-align: right;\">\n",
       "      <th></th>\n",
       "      <th>gene_size</th>\n",
       "      <th>gene_density</th>\n",
       "    </tr>\n",
       "  </thead>\n",
       "  <tbody>\n",
       "    <tr>\n",
       "      <th>NOC2L</th>\n",
       "      <td>5.0</td>\n",
       "      <td>0.106383</td>\n",
       "    </tr>\n",
       "    <tr>\n",
       "      <th>HES4</th>\n",
       "      <td>3.0</td>\n",
       "      <td>0.068182</td>\n",
       "    </tr>\n",
       "    <tr>\n",
       "      <th>ISG15</th>\n",
       "      <td>6.0</td>\n",
       "      <td>0.142857</td>\n",
       "    </tr>\n",
       "    <tr>\n",
       "      <th>AGRN</th>\n",
       "      <td>4.0</td>\n",
       "      <td>0.086957</td>\n",
       "    </tr>\n",
       "    <tr>\n",
       "      <th>TNFRSF18</th>\n",
       "      <td>4.0</td>\n",
       "      <td>0.088889</td>\n",
       "    </tr>\n",
       "  </tbody>\n",
       "</table>\n",
       "</div>"
      ],
      "text/plain": [
       "          gene_size  gene_density\n",
       "NOC2L           5.0      0.106383\n",
       "HES4            3.0      0.068182\n",
       "ISG15           6.0      0.142857\n",
       "AGRN            4.0      0.086957\n",
       "TNFRSF18        4.0      0.088889"
      ]
     },
     "metadata": {},
     "output_type": "display_data"
    }
   ],
   "source": [
    "y_covars = X[[c for c in X.columns if c not in (\"const\", lv_code)]]\n",
    "display(y_covars.head())\n",
    "assert not y_covars.isna().any(None)"
   ]
  },
  {
   "cell_type": "code",
   "execution_count": 225,
   "id": "6e806921-c4d3-40b0-ac84-c2b78f828a60",
   "metadata": {},
   "outputs": [],
   "source": [
    "# save covariates\n",
    "y_covars.to_pickle(OUTPUT_DIR / f\"{phenotype_covars_name}.pkl.xz\")"
   ]
  },
  {
   "cell_type": "code",
   "execution_count": 226,
   "id": "9fde05c4-94e7-411f-a303-0b55fe998855",
   "metadata": {},
   "outputs": [
    {
     "name": "stdout",
     "output_type": "stream",
     "text": [
      "                            OLS Regression Results                            \n",
      "==============================================================================\n",
      "Dep. Variable:                      y   R-squared:                       0.000\n",
      "Model:                            OLS   Adj. R-squared:                 -0.000\n",
      "Method:                 Least Squares   F-statistic:                    0.1623\n",
      "Date:                Mon, 25 Jul 2022   Prob (F-statistic):              0.922\n",
      "Time:                        19:31:29   Log-Likelihood:                -9140.1\n",
      "No. Observations:                6442   AIC:                         1.829e+04\n",
      "Df Residuals:                    6438   BIC:                         1.832e+04\n",
      "Df Model:                           3                                         \n",
      "Covariance Type:            nonrobust                                         \n",
      "================================================================================\n",
      "                   coef    std err          t      P>|t|      [0.025      0.975]\n",
      "--------------------------------------------------------------------------------\n",
      "const         8.844e-17      0.012    7.1e-15      1.000      -0.024       0.024\n",
      "LV455            0.0067      0.012      0.541      0.588      -0.018       0.031\n",
      "gene_size       -0.0022      0.013     -0.164      0.870      -0.028       0.024\n",
      "gene_density     0.0058      0.013      0.437      0.662      -0.020       0.032\n",
      "==============================================================================\n",
      "Omnibus:                     1108.362   Durbin-Watson:                   1.629\n",
      "Prob(Omnibus):                  0.000   Jarque-Bera (JB):             1902.120\n",
      "Skew:                           1.122   Prob(JB):                         0.00\n",
      "Kurtosis:                       4.431   Cond. No.                         1.42\n",
      "==============================================================================\n",
      "\n",
      "Notes:\n",
      "[1] Standard Errors assume that the covariance matrix of the errors is correctly specified.\n"
     ]
    }
   ],
   "source": [
    "# for debugging purposes I print the OLS results also\n",
    "_tmp_model = sm.OLS(ys, Xs)\n",
    "_tmp_results = _tmp_model.fit()\n",
    "print(_tmp_results.summary())"
   ]
  },
  {
   "cell_type": "markdown",
   "id": "71dd5a78-0edd-4475-a771-7a808106e1ae",
   "metadata": {},
   "source": [
    "## Random phenotype 0 / LV801 (using logarithms)"
   ]
  },
  {
   "cell_type": "code",
   "execution_count": 233,
   "id": "a911713c-b9ff-493e-8dcb-c0adf6de4456",
   "metadata": {},
   "outputs": [
    {
     "data": {
      "text/plain": [
       "'multixcan-random_phenotype0-pvalues'"
      ]
     },
     "metadata": {},
     "output_type": "display_data"
    }
   ],
   "source": [
    "lv_code = \"LV801\"\n",
    "phenotype_code = 0\n",
    "\n",
    "phenotype_name_base = f\"multixcan-random_phenotype{phenotype_code}\"\n",
    "phenotype_name = f\"{phenotype_name_base}-pvalues\"\n",
    "display(phenotype_name)"
   ]
  },
  {
   "cell_type": "code",
   "execution_count": 234,
   "id": "88b34ee2-b461-44a2-aad8-b89a953a0740",
   "metadata": {},
   "outputs": [],
   "source": [
    "X, y = get_data(\n",
    "    lv_code, random_phenotype_code=phenotype_code, add_covars=True, add_covars_logs=True\n",
    ")\n",
    "corr_mat = get_aligned_corr_mat(X, perc=PERC_NONZERO_GENES)"
   ]
  },
  {
   "cell_type": "code",
   "execution_count": 235,
   "id": "975fe0a6-8136-48e1-84f3-f5ba4c5890a8",
   "metadata": {},
   "outputs": [
    {
     "data": {
      "text/html": [
       "<div>\n",
       "<style scoped>\n",
       "    .dataframe tbody tr th:only-of-type {\n",
       "        vertical-align: middle;\n",
       "    }\n",
       "\n",
       "    .dataframe tbody tr th {\n",
       "        vertical-align: top;\n",
       "    }\n",
       "\n",
       "    .dataframe thead th {\n",
       "        text-align: right;\n",
       "    }\n",
       "</style>\n",
       "<table border=\"1\" class=\"dataframe\">\n",
       "  <thead>\n",
       "    <tr style=\"text-align: right;\">\n",
       "      <th></th>\n",
       "      <th>const</th>\n",
       "      <th>LV801</th>\n",
       "      <th>gene_size</th>\n",
       "      <th>gene_density</th>\n",
       "      <th>gene_size_log</th>\n",
       "      <th>gene_density_log</th>\n",
       "    </tr>\n",
       "  </thead>\n",
       "  <tbody>\n",
       "    <tr>\n",
       "      <th>NOC2L</th>\n",
       "      <td>1.0</td>\n",
       "      <td>0.063959</td>\n",
       "      <td>5.0</td>\n",
       "      <td>0.106383</td>\n",
       "      <td>1.609438</td>\n",
       "      <td>2.240710</td>\n",
       "    </tr>\n",
       "    <tr>\n",
       "      <th>HES4</th>\n",
       "      <td>1.0</td>\n",
       "      <td>0.006702</td>\n",
       "      <td>3.0</td>\n",
       "      <td>0.068182</td>\n",
       "      <td>1.098612</td>\n",
       "      <td>2.685577</td>\n",
       "    </tr>\n",
       "    <tr>\n",
       "      <th>ISG15</th>\n",
       "      <td>1.0</td>\n",
       "      <td>0.000000</td>\n",
       "      <td>6.0</td>\n",
       "      <td>0.142857</td>\n",
       "      <td>1.791759</td>\n",
       "      <td>1.945910</td>\n",
       "    </tr>\n",
       "    <tr>\n",
       "      <th>AGRN</th>\n",
       "      <td>1.0</td>\n",
       "      <td>0.005386</td>\n",
       "      <td>4.0</td>\n",
       "      <td>0.086957</td>\n",
       "      <td>1.386294</td>\n",
       "      <td>2.442347</td>\n",
       "    </tr>\n",
       "    <tr>\n",
       "      <th>TNFRSF18</th>\n",
       "      <td>1.0</td>\n",
       "      <td>0.000000</td>\n",
       "      <td>4.0</td>\n",
       "      <td>0.088889</td>\n",
       "      <td>1.386294</td>\n",
       "      <td>2.420368</td>\n",
       "    </tr>\n",
       "  </tbody>\n",
       "</table>\n",
       "</div>"
      ],
      "text/plain": [
       "          const     LV801  gene_size  gene_density  gene_size_log  \\\n",
       "NOC2L       1.0  0.063959        5.0      0.106383       1.609438   \n",
       "HES4        1.0  0.006702        3.0      0.068182       1.098612   \n",
       "ISG15       1.0  0.000000        6.0      0.142857       1.791759   \n",
       "AGRN        1.0  0.005386        4.0      0.086957       1.386294   \n",
       "TNFRSF18    1.0  0.000000        4.0      0.088889       1.386294   \n",
       "\n",
       "          gene_density_log  \n",
       "NOC2L             2.240710  \n",
       "HES4              2.685577  \n",
       "ISG15             1.945910  \n",
       "AGRN              2.442347  \n",
       "TNFRSF18          2.420368  "
      ]
     },
     "execution_count": 235,
     "metadata": {},
     "output_type": "execute_result"
    }
   ],
   "source": [
    "X.head()"
   ]
  },
  {
   "cell_type": "code",
   "execution_count": 236,
   "id": "32cc256a-5ce7-4adf-8487-d153a097e5bf",
   "metadata": {},
   "outputs": [
    {
     "data": {
      "text/plain": [
       "NOC2L       1.192661\n",
       "HES4        0.615835\n",
       "ISG15       1.388647\n",
       "AGRN        0.098554\n",
       "TNFRSF18    0.085000\n",
       "dtype: float64"
      ]
     },
     "execution_count": 236,
     "metadata": {},
     "output_type": "execute_result"
    }
   ],
   "source": [
    "y.head()"
   ]
  },
  {
   "cell_type": "code",
   "execution_count": 237,
   "id": "364d4a3c-8ed6-447e-b115-142bf58ef385",
   "metadata": {},
   "outputs": [],
   "source": [
    "Xs, ys = standardize_data(X, y)"
   ]
  },
  {
   "cell_type": "code",
   "execution_count": 240,
   "id": "4bdbdfc1-7917-4f80-be94-9b1954430f84",
   "metadata": {},
   "outputs": [
    {
     "data": {
      "text/html": [
       "<div>\n",
       "<style scoped>\n",
       "    .dataframe tbody tr th:only-of-type {\n",
       "        vertical-align: middle;\n",
       "    }\n",
       "\n",
       "    .dataframe tbody tr th {\n",
       "        vertical-align: top;\n",
       "    }\n",
       "\n",
       "    .dataframe thead th {\n",
       "        text-align: right;\n",
       "    }\n",
       "</style>\n",
       "<table border=\"1\" class=\"dataframe\">\n",
       "  <thead>\n",
       "    <tr style=\"text-align: right;\">\n",
       "      <th></th>\n",
       "      <th>const</th>\n",
       "      <th>LV801</th>\n",
       "      <th>gene_size</th>\n",
       "      <th>gene_density</th>\n",
       "      <th>gene_size_log</th>\n",
       "      <th>gene_density_log</th>\n",
       "    </tr>\n",
       "  </thead>\n",
       "  <tbody>\n",
       "    <tr>\n",
       "      <th>NOC2L</th>\n",
       "      <td>1.0</td>\n",
       "      <td>0.229344</td>\n",
       "      <td>0.273065</td>\n",
       "      <td>-0.352578</td>\n",
       "      <td>0.498865</td>\n",
       "      <td>0.132924</td>\n",
       "    </tr>\n",
       "    <tr>\n",
       "      <th>HES4</th>\n",
       "      <td>1.0</td>\n",
       "      <td>-0.106576</td>\n",
       "      <td>-0.589866</td>\n",
       "      <td>-0.571477</td>\n",
       "      <td>-0.406298</td>\n",
       "      <td>0.687919</td>\n",
       "    </tr>\n",
       "    <tr>\n",
       "      <th>ISG15</th>\n",
       "      <td>1.0</td>\n",
       "      <td>-0.145894</td>\n",
       "      <td>0.704531</td>\n",
       "      <td>-0.143574</td>\n",
       "      <td>0.821931</td>\n",
       "      <td>-0.234854</td>\n",
       "    </tr>\n",
       "    <tr>\n",
       "      <th>AGRN</th>\n",
       "      <td>1.0</td>\n",
       "      <td>-0.114292</td>\n",
       "      <td>-0.158401</td>\n",
       "      <td>-0.463895</td>\n",
       "      <td>0.103463</td>\n",
       "      <td>0.384477</td>\n",
       "    </tr>\n",
       "    <tr>\n",
       "      <th>TNFRSF18</th>\n",
       "      <td>1.0</td>\n",
       "      <td>-0.145894</td>\n",
       "      <td>-0.158401</td>\n",
       "      <td>-0.452822</td>\n",
       "      <td>0.103463</td>\n",
       "      <td>0.357057</td>\n",
       "    </tr>\n",
       "  </tbody>\n",
       "</table>\n",
       "</div>"
      ],
      "text/plain": [
       "          const     LV801  gene_size  gene_density  gene_size_log  \\\n",
       "NOC2L       1.0  0.229344   0.273065     -0.352578       0.498865   \n",
       "HES4        1.0 -0.106576  -0.589866     -0.571477      -0.406298   \n",
       "ISG15       1.0 -0.145894   0.704531     -0.143574       0.821931   \n",
       "AGRN        1.0 -0.114292  -0.158401     -0.463895       0.103463   \n",
       "TNFRSF18    1.0 -0.145894  -0.158401     -0.452822       0.103463   \n",
       "\n",
       "          gene_density_log  \n",
       "NOC2L             0.132924  \n",
       "HES4              0.687919  \n",
       "ISG15            -0.234854  \n",
       "AGRN              0.384477  \n",
       "TNFRSF18          0.357057  "
      ]
     },
     "execution_count": 240,
     "metadata": {},
     "output_type": "execute_result"
    }
   ],
   "source": [
    "Xs.head()"
   ]
  },
  {
   "cell_type": "code",
   "execution_count": 241,
   "id": "4ab2beeb-bc87-4c68-aa2e-d88b80dd7c84",
   "metadata": {},
   "outputs": [
    {
     "data": {
      "text/plain": [
       "NOC2L       0.697014\n",
       "HES4       -0.258629\n",
       "ISG15       1.021711\n",
       "AGRN       -1.115624\n",
       "TNFRSF18   -1.138078\n",
       "dtype: float64"
      ]
     },
     "execution_count": 241,
     "metadata": {},
     "output_type": "execute_result"
    }
   ],
   "source": [
    "ys.head()"
   ]
  },
  {
   "cell_type": "code",
   "execution_count": 242,
   "id": "ad17c263-6b0f-4460-9978-90ce231a94a5",
   "metadata": {},
   "outputs": [
    {
     "data": {
      "text/html": [
       "<div>\n",
       "<style scoped>\n",
       "    .dataframe tbody tr th:only-of-type {\n",
       "        vertical-align: middle;\n",
       "    }\n",
       "\n",
       "    .dataframe tbody tr th {\n",
       "        vertical-align: top;\n",
       "    }\n",
       "\n",
       "    .dataframe thead th {\n",
       "        text-align: right;\n",
       "    }\n",
       "</style>\n",
       "<table border=\"1\" class=\"dataframe\">\n",
       "  <thead>\n",
       "    <tr style=\"text-align: right;\">\n",
       "      <th></th>\n",
       "      <th>LV801</th>\n",
       "      <th>gene_size</th>\n",
       "      <th>gene_density</th>\n",
       "      <th>gene_size_log</th>\n",
       "      <th>gene_density_log</th>\n",
       "    </tr>\n",
       "  </thead>\n",
       "  <tbody>\n",
       "    <tr>\n",
       "      <th>count</th>\n",
       "      <td>6.442000e+03</td>\n",
       "      <td>6.442000e+03</td>\n",
       "      <td>6.442000e+03</td>\n",
       "      <td>6.442000e+03</td>\n",
       "      <td>6.442000e+03</td>\n",
       "    </tr>\n",
       "    <tr>\n",
       "      <th>mean</th>\n",
       "      <td>-2.150820e-17</td>\n",
       "      <td>1.036806e-16</td>\n",
       "      <td>6.203186e-15</td>\n",
       "      <td>-5.531027e-14</td>\n",
       "      <td>-3.746067e-14</td>\n",
       "    </tr>\n",
       "    <tr>\n",
       "      <th>std</th>\n",
       "      <td>1.000000e+00</td>\n",
       "      <td>1.000000e+00</td>\n",
       "      <td>1.000000e+00</td>\n",
       "      <td>1.000000e+00</td>\n",
       "      <td>1.000000e+00</td>\n",
       "    </tr>\n",
       "    <tr>\n",
       "      <th>min</th>\n",
       "      <td>-1.458936e-01</td>\n",
       "      <td>-1.452798e+00</td>\n",
       "      <td>-8.452287e-01</td>\n",
       "      <td>-2.352994e+00</td>\n",
       "      <td>-2.662478e+00</td>\n",
       "    </tr>\n",
       "    <tr>\n",
       "      <th>25%</th>\n",
       "      <td>-1.458936e-01</td>\n",
       "      <td>-5.898664e-01</td>\n",
       "      <td>-5.801592e-01</td>\n",
       "      <td>-4.062975e-01</td>\n",
       "      <td>-5.937521e-01</td>\n",
       "    </tr>\n",
       "    <tr>\n",
       "      <th>50%</th>\n",
       "      <td>-1.458936e-01</td>\n",
       "      <td>-1.584006e-01</td>\n",
       "      <td>-3.393255e-01</td>\n",
       "      <td>1.034634e-01</td>\n",
       "      <td>1.060938e-01</td>\n",
       "    </tr>\n",
       "    <tr>\n",
       "      <th>75%</th>\n",
       "      <td>-3.586973e-02</td>\n",
       "      <td>7.045311e-01</td>\n",
       "      <td>1.292916e-01</td>\n",
       "      <td>8.219310e-01</td>\n",
       "      <td>7.159554e-01</td>\n",
       "    </tr>\n",
       "    <tr>\n",
       "      <th>max</th>\n",
       "      <td>4.172866e+01</td>\n",
       "      <td>5.882121e+00</td>\n",
       "      <td>4.768008e+00</td>\n",
       "      <td>2.768627e+00</td>\n",
       "      <td>2.192770e+00</td>\n",
       "    </tr>\n",
       "  </tbody>\n",
       "</table>\n",
       "</div>"
      ],
      "text/plain": [
       "              LV801     gene_size  gene_density  gene_size_log  \\\n",
       "count  6.442000e+03  6.442000e+03  6.442000e+03   6.442000e+03   \n",
       "mean  -2.150820e-17  1.036806e-16  6.203186e-15  -5.531027e-14   \n",
       "std    1.000000e+00  1.000000e+00  1.000000e+00   1.000000e+00   \n",
       "min   -1.458936e-01 -1.452798e+00 -8.452287e-01  -2.352994e+00   \n",
       "25%   -1.458936e-01 -5.898664e-01 -5.801592e-01  -4.062975e-01   \n",
       "50%   -1.458936e-01 -1.584006e-01 -3.393255e-01   1.034634e-01   \n",
       "75%   -3.586973e-02  7.045311e-01  1.292916e-01   8.219310e-01   \n",
       "max    4.172866e+01  5.882121e+00  4.768008e+00   2.768627e+00   \n",
       "\n",
       "       gene_density_log  \n",
       "count      6.442000e+03  \n",
       "mean      -3.746067e-14  \n",
       "std        1.000000e+00  \n",
       "min       -2.662478e+00  \n",
       "25%       -5.937521e-01  \n",
       "50%        1.060938e-01  \n",
       "75%        7.159554e-01  \n",
       "max        2.192770e+00  "
      ]
     },
     "metadata": {},
     "output_type": "display_data"
    }
   ],
   "source": [
    "_Xs_desc = Xs[\n",
    "    [lv_code, \"gene_size\", \"gene_density\", \"gene_size_log\", \"gene_density_log\"]\n",
    "].describe()\n",
    "display(_Xs_desc)\n",
    "assert (_Xs_desc.loc[\"mean\"] < 1e-10).all()\n",
    "assert (_Xs_desc.loc[\"std\"].between(0.9999, 1.00001)).all()"
   ]
  },
  {
   "cell_type": "code",
   "execution_count": 243,
   "id": "6eff0ef9-852c-4ab0-8ff3-072c1c40feff",
   "metadata": {},
   "outputs": [],
   "source": [
    "_gls_results = train_statsmodels_gls(Xs, ys, corr_mat)"
   ]
  },
  {
   "cell_type": "code",
   "execution_count": 244,
   "id": "823c4155-c074-4ac3-933e-ebc5e8d538e3",
   "metadata": {},
   "outputs": [
    {
     "name": "stdout",
     "output_type": "stream",
     "text": [
      "                            GLS Regression Results                            \n",
      "==============================================================================\n",
      "Dep. Variable:                      y   R-squared:                       0.000\n",
      "Model:                            GLS   Adj. R-squared:                 -0.000\n",
      "Method:                 Least Squares   F-statistic:                    0.4873\n",
      "Date:                Mon, 25 Jul 2022   Prob (F-statistic):              0.786\n",
      "Time:                        19:42:12   Log-Likelihood:                -8679.2\n",
      "No. Observations:                6442   AIC:                         1.737e+04\n",
      "Df Residuals:                    6436   BIC:                         1.741e+04\n",
      "Df Model:                           5                                         \n",
      "Covariance Type:            nonrobust                                         \n",
      "====================================================================================\n",
      "                       coef    std err          t      P>|t|      [0.025      0.975]\n",
      "------------------------------------------------------------------------------------\n",
      "const               -0.0153      0.025     -0.611      0.541      -0.064       0.034\n",
      "LV801                0.0084      0.011      0.763      0.445      -0.013       0.030\n",
      "gene_size            0.0174      0.034      0.515      0.606      -0.049       0.083\n",
      "gene_density         0.0096      0.012      0.835      0.404      -0.013       0.032\n",
      "gene_size_log       -0.0001      0.034     -0.003      0.997      -0.066       0.066\n",
      "gene_density_log     0.0101      0.012      0.843      0.399      -0.013       0.034\n",
      "==============================================================================\n",
      "Omnibus:                     1352.649   Durbin-Watson:                   2.030\n",
      "Prob(Omnibus):                  0.000   Jarque-Bera (JB):             3527.435\n",
      "Skew:                           1.134   Prob(JB):                         0.00\n",
      "Kurtosis:                       5.828   Cond. No.                         39.0\n",
      "==============================================================================\n",
      "\n",
      "Notes:\n",
      "[1] Standard Errors assume that the covariance matrix of the errors is correctly specified.\n"
     ]
    }
   ],
   "source": [
    "print(_gls_results.summary())"
   ]
  },
  {
   "cell_type": "code",
   "execution_count": 245,
   "id": "dfc22abd-bdf4-497b-b6b4-b1212134e468",
   "metadata": {},
   "outputs": [
    {
     "data": {
      "text/plain": [
       "const              -0.015310\n",
       "LV801               0.008381\n",
       "gene_size           0.017351\n",
       "gene_density        0.009620\n",
       "gene_size_log      -0.000114\n",
       "gene_density_log    0.010104\n",
       "dtype: float64"
      ]
     },
     "execution_count": 245,
     "metadata": {},
     "output_type": "execute_result"
    }
   ],
   "source": [
    "_gls_results.params"
   ]
  },
  {
   "cell_type": "code",
   "execution_count": 246,
   "id": "e0c7f520-c20f-4b74-b652-0ffaa1fbd783",
   "metadata": {},
   "outputs": [
    {
     "name": "stdout",
     "output_type": "stream",
     "text": [
      "0.008380935035632255\n",
      "0.010981760912289579\n",
      "0.7631685940506349\n",
      "0.4453908279763241\n",
      "0.22269541398816206\n"
     ]
    }
   ],
   "source": [
    "# print full numbers\n",
    "with np.printoptions(threshold=sys.maxsize, precision=20):\n",
    "    print(_gls_results.params.to_numpy()[1])\n",
    "    print(_gls_results.bse.to_numpy()[1])\n",
    "    print(_gls_results.tvalues.to_numpy()[1])\n",
    "    print(_gls_results.pvalues.to_numpy()[1])\n",
    "    print(stats.t.sf(_gls_results.tvalues.to_numpy()[1], _gls_results.df_resid))"
   ]
  },
  {
   "cell_type": "code",
   "execution_count": 247,
   "id": "41e9c1e7-b950-48ca-97de-bc9d46504519",
   "metadata": {},
   "outputs": [],
   "source": [
    "# save phenotype\n",
    "y.to_pickle(OUTPUT_DIR / f\"{phenotype_name}.pkl.xz\")"
   ]
  },
  {
   "cell_type": "code",
   "execution_count": 248,
   "id": "a0f046e1-4d0b-498c-8404-73ba8abf37fb",
   "metadata": {},
   "outputs": [
    {
     "data": {
      "text/plain": [
       "'multixcan-random_phenotype0-covars'"
      ]
     },
     "metadata": {},
     "output_type": "display_data"
    }
   ],
   "source": [
    "# save covariates\n",
    "phenotype_covars_name = f\"{phenotype_name_base}-covars\"\n",
    "display(phenotype_covars_name)"
   ]
  },
  {
   "cell_type": "code",
   "execution_count": 249,
   "id": "ec6883c7-6ad5-49ce-970c-ee86ae858847",
   "metadata": {},
   "outputs": [
    {
     "data": {
      "text/html": [
       "<div>\n",
       "<style scoped>\n",
       "    .dataframe tbody tr th:only-of-type {\n",
       "        vertical-align: middle;\n",
       "    }\n",
       "\n",
       "    .dataframe tbody tr th {\n",
       "        vertical-align: top;\n",
       "    }\n",
       "\n",
       "    .dataframe thead th {\n",
       "        text-align: right;\n",
       "    }\n",
       "</style>\n",
       "<table border=\"1\" class=\"dataframe\">\n",
       "  <thead>\n",
       "    <tr style=\"text-align: right;\">\n",
       "      <th></th>\n",
       "      <th>gene_size</th>\n",
       "      <th>gene_density</th>\n",
       "      <th>gene_size_log</th>\n",
       "      <th>gene_density_log</th>\n",
       "    </tr>\n",
       "  </thead>\n",
       "  <tbody>\n",
       "    <tr>\n",
       "      <th>NOC2L</th>\n",
       "      <td>5.0</td>\n",
       "      <td>0.106383</td>\n",
       "      <td>1.609438</td>\n",
       "      <td>2.240710</td>\n",
       "    </tr>\n",
       "    <tr>\n",
       "      <th>HES4</th>\n",
       "      <td>3.0</td>\n",
       "      <td>0.068182</td>\n",
       "      <td>1.098612</td>\n",
       "      <td>2.685577</td>\n",
       "    </tr>\n",
       "    <tr>\n",
       "      <th>ISG15</th>\n",
       "      <td>6.0</td>\n",
       "      <td>0.142857</td>\n",
       "      <td>1.791759</td>\n",
       "      <td>1.945910</td>\n",
       "    </tr>\n",
       "    <tr>\n",
       "      <th>AGRN</th>\n",
       "      <td>4.0</td>\n",
       "      <td>0.086957</td>\n",
       "      <td>1.386294</td>\n",
       "      <td>2.442347</td>\n",
       "    </tr>\n",
       "    <tr>\n",
       "      <th>TNFRSF18</th>\n",
       "      <td>4.0</td>\n",
       "      <td>0.088889</td>\n",
       "      <td>1.386294</td>\n",
       "      <td>2.420368</td>\n",
       "    </tr>\n",
       "  </tbody>\n",
       "</table>\n",
       "</div>"
      ],
      "text/plain": [
       "          gene_size  gene_density  gene_size_log  gene_density_log\n",
       "NOC2L           5.0      0.106383       1.609438          2.240710\n",
       "HES4            3.0      0.068182       1.098612          2.685577\n",
       "ISG15           6.0      0.142857       1.791759          1.945910\n",
       "AGRN            4.0      0.086957       1.386294          2.442347\n",
       "TNFRSF18        4.0      0.088889       1.386294          2.420368"
      ]
     },
     "metadata": {},
     "output_type": "display_data"
    }
   ],
   "source": [
    "y_covars = X[[c for c in X.columns if c not in (\"const\", lv_code)]]\n",
    "display(y_covars.head())\n",
    "assert not y_covars.isna().any(None)"
   ]
  },
  {
   "cell_type": "code",
   "execution_count": 250,
   "id": "e1bdb158-f682-4260-ac70-5efe3f7617fb",
   "metadata": {},
   "outputs": [],
   "source": [
    "# save covariates\n",
    "y_covars.to_pickle(OUTPUT_DIR / f\"{phenotype_covars_name}.pkl.xz\")"
   ]
  },
  {
   "cell_type": "code",
   "execution_count": 251,
   "id": "7c3c5f89-7653-4e9f-9e73-5f36e1ddd99f",
   "metadata": {},
   "outputs": [
    {
     "name": "stdout",
     "output_type": "stream",
     "text": [
      "                            OLS Regression Results                            \n",
      "==============================================================================\n",
      "Dep. Variable:                      y   R-squared:                       0.001\n",
      "Model:                            OLS   Adj. R-squared:                  0.000\n",
      "Method:                 Least Squares   F-statistic:                     1.166\n",
      "Date:                Mon, 25 Jul 2022   Prob (F-statistic):              0.323\n",
      "Time:                        19:42:40   Log-Likelihood:                -9137.4\n",
      "No. Observations:                6442   AIC:                         1.829e+04\n",
      "Df Residuals:                    6436   BIC:                         1.833e+04\n",
      "Df Model:                           5                                         \n",
      "Covariance Type:            nonrobust                                         \n",
      "====================================================================================\n",
      "                       coef    std err          t      P>|t|      [0.025      0.975]\n",
      "------------------------------------------------------------------------------------\n",
      "const             5.551e-15      0.012   4.46e-13      1.000      -0.024       0.024\n",
      "LV801                0.0180      0.012      1.446      0.148      -0.006       0.042\n",
      "gene_size           -0.0242      0.038     -0.634      0.526      -0.099       0.051\n",
      "gene_density         0.0619      0.036      1.744      0.081      -0.008       0.132\n",
      "gene_size_log        0.0599      0.045      1.333      0.183      -0.028       0.148\n",
      "gene_density_log     0.0721      0.042      1.707      0.088      -0.011       0.155\n",
      "==============================================================================\n",
      "Omnibus:                     1068.335   Durbin-Watson:                   1.619\n",
      "Prob(Omnibus):                  0.000   Jarque-Bera (JB):             1774.869\n",
      "Skew:                           1.106   Prob(JB):                         0.00\n",
      "Kurtosis:                       4.310   Cond. No.                         9.30\n",
      "==============================================================================\n",
      "\n",
      "Notes:\n",
      "[1] Standard Errors assume that the covariance matrix of the errors is correctly specified.\n"
     ]
    }
   ],
   "source": [
    "# for debugging purposes I print the OLS results also\n",
    "_tmp_model = sm.OLS(ys, Xs)\n",
    "_tmp_results = _tmp_model.fit()\n",
    "print(_tmp_results.summary())"
   ]
  },
  {
   "cell_type": "markdown",
   "id": "da9fc486-dcd6-4a84-854e-73160284171f",
   "metadata": {
    "papermill": {
     "duration": 0.012899,
     "end_time": "2022-07-11T13:23:15.569947",
     "exception": false,
     "start_time": "2022-07-11T13:23:15.557048",
     "status": "completed"
    },
    "tags": []
   },
   "source": [
    "# [full corr matrix] GLS on randomly generated phenotypes using SNP-level covariates"
   ]
  },
  {
   "cell_type": "code",
   "execution_count": 235,
   "id": "42143d81-a6d8-485b-b8ca-778be2e4747d",
   "metadata": {},
   "outputs": [],
   "source": [
    "PERC_NONZERO_GENES = None"
   ]
  },
  {
   "cell_type": "markdown",
   "id": "21d6737a-ff0d-487c-b026-fbb2fa8e5428",
   "metadata": {},
   "source": [
    "## Random phenotype 6 / LV45"
   ]
  },
  {
   "cell_type": "code",
   "execution_count": 236,
   "id": "2ddb9997-bfac-4ff1-b03a-79d09947a307",
   "metadata": {},
   "outputs": [
    {
     "data": {
      "text/plain": [
       "'multixcan-random_phenotype6-pvalues'"
      ]
     },
     "metadata": {},
     "output_type": "display_data"
    }
   ],
   "source": [
    "lv_code = \"LV45\"\n",
    "phenotype_code = 6\n",
    "\n",
    "phenotype_name_base = f\"multixcan-random_phenotype{phenotype_code}\"\n",
    "phenotype_name = f\"{phenotype_name_base}-pvalues\"\n",
    "display(phenotype_name)"
   ]
  },
  {
   "cell_type": "code",
   "execution_count": 237,
   "id": "31c520d7-a730-4a4b-9a86-b5ac7cc8cd60",
   "metadata": {},
   "outputs": [],
   "source": [
    "X, y = get_data(lv_code, random_phenotype_code=phenotype_code, add_snplevel_covars=True)\n",
    "corr_mat = get_aligned_corr_mat(X, perc=PERC_NONZERO_GENES)"
   ]
  },
  {
   "cell_type": "code",
   "execution_count": 238,
   "id": "2c2851e1-9e55-4f63-b3c5-49a954dfacec",
   "metadata": {},
   "outputs": [
    {
     "data": {
      "text/html": [
       "<div>\n",
       "<style scoped>\n",
       "    .dataframe tbody tr th:only-of-type {\n",
       "        vertical-align: middle;\n",
       "    }\n",
       "\n",
       "    .dataframe tbody tr th {\n",
       "        vertical-align: top;\n",
       "    }\n",
       "\n",
       "    .dataframe thead th {\n",
       "        text-align: right;\n",
       "    }\n",
       "</style>\n",
       "<table border=\"1\" class=\"dataframe\">\n",
       "  <thead>\n",
       "    <tr style=\"text-align: right;\">\n",
       "      <th></th>\n",
       "      <th>const</th>\n",
       "      <th>LV45</th>\n",
       "      <th>gene_n_snps_used</th>\n",
       "      <th>gene_n_snps_used_density</th>\n",
       "    </tr>\n",
       "  </thead>\n",
       "  <tbody>\n",
       "    <tr>\n",
       "      <th>NOC2L</th>\n",
       "      <td>1.0</td>\n",
       "      <td>0.0</td>\n",
       "      <td>103</td>\n",
       "      <td>0.980952</td>\n",
       "    </tr>\n",
       "    <tr>\n",
       "      <th>HES4</th>\n",
       "      <td>1.0</td>\n",
       "      <td>0.0</td>\n",
       "      <td>55</td>\n",
       "      <td>0.785714</td>\n",
       "    </tr>\n",
       "    <tr>\n",
       "      <th>ISG15</th>\n",
       "      <td>1.0</td>\n",
       "      <td>0.0</td>\n",
       "      <td>59</td>\n",
       "      <td>0.967213</td>\n",
       "    </tr>\n",
       "    <tr>\n",
       "      <th>AGRN</th>\n",
       "      <td>1.0</td>\n",
       "      <td>0.0</td>\n",
       "      <td>75</td>\n",
       "      <td>0.728155</td>\n",
       "    </tr>\n",
       "    <tr>\n",
       "      <th>TNFRSF18</th>\n",
       "      <td>1.0</td>\n",
       "      <td>0.0</td>\n",
       "      <td>65</td>\n",
       "      <td>0.984848</td>\n",
       "    </tr>\n",
       "  </tbody>\n",
       "</table>\n",
       "</div>"
      ],
      "text/plain": [
       "          const  LV45  gene_n_snps_used  gene_n_snps_used_density\n",
       "NOC2L       1.0   0.0               103                  0.980952\n",
       "HES4        1.0   0.0                55                  0.785714\n",
       "ISG15       1.0   0.0                59                  0.967213\n",
       "AGRN        1.0   0.0                75                  0.728155\n",
       "TNFRSF18    1.0   0.0                65                  0.984848"
      ]
     },
     "execution_count": 238,
     "metadata": {},
     "output_type": "execute_result"
    }
   ],
   "source": [
    "X.head()"
   ]
  },
  {
   "cell_type": "code",
   "execution_count": 239,
   "id": "24d185a3-505e-497f-8dab-0c6c8ffb2f7a",
   "metadata": {},
   "outputs": [
    {
     "data": {
      "text/plain": [
       "NOC2L       0.325533\n",
       "HES4        0.274247\n",
       "ISG15       1.189163\n",
       "AGRN        1.567185\n",
       "TNFRSF18    0.910990\n",
       "dtype: float64"
      ]
     },
     "execution_count": 239,
     "metadata": {},
     "output_type": "execute_result"
    }
   ],
   "source": [
    "y.head()"
   ]
  },
  {
   "cell_type": "code",
   "execution_count": 240,
   "id": "c9819fee-007f-4f46-b157-b5002650f47c",
   "metadata": {},
   "outputs": [],
   "source": [
    "Xs, ys = standardize_data(X, y)"
   ]
  },
  {
   "cell_type": "code",
   "execution_count": 241,
   "id": "5f39ed21-38d2-41ab-a70b-df00a0f85e52",
   "metadata": {},
   "outputs": [
    {
     "data": {
      "text/html": [
       "<div>\n",
       "<style scoped>\n",
       "    .dataframe tbody tr th:only-of-type {\n",
       "        vertical-align: middle;\n",
       "    }\n",
       "\n",
       "    .dataframe tbody tr th {\n",
       "        vertical-align: top;\n",
       "    }\n",
       "\n",
       "    .dataframe thead th {\n",
       "        text-align: right;\n",
       "    }\n",
       "</style>\n",
       "<table border=\"1\" class=\"dataframe\">\n",
       "  <thead>\n",
       "    <tr style=\"text-align: right;\">\n",
       "      <th></th>\n",
       "      <th>LV45</th>\n",
       "      <th>gene_n_snps_used</th>\n",
       "      <th>gene_n_snps_used_density</th>\n",
       "    </tr>\n",
       "  </thead>\n",
       "  <tbody>\n",
       "    <tr>\n",
       "      <th>count</th>\n",
       "      <td>6.442000e+03</td>\n",
       "      <td>6.442000e+03</td>\n",
       "      <td>6.442000e+03</td>\n",
       "    </tr>\n",
       "    <tr>\n",
       "      <th>mean</th>\n",
       "      <td>1.323582e-17</td>\n",
       "      <td>-1.323582e-17</td>\n",
       "      <td>-4.720774e-16</td>\n",
       "    </tr>\n",
       "    <tr>\n",
       "      <th>std</th>\n",
       "      <td>1.000000e+00</td>\n",
       "      <td>1.000000e+00</td>\n",
       "      <td>1.000000e+00</td>\n",
       "    </tr>\n",
       "    <tr>\n",
       "      <th>min</th>\n",
       "      <td>-5.995686e-02</td>\n",
       "      <td>-1.842751e+00</td>\n",
       "      <td>-6.719716e+00</td>\n",
       "    </tr>\n",
       "    <tr>\n",
       "      <th>25%</th>\n",
       "      <td>-5.995686e-02</td>\n",
       "      <td>-7.128726e-01</td>\n",
       "      <td>9.723914e-02</td>\n",
       "    </tr>\n",
       "    <tr>\n",
       "      <th>50%</th>\n",
       "      <td>-5.995686e-02</td>\n",
       "      <td>-4.823810e-02</td>\n",
       "      <td>4.851960e-01</td>\n",
       "    </tr>\n",
       "    <tr>\n",
       "      <th>75%</th>\n",
       "      <td>-5.995686e-02</td>\n",
       "      <td>6.828598e-01</td>\n",
       "      <td>4.851960e-01</td>\n",
       "    </tr>\n",
       "    <tr>\n",
       "      <th>max</th>\n",
       "      <td>2.786523e+01</td>\n",
       "      <td>4.903289e+00</td>\n",
       "      <td>4.851960e-01</td>\n",
       "    </tr>\n",
       "  </tbody>\n",
       "</table>\n",
       "</div>"
      ],
      "text/plain": [
       "               LV45  gene_n_snps_used  gene_n_snps_used_density\n",
       "count  6.442000e+03      6.442000e+03              6.442000e+03\n",
       "mean   1.323582e-17     -1.323582e-17             -4.720774e-16\n",
       "std    1.000000e+00      1.000000e+00              1.000000e+00\n",
       "min   -5.995686e-02     -1.842751e+00             -6.719716e+00\n",
       "25%   -5.995686e-02     -7.128726e-01              9.723914e-02\n",
       "50%   -5.995686e-02     -4.823810e-02              4.851960e-01\n",
       "75%   -5.995686e-02      6.828598e-01              4.851960e-01\n",
       "max    2.786523e+01      4.903289e+00              4.851960e-01"
      ]
     },
     "metadata": {},
     "output_type": "display_data"
    }
   ],
   "source": [
    "_Xs_desc = Xs[[lv_code, \"gene_n_snps_used\", \"gene_n_snps_used_density\"]].describe()\n",
    "display(_Xs_desc)\n",
    "assert (_Xs_desc.loc[\"mean\"] < 1e-10).all()\n",
    "assert (_Xs_desc.loc[\"std\"].between(0.9999, 1.00001)).all()"
   ]
  },
  {
   "cell_type": "code",
   "execution_count": 242,
   "id": "425f52d3-4a99-4cb9-ae0e-cf02dd6257ce",
   "metadata": {},
   "outputs": [
    {
     "data": {
      "text/html": [
       "<div>\n",
       "<style scoped>\n",
       "    .dataframe tbody tr th:only-of-type {\n",
       "        vertical-align: middle;\n",
       "    }\n",
       "\n",
       "    .dataframe tbody tr th {\n",
       "        vertical-align: top;\n",
       "    }\n",
       "\n",
       "    .dataframe thead th {\n",
       "        text-align: right;\n",
       "    }\n",
       "</style>\n",
       "<table border=\"1\" class=\"dataframe\">\n",
       "  <thead>\n",
       "    <tr style=\"text-align: right;\">\n",
       "      <th></th>\n",
       "      <th>const</th>\n",
       "      <th>LV45</th>\n",
       "      <th>gene_n_snps_used</th>\n",
       "      <th>gene_n_snps_used_density</th>\n",
       "    </tr>\n",
       "  </thead>\n",
       "  <tbody>\n",
       "    <tr>\n",
       "      <th>NOC2L</th>\n",
       "      <td>1.0</td>\n",
       "      <td>-0.059957</td>\n",
       "      <td>1.546885</td>\n",
       "      <td>0.293065</td>\n",
       "    </tr>\n",
       "    <tr>\n",
       "      <th>HES4</th>\n",
       "      <td>1.0</td>\n",
       "      <td>-0.059957</td>\n",
       "      <td>-0.048238</td>\n",
       "      <td>-1.676278</td>\n",
       "    </tr>\n",
       "    <tr>\n",
       "      <th>ISG15</th>\n",
       "      <td>1.0</td>\n",
       "      <td>-0.059957</td>\n",
       "      <td>0.084689</td>\n",
       "      <td>0.154479</td>\n",
       "    </tr>\n",
       "    <tr>\n",
       "      <th>AGRN</th>\n",
       "      <td>1.0</td>\n",
       "      <td>-0.059957</td>\n",
       "      <td>0.616396</td>\n",
       "      <td>-2.256868</td>\n",
       "    </tr>\n",
       "    <tr>\n",
       "      <th>TNFRSF18</th>\n",
       "      <td>1.0</td>\n",
       "      <td>-0.059957</td>\n",
       "      <td>0.284079</td>\n",
       "      <td>0.332364</td>\n",
       "    </tr>\n",
       "  </tbody>\n",
       "</table>\n",
       "</div>"
      ],
      "text/plain": [
       "          const      LV45  gene_n_snps_used  gene_n_snps_used_density\n",
       "NOC2L       1.0 -0.059957          1.546885                  0.293065\n",
       "HES4        1.0 -0.059957         -0.048238                 -1.676278\n",
       "ISG15       1.0 -0.059957          0.084689                  0.154479\n",
       "AGRN        1.0 -0.059957          0.616396                 -2.256868\n",
       "TNFRSF18    1.0 -0.059957          0.284079                  0.332364"
      ]
     },
     "execution_count": 242,
     "metadata": {},
     "output_type": "execute_result"
    }
   ],
   "source": [
    "Xs.head()"
   ]
  },
  {
   "cell_type": "code",
   "execution_count": 243,
   "id": "f365abaa-4894-4583-b339-2ad3d4e40b20",
   "metadata": {},
   "outputs": [
    {
     "data": {
      "text/plain": [
       "NOC2L      -0.749961\n",
       "HES4       -0.837645\n",
       "ISG15       0.726586\n",
       "AGRN        1.372890\n",
       "TNFRSF18    0.250993\n",
       "dtype: float64"
      ]
     },
     "execution_count": 243,
     "metadata": {},
     "output_type": "execute_result"
    }
   ],
   "source": [
    "ys.head()"
   ]
  },
  {
   "cell_type": "code",
   "execution_count": 244,
   "id": "bdb88a0c-b649-423c-8039-f831d5df583b",
   "metadata": {},
   "outputs": [],
   "source": [
    "_gls_results = train_statsmodels_gls(Xs, ys, corr_mat)"
   ]
  },
  {
   "cell_type": "code",
   "execution_count": 245,
   "id": "25880814-ad7a-49c2-bba8-f43d548ac238",
   "metadata": {},
   "outputs": [
    {
     "name": "stdout",
     "output_type": "stream",
     "text": [
      "                            GLS Regression Results                            \n",
      "==============================================================================\n",
      "Dep. Variable:                      y   R-squared:                       0.000\n",
      "Model:                            GLS   Adj. R-squared:                 -0.000\n",
      "Method:                 Least Squares   F-statistic:                    0.2187\n",
      "Date:                Wed, 27 Jul 2022   Prob (F-statistic):              0.883\n",
      "Time:                        19:01:06   Log-Likelihood:                -8695.2\n",
      "No. Observations:                6442   AIC:                         1.740e+04\n",
      "Df Residuals:                    6438   BIC:                         1.743e+04\n",
      "Df Model:                           3                                         \n",
      "Covariance Type:            nonrobust                                         \n",
      "============================================================================================\n",
      "                               coef    std err          t      P>|t|      [0.025      0.975]\n",
      "--------------------------------------------------------------------------------------------\n",
      "const                        0.0278      0.024      1.148      0.251      -0.020       0.075\n",
      "LV45                        -0.0032      0.009     -0.376      0.707      -0.020       0.014\n",
      "gene_n_snps_used            -0.0065      0.009     -0.710      0.477      -0.024       0.011\n",
      "gene_n_snps_used_density    -0.0007      0.002     -0.396      0.692      -0.004       0.003\n",
      "==============================================================================\n",
      "Omnibus:                      925.553   Durbin-Watson:                   1.990\n",
      "Prob(Omnibus):                  0.000   Jarque-Bera (JB):             1526.457\n",
      "Skew:                           0.971   Prob(JB):                         0.00\n",
      "Kurtosis:                       4.383   Cond. No.                         15.7\n",
      "==============================================================================\n",
      "\n",
      "Notes:\n",
      "[1] Standard Errors assume that the covariance matrix of the errors is correctly specified.\n"
     ]
    }
   ],
   "source": [
    "print(_gls_results.summary())"
   ]
  },
  {
   "cell_type": "code",
   "execution_count": 246,
   "id": "bb9d3104-d7eb-4fb4-adff-017ca648a90c",
   "metadata": {},
   "outputs": [
    {
     "data": {
      "text/plain": [
       "const                       0.027752\n",
       "LV45                       -0.003228\n",
       "gene_n_snps_used           -0.006508\n",
       "gene_n_snps_used_density   -0.000690\n",
       "dtype: float64"
      ]
     },
     "execution_count": 246,
     "metadata": {},
     "output_type": "execute_result"
    }
   ],
   "source": [
    "_gls_results.params"
   ]
  },
  {
   "cell_type": "code",
   "execution_count": 247,
   "id": "bec450ef-efd6-4dfd-9021-575c8cfb9de2",
   "metadata": {},
   "outputs": [
    {
     "name": "stdout",
     "output_type": "stream",
     "text": [
      "-0.003227698021391237\n",
      "0.00859069240125604\n",
      "-0.37572035764187267\n",
      "0.7071371805607842\n",
      "0.646431409719608\n"
     ]
    }
   ],
   "source": [
    "# print full numbers\n",
    "with np.printoptions(threshold=sys.maxsize, precision=20):\n",
    "    print(_gls_results.params.to_numpy()[1])\n",
    "    print(_gls_results.bse.to_numpy()[1])\n",
    "    print(_gls_results.tvalues.to_numpy()[1])\n",
    "    print(_gls_results.pvalues.to_numpy()[1])\n",
    "    print(stats.t.sf(_gls_results.tvalues.to_numpy()[1], _gls_results.df_resid))"
   ]
  },
  {
   "cell_type": "code",
   "execution_count": 248,
   "id": "f537e4c1-d213-4db1-a96c-bf31cbd6da38",
   "metadata": {},
   "outputs": [],
   "source": [
    "# save phenotype\n",
    "y.to_pickle(OUTPUT_DIR / f\"{phenotype_name}.pkl.xz\")"
   ]
  },
  {
   "cell_type": "code",
   "execution_count": 249,
   "id": "5b9b82f0-c9cb-476f-abef-0e9b2b0b592f",
   "metadata": {},
   "outputs": [
    {
     "data": {
      "text/plain": [
       "'multixcan-random_phenotype6-snplevel_covars'"
      ]
     },
     "metadata": {},
     "output_type": "display_data"
    }
   ],
   "source": [
    "# save covariates\n",
    "phenotype_covars_name = f\"{phenotype_name_base}-snplevel_covars\"\n",
    "display(phenotype_covars_name)"
   ]
  },
  {
   "cell_type": "code",
   "execution_count": 250,
   "id": "66247433-870c-4983-bd62-96290060969f",
   "metadata": {},
   "outputs": [
    {
     "data": {
      "text/html": [
       "<div>\n",
       "<style scoped>\n",
       "    .dataframe tbody tr th:only-of-type {\n",
       "        vertical-align: middle;\n",
       "    }\n",
       "\n",
       "    .dataframe tbody tr th {\n",
       "        vertical-align: top;\n",
       "    }\n",
       "\n",
       "    .dataframe thead th {\n",
       "        text-align: right;\n",
       "    }\n",
       "</style>\n",
       "<table border=\"1\" class=\"dataframe\">\n",
       "  <thead>\n",
       "    <tr style=\"text-align: right;\">\n",
       "      <th></th>\n",
       "      <th>gene_n_snps_used</th>\n",
       "      <th>gene_n_snps_used_density</th>\n",
       "    </tr>\n",
       "  </thead>\n",
       "  <tbody>\n",
       "    <tr>\n",
       "      <th>NOC2L</th>\n",
       "      <td>103</td>\n",
       "      <td>0.980952</td>\n",
       "    </tr>\n",
       "    <tr>\n",
       "      <th>HES4</th>\n",
       "      <td>55</td>\n",
       "      <td>0.785714</td>\n",
       "    </tr>\n",
       "    <tr>\n",
       "      <th>ISG15</th>\n",
       "      <td>59</td>\n",
       "      <td>0.967213</td>\n",
       "    </tr>\n",
       "    <tr>\n",
       "      <th>AGRN</th>\n",
       "      <td>75</td>\n",
       "      <td>0.728155</td>\n",
       "    </tr>\n",
       "    <tr>\n",
       "      <th>TNFRSF18</th>\n",
       "      <td>65</td>\n",
       "      <td>0.984848</td>\n",
       "    </tr>\n",
       "  </tbody>\n",
       "</table>\n",
       "</div>"
      ],
      "text/plain": [
       "          gene_n_snps_used  gene_n_snps_used_density\n",
       "NOC2L                  103                  0.980952\n",
       "HES4                    55                  0.785714\n",
       "ISG15                   59                  0.967213\n",
       "AGRN                    75                  0.728155\n",
       "TNFRSF18                65                  0.984848"
      ]
     },
     "metadata": {},
     "output_type": "display_data"
    }
   ],
   "source": [
    "y_covars = X[[c for c in X.columns if c not in (\"const\", lv_code)]]\n",
    "display(y_covars.head())\n",
    "assert not y_covars.isna().any(None)"
   ]
  },
  {
   "cell_type": "code",
   "execution_count": 251,
   "id": "ab6bd764-7f0f-4a2d-bf1d-a42b3c8a910f",
   "metadata": {},
   "outputs": [],
   "source": [
    "# save covariates\n",
    "y_covars.to_pickle(OUTPUT_DIR / f\"{phenotype_covars_name}.pkl.xz\")"
   ]
  },
  {
   "cell_type": "code",
   "execution_count": 252,
   "id": "4cdc1364-7acb-472b-a08a-5b29a0e6dd99",
   "metadata": {},
   "outputs": [
    {
     "name": "stdout",
     "output_type": "stream",
     "text": [
      "                            OLS Regression Results                            \n",
      "==============================================================================\n",
      "Dep. Variable:                      y   R-squared:                       0.001\n",
      "Model:                            OLS   Adj. R-squared:                  0.000\n",
      "Method:                 Least Squares   F-statistic:                     1.301\n",
      "Date:                Wed, 27 Jul 2022   Prob (F-statistic):              0.272\n",
      "Time:                        19:01:23   Log-Likelihood:                -9138.4\n",
      "No. Observations:                6442   AIC:                         1.828e+04\n",
      "Df Residuals:                    6438   BIC:                         1.831e+04\n",
      "Df Model:                           3                                         \n",
      "Covariance Type:            nonrobust                                         \n",
      "============================================================================================\n",
      "                               coef    std err          t      P>|t|      [0.025      0.975]\n",
      "--------------------------------------------------------------------------------------------\n",
      "const                     8.844e-17      0.012    7.1e-15      1.000      -0.024       0.024\n",
      "LV45                        -0.0228      0.012     -1.832      0.067      -0.047       0.002\n",
      "gene_n_snps_used             0.0031      0.013      0.249      0.803      -0.021       0.028\n",
      "gene_n_snps_used_density     0.0077      0.013      0.619      0.536      -0.017       0.032\n",
      "==============================================================================\n",
      "Omnibus:                     1106.722   Durbin-Watson:                   1.630\n",
      "Prob(Omnibus):                  0.000   Jarque-Bera (JB):             1898.498\n",
      "Skew:                           1.121   Prob(JB):                         0.00\n",
      "Kurtosis:                       4.430   Cond. No.                         1.09\n",
      "==============================================================================\n",
      "\n",
      "Notes:\n",
      "[1] Standard Errors assume that the covariance matrix of the errors is correctly specified.\n"
     ]
    }
   ],
   "source": [
    "# for debugging purposes I print the OLS results also\n",
    "_tmp_model = sm.OLS(ys, Xs)\n",
    "_tmp_results = _tmp_model.fit()\n",
    "print(_tmp_results.summary())"
   ]
  },
  {
   "cell_type": "markdown",
   "id": "021115fe-73a9-4639-9d5c-0d47f231b99d",
   "metadata": {},
   "source": [
    "## Random phenotype 6 / LV455"
   ]
  },
  {
   "cell_type": "code",
   "execution_count": 259,
   "id": "3ad27e29-f635-4afa-9754-d2f1cc6783b0",
   "metadata": {},
   "outputs": [
    {
     "data": {
      "text/plain": [
       "'multixcan-random_phenotype6-pvalues'"
      ]
     },
     "metadata": {},
     "output_type": "display_data"
    }
   ],
   "source": [
    "lv_code = \"LV455\"\n",
    "phenotype_code = 6\n",
    "\n",
    "phenotype_name_base = f\"multixcan-random_phenotype{phenotype_code}\"\n",
    "phenotype_name = f\"{phenotype_name_base}-pvalues\"\n",
    "display(phenotype_name)"
   ]
  },
  {
   "cell_type": "code",
   "execution_count": 260,
   "id": "5c3c7de1-ff88-434b-97fb-b80b53b414dd",
   "metadata": {},
   "outputs": [],
   "source": [
    "X, y = get_data(lv_code, random_phenotype_code=phenotype_code, add_snplevel_covars=True)\n",
    "corr_mat = get_aligned_corr_mat(X, perc=PERC_NONZERO_GENES)"
   ]
  },
  {
   "cell_type": "code",
   "execution_count": 261,
   "id": "5463693b-5ace-44ef-8110-bd16aaadb27c",
   "metadata": {},
   "outputs": [
    {
     "data": {
      "text/html": [
       "<div>\n",
       "<style scoped>\n",
       "    .dataframe tbody tr th:only-of-type {\n",
       "        vertical-align: middle;\n",
       "    }\n",
       "\n",
       "    .dataframe tbody tr th {\n",
       "        vertical-align: top;\n",
       "    }\n",
       "\n",
       "    .dataframe thead th {\n",
       "        text-align: right;\n",
       "    }\n",
       "</style>\n",
       "<table border=\"1\" class=\"dataframe\">\n",
       "  <thead>\n",
       "    <tr style=\"text-align: right;\">\n",
       "      <th></th>\n",
       "      <th>const</th>\n",
       "      <th>LV455</th>\n",
       "      <th>gene_n_snps_used</th>\n",
       "      <th>gene_n_snps_used_density</th>\n",
       "    </tr>\n",
       "  </thead>\n",
       "  <tbody>\n",
       "    <tr>\n",
       "      <th>NOC2L</th>\n",
       "      <td>1.0</td>\n",
       "      <td>0.005223</td>\n",
       "      <td>103</td>\n",
       "      <td>0.980952</td>\n",
       "    </tr>\n",
       "    <tr>\n",
       "      <th>HES4</th>\n",
       "      <td>1.0</td>\n",
       "      <td>0.000000</td>\n",
       "      <td>55</td>\n",
       "      <td>0.785714</td>\n",
       "    </tr>\n",
       "    <tr>\n",
       "      <th>ISG15</th>\n",
       "      <td>1.0</td>\n",
       "      <td>0.000000</td>\n",
       "      <td>59</td>\n",
       "      <td>0.967213</td>\n",
       "    </tr>\n",
       "    <tr>\n",
       "      <th>AGRN</th>\n",
       "      <td>1.0</td>\n",
       "      <td>0.002763</td>\n",
       "      <td>75</td>\n",
       "      <td>0.728155</td>\n",
       "    </tr>\n",
       "    <tr>\n",
       "      <th>TNFRSF18</th>\n",
       "      <td>1.0</td>\n",
       "      <td>0.003323</td>\n",
       "      <td>65</td>\n",
       "      <td>0.984848</td>\n",
       "    </tr>\n",
       "  </tbody>\n",
       "</table>\n",
       "</div>"
      ],
      "text/plain": [
       "          const     LV455  gene_n_snps_used  gene_n_snps_used_density\n",
       "NOC2L       1.0  0.005223               103                  0.980952\n",
       "HES4        1.0  0.000000                55                  0.785714\n",
       "ISG15       1.0  0.000000                59                  0.967213\n",
       "AGRN        1.0  0.002763                75                  0.728155\n",
       "TNFRSF18    1.0  0.003323                65                  0.984848"
      ]
     },
     "execution_count": 261,
     "metadata": {},
     "output_type": "execute_result"
    }
   ],
   "source": [
    "X.head()"
   ]
  },
  {
   "cell_type": "code",
   "execution_count": 262,
   "id": "8d49162c-d994-4129-874d-67fdcddd0bdc",
   "metadata": {},
   "outputs": [
    {
     "data": {
      "text/plain": [
       "NOC2L       0.325533\n",
       "HES4        0.274247\n",
       "ISG15       1.189163\n",
       "AGRN        1.567185\n",
       "TNFRSF18    0.910990\n",
       "dtype: float64"
      ]
     },
     "execution_count": 262,
     "metadata": {},
     "output_type": "execute_result"
    }
   ],
   "source": [
    "y.head()"
   ]
  },
  {
   "cell_type": "code",
   "execution_count": 263,
   "id": "ce59802d-d46b-4ddf-acdc-629ee7a9d7fd",
   "metadata": {},
   "outputs": [],
   "source": [
    "Xs, ys = standardize_data(X, y)"
   ]
  },
  {
   "cell_type": "code",
   "execution_count": 264,
   "id": "84342a93-6d18-4571-82c1-2549bc352798",
   "metadata": {},
   "outputs": [
    {
     "data": {
      "text/html": [
       "<div>\n",
       "<style scoped>\n",
       "    .dataframe tbody tr th:only-of-type {\n",
       "        vertical-align: middle;\n",
       "    }\n",
       "\n",
       "    .dataframe tbody tr th {\n",
       "        vertical-align: top;\n",
       "    }\n",
       "\n",
       "    .dataframe thead th {\n",
       "        text-align: right;\n",
       "    }\n",
       "</style>\n",
       "<table border=\"1\" class=\"dataframe\">\n",
       "  <thead>\n",
       "    <tr style=\"text-align: right;\">\n",
       "      <th></th>\n",
       "      <th>LV455</th>\n",
       "      <th>gene_n_snps_used</th>\n",
       "      <th>gene_n_snps_used_density</th>\n",
       "    </tr>\n",
       "  </thead>\n",
       "  <tbody>\n",
       "    <tr>\n",
       "      <th>count</th>\n",
       "      <td>6.442000e+03</td>\n",
       "      <td>6.442000e+03</td>\n",
       "      <td>6.442000e+03</td>\n",
       "    </tr>\n",
       "    <tr>\n",
       "      <th>mean</th>\n",
       "      <td>-4.411939e-18</td>\n",
       "      <td>-1.323582e-17</td>\n",
       "      <td>-4.720774e-16</td>\n",
       "    </tr>\n",
       "    <tr>\n",
       "      <th>std</th>\n",
       "      <td>1.000000e+00</td>\n",
       "      <td>1.000000e+00</td>\n",
       "      <td>1.000000e+00</td>\n",
       "    </tr>\n",
       "    <tr>\n",
       "      <th>min</th>\n",
       "      <td>-7.851697e-02</td>\n",
       "      <td>-1.842751e+00</td>\n",
       "      <td>-6.719716e+00</td>\n",
       "    </tr>\n",
       "    <tr>\n",
       "      <th>25%</th>\n",
       "      <td>-7.851697e-02</td>\n",
       "      <td>-7.128726e-01</td>\n",
       "      <td>9.723914e-02</td>\n",
       "    </tr>\n",
       "    <tr>\n",
       "      <th>50%</th>\n",
       "      <td>-7.851697e-02</td>\n",
       "      <td>-4.823810e-02</td>\n",
       "      <td>4.851960e-01</td>\n",
       "    </tr>\n",
       "    <tr>\n",
       "      <th>75%</th>\n",
       "      <td>-4.700189e-02</td>\n",
       "      <td>6.828598e-01</td>\n",
       "      <td>4.851960e-01</td>\n",
       "    </tr>\n",
       "    <tr>\n",
       "      <th>max</th>\n",
       "      <td>4.151043e+01</td>\n",
       "      <td>4.903289e+00</td>\n",
       "      <td>4.851960e-01</td>\n",
       "    </tr>\n",
       "  </tbody>\n",
       "</table>\n",
       "</div>"
      ],
      "text/plain": [
       "              LV455  gene_n_snps_used  gene_n_snps_used_density\n",
       "count  6.442000e+03      6.442000e+03              6.442000e+03\n",
       "mean  -4.411939e-18     -1.323582e-17             -4.720774e-16\n",
       "std    1.000000e+00      1.000000e+00              1.000000e+00\n",
       "min   -7.851697e-02     -1.842751e+00             -6.719716e+00\n",
       "25%   -7.851697e-02     -7.128726e-01              9.723914e-02\n",
       "50%   -7.851697e-02     -4.823810e-02              4.851960e-01\n",
       "75%   -4.700189e-02      6.828598e-01              4.851960e-01\n",
       "max    4.151043e+01      4.903289e+00              4.851960e-01"
      ]
     },
     "metadata": {},
     "output_type": "display_data"
    }
   ],
   "source": [
    "_Xs_desc = Xs[[lv_code, \"gene_n_snps_used\", \"gene_n_snps_used_density\"]].describe()\n",
    "display(_Xs_desc)\n",
    "assert (_Xs_desc.loc[\"mean\"] < 1e-10).all()\n",
    "assert (_Xs_desc.loc[\"std\"].between(0.9999, 1.00001)).all()"
   ]
  },
  {
   "cell_type": "code",
   "execution_count": 265,
   "id": "4fad6d4e-8a9e-4b75-b7c0-09c1d1d18ff1",
   "metadata": {},
   "outputs": [
    {
     "data": {
      "text/html": [
       "<div>\n",
       "<style scoped>\n",
       "    .dataframe tbody tr th:only-of-type {\n",
       "        vertical-align: middle;\n",
       "    }\n",
       "\n",
       "    .dataframe tbody tr th {\n",
       "        vertical-align: top;\n",
       "    }\n",
       "\n",
       "    .dataframe thead th {\n",
       "        text-align: right;\n",
       "    }\n",
       "</style>\n",
       "<table border=\"1\" class=\"dataframe\">\n",
       "  <thead>\n",
       "    <tr style=\"text-align: right;\">\n",
       "      <th></th>\n",
       "      <th>const</th>\n",
       "      <th>LV455</th>\n",
       "      <th>gene_n_snps_used</th>\n",
       "      <th>gene_n_snps_used_density</th>\n",
       "    </tr>\n",
       "  </thead>\n",
       "  <tbody>\n",
       "    <tr>\n",
       "      <th>NOC2L</th>\n",
       "      <td>1.0</td>\n",
       "      <td>-0.052328</td>\n",
       "      <td>1.546885</td>\n",
       "      <td>0.293065</td>\n",
       "    </tr>\n",
       "    <tr>\n",
       "      <th>HES4</th>\n",
       "      <td>1.0</td>\n",
       "      <td>-0.078517</td>\n",
       "      <td>-0.048238</td>\n",
       "      <td>-1.676278</td>\n",
       "    </tr>\n",
       "    <tr>\n",
       "      <th>ISG15</th>\n",
       "      <td>1.0</td>\n",
       "      <td>-0.078517</td>\n",
       "      <td>0.084689</td>\n",
       "      <td>0.154479</td>\n",
       "    </tr>\n",
       "    <tr>\n",
       "      <th>AGRN</th>\n",
       "      <td>1.0</td>\n",
       "      <td>-0.064664</td>\n",
       "      <td>0.616396</td>\n",
       "      <td>-2.256868</td>\n",
       "    </tr>\n",
       "    <tr>\n",
       "      <th>TNFRSF18</th>\n",
       "      <td>1.0</td>\n",
       "      <td>-0.061858</td>\n",
       "      <td>0.284079</td>\n",
       "      <td>0.332364</td>\n",
       "    </tr>\n",
       "  </tbody>\n",
       "</table>\n",
       "</div>"
      ],
      "text/plain": [
       "          const     LV455  gene_n_snps_used  gene_n_snps_used_density\n",
       "NOC2L       1.0 -0.052328          1.546885                  0.293065\n",
       "HES4        1.0 -0.078517         -0.048238                 -1.676278\n",
       "ISG15       1.0 -0.078517          0.084689                  0.154479\n",
       "AGRN        1.0 -0.064664          0.616396                 -2.256868\n",
       "TNFRSF18    1.0 -0.061858          0.284079                  0.332364"
      ]
     },
     "execution_count": 265,
     "metadata": {},
     "output_type": "execute_result"
    }
   ],
   "source": [
    "Xs.head()"
   ]
  },
  {
   "cell_type": "code",
   "execution_count": 266,
   "id": "454f076b-f546-42be-9972-b3271d9e6c42",
   "metadata": {},
   "outputs": [
    {
     "data": {
      "text/plain": [
       "NOC2L      -0.749961\n",
       "HES4       -0.837645\n",
       "ISG15       0.726586\n",
       "AGRN        1.372890\n",
       "TNFRSF18    0.250993\n",
       "dtype: float64"
      ]
     },
     "execution_count": 266,
     "metadata": {},
     "output_type": "execute_result"
    }
   ],
   "source": [
    "ys.head()"
   ]
  },
  {
   "cell_type": "code",
   "execution_count": 267,
   "id": "905671c4-8d2f-44a5-bd8d-5677eef7c414",
   "metadata": {},
   "outputs": [],
   "source": [
    "_gls_results = train_statsmodels_gls(Xs, ys, corr_mat)"
   ]
  },
  {
   "cell_type": "code",
   "execution_count": 268,
   "id": "39d86c5b-fc99-45cb-983a-6596e4ba8758",
   "metadata": {},
   "outputs": [
    {
     "name": "stdout",
     "output_type": "stream",
     "text": [
      "                            GLS Regression Results                            \n",
      "==============================================================================\n",
      "Dep. Variable:                      y   R-squared:                       0.000\n",
      "Model:                            GLS   Adj. R-squared:                 -0.000\n",
      "Method:                 Least Squares   F-statistic:                    0.1802\n",
      "Date:                Wed, 27 Jul 2022   Prob (F-statistic):              0.910\n",
      "Time:                        19:04:12   Log-Likelihood:                -8695.3\n",
      "No. Observations:                6442   AIC:                         1.740e+04\n",
      "Df Residuals:                    6438   BIC:                         1.743e+04\n",
      "Df Model:                           3                                         \n",
      "Covariance Type:            nonrobust                                         \n",
      "============================================================================================\n",
      "                               coef    std err          t      P>|t|      [0.025      0.975]\n",
      "--------------------------------------------------------------------------------------------\n",
      "const                        0.0279      0.024      1.155      0.248      -0.019       0.075\n",
      "LV455                        0.0018      0.011      0.160      0.873      -0.021       0.024\n",
      "gene_n_snps_used            -0.0065      0.009     -0.712      0.476      -0.024       0.011\n",
      "gene_n_snps_used_density    -0.0008      0.002     -0.424      0.672      -0.004       0.003\n",
      "==============================================================================\n",
      "Omnibus:                      925.960   Durbin-Watson:                   1.990\n",
      "Prob(Omnibus):                  0.000   Jarque-Bera (JB):             1527.251\n",
      "Skew:                           0.972   Prob(JB):                         0.00\n",
      "Kurtosis:                       4.383   Cond. No.                         15.7\n",
      "==============================================================================\n",
      "\n",
      "Notes:\n",
      "[1] Standard Errors assume that the covariance matrix of the errors is correctly specified.\n"
     ]
    }
   ],
   "source": [
    "print(_gls_results.summary())"
   ]
  },
  {
   "cell_type": "code",
   "execution_count": 269,
   "id": "a54ff803-6101-4e87-b338-5fa86bb33eab",
   "metadata": {},
   "outputs": [
    {
     "data": {
      "text/plain": [
       "const                       0.027903\n",
       "LV455                       0.001828\n",
       "gene_n_snps_used           -0.006525\n",
       "gene_n_snps_used_density   -0.000758\n",
       "dtype: float64"
      ]
     },
     "execution_count": 269,
     "metadata": {},
     "output_type": "execute_result"
    }
   ],
   "source": [
    "_gls_results.params"
   ]
  },
  {
   "cell_type": "code",
   "execution_count": 270,
   "id": "c5e40783-5d4b-4a34-8f20-abd9a492be96",
   "metadata": {},
   "outputs": [
    {
     "name": "stdout",
     "output_type": "stream",
     "text": [
      "0.0018276464593873108\n",
      "0.01139385148318154\n",
      "0.16040637900933666\n",
      "0.8725659975131534\n",
      "0.4362829987565767\n"
     ]
    }
   ],
   "source": [
    "# print full numbers\n",
    "with np.printoptions(threshold=sys.maxsize, precision=20):\n",
    "    print(_gls_results.params.to_numpy()[1])\n",
    "    print(_gls_results.bse.to_numpy()[1])\n",
    "    print(_gls_results.tvalues.to_numpy()[1])\n",
    "    print(_gls_results.pvalues.to_numpy()[1])\n",
    "    print(stats.t.sf(_gls_results.tvalues.to_numpy()[1], _gls_results.df_resid))"
   ]
  },
  {
   "cell_type": "code",
   "execution_count": 271,
   "id": "1446b301-7695-4f0d-aa46-ed21669cdcc3",
   "metadata": {},
   "outputs": [],
   "source": [
    "# save phenotype\n",
    "y.to_pickle(OUTPUT_DIR / f\"{phenotype_name}.pkl.xz\")"
   ]
  },
  {
   "cell_type": "code",
   "execution_count": 272,
   "id": "88dc1ab3-17f1-4647-b113-153818c5be40",
   "metadata": {},
   "outputs": [
    {
     "data": {
      "text/plain": [
       "'multixcan-random_phenotype6-snplevel_covars'"
      ]
     },
     "metadata": {},
     "output_type": "display_data"
    }
   ],
   "source": [
    "# save covariates\n",
    "phenotype_covars_name = f\"{phenotype_name_base}-snplevel_covars\"\n",
    "display(phenotype_covars_name)"
   ]
  },
  {
   "cell_type": "code",
   "execution_count": 273,
   "id": "8202293c-56b8-492a-ba1b-3aa2ab25017c",
   "metadata": {},
   "outputs": [
    {
     "data": {
      "text/html": [
       "<div>\n",
       "<style scoped>\n",
       "    .dataframe tbody tr th:only-of-type {\n",
       "        vertical-align: middle;\n",
       "    }\n",
       "\n",
       "    .dataframe tbody tr th {\n",
       "        vertical-align: top;\n",
       "    }\n",
       "\n",
       "    .dataframe thead th {\n",
       "        text-align: right;\n",
       "    }\n",
       "</style>\n",
       "<table border=\"1\" class=\"dataframe\">\n",
       "  <thead>\n",
       "    <tr style=\"text-align: right;\">\n",
       "      <th></th>\n",
       "      <th>gene_n_snps_used</th>\n",
       "      <th>gene_n_snps_used_density</th>\n",
       "    </tr>\n",
       "  </thead>\n",
       "  <tbody>\n",
       "    <tr>\n",
       "      <th>NOC2L</th>\n",
       "      <td>103</td>\n",
       "      <td>0.980952</td>\n",
       "    </tr>\n",
       "    <tr>\n",
       "      <th>HES4</th>\n",
       "      <td>55</td>\n",
       "      <td>0.785714</td>\n",
       "    </tr>\n",
       "    <tr>\n",
       "      <th>ISG15</th>\n",
       "      <td>59</td>\n",
       "      <td>0.967213</td>\n",
       "    </tr>\n",
       "    <tr>\n",
       "      <th>AGRN</th>\n",
       "      <td>75</td>\n",
       "      <td>0.728155</td>\n",
       "    </tr>\n",
       "    <tr>\n",
       "      <th>TNFRSF18</th>\n",
       "      <td>65</td>\n",
       "      <td>0.984848</td>\n",
       "    </tr>\n",
       "  </tbody>\n",
       "</table>\n",
       "</div>"
      ],
      "text/plain": [
       "          gene_n_snps_used  gene_n_snps_used_density\n",
       "NOC2L                  103                  0.980952\n",
       "HES4                    55                  0.785714\n",
       "ISG15                   59                  0.967213\n",
       "AGRN                    75                  0.728155\n",
       "TNFRSF18                65                  0.984848"
      ]
     },
     "metadata": {},
     "output_type": "display_data"
    }
   ],
   "source": [
    "y_covars = X[[c for c in X.columns if c not in (\"const\", lv_code)]]\n",
    "display(y_covars.head())\n",
    "assert not y_covars.isna().any(None)"
   ]
  },
  {
   "cell_type": "code",
   "execution_count": 274,
   "id": "509f7a11-34b9-4b06-9011-1c731fb57571",
   "metadata": {},
   "outputs": [],
   "source": [
    "# save covariates\n",
    "y_covars.to_pickle(OUTPUT_DIR / f\"{phenotype_covars_name}.pkl.xz\")"
   ]
  },
  {
   "cell_type": "code",
   "execution_count": 275,
   "id": "b6f45fe0-efc6-4a7b-941d-0411c8530ecc",
   "metadata": {},
   "outputs": [
    {
     "name": "stdout",
     "output_type": "stream",
     "text": [
      "                            OLS Regression Results                            \n",
      "==============================================================================\n",
      "Dep. Variable:                      y   R-squared:                       0.000\n",
      "Model:                            OLS   Adj. R-squared:                 -0.000\n",
      "Method:                 Least Squares   F-statistic:                    0.2819\n",
      "Date:                Wed, 27 Jul 2022   Prob (F-statistic):              0.838\n",
      "Time:                        19:04:34   Log-Likelihood:                -9139.9\n",
      "No. Observations:                6442   AIC:                         1.829e+04\n",
      "Df Residuals:                    6438   BIC:                         1.831e+04\n",
      "Df Model:                           3                                         \n",
      "Covariance Type:            nonrobust                                         \n",
      "============================================================================================\n",
      "                               coef    std err          t      P>|t|      [0.025      0.975]\n",
      "--------------------------------------------------------------------------------------------\n",
      "const                     8.844e-17      0.012    7.1e-15      1.000      -0.024       0.024\n",
      "LV455                        0.0068      0.012      0.550      0.583      -0.018       0.031\n",
      "gene_n_snps_used             0.0037      0.013      0.298      0.765      -0.021       0.028\n",
      "gene_n_snps_used_density     0.0082      0.013      0.652      0.514      -0.016       0.033\n",
      "==============================================================================\n",
      "Omnibus:                     1109.354   Durbin-Watson:                   1.630\n",
      "Prob(Omnibus):                  0.000   Jarque-Bera (JB):             1905.180\n",
      "Skew:                           1.123   Prob(JB):                         0.00\n",
      "Kurtosis:                       4.433   Cond. No.                         1.09\n",
      "==============================================================================\n",
      "\n",
      "Notes:\n",
      "[1] Standard Errors assume that the covariance matrix of the errors is correctly specified.\n"
     ]
    }
   ],
   "source": [
    "# for debugging purposes I print the OLS results also\n",
    "_tmp_model = sm.OLS(ys, Xs)\n",
    "_tmp_results = _tmp_model.fit()\n",
    "print(_tmp_results.summary())"
   ]
  },
  {
   "cell_type": "markdown",
   "id": "139e0c20-0ae6-48c8-8f0f-07ddd83ceb5f",
   "metadata": {},
   "source": [
    "## Random phenotype 0 / LV801 (using logarithms)"
   ]
  },
  {
   "cell_type": "code",
   "execution_count": 281,
   "id": "114e13a5-8cf5-4ad8-ac60-bd3387ec8969",
   "metadata": {},
   "outputs": [
    {
     "data": {
      "text/plain": [
       "'multixcan-random_phenotype0-pvalues'"
      ]
     },
     "metadata": {},
     "output_type": "display_data"
    }
   ],
   "source": [
    "lv_code = \"LV801\"\n",
    "phenotype_code = 0\n",
    "\n",
    "phenotype_name_base = f\"multixcan-random_phenotype{phenotype_code}\"\n",
    "phenotype_name = f\"{phenotype_name_base}-pvalues\"\n",
    "display(phenotype_name)"
   ]
  },
  {
   "cell_type": "code",
   "execution_count": 282,
   "id": "cbf1e388-6c23-4d1d-b8be-c17aed305354",
   "metadata": {},
   "outputs": [],
   "source": [
    "X, y = get_data(\n",
    "    lv_code,\n",
    "    random_phenotype_code=phenotype_code,\n",
    "    add_snplevel_covars=True,\n",
    "    add_covars_logs=True,\n",
    ")\n",
    "corr_mat = get_aligned_corr_mat(X, perc=PERC_NONZERO_GENES)"
   ]
  },
  {
   "cell_type": "code",
   "execution_count": 283,
   "id": "3e6537ba-0757-4e27-89f3-98c803eafef3",
   "metadata": {},
   "outputs": [
    {
     "data": {
      "text/html": [
       "<div>\n",
       "<style scoped>\n",
       "    .dataframe tbody tr th:only-of-type {\n",
       "        vertical-align: middle;\n",
       "    }\n",
       "\n",
       "    .dataframe tbody tr th {\n",
       "        vertical-align: top;\n",
       "    }\n",
       "\n",
       "    .dataframe thead th {\n",
       "        text-align: right;\n",
       "    }\n",
       "</style>\n",
       "<table border=\"1\" class=\"dataframe\">\n",
       "  <thead>\n",
       "    <tr style=\"text-align: right;\">\n",
       "      <th></th>\n",
       "      <th>const</th>\n",
       "      <th>LV801</th>\n",
       "      <th>gene_n_snps_used</th>\n",
       "      <th>gene_n_snps_used_density</th>\n",
       "      <th>gene_n_snps_used_log</th>\n",
       "      <th>gene_n_snps_used_density_log</th>\n",
       "    </tr>\n",
       "  </thead>\n",
       "  <tbody>\n",
       "    <tr>\n",
       "      <th>NOC2L</th>\n",
       "      <td>1.0</td>\n",
       "      <td>0.063959</td>\n",
       "      <td>103</td>\n",
       "      <td>0.980952</td>\n",
       "      <td>4.634729</td>\n",
       "      <td>0.019231</td>\n",
       "    </tr>\n",
       "    <tr>\n",
       "      <th>HES4</th>\n",
       "      <td>1.0</td>\n",
       "      <td>0.006702</td>\n",
       "      <td>55</td>\n",
       "      <td>0.785714</td>\n",
       "      <td>4.007333</td>\n",
       "      <td>0.241162</td>\n",
       "    </tr>\n",
       "    <tr>\n",
       "      <th>ISG15</th>\n",
       "      <td>1.0</td>\n",
       "      <td>0.000000</td>\n",
       "      <td>59</td>\n",
       "      <td>0.967213</td>\n",
       "      <td>4.077537</td>\n",
       "      <td>0.033336</td>\n",
       "    </tr>\n",
       "    <tr>\n",
       "      <th>AGRN</th>\n",
       "      <td>1.0</td>\n",
       "      <td>0.005386</td>\n",
       "      <td>75</td>\n",
       "      <td>0.728155</td>\n",
       "      <td>4.317488</td>\n",
       "      <td>0.317241</td>\n",
       "    </tr>\n",
       "    <tr>\n",
       "      <th>TNFRSF18</th>\n",
       "      <td>1.0</td>\n",
       "      <td>0.000000</td>\n",
       "      <td>65</td>\n",
       "      <td>0.984848</td>\n",
       "      <td>4.174387</td>\n",
       "      <td>0.015267</td>\n",
       "    </tr>\n",
       "  </tbody>\n",
       "</table>\n",
       "</div>"
      ],
      "text/plain": [
       "          const     LV801  gene_n_snps_used  gene_n_snps_used_density  \\\n",
       "NOC2L       1.0  0.063959               103                  0.980952   \n",
       "HES4        1.0  0.006702                55                  0.785714   \n",
       "ISG15       1.0  0.000000                59                  0.967213   \n",
       "AGRN        1.0  0.005386                75                  0.728155   \n",
       "TNFRSF18    1.0  0.000000                65                  0.984848   \n",
       "\n",
       "          gene_n_snps_used_log  gene_n_snps_used_density_log  \n",
       "NOC2L                 4.634729                      0.019231  \n",
       "HES4                  4.007333                      0.241162  \n",
       "ISG15                 4.077537                      0.033336  \n",
       "AGRN                  4.317488                      0.317241  \n",
       "TNFRSF18              4.174387                      0.015267  "
      ]
     },
     "execution_count": 283,
     "metadata": {},
     "output_type": "execute_result"
    }
   ],
   "source": [
    "X.head()"
   ]
  },
  {
   "cell_type": "code",
   "execution_count": 284,
   "id": "c2d79dc8-a52d-499b-ad62-b7f934a10bfc",
   "metadata": {},
   "outputs": [
    {
     "data": {
      "text/plain": [
       "NOC2L       1.192661\n",
       "HES4        0.615835\n",
       "ISG15       1.388647\n",
       "AGRN        0.098554\n",
       "TNFRSF18    0.085000\n",
       "dtype: float64"
      ]
     },
     "execution_count": 284,
     "metadata": {},
     "output_type": "execute_result"
    }
   ],
   "source": [
    "y.head()"
   ]
  },
  {
   "cell_type": "code",
   "execution_count": 285,
   "id": "115ebafb-efda-4d3d-9f25-a5ea9d9a13c2",
   "metadata": {},
   "outputs": [],
   "source": [
    "Xs, ys = standardize_data(X, y)"
   ]
  },
  {
   "cell_type": "code",
   "execution_count": 286,
   "id": "6d9f1cb8-6ac8-4f24-bf11-9ac45c1a79d8",
   "metadata": {},
   "outputs": [
    {
     "data": {
      "text/html": [
       "<div>\n",
       "<style scoped>\n",
       "    .dataframe tbody tr th:only-of-type {\n",
       "        vertical-align: middle;\n",
       "    }\n",
       "\n",
       "    .dataframe tbody tr th {\n",
       "        vertical-align: top;\n",
       "    }\n",
       "\n",
       "    .dataframe thead th {\n",
       "        text-align: right;\n",
       "    }\n",
       "</style>\n",
       "<table border=\"1\" class=\"dataframe\">\n",
       "  <thead>\n",
       "    <tr style=\"text-align: right;\">\n",
       "      <th></th>\n",
       "      <th>LV801</th>\n",
       "      <th>gene_n_snps_used</th>\n",
       "      <th>gene_n_snps_used_log</th>\n",
       "      <th>gene_n_snps_used_density</th>\n",
       "      <th>gene_n_snps_used_density_log</th>\n",
       "    </tr>\n",
       "  </thead>\n",
       "  <tbody>\n",
       "    <tr>\n",
       "      <th>count</th>\n",
       "      <td>6.442000e+03</td>\n",
       "      <td>6.442000e+03</td>\n",
       "      <td>6.442000e+03</td>\n",
       "      <td>6.442000e+03</td>\n",
       "      <td>6.442000e+03</td>\n",
       "    </tr>\n",
       "    <tr>\n",
       "      <th>mean</th>\n",
       "      <td>1.875074e-17</td>\n",
       "      <td>-1.323582e-17</td>\n",
       "      <td>-5.404625e-17</td>\n",
       "      <td>-4.720774e-16</td>\n",
       "      <td>-2.205969e-17</td>\n",
       "    </tr>\n",
       "    <tr>\n",
       "      <th>std</th>\n",
       "      <td>1.000000e+00</td>\n",
       "      <td>1.000000e+00</td>\n",
       "      <td>1.000000e+00</td>\n",
       "      <td>1.000000e+00</td>\n",
       "      <td>1.000000e+00</td>\n",
       "    </tr>\n",
       "    <tr>\n",
       "      <th>min</th>\n",
       "      <td>-1.458936e-01</td>\n",
       "      <td>-1.842751e+00</td>\n",
       "      <td>-4.799240e+00</td>\n",
       "      <td>-6.719716e+00</td>\n",
       "      <td>-4.480473e-01</td>\n",
       "    </tr>\n",
       "    <tr>\n",
       "      <th>25%</th>\n",
       "      <td>-1.458936e-01</td>\n",
       "      <td>-7.128726e-01</td>\n",
       "      <td>-3.279627e-01</td>\n",
       "      <td>9.723914e-02</td>\n",
       "      <td>-4.480473e-01</td>\n",
       "    </tr>\n",
       "    <tr>\n",
       "      <th>50%</th>\n",
       "      <td>-1.458936e-01</td>\n",
       "      <td>-4.823810e-02</td>\n",
       "      <td>2.404629e-01</td>\n",
       "      <td>4.851960e-01</td>\n",
       "      <td>-4.480473e-01</td>\n",
       "    </tr>\n",
       "    <tr>\n",
       "      <th>75%</th>\n",
       "      <td>-3.586973e-02</td>\n",
       "      <td>6.828598e-01</td>\n",
       "      <td>6.636172e-01</td>\n",
       "      <td>4.851960e-01</td>\n",
       "      <td>-1.354569e-01</td>\n",
       "    </tr>\n",
       "    <tr>\n",
       "      <th>max</th>\n",
       "      <td>4.172866e+01</td>\n",
       "      <td>4.903289e+00</td>\n",
       "      <td>1.888935e+00</td>\n",
       "      <td>4.851960e-01</td>\n",
       "      <td>9.536515e+00</td>\n",
       "    </tr>\n",
       "  </tbody>\n",
       "</table>\n",
       "</div>"
      ],
      "text/plain": [
       "              LV801  gene_n_snps_used  gene_n_snps_used_log  \\\n",
       "count  6.442000e+03      6.442000e+03          6.442000e+03   \n",
       "mean   1.875074e-17     -1.323582e-17         -5.404625e-17   \n",
       "std    1.000000e+00      1.000000e+00          1.000000e+00   \n",
       "min   -1.458936e-01     -1.842751e+00         -4.799240e+00   \n",
       "25%   -1.458936e-01     -7.128726e-01         -3.279627e-01   \n",
       "50%   -1.458936e-01     -4.823810e-02          2.404629e-01   \n",
       "75%   -3.586973e-02      6.828598e-01          6.636172e-01   \n",
       "max    4.172866e+01      4.903289e+00          1.888935e+00   \n",
       "\n",
       "       gene_n_snps_used_density  gene_n_snps_used_density_log  \n",
       "count              6.442000e+03                  6.442000e+03  \n",
       "mean              -4.720774e-16                 -2.205969e-17  \n",
       "std                1.000000e+00                  1.000000e+00  \n",
       "min               -6.719716e+00                 -4.480473e-01  \n",
       "25%                9.723914e-02                 -4.480473e-01  \n",
       "50%                4.851960e-01                 -4.480473e-01  \n",
       "75%                4.851960e-01                 -1.354569e-01  \n",
       "max                4.851960e-01                  9.536515e+00  "
      ]
     },
     "metadata": {},
     "output_type": "display_data"
    }
   ],
   "source": [
    "_Xs_desc = Xs[\n",
    "    [\n",
    "        lv_code,\n",
    "        \"gene_n_snps_used\",\n",
    "        \"gene_n_snps_used_log\",\n",
    "        \"gene_n_snps_used_density\",\n",
    "        \"gene_n_snps_used_density_log\",\n",
    "    ]\n",
    "].describe()\n",
    "display(_Xs_desc)\n",
    "assert (_Xs_desc.loc[\"mean\"] < 1e-10).all()\n",
    "assert (_Xs_desc.loc[\"std\"].between(0.9999, 1.00001)).all()"
   ]
  },
  {
   "cell_type": "code",
   "execution_count": 287,
   "id": "207ed253-88ab-46dc-8b8a-a04a1cd5ff7b",
   "metadata": {},
   "outputs": [
    {
     "data": {
      "text/html": [
       "<div>\n",
       "<style scoped>\n",
       "    .dataframe tbody tr th:only-of-type {\n",
       "        vertical-align: middle;\n",
       "    }\n",
       "\n",
       "    .dataframe tbody tr th {\n",
       "        vertical-align: top;\n",
       "    }\n",
       "\n",
       "    .dataframe thead th {\n",
       "        text-align: right;\n",
       "    }\n",
       "</style>\n",
       "<table border=\"1\" class=\"dataframe\">\n",
       "  <thead>\n",
       "    <tr style=\"text-align: right;\">\n",
       "      <th></th>\n",
       "      <th>const</th>\n",
       "      <th>LV801</th>\n",
       "      <th>gene_n_snps_used</th>\n",
       "      <th>gene_n_snps_used_density</th>\n",
       "      <th>gene_n_snps_used_log</th>\n",
       "      <th>gene_n_snps_used_density_log</th>\n",
       "    </tr>\n",
       "  </thead>\n",
       "  <tbody>\n",
       "    <tr>\n",
       "      <th>NOC2L</th>\n",
       "      <td>1.0</td>\n",
       "      <td>0.229344</td>\n",
       "      <td>1.546885</td>\n",
       "      <td>0.293065</td>\n",
       "      <td>1.029488</td>\n",
       "      <td>-0.294773</td>\n",
       "    </tr>\n",
       "    <tr>\n",
       "      <th>HES4</th>\n",
       "      <td>1.0</td>\n",
       "      <td>-0.106576</td>\n",
       "      <td>-0.048238</td>\n",
       "      <td>-1.676278</td>\n",
       "      <td>0.240463</td>\n",
       "      <td>1.474022</td>\n",
       "    </tr>\n",
       "    <tr>\n",
       "      <th>ISG15</th>\n",
       "      <td>1.0</td>\n",
       "      <td>-0.145894</td>\n",
       "      <td>0.084689</td>\n",
       "      <td>0.154479</td>\n",
       "      <td>0.328753</td>\n",
       "      <td>-0.182355</td>\n",
       "    </tr>\n",
       "    <tr>\n",
       "      <th>AGRN</th>\n",
       "      <td>1.0</td>\n",
       "      <td>-0.114292</td>\n",
       "      <td>0.616396</td>\n",
       "      <td>-2.256868</td>\n",
       "      <td>0.630520</td>\n",
       "      <td>2.080373</td>\n",
       "    </tr>\n",
       "    <tr>\n",
       "      <th>TNFRSF18</th>\n",
       "      <td>1.0</td>\n",
       "      <td>-0.145894</td>\n",
       "      <td>0.284079</td>\n",
       "      <td>0.332364</td>\n",
       "      <td>0.450553</td>\n",
       "      <td>-0.326365</td>\n",
       "    </tr>\n",
       "  </tbody>\n",
       "</table>\n",
       "</div>"
      ],
      "text/plain": [
       "          const     LV801  gene_n_snps_used  gene_n_snps_used_density  \\\n",
       "NOC2L       1.0  0.229344          1.546885                  0.293065   \n",
       "HES4        1.0 -0.106576         -0.048238                 -1.676278   \n",
       "ISG15       1.0 -0.145894          0.084689                  0.154479   \n",
       "AGRN        1.0 -0.114292          0.616396                 -2.256868   \n",
       "TNFRSF18    1.0 -0.145894          0.284079                  0.332364   \n",
       "\n",
       "          gene_n_snps_used_log  gene_n_snps_used_density_log  \n",
       "NOC2L                 1.029488                     -0.294773  \n",
       "HES4                  0.240463                      1.474022  \n",
       "ISG15                 0.328753                     -0.182355  \n",
       "AGRN                  0.630520                      2.080373  \n",
       "TNFRSF18              0.450553                     -0.326365  "
      ]
     },
     "execution_count": 287,
     "metadata": {},
     "output_type": "execute_result"
    }
   ],
   "source": [
    "Xs.head()"
   ]
  },
  {
   "cell_type": "code",
   "execution_count": 288,
   "id": "bf7cf7af-6014-457e-aefb-87d86ae71ab3",
   "metadata": {},
   "outputs": [
    {
     "data": {
      "text/plain": [
       "NOC2L       0.697014\n",
       "HES4       -0.258629\n",
       "ISG15       1.021711\n",
       "AGRN       -1.115624\n",
       "TNFRSF18   -1.138078\n",
       "dtype: float64"
      ]
     },
     "execution_count": 288,
     "metadata": {},
     "output_type": "execute_result"
    }
   ],
   "source": [
    "ys.head()"
   ]
  },
  {
   "cell_type": "code",
   "execution_count": 289,
   "id": "b68a62be-7a0b-4f5b-b42b-fca602cf0589",
   "metadata": {},
   "outputs": [],
   "source": [
    "_gls_results = train_statsmodels_gls(Xs, ys, corr_mat)"
   ]
  },
  {
   "cell_type": "code",
   "execution_count": 290,
   "id": "30a4f815-75df-495a-92dd-6923e82fbd27",
   "metadata": {},
   "outputs": [
    {
     "name": "stdout",
     "output_type": "stream",
     "text": [
      "                            GLS Regression Results                            \n",
      "==============================================================================\n",
      "Dep. Variable:                      y   R-squared:                       0.001\n",
      "Model:                            GLS   Adj. R-squared:                 -0.000\n",
      "Method:                 Least Squares   F-statistic:                    0.9619\n",
      "Date:                Wed, 27 Jul 2022   Prob (F-statistic):              0.440\n",
      "Time:                        19:06:45   Log-Likelihood:                -8678.0\n",
      "No. Observations:                6442   AIC:                         1.737e+04\n",
      "Df Residuals:                    6436   BIC:                         1.741e+04\n",
      "Df Model:                           5                                         \n",
      "Covariance Type:            nonrobust                                         \n",
      "================================================================================================\n",
      "                                   coef    std err          t      P>|t|      [0.025      0.975]\n",
      "------------------------------------------------------------------------------------------------\n",
      "const                           -0.0217      0.024     -0.899      0.369      -0.069       0.026\n",
      "LV801                            0.0084      0.011      0.764      0.445      -0.013       0.030\n",
      "gene_n_snps_used                 0.0264      0.013      2.004      0.045       0.001       0.052\n",
      "gene_n_snps_used_density         0.0271      0.074      0.368      0.713      -0.117       0.171\n",
      "gene_n_snps_used_log            -0.0040      0.004     -1.063      0.288      -0.011       0.003\n",
      "gene_n_snps_used_density_log     0.0293      0.079      0.371      0.710      -0.125       0.184\n",
      "==============================================================================\n",
      "Omnibus:                     1355.277   Durbin-Watson:                   2.032\n",
      "Prob(Omnibus):                  0.000   Jarque-Bera (JB):             3547.359\n",
      "Skew:                           1.135   Prob(JB):                         0.00\n",
      "Kurtosis:                       5.840   Cond. No.                         109.\n",
      "==============================================================================\n",
      "\n",
      "Notes:\n",
      "[1] Standard Errors assume that the covariance matrix of the errors is correctly specified.\n"
     ]
    }
   ],
   "source": [
    "print(_gls_results.summary())"
   ]
  },
  {
   "cell_type": "code",
   "execution_count": 291,
   "id": "dfd4369b-47d6-41f8-a4e3-f7473b148f00",
   "metadata": {},
   "outputs": [
    {
     "data": {
      "text/plain": [
       "const                          -0.021673\n",
       "LV801                           0.008384\n",
       "gene_n_snps_used                0.026364\n",
       "gene_n_snps_used_density        0.027107\n",
       "gene_n_snps_used_log           -0.003973\n",
       "gene_n_snps_used_density_log    0.029269\n",
       "dtype: float64"
      ]
     },
     "execution_count": 291,
     "metadata": {},
     "output_type": "execute_result"
    }
   ],
   "source": [
    "_gls_results.params"
   ]
  },
  {
   "cell_type": "code",
   "execution_count": 292,
   "id": "afa602cc-2980-486b-aaf5-6d8b4bd8868d",
   "metadata": {},
   "outputs": [
    {
     "name": "stdout",
     "output_type": "stream",
     "text": [
      "0.008384051885022486\n",
      "0.010977363554150646\n",
      "0.7637582415544938\n",
      "0.44503932280432557\n",
      "0.22251966140216278\n"
     ]
    }
   ],
   "source": [
    "# print full numbers\n",
    "with np.printoptions(threshold=sys.maxsize, precision=20):\n",
    "    print(_gls_results.params.to_numpy()[1])\n",
    "    print(_gls_results.bse.to_numpy()[1])\n",
    "    print(_gls_results.tvalues.to_numpy()[1])\n",
    "    print(_gls_results.pvalues.to_numpy()[1])\n",
    "    print(stats.t.sf(_gls_results.tvalues.to_numpy()[1], _gls_results.df_resid))"
   ]
  },
  {
   "cell_type": "code",
   "execution_count": 293,
   "id": "7990ffdf-ed43-439f-9cc8-b195ef1e96ca",
   "metadata": {},
   "outputs": [],
   "source": [
    "# save phenotype\n",
    "y.to_pickle(OUTPUT_DIR / f\"{phenotype_name}.pkl.xz\")"
   ]
  },
  {
   "cell_type": "code",
   "execution_count": 294,
   "id": "165ee159-c50f-4a10-9141-1a5052e85c48",
   "metadata": {},
   "outputs": [
    {
     "data": {
      "text/plain": [
       "'multixcan-random_phenotype0-snplevel_covars'"
      ]
     },
     "metadata": {},
     "output_type": "display_data"
    }
   ],
   "source": [
    "# save covariates\n",
    "phenotype_covars_name = f\"{phenotype_name_base}-snplevel_covars\"\n",
    "display(phenotype_covars_name)"
   ]
  },
  {
   "cell_type": "code",
   "execution_count": 295,
   "id": "adc3abb1-6290-480a-8dfc-6c82ec6fdf35",
   "metadata": {},
   "outputs": [
    {
     "data": {
      "text/html": [
       "<div>\n",
       "<style scoped>\n",
       "    .dataframe tbody tr th:only-of-type {\n",
       "        vertical-align: middle;\n",
       "    }\n",
       "\n",
       "    .dataframe tbody tr th {\n",
       "        vertical-align: top;\n",
       "    }\n",
       "\n",
       "    .dataframe thead th {\n",
       "        text-align: right;\n",
       "    }\n",
       "</style>\n",
       "<table border=\"1\" class=\"dataframe\">\n",
       "  <thead>\n",
       "    <tr style=\"text-align: right;\">\n",
       "      <th></th>\n",
       "      <th>gene_n_snps_used</th>\n",
       "      <th>gene_n_snps_used_density</th>\n",
       "      <th>gene_n_snps_used_log</th>\n",
       "      <th>gene_n_snps_used_density_log</th>\n",
       "    </tr>\n",
       "  </thead>\n",
       "  <tbody>\n",
       "    <tr>\n",
       "      <th>NOC2L</th>\n",
       "      <td>103</td>\n",
       "      <td>0.980952</td>\n",
       "      <td>4.634729</td>\n",
       "      <td>0.019231</td>\n",
       "    </tr>\n",
       "    <tr>\n",
       "      <th>HES4</th>\n",
       "      <td>55</td>\n",
       "      <td>0.785714</td>\n",
       "      <td>4.007333</td>\n",
       "      <td>0.241162</td>\n",
       "    </tr>\n",
       "    <tr>\n",
       "      <th>ISG15</th>\n",
       "      <td>59</td>\n",
       "      <td>0.967213</td>\n",
       "      <td>4.077537</td>\n",
       "      <td>0.033336</td>\n",
       "    </tr>\n",
       "    <tr>\n",
       "      <th>AGRN</th>\n",
       "      <td>75</td>\n",
       "      <td>0.728155</td>\n",
       "      <td>4.317488</td>\n",
       "      <td>0.317241</td>\n",
       "    </tr>\n",
       "    <tr>\n",
       "      <th>TNFRSF18</th>\n",
       "      <td>65</td>\n",
       "      <td>0.984848</td>\n",
       "      <td>4.174387</td>\n",
       "      <td>0.015267</td>\n",
       "    </tr>\n",
       "  </tbody>\n",
       "</table>\n",
       "</div>"
      ],
      "text/plain": [
       "          gene_n_snps_used  gene_n_snps_used_density  gene_n_snps_used_log  \\\n",
       "NOC2L                  103                  0.980952              4.634729   \n",
       "HES4                    55                  0.785714              4.007333   \n",
       "ISG15                   59                  0.967213              4.077537   \n",
       "AGRN                    75                  0.728155              4.317488   \n",
       "TNFRSF18                65                  0.984848              4.174387   \n",
       "\n",
       "          gene_n_snps_used_density_log  \n",
       "NOC2L                         0.019231  \n",
       "HES4                          0.241162  \n",
       "ISG15                         0.033336  \n",
       "AGRN                          0.317241  \n",
       "TNFRSF18                      0.015267  "
      ]
     },
     "metadata": {},
     "output_type": "display_data"
    }
   ],
   "source": [
    "y_covars = X[[c for c in X.columns if c not in (\"const\", lv_code)]]\n",
    "display(y_covars.head())\n",
    "assert not y_covars.isna().any(None)"
   ]
  },
  {
   "cell_type": "code",
   "execution_count": 296,
   "id": "f1424d1c-c434-45c3-a021-1bfbbfb07cd6",
   "metadata": {},
   "outputs": [],
   "source": [
    "# save covariates\n",
    "y_covars.to_pickle(OUTPUT_DIR / f\"{phenotype_covars_name}.pkl.xz\")"
   ]
  },
  {
   "cell_type": "code",
   "execution_count": 297,
   "id": "62f6078d-3382-476e-bc30-35df227823ec",
   "metadata": {},
   "outputs": [
    {
     "name": "stdout",
     "output_type": "stream",
     "text": [
      "                            OLS Regression Results                            \n",
      "==============================================================================\n",
      "Dep. Variable:                      y   R-squared:                       0.001\n",
      "Model:                            OLS   Adj. R-squared:                 -0.000\n",
      "Method:                 Least Squares   F-statistic:                    0.7497\n",
      "Date:                Wed, 27 Jul 2022   Prob (F-statistic):              0.586\n",
      "Time:                        19:07:02   Log-Likelihood:                -9138.4\n",
      "No. Observations:                6442   AIC:                         1.829e+04\n",
      "Df Residuals:                    6436   BIC:                         1.833e+04\n",
      "Df Model:                           5                                         \n",
      "Covariance Type:            nonrobust                                         \n",
      "================================================================================================\n",
      "                                   coef    std err          t      P>|t|      [0.025      0.975]\n",
      "------------------------------------------------------------------------------------------------\n",
      "const                        -8.741e-17      0.012  -7.02e-15      1.000      -0.024       0.024\n",
      "LV801                            0.0183      0.012      1.465      0.143      -0.006       0.043\n",
      "gene_n_snps_used                 0.0263      0.026      1.019      0.308      -0.024       0.077\n",
      "gene_n_snps_used_density         0.0589      0.119      0.496      0.620      -0.174       0.291\n",
      "gene_n_snps_used_log            -0.0159      0.026     -0.614      0.539      -0.067       0.035\n",
      "gene_n_snps_used_density_log     0.0552      0.119      0.465      0.642      -0.177       0.288\n",
      "==============================================================================\n",
      "Omnibus:                     1069.782   Durbin-Watson:                   1.618\n",
      "Prob(Omnibus):                  0.000   Jarque-Bera (JB):             1778.439\n",
      "Skew:                           1.107   Prob(JB):                         0.00\n",
      "Kurtosis:                       4.311   Cond. No.                         19.6\n",
      "==============================================================================\n",
      "\n",
      "Notes:\n",
      "[1] Standard Errors assume that the covariance matrix of the errors is correctly specified.\n"
     ]
    }
   ],
   "source": [
    "# for debugging purposes I print the OLS results also\n",
    "_tmp_model = sm.OLS(ys, Xs)\n",
    "_tmp_results = _tmp_model.fit()\n",
    "print(_tmp_results.summary())"
   ]
  },
  {
   "cell_type": "code",
   "execution_count": null,
   "id": "d309ef59-6ac1-4362-a027-9ab01a5530c9",
   "metadata": {},
   "outputs": [],
   "source": []
  }
 ],
 "metadata": {
  "jupytext": {
   "cell_metadata_filter": "all,-execution,-papermill,-trusted",
   "formats": "ipynb,py//py:percent"
  },
  "kernelspec": {
   "display_name": "Python 3 (ipykernel)",
   "language": "python",
   "name": "python3"
  },
  "language_info": {
   "codemirror_mode": {
    "name": "ipython",
    "version": 3
   },
   "file_extension": ".py",
   "mimetype": "text/x-python",
   "name": "python",
   "nbconvert_exporter": "python",
   "pygments_lexer": "ipython3",
   "version": "3.8.13"
  },
  "papermill": {
   "default_parameters": {},
   "duration": 171.690116,
   "end_time": "2022-07-11T13:24:57.694597",
   "environment_variables": {},
   "exception": null,
   "input_path": "nbs/15_gsa_gls/15-postprocess_gene_expr_correlations.ipynb",
   "output_path": "nbs/15_gsa_gls/gene_corrs/1000g/mashr/15-postprocess_gene_expr_correlations.ipynb",
   "parameters": {
    "EQTL_MODEL": "MASHR",
    "REFERENCE_PANEL": "1000G"
   },
   "start_time": "2022-07-11T13:22:06.004481",
   "version": "2.2.2"
  },
  "toc-autonumbering": true
 },
 "nbformat": 4,
 "nbformat_minor": 5
}
