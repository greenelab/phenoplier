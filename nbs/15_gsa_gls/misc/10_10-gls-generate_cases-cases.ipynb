{
 "cells": [
  {
   "cell_type": "markdown",
   "id": "5ef66977",
   "metadata": {
    "papermill": {
     "duration": 0.010512,
     "end_time": "2022-07-11T13:22:07.207937",
     "exception": false,
     "start_time": "2022-07-11T13:22:07.197425",
     "status": "completed"
    },
    "tags": []
   },
   "source": [
    "# Description"
   ]
  },
  {
   "cell_type": "markdown",
   "id": "658d4f7c",
   "metadata": {
    "papermill": {
     "duration": 0.007193,
     "end_time": "2022-07-11T13:22:07.222297",
     "exception": false,
     "start_time": "2022-07-11T13:22:07.215104",
     "status": "completed"
    },
    "tags": []
   },
   "source": [
    "It generates tests cases for the GLS model."
   ]
  },
  {
   "cell_type": "markdown",
   "id": "60fa4530",
   "metadata": {
    "papermill": {
     "duration": 0.007062,
     "end_time": "2022-07-11T13:22:07.236433",
     "exception": false,
     "start_time": "2022-07-11T13:22:07.229371",
     "status": "completed"
    },
    "tags": []
   },
   "source": [
    "# Modules"
   ]
  },
  {
   "cell_type": "code",
   "execution_count": 1,
   "id": "d70b0833",
   "metadata": {
    "papermill": {
     "duration": 0.023639,
     "end_time": "2022-07-11T13:22:07.267099",
     "exception": false,
     "start_time": "2022-07-11T13:22:07.243460",
     "status": "completed"
    },
    "tags": []
   },
   "outputs": [],
   "source": [
    "%load_ext autoreload\n",
    "%autoreload 2"
   ]
  },
  {
   "cell_type": "code",
   "execution_count": 2,
   "id": "6b2f9ca0",
   "metadata": {
    "papermill": {
     "duration": 0.815336,
     "end_time": "2022-07-11T13:22:08.117525",
     "exception": false,
     "start_time": "2022-07-11T13:22:07.302189",
     "status": "completed"
    },
    "tags": []
   },
   "outputs": [],
   "source": [
    "import sys\n",
    "\n",
    "import numpy as np\n",
    "import pandas as pd\n",
    "from scipy import stats\n",
    "import statsmodels.api as sm\n",
    "\n",
    "import conf\n",
    "import utils\n",
    "from entity import Gene"
   ]
  },
  {
   "cell_type": "markdown",
   "id": "5b96e797",
   "metadata": {
    "papermill": {
     "duration": 0.007353,
     "end_time": "2022-07-11T13:22:08.132804",
     "exception": false,
     "start_time": "2022-07-11T13:22:08.125451",
     "status": "completed"
    },
    "tags": []
   },
   "source": [
    "# Settings"
   ]
  },
  {
   "cell_type": "code",
   "execution_count": 3,
   "id": "4fc1b6a0",
   "metadata": {
    "papermill": {
     "duration": 0.02389,
     "end_time": "2022-07-11T13:22:08.163791",
     "exception": false,
     "start_time": "2022-07-11T13:22:08.139901",
     "status": "completed"
    },
    "tags": [
     "parameters"
    ]
   },
   "outputs": [],
   "source": [
    "# a cohort name (it could be something like UK_BIOBANK, etc)\n",
    "COHORT_NAME = \"1000G_EUR\"\n",
    "\n",
    "# reference panel such as 1000G or GTEX_V8\n",
    "REFERENCE_PANEL = \"1000G\"\n",
    "\n",
    "# predictions models such as MASHR or ELASTIC_NET\n",
    "EQTL_MODEL = \"MASHR\""
   ]
  },
  {
   "cell_type": "code",
   "execution_count": 4,
   "id": "0949e7ac-1952-4552-9ee9-4f289cd40583",
   "metadata": {},
   "outputs": [
    {
     "data": {
      "text/plain": [
       "PosixPath('/opt/code/tests/data/gls')"
      ]
     },
     "metadata": {},
     "output_type": "display_data"
    }
   ],
   "source": [
    "OUTPUT_DIR = utils.get_git_repository_path() / \"tests\" / \"data\" / \"gls\"\n",
    "display(OUTPUT_DIR)\n",
    "assert OUTPUT_DIR.exists()"
   ]
  },
  {
   "cell_type": "markdown",
   "id": "99ccb166",
   "metadata": {
    "papermill": {
     "duration": 0.008141,
     "end_time": "2022-07-11T13:22:08.443463",
     "exception": false,
     "start_time": "2022-07-11T13:22:08.435322",
     "status": "completed"
    },
    "tags": []
   },
   "source": [
    "# Load data"
   ]
  },
  {
   "cell_type": "markdown",
   "id": "46ae0b3e",
   "metadata": {
    "papermill": {
     "duration": 0.008625,
     "end_time": "2022-07-11T13:22:08.646659",
     "exception": false,
     "start_time": "2022-07-11T13:22:08.638034",
     "status": "completed"
    },
    "tags": []
   },
   "source": [
    "## MultiPLIER Z"
   ]
  },
  {
   "cell_type": "code",
   "execution_count": 5,
   "id": "d38d9749",
   "metadata": {
    "papermill": {
     "duration": 0.050011,
     "end_time": "2022-07-11T13:22:08.705065",
     "exception": false,
     "start_time": "2022-07-11T13:22:08.655054",
     "status": "completed"
    },
    "tags": []
   },
   "outputs": [],
   "source": [
    "multiplier_z = pd.read_pickle(conf.MULTIPLIER[\"MODEL_Z_MATRIX_FILE\"])"
   ]
  },
  {
   "cell_type": "code",
   "execution_count": 6,
   "id": "2dd5031b-7d59-4b87-8e76-0ca4436a945a",
   "metadata": {
    "papermill": {
     "duration": 0.050011,
     "end_time": "2022-07-11T13:22:08.705065",
     "exception": false,
     "start_time": "2022-07-11T13:22:08.655054",
     "status": "completed"
    },
    "tags": []
   },
   "outputs": [],
   "source": [
    "multiplier_z_genes = multiplier_z.index.tolist()"
   ]
  },
  {
   "cell_type": "code",
   "execution_count": 7,
   "id": "67e93797",
   "metadata": {
    "papermill": {
     "duration": 0.026612,
     "end_time": "2022-07-11T13:22:08.741377",
     "exception": false,
     "start_time": "2022-07-11T13:22:08.714765",
     "status": "completed"
    },
    "tags": []
   },
   "outputs": [
    {
     "data": {
      "text/plain": [
       "6750"
      ]
     },
     "execution_count": 7,
     "metadata": {},
     "output_type": "execute_result"
    }
   ],
   "source": [
    "len(multiplier_z_genes)"
   ]
  },
  {
   "cell_type": "code",
   "execution_count": 8,
   "id": "e1ba1ead",
   "metadata": {
    "papermill": {
     "duration": 0.025283,
     "end_time": "2022-07-11T13:22:08.775398",
     "exception": false,
     "start_time": "2022-07-11T13:22:08.750115",
     "status": "completed"
    },
    "tags": []
   },
   "outputs": [
    {
     "data": {
      "text/plain": [
       "['GAS6',\n",
       " 'MMP14',\n",
       " 'DSP',\n",
       " 'MARCKSL1',\n",
       " 'SPARC',\n",
       " 'CTSD',\n",
       " 'EPAS1',\n",
       " 'PALLD',\n",
       " 'PHC2',\n",
       " 'LGALS3BP']"
      ]
     },
     "execution_count": 8,
     "metadata": {},
     "output_type": "execute_result"
    }
   ],
   "source": [
    "multiplier_z_genes[:10]"
   ]
  },
  {
   "cell_type": "markdown",
   "id": "7ad1d143-b9b7-4405-88d0-d5b8acdbe7fa",
   "metadata": {},
   "source": [
    "## Function to load MultiXcan's results on random phenotypes"
   ]
  },
  {
   "cell_type": "code",
   "execution_count": 9,
   "id": "3cb53517-17a9-4154-a12e-8f67af6b385f",
   "metadata": {},
   "outputs": [],
   "source": [
    "def load_multixcan_random_phenotype(phenotype_code):\n",
    "    multixcan_random_results = pd.read_csv(\n",
    "        conf.RESULTS[\"GLS_NULL_SIMS\"]\n",
    "        / \"twas\"\n",
    "        / \"smultixcan\"\n",
    "        / f\"random.pheno{phenotype_code}-gtex_v8-mashr-smultixcan.txt\",\n",
    "        sep=\"\\t\",\n",
    "        index_col=\"gene_name\",\n",
    "    )\n",
    "\n",
    "    return multixcan_random_results"
   ]
  },
  {
   "cell_type": "code",
   "execution_count": 10,
   "id": "f7f549ed-e8aa-4e41-9576-b9aed3ced43f",
   "metadata": {},
   "outputs": [
    {
     "data": {
      "text/html": [
       "<div>\n",
       "<style scoped>\n",
       "    .dataframe tbody tr th:only-of-type {\n",
       "        vertical-align: middle;\n",
       "    }\n",
       "\n",
       "    .dataframe tbody tr th {\n",
       "        vertical-align: top;\n",
       "    }\n",
       "\n",
       "    .dataframe thead th {\n",
       "        text-align: right;\n",
       "    }\n",
       "</style>\n",
       "<table border=\"1\" class=\"dataframe\">\n",
       "  <thead>\n",
       "    <tr style=\"text-align: right;\">\n",
       "      <th></th>\n",
       "      <th>gene</th>\n",
       "      <th>pvalue</th>\n",
       "      <th>n</th>\n",
       "      <th>n_indep</th>\n",
       "      <th>p_i_best</th>\n",
       "      <th>t_i_best</th>\n",
       "      <th>p_i_worst</th>\n",
       "      <th>t_i_worst</th>\n",
       "      <th>eigen_max</th>\n",
       "      <th>eigen_min</th>\n",
       "      <th>eigen_min_kept</th>\n",
       "      <th>z_min</th>\n",
       "      <th>z_max</th>\n",
       "      <th>z_mean</th>\n",
       "      <th>z_sd</th>\n",
       "      <th>tmi</th>\n",
       "      <th>status</th>\n",
       "    </tr>\n",
       "    <tr>\n",
       "      <th>gene_name</th>\n",
       "      <th></th>\n",
       "      <th></th>\n",
       "      <th></th>\n",
       "      <th></th>\n",
       "      <th></th>\n",
       "      <th></th>\n",
       "      <th></th>\n",
       "      <th></th>\n",
       "      <th></th>\n",
       "      <th></th>\n",
       "      <th></th>\n",
       "      <th></th>\n",
       "      <th></th>\n",
       "      <th></th>\n",
       "      <th></th>\n",
       "      <th></th>\n",
       "      <th></th>\n",
       "    </tr>\n",
       "  </thead>\n",
       "  <tbody>\n",
       "    <tr>\n",
       "      <th>RHPN2</th>\n",
       "      <td>ENSG00000131941.7</td>\n",
       "      <td>0.000040</td>\n",
       "      <td>48.0</td>\n",
       "      <td>3.0</td>\n",
       "      <td>2.139470e-04</td>\n",
       "      <td>Artery_Tibial</td>\n",
       "      <td>0.990132</td>\n",
       "      <td>Brain_Nucleus_accumbens_basal_ganglia</td>\n",
       "      <td>36.556432</td>\n",
       "      <td>7.692089e-16</td>\n",
       "      <td>2.519701</td>\n",
       "      <td>-2.721185</td>\n",
       "      <td>3.701952</td>\n",
       "      <td>1.283152</td>\n",
       "      <td>1.825567</td>\n",
       "      <td>3.0</td>\n",
       "      <td>0</td>\n",
       "    </tr>\n",
       "    <tr>\n",
       "      <th>GPATCH1</th>\n",
       "      <td>ENSG00000076650.6</td>\n",
       "      <td>0.000078</td>\n",
       "      <td>40.0</td>\n",
       "      <td>3.0</td>\n",
       "      <td>4.534390e-04</td>\n",
       "      <td>Brain_Cerebellum</td>\n",
       "      <td>0.817384</td>\n",
       "      <td>Brain_Frontal_Cortex_BA9</td>\n",
       "      <td>29.990208</td>\n",
       "      <td>2.086487e-15</td>\n",
       "      <td>1.815203</td>\n",
       "      <td>-3.506853</td>\n",
       "      <td>2.383485</td>\n",
       "      <td>-2.016745</td>\n",
       "      <td>1.715495</td>\n",
       "      <td>3.0</td>\n",
       "      <td>0</td>\n",
       "    </tr>\n",
       "    <tr>\n",
       "      <th>NFKBIA</th>\n",
       "      <td>ENSG00000100906.10</td>\n",
       "      <td>0.000096</td>\n",
       "      <td>1.0</td>\n",
       "      <td>1.0</td>\n",
       "      <td>9.591208e-05</td>\n",
       "      <td>Brain_Frontal_Cortex_BA9</td>\n",
       "      <td>0.000096</td>\n",
       "      <td>Brain_Frontal_Cortex_BA9</td>\n",
       "      <td>1.000000</td>\n",
       "      <td>1.000000e+00</td>\n",
       "      <td>1.000000</td>\n",
       "      <td>-3.900707</td>\n",
       "      <td>-3.900707</td>\n",
       "      <td>-3.900707</td>\n",
       "      <td>NaN</td>\n",
       "      <td>1.0</td>\n",
       "      <td>0</td>\n",
       "    </tr>\n",
       "    <tr>\n",
       "      <th>TTC5</th>\n",
       "      <td>ENSG00000136319.11</td>\n",
       "      <td>0.000109</td>\n",
       "      <td>47.0</td>\n",
       "      <td>5.0</td>\n",
       "      <td>1.402826e-03</td>\n",
       "      <td>Brain_Hippocampus</td>\n",
       "      <td>0.961887</td>\n",
       "      <td>Colon_Sigmoid</td>\n",
       "      <td>21.272442</td>\n",
       "      <td>8.142339e-16</td>\n",
       "      <td>0.732606</td>\n",
       "      <td>-3.194069</td>\n",
       "      <td>1.397514</td>\n",
       "      <td>-0.916662</td>\n",
       "      <td>1.068989</td>\n",
       "      <td>5.0</td>\n",
       "      <td>0</td>\n",
       "    </tr>\n",
       "    <tr>\n",
       "      <th>ADGRA3</th>\n",
       "      <td>ENSG00000152990.13</td>\n",
       "      <td>0.000135</td>\n",
       "      <td>41.0</td>\n",
       "      <td>12.0</td>\n",
       "      <td>3.211289e-07</td>\n",
       "      <td>Heart_Atrial_Appendage</td>\n",
       "      <td>0.653657</td>\n",
       "      <td>Whole_Blood</td>\n",
       "      <td>12.988248</td>\n",
       "      <td>3.499412e-16</td>\n",
       "      <td>0.444682</td>\n",
       "      <td>-5.110605</td>\n",
       "      <td>3.599410</td>\n",
       "      <td>-0.464735</td>\n",
       "      <td>2.316607</td>\n",
       "      <td>12.0</td>\n",
       "      <td>0</td>\n",
       "    </tr>\n",
       "  </tbody>\n",
       "</table>\n",
       "</div>"
      ],
      "text/plain": [
       "                         gene    pvalue     n  n_indep      p_i_best  \\\n",
       "gene_name                                                              \n",
       "RHPN2       ENSG00000131941.7  0.000040  48.0      3.0  2.139470e-04   \n",
       "GPATCH1     ENSG00000076650.6  0.000078  40.0      3.0  4.534390e-04   \n",
       "NFKBIA     ENSG00000100906.10  0.000096   1.0      1.0  9.591208e-05   \n",
       "TTC5       ENSG00000136319.11  0.000109  47.0      5.0  1.402826e-03   \n",
       "ADGRA3     ENSG00000152990.13  0.000135  41.0     12.0  3.211289e-07   \n",
       "\n",
       "                           t_i_best  p_i_worst  \\\n",
       "gene_name                                        \n",
       "RHPN2                 Artery_Tibial   0.990132   \n",
       "GPATCH1            Brain_Cerebellum   0.817384   \n",
       "NFKBIA     Brain_Frontal_Cortex_BA9   0.000096   \n",
       "TTC5              Brain_Hippocampus   0.961887   \n",
       "ADGRA3       Heart_Atrial_Appendage   0.653657   \n",
       "\n",
       "                                       t_i_worst  eigen_max     eigen_min  \\\n",
       "gene_name                                                                   \n",
       "RHPN2      Brain_Nucleus_accumbens_basal_ganglia  36.556432  7.692089e-16   \n",
       "GPATCH1                 Brain_Frontal_Cortex_BA9  29.990208  2.086487e-15   \n",
       "NFKBIA                  Brain_Frontal_Cortex_BA9   1.000000  1.000000e+00   \n",
       "TTC5                               Colon_Sigmoid  21.272442  8.142339e-16   \n",
       "ADGRA3                               Whole_Blood  12.988248  3.499412e-16   \n",
       "\n",
       "           eigen_min_kept     z_min     z_max    z_mean      z_sd   tmi  \\\n",
       "gene_name                                                                 \n",
       "RHPN2            2.519701 -2.721185  3.701952  1.283152  1.825567   3.0   \n",
       "GPATCH1          1.815203 -3.506853  2.383485 -2.016745  1.715495   3.0   \n",
       "NFKBIA           1.000000 -3.900707 -3.900707 -3.900707       NaN   1.0   \n",
       "TTC5             0.732606 -3.194069  1.397514 -0.916662  1.068989   5.0   \n",
       "ADGRA3           0.444682 -5.110605  3.599410 -0.464735  2.316607  12.0   \n",
       "\n",
       "           status  \n",
       "gene_name          \n",
       "RHPN2           0  \n",
       "GPATCH1         0  \n",
       "NFKBIA          0  \n",
       "TTC5            0  \n",
       "ADGRA3          0  "
      ]
     },
     "execution_count": 10,
     "metadata": {},
     "output_type": "execute_result"
    }
   ],
   "source": [
    "load_multixcan_random_phenotype(0).head()"
   ]
  },
  {
   "cell_type": "markdown",
   "id": "37ce8c4f-6046-4d81-aa1a-f196153f0c69",
   "metadata": {
    "papermill": {
     "duration": 0.008625,
     "end_time": "2022-07-11T13:22:08.646659",
     "exception": false,
     "start_time": "2022-07-11T13:22:08.638034",
     "status": "completed"
    },
    "tags": []
   },
   "source": [
    "## MultiXcan real results (PhenomeXcan)"
   ]
  },
  {
   "cell_type": "code",
   "execution_count": 11,
   "id": "ff6a93a3-1d7e-4cef-99f6-866ad0726022",
   "metadata": {},
   "outputs": [],
   "source": [
    "multixcan_real_results = pd.read_pickle(\n",
    "    conf.PHENOMEXCAN[\"SMULTIXCAN_EFO_PARTIAL_MASHR_ZSCORES_FILE\"]\n",
    ").rename(index=Gene.GENE_ID_TO_NAME_MAP)"
   ]
  },
  {
   "cell_type": "code",
   "execution_count": 12,
   "id": "74f17127-afe3-4d93-9e93-50b193d2b996",
   "metadata": {},
   "outputs": [],
   "source": [
    "multixcan_real_results = multixcan_real_results[\n",
    "    ~multixcan_real_results.index.duplicated(keep=\"first\")\n",
    "].dropna(how=\"all\", axis=0)"
   ]
  },
  {
   "cell_type": "code",
   "execution_count": 13,
   "id": "05f85eb5-9816-4a38-948a-f133aeffa70c",
   "metadata": {},
   "outputs": [
    {
     "data": {
      "text/plain": [
       "(22508, 3752)"
      ]
     },
     "execution_count": 13,
     "metadata": {},
     "output_type": "execute_result"
    }
   ],
   "source": [
    "multixcan_real_results.shape"
   ]
  },
  {
   "cell_type": "code",
   "execution_count": 14,
   "id": "a5ee14c2-0359-48d0-bfbf-1e529f7a7cc9",
   "metadata": {},
   "outputs": [
    {
     "data": {
      "text/html": [
       "<div>\n",
       "<style scoped>\n",
       "    .dataframe tbody tr th:only-of-type {\n",
       "        vertical-align: middle;\n",
       "    }\n",
       "\n",
       "    .dataframe tbody tr th {\n",
       "        vertical-align: top;\n",
       "    }\n",
       "\n",
       "    .dataframe thead th {\n",
       "        text-align: right;\n",
       "    }\n",
       "</style>\n",
       "<table border=\"1\" class=\"dataframe\">\n",
       "  <thead>\n",
       "    <tr style=\"text-align: right;\">\n",
       "      <th></th>\n",
       "      <th>100001_raw-Food_weight</th>\n",
       "      <th>100002_raw-Energy</th>\n",
       "      <th>100003_raw-Protein</th>\n",
       "      <th>100004_raw-Fat</th>\n",
       "      <th>100005_raw-Carbohydrate</th>\n",
       "      <th>100006_raw-Saturated_fat</th>\n",
       "      <th>100007_raw-Polyunsaturated_fat</th>\n",
       "      <th>100008_raw-Total_sugars</th>\n",
       "      <th>100009_raw-Englyst_dietary_fibre</th>\n",
       "      <th>100010-Portion_size</th>\n",
       "      <th>...</th>\n",
       "      <th>visual impairment</th>\n",
       "      <th>vitiligo</th>\n",
       "      <th>vitreous body disease</th>\n",
       "      <th>vocal cord polyp</th>\n",
       "      <th>voice disorders</th>\n",
       "      <th>wellbeing measurement AND family relationship</th>\n",
       "      <th>wheezing</th>\n",
       "      <th>whooping cough</th>\n",
       "      <th>worry measurement</th>\n",
       "      <th>wrist fracture</th>\n",
       "    </tr>\n",
       "    <tr>\n",
       "      <th>gene_name</th>\n",
       "      <th></th>\n",
       "      <th></th>\n",
       "      <th></th>\n",
       "      <th></th>\n",
       "      <th></th>\n",
       "      <th></th>\n",
       "      <th></th>\n",
       "      <th></th>\n",
       "      <th></th>\n",
       "      <th></th>\n",
       "      <th></th>\n",
       "      <th></th>\n",
       "      <th></th>\n",
       "      <th></th>\n",
       "      <th></th>\n",
       "      <th></th>\n",
       "      <th></th>\n",
       "      <th></th>\n",
       "      <th></th>\n",
       "      <th></th>\n",
       "      <th></th>\n",
       "    </tr>\n",
       "  </thead>\n",
       "  <tbody>\n",
       "    <tr>\n",
       "      <th>DPM1</th>\n",
       "      <td>1.145442</td>\n",
       "      <td>0.724557</td>\n",
       "      <td>0.090876</td>\n",
       "      <td>0.298165</td>\n",
       "      <td>1.134347</td>\n",
       "      <td>1.371138</td>\n",
       "      <td>0.065718</td>\n",
       "      <td>0.794317</td>\n",
       "      <td>0.600342</td>\n",
       "      <td>0.317652</td>\n",
       "      <td>...</td>\n",
       "      <td>0.360518</td>\n",
       "      <td>1.351624</td>\n",
       "      <td>1.157695</td>\n",
       "      <td>0.835289</td>\n",
       "      <td>1.173072</td>\n",
       "      <td>1.337280</td>\n",
       "      <td>1.743822</td>\n",
       "      <td>1.017226</td>\n",
       "      <td>1.512184</td>\n",
       "      <td>0.972241</td>\n",
       "    </tr>\n",
       "    <tr>\n",
       "      <th>SCYL3</th>\n",
       "      <td>0.618066</td>\n",
       "      <td>1.028131</td>\n",
       "      <td>2.218420</td>\n",
       "      <td>0.762584</td>\n",
       "      <td>0.934418</td>\n",
       "      <td>0.192993</td>\n",
       "      <td>1.080230</td>\n",
       "      <td>0.765997</td>\n",
       "      <td>0.375898</td>\n",
       "      <td>0.678731</td>\n",
       "      <td>...</td>\n",
       "      <td>2.134504</td>\n",
       "      <td>0.127830</td>\n",
       "      <td>0.534690</td>\n",
       "      <td>0.120516</td>\n",
       "      <td>0.517464</td>\n",
       "      <td>2.545363</td>\n",
       "      <td>0.673331</td>\n",
       "      <td>2.003092</td>\n",
       "      <td>0.344000</td>\n",
       "      <td>2.033122</td>\n",
       "    </tr>\n",
       "    <tr>\n",
       "      <th>C1orf112</th>\n",
       "      <td>0.515724</td>\n",
       "      <td>0.403596</td>\n",
       "      <td>1.251359</td>\n",
       "      <td>0.433091</td>\n",
       "      <td>0.413466</td>\n",
       "      <td>0.246261</td>\n",
       "      <td>1.236151</td>\n",
       "      <td>0.827430</td>\n",
       "      <td>0.571985</td>\n",
       "      <td>0.782174</td>\n",
       "      <td>...</td>\n",
       "      <td>1.768905</td>\n",
       "      <td>0.992408</td>\n",
       "      <td>0.548215</td>\n",
       "      <td>0.412341</td>\n",
       "      <td>1.499415</td>\n",
       "      <td>1.366780</td>\n",
       "      <td>0.443318</td>\n",
       "      <td>0.417630</td>\n",
       "      <td>0.225934</td>\n",
       "      <td>1.613246</td>\n",
       "    </tr>\n",
       "    <tr>\n",
       "      <th>FGR</th>\n",
       "      <td>0.280781</td>\n",
       "      <td>0.253910</td>\n",
       "      <td>0.879148</td>\n",
       "      <td>0.352705</td>\n",
       "      <td>0.051846</td>\n",
       "      <td>0.184212</td>\n",
       "      <td>0.148566</td>\n",
       "      <td>0.009989</td>\n",
       "      <td>0.363751</td>\n",
       "      <td>0.374514</td>\n",
       "      <td>...</td>\n",
       "      <td>0.656552</td>\n",
       "      <td>2.046041</td>\n",
       "      <td>2.746832</td>\n",
       "      <td>0.108211</td>\n",
       "      <td>1.008258</td>\n",
       "      <td>0.755695</td>\n",
       "      <td>0.896228</td>\n",
       "      <td>0.875047</td>\n",
       "      <td>0.476405</td>\n",
       "      <td>1.693057</td>\n",
       "    </tr>\n",
       "    <tr>\n",
       "      <th>CFH</th>\n",
       "      <td>0.548127</td>\n",
       "      <td>0.389877</td>\n",
       "      <td>0.723469</td>\n",
       "      <td>1.167250</td>\n",
       "      <td>0.315952</td>\n",
       "      <td>0.324939</td>\n",
       "      <td>1.613932</td>\n",
       "      <td>0.311432</td>\n",
       "      <td>0.333548</td>\n",
       "      <td>1.807243</td>\n",
       "      <td>...</td>\n",
       "      <td>0.260482</td>\n",
       "      <td>0.646204</td>\n",
       "      <td>1.080240</td>\n",
       "      <td>0.678330</td>\n",
       "      <td>1.465358</td>\n",
       "      <td>0.307672</td>\n",
       "      <td>0.118376</td>\n",
       "      <td>1.419812</td>\n",
       "      <td>0.000002</td>\n",
       "      <td>1.040737</td>\n",
       "    </tr>\n",
       "  </tbody>\n",
       "</table>\n",
       "<p>5 rows × 3752 columns</p>\n",
       "</div>"
      ],
      "text/plain": [
       "           100001_raw-Food_weight  100002_raw-Energy  100003_raw-Protein  \\\n",
       "gene_name                                                                  \n",
       "DPM1                     1.145442           0.724557            0.090876   \n",
       "SCYL3                    0.618066           1.028131            2.218420   \n",
       "C1orf112                 0.515724           0.403596            1.251359   \n",
       "FGR                      0.280781           0.253910            0.879148   \n",
       "CFH                      0.548127           0.389877            0.723469   \n",
       "\n",
       "           100004_raw-Fat  100005_raw-Carbohydrate  100006_raw-Saturated_fat  \\\n",
       "gene_name                                                                      \n",
       "DPM1             0.298165                 1.134347                  1.371138   \n",
       "SCYL3            0.762584                 0.934418                  0.192993   \n",
       "C1orf112         0.433091                 0.413466                  0.246261   \n",
       "FGR              0.352705                 0.051846                  0.184212   \n",
       "CFH              1.167250                 0.315952                  0.324939   \n",
       "\n",
       "           100007_raw-Polyunsaturated_fat  100008_raw-Total_sugars  \\\n",
       "gene_name                                                            \n",
       "DPM1                             0.065718                 0.794317   \n",
       "SCYL3                            1.080230                 0.765997   \n",
       "C1orf112                         1.236151                 0.827430   \n",
       "FGR                              0.148566                 0.009989   \n",
       "CFH                              1.613932                 0.311432   \n",
       "\n",
       "           100009_raw-Englyst_dietary_fibre  100010-Portion_size  ...  \\\n",
       "gene_name                                                         ...   \n",
       "DPM1                               0.600342             0.317652  ...   \n",
       "SCYL3                              0.375898             0.678731  ...   \n",
       "C1orf112                           0.571985             0.782174  ...   \n",
       "FGR                                0.363751             0.374514  ...   \n",
       "CFH                                0.333548             1.807243  ...   \n",
       "\n",
       "           visual impairment  vitiligo  vitreous body disease  \\\n",
       "gene_name                                                       \n",
       "DPM1                0.360518  1.351624               1.157695   \n",
       "SCYL3               2.134504  0.127830               0.534690   \n",
       "C1orf112            1.768905  0.992408               0.548215   \n",
       "FGR                 0.656552  2.046041               2.746832   \n",
       "CFH                 0.260482  0.646204               1.080240   \n",
       "\n",
       "           vocal cord polyp  voice disorders  \\\n",
       "gene_name                                      \n",
       "DPM1               0.835289         1.173072   \n",
       "SCYL3              0.120516         0.517464   \n",
       "C1orf112           0.412341         1.499415   \n",
       "FGR                0.108211         1.008258   \n",
       "CFH                0.678330         1.465358   \n",
       "\n",
       "           wellbeing measurement AND family relationship  wheezing  \\\n",
       "gene_name                                                            \n",
       "DPM1                                            1.337280  1.743822   \n",
       "SCYL3                                           2.545363  0.673331   \n",
       "C1orf112                                        1.366780  0.443318   \n",
       "FGR                                             0.755695  0.896228   \n",
       "CFH                                             0.307672  0.118376   \n",
       "\n",
       "           whooping cough  worry measurement  wrist fracture  \n",
       "gene_name                                                     \n",
       "DPM1             1.017226           1.512184        0.972241  \n",
       "SCYL3            2.003092           0.344000        2.033122  \n",
       "C1orf112         0.417630           0.225934        1.613246  \n",
       "FGR              0.875047           0.476405        1.693057  \n",
       "CFH              1.419812           0.000002        1.040737  \n",
       "\n",
       "[5 rows x 3752 columns]"
      ]
     },
     "execution_count": 14,
     "metadata": {},
     "output_type": "execute_result"
    }
   ],
   "source": [
    "multixcan_real_results.head()"
   ]
  },
  {
   "cell_type": "code",
   "execution_count": 15,
   "id": "36835af0-264a-4f86-bce7-93a8b163aa3d",
   "metadata": {},
   "outputs": [],
   "source": [
    "assert not multixcan_real_results.isna().any(None)"
   ]
  },
  {
   "cell_type": "markdown",
   "id": "f4d4f177",
   "metadata": {
    "papermill": {
     "duration": 0.01453,
     "end_time": "2022-07-11T13:22:11.041316",
     "exception": false,
     "start_time": "2022-07-11T13:22:11.026786",
     "status": "completed"
    },
    "tags": []
   },
   "source": [
    "## Load full correlation matrix"
   ]
  },
  {
   "cell_type": "code",
   "execution_count": 16,
   "id": "5c2508c1-ae29-4c83-a515-2bf4486c442d",
   "metadata": {},
   "outputs": [],
   "source": [
    "orig_corr_mat = pd.read_pickle(OUTPUT_DIR / \"corr_mat.pkl.xz\")"
   ]
  },
  {
   "cell_type": "code",
   "execution_count": 17,
   "id": "30ccfc68-1548-4009-aba8-c84224f16ea1",
   "metadata": {},
   "outputs": [
    {
     "data": {
      "text/plain": [
       "(6442, 6442)"
      ]
     },
     "execution_count": 17,
     "metadata": {},
     "output_type": "execute_result"
    }
   ],
   "source": [
    "orig_corr_mat.shape"
   ]
  },
  {
   "cell_type": "code",
   "execution_count": 18,
   "id": "fab6bb31-636f-48eb-bf85-4c17cad87dfd",
   "metadata": {},
   "outputs": [
    {
     "data": {
      "text/html": [
       "<div>\n",
       "<style scoped>\n",
       "    .dataframe tbody tr th:only-of-type {\n",
       "        vertical-align: middle;\n",
       "    }\n",
       "\n",
       "    .dataframe tbody tr th {\n",
       "        vertical-align: top;\n",
       "    }\n",
       "\n",
       "    .dataframe thead th {\n",
       "        text-align: right;\n",
       "    }\n",
       "</style>\n",
       "<table border=\"1\" class=\"dataframe\">\n",
       "  <thead>\n",
       "    <tr style=\"text-align: right;\">\n",
       "      <th></th>\n",
       "      <th>NOC2L</th>\n",
       "      <th>HES4</th>\n",
       "      <th>ISG15</th>\n",
       "      <th>AGRN</th>\n",
       "      <th>TNFRSF18</th>\n",
       "      <th>TNFRSF4</th>\n",
       "      <th>B3GALT6</th>\n",
       "      <th>UBE2J2</th>\n",
       "      <th>ACAP3</th>\n",
       "      <th>TAS1R3</th>\n",
       "      <th>...</th>\n",
       "      <th>PLXNB2</th>\n",
       "      <th>ADM2</th>\n",
       "      <th>MIOX</th>\n",
       "      <th>SCO2</th>\n",
       "      <th>TYMP</th>\n",
       "      <th>CPT1B</th>\n",
       "      <th>CHKB</th>\n",
       "      <th>MAPK8IP2</th>\n",
       "      <th>ARSA</th>\n",
       "      <th>SHANK3</th>\n",
       "    </tr>\n",
       "  </thead>\n",
       "  <tbody>\n",
       "    <tr>\n",
       "      <th>NOC2L</th>\n",
       "      <td>1.000000</td>\n",
       "      <td>0.115011</td>\n",
       "      <td>0.173138</td>\n",
       "      <td>0.056096</td>\n",
       "      <td>0.008032</td>\n",
       "      <td>0.008727</td>\n",
       "      <td>0.006797</td>\n",
       "      <td>0.004533</td>\n",
       "      <td>0.007350</td>\n",
       "      <td>0.010391</td>\n",
       "      <td>...</td>\n",
       "      <td>0.0</td>\n",
       "      <td>0.0</td>\n",
       "      <td>0.0</td>\n",
       "      <td>0.0</td>\n",
       "      <td>0.0</td>\n",
       "      <td>0.0</td>\n",
       "      <td>0.0</td>\n",
       "      <td>0.0</td>\n",
       "      <td>0.0</td>\n",
       "      <td>0.0</td>\n",
       "    </tr>\n",
       "    <tr>\n",
       "      <th>HES4</th>\n",
       "      <td>0.115011</td>\n",
       "      <td>1.000000</td>\n",
       "      <td>0.681368</td>\n",
       "      <td>0.360588</td>\n",
       "      <td>0.011545</td>\n",
       "      <td>0.010729</td>\n",
       "      <td>0.003577</td>\n",
       "      <td>0.010230</td>\n",
       "      <td>0.010747</td>\n",
       "      <td>0.008769</td>\n",
       "      <td>...</td>\n",
       "      <td>0.0</td>\n",
       "      <td>0.0</td>\n",
       "      <td>0.0</td>\n",
       "      <td>0.0</td>\n",
       "      <td>0.0</td>\n",
       "      <td>0.0</td>\n",
       "      <td>0.0</td>\n",
       "      <td>0.0</td>\n",
       "      <td>0.0</td>\n",
       "      <td>0.0</td>\n",
       "    </tr>\n",
       "    <tr>\n",
       "      <th>ISG15</th>\n",
       "      <td>0.173138</td>\n",
       "      <td>0.681368</td>\n",
       "      <td>1.000000</td>\n",
       "      <td>0.381394</td>\n",
       "      <td>0.011774</td>\n",
       "      <td>0.012527</td>\n",
       "      <td>0.003754</td>\n",
       "      <td>0.012096</td>\n",
       "      <td>0.012679</td>\n",
       "      <td>0.010442</td>\n",
       "      <td>...</td>\n",
       "      <td>0.0</td>\n",
       "      <td>0.0</td>\n",
       "      <td>0.0</td>\n",
       "      <td>0.0</td>\n",
       "      <td>0.0</td>\n",
       "      <td>0.0</td>\n",
       "      <td>0.0</td>\n",
       "      <td>0.0</td>\n",
       "      <td>0.0</td>\n",
       "      <td>0.0</td>\n",
       "    </tr>\n",
       "    <tr>\n",
       "      <th>AGRN</th>\n",
       "      <td>0.056096</td>\n",
       "      <td>0.360588</td>\n",
       "      <td>0.381394</td>\n",
       "      <td>1.000000</td>\n",
       "      <td>0.013005</td>\n",
       "      <td>0.015775</td>\n",
       "      <td>0.006184</td>\n",
       "      <td>0.006813</td>\n",
       "      <td>0.010775</td>\n",
       "      <td>0.009189</td>\n",
       "      <td>...</td>\n",
       "      <td>0.0</td>\n",
       "      <td>0.0</td>\n",
       "      <td>0.0</td>\n",
       "      <td>0.0</td>\n",
       "      <td>0.0</td>\n",
       "      <td>0.0</td>\n",
       "      <td>0.0</td>\n",
       "      <td>0.0</td>\n",
       "      <td>0.0</td>\n",
       "      <td>0.0</td>\n",
       "    </tr>\n",
       "    <tr>\n",
       "      <th>TNFRSF18</th>\n",
       "      <td>0.008032</td>\n",
       "      <td>0.011545</td>\n",
       "      <td>0.011774</td>\n",
       "      <td>0.013005</td>\n",
       "      <td>1.000000</td>\n",
       "      <td>0.356676</td>\n",
       "      <td>0.454010</td>\n",
       "      <td>0.137643</td>\n",
       "      <td>0.200340</td>\n",
       "      <td>0.093210</td>\n",
       "      <td>...</td>\n",
       "      <td>0.0</td>\n",
       "      <td>0.0</td>\n",
       "      <td>0.0</td>\n",
       "      <td>0.0</td>\n",
       "      <td>0.0</td>\n",
       "      <td>0.0</td>\n",
       "      <td>0.0</td>\n",
       "      <td>0.0</td>\n",
       "      <td>0.0</td>\n",
       "      <td>0.0</td>\n",
       "    </tr>\n",
       "  </tbody>\n",
       "</table>\n",
       "<p>5 rows × 6442 columns</p>\n",
       "</div>"
      ],
      "text/plain": [
       "             NOC2L      HES4     ISG15      AGRN  TNFRSF18   TNFRSF4  \\\n",
       "NOC2L     1.000000  0.115011  0.173138  0.056096  0.008032  0.008727   \n",
       "HES4      0.115011  1.000000  0.681368  0.360588  0.011545  0.010729   \n",
       "ISG15     0.173138  0.681368  1.000000  0.381394  0.011774  0.012527   \n",
       "AGRN      0.056096  0.360588  0.381394  1.000000  0.013005  0.015775   \n",
       "TNFRSF18  0.008032  0.011545  0.011774  0.013005  1.000000  0.356676   \n",
       "\n",
       "           B3GALT6    UBE2J2     ACAP3    TAS1R3  ...  PLXNB2  ADM2  MIOX  \\\n",
       "NOC2L     0.006797  0.004533  0.007350  0.010391  ...     0.0   0.0   0.0   \n",
       "HES4      0.003577  0.010230  0.010747  0.008769  ...     0.0   0.0   0.0   \n",
       "ISG15     0.003754  0.012096  0.012679  0.010442  ...     0.0   0.0   0.0   \n",
       "AGRN      0.006184  0.006813  0.010775  0.009189  ...     0.0   0.0   0.0   \n",
       "TNFRSF18  0.454010  0.137643  0.200340  0.093210  ...     0.0   0.0   0.0   \n",
       "\n",
       "          SCO2  TYMP  CPT1B  CHKB  MAPK8IP2  ARSA  SHANK3  \n",
       "NOC2L      0.0   0.0    0.0   0.0       0.0   0.0     0.0  \n",
       "HES4       0.0   0.0    0.0   0.0       0.0   0.0     0.0  \n",
       "ISG15      0.0   0.0    0.0   0.0       0.0   0.0     0.0  \n",
       "AGRN       0.0   0.0    0.0   0.0       0.0   0.0     0.0  \n",
       "TNFRSF18   0.0   0.0    0.0   0.0       0.0   0.0     0.0  \n",
       "\n",
       "[5 rows x 6442 columns]"
      ]
     },
     "execution_count": 18,
     "metadata": {},
     "output_type": "execute_result"
    }
   ],
   "source": [
    "orig_corr_mat.head()"
   ]
  },
  {
   "cell_type": "markdown",
   "id": "9b4872de-b652-4b2e-ab3d-6e326548592b",
   "metadata": {
    "papermill": {
     "duration": 0.01453,
     "end_time": "2022-07-11T13:22:11.041316",
     "exception": false,
     "start_time": "2022-07-11T13:22:11.026786",
     "status": "completed"
    },
    "tags": []
   },
   "source": [
    "## Load cohort metadata"
   ]
  },
  {
   "cell_type": "code",
   "execution_count": 19,
   "id": "66155d03-e4cf-4b6e-954e-00fd8af9fe65",
   "metadata": {},
   "outputs": [],
   "source": [
    "gene_tissues_df = pd.read_pickle(\n",
    "    OUTPUT_DIR / \"cohort_1000g_eur_metadata\" / \"gene_tissues.pkl.gz\"\n",
    ").set_index(\"gene_name\")"
   ]
  },
  {
   "cell_type": "code",
   "execution_count": 20,
   "id": "3180282c-74ac-42da-bab2-1f30c1d6b13f",
   "metadata": {},
   "outputs": [
    {
     "data": {
      "text/plain": [
       "(22314, 5)"
      ]
     },
     "execution_count": 20,
     "metadata": {},
     "output_type": "execute_result"
    }
   ],
   "source": [
    "gene_tissues_df.shape"
   ]
  },
  {
   "cell_type": "code",
   "execution_count": 21,
   "id": "f3f6e0ca-eceb-4de8-a3c8-cfbbb78e2666",
   "metadata": {},
   "outputs": [],
   "source": [
    "gene_tissues_df = gene_tissues_df.loc[~gene_tissues_df.index.duplicated(keep=\"first\")]"
   ]
  },
  {
   "cell_type": "code",
   "execution_count": 22,
   "id": "58592992-5436-4f90-95f9-1cb24df8864e",
   "metadata": {},
   "outputs": [
    {
     "data": {
      "text/plain": [
       "(22308, 5)"
      ]
     },
     "execution_count": 22,
     "metadata": {},
     "output_type": "execute_result"
    }
   ],
   "source": [
    "gene_tissues_df.shape"
   ]
  },
  {
   "cell_type": "code",
   "execution_count": 23,
   "id": "81954acb-3ccb-4a70-b371-0d35b13953b2",
   "metadata": {},
   "outputs": [],
   "source": [
    "assert gene_tissues_df.index.is_unique"
   ]
  },
  {
   "cell_type": "code",
   "execution_count": 24,
   "id": "00d31d31-fdc8-4403-abac-dbd622ab57e2",
   "metadata": {},
   "outputs": [
    {
     "data": {
      "text/html": [
       "<div>\n",
       "<style scoped>\n",
       "    .dataframe tbody tr th:only-of-type {\n",
       "        vertical-align: middle;\n",
       "    }\n",
       "\n",
       "    .dataframe tbody tr th {\n",
       "        vertical-align: top;\n",
       "    }\n",
       "\n",
       "    .dataframe thead th {\n",
       "        text-align: right;\n",
       "    }\n",
       "</style>\n",
       "<table border=\"1\" class=\"dataframe\">\n",
       "  <thead>\n",
       "    <tr style=\"text-align: right;\">\n",
       "      <th></th>\n",
       "      <th>tissue</th>\n",
       "      <th>n_snps_used_sum</th>\n",
       "      <th>n_snps_in_model_sum</th>\n",
       "      <th>unique_n_snps_in_model</th>\n",
       "      <th>unique_n_snps_used</th>\n",
       "    </tr>\n",
       "    <tr>\n",
       "      <th>gene_name</th>\n",
       "      <th></th>\n",
       "      <th></th>\n",
       "      <th></th>\n",
       "      <th></th>\n",
       "      <th></th>\n",
       "    </tr>\n",
       "  </thead>\n",
       "  <tbody>\n",
       "    <tr>\n",
       "      <th>DPM1</th>\n",
       "      <td>(Brain_Hypothalamus, Brain_Substantia_nigra)</td>\n",
       "      <td>2</td>\n",
       "      <td>2</td>\n",
       "      <td>2</td>\n",
       "      <td>2</td>\n",
       "    </tr>\n",
       "    <tr>\n",
       "      <th>SCYL3</th>\n",
       "      <td>(Colon_Transverse, Brain_Cerebellum, Brain_Hip...</td>\n",
       "      <td>88</td>\n",
       "      <td>90</td>\n",
       "      <td>18</td>\n",
       "      <td>17</td>\n",
       "    </tr>\n",
       "    <tr>\n",
       "      <th>C1orf112</th>\n",
       "      <td>(Colon_Transverse, Brain_Cerebellum, Brain_Hip...</td>\n",
       "      <td>62</td>\n",
       "      <td>64</td>\n",
       "      <td>24</td>\n",
       "      <td>22</td>\n",
       "    </tr>\n",
       "    <tr>\n",
       "      <th>FGR</th>\n",
       "      <td>(Colon_Transverse, Brain_Cerebellum, Brain_Hip...</td>\n",
       "      <td>40</td>\n",
       "      <td>40</td>\n",
       "      <td>5</td>\n",
       "      <td>5</td>\n",
       "    </tr>\n",
       "    <tr>\n",
       "      <th>CFH</th>\n",
       "      <td>(Colon_Transverse, Brain_Cerebellum, Brain_Hip...</td>\n",
       "      <td>44</td>\n",
       "      <td>44</td>\n",
       "      <td>12</td>\n",
       "      <td>12</td>\n",
       "    </tr>\n",
       "  </tbody>\n",
       "</table>\n",
       "</div>"
      ],
      "text/plain": [
       "                                                      tissue  n_snps_used_sum  \\\n",
       "gene_name                                                                       \n",
       "DPM1            (Brain_Hypothalamus, Brain_Substantia_nigra)                2   \n",
       "SCYL3      (Colon_Transverse, Brain_Cerebellum, Brain_Hip...               88   \n",
       "C1orf112   (Colon_Transverse, Brain_Cerebellum, Brain_Hip...               62   \n",
       "FGR        (Colon_Transverse, Brain_Cerebellum, Brain_Hip...               40   \n",
       "CFH        (Colon_Transverse, Brain_Cerebellum, Brain_Hip...               44   \n",
       "\n",
       "           n_snps_in_model_sum  unique_n_snps_in_model  unique_n_snps_used  \n",
       "gene_name                                                                   \n",
       "DPM1                         2                       2                   2  \n",
       "SCYL3                       90                      18                  17  \n",
       "C1orf112                    64                      24                  22  \n",
       "FGR                         40                       5                   5  \n",
       "CFH                         44                      12                  12  "
      ]
     },
     "execution_count": 24,
     "metadata": {},
     "output_type": "execute_result"
    }
   ],
   "source": [
    "gene_tissues_df.head()"
   ]
  },
  {
   "cell_type": "markdown",
   "id": "64319eb4-7a3a-472d-b1ab-a82791dbca11",
   "metadata": {
    "papermill": {
     "duration": 0.233317,
     "end_time": "2022-07-11T13:23:15.815161",
     "exception": false,
     "start_time": "2022-07-11T13:23:15.581844",
     "status": "completed"
    },
    "tags": []
   },
   "source": [
    "# Functions"
   ]
  },
  {
   "cell_type": "code",
   "execution_count": 175,
   "id": "d4864e24-7153-49de-88ee-30acc3449d3b",
   "metadata": {},
   "outputs": [],
   "source": [
    "def get_data(\n",
    "    lv_code,\n",
    "    random_phenotype_code,\n",
    "    add_covars=False,\n",
    "    add_covars_logs=False,\n",
    "):\n",
    "    target_data = load_multixcan_random_phenotype(random_phenotype_code)[\"pvalue\"]\n",
    "    y = pd.Series(\n",
    "        data=-np.log10(target_data.to_numpy()),\n",
    "        index=target_data.index.copy(),\n",
    "    )\n",
    "\n",
    "    y = y[~y.index.duplicated(keep=\"first\")]\n",
    "    y = y.dropna()\n",
    "\n",
    "    X = multiplier_z[lv_code].copy()\n",
    "\n",
    "    common_genes = orig_corr_mat.index.intersection(y.index).intersection(X.index)\n",
    "    y = y.loc[common_genes]\n",
    "    X = X.loc[common_genes]\n",
    "\n",
    "    # binarize\n",
    "    x_perc = 0.01\n",
    "    x_q = X.quantile(1.0 - x_perc)\n",
    "    x_binarized = X.copy()\n",
    "    # make sure top genes have nonzero weights\n",
    "    x_cond = (x_binarized > 0.0) & (x_binarized >= x_q)\n",
    "    x_binarized[x_cond] = 1.0\n",
    "    x_binarized[~x_cond] = 0.0\n",
    "    X = x_binarized\n",
    "\n",
    "    X = sm.add_constant(X)\n",
    "\n",
    "    if add_covars:\n",
    "        covars = load_multixcan_random_phenotype(random_phenotype_code)[\n",
    "            [\"n\", \"n_indep\"]\n",
    "        ]\n",
    "        covars = covars[~covars.index.duplicated(keep=\"first\")]\n",
    "        covars = covars.loc[X.index]\n",
    "\n",
    "        # gene-level covariates (S-MultiXcan)\n",
    "        covars = covars.rename(\n",
    "            columns={\n",
    "                \"n_indep\": \"gene_size\",\n",
    "            }\n",
    "        )\n",
    "        covars = covars.assign(\n",
    "            gene_density=covars.apply(lambda x: x[\"gene_size\"] / x[\"n\"], axis=1)\n",
    "        )\n",
    "\n",
    "        if add_covars_logs:\n",
    "            covars[\"gene_size_log\"] = np.log(covars[\"gene_size\"])\n",
    "            covars[\"gene_density_log\"] = -np.log(covars[\"gene_density\"])\n",
    "\n",
    "        # if add_covars:\n",
    "        covars = covars.drop(columns=[c for c in covars.columns if c in (\"n\",)])\n",
    "\n",
    "        X = X.join(covars)\n",
    "\n",
    "    return X, y"
   ]
  },
  {
   "cell_type": "code",
   "execution_count": 26,
   "id": "9dd68960-dc49-4498-b30a-5af92dc2df83",
   "metadata": {},
   "outputs": [],
   "source": [
    "# testing\n",
    "_X, _y = get_data(\"LV7\", 10)\n",
    "assert _X.shape[0] < 7000\n",
    "assert _X.shape[1] == 2\n",
    "assert \"LV7\" in _X.columns\n",
    "assert \"const\" in _X.columns\n",
    "assert not _X.isna().any(None)\n",
    "\n",
    "assert _y.shape[0] == _X.shape[0]\n",
    "assert not _y.isna().any(None)\n",
    "\n",
    "x_summary = _X[\"LV7\"].value_counts()\n",
    "assert x_summary.shape[0] == 2, \"Wrong binarization\"\n",
    "n_pos = int(x_summary.loc[1.0])\n",
    "n_neg = int(x_summary.loc[0.0])\n",
    "assert n_pos > 10\n",
    "assert n_neg > 10\n",
    "assert n_pos < n_neg"
   ]
  },
  {
   "cell_type": "code",
   "execution_count": 27,
   "id": "3f014c4d-7086-4e6e-aeca-3e7f9a238a4f",
   "metadata": {},
   "outputs": [
    {
     "data": {
      "text/html": [
       "<div>\n",
       "<style scoped>\n",
       "    .dataframe tbody tr th:only-of-type {\n",
       "        vertical-align: middle;\n",
       "    }\n",
       "\n",
       "    .dataframe tbody tr th {\n",
       "        vertical-align: top;\n",
       "    }\n",
       "\n",
       "    .dataframe thead th {\n",
       "        text-align: right;\n",
       "    }\n",
       "</style>\n",
       "<table border=\"1\" class=\"dataframe\">\n",
       "  <thead>\n",
       "    <tr style=\"text-align: right;\">\n",
       "      <th></th>\n",
       "      <th>const</th>\n",
       "      <th>LV7</th>\n",
       "    </tr>\n",
       "  </thead>\n",
       "  <tbody>\n",
       "    <tr>\n",
       "      <th>NOC2L</th>\n",
       "      <td>1.0</td>\n",
       "      <td>0.0</td>\n",
       "    </tr>\n",
       "    <tr>\n",
       "      <th>HES4</th>\n",
       "      <td>1.0</td>\n",
       "      <td>0.0</td>\n",
       "    </tr>\n",
       "    <tr>\n",
       "      <th>ISG15</th>\n",
       "      <td>1.0</td>\n",
       "      <td>0.0</td>\n",
       "    </tr>\n",
       "    <tr>\n",
       "      <th>AGRN</th>\n",
       "      <td>1.0</td>\n",
       "      <td>0.0</td>\n",
       "    </tr>\n",
       "    <tr>\n",
       "      <th>TNFRSF18</th>\n",
       "      <td>1.0</td>\n",
       "      <td>0.0</td>\n",
       "    </tr>\n",
       "  </tbody>\n",
       "</table>\n",
       "</div>"
      ],
      "text/plain": [
       "          const  LV7\n",
       "NOC2L       1.0  0.0\n",
       "HES4        1.0  0.0\n",
       "ISG15       1.0  0.0\n",
       "AGRN        1.0  0.0\n",
       "TNFRSF18    1.0  0.0"
      ]
     },
     "execution_count": 27,
     "metadata": {},
     "output_type": "execute_result"
    }
   ],
   "source": [
    "_X.head()"
   ]
  },
  {
   "cell_type": "code",
   "execution_count": 28,
   "id": "70aa7583-aa21-45db-a0dd-108fbe623c00",
   "metadata": {},
   "outputs": [
    {
     "data": {
      "text/plain": [
       "NOC2L       0.303820\n",
       "HES4        1.900225\n",
       "ISG15       1.233268\n",
       "AGRN        0.814805\n",
       "TNFRSF18    0.157074\n",
       "dtype: float64"
      ]
     },
     "execution_count": 28,
     "metadata": {},
     "output_type": "execute_result"
    }
   ],
   "source": [
    "_y.head()"
   ]
  },
  {
   "cell_type": "code",
   "execution_count": 29,
   "id": "d37bab30-81dd-4415-895d-959769910f7d",
   "metadata": {},
   "outputs": [],
   "source": [
    "# testing\n",
    "_X, _y = get_data(\"LV7\", 10, add_covars=True)\n",
    "assert _X.shape[0] < 7000\n",
    "assert _X.shape[1] == 2 + 4\n",
    "assert \"LV7\" in _X.columns\n",
    "assert \"const\" in _X.columns\n",
    "assert \"gene_size\" in _X.columns\n",
    "assert \"gene_density\" in _X.columns\n",
    "assert \"gene_n_snps_used\" in _X.columns\n",
    "assert \"gene_n_snps_used_sharing\" in _X.columns\n",
    "assert not _X.isna().any(None)\n",
    "\n",
    "assert _y.shape[0] == _X.shape[0]\n",
    "assert not _y.isna().any(None)"
   ]
  },
  {
   "cell_type": "code",
   "execution_count": 30,
   "id": "322d966b-fc04-4d59-9471-299a7446c971",
   "metadata": {},
   "outputs": [
    {
     "data": {
      "text/html": [
       "<div>\n",
       "<style scoped>\n",
       "    .dataframe tbody tr th:only-of-type {\n",
       "        vertical-align: middle;\n",
       "    }\n",
       "\n",
       "    .dataframe tbody tr th {\n",
       "        vertical-align: top;\n",
       "    }\n",
       "\n",
       "    .dataframe thead th {\n",
       "        text-align: right;\n",
       "    }\n",
       "</style>\n",
       "<table border=\"1\" class=\"dataframe\">\n",
       "  <thead>\n",
       "    <tr style=\"text-align: right;\">\n",
       "      <th></th>\n",
       "      <th>const</th>\n",
       "      <th>LV7</th>\n",
       "      <th>gene_size</th>\n",
       "      <th>gene_density</th>\n",
       "      <th>gene_n_snps_used</th>\n",
       "      <th>gene_n_snps_used_sharing</th>\n",
       "    </tr>\n",
       "  </thead>\n",
       "  <tbody>\n",
       "    <tr>\n",
       "      <th>NOC2L</th>\n",
       "      <td>1.0</td>\n",
       "      <td>0.0</td>\n",
       "      <td>5.0</td>\n",
       "      <td>0.106383</td>\n",
       "      <td>103</td>\n",
       "      <td>4.478261</td>\n",
       "    </tr>\n",
       "    <tr>\n",
       "      <th>HES4</th>\n",
       "      <td>1.0</td>\n",
       "      <td>0.0</td>\n",
       "      <td>3.0</td>\n",
       "      <td>0.068182</td>\n",
       "      <td>55</td>\n",
       "      <td>6.875000</td>\n",
       "    </tr>\n",
       "    <tr>\n",
       "      <th>ISG15</th>\n",
       "      <td>1.0</td>\n",
       "      <td>0.0</td>\n",
       "      <td>6.0</td>\n",
       "      <td>0.142857</td>\n",
       "      <td>59</td>\n",
       "      <td>2.565217</td>\n",
       "    </tr>\n",
       "    <tr>\n",
       "      <th>AGRN</th>\n",
       "      <td>1.0</td>\n",
       "      <td>0.0</td>\n",
       "      <td>4.0</td>\n",
       "      <td>0.086957</td>\n",
       "      <td>75</td>\n",
       "      <td>5.000000</td>\n",
       "    </tr>\n",
       "    <tr>\n",
       "      <th>TNFRSF18</th>\n",
       "      <td>1.0</td>\n",
       "      <td>0.0</td>\n",
       "      <td>4.0</td>\n",
       "      <td>0.088889</td>\n",
       "      <td>65</td>\n",
       "      <td>2.407407</td>\n",
       "    </tr>\n",
       "  </tbody>\n",
       "</table>\n",
       "</div>"
      ],
      "text/plain": [
       "          const  LV7  gene_size  gene_density  gene_n_snps_used  \\\n",
       "NOC2L       1.0  0.0        5.0      0.106383               103   \n",
       "HES4        1.0  0.0        3.0      0.068182                55   \n",
       "ISG15       1.0  0.0        6.0      0.142857                59   \n",
       "AGRN        1.0  0.0        4.0      0.086957                75   \n",
       "TNFRSF18    1.0  0.0        4.0      0.088889                65   \n",
       "\n",
       "          gene_n_snps_used_sharing  \n",
       "NOC2L                     4.478261  \n",
       "HES4                      6.875000  \n",
       "ISG15                     2.565217  \n",
       "AGRN                      5.000000  \n",
       "TNFRSF18                  2.407407  "
      ]
     },
     "execution_count": 30,
     "metadata": {},
     "output_type": "execute_result"
    }
   ],
   "source": [
    "_X.head()"
   ]
  },
  {
   "cell_type": "code",
   "execution_count": 31,
   "id": "e43870e5-5140-4d6c-a375-364162c4952f",
   "metadata": {},
   "outputs": [
    {
     "data": {
      "text/plain": [
       "tissue                    (Colon_Transverse, Brain_Hippocampus, Prostate...\n",
       "n_snps_used_sum                                                          65\n",
       "n_snps_in_model_sum                                                      66\n",
       "unique_n_snps_in_model                                                   28\n",
       "unique_n_snps_used                                                       27\n",
       "Name: TNFRSF18, dtype: object"
      ]
     },
     "execution_count": 31,
     "metadata": {},
     "output_type": "execute_result"
    }
   ],
   "source": [
    "# load_multixcan_random_phenotype(10).loc[\"TNFRSF18\"]\n",
    "gene_tissues_df.loc[\"TNFRSF18\"]"
   ]
  },
  {
   "cell_type": "code",
   "execution_count": 32,
   "id": "4a997d26-bac3-4186-b4c3-c744cf745a5f",
   "metadata": {},
   "outputs": [],
   "source": [
    "assert _X.loc[\"TNFRSF18\", \"gene_size\"] == 4.0\n",
    "assert _X.loc[\"TNFRSF18\", \"gene_density\"] == 4 / 45.0\n",
    "assert _X.loc[\"TNFRSF18\", \"gene_n_snps_used\"] == 65\n",
    "assert _X.loc[\"TNFRSF18\", \"gene_n_snps_used_sharing\"] == 65 / 27.0"
   ]
  },
  {
   "cell_type": "code",
   "execution_count": 33,
   "id": "17e3ccc5-a267-4691-89f4-db8c677b534e",
   "metadata": {},
   "outputs": [
    {
     "data": {
      "text/plain": [
       "NOC2L       0.303820\n",
       "HES4        1.900225\n",
       "ISG15       1.233268\n",
       "AGRN        0.814805\n",
       "TNFRSF18    0.157074\n",
       "dtype: float64"
      ]
     },
     "execution_count": 33,
     "metadata": {},
     "output_type": "execute_result"
    }
   ],
   "source": [
    "_y.head()"
   ]
  },
  {
   "cell_type": "code",
   "execution_count": 34,
   "id": "b5b4e879-8b1f-418d-ab5c-30e47d4fa984",
   "metadata": {},
   "outputs": [],
   "source": [
    "# testing\n",
    "_X, _y = get_data(\"LV7\", 10, add_covars=True, add_covars_logs=True)\n",
    "assert _X.shape[0] < 7000\n",
    "assert _X.shape[1] == 2 + 4 + 4\n",
    "assert \"LV7\" in _X.columns\n",
    "assert \"const\" in _X.columns\n",
    "assert \"gene_size\" in _X.columns\n",
    "assert \"gene_size_log\" in _X.columns\n",
    "assert \"gene_density\" in _X.columns\n",
    "assert \"gene_density_log\" in _X.columns\n",
    "assert \"gene_n_snps_used\" in _X.columns\n",
    "assert \"gene_n_snps_used_log\" in _X.columns\n",
    "assert \"gene_n_snps_used_sharing\" in _X.columns\n",
    "assert \"gene_n_snps_used_sharing_log\" in _X.columns\n",
    "assert not _X.isna().any(None)\n",
    "\n",
    "assert _X[\"gene_density\"].between(0.0, 1.0, inclusive=\"right\").all()\n",
    "assert _X[\"gene_density_log\"].min() >= 0.0\n",
    "assert _X[\"gene_size\"].min() >= 0.0\n",
    "assert _X[\"gene_size_log\"].min() >= 0.0\n",
    "assert _X[\"gene_n_snps_used\"].min() >= 0.0\n",
    "assert _X[\"gene_n_snps_used_log\"].min() >= 0.0\n",
    "assert _X[\"gene_n_snps_used_sharing\"].min() >= 0.0\n",
    "assert _X[\"gene_n_snps_used_sharing_log\"].min() >= 0.0\n",
    "\n",
    "assert _y.shape[0] == _X.shape[0]\n",
    "assert not _y.isna().any(None)"
   ]
  },
  {
   "cell_type": "code",
   "execution_count": 35,
   "id": "bf6ad5e6-37ac-4f0e-8448-2af7d1a2cd1a",
   "metadata": {},
   "outputs": [
    {
     "data": {
      "text/html": [
       "<div>\n",
       "<style scoped>\n",
       "    .dataframe tbody tr th:only-of-type {\n",
       "        vertical-align: middle;\n",
       "    }\n",
       "\n",
       "    .dataframe tbody tr th {\n",
       "        vertical-align: top;\n",
       "    }\n",
       "\n",
       "    .dataframe thead th {\n",
       "        text-align: right;\n",
       "    }\n",
       "</style>\n",
       "<table border=\"1\" class=\"dataframe\">\n",
       "  <thead>\n",
       "    <tr style=\"text-align: right;\">\n",
       "      <th></th>\n",
       "      <th>const</th>\n",
       "      <th>LV7</th>\n",
       "      <th>gene_size</th>\n",
       "      <th>gene_density</th>\n",
       "      <th>gene_size_log</th>\n",
       "      <th>gene_density_log</th>\n",
       "      <th>gene_n_snps_used</th>\n",
       "      <th>gene_n_snps_used_sharing</th>\n",
       "      <th>gene_n_snps_used_log</th>\n",
       "      <th>gene_n_snps_used_sharing_log</th>\n",
       "    </tr>\n",
       "  </thead>\n",
       "  <tbody>\n",
       "    <tr>\n",
       "      <th>NOC2L</th>\n",
       "      <td>1.0</td>\n",
       "      <td>0.0</td>\n",
       "      <td>5.0</td>\n",
       "      <td>0.106383</td>\n",
       "      <td>1.609438</td>\n",
       "      <td>2.240710</td>\n",
       "      <td>103</td>\n",
       "      <td>4.478261</td>\n",
       "      <td>4.634729</td>\n",
       "      <td>1.499235</td>\n",
       "    </tr>\n",
       "    <tr>\n",
       "      <th>HES4</th>\n",
       "      <td>1.0</td>\n",
       "      <td>0.0</td>\n",
       "      <td>3.0</td>\n",
       "      <td>0.068182</td>\n",
       "      <td>1.098612</td>\n",
       "      <td>2.685577</td>\n",
       "      <td>55</td>\n",
       "      <td>6.875000</td>\n",
       "      <td>4.007333</td>\n",
       "      <td>1.927892</td>\n",
       "    </tr>\n",
       "    <tr>\n",
       "      <th>ISG15</th>\n",
       "      <td>1.0</td>\n",
       "      <td>0.0</td>\n",
       "      <td>6.0</td>\n",
       "      <td>0.142857</td>\n",
       "      <td>1.791759</td>\n",
       "      <td>1.945910</td>\n",
       "      <td>59</td>\n",
       "      <td>2.565217</td>\n",
       "      <td>4.077537</td>\n",
       "      <td>0.942043</td>\n",
       "    </tr>\n",
       "    <tr>\n",
       "      <th>AGRN</th>\n",
       "      <td>1.0</td>\n",
       "      <td>0.0</td>\n",
       "      <td>4.0</td>\n",
       "      <td>0.086957</td>\n",
       "      <td>1.386294</td>\n",
       "      <td>2.442347</td>\n",
       "      <td>75</td>\n",
       "      <td>5.000000</td>\n",
       "      <td>4.317488</td>\n",
       "      <td>1.609438</td>\n",
       "    </tr>\n",
       "    <tr>\n",
       "      <th>TNFRSF18</th>\n",
       "      <td>1.0</td>\n",
       "      <td>0.0</td>\n",
       "      <td>4.0</td>\n",
       "      <td>0.088889</td>\n",
       "      <td>1.386294</td>\n",
       "      <td>2.420368</td>\n",
       "      <td>65</td>\n",
       "      <td>2.407407</td>\n",
       "      <td>4.174387</td>\n",
       "      <td>0.878550</td>\n",
       "    </tr>\n",
       "  </tbody>\n",
       "</table>\n",
       "</div>"
      ],
      "text/plain": [
       "          const  LV7  gene_size  gene_density  gene_size_log  \\\n",
       "NOC2L       1.0  0.0        5.0      0.106383       1.609438   \n",
       "HES4        1.0  0.0        3.0      0.068182       1.098612   \n",
       "ISG15       1.0  0.0        6.0      0.142857       1.791759   \n",
       "AGRN        1.0  0.0        4.0      0.086957       1.386294   \n",
       "TNFRSF18    1.0  0.0        4.0      0.088889       1.386294   \n",
       "\n",
       "          gene_density_log  gene_n_snps_used  gene_n_snps_used_sharing  \\\n",
       "NOC2L             2.240710               103                  4.478261   \n",
       "HES4              2.685577                55                  6.875000   \n",
       "ISG15             1.945910                59                  2.565217   \n",
       "AGRN              2.442347                75                  5.000000   \n",
       "TNFRSF18          2.420368                65                  2.407407   \n",
       "\n",
       "          gene_n_snps_used_log  gene_n_snps_used_sharing_log  \n",
       "NOC2L                 4.634729                      1.499235  \n",
       "HES4                  4.007333                      1.927892  \n",
       "ISG15                 4.077537                      0.942043  \n",
       "AGRN                  4.317488                      1.609438  \n",
       "TNFRSF18              4.174387                      0.878550  "
      ]
     },
     "execution_count": 35,
     "metadata": {},
     "output_type": "execute_result"
    }
   ],
   "source": [
    "_X.head()"
   ]
  },
  {
   "cell_type": "code",
   "execution_count": 36,
   "id": "7bbe362e-2d55-4169-9206-ffd99312cfd7",
   "metadata": {},
   "outputs": [
    {
     "data": {
      "text/html": [
       "<div>\n",
       "<style scoped>\n",
       "    .dataframe tbody tr th:only-of-type {\n",
       "        vertical-align: middle;\n",
       "    }\n",
       "\n",
       "    .dataframe tbody tr th {\n",
       "        vertical-align: top;\n",
       "    }\n",
       "\n",
       "    .dataframe thead th {\n",
       "        text-align: right;\n",
       "    }\n",
       "</style>\n",
       "<table border=\"1\" class=\"dataframe\">\n",
       "  <thead>\n",
       "    <tr style=\"text-align: right;\">\n",
       "      <th></th>\n",
       "      <th>const</th>\n",
       "      <th>LV7</th>\n",
       "      <th>gene_size</th>\n",
       "      <th>gene_density</th>\n",
       "      <th>gene_size_log</th>\n",
       "      <th>gene_density_log</th>\n",
       "      <th>gene_n_snps_used</th>\n",
       "      <th>gene_n_snps_used_sharing</th>\n",
       "      <th>gene_n_snps_used_log</th>\n",
       "      <th>gene_n_snps_used_sharing_log</th>\n",
       "    </tr>\n",
       "  </thead>\n",
       "  <tbody>\n",
       "    <tr>\n",
       "      <th>count</th>\n",
       "      <td>6442.0</td>\n",
       "      <td>6442.000000</td>\n",
       "      <td>6442.000000</td>\n",
       "      <td>6442.000000</td>\n",
       "      <td>6442.000000</td>\n",
       "      <td>6442.000000</td>\n",
       "      <td>6442.000000</td>\n",
       "      <td>6442.000000</td>\n",
       "      <td>6442.000000</td>\n",
       "      <td>6442.000000</td>\n",
       "    </tr>\n",
       "    <tr>\n",
       "      <th>mean</th>\n",
       "      <td>1.0</td>\n",
       "      <td>0.010090</td>\n",
       "      <td>4.365414</td>\n",
       "      <td>0.168023</td>\n",
       "      <td>1.327457</td>\n",
       "      <td>2.133689</td>\n",
       "      <td>56.451568</td>\n",
       "      <td>5.540752</td>\n",
       "      <td>3.816128</td>\n",
       "      <td>1.500996</td>\n",
       "    </tr>\n",
       "    <tr>\n",
       "      <th>std</th>\n",
       "      <td>0.0</td>\n",
       "      <td>0.099949</td>\n",
       "      <td>2.317113</td>\n",
       "      <td>0.174679</td>\n",
       "      <td>0.564483</td>\n",
       "      <td>0.801807</td>\n",
       "      <td>30.091728</td>\n",
       "      <td>4.376953</td>\n",
       "      <td>0.795153</td>\n",
       "      <td>0.636456</td>\n",
       "    </tr>\n",
       "    <tr>\n",
       "      <th>min</th>\n",
       "      <td>1.0</td>\n",
       "      <td>0.000000</td>\n",
       "      <td>1.000000</td>\n",
       "      <td>0.020408</td>\n",
       "      <td>0.000000</td>\n",
       "      <td>-0.000000</td>\n",
       "      <td>1.000000</td>\n",
       "      <td>1.000000</td>\n",
       "      <td>0.000000</td>\n",
       "      <td>0.000000</td>\n",
       "    </tr>\n",
       "    <tr>\n",
       "      <th>25%</th>\n",
       "      <td>1.0</td>\n",
       "      <td>0.000000</td>\n",
       "      <td>3.000000</td>\n",
       "      <td>0.066667</td>\n",
       "      <td>1.098612</td>\n",
       "      <td>1.658228</td>\n",
       "      <td>35.000000</td>\n",
       "      <td>3.000000</td>\n",
       "      <td>3.555348</td>\n",
       "      <td>1.098612</td>\n",
       "    </tr>\n",
       "    <tr>\n",
       "      <th>50%</th>\n",
       "      <td>1.0</td>\n",
       "      <td>0.000000</td>\n",
       "      <td>4.000000</td>\n",
       "      <td>0.108696</td>\n",
       "      <td>1.386294</td>\n",
       "      <td>2.219203</td>\n",
       "      <td>55.000000</td>\n",
       "      <td>4.489130</td>\n",
       "      <td>4.007333</td>\n",
       "      <td>1.501656</td>\n",
       "    </tr>\n",
       "    <tr>\n",
       "      <th>75%</th>\n",
       "      <td>1.0</td>\n",
       "      <td>0.000000</td>\n",
       "      <td>6.000000</td>\n",
       "      <td>0.190476</td>\n",
       "      <td>1.791759</td>\n",
       "      <td>2.708050</td>\n",
       "      <td>77.000000</td>\n",
       "      <td>6.750000</td>\n",
       "      <td>4.343805</td>\n",
       "      <td>1.909543</td>\n",
       "    </tr>\n",
       "    <tr>\n",
       "      <th>max</th>\n",
       "      <td>1.0</td>\n",
       "      <td>1.000000</td>\n",
       "      <td>18.000000</td>\n",
       "      <td>1.000000</td>\n",
       "      <td>2.890372</td>\n",
       "      <td>3.891820</td>\n",
       "      <td>204.000000</td>\n",
       "      <td>49.000000</td>\n",
       "      <td>5.318120</td>\n",
       "      <td>3.891820</td>\n",
       "    </tr>\n",
       "  </tbody>\n",
       "</table>\n",
       "</div>"
      ],
      "text/plain": [
       "        const          LV7    gene_size  gene_density  gene_size_log  \\\n",
       "count  6442.0  6442.000000  6442.000000   6442.000000    6442.000000   \n",
       "mean      1.0     0.010090     4.365414      0.168023       1.327457   \n",
       "std       0.0     0.099949     2.317113      0.174679       0.564483   \n",
       "min       1.0     0.000000     1.000000      0.020408       0.000000   \n",
       "25%       1.0     0.000000     3.000000      0.066667       1.098612   \n",
       "50%       1.0     0.000000     4.000000      0.108696       1.386294   \n",
       "75%       1.0     0.000000     6.000000      0.190476       1.791759   \n",
       "max       1.0     1.000000    18.000000      1.000000       2.890372   \n",
       "\n",
       "       gene_density_log  gene_n_snps_used  gene_n_snps_used_sharing  \\\n",
       "count       6442.000000       6442.000000               6442.000000   \n",
       "mean           2.133689         56.451568                  5.540752   \n",
       "std            0.801807         30.091728                  4.376953   \n",
       "min           -0.000000          1.000000                  1.000000   \n",
       "25%            1.658228         35.000000                  3.000000   \n",
       "50%            2.219203         55.000000                  4.489130   \n",
       "75%            2.708050         77.000000                  6.750000   \n",
       "max            3.891820        204.000000                 49.000000   \n",
       "\n",
       "       gene_n_snps_used_log  gene_n_snps_used_sharing_log  \n",
       "count           6442.000000                   6442.000000  \n",
       "mean               3.816128                      1.500996  \n",
       "std                0.795153                      0.636456  \n",
       "min                0.000000                      0.000000  \n",
       "25%                3.555348                      1.098612  \n",
       "50%                4.007333                      1.501656  \n",
       "75%                4.343805                      1.909543  \n",
       "max                5.318120                      3.891820  "
      ]
     },
     "execution_count": 36,
     "metadata": {},
     "output_type": "execute_result"
    }
   ],
   "source": [
    "_X.describe()"
   ]
  },
  {
   "cell_type": "code",
   "execution_count": 37,
   "id": "ec680b4c-b630-4c3b-bb5a-a8ec6edf30bf",
   "metadata": {},
   "outputs": [
    {
     "data": {
      "text/plain": [
       "NOC2L       0.303820\n",
       "HES4        1.900225\n",
       "ISG15       1.233268\n",
       "AGRN        0.814805\n",
       "TNFRSF18    0.157074\n",
       "dtype: float64"
      ]
     },
     "execution_count": 37,
     "metadata": {},
     "output_type": "execute_result"
    }
   ],
   "source": [
    "_y.head()"
   ]
  },
  {
   "cell_type": "code",
   "execution_count": 38,
   "id": "8523c426-33e5-4b6d-961b-976997f139b7",
   "metadata": {},
   "outputs": [],
   "source": [
    "def standardize_data(X, y):\n",
    "    X = X.copy()\n",
    "    y = y.copy()\n",
    "\n",
    "    c = [c for c in X.columns if c != \"const\"]\n",
    "    X[c] = (X[c] - X[c].mean()) / X[c].std()\n",
    "\n",
    "    return X, (y - y.mean()) / y.std()"
   ]
  },
  {
   "cell_type": "code",
   "execution_count": 207,
   "id": "16ee41fa-fa9a-4529-85a5-8f267c22ec92",
   "metadata": {},
   "outputs": [],
   "source": [
    "def get_aligned_corr_mat(X, perc=0.01):\n",
    "    # perc == 1.0 means select all genes\n",
    "    # perc == 0.01 means select top 1% of genes\n",
    "    # perc = None means do not subset the correlation matrix\n",
    "    gene_corrs = orig_corr_mat.loc[X.index, X.index]\n",
    "\n",
    "    if perc is None:\n",
    "        return gene_corrs\n",
    "\n",
    "    corr_mat_sub = pd.DataFrame(\n",
    "        np.eye(gene_corrs.shape[0]),\n",
    "        index=gene_corrs.index.copy(),\n",
    "        columns=gene_corrs.columns.copy(),\n",
    "    )\n",
    "\n",
    "    lv_col = X.columns[1]\n",
    "    assert lv_col.startswith(\"LV\")\n",
    "    X = X = multiplier_z[lv_col].copy()\n",
    "\n",
    "    # X_non_zero = X[X > 0]\n",
    "    X_thres = X.quantile(1.0 - perc)\n",
    "    lv_nonzero_genes = X[X >= X_thres].index\n",
    "\n",
    "    lv_nonzero_genes = lv_nonzero_genes.intersection(gene_corrs.index)\n",
    "    corr_mat_sub.loc[lv_nonzero_genes, lv_nonzero_genes] = gene_corrs.loc[\n",
    "        lv_nonzero_genes, lv_nonzero_genes\n",
    "    ]\n",
    "\n",
    "    return corr_mat_sub"
   ]
  },
  {
   "cell_type": "code",
   "execution_count": 191,
   "id": "5fd9e921-3db5-4cd2-99f7-73671c2de61d",
   "metadata": {},
   "outputs": [],
   "source": [
    "# testing\n",
    "_X_test = pd.DataFrame(\n",
    "    {\n",
    "        \"const\": 1.0,\n",
    "        \"LV1\": [1.0, 0.4, 0.0],  # the last gene has zero weight\n",
    "    },\n",
    "    index=[\n",
    "        \"PSMB10\",  # the first two genes have a high sum of correlations, to make sure the sum is not close to 1.0\n",
    "        \"SLC12A4\",\n",
    "        \"ACD\",\n",
    "    ],\n",
    ")\n",
    "\n",
    "# do not subset\n",
    "_tmp_corr = get_aligned_corr_mat(_X_test, perc=None)\n",
    "assert _tmp_corr.shape == (_X_test.shape[0], _X_test.shape[0])\n",
    "assert np.array_equal(\n",
    "    _tmp_corr.round(2).to_numpy(),\n",
    "    np.array(\n",
    "        [\n",
    "            [1.0, 0.77, 0.73],\n",
    "            [0.77, 1.0, 0.63],\n",
    "            [0.73, 0.63, 1.00],\n",
    "        ]\n",
    "    ),\n",
    ")\n",
    "\n",
    "# do subset: include all non-zero LV genes\n",
    "_tmp_corr = get_aligned_corr_mat(_X_test, perc=1.0)\n",
    "assert _tmp_corr.shape == (_X_test.shape[0], _X_test.shape[0])\n",
    "assert np.array_equal(\n",
    "    _tmp_corr.round(2).to_numpy(),\n",
    "    np.array(\n",
    "        [\n",
    "            [1.0, 0.77, 0.73],\n",
    "            [0.77, 1.0, 0.63],\n",
    "            [0.73, 0.63, 1.00],\n",
    "        ]\n",
    "    ),\n",
    ")\n",
    "\n",
    "# do subset: but perc is so low that it doesn't select  any genes\n",
    "_tmp_corr = get_aligned_corr_mat(_X_test, perc=0.001)\n",
    "assert _tmp_corr.shape == (_X_test.shape[0], _X_test.shape[0])\n",
    "assert np.array_equal(\n",
    "    _tmp_corr.round(2).to_numpy(),\n",
    "    np.array(\n",
    "        [\n",
    "            [1.0, 0.00, 0.00],\n",
    "            [0.00, 1.0, 0.00],\n",
    "            [0.00, 0.00, 1.00],\n",
    "        ]\n",
    "    ),\n",
    ")"
   ]
  },
  {
   "cell_type": "code",
   "execution_count": 192,
   "id": "f1082f1a-8912-4d45-885a-b12da15271ee",
   "metadata": {},
   "outputs": [],
   "source": [
    "def train_statsmodels_gls(X, y, corr_mat):\n",
    "    gls_model = sm.GLS(y, X, sigma=corr_mat)\n",
    "    gls_results = gls_model.fit()\n",
    "    return gls_results"
   ]
  },
  {
   "cell_type": "markdown",
   "id": "bf5fb682-5e92-4662-a6c7-0353a3594838",
   "metadata": {
    "papermill": {
     "duration": 0.012899,
     "end_time": "2022-07-11T13:23:15.569947",
     "exception": false,
     "start_time": "2022-07-11T13:23:15.557048",
     "status": "completed"
    },
    "tags": []
   },
   "source": [
    "# [full corr matrix] GLS on randomly generated phenotypes"
   ]
  },
  {
   "cell_type": "code",
   "execution_count": 112,
   "id": "1b096240-e242-4bd8-af91-77b05c8de3d9",
   "metadata": {},
   "outputs": [],
   "source": [
    "PERC_NONZERO_GENES = None"
   ]
  },
  {
   "cell_type": "markdown",
   "id": "2f832b8e-cfc1-48c1-b323-4dee054b9b82",
   "metadata": {},
   "source": [
    "## Random phenotype 6 / LV45"
   ]
  },
  {
   "cell_type": "code",
   "execution_count": 113,
   "id": "260b7aeb-eeb9-48a2-8ffb-fbfd7b0c67cf",
   "metadata": {},
   "outputs": [
    {
     "data": {
      "text/plain": [
       "'multixcan-random_phenotype6-pvalues'"
      ]
     },
     "metadata": {},
     "output_type": "display_data"
    }
   ],
   "source": [
    "lv_code = \"LV45\"\n",
    "phenotype_code = 6\n",
    "\n",
    "phenotype_name = f\"multixcan-random_phenotype{phenotype_code}-pvalues\"\n",
    "display(phenotype_name)"
   ]
  },
  {
   "cell_type": "code",
   "execution_count": 114,
   "id": "57af945a-361b-4901-b5cd-f93d7cc7cfe0",
   "metadata": {},
   "outputs": [],
   "source": [
    "X, y = get_data(lv_code, random_phenotype_code=phenotype_code)\n",
    "corr_mat = get_aligned_corr_mat(X, perc=PERC_NONZERO_GENES)"
   ]
  },
  {
   "cell_type": "code",
   "execution_count": 115,
   "id": "10795aac-e7d7-4a6f-8a0d-e31752fdacd7",
   "metadata": {},
   "outputs": [
    {
     "data": {
      "text/plain": [
       "NOC2L       0.127973\n",
       "HES4        0.105742\n",
       "ISG15       0.630088\n",
       "AGRN        0.931549\n",
       "TNFRSF18    0.440931\n",
       "              ...   \n",
       "CPT1B       0.539091\n",
       "CHKB        1.162865\n",
       "MAPK8IP2    0.064991\n",
       "ARSA        0.177164\n",
       "SHANK3      0.123442\n",
       "Length: 6442, dtype: float64"
      ]
     },
     "execution_count": 115,
     "metadata": {},
     "output_type": "execute_result"
    }
   ],
   "source": [
    "y"
   ]
  },
  {
   "cell_type": "code",
   "execution_count": 116,
   "id": "ebac5d34-6826-45bc-b8e3-65f83a641c5d",
   "metadata": {},
   "outputs": [
    {
     "name": "stdout",
     "output_type": "stream",
     "text": [
      "                            GLS Regression Results                            \n",
      "==============================================================================\n",
      "Dep. Variable:                      y   R-squared:                       0.000\n",
      "Model:                            GLS   Adj. R-squared:                  0.000\n",
      "Method:                 Least Squares   F-statistic:                     1.161\n",
      "Date:                Fri, 02 Sep 2022   Prob (F-statistic):              0.281\n",
      "Time:                        23:25:17   Log-Likelihood:                -8670.9\n",
      "No. Observations:                6442   AIC:                         1.735e+04\n",
      "Df Residuals:                    6440   BIC:                         1.736e+04\n",
      "Df Model:                           1                                         \n",
      "Covariance Type:            nonrobust                                         \n",
      "==============================================================================\n",
      "                 coef    std err          t      P>|t|      [0.025      0.975]\n",
      "------------------------------------------------------------------------------\n",
      "const          0.0267      0.024      1.109      0.268      -0.021       0.074\n",
      "LV45          -0.1002      0.093     -1.077      0.281      -0.282       0.082\n",
      "==============================================================================\n",
      "Omnibus:                     2887.499   Durbin-Watson:                   1.970\n",
      "Prob(Omnibus):                  0.000   Jarque-Bera (JB):            19691.441\n",
      "Skew:                           2.027   Prob(JB):                         0.00\n",
      "Kurtosis:                      10.545   Cond. No.                         3.86\n",
      "==============================================================================\n",
      "\n",
      "Notes:\n",
      "[1] Standard Errors assume that the covariance matrix of the errors is correctly specified.\n"
     ]
    }
   ],
   "source": [
    "_, ys = standardize_data(X, y)\n",
    "_gls_results = train_statsmodels_gls(X, ys, corr_mat)\n",
    "print(_gls_results.summary())"
   ]
  },
  {
   "cell_type": "code",
   "execution_count": 117,
   "id": "0f31bccc-1d8b-4c8e-bad4-d809496389b2",
   "metadata": {},
   "outputs": [
    {
     "name": "stdout",
     "output_type": "stream",
     "text": [
      "\n",
      "exp_coef = -0.10018201664770203\n",
      "exp_coef_se = 0.09298021617384379\n",
      "exp_tvalue = -1.0774551917624404\n",
      "exp_pval_twosided = 0.28131731604765614\n",
      "exp_pval_onesided = 0.859341341976172\n",
      "    \n"
     ]
    }
   ],
   "source": [
    "# print full numbers\n",
    "with np.printoptions(threshold=sys.maxsize, precision=20):\n",
    "    print(\n",
    "        f\"\"\"\n",
    "exp_coef = {_gls_results.params.to_numpy()[1]}\n",
    "exp_coef_se = {_gls_results.bse.to_numpy()[1]}\n",
    "exp_tvalue = {_gls_results.tvalues.to_numpy()[1]}\n",
    "exp_pval_twosided = {_gls_results.pvalues.to_numpy()[1]}\n",
    "exp_pval_onesided = {stats.t.sf(_gls_results.tvalues.to_numpy()[1], _gls_results.df_resid)}\n",
    "    \"\"\"\n",
    "    )"
   ]
  },
  {
   "cell_type": "code",
   "execution_count": 118,
   "id": "7004657e-0595-4b9c-9fa1-fa6a8ba564a5",
   "metadata": {},
   "outputs": [
    {
     "data": {
      "text/html": [
       "<div>\n",
       "<style scoped>\n",
       "    .dataframe tbody tr th:only-of-type {\n",
       "        vertical-align: middle;\n",
       "    }\n",
       "\n",
       "    .dataframe tbody tr th {\n",
       "        vertical-align: top;\n",
       "    }\n",
       "\n",
       "    .dataframe thead th {\n",
       "        text-align: right;\n",
       "    }\n",
       "</style>\n",
       "<table border=\"1\" class=\"dataframe\">\n",
       "  <thead>\n",
       "    <tr style=\"text-align: right;\">\n",
       "      <th></th>\n",
       "      <th>const</th>\n",
       "      <th>LV45</th>\n",
       "    </tr>\n",
       "  </thead>\n",
       "  <tbody>\n",
       "    <tr>\n",
       "      <th>CENPH</th>\n",
       "      <td>1.0</td>\n",
       "      <td>1.0</td>\n",
       "    </tr>\n",
       "    <tr>\n",
       "      <th>HIST1H2AD</th>\n",
       "      <td>1.0</td>\n",
       "      <td>1.0</td>\n",
       "    </tr>\n",
       "    <tr>\n",
       "      <th>HIST1H4D</th>\n",
       "      <td>1.0</td>\n",
       "      <td>1.0</td>\n",
       "    </tr>\n",
       "    <tr>\n",
       "      <th>HIST1H2BE</th>\n",
       "      <td>1.0</td>\n",
       "      <td>1.0</td>\n",
       "    </tr>\n",
       "    <tr>\n",
       "      <th>HIST1H2BD</th>\n",
       "      <td>1.0</td>\n",
       "      <td>1.0</td>\n",
       "    </tr>\n",
       "    <tr>\n",
       "      <th>...</th>\n",
       "      <td>...</td>\n",
       "      <td>...</td>\n",
       "    </tr>\n",
       "    <tr>\n",
       "      <th>AIF1</th>\n",
       "      <td>1.0</td>\n",
       "      <td>0.0</td>\n",
       "    </tr>\n",
       "    <tr>\n",
       "      <th>NCR3</th>\n",
       "      <td>1.0</td>\n",
       "      <td>0.0</td>\n",
       "    </tr>\n",
       "    <tr>\n",
       "      <th>LST1</th>\n",
       "      <td>1.0</td>\n",
       "      <td>0.0</td>\n",
       "    </tr>\n",
       "    <tr>\n",
       "      <th>LTB</th>\n",
       "      <td>1.0</td>\n",
       "      <td>0.0</td>\n",
       "    </tr>\n",
       "    <tr>\n",
       "      <th>SHANK3</th>\n",
       "      <td>1.0</td>\n",
       "      <td>0.0</td>\n",
       "    </tr>\n",
       "  </tbody>\n",
       "</table>\n",
       "<p>6442 rows × 2 columns</p>\n",
       "</div>"
      ],
      "text/plain": [
       "           const  LV45\n",
       "CENPH        1.0   1.0\n",
       "HIST1H2AD    1.0   1.0\n",
       "HIST1H4D     1.0   1.0\n",
       "HIST1H2BE    1.0   1.0\n",
       "HIST1H2BD    1.0   1.0\n",
       "...          ...   ...\n",
       "AIF1         1.0   0.0\n",
       "NCR3         1.0   0.0\n",
       "LST1         1.0   0.0\n",
       "LTB          1.0   0.0\n",
       "SHANK3       1.0   0.0\n",
       "\n",
       "[6442 rows x 2 columns]"
      ]
     },
     "execution_count": 118,
     "metadata": {},
     "output_type": "execute_result"
    }
   ],
   "source": [
    "X.sort_values(lv_code, ascending=False)"
   ]
  },
  {
   "cell_type": "code",
   "execution_count": 120,
   "id": "390aa1f7-461f-4f79-897b-dc927c6cb45e",
   "metadata": {},
   "outputs": [
    {
     "data": {
      "text/plain": [
       "CHPF2     4.271450\n",
       "PRR5      3.711042\n",
       "MMP12     3.642685\n",
       "RBM38     3.465685\n",
       "SOS1      3.378385\n",
       "            ...   \n",
       "GPX3      0.000286\n",
       "SUOX      0.000238\n",
       "SPRED2    0.000126\n",
       "DEGS1     0.000053\n",
       "SAFB      0.000025\n",
       "Length: 6442, dtype: float64"
      ]
     },
     "execution_count": 120,
     "metadata": {},
     "output_type": "execute_result"
    }
   ],
   "source": [
    "y.sort_values(ascending=False)"
   ]
  },
  {
   "cell_type": "code",
   "execution_count": 121,
   "id": "3ffd3129-3261-41ad-a2a1-d59a2f8bb988",
   "metadata": {},
   "outputs": [
    {
     "data": {
      "text/plain": [
       "CHPF2     9.182597\n",
       "PRR5      7.849822\n",
       "MMP12     7.687254\n",
       "RBM38     7.266307\n",
       "SOS1      7.058689\n",
       "            ...   \n",
       "GPX3     -0.975186\n",
       "SUOX     -0.975301\n",
       "SPRED2   -0.975567\n",
       "DEGS1    -0.975742\n",
       "SAFB     -0.975808\n",
       "Length: 6442, dtype: float64"
      ]
     },
     "execution_count": 121,
     "metadata": {},
     "output_type": "execute_result"
    }
   ],
   "source": [
    "ys.sort_values(ascending=False)"
   ]
  },
  {
   "cell_type": "code",
   "execution_count": 122,
   "id": "964aa3fb-7e6b-4a30-a5b4-e3a7c65e39f3",
   "metadata": {},
   "outputs": [],
   "source": [
    "# save phenotype\n",
    "y.to_pickle(OUTPUT_DIR / f\"{phenotype_name}.pkl.xz\")"
   ]
  },
  {
   "cell_type": "code",
   "execution_count": 123,
   "id": "6ea29e70-624b-4ee2-9d4e-dfabfaced57d",
   "metadata": {},
   "outputs": [
    {
     "name": "stdout",
     "output_type": "stream",
     "text": [
      "                            OLS Regression Results                            \n",
      "==============================================================================\n",
      "Dep. Variable:                      y   R-squared:                       0.000\n",
      "Model:                            OLS   Adj. R-squared:                  0.000\n",
      "Method:                 Least Squares   F-statistic:                     2.379\n",
      "Date:                Fri, 02 Sep 2022   Prob (F-statistic):              0.123\n",
      "Time:                        23:25:18   Log-Likelihood:                -9139.1\n",
      "No. Observations:                6442   AIC:                         1.828e+04\n",
      "Df Residuals:                    6440   BIC:                         1.830e+04\n",
      "Df Model:                           1                                         \n",
      "Covariance Type:            nonrobust                                         \n",
      "==============================================================================\n",
      "                 coef    std err          t      P>|t|      [0.025      0.975]\n",
      "------------------------------------------------------------------------------\n",
      "const      -4.055e-17      0.012  -3.25e-15      1.000      -0.024       0.024\n",
      "LV45          -0.0192      0.012     -1.542      0.123      -0.044       0.005\n",
      "==============================================================================\n",
      "Omnibus:                     3199.125   Durbin-Watson:                   1.629\n",
      "Prob(Omnibus):                  0.000   Jarque-Bera (JB):            23426.588\n",
      "Skew:                           2.275   Prob(JB):                         0.00\n",
      "Kurtosis:                      11.159   Cond. No.                         1.00\n",
      "==============================================================================\n",
      "\n",
      "Notes:\n",
      "[1] Standard Errors assume that the covariance matrix of the errors is correctly specified.\n"
     ]
    }
   ],
   "source": [
    "# for debugging purposes I print the OLS results also\n",
    "_tmp_model = sm.OLS(ys, Xs)\n",
    "_tmp_results = _tmp_model.fit()\n",
    "print(_tmp_results.summary())"
   ]
  },
  {
   "cell_type": "markdown",
   "id": "13950431-f8cc-4f8d-af08-670d1cded65c",
   "metadata": {},
   "source": [
    "## Random phenotype 6 / LV455"
   ]
  },
  {
   "cell_type": "code",
   "execution_count": 124,
   "id": "5ee589ae-ba77-470e-a828-efe9ad092233",
   "metadata": {},
   "outputs": [
    {
     "data": {
      "text/plain": [
       "'multixcan-random_phenotype6-pvalues'"
      ]
     },
     "metadata": {},
     "output_type": "display_data"
    }
   ],
   "source": [
    "lv_code = \"LV455\"\n",
    "phenotype_code = 6\n",
    "\n",
    "phenotype_name = f\"multixcan-random_phenotype{phenotype_code}-pvalues\"\n",
    "display(phenotype_name)"
   ]
  },
  {
   "cell_type": "code",
   "execution_count": 125,
   "id": "79c66b7a-1e4e-470f-95dc-11e2122fc330",
   "metadata": {},
   "outputs": [],
   "source": [
    "X, y = get_data(lv_code, random_phenotype_code=phenotype_code)\n",
    "corr_mat = get_aligned_corr_mat(X, perc=PERC_NONZERO_GENES)"
   ]
  },
  {
   "cell_type": "code",
   "execution_count": 126,
   "id": "133dc6ab-0c4a-493c-aff3-edc418c4c27e",
   "metadata": {},
   "outputs": [
    {
     "data": {
      "text/plain": [
       "NOC2L       0.127973\n",
       "HES4        0.105742\n",
       "ISG15       0.630088\n",
       "AGRN        0.931549\n",
       "TNFRSF18    0.440931\n",
       "              ...   \n",
       "CPT1B       0.539091\n",
       "CHKB        1.162865\n",
       "MAPK8IP2    0.064991\n",
       "ARSA        0.177164\n",
       "SHANK3      0.123442\n",
       "Length: 6442, dtype: float64"
      ]
     },
     "execution_count": 126,
     "metadata": {},
     "output_type": "execute_result"
    }
   ],
   "source": [
    "y"
   ]
  },
  {
   "cell_type": "code",
   "execution_count": 127,
   "id": "f9bfd91d-e73b-4ddb-95c4-6cb1658ab591",
   "metadata": {},
   "outputs": [
    {
     "name": "stdout",
     "output_type": "stream",
     "text": [
      "                            GLS Regression Results                            \n",
      "==============================================================================\n",
      "Dep. Variable:                      y   R-squared:                       0.000\n",
      "Model:                            GLS   Adj. R-squared:                 -0.000\n",
      "Method:                 Least Squares   F-statistic:                    0.4638\n",
      "Date:                Sat, 03 Sep 2022   Prob (F-statistic):              0.496\n",
      "Time:                        03:50:08   Log-Likelihood:                -8671.2\n",
      "No. Observations:                6442   AIC:                         1.735e+04\n",
      "Df Residuals:                    6440   BIC:                         1.736e+04\n",
      "Df Model:                           1                                         \n",
      "Covariance Type:            nonrobust                                         \n",
      "==============================================================================\n",
      "                 coef    std err          t      P>|t|      [0.025      0.975]\n",
      "------------------------------------------------------------------------------\n",
      "const          0.0250      0.024      1.037      0.300      -0.022       0.072\n",
      "LV455          0.0785      0.115      0.681      0.496      -0.147       0.304\n",
      "==============================================================================\n",
      "Omnibus:                     2886.436   Durbin-Watson:                   1.970\n",
      "Prob(Omnibus):                  0.000   Jarque-Bera (JB):            19653.750\n",
      "Skew:                           2.027   Prob(JB):                         0.00\n",
      "Kurtosis:                      10.536   Cond. No.                         4.79\n",
      "==============================================================================\n",
      "\n",
      "Notes:\n",
      "[1] Standard Errors assume that the covariance matrix of the errors is correctly specified.\n"
     ]
    }
   ],
   "source": [
    "_, ys = standardize_data(X, y)\n",
    "_gls_results = train_statsmodels_gls(X, ys, corr_mat)\n",
    "print(_gls_results.summary())"
   ]
  },
  {
   "cell_type": "code",
   "execution_count": 128,
   "id": "936ae779-d669-45a6-bfd7-3eadd5d20d85",
   "metadata": {},
   "outputs": [
    {
     "name": "stdout",
     "output_type": "stream",
     "text": [
      "\n",
      "exp_coef = 0.0784587858266203\n",
      "exp_coef_se = 0.1152051853461905\n",
      "exp_tvalue = 0.6810351946472929\n",
      "exp_pval_twosided = 0.4958737072729271\n",
      "exp_pval_onesided = 0.24793685363646356\n",
      "    \n"
     ]
    }
   ],
   "source": [
    "# print full numbers\n",
    "with np.printoptions(threshold=sys.maxsize, precision=20):\n",
    "    print(\n",
    "        f\"\"\"\n",
    "exp_coef = {_gls_results.params.to_numpy()[1]}\n",
    "exp_coef_se = {_gls_results.bse.to_numpy()[1]}\n",
    "exp_tvalue = {_gls_results.tvalues.to_numpy()[1]}\n",
    "exp_pval_twosided = {_gls_results.pvalues.to_numpy()[1]}\n",
    "exp_pval_onesided = {stats.t.sf(_gls_results.tvalues.to_numpy()[1], _gls_results.df_resid)}\n",
    "    \"\"\"\n",
    "    )"
   ]
  },
  {
   "cell_type": "code",
   "execution_count": 129,
   "id": "34f580b2-d83a-4a88-b112-76e62a985e2e",
   "metadata": {},
   "outputs": [
    {
     "data": {
      "text/html": [
       "<div>\n",
       "<style scoped>\n",
       "    .dataframe tbody tr th:only-of-type {\n",
       "        vertical-align: middle;\n",
       "    }\n",
       "\n",
       "    .dataframe tbody tr th {\n",
       "        vertical-align: top;\n",
       "    }\n",
       "\n",
       "    .dataframe thead th {\n",
       "        text-align: right;\n",
       "    }\n",
       "</style>\n",
       "<table border=\"1\" class=\"dataframe\">\n",
       "  <thead>\n",
       "    <tr style=\"text-align: right;\">\n",
       "      <th></th>\n",
       "      <th>const</th>\n",
       "      <th>LV455</th>\n",
       "    </tr>\n",
       "  </thead>\n",
       "  <tbody>\n",
       "    <tr>\n",
       "      <th>POU2F2</th>\n",
       "      <td>1.0</td>\n",
       "      <td>1.0</td>\n",
       "    </tr>\n",
       "    <tr>\n",
       "      <th>EPHB2</th>\n",
       "      <td>1.0</td>\n",
       "      <td>1.0</td>\n",
       "    </tr>\n",
       "    <tr>\n",
       "      <th>SETD1B</th>\n",
       "      <td>1.0</td>\n",
       "      <td>1.0</td>\n",
       "    </tr>\n",
       "    <tr>\n",
       "      <th>LIG3</th>\n",
       "      <td>1.0</td>\n",
       "      <td>1.0</td>\n",
       "    </tr>\n",
       "    <tr>\n",
       "      <th>RFFL</th>\n",
       "      <td>1.0</td>\n",
       "      <td>1.0</td>\n",
       "    </tr>\n",
       "    <tr>\n",
       "      <th>...</th>\n",
       "      <td>...</td>\n",
       "      <td>...</td>\n",
       "    </tr>\n",
       "    <tr>\n",
       "      <th>FLOT1</th>\n",
       "      <td>1.0</td>\n",
       "      <td>0.0</td>\n",
       "    </tr>\n",
       "    <tr>\n",
       "      <th>TUBB</th>\n",
       "      <td>1.0</td>\n",
       "      <td>0.0</td>\n",
       "    </tr>\n",
       "    <tr>\n",
       "      <th>MDC1</th>\n",
       "      <td>1.0</td>\n",
       "      <td>0.0</td>\n",
       "    </tr>\n",
       "    <tr>\n",
       "      <th>DHX16</th>\n",
       "      <td>1.0</td>\n",
       "      <td>0.0</td>\n",
       "    </tr>\n",
       "    <tr>\n",
       "      <th>SHANK3</th>\n",
       "      <td>1.0</td>\n",
       "      <td>0.0</td>\n",
       "    </tr>\n",
       "  </tbody>\n",
       "</table>\n",
       "<p>6442 rows × 2 columns</p>\n",
       "</div>"
      ],
      "text/plain": [
       "        const  LV455\n",
       "POU2F2    1.0    1.0\n",
       "EPHB2     1.0    1.0\n",
       "SETD1B    1.0    1.0\n",
       "LIG3      1.0    1.0\n",
       "RFFL      1.0    1.0\n",
       "...       ...    ...\n",
       "FLOT1     1.0    0.0\n",
       "TUBB      1.0    0.0\n",
       "MDC1      1.0    0.0\n",
       "DHX16     1.0    0.0\n",
       "SHANK3    1.0    0.0\n",
       "\n",
       "[6442 rows x 2 columns]"
      ]
     },
     "execution_count": 129,
     "metadata": {},
     "output_type": "execute_result"
    }
   ],
   "source": [
    "X.sort_values(lv_code, ascending=False)"
   ]
  },
  {
   "cell_type": "code",
   "execution_count": 131,
   "id": "a9899c04-bd0e-4dba-bc89-e09cddcf2138",
   "metadata": {},
   "outputs": [
    {
     "data": {
      "text/plain": [
       "CHPF2     4.271450\n",
       "PRR5      3.711042\n",
       "MMP12     3.642685\n",
       "RBM38     3.465685\n",
       "SOS1      3.378385\n",
       "            ...   \n",
       "GPX3      0.000286\n",
       "SUOX      0.000238\n",
       "SPRED2    0.000126\n",
       "DEGS1     0.000053\n",
       "SAFB      0.000025\n",
       "Length: 6442, dtype: float64"
      ]
     },
     "execution_count": 131,
     "metadata": {},
     "output_type": "execute_result"
    }
   ],
   "source": [
    "y.sort_values(ascending=False)"
   ]
  },
  {
   "cell_type": "code",
   "execution_count": 132,
   "id": "eec4d73b-7370-48c4-baac-8d23e40af2ab",
   "metadata": {},
   "outputs": [
    {
     "data": {
      "text/plain": [
       "CHPF2     9.182597\n",
       "PRR5      7.849822\n",
       "MMP12     7.687254\n",
       "RBM38     7.266307\n",
       "SOS1      7.058689\n",
       "            ...   \n",
       "GPX3     -0.975186\n",
       "SUOX     -0.975301\n",
       "SPRED2   -0.975567\n",
       "DEGS1    -0.975742\n",
       "SAFB     -0.975808\n",
       "Length: 6442, dtype: float64"
      ]
     },
     "execution_count": 132,
     "metadata": {},
     "output_type": "execute_result"
    }
   ],
   "source": [
    "ys.sort_values(ascending=False)"
   ]
  },
  {
   "cell_type": "code",
   "execution_count": 133,
   "id": "b15d2351-f4fd-493d-af4f-12730ab32bac",
   "metadata": {},
   "outputs": [],
   "source": [
    "# save phenotype\n",
    "y.to_pickle(OUTPUT_DIR / f\"{phenotype_name}.pkl.xz\")"
   ]
  },
  {
   "cell_type": "code",
   "execution_count": 134,
   "id": "a63d7a9c-6097-4673-82c6-4491a7e0284c",
   "metadata": {},
   "outputs": [
    {
     "name": "stdout",
     "output_type": "stream",
     "text": [
      "                            OLS Regression Results                            \n",
      "==============================================================================\n",
      "Dep. Variable:                      y   R-squared:                       0.000\n",
      "Model:                            OLS   Adj. R-squared:                  0.000\n",
      "Method:                 Least Squares   F-statistic:                     2.379\n",
      "Date:                Sat, 03 Sep 2022   Prob (F-statistic):              0.123\n",
      "Time:                        03:51:04   Log-Likelihood:                -9139.1\n",
      "No. Observations:                6442   AIC:                         1.828e+04\n",
      "Df Residuals:                    6440   BIC:                         1.830e+04\n",
      "Df Model:                           1                                         \n",
      "Covariance Type:            nonrobust                                         \n",
      "==============================================================================\n",
      "                 coef    std err          t      P>|t|      [0.025      0.975]\n",
      "------------------------------------------------------------------------------\n",
      "const      -4.055e-17      0.012  -3.25e-15      1.000      -0.024       0.024\n",
      "LV45          -0.0192      0.012     -1.542      0.123      -0.044       0.005\n",
      "==============================================================================\n",
      "Omnibus:                     3199.125   Durbin-Watson:                   1.629\n",
      "Prob(Omnibus):                  0.000   Jarque-Bera (JB):            23426.588\n",
      "Skew:                           2.275   Prob(JB):                         0.00\n",
      "Kurtosis:                      11.159   Cond. No.                         1.00\n",
      "==============================================================================\n",
      "\n",
      "Notes:\n",
      "[1] Standard Errors assume that the covariance matrix of the errors is correctly specified.\n"
     ]
    }
   ],
   "source": [
    "# for debugging purposes I print the OLS results also\n",
    "_tmp_model = sm.OLS(ys, Xs)\n",
    "_tmp_results = _tmp_model.fit()\n",
    "print(_tmp_results.summary())"
   ]
  },
  {
   "cell_type": "markdown",
   "id": "1d55257a-5a3b-4e73-a79f-e5ab371d0557",
   "metadata": {},
   "source": [
    "## Random phenotype 0 / LV801"
   ]
  },
  {
   "cell_type": "code",
   "execution_count": 135,
   "id": "a55ad49b-3a8c-45f9-9373-e18ebf0dfa66",
   "metadata": {},
   "outputs": [
    {
     "data": {
      "text/plain": [
       "'multixcan-random_phenotype0-pvalues'"
      ]
     },
     "metadata": {},
     "output_type": "display_data"
    }
   ],
   "source": [
    "lv_code = \"LV801\"\n",
    "phenotype_code = 0\n",
    "\n",
    "phenotype_name = f\"multixcan-random_phenotype{phenotype_code}-pvalues\"\n",
    "display(phenotype_name)"
   ]
  },
  {
   "cell_type": "code",
   "execution_count": 136,
   "id": "087906c3-ca87-4ed3-baf6-318825b12f6c",
   "metadata": {},
   "outputs": [],
   "source": [
    "X, y = get_data(lv_code, random_phenotype_code=phenotype_code)\n",
    "corr_mat = get_aligned_corr_mat(X, perc=PERC_NONZERO_GENES)"
   ]
  },
  {
   "cell_type": "code",
   "execution_count": 137,
   "id": "fea9240f-94c6-45ea-a122-eba2873bd4db",
   "metadata": {},
   "outputs": [
    {
     "data": {
      "text/plain": [
       "NOC2L       0.632640\n",
       "HES4        0.269215\n",
       "ISG15       0.782674\n",
       "AGRN        0.035508\n",
       "TNFRSF18    0.030462\n",
       "              ...   \n",
       "CPT1B       0.021505\n",
       "CHKB        0.102069\n",
       "MAPK8IP2    0.459467\n",
       "ARSA        0.841263\n",
       "SHANK3      0.005539\n",
       "Length: 6442, dtype: float64"
      ]
     },
     "execution_count": 137,
     "metadata": {},
     "output_type": "execute_result"
    }
   ],
   "source": [
    "y"
   ]
  },
  {
   "cell_type": "code",
   "execution_count": 138,
   "id": "90fd13c9-0e9f-4ed0-abeb-eaad004f9e5d",
   "metadata": {},
   "outputs": [
    {
     "name": "stdout",
     "output_type": "stream",
     "text": [
      "                            GLS Regression Results                            \n",
      "==============================================================================\n",
      "Dep. Variable:                      y   R-squared:                       0.000\n",
      "Model:                            GLS   Adj. R-squared:                 -0.000\n",
      "Method:                 Least Squares   F-statistic:                    0.9747\n",
      "Date:                Sat, 03 Sep 2022   Prob (F-statistic):              0.324\n",
      "Time:                        03:51:52   Log-Likelihood:                -8669.9\n",
      "No. Observations:                6442   AIC:                         1.734e+04\n",
      "Df Residuals:                    6440   BIC:                         1.736e+04\n",
      "Df Model:                           1                                         \n",
      "Covariance Type:            nonrobust                                         \n",
      "==============================================================================\n",
      "                 coef    std err          t      P>|t|      [0.025      0.975]\n",
      "------------------------------------------------------------------------------\n",
      "const         -0.0218      0.024     -0.907      0.365      -0.069       0.025\n",
      "LV801          0.1089      0.110      0.987      0.324      -0.107       0.325\n",
      "==============================================================================\n",
      "Omnibus:                     3146.618   Durbin-Watson:                   2.053\n",
      "Prob(Omnibus):                  0.000   Jarque-Bera (JB):            25103.113\n",
      "Skew:                           2.192   Prob(JB):                         0.00\n",
      "Kurtosis:                      11.620   Cond. No.                         4.58\n",
      "==============================================================================\n",
      "\n",
      "Notes:\n",
      "[1] Standard Errors assume that the covariance matrix of the errors is correctly specified.\n"
     ]
    }
   ],
   "source": [
    "_, ys = standardize_data(X, y)\n",
    "_gls_results = train_statsmodels_gls(X, ys, corr_mat)\n",
    "print(_gls_results.summary())"
   ]
  },
  {
   "cell_type": "code",
   "execution_count": 139,
   "id": "240ea60f-a644-45d7-a65c-031154f11886",
   "metadata": {},
   "outputs": [
    {
     "name": "stdout",
     "output_type": "stream",
     "text": [
      "\n",
      "exp_coef = 0.10885793222623774\n",
      "exp_coef_se = 0.11026400471153004\n",
      "exp_tvalue = 0.9872481279002079\n",
      "exp_pval_twosided = 0.32355810271013086\n",
      "exp_pval_onesided = 0.16177905135506543\n",
      "    \n"
     ]
    }
   ],
   "source": [
    "# print full numbers\n",
    "with np.printoptions(threshold=sys.maxsize, precision=20):\n",
    "    print(\n",
    "        f\"\"\"\n",
    "exp_coef = {_gls_results.params.to_numpy()[1]}\n",
    "exp_coef_se = {_gls_results.bse.to_numpy()[1]}\n",
    "exp_tvalue = {_gls_results.tvalues.to_numpy()[1]}\n",
    "exp_pval_twosided = {_gls_results.pvalues.to_numpy()[1]}\n",
    "exp_pval_onesided = {stats.t.sf(_gls_results.tvalues.to_numpy()[1], _gls_results.df_resid)}\n",
    "    \"\"\"\n",
    "    )"
   ]
  },
  {
   "cell_type": "code",
   "execution_count": 140,
   "id": "f1da8d37-896d-4e71-bea8-54ce3031f4c4",
   "metadata": {},
   "outputs": [
    {
     "data": {
      "text/html": [
       "<div>\n",
       "<style scoped>\n",
       "    .dataframe tbody tr th:only-of-type {\n",
       "        vertical-align: middle;\n",
       "    }\n",
       "\n",
       "    .dataframe tbody tr th {\n",
       "        vertical-align: top;\n",
       "    }\n",
       "\n",
       "    .dataframe thead th {\n",
       "        text-align: right;\n",
       "    }\n",
       "</style>\n",
       "<table border=\"1\" class=\"dataframe\">\n",
       "  <thead>\n",
       "    <tr style=\"text-align: right;\">\n",
       "      <th></th>\n",
       "      <th>const</th>\n",
       "      <th>LV801</th>\n",
       "    </tr>\n",
       "  </thead>\n",
       "  <tbody>\n",
       "    <tr>\n",
       "      <th>RALGPS2</th>\n",
       "      <td>1.0</td>\n",
       "      <td>1.0</td>\n",
       "    </tr>\n",
       "    <tr>\n",
       "      <th>FOXO3</th>\n",
       "      <td>1.0</td>\n",
       "      <td>1.0</td>\n",
       "    </tr>\n",
       "    <tr>\n",
       "      <th>AP2S1</th>\n",
       "      <td>1.0</td>\n",
       "      <td>1.0</td>\n",
       "    </tr>\n",
       "    <tr>\n",
       "      <th>RAB5C</th>\n",
       "      <td>1.0</td>\n",
       "      <td>1.0</td>\n",
       "    </tr>\n",
       "    <tr>\n",
       "      <th>ETFA</th>\n",
       "      <td>1.0</td>\n",
       "      <td>1.0</td>\n",
       "    </tr>\n",
       "    <tr>\n",
       "      <th>...</th>\n",
       "      <td>...</td>\n",
       "      <td>...</td>\n",
       "    </tr>\n",
       "    <tr>\n",
       "      <th>DHX16</th>\n",
       "      <td>1.0</td>\n",
       "      <td>0.0</td>\n",
       "    </tr>\n",
       "    <tr>\n",
       "      <th>MRPS18B</th>\n",
       "      <td>1.0</td>\n",
       "      <td>0.0</td>\n",
       "    </tr>\n",
       "    <tr>\n",
       "      <th>TRIM10</th>\n",
       "      <td>1.0</td>\n",
       "      <td>0.0</td>\n",
       "    </tr>\n",
       "    <tr>\n",
       "      <th>ZNRD1</th>\n",
       "      <td>1.0</td>\n",
       "      <td>0.0</td>\n",
       "    </tr>\n",
       "    <tr>\n",
       "      <th>SHANK3</th>\n",
       "      <td>1.0</td>\n",
       "      <td>0.0</td>\n",
       "    </tr>\n",
       "  </tbody>\n",
       "</table>\n",
       "<p>6442 rows × 2 columns</p>\n",
       "</div>"
      ],
      "text/plain": [
       "         const  LV801\n",
       "RALGPS2    1.0    1.0\n",
       "FOXO3      1.0    1.0\n",
       "AP2S1      1.0    1.0\n",
       "RAB5C      1.0    1.0\n",
       "ETFA       1.0    1.0\n",
       "...        ...    ...\n",
       "DHX16      1.0    0.0\n",
       "MRPS18B    1.0    0.0\n",
       "TRIM10     1.0    0.0\n",
       "ZNRD1      1.0    0.0\n",
       "SHANK3     1.0    0.0\n",
       "\n",
       "[6442 rows x 2 columns]"
      ]
     },
     "execution_count": 140,
     "metadata": {},
     "output_type": "execute_result"
    }
   ],
   "source": [
    "X.sort_values(lv_code, ascending=False)"
   ]
  },
  {
   "cell_type": "code",
   "execution_count": 141,
   "id": "39b1136d-af84-4dd1-ad18-696d93ff56db",
   "metadata": {},
   "outputs": [
    {
     "data": {
      "text/plain": [
       "GPATCH1    4.109027\n",
       "NFKBIA     4.018127\n",
       "TTC5       3.963686\n",
       "ZNF17      3.853562\n",
       "ZNF563     3.747638\n",
       "             ...   \n",
       "TXNDC5     0.000225\n",
       "SEC22B     0.000139\n",
       "AP3B2      0.000109\n",
       "WWTR1      0.000108\n",
       "PCBP4      0.000053\n",
       "Length: 6442, dtype: float64"
      ]
     },
     "execution_count": 141,
     "metadata": {},
     "output_type": "execute_result"
    }
   ],
   "source": [
    "y.sort_values(ascending=False)"
   ]
  },
  {
   "cell_type": "code",
   "execution_count": 142,
   "id": "6b6f9522-a291-4c9c-a0a8-695bb1b799e4",
   "metadata": {},
   "outputs": [
    {
     "data": {
      "text/plain": [
       "GPATCH1    8.400360\n",
       "NFKBIA     8.193397\n",
       "TTC5       8.069447\n",
       "ZNF17      7.818714\n",
       "ZNF563     7.577544\n",
       "             ...   \n",
       "TXNDC5    -0.954608\n",
       "SEC22B    -0.954804\n",
       "AP3B2     -0.954872\n",
       "WWTR1     -0.954875\n",
       "PCBP4     -0.955001\n",
       "Length: 6442, dtype: float64"
      ]
     },
     "execution_count": 142,
     "metadata": {},
     "output_type": "execute_result"
    }
   ],
   "source": [
    "ys.sort_values(ascending=False)"
   ]
  },
  {
   "cell_type": "code",
   "execution_count": 143,
   "id": "002e79f1-22da-448b-a098-2b54c050efaf",
   "metadata": {},
   "outputs": [],
   "source": [
    "# save phenotype\n",
    "y.to_pickle(OUTPUT_DIR / f\"{phenotype_name}.pkl.xz\")"
   ]
  },
  {
   "cell_type": "code",
   "execution_count": 144,
   "id": "f07753d6-f3d3-4b66-aea3-71e1875e220c",
   "metadata": {},
   "outputs": [
    {
     "name": "stdout",
     "output_type": "stream",
     "text": [
      "                            OLS Regression Results                            \n",
      "==============================================================================\n",
      "Dep. Variable:                      y   R-squared:                       0.000\n",
      "Model:                            OLS   Adj. R-squared:                  0.000\n",
      "Method:                 Least Squares   F-statistic:                     2.112\n",
      "Date:                Sat, 03 Sep 2022   Prob (F-statistic):              0.146\n",
      "Time:                        03:51:52   Log-Likelihood:                -9139.2\n",
      "No. Observations:                6442   AIC:                         1.828e+04\n",
      "Df Residuals:                    6440   BIC:                         1.830e+04\n",
      "Df Model:                           1                                         \n",
      "Covariance Type:            nonrobust                                         \n",
      "==============================================================================\n",
      "                 coef    std err          t      P>|t|      [0.025      0.975]\n",
      "------------------------------------------------------------------------------\n",
      "const       4.748e-17      0.012   3.81e-15      1.000      -0.024       0.024\n",
      "LV45          -0.0181      0.012     -1.453      0.146      -0.043       0.006\n",
      "==============================================================================\n",
      "Omnibus:                     3175.792   Durbin-Watson:                   1.633\n",
      "Prob(Omnibus):                  0.000   Jarque-Bera (JB):            22841.943\n",
      "Skew:                           2.262   Prob(JB):                         0.00\n",
      "Kurtosis:                      11.040   Cond. No.                         1.00\n",
      "==============================================================================\n",
      "\n",
      "Notes:\n",
      "[1] Standard Errors assume that the covariance matrix of the errors is correctly specified.\n"
     ]
    }
   ],
   "source": [
    "# for debugging purposes I print the OLS results also\n",
    "_tmp_model = sm.OLS(ys, Xs)\n",
    "_tmp_results = _tmp_model.fit()\n",
    "print(_tmp_results.summary())"
   ]
  },
  {
   "cell_type": "markdown",
   "id": "c61d3662-1ac7-4bb5-989d-5fe3708d7bae",
   "metadata": {
    "papermill": {
     "duration": 0.012899,
     "end_time": "2022-07-11T13:23:15.569947",
     "exception": false,
     "start_time": "2022-07-11T13:23:15.557048",
     "status": "completed"
    },
    "tags": []
   },
   "source": [
    "# [sub corr matrix ] GLS on randomly generated phenotypes"
   ]
  },
  {
   "cell_type": "code",
   "execution_count": 208,
   "id": "e891f483-ce8d-4d9d-8aeb-4f251837812f",
   "metadata": {},
   "outputs": [],
   "source": [
    "PERC_NONZERO_GENES = 0.01"
   ]
  },
  {
   "cell_type": "markdown",
   "id": "a0476aa2-7b41-4749-ad30-0590debbfbe8",
   "metadata": {},
   "source": [
    "## Random phenotype 6 / LV45"
   ]
  },
  {
   "cell_type": "code",
   "execution_count": 209,
   "id": "de39f367-eb79-4dd4-830a-676b69e03d32",
   "metadata": {},
   "outputs": [
    {
     "data": {
      "text/plain": [
       "'multixcan-random_phenotype6-pvalues'"
      ]
     },
     "metadata": {},
     "output_type": "display_data"
    }
   ],
   "source": [
    "lv_code = \"LV45\"\n",
    "phenotype_code = 6\n",
    "\n",
    "phenotype_name = f\"multixcan-random_phenotype{phenotype_code}-pvalues\"\n",
    "display(phenotype_name)"
   ]
  },
  {
   "cell_type": "code",
   "execution_count": 210,
   "id": "0b82aec4-c0d5-43fa-86ea-8088b9116e14",
   "metadata": {},
   "outputs": [],
   "source": [
    "X, y = get_data(lv_code, random_phenotype_code=phenotype_code)\n",
    "corr_mat = get_aligned_corr_mat(X, perc=PERC_NONZERO_GENES)"
   ]
  },
  {
   "cell_type": "code",
   "execution_count": 215,
   "id": "b9e91ec2-5a0b-4534-87c1-d76e106120ed",
   "metadata": {},
   "outputs": [
    {
     "name": "stdout",
     "output_type": "stream",
     "text": [
      "                            GLS Regression Results                            \n",
      "==============================================================================\n",
      "Dep. Variable:                      y   R-squared:                       0.000\n",
      "Model:                            GLS   Adj. R-squared:                 -0.000\n",
      "Method:                 Least Squares   F-statistic:                    0.8543\n",
      "Date:                Sat, 03 Sep 2022   Prob (F-statistic):              0.355\n",
      "Time:                        04:29:12   Log-Likelihood:                -9136.7\n",
      "No. Observations:                6442   AIC:                         1.828e+04\n",
      "Df Residuals:                    6440   BIC:                         1.829e+04\n",
      "Df Model:                           1                                         \n",
      "Covariance Type:            nonrobust                                         \n",
      "==============================================================================\n",
      "                 coef    std err          t      P>|t|      [0.025      0.975]\n",
      "------------------------------------------------------------------------------\n",
      "const          0.0019      0.013      0.150      0.881      -0.023       0.026\n",
      "LV45          -0.1312      0.142     -0.924      0.355      -0.410       0.147\n",
      "==============================================================================\n",
      "Omnibus:                     3195.426   Durbin-Watson:                   1.630\n",
      "Prob(Omnibus):                  0.000   Jarque-Bera (JB):            23344.014\n",
      "Skew:                           2.273   Prob(JB):                         0.00\n",
      "Kurtosis:                      11.143   Cond. No.                         11.4\n",
      "==============================================================================\n",
      "\n",
      "Notes:\n",
      "[1] Standard Errors assume that the covariance matrix of the errors is correctly specified.\n"
     ]
    }
   ],
   "source": [
    "_, ys = standardize_data(X, y)\n",
    "_gls_results = train_statsmodels_gls(X, ys, corr_mat)\n",
    "print(_gls_results.summary())"
   ]
  },
  {
   "cell_type": "code",
   "execution_count": 216,
   "id": "34c26e56-6285-4e79-acd7-45b36164a63d",
   "metadata": {},
   "outputs": [
    {
     "name": "stdout",
     "output_type": "stream",
     "text": [
      "\n",
      "exp_coef = -0.13122859992487934\n",
      "exp_coef_se = 0.14197922645725486\n",
      "exp_tvalue = -0.9242802852175549\n",
      "exp_pval_twosided = 0.3553750345424116\n",
      "exp_pval_onesided = 0.8223124827287942\n",
      "    \n"
     ]
    }
   ],
   "source": [
    "# print full numbers\n",
    "with np.printoptions(threshold=sys.maxsize, precision=20):\n",
    "    print(\n",
    "        f\"\"\"\n",
    "exp_coef = {_gls_results.params.to_numpy()[1]}\n",
    "exp_coef_se = {_gls_results.bse.to_numpy()[1]}\n",
    "exp_tvalue = {_gls_results.tvalues.to_numpy()[1]}\n",
    "exp_pval_twosided = {_gls_results.pvalues.to_numpy()[1]}\n",
    "exp_pval_onesided = {stats.t.sf(_gls_results.tvalues.to_numpy()[1], _gls_results.df_resid)}\n",
    "    \"\"\"\n",
    "    )"
   ]
  },
  {
   "cell_type": "code",
   "execution_count": 217,
   "id": "7d61d421-3ab2-4114-abe5-073fc9045d7b",
   "metadata": {},
   "outputs": [
    {
     "data": {
      "text/html": [
       "<div>\n",
       "<style scoped>\n",
       "    .dataframe tbody tr th:only-of-type {\n",
       "        vertical-align: middle;\n",
       "    }\n",
       "\n",
       "    .dataframe tbody tr th {\n",
       "        vertical-align: top;\n",
       "    }\n",
       "\n",
       "    .dataframe thead th {\n",
       "        text-align: right;\n",
       "    }\n",
       "</style>\n",
       "<table border=\"1\" class=\"dataframe\">\n",
       "  <thead>\n",
       "    <tr style=\"text-align: right;\">\n",
       "      <th></th>\n",
       "      <th>const</th>\n",
       "      <th>LV45</th>\n",
       "    </tr>\n",
       "  </thead>\n",
       "  <tbody>\n",
       "    <tr>\n",
       "      <th>CENPH</th>\n",
       "      <td>1.0</td>\n",
       "      <td>1.0</td>\n",
       "    </tr>\n",
       "    <tr>\n",
       "      <th>HIST1H2AD</th>\n",
       "      <td>1.0</td>\n",
       "      <td>1.0</td>\n",
       "    </tr>\n",
       "    <tr>\n",
       "      <th>HIST1H4D</th>\n",
       "      <td>1.0</td>\n",
       "      <td>1.0</td>\n",
       "    </tr>\n",
       "    <tr>\n",
       "      <th>HIST1H2BE</th>\n",
       "      <td>1.0</td>\n",
       "      <td>1.0</td>\n",
       "    </tr>\n",
       "    <tr>\n",
       "      <th>HIST1H2BD</th>\n",
       "      <td>1.0</td>\n",
       "      <td>1.0</td>\n",
       "    </tr>\n",
       "    <tr>\n",
       "      <th>...</th>\n",
       "      <td>...</td>\n",
       "      <td>...</td>\n",
       "    </tr>\n",
       "    <tr>\n",
       "      <th>AIF1</th>\n",
       "      <td>1.0</td>\n",
       "      <td>0.0</td>\n",
       "    </tr>\n",
       "    <tr>\n",
       "      <th>NCR3</th>\n",
       "      <td>1.0</td>\n",
       "      <td>0.0</td>\n",
       "    </tr>\n",
       "    <tr>\n",
       "      <th>LST1</th>\n",
       "      <td>1.0</td>\n",
       "      <td>0.0</td>\n",
       "    </tr>\n",
       "    <tr>\n",
       "      <th>LTB</th>\n",
       "      <td>1.0</td>\n",
       "      <td>0.0</td>\n",
       "    </tr>\n",
       "    <tr>\n",
       "      <th>SHANK3</th>\n",
       "      <td>1.0</td>\n",
       "      <td>0.0</td>\n",
       "    </tr>\n",
       "  </tbody>\n",
       "</table>\n",
       "<p>6442 rows × 2 columns</p>\n",
       "</div>"
      ],
      "text/plain": [
       "           const  LV45\n",
       "CENPH        1.0   1.0\n",
       "HIST1H2AD    1.0   1.0\n",
       "HIST1H4D     1.0   1.0\n",
       "HIST1H2BE    1.0   1.0\n",
       "HIST1H2BD    1.0   1.0\n",
       "...          ...   ...\n",
       "AIF1         1.0   0.0\n",
       "NCR3         1.0   0.0\n",
       "LST1         1.0   0.0\n",
       "LTB          1.0   0.0\n",
       "SHANK3       1.0   0.0\n",
       "\n",
       "[6442 rows x 2 columns]"
      ]
     },
     "execution_count": 217,
     "metadata": {},
     "output_type": "execute_result"
    }
   ],
   "source": [
    "X.sort_values(lv_code, ascending=False)"
   ]
  },
  {
   "cell_type": "code",
   "execution_count": 218,
   "id": "0bcef9b8-103c-45f2-bac0-29a8281b9029",
   "metadata": {},
   "outputs": [
    {
     "data": {
      "text/plain": [
       "CHPF2     4.271450\n",
       "PRR5      3.711042\n",
       "MMP12     3.642685\n",
       "RBM38     3.465685\n",
       "SOS1      3.378385\n",
       "            ...   \n",
       "GPX3      0.000286\n",
       "SUOX      0.000238\n",
       "SPRED2    0.000126\n",
       "DEGS1     0.000053\n",
       "SAFB      0.000025\n",
       "Length: 6442, dtype: float64"
      ]
     },
     "execution_count": 218,
     "metadata": {},
     "output_type": "execute_result"
    }
   ],
   "source": [
    "y.sort_values(ascending=False)"
   ]
  },
  {
   "cell_type": "code",
   "execution_count": 219,
   "id": "ead106ca-b702-4d49-97cf-8b83ed26dfbf",
   "metadata": {},
   "outputs": [
    {
     "data": {
      "text/plain": [
       "CHPF2     9.182597\n",
       "PRR5      7.849822\n",
       "MMP12     7.687254\n",
       "RBM38     7.266307\n",
       "SOS1      7.058689\n",
       "            ...   \n",
       "GPX3     -0.975186\n",
       "SUOX     -0.975301\n",
       "SPRED2   -0.975567\n",
       "DEGS1    -0.975742\n",
       "SAFB     -0.975808\n",
       "Length: 6442, dtype: float64"
      ]
     },
     "execution_count": 219,
     "metadata": {},
     "output_type": "execute_result"
    }
   ],
   "source": [
    "ys.sort_values(ascending=False)"
   ]
  },
  {
   "cell_type": "code",
   "execution_count": 220,
   "id": "f8ce0049-2996-4033-878e-a5338487e502",
   "metadata": {},
   "outputs": [],
   "source": [
    "# save phenotype\n",
    "y.to_pickle(OUTPUT_DIR / f\"{phenotype_name}.pkl.xz\")"
   ]
  },
  {
   "cell_type": "markdown",
   "id": "75cc9044-4499-4066-870a-acb62b76148b",
   "metadata": {},
   "source": [
    "## Random phenotype 6 / LV455"
   ]
  },
  {
   "cell_type": "code",
   "execution_count": 237,
   "id": "16b81a67-e7e0-4b18-87ff-c3c05789f90e",
   "metadata": {},
   "outputs": [
    {
     "data": {
      "text/plain": [
       "'multixcan-random_phenotype6-pvalues'"
      ]
     },
     "metadata": {},
     "output_type": "display_data"
    }
   ],
   "source": [
    "lv_code = \"LV455\"\n",
    "phenotype_code = 6\n",
    "\n",
    "phenotype_name = f\"multixcan-random_phenotype{phenotype_code}-pvalues\"\n",
    "display(phenotype_name)"
   ]
  },
  {
   "cell_type": "code",
   "execution_count": 238,
   "id": "e8c542e9-0798-4903-9c3f-4e63f9ce28e5",
   "metadata": {},
   "outputs": [],
   "source": [
    "X, y = get_data(lv_code, random_phenotype_code=phenotype_code)\n",
    "corr_mat = get_aligned_corr_mat(X, perc=PERC_NONZERO_GENES)"
   ]
  },
  {
   "cell_type": "code",
   "execution_count": 239,
   "id": "8d1f939d-4615-4ce9-af24-71d163a4098f",
   "metadata": {},
   "outputs": [
    {
     "name": "stdout",
     "output_type": "stream",
     "text": [
      "                            GLS Regression Results                            \n",
      "==============================================================================\n",
      "Dep. Variable:                      y   R-squared:                       0.000\n",
      "Model:                            GLS   Adj. R-squared:                  0.000\n",
      "Method:                 Least Squares   F-statistic:                     1.206\n",
      "Date:                Sat, 03 Sep 2022   Prob (F-statistic):              0.272\n",
      "Time:                        04:35:42   Log-Likelihood:                -9139.0\n",
      "No. Observations:                6442   AIC:                         1.828e+04\n",
      "Df Residuals:                    6440   BIC:                         1.830e+04\n",
      "Df Model:                           1                                         \n",
      "Covariance Type:            nonrobust                                         \n",
      "==============================================================================\n",
      "                 coef    std err          t      P>|t|      [0.025      0.975]\n",
      "------------------------------------------------------------------------------\n",
      "const         -0.0012      0.013     -0.100      0.921      -0.026       0.023\n",
      "LV455          0.1402      0.128      1.098      0.272      -0.110       0.391\n",
      "==============================================================================\n",
      "Omnibus:                     3199.006   Durbin-Watson:                   1.629\n",
      "Prob(Omnibus):                  0.000   Jarque-Bera (JB):            23400.867\n",
      "Skew:                           2.276   Prob(JB):                         0.00\n",
      "Kurtosis:                      11.153   Cond. No.                         10.3\n",
      "==============================================================================\n",
      "\n",
      "Notes:\n",
      "[1] Standard Errors assume that the covariance matrix of the errors is correctly specified.\n"
     ]
    }
   ],
   "source": [
    "_, ys = standardize_data(X, y)\n",
    "_gls_results = train_statsmodels_gls(X, ys, corr_mat)\n",
    "print(_gls_results.summary())"
   ]
  },
  {
   "cell_type": "code",
   "execution_count": 240,
   "id": "ba2b949b-9419-4d31-abb5-180dc3af1a18",
   "metadata": {},
   "outputs": [
    {
     "name": "stdout",
     "output_type": "stream",
     "text": [
      "\n",
      "exp_coef = 0.14024604432028576\n",
      "exp_coef_se = 0.12772108665506693\n",
      "exp_tvalue = 1.0980649162424108\n",
      "exp_pval_twosided = 0.2722171958691433\n",
      "exp_pval_onesided = 0.13610859793457164\n",
      "    \n"
     ]
    }
   ],
   "source": [
    "# print full numbers\n",
    "with np.printoptions(threshold=sys.maxsize, precision=20):\n",
    "    print(\n",
    "        f\"\"\"\n",
    "exp_coef = {_gls_results.params.to_numpy()[1]}\n",
    "exp_coef_se = {_gls_results.bse.to_numpy()[1]}\n",
    "exp_tvalue = {_gls_results.tvalues.to_numpy()[1]}\n",
    "exp_pval_twosided = {_gls_results.pvalues.to_numpy()[1]}\n",
    "exp_pval_onesided = {stats.t.sf(_gls_results.tvalues.to_numpy()[1], _gls_results.df_resid)}\n",
    "    \"\"\"\n",
    "    )"
   ]
  },
  {
   "cell_type": "code",
   "execution_count": 241,
   "id": "f6d2780e-c53e-4a48-b70a-d3f2a75379f0",
   "metadata": {},
   "outputs": [
    {
     "data": {
      "text/html": [
       "<div>\n",
       "<style scoped>\n",
       "    .dataframe tbody tr th:only-of-type {\n",
       "        vertical-align: middle;\n",
       "    }\n",
       "\n",
       "    .dataframe tbody tr th {\n",
       "        vertical-align: top;\n",
       "    }\n",
       "\n",
       "    .dataframe thead th {\n",
       "        text-align: right;\n",
       "    }\n",
       "</style>\n",
       "<table border=\"1\" class=\"dataframe\">\n",
       "  <thead>\n",
       "    <tr style=\"text-align: right;\">\n",
       "      <th></th>\n",
       "      <th>const</th>\n",
       "      <th>LV455</th>\n",
       "    </tr>\n",
       "  </thead>\n",
       "  <tbody>\n",
       "    <tr>\n",
       "      <th>POU2F2</th>\n",
       "      <td>1.0</td>\n",
       "      <td>1.0</td>\n",
       "    </tr>\n",
       "    <tr>\n",
       "      <th>EPHB2</th>\n",
       "      <td>1.0</td>\n",
       "      <td>1.0</td>\n",
       "    </tr>\n",
       "    <tr>\n",
       "      <th>SETD1B</th>\n",
       "      <td>1.0</td>\n",
       "      <td>1.0</td>\n",
       "    </tr>\n",
       "    <tr>\n",
       "      <th>LIG3</th>\n",
       "      <td>1.0</td>\n",
       "      <td>1.0</td>\n",
       "    </tr>\n",
       "    <tr>\n",
       "      <th>RFFL</th>\n",
       "      <td>1.0</td>\n",
       "      <td>1.0</td>\n",
       "    </tr>\n",
       "    <tr>\n",
       "      <th>...</th>\n",
       "      <td>...</td>\n",
       "      <td>...</td>\n",
       "    </tr>\n",
       "    <tr>\n",
       "      <th>FLOT1</th>\n",
       "      <td>1.0</td>\n",
       "      <td>0.0</td>\n",
       "    </tr>\n",
       "    <tr>\n",
       "      <th>TUBB</th>\n",
       "      <td>1.0</td>\n",
       "      <td>0.0</td>\n",
       "    </tr>\n",
       "    <tr>\n",
       "      <th>MDC1</th>\n",
       "      <td>1.0</td>\n",
       "      <td>0.0</td>\n",
       "    </tr>\n",
       "    <tr>\n",
       "      <th>DHX16</th>\n",
       "      <td>1.0</td>\n",
       "      <td>0.0</td>\n",
       "    </tr>\n",
       "    <tr>\n",
       "      <th>SHANK3</th>\n",
       "      <td>1.0</td>\n",
       "      <td>0.0</td>\n",
       "    </tr>\n",
       "  </tbody>\n",
       "</table>\n",
       "<p>6442 rows × 2 columns</p>\n",
       "</div>"
      ],
      "text/plain": [
       "        const  LV455\n",
       "POU2F2    1.0    1.0\n",
       "EPHB2     1.0    1.0\n",
       "SETD1B    1.0    1.0\n",
       "LIG3      1.0    1.0\n",
       "RFFL      1.0    1.0\n",
       "...       ...    ...\n",
       "FLOT1     1.0    0.0\n",
       "TUBB      1.0    0.0\n",
       "MDC1      1.0    0.0\n",
       "DHX16     1.0    0.0\n",
       "SHANK3    1.0    0.0\n",
       "\n",
       "[6442 rows x 2 columns]"
      ]
     },
     "execution_count": 241,
     "metadata": {},
     "output_type": "execute_result"
    }
   ],
   "source": [
    "X.sort_values(lv_code, ascending=False)"
   ]
  },
  {
   "cell_type": "code",
   "execution_count": 242,
   "id": "785808ab-8655-499c-acb1-11698cf2c571",
   "metadata": {},
   "outputs": [
    {
     "data": {
      "text/plain": [
       "CHPF2     4.271450\n",
       "PRR5      3.711042\n",
       "MMP12     3.642685\n",
       "RBM38     3.465685\n",
       "SOS1      3.378385\n",
       "            ...   \n",
       "GPX3      0.000286\n",
       "SUOX      0.000238\n",
       "SPRED2    0.000126\n",
       "DEGS1     0.000053\n",
       "SAFB      0.000025\n",
       "Length: 6442, dtype: float64"
      ]
     },
     "execution_count": 242,
     "metadata": {},
     "output_type": "execute_result"
    }
   ],
   "source": [
    "y.sort_values(ascending=False)"
   ]
  },
  {
   "cell_type": "code",
   "execution_count": 243,
   "id": "75c9e883-e608-4e49-a73c-249f0f45f86c",
   "metadata": {},
   "outputs": [
    {
     "data": {
      "text/plain": [
       "CHPF2     9.182597\n",
       "PRR5      7.849822\n",
       "MMP12     7.687254\n",
       "RBM38     7.266307\n",
       "SOS1      7.058689\n",
       "            ...   \n",
       "GPX3     -0.975186\n",
       "SUOX     -0.975301\n",
       "SPRED2   -0.975567\n",
       "DEGS1    -0.975742\n",
       "SAFB     -0.975808\n",
       "Length: 6442, dtype: float64"
      ]
     },
     "execution_count": 243,
     "metadata": {},
     "output_type": "execute_result"
    }
   ],
   "source": [
    "ys.sort_values(ascending=False)"
   ]
  },
  {
   "cell_type": "code",
   "execution_count": 244,
   "id": "8cea3ace-3260-4d77-8ccc-e48ac7c313bd",
   "metadata": {},
   "outputs": [],
   "source": [
    "# save phenotype\n",
    "y.to_pickle(OUTPUT_DIR / f\"{phenotype_name}.pkl.xz\")"
   ]
  },
  {
   "cell_type": "markdown",
   "id": "0d6d0ae6-ae4b-4ed2-8459-a65aef4e5bdd",
   "metadata": {},
   "source": [
    "## Random phenotype 10 / LV100"
   ]
  },
  {
   "cell_type": "code",
   "execution_count": 221,
   "id": "7039ffe8-6f17-4b89-8cd1-f862223fe9fa",
   "metadata": {},
   "outputs": [
    {
     "data": {
      "text/plain": [
       "'multixcan-random_phenotype10-pvalues'"
      ]
     },
     "metadata": {},
     "output_type": "display_data"
    }
   ],
   "source": [
    "lv_code = \"LV100\"\n",
    "phenotype_code = 10\n",
    "\n",
    "phenotype_name = f\"multixcan-random_phenotype{phenotype_code}-pvalues\"\n",
    "display(phenotype_name)"
   ]
  },
  {
   "cell_type": "code",
   "execution_count": 222,
   "id": "2b24acef-2a32-44fa-abbf-e347b72e0979",
   "metadata": {},
   "outputs": [],
   "source": [
    "X, y = get_data(lv_code, random_phenotype_code=phenotype_code)\n",
    "corr_mat = get_aligned_corr_mat(X, perc=PERC_NONZERO_GENES)"
   ]
  },
  {
   "cell_type": "code",
   "execution_count": 223,
   "id": "7f419134-d724-4152-ae20-fcef6fd98f4b",
   "metadata": {},
   "outputs": [
    {
     "name": "stdout",
     "output_type": "stream",
     "text": [
      "                            GLS Regression Results                            \n",
      "==============================================================================\n",
      "Dep. Variable:                      y   R-squared:                       0.000\n",
      "Model:                            GLS   Adj. R-squared:                 -0.000\n",
      "Method:                 Least Squares   F-statistic:                  0.006761\n",
      "Date:                Sat, 03 Sep 2022   Prob (F-statistic):              0.934\n",
      "Time:                        04:30:23   Log-Likelihood:                -9140.4\n",
      "No. Observations:                6442   AIC:                         1.828e+04\n",
      "Df Residuals:                    6440   BIC:                         1.830e+04\n",
      "Df Model:                           1                                         \n",
      "Covariance Type:            nonrobust                                         \n",
      "==============================================================================\n",
      "                 coef    std err          t      P>|t|      [0.025      0.975]\n",
      "------------------------------------------------------------------------------\n",
      "const      -7.593e-05      0.013     -0.006      0.995      -0.025       0.024\n",
      "LV100          0.0105      0.127      0.082      0.934      -0.239       0.260\n",
      "==============================================================================\n",
      "Omnibus:                     2781.597   Durbin-Watson:                   1.591\n",
      "Prob(Omnibus):                  0.000   Jarque-Bera (JB):            14416.788\n",
      "Skew:                           2.049   Prob(JB):                         0.00\n",
      "Kurtosis:                       9.076   Cond. No.                         10.2\n",
      "==============================================================================\n",
      "\n",
      "Notes:\n",
      "[1] Standard Errors assume that the covariance matrix of the errors is correctly specified.\n"
     ]
    }
   ],
   "source": [
    "_, ys = standardize_data(X, y)\n",
    "_gls_results = train_statsmodels_gls(X, ys, corr_mat)\n",
    "print(_gls_results.summary())"
   ]
  },
  {
   "cell_type": "code",
   "execution_count": 224,
   "id": "22474625-7be6-45f0-85e9-65fbf68e2e1c",
   "metadata": {},
   "outputs": [
    {
     "name": "stdout",
     "output_type": "stream",
     "text": [
      "\n",
      "exp_coef = 0.01045784784294252\n",
      "exp_coef_se = 0.12718873964387706\n",
      "exp_tvalue = 0.08222306371007403\n",
      "exp_pval_twosided = 0.9344718886260288\n",
      "exp_pval_onesided = 0.4672359443130144\n",
      "    \n"
     ]
    }
   ],
   "source": [
    "# print full numbers\n",
    "with np.printoptions(threshold=sys.maxsize, precision=20):\n",
    "    print(\n",
    "        f\"\"\"\n",
    "exp_coef = {_gls_results.params.to_numpy()[1]}\n",
    "exp_coef_se = {_gls_results.bse.to_numpy()[1]}\n",
    "exp_tvalue = {_gls_results.tvalues.to_numpy()[1]}\n",
    "exp_pval_twosided = {_gls_results.pvalues.to_numpy()[1]}\n",
    "exp_pval_onesided = {stats.t.sf(_gls_results.tvalues.to_numpy()[1], _gls_results.df_resid)}\n",
    "    \"\"\"\n",
    "    )"
   ]
  },
  {
   "cell_type": "code",
   "execution_count": 225,
   "id": "d8d4193a-3574-403f-b196-12c934823200",
   "metadata": {},
   "outputs": [
    {
     "data": {
      "text/html": [
       "<div>\n",
       "<style scoped>\n",
       "    .dataframe tbody tr th:only-of-type {\n",
       "        vertical-align: middle;\n",
       "    }\n",
       "\n",
       "    .dataframe tbody tr th {\n",
       "        vertical-align: top;\n",
       "    }\n",
       "\n",
       "    .dataframe thead th {\n",
       "        text-align: right;\n",
       "    }\n",
       "</style>\n",
       "<table border=\"1\" class=\"dataframe\">\n",
       "  <thead>\n",
       "    <tr style=\"text-align: right;\">\n",
       "      <th></th>\n",
       "      <th>const</th>\n",
       "      <th>LV100</th>\n",
       "    </tr>\n",
       "  </thead>\n",
       "  <tbody>\n",
       "    <tr>\n",
       "      <th>RPL4</th>\n",
       "      <td>1.0</td>\n",
       "      <td>1.0</td>\n",
       "    </tr>\n",
       "    <tr>\n",
       "      <th>PTBP1</th>\n",
       "      <td>1.0</td>\n",
       "      <td>1.0</td>\n",
       "    </tr>\n",
       "    <tr>\n",
       "      <th>DNM1</th>\n",
       "      <td>1.0</td>\n",
       "      <td>1.0</td>\n",
       "    </tr>\n",
       "    <tr>\n",
       "      <th>FXYD5</th>\n",
       "      <td>1.0</td>\n",
       "      <td>1.0</td>\n",
       "    </tr>\n",
       "    <tr>\n",
       "      <th>HNRNPA0</th>\n",
       "      <td>1.0</td>\n",
       "      <td>1.0</td>\n",
       "    </tr>\n",
       "    <tr>\n",
       "      <th>...</th>\n",
       "      <td>...</td>\n",
       "      <td>...</td>\n",
       "    </tr>\n",
       "    <tr>\n",
       "      <th>MDC1</th>\n",
       "      <td>1.0</td>\n",
       "      <td>0.0</td>\n",
       "    </tr>\n",
       "    <tr>\n",
       "      <th>DHX16</th>\n",
       "      <td>1.0</td>\n",
       "      <td>0.0</td>\n",
       "    </tr>\n",
       "    <tr>\n",
       "      <th>MRPS18B</th>\n",
       "      <td>1.0</td>\n",
       "      <td>0.0</td>\n",
       "    </tr>\n",
       "    <tr>\n",
       "      <th>TRIM10</th>\n",
       "      <td>1.0</td>\n",
       "      <td>0.0</td>\n",
       "    </tr>\n",
       "    <tr>\n",
       "      <th>SHANK3</th>\n",
       "      <td>1.0</td>\n",
       "      <td>0.0</td>\n",
       "    </tr>\n",
       "  </tbody>\n",
       "</table>\n",
       "<p>6442 rows × 2 columns</p>\n",
       "</div>"
      ],
      "text/plain": [
       "         const  LV100\n",
       "RPL4       1.0    1.0\n",
       "PTBP1      1.0    1.0\n",
       "DNM1       1.0    1.0\n",
       "FXYD5      1.0    1.0\n",
       "HNRNPA0    1.0    1.0\n",
       "...        ...    ...\n",
       "MDC1       1.0    0.0\n",
       "DHX16      1.0    0.0\n",
       "MRPS18B    1.0    0.0\n",
       "TRIM10     1.0    0.0\n",
       "SHANK3     1.0    0.0\n",
       "\n",
       "[6442 rows x 2 columns]"
      ]
     },
     "execution_count": 225,
     "metadata": {},
     "output_type": "execute_result"
    }
   ],
   "source": [
    "X.sort_values(lv_code, ascending=False)"
   ]
  },
  {
   "cell_type": "code",
   "execution_count": 226,
   "id": "1863cc69-0a2e-413d-b45b-ea9f1507650d",
   "metadata": {},
   "outputs": [
    {
     "data": {
      "text/plain": [
       "RPL15      3.931459\n",
       "VAMP4      3.402868\n",
       "HMGCS1     3.177896\n",
       "MED9       3.109621\n",
       "ABCB10     3.069121\n",
       "             ...   \n",
       "DYNLRB1    0.000160\n",
       "ARPC1A     0.000159\n",
       "FUS        0.000123\n",
       "STARD5     0.000052\n",
       "AMPH       0.000009\n",
       "Length: 6442, dtype: float64"
      ]
     },
     "execution_count": 226,
     "metadata": {},
     "output_type": "execute_result"
    }
   ],
   "source": [
    "y.sort_values(ascending=False)"
   ]
  },
  {
   "cell_type": "code",
   "execution_count": 227,
   "id": "11e11410-a33e-4a5a-b00c-ea957512b4d4",
   "metadata": {},
   "outputs": [
    {
     "data": {
      "text/plain": [
       "RPL15      8.255021\n",
       "VAMP4      7.013330\n",
       "HMGCS1     6.484860\n",
       "MED9       6.324478\n",
       "ABCB10     6.229341\n",
       "             ...   \n",
       "DYNLRB1   -0.979822\n",
       "ARPC1A    -0.979825\n",
       "FUS       -0.979908\n",
       "STARD5    -0.980075\n",
       "AMPH      -0.980176\n",
       "Length: 6442, dtype: float64"
      ]
     },
     "execution_count": 227,
     "metadata": {},
     "output_type": "execute_result"
    }
   ],
   "source": [
    "ys.sort_values(ascending=False)"
   ]
  },
  {
   "cell_type": "code",
   "execution_count": 228,
   "id": "41e57ae1-bc96-451a-97b5-e4cd666b0e13",
   "metadata": {},
   "outputs": [],
   "source": [
    "# save phenotype\n",
    "y.to_pickle(OUTPUT_DIR / f\"{phenotype_name}.pkl.xz\")"
   ]
  },
  {
   "cell_type": "markdown",
   "id": "df612fce-259e-4ee0-bade-11d69fb27991",
   "metadata": {},
   "source": [
    "## Random phenotype 0 / LV800"
   ]
  },
  {
   "cell_type": "code",
   "execution_count": 229,
   "id": "a3737833-cb53-4a15-8949-77f7cf55c3b7",
   "metadata": {},
   "outputs": [
    {
     "data": {
      "text/plain": [
       "'multixcan-random_phenotype0-pvalues'"
      ]
     },
     "metadata": {},
     "output_type": "display_data"
    }
   ],
   "source": [
    "lv_code = \"LV800\"\n",
    "phenotype_code = 0\n",
    "\n",
    "phenotype_name = f\"multixcan-random_phenotype{phenotype_code}-pvalues\"\n",
    "display(phenotype_name)"
   ]
  },
  {
   "cell_type": "code",
   "execution_count": 230,
   "id": "422cd42d-19b6-4185-aed1-3ba3b99ec836",
   "metadata": {},
   "outputs": [],
   "source": [
    "X, y = get_data(lv_code, random_phenotype_code=phenotype_code)\n",
    "corr_mat = get_aligned_corr_mat(X, perc=PERC_NONZERO_GENES)"
   ]
  },
  {
   "cell_type": "code",
   "execution_count": 231,
   "id": "d48b870e-40a6-4989-a493-09465f73179e",
   "metadata": {},
   "outputs": [
    {
     "name": "stdout",
     "output_type": "stream",
     "text": [
      "                            GLS Regression Results                            \n",
      "==============================================================================\n",
      "Dep. Variable:                      y   R-squared:                       0.000\n",
      "Model:                            GLS   Adj. R-squared:                  0.000\n",
      "Method:                 Least Squares   F-statistic:                     3.217\n",
      "Date:                Sat, 03 Sep 2022   Prob (F-statistic):             0.0729\n",
      "Time:                        04:33:15   Log-Likelihood:                -9114.7\n",
      "No. Observations:                6442   AIC:                         1.823e+04\n",
      "Df Residuals:                    6440   BIC:                         1.825e+04\n",
      "Df Model:                           1                                         \n",
      "Covariance Type:            nonrobust                                         \n",
      "==============================================================================\n",
      "                 coef    std err          t      P>|t|      [0.025      0.975]\n",
      "------------------------------------------------------------------------------\n",
      "const         -0.0028      0.012     -0.227      0.820      -0.027       0.022\n",
      "LV800          0.2800      0.156      1.794      0.073      -0.026       0.586\n",
      "==============================================================================\n",
      "Omnibus:                     3168.426   Durbin-Watson:                   1.647\n",
      "Prob(Omnibus):                  0.000   Jarque-Bera (JB):            22739.451\n",
      "Skew:                           2.256   Prob(JB):                         0.00\n",
      "Kurtosis:                      11.023   Cond. No.                         12.5\n",
      "==============================================================================\n",
      "\n",
      "Notes:\n",
      "[1] Standard Errors assume that the covariance matrix of the errors is correctly specified.\n"
     ]
    }
   ],
   "source": [
    "_, ys = standardize_data(X, y)\n",
    "_gls_results = train_statsmodels_gls(X, ys, corr_mat)\n",
    "print(_gls_results.summary())"
   ]
  },
  {
   "cell_type": "code",
   "execution_count": 232,
   "id": "9702e3ee-c0fc-4c4f-bf87-816ecfc567eb",
   "metadata": {},
   "outputs": [
    {
     "name": "stdout",
     "output_type": "stream",
     "text": [
      "\n",
      "exp_coef = 0.28001523677025164\n",
      "exp_coef_se = 0.1561087448671094\n",
      "exp_tvalue = 1.79371909631725\n",
      "exp_pval_twosided = 0.07290491285969262\n",
      "exp_pval_onesided = 0.03645245642984631\n",
      "    \n"
     ]
    }
   ],
   "source": [
    "# print full numbers\n",
    "with np.printoptions(threshold=sys.maxsize, precision=20):\n",
    "    print(\n",
    "        f\"\"\"\n",
    "exp_coef = {_gls_results.params.to_numpy()[1]}\n",
    "exp_coef_se = {_gls_results.bse.to_numpy()[1]}\n",
    "exp_tvalue = {_gls_results.tvalues.to_numpy()[1]}\n",
    "exp_pval_twosided = {_gls_results.pvalues.to_numpy()[1]}\n",
    "exp_pval_onesided = {stats.t.sf(_gls_results.tvalues.to_numpy()[1], _gls_results.df_resid)}\n",
    "    \"\"\"\n",
    "    )"
   ]
  },
  {
   "cell_type": "code",
   "execution_count": 233,
   "id": "f73edd59-48ec-46b5-9ba5-d9c263bf7e59",
   "metadata": {},
   "outputs": [
    {
     "data": {
      "text/html": [
       "<div>\n",
       "<style scoped>\n",
       "    .dataframe tbody tr th:only-of-type {\n",
       "        vertical-align: middle;\n",
       "    }\n",
       "\n",
       "    .dataframe tbody tr th {\n",
       "        vertical-align: top;\n",
       "    }\n",
       "\n",
       "    .dataframe thead th {\n",
       "        text-align: right;\n",
       "    }\n",
       "</style>\n",
       "<table border=\"1\" class=\"dataframe\">\n",
       "  <thead>\n",
       "    <tr style=\"text-align: right;\">\n",
       "      <th></th>\n",
       "      <th>const</th>\n",
       "      <th>LV800</th>\n",
       "    </tr>\n",
       "  </thead>\n",
       "  <tbody>\n",
       "    <tr>\n",
       "      <th>ZNF627</th>\n",
       "      <td>1.0</td>\n",
       "      <td>1.0</td>\n",
       "    </tr>\n",
       "    <tr>\n",
       "      <th>ZKSCAN4</th>\n",
       "      <td>1.0</td>\n",
       "      <td>1.0</td>\n",
       "    </tr>\n",
       "    <tr>\n",
       "      <th>ZNF287</th>\n",
       "      <td>1.0</td>\n",
       "      <td>1.0</td>\n",
       "    </tr>\n",
       "    <tr>\n",
       "      <th>ZNF180</th>\n",
       "      <td>1.0</td>\n",
       "      <td>1.0</td>\n",
       "    </tr>\n",
       "    <tr>\n",
       "      <th>ZNF235</th>\n",
       "      <td>1.0</td>\n",
       "      <td>1.0</td>\n",
       "    </tr>\n",
       "    <tr>\n",
       "      <th>...</th>\n",
       "      <td>...</td>\n",
       "      <td>...</td>\n",
       "    </tr>\n",
       "    <tr>\n",
       "      <th>ZNF311</th>\n",
       "      <td>1.0</td>\n",
       "      <td>0.0</td>\n",
       "    </tr>\n",
       "    <tr>\n",
       "      <th>ZKSCAN3</th>\n",
       "      <td>1.0</td>\n",
       "      <td>0.0</td>\n",
       "    </tr>\n",
       "    <tr>\n",
       "      <th>ZNF165</th>\n",
       "      <td>1.0</td>\n",
       "      <td>0.0</td>\n",
       "    </tr>\n",
       "    <tr>\n",
       "      <th>HIST1H2BO</th>\n",
       "      <td>1.0</td>\n",
       "      <td>0.0</td>\n",
       "    </tr>\n",
       "    <tr>\n",
       "      <th>SHANK3</th>\n",
       "      <td>1.0</td>\n",
       "      <td>0.0</td>\n",
       "    </tr>\n",
       "  </tbody>\n",
       "</table>\n",
       "<p>6442 rows × 2 columns</p>\n",
       "</div>"
      ],
      "text/plain": [
       "           const  LV800\n",
       "ZNF627       1.0    1.0\n",
       "ZKSCAN4      1.0    1.0\n",
       "ZNF287       1.0    1.0\n",
       "ZNF180       1.0    1.0\n",
       "ZNF235       1.0    1.0\n",
       "...          ...    ...\n",
       "ZNF311       1.0    0.0\n",
       "ZKSCAN3      1.0    0.0\n",
       "ZNF165       1.0    0.0\n",
       "HIST1H2BO    1.0    0.0\n",
       "SHANK3       1.0    0.0\n",
       "\n",
       "[6442 rows x 2 columns]"
      ]
     },
     "execution_count": 233,
     "metadata": {},
     "output_type": "execute_result"
    }
   ],
   "source": [
    "X.sort_values(lv_code, ascending=False)"
   ]
  },
  {
   "cell_type": "code",
   "execution_count": 234,
   "id": "7fc57cde-b948-4c98-a4c6-3914912b0b25",
   "metadata": {},
   "outputs": [
    {
     "data": {
      "text/plain": [
       "GPATCH1    4.109027\n",
       "NFKBIA     4.018127\n",
       "TTC5       3.963686\n",
       "ZNF17      3.853562\n",
       "ZNF563     3.747638\n",
       "             ...   \n",
       "TXNDC5     0.000225\n",
       "SEC22B     0.000139\n",
       "AP3B2      0.000109\n",
       "WWTR1      0.000108\n",
       "PCBP4      0.000053\n",
       "Length: 6442, dtype: float64"
      ]
     },
     "execution_count": 234,
     "metadata": {},
     "output_type": "execute_result"
    }
   ],
   "source": [
    "y.sort_values(ascending=False)"
   ]
  },
  {
   "cell_type": "code",
   "execution_count": 235,
   "id": "a140f044-d68a-4dd5-a2c9-276a6b418cb5",
   "metadata": {},
   "outputs": [
    {
     "data": {
      "text/plain": [
       "GPATCH1    8.400360\n",
       "NFKBIA     8.193397\n",
       "TTC5       8.069447\n",
       "ZNF17      7.818714\n",
       "ZNF563     7.577544\n",
       "             ...   \n",
       "TXNDC5    -0.954608\n",
       "SEC22B    -0.954804\n",
       "AP3B2     -0.954872\n",
       "WWTR1     -0.954875\n",
       "PCBP4     -0.955001\n",
       "Length: 6442, dtype: float64"
      ]
     },
     "execution_count": 235,
     "metadata": {},
     "output_type": "execute_result"
    }
   ],
   "source": [
    "ys.sort_values(ascending=False)"
   ]
  },
  {
   "cell_type": "code",
   "execution_count": 236,
   "id": "57f859fd-35fe-4a58-90e3-47b44321b699",
   "metadata": {},
   "outputs": [],
   "source": [
    "# save phenotype\n",
    "y.to_pickle(OUTPUT_DIR / f\"{phenotype_name}.pkl.xz\")"
   ]
  },
  {
   "cell_type": "markdown",
   "id": "d8da1e43-f98e-4bdb-9c49-a1032ef57184",
   "metadata": {},
   "source": [
    "# Test different covariates"
   ]
  },
  {
   "cell_type": "code",
   "execution_count": 245,
   "id": "55ceec47-0875-4504-a82d-26096bd98fcc",
   "metadata": {},
   "outputs": [],
   "source": [
    "covars = load_multixcan_random_phenotype(0)[[\"n\", \"n_indep\"]]\n",
    "covars = covars[~covars.index.duplicated(keep=\"first\")]\n",
    "covars = covars.dropna()\n",
    "covars = covars.join(gene_tissues_df, how=\"inner\")\n",
    "assert not covars.isna().any(None)"
   ]
  },
  {
   "cell_type": "code",
   "execution_count": 246,
   "id": "b2337fac-a6fc-4d23-8f1b-73cc85000e3d",
   "metadata": {},
   "outputs": [],
   "source": [
    "covars = covars.drop(columns=[c for c in covars.columns if \"model\" in c])"
   ]
  },
  {
   "cell_type": "code",
   "execution_count": 247,
   "id": "ed83272b-c808-4503-b057-5c4f678e578b",
   "metadata": {},
   "outputs": [
    {
     "data": {
      "text/plain": [
       "(22308, 5)"
      ]
     },
     "execution_count": 247,
     "metadata": {},
     "output_type": "execute_result"
    }
   ],
   "source": [
    "covars.shape"
   ]
  },
  {
   "cell_type": "code",
   "execution_count": 248,
   "id": "b54d4bd5-7122-409e-a404-556c029c1fdf",
   "metadata": {},
   "outputs": [
    {
     "data": {
      "text/html": [
       "<div>\n",
       "<style scoped>\n",
       "    .dataframe tbody tr th:only-of-type {\n",
       "        vertical-align: middle;\n",
       "    }\n",
       "\n",
       "    .dataframe tbody tr th {\n",
       "        vertical-align: top;\n",
       "    }\n",
       "\n",
       "    .dataframe thead th {\n",
       "        text-align: right;\n",
       "    }\n",
       "</style>\n",
       "<table border=\"1\" class=\"dataframe\">\n",
       "  <thead>\n",
       "    <tr style=\"text-align: right;\">\n",
       "      <th></th>\n",
       "      <th>n</th>\n",
       "      <th>n_indep</th>\n",
       "      <th>tissue</th>\n",
       "      <th>n_snps_used_sum</th>\n",
       "      <th>unique_n_snps_used</th>\n",
       "    </tr>\n",
       "    <tr>\n",
       "      <th>gene_name</th>\n",
       "      <th></th>\n",
       "      <th></th>\n",
       "      <th></th>\n",
       "      <th></th>\n",
       "      <th></th>\n",
       "    </tr>\n",
       "  </thead>\n",
       "  <tbody>\n",
       "    <tr>\n",
       "      <th>RHPN2</th>\n",
       "      <td>48.0</td>\n",
       "      <td>3.0</td>\n",
       "      <td>(Colon_Transverse, Brain_Cerebellum, Brain_Hip...</td>\n",
       "      <td>79</td>\n",
       "      <td>25</td>\n",
       "    </tr>\n",
       "    <tr>\n",
       "      <th>GPATCH1</th>\n",
       "      <td>40.0</td>\n",
       "      <td>3.0</td>\n",
       "      <td>(Colon_Transverse, Brain_Cerebellum, Brain_Hip...</td>\n",
       "      <td>50</td>\n",
       "      <td>19</td>\n",
       "    </tr>\n",
       "    <tr>\n",
       "      <th>NFKBIA</th>\n",
       "      <td>1.0</td>\n",
       "      <td>1.0</td>\n",
       "      <td>(Brain_Frontal_Cortex_BA9)</td>\n",
       "      <td>1</td>\n",
       "      <td>1</td>\n",
       "    </tr>\n",
       "    <tr>\n",
       "      <th>TTC5</th>\n",
       "      <td>47.0</td>\n",
       "      <td>5.0</td>\n",
       "      <td>(Colon_Transverse, Brain_Hippocampus, Prostate...</td>\n",
       "      <td>84</td>\n",
       "      <td>12</td>\n",
       "    </tr>\n",
       "    <tr>\n",
       "      <th>ADGRA3</th>\n",
       "      <td>41.0</td>\n",
       "      <td>12.0</td>\n",
       "      <td>(Colon_Transverse, Brain_Cerebellum, Brain_Hip...</td>\n",
       "      <td>62</td>\n",
       "      <td>30</td>\n",
       "    </tr>\n",
       "  </tbody>\n",
       "</table>\n",
       "</div>"
      ],
      "text/plain": [
       "              n  n_indep                                             tissue  \\\n",
       "gene_name                                                                     \n",
       "RHPN2      48.0      3.0  (Colon_Transverse, Brain_Cerebellum, Brain_Hip...   \n",
       "GPATCH1    40.0      3.0  (Colon_Transverse, Brain_Cerebellum, Brain_Hip...   \n",
       "NFKBIA      1.0      1.0                         (Brain_Frontal_Cortex_BA9)   \n",
       "TTC5       47.0      5.0  (Colon_Transverse, Brain_Hippocampus, Prostate...   \n",
       "ADGRA3     41.0     12.0  (Colon_Transverse, Brain_Cerebellum, Brain_Hip...   \n",
       "\n",
       "           n_snps_used_sum  unique_n_snps_used  \n",
       "gene_name                                       \n",
       "RHPN2                   79                  25  \n",
       "GPATCH1                 50                  19  \n",
       "NFKBIA                   1                   1  \n",
       "TTC5                    84                  12  \n",
       "ADGRA3                  62                  30  "
      ]
     },
     "execution_count": 248,
     "metadata": {},
     "output_type": "execute_result"
    }
   ],
   "source": [
    "covars.head()"
   ]
  },
  {
   "cell_type": "code",
   "execution_count": 249,
   "id": "f1c0abaa-7042-40e3-9a77-91d258a19273",
   "metadata": {},
   "outputs": [],
   "source": [
    "# gene_size and gene_density\n",
    "covars = covars.rename(\n",
    "    columns={\n",
    "        \"n_indep\": \"gene_size\",\n",
    "    }\n",
    ")\n",
    "covars = covars.assign(\n",
    "    gene_density=covars.apply(lambda x: x[\"gene_size\"] / x[\"n\"], axis=1)\n",
    ")\n",
    "covars = covars.drop(columns=[\"n\"])"
   ]
  },
  {
   "cell_type": "code",
   "execution_count": 250,
   "id": "470c8441-572b-4cb6-99ed-8a371d77460d",
   "metadata": {},
   "outputs": [],
   "source": [
    "_final_covars = [\n",
    "    \"gene_size\",\n",
    "    \"gene_density\",\n",
    "]"
   ]
  },
  {
   "cell_type": "code",
   "execution_count": 251,
   "id": "c657b322-6737-4bb8-bcf6-b30871bb6a34",
   "metadata": {},
   "outputs": [
    {
     "data": {
      "text/html": [
       "<div>\n",
       "<style scoped>\n",
       "    .dataframe tbody tr th:only-of-type {\n",
       "        vertical-align: middle;\n",
       "    }\n",
       "\n",
       "    .dataframe tbody tr th {\n",
       "        vertical-align: top;\n",
       "    }\n",
       "\n",
       "    .dataframe thead th {\n",
       "        text-align: right;\n",
       "    }\n",
       "</style>\n",
       "<table border=\"1\" class=\"dataframe\">\n",
       "  <thead>\n",
       "    <tr style=\"text-align: right;\">\n",
       "      <th></th>\n",
       "      <th>gene_size</th>\n",
       "      <th>gene_density</th>\n",
       "    </tr>\n",
       "    <tr>\n",
       "      <th>gene_name</th>\n",
       "      <th></th>\n",
       "      <th></th>\n",
       "    </tr>\n",
       "  </thead>\n",
       "  <tbody>\n",
       "    <tr>\n",
       "      <th>RHPN2</th>\n",
       "      <td>3.0</td>\n",
       "      <td>0.062500</td>\n",
       "    </tr>\n",
       "    <tr>\n",
       "      <th>GPATCH1</th>\n",
       "      <td>3.0</td>\n",
       "      <td>0.075000</td>\n",
       "    </tr>\n",
       "    <tr>\n",
       "      <th>NFKBIA</th>\n",
       "      <td>1.0</td>\n",
       "      <td>1.000000</td>\n",
       "    </tr>\n",
       "    <tr>\n",
       "      <th>TTC5</th>\n",
       "      <td>5.0</td>\n",
       "      <td>0.106383</td>\n",
       "    </tr>\n",
       "    <tr>\n",
       "      <th>ADGRA3</th>\n",
       "      <td>12.0</td>\n",
       "      <td>0.292683</td>\n",
       "    </tr>\n",
       "  </tbody>\n",
       "</table>\n",
       "</div>"
      ],
      "text/plain": [
       "           gene_size  gene_density\n",
       "gene_name                         \n",
       "RHPN2            3.0      0.062500\n",
       "GPATCH1          3.0      0.075000\n",
       "NFKBIA           1.0      1.000000\n",
       "TTC5             5.0      0.106383\n",
       "ADGRA3          12.0      0.292683"
      ]
     },
     "execution_count": 251,
     "metadata": {},
     "output_type": "execute_result"
    }
   ],
   "source": [
    "covars[_final_covars].head()"
   ]
  },
  {
   "cell_type": "code",
   "execution_count": 252,
   "id": "ac36db8d-6166-40fb-bb1b-636f7bc4e39e",
   "metadata": {},
   "outputs": [
    {
     "data": {
      "text/html": [
       "<div>\n",
       "<style scoped>\n",
       "    .dataframe tbody tr th:only-of-type {\n",
       "        vertical-align: middle;\n",
       "    }\n",
       "\n",
       "    .dataframe tbody tr th {\n",
       "        vertical-align: top;\n",
       "    }\n",
       "\n",
       "    .dataframe thead th {\n",
       "        text-align: right;\n",
       "    }\n",
       "</style>\n",
       "<table border=\"1\" class=\"dataframe\">\n",
       "  <thead>\n",
       "    <tr style=\"text-align: right;\">\n",
       "      <th></th>\n",
       "      <th>gene_size</th>\n",
       "      <th>gene_density</th>\n",
       "    </tr>\n",
       "  </thead>\n",
       "  <tbody>\n",
       "    <tr>\n",
       "      <th>count</th>\n",
       "      <td>22308.000000</td>\n",
       "      <td>22308.000000</td>\n",
       "    </tr>\n",
       "    <tr>\n",
       "      <th>mean</th>\n",
       "      <td>3.806437</td>\n",
       "      <td>0.279629</td>\n",
       "    </tr>\n",
       "    <tr>\n",
       "      <th>std</th>\n",
       "      <td>2.274187</td>\n",
       "      <td>0.307090</td>\n",
       "    </tr>\n",
       "    <tr>\n",
       "      <th>min</th>\n",
       "      <td>1.000000</td>\n",
       "      <td>0.020408</td>\n",
       "    </tr>\n",
       "    <tr>\n",
       "      <th>25%</th>\n",
       "      <td>2.000000</td>\n",
       "      <td>0.081633</td>\n",
       "    </tr>\n",
       "    <tr>\n",
       "      <th>50%</th>\n",
       "      <td>3.000000</td>\n",
       "      <td>0.139535</td>\n",
       "    </tr>\n",
       "    <tr>\n",
       "      <th>75%</th>\n",
       "      <td>5.000000</td>\n",
       "      <td>0.333333</td>\n",
       "    </tr>\n",
       "    <tr>\n",
       "      <th>max</th>\n",
       "      <td>18.000000</td>\n",
       "      <td>1.000000</td>\n",
       "    </tr>\n",
       "  </tbody>\n",
       "</table>\n",
       "</div>"
      ],
      "text/plain": [
       "          gene_size  gene_density\n",
       "count  22308.000000  22308.000000\n",
       "mean       3.806437      0.279629\n",
       "std        2.274187      0.307090\n",
       "min        1.000000      0.020408\n",
       "25%        2.000000      0.081633\n",
       "50%        3.000000      0.139535\n",
       "75%        5.000000      0.333333\n",
       "max       18.000000      1.000000"
      ]
     },
     "execution_count": 252,
     "metadata": {},
     "output_type": "execute_result"
    }
   ],
   "source": [
    "covars[_final_covars].describe()"
   ]
  },
  {
   "cell_type": "code",
   "execution_count": 253,
   "id": "d24260e6-996d-4cb8-b3e0-7e9e28332796",
   "metadata": {},
   "outputs": [
    {
     "data": {
      "text/html": [
       "<div>\n",
       "<style scoped>\n",
       "    .dataframe tbody tr th:only-of-type {\n",
       "        vertical-align: middle;\n",
       "    }\n",
       "\n",
       "    .dataframe tbody tr th {\n",
       "        vertical-align: top;\n",
       "    }\n",
       "\n",
       "    .dataframe thead th {\n",
       "        text-align: right;\n",
       "    }\n",
       "</style>\n",
       "<table border=\"1\" class=\"dataframe\">\n",
       "  <thead>\n",
       "    <tr style=\"text-align: right;\">\n",
       "      <th></th>\n",
       "      <th>gene_size_log</th>\n",
       "      <th>gene_density_log</th>\n",
       "    </tr>\n",
       "  </thead>\n",
       "  <tbody>\n",
       "    <tr>\n",
       "      <th>count</th>\n",
       "      <td>22308.000000</td>\n",
       "      <td>22308.000000</td>\n",
       "    </tr>\n",
       "    <tr>\n",
       "      <th>mean</th>\n",
       "      <td>1.148862</td>\n",
       "      <td>-1.801823</td>\n",
       "    </tr>\n",
       "    <tr>\n",
       "      <th>std</th>\n",
       "      <td>0.641076</td>\n",
       "      <td>1.018646</td>\n",
       "    </tr>\n",
       "    <tr>\n",
       "      <th>min</th>\n",
       "      <td>0.000000</td>\n",
       "      <td>-3.891820</td>\n",
       "    </tr>\n",
       "    <tr>\n",
       "      <th>25%</th>\n",
       "      <td>0.693147</td>\n",
       "      <td>-2.505526</td>\n",
       "    </tr>\n",
       "    <tr>\n",
       "      <th>50%</th>\n",
       "      <td>1.098612</td>\n",
       "      <td>-1.969441</td>\n",
       "    </tr>\n",
       "    <tr>\n",
       "      <th>75%</th>\n",
       "      <td>1.609438</td>\n",
       "      <td>-1.098612</td>\n",
       "    </tr>\n",
       "    <tr>\n",
       "      <th>max</th>\n",
       "      <td>2.890372</td>\n",
       "      <td>0.000000</td>\n",
       "    </tr>\n",
       "  </tbody>\n",
       "</table>\n",
       "</div>"
      ],
      "text/plain": [
       "       gene_size_log  gene_density_log\n",
       "count   22308.000000      22308.000000\n",
       "mean        1.148862         -1.801823\n",
       "std         0.641076          1.018646\n",
       "min         0.000000         -3.891820\n",
       "25%         0.693147         -2.505526\n",
       "50%         1.098612         -1.969441\n",
       "75%         1.609438         -1.098612\n",
       "max         2.890372          0.000000"
      ]
     },
     "metadata": {},
     "output_type": "display_data"
    }
   ],
   "source": [
    "_tmp = covars.assign(**{f\"{c}_log\": np.log(covars[c]) for c in _final_covars})\n",
    "display(_tmp[[c for c in _tmp.columns if \"_log\" in c]].describe())"
   ]
  },
  {
   "cell_type": "code",
   "execution_count": 254,
   "id": "5e786643-2f17-4f36-b9ed-29017612c16c",
   "metadata": {},
   "outputs": [
    {
     "data": {
      "text/html": [
       "<div>\n",
       "<style scoped>\n",
       "    .dataframe tbody tr th:only-of-type {\n",
       "        vertical-align: middle;\n",
       "    }\n",
       "\n",
       "    .dataframe tbody tr th {\n",
       "        vertical-align: top;\n",
       "    }\n",
       "\n",
       "    .dataframe thead th {\n",
       "        text-align: right;\n",
       "    }\n",
       "</style>\n",
       "<table border=\"1\" class=\"dataframe\">\n",
       "  <thead>\n",
       "    <tr style=\"text-align: right;\">\n",
       "      <th></th>\n",
       "      <th>gene_size</th>\n",
       "      <th>gene_density</th>\n",
       "    </tr>\n",
       "  </thead>\n",
       "  <tbody>\n",
       "    <tr>\n",
       "      <th>gene_size</th>\n",
       "      <td>1.000000</td>\n",
       "      <td>-0.171108</td>\n",
       "    </tr>\n",
       "    <tr>\n",
       "      <th>gene_density</th>\n",
       "      <td>-0.171108</td>\n",
       "      <td>1.000000</td>\n",
       "    </tr>\n",
       "  </tbody>\n",
       "</table>\n",
       "</div>"
      ],
      "text/plain": [
       "              gene_size  gene_density\n",
       "gene_size      1.000000     -0.171108\n",
       "gene_density  -0.171108      1.000000"
      ]
     },
     "execution_count": 254,
     "metadata": {},
     "output_type": "execute_result"
    }
   ],
   "source": [
    "covars[_final_covars].corr()"
   ]
  },
  {
   "cell_type": "code",
   "execution_count": 255,
   "id": "dd20488b-ca46-4207-877c-aa0e05ef98a2",
   "metadata": {},
   "outputs": [
    {
     "data": {
      "text/html": [
       "<div>\n",
       "<style scoped>\n",
       "    .dataframe tbody tr th:only-of-type {\n",
       "        vertical-align: middle;\n",
       "    }\n",
       "\n",
       "    .dataframe tbody tr th {\n",
       "        vertical-align: top;\n",
       "    }\n",
       "\n",
       "    .dataframe thead th {\n",
       "        text-align: right;\n",
       "    }\n",
       "</style>\n",
       "<table border=\"1\" class=\"dataframe\">\n",
       "  <thead>\n",
       "    <tr style=\"text-align: right;\">\n",
       "      <th></th>\n",
       "      <th>gene_size_log</th>\n",
       "      <th>gene_density_log</th>\n",
       "    </tr>\n",
       "  </thead>\n",
       "  <tbody>\n",
       "    <tr>\n",
       "      <th>gene_size_log</th>\n",
       "      <td>1.000000</td>\n",
       "      <td>-0.008408</td>\n",
       "    </tr>\n",
       "    <tr>\n",
       "      <th>gene_density_log</th>\n",
       "      <td>-0.008408</td>\n",
       "      <td>1.000000</td>\n",
       "    </tr>\n",
       "  </tbody>\n",
       "</table>\n",
       "</div>"
      ],
      "text/plain": [
       "                  gene_size_log  gene_density_log\n",
       "gene_size_log          1.000000         -0.008408\n",
       "gene_density_log      -0.008408          1.000000"
      ]
     },
     "execution_count": 255,
     "metadata": {},
     "output_type": "execute_result"
    }
   ],
   "source": [
    "_tmp[[c for c in _tmp.columns if \"_log\" in c]].corr()"
   ]
  },
  {
   "cell_type": "markdown",
   "id": "7fda91cb-b5dc-4d13-a779-847dc05195a1",
   "metadata": {
    "papermill": {
     "duration": 0.012899,
     "end_time": "2022-07-11T13:23:15.569947",
     "exception": false,
     "start_time": "2022-07-11T13:23:15.557048",
     "status": "completed"
    },
    "tags": []
   },
   "source": [
    "## [full corr matrix] GLS on randomly generated phenotypes using gene-level covariates"
   ]
  },
  {
   "cell_type": "code",
   "execution_count": 256,
   "id": "ed44929a-f26b-4669-b9de-6df527198dd2",
   "metadata": {},
   "outputs": [],
   "source": [
    "PERC_NONZERO_GENES = None"
   ]
  },
  {
   "cell_type": "markdown",
   "id": "3472f443-6a87-4fb0-8f23-19e7786ac6dc",
   "metadata": {},
   "source": [
    "### Random phenotype 6 / LV45"
   ]
  },
  {
   "cell_type": "code",
   "execution_count": 257,
   "id": "a1648070-53fc-4c46-8748-751023173206",
   "metadata": {},
   "outputs": [
    {
     "data": {
      "text/plain": [
       "'multixcan-random_phenotype6-pvalues'"
      ]
     },
     "metadata": {},
     "output_type": "display_data"
    }
   ],
   "source": [
    "lv_code = \"LV45\"\n",
    "phenotype_code = 6\n",
    "\n",
    "phenotype_name_base = f\"multixcan-random_phenotype{phenotype_code}\"\n",
    "phenotype_name = f\"{phenotype_name_base}-pvalues\"\n",
    "display(phenotype_name)"
   ]
  },
  {
   "cell_type": "code",
   "execution_count": 258,
   "id": "2d0f02e9-9da7-4b54-b64a-a0dd67cdadaf",
   "metadata": {},
   "outputs": [],
   "source": [
    "X, y = get_data(lv_code, random_phenotype_code=phenotype_code, add_covars=True)\n",
    "corr_mat = get_aligned_corr_mat(X, perc=PERC_NONZERO_GENES)"
   ]
  },
  {
   "cell_type": "code",
   "execution_count": 259,
   "id": "9aa5d7d9-1d50-4122-9af5-0ffe1fc9da56",
   "metadata": {},
   "outputs": [
    {
     "data": {
      "text/html": [
       "<div>\n",
       "<style scoped>\n",
       "    .dataframe tbody tr th:only-of-type {\n",
       "        vertical-align: middle;\n",
       "    }\n",
       "\n",
       "    .dataframe tbody tr th {\n",
       "        vertical-align: top;\n",
       "    }\n",
       "\n",
       "    .dataframe thead th {\n",
       "        text-align: right;\n",
       "    }\n",
       "</style>\n",
       "<table border=\"1\" class=\"dataframe\">\n",
       "  <thead>\n",
       "    <tr style=\"text-align: right;\">\n",
       "      <th></th>\n",
       "      <th>const</th>\n",
       "      <th>LV45</th>\n",
       "      <th>gene_size</th>\n",
       "      <th>gene_density</th>\n",
       "    </tr>\n",
       "  </thead>\n",
       "  <tbody>\n",
       "    <tr>\n",
       "      <th>NOC2L</th>\n",
       "      <td>1.0</td>\n",
       "      <td>0.0</td>\n",
       "      <td>5.0</td>\n",
       "      <td>0.106383</td>\n",
       "    </tr>\n",
       "    <tr>\n",
       "      <th>HES4</th>\n",
       "      <td>1.0</td>\n",
       "      <td>0.0</td>\n",
       "      <td>3.0</td>\n",
       "      <td>0.068182</td>\n",
       "    </tr>\n",
       "    <tr>\n",
       "      <th>ISG15</th>\n",
       "      <td>1.0</td>\n",
       "      <td>0.0</td>\n",
       "      <td>6.0</td>\n",
       "      <td>0.142857</td>\n",
       "    </tr>\n",
       "    <tr>\n",
       "      <th>AGRN</th>\n",
       "      <td>1.0</td>\n",
       "      <td>0.0</td>\n",
       "      <td>4.0</td>\n",
       "      <td>0.086957</td>\n",
       "    </tr>\n",
       "    <tr>\n",
       "      <th>TNFRSF18</th>\n",
       "      <td>1.0</td>\n",
       "      <td>0.0</td>\n",
       "      <td>4.0</td>\n",
       "      <td>0.088889</td>\n",
       "    </tr>\n",
       "  </tbody>\n",
       "</table>\n",
       "</div>"
      ],
      "text/plain": [
       "          const  LV45  gene_size  gene_density\n",
       "NOC2L       1.0   0.0        5.0      0.106383\n",
       "HES4        1.0   0.0        3.0      0.068182\n",
       "ISG15       1.0   0.0        6.0      0.142857\n",
       "AGRN        1.0   0.0        4.0      0.086957\n",
       "TNFRSF18    1.0   0.0        4.0      0.088889"
      ]
     },
     "execution_count": 259,
     "metadata": {},
     "output_type": "execute_result"
    }
   ],
   "source": [
    "X.head()"
   ]
  },
  {
   "cell_type": "code",
   "execution_count": 260,
   "id": "45af19ca-e348-41c7-8b65-7a417fb70edd",
   "metadata": {},
   "outputs": [
    {
     "name": "stdout",
     "output_type": "stream",
     "text": [
      "                            GLS Regression Results                            \n",
      "==============================================================================\n",
      "Dep. Variable:                      y   R-squared:                       0.000\n",
      "Model:                            GLS   Adj. R-squared:                 -0.000\n",
      "Method:                 Least Squares   F-statistic:                    0.4215\n",
      "Date:                Sat, 03 Sep 2022   Prob (F-statistic):              0.738\n",
      "Time:                        04:53:19   Log-Likelihood:                -8670.8\n",
      "No. Observations:                6442   AIC:                         1.735e+04\n",
      "Df Residuals:                    6438   BIC:                         1.738e+04\n",
      "Df Model:                           3                                         \n",
      "Covariance Type:            nonrobust                                         \n",
      "================================================================================\n",
      "                   coef    std err          t      P>|t|      [0.025      0.975]\n",
      "--------------------------------------------------------------------------------\n",
      "const            0.0324      0.030      1.063      0.288      -0.027       0.092\n",
      "LV45            -0.1005      0.093     -1.081      0.280      -0.283       0.082\n",
      "gene_size       -0.0018      0.006     -0.312      0.755      -0.013       0.010\n",
      "gene_density     0.0009      0.010      0.097      0.923      -0.018       0.020\n",
      "==============================================================================\n",
      "Omnibus:                     2888.280   Durbin-Watson:                   1.970\n",
      "Prob(Omnibus):                  0.000   Jarque-Bera (JB):            19709.367\n",
      "Skew:                           2.027   Prob(JB):                         0.00\n",
      "Kurtosis:                      10.549   Cond. No.                         20.5\n",
      "==============================================================================\n",
      "\n",
      "Notes:\n",
      "[1] Standard Errors assume that the covariance matrix of the errors is correctly specified.\n"
     ]
    }
   ],
   "source": [
    "_, ys = standardize_data(X, y)\n",
    "_gls_results = train_statsmodels_gls(X, ys, corr_mat)\n",
    "print(_gls_results.summary())"
   ]
  },
  {
   "cell_type": "code",
   "execution_count": 261,
   "id": "782d657f-eb62-4f7b-8718-62cd2bcfb9cc",
   "metadata": {},
   "outputs": [
    {
     "name": "stdout",
     "output_type": "stream",
     "text": [
      "\n",
      "exp_coef = -0.10052902446730924\n",
      "exp_coef_se = 0.09300042682237371\n",
      "exp_tvalue = -1.0809522913192084\n",
      "exp_pval_twosided = 0.27975882566803706\n",
      "exp_pval_onesided = 0.8601205871659815\n",
      "    \n"
     ]
    }
   ],
   "source": [
    "# print full numbers\n",
    "with np.printoptions(threshold=sys.maxsize, precision=20):\n",
    "    print(\n",
    "        f\"\"\"\n",
    "exp_coef = {_gls_results.params.to_numpy()[1]}\n",
    "exp_coef_se = {_gls_results.bse.to_numpy()[1]}\n",
    "exp_tvalue = {_gls_results.tvalues.to_numpy()[1]}\n",
    "exp_pval_twosided = {_gls_results.pvalues.to_numpy()[1]}\n",
    "exp_pval_onesided = {stats.t.sf(_gls_results.tvalues.to_numpy()[1], _gls_results.df_resid)}\n",
    "    \"\"\"\n",
    "    )"
   ]
  },
  {
   "cell_type": "code",
   "execution_count": 262,
   "id": "845f4d71-3ff8-482f-ac33-0f5bf04c083d",
   "metadata": {},
   "outputs": [
    {
     "data": {
      "text/html": [
       "<div>\n",
       "<style scoped>\n",
       "    .dataframe tbody tr th:only-of-type {\n",
       "        vertical-align: middle;\n",
       "    }\n",
       "\n",
       "    .dataframe tbody tr th {\n",
       "        vertical-align: top;\n",
       "    }\n",
       "\n",
       "    .dataframe thead th {\n",
       "        text-align: right;\n",
       "    }\n",
       "</style>\n",
       "<table border=\"1\" class=\"dataframe\">\n",
       "  <thead>\n",
       "    <tr style=\"text-align: right;\">\n",
       "      <th></th>\n",
       "      <th>const</th>\n",
       "      <th>LV45</th>\n",
       "      <th>gene_size</th>\n",
       "      <th>gene_density</th>\n",
       "    </tr>\n",
       "  </thead>\n",
       "  <tbody>\n",
       "    <tr>\n",
       "      <th>CENPH</th>\n",
       "      <td>1.0</td>\n",
       "      <td>1.0</td>\n",
       "      <td>2.0</td>\n",
       "      <td>0.041667</td>\n",
       "    </tr>\n",
       "    <tr>\n",
       "      <th>HIST1H2AD</th>\n",
       "      <td>1.0</td>\n",
       "      <td>1.0</td>\n",
       "      <td>3.0</td>\n",
       "      <td>0.166667</td>\n",
       "    </tr>\n",
       "    <tr>\n",
       "      <th>HIST1H4D</th>\n",
       "      <td>1.0</td>\n",
       "      <td>1.0</td>\n",
       "      <td>1.0</td>\n",
       "      <td>0.142857</td>\n",
       "    </tr>\n",
       "    <tr>\n",
       "      <th>HIST1H2BE</th>\n",
       "      <td>1.0</td>\n",
       "      <td>1.0</td>\n",
       "      <td>2.0</td>\n",
       "      <td>0.074074</td>\n",
       "    </tr>\n",
       "    <tr>\n",
       "      <th>HIST1H2BD</th>\n",
       "      <td>1.0</td>\n",
       "      <td>1.0</td>\n",
       "      <td>4.0</td>\n",
       "      <td>0.129032</td>\n",
       "    </tr>\n",
       "    <tr>\n",
       "      <th>...</th>\n",
       "      <td>...</td>\n",
       "      <td>...</td>\n",
       "      <td>...</td>\n",
       "      <td>...</td>\n",
       "    </tr>\n",
       "    <tr>\n",
       "      <th>AIF1</th>\n",
       "      <td>1.0</td>\n",
       "      <td>0.0</td>\n",
       "      <td>8.0</td>\n",
       "      <td>0.177778</td>\n",
       "    </tr>\n",
       "    <tr>\n",
       "      <th>NCR3</th>\n",
       "      <td>1.0</td>\n",
       "      <td>0.0</td>\n",
       "      <td>7.0</td>\n",
       "      <td>0.175000</td>\n",
       "    </tr>\n",
       "    <tr>\n",
       "      <th>LST1</th>\n",
       "      <td>1.0</td>\n",
       "      <td>0.0</td>\n",
       "      <td>6.0</td>\n",
       "      <td>0.130435</td>\n",
       "    </tr>\n",
       "    <tr>\n",
       "      <th>LTB</th>\n",
       "      <td>1.0</td>\n",
       "      <td>0.0</td>\n",
       "      <td>3.0</td>\n",
       "      <td>0.750000</td>\n",
       "    </tr>\n",
       "    <tr>\n",
       "      <th>SHANK3</th>\n",
       "      <td>1.0</td>\n",
       "      <td>0.0</td>\n",
       "      <td>1.0</td>\n",
       "      <td>0.033333</td>\n",
       "    </tr>\n",
       "  </tbody>\n",
       "</table>\n",
       "<p>6442 rows × 4 columns</p>\n",
       "</div>"
      ],
      "text/plain": [
       "           const  LV45  gene_size  gene_density\n",
       "CENPH        1.0   1.0        2.0      0.041667\n",
       "HIST1H2AD    1.0   1.0        3.0      0.166667\n",
       "HIST1H4D     1.0   1.0        1.0      0.142857\n",
       "HIST1H2BE    1.0   1.0        2.0      0.074074\n",
       "HIST1H2BD    1.0   1.0        4.0      0.129032\n",
       "...          ...   ...        ...           ...\n",
       "AIF1         1.0   0.0        8.0      0.177778\n",
       "NCR3         1.0   0.0        7.0      0.175000\n",
       "LST1         1.0   0.0        6.0      0.130435\n",
       "LTB          1.0   0.0        3.0      0.750000\n",
       "SHANK3       1.0   0.0        1.0      0.033333\n",
       "\n",
       "[6442 rows x 4 columns]"
      ]
     },
     "execution_count": 262,
     "metadata": {},
     "output_type": "execute_result"
    }
   ],
   "source": [
    "X.sort_values(lv_code, ascending=False)"
   ]
  },
  {
   "cell_type": "code",
   "execution_count": 263,
   "id": "bbe2ac3b-bc74-4143-a71c-5205ca3aff7d",
   "metadata": {},
   "outputs": [
    {
     "data": {
      "text/plain": [
       "CHPF2     4.271450\n",
       "PRR5      3.711042\n",
       "MMP12     3.642685\n",
       "RBM38     3.465685\n",
       "SOS1      3.378385\n",
       "            ...   \n",
       "GPX3      0.000286\n",
       "SUOX      0.000238\n",
       "SPRED2    0.000126\n",
       "DEGS1     0.000053\n",
       "SAFB      0.000025\n",
       "Length: 6442, dtype: float64"
      ]
     },
     "execution_count": 263,
     "metadata": {},
     "output_type": "execute_result"
    }
   ],
   "source": [
    "y.sort_values(ascending=False)"
   ]
  },
  {
   "cell_type": "code",
   "execution_count": 264,
   "id": "3b45e2fb-af2b-487e-aed9-364d0916dc9b",
   "metadata": {},
   "outputs": [
    {
     "data": {
      "text/plain": [
       "CHPF2     9.182597\n",
       "PRR5      7.849822\n",
       "MMP12     7.687254\n",
       "RBM38     7.266307\n",
       "SOS1      7.058689\n",
       "            ...   \n",
       "GPX3     -0.975186\n",
       "SUOX     -0.975301\n",
       "SPRED2   -0.975567\n",
       "DEGS1    -0.975742\n",
       "SAFB     -0.975808\n",
       "Length: 6442, dtype: float64"
      ]
     },
     "execution_count": 264,
     "metadata": {},
     "output_type": "execute_result"
    }
   ],
   "source": [
    "ys.sort_values(ascending=False)"
   ]
  },
  {
   "cell_type": "code",
   "execution_count": 265,
   "id": "38f61bde-37f8-4a64-92c9-bc7419c97f4f",
   "metadata": {},
   "outputs": [],
   "source": [
    "# save phenotype\n",
    "y.to_pickle(OUTPUT_DIR / f\"{phenotype_name}.pkl.xz\")"
   ]
  },
  {
   "cell_type": "code",
   "execution_count": 266,
   "id": "eb3c92a5-65d9-44ed-96ae-a76b0fbe1733",
   "metadata": {},
   "outputs": [
    {
     "name": "stdout",
     "output_type": "stream",
     "text": [
      "                            OLS Regression Results                            \n",
      "==============================================================================\n",
      "Dep. Variable:                      y   R-squared:                       0.000\n",
      "Model:                            OLS   Adj. R-squared:                  0.000\n",
      "Method:                 Least Squares   F-statistic:                     2.379\n",
      "Date:                Sat, 03 Sep 2022   Prob (F-statistic):              0.123\n",
      "Time:                        04:53:20   Log-Likelihood:                -9139.1\n",
      "No. Observations:                6442   AIC:                         1.828e+04\n",
      "Df Residuals:                    6440   BIC:                         1.830e+04\n",
      "Df Model:                           1                                         \n",
      "Covariance Type:            nonrobust                                         \n",
      "==============================================================================\n",
      "                 coef    std err          t      P>|t|      [0.025      0.975]\n",
      "------------------------------------------------------------------------------\n",
      "const      -4.055e-17      0.012  -3.25e-15      1.000      -0.024       0.024\n",
      "LV45          -0.0192      0.012     -1.542      0.123      -0.044       0.005\n",
      "==============================================================================\n",
      "Omnibus:                     3199.125   Durbin-Watson:                   1.629\n",
      "Prob(Omnibus):                  0.000   Jarque-Bera (JB):            23426.588\n",
      "Skew:                           2.275   Prob(JB):                         0.00\n",
      "Kurtosis:                      11.159   Cond. No.                         1.00\n",
      "==============================================================================\n",
      "\n",
      "Notes:\n",
      "[1] Standard Errors assume that the covariance matrix of the errors is correctly specified.\n"
     ]
    }
   ],
   "source": [
    "# for debugging purposes I print the OLS results also\n",
    "_tmp_model = sm.OLS(ys, Xs)\n",
    "_tmp_results = _tmp_model.fit()\n",
    "print(_tmp_results.summary())"
   ]
  },
  {
   "cell_type": "markdown",
   "id": "da9fc486-dcd6-4a84-854e-73160284171f",
   "metadata": {
    "papermill": {
     "duration": 0.012899,
     "end_time": "2022-07-11T13:23:15.569947",
     "exception": false,
     "start_time": "2022-07-11T13:23:15.557048",
     "status": "completed"
    },
    "tags": []
   },
   "source": [
    "## [sub corr matrix] GLS on randomly generated phenotypes using SNP-level covariates"
   ]
  },
  {
   "cell_type": "code",
   "execution_count": 267,
   "id": "42143d81-a6d8-485b-b8ca-778be2e4747d",
   "metadata": {},
   "outputs": [],
   "source": [
    "PERC_NONZERO_GENES = 0.01"
   ]
  },
  {
   "cell_type": "markdown",
   "id": "9caf2711-a50e-4ba0-862a-fb60783cbb5b",
   "metadata": {},
   "source": [
    "### Random phenotype 6 / LV45"
   ]
  },
  {
   "cell_type": "code",
   "execution_count": 268,
   "id": "0370c401-1503-40fb-9daf-a65884303e64",
   "metadata": {},
   "outputs": [
    {
     "data": {
      "text/plain": [
       "'multixcan-random_phenotype6-pvalues'"
      ]
     },
     "metadata": {},
     "output_type": "display_data"
    }
   ],
   "source": [
    "lv_code = \"LV45\"\n",
    "phenotype_code = 6\n",
    "\n",
    "phenotype_name_base = f\"multixcan-random_phenotype{phenotype_code}\"\n",
    "phenotype_name = f\"{phenotype_name_base}-pvalues\"\n",
    "display(phenotype_name)"
   ]
  },
  {
   "cell_type": "code",
   "execution_count": 269,
   "id": "d2c7c468-f422-4c1f-b245-45fc8adf0099",
   "metadata": {},
   "outputs": [],
   "source": [
    "X, y = get_data(lv_code, random_phenotype_code=phenotype_code, add_covars=True)\n",
    "corr_mat = get_aligned_corr_mat(X, perc=PERC_NONZERO_GENES)"
   ]
  },
  {
   "cell_type": "code",
   "execution_count": 270,
   "id": "0089de7c-9ce5-4038-b80f-9767c2385794",
   "metadata": {},
   "outputs": [
    {
     "name": "stdout",
     "output_type": "stream",
     "text": [
      "                            GLS Regression Results                            \n",
      "==============================================================================\n",
      "Dep. Variable:                      y   R-squared:                       0.000\n",
      "Model:                            GLS   Adj. R-squared:                 -0.000\n",
      "Method:                 Least Squares   F-statistic:                    0.3591\n",
      "Date:                Sat, 03 Sep 2022   Prob (F-statistic):              0.783\n",
      "Time:                        04:56:38   Log-Likelihood:                -9136.5\n",
      "No. Observations:                6442   AIC:                         1.828e+04\n",
      "Df Residuals:                    6438   BIC:                         1.831e+04\n",
      "Df Model:                           3                                         \n",
      "Covariance Type:            nonrobust                                         \n",
      "================================================================================\n",
      "                   coef    std err          t      P>|t|      [0.025      0.975]\n",
      "--------------------------------------------------------------------------------\n",
      "const           -0.0061      0.027     -0.224      0.823      -0.059       0.047\n",
      "LV45            -0.1306      0.142     -0.919      0.358      -0.409       0.148\n",
      "gene_size        0.0007      0.006      0.118      0.906      -0.011       0.012\n",
      "gene_density     0.0296      0.076      0.391      0.696      -0.119       0.178\n",
      "==============================================================================\n",
      "Omnibus:                     3195.657   Durbin-Watson:                   1.630\n",
      "Prob(Omnibus):                  0.000   Jarque-Bera (JB):            23357.841\n",
      "Skew:                           2.273   Prob(JB):                         0.00\n",
      "Kurtosis:                      11.146   Cond. No.                         57.2\n",
      "==============================================================================\n",
      "\n",
      "Notes:\n",
      "[1] Standard Errors assume that the covariance matrix of the errors is correctly specified.\n"
     ]
    }
   ],
   "source": [
    "_, ys = standardize_data(X, y)\n",
    "_gls_results = train_statsmodels_gls(X, ys, corr_mat)\n",
    "print(_gls_results.summary())"
   ]
  },
  {
   "cell_type": "code",
   "execution_count": 271,
   "id": "f32dea5a-c606-4613-ae11-62c5198095c5",
   "metadata": {},
   "outputs": [
    {
     "name": "stdout",
     "output_type": "stream",
     "text": [
      "\n",
      "exp_coef = -0.13057289396289432\n",
      "exp_coef_se = 0.14208177608559344\n",
      "exp_tvalue = -0.9189981823160354\n",
      "exp_pval_twosided = 0.35813095213395807\n",
      "exp_pval_onesided = 0.820934523933021\n",
      "    \n"
     ]
    }
   ],
   "source": [
    "# print full numbers\n",
    "with np.printoptions(threshold=sys.maxsize, precision=20):\n",
    "    print(\n",
    "        f\"\"\"\n",
    "exp_coef = {_gls_results.params.to_numpy()[1]}\n",
    "exp_coef_se = {_gls_results.bse.to_numpy()[1]}\n",
    "exp_tvalue = {_gls_results.tvalues.to_numpy()[1]}\n",
    "exp_pval_twosided = {_gls_results.pvalues.to_numpy()[1]}\n",
    "exp_pval_onesided = {stats.t.sf(_gls_results.tvalues.to_numpy()[1], _gls_results.df_resid)}\n",
    "    \"\"\"\n",
    "    )"
   ]
  },
  {
   "cell_type": "code",
   "execution_count": 272,
   "id": "732ffca7-6e37-455d-be79-8e3a0f04be7f",
   "metadata": {},
   "outputs": [
    {
     "data": {
      "text/html": [
       "<div>\n",
       "<style scoped>\n",
       "    .dataframe tbody tr th:only-of-type {\n",
       "        vertical-align: middle;\n",
       "    }\n",
       "\n",
       "    .dataframe tbody tr th {\n",
       "        vertical-align: top;\n",
       "    }\n",
       "\n",
       "    .dataframe thead th {\n",
       "        text-align: right;\n",
       "    }\n",
       "</style>\n",
       "<table border=\"1\" class=\"dataframe\">\n",
       "  <thead>\n",
       "    <tr style=\"text-align: right;\">\n",
       "      <th></th>\n",
       "      <th>const</th>\n",
       "      <th>LV45</th>\n",
       "      <th>gene_size</th>\n",
       "      <th>gene_density</th>\n",
       "    </tr>\n",
       "  </thead>\n",
       "  <tbody>\n",
       "    <tr>\n",
       "      <th>CENPH</th>\n",
       "      <td>1.0</td>\n",
       "      <td>1.0</td>\n",
       "      <td>2.0</td>\n",
       "      <td>0.041667</td>\n",
       "    </tr>\n",
       "    <tr>\n",
       "      <th>HIST1H2AD</th>\n",
       "      <td>1.0</td>\n",
       "      <td>1.0</td>\n",
       "      <td>3.0</td>\n",
       "      <td>0.166667</td>\n",
       "    </tr>\n",
       "    <tr>\n",
       "      <th>HIST1H4D</th>\n",
       "      <td>1.0</td>\n",
       "      <td>1.0</td>\n",
       "      <td>1.0</td>\n",
       "      <td>0.142857</td>\n",
       "    </tr>\n",
       "    <tr>\n",
       "      <th>HIST1H2BE</th>\n",
       "      <td>1.0</td>\n",
       "      <td>1.0</td>\n",
       "      <td>2.0</td>\n",
       "      <td>0.074074</td>\n",
       "    </tr>\n",
       "    <tr>\n",
       "      <th>HIST1H2BD</th>\n",
       "      <td>1.0</td>\n",
       "      <td>1.0</td>\n",
       "      <td>4.0</td>\n",
       "      <td>0.129032</td>\n",
       "    </tr>\n",
       "    <tr>\n",
       "      <th>...</th>\n",
       "      <td>...</td>\n",
       "      <td>...</td>\n",
       "      <td>...</td>\n",
       "      <td>...</td>\n",
       "    </tr>\n",
       "    <tr>\n",
       "      <th>AIF1</th>\n",
       "      <td>1.0</td>\n",
       "      <td>0.0</td>\n",
       "      <td>8.0</td>\n",
       "      <td>0.177778</td>\n",
       "    </tr>\n",
       "    <tr>\n",
       "      <th>NCR3</th>\n",
       "      <td>1.0</td>\n",
       "      <td>0.0</td>\n",
       "      <td>7.0</td>\n",
       "      <td>0.175000</td>\n",
       "    </tr>\n",
       "    <tr>\n",
       "      <th>LST1</th>\n",
       "      <td>1.0</td>\n",
       "      <td>0.0</td>\n",
       "      <td>6.0</td>\n",
       "      <td>0.130435</td>\n",
       "    </tr>\n",
       "    <tr>\n",
       "      <th>LTB</th>\n",
       "      <td>1.0</td>\n",
       "      <td>0.0</td>\n",
       "      <td>3.0</td>\n",
       "      <td>0.750000</td>\n",
       "    </tr>\n",
       "    <tr>\n",
       "      <th>SHANK3</th>\n",
       "      <td>1.0</td>\n",
       "      <td>0.0</td>\n",
       "      <td>1.0</td>\n",
       "      <td>0.033333</td>\n",
       "    </tr>\n",
       "  </tbody>\n",
       "</table>\n",
       "<p>6442 rows × 4 columns</p>\n",
       "</div>"
      ],
      "text/plain": [
       "           const  LV45  gene_size  gene_density\n",
       "CENPH        1.0   1.0        2.0      0.041667\n",
       "HIST1H2AD    1.0   1.0        3.0      0.166667\n",
       "HIST1H4D     1.0   1.0        1.0      0.142857\n",
       "HIST1H2BE    1.0   1.0        2.0      0.074074\n",
       "HIST1H2BD    1.0   1.0        4.0      0.129032\n",
       "...          ...   ...        ...           ...\n",
       "AIF1         1.0   0.0        8.0      0.177778\n",
       "NCR3         1.0   0.0        7.0      0.175000\n",
       "LST1         1.0   0.0        6.0      0.130435\n",
       "LTB          1.0   0.0        3.0      0.750000\n",
       "SHANK3       1.0   0.0        1.0      0.033333\n",
       "\n",
       "[6442 rows x 4 columns]"
      ]
     },
     "execution_count": 272,
     "metadata": {},
     "output_type": "execute_result"
    }
   ],
   "source": [
    "X.sort_values(lv_code, ascending=False)"
   ]
  },
  {
   "cell_type": "code",
   "execution_count": 273,
   "id": "dd14bad2-2bc2-442d-a8ac-58c733a45344",
   "metadata": {},
   "outputs": [
    {
     "data": {
      "text/plain": [
       "CHPF2     4.271450\n",
       "PRR5      3.711042\n",
       "MMP12     3.642685\n",
       "RBM38     3.465685\n",
       "SOS1      3.378385\n",
       "            ...   \n",
       "GPX3      0.000286\n",
       "SUOX      0.000238\n",
       "SPRED2    0.000126\n",
       "DEGS1     0.000053\n",
       "SAFB      0.000025\n",
       "Length: 6442, dtype: float64"
      ]
     },
     "execution_count": 273,
     "metadata": {},
     "output_type": "execute_result"
    }
   ],
   "source": [
    "y.sort_values(ascending=False)"
   ]
  },
  {
   "cell_type": "code",
   "execution_count": 274,
   "id": "179e9f37-ffe0-45ca-a0a6-c9d0b837f5a7",
   "metadata": {},
   "outputs": [
    {
     "data": {
      "text/plain": [
       "CHPF2     9.182597\n",
       "PRR5      7.849822\n",
       "MMP12     7.687254\n",
       "RBM38     7.266307\n",
       "SOS1      7.058689\n",
       "            ...   \n",
       "GPX3     -0.975186\n",
       "SUOX     -0.975301\n",
       "SPRED2   -0.975567\n",
       "DEGS1    -0.975742\n",
       "SAFB     -0.975808\n",
       "Length: 6442, dtype: float64"
      ]
     },
     "execution_count": 274,
     "metadata": {},
     "output_type": "execute_result"
    }
   ],
   "source": [
    "ys.sort_values(ascending=False)"
   ]
  },
  {
   "cell_type": "code",
   "execution_count": 275,
   "id": "896ae34f-fceb-4c59-8b4b-53eb220390ce",
   "metadata": {},
   "outputs": [],
   "source": [
    "# save phenotype\n",
    "y.to_pickle(OUTPUT_DIR / f\"{phenotype_name}.pkl.xz\")"
   ]
  },
  {
   "cell_type": "code",
   "execution_count": null,
   "id": "d309ef59-6ac1-4362-a027-9ab01a5530c9",
   "metadata": {},
   "outputs": [],
   "source": []
  }
 ],
 "metadata": {
  "jupytext": {
   "cell_metadata_filter": "all,-execution,-papermill,-trusted",
   "formats": "ipynb,py//py:percent"
  },
  "kernelspec": {
   "display_name": "Python 3 (ipykernel)",
   "language": "python",
   "name": "python3"
  },
  "language_info": {
   "codemirror_mode": {
    "name": "ipython",
    "version": 3
   },
   "file_extension": ".py",
   "mimetype": "text/x-python",
   "name": "python",
   "nbconvert_exporter": "python",
   "pygments_lexer": "ipython3",
   "version": "3.8.13"
  },
  "papermill": {
   "default_parameters": {},
   "duration": 171.690116,
   "end_time": "2022-07-11T13:24:57.694597",
   "environment_variables": {},
   "exception": null,
   "input_path": "nbs/15_gsa_gls/15-postprocess_gene_expr_correlations.ipynb",
   "output_path": "nbs/15_gsa_gls/gene_corrs/1000g/mashr/15-postprocess_gene_expr_correlations.ipynb",
   "parameters": {
    "EQTL_MODEL": "MASHR",
    "REFERENCE_PANEL": "1000G"
   },
   "start_time": "2022-07-11T13:22:06.004481",
   "version": "2.2.2"
  },
  "toc-autonumbering": true
 },
 "nbformat": 4,
 "nbformat_minor": 5
}
