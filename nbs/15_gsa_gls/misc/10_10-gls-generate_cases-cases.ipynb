{
 "cells": [
  {
   "cell_type": "markdown",
   "id": "5ef66977",
   "metadata": {
    "papermill": {
     "duration": 0.010512,
     "end_time": "2022-07-11T13:22:07.207937",
     "exception": false,
     "start_time": "2022-07-11T13:22:07.197425",
     "status": "completed"
    },
    "tags": []
   },
   "source": [
    "# Description"
   ]
  },
  {
   "cell_type": "markdown",
   "id": "658d4f7c",
   "metadata": {
    "papermill": {
     "duration": 0.007193,
     "end_time": "2022-07-11T13:22:07.222297",
     "exception": false,
     "start_time": "2022-07-11T13:22:07.215104",
     "status": "completed"
    },
    "tags": []
   },
   "source": [
    "It generates tests cases for the GLS model."
   ]
  },
  {
   "cell_type": "markdown",
   "id": "60fa4530",
   "metadata": {
    "papermill": {
     "duration": 0.007062,
     "end_time": "2022-07-11T13:22:07.236433",
     "exception": false,
     "start_time": "2022-07-11T13:22:07.229371",
     "status": "completed"
    },
    "tags": []
   },
   "source": [
    "# Modules"
   ]
  },
  {
   "cell_type": "code",
   "execution_count": 1,
   "id": "d70b0833",
   "metadata": {
    "papermill": {
     "duration": 0.023639,
     "end_time": "2022-07-11T13:22:07.267099",
     "exception": false,
     "start_time": "2022-07-11T13:22:07.243460",
     "status": "completed"
    },
    "tags": []
   },
   "outputs": [],
   "source": [
    "%load_ext autoreload\n",
    "%autoreload 2"
   ]
  },
  {
   "cell_type": "code",
   "execution_count": 2,
   "id": "6b2f9ca0",
   "metadata": {
    "papermill": {
     "duration": 0.815336,
     "end_time": "2022-07-11T13:22:08.117525",
     "exception": false,
     "start_time": "2022-07-11T13:22:07.302189",
     "status": "completed"
    },
    "tags": []
   },
   "outputs": [],
   "source": [
    "import sys\n",
    "\n",
    "import numpy as np\n",
    "import pandas as pd\n",
    "from scipy import stats\n",
    "import statsmodels.api as sm\n",
    "\n",
    "import conf\n",
    "import utils\n",
    "from entity import Gene"
   ]
  },
  {
   "cell_type": "markdown",
   "id": "5b96e797",
   "metadata": {
    "papermill": {
     "duration": 0.007353,
     "end_time": "2022-07-11T13:22:08.132804",
     "exception": false,
     "start_time": "2022-07-11T13:22:08.125451",
     "status": "completed"
    },
    "tags": []
   },
   "source": [
    "# Settings"
   ]
  },
  {
   "cell_type": "code",
   "execution_count": 3,
   "id": "4fc1b6a0",
   "metadata": {
    "papermill": {
     "duration": 0.02389,
     "end_time": "2022-07-11T13:22:08.163791",
     "exception": false,
     "start_time": "2022-07-11T13:22:08.139901",
     "status": "completed"
    },
    "tags": [
     "parameters"
    ]
   },
   "outputs": [],
   "source": [
    "# a cohort name (it could be something like UK_BIOBANK, etc)\n",
    "COHORT_NAME = \"1000G_EUR\"\n",
    "\n",
    "# reference panel such as 1000G or GTEX_V8\n",
    "REFERENCE_PANEL = \"1000G\"\n",
    "\n",
    "# predictions models such as MASHR or ELASTIC_NET\n",
    "EQTL_MODEL = \"MASHR\""
   ]
  },
  {
   "cell_type": "code",
   "execution_count": 5,
   "id": "0949e7ac-1952-4552-9ee9-4f289cd40583",
   "metadata": {},
   "outputs": [
    {
     "data": {
      "text/plain": [
       "PosixPath('/opt/code/tests/data/gls')"
      ]
     },
     "metadata": {},
     "output_type": "display_data"
    }
   ],
   "source": [
    "OUTPUT_DIR = utils.get_git_repository_path() / \"tests\" / \"data\" / \"gls\"\n",
    "display(OUTPUT_DIR)\n",
    "assert OUTPUT_DIR.exists()"
   ]
  },
  {
   "cell_type": "markdown",
   "id": "99ccb166",
   "metadata": {
    "papermill": {
     "duration": 0.008141,
     "end_time": "2022-07-11T13:22:08.443463",
     "exception": false,
     "start_time": "2022-07-11T13:22:08.435322",
     "status": "completed"
    },
    "tags": []
   },
   "source": [
    "# Load data"
   ]
  },
  {
   "cell_type": "markdown",
   "id": "46ae0b3e",
   "metadata": {
    "papermill": {
     "duration": 0.008625,
     "end_time": "2022-07-11T13:22:08.646659",
     "exception": false,
     "start_time": "2022-07-11T13:22:08.638034",
     "status": "completed"
    },
    "tags": []
   },
   "source": [
    "## MultiPLIER Z"
   ]
  },
  {
   "cell_type": "code",
   "execution_count": 6,
   "id": "d38d9749",
   "metadata": {
    "papermill": {
     "duration": 0.050011,
     "end_time": "2022-07-11T13:22:08.705065",
     "exception": false,
     "start_time": "2022-07-11T13:22:08.655054",
     "status": "completed"
    },
    "tags": []
   },
   "outputs": [],
   "source": [
    "multiplier_z = pd.read_pickle(conf.MULTIPLIER[\"MODEL_Z_MATRIX_FILE\"])"
   ]
  },
  {
   "cell_type": "code",
   "execution_count": 7,
   "id": "2dd5031b-7d59-4b87-8e76-0ca4436a945a",
   "metadata": {
    "papermill": {
     "duration": 0.050011,
     "end_time": "2022-07-11T13:22:08.705065",
     "exception": false,
     "start_time": "2022-07-11T13:22:08.655054",
     "status": "completed"
    },
    "tags": []
   },
   "outputs": [],
   "source": [
    "multiplier_z_genes = multiplier_z.index.tolist()"
   ]
  },
  {
   "cell_type": "code",
   "execution_count": 8,
   "id": "67e93797",
   "metadata": {
    "papermill": {
     "duration": 0.026612,
     "end_time": "2022-07-11T13:22:08.741377",
     "exception": false,
     "start_time": "2022-07-11T13:22:08.714765",
     "status": "completed"
    },
    "tags": []
   },
   "outputs": [
    {
     "data": {
      "text/plain": [
       "6750"
      ]
     },
     "execution_count": 8,
     "metadata": {},
     "output_type": "execute_result"
    }
   ],
   "source": [
    "len(multiplier_z_genes)"
   ]
  },
  {
   "cell_type": "code",
   "execution_count": 9,
   "id": "e1ba1ead",
   "metadata": {
    "papermill": {
     "duration": 0.025283,
     "end_time": "2022-07-11T13:22:08.775398",
     "exception": false,
     "start_time": "2022-07-11T13:22:08.750115",
     "status": "completed"
    },
    "tags": []
   },
   "outputs": [
    {
     "data": {
      "text/plain": [
       "['GAS6',\n",
       " 'MMP14',\n",
       " 'DSP',\n",
       " 'MARCKSL1',\n",
       " 'SPARC',\n",
       " 'CTSD',\n",
       " 'EPAS1',\n",
       " 'PALLD',\n",
       " 'PHC2',\n",
       " 'LGALS3BP']"
      ]
     },
     "execution_count": 9,
     "metadata": {},
     "output_type": "execute_result"
    }
   ],
   "source": [
    "multiplier_z_genes[:10]"
   ]
  },
  {
   "cell_type": "markdown",
   "id": "7ad1d143-b9b7-4405-88d0-d5b8acdbe7fa",
   "metadata": {},
   "source": [
    "## Function to load MultiXcan's results on random phenotypes"
   ]
  },
  {
   "cell_type": "code",
   "execution_count": 10,
   "id": "3cb53517-17a9-4154-a12e-8f67af6b385f",
   "metadata": {},
   "outputs": [],
   "source": [
    "def load_multixcan_random_phenotype(phenotype_code):\n",
    "    multixcan_random_results = pd.read_csv(\n",
    "        conf.RESULTS[\"GLS_NULL_SIMS\"]\n",
    "        / \"twas\"\n",
    "        / \"smultixcan\"\n",
    "        / f\"random.pheno{phenotype_code}-gtex_v8-mashr-smultixcan.txt\",\n",
    "        sep=\"\\t\",\n",
    "        index_col=\"gene_name\",\n",
    "    )\n",
    "\n",
    "    return multixcan_random_results"
   ]
  },
  {
   "cell_type": "code",
   "execution_count": 11,
   "id": "f7f549ed-e8aa-4e41-9576-b9aed3ced43f",
   "metadata": {},
   "outputs": [
    {
     "data": {
      "text/html": [
       "<div>\n",
       "<style scoped>\n",
       "    .dataframe tbody tr th:only-of-type {\n",
       "        vertical-align: middle;\n",
       "    }\n",
       "\n",
       "    .dataframe tbody tr th {\n",
       "        vertical-align: top;\n",
       "    }\n",
       "\n",
       "    .dataframe thead th {\n",
       "        text-align: right;\n",
       "    }\n",
       "</style>\n",
       "<table border=\"1\" class=\"dataframe\">\n",
       "  <thead>\n",
       "    <tr style=\"text-align: right;\">\n",
       "      <th></th>\n",
       "      <th>gene</th>\n",
       "      <th>pvalue</th>\n",
       "      <th>n</th>\n",
       "      <th>n_indep</th>\n",
       "      <th>p_i_best</th>\n",
       "      <th>t_i_best</th>\n",
       "      <th>p_i_worst</th>\n",
       "      <th>t_i_worst</th>\n",
       "      <th>eigen_max</th>\n",
       "      <th>eigen_min</th>\n",
       "      <th>eigen_min_kept</th>\n",
       "      <th>z_min</th>\n",
       "      <th>z_max</th>\n",
       "      <th>z_mean</th>\n",
       "      <th>z_sd</th>\n",
       "      <th>tmi</th>\n",
       "      <th>status</th>\n",
       "    </tr>\n",
       "    <tr>\n",
       "      <th>gene_name</th>\n",
       "      <th></th>\n",
       "      <th></th>\n",
       "      <th></th>\n",
       "      <th></th>\n",
       "      <th></th>\n",
       "      <th></th>\n",
       "      <th></th>\n",
       "      <th></th>\n",
       "      <th></th>\n",
       "      <th></th>\n",
       "      <th></th>\n",
       "      <th></th>\n",
       "      <th></th>\n",
       "      <th></th>\n",
       "      <th></th>\n",
       "      <th></th>\n",
       "      <th></th>\n",
       "    </tr>\n",
       "  </thead>\n",
       "  <tbody>\n",
       "    <tr>\n",
       "      <th>RHPN2</th>\n",
       "      <td>ENSG00000131941.7</td>\n",
       "      <td>0.000040</td>\n",
       "      <td>48.0</td>\n",
       "      <td>3.0</td>\n",
       "      <td>2.139470e-04</td>\n",
       "      <td>Artery_Tibial</td>\n",
       "      <td>0.990132</td>\n",
       "      <td>Brain_Nucleus_accumbens_basal_ganglia</td>\n",
       "      <td>36.556432</td>\n",
       "      <td>7.692089e-16</td>\n",
       "      <td>2.519701</td>\n",
       "      <td>-2.721185</td>\n",
       "      <td>3.701952</td>\n",
       "      <td>1.283152</td>\n",
       "      <td>1.825567</td>\n",
       "      <td>3.0</td>\n",
       "      <td>0</td>\n",
       "    </tr>\n",
       "    <tr>\n",
       "      <th>GPATCH1</th>\n",
       "      <td>ENSG00000076650.6</td>\n",
       "      <td>0.000078</td>\n",
       "      <td>40.0</td>\n",
       "      <td>3.0</td>\n",
       "      <td>4.534390e-04</td>\n",
       "      <td>Brain_Cerebellum</td>\n",
       "      <td>0.817384</td>\n",
       "      <td>Brain_Frontal_Cortex_BA9</td>\n",
       "      <td>29.990208</td>\n",
       "      <td>2.086487e-15</td>\n",
       "      <td>1.815203</td>\n",
       "      <td>-3.506853</td>\n",
       "      <td>2.383485</td>\n",
       "      <td>-2.016745</td>\n",
       "      <td>1.715495</td>\n",
       "      <td>3.0</td>\n",
       "      <td>0</td>\n",
       "    </tr>\n",
       "    <tr>\n",
       "      <th>NFKBIA</th>\n",
       "      <td>ENSG00000100906.10</td>\n",
       "      <td>0.000096</td>\n",
       "      <td>1.0</td>\n",
       "      <td>1.0</td>\n",
       "      <td>9.591208e-05</td>\n",
       "      <td>Brain_Frontal_Cortex_BA9</td>\n",
       "      <td>0.000096</td>\n",
       "      <td>Brain_Frontal_Cortex_BA9</td>\n",
       "      <td>1.000000</td>\n",
       "      <td>1.000000e+00</td>\n",
       "      <td>1.000000</td>\n",
       "      <td>-3.900707</td>\n",
       "      <td>-3.900707</td>\n",
       "      <td>-3.900707</td>\n",
       "      <td>NaN</td>\n",
       "      <td>1.0</td>\n",
       "      <td>0</td>\n",
       "    </tr>\n",
       "    <tr>\n",
       "      <th>TTC5</th>\n",
       "      <td>ENSG00000136319.11</td>\n",
       "      <td>0.000109</td>\n",
       "      <td>47.0</td>\n",
       "      <td>5.0</td>\n",
       "      <td>1.402826e-03</td>\n",
       "      <td>Brain_Hippocampus</td>\n",
       "      <td>0.961887</td>\n",
       "      <td>Colon_Sigmoid</td>\n",
       "      <td>21.272442</td>\n",
       "      <td>8.142339e-16</td>\n",
       "      <td>0.732606</td>\n",
       "      <td>-3.194069</td>\n",
       "      <td>1.397514</td>\n",
       "      <td>-0.916662</td>\n",
       "      <td>1.068989</td>\n",
       "      <td>5.0</td>\n",
       "      <td>0</td>\n",
       "    </tr>\n",
       "    <tr>\n",
       "      <th>ADGRA3</th>\n",
       "      <td>ENSG00000152990.13</td>\n",
       "      <td>0.000135</td>\n",
       "      <td>41.0</td>\n",
       "      <td>12.0</td>\n",
       "      <td>3.211289e-07</td>\n",
       "      <td>Heart_Atrial_Appendage</td>\n",
       "      <td>0.653657</td>\n",
       "      <td>Whole_Blood</td>\n",
       "      <td>12.988248</td>\n",
       "      <td>3.499412e-16</td>\n",
       "      <td>0.444682</td>\n",
       "      <td>-5.110605</td>\n",
       "      <td>3.599410</td>\n",
       "      <td>-0.464735</td>\n",
       "      <td>2.316607</td>\n",
       "      <td>12.0</td>\n",
       "      <td>0</td>\n",
       "    </tr>\n",
       "  </tbody>\n",
       "</table>\n",
       "</div>"
      ],
      "text/plain": [
       "                         gene    pvalue     n  n_indep      p_i_best  \\\n",
       "gene_name                                                              \n",
       "RHPN2       ENSG00000131941.7  0.000040  48.0      3.0  2.139470e-04   \n",
       "GPATCH1     ENSG00000076650.6  0.000078  40.0      3.0  4.534390e-04   \n",
       "NFKBIA     ENSG00000100906.10  0.000096   1.0      1.0  9.591208e-05   \n",
       "TTC5       ENSG00000136319.11  0.000109  47.0      5.0  1.402826e-03   \n",
       "ADGRA3     ENSG00000152990.13  0.000135  41.0     12.0  3.211289e-07   \n",
       "\n",
       "                           t_i_best  p_i_worst  \\\n",
       "gene_name                                        \n",
       "RHPN2                 Artery_Tibial   0.990132   \n",
       "GPATCH1            Brain_Cerebellum   0.817384   \n",
       "NFKBIA     Brain_Frontal_Cortex_BA9   0.000096   \n",
       "TTC5              Brain_Hippocampus   0.961887   \n",
       "ADGRA3       Heart_Atrial_Appendage   0.653657   \n",
       "\n",
       "                                       t_i_worst  eigen_max     eigen_min  \\\n",
       "gene_name                                                                   \n",
       "RHPN2      Brain_Nucleus_accumbens_basal_ganglia  36.556432  7.692089e-16   \n",
       "GPATCH1                 Brain_Frontal_Cortex_BA9  29.990208  2.086487e-15   \n",
       "NFKBIA                  Brain_Frontal_Cortex_BA9   1.000000  1.000000e+00   \n",
       "TTC5                               Colon_Sigmoid  21.272442  8.142339e-16   \n",
       "ADGRA3                               Whole_Blood  12.988248  3.499412e-16   \n",
       "\n",
       "           eigen_min_kept     z_min     z_max    z_mean      z_sd   tmi  \\\n",
       "gene_name                                                                 \n",
       "RHPN2            2.519701 -2.721185  3.701952  1.283152  1.825567   3.0   \n",
       "GPATCH1          1.815203 -3.506853  2.383485 -2.016745  1.715495   3.0   \n",
       "NFKBIA           1.000000 -3.900707 -3.900707 -3.900707       NaN   1.0   \n",
       "TTC5             0.732606 -3.194069  1.397514 -0.916662  1.068989   5.0   \n",
       "ADGRA3           0.444682 -5.110605  3.599410 -0.464735  2.316607  12.0   \n",
       "\n",
       "           status  \n",
       "gene_name          \n",
       "RHPN2           0  \n",
       "GPATCH1         0  \n",
       "NFKBIA          0  \n",
       "TTC5            0  \n",
       "ADGRA3          0  "
      ]
     },
     "execution_count": 11,
     "metadata": {},
     "output_type": "execute_result"
    }
   ],
   "source": [
    "load_multixcan_random_phenotype(0).head()"
   ]
  },
  {
   "cell_type": "markdown",
   "id": "37ce8c4f-6046-4d81-aa1a-f196153f0c69",
   "metadata": {
    "papermill": {
     "duration": 0.008625,
     "end_time": "2022-07-11T13:22:08.646659",
     "exception": false,
     "start_time": "2022-07-11T13:22:08.638034",
     "status": "completed"
    },
    "tags": []
   },
   "source": [
    "## MultiXcan real results (PhenomeXcan)"
   ]
  },
  {
   "cell_type": "code",
   "execution_count": 12,
   "id": "ff6a93a3-1d7e-4cef-99f6-866ad0726022",
   "metadata": {},
   "outputs": [],
   "source": [
    "multixcan_real_results = pd.read_pickle(\n",
    "    conf.PHENOMEXCAN[\"SMULTIXCAN_EFO_PARTIAL_MASHR_ZSCORES_FILE\"]\n",
    ").rename(index=Gene.GENE_ID_TO_NAME_MAP)"
   ]
  },
  {
   "cell_type": "code",
   "execution_count": 13,
   "id": "74f17127-afe3-4d93-9e93-50b193d2b996",
   "metadata": {},
   "outputs": [],
   "source": [
    "multixcan_real_results = multixcan_real_results[\n",
    "    ~multixcan_real_results.index.duplicated(keep=\"first\")\n",
    "].dropna(how=\"all\", axis=0)"
   ]
  },
  {
   "cell_type": "code",
   "execution_count": 14,
   "id": "05f85eb5-9816-4a38-948a-f133aeffa70c",
   "metadata": {},
   "outputs": [
    {
     "data": {
      "text/plain": [
       "(22508, 3752)"
      ]
     },
     "execution_count": 14,
     "metadata": {},
     "output_type": "execute_result"
    }
   ],
   "source": [
    "multixcan_real_results.shape"
   ]
  },
  {
   "cell_type": "code",
   "execution_count": 15,
   "id": "a5ee14c2-0359-48d0-bfbf-1e529f7a7cc9",
   "metadata": {},
   "outputs": [
    {
     "data": {
      "text/html": [
       "<div>\n",
       "<style scoped>\n",
       "    .dataframe tbody tr th:only-of-type {\n",
       "        vertical-align: middle;\n",
       "    }\n",
       "\n",
       "    .dataframe tbody tr th {\n",
       "        vertical-align: top;\n",
       "    }\n",
       "\n",
       "    .dataframe thead th {\n",
       "        text-align: right;\n",
       "    }\n",
       "</style>\n",
       "<table border=\"1\" class=\"dataframe\">\n",
       "  <thead>\n",
       "    <tr style=\"text-align: right;\">\n",
       "      <th></th>\n",
       "      <th>100001_raw-Food_weight</th>\n",
       "      <th>100002_raw-Energy</th>\n",
       "      <th>100003_raw-Protein</th>\n",
       "      <th>100004_raw-Fat</th>\n",
       "      <th>100005_raw-Carbohydrate</th>\n",
       "      <th>100006_raw-Saturated_fat</th>\n",
       "      <th>100007_raw-Polyunsaturated_fat</th>\n",
       "      <th>100008_raw-Total_sugars</th>\n",
       "      <th>100009_raw-Englyst_dietary_fibre</th>\n",
       "      <th>100010-Portion_size</th>\n",
       "      <th>...</th>\n",
       "      <th>visual impairment</th>\n",
       "      <th>vitiligo</th>\n",
       "      <th>vitreous body disease</th>\n",
       "      <th>vocal cord polyp</th>\n",
       "      <th>voice disorders</th>\n",
       "      <th>wellbeing measurement AND family relationship</th>\n",
       "      <th>wheezing</th>\n",
       "      <th>whooping cough</th>\n",
       "      <th>worry measurement</th>\n",
       "      <th>wrist fracture</th>\n",
       "    </tr>\n",
       "    <tr>\n",
       "      <th>gene_name</th>\n",
       "      <th></th>\n",
       "      <th></th>\n",
       "      <th></th>\n",
       "      <th></th>\n",
       "      <th></th>\n",
       "      <th></th>\n",
       "      <th></th>\n",
       "      <th></th>\n",
       "      <th></th>\n",
       "      <th></th>\n",
       "      <th></th>\n",
       "      <th></th>\n",
       "      <th></th>\n",
       "      <th></th>\n",
       "      <th></th>\n",
       "      <th></th>\n",
       "      <th></th>\n",
       "      <th></th>\n",
       "      <th></th>\n",
       "      <th></th>\n",
       "      <th></th>\n",
       "    </tr>\n",
       "  </thead>\n",
       "  <tbody>\n",
       "    <tr>\n",
       "      <th>DPM1</th>\n",
       "      <td>1.145442</td>\n",
       "      <td>0.724557</td>\n",
       "      <td>0.090876</td>\n",
       "      <td>0.298165</td>\n",
       "      <td>1.134347</td>\n",
       "      <td>1.371138</td>\n",
       "      <td>0.065718</td>\n",
       "      <td>0.794317</td>\n",
       "      <td>0.600342</td>\n",
       "      <td>0.317652</td>\n",
       "      <td>...</td>\n",
       "      <td>0.360518</td>\n",
       "      <td>1.351624</td>\n",
       "      <td>1.157695</td>\n",
       "      <td>0.835289</td>\n",
       "      <td>1.173072</td>\n",
       "      <td>1.337280</td>\n",
       "      <td>1.743822</td>\n",
       "      <td>1.017226</td>\n",
       "      <td>1.512184</td>\n",
       "      <td>0.972241</td>\n",
       "    </tr>\n",
       "    <tr>\n",
       "      <th>SCYL3</th>\n",
       "      <td>0.618066</td>\n",
       "      <td>1.028131</td>\n",
       "      <td>2.218420</td>\n",
       "      <td>0.762584</td>\n",
       "      <td>0.934418</td>\n",
       "      <td>0.192993</td>\n",
       "      <td>1.080230</td>\n",
       "      <td>0.765997</td>\n",
       "      <td>0.375898</td>\n",
       "      <td>0.678731</td>\n",
       "      <td>...</td>\n",
       "      <td>2.134504</td>\n",
       "      <td>0.127830</td>\n",
       "      <td>0.534690</td>\n",
       "      <td>0.120516</td>\n",
       "      <td>0.517464</td>\n",
       "      <td>2.545363</td>\n",
       "      <td>0.673331</td>\n",
       "      <td>2.003092</td>\n",
       "      <td>0.344000</td>\n",
       "      <td>2.033122</td>\n",
       "    </tr>\n",
       "    <tr>\n",
       "      <th>C1orf112</th>\n",
       "      <td>0.515724</td>\n",
       "      <td>0.403596</td>\n",
       "      <td>1.251359</td>\n",
       "      <td>0.433091</td>\n",
       "      <td>0.413466</td>\n",
       "      <td>0.246261</td>\n",
       "      <td>1.236151</td>\n",
       "      <td>0.827430</td>\n",
       "      <td>0.571985</td>\n",
       "      <td>0.782174</td>\n",
       "      <td>...</td>\n",
       "      <td>1.768905</td>\n",
       "      <td>0.992408</td>\n",
       "      <td>0.548215</td>\n",
       "      <td>0.412341</td>\n",
       "      <td>1.499415</td>\n",
       "      <td>1.366780</td>\n",
       "      <td>0.443318</td>\n",
       "      <td>0.417630</td>\n",
       "      <td>0.225934</td>\n",
       "      <td>1.613246</td>\n",
       "    </tr>\n",
       "    <tr>\n",
       "      <th>FGR</th>\n",
       "      <td>0.280781</td>\n",
       "      <td>0.253910</td>\n",
       "      <td>0.879148</td>\n",
       "      <td>0.352705</td>\n",
       "      <td>0.051846</td>\n",
       "      <td>0.184212</td>\n",
       "      <td>0.148566</td>\n",
       "      <td>0.009989</td>\n",
       "      <td>0.363751</td>\n",
       "      <td>0.374514</td>\n",
       "      <td>...</td>\n",
       "      <td>0.656552</td>\n",
       "      <td>2.046041</td>\n",
       "      <td>2.746832</td>\n",
       "      <td>0.108211</td>\n",
       "      <td>1.008258</td>\n",
       "      <td>0.755695</td>\n",
       "      <td>0.896228</td>\n",
       "      <td>0.875047</td>\n",
       "      <td>0.476405</td>\n",
       "      <td>1.693057</td>\n",
       "    </tr>\n",
       "    <tr>\n",
       "      <th>CFH</th>\n",
       "      <td>0.548127</td>\n",
       "      <td>0.389877</td>\n",
       "      <td>0.723469</td>\n",
       "      <td>1.167250</td>\n",
       "      <td>0.315952</td>\n",
       "      <td>0.324939</td>\n",
       "      <td>1.613932</td>\n",
       "      <td>0.311432</td>\n",
       "      <td>0.333548</td>\n",
       "      <td>1.807243</td>\n",
       "      <td>...</td>\n",
       "      <td>0.260482</td>\n",
       "      <td>0.646204</td>\n",
       "      <td>1.080240</td>\n",
       "      <td>0.678330</td>\n",
       "      <td>1.465358</td>\n",
       "      <td>0.307672</td>\n",
       "      <td>0.118376</td>\n",
       "      <td>1.419812</td>\n",
       "      <td>0.000002</td>\n",
       "      <td>1.040737</td>\n",
       "    </tr>\n",
       "  </tbody>\n",
       "</table>\n",
       "<p>5 rows × 3752 columns</p>\n",
       "</div>"
      ],
      "text/plain": [
       "           100001_raw-Food_weight  100002_raw-Energy  100003_raw-Protein  \\\n",
       "gene_name                                                                  \n",
       "DPM1                     1.145442           0.724557            0.090876   \n",
       "SCYL3                    0.618066           1.028131            2.218420   \n",
       "C1orf112                 0.515724           0.403596            1.251359   \n",
       "FGR                      0.280781           0.253910            0.879148   \n",
       "CFH                      0.548127           0.389877            0.723469   \n",
       "\n",
       "           100004_raw-Fat  100005_raw-Carbohydrate  100006_raw-Saturated_fat  \\\n",
       "gene_name                                                                      \n",
       "DPM1             0.298165                 1.134347                  1.371138   \n",
       "SCYL3            0.762584                 0.934418                  0.192993   \n",
       "C1orf112         0.433091                 0.413466                  0.246261   \n",
       "FGR              0.352705                 0.051846                  0.184212   \n",
       "CFH              1.167250                 0.315952                  0.324939   \n",
       "\n",
       "           100007_raw-Polyunsaturated_fat  100008_raw-Total_sugars  \\\n",
       "gene_name                                                            \n",
       "DPM1                             0.065718                 0.794317   \n",
       "SCYL3                            1.080230                 0.765997   \n",
       "C1orf112                         1.236151                 0.827430   \n",
       "FGR                              0.148566                 0.009989   \n",
       "CFH                              1.613932                 0.311432   \n",
       "\n",
       "           100009_raw-Englyst_dietary_fibre  100010-Portion_size  ...  \\\n",
       "gene_name                                                         ...   \n",
       "DPM1                               0.600342             0.317652  ...   \n",
       "SCYL3                              0.375898             0.678731  ...   \n",
       "C1orf112                           0.571985             0.782174  ...   \n",
       "FGR                                0.363751             0.374514  ...   \n",
       "CFH                                0.333548             1.807243  ...   \n",
       "\n",
       "           visual impairment  vitiligo  vitreous body disease  \\\n",
       "gene_name                                                       \n",
       "DPM1                0.360518  1.351624               1.157695   \n",
       "SCYL3               2.134504  0.127830               0.534690   \n",
       "C1orf112            1.768905  0.992408               0.548215   \n",
       "FGR                 0.656552  2.046041               2.746832   \n",
       "CFH                 0.260482  0.646204               1.080240   \n",
       "\n",
       "           vocal cord polyp  voice disorders  \\\n",
       "gene_name                                      \n",
       "DPM1               0.835289         1.173072   \n",
       "SCYL3              0.120516         0.517464   \n",
       "C1orf112           0.412341         1.499415   \n",
       "FGR                0.108211         1.008258   \n",
       "CFH                0.678330         1.465358   \n",
       "\n",
       "           wellbeing measurement AND family relationship  wheezing  \\\n",
       "gene_name                                                            \n",
       "DPM1                                            1.337280  1.743822   \n",
       "SCYL3                                           2.545363  0.673331   \n",
       "C1orf112                                        1.366780  0.443318   \n",
       "FGR                                             0.755695  0.896228   \n",
       "CFH                                             0.307672  0.118376   \n",
       "\n",
       "           whooping cough  worry measurement  wrist fracture  \n",
       "gene_name                                                     \n",
       "DPM1             1.017226           1.512184        0.972241  \n",
       "SCYL3            2.003092           0.344000        2.033122  \n",
       "C1orf112         0.417630           0.225934        1.613246  \n",
       "FGR              0.875047           0.476405        1.693057  \n",
       "CFH              1.419812           0.000002        1.040737  \n",
       "\n",
       "[5 rows x 3752 columns]"
      ]
     },
     "execution_count": 15,
     "metadata": {},
     "output_type": "execute_result"
    }
   ],
   "source": [
    "multixcan_real_results.head()"
   ]
  },
  {
   "cell_type": "code",
   "execution_count": 16,
   "id": "36835af0-264a-4f86-bce7-93a8b163aa3d",
   "metadata": {},
   "outputs": [],
   "source": [
    "assert not multixcan_real_results.isna().any(None)"
   ]
  },
  {
   "cell_type": "markdown",
   "id": "f4d4f177",
   "metadata": {
    "papermill": {
     "duration": 0.01453,
     "end_time": "2022-07-11T13:22:11.041316",
     "exception": false,
     "start_time": "2022-07-11T13:22:11.026786",
     "status": "completed"
    },
    "tags": []
   },
   "source": [
    "## Load full correlation matrix"
   ]
  },
  {
   "cell_type": "code",
   "execution_count": 17,
   "id": "5c2508c1-ae29-4c83-a515-2bf4486c442d",
   "metadata": {},
   "outputs": [],
   "source": [
    "orig_corr_mat = pd.read_pickle(OUTPUT_DIR / \"corr_mat.pkl.xz\")"
   ]
  },
  {
   "cell_type": "code",
   "execution_count": 18,
   "id": "30ccfc68-1548-4009-aba8-c84224f16ea1",
   "metadata": {},
   "outputs": [
    {
     "data": {
      "text/plain": [
       "(6442, 6442)"
      ]
     },
     "execution_count": 18,
     "metadata": {},
     "output_type": "execute_result"
    }
   ],
   "source": [
    "orig_corr_mat.shape"
   ]
  },
  {
   "cell_type": "code",
   "execution_count": 19,
   "id": "fab6bb31-636f-48eb-bf85-4c17cad87dfd",
   "metadata": {},
   "outputs": [
    {
     "data": {
      "text/html": [
       "<div>\n",
       "<style scoped>\n",
       "    .dataframe tbody tr th:only-of-type {\n",
       "        vertical-align: middle;\n",
       "    }\n",
       "\n",
       "    .dataframe tbody tr th {\n",
       "        vertical-align: top;\n",
       "    }\n",
       "\n",
       "    .dataframe thead th {\n",
       "        text-align: right;\n",
       "    }\n",
       "</style>\n",
       "<table border=\"1\" class=\"dataframe\">\n",
       "  <thead>\n",
       "    <tr style=\"text-align: right;\">\n",
       "      <th></th>\n",
       "      <th>NOC2L</th>\n",
       "      <th>HES4</th>\n",
       "      <th>ISG15</th>\n",
       "      <th>AGRN</th>\n",
       "      <th>TNFRSF18</th>\n",
       "      <th>TNFRSF4</th>\n",
       "      <th>B3GALT6</th>\n",
       "      <th>UBE2J2</th>\n",
       "      <th>ACAP3</th>\n",
       "      <th>TAS1R3</th>\n",
       "      <th>...</th>\n",
       "      <th>PLXNB2</th>\n",
       "      <th>ADM2</th>\n",
       "      <th>MIOX</th>\n",
       "      <th>SCO2</th>\n",
       "      <th>TYMP</th>\n",
       "      <th>CPT1B</th>\n",
       "      <th>CHKB</th>\n",
       "      <th>MAPK8IP2</th>\n",
       "      <th>ARSA</th>\n",
       "      <th>SHANK3</th>\n",
       "    </tr>\n",
       "  </thead>\n",
       "  <tbody>\n",
       "    <tr>\n",
       "      <th>NOC2L</th>\n",
       "      <td>1.000000</td>\n",
       "      <td>0.115011</td>\n",
       "      <td>0.173138</td>\n",
       "      <td>0.056096</td>\n",
       "      <td>0.008032</td>\n",
       "      <td>0.008727</td>\n",
       "      <td>0.006797</td>\n",
       "      <td>0.004533</td>\n",
       "      <td>0.007350</td>\n",
       "      <td>0.010391</td>\n",
       "      <td>...</td>\n",
       "      <td>0.0</td>\n",
       "      <td>0.0</td>\n",
       "      <td>0.0</td>\n",
       "      <td>0.0</td>\n",
       "      <td>0.0</td>\n",
       "      <td>0.0</td>\n",
       "      <td>0.0</td>\n",
       "      <td>0.0</td>\n",
       "      <td>0.0</td>\n",
       "      <td>0.0</td>\n",
       "    </tr>\n",
       "    <tr>\n",
       "      <th>HES4</th>\n",
       "      <td>0.115011</td>\n",
       "      <td>1.000000</td>\n",
       "      <td>0.681368</td>\n",
       "      <td>0.360588</td>\n",
       "      <td>0.011545</td>\n",
       "      <td>0.010729</td>\n",
       "      <td>0.003577</td>\n",
       "      <td>0.010230</td>\n",
       "      <td>0.010747</td>\n",
       "      <td>0.008769</td>\n",
       "      <td>...</td>\n",
       "      <td>0.0</td>\n",
       "      <td>0.0</td>\n",
       "      <td>0.0</td>\n",
       "      <td>0.0</td>\n",
       "      <td>0.0</td>\n",
       "      <td>0.0</td>\n",
       "      <td>0.0</td>\n",
       "      <td>0.0</td>\n",
       "      <td>0.0</td>\n",
       "      <td>0.0</td>\n",
       "    </tr>\n",
       "    <tr>\n",
       "      <th>ISG15</th>\n",
       "      <td>0.173138</td>\n",
       "      <td>0.681368</td>\n",
       "      <td>1.000000</td>\n",
       "      <td>0.381394</td>\n",
       "      <td>0.011774</td>\n",
       "      <td>0.012527</td>\n",
       "      <td>0.003754</td>\n",
       "      <td>0.012096</td>\n",
       "      <td>0.012679</td>\n",
       "      <td>0.010442</td>\n",
       "      <td>...</td>\n",
       "      <td>0.0</td>\n",
       "      <td>0.0</td>\n",
       "      <td>0.0</td>\n",
       "      <td>0.0</td>\n",
       "      <td>0.0</td>\n",
       "      <td>0.0</td>\n",
       "      <td>0.0</td>\n",
       "      <td>0.0</td>\n",
       "      <td>0.0</td>\n",
       "      <td>0.0</td>\n",
       "    </tr>\n",
       "    <tr>\n",
       "      <th>AGRN</th>\n",
       "      <td>0.056096</td>\n",
       "      <td>0.360588</td>\n",
       "      <td>0.381394</td>\n",
       "      <td>1.000000</td>\n",
       "      <td>0.013005</td>\n",
       "      <td>0.015775</td>\n",
       "      <td>0.006184</td>\n",
       "      <td>0.006813</td>\n",
       "      <td>0.010775</td>\n",
       "      <td>0.009189</td>\n",
       "      <td>...</td>\n",
       "      <td>0.0</td>\n",
       "      <td>0.0</td>\n",
       "      <td>0.0</td>\n",
       "      <td>0.0</td>\n",
       "      <td>0.0</td>\n",
       "      <td>0.0</td>\n",
       "      <td>0.0</td>\n",
       "      <td>0.0</td>\n",
       "      <td>0.0</td>\n",
       "      <td>0.0</td>\n",
       "    </tr>\n",
       "    <tr>\n",
       "      <th>TNFRSF18</th>\n",
       "      <td>0.008032</td>\n",
       "      <td>0.011545</td>\n",
       "      <td>0.011774</td>\n",
       "      <td>0.013005</td>\n",
       "      <td>1.000000</td>\n",
       "      <td>0.356676</td>\n",
       "      <td>0.454010</td>\n",
       "      <td>0.137643</td>\n",
       "      <td>0.200340</td>\n",
       "      <td>0.093210</td>\n",
       "      <td>...</td>\n",
       "      <td>0.0</td>\n",
       "      <td>0.0</td>\n",
       "      <td>0.0</td>\n",
       "      <td>0.0</td>\n",
       "      <td>0.0</td>\n",
       "      <td>0.0</td>\n",
       "      <td>0.0</td>\n",
       "      <td>0.0</td>\n",
       "      <td>0.0</td>\n",
       "      <td>0.0</td>\n",
       "    </tr>\n",
       "  </tbody>\n",
       "</table>\n",
       "<p>5 rows × 6442 columns</p>\n",
       "</div>"
      ],
      "text/plain": [
       "             NOC2L      HES4     ISG15      AGRN  TNFRSF18   TNFRSF4  \\\n",
       "NOC2L     1.000000  0.115011  0.173138  0.056096  0.008032  0.008727   \n",
       "HES4      0.115011  1.000000  0.681368  0.360588  0.011545  0.010729   \n",
       "ISG15     0.173138  0.681368  1.000000  0.381394  0.011774  0.012527   \n",
       "AGRN      0.056096  0.360588  0.381394  1.000000  0.013005  0.015775   \n",
       "TNFRSF18  0.008032  0.011545  0.011774  0.013005  1.000000  0.356676   \n",
       "\n",
       "           B3GALT6    UBE2J2     ACAP3    TAS1R3  ...  PLXNB2  ADM2  MIOX  \\\n",
       "NOC2L     0.006797  0.004533  0.007350  0.010391  ...     0.0   0.0   0.0   \n",
       "HES4      0.003577  0.010230  0.010747  0.008769  ...     0.0   0.0   0.0   \n",
       "ISG15     0.003754  0.012096  0.012679  0.010442  ...     0.0   0.0   0.0   \n",
       "AGRN      0.006184  0.006813  0.010775  0.009189  ...     0.0   0.0   0.0   \n",
       "TNFRSF18  0.454010  0.137643  0.200340  0.093210  ...     0.0   0.0   0.0   \n",
       "\n",
       "          SCO2  TYMP  CPT1B  CHKB  MAPK8IP2  ARSA  SHANK3  \n",
       "NOC2L      0.0   0.0    0.0   0.0       0.0   0.0     0.0  \n",
       "HES4       0.0   0.0    0.0   0.0       0.0   0.0     0.0  \n",
       "ISG15      0.0   0.0    0.0   0.0       0.0   0.0     0.0  \n",
       "AGRN       0.0   0.0    0.0   0.0       0.0   0.0     0.0  \n",
       "TNFRSF18   0.0   0.0    0.0   0.0       0.0   0.0     0.0  \n",
       "\n",
       "[5 rows x 6442 columns]"
      ]
     },
     "execution_count": 19,
     "metadata": {},
     "output_type": "execute_result"
    }
   ],
   "source": [
    "orig_corr_mat.head()"
   ]
  },
  {
   "cell_type": "markdown",
   "id": "9b4872de-b652-4b2e-ab3d-6e326548592b",
   "metadata": {
    "papermill": {
     "duration": 0.01453,
     "end_time": "2022-07-11T13:22:11.041316",
     "exception": false,
     "start_time": "2022-07-11T13:22:11.026786",
     "status": "completed"
    },
    "tags": []
   },
   "source": [
    "## Load cohort metadata"
   ]
  },
  {
   "cell_type": "code",
   "execution_count": 20,
   "id": "66155d03-e4cf-4b6e-954e-00fd8af9fe65",
   "metadata": {},
   "outputs": [],
   "source": [
    "gene_tissues_df = pd.read_pickle(\n",
    "    OUTPUT_DIR / \"cohort_1000g_eur_metadata\" / \"gene_tissues.pkl.gz\"\n",
    ").set_index(\"gene_name\")"
   ]
  },
  {
   "cell_type": "code",
   "execution_count": 21,
   "id": "3180282c-74ac-42da-bab2-1f30c1d6b13f",
   "metadata": {},
   "outputs": [
    {
     "data": {
      "text/plain": [
       "(6444, 9)"
      ]
     },
     "execution_count": 21,
     "metadata": {},
     "output_type": "execute_result"
    }
   ],
   "source": [
    "gene_tissues_df.shape"
   ]
  },
  {
   "cell_type": "code",
   "execution_count": 22,
   "id": "f3f6e0ca-eceb-4de8-a3c8-cfbbb78e2666",
   "metadata": {},
   "outputs": [],
   "source": [
    "gene_tissues_df = gene_tissues_df.loc[~gene_tissues_df.index.duplicated(keep=\"first\")]"
   ]
  },
  {
   "cell_type": "code",
   "execution_count": 23,
   "id": "58592992-5436-4f90-95f9-1cb24df8864e",
   "metadata": {},
   "outputs": [
    {
     "data": {
      "text/plain": [
       "(6444, 9)"
      ]
     },
     "execution_count": 23,
     "metadata": {},
     "output_type": "execute_result"
    }
   ],
   "source": [
    "gene_tissues_df.shape"
   ]
  },
  {
   "cell_type": "code",
   "execution_count": 24,
   "id": "81954acb-3ccb-4a70-b371-0d35b13953b2",
   "metadata": {},
   "outputs": [],
   "source": [
    "assert gene_tissues_df.index.is_unique"
   ]
  },
  {
   "cell_type": "code",
   "execution_count": 25,
   "id": "00d31d31-fdc8-4403-abac-dbd622ab57e2",
   "metadata": {},
   "outputs": [
    {
     "data": {
      "text/html": [
       "<div>\n",
       "<style scoped>\n",
       "    .dataframe tbody tr th:only-of-type {\n",
       "        vertical-align: middle;\n",
       "    }\n",
       "\n",
       "    .dataframe tbody tr th {\n",
       "        vertical-align: top;\n",
       "    }\n",
       "\n",
       "    .dataframe thead th {\n",
       "        text-align: right;\n",
       "    }\n",
       "</style>\n",
       "<table border=\"1\" class=\"dataframe\">\n",
       "  <thead>\n",
       "    <tr style=\"text-align: right;\">\n",
       "      <th></th>\n",
       "      <th>tissue</th>\n",
       "      <th>n_tissues</th>\n",
       "      <th>tissues_pc_variances</th>\n",
       "      <th>tissues_pc_variances_cov</th>\n",
       "      <th>tissues_variances</th>\n",
       "      <th>n_snps_used_sum</th>\n",
       "      <th>n_snps_in_model_sum</th>\n",
       "      <th>unique_n_snps_in_model</th>\n",
       "      <th>unique_n_snps_used</th>\n",
       "    </tr>\n",
       "    <tr>\n",
       "      <th>gene_name</th>\n",
       "      <th></th>\n",
       "      <th></th>\n",
       "      <th></th>\n",
       "      <th></th>\n",
       "      <th></th>\n",
       "      <th></th>\n",
       "      <th></th>\n",
       "      <th></th>\n",
       "      <th></th>\n",
       "    </tr>\n",
       "  </thead>\n",
       "  <tbody>\n",
       "    <tr>\n",
       "      <th>DPM1</th>\n",
       "      <td>(Brain_Hypothalamus, Brain_Substantia_nigra)</td>\n",
       "      <td>2</td>\n",
       "      <td>[1.0372585612589562, 0.9627414387410438]</td>\n",
       "      <td>[0.008284978865240098, 0.000732674839341259]</td>\n",
       "      <td>{'Brain_Substantia_nigra': 0.00073379232755585...</td>\n",
       "      <td>2</td>\n",
       "      <td>2</td>\n",
       "      <td>2</td>\n",
       "      <td>2</td>\n",
       "    </tr>\n",
       "    <tr>\n",
       "      <th>FGR</th>\n",
       "      <td>(Testis, Brain_Frontal_Cortex_BA9, Pancreas, E...</td>\n",
       "      <td>36</td>\n",
       "      <td>[30.57880701512375, 2.029732645600111, 1.40179...</td>\n",
       "      <td>[0.22478471249969337, 0.00881387381303179]</td>\n",
       "      <td>{'Artery_Aorta': 0.004641097161388297, 'Colon_...</td>\n",
       "      <td>40</td>\n",
       "      <td>40</td>\n",
       "      <td>5</td>\n",
       "      <td>5</td>\n",
       "    </tr>\n",
       "    <tr>\n",
       "      <th>CFH</th>\n",
       "      <td>(Testis, Artery_Coronary, Heart_Atrial_Appenda...</td>\n",
       "      <td>34</td>\n",
       "      <td>[20.77260827663933, 8.177158142324839, 1.86464...</td>\n",
       "      <td>[0.19699534279580105, 0.05731825316349168, 0.0...</td>\n",
       "      <td>{'Small_Intestine_Terminal_Ileum': 0.000166052...</td>\n",
       "      <td>44</td>\n",
       "      <td>44</td>\n",
       "      <td>12</td>\n",
       "      <td>12</td>\n",
       "    </tr>\n",
       "    <tr>\n",
       "      <th>GCLC</th>\n",
       "      <td>(Testis, Artery_Coronary, Heart_Atrial_Appenda...</td>\n",
       "      <td>32</td>\n",
       "      <td>[20.976449940269113, 4.772354749306764, 2.2362...</td>\n",
       "      <td>[0.3657809638925397, 0.12645413710424536, 0.01...</td>\n",
       "      <td>{'Small_Intestine_Terminal_Ileum': 0.006074884...</td>\n",
       "      <td>46</td>\n",
       "      <td>46</td>\n",
       "      <td>23</td>\n",
       "      <td>23</td>\n",
       "    </tr>\n",
       "    <tr>\n",
       "      <th>NFYA</th>\n",
       "      <td>(Testis, Artery_Coronary, Heart_Atrial_Appenda...</td>\n",
       "      <td>40</td>\n",
       "      <td>[37.63836978240499]</td>\n",
       "      <td>[1.478714450892399, 0.04969061838773913]</td>\n",
       "      <td>{'Small_Intestine_Terminal_Ileum': 0.033165962...</td>\n",
       "      <td>47</td>\n",
       "      <td>48</td>\n",
       "      <td>14</td>\n",
       "      <td>13</td>\n",
       "    </tr>\n",
       "  </tbody>\n",
       "</table>\n",
       "</div>"
      ],
      "text/plain": [
       "                                                      tissue  n_tissues  \\\n",
       "gene_name                                                                 \n",
       "DPM1            (Brain_Hypothalamus, Brain_Substantia_nigra)          2   \n",
       "FGR        (Testis, Brain_Frontal_Cortex_BA9, Pancreas, E...         36   \n",
       "CFH        (Testis, Artery_Coronary, Heart_Atrial_Appenda...         34   \n",
       "GCLC       (Testis, Artery_Coronary, Heart_Atrial_Appenda...         32   \n",
       "NFYA       (Testis, Artery_Coronary, Heart_Atrial_Appenda...         40   \n",
       "\n",
       "                                        tissues_pc_variances  \\\n",
       "gene_name                                                      \n",
       "DPM1                [1.0372585612589562, 0.9627414387410438]   \n",
       "FGR        [30.57880701512375, 2.029732645600111, 1.40179...   \n",
       "CFH        [20.77260827663933, 8.177158142324839, 1.86464...   \n",
       "GCLC       [20.976449940269113, 4.772354749306764, 2.2362...   \n",
       "NFYA                                     [37.63836978240499]   \n",
       "\n",
       "                                    tissues_pc_variances_cov  \\\n",
       "gene_name                                                      \n",
       "DPM1            [0.008284978865240098, 0.000732674839341259]   \n",
       "FGR               [0.22478471249969337, 0.00881387381303179]   \n",
       "CFH        [0.19699534279580105, 0.05731825316349168, 0.0...   \n",
       "GCLC       [0.3657809638925397, 0.12645413710424536, 0.01...   \n",
       "NFYA                [1.478714450892399, 0.04969061838773913]   \n",
       "\n",
       "                                           tissues_variances  n_snps_used_sum  \\\n",
       "gene_name                                                                       \n",
       "DPM1       {'Brain_Substantia_nigra': 0.00073379232755585...                2   \n",
       "FGR        {'Artery_Aorta': 0.004641097161388297, 'Colon_...               40   \n",
       "CFH        {'Small_Intestine_Terminal_Ileum': 0.000166052...               44   \n",
       "GCLC       {'Small_Intestine_Terminal_Ileum': 0.006074884...               46   \n",
       "NFYA       {'Small_Intestine_Terminal_Ileum': 0.033165962...               47   \n",
       "\n",
       "           n_snps_in_model_sum  unique_n_snps_in_model  unique_n_snps_used  \n",
       "gene_name                                                                   \n",
       "DPM1                         2                       2                   2  \n",
       "FGR                         40                       5                   5  \n",
       "CFH                         44                      12                  12  \n",
       "GCLC                        46                      23                  23  \n",
       "NFYA                        48                      14                  13  "
      ]
     },
     "execution_count": 25,
     "metadata": {},
     "output_type": "execute_result"
    }
   ],
   "source": [
    "gene_tissues_df.head()"
   ]
  },
  {
   "cell_type": "markdown",
   "id": "64319eb4-7a3a-472d-b1ab-a82791dbca11",
   "metadata": {
    "papermill": {
     "duration": 0.233317,
     "end_time": "2022-07-11T13:23:15.815161",
     "exception": false,
     "start_time": "2022-07-11T13:23:15.581844",
     "status": "completed"
    },
    "tags": []
   },
   "source": [
    "# Functions"
   ]
  },
  {
   "cell_type": "code",
   "execution_count": 26,
   "id": "d4864e24-7153-49de-88ee-30acc3449d3b",
   "metadata": {},
   "outputs": [],
   "source": [
    "def get_data(\n",
    "    lv_code,\n",
    "    random_phenotype_code=None,\n",
    "    real_phenotype_code=None,\n",
    "    add_covars=False,\n",
    "    # add_snplevel_covars=False,\n",
    "    add_covars_logs=False,\n",
    "):\n",
    "    if random_phenotype_code is not None:\n",
    "        target_data = load_multixcan_random_phenotype(random_phenotype_code)[\"pvalue\"]\n",
    "        y = pd.Series(\n",
    "            data=np.abs(stats.norm.ppf(target_data.to_numpy() / 2)),\n",
    "            index=target_data.index.copy(),\n",
    "        )\n",
    "    elif real_phenotype_code is not None:\n",
    "        y = multixcan_real_results[real_phenotype_code]\n",
    "\n",
    "    y = y[~y.index.duplicated(keep=\"first\")]\n",
    "    y = y.dropna()\n",
    "\n",
    "    X = multiplier_z[lv_code].copy()\n",
    "\n",
    "    common_genes = orig_corr_mat.index.intersection(y.index).intersection(X.index)\n",
    "    y = y.loc[common_genes]\n",
    "\n",
    "    X = X.loc[common_genes]\n",
    "    X = sm.add_constant(X)\n",
    "\n",
    "    if add_covars:\n",
    "        covars = load_multixcan_random_phenotype(random_phenotype_code)[\n",
    "            [\"n\", \"n_indep\"]\n",
    "        ]\n",
    "        covars = covars[~covars.index.duplicated(keep=\"first\")]\n",
    "        covars = covars.loc[X.index]\n",
    "\n",
    "        # gene-level covariates (S-MultiXcan)\n",
    "        covars = covars.rename(\n",
    "            columns={\n",
    "                \"n_indep\": \"gene_size\",\n",
    "            }\n",
    "        )\n",
    "        covars = covars.assign(\n",
    "            gene_density=covars.apply(lambda x: x[\"gene_size\"] / x[\"n\"], axis=1)\n",
    "        )\n",
    "\n",
    "        if add_covars_logs:\n",
    "            covars[\"gene_size_log\"] = np.log(covars[\"gene_size\"])\n",
    "            covars[\"gene_density_log\"] = -np.log(covars[\"gene_density\"])\n",
    "\n",
    "        # snp-level covariates (S-PrediXcan)\n",
    "        covars = covars.assign(gene_n_snps_used=gene_tissues_df[\"n_snps_used_sum\"])\n",
    "        covars = covars.assign(\n",
    "            gene_n_snps_used_sharing=gene_tissues_df.apply(\n",
    "                lambda x: x[\"n_snps_used_sum\"] / x[\"unique_n_snps_used\"], axis=1\n",
    "            )\n",
    "        )\n",
    "\n",
    "        if add_covars_logs:\n",
    "            covars[\"gene_n_snps_used_log\"] = np.log(covars[\"gene_n_snps_used\"])\n",
    "            covars[\"gene_n_snps_used_sharing_log\"] = np.log(\n",
    "                covars[\"gene_n_snps_used_sharing\"]\n",
    "            )\n",
    "\n",
    "        # if add_covars:\n",
    "        covars = covars.drop(columns=[c for c in covars.columns if c in (\"n\",)])\n",
    "\n",
    "        X = X.join(covars)\n",
    "\n",
    "    return X, y"
   ]
  },
  {
   "cell_type": "code",
   "execution_count": 27,
   "id": "9dd68960-dc49-4498-b30a-5af92dc2df83",
   "metadata": {},
   "outputs": [],
   "source": [
    "# testing\n",
    "_X, _y = get_data(\"LV7\", 10)\n",
    "assert _X.shape[0] < 7000\n",
    "assert _X.shape[1] == 2\n",
    "assert \"LV7\" in _X.columns\n",
    "assert \"const\" in _X.columns\n",
    "assert not _X.isna().any(None)\n",
    "\n",
    "assert _y.shape[0] == _X.shape[0]\n",
    "assert not _y.isna().any(None)"
   ]
  },
  {
   "cell_type": "code",
   "execution_count": 28,
   "id": "3f014c4d-7086-4e6e-aeca-3e7f9a238a4f",
   "metadata": {},
   "outputs": [
    {
     "data": {
      "text/html": [
       "<div>\n",
       "<style scoped>\n",
       "    .dataframe tbody tr th:only-of-type {\n",
       "        vertical-align: middle;\n",
       "    }\n",
       "\n",
       "    .dataframe tbody tr th {\n",
       "        vertical-align: top;\n",
       "    }\n",
       "\n",
       "    .dataframe thead th {\n",
       "        text-align: right;\n",
       "    }\n",
       "</style>\n",
       "<table border=\"1\" class=\"dataframe\">\n",
       "  <thead>\n",
       "    <tr style=\"text-align: right;\">\n",
       "      <th></th>\n",
       "      <th>const</th>\n",
       "      <th>LV7</th>\n",
       "    </tr>\n",
       "  </thead>\n",
       "  <tbody>\n",
       "    <tr>\n",
       "      <th>NOC2L</th>\n",
       "      <td>1.0</td>\n",
       "      <td>0.0</td>\n",
       "    </tr>\n",
       "    <tr>\n",
       "      <th>HES4</th>\n",
       "      <td>1.0</td>\n",
       "      <td>0.0</td>\n",
       "    </tr>\n",
       "    <tr>\n",
       "      <th>ISG15</th>\n",
       "      <td>1.0</td>\n",
       "      <td>0.0</td>\n",
       "    </tr>\n",
       "    <tr>\n",
       "      <th>AGRN</th>\n",
       "      <td>1.0</td>\n",
       "      <td>0.0</td>\n",
       "    </tr>\n",
       "    <tr>\n",
       "      <th>TNFRSF18</th>\n",
       "      <td>1.0</td>\n",
       "      <td>0.0</td>\n",
       "    </tr>\n",
       "  </tbody>\n",
       "</table>\n",
       "</div>"
      ],
      "text/plain": [
       "          const  LV7\n",
       "NOC2L       1.0  0.0\n",
       "HES4        1.0  0.0\n",
       "ISG15       1.0  0.0\n",
       "AGRN        1.0  0.0\n",
       "TNFRSF18    1.0  0.0"
      ]
     },
     "execution_count": 28,
     "metadata": {},
     "output_type": "execute_result"
    }
   ],
   "source": [
    "_X.head()"
   ]
  },
  {
   "cell_type": "code",
   "execution_count": 29,
   "id": "70aa7583-aa21-45db-a0dd-108fbe623c00",
   "metadata": {},
   "outputs": [
    {
     "data": {
      "text/plain": [
       "NOC2L       0.679536\n",
       "HES4        2.495365\n",
       "ISG15       1.892361\n",
       "AGRN        1.428397\n",
       "TNFRSF18    0.390039\n",
       "dtype: float64"
      ]
     },
     "execution_count": 29,
     "metadata": {},
     "output_type": "execute_result"
    }
   ],
   "source": [
    "_y.head()"
   ]
  },
  {
   "cell_type": "code",
   "execution_count": 30,
   "id": "d37bab30-81dd-4415-895d-959769910f7d",
   "metadata": {},
   "outputs": [],
   "source": [
    "# testing\n",
    "_X, _y = get_data(\"LV7\", 10, add_covars=True)\n",
    "assert _X.shape[0] < 7000\n",
    "assert _X.shape[1] == 2 + 4\n",
    "assert \"LV7\" in _X.columns\n",
    "assert \"const\" in _X.columns\n",
    "assert \"gene_size\" in _X.columns\n",
    "assert \"gene_density\" in _X.columns\n",
    "assert \"gene_n_snps_used\" in _X.columns\n",
    "assert \"gene_n_snps_used_sharing\" in _X.columns\n",
    "assert not _X.isna().any(None)\n",
    "\n",
    "assert _y.shape[0] == _X.shape[0]\n",
    "assert not _y.isna().any(None)"
   ]
  },
  {
   "cell_type": "code",
   "execution_count": 31,
   "id": "322d966b-fc04-4d59-9471-299a7446c971",
   "metadata": {},
   "outputs": [
    {
     "data": {
      "text/html": [
       "<div>\n",
       "<style scoped>\n",
       "    .dataframe tbody tr th:only-of-type {\n",
       "        vertical-align: middle;\n",
       "    }\n",
       "\n",
       "    .dataframe tbody tr th {\n",
       "        vertical-align: top;\n",
       "    }\n",
       "\n",
       "    .dataframe thead th {\n",
       "        text-align: right;\n",
       "    }\n",
       "</style>\n",
       "<table border=\"1\" class=\"dataframe\">\n",
       "  <thead>\n",
       "    <tr style=\"text-align: right;\">\n",
       "      <th></th>\n",
       "      <th>const</th>\n",
       "      <th>LV7</th>\n",
       "      <th>gene_size</th>\n",
       "      <th>gene_density</th>\n",
       "      <th>gene_n_snps_used</th>\n",
       "      <th>gene_n_snps_used_sharing</th>\n",
       "    </tr>\n",
       "  </thead>\n",
       "  <tbody>\n",
       "    <tr>\n",
       "      <th>NOC2L</th>\n",
       "      <td>1.0</td>\n",
       "      <td>0.0</td>\n",
       "      <td>5.0</td>\n",
       "      <td>0.106383</td>\n",
       "      <td>103</td>\n",
       "      <td>4.478261</td>\n",
       "    </tr>\n",
       "    <tr>\n",
       "      <th>HES4</th>\n",
       "      <td>1.0</td>\n",
       "      <td>0.0</td>\n",
       "      <td>3.0</td>\n",
       "      <td>0.068182</td>\n",
       "      <td>55</td>\n",
       "      <td>6.875000</td>\n",
       "    </tr>\n",
       "    <tr>\n",
       "      <th>ISG15</th>\n",
       "      <td>1.0</td>\n",
       "      <td>0.0</td>\n",
       "      <td>6.0</td>\n",
       "      <td>0.142857</td>\n",
       "      <td>59</td>\n",
       "      <td>2.565217</td>\n",
       "    </tr>\n",
       "    <tr>\n",
       "      <th>AGRN</th>\n",
       "      <td>1.0</td>\n",
       "      <td>0.0</td>\n",
       "      <td>4.0</td>\n",
       "      <td>0.086957</td>\n",
       "      <td>75</td>\n",
       "      <td>5.000000</td>\n",
       "    </tr>\n",
       "    <tr>\n",
       "      <th>TNFRSF18</th>\n",
       "      <td>1.0</td>\n",
       "      <td>0.0</td>\n",
       "      <td>4.0</td>\n",
       "      <td>0.088889</td>\n",
       "      <td>65</td>\n",
       "      <td>2.407407</td>\n",
       "    </tr>\n",
       "  </tbody>\n",
       "</table>\n",
       "</div>"
      ],
      "text/plain": [
       "          const  LV7  gene_size  gene_density  gene_n_snps_used  \\\n",
       "NOC2L       1.0  0.0        5.0      0.106383               103   \n",
       "HES4        1.0  0.0        3.0      0.068182                55   \n",
       "ISG15       1.0  0.0        6.0      0.142857                59   \n",
       "AGRN        1.0  0.0        4.0      0.086957                75   \n",
       "TNFRSF18    1.0  0.0        4.0      0.088889                65   \n",
       "\n",
       "          gene_n_snps_used_sharing  \n",
       "NOC2L                     4.478261  \n",
       "HES4                      6.875000  \n",
       "ISG15                     2.565217  \n",
       "AGRN                      5.000000  \n",
       "TNFRSF18                  2.407407  "
      ]
     },
     "execution_count": 31,
     "metadata": {},
     "output_type": "execute_result"
    }
   ],
   "source": [
    "_X.head()"
   ]
  },
  {
   "cell_type": "code",
   "execution_count": 32,
   "id": "e43870e5-5140-4d6c-a375-364162c4952f",
   "metadata": {},
   "outputs": [
    {
     "data": {
      "text/plain": [
       "tissue                      (Testis, Artery_Coronary, Heart_Atrial_Appenda...\n",
       "n_tissues                                                                  45\n",
       "tissues_pc_variances        [25.078112154400927, 11.018170291707419, 5.583...\n",
       "tissues_pc_variances_cov    [0.6646273863834019, 0.30611303601683504, 0.05...\n",
       "tissues_variances           {'Small_Intestine_Terminal_Ileum': 0.003919989...\n",
       "n_snps_used_sum                                                            65\n",
       "n_snps_in_model_sum                                                        66\n",
       "unique_n_snps_in_model                                                     28\n",
       "unique_n_snps_used                                                         27\n",
       "Name: TNFRSF18, dtype: object"
      ]
     },
     "execution_count": 32,
     "metadata": {},
     "output_type": "execute_result"
    }
   ],
   "source": [
    "# load_multixcan_random_phenotype(10).loc[\"TNFRSF18\"]\n",
    "gene_tissues_df.loc[\"TNFRSF18\"]"
   ]
  },
  {
   "cell_type": "code",
   "execution_count": 33,
   "id": "4a997d26-bac3-4186-b4c3-c744cf745a5f",
   "metadata": {},
   "outputs": [],
   "source": [
    "assert _X.loc[\"TNFRSF18\", \"gene_size\"] == 4.0\n",
    "assert _X.loc[\"TNFRSF18\", \"gene_density\"] == 4 / 45.0\n",
    "assert _X.loc[\"TNFRSF18\", \"gene_n_snps_used\"] == 65\n",
    "assert _X.loc[\"TNFRSF18\", \"gene_n_snps_used_sharing\"] == 65 / 27.0"
   ]
  },
  {
   "cell_type": "code",
   "execution_count": 34,
   "id": "17e3ccc5-a267-4691-89f4-db8c677b534e",
   "metadata": {},
   "outputs": [
    {
     "data": {
      "text/plain": [
       "NOC2L       0.679536\n",
       "HES4        2.495365\n",
       "ISG15       1.892361\n",
       "AGRN        1.428397\n",
       "TNFRSF18    0.390039\n",
       "dtype: float64"
      ]
     },
     "execution_count": 34,
     "metadata": {},
     "output_type": "execute_result"
    }
   ],
   "source": [
    "_y.head()"
   ]
  },
  {
   "cell_type": "code",
   "execution_count": 35,
   "id": "b5b4e879-8b1f-418d-ab5c-30e47d4fa984",
   "metadata": {},
   "outputs": [],
   "source": [
    "# testing\n",
    "_X, _y = get_data(\"LV7\", 10, add_covars=True, add_covars_logs=True)\n",
    "assert _X.shape[0] < 7000\n",
    "assert _X.shape[1] == 2 + 4 + 4\n",
    "assert \"LV7\" in _X.columns\n",
    "assert \"const\" in _X.columns\n",
    "assert \"gene_size\" in _X.columns\n",
    "assert \"gene_size_log\" in _X.columns\n",
    "assert \"gene_density\" in _X.columns\n",
    "assert \"gene_density_log\" in _X.columns\n",
    "assert \"gene_n_snps_used\" in _X.columns\n",
    "assert \"gene_n_snps_used_log\" in _X.columns\n",
    "assert \"gene_n_snps_used_sharing\" in _X.columns\n",
    "assert \"gene_n_snps_used_sharing_log\" in _X.columns\n",
    "assert not _X.isna().any(None)\n",
    "\n",
    "assert _X[\"gene_density\"].between(0.0, 1.0, inclusive=\"right\").all()\n",
    "assert _X[\"gene_density_log\"].min() >= 0.0\n",
    "assert _X[\"gene_size\"].min() >= 0.0\n",
    "assert _X[\"gene_size_log\"].min() >= 0.0\n",
    "assert _X[\"gene_n_snps_used\"].min() >= 0.0\n",
    "assert _X[\"gene_n_snps_used_log\"].min() >= 0.0\n",
    "assert _X[\"gene_n_snps_used_sharing\"].min() >= 0.0\n",
    "assert _X[\"gene_n_snps_used_sharing_log\"].min() >= 0.0\n",
    "\n",
    "assert _y.shape[0] == _X.shape[0]\n",
    "assert not _y.isna().any(None)"
   ]
  },
  {
   "cell_type": "code",
   "execution_count": 36,
   "id": "bf6ad5e6-37ac-4f0e-8448-2af7d1a2cd1a",
   "metadata": {},
   "outputs": [
    {
     "data": {
      "text/html": [
       "<div>\n",
       "<style scoped>\n",
       "    .dataframe tbody tr th:only-of-type {\n",
       "        vertical-align: middle;\n",
       "    }\n",
       "\n",
       "    .dataframe tbody tr th {\n",
       "        vertical-align: top;\n",
       "    }\n",
       "\n",
       "    .dataframe thead th {\n",
       "        text-align: right;\n",
       "    }\n",
       "</style>\n",
       "<table border=\"1\" class=\"dataframe\">\n",
       "  <thead>\n",
       "    <tr style=\"text-align: right;\">\n",
       "      <th></th>\n",
       "      <th>const</th>\n",
       "      <th>LV7</th>\n",
       "      <th>gene_size</th>\n",
       "      <th>gene_density</th>\n",
       "      <th>gene_size_log</th>\n",
       "      <th>gene_density_log</th>\n",
       "      <th>gene_n_snps_used</th>\n",
       "      <th>gene_n_snps_used_sharing</th>\n",
       "      <th>gene_n_snps_used_log</th>\n",
       "      <th>gene_n_snps_used_sharing_log</th>\n",
       "    </tr>\n",
       "  </thead>\n",
       "  <tbody>\n",
       "    <tr>\n",
       "      <th>NOC2L</th>\n",
       "      <td>1.0</td>\n",
       "      <td>0.0</td>\n",
       "      <td>5.0</td>\n",
       "      <td>0.106383</td>\n",
       "      <td>1.609438</td>\n",
       "      <td>2.240710</td>\n",
       "      <td>103</td>\n",
       "      <td>4.478261</td>\n",
       "      <td>4.634729</td>\n",
       "      <td>1.499235</td>\n",
       "    </tr>\n",
       "    <tr>\n",
       "      <th>HES4</th>\n",
       "      <td>1.0</td>\n",
       "      <td>0.0</td>\n",
       "      <td>3.0</td>\n",
       "      <td>0.068182</td>\n",
       "      <td>1.098612</td>\n",
       "      <td>2.685577</td>\n",
       "      <td>55</td>\n",
       "      <td>6.875000</td>\n",
       "      <td>4.007333</td>\n",
       "      <td>1.927892</td>\n",
       "    </tr>\n",
       "    <tr>\n",
       "      <th>ISG15</th>\n",
       "      <td>1.0</td>\n",
       "      <td>0.0</td>\n",
       "      <td>6.0</td>\n",
       "      <td>0.142857</td>\n",
       "      <td>1.791759</td>\n",
       "      <td>1.945910</td>\n",
       "      <td>59</td>\n",
       "      <td>2.565217</td>\n",
       "      <td>4.077537</td>\n",
       "      <td>0.942043</td>\n",
       "    </tr>\n",
       "    <tr>\n",
       "      <th>AGRN</th>\n",
       "      <td>1.0</td>\n",
       "      <td>0.0</td>\n",
       "      <td>4.0</td>\n",
       "      <td>0.086957</td>\n",
       "      <td>1.386294</td>\n",
       "      <td>2.442347</td>\n",
       "      <td>75</td>\n",
       "      <td>5.000000</td>\n",
       "      <td>4.317488</td>\n",
       "      <td>1.609438</td>\n",
       "    </tr>\n",
       "    <tr>\n",
       "      <th>TNFRSF18</th>\n",
       "      <td>1.0</td>\n",
       "      <td>0.0</td>\n",
       "      <td>4.0</td>\n",
       "      <td>0.088889</td>\n",
       "      <td>1.386294</td>\n",
       "      <td>2.420368</td>\n",
       "      <td>65</td>\n",
       "      <td>2.407407</td>\n",
       "      <td>4.174387</td>\n",
       "      <td>0.878550</td>\n",
       "    </tr>\n",
       "  </tbody>\n",
       "</table>\n",
       "</div>"
      ],
      "text/plain": [
       "          const  LV7  gene_size  gene_density  gene_size_log  \\\n",
       "NOC2L       1.0  0.0        5.0      0.106383       1.609438   \n",
       "HES4        1.0  0.0        3.0      0.068182       1.098612   \n",
       "ISG15       1.0  0.0        6.0      0.142857       1.791759   \n",
       "AGRN        1.0  0.0        4.0      0.086957       1.386294   \n",
       "TNFRSF18    1.0  0.0        4.0      0.088889       1.386294   \n",
       "\n",
       "          gene_density_log  gene_n_snps_used  gene_n_snps_used_sharing  \\\n",
       "NOC2L             2.240710               103                  4.478261   \n",
       "HES4              2.685577                55                  6.875000   \n",
       "ISG15             1.945910                59                  2.565217   \n",
       "AGRN              2.442347                75                  5.000000   \n",
       "TNFRSF18          2.420368                65                  2.407407   \n",
       "\n",
       "          gene_n_snps_used_log  gene_n_snps_used_sharing_log  \n",
       "NOC2L                 4.634729                      1.499235  \n",
       "HES4                  4.007333                      1.927892  \n",
       "ISG15                 4.077537                      0.942043  \n",
       "AGRN                  4.317488                      1.609438  \n",
       "TNFRSF18              4.174387                      0.878550  "
      ]
     },
     "execution_count": 36,
     "metadata": {},
     "output_type": "execute_result"
    }
   ],
   "source": [
    "_X.head()"
   ]
  },
  {
   "cell_type": "code",
   "execution_count": 37,
   "id": "7bbe362e-2d55-4169-9206-ffd99312cfd7",
   "metadata": {},
   "outputs": [
    {
     "data": {
      "text/html": [
       "<div>\n",
       "<style scoped>\n",
       "    .dataframe tbody tr th:only-of-type {\n",
       "        vertical-align: middle;\n",
       "    }\n",
       "\n",
       "    .dataframe tbody tr th {\n",
       "        vertical-align: top;\n",
       "    }\n",
       "\n",
       "    .dataframe thead th {\n",
       "        text-align: right;\n",
       "    }\n",
       "</style>\n",
       "<table border=\"1\" class=\"dataframe\">\n",
       "  <thead>\n",
       "    <tr style=\"text-align: right;\">\n",
       "      <th></th>\n",
       "      <th>const</th>\n",
       "      <th>LV7</th>\n",
       "      <th>gene_size</th>\n",
       "      <th>gene_density</th>\n",
       "      <th>gene_size_log</th>\n",
       "      <th>gene_density_log</th>\n",
       "      <th>gene_n_snps_used</th>\n",
       "      <th>gene_n_snps_used_sharing</th>\n",
       "      <th>gene_n_snps_used_log</th>\n",
       "      <th>gene_n_snps_used_sharing_log</th>\n",
       "    </tr>\n",
       "  </thead>\n",
       "  <tbody>\n",
       "    <tr>\n",
       "      <th>count</th>\n",
       "      <td>6442.0</td>\n",
       "      <td>6442.000000</td>\n",
       "      <td>6442.000000</td>\n",
       "      <td>6442.000000</td>\n",
       "      <td>6442.000000</td>\n",
       "      <td>6442.000000</td>\n",
       "      <td>6442.000000</td>\n",
       "      <td>6442.000000</td>\n",
       "      <td>6442.000000</td>\n",
       "      <td>6442.000000</td>\n",
       "    </tr>\n",
       "    <tr>\n",
       "      <th>mean</th>\n",
       "      <td>1.0</td>\n",
       "      <td>0.089368</td>\n",
       "      <td>4.365414</td>\n",
       "      <td>0.168023</td>\n",
       "      <td>1.327457</td>\n",
       "      <td>2.133689</td>\n",
       "      <td>56.405930</td>\n",
       "      <td>5.540700</td>\n",
       "      <td>3.814766</td>\n",
       "      <td>1.501012</td>\n",
       "    </tr>\n",
       "    <tr>\n",
       "      <th>std</th>\n",
       "      <td>0.0</td>\n",
       "      <td>0.346195</td>\n",
       "      <td>2.317113</td>\n",
       "      <td>0.174679</td>\n",
       "      <td>0.564483</td>\n",
       "      <td>0.801807</td>\n",
       "      <td>30.092311</td>\n",
       "      <td>4.376822</td>\n",
       "      <td>0.796356</td>\n",
       "      <td>0.636414</td>\n",
       "    </tr>\n",
       "    <tr>\n",
       "      <th>min</th>\n",
       "      <td>1.0</td>\n",
       "      <td>0.000000</td>\n",
       "      <td>1.000000</td>\n",
       "      <td>0.020408</td>\n",
       "      <td>0.000000</td>\n",
       "      <td>-0.000000</td>\n",
       "      <td>1.000000</td>\n",
       "      <td>1.000000</td>\n",
       "      <td>0.000000</td>\n",
       "      <td>0.000000</td>\n",
       "    </tr>\n",
       "    <tr>\n",
       "      <th>25%</th>\n",
       "      <td>1.0</td>\n",
       "      <td>0.000000</td>\n",
       "      <td>3.000000</td>\n",
       "      <td>0.066667</td>\n",
       "      <td>1.098612</td>\n",
       "      <td>1.658228</td>\n",
       "      <td>35.000000</td>\n",
       "      <td>3.000000</td>\n",
       "      <td>3.555348</td>\n",
       "      <td>1.098612</td>\n",
       "    </tr>\n",
       "    <tr>\n",
       "      <th>50%</th>\n",
       "      <td>1.0</td>\n",
       "      <td>0.000000</td>\n",
       "      <td>4.000000</td>\n",
       "      <td>0.108696</td>\n",
       "      <td>1.386294</td>\n",
       "      <td>2.219203</td>\n",
       "      <td>55.000000</td>\n",
       "      <td>4.478261</td>\n",
       "      <td>4.007333</td>\n",
       "      <td>1.499235</td>\n",
       "    </tr>\n",
       "    <tr>\n",
       "      <th>75%</th>\n",
       "      <td>1.0</td>\n",
       "      <td>0.012172</td>\n",
       "      <td>6.000000</td>\n",
       "      <td>0.190476</td>\n",
       "      <td>1.791759</td>\n",
       "      <td>2.708050</td>\n",
       "      <td>77.000000</td>\n",
       "      <td>6.750000</td>\n",
       "      <td>4.343805</td>\n",
       "      <td>1.909543</td>\n",
       "    </tr>\n",
       "    <tr>\n",
       "      <th>max</th>\n",
       "      <td>1.0</td>\n",
       "      <td>5.125221</td>\n",
       "      <td>18.000000</td>\n",
       "      <td>1.000000</td>\n",
       "      <td>2.890372</td>\n",
       "      <td>3.891820</td>\n",
       "      <td>204.000000</td>\n",
       "      <td>49.000000</td>\n",
       "      <td>5.318120</td>\n",
       "      <td>3.891820</td>\n",
       "    </tr>\n",
       "  </tbody>\n",
       "</table>\n",
       "</div>"
      ],
      "text/plain": [
       "        const          LV7    gene_size  gene_density  gene_size_log  \\\n",
       "count  6442.0  6442.000000  6442.000000   6442.000000    6442.000000   \n",
       "mean      1.0     0.089368     4.365414      0.168023       1.327457   \n",
       "std       0.0     0.346195     2.317113      0.174679       0.564483   \n",
       "min       1.0     0.000000     1.000000      0.020408       0.000000   \n",
       "25%       1.0     0.000000     3.000000      0.066667       1.098612   \n",
       "50%       1.0     0.000000     4.000000      0.108696       1.386294   \n",
       "75%       1.0     0.012172     6.000000      0.190476       1.791759   \n",
       "max       1.0     5.125221    18.000000      1.000000       2.890372   \n",
       "\n",
       "       gene_density_log  gene_n_snps_used  gene_n_snps_used_sharing  \\\n",
       "count       6442.000000       6442.000000               6442.000000   \n",
       "mean           2.133689         56.405930                  5.540700   \n",
       "std            0.801807         30.092311                  4.376822   \n",
       "min           -0.000000          1.000000                  1.000000   \n",
       "25%            1.658228         35.000000                  3.000000   \n",
       "50%            2.219203         55.000000                  4.478261   \n",
       "75%            2.708050         77.000000                  6.750000   \n",
       "max            3.891820        204.000000                 49.000000   \n",
       "\n",
       "       gene_n_snps_used_log  gene_n_snps_used_sharing_log  \n",
       "count           6442.000000                   6442.000000  \n",
       "mean               3.814766                      1.501012  \n",
       "std                0.796356                      0.636414  \n",
       "min                0.000000                      0.000000  \n",
       "25%                3.555348                      1.098612  \n",
       "50%                4.007333                      1.499235  \n",
       "75%                4.343805                      1.909543  \n",
       "max                5.318120                      3.891820  "
      ]
     },
     "execution_count": 37,
     "metadata": {},
     "output_type": "execute_result"
    }
   ],
   "source": [
    "_X.describe()"
   ]
  },
  {
   "cell_type": "code",
   "execution_count": 38,
   "id": "ec680b4c-b630-4c3b-bb5a-a8ec6edf30bf",
   "metadata": {},
   "outputs": [
    {
     "data": {
      "text/plain": [
       "NOC2L       0.679536\n",
       "HES4        2.495365\n",
       "ISG15       1.892361\n",
       "AGRN        1.428397\n",
       "TNFRSF18    0.390039\n",
       "dtype: float64"
      ]
     },
     "execution_count": 38,
     "metadata": {},
     "output_type": "execute_result"
    }
   ],
   "source": [
    "_y.head()"
   ]
  },
  {
   "cell_type": "code",
   "execution_count": 39,
   "id": "8523c426-33e5-4b6d-961b-976997f139b7",
   "metadata": {},
   "outputs": [],
   "source": [
    "def standardize_data(X, y):\n",
    "    X = X.copy()\n",
    "    y = y.copy()\n",
    "\n",
    "    c = [c for c in X.columns if c != \"const\"]\n",
    "    X[c] = (X[c] - X[c].mean()) / X[c].std()\n",
    "\n",
    "    return X, (y - y.mean()) / y.std()"
   ]
  },
  {
   "cell_type": "code",
   "execution_count": 40,
   "id": "16ee41fa-fa9a-4529-85a5-8f267c22ec92",
   "metadata": {},
   "outputs": [],
   "source": [
    "def get_aligned_corr_mat(X, perc=1.0):\n",
    "    # perc == 1.0 means select all nonzero genes;\n",
    "    # perc = None means do not subset the correlation matrix\n",
    "    gene_corrs = orig_corr_mat.loc[X.index, X.index]\n",
    "\n",
    "    if perc is None:\n",
    "        return gene_corrs\n",
    "\n",
    "    corr_mat_sub = pd.DataFrame(\n",
    "        np.identity(gene_corrs.shape[0]),\n",
    "        index=gene_corrs.index.copy(),\n",
    "        columns=gene_corrs.columns.copy(),\n",
    "    )\n",
    "\n",
    "    X = X.iloc[:, 1]\n",
    "\n",
    "    X_non_zero = X[X > 0]\n",
    "    X_thres = X_non_zero.quantile(1 - perc)\n",
    "    lv_nonzero_genes = X[X >= X_thres].index\n",
    "\n",
    "    lv_nonzero_genes = lv_nonzero_genes.intersection(gene_corrs.index)\n",
    "    corr_mat_sub.loc[lv_nonzero_genes, lv_nonzero_genes] = gene_corrs.loc[\n",
    "        lv_nonzero_genes, lv_nonzero_genes\n",
    "    ]\n",
    "\n",
    "    return corr_mat_sub"
   ]
  },
  {
   "cell_type": "code",
   "execution_count": 41,
   "id": "5fd9e921-3db5-4cd2-99f7-73671c2de61d",
   "metadata": {},
   "outputs": [],
   "source": [
    "# testing\n",
    "_X_test = pd.DataFrame(\n",
    "    {\n",
    "        \"const\": 1.0,\n",
    "        \"LV1\": [1.0, 0.4, 0.0],  # the last gene has zero weight\n",
    "    },\n",
    "    index=[\n",
    "        \"PSMB10\",  # the first two genes have a high sum of correlations, to make sure the sum is not close to 1.0\n",
    "        \"SLC12A4\",\n",
    "        \"ACD\",\n",
    "    ],\n",
    ")\n",
    "\n",
    "# do not subset\n",
    "_tmp_corr = get_aligned_corr_mat(_X_test, perc=None)\n",
    "assert _tmp_corr.shape == (_X_test.shape[0], _X_test.shape[0])\n",
    "assert np.array_equal(\n",
    "    _tmp_corr.round(2).to_numpy(),\n",
    "    np.array(\n",
    "        [\n",
    "            [1.0, 0.77, 0.73],\n",
    "            [0.77, 1.0, 0.63],\n",
    "            [0.73, 0.63, 1.00],\n",
    "        ]\n",
    "    ),\n",
    ")\n",
    "\n",
    "# do subset: include all non-zero LV genes\n",
    "_tmp_corr = get_aligned_corr_mat(_X_test, perc=1.0)\n",
    "assert _tmp_corr.shape == (_X_test.shape[0], _X_test.shape[0])\n",
    "assert np.array_equal(\n",
    "    _tmp_corr.round(2).to_numpy(),\n",
    "    np.array(\n",
    "        [\n",
    "            [1.0, 0.77, 0.00],\n",
    "            [0.77, 1.0, 0.00],\n",
    "            [0.00, 0.00, 1.00],\n",
    "        ]\n",
    "    ),\n",
    ")\n",
    "\n",
    "# do subset: include all non-zero LV genes with weight > 99% percentile\n",
    "_tmp_corr = get_aligned_corr_mat(_X_test, perc=0.99)\n",
    "assert _tmp_corr.shape == (_X_test.shape[0], _X_test.shape[0])\n",
    "assert np.array_equal(\n",
    "    _tmp_corr.round(2).to_numpy(),\n",
    "    np.array(\n",
    "        [\n",
    "            [1.0, 0.00, 0.00],\n",
    "            [0.00, 1.0, 0.00],\n",
    "            [0.00, 0.00, 1.00],\n",
    "        ]\n",
    "    ),\n",
    ")"
   ]
  },
  {
   "cell_type": "code",
   "execution_count": 42,
   "id": "f1082f1a-8912-4d45-885a-b12da15271ee",
   "metadata": {},
   "outputs": [],
   "source": [
    "def train_statsmodels_gls(X, y, corr_mat):\n",
    "    gls_model = sm.GLS(y, X, sigma=corr_mat)\n",
    "    gls_results = gls_model.fit()\n",
    "    return gls_results"
   ]
  },
  {
   "cell_type": "markdown",
   "id": "bf5fb682-5e92-4662-a6c7-0353a3594838",
   "metadata": {
    "papermill": {
     "duration": 0.012899,
     "end_time": "2022-07-11T13:23:15.569947",
     "exception": false,
     "start_time": "2022-07-11T13:23:15.557048",
     "status": "completed"
    },
    "tags": []
   },
   "source": [
    "# [full corr matrix] GLS on randomly generated phenotypes"
   ]
  },
  {
   "cell_type": "code",
   "execution_count": 43,
   "id": "1b096240-e242-4bd8-af91-77b05c8de3d9",
   "metadata": {},
   "outputs": [],
   "source": [
    "PERC_NONZERO_GENES = None"
   ]
  },
  {
   "cell_type": "markdown",
   "id": "2f832b8e-cfc1-48c1-b323-4dee054b9b82",
   "metadata": {},
   "source": [
    "## Random phenotype 6 / LV45"
   ]
  },
  {
   "cell_type": "code",
   "execution_count": 44,
   "id": "260b7aeb-eeb9-48a2-8ffb-fbfd7b0c67cf",
   "metadata": {},
   "outputs": [
    {
     "data": {
      "text/plain": [
       "'multixcan-random_phenotype6-pvalues'"
      ]
     },
     "metadata": {},
     "output_type": "display_data"
    }
   ],
   "source": [
    "lv_code = \"LV45\"\n",
    "phenotype_code = 6\n",
    "\n",
    "phenotype_name = f\"multixcan-random_phenotype{phenotype_code}-pvalues\"\n",
    "display(phenotype_name)"
   ]
  },
  {
   "cell_type": "code",
   "execution_count": 45,
   "id": "57af945a-361b-4901-b5cd-f93d7cc7cfe0",
   "metadata": {},
   "outputs": [],
   "source": [
    "X, y = get_data(lv_code, random_phenotype_code=phenotype_code)\n",
    "corr_mat = get_aligned_corr_mat(X, perc=PERC_NONZERO_GENES)\n",
    "\n",
    "Xs, ys = standardize_data(X, y)\n",
    "_gls_results = train_statsmodels_gls(Xs, ys, corr_mat)"
   ]
  },
  {
   "cell_type": "code",
   "execution_count": 46,
   "id": "ebac5d34-6826-45bc-b8e3-65f83a641c5d",
   "metadata": {},
   "outputs": [
    {
     "name": "stdout",
     "output_type": "stream",
     "text": [
      "                            GLS Regression Results                            \n",
      "==============================================================================\n",
      "Dep. Variable:                      y   R-squared:                       0.000\n",
      "Model:                            GLS   Adj. R-squared:                 -0.000\n",
      "Method:                 Least Squares   F-statistic:                    0.1459\n",
      "Date:                Tue, 02 Aug 2022   Prob (F-statistic):              0.702\n",
      "Time:                        13:36:40   Log-Likelihood:                -8696.5\n",
      "No. Observations:                6442   AIC:                         1.740e+04\n",
      "Df Residuals:                    6440   BIC:                         1.741e+04\n",
      "Df Model:                           1                                         \n",
      "Covariance Type:            nonrobust                                         \n",
      "==============================================================================\n",
      "                 coef    std err          t      P>|t|      [0.025      0.975]\n",
      "------------------------------------------------------------------------------\n",
      "const          0.0271      0.024      1.121      0.262      -0.020       0.074\n",
      "LV45          -0.0033      0.009     -0.382      0.702      -0.020       0.014\n",
      "==============================================================================\n",
      "Omnibus:                      924.906   Durbin-Watson:                   1.991\n",
      "Prob(Omnibus):                  0.000   Jarque-Bera (JB):             1526.838\n",
      "Skew:                           0.970   Prob(JB):                         0.00\n",
      "Kurtosis:                       4.386   Cond. No.                         2.81\n",
      "==============================================================================\n",
      "\n",
      "Notes:\n",
      "[1] Standard Errors assume that the covariance matrix of the errors is correctly specified.\n"
     ]
    }
   ],
   "source": [
    "print(_gls_results.summary())"
   ]
  },
  {
   "cell_type": "code",
   "execution_count": 59,
   "id": "0f31bccc-1d8b-4c8e-bad4-d809496389b2",
   "metadata": {},
   "outputs": [
    {
     "name": "stdout",
     "output_type": "stream",
     "text": [
      "\n",
      "exp_coef = -0.0032814567822982274\n",
      "exp_coef_se = 0.008590718523010138\n",
      "exp_tvalue = -0.38197698754869974\n",
      "exp_pval_twosided = 0.7024910374237221\n",
      "exp_pval_onesided = 0.648754481288139\n",
      "    \n"
     ]
    }
   ],
   "source": [
    "# print full numbers\n",
    "with np.printoptions(threshold=sys.maxsize, precision=20):\n",
    "    print(\n",
    "        f\"\"\"\n",
    "exp_coef = {_gls_results.params.to_numpy()[1]}\n",
    "exp_coef_se = {_gls_results.bse.to_numpy()[1]}\n",
    "exp_tvalue = {_gls_results.tvalues.to_numpy()[1]}\n",
    "exp_pval_twosided = {_gls_results.pvalues.to_numpy()[1]}\n",
    "exp_pval_onesided = {stats.t.sf(_gls_results.tvalues.to_numpy()[1], _gls_results.df_resid)}\n",
    "    \"\"\"\n",
    "    )"
   ]
  },
  {
   "cell_type": "code",
   "execution_count": 48,
   "id": "7004657e-0595-4b9c-9fa1-fa6a8ba564a5",
   "metadata": {},
   "outputs": [
    {
     "data": {
      "text/html": [
       "<div>\n",
       "<style scoped>\n",
       "    .dataframe tbody tr th:only-of-type {\n",
       "        vertical-align: middle;\n",
       "    }\n",
       "\n",
       "    .dataframe tbody tr th {\n",
       "        vertical-align: top;\n",
       "    }\n",
       "\n",
       "    .dataframe thead th {\n",
       "        text-align: right;\n",
       "    }\n",
       "</style>\n",
       "<table border=\"1\" class=\"dataframe\">\n",
       "  <thead>\n",
       "    <tr style=\"text-align: right;\">\n",
       "      <th></th>\n",
       "      <th>const</th>\n",
       "      <th>LV45</th>\n",
       "    </tr>\n",
       "  </thead>\n",
       "  <tbody>\n",
       "    <tr>\n",
       "      <th>HIST1H2BO</th>\n",
       "      <td>1.0</td>\n",
       "      <td>8.480948</td>\n",
       "    </tr>\n",
       "    <tr>\n",
       "      <th>HIST1H2BF</th>\n",
       "      <td>1.0</td>\n",
       "      <td>8.426226</td>\n",
       "    </tr>\n",
       "    <tr>\n",
       "      <th>HIST1H2BK</th>\n",
       "      <td>1.0</td>\n",
       "      <td>8.245903</td>\n",
       "    </tr>\n",
       "    <tr>\n",
       "      <th>HIST1H2BD</th>\n",
       "      <td>1.0</td>\n",
       "      <td>8.119013</td>\n",
       "    </tr>\n",
       "    <tr>\n",
       "      <th>HIST1H2BC</th>\n",
       "      <td>1.0</td>\n",
       "      <td>7.744137</td>\n",
       "    </tr>\n",
       "    <tr>\n",
       "      <th>...</th>\n",
       "      <td>...</td>\n",
       "      <td>...</td>\n",
       "    </tr>\n",
       "    <tr>\n",
       "      <th>TREM1</th>\n",
       "      <td>1.0</td>\n",
       "      <td>0.000000</td>\n",
       "    </tr>\n",
       "    <tr>\n",
       "      <th>TREML2</th>\n",
       "      <td>1.0</td>\n",
       "      <td>0.000000</td>\n",
       "    </tr>\n",
       "    <tr>\n",
       "      <th>TREM2</th>\n",
       "      <td>1.0</td>\n",
       "      <td>0.000000</td>\n",
       "    </tr>\n",
       "    <tr>\n",
       "      <th>NFYA</th>\n",
       "      <td>1.0</td>\n",
       "      <td>0.000000</td>\n",
       "    </tr>\n",
       "    <tr>\n",
       "      <th>SHANK3</th>\n",
       "      <td>1.0</td>\n",
       "      <td>0.000000</td>\n",
       "    </tr>\n",
       "  </tbody>\n",
       "</table>\n",
       "<p>6442 rows × 2 columns</p>\n",
       "</div>"
      ],
      "text/plain": [
       "           const      LV45\n",
       "HIST1H2BO    1.0  8.480948\n",
       "HIST1H2BF    1.0  8.426226\n",
       "HIST1H2BK    1.0  8.245903\n",
       "HIST1H2BD    1.0  8.119013\n",
       "HIST1H2BC    1.0  7.744137\n",
       "...          ...       ...\n",
       "TREM1        1.0  0.000000\n",
       "TREML2       1.0  0.000000\n",
       "TREM2        1.0  0.000000\n",
       "NFYA         1.0  0.000000\n",
       "SHANK3       1.0  0.000000\n",
       "\n",
       "[6442 rows x 2 columns]"
      ]
     },
     "execution_count": 48,
     "metadata": {},
     "output_type": "execute_result"
    }
   ],
   "source": [
    "X.sort_values(lv_code, ascending=False)"
   ]
  },
  {
   "cell_type": "code",
   "execution_count": 49,
   "id": "4ee8aaff-5e86-4a62-b2be-9dee462c0456",
   "metadata": {},
   "outputs": [
    {
     "data": {
      "text/html": [
       "<div>\n",
       "<style scoped>\n",
       "    .dataframe tbody tr th:only-of-type {\n",
       "        vertical-align: middle;\n",
       "    }\n",
       "\n",
       "    .dataframe tbody tr th {\n",
       "        vertical-align: top;\n",
       "    }\n",
       "\n",
       "    .dataframe thead th {\n",
       "        text-align: right;\n",
       "    }\n",
       "</style>\n",
       "<table border=\"1\" class=\"dataframe\">\n",
       "  <thead>\n",
       "    <tr style=\"text-align: right;\">\n",
       "      <th></th>\n",
       "      <th>const</th>\n",
       "      <th>LV45</th>\n",
       "    </tr>\n",
       "  </thead>\n",
       "  <tbody>\n",
       "    <tr>\n",
       "      <th>HIST1H2BO</th>\n",
       "      <td>1.0</td>\n",
       "      <td>27.865226</td>\n",
       "    </tr>\n",
       "    <tr>\n",
       "      <th>HIST1H2BF</th>\n",
       "      <td>1.0</td>\n",
       "      <td>27.685041</td>\n",
       "    </tr>\n",
       "    <tr>\n",
       "      <th>HIST1H2BK</th>\n",
       "      <td>1.0</td>\n",
       "      <td>27.091293</td>\n",
       "    </tr>\n",
       "    <tr>\n",
       "      <th>HIST1H2BD</th>\n",
       "      <td>1.0</td>\n",
       "      <td>26.673482</td>\n",
       "    </tr>\n",
       "    <tr>\n",
       "      <th>HIST1H2BC</th>\n",
       "      <td>1.0</td>\n",
       "      <td>25.439130</td>\n",
       "    </tr>\n",
       "    <tr>\n",
       "      <th>...</th>\n",
       "      <td>...</td>\n",
       "      <td>...</td>\n",
       "    </tr>\n",
       "    <tr>\n",
       "      <th>TREM1</th>\n",
       "      <td>1.0</td>\n",
       "      <td>-0.059957</td>\n",
       "    </tr>\n",
       "    <tr>\n",
       "      <th>TREML2</th>\n",
       "      <td>1.0</td>\n",
       "      <td>-0.059957</td>\n",
       "    </tr>\n",
       "    <tr>\n",
       "      <th>TREM2</th>\n",
       "      <td>1.0</td>\n",
       "      <td>-0.059957</td>\n",
       "    </tr>\n",
       "    <tr>\n",
       "      <th>NFYA</th>\n",
       "      <td>1.0</td>\n",
       "      <td>-0.059957</td>\n",
       "    </tr>\n",
       "    <tr>\n",
       "      <th>SHANK3</th>\n",
       "      <td>1.0</td>\n",
       "      <td>-0.059957</td>\n",
       "    </tr>\n",
       "  </tbody>\n",
       "</table>\n",
       "<p>6442 rows × 2 columns</p>\n",
       "</div>"
      ],
      "text/plain": [
       "           const       LV45\n",
       "HIST1H2BO    1.0  27.865226\n",
       "HIST1H2BF    1.0  27.685041\n",
       "HIST1H2BK    1.0  27.091293\n",
       "HIST1H2BD    1.0  26.673482\n",
       "HIST1H2BC    1.0  25.439130\n",
       "...          ...        ...\n",
       "TREM1        1.0  -0.059957\n",
       "TREML2       1.0  -0.059957\n",
       "TREM2        1.0  -0.059957\n",
       "NFYA         1.0  -0.059957\n",
       "SHANK3       1.0  -0.059957\n",
       "\n",
       "[6442 rows x 2 columns]"
      ]
     },
     "execution_count": 49,
     "metadata": {},
     "output_type": "execute_result"
    }
   ],
   "source": [
    "Xs.sort_values(lv_code, ascending=False)"
   ]
  },
  {
   "cell_type": "code",
   "execution_count": 50,
   "id": "390aa1f7-461f-4f79-897b-dc927c6cb45e",
   "metadata": {},
   "outputs": [
    {
     "data": {
      "text/plain": [
       "CHPF2     4.039680\n",
       "PRR5      3.726033\n",
       "MMP12     3.686147\n",
       "RBM38     3.581041\n",
       "SOS1      3.528183\n",
       "            ...   \n",
       "GPX3      0.000826\n",
       "SUOX      0.000686\n",
       "SPRED2    0.000364\n",
       "DEGS1     0.000152\n",
       "SAFB      0.000072\n",
       "Length: 6442, dtype: float64"
      ]
     },
     "execution_count": 50,
     "metadata": {},
     "output_type": "execute_result"
    }
   ],
   "source": [
    "y.sort_values(ascending=False)"
   ]
  },
  {
   "cell_type": "code",
   "execution_count": 51,
   "id": "3ffd3129-3261-41ad-a2a1-d59a2f8bb988",
   "metadata": {},
   "outputs": [
    {
     "data": {
      "text/plain": [
       "CHPF2     5.607324\n",
       "PRR5      5.070443\n",
       "MMP12     5.002169\n",
       "RBM38     4.822255\n",
       "SOS1      4.731776\n",
       "            ...   \n",
       "GPX3     -1.306133\n",
       "SUOX     -1.306373\n",
       "SPRED2   -1.306924\n",
       "DEGS1    -1.307288\n",
       "SAFB     -1.307425\n",
       "Length: 6442, dtype: float64"
      ]
     },
     "execution_count": 51,
     "metadata": {},
     "output_type": "execute_result"
    }
   ],
   "source": [
    "ys.sort_values(ascending=False)"
   ]
  },
  {
   "cell_type": "code",
   "execution_count": 52,
   "id": "964aa3fb-7e6b-4a30-a5b4-e3a7c65e39f3",
   "metadata": {},
   "outputs": [],
   "source": [
    "# save phenotype\n",
    "y.to_pickle(OUTPUT_DIR / f\"{phenotype_name}.pkl.xz\")"
   ]
  },
  {
   "cell_type": "code",
   "execution_count": 53,
   "id": "6ea29e70-624b-4ee2-9d4e-dfabfaced57d",
   "metadata": {},
   "outputs": [
    {
     "name": "stdout",
     "output_type": "stream",
     "text": [
      "                            OLS Regression Results                            \n",
      "==============================================================================\n",
      "Dep. Variable:                      y   R-squared:                       0.001\n",
      "Model:                            OLS   Adj. R-squared:                  0.000\n",
      "Method:                 Least Squares   F-statistic:                     3.428\n",
      "Date:                Tue, 02 Aug 2022   Prob (F-statistic):             0.0642\n",
      "Time:                        13:44:55   Log-Likelihood:                -9138.6\n",
      "No. Observations:                6442   AIC:                         1.828e+04\n",
      "Df Residuals:                    6440   BIC:                         1.829e+04\n",
      "Df Model:                           1                                         \n",
      "Covariance Type:            nonrobust                                         \n",
      "==============================================================================\n",
      "                 coef    std err          t      P>|t|      [0.025      0.975]\n",
      "------------------------------------------------------------------------------\n",
      "const      -1.505e-16      0.012  -1.21e-14      1.000      -0.024       0.024\n",
      "LV45          -0.0231      0.012     -1.851      0.064      -0.047       0.001\n",
      "==============================================================================\n",
      "Omnibus:                     1102.473   Durbin-Watson:                   1.631\n",
      "Prob(Omnibus):                  0.000   Jarque-Bera (JB):             1887.693\n",
      "Skew:                           1.118   Prob(JB):                         0.00\n",
      "Kurtosis:                       4.425   Cond. No.                         1.00\n",
      "==============================================================================\n",
      "\n",
      "Notes:\n",
      "[1] Standard Errors assume that the covariance matrix of the errors is correctly specified.\n"
     ]
    }
   ],
   "source": [
    "# for debugging purposes I print the OLS results also\n",
    "_tmp_model = sm.OLS(ys, Xs)\n",
    "_tmp_results = _tmp_model.fit()\n",
    "print(_tmp_results.summary())"
   ]
  },
  {
   "cell_type": "markdown",
   "id": "65e3c753-bf07-47b9-9248-bbe2041a079b",
   "metadata": {},
   "source": [
    "## Random phenotype 6 / LV455"
   ]
  },
  {
   "cell_type": "code",
   "execution_count": 60,
   "id": "f8b2369f-9009-4ecd-ad10-c4c1f12d5d6f",
   "metadata": {},
   "outputs": [
    {
     "data": {
      "text/plain": [
       "'multixcan-random_phenotype6-pvalues'"
      ]
     },
     "metadata": {},
     "output_type": "display_data"
    }
   ],
   "source": [
    "lv_code = \"LV455\"\n",
    "phenotype_code = 6\n",
    "\n",
    "phenotype_name = f\"multixcan-random_phenotype{phenotype_code}-pvalues\"\n",
    "display(phenotype_name)"
   ]
  },
  {
   "cell_type": "code",
   "execution_count": 61,
   "id": "2bb07ce6-e81c-4244-bc2b-4114e30e9b5c",
   "metadata": {},
   "outputs": [],
   "source": [
    "X, y = get_data(lv_code, random_phenotype_code=phenotype_code)\n",
    "corr_mat = get_aligned_corr_mat(X, perc=PERC_NONZERO_GENES)\n",
    "\n",
    "Xs, ys = standardize_data(X, y)\n",
    "_gls_results = train_statsmodels_gls(Xs, ys, corr_mat)"
   ]
  },
  {
   "cell_type": "code",
   "execution_count": 62,
   "id": "37f4074f-d433-451f-96c4-be2e9676088d",
   "metadata": {},
   "outputs": [
    {
     "name": "stdout",
     "output_type": "stream",
     "text": [
      "                            GLS Regression Results                            \n",
      "==============================================================================\n",
      "Dep. Variable:                      y   R-squared:                       0.000\n",
      "Model:                            GLS   Adj. R-squared:                 -0.000\n",
      "Method:                 Least Squares   F-statistic:                   0.02033\n",
      "Date:                Tue, 02 Aug 2022   Prob (F-statistic):              0.887\n",
      "Time:                        13:53:21   Log-Likelihood:                -8696.6\n",
      "No. Observations:                6442   AIC:                         1.740e+04\n",
      "Df Residuals:                    6440   BIC:                         1.741e+04\n",
      "Df Model:                           1                                         \n",
      "Covariance Type:            nonrobust                                         \n",
      "==============================================================================\n",
      "                 coef    std err          t      P>|t|      [0.025      0.975]\n",
      "------------------------------------------------------------------------------\n",
      "const          0.0272      0.024      1.127      0.260      -0.020       0.075\n",
      "LV455          0.0016      0.011      0.143      0.887      -0.020       0.023\n",
      "==============================================================================\n",
      "Omnibus:                      925.342   Durbin-Watson:                   1.991\n",
      "Prob(Omnibus):                  0.000   Jarque-Bera (JB):             1527.700\n",
      "Skew:                           0.971   Prob(JB):                         0.00\n",
      "Kurtosis:                       4.387   Cond. No.                         2.19\n",
      "==============================================================================\n",
      "\n",
      "Notes:\n",
      "[1] Standard Errors assume that the covariance matrix of the errors is correctly specified.\n"
     ]
    }
   ],
   "source": [
    "print(_gls_results.summary())"
   ]
  },
  {
   "cell_type": "code",
   "execution_count": 63,
   "id": "43b90ed2-d93d-4385-87f0-3d65ee6e42f4",
   "metadata": {},
   "outputs": [
    {
     "name": "stdout",
     "output_type": "stream",
     "text": [
      "\n",
      "exp_coef = 0.0015724547818453105\n",
      "exp_coef_se = 0.011027453856403382\n",
      "exp_tvalue = 0.1425945465128583\n",
      "exp_pval_twosided = 0.8866148655455224\n",
      "exp_pval_onesided = 0.4433074327727612\n",
      "    \n"
     ]
    }
   ],
   "source": [
    "# print full numbers\n",
    "with np.printoptions(threshold=sys.maxsize, precision=20):\n",
    "    print(\n",
    "        f\"\"\"\n",
    "exp_coef = {_gls_results.params.to_numpy()[1]}\n",
    "exp_coef_se = {_gls_results.bse.to_numpy()[1]}\n",
    "exp_tvalue = {_gls_results.tvalues.to_numpy()[1]}\n",
    "exp_pval_twosided = {_gls_results.pvalues.to_numpy()[1]}\n",
    "exp_pval_onesided = {stats.t.sf(_gls_results.tvalues.to_numpy()[1], _gls_results.df_resid)}\n",
    "    \"\"\"\n",
    "    )"
   ]
  },
  {
   "cell_type": "code",
   "execution_count": 64,
   "id": "f4da113e-7563-49e6-a76b-8c6ee7e8b1b8",
   "metadata": {},
   "outputs": [
    {
     "data": {
      "text/html": [
       "<div>\n",
       "<style scoped>\n",
       "    .dataframe tbody tr th:only-of-type {\n",
       "        vertical-align: middle;\n",
       "    }\n",
       "\n",
       "    .dataframe tbody tr th {\n",
       "        vertical-align: top;\n",
       "    }\n",
       "\n",
       "    .dataframe thead th {\n",
       "        text-align: right;\n",
       "    }\n",
       "</style>\n",
       "<table border=\"1\" class=\"dataframe\">\n",
       "  <thead>\n",
       "    <tr style=\"text-align: right;\">\n",
       "      <th></th>\n",
       "      <th>const</th>\n",
       "      <th>LV455</th>\n",
       "    </tr>\n",
       "  </thead>\n",
       "  <tbody>\n",
       "    <tr>\n",
       "      <th>CACNA1A</th>\n",
       "      <td>1.0</td>\n",
       "      <td>8.294351</td>\n",
       "    </tr>\n",
       "    <tr>\n",
       "      <th>ZNF26</th>\n",
       "      <td>1.0</td>\n",
       "      <td>7.956442</td>\n",
       "    </tr>\n",
       "    <tr>\n",
       "      <th>ARHGAP42</th>\n",
       "      <td>1.0</td>\n",
       "      <td>5.592084</td>\n",
       "    </tr>\n",
       "    <tr>\n",
       "      <th>UBE2B</th>\n",
       "      <td>1.0</td>\n",
       "      <td>5.379685</td>\n",
       "    </tr>\n",
       "    <tr>\n",
       "      <th>GAB2</th>\n",
       "      <td>1.0</td>\n",
       "      <td>3.946462</td>\n",
       "    </tr>\n",
       "    <tr>\n",
       "      <th>...</th>\n",
       "      <td>...</td>\n",
       "      <td>...</td>\n",
       "    </tr>\n",
       "    <tr>\n",
       "      <th>ZNF655</th>\n",
       "      <td>1.0</td>\n",
       "      <td>0.000000</td>\n",
       "    </tr>\n",
       "    <tr>\n",
       "      <th>ZKSCAN5</th>\n",
       "      <td>1.0</td>\n",
       "      <td>0.000000</td>\n",
       "    </tr>\n",
       "    <tr>\n",
       "      <th>ZNF394</th>\n",
       "      <td>1.0</td>\n",
       "      <td>0.000000</td>\n",
       "    </tr>\n",
       "    <tr>\n",
       "      <th>ATP5J2</th>\n",
       "      <td>1.0</td>\n",
       "      <td>0.000000</td>\n",
       "    </tr>\n",
       "    <tr>\n",
       "      <th>SHANK3</th>\n",
       "      <td>1.0</td>\n",
       "      <td>0.000000</td>\n",
       "    </tr>\n",
       "  </tbody>\n",
       "</table>\n",
       "<p>6442 rows × 2 columns</p>\n",
       "</div>"
      ],
      "text/plain": [
       "          const     LV455\n",
       "CACNA1A     1.0  8.294351\n",
       "ZNF26       1.0  7.956442\n",
       "ARHGAP42    1.0  5.592084\n",
       "UBE2B       1.0  5.379685\n",
       "GAB2        1.0  3.946462\n",
       "...         ...       ...\n",
       "ZNF655      1.0  0.000000\n",
       "ZKSCAN5     1.0  0.000000\n",
       "ZNF394      1.0  0.000000\n",
       "ATP5J2      1.0  0.000000\n",
       "SHANK3      1.0  0.000000\n",
       "\n",
       "[6442 rows x 2 columns]"
      ]
     },
     "execution_count": 64,
     "metadata": {},
     "output_type": "execute_result"
    }
   ],
   "source": [
    "X.sort_values(lv_code, ascending=False)"
   ]
  },
  {
   "cell_type": "code",
   "execution_count": 65,
   "id": "965dacd9-e83c-4919-9dbe-2cf6dc3778f2",
   "metadata": {},
   "outputs": [
    {
     "data": {
      "text/plain": [
       "CHPF2     4.039680\n",
       "PRR5      3.726033\n",
       "MMP12     3.686147\n",
       "RBM38     3.581041\n",
       "SOS1      3.528183\n",
       "            ...   \n",
       "GPX3      0.000826\n",
       "SUOX      0.000686\n",
       "SPRED2    0.000364\n",
       "DEGS1     0.000152\n",
       "SAFB      0.000072\n",
       "Length: 6442, dtype: float64"
      ]
     },
     "execution_count": 65,
     "metadata": {},
     "output_type": "execute_result"
    }
   ],
   "source": [
    "y.sort_values(ascending=False)"
   ]
  },
  {
   "cell_type": "code",
   "execution_count": 66,
   "id": "4e5e52d0-af7b-4b66-805e-576bbb6f7e13",
   "metadata": {},
   "outputs": [],
   "source": [
    "# save phenotype\n",
    "y.to_pickle(OUTPUT_DIR / f\"{phenotype_name}.pkl.xz\")"
   ]
  },
  {
   "cell_type": "code",
   "execution_count": 67,
   "id": "162b2ae0-1a42-4945-b1f8-0756899d3b42",
   "metadata": {},
   "outputs": [
    {
     "name": "stdout",
     "output_type": "stream",
     "text": [
      "                            OLS Regression Results                            \n",
      "==============================================================================\n",
      "Dep. Variable:                      y   R-squared:                       0.000\n",
      "Model:                            OLS   Adj. R-squared:                 -0.000\n",
      "Method:                 Least Squares   F-statistic:                    0.2985\n",
      "Date:                Tue, 02 Aug 2022   Prob (F-statistic):              0.585\n",
      "Time:                        13:53:21   Log-Likelihood:                -5677.5\n",
      "No. Observations:                6442   AIC:                         1.136e+04\n",
      "Df Residuals:                    6440   BIC:                         1.137e+04\n",
      "Df Model:                           1                                         \n",
      "Covariance Type:            nonrobust                                         \n",
      "==============================================================================\n",
      "                 coef    std err          t      P>|t|      [0.025      0.975]\n",
      "------------------------------------------------------------------------------\n",
      "const          0.7636      0.007    104.576      0.000       0.749       0.778\n",
      "LV455          0.0199      0.037      0.546      0.585      -0.052       0.091\n",
      "==============================================================================\n",
      "Omnibus:                     1104.987   Durbin-Watson:                   1.631\n",
      "Prob(Omnibus):                  0.000   Jarque-Bera (JB):             1893.958\n",
      "Skew:                           1.120   Prob(JB):                         0.00\n",
      "Kurtosis:                       4.428   Cond. No.                         5.02\n",
      "==============================================================================\n",
      "\n",
      "Notes:\n",
      "[1] Standard Errors assume that the covariance matrix of the errors is correctly specified.\n"
     ]
    }
   ],
   "source": [
    "# for debugging purposes I print the OLS results also\n",
    "_tmp_model = sm.OLS(y, X)\n",
    "_tmp_results = _tmp_model.fit()\n",
    "print(_tmp_results.summary())"
   ]
  },
  {
   "cell_type": "markdown",
   "id": "ec4be667-0372-4c43-8d23-bb8915f4749b",
   "metadata": {},
   "source": [
    "## Random phenotype 0 / LV801"
   ]
  },
  {
   "cell_type": "code",
   "execution_count": 68,
   "id": "a387299e-ab0c-4425-b5e5-322fd01e8897",
   "metadata": {},
   "outputs": [
    {
     "data": {
      "text/plain": [
       "'multixcan-random_phenotype0-pvalues'"
      ]
     },
     "metadata": {},
     "output_type": "display_data"
    }
   ],
   "source": [
    "lv_code = \"LV801\"\n",
    "phenotype_code = 0\n",
    "\n",
    "phenotype_name = f\"multixcan-random_phenotype{phenotype_code}-pvalues\"\n",
    "display(phenotype_name)"
   ]
  },
  {
   "cell_type": "code",
   "execution_count": 69,
   "id": "0b39fa86-e789-4776-9810-aba34bc59c7d",
   "metadata": {},
   "outputs": [],
   "source": [
    "X, y = get_data(lv_code, random_phenotype_code=phenotype_code)\n",
    "corr_mat = get_aligned_corr_mat(X, perc=PERC_NONZERO_GENES)\n",
    "\n",
    "Xs, ys = standardize_data(X, y)\n",
    "_gls_results = train_statsmodels_gls(Xs, ys, corr_mat)"
   ]
  },
  {
   "cell_type": "code",
   "execution_count": 70,
   "id": "9275ada7-d0df-4b80-825e-9f0886089057",
   "metadata": {},
   "outputs": [
    {
     "name": "stdout",
     "output_type": "stream",
     "text": [
      "                            GLS Regression Results                            \n",
      "==============================================================================\n",
      "Dep. Variable:                      y   R-squared:                       0.000\n",
      "Model:                            GLS   Adj. R-squared:                 -0.000\n",
      "Method:                 Least Squares   F-statistic:                    0.5098\n",
      "Date:                Tue, 02 Aug 2022   Prob (F-statistic):              0.475\n",
      "Time:                        13:54:08   Log-Likelihood:                -8681.3\n",
      "No. Observations:                6442   AIC:                         1.737e+04\n",
      "Df Residuals:                    6440   BIC:                         1.738e+04\n",
      "Df Model:                           1                                         \n",
      "Covariance Type:            nonrobust                                         \n",
      "==============================================================================\n",
      "                 coef    std err          t      P>|t|      [0.025      0.975]\n",
      "------------------------------------------------------------------------------\n",
      "const         -0.0215      0.024     -0.892      0.373      -0.069       0.026\n",
      "LV801          0.0078      0.011      0.714      0.475      -0.014       0.029\n",
      "==============================================================================\n",
      "Omnibus:                     1358.482   Durbin-Watson:                   2.033\n",
      "Prob(Omnibus):                  0.000   Jarque-Bera (JB):             3559.000\n",
      "Skew:                           1.137   Prob(JB):                         0.00\n",
      "Kurtosis:                       5.844   Cond. No.                         2.20\n",
      "==============================================================================\n",
      "\n",
      "Notes:\n",
      "[1] Standard Errors assume that the covariance matrix of the errors is correctly specified.\n"
     ]
    }
   ],
   "source": [
    "print(_gls_results.summary())"
   ]
  },
  {
   "cell_type": "code",
   "execution_count": 71,
   "id": "8dcd2547-8cbc-4218-8e6d-08e874dbe9ce",
   "metadata": {},
   "outputs": [
    {
     "name": "stdout",
     "output_type": "stream",
     "text": [
      "\n",
      "exp_coef = 0.007824760447674654\n",
      "exp_coef_se = 0.010959087123929062\n",
      "exp_tvalue = 0.7139974670508243\n",
      "exp_pval_twosided = 0.47525462160232723\n",
      "exp_pval_onesided = 0.23762731080116362\n",
      "    \n"
     ]
    }
   ],
   "source": [
    "# print full numbers\n",
    "with np.printoptions(threshold=sys.maxsize, precision=20):\n",
    "    print(\n",
    "        f\"\"\"\n",
    "exp_coef = {_gls_results.params.to_numpy()[1]}\n",
    "exp_coef_se = {_gls_results.bse.to_numpy()[1]}\n",
    "exp_tvalue = {_gls_results.tvalues.to_numpy()[1]}\n",
    "exp_pval_twosided = {_gls_results.pvalues.to_numpy()[1]}\n",
    "exp_pval_onesided = {stats.t.sf(_gls_results.tvalues.to_numpy()[1], _gls_results.df_resid)}\n",
    "    \"\"\"\n",
    "    )"
   ]
  },
  {
   "cell_type": "code",
   "execution_count": 72,
   "id": "38f466f2-9178-4557-b6e2-f5326fd8dee9",
   "metadata": {},
   "outputs": [
    {
     "data": {
      "text/html": [
       "<div>\n",
       "<style scoped>\n",
       "    .dataframe tbody tr th:only-of-type {\n",
       "        vertical-align: middle;\n",
       "    }\n",
       "\n",
       "    .dataframe tbody tr th {\n",
       "        vertical-align: top;\n",
       "    }\n",
       "\n",
       "    .dataframe thead th {\n",
       "        text-align: right;\n",
       "    }\n",
       "</style>\n",
       "<table border=\"1\" class=\"dataframe\">\n",
       "  <thead>\n",
       "    <tr style=\"text-align: right;\">\n",
       "      <th></th>\n",
       "      <th>const</th>\n",
       "      <th>LV801</th>\n",
       "    </tr>\n",
       "  </thead>\n",
       "  <tbody>\n",
       "    <tr>\n",
       "      <th>SPATS2</th>\n",
       "      <td>1.0</td>\n",
       "      <td>7.137544</td>\n",
       "    </tr>\n",
       "    <tr>\n",
       "      <th>SSR3</th>\n",
       "      <td>1.0</td>\n",
       "      <td>6.096376</td>\n",
       "    </tr>\n",
       "    <tr>\n",
       "      <th>H3F3C</th>\n",
       "      <td>1.0</td>\n",
       "      <td>4.471034</td>\n",
       "    </tr>\n",
       "    <tr>\n",
       "      <th>COLEC12</th>\n",
       "      <td>1.0</td>\n",
       "      <td>4.057876</td>\n",
       "    </tr>\n",
       "    <tr>\n",
       "      <th>AP4M1</th>\n",
       "      <td>1.0</td>\n",
       "      <td>2.904084</td>\n",
       "    </tr>\n",
       "  </tbody>\n",
       "</table>\n",
       "</div>"
      ],
      "text/plain": [
       "         const     LV801\n",
       "SPATS2     1.0  7.137544\n",
       "SSR3       1.0  6.096376\n",
       "H3F3C      1.0  4.471034\n",
       "COLEC12    1.0  4.057876\n",
       "AP4M1      1.0  2.904084"
      ]
     },
     "execution_count": 72,
     "metadata": {},
     "output_type": "execute_result"
    }
   ],
   "source": [
    "X.sort_values(lv_code, ascending=False).head()"
   ]
  },
  {
   "cell_type": "code",
   "execution_count": 73,
   "id": "6f387e1b-ade6-43ee-9d5a-91df455ae15d",
   "metadata": {},
   "outputs": [
    {
     "data": {
      "text/plain": [
       "GPATCH1    3.951082\n",
       "NFKBIA     3.900707\n",
       "TTC5       3.870256\n",
       "ZNF17      3.807992\n",
       "ZNF563     3.747230\n",
       "dtype: float64"
      ]
     },
     "execution_count": 73,
     "metadata": {},
     "output_type": "execute_result"
    }
   ],
   "source": [
    "y.sort_values(ascending=False).head()"
   ]
  },
  {
   "cell_type": "code",
   "execution_count": 74,
   "id": "7016bfd2-f27b-41f6-9ffc-27135bb2f1ce",
   "metadata": {},
   "outputs": [],
   "source": [
    "# save phenotype\n",
    "y.to_pickle(OUTPUT_DIR / f\"{phenotype_name}.pkl.xz\")"
   ]
  },
  {
   "cell_type": "code",
   "execution_count": 75,
   "id": "83d6698e-ccd5-48ca-a3e8-9e9b049e0d79",
   "metadata": {},
   "outputs": [
    {
     "name": "stdout",
     "output_type": "stream",
     "text": [
      "                            OLS Regression Results                            \n",
      "==============================================================================\n",
      "Dep. Variable:                      y   R-squared:                       0.000\n",
      "Model:                            OLS   Adj. R-squared:                  0.000\n",
      "Method:                 Least Squares   F-statistic:                     2.062\n",
      "Date:                Tue, 02 Aug 2022   Prob (F-statistic):              0.151\n",
      "Time:                        13:54:08   Log-Likelihood:                -5895.9\n",
      "No. Observations:                6442   AIC:                         1.180e+04\n",
      "Df Residuals:                    6440   BIC:                         1.181e+04\n",
      "Df Model:                           1                                         \n",
      "Covariance Type:            nonrobust                                         \n",
      "==============================================================================\n",
      "                 coef    std err          t      P>|t|      [0.025      0.975]\n",
      "------------------------------------------------------------------------------\n",
      "const          0.7707      0.008    101.281      0.000       0.756       0.786\n",
      "LV801          0.0634      0.044      1.436      0.151      -0.023       0.150\n",
      "==============================================================================\n",
      "Omnibus:                     1075.291   Durbin-Watson:                   1.618\n",
      "Prob(Omnibus):                  0.000   Jarque-Bera (JB):             1793.882\n",
      "Skew:                           1.110   Prob(JB):                         0.00\n",
      "Kurtosis:                       4.324   Cond. No.                         5.87\n",
      "==============================================================================\n",
      "\n",
      "Notes:\n",
      "[1] Standard Errors assume that the covariance matrix of the errors is correctly specified.\n"
     ]
    }
   ],
   "source": [
    "# for debugging purposes I print the OLS results also\n",
    "_tmp_model = sm.OLS(y, X)\n",
    "_tmp_results = _tmp_model.fit()\n",
    "print(_tmp_results.summary())"
   ]
  },
  {
   "cell_type": "markdown",
   "id": "c61d3662-1ac7-4bb5-989d-5fe3708d7bae",
   "metadata": {
    "papermill": {
     "duration": 0.012899,
     "end_time": "2022-07-11T13:23:15.569947",
     "exception": false,
     "start_time": "2022-07-11T13:23:15.557048",
     "status": "completed"
    },
    "tags": []
   },
   "source": [
    "# [sub corr matrix ] GLS on randomly generated phenotypes"
   ]
  },
  {
   "cell_type": "code",
   "execution_count": null,
   "id": "e891f483-ce8d-4d9d-8aeb-4f251837812f",
   "metadata": {},
   "outputs": [],
   "source": [
    "PERC_NONZERO_GENES = 1.00"
   ]
  },
  {
   "cell_type": "markdown",
   "id": "8e89a38f-3586-43c6-a9e9-7f0364ae12c9",
   "metadata": {},
   "source": [
    "## Random phenotype 6 / LV45"
   ]
  },
  {
   "cell_type": "code",
   "execution_count": null,
   "id": "331460e1-4722-4579-8dca-3cd337424bca",
   "metadata": {},
   "outputs": [],
   "source": [
    "lv_code = \"LV45\"\n",
    "phenotype_code = 6\n",
    "\n",
    "phenotype_name = f\"multixcan-random_phenotype{phenotype_code}-pvalues\"\n",
    "display(phenotype_name)"
   ]
  },
  {
   "cell_type": "code",
   "execution_count": null,
   "id": "d3e8b704-0d0f-4720-a98f-525b0c2bb300",
   "metadata": {},
   "outputs": [],
   "source": [
    "X, y = get_data(lv_code, random_phenotype_code=phenotype_code)\n",
    "corr_mat = get_aligned_corr_mat(X, perc=PERC_NONZERO_GENES)\n",
    "\n",
    "Xs, ys = standardize_data(X, y)\n",
    "_gls_results = train_statsmodels_gls(Xs, ys, corr_mat)"
   ]
  },
  {
   "cell_type": "code",
   "execution_count": null,
   "id": "f8795e2d-1f9c-4320-8a47-50d60c97bfe4",
   "metadata": {},
   "outputs": [],
   "source": [
    "print(_gls_results.summary())"
   ]
  },
  {
   "cell_type": "code",
   "execution_count": null,
   "id": "bc89908f-8536-4289-b95f-189e2800395d",
   "metadata": {},
   "outputs": [],
   "source": [
    "# for debugging purposes I print the OLS results also\n",
    "_tmp_model = sm.OLS(y, X)\n",
    "_tmp_results = _tmp_model.fit()\n",
    "print(_tmp_results.summary())"
   ]
  },
  {
   "cell_type": "code",
   "execution_count": null,
   "id": "c1597a73-4851-4dc9-a33d-a65d5a3ed9a7",
   "metadata": {},
   "outputs": [],
   "source": [
    "# print full numbers\n",
    "with np.printoptions(threshold=sys.maxsize, precision=20):\n",
    "    print(_gls_results.params.to_numpy()[1])\n",
    "    print(_gls_results.bse.to_numpy()[1])\n",
    "    print(_gls_results.tvalues.to_numpy()[1])\n",
    "    print(_gls_results.pvalues.to_numpy()[1])\n",
    "    print(stats.t.sf(_gls_results.tvalues.to_numpy()[1], _gls_results.df_resid))"
   ]
  },
  {
   "cell_type": "code",
   "execution_count": null,
   "id": "13160101-6f98-4eed-b99c-1234fff84d17",
   "metadata": {},
   "outputs": [],
   "source": [
    "X.sort_values(lv_code, ascending=False).head()"
   ]
  },
  {
   "cell_type": "code",
   "execution_count": null,
   "id": "c1b3c9d9-be48-43eb-8373-980d8411c49b",
   "metadata": {},
   "outputs": [],
   "source": [
    "y.sort_values(ascending=False).head()"
   ]
  },
  {
   "cell_type": "code",
   "execution_count": null,
   "id": "30428b4b-31ef-4ca5-aeb4-3e3ccbc9df38",
   "metadata": {},
   "outputs": [],
   "source": [
    "# save phenotype\n",
    "y.to_pickle(OUTPUT_DIR / f\"{phenotype_name}.pkl.xz\")"
   ]
  },
  {
   "cell_type": "markdown",
   "id": "9da1adf4-9f0c-4845-9658-6dc75f85d97c",
   "metadata": {},
   "source": [
    "## Random phenotype 6 / LV455"
   ]
  },
  {
   "cell_type": "code",
   "execution_count": null,
   "id": "fea22baf-7f44-48c4-bddc-14325ddb1f99",
   "metadata": {},
   "outputs": [],
   "source": [
    "lv_code = \"LV455\"\n",
    "phenotype_code = 6\n",
    "\n",
    "phenotype_name = f\"multixcan-random_phenotype{phenotype_code}-pvalues\"\n",
    "display(phenotype_name)"
   ]
  },
  {
   "cell_type": "code",
   "execution_count": null,
   "id": "f0b2b9de-0055-4120-99ef-85299bea5535",
   "metadata": {},
   "outputs": [],
   "source": [
    "X, y = get_data(lv_code, random_phenotype_code=phenotype_code)\n",
    "corr_mat = get_aligned_corr_mat(X, perc=PERC_NONZERO_GENES)\n",
    "\n",
    "Xs, ys = standardize_data(X, y)\n",
    "_gls_results = train_statsmodels_gls(Xs, ys, corr_mat)"
   ]
  },
  {
   "cell_type": "code",
   "execution_count": null,
   "id": "f055e9c5-1f98-428c-9408-d7a7763f5436",
   "metadata": {},
   "outputs": [],
   "source": [
    "print(_gls_results.summary())"
   ]
  },
  {
   "cell_type": "code",
   "execution_count": null,
   "id": "4368bbca-0ca9-4e76-bfc6-080f42825715",
   "metadata": {},
   "outputs": [],
   "source": [
    "# for debugging purposes I print the OLS results also\n",
    "_tmp_model = sm.OLS(y, X)\n",
    "_tmp_results = _tmp_model.fit()\n",
    "print(_tmp_results.summary())"
   ]
  },
  {
   "cell_type": "code",
   "execution_count": null,
   "id": "b6e6eb98-9488-4c66-b768-22f0bee10788",
   "metadata": {},
   "outputs": [],
   "source": [
    "# print full numbers\n",
    "with np.printoptions(threshold=sys.maxsize, precision=20):\n",
    "    print(_gls_results.params.to_numpy()[1])\n",
    "    print(_gls_results.bse.to_numpy()[1])\n",
    "    print(_gls_results.tvalues.to_numpy()[1])\n",
    "    print(_gls_results.pvalues.to_numpy()[1])\n",
    "    print(stats.t.sf(_gls_results.tvalues.to_numpy()[1], _gls_results.df_resid))"
   ]
  },
  {
   "cell_type": "code",
   "execution_count": null,
   "id": "153c3fb2-9cfe-4a28-a072-043dced8011c",
   "metadata": {},
   "outputs": [],
   "source": [
    "X.sort_values(lv_code, ascending=False).head()"
   ]
  },
  {
   "cell_type": "code",
   "execution_count": null,
   "id": "f6de590c-5176-4949-9dc6-b79a00cbde8a",
   "metadata": {},
   "outputs": [],
   "source": [
    "y.sort_values(ascending=False).head()"
   ]
  },
  {
   "cell_type": "code",
   "execution_count": null,
   "id": "250edaa3-e519-48b8-bd9b-63dd703c18dd",
   "metadata": {},
   "outputs": [],
   "source": [
    "# save phenotype\n",
    "y.to_pickle(OUTPUT_DIR / f\"{phenotype_name}.pkl.xz\")"
   ]
  },
  {
   "cell_type": "markdown",
   "id": "2ffb8be9-1756-4fba-92c7-5615e9452ac7",
   "metadata": {},
   "source": [
    "## Random phenotype 10 / LV100"
   ]
  },
  {
   "cell_type": "code",
   "execution_count": null,
   "id": "88607958-3e35-4ba8-a481-658e17a57364",
   "metadata": {},
   "outputs": [],
   "source": [
    "lv_code = \"LV100\"\n",
    "phenotype_code = 10\n",
    "\n",
    "phenotype_name = f\"multixcan-random_phenotype{phenotype_code}-pvalues\"\n",
    "display(phenotype_name)"
   ]
  },
  {
   "cell_type": "code",
   "execution_count": null,
   "id": "46b748b9-4449-407d-bff5-e542335b52be",
   "metadata": {},
   "outputs": [],
   "source": [
    "X, y = get_data(lv_code, random_phenotype_code=phenotype_code)\n",
    "corr_mat = get_aligned_corr_mat(X, perc=PERC_NONZERO_GENES)\n",
    "\n",
    "Xs, ys = standardize_data(X, y)\n",
    "_gls_results = train_statsmodels_gls(Xs, ys, corr_mat)"
   ]
  },
  {
   "cell_type": "code",
   "execution_count": null,
   "id": "a04b410a-6c1f-447b-b7a6-5b35352835fa",
   "metadata": {},
   "outputs": [],
   "source": [
    "print(_gls_results.summary())"
   ]
  },
  {
   "cell_type": "code",
   "execution_count": null,
   "id": "39f3a002-a989-4084-94c2-b8b5add1763b",
   "metadata": {},
   "outputs": [],
   "source": [
    "# for debugging purposes I print the OLS results also\n",
    "_tmp_model = sm.OLS(y, X)\n",
    "_tmp_results = _tmp_model.fit()\n",
    "print(_tmp_results.summary())"
   ]
  },
  {
   "cell_type": "code",
   "execution_count": null,
   "id": "f081badb-7feb-4aee-9ad7-210442a6bc4a",
   "metadata": {},
   "outputs": [],
   "source": [
    "# print full numbers\n",
    "with np.printoptions(threshold=sys.maxsize, precision=20):\n",
    "    print(_gls_results.params.to_numpy()[1])\n",
    "    print(_gls_results.bse.to_numpy()[1])\n",
    "    print(_gls_results.tvalues.to_numpy()[1])\n",
    "    print(_gls_results.pvalues.to_numpy()[1])\n",
    "    print(stats.t.sf(_gls_results.tvalues.to_numpy()[1], _gls_results.df_resid))"
   ]
  },
  {
   "cell_type": "code",
   "execution_count": null,
   "id": "00fd1d8b-655f-4e5a-9589-c0dc77ddcbaf",
   "metadata": {},
   "outputs": [],
   "source": [
    "X.sort_values(lv_code, ascending=False).head()"
   ]
  },
  {
   "cell_type": "code",
   "execution_count": null,
   "id": "989d6029-b948-411a-a28c-3eb22c17ff83",
   "metadata": {},
   "outputs": [],
   "source": [
    "y.sort_values(ascending=False).head()"
   ]
  },
  {
   "cell_type": "code",
   "execution_count": null,
   "id": "a3c4911b-e6e6-4fcb-b4ef-a2141ed9fd71",
   "metadata": {},
   "outputs": [],
   "source": [
    "# save phenotype\n",
    "y.to_pickle(OUTPUT_DIR / f\"{phenotype_name}.pkl.xz\")"
   ]
  },
  {
   "cell_type": "markdown",
   "id": "e83ddcff-2a18-4846-9920-3fb4ef46ef16",
   "metadata": {},
   "source": [
    "## Random phenotype 0 / LV800"
   ]
  },
  {
   "cell_type": "code",
   "execution_count": null,
   "id": "37abcf6c-7291-45e6-85b9-4bfbea650413",
   "metadata": {},
   "outputs": [],
   "source": [
    "lv_code = \"LV800\"\n",
    "phenotype_code = 0\n",
    "\n",
    "phenotype_name = f\"multixcan-random_phenotype{phenotype_code}-pvalues\"\n",
    "display(phenotype_name)"
   ]
  },
  {
   "cell_type": "code",
   "execution_count": null,
   "id": "117943ff-df05-422e-ba29-5642b8c4e324",
   "metadata": {},
   "outputs": [],
   "source": [
    "X, y = get_data(lv_code, random_phenotype_code=phenotype_code)\n",
    "corr_mat = get_aligned_corr_mat(X, perc=PERC_NONZERO_GENES)\n",
    "\n",
    "Xs, ys = standardize_data(X, y)\n",
    "_gls_results = train_statsmodels_gls(Xs, ys, corr_mat)"
   ]
  },
  {
   "cell_type": "code",
   "execution_count": null,
   "id": "23065184-7d4a-4995-b8c8-b09cb828c858",
   "metadata": {},
   "outputs": [],
   "source": [
    "print(_gls_results.summary())"
   ]
  },
  {
   "cell_type": "code",
   "execution_count": null,
   "id": "e648e30e-7177-4f65-a9bb-b507e04eff9f",
   "metadata": {},
   "outputs": [],
   "source": [
    "# for debugging purposes I print the OLS results also\n",
    "_tmp_model = sm.OLS(y, X)\n",
    "_tmp_results = _tmp_model.fit()\n",
    "print(_tmp_results.summary())"
   ]
  },
  {
   "cell_type": "code",
   "execution_count": null,
   "id": "86c32e02-4987-4f2a-a7b6-7f40497fc44e",
   "metadata": {},
   "outputs": [],
   "source": [
    "# print full numbers\n",
    "with np.printoptions(threshold=sys.maxsize, precision=20):\n",
    "    print(_gls_results.params.to_numpy()[1])\n",
    "    print(_gls_results.bse.to_numpy()[1])\n",
    "    print(_gls_results.tvalues.to_numpy()[1])\n",
    "    print(_gls_results.pvalues.to_numpy()[1])\n",
    "    print(stats.t.sf(_gls_results.tvalues.to_numpy()[1], _gls_results.df_resid))"
   ]
  },
  {
   "cell_type": "code",
   "execution_count": null,
   "id": "b038e21d-cca8-4c0b-a437-e3ff7fa9e985",
   "metadata": {},
   "outputs": [],
   "source": [
    "X.sort_values(lv_code, ascending=False).head()"
   ]
  },
  {
   "cell_type": "code",
   "execution_count": null,
   "id": "bb7d974c-0f9d-447e-ac7f-6833f22067c9",
   "metadata": {},
   "outputs": [],
   "source": [
    "y.sort_values(ascending=False).head()"
   ]
  },
  {
   "cell_type": "code",
   "execution_count": null,
   "id": "18abe500-4216-4017-a54d-ed6aec63e18e",
   "metadata": {},
   "outputs": [],
   "source": [
    "# save phenotype\n",
    "y.to_pickle(OUTPUT_DIR / f\"{phenotype_name}.pkl.xz\")"
   ]
  },
  {
   "cell_type": "markdown",
   "id": "cff49c9c-e1fc-424a-9abd-fac903e5b02a",
   "metadata": {
    "papermill": {
     "duration": 0.012899,
     "end_time": "2022-07-11T13:23:15.569947",
     "exception": false,
     "start_time": "2022-07-11T13:23:15.557048",
     "status": "completed"
    },
    "tags": []
   },
   "source": [
    "# GLS on real phenotypes"
   ]
  },
  {
   "cell_type": "code",
   "execution_count": 200,
   "id": "f81cf8a3-a3ca-463f-ad7e-4b23434d9674",
   "metadata": {},
   "outputs": [],
   "source": [
    "PERC_NONZERO_GENES = None"
   ]
  },
  {
   "cell_type": "code",
   "execution_count": 201,
   "id": "eeecfcc6-b010-47f3-9f34-24ea22f3b88e",
   "metadata": {},
   "outputs": [
    {
     "data": {
      "text/plain": [
       "Index(['100001_raw-Food_weight', '100002_raw-Energy', '100003_raw-Protein',\n",
       "       '100004_raw-Fat', '100005_raw-Carbohydrate', '100006_raw-Saturated_fat',\n",
       "       '100007_raw-Polyunsaturated_fat', '100008_raw-Total_sugars',\n",
       "       '100009_raw-Englyst_dietary_fibre', '100010-Portion_size',\n",
       "       ...\n",
       "       'visual impairment', 'vitiligo', 'vitreous body disease',\n",
       "       'vocal cord polyp', 'voice disorders',\n",
       "       'wellbeing measurement AND family relationship', 'wheezing',\n",
       "       'whooping cough', 'worry measurement', 'wrist fracture'],\n",
       "      dtype='object', length=3752)"
      ]
     },
     "execution_count": 201,
     "metadata": {},
     "output_type": "execute_result"
    }
   ],
   "source": [
    "multixcan_real_results.columns"
   ]
  },
  {
   "cell_type": "markdown",
   "id": "324f39f6-33f2-4d51-b7de-015b6184b53d",
   "metadata": {},
   "source": [
    "## whooping cough / LV570"
   ]
  },
  {
   "cell_type": "code",
   "execution_count": 257,
   "id": "9fb22ddc-4653-420c-9ac1-40bf8189b0f0",
   "metadata": {},
   "outputs": [
    {
     "data": {
      "text/plain": [
       "'multixcan-phenomexcan-visual_impairment-pvalues'"
      ]
     },
     "metadata": {},
     "output_type": "display_data"
    }
   ],
   "source": [
    "lv_code = \"LV570\"\n",
    "phenotype_code = \"visual impairment\"\n",
    "\n",
    "phenotype_name = f\"multixcan-phenomexcan-{phenotype_code.replace(' ', '_')}-pvalues\"\n",
    "display(phenotype_name)"
   ]
  },
  {
   "cell_type": "code",
   "execution_count": 258,
   "id": "1c00282e-ddff-4516-a19a-ef22afd9f9cc",
   "metadata": {},
   "outputs": [],
   "source": [
    "X, y = get_data(lv_code, real_phenotype_code=phenotype_code)\n",
    "corr_mat = get_aligned_corr_mat(X, perc=PERC_NONZERO_GENES)"
   ]
  },
  {
   "cell_type": "code",
   "execution_count": 259,
   "id": "b1ac3864-dece-43d7-807b-3b32e9b924ce",
   "metadata": {},
   "outputs": [
    {
     "data": {
      "text/html": [
       "<div>\n",
       "<style scoped>\n",
       "    .dataframe tbody tr th:only-of-type {\n",
       "        vertical-align: middle;\n",
       "    }\n",
       "\n",
       "    .dataframe tbody tr th {\n",
       "        vertical-align: top;\n",
       "    }\n",
       "\n",
       "    .dataframe thead th {\n",
       "        text-align: right;\n",
       "    }\n",
       "</style>\n",
       "<table border=\"1\" class=\"dataframe\">\n",
       "  <thead>\n",
       "    <tr style=\"text-align: right;\">\n",
       "      <th></th>\n",
       "      <th>const</th>\n",
       "      <th>LV570</th>\n",
       "    </tr>\n",
       "  </thead>\n",
       "  <tbody>\n",
       "    <tr>\n",
       "      <th>NOC2L</th>\n",
       "      <td>1.0</td>\n",
       "      <td>0.000000</td>\n",
       "    </tr>\n",
       "    <tr>\n",
       "      <th>HES4</th>\n",
       "      <td>1.0</td>\n",
       "      <td>0.032252</td>\n",
       "    </tr>\n",
       "    <tr>\n",
       "      <th>ISG15</th>\n",
       "      <td>1.0</td>\n",
       "      <td>0.000000</td>\n",
       "    </tr>\n",
       "    <tr>\n",
       "      <th>AGRN</th>\n",
       "      <td>1.0</td>\n",
       "      <td>0.000000</td>\n",
       "    </tr>\n",
       "    <tr>\n",
       "      <th>TNFRSF18</th>\n",
       "      <td>1.0</td>\n",
       "      <td>0.000000</td>\n",
       "    </tr>\n",
       "  </tbody>\n",
       "</table>\n",
       "</div>"
      ],
      "text/plain": [
       "          const     LV570\n",
       "NOC2L       1.0  0.000000\n",
       "HES4        1.0  0.032252\n",
       "ISG15       1.0  0.000000\n",
       "AGRN        1.0  0.000000\n",
       "TNFRSF18    1.0  0.000000"
      ]
     },
     "execution_count": 259,
     "metadata": {},
     "output_type": "execute_result"
    }
   ],
   "source": [
    "X.head()"
   ]
  },
  {
   "cell_type": "code",
   "execution_count": 260,
   "id": "6743ef79-7a9b-4be0-b38b-7be41aa20ace",
   "metadata": {},
   "outputs": [
    {
     "data": {
      "text/plain": [
       "NOC2L       0.911665\n",
       "HES4        0.296922\n",
       "ISG15       0.145821\n",
       "AGRN        0.866756\n",
       "TNFRSF18    0.208452\n",
       "Name: visual impairment, dtype: float64"
      ]
     },
     "execution_count": 260,
     "metadata": {},
     "output_type": "execute_result"
    }
   ],
   "source": [
    "y.head()"
   ]
  },
  {
   "cell_type": "code",
   "execution_count": 261,
   "id": "4dbd9150-0546-4f38-8c2a-fdca3b360c30",
   "metadata": {},
   "outputs": [],
   "source": [
    "Xs, ys = standardize_data(X, y)"
   ]
  },
  {
   "cell_type": "code",
   "execution_count": 262,
   "id": "1ef4c18f-5ed8-424c-8f74-13d3af0bc41b",
   "metadata": {},
   "outputs": [
    {
     "data": {
      "text/html": [
       "<div>\n",
       "<style scoped>\n",
       "    .dataframe tbody tr th:only-of-type {\n",
       "        vertical-align: middle;\n",
       "    }\n",
       "\n",
       "    .dataframe tbody tr th {\n",
       "        vertical-align: top;\n",
       "    }\n",
       "\n",
       "    .dataframe thead th {\n",
       "        text-align: right;\n",
       "    }\n",
       "</style>\n",
       "<table border=\"1\" class=\"dataframe\">\n",
       "  <thead>\n",
       "    <tr style=\"text-align: right;\">\n",
       "      <th></th>\n",
       "      <th>LV570</th>\n",
       "    </tr>\n",
       "  </thead>\n",
       "  <tbody>\n",
       "    <tr>\n",
       "      <th>count</th>\n",
       "      <td>6.442000e+03</td>\n",
       "    </tr>\n",
       "    <tr>\n",
       "      <th>mean</th>\n",
       "      <td>-3.915596e-17</td>\n",
       "    </tr>\n",
       "    <tr>\n",
       "      <th>std</th>\n",
       "      <td>1.000000e+00</td>\n",
       "    </tr>\n",
       "    <tr>\n",
       "      <th>min</th>\n",
       "      <td>-1.764047e-01</td>\n",
       "    </tr>\n",
       "    <tr>\n",
       "      <th>25%</th>\n",
       "      <td>-1.764047e-01</td>\n",
       "    </tr>\n",
       "    <tr>\n",
       "      <th>50%</th>\n",
       "      <td>-1.764047e-01</td>\n",
       "    </tr>\n",
       "    <tr>\n",
       "      <th>75%</th>\n",
       "      <td>-7.132475e-02</td>\n",
       "    </tr>\n",
       "    <tr>\n",
       "      <th>max</th>\n",
       "      <td>2.993952e+01</td>\n",
       "    </tr>\n",
       "  </tbody>\n",
       "</table>\n",
       "</div>"
      ],
      "text/plain": [
       "              LV570\n",
       "count  6.442000e+03\n",
       "mean  -3.915596e-17\n",
       "std    1.000000e+00\n",
       "min   -1.764047e-01\n",
       "25%   -1.764047e-01\n",
       "50%   -1.764047e-01\n",
       "75%   -7.132475e-02\n",
       "max    2.993952e+01"
      ]
     },
     "metadata": {},
     "output_type": "display_data"
    }
   ],
   "source": [
    "_Xs_desc = Xs[[lv_code]].describe()\n",
    "display(_Xs_desc)\n",
    "assert (_Xs_desc.loc[\"mean\"] < 1e-10).all()\n",
    "assert (_Xs_desc.loc[\"std\"].between(0.9999, 1.00001)).all()"
   ]
  },
  {
   "cell_type": "code",
   "execution_count": 263,
   "id": "9f573a7c-ca34-4429-a6b6-8c2bd32a52d7",
   "metadata": {},
   "outputs": [],
   "source": [
    "_gls_results = train_statsmodels_gls(Xs, ys, corr_mat)"
   ]
  },
  {
   "cell_type": "code",
   "execution_count": 264,
   "id": "899485df-d693-432b-a8bd-455892a4c8dd",
   "metadata": {},
   "outputs": [
    {
     "name": "stdout",
     "output_type": "stream",
     "text": [
      "                            GLS Regression Results                            \n",
      "==============================================================================\n",
      "Dep. Variable:      visual impairment   R-squared:                       0.000\n",
      "Model:                            GLS   Adj. R-squared:                 -0.000\n",
      "Method:                 Least Squares   F-statistic:                    0.1129\n",
      "Date:                Tue, 02 Aug 2022   Prob (F-statistic):              0.737\n",
      "Time:                        14:29:12   Log-Likelihood:                -14094.\n",
      "No. Observations:                6442   AIC:                         2.819e+04\n",
      "Df Residuals:                    6440   BIC:                         2.821e+04\n",
      "Df Model:                           1                                         \n",
      "Covariance Type:            nonrobust                                         \n",
      "==============================================================================\n",
      "                 coef    std err          t      P>|t|      [0.025      0.975]\n",
      "------------------------------------------------------------------------------\n",
      "const         -0.0062      0.056     -0.111      0.912      -0.116       0.103\n",
      "LV570         -0.0067      0.020     -0.336      0.737      -0.046       0.032\n",
      "==============================================================================\n",
      "Omnibus:                    20623.048   Durbin-Watson:                   1.987\n",
      "Prob(Omnibus):                  0.000   Jarque-Bera (JB):       3271508001.322\n",
      "Skew:                          51.853   Prob(JB):                         0.00\n",
      "Kurtosis:                    3492.615   Cond. No.                         2.81\n",
      "==============================================================================\n",
      "\n",
      "Notes:\n",
      "[1] Standard Errors assume that the covariance matrix of the errors is correctly specified.\n"
     ]
    }
   ],
   "source": [
    "print(_gls_results.summary())"
   ]
  },
  {
   "cell_type": "code",
   "execution_count": 265,
   "id": "6b1a4837-4bc4-40c8-98a4-4012c657358b",
   "metadata": {},
   "outputs": [
    {
     "name": "stdout",
     "output_type": "stream",
     "text": [
      "\n",
      "exp_coef = -0.006677552728904192\n",
      "exp_coef_se = 0.019869632911790076\n",
      "exp_tvalue = -0.3360682483943587\n",
      "exp_pval_twosided = 0.7368303500487827\n",
      "exp_pval_onesided = 0.6315848249756086\n",
      "    \n"
     ]
    }
   ],
   "source": [
    "# print full numbers\n",
    "with np.printoptions(threshold=sys.maxsize, precision=20):\n",
    "    print(\n",
    "        f\"\"\"\n",
    "exp_coef = {_gls_results.params.to_numpy()[1]}\n",
    "exp_coef_se = {_gls_results.bse.to_numpy()[1]}\n",
    "exp_tvalue = {_gls_results.tvalues.to_numpy()[1]}\n",
    "exp_pval_twosided = {_gls_results.pvalues.to_numpy()[1]}\n",
    "exp_pval_onesided = {stats.t.sf(_gls_results.tvalues.to_numpy()[1], _gls_results.df_resid)}\n",
    "    \"\"\"\n",
    "    )"
   ]
  },
  {
   "cell_type": "code",
   "execution_count": 212,
   "id": "a1d96a22-54d1-4a3c-b4f2-29649de888d6",
   "metadata": {},
   "outputs": [],
   "source": [
    "# save phenotype\n",
    "y.to_pickle(OUTPUT_DIR / f\"{phenotype_name}.pkl.xz\")"
   ]
  },
  {
   "cell_type": "code",
   "execution_count": 213,
   "id": "cd4242c6-f596-4f1c-bed1-f95692fc53f8",
   "metadata": {},
   "outputs": [
    {
     "data": {
      "text/plain": [
       "NOC2L       1.301498\n",
       "HES4        0.491604\n",
       "ISG15       0.300490\n",
       "AGRN        1.595415\n",
       "TNFRSF18    0.362178\n",
       "              ...   \n",
       "CPT1B       0.283934\n",
       "CHKB        0.621814\n",
       "MAPK8IP2    0.479153\n",
       "ARSA        0.274866\n",
       "SHANK3      1.125992\n",
       "Name: whooping cough, Length: 6442, dtype: float64"
      ]
     },
     "execution_count": 213,
     "metadata": {},
     "output_type": "execute_result"
    }
   ],
   "source": [
    "y"
   ]
  },
  {
   "cell_type": "code",
   "execution_count": 214,
   "id": "c4a64234-bd9b-4746-bf7a-09b24fcd17f2",
   "metadata": {},
   "outputs": [
    {
     "name": "stdout",
     "output_type": "stream",
     "text": [
      "                            OLS Regression Results                            \n",
      "==============================================================================\n",
      "Dep. Variable:         whooping cough   R-squared:                       0.000\n",
      "Model:                            OLS   Adj. R-squared:                  0.000\n",
      "Method:                 Least Squares   F-statistic:                     1.665\n",
      "Date:                Tue, 02 Aug 2022   Prob (F-statistic):              0.197\n",
      "Time:                        14:22:55   Log-Likelihood:                -9139.5\n",
      "No. Observations:                6442   AIC:                         1.828e+04\n",
      "Df Residuals:                    6440   BIC:                         1.830e+04\n",
      "Df Model:                           1                                         \n",
      "Covariance Type:            nonrobust                                         \n",
      "==============================================================================\n",
      "                 coef    std err          t      P>|t|      [0.025      0.975]\n",
      "------------------------------------------------------------------------------\n",
      "const       1.003e-16      0.012   8.05e-15      1.000      -0.024       0.024\n",
      "LV570          0.0161      0.012      1.290      0.197      -0.008       0.041\n",
      "==============================================================================\n",
      "Omnibus:                      932.533   Durbin-Watson:                   1.613\n",
      "Prob(Omnibus):                  0.000   Jarque-Bera (JB):             1426.827\n",
      "Skew:                           1.033   Prob(JB):                    1.47e-310\n",
      "Kurtosis:                       4.023   Cond. No.                         1.00\n",
      "==============================================================================\n",
      "\n",
      "Notes:\n",
      "[1] Standard Errors assume that the covariance matrix of the errors is correctly specified.\n"
     ]
    }
   ],
   "source": [
    "# for debugging purposes I print the OLS results also\n",
    "_tmp_model = sm.OLS(ys, Xs)\n",
    "_tmp_results = _tmp_model.fit()\n",
    "print(_tmp_results.summary())"
   ]
  },
  {
   "cell_type": "markdown",
   "id": "d8da1e43-f98e-4bdb-9c49-a1032ef57184",
   "metadata": {},
   "source": [
    "# Test different covariates"
   ]
  },
  {
   "cell_type": "code",
   "execution_count": 76,
   "id": "55ceec47-0875-4504-a82d-26096bd98fcc",
   "metadata": {},
   "outputs": [],
   "source": [
    "covars = load_multixcan_random_phenotype(0)[[\"n\", \"n_indep\"]]\n",
    "covars = covars[~covars.index.duplicated(keep=\"first\")]\n",
    "covars = covars.dropna()\n",
    "covars = covars.join(gene_tissues_df, how=\"inner\")\n",
    "assert not covars.isna().any(None)"
   ]
  },
  {
   "cell_type": "code",
   "execution_count": 77,
   "id": "b2337fac-a6fc-4d23-8f1b-73cc85000e3d",
   "metadata": {},
   "outputs": [],
   "source": [
    "covars = covars.drop(columns=[c for c in covars.columns if \"model\" in c])"
   ]
  },
  {
   "cell_type": "code",
   "execution_count": 78,
   "id": "ed83272b-c808-4503-b057-5c4f678e578b",
   "metadata": {},
   "outputs": [
    {
     "data": {
      "text/plain": [
       "(6444, 9)"
      ]
     },
     "execution_count": 78,
     "metadata": {},
     "output_type": "execute_result"
    }
   ],
   "source": [
    "covars.shape"
   ]
  },
  {
   "cell_type": "code",
   "execution_count": 79,
   "id": "b54d4bd5-7122-409e-a404-556c029c1fdf",
   "metadata": {},
   "outputs": [
    {
     "data": {
      "text/html": [
       "<div>\n",
       "<style scoped>\n",
       "    .dataframe tbody tr th:only-of-type {\n",
       "        vertical-align: middle;\n",
       "    }\n",
       "\n",
       "    .dataframe tbody tr th {\n",
       "        vertical-align: top;\n",
       "    }\n",
       "\n",
       "    .dataframe thead th {\n",
       "        text-align: right;\n",
       "    }\n",
       "</style>\n",
       "<table border=\"1\" class=\"dataframe\">\n",
       "  <thead>\n",
       "    <tr style=\"text-align: right;\">\n",
       "      <th></th>\n",
       "      <th>n</th>\n",
       "      <th>n_indep</th>\n",
       "      <th>tissue</th>\n",
       "      <th>n_tissues</th>\n",
       "      <th>tissues_pc_variances</th>\n",
       "      <th>tissues_pc_variances_cov</th>\n",
       "      <th>tissues_variances</th>\n",
       "      <th>n_snps_used_sum</th>\n",
       "      <th>unique_n_snps_used</th>\n",
       "    </tr>\n",
       "    <tr>\n",
       "      <th>gene_name</th>\n",
       "      <th></th>\n",
       "      <th></th>\n",
       "      <th></th>\n",
       "      <th></th>\n",
       "      <th></th>\n",
       "      <th></th>\n",
       "      <th></th>\n",
       "      <th></th>\n",
       "      <th></th>\n",
       "    </tr>\n",
       "  </thead>\n",
       "  <tbody>\n",
       "    <tr>\n",
       "      <th>GPATCH1</th>\n",
       "      <td>40.0</td>\n",
       "      <td>3.0</td>\n",
       "      <td>(Testis, Artery_Coronary, Heart_Atrial_Appenda...</td>\n",
       "      <td>40</td>\n",
       "      <td>[29.235812681654803, 7.331117237863964, 1.8666...</td>\n",
       "      <td>[1.4457016202816222, 0.15754336632735133, 0.07...</td>\n",
       "      <td>{'Artery_Aorta': 0.006815900132465873, 'Colon_...</td>\n",
       "      <td>50</td>\n",
       "      <td>19</td>\n",
       "    </tr>\n",
       "    <tr>\n",
       "      <th>NFKBIA</th>\n",
       "      <td>1.0</td>\n",
       "      <td>1.0</td>\n",
       "      <td>(Brain_Frontal_Cortex_BA9)</td>\n",
       "      <td>1</td>\n",
       "      <td>[1.0]</td>\n",
       "      <td>[3.4801284748968485e-05]</td>\n",
       "      <td>{'Brain_Frontal_Cortex_BA9': 3.480128474896848...</td>\n",
       "      <td>1</td>\n",
       "      <td>1</td>\n",
       "    </tr>\n",
       "    <tr>\n",
       "      <th>TTC5</th>\n",
       "      <td>47.0</td>\n",
       "      <td>5.0</td>\n",
       "      <td>(Testis, Artery_Coronary, Heart_Atrial_Appenda...</td>\n",
       "      <td>47</td>\n",
       "      <td>[20.3843508249499, 12.558841649027991, 9.28359...</td>\n",
       "      <td>[0.31473546115929124, 0.0965740452605278, 0.03...</td>\n",
       "      <td>{'Small_Intestine_Terminal_Ileum': 0.010800462...</td>\n",
       "      <td>84</td>\n",
       "      <td>12</td>\n",
       "    </tr>\n",
       "    <tr>\n",
       "      <th>ZNF17</th>\n",
       "      <td>49.0</td>\n",
       "      <td>5.0</td>\n",
       "      <td>(Testis, Artery_Coronary, Heart_Atrial_Appenda...</td>\n",
       "      <td>49</td>\n",
       "      <td>[28.646268534806357, 9.073735811917347, 7.5861...</td>\n",
       "      <td>[1.9513603925601095, 0.17418261811465457, 0.10...</td>\n",
       "      <td>{'Small_Intestine_Terminal_Ileum': 0.003260710...</td>\n",
       "      <td>99</td>\n",
       "      <td>14</td>\n",
       "    </tr>\n",
       "    <tr>\n",
       "      <th>ZNF563</th>\n",
       "      <td>49.0</td>\n",
       "      <td>2.0</td>\n",
       "      <td>(Testis, Artery_Coronary, Heart_Atrial_Appenda...</td>\n",
       "      <td>49</td>\n",
       "      <td>[46.8735432455952, 2.0233826275424898]</td>\n",
       "      <td>[0.09856714803229967, 0.009511702571331633]</td>\n",
       "      <td>{'Small_Intestine_Terminal_Ileum': 0.002128108...</td>\n",
       "      <td>54</td>\n",
       "      <td>6</td>\n",
       "    </tr>\n",
       "  </tbody>\n",
       "</table>\n",
       "</div>"
      ],
      "text/plain": [
       "              n  n_indep                                             tissue  \\\n",
       "gene_name                                                                     \n",
       "GPATCH1    40.0      3.0  (Testis, Artery_Coronary, Heart_Atrial_Appenda...   \n",
       "NFKBIA      1.0      1.0                         (Brain_Frontal_Cortex_BA9)   \n",
       "TTC5       47.0      5.0  (Testis, Artery_Coronary, Heart_Atrial_Appenda...   \n",
       "ZNF17      49.0      5.0  (Testis, Artery_Coronary, Heart_Atrial_Appenda...   \n",
       "ZNF563     49.0      2.0  (Testis, Artery_Coronary, Heart_Atrial_Appenda...   \n",
       "\n",
       "           n_tissues                               tissues_pc_variances  \\\n",
       "gene_name                                                                 \n",
       "GPATCH1           40  [29.235812681654803, 7.331117237863964, 1.8666...   \n",
       "NFKBIA             1                                              [1.0]   \n",
       "TTC5              47  [20.3843508249499, 12.558841649027991, 9.28359...   \n",
       "ZNF17             49  [28.646268534806357, 9.073735811917347, 7.5861...   \n",
       "ZNF563            49             [46.8735432455952, 2.0233826275424898]   \n",
       "\n",
       "                                    tissues_pc_variances_cov  \\\n",
       "gene_name                                                      \n",
       "GPATCH1    [1.4457016202816222, 0.15754336632735133, 0.07...   \n",
       "NFKBIA                              [3.4801284748968485e-05]   \n",
       "TTC5       [0.31473546115929124, 0.0965740452605278, 0.03...   \n",
       "ZNF17      [1.9513603925601095, 0.17418261811465457, 0.10...   \n",
       "ZNF563           [0.09856714803229967, 0.009511702571331633]   \n",
       "\n",
       "                                           tissues_variances  n_snps_used_sum  \\\n",
       "gene_name                                                                       \n",
       "GPATCH1    {'Artery_Aorta': 0.006815900132465873, 'Colon_...               50   \n",
       "NFKBIA     {'Brain_Frontal_Cortex_BA9': 3.480128474896848...                1   \n",
       "TTC5       {'Small_Intestine_Terminal_Ileum': 0.010800462...               84   \n",
       "ZNF17      {'Small_Intestine_Terminal_Ileum': 0.003260710...               99   \n",
       "ZNF563     {'Small_Intestine_Terminal_Ileum': 0.002128108...               54   \n",
       "\n",
       "           unique_n_snps_used  \n",
       "gene_name                      \n",
       "GPATCH1                    19  \n",
       "NFKBIA                      1  \n",
       "TTC5                       12  \n",
       "ZNF17                      14  \n",
       "ZNF563                      6  "
      ]
     },
     "execution_count": 79,
     "metadata": {},
     "output_type": "execute_result"
    }
   ],
   "source": [
    "covars.head()"
   ]
  },
  {
   "cell_type": "code",
   "execution_count": 80,
   "id": "f1c0abaa-7042-40e3-9a77-91d258a19273",
   "metadata": {},
   "outputs": [],
   "source": [
    "# gene_size and gene_density\n",
    "covars = covars.rename(\n",
    "    columns={\n",
    "        \"n_indep\": \"gene_size\",\n",
    "    }\n",
    ")\n",
    "covars = covars.assign(\n",
    "    gene_density=covars.apply(lambda x: x[\"gene_size\"] / x[\"n\"], axis=1)\n",
    ")\n",
    "covars = covars.drop(columns=[\"n\"])"
   ]
  },
  {
   "cell_type": "code",
   "execution_count": 81,
   "id": "8b7bc3ab-253e-4c5c-96e5-d5635ee2dbe1",
   "metadata": {},
   "outputs": [],
   "source": [
    "# gene_n_snps_used and gene_n_snps_used_sharing\n",
    "covars = covars.assign(gene_n_snps_used=gene_tissues_df[\"n_snps_used_sum\"])\n",
    "\n",
    "covars = covars.assign(\n",
    "    gene_n_snps_used_sharing=gene_tissues_df.apply(\n",
    "        lambda x: x[\"n_snps_used_sum\"] / x[\"unique_n_snps_used\"], axis=1\n",
    "    )\n",
    ")"
   ]
  },
  {
   "cell_type": "code",
   "execution_count": 82,
   "id": "470c8441-572b-4cb6-99ed-8a371d77460d",
   "metadata": {},
   "outputs": [],
   "source": [
    "_final_covars = [\n",
    "    \"gene_size\",\n",
    "    \"gene_density\",\n",
    "    \"gene_n_snps_used\",\n",
    "    \"gene_n_snps_used_sharing\",\n",
    "]"
   ]
  },
  {
   "cell_type": "code",
   "execution_count": 83,
   "id": "c657b322-6737-4bb8-bcf6-b30871bb6a34",
   "metadata": {},
   "outputs": [
    {
     "data": {
      "text/html": [
       "<div>\n",
       "<style scoped>\n",
       "    .dataframe tbody tr th:only-of-type {\n",
       "        vertical-align: middle;\n",
       "    }\n",
       "\n",
       "    .dataframe tbody tr th {\n",
       "        vertical-align: top;\n",
       "    }\n",
       "\n",
       "    .dataframe thead th {\n",
       "        text-align: right;\n",
       "    }\n",
       "</style>\n",
       "<table border=\"1\" class=\"dataframe\">\n",
       "  <thead>\n",
       "    <tr style=\"text-align: right;\">\n",
       "      <th></th>\n",
       "      <th>gene_size</th>\n",
       "      <th>gene_density</th>\n",
       "      <th>gene_n_snps_used</th>\n",
       "      <th>gene_n_snps_used_sharing</th>\n",
       "    </tr>\n",
       "    <tr>\n",
       "      <th>gene_name</th>\n",
       "      <th></th>\n",
       "      <th></th>\n",
       "      <th></th>\n",
       "      <th></th>\n",
       "    </tr>\n",
       "  </thead>\n",
       "  <tbody>\n",
       "    <tr>\n",
       "      <th>GPATCH1</th>\n",
       "      <td>3.0</td>\n",
       "      <td>0.075000</td>\n",
       "      <td>50</td>\n",
       "      <td>2.631579</td>\n",
       "    </tr>\n",
       "    <tr>\n",
       "      <th>NFKBIA</th>\n",
       "      <td>1.0</td>\n",
       "      <td>1.000000</td>\n",
       "      <td>1</td>\n",
       "      <td>1.000000</td>\n",
       "    </tr>\n",
       "    <tr>\n",
       "      <th>TTC5</th>\n",
       "      <td>5.0</td>\n",
       "      <td>0.106383</td>\n",
       "      <td>84</td>\n",
       "      <td>7.000000</td>\n",
       "    </tr>\n",
       "    <tr>\n",
       "      <th>ZNF17</th>\n",
       "      <td>5.0</td>\n",
       "      <td>0.102041</td>\n",
       "      <td>99</td>\n",
       "      <td>7.071429</td>\n",
       "    </tr>\n",
       "    <tr>\n",
       "      <th>ZNF563</th>\n",
       "      <td>2.0</td>\n",
       "      <td>0.040816</td>\n",
       "      <td>54</td>\n",
       "      <td>9.000000</td>\n",
       "    </tr>\n",
       "  </tbody>\n",
       "</table>\n",
       "</div>"
      ],
      "text/plain": [
       "           gene_size  gene_density  gene_n_snps_used  gene_n_snps_used_sharing\n",
       "gene_name                                                                     \n",
       "GPATCH1          3.0      0.075000                50                  2.631579\n",
       "NFKBIA           1.0      1.000000                 1                  1.000000\n",
       "TTC5             5.0      0.106383                84                  7.000000\n",
       "ZNF17            5.0      0.102041                99                  7.071429\n",
       "ZNF563           2.0      0.040816                54                  9.000000"
      ]
     },
     "execution_count": 83,
     "metadata": {},
     "output_type": "execute_result"
    }
   ],
   "source": [
    "covars[_final_covars].head()"
   ]
  },
  {
   "cell_type": "code",
   "execution_count": 84,
   "id": "ac36db8d-6166-40fb-bb1b-636f7bc4e39e",
   "metadata": {},
   "outputs": [
    {
     "data": {
      "text/html": [
       "<div>\n",
       "<style scoped>\n",
       "    .dataframe tbody tr th:only-of-type {\n",
       "        vertical-align: middle;\n",
       "    }\n",
       "\n",
       "    .dataframe tbody tr th {\n",
       "        vertical-align: top;\n",
       "    }\n",
       "\n",
       "    .dataframe thead th {\n",
       "        text-align: right;\n",
       "    }\n",
       "</style>\n",
       "<table border=\"1\" class=\"dataframe\">\n",
       "  <thead>\n",
       "    <tr style=\"text-align: right;\">\n",
       "      <th></th>\n",
       "      <th>gene_size</th>\n",
       "      <th>gene_density</th>\n",
       "      <th>gene_n_snps_used</th>\n",
       "      <th>gene_n_snps_used_sharing</th>\n",
       "    </tr>\n",
       "  </thead>\n",
       "  <tbody>\n",
       "    <tr>\n",
       "      <th>count</th>\n",
       "      <td>6444.000000</td>\n",
       "      <td>6444.000000</td>\n",
       "      <td>6444.000000</td>\n",
       "      <td>6444.000000</td>\n",
       "    </tr>\n",
       "    <tr>\n",
       "      <th>mean</th>\n",
       "      <td>4.366387</td>\n",
       "      <td>0.168031</td>\n",
       "      <td>56.404873</td>\n",
       "      <td>5.539761</td>\n",
       "    </tr>\n",
       "    <tr>\n",
       "      <th>std</th>\n",
       "      <td>2.317428</td>\n",
       "      <td>0.174653</td>\n",
       "      <td>30.087886</td>\n",
       "      <td>4.376469</td>\n",
       "    </tr>\n",
       "    <tr>\n",
       "      <th>min</th>\n",
       "      <td>1.000000</td>\n",
       "      <td>0.020408</td>\n",
       "      <td>1.000000</td>\n",
       "      <td>1.000000</td>\n",
       "    </tr>\n",
       "    <tr>\n",
       "      <th>25%</th>\n",
       "      <td>3.000000</td>\n",
       "      <td>0.066667</td>\n",
       "      <td>35.000000</td>\n",
       "      <td>3.000000</td>\n",
       "    </tr>\n",
       "    <tr>\n",
       "      <th>50%</th>\n",
       "      <td>4.000000</td>\n",
       "      <td>0.108696</td>\n",
       "      <td>55.000000</td>\n",
       "      <td>4.475973</td>\n",
       "    </tr>\n",
       "    <tr>\n",
       "      <th>75%</th>\n",
       "      <td>6.000000</td>\n",
       "      <td>0.190476</td>\n",
       "      <td>77.000000</td>\n",
       "      <td>6.750000</td>\n",
       "    </tr>\n",
       "    <tr>\n",
       "      <th>max</th>\n",
       "      <td>18.000000</td>\n",
       "      <td>1.000000</td>\n",
       "      <td>204.000000</td>\n",
       "      <td>49.000000</td>\n",
       "    </tr>\n",
       "  </tbody>\n",
       "</table>\n",
       "</div>"
      ],
      "text/plain": [
       "         gene_size  gene_density  gene_n_snps_used  gene_n_snps_used_sharing\n",
       "count  6444.000000   6444.000000       6444.000000               6444.000000\n",
       "mean      4.366387      0.168031         56.404873                  5.539761\n",
       "std       2.317428      0.174653         30.087886                  4.376469\n",
       "min       1.000000      0.020408          1.000000                  1.000000\n",
       "25%       3.000000      0.066667         35.000000                  3.000000\n",
       "50%       4.000000      0.108696         55.000000                  4.475973\n",
       "75%       6.000000      0.190476         77.000000                  6.750000\n",
       "max      18.000000      1.000000        204.000000                 49.000000"
      ]
     },
     "execution_count": 84,
     "metadata": {},
     "output_type": "execute_result"
    }
   ],
   "source": [
    "covars[_final_covars].describe()"
   ]
  },
  {
   "cell_type": "code",
   "execution_count": 85,
   "id": "d24260e6-996d-4cb8-b3e0-7e9e28332796",
   "metadata": {},
   "outputs": [
    {
     "data": {
      "text/html": [
       "<div>\n",
       "<style scoped>\n",
       "    .dataframe tbody tr th:only-of-type {\n",
       "        vertical-align: middle;\n",
       "    }\n",
       "\n",
       "    .dataframe tbody tr th {\n",
       "        vertical-align: top;\n",
       "    }\n",
       "\n",
       "    .dataframe thead th {\n",
       "        text-align: right;\n",
       "    }\n",
       "</style>\n",
       "<table border=\"1\" class=\"dataframe\">\n",
       "  <thead>\n",
       "    <tr style=\"text-align: right;\">\n",
       "      <th></th>\n",
       "      <th>gene_size_log</th>\n",
       "      <th>gene_density_log</th>\n",
       "      <th>gene_n_snps_used_log</th>\n",
       "      <th>gene_n_snps_used_sharing_log</th>\n",
       "    </tr>\n",
       "  </thead>\n",
       "  <tbody>\n",
       "    <tr>\n",
       "      <th>count</th>\n",
       "      <td>6444.000000</td>\n",
       "      <td>6444.000000</td>\n",
       "      <td>6444.000000</td>\n",
       "      <td>6444.000000</td>\n",
       "    </tr>\n",
       "    <tr>\n",
       "      <th>mean</th>\n",
       "      <td>1.327670</td>\n",
       "      <td>-2.133538</td>\n",
       "      <td>3.814812</td>\n",
       "      <td>1.500832</td>\n",
       "    </tr>\n",
       "    <tr>\n",
       "      <th>std</th>\n",
       "      <td>0.564526</td>\n",
       "      <td>0.801732</td>\n",
       "      <td>0.796239</td>\n",
       "      <td>0.636401</td>\n",
       "    </tr>\n",
       "    <tr>\n",
       "      <th>min</th>\n",
       "      <td>0.000000</td>\n",
       "      <td>-3.891820</td>\n",
       "      <td>0.000000</td>\n",
       "      <td>0.000000</td>\n",
       "    </tr>\n",
       "    <tr>\n",
       "      <th>25%</th>\n",
       "      <td>1.098612</td>\n",
       "      <td>-2.708050</td>\n",
       "      <td>3.555348</td>\n",
       "      <td>1.098612</td>\n",
       "    </tr>\n",
       "    <tr>\n",
       "      <th>50%</th>\n",
       "      <td>1.386294</td>\n",
       "      <td>-2.219203</td>\n",
       "      <td>4.007333</td>\n",
       "      <td>1.498724</td>\n",
       "    </tr>\n",
       "    <tr>\n",
       "      <th>75%</th>\n",
       "      <td>1.791759</td>\n",
       "      <td>-1.658228</td>\n",
       "      <td>4.343805</td>\n",
       "      <td>1.909543</td>\n",
       "    </tr>\n",
       "    <tr>\n",
       "      <th>max</th>\n",
       "      <td>2.890372</td>\n",
       "      <td>0.000000</td>\n",
       "      <td>5.318120</td>\n",
       "      <td>3.891820</td>\n",
       "    </tr>\n",
       "  </tbody>\n",
       "</table>\n",
       "</div>"
      ],
      "text/plain": [
       "       gene_size_log  gene_density_log  gene_n_snps_used_log  \\\n",
       "count    6444.000000       6444.000000           6444.000000   \n",
       "mean        1.327670         -2.133538              3.814812   \n",
       "std         0.564526          0.801732              0.796239   \n",
       "min         0.000000         -3.891820              0.000000   \n",
       "25%         1.098612         -2.708050              3.555348   \n",
       "50%         1.386294         -2.219203              4.007333   \n",
       "75%         1.791759         -1.658228              4.343805   \n",
       "max         2.890372          0.000000              5.318120   \n",
       "\n",
       "       gene_n_snps_used_sharing_log  \n",
       "count                   6444.000000  \n",
       "mean                       1.500832  \n",
       "std                        0.636401  \n",
       "min                        0.000000  \n",
       "25%                        1.098612  \n",
       "50%                        1.498724  \n",
       "75%                        1.909543  \n",
       "max                        3.891820  "
      ]
     },
     "metadata": {},
     "output_type": "display_data"
    }
   ],
   "source": [
    "_tmp = covars.assign(**{f\"{c}_log\": np.log(covars[c]) for c in _final_covars})\n",
    "display(_tmp[[c for c in _tmp.columns if \"_log\" in c]].describe())"
   ]
  },
  {
   "cell_type": "code",
   "execution_count": 86,
   "id": "5e786643-2f17-4f36-b9ed-29017612c16c",
   "metadata": {},
   "outputs": [
    {
     "data": {
      "text/html": [
       "<div>\n",
       "<style scoped>\n",
       "    .dataframe tbody tr th:only-of-type {\n",
       "        vertical-align: middle;\n",
       "    }\n",
       "\n",
       "    .dataframe tbody tr th {\n",
       "        vertical-align: top;\n",
       "    }\n",
       "\n",
       "    .dataframe thead th {\n",
       "        text-align: right;\n",
       "    }\n",
       "</style>\n",
       "<table border=\"1\" class=\"dataframe\">\n",
       "  <thead>\n",
       "    <tr style=\"text-align: right;\">\n",
       "      <th></th>\n",
       "      <th>gene_size</th>\n",
       "      <th>gene_density</th>\n",
       "      <th>gene_n_snps_used</th>\n",
       "      <th>gene_n_snps_used_sharing</th>\n",
       "    </tr>\n",
       "  </thead>\n",
       "  <tbody>\n",
       "    <tr>\n",
       "      <th>gene_size</th>\n",
       "      <td>1.000000</td>\n",
       "      <td>0.338390</td>\n",
       "      <td>0.034188</td>\n",
       "      <td>-0.419472</td>\n",
       "    </tr>\n",
       "    <tr>\n",
       "      <th>gene_density</th>\n",
       "      <td>0.338390</td>\n",
       "      <td>1.000000</td>\n",
       "      <td>-0.555306</td>\n",
       "      <td>-0.444630</td>\n",
       "    </tr>\n",
       "    <tr>\n",
       "      <th>gene_n_snps_used</th>\n",
       "      <td>0.034188</td>\n",
       "      <td>-0.555306</td>\n",
       "      <td>1.000000</td>\n",
       "      <td>0.227687</td>\n",
       "    </tr>\n",
       "    <tr>\n",
       "      <th>gene_n_snps_used_sharing</th>\n",
       "      <td>-0.419472</td>\n",
       "      <td>-0.444630</td>\n",
       "      <td>0.227687</td>\n",
       "      <td>1.000000</td>\n",
       "    </tr>\n",
       "  </tbody>\n",
       "</table>\n",
       "</div>"
      ],
      "text/plain": [
       "                          gene_size  gene_density  gene_n_snps_used  \\\n",
       "gene_size                  1.000000      0.338390          0.034188   \n",
       "gene_density               0.338390      1.000000         -0.555306   \n",
       "gene_n_snps_used           0.034188     -0.555306          1.000000   \n",
       "gene_n_snps_used_sharing  -0.419472     -0.444630          0.227687   \n",
       "\n",
       "                          gene_n_snps_used_sharing  \n",
       "gene_size                                -0.419472  \n",
       "gene_density                             -0.444630  \n",
       "gene_n_snps_used                          0.227687  \n",
       "gene_n_snps_used_sharing                  1.000000  "
      ]
     },
     "execution_count": 86,
     "metadata": {},
     "output_type": "execute_result"
    }
   ],
   "source": [
    "covars[_final_covars].corr()"
   ]
  },
  {
   "cell_type": "code",
   "execution_count": 87,
   "id": "dd20488b-ca46-4207-877c-aa0e05ef98a2",
   "metadata": {},
   "outputs": [
    {
     "data": {
      "text/html": [
       "<div>\n",
       "<style scoped>\n",
       "    .dataframe tbody tr th:only-of-type {\n",
       "        vertical-align: middle;\n",
       "    }\n",
       "\n",
       "    .dataframe tbody tr th {\n",
       "        vertical-align: top;\n",
       "    }\n",
       "\n",
       "    .dataframe thead th {\n",
       "        text-align: right;\n",
       "    }\n",
       "</style>\n",
       "<table border=\"1\" class=\"dataframe\">\n",
       "  <thead>\n",
       "    <tr style=\"text-align: right;\">\n",
       "      <th></th>\n",
       "      <th>gene_size_log</th>\n",
       "      <th>gene_density_log</th>\n",
       "      <th>gene_n_snps_used_log</th>\n",
       "      <th>gene_n_snps_used_sharing_log</th>\n",
       "    </tr>\n",
       "  </thead>\n",
       "  <tbody>\n",
       "    <tr>\n",
       "      <th>gene_size_log</th>\n",
       "      <td>1.000000</td>\n",
       "      <td>0.613765</td>\n",
       "      <td>0.161196</td>\n",
       "      <td>-0.461650</td>\n",
       "    </tr>\n",
       "    <tr>\n",
       "      <th>gene_density_log</th>\n",
       "      <td>0.613765</td>\n",
       "      <td>1.000000</td>\n",
       "      <td>-0.651280</td>\n",
       "      <td>-0.795831</td>\n",
       "    </tr>\n",
       "    <tr>\n",
       "      <th>gene_n_snps_used_log</th>\n",
       "      <td>0.161196</td>\n",
       "      <td>-0.651280</td>\n",
       "      <td>1.000000</td>\n",
       "      <td>0.528185</td>\n",
       "    </tr>\n",
       "    <tr>\n",
       "      <th>gene_n_snps_used_sharing_log</th>\n",
       "      <td>-0.461650</td>\n",
       "      <td>-0.795831</td>\n",
       "      <td>0.528185</td>\n",
       "      <td>1.000000</td>\n",
       "    </tr>\n",
       "  </tbody>\n",
       "</table>\n",
       "</div>"
      ],
      "text/plain": [
       "                              gene_size_log  gene_density_log  \\\n",
       "gene_size_log                      1.000000          0.613765   \n",
       "gene_density_log                   0.613765          1.000000   \n",
       "gene_n_snps_used_log               0.161196         -0.651280   \n",
       "gene_n_snps_used_sharing_log      -0.461650         -0.795831   \n",
       "\n",
       "                              gene_n_snps_used_log  \\\n",
       "gene_size_log                             0.161196   \n",
       "gene_density_log                         -0.651280   \n",
       "gene_n_snps_used_log                      1.000000   \n",
       "gene_n_snps_used_sharing_log              0.528185   \n",
       "\n",
       "                              gene_n_snps_used_sharing_log  \n",
       "gene_size_log                                    -0.461650  \n",
       "gene_density_log                                 -0.795831  \n",
       "gene_n_snps_used_log                              0.528185  \n",
       "gene_n_snps_used_sharing_log                      1.000000  "
      ]
     },
     "execution_count": 87,
     "metadata": {},
     "output_type": "execute_result"
    }
   ],
   "source": [
    "_tmp[[c for c in _tmp.columns if \"_log\" in c]].corr()"
   ]
  },
  {
   "cell_type": "markdown",
   "id": "7fda91cb-b5dc-4d13-a779-847dc05195a1",
   "metadata": {
    "papermill": {
     "duration": 0.012899,
     "end_time": "2022-07-11T13:23:15.569947",
     "exception": false,
     "start_time": "2022-07-11T13:23:15.557048",
     "status": "completed"
    },
    "tags": []
   },
   "source": [
    "# [full corr matrix] GLS on randomly generated phenotypes using gene-level covariates"
   ]
  },
  {
   "cell_type": "code",
   "execution_count": 88,
   "id": "ed44929a-f26b-4669-b9de-6df527198dd2",
   "metadata": {},
   "outputs": [],
   "source": [
    "PERC_NONZERO_GENES = None"
   ]
  },
  {
   "cell_type": "markdown",
   "id": "e116c136-f62f-4b6b-8eb4-c5318a7413fa",
   "metadata": {},
   "source": [
    "## Random phenotype 6 / LV45"
   ]
  },
  {
   "cell_type": "code",
   "execution_count": 89,
   "id": "c9a3ee15-a9dd-48bf-b41b-b5df10377cdc",
   "metadata": {},
   "outputs": [
    {
     "data": {
      "text/plain": [
       "'multixcan-random_phenotype6-pvalues'"
      ]
     },
     "metadata": {},
     "output_type": "display_data"
    }
   ],
   "source": [
    "lv_code = \"LV45\"\n",
    "phenotype_code = 6\n",
    "\n",
    "phenotype_name_base = f\"multixcan-random_phenotype{phenotype_code}\"\n",
    "phenotype_name = f\"{phenotype_name_base}-pvalues\"\n",
    "display(phenotype_name)"
   ]
  },
  {
   "cell_type": "code",
   "execution_count": 92,
   "id": "5f291b93-f100-4fe9-951a-9e349b16ca41",
   "metadata": {},
   "outputs": [],
   "source": [
    "X, y = get_data(lv_code, random_phenotype_code=phenotype_code, add_covars=True)\n",
    "# keep only covars that we are testing\n",
    "X = X.drop(columns=[\"gene_n_snps_used\", \"gene_n_snps_used_sharing\"])\n",
    "corr_mat = get_aligned_corr_mat(X, perc=PERC_NONZERO_GENES)"
   ]
  },
  {
   "cell_type": "code",
   "execution_count": 93,
   "id": "22585e33-fcef-42c4-b669-040b264984c6",
   "metadata": {},
   "outputs": [
    {
     "data": {
      "text/html": [
       "<div>\n",
       "<style scoped>\n",
       "    .dataframe tbody tr th:only-of-type {\n",
       "        vertical-align: middle;\n",
       "    }\n",
       "\n",
       "    .dataframe tbody tr th {\n",
       "        vertical-align: top;\n",
       "    }\n",
       "\n",
       "    .dataframe thead th {\n",
       "        text-align: right;\n",
       "    }\n",
       "</style>\n",
       "<table border=\"1\" class=\"dataframe\">\n",
       "  <thead>\n",
       "    <tr style=\"text-align: right;\">\n",
       "      <th></th>\n",
       "      <th>const</th>\n",
       "      <th>LV45</th>\n",
       "      <th>gene_size</th>\n",
       "      <th>gene_density</th>\n",
       "    </tr>\n",
       "  </thead>\n",
       "  <tbody>\n",
       "    <tr>\n",
       "      <th>NOC2L</th>\n",
       "      <td>1.0</td>\n",
       "      <td>0.0</td>\n",
       "      <td>5.0</td>\n",
       "      <td>0.106383</td>\n",
       "    </tr>\n",
       "    <tr>\n",
       "      <th>HES4</th>\n",
       "      <td>1.0</td>\n",
       "      <td>0.0</td>\n",
       "      <td>3.0</td>\n",
       "      <td>0.068182</td>\n",
       "    </tr>\n",
       "    <tr>\n",
       "      <th>ISG15</th>\n",
       "      <td>1.0</td>\n",
       "      <td>0.0</td>\n",
       "      <td>6.0</td>\n",
       "      <td>0.142857</td>\n",
       "    </tr>\n",
       "    <tr>\n",
       "      <th>AGRN</th>\n",
       "      <td>1.0</td>\n",
       "      <td>0.0</td>\n",
       "      <td>4.0</td>\n",
       "      <td>0.086957</td>\n",
       "    </tr>\n",
       "    <tr>\n",
       "      <th>TNFRSF18</th>\n",
       "      <td>1.0</td>\n",
       "      <td>0.0</td>\n",
       "      <td>4.0</td>\n",
       "      <td>0.088889</td>\n",
       "    </tr>\n",
       "  </tbody>\n",
       "</table>\n",
       "</div>"
      ],
      "text/plain": [
       "          const  LV45  gene_size  gene_density\n",
       "NOC2L       1.0   0.0        5.0      0.106383\n",
       "HES4        1.0   0.0        3.0      0.068182\n",
       "ISG15       1.0   0.0        6.0      0.142857\n",
       "AGRN        1.0   0.0        4.0      0.086957\n",
       "TNFRSF18    1.0   0.0        4.0      0.088889"
      ]
     },
     "execution_count": 93,
     "metadata": {},
     "output_type": "execute_result"
    }
   ],
   "source": [
    "X.head()"
   ]
  },
  {
   "cell_type": "code",
   "execution_count": 94,
   "id": "a7ce9a37-48f1-4c94-835c-9b6c58e66811",
   "metadata": {},
   "outputs": [
    {
     "data": {
      "text/plain": [
       "NOC2L       0.325533\n",
       "HES4        0.274247\n",
       "ISG15       1.189163\n",
       "AGRN        1.567185\n",
       "TNFRSF18    0.910990\n",
       "dtype: float64"
      ]
     },
     "execution_count": 94,
     "metadata": {},
     "output_type": "execute_result"
    }
   ],
   "source": [
    "y.head()"
   ]
  },
  {
   "cell_type": "code",
   "execution_count": 95,
   "id": "395840cb-b195-4fe1-9cba-c2d1082ccd0e",
   "metadata": {},
   "outputs": [],
   "source": [
    "Xs, ys = standardize_data(X, y)"
   ]
  },
  {
   "cell_type": "code",
   "execution_count": 96,
   "id": "ff21697c-bc6e-42ae-b7f2-e6e966692d8c",
   "metadata": {},
   "outputs": [
    {
     "data": {
      "text/html": [
       "<div>\n",
       "<style scoped>\n",
       "    .dataframe tbody tr th:only-of-type {\n",
       "        vertical-align: middle;\n",
       "    }\n",
       "\n",
       "    .dataframe tbody tr th {\n",
       "        vertical-align: top;\n",
       "    }\n",
       "\n",
       "    .dataframe thead th {\n",
       "        text-align: right;\n",
       "    }\n",
       "</style>\n",
       "<table border=\"1\" class=\"dataframe\">\n",
       "  <thead>\n",
       "    <tr style=\"text-align: right;\">\n",
       "      <th></th>\n",
       "      <th>LV45</th>\n",
       "      <th>gene_size</th>\n",
       "      <th>gene_density</th>\n",
       "    </tr>\n",
       "  </thead>\n",
       "  <tbody>\n",
       "    <tr>\n",
       "      <th>count</th>\n",
       "      <td>6.442000e+03</td>\n",
       "      <td>6.442000e+03</td>\n",
       "      <td>6.442000e+03</td>\n",
       "    </tr>\n",
       "    <tr>\n",
       "      <th>mean</th>\n",
       "      <td>1.764776e-17</td>\n",
       "      <td>1.985372e-17</td>\n",
       "      <td>6.153552e-15</td>\n",
       "    </tr>\n",
       "    <tr>\n",
       "      <th>std</th>\n",
       "      <td>1.000000e+00</td>\n",
       "      <td>1.000000e+00</td>\n",
       "      <td>1.000000e+00</td>\n",
       "    </tr>\n",
       "    <tr>\n",
       "      <th>min</th>\n",
       "      <td>-5.995686e-02</td>\n",
       "      <td>-1.453777e+00</td>\n",
       "      <td>-8.450385e-01</td>\n",
       "    </tr>\n",
       "    <tr>\n",
       "      <th>25%</th>\n",
       "      <td>-5.995686e-02</td>\n",
       "      <td>-5.895070e-01</td>\n",
       "      <td>-5.802019e-01</td>\n",
       "    </tr>\n",
       "    <tr>\n",
       "      <th>50%</th>\n",
       "      <td>-5.995686e-02</td>\n",
       "      <td>-1.573718e-01</td>\n",
       "      <td>-3.395799e-01</td>\n",
       "    </tr>\n",
       "    <tr>\n",
       "      <th>75%</th>\n",
       "      <td>-5.995686e-02</td>\n",
       "      <td>7.068986e-01</td>\n",
       "      <td>1.286255e-01</td>\n",
       "    </tr>\n",
       "    <tr>\n",
       "      <th>max</th>\n",
       "      <td>2.786523e+01</td>\n",
       "      <td>5.892521e+00</td>\n",
       "      <td>4.763266e+00</td>\n",
       "    </tr>\n",
       "  </tbody>\n",
       "</table>\n",
       "</div>"
      ],
      "text/plain": [
       "               LV45     gene_size  gene_density\n",
       "count  6.442000e+03  6.442000e+03  6.442000e+03\n",
       "mean   1.764776e-17  1.985372e-17  6.153552e-15\n",
       "std    1.000000e+00  1.000000e+00  1.000000e+00\n",
       "min   -5.995686e-02 -1.453777e+00 -8.450385e-01\n",
       "25%   -5.995686e-02 -5.895070e-01 -5.802019e-01\n",
       "50%   -5.995686e-02 -1.573718e-01 -3.395799e-01\n",
       "75%   -5.995686e-02  7.068986e-01  1.286255e-01\n",
       "max    2.786523e+01  5.892521e+00  4.763266e+00"
      ]
     },
     "metadata": {},
     "output_type": "display_data"
    }
   ],
   "source": [
    "_Xs_desc = Xs[[lv_code, \"gene_size\", \"gene_density\"]].describe()\n",
    "display(_Xs_desc)\n",
    "assert (_Xs_desc.loc[\"mean\"] < 1e-10).all()\n",
    "assert (_Xs_desc.loc[\"std\"].between(0.9999, 1.00001)).all()"
   ]
  },
  {
   "cell_type": "code",
   "execution_count": 97,
   "id": "8caf2e5c-31f5-4567-9d63-6076d29aba9c",
   "metadata": {},
   "outputs": [
    {
     "data": {
      "text/html": [
       "<div>\n",
       "<style scoped>\n",
       "    .dataframe tbody tr th:only-of-type {\n",
       "        vertical-align: middle;\n",
       "    }\n",
       "\n",
       "    .dataframe tbody tr th {\n",
       "        vertical-align: top;\n",
       "    }\n",
       "\n",
       "    .dataframe thead th {\n",
       "        text-align: right;\n",
       "    }\n",
       "</style>\n",
       "<table border=\"1\" class=\"dataframe\">\n",
       "  <thead>\n",
       "    <tr style=\"text-align: right;\">\n",
       "      <th></th>\n",
       "      <th>const</th>\n",
       "      <th>LV45</th>\n",
       "      <th>gene_size</th>\n",
       "      <th>gene_density</th>\n",
       "    </tr>\n",
       "  </thead>\n",
       "  <tbody>\n",
       "    <tr>\n",
       "      <th>NOC2L</th>\n",
       "      <td>1.0</td>\n",
       "      <td>-0.059957</td>\n",
       "      <td>0.274763</td>\n",
       "      <td>-0.352820</td>\n",
       "    </tr>\n",
       "    <tr>\n",
       "      <th>HES4</th>\n",
       "      <td>1.0</td>\n",
       "      <td>-0.059957</td>\n",
       "      <td>-0.589507</td>\n",
       "      <td>-0.571527</td>\n",
       "    </tr>\n",
       "    <tr>\n",
       "      <th>ISG15</th>\n",
       "      <td>1.0</td>\n",
       "      <td>-0.059957</td>\n",
       "      <td>0.706899</td>\n",
       "      <td>-0.144000</td>\n",
       "    </tr>\n",
       "    <tr>\n",
       "      <th>AGRN</th>\n",
       "      <td>1.0</td>\n",
       "      <td>-0.059957</td>\n",
       "      <td>-0.157372</td>\n",
       "      <td>-0.464040</td>\n",
       "    </tr>\n",
       "    <tr>\n",
       "      <th>TNFRSF18</th>\n",
       "      <td>1.0</td>\n",
       "      <td>-0.059957</td>\n",
       "      <td>-0.157372</td>\n",
       "      <td>-0.452976</td>\n",
       "    </tr>\n",
       "  </tbody>\n",
       "</table>\n",
       "</div>"
      ],
      "text/plain": [
       "          const      LV45  gene_size  gene_density\n",
       "NOC2L       1.0 -0.059957   0.274763     -0.352820\n",
       "HES4        1.0 -0.059957  -0.589507     -0.571527\n",
       "ISG15       1.0 -0.059957   0.706899     -0.144000\n",
       "AGRN        1.0 -0.059957  -0.157372     -0.464040\n",
       "TNFRSF18    1.0 -0.059957  -0.157372     -0.452976"
      ]
     },
     "execution_count": 97,
     "metadata": {},
     "output_type": "execute_result"
    }
   ],
   "source": [
    "Xs.head()"
   ]
  },
  {
   "cell_type": "code",
   "execution_count": 98,
   "id": "6c268354-84b6-4e91-ae42-629bca84b71a",
   "metadata": {},
   "outputs": [
    {
     "data": {
      "text/plain": [
       "NOC2L      -0.750320\n",
       "HES4       -0.838108\n",
       "ISG15       0.727987\n",
       "AGRN        1.375061\n",
       "TNFRSF18    0.251828\n",
       "dtype: float64"
      ]
     },
     "execution_count": 98,
     "metadata": {},
     "output_type": "execute_result"
    }
   ],
   "source": [
    "ys.head()"
   ]
  },
  {
   "cell_type": "code",
   "execution_count": 99,
   "id": "586be850-fbfe-440d-8c06-b886b999f879",
   "metadata": {},
   "outputs": [],
   "source": [
    "_gls_results = train_statsmodels_gls(Xs, ys, corr_mat)"
   ]
  },
  {
   "cell_type": "code",
   "execution_count": 100,
   "id": "7072a13b-2501-4a1a-8c23-0bcd49541744",
   "metadata": {},
   "outputs": [
    {
     "name": "stdout",
     "output_type": "stream",
     "text": [
      "                            GLS Regression Results                            \n",
      "==============================================================================\n",
      "Dep. Variable:                      y   R-squared:                       0.000\n",
      "Model:                            GLS   Adj. R-squared:                 -0.000\n",
      "Method:                 Least Squares   F-statistic:                    0.1625\n",
      "Date:                Tue, 02 Aug 2022   Prob (F-statistic):              0.922\n",
      "Time:                        13:59:04   Log-Likelihood:                -8696.3\n",
      "No. Observations:                6442   AIC:                         1.740e+04\n",
      "Df Residuals:                    6438   BIC:                         1.743e+04\n",
      "Df Model:                           3                                         \n",
      "Covariance Type:            nonrobust                                         \n",
      "================================================================================\n",
      "                   coef    std err          t      P>|t|      [0.025      0.975]\n",
      "--------------------------------------------------------------------------------\n",
      "const            0.0233      0.025      0.929      0.353      -0.026       0.072\n",
      "LV45            -0.0032      0.009     -0.376      0.707      -0.020       0.014\n",
      "gene_size       -0.0078      0.013     -0.581      0.561      -0.034       0.018\n",
      "gene_density     0.0001      0.002      0.089      0.929      -0.003       0.003\n",
      "==============================================================================\n",
      "Omnibus:                      926.279   Durbin-Watson:                   1.991\n",
      "Prob(Omnibus):                  0.000   Jarque-Bera (JB):             1531.139\n",
      "Skew:                           0.971   Prob(JB):                         0.00\n",
      "Kurtosis:                       4.391   Cond. No.                         15.2\n",
      "==============================================================================\n",
      "\n",
      "Notes:\n",
      "[1] Standard Errors assume that the covariance matrix of the errors is correctly specified.\n"
     ]
    }
   ],
   "source": [
    "print(_gls_results.summary())"
   ]
  },
  {
   "cell_type": "code",
   "execution_count": 101,
   "id": "8af3eed2-1670-4d47-8f24-8647cfa02a9c",
   "metadata": {},
   "outputs": [
    {
     "name": "stdout",
     "output_type": "stream",
     "text": [
      "\n",
      "exp_coef = -0.0032341246762881432\n",
      "exp_coef_se = 0.00859220860058952\n",
      "exp_tvalue = -0.3764020203217886\n",
      "exp_pval_twosided = 0.7066304479272314\n",
      "exp_pval_onesided = 0.6466847760363843\n",
      "    \n"
     ]
    }
   ],
   "source": [
    "# print full numbers\n",
    "with np.printoptions(threshold=sys.maxsize, precision=20):\n",
    "    print(\n",
    "        f\"\"\"\n",
    "exp_coef = {_gls_results.params.to_numpy()[1]}\n",
    "exp_coef_se = {_gls_results.bse.to_numpy()[1]}\n",
    "exp_tvalue = {_gls_results.tvalues.to_numpy()[1]}\n",
    "exp_pval_twosided = {_gls_results.pvalues.to_numpy()[1]}\n",
    "exp_pval_onesided = {stats.t.sf(_gls_results.tvalues.to_numpy()[1], _gls_results.df_resid)}\n",
    "    \"\"\"\n",
    "    )"
   ]
  },
  {
   "cell_type": "code",
   "execution_count": 102,
   "id": "0585341f-30f1-4eeb-b341-2a3a7dcc085e",
   "metadata": {},
   "outputs": [],
   "source": [
    "# save phenotype\n",
    "y.to_pickle(OUTPUT_DIR / f\"{phenotype_name}.pkl.xz\")"
   ]
  },
  {
   "cell_type": "code",
   "execution_count": 103,
   "id": "5b22358f-476a-4365-940b-cfee66a43a07",
   "metadata": {},
   "outputs": [
    {
     "data": {
      "text/plain": [
       "'multixcan-random_phenotype6-covars'"
      ]
     },
     "metadata": {},
     "output_type": "display_data"
    }
   ],
   "source": [
    "# save covariates\n",
    "phenotype_covars_name = f\"{phenotype_name_base}-covars\"\n",
    "display(phenotype_covars_name)"
   ]
  },
  {
   "cell_type": "code",
   "execution_count": 104,
   "id": "af42919d-5545-40d6-9e8d-1ebe746b07e9",
   "metadata": {},
   "outputs": [
    {
     "data": {
      "text/html": [
       "<div>\n",
       "<style scoped>\n",
       "    .dataframe tbody tr th:only-of-type {\n",
       "        vertical-align: middle;\n",
       "    }\n",
       "\n",
       "    .dataframe tbody tr th {\n",
       "        vertical-align: top;\n",
       "    }\n",
       "\n",
       "    .dataframe thead th {\n",
       "        text-align: right;\n",
       "    }\n",
       "</style>\n",
       "<table border=\"1\" class=\"dataframe\">\n",
       "  <thead>\n",
       "    <tr style=\"text-align: right;\">\n",
       "      <th></th>\n",
       "      <th>gene_size</th>\n",
       "      <th>gene_density</th>\n",
       "    </tr>\n",
       "  </thead>\n",
       "  <tbody>\n",
       "    <tr>\n",
       "      <th>NOC2L</th>\n",
       "      <td>5.0</td>\n",
       "      <td>0.106383</td>\n",
       "    </tr>\n",
       "    <tr>\n",
       "      <th>HES4</th>\n",
       "      <td>3.0</td>\n",
       "      <td>0.068182</td>\n",
       "    </tr>\n",
       "    <tr>\n",
       "      <th>ISG15</th>\n",
       "      <td>6.0</td>\n",
       "      <td>0.142857</td>\n",
       "    </tr>\n",
       "    <tr>\n",
       "      <th>AGRN</th>\n",
       "      <td>4.0</td>\n",
       "      <td>0.086957</td>\n",
       "    </tr>\n",
       "    <tr>\n",
       "      <th>TNFRSF18</th>\n",
       "      <td>4.0</td>\n",
       "      <td>0.088889</td>\n",
       "    </tr>\n",
       "  </tbody>\n",
       "</table>\n",
       "</div>"
      ],
      "text/plain": [
       "          gene_size  gene_density\n",
       "NOC2L           5.0      0.106383\n",
       "HES4            3.0      0.068182\n",
       "ISG15           6.0      0.142857\n",
       "AGRN            4.0      0.086957\n",
       "TNFRSF18        4.0      0.088889"
      ]
     },
     "metadata": {},
     "output_type": "display_data"
    }
   ],
   "source": [
    "y_covars = X[[c for c in X.columns if c not in (\"const\", lv_code)]]\n",
    "display(y_covars.head())\n",
    "assert not y_covars.isna().any(None)"
   ]
  },
  {
   "cell_type": "code",
   "execution_count": 105,
   "id": "b824bc76-4dee-4fe5-afe2-bf083ea45cf0",
   "metadata": {},
   "outputs": [],
   "source": [
    "# save covariates\n",
    "y_covars.to_pickle(OUTPUT_DIR / f\"{phenotype_covars_name}.pkl.xz\")"
   ]
  },
  {
   "cell_type": "code",
   "execution_count": 106,
   "id": "9c2749db-7fce-4387-816f-661dc201b7a8",
   "metadata": {},
   "outputs": [
    {
     "name": "stdout",
     "output_type": "stream",
     "text": [
      "                            OLS Regression Results                            \n",
      "==============================================================================\n",
      "Dep. Variable:                      y   R-squared:                       0.001\n",
      "Model:                            OLS   Adj. R-squared:                  0.000\n",
      "Method:                 Least Squares   F-statistic:                     1.192\n",
      "Date:                Tue, 02 Aug 2022   Prob (F-statistic):              0.311\n",
      "Time:                        13:59:05   Log-Likelihood:                -9138.5\n",
      "No. Observations:                6442   AIC:                         1.829e+04\n",
      "Df Residuals:                    6438   BIC:                         1.831e+04\n",
      "Df Model:                           3                                         \n",
      "Covariance Type:            nonrobust                                         \n",
      "================================================================================\n",
      "                   coef    std err          t      P>|t|      [0.025      0.975]\n",
      "--------------------------------------------------------------------------------\n",
      "const        -1.626e-16      0.012  -1.31e-14      1.000      -0.024       0.024\n",
      "LV45            -0.0231      0.012     -1.853      0.064      -0.048       0.001\n",
      "gene_size       -0.0023      0.013     -0.175      0.861      -0.028       0.024\n",
      "gene_density     0.0051      0.013      0.384      0.701      -0.021       0.031\n",
      "==============================================================================\n",
      "Omnibus:                     1102.739   Durbin-Watson:                   1.631\n",
      "Prob(Omnibus):                  0.000   Jarque-Bera (JB):             1888.708\n",
      "Skew:                           1.118   Prob(JB):                         0.00\n",
      "Kurtosis:                       4.426   Cond. No.                         1.42\n",
      "==============================================================================\n",
      "\n",
      "Notes:\n",
      "[1] Standard Errors assume that the covariance matrix of the errors is correctly specified.\n"
     ]
    }
   ],
   "source": [
    "# for debugging purposes I print the OLS results also\n",
    "_tmp_model = sm.OLS(ys, Xs)\n",
    "_tmp_results = _tmp_model.fit()\n",
    "print(_tmp_results.summary())"
   ]
  },
  {
   "cell_type": "markdown",
   "id": "c317f3ad-3667-4cb6-9db5-7e06ec93d616",
   "metadata": {},
   "source": [
    "## Random phenotype 6 / LV455"
   ]
  },
  {
   "cell_type": "code",
   "execution_count": 107,
   "id": "43db2a62-d944-4fab-beb2-714f2a688a20",
   "metadata": {},
   "outputs": [
    {
     "data": {
      "text/plain": [
       "'multixcan-random_phenotype6-pvalues'"
      ]
     },
     "metadata": {},
     "output_type": "display_data"
    }
   ],
   "source": [
    "lv_code = \"LV455\"\n",
    "phenotype_code = 6\n",
    "\n",
    "phenotype_name_base = f\"multixcan-random_phenotype{phenotype_code}\"\n",
    "phenotype_name = f\"{phenotype_name_base}-pvalues\"\n",
    "display(phenotype_name)"
   ]
  },
  {
   "cell_type": "code",
   "execution_count": 108,
   "id": "a4721d29-ced1-48ee-bdb2-0e3122b04016",
   "metadata": {},
   "outputs": [],
   "source": [
    "X, y = get_data(lv_code, random_phenotype_code=phenotype_code, add_covars=True)\n",
    "X = X.drop(columns=[\"gene_n_snps_used\", \"gene_n_snps_used_sharing\"])\n",
    "corr_mat = get_aligned_corr_mat(X, perc=PERC_NONZERO_GENES)"
   ]
  },
  {
   "cell_type": "code",
   "execution_count": 109,
   "id": "808e5771-5505-4666-aaad-74d1a49f31eb",
   "metadata": {},
   "outputs": [
    {
     "data": {
      "text/html": [
       "<div>\n",
       "<style scoped>\n",
       "    .dataframe tbody tr th:only-of-type {\n",
       "        vertical-align: middle;\n",
       "    }\n",
       "\n",
       "    .dataframe tbody tr th {\n",
       "        vertical-align: top;\n",
       "    }\n",
       "\n",
       "    .dataframe thead th {\n",
       "        text-align: right;\n",
       "    }\n",
       "</style>\n",
       "<table border=\"1\" class=\"dataframe\">\n",
       "  <thead>\n",
       "    <tr style=\"text-align: right;\">\n",
       "      <th></th>\n",
       "      <th>const</th>\n",
       "      <th>LV455</th>\n",
       "      <th>gene_size</th>\n",
       "      <th>gene_density</th>\n",
       "    </tr>\n",
       "  </thead>\n",
       "  <tbody>\n",
       "    <tr>\n",
       "      <th>NOC2L</th>\n",
       "      <td>1.0</td>\n",
       "      <td>0.005223</td>\n",
       "      <td>5.0</td>\n",
       "      <td>0.106383</td>\n",
       "    </tr>\n",
       "    <tr>\n",
       "      <th>HES4</th>\n",
       "      <td>1.0</td>\n",
       "      <td>0.000000</td>\n",
       "      <td>3.0</td>\n",
       "      <td>0.068182</td>\n",
       "    </tr>\n",
       "    <tr>\n",
       "      <th>ISG15</th>\n",
       "      <td>1.0</td>\n",
       "      <td>0.000000</td>\n",
       "      <td>6.0</td>\n",
       "      <td>0.142857</td>\n",
       "    </tr>\n",
       "    <tr>\n",
       "      <th>AGRN</th>\n",
       "      <td>1.0</td>\n",
       "      <td>0.002763</td>\n",
       "      <td>4.0</td>\n",
       "      <td>0.086957</td>\n",
       "    </tr>\n",
       "    <tr>\n",
       "      <th>TNFRSF18</th>\n",
       "      <td>1.0</td>\n",
       "      <td>0.003323</td>\n",
       "      <td>4.0</td>\n",
       "      <td>0.088889</td>\n",
       "    </tr>\n",
       "  </tbody>\n",
       "</table>\n",
       "</div>"
      ],
      "text/plain": [
       "          const     LV455  gene_size  gene_density\n",
       "NOC2L       1.0  0.005223        5.0      0.106383\n",
       "HES4        1.0  0.000000        3.0      0.068182\n",
       "ISG15       1.0  0.000000        6.0      0.142857\n",
       "AGRN        1.0  0.002763        4.0      0.086957\n",
       "TNFRSF18    1.0  0.003323        4.0      0.088889"
      ]
     },
     "execution_count": 109,
     "metadata": {},
     "output_type": "execute_result"
    }
   ],
   "source": [
    "X.head()"
   ]
  },
  {
   "cell_type": "code",
   "execution_count": 110,
   "id": "1baf98d9-045b-4c42-baa2-495ba534a3eb",
   "metadata": {},
   "outputs": [
    {
     "data": {
      "text/plain": [
       "NOC2L       0.325533\n",
       "HES4        0.274247\n",
       "ISG15       1.189163\n",
       "AGRN        1.567185\n",
       "TNFRSF18    0.910990\n",
       "dtype: float64"
      ]
     },
     "execution_count": 110,
     "metadata": {},
     "output_type": "execute_result"
    }
   ],
   "source": [
    "y.head()"
   ]
  },
  {
   "cell_type": "code",
   "execution_count": 111,
   "id": "2a311753-ae29-41e7-99d2-777da81b49e4",
   "metadata": {},
   "outputs": [],
   "source": [
    "Xs, ys = standardize_data(X, y)"
   ]
  },
  {
   "cell_type": "code",
   "execution_count": 112,
   "id": "762345ac-39be-4552-931e-bdfe08f6b77c",
   "metadata": {},
   "outputs": [
    {
     "data": {
      "text/html": [
       "<div>\n",
       "<style scoped>\n",
       "    .dataframe tbody tr th:only-of-type {\n",
       "        vertical-align: middle;\n",
       "    }\n",
       "\n",
       "    .dataframe tbody tr th {\n",
       "        vertical-align: top;\n",
       "    }\n",
       "\n",
       "    .dataframe thead th {\n",
       "        text-align: right;\n",
       "    }\n",
       "</style>\n",
       "<table border=\"1\" class=\"dataframe\">\n",
       "  <thead>\n",
       "    <tr style=\"text-align: right;\">\n",
       "      <th></th>\n",
       "      <th>LV455</th>\n",
       "      <th>gene_size</th>\n",
       "      <th>gene_density</th>\n",
       "    </tr>\n",
       "  </thead>\n",
       "  <tbody>\n",
       "    <tr>\n",
       "      <th>count</th>\n",
       "      <td>6.442000e+03</td>\n",
       "      <td>6.442000e+03</td>\n",
       "      <td>6.442000e+03</td>\n",
       "    </tr>\n",
       "    <tr>\n",
       "      <th>mean</th>\n",
       "      <td>9.485668e-17</td>\n",
       "      <td>1.985372e-17</td>\n",
       "      <td>6.153552e-15</td>\n",
       "    </tr>\n",
       "    <tr>\n",
       "      <th>std</th>\n",
       "      <td>1.000000e+00</td>\n",
       "      <td>1.000000e+00</td>\n",
       "      <td>1.000000e+00</td>\n",
       "    </tr>\n",
       "    <tr>\n",
       "      <th>min</th>\n",
       "      <td>-7.851697e-02</td>\n",
       "      <td>-1.453777e+00</td>\n",
       "      <td>-8.450385e-01</td>\n",
       "    </tr>\n",
       "    <tr>\n",
       "      <th>25%</th>\n",
       "      <td>-7.851697e-02</td>\n",
       "      <td>-5.895070e-01</td>\n",
       "      <td>-5.802019e-01</td>\n",
       "    </tr>\n",
       "    <tr>\n",
       "      <th>50%</th>\n",
       "      <td>-7.851697e-02</td>\n",
       "      <td>-1.573718e-01</td>\n",
       "      <td>-3.395799e-01</td>\n",
       "    </tr>\n",
       "    <tr>\n",
       "      <th>75%</th>\n",
       "      <td>-4.700189e-02</td>\n",
       "      <td>7.068986e-01</td>\n",
       "      <td>1.286255e-01</td>\n",
       "    </tr>\n",
       "    <tr>\n",
       "      <th>max</th>\n",
       "      <td>4.151043e+01</td>\n",
       "      <td>5.892521e+00</td>\n",
       "      <td>4.763266e+00</td>\n",
       "    </tr>\n",
       "  </tbody>\n",
       "</table>\n",
       "</div>"
      ],
      "text/plain": [
       "              LV455     gene_size  gene_density\n",
       "count  6.442000e+03  6.442000e+03  6.442000e+03\n",
       "mean   9.485668e-17  1.985372e-17  6.153552e-15\n",
       "std    1.000000e+00  1.000000e+00  1.000000e+00\n",
       "min   -7.851697e-02 -1.453777e+00 -8.450385e-01\n",
       "25%   -7.851697e-02 -5.895070e-01 -5.802019e-01\n",
       "50%   -7.851697e-02 -1.573718e-01 -3.395799e-01\n",
       "75%   -4.700189e-02  7.068986e-01  1.286255e-01\n",
       "max    4.151043e+01  5.892521e+00  4.763266e+00"
      ]
     },
     "metadata": {},
     "output_type": "display_data"
    }
   ],
   "source": [
    "_Xs_desc = Xs[[lv_code, \"gene_size\", \"gene_density\"]].describe()\n",
    "display(_Xs_desc)\n",
    "assert (_Xs_desc.loc[\"mean\"] < 1e-10).all()\n",
    "assert (_Xs_desc.loc[\"std\"].between(0.9999, 1.00001)).all()"
   ]
  },
  {
   "cell_type": "code",
   "execution_count": 113,
   "id": "ec3c81d9-787b-48ea-a093-93486fd91eaa",
   "metadata": {},
   "outputs": [
    {
     "data": {
      "text/html": [
       "<div>\n",
       "<style scoped>\n",
       "    .dataframe tbody tr th:only-of-type {\n",
       "        vertical-align: middle;\n",
       "    }\n",
       "\n",
       "    .dataframe tbody tr th {\n",
       "        vertical-align: top;\n",
       "    }\n",
       "\n",
       "    .dataframe thead th {\n",
       "        text-align: right;\n",
       "    }\n",
       "</style>\n",
       "<table border=\"1\" class=\"dataframe\">\n",
       "  <thead>\n",
       "    <tr style=\"text-align: right;\">\n",
       "      <th></th>\n",
       "      <th>const</th>\n",
       "      <th>LV455</th>\n",
       "      <th>gene_size</th>\n",
       "      <th>gene_density</th>\n",
       "    </tr>\n",
       "  </thead>\n",
       "  <tbody>\n",
       "    <tr>\n",
       "      <th>NOC2L</th>\n",
       "      <td>1.0</td>\n",
       "      <td>-0.052328</td>\n",
       "      <td>0.274763</td>\n",
       "      <td>-0.352820</td>\n",
       "    </tr>\n",
       "    <tr>\n",
       "      <th>HES4</th>\n",
       "      <td>1.0</td>\n",
       "      <td>-0.078517</td>\n",
       "      <td>-0.589507</td>\n",
       "      <td>-0.571527</td>\n",
       "    </tr>\n",
       "    <tr>\n",
       "      <th>ISG15</th>\n",
       "      <td>1.0</td>\n",
       "      <td>-0.078517</td>\n",
       "      <td>0.706899</td>\n",
       "      <td>-0.144000</td>\n",
       "    </tr>\n",
       "    <tr>\n",
       "      <th>AGRN</th>\n",
       "      <td>1.0</td>\n",
       "      <td>-0.064664</td>\n",
       "      <td>-0.157372</td>\n",
       "      <td>-0.464040</td>\n",
       "    </tr>\n",
       "    <tr>\n",
       "      <th>TNFRSF18</th>\n",
       "      <td>1.0</td>\n",
       "      <td>-0.061858</td>\n",
       "      <td>-0.157372</td>\n",
       "      <td>-0.452976</td>\n",
       "    </tr>\n",
       "  </tbody>\n",
       "</table>\n",
       "</div>"
      ],
      "text/plain": [
       "          const     LV455  gene_size  gene_density\n",
       "NOC2L       1.0 -0.052328   0.274763     -0.352820\n",
       "HES4        1.0 -0.078517  -0.589507     -0.571527\n",
       "ISG15       1.0 -0.078517   0.706899     -0.144000\n",
       "AGRN        1.0 -0.064664  -0.157372     -0.464040\n",
       "TNFRSF18    1.0 -0.061858  -0.157372     -0.452976"
      ]
     },
     "execution_count": 113,
     "metadata": {},
     "output_type": "execute_result"
    }
   ],
   "source": [
    "Xs.head()"
   ]
  },
  {
   "cell_type": "code",
   "execution_count": 114,
   "id": "10d190c5-b014-496b-b9a4-e6b9409fa2b5",
   "metadata": {},
   "outputs": [
    {
     "data": {
      "text/plain": [
       "NOC2L      -0.750320\n",
       "HES4       -0.838108\n",
       "ISG15       0.727987\n",
       "AGRN        1.375061\n",
       "TNFRSF18    0.251828\n",
       "dtype: float64"
      ]
     },
     "execution_count": 114,
     "metadata": {},
     "output_type": "execute_result"
    }
   ],
   "source": [
    "ys.head()"
   ]
  },
  {
   "cell_type": "code",
   "execution_count": 115,
   "id": "4da52cbc-49cc-4d9a-a9e5-3cc58b638279",
   "metadata": {},
   "outputs": [],
   "source": [
    "_gls_results = train_statsmodels_gls(Xs, ys, corr_mat)"
   ]
  },
  {
   "cell_type": "code",
   "execution_count": 116,
   "id": "51f1877e-a4d8-4021-86ae-6fb355007731",
   "metadata": {},
   "outputs": [
    {
     "name": "stdout",
     "output_type": "stream",
     "text": [
      "                            GLS Regression Results                            \n",
      "==============================================================================\n",
      "Dep. Variable:                      y   R-squared:                       0.000\n",
      "Model:                            GLS   Adj. R-squared:                 -0.000\n",
      "Method:                 Least Squares   F-statistic:                    0.1210\n",
      "Date:                Tue, 02 Aug 2022   Prob (F-statistic):              0.948\n",
      "Time:                        14:01:10   Log-Likelihood:                -8696.4\n",
      "No. Observations:                6442   AIC:                         1.740e+04\n",
      "Df Residuals:                    6438   BIC:                         1.743e+04\n",
      "Df Model:                           3                                         \n",
      "Covariance Type:            nonrobust                                         \n",
      "================================================================================\n",
      "                   coef    std err          t      P>|t|      [0.025      0.975]\n",
      "--------------------------------------------------------------------------------\n",
      "const            0.0234      0.025      0.934      0.350      -0.026       0.072\n",
      "LV455            0.0015      0.011      0.131      0.896      -0.021       0.024\n",
      "gene_size       -0.0078      0.013     -0.584      0.559      -0.034       0.018\n",
      "gene_density     0.0001      0.002      0.059      0.953      -0.003       0.003\n",
      "==============================================================================\n",
      "Omnibus:                      926.686   Durbin-Watson:                   1.991\n",
      "Prob(Omnibus):                  0.000   Jarque-Bera (JB):             1531.945\n",
      "Skew:                           0.971   Prob(JB):                         0.00\n",
      "Kurtosis:                       4.391   Cond. No.                         15.2\n",
      "==============================================================================\n",
      "\n",
      "Notes:\n",
      "[1] Standard Errors assume that the covariance matrix of the errors is correctly specified.\n"
     ]
    }
   ],
   "source": [
    "print(_gls_results.summary())"
   ]
  },
  {
   "cell_type": "code",
   "execution_count": 117,
   "id": "a601b667-3b08-4626-bdb2-6e9bb163938a",
   "metadata": {},
   "outputs": [
    {
     "name": "stdout",
     "output_type": "stream",
     "text": [
      "\n",
      "exp_coef = 0.0014838894195672275\n",
      "exp_coef_se = 0.011297197897620825\n",
      "exp_tvalue = 0.13135021914414127\n",
      "exp_pval_twosided = 0.895502370998393\n",
      "exp_pval_onesided = 0.4477511854991965\n",
      "    \n"
     ]
    }
   ],
   "source": [
    "# print full numbers\n",
    "with np.printoptions(threshold=sys.maxsize, precision=20):\n",
    "    print(\n",
    "        f\"\"\"\n",
    "exp_coef = {_gls_results.params.to_numpy()[1]}\n",
    "exp_coef_se = {_gls_results.bse.to_numpy()[1]}\n",
    "exp_tvalue = {_gls_results.tvalues.to_numpy()[1]}\n",
    "exp_pval_twosided = {_gls_results.pvalues.to_numpy()[1]}\n",
    "exp_pval_onesided = {stats.t.sf(_gls_results.tvalues.to_numpy()[1], _gls_results.df_resid)}\n",
    "    \"\"\"\n",
    "    )"
   ]
  },
  {
   "cell_type": "code",
   "execution_count": 118,
   "id": "144cfe46-3f7c-4b68-a89a-cc1f6d80f2bf",
   "metadata": {},
   "outputs": [],
   "source": [
    "# save phenotype\n",
    "y.to_pickle(OUTPUT_DIR / f\"{phenotype_name}.pkl.xz\")"
   ]
  },
  {
   "cell_type": "code",
   "execution_count": 119,
   "id": "f8a37556-ba37-4e7b-a803-31f0864e2a46",
   "metadata": {},
   "outputs": [
    {
     "data": {
      "text/plain": [
       "'multixcan-random_phenotype6-covars'"
      ]
     },
     "metadata": {},
     "output_type": "display_data"
    }
   ],
   "source": [
    "# save covariates\n",
    "phenotype_covars_name = f\"{phenotype_name_base}-covars\"\n",
    "display(phenotype_covars_name)"
   ]
  },
  {
   "cell_type": "code",
   "execution_count": 120,
   "id": "84c1f550-bc09-4eb6-bbeb-ddace6979217",
   "metadata": {},
   "outputs": [
    {
     "data": {
      "text/html": [
       "<div>\n",
       "<style scoped>\n",
       "    .dataframe tbody tr th:only-of-type {\n",
       "        vertical-align: middle;\n",
       "    }\n",
       "\n",
       "    .dataframe tbody tr th {\n",
       "        vertical-align: top;\n",
       "    }\n",
       "\n",
       "    .dataframe thead th {\n",
       "        text-align: right;\n",
       "    }\n",
       "</style>\n",
       "<table border=\"1\" class=\"dataframe\">\n",
       "  <thead>\n",
       "    <tr style=\"text-align: right;\">\n",
       "      <th></th>\n",
       "      <th>gene_size</th>\n",
       "      <th>gene_density</th>\n",
       "    </tr>\n",
       "  </thead>\n",
       "  <tbody>\n",
       "    <tr>\n",
       "      <th>NOC2L</th>\n",
       "      <td>5.0</td>\n",
       "      <td>0.106383</td>\n",
       "    </tr>\n",
       "    <tr>\n",
       "      <th>HES4</th>\n",
       "      <td>3.0</td>\n",
       "      <td>0.068182</td>\n",
       "    </tr>\n",
       "    <tr>\n",
       "      <th>ISG15</th>\n",
       "      <td>6.0</td>\n",
       "      <td>0.142857</td>\n",
       "    </tr>\n",
       "    <tr>\n",
       "      <th>AGRN</th>\n",
       "      <td>4.0</td>\n",
       "      <td>0.086957</td>\n",
       "    </tr>\n",
       "    <tr>\n",
       "      <th>TNFRSF18</th>\n",
       "      <td>4.0</td>\n",
       "      <td>0.088889</td>\n",
       "    </tr>\n",
       "  </tbody>\n",
       "</table>\n",
       "</div>"
      ],
      "text/plain": [
       "          gene_size  gene_density\n",
       "NOC2L           5.0      0.106383\n",
       "HES4            3.0      0.068182\n",
       "ISG15           6.0      0.142857\n",
       "AGRN            4.0      0.086957\n",
       "TNFRSF18        4.0      0.088889"
      ]
     },
     "metadata": {},
     "output_type": "display_data"
    }
   ],
   "source": [
    "y_covars = X[[c for c in X.columns if c not in (\"const\", lv_code)]]\n",
    "display(y_covars.head())\n",
    "assert not y_covars.isna().any(None)"
   ]
  },
  {
   "cell_type": "code",
   "execution_count": 121,
   "id": "6e806921-c4d3-40b0-ac84-c2b78f828a60",
   "metadata": {},
   "outputs": [],
   "source": [
    "# save covariates\n",
    "y_covars.to_pickle(OUTPUT_DIR / f\"{phenotype_covars_name}.pkl.xz\")"
   ]
  },
  {
   "cell_type": "code",
   "execution_count": 122,
   "id": "9fde05c4-94e7-411f-a303-0b55fe998855",
   "metadata": {},
   "outputs": [
    {
     "name": "stdout",
     "output_type": "stream",
     "text": [
      "                            OLS Regression Results                            \n",
      "==============================================================================\n",
      "Dep. Variable:                      y   R-squared:                       0.000\n",
      "Model:                            OLS   Adj. R-squared:                 -0.000\n",
      "Method:                 Least Squares   F-statistic:                    0.1465\n",
      "Date:                Tue, 02 Aug 2022   Prob (F-statistic):              0.932\n",
      "Time:                        14:01:10   Log-Likelihood:                -9140.1\n",
      "No. Observations:                6442   AIC:                         1.829e+04\n",
      "Df Residuals:                    6438   BIC:                         1.832e+04\n",
      "Df Model:                           3                                         \n",
      "Covariance Type:            nonrobust                                         \n",
      "================================================================================\n",
      "                   coef    std err          t      P>|t|      [0.025      0.975]\n",
      "--------------------------------------------------------------------------------\n",
      "const        -1.626e-16      0.012  -1.31e-14      1.000      -0.024       0.024\n",
      "LV455            0.0068      0.012      0.544      0.586      -0.018       0.031\n",
      "gene_size       -0.0017      0.013     -0.130      0.896      -0.028       0.024\n",
      "gene_density     0.0050      0.013      0.376      0.707      -0.021       0.031\n",
      "==============================================================================\n",
      "Omnibus:                     1105.167   Durbin-Watson:                   1.631\n",
      "Prob(Omnibus):                  0.000   Jarque-Bera (JB):             1894.743\n",
      "Skew:                           1.120   Prob(JB):                         0.00\n",
      "Kurtosis:                       4.429   Cond. No.                         1.42\n",
      "==============================================================================\n",
      "\n",
      "Notes:\n",
      "[1] Standard Errors assume that the covariance matrix of the errors is correctly specified.\n"
     ]
    }
   ],
   "source": [
    "# for debugging purposes I print the OLS results also\n",
    "_tmp_model = sm.OLS(ys, Xs)\n",
    "_tmp_results = _tmp_model.fit()\n",
    "print(_tmp_results.summary())"
   ]
  },
  {
   "cell_type": "markdown",
   "id": "71dd5a78-0edd-4475-a771-7a808106e1ae",
   "metadata": {},
   "source": [
    "## Random phenotype 0 / LV801 (using logarithms)"
   ]
  },
  {
   "cell_type": "code",
   "execution_count": 123,
   "id": "a911713c-b9ff-493e-8dcb-c0adf6de4456",
   "metadata": {},
   "outputs": [
    {
     "data": {
      "text/plain": [
       "'multixcan-random_phenotype0-pvalues'"
      ]
     },
     "metadata": {},
     "output_type": "display_data"
    }
   ],
   "source": [
    "lv_code = \"LV801\"\n",
    "phenotype_code = 0\n",
    "\n",
    "phenotype_name_base = f\"multixcan-random_phenotype{phenotype_code}\"\n",
    "phenotype_name = f\"{phenotype_name_base}-pvalues\"\n",
    "display(phenotype_name)"
   ]
  },
  {
   "cell_type": "code",
   "execution_count": 129,
   "id": "88b34ee2-b461-44a2-aad8-b89a953a0740",
   "metadata": {},
   "outputs": [],
   "source": [
    "X, y = get_data(\n",
    "    lv_code, random_phenotype_code=phenotype_code, add_covars=True, add_covars_logs=True\n",
    ")\n",
    "X = X.drop(\n",
    "    columns=[\n",
    "        \"gene_n_snps_used\",\n",
    "        \"gene_n_snps_used_sharing\",\n",
    "        \"gene_n_snps_used_log\",\n",
    "        \"gene_n_snps_used_sharing_log\",\n",
    "    ]\n",
    ")\n",
    "corr_mat = get_aligned_corr_mat(X, perc=PERC_NONZERO_GENES)"
   ]
  },
  {
   "cell_type": "code",
   "execution_count": 130,
   "id": "975fe0a6-8136-48e1-84f3-f5ba4c5890a8",
   "metadata": {},
   "outputs": [
    {
     "data": {
      "text/html": [
       "<div>\n",
       "<style scoped>\n",
       "    .dataframe tbody tr th:only-of-type {\n",
       "        vertical-align: middle;\n",
       "    }\n",
       "\n",
       "    .dataframe tbody tr th {\n",
       "        vertical-align: top;\n",
       "    }\n",
       "\n",
       "    .dataframe thead th {\n",
       "        text-align: right;\n",
       "    }\n",
       "</style>\n",
       "<table border=\"1\" class=\"dataframe\">\n",
       "  <thead>\n",
       "    <tr style=\"text-align: right;\">\n",
       "      <th></th>\n",
       "      <th>const</th>\n",
       "      <th>LV801</th>\n",
       "      <th>gene_size</th>\n",
       "      <th>gene_density</th>\n",
       "      <th>gene_size_log</th>\n",
       "      <th>gene_density_log</th>\n",
       "    </tr>\n",
       "  </thead>\n",
       "  <tbody>\n",
       "    <tr>\n",
       "      <th>NOC2L</th>\n",
       "      <td>1.0</td>\n",
       "      <td>0.063959</td>\n",
       "      <td>5.0</td>\n",
       "      <td>0.106383</td>\n",
       "      <td>1.609438</td>\n",
       "      <td>2.240710</td>\n",
       "    </tr>\n",
       "    <tr>\n",
       "      <th>HES4</th>\n",
       "      <td>1.0</td>\n",
       "      <td>0.006702</td>\n",
       "      <td>3.0</td>\n",
       "      <td>0.068182</td>\n",
       "      <td>1.098612</td>\n",
       "      <td>2.685577</td>\n",
       "    </tr>\n",
       "    <tr>\n",
       "      <th>ISG15</th>\n",
       "      <td>1.0</td>\n",
       "      <td>0.000000</td>\n",
       "      <td>6.0</td>\n",
       "      <td>0.142857</td>\n",
       "      <td>1.791759</td>\n",
       "      <td>1.945910</td>\n",
       "    </tr>\n",
       "    <tr>\n",
       "      <th>AGRN</th>\n",
       "      <td>1.0</td>\n",
       "      <td>0.005386</td>\n",
       "      <td>4.0</td>\n",
       "      <td>0.086957</td>\n",
       "      <td>1.386294</td>\n",
       "      <td>2.442347</td>\n",
       "    </tr>\n",
       "    <tr>\n",
       "      <th>TNFRSF18</th>\n",
       "      <td>1.0</td>\n",
       "      <td>0.000000</td>\n",
       "      <td>4.0</td>\n",
       "      <td>0.088889</td>\n",
       "      <td>1.386294</td>\n",
       "      <td>2.420368</td>\n",
       "    </tr>\n",
       "  </tbody>\n",
       "</table>\n",
       "</div>"
      ],
      "text/plain": [
       "          const     LV801  gene_size  gene_density  gene_size_log  \\\n",
       "NOC2L       1.0  0.063959        5.0      0.106383       1.609438   \n",
       "HES4        1.0  0.006702        3.0      0.068182       1.098612   \n",
       "ISG15       1.0  0.000000        6.0      0.142857       1.791759   \n",
       "AGRN        1.0  0.005386        4.0      0.086957       1.386294   \n",
       "TNFRSF18    1.0  0.000000        4.0      0.088889       1.386294   \n",
       "\n",
       "          gene_density_log  \n",
       "NOC2L             2.240710  \n",
       "HES4              2.685577  \n",
       "ISG15             1.945910  \n",
       "AGRN              2.442347  \n",
       "TNFRSF18          2.420368  "
      ]
     },
     "execution_count": 130,
     "metadata": {},
     "output_type": "execute_result"
    }
   ],
   "source": [
    "X.head()"
   ]
  },
  {
   "cell_type": "code",
   "execution_count": 131,
   "id": "32cc256a-5ce7-4adf-8487-d153a097e5bf",
   "metadata": {},
   "outputs": [
    {
     "data": {
      "text/plain": [
       "NOC2L       1.192661\n",
       "HES4        0.615835\n",
       "ISG15       1.388647\n",
       "AGRN        0.098554\n",
       "TNFRSF18    0.085000\n",
       "dtype: float64"
      ]
     },
     "execution_count": 131,
     "metadata": {},
     "output_type": "execute_result"
    }
   ],
   "source": [
    "y.head()"
   ]
  },
  {
   "cell_type": "code",
   "execution_count": 132,
   "id": "364d4a3c-8ed6-447e-b115-142bf58ef385",
   "metadata": {},
   "outputs": [],
   "source": [
    "Xs, ys = standardize_data(X, y)"
   ]
  },
  {
   "cell_type": "code",
   "execution_count": 133,
   "id": "4bdbdfc1-7917-4f80-be94-9b1954430f84",
   "metadata": {},
   "outputs": [
    {
     "data": {
      "text/html": [
       "<div>\n",
       "<style scoped>\n",
       "    .dataframe tbody tr th:only-of-type {\n",
       "        vertical-align: middle;\n",
       "    }\n",
       "\n",
       "    .dataframe tbody tr th {\n",
       "        vertical-align: top;\n",
       "    }\n",
       "\n",
       "    .dataframe thead th {\n",
       "        text-align: right;\n",
       "    }\n",
       "</style>\n",
       "<table border=\"1\" class=\"dataframe\">\n",
       "  <thead>\n",
       "    <tr style=\"text-align: right;\">\n",
       "      <th></th>\n",
       "      <th>const</th>\n",
       "      <th>LV801</th>\n",
       "      <th>gene_size</th>\n",
       "      <th>gene_density</th>\n",
       "      <th>gene_size_log</th>\n",
       "      <th>gene_density_log</th>\n",
       "    </tr>\n",
       "  </thead>\n",
       "  <tbody>\n",
       "    <tr>\n",
       "      <th>NOC2L</th>\n",
       "      <td>1.0</td>\n",
       "      <td>0.229344</td>\n",
       "      <td>0.273869</td>\n",
       "      <td>-0.352878</td>\n",
       "      <td>0.499538</td>\n",
       "      <td>0.133474</td>\n",
       "    </tr>\n",
       "    <tr>\n",
       "      <th>HES4</th>\n",
       "      <td>1.0</td>\n",
       "      <td>-0.106576</td>\n",
       "      <td>-0.589274</td>\n",
       "      <td>-0.571571</td>\n",
       "      <td>-0.405406</td>\n",
       "      <td>0.688305</td>\n",
       "    </tr>\n",
       "    <tr>\n",
       "      <th>ISG15</th>\n",
       "      <td>1.0</td>\n",
       "      <td>-0.145894</td>\n",
       "      <td>0.705441</td>\n",
       "      <td>-0.144071</td>\n",
       "      <td>0.822526</td>\n",
       "      <td>-0.234195</td>\n",
       "    </tr>\n",
       "    <tr>\n",
       "      <th>AGRN</th>\n",
       "      <td>1.0</td>\n",
       "      <td>-0.114292</td>\n",
       "      <td>-0.157702</td>\n",
       "      <td>-0.464090</td>\n",
       "      <td>0.104232</td>\n",
       "      <td>0.384953</td>\n",
       "    </tr>\n",
       "    <tr>\n",
       "      <th>TNFRSF18</th>\n",
       "      <td>1.0</td>\n",
       "      <td>-0.145894</td>\n",
       "      <td>-0.157702</td>\n",
       "      <td>-0.453027</td>\n",
       "      <td>0.104232</td>\n",
       "      <td>0.357541</td>\n",
       "    </tr>\n",
       "  </tbody>\n",
       "</table>\n",
       "</div>"
      ],
      "text/plain": [
       "          const     LV801  gene_size  gene_density  gene_size_log  \\\n",
       "NOC2L       1.0  0.229344   0.273869     -0.352878       0.499538   \n",
       "HES4        1.0 -0.106576  -0.589274     -0.571571      -0.405406   \n",
       "ISG15       1.0 -0.145894   0.705441     -0.144071       0.822526   \n",
       "AGRN        1.0 -0.114292  -0.157702     -0.464090       0.104232   \n",
       "TNFRSF18    1.0 -0.145894  -0.157702     -0.453027       0.104232   \n",
       "\n",
       "          gene_density_log  \n",
       "NOC2L             0.133474  \n",
       "HES4              0.688305  \n",
       "ISG15            -0.234195  \n",
       "AGRN              0.384953  \n",
       "TNFRSF18          0.357541  "
      ]
     },
     "execution_count": 133,
     "metadata": {},
     "output_type": "execute_result"
    }
   ],
   "source": [
    "Xs.head()"
   ]
  },
  {
   "cell_type": "code",
   "execution_count": 134,
   "id": "4ab2beeb-bc87-4c68-aa2e-d88b80dd7c84",
   "metadata": {},
   "outputs": [
    {
     "data": {
      "text/plain": [
       "NOC2L       0.695458\n",
       "HES4       -0.258870\n",
       "ISG15       1.019708\n",
       "AGRN       -1.114686\n",
       "TNFRSF18   -1.137110\n",
       "dtype: float64"
      ]
     },
     "execution_count": 134,
     "metadata": {},
     "output_type": "execute_result"
    }
   ],
   "source": [
    "ys.head()"
   ]
  },
  {
   "cell_type": "code",
   "execution_count": 135,
   "id": "ad17c263-6b0f-4460-9978-90ce231a94a5",
   "metadata": {},
   "outputs": [
    {
     "data": {
      "text/html": [
       "<div>\n",
       "<style scoped>\n",
       "    .dataframe tbody tr th:only-of-type {\n",
       "        vertical-align: middle;\n",
       "    }\n",
       "\n",
       "    .dataframe tbody tr th {\n",
       "        vertical-align: top;\n",
       "    }\n",
       "\n",
       "    .dataframe thead th {\n",
       "        text-align: right;\n",
       "    }\n",
       "</style>\n",
       "<table border=\"1\" class=\"dataframe\">\n",
       "  <thead>\n",
       "    <tr style=\"text-align: right;\">\n",
       "      <th></th>\n",
       "      <th>LV801</th>\n",
       "      <th>gene_size</th>\n",
       "      <th>gene_density</th>\n",
       "      <th>gene_size_log</th>\n",
       "      <th>gene_density_log</th>\n",
       "    </tr>\n",
       "  </thead>\n",
       "  <tbody>\n",
       "    <tr>\n",
       "      <th>count</th>\n",
       "      <td>6.442000e+03</td>\n",
       "      <td>6.442000e+03</td>\n",
       "      <td>6.442000e+03</td>\n",
       "      <td>6.442000e+03</td>\n",
       "      <td>6.442000e+03</td>\n",
       "    </tr>\n",
       "    <tr>\n",
       "      <th>mean</th>\n",
       "      <td>-2.150820e-17</td>\n",
       "      <td>-5.514923e-17</td>\n",
       "      <td>6.216422e-15</td>\n",
       "      <td>-5.459995e-14</td>\n",
       "      <td>-3.780590e-14</td>\n",
       "    </tr>\n",
       "    <tr>\n",
       "      <th>std</th>\n",
       "      <td>1.000000e+00</td>\n",
       "      <td>1.000000e+00</td>\n",
       "      <td>1.000000e+00</td>\n",
       "      <td>1.000000e+00</td>\n",
       "      <td>1.000000e+00</td>\n",
       "    </tr>\n",
       "    <tr>\n",
       "      <th>min</th>\n",
       "      <td>-1.458936e-01</td>\n",
       "      <td>-1.452417e+00</td>\n",
       "      <td>-8.450651e-01</td>\n",
       "      <td>-2.351632e+00</td>\n",
       "      <td>-2.661100e+00</td>\n",
       "    </tr>\n",
       "    <tr>\n",
       "      <th>25%</th>\n",
       "      <td>-1.458936e-01</td>\n",
       "      <td>-5.892740e-01</td>\n",
       "      <td>-5.802450e-01</td>\n",
       "      <td>-4.054058e-01</td>\n",
       "      <td>-5.929869e-01</td>\n",
       "    </tr>\n",
       "    <tr>\n",
       "      <th>50%</th>\n",
       "      <td>-1.458936e-01</td>\n",
       "      <td>-1.577025e-01</td>\n",
       "      <td>-3.396379e-01</td>\n",
       "      <td>1.042320e-01</td>\n",
       "      <td>1.066520e-01</td>\n",
       "    </tr>\n",
       "    <tr>\n",
       "      <th>75%</th>\n",
       "      <td>-3.586973e-02</td>\n",
       "      <td>7.054405e-01</td>\n",
       "      <td>1.285383e-01</td>\n",
       "      <td>8.225262e-01</td>\n",
       "      <td>7.163332e-01</td>\n",
       "    </tr>\n",
       "    <tr>\n",
       "      <th>max</th>\n",
       "      <td>4.172866e+01</td>\n",
       "      <td>5.884299e+00</td>\n",
       "      <td>4.762890e+00</td>\n",
       "      <td>2.768753e+00</td>\n",
       "      <td>2.192711e+00</td>\n",
       "    </tr>\n",
       "  </tbody>\n",
       "</table>\n",
       "</div>"
      ],
      "text/plain": [
       "              LV801     gene_size  gene_density  gene_size_log  \\\n",
       "count  6.442000e+03  6.442000e+03  6.442000e+03   6.442000e+03   \n",
       "mean  -2.150820e-17 -5.514923e-17  6.216422e-15  -5.459995e-14   \n",
       "std    1.000000e+00  1.000000e+00  1.000000e+00   1.000000e+00   \n",
       "min   -1.458936e-01 -1.452417e+00 -8.450651e-01  -2.351632e+00   \n",
       "25%   -1.458936e-01 -5.892740e-01 -5.802450e-01  -4.054058e-01   \n",
       "50%   -1.458936e-01 -1.577025e-01 -3.396379e-01   1.042320e-01   \n",
       "75%   -3.586973e-02  7.054405e-01  1.285383e-01   8.225262e-01   \n",
       "max    4.172866e+01  5.884299e+00  4.762890e+00   2.768753e+00   \n",
       "\n",
       "       gene_density_log  \n",
       "count      6.442000e+03  \n",
       "mean      -3.780590e-14  \n",
       "std        1.000000e+00  \n",
       "min       -2.661100e+00  \n",
       "25%       -5.929869e-01  \n",
       "50%        1.066520e-01  \n",
       "75%        7.163332e-01  \n",
       "max        2.192711e+00  "
      ]
     },
     "metadata": {},
     "output_type": "display_data"
    }
   ],
   "source": [
    "_Xs_desc = Xs[\n",
    "    [lv_code, \"gene_size\", \"gene_density\", \"gene_size_log\", \"gene_density_log\"]\n",
    "].describe()\n",
    "display(_Xs_desc)\n",
    "assert (_Xs_desc.loc[\"mean\"] < 1e-10).all()\n",
    "assert (_Xs_desc.loc[\"std\"].between(0.9999, 1.00001)).all()"
   ]
  },
  {
   "cell_type": "code",
   "execution_count": 136,
   "id": "6eff0ef9-852c-4ab0-8ff3-072c1c40feff",
   "metadata": {},
   "outputs": [],
   "source": [
    "_gls_results = train_statsmodels_gls(Xs, ys, corr_mat)"
   ]
  },
  {
   "cell_type": "code",
   "execution_count": 137,
   "id": "823c4155-c074-4ac3-933e-ebc5e8d538e3",
   "metadata": {},
   "outputs": [
    {
     "name": "stdout",
     "output_type": "stream",
     "text": [
      "                            GLS Regression Results                            \n",
      "==============================================================================\n",
      "Dep. Variable:                      y   R-squared:                       0.000\n",
      "Model:                            GLS   Adj. R-squared:                 -0.000\n",
      "Method:                 Least Squares   F-statistic:                    0.4878\n",
      "Date:                Tue, 02 Aug 2022   Prob (F-statistic):              0.786\n",
      "Time:                        14:06:30   Log-Likelihood:                -8680.4\n",
      "No. Observations:                6442   AIC:                         1.737e+04\n",
      "Df Residuals:                    6436   BIC:                         1.741e+04\n",
      "Df Model:                           5                                         \n",
      "Covariance Type:            nonrobust                                         \n",
      "====================================================================================\n",
      "                       coef    std err          t      P>|t|      [0.025      0.975]\n",
      "------------------------------------------------------------------------------------\n",
      "const               -0.0146      0.025     -0.583      0.560      -0.064       0.035\n",
      "LV801                0.0083      0.011      0.752      0.452      -0.013       0.030\n",
      "gene_size            0.0148      0.034      0.440      0.660      -0.051       0.081\n",
      "gene_density         0.0095      0.012      0.826      0.409      -0.013       0.032\n",
      "gene_size_log        0.0030      0.034      0.088      0.930      -0.063       0.069\n",
      "gene_density_log     0.0100      0.012      0.835      0.404      -0.013       0.034\n",
      "==============================================================================\n",
      "Omnibus:                     1353.035   Durbin-Watson:                   2.032\n",
      "Prob(Omnibus):                  0.000   Jarque-Bera (JB):             3523.289\n",
      "Skew:                           1.135   Prob(JB):                         0.00\n",
      "Kurtosis:                       5.824   Cond. No.                         38.9\n",
      "==============================================================================\n",
      "\n",
      "Notes:\n",
      "[1] Standard Errors assume that the covariance matrix of the errors is correctly specified.\n"
     ]
    }
   ],
   "source": [
    "print(_gls_results.summary())"
   ]
  },
  {
   "cell_type": "code",
   "execution_count": 138,
   "id": "0b6ed7c1-557d-445b-8471-674fe43ff80e",
   "metadata": {},
   "outputs": [
    {
     "name": "stdout",
     "output_type": "stream",
     "text": [
      "\n",
      "exp_coef = 0.008257877072158701\n",
      "exp_coef_se = 0.01098379035278686\n",
      "exp_tvalue = 0.7518239885253702\n",
      "exp_pval_twosided = 0.4521844060369917\n",
      "exp_pval_onesided = 0.22609220301849586\n",
      "    \n"
     ]
    }
   ],
   "source": [
    "# print full numbers\n",
    "with np.printoptions(threshold=sys.maxsize, precision=20):\n",
    "    print(\n",
    "        f\"\"\"\n",
    "exp_coef = {_gls_results.params.to_numpy()[1]}\n",
    "exp_coef_se = {_gls_results.bse.to_numpy()[1]}\n",
    "exp_tvalue = {_gls_results.tvalues.to_numpy()[1]}\n",
    "exp_pval_twosided = {_gls_results.pvalues.to_numpy()[1]}\n",
    "exp_pval_onesided = {stats.t.sf(_gls_results.tvalues.to_numpy()[1], _gls_results.df_resid)}\n",
    "    \"\"\"\n",
    "    )"
   ]
  },
  {
   "cell_type": "code",
   "execution_count": 139,
   "id": "41e9c1e7-b950-48ca-97de-bc9d46504519",
   "metadata": {},
   "outputs": [],
   "source": [
    "# save phenotype\n",
    "y.to_pickle(OUTPUT_DIR / f\"{phenotype_name}.pkl.xz\")"
   ]
  },
  {
   "cell_type": "code",
   "execution_count": 140,
   "id": "a0f046e1-4d0b-498c-8404-73ba8abf37fb",
   "metadata": {},
   "outputs": [
    {
     "data": {
      "text/plain": [
       "'multixcan-random_phenotype0-covars'"
      ]
     },
     "metadata": {},
     "output_type": "display_data"
    }
   ],
   "source": [
    "# save covariates\n",
    "phenotype_covars_name = f\"{phenotype_name_base}-covars\"\n",
    "display(phenotype_covars_name)"
   ]
  },
  {
   "cell_type": "code",
   "execution_count": 141,
   "id": "ec6883c7-6ad5-49ce-970c-ee86ae858847",
   "metadata": {},
   "outputs": [
    {
     "data": {
      "text/html": [
       "<div>\n",
       "<style scoped>\n",
       "    .dataframe tbody tr th:only-of-type {\n",
       "        vertical-align: middle;\n",
       "    }\n",
       "\n",
       "    .dataframe tbody tr th {\n",
       "        vertical-align: top;\n",
       "    }\n",
       "\n",
       "    .dataframe thead th {\n",
       "        text-align: right;\n",
       "    }\n",
       "</style>\n",
       "<table border=\"1\" class=\"dataframe\">\n",
       "  <thead>\n",
       "    <tr style=\"text-align: right;\">\n",
       "      <th></th>\n",
       "      <th>gene_size</th>\n",
       "      <th>gene_density</th>\n",
       "      <th>gene_size_log</th>\n",
       "      <th>gene_density_log</th>\n",
       "    </tr>\n",
       "  </thead>\n",
       "  <tbody>\n",
       "    <tr>\n",
       "      <th>NOC2L</th>\n",
       "      <td>5.0</td>\n",
       "      <td>0.106383</td>\n",
       "      <td>1.609438</td>\n",
       "      <td>2.240710</td>\n",
       "    </tr>\n",
       "    <tr>\n",
       "      <th>HES4</th>\n",
       "      <td>3.0</td>\n",
       "      <td>0.068182</td>\n",
       "      <td>1.098612</td>\n",
       "      <td>2.685577</td>\n",
       "    </tr>\n",
       "    <tr>\n",
       "      <th>ISG15</th>\n",
       "      <td>6.0</td>\n",
       "      <td>0.142857</td>\n",
       "      <td>1.791759</td>\n",
       "      <td>1.945910</td>\n",
       "    </tr>\n",
       "    <tr>\n",
       "      <th>AGRN</th>\n",
       "      <td>4.0</td>\n",
       "      <td>0.086957</td>\n",
       "      <td>1.386294</td>\n",
       "      <td>2.442347</td>\n",
       "    </tr>\n",
       "    <tr>\n",
       "      <th>TNFRSF18</th>\n",
       "      <td>4.0</td>\n",
       "      <td>0.088889</td>\n",
       "      <td>1.386294</td>\n",
       "      <td>2.420368</td>\n",
       "    </tr>\n",
       "  </tbody>\n",
       "</table>\n",
       "</div>"
      ],
      "text/plain": [
       "          gene_size  gene_density  gene_size_log  gene_density_log\n",
       "NOC2L           5.0      0.106383       1.609438          2.240710\n",
       "HES4            3.0      0.068182       1.098612          2.685577\n",
       "ISG15           6.0      0.142857       1.791759          1.945910\n",
       "AGRN            4.0      0.086957       1.386294          2.442347\n",
       "TNFRSF18        4.0      0.088889       1.386294          2.420368"
      ]
     },
     "metadata": {},
     "output_type": "display_data"
    }
   ],
   "source": [
    "y_covars = X[[c for c in X.columns if c not in (\"const\", lv_code)]]\n",
    "display(y_covars.head())\n",
    "assert not y_covars.isna().any(None)"
   ]
  },
  {
   "cell_type": "code",
   "execution_count": 142,
   "id": "e1bdb158-f682-4260-ac70-5efe3f7617fb",
   "metadata": {},
   "outputs": [],
   "source": [
    "# save covariates\n",
    "y_covars.to_pickle(OUTPUT_DIR / f\"{phenotype_covars_name}.pkl.xz\")"
   ]
  },
  {
   "cell_type": "code",
   "execution_count": 143,
   "id": "7c3c5f89-7653-4e9f-9e73-5f36e1ddd99f",
   "metadata": {},
   "outputs": [
    {
     "name": "stdout",
     "output_type": "stream",
     "text": [
      "                            OLS Regression Results                            \n",
      "==============================================================================\n",
      "Dep. Variable:                      y   R-squared:                       0.001\n",
      "Model:                            OLS   Adj. R-squared:                  0.000\n",
      "Method:                 Least Squares   F-statistic:                     1.154\n",
      "Date:                Tue, 02 Aug 2022   Prob (F-statistic):              0.329\n",
      "Time:                        14:06:30   Log-Likelihood:                -9137.4\n",
      "No. Observations:                6442   AIC:                         1.829e+04\n",
      "Df Residuals:                    6436   BIC:                         1.833e+04\n",
      "Df Model:                           5                                         \n",
      "Covariance Type:            nonrobust                                         \n",
      "====================================================================================\n",
      "                       coef    std err          t      P>|t|      [0.025      0.975]\n",
      "------------------------------------------------------------------------------------\n",
      "const             5.838e-15      0.012   4.69e-13      1.000      -0.024       0.024\n",
      "LV801                0.0179      0.012      1.440      0.150      -0.006       0.042\n",
      "gene_size           -0.0264      0.038     -0.692      0.489      -0.101       0.048\n",
      "gene_density         0.0606      0.035      1.711      0.087      -0.009       0.130\n",
      "gene_size_log        0.0622      0.045      1.387      0.166      -0.026       0.150\n",
      "gene_density_log     0.0716      0.042      1.699      0.089      -0.011       0.154\n",
      "==============================================================================\n",
      "Omnibus:                     1073.056   Durbin-Watson:                   1.618\n",
      "Prob(Omnibus):                  0.000   Jarque-Bera (JB):             1787.844\n",
      "Skew:                           1.109   Prob(JB):                         0.00\n",
      "Kurtosis:                       4.319   Cond. No.                         9.27\n",
      "==============================================================================\n",
      "\n",
      "Notes:\n",
      "[1] Standard Errors assume that the covariance matrix of the errors is correctly specified.\n"
     ]
    }
   ],
   "source": [
    "# for debugging purposes I print the OLS results also\n",
    "_tmp_model = sm.OLS(ys, Xs)\n",
    "_tmp_results = _tmp_model.fit()\n",
    "print(_tmp_results.summary())"
   ]
  },
  {
   "cell_type": "markdown",
   "id": "da9fc486-dcd6-4a84-854e-73160284171f",
   "metadata": {
    "papermill": {
     "duration": 0.012899,
     "end_time": "2022-07-11T13:23:15.569947",
     "exception": false,
     "start_time": "2022-07-11T13:23:15.557048",
     "status": "completed"
    },
    "tags": []
   },
   "source": [
    "# [full corr matrix] GLS on randomly generated phenotypes using SNP-level covariates"
   ]
  },
  {
   "cell_type": "code",
   "execution_count": 144,
   "id": "42143d81-a6d8-485b-b8ca-778be2e4747d",
   "metadata": {},
   "outputs": [],
   "source": [
    "PERC_NONZERO_GENES = None"
   ]
  },
  {
   "cell_type": "markdown",
   "id": "21d6737a-ff0d-487c-b026-fbb2fa8e5428",
   "metadata": {},
   "source": [
    "## Random phenotype 6 / LV45"
   ]
  },
  {
   "cell_type": "code",
   "execution_count": 145,
   "id": "2ddb9997-bfac-4ff1-b03a-79d09947a307",
   "metadata": {},
   "outputs": [
    {
     "data": {
      "text/plain": [
       "'multixcan-random_phenotype6-pvalues'"
      ]
     },
     "metadata": {},
     "output_type": "display_data"
    }
   ],
   "source": [
    "lv_code = \"LV45\"\n",
    "phenotype_code = 6\n",
    "\n",
    "phenotype_name_base = f\"multixcan-random_phenotype{phenotype_code}\"\n",
    "phenotype_name = f\"{phenotype_name_base}-pvalues\"\n",
    "display(phenotype_name)"
   ]
  },
  {
   "cell_type": "code",
   "execution_count": 149,
   "id": "31c520d7-a730-4a4b-9a86-b5ac7cc8cd60",
   "metadata": {},
   "outputs": [],
   "source": [
    "X, y = get_data(lv_code, random_phenotype_code=phenotype_code, add_covars=True)\n",
    "X = X.drop(columns=[\"gene_size\", \"gene_density\"])\n",
    "corr_mat = get_aligned_corr_mat(X, perc=PERC_NONZERO_GENES)"
   ]
  },
  {
   "cell_type": "code",
   "execution_count": 150,
   "id": "2c2851e1-9e55-4f63-b3c5-49a954dfacec",
   "metadata": {},
   "outputs": [
    {
     "data": {
      "text/html": [
       "<div>\n",
       "<style scoped>\n",
       "    .dataframe tbody tr th:only-of-type {\n",
       "        vertical-align: middle;\n",
       "    }\n",
       "\n",
       "    .dataframe tbody tr th {\n",
       "        vertical-align: top;\n",
       "    }\n",
       "\n",
       "    .dataframe thead th {\n",
       "        text-align: right;\n",
       "    }\n",
       "</style>\n",
       "<table border=\"1\" class=\"dataframe\">\n",
       "  <thead>\n",
       "    <tr style=\"text-align: right;\">\n",
       "      <th></th>\n",
       "      <th>const</th>\n",
       "      <th>LV45</th>\n",
       "      <th>gene_n_snps_used</th>\n",
       "      <th>gene_n_snps_used_sharing</th>\n",
       "    </tr>\n",
       "  </thead>\n",
       "  <tbody>\n",
       "    <tr>\n",
       "      <th>NOC2L</th>\n",
       "      <td>1.0</td>\n",
       "      <td>0.0</td>\n",
       "      <td>103</td>\n",
       "      <td>4.478261</td>\n",
       "    </tr>\n",
       "    <tr>\n",
       "      <th>HES4</th>\n",
       "      <td>1.0</td>\n",
       "      <td>0.0</td>\n",
       "      <td>55</td>\n",
       "      <td>6.875000</td>\n",
       "    </tr>\n",
       "    <tr>\n",
       "      <th>ISG15</th>\n",
       "      <td>1.0</td>\n",
       "      <td>0.0</td>\n",
       "      <td>59</td>\n",
       "      <td>2.565217</td>\n",
       "    </tr>\n",
       "    <tr>\n",
       "      <th>AGRN</th>\n",
       "      <td>1.0</td>\n",
       "      <td>0.0</td>\n",
       "      <td>75</td>\n",
       "      <td>5.000000</td>\n",
       "    </tr>\n",
       "    <tr>\n",
       "      <th>TNFRSF18</th>\n",
       "      <td>1.0</td>\n",
       "      <td>0.0</td>\n",
       "      <td>65</td>\n",
       "      <td>2.407407</td>\n",
       "    </tr>\n",
       "  </tbody>\n",
       "</table>\n",
       "</div>"
      ],
      "text/plain": [
       "          const  LV45  gene_n_snps_used  gene_n_snps_used_sharing\n",
       "NOC2L       1.0   0.0               103                  4.478261\n",
       "HES4        1.0   0.0                55                  6.875000\n",
       "ISG15       1.0   0.0                59                  2.565217\n",
       "AGRN        1.0   0.0                75                  5.000000\n",
       "TNFRSF18    1.0   0.0                65                  2.407407"
      ]
     },
     "execution_count": 150,
     "metadata": {},
     "output_type": "execute_result"
    }
   ],
   "source": [
    "X.head()"
   ]
  },
  {
   "cell_type": "code",
   "execution_count": 151,
   "id": "24d185a3-505e-497f-8dab-0c6c8ffb2f7a",
   "metadata": {},
   "outputs": [
    {
     "data": {
      "text/plain": [
       "NOC2L       0.325533\n",
       "HES4        0.274247\n",
       "ISG15       1.189163\n",
       "AGRN        1.567185\n",
       "TNFRSF18    0.910990\n",
       "dtype: float64"
      ]
     },
     "execution_count": 151,
     "metadata": {},
     "output_type": "execute_result"
    }
   ],
   "source": [
    "y.head()"
   ]
  },
  {
   "cell_type": "code",
   "execution_count": 152,
   "id": "c9819fee-007f-4f46-b157-b5002650f47c",
   "metadata": {},
   "outputs": [],
   "source": [
    "Xs, ys = standardize_data(X, y)"
   ]
  },
  {
   "cell_type": "code",
   "execution_count": 154,
   "id": "5f39ed21-38d2-41ab-a70b-df00a0f85e52",
   "metadata": {},
   "outputs": [
    {
     "data": {
      "text/html": [
       "<div>\n",
       "<style scoped>\n",
       "    .dataframe tbody tr th:only-of-type {\n",
       "        vertical-align: middle;\n",
       "    }\n",
       "\n",
       "    .dataframe tbody tr th {\n",
       "        vertical-align: top;\n",
       "    }\n",
       "\n",
       "    .dataframe thead th {\n",
       "        text-align: right;\n",
       "    }\n",
       "</style>\n",
       "<table border=\"1\" class=\"dataframe\">\n",
       "  <thead>\n",
       "    <tr style=\"text-align: right;\">\n",
       "      <th></th>\n",
       "      <th>LV45</th>\n",
       "      <th>gene_n_snps_used</th>\n",
       "      <th>gene_n_snps_used_sharing</th>\n",
       "    </tr>\n",
       "  </thead>\n",
       "  <tbody>\n",
       "    <tr>\n",
       "      <th>count</th>\n",
       "      <td>6.442000e+03</td>\n",
       "      <td>6442.000000</td>\n",
       "      <td>6.442000e+03</td>\n",
       "    </tr>\n",
       "    <tr>\n",
       "      <th>mean</th>\n",
       "      <td>1.323582e-17</td>\n",
       "      <td>0.000000</td>\n",
       "      <td>7.059102e-17</td>\n",
       "    </tr>\n",
       "    <tr>\n",
       "      <th>std</th>\n",
       "      <td>1.000000e+00</td>\n",
       "      <td>1.000000</td>\n",
       "      <td>1.000000e+00</td>\n",
       "    </tr>\n",
       "    <tr>\n",
       "      <th>min</th>\n",
       "      <td>-5.995686e-02</td>\n",
       "      <td>-1.841199</td>\n",
       "      <td>-1.037442e+00</td>\n",
       "    </tr>\n",
       "    <tr>\n",
       "      <th>25%</th>\n",
       "      <td>-5.995686e-02</td>\n",
       "      <td>-0.711342</td>\n",
       "      <td>-5.804895e-01</td>\n",
       "    </tr>\n",
       "    <tr>\n",
       "      <th>50%</th>\n",
       "      <td>-5.995686e-02</td>\n",
       "      <td>-0.046721</td>\n",
       "      <td>-2.427420e-01</td>\n",
       "    </tr>\n",
       "    <tr>\n",
       "      <th>75%</th>\n",
       "      <td>-5.995686e-02</td>\n",
       "      <td>0.684363</td>\n",
       "      <td>2.762964e-01</td>\n",
       "    </tr>\n",
       "    <tr>\n",
       "      <th>max</th>\n",
       "      <td>2.786523e+01</td>\n",
       "      <td>4.904710</td>\n",
       "      <td>9.929418e+00</td>\n",
       "    </tr>\n",
       "  </tbody>\n",
       "</table>\n",
       "</div>"
      ],
      "text/plain": [
       "               LV45  gene_n_snps_used  gene_n_snps_used_sharing\n",
       "count  6.442000e+03       6442.000000              6.442000e+03\n",
       "mean   1.323582e-17          0.000000              7.059102e-17\n",
       "std    1.000000e+00          1.000000              1.000000e+00\n",
       "min   -5.995686e-02         -1.841199             -1.037442e+00\n",
       "25%   -5.995686e-02         -0.711342             -5.804895e-01\n",
       "50%   -5.995686e-02         -0.046721             -2.427420e-01\n",
       "75%   -5.995686e-02          0.684363              2.762964e-01\n",
       "max    2.786523e+01          4.904710              9.929418e+00"
      ]
     },
     "metadata": {},
     "output_type": "display_data"
    }
   ],
   "source": [
    "_Xs_desc = Xs[[lv_code, \"gene_n_snps_used\", \"gene_n_snps_used_sharing\"]].describe()\n",
    "display(_Xs_desc)\n",
    "assert (_Xs_desc.loc[\"mean\"] < 1e-10).all()\n",
    "assert (_Xs_desc.loc[\"std\"].between(0.9999, 1.00001)).all()"
   ]
  },
  {
   "cell_type": "code",
   "execution_count": 155,
   "id": "425f52d3-4a99-4cb9-ae0e-cf02dd6257ce",
   "metadata": {},
   "outputs": [
    {
     "data": {
      "text/html": [
       "<div>\n",
       "<style scoped>\n",
       "    .dataframe tbody tr th:only-of-type {\n",
       "        vertical-align: middle;\n",
       "    }\n",
       "\n",
       "    .dataframe tbody tr th {\n",
       "        vertical-align: top;\n",
       "    }\n",
       "\n",
       "    .dataframe thead th {\n",
       "        text-align: right;\n",
       "    }\n",
       "</style>\n",
       "<table border=\"1\" class=\"dataframe\">\n",
       "  <thead>\n",
       "    <tr style=\"text-align: right;\">\n",
       "      <th></th>\n",
       "      <th>const</th>\n",
       "      <th>LV45</th>\n",
       "      <th>gene_n_snps_used</th>\n",
       "      <th>gene_n_snps_used_sharing</th>\n",
       "    </tr>\n",
       "  </thead>\n",
       "  <tbody>\n",
       "    <tr>\n",
       "      <th>NOC2L</th>\n",
       "      <td>1.0</td>\n",
       "      <td>-0.059957</td>\n",
       "      <td>1.548371</td>\n",
       "      <td>-0.242742</td>\n",
       "    </tr>\n",
       "    <tr>\n",
       "      <th>HES4</th>\n",
       "      <td>1.0</td>\n",
       "      <td>-0.059957</td>\n",
       "      <td>-0.046721</td>\n",
       "      <td>0.304856</td>\n",
       "    </tr>\n",
       "    <tr>\n",
       "      <th>ISG15</th>\n",
       "      <td>1.0</td>\n",
       "      <td>-0.059957</td>\n",
       "      <td>0.086204</td>\n",
       "      <td>-0.679827</td>\n",
       "    </tr>\n",
       "    <tr>\n",
       "      <th>AGRN</th>\n",
       "      <td>1.0</td>\n",
       "      <td>-0.059957</td>\n",
       "      <td>0.617901</td>\n",
       "      <td>-0.123537</td>\n",
       "    </tr>\n",
       "    <tr>\n",
       "      <th>TNFRSF18</th>\n",
       "      <td>1.0</td>\n",
       "      <td>-0.059957</td>\n",
       "      <td>0.285590</td>\n",
       "      <td>-0.715883</td>\n",
       "    </tr>\n",
       "  </tbody>\n",
       "</table>\n",
       "</div>"
      ],
      "text/plain": [
       "          const      LV45  gene_n_snps_used  gene_n_snps_used_sharing\n",
       "NOC2L       1.0 -0.059957          1.548371                 -0.242742\n",
       "HES4        1.0 -0.059957         -0.046721                  0.304856\n",
       "ISG15       1.0 -0.059957          0.086204                 -0.679827\n",
       "AGRN        1.0 -0.059957          0.617901                 -0.123537\n",
       "TNFRSF18    1.0 -0.059957          0.285590                 -0.715883"
      ]
     },
     "execution_count": 155,
     "metadata": {},
     "output_type": "execute_result"
    }
   ],
   "source": [
    "Xs.head()"
   ]
  },
  {
   "cell_type": "code",
   "execution_count": 156,
   "id": "f365abaa-4894-4583-b339-2ad3d4e40b20",
   "metadata": {},
   "outputs": [
    {
     "data": {
      "text/plain": [
       "NOC2L      -0.750320\n",
       "HES4       -0.838108\n",
       "ISG15       0.727987\n",
       "AGRN        1.375061\n",
       "TNFRSF18    0.251828\n",
       "dtype: float64"
      ]
     },
     "execution_count": 156,
     "metadata": {},
     "output_type": "execute_result"
    }
   ],
   "source": [
    "ys.head()"
   ]
  },
  {
   "cell_type": "code",
   "execution_count": 157,
   "id": "bdb88a0c-b649-423c-8039-f831d5df583b",
   "metadata": {},
   "outputs": [],
   "source": [
    "_gls_results = train_statsmodels_gls(Xs, ys, corr_mat)"
   ]
  },
  {
   "cell_type": "code",
   "execution_count": 158,
   "id": "25880814-ad7a-49c2-bba8-f43d548ac238",
   "metadata": {},
   "outputs": [
    {
     "name": "stdout",
     "output_type": "stream",
     "text": [
      "                            GLS Regression Results                            \n",
      "==============================================================================\n",
      "Dep. Variable:                      y   R-squared:                       0.000\n",
      "Model:                            GLS   Adj. R-squared:                 -0.000\n",
      "Method:                 Least Squares   F-statistic:                    0.3128\n",
      "Date:                Tue, 02 Aug 2022   Prob (F-statistic):              0.816\n",
      "Time:                        14:10:21   Log-Likelihood:                -8696.1\n",
      "No. Observations:                6442   AIC:                         1.740e+04\n",
      "Df Residuals:                    6438   BIC:                         1.743e+04\n",
      "Df Model:                           3                                         \n",
      "Covariance Type:            nonrobust                                         \n",
      "============================================================================================\n",
      "                               coef    std err          t      P>|t|      [0.025      0.975]\n",
      "--------------------------------------------------------------------------------------------\n",
      "const                        0.0268      0.024      1.110      0.267      -0.021       0.074\n",
      "LV45                        -0.0033      0.009     -0.379      0.705      -0.020       0.014\n",
      "gene_n_snps_used            -0.0069      0.009     -0.780      0.435      -0.024       0.010\n",
      "gene_n_snps_used_sharing     0.0007      0.001      0.701      0.484      -0.001       0.003\n",
      "==============================================================================\n",
      "Omnibus:                      925.658   Durbin-Watson:                   1.990\n",
      "Prob(Omnibus):                  0.000   Jarque-Bera (JB):             1529.173\n",
      "Skew:                           0.971   Prob(JB):                         0.00\n",
      "Kurtosis:                       4.389   Cond. No.                         26.6\n",
      "==============================================================================\n",
      "\n",
      "Notes:\n",
      "[1] Standard Errors assume that the covariance matrix of the errors is correctly specified.\n"
     ]
    }
   ],
   "source": [
    "print(_gls_results.summary())"
   ]
  },
  {
   "cell_type": "code",
   "execution_count": 159,
   "id": "7a610a67-803f-4d12-97c5-152a7490156b",
   "metadata": {},
   "outputs": [
    {
     "name": "stdout",
     "output_type": "stream",
     "text": [
      "\n",
      "exp_coef = -0.0032535573271900795\n",
      "exp_coef_se = 0.008591651358118488\n",
      "exp_tvalue = -0.3786882394984177\n",
      "exp_pval_twosided = 0.7049318746949735\n",
      "exp_pval_onesided = 0.6475340626525132\n",
      "    \n"
     ]
    }
   ],
   "source": [
    "# print full numbers\n",
    "with np.printoptions(threshold=sys.maxsize, precision=20):\n",
    "    print(\n",
    "        f\"\"\"\n",
    "exp_coef = {_gls_results.params.to_numpy()[1]}\n",
    "exp_coef_se = {_gls_results.bse.to_numpy()[1]}\n",
    "exp_tvalue = {_gls_results.tvalues.to_numpy()[1]}\n",
    "exp_pval_twosided = {_gls_results.pvalues.to_numpy()[1]}\n",
    "exp_pval_onesided = {stats.t.sf(_gls_results.tvalues.to_numpy()[1], _gls_results.df_resid)}\n",
    "    \"\"\"\n",
    "    )"
   ]
  },
  {
   "cell_type": "code",
   "execution_count": 160,
   "id": "f537e4c1-d213-4db1-a96c-bf31cbd6da38",
   "metadata": {},
   "outputs": [],
   "source": [
    "# save phenotype\n",
    "y.to_pickle(OUTPUT_DIR / f\"{phenotype_name}.pkl.xz\")"
   ]
  },
  {
   "cell_type": "code",
   "execution_count": 161,
   "id": "5b9b82f0-c9cb-476f-abef-0e9b2b0b592f",
   "metadata": {},
   "outputs": [
    {
     "data": {
      "text/plain": [
       "'multixcan-random_phenotype6-snplevel_covars'"
      ]
     },
     "metadata": {},
     "output_type": "display_data"
    }
   ],
   "source": [
    "# save covariates\n",
    "phenotype_covars_name = f\"{phenotype_name_base}-snplevel_covars\"\n",
    "display(phenotype_covars_name)"
   ]
  },
  {
   "cell_type": "code",
   "execution_count": 162,
   "id": "66247433-870c-4983-bd62-96290060969f",
   "metadata": {},
   "outputs": [
    {
     "data": {
      "text/html": [
       "<div>\n",
       "<style scoped>\n",
       "    .dataframe tbody tr th:only-of-type {\n",
       "        vertical-align: middle;\n",
       "    }\n",
       "\n",
       "    .dataframe tbody tr th {\n",
       "        vertical-align: top;\n",
       "    }\n",
       "\n",
       "    .dataframe thead th {\n",
       "        text-align: right;\n",
       "    }\n",
       "</style>\n",
       "<table border=\"1\" class=\"dataframe\">\n",
       "  <thead>\n",
       "    <tr style=\"text-align: right;\">\n",
       "      <th></th>\n",
       "      <th>gene_n_snps_used</th>\n",
       "      <th>gene_n_snps_used_sharing</th>\n",
       "    </tr>\n",
       "  </thead>\n",
       "  <tbody>\n",
       "    <tr>\n",
       "      <th>NOC2L</th>\n",
       "      <td>103</td>\n",
       "      <td>4.478261</td>\n",
       "    </tr>\n",
       "    <tr>\n",
       "      <th>HES4</th>\n",
       "      <td>55</td>\n",
       "      <td>6.875000</td>\n",
       "    </tr>\n",
       "    <tr>\n",
       "      <th>ISG15</th>\n",
       "      <td>59</td>\n",
       "      <td>2.565217</td>\n",
       "    </tr>\n",
       "    <tr>\n",
       "      <th>AGRN</th>\n",
       "      <td>75</td>\n",
       "      <td>5.000000</td>\n",
       "    </tr>\n",
       "    <tr>\n",
       "      <th>TNFRSF18</th>\n",
       "      <td>65</td>\n",
       "      <td>2.407407</td>\n",
       "    </tr>\n",
       "  </tbody>\n",
       "</table>\n",
       "</div>"
      ],
      "text/plain": [
       "          gene_n_snps_used  gene_n_snps_used_sharing\n",
       "NOC2L                  103                  4.478261\n",
       "HES4                    55                  6.875000\n",
       "ISG15                   59                  2.565217\n",
       "AGRN                    75                  5.000000\n",
       "TNFRSF18                65                  2.407407"
      ]
     },
     "metadata": {},
     "output_type": "display_data"
    }
   ],
   "source": [
    "y_covars = X[[c for c in X.columns if c not in (\"const\", lv_code)]]\n",
    "display(y_covars.head())\n",
    "assert not y_covars.isna().any(None)"
   ]
  },
  {
   "cell_type": "code",
   "execution_count": 163,
   "id": "ab6bd764-7f0f-4a2d-bf1d-a42b3c8a910f",
   "metadata": {},
   "outputs": [],
   "source": [
    "# save covariates\n",
    "y_covars.to_pickle(OUTPUT_DIR / f\"{phenotype_covars_name}.pkl.xz\")"
   ]
  },
  {
   "cell_type": "code",
   "execution_count": 164,
   "id": "4cdc1364-7acb-472b-a08a-5b29a0e6dd99",
   "metadata": {},
   "outputs": [
    {
     "name": "stdout",
     "output_type": "stream",
     "text": [
      "                            OLS Regression Results                            \n",
      "==============================================================================\n",
      "Dep. Variable:                      y   R-squared:                       0.001\n",
      "Model:                            OLS   Adj. R-squared:                  0.000\n",
      "Method:                 Least Squares   F-statistic:                     1.260\n",
      "Date:                Tue, 02 Aug 2022   Prob (F-statistic):              0.286\n",
      "Time:                        14:10:21   Log-Likelihood:                -9138.4\n",
      "No. Observations:                6442   AIC:                         1.828e+04\n",
      "Df Residuals:                    6438   BIC:                         1.831e+04\n",
      "Df Model:                           3                                         \n",
      "Covariance Type:            nonrobust                                         \n",
      "============================================================================================\n",
      "                               coef    std err          t      P>|t|      [0.025      0.975]\n",
      "--------------------------------------------------------------------------------------------\n",
      "const                    -1.626e-16      0.012  -1.31e-14      1.000      -0.024       0.024\n",
      "LV45                        -0.0226      0.012     -1.811      0.070      -0.047       0.002\n",
      "gene_n_snps_used             0.0053      0.013      0.417      0.677      -0.020       0.030\n",
      "gene_n_snps_used_sharing    -0.0065      0.013     -0.509      0.611      -0.032       0.019\n",
      "==============================================================================\n",
      "Omnibus:                     1102.559   Durbin-Watson:                   1.632\n",
      "Prob(Omnibus):                  0.000   Jarque-Bera (JB):             1888.592\n",
      "Skew:                           1.118   Prob(JB):                         0.00\n",
      "Kurtosis:                       4.427   Cond. No.                         1.27\n",
      "==============================================================================\n",
      "\n",
      "Notes:\n",
      "[1] Standard Errors assume that the covariance matrix of the errors is correctly specified.\n"
     ]
    }
   ],
   "source": [
    "# for debugging purposes I print the OLS results also\n",
    "_tmp_model = sm.OLS(ys, Xs)\n",
    "_tmp_results = _tmp_model.fit()\n",
    "print(_tmp_results.summary())"
   ]
  },
  {
   "cell_type": "markdown",
   "id": "021115fe-73a9-4639-9d5c-0d47f231b99d",
   "metadata": {},
   "source": [
    "## Random phenotype 6 / LV455"
   ]
  },
  {
   "cell_type": "code",
   "execution_count": 165,
   "id": "3ad27e29-f635-4afa-9754-d2f1cc6783b0",
   "metadata": {},
   "outputs": [
    {
     "data": {
      "text/plain": [
       "'multixcan-random_phenotype6-pvalues'"
      ]
     },
     "metadata": {},
     "output_type": "display_data"
    }
   ],
   "source": [
    "lv_code = \"LV455\"\n",
    "phenotype_code = 6\n",
    "\n",
    "phenotype_name_base = f\"multixcan-random_phenotype{phenotype_code}\"\n",
    "phenotype_name = f\"{phenotype_name_base}-pvalues\"\n",
    "display(phenotype_name)"
   ]
  },
  {
   "cell_type": "code",
   "execution_count": 166,
   "id": "5c3c7de1-ff88-434b-97fb-b80b53b414dd",
   "metadata": {},
   "outputs": [],
   "source": [
    "X, y = get_data(lv_code, random_phenotype_code=phenotype_code, add_covars=True)\n",
    "X = X.drop(columns=[\"gene_size\", \"gene_density\"])\n",
    "corr_mat = get_aligned_corr_mat(X, perc=PERC_NONZERO_GENES)"
   ]
  },
  {
   "cell_type": "code",
   "execution_count": 167,
   "id": "5463693b-5ace-44ef-8110-bd16aaadb27c",
   "metadata": {},
   "outputs": [
    {
     "data": {
      "text/html": [
       "<div>\n",
       "<style scoped>\n",
       "    .dataframe tbody tr th:only-of-type {\n",
       "        vertical-align: middle;\n",
       "    }\n",
       "\n",
       "    .dataframe tbody tr th {\n",
       "        vertical-align: top;\n",
       "    }\n",
       "\n",
       "    .dataframe thead th {\n",
       "        text-align: right;\n",
       "    }\n",
       "</style>\n",
       "<table border=\"1\" class=\"dataframe\">\n",
       "  <thead>\n",
       "    <tr style=\"text-align: right;\">\n",
       "      <th></th>\n",
       "      <th>const</th>\n",
       "      <th>LV455</th>\n",
       "      <th>gene_n_snps_used</th>\n",
       "      <th>gene_n_snps_used_sharing</th>\n",
       "    </tr>\n",
       "  </thead>\n",
       "  <tbody>\n",
       "    <tr>\n",
       "      <th>NOC2L</th>\n",
       "      <td>1.0</td>\n",
       "      <td>0.005223</td>\n",
       "      <td>103</td>\n",
       "      <td>4.478261</td>\n",
       "    </tr>\n",
       "    <tr>\n",
       "      <th>HES4</th>\n",
       "      <td>1.0</td>\n",
       "      <td>0.000000</td>\n",
       "      <td>55</td>\n",
       "      <td>6.875000</td>\n",
       "    </tr>\n",
       "    <tr>\n",
       "      <th>ISG15</th>\n",
       "      <td>1.0</td>\n",
       "      <td>0.000000</td>\n",
       "      <td>59</td>\n",
       "      <td>2.565217</td>\n",
       "    </tr>\n",
       "    <tr>\n",
       "      <th>AGRN</th>\n",
       "      <td>1.0</td>\n",
       "      <td>0.002763</td>\n",
       "      <td>75</td>\n",
       "      <td>5.000000</td>\n",
       "    </tr>\n",
       "    <tr>\n",
       "      <th>TNFRSF18</th>\n",
       "      <td>1.0</td>\n",
       "      <td>0.003323</td>\n",
       "      <td>65</td>\n",
       "      <td>2.407407</td>\n",
       "    </tr>\n",
       "  </tbody>\n",
       "</table>\n",
       "</div>"
      ],
      "text/plain": [
       "          const     LV455  gene_n_snps_used  gene_n_snps_used_sharing\n",
       "NOC2L       1.0  0.005223               103                  4.478261\n",
       "HES4        1.0  0.000000                55                  6.875000\n",
       "ISG15       1.0  0.000000                59                  2.565217\n",
       "AGRN        1.0  0.002763                75                  5.000000\n",
       "TNFRSF18    1.0  0.003323                65                  2.407407"
      ]
     },
     "execution_count": 167,
     "metadata": {},
     "output_type": "execute_result"
    }
   ],
   "source": [
    "X.head()"
   ]
  },
  {
   "cell_type": "code",
   "execution_count": 168,
   "id": "8d49162c-d994-4129-874d-67fdcddd0bdc",
   "metadata": {},
   "outputs": [
    {
     "data": {
      "text/plain": [
       "NOC2L       0.325533\n",
       "HES4        0.274247\n",
       "ISG15       1.189163\n",
       "AGRN        1.567185\n",
       "TNFRSF18    0.910990\n",
       "dtype: float64"
      ]
     },
     "execution_count": 168,
     "metadata": {},
     "output_type": "execute_result"
    }
   ],
   "source": [
    "y.head()"
   ]
  },
  {
   "cell_type": "code",
   "execution_count": 169,
   "id": "ce59802d-d46b-4ddf-acdc-629ee7a9d7fd",
   "metadata": {},
   "outputs": [],
   "source": [
    "Xs, ys = standardize_data(X, y)"
   ]
  },
  {
   "cell_type": "code",
   "execution_count": 170,
   "id": "84342a93-6d18-4571-82c1-2549bc352798",
   "metadata": {},
   "outputs": [
    {
     "data": {
      "text/html": [
       "<div>\n",
       "<style scoped>\n",
       "    .dataframe tbody tr th:only-of-type {\n",
       "        vertical-align: middle;\n",
       "    }\n",
       "\n",
       "    .dataframe tbody tr th {\n",
       "        vertical-align: top;\n",
       "    }\n",
       "\n",
       "    .dataframe thead th {\n",
       "        text-align: right;\n",
       "    }\n",
       "</style>\n",
       "<table border=\"1\" class=\"dataframe\">\n",
       "  <thead>\n",
       "    <tr style=\"text-align: right;\">\n",
       "      <th></th>\n",
       "      <th>LV455</th>\n",
       "      <th>gene_n_snps_used</th>\n",
       "      <th>gene_n_snps_used_sharing</th>\n",
       "    </tr>\n",
       "  </thead>\n",
       "  <tbody>\n",
       "    <tr>\n",
       "      <th>count</th>\n",
       "      <td>6.442000e+03</td>\n",
       "      <td>6442.000000</td>\n",
       "      <td>6.442000e+03</td>\n",
       "    </tr>\n",
       "    <tr>\n",
       "      <th>mean</th>\n",
       "      <td>-4.411939e-18</td>\n",
       "      <td>0.000000</td>\n",
       "      <td>7.059102e-17</td>\n",
       "    </tr>\n",
       "    <tr>\n",
       "      <th>std</th>\n",
       "      <td>1.000000e+00</td>\n",
       "      <td>1.000000</td>\n",
       "      <td>1.000000e+00</td>\n",
       "    </tr>\n",
       "    <tr>\n",
       "      <th>min</th>\n",
       "      <td>-7.851697e-02</td>\n",
       "      <td>-1.841199</td>\n",
       "      <td>-1.037442e+00</td>\n",
       "    </tr>\n",
       "    <tr>\n",
       "      <th>25%</th>\n",
       "      <td>-7.851697e-02</td>\n",
       "      <td>-0.711342</td>\n",
       "      <td>-5.804895e-01</td>\n",
       "    </tr>\n",
       "    <tr>\n",
       "      <th>50%</th>\n",
       "      <td>-7.851697e-02</td>\n",
       "      <td>-0.046721</td>\n",
       "      <td>-2.427420e-01</td>\n",
       "    </tr>\n",
       "    <tr>\n",
       "      <th>75%</th>\n",
       "      <td>-4.700189e-02</td>\n",
       "      <td>0.684363</td>\n",
       "      <td>2.762964e-01</td>\n",
       "    </tr>\n",
       "    <tr>\n",
       "      <th>max</th>\n",
       "      <td>4.151043e+01</td>\n",
       "      <td>4.904710</td>\n",
       "      <td>9.929418e+00</td>\n",
       "    </tr>\n",
       "  </tbody>\n",
       "</table>\n",
       "</div>"
      ],
      "text/plain": [
       "              LV455  gene_n_snps_used  gene_n_snps_used_sharing\n",
       "count  6.442000e+03       6442.000000              6.442000e+03\n",
       "mean  -4.411939e-18          0.000000              7.059102e-17\n",
       "std    1.000000e+00          1.000000              1.000000e+00\n",
       "min   -7.851697e-02         -1.841199             -1.037442e+00\n",
       "25%   -7.851697e-02         -0.711342             -5.804895e-01\n",
       "50%   -7.851697e-02         -0.046721             -2.427420e-01\n",
       "75%   -4.700189e-02          0.684363              2.762964e-01\n",
       "max    4.151043e+01          4.904710              9.929418e+00"
      ]
     },
     "metadata": {},
     "output_type": "display_data"
    }
   ],
   "source": [
    "_Xs_desc = Xs[[lv_code, \"gene_n_snps_used\", \"gene_n_snps_used_sharing\"]].describe()\n",
    "display(_Xs_desc)\n",
    "assert (_Xs_desc.loc[\"mean\"] < 1e-10).all()\n",
    "assert (_Xs_desc.loc[\"std\"].between(0.9999, 1.00001)).all()"
   ]
  },
  {
   "cell_type": "code",
   "execution_count": 171,
   "id": "4fad6d4e-8a9e-4b75-b7c0-09c1d1d18ff1",
   "metadata": {},
   "outputs": [
    {
     "data": {
      "text/html": [
       "<div>\n",
       "<style scoped>\n",
       "    .dataframe tbody tr th:only-of-type {\n",
       "        vertical-align: middle;\n",
       "    }\n",
       "\n",
       "    .dataframe tbody tr th {\n",
       "        vertical-align: top;\n",
       "    }\n",
       "\n",
       "    .dataframe thead th {\n",
       "        text-align: right;\n",
       "    }\n",
       "</style>\n",
       "<table border=\"1\" class=\"dataframe\">\n",
       "  <thead>\n",
       "    <tr style=\"text-align: right;\">\n",
       "      <th></th>\n",
       "      <th>const</th>\n",
       "      <th>LV455</th>\n",
       "      <th>gene_n_snps_used</th>\n",
       "      <th>gene_n_snps_used_sharing</th>\n",
       "    </tr>\n",
       "  </thead>\n",
       "  <tbody>\n",
       "    <tr>\n",
       "      <th>NOC2L</th>\n",
       "      <td>1.0</td>\n",
       "      <td>-0.052328</td>\n",
       "      <td>1.548371</td>\n",
       "      <td>-0.242742</td>\n",
       "    </tr>\n",
       "    <tr>\n",
       "      <th>HES4</th>\n",
       "      <td>1.0</td>\n",
       "      <td>-0.078517</td>\n",
       "      <td>-0.046721</td>\n",
       "      <td>0.304856</td>\n",
       "    </tr>\n",
       "    <tr>\n",
       "      <th>ISG15</th>\n",
       "      <td>1.0</td>\n",
       "      <td>-0.078517</td>\n",
       "      <td>0.086204</td>\n",
       "      <td>-0.679827</td>\n",
       "    </tr>\n",
       "    <tr>\n",
       "      <th>AGRN</th>\n",
       "      <td>1.0</td>\n",
       "      <td>-0.064664</td>\n",
       "      <td>0.617901</td>\n",
       "      <td>-0.123537</td>\n",
       "    </tr>\n",
       "    <tr>\n",
       "      <th>TNFRSF18</th>\n",
       "      <td>1.0</td>\n",
       "      <td>-0.061858</td>\n",
       "      <td>0.285590</td>\n",
       "      <td>-0.715883</td>\n",
       "    </tr>\n",
       "  </tbody>\n",
       "</table>\n",
       "</div>"
      ],
      "text/plain": [
       "          const     LV455  gene_n_snps_used  gene_n_snps_used_sharing\n",
       "NOC2L       1.0 -0.052328          1.548371                 -0.242742\n",
       "HES4        1.0 -0.078517         -0.046721                  0.304856\n",
       "ISG15       1.0 -0.078517          0.086204                 -0.679827\n",
       "AGRN        1.0 -0.064664          0.617901                 -0.123537\n",
       "TNFRSF18    1.0 -0.061858          0.285590                 -0.715883"
      ]
     },
     "execution_count": 171,
     "metadata": {},
     "output_type": "execute_result"
    }
   ],
   "source": [
    "Xs.head()"
   ]
  },
  {
   "cell_type": "code",
   "execution_count": 172,
   "id": "454f076b-f546-42be-9972-b3271d9e6c42",
   "metadata": {},
   "outputs": [
    {
     "data": {
      "text/plain": [
       "NOC2L      -0.750320\n",
       "HES4       -0.838108\n",
       "ISG15       0.727987\n",
       "AGRN        1.375061\n",
       "TNFRSF18    0.251828\n",
       "dtype: float64"
      ]
     },
     "execution_count": 172,
     "metadata": {},
     "output_type": "execute_result"
    }
   ],
   "source": [
    "ys.head()"
   ]
  },
  {
   "cell_type": "code",
   "execution_count": 173,
   "id": "905671c4-8d2f-44a5-bd8d-5677eef7c414",
   "metadata": {},
   "outputs": [],
   "source": [
    "_gls_results = train_statsmodels_gls(Xs, ys, corr_mat)"
   ]
  },
  {
   "cell_type": "code",
   "execution_count": 174,
   "id": "39d86c5b-fc99-45cb-983a-6596e4ba8758",
   "metadata": {},
   "outputs": [
    {
     "name": "stdout",
     "output_type": "stream",
     "text": [
      "                            GLS Regression Results                            \n",
      "==============================================================================\n",
      "Dep. Variable:                      y   R-squared:                       0.000\n",
      "Model:                            GLS   Adj. R-squared:                 -0.000\n",
      "Method:                 Least Squares   F-statistic:                    0.2686\n",
      "Date:                Tue, 02 Aug 2022   Prob (F-statistic):              0.848\n",
      "Time:                        14:13:20   Log-Likelihood:                -8696.2\n",
      "No. Observations:                6442   AIC:                         1.740e+04\n",
      "Df Residuals:                    6438   BIC:                         1.743e+04\n",
      "Df Model:                           3                                         \n",
      "Covariance Type:            nonrobust                                         \n",
      "============================================================================================\n",
      "                               coef    std err          t      P>|t|      [0.025      0.975]\n",
      "--------------------------------------------------------------------------------------------\n",
      "const                        0.0270      0.024      1.116      0.264      -0.020       0.074\n",
      "LV455                        0.0012      0.011      0.104      0.917      -0.021       0.023\n",
      "gene_n_snps_used            -0.0068      0.009     -0.768      0.442      -0.024       0.011\n",
      "gene_n_snps_used_sharing     0.0007      0.001      0.704      0.481      -0.001       0.003\n",
      "==============================================================================\n",
      "Omnibus:                      926.059   Durbin-Watson:                   1.990\n",
      "Prob(Omnibus):                  0.000   Jarque-Bera (JB):             1529.948\n",
      "Skew:                           0.971   Prob(JB):                         0.00\n",
      "Kurtosis:                       4.389   Cond. No.                         26.6\n",
      "==============================================================================\n",
      "\n",
      "Notes:\n",
      "[1] Standard Errors assume that the covariance matrix of the errors is correctly specified.\n"
     ]
    }
   ],
   "source": [
    "print(_gls_results.summary())"
   ]
  },
  {
   "cell_type": "code",
   "execution_count": 175,
   "id": "100e56c5-f6e3-4600-ba16-4d847486fd55",
   "metadata": {},
   "outputs": [
    {
     "name": "stdout",
     "output_type": "stream",
     "text": [
      "\n",
      "exp_coef = 0.0011536250507955133\n",
      "exp_coef_se = 0.011122650387146025\n",
      "exp_tvalue = 0.10371853925470038\n",
      "exp_pval_twosided = 0.9173959444428127\n",
      "exp_pval_onesided = 0.45869797222140635\n",
      "    \n"
     ]
    }
   ],
   "source": [
    "# print full numbers\n",
    "with np.printoptions(threshold=sys.maxsize, precision=20):\n",
    "    print(\n",
    "        f\"\"\"\n",
    "exp_coef = {_gls_results.params.to_numpy()[1]}\n",
    "exp_coef_se = {_gls_results.bse.to_numpy()[1]}\n",
    "exp_tvalue = {_gls_results.tvalues.to_numpy()[1]}\n",
    "exp_pval_twosided = {_gls_results.pvalues.to_numpy()[1]}\n",
    "exp_pval_onesided = {stats.t.sf(_gls_results.tvalues.to_numpy()[1], _gls_results.df_resid)}\n",
    "    \"\"\"\n",
    "    )"
   ]
  },
  {
   "cell_type": "code",
   "execution_count": 176,
   "id": "1446b301-7695-4f0d-aa46-ed21669cdcc3",
   "metadata": {},
   "outputs": [],
   "source": [
    "# save phenotype\n",
    "y.to_pickle(OUTPUT_DIR / f\"{phenotype_name}.pkl.xz\")"
   ]
  },
  {
   "cell_type": "code",
   "execution_count": 177,
   "id": "88dc1ab3-17f1-4647-b113-153818c5be40",
   "metadata": {},
   "outputs": [
    {
     "data": {
      "text/plain": [
       "'multixcan-random_phenotype6-snplevel_covars'"
      ]
     },
     "metadata": {},
     "output_type": "display_data"
    }
   ],
   "source": [
    "# save covariates\n",
    "phenotype_covars_name = f\"{phenotype_name_base}-snplevel_covars\"\n",
    "display(phenotype_covars_name)"
   ]
  },
  {
   "cell_type": "code",
   "execution_count": 178,
   "id": "8202293c-56b8-492a-ba1b-3aa2ab25017c",
   "metadata": {},
   "outputs": [
    {
     "data": {
      "text/html": [
       "<div>\n",
       "<style scoped>\n",
       "    .dataframe tbody tr th:only-of-type {\n",
       "        vertical-align: middle;\n",
       "    }\n",
       "\n",
       "    .dataframe tbody tr th {\n",
       "        vertical-align: top;\n",
       "    }\n",
       "\n",
       "    .dataframe thead th {\n",
       "        text-align: right;\n",
       "    }\n",
       "</style>\n",
       "<table border=\"1\" class=\"dataframe\">\n",
       "  <thead>\n",
       "    <tr style=\"text-align: right;\">\n",
       "      <th></th>\n",
       "      <th>gene_n_snps_used</th>\n",
       "      <th>gene_n_snps_used_sharing</th>\n",
       "    </tr>\n",
       "  </thead>\n",
       "  <tbody>\n",
       "    <tr>\n",
       "      <th>NOC2L</th>\n",
       "      <td>103</td>\n",
       "      <td>4.478261</td>\n",
       "    </tr>\n",
       "    <tr>\n",
       "      <th>HES4</th>\n",
       "      <td>55</td>\n",
       "      <td>6.875000</td>\n",
       "    </tr>\n",
       "    <tr>\n",
       "      <th>ISG15</th>\n",
       "      <td>59</td>\n",
       "      <td>2.565217</td>\n",
       "    </tr>\n",
       "    <tr>\n",
       "      <th>AGRN</th>\n",
       "      <td>75</td>\n",
       "      <td>5.000000</td>\n",
       "    </tr>\n",
       "    <tr>\n",
       "      <th>TNFRSF18</th>\n",
       "      <td>65</td>\n",
       "      <td>2.407407</td>\n",
       "    </tr>\n",
       "  </tbody>\n",
       "</table>\n",
       "</div>"
      ],
      "text/plain": [
       "          gene_n_snps_used  gene_n_snps_used_sharing\n",
       "NOC2L                  103                  4.478261\n",
       "HES4                    55                  6.875000\n",
       "ISG15                   59                  2.565217\n",
       "AGRN                    75                  5.000000\n",
       "TNFRSF18                65                  2.407407"
      ]
     },
     "metadata": {},
     "output_type": "display_data"
    }
   ],
   "source": [
    "y_covars = X[[c for c in X.columns if c not in (\"const\", lv_code)]]\n",
    "display(y_covars.head())\n",
    "assert not y_covars.isna().any(None)"
   ]
  },
  {
   "cell_type": "code",
   "execution_count": 179,
   "id": "509f7a11-34b9-4b06-9011-1c731fb57571",
   "metadata": {},
   "outputs": [],
   "source": [
    "# save covariates\n",
    "y_covars.to_pickle(OUTPUT_DIR / f\"{phenotype_covars_name}.pkl.xz\")"
   ]
  },
  {
   "cell_type": "code",
   "execution_count": 180,
   "id": "b6f45fe0-efc6-4a7b-941d-0411c8530ecc",
   "metadata": {},
   "outputs": [
    {
     "name": "stdout",
     "output_type": "stream",
     "text": [
      "                            OLS Regression Results                            \n",
      "==============================================================================\n",
      "Dep. Variable:                      y   R-squared:                       0.000\n",
      "Model:                            OLS   Adj. R-squared:                 -0.000\n",
      "Method:                 Least Squares   F-statistic:                    0.2653\n",
      "Date:                Tue, 02 Aug 2022   Prob (F-statistic):              0.850\n",
      "Time:                        14:13:20   Log-Likelihood:                -9139.9\n",
      "No. Observations:                6442   AIC:                         1.829e+04\n",
      "Df Residuals:                    6438   BIC:                         1.831e+04\n",
      "Df Model:                           3                                         \n",
      "Covariance Type:            nonrobust                                         \n",
      "============================================================================================\n",
      "                               coef    std err          t      P>|t|      [0.025      0.975]\n",
      "--------------------------------------------------------------------------------------------\n",
      "const                    -1.626e-16      0.012  -1.31e-14      1.000      -0.024       0.024\n",
      "LV455                        0.0068      0.012      0.545      0.586      -0.018       0.031\n",
      "gene_n_snps_used             0.0063      0.013      0.489      0.625      -0.019       0.031\n",
      "gene_n_snps_used_sharing    -0.0078      0.013     -0.606      0.544      -0.033       0.017\n",
      "==============================================================================\n",
      "Omnibus:                     1105.050   Durbin-Watson:                   1.631\n",
      "Prob(Omnibus):                  0.000   Jarque-Bera (JB):             1894.930\n",
      "Skew:                           1.120   Prob(JB):                         0.00\n",
      "Kurtosis:                       4.430   Cond. No.                         1.26\n",
      "==============================================================================\n",
      "\n",
      "Notes:\n",
      "[1] Standard Errors assume that the covariance matrix of the errors is correctly specified.\n"
     ]
    }
   ],
   "source": [
    "# for debugging purposes I print the OLS results also\n",
    "_tmp_model = sm.OLS(ys, Xs)\n",
    "_tmp_results = _tmp_model.fit()\n",
    "print(_tmp_results.summary())"
   ]
  },
  {
   "cell_type": "markdown",
   "id": "139e0c20-0ae6-48c8-8f0f-07ddd83ceb5f",
   "metadata": {},
   "source": [
    "## Random phenotype 0 / LV801 (using logarithms)"
   ]
  },
  {
   "cell_type": "code",
   "execution_count": 181,
   "id": "114e13a5-8cf5-4ad8-ac60-bd3387ec8969",
   "metadata": {},
   "outputs": [
    {
     "data": {
      "text/plain": [
       "'multixcan-random_phenotype0-pvalues'"
      ]
     },
     "metadata": {},
     "output_type": "display_data"
    }
   ],
   "source": [
    "lv_code = \"LV801\"\n",
    "phenotype_code = 0\n",
    "\n",
    "phenotype_name_base = f\"multixcan-random_phenotype{phenotype_code}\"\n",
    "phenotype_name = f\"{phenotype_name_base}-pvalues\"\n",
    "display(phenotype_name)"
   ]
  },
  {
   "cell_type": "code",
   "execution_count": 185,
   "id": "cbf1e388-6c23-4d1d-b8be-c17aed305354",
   "metadata": {},
   "outputs": [],
   "source": [
    "X, y = get_data(\n",
    "    lv_code,\n",
    "    random_phenotype_code=phenotype_code,\n",
    "    add_covars=True,\n",
    "    add_covars_logs=True,\n",
    ")\n",
    "X = X.drop(columns=[\"gene_size\", \"gene_density\", \"gene_size_log\", \"gene_density_log\"])\n",
    "corr_mat = get_aligned_corr_mat(X, perc=PERC_NONZERO_GENES)"
   ]
  },
  {
   "cell_type": "code",
   "execution_count": 186,
   "id": "3e6537ba-0757-4e27-89f3-98c803eafef3",
   "metadata": {},
   "outputs": [
    {
     "data": {
      "text/html": [
       "<div>\n",
       "<style scoped>\n",
       "    .dataframe tbody tr th:only-of-type {\n",
       "        vertical-align: middle;\n",
       "    }\n",
       "\n",
       "    .dataframe tbody tr th {\n",
       "        vertical-align: top;\n",
       "    }\n",
       "\n",
       "    .dataframe thead th {\n",
       "        text-align: right;\n",
       "    }\n",
       "</style>\n",
       "<table border=\"1\" class=\"dataframe\">\n",
       "  <thead>\n",
       "    <tr style=\"text-align: right;\">\n",
       "      <th></th>\n",
       "      <th>const</th>\n",
       "      <th>LV801</th>\n",
       "      <th>gene_n_snps_used</th>\n",
       "      <th>gene_n_snps_used_sharing</th>\n",
       "      <th>gene_n_snps_used_log</th>\n",
       "      <th>gene_n_snps_used_sharing_log</th>\n",
       "    </tr>\n",
       "  </thead>\n",
       "  <tbody>\n",
       "    <tr>\n",
       "      <th>NOC2L</th>\n",
       "      <td>1.0</td>\n",
       "      <td>0.063959</td>\n",
       "      <td>103</td>\n",
       "      <td>4.478261</td>\n",
       "      <td>4.634729</td>\n",
       "      <td>1.499235</td>\n",
       "    </tr>\n",
       "    <tr>\n",
       "      <th>HES4</th>\n",
       "      <td>1.0</td>\n",
       "      <td>0.006702</td>\n",
       "      <td>55</td>\n",
       "      <td>6.875000</td>\n",
       "      <td>4.007333</td>\n",
       "      <td>1.927892</td>\n",
       "    </tr>\n",
       "    <tr>\n",
       "      <th>ISG15</th>\n",
       "      <td>1.0</td>\n",
       "      <td>0.000000</td>\n",
       "      <td>59</td>\n",
       "      <td>2.565217</td>\n",
       "      <td>4.077537</td>\n",
       "      <td>0.942043</td>\n",
       "    </tr>\n",
       "    <tr>\n",
       "      <th>AGRN</th>\n",
       "      <td>1.0</td>\n",
       "      <td>0.005386</td>\n",
       "      <td>75</td>\n",
       "      <td>5.000000</td>\n",
       "      <td>4.317488</td>\n",
       "      <td>1.609438</td>\n",
       "    </tr>\n",
       "    <tr>\n",
       "      <th>TNFRSF18</th>\n",
       "      <td>1.0</td>\n",
       "      <td>0.000000</td>\n",
       "      <td>65</td>\n",
       "      <td>2.407407</td>\n",
       "      <td>4.174387</td>\n",
       "      <td>0.878550</td>\n",
       "    </tr>\n",
       "  </tbody>\n",
       "</table>\n",
       "</div>"
      ],
      "text/plain": [
       "          const     LV801  gene_n_snps_used  gene_n_snps_used_sharing  \\\n",
       "NOC2L       1.0  0.063959               103                  4.478261   \n",
       "HES4        1.0  0.006702                55                  6.875000   \n",
       "ISG15       1.0  0.000000                59                  2.565217   \n",
       "AGRN        1.0  0.005386                75                  5.000000   \n",
       "TNFRSF18    1.0  0.000000                65                  2.407407   \n",
       "\n",
       "          gene_n_snps_used_log  gene_n_snps_used_sharing_log  \n",
       "NOC2L                 4.634729                      1.499235  \n",
       "HES4                  4.007333                      1.927892  \n",
       "ISG15                 4.077537                      0.942043  \n",
       "AGRN                  4.317488                      1.609438  \n",
       "TNFRSF18              4.174387                      0.878550  "
      ]
     },
     "execution_count": 186,
     "metadata": {},
     "output_type": "execute_result"
    }
   ],
   "source": [
    "X.head()"
   ]
  },
  {
   "cell_type": "code",
   "execution_count": 187,
   "id": "c2d79dc8-a52d-499b-ad62-b7f934a10bfc",
   "metadata": {},
   "outputs": [
    {
     "data": {
      "text/plain": [
       "NOC2L       1.192661\n",
       "HES4        0.615835\n",
       "ISG15       1.388647\n",
       "AGRN        0.098554\n",
       "TNFRSF18    0.085000\n",
       "dtype: float64"
      ]
     },
     "execution_count": 187,
     "metadata": {},
     "output_type": "execute_result"
    }
   ],
   "source": [
    "y.head()"
   ]
  },
  {
   "cell_type": "code",
   "execution_count": 188,
   "id": "115ebafb-efda-4d3d-9f25-a5ea9d9a13c2",
   "metadata": {},
   "outputs": [],
   "source": [
    "Xs, ys = standardize_data(X, y)"
   ]
  },
  {
   "cell_type": "code",
   "execution_count": 189,
   "id": "6d9f1cb8-6ac8-4f24-bf11-9ac45c1a79d8",
   "metadata": {},
   "outputs": [
    {
     "data": {
      "text/html": [
       "<div>\n",
       "<style scoped>\n",
       "    .dataframe tbody tr th:only-of-type {\n",
       "        vertical-align: middle;\n",
       "    }\n",
       "\n",
       "    .dataframe tbody tr th {\n",
       "        vertical-align: top;\n",
       "    }\n",
       "\n",
       "    .dataframe thead th {\n",
       "        text-align: right;\n",
       "    }\n",
       "</style>\n",
       "<table border=\"1\" class=\"dataframe\">\n",
       "  <thead>\n",
       "    <tr style=\"text-align: right;\">\n",
       "      <th></th>\n",
       "      <th>LV801</th>\n",
       "      <th>gene_n_snps_used</th>\n",
       "      <th>gene_n_snps_used_log</th>\n",
       "      <th>gene_n_snps_used_sharing</th>\n",
       "      <th>gene_n_snps_used_sharing_log</th>\n",
       "    </tr>\n",
       "  </thead>\n",
       "  <tbody>\n",
       "    <tr>\n",
       "      <th>count</th>\n",
       "      <td>6.442000e+03</td>\n",
       "      <td>6442.000000</td>\n",
       "      <td>6.442000e+03</td>\n",
       "      <td>6.442000e+03</td>\n",
       "      <td>6.442000e+03</td>\n",
       "    </tr>\n",
       "    <tr>\n",
       "      <th>mean</th>\n",
       "      <td>1.875074e-17</td>\n",
       "      <td>0.000000</td>\n",
       "      <td>-1.213283e-17</td>\n",
       "      <td>7.059102e-17</td>\n",
       "      <td>-2.194940e-16</td>\n",
       "    </tr>\n",
       "    <tr>\n",
       "      <th>std</th>\n",
       "      <td>1.000000e+00</td>\n",
       "      <td>1.000000</td>\n",
       "      <td>1.000000e+00</td>\n",
       "      <td>1.000000e+00</td>\n",
       "      <td>1.000000e+00</td>\n",
       "    </tr>\n",
       "    <tr>\n",
       "      <th>min</th>\n",
       "      <td>-1.458936e-01</td>\n",
       "      <td>-1.841199</td>\n",
       "      <td>-4.790275e+00</td>\n",
       "      <td>-1.037442e+00</td>\n",
       "      <td>-2.358546e+00</td>\n",
       "    </tr>\n",
       "    <tr>\n",
       "      <th>25%</th>\n",
       "      <td>-1.458936e-01</td>\n",
       "      <td>-0.711342</td>\n",
       "      <td>-3.257555e-01</td>\n",
       "      <td>-5.804895e-01</td>\n",
       "      <td>-6.322927e-01</td>\n",
       "    </tr>\n",
       "    <tr>\n",
       "      <th>50%</th>\n",
       "      <td>-1.458936e-01</td>\n",
       "      <td>-0.046721</td>\n",
       "      <td>2.418110e-01</td>\n",
       "      <td>-2.427420e-01</td>\n",
       "      <td>-2.793177e-03</td>\n",
       "    </tr>\n",
       "    <tr>\n",
       "      <th>75%</th>\n",
       "      <td>-3.586973e-02</td>\n",
       "      <td>0.684363</td>\n",
       "      <td>6.643257e-01</td>\n",
       "      <td>2.762964e-01</td>\n",
       "      <td>6.419248e-01</td>\n",
       "    </tr>\n",
       "    <tr>\n",
       "      <th>max</th>\n",
       "      <td>4.172866e+01</td>\n",
       "      <td>4.904710</td>\n",
       "      <td>1.887791e+00</td>\n",
       "      <td>9.929418e+00</td>\n",
       "      <td>3.756685e+00</td>\n",
       "    </tr>\n",
       "  </tbody>\n",
       "</table>\n",
       "</div>"
      ],
      "text/plain": [
       "              LV801  gene_n_snps_used  gene_n_snps_used_log  \\\n",
       "count  6.442000e+03       6442.000000          6.442000e+03   \n",
       "mean   1.875074e-17          0.000000         -1.213283e-17   \n",
       "std    1.000000e+00          1.000000          1.000000e+00   \n",
       "min   -1.458936e-01         -1.841199         -4.790275e+00   \n",
       "25%   -1.458936e-01         -0.711342         -3.257555e-01   \n",
       "50%   -1.458936e-01         -0.046721          2.418110e-01   \n",
       "75%   -3.586973e-02          0.684363          6.643257e-01   \n",
       "max    4.172866e+01          4.904710          1.887791e+00   \n",
       "\n",
       "       gene_n_snps_used_sharing  gene_n_snps_used_sharing_log  \n",
       "count              6.442000e+03                  6.442000e+03  \n",
       "mean               7.059102e-17                 -2.194940e-16  \n",
       "std                1.000000e+00                  1.000000e+00  \n",
       "min               -1.037442e+00                 -2.358546e+00  \n",
       "25%               -5.804895e-01                 -6.322927e-01  \n",
       "50%               -2.427420e-01                 -2.793177e-03  \n",
       "75%                2.762964e-01                  6.419248e-01  \n",
       "max                9.929418e+00                  3.756685e+00  "
      ]
     },
     "metadata": {},
     "output_type": "display_data"
    }
   ],
   "source": [
    "_Xs_desc = Xs[\n",
    "    [\n",
    "        lv_code,\n",
    "        \"gene_n_snps_used\",\n",
    "        \"gene_n_snps_used_log\",\n",
    "        \"gene_n_snps_used_sharing\",\n",
    "        \"gene_n_snps_used_sharing_log\",\n",
    "    ]\n",
    "].describe()\n",
    "display(_Xs_desc)\n",
    "assert (_Xs_desc.loc[\"mean\"] < 1e-10).all()\n",
    "assert (_Xs_desc.loc[\"std\"].between(0.9999, 1.00001)).all()"
   ]
  },
  {
   "cell_type": "code",
   "execution_count": 190,
   "id": "207ed253-88ab-46dc-8b8a-a04a1cd5ff7b",
   "metadata": {},
   "outputs": [
    {
     "data": {
      "text/html": [
       "<div>\n",
       "<style scoped>\n",
       "    .dataframe tbody tr th:only-of-type {\n",
       "        vertical-align: middle;\n",
       "    }\n",
       "\n",
       "    .dataframe tbody tr th {\n",
       "        vertical-align: top;\n",
       "    }\n",
       "\n",
       "    .dataframe thead th {\n",
       "        text-align: right;\n",
       "    }\n",
       "</style>\n",
       "<table border=\"1\" class=\"dataframe\">\n",
       "  <thead>\n",
       "    <tr style=\"text-align: right;\">\n",
       "      <th></th>\n",
       "      <th>const</th>\n",
       "      <th>LV801</th>\n",
       "      <th>gene_n_snps_used</th>\n",
       "      <th>gene_n_snps_used_sharing</th>\n",
       "      <th>gene_n_snps_used_log</th>\n",
       "      <th>gene_n_snps_used_sharing_log</th>\n",
       "    </tr>\n",
       "  </thead>\n",
       "  <tbody>\n",
       "    <tr>\n",
       "      <th>NOC2L</th>\n",
       "      <td>1.0</td>\n",
       "      <td>0.229344</td>\n",
       "      <td>1.548371</td>\n",
       "      <td>-0.242742</td>\n",
       "      <td>1.029644</td>\n",
       "      <td>-0.002793</td>\n",
       "    </tr>\n",
       "    <tr>\n",
       "      <th>HES4</th>\n",
       "      <td>1.0</td>\n",
       "      <td>-0.106576</td>\n",
       "      <td>-0.046721</td>\n",
       "      <td>0.304856</td>\n",
       "      <td>0.241811</td>\n",
       "      <td>0.670757</td>\n",
       "    </tr>\n",
       "    <tr>\n",
       "      <th>ISG15</th>\n",
       "      <td>1.0</td>\n",
       "      <td>-0.145894</td>\n",
       "      <td>0.086204</td>\n",
       "      <td>-0.679827</td>\n",
       "      <td>0.329968</td>\n",
       "      <td>-0.878310</td>\n",
       "    </tr>\n",
       "    <tr>\n",
       "      <th>AGRN</th>\n",
       "      <td>1.0</td>\n",
       "      <td>-0.114292</td>\n",
       "      <td>0.617901</td>\n",
       "      <td>-0.123537</td>\n",
       "      <td>0.631279</td>\n",
       "      <td>0.170369</td>\n",
       "    </tr>\n",
       "    <tr>\n",
       "      <th>TNFRSF18</th>\n",
       "      <td>1.0</td>\n",
       "      <td>-0.145894</td>\n",
       "      <td>0.285590</td>\n",
       "      <td>-0.715883</td>\n",
       "      <td>0.451584</td>\n",
       "      <td>-0.978077</td>\n",
       "    </tr>\n",
       "  </tbody>\n",
       "</table>\n",
       "</div>"
      ],
      "text/plain": [
       "          const     LV801  gene_n_snps_used  gene_n_snps_used_sharing  \\\n",
       "NOC2L       1.0  0.229344          1.548371                 -0.242742   \n",
       "HES4        1.0 -0.106576         -0.046721                  0.304856   \n",
       "ISG15       1.0 -0.145894          0.086204                 -0.679827   \n",
       "AGRN        1.0 -0.114292          0.617901                 -0.123537   \n",
       "TNFRSF18    1.0 -0.145894          0.285590                 -0.715883   \n",
       "\n",
       "          gene_n_snps_used_log  gene_n_snps_used_sharing_log  \n",
       "NOC2L                 1.029644                     -0.002793  \n",
       "HES4                  0.241811                      0.670757  \n",
       "ISG15                 0.329968                     -0.878310  \n",
       "AGRN                  0.631279                      0.170369  \n",
       "TNFRSF18              0.451584                     -0.978077  "
      ]
     },
     "execution_count": 190,
     "metadata": {},
     "output_type": "execute_result"
    }
   ],
   "source": [
    "Xs.head()"
   ]
  },
  {
   "cell_type": "code",
   "execution_count": 191,
   "id": "bf7cf7af-6014-457e-aefb-87d86ae71ab3",
   "metadata": {},
   "outputs": [
    {
     "data": {
      "text/plain": [
       "NOC2L       0.695458\n",
       "HES4       -0.258870\n",
       "ISG15       1.019708\n",
       "AGRN       -1.114686\n",
       "TNFRSF18   -1.137110\n",
       "dtype: float64"
      ]
     },
     "execution_count": 191,
     "metadata": {},
     "output_type": "execute_result"
    }
   ],
   "source": [
    "ys.head()"
   ]
  },
  {
   "cell_type": "code",
   "execution_count": 192,
   "id": "b68a62be-7a0b-4f5b-b42b-fca602cf0589",
   "metadata": {},
   "outputs": [],
   "source": [
    "_gls_results = train_statsmodels_gls(Xs, ys, corr_mat)"
   ]
  },
  {
   "cell_type": "code",
   "execution_count": 193,
   "id": "30a4f815-75df-495a-92dd-6923e82fbd27",
   "metadata": {},
   "outputs": [
    {
     "name": "stdout",
     "output_type": "stream",
     "text": [
      "                            GLS Regression Results                            \n",
      "==============================================================================\n",
      "Dep. Variable:                      y   R-squared:                       0.001\n",
      "Model:                            GLS   Adj. R-squared:                  0.000\n",
      "Method:                 Least Squares   F-statistic:                     1.193\n",
      "Date:                Tue, 02 Aug 2022   Prob (F-statistic):              0.310\n",
      "Time:                        14:16:46   Log-Likelihood:                -8678.6\n",
      "No. Observations:                6442   AIC:                         1.737e+04\n",
      "Df Residuals:                    6436   BIC:                         1.741e+04\n",
      "Df Model:                           5                                         \n",
      "Covariance Type:            nonrobust                                         \n",
      "================================================================================================\n",
      "                                   coef    std err          t      P>|t|      [0.025      0.975]\n",
      "------------------------------------------------------------------------------------------------\n",
      "const                           -0.0199      0.024     -0.821      0.412      -0.068       0.028\n",
      "LV801                            0.0111      0.011      0.981      0.327      -0.011       0.033\n",
      "gene_n_snps_used                 0.0216      0.015      1.472      0.141      -0.007       0.050\n",
      "gene_n_snps_used_sharing         0.0029      0.004      0.828      0.407      -0.004       0.010\n",
      "gene_n_snps_used_log             0.0032      0.014      0.220      0.826      -0.025       0.031\n",
      "gene_n_snps_used_sharing_log    -0.0074      0.013     -0.565      0.572      -0.033       0.018\n",
      "==============================================================================\n",
      "Omnibus:                     1358.955   Durbin-Watson:                   2.035\n",
      "Prob(Omnibus):                  0.000   Jarque-Bera (JB):             3570.627\n",
      "Skew:                           1.136   Prob(JB):                         0.00\n",
      "Kurtosis:                       5.853   Cond. No.                         33.4\n",
      "==============================================================================\n",
      "\n",
      "Notes:\n",
      "[1] Standard Errors assume that the covariance matrix of the errors is correctly specified.\n"
     ]
    }
   ],
   "source": [
    "print(_gls_results.summary())"
   ]
  },
  {
   "cell_type": "code",
   "execution_count": 194,
   "id": "2bf401f1-aa7a-400b-aac7-1f0fb7fa4b14",
   "metadata": {},
   "outputs": [
    {
     "name": "stdout",
     "output_type": "stream",
     "text": [
      "\n",
      "exp_coef = 0.011057584219855475\n",
      "exp_coef_se = 0.01127211381890071\n",
      "exp_tvalue = 0.980968112769983\n",
      "exp_pval_twosided = 0.32664533937794404\n",
      "exp_pval_onesided = 0.16332266968897202\n",
      "    \n"
     ]
    }
   ],
   "source": [
    "# print full numbers\n",
    "with np.printoptions(threshold=sys.maxsize, precision=20):\n",
    "    print(\n",
    "        f\"\"\"\n",
    "exp_coef = {_gls_results.params.to_numpy()[1]}\n",
    "exp_coef_se = {_gls_results.bse.to_numpy()[1]}\n",
    "exp_tvalue = {_gls_results.tvalues.to_numpy()[1]}\n",
    "exp_pval_twosided = {_gls_results.pvalues.to_numpy()[1]}\n",
    "exp_pval_onesided = {stats.t.sf(_gls_results.tvalues.to_numpy()[1], _gls_results.df_resid)}\n",
    "    \"\"\"\n",
    "    )"
   ]
  },
  {
   "cell_type": "code",
   "execution_count": 195,
   "id": "7990ffdf-ed43-439f-9cc8-b195ef1e96ca",
   "metadata": {},
   "outputs": [],
   "source": [
    "# save phenotype\n",
    "y.to_pickle(OUTPUT_DIR / f\"{phenotype_name}.pkl.xz\")"
   ]
  },
  {
   "cell_type": "code",
   "execution_count": 196,
   "id": "165ee159-c50f-4a10-9141-1a5052e85c48",
   "metadata": {},
   "outputs": [
    {
     "data": {
      "text/plain": [
       "'multixcan-random_phenotype0-snplevel_covars'"
      ]
     },
     "metadata": {},
     "output_type": "display_data"
    }
   ],
   "source": [
    "# save covariates\n",
    "phenotype_covars_name = f\"{phenotype_name_base}-snplevel_covars\"\n",
    "display(phenotype_covars_name)"
   ]
  },
  {
   "cell_type": "code",
   "execution_count": 197,
   "id": "adc3abb1-6290-480a-8dfc-6c82ec6fdf35",
   "metadata": {},
   "outputs": [
    {
     "data": {
      "text/html": [
       "<div>\n",
       "<style scoped>\n",
       "    .dataframe tbody tr th:only-of-type {\n",
       "        vertical-align: middle;\n",
       "    }\n",
       "\n",
       "    .dataframe tbody tr th {\n",
       "        vertical-align: top;\n",
       "    }\n",
       "\n",
       "    .dataframe thead th {\n",
       "        text-align: right;\n",
       "    }\n",
       "</style>\n",
       "<table border=\"1\" class=\"dataframe\">\n",
       "  <thead>\n",
       "    <tr style=\"text-align: right;\">\n",
       "      <th></th>\n",
       "      <th>gene_n_snps_used</th>\n",
       "      <th>gene_n_snps_used_sharing</th>\n",
       "      <th>gene_n_snps_used_log</th>\n",
       "      <th>gene_n_snps_used_sharing_log</th>\n",
       "    </tr>\n",
       "  </thead>\n",
       "  <tbody>\n",
       "    <tr>\n",
       "      <th>NOC2L</th>\n",
       "      <td>103</td>\n",
       "      <td>4.478261</td>\n",
       "      <td>4.634729</td>\n",
       "      <td>1.499235</td>\n",
       "    </tr>\n",
       "    <tr>\n",
       "      <th>HES4</th>\n",
       "      <td>55</td>\n",
       "      <td>6.875000</td>\n",
       "      <td>4.007333</td>\n",
       "      <td>1.927892</td>\n",
       "    </tr>\n",
       "    <tr>\n",
       "      <th>ISG15</th>\n",
       "      <td>59</td>\n",
       "      <td>2.565217</td>\n",
       "      <td>4.077537</td>\n",
       "      <td>0.942043</td>\n",
       "    </tr>\n",
       "    <tr>\n",
       "      <th>AGRN</th>\n",
       "      <td>75</td>\n",
       "      <td>5.000000</td>\n",
       "      <td>4.317488</td>\n",
       "      <td>1.609438</td>\n",
       "    </tr>\n",
       "    <tr>\n",
       "      <th>TNFRSF18</th>\n",
       "      <td>65</td>\n",
       "      <td>2.407407</td>\n",
       "      <td>4.174387</td>\n",
       "      <td>0.878550</td>\n",
       "    </tr>\n",
       "  </tbody>\n",
       "</table>\n",
       "</div>"
      ],
      "text/plain": [
       "          gene_n_snps_used  gene_n_snps_used_sharing  gene_n_snps_used_log  \\\n",
       "NOC2L                  103                  4.478261              4.634729   \n",
       "HES4                    55                  6.875000              4.007333   \n",
       "ISG15                   59                  2.565217              4.077537   \n",
       "AGRN                    75                  5.000000              4.317488   \n",
       "TNFRSF18                65                  2.407407              4.174387   \n",
       "\n",
       "          gene_n_snps_used_sharing_log  \n",
       "NOC2L                         1.499235  \n",
       "HES4                          1.927892  \n",
       "ISG15                         0.942043  \n",
       "AGRN                          1.609438  \n",
       "TNFRSF18                      0.878550  "
      ]
     },
     "metadata": {},
     "output_type": "display_data"
    }
   ],
   "source": [
    "y_covars = X[[c for c in X.columns if c not in (\"const\", lv_code)]]\n",
    "display(y_covars.head())\n",
    "assert not y_covars.isna().any(None)"
   ]
  },
  {
   "cell_type": "code",
   "execution_count": 198,
   "id": "f1424d1c-c434-45c3-a021-1bfbbfb07cd6",
   "metadata": {},
   "outputs": [],
   "source": [
    "# save covariates\n",
    "y_covars.to_pickle(OUTPUT_DIR / f\"{phenotype_covars_name}.pkl.xz\")"
   ]
  },
  {
   "cell_type": "code",
   "execution_count": 199,
   "id": "62f6078d-3382-476e-bc30-35df227823ec",
   "metadata": {},
   "outputs": [
    {
     "name": "stdout",
     "output_type": "stream",
     "text": [
      "                            OLS Regression Results                            \n",
      "==============================================================================\n",
      "Dep. Variable:                      y   R-squared:                       0.001\n",
      "Model:                            OLS   Adj. R-squared:                  0.000\n",
      "Method:                 Least Squares   F-statistic:                     1.050\n",
      "Date:                Tue, 02 Aug 2022   Prob (F-statistic):              0.386\n",
      "Time:                        14:16:46   Log-Likelihood:                -9137.7\n",
      "No. Observations:                6442   AIC:                         1.829e+04\n",
      "Df Residuals:                    6436   BIC:                         1.833e+04\n",
      "Df Model:                           5                                         \n",
      "Covariance Type:            nonrobust                                         \n",
      "================================================================================================\n",
      "                                   coef    std err          t      P>|t|      [0.025      0.975]\n",
      "------------------------------------------------------------------------------------------------\n",
      "const                         9.773e-17      0.012   7.84e-15      1.000      -0.024       0.024\n",
      "LV801                            0.0180      0.012      1.442      0.149      -0.006       0.042\n",
      "gene_n_snps_used                 0.0291      0.026      1.116      0.265      -0.022       0.080\n",
      "gene_n_snps_used_sharing        -0.0363      0.027     -1.345      0.179      -0.089       0.017\n",
      "gene_n_snps_used_log            -0.0295      0.029     -1.015      0.310      -0.086       0.027\n",
      "gene_n_snps_used_sharing_log     0.0410      0.031      1.339      0.181      -0.019       0.101\n",
      "==============================================================================\n",
      "Omnibus:                     1074.145   Durbin-Watson:                   1.618\n",
      "Prob(Omnibus):                  0.000   Jarque-Bera (JB):             1790.688\n",
      "Skew:                           1.110   Prob(JB):                         0.00\n",
      "Kurtosis:                       4.321   Cond. No.                         5.67\n",
      "==============================================================================\n",
      "\n",
      "Notes:\n",
      "[1] Standard Errors assume that the covariance matrix of the errors is correctly specified.\n"
     ]
    }
   ],
   "source": [
    "# for debugging purposes I print the OLS results also\n",
    "_tmp_model = sm.OLS(ys, Xs)\n",
    "_tmp_results = _tmp_model.fit()\n",
    "print(_tmp_results.summary())"
   ]
  },
  {
   "cell_type": "code",
   "execution_count": null,
   "id": "d309ef59-6ac1-4362-a027-9ab01a5530c9",
   "metadata": {},
   "outputs": [],
   "source": []
  }
 ],
 "metadata": {
  "jupytext": {
   "cell_metadata_filter": "all,-execution,-papermill,-trusted",
   "formats": "ipynb,py//py:percent"
  },
  "kernelspec": {
   "display_name": "Python 3 (ipykernel)",
   "language": "python",
   "name": "python3"
  },
  "language_info": {
   "codemirror_mode": {
    "name": "ipython",
    "version": 3
   },
   "file_extension": ".py",
   "mimetype": "text/x-python",
   "name": "python",
   "nbconvert_exporter": "python",
   "pygments_lexer": "ipython3",
   "version": "3.8.13"
  },
  "papermill": {
   "default_parameters": {},
   "duration": 171.690116,
   "end_time": "2022-07-11T13:24:57.694597",
   "environment_variables": {},
   "exception": null,
   "input_path": "nbs/15_gsa_gls/15-postprocess_gene_expr_correlations.ipynb",
   "output_path": "nbs/15_gsa_gls/gene_corrs/1000g/mashr/15-postprocess_gene_expr_correlations.ipynb",
   "parameters": {
    "EQTL_MODEL": "MASHR",
    "REFERENCE_PANEL": "1000G"
   },
   "start_time": "2022-07-11T13:22:06.004481",
   "version": "2.2.2"
  },
  "toc-autonumbering": true
 },
 "nbformat": 4,
 "nbformat_minor": 5
}
