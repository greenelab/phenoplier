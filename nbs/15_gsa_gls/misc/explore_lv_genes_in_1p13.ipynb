{
 "cells": [
  {
   "cell_type": "markdown",
   "id": "cc853c24-f7e3-4f5b-b1a6-a1e3a5685566",
   "metadata": {
    "papermill": {
     "duration": 0.008189,
     "end_time": "2023-01-23T20:43:59.425951",
     "exception": false,
     "start_time": "2023-01-23T20:43:59.417762",
     "status": "completed"
    },
    "tags": []
   },
   "source": [
    "# Description"
   ]
  },
  {
   "cell_type": "markdown",
   "id": "0b697e12-a3ce-4cd3-bc34-9dd52a80c35a",
   "metadata": {
    "papermill": {
     "duration": 0.007454,
     "end_time": "2023-01-23T20:43:59.443060",
     "exception": false,
     "start_time": "2023-01-23T20:43:59.435606",
     "status": "completed"
    },
    "tags": []
   },
   "source": [
    "This notebooks analyzes the gene bands at the top of each LV, and in particular, LV246 (associated with lipids)."
   ]
  },
  {
   "cell_type": "markdown",
   "id": "510e0a90-d8e8-409e-93f4-32ea6473d5b9",
   "metadata": {
    "papermill": {
     "duration": 0.007044,
     "end_time": "2023-01-23T20:43:59.457574",
     "exception": false,
     "start_time": "2023-01-23T20:43:59.450530",
     "status": "completed"
    },
    "tags": []
   },
   "source": [
    "# Modules"
   ]
  },
  {
   "cell_type": "code",
   "execution_count": 1,
   "id": "fe5f8cfc-b101-4824-856d-0b02c8291a45",
   "metadata": {
    "execution": {
     "iopub.execute_input": "2023-01-23T20:43:59.473207Z",
     "iopub.status.busy": "2023-01-23T20:43:59.472899Z",
     "iopub.status.idle": "2023-01-23T20:43:59.768941Z",
     "shell.execute_reply": "2023-01-23T20:43:59.768438Z"
    },
    "papermill": {
     "duration": 0.305446,
     "end_time": "2023-01-23T20:43:59.770446",
     "exception": false,
     "start_time": "2023-01-23T20:43:59.465000",
     "status": "completed"
    },
    "tags": []
   },
   "outputs": [],
   "source": [
    "import pandas as pd\n",
    "\n",
    "import conf\n",
    "from entity import Gene\n",
    "from data.recount2 import LVAnalysis"
   ]
  },
  {
   "cell_type": "markdown",
   "id": "215be237-d278-4b3c-a20c-8c6a3e142a59",
   "metadata": {
    "papermill": {
     "duration": 0.010438,
     "end_time": "2023-01-23T20:43:59.788287",
     "exception": false,
     "start_time": "2023-01-23T20:43:59.777849",
     "status": "completed"
    },
    "tags": []
   },
   "source": [
    "# Settings"
   ]
  },
  {
   "cell_type": "code",
   "execution_count": 2,
   "id": "a8e0c982-bda1-4d6f-aee8-74352ad89f6f",
   "metadata": {
    "execution": {
     "iopub.execute_input": "2023-01-23T20:43:59.831755Z",
     "iopub.status.busy": "2023-01-23T20:43:59.831543Z",
     "iopub.status.idle": "2023-01-23T20:43:59.834189Z",
     "shell.execute_reply": "2023-01-23T20:43:59.833791Z"
    },
    "papermill": {
     "duration": 0.011964,
     "end_time": "2023-01-23T20:43:59.835503",
     "exception": false,
     "start_time": "2023-01-23T20:43:59.823539",
     "status": "completed"
    },
    "tags": [
     "parameters"
    ]
   },
   "outputs": [],
   "source": [
    "BAND = \"1p13\""
   ]
  },
  {
   "cell_type": "code",
   "execution_count": 3,
   "id": "062104eb",
   "metadata": {
    "execution": {
     "iopub.execute_input": "2023-01-23T20:43:59.850997Z",
     "iopub.status.busy": "2023-01-23T20:43:59.850643Z",
     "iopub.status.idle": "2023-01-23T20:43:59.853205Z",
     "shell.execute_reply": "2023-01-23T20:43:59.852757Z"
    },
    "lines_to_next_cell": 2,
    "papermill": {
     "duration": 0.011692,
     "end_time": "2023-01-23T20:43:59.854504",
     "exception": false,
     "start_time": "2023-01-23T20:43:59.842812",
     "status": "completed"
    },
    "tags": [
     "injected-parameters"
    ]
   },
   "outputs": [],
   "source": [
    "# Parameters\n",
    "PHENOPLIER_NOTEBOOK_FILEPATH = \"nbs/15_gsa_gls/misc/explore_lv_genes_in_1p13.ipynb\""
   ]
  },
  {
   "cell_type": "markdown",
   "id": "785452ea-b170-4aec-95f3-258efd2aa4a5",
   "metadata": {
    "papermill": {
     "duration": 0.007671,
     "end_time": "2023-01-23T20:43:59.869513",
     "exception": false,
     "start_time": "2023-01-23T20:43:59.861842",
     "status": "completed"
    },
    "tags": []
   },
   "source": [
    "# Load data"
   ]
  },
  {
   "cell_type": "markdown",
   "id": "30e3b7f1-8111-4033-aa73-64fd5efec8f5",
   "metadata": {
    "papermill": {
     "duration": 0.003639,
     "end_time": "2023-01-23T20:43:59.878345",
     "exception": false,
     "start_time": "2023-01-23T20:43:59.874706",
     "status": "completed"
    },
    "tags": []
   },
   "source": [
    "## MultiPLIER Z"
   ]
  },
  {
   "cell_type": "code",
   "execution_count": 4,
   "id": "aafcd3ea-2c71-44d6-a442-c93e81110aaa",
   "metadata": {
    "execution": {
     "iopub.execute_input": "2023-01-23T20:43:59.886815Z",
     "iopub.status.busy": "2023-01-23T20:43:59.886490Z",
     "iopub.status.idle": "2023-01-23T20:43:59.917622Z",
     "shell.execute_reply": "2023-01-23T20:43:59.917095Z"
    },
    "papermill": {
     "duration": 0.036381,
     "end_time": "2023-01-23T20:43:59.918488",
     "exception": false,
     "start_time": "2023-01-23T20:43:59.882107",
     "status": "completed"
    },
    "tags": []
   },
   "outputs": [],
   "source": [
    "multiplier_z = pd.read_pickle(conf.MULTIPLIER[\"MODEL_Z_MATRIX_FILE\"])"
   ]
  },
  {
   "cell_type": "code",
   "execution_count": 5,
   "id": "b4aa694e-6a92-4a1a-a885-b0213e219fd9",
   "metadata": {
    "execution": {
     "iopub.execute_input": "2023-01-23T20:43:59.927240Z",
     "iopub.status.busy": "2023-01-23T20:43:59.926930Z",
     "iopub.status.idle": "2023-01-23T20:43:59.935638Z",
     "shell.execute_reply": "2023-01-23T20:43:59.935186Z"
    },
    "papermill": {
     "duration": 0.014235,
     "end_time": "2023-01-23T20:43:59.936488",
     "exception": false,
     "start_time": "2023-01-23T20:43:59.922253",
     "status": "completed"
    },
    "tags": []
   },
   "outputs": [
    {
     "data": {
      "text/plain": [
       "(6750, 987)"
      ]
     },
     "execution_count": 5,
     "metadata": {},
     "output_type": "execute_result"
    }
   ],
   "source": [
    "multiplier_z.shape"
   ]
  },
  {
   "cell_type": "code",
   "execution_count": 6,
   "id": "edbabdee-ddc5-4628-9113-9036c6e71e6f",
   "metadata": {
    "execution": {
     "iopub.execute_input": "2023-01-23T20:43:59.945165Z",
     "iopub.status.busy": "2023-01-23T20:43:59.944718Z",
     "iopub.status.idle": "2023-01-23T20:43:59.964872Z",
     "shell.execute_reply": "2023-01-23T20:43:59.964405Z"
    },
    "papermill": {
     "duration": 0.025392,
     "end_time": "2023-01-23T20:43:59.965711",
     "exception": false,
     "start_time": "2023-01-23T20:43:59.940319",
     "status": "completed"
    },
    "tags": []
   },
   "outputs": [
    {
     "data": {
      "text/html": [
       "<div>\n",
       "<style scoped>\n",
       "    .dataframe tbody tr th:only-of-type {\n",
       "        vertical-align: middle;\n",
       "    }\n",
       "\n",
       "    .dataframe tbody tr th {\n",
       "        vertical-align: top;\n",
       "    }\n",
       "\n",
       "    .dataframe thead th {\n",
       "        text-align: right;\n",
       "    }\n",
       "</style>\n",
       "<table border=\"1\" class=\"dataframe\">\n",
       "  <thead>\n",
       "    <tr style=\"text-align: right;\">\n",
       "      <th></th>\n",
       "      <th>LV1</th>\n",
       "      <th>LV2</th>\n",
       "      <th>LV3</th>\n",
       "      <th>LV4</th>\n",
       "      <th>LV5</th>\n",
       "      <th>LV6</th>\n",
       "      <th>LV7</th>\n",
       "      <th>LV8</th>\n",
       "      <th>LV9</th>\n",
       "      <th>LV10</th>\n",
       "      <th>...</th>\n",
       "      <th>LV978</th>\n",
       "      <th>LV979</th>\n",
       "      <th>LV980</th>\n",
       "      <th>LV981</th>\n",
       "      <th>LV982</th>\n",
       "      <th>LV983</th>\n",
       "      <th>LV984</th>\n",
       "      <th>LV985</th>\n",
       "      <th>LV986</th>\n",
       "      <th>LV987</th>\n",
       "    </tr>\n",
       "  </thead>\n",
       "  <tbody>\n",
       "    <tr>\n",
       "      <th>GAS6</th>\n",
       "      <td>0.000000</td>\n",
       "      <td>0.0</td>\n",
       "      <td>0.039438</td>\n",
       "      <td>0.0</td>\n",
       "      <td>0.050476</td>\n",
       "      <td>0.000000</td>\n",
       "      <td>0.0</td>\n",
       "      <td>0.000000</td>\n",
       "      <td>0.590949</td>\n",
       "      <td>0.000000</td>\n",
       "      <td>...</td>\n",
       "      <td>0.050125</td>\n",
       "      <td>0.00000</td>\n",
       "      <td>0.033407</td>\n",
       "      <td>0.000000</td>\n",
       "      <td>0.000000</td>\n",
       "      <td>0.005963</td>\n",
       "      <td>0.347362</td>\n",
       "      <td>0.0</td>\n",
       "      <td>0.000000</td>\n",
       "      <td>0.000000</td>\n",
       "    </tr>\n",
       "    <tr>\n",
       "      <th>MMP14</th>\n",
       "      <td>0.000000</td>\n",
       "      <td>0.0</td>\n",
       "      <td>0.000000</td>\n",
       "      <td>0.0</td>\n",
       "      <td>0.070072</td>\n",
       "      <td>0.000000</td>\n",
       "      <td>0.0</td>\n",
       "      <td>0.004904</td>\n",
       "      <td>1.720179</td>\n",
       "      <td>2.423595</td>\n",
       "      <td>...</td>\n",
       "      <td>0.000000</td>\n",
       "      <td>0.00000</td>\n",
       "      <td>0.001007</td>\n",
       "      <td>0.000000</td>\n",
       "      <td>0.035747</td>\n",
       "      <td>0.000000</td>\n",
       "      <td>0.000000</td>\n",
       "      <td>0.0</td>\n",
       "      <td>0.014978</td>\n",
       "      <td>0.000000</td>\n",
       "    </tr>\n",
       "    <tr>\n",
       "      <th>DSP</th>\n",
       "      <td>0.000000</td>\n",
       "      <td>0.0</td>\n",
       "      <td>0.000000</td>\n",
       "      <td>0.0</td>\n",
       "      <td>0.000000</td>\n",
       "      <td>0.041697</td>\n",
       "      <td>0.0</td>\n",
       "      <td>0.005718</td>\n",
       "      <td>0.000000</td>\n",
       "      <td>0.000000</td>\n",
       "      <td>...</td>\n",
       "      <td>0.020853</td>\n",
       "      <td>0.00000</td>\n",
       "      <td>0.000000</td>\n",
       "      <td>0.000000</td>\n",
       "      <td>0.000000</td>\n",
       "      <td>0.005774</td>\n",
       "      <td>0.000000</td>\n",
       "      <td>0.0</td>\n",
       "      <td>0.000000</td>\n",
       "      <td>0.416405</td>\n",
       "    </tr>\n",
       "    <tr>\n",
       "      <th>MARCKSL1</th>\n",
       "      <td>0.305212</td>\n",
       "      <td>0.0</td>\n",
       "      <td>0.000000</td>\n",
       "      <td>0.0</td>\n",
       "      <td>0.000000</td>\n",
       "      <td>0.000000</td>\n",
       "      <td>0.0</td>\n",
       "      <td>0.000000</td>\n",
       "      <td>0.161843</td>\n",
       "      <td>0.149471</td>\n",
       "      <td>...</td>\n",
       "      <td>0.027134</td>\n",
       "      <td>0.05272</td>\n",
       "      <td>0.000000</td>\n",
       "      <td>0.030189</td>\n",
       "      <td>0.060884</td>\n",
       "      <td>0.000000</td>\n",
       "      <td>0.000000</td>\n",
       "      <td>0.0</td>\n",
       "      <td>0.000000</td>\n",
       "      <td>0.448480</td>\n",
       "    </tr>\n",
       "    <tr>\n",
       "      <th>SPARC</th>\n",
       "      <td>0.000000</td>\n",
       "      <td>0.0</td>\n",
       "      <td>0.000000</td>\n",
       "      <td>0.0</td>\n",
       "      <td>0.000000</td>\n",
       "      <td>0.000000</td>\n",
       "      <td>0.0</td>\n",
       "      <td>0.000000</td>\n",
       "      <td>0.000000</td>\n",
       "      <td>0.014014</td>\n",
       "      <td>...</td>\n",
       "      <td>0.000000</td>\n",
       "      <td>0.00000</td>\n",
       "      <td>0.000000</td>\n",
       "      <td>0.000000</td>\n",
       "      <td>0.000000</td>\n",
       "      <td>0.000000</td>\n",
       "      <td>0.067779</td>\n",
       "      <td>0.0</td>\n",
       "      <td>0.122417</td>\n",
       "      <td>0.062665</td>\n",
       "    </tr>\n",
       "  </tbody>\n",
       "</table>\n",
       "<p>5 rows × 987 columns</p>\n",
       "</div>"
      ],
      "text/plain": [
       "               LV1  LV2       LV3  LV4       LV5       LV6  LV7       LV8  \\\n",
       "GAS6      0.000000  0.0  0.039438  0.0  0.050476  0.000000  0.0  0.000000   \n",
       "MMP14     0.000000  0.0  0.000000  0.0  0.070072  0.000000  0.0  0.004904   \n",
       "DSP       0.000000  0.0  0.000000  0.0  0.000000  0.041697  0.0  0.005718   \n",
       "MARCKSL1  0.305212  0.0  0.000000  0.0  0.000000  0.000000  0.0  0.000000   \n",
       "SPARC     0.000000  0.0  0.000000  0.0  0.000000  0.000000  0.0  0.000000   \n",
       "\n",
       "               LV9      LV10  ...     LV978    LV979     LV980     LV981  \\\n",
       "GAS6      0.590949  0.000000  ...  0.050125  0.00000  0.033407  0.000000   \n",
       "MMP14     1.720179  2.423595  ...  0.000000  0.00000  0.001007  0.000000   \n",
       "DSP       0.000000  0.000000  ...  0.020853  0.00000  0.000000  0.000000   \n",
       "MARCKSL1  0.161843  0.149471  ...  0.027134  0.05272  0.000000  0.030189   \n",
       "SPARC     0.000000  0.014014  ...  0.000000  0.00000  0.000000  0.000000   \n",
       "\n",
       "             LV982     LV983     LV984  LV985     LV986     LV987  \n",
       "GAS6      0.000000  0.005963  0.347362    0.0  0.000000  0.000000  \n",
       "MMP14     0.035747  0.000000  0.000000    0.0  0.014978  0.000000  \n",
       "DSP       0.000000  0.005774  0.000000    0.0  0.000000  0.416405  \n",
       "MARCKSL1  0.060884  0.000000  0.000000    0.0  0.000000  0.448480  \n",
       "SPARC     0.000000  0.000000  0.067779    0.0  0.122417  0.062665  \n",
       "\n",
       "[5 rows x 987 columns]"
      ]
     },
     "execution_count": 6,
     "metadata": {},
     "output_type": "execute_result"
    }
   ],
   "source": [
    "multiplier_z.head()"
   ]
  },
  {
   "cell_type": "markdown",
   "id": "c41bb276-0059-4f9b-b383-b2c40c5ce484",
   "metadata": {
    "papermill": {
     "duration": 0.003922,
     "end_time": "2023-01-23T20:43:59.973595",
     "exception": false,
     "start_time": "2023-01-23T20:43:59.969673",
     "status": "completed"
    },
    "tags": []
   },
   "source": [
    "# Gene gene info"
   ]
  },
  {
   "cell_type": "code",
   "execution_count": 7,
   "id": "9b149170-cb23-4a42-b6bd-7a007e365ed5",
   "metadata": {
    "execution": {
     "iopub.execute_input": "2023-01-23T20:43:59.982956Z",
     "iopub.status.busy": "2023-01-23T20:43:59.982520Z",
     "iopub.status.idle": "2023-01-23T20:43:59.994024Z",
     "shell.execute_reply": "2023-01-23T20:43:59.993569Z"
    },
    "papermill": {
     "duration": 0.017281,
     "end_time": "2023-01-23T20:43:59.994802",
     "exception": false,
     "start_time": "2023-01-23T20:43:59.977521",
     "status": "completed"
    },
    "tags": []
   },
   "outputs": [],
   "source": [
    "gene_objs = [\n",
    "    Gene(name=gene_name)\n",
    "    for gene_name in multiplier_z.index\n",
    "    if gene_name in Gene.GENE_NAME_TO_ID_MAP\n",
    "]"
   ]
  },
  {
   "cell_type": "code",
   "execution_count": 8,
   "id": "de9382d3-7508-4959-8ca2-820573bf6a9f",
   "metadata": {
    "execution": {
     "iopub.execute_input": "2023-01-23T20:44:00.003741Z",
     "iopub.status.busy": "2023-01-23T20:44:00.003372Z",
     "iopub.status.idle": "2023-01-23T20:44:00.006688Z",
     "shell.execute_reply": "2023-01-23T20:44:00.006240Z"
    },
    "papermill": {
     "duration": 0.008684,
     "end_time": "2023-01-23T20:44:00.007532",
     "exception": false,
     "start_time": "2023-01-23T20:43:59.998848",
     "status": "completed"
    },
    "tags": []
   },
   "outputs": [
    {
     "data": {
      "text/plain": [
       "6454"
      ]
     },
     "execution_count": 8,
     "metadata": {},
     "output_type": "execute_result"
    }
   ],
   "source": [
    "len(gene_objs)"
   ]
  },
  {
   "cell_type": "code",
   "execution_count": 9,
   "id": "62bbf617-01a6-4385-920d-79810bada3bb",
   "metadata": {
    "execution": {
     "iopub.execute_input": "2023-01-23T20:44:00.016709Z",
     "iopub.status.busy": "2023-01-23T20:44:00.016357Z",
     "iopub.status.idle": "2023-01-23T20:44:00.553044Z",
     "shell.execute_reply": "2023-01-23T20:44:00.552562Z"
    },
    "papermill": {
     "duration": 0.543087,
     "end_time": "2023-01-23T20:44:00.554625",
     "exception": false,
     "start_time": "2023-01-23T20:44:00.011538",
     "status": "completed"
    },
    "tags": []
   },
   "outputs": [],
   "source": [
    "gene_bands = [g.band for g in gene_objs]"
   ]
  },
  {
   "cell_type": "code",
   "execution_count": 10,
   "id": "96d27eca-e4cc-4041-978d-f49a9d62a2f2",
   "metadata": {
    "execution": {
     "iopub.execute_input": "2023-01-23T20:44:00.573117Z",
     "iopub.status.busy": "2023-01-23T20:44:00.573031Z",
     "iopub.status.idle": "2023-01-23T20:44:00.575805Z",
     "shell.execute_reply": "2023-01-23T20:44:00.575478Z"
    },
    "papermill": {
     "duration": 0.01454,
     "end_time": "2023-01-23T20:44:00.577080",
     "exception": false,
     "start_time": "2023-01-23T20:44:00.562540",
     "status": "completed"
    },
    "tags": []
   },
   "outputs": [
    {
     "data": {
      "text/plain": [
       "['13q34', '14q11.2', '6p24.3', '1p35.1', '5q33.1']"
      ]
     },
     "execution_count": 10,
     "metadata": {},
     "output_type": "execute_result"
    }
   ],
   "source": [
    "gene_bands[:5]"
   ]
  },
  {
   "cell_type": "code",
   "execution_count": 11,
   "id": "170cb2ab-e6ec-469a-8b1f-90e5f94d8906",
   "metadata": {
    "execution": {
     "iopub.execute_input": "2023-01-23T20:44:00.593206Z",
     "iopub.status.busy": "2023-01-23T20:44:00.593111Z",
     "iopub.status.idle": "2023-01-23T20:44:00.597609Z",
     "shell.execute_reply": "2023-01-23T20:44:00.597273Z"
    },
    "papermill": {
     "duration": 0.013833,
     "end_time": "2023-01-23T20:44:00.598780",
     "exception": false,
     "start_time": "2023-01-23T20:44:00.584947",
     "status": "completed"
    },
    "tags": []
   },
   "outputs": [],
   "source": [
    "gene_df = (\n",
    "    pd.DataFrame(\n",
    "        {\n",
    "            \"symbol\": [g.name for g in gene_objs],\n",
    "            \"band\": [g.band for g in gene_objs],\n",
    "        }\n",
    "    )\n",
    "    .set_index(\"symbol\")\n",
    "    .squeeze()\n",
    ")"
   ]
  },
  {
   "cell_type": "code",
   "execution_count": 12,
   "id": "1235fc5e-2ce6-4d21-b1c6-63a6439898f1",
   "metadata": {
    "execution": {
     "iopub.execute_input": "2023-01-23T20:44:00.616059Z",
     "iopub.status.busy": "2023-01-23T20:44:00.615732Z",
     "iopub.status.idle": "2023-01-23T20:44:00.618778Z",
     "shell.execute_reply": "2023-01-23T20:44:00.618349Z"
    },
    "papermill": {
     "duration": 0.012785,
     "end_time": "2023-01-23T20:44:00.620066",
     "exception": false,
     "start_time": "2023-01-23T20:44:00.607281",
     "status": "completed"
    },
    "tags": []
   },
   "outputs": [
    {
     "data": {
      "text/plain": [
       "(6454,)"
      ]
     },
     "execution_count": 12,
     "metadata": {},
     "output_type": "execute_result"
    }
   ],
   "source": [
    "gene_df.shape"
   ]
  },
  {
   "cell_type": "code",
   "execution_count": 13,
   "id": "d605eb53-fc7e-47f6-b775-e1821ef2b9e1",
   "metadata": {
    "execution": {
     "iopub.execute_input": "2023-01-23T20:44:00.636840Z",
     "iopub.status.busy": "2023-01-23T20:44:00.636495Z",
     "iopub.status.idle": "2023-01-23T20:44:00.640458Z",
     "shell.execute_reply": "2023-01-23T20:44:00.640025Z"
    },
    "papermill": {
     "duration": 0.013759,
     "end_time": "2023-01-23T20:44:00.641787",
     "exception": false,
     "start_time": "2023-01-23T20:44:00.628028",
     "status": "completed"
    },
    "tags": []
   },
   "outputs": [
    {
     "data": {
      "text/plain": [
       "True"
      ]
     },
     "execution_count": 13,
     "metadata": {},
     "output_type": "execute_result"
    }
   ],
   "source": [
    "gene_df.isna().any()"
   ]
  },
  {
   "cell_type": "code",
   "execution_count": 14,
   "id": "ebbda3e8-8e0a-4c30-87e7-c483181db899",
   "metadata": {
    "execution": {
     "iopub.execute_input": "2023-01-23T20:44:00.659326Z",
     "iopub.status.busy": "2023-01-23T20:44:00.658871Z",
     "iopub.status.idle": "2023-01-23T20:44:00.662076Z",
     "shell.execute_reply": "2023-01-23T20:44:00.661631Z"
    },
    "papermill": {
     "duration": 0.013061,
     "end_time": "2023-01-23T20:44:00.663413",
     "exception": false,
     "start_time": "2023-01-23T20:44:00.650352",
     "status": "completed"
    },
    "tags": []
   },
   "outputs": [],
   "source": [
    "gene_df = gene_df.dropna()"
   ]
  },
  {
   "cell_type": "code",
   "execution_count": 15,
   "id": "1ce7156e-7d06-4be2-af18-c01502df06ce",
   "metadata": {
    "execution": {
     "iopub.execute_input": "2023-01-23T20:44:00.678748Z",
     "iopub.status.busy": "2023-01-23T20:44:00.678300Z",
     "iopub.status.idle": "2023-01-23T20:44:00.681606Z",
     "shell.execute_reply": "2023-01-23T20:44:00.681167Z"
    },
    "papermill": {
     "duration": 0.010889,
     "end_time": "2023-01-23T20:44:00.682406",
     "exception": false,
     "start_time": "2023-01-23T20:44:00.671517",
     "status": "completed"
    },
    "tags": []
   },
   "outputs": [
    {
     "data": {
      "text/plain": [
       "(6452,)"
      ]
     },
     "execution_count": 15,
     "metadata": {},
     "output_type": "execute_result"
    }
   ],
   "source": [
    "gene_df.shape"
   ]
  },
  {
   "cell_type": "code",
   "execution_count": 16,
   "id": "6004b615-56f6-465c-9429-f811d9f2f559",
   "metadata": {
    "execution": {
     "iopub.execute_input": "2023-01-23T20:44:00.691748Z",
     "iopub.status.busy": "2023-01-23T20:44:00.691411Z",
     "iopub.status.idle": "2023-01-23T20:44:00.695601Z",
     "shell.execute_reply": "2023-01-23T20:44:00.695167Z"
    },
    "papermill": {
     "duration": 0.009844,
     "end_time": "2023-01-23T20:44:00.696440",
     "exception": false,
     "start_time": "2023-01-23T20:44:00.686596",
     "status": "completed"
    },
    "tags": []
   },
   "outputs": [
    {
     "data": {
      "text/plain": [
       "symbol\n",
       "GAS6          13q34\n",
       "MMP14       14q11.2\n",
       "DSP          6p24.3\n",
       "MARCKSL1     1p35.1\n",
       "SPARC        5q33.1\n",
       "Name: band, dtype: object"
      ]
     },
     "execution_count": 16,
     "metadata": {},
     "output_type": "execute_result"
    }
   ],
   "source": [
    "gene_df.head()"
   ]
  },
  {
   "cell_type": "markdown",
   "id": "cb8e8a5f-63ae-4517-8e20-6fcd92d912bf",
   "metadata": {
    "papermill": {
     "duration": 0.004121,
     "end_time": "2023-01-23T20:44:00.704893",
     "exception": false,
     "start_time": "2023-01-23T20:44:00.700772",
     "status": "completed"
    },
    "tags": []
   },
   "source": [
    "# Create LV-band dataframe"
   ]
  },
  {
   "cell_type": "code",
   "execution_count": 17,
   "id": "e8b4450a-7bde-4571-ba3a-e600d8212a7d",
   "metadata": {
    "execution": {
     "iopub.execute_input": "2023-01-23T20:44:00.714435Z",
     "iopub.status.busy": "2023-01-23T20:44:00.714098Z",
     "iopub.status.idle": "2023-01-23T20:44:00.717914Z",
     "shell.execute_reply": "2023-01-23T20:44:00.717472Z"
    },
    "papermill": {
     "duration": 0.009551,
     "end_time": "2023-01-23T20:44:00.718712",
     "exception": false,
     "start_time": "2023-01-23T20:44:00.709161",
     "status": "completed"
    },
    "tags": []
   },
   "outputs": [],
   "source": [
    "def get_lv_genes(lv_code: str):\n",
    "    \"\"\"\n",
    "    Given an LV code (such as LV123), it returns a dataframe with gene symbols\n",
    "    as index values, and two columns: the LV name with weights and \"gene_band\".\n",
    "    The dataframe is sorted (in descending order) according to the gene weight.\n",
    "    \"\"\"\n",
    "    lv_genes = multiplier_z[lv_code].sort_values(ascending=False)\n",
    "    lv_obj = LVAnalysis(lv_code)\n",
    "    return lv_obj.lv_genes.set_index(\"gene_name\").loc[lv_genes.index]"
   ]
  },
  {
   "cell_type": "code",
   "execution_count": 18,
   "id": "0929f9ce-249c-4903-87a0-ded61563c137",
   "metadata": {
    "execution": {
     "iopub.execute_input": "2023-01-23T20:44:00.728184Z",
     "iopub.status.busy": "2023-01-23T20:44:00.727730Z",
     "iopub.status.idle": "2023-01-23T20:44:01.427500Z",
     "shell.execute_reply": "2023-01-23T20:44:01.427139Z"
    },
    "papermill": {
     "duration": 0.705636,
     "end_time": "2023-01-23T20:44:01.428669",
     "exception": false,
     "start_time": "2023-01-23T20:44:00.723033",
     "status": "completed"
    },
    "tags": []
   },
   "outputs": [
    {
     "data": {
      "text/html": [
       "<div>\n",
       "<style scoped>\n",
       "    .dataframe tbody tr th:only-of-type {\n",
       "        vertical-align: middle;\n",
       "    }\n",
       "\n",
       "    .dataframe tbody tr th {\n",
       "        vertical-align: top;\n",
       "    }\n",
       "\n",
       "    .dataframe thead th {\n",
       "        text-align: right;\n",
       "    }\n",
       "</style>\n",
       "<table border=\"1\" class=\"dataframe\">\n",
       "  <thead>\n",
       "    <tr style=\"text-align: right;\">\n",
       "      <th></th>\n",
       "      <th>LV246</th>\n",
       "      <th>gene_band</th>\n",
       "    </tr>\n",
       "  </thead>\n",
       "  <tbody>\n",
       "    <tr>\n",
       "      <th>SCD</th>\n",
       "      <td>6.672060</td>\n",
       "      <td>10q24.31</td>\n",
       "    </tr>\n",
       "    <tr>\n",
       "      <th>ACSS2</th>\n",
       "      <td>6.258514</td>\n",
       "      <td>20q11.22</td>\n",
       "    </tr>\n",
       "    <tr>\n",
       "      <th>GPAM</th>\n",
       "      <td>5.714077</td>\n",
       "      <td>10q25.2</td>\n",
       "    </tr>\n",
       "    <tr>\n",
       "      <th>DGAT2</th>\n",
       "      <td>4.738347</td>\n",
       "      <td>11q13.5</td>\n",
       "    </tr>\n",
       "    <tr>\n",
       "      <th>ACLY</th>\n",
       "      <td>3.708678</td>\n",
       "      <td>17q21.2</td>\n",
       "    </tr>\n",
       "    <tr>\n",
       "      <th>...</th>\n",
       "      <td>...</td>\n",
       "      <td>...</td>\n",
       "    </tr>\n",
       "    <tr>\n",
       "      <th>FBXO2</th>\n",
       "      <td>0.000000</td>\n",
       "      <td>1p36.22</td>\n",
       "    </tr>\n",
       "    <tr>\n",
       "      <th>FBXO3</th>\n",
       "      <td>0.000000</td>\n",
       "      <td>11p13</td>\n",
       "    </tr>\n",
       "    <tr>\n",
       "      <th>FBXO5</th>\n",
       "      <td>0.000000</td>\n",
       "      <td>6q25.2</td>\n",
       "    </tr>\n",
       "    <tr>\n",
       "      <th>FBXO6</th>\n",
       "      <td>0.000000</td>\n",
       "      <td>1p36.22</td>\n",
       "    </tr>\n",
       "    <tr>\n",
       "      <th>GAS6</th>\n",
       "      <td>0.000000</td>\n",
       "      <td>13q34</td>\n",
       "    </tr>\n",
       "  </tbody>\n",
       "</table>\n",
       "<p>6750 rows × 2 columns</p>\n",
       "</div>"
      ],
      "text/plain": [
       "          LV246 gene_band\n",
       "SCD    6.672060  10q24.31\n",
       "ACSS2  6.258514  20q11.22\n",
       "GPAM   5.714077   10q25.2\n",
       "DGAT2  4.738347   11q13.5\n",
       "ACLY   3.708678   17q21.2\n",
       "...         ...       ...\n",
       "FBXO2  0.000000   1p36.22\n",
       "FBXO3  0.000000     11p13\n",
       "FBXO5  0.000000    6q25.2\n",
       "FBXO6  0.000000   1p36.22\n",
       "GAS6   0.000000     13q34\n",
       "\n",
       "[6750 rows x 2 columns]"
      ]
     },
     "execution_count": 18,
     "metadata": {},
     "output_type": "execute_result"
    }
   ],
   "source": [
    "get_lv_genes(\"LV246\")"
   ]
  },
  {
   "cell_type": "code",
   "execution_count": 19,
   "id": "0fb73ac9-8093-4113-afd0-38f9df6dafd3",
   "metadata": {
    "execution": {
     "iopub.execute_input": "2023-01-23T20:44:01.444764Z",
     "iopub.status.busy": "2023-01-23T20:44:01.444667Z",
     "iopub.status.idle": "2023-01-23T20:53:03.874555Z",
     "shell.execute_reply": "2023-01-23T20:53:03.874176Z"
    },
    "papermill": {
     "duration": 542.442718,
     "end_time": "2023-01-23T20:53:03.876375",
     "exception": false,
     "start_time": "2023-01-23T20:44:01.433657",
     "status": "completed"
    },
    "tags": []
   },
   "outputs": [],
   "source": [
    "lv_gene_bands = {\n",
    "    lv_code: get_lv_genes(lv_code).rename(columns={lv_code: \"lv\"})\n",
    "    for lv_code in multiplier_z.columns\n",
    "}"
   ]
  },
  {
   "cell_type": "code",
   "execution_count": 20,
   "id": "6a57dcac-1c8c-41b5-8f73-54c93de952a5",
   "metadata": {
    "execution": {
     "iopub.execute_input": "2023-01-23T20:53:03.897326Z",
     "iopub.status.busy": "2023-01-23T20:53:03.897221Z",
     "iopub.status.idle": "2023-01-23T20:53:03.906783Z",
     "shell.execute_reply": "2023-01-23T20:53:03.906458Z"
    },
    "papermill": {
     "duration": 0.021521,
     "end_time": "2023-01-23T20:53:03.908246",
     "exception": false,
     "start_time": "2023-01-23T20:53:03.886725",
     "status": "completed"
    },
    "tags": []
   },
   "outputs": [
    {
     "data": {
      "text/html": [
       "<div>\n",
       "<style scoped>\n",
       "    .dataframe tbody tr th:only-of-type {\n",
       "        vertical-align: middle;\n",
       "    }\n",
       "\n",
       "    .dataframe tbody tr th {\n",
       "        vertical-align: top;\n",
       "    }\n",
       "\n",
       "    .dataframe thead th {\n",
       "        text-align: right;\n",
       "    }\n",
       "</style>\n",
       "<table border=\"1\" class=\"dataframe\">\n",
       "  <thead>\n",
       "    <tr style=\"text-align: right;\">\n",
       "      <th></th>\n",
       "      <th>lv</th>\n",
       "      <th>gene_band</th>\n",
       "    </tr>\n",
       "  </thead>\n",
       "  <tbody>\n",
       "    <tr>\n",
       "      <th>POLD1</th>\n",
       "      <td>2.989508</td>\n",
       "      <td>19q13.33</td>\n",
       "    </tr>\n",
       "    <tr>\n",
       "      <th>TRIM28</th>\n",
       "      <td>2.967235</td>\n",
       "      <td>19q13.43</td>\n",
       "    </tr>\n",
       "    <tr>\n",
       "      <th>TOMM40</th>\n",
       "      <td>2.941369</td>\n",
       "      <td>19q13.32</td>\n",
       "    </tr>\n",
       "    <tr>\n",
       "      <th>PKMYT1</th>\n",
       "      <td>2.810091</td>\n",
       "      <td>16p13.3</td>\n",
       "    </tr>\n",
       "    <tr>\n",
       "      <th>CDT1</th>\n",
       "      <td>2.776054</td>\n",
       "      <td>16q24.3</td>\n",
       "    </tr>\n",
       "    <tr>\n",
       "      <th>...</th>\n",
       "      <td>...</td>\n",
       "      <td>...</td>\n",
       "    </tr>\n",
       "    <tr>\n",
       "      <th>HIST1H2BF</th>\n",
       "      <td>0.000000</td>\n",
       "      <td>6p22.2</td>\n",
       "    </tr>\n",
       "    <tr>\n",
       "      <th>HIST1H2BD</th>\n",
       "      <td>0.000000</td>\n",
       "      <td>6p22.2</td>\n",
       "    </tr>\n",
       "    <tr>\n",
       "      <th>NACA</th>\n",
       "      <td>0.000000</td>\n",
       "      <td>12q13.3</td>\n",
       "    </tr>\n",
       "    <tr>\n",
       "      <th>PLEKHA1</th>\n",
       "      <td>0.000000</td>\n",
       "      <td>10q26.13</td>\n",
       "    </tr>\n",
       "    <tr>\n",
       "      <th>GAS6</th>\n",
       "      <td>0.000000</td>\n",
       "      <td>13q34</td>\n",
       "    </tr>\n",
       "  </tbody>\n",
       "</table>\n",
       "<p>6750 rows × 2 columns</p>\n",
       "</div>"
      ],
      "text/plain": [
       "                 lv gene_band\n",
       "POLD1      2.989508  19q13.33\n",
       "TRIM28     2.967235  19q13.43\n",
       "TOMM40     2.941369  19q13.32\n",
       "PKMYT1     2.810091   16p13.3\n",
       "CDT1       2.776054   16q24.3\n",
       "...             ...       ...\n",
       "HIST1H2BF  0.000000    6p22.2\n",
       "HIST1H2BD  0.000000    6p22.2\n",
       "NACA       0.000000   12q13.3\n",
       "PLEKHA1    0.000000  10q26.13\n",
       "GAS6       0.000000     13q34\n",
       "\n",
       "[6750 rows x 2 columns]"
      ]
     },
     "execution_count": 20,
     "metadata": {},
     "output_type": "execute_result"
    }
   ],
   "source": [
    "lv_gene_bands[\"LV1\"]"
   ]
  },
  {
   "cell_type": "markdown",
   "id": "c8f4be0c-d62c-4a0d-a4a1-75f6126aea5a",
   "metadata": {
    "papermill": {
     "duration": 0.008947,
     "end_time": "2023-01-23T20:53:03.926315",
     "exception": false,
     "start_time": "2023-01-23T20:53:03.917368",
     "status": "completed"
    },
    "tags": []
   },
   "source": [
    "# Summarize LV-band"
   ]
  },
  {
   "cell_type": "code",
   "execution_count": 21,
   "id": "a71171e1-554e-4d09-8650-0e98f6a70399",
   "metadata": {
    "execution": {
     "iopub.execute_input": "2023-01-23T20:53:03.944659Z",
     "iopub.status.busy": "2023-01-23T20:53:03.944537Z",
     "iopub.status.idle": "2023-01-23T20:53:03.946747Z",
     "shell.execute_reply": "2023-01-23T20:53:03.946452Z"
    },
    "papermill": {
     "duration": 0.013033,
     "end_time": "2023-01-23T20:53:03.947989",
     "exception": false,
     "start_time": "2023-01-23T20:53:03.934956",
     "status": "completed"
    },
    "tags": []
   },
   "outputs": [],
   "source": [
    "_tmp = lv_gene_bands[\"LV246\"]"
   ]
  },
  {
   "cell_type": "code",
   "execution_count": 22,
   "id": "7ddf470b-ecbb-40cb-8021-83d0fa6237fe",
   "metadata": {
    "execution": {
     "iopub.execute_input": "2023-01-23T20:53:03.965929Z",
     "iopub.status.busy": "2023-01-23T20:53:03.965781Z",
     "iopub.status.idle": "2023-01-23T20:53:03.969902Z",
     "shell.execute_reply": "2023-01-23T20:53:03.969528Z"
    },
    "papermill": {
     "duration": 0.014499,
     "end_time": "2023-01-23T20:53:03.971150",
     "exception": false,
     "start_time": "2023-01-23T20:53:03.956651",
     "status": "completed"
    },
    "tags": []
   },
   "outputs": [],
   "source": [
    "_tmp2 = _tmp.head(70)[\"gene_band\"].value_counts()"
   ]
  },
  {
   "cell_type": "code",
   "execution_count": 23,
   "id": "077dbca2-b56f-4f21-ac84-2038e56e6eb8",
   "metadata": {
    "execution": {
     "iopub.execute_input": "2023-01-23T20:53:03.989907Z",
     "iopub.status.busy": "2023-01-23T20:53:03.989461Z",
     "iopub.status.idle": "2023-01-23T20:53:03.995497Z",
     "shell.execute_reply": "2023-01-23T20:53:03.995115Z"
    },
    "papermill": {
     "duration": 0.016515,
     "end_time": "2023-01-23T20:53:03.996239",
     "exception": false,
     "start_time": "2023-01-23T20:53:03.979724",
     "status": "completed"
    },
    "tags": []
   },
   "outputs": [
    {
     "data": {
      "text/plain": [
       "4q25        2\n",
       "17q25.3     2\n",
       "11q13.1     2\n",
       "11p11.2     2\n",
       "12q24.11    2\n",
       "           ..\n",
       "3q21.2      0\n",
       "3q21.1      0\n",
       "3q13.33     0\n",
       "3q13.32     0\n",
       "10p11.1     0\n",
       "Name: gene_band, Length: 701, dtype: int64"
      ]
     },
     "execution_count": 23,
     "metadata": {},
     "output_type": "execute_result"
    }
   ],
   "source": [
    "_tmp2"
   ]
  },
  {
   "cell_type": "code",
   "execution_count": 24,
   "id": "04bf88c1-7e8b-4da4-892a-f28615c5ec7a",
   "metadata": {
    "execution": {
     "iopub.execute_input": "2023-01-23T20:53:04.005888Z",
     "iopub.status.busy": "2023-01-23T20:53:04.005740Z",
     "iopub.status.idle": "2023-01-23T20:53:04.010866Z",
     "shell.execute_reply": "2023-01-23T20:53:04.010490Z"
    },
    "papermill": {
     "duration": 0.010812,
     "end_time": "2023-01-23T20:53:04.011582",
     "exception": false,
     "start_time": "2023-01-23T20:53:04.000770",
     "status": "completed"
    },
    "tags": []
   },
   "outputs": [
    {
     "data": {
      "text/plain": [
       "1p13.3    0\n",
       "1p13.2    0\n",
       "1p13.1    0\n",
       "Name: gene_band, dtype: int64"
      ]
     },
     "execution_count": 24,
     "metadata": {},
     "output_type": "execute_result"
    }
   ],
   "source": [
    "_tmp2[_tmp2.index.str.startswith(\"1p13\")]"
   ]
  },
  {
   "cell_type": "code",
   "execution_count": 25,
   "id": "e79d83bf-c24a-42e8-bb56-ff16e285d86a",
   "metadata": {
    "execution": {
     "iopub.execute_input": "2023-01-23T20:53:04.021669Z",
     "iopub.status.busy": "2023-01-23T20:53:04.021520Z",
     "iopub.status.idle": "2023-01-23T20:53:04.025088Z",
     "shell.execute_reply": "2023-01-23T20:53:04.024709Z"
    },
    "papermill": {
     "duration": 0.009596,
     "end_time": "2023-01-23T20:53:04.025810",
     "exception": false,
     "start_time": "2023-01-23T20:53:04.016214",
     "status": "completed"
    },
    "tags": []
   },
   "outputs": [],
   "source": [
    "def count_band(lv_gene_bands, band):\n",
    "    \"\"\"\n",
    "    It takes the top 70 genes (around 1%) in the LV data (given by lv_gene_bands)\n",
    "    and counts how many genes' bands starts with the value given by band.\n",
    "    For instance, if band=\"1p13\", it would count all genes in bands \"1p13.1\", \"1p13.2\"\n",
    "    and all \"1p13*\".\n",
    "    \"\"\"\n",
    "    top_bands = lv_gene_bands.head(70)[\"gene_band\"].value_counts()\n",
    "    return top_bands[top_bands.index.str.startswith(band)].sum()"
   ]
  },
  {
   "cell_type": "code",
   "execution_count": 26,
   "id": "00b0bed2-477d-4c2d-bb96-11137789f513",
   "metadata": {
    "execution": {
     "iopub.execute_input": "2023-01-23T20:53:04.035813Z",
     "iopub.status.busy": "2023-01-23T20:53:04.035478Z",
     "iopub.status.idle": "2023-01-23T20:53:04.040900Z",
     "shell.execute_reply": "2023-01-23T20:53:04.040516Z"
    },
    "papermill": {
     "duration": 0.011227,
     "end_time": "2023-01-23T20:53:04.041649",
     "exception": false,
     "start_time": "2023-01-23T20:53:04.030422",
     "status": "completed"
    },
    "tags": []
   },
   "outputs": [
    {
     "data": {
      "text/plain": [
       "0"
      ]
     },
     "execution_count": 26,
     "metadata": {},
     "output_type": "execute_result"
    }
   ],
   "source": [
    "count_band(lv_gene_bands[\"LV1\"], \"1p13\")"
   ]
  },
  {
   "cell_type": "code",
   "execution_count": 27,
   "id": "efd8663c-f9ea-425b-83fa-e1c1dbedae1c",
   "metadata": {
    "execution": {
     "iopub.execute_input": "2023-01-23T20:53:04.051990Z",
     "iopub.status.busy": "2023-01-23T20:53:04.051622Z",
     "iopub.status.idle": "2023-01-23T20:53:04.055087Z",
     "shell.execute_reply": "2023-01-23T20:53:04.054601Z"
    },
    "papermill": {
     "duration": 0.009424,
     "end_time": "2023-01-23T20:53:04.055926",
     "exception": false,
     "start_time": "2023-01-23T20:53:04.046502",
     "status": "completed"
    },
    "tags": []
   },
   "outputs": [
    {
     "data": {
      "text/plain": [
       "'1p13'"
      ]
     },
     "execution_count": 27,
     "metadata": {},
     "output_type": "execute_result"
    }
   ],
   "source": [
    "BAND"
   ]
  },
  {
   "cell_type": "code",
   "execution_count": 28,
   "id": "a95559cc-2741-46d4-8b96-5317e7568098",
   "metadata": {
    "execution": {
     "iopub.execute_input": "2023-01-23T20:53:04.066339Z",
     "iopub.status.busy": "2023-01-23T20:53:04.066027Z",
     "iopub.status.idle": "2023-01-23T20:53:04.949472Z",
     "shell.execute_reply": "2023-01-23T20:53:04.949164Z"
    },
    "papermill": {
     "duration": 0.890167,
     "end_time": "2023-01-23T20:53:04.950982",
     "exception": false,
     "start_time": "2023-01-23T20:53:04.060815",
     "status": "completed"
    },
    "tags": []
   },
   "outputs": [],
   "source": [
    "lv_band_summary = {k: count_band(v, BAND) for k, v in lv_gene_bands.items()}"
   ]
  },
  {
   "cell_type": "code",
   "execution_count": 29,
   "id": "b49cd3bf-0ff5-4560-a8fd-b7d9b7bc4041",
   "metadata": {
    "execution": {
     "iopub.execute_input": "2023-01-23T20:53:04.971520Z",
     "iopub.status.busy": "2023-01-23T20:53:04.971416Z",
     "iopub.status.idle": "2023-01-23T20:53:04.974576Z",
     "shell.execute_reply": "2023-01-23T20:53:04.974315Z"
    },
    "papermill": {
     "duration": 0.014865,
     "end_time": "2023-01-23T20:53:04.975793",
     "exception": false,
     "start_time": "2023-01-23T20:53:04.960928",
     "status": "completed"
    },
    "tags": []
   },
   "outputs": [],
   "source": [
    "lv_band_summary_df = pd.Series(lv_band_summary).sort_values(ascending=False)"
   ]
  },
  {
   "cell_type": "code",
   "execution_count": 30,
   "id": "467ded09-2dd1-49b4-9d42-78888eff6ccb",
   "metadata": {
    "execution": {
     "iopub.execute_input": "2023-01-23T20:53:04.995407Z",
     "iopub.status.busy": "2023-01-23T20:53:04.995323Z",
     "iopub.status.idle": "2023-01-23T20:53:04.997616Z",
     "shell.execute_reply": "2023-01-23T20:53:04.997368Z"
    },
    "papermill": {
     "duration": 0.013824,
     "end_time": "2023-01-23T20:53:04.999278",
     "exception": false,
     "start_time": "2023-01-23T20:53:04.985454",
     "status": "completed"
    },
    "tags": []
   },
   "outputs": [
    {
     "data": {
      "text/plain": [
       "(987,)"
      ]
     },
     "execution_count": 30,
     "metadata": {},
     "output_type": "execute_result"
    }
   ],
   "source": [
    "lv_band_summary_df.shape"
   ]
  },
  {
   "cell_type": "code",
   "execution_count": 31,
   "id": "972ccb7c-158f-4ca5-9154-e49b8f7f9168",
   "metadata": {
    "execution": {
     "iopub.execute_input": "2023-01-23T20:53:05.018231Z",
     "iopub.status.busy": "2023-01-23T20:53:05.018148Z",
     "iopub.status.idle": "2023-01-23T20:53:05.021903Z",
     "shell.execute_reply": "2023-01-23T20:53:05.021422Z"
    },
    "papermill": {
     "duration": 0.01453,
     "end_time": "2023-01-23T20:53:05.023240",
     "exception": false,
     "start_time": "2023-01-23T20:53:05.008710",
     "status": "completed"
    },
    "tags": []
   },
   "outputs": [
    {
     "data": {
      "text/plain": [
       "LV856    7\n",
       "LV227    6\n",
       "LV418    5\n",
       "LV805    5\n",
       "LV481    4\n",
       "dtype: int64"
      ]
     },
     "execution_count": 31,
     "metadata": {},
     "output_type": "execute_result"
    }
   ],
   "source": [
    "lv_band_summary_df.head()"
   ]
  },
  {
   "cell_type": "markdown",
   "id": "b6d59fc1-f7a9-4c9e-8a87-b87052c9b6a2",
   "metadata": {
    "papermill": {
     "duration": 0.009587,
     "end_time": "2023-01-23T20:53:05.042441",
     "exception": false,
     "start_time": "2023-01-23T20:53:05.032854",
     "status": "completed"
    },
    "tags": []
   },
   "source": [
    "# LV246"
   ]
  },
  {
   "cell_type": "code",
   "execution_count": 32,
   "id": "2906df76-c134-4ccb-879c-eb3e4f18c6ce",
   "metadata": {
    "execution": {
     "iopub.execute_input": "2023-01-23T20:53:05.055622Z",
     "iopub.status.busy": "2023-01-23T20:53:05.055465Z",
     "iopub.status.idle": "2023-01-23T20:53:05.059132Z",
     "shell.execute_reply": "2023-01-23T20:53:05.058656Z"
    },
    "papermill": {
     "duration": 0.009815,
     "end_time": "2023-01-23T20:53:05.059976",
     "exception": false,
     "start_time": "2023-01-23T20:53:05.050161",
     "status": "completed"
    },
    "tags": []
   },
   "outputs": [
    {
     "data": {
      "text/plain": [
       "0"
      ]
     },
     "execution_count": 32,
     "metadata": {},
     "output_type": "execute_result"
    }
   ],
   "source": [
    "# count how many top genes in LV246 are in 1p13\n",
    "lv_band_summary_df[\"LV246\"]"
   ]
  },
  {
   "cell_type": "code",
   "execution_count": 33,
   "id": "fa833e5c-62bc-4360-b803-0066dc528232",
   "metadata": {
    "execution": {
     "iopub.execute_input": "2023-01-23T20:53:05.071124Z",
     "iopub.status.busy": "2023-01-23T20:53:05.070674Z",
     "iopub.status.idle": "2023-01-23T20:53:05.079104Z",
     "shell.execute_reply": "2023-01-23T20:53:05.078621Z"
    },
    "papermill": {
     "duration": 0.014683,
     "end_time": "2023-01-23T20:53:05.079968",
     "exception": false,
     "start_time": "2023-01-23T20:53:05.065285",
     "status": "completed"
    },
    "tags": []
   },
   "outputs": [
    {
     "data": {
      "text/html": [
       "<div>\n",
       "<style scoped>\n",
       "    .dataframe tbody tr th:only-of-type {\n",
       "        vertical-align: middle;\n",
       "    }\n",
       "\n",
       "    .dataframe tbody tr th {\n",
       "        vertical-align: top;\n",
       "    }\n",
       "\n",
       "    .dataframe thead th {\n",
       "        text-align: right;\n",
       "    }\n",
       "</style>\n",
       "<table border=\"1\" class=\"dataframe\">\n",
       "  <thead>\n",
       "    <tr style=\"text-align: right;\">\n",
       "      <th></th>\n",
       "      <th>lv</th>\n",
       "      <th>gene_band</th>\n",
       "    </tr>\n",
       "  </thead>\n",
       "  <tbody>\n",
       "    <tr>\n",
       "      <th>SCD</th>\n",
       "      <td>6.672060</td>\n",
       "      <td>10q24.31</td>\n",
       "    </tr>\n",
       "    <tr>\n",
       "      <th>ACSS2</th>\n",
       "      <td>6.258514</td>\n",
       "      <td>20q11.22</td>\n",
       "    </tr>\n",
       "    <tr>\n",
       "      <th>GPAM</th>\n",
       "      <td>5.714077</td>\n",
       "      <td>10q25.2</td>\n",
       "    </tr>\n",
       "    <tr>\n",
       "      <th>DGAT2</th>\n",
       "      <td>4.738347</td>\n",
       "      <td>11q13.5</td>\n",
       "    </tr>\n",
       "    <tr>\n",
       "      <th>ACLY</th>\n",
       "      <td>3.708678</td>\n",
       "      <td>17q21.2</td>\n",
       "    </tr>\n",
       "    <tr>\n",
       "      <th>GPD1</th>\n",
       "      <td>3.346001</td>\n",
       "      <td>12q13.12</td>\n",
       "    </tr>\n",
       "    <tr>\n",
       "      <th>MVD</th>\n",
       "      <td>3.320598</td>\n",
       "      <td>16q24.2</td>\n",
       "    </tr>\n",
       "    <tr>\n",
       "      <th>FASN</th>\n",
       "      <td>2.915241</td>\n",
       "      <td>17q25.3</td>\n",
       "    </tr>\n",
       "    <tr>\n",
       "      <th>LPL</th>\n",
       "      <td>2.858278</td>\n",
       "      <td>8p21.3</td>\n",
       "    </tr>\n",
       "    <tr>\n",
       "      <th>ACSL1</th>\n",
       "      <td>2.682199</td>\n",
       "      <td>4q35.1</td>\n",
       "    </tr>\n",
       "    <tr>\n",
       "      <th>LSS</th>\n",
       "      <td>2.535996</td>\n",
       "      <td>21q22.3</td>\n",
       "    </tr>\n",
       "    <tr>\n",
       "      <th>FADS2</th>\n",
       "      <td>2.504681</td>\n",
       "      <td>11q12.2</td>\n",
       "    </tr>\n",
       "    <tr>\n",
       "      <th>AGPAT2</th>\n",
       "      <td>2.237759</td>\n",
       "      <td>9q34.3</td>\n",
       "    </tr>\n",
       "    <tr>\n",
       "      <th>ACACA</th>\n",
       "      <td>2.138277</td>\n",
       "      <td>17q12</td>\n",
       "    </tr>\n",
       "    <tr>\n",
       "      <th>ME1</th>\n",
       "      <td>2.107366</td>\n",
       "      <td>6q14.2</td>\n",
       "    </tr>\n",
       "    <tr>\n",
       "      <th>ELOVL5</th>\n",
       "      <td>2.022853</td>\n",
       "      <td>6p12.1</td>\n",
       "    </tr>\n",
       "    <tr>\n",
       "      <th>HSD17B12</th>\n",
       "      <td>2.007114</td>\n",
       "      <td>11p11.2</td>\n",
       "    </tr>\n",
       "    <tr>\n",
       "      <th>SLC7A10</th>\n",
       "      <td>1.968451</td>\n",
       "      <td>19q13.11</td>\n",
       "    </tr>\n",
       "    <tr>\n",
       "      <th>G0S2</th>\n",
       "      <td>1.900780</td>\n",
       "      <td>1q32.2</td>\n",
       "    </tr>\n",
       "    <tr>\n",
       "      <th>SREBF1</th>\n",
       "      <td>1.783389</td>\n",
       "      <td>17p11.2</td>\n",
       "    </tr>\n",
       "  </tbody>\n",
       "</table>\n",
       "</div>"
      ],
      "text/plain": [
       "                lv gene_band\n",
       "SCD       6.672060  10q24.31\n",
       "ACSS2     6.258514  20q11.22\n",
       "GPAM      5.714077   10q25.2\n",
       "DGAT2     4.738347   11q13.5\n",
       "ACLY      3.708678   17q21.2\n",
       "GPD1      3.346001  12q13.12\n",
       "MVD       3.320598   16q24.2\n",
       "FASN      2.915241   17q25.3\n",
       "LPL       2.858278    8p21.3\n",
       "ACSL1     2.682199    4q35.1\n",
       "LSS       2.535996   21q22.3\n",
       "FADS2     2.504681   11q12.2\n",
       "AGPAT2    2.237759    9q34.3\n",
       "ACACA     2.138277     17q12\n",
       "ME1       2.107366    6q14.2\n",
       "ELOVL5    2.022853    6p12.1\n",
       "HSD17B12  2.007114   11p11.2\n",
       "SLC7A10   1.968451  19q13.11\n",
       "G0S2      1.900780    1q32.2\n",
       "SREBF1    1.783389   17p11.2"
      ]
     },
     "execution_count": 33,
     "metadata": {},
     "output_type": "execute_result"
    }
   ],
   "source": [
    "# now, take a look at what are the top bands in LV246\n",
    "lv_gene_bands[\"LV246\"].head(20)"
   ]
  },
  {
   "cell_type": "code",
   "execution_count": 34,
   "id": "fa0b4e61-08aa-4bba-9283-f416f94b2736",
   "metadata": {
    "execution": {
     "iopub.execute_input": "2023-01-23T20:53:05.090778Z",
     "iopub.status.busy": "2023-01-23T20:53:05.090462Z",
     "iopub.status.idle": "2023-01-23T20:53:05.096659Z",
     "shell.execute_reply": "2023-01-23T20:53:05.096181Z"
    },
    "papermill": {
     "duration": 0.012542,
     "end_time": "2023-01-23T20:53:05.097532",
     "exception": false,
     "start_time": "2023-01-23T20:53:05.084990",
     "status": "completed"
    },
    "tags": []
   },
   "outputs": [
    {
     "data": {
      "text/plain": [
       "4q25        2\n",
       "17q25.3     2\n",
       "11q13.1     2\n",
       "11p11.2     2\n",
       "12q24.11    2\n",
       "19q13.11    2\n",
       "19p13.2     2\n",
       "11q12.2     2\n",
       "17q12       1\n",
       "12p11.22    1\n",
       "12q13.12    1\n",
       "12p13.33    1\n",
       "12p13.31    1\n",
       "7q21.11     1\n",
       "1p34.2      1\n",
       "7q21.2      1\n",
       "12p12.3     1\n",
       "11q23.1     1\n",
       "17q21.2     1\n",
       "11q14.2     1\n",
       "Name: gene_band, dtype: int64"
      ]
     },
     "execution_count": 34,
     "metadata": {},
     "output_type": "execute_result"
    }
   ],
   "source": [
    "lv_gene_bands[\"LV246\"].head(70)[\"gene_band\"].value_counts().head(20)"
   ]
  },
  {
   "cell_type": "code",
   "execution_count": null,
   "id": "4cbb5a90-656c-4f9f-815b-2dff59260486",
   "metadata": {
    "papermill": {
     "duration": 0.004961,
     "end_time": "2023-01-23T20:53:05.107865",
     "exception": false,
     "start_time": "2023-01-23T20:53:05.102904",
     "status": "completed"
    },
    "tags": []
   },
   "outputs": [],
   "source": []
  }
 ],
 "metadata": {
  "jupytext": {
   "cell_metadata_filter": "all,-execution,-papermill,-trusted"
  },
  "kernelspec": {
   "display_name": "Python 3 (ipykernel)",
   "language": "python",
   "name": "python3"
  },
  "language_info": {
   "codemirror_mode": {
    "name": "ipython",
    "version": 3
   },
   "file_extension": ".py",
   "mimetype": "text/x-python",
   "name": "python",
   "nbconvert_exporter": "python",
   "pygments_lexer": "ipython3",
   "version": "3.8.13"
  },
  "papermill": {
   "default_parameters": {},
   "duration": 549.290999,
   "end_time": "2023-01-23T20:53:07.829926",
   "environment_variables": {},
   "exception": null,
   "input_path": "nbs/15_gsa_gls/misc/explore_lv_genes_in_1p13.ipynb",
   "output_path": "nbs/15_gsa_gls/misc/explore_lv_genes_in_1p13.run.ipynb",
   "parameters": {
    "PHENOPLIER_NOTEBOOK_FILEPATH": "nbs/15_gsa_gls/misc/explore_lv_genes_in_1p13.ipynb"
   },
   "start_time": "2023-01-23T20:43:58.538927",
   "version": "2.3.4"
  }
 },
 "nbformat": 4,
 "nbformat_minor": 5
}
