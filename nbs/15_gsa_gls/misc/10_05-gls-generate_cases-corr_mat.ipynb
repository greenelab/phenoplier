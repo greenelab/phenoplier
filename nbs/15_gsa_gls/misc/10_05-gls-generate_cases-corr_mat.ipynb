{
 "cells": [
  {
   "cell_type": "markdown",
   "id": "5ef66977",
   "metadata": {
    "papermill": {
     "duration": 0.010512,
     "end_time": "2022-07-11T13:22:07.207937",
     "exception": false,
     "start_time": "2022-07-11T13:22:07.197425",
     "status": "completed"
    },
    "tags": []
   },
   "source": [
    "# Description"
   ]
  },
  {
   "cell_type": "markdown",
   "id": "658d4f7c",
   "metadata": {
    "papermill": {
     "duration": 0.007193,
     "end_time": "2022-07-11T13:22:07.222297",
     "exception": false,
     "start_time": "2022-07-11T13:22:07.215104",
     "status": "completed"
    },
    "tags": []
   },
   "source": [
    "**TODO:** update"
   ]
  },
  {
   "cell_type": "markdown",
   "id": "60fa4530",
   "metadata": {
    "papermill": {
     "duration": 0.007062,
     "end_time": "2022-07-11T13:22:07.236433",
     "exception": false,
     "start_time": "2022-07-11T13:22:07.229371",
     "status": "completed"
    },
    "tags": []
   },
   "source": [
    "# Modules"
   ]
  },
  {
   "cell_type": "code",
   "execution_count": 1,
   "id": "d70b0833",
   "metadata": {
    "papermill": {
     "duration": 0.023639,
     "end_time": "2022-07-11T13:22:07.267099",
     "exception": false,
     "start_time": "2022-07-11T13:22:07.243460",
     "status": "completed"
    },
    "tags": []
   },
   "outputs": [],
   "source": [
    "%load_ext autoreload\n",
    "%autoreload 2"
   ]
  },
  {
   "cell_type": "code",
   "execution_count": 2,
   "id": "6b2f9ca0",
   "metadata": {
    "papermill": {
     "duration": 0.815336,
     "end_time": "2022-07-11T13:22:08.117525",
     "exception": false,
     "start_time": "2022-07-11T13:22:07.302189",
     "status": "completed"
    },
    "tags": []
   },
   "outputs": [],
   "source": [
    "import sys\n",
    "\n",
    "import numpy as np\n",
    "from scipy.spatial.distance import squareform\n",
    "import pandas as pd\n",
    "from scipy import stats\n",
    "# import matplotlib.pyplot as plt\n",
    "# import seaborn as sns\n",
    "\n",
    "import conf\n",
    "import utils\n",
    "from entity import Gene"
   ]
  },
  {
   "cell_type": "markdown",
   "id": "5b96e797",
   "metadata": {
    "papermill": {
     "duration": 0.007353,
     "end_time": "2022-07-11T13:22:08.132804",
     "exception": false,
     "start_time": "2022-07-11T13:22:08.125451",
     "status": "completed"
    },
    "tags": []
   },
   "source": [
    "# Settings"
   ]
  },
  {
   "cell_type": "code",
   "execution_count": 3,
   "id": "4fc1b6a0",
   "metadata": {
    "papermill": {
     "duration": 0.02389,
     "end_time": "2022-07-11T13:22:08.163791",
     "exception": false,
     "start_time": "2022-07-11T13:22:08.139901",
     "status": "completed"
    },
    "tags": [
     "parameters"
    ]
   },
   "outputs": [],
   "source": [
    "# a cohort name (it could be something like UK_BIOBANK, etc)\n",
    "COHORT_NAME = \"1000G_EUR\"\n",
    "\n",
    "# reference panel such as 1000G or GTEX_V8\n",
    "REFERENCE_PANEL = \"1000G\"\n",
    "\n",
    "# predictions models such as MASHR or ELASTIC_NET\n",
    "EQTL_MODEL = \"MASHR\""
   ]
  },
  {
   "cell_type": "code",
   "execution_count": 5,
   "id": "ac0c0705-90e4-42f8-8298-a457c7e778ff",
   "metadata": {
    "papermill": {
     "duration": 0.026136,
     "end_time": "2022-07-11T13:22:08.360188",
     "exception": false,
     "start_time": "2022-07-11T13:22:08.334052",
     "status": "completed"
    },
    "tags": []
   },
   "outputs": [
    {
     "data": {
      "text/plain": [
       "PosixPath('/opt/data/results/gls/gene_corrs/cohorts/1000g_eur/1000g/mashr/all_genes')"
      ]
     },
     "metadata": {},
     "output_type": "display_data"
    }
   ],
   "source": [
    "OUTPUT_DIR_BASE = (\n",
    "    conf.RESULTS[\"GLS\"]\n",
    "    / \"gene_corrs\"\n",
    "    / \"cohorts\"\n",
    "    / COHORT_NAME.lower()\n",
    "    / REFERENCE_PANEL.lower()\n",
    "    / EQTL_MODEL.lower()\n",
    "    / \"all_genes\"\n",
    ")\n",
    "display(OUTPUT_DIR_BASE)\n",
    "assert OUTPUT_DIR_BASE.exists()"
   ]
  },
  {
   "cell_type": "code",
   "execution_count": 6,
   "id": "0949e7ac-1952-4552-9ee9-4f289cd40583",
   "metadata": {},
   "outputs": [
    {
     "data": {
      "text/plain": [
       "PosixPath('/opt/code/tests/data/gls')"
      ]
     },
     "metadata": {},
     "output_type": "display_data"
    }
   ],
   "source": [
    "OUTPUT_DIR = utils.get_git_repository_path() / \"tests\" / \"data\" / \"gls\"\n",
    "display(OUTPUT_DIR)\n",
    "assert OUTPUT_DIR.exists()"
   ]
  },
  {
   "cell_type": "markdown",
   "id": "99ccb166",
   "metadata": {
    "papermill": {
     "duration": 0.008141,
     "end_time": "2022-07-11T13:22:08.443463",
     "exception": false,
     "start_time": "2022-07-11T13:22:08.435322",
     "status": "completed"
    },
    "tags": []
   },
   "source": [
    "# Load data"
   ]
  },
  {
   "cell_type": "markdown",
   "id": "f4d4f177",
   "metadata": {
    "papermill": {
     "duration": 0.01453,
     "end_time": "2022-07-11T13:22:11.041316",
     "exception": false,
     "start_time": "2022-07-11T13:22:11.026786",
     "status": "completed"
    },
    "tags": []
   },
   "source": [
    "## Load full correlation matrix"
   ]
  },
  {
   "cell_type": "code",
   "execution_count": 7,
   "id": "2f174f95-2be3-4b63-95fb-451413ad361d",
   "metadata": {
    "papermill": {
     "duration": 0.032885,
     "end_time": "2022-07-11T13:24:54.640545",
     "exception": false,
     "start_time": "2022-07-11T13:24:54.607660",
     "status": "completed"
    },
    "tags": []
   },
   "outputs": [
    {
     "data": {
      "text/plain": [
       "PosixPath('/opt/data/results/gls/gene_corrs/cohorts/1000g_eur/1000g/mashr/all_genes/gene_corrs-symbols.pkl')"
      ]
     },
     "metadata": {},
     "output_type": "display_data"
    }
   ],
   "source": [
    "output_file = OUTPUT_DIR_BASE / \"gene_corrs-symbols.pkl\"\n",
    "\n",
    "display(output_file)"
   ]
  },
  {
   "cell_type": "code",
   "execution_count": 8,
   "id": "fbd5ecdf-2501-45bb-a076-d4da54e6f28a",
   "metadata": {},
   "outputs": [],
   "source": [
    "full_corr_matrix_gene_symbols = pd.read_pickle(output_file)"
   ]
  },
  {
   "cell_type": "code",
   "execution_count": 9,
   "id": "d9e18eab",
   "metadata": {
    "papermill": {
     "duration": 0.033448,
     "end_time": "2022-07-11T13:24:55.150874",
     "exception": false,
     "start_time": "2022-07-11T13:24:55.117426",
     "status": "completed"
    },
    "tags": []
   },
   "outputs": [
    {
     "data": {
      "text/plain": [
       "(6442, 6442)"
      ]
     },
     "execution_count": 9,
     "metadata": {},
     "output_type": "execute_result"
    }
   ],
   "source": [
    "full_corr_matrix_gene_symbols.shape"
   ]
  },
  {
   "cell_type": "code",
   "execution_count": 10,
   "id": "44e83e62",
   "metadata": {
    "papermill": {
     "duration": 0.045551,
     "end_time": "2022-07-11T13:24:55.209471",
     "exception": false,
     "start_time": "2022-07-11T13:24:55.163920",
     "status": "completed"
    },
    "tags": []
   },
   "outputs": [
    {
     "data": {
      "text/html": [
       "<div>\n",
       "<style scoped>\n",
       "    .dataframe tbody tr th:only-of-type {\n",
       "        vertical-align: middle;\n",
       "    }\n",
       "\n",
       "    .dataframe tbody tr th {\n",
       "        vertical-align: top;\n",
       "    }\n",
       "\n",
       "    .dataframe thead th {\n",
       "        text-align: right;\n",
       "    }\n",
       "</style>\n",
       "<table border=\"1\" class=\"dataframe\">\n",
       "  <thead>\n",
       "    <tr style=\"text-align: right;\">\n",
       "      <th></th>\n",
       "      <th>NOC2L</th>\n",
       "      <th>HES4</th>\n",
       "      <th>ISG15</th>\n",
       "      <th>AGRN</th>\n",
       "      <th>TNFRSF18</th>\n",
       "      <th>TNFRSF4</th>\n",
       "      <th>B3GALT6</th>\n",
       "      <th>UBE2J2</th>\n",
       "      <th>ACAP3</th>\n",
       "      <th>TAS1R3</th>\n",
       "      <th>...</th>\n",
       "      <th>PLXNB2</th>\n",
       "      <th>ADM2</th>\n",
       "      <th>MIOX</th>\n",
       "      <th>SCO2</th>\n",
       "      <th>TYMP</th>\n",
       "      <th>CPT1B</th>\n",
       "      <th>CHKB</th>\n",
       "      <th>MAPK8IP2</th>\n",
       "      <th>ARSA</th>\n",
       "      <th>SHANK3</th>\n",
       "    </tr>\n",
       "  </thead>\n",
       "  <tbody>\n",
       "    <tr>\n",
       "      <th>NOC2L</th>\n",
       "      <td>1.000000</td>\n",
       "      <td>0.115011</td>\n",
       "      <td>0.173138</td>\n",
       "      <td>0.056096</td>\n",
       "      <td>0.008032</td>\n",
       "      <td>0.008727</td>\n",
       "      <td>0.006797</td>\n",
       "      <td>0.004533</td>\n",
       "      <td>0.007350</td>\n",
       "      <td>0.010391</td>\n",
       "      <td>...</td>\n",
       "      <td>0.0</td>\n",
       "      <td>0.0</td>\n",
       "      <td>0.0</td>\n",
       "      <td>0.0</td>\n",
       "      <td>0.0</td>\n",
       "      <td>0.0</td>\n",
       "      <td>0.0</td>\n",
       "      <td>0.0</td>\n",
       "      <td>0.0</td>\n",
       "      <td>0.0</td>\n",
       "    </tr>\n",
       "    <tr>\n",
       "      <th>HES4</th>\n",
       "      <td>0.115011</td>\n",
       "      <td>1.000000</td>\n",
       "      <td>0.681368</td>\n",
       "      <td>0.360588</td>\n",
       "      <td>0.011545</td>\n",
       "      <td>0.010729</td>\n",
       "      <td>0.003577</td>\n",
       "      <td>0.010230</td>\n",
       "      <td>0.010747</td>\n",
       "      <td>0.008769</td>\n",
       "      <td>...</td>\n",
       "      <td>0.0</td>\n",
       "      <td>0.0</td>\n",
       "      <td>0.0</td>\n",
       "      <td>0.0</td>\n",
       "      <td>0.0</td>\n",
       "      <td>0.0</td>\n",
       "      <td>0.0</td>\n",
       "      <td>0.0</td>\n",
       "      <td>0.0</td>\n",
       "      <td>0.0</td>\n",
       "    </tr>\n",
       "    <tr>\n",
       "      <th>ISG15</th>\n",
       "      <td>0.173138</td>\n",
       "      <td>0.681368</td>\n",
       "      <td>1.000000</td>\n",
       "      <td>0.381394</td>\n",
       "      <td>0.011774</td>\n",
       "      <td>0.012527</td>\n",
       "      <td>0.003754</td>\n",
       "      <td>0.012096</td>\n",
       "      <td>0.012679</td>\n",
       "      <td>0.010442</td>\n",
       "      <td>...</td>\n",
       "      <td>0.0</td>\n",
       "      <td>0.0</td>\n",
       "      <td>0.0</td>\n",
       "      <td>0.0</td>\n",
       "      <td>0.0</td>\n",
       "      <td>0.0</td>\n",
       "      <td>0.0</td>\n",
       "      <td>0.0</td>\n",
       "      <td>0.0</td>\n",
       "      <td>0.0</td>\n",
       "    </tr>\n",
       "    <tr>\n",
       "      <th>AGRN</th>\n",
       "      <td>0.056096</td>\n",
       "      <td>0.360588</td>\n",
       "      <td>0.381394</td>\n",
       "      <td>1.000000</td>\n",
       "      <td>0.013005</td>\n",
       "      <td>0.015775</td>\n",
       "      <td>0.006184</td>\n",
       "      <td>0.006813</td>\n",
       "      <td>0.010775</td>\n",
       "      <td>0.009189</td>\n",
       "      <td>...</td>\n",
       "      <td>0.0</td>\n",
       "      <td>0.0</td>\n",
       "      <td>0.0</td>\n",
       "      <td>0.0</td>\n",
       "      <td>0.0</td>\n",
       "      <td>0.0</td>\n",
       "      <td>0.0</td>\n",
       "      <td>0.0</td>\n",
       "      <td>0.0</td>\n",
       "      <td>0.0</td>\n",
       "    </tr>\n",
       "    <tr>\n",
       "      <th>TNFRSF18</th>\n",
       "      <td>0.008032</td>\n",
       "      <td>0.011545</td>\n",
       "      <td>0.011774</td>\n",
       "      <td>0.013005</td>\n",
       "      <td>1.000000</td>\n",
       "      <td>0.356676</td>\n",
       "      <td>0.454010</td>\n",
       "      <td>0.137643</td>\n",
       "      <td>0.200340</td>\n",
       "      <td>0.093210</td>\n",
       "      <td>...</td>\n",
       "      <td>0.0</td>\n",
       "      <td>0.0</td>\n",
       "      <td>0.0</td>\n",
       "      <td>0.0</td>\n",
       "      <td>0.0</td>\n",
       "      <td>0.0</td>\n",
       "      <td>0.0</td>\n",
       "      <td>0.0</td>\n",
       "      <td>0.0</td>\n",
       "      <td>0.0</td>\n",
       "    </tr>\n",
       "  </tbody>\n",
       "</table>\n",
       "<p>5 rows × 6442 columns</p>\n",
       "</div>"
      ],
      "text/plain": [
       "             NOC2L      HES4     ISG15      AGRN  TNFRSF18   TNFRSF4  \\\n",
       "NOC2L     1.000000  0.115011  0.173138  0.056096  0.008032  0.008727   \n",
       "HES4      0.115011  1.000000  0.681368  0.360588  0.011545  0.010729   \n",
       "ISG15     0.173138  0.681368  1.000000  0.381394  0.011774  0.012527   \n",
       "AGRN      0.056096  0.360588  0.381394  1.000000  0.013005  0.015775   \n",
       "TNFRSF18  0.008032  0.011545  0.011774  0.013005  1.000000  0.356676   \n",
       "\n",
       "           B3GALT6    UBE2J2     ACAP3    TAS1R3  ...  PLXNB2  ADM2  MIOX  \\\n",
       "NOC2L     0.006797  0.004533  0.007350  0.010391  ...     0.0   0.0   0.0   \n",
       "HES4      0.003577  0.010230  0.010747  0.008769  ...     0.0   0.0   0.0   \n",
       "ISG15     0.003754  0.012096  0.012679  0.010442  ...     0.0   0.0   0.0   \n",
       "AGRN      0.006184  0.006813  0.010775  0.009189  ...     0.0   0.0   0.0   \n",
       "TNFRSF18  0.454010  0.137643  0.200340  0.093210  ...     0.0   0.0   0.0   \n",
       "\n",
       "          SCO2  TYMP  CPT1B  CHKB  MAPK8IP2  ARSA  SHANK3  \n",
       "NOC2L      0.0   0.0    0.0   0.0       0.0   0.0     0.0  \n",
       "HES4       0.0   0.0    0.0   0.0       0.0   0.0     0.0  \n",
       "ISG15      0.0   0.0    0.0   0.0       0.0   0.0     0.0  \n",
       "AGRN       0.0   0.0    0.0   0.0       0.0   0.0     0.0  \n",
       "TNFRSF18   0.0   0.0    0.0   0.0       0.0   0.0     0.0  \n",
       "\n",
       "[5 rows x 6442 columns]"
      ]
     },
     "execution_count": 10,
     "metadata": {},
     "output_type": "execute_result"
    }
   ],
   "source": [
    "full_corr_matrix_gene_symbols.head()"
   ]
  },
  {
   "cell_type": "markdown",
   "id": "c4741bcc-5cb5-42ad-9266-e86947c29849",
   "metadata": {
    "papermill": {
     "duration": 0.012899,
     "end_time": "2022-07-11T13:23:15.569947",
     "exception": false,
     "start_time": "2022-07-11T13:23:15.557048",
     "status": "completed"
    },
    "tags": []
   },
   "source": [
    "# Make matrix compatible with GLS"
   ]
  },
  {
   "cell_type": "code",
   "execution_count": 11,
   "id": "d2650b16-618d-4e37-a973-bd24c1e4aa46",
   "metadata": {},
   "outputs": [
    {
     "data": {
      "text/plain": [
       "0"
      ]
     },
     "metadata": {},
     "output_type": "display_data"
    },
    {
     "data": {
      "text/plain": [
       "array([], dtype=float64)"
      ]
     },
     "metadata": {},
     "output_type": "display_data"
    }
   ],
   "source": [
    "_eigvals = np.linalg.eigvals(full_corr_matrix_gene_symbols)\n",
    "display(_eigvals[_eigvals < 0].shape[0])\n",
    "display(_eigvals[_eigvals < 0])"
   ]
  },
  {
   "cell_type": "code",
   "execution_count": 12,
   "id": "9e7a09a0-693f-40a2-899a-a9464fe37cd7",
   "metadata": {},
   "outputs": [
    {
     "name": "stdout",
     "output_type": "stream",
     "text": [
      "No need to fix\n"
     ]
    }
   ],
   "source": [
    "try:\n",
    "    np.linalg.cholesky(full_corr_matrix_gene_symbols)\n",
    "    print(\"No need to fix\")\n",
    "except Exception as e:\n",
    "    print(f\"Failed with:\\n {str(e)}\")"
   ]
  },
  {
   "cell_type": "markdown",
   "id": "50572233-1dde-4f82-a14c-3fb78ed870b5",
   "metadata": {
    "papermill": {
     "duration": 0.012899,
     "end_time": "2022-07-11T13:23:15.569947",
     "exception": false,
     "start_time": "2022-07-11T13:23:15.557048",
     "status": "completed"
    },
    "tags": []
   },
   "source": [
    "# Save"
   ]
  },
  {
   "cell_type": "code",
   "execution_count": 14,
   "id": "695e8ac0-82d5-46f5-a5a4-d956998e122b",
   "metadata": {},
   "outputs": [],
   "source": [
    "orig_corr_mat = full_corr_matrix_gene_symbols"
   ]
  },
  {
   "cell_type": "code",
   "execution_count": 15,
   "id": "ed96e54f-0414-4290-837e-717d443d7871",
   "metadata": {},
   "outputs": [],
   "source": [
    "orig_corr_mat.to_pickle(OUTPUT_DIR / \"corr_mat.pkl.xz\")"
   ]
  },
  {
   "cell_type": "markdown",
   "id": "e80a737f-19dd-4453-8172-633e8243349c",
   "metadata": {},
   "source": [
    "**IMPORTANT:** if the matrix did not need adjustment, then it's necessary to also update the folder `tests/data/gls/corr_mat_folder/` by copying the files generated using notebook `nbs/15_gsa_gls/18-create_corr_mat_per_lv.ipynb`."
   ]
  },
  {
   "cell_type": "code",
   "execution_count": null,
   "id": "add42f73-48aa-436d-9cb2-1f5a46124431",
   "metadata": {},
   "outputs": [],
   "source": []
  }
 ],
 "metadata": {
  "jupytext": {
   "cell_metadata_filter": "all,-execution,-papermill,-trusted",
   "formats": "ipynb,py//py:percent"
  },
  "kernelspec": {
   "display_name": "Python 3 (ipykernel)",
   "language": "python",
   "name": "python3"
  },
  "language_info": {
   "codemirror_mode": {
    "name": "ipython",
    "version": 3
   },
   "file_extension": ".py",
   "mimetype": "text/x-python",
   "name": "python",
   "nbconvert_exporter": "python",
   "pygments_lexer": "ipython3",
   "version": "3.8.13"
  },
  "papermill": {
   "default_parameters": {},
   "duration": 171.690116,
   "end_time": "2022-07-11T13:24:57.694597",
   "environment_variables": {},
   "exception": null,
   "input_path": "nbs/15_gsa_gls/15-postprocess_gene_expr_correlations.ipynb",
   "output_path": "nbs/15_gsa_gls/gene_corrs/1000g/mashr/15-postprocess_gene_expr_correlations.ipynb",
   "parameters": {
    "EQTL_MODEL": "MASHR",
    "REFERENCE_PANEL": "1000G"
   },
   "start_time": "2022-07-11T13:22:06.004481",
   "version": "2.2.2"
  },
  "toc-autonumbering": true
 },
 "nbformat": 4,
 "nbformat_minor": 5
}
