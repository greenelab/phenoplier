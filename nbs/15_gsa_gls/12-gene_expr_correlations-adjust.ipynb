{
 "cells": [
  {
   "cell_type": "markdown",
   "id": "6c1f0ae4-cd27-4fec-a23d-51699e7059e8",
   "metadata": {},
   "source": [
    "# Description"
   ]
  },
  {
   "cell_type": "markdown",
   "id": "3268a19a-8a83-4f61-aa39-09b084c81d61",
   "metadata": {},
   "source": [
    "**TODO**"
   ]
  },
  {
   "cell_type": "markdown",
   "id": "401368d3-22c1-4d81-a2c3-c4a81fde4191",
   "metadata": {},
   "source": [
    "# Modules"
   ]
  },
  {
   "cell_type": "code",
   "execution_count": null,
   "id": "f9b5022b-7c5e-4d37-9c7a-fdb91777c7f9",
   "metadata": {},
   "outputs": [],
   "source": [
    "library(reticulate)\n",
    "pd <- import(\"pandas\")"
   ]
  },
  {
   "cell_type": "markdown",
   "id": "c1958d6a-0229-47e8-823e-792fcf84fccf",
   "metadata": {},
   "source": [
    "# Settings"
   ]
  },
  {
   "cell_type": "code",
   "execution_count": null,
   "id": "22d12bb4-1699-4a6b-b1b9-d3fdd3d547d7",
   "metadata": {
    "tags": [
     "parameters"
    ]
   },
   "outputs": [],
   "source": [
    "# reference panel\n",
    "REFERENCE_PANEL <- \"GTEX_V8\"\n",
    "# REFERENCE_PANEL = \"1000G\"\n",
    "\n",
    "# prediction models\n",
    "## mashr\n",
    "EQTL_MODEL <- \"MASHR\"\n",
    "\n",
    "# ## elastic net\n",
    "# EQTL_MODEL = \"ELASTIC_NET\"\n",
    "\n",
    "chromosome <- NULL"
   ]
  },
  {
   "cell_type": "code",
   "execution_count": null,
   "id": "8fe24bef",
   "metadata": {},
   "outputs": [],
   "source": [
    "paste0(\"Using reference panel: \", REFERENCE_PANEL)"
   ]
  },
  {
   "cell_type": "code",
   "execution_count": null,
   "id": "d62c28f8-186c-478b-948c-58e14f00df4b",
   "metadata": {},
   "outputs": [],
   "source": [
    "paste0(\"Using eQTL model: \", EQTL_MODEL)"
   ]
  },
  {
   "cell_type": "code",
   "execution_count": null,
   "id": "5243676f-c889-4405-9a4d-262f0f044614",
   "metadata": {},
   "outputs": [],
   "source": [
    "# chromosome must be provided as parameter\n",
    "stopifnot(!is.null(chromosome))"
   ]
  },
  {
   "cell_type": "markdown",
   "id": "83a49773-bcf5-44c4-8d9b-a6ac65a57ec6",
   "metadata": {},
   "source": [
    "# Paths"
   ]
  },
  {
   "cell_type": "code",
   "execution_count": null,
   "id": "eb6aa8aa-b452-4a2f-a780-93dd80ad4285",
   "metadata": {},
   "outputs": [],
   "source": [
    "GENE_CORRS_DIR <- Sys.getenv(\"PHENOPLIER_PHENOMEXCAN_LD_BLOCKS_GENE_CORRS_DIR\")\n",
    "IRdisplay::display(GENE_CORRS_DIR)"
   ]
  },
  {
   "cell_type": "code",
   "execution_count": null,
   "id": "eb24f15f-f282-4476-8943-8413c4483f12",
   "metadata": {},
   "outputs": [],
   "source": [
    "INPUT_DIR <- file.path(GENE_CORRS_DIR, tolower(REFERENCE_PANEL), tolower(EQTL_MODEL), \"by_chr\")\n",
    "IRdisplay::display(INPUT_DIR)"
   ]
  },
  {
   "cell_type": "code",
   "execution_count": null,
   "id": "43c1daba-0da9-4822-8d1e-968e9767e251",
   "metadata": {},
   "outputs": [],
   "source": [
    "INPUT_FILE <- file.path(INPUT_DIR, paste0(\"gene_corrs-chr\", chromosome, \".pkl\"))\n",
    "IRdisplay::display(INPUT_FILE)\n",
    "stopifnot(file.exists(INPUT_FILE))"
   ]
  },
  {
   "cell_type": "code",
   "execution_count": null,
   "id": "72386fbf-982b-420a-9057-ea9a97a5e571",
   "metadata": {},
   "outputs": [],
   "source": [
    "OUTPUT_DIR <- file.path(INPUT_DIR, \"corrected_positive_definite\")\n",
    "IRdisplay::display(OUTPUT_DIR)\n",
    "dir.create(OUTPUT_DIR, recursive = TRUE, showWarnings = FALSE)"
   ]
  },
  {
   "cell_type": "code",
   "execution_count": null,
   "id": "f9f19d1d-ce4c-4099-a26e-250fec751de7",
   "metadata": {},
   "outputs": [],
   "source": [
    "OUTPUT_FILE <- file.path(OUTPUT_DIR, paste0(\"gene_corrs-chr\", chromosome, \".pkl\"))\n",
    "IRdisplay::display(OUTPUT_FILE)\n",
    "if (file.exists(OUTPUT_FILE)) {\n",
    "  IRdisplay::display(\"Output file exists, it will be overwritten\")\n",
    "}"
   ]
  },
  {
   "cell_type": "markdown",
   "id": "5aad60e6-cba4-41b5-9755-93eb86f4ed05",
   "metadata": {},
   "source": [
    "# Functions"
   ]
  },
  {
   "cell_type": "code",
   "execution_count": null,
   "id": "f828f081-7358-4cc8-8a89-1ee293bcc1a7",
   "metadata": {},
   "outputs": [],
   "source": [
    "# taken from https://www.r-bloggers.com/2013/08/correcting-a-pseudo-correlation-matrix-to-be-positive-semidefinite/\n",
    "# TODO: add documentation\n",
    "CorrectCM <- function(CM, p = 0) {\n",
    "  n <- dim(var(CM))[1L]\n",
    "  E <- eigen(CM)\n",
    "  CM1 <- E$vectors %*% tcrossprod(diag(pmax(E$values, p), n), E$vectors)\n",
    "  Balance <- diag(1 / sqrt(diag(CM1)))\n",
    "  CM2 <- Balance %*% CM1 %*% Balance\n",
    "  return(CM2)\n",
    "}"
   ]
  },
  {
   "cell_type": "code",
   "execution_count": null,
   "id": "7ab9bebf-50a1-4e6f-b16a-e23cae93d02a",
   "metadata": {},
   "outputs": [],
   "source": [
    "is_positive_definite <- function(data) {\n",
    "  eigenvalues <- eigen(data)$values\n",
    "  nonpositive_eigenvalues <- eigenvalues[eigenvalues <= 0]\n",
    "\n",
    "  if (length(nonpositive_eigenvalues) > 0) {\n",
    "    IRdisplay::display(\"We need to correct the data and make the matrix positive definite\")\n",
    "    return(FALSE)\n",
    "  } else {\n",
    "    IRdisplay::display(\"Matrix is already positive definite!\")\n",
    "    return(TRUE)\n",
    "  }\n",
    "}"
   ]
  },
  {
   "cell_type": "markdown",
   "id": "ac52ecbc-5618-4876-a4fa-546a08e3fcf3",
   "metadata": {},
   "source": [
    "# Load data"
   ]
  },
  {
   "cell_type": "code",
   "execution_count": null,
   "id": "3a7744e1-2e5a-450e-9dcf-945ec181347d",
   "metadata": {},
   "outputs": [],
   "source": [
    "gene_corrs <- pd$read_pickle(INPUT_FILE)"
   ]
  },
  {
   "cell_type": "code",
   "execution_count": null,
   "id": "6fb150b2-4c68-4e9b-9aa5-1890d3f762e3",
   "metadata": {},
   "outputs": [],
   "source": [
    "dim(gene_corrs)"
   ]
  },
  {
   "cell_type": "code",
   "execution_count": null,
   "id": "0d4e53b5-7586-4a68-8ce5-d930d74ba943",
   "metadata": {},
   "outputs": [],
   "source": [
    "head(gene_corrs[1:10, 1:10])"
   ]
  },
  {
   "cell_type": "markdown",
   "id": "c5c9ffba-1678-4ce7-8988-4ee03e23bdf2",
   "metadata": {},
   "source": [
    "# Check positive definiteness"
   ]
  },
  {
   "cell_type": "code",
   "execution_count": null,
   "id": "178854f5-487a-42e8-82b4-625c1979734a",
   "metadata": {},
   "outputs": [],
   "source": [
    "is_positive_definite(gene_corrs)"
   ]
  },
  {
   "cell_type": "code",
   "execution_count": null,
   "id": "58542ade-c80f-42e6-acbf-6464dab70fdb",
   "metadata": {},
   "outputs": [],
   "source": [
    "# see eigenvalues\n",
    "eigenvalues <- eigen(gene_corrs)$values"
   ]
  },
  {
   "cell_type": "code",
   "execution_count": null,
   "id": "9486e0db-e924-43ab-bb6c-0d997fd38f3d",
   "metadata": {},
   "outputs": [],
   "source": [
    "nonpositive_eigenvalues <- eigenvalues[eigenvalues <= 0]\n",
    "IRdisplay::display(length(nonpositive_eigenvalues))\n",
    "IRdisplay::display(nonpositive_eigenvalues)"
   ]
  },
  {
   "cell_type": "code",
   "execution_count": null,
   "id": "410ee452-488f-4518-b93a-2acd608ba99c",
   "metadata": {},
   "outputs": [],
   "source": [
    "if (length(eigenvalues[eigenvalues <= 0]) == 0) {\n",
    "  quit()\n",
    "}"
   ]
  },
  {
   "cell_type": "markdown",
   "id": "2d280a82-f231-402d-82ab-9291d395afc1",
   "metadata": {},
   "source": [
    "# Make matrix positive definite if needed"
   ]
  },
  {
   "cell_type": "code",
   "execution_count": null,
   "id": "b9037873-4067-4ac6-aa92-e9225a6c9353",
   "metadata": {},
   "outputs": [],
   "source": [
    "gene_corrs_corrected <- CorrectCM(gene_corrs, 1e-5)"
   ]
  },
  {
   "cell_type": "code",
   "execution_count": null,
   "id": "03c86284-5aac-4f66-86cc-74eb97102a7e",
   "metadata": {},
   "outputs": [],
   "source": [
    "dimnames(gene_corrs_corrected)[[1]] <- rownames(gene_corrs)"
   ]
  },
  {
   "cell_type": "code",
   "execution_count": null,
   "id": "576e7069-25ff-473d-8158-35b5f2ff212e",
   "metadata": {},
   "outputs": [],
   "source": [
    "dimnames(gene_corrs_corrected)[[2]] <- colnames(gene_corrs)"
   ]
  },
  {
   "cell_type": "code",
   "execution_count": null,
   "id": "f77d043a-321d-447f-8da5-2503981d3e73",
   "metadata": {},
   "outputs": [],
   "source": [
    "gene_corrs_corrected <- as.data.frame(gene_corrs_corrected)"
   ]
  },
  {
   "cell_type": "code",
   "execution_count": null,
   "id": "3e844024-f9a2-42a2-bbd0-695cfdbb78f5",
   "metadata": {},
   "outputs": [],
   "source": [
    "dim(gene_corrs_corrected)"
   ]
  },
  {
   "cell_type": "markdown",
   "id": "244b6bde-4ca8-46d1-acc7-b4c35b5d3c62",
   "metadata": {},
   "source": [
    "# Check positive definiteness of corrected matrix"
   ]
  },
  {
   "cell_type": "code",
   "execution_count": null,
   "id": "0fd5b688-e137-4619-910c-35130d32d600",
   "metadata": {},
   "outputs": [],
   "source": [
    "is_positive_definite(gene_corrs_corrected)"
   ]
  },
  {
   "cell_type": "code",
   "execution_count": null,
   "id": "06d23ab8-bebb-474c-be33-dca7e53c1717",
   "metadata": {},
   "outputs": [],
   "source": [
    "# see eigenvalues\n",
    "eigenvalues <- eigen(gene_corrs_corrected)$values"
   ]
  },
  {
   "cell_type": "code",
   "execution_count": null,
   "id": "ddf8afb8-e0e2-4b4e-876d-12bd6856c1ad",
   "metadata": {},
   "outputs": [],
   "source": [
    "nonpositive_eigenvalues <- eigenvalues[eigenvalues <= 0]\n",
    "IRdisplay::display(length(nonpositive_eigenvalues))\n",
    "IRdisplay::display(nonpositive_eigenvalues)"
   ]
  },
  {
   "cell_type": "code",
   "execution_count": null,
   "id": "712fd71a-b6ec-4a13-a956-80c99be7f585",
   "metadata": {},
   "outputs": [],
   "source": [
    "stopifnot(length(eigenvalues[eigenvalues <= 0]) == 0)"
   ]
  },
  {
   "cell_type": "code",
   "execution_count": null,
   "id": "786d6336-3844-40f7-979b-6d6028787f7f",
   "metadata": {},
   "outputs": [],
   "source": [
    "# quick and visual comparison of the two matrices\n",
    "IRdisplay::display(head(gene_corrs[1:10, 1:10]))\n",
    "IRdisplay::display(head(gene_corrs_corrected[1:10, 1:10]))"
   ]
  },
  {
   "cell_type": "markdown",
   "id": "c6c40f1a-d153-475a-94eb-c71697ad9d51",
   "metadata": {},
   "source": [
    "Both matrices should \"look\" similar. We are not interested in perfectly accurate correlation values (they are already inaccurate)."
   ]
  },
  {
   "cell_type": "markdown",
   "id": "bf0f49cb-9c21-4616-8390-bb68d52dae56",
   "metadata": {},
   "source": [
    "# Save"
   ]
  },
  {
   "cell_type": "code",
   "execution_count": null,
   "id": "2e58e7f3-a75c-4195-a20e-39e3e3e1cc9a",
   "metadata": {},
   "outputs": [],
   "source": [
    "py_save_object(gene_corrs_corrected, OUTPUT_FILE)"
   ]
  },
  {
   "cell_type": "code",
   "execution_count": null,
   "id": "d8ae4220-2171-460c-9231-cd5219f3fe77",
   "metadata": {},
   "outputs": [],
   "source": []
  }
 ],
 "metadata": {
  "jupytext": {
   "cell_metadata_filter": "all,-execution,-papermill,-trusted"
  },
  "kernelspec": {
   "display_name": "R",
   "language": "R",
   "name": "ir"
  },
  "language_info": {
   "codemirror_mode": "r",
   "file_extension": ".r",
   "mimetype": "text/x-r-source",
   "name": "R",
   "pygments_lexer": "r",
   "version": "3.6.3"
  }
 },
 "nbformat": 4,
 "nbformat_minor": 5
}
