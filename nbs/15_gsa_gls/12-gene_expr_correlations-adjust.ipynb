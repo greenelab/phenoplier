{
 "cells": [
  {
   "cell_type": "markdown",
   "id": "6c1f0ae4-cd27-4fec-a23d-51699e7059e8",
   "metadata": {},
   "source": [
    "# Description"
   ]
  },
  {
   "cell_type": "markdown",
   "id": "3268a19a-8a83-4f61-aa39-09b084c81d61",
   "metadata": {},
   "source": [
    "**TODO**"
   ]
  },
  {
   "cell_type": "markdown",
   "id": "401368d3-22c1-4d81-a2c3-c4a81fde4191",
   "metadata": {},
   "source": [
    "# Modules"
   ]
  },
  {
   "cell_type": "code",
   "execution_count": 1,
   "id": "f9b5022b-7c5e-4d37-9c7a-fdb91777c7f9",
   "metadata": {},
   "outputs": [],
   "source": [
    "library(reticulate)\n",
    "pd <- import(\"pandas\")"
   ]
  },
  {
   "cell_type": "markdown",
   "id": "c1958d6a-0229-47e8-823e-792fcf84fccf",
   "metadata": {},
   "source": [
    "# Settings"
   ]
  },
  {
   "cell_type": "code",
   "execution_count": 2,
   "id": "22d12bb4-1699-4a6b-b1b9-d3fdd3d547d7",
   "metadata": {
    "tags": [
     "parameters"
    ]
   },
   "outputs": [],
   "source": [
    "# reference panel\n",
    "REFERENCE_PANEL <- \"GTEX_V8\"\n",
    "# REFERENCE_PANEL = \"1000G\"\n",
    "\n",
    "# prediction models\n",
    "## mashr\n",
    "EQTL_MODEL <- \"MASHR\"\n",
    "\n",
    "# ## elastic net\n",
    "# EQTL_MODEL = \"ELASTIC_NET\"\n",
    "\n",
    "chromosome <- NULL"
   ]
  },
  {
   "cell_type": "code",
   "execution_count": 3,
   "id": "8fe24bef",
   "metadata": {},
   "outputs": [
    {
     "data": {
      "text/html": [
       "'Using reference panel: GTEX_V8'"
      ],
      "text/latex": [
       "'Using reference panel: GTEX\\_V8'"
      ],
      "text/markdown": [
       "'Using reference panel: GTEX_V8'"
      ],
      "text/plain": [
       "[1] \"Using reference panel: GTEX_V8\""
      ]
     },
     "metadata": {},
     "output_type": "display_data"
    }
   ],
   "source": [
    "paste0(\"Using reference panel: \", REFERENCE_PANEL)"
   ]
  },
  {
   "cell_type": "code",
   "execution_count": 4,
   "id": "d62c28f8-186c-478b-948c-58e14f00df4b",
   "metadata": {},
   "outputs": [
    {
     "data": {
      "text/html": [
       "'Using eQTL model: MASHR'"
      ],
      "text/latex": [
       "'Using eQTL model: MASHR'"
      ],
      "text/markdown": [
       "'Using eQTL model: MASHR'"
      ],
      "text/plain": [
       "[1] \"Using eQTL model: MASHR\""
      ]
     },
     "metadata": {},
     "output_type": "display_data"
    }
   ],
   "source": [
    "paste0(\"Using eQTL model: \", EQTL_MODEL)"
   ]
  },
  {
   "cell_type": "code",
   "execution_count": 7,
   "id": "5243676f-c889-4405-9a4d-262f0f044614",
   "metadata": {},
   "outputs": [],
   "source": [
    "# chromosome must be provided as parameter\n",
    "stopifnot(is.character(chromosome))"
   ]
  },
  {
   "cell_type": "markdown",
   "id": "83a49773-bcf5-44c4-8d9b-a6ac65a57ec6",
   "metadata": {},
   "source": [
    "# Paths"
   ]
  },
  {
   "cell_type": "code",
   "execution_count": 8,
   "id": "eb6aa8aa-b452-4a2f-a780-93dd80ad4285",
   "metadata": {},
   "outputs": [
    {
     "data": {
      "text/html": [
       "'/opt/data/data/phenomexcan/ld_blocks/gene_corrs'"
      ],
      "text/latex": [
       "'/opt/data/data/phenomexcan/ld\\_blocks/gene\\_corrs'"
      ],
      "text/markdown": [
       "'/opt/data/data/phenomexcan/ld_blocks/gene_corrs'"
      ],
      "text/plain": [
       "[1] \"/opt/data/data/phenomexcan/ld_blocks/gene_corrs\""
      ]
     },
     "metadata": {},
     "output_type": "display_data"
    }
   ],
   "source": [
    "GENE_CORRS_DIR <- Sys.getenv(\"PHENOPLIER_PHENOMEXCAN_LD_BLOCKS_GENE_CORRS_DIR\")\n",
    "IRdisplay::display(GENE_CORRS_DIR)"
   ]
  },
  {
   "cell_type": "code",
   "execution_count": 9,
   "id": "eb24f15f-f282-4476-8943-8413c4483f12",
   "metadata": {},
   "outputs": [
    {
     "data": {
      "text/html": [
       "'/opt/data/data/phenomexcan/ld_blocks/gene_corrs/gtex_v8/mashr/by_chr'"
      ],
      "text/latex": [
       "'/opt/data/data/phenomexcan/ld\\_blocks/gene\\_corrs/gtex\\_v8/mashr/by\\_chr'"
      ],
      "text/markdown": [
       "'/opt/data/data/phenomexcan/ld_blocks/gene_corrs/gtex_v8/mashr/by_chr'"
      ],
      "text/plain": [
       "[1] \"/opt/data/data/phenomexcan/ld_blocks/gene_corrs/gtex_v8/mashr/by_chr\""
      ]
     },
     "metadata": {},
     "output_type": "display_data"
    }
   ],
   "source": [
    "INPUT_DIR <- file.path(GENE_CORRS_DIR, tolower(REFERENCE_PANEL), tolower(EQTL_MODEL), \"by_chr\")\n",
    "IRdisplay::display(INPUT_DIR)"
   ]
  },
  {
   "cell_type": "code",
   "execution_count": 11,
   "id": "43c1daba-0da9-4822-8d1e-968e9767e251",
   "metadata": {},
   "outputs": [
    {
     "data": {
      "text/html": [
       "'/opt/data/data/phenomexcan/ld_blocks/gene_corrs/gtex_v8/mashr/by_chr/gene_corrs-chr22.pkl'"
      ],
      "text/latex": [
       "'/opt/data/data/phenomexcan/ld\\_blocks/gene\\_corrs/gtex\\_v8/mashr/by\\_chr/gene\\_corrs-chr22.pkl'"
      ],
      "text/markdown": [
       "'/opt/data/data/phenomexcan/ld_blocks/gene_corrs/gtex_v8/mashr/by_chr/gene_corrs-chr22.pkl'"
      ],
      "text/plain": [
       "[1] \"/opt/data/data/phenomexcan/ld_blocks/gene_corrs/gtex_v8/mashr/by_chr/gene_corrs-chr22.pkl\""
      ]
     },
     "metadata": {},
     "output_type": "display_data"
    }
   ],
   "source": [
    "INPUT_FILE <- file.path(INPUT_DIR, paste0(\"gene_corrs-chr\", chromosome, \".pkl\"))\n",
    "IRdisplay::display(INPUT_FILE)\n",
    "stopifnot(file.exists(INPUT_FILE))"
   ]
  },
  {
   "cell_type": "code",
   "execution_count": 10,
   "id": "72386fbf-982b-420a-9057-ea9a97a5e571",
   "metadata": {},
   "outputs": [
    {
     "data": {
      "text/html": [
       "'/opt/data/data/phenomexcan/ld_blocks/gene_corrs/gtex_v8/mashr/by_chr/corrected_positive_definite'"
      ],
      "text/latex": [
       "'/opt/data/data/phenomexcan/ld\\_blocks/gene\\_corrs/gtex\\_v8/mashr/by\\_chr/corrected\\_positive\\_definite'"
      ],
      "text/markdown": [
       "'/opt/data/data/phenomexcan/ld_blocks/gene_corrs/gtex_v8/mashr/by_chr/corrected_positive_definite'"
      ],
      "text/plain": [
       "[1] \"/opt/data/data/phenomexcan/ld_blocks/gene_corrs/gtex_v8/mashr/by_chr/corrected_positive_definite\""
      ]
     },
     "metadata": {},
     "output_type": "display_data"
    }
   ],
   "source": [
    "OUTPUT_DIR <- file.path(INPUT_DIR, \"corrected_positive_definite\")\n",
    "IRdisplay::display(OUTPUT_DIR)\n",
    "dir.create(OUTPUT_DIR, recursive = TRUE, showWarnings = FALSE)"
   ]
  },
  {
   "cell_type": "code",
   "execution_count": 12,
   "id": "f9f19d1d-ce4c-4099-a26e-250fec751de7",
   "metadata": {},
   "outputs": [
    {
     "data": {
      "text/html": [
       "'/opt/data/data/phenomexcan/ld_blocks/gene_corrs/gtex_v8/mashr/by_chr/corrected_positive_definite/gene_corrs-chr22.pkl'"
      ],
      "text/latex": [
       "'/opt/data/data/phenomexcan/ld\\_blocks/gene\\_corrs/gtex\\_v8/mashr/by\\_chr/corrected\\_positive\\_definite/gene\\_corrs-chr22.pkl'"
      ],
      "text/markdown": [
       "'/opt/data/data/phenomexcan/ld_blocks/gene_corrs/gtex_v8/mashr/by_chr/corrected_positive_definite/gene_corrs-chr22.pkl'"
      ],
      "text/plain": [
       "[1] \"/opt/data/data/phenomexcan/ld_blocks/gene_corrs/gtex_v8/mashr/by_chr/corrected_positive_definite/gene_corrs-chr22.pkl\""
      ]
     },
     "metadata": {},
     "output_type": "display_data"
    }
   ],
   "source": [
    "OUTPUT_FILE <- file.path(OUTPUT_DIR, paste0(\"gene_corrs-chr\", chromosome, \".pkl\"))\n",
    "IRdisplay::display(OUTPUT_FILE)\n",
    "if (file.exists(OUTPUT_FILE)) {\n",
    "  IRdisplay::display(\"Output file exists, it will be overwritten\")\n",
    "}"
   ]
  },
  {
   "cell_type": "markdown",
   "id": "5aad60e6-cba4-41b5-9755-93eb86f4ed05",
   "metadata": {},
   "source": [
    "# Functions"
   ]
  },
  {
   "cell_type": "code",
   "execution_count": 13,
   "id": "f828f081-7358-4cc8-8a89-1ee293bcc1a7",
   "metadata": {},
   "outputs": [],
   "source": [
    "# taken from https://www.r-bloggers.com/2013/08/correcting-a-pseudo-correlation-matrix-to-be-positive-semidefinite/\n",
    "# TODO: add documentation\n",
    "CorrectCM <- function(CM, p = 0) {\n",
    "  n <- dim(var(CM))[1L]\n",
    "  E <- eigen(CM)\n",
    "  CM1 <- E$vectors %*% tcrossprod(diag(pmax(E$values, p), n), E$vectors)\n",
    "  Balance <- diag(1 / sqrt(diag(CM1)))\n",
    "  CM2 <- Balance %*% CM1 %*% Balance\n",
    "  return(CM2)\n",
    "}"
   ]
  },
  {
   "cell_type": "code",
   "execution_count": 34,
   "id": "7ab9bebf-50a1-4e6f-b16a-e23cae93d02a",
   "metadata": {},
   "outputs": [],
   "source": [
    "is_positive_definite <- function(data) {\n",
    "  eigenvalues <- eigen(data)$values\n",
    "  nonpositive_eigenvalues <- eigenvalues[eigenvalues <= 0]\n",
    "\n",
    "  if (length(nonpositive_eigenvalues) > 0) {\n",
    "    IRdisplay::display(\"We need to correct the data and make the matrix positive definite\")\n",
    "    return(FALSE)\n",
    "  } else {\n",
    "    IRdisplay::display(\"Matrix is already positive definite!\")\n",
    "    return(TRUE)\n",
    "  }\n",
    "}"
   ]
  },
  {
   "cell_type": "markdown",
   "id": "ac52ecbc-5618-4876-a4fa-546a08e3fcf3",
   "metadata": {},
   "source": [
    "# Load data"
   ]
  },
  {
   "cell_type": "code",
   "execution_count": 17,
   "id": "3a7744e1-2e5a-450e-9dcf-945ec181347d",
   "metadata": {},
   "outputs": [],
   "source": [
    "gene_corrs <- pd$read_pickle(INPUT_FILE)"
   ]
  },
  {
   "cell_type": "code",
   "execution_count": 18,
   "id": "6fb150b2-4c68-4e9b-9aa5-1890d3f762e3",
   "metadata": {},
   "outputs": [
    {
     "data": {
      "text/html": [
       "<style>\n",
       ".list-inline {list-style: none; margin:0; padding: 0}\n",
       ".list-inline>li {display: inline-block}\n",
       ".list-inline>li:not(:last-child)::after {content: \"\\00b7\"; padding: 0 .5ex}\n",
       "</style>\n",
       "<ol class=list-inline><li>170</li><li>170</li></ol>\n"
      ],
      "text/latex": [
       "\\begin{enumerate*}\n",
       "\\item 170\n",
       "\\item 170\n",
       "\\end{enumerate*}\n"
      ],
      "text/markdown": [
       "1. 170\n",
       "2. 170\n",
       "\n",
       "\n"
      ],
      "text/plain": [
       "[1] 170 170"
      ]
     },
     "metadata": {},
     "output_type": "display_data"
    }
   ],
   "source": [
    "dim(gene_corrs)"
   ]
  },
  {
   "cell_type": "code",
   "execution_count": 19,
   "id": "0d4e53b5-7586-4a68-8ce5-d930d74ba943",
   "metadata": {},
   "outputs": [
    {
     "data": {
      "text/html": [
       "<table class=\"dataframe\">\n",
       "<caption>A data.frame: 6 × 10</caption>\n",
       "<thead>\n",
       "\t<tr><th></th><th scope=col>ENSG00000177663</th><th scope=col>ENSG00000131100</th><th scope=col>ENSG00000099968</th><th scope=col>ENSG00000015475</th><th scope=col>ENSG00000243156</th><th scope=col>ENSG00000215193</th><th scope=col>ENSG00000183785</th><th scope=col>ENSG00000184979</th><th scope=col>ENSG00000100033</th><th scope=col>ENSG00000100075</th></tr>\n",
       "\t<tr><th></th><th scope=col>&lt;dbl&gt;</th><th scope=col>&lt;dbl&gt;</th><th scope=col>&lt;dbl&gt;</th><th scope=col>&lt;dbl&gt;</th><th scope=col>&lt;dbl&gt;</th><th scope=col>&lt;dbl&gt;</th><th scope=col>&lt;dbl&gt;</th><th scope=col>&lt;dbl&gt;</th><th scope=col>&lt;dbl&gt;</th><th scope=col>&lt;dbl&gt;</th></tr>\n",
       "</thead>\n",
       "<tbody>\n",
       "\t<tr><th scope=row>ENSG00000177663</th><td> 1.000000000</td><td>-0.07717207</td><td> 0.07890063</td><td>-0.03464399</td><td>-0.008794338</td><td> 0.03595470</td><td> 0.001726432</td><td> 0.095401984</td><td> 0.03910270</td><td> 0.32156489</td></tr>\n",
       "\t<tr><th scope=row>ENSG00000131100</th><td>-0.077172067</td><td> 1.00000000</td><td>-0.25827894</td><td> 0.15425866</td><td>-0.102483855</td><td>-0.03833009</td><td>-0.069450615</td><td>-0.077466787</td><td>-0.25148724</td><td>-0.36351196</td></tr>\n",
       "\t<tr><th scope=row>ENSG00000099968</th><td> 0.078900627</td><td>-0.25827894</td><td> 1.00000000</td><td>-0.15236055</td><td> 0.151567921</td><td> 0.06397927</td><td>-0.028284257</td><td> 0.094149609</td><td> 0.02634172</td><td> 0.23893616</td></tr>\n",
       "\t<tr><th scope=row>ENSG00000015475</th><td>-0.034643993</td><td> 0.15425866</td><td>-0.15236055</td><td> 1.00000000</td><td>-0.075705611</td><td>-0.02813188</td><td>-0.160490888</td><td> 0.014910651</td><td>-0.14498552</td><td>-0.06459698</td></tr>\n",
       "\t<tr><th scope=row>ENSG00000243156</th><td>-0.008794338</td><td>-0.10248385</td><td> 0.15156792</td><td>-0.07570561</td><td> 1.000000000</td><td>-0.05797458</td><td>-0.077885080</td><td> 0.010540094</td><td> 0.03839897</td><td> 0.01825553</td></tr>\n",
       "\t<tr><th scope=row>ENSG00000215193</th><td> 0.035954696</td><td>-0.03833009</td><td> 0.06397927</td><td>-0.02813188</td><td>-0.057974580</td><td> 1.00000000</td><td> 0.007340717</td><td>-0.002354151</td><td> 0.07588282</td><td> 0.17708923</td></tr>\n",
       "</tbody>\n",
       "</table>\n"
      ],
      "text/latex": [
       "A data.frame: 6 × 10\n",
       "\\begin{tabular}{r|llllllllll}\n",
       "  & ENSG00000177663 & ENSG00000131100 & ENSG00000099968 & ENSG00000015475 & ENSG00000243156 & ENSG00000215193 & ENSG00000183785 & ENSG00000184979 & ENSG00000100033 & ENSG00000100075\\\\\n",
       "  & <dbl> & <dbl> & <dbl> & <dbl> & <dbl> & <dbl> & <dbl> & <dbl> & <dbl> & <dbl>\\\\\n",
       "\\hline\n",
       "\tENSG00000177663 &  1.000000000 & -0.07717207 &  0.07890063 & -0.03464399 & -0.008794338 &  0.03595470 &  0.001726432 &  0.095401984 &  0.03910270 &  0.32156489\\\\\n",
       "\tENSG00000131100 & -0.077172067 &  1.00000000 & -0.25827894 &  0.15425866 & -0.102483855 & -0.03833009 & -0.069450615 & -0.077466787 & -0.25148724 & -0.36351196\\\\\n",
       "\tENSG00000099968 &  0.078900627 & -0.25827894 &  1.00000000 & -0.15236055 &  0.151567921 &  0.06397927 & -0.028284257 &  0.094149609 &  0.02634172 &  0.23893616\\\\\n",
       "\tENSG00000015475 & -0.034643993 &  0.15425866 & -0.15236055 &  1.00000000 & -0.075705611 & -0.02813188 & -0.160490888 &  0.014910651 & -0.14498552 & -0.06459698\\\\\n",
       "\tENSG00000243156 & -0.008794338 & -0.10248385 &  0.15156792 & -0.07570561 &  1.000000000 & -0.05797458 & -0.077885080 &  0.010540094 &  0.03839897 &  0.01825553\\\\\n",
       "\tENSG00000215193 &  0.035954696 & -0.03833009 &  0.06397927 & -0.02813188 & -0.057974580 &  1.00000000 &  0.007340717 & -0.002354151 &  0.07588282 &  0.17708923\\\\\n",
       "\\end{tabular}\n"
      ],
      "text/markdown": [
       "\n",
       "A data.frame: 6 × 10\n",
       "\n",
       "| <!--/--> | ENSG00000177663 &lt;dbl&gt; | ENSG00000131100 &lt;dbl&gt; | ENSG00000099968 &lt;dbl&gt; | ENSG00000015475 &lt;dbl&gt; | ENSG00000243156 &lt;dbl&gt; | ENSG00000215193 &lt;dbl&gt; | ENSG00000183785 &lt;dbl&gt; | ENSG00000184979 &lt;dbl&gt; | ENSG00000100033 &lt;dbl&gt; | ENSG00000100075 &lt;dbl&gt; |\n",
       "|---|---|---|---|---|---|---|---|---|---|---|\n",
       "| ENSG00000177663 |  1.000000000 | -0.07717207 |  0.07890063 | -0.03464399 | -0.008794338 |  0.03595470 |  0.001726432 |  0.095401984 |  0.03910270 |  0.32156489 |\n",
       "| ENSG00000131100 | -0.077172067 |  1.00000000 | -0.25827894 |  0.15425866 | -0.102483855 | -0.03833009 | -0.069450615 | -0.077466787 | -0.25148724 | -0.36351196 |\n",
       "| ENSG00000099968 |  0.078900627 | -0.25827894 |  1.00000000 | -0.15236055 |  0.151567921 |  0.06397927 | -0.028284257 |  0.094149609 |  0.02634172 |  0.23893616 |\n",
       "| ENSG00000015475 | -0.034643993 |  0.15425866 | -0.15236055 |  1.00000000 | -0.075705611 | -0.02813188 | -0.160490888 |  0.014910651 | -0.14498552 | -0.06459698 |\n",
       "| ENSG00000243156 | -0.008794338 | -0.10248385 |  0.15156792 | -0.07570561 |  1.000000000 | -0.05797458 | -0.077885080 |  0.010540094 |  0.03839897 |  0.01825553 |\n",
       "| ENSG00000215193 |  0.035954696 | -0.03833009 |  0.06397927 | -0.02813188 | -0.057974580 |  1.00000000 |  0.007340717 | -0.002354151 |  0.07588282 |  0.17708923 |\n",
       "\n"
      ],
      "text/plain": [
       "                ENSG00000177663 ENSG00000131100 ENSG00000099968 ENSG00000015475\n",
       "ENSG00000177663  1.000000000    -0.07717207      0.07890063     -0.03464399    \n",
       "ENSG00000131100 -0.077172067     1.00000000     -0.25827894      0.15425866    \n",
       "ENSG00000099968  0.078900627    -0.25827894      1.00000000     -0.15236055    \n",
       "ENSG00000015475 -0.034643993     0.15425866     -0.15236055      1.00000000    \n",
       "ENSG00000243156 -0.008794338    -0.10248385      0.15156792     -0.07570561    \n",
       "ENSG00000215193  0.035954696    -0.03833009      0.06397927     -0.02813188    \n",
       "                ENSG00000243156 ENSG00000215193 ENSG00000183785 ENSG00000184979\n",
       "ENSG00000177663 -0.008794338     0.03595470      0.001726432     0.095401984   \n",
       "ENSG00000131100 -0.102483855    -0.03833009     -0.069450615    -0.077466787   \n",
       "ENSG00000099968  0.151567921     0.06397927     -0.028284257     0.094149609   \n",
       "ENSG00000015475 -0.075705611    -0.02813188     -0.160490888     0.014910651   \n",
       "ENSG00000243156  1.000000000    -0.05797458     -0.077885080     0.010540094   \n",
       "ENSG00000215193 -0.057974580     1.00000000      0.007340717    -0.002354151   \n",
       "                ENSG00000100033 ENSG00000100075\n",
       "ENSG00000177663  0.03910270      0.32156489    \n",
       "ENSG00000131100 -0.25148724     -0.36351196    \n",
       "ENSG00000099968  0.02634172      0.23893616    \n",
       "ENSG00000015475 -0.14498552     -0.06459698    \n",
       "ENSG00000243156  0.03839897      0.01825553    \n",
       "ENSG00000215193  0.07588282      0.17708923    "
      ]
     },
     "metadata": {},
     "output_type": "display_data"
    }
   ],
   "source": [
    "head(gene_corrs[1:10, 1:10])"
   ]
  },
  {
   "cell_type": "markdown",
   "id": "c5c9ffba-1678-4ce7-8988-4ee03e23bdf2",
   "metadata": {},
   "source": [
    "# Check positive definiteness"
   ]
  },
  {
   "cell_type": "code",
   "execution_count": 38,
   "id": "178854f5-487a-42e8-82b4-625c1979734a",
   "metadata": {},
   "outputs": [
    {
     "data": {
      "text/html": [
       "'We need to correct the data and make the matrix positive definite'"
      ],
      "text/latex": [
       "'We need to correct the data and make the matrix positive definite'"
      ],
      "text/markdown": [
       "'We need to correct the data and make the matrix positive definite'"
      ],
      "text/plain": [
       "[1] \"We need to correct the data and make the matrix positive definite\""
      ]
     },
     "metadata": {},
     "output_type": "display_data"
    },
    {
     "data": {
      "text/html": [
       "FALSE"
      ],
      "text/latex": [
       "FALSE"
      ],
      "text/markdown": [
       "FALSE"
      ],
      "text/plain": [
       "[1] FALSE"
      ]
     },
     "metadata": {},
     "output_type": "display_data"
    }
   ],
   "source": [
    "is_positive_definite(gene_corrs)"
   ]
  },
  {
   "cell_type": "code",
   "execution_count": 39,
   "id": "58542ade-c80f-42e6-acbf-6464dab70fdb",
   "metadata": {},
   "outputs": [],
   "source": [
    "# see eigenvalues\n",
    "eigenvalues <- eigen(gene_corrs)$values"
   ]
  },
  {
   "cell_type": "code",
   "execution_count": 40,
   "id": "9486e0db-e924-43ab-bb6c-0d997fd38f3d",
   "metadata": {},
   "outputs": [
    {
     "data": {
      "text/html": [
       "17"
      ],
      "text/latex": [
       "17"
      ],
      "text/markdown": [
       "17"
      ],
      "text/plain": [
       "[1] 17"
      ]
     },
     "metadata": {},
     "output_type": "display_data"
    },
    {
     "data": {
      "text/html": [
       "<style>\n",
       ".list-inline {list-style: none; margin:0; padding: 0}\n",
       ".list-inline>li {display: inline-block}\n",
       ".list-inline>li:not(:last-child)::after {content: \"\\00b7\"; padding: 0 .5ex}\n",
       "</style>\n",
       "<ol class=list-inline><li>-0.0252724230958119</li><li>-0.0680684066492869</li><li>-0.0894187042640739</li><li>-0.113722566975918</li><li>-0.125074881973884</li><li>-0.188238972891867</li><li>-0.211723928945201</li><li>-0.228917498041722</li><li>-0.256007439697441</li><li>-0.291447903661507</li><li>-0.347294486193118</li><li>-0.391156108822473</li><li>-0.52388627522858</li><li>-0.695990695427572</li><li>-0.952424345294192</li><li>-1.41858513958031</li><li>-2.44439321558727</li></ol>\n"
      ],
      "text/latex": [
       "\\begin{enumerate*}\n",
       "\\item -0.0252724230958119\n",
       "\\item -0.0680684066492869\n",
       "\\item -0.0894187042640739\n",
       "\\item -0.113722566975918\n",
       "\\item -0.125074881973884\n",
       "\\item -0.188238972891867\n",
       "\\item -0.211723928945201\n",
       "\\item -0.228917498041722\n",
       "\\item -0.256007439697441\n",
       "\\item -0.291447903661507\n",
       "\\item -0.347294486193118\n",
       "\\item -0.391156108822473\n",
       "\\item -0.52388627522858\n",
       "\\item -0.695990695427572\n",
       "\\item -0.952424345294192\n",
       "\\item -1.41858513958031\n",
       "\\item -2.44439321558727\n",
       "\\end{enumerate*}\n"
      ],
      "text/markdown": [
       "1. -0.0252724230958119\n",
       "2. -0.0680684066492869\n",
       "3. -0.0894187042640739\n",
       "4. -0.113722566975918\n",
       "5. -0.125074881973884\n",
       "6. -0.188238972891867\n",
       "7. -0.211723928945201\n",
       "8. -0.228917498041722\n",
       "9. -0.256007439697441\n",
       "10. -0.291447903661507\n",
       "11. -0.347294486193118\n",
       "12. -0.391156108822473\n",
       "13. -0.52388627522858\n",
       "14. -0.695990695427572\n",
       "15. -0.952424345294192\n",
       "16. -1.41858513958031\n",
       "17. -2.44439321558727\n",
       "\n",
       "\n"
      ],
      "text/plain": [
       " [1] -0.02527242 -0.06806841 -0.08941870 -0.11372257 -0.12507488 -0.18823897\n",
       " [7] -0.21172393 -0.22891750 -0.25600744 -0.29144790 -0.34729449 -0.39115611\n",
       "[13] -0.52388628 -0.69599070 -0.95242435 -1.41858514 -2.44439322"
      ]
     },
     "metadata": {},
     "output_type": "display_data"
    }
   ],
   "source": [
    "nonpositive_eigenvalues <- eigenvalues[eigenvalues <= 0]\n",
    "IRdisplay::display(length(nonpositive_eigenvalues))\n",
    "IRdisplay::display(nonpositive_eigenvalues)"
   ]
  },
  {
   "cell_type": "markdown",
   "id": "2d280a82-f231-402d-82ab-9291d395afc1",
   "metadata": {},
   "source": [
    "# Make matrix positive definite if needed"
   ]
  },
  {
   "cell_type": "code",
   "execution_count": 41,
   "id": "b9037873-4067-4ac6-aa92-e9225a6c9353",
   "metadata": {},
   "outputs": [],
   "source": [
    "gene_corrs_corrected <- CorrectCM(gene_corrs, 1e-14)"
   ]
  },
  {
   "cell_type": "code",
   "execution_count": 42,
   "id": "03c86284-5aac-4f66-86cc-74eb97102a7e",
   "metadata": {},
   "outputs": [],
   "source": [
    "dimnames(gene_corrs_corrected)[[1]] <- rownames(gene_corrs)"
   ]
  },
  {
   "cell_type": "code",
   "execution_count": 43,
   "id": "576e7069-25ff-473d-8158-35b5f2ff212e",
   "metadata": {},
   "outputs": [],
   "source": [
    "dimnames(gene_corrs_corrected)[[2]] <- colnames(gene_corrs)"
   ]
  },
  {
   "cell_type": "code",
   "execution_count": 44,
   "id": "f77d043a-321d-447f-8da5-2503981d3e73",
   "metadata": {},
   "outputs": [],
   "source": [
    "gene_corrs_corrected <- as.data.frame(gene_corrs_corrected)"
   ]
  },
  {
   "cell_type": "code",
   "execution_count": 45,
   "id": "3e844024-f9a2-42a2-bbd0-695cfdbb78f5",
   "metadata": {},
   "outputs": [
    {
     "data": {
      "text/html": [
       "<style>\n",
       ".list-inline {list-style: none; margin:0; padding: 0}\n",
       ".list-inline>li {display: inline-block}\n",
       ".list-inline>li:not(:last-child)::after {content: \"\\00b7\"; padding: 0 .5ex}\n",
       "</style>\n",
       "<ol class=list-inline><li>170</li><li>170</li></ol>\n"
      ],
      "text/latex": [
       "\\begin{enumerate*}\n",
       "\\item 170\n",
       "\\item 170\n",
       "\\end{enumerate*}\n"
      ],
      "text/markdown": [
       "1. 170\n",
       "2. 170\n",
       "\n",
       "\n"
      ],
      "text/plain": [
       "[1] 170 170"
      ]
     },
     "metadata": {},
     "output_type": "display_data"
    }
   ],
   "source": [
    "dim(gene_corrs_corrected)"
   ]
  },
  {
   "cell_type": "markdown",
   "id": "244b6bde-4ca8-46d1-acc7-b4c35b5d3c62",
   "metadata": {},
   "source": [
    "# Check positive definiteness of corrected matrix"
   ]
  },
  {
   "cell_type": "code",
   "execution_count": 46,
   "id": "0fd5b688-e137-4619-910c-35130d32d600",
   "metadata": {},
   "outputs": [
    {
     "data": {
      "text/html": [
       "'Matrix is already positive definite!'"
      ],
      "text/latex": [
       "'Matrix is already positive definite!'"
      ],
      "text/markdown": [
       "'Matrix is already positive definite!'"
      ],
      "text/plain": [
       "[1] \"Matrix is already positive definite!\""
      ]
     },
     "metadata": {},
     "output_type": "display_data"
    },
    {
     "data": {
      "text/html": [
       "TRUE"
      ],
      "text/latex": [
       "TRUE"
      ],
      "text/markdown": [
       "TRUE"
      ],
      "text/plain": [
       "[1] TRUE"
      ]
     },
     "metadata": {},
     "output_type": "display_data"
    }
   ],
   "source": [
    "is_positive_definite(gene_corrs_corrected)"
   ]
  },
  {
   "cell_type": "code",
   "execution_count": 47,
   "id": "06d23ab8-bebb-474c-be33-dca7e53c1717",
   "metadata": {},
   "outputs": [],
   "source": [
    "# see eigenvalues\n",
    "eigenvalues <- eigen(gene_corrs_corrected)$values"
   ]
  },
  {
   "cell_type": "code",
   "execution_count": 48,
   "id": "ddf8afb8-e0e2-4b4e-876d-12bd6856c1ad",
   "metadata": {},
   "outputs": [
    {
     "data": {
      "text/html": [
       "0"
      ],
      "text/latex": [
       "0"
      ],
      "text/markdown": [
       "0"
      ],
      "text/plain": [
       "[1] 0"
      ]
     },
     "metadata": {},
     "output_type": "display_data"
    },
    {
     "data": {
      "text/html": [],
      "text/latex": [],
      "text/markdown": [],
      "text/plain": [
       "numeric(0)"
      ]
     },
     "metadata": {},
     "output_type": "display_data"
    }
   ],
   "source": [
    "nonpositive_eigenvalues <- eigenvalues[eigenvalues <= 0]\n",
    "IRdisplay::display(length(nonpositive_eigenvalues))\n",
    "IRdisplay::display(nonpositive_eigenvalues)"
   ]
  },
  {
   "cell_type": "code",
   "execution_count": 49,
   "id": "786d6336-3844-40f7-979b-6d6028787f7f",
   "metadata": {},
   "outputs": [
    {
     "data": {
      "text/html": [
       "<table class=\"dataframe\">\n",
       "<caption>A data.frame: 6 × 10</caption>\n",
       "<thead>\n",
       "\t<tr><th></th><th scope=col>ENSG00000177663</th><th scope=col>ENSG00000131100</th><th scope=col>ENSG00000099968</th><th scope=col>ENSG00000015475</th><th scope=col>ENSG00000243156</th><th scope=col>ENSG00000215193</th><th scope=col>ENSG00000183785</th><th scope=col>ENSG00000184979</th><th scope=col>ENSG00000100033</th><th scope=col>ENSG00000100075</th></tr>\n",
       "\t<tr><th></th><th scope=col>&lt;dbl&gt;</th><th scope=col>&lt;dbl&gt;</th><th scope=col>&lt;dbl&gt;</th><th scope=col>&lt;dbl&gt;</th><th scope=col>&lt;dbl&gt;</th><th scope=col>&lt;dbl&gt;</th><th scope=col>&lt;dbl&gt;</th><th scope=col>&lt;dbl&gt;</th><th scope=col>&lt;dbl&gt;</th><th scope=col>&lt;dbl&gt;</th></tr>\n",
       "</thead>\n",
       "<tbody>\n",
       "\t<tr><th scope=row>ENSG00000177663</th><td> 1.000000000</td><td>-0.07717207</td><td> 0.07890063</td><td>-0.03464399</td><td>-0.008794338</td><td> 0.03595470</td><td> 0.001726432</td><td> 0.095401984</td><td> 0.03910270</td><td> 0.32156489</td></tr>\n",
       "\t<tr><th scope=row>ENSG00000131100</th><td>-0.077172067</td><td> 1.00000000</td><td>-0.25827894</td><td> 0.15425866</td><td>-0.102483855</td><td>-0.03833009</td><td>-0.069450615</td><td>-0.077466787</td><td>-0.25148724</td><td>-0.36351196</td></tr>\n",
       "\t<tr><th scope=row>ENSG00000099968</th><td> 0.078900627</td><td>-0.25827894</td><td> 1.00000000</td><td>-0.15236055</td><td> 0.151567921</td><td> 0.06397927</td><td>-0.028284257</td><td> 0.094149609</td><td> 0.02634172</td><td> 0.23893616</td></tr>\n",
       "\t<tr><th scope=row>ENSG00000015475</th><td>-0.034643993</td><td> 0.15425866</td><td>-0.15236055</td><td> 1.00000000</td><td>-0.075705611</td><td>-0.02813188</td><td>-0.160490888</td><td> 0.014910651</td><td>-0.14498552</td><td>-0.06459698</td></tr>\n",
       "\t<tr><th scope=row>ENSG00000243156</th><td>-0.008794338</td><td>-0.10248385</td><td> 0.15156792</td><td>-0.07570561</td><td> 1.000000000</td><td>-0.05797458</td><td>-0.077885080</td><td> 0.010540094</td><td> 0.03839897</td><td> 0.01825553</td></tr>\n",
       "\t<tr><th scope=row>ENSG00000215193</th><td> 0.035954696</td><td>-0.03833009</td><td> 0.06397927</td><td>-0.02813188</td><td>-0.057974580</td><td> 1.00000000</td><td> 0.007340717</td><td>-0.002354151</td><td> 0.07588282</td><td> 0.17708923</td></tr>\n",
       "</tbody>\n",
       "</table>\n"
      ],
      "text/latex": [
       "A data.frame: 6 × 10\n",
       "\\begin{tabular}{r|llllllllll}\n",
       "  & ENSG00000177663 & ENSG00000131100 & ENSG00000099968 & ENSG00000015475 & ENSG00000243156 & ENSG00000215193 & ENSG00000183785 & ENSG00000184979 & ENSG00000100033 & ENSG00000100075\\\\\n",
       "  & <dbl> & <dbl> & <dbl> & <dbl> & <dbl> & <dbl> & <dbl> & <dbl> & <dbl> & <dbl>\\\\\n",
       "\\hline\n",
       "\tENSG00000177663 &  1.000000000 & -0.07717207 &  0.07890063 & -0.03464399 & -0.008794338 &  0.03595470 &  0.001726432 &  0.095401984 &  0.03910270 &  0.32156489\\\\\n",
       "\tENSG00000131100 & -0.077172067 &  1.00000000 & -0.25827894 &  0.15425866 & -0.102483855 & -0.03833009 & -0.069450615 & -0.077466787 & -0.25148724 & -0.36351196\\\\\n",
       "\tENSG00000099968 &  0.078900627 & -0.25827894 &  1.00000000 & -0.15236055 &  0.151567921 &  0.06397927 & -0.028284257 &  0.094149609 &  0.02634172 &  0.23893616\\\\\n",
       "\tENSG00000015475 & -0.034643993 &  0.15425866 & -0.15236055 &  1.00000000 & -0.075705611 & -0.02813188 & -0.160490888 &  0.014910651 & -0.14498552 & -0.06459698\\\\\n",
       "\tENSG00000243156 & -0.008794338 & -0.10248385 &  0.15156792 & -0.07570561 &  1.000000000 & -0.05797458 & -0.077885080 &  0.010540094 &  0.03839897 &  0.01825553\\\\\n",
       "\tENSG00000215193 &  0.035954696 & -0.03833009 &  0.06397927 & -0.02813188 & -0.057974580 &  1.00000000 &  0.007340717 & -0.002354151 &  0.07588282 &  0.17708923\\\\\n",
       "\\end{tabular}\n"
      ],
      "text/markdown": [
       "\n",
       "A data.frame: 6 × 10\n",
       "\n",
       "| <!--/--> | ENSG00000177663 &lt;dbl&gt; | ENSG00000131100 &lt;dbl&gt; | ENSG00000099968 &lt;dbl&gt; | ENSG00000015475 &lt;dbl&gt; | ENSG00000243156 &lt;dbl&gt; | ENSG00000215193 &lt;dbl&gt; | ENSG00000183785 &lt;dbl&gt; | ENSG00000184979 &lt;dbl&gt; | ENSG00000100033 &lt;dbl&gt; | ENSG00000100075 &lt;dbl&gt; |\n",
       "|---|---|---|---|---|---|---|---|---|---|---|\n",
       "| ENSG00000177663 |  1.000000000 | -0.07717207 |  0.07890063 | -0.03464399 | -0.008794338 |  0.03595470 |  0.001726432 |  0.095401984 |  0.03910270 |  0.32156489 |\n",
       "| ENSG00000131100 | -0.077172067 |  1.00000000 | -0.25827894 |  0.15425866 | -0.102483855 | -0.03833009 | -0.069450615 | -0.077466787 | -0.25148724 | -0.36351196 |\n",
       "| ENSG00000099968 |  0.078900627 | -0.25827894 |  1.00000000 | -0.15236055 |  0.151567921 |  0.06397927 | -0.028284257 |  0.094149609 |  0.02634172 |  0.23893616 |\n",
       "| ENSG00000015475 | -0.034643993 |  0.15425866 | -0.15236055 |  1.00000000 | -0.075705611 | -0.02813188 | -0.160490888 |  0.014910651 | -0.14498552 | -0.06459698 |\n",
       "| ENSG00000243156 | -0.008794338 | -0.10248385 |  0.15156792 | -0.07570561 |  1.000000000 | -0.05797458 | -0.077885080 |  0.010540094 |  0.03839897 |  0.01825553 |\n",
       "| ENSG00000215193 |  0.035954696 | -0.03833009 |  0.06397927 | -0.02813188 | -0.057974580 |  1.00000000 |  0.007340717 | -0.002354151 |  0.07588282 |  0.17708923 |\n",
       "\n"
      ],
      "text/plain": [
       "                ENSG00000177663 ENSG00000131100 ENSG00000099968 ENSG00000015475\n",
       "ENSG00000177663  1.000000000    -0.07717207      0.07890063     -0.03464399    \n",
       "ENSG00000131100 -0.077172067     1.00000000     -0.25827894      0.15425866    \n",
       "ENSG00000099968  0.078900627    -0.25827894      1.00000000     -0.15236055    \n",
       "ENSG00000015475 -0.034643993     0.15425866     -0.15236055      1.00000000    \n",
       "ENSG00000243156 -0.008794338    -0.10248385      0.15156792     -0.07570561    \n",
       "ENSG00000215193  0.035954696    -0.03833009      0.06397927     -0.02813188    \n",
       "                ENSG00000243156 ENSG00000215193 ENSG00000183785 ENSG00000184979\n",
       "ENSG00000177663 -0.008794338     0.03595470      0.001726432     0.095401984   \n",
       "ENSG00000131100 -0.102483855    -0.03833009     -0.069450615    -0.077466787   \n",
       "ENSG00000099968  0.151567921     0.06397927     -0.028284257     0.094149609   \n",
       "ENSG00000015475 -0.075705611    -0.02813188     -0.160490888     0.014910651   \n",
       "ENSG00000243156  1.000000000    -0.05797458     -0.077885080     0.010540094   \n",
       "ENSG00000215193 -0.057974580     1.00000000      0.007340717    -0.002354151   \n",
       "                ENSG00000100033 ENSG00000100075\n",
       "ENSG00000177663  0.03910270      0.32156489    \n",
       "ENSG00000131100 -0.25148724     -0.36351196    \n",
       "ENSG00000099968  0.02634172      0.23893616    \n",
       "ENSG00000015475 -0.14498552     -0.06459698    \n",
       "ENSG00000243156  0.03839897      0.01825553    \n",
       "ENSG00000215193  0.07588282      0.17708923    "
      ]
     },
     "metadata": {},
     "output_type": "display_data"
    },
    {
     "data": {
      "text/html": [
       "<table class=\"dataframe\">\n",
       "<caption>A data.frame: 6 × 10</caption>\n",
       "<thead>\n",
       "\t<tr><th></th><th scope=col>ENSG00000177663</th><th scope=col>ENSG00000131100</th><th scope=col>ENSG00000099968</th><th scope=col>ENSG00000015475</th><th scope=col>ENSG00000243156</th><th scope=col>ENSG00000215193</th><th scope=col>ENSG00000183785</th><th scope=col>ENSG00000184979</th><th scope=col>ENSG00000100033</th><th scope=col>ENSG00000100075</th></tr>\n",
       "\t<tr><th></th><th scope=col>&lt;dbl&gt;</th><th scope=col>&lt;dbl&gt;</th><th scope=col>&lt;dbl&gt;</th><th scope=col>&lt;dbl&gt;</th><th scope=col>&lt;dbl&gt;</th><th scope=col>&lt;dbl&gt;</th><th scope=col>&lt;dbl&gt;</th><th scope=col>&lt;dbl&gt;</th><th scope=col>&lt;dbl&gt;</th><th scope=col>&lt;dbl&gt;</th></tr>\n",
       "</thead>\n",
       "<tbody>\n",
       "\t<tr><th scope=row>ENSG00000177663</th><td> 1.000000000</td><td>-0.07960362</td><td> 0.08104729</td><td>-0.03069212</td><td>-0.006166357</td><td> 0.04145404</td><td> 0.004236295</td><td> 0.092786278</td><td> 0.03758189</td><td> 0.29453645</td></tr>\n",
       "\t<tr><th scope=row>ENSG00000131100</th><td>-0.079603618</td><td> 1.00000000</td><td>-0.25909894</td><td> 0.15218979</td><td>-0.102135541</td><td>-0.03941496</td><td>-0.070705927</td><td>-0.075919537</td><td>-0.24743910</td><td>-0.34484725</td></tr>\n",
       "\t<tr><th scope=row>ENSG00000099968</th><td> 0.081047295</td><td>-0.25909894</td><td> 1.00000000</td><td>-0.15089347</td><td> 0.151891940</td><td> 0.06525966</td><td>-0.027356017</td><td> 0.093445488</td><td> 0.02537699</td><td> 0.22707270</td></tr>\n",
       "\t<tr><th scope=row>ENSG00000015475</th><td>-0.030692124</td><td> 0.15218979</td><td>-0.15089347</td><td> 1.00000000</td><td>-0.074442656</td><td>-0.02540813</td><td>-0.159054420</td><td> 0.013779881</td><td>-0.14546432</td><td>-0.07206088</td></tr>\n",
       "\t<tr><th scope=row>ENSG00000243156</th><td>-0.006166357</td><td>-0.10213554</td><td> 0.15189194</td><td>-0.07444266</td><td> 1.000000000</td><td>-0.05544506</td><td>-0.077240338</td><td> 0.009803215</td><td> 0.03899841</td><td> 0.01283286</td></tr>\n",
       "\t<tr><th scope=row>ENSG00000215193</th><td> 0.041454039</td><td>-0.03941496</td><td> 0.06525966</td><td>-0.02540813</td><td>-0.055445058</td><td> 1.00000000</td><td> 0.008892585</td><td>-0.004056183</td><td> 0.07554576</td><td> 0.16017802</td></tr>\n",
       "</tbody>\n",
       "</table>\n"
      ],
      "text/latex": [
       "A data.frame: 6 × 10\n",
       "\\begin{tabular}{r|llllllllll}\n",
       "  & ENSG00000177663 & ENSG00000131100 & ENSG00000099968 & ENSG00000015475 & ENSG00000243156 & ENSG00000215193 & ENSG00000183785 & ENSG00000184979 & ENSG00000100033 & ENSG00000100075\\\\\n",
       "  & <dbl> & <dbl> & <dbl> & <dbl> & <dbl> & <dbl> & <dbl> & <dbl> & <dbl> & <dbl>\\\\\n",
       "\\hline\n",
       "\tENSG00000177663 &  1.000000000 & -0.07960362 &  0.08104729 & -0.03069212 & -0.006166357 &  0.04145404 &  0.004236295 &  0.092786278 &  0.03758189 &  0.29453645\\\\\n",
       "\tENSG00000131100 & -0.079603618 &  1.00000000 & -0.25909894 &  0.15218979 & -0.102135541 & -0.03941496 & -0.070705927 & -0.075919537 & -0.24743910 & -0.34484725\\\\\n",
       "\tENSG00000099968 &  0.081047295 & -0.25909894 &  1.00000000 & -0.15089347 &  0.151891940 &  0.06525966 & -0.027356017 &  0.093445488 &  0.02537699 &  0.22707270\\\\\n",
       "\tENSG00000015475 & -0.030692124 &  0.15218979 & -0.15089347 &  1.00000000 & -0.074442656 & -0.02540813 & -0.159054420 &  0.013779881 & -0.14546432 & -0.07206088\\\\\n",
       "\tENSG00000243156 & -0.006166357 & -0.10213554 &  0.15189194 & -0.07444266 &  1.000000000 & -0.05544506 & -0.077240338 &  0.009803215 &  0.03899841 &  0.01283286\\\\\n",
       "\tENSG00000215193 &  0.041454039 & -0.03941496 &  0.06525966 & -0.02540813 & -0.055445058 &  1.00000000 &  0.008892585 & -0.004056183 &  0.07554576 &  0.16017802\\\\\n",
       "\\end{tabular}\n"
      ],
      "text/markdown": [
       "\n",
       "A data.frame: 6 × 10\n",
       "\n",
       "| <!--/--> | ENSG00000177663 &lt;dbl&gt; | ENSG00000131100 &lt;dbl&gt; | ENSG00000099968 &lt;dbl&gt; | ENSG00000015475 &lt;dbl&gt; | ENSG00000243156 &lt;dbl&gt; | ENSG00000215193 &lt;dbl&gt; | ENSG00000183785 &lt;dbl&gt; | ENSG00000184979 &lt;dbl&gt; | ENSG00000100033 &lt;dbl&gt; | ENSG00000100075 &lt;dbl&gt; |\n",
       "|---|---|---|---|---|---|---|---|---|---|---|\n",
       "| ENSG00000177663 |  1.000000000 | -0.07960362 |  0.08104729 | -0.03069212 | -0.006166357 |  0.04145404 |  0.004236295 |  0.092786278 |  0.03758189 |  0.29453645 |\n",
       "| ENSG00000131100 | -0.079603618 |  1.00000000 | -0.25909894 |  0.15218979 | -0.102135541 | -0.03941496 | -0.070705927 | -0.075919537 | -0.24743910 | -0.34484725 |\n",
       "| ENSG00000099968 |  0.081047295 | -0.25909894 |  1.00000000 | -0.15089347 |  0.151891940 |  0.06525966 | -0.027356017 |  0.093445488 |  0.02537699 |  0.22707270 |\n",
       "| ENSG00000015475 | -0.030692124 |  0.15218979 | -0.15089347 |  1.00000000 | -0.074442656 | -0.02540813 | -0.159054420 |  0.013779881 | -0.14546432 | -0.07206088 |\n",
       "| ENSG00000243156 | -0.006166357 | -0.10213554 |  0.15189194 | -0.07444266 |  1.000000000 | -0.05544506 | -0.077240338 |  0.009803215 |  0.03899841 |  0.01283286 |\n",
       "| ENSG00000215193 |  0.041454039 | -0.03941496 |  0.06525966 | -0.02540813 | -0.055445058 |  1.00000000 |  0.008892585 | -0.004056183 |  0.07554576 |  0.16017802 |\n",
       "\n"
      ],
      "text/plain": [
       "                ENSG00000177663 ENSG00000131100 ENSG00000099968 ENSG00000015475\n",
       "ENSG00000177663  1.000000000    -0.07960362      0.08104729     -0.03069212    \n",
       "ENSG00000131100 -0.079603618     1.00000000     -0.25909894      0.15218979    \n",
       "ENSG00000099968  0.081047295    -0.25909894      1.00000000     -0.15089347    \n",
       "ENSG00000015475 -0.030692124     0.15218979     -0.15089347      1.00000000    \n",
       "ENSG00000243156 -0.006166357    -0.10213554      0.15189194     -0.07444266    \n",
       "ENSG00000215193  0.041454039    -0.03941496      0.06525966     -0.02540813    \n",
       "                ENSG00000243156 ENSG00000215193 ENSG00000183785 ENSG00000184979\n",
       "ENSG00000177663 -0.006166357     0.04145404      0.004236295     0.092786278   \n",
       "ENSG00000131100 -0.102135541    -0.03941496     -0.070705927    -0.075919537   \n",
       "ENSG00000099968  0.151891940     0.06525966     -0.027356017     0.093445488   \n",
       "ENSG00000015475 -0.074442656    -0.02540813     -0.159054420     0.013779881   \n",
       "ENSG00000243156  1.000000000    -0.05544506     -0.077240338     0.009803215   \n",
       "ENSG00000215193 -0.055445058     1.00000000      0.008892585    -0.004056183   \n",
       "                ENSG00000100033 ENSG00000100075\n",
       "ENSG00000177663  0.03758189      0.29453645    \n",
       "ENSG00000131100 -0.24743910     -0.34484725    \n",
       "ENSG00000099968  0.02537699      0.22707270    \n",
       "ENSG00000015475 -0.14546432     -0.07206088    \n",
       "ENSG00000243156  0.03899841      0.01283286    \n",
       "ENSG00000215193  0.07554576      0.16017802    "
      ]
     },
     "metadata": {},
     "output_type": "display_data"
    }
   ],
   "source": [
    "# quick and visual comparison of the two matrices\n",
    "IRdisplay::display(head(gene_corrs[1:10, 1:10]))\n",
    "IRdisplay::display(head(gene_corrs_corrected[1:10, 1:10]))"
   ]
  },
  {
   "cell_type": "markdown",
   "id": "c6c40f1a-d153-475a-94eb-c71697ad9d51",
   "metadata": {},
   "source": [
    "Both matrices \"look\" similar. We are not interested in perfectly accurate correlation values (they are already inaccurate)."
   ]
  },
  {
   "cell_type": "markdown",
   "id": "bf0f49cb-9c21-4616-8390-bb68d52dae56",
   "metadata": {},
   "source": [
    "# Save"
   ]
  },
  {
   "cell_type": "code",
   "execution_count": 50,
   "id": "2e58e7f3-a75c-4195-a20e-39e3e3e1cc9a",
   "metadata": {},
   "outputs": [],
   "source": [
    "py_save_object(gene_corrs_corrected, OUTPUT_FILE)"
   ]
  },
  {
   "cell_type": "code",
   "execution_count": null,
   "id": "d8ae4220-2171-460c-9231-cd5219f3fe77",
   "metadata": {},
   "outputs": [],
   "source": []
  }
 ],
 "metadata": {
  "jupytext": {
   "cell_metadata_filter": "all,-execution,-papermill,-trusted"
  },
  "kernelspec": {
   "display_name": "R",
   "language": "R",
   "name": "ir"
  },
  "language_info": {
   "codemirror_mode": "r",
   "file_extension": ".r",
   "mimetype": "text/x-r-source",
   "name": "R",
   "pygments_lexer": "r",
   "version": "3.6.3"
  }
 },
 "nbformat": 4,
 "nbformat_minor": 5
}
