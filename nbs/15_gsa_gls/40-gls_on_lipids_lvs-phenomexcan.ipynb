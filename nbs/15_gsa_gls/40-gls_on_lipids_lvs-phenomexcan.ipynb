{
 "cells": [
  {
   "cell_type": "markdown",
   "id": "intended-coaching",
   "metadata": {
    "papermill": {
     "duration": 0.064359,
     "end_time": "2021-07-19T19:08:01.095467",
     "exception": false,
     "start_time": "2021-07-19T19:08:01.031108",
     "status": "completed"
    },
    "tags": []
   },
   "source": [
    "# Description"
   ]
  },
  {
   "cell_type": "markdown",
   "id": "weighted-passenger",
   "metadata": {
    "papermill": {
     "duration": 0.025221,
     "end_time": "2021-07-19T19:08:01.145808",
     "exception": false,
     "start_time": "2021-07-19T19:08:01.120587",
     "status": "completed"
    },
    "tags": []
   },
   "source": [
    "This notebook is similar to `30` and `35`, but here I use the LVs that we found to be significantly enriched for the lipids CRISPR analysis, which might or might not coincide with the previously used LVs (those that discriminate clusters).\n",
    "The traits here are from PhenomeXcan, and we select those from the main clusters found (see below) indicated in the clustering tree figure in the manuscript."
   ]
  },
  {
   "cell_type": "markdown",
   "id": "induced-lodge",
   "metadata": {
    "papermill": {
     "duration": 0.025132,
     "end_time": "2021-07-19T19:08:01.196448",
     "exception": false,
     "start_time": "2021-07-19T19:08:01.171316",
     "status": "completed"
    },
    "tags": []
   },
   "source": [
    "# Environment variables"
   ]
  },
  {
   "cell_type": "code",
   "execution_count": 1,
   "id": "genetic-adobe",
   "metadata": {
    "execution": {
     "iopub.execute_input": "2021-07-19T19:08:01.253587Z",
     "iopub.status.busy": "2021-07-19T19:08:01.253211Z",
     "iopub.status.idle": "2021-07-19T19:08:01.260832Z",
     "shell.execute_reply": "2021-07-19T19:08:01.261137Z"
    },
    "papermill": {
     "duration": 0.039246,
     "end_time": "2021-07-19T19:08:01.261297",
     "exception": false,
     "start_time": "2021-07-19T19:08:01.222051",
     "status": "completed"
    },
    "tags": []
   },
   "outputs": [],
   "source": [
    "%load_ext autoreload\n",
    "%autoreload 2"
   ]
  },
  {
   "cell_type": "code",
   "execution_count": 2,
   "id": "social-alloy",
   "metadata": {
    "execution": {
     "iopub.execute_input": "2021-07-19T19:08:01.315616Z",
     "iopub.status.busy": "2021-07-19T19:08:01.315241Z",
     "iopub.status.idle": "2021-07-19T19:08:01.325067Z",
     "shell.execute_reply": "2021-07-19T19:08:01.324643Z"
    },
    "papermill": {
     "duration": 0.037889,
     "end_time": "2021-07-19T19:08:01.325152",
     "exception": false,
     "start_time": "2021-07-19T19:08:01.287263",
     "status": "completed"
    },
    "tags": []
   },
   "outputs": [],
   "source": [
    "import conf"
   ]
  },
  {
   "cell_type": "code",
   "execution_count": 3,
   "id": "registered-battle",
   "metadata": {
    "execution": {
     "iopub.execute_input": "2021-07-19T19:08:01.379272Z",
     "iopub.status.busy": "2021-07-19T19:08:01.378909Z",
     "iopub.status.idle": "2021-07-19T19:08:01.389088Z",
     "shell.execute_reply": "2021-07-19T19:08:01.388678Z"
    },
    "papermill": {
     "duration": 0.03766,
     "end_time": "2021-07-19T19:08:01.389173",
     "exception": false,
     "start_time": "2021-07-19T19:08:01.351513",
     "status": "completed"
    },
    "tags": []
   },
   "outputs": [
    {
     "data": {
      "text/plain": [
       "3"
      ]
     },
     "metadata": {},
     "output_type": "display_data"
    }
   ],
   "source": [
    "N_JOBS = conf.GENERAL[\"N_JOBS\"]\n",
    "display(N_JOBS)"
   ]
  },
  {
   "cell_type": "code",
   "execution_count": 4,
   "id": "opposed-carroll",
   "metadata": {
    "execution": {
     "iopub.execute_input": "2021-07-19T19:08:01.445458Z",
     "iopub.status.busy": "2021-07-19T19:08:01.445089Z",
     "iopub.status.idle": "2021-07-19T19:08:01.451613Z",
     "shell.execute_reply": "2021-07-19T19:08:01.451241Z"
    },
    "papermill": {
     "duration": 0.036032,
     "end_time": "2021-07-19T19:08:01.451699",
     "exception": false,
     "start_time": "2021-07-19T19:08:01.415667",
     "status": "completed"
    },
    "tags": []
   },
   "outputs": [
    {
     "name": "stdout",
     "output_type": "stream",
     "text": [
      "env: MKL_NUM_THREADS=3\n",
      "env: OPEN_BLAS_NUM_THREADS=3\n",
      "env: NUMEXPR_NUM_THREADS=3\n",
      "env: OMP_NUM_THREADS=3\n"
     ]
    }
   ],
   "source": [
    "%env MKL_NUM_THREADS=$N_JOBS\n",
    "%env OPEN_BLAS_NUM_THREADS=$N_JOBS\n",
    "%env NUMEXPR_NUM_THREADS=$N_JOBS\n",
    "%env OMP_NUM_THREADS=$N_JOBS"
   ]
  },
  {
   "cell_type": "markdown",
   "id": "advanced-saver",
   "metadata": {
    "papermill": {
     "duration": 0.025636,
     "end_time": "2021-07-19T19:08:01.504101",
     "exception": false,
     "start_time": "2021-07-19T19:08:01.478465",
     "status": "completed"
    },
    "tags": []
   },
   "source": [
    "# Modules"
   ]
  },
  {
   "cell_type": "code",
   "execution_count": 5,
   "id": "single-pursuit",
   "metadata": {
    "execution": {
     "iopub.execute_input": "2021-07-19T19:08:01.558443Z",
     "iopub.status.busy": "2021-07-19T19:08:01.558080Z",
     "iopub.status.idle": "2021-07-19T19:08:02.309585Z",
     "shell.execute_reply": "2021-07-19T19:08:02.309215Z"
    },
    "papermill": {
     "duration": 0.7799,
     "end_time": "2021-07-19T19:08:02.309682",
     "exception": false,
     "start_time": "2021-07-19T19:08:01.529782",
     "status": "completed"
    },
    "tags": []
   },
   "outputs": [],
   "source": [
    "from pathlib import Path\n",
    "\n",
    "import pandas as pd\n",
    "from tqdm import tqdm\n",
    "\n",
    "from gls import GLSPhenoplier"
   ]
  },
  {
   "cell_type": "markdown",
   "id": "equipped-india",
   "metadata": {
    "papermill": {
     "duration": 0.025822,
     "end_time": "2021-07-19T19:08:02.363333",
     "exception": false,
     "start_time": "2021-07-19T19:08:02.337511",
     "status": "completed"
    },
    "tags": []
   },
   "source": [
    "# Settings"
   ]
  },
  {
   "cell_type": "code",
   "execution_count": 6,
   "id": "fatal-reliance",
   "metadata": {
    "execution": {
     "iopub.execute_input": "2021-07-19T19:08:02.418164Z",
     "iopub.status.busy": "2021-07-19T19:08:02.417756Z",
     "iopub.status.idle": "2021-07-19T19:08:02.429359Z",
     "shell.execute_reply": "2021-07-19T19:08:02.429018Z"
    },
    "papermill": {
     "duration": 0.040111,
     "end_time": "2021-07-19T19:08:02.429446",
     "exception": false,
     "start_time": "2021-07-19T19:08:02.389335",
     "status": "completed"
    },
    "tags": []
   },
   "outputs": [
    {
     "data": {
      "text/plain": [
       "PosixPath('/home/miltondp/projects/labs/greenelab/phenoplier/base/results/gls')"
      ]
     },
     "metadata": {},
     "output_type": "display_data"
    }
   ],
   "source": [
    "OUTPUT_DIR = conf.RESULTS[\"GLS\"]\n",
    "display(OUTPUT_DIR)\n",
    "\n",
    "OUTPUT_DIR.mkdir(exist_ok=True, parents=True)"
   ]
  },
  {
   "cell_type": "code",
   "execution_count": 7,
   "id": "charitable-placement",
   "metadata": {
    "execution": {
     "iopub.execute_input": "2021-07-19T19:08:02.485416Z",
     "iopub.status.busy": "2021-07-19T19:08:02.485044Z",
     "iopub.status.idle": "2021-07-19T19:08:02.496519Z",
     "shell.execute_reply": "2021-07-19T19:08:02.496144Z"
    },
    "papermill": {
     "duration": 0.039679,
     "end_time": "2021-07-19T19:08:02.496605",
     "exception": false,
     "start_time": "2021-07-19T19:08:02.456926",
     "status": "completed"
    },
    "tags": []
   },
   "outputs": [
    {
     "data": {
      "text/plain": [
       "PosixPath('/home/miltondp/projects/labs/greenelab/phenoplier/base/results/gls/gls_phenotypes-crispr_lvs-phenomexcan.pkl')"
      ]
     },
     "metadata": {},
     "output_type": "display_data"
    }
   ],
   "source": [
    "OUTPUT_FILENAME = OUTPUT_DIR / \"gls_phenotypes-crispr_lvs-phenomexcan.pkl\"\n",
    "display(OUTPUT_FILENAME)"
   ]
  },
  {
   "cell_type": "markdown",
   "id": "sized-original",
   "metadata": {
    "papermill": {
     "duration": 0.026297,
     "end_time": "2021-07-19T19:08:02.549974",
     "exception": false,
     "start_time": "2021-07-19T19:08:02.523677",
     "status": "completed"
    },
    "tags": []
   },
   "source": [
    "# Load data"
   ]
  },
  {
   "cell_type": "markdown",
   "id": "adult-recorder",
   "metadata": {
    "papermill": {
     "duration": 0.026257,
     "end_time": "2021-07-19T19:08:02.602361",
     "exception": false,
     "start_time": "2021-07-19T19:08:02.576104",
     "status": "completed"
    },
    "tags": []
   },
   "source": [
    "## PhenomeXcan (S-MultiXcan)"
   ]
  },
  {
   "cell_type": "code",
   "execution_count": 8,
   "id": "false-literature",
   "metadata": {
    "execution": {
     "iopub.execute_input": "2021-07-19T19:08:02.658984Z",
     "iopub.status.busy": "2021-07-19T19:08:02.658618Z",
     "iopub.status.idle": "2021-07-19T19:08:02.669247Z",
     "shell.execute_reply": "2021-07-19T19:08:02.668870Z"
    },
    "papermill": {
     "duration": 0.039862,
     "end_time": "2021-07-19T19:08:02.669333",
     "exception": false,
     "start_time": "2021-07-19T19:08:02.629471",
     "status": "completed"
    },
    "tags": []
   },
   "outputs": [],
   "source": [
    "INPUT_SUBSET = \"z_score_std\""
   ]
  },
  {
   "cell_type": "code",
   "execution_count": 9,
   "id": "attempted-tobacco",
   "metadata": {
    "execution": {
     "iopub.execute_input": "2021-07-19T19:08:02.726635Z",
     "iopub.status.busy": "2021-07-19T19:08:02.726272Z",
     "iopub.status.idle": "2021-07-19T19:08:02.736730Z",
     "shell.execute_reply": "2021-07-19T19:08:02.736328Z"
    },
    "papermill": {
     "duration": 0.039225,
     "end_time": "2021-07-19T19:08:02.736819",
     "exception": false,
     "start_time": "2021-07-19T19:08:02.697594",
     "status": "completed"
    },
    "tags": []
   },
   "outputs": [],
   "source": [
    "INPUT_STEM = \"projection-smultixcan-efo_partial-mashr-zscores\""
   ]
  },
  {
   "cell_type": "code",
   "execution_count": 10,
   "id": "tender-tooth",
   "metadata": {
    "execution": {
     "iopub.execute_input": "2021-07-19T19:08:02.794926Z",
     "iopub.status.busy": "2021-07-19T19:08:02.794559Z",
     "iopub.status.idle": "2021-07-19T19:08:02.805253Z",
     "shell.execute_reply": "2021-07-19T19:08:02.804893Z"
    },
    "papermill": {
     "duration": 0.039817,
     "end_time": "2021-07-19T19:08:02.805335",
     "exception": false,
     "start_time": "2021-07-19T19:08:02.765518",
     "status": "completed"
    },
    "tags": []
   },
   "outputs": [],
   "source": [
    "input_filepath = Path(\n",
    "    conf.RESULTS[\"DATA_TRANSFORMATIONS_DIR\"],\n",
    "    INPUT_SUBSET,\n",
    "    f\"{INPUT_SUBSET}-{INPUT_STEM}.pkl\",\n",
    ").resolve()"
   ]
  },
  {
   "cell_type": "code",
   "execution_count": 11,
   "id": "better-nitrogen",
   "metadata": {
    "execution": {
     "iopub.execute_input": "2021-07-19T19:08:02.862735Z",
     "iopub.status.busy": "2021-07-19T19:08:02.862277Z",
     "iopub.status.idle": "2021-07-19T19:08:02.889713Z",
     "shell.execute_reply": "2021-07-19T19:08:02.889322Z"
    },
    "papermill": {
     "duration": 0.058019,
     "end_time": "2021-07-19T19:08:02.889824",
     "exception": false,
     "start_time": "2021-07-19T19:08:02.831805",
     "status": "completed"
    },
    "tags": []
   },
   "outputs": [],
   "source": [
    "data = pd.read_pickle(input_filepath)"
   ]
  },
  {
   "cell_type": "code",
   "execution_count": 12,
   "id": "toxic-plumbing",
   "metadata": {
    "execution": {
     "iopub.execute_input": "2021-07-19T19:08:02.951422Z",
     "iopub.status.busy": "2021-07-19T19:08:02.951058Z",
     "iopub.status.idle": "2021-07-19T19:08:02.961954Z",
     "shell.execute_reply": "2021-07-19T19:08:02.962257Z"
    },
    "papermill": {
     "duration": 0.040524,
     "end_time": "2021-07-19T19:08:02.962364",
     "exception": false,
     "start_time": "2021-07-19T19:08:02.921840",
     "status": "completed"
    },
    "tags": []
   },
   "outputs": [
    {
     "data": {
      "text/plain": [
       "(3752, 987)"
      ]
     },
     "execution_count": 12,
     "metadata": {},
     "output_type": "execute_result"
    }
   ],
   "source": [
    "data.shape"
   ]
  },
  {
   "cell_type": "code",
   "execution_count": 13,
   "id": "threatened-refrigerator",
   "metadata": {
    "execution": {
     "iopub.execute_input": "2021-07-19T19:08:03.020799Z",
     "iopub.status.busy": "2021-07-19T19:08:03.020371Z",
     "iopub.status.idle": "2021-07-19T19:08:03.043872Z",
     "shell.execute_reply": "2021-07-19T19:08:03.043496Z"
    },
    "papermill": {
     "duration": 0.053185,
     "end_time": "2021-07-19T19:08:03.043958",
     "exception": false,
     "start_time": "2021-07-19T19:08:02.990773",
     "status": "completed"
    },
    "tags": []
   },
   "outputs": [
    {
     "data": {
      "text/html": [
       "<div>\n",
       "<style scoped>\n",
       "    .dataframe tbody tr th:only-of-type {\n",
       "        vertical-align: middle;\n",
       "    }\n",
       "\n",
       "    .dataframe tbody tr th {\n",
       "        vertical-align: top;\n",
       "    }\n",
       "\n",
       "    .dataframe thead th {\n",
       "        text-align: right;\n",
       "    }\n",
       "</style>\n",
       "<table border=\"1\" class=\"dataframe\">\n",
       "  <thead>\n",
       "    <tr style=\"text-align: right;\">\n",
       "      <th></th>\n",
       "      <th>LV1</th>\n",
       "      <th>LV2</th>\n",
       "      <th>LV3</th>\n",
       "      <th>LV4</th>\n",
       "      <th>LV5</th>\n",
       "      <th>LV6</th>\n",
       "      <th>LV7</th>\n",
       "      <th>LV8</th>\n",
       "      <th>LV9</th>\n",
       "      <th>LV10</th>\n",
       "      <th>...</th>\n",
       "      <th>LV978</th>\n",
       "      <th>LV979</th>\n",
       "      <th>LV980</th>\n",
       "      <th>LV981</th>\n",
       "      <th>LV982</th>\n",
       "      <th>LV983</th>\n",
       "      <th>LV984</th>\n",
       "      <th>LV985</th>\n",
       "      <th>LV986</th>\n",
       "      <th>LV987</th>\n",
       "    </tr>\n",
       "  </thead>\n",
       "  <tbody>\n",
       "    <tr>\n",
       "      <th>100001_raw-Food_weight</th>\n",
       "      <td>-0.695006</td>\n",
       "      <td>1.962565</td>\n",
       "      <td>0.057683</td>\n",
       "      <td>0.878731</td>\n",
       "      <td>-0.539977</td>\n",
       "      <td>1.481272</td>\n",
       "      <td>-0.396422</td>\n",
       "      <td>1.090180</td>\n",
       "      <td>0.759223</td>\n",
       "      <td>0.931395</td>\n",
       "      <td>...</td>\n",
       "      <td>1.129784</td>\n",
       "      <td>1.752343</td>\n",
       "      <td>-1.411403</td>\n",
       "      <td>2.823863</td>\n",
       "      <td>0.931116</td>\n",
       "      <td>-1.054519</td>\n",
       "      <td>0.432982</td>\n",
       "      <td>-0.633597</td>\n",
       "      <td>0.554279</td>\n",
       "      <td>-0.642479</td>\n",
       "    </tr>\n",
       "    <tr>\n",
       "      <th>100002_raw-Energy</th>\n",
       "      <td>-1.528127</td>\n",
       "      <td>-0.345309</td>\n",
       "      <td>-0.148953</td>\n",
       "      <td>-0.242060</td>\n",
       "      <td>0.373427</td>\n",
       "      <td>0.791092</td>\n",
       "      <td>0.263477</td>\n",
       "      <td>0.987702</td>\n",
       "      <td>0.354391</td>\n",
       "      <td>1.416059</td>\n",
       "      <td>...</td>\n",
       "      <td>0.224604</td>\n",
       "      <td>0.769882</td>\n",
       "      <td>-0.509482</td>\n",
       "      <td>0.091153</td>\n",
       "      <td>2.286789</td>\n",
       "      <td>-1.008256</td>\n",
       "      <td>-0.029764</td>\n",
       "      <td>1.737229</td>\n",
       "      <td>-0.272107</td>\n",
       "      <td>-0.526125</td>\n",
       "    </tr>\n",
       "    <tr>\n",
       "      <th>100003_raw-Protein</th>\n",
       "      <td>-0.704572</td>\n",
       "      <td>-1.011299</td>\n",
       "      <td>0.671420</td>\n",
       "      <td>0.143991</td>\n",
       "      <td>0.615212</td>\n",
       "      <td>0.874212</td>\n",
       "      <td>-0.040998</td>\n",
       "      <td>0.915170</td>\n",
       "      <td>0.254369</td>\n",
       "      <td>-0.084237</td>\n",
       "      <td>...</td>\n",
       "      <td>1.003019</td>\n",
       "      <td>1.044314</td>\n",
       "      <td>-2.376108</td>\n",
       "      <td>0.004778</td>\n",
       "      <td>0.053714</td>\n",
       "      <td>-0.892447</td>\n",
       "      <td>-0.183800</td>\n",
       "      <td>1.377991</td>\n",
       "      <td>-0.278794</td>\n",
       "      <td>-0.419733</td>\n",
       "    </tr>\n",
       "    <tr>\n",
       "      <th>100004_raw-Fat</th>\n",
       "      <td>-0.989832</td>\n",
       "      <td>-1.875490</td>\n",
       "      <td>0.261555</td>\n",
       "      <td>-1.420719</td>\n",
       "      <td>0.366238</td>\n",
       "      <td>1.167049</td>\n",
       "      <td>0.257387</td>\n",
       "      <td>0.717674</td>\n",
       "      <td>-0.997664</td>\n",
       "      <td>0.969825</td>\n",
       "      <td>...</td>\n",
       "      <td>0.585913</td>\n",
       "      <td>0.638314</td>\n",
       "      <td>0.119139</td>\n",
       "      <td>-0.140204</td>\n",
       "      <td>1.394326</td>\n",
       "      <td>-1.173402</td>\n",
       "      <td>0.555058</td>\n",
       "      <td>1.013982</td>\n",
       "      <td>-0.544506</td>\n",
       "      <td>-0.064061</td>\n",
       "    </tr>\n",
       "    <tr>\n",
       "      <th>100005_raw-Carbohydrate</th>\n",
       "      <td>-0.580143</td>\n",
       "      <td>0.243335</td>\n",
       "      <td>0.158966</td>\n",
       "      <td>-0.036558</td>\n",
       "      <td>0.068176</td>\n",
       "      <td>-0.202639</td>\n",
       "      <td>1.101281</td>\n",
       "      <td>0.675227</td>\n",
       "      <td>1.463432</td>\n",
       "      <td>1.010078</td>\n",
       "      <td>...</td>\n",
       "      <td>-0.249108</td>\n",
       "      <td>-0.026814</td>\n",
       "      <td>0.232713</td>\n",
       "      <td>0.323682</td>\n",
       "      <td>1.168642</td>\n",
       "      <td>-0.282935</td>\n",
       "      <td>0.653105</td>\n",
       "      <td>1.909526</td>\n",
       "      <td>0.199997</td>\n",
       "      <td>-1.656894</td>\n",
       "    </tr>\n",
       "  </tbody>\n",
       "</table>\n",
       "<p>5 rows × 987 columns</p>\n",
       "</div>"
      ],
      "text/plain": [
       "                              LV1       LV2       LV3       LV4       LV5  \\\n",
       "100001_raw-Food_weight  -0.695006  1.962565  0.057683  0.878731 -0.539977   \n",
       "100002_raw-Energy       -1.528127 -0.345309 -0.148953 -0.242060  0.373427   \n",
       "100003_raw-Protein      -0.704572 -1.011299  0.671420  0.143991  0.615212   \n",
       "100004_raw-Fat          -0.989832 -1.875490  0.261555 -1.420719  0.366238   \n",
       "100005_raw-Carbohydrate -0.580143  0.243335  0.158966 -0.036558  0.068176   \n",
       "\n",
       "                              LV6       LV7       LV8       LV9      LV10  \\\n",
       "100001_raw-Food_weight   1.481272 -0.396422  1.090180  0.759223  0.931395   \n",
       "100002_raw-Energy        0.791092  0.263477  0.987702  0.354391  1.416059   \n",
       "100003_raw-Protein       0.874212 -0.040998  0.915170  0.254369 -0.084237   \n",
       "100004_raw-Fat           1.167049  0.257387  0.717674 -0.997664  0.969825   \n",
       "100005_raw-Carbohydrate -0.202639  1.101281  0.675227  1.463432  1.010078   \n",
       "\n",
       "                         ...     LV978     LV979     LV980     LV981  \\\n",
       "100001_raw-Food_weight   ...  1.129784  1.752343 -1.411403  2.823863   \n",
       "100002_raw-Energy        ...  0.224604  0.769882 -0.509482  0.091153   \n",
       "100003_raw-Protein       ...  1.003019  1.044314 -2.376108  0.004778   \n",
       "100004_raw-Fat           ...  0.585913  0.638314  0.119139 -0.140204   \n",
       "100005_raw-Carbohydrate  ... -0.249108 -0.026814  0.232713  0.323682   \n",
       "\n",
       "                            LV982     LV983     LV984     LV985     LV986  \\\n",
       "100001_raw-Food_weight   0.931116 -1.054519  0.432982 -0.633597  0.554279   \n",
       "100002_raw-Energy        2.286789 -1.008256 -0.029764  1.737229 -0.272107   \n",
       "100003_raw-Protein       0.053714 -0.892447 -0.183800  1.377991 -0.278794   \n",
       "100004_raw-Fat           1.394326 -1.173402  0.555058  1.013982 -0.544506   \n",
       "100005_raw-Carbohydrate  1.168642 -0.282935  0.653105  1.909526  0.199997   \n",
       "\n",
       "                            LV987  \n",
       "100001_raw-Food_weight  -0.642479  \n",
       "100002_raw-Energy       -0.526125  \n",
       "100003_raw-Protein      -0.419733  \n",
       "100004_raw-Fat          -0.064061  \n",
       "100005_raw-Carbohydrate -1.656894  \n",
       "\n",
       "[5 rows x 987 columns]"
      ]
     },
     "execution_count": 13,
     "metadata": {},
     "output_type": "execute_result"
    }
   ],
   "source": [
    "data.head()"
   ]
  },
  {
   "cell_type": "markdown",
   "id": "modern-investment",
   "metadata": {
    "papermill": {
     "duration": 0.027263,
     "end_time": "2021-07-19T19:08:03.099668",
     "exception": false,
     "start_time": "2021-07-19T19:08:03.072405",
     "status": "completed"
    },
    "tags": []
   },
   "source": [
    "## Clustering results"
   ]
  },
  {
   "cell_type": "code",
   "execution_count": 14,
   "id": "hungry-alignment",
   "metadata": {
    "execution": {
     "iopub.execute_input": "2021-07-19T19:08:03.157497Z",
     "iopub.status.busy": "2021-07-19T19:08:03.157119Z",
     "iopub.status.idle": "2021-07-19T19:08:03.168934Z",
     "shell.execute_reply": "2021-07-19T19:08:03.168492Z"
    },
    "papermill": {
     "duration": 0.041918,
     "end_time": "2021-07-19T19:08:03.169016",
     "exception": false,
     "start_time": "2021-07-19T19:08:03.127098",
     "status": "completed"
    },
    "tags": []
   },
   "outputs": [
    {
     "data": {
      "text/plain": [
       "PosixPath('/home/miltondp/projects/labs/greenelab/phenoplier/base/results/clustering/consensus_clustering')"
      ]
     },
     "metadata": {},
     "output_type": "display_data"
    }
   ],
   "source": [
    "CONSENSUS_CLUSTERING_DIR = Path(\n",
    "    conf.RESULTS[\"CLUSTERING_DIR\"], \"consensus_clustering\"\n",
    ").resolve()\n",
    "\n",
    "display(CONSENSUS_CLUSTERING_DIR)"
   ]
  },
  {
   "cell_type": "code",
   "execution_count": 15,
   "id": "naked-annotation",
   "metadata": {
    "execution": {
     "iopub.execute_input": "2021-07-19T19:08:03.227574Z",
     "iopub.status.busy": "2021-07-19T19:08:03.227214Z",
     "iopub.status.idle": "2021-07-19T19:08:03.238645Z",
     "shell.execute_reply": "2021-07-19T19:08:03.238277Z"
    },
    "papermill": {
     "duration": 0.041602,
     "end_time": "2021-07-19T19:08:03.238731",
     "exception": false,
     "start_time": "2021-07-19T19:08:03.197129",
     "status": "completed"
    },
    "tags": []
   },
   "outputs": [
    {
     "data": {
      "text/plain": [
       "PosixPath('/home/miltondp/projects/labs/greenelab/phenoplier/base/results/clustering/consensus_clustering/best_partitions_by_k.pkl')"
      ]
     },
     "metadata": {},
     "output_type": "display_data"
    }
   ],
   "source": [
    "input_file = Path(CONSENSUS_CLUSTERING_DIR, \"best_partitions_by_k.pkl\").resolve()\n",
    "display(input_file)"
   ]
  },
  {
   "cell_type": "code",
   "execution_count": 16,
   "id": "elder-vermont",
   "metadata": {
    "execution": {
     "iopub.execute_input": "2021-07-19T19:08:03.298762Z",
     "iopub.status.busy": "2021-07-19T19:08:03.298398Z",
     "iopub.status.idle": "2021-07-19T19:08:03.310278Z",
     "shell.execute_reply": "2021-07-19T19:08:03.309896Z"
    },
    "papermill": {
     "duration": 0.042882,
     "end_time": "2021-07-19T19:08:03.310366",
     "exception": false,
     "start_time": "2021-07-19T19:08:03.267484",
     "status": "completed"
    },
    "tags": []
   },
   "outputs": [],
   "source": [
    "best_partitions = pd.read_pickle(input_file)"
   ]
  },
  {
   "cell_type": "code",
   "execution_count": 17,
   "id": "stupid-script",
   "metadata": {
    "execution": {
     "iopub.execute_input": "2021-07-19T19:08:03.369493Z",
     "iopub.status.busy": "2021-07-19T19:08:03.369125Z",
     "iopub.status.idle": "2021-07-19T19:08:03.381129Z",
     "shell.execute_reply": "2021-07-19T19:08:03.381426Z"
    },
    "papermill": {
     "duration": 0.042443,
     "end_time": "2021-07-19T19:08:03.381528",
     "exception": false,
     "start_time": "2021-07-19T19:08:03.339085",
     "status": "completed"
    },
    "tags": []
   },
   "outputs": [
    {
     "data": {
      "text/plain": [
       "(59, 4)"
      ]
     },
     "execution_count": 17,
     "metadata": {},
     "output_type": "execute_result"
    }
   ],
   "source": [
    "best_partitions.shape"
   ]
  },
  {
   "cell_type": "code",
   "execution_count": 18,
   "id": "elegant-sacrifice",
   "metadata": {
    "execution": {
     "iopub.execute_input": "2021-07-19T19:08:03.441268Z",
     "iopub.status.busy": "2021-07-19T19:08:03.440907Z",
     "iopub.status.idle": "2021-07-19T19:08:03.459969Z",
     "shell.execute_reply": "2021-07-19T19:08:03.459595Z"
    },
    "papermill": {
     "duration": 0.049671,
     "end_time": "2021-07-19T19:08:03.460055",
     "exception": false,
     "start_time": "2021-07-19T19:08:03.410384",
     "status": "completed"
    },
    "tags": []
   },
   "outputs": [
    {
     "data": {
      "text/html": [
       "<div>\n",
       "<style scoped>\n",
       "    .dataframe tbody tr th:only-of-type {\n",
       "        vertical-align: middle;\n",
       "    }\n",
       "\n",
       "    .dataframe tbody tr th {\n",
       "        vertical-align: top;\n",
       "    }\n",
       "\n",
       "    .dataframe thead th {\n",
       "        text-align: right;\n",
       "    }\n",
       "</style>\n",
       "<table border=\"1\" class=\"dataframe\">\n",
       "  <thead>\n",
       "    <tr style=\"text-align: right;\">\n",
       "      <th></th>\n",
       "      <th>method</th>\n",
       "      <th>partition</th>\n",
       "      <th>ari_median</th>\n",
       "      <th>selected</th>\n",
       "    </tr>\n",
       "    <tr>\n",
       "      <th>k</th>\n",
       "      <th></th>\n",
       "      <th></th>\n",
       "      <th></th>\n",
       "      <th></th>\n",
       "    </tr>\n",
       "  </thead>\n",
       "  <tbody>\n",
       "    <tr>\n",
       "      <th>14</th>\n",
       "      <td>scc_025</td>\n",
       "      <td>[0, 0, 0, 0, 0, 0, 0, 0, 0, 0, 0, 0, 0, 0, 0, ...</td>\n",
       "      <td>0.090117</td>\n",
       "      <td>True</td>\n",
       "    </tr>\n",
       "    <tr>\n",
       "      <th>22</th>\n",
       "      <td>scc_020</td>\n",
       "      <td>[13, 18, 18, 18, 18, 18, 18, 18, 18, 13, 18, 1...</td>\n",
       "      <td>0.090100</td>\n",
       "      <td>True</td>\n",
       "    </tr>\n",
       "    <tr>\n",
       "      <th>13</th>\n",
       "      <td>scc_025</td>\n",
       "      <td>[0, 0, 0, 0, 0, 0, 0, 0, 0, 0, 0, 0, 0, 0, 0, ...</td>\n",
       "      <td>0.089920</td>\n",
       "      <td>True</td>\n",
       "    </tr>\n",
       "    <tr>\n",
       "      <th>12</th>\n",
       "      <td>scc_025</td>\n",
       "      <td>[0, 0, 0, 0, 0, 0, 0, 0, 0, 0, 0, 0, 0, 0, 0, ...</td>\n",
       "      <td>0.089894</td>\n",
       "      <td>True</td>\n",
       "    </tr>\n",
       "    <tr>\n",
       "      <th>11</th>\n",
       "      <td>scc_025</td>\n",
       "      <td>[0, 0, 0, 0, 0, 0, 0, 0, 0, 0, 0, 0, 0, 0, 0, ...</td>\n",
       "      <td>0.089616</td>\n",
       "      <td>True</td>\n",
       "    </tr>\n",
       "  </tbody>\n",
       "</table>\n",
       "</div>"
      ],
      "text/plain": [
       "     method                                          partition  ari_median  \\\n",
       "k                                                                            \n",
       "14  scc_025  [0, 0, 0, 0, 0, 0, 0, 0, 0, 0, 0, 0, 0, 0, 0, ...    0.090117   \n",
       "22  scc_020  [13, 18, 18, 18, 18, 18, 18, 18, 18, 13, 18, 1...    0.090100   \n",
       "13  scc_025  [0, 0, 0, 0, 0, 0, 0, 0, 0, 0, 0, 0, 0, 0, 0, ...    0.089920   \n",
       "12  scc_025  [0, 0, 0, 0, 0, 0, 0, 0, 0, 0, 0, 0, 0, 0, 0, ...    0.089894   \n",
       "11  scc_025  [0, 0, 0, 0, 0, 0, 0, 0, 0, 0, 0, 0, 0, 0, 0, ...    0.089616   \n",
       "\n",
       "    selected  \n",
       "k             \n",
       "14      True  \n",
       "22      True  \n",
       "13      True  \n",
       "12      True  \n",
       "11      True  "
      ]
     },
     "execution_count": 18,
     "metadata": {},
     "output_type": "execute_result"
    }
   ],
   "source": [
    "best_partitions.head()"
   ]
  },
  {
   "cell_type": "markdown",
   "id": "becoming-celebrity",
   "metadata": {
    "papermill": {
     "duration": 0.028488,
     "end_time": "2021-07-19T19:08:03.518343",
     "exception": false,
     "start_time": "2021-07-19T19:08:03.489855",
     "status": "completed"
    },
    "tags": []
   },
   "source": [
    "## MultiPLIER summary"
   ]
  },
  {
   "cell_type": "code",
   "execution_count": 19,
   "id": "distant-soccer",
   "metadata": {
    "execution": {
     "iopub.execute_input": "2021-07-19T19:08:03.578673Z",
     "iopub.status.busy": "2021-07-19T19:08:03.578310Z",
     "iopub.status.idle": "2021-07-19T19:08:03.590203Z",
     "shell.execute_reply": "2021-07-19T19:08:03.589831Z"
    },
    "papermill": {
     "duration": 0.042998,
     "end_time": "2021-07-19T19:08:03.590288",
     "exception": false,
     "start_time": "2021-07-19T19:08:03.547290",
     "status": "completed"
    },
    "tags": []
   },
   "outputs": [],
   "source": [
    "multiplier_model_summary = pd.read_pickle(conf.MULTIPLIER[\"MODEL_SUMMARY_FILE\"])"
   ]
  },
  {
   "cell_type": "code",
   "execution_count": 20,
   "id": "handled-davis",
   "metadata": {
    "execution": {
     "iopub.execute_input": "2021-07-19T19:08:03.650489Z",
     "iopub.status.busy": "2021-07-19T19:08:03.650127Z",
     "iopub.status.idle": "2021-07-19T19:08:03.661732Z",
     "shell.execute_reply": "2021-07-19T19:08:03.661428Z"
    },
    "papermill": {
     "duration": 0.042507,
     "end_time": "2021-07-19T19:08:03.661821",
     "exception": false,
     "start_time": "2021-07-19T19:08:03.619314",
     "status": "completed"
    },
    "tags": []
   },
   "outputs": [
    {
     "data": {
      "text/plain": [
       "(2157, 5)"
      ]
     },
     "execution_count": 20,
     "metadata": {},
     "output_type": "execute_result"
    }
   ],
   "source": [
    "multiplier_model_summary.shape"
   ]
  },
  {
   "cell_type": "code",
   "execution_count": 21,
   "id": "worthy-tunisia",
   "metadata": {
    "execution": {
     "iopub.execute_input": "2021-07-19T19:08:03.724356Z",
     "iopub.status.busy": "2021-07-19T19:08:03.723996Z",
     "iopub.status.idle": "2021-07-19T19:08:03.739240Z",
     "shell.execute_reply": "2021-07-19T19:08:03.738925Z"
    },
    "papermill": {
     "duration": 0.047134,
     "end_time": "2021-07-19T19:08:03.739325",
     "exception": false,
     "start_time": "2021-07-19T19:08:03.692191",
     "status": "completed"
    },
    "tags": []
   },
   "outputs": [
    {
     "data": {
      "text/html": [
       "<div>\n",
       "<style scoped>\n",
       "    .dataframe tbody tr th:only-of-type {\n",
       "        vertical-align: middle;\n",
       "    }\n",
       "\n",
       "    .dataframe tbody tr th {\n",
       "        vertical-align: top;\n",
       "    }\n",
       "\n",
       "    .dataframe thead th {\n",
       "        text-align: right;\n",
       "    }\n",
       "</style>\n",
       "<table border=\"1\" class=\"dataframe\">\n",
       "  <thead>\n",
       "    <tr style=\"text-align: right;\">\n",
       "      <th></th>\n",
       "      <th>pathway</th>\n",
       "      <th>LV index</th>\n",
       "      <th>AUC</th>\n",
       "      <th>p-value</th>\n",
       "      <th>FDR</th>\n",
       "    </tr>\n",
       "  </thead>\n",
       "  <tbody>\n",
       "    <tr>\n",
       "      <th>1</th>\n",
       "      <td>KEGG_LYSINE_DEGRADATION</td>\n",
       "      <td>1</td>\n",
       "      <td>0.388059</td>\n",
       "      <td>0.866078</td>\n",
       "      <td>0.956005</td>\n",
       "    </tr>\n",
       "    <tr>\n",
       "      <th>2</th>\n",
       "      <td>REACTOME_MRNA_SPLICING</td>\n",
       "      <td>1</td>\n",
       "      <td>0.733057</td>\n",
       "      <td>0.000048</td>\n",
       "      <td>0.000582</td>\n",
       "    </tr>\n",
       "    <tr>\n",
       "      <th>3</th>\n",
       "      <td>MIPS_NOP56P_ASSOCIATED_PRE_RRNA_COMPLEX</td>\n",
       "      <td>1</td>\n",
       "      <td>0.680555</td>\n",
       "      <td>0.001628</td>\n",
       "      <td>0.011366</td>\n",
       "    </tr>\n",
       "    <tr>\n",
       "      <th>4</th>\n",
       "      <td>KEGG_DNA_REPLICATION</td>\n",
       "      <td>1</td>\n",
       "      <td>0.549473</td>\n",
       "      <td>0.312155</td>\n",
       "      <td>0.539951</td>\n",
       "    </tr>\n",
       "    <tr>\n",
       "      <th>5</th>\n",
       "      <td>PID_MYC_ACTIVPATHWAY</td>\n",
       "      <td>1</td>\n",
       "      <td>0.639303</td>\n",
       "      <td>0.021702</td>\n",
       "      <td>0.083739</td>\n",
       "    </tr>\n",
       "  </tbody>\n",
       "</table>\n",
       "</div>"
      ],
      "text/plain": [
       "                                   pathway LV index       AUC   p-value  \\\n",
       "1                  KEGG_LYSINE_DEGRADATION        1  0.388059  0.866078   \n",
       "2                   REACTOME_MRNA_SPLICING        1  0.733057  0.000048   \n",
       "3  MIPS_NOP56P_ASSOCIATED_PRE_RRNA_COMPLEX        1  0.680555  0.001628   \n",
       "4                     KEGG_DNA_REPLICATION        1  0.549473  0.312155   \n",
       "5                     PID_MYC_ACTIVPATHWAY        1  0.639303  0.021702   \n",
       "\n",
       "        FDR  \n",
       "1  0.956005  \n",
       "2  0.000582  \n",
       "3  0.011366  \n",
       "4  0.539951  \n",
       "5  0.083739  "
      ]
     },
     "execution_count": 21,
     "metadata": {},
     "output_type": "execute_result"
    }
   ],
   "source": [
    "multiplier_model_summary.head()"
   ]
  },
  {
   "cell_type": "code",
   "execution_count": 22,
   "id": "accepting-brighton",
   "metadata": {
    "execution": {
     "iopub.execute_input": "2021-07-19T19:08:03.801816Z",
     "iopub.status.busy": "2021-07-19T19:08:03.801418Z",
     "iopub.status.idle": "2021-07-19T19:08:03.820515Z",
     "shell.execute_reply": "2021-07-19T19:08:03.820841Z"
    },
    "papermill": {
     "duration": 0.051245,
     "end_time": "2021-07-19T19:08:03.820948",
     "exception": false,
     "start_time": "2021-07-19T19:08:03.769703",
     "status": "completed"
    },
    "tags": []
   },
   "outputs": [
    {
     "data": {
      "text/plain": [
       "(463, 5)"
      ]
     },
     "metadata": {},
     "output_type": "display_data"
    },
    {
     "data": {
      "text/html": [
       "<div>\n",
       "<style scoped>\n",
       "    .dataframe tbody tr th:only-of-type {\n",
       "        vertical-align: middle;\n",
       "    }\n",
       "\n",
       "    .dataframe tbody tr th {\n",
       "        vertical-align: top;\n",
       "    }\n",
       "\n",
       "    .dataframe thead th {\n",
       "        text-align: right;\n",
       "    }\n",
       "</style>\n",
       "<table border=\"1\" class=\"dataframe\">\n",
       "  <thead>\n",
       "    <tr style=\"text-align: right;\">\n",
       "      <th></th>\n",
       "      <th>pathway</th>\n",
       "      <th>LV index</th>\n",
       "      <th>AUC</th>\n",
       "      <th>p-value</th>\n",
       "      <th>FDR</th>\n",
       "    </tr>\n",
       "  </thead>\n",
       "  <tbody>\n",
       "    <tr>\n",
       "      <th>2</th>\n",
       "      <td>REACTOME_MRNA_SPLICING</td>\n",
       "      <td>1</td>\n",
       "      <td>0.733057</td>\n",
       "      <td>4.772691e-05</td>\n",
       "      <td>5.816211e-04</td>\n",
       "    </tr>\n",
       "    <tr>\n",
       "      <th>3</th>\n",
       "      <td>MIPS_NOP56P_ASSOCIATED_PRE_RRNA_COMPLEX</td>\n",
       "      <td>1</td>\n",
       "      <td>0.680555</td>\n",
       "      <td>1.628217e-03</td>\n",
       "      <td>1.136590e-02</td>\n",
       "    </tr>\n",
       "    <tr>\n",
       "      <th>8</th>\n",
       "      <td>REACTOME_MITOTIC_G1_G1_S_PHASES</td>\n",
       "      <td>1</td>\n",
       "      <td>0.686170</td>\n",
       "      <td>2.517619e-04</td>\n",
       "      <td>2.392292e-03</td>\n",
       "    </tr>\n",
       "    <tr>\n",
       "      <th>9</th>\n",
       "      <td>IRIS_Monocyte-Day0</td>\n",
       "      <td>2</td>\n",
       "      <td>0.890036</td>\n",
       "      <td>4.315812e-25</td>\n",
       "      <td>1.329887e-22</td>\n",
       "    </tr>\n",
       "    <tr>\n",
       "      <th>10</th>\n",
       "      <td>DMAP_MONO2</td>\n",
       "      <td>2</td>\n",
       "      <td>0.904676</td>\n",
       "      <td>1.313970e-16</td>\n",
       "      <td>1.574574e-14</td>\n",
       "    </tr>\n",
       "  </tbody>\n",
       "</table>\n",
       "</div>"
      ],
      "text/plain": [
       "                                    pathway LV index       AUC       p-value  \\\n",
       "2                    REACTOME_MRNA_SPLICING        1  0.733057  4.772691e-05   \n",
       "3   MIPS_NOP56P_ASSOCIATED_PRE_RRNA_COMPLEX        1  0.680555  1.628217e-03   \n",
       "8           REACTOME_MITOTIC_G1_G1_S_PHASES        1  0.686170  2.517619e-04   \n",
       "9                        IRIS_Monocyte-Day0        2  0.890036  4.315812e-25   \n",
       "10                               DMAP_MONO2        2  0.904676  1.313970e-16   \n",
       "\n",
       "             FDR  \n",
       "2   5.816211e-04  \n",
       "3   1.136590e-02  \n",
       "8   2.392292e-03  \n",
       "9   1.329887e-22  \n",
       "10  1.574574e-14  "
      ]
     },
     "metadata": {},
     "output_type": "display_data"
    }
   ],
   "source": [
    "well_aligned_lvs = multiplier_model_summary[\n",
    "    (\n",
    "        multiplier_model_summary[\"FDR\"] < 0.05\n",
    "    )  # & (multiplier_model_summary[\"AUC\"] >= 0.75)\n",
    "]\n",
    "\n",
    "display(well_aligned_lvs.shape)\n",
    "display(well_aligned_lvs.head())"
   ]
  },
  {
   "cell_type": "code",
   "execution_count": 23,
   "id": "crude-ethics",
   "metadata": {
    "execution": {
     "iopub.execute_input": "2021-07-19T19:08:03.889432Z",
     "iopub.status.busy": "2021-07-19T19:08:03.889036Z",
     "iopub.status.idle": "2021-07-19T19:08:03.900559Z",
     "shell.execute_reply": "2021-07-19T19:08:03.900886Z"
    },
    "papermill": {
     "duration": 0.048842,
     "end_time": "2021-07-19T19:08:03.901001",
     "exception": false,
     "start_time": "2021-07-19T19:08:03.852159",
     "status": "completed"
    },
    "tags": []
   },
   "outputs": [],
   "source": [
    "well_aligned_lv_codes = set([f\"LV{lvi}\" for lvi in well_aligned_lvs[\"LV index\"]])"
   ]
  },
  {
   "cell_type": "code",
   "execution_count": 24,
   "id": "duplicate-delta",
   "metadata": {
    "execution": {
     "iopub.execute_input": "2021-07-19T19:08:03.966265Z",
     "iopub.status.busy": "2021-07-19T19:08:03.965895Z",
     "iopub.status.idle": "2021-07-19T19:08:03.977026Z",
     "shell.execute_reply": "2021-07-19T19:08:03.977321Z"
    },
    "papermill": {
     "duration": 0.043825,
     "end_time": "2021-07-19T19:08:03.977423",
     "exception": false,
     "start_time": "2021-07-19T19:08:03.933598",
     "status": "completed"
    },
    "tags": []
   },
   "outputs": [
    {
     "data": {
      "text/plain": [
       "199"
      ]
     },
     "execution_count": 24,
     "metadata": {},
     "output_type": "execute_result"
    }
   ],
   "source": [
    "len(well_aligned_lv_codes)"
   ]
  },
  {
   "cell_type": "code",
   "execution_count": 25,
   "id": "suitable-address",
   "metadata": {
    "execution": {
     "iopub.execute_input": "2021-07-19T19:08:04.040675Z",
     "iopub.status.busy": "2021-07-19T19:08:04.040303Z",
     "iopub.status.idle": "2021-07-19T19:08:04.051956Z",
     "shell.execute_reply": "2021-07-19T19:08:04.051589Z"
    },
    "papermill": {
     "duration": 0.044242,
     "end_time": "2021-07-19T19:08:04.052038",
     "exception": false,
     "start_time": "2021-07-19T19:08:04.007796",
     "status": "completed"
    },
    "tags": []
   },
   "outputs": [
    {
     "data": {
      "text/plain": [
       "['LV246', 'LV750', 'LV288', 'LV637', 'LV557']"
      ]
     },
     "execution_count": 25,
     "metadata": {},
     "output_type": "execute_result"
    }
   ],
   "source": [
    "list(well_aligned_lv_codes)[:5]"
   ]
  },
  {
   "cell_type": "markdown",
   "id": "indirect-gazette",
   "metadata": {
    "papermill": {
     "duration": 0.029865,
     "end_time": "2021-07-19T19:08:04.113265",
     "exception": false,
     "start_time": "2021-07-19T19:08:04.083400",
     "status": "completed"
    },
    "tags": []
   },
   "source": [
    "# Select LVs from CRISPR analysis"
   ]
  },
  {
   "cell_type": "code",
   "execution_count": 26,
   "id": "seasonal-trash",
   "metadata": {
    "execution": {
     "iopub.execute_input": "2021-07-19T19:08:04.176608Z",
     "iopub.status.busy": "2021-07-19T19:08:04.176242Z",
     "iopub.status.idle": "2021-07-19T19:08:04.192672Z",
     "shell.execute_reply": "2021-07-19T19:08:04.192293Z"
    },
    "papermill": {
     "duration": 0.049444,
     "end_time": "2021-07-19T19:08:04.192794",
     "exception": false,
     "start_time": "2021-07-19T19:08:04.143350",
     "status": "completed"
    },
    "tags": []
   },
   "outputs": [],
   "source": [
    "deg_enrich = pd.read_csv(\n",
    "    conf.RESULTS[\"CRISPR_ANALYSES\"][\"BASE_DIR\"],\n",
    "    \"fgsea-hi_conf-all_lvs.tsv\",\n",
    "    sep=\"\\t\",\n",
    ")"
   ]
  },
  {
   "cell_type": "code",
   "execution_count": 27,
   "id": "modular-contents",
   "metadata": {
    "execution": {
     "iopub.execute_input": "2021-07-19T19:08:04.256944Z",
     "iopub.status.busy": "2021-07-19T19:08:04.256457Z",
     "iopub.status.idle": "2021-07-19T19:08:04.268165Z",
     "shell.execute_reply": "2021-07-19T19:08:04.267793Z"
    },
    "papermill": {
     "duration": 0.044697,
     "end_time": "2021-07-19T19:08:04.268250",
     "exception": false,
     "start_time": "2021-07-19T19:08:04.223553",
     "status": "completed"
    },
    "tags": []
   },
   "outputs": [
    {
     "data": {
      "text/plain": [
       "(1974, 11)"
      ]
     },
     "execution_count": 27,
     "metadata": {},
     "output_type": "execute_result"
    }
   ],
   "source": [
    "deg_enrich.shape"
   ]
  },
  {
   "cell_type": "code",
   "execution_count": 28,
   "id": "artificial-ridge",
   "metadata": {
    "execution": {
     "iopub.execute_input": "2021-07-19T19:08:04.332485Z",
     "iopub.status.busy": "2021-07-19T19:08:04.332125Z",
     "iopub.status.idle": "2021-07-19T19:08:04.349529Z",
     "shell.execute_reply": "2021-07-19T19:08:04.349163Z"
    },
    "papermill": {
     "duration": 0.050141,
     "end_time": "2021-07-19T19:08:04.349614",
     "exception": false,
     "start_time": "2021-07-19T19:08:04.299473",
     "status": "completed"
    },
    "tags": []
   },
   "outputs": [
    {
     "data": {
      "text/html": [
       "<div>\n",
       "<style scoped>\n",
       "    .dataframe tbody tr th:only-of-type {\n",
       "        vertical-align: middle;\n",
       "    }\n",
       "\n",
       "    .dataframe tbody tr th {\n",
       "        vertical-align: top;\n",
       "    }\n",
       "\n",
       "    .dataframe thead th {\n",
       "        text-align: right;\n",
       "    }\n",
       "</style>\n",
       "<table border=\"1\" class=\"dataframe\">\n",
       "  <thead>\n",
       "    <tr style=\"text-align: right;\">\n",
       "      <th></th>\n",
       "      <th>pathway</th>\n",
       "      <th>pval</th>\n",
       "      <th>padj</th>\n",
       "      <th>log2err</th>\n",
       "      <th>ES</th>\n",
       "      <th>NES</th>\n",
       "      <th>size</th>\n",
       "      <th>leadingEdge</th>\n",
       "      <th>lv</th>\n",
       "      <th>rep_idx</th>\n",
       "      <th>fdr</th>\n",
       "    </tr>\n",
       "  </thead>\n",
       "  <tbody>\n",
       "    <tr>\n",
       "      <th>0</th>\n",
       "      <td>gene_set_decrease</td>\n",
       "      <td>0.116883</td>\n",
       "      <td>0.233766</td>\n",
       "      <td>0.125640</td>\n",
       "      <td>0.909509</td>\n",
       "      <td>1.237006</td>\n",
       "      <td>5</td>\n",
       "      <td>PCYT2, UBE2J2, FBXW7</td>\n",
       "      <td>LV1</td>\n",
       "      <td>8</td>\n",
       "      <td>0.967285</td>\n",
       "    </tr>\n",
       "    <tr>\n",
       "      <th>1</th>\n",
       "      <td>gene_set_increase</td>\n",
       "      <td>0.285714</td>\n",
       "      <td>0.285714</td>\n",
       "      <td>0.072180</td>\n",
       "      <td>0.840253</td>\n",
       "      <td>1.258282</td>\n",
       "      <td>3</td>\n",
       "      <td>ACACA, MBTPS1</td>\n",
       "      <td>LV1</td>\n",
       "      <td>2</td>\n",
       "      <td>0.967285</td>\n",
       "    </tr>\n",
       "    <tr>\n",
       "      <th>2</th>\n",
       "      <td>gene_set_decrease</td>\n",
       "      <td>0.741259</td>\n",
       "      <td>0.741259</td>\n",
       "      <td>0.026956</td>\n",
       "      <td>0.751964</td>\n",
       "      <td>1.005845</td>\n",
       "      <td>5</td>\n",
       "      <td>TCF7L2, UBE2J2, PTEN</td>\n",
       "      <td>LV10</td>\n",
       "      <td>10</td>\n",
       "      <td>0.967285</td>\n",
       "    </tr>\n",
       "    <tr>\n",
       "      <th>3</th>\n",
       "      <td>gene_set_increase</td>\n",
       "      <td>0.427572</td>\n",
       "      <td>0.720280</td>\n",
       "      <td>0.052805</td>\n",
       "      <td>0.814140</td>\n",
       "      <td>1.320263</td>\n",
       "      <td>3</td>\n",
       "      <td>MBTPS1, DGAT2</td>\n",
       "      <td>LV10</td>\n",
       "      <td>4</td>\n",
       "      <td>0.967285</td>\n",
       "    </tr>\n",
       "    <tr>\n",
       "      <th>4</th>\n",
       "      <td>gene_set_decrease</td>\n",
       "      <td>0.908092</td>\n",
       "      <td>0.908092</td>\n",
       "      <td>0.014514</td>\n",
       "      <td>0.540400</td>\n",
       "      <td>0.778719</td>\n",
       "      <td>5</td>\n",
       "      <td>PTEN, TCF7L2</td>\n",
       "      <td>LV100</td>\n",
       "      <td>1</td>\n",
       "      <td>0.974250</td>\n",
       "    </tr>\n",
       "  </tbody>\n",
       "</table>\n",
       "</div>"
      ],
      "text/plain": [
       "             pathway      pval      padj   log2err        ES       NES  size  \\\n",
       "0  gene_set_decrease  0.116883  0.233766  0.125640  0.909509  1.237006     5   \n",
       "1  gene_set_increase  0.285714  0.285714  0.072180  0.840253  1.258282     3   \n",
       "2  gene_set_decrease  0.741259  0.741259  0.026956  0.751964  1.005845     5   \n",
       "3  gene_set_increase  0.427572  0.720280  0.052805  0.814140  1.320263     3   \n",
       "4  gene_set_decrease  0.908092  0.908092  0.014514  0.540400  0.778719     5   \n",
       "\n",
       "            leadingEdge     lv  rep_idx       fdr  \n",
       "0  PCYT2, UBE2J2, FBXW7    LV1        8  0.967285  \n",
       "1         ACACA, MBTPS1    LV1        2  0.967285  \n",
       "2  TCF7L2, UBE2J2, PTEN   LV10       10  0.967285  \n",
       "3         MBTPS1, DGAT2   LV10        4  0.967285  \n",
       "4          PTEN, TCF7L2  LV100        1  0.974250  "
      ]
     },
     "execution_count": 28,
     "metadata": {},
     "output_type": "execute_result"
    }
   ],
   "source": [
    "deg_enrich.head()"
   ]
  },
  {
   "cell_type": "code",
   "execution_count": 31,
   "id": "attempted-price",
   "metadata": {
    "execution": {
     "iopub.execute_input": "2021-07-19T19:08:04.565090Z",
     "iopub.status.busy": "2021-07-19T19:08:04.564668Z",
     "iopub.status.idle": "2021-07-19T19:08:04.576626Z",
     "shell.execute_reply": "2021-07-19T19:08:04.576291Z"
    },
    "papermill": {
     "duration": 0.045744,
     "end_time": "2021-07-19T19:08:04.576754",
     "exception": false,
     "start_time": "2021-07-19T19:08:04.531010",
     "status": "completed"
    },
    "tags": []
   },
   "outputs": [],
   "source": [
    "deg_enrich = deg_enrich.assign(\n",
    "    lv_aligned=deg_enrich[\"lv\"].apply(lambda x: x in well_aligned_lv_codes)\n",
    ")"
   ]
  },
  {
   "cell_type": "code",
   "execution_count": 32,
   "id": "palestinian-classics",
   "metadata": {
    "execution": {
     "iopub.execute_input": "2021-07-19T19:08:04.665646Z",
     "iopub.status.busy": "2021-07-19T19:08:04.665272Z",
     "iopub.status.idle": "2021-07-19T19:08:04.676946Z",
     "shell.execute_reply": "2021-07-19T19:08:04.676609Z"
    },
    "papermill": {
     "duration": 0.050209,
     "end_time": "2021-07-19T19:08:04.677041",
     "exception": false,
     "start_time": "2021-07-19T19:08:04.626832",
     "status": "completed"
    },
    "tags": []
   },
   "outputs": [],
   "source": [
    "deg_enrich = deg_enrich[(deg_enrich[\"lv_aligned\"])]"
   ]
  },
  {
   "cell_type": "code",
   "execution_count": 33,
   "id": "bulgarian-contribution",
   "metadata": {
    "execution": {
     "iopub.execute_input": "2021-07-19T19:08:04.745394Z",
     "iopub.status.busy": "2021-07-19T19:08:04.745030Z",
     "iopub.status.idle": "2021-07-19T19:08:04.756508Z",
     "shell.execute_reply": "2021-07-19T19:08:04.756133Z"
    },
    "papermill": {
     "duration": 0.0452,
     "end_time": "2021-07-19T19:08:04.756593",
     "exception": false,
     "start_time": "2021-07-19T19:08:04.711393",
     "status": "completed"
    },
    "tags": []
   },
   "outputs": [
    {
     "data": {
      "text/plain": [
       "(398, 12)"
      ]
     },
     "execution_count": 33,
     "metadata": {},
     "output_type": "execute_result"
    }
   ],
   "source": [
    "deg_enrich.shape"
   ]
  },
  {
   "cell_type": "markdown",
   "id": "detected-nickname",
   "metadata": {
    "papermill": {
     "duration": 0.031239,
     "end_time": "2021-07-19T19:08:04.820729",
     "exception": false,
     "start_time": "2021-07-19T19:08:04.789490",
     "status": "completed"
    },
    "tags": []
   },
   "source": [
    "## Lipids-increasing gene sets"
   ]
  },
  {
   "cell_type": "code",
   "execution_count": 34,
   "id": "african-accommodation",
   "metadata": {
    "execution": {
     "iopub.execute_input": "2021-07-19T19:08:04.890156Z",
     "iopub.status.busy": "2021-07-19T19:08:04.889767Z",
     "iopub.status.idle": "2021-07-19T19:08:04.901932Z",
     "shell.execute_reply": "2021-07-19T19:08:04.902261Z"
    },
    "papermill": {
     "duration": 0.049737,
     "end_time": "2021-07-19T19:08:04.902377",
     "exception": false,
     "start_time": "2021-07-19T19:08:04.852640",
     "status": "completed"
    },
    "tags": []
   },
   "outputs": [],
   "source": [
    "deg_increase = deg_enrich[\n",
    "    deg_enrich[\"pathway\"].isin((\"gene_set_increase\",)) & (deg_enrich[\"pval\"] < 0.01)\n",
    "].sort_values(\"pval\", ascending=True)"
   ]
  },
  {
   "cell_type": "code",
   "execution_count": 35,
   "id": "sunrise-kitty",
   "metadata": {
    "execution": {
     "iopub.execute_input": "2021-07-19T19:08:04.971067Z",
     "iopub.status.busy": "2021-07-19T19:08:04.970705Z",
     "iopub.status.idle": "2021-07-19T19:08:04.982145Z",
     "shell.execute_reply": "2021-07-19T19:08:04.981768Z"
    },
    "papermill": {
     "duration": 0.045068,
     "end_time": "2021-07-19T19:08:04.982231",
     "exception": false,
     "start_time": "2021-07-19T19:08:04.937163",
     "status": "completed"
    },
    "tags": []
   },
   "outputs": [
    {
     "data": {
      "text/plain": [
       "(4, 12)"
      ]
     },
     "execution_count": 35,
     "metadata": {},
     "output_type": "execute_result"
    }
   ],
   "source": [
    "deg_increase.shape"
   ]
  },
  {
   "cell_type": "code",
   "execution_count": 36,
   "id": "surprising-external",
   "metadata": {
    "execution": {
     "iopub.execute_input": "2021-07-19T19:08:05.049827Z",
     "iopub.status.busy": "2021-07-19T19:08:05.049461Z",
     "iopub.status.idle": "2021-07-19T19:08:05.066859Z",
     "shell.execute_reply": "2021-07-19T19:08:05.066485Z"
    },
    "papermill": {
     "duration": 0.051621,
     "end_time": "2021-07-19T19:08:05.066946",
     "exception": false,
     "start_time": "2021-07-19T19:08:05.015325",
     "status": "completed"
    },
    "tags": []
   },
   "outputs": [
    {
     "data": {
      "text/html": [
       "<div>\n",
       "<style scoped>\n",
       "    .dataframe tbody tr th:only-of-type {\n",
       "        vertical-align: middle;\n",
       "    }\n",
       "\n",
       "    .dataframe tbody tr th {\n",
       "        vertical-align: top;\n",
       "    }\n",
       "\n",
       "    .dataframe thead th {\n",
       "        text-align: right;\n",
       "    }\n",
       "</style>\n",
       "<table border=\"1\" class=\"dataframe\">\n",
       "  <thead>\n",
       "    <tr style=\"text-align: right;\">\n",
       "      <th></th>\n",
       "      <th>pathway</th>\n",
       "      <th>pval</th>\n",
       "      <th>padj</th>\n",
       "      <th>log2err</th>\n",
       "      <th>ES</th>\n",
       "      <th>NES</th>\n",
       "      <th>size</th>\n",
       "      <th>leadingEdge</th>\n",
       "      <th>lv</th>\n",
       "      <th>rep_idx</th>\n",
       "      <th>fdr</th>\n",
       "      <th>lv_aligned</th>\n",
       "    </tr>\n",
       "  </thead>\n",
       "  <tbody>\n",
       "    <tr>\n",
       "      <th>327</th>\n",
       "      <td>gene_set_increase</td>\n",
       "      <td>0.003533</td>\n",
       "      <td>0.007067</td>\n",
       "      <td>0.431708</td>\n",
       "      <td>0.998221</td>\n",
       "      <td>1.582398</td>\n",
       "      <td>3</td>\n",
       "      <td>DGAT2, ACACA</td>\n",
       "      <td>LV246</td>\n",
       "      <td>6</td>\n",
       "      <td>0.967285</td>\n",
       "      <td>True</td>\n",
       "    </tr>\n",
       "    <tr>\n",
       "      <th>1129</th>\n",
       "      <td>gene_set_increase</td>\n",
       "      <td>0.005837</td>\n",
       "      <td>0.011675</td>\n",
       "      <td>0.407018</td>\n",
       "      <td>0.996739</td>\n",
       "      <td>1.510660</td>\n",
       "      <td>3</td>\n",
       "      <td>ACACA, DGAT2</td>\n",
       "      <td>LV607</td>\n",
       "      <td>10</td>\n",
       "      <td>0.967285</td>\n",
       "      <td>True</td>\n",
       "    </tr>\n",
       "    <tr>\n",
       "      <th>1423</th>\n",
       "      <td>gene_set_increase</td>\n",
       "      <td>0.007847</td>\n",
       "      <td>0.015693</td>\n",
       "      <td>0.380730</td>\n",
       "      <td>0.990514</td>\n",
       "      <td>1.474472</td>\n",
       "      <td>3</td>\n",
       "      <td>MBTPS1, DGAT2</td>\n",
       "      <td>LV74</td>\n",
       "      <td>6</td>\n",
       "      <td>0.967285</td>\n",
       "      <td>True</td>\n",
       "    </tr>\n",
       "    <tr>\n",
       "      <th>1701</th>\n",
       "      <td>gene_set_increase</td>\n",
       "      <td>0.009192</td>\n",
       "      <td>0.018383</td>\n",
       "      <td>0.380730</td>\n",
       "      <td>0.993627</td>\n",
       "      <td>1.457584</td>\n",
       "      <td>3</td>\n",
       "      <td>ACACA, DGAT2</td>\n",
       "      <td>LV865</td>\n",
       "      <td>10</td>\n",
       "      <td>0.967285</td>\n",
       "      <td>True</td>\n",
       "    </tr>\n",
       "  </tbody>\n",
       "</table>\n",
       "</div>"
      ],
      "text/plain": [
       "                pathway      pval      padj   log2err        ES       NES  \\\n",
       "327   gene_set_increase  0.003533  0.007067  0.431708  0.998221  1.582398   \n",
       "1129  gene_set_increase  0.005837  0.011675  0.407018  0.996739  1.510660   \n",
       "1423  gene_set_increase  0.007847  0.015693  0.380730  0.990514  1.474472   \n",
       "1701  gene_set_increase  0.009192  0.018383  0.380730  0.993627  1.457584   \n",
       "\n",
       "      size    leadingEdge     lv  rep_idx       fdr  lv_aligned  \n",
       "327      3   DGAT2, ACACA  LV246        6  0.967285        True  \n",
       "1129     3   ACACA, DGAT2  LV607       10  0.967285        True  \n",
       "1423     3  MBTPS1, DGAT2   LV74        6  0.967285        True  \n",
       "1701     3   ACACA, DGAT2  LV865       10  0.967285        True  "
      ]
     },
     "execution_count": 36,
     "metadata": {},
     "output_type": "execute_result"
    }
   ],
   "source": [
    "deg_increase.head()"
   ]
  },
  {
   "cell_type": "code",
   "execution_count": 37,
   "id": "efficient-occupation",
   "metadata": {
    "execution": {
     "iopub.execute_input": "2021-07-19T19:08:05.134822Z",
     "iopub.status.busy": "2021-07-19T19:08:05.134450Z",
     "iopub.status.idle": "2021-07-19T19:08:05.145539Z",
     "shell.execute_reply": "2021-07-19T19:08:05.145159Z"
    },
    "papermill": {
     "duration": 0.045364,
     "end_time": "2021-07-19T19:08:05.145629",
     "exception": false,
     "start_time": "2021-07-19T19:08:05.100265",
     "status": "completed"
    },
    "tags": []
   },
   "outputs": [],
   "source": [
    "lvs_increase = deg_increase[\"lv\"].unique()"
   ]
  },
  {
   "cell_type": "code",
   "execution_count": 38,
   "id": "turned-coach",
   "metadata": {
    "execution": {
     "iopub.execute_input": "2021-07-19T19:08:05.212631Z",
     "iopub.status.busy": "2021-07-19T19:08:05.212271Z",
     "iopub.status.idle": "2021-07-19T19:08:05.223555Z",
     "shell.execute_reply": "2021-07-19T19:08:05.223182Z"
    },
    "papermill": {
     "duration": 0.045389,
     "end_time": "2021-07-19T19:08:05.223642",
     "exception": false,
     "start_time": "2021-07-19T19:08:05.178253",
     "status": "completed"
    },
    "tags": []
   },
   "outputs": [
    {
     "data": {
      "text/plain": [
       "(4,)"
      ]
     },
     "execution_count": 38,
     "metadata": {},
     "output_type": "execute_result"
    }
   ],
   "source": [
    "lvs_increase.shape"
   ]
  },
  {
   "cell_type": "code",
   "execution_count": 39,
   "id": "scheduled-concord",
   "metadata": {
    "execution": {
     "iopub.execute_input": "2021-07-19T19:08:05.291353Z",
     "iopub.status.busy": "2021-07-19T19:08:05.290968Z",
     "iopub.status.idle": "2021-07-19T19:08:05.302190Z",
     "shell.execute_reply": "2021-07-19T19:08:05.301816Z"
    },
    "papermill": {
     "duration": 0.046278,
     "end_time": "2021-07-19T19:08:05.302275",
     "exception": false,
     "start_time": "2021-07-19T19:08:05.255997",
     "status": "completed"
    },
    "tags": []
   },
   "outputs": [
    {
     "data": {
      "text/plain": [
       "array(['LV246', 'LV607', 'LV74', 'LV865'], dtype=object)"
      ]
     },
     "execution_count": 39,
     "metadata": {},
     "output_type": "execute_result"
    }
   ],
   "source": [
    "lvs_increase"
   ]
  },
  {
   "cell_type": "markdown",
   "id": "congressional-competition",
   "metadata": {
    "papermill": {
     "duration": 0.032628,
     "end_time": "2021-07-19T19:08:05.367316",
     "exception": false,
     "start_time": "2021-07-19T19:08:05.334688",
     "status": "completed"
    },
    "tags": []
   },
   "source": [
    "## Lipids-decreasing gene sets"
   ]
  },
  {
   "cell_type": "code",
   "execution_count": 40,
   "id": "charged-rates",
   "metadata": {
    "execution": {
     "iopub.execute_input": "2021-07-19T19:08:05.434285Z",
     "iopub.status.busy": "2021-07-19T19:08:05.433920Z",
     "iopub.status.idle": "2021-07-19T19:08:05.445915Z",
     "shell.execute_reply": "2021-07-19T19:08:05.445517Z"
    },
    "papermill": {
     "duration": 0.046556,
     "end_time": "2021-07-19T19:08:05.446002",
     "exception": false,
     "start_time": "2021-07-19T19:08:05.399446",
     "status": "completed"
    },
    "tags": []
   },
   "outputs": [],
   "source": [
    "deg_decrease = deg_enrich[\n",
    "    deg_enrich[\"pathway\"].isin((\"gene_set_decrease\",)) & (deg_enrich[\"pval\"] < 0.01)\n",
    "].sort_values(\"pval\", ascending=True)"
   ]
  },
  {
   "cell_type": "code",
   "execution_count": 41,
   "id": "crazy-republic",
   "metadata": {
    "execution": {
     "iopub.execute_input": "2021-07-19T19:08:05.515226Z",
     "iopub.status.busy": "2021-07-19T19:08:05.514861Z",
     "iopub.status.idle": "2021-07-19T19:08:05.527022Z",
     "shell.execute_reply": "2021-07-19T19:08:05.526648Z"
    },
    "papermill": {
     "duration": 0.046785,
     "end_time": "2021-07-19T19:08:05.527110",
     "exception": false,
     "start_time": "2021-07-19T19:08:05.480325",
     "status": "completed"
    },
    "tags": []
   },
   "outputs": [
    {
     "data": {
      "text/plain": [
       "(2, 12)"
      ]
     },
     "execution_count": 41,
     "metadata": {},
     "output_type": "execute_result"
    }
   ],
   "source": [
    "deg_decrease.shape"
   ]
  },
  {
   "cell_type": "code",
   "execution_count": 42,
   "id": "rough-andorra",
   "metadata": {
    "execution": {
     "iopub.execute_input": "2021-07-19T19:08:05.596318Z",
     "iopub.status.busy": "2021-07-19T19:08:05.595952Z",
     "iopub.status.idle": "2021-07-19T19:08:05.612989Z",
     "shell.execute_reply": "2021-07-19T19:08:05.612576Z"
    },
    "papermill": {
     "duration": 0.05213,
     "end_time": "2021-07-19T19:08:05.613076",
     "exception": false,
     "start_time": "2021-07-19T19:08:05.560946",
     "status": "completed"
    },
    "tags": []
   },
   "outputs": [
    {
     "data": {
      "text/html": [
       "<div>\n",
       "<style scoped>\n",
       "    .dataframe tbody tr th:only-of-type {\n",
       "        vertical-align: middle;\n",
       "    }\n",
       "\n",
       "    .dataframe tbody tr th {\n",
       "        vertical-align: top;\n",
       "    }\n",
       "\n",
       "    .dataframe thead th {\n",
       "        text-align: right;\n",
       "    }\n",
       "</style>\n",
       "<table border=\"1\" class=\"dataframe\">\n",
       "  <thead>\n",
       "    <tr style=\"text-align: right;\">\n",
       "      <th></th>\n",
       "      <th>pathway</th>\n",
       "      <th>pval</th>\n",
       "      <th>padj</th>\n",
       "      <th>log2err</th>\n",
       "      <th>ES</th>\n",
       "      <th>NES</th>\n",
       "      <th>size</th>\n",
       "      <th>leadingEdge</th>\n",
       "      <th>lv</th>\n",
       "      <th>rep_idx</th>\n",
       "      <th>fdr</th>\n",
       "      <th>lv_aligned</th>\n",
       "    </tr>\n",
       "  </thead>\n",
       "  <tbody>\n",
       "    <tr>\n",
       "      <th>1140</th>\n",
       "      <td>gene_set_decrease</td>\n",
       "      <td>0.003570</td>\n",
       "      <td>0.007141</td>\n",
       "      <td>0.431708</td>\n",
       "      <td>0.999299</td>\n",
       "      <td>1.400503</td>\n",
       "      <td>5</td>\n",
       "      <td>PTEN, FBXW7</td>\n",
       "      <td>LV612</td>\n",
       "      <td>3</td>\n",
       "      <td>0.967285</td>\n",
       "      <td>True</td>\n",
       "    </tr>\n",
       "    <tr>\n",
       "      <th>1640</th>\n",
       "      <td>gene_set_decrease</td>\n",
       "      <td>0.006953</td>\n",
       "      <td>0.013906</td>\n",
       "      <td>0.407018</td>\n",
       "      <td>0.994070</td>\n",
       "      <td>1.374274</td>\n",
       "      <td>5</td>\n",
       "      <td>UBE2J2, TCF7L2</td>\n",
       "      <td>LV838</td>\n",
       "      <td>6</td>\n",
       "      <td>0.967285</td>\n",
       "      <td>True</td>\n",
       "    </tr>\n",
       "  </tbody>\n",
       "</table>\n",
       "</div>"
      ],
      "text/plain": [
       "                pathway      pval      padj   log2err        ES       NES  \\\n",
       "1140  gene_set_decrease  0.003570  0.007141  0.431708  0.999299  1.400503   \n",
       "1640  gene_set_decrease  0.006953  0.013906  0.407018  0.994070  1.374274   \n",
       "\n",
       "      size     leadingEdge     lv  rep_idx       fdr  lv_aligned  \n",
       "1140     5     PTEN, FBXW7  LV612        3  0.967285        True  \n",
       "1640     5  UBE2J2, TCF7L2  LV838        6  0.967285        True  "
      ]
     },
     "execution_count": 42,
     "metadata": {},
     "output_type": "execute_result"
    }
   ],
   "source": [
    "deg_decrease.head()"
   ]
  },
  {
   "cell_type": "code",
   "execution_count": 43,
   "id": "romantic-notice",
   "metadata": {
    "execution": {
     "iopub.execute_input": "2021-07-19T19:08:05.683220Z",
     "iopub.status.busy": "2021-07-19T19:08:05.682827Z",
     "iopub.status.idle": "2021-07-19T19:08:05.693320Z",
     "shell.execute_reply": "2021-07-19T19:08:05.693605Z"
    },
    "papermill": {
     "duration": 0.046192,
     "end_time": "2021-07-19T19:08:05.693713",
     "exception": false,
     "start_time": "2021-07-19T19:08:05.647521",
     "status": "completed"
    },
    "tags": []
   },
   "outputs": [],
   "source": [
    "lvs_decrease = deg_decrease[\"lv\"].unique()"
   ]
  },
  {
   "cell_type": "code",
   "execution_count": 44,
   "id": "qualified-vatican",
   "metadata": {
    "execution": {
     "iopub.execute_input": "2021-07-19T19:08:05.764144Z",
     "iopub.status.busy": "2021-07-19T19:08:05.763780Z",
     "iopub.status.idle": "2021-07-19T19:08:05.775097Z",
     "shell.execute_reply": "2021-07-19T19:08:05.774723Z"
    },
    "papermill": {
     "duration": 0.04665,
     "end_time": "2021-07-19T19:08:05.775181",
     "exception": false,
     "start_time": "2021-07-19T19:08:05.728531",
     "status": "completed"
    },
    "tags": []
   },
   "outputs": [
    {
     "data": {
      "text/plain": [
       "(2,)"
      ]
     },
     "execution_count": 44,
     "metadata": {},
     "output_type": "execute_result"
    }
   ],
   "source": [
    "lvs_decrease.shape"
   ]
  },
  {
   "cell_type": "code",
   "execution_count": 45,
   "id": "arranged-conservation",
   "metadata": {
    "execution": {
     "iopub.execute_input": "2021-07-19T19:08:05.846294Z",
     "iopub.status.busy": "2021-07-19T19:08:05.845933Z",
     "iopub.status.idle": "2021-07-19T19:08:05.857146Z",
     "shell.execute_reply": "2021-07-19T19:08:05.856772Z"
    },
    "papermill": {
     "duration": 0.047171,
     "end_time": "2021-07-19T19:08:05.857233",
     "exception": false,
     "start_time": "2021-07-19T19:08:05.810062",
     "status": "completed"
    },
    "tags": []
   },
   "outputs": [
    {
     "data": {
      "text/plain": [
       "array(['LV612', 'LV838'], dtype=object)"
      ]
     },
     "execution_count": 45,
     "metadata": {},
     "output_type": "execute_result"
    }
   ],
   "source": [
    "lvs_decrease"
   ]
  },
  {
   "cell_type": "markdown",
   "id": "functioning-pulse",
   "metadata": {
    "papermill": {
     "duration": 0.034117,
     "end_time": "2021-07-19T19:08:05.930794",
     "exception": false,
     "start_time": "2021-07-19T19:08:05.896677",
     "status": "completed"
    },
    "tags": []
   },
   "source": [
    "## Merge into one dataframe"
   ]
  },
  {
   "cell_type": "code",
   "execution_count": 46,
   "id": "ahead-sunrise",
   "metadata": {
    "execution": {
     "iopub.execute_input": "2021-07-19T19:08:06.001183Z",
     "iopub.status.busy": "2021-07-19T19:08:06.000801Z",
     "iopub.status.idle": "2021-07-19T19:08:06.012196Z",
     "shell.execute_reply": "2021-07-19T19:08:06.011823Z"
    },
    "papermill": {
     "duration": 0.047922,
     "end_time": "2021-07-19T19:08:06.012281",
     "exception": false,
     "start_time": "2021-07-19T19:08:05.964359",
     "status": "completed"
    },
    "tags": []
   },
   "outputs": [],
   "source": [
    "_tmp0 = pd.DataFrame({\"lv\": lvs_increase, \"lv_set\": \"lipids-increasing\"})\n",
    "\n",
    "_tmp1 = pd.DataFrame({\"lv\": lvs_decrease, \"lv_set\": \"lipids-decreasing\"})"
   ]
  },
  {
   "cell_type": "code",
   "execution_count": 47,
   "id": "altered-token",
   "metadata": {
    "execution": {
     "iopub.execute_input": "2021-07-19T19:08:06.082883Z",
     "iopub.status.busy": "2021-07-19T19:08:06.082519Z",
     "iopub.status.idle": "2021-07-19T19:08:06.093492Z",
     "shell.execute_reply": "2021-07-19T19:08:06.093165Z"
    },
    "papermill": {
     "duration": 0.046982,
     "end_time": "2021-07-19T19:08:06.093578",
     "exception": false,
     "start_time": "2021-07-19T19:08:06.046596",
     "status": "completed"
    },
    "tags": []
   },
   "outputs": [],
   "source": [
    "gls_selected_lvs = pd.concat([_tmp0, _tmp1], ignore_index=True)"
   ]
  },
  {
   "cell_type": "code",
   "execution_count": 48,
   "id": "complete-property",
   "metadata": {
    "execution": {
     "iopub.execute_input": "2021-07-19T19:08:06.164522Z",
     "iopub.status.busy": "2021-07-19T19:08:06.164159Z",
     "iopub.status.idle": "2021-07-19T19:08:06.175708Z",
     "shell.execute_reply": "2021-07-19T19:08:06.175393Z"
    },
    "papermill": {
     "duration": 0.047966,
     "end_time": "2021-07-19T19:08:06.175792",
     "exception": false,
     "start_time": "2021-07-19T19:08:06.127826",
     "status": "completed"
    },
    "tags": []
   },
   "outputs": [
    {
     "data": {
      "text/plain": [
       "(6, 2)"
      ]
     },
     "execution_count": 48,
     "metadata": {},
     "output_type": "execute_result"
    }
   ],
   "source": [
    "gls_selected_lvs.shape"
   ]
  },
  {
   "cell_type": "code",
   "execution_count": 49,
   "id": "supposed-definition",
   "metadata": {
    "execution": {
     "iopub.execute_input": "2021-07-19T19:08:06.246950Z",
     "iopub.status.busy": "2021-07-19T19:08:06.246579Z",
     "iopub.status.idle": "2021-07-19T19:08:06.260438Z",
     "shell.execute_reply": "2021-07-19T19:08:06.260044Z"
    },
    "papermill": {
     "duration": 0.050712,
     "end_time": "2021-07-19T19:08:06.260535",
     "exception": false,
     "start_time": "2021-07-19T19:08:06.209823",
     "status": "completed"
    },
    "tags": []
   },
   "outputs": [
    {
     "data": {
      "text/html": [
       "<div>\n",
       "<style scoped>\n",
       "    .dataframe tbody tr th:only-of-type {\n",
       "        vertical-align: middle;\n",
       "    }\n",
       "\n",
       "    .dataframe tbody tr th {\n",
       "        vertical-align: top;\n",
       "    }\n",
       "\n",
       "    .dataframe thead th {\n",
       "        text-align: right;\n",
       "    }\n",
       "</style>\n",
       "<table border=\"1\" class=\"dataframe\">\n",
       "  <thead>\n",
       "    <tr style=\"text-align: right;\">\n",
       "      <th></th>\n",
       "      <th>lv</th>\n",
       "      <th>lv_set</th>\n",
       "    </tr>\n",
       "  </thead>\n",
       "  <tbody>\n",
       "    <tr>\n",
       "      <th>0</th>\n",
       "      <td>LV246</td>\n",
       "      <td>lipids-increasing</td>\n",
       "    </tr>\n",
       "    <tr>\n",
       "      <th>1</th>\n",
       "      <td>LV607</td>\n",
       "      <td>lipids-increasing</td>\n",
       "    </tr>\n",
       "    <tr>\n",
       "      <th>2</th>\n",
       "      <td>LV74</td>\n",
       "      <td>lipids-increasing</td>\n",
       "    </tr>\n",
       "    <tr>\n",
       "      <th>3</th>\n",
       "      <td>LV865</td>\n",
       "      <td>lipids-increasing</td>\n",
       "    </tr>\n",
       "    <tr>\n",
       "      <th>4</th>\n",
       "      <td>LV612</td>\n",
       "      <td>lipids-decreasing</td>\n",
       "    </tr>\n",
       "  </tbody>\n",
       "</table>\n",
       "</div>"
      ],
      "text/plain": [
       "      lv             lv_set\n",
       "0  LV246  lipids-increasing\n",
       "1  LV607  lipids-increasing\n",
       "2   LV74  lipids-increasing\n",
       "3  LV865  lipids-increasing\n",
       "4  LV612  lipids-decreasing"
      ]
     },
     "execution_count": 49,
     "metadata": {},
     "output_type": "execute_result"
    }
   ],
   "source": [
    "gls_selected_lvs.head()"
   ]
  },
  {
   "cell_type": "markdown",
   "id": "numeric-assignment",
   "metadata": {
    "papermill": {
     "duration": 0.034035,
     "end_time": "2021-07-19T19:08:06.329760",
     "exception": false,
     "start_time": "2021-07-19T19:08:06.295725",
     "status": "completed"
    },
    "tags": []
   },
   "source": [
    "# Select traits from main clusters"
   ]
  },
  {
   "cell_type": "markdown",
   "id": "alleged-sustainability",
   "metadata": {
    "papermill": {
     "duration": 0.033975,
     "end_time": "2021-07-19T19:08:06.397729",
     "exception": false,
     "start_time": "2021-07-19T19:08:06.363754",
     "status": "completed"
    },
    "tags": []
   },
   "source": [
    "For this run on the LVs related to the lipids CRISPR analysis, I'm only interested in the main clusters of the cardiovascular sub-branch."
   ]
  },
  {
   "cell_type": "code",
   "execution_count": 50,
   "id": "thermal-dover",
   "metadata": {
    "execution": {
     "iopub.execute_input": "2021-07-19T19:08:06.468952Z",
     "iopub.status.busy": "2021-07-19T19:08:06.468533Z",
     "iopub.status.idle": "2021-07-19T19:08:06.479576Z",
     "shell.execute_reply": "2021-07-19T19:08:06.479171Z"
    },
    "papermill": {
     "duration": 0.047501,
     "end_time": "2021-07-19T19:08:06.479675",
     "exception": false,
     "start_time": "2021-07-19T19:08:06.432174",
     "status": "completed"
    },
    "tags": []
   },
   "outputs": [],
   "source": [
    "k = 29"
   ]
  },
  {
   "cell_type": "code",
   "execution_count": 51,
   "id": "engaged-strike",
   "metadata": {
    "execution": {
     "iopub.execute_input": "2021-07-19T19:08:06.557633Z",
     "iopub.status.busy": "2021-07-19T19:08:06.557257Z",
     "iopub.status.idle": "2021-07-19T19:08:06.568439Z",
     "shell.execute_reply": "2021-07-19T19:08:06.568059Z"
    },
    "papermill": {
     "duration": 0.048844,
     "end_time": "2021-07-19T19:08:06.568525",
     "exception": false,
     "start_time": "2021-07-19T19:08:06.519681",
     "status": "completed"
    },
    "tags": []
   },
   "outputs": [],
   "source": [
    "part29 = pd.Series(best_partitions.loc[k, \"partition\"])"
   ]
  },
  {
   "cell_type": "code",
   "execution_count": 52,
   "id": "united-lesson",
   "metadata": {
    "execution": {
     "iopub.execute_input": "2021-07-19T19:08:06.640848Z",
     "iopub.status.busy": "2021-07-19T19:08:06.640439Z",
     "iopub.status.idle": "2021-07-19T19:08:06.653183Z",
     "shell.execute_reply": "2021-07-19T19:08:06.652815Z"
    },
    "papermill": {
     "duration": 0.049727,
     "end_time": "2021-07-19T19:08:06.653269",
     "exception": false,
     "start_time": "2021-07-19T19:08:06.603542",
     "status": "completed"
    },
    "tags": []
   },
   "outputs": [
    {
     "data": {
      "text/plain": [
       "0     3293\n",
       "28     135\n",
       "25      87\n",
       "27      47\n",
       "20      18\n",
       "19      17\n",
       "22      15\n",
       "17      14\n",
       "18      13\n",
       "15      12\n",
       "13      10\n",
       "14       9\n",
       "9        8\n",
       "10       8\n",
       "6        7\n",
       "21       7\n",
       "16       6\n",
       "11       6\n",
       "4        6\n",
       "1        5\n",
       "12       5\n",
       "2        4\n",
       "3        4\n",
       "5        4\n",
       "24       3\n",
       "7        3\n",
       "8        3\n",
       "26       2\n",
       "23       1\n",
       "dtype: int64"
      ]
     },
     "execution_count": 52,
     "metadata": {},
     "output_type": "execute_result"
    }
   ],
   "source": [
    "part29.value_counts()"
   ]
  },
  {
   "cell_type": "code",
   "execution_count": 53,
   "id": "breeding-sacrifice",
   "metadata": {
    "execution": {
     "iopub.execute_input": "2021-07-19T19:08:06.727523Z",
     "iopub.status.busy": "2021-07-19T19:08:06.727160Z",
     "iopub.status.idle": "2021-07-19T19:08:06.737806Z",
     "shell.execute_reply": "2021-07-19T19:08:06.737416Z"
    },
    "papermill": {
     "duration": 0.048124,
     "end_time": "2021-07-19T19:08:06.737894",
     "exception": false,
     "start_time": "2021-07-19T19:08:06.689770",
     "status": "completed"
    },
    "tags": []
   },
   "outputs": [],
   "source": [
    "part29_clusters = part29.unique()"
   ]
  },
  {
   "cell_type": "code",
   "execution_count": 54,
   "id": "gorgeous-channels",
   "metadata": {
    "execution": {
     "iopub.execute_input": "2021-07-19T19:08:06.811485Z",
     "iopub.status.busy": "2021-07-19T19:08:06.811110Z",
     "iopub.status.idle": "2021-07-19T19:08:06.822821Z",
     "shell.execute_reply": "2021-07-19T19:08:06.822437Z"
    },
    "papermill": {
     "duration": 0.048343,
     "end_time": "2021-07-19T19:08:06.822909",
     "exception": false,
     "start_time": "2021-07-19T19:08:06.774566",
     "status": "completed"
    },
    "tags": []
   },
   "outputs": [
    {
     "data": {
      "text/plain": [
       "array([ 0, 22, 28,  6, 17, 13, 19, 27, 18, 20,  9,  5,  2, 23,  1, 12,  7,\n",
       "        3, 24,  4, 15, 25, 10, 14, 21, 16,  8, 11, 26], dtype=int32)"
      ]
     },
     "execution_count": 54,
     "metadata": {},
     "output_type": "execute_result"
    }
   ],
   "source": [
    "part29_clusters"
   ]
  },
  {
   "cell_type": "code",
   "execution_count": 55,
   "id": "dental-pendant",
   "metadata": {
    "execution": {
     "iopub.execute_input": "2021-07-19T19:08:06.895794Z",
     "iopub.status.busy": "2021-07-19T19:08:06.895433Z",
     "iopub.status.idle": "2021-07-19T19:08:06.908037Z",
     "shell.execute_reply": "2021-07-19T19:08:06.907665Z"
    },
    "papermill": {
     "duration": 0.049524,
     "end_time": "2021-07-19T19:08:06.908122",
     "exception": false,
     "start_time": "2021-07-19T19:08:06.858598",
     "status": "completed"
    },
    "tags": []
   },
   "outputs": [
    {
     "data": {
      "text/plain": [
       "459"
      ]
     },
     "execution_count": 55,
     "metadata": {},
     "output_type": "execute_result"
    }
   ],
   "source": [
    "# number of traits?\n",
    "part29.value_counts().loc[[x for x in part29_clusters if x not in (0,)]].sum()"
   ]
  },
  {
   "cell_type": "code",
   "execution_count": 56,
   "id": "exotic-stereo",
   "metadata": {
    "execution": {
     "iopub.execute_input": "2021-07-19T19:08:06.980912Z",
     "iopub.status.busy": "2021-07-19T19:08:06.980499Z",
     "iopub.status.idle": "2021-07-19T19:08:06.991142Z",
     "shell.execute_reply": "2021-07-19T19:08:06.990763Z"
    },
    "papermill": {
     "duration": 0.047872,
     "end_time": "2021-07-19T19:08:06.991228",
     "exception": false,
     "start_time": "2021-07-19T19:08:06.943356",
     "status": "completed"
    },
    "tags": []
   },
   "outputs": [],
   "source": [
    "# I only exclude the cluster labeled as 0, which has the \"not-clustered\" traits.\n",
    "PHENOTYPES_CONFIG = [(k, x) for x in part29_clusters if x not in (0,)]"
   ]
  },
  {
   "cell_type": "markdown",
   "id": "another-increase",
   "metadata": {
    "papermill": {
     "duration": 0.03531,
     "end_time": "2021-07-19T19:08:07.062205",
     "exception": false,
     "start_time": "2021-07-19T19:08:07.026895",
     "status": "completed"
    },
    "tags": []
   },
   "source": [
    "# GLSPhenoplier"
   ]
  },
  {
   "cell_type": "markdown",
   "id": "mechanical-reporter",
   "metadata": {
    "papermill": {
     "duration": 0.034742,
     "end_time": "2021-07-19T19:08:07.132374",
     "exception": false,
     "start_time": "2021-07-19T19:08:07.097632",
     "status": "completed"
    },
    "tags": []
   },
   "source": [
    "## Get list of phenotypes/lvs pairs"
   ]
  },
  {
   "cell_type": "code",
   "execution_count": 57,
   "id": "hindu-thomas",
   "metadata": {
    "execution": {
     "iopub.execute_input": "2021-07-19T19:08:07.206824Z",
     "iopub.status.busy": "2021-07-19T19:08:07.206452Z",
     "iopub.status.idle": "2021-07-19T19:08:07.439067Z",
     "shell.execute_reply": "2021-07-19T19:08:07.438681Z"
    },
    "papermill": {
     "duration": 0.271665,
     "end_time": "2021-07-19T19:08:07.439155",
     "exception": false,
     "start_time": "2021-07-19T19:08:07.167490",
     "status": "completed"
    },
    "tags": []
   },
   "outputs": [],
   "source": [
    "phenotypes_lvs_pairs = []\n",
    "\n",
    "for part_k, cluster_id in PHENOTYPES_CONFIG:\n",
    "    # get traits from the partition/cluster\n",
    "    part = best_partitions.loc[part_k, \"partition\"]\n",
    "    cluster_traits = data.index[part == cluster_id]\n",
    "\n",
    "    for phenotype_code in cluster_traits:\n",
    "        for idx, lv_row in gls_selected_lvs.iterrows():\n",
    "            phenotypes_lvs_pairs.append(\n",
    "                {\n",
    "                    \"phenotype_part_k\": part_k,\n",
    "                    \"phenotype_cluster_id\": cluster_id,\n",
    "                    \"phenotype\": phenotype_code,\n",
    "                    \"lv\": lv_row[\"lv\"],\n",
    "                    \"lv_set\": lv_row[\"lv_set\"],\n",
    "                }\n",
    "            )\n",
    "\n",
    "phenotypes_lvs_pairs = pd.DataFrame(phenotypes_lvs_pairs).drop_duplicates()"
   ]
  },
  {
   "cell_type": "code",
   "execution_count": 58,
   "id": "local-rapid",
   "metadata": {
    "execution": {
     "iopub.execute_input": "2021-07-19T19:08:07.512247Z",
     "iopub.status.busy": "2021-07-19T19:08:07.511882Z",
     "iopub.status.idle": "2021-07-19T19:08:07.531578Z",
     "shell.execute_reply": "2021-07-19T19:08:07.531192Z"
    },
    "papermill": {
     "duration": 0.056671,
     "end_time": "2021-07-19T19:08:07.531665",
     "exception": false,
     "start_time": "2021-07-19T19:08:07.474994",
     "status": "completed"
    },
    "tags": []
   },
   "outputs": [],
   "source": [
    "phenotypes_lvs_pairs = phenotypes_lvs_pairs.sort_values(\n",
    "    [\"phenotype\", \"lv\"]\n",
    ").reset_index(drop=True)"
   ]
  },
  {
   "cell_type": "code",
   "execution_count": 59,
   "id": "patent-parameter",
   "metadata": {
    "execution": {
     "iopub.execute_input": "2021-07-19T19:08:07.606574Z",
     "iopub.status.busy": "2021-07-19T19:08:07.606207Z",
     "iopub.status.idle": "2021-07-19T19:08:07.617850Z",
     "shell.execute_reply": "2021-07-19T19:08:07.617475Z"
    },
    "papermill": {
     "duration": 0.049572,
     "end_time": "2021-07-19T19:08:07.617936",
     "exception": false,
     "start_time": "2021-07-19T19:08:07.568364",
     "status": "completed"
    },
    "tags": []
   },
   "outputs": [
    {
     "data": {
      "text/plain": [
       "(2754, 5)"
      ]
     },
     "execution_count": 59,
     "metadata": {},
     "output_type": "execute_result"
    }
   ],
   "source": [
    "phenotypes_lvs_pairs.shape"
   ]
  },
  {
   "cell_type": "code",
   "execution_count": 60,
   "id": "negative-momentum",
   "metadata": {
    "execution": {
     "iopub.execute_input": "2021-07-19T19:08:07.693384Z",
     "iopub.status.busy": "2021-07-19T19:08:07.693010Z",
     "iopub.status.idle": "2021-07-19T19:08:07.707476Z",
     "shell.execute_reply": "2021-07-19T19:08:07.707166Z"
    },
    "papermill": {
     "duration": 0.052744,
     "end_time": "2021-07-19T19:08:07.707565",
     "exception": false,
     "start_time": "2021-07-19T19:08:07.654821",
     "status": "completed"
    },
    "tags": []
   },
   "outputs": [
    {
     "data": {
      "text/html": [
       "<div>\n",
       "<style scoped>\n",
       "    .dataframe tbody tr th:only-of-type {\n",
       "        vertical-align: middle;\n",
       "    }\n",
       "\n",
       "    .dataframe tbody tr th {\n",
       "        vertical-align: top;\n",
       "    }\n",
       "\n",
       "    .dataframe thead th {\n",
       "        text-align: right;\n",
       "    }\n",
       "</style>\n",
       "<table border=\"1\" class=\"dataframe\">\n",
       "  <thead>\n",
       "    <tr style=\"text-align: right;\">\n",
       "      <th></th>\n",
       "      <th>phenotype_part_k</th>\n",
       "      <th>phenotype_cluster_id</th>\n",
       "      <th>phenotype</th>\n",
       "      <th>lv</th>\n",
       "      <th>lv_set</th>\n",
       "    </tr>\n",
       "  </thead>\n",
       "  <tbody>\n",
       "    <tr>\n",
       "      <th>0</th>\n",
       "      <td>29</td>\n",
       "      <td>22</td>\n",
       "      <td>100002_raw-Energy</td>\n",
       "      <td>LV246</td>\n",
       "      <td>lipids-increasing</td>\n",
       "    </tr>\n",
       "    <tr>\n",
       "      <th>1</th>\n",
       "      <td>29</td>\n",
       "      <td>22</td>\n",
       "      <td>100002_raw-Energy</td>\n",
       "      <td>LV607</td>\n",
       "      <td>lipids-increasing</td>\n",
       "    </tr>\n",
       "    <tr>\n",
       "      <th>2</th>\n",
       "      <td>29</td>\n",
       "      <td>22</td>\n",
       "      <td>100002_raw-Energy</td>\n",
       "      <td>LV612</td>\n",
       "      <td>lipids-decreasing</td>\n",
       "    </tr>\n",
       "    <tr>\n",
       "      <th>3</th>\n",
       "      <td>29</td>\n",
       "      <td>22</td>\n",
       "      <td>100002_raw-Energy</td>\n",
       "      <td>LV74</td>\n",
       "      <td>lipids-increasing</td>\n",
       "    </tr>\n",
       "    <tr>\n",
       "      <th>4</th>\n",
       "      <td>29</td>\n",
       "      <td>22</td>\n",
       "      <td>100002_raw-Energy</td>\n",
       "      <td>LV838</td>\n",
       "      <td>lipids-decreasing</td>\n",
       "    </tr>\n",
       "  </tbody>\n",
       "</table>\n",
       "</div>"
      ],
      "text/plain": [
       "   phenotype_part_k  phenotype_cluster_id          phenotype     lv  \\\n",
       "0                29                    22  100002_raw-Energy  LV246   \n",
       "1                29                    22  100002_raw-Energy  LV607   \n",
       "2                29                    22  100002_raw-Energy  LV612   \n",
       "3                29                    22  100002_raw-Energy   LV74   \n",
       "4                29                    22  100002_raw-Energy  LV838   \n",
       "\n",
       "              lv_set  \n",
       "0  lipids-increasing  \n",
       "1  lipids-increasing  \n",
       "2  lipids-decreasing  \n",
       "3  lipids-increasing  \n",
       "4  lipids-decreasing  "
      ]
     },
     "execution_count": 60,
     "metadata": {},
     "output_type": "execute_result"
    }
   ],
   "source": [
    "phenotypes_lvs_pairs.head()"
   ]
  },
  {
   "cell_type": "markdown",
   "id": "million-bonus",
   "metadata": {
    "papermill": {
     "duration": 0.040802,
     "end_time": "2021-07-19T19:08:07.789511",
     "exception": false,
     "start_time": "2021-07-19T19:08:07.748709",
     "status": "completed"
    },
    "tags": []
   },
   "source": [
    "## Run"
   ]
  },
  {
   "cell_type": "code",
   "execution_count": 61,
   "id": "coupled-worker",
   "metadata": {
    "execution": {
     "iopub.execute_input": "2021-07-19T19:08:07.865823Z",
     "iopub.status.busy": "2021-07-19T19:08:07.865426Z",
     "iopub.status.idle": "2021-07-20T02:19:33.566403Z",
     "shell.execute_reply": "2021-07-20T02:19:33.566702Z"
    },
    "papermill": {
     "duration": 25885.741122,
     "end_time": "2021-07-20T02:19:33.566816",
     "exception": false,
     "start_time": "2021-07-19T19:08:07.825694",
     "status": "completed"
    },
    "tags": []
   },
   "outputs": [
    {
     "name": "stderr",
     "output_type": "stream",
     "text": [
      "worry measurement - LV865: 100%|██████████| 2754/2754 [7:11:25<00:00,  9.40s/it]\n"
     ]
    }
   ],
   "source": [
    "results = []\n",
    "\n",
    "pbar = tqdm(total=phenotypes_lvs_pairs.shape[0])\n",
    "\n",
    "for idx, row in phenotypes_lvs_pairs.iterrows():\n",
    "    phenotype_code = row[\"phenotype\"]\n",
    "    lv_code = row[\"lv\"]\n",
    "\n",
    "    pbar.set_description(f\"{phenotype_code} - {lv_code}\")\n",
    "\n",
    "    gls_model = GLSPhenoplier(\n",
    "        smultixcan_result_set_filepath=conf.PHENOMEXCAN[\n",
    "            \"SMULTIXCAN_EFO_PARTIAL_MASHR_ZSCORES_FILE\"\n",
    "        ]\n",
    "    )\n",
    "    gls_model.fit_named(lv_code, phenotype_code)\n",
    "    res = gls_model.results\n",
    "\n",
    "    results.append(\n",
    "        {\n",
    "            \"part_k\": row[\"phenotype_part_k\"],\n",
    "            \"cluster_id\": row[\"phenotype_cluster_id\"],\n",
    "            \"phenotype\": phenotype_code,\n",
    "            \"lv\": lv_code,\n",
    "            \"lv_set\": row[\"lv_set\"],\n",
    "            \"lv_with_pathway\": lv_code in well_aligned_lv_codes,\n",
    "            \"coef\": res.params.loc[\"lv\"],\n",
    "            \"pvalue\": res.pvalues_onesided.loc[\"lv\"],\n",
    "            \"pvalue_twosided\": res.pvalues.loc[\"lv\"],\n",
    "            \"summary\": gls_model.results_summary,\n",
    "        }\n",
    "    )\n",
    "\n",
    "    # save results every 10 models trained\n",
    "    if (idx % 10) == 0:\n",
    "        pd.DataFrame(results).to_pickle(OUTPUT_FILENAME)\n",
    "\n",
    "    pbar.update(1)\n",
    "\n",
    "pbar.close()"
   ]
  },
  {
   "cell_type": "code",
   "execution_count": 62,
   "id": "bored-asian",
   "metadata": {
    "execution": {
     "iopub.execute_input": "2021-07-20T02:19:35.437702Z",
     "iopub.status.busy": "2021-07-20T02:19:35.437197Z",
     "iopub.status.idle": "2021-07-20T02:19:35.457082Z",
     "shell.execute_reply": "2021-07-20T02:19:35.456604Z"
    },
    "papermill": {
     "duration": 0.992287,
     "end_time": "2021-07-20T02:19:35.457187",
     "exception": false,
     "start_time": "2021-07-20T02:19:34.464900",
     "status": "completed"
    },
    "tags": []
   },
   "outputs": [],
   "source": [
    "results = pd.DataFrame(results)"
   ]
  },
  {
   "cell_type": "code",
   "execution_count": 63,
   "id": "speaking-sunglasses",
   "metadata": {
    "execution": {
     "iopub.execute_input": "2021-07-20T02:19:37.257218Z",
     "iopub.status.busy": "2021-07-20T02:19:37.256848Z",
     "iopub.status.idle": "2021-07-20T02:19:37.268743Z",
     "shell.execute_reply": "2021-07-20T02:19:37.268372Z"
    },
    "papermill": {
     "duration": 0.915693,
     "end_time": "2021-07-20T02:19:37.268834",
     "exception": false,
     "start_time": "2021-07-20T02:19:36.353141",
     "status": "completed"
    },
    "tags": []
   },
   "outputs": [
    {
     "data": {
      "text/plain": [
       "(2754, 10)"
      ]
     },
     "execution_count": 63,
     "metadata": {},
     "output_type": "execute_result"
    }
   ],
   "source": [
    "results.shape"
   ]
  },
  {
   "cell_type": "code",
   "execution_count": 64,
   "id": "opponent-imagination",
   "metadata": {
    "execution": {
     "iopub.execute_input": "2021-07-20T02:19:39.080056Z",
     "iopub.status.busy": "2021-07-20T02:19:39.079694Z",
     "iopub.status.idle": "2021-07-20T02:19:39.113663Z",
     "shell.execute_reply": "2021-07-20T02:19:39.113359Z"
    },
    "papermill": {
     "duration": 0.938996,
     "end_time": "2021-07-20T02:19:39.113751",
     "exception": false,
     "start_time": "2021-07-20T02:19:38.174755",
     "status": "completed"
    },
    "tags": []
   },
   "outputs": [
    {
     "data": {
      "text/html": [
       "<div>\n",
       "<style scoped>\n",
       "    .dataframe tbody tr th:only-of-type {\n",
       "        vertical-align: middle;\n",
       "    }\n",
       "\n",
       "    .dataframe tbody tr th {\n",
       "        vertical-align: top;\n",
       "    }\n",
       "\n",
       "    .dataframe thead th {\n",
       "        text-align: right;\n",
       "    }\n",
       "</style>\n",
       "<table border=\"1\" class=\"dataframe\">\n",
       "  <thead>\n",
       "    <tr style=\"text-align: right;\">\n",
       "      <th></th>\n",
       "      <th>part_k</th>\n",
       "      <th>cluster_id</th>\n",
       "      <th>phenotype</th>\n",
       "      <th>lv</th>\n",
       "      <th>lv_set</th>\n",
       "      <th>lv_with_pathway</th>\n",
       "      <th>coef</th>\n",
       "      <th>pvalue</th>\n",
       "      <th>pvalue_twosided</th>\n",
       "      <th>summary</th>\n",
       "    </tr>\n",
       "  </thead>\n",
       "  <tbody>\n",
       "    <tr>\n",
       "      <th>0</th>\n",
       "      <td>29</td>\n",
       "      <td>22</td>\n",
       "      <td>100002_raw-Energy</td>\n",
       "      <td>LV246</td>\n",
       "      <td>lipids-increasing</td>\n",
       "      <td>True</td>\n",
       "      <td>0.002401</td>\n",
       "      <td>0.424213</td>\n",
       "      <td>0.848425</td>\n",
       "      <td>GLS Regression Res...</td>\n",
       "    </tr>\n",
       "    <tr>\n",
       "      <th>1</th>\n",
       "      <td>29</td>\n",
       "      <td>22</td>\n",
       "      <td>100002_raw-Energy</td>\n",
       "      <td>LV607</td>\n",
       "      <td>lipids-increasing</td>\n",
       "      <td>True</td>\n",
       "      <td>-0.006323</td>\n",
       "      <td>0.691499</td>\n",
       "      <td>0.617002</td>\n",
       "      <td>GLS Regression Res...</td>\n",
       "    </tr>\n",
       "    <tr>\n",
       "      <th>2</th>\n",
       "      <td>29</td>\n",
       "      <td>22</td>\n",
       "      <td>100002_raw-Energy</td>\n",
       "      <td>LV612</td>\n",
       "      <td>lipids-decreasing</td>\n",
       "      <td>True</td>\n",
       "      <td>-0.000822</td>\n",
       "      <td>0.525786</td>\n",
       "      <td>0.948428</td>\n",
       "      <td>GLS Regression Res...</td>\n",
       "    </tr>\n",
       "    <tr>\n",
       "      <th>3</th>\n",
       "      <td>29</td>\n",
       "      <td>22</td>\n",
       "      <td>100002_raw-Energy</td>\n",
       "      <td>LV74</td>\n",
       "      <td>lipids-increasing</td>\n",
       "      <td>True</td>\n",
       "      <td>-0.006035</td>\n",
       "      <td>0.685313</td>\n",
       "      <td>0.629373</td>\n",
       "      <td>GLS Regression Res...</td>\n",
       "    </tr>\n",
       "    <tr>\n",
       "      <th>4</th>\n",
       "      <td>29</td>\n",
       "      <td>22</td>\n",
       "      <td>100002_raw-Energy</td>\n",
       "      <td>LV838</td>\n",
       "      <td>lipids-decreasing</td>\n",
       "      <td>True</td>\n",
       "      <td>0.024454</td>\n",
       "      <td>0.023446</td>\n",
       "      <td>0.046891</td>\n",
       "      <td>GLS Regression Res...</td>\n",
       "    </tr>\n",
       "  </tbody>\n",
       "</table>\n",
       "</div>"
      ],
      "text/plain": [
       "   part_k  cluster_id          phenotype     lv             lv_set  \\\n",
       "0      29          22  100002_raw-Energy  LV246  lipids-increasing   \n",
       "1      29          22  100002_raw-Energy  LV607  lipids-increasing   \n",
       "2      29          22  100002_raw-Energy  LV612  lipids-decreasing   \n",
       "3      29          22  100002_raw-Energy   LV74  lipids-increasing   \n",
       "4      29          22  100002_raw-Energy  LV838  lipids-decreasing   \n",
       "\n",
       "   lv_with_pathway      coef    pvalue  pvalue_twosided  \\\n",
       "0             True  0.002401  0.424213         0.848425   \n",
       "1             True -0.006323  0.691499         0.617002   \n",
       "2             True -0.000822  0.525786         0.948428   \n",
       "3             True -0.006035  0.685313         0.629373   \n",
       "4             True  0.024454  0.023446         0.046891   \n",
       "\n",
       "                                             summary  \n",
       "0                              GLS Regression Res...  \n",
       "1                              GLS Regression Res...  \n",
       "2                              GLS Regression Res...  \n",
       "3                              GLS Regression Res...  \n",
       "4                              GLS Regression Res...  "
      ]
     },
     "execution_count": 64,
     "metadata": {},
     "output_type": "execute_result"
    }
   ],
   "source": [
    "results.head()"
   ]
  },
  {
   "cell_type": "code",
   "execution_count": 65,
   "id": "timely-message",
   "metadata": {
    "execution": {
     "iopub.execute_input": "2021-07-20T02:19:40.936022Z",
     "iopub.status.busy": "2021-07-20T02:19:40.935645Z",
     "iopub.status.idle": "2021-07-20T02:19:40.986841Z",
     "shell.execute_reply": "2021-07-20T02:19:40.986480Z"
    },
    "papermill": {
     "duration": 0.966558,
     "end_time": "2021-07-20T02:19:40.986925",
     "exception": false,
     "start_time": "2021-07-20T02:19:40.020367",
     "status": "completed"
    },
    "tags": []
   },
   "outputs": [
    {
     "data": {
      "text/html": [
       "<div>\n",
       "<style scoped>\n",
       "    .dataframe tbody tr th:only-of-type {\n",
       "        vertical-align: middle;\n",
       "    }\n",
       "\n",
       "    .dataframe tbody tr th {\n",
       "        vertical-align: top;\n",
       "    }\n",
       "\n",
       "    .dataframe thead th {\n",
       "        text-align: right;\n",
       "    }\n",
       "</style>\n",
       "<table border=\"1\" class=\"dataframe\">\n",
       "  <thead>\n",
       "    <tr style=\"text-align: right;\">\n",
       "      <th></th>\n",
       "      <th>part_k</th>\n",
       "      <th>cluster_id</th>\n",
       "      <th>phenotype</th>\n",
       "      <th>lv</th>\n",
       "      <th>lv_set</th>\n",
       "      <th>lv_with_pathway</th>\n",
       "      <th>coef</th>\n",
       "      <th>pvalue</th>\n",
       "      <th>pvalue_twosided</th>\n",
       "      <th>summary</th>\n",
       "    </tr>\n",
       "  </thead>\n",
       "  <tbody>\n",
       "    <tr>\n",
       "      <th>2238</th>\n",
       "      <td>29</td>\n",
       "      <td>16</td>\n",
       "      <td>MAGNETIC_CH2.DB.ratio</td>\n",
       "      <td>LV246</td>\n",
       "      <td>lipids-increasing</td>\n",
       "      <td>True</td>\n",
       "      <td>0.095366</td>\n",
       "      <td>2.183932e-14</td>\n",
       "      <td>4.367864e-14</td>\n",
       "      <td>GLS Regression Res...</td>\n",
       "    </tr>\n",
       "    <tr>\n",
       "      <th>2490</th>\n",
       "      <td>29</td>\n",
       "      <td>17</td>\n",
       "      <td>hypercholesterolemia</td>\n",
       "      <td>LV246</td>\n",
       "      <td>lipids-increasing</td>\n",
       "      <td>True</td>\n",
       "      <td>0.066665</td>\n",
       "      <td>3.672563e-08</td>\n",
       "      <td>7.345126e-08</td>\n",
       "      <td>GLS Regression Res...</td>\n",
       "    </tr>\n",
       "    <tr>\n",
       "      <th>1362</th>\n",
       "      <td>29</td>\n",
       "      <td>18</td>\n",
       "      <td>3143_raw-Ankle_spacing_width</td>\n",
       "      <td>LV246</td>\n",
       "      <td>lipids-increasing</td>\n",
       "      <td>True</td>\n",
       "      <td>0.059177</td>\n",
       "      <td>1.331584e-06</td>\n",
       "      <td>2.663168e-06</td>\n",
       "      <td>GLS Regression Res...</td>\n",
       "    </tr>\n",
       "    <tr>\n",
       "      <th>1943</th>\n",
       "      <td>29</td>\n",
       "      <td>25</td>\n",
       "      <td>6160_2-Leisuresocial_activities_Pub_or_social_...</td>\n",
       "      <td>LV865</td>\n",
       "      <td>lipids-increasing</td>\n",
       "      <td>True</td>\n",
       "      <td>0.055382</td>\n",
       "      <td>5.590409e-06</td>\n",
       "      <td>1.118082e-05</td>\n",
       "      <td>GLS Regression Res...</td>\n",
       "    </tr>\n",
       "    <tr>\n",
       "      <th>2450</th>\n",
       "      <td>29</td>\n",
       "      <td>11</td>\n",
       "      <td>fasting blood insulin measurement</td>\n",
       "      <td>LV612</td>\n",
       "      <td>lipids-decreasing</td>\n",
       "      <td>True</td>\n",
       "      <td>0.056333</td>\n",
       "      <td>5.754859e-06</td>\n",
       "      <td>1.150972e-05</td>\n",
       "      <td>GLS Regression Res...</td>\n",
       "    </tr>\n",
       "    <tr>\n",
       "      <th>1452</th>\n",
       "      <td>29</td>\n",
       "      <td>18</td>\n",
       "      <td>4119_raw-Ankle_spacing_width_right</td>\n",
       "      <td>LV246</td>\n",
       "      <td>lipids-increasing</td>\n",
       "      <td>True</td>\n",
       "      <td>0.054647</td>\n",
       "      <td>6.822593e-06</td>\n",
       "      <td>1.364519e-05</td>\n",
       "      <td>GLS Regression Res...</td>\n",
       "    </tr>\n",
       "    <tr>\n",
       "      <th>1598</th>\n",
       "      <td>29</td>\n",
       "      <td>10</td>\n",
       "      <td>5135_raw-3mm_strong_meridian_left</td>\n",
       "      <td>LV612</td>\n",
       "      <td>lipids-decreasing</td>\n",
       "      <td>True</td>\n",
       "      <td>0.053394</td>\n",
       "      <td>1.218497e-05</td>\n",
       "      <td>2.436994e-05</td>\n",
       "      <td>GLS Regression Res...</td>\n",
       "    </tr>\n",
       "    <tr>\n",
       "      <th>2244</th>\n",
       "      <td>29</td>\n",
       "      <td>16</td>\n",
       "      <td>MAGNETIC_HDL.C</td>\n",
       "      <td>LV246</td>\n",
       "      <td>lipids-increasing</td>\n",
       "      <td>True</td>\n",
       "      <td>0.050872</td>\n",
       "      <td>2.096086e-05</td>\n",
       "      <td>4.192172e-05</td>\n",
       "      <td>GLS Regression Res...</td>\n",
       "    </tr>\n",
       "    <tr>\n",
       "      <th>1824</th>\n",
       "      <td>29</td>\n",
       "      <td>17</td>\n",
       "      <td>6153_1-Medication_for_cholesterol_blood_pressu...</td>\n",
       "      <td>LV246</td>\n",
       "      <td>lipids-increasing</td>\n",
       "      <td>True</td>\n",
       "      <td>0.050766</td>\n",
       "      <td>2.179410e-05</td>\n",
       "      <td>4.358819e-05</td>\n",
       "      <td>GLS Regression Res...</td>\n",
       "    </tr>\n",
       "    <tr>\n",
       "      <th>1586</th>\n",
       "      <td>29</td>\n",
       "      <td>10</td>\n",
       "      <td>5133_raw-6mm_strong_meridian_right</td>\n",
       "      <td>LV612</td>\n",
       "      <td>lipids-decreasing</td>\n",
       "      <td>True</td>\n",
       "      <td>0.051322</td>\n",
       "      <td>2.389128e-05</td>\n",
       "      <td>4.778256e-05</td>\n",
       "      <td>GLS Regression Res...</td>\n",
       "    </tr>\n",
       "  </tbody>\n",
       "</table>\n",
       "</div>"
      ],
      "text/plain": [
       "      part_k  cluster_id                                          phenotype  \\\n",
       "2238      29          16                              MAGNETIC_CH2.DB.ratio   \n",
       "2490      29          17                               hypercholesterolemia   \n",
       "1362      29          18                       3143_raw-Ankle_spacing_width   \n",
       "1943      29          25  6160_2-Leisuresocial_activities_Pub_or_social_...   \n",
       "2450      29          11                  fasting blood insulin measurement   \n",
       "1452      29          18                 4119_raw-Ankle_spacing_width_right   \n",
       "1598      29          10                  5135_raw-3mm_strong_meridian_left   \n",
       "2244      29          16                                     MAGNETIC_HDL.C   \n",
       "1824      29          17  6153_1-Medication_for_cholesterol_blood_pressu...   \n",
       "1586      29          10                 5133_raw-6mm_strong_meridian_right   \n",
       "\n",
       "         lv             lv_set  lv_with_pathway      coef        pvalue  \\\n",
       "2238  LV246  lipids-increasing             True  0.095366  2.183932e-14   \n",
       "2490  LV246  lipids-increasing             True  0.066665  3.672563e-08   \n",
       "1362  LV246  lipids-increasing             True  0.059177  1.331584e-06   \n",
       "1943  LV865  lipids-increasing             True  0.055382  5.590409e-06   \n",
       "2450  LV612  lipids-decreasing             True  0.056333  5.754859e-06   \n",
       "1452  LV246  lipids-increasing             True  0.054647  6.822593e-06   \n",
       "1598  LV612  lipids-decreasing             True  0.053394  1.218497e-05   \n",
       "2244  LV246  lipids-increasing             True  0.050872  2.096086e-05   \n",
       "1824  LV246  lipids-increasing             True  0.050766  2.179410e-05   \n",
       "1586  LV612  lipids-decreasing             True  0.051322  2.389128e-05   \n",
       "\n",
       "      pvalue_twosided                                            summary  \n",
       "2238     4.367864e-14                              GLS Regression Res...  \n",
       "2490     7.345126e-08                              GLS Regression Res...  \n",
       "1362     2.663168e-06                              GLS Regression Res...  \n",
       "1943     1.118082e-05                              GLS Regression Res...  \n",
       "2450     1.150972e-05                              GLS Regression Res...  \n",
       "1452     1.364519e-05                              GLS Regression Res...  \n",
       "1598     2.436994e-05                              GLS Regression Res...  \n",
       "2244     4.192172e-05                              GLS Regression Res...  \n",
       "1824     4.358819e-05                              GLS Regression Res...  \n",
       "1586     4.778256e-05                              GLS Regression Res...  "
      ]
     },
     "execution_count": 65,
     "metadata": {},
     "output_type": "execute_result"
    }
   ],
   "source": [
    "results.sort_values(\"pvalue\").head(10)"
   ]
  },
  {
   "cell_type": "markdown",
   "id": "spare-marshall",
   "metadata": {
    "papermill": {
     "duration": 0.975307,
     "end_time": "2021-07-20T02:19:42.873202",
     "exception": false,
     "start_time": "2021-07-20T02:19:41.897895",
     "status": "completed"
    },
    "tags": []
   },
   "source": [
    "## Save"
   ]
  },
  {
   "cell_type": "code",
   "execution_count": 66,
   "id": "answering-tourist",
   "metadata": {
    "execution": {
     "iopub.execute_input": "2021-07-20T02:19:44.684270Z",
     "iopub.status.busy": "2021-07-20T02:19:44.683906Z",
     "iopub.status.idle": "2021-07-20T02:19:45.402126Z",
     "shell.execute_reply": "2021-07-20T02:19:45.401730Z"
    },
    "papermill": {
     "duration": 1.624745,
     "end_time": "2021-07-20T02:19:45.402240",
     "exception": false,
     "start_time": "2021-07-20T02:19:43.777495",
     "status": "completed"
    },
    "tags": []
   },
   "outputs": [],
   "source": [
    "results.to_pickle(OUTPUT_FILENAME)"
   ]
  },
  {
   "cell_type": "code",
   "execution_count": null,
   "id": "broken-dayton",
   "metadata": {
    "papermill": {
     "duration": 0.905346,
     "end_time": "2021-07-20T02:19:47.198882",
     "exception": false,
     "start_time": "2021-07-20T02:19:46.293536",
     "status": "completed"
    },
    "tags": []
   },
   "outputs": [],
   "source": []
  }
 ],
 "metadata": {
  "jupytext": {
   "cell_metadata_filter": "all,-execution,-papermill,-trusted",
   "formats": "ipynb,py//py:percent"
  },
  "kernelspec": {
   "display_name": "Python 3",
   "language": "python",
   "name": "python3"
  },
  "language_info": {
   "codemirror_mode": {
    "name": "ipython",
    "version": 3
   },
   "file_extension": ".py",
   "mimetype": "text/x-python",
   "name": "python",
   "nbconvert_exporter": "python",
   "pygments_lexer": "ipython3",
   "version": "3.8.8"
  },
  "papermill": {
   "default_parameters": {},
   "duration": 25909.058736,
   "end_time": "2021-07-20T02:19:49.104117",
   "environment_variables": {},
   "exception": null,
   "input_path": "08_gsa_gls/40-gls_on_lipids_lvs-phenomexcan.ipynb",
   "output_path": "08_gsa_gls/40-gls_on_lipids_lvs-phenomexcan.run.ipynb",
   "parameters": {},
   "start_time": "2021-07-19T19:08:00.045381",
   "version": "2.2.2"
  }
 },
 "nbformat": 4,
 "nbformat_minor": 5
}
