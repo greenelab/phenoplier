{
 "cells": [
  {
   "cell_type": "markdown",
   "id": "5ef66977",
   "metadata": {
    "papermill": {
     "duration": 0.02266,
     "end_time": "2022-07-19T14:46:13.019969",
     "exception": false,
     "start_time": "2022-07-19T14:46:12.997309",
     "status": "completed"
    },
    "tags": []
   },
   "source": [
    "# Description"
   ]
  },
  {
   "cell_type": "markdown",
   "id": "658d4f7c",
   "metadata": {
    "papermill": {
     "duration": 0.008857,
     "end_time": "2022-07-19T14:46:13.045657",
     "exception": false,
     "start_time": "2022-07-19T14:46:13.036800",
     "status": "completed"
    },
    "tags": []
   },
   "source": [
    "**TODO UPDATE**\n",
    "\n",
    "(Please, take a look at the README.md file in this directory for instructions on how to run this notebook)\n",
    "\n",
    "This notebook reads all gene correlations across all chromosomes and computes a single correlation matrix by assembling a big correlation matrix with all genes."
   ]
  },
  {
   "cell_type": "markdown",
   "id": "60fa4530",
   "metadata": {
    "papermill": {
     "duration": 0.006095,
     "end_time": "2022-07-19T14:46:13.057685",
     "exception": false,
     "start_time": "2022-07-19T14:46:13.051590",
     "status": "completed"
    },
    "tags": []
   },
   "source": [
    "# Modules"
   ]
  },
  {
   "cell_type": "code",
   "execution_count": null,
   "id": "d70b0833",
   "metadata": {
    "papermill": {
     "duration": 0.024281,
     "end_time": "2022-07-19T14:46:13.088432",
     "exception": false,
     "start_time": "2022-07-19T14:46:13.064151",
     "status": "completed"
    },
    "tags": []
   },
   "outputs": [],
   "source": [
    "%load_ext autoreload\n",
    "%autoreload 2"
   ]
  },
  {
   "cell_type": "code",
   "execution_count": null,
   "id": "6b2f9ca0",
   "metadata": {
    "papermill": {
     "duration": 0.493882,
     "end_time": "2022-07-19T14:46:13.588197",
     "exception": false,
     "start_time": "2022-07-19T14:46:13.094315",
     "status": "completed"
    },
    "tags": []
   },
   "outputs": [],
   "source": [
    "from pathlib import Path\n",
    "from concurrent.futures import ProcessPoolExecutor, as_completed\n",
    "\n",
    "import numpy as np\n",
    "from scipy.spatial.distance import squareform\n",
    "from scipy import sparse\n",
    "import pandas as pd\n",
    "from tqdm import tqdm\n",
    "\n",
    "import conf\n",
    "from utils import chunker\n",
    "from entity import Gene\n",
    "from gls import GLSPhenoplier"
   ]
  },
  {
   "cell_type": "markdown",
   "id": "5b96e797",
   "metadata": {
    "papermill": {
     "duration": 0.005632,
     "end_time": "2022-07-19T14:46:13.599854",
     "exception": false,
     "start_time": "2022-07-19T14:46:13.594222",
     "status": "completed"
    },
    "tags": []
   },
   "source": [
    "# Settings"
   ]
  },
  {
   "cell_type": "code",
   "execution_count": null,
   "id": "4fc1b6a0",
   "metadata": {
    "papermill": {
     "duration": 0.050545,
     "end_time": "2022-07-19T14:46:13.655812",
     "exception": false,
     "start_time": "2022-07-19T14:46:13.605267",
     "status": "completed"
    },
    "tags": [
     "parameters"
    ]
   },
   "outputs": [],
   "source": [
    "# a cohort name (it could be something like UK_BIOBANK, etc)\n",
    "COHORT_NAME = None\n",
    "\n",
    "# reference panel such as 1000G or GTEX_V8\n",
    "REFERENCE_PANEL = None\n",
    "\n",
    "# predictions models such as MASHR or ELASTIC_NET\n",
    "EQTL_MODEL = None\n",
    "\n",
    "LV_CODE = None\n",
    "\n",
    "# A number from 0.0 to 1.0 indicating the top percentile of the genes in the LV to keep.\n",
    "# A value of 0.01 would take the top 1% of the genes in the LV.\n",
    "# If zero or None, then all nonzero weighted genes in the LV will be kept.\n",
    "LV_PERCENTILE = None"
   ]
  },
  {
   "cell_type": "code",
   "execution_count": null,
   "id": "1dbaa2d1-b4d2-4247-bbdc-84f9a08fe15a",
   "metadata": {},
   "outputs": [],
   "source": [
    "N_JOBS = 1"
   ]
  },
  {
   "cell_type": "code",
   "execution_count": null,
   "id": "10c1d77a-c024-4d52-8888-7806944731ff",
   "metadata": {
    "tags": []
   },
   "outputs": [],
   "source": [
    "assert COHORT_NAME is not None and len(COHORT_NAME) > 0, \"A cohort name must be given\"\n",
    "\n",
    "COHORT_NAME = COHORT_NAME.lower()\n",
    "display(f\"Cohort name: {COHORT_NAME}\")"
   ]
  },
  {
   "cell_type": "code",
   "execution_count": null,
   "id": "2d74d598-860b-4994-a8ab-495c6ea1d93d",
   "metadata": {
    "tags": []
   },
   "outputs": [],
   "source": [
    "assert (\n",
    "    REFERENCE_PANEL is not None and len(REFERENCE_PANEL) > 0\n",
    "), \"A reference panel must be given\"\n",
    "\n",
    "display(f\"Reference panel: {REFERENCE_PANEL}\")"
   ]
  },
  {
   "cell_type": "code",
   "execution_count": null,
   "id": "23fccc89-f877-46a0-86c9-caa7b2cd71e2",
   "metadata": {
    "tags": []
   },
   "outputs": [],
   "source": [
    "assert (\n",
    "    EQTL_MODEL is not None and len(EQTL_MODEL) > 0\n",
    "), \"A prediction/eQTL model must be given\"\n",
    "\n",
    "EQTL_MODEL_FILES_PREFIX = conf.PHENOMEXCAN[\"PREDICTION_MODELS\"][f\"{EQTL_MODEL}_PREFIX\"]\n",
    "display(f\"eQTL model: {EQTL_MODEL} / {EQTL_MODEL_FILES_PREFIX}\")"
   ]
  },
  {
   "cell_type": "code",
   "execution_count": null,
   "id": "3ceaa707-94f2-4c3b-9e0d-87a5e8259ab2",
   "metadata": {
    "tags": []
   },
   "outputs": [],
   "source": [
    "assert LV_CODE is not None and len(LV_CODE) > 0, \"An LV code must be given\"\n",
    "\n",
    "display(f\"LV code: {LV_CODE}\")"
   ]
  },
  {
   "cell_type": "code",
   "execution_count": null,
   "id": "9cf97d20-389b-4919-acff-a1e2e1c5a707",
   "metadata": {
    "tags": []
   },
   "outputs": [],
   "source": [
    "if LV_PERCENTILE is not None:\n",
    "    LV_PERCENTILE = float(LV_PERCENTILE)\n",
    "\n",
    "display(f\"LV percentile: {LV_PERCENTILE}\")"
   ]
  },
  {
   "cell_type": "code",
   "execution_count": null,
   "id": "b3320631-6bf0-4878-85d4-9a81497c0b3c",
   "metadata": {
    "papermill": {
     "duration": 0.023489,
     "end_time": "2022-07-19T14:46:13.835958",
     "exception": false,
     "start_time": "2022-07-19T14:46:13.812469",
     "status": "completed"
    },
    "tags": []
   },
   "outputs": [],
   "source": [
    "OUTPUT_DIR_BASE = (\n",
    "    conf.RESULTS[\"GLS\"]\n",
    "    / \"gene_corrs\"\n",
    "    / \"cohorts\"\n",
    "    / COHORT_NAME.lower()\n",
    "    / REFERENCE_PANEL.lower()\n",
    "    / EQTL_MODEL.lower()\n",
    ")\n",
    "OUTPUT_DIR_BASE.mkdir(parents=True, exist_ok=True)\n",
    "\n",
    "display(f\"Using output dir base: {OUTPUT_DIR_BASE}\")"
   ]
  },
  {
   "cell_type": "markdown",
   "id": "99ccb166",
   "metadata": {
    "papermill": {
     "duration": 0.006372,
     "end_time": "2022-07-19T14:46:13.848980",
     "exception": false,
     "start_time": "2022-07-19T14:46:13.842608",
     "status": "completed"
    },
    "tags": []
   },
   "source": [
    "# Load data"
   ]
  },
  {
   "cell_type": "markdown",
   "id": "d5262187-494c-4399-8b71-cbbc3e20a9df",
   "metadata": {
    "papermill": {
     "duration": 0.006643,
     "end_time": "2022-07-19T14:46:14.254718",
     "exception": false,
     "start_time": "2022-07-19T14:46:14.248075",
     "status": "completed"
    },
    "tags": []
   },
   "source": [
    "## Gene correlations"
   ]
  },
  {
   "cell_type": "code",
   "execution_count": null,
   "id": "2f174f95-2be3-4b63-95fb-451413ad361d",
   "metadata": {
    "papermill": {
     "duration": 0.022512,
     "end_time": "2022-07-19T14:46:14.284010",
     "exception": false,
     "start_time": "2022-07-19T14:46:14.261498",
     "status": "completed"
    },
    "tags": []
   },
   "outputs": [],
   "source": [
    "input_files = list(OUTPUT_DIR_BASE.glob(\"gene_corrs-symbols*.pkl\"))\n",
    "display(input_files)\n",
    "assert len(input_files) > 0, \"No input correlation files\""
   ]
  },
  {
   "cell_type": "code",
   "execution_count": null,
   "id": "e6838c80-57e3-4a7a-8ee1-ed5948645508",
   "metadata": {
    "papermill": {
     "duration": 0.173412,
     "end_time": "2022-07-19T14:46:14.464395",
     "exception": false,
     "start_time": "2022-07-19T14:46:14.290983",
     "status": "completed"
    },
    "tags": []
   },
   "outputs": [],
   "source": [
    "# load correlation matrix\n",
    "gene_corrs_dict = {f.name: pd.read_pickle(f) for f in input_files}"
   ]
  },
  {
   "cell_type": "code",
   "execution_count": null,
   "id": "b9db5c98-a8aa-4e31-b25d-2b9ee16a2182",
   "metadata": {},
   "outputs": [],
   "source": [
    "orig_corr_name = \"gene_corrs-symbols.pkl\""
   ]
  },
  {
   "cell_type": "code",
   "execution_count": null,
   "id": "981b0c08-4217-4d0b-b0f7-57c8cf015055",
   "metadata": {
    "papermill": {
     "duration": 0.023368,
     "end_time": "2022-07-19T14:46:14.495356",
     "exception": false,
     "start_time": "2022-07-19T14:46:14.471988",
     "status": "completed"
    },
    "tags": []
   },
   "outputs": [],
   "source": [
    "gene_corrs_dict[orig_corr_name].shape"
   ]
  },
  {
   "cell_type": "code",
   "execution_count": null,
   "id": "49fb8383-23fc-40d7-adf6-70f5770ee37f",
   "metadata": {
    "papermill": {
     "duration": 0.038554,
     "end_time": "2022-07-19T14:46:14.540958",
     "exception": false,
     "start_time": "2022-07-19T14:46:14.502404",
     "status": "completed"
    },
    "tags": []
   },
   "outputs": [],
   "source": [
    "gene_corrs_dict[orig_corr_name].head()"
   ]
  },
  {
   "cell_type": "code",
   "execution_count": null,
   "id": "4fb66ba4-9fd3-4dc5-9538-eadd5e9f81c7",
   "metadata": {},
   "outputs": [],
   "source": [
    "current_index = gene_corrs_dict[orig_corr_name].index\n",
    "assert all(\n",
    "    [current_index.equals(gc.index) for k, gc in gene_corrs_dict.items()]\n",
    "), \"Correlation matrices are not compatible\""
   ]
  },
  {
   "cell_type": "markdown",
   "id": "46ae0b3e",
   "metadata": {
    "papermill": {
     "duration": 0.006679,
     "end_time": "2022-07-19T14:46:14.598279",
     "exception": false,
     "start_time": "2022-07-19T14:46:14.591600",
     "status": "completed"
    },
    "tags": []
   },
   "source": [
    "## MultiPLIER Z"
   ]
  },
  {
   "cell_type": "code",
   "execution_count": null,
   "id": "d38d9749",
   "metadata": {
    "papermill": {
     "duration": 0.044298,
     "end_time": "2022-07-19T14:46:14.649481",
     "exception": false,
     "start_time": "2022-07-19T14:46:14.605183",
     "status": "completed"
    },
    "tags": []
   },
   "outputs": [],
   "source": [
    "multiplier_z = pd.read_pickle(conf.MULTIPLIER[\"MODEL_Z_MATRIX_FILE\"])"
   ]
  },
  {
   "cell_type": "code",
   "execution_count": null,
   "id": "67e93797",
   "metadata": {
    "papermill": {
     "duration": 0.02358,
     "end_time": "2022-07-19T14:46:14.680696",
     "exception": false,
     "start_time": "2022-07-19T14:46:14.657116",
     "status": "completed"
    },
    "tags": []
   },
   "outputs": [],
   "source": [
    "multiplier_z.shape"
   ]
  },
  {
   "cell_type": "code",
   "execution_count": null,
   "id": "e1ba1ead",
   "metadata": {
    "papermill": {
     "duration": 0.036734,
     "end_time": "2022-07-19T14:46:14.724996",
     "exception": false,
     "start_time": "2022-07-19T14:46:14.688262",
     "status": "completed"
    },
    "tags": []
   },
   "outputs": [],
   "source": [
    "multiplier_z.head()"
   ]
  },
  {
   "cell_type": "markdown",
   "id": "f4d4f177",
   "metadata": {
    "papermill": {
     "duration": 0.008079,
     "end_time": "2022-07-19T14:46:14.861321",
     "exception": false,
     "start_time": "2022-07-19T14:46:14.853242",
     "status": "completed"
    },
    "tags": []
   },
   "source": [
    "# Compute inverse correlation matrix for each LV"
   ]
  },
  {
   "cell_type": "code",
   "execution_count": null,
   "id": "6f604dfc-91b4-4e2e-b848-6099fed0b44e",
   "metadata": {
    "papermill": {
     "duration": 0.021943,
     "end_time": "2022-07-19T14:46:14.890865",
     "exception": false,
     "start_time": "2022-07-19T14:46:14.868922",
     "status": "completed"
    },
    "tags": []
   },
   "outputs": [],
   "source": [
    "def exists_df(output_dir, base_filename):\n",
    "    full_filepath = output_dir / (base_filename + \".npz\")\n",
    "\n",
    "    return full_filepath.exists()"
   ]
  },
  {
   "cell_type": "code",
   "execution_count": null,
   "id": "f5bd311e-e0f0-424e-8384-763f4bf7e21c",
   "metadata": {
    "papermill": {
     "duration": 0.021943,
     "end_time": "2022-07-19T14:46:14.890865",
     "exception": false,
     "start_time": "2022-07-19T14:46:14.868922",
     "status": "completed"
    },
    "tags": []
   },
   "outputs": [],
   "source": [
    "def store_df(output_dir, nparray, base_filename):\n",
    "    if base_filename in (\"metadata\", \"gene_names\"):\n",
    "        np.savez_compressed(output_dir / (base_filename + \".npz\"), data=nparray)\n",
    "    else:\n",
    "        sparse.save_npz(\n",
    "            output_dir / (base_filename + \".npz\"),\n",
    "            sparse.csc_matrix(nparray),\n",
    "            compressed=False,\n",
    "        )"
   ]
  },
  {
   "cell_type": "code",
   "execution_count": null,
   "id": "3f6edd17-2654-4957-a592-361f74ec96df",
   "metadata": {},
   "outputs": [],
   "source": [
    "def get_output_dir(gene_corr_filename):\n",
    "    path = OUTPUT_DIR_BASE / gene_corr_filename\n",
    "    assert path.exists()\n",
    "    return path.with_suffix(\".per_lv\")"
   ]
  },
  {
   "cell_type": "code",
   "execution_count": null,
   "id": "39bf4643",
   "metadata": {
    "tags": []
   },
   "outputs": [],
   "source": [
    "def compute_chol_inv(lv_codes):\n",
    "    for gene_corr_filename, gene_corrs in gene_corrs_dict.items():\n",
    "        output_dir = get_output_dir(gene_corr_filename)\n",
    "        output_dir.mkdir(parents=True, exist_ok=True)\n",
    "        print(f\"Output dir: {str(output_dir)}\", flush=True)\n",
    "\n",
    "        # save LV chol inverse\n",
    "        for lv_code in lv_codes:\n",
    "            lv_data = multiplier_z[lv_code]\n",
    "\n",
    "            corr_mat_sub = GLSPhenoplier.get_sub_mat(gene_corrs, lv_data, LV_PERCENTILE)\n",
    "            store_df(output_dir, corr_mat_sub.to_numpy(), f\"{lv_code}_corr_mat\")\n",
    "\n",
    "            chol_mat = np.linalg.cholesky(corr_mat_sub)\n",
    "            chol_inv = np.linalg.inv(chol_mat)\n",
    "\n",
    "            store_df(output_dir, chol_inv, lv_code)\n",
    "\n",
    "        # save metadata\n",
    "        if not exists_df(output_dir, \"metadata\"):\n",
    "            metadata = np.array([REFERENCE_PANEL, EQTL_MODEL])\n",
    "            store_df(output_dir, metadata, \"metadata\")\n",
    "        else:\n",
    "            display(\"Metadata file already exists\")\n",
    "\n",
    "        # save gene names\n",
    "        if not exists_df(output_dir, \"gene_names\"):\n",
    "            gene_names = np.array(gene_corrs.index.tolist())\n",
    "            store_df(output_dir, gene_names, \"gene_names\")\n",
    "        else:\n",
    "            display(\"Gene names file already exists\")"
   ]
  },
  {
   "cell_type": "code",
   "execution_count": null,
   "id": "e605c772-15c3-43e0-850b-1bc81bef2dcc",
   "metadata": {
    "papermill": {
     "duration": 0.021378,
     "end_time": "2022-07-19T14:46:14.950740",
     "exception": false,
     "start_time": "2022-07-19T14:46:14.929362",
     "status": "completed"
    },
    "tags": []
   },
   "outputs": [],
   "source": [
    "# divide LVs in chunks for parallel processing\n",
    "# lvs_chunks = list(chunker(list(multiplier_z.columns), 50))\n",
    "lvs_chunks = [[LV_CODE]]"
   ]
  },
  {
   "cell_type": "code",
   "execution_count": null,
   "id": "e2511bd6-73c2-4f92-9fb4-ee6ad5a2923f",
   "metadata": {
    "papermill": {
     "duration": 6623.447238,
     "end_time": "2022-07-19T16:36:38.405413",
     "exception": false,
     "start_time": "2022-07-19T14:46:14.958175",
     "status": "completed"
    },
    "tags": []
   },
   "outputs": [],
   "source": [
    "with ProcessPoolExecutor(max_workers=N_JOBS) as executor, tqdm(\n",
    "    total=len(lvs_chunks), ncols=100\n",
    ") as pbar:\n",
    "    tasks = [executor.submit(compute_chol_inv, chunk) for chunk in lvs_chunks]\n",
    "    for future in as_completed(tasks):\n",
    "        res = future.result()\n",
    "        pbar.update(1)"
   ]
  },
  {
   "cell_type": "markdown",
   "id": "1169db4b-9af2-4d3c-a27a-198d7730fa67",
   "metadata": {
    "papermill": {
     "duration": 0.009264,
     "end_time": "2022-07-19T16:36:38.424697",
     "exception": false,
     "start_time": "2022-07-19T16:36:38.415433",
     "status": "completed"
    },
    "tags": []
   },
   "source": [
    "## Some checks"
   ]
  },
  {
   "cell_type": "code",
   "execution_count": null,
   "id": "02e6758b-9e64-4829-bc64-ca0b08221d13",
   "metadata": {
    "papermill": {
     "duration": 0.021943,
     "end_time": "2022-07-19T14:46:14.890865",
     "exception": false,
     "start_time": "2022-07-19T14:46:14.868922",
     "status": "completed"
    },
    "tags": []
   },
   "outputs": [],
   "source": [
    "def load_df(output_dir, base_filename):\n",
    "    full_filepath = output_dir / (base_filename + \".npz\")\n",
    "\n",
    "    if base_filename in (\"metadata\", \"gene_names\"):\n",
    "        return np.load(full_filepath)[\"data\"]\n",
    "    else:\n",
    "        return sparse.load_npz(full_filepath).toarray()"
   ]
  },
  {
   "cell_type": "code",
   "execution_count": null,
   "id": "38cf09b7",
   "metadata": {
    "papermill": {
     "duration": 0.027548,
     "end_time": "2022-07-19T16:36:38.461002",
     "exception": false,
     "start_time": "2022-07-19T16:36:38.433454",
     "status": "completed"
    },
    "tags": []
   },
   "outputs": [],
   "source": [
    "_genes = load_df(\"gene_names\")"
   ]
  },
  {
   "cell_type": "code",
   "execution_count": null,
   "id": "407e202b-5d10-47c5-b751-0d7b79fc32b7",
   "metadata": {
    "papermill": {
     "duration": 0.024165,
     "end_time": "2022-07-19T16:36:38.493826",
     "exception": false,
     "start_time": "2022-07-19T16:36:38.469661",
     "status": "completed"
    },
    "tags": []
   },
   "outputs": [],
   "source": [
    "display(len(_genes))\n",
    "assert len(_genes) == gene_corrs_dict[orig_corr_name].index.shape[0]"
   ]
  },
  {
   "cell_type": "code",
   "execution_count": null,
   "id": "e66abf5b-ba1b-4f16-96a6-a48e9e7035cc",
   "metadata": {
    "papermill": {
     "duration": 0.023968,
     "end_time": "2022-07-19T16:36:38.526528",
     "exception": false,
     "start_time": "2022-07-19T16:36:38.502560",
     "status": "completed"
    },
    "tags": []
   },
   "outputs": [],
   "source": [
    "_metadata = load_df(\"metadata\")"
   ]
  },
  {
   "cell_type": "code",
   "execution_count": null,
   "id": "c4a58892-1b3f-414e-b5c3-da63a0f0e387",
   "metadata": {
    "papermill": {
     "duration": 0.023504,
     "end_time": "2022-07-19T16:36:38.558570",
     "exception": false,
     "start_time": "2022-07-19T16:36:38.535066",
     "status": "completed"
    },
    "tags": []
   },
   "outputs": [],
   "source": [
    "display(_metadata)\n",
    "assert _metadata[0] == REFERENCE_PANEL\n",
    "assert _metadata[1] == EQTL_MODEL"
   ]
  },
  {
   "cell_type": "code",
   "execution_count": null,
   "id": "e488e3a4-000d-498b-a489-5a4b98ab32b7",
   "metadata": {
    "papermill": {
     "duration": 0.76209,
     "end_time": "2022-07-19T16:36:39.329498",
     "exception": false,
     "start_time": "2022-07-19T16:36:38.567408",
     "status": "completed"
    },
    "tags": []
   },
   "outputs": [],
   "source": [
    "all_lvs_inv = {}\n",
    "lv_prev = None\n",
    "\n",
    "for gene_corr_filename, _ in gene_corrs_dict.items():\n",
    "    output_dir = get_output_dir(gene_corr_filename)\n",
    "\n",
    "    lv_data = load_df(output_dir, LV_CODE)\n",
    "    display(lv_data)\n",
    "\n",
    "    if lv_prev is not None:\n",
    "        assert lv_data.shape == lv_prev.shape\n",
    "        assert not np.allclose(lv_data, lv_prev)\n",
    "\n",
    "    lv_prev = lv_data"
   ]
  },
  {
   "cell_type": "code",
   "execution_count": null,
   "id": "f02e1ec2-095a-4041-987a-bda1a33a9897",
   "metadata": {
    "papermill": {
     "duration": 0.010013,
     "end_time": "2022-07-19T16:36:42.034593",
     "exception": false,
     "start_time": "2022-07-19T16:36:42.024580",
     "status": "completed"
    },
    "tags": []
   },
   "outputs": [],
   "source": []
  }
 ],
 "metadata": {
  "jupytext": {
   "cell_metadata_filter": "all,-execution,-papermill,-trusted",
   "formats": "ipynb,py//py:percent"
  },
  "kernelspec": {
   "display_name": "Python 3 (ipykernel)",
   "language": "python",
   "name": "python3"
  },
  "language_info": {
   "codemirror_mode": {
    "name": "ipython",
    "version": 3
   },
   "file_extension": ".py",
   "mimetype": "text/x-python",
   "name": "python",
   "nbconvert_exporter": "python",
   "pygments_lexer": "ipython3",
   "version": "3.8.13"
  },
  "papermill": {
   "default_parameters": {},
   "duration": 6630.589956,
   "end_time": "2022-07-19T16:36:42.375230",
   "environment_variables": {},
   "exception": null,
   "input_path": "nbs/15_gsa_gls/18-create_corr_mat_per_lv.ipynb",
   "output_path": "nbs/15_gsa_gls/18-create_corr_mat_per_lv.run.ipynb",
   "parameters": {
    "EQTL_MODEL": "MASHR",
    "REFERENCE_PANEL": "1000G"
   },
   "start_time": "2022-07-19T14:46:11.785274",
   "version": "2.2.2"
  }
 },
 "nbformat": 4,
 "nbformat_minor": 5
}
