{
 "cells": [
  {
   "cell_type": "markdown",
   "id": "pressing-decade",
   "metadata": {
    "papermill": {
     "duration": 0.052918,
     "end_time": "2021-07-13T18:19:13.607493",
     "exception": false,
     "start_time": "2021-07-13T18:19:13.554575",
     "status": "completed"
    },
    "tags": []
   },
   "source": [
    "# Description"
   ]
  },
  {
   "cell_type": "markdown",
   "id": "eleven-latter",
   "metadata": {
    "papermill": {
     "duration": 0.01605,
     "end_time": "2021-07-13T18:19:13.641424",
     "exception": false,
     "start_time": "2021-07-13T18:19:13.625374",
     "status": "completed"
    },
    "tags": []
   },
   "source": [
    "It runs GLSPhenoplier to compute an association between each selected LV and PhenomeXcan trait. Traits of interest are selected from the \"complex branch\" (clustering results), and LVs are those predicted (by a decision tree classifier) to be discriminative for those clusters in the \"complex branch\"."
   ]
  },
  {
   "cell_type": "markdown",
   "id": "linear-raise",
   "metadata": {
    "papermill": {
     "duration": 0.016123,
     "end_time": "2021-07-13T18:19:13.673279",
     "exception": false,
     "start_time": "2021-07-13T18:19:13.657156",
     "status": "completed"
    },
    "tags": []
   },
   "source": [
    "# Environment variables"
   ]
  },
  {
   "cell_type": "code",
   "execution_count": 1,
   "id": "confidential-audit",
   "metadata": {
    "execution": {
     "iopub.execute_input": "2021-07-13T18:19:13.711142Z",
     "iopub.status.busy": "2021-07-13T18:19:13.710768Z",
     "iopub.status.idle": "2021-07-13T18:19:13.717466Z",
     "shell.execute_reply": "2021-07-13T18:19:13.717807Z"
    },
    "papermill": {
     "duration": 0.028634,
     "end_time": "2021-07-13T18:19:13.717965",
     "exception": false,
     "start_time": "2021-07-13T18:19:13.689331",
     "status": "completed"
    },
    "tags": []
   },
   "outputs": [],
   "source": [
    "%load_ext autoreload\n",
    "%autoreload 2"
   ]
  },
  {
   "cell_type": "code",
   "execution_count": 2,
   "id": "tracked-logan",
   "metadata": {
    "execution": {
     "iopub.execute_input": "2021-07-13T18:19:13.753600Z",
     "iopub.status.busy": "2021-07-13T18:19:13.753229Z",
     "iopub.status.idle": "2021-07-13T18:19:13.762975Z",
     "shell.execute_reply": "2021-07-13T18:19:13.762605Z"
    },
    "papermill": {
     "duration": 0.02799,
     "end_time": "2021-07-13T18:19:13.763058",
     "exception": false,
     "start_time": "2021-07-13T18:19:13.735068",
     "status": "completed"
    },
    "tags": []
   },
   "outputs": [],
   "source": [
    "import conf"
   ]
  },
  {
   "cell_type": "code",
   "execution_count": 3,
   "id": "naked-practitioner",
   "metadata": {
    "execution": {
     "iopub.execute_input": "2021-07-13T18:19:13.798487Z",
     "iopub.status.busy": "2021-07-13T18:19:13.798130Z",
     "iopub.status.idle": "2021-07-13T18:19:13.808595Z",
     "shell.execute_reply": "2021-07-13T18:19:13.808216Z"
    },
    "papermill": {
     "duration": 0.028908,
     "end_time": "2021-07-13T18:19:13.808680",
     "exception": false,
     "start_time": "2021-07-13T18:19:13.779772",
     "status": "completed"
    },
    "tags": []
   },
   "outputs": [
    {
     "data": {
      "text/plain": [
       "3"
      ]
     },
     "metadata": {},
     "output_type": "display_data"
    }
   ],
   "source": [
    "N_JOBS = conf.GENERAL[\"N_JOBS\"]\n",
    "display(N_JOBS)"
   ]
  },
  {
   "cell_type": "code",
   "execution_count": 4,
   "id": "trl-chart",
   "metadata": {
    "execution": {
     "iopub.execute_input": "2021-07-13T18:19:13.852476Z",
     "iopub.status.busy": "2021-07-13T18:19:13.852046Z",
     "iopub.status.idle": "2021-07-13T18:19:13.858703Z",
     "shell.execute_reply": "2021-07-13T18:19:13.859017Z"
    },
    "papermill": {
     "duration": 0.032033,
     "end_time": "2021-07-13T18:19:13.859135",
     "exception": false,
     "start_time": "2021-07-13T18:19:13.827102",
     "status": "completed"
    },
    "tags": []
   },
   "outputs": [
    {
     "name": "stdout",
     "output_type": "stream",
     "text": [
      "env: MKL_NUM_THREADS=3\n",
      "env: OPEN_BLAS_NUM_THREADS=3\n",
      "env: NUMEXPR_NUM_THREADS=3\n",
      "env: OMP_NUM_THREADS=3\n"
     ]
    }
   ],
   "source": [
    "%env MKL_NUM_THREADS=$N_JOBS\n",
    "%env OPEN_BLAS_NUM_THREADS=$N_JOBS\n",
    "%env NUMEXPR_NUM_THREADS=$N_JOBS\n",
    "%env OMP_NUM_THREADS=$N_JOBS"
   ]
  },
  {
   "cell_type": "markdown",
   "id": "herbal-charleston",
   "metadata": {
    "papermill": {
     "duration": 0.017628,
     "end_time": "2021-07-13T18:19:13.896334",
     "exception": false,
     "start_time": "2021-07-13T18:19:13.878706",
     "status": "completed"
    },
    "tags": []
   },
   "source": [
    "# Modules"
   ]
  },
  {
   "cell_type": "code",
   "execution_count": 5,
   "id": "introductory-wrong",
   "metadata": {
    "execution": {
     "iopub.execute_input": "2021-07-13T18:19:13.932736Z",
     "iopub.status.busy": "2021-07-13T18:19:13.932340Z",
     "iopub.status.idle": "2021-07-13T18:19:14.677550Z",
     "shell.execute_reply": "2021-07-13T18:19:14.677862Z"
    },
    "papermill": {
     "duration": 0.765338,
     "end_time": "2021-07-13T18:19:14.677976",
     "exception": false,
     "start_time": "2021-07-13T18:19:13.912638",
     "status": "completed"
    },
    "tags": []
   },
   "outputs": [],
   "source": [
    "from pathlib import Path\n",
    "\n",
    "import statsmodels.api as sm\n",
    "import numpy as np\n",
    "import pandas as pd\n",
    "from sklearn.preprocessing import scale\n",
    "from tqdm import tqdm\n",
    "\n",
    "from gls import GLSPhenoplier"
   ]
  },
  {
   "cell_type": "markdown",
   "id": "rocky-swing",
   "metadata": {
    "papermill": {
     "duration": 0.016805,
     "end_time": "2021-07-13T18:19:14.713306",
     "exception": false,
     "start_time": "2021-07-13T18:19:14.696501",
     "status": "completed"
    },
    "tags": []
   },
   "source": [
    "# Settings"
   ]
  },
  {
   "cell_type": "code",
   "execution_count": 6,
   "id": "annoying-destruction",
   "metadata": {
    "execution": {
     "iopub.execute_input": "2021-07-13T18:19:14.749390Z",
     "iopub.status.busy": "2021-07-13T18:19:14.749022Z",
     "iopub.status.idle": "2021-07-13T18:19:14.760156Z",
     "shell.execute_reply": "2021-07-13T18:19:14.760447Z"
    },
    "papermill": {
     "duration": 0.030638,
     "end_time": "2021-07-13T18:19:14.760546",
     "exception": false,
     "start_time": "2021-07-13T18:19:14.729908",
     "status": "completed"
    },
    "tags": []
   },
   "outputs": [
    {
     "data": {
      "text/plain": [
       "PosixPath('/home/miltondp/projects/labs/greenelab/phenoplier/base/results/gls')"
      ]
     },
     "metadata": {},
     "output_type": "display_data"
    }
   ],
   "source": [
    "OUTPUT_DIR = conf.RESULTS[\"GLS\"]\n",
    "display(OUTPUT_DIR)\n",
    "\n",
    "OUTPUT_DIR.mkdir(exist_ok=True, parents=True)"
   ]
  },
  {
   "cell_type": "code",
   "execution_count": 7,
   "id": "lasting-inspector",
   "metadata": {
    "execution": {
     "iopub.execute_input": "2021-07-13T18:19:14.797466Z",
     "iopub.status.busy": "2021-07-13T18:19:14.797106Z",
     "iopub.status.idle": "2021-07-13T18:19:14.808340Z",
     "shell.execute_reply": "2021-07-13T18:19:14.808612Z"
    },
    "papermill": {
     "duration": 0.03094,
     "end_time": "2021-07-13T18:19:14.808766",
     "exception": false,
     "start_time": "2021-07-13T18:19:14.777826",
     "status": "completed"
    },
    "tags": []
   },
   "outputs": [
    {
     "data": {
      "text/plain": [
       "PosixPath('/home/miltondp/projects/labs/greenelab/phenoplier/base/results/gls/gls_phenotypes-phenomexcan.pkl')"
      ]
     },
     "metadata": {},
     "output_type": "display_data"
    }
   ],
   "source": [
    "OUTPUT_FILENAME = OUTPUT_DIR / \"gls_phenotypes-phenomexcan.pkl\"\n",
    "display(OUTPUT_FILENAME)"
   ]
  },
  {
   "cell_type": "markdown",
   "id": "honest-knife",
   "metadata": {
    "papermill": {
     "duration": 0.021412,
     "end_time": "2021-07-13T18:19:14.848089",
     "exception": false,
     "start_time": "2021-07-13T18:19:14.826677",
     "status": "completed"
    },
    "tags": []
   },
   "source": [
    "# Load data"
   ]
  },
  {
   "cell_type": "markdown",
   "id": "surprised-colonial",
   "metadata": {
    "papermill": {
     "duration": 0.017486,
     "end_time": "2021-07-13T18:19:14.885092",
     "exception": false,
     "start_time": "2021-07-13T18:19:14.867606",
     "status": "completed"
    },
    "tags": []
   },
   "source": [
    "## PhenomeXcan (S-MultiXcan)"
   ]
  },
  {
   "cell_type": "code",
   "execution_count": 8,
   "id": "conservative-threshold",
   "metadata": {
    "execution": {
     "iopub.execute_input": "2021-07-13T18:19:14.921923Z",
     "iopub.status.busy": "2021-07-13T18:19:14.921565Z",
     "iopub.status.idle": "2021-07-13T18:19:14.932583Z",
     "shell.execute_reply": "2021-07-13T18:19:14.932910Z"
    },
    "papermill": {
     "duration": 0.030937,
     "end_time": "2021-07-13T18:19:14.933032",
     "exception": false,
     "start_time": "2021-07-13T18:19:14.902095",
     "status": "completed"
    },
    "tags": []
   },
   "outputs": [],
   "source": [
    "INPUT_SUBSET = \"z_score_std\""
   ]
  },
  {
   "cell_type": "code",
   "execution_count": 9,
   "id": "resident-india",
   "metadata": {
    "execution": {
     "iopub.execute_input": "2021-07-13T18:19:14.972210Z",
     "iopub.status.busy": "2021-07-13T18:19:14.971856Z",
     "iopub.status.idle": "2021-07-13T18:19:14.982388Z",
     "shell.execute_reply": "2021-07-13T18:19:14.982677Z"
    },
    "papermill": {
     "duration": 0.03058,
     "end_time": "2021-07-13T18:19:14.982785",
     "exception": false,
     "start_time": "2021-07-13T18:19:14.952205",
     "status": "completed"
    },
    "tags": []
   },
   "outputs": [],
   "source": [
    "INPUT_STEM = \"projection-smultixcan-efo_partial-mashr-zscores\""
   ]
  },
  {
   "cell_type": "code",
   "execution_count": 10,
   "id": "starting-frequency",
   "metadata": {
    "execution": {
     "iopub.execute_input": "2021-07-13T18:19:15.020585Z",
     "iopub.status.busy": "2021-07-13T18:19:15.020223Z",
     "iopub.status.idle": "2021-07-13T18:19:15.030566Z",
     "shell.execute_reply": "2021-07-13T18:19:15.030852Z"
    },
    "papermill": {
     "duration": 0.030024,
     "end_time": "2021-07-13T18:19:15.030958",
     "exception": false,
     "start_time": "2021-07-13T18:19:15.000934",
     "status": "completed"
    },
    "tags": []
   },
   "outputs": [],
   "source": [
    "input_filepath = Path(\n",
    "    conf.RESULTS[\"DATA_TRANSFORMATIONS_DIR\"],\n",
    "    INPUT_SUBSET,\n",
    "    f\"{INPUT_SUBSET}-{INPUT_STEM}.pkl\",\n",
    ").resolve()"
   ]
  },
  {
   "cell_type": "code",
   "execution_count": 11,
   "id": "focal-protest",
   "metadata": {
    "execution": {
     "iopub.execute_input": "2021-07-13T18:19:15.069469Z",
     "iopub.status.busy": "2021-07-13T18:19:15.069100Z",
     "iopub.status.idle": "2021-07-13T18:19:15.093755Z",
     "shell.execute_reply": "2021-07-13T18:19:15.094111Z"
    },
    "papermill": {
     "duration": 0.044967,
     "end_time": "2021-07-13T18:19:15.094231",
     "exception": false,
     "start_time": "2021-07-13T18:19:15.049264",
     "status": "completed"
    },
    "tags": []
   },
   "outputs": [],
   "source": [
    "data = pd.read_pickle(input_filepath)"
   ]
  },
  {
   "cell_type": "code",
   "execution_count": 12,
   "id": "concerned-accused",
   "metadata": {
    "execution": {
     "iopub.execute_input": "2021-07-13T18:19:15.135362Z",
     "iopub.status.busy": "2021-07-13T18:19:15.134995Z",
     "iopub.status.idle": "2021-07-13T18:19:15.146203Z",
     "shell.execute_reply": "2021-07-13T18:19:15.146482Z"
    },
    "papermill": {
     "duration": 0.031125,
     "end_time": "2021-07-13T18:19:15.146586",
     "exception": false,
     "start_time": "2021-07-13T18:19:15.115461",
     "status": "completed"
    },
    "tags": []
   },
   "outputs": [
    {
     "data": {
      "text/plain": [
       "(3752, 987)"
      ]
     },
     "execution_count": 12,
     "metadata": {},
     "output_type": "execute_result"
    }
   ],
   "source": [
    "data.shape"
   ]
  },
  {
   "cell_type": "code",
   "execution_count": 13,
   "id": "signal-courage",
   "metadata": {
    "execution": {
     "iopub.execute_input": "2021-07-13T18:19:15.185532Z",
     "iopub.status.busy": "2021-07-13T18:19:15.185165Z",
     "iopub.status.idle": "2021-07-13T18:19:15.209021Z",
     "shell.execute_reply": "2021-07-13T18:19:15.208598Z"
    },
    "papermill": {
     "duration": 0.044213,
     "end_time": "2021-07-13T18:19:15.209107",
     "exception": false,
     "start_time": "2021-07-13T18:19:15.164894",
     "status": "completed"
    },
    "tags": []
   },
   "outputs": [
    {
     "data": {
      "text/html": [
       "<div>\n",
       "<style scoped>\n",
       "    .dataframe tbody tr th:only-of-type {\n",
       "        vertical-align: middle;\n",
       "    }\n",
       "\n",
       "    .dataframe tbody tr th {\n",
       "        vertical-align: top;\n",
       "    }\n",
       "\n",
       "    .dataframe thead th {\n",
       "        text-align: right;\n",
       "    }\n",
       "</style>\n",
       "<table border=\"1\" class=\"dataframe\">\n",
       "  <thead>\n",
       "    <tr style=\"text-align: right;\">\n",
       "      <th></th>\n",
       "      <th>LV1</th>\n",
       "      <th>LV2</th>\n",
       "      <th>LV3</th>\n",
       "      <th>LV4</th>\n",
       "      <th>LV5</th>\n",
       "      <th>LV6</th>\n",
       "      <th>LV7</th>\n",
       "      <th>LV8</th>\n",
       "      <th>LV9</th>\n",
       "      <th>LV10</th>\n",
       "      <th>...</th>\n",
       "      <th>LV978</th>\n",
       "      <th>LV979</th>\n",
       "      <th>LV980</th>\n",
       "      <th>LV981</th>\n",
       "      <th>LV982</th>\n",
       "      <th>LV983</th>\n",
       "      <th>LV984</th>\n",
       "      <th>LV985</th>\n",
       "      <th>LV986</th>\n",
       "      <th>LV987</th>\n",
       "    </tr>\n",
       "  </thead>\n",
       "  <tbody>\n",
       "    <tr>\n",
       "      <th>100001_raw-Food_weight</th>\n",
       "      <td>-0.695006</td>\n",
       "      <td>1.962565</td>\n",
       "      <td>0.057683</td>\n",
       "      <td>0.878731</td>\n",
       "      <td>-0.539977</td>\n",
       "      <td>1.481272</td>\n",
       "      <td>-0.396422</td>\n",
       "      <td>1.090180</td>\n",
       "      <td>0.759223</td>\n",
       "      <td>0.931395</td>\n",
       "      <td>...</td>\n",
       "      <td>1.129784</td>\n",
       "      <td>1.752343</td>\n",
       "      <td>-1.411403</td>\n",
       "      <td>2.823863</td>\n",
       "      <td>0.931116</td>\n",
       "      <td>-1.054519</td>\n",
       "      <td>0.432982</td>\n",
       "      <td>-0.633597</td>\n",
       "      <td>0.554279</td>\n",
       "      <td>-0.642479</td>\n",
       "    </tr>\n",
       "    <tr>\n",
       "      <th>100002_raw-Energy</th>\n",
       "      <td>-1.528127</td>\n",
       "      <td>-0.345309</td>\n",
       "      <td>-0.148953</td>\n",
       "      <td>-0.242060</td>\n",
       "      <td>0.373427</td>\n",
       "      <td>0.791092</td>\n",
       "      <td>0.263477</td>\n",
       "      <td>0.987702</td>\n",
       "      <td>0.354391</td>\n",
       "      <td>1.416059</td>\n",
       "      <td>...</td>\n",
       "      <td>0.224604</td>\n",
       "      <td>0.769882</td>\n",
       "      <td>-0.509482</td>\n",
       "      <td>0.091153</td>\n",
       "      <td>2.286789</td>\n",
       "      <td>-1.008256</td>\n",
       "      <td>-0.029764</td>\n",
       "      <td>1.737229</td>\n",
       "      <td>-0.272107</td>\n",
       "      <td>-0.526125</td>\n",
       "    </tr>\n",
       "    <tr>\n",
       "      <th>100003_raw-Protein</th>\n",
       "      <td>-0.704572</td>\n",
       "      <td>-1.011299</td>\n",
       "      <td>0.671420</td>\n",
       "      <td>0.143991</td>\n",
       "      <td>0.615212</td>\n",
       "      <td>0.874212</td>\n",
       "      <td>-0.040998</td>\n",
       "      <td>0.915170</td>\n",
       "      <td>0.254369</td>\n",
       "      <td>-0.084237</td>\n",
       "      <td>...</td>\n",
       "      <td>1.003019</td>\n",
       "      <td>1.044314</td>\n",
       "      <td>-2.376108</td>\n",
       "      <td>0.004778</td>\n",
       "      <td>0.053714</td>\n",
       "      <td>-0.892447</td>\n",
       "      <td>-0.183800</td>\n",
       "      <td>1.377991</td>\n",
       "      <td>-0.278794</td>\n",
       "      <td>-0.419733</td>\n",
       "    </tr>\n",
       "    <tr>\n",
       "      <th>100004_raw-Fat</th>\n",
       "      <td>-0.989832</td>\n",
       "      <td>-1.875490</td>\n",
       "      <td>0.261555</td>\n",
       "      <td>-1.420719</td>\n",
       "      <td>0.366238</td>\n",
       "      <td>1.167049</td>\n",
       "      <td>0.257387</td>\n",
       "      <td>0.717674</td>\n",
       "      <td>-0.997664</td>\n",
       "      <td>0.969825</td>\n",
       "      <td>...</td>\n",
       "      <td>0.585913</td>\n",
       "      <td>0.638314</td>\n",
       "      <td>0.119139</td>\n",
       "      <td>-0.140204</td>\n",
       "      <td>1.394326</td>\n",
       "      <td>-1.173402</td>\n",
       "      <td>0.555058</td>\n",
       "      <td>1.013982</td>\n",
       "      <td>-0.544506</td>\n",
       "      <td>-0.064061</td>\n",
       "    </tr>\n",
       "    <tr>\n",
       "      <th>100005_raw-Carbohydrate</th>\n",
       "      <td>-0.580143</td>\n",
       "      <td>0.243335</td>\n",
       "      <td>0.158966</td>\n",
       "      <td>-0.036558</td>\n",
       "      <td>0.068176</td>\n",
       "      <td>-0.202639</td>\n",
       "      <td>1.101281</td>\n",
       "      <td>0.675227</td>\n",
       "      <td>1.463432</td>\n",
       "      <td>1.010078</td>\n",
       "      <td>...</td>\n",
       "      <td>-0.249108</td>\n",
       "      <td>-0.026814</td>\n",
       "      <td>0.232713</td>\n",
       "      <td>0.323682</td>\n",
       "      <td>1.168642</td>\n",
       "      <td>-0.282935</td>\n",
       "      <td>0.653105</td>\n",
       "      <td>1.909526</td>\n",
       "      <td>0.199997</td>\n",
       "      <td>-1.656894</td>\n",
       "    </tr>\n",
       "  </tbody>\n",
       "</table>\n",
       "<p>5 rows × 987 columns</p>\n",
       "</div>"
      ],
      "text/plain": [
       "                              LV1       LV2       LV3       LV4       LV5  \\\n",
       "100001_raw-Food_weight  -0.695006  1.962565  0.057683  0.878731 -0.539977   \n",
       "100002_raw-Energy       -1.528127 -0.345309 -0.148953 -0.242060  0.373427   \n",
       "100003_raw-Protein      -0.704572 -1.011299  0.671420  0.143991  0.615212   \n",
       "100004_raw-Fat          -0.989832 -1.875490  0.261555 -1.420719  0.366238   \n",
       "100005_raw-Carbohydrate -0.580143  0.243335  0.158966 -0.036558  0.068176   \n",
       "\n",
       "                              LV6       LV7       LV8       LV9      LV10  \\\n",
       "100001_raw-Food_weight   1.481272 -0.396422  1.090180  0.759223  0.931395   \n",
       "100002_raw-Energy        0.791092  0.263477  0.987702  0.354391  1.416059   \n",
       "100003_raw-Protein       0.874212 -0.040998  0.915170  0.254369 -0.084237   \n",
       "100004_raw-Fat           1.167049  0.257387  0.717674 -0.997664  0.969825   \n",
       "100005_raw-Carbohydrate -0.202639  1.101281  0.675227  1.463432  1.010078   \n",
       "\n",
       "                         ...     LV978     LV979     LV980     LV981  \\\n",
       "100001_raw-Food_weight   ...  1.129784  1.752343 -1.411403  2.823863   \n",
       "100002_raw-Energy        ...  0.224604  0.769882 -0.509482  0.091153   \n",
       "100003_raw-Protein       ...  1.003019  1.044314 -2.376108  0.004778   \n",
       "100004_raw-Fat           ...  0.585913  0.638314  0.119139 -0.140204   \n",
       "100005_raw-Carbohydrate  ... -0.249108 -0.026814  0.232713  0.323682   \n",
       "\n",
       "                            LV982     LV983     LV984     LV985     LV986  \\\n",
       "100001_raw-Food_weight   0.931116 -1.054519  0.432982 -0.633597  0.554279   \n",
       "100002_raw-Energy        2.286789 -1.008256 -0.029764  1.737229 -0.272107   \n",
       "100003_raw-Protein       0.053714 -0.892447 -0.183800  1.377991 -0.278794   \n",
       "100004_raw-Fat           1.394326 -1.173402  0.555058  1.013982 -0.544506   \n",
       "100005_raw-Carbohydrate  1.168642 -0.282935  0.653105  1.909526  0.199997   \n",
       "\n",
       "                            LV987  \n",
       "100001_raw-Food_weight  -0.642479  \n",
       "100002_raw-Energy       -0.526125  \n",
       "100003_raw-Protein      -0.419733  \n",
       "100004_raw-Fat          -0.064061  \n",
       "100005_raw-Carbohydrate -1.656894  \n",
       "\n",
       "[5 rows x 987 columns]"
      ]
     },
     "execution_count": 13,
     "metadata": {},
     "output_type": "execute_result"
    }
   ],
   "source": [
    "data.head()"
   ]
  },
  {
   "cell_type": "markdown",
   "id": "waiting-retrieval",
   "metadata": {
    "papermill": {
     "duration": 0.017804,
     "end_time": "2021-07-13T18:19:15.245662",
     "exception": false,
     "start_time": "2021-07-13T18:19:15.227858",
     "status": "completed"
    },
    "tags": []
   },
   "source": [
    "## Clustering results"
   ]
  },
  {
   "cell_type": "code",
   "execution_count": 14,
   "id": "forty-private",
   "metadata": {
    "execution": {
     "iopub.execute_input": "2021-07-13T18:19:15.284365Z",
     "iopub.status.busy": "2021-07-13T18:19:15.284004Z",
     "iopub.status.idle": "2021-07-13T18:19:15.295695Z",
     "shell.execute_reply": "2021-07-13T18:19:15.295323Z"
    },
    "papermill": {
     "duration": 0.032127,
     "end_time": "2021-07-13T18:19:15.295780",
     "exception": false,
     "start_time": "2021-07-13T18:19:15.263653",
     "status": "completed"
    },
    "tags": []
   },
   "outputs": [
    {
     "data": {
      "text/plain": [
       "PosixPath('/home/miltondp/projects/labs/greenelab/phenoplier/base/results/clustering/consensus_clustering')"
      ]
     },
     "metadata": {},
     "output_type": "display_data"
    }
   ],
   "source": [
    "CONSENSUS_CLUSTERING_DIR = Path(\n",
    "    conf.RESULTS[\"CLUSTERING_DIR\"], \"consensus_clustering\"\n",
    ").resolve()\n",
    "\n",
    "display(CONSENSUS_CLUSTERING_DIR)"
   ]
  },
  {
   "cell_type": "code",
   "execution_count": 15,
   "id": "formed-anniversary",
   "metadata": {
    "execution": {
     "iopub.execute_input": "2021-07-13T18:19:15.336576Z",
     "iopub.status.busy": "2021-07-13T18:19:15.336209Z",
     "iopub.status.idle": "2021-07-13T18:19:15.348007Z",
     "shell.execute_reply": "2021-07-13T18:19:15.347646Z"
    },
    "papermill": {
     "duration": 0.032849,
     "end_time": "2021-07-13T18:19:15.348089",
     "exception": false,
     "start_time": "2021-07-13T18:19:15.315240",
     "status": "completed"
    },
    "tags": []
   },
   "outputs": [
    {
     "data": {
      "text/plain": [
       "PosixPath('/home/miltondp/projects/labs/greenelab/phenoplier/base/results/clustering/consensus_clustering/best_partitions_by_k.pkl')"
      ]
     },
     "metadata": {},
     "output_type": "display_data"
    }
   ],
   "source": [
    "input_file = Path(CONSENSUS_CLUSTERING_DIR, \"best_partitions_by_k.pkl\").resolve()\n",
    "display(input_file)"
   ]
  },
  {
   "cell_type": "code",
   "execution_count": 16,
   "id": "legendary-concord",
   "metadata": {
    "execution": {
     "iopub.execute_input": "2021-07-13T18:19:15.388487Z",
     "iopub.status.busy": "2021-07-13T18:19:15.388128Z",
     "iopub.status.idle": "2021-07-13T18:19:15.399303Z",
     "shell.execute_reply": "2021-07-13T18:19:15.399586Z"
    },
    "papermill": {
     "duration": 0.032559,
     "end_time": "2021-07-13T18:19:15.399693",
     "exception": false,
     "start_time": "2021-07-13T18:19:15.367134",
     "status": "completed"
    },
    "tags": []
   },
   "outputs": [],
   "source": [
    "best_partitions = pd.read_pickle(input_file)"
   ]
  },
  {
   "cell_type": "code",
   "execution_count": 17,
   "id": "known-portugal",
   "metadata": {
    "execution": {
     "iopub.execute_input": "2021-07-13T18:19:15.440144Z",
     "iopub.status.busy": "2021-07-13T18:19:15.439778Z",
     "iopub.status.idle": "2021-07-13T18:19:15.451041Z",
     "shell.execute_reply": "2021-07-13T18:19:15.451339Z"
    },
    "papermill": {
     "duration": 0.03277,
     "end_time": "2021-07-13T18:19:15.451442",
     "exception": false,
     "start_time": "2021-07-13T18:19:15.418672",
     "status": "completed"
    },
    "tags": []
   },
   "outputs": [
    {
     "data": {
      "text/plain": [
       "(59, 4)"
      ]
     },
     "execution_count": 17,
     "metadata": {},
     "output_type": "execute_result"
    }
   ],
   "source": [
    "best_partitions.shape"
   ]
  },
  {
   "cell_type": "code",
   "execution_count": 18,
   "id": "later-queensland",
   "metadata": {
    "execution": {
     "iopub.execute_input": "2021-07-13T18:19:15.492298Z",
     "iopub.status.busy": "2021-07-13T18:19:15.491934Z",
     "iopub.status.idle": "2021-07-13T18:19:15.511064Z",
     "shell.execute_reply": "2021-07-13T18:19:15.511347Z"
    },
    "papermill": {
     "duration": 0.040434,
     "end_time": "2021-07-13T18:19:15.511452",
     "exception": false,
     "start_time": "2021-07-13T18:19:15.471018",
     "status": "completed"
    },
    "tags": []
   },
   "outputs": [
    {
     "data": {
      "text/html": [
       "<div>\n",
       "<style scoped>\n",
       "    .dataframe tbody tr th:only-of-type {\n",
       "        vertical-align: middle;\n",
       "    }\n",
       "\n",
       "    .dataframe tbody tr th {\n",
       "        vertical-align: top;\n",
       "    }\n",
       "\n",
       "    .dataframe thead th {\n",
       "        text-align: right;\n",
       "    }\n",
       "</style>\n",
       "<table border=\"1\" class=\"dataframe\">\n",
       "  <thead>\n",
       "    <tr style=\"text-align: right;\">\n",
       "      <th></th>\n",
       "      <th>method</th>\n",
       "      <th>partition</th>\n",
       "      <th>ari_median</th>\n",
       "      <th>selected</th>\n",
       "    </tr>\n",
       "    <tr>\n",
       "      <th>k</th>\n",
       "      <th></th>\n",
       "      <th></th>\n",
       "      <th></th>\n",
       "      <th></th>\n",
       "    </tr>\n",
       "  </thead>\n",
       "  <tbody>\n",
       "    <tr>\n",
       "      <th>14</th>\n",
       "      <td>scc_025</td>\n",
       "      <td>[0, 0, 0, 0, 0, 0, 0, 0, 0, 0, 0, 0, 0, 0, 0, ...</td>\n",
       "      <td>0.090117</td>\n",
       "      <td>True</td>\n",
       "    </tr>\n",
       "    <tr>\n",
       "      <th>22</th>\n",
       "      <td>scc_020</td>\n",
       "      <td>[13, 18, 18, 18, 18, 18, 18, 18, 18, 13, 18, 1...</td>\n",
       "      <td>0.090100</td>\n",
       "      <td>True</td>\n",
       "    </tr>\n",
       "    <tr>\n",
       "      <th>13</th>\n",
       "      <td>scc_025</td>\n",
       "      <td>[0, 0, 0, 0, 0, 0, 0, 0, 0, 0, 0, 0, 0, 0, 0, ...</td>\n",
       "      <td>0.089920</td>\n",
       "      <td>True</td>\n",
       "    </tr>\n",
       "    <tr>\n",
       "      <th>12</th>\n",
       "      <td>scc_025</td>\n",
       "      <td>[0, 0, 0, 0, 0, 0, 0, 0, 0, 0, 0, 0, 0, 0, 0, ...</td>\n",
       "      <td>0.089894</td>\n",
       "      <td>True</td>\n",
       "    </tr>\n",
       "    <tr>\n",
       "      <th>11</th>\n",
       "      <td>scc_025</td>\n",
       "      <td>[0, 0, 0, 0, 0, 0, 0, 0, 0, 0, 0, 0, 0, 0, 0, ...</td>\n",
       "      <td>0.089616</td>\n",
       "      <td>True</td>\n",
       "    </tr>\n",
       "  </tbody>\n",
       "</table>\n",
       "</div>"
      ],
      "text/plain": [
       "     method                                          partition  ari_median  \\\n",
       "k                                                                            \n",
       "14  scc_025  [0, 0, 0, 0, 0, 0, 0, 0, 0, 0, 0, 0, 0, 0, 0, ...    0.090117   \n",
       "22  scc_020  [13, 18, 18, 18, 18, 18, 18, 18, 18, 13, 18, 1...    0.090100   \n",
       "13  scc_025  [0, 0, 0, 0, 0, 0, 0, 0, 0, 0, 0, 0, 0, 0, 0, ...    0.089920   \n",
       "12  scc_025  [0, 0, 0, 0, 0, 0, 0, 0, 0, 0, 0, 0, 0, 0, 0, ...    0.089894   \n",
       "11  scc_025  [0, 0, 0, 0, 0, 0, 0, 0, 0, 0, 0, 0, 0, 0, 0, ...    0.089616   \n",
       "\n",
       "    selected  \n",
       "k             \n",
       "14      True  \n",
       "22      True  \n",
       "13      True  \n",
       "12      True  \n",
       "11      True  "
      ]
     },
     "execution_count": 18,
     "metadata": {},
     "output_type": "execute_result"
    }
   ],
   "source": [
    "best_partitions.head()"
   ]
  },
  {
   "cell_type": "markdown",
   "id": "cloudy-remedy",
   "metadata": {
    "papermill": {
     "duration": 0.01889,
     "end_time": "2021-07-13T18:19:15.550202",
     "exception": false,
     "start_time": "2021-07-13T18:19:15.531312",
     "status": "completed"
    },
    "tags": []
   },
   "source": [
    "## MultiPLIER summary"
   ]
  },
  {
   "cell_type": "code",
   "execution_count": 19,
   "id": "composite-intensity",
   "metadata": {
    "execution": {
     "iopub.execute_input": "2021-07-13T18:19:15.590643Z",
     "iopub.status.busy": "2021-07-13T18:19:15.590287Z",
     "iopub.status.idle": "2021-07-13T18:19:15.602374Z",
     "shell.execute_reply": "2021-07-13T18:19:15.602007Z"
    },
    "papermill": {
     "duration": 0.033393,
     "end_time": "2021-07-13T18:19:15.602459",
     "exception": false,
     "start_time": "2021-07-13T18:19:15.569066",
     "status": "completed"
    },
    "tags": []
   },
   "outputs": [],
   "source": [
    "multiplier_model_summary = pd.read_pickle(conf.MULTIPLIER[\"MODEL_SUMMARY_FILE\"])"
   ]
  },
  {
   "cell_type": "code",
   "execution_count": 20,
   "id": "legendary-count",
   "metadata": {
    "execution": {
     "iopub.execute_input": "2021-07-13T18:19:15.643836Z",
     "iopub.status.busy": "2021-07-13T18:19:15.643483Z",
     "iopub.status.idle": "2021-07-13T18:19:15.654389Z",
     "shell.execute_reply": "2021-07-13T18:19:15.654687Z"
    },
    "papermill": {
     "duration": 0.03275,
     "end_time": "2021-07-13T18:19:15.654790",
     "exception": false,
     "start_time": "2021-07-13T18:19:15.622040",
     "status": "completed"
    },
    "tags": []
   },
   "outputs": [
    {
     "data": {
      "text/plain": [
       "(2157, 5)"
      ]
     },
     "execution_count": 20,
     "metadata": {},
     "output_type": "execute_result"
    }
   ],
   "source": [
    "multiplier_model_summary.shape"
   ]
  },
  {
   "cell_type": "code",
   "execution_count": 21,
   "id": "northern-second",
   "metadata": {
    "execution": {
     "iopub.execute_input": "2021-07-13T18:19:15.697640Z",
     "iopub.status.busy": "2021-07-13T18:19:15.697275Z",
     "iopub.status.idle": "2021-07-13T18:19:15.712558Z",
     "shell.execute_reply": "2021-07-13T18:19:15.712239Z"
    },
    "papermill": {
     "duration": 0.037396,
     "end_time": "2021-07-13T18:19:15.712643",
     "exception": false,
     "start_time": "2021-07-13T18:19:15.675247",
     "status": "completed"
    },
    "tags": []
   },
   "outputs": [
    {
     "data": {
      "text/html": [
       "<div>\n",
       "<style scoped>\n",
       "    .dataframe tbody tr th:only-of-type {\n",
       "        vertical-align: middle;\n",
       "    }\n",
       "\n",
       "    .dataframe tbody tr th {\n",
       "        vertical-align: top;\n",
       "    }\n",
       "\n",
       "    .dataframe thead th {\n",
       "        text-align: right;\n",
       "    }\n",
       "</style>\n",
       "<table border=\"1\" class=\"dataframe\">\n",
       "  <thead>\n",
       "    <tr style=\"text-align: right;\">\n",
       "      <th></th>\n",
       "      <th>pathway</th>\n",
       "      <th>LV index</th>\n",
       "      <th>AUC</th>\n",
       "      <th>p-value</th>\n",
       "      <th>FDR</th>\n",
       "    </tr>\n",
       "  </thead>\n",
       "  <tbody>\n",
       "    <tr>\n",
       "      <th>1</th>\n",
       "      <td>KEGG_LYSINE_DEGRADATION</td>\n",
       "      <td>1</td>\n",
       "      <td>0.388059</td>\n",
       "      <td>0.866078</td>\n",
       "      <td>0.956005</td>\n",
       "    </tr>\n",
       "    <tr>\n",
       "      <th>2</th>\n",
       "      <td>REACTOME_MRNA_SPLICING</td>\n",
       "      <td>1</td>\n",
       "      <td>0.733057</td>\n",
       "      <td>0.000048</td>\n",
       "      <td>0.000582</td>\n",
       "    </tr>\n",
       "    <tr>\n",
       "      <th>3</th>\n",
       "      <td>MIPS_NOP56P_ASSOCIATED_PRE_RRNA_COMPLEX</td>\n",
       "      <td>1</td>\n",
       "      <td>0.680555</td>\n",
       "      <td>0.001628</td>\n",
       "      <td>0.011366</td>\n",
       "    </tr>\n",
       "    <tr>\n",
       "      <th>4</th>\n",
       "      <td>KEGG_DNA_REPLICATION</td>\n",
       "      <td>1</td>\n",
       "      <td>0.549473</td>\n",
       "      <td>0.312155</td>\n",
       "      <td>0.539951</td>\n",
       "    </tr>\n",
       "    <tr>\n",
       "      <th>5</th>\n",
       "      <td>PID_MYC_ACTIVPATHWAY</td>\n",
       "      <td>1</td>\n",
       "      <td>0.639303</td>\n",
       "      <td>0.021702</td>\n",
       "      <td>0.083739</td>\n",
       "    </tr>\n",
       "  </tbody>\n",
       "</table>\n",
       "</div>"
      ],
      "text/plain": [
       "                                   pathway LV index       AUC   p-value  \\\n",
       "1                  KEGG_LYSINE_DEGRADATION        1  0.388059  0.866078   \n",
       "2                   REACTOME_MRNA_SPLICING        1  0.733057  0.000048   \n",
       "3  MIPS_NOP56P_ASSOCIATED_PRE_RRNA_COMPLEX        1  0.680555  0.001628   \n",
       "4                     KEGG_DNA_REPLICATION        1  0.549473  0.312155   \n",
       "5                     PID_MYC_ACTIVPATHWAY        1  0.639303  0.021702   \n",
       "\n",
       "        FDR  \n",
       "1  0.956005  \n",
       "2  0.000582  \n",
       "3  0.011366  \n",
       "4  0.539951  \n",
       "5  0.083739  "
      ]
     },
     "execution_count": 21,
     "metadata": {},
     "output_type": "execute_result"
    }
   ],
   "source": [
    "multiplier_model_summary.head()"
   ]
  },
  {
   "cell_type": "code",
   "execution_count": 22,
   "id": "dried-donna",
   "metadata": {
    "execution": {
     "iopub.execute_input": "2021-07-13T18:19:15.758556Z",
     "iopub.status.busy": "2021-07-13T18:19:15.758076Z",
     "iopub.status.idle": "2021-07-13T18:19:15.781495Z",
     "shell.execute_reply": "2021-07-13T18:19:15.781134Z"
    },
    "papermill": {
     "duration": 0.047991,
     "end_time": "2021-07-13T18:19:15.781591",
     "exception": false,
     "start_time": "2021-07-13T18:19:15.733600",
     "status": "completed"
    },
    "tags": []
   },
   "outputs": [
    {
     "data": {
      "text/plain": [
       "(469, 5)"
      ]
     },
     "metadata": {},
     "output_type": "display_data"
    },
    {
     "data": {
      "text/html": [
       "<div>\n",
       "<style scoped>\n",
       "    .dataframe tbody tr th:only-of-type {\n",
       "        vertical-align: middle;\n",
       "    }\n",
       "\n",
       "    .dataframe tbody tr th {\n",
       "        vertical-align: top;\n",
       "    }\n",
       "\n",
       "    .dataframe thead th {\n",
       "        text-align: right;\n",
       "    }\n",
       "</style>\n",
       "<table border=\"1\" class=\"dataframe\">\n",
       "  <thead>\n",
       "    <tr style=\"text-align: right;\">\n",
       "      <th></th>\n",
       "      <th>pathway</th>\n",
       "      <th>LV index</th>\n",
       "      <th>AUC</th>\n",
       "      <th>p-value</th>\n",
       "      <th>FDR</th>\n",
       "    </tr>\n",
       "  </thead>\n",
       "  <tbody>\n",
       "    <tr>\n",
       "      <th>2</th>\n",
       "      <td>REACTOME_MRNA_SPLICING</td>\n",
       "      <td>1</td>\n",
       "      <td>0.733057</td>\n",
       "      <td>4.772691e-05</td>\n",
       "      <td>5.816211e-04</td>\n",
       "    </tr>\n",
       "    <tr>\n",
       "      <th>3</th>\n",
       "      <td>MIPS_NOP56P_ASSOCIATED_PRE_RRNA_COMPLEX</td>\n",
       "      <td>1</td>\n",
       "      <td>0.680555</td>\n",
       "      <td>1.628217e-03</td>\n",
       "      <td>1.136590e-02</td>\n",
       "    </tr>\n",
       "    <tr>\n",
       "      <th>8</th>\n",
       "      <td>REACTOME_MITOTIC_G1_G1_S_PHASES</td>\n",
       "      <td>1</td>\n",
       "      <td>0.686170</td>\n",
       "      <td>2.517619e-04</td>\n",
       "      <td>2.392292e-03</td>\n",
       "    </tr>\n",
       "    <tr>\n",
       "      <th>9</th>\n",
       "      <td>IRIS_Monocyte-Day0</td>\n",
       "      <td>2</td>\n",
       "      <td>0.890036</td>\n",
       "      <td>4.315812e-25</td>\n",
       "      <td>1.329887e-22</td>\n",
       "    </tr>\n",
       "    <tr>\n",
       "      <th>10</th>\n",
       "      <td>DMAP_MONO2</td>\n",
       "      <td>2</td>\n",
       "      <td>0.904676</td>\n",
       "      <td>1.313970e-16</td>\n",
       "      <td>1.574574e-14</td>\n",
       "    </tr>\n",
       "  </tbody>\n",
       "</table>\n",
       "</div>"
      ],
      "text/plain": [
       "                                    pathway LV index       AUC       p-value  \\\n",
       "2                    REACTOME_MRNA_SPLICING        1  0.733057  4.772691e-05   \n",
       "3   MIPS_NOP56P_ASSOCIATED_PRE_RRNA_COMPLEX        1  0.680555  1.628217e-03   \n",
       "8           REACTOME_MITOTIC_G1_G1_S_PHASES        1  0.686170  2.517619e-04   \n",
       "9                        IRIS_Monocyte-Day0        2  0.890036  4.315812e-25   \n",
       "10                               DMAP_MONO2        2  0.904676  1.313970e-16   \n",
       "\n",
       "             FDR  \n",
       "2   5.816211e-04  \n",
       "3   1.136590e-02  \n",
       "8   2.392292e-03  \n",
       "9   1.329887e-22  \n",
       "10  1.574574e-14  "
      ]
     },
     "metadata": {},
     "output_type": "display_data"
    }
   ],
   "source": [
    "well_aligned_lvs = multiplier_model_summary[\n",
    "    (multiplier_model_summary[\"FDR\"] < 0.05) | (multiplier_model_summary[\"AUC\"] >= 0.75)\n",
    "]\n",
    "\n",
    "display(well_aligned_lvs.shape)\n",
    "display(well_aligned_lvs.head())"
   ]
  },
  {
   "cell_type": "code",
   "execution_count": 23,
   "id": "missing-samba",
   "metadata": {
    "execution": {
     "iopub.execute_input": "2021-07-13T18:19:15.830824Z",
     "iopub.status.busy": "2021-07-13T18:19:15.830456Z",
     "iopub.status.idle": "2021-07-13T18:19:15.841089Z",
     "shell.execute_reply": "2021-07-13T18:19:15.841396Z"
    },
    "papermill": {
     "duration": 0.035183,
     "end_time": "2021-07-13T18:19:15.841503",
     "exception": false,
     "start_time": "2021-07-13T18:19:15.806320",
     "status": "completed"
    },
    "tags": []
   },
   "outputs": [],
   "source": [
    "well_aligned_lv_codes = set([f\"LV{lvi}\" for lvi in well_aligned_lvs[\"LV index\"]])"
   ]
  },
  {
   "cell_type": "code",
   "execution_count": 24,
   "id": "federal-istanbul",
   "metadata": {
    "execution": {
     "iopub.execute_input": "2021-07-13T18:19:15.885420Z",
     "iopub.status.busy": "2021-07-13T18:19:15.885065Z",
     "iopub.status.idle": "2021-07-13T18:19:15.896450Z",
     "shell.execute_reply": "2021-07-13T18:19:15.896068Z"
    },
    "papermill": {
     "duration": 0.033819,
     "end_time": "2021-07-13T18:19:15.896538",
     "exception": false,
     "start_time": "2021-07-13T18:19:15.862719",
     "status": "completed"
    },
    "tags": []
   },
   "outputs": [
    {
     "data": {
      "text/plain": [
       "200"
      ]
     },
     "execution_count": 24,
     "metadata": {},
     "output_type": "execute_result"
    }
   ],
   "source": [
    "len(well_aligned_lv_codes)"
   ]
  },
  {
   "cell_type": "code",
   "execution_count": 25,
   "id": "passing-submission",
   "metadata": {
    "execution": {
     "iopub.execute_input": "2021-07-13T18:19:15.942798Z",
     "iopub.status.busy": "2021-07-13T18:19:15.942428Z",
     "iopub.status.idle": "2021-07-13T18:19:15.954625Z",
     "shell.execute_reply": "2021-07-13T18:19:15.954217Z"
    },
    "papermill": {
     "duration": 0.035911,
     "end_time": "2021-07-13T18:19:15.954717",
     "exception": false,
     "start_time": "2021-07-13T18:19:15.918806",
     "status": "completed"
    },
    "tags": []
   },
   "outputs": [
    {
     "data": {
      "text/plain": [
       "['LV598', 'LV12', 'LV954', 'LV837', 'LV81']"
      ]
     },
     "execution_count": 25,
     "metadata": {},
     "output_type": "execute_result"
    }
   ],
   "source": [
    "list(well_aligned_lv_codes)[:5]"
   ]
  },
  {
   "cell_type": "markdown",
   "id": "seasonal-browser",
   "metadata": {
    "papermill": {
     "duration": 0.020543,
     "end_time": "2021-07-13T18:19:15.998245",
     "exception": false,
     "start_time": "2021-07-13T18:19:15.977702",
     "status": "completed"
    },
    "tags": []
   },
   "source": [
    "# Select partition / cluster pairs"
   ]
  },
  {
   "cell_type": "code",
   "execution_count": 26,
   "id": "improved-jungle",
   "metadata": {
    "execution": {
     "iopub.execute_input": "2021-07-13T18:19:16.044056Z",
     "iopub.status.busy": "2021-07-13T18:19:16.043676Z",
     "iopub.status.idle": "2021-07-13T18:19:16.054852Z",
     "shell.execute_reply": "2021-07-13T18:19:16.054477Z"
    },
    "papermill": {
     "duration": 0.036074,
     "end_time": "2021-07-13T18:19:16.054936",
     "exception": false,
     "start_time": "2021-07-13T18:19:16.018862",
     "status": "completed"
    },
    "tags": []
   },
   "outputs": [],
   "source": [
    "# This dictionary specifies in the keys the partition/clusters where traits will be selected from.\n",
    "# To select the LVs, we will take those LVs that are discriminative for the partition/cluster in the key,\n",
    "# but we also include an additional set of partition/clusters since there is a hierarchy of clustering solutions,\n",
    "# one LV in those might have not been present in the original partition/cluster tuple. This is manually inferred\n",
    "# by looking at the clustering tree. For example, within the \"complex branch\", we have the partition/cluster tuple\n",
    "# (29,11), including coronary artery disease and other traits. This tuple has a set of (at most) 20 LVs that are\n",
    "# discriminative for these traits. However, at k=26, this tuple is a children of (26,13) (which is a parent of (29,16)),\n",
    "# which has another set of discriminative LVs. We also take those ones for (29,11).\n",
    "#\n",
    "# key: a tuple (partition_k or ID, cluster_id)\n",
    "# value: a list of tuples (each tuple having two elements: (partition_k or ID, cluster_id))\n",
    "PHENOTYPES_LVS_CONFIG = {\n",
    "    # cardiovascular\n",
    "    (29, 14): [(16, 15)],\n",
    "    (29, 16): [(26, 13), (16, 15)],\n",
    "    (29, 11): [(26, 13), (16, 15)],\n",
    "    (29, 21): [(26, 25), (22, 0), (16, 15)],\n",
    "    (29, 17): [],\n",
    "    # autoimmune\n",
    "    (29, 8): [(25, 18), (22, 8)],\n",
    "    (29, 26): [(25, 12), (25, 18), (22, 8)],\n",
    "    (29, 13): [(25, 12), (22, 8)],\n",
    "    # keratometry\n",
    "    (29, 10): [],\n",
    "    # heel bone mineral density\n",
    "    (29, 15): [],\n",
    "    # hapiness\n",
    "    (29, 27): [],\n",
    "    # asthma\n",
    "    # (29, 12): [],\n",
    "    # neutrophils\n",
    "    (29, 9): [],\n",
    "}"
   ]
  },
  {
   "cell_type": "code",
   "execution_count": 27,
   "id": "printable-spice",
   "metadata": {
    "execution": {
     "iopub.execute_input": "2021-07-13T18:19:16.100641Z",
     "iopub.status.busy": "2021-07-13T18:19:16.100284Z",
     "iopub.status.idle": "2021-07-13T18:19:16.111909Z",
     "shell.execute_reply": "2021-07-13T18:19:16.111533Z"
    },
    "papermill": {
     "duration": 0.035426,
     "end_time": "2021-07-13T18:19:16.111996",
     "exception": false,
     "start_time": "2021-07-13T18:19:16.076570",
     "status": "completed"
    },
    "tags": []
   },
   "outputs": [
    {
     "data": {
      "text/plain": [
       "PosixPath('/home/miltondp/projects/labs/greenelab/phenoplier/base/results/clustering/interpretation/cluster_lvs')"
      ]
     },
     "metadata": {},
     "output_type": "display_data"
    }
   ],
   "source": [
    "CLUSTER_LV_DIR = conf.RESULTS[\"CLUSTERING_INTERPRETATION\"][\"BASE_DIR\"] / \"cluster_lvs\"\n",
    "assert CLUSTER_LV_DIR.exists()\n",
    "\n",
    "display(CLUSTER_LV_DIR)"
   ]
  },
  {
   "cell_type": "code",
   "execution_count": 28,
   "id": "grave-aside",
   "metadata": {
    "execution": {
     "iopub.execute_input": "2021-07-13T18:19:16.157632Z",
     "iopub.status.busy": "2021-07-13T18:19:16.157273Z",
     "iopub.status.idle": "2021-07-13T18:19:16.167912Z",
     "shell.execute_reply": "2021-07-13T18:19:16.167535Z"
    },
    "papermill": {
     "duration": 0.034306,
     "end_time": "2021-07-13T18:19:16.167998",
     "exception": false,
     "start_time": "2021-07-13T18:19:16.133692",
     "status": "completed"
    },
    "tags": []
   },
   "outputs": [],
   "source": [
    "def _get_lvs_data(part_k, cluster_idx):\n",
    "    \"\"\"\n",
    "    For a partition/cluster pair, it returns a list of LV names that are discriminative for that cluster.\n",
    "    \"\"\"\n",
    "    cluster_lvs = pd.read_pickle(\n",
    "        CLUSTER_LV_DIR\n",
    "        / f\"part{part_k}\"\n",
    "        / f\"cluster_interpreter-part{part_k}_k{cluster_idx}.pkl\"\n",
    "    )\n",
    "\n",
    "    return list(cluster_lvs[\"name\"])"
   ]
  },
  {
   "cell_type": "code",
   "execution_count": 29,
   "id": "clinical-departure",
   "metadata": {
    "execution": {
     "iopub.execute_input": "2021-07-13T18:19:16.213480Z",
     "iopub.status.busy": "2021-07-13T18:19:16.213116Z",
     "iopub.status.idle": "2021-07-13T18:19:16.225279Z",
     "shell.execute_reply": "2021-07-13T18:19:16.225554Z"
    },
    "papermill": {
     "duration": 0.035677,
     "end_time": "2021-07-13T18:19:16.225658",
     "exception": false,
     "start_time": "2021-07-13T18:19:16.189981",
     "status": "completed"
    },
    "tags": []
   },
   "outputs": [
    {
     "data": {
      "text/plain": [
       "['LV140', 'LV884', 'LV727', 'LV455', 'LV136']"
      ]
     },
     "execution_count": 29,
     "metadata": {},
     "output_type": "execute_result"
    }
   ],
   "source": [
    "_get_lvs_data(29, 11)[:5]"
   ]
  },
  {
   "cell_type": "markdown",
   "id": "bigger-secretary",
   "metadata": {
    "papermill": {
     "duration": 0.021719,
     "end_time": "2021-07-13T18:19:16.269567",
     "exception": false,
     "start_time": "2021-07-13T18:19:16.247848",
     "status": "completed"
    },
    "tags": []
   },
   "source": [
    "# GLSPhenoplier"
   ]
  },
  {
   "cell_type": "markdown",
   "id": "challenging-characteristic",
   "metadata": {
    "papermill": {
     "duration": 0.022119,
     "end_time": "2021-07-13T18:19:16.313338",
     "exception": false,
     "start_time": "2021-07-13T18:19:16.291219",
     "status": "completed"
    },
    "tags": []
   },
   "source": [
    "## Get list of phenotypes/lvs pairs"
   ]
  },
  {
   "cell_type": "markdown",
   "id": "diagnostic-namibia",
   "metadata": {
    "papermill": {
     "duration": 0.021199,
     "end_time": "2021-07-13T18:19:16.356258",
     "exception": false,
     "start_time": "2021-07-13T18:19:16.335059",
     "status": "completed"
    },
    "tags": []
   },
   "source": [
    "Here I get a list of phenotype/lv pairs to run GLSPhenoplier on. I do this because I don't need to train the model\n",
    "for all LVs and all traits. The pairs are read from the `PHENOTYPES_LVS_CONFIG` dictionary specified before."
   ]
  },
  {
   "cell_type": "code",
   "execution_count": 30,
   "id": "million-liquid",
   "metadata": {
    "execution": {
     "iopub.execute_input": "2021-07-13T18:19:16.402777Z",
     "iopub.status.busy": "2021-07-13T18:19:16.402399Z",
     "iopub.status.idle": "2021-07-13T18:19:16.478152Z",
     "shell.execute_reply": "2021-07-13T18:19:16.477719Z"
    },
    "papermill": {
     "duration": 0.100626,
     "end_time": "2021-07-13T18:19:16.478258",
     "exception": false,
     "start_time": "2021-07-13T18:19:16.377632",
     "status": "completed"
    },
    "tags": []
   },
   "outputs": [],
   "source": [
    "phenotypes_lvs_pairs = []\n",
    "\n",
    "for (part_k, cluster_id), extra_for_lvs in PHENOTYPES_LVS_CONFIG.items():\n",
    "    # get traits from the partition/cluster\n",
    "    part = best_partitions.loc[part_k, \"partition\"]\n",
    "    cluster_traits = data.index[part == cluster_id]\n",
    "\n",
    "    # get first the LVs that are predictive for this partition/cluster\n",
    "    # then, add extra LVs from the partition/cluster \"parents\" specified in\n",
    "    # PHENOTYPES_LVS_CONFIG as a list of values\n",
    "    lv_list = _get_lvs_data(part_k, cluster_id)\n",
    "\n",
    "    for extra_part_k, extra_cluster_id in extra_for_lvs:\n",
    "        extra_lv_list = _get_lvs_data(part_k, cluster_id)\n",
    "        lv_list.extend(extra_lv_list)\n",
    "\n",
    "    # now create the list of trait/lv pairs where GLSPhenoplier will be run on later\n",
    "    for phenotype_code in cluster_traits:\n",
    "        for lv_code in lv_list:\n",
    "            phenotypes_lvs_pairs.append(\n",
    "                {\n",
    "                    \"phenotype_part_k\": part_k,\n",
    "                    \"phenotype_cluster_id\": cluster_id,\n",
    "                    \"phenotype\": phenotype_code,\n",
    "                    \"lv\": lv_code,\n",
    "                }\n",
    "            )\n",
    "\n",
    "phenotypes_lvs_pairs = pd.DataFrame(phenotypes_lvs_pairs).drop_duplicates()"
   ]
  },
  {
   "cell_type": "code",
   "execution_count": 31,
   "id": "cathedral-intro",
   "metadata": {
    "execution": {
     "iopub.execute_input": "2021-07-13T18:19:16.532445Z",
     "iopub.status.busy": "2021-07-13T18:19:16.532066Z",
     "iopub.status.idle": "2021-07-13T18:19:16.544241Z",
     "shell.execute_reply": "2021-07-13T18:19:16.544530Z"
    },
    "papermill": {
     "duration": 0.037996,
     "end_time": "2021-07-13T18:19:16.544640",
     "exception": false,
     "start_time": "2021-07-13T18:19:16.506644",
     "status": "completed"
    },
    "tags": []
   },
   "outputs": [],
   "source": [
    "phenotypes_lvs_pairs = phenotypes_lvs_pairs.sort_values(\"phenotype\").reset_index(\n",
    "    drop=True\n",
    ")"
   ]
  },
  {
   "cell_type": "code",
   "execution_count": 32,
   "id": "filled-korean",
   "metadata": {
    "execution": {
     "iopub.execute_input": "2021-07-13T18:19:16.590491Z",
     "iopub.status.busy": "2021-07-13T18:19:16.590093Z",
     "iopub.status.idle": "2021-07-13T18:19:16.600986Z",
     "shell.execute_reply": "2021-07-13T18:19:16.601278Z"
    },
    "papermill": {
     "duration": 0.034724,
     "end_time": "2021-07-13T18:19:16.601386",
     "exception": false,
     "start_time": "2021-07-13T18:19:16.566662",
     "status": "completed"
    },
    "tags": []
   },
   "outputs": [
    {
     "data": {
      "text/plain": [
       "(2640, 4)"
      ]
     },
     "execution_count": 32,
     "metadata": {},
     "output_type": "execute_result"
    }
   ],
   "source": [
    "phenotypes_lvs_pairs.shape"
   ]
  },
  {
   "cell_type": "code",
   "execution_count": 33,
   "id": "korean-october",
   "metadata": {
    "execution": {
     "iopub.execute_input": "2021-07-13T18:19:16.649471Z",
     "iopub.status.busy": "2021-07-13T18:19:16.649107Z",
     "iopub.status.idle": "2021-07-13T18:19:16.663360Z",
     "shell.execute_reply": "2021-07-13T18:19:16.662982Z"
    },
    "papermill": {
     "duration": 0.038704,
     "end_time": "2021-07-13T18:19:16.663442",
     "exception": false,
     "start_time": "2021-07-13T18:19:16.624738",
     "status": "completed"
    },
    "tags": []
   },
   "outputs": [
    {
     "data": {
      "text/html": [
       "<div>\n",
       "<style scoped>\n",
       "    .dataframe tbody tr th:only-of-type {\n",
       "        vertical-align: middle;\n",
       "    }\n",
       "\n",
       "    .dataframe tbody tr th {\n",
       "        vertical-align: top;\n",
       "    }\n",
       "\n",
       "    .dataframe thead th {\n",
       "        text-align: right;\n",
       "    }\n",
       "</style>\n",
       "<table border=\"1\" class=\"dataframe\">\n",
       "  <thead>\n",
       "    <tr style=\"text-align: right;\">\n",
       "      <th></th>\n",
       "      <th>phenotype_part_k</th>\n",
       "      <th>phenotype_cluster_id</th>\n",
       "      <th>phenotype</th>\n",
       "      <th>lv</th>\n",
       "    </tr>\n",
       "  </thead>\n",
       "  <tbody>\n",
       "    <tr>\n",
       "      <th>0</th>\n",
       "      <td>29</td>\n",
       "      <td>17</td>\n",
       "      <td>20003_1140861958-Treatmentmedication_code_simv...</td>\n",
       "      <td>LV744</td>\n",
       "    </tr>\n",
       "    <tr>\n",
       "      <th>1</th>\n",
       "      <td>29</td>\n",
       "      <td>17</td>\n",
       "      <td>20003_1140861958-Treatmentmedication_code_simv...</td>\n",
       "      <td>LV841</td>\n",
       "    </tr>\n",
       "    <tr>\n",
       "      <th>2</th>\n",
       "      <td>29</td>\n",
       "      <td>17</td>\n",
       "      <td>20003_1140861958-Treatmentmedication_code_simv...</td>\n",
       "      <td>LV65</td>\n",
       "    </tr>\n",
       "    <tr>\n",
       "      <th>3</th>\n",
       "      <td>29</td>\n",
       "      <td>17</td>\n",
       "      <td>20003_1140861958-Treatmentmedication_code_simv...</td>\n",
       "      <td>LV515</td>\n",
       "    </tr>\n",
       "    <tr>\n",
       "      <th>4</th>\n",
       "      <td>29</td>\n",
       "      <td>17</td>\n",
       "      <td>20003_1140861958-Treatmentmedication_code_simv...</td>\n",
       "      <td>LV847</td>\n",
       "    </tr>\n",
       "  </tbody>\n",
       "</table>\n",
       "</div>"
      ],
      "text/plain": [
       "   phenotype_part_k  phenotype_cluster_id  \\\n",
       "0                29                    17   \n",
       "1                29                    17   \n",
       "2                29                    17   \n",
       "3                29                    17   \n",
       "4                29                    17   \n",
       "\n",
       "                                           phenotype     lv  \n",
       "0  20003_1140861958-Treatmentmedication_code_simv...  LV744  \n",
       "1  20003_1140861958-Treatmentmedication_code_simv...  LV841  \n",
       "2  20003_1140861958-Treatmentmedication_code_simv...   LV65  \n",
       "3  20003_1140861958-Treatmentmedication_code_simv...  LV515  \n",
       "4  20003_1140861958-Treatmentmedication_code_simv...  LV847  "
      ]
     },
     "execution_count": 33,
     "metadata": {},
     "output_type": "execute_result"
    }
   ],
   "source": [
    "phenotypes_lvs_pairs.head()"
   ]
  },
  {
   "cell_type": "markdown",
   "id": "excellent-aircraft",
   "metadata": {
    "papermill": {
     "duration": 0.021942,
     "end_time": "2021-07-13T18:19:16.707835",
     "exception": false,
     "start_time": "2021-07-13T18:19:16.685893",
     "status": "completed"
    },
    "tags": []
   },
   "source": [
    "## Run"
   ]
  },
  {
   "cell_type": "code",
   "execution_count": 34,
   "id": "abandoned-pixel",
   "metadata": {
    "execution": {
     "iopub.execute_input": "2021-07-13T18:19:16.756452Z",
     "iopub.status.busy": "2021-07-13T18:19:16.756079Z",
     "iopub.status.idle": "2021-07-14T01:11:59.250549Z",
     "shell.execute_reply": "2021-07-14T01:11:59.249712Z"
    },
    "papermill": {
     "duration": 24762.52063,
     "end_time": "2021-07-14T01:11:59.250634",
     "exception": false,
     "start_time": "2021-07-13T18:19:16.730004",
     "status": "completed"
    },
    "tags": []
   },
   "outputs": [
    {
     "name": "stderr",
     "output_type": "stream",
     "text": [
      "systemic lupus erythematosus - LV884: 100%|██████████| 2640/2640 [6:52:41<00:00,  9.38s/it]\n"
     ]
    }
   ],
   "source": [
    "results = []\n",
    "\n",
    "pbar = tqdm(total=phenotypes_lvs_pairs.shape[0])\n",
    "\n",
    "for idx, row in phenotypes_lvs_pairs.iterrows():\n",
    "    phenotype_code = row[\"phenotype\"]\n",
    "    lv_code = row[\"lv\"]\n",
    "\n",
    "    pbar.set_description(f\"{phenotype_code} - {lv_code}\")\n",
    "\n",
    "    gls_model = GLSPhenoplier(\n",
    "        smultixcan_result_set_filepath=conf.PHENOMEXCAN[\n",
    "            \"SMULTIXCAN_EFO_PARTIAL_MASHR_ZSCORES_FILE\"\n",
    "        ]\n",
    "    )\n",
    "    gls_model.fit_named(lv_code, phenotype_code)\n",
    "    res = gls_model.results\n",
    "\n",
    "    results.append(\n",
    "        {\n",
    "            \"part_k\": row[\"phenotype_part_k\"],\n",
    "            \"cluster_id\": row[\"phenotype_cluster_id\"],\n",
    "            \"phenotype\": phenotype_code,\n",
    "            \"lv\": lv_code,\n",
    "            \"lv_with_pathway\": lv_code in well_aligned_lv_codes,\n",
    "            \"coef\": res.params.loc[\"lv\"],\n",
    "            \"pvalue\": res.pvalues_onesided.loc[\"lv\"],\n",
    "            \"pvalue_twosided\": res.pvalues.loc[\"lv\"],\n",
    "            \"summary\": gls_model.results_summary,\n",
    "        }\n",
    "    )\n",
    "\n",
    "    # save results every 10 models trained\n",
    "    if (idx % 10) == 0:\n",
    "        pd.DataFrame(results).to_pickle(OUTPUT_FILENAME)\n",
    "\n",
    "    pbar.update(1)\n",
    "\n",
    "pbar.close()"
   ]
  },
  {
   "cell_type": "code",
   "execution_count": 35,
   "id": "described-wrapping",
   "metadata": {
    "execution": {
     "iopub.execute_input": "2021-07-14T01:12:00.989517Z",
     "iopub.status.busy": "2021-07-14T01:12:00.989103Z",
     "iopub.status.idle": "2021-07-14T01:12:01.008531Z",
     "shell.execute_reply": "2021-07-14T01:12:01.008128Z"
    },
    "papermill": {
     "duration": 0.913087,
     "end_time": "2021-07-14T01:12:01.008630",
     "exception": false,
     "start_time": "2021-07-14T01:12:00.095543",
     "status": "completed"
    },
    "tags": []
   },
   "outputs": [],
   "source": [
    "results = pd.DataFrame(results)"
   ]
  },
  {
   "cell_type": "code",
   "execution_count": 36,
   "id": "adjacent-fellowship",
   "metadata": {
    "execution": {
     "iopub.execute_input": "2021-07-14T01:12:02.677731Z",
     "iopub.status.busy": "2021-07-14T01:12:02.677351Z",
     "iopub.status.idle": "2021-07-14T01:12:02.688799Z",
     "shell.execute_reply": "2021-07-14T01:12:02.689107Z"
    },
    "papermill": {
     "duration": 0.851426,
     "end_time": "2021-07-14T01:12:02.689215",
     "exception": false,
     "start_time": "2021-07-14T01:12:01.837789",
     "status": "completed"
    },
    "tags": []
   },
   "outputs": [
    {
     "data": {
      "text/plain": [
       "(2640, 9)"
      ]
     },
     "execution_count": 36,
     "metadata": {},
     "output_type": "execute_result"
    }
   ],
   "source": [
    "results.shape"
   ]
  },
  {
   "cell_type": "code",
   "execution_count": 37,
   "id": "unexpected-console",
   "metadata": {
    "execution": {
     "iopub.execute_input": "2021-07-14T01:12:04.355904Z",
     "iopub.status.busy": "2021-07-14T01:12:04.355530Z",
     "iopub.status.idle": "2021-07-14T01:12:04.389526Z",
     "shell.execute_reply": "2021-07-14T01:12:04.389143Z"
    },
    "papermill": {
     "duration": 0.881399,
     "end_time": "2021-07-14T01:12:04.389615",
     "exception": false,
     "start_time": "2021-07-14T01:12:03.508216",
     "status": "completed"
    },
    "tags": []
   },
   "outputs": [
    {
     "data": {
      "text/html": [
       "<div>\n",
       "<style scoped>\n",
       "    .dataframe tbody tr th:only-of-type {\n",
       "        vertical-align: middle;\n",
       "    }\n",
       "\n",
       "    .dataframe tbody tr th {\n",
       "        vertical-align: top;\n",
       "    }\n",
       "\n",
       "    .dataframe thead th {\n",
       "        text-align: right;\n",
       "    }\n",
       "</style>\n",
       "<table border=\"1\" class=\"dataframe\">\n",
       "  <thead>\n",
       "    <tr style=\"text-align: right;\">\n",
       "      <th></th>\n",
       "      <th>part_k</th>\n",
       "      <th>cluster_id</th>\n",
       "      <th>phenotype</th>\n",
       "      <th>lv</th>\n",
       "      <th>lv_with_pathway</th>\n",
       "      <th>coef</th>\n",
       "      <th>pvalue</th>\n",
       "      <th>pvalue_twosided</th>\n",
       "      <th>summary</th>\n",
       "    </tr>\n",
       "  </thead>\n",
       "  <tbody>\n",
       "    <tr>\n",
       "      <th>0</th>\n",
       "      <td>29</td>\n",
       "      <td>17</td>\n",
       "      <td>20003_1140861958-Treatmentmedication_code_simv...</td>\n",
       "      <td>LV744</td>\n",
       "      <td>False</td>\n",
       "      <td>0.017663</td>\n",
       "      <td>0.083346</td>\n",
       "      <td>0.166692</td>\n",
       "      <td>GLS Regression Res...</td>\n",
       "    </tr>\n",
       "    <tr>\n",
       "      <th>1</th>\n",
       "      <td>29</td>\n",
       "      <td>17</td>\n",
       "      <td>20003_1140861958-Treatmentmedication_code_simv...</td>\n",
       "      <td>LV841</td>\n",
       "      <td>False</td>\n",
       "      <td>0.033055</td>\n",
       "      <td>0.004121</td>\n",
       "      <td>0.008241</td>\n",
       "      <td>GLS Regression Res...</td>\n",
       "    </tr>\n",
       "    <tr>\n",
       "      <th>2</th>\n",
       "      <td>29</td>\n",
       "      <td>17</td>\n",
       "      <td>20003_1140861958-Treatmentmedication_code_simv...</td>\n",
       "      <td>LV65</td>\n",
       "      <td>False</td>\n",
       "      <td>0.013617</td>\n",
       "      <td>0.138593</td>\n",
       "      <td>0.277185</td>\n",
       "      <td>GLS Regression Res...</td>\n",
       "    </tr>\n",
       "    <tr>\n",
       "      <th>3</th>\n",
       "      <td>29</td>\n",
       "      <td>17</td>\n",
       "      <td>20003_1140861958-Treatmentmedication_code_simv...</td>\n",
       "      <td>LV515</td>\n",
       "      <td>False</td>\n",
       "      <td>-0.012351</td>\n",
       "      <td>0.834867</td>\n",
       "      <td>0.330265</td>\n",
       "      <td>GLS Regression Res...</td>\n",
       "    </tr>\n",
       "    <tr>\n",
       "      <th>4</th>\n",
       "      <td>29</td>\n",
       "      <td>17</td>\n",
       "      <td>20003_1140861958-Treatmentmedication_code_simv...</td>\n",
       "      <td>LV847</td>\n",
       "      <td>True</td>\n",
       "      <td>0.005045</td>\n",
       "      <td>0.346233</td>\n",
       "      <td>0.692465</td>\n",
       "      <td>GLS Regression Res...</td>\n",
       "    </tr>\n",
       "  </tbody>\n",
       "</table>\n",
       "</div>"
      ],
      "text/plain": [
       "   part_k  cluster_id                                          phenotype  \\\n",
       "0      29          17  20003_1140861958-Treatmentmedication_code_simv...   \n",
       "1      29          17  20003_1140861958-Treatmentmedication_code_simv...   \n",
       "2      29          17  20003_1140861958-Treatmentmedication_code_simv...   \n",
       "3      29          17  20003_1140861958-Treatmentmedication_code_simv...   \n",
       "4      29          17  20003_1140861958-Treatmentmedication_code_simv...   \n",
       "\n",
       "      lv  lv_with_pathway      coef    pvalue  pvalue_twosided  \\\n",
       "0  LV744            False  0.017663  0.083346         0.166692   \n",
       "1  LV841            False  0.033055  0.004121         0.008241   \n",
       "2   LV65            False  0.013617  0.138593         0.277185   \n",
       "3  LV515            False -0.012351  0.834867         0.330265   \n",
       "4  LV847             True  0.005045  0.346233         0.692465   \n",
       "\n",
       "                                             summary  \n",
       "0                              GLS Regression Res...  \n",
       "1                              GLS Regression Res...  \n",
       "2                              GLS Regression Res...  \n",
       "3                              GLS Regression Res...  \n",
       "4                              GLS Regression Res...  "
      ]
     },
     "execution_count": 37,
     "metadata": {},
     "output_type": "execute_result"
    }
   ],
   "source": [
    "results.head()"
   ]
  },
  {
   "cell_type": "code",
   "execution_count": 38,
   "id": "stylish-newark",
   "metadata": {
    "execution": {
     "iopub.execute_input": "2021-07-14T01:12:06.111289Z",
     "iopub.status.busy": "2021-07-14T01:12:06.110887Z",
     "iopub.status.idle": "2021-07-14T01:12:06.163683Z",
     "shell.execute_reply": "2021-07-14T01:12:06.163255Z"
    },
    "papermill": {
     "duration": 0.914562,
     "end_time": "2021-07-14T01:12:06.163803",
     "exception": false,
     "start_time": "2021-07-14T01:12:05.249241",
     "status": "completed"
    },
    "tags": []
   },
   "outputs": [
    {
     "data": {
      "text/html": [
       "<div>\n",
       "<style scoped>\n",
       "    .dataframe tbody tr th:only-of-type {\n",
       "        vertical-align: middle;\n",
       "    }\n",
       "\n",
       "    .dataframe tbody tr th {\n",
       "        vertical-align: top;\n",
       "    }\n",
       "\n",
       "    .dataframe thead th {\n",
       "        text-align: right;\n",
       "    }\n",
       "</style>\n",
       "<table border=\"1\" class=\"dataframe\">\n",
       "  <thead>\n",
       "    <tr style=\"text-align: right;\">\n",
       "      <th></th>\n",
       "      <th>part_k</th>\n",
       "      <th>cluster_id</th>\n",
       "      <th>phenotype</th>\n",
       "      <th>lv</th>\n",
       "      <th>lv_with_pathway</th>\n",
       "      <th>coef</th>\n",
       "      <th>pvalue</th>\n",
       "      <th>pvalue_twosided</th>\n",
       "      <th>summary</th>\n",
       "    </tr>\n",
       "  </thead>\n",
       "  <tbody>\n",
       "    <tr>\n",
       "      <th>2149</th>\n",
       "      <td>29</td>\n",
       "      <td>8</td>\n",
       "      <td>celiac disease</td>\n",
       "      <td>LV45</td>\n",
       "      <td>True</td>\n",
       "      <td>0.218140</td>\n",
       "      <td>1.583871e-65</td>\n",
       "      <td>3.167741e-65</td>\n",
       "      <td>GLS Regression Res...</td>\n",
       "    </tr>\n",
       "    <tr>\n",
       "      <th>2552</th>\n",
       "      <td>29</td>\n",
       "      <td>26</td>\n",
       "      <td>rheumatoid arthritis</td>\n",
       "      <td>LV844</td>\n",
       "      <td>True</td>\n",
       "      <td>0.213363</td>\n",
       "      <td>1.654901e-60</td>\n",
       "      <td>3.309802e-60</td>\n",
       "      <td>GLS Regression Res...</td>\n",
       "    </tr>\n",
       "    <tr>\n",
       "      <th>2140</th>\n",
       "      <td>29</td>\n",
       "      <td>8</td>\n",
       "      <td>celiac disease</td>\n",
       "      <td>LV844</td>\n",
       "      <td>True</td>\n",
       "      <td>0.186304</td>\n",
       "      <td>2.808639e-46</td>\n",
       "      <td>5.617279e-46</td>\n",
       "      <td>GLS Regression Res...</td>\n",
       "    </tr>\n",
       "    <tr>\n",
       "      <th>1959</th>\n",
       "      <td>29</td>\n",
       "      <td>8</td>\n",
       "      <td>K11_COELIAC-Coeliac_disease</td>\n",
       "      <td>LV844</td>\n",
       "      <td>True</td>\n",
       "      <td>0.181586</td>\n",
       "      <td>3.689822e-44</td>\n",
       "      <td>7.379644e-44</td>\n",
       "      <td>GLS Regression Res...</td>\n",
       "    </tr>\n",
       "    <tr>\n",
       "      <th>2441</th>\n",
       "      <td>29</td>\n",
       "      <td>8</td>\n",
       "      <td>malabsorption syndrome</td>\n",
       "      <td>LV844</td>\n",
       "      <td>True</td>\n",
       "      <td>0.178538</td>\n",
       "      <td>1.369219e-42</td>\n",
       "      <td>2.738438e-42</td>\n",
       "      <td>GLS Regression Res...</td>\n",
       "    </tr>\n",
       "    <tr>\n",
       "      <th>2442</th>\n",
       "      <td>29</td>\n",
       "      <td>8</td>\n",
       "      <td>malabsorption syndrome</td>\n",
       "      <td>LV45</td>\n",
       "      <td>True</td>\n",
       "      <td>0.174537</td>\n",
       "      <td>2.407853e-42</td>\n",
       "      <td>4.815707e-42</td>\n",
       "      <td>GLS Regression Res...</td>\n",
       "    </tr>\n",
       "    <tr>\n",
       "      <th>1044</th>\n",
       "      <td>29</td>\n",
       "      <td>13</td>\n",
       "      <td>2986-Started_insulin_within_one_year_diagnosis...</td>\n",
       "      <td>LV844</td>\n",
       "      <td>True</td>\n",
       "      <td>0.173429</td>\n",
       "      <td>2.419091e-40</td>\n",
       "      <td>4.838181e-40</td>\n",
       "      <td>GLS Regression Res...</td>\n",
       "    </tr>\n",
       "    <tr>\n",
       "      <th>1940</th>\n",
       "      <td>29</td>\n",
       "      <td>8</td>\n",
       "      <td>K11_COELIAC-Coeliac_disease</td>\n",
       "      <td>LV45</td>\n",
       "      <td>True</td>\n",
       "      <td>0.168834</td>\n",
       "      <td>7.421566e-40</td>\n",
       "      <td>1.484313e-39</td>\n",
       "      <td>GLS Regression Res...</td>\n",
       "    </tr>\n",
       "    <tr>\n",
       "      <th>2636</th>\n",
       "      <td>29</td>\n",
       "      <td>26</td>\n",
       "      <td>systemic lupus erythematosus</td>\n",
       "      <td>LV844</td>\n",
       "      <td>True</td>\n",
       "      <td>0.166806</td>\n",
       "      <td>2.454823e-37</td>\n",
       "      <td>4.909646e-37</td>\n",
       "      <td>GLS Regression Res...</td>\n",
       "    </tr>\n",
       "    <tr>\n",
       "      <th>1039</th>\n",
       "      <td>29</td>\n",
       "      <td>13</td>\n",
       "      <td>2976_raw-Age_diabetes_diagnosed</td>\n",
       "      <td>LV844</td>\n",
       "      <td>True</td>\n",
       "      <td>0.165499</td>\n",
       "      <td>7.621479e-37</td>\n",
       "      <td>1.524296e-36</td>\n",
       "      <td>GLS Regression Res...</td>\n",
       "    </tr>\n",
       "  </tbody>\n",
       "</table>\n",
       "</div>"
      ],
      "text/plain": [
       "      part_k  cluster_id                                          phenotype  \\\n",
       "2149      29           8                                     celiac disease   \n",
       "2552      29          26                               rheumatoid arthritis   \n",
       "2140      29           8                                     celiac disease   \n",
       "1959      29           8                        K11_COELIAC-Coeliac_disease   \n",
       "2441      29           8                             malabsorption syndrome   \n",
       "2442      29           8                             malabsorption syndrome   \n",
       "1044      29          13  2986-Started_insulin_within_one_year_diagnosis...   \n",
       "1940      29           8                        K11_COELIAC-Coeliac_disease   \n",
       "2636      29          26                       systemic lupus erythematosus   \n",
       "1039      29          13                    2976_raw-Age_diabetes_diagnosed   \n",
       "\n",
       "         lv  lv_with_pathway      coef        pvalue  pvalue_twosided  \\\n",
       "2149   LV45             True  0.218140  1.583871e-65     3.167741e-65   \n",
       "2552  LV844             True  0.213363  1.654901e-60     3.309802e-60   \n",
       "2140  LV844             True  0.186304  2.808639e-46     5.617279e-46   \n",
       "1959  LV844             True  0.181586  3.689822e-44     7.379644e-44   \n",
       "2441  LV844             True  0.178538  1.369219e-42     2.738438e-42   \n",
       "2442   LV45             True  0.174537  2.407853e-42     4.815707e-42   \n",
       "1044  LV844             True  0.173429  2.419091e-40     4.838181e-40   \n",
       "1940   LV45             True  0.168834  7.421566e-40     1.484313e-39   \n",
       "2636  LV844             True  0.166806  2.454823e-37     4.909646e-37   \n",
       "1039  LV844             True  0.165499  7.621479e-37     1.524296e-36   \n",
       "\n",
       "                                                summary  \n",
       "2149                              GLS Regression Res...  \n",
       "2552                              GLS Regression Res...  \n",
       "2140                              GLS Regression Res...  \n",
       "1959                              GLS Regression Res...  \n",
       "2441                              GLS Regression Res...  \n",
       "2442                              GLS Regression Res...  \n",
       "1044                              GLS Regression Res...  \n",
       "1940                              GLS Regression Res...  \n",
       "2636                              GLS Regression Res...  \n",
       "1039                              GLS Regression Res...  "
      ]
     },
     "execution_count": 38,
     "metadata": {},
     "output_type": "execute_result"
    }
   ],
   "source": [
    "results.sort_values(\"pvalue\").head(10)"
   ]
  },
  {
   "cell_type": "markdown",
   "id": "sitting-facility",
   "metadata": {
    "papermill": {
     "duration": 0.850472,
     "end_time": "2021-07-14T01:12:07.851693",
     "exception": false,
     "start_time": "2021-07-14T01:12:07.001221",
     "status": "completed"
    },
    "tags": []
   },
   "source": [
    "## Save"
   ]
  },
  {
   "cell_type": "code",
   "execution_count": 39,
   "id": "expected-amino",
   "metadata": {
    "execution": {
     "iopub.execute_input": "2021-07-14T01:12:09.588630Z",
     "iopub.status.busy": "2021-07-14T01:12:09.588255Z",
     "iopub.status.idle": "2021-07-14T01:12:10.298431Z",
     "shell.execute_reply": "2021-07-14T01:12:10.297101Z"
    },
    "papermill": {
     "duration": 1.548956,
     "end_time": "2021-07-14T01:12:10.298766",
     "exception": false,
     "start_time": "2021-07-14T01:12:08.749810",
     "status": "completed"
    },
    "tags": []
   },
   "outputs": [],
   "source": [
    "results.to_pickle(OUTPUT_FILENAME)"
   ]
  },
  {
   "cell_type": "code",
   "execution_count": null,
   "id": "copyrighted-namibia",
   "metadata": {
    "papermill": {
     "duration": 0.828404,
     "end_time": "2021-07-14T01:12:11.993638",
     "exception": false,
     "start_time": "2021-07-14T01:12:11.165234",
     "status": "completed"
    },
    "tags": []
   },
   "outputs": [],
   "source": []
  }
 ],
 "metadata": {
  "jupytext": {
   "cell_metadata_filter": "all,-execution,-papermill,-trusted",
   "formats": "ipynb,py//py:percent"
  },
  "kernelspec": {
   "display_name": "Python 3",
   "language": "python",
   "name": "python3"
  },
  "language_info": {
   "codemirror_mode": {
    "name": "ipython",
    "version": 3
   },
   "file_extension": ".py",
   "mimetype": "text/x-python",
   "name": "python",
   "nbconvert_exporter": "python",
   "pygments_lexer": "ipython3",
   "version": "3.8.8"
  },
  "papermill": {
   "default_parameters": {},
   "duration": 24782.138194,
   "end_time": "2021-07-14T01:12:14.711855",
   "environment_variables": {},
   "exception": null,
   "input_path": "08_gsa_gls/30-gls_on_phenotypes-phenomexcan.ipynb",
   "output_path": "08_gsa_gls/30-gls_on_phenotypes-phenomexcan.run.ipynb",
   "parameters": {},
   "start_time": "2021-07-13T18:19:12.573661",
   "version": "2.2.2"
  }
 },
 "nbformat": 4,
 "nbformat_minor": 5
}
