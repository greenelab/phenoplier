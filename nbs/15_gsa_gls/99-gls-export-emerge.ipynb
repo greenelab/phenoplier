{
 "cells": [
  {
   "cell_type": "markdown",
   "id": "meaning-coupon",
   "metadata": {
    "papermill": {
     "duration": 0.017731,
     "end_time": "2022-09-02T13:52:27.114673",
     "exception": false,
     "start_time": "2022-09-02T13:52:27.096942",
     "status": "completed"
    },
    "tags": []
   },
   "source": [
    "# Description"
   ]
  },
  {
   "cell_type": "markdown",
   "id": "characteristic-elimination",
   "metadata": {
    "papermill": {
     "duration": 0.003797,
     "end_time": "2022-09-02T13:52:27.125456",
     "exception": false,
     "start_time": "2022-09-02T13:52:27.121659",
     "status": "completed"
    },
    "tags": []
   },
   "source": [
    "This notebook exports results into other more accessible data formats."
   ]
  },
  {
   "cell_type": "markdown",
   "id": "variable-christopher",
   "metadata": {
    "papermill": {
     "duration": 0.003788,
     "end_time": "2022-09-02T13:52:27.132882",
     "exception": false,
     "start_time": "2022-09-02T13:52:27.129094",
     "status": "completed"
    },
    "tags": []
   },
   "source": [
    "# Modules"
   ]
  },
  {
   "cell_type": "code",
   "execution_count": 1,
   "id": "adolescent-female",
   "metadata": {
    "papermill": {
     "duration": 0.467163,
     "end_time": "2022-09-02T13:52:27.603876",
     "exception": false,
     "start_time": "2022-09-02T13:52:27.136713",
     "status": "completed"
    },
    "tags": []
   },
   "outputs": [],
   "source": [
    "from pathlib import Path\n",
    "import shutil\n",
    "\n",
    "import pandas as pd\n",
    "import rpy2.robjects as ro\n",
    "from rpy2.robjects import pandas2ri\n",
    "from rpy2.robjects.conversion import localconverter\n",
    "\n",
    "import conf\n",
    "from utils import remove_all_file_extensions"
   ]
  },
  {
   "cell_type": "code",
   "execution_count": 2,
   "id": "gothic-federation",
   "metadata": {
    "papermill": {
     "duration": 0.01134,
     "end_time": "2022-09-02T13:52:27.619274",
     "exception": false,
     "start_time": "2022-09-02T13:52:27.607934",
     "status": "completed"
    },
    "tags": []
   },
   "outputs": [],
   "source": [
    "readRDS = ro.r[\"readRDS\"]"
   ]
  },
  {
   "cell_type": "code",
   "execution_count": 3,
   "id": "assured-auckland",
   "metadata": {
    "papermill": {
     "duration": 0.008881,
     "end_time": "2022-09-02T13:52:27.632027",
     "exception": false,
     "start_time": "2022-09-02T13:52:27.623146",
     "status": "completed"
    },
    "tags": []
   },
   "outputs": [],
   "source": [
    "saveRDS = ro.r[\"saveRDS\"]"
   ]
  },
  {
   "cell_type": "markdown",
   "id": "damaged-presentation",
   "metadata": {
    "papermill": {
     "duration": 0.003765,
     "end_time": "2022-09-02T13:52:27.639709",
     "exception": false,
     "start_time": "2022-09-02T13:52:27.635944",
     "status": "completed"
    },
    "tags": []
   },
   "source": [
    "# Settings"
   ]
  },
  {
   "cell_type": "code",
   "execution_count": 4,
   "id": "8da13286-ae6b-4f84-8493-67c03987ba7b",
   "metadata": {
    "papermill": {
     "duration": 0.013664,
     "end_time": "2022-09-02T13:52:27.657139",
     "exception": false,
     "start_time": "2022-09-02T13:52:27.643475",
     "status": "completed"
    },
    "tags": []
   },
   "outputs": [
    {
     "data": {
      "text/plain": [
       "PosixPath('/opt/code/data/gls')"
      ]
     },
     "metadata": {},
     "output_type": "display_data"
    }
   ],
   "source": [
    "OUTPUT_DIR = Path(conf.__file__).parent.parent / \"data\" / \"gls\"\n",
    "display(OUTPUT_DIR)\n",
    "OUTPUT_DIR.mkdir(exist_ok=True, parents=True)"
   ]
  },
  {
   "cell_type": "markdown",
   "id": "indoor-barbados",
   "metadata": {
    "papermill": {
     "duration": 0.003714,
     "end_time": "2022-09-02T13:52:27.664862",
     "exception": false,
     "start_time": "2022-09-02T13:52:27.661148",
     "status": "completed"
    },
    "tags": []
   },
   "source": [
    "# Get results files"
   ]
  },
  {
   "cell_type": "code",
   "execution_count": 5,
   "id": "natural-dealer",
   "metadata": {
    "papermill": {
     "duration": 0.009234,
     "end_time": "2022-09-02T13:52:27.678043",
     "exception": false,
     "start_time": "2022-09-02T13:52:27.668809",
     "status": "completed"
    },
    "tags": []
   },
   "outputs": [
    {
     "data": {
      "text/plain": [
       "PosixPath('/opt/data/results/gls/gls-summary-emerge.pkl.gz')"
      ]
     },
     "metadata": {},
     "output_type": "display_data"
    }
   ],
   "source": [
    "input_filepath = conf.RESULTS[\"GLS\"] / \"gls-summary-emerge.pkl.gz\"\n",
    "display(input_filepath)"
   ]
  },
  {
   "cell_type": "code",
   "execution_count": 6,
   "id": "amateur-brief",
   "metadata": {
    "papermill": {
     "duration": 0.451497,
     "end_time": "2022-09-02T13:52:28.133548",
     "exception": false,
     "start_time": "2022-09-02T13:52:27.682051",
     "status": "completed"
    },
    "tags": []
   },
   "outputs": [],
   "source": [
    "data = pd.read_pickle(input_filepath)"
   ]
  },
  {
   "cell_type": "code",
   "execution_count": 7,
   "id": "yellow-advocate",
   "metadata": {
    "papermill": {
     "duration": 0.010676,
     "end_time": "2022-09-02T13:52:28.149104",
     "exception": false,
     "start_time": "2022-09-02T13:52:28.138428",
     "status": "completed"
    },
    "tags": []
   },
   "outputs": [
    {
     "data": {
      "text/plain": [
       "(304983, 5)"
      ]
     },
     "execution_count": 7,
     "metadata": {},
     "output_type": "execute_result"
    }
   ],
   "source": [
    "data.shape"
   ]
  },
  {
   "cell_type": "code",
   "execution_count": 8,
   "id": "smaller-queens",
   "metadata": {
    "papermill": {
     "duration": 0.017827,
     "end_time": "2022-09-02T13:52:28.171413",
     "exception": false,
     "start_time": "2022-09-02T13:52:28.153586",
     "status": "completed"
    },
    "tags": []
   },
   "outputs": [
    {
     "data": {
      "text/html": [
       "<div>\n",
       "<style scoped>\n",
       "    .dataframe tbody tr th:only-of-type {\n",
       "        vertical-align: middle;\n",
       "    }\n",
       "\n",
       "    .dataframe tbody tr th {\n",
       "        vertical-align: top;\n",
       "    }\n",
       "\n",
       "    .dataframe thead th {\n",
       "        text-align: right;\n",
       "    }\n",
       "</style>\n",
       "<table border=\"1\" class=\"dataframe\">\n",
       "  <thead>\n",
       "    <tr style=\"text-align: right;\">\n",
       "      <th></th>\n",
       "      <th>phenotype</th>\n",
       "      <th>phenotype_desc</th>\n",
       "      <th>lv</th>\n",
       "      <th>pvalue</th>\n",
       "      <th>fdr</th>\n",
       "    </tr>\n",
       "  </thead>\n",
       "  <tbody>\n",
       "    <tr>\n",
       "      <th>0</th>\n",
       "      <td>EUR_440.2</td>\n",
       "      <td>Atherosclerosis of the extremities</td>\n",
       "      <td>LV472</td>\n",
       "      <td>1.033637e-07</td>\n",
       "      <td>0.000658</td>\n",
       "    </tr>\n",
       "    <tr>\n",
       "      <th>1</th>\n",
       "      <td>EUR_440.2</td>\n",
       "      <td>Atherosclerosis of the extremities</td>\n",
       "      <td>LV182</td>\n",
       "      <td>3.710244e-07</td>\n",
       "      <td>0.001432</td>\n",
       "    </tr>\n",
       "    <tr>\n",
       "      <th>2</th>\n",
       "      <td>EUR_440.2</td>\n",
       "      <td>Atherosclerosis of the extremities</td>\n",
       "      <td>LV348</td>\n",
       "      <td>7.379936e-07</td>\n",
       "      <td>0.002558</td>\n",
       "    </tr>\n",
       "    <tr>\n",
       "      <th>3</th>\n",
       "      <td>EUR_440.2</td>\n",
       "      <td>Atherosclerosis of the extremities</td>\n",
       "      <td>LV504</td>\n",
       "      <td>1.534424e-06</td>\n",
       "      <td>0.004500</td>\n",
       "    </tr>\n",
       "    <tr>\n",
       "      <th>4</th>\n",
       "      <td>EUR_440.2</td>\n",
       "      <td>Atherosclerosis of the extremities</td>\n",
       "      <td>LV445</td>\n",
       "      <td>2.912525e-06</td>\n",
       "      <td>0.007402</td>\n",
       "    </tr>\n",
       "  </tbody>\n",
       "</table>\n",
       "</div>"
      ],
      "text/plain": [
       "   phenotype                      phenotype_desc     lv        pvalue  \\\n",
       "0  EUR_440.2  Atherosclerosis of the extremities  LV472  1.033637e-07   \n",
       "1  EUR_440.2  Atherosclerosis of the extremities  LV182  3.710244e-07   \n",
       "2  EUR_440.2  Atherosclerosis of the extremities  LV348  7.379936e-07   \n",
       "3  EUR_440.2  Atherosclerosis of the extremities  LV504  1.534424e-06   \n",
       "4  EUR_440.2  Atherosclerosis of the extremities  LV445  2.912525e-06   \n",
       "\n",
       "        fdr  \n",
       "0  0.000658  \n",
       "1  0.001432  \n",
       "2  0.002558  \n",
       "3  0.004500  \n",
       "4  0.007402  "
      ]
     },
     "execution_count": 8,
     "metadata": {},
     "output_type": "execute_result"
    }
   ],
   "source": [
    "data.head()"
   ]
  },
  {
   "cell_type": "code",
   "execution_count": 9,
   "id": "applied-afghanistan",
   "metadata": {
    "papermill": {
     "duration": 0.035142,
     "end_time": "2022-09-02T13:52:28.210965",
     "exception": false,
     "start_time": "2022-09-02T13:52:28.175823",
     "status": "completed"
    },
    "tags": []
   },
   "outputs": [],
   "source": [
    "assert not data.isna().any().any()"
   ]
  },
  {
   "cell_type": "markdown",
   "id": "mobile-prophet",
   "metadata": {
    "papermill": {
     "duration": 0.004461,
     "end_time": "2022-09-02T13:52:28.220265",
     "exception": false,
     "start_time": "2022-09-02T13:52:28.215804",
     "status": "completed"
    },
    "tags": []
   },
   "source": [
    "# Save"
   ]
  },
  {
   "cell_type": "markdown",
   "id": "married-rogers",
   "metadata": {
    "papermill": {
     "duration": 0.00438,
     "end_time": "2022-09-02T13:52:28.229406",
     "exception": false,
     "start_time": "2022-09-02T13:52:28.225026",
     "status": "completed"
    },
    "tags": []
   },
   "source": [
    "## Pickle format"
   ]
  },
  {
   "cell_type": "code",
   "execution_count": 10,
   "id": "cd990030-0be2-4acd-b615-47903ea2c29d",
   "metadata": {
    "papermill": {
     "duration": 0.162635,
     "end_time": "2022-09-02T13:52:28.396612",
     "exception": false,
     "start_time": "2022-09-02T13:52:28.233977",
     "status": "completed"
    },
    "tags": []
   },
   "outputs": [
    {
     "data": {
      "text/plain": [
       "'/opt/code/data/gls/gls-summary-emerge.pkl.gz'"
      ]
     },
     "execution_count": 10,
     "metadata": {},
     "output_type": "execute_result"
    }
   ],
   "source": [
    "shutil.copy(input_filepath, OUTPUT_DIR)"
   ]
  },
  {
   "cell_type": "markdown",
   "id": "fd373e70-cb85-47c4-b656-d2b36d726e63",
   "metadata": {
    "papermill": {
     "duration": 0.01932,
     "end_time": "2022-09-02T13:52:28.423174",
     "exception": false,
     "start_time": "2022-09-02T13:52:28.403854",
     "status": "completed"
    },
    "tags": []
   },
   "source": [
    "## RDS format"
   ]
  },
  {
   "cell_type": "code",
   "execution_count": 11,
   "id": "cardiac-association",
   "metadata": {
    "papermill": {
     "duration": 0.015449,
     "end_time": "2022-09-02T13:52:28.445865",
     "exception": false,
     "start_time": "2022-09-02T13:52:28.430416",
     "status": "completed"
    },
    "tags": []
   },
   "outputs": [
    {
     "data": {
      "text/plain": [
       "PosixPath('/opt/code/data/gls/gls-summary-emerge.rds')"
      ]
     },
     "metadata": {},
     "output_type": "display_data"
    }
   ],
   "source": [
    "output_file = remove_all_file_extensions(input_filepath).with_suffix(\".rds\")\n",
    "output_file = OUTPUT_DIR / output_file.name\n",
    "display(output_file)"
   ]
  },
  {
   "cell_type": "code",
   "execution_count": 12,
   "id": "entire-hawaiian",
   "metadata": {
    "papermill": {
     "duration": 43.230976,
     "end_time": "2022-09-02T13:53:11.697145",
     "exception": false,
     "start_time": "2022-09-02T13:52:28.466169",
     "status": "completed"
    },
    "tags": []
   },
   "outputs": [],
   "source": [
    "with localconverter(ro.default_converter + pandas2ri.converter):\n",
    "    data_r = ro.conversion.py2rpy(data)"
   ]
  },
  {
   "cell_type": "code",
   "execution_count": 13,
   "id": "armed-hearts",
   "metadata": {
    "papermill": {
     "duration": 0.013883,
     "end_time": "2022-09-02T13:53:11.717783",
     "exception": false,
     "start_time": "2022-09-02T13:53:11.703900",
     "status": "completed"
    },
    "tags": []
   },
   "outputs": [
    {
     "data": {
      "text/html": [
       "\n",
       "        <span>R/rpy2 DataFrame (304983 x 5)</span>\n",
       "        <table>\n",
       "          <thead>\n",
       "            <tr>\n",
       "              \n",
       "              <th>phenotype</th>\n",
       "              \n",
       "              <th>phenotype_desc</th>\n",
       "              \n",
       "              <th>lv</th>\n",
       "              \n",
       "              <th>pvalue</th>\n",
       "              \n",
       "              <th>fdr</th>\n",
       "              \n",
       "            </tr>\n",
       "          </thead>\n",
       "          <tbody>\n",
       "          \n",
       "          <tr>\n",
       "            \n",
       "            <td>\n",
       "              ...\n",
       "            </td>\n",
       "            \n",
       "            <td>\n",
       "              ...\n",
       "            </td>\n",
       "            \n",
       "            <td>\n",
       "              ...\n",
       "            </td>\n",
       "            \n",
       "            <td>\n",
       "              ...\n",
       "            </td>\n",
       "            \n",
       "            <td>\n",
       "              ...\n",
       "            </td>\n",
       "            \n",
       "          </tr>\n",
       "          \n",
       "          </tbody>\n",
       "        </table>\n",
       "    "
      ],
      "text/plain": [
       "R object with classes: ('data.frame',) mapped to:\n",
       "[IntSexp..., IntSexp..., IntSexp..., FloatSe..., FloatSe...]\n",
       "  phenotype: <class 'rpy2.rinterface.IntSexpVector'>\n",
       "  <rpy2.rinterface.IntSexpVector object at 0x7f85951e8d00> [RTYPES.INTSXP]\n",
       "  phenotype_desc: <class 'rpy2.rinterface.IntSexpVector'>\n",
       "  <rpy2.rinterface.IntSexpVector object at 0x7f8595236280> [RTYPES.INTSXP]\n",
       "  lv: <class 'rpy2.rinterface.IntSexpVector'>\n",
       "  <rpy2.rinterface.IntSexpVector object at 0x7f8595236b00> [RTYPES.INTSXP]\n",
       "  pvalue: <class 'rpy2.rinterface.FloatSexpVector'>\n",
       "  <rpy2.rinterface.FloatSexpVector object at 0x7f8595236700> [RTYPES.REALSXP]\n",
       "  fdr: <class 'rpy2.rinterface.FloatSexpVector'>\n",
       "  <rpy2.rinterface.FloatSexpVector object at 0x7f85951e8e00> [RTYPES.REALSXP]"
      ]
     },
     "execution_count": 13,
     "metadata": {},
     "output_type": "execute_result"
    }
   ],
   "source": [
    "data_r"
   ]
  },
  {
   "cell_type": "code",
   "execution_count": 14,
   "id": "valuable-minister",
   "metadata": {
    "papermill": {
     "duration": 14.446886,
     "end_time": "2022-09-02T13:53:26.170563",
     "exception": false,
     "start_time": "2022-09-02T13:53:11.723677",
     "status": "completed"
    },
    "tags": []
   },
   "outputs": [
    {
     "data": {
      "text/plain": [
       "<rpy2.rinterface_lib.sexp.NULLType object at 0x7f85ac069c00> [RTYPES.NILSXP]"
      ]
     },
     "execution_count": 14,
     "metadata": {},
     "output_type": "execute_result"
    }
   ],
   "source": [
    "saveRDS(data_r, str(output_file))"
   ]
  },
  {
   "cell_type": "code",
   "execution_count": 15,
   "id": "behind-notice",
   "metadata": {
    "papermill": {
     "duration": 8.362206,
     "end_time": "2022-09-02T13:53:34.537251",
     "exception": false,
     "start_time": "2022-09-02T13:53:26.175045",
     "status": "completed"
    },
    "tags": []
   },
   "outputs": [],
   "source": [
    "# testing: load the rds file again\n",
    "data_r = readRDS(str(output_file))"
   ]
  },
  {
   "cell_type": "code",
   "execution_count": 16,
   "id": "detailed-conspiracy",
   "metadata": {
    "papermill": {
     "duration": 65.967692,
     "end_time": "2022-09-02T13:54:40.509557",
     "exception": false,
     "start_time": "2022-09-02T13:53:34.541865",
     "status": "completed"
    },
    "tags": []
   },
   "outputs": [],
   "source": [
    "with localconverter(ro.default_converter + pandas2ri.converter):\n",
    "    data_again = ro.conversion.rpy2py(data_r)\n",
    "    data_again.index = data_again.index.astype(int)"
   ]
  },
  {
   "cell_type": "code",
   "execution_count": 17,
   "id": "superior-transcription",
   "metadata": {
    "papermill": {
     "duration": 0.010311,
     "end_time": "2022-09-02T13:54:40.525180",
     "exception": false,
     "start_time": "2022-09-02T13:54:40.514869",
     "status": "completed"
    },
    "tags": []
   },
   "outputs": [
    {
     "data": {
      "text/plain": [
       "(304983, 5)"
      ]
     },
     "execution_count": 17,
     "metadata": {},
     "output_type": "execute_result"
    }
   ],
   "source": [
    "data_again.shape"
   ]
  },
  {
   "cell_type": "code",
   "execution_count": 18,
   "id": "amateur-kingston",
   "metadata": {
    "papermill": {
     "duration": 0.015177,
     "end_time": "2022-09-02T13:54:40.545435",
     "exception": false,
     "start_time": "2022-09-02T13:54:40.530258",
     "status": "completed"
    },
    "tags": []
   },
   "outputs": [
    {
     "data": {
      "text/html": [
       "<div>\n",
       "<style scoped>\n",
       "    .dataframe tbody tr th:only-of-type {\n",
       "        vertical-align: middle;\n",
       "    }\n",
       "\n",
       "    .dataframe tbody tr th {\n",
       "        vertical-align: top;\n",
       "    }\n",
       "\n",
       "    .dataframe thead th {\n",
       "        text-align: right;\n",
       "    }\n",
       "</style>\n",
       "<table border=\"1\" class=\"dataframe\">\n",
       "  <thead>\n",
       "    <tr style=\"text-align: right;\">\n",
       "      <th></th>\n",
       "      <th>phenotype</th>\n",
       "      <th>phenotype_desc</th>\n",
       "      <th>lv</th>\n",
       "      <th>pvalue</th>\n",
       "      <th>fdr</th>\n",
       "    </tr>\n",
       "  </thead>\n",
       "  <tbody>\n",
       "    <tr>\n",
       "      <th>0</th>\n",
       "      <td>EUR_440.2</td>\n",
       "      <td>Atherosclerosis of the extremities</td>\n",
       "      <td>LV472</td>\n",
       "      <td>1.033637e-07</td>\n",
       "      <td>0.000658</td>\n",
       "    </tr>\n",
       "    <tr>\n",
       "      <th>1</th>\n",
       "      <td>EUR_440.2</td>\n",
       "      <td>Atherosclerosis of the extremities</td>\n",
       "      <td>LV182</td>\n",
       "      <td>3.710244e-07</td>\n",
       "      <td>0.001432</td>\n",
       "    </tr>\n",
       "    <tr>\n",
       "      <th>2</th>\n",
       "      <td>EUR_440.2</td>\n",
       "      <td>Atherosclerosis of the extremities</td>\n",
       "      <td>LV348</td>\n",
       "      <td>7.379936e-07</td>\n",
       "      <td>0.002558</td>\n",
       "    </tr>\n",
       "    <tr>\n",
       "      <th>3</th>\n",
       "      <td>EUR_440.2</td>\n",
       "      <td>Atherosclerosis of the extremities</td>\n",
       "      <td>LV504</td>\n",
       "      <td>1.534424e-06</td>\n",
       "      <td>0.004500</td>\n",
       "    </tr>\n",
       "    <tr>\n",
       "      <th>4</th>\n",
       "      <td>EUR_440.2</td>\n",
       "      <td>Atherosclerosis of the extremities</td>\n",
       "      <td>LV445</td>\n",
       "      <td>2.912525e-06</td>\n",
       "      <td>0.007402</td>\n",
       "    </tr>\n",
       "  </tbody>\n",
       "</table>\n",
       "</div>"
      ],
      "text/plain": [
       "   phenotype                      phenotype_desc     lv        pvalue  \\\n",
       "0  EUR_440.2  Atherosclerosis of the extremities  LV472  1.033637e-07   \n",
       "1  EUR_440.2  Atherosclerosis of the extremities  LV182  3.710244e-07   \n",
       "2  EUR_440.2  Atherosclerosis of the extremities  LV348  7.379936e-07   \n",
       "3  EUR_440.2  Atherosclerosis of the extremities  LV504  1.534424e-06   \n",
       "4  EUR_440.2  Atherosclerosis of the extremities  LV445  2.912525e-06   \n",
       "\n",
       "        fdr  \n",
       "0  0.000658  \n",
       "1  0.001432  \n",
       "2  0.002558  \n",
       "3  0.004500  \n",
       "4  0.007402  "
      ]
     },
     "execution_count": 18,
     "metadata": {},
     "output_type": "execute_result"
    }
   ],
   "source": [
    "data_again.head()"
   ]
  },
  {
   "cell_type": "code",
   "execution_count": 19,
   "id": "personalized-timing",
   "metadata": {
    "papermill": {
     "duration": 61.755059,
     "end_time": "2022-09-02T13:55:42.305528",
     "exception": false,
     "start_time": "2022-09-02T13:54:40.550469",
     "status": "completed"
    },
    "tags": []
   },
   "outputs": [],
   "source": [
    "pd.testing.assert_frame_equal(\n",
    "    data,\n",
    "    data_again,\n",
    "    check_dtype=False,\n",
    ")"
   ]
  },
  {
   "cell_type": "markdown",
   "id": "statutory-tomato",
   "metadata": {
    "papermill": {
     "duration": 0.005482,
     "end_time": "2022-09-02T13:55:42.317127",
     "exception": false,
     "start_time": "2022-09-02T13:55:42.311645",
     "status": "completed"
    },
    "tags": []
   },
   "source": [
    "## Text format"
   ]
  },
  {
   "cell_type": "code",
   "execution_count": 20,
   "id": "progressive-literature",
   "metadata": {
    "papermill": {
     "duration": 0.011235,
     "end_time": "2022-09-02T13:55:42.334003",
     "exception": false,
     "start_time": "2022-09-02T13:55:42.322768",
     "status": "completed"
    },
    "tags": []
   },
   "outputs": [
    {
     "data": {
      "text/plain": [
       "PosixPath('/opt/code/data/gls/gls-summary-emerge.tsv.gz')"
      ]
     },
     "metadata": {},
     "output_type": "display_data"
    }
   ],
   "source": [
    "# tsv format\n",
    "output_file = remove_all_file_extensions(input_filepath).with_suffix(\".tsv.gz\")\n",
    "output_file = OUTPUT_DIR / output_file.name\n",
    "display(output_file)"
   ]
  },
  {
   "cell_type": "code",
   "execution_count": 21,
   "id": "written-family",
   "metadata": {
    "papermill": {
     "duration": 28.881397,
     "end_time": "2022-09-02T13:56:11.220888",
     "exception": false,
     "start_time": "2022-09-02T13:55:42.339491",
     "status": "completed"
    },
    "tags": []
   },
   "outputs": [],
   "source": [
    "data.to_csv(output_file, sep=\"\\t\", index=False, float_format=\"%.5e\")"
   ]
  },
  {
   "cell_type": "code",
   "execution_count": 22,
   "id": "hydraulic-reduction",
   "metadata": {
    "papermill": {
     "duration": 4.680097,
     "end_time": "2022-09-02T13:56:15.905968",
     "exception": false,
     "start_time": "2022-09-02T13:56:11.225871",
     "status": "completed"
    },
    "tags": []
   },
   "outputs": [],
   "source": [
    "# testing\n",
    "data2 = data.copy()\n",
    "data2.index = list(range(0, data2.shape[0]))\n",
    "\n",
    "data_again = pd.read_csv(output_file, sep=\"\\t\")\n",
    "data_again.index = list(data_again.index)"
   ]
  },
  {
   "cell_type": "code",
   "execution_count": 23,
   "id": "precious-neighbor",
   "metadata": {
    "papermill": {
     "duration": 0.011606,
     "end_time": "2022-09-02T13:56:15.922994",
     "exception": false,
     "start_time": "2022-09-02T13:56:15.911388",
     "status": "completed"
    },
    "tags": []
   },
   "outputs": [
    {
     "data": {
      "text/plain": [
       "(304983, 5)"
      ]
     },
     "execution_count": 23,
     "metadata": {},
     "output_type": "execute_result"
    }
   ],
   "source": [
    "data_again.shape"
   ]
  },
  {
   "cell_type": "code",
   "execution_count": 24,
   "id": "bronze-latitude",
   "metadata": {
    "papermill": {
     "duration": 0.015375,
     "end_time": "2022-09-02T13:56:15.943996",
     "exception": false,
     "start_time": "2022-09-02T13:56:15.928621",
     "status": "completed"
    },
    "tags": []
   },
   "outputs": [
    {
     "data": {
      "text/html": [
       "<div>\n",
       "<style scoped>\n",
       "    .dataframe tbody tr th:only-of-type {\n",
       "        vertical-align: middle;\n",
       "    }\n",
       "\n",
       "    .dataframe tbody tr th {\n",
       "        vertical-align: top;\n",
       "    }\n",
       "\n",
       "    .dataframe thead th {\n",
       "        text-align: right;\n",
       "    }\n",
       "</style>\n",
       "<table border=\"1\" class=\"dataframe\">\n",
       "  <thead>\n",
       "    <tr style=\"text-align: right;\">\n",
       "      <th></th>\n",
       "      <th>phenotype</th>\n",
       "      <th>phenotype_desc</th>\n",
       "      <th>lv</th>\n",
       "      <th>pvalue</th>\n",
       "      <th>fdr</th>\n",
       "    </tr>\n",
       "  </thead>\n",
       "  <tbody>\n",
       "    <tr>\n",
       "      <th>0</th>\n",
       "      <td>EUR_440.2</td>\n",
       "      <td>Atherosclerosis of the extremities</td>\n",
       "      <td>LV472</td>\n",
       "      <td>1.033640e-07</td>\n",
       "      <td>0.000658</td>\n",
       "    </tr>\n",
       "    <tr>\n",
       "      <th>1</th>\n",
       "      <td>EUR_440.2</td>\n",
       "      <td>Atherosclerosis of the extremities</td>\n",
       "      <td>LV182</td>\n",
       "      <td>3.710240e-07</td>\n",
       "      <td>0.001432</td>\n",
       "    </tr>\n",
       "    <tr>\n",
       "      <th>2</th>\n",
       "      <td>EUR_440.2</td>\n",
       "      <td>Atherosclerosis of the extremities</td>\n",
       "      <td>LV348</td>\n",
       "      <td>7.379940e-07</td>\n",
       "      <td>0.002558</td>\n",
       "    </tr>\n",
       "    <tr>\n",
       "      <th>3</th>\n",
       "      <td>EUR_440.2</td>\n",
       "      <td>Atherosclerosis of the extremities</td>\n",
       "      <td>LV504</td>\n",
       "      <td>1.534420e-06</td>\n",
       "      <td>0.004500</td>\n",
       "    </tr>\n",
       "    <tr>\n",
       "      <th>4</th>\n",
       "      <td>EUR_440.2</td>\n",
       "      <td>Atherosclerosis of the extremities</td>\n",
       "      <td>LV445</td>\n",
       "      <td>2.912530e-06</td>\n",
       "      <td>0.007402</td>\n",
       "    </tr>\n",
       "  </tbody>\n",
       "</table>\n",
       "</div>"
      ],
      "text/plain": [
       "   phenotype                      phenotype_desc     lv        pvalue  \\\n",
       "0  EUR_440.2  Atherosclerosis of the extremities  LV472  1.033640e-07   \n",
       "1  EUR_440.2  Atherosclerosis of the extremities  LV182  3.710240e-07   \n",
       "2  EUR_440.2  Atherosclerosis of the extremities  LV348  7.379940e-07   \n",
       "3  EUR_440.2  Atherosclerosis of the extremities  LV504  1.534420e-06   \n",
       "4  EUR_440.2  Atherosclerosis of the extremities  LV445  2.912530e-06   \n",
       "\n",
       "        fdr  \n",
       "0  0.000658  \n",
       "1  0.001432  \n",
       "2  0.002558  \n",
       "3  0.004500  \n",
       "4  0.007402  "
      ]
     },
     "execution_count": 24,
     "metadata": {},
     "output_type": "execute_result"
    }
   ],
   "source": [
    "data_again.head()"
   ]
  },
  {
   "cell_type": "code",
   "execution_count": 25,
   "id": "fleet-snake",
   "metadata": {
    "papermill": {
     "duration": 327.405106,
     "end_time": "2022-09-02T14:01:43.381971",
     "exception": false,
     "start_time": "2022-09-02T13:56:15.976865",
     "status": "completed"
    },
    "tags": []
   },
   "outputs": [],
   "source": [
    "pd.testing.assert_frame_equal(\n",
    "    data2,\n",
    "    data_again,\n",
    "    check_categorical=False,\n",
    "    check_dtype=False,\n",
    ")"
   ]
  },
  {
   "cell_type": "code",
   "execution_count": null,
   "id": "indoor-wilson",
   "metadata": {
    "papermill": {
     "duration": 0.011133,
     "end_time": "2022-09-02T14:01:43.399958",
     "exception": false,
     "start_time": "2022-09-02T14:01:43.388825",
     "status": "completed"
    },
    "tags": []
   },
   "outputs": [],
   "source": []
  }
 ],
 "metadata": {
  "jupytext": {
   "cell_metadata_filter": "all,-execution,-papermill,-trusted",
   "formats": "ipynb,py//py:percent"
  },
  "kernelspec": {
   "display_name": "Python 3 (ipykernel)",
   "language": "python",
   "name": "python3"
  },
  "language_info": {
   "codemirror_mode": {
    "name": "ipython",
    "version": 3
   },
   "file_extension": ".py",
   "mimetype": "text/x-python",
   "name": "python",
   "nbconvert_exporter": "python",
   "pygments_lexer": "ipython3",
   "version": "3.8.13"
  },
  "papermill": {
   "default_parameters": {},
   "duration": 558.332946,
   "end_time": "2022-09-02T14:01:44.233106",
   "environment_variables": {},
   "exception": null,
   "input_path": "nbs/15_gsa_gls/99-gls-export.ipynb",
   "output_path": "nbs/15_gsa_gls/99-gls-export.run.ipynb",
   "parameters": {},
   "start_time": "2022-09-02T13:52:25.900160",
   "version": "2.2.2"
  }
 },
 "nbformat": 4,
 "nbformat_minor": 5
}
