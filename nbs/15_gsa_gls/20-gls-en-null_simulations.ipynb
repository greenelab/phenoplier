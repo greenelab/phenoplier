{
 "cells": [
  {
   "cell_type": "markdown",
   "id": "159c8e8a",
   "metadata": {
    "papermill": {
     "duration": 0.084214,
     "end_time": "2022-03-02T20:55:39.373551",
     "exception": false,
     "start_time": "2022-03-02T20:55:39.289337",
     "status": "completed"
    },
    "tags": []
   },
   "source": [
    "# Description"
   ]
  },
  {
   "cell_type": "markdown",
   "id": "36cf1698",
   "metadata": {
    "papermill": {
     "duration": 0.049309,
     "end_time": "2022-03-02T20:55:39.472115",
     "exception": false,
     "start_time": "2022-03-02T20:55:39.422806",
     "status": "completed"
    },
    "tags": []
   },
   "source": [
    "* reads MultiXcan results on a random phenotype file (using Elastic Net models)\n",
    "* runs PhenoPLIER on all LVs to compute the null"
   ]
  },
  {
   "cell_type": "markdown",
   "id": "c271bed2",
   "metadata": {
    "papermill": {
     "duration": 0.048591,
     "end_time": "2022-03-02T20:55:39.572548",
     "exception": false,
     "start_time": "2022-03-02T20:55:39.523957",
     "status": "completed"
    },
    "tags": []
   },
   "source": [
    "# Environment variables"
   ]
  },
  {
   "cell_type": "code",
   "execution_count": 1,
   "id": "200d7564",
   "metadata": {
    "execution": {
     "iopub.execute_input": "2022-03-02T20:55:39.671802Z",
     "iopub.status.busy": "2022-03-02T20:55:39.671543Z",
     "iopub.status.idle": "2022-03-02T20:55:39.687227Z",
     "shell.execute_reply": "2022-03-02T20:55:39.686659Z"
    },
    "papermill": {
     "duration": 0.06686,
     "end_time": "2022-03-02T20:55:39.688821",
     "exception": false,
     "start_time": "2022-03-02T20:55:39.621961",
     "status": "completed"
    },
    "tags": []
   },
   "outputs": [],
   "source": [
    "%load_ext autoreload\n",
    "%autoreload 2"
   ]
  },
  {
   "cell_type": "code",
   "execution_count": 2,
   "id": "0d6af3a1",
   "metadata": {
    "execution": {
     "iopub.execute_input": "2022-03-02T20:55:39.787744Z",
     "iopub.status.busy": "2022-03-02T20:55:39.787531Z",
     "iopub.status.idle": "2022-03-02T20:55:39.801923Z",
     "shell.execute_reply": "2022-03-02T20:55:39.801428Z"
    },
    "papermill": {
     "duration": 0.065613,
     "end_time": "2022-03-02T20:55:39.803336",
     "exception": false,
     "start_time": "2022-03-02T20:55:39.737723",
     "status": "completed"
    },
    "tags": []
   },
   "outputs": [],
   "source": [
    "import conf"
   ]
  },
  {
   "cell_type": "code",
   "execution_count": 3,
   "id": "491ef579",
   "metadata": {
    "execution": {
     "iopub.execute_input": "2022-03-02T20:55:39.903506Z",
     "iopub.status.busy": "2022-03-02T20:55:39.903281Z",
     "iopub.status.idle": "2022-03-02T20:55:39.917900Z",
     "shell.execute_reply": "2022-03-02T20:55:39.917336Z"
    },
    "papermill": {
     "duration": 0.065218,
     "end_time": "2022-03-02T20:55:39.919379",
     "exception": false,
     "start_time": "2022-03-02T20:55:39.854161",
     "status": "completed"
    },
    "tags": []
   },
   "outputs": [
    {
     "data": {
      "text/plain": [
       "1"
      ]
     },
     "metadata": {},
     "output_type": "display_data"
    }
   ],
   "source": [
    "# N_JOBS = conf.GENERAL[\"N_JOBS\"]\n",
    "# set N_JOBS manually, because we are parallelizing outside\n",
    "N_JOBS = 1\n",
    "display(N_JOBS)"
   ]
  },
  {
   "cell_type": "code",
   "execution_count": 4,
   "id": "4e94c70d",
   "metadata": {
    "execution": {
     "iopub.execute_input": "2022-03-02T20:55:40.020596Z",
     "iopub.status.busy": "2022-03-02T20:55:40.020305Z",
     "iopub.status.idle": "2022-03-02T20:55:40.032972Z",
     "shell.execute_reply": "2022-03-02T20:55:40.032414Z"
    },
    "papermill": {
     "duration": 0.063881,
     "end_time": "2022-03-02T20:55:40.034284",
     "exception": false,
     "start_time": "2022-03-02T20:55:39.970403",
     "status": "completed"
    },
    "tags": []
   },
   "outputs": [
    {
     "name": "stdout",
     "output_type": "stream",
     "text": [
      "env: MKL_NUM_THREADS=1\n",
      "env: OPEN_BLAS_NUM_THREADS=1\n",
      "env: NUMEXPR_NUM_THREADS=1\n",
      "env: OMP_NUM_THREADS=1\n"
     ]
    }
   ],
   "source": [
    "%env MKL_NUM_THREADS=$N_JOBS\n",
    "%env OPEN_BLAS_NUM_THREADS=$N_JOBS\n",
    "%env NUMEXPR_NUM_THREADS=$N_JOBS\n",
    "%env OMP_NUM_THREADS=$N_JOBS"
   ]
  },
  {
   "cell_type": "markdown",
   "id": "93a9f629",
   "metadata": {
    "papermill": {
     "duration": 0.048286,
     "end_time": "2022-03-02T20:55:40.133090",
     "exception": false,
     "start_time": "2022-03-02T20:55:40.084804",
     "status": "completed"
    },
    "tags": []
   },
   "source": [
    "# Modules"
   ]
  },
  {
   "cell_type": "code",
   "execution_count": 5,
   "id": "d70930c2",
   "metadata": {
    "execution": {
     "iopub.execute_input": "2022-03-02T20:55:40.232175Z",
     "iopub.status.busy": "2022-03-02T20:55:40.231995Z",
     "iopub.status.idle": "2022-03-02T20:55:41.072132Z",
     "shell.execute_reply": "2022-03-02T20:55:41.071597Z"
    },
    "papermill": {
     "duration": 0.891661,
     "end_time": "2022-03-02T20:55:41.073633",
     "exception": false,
     "start_time": "2022-03-02T20:55:40.181972",
     "status": "completed"
    },
    "tags": []
   },
   "outputs": [],
   "source": [
    "import itertools\n",
    "from concurrent.futures import ProcessPoolExecutor, as_completed\n",
    "\n",
    "import numpy as np\n",
    "from scipy import stats\n",
    "import pandas as pd\n",
    "from tqdm import tqdm\n",
    "\n",
    "from utils import chunker\n",
    "from entity import Gene\n",
    "from gls import GLSPhenoplier"
   ]
  },
  {
   "cell_type": "markdown",
   "id": "49842745",
   "metadata": {
    "papermill": {
     "duration": 0.052586,
     "end_time": "2022-03-02T20:55:41.175885",
     "exception": false,
     "start_time": "2022-03-02T20:55:41.123299",
     "status": "completed"
    },
    "tags": []
   },
   "source": [
    "# Settings"
   ]
  },
  {
   "cell_type": "code",
   "execution_count": 6,
   "id": "1bac6fa9",
   "metadata": {
    "execution": {
     "iopub.execute_input": "2022-03-02T20:55:41.276360Z",
     "iopub.status.busy": "2022-03-02T20:55:41.275934Z",
     "iopub.status.idle": "2022-03-02T20:55:41.293738Z",
     "shell.execute_reply": "2022-03-02T20:55:41.293127Z"
    },
    "papermill": {
     "duration": 0.069484,
     "end_time": "2022-03-02T20:55:41.295303",
     "exception": false,
     "start_time": "2022-03-02T20:55:41.225819",
     "status": "completed"
    },
    "tags": []
   },
   "outputs": [],
   "source": [
    "N_SIMULATED_PHENOTYPES = 1  # disable generation of derived random phenotypes\n",
    "CHUNK_SIZE = 50\n",
    "EQTL_MODEL = \"ELASTIC_NET\""
   ]
  },
  {
   "cell_type": "markdown",
   "id": "94cc80bd",
   "metadata": {
    "papermill": {
     "duration": 0.049525,
     "end_time": "2022-03-02T20:55:41.394454",
     "exception": false,
     "start_time": "2022-03-02T20:55:41.344929",
     "status": "completed"
    },
    "tags": []
   },
   "source": [
    "# Paths"
   ]
  },
  {
   "cell_type": "code",
   "execution_count": 7,
   "id": "d6cd84be",
   "metadata": {
    "execution": {
     "iopub.execute_input": "2022-03-02T20:55:41.495305Z",
     "iopub.status.busy": "2022-03-02T20:55:41.495087Z",
     "iopub.status.idle": "2022-03-02T20:55:41.514414Z",
     "shell.execute_reply": "2022-03-02T20:55:41.513822Z"
    },
    "papermill": {
     "duration": 0.072224,
     "end_time": "2022-03-02T20:55:41.515723",
     "exception": false,
     "start_time": "2022-03-02T20:55:41.443499",
     "status": "completed"
    },
    "tags": []
   },
   "outputs": [
    {
     "data": {
      "text/plain": [
       "PosixPath('/opt/data/results/gls/null_simulations')"
      ]
     },
     "metadata": {},
     "output_type": "display_data"
    }
   ],
   "source": [
    "OUTPUT_DIR = conf.RESULTS[\"GLS\"] / \"null_simulations\"\n",
    "display(OUTPUT_DIR)\n",
    "\n",
    "OUTPUT_DIR.mkdir(exist_ok=True, parents=True)"
   ]
  },
  {
   "cell_type": "code",
   "execution_count": 8,
   "id": "01f953c4",
   "metadata": {
    "execution": {
     "iopub.execute_input": "2022-03-02T20:55:41.641388Z",
     "iopub.status.busy": "2022-03-02T20:55:41.641184Z",
     "iopub.status.idle": "2022-03-02T20:55:41.662592Z",
     "shell.execute_reply": "2022-03-02T20:55:41.661930Z"
    },
    "papermill": {
     "duration": 0.098661,
     "end_time": "2022-03-02T20:55:41.664210",
     "exception": false,
     "start_time": "2022-03-02T20:55:41.565549",
     "status": "completed"
    },
    "tags": []
   },
   "outputs": [
    {
     "data": {
      "text/plain": [
       "PosixPath('/opt/data/results/gls/null_simulations/en-null_simulations.pkl')"
      ]
     },
     "metadata": {},
     "output_type": "display_data"
    }
   ],
   "source": [
    "OUTPUT_FILENAME = OUTPUT_DIR / \"en-null_simulations.pkl\"\n",
    "display(OUTPUT_FILENAME)"
   ]
  },
  {
   "cell_type": "markdown",
   "id": "c35be43e",
   "metadata": {
    "papermill": {
     "duration": 0.050883,
     "end_time": "2022-03-02T20:55:41.769168",
     "exception": false,
     "start_time": "2022-03-02T20:55:41.718285",
     "status": "completed"
    },
    "tags": []
   },
   "source": [
    "# Load data"
   ]
  },
  {
   "cell_type": "markdown",
   "id": "5ad1a825",
   "metadata": {
    "papermill": {
     "duration": 0.051307,
     "end_time": "2022-03-02T20:55:41.871731",
     "exception": false,
     "start_time": "2022-03-02T20:55:41.820424",
     "status": "completed"
    },
    "tags": []
   },
   "source": [
    "## MultiXcan on random phenotype"
   ]
  },
  {
   "cell_type": "markdown",
   "id": "7a72bcf6",
   "metadata": {
    "papermill": {
     "duration": 0.050957,
     "end_time": "2022-03-02T20:55:41.973726",
     "exception": false,
     "start_time": "2022-03-02T20:55:41.922769",
     "status": "completed"
    },
    "tags": []
   },
   "source": [
    "This result was downloaded from the MultiXcan paper here: https://github.com/hakyimlab/multixcan-paper"
   ]
  },
  {
   "cell_type": "code",
   "execution_count": 9,
   "id": "f912e57d",
   "metadata": {
    "execution": {
     "iopub.execute_input": "2022-03-02T20:55:42.077620Z",
     "iopub.status.busy": "2022-03-02T20:55:42.077399Z",
     "iopub.status.idle": "2022-03-02T20:55:42.114907Z",
     "shell.execute_reply": "2022-03-02T20:55:42.114314Z"
    },
    "papermill": {
     "duration": 0.091303,
     "end_time": "2022-03-02T20:55:42.116557",
     "exception": false,
     "start_time": "2022-03-02T20:55:42.025254",
     "status": "completed"
    },
    "tags": []
   },
   "outputs": [],
   "source": [
    "multixcan_random_phenotype = pd.read_csv(\n",
    "    conf.PHENOMEXCAN[\"BASE_DIR\"] / \"random__ccn30__mt_results.txt\",\n",
    "    sep=\"\\t\",\n",
    "    usecols=[\"gene\", \"pvalue\"],\n",
    ")"
   ]
  },
  {
   "cell_type": "code",
   "execution_count": 10,
   "id": "be44912c",
   "metadata": {
    "execution": {
     "iopub.execute_input": "2022-03-02T20:55:42.230259Z",
     "iopub.status.busy": "2022-03-02T20:55:42.229964Z",
     "iopub.status.idle": "2022-03-02T20:55:42.249655Z",
     "shell.execute_reply": "2022-03-02T20:55:42.249108Z"
    },
    "papermill": {
     "duration": 0.081134,
     "end_time": "2022-03-02T20:55:42.251066",
     "exception": false,
     "start_time": "2022-03-02T20:55:42.169932",
     "status": "completed"
    },
    "tags": []
   },
   "outputs": [
    {
     "data": {
      "text/plain": [
       "(17434, 2)"
      ]
     },
     "execution_count": 10,
     "metadata": {},
     "output_type": "execute_result"
    }
   ],
   "source": [
    "multixcan_random_phenotype.shape"
   ]
  },
  {
   "cell_type": "code",
   "execution_count": 11,
   "id": "561445d2",
   "metadata": {
    "execution": {
     "iopub.execute_input": "2022-03-02T20:55:42.355644Z",
     "iopub.status.busy": "2022-03-02T20:55:42.355414Z",
     "iopub.status.idle": "2022-03-02T20:55:42.378101Z",
     "shell.execute_reply": "2022-03-02T20:55:42.377450Z"
    },
    "papermill": {
     "duration": 0.076043,
     "end_time": "2022-03-02T20:55:42.379482",
     "exception": false,
     "start_time": "2022-03-02T20:55:42.303439",
     "status": "completed"
    },
    "tags": []
   },
   "outputs": [
    {
     "data": {
      "text/html": [
       "<div>\n",
       "<style scoped>\n",
       "    .dataframe tbody tr th:only-of-type {\n",
       "        vertical-align: middle;\n",
       "    }\n",
       "\n",
       "    .dataframe tbody tr th {\n",
       "        vertical-align: top;\n",
       "    }\n",
       "\n",
       "    .dataframe thead th {\n",
       "        text-align: right;\n",
       "    }\n",
       "</style>\n",
       "<table border=\"1\" class=\"dataframe\">\n",
       "  <thead>\n",
       "    <tr style=\"text-align: right;\">\n",
       "      <th></th>\n",
       "      <th>gene</th>\n",
       "      <th>pvalue</th>\n",
       "    </tr>\n",
       "  </thead>\n",
       "  <tbody>\n",
       "    <tr>\n",
       "      <th>0</th>\n",
       "      <td>ENSG00000111215.7</td>\n",
       "      <td>0.000274</td>\n",
       "    </tr>\n",
       "    <tr>\n",
       "      <th>1</th>\n",
       "      <td>ENSG00000160752.10</td>\n",
       "      <td>0.000340</td>\n",
       "    </tr>\n",
       "    <tr>\n",
       "      <th>2</th>\n",
       "      <td>ENSG00000119950.16</td>\n",
       "      <td>0.000437</td>\n",
       "    </tr>\n",
       "    <tr>\n",
       "      <th>3</th>\n",
       "      <td>ENSG00000196505.6</td>\n",
       "      <td>0.000552</td>\n",
       "    </tr>\n",
       "    <tr>\n",
       "      <th>4</th>\n",
       "      <td>ENSG00000166762.12</td>\n",
       "      <td>0.000557</td>\n",
       "    </tr>\n",
       "  </tbody>\n",
       "</table>\n",
       "</div>"
      ],
      "text/plain": [
       "                 gene    pvalue\n",
       "0   ENSG00000111215.7  0.000274\n",
       "1  ENSG00000160752.10  0.000340\n",
       "2  ENSG00000119950.16  0.000437\n",
       "3   ENSG00000196505.6  0.000552\n",
       "4  ENSG00000166762.12  0.000557"
      ]
     },
     "execution_count": 11,
     "metadata": {},
     "output_type": "execute_result"
    }
   ],
   "source": [
    "multixcan_random_phenotype.head()"
   ]
  },
  {
   "cell_type": "code",
   "execution_count": 12,
   "id": "6411c5d7",
   "metadata": {
    "execution": {
     "iopub.execute_input": "2022-03-02T20:55:42.485632Z",
     "iopub.status.busy": "2022-03-02T20:55:42.485429Z",
     "iopub.status.idle": "2022-03-02T20:55:42.528509Z",
     "shell.execute_reply": "2022-03-02T20:55:42.527869Z"
    },
    "papermill": {
     "duration": 0.097623,
     "end_time": "2022-03-02T20:55:42.530170",
     "exception": false,
     "start_time": "2022-03-02T20:55:42.432547",
     "status": "completed"
    },
    "tags": []
   },
   "outputs": [],
   "source": [
    "multixcan_random_phenotype[\"gene\"] = multixcan_random_phenotype[\"gene\"].str.split(\n",
    "    \".\", n=1, expand=True\n",
    ")[0]"
   ]
  },
  {
   "cell_type": "code",
   "execution_count": 13,
   "id": "ead394b6",
   "metadata": {
    "execution": {
     "iopub.execute_input": "2022-03-02T20:55:42.634439Z",
     "iopub.status.busy": "2022-03-02T20:55:42.633940Z",
     "iopub.status.idle": "2022-03-02T20:55:42.652153Z",
     "shell.execute_reply": "2022-03-02T20:55:42.651593Z"
    },
    "papermill": {
     "duration": 0.071809,
     "end_time": "2022-03-02T20:55:42.653794",
     "exception": false,
     "start_time": "2022-03-02T20:55:42.581985",
     "status": "completed"
    },
    "tags": []
   },
   "outputs": [],
   "source": [
    "multixcan_random_phenotype = multixcan_random_phenotype.set_index(\"gene\")"
   ]
  },
  {
   "cell_type": "code",
   "execution_count": 14,
   "id": "28acded0",
   "metadata": {
    "execution": {
     "iopub.execute_input": "2022-03-02T20:55:42.757462Z",
     "iopub.status.busy": "2022-03-02T20:55:42.757244Z",
     "iopub.status.idle": "2022-03-02T20:55:42.778021Z",
     "shell.execute_reply": "2022-03-02T20:55:42.777336Z"
    },
    "papermill": {
     "duration": 0.074487,
     "end_time": "2022-03-02T20:55:42.779480",
     "exception": false,
     "start_time": "2022-03-02T20:55:42.704993",
     "status": "completed"
    },
    "tags": []
   },
   "outputs": [
    {
     "data": {
      "text/html": [
       "<div>\n",
       "<style scoped>\n",
       "    .dataframe tbody tr th:only-of-type {\n",
       "        vertical-align: middle;\n",
       "    }\n",
       "\n",
       "    .dataframe tbody tr th {\n",
       "        vertical-align: top;\n",
       "    }\n",
       "\n",
       "    .dataframe thead th {\n",
       "        text-align: right;\n",
       "    }\n",
       "</style>\n",
       "<table border=\"1\" class=\"dataframe\">\n",
       "  <thead>\n",
       "    <tr style=\"text-align: right;\">\n",
       "      <th></th>\n",
       "      <th>pvalue</th>\n",
       "    </tr>\n",
       "    <tr>\n",
       "      <th>gene</th>\n",
       "      <th></th>\n",
       "    </tr>\n",
       "  </thead>\n",
       "  <tbody>\n",
       "    <tr>\n",
       "      <th>ENSG00000111215</th>\n",
       "      <td>0.000274</td>\n",
       "    </tr>\n",
       "    <tr>\n",
       "      <th>ENSG00000160752</th>\n",
       "      <td>0.000340</td>\n",
       "    </tr>\n",
       "    <tr>\n",
       "      <th>ENSG00000119950</th>\n",
       "      <td>0.000437</td>\n",
       "    </tr>\n",
       "    <tr>\n",
       "      <th>ENSG00000196505</th>\n",
       "      <td>0.000552</td>\n",
       "    </tr>\n",
       "    <tr>\n",
       "      <th>ENSG00000166762</th>\n",
       "      <td>0.000557</td>\n",
       "    </tr>\n",
       "  </tbody>\n",
       "</table>\n",
       "</div>"
      ],
      "text/plain": [
       "                   pvalue\n",
       "gene                     \n",
       "ENSG00000111215  0.000274\n",
       "ENSG00000160752  0.000340\n",
       "ENSG00000119950  0.000437\n",
       "ENSG00000196505  0.000552\n",
       "ENSG00000166762  0.000557"
      ]
     },
     "execution_count": 14,
     "metadata": {},
     "output_type": "execute_result"
    }
   ],
   "source": [
    "multixcan_random_phenotype.head()"
   ]
  },
  {
   "cell_type": "code",
   "execution_count": 15,
   "id": "f8ff5a62",
   "metadata": {
    "execution": {
     "iopub.execute_input": "2022-03-02T20:55:42.885226Z",
     "iopub.status.busy": "2022-03-02T20:55:42.884704Z",
     "iopub.status.idle": "2022-03-02T20:55:42.903509Z",
     "shell.execute_reply": "2022-03-02T20:55:42.903012Z"
    },
    "papermill": {
     "duration": 0.073053,
     "end_time": "2022-03-02T20:55:42.905011",
     "exception": false,
     "start_time": "2022-03-02T20:55:42.831958",
     "status": "completed"
    },
    "tags": []
   },
   "outputs": [],
   "source": [
    "assert multixcan_random_phenotype.index.is_unique"
   ]
  },
  {
   "cell_type": "markdown",
   "id": "7a8c08ad",
   "metadata": {
    "papermill": {
     "duration": 0.052527,
     "end_time": "2022-03-02T20:55:43.011071",
     "exception": false,
     "start_time": "2022-03-02T20:55:42.958544",
     "status": "completed"
    },
    "tags": []
   },
   "source": [
    "## MultiPLIER Z matrix"
   ]
  },
  {
   "cell_type": "code",
   "execution_count": 16,
   "id": "2aac53e8",
   "metadata": {
    "execution": {
     "iopub.execute_input": "2022-03-02T20:55:43.117464Z",
     "iopub.status.busy": "2022-03-02T20:55:43.117248Z",
     "iopub.status.idle": "2022-03-02T20:55:43.134550Z",
     "shell.execute_reply": "2022-03-02T20:55:43.134056Z"
    },
    "papermill": {
     "duration": 0.072081,
     "end_time": "2022-03-02T20:55:43.136085",
     "exception": false,
     "start_time": "2022-03-02T20:55:43.064004",
     "status": "completed"
    },
    "tags": []
   },
   "outputs": [],
   "source": [
    "# multiplier_z_matrix = pd.read_pickle(conf.MULTIPLIER[\"MODEL_Z_MATRIX_FILE\"])"
   ]
  },
  {
   "cell_type": "code",
   "execution_count": 17,
   "id": "8ac67393",
   "metadata": {
    "execution": {
     "iopub.execute_input": "2022-03-02T20:55:43.242608Z",
     "iopub.status.busy": "2022-03-02T20:55:43.242393Z",
     "iopub.status.idle": "2022-03-02T20:55:43.259484Z",
     "shell.execute_reply": "2022-03-02T20:55:43.258989Z"
    },
    "papermill": {
     "duration": 0.072433,
     "end_time": "2022-03-02T20:55:43.261071",
     "exception": false,
     "start_time": "2022-03-02T20:55:43.188638",
     "status": "completed"
    },
    "tags": []
   },
   "outputs": [],
   "source": [
    "# multiplier_z_matrix.shape"
   ]
  },
  {
   "cell_type": "code",
   "execution_count": 18,
   "id": "bb5b9d2c",
   "metadata": {
    "execution": {
     "iopub.execute_input": "2022-03-02T20:55:43.371901Z",
     "iopub.status.busy": "2022-03-02T20:55:43.371673Z",
     "iopub.status.idle": "2022-03-02T20:55:43.388982Z",
     "shell.execute_reply": "2022-03-02T20:55:43.388202Z"
    },
    "papermill": {
     "duration": 0.075557,
     "end_time": "2022-03-02T20:55:43.390473",
     "exception": false,
     "start_time": "2022-03-02T20:55:43.314916",
     "status": "completed"
    },
    "tags": []
   },
   "outputs": [],
   "source": [
    "# multiplier_z_matrix.head()"
   ]
  },
  {
   "cell_type": "code",
   "execution_count": 19,
   "id": "b933cc09",
   "metadata": {
    "execution": {
     "iopub.execute_input": "2022-03-02T20:55:43.497908Z",
     "iopub.status.busy": "2022-03-02T20:55:43.497676Z",
     "iopub.status.idle": "2022-03-02T20:55:43.515202Z",
     "shell.execute_reply": "2022-03-02T20:55:43.514646Z"
    },
    "papermill": {
     "duration": 0.073346,
     "end_time": "2022-03-02T20:55:43.516751",
     "exception": false,
     "start_time": "2022-03-02T20:55:43.443405",
     "status": "completed"
    },
    "tags": []
   },
   "outputs": [],
   "source": [
    "# lv_codes = list(multiplier_z_matrix.columns)\n",
    "# display(lv_codes[:5])"
   ]
  },
  {
   "cell_type": "markdown",
   "id": "69471681",
   "metadata": {
    "papermill": {
     "duration": 0.052037,
     "end_time": "2022-03-02T20:55:43.621482",
     "exception": false,
     "start_time": "2022-03-02T20:55:43.569445",
     "status": "completed"
    },
    "tags": []
   },
   "source": [
    "# Preprocess MultiXcan results"
   ]
  },
  {
   "cell_type": "markdown",
   "id": "ba1d4b0a",
   "metadata": {
    "papermill": {
     "duration": 0.052723,
     "end_time": "2022-03-02T20:55:43.726898",
     "exception": false,
     "start_time": "2022-03-02T20:55:43.674175",
     "status": "completed"
    },
    "tags": []
   },
   "source": [
    "## Convert gene IDs to Gene names"
   ]
  },
  {
   "cell_type": "code",
   "execution_count": 20,
   "id": "89d811d1",
   "metadata": {
    "execution": {
     "iopub.execute_input": "2022-03-02T20:55:43.834066Z",
     "iopub.status.busy": "2022-03-02T20:55:43.833850Z",
     "iopub.status.idle": "2022-03-02T20:55:43.863102Z",
     "shell.execute_reply": "2022-03-02T20:55:43.862566Z"
    },
    "papermill": {
     "duration": 0.084938,
     "end_time": "2022-03-02T20:55:43.864681",
     "exception": false,
     "start_time": "2022-03-02T20:55:43.779743",
     "status": "completed"
    },
    "tags": []
   },
   "outputs": [],
   "source": [
    "smultixcan_results = multixcan_random_phenotype.rename(index=Gene.GENE_ID_TO_NAME_MAP)"
   ]
  },
  {
   "cell_type": "code",
   "execution_count": 21,
   "id": "f67ba345",
   "metadata": {
    "execution": {
     "iopub.execute_input": "2022-03-02T20:55:43.971140Z",
     "iopub.status.busy": "2022-03-02T20:55:43.970907Z",
     "iopub.status.idle": "2022-03-02T20:55:43.989575Z",
     "shell.execute_reply": "2022-03-02T20:55:43.988895Z"
    },
    "papermill": {
     "duration": 0.073402,
     "end_time": "2022-03-02T20:55:43.991059",
     "exception": false,
     "start_time": "2022-03-02T20:55:43.917657",
     "status": "completed"
    },
    "tags": []
   },
   "outputs": [
    {
     "data": {
      "text/plain": [
       "(17434, 1)"
      ]
     },
     "execution_count": 21,
     "metadata": {},
     "output_type": "execute_result"
    }
   ],
   "source": [
    "smultixcan_results.shape"
   ]
  },
  {
   "cell_type": "code",
   "execution_count": 22,
   "id": "d4b94688",
   "metadata": {
    "execution": {
     "iopub.execute_input": "2022-03-02T20:55:44.099261Z",
     "iopub.status.busy": "2022-03-02T20:55:44.098705Z",
     "iopub.status.idle": "2022-03-02T20:55:44.118743Z",
     "shell.execute_reply": "2022-03-02T20:55:44.118078Z"
    },
    "papermill": {
     "duration": 0.075917,
     "end_time": "2022-03-02T20:55:44.120139",
     "exception": false,
     "start_time": "2022-03-02T20:55:44.044222",
     "status": "completed"
    },
    "tags": []
   },
   "outputs": [
    {
     "data": {
      "text/html": [
       "<div>\n",
       "<style scoped>\n",
       "    .dataframe tbody tr th:only-of-type {\n",
       "        vertical-align: middle;\n",
       "    }\n",
       "\n",
       "    .dataframe tbody tr th {\n",
       "        vertical-align: top;\n",
       "    }\n",
       "\n",
       "    .dataframe thead th {\n",
       "        text-align: right;\n",
       "    }\n",
       "</style>\n",
       "<table border=\"1\" class=\"dataframe\">\n",
       "  <thead>\n",
       "    <tr style=\"text-align: right;\">\n",
       "      <th></th>\n",
       "      <th>pvalue</th>\n",
       "    </tr>\n",
       "    <tr>\n",
       "      <th>gene</th>\n",
       "      <th></th>\n",
       "    </tr>\n",
       "  </thead>\n",
       "  <tbody>\n",
       "    <tr>\n",
       "      <th>PRR4</th>\n",
       "      <td>0.000274</td>\n",
       "    </tr>\n",
       "    <tr>\n",
       "      <th>FDPS</th>\n",
       "      <td>0.000340</td>\n",
       "    </tr>\n",
       "    <tr>\n",
       "      <th>MXI1</th>\n",
       "      <td>0.000437</td>\n",
       "    </tr>\n",
       "    <tr>\n",
       "      <th>GDAP2</th>\n",
       "      <td>0.000552</td>\n",
       "    </tr>\n",
       "    <tr>\n",
       "      <th>CATSPER2</th>\n",
       "      <td>0.000557</td>\n",
       "    </tr>\n",
       "  </tbody>\n",
       "</table>\n",
       "</div>"
      ],
      "text/plain": [
       "            pvalue\n",
       "gene              \n",
       "PRR4      0.000274\n",
       "FDPS      0.000340\n",
       "MXI1      0.000437\n",
       "GDAP2     0.000552\n",
       "CATSPER2  0.000557"
      ]
     },
     "execution_count": 22,
     "metadata": {},
     "output_type": "execute_result"
    }
   ],
   "source": [
    "smultixcan_results.head()"
   ]
  },
  {
   "cell_type": "markdown",
   "id": "4abe9286",
   "metadata": {
    "papermill": {
     "duration": 0.052826,
     "end_time": "2022-03-02T20:55:44.226605",
     "exception": false,
     "start_time": "2022-03-02T20:55:44.173779",
     "status": "completed"
    },
    "tags": []
   },
   "source": [
    "## Remove duplicated gene entries"
   ]
  },
  {
   "cell_type": "code",
   "execution_count": 23,
   "id": "cb950f10",
   "metadata": {
    "execution": {
     "iopub.execute_input": "2022-03-02T20:55:44.334326Z",
     "iopub.status.busy": "2022-03-02T20:55:44.334133Z",
     "iopub.status.idle": "2022-03-02T20:55:44.353764Z",
     "shell.execute_reply": "2022-03-02T20:55:44.353244Z"
    },
    "papermill": {
     "duration": 0.07587,
     "end_time": "2022-03-02T20:55:44.355317",
     "exception": false,
     "start_time": "2022-03-02T20:55:44.279447",
     "status": "completed"
    },
    "tags": []
   },
   "outputs": [],
   "source": [
    "_tmp = smultixcan_results.index[smultixcan_results.index.duplicated(keep=\"first\")]\n",
    "assert _tmp.shape[0] == 0"
   ]
  },
  {
   "cell_type": "markdown",
   "id": "0bd66790",
   "metadata": {
    "papermill": {
     "duration": 0.052879,
     "end_time": "2022-03-02T20:55:44.461978",
     "exception": false,
     "start_time": "2022-03-02T20:55:44.409099",
     "status": "completed"
    },
    "tags": []
   },
   "source": [
    "## Convert p-values to z-scores"
   ]
  },
  {
   "cell_type": "code",
   "execution_count": 24,
   "id": "35539f39",
   "metadata": {
    "execution": {
     "iopub.execute_input": "2022-03-02T20:55:44.574428Z",
     "iopub.status.busy": "2022-03-02T20:55:44.574211Z",
     "iopub.status.idle": "2022-03-02T20:55:44.593990Z",
     "shell.execute_reply": "2022-03-02T20:55:44.593378Z"
    },
    "papermill": {
     "duration": 0.076881,
     "end_time": "2022-03-02T20:55:44.595645",
     "exception": false,
     "start_time": "2022-03-02T20:55:44.518764",
     "status": "completed"
    },
    "tags": []
   },
   "outputs": [],
   "source": [
    "smultixcan_results = smultixcan_results.assign(\n",
    "    zscore=np.abs(stats.norm.ppf(smultixcan_results[\"pvalue\"].to_numpy() / 2))\n",
    ")"
   ]
  },
  {
   "cell_type": "code",
   "execution_count": 25,
   "id": "a0757e8a",
   "metadata": {
    "execution": {
     "iopub.execute_input": "2022-03-02T20:55:44.704691Z",
     "iopub.status.busy": "2022-03-02T20:55:44.704476Z",
     "iopub.status.idle": "2022-03-02T20:55:44.722976Z",
     "shell.execute_reply": "2022-03-02T20:55:44.722409Z"
    },
    "papermill": {
     "duration": 0.074803,
     "end_time": "2022-03-02T20:55:44.724506",
     "exception": false,
     "start_time": "2022-03-02T20:55:44.649703",
     "status": "completed"
    },
    "tags": []
   },
   "outputs": [],
   "source": [
    "smultixcan_results = smultixcan_results.drop(columns=\"pvalue\").squeeze()"
   ]
  },
  {
   "cell_type": "code",
   "execution_count": 26,
   "id": "e377b1c8",
   "metadata": {
    "execution": {
     "iopub.execute_input": "2022-03-02T20:55:44.834026Z",
     "iopub.status.busy": "2022-03-02T20:55:44.833813Z",
     "iopub.status.idle": "2022-03-02T20:55:44.853160Z",
     "shell.execute_reply": "2022-03-02T20:55:44.852348Z"
    },
    "papermill": {
     "duration": 0.075272,
     "end_time": "2022-03-02T20:55:44.854662",
     "exception": false,
     "start_time": "2022-03-02T20:55:44.779390",
     "status": "completed"
    },
    "tags": []
   },
   "outputs": [
    {
     "data": {
      "text/plain": [
       "gene\n",
       "PRR4        3.638969\n",
       "FDPS        3.583010\n",
       "MXI1        3.516956\n",
       "GDAP2       3.454321\n",
       "CATSPER2    3.451753\n",
       "Name: zscore, dtype: float64"
      ]
     },
     "execution_count": 26,
     "metadata": {},
     "output_type": "execute_result"
    }
   ],
   "source": [
    "smultixcan_results.head()"
   ]
  },
  {
   "cell_type": "code",
   "execution_count": 27,
   "id": "504383ce",
   "metadata": {
    "execution": {
     "iopub.execute_input": "2022-03-02T20:55:44.964843Z",
     "iopub.status.busy": "2022-03-02T20:55:44.964628Z",
     "iopub.status.idle": "2022-03-02T20:55:44.986264Z",
     "shell.execute_reply": "2022-03-02T20:55:44.985525Z"
    },
    "papermill": {
     "duration": 0.077978,
     "end_time": "2022-03-02T20:55:44.987665",
     "exception": false,
     "start_time": "2022-03-02T20:55:44.909687",
     "status": "completed"
    },
    "tags": []
   },
   "outputs": [
    {
     "data": {
      "text/plain": [
       "count    17434.000000\n",
       "mean         0.799982\n",
       "std          0.601722\n",
       "min          0.000017\n",
       "25%          0.319986\n",
       "50%          0.677941\n",
       "75%          1.151688\n",
       "max          3.638969\n",
       "Name: zscore, dtype: float64"
      ]
     },
     "execution_count": 27,
     "metadata": {},
     "output_type": "execute_result"
    }
   ],
   "source": [
    "smultixcan_results.describe()"
   ]
  },
  {
   "cell_type": "markdown",
   "id": "cc9c4b59",
   "metadata": {
    "papermill": {
     "duration": 0.054533,
     "end_time": "2022-03-02T20:55:45.097088",
     "exception": false,
     "start_time": "2022-03-02T20:55:45.042555",
     "status": "completed"
    },
    "tags": []
   },
   "source": [
    "## Some checks"
   ]
  },
  {
   "cell_type": "code",
   "execution_count": 28,
   "id": "726573ec",
   "metadata": {
    "execution": {
     "iopub.execute_input": "2022-03-02T20:55:45.206071Z",
     "iopub.status.busy": "2022-03-02T20:55:45.205851Z",
     "iopub.status.idle": "2022-03-02T20:55:45.224386Z",
     "shell.execute_reply": "2022-03-02T20:55:45.223824Z"
    },
    "papermill": {
     "duration": 0.075084,
     "end_time": "2022-03-02T20:55:45.225924",
     "exception": false,
     "start_time": "2022-03-02T20:55:45.150840",
     "status": "completed"
    },
    "tags": []
   },
   "outputs": [],
   "source": [
    "# the data should have no NaN values\n",
    "assert smultixcan_results.shape == smultixcan_results.dropna(how=\"any\").shape"
   ]
  },
  {
   "cell_type": "markdown",
   "id": "a863af7c",
   "metadata": {
    "papermill": {
     "duration": 0.05367,
     "end_time": "2022-03-02T20:55:45.335647",
     "exception": false,
     "start_time": "2022-03-02T20:55:45.281977",
     "status": "completed"
    },
    "tags": []
   },
   "source": [
    "# GLSPhenoplier"
   ]
  },
  {
   "cell_type": "markdown",
   "id": "1d3cb63e",
   "metadata": {
    "papermill": {
     "duration": 0.053995,
     "end_time": "2022-03-02T20:55:45.443538",
     "exception": false,
     "start_time": "2022-03-02T20:55:45.389543",
     "status": "completed"
    },
    "tags": []
   },
   "source": [
    "## Identify clusters of non-related genes"
   ]
  },
  {
   "cell_type": "code",
   "execution_count": 29,
   "id": "29e90eb8",
   "metadata": {
    "execution": {
     "iopub.execute_input": "2022-03-02T20:55:45.557385Z",
     "iopub.status.busy": "2022-03-02T20:55:45.556852Z",
     "iopub.status.idle": "2022-03-02T20:55:47.225254Z",
     "shell.execute_reply": "2022-03-02T20:55:47.224567Z"
    },
    "papermill": {
     "duration": 1.728606,
     "end_time": "2022-03-02T20:55:47.226997",
     "exception": false,
     "start_time": "2022-03-02T20:55:45.498391",
     "status": "completed"
    },
    "tags": []
   },
   "outputs": [],
   "source": [
    "en_gene_corr = GLSPhenoplier._get_data(\n",
    "    conf.PHENOMEXCAN[\"SMULTIXCAN_EFO_PARTIAL_MASHR_ZSCORES_FILE\"],\n",
    "    model_type=\"ELASTIC_NET\",\n",
    ")[0]"
   ]
  },
  {
   "cell_type": "code",
   "execution_count": 30,
   "id": "90750c07",
   "metadata": {
    "execution": {
     "iopub.execute_input": "2022-03-02T20:55:47.341342Z",
     "iopub.status.busy": "2022-03-02T20:55:47.341106Z",
     "iopub.status.idle": "2022-03-02T20:55:47.364536Z",
     "shell.execute_reply": "2022-03-02T20:55:47.363935Z"
    },
    "papermill": {
     "duration": 0.079657,
     "end_time": "2022-03-02T20:55:47.366127",
     "exception": false,
     "start_time": "2022-03-02T20:55:47.286470",
     "status": "completed"
    },
    "tags": []
   },
   "outputs": [],
   "source": [
    "_comm_genes = en_gene_corr.index.intersection(smultixcan_results.index)"
   ]
  },
  {
   "cell_type": "code",
   "execution_count": 31,
   "id": "52d79eff",
   "metadata": {
    "execution": {
     "iopub.execute_input": "2022-03-02T20:55:47.478219Z",
     "iopub.status.busy": "2022-03-02T20:55:47.477989Z",
     "iopub.status.idle": "2022-03-02T20:55:47.649550Z",
     "shell.execute_reply": "2022-03-02T20:55:47.648959Z"
    },
    "papermill": {
     "duration": 0.228541,
     "end_time": "2022-03-02T20:55:47.651218",
     "exception": false,
     "start_time": "2022-03-02T20:55:47.422677",
     "status": "completed"
    },
    "tags": []
   },
   "outputs": [],
   "source": [
    "en_gene_corr = en_gene_corr.loc[_comm_genes, _comm_genes]"
   ]
  },
  {
   "cell_type": "code",
   "execution_count": 32,
   "id": "1c2f11d1",
   "metadata": {
    "execution": {
     "iopub.execute_input": "2022-03-02T20:55:47.761832Z",
     "iopub.status.busy": "2022-03-02T20:55:47.761611Z",
     "iopub.status.idle": "2022-03-02T20:55:47.780284Z",
     "shell.execute_reply": "2022-03-02T20:55:47.779674Z"
    },
    "papermill": {
     "duration": 0.075392,
     "end_time": "2022-03-02T20:55:47.781630",
     "exception": false,
     "start_time": "2022-03-02T20:55:47.706238",
     "status": "completed"
    },
    "tags": []
   },
   "outputs": [
    {
     "data": {
      "text/plain": [
       "(6324, 6324)"
      ]
     },
     "execution_count": 32,
     "metadata": {},
     "output_type": "execute_result"
    }
   ],
   "source": [
    "en_gene_corr.shape"
   ]
  },
  {
   "cell_type": "code",
   "execution_count": 33,
   "id": "b6dfae8c",
   "metadata": {
    "execution": {
     "iopub.execute_input": "2022-03-02T20:55:47.894438Z",
     "iopub.status.busy": "2022-03-02T20:55:47.894191Z",
     "iopub.status.idle": "2022-03-02T20:55:47.928381Z",
     "shell.execute_reply": "2022-03-02T20:55:47.927765Z"
    },
    "papermill": {
     "duration": 0.091784,
     "end_time": "2022-03-02T20:55:47.929857",
     "exception": false,
     "start_time": "2022-03-02T20:55:47.838073",
     "status": "completed"
    },
    "tags": []
   },
   "outputs": [
    {
     "data": {
      "text/html": [
       "<div>\n",
       "<style scoped>\n",
       "    .dataframe tbody tr th:only-of-type {\n",
       "        vertical-align: middle;\n",
       "    }\n",
       "\n",
       "    .dataframe tbody tr th {\n",
       "        vertical-align: top;\n",
       "    }\n",
       "\n",
       "    .dataframe thead th {\n",
       "        text-align: right;\n",
       "    }\n",
       "</style>\n",
       "<table border=\"1\" class=\"dataframe\">\n",
       "  <thead>\n",
       "    <tr style=\"text-align: right;\">\n",
       "      <th></th>\n",
       "      <th>GAS6</th>\n",
       "      <th>MMP14</th>\n",
       "      <th>DSP</th>\n",
       "      <th>MARCKSL1</th>\n",
       "      <th>SPARC</th>\n",
       "      <th>CTSD</th>\n",
       "      <th>EPAS1</th>\n",
       "      <th>PALLD</th>\n",
       "      <th>PHC2</th>\n",
       "      <th>LGALS3BP</th>\n",
       "      <th>...</th>\n",
       "      <th>LDHB</th>\n",
       "      <th>LDHC</th>\n",
       "      <th>ACAP2</th>\n",
       "      <th>ACAP3</th>\n",
       "      <th>CFL2</th>\n",
       "      <th>CFL1</th>\n",
       "      <th>NFIB</th>\n",
       "      <th>PLEKHG6</th>\n",
       "      <th>GNGT2</th>\n",
       "      <th>SERPINH1</th>\n",
       "    </tr>\n",
       "  </thead>\n",
       "  <tbody>\n",
       "    <tr>\n",
       "      <th>GAS6</th>\n",
       "      <td>1.0</td>\n",
       "      <td>0.0</td>\n",
       "      <td>0.0</td>\n",
       "      <td>0.0</td>\n",
       "      <td>0.0</td>\n",
       "      <td>0.0</td>\n",
       "      <td>0.0</td>\n",
       "      <td>0.0</td>\n",
       "      <td>0.0</td>\n",
       "      <td>0.0</td>\n",
       "      <td>...</td>\n",
       "      <td>0.0</td>\n",
       "      <td>0.0</td>\n",
       "      <td>0.0</td>\n",
       "      <td>0.0</td>\n",
       "      <td>0.000000</td>\n",
       "      <td>0.0</td>\n",
       "      <td>0.0</td>\n",
       "      <td>0.0</td>\n",
       "      <td>0.0</td>\n",
       "      <td>0.0</td>\n",
       "    </tr>\n",
       "    <tr>\n",
       "      <th>MMP14</th>\n",
       "      <td>0.0</td>\n",
       "      <td>1.0</td>\n",
       "      <td>0.0</td>\n",
       "      <td>0.0</td>\n",
       "      <td>0.0</td>\n",
       "      <td>0.0</td>\n",
       "      <td>0.0</td>\n",
       "      <td>0.0</td>\n",
       "      <td>0.0</td>\n",
       "      <td>0.0</td>\n",
       "      <td>...</td>\n",
       "      <td>0.0</td>\n",
       "      <td>0.0</td>\n",
       "      <td>0.0</td>\n",
       "      <td>0.0</td>\n",
       "      <td>-0.000186</td>\n",
       "      <td>0.0</td>\n",
       "      <td>0.0</td>\n",
       "      <td>0.0</td>\n",
       "      <td>0.0</td>\n",
       "      <td>0.0</td>\n",
       "    </tr>\n",
       "    <tr>\n",
       "      <th>DSP</th>\n",
       "      <td>0.0</td>\n",
       "      <td>0.0</td>\n",
       "      <td>1.0</td>\n",
       "      <td>0.0</td>\n",
       "      <td>0.0</td>\n",
       "      <td>0.0</td>\n",
       "      <td>0.0</td>\n",
       "      <td>0.0</td>\n",
       "      <td>0.0</td>\n",
       "      <td>0.0</td>\n",
       "      <td>...</td>\n",
       "      <td>0.0</td>\n",
       "      <td>0.0</td>\n",
       "      <td>0.0</td>\n",
       "      <td>0.0</td>\n",
       "      <td>0.000000</td>\n",
       "      <td>0.0</td>\n",
       "      <td>0.0</td>\n",
       "      <td>0.0</td>\n",
       "      <td>0.0</td>\n",
       "      <td>0.0</td>\n",
       "    </tr>\n",
       "    <tr>\n",
       "      <th>MARCKSL1</th>\n",
       "      <td>0.0</td>\n",
       "      <td>0.0</td>\n",
       "      <td>0.0</td>\n",
       "      <td>1.0</td>\n",
       "      <td>0.0</td>\n",
       "      <td>0.0</td>\n",
       "      <td>0.0</td>\n",
       "      <td>0.0</td>\n",
       "      <td>0.0</td>\n",
       "      <td>0.0</td>\n",
       "      <td>...</td>\n",
       "      <td>0.0</td>\n",
       "      <td>0.0</td>\n",
       "      <td>0.0</td>\n",
       "      <td>0.0</td>\n",
       "      <td>0.000000</td>\n",
       "      <td>0.0</td>\n",
       "      <td>0.0</td>\n",
       "      <td>0.0</td>\n",
       "      <td>0.0</td>\n",
       "      <td>0.0</td>\n",
       "    </tr>\n",
       "    <tr>\n",
       "      <th>SPARC</th>\n",
       "      <td>0.0</td>\n",
       "      <td>0.0</td>\n",
       "      <td>0.0</td>\n",
       "      <td>0.0</td>\n",
       "      <td>1.0</td>\n",
       "      <td>0.0</td>\n",
       "      <td>0.0</td>\n",
       "      <td>0.0</td>\n",
       "      <td>0.0</td>\n",
       "      <td>0.0</td>\n",
       "      <td>...</td>\n",
       "      <td>0.0</td>\n",
       "      <td>0.0</td>\n",
       "      <td>0.0</td>\n",
       "      <td>0.0</td>\n",
       "      <td>0.000000</td>\n",
       "      <td>0.0</td>\n",
       "      <td>0.0</td>\n",
       "      <td>0.0</td>\n",
       "      <td>0.0</td>\n",
       "      <td>0.0</td>\n",
       "    </tr>\n",
       "  </tbody>\n",
       "</table>\n",
       "<p>5 rows × 6324 columns</p>\n",
       "</div>"
      ],
      "text/plain": [
       "          GAS6  MMP14  DSP  MARCKSL1  SPARC  CTSD  EPAS1  PALLD  PHC2  \\\n",
       "GAS6       1.0    0.0  0.0       0.0    0.0   0.0    0.0    0.0   0.0   \n",
       "MMP14      0.0    1.0  0.0       0.0    0.0   0.0    0.0    0.0   0.0   \n",
       "DSP        0.0    0.0  1.0       0.0    0.0   0.0    0.0    0.0   0.0   \n",
       "MARCKSL1   0.0    0.0  0.0       1.0    0.0   0.0    0.0    0.0   0.0   \n",
       "SPARC      0.0    0.0  0.0       0.0    1.0   0.0    0.0    0.0   0.0   \n",
       "\n",
       "          LGALS3BP  ...  LDHB  LDHC  ACAP2  ACAP3      CFL2  CFL1  NFIB  \\\n",
       "GAS6           0.0  ...   0.0   0.0    0.0    0.0  0.000000   0.0   0.0   \n",
       "MMP14          0.0  ...   0.0   0.0    0.0    0.0 -0.000186   0.0   0.0   \n",
       "DSP            0.0  ...   0.0   0.0    0.0    0.0  0.000000   0.0   0.0   \n",
       "MARCKSL1       0.0  ...   0.0   0.0    0.0    0.0  0.000000   0.0   0.0   \n",
       "SPARC          0.0  ...   0.0   0.0    0.0    0.0  0.000000   0.0   0.0   \n",
       "\n",
       "          PLEKHG6  GNGT2  SERPINH1  \n",
       "GAS6          0.0    0.0       0.0  \n",
       "MMP14         0.0    0.0       0.0  \n",
       "DSP           0.0    0.0       0.0  \n",
       "MARCKSL1      0.0    0.0       0.0  \n",
       "SPARC         0.0    0.0       0.0  \n",
       "\n",
       "[5 rows x 6324 columns]"
      ]
     },
     "execution_count": 33,
     "metadata": {},
     "output_type": "execute_result"
    }
   ],
   "source": [
    "en_gene_corr.head()"
   ]
  },
  {
   "cell_type": "code",
   "execution_count": 34,
   "id": "2d135664",
   "metadata": {
    "execution": {
     "iopub.execute_input": "2022-03-02T20:55:48.042556Z",
     "iopub.status.busy": "2022-03-02T20:55:48.042364Z",
     "iopub.status.idle": "2022-03-02T20:55:48.109424Z",
     "shell.execute_reply": "2022-03-02T20:55:48.108742Z"
    },
    "papermill": {
     "duration": 0.125183,
     "end_time": "2022-03-02T20:55:48.111062",
     "exception": false,
     "start_time": "2022-03-02T20:55:47.985879",
     "status": "completed"
    },
    "tags": []
   },
   "outputs": [],
   "source": [
    "from sklearn.cluster import AgglomerativeClustering"
   ]
  },
  {
   "cell_type": "code",
   "execution_count": 35,
   "id": "7f107f89",
   "metadata": {
    "execution": {
     "iopub.execute_input": "2022-03-02T20:55:48.225178Z",
     "iopub.status.busy": "2022-03-02T20:55:48.224945Z",
     "iopub.status.idle": "2022-03-02T20:55:48.299146Z",
     "shell.execute_reply": "2022-03-02T20:55:48.298566Z"
    },
    "papermill": {
     "duration": 0.132757,
     "end_time": "2022-03-02T20:55:48.300679",
     "exception": false,
     "start_time": "2022-03-02T20:55:48.167922",
     "status": "completed"
    },
    "tags": []
   },
   "outputs": [],
   "source": [
    "en_gene_dist = en_gene_corr.abs().copy()\n",
    "np.fill_diagonal(en_gene_dist.values, 0.0)"
   ]
  },
  {
   "cell_type": "code",
   "execution_count": 36,
   "id": "a707c1f6",
   "metadata": {
    "execution": {
     "iopub.execute_input": "2022-03-02T20:55:48.414951Z",
     "iopub.status.busy": "2022-03-02T20:55:48.414720Z",
     "iopub.status.idle": "2022-03-02T20:55:48.454784Z",
     "shell.execute_reply": "2022-03-02T20:55:48.453970Z"
    },
    "papermill": {
     "duration": 0.098088,
     "end_time": "2022-03-02T20:55:48.456258",
     "exception": false,
     "start_time": "2022-03-02T20:55:48.358170",
     "status": "completed"
    },
    "tags": []
   },
   "outputs": [
    {
     "data": {
      "text/html": [
       "<div>\n",
       "<style scoped>\n",
       "    .dataframe tbody tr th:only-of-type {\n",
       "        vertical-align: middle;\n",
       "    }\n",
       "\n",
       "    .dataframe tbody tr th {\n",
       "        vertical-align: top;\n",
       "    }\n",
       "\n",
       "    .dataframe thead th {\n",
       "        text-align: right;\n",
       "    }\n",
       "</style>\n",
       "<table border=\"1\" class=\"dataframe\">\n",
       "  <thead>\n",
       "    <tr style=\"text-align: right;\">\n",
       "      <th></th>\n",
       "      <th>GAS6</th>\n",
       "      <th>MMP14</th>\n",
       "      <th>DSP</th>\n",
       "      <th>MARCKSL1</th>\n",
       "      <th>SPARC</th>\n",
       "      <th>CTSD</th>\n",
       "      <th>EPAS1</th>\n",
       "      <th>PALLD</th>\n",
       "      <th>PHC2</th>\n",
       "      <th>LGALS3BP</th>\n",
       "      <th>...</th>\n",
       "      <th>LDHB</th>\n",
       "      <th>LDHC</th>\n",
       "      <th>ACAP2</th>\n",
       "      <th>ACAP3</th>\n",
       "      <th>CFL2</th>\n",
       "      <th>CFL1</th>\n",
       "      <th>NFIB</th>\n",
       "      <th>PLEKHG6</th>\n",
       "      <th>GNGT2</th>\n",
       "      <th>SERPINH1</th>\n",
       "    </tr>\n",
       "  </thead>\n",
       "  <tbody>\n",
       "    <tr>\n",
       "      <th>GAS6</th>\n",
       "      <td>0.0</td>\n",
       "      <td>0.0</td>\n",
       "      <td>0.0</td>\n",
       "      <td>0.0</td>\n",
       "      <td>0.0</td>\n",
       "      <td>0.000000</td>\n",
       "      <td>0.0</td>\n",
       "      <td>0.0</td>\n",
       "      <td>0.0</td>\n",
       "      <td>0.000000</td>\n",
       "      <td>...</td>\n",
       "      <td>0.000000</td>\n",
       "      <td>0.000000</td>\n",
       "      <td>0.0</td>\n",
       "      <td>0.0</td>\n",
       "      <td>0.000000</td>\n",
       "      <td>0.00000</td>\n",
       "      <td>0.0</td>\n",
       "      <td>0.0</td>\n",
       "      <td>0.0</td>\n",
       "      <td>0.00000</td>\n",
       "    </tr>\n",
       "    <tr>\n",
       "      <th>MMP14</th>\n",
       "      <td>0.0</td>\n",
       "      <td>0.0</td>\n",
       "      <td>0.0</td>\n",
       "      <td>0.0</td>\n",
       "      <td>0.0</td>\n",
       "      <td>0.000000</td>\n",
       "      <td>0.0</td>\n",
       "      <td>0.0</td>\n",
       "      <td>0.0</td>\n",
       "      <td>0.000000</td>\n",
       "      <td>...</td>\n",
       "      <td>0.000000</td>\n",
       "      <td>0.000000</td>\n",
       "      <td>0.0</td>\n",
       "      <td>0.0</td>\n",
       "      <td>0.000186</td>\n",
       "      <td>0.00000</td>\n",
       "      <td>0.0</td>\n",
       "      <td>0.0</td>\n",
       "      <td>0.0</td>\n",
       "      <td>0.00000</td>\n",
       "    </tr>\n",
       "    <tr>\n",
       "      <th>DSP</th>\n",
       "      <td>0.0</td>\n",
       "      <td>0.0</td>\n",
       "      <td>0.0</td>\n",
       "      <td>0.0</td>\n",
       "      <td>0.0</td>\n",
       "      <td>0.000000</td>\n",
       "      <td>0.0</td>\n",
       "      <td>0.0</td>\n",
       "      <td>0.0</td>\n",
       "      <td>0.000000</td>\n",
       "      <td>...</td>\n",
       "      <td>0.000000</td>\n",
       "      <td>0.000000</td>\n",
       "      <td>0.0</td>\n",
       "      <td>0.0</td>\n",
       "      <td>0.000000</td>\n",
       "      <td>0.00000</td>\n",
       "      <td>0.0</td>\n",
       "      <td>0.0</td>\n",
       "      <td>0.0</td>\n",
       "      <td>0.00000</td>\n",
       "    </tr>\n",
       "    <tr>\n",
       "      <th>MARCKSL1</th>\n",
       "      <td>0.0</td>\n",
       "      <td>0.0</td>\n",
       "      <td>0.0</td>\n",
       "      <td>0.0</td>\n",
       "      <td>0.0</td>\n",
       "      <td>0.000000</td>\n",
       "      <td>0.0</td>\n",
       "      <td>0.0</td>\n",
       "      <td>0.0</td>\n",
       "      <td>0.000000</td>\n",
       "      <td>...</td>\n",
       "      <td>0.000000</td>\n",
       "      <td>0.000000</td>\n",
       "      <td>0.0</td>\n",
       "      <td>0.0</td>\n",
       "      <td>0.000000</td>\n",
       "      <td>0.00000</td>\n",
       "      <td>0.0</td>\n",
       "      <td>0.0</td>\n",
       "      <td>0.0</td>\n",
       "      <td>0.00000</td>\n",
       "    </tr>\n",
       "    <tr>\n",
       "      <th>SPARC</th>\n",
       "      <td>0.0</td>\n",
       "      <td>0.0</td>\n",
       "      <td>0.0</td>\n",
       "      <td>0.0</td>\n",
       "      <td>0.0</td>\n",
       "      <td>0.000000</td>\n",
       "      <td>0.0</td>\n",
       "      <td>0.0</td>\n",
       "      <td>0.0</td>\n",
       "      <td>0.000000</td>\n",
       "      <td>...</td>\n",
       "      <td>0.000000</td>\n",
       "      <td>0.000000</td>\n",
       "      <td>0.0</td>\n",
       "      <td>0.0</td>\n",
       "      <td>0.000000</td>\n",
       "      <td>0.00000</td>\n",
       "      <td>0.0</td>\n",
       "      <td>0.0</td>\n",
       "      <td>0.0</td>\n",
       "      <td>0.00000</td>\n",
       "    </tr>\n",
       "    <tr>\n",
       "      <th>...</th>\n",
       "      <td>...</td>\n",
       "      <td>...</td>\n",
       "      <td>...</td>\n",
       "      <td>...</td>\n",
       "      <td>...</td>\n",
       "      <td>...</td>\n",
       "      <td>...</td>\n",
       "      <td>...</td>\n",
       "      <td>...</td>\n",
       "      <td>...</td>\n",
       "      <td>...</td>\n",
       "      <td>...</td>\n",
       "      <td>...</td>\n",
       "      <td>...</td>\n",
       "      <td>...</td>\n",
       "      <td>...</td>\n",
       "      <td>...</td>\n",
       "      <td>...</td>\n",
       "      <td>...</td>\n",
       "      <td>...</td>\n",
       "      <td>...</td>\n",
       "    </tr>\n",
       "    <tr>\n",
       "      <th>CFL1</th>\n",
       "      <td>0.0</td>\n",
       "      <td>0.0</td>\n",
       "      <td>0.0</td>\n",
       "      <td>0.0</td>\n",
       "      <td>0.0</td>\n",
       "      <td>0.002901</td>\n",
       "      <td>0.0</td>\n",
       "      <td>0.0</td>\n",
       "      <td>0.0</td>\n",
       "      <td>0.000000</td>\n",
       "      <td>...</td>\n",
       "      <td>0.000000</td>\n",
       "      <td>0.009373</td>\n",
       "      <td>0.0</td>\n",
       "      <td>0.0</td>\n",
       "      <td>0.000000</td>\n",
       "      <td>0.00000</td>\n",
       "      <td>0.0</td>\n",
       "      <td>0.0</td>\n",
       "      <td>0.0</td>\n",
       "      <td>0.00016</td>\n",
       "    </tr>\n",
       "    <tr>\n",
       "      <th>NFIB</th>\n",
       "      <td>0.0</td>\n",
       "      <td>0.0</td>\n",
       "      <td>0.0</td>\n",
       "      <td>0.0</td>\n",
       "      <td>0.0</td>\n",
       "      <td>0.000000</td>\n",
       "      <td>0.0</td>\n",
       "      <td>0.0</td>\n",
       "      <td>0.0</td>\n",
       "      <td>0.000000</td>\n",
       "      <td>...</td>\n",
       "      <td>0.000000</td>\n",
       "      <td>0.000000</td>\n",
       "      <td>0.0</td>\n",
       "      <td>0.0</td>\n",
       "      <td>0.000000</td>\n",
       "      <td>0.00000</td>\n",
       "      <td>0.0</td>\n",
       "      <td>0.0</td>\n",
       "      <td>0.0</td>\n",
       "      <td>0.00000</td>\n",
       "    </tr>\n",
       "    <tr>\n",
       "      <th>PLEKHG6</th>\n",
       "      <td>0.0</td>\n",
       "      <td>0.0</td>\n",
       "      <td>0.0</td>\n",
       "      <td>0.0</td>\n",
       "      <td>0.0</td>\n",
       "      <td>0.000000</td>\n",
       "      <td>0.0</td>\n",
       "      <td>0.0</td>\n",
       "      <td>0.0</td>\n",
       "      <td>0.000000</td>\n",
       "      <td>...</td>\n",
       "      <td>0.000741</td>\n",
       "      <td>0.000000</td>\n",
       "      <td>0.0</td>\n",
       "      <td>0.0</td>\n",
       "      <td>0.000000</td>\n",
       "      <td>0.00000</td>\n",
       "      <td>0.0</td>\n",
       "      <td>0.0</td>\n",
       "      <td>0.0</td>\n",
       "      <td>0.00000</td>\n",
       "    </tr>\n",
       "    <tr>\n",
       "      <th>GNGT2</th>\n",
       "      <td>0.0</td>\n",
       "      <td>0.0</td>\n",
       "      <td>0.0</td>\n",
       "      <td>0.0</td>\n",
       "      <td>0.0</td>\n",
       "      <td>0.000000</td>\n",
       "      <td>0.0</td>\n",
       "      <td>0.0</td>\n",
       "      <td>0.0</td>\n",
       "      <td>0.002965</td>\n",
       "      <td>...</td>\n",
       "      <td>0.000000</td>\n",
       "      <td>0.000000</td>\n",
       "      <td>0.0</td>\n",
       "      <td>0.0</td>\n",
       "      <td>0.000000</td>\n",
       "      <td>0.00000</td>\n",
       "      <td>0.0</td>\n",
       "      <td>0.0</td>\n",
       "      <td>0.0</td>\n",
       "      <td>0.00000</td>\n",
       "    </tr>\n",
       "    <tr>\n",
       "      <th>SERPINH1</th>\n",
       "      <td>0.0</td>\n",
       "      <td>0.0</td>\n",
       "      <td>0.0</td>\n",
       "      <td>0.0</td>\n",
       "      <td>0.0</td>\n",
       "      <td>0.000471</td>\n",
       "      <td>0.0</td>\n",
       "      <td>0.0</td>\n",
       "      <td>0.0</td>\n",
       "      <td>0.000000</td>\n",
       "      <td>...</td>\n",
       "      <td>0.000000</td>\n",
       "      <td>0.000793</td>\n",
       "      <td>0.0</td>\n",
       "      <td>0.0</td>\n",
       "      <td>0.000000</td>\n",
       "      <td>0.00016</td>\n",
       "      <td>0.0</td>\n",
       "      <td>0.0</td>\n",
       "      <td>0.0</td>\n",
       "      <td>0.00000</td>\n",
       "    </tr>\n",
       "  </tbody>\n",
       "</table>\n",
       "<p>6324 rows × 6324 columns</p>\n",
       "</div>"
      ],
      "text/plain": [
       "          GAS6  MMP14  DSP  MARCKSL1  SPARC      CTSD  EPAS1  PALLD  PHC2  \\\n",
       "GAS6       0.0    0.0  0.0       0.0    0.0  0.000000    0.0    0.0   0.0   \n",
       "MMP14      0.0    0.0  0.0       0.0    0.0  0.000000    0.0    0.0   0.0   \n",
       "DSP        0.0    0.0  0.0       0.0    0.0  0.000000    0.0    0.0   0.0   \n",
       "MARCKSL1   0.0    0.0  0.0       0.0    0.0  0.000000    0.0    0.0   0.0   \n",
       "SPARC      0.0    0.0  0.0       0.0    0.0  0.000000    0.0    0.0   0.0   \n",
       "...        ...    ...  ...       ...    ...       ...    ...    ...   ...   \n",
       "CFL1       0.0    0.0  0.0       0.0    0.0  0.002901    0.0    0.0   0.0   \n",
       "NFIB       0.0    0.0  0.0       0.0    0.0  0.000000    0.0    0.0   0.0   \n",
       "PLEKHG6    0.0    0.0  0.0       0.0    0.0  0.000000    0.0    0.0   0.0   \n",
       "GNGT2      0.0    0.0  0.0       0.0    0.0  0.000000    0.0    0.0   0.0   \n",
       "SERPINH1   0.0    0.0  0.0       0.0    0.0  0.000471    0.0    0.0   0.0   \n",
       "\n",
       "          LGALS3BP  ...      LDHB      LDHC  ACAP2  ACAP3      CFL2     CFL1  \\\n",
       "GAS6      0.000000  ...  0.000000  0.000000    0.0    0.0  0.000000  0.00000   \n",
       "MMP14     0.000000  ...  0.000000  0.000000    0.0    0.0  0.000186  0.00000   \n",
       "DSP       0.000000  ...  0.000000  0.000000    0.0    0.0  0.000000  0.00000   \n",
       "MARCKSL1  0.000000  ...  0.000000  0.000000    0.0    0.0  0.000000  0.00000   \n",
       "SPARC     0.000000  ...  0.000000  0.000000    0.0    0.0  0.000000  0.00000   \n",
       "...            ...  ...       ...       ...    ...    ...       ...      ...   \n",
       "CFL1      0.000000  ...  0.000000  0.009373    0.0    0.0  0.000000  0.00000   \n",
       "NFIB      0.000000  ...  0.000000  0.000000    0.0    0.0  0.000000  0.00000   \n",
       "PLEKHG6   0.000000  ...  0.000741  0.000000    0.0    0.0  0.000000  0.00000   \n",
       "GNGT2     0.002965  ...  0.000000  0.000000    0.0    0.0  0.000000  0.00000   \n",
       "SERPINH1  0.000000  ...  0.000000  0.000793    0.0    0.0  0.000000  0.00016   \n",
       "\n",
       "          NFIB  PLEKHG6  GNGT2  SERPINH1  \n",
       "GAS6       0.0      0.0    0.0   0.00000  \n",
       "MMP14      0.0      0.0    0.0   0.00000  \n",
       "DSP        0.0      0.0    0.0   0.00000  \n",
       "MARCKSL1   0.0      0.0    0.0   0.00000  \n",
       "SPARC      0.0      0.0    0.0   0.00000  \n",
       "...        ...      ...    ...       ...  \n",
       "CFL1       0.0      0.0    0.0   0.00016  \n",
       "NFIB       0.0      0.0    0.0   0.00000  \n",
       "PLEKHG6    0.0      0.0    0.0   0.00000  \n",
       "GNGT2      0.0      0.0    0.0   0.00000  \n",
       "SERPINH1   0.0      0.0    0.0   0.00000  \n",
       "\n",
       "[6324 rows x 6324 columns]"
      ]
     },
     "execution_count": 36,
     "metadata": {},
     "output_type": "execute_result"
    }
   ],
   "source": [
    "en_gene_dist"
   ]
  },
  {
   "cell_type": "code",
   "execution_count": 37,
   "id": "59686fc2",
   "metadata": {
    "execution": {
     "iopub.execute_input": "2022-03-02T20:55:48.577120Z",
     "iopub.status.busy": "2022-03-02T20:55:48.576927Z",
     "iopub.status.idle": "2022-03-02T20:55:49.111299Z",
     "shell.execute_reply": "2022-03-02T20:55:49.110754Z"
    },
    "papermill": {
     "duration": 0.596297,
     "end_time": "2022-03-02T20:55:49.113025",
     "exception": false,
     "start_time": "2022-03-02T20:55:48.516728",
     "status": "completed"
    },
    "tags": []
   },
   "outputs": [],
   "source": [
    "_tmp = en_gene_dist.unstack()\n",
    "_tmp = _tmp[(_tmp > 0.0) & (_tmp < 1.0)]"
   ]
  },
  {
   "cell_type": "code",
   "execution_count": 38,
   "id": "242d206d",
   "metadata": {
    "execution": {
     "iopub.execute_input": "2022-03-02T20:55:49.227951Z",
     "iopub.status.busy": "2022-03-02T20:55:49.227428Z",
     "iopub.status.idle": "2022-03-02T20:55:49.533931Z",
     "shell.execute_reply": "2022-03-02T20:55:49.533248Z"
    },
    "papermill": {
     "duration": 0.365249,
     "end_time": "2022-03-02T20:55:49.535512",
     "exception": false,
     "start_time": "2022-03-02T20:55:49.170263",
     "status": "completed"
    },
    "tags": []
   },
   "outputs": [
    {
     "data": {
      "text/plain": [
       "PADI4     POU2F1      1.016482e-09\n",
       "POU2F1    PADI4       1.016482e-09\n",
       "SLC6A6    PRICKLE2    1.415990e-09\n",
       "PRICKLE2  SLC6A6      1.415990e-09\n",
       "ESPL1     CRADD       1.634566e-09\n",
       "                          ...     \n",
       "CYP2D6    NAGA        7.044598e-01\n",
       "ZNF589    NME6        7.159745e-01\n",
       "NME6      ZNF589      7.159745e-01\n",
       "SUOX      RPS26       7.884358e-01\n",
       "RPS26     SUOX        7.884358e-01\n",
       "Length: 1864056, dtype: float32"
      ]
     },
     "execution_count": 38,
     "metadata": {},
     "output_type": "execute_result"
    }
   ],
   "source": [
    "_tmp.sort_values()"
   ]
  },
  {
   "cell_type": "code",
   "execution_count": 39,
   "id": "580f1fd9",
   "metadata": {
    "execution": {
     "iopub.execute_input": "2022-03-02T20:55:49.659730Z",
     "iopub.status.busy": "2022-03-02T20:55:49.659270Z",
     "iopub.status.idle": "2022-03-02T20:55:49.678327Z",
     "shell.execute_reply": "2022-03-02T20:55:49.677741Z"
    },
    "papermill": {
     "duration": 0.079241,
     "end_time": "2022-03-02T20:55:49.679864",
     "exception": false,
     "start_time": "2022-03-02T20:55:49.600623",
     "status": "completed"
    },
    "tags": []
   },
   "outputs": [],
   "source": [
    "ac = AgglomerativeClustering(\n",
    "    n_clusters=None,\n",
    "    compute_full_tree=True,\n",
    "    linkage=\"complete\",\n",
    "    affinity=\"precomputed\",\n",
    "    distance_threshold=1e-100,\n",
    ")"
   ]
  },
  {
   "cell_type": "code",
   "execution_count": 40,
   "id": "4ab52332",
   "metadata": {
    "execution": {
     "iopub.execute_input": "2022-03-02T20:55:49.797681Z",
     "iopub.status.busy": "2022-03-02T20:55:49.797462Z",
     "iopub.status.idle": "2022-03-02T20:55:50.622726Z",
     "shell.execute_reply": "2022-03-02T20:55:50.622235Z"
    },
    "papermill": {
     "duration": 0.884416,
     "end_time": "2022-03-02T20:55:50.624158",
     "exception": false,
     "start_time": "2022-03-02T20:55:49.739742",
     "status": "completed"
    },
    "tags": []
   },
   "outputs": [
    {
     "data": {
      "text/plain": [
       "AgglomerativeClustering(affinity='precomputed', compute_full_tree=True,\n",
       "                        distance_threshold=1e-100, linkage='complete',\n",
       "                        n_clusters=None)"
      ]
     },
     "execution_count": 40,
     "metadata": {},
     "output_type": "execute_result"
    }
   ],
   "source": [
    "ac.fit(en_gene_dist)"
   ]
  },
  {
   "cell_type": "code",
   "execution_count": 41,
   "id": "b0d95392",
   "metadata": {
    "execution": {
     "iopub.execute_input": "2022-03-02T20:55:50.741724Z",
     "iopub.status.busy": "2022-03-02T20:55:50.741531Z",
     "iopub.status.idle": "2022-03-02T20:55:50.763572Z",
     "shell.execute_reply": "2022-03-02T20:55:50.762915Z"
    },
    "papermill": {
     "duration": 0.081753,
     "end_time": "2022-03-02T20:55:50.764973",
     "exception": false,
     "start_time": "2022-03-02T20:55:50.683220",
     "status": "completed"
    },
    "tags": []
   },
   "outputs": [
    {
     "data": {
      "text/plain": [
       "141    67\n",
       "285    62\n",
       "244    58\n",
       "236    58\n",
       "98     58\n",
       "       ..\n",
       "388     1\n",
       "384     1\n",
       "365     1\n",
       "377     1\n",
       "391     1\n",
       "Length: 393, dtype: int64"
      ]
     },
     "metadata": {},
     "output_type": "display_data"
    }
   ],
   "source": [
    "gene_part = pd.Series(ac.labels_)\n",
    "display(gene_part.value_counts())"
   ]
  },
  {
   "cell_type": "code",
   "execution_count": 42,
   "id": "457f55e3",
   "metadata": {
    "execution": {
     "iopub.execute_input": "2022-03-02T20:55:50.884707Z",
     "iopub.status.busy": "2022-03-02T20:55:50.884135Z",
     "iopub.status.idle": "2022-03-02T20:55:50.926904Z",
     "shell.execute_reply": "2022-03-02T20:55:50.926277Z"
    },
    "papermill": {
     "duration": 0.103534,
     "end_time": "2022-03-02T20:55:50.928454",
     "exception": false,
     "start_time": "2022-03-02T20:55:50.824920",
     "status": "completed"
    },
    "tags": []
   },
   "outputs": [
    {
     "data": {
      "text/html": [
       "<div>\n",
       "<style scoped>\n",
       "    .dataframe tbody tr th:only-of-type {\n",
       "        vertical-align: middle;\n",
       "    }\n",
       "\n",
       "    .dataframe tbody tr th {\n",
       "        vertical-align: top;\n",
       "    }\n",
       "\n",
       "    .dataframe thead th {\n",
       "        text-align: right;\n",
       "    }\n",
       "</style>\n",
       "<table border=\"1\" class=\"dataframe\">\n",
       "  <thead>\n",
       "    <tr style=\"text-align: right;\">\n",
       "      <th></th>\n",
       "      <th>GAS6</th>\n",
       "      <th>MMP14</th>\n",
       "      <th>DSP</th>\n",
       "      <th>MARCKSL1</th>\n",
       "      <th>SPARC</th>\n",
       "      <th>CTSD</th>\n",
       "      <th>EPAS1</th>\n",
       "      <th>PALLD</th>\n",
       "      <th>PHC2</th>\n",
       "      <th>LGALS3BP</th>\n",
       "      <th>...</th>\n",
       "      <th>AGRP</th>\n",
       "      <th>TRA2A</th>\n",
       "      <th>GH1</th>\n",
       "      <th>OSBP</th>\n",
       "      <th>RPLP1</th>\n",
       "      <th>SEC14L2</th>\n",
       "      <th>GNPNAT1</th>\n",
       "      <th>RPL24</th>\n",
       "      <th>TP53</th>\n",
       "      <th>MVD</th>\n",
       "    </tr>\n",
       "  </thead>\n",
       "  <tbody>\n",
       "    <tr>\n",
       "      <th>GAS6</th>\n",
       "      <td>0.0</td>\n",
       "      <td>0.0</td>\n",
       "      <td>0.0</td>\n",
       "      <td>0.0</td>\n",
       "      <td>0.0</td>\n",
       "      <td>0.0</td>\n",
       "      <td>0.0</td>\n",
       "      <td>0.0</td>\n",
       "      <td>0.0</td>\n",
       "      <td>0.0</td>\n",
       "      <td>...</td>\n",
       "      <td>0.0</td>\n",
       "      <td>0.0</td>\n",
       "      <td>0.0</td>\n",
       "      <td>0.0</td>\n",
       "      <td>0.0</td>\n",
       "      <td>0.0</td>\n",
       "      <td>0.0</td>\n",
       "      <td>0.0</td>\n",
       "      <td>0.0</td>\n",
       "      <td>0.0</td>\n",
       "    </tr>\n",
       "    <tr>\n",
       "      <th>MMP14</th>\n",
       "      <td>0.0</td>\n",
       "      <td>0.0</td>\n",
       "      <td>0.0</td>\n",
       "      <td>0.0</td>\n",
       "      <td>0.0</td>\n",
       "      <td>0.0</td>\n",
       "      <td>0.0</td>\n",
       "      <td>0.0</td>\n",
       "      <td>0.0</td>\n",
       "      <td>0.0</td>\n",
       "      <td>...</td>\n",
       "      <td>0.0</td>\n",
       "      <td>0.0</td>\n",
       "      <td>0.0</td>\n",
       "      <td>0.0</td>\n",
       "      <td>0.0</td>\n",
       "      <td>0.0</td>\n",
       "      <td>0.0</td>\n",
       "      <td>0.0</td>\n",
       "      <td>0.0</td>\n",
       "      <td>0.0</td>\n",
       "    </tr>\n",
       "    <tr>\n",
       "      <th>DSP</th>\n",
       "      <td>0.0</td>\n",
       "      <td>0.0</td>\n",
       "      <td>0.0</td>\n",
       "      <td>0.0</td>\n",
       "      <td>0.0</td>\n",
       "      <td>0.0</td>\n",
       "      <td>0.0</td>\n",
       "      <td>0.0</td>\n",
       "      <td>0.0</td>\n",
       "      <td>0.0</td>\n",
       "      <td>...</td>\n",
       "      <td>0.0</td>\n",
       "      <td>0.0</td>\n",
       "      <td>0.0</td>\n",
       "      <td>0.0</td>\n",
       "      <td>0.0</td>\n",
       "      <td>0.0</td>\n",
       "      <td>0.0</td>\n",
       "      <td>0.0</td>\n",
       "      <td>0.0</td>\n",
       "      <td>0.0</td>\n",
       "    </tr>\n",
       "    <tr>\n",
       "      <th>MARCKSL1</th>\n",
       "      <td>0.0</td>\n",
       "      <td>0.0</td>\n",
       "      <td>0.0</td>\n",
       "      <td>0.0</td>\n",
       "      <td>0.0</td>\n",
       "      <td>0.0</td>\n",
       "      <td>0.0</td>\n",
       "      <td>0.0</td>\n",
       "      <td>0.0</td>\n",
       "      <td>0.0</td>\n",
       "      <td>...</td>\n",
       "      <td>0.0</td>\n",
       "      <td>0.0</td>\n",
       "      <td>0.0</td>\n",
       "      <td>0.0</td>\n",
       "      <td>0.0</td>\n",
       "      <td>0.0</td>\n",
       "      <td>0.0</td>\n",
       "      <td>0.0</td>\n",
       "      <td>0.0</td>\n",
       "      <td>0.0</td>\n",
       "    </tr>\n",
       "    <tr>\n",
       "      <th>SPARC</th>\n",
       "      <td>0.0</td>\n",
       "      <td>0.0</td>\n",
       "      <td>0.0</td>\n",
       "      <td>0.0</td>\n",
       "      <td>0.0</td>\n",
       "      <td>0.0</td>\n",
       "      <td>0.0</td>\n",
       "      <td>0.0</td>\n",
       "      <td>0.0</td>\n",
       "      <td>0.0</td>\n",
       "      <td>...</td>\n",
       "      <td>0.0</td>\n",
       "      <td>0.0</td>\n",
       "      <td>0.0</td>\n",
       "      <td>0.0</td>\n",
       "      <td>0.0</td>\n",
       "      <td>0.0</td>\n",
       "      <td>0.0</td>\n",
       "      <td>0.0</td>\n",
       "      <td>0.0</td>\n",
       "      <td>0.0</td>\n",
       "    </tr>\n",
       "    <tr>\n",
       "      <th>...</th>\n",
       "      <td>...</td>\n",
       "      <td>...</td>\n",
       "      <td>...</td>\n",
       "      <td>...</td>\n",
       "      <td>...</td>\n",
       "      <td>...</td>\n",
       "      <td>...</td>\n",
       "      <td>...</td>\n",
       "      <td>...</td>\n",
       "      <td>...</td>\n",
       "      <td>...</td>\n",
       "      <td>...</td>\n",
       "      <td>...</td>\n",
       "      <td>...</td>\n",
       "      <td>...</td>\n",
       "      <td>...</td>\n",
       "      <td>...</td>\n",
       "      <td>...</td>\n",
       "      <td>...</td>\n",
       "      <td>...</td>\n",
       "      <td>...</td>\n",
       "    </tr>\n",
       "    <tr>\n",
       "      <th>SEC14L2</th>\n",
       "      <td>0.0</td>\n",
       "      <td>0.0</td>\n",
       "      <td>0.0</td>\n",
       "      <td>0.0</td>\n",
       "      <td>0.0</td>\n",
       "      <td>0.0</td>\n",
       "      <td>0.0</td>\n",
       "      <td>0.0</td>\n",
       "      <td>0.0</td>\n",
       "      <td>0.0</td>\n",
       "      <td>...</td>\n",
       "      <td>0.0</td>\n",
       "      <td>0.0</td>\n",
       "      <td>0.0</td>\n",
       "      <td>0.0</td>\n",
       "      <td>0.0</td>\n",
       "      <td>0.0</td>\n",
       "      <td>0.0</td>\n",
       "      <td>0.0</td>\n",
       "      <td>0.0</td>\n",
       "      <td>0.0</td>\n",
       "    </tr>\n",
       "    <tr>\n",
       "      <th>GNPNAT1</th>\n",
       "      <td>0.0</td>\n",
       "      <td>0.0</td>\n",
       "      <td>0.0</td>\n",
       "      <td>0.0</td>\n",
       "      <td>0.0</td>\n",
       "      <td>0.0</td>\n",
       "      <td>0.0</td>\n",
       "      <td>0.0</td>\n",
       "      <td>0.0</td>\n",
       "      <td>0.0</td>\n",
       "      <td>...</td>\n",
       "      <td>0.0</td>\n",
       "      <td>0.0</td>\n",
       "      <td>0.0</td>\n",
       "      <td>0.0</td>\n",
       "      <td>0.0</td>\n",
       "      <td>0.0</td>\n",
       "      <td>0.0</td>\n",
       "      <td>0.0</td>\n",
       "      <td>0.0</td>\n",
       "      <td>0.0</td>\n",
       "    </tr>\n",
       "    <tr>\n",
       "      <th>RPL24</th>\n",
       "      <td>0.0</td>\n",
       "      <td>0.0</td>\n",
       "      <td>0.0</td>\n",
       "      <td>0.0</td>\n",
       "      <td>0.0</td>\n",
       "      <td>0.0</td>\n",
       "      <td>0.0</td>\n",
       "      <td>0.0</td>\n",
       "      <td>0.0</td>\n",
       "      <td>0.0</td>\n",
       "      <td>...</td>\n",
       "      <td>0.0</td>\n",
       "      <td>0.0</td>\n",
       "      <td>0.0</td>\n",
       "      <td>0.0</td>\n",
       "      <td>0.0</td>\n",
       "      <td>0.0</td>\n",
       "      <td>0.0</td>\n",
       "      <td>0.0</td>\n",
       "      <td>0.0</td>\n",
       "      <td>0.0</td>\n",
       "    </tr>\n",
       "    <tr>\n",
       "      <th>TP53</th>\n",
       "      <td>0.0</td>\n",
       "      <td>0.0</td>\n",
       "      <td>0.0</td>\n",
       "      <td>0.0</td>\n",
       "      <td>0.0</td>\n",
       "      <td>0.0</td>\n",
       "      <td>0.0</td>\n",
       "      <td>0.0</td>\n",
       "      <td>0.0</td>\n",
       "      <td>0.0</td>\n",
       "      <td>...</td>\n",
       "      <td>0.0</td>\n",
       "      <td>0.0</td>\n",
       "      <td>0.0</td>\n",
       "      <td>0.0</td>\n",
       "      <td>0.0</td>\n",
       "      <td>0.0</td>\n",
       "      <td>0.0</td>\n",
       "      <td>0.0</td>\n",
       "      <td>0.0</td>\n",
       "      <td>0.0</td>\n",
       "    </tr>\n",
       "    <tr>\n",
       "      <th>MVD</th>\n",
       "      <td>0.0</td>\n",
       "      <td>0.0</td>\n",
       "      <td>0.0</td>\n",
       "      <td>0.0</td>\n",
       "      <td>0.0</td>\n",
       "      <td>0.0</td>\n",
       "      <td>0.0</td>\n",
       "      <td>0.0</td>\n",
       "      <td>0.0</td>\n",
       "      <td>0.0</td>\n",
       "      <td>...</td>\n",
       "      <td>0.0</td>\n",
       "      <td>0.0</td>\n",
       "      <td>0.0</td>\n",
       "      <td>0.0</td>\n",
       "      <td>0.0</td>\n",
       "      <td>0.0</td>\n",
       "      <td>0.0</td>\n",
       "      <td>0.0</td>\n",
       "      <td>0.0</td>\n",
       "      <td>0.0</td>\n",
       "    </tr>\n",
       "  </tbody>\n",
       "</table>\n",
       "<p>67 rows × 67 columns</p>\n",
       "</div>"
      ],
      "text/plain": [
       "          GAS6  MMP14  DSP  MARCKSL1  SPARC  CTSD  EPAS1  PALLD  PHC2  \\\n",
       "GAS6       0.0    0.0  0.0       0.0    0.0   0.0    0.0    0.0   0.0   \n",
       "MMP14      0.0    0.0  0.0       0.0    0.0   0.0    0.0    0.0   0.0   \n",
       "DSP        0.0    0.0  0.0       0.0    0.0   0.0    0.0    0.0   0.0   \n",
       "MARCKSL1   0.0    0.0  0.0       0.0    0.0   0.0    0.0    0.0   0.0   \n",
       "SPARC      0.0    0.0  0.0       0.0    0.0   0.0    0.0    0.0   0.0   \n",
       "...        ...    ...  ...       ...    ...   ...    ...    ...   ...   \n",
       "SEC14L2    0.0    0.0  0.0       0.0    0.0   0.0    0.0    0.0   0.0   \n",
       "GNPNAT1    0.0    0.0  0.0       0.0    0.0   0.0    0.0    0.0   0.0   \n",
       "RPL24      0.0    0.0  0.0       0.0    0.0   0.0    0.0    0.0   0.0   \n",
       "TP53       0.0    0.0  0.0       0.0    0.0   0.0    0.0    0.0   0.0   \n",
       "MVD        0.0    0.0  0.0       0.0    0.0   0.0    0.0    0.0   0.0   \n",
       "\n",
       "          LGALS3BP  ...  AGRP  TRA2A  GH1  OSBP  RPLP1  SEC14L2  GNPNAT1  \\\n",
       "GAS6           0.0  ...   0.0    0.0  0.0   0.0    0.0      0.0      0.0   \n",
       "MMP14          0.0  ...   0.0    0.0  0.0   0.0    0.0      0.0      0.0   \n",
       "DSP            0.0  ...   0.0    0.0  0.0   0.0    0.0      0.0      0.0   \n",
       "MARCKSL1       0.0  ...   0.0    0.0  0.0   0.0    0.0      0.0      0.0   \n",
       "SPARC          0.0  ...   0.0    0.0  0.0   0.0    0.0      0.0      0.0   \n",
       "...            ...  ...   ...    ...  ...   ...    ...      ...      ...   \n",
       "SEC14L2        0.0  ...   0.0    0.0  0.0   0.0    0.0      0.0      0.0   \n",
       "GNPNAT1        0.0  ...   0.0    0.0  0.0   0.0    0.0      0.0      0.0   \n",
       "RPL24          0.0  ...   0.0    0.0  0.0   0.0    0.0      0.0      0.0   \n",
       "TP53           0.0  ...   0.0    0.0  0.0   0.0    0.0      0.0      0.0   \n",
       "MVD            0.0  ...   0.0    0.0  0.0   0.0    0.0      0.0      0.0   \n",
       "\n",
       "          RPL24  TP53  MVD  \n",
       "GAS6        0.0   0.0  0.0  \n",
       "MMP14       0.0   0.0  0.0  \n",
       "DSP         0.0   0.0  0.0  \n",
       "MARCKSL1    0.0   0.0  0.0  \n",
       "SPARC       0.0   0.0  0.0  \n",
       "...         ...   ...  ...  \n",
       "SEC14L2     0.0   0.0  0.0  \n",
       "GNPNAT1     0.0   0.0  0.0  \n",
       "RPL24       0.0   0.0  0.0  \n",
       "TP53        0.0   0.0  0.0  \n",
       "MVD         0.0   0.0  0.0  \n",
       "\n",
       "[67 rows x 67 columns]"
      ]
     },
     "execution_count": 42,
     "metadata": {},
     "output_type": "execute_result"
    }
   ],
   "source": [
    "en_gene_dist.loc[(ac.labels_ == 141), (ac.labels_ == 141)]"
   ]
  },
  {
   "cell_type": "code",
   "execution_count": 43,
   "id": "d465a0b7",
   "metadata": {
    "execution": {
     "iopub.execute_input": "2022-03-02T20:55:51.047142Z",
     "iopub.status.busy": "2022-03-02T20:55:51.046925Z",
     "iopub.status.idle": "2022-03-02T20:55:51.213525Z",
     "shell.execute_reply": "2022-03-02T20:55:51.212892Z"
    },
    "papermill": {
     "duration": 0.227901,
     "end_time": "2022-03-02T20:55:51.215144",
     "exception": false,
     "start_time": "2022-03-02T20:55:50.987243",
     "status": "completed"
    },
    "tags": []
   },
   "outputs": [],
   "source": [
    "phenotype_gene_clusters = {\n",
    "    cluster_id: smultixcan_results.loc[en_gene_dist.index[gene_part == cluster_id]]\n",
    "    for cluster_id in gene_part.value_counts().index\n",
    "}"
   ]
  },
  {
   "cell_type": "code",
   "execution_count": 44,
   "id": "043f39cb",
   "metadata": {
    "execution": {
     "iopub.execute_input": "2022-03-02T20:55:51.333711Z",
     "iopub.status.busy": "2022-03-02T20:55:51.333494Z",
     "iopub.status.idle": "2022-03-02T20:55:51.354525Z",
     "shell.execute_reply": "2022-03-02T20:55:51.353759Z"
    },
    "papermill": {
     "duration": 0.081786,
     "end_time": "2022-03-02T20:55:51.356020",
     "exception": false,
     "start_time": "2022-03-02T20:55:51.274234",
     "status": "completed"
    },
    "tags": []
   },
   "outputs": [
    {
     "data": {
      "text/plain": [
       "GAS6        0.222637\n",
       "MMP14       0.787712\n",
       "DSP         0.152267\n",
       "MARCKSL1    1.260680\n",
       "SPARC       0.437722\n",
       "              ...   \n",
       "SEC14L2     1.189622\n",
       "GNPNAT1     1.474504\n",
       "RPL24       2.842350\n",
       "TP53        0.492931\n",
       "MVD         1.201320\n",
       "Name: zscore, Length: 67, dtype: float64"
      ]
     },
     "execution_count": 44,
     "metadata": {},
     "output_type": "execute_result"
    }
   ],
   "source": [
    "phenotype_gene_clusters[141]"
   ]
  },
  {
   "cell_type": "markdown",
   "id": "89d65a4f",
   "metadata": {
    "papermill": {
     "duration": 0.059048,
     "end_time": "2022-03-02T20:55:51.476009",
     "exception": false,
     "start_time": "2022-03-02T20:55:51.416961",
     "status": "completed"
    },
    "tags": []
   },
   "source": [
    "## Functions"
   ]
  },
  {
   "cell_type": "code",
   "execution_count": 45,
   "id": "e94278e8",
   "metadata": {
    "execution": {
     "iopub.execute_input": "2022-03-02T20:55:51.601621Z",
     "iopub.status.busy": "2022-03-02T20:55:51.601430Z",
     "iopub.status.idle": "2022-03-02T20:55:51.620278Z",
     "shell.execute_reply": "2022-03-02T20:55:51.619780Z"
    },
    "papermill": {
     "duration": 0.082047,
     "end_time": "2022-03-02T20:55:51.621699",
     "exception": false,
     "start_time": "2022-03-02T20:55:51.539652",
     "status": "completed"
    },
    "tags": []
   },
   "outputs": [],
   "source": [
    "rs = np.random.RandomState(0)"
   ]
  },
  {
   "cell_type": "code",
   "execution_count": 46,
   "id": "7bede774",
   "metadata": {
    "execution": {
     "iopub.execute_input": "2022-03-02T20:55:51.741119Z",
     "iopub.status.busy": "2022-03-02T20:55:51.740900Z",
     "iopub.status.idle": "2022-03-02T20:55:51.760409Z",
     "shell.execute_reply": "2022-03-02T20:55:51.759802Z"
    },
    "papermill": {
     "duration": 0.080955,
     "end_time": "2022-03-02T20:55:51.761809",
     "exception": false,
     "start_time": "2022-03-02T20:55:51.680854",
     "status": "completed"
    },
    "tags": []
   },
   "outputs": [],
   "source": [
    "def get_shuffled_phenotype():\n",
    "    shuffled_gene_clusters = []\n",
    "    for cluster_id, gene_assoc_cluster in phenotype_gene_clusters.items():\n",
    "        gc = gene_assoc_cluster.copy()\n",
    "        rs.shuffle(gc)\n",
    "        shuffled_gene_clusters.append(gc)\n",
    "\n",
    "    return pd.concat(shuffled_gene_clusters)"
   ]
  },
  {
   "cell_type": "code",
   "execution_count": 47,
   "id": "3f16d790",
   "metadata": {
    "execution": {
     "iopub.execute_input": "2022-03-02T20:55:51.882780Z",
     "iopub.status.busy": "2022-03-02T20:55:51.882567Z",
     "iopub.status.idle": "2022-03-02T20:55:51.901812Z",
     "shell.execute_reply": "2022-03-02T20:55:51.901290Z"
    },
    "papermill": {
     "duration": 0.081305,
     "end_time": "2022-03-02T20:55:51.903362",
     "exception": false,
     "start_time": "2022-03-02T20:55:51.822057",
     "status": "completed"
    },
    "tags": []
   },
   "outputs": [],
   "source": [
    "def get_df_from_results(results_list):\n",
    "    df = pd.DataFrame(results_list).astype(\n",
    "        {\n",
    "            \"phenotype\": \"category\",\n",
    "            \"lv\": \"category\",\n",
    "        }\n",
    "    )\n",
    "\n",
    "    return df"
   ]
  },
  {
   "cell_type": "markdown",
   "id": "53e580ee",
   "metadata": {
    "papermill": {
     "duration": 0.059197,
     "end_time": "2022-03-02T20:55:52.022269",
     "exception": false,
     "start_time": "2022-03-02T20:55:51.963072",
     "status": "completed"
    },
    "tags": []
   },
   "source": [
    "## Load `phenotype_assocs` and `lv_weights`"
   ]
  },
  {
   "cell_type": "code",
   "execution_count": 48,
   "id": "2f76e7df",
   "metadata": {
    "execution": {
     "iopub.execute_input": "2022-03-02T20:55:52.142767Z",
     "iopub.status.busy": "2022-03-02T20:55:52.142535Z",
     "iopub.status.idle": "2022-03-02T20:55:52.161501Z",
     "shell.execute_reply": "2022-03-02T20:55:52.160905Z"
    },
    "papermill": {
     "duration": 0.081312,
     "end_time": "2022-03-02T20:55:52.163028",
     "exception": false,
     "start_time": "2022-03-02T20:55:52.081716",
     "status": "completed"
    },
    "tags": []
   },
   "outputs": [],
   "source": [
    "lv_weights = GLSPhenoplier._get_data(\n",
    "    conf.PHENOMEXCAN[\"SMULTIXCAN_EFO_PARTIAL_MASHR_ZSCORES_FILE\"],\n",
    "    model_type=EQTL_MODEL,\n",
    ")[2]"
   ]
  },
  {
   "cell_type": "code",
   "execution_count": 49,
   "id": "f62d2a26",
   "metadata": {
    "execution": {
     "iopub.execute_input": "2022-03-02T20:55:52.283243Z",
     "iopub.status.busy": "2022-03-02T20:55:52.283028Z",
     "iopub.status.idle": "2022-03-02T20:55:52.302899Z",
     "shell.execute_reply": "2022-03-02T20:55:52.302223Z"
    },
    "papermill": {
     "duration": 0.081589,
     "end_time": "2022-03-02T20:55:52.304426",
     "exception": false,
     "start_time": "2022-03-02T20:55:52.222837",
     "status": "completed"
    },
    "tags": []
   },
   "outputs": [
    {
     "data": {
      "text/plain": [
       "(6450, 987)"
      ]
     },
     "execution_count": 49,
     "metadata": {},
     "output_type": "execute_result"
    }
   ],
   "source": [
    "lv_weights.shape"
   ]
  },
  {
   "cell_type": "code",
   "execution_count": 50,
   "id": "56820d99",
   "metadata": {
    "execution": {
     "iopub.execute_input": "2022-03-02T20:55:52.426483Z",
     "iopub.status.busy": "2022-03-02T20:55:52.426269Z",
     "iopub.status.idle": "2022-03-02T20:55:52.458370Z",
     "shell.execute_reply": "2022-03-02T20:55:52.457805Z"
    },
    "papermill": {
     "duration": 0.095468,
     "end_time": "2022-03-02T20:55:52.460018",
     "exception": false,
     "start_time": "2022-03-02T20:55:52.364550",
     "status": "completed"
    },
    "tags": []
   },
   "outputs": [
    {
     "data": {
      "text/html": [
       "<div>\n",
       "<style scoped>\n",
       "    .dataframe tbody tr th:only-of-type {\n",
       "        vertical-align: middle;\n",
       "    }\n",
       "\n",
       "    .dataframe tbody tr th {\n",
       "        vertical-align: top;\n",
       "    }\n",
       "\n",
       "    .dataframe thead th {\n",
       "        text-align: right;\n",
       "    }\n",
       "</style>\n",
       "<table border=\"1\" class=\"dataframe\">\n",
       "  <thead>\n",
       "    <tr style=\"text-align: right;\">\n",
       "      <th></th>\n",
       "      <th>LV1</th>\n",
       "      <th>LV2</th>\n",
       "      <th>LV3</th>\n",
       "      <th>LV4</th>\n",
       "      <th>LV5</th>\n",
       "      <th>LV6</th>\n",
       "      <th>LV7</th>\n",
       "      <th>LV8</th>\n",
       "      <th>LV9</th>\n",
       "      <th>LV10</th>\n",
       "      <th>...</th>\n",
       "      <th>LV978</th>\n",
       "      <th>LV979</th>\n",
       "      <th>LV980</th>\n",
       "      <th>LV981</th>\n",
       "      <th>LV982</th>\n",
       "      <th>LV983</th>\n",
       "      <th>LV984</th>\n",
       "      <th>LV985</th>\n",
       "      <th>LV986</th>\n",
       "      <th>LV987</th>\n",
       "    </tr>\n",
       "  </thead>\n",
       "  <tbody>\n",
       "    <tr>\n",
       "      <th>GAS6</th>\n",
       "      <td>0.000000</td>\n",
       "      <td>0.0</td>\n",
       "      <td>0.039438</td>\n",
       "      <td>0.0</td>\n",
       "      <td>0.050476</td>\n",
       "      <td>0.000000</td>\n",
       "      <td>0.0</td>\n",
       "      <td>0.000000</td>\n",
       "      <td>0.590949</td>\n",
       "      <td>0.000000</td>\n",
       "      <td>...</td>\n",
       "      <td>0.050125</td>\n",
       "      <td>0.00000</td>\n",
       "      <td>0.033407</td>\n",
       "      <td>0.000000</td>\n",
       "      <td>0.000000</td>\n",
       "      <td>0.005963</td>\n",
       "      <td>0.347362</td>\n",
       "      <td>0.0</td>\n",
       "      <td>0.000000</td>\n",
       "      <td>0.000000</td>\n",
       "    </tr>\n",
       "    <tr>\n",
       "      <th>MMP14</th>\n",
       "      <td>0.000000</td>\n",
       "      <td>0.0</td>\n",
       "      <td>0.000000</td>\n",
       "      <td>0.0</td>\n",
       "      <td>0.070072</td>\n",
       "      <td>0.000000</td>\n",
       "      <td>0.0</td>\n",
       "      <td>0.004904</td>\n",
       "      <td>1.720179</td>\n",
       "      <td>2.423595</td>\n",
       "      <td>...</td>\n",
       "      <td>0.000000</td>\n",
       "      <td>0.00000</td>\n",
       "      <td>0.001007</td>\n",
       "      <td>0.000000</td>\n",
       "      <td>0.035747</td>\n",
       "      <td>0.000000</td>\n",
       "      <td>0.000000</td>\n",
       "      <td>0.0</td>\n",
       "      <td>0.014978</td>\n",
       "      <td>0.000000</td>\n",
       "    </tr>\n",
       "    <tr>\n",
       "      <th>DSP</th>\n",
       "      <td>0.000000</td>\n",
       "      <td>0.0</td>\n",
       "      <td>0.000000</td>\n",
       "      <td>0.0</td>\n",
       "      <td>0.000000</td>\n",
       "      <td>0.041697</td>\n",
       "      <td>0.0</td>\n",
       "      <td>0.005718</td>\n",
       "      <td>0.000000</td>\n",
       "      <td>0.000000</td>\n",
       "      <td>...</td>\n",
       "      <td>0.020853</td>\n",
       "      <td>0.00000</td>\n",
       "      <td>0.000000</td>\n",
       "      <td>0.000000</td>\n",
       "      <td>0.000000</td>\n",
       "      <td>0.005774</td>\n",
       "      <td>0.000000</td>\n",
       "      <td>0.0</td>\n",
       "      <td>0.000000</td>\n",
       "      <td>0.416405</td>\n",
       "    </tr>\n",
       "    <tr>\n",
       "      <th>MARCKSL1</th>\n",
       "      <td>0.305212</td>\n",
       "      <td>0.0</td>\n",
       "      <td>0.000000</td>\n",
       "      <td>0.0</td>\n",
       "      <td>0.000000</td>\n",
       "      <td>0.000000</td>\n",
       "      <td>0.0</td>\n",
       "      <td>0.000000</td>\n",
       "      <td>0.161843</td>\n",
       "      <td>0.149471</td>\n",
       "      <td>...</td>\n",
       "      <td>0.027134</td>\n",
       "      <td>0.05272</td>\n",
       "      <td>0.000000</td>\n",
       "      <td>0.030189</td>\n",
       "      <td>0.060884</td>\n",
       "      <td>0.000000</td>\n",
       "      <td>0.000000</td>\n",
       "      <td>0.0</td>\n",
       "      <td>0.000000</td>\n",
       "      <td>0.448480</td>\n",
       "    </tr>\n",
       "    <tr>\n",
       "      <th>SPARC</th>\n",
       "      <td>0.000000</td>\n",
       "      <td>0.0</td>\n",
       "      <td>0.000000</td>\n",
       "      <td>0.0</td>\n",
       "      <td>0.000000</td>\n",
       "      <td>0.000000</td>\n",
       "      <td>0.0</td>\n",
       "      <td>0.000000</td>\n",
       "      <td>0.000000</td>\n",
       "      <td>0.014014</td>\n",
       "      <td>...</td>\n",
       "      <td>0.000000</td>\n",
       "      <td>0.00000</td>\n",
       "      <td>0.000000</td>\n",
       "      <td>0.000000</td>\n",
       "      <td>0.000000</td>\n",
       "      <td>0.000000</td>\n",
       "      <td>0.067779</td>\n",
       "      <td>0.0</td>\n",
       "      <td>0.122417</td>\n",
       "      <td>0.062665</td>\n",
       "    </tr>\n",
       "  </tbody>\n",
       "</table>\n",
       "<p>5 rows × 987 columns</p>\n",
       "</div>"
      ],
      "text/plain": [
       "               LV1  LV2       LV3  LV4       LV5       LV6  LV7       LV8  \\\n",
       "GAS6      0.000000  0.0  0.039438  0.0  0.050476  0.000000  0.0  0.000000   \n",
       "MMP14     0.000000  0.0  0.000000  0.0  0.070072  0.000000  0.0  0.004904   \n",
       "DSP       0.000000  0.0  0.000000  0.0  0.000000  0.041697  0.0  0.005718   \n",
       "MARCKSL1  0.305212  0.0  0.000000  0.0  0.000000  0.000000  0.0  0.000000   \n",
       "SPARC     0.000000  0.0  0.000000  0.0  0.000000  0.000000  0.0  0.000000   \n",
       "\n",
       "               LV9      LV10  ...     LV978    LV979     LV980     LV981  \\\n",
       "GAS6      0.590949  0.000000  ...  0.050125  0.00000  0.033407  0.000000   \n",
       "MMP14     1.720179  2.423595  ...  0.000000  0.00000  0.001007  0.000000   \n",
       "DSP       0.000000  0.000000  ...  0.020853  0.00000  0.000000  0.000000   \n",
       "MARCKSL1  0.161843  0.149471  ...  0.027134  0.05272  0.000000  0.030189   \n",
       "SPARC     0.000000  0.014014  ...  0.000000  0.00000  0.000000  0.000000   \n",
       "\n",
       "             LV982     LV983     LV984  LV985     LV986     LV987  \n",
       "GAS6      0.000000  0.005963  0.347362    0.0  0.000000  0.000000  \n",
       "MMP14     0.035747  0.000000  0.000000    0.0  0.014978  0.000000  \n",
       "DSP       0.000000  0.005774  0.000000    0.0  0.000000  0.416405  \n",
       "MARCKSL1  0.060884  0.000000  0.000000    0.0  0.000000  0.448480  \n",
       "SPARC     0.000000  0.000000  0.067779    0.0  0.122417  0.062665  \n",
       "\n",
       "[5 rows x 987 columns]"
      ]
     },
     "execution_count": 50,
     "metadata": {},
     "output_type": "execute_result"
    }
   ],
   "source": [
    "lv_weights.head()"
   ]
  },
  {
   "cell_type": "markdown",
   "id": "e6807b55",
   "metadata": {
    "papermill": {
     "duration": 0.064804,
     "end_time": "2022-03-02T20:55:52.586116",
     "exception": false,
     "start_time": "2022-03-02T20:55:52.521312",
     "status": "completed"
    },
    "tags": []
   },
   "source": [
    "## Generate simulated phenotypes"
   ]
  },
  {
   "cell_type": "code",
   "execution_count": 51,
   "id": "097e8920",
   "metadata": {
    "execution": {
     "iopub.execute_input": "2022-03-02T20:55:52.708161Z",
     "iopub.status.busy": "2022-03-02T20:55:52.707968Z",
     "iopub.status.idle": "2022-03-02T20:55:52.730801Z",
     "shell.execute_reply": "2022-03-02T20:55:52.730296Z"
    },
    "papermill": {
     "duration": 0.085153,
     "end_time": "2022-03-02T20:55:52.732072",
     "exception": false,
     "start_time": "2022-03-02T20:55:52.646919",
     "status": "completed"
    },
    "tags": []
   },
   "outputs": [
    {
     "name": "stderr",
     "output_type": "stream",
     "text": [
      "0it [00:00, ?it/s]\n"
     ]
    }
   ],
   "source": [
    "# phenotype_codes = rs.choice(phenotype_list, size=N_SIMULATED_PHENOTYPES, replace=False)\n",
    "# display(phenotype_codes[:3])\n",
    "# display(len(phenotype_codes))\n",
    "# assert len(phenotype_codes) == N_SIMULATED_PHENOTYPES\n",
    "\n",
    "simulated_phenotypes = {\n",
    "    \"smultixcan phenotype 0\": smultixcan_results.loc[en_gene_dist.index]\n",
    "}\n",
    "\n",
    "for idx in tqdm(range(1, N_SIMULATED_PHENOTYPES)):\n",
    "    simulated_phenotypes[f\"smultixcan phenotype {idx}\"] = get_shuffled_phenotype()"
   ]
  },
  {
   "cell_type": "code",
   "execution_count": 52,
   "id": "b33e1f3d",
   "metadata": {
    "execution": {
     "iopub.execute_input": "2022-03-02T20:55:52.857648Z",
     "iopub.status.busy": "2022-03-02T20:55:52.857035Z",
     "iopub.status.idle": "2022-03-02T20:55:52.876662Z",
     "shell.execute_reply": "2022-03-02T20:55:52.875985Z"
    },
    "papermill": {
     "duration": 0.083044,
     "end_time": "2022-03-02T20:55:52.878079",
     "exception": false,
     "start_time": "2022-03-02T20:55:52.795035",
     "status": "completed"
    },
    "tags": []
   },
   "outputs": [
    {
     "data": {
      "text/plain": [
       "1"
      ]
     },
     "metadata": {},
     "output_type": "display_data"
    }
   ],
   "source": [
    "display(len(simulated_phenotypes))\n",
    "assert len(simulated_phenotypes) == N_SIMULATED_PHENOTYPES"
   ]
  },
  {
   "cell_type": "code",
   "execution_count": 53,
   "id": "d6bef225",
   "metadata": {
    "execution": {
     "iopub.execute_input": "2022-03-02T20:55:53.002305Z",
     "iopub.status.busy": "2022-03-02T20:55:53.002080Z",
     "iopub.status.idle": "2022-03-02T20:55:53.022964Z",
     "shell.execute_reply": "2022-03-02T20:55:53.022248Z"
    },
    "papermill": {
     "duration": 0.084462,
     "end_time": "2022-03-02T20:55:53.024433",
     "exception": false,
     "start_time": "2022-03-02T20:55:52.939971",
     "status": "completed"
    },
    "tags": []
   },
   "outputs": [
    {
     "data": {
      "text/plain": [
       "GAS6        0.222637\n",
       "MMP14       0.787712\n",
       "DSP         0.152267\n",
       "MARCKSL1    1.260680\n",
       "SPARC       0.437722\n",
       "              ...   \n",
       "CFL1        0.542548\n",
       "NFIB        1.618520\n",
       "PLEKHG6     1.668045\n",
       "GNGT2       0.281426\n",
       "SERPINH1    1.165463\n",
       "Name: zscore, Length: 6324, dtype: float64"
      ]
     },
     "execution_count": 53,
     "metadata": {},
     "output_type": "execute_result"
    }
   ],
   "source": [
    "simulated_phenotypes[list(simulated_phenotypes.keys())[0]]"
   ]
  },
  {
   "cell_type": "code",
   "execution_count": 54,
   "id": "8b04298f",
   "metadata": {
    "execution": {
     "iopub.execute_input": "2022-03-02T20:55:53.150800Z",
     "iopub.status.busy": "2022-03-02T20:55:53.150142Z",
     "iopub.status.idle": "2022-03-02T20:55:53.168948Z",
     "shell.execute_reply": "2022-03-02T20:55:53.168401Z"
    },
    "papermill": {
     "duration": 0.083135,
     "end_time": "2022-03-02T20:55:53.170541",
     "exception": false,
     "start_time": "2022-03-02T20:55:53.087406",
     "status": "completed"
    },
    "tags": []
   },
   "outputs": [],
   "source": [
    "simulated_phenotypes = pd.DataFrame(simulated_phenotypes)"
   ]
  },
  {
   "cell_type": "code",
   "execution_count": 55,
   "id": "3419062a",
   "metadata": {
    "execution": {
     "iopub.execute_input": "2022-03-02T20:55:53.298886Z",
     "iopub.status.busy": "2022-03-02T20:55:53.298671Z",
     "iopub.status.idle": "2022-03-02T20:55:53.318794Z",
     "shell.execute_reply": "2022-03-02T20:55:53.317941Z"
    },
    "papermill": {
     "duration": 0.085341,
     "end_time": "2022-03-02T20:55:53.320262",
     "exception": false,
     "start_time": "2022-03-02T20:55:53.234921",
     "status": "completed"
    },
    "tags": []
   },
   "outputs": [
    {
     "data": {
      "text/plain": [
       "(6324, 1)"
      ]
     },
     "execution_count": 55,
     "metadata": {},
     "output_type": "execute_result"
    }
   ],
   "source": [
    "simulated_phenotypes.shape"
   ]
  },
  {
   "cell_type": "code",
   "execution_count": 56,
   "id": "58bea2e3",
   "metadata": {
    "execution": {
     "iopub.execute_input": "2022-03-02T20:55:53.448277Z",
     "iopub.status.busy": "2022-03-02T20:55:53.447741Z",
     "iopub.status.idle": "2022-03-02T20:55:53.469524Z",
     "shell.execute_reply": "2022-03-02T20:55:53.468844Z"
    },
    "papermill": {
     "duration": 0.087134,
     "end_time": "2022-03-02T20:55:53.471103",
     "exception": false,
     "start_time": "2022-03-02T20:55:53.383969",
     "status": "completed"
    },
    "tags": []
   },
   "outputs": [
    {
     "data": {
      "text/html": [
       "<div>\n",
       "<style scoped>\n",
       "    .dataframe tbody tr th:only-of-type {\n",
       "        vertical-align: middle;\n",
       "    }\n",
       "\n",
       "    .dataframe tbody tr th {\n",
       "        vertical-align: top;\n",
       "    }\n",
       "\n",
       "    .dataframe thead th {\n",
       "        text-align: right;\n",
       "    }\n",
       "</style>\n",
       "<table border=\"1\" class=\"dataframe\">\n",
       "  <thead>\n",
       "    <tr style=\"text-align: right;\">\n",
       "      <th></th>\n",
       "      <th>smultixcan phenotype 0</th>\n",
       "    </tr>\n",
       "  </thead>\n",
       "  <tbody>\n",
       "    <tr>\n",
       "      <th>GAS6</th>\n",
       "      <td>0.222637</td>\n",
       "    </tr>\n",
       "    <tr>\n",
       "      <th>MMP14</th>\n",
       "      <td>0.787712</td>\n",
       "    </tr>\n",
       "    <tr>\n",
       "      <th>DSP</th>\n",
       "      <td>0.152267</td>\n",
       "    </tr>\n",
       "    <tr>\n",
       "      <th>MARCKSL1</th>\n",
       "      <td>1.260680</td>\n",
       "    </tr>\n",
       "    <tr>\n",
       "      <th>SPARC</th>\n",
       "      <td>0.437722</td>\n",
       "    </tr>\n",
       "  </tbody>\n",
       "</table>\n",
       "</div>"
      ],
      "text/plain": [
       "          smultixcan phenotype 0\n",
       "GAS6                    0.222637\n",
       "MMP14                   0.787712\n",
       "DSP                     0.152267\n",
       "MARCKSL1                1.260680\n",
       "SPARC                   0.437722"
      ]
     },
     "execution_count": 56,
     "metadata": {},
     "output_type": "execute_result"
    }
   ],
   "source": [
    "simulated_phenotypes.head()"
   ]
  },
  {
   "cell_type": "code",
   "execution_count": 57,
   "id": "59b9af33",
   "metadata": {
    "execution": {
     "iopub.execute_input": "2022-03-02T20:55:53.605807Z",
     "iopub.status.busy": "2022-03-02T20:55:53.605253Z",
     "iopub.status.idle": "2022-03-02T20:55:53.630638Z",
     "shell.execute_reply": "2022-03-02T20:55:53.629909Z"
    },
    "papermill": {
     "duration": 0.095028,
     "end_time": "2022-03-02T20:55:53.632048",
     "exception": false,
     "start_time": "2022-03-02T20:55:53.537020",
     "status": "completed"
    },
    "tags": []
   },
   "outputs": [
    {
     "data": {
      "text/html": [
       "<div>\n",
       "<style scoped>\n",
       "    .dataframe tbody tr th:only-of-type {\n",
       "        vertical-align: middle;\n",
       "    }\n",
       "\n",
       "    .dataframe tbody tr th {\n",
       "        vertical-align: top;\n",
       "    }\n",
       "\n",
       "    .dataframe thead th {\n",
       "        text-align: right;\n",
       "    }\n",
       "</style>\n",
       "<table border=\"1\" class=\"dataframe\">\n",
       "  <thead>\n",
       "    <tr style=\"text-align: right;\">\n",
       "      <th></th>\n",
       "      <th>smultixcan phenotype 0</th>\n",
       "    </tr>\n",
       "  </thead>\n",
       "  <tbody>\n",
       "    <tr>\n",
       "      <th>count</th>\n",
       "      <td>6324.000000</td>\n",
       "    </tr>\n",
       "    <tr>\n",
       "      <th>mean</th>\n",
       "      <td>0.804025</td>\n",
       "    </tr>\n",
       "    <tr>\n",
       "      <th>std</th>\n",
       "      <td>0.605742</td>\n",
       "    </tr>\n",
       "    <tr>\n",
       "      <th>min</th>\n",
       "      <td>0.000122</td>\n",
       "    </tr>\n",
       "    <tr>\n",
       "      <th>25%</th>\n",
       "      <td>0.319450</td>\n",
       "    </tr>\n",
       "    <tr>\n",
       "      <th>50%</th>\n",
       "      <td>0.679934</td>\n",
       "    </tr>\n",
       "    <tr>\n",
       "      <th>75%</th>\n",
       "      <td>1.159146</td>\n",
       "    </tr>\n",
       "    <tr>\n",
       "      <th>max</th>\n",
       "      <td>3.583010</td>\n",
       "    </tr>\n",
       "  </tbody>\n",
       "</table>\n",
       "</div>"
      ],
      "text/plain": [
       "       smultixcan phenotype 0\n",
       "count             6324.000000\n",
       "mean                 0.804025\n",
       "std                  0.605742\n",
       "min                  0.000122\n",
       "25%                  0.319450\n",
       "50%                  0.679934\n",
       "75%                  1.159146\n",
       "max                  3.583010"
      ]
     },
     "execution_count": 57,
     "metadata": {},
     "output_type": "execute_result"
    }
   ],
   "source": [
    "simulated_phenotypes.describe()"
   ]
  },
  {
   "cell_type": "markdown",
   "id": "2619aabf",
   "metadata": {
    "papermill": {
     "duration": 0.063899,
     "end_time": "2022-03-02T20:55:53.759880",
     "exception": false,
     "start_time": "2022-03-02T20:55:53.695981",
     "status": "completed"
    },
    "tags": []
   },
   "source": [
    "## Merge simulated phenotypes and LVs into one dataframe"
   ]
  },
  {
   "cell_type": "code",
   "execution_count": 58,
   "id": "0aa0d78a",
   "metadata": {
    "execution": {
     "iopub.execute_input": "2022-03-02T20:55:53.888603Z",
     "iopub.status.busy": "2022-03-02T20:55:53.888307Z",
     "iopub.status.idle": "2022-03-02T20:55:53.906745Z",
     "shell.execute_reply": "2022-03-02T20:55:53.906109Z"
    },
    "papermill": {
     "duration": 0.084029,
     "end_time": "2022-03-02T20:55:53.908300",
     "exception": false,
     "start_time": "2022-03-02T20:55:53.824271",
     "status": "completed"
    },
    "tags": []
   },
   "outputs": [],
   "source": [
    "# smultixcan_results = smultixcan_results.loc[smultixcan_results.index.intersection(lv_weights.index)]"
   ]
  },
  {
   "cell_type": "code",
   "execution_count": 59,
   "id": "8fecb4f5",
   "metadata": {
    "execution": {
     "iopub.execute_input": "2022-03-02T20:55:54.037262Z",
     "iopub.status.busy": "2022-03-02T20:55:54.037045Z",
     "iopub.status.idle": "2022-03-02T20:55:54.055300Z",
     "shell.execute_reply": "2022-03-02T20:55:54.054804Z"
    },
    "papermill": {
     "duration": 0.083897,
     "end_time": "2022-03-02T20:55:54.056835",
     "exception": false,
     "start_time": "2022-03-02T20:55:53.972938",
     "status": "completed"
    },
    "tags": []
   },
   "outputs": [],
   "source": [
    "# smultixcan_results.shape"
   ]
  },
  {
   "cell_type": "code",
   "execution_count": 60,
   "id": "aeea3de8",
   "metadata": {
    "execution": {
     "iopub.execute_input": "2022-03-02T20:55:54.184150Z",
     "iopub.status.busy": "2022-03-02T20:55:54.183933Z",
     "iopub.status.idle": "2022-03-02T20:55:54.202819Z",
     "shell.execute_reply": "2022-03-02T20:55:54.202279Z"
    },
    "papermill": {
     "duration": 0.084311,
     "end_time": "2022-03-02T20:55:54.204413",
     "exception": false,
     "start_time": "2022-03-02T20:55:54.120102",
     "status": "completed"
    },
    "tags": []
   },
   "outputs": [],
   "source": [
    "# smultixcan_results.head()"
   ]
  },
  {
   "cell_type": "code",
   "execution_count": 61,
   "id": "660df043",
   "metadata": {
    "execution": {
     "iopub.execute_input": "2022-03-02T20:55:54.335909Z",
     "iopub.status.busy": "2022-03-02T20:55:54.335692Z",
     "iopub.status.idle": "2022-03-02T20:55:54.354289Z",
     "shell.execute_reply": "2022-03-02T20:55:54.353729Z"
    },
    "papermill": {
     "duration": 0.08542,
     "end_time": "2022-03-02T20:55:54.355898",
     "exception": false,
     "start_time": "2022-03-02T20:55:54.270478",
     "status": "completed"
    },
    "tags": []
   },
   "outputs": [],
   "source": [
    "# assert not smultixcan_results.isna().any()"
   ]
  },
  {
   "cell_type": "code",
   "execution_count": 62,
   "id": "1de2e6f9",
   "metadata": {
    "execution": {
     "iopub.execute_input": "2022-03-02T20:55:54.485541Z",
     "iopub.status.busy": "2022-03-02T20:55:54.485324Z",
     "iopub.status.idle": "2022-03-02T20:55:54.504016Z",
     "shell.execute_reply": "2022-03-02T20:55:54.503456Z"
    },
    "papermill": {
     "duration": 0.085388,
     "end_time": "2022-03-02T20:55:54.505562",
     "exception": false,
     "start_time": "2022-03-02T20:55:54.420174",
     "status": "completed"
    },
    "tags": []
   },
   "outputs": [],
   "source": [
    "# simulated_phenotypes = pd.DataFrame({\"smultixcan_random_phenotype\": smultixcan_results})"
   ]
  },
  {
   "cell_type": "code",
   "execution_count": 63,
   "id": "7ecbf5a9",
   "metadata": {
    "execution": {
     "iopub.execute_input": "2022-03-02T20:55:54.640191Z",
     "iopub.status.busy": "2022-03-02T20:55:54.639962Z",
     "iopub.status.idle": "2022-03-02T20:55:54.658733Z",
     "shell.execute_reply": "2022-03-02T20:55:54.658126Z"
    },
    "papermill": {
     "duration": 0.085575,
     "end_time": "2022-03-02T20:55:54.660286",
     "exception": false,
     "start_time": "2022-03-02T20:55:54.574711",
     "status": "completed"
    },
    "tags": []
   },
   "outputs": [],
   "source": [
    "# simulated_phenotypes.shape"
   ]
  },
  {
   "cell_type": "code",
   "execution_count": 64,
   "id": "e2bc45af",
   "metadata": {
    "execution": {
     "iopub.execute_input": "2022-03-02T20:55:54.790904Z",
     "iopub.status.busy": "2022-03-02T20:55:54.790686Z",
     "iopub.status.idle": "2022-03-02T20:55:54.809459Z",
     "shell.execute_reply": "2022-03-02T20:55:54.808788Z"
    },
    "papermill": {
     "duration": 0.086034,
     "end_time": "2022-03-02T20:55:54.811001",
     "exception": false,
     "start_time": "2022-03-02T20:55:54.724967",
     "status": "completed"
    },
    "tags": []
   },
   "outputs": [],
   "source": [
    "# simulated_phenotypes.head()"
   ]
  },
  {
   "cell_type": "code",
   "execution_count": 65,
   "id": "ec3e4dbd",
   "metadata": {
    "execution": {
     "iopub.execute_input": "2022-03-02T20:55:54.942186Z",
     "iopub.status.busy": "2022-03-02T20:55:54.941470Z",
     "iopub.status.idle": "2022-03-02T20:55:54.961400Z",
     "shell.execute_reply": "2022-03-02T20:55:54.960858Z"
    },
    "papermill": {
     "duration": 0.086627,
     "end_time": "2022-03-02T20:55:54.963003",
     "exception": false,
     "start_time": "2022-03-02T20:55:54.876376",
     "status": "completed"
    },
    "tags": []
   },
   "outputs": [],
   "source": [
    "run_confs = pd.DataFrame(\n",
    "    data=itertools.product(\n",
    "        list(simulated_phenotypes.columns), list(lv_weights.columns)\n",
    "    ),\n",
    "    columns=[\"phenotype\", \"lv\"],\n",
    ")"
   ]
  },
  {
   "cell_type": "code",
   "execution_count": 66,
   "id": "8d7bdb08",
   "metadata": {
    "execution": {
     "iopub.execute_input": "2022-03-02T20:55:55.092787Z",
     "iopub.status.busy": "2022-03-02T20:55:55.092568Z",
     "iopub.status.idle": "2022-03-02T20:55:55.116405Z",
     "shell.execute_reply": "2022-03-02T20:55:55.115847Z"
    },
    "papermill": {
     "duration": 0.09016,
     "end_time": "2022-03-02T20:55:55.117779",
     "exception": false,
     "start_time": "2022-03-02T20:55:55.027619",
     "status": "completed"
    },
    "tags": []
   },
   "outputs": [
    {
     "data": {
      "text/html": [
       "<div>\n",
       "<style scoped>\n",
       "    .dataframe tbody tr th:only-of-type {\n",
       "        vertical-align: middle;\n",
       "    }\n",
       "\n",
       "    .dataframe tbody tr th {\n",
       "        vertical-align: top;\n",
       "    }\n",
       "\n",
       "    .dataframe thead th {\n",
       "        text-align: right;\n",
       "    }\n",
       "</style>\n",
       "<table border=\"1\" class=\"dataframe\">\n",
       "  <thead>\n",
       "    <tr style=\"text-align: right;\">\n",
       "      <th></th>\n",
       "      <th>phenotype</th>\n",
       "      <th>lv</th>\n",
       "    </tr>\n",
       "  </thead>\n",
       "  <tbody>\n",
       "    <tr>\n",
       "      <th>0</th>\n",
       "      <td>smultixcan phenotype 0</td>\n",
       "      <td>LV1</td>\n",
       "    </tr>\n",
       "    <tr>\n",
       "      <th>1</th>\n",
       "      <td>smultixcan phenotype 0</td>\n",
       "      <td>LV2</td>\n",
       "    </tr>\n",
       "    <tr>\n",
       "      <th>2</th>\n",
       "      <td>smultixcan phenotype 0</td>\n",
       "      <td>LV3</td>\n",
       "    </tr>\n",
       "    <tr>\n",
       "      <th>3</th>\n",
       "      <td>smultixcan phenotype 0</td>\n",
       "      <td>LV4</td>\n",
       "    </tr>\n",
       "    <tr>\n",
       "      <th>4</th>\n",
       "      <td>smultixcan phenotype 0</td>\n",
       "      <td>LV5</td>\n",
       "    </tr>\n",
       "    <tr>\n",
       "      <th>...</th>\n",
       "      <td>...</td>\n",
       "      <td>...</td>\n",
       "    </tr>\n",
       "    <tr>\n",
       "      <th>982</th>\n",
       "      <td>smultixcan phenotype 0</td>\n",
       "      <td>LV983</td>\n",
       "    </tr>\n",
       "    <tr>\n",
       "      <th>983</th>\n",
       "      <td>smultixcan phenotype 0</td>\n",
       "      <td>LV984</td>\n",
       "    </tr>\n",
       "    <tr>\n",
       "      <th>984</th>\n",
       "      <td>smultixcan phenotype 0</td>\n",
       "      <td>LV985</td>\n",
       "    </tr>\n",
       "    <tr>\n",
       "      <th>985</th>\n",
       "      <td>smultixcan phenotype 0</td>\n",
       "      <td>LV986</td>\n",
       "    </tr>\n",
       "    <tr>\n",
       "      <th>986</th>\n",
       "      <td>smultixcan phenotype 0</td>\n",
       "      <td>LV987</td>\n",
       "    </tr>\n",
       "  </tbody>\n",
       "</table>\n",
       "<p>987 rows × 2 columns</p>\n",
       "</div>"
      ],
      "text/plain": [
       "                  phenotype     lv\n",
       "0    smultixcan phenotype 0    LV1\n",
       "1    smultixcan phenotype 0    LV2\n",
       "2    smultixcan phenotype 0    LV3\n",
       "3    smultixcan phenotype 0    LV4\n",
       "4    smultixcan phenotype 0    LV5\n",
       "..                      ...    ...\n",
       "982  smultixcan phenotype 0  LV983\n",
       "983  smultixcan phenotype 0  LV984\n",
       "984  smultixcan phenotype 0  LV985\n",
       "985  smultixcan phenotype 0  LV986\n",
       "986  smultixcan phenotype 0  LV987\n",
       "\n",
       "[987 rows x 2 columns]"
      ]
     },
     "execution_count": 66,
     "metadata": {},
     "output_type": "execute_result"
    }
   ],
   "source": [
    "run_confs"
   ]
  },
  {
   "cell_type": "markdown",
   "id": "424ab15b",
   "metadata": {
    "papermill": {
     "duration": 0.065662,
     "end_time": "2022-03-02T20:55:55.249164",
     "exception": false,
     "start_time": "2022-03-02T20:55:55.183502",
     "status": "completed"
    },
    "tags": []
   },
   "source": [
    "## Split run configurations"
   ]
  },
  {
   "cell_type": "code",
   "execution_count": 67,
   "id": "98d8f708",
   "metadata": {
    "execution": {
     "iopub.execute_input": "2022-03-02T20:55:55.380728Z",
     "iopub.status.busy": "2022-03-02T20:55:55.380511Z",
     "iopub.status.idle": "2022-03-02T20:55:55.400074Z",
     "shell.execute_reply": "2022-03-02T20:55:55.399472Z"
    },
    "papermill": {
     "duration": 0.087017,
     "end_time": "2022-03-02T20:55:55.401707",
     "exception": false,
     "start_time": "2022-03-02T20:55:55.314690",
     "status": "completed"
    },
    "tags": []
   },
   "outputs": [],
   "source": [
    "run_confs_chunks = chunker(run_confs.sample(frac=1, random_state=rs), CHUNK_SIZE)"
   ]
  },
  {
   "cell_type": "markdown",
   "id": "38a43283",
   "metadata": {
    "papermill": {
     "duration": 0.065074,
     "end_time": "2022-03-02T20:55:55.531985",
     "exception": false,
     "start_time": "2022-03-02T20:55:55.466911",
     "status": "completed"
    },
    "tags": []
   },
   "source": [
    "## Run"
   ]
  },
  {
   "cell_type": "code",
   "execution_count": 68,
   "id": "1ebd69b7",
   "metadata": {
    "execution": {
     "iopub.execute_input": "2022-03-02T20:55:55.667155Z",
     "iopub.status.busy": "2022-03-02T20:55:55.666437Z",
     "iopub.status.idle": "2022-03-02T20:55:55.687132Z",
     "shell.execute_reply": "2022-03-02T20:55:55.686566Z"
    },
    "papermill": {
     "duration": 0.088177,
     "end_time": "2022-03-02T20:55:55.688662",
     "exception": false,
     "start_time": "2022-03-02T20:55:55.600485",
     "status": "completed"
    },
    "tags": []
   },
   "outputs": [],
   "source": [
    "def run(run_confs_subset):\n",
    "    results = []\n",
    "\n",
    "    for phenotype_code, lv_code in run_confs_subset.itertuples(name=None, index=False):\n",
    "        phenotype = simulated_phenotypes[phenotype_code]\n",
    "\n",
    "        gls_model = GLSPhenoplier(\n",
    "            smultixcan_result_set_filepath=conf.PHENOMEXCAN[\n",
    "                \"SMULTIXCAN_EFO_PARTIAL_MASHR_ZSCORES_FILE\"\n",
    "            ],\n",
    "            model_type=EQTL_MODEL,\n",
    "        )\n",
    "        gls_model.fit_named(lv_code, phenotype)\n",
    "        res = gls_model.results\n",
    "\n",
    "        results.append(\n",
    "            {\n",
    "                \"phenotype\": phenotype_code,\n",
    "                \"lv\": lv_code,\n",
    "                \"coef\": res.params.loc[\"lv\"],\n",
    "                \"pvalue\": res.pvalues_onesided.loc[\"lv\"],\n",
    "            }\n",
    "        )\n",
    "\n",
    "    return get_df_from_results(results)"
   ]
  },
  {
   "cell_type": "code",
   "execution_count": 69,
   "id": "e0bbf72d",
   "metadata": {
    "execution": {
     "iopub.execute_input": "2022-03-02T20:55:55.819913Z",
     "iopub.status.busy": "2022-03-02T20:55:55.819200Z",
     "iopub.status.idle": "2022-03-02T23:08:37.124894Z",
     "shell.execute_reply": "2022-03-02T23:08:37.124242Z"
    },
    "papermill": {
     "duration": 7961.438486,
     "end_time": "2022-03-02T23:08:37.192149",
     "exception": false,
     "start_time": "2022-03-02T20:55:55.753663",
     "status": "completed"
    },
    "tags": []
   },
   "outputs": [
    {
     "name": "stderr",
     "output_type": "stream",
     "text": [
      "100%|██████████| 987/987 [2:12:41<00:00,  8.07s/it]\n"
     ]
    }
   ],
   "source": [
    "all_results = []\n",
    "\n",
    "with tqdm(total=run_confs.shape[0]) as pbar:\n",
    "    with ProcessPoolExecutor(max_workers=conf.GENERAL[\"N_JOBS\"]) as executor:\n",
    "        tasks = [executor.submit(run, chunk) for chunk in run_confs_chunks]\n",
    "\n",
    "        for future in as_completed(tasks):\n",
    "            res = future.result()\n",
    "            all_results.append(res)\n",
    "\n",
    "            if (len(all_results) % conf.GENERAL[\"N_JOBS\"]) == 0:\n",
    "                df = pd.concat(all_results, ignore_index=True)\n",
    "                df.to_pickle(OUTPUT_FILENAME)\n",
    "\n",
    "            pbar.update(res.shape[0])"
   ]
  },
  {
   "cell_type": "code",
   "execution_count": 70,
   "id": "cd910459",
   "metadata": {
    "execution": {
     "iopub.execute_input": "2022-03-02T23:08:38.171837Z",
     "iopub.status.busy": "2022-03-02T23:08:38.171614Z",
     "iopub.status.idle": "2022-03-02T23:08:38.207343Z",
     "shell.execute_reply": "2022-03-02T23:08:38.206808Z"
    },
    "papermill": {
     "duration": 0.112212,
     "end_time": "2022-03-02T23:08:38.209074",
     "exception": false,
     "start_time": "2022-03-02T23:08:38.096862",
     "status": "completed"
    },
    "tags": []
   },
   "outputs": [],
   "source": [
    "all_results = pd.concat(all_results, ignore_index=True)"
   ]
  },
  {
   "cell_type": "code",
   "execution_count": 71,
   "id": "6317e1b2",
   "metadata": {
    "execution": {
     "iopub.execute_input": "2022-03-02T23:08:38.359828Z",
     "iopub.status.busy": "2022-03-02T23:08:38.359610Z",
     "iopub.status.idle": "2022-03-02T23:08:38.378393Z",
     "shell.execute_reply": "2022-03-02T23:08:38.377877Z"
    },
    "papermill": {
     "duration": 0.098526,
     "end_time": "2022-03-02T23:08:38.379800",
     "exception": false,
     "start_time": "2022-03-02T23:08:38.281274",
     "status": "completed"
    },
    "tags": []
   },
   "outputs": [],
   "source": [
    "# results = get_df_from_results(results)"
   ]
  },
  {
   "cell_type": "code",
   "execution_count": 72,
   "id": "50a0d6ce",
   "metadata": {
    "execution": {
     "iopub.execute_input": "2022-03-02T23:08:38.527655Z",
     "iopub.status.busy": "2022-03-02T23:08:38.527425Z",
     "iopub.status.idle": "2022-03-02T23:08:38.547051Z",
     "shell.execute_reply": "2022-03-02T23:08:38.546370Z"
    },
    "papermill": {
     "duration": 0.093822,
     "end_time": "2022-03-02T23:08:38.548530",
     "exception": false,
     "start_time": "2022-03-02T23:08:38.454708",
     "status": "completed"
    },
    "tags": []
   },
   "outputs": [
    {
     "data": {
      "text/plain": [
       "(987, 4)"
      ]
     },
     "execution_count": 72,
     "metadata": {},
     "output_type": "execute_result"
    }
   ],
   "source": [
    "all_results.shape"
   ]
  },
  {
   "cell_type": "code",
   "execution_count": 73,
   "id": "37b1f262",
   "metadata": {
    "execution": {
     "iopub.execute_input": "2022-03-02T23:08:38.694911Z",
     "iopub.status.busy": "2022-03-02T23:08:38.694681Z",
     "iopub.status.idle": "2022-03-02T23:08:38.718942Z",
     "shell.execute_reply": "2022-03-02T23:08:38.718285Z"
    },
    "papermill": {
     "duration": 0.098449,
     "end_time": "2022-03-02T23:08:38.720357",
     "exception": false,
     "start_time": "2022-03-02T23:08:38.621908",
     "status": "completed"
    },
    "tags": []
   },
   "outputs": [
    {
     "data": {
      "text/html": [
       "<div>\n",
       "<style scoped>\n",
       "    .dataframe tbody tr th:only-of-type {\n",
       "        vertical-align: middle;\n",
       "    }\n",
       "\n",
       "    .dataframe tbody tr th {\n",
       "        vertical-align: top;\n",
       "    }\n",
       "\n",
       "    .dataframe thead th {\n",
       "        text-align: right;\n",
       "    }\n",
       "</style>\n",
       "<table border=\"1\" class=\"dataframe\">\n",
       "  <thead>\n",
       "    <tr style=\"text-align: right;\">\n",
       "      <th></th>\n",
       "      <th>phenotype</th>\n",
       "      <th>lv</th>\n",
       "      <th>coef</th>\n",
       "      <th>pvalue</th>\n",
       "    </tr>\n",
       "  </thead>\n",
       "  <tbody>\n",
       "    <tr>\n",
       "      <th>0</th>\n",
       "      <td>smultixcan phenotype 0</td>\n",
       "      <td>LV936</td>\n",
       "      <td>-0.001195</td>\n",
       "      <td>0.538070</td>\n",
       "    </tr>\n",
       "    <tr>\n",
       "      <th>1</th>\n",
       "      <td>smultixcan phenotype 0</td>\n",
       "      <td>LV962</td>\n",
       "      <td>0.000033</td>\n",
       "      <td>0.498970</td>\n",
       "    </tr>\n",
       "    <tr>\n",
       "      <th>2</th>\n",
       "      <td>smultixcan phenotype 0</td>\n",
       "      <td>LV248</td>\n",
       "      <td>0.028117</td>\n",
       "      <td>0.013027</td>\n",
       "    </tr>\n",
       "    <tr>\n",
       "      <th>3</th>\n",
       "      <td>smultixcan phenotype 0</td>\n",
       "      <td>LV895</td>\n",
       "      <td>0.009369</td>\n",
       "      <td>0.229212</td>\n",
       "    </tr>\n",
       "    <tr>\n",
       "      <th>4</th>\n",
       "      <td>smultixcan phenotype 0</td>\n",
       "      <td>LV368</td>\n",
       "      <td>0.007564</td>\n",
       "      <td>0.274593</td>\n",
       "    </tr>\n",
       "  </tbody>\n",
       "</table>\n",
       "</div>"
      ],
      "text/plain": [
       "                phenotype     lv      coef    pvalue\n",
       "0  smultixcan phenotype 0  LV936 -0.001195  0.538070\n",
       "1  smultixcan phenotype 0  LV962  0.000033  0.498970\n",
       "2  smultixcan phenotype 0  LV248  0.028117  0.013027\n",
       "3  smultixcan phenotype 0  LV895  0.009369  0.229212\n",
       "4  smultixcan phenotype 0  LV368  0.007564  0.274593"
      ]
     },
     "execution_count": 73,
     "metadata": {},
     "output_type": "execute_result"
    }
   ],
   "source": [
    "all_results.head()"
   ]
  },
  {
   "cell_type": "code",
   "execution_count": 74,
   "id": "6e01815c",
   "metadata": {
    "execution": {
     "iopub.execute_input": "2022-03-02T23:08:38.867817Z",
     "iopub.status.busy": "2022-03-02T23:08:38.867235Z",
     "iopub.status.idle": "2022-03-02T23:08:38.892324Z",
     "shell.execute_reply": "2022-03-02T23:08:38.891603Z"
    },
    "papermill": {
     "duration": 0.10003,
     "end_time": "2022-03-02T23:08:38.893805",
     "exception": false,
     "start_time": "2022-03-02T23:08:38.793775",
     "status": "completed"
    },
    "tags": []
   },
   "outputs": [
    {
     "data": {
      "text/html": [
       "<div>\n",
       "<style scoped>\n",
       "    .dataframe tbody tr th:only-of-type {\n",
       "        vertical-align: middle;\n",
       "    }\n",
       "\n",
       "    .dataframe tbody tr th {\n",
       "        vertical-align: top;\n",
       "    }\n",
       "\n",
       "    .dataframe thead th {\n",
       "        text-align: right;\n",
       "    }\n",
       "</style>\n",
       "<table border=\"1\" class=\"dataframe\">\n",
       "  <thead>\n",
       "    <tr style=\"text-align: right;\">\n",
       "      <th></th>\n",
       "      <th>phenotype</th>\n",
       "      <th>lv</th>\n",
       "      <th>coef</th>\n",
       "      <th>pvalue</th>\n",
       "    </tr>\n",
       "  </thead>\n",
       "  <tbody>\n",
       "    <tr>\n",
       "      <th>459</th>\n",
       "      <td>smultixcan phenotype 0</td>\n",
       "      <td>LV303</td>\n",
       "      <td>0.051052</td>\n",
       "      <td>0.000025</td>\n",
       "    </tr>\n",
       "    <tr>\n",
       "      <th>869</th>\n",
       "      <td>smultixcan phenotype 0</td>\n",
       "      <td>LV198</td>\n",
       "      <td>0.039076</td>\n",
       "      <td>0.000789</td>\n",
       "    </tr>\n",
       "    <tr>\n",
       "      <th>826</th>\n",
       "      <td>smultixcan phenotype 0</td>\n",
       "      <td>LV33</td>\n",
       "      <td>0.039386</td>\n",
       "      <td>0.000906</td>\n",
       "    </tr>\n",
       "    <tr>\n",
       "      <th>640</th>\n",
       "      <td>smultixcan phenotype 0</td>\n",
       "      <td>LV456</td>\n",
       "      <td>0.035331</td>\n",
       "      <td>0.001697</td>\n",
       "    </tr>\n",
       "    <tr>\n",
       "      <th>770</th>\n",
       "      <td>smultixcan phenotype 0</td>\n",
       "      <td>LV789</td>\n",
       "      <td>0.036510</td>\n",
       "      <td>0.001839</td>\n",
       "    </tr>\n",
       "    <tr>\n",
       "      <th>426</th>\n",
       "      <td>smultixcan phenotype 0</td>\n",
       "      <td>LV877</td>\n",
       "      <td>0.034665</td>\n",
       "      <td>0.002816</td>\n",
       "    </tr>\n",
       "    <tr>\n",
       "      <th>949</th>\n",
       "      <td>smultixcan phenotype 0</td>\n",
       "      <td>LV43</td>\n",
       "      <td>0.034236</td>\n",
       "      <td>0.003367</td>\n",
       "    </tr>\n",
       "    <tr>\n",
       "      <th>231</th>\n",
       "      <td>smultixcan phenotype 0</td>\n",
       "      <td>LV565</td>\n",
       "      <td>0.033960</td>\n",
       "      <td>0.003379</td>\n",
       "    </tr>\n",
       "    <tr>\n",
       "      <th>496</th>\n",
       "      <td>smultixcan phenotype 0</td>\n",
       "      <td>LV314</td>\n",
       "      <td>0.033711</td>\n",
       "      <td>0.003778</td>\n",
       "    </tr>\n",
       "    <tr>\n",
       "      <th>312</th>\n",
       "      <td>smultixcan phenotype 0</td>\n",
       "      <td>LV49</td>\n",
       "      <td>0.033041</td>\n",
       "      <td>0.004258</td>\n",
       "    </tr>\n",
       "  </tbody>\n",
       "</table>\n",
       "</div>"
      ],
      "text/plain": [
       "                  phenotype     lv      coef    pvalue\n",
       "459  smultixcan phenotype 0  LV303  0.051052  0.000025\n",
       "869  smultixcan phenotype 0  LV198  0.039076  0.000789\n",
       "826  smultixcan phenotype 0   LV33  0.039386  0.000906\n",
       "640  smultixcan phenotype 0  LV456  0.035331  0.001697\n",
       "770  smultixcan phenotype 0  LV789  0.036510  0.001839\n",
       "426  smultixcan phenotype 0  LV877  0.034665  0.002816\n",
       "949  smultixcan phenotype 0   LV43  0.034236  0.003367\n",
       "231  smultixcan phenotype 0  LV565  0.033960  0.003379\n",
       "496  smultixcan phenotype 0  LV314  0.033711  0.003778\n",
       "312  smultixcan phenotype 0   LV49  0.033041  0.004258"
      ]
     },
     "execution_count": 74,
     "metadata": {},
     "output_type": "execute_result"
    }
   ],
   "source": [
    "all_results.sort_values(\"pvalue\").head(10)"
   ]
  },
  {
   "cell_type": "markdown",
   "id": "f9bf1e04",
   "metadata": {
    "papermill": {
     "duration": 0.073479,
     "end_time": "2022-03-02T23:08:39.041198",
     "exception": false,
     "start_time": "2022-03-02T23:08:38.967719",
     "status": "completed"
    },
    "tags": []
   },
   "source": [
    "## Save"
   ]
  },
  {
   "cell_type": "code",
   "execution_count": 75,
   "id": "7fff888f",
   "metadata": {
    "execution": {
     "iopub.execute_input": "2022-03-02T23:08:39.190181Z",
     "iopub.status.busy": "2022-03-02T23:08:39.189550Z",
     "iopub.status.idle": "2022-03-02T23:08:39.209130Z",
     "shell.execute_reply": "2022-03-02T23:08:39.208548Z"
    },
    "papermill": {
     "duration": 0.096244,
     "end_time": "2022-03-02T23:08:39.210567",
     "exception": false,
     "start_time": "2022-03-02T23:08:39.114323",
     "status": "completed"
    },
    "tags": []
   },
   "outputs": [],
   "source": [
    "all_results.to_pickle(OUTPUT_FILENAME)"
   ]
  },
  {
   "cell_type": "code",
   "execution_count": null,
   "id": "12b12d08",
   "metadata": {
    "papermill": {
     "duration": 0.077454,
     "end_time": "2022-03-02T23:08:39.362287",
     "exception": false,
     "start_time": "2022-03-02T23:08:39.284833",
     "status": "completed"
    },
    "tags": []
   },
   "outputs": [],
   "source": []
  }
 ],
 "metadata": {
  "jupytext": {
   "cell_metadata_filter": "all,-execution,-papermill,-trusted",
   "formats": "ipynb,py//py:percent"
  },
  "kernelspec": {
   "display_name": "Python 3 (ipykernel)",
   "language": "python",
   "name": "python3"
  },
  "language_info": {
   "codemirror_mode": {
    "name": "ipython",
    "version": 3
   },
   "file_extension": ".py",
   "mimetype": "text/x-python",
   "name": "python",
   "nbconvert_exporter": "python",
   "pygments_lexer": "ipython3",
   "version": "3.8.12"
  },
  "papermill": {
   "default_parameters": {},
   "duration": 7981.958367,
   "end_time": "2022-03-02T23:08:39.967585",
   "environment_variables": {},
   "exception": null,
   "input_path": "nbs/15_gsa_gls/20-gls-en-null_simulations.ipynb",
   "output_path": "nbs/15_gsa_gls/20-gls-en-null_simulations.run.ipynb",
   "parameters": {},
   "start_time": "2022-03-02T20:55:38.009218",
   "version": "2.2.2"
  }
 },
 "nbformat": 4,
 "nbformat_minor": 5
}
