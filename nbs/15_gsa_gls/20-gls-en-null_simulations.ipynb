{
 "cells": [
  {
   "cell_type": "markdown",
   "id": "39e7eb0d",
   "metadata": {
    "papermill": {
     "duration": 0.023509,
     "end_time": "2022-02-24T05:27:16.566490",
     "exception": false,
     "start_time": "2022-02-24T05:27:16.542981",
     "status": "completed"
    },
    "tags": []
   },
   "source": [
    "# Description"
   ]
  },
  {
   "cell_type": "markdown",
   "id": "67dddb8a",
   "metadata": {
    "papermill": {
     "duration": 0.02005,
     "end_time": "2022-02-24T05:27:16.606408",
     "exception": false,
     "start_time": "2022-02-24T05:27:16.586358",
     "status": "completed"
    },
    "tags": []
   },
   "source": [
    "* reads MultiXcan results on a random phenotype file (using Elastic Net models)\n",
    "* runs PhenoPLIER on all LVs to compute the null"
   ]
  },
  {
   "cell_type": "markdown",
   "id": "0e375afc",
   "metadata": {
    "papermill": {
     "duration": 0.019673,
     "end_time": "2022-02-24T05:27:16.646565",
     "exception": false,
     "start_time": "2022-02-24T05:27:16.626892",
     "status": "completed"
    },
    "tags": []
   },
   "source": [
    "# Environment variables"
   ]
  },
  {
   "cell_type": "code",
   "execution_count": 1,
   "id": "44da319d",
   "metadata": {
    "papermill": {
     "duration": 0.037961,
     "end_time": "2022-02-24T05:27:16.704765",
     "exception": false,
     "start_time": "2022-02-24T05:27:16.666804",
     "status": "completed"
    },
    "tags": []
   },
   "outputs": [],
   "source": [
    "%load_ext autoreload\n",
    "%autoreload 2"
   ]
  },
  {
   "cell_type": "code",
   "execution_count": 2,
   "id": "f1e7d4e3",
   "metadata": {
    "papermill": {
     "duration": 0.055312,
     "end_time": "2022-02-24T05:27:16.781466",
     "exception": false,
     "start_time": "2022-02-24T05:27:16.726154",
     "status": "completed"
    },
    "tags": []
   },
   "outputs": [],
   "source": [
    "import conf"
   ]
  },
  {
   "cell_type": "code",
   "execution_count": 3,
   "id": "02add533",
   "metadata": {
    "papermill": {
     "duration": 0.038739,
     "end_time": "2022-02-24T05:27:16.846718",
     "exception": false,
     "start_time": "2022-02-24T05:27:16.807979",
     "status": "completed"
    },
    "tags": []
   },
   "outputs": [
    {
     "data": {
      "text/plain": [
       "1"
      ]
     },
     "metadata": {},
     "output_type": "display_data"
    }
   ],
   "source": [
    "# N_JOBS = conf.GENERAL[\"N_JOBS\"]\n",
    "# set N_JOBS manually, because we are parallelizing outside\n",
    "N_JOBS = 1\n",
    "display(N_JOBS)"
   ]
  },
  {
   "cell_type": "code",
   "execution_count": 4,
   "id": "5a56f59a",
   "metadata": {
    "papermill": {
     "duration": 0.036141,
     "end_time": "2022-02-24T05:27:16.904702",
     "exception": false,
     "start_time": "2022-02-24T05:27:16.868561",
     "status": "completed"
    },
    "tags": []
   },
   "outputs": [
    {
     "name": "stdout",
     "output_type": "stream",
     "text": [
      "env: MKL_NUM_THREADS=1\n",
      "env: OPEN_BLAS_NUM_THREADS=1\n",
      "env: NUMEXPR_NUM_THREADS=1\n",
      "env: OMP_NUM_THREADS=1\n"
     ]
    }
   ],
   "source": [
    "%env MKL_NUM_THREADS=$N_JOBS\n",
    "%env OPEN_BLAS_NUM_THREADS=$N_JOBS\n",
    "%env NUMEXPR_NUM_THREADS=$N_JOBS\n",
    "%env OMP_NUM_THREADS=$N_JOBS"
   ]
  },
  {
   "cell_type": "markdown",
   "id": "4b5a713d",
   "metadata": {
    "papermill": {
     "duration": 0.021581,
     "end_time": "2022-02-24T05:27:16.947886",
     "exception": false,
     "start_time": "2022-02-24T05:27:16.926305",
     "status": "completed"
    },
    "tags": []
   },
   "source": [
    "# Modules"
   ]
  },
  {
   "cell_type": "code",
   "execution_count": 5,
   "id": "54fd4759",
   "metadata": {
    "papermill": {
     "duration": 0.913421,
     "end_time": "2022-02-24T05:27:17.882796",
     "exception": false,
     "start_time": "2022-02-24T05:27:16.969375",
     "status": "completed"
    },
    "tags": []
   },
   "outputs": [],
   "source": [
    "import itertools\n",
    "from concurrent.futures import ProcessPoolExecutor, as_completed\n",
    "\n",
    "import numpy as np\n",
    "from scipy import stats\n",
    "import pandas as pd\n",
    "from tqdm import tqdm\n",
    "\n",
    "from utils import chunker\n",
    "from entity import Gene\n",
    "from gls import GLSPhenoplier"
   ]
  },
  {
   "cell_type": "markdown",
   "id": "fd9500e9",
   "metadata": {
    "papermill": {
     "duration": 0.02149,
     "end_time": "2022-02-24T05:27:17.927711",
     "exception": false,
     "start_time": "2022-02-24T05:27:17.906221",
     "status": "completed"
    },
    "tags": []
   },
   "source": [
    "# Settings"
   ]
  },
  {
   "cell_type": "code",
   "execution_count": 6,
   "id": "28cd45a1",
   "metadata": {
    "papermill": {
     "duration": 0.040185,
     "end_time": "2022-02-24T05:27:17.988879",
     "exception": false,
     "start_time": "2022-02-24T05:27:17.948694",
     "status": "completed"
    },
    "tags": []
   },
   "outputs": [],
   "source": [
    "N_SIMULATED_PHENOTYPES = 10\n",
    "CHUNK_SIZE = 50\n",
    "EQTL_MODEL = \"ELASTIC_NET\""
   ]
  },
  {
   "cell_type": "markdown",
   "id": "6978d13a",
   "metadata": {
    "papermill": {
     "duration": 0.02149,
     "end_time": "2022-02-24T05:27:17.927711",
     "exception": false,
     "start_time": "2022-02-24T05:27:17.906221",
     "status": "completed"
    },
    "tags": []
   },
   "source": [
    "# Paths"
   ]
  },
  {
   "cell_type": "code",
   "execution_count": 7,
   "id": "6913a201",
   "metadata": {
    "papermill": {
     "duration": 0.042205,
     "end_time": "2022-02-24T05:27:18.052950",
     "exception": false,
     "start_time": "2022-02-24T05:27:18.010745",
     "status": "completed"
    },
    "tags": []
   },
   "outputs": [
    {
     "data": {
      "text/plain": [
       "PosixPath('/opt/data/results/gls/null_simulations')"
      ]
     },
     "metadata": {},
     "output_type": "display_data"
    }
   ],
   "source": [
    "OUTPUT_DIR = conf.RESULTS[\"GLS\"] / \"null_simulations\"\n",
    "display(OUTPUT_DIR)\n",
    "\n",
    "OUTPUT_DIR.mkdir(exist_ok=True, parents=True)"
   ]
  },
  {
   "cell_type": "code",
   "execution_count": 8,
   "id": "216b3e18",
   "metadata": {
    "papermill": {
     "duration": 0.041981,
     "end_time": "2022-02-24T05:27:18.117562",
     "exception": false,
     "start_time": "2022-02-24T05:27:18.075581",
     "status": "completed"
    },
    "tags": []
   },
   "outputs": [
    {
     "data": {
      "text/plain": [
       "PosixPath('/opt/data/results/gls/null_simulations/en-null_simulations.pkl')"
      ]
     },
     "metadata": {},
     "output_type": "display_data"
    }
   ],
   "source": [
    "OUTPUT_FILENAME = OUTPUT_DIR / \"en-null_simulations.pkl\"\n",
    "display(OUTPUT_FILENAME)"
   ]
  },
  {
   "cell_type": "markdown",
   "id": "3aa6e43b",
   "metadata": {
    "papermill": {
     "duration": 0.021629,
     "end_time": "2022-02-24T05:27:18.162851",
     "exception": false,
     "start_time": "2022-02-24T05:27:18.141222",
     "status": "completed"
    },
    "tags": []
   },
   "source": [
    "# Load data"
   ]
  },
  {
   "cell_type": "markdown",
   "id": "c37464a8",
   "metadata": {
    "papermill": {
     "duration": 0.021814,
     "end_time": "2022-02-24T05:27:18.207099",
     "exception": false,
     "start_time": "2022-02-24T05:27:18.185285",
     "status": "completed"
    },
    "tags": []
   },
   "source": [
    "## MultiXcan on random phenotype"
   ]
  },
  {
   "cell_type": "markdown",
   "id": "e01a00a9",
   "metadata": {
    "papermill": {
     "duration": 0.021814,
     "end_time": "2022-02-24T05:27:18.207099",
     "exception": false,
     "start_time": "2022-02-24T05:27:18.185285",
     "status": "completed"
    },
    "tags": []
   },
   "source": [
    "This result was downloaded from the MultiXcan paper here: https://github.com/hakyimlab/multixcan-paper"
   ]
  },
  {
   "cell_type": "code",
   "execution_count": 9,
   "id": "b0c5466e",
   "metadata": {},
   "outputs": [],
   "source": [
    "multixcan_random_phenotype = pd.read_csv(\n",
    "    conf.PHENOMEXCAN[\"BASE_DIR\"] / \"random__ccn30__mt_results.txt\",\n",
    "    sep=\"\\t\",\n",
    "    usecols=[\"gene\", \"pvalue\"],\n",
    ")"
   ]
  },
  {
   "cell_type": "code",
   "execution_count": 10,
   "id": "5afde2ed",
   "metadata": {},
   "outputs": [
    {
     "data": {
      "text/plain": [
       "(17434, 2)"
      ]
     },
     "execution_count": 10,
     "metadata": {},
     "output_type": "execute_result"
    }
   ],
   "source": [
    "multixcan_random_phenotype.shape"
   ]
  },
  {
   "cell_type": "code",
   "execution_count": 11,
   "id": "c7779920",
   "metadata": {},
   "outputs": [
    {
     "data": {
      "text/html": [
       "<div>\n",
       "<style scoped>\n",
       "    .dataframe tbody tr th:only-of-type {\n",
       "        vertical-align: middle;\n",
       "    }\n",
       "\n",
       "    .dataframe tbody tr th {\n",
       "        vertical-align: top;\n",
       "    }\n",
       "\n",
       "    .dataframe thead th {\n",
       "        text-align: right;\n",
       "    }\n",
       "</style>\n",
       "<table border=\"1\" class=\"dataframe\">\n",
       "  <thead>\n",
       "    <tr style=\"text-align: right;\">\n",
       "      <th></th>\n",
       "      <th>gene</th>\n",
       "      <th>pvalue</th>\n",
       "    </tr>\n",
       "  </thead>\n",
       "  <tbody>\n",
       "    <tr>\n",
       "      <th>0</th>\n",
       "      <td>ENSG00000111215.7</td>\n",
       "      <td>0.000274</td>\n",
       "    </tr>\n",
       "    <tr>\n",
       "      <th>1</th>\n",
       "      <td>ENSG00000160752.10</td>\n",
       "      <td>0.000340</td>\n",
       "    </tr>\n",
       "    <tr>\n",
       "      <th>2</th>\n",
       "      <td>ENSG00000119950.16</td>\n",
       "      <td>0.000437</td>\n",
       "    </tr>\n",
       "    <tr>\n",
       "      <th>3</th>\n",
       "      <td>ENSG00000196505.6</td>\n",
       "      <td>0.000552</td>\n",
       "    </tr>\n",
       "    <tr>\n",
       "      <th>4</th>\n",
       "      <td>ENSG00000166762.12</td>\n",
       "      <td>0.000557</td>\n",
       "    </tr>\n",
       "  </tbody>\n",
       "</table>\n",
       "</div>"
      ],
      "text/plain": [
       "                 gene    pvalue\n",
       "0   ENSG00000111215.7  0.000274\n",
       "1  ENSG00000160752.10  0.000340\n",
       "2  ENSG00000119950.16  0.000437\n",
       "3   ENSG00000196505.6  0.000552\n",
       "4  ENSG00000166762.12  0.000557"
      ]
     },
     "execution_count": 11,
     "metadata": {},
     "output_type": "execute_result"
    }
   ],
   "source": [
    "multixcan_random_phenotype.head()"
   ]
  },
  {
   "cell_type": "code",
   "execution_count": 12,
   "id": "c5acede5",
   "metadata": {},
   "outputs": [],
   "source": [
    "multixcan_random_phenotype[\"gene\"] = multixcan_random_phenotype[\"gene\"].str.split(\n",
    "    \".\", n=1, expand=True\n",
    ")[0]"
   ]
  },
  {
   "cell_type": "code",
   "execution_count": 13,
   "id": "a4e4af93",
   "metadata": {},
   "outputs": [],
   "source": [
    "multixcan_random_phenotype = multixcan_random_phenotype.set_index(\"gene\")"
   ]
  },
  {
   "cell_type": "code",
   "execution_count": 14,
   "id": "f6b36261",
   "metadata": {},
   "outputs": [
    {
     "data": {
      "text/html": [
       "<div>\n",
       "<style scoped>\n",
       "    .dataframe tbody tr th:only-of-type {\n",
       "        vertical-align: middle;\n",
       "    }\n",
       "\n",
       "    .dataframe tbody tr th {\n",
       "        vertical-align: top;\n",
       "    }\n",
       "\n",
       "    .dataframe thead th {\n",
       "        text-align: right;\n",
       "    }\n",
       "</style>\n",
       "<table border=\"1\" class=\"dataframe\">\n",
       "  <thead>\n",
       "    <tr style=\"text-align: right;\">\n",
       "      <th></th>\n",
       "      <th>pvalue</th>\n",
       "    </tr>\n",
       "    <tr>\n",
       "      <th>gene</th>\n",
       "      <th></th>\n",
       "    </tr>\n",
       "  </thead>\n",
       "  <tbody>\n",
       "    <tr>\n",
       "      <th>ENSG00000111215</th>\n",
       "      <td>0.000274</td>\n",
       "    </tr>\n",
       "    <tr>\n",
       "      <th>ENSG00000160752</th>\n",
       "      <td>0.000340</td>\n",
       "    </tr>\n",
       "    <tr>\n",
       "      <th>ENSG00000119950</th>\n",
       "      <td>0.000437</td>\n",
       "    </tr>\n",
       "    <tr>\n",
       "      <th>ENSG00000196505</th>\n",
       "      <td>0.000552</td>\n",
       "    </tr>\n",
       "    <tr>\n",
       "      <th>ENSG00000166762</th>\n",
       "      <td>0.000557</td>\n",
       "    </tr>\n",
       "  </tbody>\n",
       "</table>\n",
       "</div>"
      ],
      "text/plain": [
       "                   pvalue\n",
       "gene                     \n",
       "ENSG00000111215  0.000274\n",
       "ENSG00000160752  0.000340\n",
       "ENSG00000119950  0.000437\n",
       "ENSG00000196505  0.000552\n",
       "ENSG00000166762  0.000557"
      ]
     },
     "execution_count": 14,
     "metadata": {},
     "output_type": "execute_result"
    }
   ],
   "source": [
    "multixcan_random_phenotype.head()"
   ]
  },
  {
   "cell_type": "code",
   "execution_count": 15,
   "id": "7618da52",
   "metadata": {},
   "outputs": [],
   "source": [
    "assert multixcan_random_phenotype.index.is_unique"
   ]
  },
  {
   "cell_type": "markdown",
   "id": "1e33c0a1",
   "metadata": {
    "papermill": {
     "duration": 0.021814,
     "end_time": "2022-02-24T05:27:18.207099",
     "exception": false,
     "start_time": "2022-02-24T05:27:18.185285",
     "status": "completed"
    },
    "tags": []
   },
   "source": [
    "## MultiPLIER Z matrix"
   ]
  },
  {
   "cell_type": "code",
   "execution_count": 16,
   "id": "0adab2cb",
   "metadata": {
    "papermill": {
     "duration": 0.307278,
     "end_time": "2022-02-24T05:27:18.536398",
     "exception": false,
     "start_time": "2022-02-24T05:27:18.229120",
     "status": "completed"
    },
    "tags": []
   },
   "outputs": [],
   "source": [
    "# multiplier_z_matrix = pd.read_pickle(conf.MULTIPLIER[\"MODEL_Z_MATRIX_FILE\"])"
   ]
  },
  {
   "cell_type": "code",
   "execution_count": 17,
   "id": "9128df1f",
   "metadata": {
    "papermill": {
     "duration": 0.04243,
     "end_time": "2022-02-24T05:27:18.604523",
     "exception": false,
     "start_time": "2022-02-24T05:27:18.562093",
     "status": "completed"
    },
    "tags": []
   },
   "outputs": [],
   "source": [
    "# multiplier_z_matrix.shape"
   ]
  },
  {
   "cell_type": "code",
   "execution_count": 18,
   "id": "4dd9dded",
   "metadata": {
    "papermill": {
     "duration": 0.057464,
     "end_time": "2022-02-24T05:27:18.685499",
     "exception": false,
     "start_time": "2022-02-24T05:27:18.628035",
     "status": "completed"
    },
    "tags": []
   },
   "outputs": [],
   "source": [
    "# multiplier_z_matrix.head()"
   ]
  },
  {
   "cell_type": "code",
   "execution_count": 19,
   "id": "d30e4c64",
   "metadata": {
    "papermill": {
     "duration": 0.043929,
     "end_time": "2022-02-24T05:27:18.754068",
     "exception": false,
     "start_time": "2022-02-24T05:27:18.710139",
     "status": "completed"
    },
    "tags": []
   },
   "outputs": [],
   "source": [
    "# lv_codes = list(multiplier_z_matrix.columns)\n",
    "# display(lv_codes[:5])"
   ]
  },
  {
   "cell_type": "markdown",
   "id": "19a1b065",
   "metadata": {},
   "source": [
    "# Preprocess MultiXcan results"
   ]
  },
  {
   "cell_type": "markdown",
   "id": "419e3a8a",
   "metadata": {
    "papermill": {
     "duration": 0.033256,
     "end_time": "2021-03-08T19:22:43.123917",
     "exception": false,
     "start_time": "2021-03-08T19:22:43.090661",
     "status": "completed"
    },
    "tags": []
   },
   "source": [
    "## Convert gene IDs to Gene names"
   ]
  },
  {
   "cell_type": "code",
   "execution_count": 20,
   "id": "463fa763",
   "metadata": {
    "papermill": {
     "duration": 0.183485,
     "end_time": "2021-03-08T19:22:43.340704",
     "exception": false,
     "start_time": "2021-03-08T19:22:43.157219",
     "status": "completed"
    },
    "tags": []
   },
   "outputs": [],
   "source": [
    "smultixcan_results = multixcan_random_phenotype.rename(index=Gene.GENE_ID_TO_NAME_MAP)"
   ]
  },
  {
   "cell_type": "code",
   "execution_count": 21,
   "id": "fb2bd9fa",
   "metadata": {
    "papermill": {
     "duration": 0.046944,
     "end_time": "2021-03-08T19:22:43.423583",
     "exception": false,
     "start_time": "2021-03-08T19:22:43.376639",
     "status": "completed"
    },
    "tags": []
   },
   "outputs": [
    {
     "data": {
      "text/plain": [
       "(17434, 1)"
      ]
     },
     "execution_count": 21,
     "metadata": {},
     "output_type": "execute_result"
    }
   ],
   "source": [
    "smultixcan_results.shape"
   ]
  },
  {
   "cell_type": "code",
   "execution_count": 22,
   "id": "c4bf07c8",
   "metadata": {
    "papermill": {
     "duration": 0.058688,
     "end_time": "2021-03-08T19:22:43.516816",
     "exception": false,
     "start_time": "2021-03-08T19:22:43.458128",
     "status": "completed"
    },
    "tags": []
   },
   "outputs": [
    {
     "data": {
      "text/html": [
       "<div>\n",
       "<style scoped>\n",
       "    .dataframe tbody tr th:only-of-type {\n",
       "        vertical-align: middle;\n",
       "    }\n",
       "\n",
       "    .dataframe tbody tr th {\n",
       "        vertical-align: top;\n",
       "    }\n",
       "\n",
       "    .dataframe thead th {\n",
       "        text-align: right;\n",
       "    }\n",
       "</style>\n",
       "<table border=\"1\" class=\"dataframe\">\n",
       "  <thead>\n",
       "    <tr style=\"text-align: right;\">\n",
       "      <th></th>\n",
       "      <th>pvalue</th>\n",
       "    </tr>\n",
       "    <tr>\n",
       "      <th>gene</th>\n",
       "      <th></th>\n",
       "    </tr>\n",
       "  </thead>\n",
       "  <tbody>\n",
       "    <tr>\n",
       "      <th>PRR4</th>\n",
       "      <td>0.000274</td>\n",
       "    </tr>\n",
       "    <tr>\n",
       "      <th>FDPS</th>\n",
       "      <td>0.000340</td>\n",
       "    </tr>\n",
       "    <tr>\n",
       "      <th>MXI1</th>\n",
       "      <td>0.000437</td>\n",
       "    </tr>\n",
       "    <tr>\n",
       "      <th>GDAP2</th>\n",
       "      <td>0.000552</td>\n",
       "    </tr>\n",
       "    <tr>\n",
       "      <th>CATSPER2</th>\n",
       "      <td>0.000557</td>\n",
       "    </tr>\n",
       "  </tbody>\n",
       "</table>\n",
       "</div>"
      ],
      "text/plain": [
       "            pvalue\n",
       "gene              \n",
       "PRR4      0.000274\n",
       "FDPS      0.000340\n",
       "MXI1      0.000437\n",
       "GDAP2     0.000552\n",
       "CATSPER2  0.000557"
      ]
     },
     "execution_count": 22,
     "metadata": {},
     "output_type": "execute_result"
    }
   ],
   "source": [
    "smultixcan_results.head()"
   ]
  },
  {
   "cell_type": "markdown",
   "id": "4f29179e",
   "metadata": {
    "papermill": {
     "duration": 0.034482,
     "end_time": "2021-03-08T19:22:43.586557",
     "exception": false,
     "start_time": "2021-03-08T19:22:43.552075",
     "status": "completed"
    },
    "tags": []
   },
   "source": [
    "## Remove duplicated gene entries"
   ]
  },
  {
   "cell_type": "code",
   "execution_count": 23,
   "id": "aa32068b",
   "metadata": {
    "papermill": {
     "duration": 0.049595,
     "end_time": "2021-03-08T19:22:43.670097",
     "exception": false,
     "start_time": "2021-03-08T19:22:43.620502",
     "status": "completed"
    },
    "tags": []
   },
   "outputs": [],
   "source": [
    "_tmp = smultixcan_results.index[smultixcan_results.index.duplicated(keep=\"first\")]\n",
    "assert _tmp.shape[0] == 0"
   ]
  },
  {
   "cell_type": "markdown",
   "id": "b7a04a2c",
   "metadata": {
    "papermill": {
     "duration": 0.03459,
     "end_time": "2021-03-08T19:22:44.042203",
     "exception": false,
     "start_time": "2021-03-08T19:22:44.007613",
     "status": "completed"
    },
    "tags": []
   },
   "source": [
    "## Convert p-values to z-scores"
   ]
  },
  {
   "cell_type": "code",
   "execution_count": 24,
   "id": "613f00c6",
   "metadata": {},
   "outputs": [],
   "source": [
    "smultixcan_results = smultixcan_results.assign(\n",
    "    zscore=np.abs(stats.norm.ppf(smultixcan_results[\"pvalue\"].to_numpy() / 2))\n",
    ")"
   ]
  },
  {
   "cell_type": "code",
   "execution_count": 25,
   "id": "ce59eb55",
   "metadata": {},
   "outputs": [],
   "source": [
    "smultixcan_results = smultixcan_results.drop(columns=\"pvalue\").squeeze()"
   ]
  },
  {
   "cell_type": "code",
   "execution_count": 26,
   "id": "0c69e16d",
   "metadata": {},
   "outputs": [
    {
     "data": {
      "text/plain": [
       "gene\n",
       "PRR4        3.638969\n",
       "FDPS        3.583010\n",
       "MXI1        3.516956\n",
       "GDAP2       3.454321\n",
       "CATSPER2    3.451753\n",
       "Name: zscore, dtype: float64"
      ]
     },
     "execution_count": 26,
     "metadata": {},
     "output_type": "execute_result"
    }
   ],
   "source": [
    "smultixcan_results.head()"
   ]
  },
  {
   "cell_type": "code",
   "execution_count": 27,
   "id": "76097784",
   "metadata": {},
   "outputs": [
    {
     "data": {
      "text/plain": [
       "count    17434.000000\n",
       "mean         0.799982\n",
       "std          0.601722\n",
       "min          0.000017\n",
       "25%          0.319986\n",
       "50%          0.677941\n",
       "75%          1.151688\n",
       "max          3.638969\n",
       "Name: zscore, dtype: float64"
      ]
     },
     "execution_count": 27,
     "metadata": {},
     "output_type": "execute_result"
    }
   ],
   "source": [
    "smultixcan_results.describe()"
   ]
  },
  {
   "cell_type": "markdown",
   "id": "7b53f69c",
   "metadata": {
    "papermill": {
     "duration": 0.03459,
     "end_time": "2021-03-08T19:22:44.042203",
     "exception": false,
     "start_time": "2021-03-08T19:22:44.007613",
     "status": "completed"
    },
    "tags": []
   },
   "source": [
    "## Some checks"
   ]
  },
  {
   "cell_type": "code",
   "execution_count": 28,
   "id": "844bca82",
   "metadata": {
    "papermill": {
     "duration": 0.337355,
     "end_time": "2021-03-08T19:22:44.413723",
     "exception": false,
     "start_time": "2021-03-08T19:22:44.076368",
     "status": "completed"
    },
    "tags": []
   },
   "outputs": [],
   "source": [
    "# the data should have no NaN values\n",
    "assert smultixcan_results.shape == smultixcan_results.dropna(how=\"any\").shape"
   ]
  },
  {
   "cell_type": "markdown",
   "id": "4fe180c4",
   "metadata": {
    "papermill": {
     "duration": 0.024394,
     "end_time": "2022-02-24T05:27:19.271472",
     "exception": false,
     "start_time": "2022-02-24T05:27:19.247078",
     "status": "completed"
    },
    "tags": []
   },
   "source": [
    "# GLSPhenoplier"
   ]
  },
  {
   "cell_type": "markdown",
   "id": "91359d5b",
   "metadata": {
    "papermill": {
     "duration": 0.024394,
     "end_time": "2022-02-24T05:27:19.271472",
     "exception": false,
     "start_time": "2022-02-24T05:27:19.247078",
     "status": "completed"
    },
    "tags": []
   },
   "source": [
    "## Identify clusters of non-related genes"
   ]
  },
  {
   "cell_type": "code",
   "execution_count": 29,
   "id": "a30429d2",
   "metadata": {
    "tags": []
   },
   "outputs": [],
   "source": [
    "en_gene_corr = GLSPhenoplier._get_data(\n",
    "    conf.PHENOMEXCAN[\"SMULTIXCAN_EFO_PARTIAL_MASHR_ZSCORES_FILE\"],\n",
    "    model_type=\"ELASTIC_NET\",\n",
    ")[0]"
   ]
  },
  {
   "cell_type": "code",
   "execution_count": 30,
   "id": "01099c8f",
   "metadata": {},
   "outputs": [],
   "source": [
    "_comm_genes = en_gene_corr.index.intersection(smultixcan_results.index)"
   ]
  },
  {
   "cell_type": "code",
   "execution_count": 31,
   "id": "1bfeebfd",
   "metadata": {},
   "outputs": [],
   "source": [
    "en_gene_corr = en_gene_corr.loc[_comm_genes, _comm_genes]"
   ]
  },
  {
   "cell_type": "code",
   "execution_count": 32,
   "id": "ff4e3e67",
   "metadata": {},
   "outputs": [
    {
     "data": {
      "text/plain": [
       "(6324, 6324)"
      ]
     },
     "execution_count": 32,
     "metadata": {},
     "output_type": "execute_result"
    }
   ],
   "source": [
    "en_gene_corr.shape"
   ]
  },
  {
   "cell_type": "code",
   "execution_count": 33,
   "id": "a77ac0cf",
   "metadata": {},
   "outputs": [
    {
     "data": {
      "text/html": [
       "<div>\n",
       "<style scoped>\n",
       "    .dataframe tbody tr th:only-of-type {\n",
       "        vertical-align: middle;\n",
       "    }\n",
       "\n",
       "    .dataframe tbody tr th {\n",
       "        vertical-align: top;\n",
       "    }\n",
       "\n",
       "    .dataframe thead th {\n",
       "        text-align: right;\n",
       "    }\n",
       "</style>\n",
       "<table border=\"1\" class=\"dataframe\">\n",
       "  <thead>\n",
       "    <tr style=\"text-align: right;\">\n",
       "      <th></th>\n",
       "      <th>GAS6</th>\n",
       "      <th>MMP14</th>\n",
       "      <th>DSP</th>\n",
       "      <th>MARCKSL1</th>\n",
       "      <th>SPARC</th>\n",
       "      <th>CTSD</th>\n",
       "      <th>EPAS1</th>\n",
       "      <th>PALLD</th>\n",
       "      <th>PHC2</th>\n",
       "      <th>LGALS3BP</th>\n",
       "      <th>...</th>\n",
       "      <th>LDHB</th>\n",
       "      <th>LDHC</th>\n",
       "      <th>ACAP2</th>\n",
       "      <th>ACAP3</th>\n",
       "      <th>CFL2</th>\n",
       "      <th>CFL1</th>\n",
       "      <th>NFIB</th>\n",
       "      <th>PLEKHG6</th>\n",
       "      <th>GNGT2</th>\n",
       "      <th>SERPINH1</th>\n",
       "    </tr>\n",
       "  </thead>\n",
       "  <tbody>\n",
       "    <tr>\n",
       "      <th>GAS6</th>\n",
       "      <td>1.0</td>\n",
       "      <td>0.0</td>\n",
       "      <td>0.0</td>\n",
       "      <td>0.0</td>\n",
       "      <td>0.0</td>\n",
       "      <td>0.0</td>\n",
       "      <td>0.0</td>\n",
       "      <td>0.0</td>\n",
       "      <td>0.0</td>\n",
       "      <td>0.0</td>\n",
       "      <td>...</td>\n",
       "      <td>0.0</td>\n",
       "      <td>0.0</td>\n",
       "      <td>0.0</td>\n",
       "      <td>0.0</td>\n",
       "      <td>0.000000</td>\n",
       "      <td>0.0</td>\n",
       "      <td>0.0</td>\n",
       "      <td>0.0</td>\n",
       "      <td>0.0</td>\n",
       "      <td>0.0</td>\n",
       "    </tr>\n",
       "    <tr>\n",
       "      <th>MMP14</th>\n",
       "      <td>0.0</td>\n",
       "      <td>1.0</td>\n",
       "      <td>0.0</td>\n",
       "      <td>0.0</td>\n",
       "      <td>0.0</td>\n",
       "      <td>0.0</td>\n",
       "      <td>0.0</td>\n",
       "      <td>0.0</td>\n",
       "      <td>0.0</td>\n",
       "      <td>0.0</td>\n",
       "      <td>...</td>\n",
       "      <td>0.0</td>\n",
       "      <td>0.0</td>\n",
       "      <td>0.0</td>\n",
       "      <td>0.0</td>\n",
       "      <td>-0.000186</td>\n",
       "      <td>0.0</td>\n",
       "      <td>0.0</td>\n",
       "      <td>0.0</td>\n",
       "      <td>0.0</td>\n",
       "      <td>0.0</td>\n",
       "    </tr>\n",
       "    <tr>\n",
       "      <th>DSP</th>\n",
       "      <td>0.0</td>\n",
       "      <td>0.0</td>\n",
       "      <td>1.0</td>\n",
       "      <td>0.0</td>\n",
       "      <td>0.0</td>\n",
       "      <td>0.0</td>\n",
       "      <td>0.0</td>\n",
       "      <td>0.0</td>\n",
       "      <td>0.0</td>\n",
       "      <td>0.0</td>\n",
       "      <td>...</td>\n",
       "      <td>0.0</td>\n",
       "      <td>0.0</td>\n",
       "      <td>0.0</td>\n",
       "      <td>0.0</td>\n",
       "      <td>0.000000</td>\n",
       "      <td>0.0</td>\n",
       "      <td>0.0</td>\n",
       "      <td>0.0</td>\n",
       "      <td>0.0</td>\n",
       "      <td>0.0</td>\n",
       "    </tr>\n",
       "    <tr>\n",
       "      <th>MARCKSL1</th>\n",
       "      <td>0.0</td>\n",
       "      <td>0.0</td>\n",
       "      <td>0.0</td>\n",
       "      <td>1.0</td>\n",
       "      <td>0.0</td>\n",
       "      <td>0.0</td>\n",
       "      <td>0.0</td>\n",
       "      <td>0.0</td>\n",
       "      <td>0.0</td>\n",
       "      <td>0.0</td>\n",
       "      <td>...</td>\n",
       "      <td>0.0</td>\n",
       "      <td>0.0</td>\n",
       "      <td>0.0</td>\n",
       "      <td>0.0</td>\n",
       "      <td>0.000000</td>\n",
       "      <td>0.0</td>\n",
       "      <td>0.0</td>\n",
       "      <td>0.0</td>\n",
       "      <td>0.0</td>\n",
       "      <td>0.0</td>\n",
       "    </tr>\n",
       "    <tr>\n",
       "      <th>SPARC</th>\n",
       "      <td>0.0</td>\n",
       "      <td>0.0</td>\n",
       "      <td>0.0</td>\n",
       "      <td>0.0</td>\n",
       "      <td>1.0</td>\n",
       "      <td>0.0</td>\n",
       "      <td>0.0</td>\n",
       "      <td>0.0</td>\n",
       "      <td>0.0</td>\n",
       "      <td>0.0</td>\n",
       "      <td>...</td>\n",
       "      <td>0.0</td>\n",
       "      <td>0.0</td>\n",
       "      <td>0.0</td>\n",
       "      <td>0.0</td>\n",
       "      <td>0.000000</td>\n",
       "      <td>0.0</td>\n",
       "      <td>0.0</td>\n",
       "      <td>0.0</td>\n",
       "      <td>0.0</td>\n",
       "      <td>0.0</td>\n",
       "    </tr>\n",
       "  </tbody>\n",
       "</table>\n",
       "<p>5 rows × 6324 columns</p>\n",
       "</div>"
      ],
      "text/plain": [
       "          GAS6  MMP14  DSP  MARCKSL1  SPARC  CTSD  EPAS1  PALLD  PHC2  \\\n",
       "GAS6       1.0    0.0  0.0       0.0    0.0   0.0    0.0    0.0   0.0   \n",
       "MMP14      0.0    1.0  0.0       0.0    0.0   0.0    0.0    0.0   0.0   \n",
       "DSP        0.0    0.0  1.0       0.0    0.0   0.0    0.0    0.0   0.0   \n",
       "MARCKSL1   0.0    0.0  0.0       1.0    0.0   0.0    0.0    0.0   0.0   \n",
       "SPARC      0.0    0.0  0.0       0.0    1.0   0.0    0.0    0.0   0.0   \n",
       "\n",
       "          LGALS3BP  ...  LDHB  LDHC  ACAP2  ACAP3      CFL2  CFL1  NFIB  \\\n",
       "GAS6           0.0  ...   0.0   0.0    0.0    0.0  0.000000   0.0   0.0   \n",
       "MMP14          0.0  ...   0.0   0.0    0.0    0.0 -0.000186   0.0   0.0   \n",
       "DSP            0.0  ...   0.0   0.0    0.0    0.0  0.000000   0.0   0.0   \n",
       "MARCKSL1       0.0  ...   0.0   0.0    0.0    0.0  0.000000   0.0   0.0   \n",
       "SPARC          0.0  ...   0.0   0.0    0.0    0.0  0.000000   0.0   0.0   \n",
       "\n",
       "          PLEKHG6  GNGT2  SERPINH1  \n",
       "GAS6          0.0    0.0       0.0  \n",
       "MMP14         0.0    0.0       0.0  \n",
       "DSP           0.0    0.0       0.0  \n",
       "MARCKSL1      0.0    0.0       0.0  \n",
       "SPARC         0.0    0.0       0.0  \n",
       "\n",
       "[5 rows x 6324 columns]"
      ]
     },
     "execution_count": 33,
     "metadata": {},
     "output_type": "execute_result"
    }
   ],
   "source": [
    "en_gene_corr.head()"
   ]
  },
  {
   "cell_type": "code",
   "execution_count": 34,
   "id": "11280b99",
   "metadata": {},
   "outputs": [],
   "source": [
    "from sklearn.cluster import AgglomerativeClustering"
   ]
  },
  {
   "cell_type": "code",
   "execution_count": 35,
   "id": "a61611c6",
   "metadata": {},
   "outputs": [],
   "source": [
    "en_gene_dist = en_gene_corr.abs().copy()\n",
    "np.fill_diagonal(en_gene_dist.values, 0.0)"
   ]
  },
  {
   "cell_type": "code",
   "execution_count": 36,
   "id": "ac5a4346",
   "metadata": {},
   "outputs": [
    {
     "data": {
      "text/html": [
       "<div>\n",
       "<style scoped>\n",
       "    .dataframe tbody tr th:only-of-type {\n",
       "        vertical-align: middle;\n",
       "    }\n",
       "\n",
       "    .dataframe tbody tr th {\n",
       "        vertical-align: top;\n",
       "    }\n",
       "\n",
       "    .dataframe thead th {\n",
       "        text-align: right;\n",
       "    }\n",
       "</style>\n",
       "<table border=\"1\" class=\"dataframe\">\n",
       "  <thead>\n",
       "    <tr style=\"text-align: right;\">\n",
       "      <th></th>\n",
       "      <th>GAS6</th>\n",
       "      <th>MMP14</th>\n",
       "      <th>DSP</th>\n",
       "      <th>MARCKSL1</th>\n",
       "      <th>SPARC</th>\n",
       "      <th>CTSD</th>\n",
       "      <th>EPAS1</th>\n",
       "      <th>PALLD</th>\n",
       "      <th>PHC2</th>\n",
       "      <th>LGALS3BP</th>\n",
       "      <th>...</th>\n",
       "      <th>LDHB</th>\n",
       "      <th>LDHC</th>\n",
       "      <th>ACAP2</th>\n",
       "      <th>ACAP3</th>\n",
       "      <th>CFL2</th>\n",
       "      <th>CFL1</th>\n",
       "      <th>NFIB</th>\n",
       "      <th>PLEKHG6</th>\n",
       "      <th>GNGT2</th>\n",
       "      <th>SERPINH1</th>\n",
       "    </tr>\n",
       "  </thead>\n",
       "  <tbody>\n",
       "    <tr>\n",
       "      <th>GAS6</th>\n",
       "      <td>0.0</td>\n",
       "      <td>0.0</td>\n",
       "      <td>0.0</td>\n",
       "      <td>0.0</td>\n",
       "      <td>0.0</td>\n",
       "      <td>0.000000</td>\n",
       "      <td>0.0</td>\n",
       "      <td>0.0</td>\n",
       "      <td>0.0</td>\n",
       "      <td>0.000000</td>\n",
       "      <td>...</td>\n",
       "      <td>0.000000</td>\n",
       "      <td>0.000000</td>\n",
       "      <td>0.0</td>\n",
       "      <td>0.0</td>\n",
       "      <td>0.000000</td>\n",
       "      <td>0.00000</td>\n",
       "      <td>0.0</td>\n",
       "      <td>0.0</td>\n",
       "      <td>0.0</td>\n",
       "      <td>0.00000</td>\n",
       "    </tr>\n",
       "    <tr>\n",
       "      <th>MMP14</th>\n",
       "      <td>0.0</td>\n",
       "      <td>0.0</td>\n",
       "      <td>0.0</td>\n",
       "      <td>0.0</td>\n",
       "      <td>0.0</td>\n",
       "      <td>0.000000</td>\n",
       "      <td>0.0</td>\n",
       "      <td>0.0</td>\n",
       "      <td>0.0</td>\n",
       "      <td>0.000000</td>\n",
       "      <td>...</td>\n",
       "      <td>0.000000</td>\n",
       "      <td>0.000000</td>\n",
       "      <td>0.0</td>\n",
       "      <td>0.0</td>\n",
       "      <td>0.000186</td>\n",
       "      <td>0.00000</td>\n",
       "      <td>0.0</td>\n",
       "      <td>0.0</td>\n",
       "      <td>0.0</td>\n",
       "      <td>0.00000</td>\n",
       "    </tr>\n",
       "    <tr>\n",
       "      <th>DSP</th>\n",
       "      <td>0.0</td>\n",
       "      <td>0.0</td>\n",
       "      <td>0.0</td>\n",
       "      <td>0.0</td>\n",
       "      <td>0.0</td>\n",
       "      <td>0.000000</td>\n",
       "      <td>0.0</td>\n",
       "      <td>0.0</td>\n",
       "      <td>0.0</td>\n",
       "      <td>0.000000</td>\n",
       "      <td>...</td>\n",
       "      <td>0.000000</td>\n",
       "      <td>0.000000</td>\n",
       "      <td>0.0</td>\n",
       "      <td>0.0</td>\n",
       "      <td>0.000000</td>\n",
       "      <td>0.00000</td>\n",
       "      <td>0.0</td>\n",
       "      <td>0.0</td>\n",
       "      <td>0.0</td>\n",
       "      <td>0.00000</td>\n",
       "    </tr>\n",
       "    <tr>\n",
       "      <th>MARCKSL1</th>\n",
       "      <td>0.0</td>\n",
       "      <td>0.0</td>\n",
       "      <td>0.0</td>\n",
       "      <td>0.0</td>\n",
       "      <td>0.0</td>\n",
       "      <td>0.000000</td>\n",
       "      <td>0.0</td>\n",
       "      <td>0.0</td>\n",
       "      <td>0.0</td>\n",
       "      <td>0.000000</td>\n",
       "      <td>...</td>\n",
       "      <td>0.000000</td>\n",
       "      <td>0.000000</td>\n",
       "      <td>0.0</td>\n",
       "      <td>0.0</td>\n",
       "      <td>0.000000</td>\n",
       "      <td>0.00000</td>\n",
       "      <td>0.0</td>\n",
       "      <td>0.0</td>\n",
       "      <td>0.0</td>\n",
       "      <td>0.00000</td>\n",
       "    </tr>\n",
       "    <tr>\n",
       "      <th>SPARC</th>\n",
       "      <td>0.0</td>\n",
       "      <td>0.0</td>\n",
       "      <td>0.0</td>\n",
       "      <td>0.0</td>\n",
       "      <td>0.0</td>\n",
       "      <td>0.000000</td>\n",
       "      <td>0.0</td>\n",
       "      <td>0.0</td>\n",
       "      <td>0.0</td>\n",
       "      <td>0.000000</td>\n",
       "      <td>...</td>\n",
       "      <td>0.000000</td>\n",
       "      <td>0.000000</td>\n",
       "      <td>0.0</td>\n",
       "      <td>0.0</td>\n",
       "      <td>0.000000</td>\n",
       "      <td>0.00000</td>\n",
       "      <td>0.0</td>\n",
       "      <td>0.0</td>\n",
       "      <td>0.0</td>\n",
       "      <td>0.00000</td>\n",
       "    </tr>\n",
       "    <tr>\n",
       "      <th>...</th>\n",
       "      <td>...</td>\n",
       "      <td>...</td>\n",
       "      <td>...</td>\n",
       "      <td>...</td>\n",
       "      <td>...</td>\n",
       "      <td>...</td>\n",
       "      <td>...</td>\n",
       "      <td>...</td>\n",
       "      <td>...</td>\n",
       "      <td>...</td>\n",
       "      <td>...</td>\n",
       "      <td>...</td>\n",
       "      <td>...</td>\n",
       "      <td>...</td>\n",
       "      <td>...</td>\n",
       "      <td>...</td>\n",
       "      <td>...</td>\n",
       "      <td>...</td>\n",
       "      <td>...</td>\n",
       "      <td>...</td>\n",
       "      <td>...</td>\n",
       "    </tr>\n",
       "    <tr>\n",
       "      <th>CFL1</th>\n",
       "      <td>0.0</td>\n",
       "      <td>0.0</td>\n",
       "      <td>0.0</td>\n",
       "      <td>0.0</td>\n",
       "      <td>0.0</td>\n",
       "      <td>0.002901</td>\n",
       "      <td>0.0</td>\n",
       "      <td>0.0</td>\n",
       "      <td>0.0</td>\n",
       "      <td>0.000000</td>\n",
       "      <td>...</td>\n",
       "      <td>0.000000</td>\n",
       "      <td>0.009373</td>\n",
       "      <td>0.0</td>\n",
       "      <td>0.0</td>\n",
       "      <td>0.000000</td>\n",
       "      <td>0.00000</td>\n",
       "      <td>0.0</td>\n",
       "      <td>0.0</td>\n",
       "      <td>0.0</td>\n",
       "      <td>0.00016</td>\n",
       "    </tr>\n",
       "    <tr>\n",
       "      <th>NFIB</th>\n",
       "      <td>0.0</td>\n",
       "      <td>0.0</td>\n",
       "      <td>0.0</td>\n",
       "      <td>0.0</td>\n",
       "      <td>0.0</td>\n",
       "      <td>0.000000</td>\n",
       "      <td>0.0</td>\n",
       "      <td>0.0</td>\n",
       "      <td>0.0</td>\n",
       "      <td>0.000000</td>\n",
       "      <td>...</td>\n",
       "      <td>0.000000</td>\n",
       "      <td>0.000000</td>\n",
       "      <td>0.0</td>\n",
       "      <td>0.0</td>\n",
       "      <td>0.000000</td>\n",
       "      <td>0.00000</td>\n",
       "      <td>0.0</td>\n",
       "      <td>0.0</td>\n",
       "      <td>0.0</td>\n",
       "      <td>0.00000</td>\n",
       "    </tr>\n",
       "    <tr>\n",
       "      <th>PLEKHG6</th>\n",
       "      <td>0.0</td>\n",
       "      <td>0.0</td>\n",
       "      <td>0.0</td>\n",
       "      <td>0.0</td>\n",
       "      <td>0.0</td>\n",
       "      <td>0.000000</td>\n",
       "      <td>0.0</td>\n",
       "      <td>0.0</td>\n",
       "      <td>0.0</td>\n",
       "      <td>0.000000</td>\n",
       "      <td>...</td>\n",
       "      <td>0.000741</td>\n",
       "      <td>0.000000</td>\n",
       "      <td>0.0</td>\n",
       "      <td>0.0</td>\n",
       "      <td>0.000000</td>\n",
       "      <td>0.00000</td>\n",
       "      <td>0.0</td>\n",
       "      <td>0.0</td>\n",
       "      <td>0.0</td>\n",
       "      <td>0.00000</td>\n",
       "    </tr>\n",
       "    <tr>\n",
       "      <th>GNGT2</th>\n",
       "      <td>0.0</td>\n",
       "      <td>0.0</td>\n",
       "      <td>0.0</td>\n",
       "      <td>0.0</td>\n",
       "      <td>0.0</td>\n",
       "      <td>0.000000</td>\n",
       "      <td>0.0</td>\n",
       "      <td>0.0</td>\n",
       "      <td>0.0</td>\n",
       "      <td>0.002965</td>\n",
       "      <td>...</td>\n",
       "      <td>0.000000</td>\n",
       "      <td>0.000000</td>\n",
       "      <td>0.0</td>\n",
       "      <td>0.0</td>\n",
       "      <td>0.000000</td>\n",
       "      <td>0.00000</td>\n",
       "      <td>0.0</td>\n",
       "      <td>0.0</td>\n",
       "      <td>0.0</td>\n",
       "      <td>0.00000</td>\n",
       "    </tr>\n",
       "    <tr>\n",
       "      <th>SERPINH1</th>\n",
       "      <td>0.0</td>\n",
       "      <td>0.0</td>\n",
       "      <td>0.0</td>\n",
       "      <td>0.0</td>\n",
       "      <td>0.0</td>\n",
       "      <td>0.000471</td>\n",
       "      <td>0.0</td>\n",
       "      <td>0.0</td>\n",
       "      <td>0.0</td>\n",
       "      <td>0.000000</td>\n",
       "      <td>...</td>\n",
       "      <td>0.000000</td>\n",
       "      <td>0.000793</td>\n",
       "      <td>0.0</td>\n",
       "      <td>0.0</td>\n",
       "      <td>0.000000</td>\n",
       "      <td>0.00016</td>\n",
       "      <td>0.0</td>\n",
       "      <td>0.0</td>\n",
       "      <td>0.0</td>\n",
       "      <td>0.00000</td>\n",
       "    </tr>\n",
       "  </tbody>\n",
       "</table>\n",
       "<p>6324 rows × 6324 columns</p>\n",
       "</div>"
      ],
      "text/plain": [
       "          GAS6  MMP14  DSP  MARCKSL1  SPARC      CTSD  EPAS1  PALLD  PHC2  \\\n",
       "GAS6       0.0    0.0  0.0       0.0    0.0  0.000000    0.0    0.0   0.0   \n",
       "MMP14      0.0    0.0  0.0       0.0    0.0  0.000000    0.0    0.0   0.0   \n",
       "DSP        0.0    0.0  0.0       0.0    0.0  0.000000    0.0    0.0   0.0   \n",
       "MARCKSL1   0.0    0.0  0.0       0.0    0.0  0.000000    0.0    0.0   0.0   \n",
       "SPARC      0.0    0.0  0.0       0.0    0.0  0.000000    0.0    0.0   0.0   \n",
       "...        ...    ...  ...       ...    ...       ...    ...    ...   ...   \n",
       "CFL1       0.0    0.0  0.0       0.0    0.0  0.002901    0.0    0.0   0.0   \n",
       "NFIB       0.0    0.0  0.0       0.0    0.0  0.000000    0.0    0.0   0.0   \n",
       "PLEKHG6    0.0    0.0  0.0       0.0    0.0  0.000000    0.0    0.0   0.0   \n",
       "GNGT2      0.0    0.0  0.0       0.0    0.0  0.000000    0.0    0.0   0.0   \n",
       "SERPINH1   0.0    0.0  0.0       0.0    0.0  0.000471    0.0    0.0   0.0   \n",
       "\n",
       "          LGALS3BP  ...      LDHB      LDHC  ACAP2  ACAP3      CFL2     CFL1  \\\n",
       "GAS6      0.000000  ...  0.000000  0.000000    0.0    0.0  0.000000  0.00000   \n",
       "MMP14     0.000000  ...  0.000000  0.000000    0.0    0.0  0.000186  0.00000   \n",
       "DSP       0.000000  ...  0.000000  0.000000    0.0    0.0  0.000000  0.00000   \n",
       "MARCKSL1  0.000000  ...  0.000000  0.000000    0.0    0.0  0.000000  0.00000   \n",
       "SPARC     0.000000  ...  0.000000  0.000000    0.0    0.0  0.000000  0.00000   \n",
       "...            ...  ...       ...       ...    ...    ...       ...      ...   \n",
       "CFL1      0.000000  ...  0.000000  0.009373    0.0    0.0  0.000000  0.00000   \n",
       "NFIB      0.000000  ...  0.000000  0.000000    0.0    0.0  0.000000  0.00000   \n",
       "PLEKHG6   0.000000  ...  0.000741  0.000000    0.0    0.0  0.000000  0.00000   \n",
       "GNGT2     0.002965  ...  0.000000  0.000000    0.0    0.0  0.000000  0.00000   \n",
       "SERPINH1  0.000000  ...  0.000000  0.000793    0.0    0.0  0.000000  0.00016   \n",
       "\n",
       "          NFIB  PLEKHG6  GNGT2  SERPINH1  \n",
       "GAS6       0.0      0.0    0.0   0.00000  \n",
       "MMP14      0.0      0.0    0.0   0.00000  \n",
       "DSP        0.0      0.0    0.0   0.00000  \n",
       "MARCKSL1   0.0      0.0    0.0   0.00000  \n",
       "SPARC      0.0      0.0    0.0   0.00000  \n",
       "...        ...      ...    ...       ...  \n",
       "CFL1       0.0      0.0    0.0   0.00016  \n",
       "NFIB       0.0      0.0    0.0   0.00000  \n",
       "PLEKHG6    0.0      0.0    0.0   0.00000  \n",
       "GNGT2      0.0      0.0    0.0   0.00000  \n",
       "SERPINH1   0.0      0.0    0.0   0.00000  \n",
       "\n",
       "[6324 rows x 6324 columns]"
      ]
     },
     "execution_count": 36,
     "metadata": {},
     "output_type": "execute_result"
    }
   ],
   "source": [
    "en_gene_dist"
   ]
  },
  {
   "cell_type": "code",
   "execution_count": 37,
   "id": "1e4e3106",
   "metadata": {},
   "outputs": [],
   "source": [
    "_tmp = en_gene_dist.unstack()\n",
    "_tmp = _tmp[(_tmp > 0.0) & (_tmp < 1.0)]"
   ]
  },
  {
   "cell_type": "code",
   "execution_count": 38,
   "id": "f984af8a",
   "metadata": {},
   "outputs": [
    {
     "data": {
      "text/plain": [
       "PADI4     POU2F1      1.016482e-09\n",
       "POU2F1    PADI4       1.016482e-09\n",
       "SLC6A6    PRICKLE2    1.415990e-09\n",
       "PRICKLE2  SLC6A6      1.415990e-09\n",
       "ESPL1     CRADD       1.634566e-09\n",
       "                          ...     \n",
       "CYP2D6    NAGA        7.044598e-01\n",
       "ZNF589    NME6        7.159745e-01\n",
       "NME6      ZNF589      7.159745e-01\n",
       "SUOX      RPS26       7.884358e-01\n",
       "RPS26     SUOX        7.884358e-01\n",
       "Length: 1864056, dtype: float32"
      ]
     },
     "execution_count": 38,
     "metadata": {},
     "output_type": "execute_result"
    }
   ],
   "source": [
    "_tmp.sort_values()"
   ]
  },
  {
   "cell_type": "code",
   "execution_count": 39,
   "id": "aadab4d7",
   "metadata": {},
   "outputs": [],
   "source": [
    "ac = AgglomerativeClustering(\n",
    "    n_clusters=None,\n",
    "    compute_full_tree=True,\n",
    "    linkage=\"complete\",\n",
    "    affinity=\"precomputed\",\n",
    "    distance_threshold=1e-100,\n",
    ")"
   ]
  },
  {
   "cell_type": "code",
   "execution_count": 40,
   "id": "9ecc7629",
   "metadata": {},
   "outputs": [
    {
     "data": {
      "text/plain": [
       "AgglomerativeClustering(affinity='precomputed', compute_full_tree=True,\n",
       "                        distance_threshold=1e-100, linkage='complete',\n",
       "                        n_clusters=None)"
      ]
     },
     "execution_count": 40,
     "metadata": {},
     "output_type": "execute_result"
    }
   ],
   "source": [
    "ac.fit(en_gene_dist)"
   ]
  },
  {
   "cell_type": "code",
   "execution_count": 41,
   "id": "83a4ad38",
   "metadata": {},
   "outputs": [
    {
     "data": {
      "text/plain": [
       "141    67\n",
       "285    62\n",
       "244    58\n",
       "236    58\n",
       "98     58\n",
       "       ..\n",
       "388     1\n",
       "384     1\n",
       "365     1\n",
       "377     1\n",
       "391     1\n",
       "Length: 393, dtype: int64"
      ]
     },
     "metadata": {},
     "output_type": "display_data"
    }
   ],
   "source": [
    "gene_part = pd.Series(ac.labels_)\n",
    "display(gene_part.value_counts())"
   ]
  },
  {
   "cell_type": "code",
   "execution_count": 42,
   "id": "bd5f2ed8",
   "metadata": {},
   "outputs": [
    {
     "data": {
      "text/html": [
       "<div>\n",
       "<style scoped>\n",
       "    .dataframe tbody tr th:only-of-type {\n",
       "        vertical-align: middle;\n",
       "    }\n",
       "\n",
       "    .dataframe tbody tr th {\n",
       "        vertical-align: top;\n",
       "    }\n",
       "\n",
       "    .dataframe thead th {\n",
       "        text-align: right;\n",
       "    }\n",
       "</style>\n",
       "<table border=\"1\" class=\"dataframe\">\n",
       "  <thead>\n",
       "    <tr style=\"text-align: right;\">\n",
       "      <th></th>\n",
       "      <th>GAS6</th>\n",
       "      <th>MMP14</th>\n",
       "      <th>DSP</th>\n",
       "      <th>MARCKSL1</th>\n",
       "      <th>SPARC</th>\n",
       "      <th>CTSD</th>\n",
       "      <th>EPAS1</th>\n",
       "      <th>PALLD</th>\n",
       "      <th>PHC2</th>\n",
       "      <th>LGALS3BP</th>\n",
       "      <th>...</th>\n",
       "      <th>AGRP</th>\n",
       "      <th>TRA2A</th>\n",
       "      <th>GH1</th>\n",
       "      <th>OSBP</th>\n",
       "      <th>RPLP1</th>\n",
       "      <th>SEC14L2</th>\n",
       "      <th>GNPNAT1</th>\n",
       "      <th>RPL24</th>\n",
       "      <th>TP53</th>\n",
       "      <th>MVD</th>\n",
       "    </tr>\n",
       "  </thead>\n",
       "  <tbody>\n",
       "    <tr>\n",
       "      <th>GAS6</th>\n",
       "      <td>0.0</td>\n",
       "      <td>0.0</td>\n",
       "      <td>0.0</td>\n",
       "      <td>0.0</td>\n",
       "      <td>0.0</td>\n",
       "      <td>0.0</td>\n",
       "      <td>0.0</td>\n",
       "      <td>0.0</td>\n",
       "      <td>0.0</td>\n",
       "      <td>0.0</td>\n",
       "      <td>...</td>\n",
       "      <td>0.0</td>\n",
       "      <td>0.0</td>\n",
       "      <td>0.0</td>\n",
       "      <td>0.0</td>\n",
       "      <td>0.0</td>\n",
       "      <td>0.0</td>\n",
       "      <td>0.0</td>\n",
       "      <td>0.0</td>\n",
       "      <td>0.0</td>\n",
       "      <td>0.0</td>\n",
       "    </tr>\n",
       "    <tr>\n",
       "      <th>MMP14</th>\n",
       "      <td>0.0</td>\n",
       "      <td>0.0</td>\n",
       "      <td>0.0</td>\n",
       "      <td>0.0</td>\n",
       "      <td>0.0</td>\n",
       "      <td>0.0</td>\n",
       "      <td>0.0</td>\n",
       "      <td>0.0</td>\n",
       "      <td>0.0</td>\n",
       "      <td>0.0</td>\n",
       "      <td>...</td>\n",
       "      <td>0.0</td>\n",
       "      <td>0.0</td>\n",
       "      <td>0.0</td>\n",
       "      <td>0.0</td>\n",
       "      <td>0.0</td>\n",
       "      <td>0.0</td>\n",
       "      <td>0.0</td>\n",
       "      <td>0.0</td>\n",
       "      <td>0.0</td>\n",
       "      <td>0.0</td>\n",
       "    </tr>\n",
       "    <tr>\n",
       "      <th>DSP</th>\n",
       "      <td>0.0</td>\n",
       "      <td>0.0</td>\n",
       "      <td>0.0</td>\n",
       "      <td>0.0</td>\n",
       "      <td>0.0</td>\n",
       "      <td>0.0</td>\n",
       "      <td>0.0</td>\n",
       "      <td>0.0</td>\n",
       "      <td>0.0</td>\n",
       "      <td>0.0</td>\n",
       "      <td>...</td>\n",
       "      <td>0.0</td>\n",
       "      <td>0.0</td>\n",
       "      <td>0.0</td>\n",
       "      <td>0.0</td>\n",
       "      <td>0.0</td>\n",
       "      <td>0.0</td>\n",
       "      <td>0.0</td>\n",
       "      <td>0.0</td>\n",
       "      <td>0.0</td>\n",
       "      <td>0.0</td>\n",
       "    </tr>\n",
       "    <tr>\n",
       "      <th>MARCKSL1</th>\n",
       "      <td>0.0</td>\n",
       "      <td>0.0</td>\n",
       "      <td>0.0</td>\n",
       "      <td>0.0</td>\n",
       "      <td>0.0</td>\n",
       "      <td>0.0</td>\n",
       "      <td>0.0</td>\n",
       "      <td>0.0</td>\n",
       "      <td>0.0</td>\n",
       "      <td>0.0</td>\n",
       "      <td>...</td>\n",
       "      <td>0.0</td>\n",
       "      <td>0.0</td>\n",
       "      <td>0.0</td>\n",
       "      <td>0.0</td>\n",
       "      <td>0.0</td>\n",
       "      <td>0.0</td>\n",
       "      <td>0.0</td>\n",
       "      <td>0.0</td>\n",
       "      <td>0.0</td>\n",
       "      <td>0.0</td>\n",
       "    </tr>\n",
       "    <tr>\n",
       "      <th>SPARC</th>\n",
       "      <td>0.0</td>\n",
       "      <td>0.0</td>\n",
       "      <td>0.0</td>\n",
       "      <td>0.0</td>\n",
       "      <td>0.0</td>\n",
       "      <td>0.0</td>\n",
       "      <td>0.0</td>\n",
       "      <td>0.0</td>\n",
       "      <td>0.0</td>\n",
       "      <td>0.0</td>\n",
       "      <td>...</td>\n",
       "      <td>0.0</td>\n",
       "      <td>0.0</td>\n",
       "      <td>0.0</td>\n",
       "      <td>0.0</td>\n",
       "      <td>0.0</td>\n",
       "      <td>0.0</td>\n",
       "      <td>0.0</td>\n",
       "      <td>0.0</td>\n",
       "      <td>0.0</td>\n",
       "      <td>0.0</td>\n",
       "    </tr>\n",
       "    <tr>\n",
       "      <th>...</th>\n",
       "      <td>...</td>\n",
       "      <td>...</td>\n",
       "      <td>...</td>\n",
       "      <td>...</td>\n",
       "      <td>...</td>\n",
       "      <td>...</td>\n",
       "      <td>...</td>\n",
       "      <td>...</td>\n",
       "      <td>...</td>\n",
       "      <td>...</td>\n",
       "      <td>...</td>\n",
       "      <td>...</td>\n",
       "      <td>...</td>\n",
       "      <td>...</td>\n",
       "      <td>...</td>\n",
       "      <td>...</td>\n",
       "      <td>...</td>\n",
       "      <td>...</td>\n",
       "      <td>...</td>\n",
       "      <td>...</td>\n",
       "      <td>...</td>\n",
       "    </tr>\n",
       "    <tr>\n",
       "      <th>SEC14L2</th>\n",
       "      <td>0.0</td>\n",
       "      <td>0.0</td>\n",
       "      <td>0.0</td>\n",
       "      <td>0.0</td>\n",
       "      <td>0.0</td>\n",
       "      <td>0.0</td>\n",
       "      <td>0.0</td>\n",
       "      <td>0.0</td>\n",
       "      <td>0.0</td>\n",
       "      <td>0.0</td>\n",
       "      <td>...</td>\n",
       "      <td>0.0</td>\n",
       "      <td>0.0</td>\n",
       "      <td>0.0</td>\n",
       "      <td>0.0</td>\n",
       "      <td>0.0</td>\n",
       "      <td>0.0</td>\n",
       "      <td>0.0</td>\n",
       "      <td>0.0</td>\n",
       "      <td>0.0</td>\n",
       "      <td>0.0</td>\n",
       "    </tr>\n",
       "    <tr>\n",
       "      <th>GNPNAT1</th>\n",
       "      <td>0.0</td>\n",
       "      <td>0.0</td>\n",
       "      <td>0.0</td>\n",
       "      <td>0.0</td>\n",
       "      <td>0.0</td>\n",
       "      <td>0.0</td>\n",
       "      <td>0.0</td>\n",
       "      <td>0.0</td>\n",
       "      <td>0.0</td>\n",
       "      <td>0.0</td>\n",
       "      <td>...</td>\n",
       "      <td>0.0</td>\n",
       "      <td>0.0</td>\n",
       "      <td>0.0</td>\n",
       "      <td>0.0</td>\n",
       "      <td>0.0</td>\n",
       "      <td>0.0</td>\n",
       "      <td>0.0</td>\n",
       "      <td>0.0</td>\n",
       "      <td>0.0</td>\n",
       "      <td>0.0</td>\n",
       "    </tr>\n",
       "    <tr>\n",
       "      <th>RPL24</th>\n",
       "      <td>0.0</td>\n",
       "      <td>0.0</td>\n",
       "      <td>0.0</td>\n",
       "      <td>0.0</td>\n",
       "      <td>0.0</td>\n",
       "      <td>0.0</td>\n",
       "      <td>0.0</td>\n",
       "      <td>0.0</td>\n",
       "      <td>0.0</td>\n",
       "      <td>0.0</td>\n",
       "      <td>...</td>\n",
       "      <td>0.0</td>\n",
       "      <td>0.0</td>\n",
       "      <td>0.0</td>\n",
       "      <td>0.0</td>\n",
       "      <td>0.0</td>\n",
       "      <td>0.0</td>\n",
       "      <td>0.0</td>\n",
       "      <td>0.0</td>\n",
       "      <td>0.0</td>\n",
       "      <td>0.0</td>\n",
       "    </tr>\n",
       "    <tr>\n",
       "      <th>TP53</th>\n",
       "      <td>0.0</td>\n",
       "      <td>0.0</td>\n",
       "      <td>0.0</td>\n",
       "      <td>0.0</td>\n",
       "      <td>0.0</td>\n",
       "      <td>0.0</td>\n",
       "      <td>0.0</td>\n",
       "      <td>0.0</td>\n",
       "      <td>0.0</td>\n",
       "      <td>0.0</td>\n",
       "      <td>...</td>\n",
       "      <td>0.0</td>\n",
       "      <td>0.0</td>\n",
       "      <td>0.0</td>\n",
       "      <td>0.0</td>\n",
       "      <td>0.0</td>\n",
       "      <td>0.0</td>\n",
       "      <td>0.0</td>\n",
       "      <td>0.0</td>\n",
       "      <td>0.0</td>\n",
       "      <td>0.0</td>\n",
       "    </tr>\n",
       "    <tr>\n",
       "      <th>MVD</th>\n",
       "      <td>0.0</td>\n",
       "      <td>0.0</td>\n",
       "      <td>0.0</td>\n",
       "      <td>0.0</td>\n",
       "      <td>0.0</td>\n",
       "      <td>0.0</td>\n",
       "      <td>0.0</td>\n",
       "      <td>0.0</td>\n",
       "      <td>0.0</td>\n",
       "      <td>0.0</td>\n",
       "      <td>...</td>\n",
       "      <td>0.0</td>\n",
       "      <td>0.0</td>\n",
       "      <td>0.0</td>\n",
       "      <td>0.0</td>\n",
       "      <td>0.0</td>\n",
       "      <td>0.0</td>\n",
       "      <td>0.0</td>\n",
       "      <td>0.0</td>\n",
       "      <td>0.0</td>\n",
       "      <td>0.0</td>\n",
       "    </tr>\n",
       "  </tbody>\n",
       "</table>\n",
       "<p>67 rows × 67 columns</p>\n",
       "</div>"
      ],
      "text/plain": [
       "          GAS6  MMP14  DSP  MARCKSL1  SPARC  CTSD  EPAS1  PALLD  PHC2  \\\n",
       "GAS6       0.0    0.0  0.0       0.0    0.0   0.0    0.0    0.0   0.0   \n",
       "MMP14      0.0    0.0  0.0       0.0    0.0   0.0    0.0    0.0   0.0   \n",
       "DSP        0.0    0.0  0.0       0.0    0.0   0.0    0.0    0.0   0.0   \n",
       "MARCKSL1   0.0    0.0  0.0       0.0    0.0   0.0    0.0    0.0   0.0   \n",
       "SPARC      0.0    0.0  0.0       0.0    0.0   0.0    0.0    0.0   0.0   \n",
       "...        ...    ...  ...       ...    ...   ...    ...    ...   ...   \n",
       "SEC14L2    0.0    0.0  0.0       0.0    0.0   0.0    0.0    0.0   0.0   \n",
       "GNPNAT1    0.0    0.0  0.0       0.0    0.0   0.0    0.0    0.0   0.0   \n",
       "RPL24      0.0    0.0  0.0       0.0    0.0   0.0    0.0    0.0   0.0   \n",
       "TP53       0.0    0.0  0.0       0.0    0.0   0.0    0.0    0.0   0.0   \n",
       "MVD        0.0    0.0  0.0       0.0    0.0   0.0    0.0    0.0   0.0   \n",
       "\n",
       "          LGALS3BP  ...  AGRP  TRA2A  GH1  OSBP  RPLP1  SEC14L2  GNPNAT1  \\\n",
       "GAS6           0.0  ...   0.0    0.0  0.0   0.0    0.0      0.0      0.0   \n",
       "MMP14          0.0  ...   0.0    0.0  0.0   0.0    0.0      0.0      0.0   \n",
       "DSP            0.0  ...   0.0    0.0  0.0   0.0    0.0      0.0      0.0   \n",
       "MARCKSL1       0.0  ...   0.0    0.0  0.0   0.0    0.0      0.0      0.0   \n",
       "SPARC          0.0  ...   0.0    0.0  0.0   0.0    0.0      0.0      0.0   \n",
       "...            ...  ...   ...    ...  ...   ...    ...      ...      ...   \n",
       "SEC14L2        0.0  ...   0.0    0.0  0.0   0.0    0.0      0.0      0.0   \n",
       "GNPNAT1        0.0  ...   0.0    0.0  0.0   0.0    0.0      0.0      0.0   \n",
       "RPL24          0.0  ...   0.0    0.0  0.0   0.0    0.0      0.0      0.0   \n",
       "TP53           0.0  ...   0.0    0.0  0.0   0.0    0.0      0.0      0.0   \n",
       "MVD            0.0  ...   0.0    0.0  0.0   0.0    0.0      0.0      0.0   \n",
       "\n",
       "          RPL24  TP53  MVD  \n",
       "GAS6        0.0   0.0  0.0  \n",
       "MMP14       0.0   0.0  0.0  \n",
       "DSP         0.0   0.0  0.0  \n",
       "MARCKSL1    0.0   0.0  0.0  \n",
       "SPARC       0.0   0.0  0.0  \n",
       "...         ...   ...  ...  \n",
       "SEC14L2     0.0   0.0  0.0  \n",
       "GNPNAT1     0.0   0.0  0.0  \n",
       "RPL24       0.0   0.0  0.0  \n",
       "TP53        0.0   0.0  0.0  \n",
       "MVD         0.0   0.0  0.0  \n",
       "\n",
       "[67 rows x 67 columns]"
      ]
     },
     "execution_count": 42,
     "metadata": {},
     "output_type": "execute_result"
    }
   ],
   "source": [
    "en_gene_dist.loc[(ac.labels_ == 141), (ac.labels_ == 141)]"
   ]
  },
  {
   "cell_type": "code",
   "execution_count": 43,
   "id": "68f22461",
   "metadata": {},
   "outputs": [],
   "source": [
    "phenotype_gene_clusters = {\n",
    "    cluster_id: smultixcan_results.loc[en_gene_dist.index[gene_part == cluster_id]]\n",
    "    for cluster_id in gene_part.value_counts().index\n",
    "}"
   ]
  },
  {
   "cell_type": "code",
   "execution_count": 44,
   "id": "93fe4e3a",
   "metadata": {},
   "outputs": [
    {
     "data": {
      "text/plain": [
       "GAS6        0.222637\n",
       "MMP14       0.787712\n",
       "DSP         0.152267\n",
       "MARCKSL1    1.260680\n",
       "SPARC       0.437722\n",
       "              ...   \n",
       "SEC14L2     1.189622\n",
       "GNPNAT1     1.474504\n",
       "RPL24       2.842350\n",
       "TP53        0.492931\n",
       "MVD         1.201320\n",
       "Name: zscore, Length: 67, dtype: float64"
      ]
     },
     "execution_count": 44,
     "metadata": {},
     "output_type": "execute_result"
    }
   ],
   "source": [
    "phenotype_gene_clusters[141]"
   ]
  },
  {
   "cell_type": "markdown",
   "id": "45387e07",
   "metadata": {
    "tags": []
   },
   "source": [
    "## Functions"
   ]
  },
  {
   "cell_type": "code",
   "execution_count": 45,
   "id": "04d88b4a",
   "metadata": {},
   "outputs": [],
   "source": [
    "rs = np.random.RandomState(0)"
   ]
  },
  {
   "cell_type": "code",
   "execution_count": 46,
   "id": "69e10174",
   "metadata": {},
   "outputs": [],
   "source": [
    "def get_shuffled_phenotype():\n",
    "    shuffled_gene_clusters = []\n",
    "    for cluster_id, gene_assoc_cluster in phenotype_gene_clusters.items():\n",
    "        gc = gene_assoc_cluster.copy()\n",
    "        rs.shuffle(gc)\n",
    "        shuffled_gene_clusters.append(gc)\n",
    "\n",
    "    return pd.concat(shuffled_gene_clusters)"
   ]
  },
  {
   "cell_type": "code",
   "execution_count": 47,
   "id": "4961c143",
   "metadata": {},
   "outputs": [],
   "source": [
    "def get_df_from_results(results_list):\n",
    "    df = pd.DataFrame(results_list).astype(\n",
    "        {\n",
    "            \"phenotype\": \"category\",\n",
    "            \"lv\": \"category\",\n",
    "        }\n",
    "    )\n",
    "\n",
    "    return df"
   ]
  },
  {
   "cell_type": "markdown",
   "id": "526ed78e",
   "metadata": {
    "papermill": {
     "duration": 0.02416,
     "end_time": "2022-02-24T05:27:19.319988",
     "exception": false,
     "start_time": "2022-02-24T05:27:19.295828",
     "status": "completed"
    },
    "tags": []
   },
   "source": [
    "## Load `phenotype_assocs` and `lv_weights`"
   ]
  },
  {
   "cell_type": "code",
   "execution_count": 48,
   "id": "9c6f38bd",
   "metadata": {
    "papermill": {
     "duration": 2.472304,
     "end_time": "2022-02-24T05:27:21.816899",
     "exception": false,
     "start_time": "2022-02-24T05:27:19.344595",
     "status": "completed"
    },
    "tags": []
   },
   "outputs": [],
   "source": [
    "lv_weights = GLSPhenoplier._get_data(\n",
    "    conf.PHENOMEXCAN[\"SMULTIXCAN_EFO_PARTIAL_MASHR_ZSCORES_FILE\"],\n",
    "    model_type=EQTL_MODEL,\n",
    ")[2]"
   ]
  },
  {
   "cell_type": "code",
   "execution_count": 49,
   "id": "c69b8a75",
   "metadata": {
    "papermill": {
     "duration": 0.045852,
     "end_time": "2022-02-24T05:27:21.894670",
     "exception": false,
     "start_time": "2022-02-24T05:27:21.848818",
     "status": "completed"
    },
    "tags": []
   },
   "outputs": [
    {
     "data": {
      "text/plain": [
       "(6450, 987)"
      ]
     },
     "execution_count": 49,
     "metadata": {},
     "output_type": "execute_result"
    }
   ],
   "source": [
    "lv_weights.shape"
   ]
  },
  {
   "cell_type": "code",
   "execution_count": 50,
   "id": "cd5364b0",
   "metadata": {
    "papermill": {
     "duration": 0.060212,
     "end_time": "2022-02-24T05:27:21.980146",
     "exception": false,
     "start_time": "2022-02-24T05:27:21.919934",
     "status": "completed"
    },
    "tags": []
   },
   "outputs": [
    {
     "data": {
      "text/html": [
       "<div>\n",
       "<style scoped>\n",
       "    .dataframe tbody tr th:only-of-type {\n",
       "        vertical-align: middle;\n",
       "    }\n",
       "\n",
       "    .dataframe tbody tr th {\n",
       "        vertical-align: top;\n",
       "    }\n",
       "\n",
       "    .dataframe thead th {\n",
       "        text-align: right;\n",
       "    }\n",
       "</style>\n",
       "<table border=\"1\" class=\"dataframe\">\n",
       "  <thead>\n",
       "    <tr style=\"text-align: right;\">\n",
       "      <th></th>\n",
       "      <th>LV1</th>\n",
       "      <th>LV2</th>\n",
       "      <th>LV3</th>\n",
       "      <th>LV4</th>\n",
       "      <th>LV5</th>\n",
       "      <th>LV6</th>\n",
       "      <th>LV7</th>\n",
       "      <th>LV8</th>\n",
       "      <th>LV9</th>\n",
       "      <th>LV10</th>\n",
       "      <th>...</th>\n",
       "      <th>LV978</th>\n",
       "      <th>LV979</th>\n",
       "      <th>LV980</th>\n",
       "      <th>LV981</th>\n",
       "      <th>LV982</th>\n",
       "      <th>LV983</th>\n",
       "      <th>LV984</th>\n",
       "      <th>LV985</th>\n",
       "      <th>LV986</th>\n",
       "      <th>LV987</th>\n",
       "    </tr>\n",
       "  </thead>\n",
       "  <tbody>\n",
       "    <tr>\n",
       "      <th>GAS6</th>\n",
       "      <td>0.000000</td>\n",
       "      <td>0.0</td>\n",
       "      <td>0.039438</td>\n",
       "      <td>0.0</td>\n",
       "      <td>0.050476</td>\n",
       "      <td>0.000000</td>\n",
       "      <td>0.0</td>\n",
       "      <td>0.000000</td>\n",
       "      <td>0.590949</td>\n",
       "      <td>0.000000</td>\n",
       "      <td>...</td>\n",
       "      <td>0.050125</td>\n",
       "      <td>0.00000</td>\n",
       "      <td>0.033407</td>\n",
       "      <td>0.000000</td>\n",
       "      <td>0.000000</td>\n",
       "      <td>0.005963</td>\n",
       "      <td>0.347362</td>\n",
       "      <td>0.0</td>\n",
       "      <td>0.000000</td>\n",
       "      <td>0.000000</td>\n",
       "    </tr>\n",
       "    <tr>\n",
       "      <th>MMP14</th>\n",
       "      <td>0.000000</td>\n",
       "      <td>0.0</td>\n",
       "      <td>0.000000</td>\n",
       "      <td>0.0</td>\n",
       "      <td>0.070072</td>\n",
       "      <td>0.000000</td>\n",
       "      <td>0.0</td>\n",
       "      <td>0.004904</td>\n",
       "      <td>1.720179</td>\n",
       "      <td>2.423595</td>\n",
       "      <td>...</td>\n",
       "      <td>0.000000</td>\n",
       "      <td>0.00000</td>\n",
       "      <td>0.001007</td>\n",
       "      <td>0.000000</td>\n",
       "      <td>0.035747</td>\n",
       "      <td>0.000000</td>\n",
       "      <td>0.000000</td>\n",
       "      <td>0.0</td>\n",
       "      <td>0.014978</td>\n",
       "      <td>0.000000</td>\n",
       "    </tr>\n",
       "    <tr>\n",
       "      <th>DSP</th>\n",
       "      <td>0.000000</td>\n",
       "      <td>0.0</td>\n",
       "      <td>0.000000</td>\n",
       "      <td>0.0</td>\n",
       "      <td>0.000000</td>\n",
       "      <td>0.041697</td>\n",
       "      <td>0.0</td>\n",
       "      <td>0.005718</td>\n",
       "      <td>0.000000</td>\n",
       "      <td>0.000000</td>\n",
       "      <td>...</td>\n",
       "      <td>0.020853</td>\n",
       "      <td>0.00000</td>\n",
       "      <td>0.000000</td>\n",
       "      <td>0.000000</td>\n",
       "      <td>0.000000</td>\n",
       "      <td>0.005774</td>\n",
       "      <td>0.000000</td>\n",
       "      <td>0.0</td>\n",
       "      <td>0.000000</td>\n",
       "      <td>0.416405</td>\n",
       "    </tr>\n",
       "    <tr>\n",
       "      <th>MARCKSL1</th>\n",
       "      <td>0.305212</td>\n",
       "      <td>0.0</td>\n",
       "      <td>0.000000</td>\n",
       "      <td>0.0</td>\n",
       "      <td>0.000000</td>\n",
       "      <td>0.000000</td>\n",
       "      <td>0.0</td>\n",
       "      <td>0.000000</td>\n",
       "      <td>0.161843</td>\n",
       "      <td>0.149471</td>\n",
       "      <td>...</td>\n",
       "      <td>0.027134</td>\n",
       "      <td>0.05272</td>\n",
       "      <td>0.000000</td>\n",
       "      <td>0.030189</td>\n",
       "      <td>0.060884</td>\n",
       "      <td>0.000000</td>\n",
       "      <td>0.000000</td>\n",
       "      <td>0.0</td>\n",
       "      <td>0.000000</td>\n",
       "      <td>0.448480</td>\n",
       "    </tr>\n",
       "    <tr>\n",
       "      <th>SPARC</th>\n",
       "      <td>0.000000</td>\n",
       "      <td>0.0</td>\n",
       "      <td>0.000000</td>\n",
       "      <td>0.0</td>\n",
       "      <td>0.000000</td>\n",
       "      <td>0.000000</td>\n",
       "      <td>0.0</td>\n",
       "      <td>0.000000</td>\n",
       "      <td>0.000000</td>\n",
       "      <td>0.014014</td>\n",
       "      <td>...</td>\n",
       "      <td>0.000000</td>\n",
       "      <td>0.00000</td>\n",
       "      <td>0.000000</td>\n",
       "      <td>0.000000</td>\n",
       "      <td>0.000000</td>\n",
       "      <td>0.000000</td>\n",
       "      <td>0.067779</td>\n",
       "      <td>0.0</td>\n",
       "      <td>0.122417</td>\n",
       "      <td>0.062665</td>\n",
       "    </tr>\n",
       "  </tbody>\n",
       "</table>\n",
       "<p>5 rows × 987 columns</p>\n",
       "</div>"
      ],
      "text/plain": [
       "               LV1  LV2       LV3  LV4       LV5       LV6  LV7       LV8  \\\n",
       "GAS6      0.000000  0.0  0.039438  0.0  0.050476  0.000000  0.0  0.000000   \n",
       "MMP14     0.000000  0.0  0.000000  0.0  0.070072  0.000000  0.0  0.004904   \n",
       "DSP       0.000000  0.0  0.000000  0.0  0.000000  0.041697  0.0  0.005718   \n",
       "MARCKSL1  0.305212  0.0  0.000000  0.0  0.000000  0.000000  0.0  0.000000   \n",
       "SPARC     0.000000  0.0  0.000000  0.0  0.000000  0.000000  0.0  0.000000   \n",
       "\n",
       "               LV9      LV10  ...     LV978    LV979     LV980     LV981  \\\n",
       "GAS6      0.590949  0.000000  ...  0.050125  0.00000  0.033407  0.000000   \n",
       "MMP14     1.720179  2.423595  ...  0.000000  0.00000  0.001007  0.000000   \n",
       "DSP       0.000000  0.000000  ...  0.020853  0.00000  0.000000  0.000000   \n",
       "MARCKSL1  0.161843  0.149471  ...  0.027134  0.05272  0.000000  0.030189   \n",
       "SPARC     0.000000  0.014014  ...  0.000000  0.00000  0.000000  0.000000   \n",
       "\n",
       "             LV982     LV983     LV984  LV985     LV986     LV987  \n",
       "GAS6      0.000000  0.005963  0.347362    0.0  0.000000  0.000000  \n",
       "MMP14     0.035747  0.000000  0.000000    0.0  0.014978  0.000000  \n",
       "DSP       0.000000  0.005774  0.000000    0.0  0.000000  0.416405  \n",
       "MARCKSL1  0.060884  0.000000  0.000000    0.0  0.000000  0.448480  \n",
       "SPARC     0.000000  0.000000  0.067779    0.0  0.122417  0.062665  \n",
       "\n",
       "[5 rows x 987 columns]"
      ]
     },
     "execution_count": 50,
     "metadata": {},
     "output_type": "execute_result"
    }
   ],
   "source": [
    "lv_weights.head()"
   ]
  },
  {
   "cell_type": "markdown",
   "id": "7277382b",
   "metadata": {
    "tags": []
   },
   "source": [
    "## Generate simulated phenotypes"
   ]
  },
  {
   "cell_type": "code",
   "execution_count": 51,
   "id": "8350226d",
   "metadata": {},
   "outputs": [
    {
     "name": "stderr",
     "output_type": "stream",
     "text": [
      "100%|██████████| 2/2 [00:00<00:00,  7.48it/s]\n"
     ]
    }
   ],
   "source": [
    "# phenotype_codes = rs.choice(phenotype_list, size=N_SIMULATED_PHENOTYPES, replace=False)\n",
    "# display(phenotype_codes[:3])\n",
    "# display(len(phenotype_codes))\n",
    "# assert len(phenotype_codes) == N_SIMULATED_PHENOTYPES\n",
    "\n",
    "simulated_phenotypes = {\n",
    "    \"smultixcan phenotype 0\": smultixcan_results.loc[en_gene_dist.index]\n",
    "}\n",
    "\n",
    "for idx in tqdm(range(1, N_SIMULATED_PHENOTYPES)):\n",
    "    simulated_phenotypes[f\"smultixcan phenotype {idx}\"] = get_shuffled_phenotype()"
   ]
  },
  {
   "cell_type": "code",
   "execution_count": 52,
   "id": "f4d15058",
   "metadata": {},
   "outputs": [
    {
     "data": {
      "text/plain": [
       "3"
      ]
     },
     "metadata": {},
     "output_type": "display_data"
    }
   ],
   "source": [
    "display(len(simulated_phenotypes))\n",
    "assert len(simulated_phenotypes) == N_SIMULATED_PHENOTYPES"
   ]
  },
  {
   "cell_type": "code",
   "execution_count": 53,
   "id": "d2b05c14",
   "metadata": {},
   "outputs": [
    {
     "data": {
      "text/plain": [
       "GAS6        0.222637\n",
       "MMP14       0.787712\n",
       "DSP         0.152267\n",
       "MARCKSL1    1.260680\n",
       "SPARC       0.437722\n",
       "              ...   \n",
       "CFL1        0.542548\n",
       "NFIB        1.618520\n",
       "PLEKHG6     1.668045\n",
       "GNGT2       0.281426\n",
       "SERPINH1    1.165463\n",
       "Name: zscore, Length: 6324, dtype: float64"
      ]
     },
     "execution_count": 53,
     "metadata": {},
     "output_type": "execute_result"
    }
   ],
   "source": [
    "simulated_phenotypes[list(simulated_phenotypes.keys())[0]]"
   ]
  },
  {
   "cell_type": "code",
   "execution_count": 54,
   "id": "d3fe4066",
   "metadata": {},
   "outputs": [],
   "source": [
    "simulated_phenotypes = pd.DataFrame(simulated_phenotypes)"
   ]
  },
  {
   "cell_type": "code",
   "execution_count": 55,
   "id": "91ed471d",
   "metadata": {
    "papermill": {
     "duration": 276.976752,
     "end_time": "2022-02-24T05:31:59.142157",
     "exception": false,
     "start_time": "2022-02-24T05:27:22.165405",
     "status": "completed"
    }
   },
   "outputs": [
    {
     "data": {
      "text/plain": [
       "(6324, 3)"
      ]
     },
     "execution_count": 55,
     "metadata": {},
     "output_type": "execute_result"
    }
   ],
   "source": [
    "simulated_phenotypes.shape"
   ]
  },
  {
   "cell_type": "code",
   "execution_count": 56,
   "id": "6751be73",
   "metadata": {
    "papermill": {
     "duration": 0.063485,
     "end_time": "2022-02-24T05:31:59.250438",
     "exception": false,
     "start_time": "2022-02-24T05:31:59.186953",
     "status": "completed"
    }
   },
   "outputs": [
    {
     "data": {
      "text/html": [
       "<div>\n",
       "<style scoped>\n",
       "    .dataframe tbody tr th:only-of-type {\n",
       "        vertical-align: middle;\n",
       "    }\n",
       "\n",
       "    .dataframe tbody tr th {\n",
       "        vertical-align: top;\n",
       "    }\n",
       "\n",
       "    .dataframe thead th {\n",
       "        text-align: right;\n",
       "    }\n",
       "</style>\n",
       "<table border=\"1\" class=\"dataframe\">\n",
       "  <thead>\n",
       "    <tr style=\"text-align: right;\">\n",
       "      <th></th>\n",
       "      <th>smultixcan phenotype 0</th>\n",
       "      <th>smultixcan phenotype 1</th>\n",
       "      <th>smultixcan phenotype 2</th>\n",
       "    </tr>\n",
       "  </thead>\n",
       "  <tbody>\n",
       "    <tr>\n",
       "      <th>A2M</th>\n",
       "      <td>2.433496</td>\n",
       "      <td>0.223408</td>\n",
       "      <td>0.071316</td>\n",
       "    </tr>\n",
       "    <tr>\n",
       "      <th>AAAS</th>\n",
       "      <td>0.431296</td>\n",
       "      <td>0.280974</td>\n",
       "      <td>1.396637</td>\n",
       "    </tr>\n",
       "    <tr>\n",
       "      <th>AANAT</th>\n",
       "      <td>1.879649</td>\n",
       "      <td>0.965143</td>\n",
       "      <td>0.471657</td>\n",
       "    </tr>\n",
       "    <tr>\n",
       "      <th>AARS</th>\n",
       "      <td>0.948317</td>\n",
       "      <td>0.398447</td>\n",
       "      <td>0.697730</td>\n",
       "    </tr>\n",
       "    <tr>\n",
       "      <th>AARS2</th>\n",
       "      <td>0.114650</td>\n",
       "      <td>1.192372</td>\n",
       "      <td>1.687682</td>\n",
       "    </tr>\n",
       "  </tbody>\n",
       "</table>\n",
       "</div>"
      ],
      "text/plain": [
       "       smultixcan phenotype 0  smultixcan phenotype 1  smultixcan phenotype 2\n",
       "A2M                  2.433496                0.223408                0.071316\n",
       "AAAS                 0.431296                0.280974                1.396637\n",
       "AANAT                1.879649                0.965143                0.471657\n",
       "AARS                 0.948317                0.398447                0.697730\n",
       "AARS2                0.114650                1.192372                1.687682"
      ]
     },
     "execution_count": 56,
     "metadata": {},
     "output_type": "execute_result"
    }
   ],
   "source": [
    "simulated_phenotypes.head()"
   ]
  },
  {
   "cell_type": "code",
   "execution_count": 57,
   "id": "d94cc071",
   "metadata": {},
   "outputs": [
    {
     "data": {
      "text/html": [
       "<div>\n",
       "<style scoped>\n",
       "    .dataframe tbody tr th:only-of-type {\n",
       "        vertical-align: middle;\n",
       "    }\n",
       "\n",
       "    .dataframe tbody tr th {\n",
       "        vertical-align: top;\n",
       "    }\n",
       "\n",
       "    .dataframe thead th {\n",
       "        text-align: right;\n",
       "    }\n",
       "</style>\n",
       "<table border=\"1\" class=\"dataframe\">\n",
       "  <thead>\n",
       "    <tr style=\"text-align: right;\">\n",
       "      <th></th>\n",
       "      <th>smultixcan phenotype 0</th>\n",
       "      <th>smultixcan phenotype 1</th>\n",
       "      <th>smultixcan phenotype 2</th>\n",
       "    </tr>\n",
       "  </thead>\n",
       "  <tbody>\n",
       "    <tr>\n",
       "      <th>count</th>\n",
       "      <td>6324.000000</td>\n",
       "      <td>6324.000000</td>\n",
       "      <td>6324.000000</td>\n",
       "    </tr>\n",
       "    <tr>\n",
       "      <th>mean</th>\n",
       "      <td>0.804025</td>\n",
       "      <td>0.804025</td>\n",
       "      <td>0.804025</td>\n",
       "    </tr>\n",
       "    <tr>\n",
       "      <th>std</th>\n",
       "      <td>0.605742</td>\n",
       "      <td>0.605742</td>\n",
       "      <td>0.605742</td>\n",
       "    </tr>\n",
       "    <tr>\n",
       "      <th>min</th>\n",
       "      <td>0.000122</td>\n",
       "      <td>0.000122</td>\n",
       "      <td>0.000122</td>\n",
       "    </tr>\n",
       "    <tr>\n",
       "      <th>25%</th>\n",
       "      <td>0.319450</td>\n",
       "      <td>0.319450</td>\n",
       "      <td>0.319450</td>\n",
       "    </tr>\n",
       "    <tr>\n",
       "      <th>50%</th>\n",
       "      <td>0.679934</td>\n",
       "      <td>0.679934</td>\n",
       "      <td>0.679934</td>\n",
       "    </tr>\n",
       "    <tr>\n",
       "      <th>75%</th>\n",
       "      <td>1.159146</td>\n",
       "      <td>1.159146</td>\n",
       "      <td>1.159146</td>\n",
       "    </tr>\n",
       "    <tr>\n",
       "      <th>max</th>\n",
       "      <td>3.583010</td>\n",
       "      <td>3.583010</td>\n",
       "      <td>3.583010</td>\n",
       "    </tr>\n",
       "  </tbody>\n",
       "</table>\n",
       "</div>"
      ],
      "text/plain": [
       "       smultixcan phenotype 0  smultixcan phenotype 1  smultixcan phenotype 2\n",
       "count             6324.000000             6324.000000             6324.000000\n",
       "mean                 0.804025                0.804025                0.804025\n",
       "std                  0.605742                0.605742                0.605742\n",
       "min                  0.000122                0.000122                0.000122\n",
       "25%                  0.319450                0.319450                0.319450\n",
       "50%                  0.679934                0.679934                0.679934\n",
       "75%                  1.159146                1.159146                1.159146\n",
       "max                  3.583010                3.583010                3.583010"
      ]
     },
     "execution_count": 57,
     "metadata": {},
     "output_type": "execute_result"
    }
   ],
   "source": [
    "simulated_phenotypes.describe()"
   ]
  },
  {
   "cell_type": "markdown",
   "id": "435e93ab",
   "metadata": {
    "tags": []
   },
   "source": [
    "## Merge simulated phenotypes and LVs into one dataframe"
   ]
  },
  {
   "cell_type": "code",
   "execution_count": 58,
   "id": "8abbdc2f",
   "metadata": {},
   "outputs": [],
   "source": [
    "# smultixcan_results = smultixcan_results.loc[smultixcan_results.index.intersection(lv_weights.index)]"
   ]
  },
  {
   "cell_type": "code",
   "execution_count": 59,
   "id": "31fbca3d",
   "metadata": {},
   "outputs": [],
   "source": [
    "# smultixcan_results.shape"
   ]
  },
  {
   "cell_type": "code",
   "execution_count": 60,
   "id": "21d69b3d",
   "metadata": {},
   "outputs": [],
   "source": [
    "# smultixcan_results.head()"
   ]
  },
  {
   "cell_type": "code",
   "execution_count": 61,
   "id": "c67f0a0a",
   "metadata": {},
   "outputs": [],
   "source": [
    "# assert not smultixcan_results.isna().any()"
   ]
  },
  {
   "cell_type": "code",
   "execution_count": 62,
   "id": "b4daf51f",
   "metadata": {},
   "outputs": [],
   "source": [
    "# simulated_phenotypes = pd.DataFrame({\"smultixcan_random_phenotype\": smultixcan_results})"
   ]
  },
  {
   "cell_type": "code",
   "execution_count": 63,
   "id": "6b68164c",
   "metadata": {},
   "outputs": [],
   "source": [
    "# simulated_phenotypes.shape"
   ]
  },
  {
   "cell_type": "code",
   "execution_count": 64,
   "id": "75056f2b",
   "metadata": {},
   "outputs": [],
   "source": [
    "# simulated_phenotypes.head()"
   ]
  },
  {
   "cell_type": "code",
   "execution_count": 65,
   "id": "3a1b49cc",
   "metadata": {},
   "outputs": [],
   "source": [
    "run_confs = pd.DataFrame(\n",
    "    data=itertools.product(\n",
    "        list(simulated_phenotypes.columns), list(lv_weights.columns)\n",
    "    ),\n",
    "    columns=[\"phenotype\", \"lv\"],\n",
    ")"
   ]
  },
  {
   "cell_type": "code",
   "execution_count": 66,
   "id": "ac0b9709",
   "metadata": {},
   "outputs": [
    {
     "data": {
      "text/html": [
       "<div>\n",
       "<style scoped>\n",
       "    .dataframe tbody tr th:only-of-type {\n",
       "        vertical-align: middle;\n",
       "    }\n",
       "\n",
       "    .dataframe tbody tr th {\n",
       "        vertical-align: top;\n",
       "    }\n",
       "\n",
       "    .dataframe thead th {\n",
       "        text-align: right;\n",
       "    }\n",
       "</style>\n",
       "<table border=\"1\" class=\"dataframe\">\n",
       "  <thead>\n",
       "    <tr style=\"text-align: right;\">\n",
       "      <th></th>\n",
       "      <th>phenotype</th>\n",
       "      <th>lv</th>\n",
       "    </tr>\n",
       "  </thead>\n",
       "  <tbody>\n",
       "    <tr>\n",
       "      <th>0</th>\n",
       "      <td>smultixcan phenotype 0</td>\n",
       "      <td>LV1</td>\n",
       "    </tr>\n",
       "    <tr>\n",
       "      <th>1</th>\n",
       "      <td>smultixcan phenotype 0</td>\n",
       "      <td>LV2</td>\n",
       "    </tr>\n",
       "    <tr>\n",
       "      <th>2</th>\n",
       "      <td>smultixcan phenotype 0</td>\n",
       "      <td>LV3</td>\n",
       "    </tr>\n",
       "    <tr>\n",
       "      <th>3</th>\n",
       "      <td>smultixcan phenotype 0</td>\n",
       "      <td>LV4</td>\n",
       "    </tr>\n",
       "    <tr>\n",
       "      <th>4</th>\n",
       "      <td>smultixcan phenotype 0</td>\n",
       "      <td>LV5</td>\n",
       "    </tr>\n",
       "    <tr>\n",
       "      <th>...</th>\n",
       "      <td>...</td>\n",
       "      <td>...</td>\n",
       "    </tr>\n",
       "    <tr>\n",
       "      <th>2956</th>\n",
       "      <td>smultixcan phenotype 2</td>\n",
       "      <td>LV983</td>\n",
       "    </tr>\n",
       "    <tr>\n",
       "      <th>2957</th>\n",
       "      <td>smultixcan phenotype 2</td>\n",
       "      <td>LV984</td>\n",
       "    </tr>\n",
       "    <tr>\n",
       "      <th>2958</th>\n",
       "      <td>smultixcan phenotype 2</td>\n",
       "      <td>LV985</td>\n",
       "    </tr>\n",
       "    <tr>\n",
       "      <th>2959</th>\n",
       "      <td>smultixcan phenotype 2</td>\n",
       "      <td>LV986</td>\n",
       "    </tr>\n",
       "    <tr>\n",
       "      <th>2960</th>\n",
       "      <td>smultixcan phenotype 2</td>\n",
       "      <td>LV987</td>\n",
       "    </tr>\n",
       "  </tbody>\n",
       "</table>\n",
       "<p>2961 rows × 2 columns</p>\n",
       "</div>"
      ],
      "text/plain": [
       "                   phenotype     lv\n",
       "0     smultixcan phenotype 0    LV1\n",
       "1     smultixcan phenotype 0    LV2\n",
       "2     smultixcan phenotype 0    LV3\n",
       "3     smultixcan phenotype 0    LV4\n",
       "4     smultixcan phenotype 0    LV5\n",
       "...                      ...    ...\n",
       "2956  smultixcan phenotype 2  LV983\n",
       "2957  smultixcan phenotype 2  LV984\n",
       "2958  smultixcan phenotype 2  LV985\n",
       "2959  smultixcan phenotype 2  LV986\n",
       "2960  smultixcan phenotype 2  LV987\n",
       "\n",
       "[2961 rows x 2 columns]"
      ]
     },
     "execution_count": 66,
     "metadata": {},
     "output_type": "execute_result"
    }
   ],
   "source": [
    "run_confs"
   ]
  },
  {
   "cell_type": "markdown",
   "id": "ad4e746b",
   "metadata": {
    "papermill": {
     "duration": 0.025213,
     "end_time": "2022-02-24T05:27:22.031914",
     "exception": false,
     "start_time": "2022-02-24T05:27:22.006701",
     "status": "completed"
    },
    "tags": []
   },
   "source": [
    "## Split run configurations"
   ]
  },
  {
   "cell_type": "code",
   "execution_count": 67,
   "id": "d5d14244",
   "metadata": {},
   "outputs": [],
   "source": [
    "run_confs_chunks = chunker(run_confs.sample(frac=1, random_state=rs), CHUNK_SIZE)"
   ]
  },
  {
   "cell_type": "markdown",
   "id": "5c746588",
   "metadata": {
    "papermill": {
     "duration": 0.025213,
     "end_time": "2022-02-24T05:27:22.031914",
     "exception": false,
     "start_time": "2022-02-24T05:27:22.006701",
     "status": "completed"
    },
    "tags": []
   },
   "source": [
    "## Run"
   ]
  },
  {
   "cell_type": "code",
   "execution_count": 68,
   "id": "d56a948a",
   "metadata": {},
   "outputs": [],
   "source": [
    "def run(run_confs_subset):\n",
    "    results = []\n",
    "\n",
    "    for phenotype_code, lv_code in run_confs_subset.itertuples(name=None, index=False):\n",
    "        phenotype = simulated_phenotypes[phenotype_code]\n",
    "\n",
    "        gls_model = GLSPhenoplier(\n",
    "            smultixcan_result_set_filepath=conf.PHENOMEXCAN[\n",
    "                \"SMULTIXCAN_EFO_PARTIAL_MASHR_ZSCORES_FILE\"\n",
    "            ],\n",
    "            model_type=EQTL_MODEL,\n",
    "        )\n",
    "        gls_model.fit_named(lv_code, phenotype)\n",
    "        res = gls_model.results\n",
    "\n",
    "        results.append(\n",
    "            {\n",
    "                \"phenotype\": phenotype_code,\n",
    "                \"lv\": lv_code,\n",
    "                \"coef\": res.params.loc[\"lv\"],\n",
    "                \"pvalue\": res.pvalues_onesided.loc[\"lv\"],\n",
    "            }\n",
    "        )\n",
    "\n",
    "    return get_df_from_results(results)"
   ]
  },
  {
   "cell_type": "code",
   "execution_count": null,
   "id": "65f4c86b",
   "metadata": {
    "tags": []
   },
   "outputs": [
    {
     "name": "stderr",
     "output_type": "stream",
     "text": [
      " 15%|█▌        | 450/2961 [1:20:42<7:30:22, 10.76s/it] \n",
      "[2022-03-01 23:53:23,776 - root] ERROR: Internal Python error in the inspect module.\n",
      "Below is the traceback from this internal error.\n",
      "\n",
      "[2022-03-01 23:53:23,786 - root] INFO: \n",
      "Unfortunately, your original traceback can not be constructed.\n",
      "\n",
      "[2022-03-01 23:53:23,948 - root] ERROR: Internal Python error in the inspect module.\n",
      "Below is the traceback from this internal error.\n",
      "\n",
      "[2022-03-01 23:53:23,958 - root] INFO: \n",
      "Unfortunately, your original traceback can not be constructed.\n",
      "\n"
     ]
    },
    {
     "name": "stdout",
     "output_type": "stream",
     "text": [
      "Traceback (most recent call last):\n",
      "  File \"/tmp/ipykernel_845/2092982829.py\", line 7, in <module>\n",
      "    for future in as_completed(tasks):\n",
      "  File \"/opt/conda/envs/phenoplier/lib/python3.8/concurrent/futures/_base.py\", line 244, in as_completed\n",
      "    waiter.event.wait(wait_timeout)\n",
      "  File \"/opt/conda/envs/phenoplier/lib/python3.8/threading.py\", line 558, in wait\n",
      "    signaled = self._cond.wait(timeout)\n",
      "  File \"/opt/conda/envs/phenoplier/lib/python3.8/threading.py\", line 302, in wait\n",
      "    waiter.acquire()\n",
      "KeyboardInterrupt\n",
      "\n",
      "During handling of the above exception, another exception occurred:\n",
      "\n",
      "Traceback (most recent call last):\n",
      "  File \"/opt/conda/envs/phenoplier/lib/python3.8/site-packages/IPython/core/interactiveshell.py\", line 3457, in run_code\n",
      "    exec(code_obj, self.user_global_ns, self.user_ns)\n",
      "  File \"/tmp/ipykernel_845/2092982829.py\", line 15, in <module>\n",
      "    pbar.update(res.shape[0])\n",
      "  File \"/opt/conda/envs/phenoplier/lib/python3.8/concurrent/futures/_base.py\", line 644, in __exit__\n",
      "    self.shutdown(wait=True)\n",
      "  File \"/opt/conda/envs/phenoplier/lib/python3.8/concurrent/futures/process.py\", line 686, in shutdown\n",
      "    self._queue_management_thread.join()\n",
      "  File \"/opt/conda/envs/phenoplier/lib/python3.8/threading.py\", line 1011, in join\n",
      "    self._wait_for_tstate_lock()\n",
      "  File \"/opt/conda/envs/phenoplier/lib/python3.8/threading.py\", line 1027, in _wait_for_tstate_lock\n",
      "    elif lock.acquire(block, timeout):\n",
      "KeyboardInterrupt\n",
      "\n",
      "During handling of the above exception, another exception occurred:\n",
      "\n",
      "Traceback (most recent call last):\n",
      "  File \"/opt/conda/envs/phenoplier/lib/python3.8/site-packages/IPython/core/interactiveshell.py\", line 2077, in showtraceback\n",
      "    stb = value._render_traceback_()\n",
      "AttributeError: 'KeyboardInterrupt' object has no attribute '_render_traceback_'\n",
      "\n",
      "During handling of the above exception, another exception occurred:\n",
      "\n",
      "Traceback (most recent call last):\n",
      "  File \"/opt/conda/envs/phenoplier/lib/python3.8/site-packages/IPython/core/ultratb.py\", line 1101, in get_records\n",
      "    return _fixed_getinnerframes(etb, number_of_lines_of_context, tb_offset)\n",
      "  File \"/opt/conda/envs/phenoplier/lib/python3.8/site-packages/IPython/core/ultratb.py\", line 248, in wrapped\n",
      "    return f(*args, **kwargs)\n",
      "  File \"/opt/conda/envs/phenoplier/lib/python3.8/site-packages/IPython/core/ultratb.py\", line 281, in _fixed_getinnerframes\n",
      "    records = fix_frame_records_filenames(inspect.getinnerframes(etb, context))\n",
      "  File \"/opt/conda/envs/phenoplier/lib/python3.8/inspect.py\", line 1515, in getinnerframes\n",
      "    frameinfo = (tb.tb_frame,) + getframeinfo(tb, context)\n",
      "  File \"/opt/conda/envs/phenoplier/lib/python3.8/inspect.py\", line 1473, in getframeinfo\n",
      "    filename = getsourcefile(frame) or getfile(frame)\n",
      "  File \"/opt/conda/envs/phenoplier/lib/python3.8/inspect.py\", line 708, in getsourcefile\n",
      "    if getattr(getmodule(object, filename), '__loader__', None) is not None:\n",
      "  File \"/opt/conda/envs/phenoplier/lib/python3.8/inspect.py\", line 754, in getmodule\n",
      "    os.path.realpath(f)] = module.__name__\n",
      "  File \"/opt/conda/envs/phenoplier/lib/python3.8/posixpath.py\", line 391, in realpath\n",
      "    path, ok = _joinrealpath(filename[:0], filename, {})\n",
      "  File \"/opt/conda/envs/phenoplier/lib/python3.8/posixpath.py\", line 425, in _joinrealpath\n",
      "    if not islink(newpath):\n",
      "  File \"/opt/conda/envs/phenoplier/lib/python3.8/posixpath.py\", line 167, in islink\n",
      "    st = os.lstat(path)\n",
      "KeyboardInterrupt\n",
      "Traceback (most recent call last):\n",
      "  File \"/tmp/ipykernel_845/2092982829.py\", line 7, in <module>\n",
      "    for future in as_completed(tasks):\n",
      "  File \"/opt/conda/envs/phenoplier/lib/python3.8/concurrent/futures/_base.py\", line 244, in as_completed\n",
      "    waiter.event.wait(wait_timeout)\n",
      "  File \"/opt/conda/envs/phenoplier/lib/python3.8/threading.py\", line 558, in wait\n",
      "    signaled = self._cond.wait(timeout)\n",
      "  File \"/opt/conda/envs/phenoplier/lib/python3.8/threading.py\", line 302, in wait\n",
      "    waiter.acquire()\n",
      "KeyboardInterrupt\n",
      "\n",
      "During handling of the above exception, another exception occurred:\n",
      "\n",
      "Traceback (most recent call last):\n",
      "  File \"/opt/conda/envs/phenoplier/lib/python3.8/site-packages/IPython/core/interactiveshell.py\", line 3457, in run_code\n",
      "    exec(code_obj, self.user_global_ns, self.user_ns)\n",
      "  File \"/tmp/ipykernel_845/2092982829.py\", line 15, in <module>\n",
      "    pbar.update(res.shape[0])\n",
      "  File \"/opt/conda/envs/phenoplier/lib/python3.8/concurrent/futures/_base.py\", line 644, in __exit__\n",
      "    self.shutdown(wait=True)\n",
      "  File \"/opt/conda/envs/phenoplier/lib/python3.8/concurrent/futures/process.py\", line 686, in shutdown\n",
      "    self._queue_management_thread.join()\n",
      "  File \"/opt/conda/envs/phenoplier/lib/python3.8/threading.py\", line 1011, in join\n",
      "    self._wait_for_tstate_lock()\n",
      "  File \"/opt/conda/envs/phenoplier/lib/python3.8/threading.py\", line 1027, in _wait_for_tstate_lock\n",
      "    elif lock.acquire(block, timeout):\n",
      "KeyboardInterrupt\n",
      "\n",
      "During handling of the above exception, another exception occurred:\n",
      "\n",
      "Traceback (most recent call last):\n",
      "  File \"/opt/conda/envs/phenoplier/lib/python3.8/site-packages/IPython/core/interactiveshell.py\", line 2077, in showtraceback\n",
      "    stb = value._render_traceback_()\n",
      "AttributeError: 'KeyboardInterrupt' object has no attribute '_render_traceback_'\n",
      "\n",
      "During handling of the above exception, another exception occurred:\n",
      "\n",
      "Traceback (most recent call last):\n",
      "  File \"/opt/conda/envs/phenoplier/lib/python3.8/site-packages/IPython/core/interactiveshell.py\", line 3377, in run_ast_nodes\n",
      "    if (await self.run_code(code, result,  async_=asy)):\n",
      "  File \"/opt/conda/envs/phenoplier/lib/python3.8/site-packages/IPython/core/interactiveshell.py\", line 3474, in run_code\n",
      "    self.showtraceback(running_compiled_code=True)\n",
      "  File \"/opt/conda/envs/phenoplier/lib/python3.8/site-packages/IPython/core/interactiveshell.py\", line 2079, in showtraceback\n",
      "    stb = self.InteractiveTB.structured_traceback(etype,\n",
      "  File \"/opt/conda/envs/phenoplier/lib/python3.8/site-packages/IPython/core/ultratb.py\", line 1367, in structured_traceback\n",
      "    return FormattedTB.structured_traceback(\n",
      "  File \"/opt/conda/envs/phenoplier/lib/python3.8/site-packages/IPython/core/ultratb.py\", line 1267, in structured_traceback\n",
      "    return VerboseTB.structured_traceback(\n",
      "  File \"/opt/conda/envs/phenoplier/lib/python3.8/site-packages/IPython/core/ultratb.py\", line 1124, in structured_traceback\n",
      "    formatted_exception = self.format_exception_as_a_whole(etype, evalue, etb, number_of_lines_of_context,\n",
      "  File \"/opt/conda/envs/phenoplier/lib/python3.8/site-packages/IPython/core/ultratb.py\", line 1082, in format_exception_as_a_whole\n",
      "    last_unique, recursion_repeat = find_recursion(orig_etype, evalue, records)\n",
      "  File \"/opt/conda/envs/phenoplier/lib/python3.8/site-packages/IPython/core/ultratb.py\", line 382, in find_recursion\n",
      "    return len(records), 0\n",
      "TypeError: object of type 'NoneType' has no len()\n",
      "\n",
      "During handling of the above exception, another exception occurred:\n",
      "\n",
      "Traceback (most recent call last):\n",
      "  File \"/opt/conda/envs/phenoplier/lib/python3.8/site-packages/IPython/core/interactiveshell.py\", line 2077, in showtraceback\n",
      "    stb = value._render_traceback_()\n",
      "AttributeError: 'TypeError' object has no attribute '_render_traceback_'\n",
      "\n",
      "During handling of the above exception, another exception occurred:\n",
      "\n",
      "Traceback (most recent call last):\n",
      "  File \"/opt/conda/envs/phenoplier/lib/python3.8/site-packages/IPython/core/ultratb.py\", line 1101, in get_records\n",
      "    return _fixed_getinnerframes(etb, number_of_lines_of_context, tb_offset)\n",
      "  File \"/opt/conda/envs/phenoplier/lib/python3.8/site-packages/IPython/core/ultratb.py\", line 248, in wrapped\n",
      "    return f(*args, **kwargs)\n",
      "  File \"/opt/conda/envs/phenoplier/lib/python3.8/site-packages/IPython/core/ultratb.py\", line 281, in _fixed_getinnerframes\n",
      "    records = fix_frame_records_filenames(inspect.getinnerframes(etb, context))\n",
      "  File \"/opt/conda/envs/phenoplier/lib/python3.8/inspect.py\", line 1515, in getinnerframes\n",
      "    frameinfo = (tb.tb_frame,) + getframeinfo(tb, context)\n",
      "  File \"/opt/conda/envs/phenoplier/lib/python3.8/inspect.py\", line 1473, in getframeinfo\n",
      "    filename = getsourcefile(frame) or getfile(frame)\n",
      "  File \"/opt/conda/envs/phenoplier/lib/python3.8/inspect.py\", line 708, in getsourcefile\n",
      "    if getattr(getmodule(object, filename), '__loader__', None) is not None:\n",
      "  File \"/opt/conda/envs/phenoplier/lib/python3.8/inspect.py\", line 754, in getmodule\n",
      "    os.path.realpath(f)] = module.__name__\n",
      "  File \"/opt/conda/envs/phenoplier/lib/python3.8/posixpath.py\", line 391, in realpath\n",
      "    path, ok = _joinrealpath(filename[:0], filename, {})\n",
      "  File \"/opt/conda/envs/phenoplier/lib/python3.8/posixpath.py\", line 425, in _joinrealpath\n",
      "    if not islink(newpath):\n",
      "  File \"/opt/conda/envs/phenoplier/lib/python3.8/posixpath.py\", line 167, in islink\n",
      "    st = os.lstat(path)\n",
      "KeyboardInterrupt\n"
     ]
    },
    {
     "name": "stderr",
     "output_type": "stream",
     "text": [
      "[2022-03-01 23:53:24,116 - root] ERROR: Internal Python error in the inspect module.\n",
      "Below is the traceback from this internal error.\n",
      "\n",
      "[2022-03-01 23:53:24,121 - root] INFO: \n",
      "Unfortunately, your original traceback can not be constructed.\n",
      "\n"
     ]
    },
    {
     "name": "stdout",
     "output_type": "stream",
     "text": [
      "Traceback (most recent call last):\n",
      "  File \"/tmp/ipykernel_845/2092982829.py\", line 7, in <module>\n",
      "    for future in as_completed(tasks):\n",
      "  File \"/opt/conda/envs/phenoplier/lib/python3.8/concurrent/futures/_base.py\", line 244, in as_completed\n",
      "    waiter.event.wait(wait_timeout)\n",
      "  File \"/opt/conda/envs/phenoplier/lib/python3.8/threading.py\", line 558, in wait\n",
      "    signaled = self._cond.wait(timeout)\n",
      "  File \"/opt/conda/envs/phenoplier/lib/python3.8/threading.py\", line 302, in wait\n",
      "    waiter.acquire()\n",
      "KeyboardInterrupt\n",
      "\n",
      "During handling of the above exception, another exception occurred:\n",
      "\n",
      "Traceback (most recent call last):\n",
      "  File \"/opt/conda/envs/phenoplier/lib/python3.8/site-packages/IPython/core/interactiveshell.py\", line 3457, in run_code\n",
      "    exec(code_obj, self.user_global_ns, self.user_ns)\n",
      "  File \"/tmp/ipykernel_845/2092982829.py\", line 15, in <module>\n",
      "    pbar.update(res.shape[0])\n",
      "  File \"/opt/conda/envs/phenoplier/lib/python3.8/concurrent/futures/_base.py\", line 644, in __exit__\n",
      "    self.shutdown(wait=True)\n",
      "  File \"/opt/conda/envs/phenoplier/lib/python3.8/concurrent/futures/process.py\", line 686, in shutdown\n",
      "    self._queue_management_thread.join()\n",
      "  File \"/opt/conda/envs/phenoplier/lib/python3.8/threading.py\", line 1011, in join\n",
      "    self._wait_for_tstate_lock()\n",
      "  File \"/opt/conda/envs/phenoplier/lib/python3.8/threading.py\", line 1027, in _wait_for_tstate_lock\n",
      "    elif lock.acquire(block, timeout):\n",
      "KeyboardInterrupt\n",
      "\n",
      "During handling of the above exception, another exception occurred:\n",
      "\n",
      "Traceback (most recent call last):\n",
      "  File \"/opt/conda/envs/phenoplier/lib/python3.8/site-packages/IPython/core/interactiveshell.py\", line 2077, in showtraceback\n",
      "    stb = value._render_traceback_()\n",
      "AttributeError: 'KeyboardInterrupt' object has no attribute '_render_traceback_'\n",
      "\n",
      "During handling of the above exception, another exception occurred:\n",
      "\n",
      "Traceback (most recent call last):\n",
      "  File \"/opt/conda/envs/phenoplier/lib/python3.8/site-packages/IPython/core/interactiveshell.py\", line 3377, in run_ast_nodes\n",
      "    if (await self.run_code(code, result,  async_=asy)):\n",
      "  File \"/opt/conda/envs/phenoplier/lib/python3.8/site-packages/IPython/core/interactiveshell.py\", line 3474, in run_code\n",
      "    self.showtraceback(running_compiled_code=True)\n",
      "  File \"/opt/conda/envs/phenoplier/lib/python3.8/site-packages/IPython/core/interactiveshell.py\", line 2079, in showtraceback\n",
      "    stb = self.InteractiveTB.structured_traceback(etype,\n",
      "  File \"/opt/conda/envs/phenoplier/lib/python3.8/site-packages/IPython/core/ultratb.py\", line 1367, in structured_traceback\n",
      "    return FormattedTB.structured_traceback(\n",
      "  File \"/opt/conda/envs/phenoplier/lib/python3.8/site-packages/IPython/core/ultratb.py\", line 1267, in structured_traceback\n",
      "    return VerboseTB.structured_traceback(\n",
      "  File \"/opt/conda/envs/phenoplier/lib/python3.8/site-packages/IPython/core/ultratb.py\", line 1124, in structured_traceback\n",
      "    formatted_exception = self.format_exception_as_a_whole(etype, evalue, etb, number_of_lines_of_context,\n",
      "  File \"/opt/conda/envs/phenoplier/lib/python3.8/site-packages/IPython/core/ultratb.py\", line 1082, in format_exception_as_a_whole\n",
      "    last_unique, recursion_repeat = find_recursion(orig_etype, evalue, records)\n",
      "  File \"/opt/conda/envs/phenoplier/lib/python3.8/site-packages/IPython/core/ultratb.py\", line 382, in find_recursion\n",
      "    return len(records), 0\n",
      "TypeError: object of type 'NoneType' has no len()\n",
      "\n",
      "During handling of the above exception, another exception occurred:\n",
      "\n",
      "Traceback (most recent call last):\n",
      "  File \"/opt/conda/envs/phenoplier/lib/python3.8/site-packages/IPython/core/interactiveshell.py\", line 2077, in showtraceback\n",
      "    stb = value._render_traceback_()\n",
      "AttributeError: 'TypeError' object has no attribute '_render_traceback_'\n",
      "\n",
      "During handling of the above exception, another exception occurred:\n",
      "\n",
      "Traceback (most recent call last):\n",
      "  File \"/opt/conda/envs/phenoplier/lib/python3.8/site-packages/IPython/core/interactiveshell.py\", line 2960, in _run_cell\n",
      "    return runner(coro)\n",
      "  File \"/opt/conda/envs/phenoplier/lib/python3.8/site-packages/IPython/core/async_helpers.py\", line 78, in _pseudo_sync_runner\n",
      "    coro.send(None)\n",
      "  File \"/opt/conda/envs/phenoplier/lib/python3.8/site-packages/IPython/core/interactiveshell.py\", line 3185, in run_cell_async\n",
      "    has_raised = await self.run_ast_nodes(code_ast.body, cell_name,\n",
      "  File \"/opt/conda/envs/phenoplier/lib/python3.8/site-packages/IPython/core/interactiveshell.py\", line 3396, in run_ast_nodes\n",
      "    self.showtraceback()\n",
      "  File \"/opt/conda/envs/phenoplier/lib/python3.8/site-packages/IPython/core/interactiveshell.py\", line 2079, in showtraceback\n",
      "    stb = self.InteractiveTB.structured_traceback(etype,\n",
      "  File \"/opt/conda/envs/phenoplier/lib/python3.8/site-packages/IPython/core/ultratb.py\", line 1367, in structured_traceback\n",
      "    return FormattedTB.structured_traceback(\n",
      "  File \"/opt/conda/envs/phenoplier/lib/python3.8/site-packages/IPython/core/ultratb.py\", line 1267, in structured_traceback\n",
      "    return VerboseTB.structured_traceback(\n",
      "  File \"/opt/conda/envs/phenoplier/lib/python3.8/site-packages/IPython/core/ultratb.py\", line 1142, in structured_traceback\n",
      "    formatted_exceptions += self.format_exception_as_a_whole(etype, evalue, etb, lines_of_context,\n",
      "  File \"/opt/conda/envs/phenoplier/lib/python3.8/site-packages/IPython/core/ultratb.py\", line 1082, in format_exception_as_a_whole\n",
      "    last_unique, recursion_repeat = find_recursion(orig_etype, evalue, records)\n",
      "  File \"/opt/conda/envs/phenoplier/lib/python3.8/site-packages/IPython/core/ultratb.py\", line 382, in find_recursion\n",
      "    return len(records), 0\n",
      "TypeError: object of type 'NoneType' has no len()\n",
      "\n",
      "During handling of the above exception, another exception occurred:\n",
      "\n",
      "Traceback (most recent call last):\n",
      "  File \"/opt/conda/envs/phenoplier/lib/python3.8/site-packages/IPython/core/interactiveshell.py\", line 2077, in showtraceback\n",
      "    stb = value._render_traceback_()\n",
      "AttributeError: 'TypeError' object has no attribute '_render_traceback_'\n",
      "\n",
      "During handling of the above exception, another exception occurred:\n",
      "\n",
      "Traceback (most recent call last):\n",
      "  File \"/opt/conda/envs/phenoplier/lib/python3.8/site-packages/IPython/core/ultratb.py\", line 1101, in get_records\n",
      "    return _fixed_getinnerframes(etb, number_of_lines_of_context, tb_offset)\n",
      "  File \"/opt/conda/envs/phenoplier/lib/python3.8/site-packages/IPython/core/ultratb.py\", line 248, in wrapped\n",
      "    return f(*args, **kwargs)\n",
      "  File \"/opt/conda/envs/phenoplier/lib/python3.8/site-packages/IPython/core/ultratb.py\", line 281, in _fixed_getinnerframes\n",
      "    records = fix_frame_records_filenames(inspect.getinnerframes(etb, context))\n",
      "  File \"/opt/conda/envs/phenoplier/lib/python3.8/inspect.py\", line 1515, in getinnerframes\n",
      "    frameinfo = (tb.tb_frame,) + getframeinfo(tb, context)\n",
      "  File \"/opt/conda/envs/phenoplier/lib/python3.8/inspect.py\", line 1473, in getframeinfo\n",
      "    filename = getsourcefile(frame) or getfile(frame)\n",
      "  File \"/opt/conda/envs/phenoplier/lib/python3.8/inspect.py\", line 708, in getsourcefile\n",
      "    if getattr(getmodule(object, filename), '__loader__', None) is not None:\n",
      "  File \"/opt/conda/envs/phenoplier/lib/python3.8/inspect.py\", line 754, in getmodule\n",
      "    os.path.realpath(f)] = module.__name__\n",
      "  File \"/opt/conda/envs/phenoplier/lib/python3.8/posixpath.py\", line 391, in realpath\n",
      "    path, ok = _joinrealpath(filename[:0], filename, {})\n",
      "  File \"/opt/conda/envs/phenoplier/lib/python3.8/posixpath.py\", line 411, in _joinrealpath\n",
      "    name, _, rest = rest.partition(sep)\n",
      "KeyboardInterrupt\n"
     ]
    }
   ],
   "source": [
    "all_results = []\n",
    "\n",
    "with tqdm(total=run_confs.shape[0]) as pbar:\n",
    "    with ProcessPoolExecutor(max_workers=conf.GENERAL[\"N_JOBS\"]) as executor:\n",
    "        tasks = [executor.submit(run, chunk) for chunk in run_confs_chunks]\n",
    "\n",
    "        for future in as_completed(tasks):\n",
    "            res = future.result()\n",
    "            all_results.append(res)\n",
    "\n",
    "            if (len(all_results) % conf.GENERAL[\"N_JOBS\"]) == 0:\n",
    "                df = pd.concat(all_results, ignore_index=True)\n",
    "                df.to_pickle(OUTPUT_FILENAME)\n",
    "\n",
    "            pbar.update(res.shape[0])"
   ]
  },
  {
   "cell_type": "code",
   "execution_count": 69,
   "id": "d238f5d8",
   "metadata": {},
   "outputs": [
    {
     "name": "stdout",
     "output_type": "stream",
     "text": [
      "ERROR! Session/line number was not unique in database. History logging moved to new session 171\n"
     ]
    },
    {
     "data": {
      "text/html": [
       "<div>\n",
       "<style scoped>\n",
       "    .dataframe tbody tr th:only-of-type {\n",
       "        vertical-align: middle;\n",
       "    }\n",
       "\n",
       "    .dataframe tbody tr th {\n",
       "        vertical-align: top;\n",
       "    }\n",
       "\n",
       "    .dataframe thead th {\n",
       "        text-align: right;\n",
       "    }\n",
       "</style>\n",
       "<table border=\"1\" class=\"dataframe\">\n",
       "  <thead>\n",
       "    <tr style=\"text-align: right;\">\n",
       "      <th></th>\n",
       "      <th>phenotype</th>\n",
       "      <th>lv</th>\n",
       "      <th>coef</th>\n",
       "      <th>pvalue</th>\n",
       "    </tr>\n",
       "  </thead>\n",
       "  <tbody>\n",
       "    <tr>\n",
       "      <th>0</th>\n",
       "      <td>smultixcan phenotype 0</td>\n",
       "      <td>LV160</td>\n",
       "      <td>-0.008456</td>\n",
       "      <td>0.749958</td>\n",
       "    </tr>\n",
       "    <tr>\n",
       "      <th>1</th>\n",
       "      <td>smultixcan phenotype 0</td>\n",
       "      <td>LV169</td>\n",
       "      <td>-0.028787</td>\n",
       "      <td>0.989182</td>\n",
       "    </tr>\n",
       "    <tr>\n",
       "      <th>2</th>\n",
       "      <td>smultixcan phenotype 2</td>\n",
       "      <td>LV417</td>\n",
       "      <td>0.010065</td>\n",
       "      <td>0.210806</td>\n",
       "    </tr>\n",
       "    <tr>\n",
       "      <th>3</th>\n",
       "      <td>smultixcan phenotype 2</td>\n",
       "      <td>LV642</td>\n",
       "      <td>0.013911</td>\n",
       "      <td>0.135208</td>\n",
       "    </tr>\n",
       "    <tr>\n",
       "      <th>4</th>\n",
       "      <td>smultixcan phenotype 0</td>\n",
       "      <td>LV34</td>\n",
       "      <td>0.021384</td>\n",
       "      <td>0.043931</td>\n",
       "    </tr>\n",
       "    <tr>\n",
       "      <th>...</th>\n",
       "      <td>...</td>\n",
       "      <td>...</td>\n",
       "      <td>...</td>\n",
       "      <td>...</td>\n",
       "    </tr>\n",
       "    <tr>\n",
       "      <th>445</th>\n",
       "      <td>smultixcan phenotype 1</td>\n",
       "      <td>LV210</td>\n",
       "      <td>-0.026707</td>\n",
       "      <td>0.983478</td>\n",
       "    </tr>\n",
       "    <tr>\n",
       "      <th>446</th>\n",
       "      <td>smultixcan phenotype 0</td>\n",
       "      <td>LV302</td>\n",
       "      <td>-0.014513</td>\n",
       "      <td>0.876733</td>\n",
       "    </tr>\n",
       "    <tr>\n",
       "      <th>447</th>\n",
       "      <td>smultixcan phenotype 2</td>\n",
       "      <td>LV925</td>\n",
       "      <td>0.016619</td>\n",
       "      <td>0.092589</td>\n",
       "    </tr>\n",
       "    <tr>\n",
       "      <th>448</th>\n",
       "      <td>smultixcan phenotype 1</td>\n",
       "      <td>LV114</td>\n",
       "      <td>-0.002048</td>\n",
       "      <td>0.565076</td>\n",
       "    </tr>\n",
       "    <tr>\n",
       "      <th>449</th>\n",
       "      <td>smultixcan phenotype 1</td>\n",
       "      <td>LV231</td>\n",
       "      <td>-0.005678</td>\n",
       "      <td>0.675669</td>\n",
       "    </tr>\n",
       "  </tbody>\n",
       "</table>\n",
       "<p>450 rows × 4 columns</p>\n",
       "</div>"
      ],
      "text/plain": [
       "                  phenotype     lv      coef    pvalue\n",
       "0    smultixcan phenotype 0  LV160 -0.008456  0.749958\n",
       "1    smultixcan phenotype 0  LV169 -0.028787  0.989182\n",
       "2    smultixcan phenotype 2  LV417  0.010065  0.210806\n",
       "3    smultixcan phenotype 2  LV642  0.013911  0.135208\n",
       "4    smultixcan phenotype 0   LV34  0.021384  0.043931\n",
       "..                      ...    ...       ...       ...\n",
       "445  smultixcan phenotype 1  LV210 -0.026707  0.983478\n",
       "446  smultixcan phenotype 0  LV302 -0.014513  0.876733\n",
       "447  smultixcan phenotype 2  LV925  0.016619  0.092589\n",
       "448  smultixcan phenotype 1  LV114 -0.002048  0.565076\n",
       "449  smultixcan phenotype 1  LV231 -0.005678  0.675669\n",
       "\n",
       "[450 rows x 4 columns]"
      ]
     },
     "execution_count": 69,
     "metadata": {},
     "output_type": "execute_result"
    }
   ],
   "source": [
    "pd.concat(all_results, ignore_index=True)"
   ]
  },
  {
   "cell_type": "code",
   "execution_count": 70,
   "id": "760e5061",
   "metadata": {
    "tags": []
   },
   "outputs": [
    {
     "name": "stdout",
     "output_type": "stream",
     "text": [
      "Error in callback <bound method AutoreloadMagics.post_execute_hook of <autoreload.AutoreloadMagics object at 0x7f79502010a0>> (for post_execute):\n"
     ]
    },
    {
     "ename": "KeyboardInterrupt",
     "evalue": "",
     "output_type": "error",
     "traceback": [
      "\u001b[0;31m---------------------------------------------------------------------------\u001b[0m",
      "\u001b[0;31mKeyboardInterrupt\u001b[0m                         Traceback (most recent call last)",
      "\u001b[0;32m/opt/conda/envs/phenoplier/lib/python3.8/site-packages/IPython/extensions/autoreload.py\u001b[0m in \u001b[0;36mpost_execute_hook\u001b[0;34m(self)\u001b[0m\n\u001b[1;32m    534\u001b[0m         \"\"\"Cache the modification times of any modules imported in this execution\n\u001b[1;32m    535\u001b[0m         \"\"\"\n\u001b[0;32m--> 536\u001b[0;31m         \u001b[0mnewly_loaded_modules\u001b[0m \u001b[0;34m=\u001b[0m \u001b[0mset\u001b[0m\u001b[0;34m(\u001b[0m\u001b[0msys\u001b[0m\u001b[0;34m.\u001b[0m\u001b[0mmodules\u001b[0m\u001b[0;34m)\u001b[0m \u001b[0;34m-\u001b[0m \u001b[0mself\u001b[0m\u001b[0;34m.\u001b[0m\u001b[0mloaded_modules\u001b[0m\u001b[0;34m\u001b[0m\u001b[0;34m\u001b[0m\u001b[0m\n\u001b[0m\u001b[1;32m    537\u001b[0m         \u001b[0;32mfor\u001b[0m \u001b[0mmodname\u001b[0m \u001b[0;32min\u001b[0m \u001b[0mnewly_loaded_modules\u001b[0m\u001b[0;34m:\u001b[0m\u001b[0;34m\u001b[0m\u001b[0;34m\u001b[0m\u001b[0m\n\u001b[1;32m    538\u001b[0m             \u001b[0m_\u001b[0m\u001b[0;34m,\u001b[0m \u001b[0mpymtime\u001b[0m \u001b[0;34m=\u001b[0m \u001b[0mself\u001b[0m\u001b[0;34m.\u001b[0m\u001b[0m_reloader\u001b[0m\u001b[0;34m.\u001b[0m\u001b[0mfilename_and_mtime\u001b[0m\u001b[0;34m(\u001b[0m\u001b[0msys\u001b[0m\u001b[0;34m.\u001b[0m\u001b[0mmodules\u001b[0m\u001b[0;34m[\u001b[0m\u001b[0mmodname\u001b[0m\u001b[0;34m]\u001b[0m\u001b[0;34m)\u001b[0m\u001b[0;34m\u001b[0m\u001b[0;34m\u001b[0m\u001b[0m\n",
      "\u001b[0;31mKeyboardInterrupt\u001b[0m: "
     ]
    }
   ],
   "source": [
    "# results = get_df_from_results(results)"
   ]
  },
  {
   "cell_type": "code",
   "execution_count": 71,
   "id": "099ec42b",
   "metadata": {
    "papermill": {
     "duration": 0.062045,
     "end_time": "2022-02-24T05:31:59.354776",
     "exception": false,
     "start_time": "2022-02-24T05:31:59.292731",
     "status": "completed"
    },
    "tags": []
   },
   "outputs": [
    {
     "name": "stderr",
     "output_type": "stream",
     "text": [
      "\n",
      "KeyboardInterrupt\n",
      "\n"
     ]
    }
   ],
   "source": [
    "all_results.shape"
   ]
  },
  {
   "cell_type": "code",
   "execution_count": null,
   "id": "30ea8f08",
   "metadata": {
    "papermill": {
     "duration": 0.086869,
     "end_time": "2022-02-24T05:31:59.485344",
     "exception": false,
     "start_time": "2022-02-24T05:31:59.398475",
     "status": "completed"
    },
    "tags": []
   },
   "outputs": [],
   "source": [
    "all_results.head()"
   ]
  },
  {
   "cell_type": "code",
   "execution_count": null,
   "id": "597c4c0e",
   "metadata": {
    "papermill": {
     "duration": 0.102836,
     "end_time": "2022-02-24T05:31:59.631470",
     "exception": false,
     "start_time": "2022-02-24T05:31:59.528634",
     "status": "completed"
    },
    "tags": []
   },
   "outputs": [],
   "source": [
    "all_results.sort_values(\"pvalue\").head(10)"
   ]
  },
  {
   "cell_type": "markdown",
   "id": "545e0cd7",
   "metadata": {
    "papermill": {
     "duration": 0.042428,
     "end_time": "2022-02-24T05:31:59.716388",
     "exception": false,
     "start_time": "2022-02-24T05:31:59.673960",
     "status": "completed"
    },
    "tags": []
   },
   "source": [
    "## Save"
   ]
  },
  {
   "cell_type": "code",
   "execution_count": null,
   "id": "be100fc3",
   "metadata": {
    "papermill": {
     "duration": 0.067855,
     "end_time": "2022-02-24T05:31:59.826785",
     "exception": false,
     "start_time": "2022-02-24T05:31:59.758930",
     "status": "completed"
    },
    "tags": []
   },
   "outputs": [],
   "source": [
    "all_results.to_pickle(OUTPUT_FILENAME)"
   ]
  },
  {
   "cell_type": "code",
   "execution_count": null,
   "id": "fc80d456",
   "metadata": {
    "papermill": {
     "duration": 0.042196,
     "end_time": "2022-02-24T05:31:59.912389",
     "exception": false,
     "start_time": "2022-02-24T05:31:59.870193",
     "status": "completed"
    },
    "tags": []
   },
   "outputs": [],
   "source": []
  }
 ],
 "metadata": {
  "jupytext": {
   "cell_metadata_filter": "all,-execution,-papermill,-trusted",
   "formats": "ipynb,py//py:percent"
  },
  "kernelspec": {
   "display_name": "Python 3 (ipykernel)",
   "language": "python",
   "name": "python3"
  },
  "language_info": {
   "codemirror_mode": {
    "name": "ipython",
    "version": 3
   },
   "file_extension": ".py",
   "mimetype": "text/x-python",
   "name": "python",
   "nbconvert_exporter": "python",
   "pygments_lexer": "ipython3",
   "version": "3.8.12"
  },
  "papermill": {
   "default_parameters": {},
   "duration": 284.976164,
   "end_time": "2022-02-24T05:32:00.278080",
   "environment_variables": {},
   "exception": null,
   "input_path": "nbs/15_gsa_gls/25-gls-null_simulations.ipynb",
   "output_path": "nbs/15_gsa_gls/25-gls-null_simulations.run.ipynb",
   "parameters": {},
   "start_time": "2022-02-24T05:27:15.301916",
   "version": "2.2.2"
  }
 },
 "nbformat": 4,
 "nbformat_minor": 5
}
