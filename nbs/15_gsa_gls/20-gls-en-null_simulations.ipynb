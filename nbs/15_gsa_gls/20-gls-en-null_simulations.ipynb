{
 "cells": [
  {
   "cell_type": "markdown",
   "id": "159c8e8a",
   "metadata": {
    "papermill": {
     "duration": 0.023509,
     "end_time": "2022-02-24T05:27:16.566490",
     "exception": false,
     "start_time": "2022-02-24T05:27:16.542981",
     "status": "completed"
    },
    "tags": []
   },
   "source": [
    "# Description"
   ]
  },
  {
   "cell_type": "markdown",
   "id": "36cf1698",
   "metadata": {
    "papermill": {
     "duration": 0.02005,
     "end_time": "2022-02-24T05:27:16.606408",
     "exception": false,
     "start_time": "2022-02-24T05:27:16.586358",
     "status": "completed"
    },
    "tags": []
   },
   "source": [
    "* reads MultiXcan results on a random phenotype file (using Elastic Net models)\n",
    "* runs PhenoPLIER on all LVs to compute the null"
   ]
  },
  {
   "cell_type": "markdown",
   "id": "c271bed2",
   "metadata": {
    "papermill": {
     "duration": 0.019673,
     "end_time": "2022-02-24T05:27:16.646565",
     "exception": false,
     "start_time": "2022-02-24T05:27:16.626892",
     "status": "completed"
    },
    "tags": []
   },
   "source": [
    "# Environment variables"
   ]
  },
  {
   "cell_type": "code",
   "execution_count": null,
   "id": "200d7564",
   "metadata": {
    "papermill": {
     "duration": 0.037961,
     "end_time": "2022-02-24T05:27:16.704765",
     "exception": false,
     "start_time": "2022-02-24T05:27:16.666804",
     "status": "completed"
    },
    "tags": []
   },
   "outputs": [],
   "source": [
    "%load_ext autoreload\n",
    "%autoreload 2"
   ]
  },
  {
   "cell_type": "code",
   "execution_count": null,
   "id": "0d6af3a1",
   "metadata": {
    "papermill": {
     "duration": 0.055312,
     "end_time": "2022-02-24T05:27:16.781466",
     "exception": false,
     "start_time": "2022-02-24T05:27:16.726154",
     "status": "completed"
    },
    "tags": []
   },
   "outputs": [],
   "source": [
    "import conf"
   ]
  },
  {
   "cell_type": "code",
   "execution_count": null,
   "id": "491ef579",
   "metadata": {
    "papermill": {
     "duration": 0.038739,
     "end_time": "2022-02-24T05:27:16.846718",
     "exception": false,
     "start_time": "2022-02-24T05:27:16.807979",
     "status": "completed"
    },
    "tags": []
   },
   "outputs": [],
   "source": [
    "# N_JOBS = conf.GENERAL[\"N_JOBS\"]\n",
    "# set N_JOBS manually, because we are parallelizing outside\n",
    "N_JOBS = 1\n",
    "display(N_JOBS)"
   ]
  },
  {
   "cell_type": "code",
   "execution_count": null,
   "id": "4e94c70d",
   "metadata": {
    "papermill": {
     "duration": 0.036141,
     "end_time": "2022-02-24T05:27:16.904702",
     "exception": false,
     "start_time": "2022-02-24T05:27:16.868561",
     "status": "completed"
    },
    "tags": []
   },
   "outputs": [],
   "source": [
    "%env MKL_NUM_THREADS=$N_JOBS\n",
    "%env OPEN_BLAS_NUM_THREADS=$N_JOBS\n",
    "%env NUMEXPR_NUM_THREADS=$N_JOBS\n",
    "%env OMP_NUM_THREADS=$N_JOBS"
   ]
  },
  {
   "cell_type": "markdown",
   "id": "93a9f629",
   "metadata": {
    "papermill": {
     "duration": 0.021581,
     "end_time": "2022-02-24T05:27:16.947886",
     "exception": false,
     "start_time": "2022-02-24T05:27:16.926305",
     "status": "completed"
    },
    "tags": []
   },
   "source": [
    "# Modules"
   ]
  },
  {
   "cell_type": "code",
   "execution_count": null,
   "id": "d70930c2",
   "metadata": {
    "papermill": {
     "duration": 0.913421,
     "end_time": "2022-02-24T05:27:17.882796",
     "exception": false,
     "start_time": "2022-02-24T05:27:16.969375",
     "status": "completed"
    },
    "tags": []
   },
   "outputs": [],
   "source": [
    "import itertools\n",
    "from concurrent.futures import ProcessPoolExecutor, as_completed\n",
    "\n",
    "import numpy as np\n",
    "from scipy import stats\n",
    "import pandas as pd\n",
    "from tqdm import tqdm\n",
    "\n",
    "from utils import chunker\n",
    "from entity import Gene\n",
    "from gls import GLSPhenoplier"
   ]
  },
  {
   "cell_type": "markdown",
   "id": "49842745",
   "metadata": {
    "papermill": {
     "duration": 0.02149,
     "end_time": "2022-02-24T05:27:17.927711",
     "exception": false,
     "start_time": "2022-02-24T05:27:17.906221",
     "status": "completed"
    },
    "tags": []
   },
   "source": [
    "# Settings"
   ]
  },
  {
   "cell_type": "code",
   "execution_count": null,
   "id": "1bac6fa9",
   "metadata": {
    "papermill": {
     "duration": 0.040185,
     "end_time": "2022-02-24T05:27:17.988879",
     "exception": false,
     "start_time": "2022-02-24T05:27:17.948694",
     "status": "completed"
    },
    "tags": []
   },
   "outputs": [],
   "source": [
    "N_SIMULATED_PHENOTYPES = 1  # disable generation of derived random phenotypes\n",
    "CHUNK_SIZE = 50\n",
    "EQTL_MODEL = \"ELASTIC_NET\""
   ]
  },
  {
   "cell_type": "markdown",
   "id": "94cc80bd",
   "metadata": {
    "papermill": {
     "duration": 0.02149,
     "end_time": "2022-02-24T05:27:17.927711",
     "exception": false,
     "start_time": "2022-02-24T05:27:17.906221",
     "status": "completed"
    },
    "tags": []
   },
   "source": [
    "# Paths"
   ]
  },
  {
   "cell_type": "code",
   "execution_count": null,
   "id": "d6cd84be",
   "metadata": {
    "papermill": {
     "duration": 0.042205,
     "end_time": "2022-02-24T05:27:18.052950",
     "exception": false,
     "start_time": "2022-02-24T05:27:18.010745",
     "status": "completed"
    },
    "tags": []
   },
   "outputs": [],
   "source": [
    "OUTPUT_DIR = conf.RESULTS[\"GLS\"] / \"null_simulations\"\n",
    "display(OUTPUT_DIR)\n",
    "\n",
    "OUTPUT_DIR.mkdir(exist_ok=True, parents=True)"
   ]
  },
  {
   "cell_type": "code",
   "execution_count": null,
   "id": "01f953c4",
   "metadata": {
    "papermill": {
     "duration": 0.041981,
     "end_time": "2022-02-24T05:27:18.117562",
     "exception": false,
     "start_time": "2022-02-24T05:27:18.075581",
     "status": "completed"
    },
    "tags": []
   },
   "outputs": [],
   "source": [
    "OUTPUT_FILENAME = OUTPUT_DIR / \"en-null_simulations.pkl\"\n",
    "display(OUTPUT_FILENAME)"
   ]
  },
  {
   "cell_type": "markdown",
   "id": "c35be43e",
   "metadata": {
    "papermill": {
     "duration": 0.021629,
     "end_time": "2022-02-24T05:27:18.162851",
     "exception": false,
     "start_time": "2022-02-24T05:27:18.141222",
     "status": "completed"
    },
    "tags": []
   },
   "source": [
    "# Load data"
   ]
  },
  {
   "cell_type": "markdown",
   "id": "5ad1a825",
   "metadata": {
    "papermill": {
     "duration": 0.021814,
     "end_time": "2022-02-24T05:27:18.207099",
     "exception": false,
     "start_time": "2022-02-24T05:27:18.185285",
     "status": "completed"
    },
    "tags": []
   },
   "source": [
    "## MultiXcan on random phenotype"
   ]
  },
  {
   "cell_type": "markdown",
   "id": "7a72bcf6",
   "metadata": {
    "papermill": {
     "duration": 0.021814,
     "end_time": "2022-02-24T05:27:18.207099",
     "exception": false,
     "start_time": "2022-02-24T05:27:18.185285",
     "status": "completed"
    },
    "tags": []
   },
   "source": [
    "This result was downloaded from the MultiXcan paper here: https://github.com/hakyimlab/multixcan-paper"
   ]
  },
  {
   "cell_type": "code",
   "execution_count": null,
   "id": "f912e57d",
   "metadata": {},
   "outputs": [],
   "source": [
    "multixcan_random_phenotype = pd.read_csv(\n",
    "    conf.PHENOMEXCAN[\"BASE_DIR\"] / \"random__ccn30__mt_results.txt\",\n",
    "    sep=\"\\t\",\n",
    "    usecols=[\"gene\", \"pvalue\"],\n",
    ")"
   ]
  },
  {
   "cell_type": "code",
   "execution_count": null,
   "id": "be44912c",
   "metadata": {},
   "outputs": [],
   "source": [
    "multixcan_random_phenotype.shape"
   ]
  },
  {
   "cell_type": "code",
   "execution_count": null,
   "id": "561445d2",
   "metadata": {},
   "outputs": [],
   "source": [
    "multixcan_random_phenotype.head()"
   ]
  },
  {
   "cell_type": "code",
   "execution_count": null,
   "id": "6411c5d7",
   "metadata": {},
   "outputs": [],
   "source": [
    "multixcan_random_phenotype[\"gene\"] = multixcan_random_phenotype[\"gene\"].str.split(\n",
    "    \".\", n=1, expand=True\n",
    ")[0]"
   ]
  },
  {
   "cell_type": "code",
   "execution_count": null,
   "id": "ead394b6",
   "metadata": {},
   "outputs": [],
   "source": [
    "multixcan_random_phenotype = multixcan_random_phenotype.set_index(\"gene\")"
   ]
  },
  {
   "cell_type": "code",
   "execution_count": null,
   "id": "28acded0",
   "metadata": {},
   "outputs": [],
   "source": [
    "multixcan_random_phenotype.head()"
   ]
  },
  {
   "cell_type": "code",
   "execution_count": null,
   "id": "f8ff5a62",
   "metadata": {},
   "outputs": [],
   "source": [
    "assert multixcan_random_phenotype.index.is_unique"
   ]
  },
  {
   "cell_type": "markdown",
   "id": "7a8c08ad",
   "metadata": {
    "papermill": {
     "duration": 0.021814,
     "end_time": "2022-02-24T05:27:18.207099",
     "exception": false,
     "start_time": "2022-02-24T05:27:18.185285",
     "status": "completed"
    },
    "tags": []
   },
   "source": [
    "## MultiPLIER Z matrix"
   ]
  },
  {
   "cell_type": "code",
   "execution_count": null,
   "id": "2aac53e8",
   "metadata": {
    "papermill": {
     "duration": 0.307278,
     "end_time": "2022-02-24T05:27:18.536398",
     "exception": false,
     "start_time": "2022-02-24T05:27:18.229120",
     "status": "completed"
    },
    "tags": []
   },
   "outputs": [],
   "source": [
    "# multiplier_z_matrix = pd.read_pickle(conf.MULTIPLIER[\"MODEL_Z_MATRIX_FILE\"])"
   ]
  },
  {
   "cell_type": "code",
   "execution_count": null,
   "id": "8ac67393",
   "metadata": {
    "papermill": {
     "duration": 0.04243,
     "end_time": "2022-02-24T05:27:18.604523",
     "exception": false,
     "start_time": "2022-02-24T05:27:18.562093",
     "status": "completed"
    },
    "tags": []
   },
   "outputs": [],
   "source": [
    "# multiplier_z_matrix.shape"
   ]
  },
  {
   "cell_type": "code",
   "execution_count": null,
   "id": "bb5b9d2c",
   "metadata": {
    "papermill": {
     "duration": 0.057464,
     "end_time": "2022-02-24T05:27:18.685499",
     "exception": false,
     "start_time": "2022-02-24T05:27:18.628035",
     "status": "completed"
    },
    "tags": []
   },
   "outputs": [],
   "source": [
    "# multiplier_z_matrix.head()"
   ]
  },
  {
   "cell_type": "code",
   "execution_count": null,
   "id": "b933cc09",
   "metadata": {
    "papermill": {
     "duration": 0.043929,
     "end_time": "2022-02-24T05:27:18.754068",
     "exception": false,
     "start_time": "2022-02-24T05:27:18.710139",
     "status": "completed"
    },
    "tags": []
   },
   "outputs": [],
   "source": [
    "# lv_codes = list(multiplier_z_matrix.columns)\n",
    "# display(lv_codes[:5])"
   ]
  },
  {
   "cell_type": "markdown",
   "id": "69471681",
   "metadata": {},
   "source": [
    "# Preprocess MultiXcan results"
   ]
  },
  {
   "cell_type": "markdown",
   "id": "ba1d4b0a",
   "metadata": {
    "papermill": {
     "duration": 0.033256,
     "end_time": "2021-03-08T19:22:43.123917",
     "exception": false,
     "start_time": "2021-03-08T19:22:43.090661",
     "status": "completed"
    },
    "tags": []
   },
   "source": [
    "## Convert gene IDs to Gene names"
   ]
  },
  {
   "cell_type": "code",
   "execution_count": null,
   "id": "89d811d1",
   "metadata": {
    "papermill": {
     "duration": 0.183485,
     "end_time": "2021-03-08T19:22:43.340704",
     "exception": false,
     "start_time": "2021-03-08T19:22:43.157219",
     "status": "completed"
    },
    "tags": []
   },
   "outputs": [],
   "source": [
    "smultixcan_results = multixcan_random_phenotype.rename(index=Gene.GENE_ID_TO_NAME_MAP)"
   ]
  },
  {
   "cell_type": "code",
   "execution_count": null,
   "id": "f67ba345",
   "metadata": {
    "papermill": {
     "duration": 0.046944,
     "end_time": "2021-03-08T19:22:43.423583",
     "exception": false,
     "start_time": "2021-03-08T19:22:43.376639",
     "status": "completed"
    },
    "tags": []
   },
   "outputs": [],
   "source": [
    "smultixcan_results.shape"
   ]
  },
  {
   "cell_type": "code",
   "execution_count": null,
   "id": "d4b94688",
   "metadata": {
    "papermill": {
     "duration": 0.058688,
     "end_time": "2021-03-08T19:22:43.516816",
     "exception": false,
     "start_time": "2021-03-08T19:22:43.458128",
     "status": "completed"
    },
    "tags": []
   },
   "outputs": [],
   "source": [
    "smultixcan_results.head()"
   ]
  },
  {
   "cell_type": "markdown",
   "id": "4abe9286",
   "metadata": {
    "papermill": {
     "duration": 0.034482,
     "end_time": "2021-03-08T19:22:43.586557",
     "exception": false,
     "start_time": "2021-03-08T19:22:43.552075",
     "status": "completed"
    },
    "tags": []
   },
   "source": [
    "## Remove duplicated gene entries"
   ]
  },
  {
   "cell_type": "code",
   "execution_count": null,
   "id": "cb950f10",
   "metadata": {
    "papermill": {
     "duration": 0.049595,
     "end_time": "2021-03-08T19:22:43.670097",
     "exception": false,
     "start_time": "2021-03-08T19:22:43.620502",
     "status": "completed"
    },
    "tags": []
   },
   "outputs": [],
   "source": [
    "_tmp = smultixcan_results.index[smultixcan_results.index.duplicated(keep=\"first\")]\n",
    "assert _tmp.shape[0] == 0"
   ]
  },
  {
   "cell_type": "markdown",
   "id": "0bd66790",
   "metadata": {
    "papermill": {
     "duration": 0.03459,
     "end_time": "2021-03-08T19:22:44.042203",
     "exception": false,
     "start_time": "2021-03-08T19:22:44.007613",
     "status": "completed"
    },
    "tags": []
   },
   "source": [
    "## Convert p-values to z-scores"
   ]
  },
  {
   "cell_type": "code",
   "execution_count": null,
   "id": "35539f39",
   "metadata": {},
   "outputs": [],
   "source": [
    "smultixcan_results = smultixcan_results.assign(\n",
    "    zscore=np.abs(stats.norm.ppf(smultixcan_results[\"pvalue\"].to_numpy() / 2))\n",
    ")"
   ]
  },
  {
   "cell_type": "code",
   "execution_count": null,
   "id": "a0757e8a",
   "metadata": {},
   "outputs": [],
   "source": [
    "smultixcan_results = smultixcan_results.drop(columns=\"pvalue\").squeeze()"
   ]
  },
  {
   "cell_type": "code",
   "execution_count": null,
   "id": "e377b1c8",
   "metadata": {},
   "outputs": [],
   "source": [
    "smultixcan_results.head()"
   ]
  },
  {
   "cell_type": "code",
   "execution_count": null,
   "id": "504383ce",
   "metadata": {},
   "outputs": [],
   "source": [
    "smultixcan_results.describe()"
   ]
  },
  {
   "cell_type": "markdown",
   "id": "cc9c4b59",
   "metadata": {
    "papermill": {
     "duration": 0.03459,
     "end_time": "2021-03-08T19:22:44.042203",
     "exception": false,
     "start_time": "2021-03-08T19:22:44.007613",
     "status": "completed"
    },
    "tags": []
   },
   "source": [
    "## Some checks"
   ]
  },
  {
   "cell_type": "code",
   "execution_count": null,
   "id": "726573ec",
   "metadata": {
    "papermill": {
     "duration": 0.337355,
     "end_time": "2021-03-08T19:22:44.413723",
     "exception": false,
     "start_time": "2021-03-08T19:22:44.076368",
     "status": "completed"
    },
    "tags": []
   },
   "outputs": [],
   "source": [
    "# the data should have no NaN values\n",
    "assert smultixcan_results.shape == smultixcan_results.dropna(how=\"any\").shape"
   ]
  },
  {
   "cell_type": "markdown",
   "id": "a863af7c",
   "metadata": {
    "papermill": {
     "duration": 0.024394,
     "end_time": "2022-02-24T05:27:19.271472",
     "exception": false,
     "start_time": "2022-02-24T05:27:19.247078",
     "status": "completed"
    },
    "tags": []
   },
   "source": [
    "# GLSPhenoplier"
   ]
  },
  {
   "cell_type": "markdown",
   "id": "1d3cb63e",
   "metadata": {
    "papermill": {
     "duration": 0.024394,
     "end_time": "2022-02-24T05:27:19.271472",
     "exception": false,
     "start_time": "2022-02-24T05:27:19.247078",
     "status": "completed"
    },
    "tags": []
   },
   "source": [
    "## Identify clusters of non-related genes"
   ]
  },
  {
   "cell_type": "code",
   "execution_count": null,
   "id": "29e90eb8",
   "metadata": {
    "tags": []
   },
   "outputs": [],
   "source": [
    "en_gene_corr = GLSPhenoplier._get_data(\n",
    "    conf.PHENOMEXCAN[\"SMULTIXCAN_EFO_PARTIAL_MASHR_ZSCORES_FILE\"],\n",
    "    model_type=\"ELASTIC_NET\",\n",
    ")[0]"
   ]
  },
  {
   "cell_type": "code",
   "execution_count": null,
   "id": "90750c07",
   "metadata": {},
   "outputs": [],
   "source": [
    "_comm_genes = en_gene_corr.index.intersection(smultixcan_results.index)"
   ]
  },
  {
   "cell_type": "code",
   "execution_count": null,
   "id": "52d79eff",
   "metadata": {},
   "outputs": [],
   "source": [
    "en_gene_corr = en_gene_corr.loc[_comm_genes, _comm_genes]"
   ]
  },
  {
   "cell_type": "code",
   "execution_count": null,
   "id": "1c2f11d1",
   "metadata": {},
   "outputs": [],
   "source": [
    "en_gene_corr.shape"
   ]
  },
  {
   "cell_type": "code",
   "execution_count": null,
   "id": "b6dfae8c",
   "metadata": {},
   "outputs": [],
   "source": [
    "en_gene_corr.head()"
   ]
  },
  {
   "cell_type": "code",
   "execution_count": null,
   "id": "2d135664",
   "metadata": {},
   "outputs": [],
   "source": [
    "from sklearn.cluster import AgglomerativeClustering"
   ]
  },
  {
   "cell_type": "code",
   "execution_count": null,
   "id": "7f107f89",
   "metadata": {},
   "outputs": [],
   "source": [
    "en_gene_dist = en_gene_corr.abs().copy()\n",
    "np.fill_diagonal(en_gene_dist.values, 0.0)"
   ]
  },
  {
   "cell_type": "code",
   "execution_count": null,
   "id": "a707c1f6",
   "metadata": {},
   "outputs": [],
   "source": [
    "en_gene_dist"
   ]
  },
  {
   "cell_type": "code",
   "execution_count": null,
   "id": "59686fc2",
   "metadata": {},
   "outputs": [],
   "source": [
    "_tmp = en_gene_dist.unstack()\n",
    "_tmp = _tmp[(_tmp > 0.0) & (_tmp < 1.0)]"
   ]
  },
  {
   "cell_type": "code",
   "execution_count": null,
   "id": "242d206d",
   "metadata": {},
   "outputs": [],
   "source": [
    "_tmp.sort_values()"
   ]
  },
  {
   "cell_type": "code",
   "execution_count": null,
   "id": "580f1fd9",
   "metadata": {},
   "outputs": [],
   "source": [
    "ac = AgglomerativeClustering(\n",
    "    n_clusters=None,\n",
    "    compute_full_tree=True,\n",
    "    linkage=\"complete\",\n",
    "    affinity=\"precomputed\",\n",
    "    distance_threshold=1e-100,\n",
    ")"
   ]
  },
  {
   "cell_type": "code",
   "execution_count": null,
   "id": "4ab52332",
   "metadata": {},
   "outputs": [],
   "source": [
    "ac.fit(en_gene_dist)"
   ]
  },
  {
   "cell_type": "code",
   "execution_count": null,
   "id": "b0d95392",
   "metadata": {},
   "outputs": [],
   "source": [
    "gene_part = pd.Series(ac.labels_)\n",
    "display(gene_part.value_counts())"
   ]
  },
  {
   "cell_type": "code",
   "execution_count": null,
   "id": "457f55e3",
   "metadata": {},
   "outputs": [],
   "source": [
    "en_gene_dist.loc[(ac.labels_ == 141), (ac.labels_ == 141)]"
   ]
  },
  {
   "cell_type": "code",
   "execution_count": null,
   "id": "d465a0b7",
   "metadata": {},
   "outputs": [],
   "source": [
    "phenotype_gene_clusters = {\n",
    "    cluster_id: smultixcan_results.loc[en_gene_dist.index[gene_part == cluster_id]]\n",
    "    for cluster_id in gene_part.value_counts().index\n",
    "}"
   ]
  },
  {
   "cell_type": "code",
   "execution_count": null,
   "id": "043f39cb",
   "metadata": {},
   "outputs": [],
   "source": [
    "phenotype_gene_clusters[141]"
   ]
  },
  {
   "cell_type": "markdown",
   "id": "89d65a4f",
   "metadata": {
    "tags": []
   },
   "source": [
    "## Functions"
   ]
  },
  {
   "cell_type": "code",
   "execution_count": null,
   "id": "e94278e8",
   "metadata": {},
   "outputs": [],
   "source": [
    "rs = np.random.RandomState(0)"
   ]
  },
  {
   "cell_type": "code",
   "execution_count": null,
   "id": "7bede774",
   "metadata": {},
   "outputs": [],
   "source": [
    "def get_shuffled_phenotype():\n",
    "    shuffled_gene_clusters = []\n",
    "    for cluster_id, gene_assoc_cluster in phenotype_gene_clusters.items():\n",
    "        gc = gene_assoc_cluster.copy()\n",
    "        rs.shuffle(gc)\n",
    "        shuffled_gene_clusters.append(gc)\n",
    "\n",
    "    return pd.concat(shuffled_gene_clusters)"
   ]
  },
  {
   "cell_type": "code",
   "execution_count": null,
   "id": "3f16d790",
   "metadata": {},
   "outputs": [],
   "source": [
    "def get_df_from_results(results_list):\n",
    "    df = pd.DataFrame(results_list).astype(\n",
    "        {\n",
    "            \"phenotype\": \"category\",\n",
    "            \"lv\": \"category\",\n",
    "        }\n",
    "    )\n",
    "\n",
    "    return df"
   ]
  },
  {
   "cell_type": "markdown",
   "id": "53e580ee",
   "metadata": {
    "papermill": {
     "duration": 0.02416,
     "end_time": "2022-02-24T05:27:19.319988",
     "exception": false,
     "start_time": "2022-02-24T05:27:19.295828",
     "status": "completed"
    },
    "tags": []
   },
   "source": [
    "## Load `phenotype_assocs` and `lv_weights`"
   ]
  },
  {
   "cell_type": "code",
   "execution_count": null,
   "id": "2f76e7df",
   "metadata": {
    "papermill": {
     "duration": 2.472304,
     "end_time": "2022-02-24T05:27:21.816899",
     "exception": false,
     "start_time": "2022-02-24T05:27:19.344595",
     "status": "completed"
    },
    "tags": []
   },
   "outputs": [],
   "source": [
    "lv_weights = GLSPhenoplier._get_data(\n",
    "    conf.PHENOMEXCAN[\"SMULTIXCAN_EFO_PARTIAL_MASHR_ZSCORES_FILE\"],\n",
    "    model_type=EQTL_MODEL,\n",
    ")[2]"
   ]
  },
  {
   "cell_type": "code",
   "execution_count": null,
   "id": "f62d2a26",
   "metadata": {
    "papermill": {
     "duration": 0.045852,
     "end_time": "2022-02-24T05:27:21.894670",
     "exception": false,
     "start_time": "2022-02-24T05:27:21.848818",
     "status": "completed"
    },
    "tags": []
   },
   "outputs": [],
   "source": [
    "lv_weights.shape"
   ]
  },
  {
   "cell_type": "code",
   "execution_count": null,
   "id": "56820d99",
   "metadata": {
    "papermill": {
     "duration": 0.060212,
     "end_time": "2022-02-24T05:27:21.980146",
     "exception": false,
     "start_time": "2022-02-24T05:27:21.919934",
     "status": "completed"
    },
    "tags": []
   },
   "outputs": [],
   "source": [
    "lv_weights.head()"
   ]
  },
  {
   "cell_type": "markdown",
   "id": "e6807b55",
   "metadata": {
    "tags": []
   },
   "source": [
    "## Generate simulated phenotypes"
   ]
  },
  {
   "cell_type": "code",
   "execution_count": null,
   "id": "097e8920",
   "metadata": {},
   "outputs": [],
   "source": [
    "# phenotype_codes = rs.choice(phenotype_list, size=N_SIMULATED_PHENOTYPES, replace=False)\n",
    "# display(phenotype_codes[:3])\n",
    "# display(len(phenotype_codes))\n",
    "# assert len(phenotype_codes) == N_SIMULATED_PHENOTYPES\n",
    "\n",
    "simulated_phenotypes = {\n",
    "    \"smultixcan phenotype 0\": smultixcan_results.loc[en_gene_dist.index]\n",
    "}\n",
    "\n",
    "for idx in tqdm(range(1, N_SIMULATED_PHENOTYPES)):\n",
    "    simulated_phenotypes[f\"smultixcan phenotype {idx}\"] = get_shuffled_phenotype()"
   ]
  },
  {
   "cell_type": "code",
   "execution_count": null,
   "id": "b33e1f3d",
   "metadata": {},
   "outputs": [],
   "source": [
    "display(len(simulated_phenotypes))\n",
    "assert len(simulated_phenotypes) == N_SIMULATED_PHENOTYPES"
   ]
  },
  {
   "cell_type": "code",
   "execution_count": null,
   "id": "d6bef225",
   "metadata": {},
   "outputs": [],
   "source": [
    "simulated_phenotypes[list(simulated_phenotypes.keys())[0]]"
   ]
  },
  {
   "cell_type": "code",
   "execution_count": null,
   "id": "8b04298f",
   "metadata": {},
   "outputs": [],
   "source": [
    "simulated_phenotypes = pd.DataFrame(simulated_phenotypes)"
   ]
  },
  {
   "cell_type": "code",
   "execution_count": null,
   "id": "3419062a",
   "metadata": {
    "papermill": {
     "duration": 276.976752,
     "end_time": "2022-02-24T05:31:59.142157",
     "exception": false,
     "start_time": "2022-02-24T05:27:22.165405",
     "status": "completed"
    }
   },
   "outputs": [],
   "source": [
    "simulated_phenotypes.shape"
   ]
  },
  {
   "cell_type": "code",
   "execution_count": null,
   "id": "58bea2e3",
   "metadata": {
    "papermill": {
     "duration": 0.063485,
     "end_time": "2022-02-24T05:31:59.250438",
     "exception": false,
     "start_time": "2022-02-24T05:31:59.186953",
     "status": "completed"
    }
   },
   "outputs": [],
   "source": [
    "simulated_phenotypes.head()"
   ]
  },
  {
   "cell_type": "code",
   "execution_count": null,
   "id": "59b9af33",
   "metadata": {},
   "outputs": [],
   "source": [
    "simulated_phenotypes.describe()"
   ]
  },
  {
   "cell_type": "markdown",
   "id": "2619aabf",
   "metadata": {
    "tags": []
   },
   "source": [
    "## Merge simulated phenotypes and LVs into one dataframe"
   ]
  },
  {
   "cell_type": "code",
   "execution_count": null,
   "id": "0aa0d78a",
   "metadata": {},
   "outputs": [],
   "source": [
    "# smultixcan_results = smultixcan_results.loc[smultixcan_results.index.intersection(lv_weights.index)]"
   ]
  },
  {
   "cell_type": "code",
   "execution_count": null,
   "id": "8fecb4f5",
   "metadata": {},
   "outputs": [],
   "source": [
    "# smultixcan_results.shape"
   ]
  },
  {
   "cell_type": "code",
   "execution_count": null,
   "id": "aeea3de8",
   "metadata": {},
   "outputs": [],
   "source": [
    "# smultixcan_results.head()"
   ]
  },
  {
   "cell_type": "code",
   "execution_count": null,
   "id": "660df043",
   "metadata": {},
   "outputs": [],
   "source": [
    "# assert not smultixcan_results.isna().any()"
   ]
  },
  {
   "cell_type": "code",
   "execution_count": null,
   "id": "1de2e6f9",
   "metadata": {},
   "outputs": [],
   "source": [
    "# simulated_phenotypes = pd.DataFrame({\"smultixcan_random_phenotype\": smultixcan_results})"
   ]
  },
  {
   "cell_type": "code",
   "execution_count": null,
   "id": "7ecbf5a9",
   "metadata": {},
   "outputs": [],
   "source": [
    "# simulated_phenotypes.shape"
   ]
  },
  {
   "cell_type": "code",
   "execution_count": null,
   "id": "e2bc45af",
   "metadata": {},
   "outputs": [],
   "source": [
    "# simulated_phenotypes.head()"
   ]
  },
  {
   "cell_type": "code",
   "execution_count": null,
   "id": "ec3e4dbd",
   "metadata": {},
   "outputs": [],
   "source": [
    "run_confs = pd.DataFrame(\n",
    "    data=itertools.product(\n",
    "        list(simulated_phenotypes.columns), list(lv_weights.columns)\n",
    "    ),\n",
    "    columns=[\"phenotype\", \"lv\"],\n",
    ")"
   ]
  },
  {
   "cell_type": "code",
   "execution_count": null,
   "id": "8d7bdb08",
   "metadata": {},
   "outputs": [],
   "source": [
    "run_confs"
   ]
  },
  {
   "cell_type": "markdown",
   "id": "424ab15b",
   "metadata": {
    "papermill": {
     "duration": 0.025213,
     "end_time": "2022-02-24T05:27:22.031914",
     "exception": false,
     "start_time": "2022-02-24T05:27:22.006701",
     "status": "completed"
    },
    "tags": []
   },
   "source": [
    "## Split run configurations"
   ]
  },
  {
   "cell_type": "code",
   "execution_count": null,
   "id": "98d8f708",
   "metadata": {},
   "outputs": [],
   "source": [
    "run_confs_chunks = chunker(run_confs.sample(frac=1, random_state=rs), CHUNK_SIZE)"
   ]
  },
  {
   "cell_type": "markdown",
   "id": "38a43283",
   "metadata": {
    "papermill": {
     "duration": 0.025213,
     "end_time": "2022-02-24T05:27:22.031914",
     "exception": false,
     "start_time": "2022-02-24T05:27:22.006701",
     "status": "completed"
    },
    "tags": []
   },
   "source": [
    "## Run"
   ]
  },
  {
   "cell_type": "code",
   "execution_count": null,
   "id": "1ebd69b7",
   "metadata": {},
   "outputs": [],
   "source": [
    "def run(run_confs_subset):\n",
    "    results = []\n",
    "\n",
    "    for phenotype_code, lv_code in run_confs_subset.itertuples(name=None, index=False):\n",
    "        phenotype = simulated_phenotypes[phenotype_code]\n",
    "\n",
    "        gls_model = GLSPhenoplier(\n",
    "            smultixcan_result_set_filepath=conf.PHENOMEXCAN[\n",
    "                \"SMULTIXCAN_EFO_PARTIAL_MASHR_ZSCORES_FILE\"\n",
    "            ],\n",
    "            model_type=EQTL_MODEL,\n",
    "        )\n",
    "        gls_model.fit_named(lv_code, phenotype)\n",
    "        res = gls_model.results\n",
    "\n",
    "        results.append(\n",
    "            {\n",
    "                \"phenotype\": phenotype_code,\n",
    "                \"lv\": lv_code,\n",
    "                \"coef\": res.params.loc[\"lv\"],\n",
    "                \"pvalue\": res.pvalues_onesided.loc[\"lv\"],\n",
    "            }\n",
    "        )\n",
    "\n",
    "    return get_df_from_results(results)"
   ]
  },
  {
   "cell_type": "code",
   "execution_count": null,
   "id": "e0bbf72d",
   "metadata": {
    "tags": []
   },
   "outputs": [],
   "source": [
    "all_results = []\n",
    "\n",
    "with tqdm(total=run_confs.shape[0]) as pbar:\n",
    "    with ProcessPoolExecutor(max_workers=conf.GENERAL[\"N_JOBS\"]) as executor:\n",
    "        tasks = [executor.submit(run, chunk) for chunk in run_confs_chunks]\n",
    "\n",
    "        for future in as_completed(tasks):\n",
    "            res = future.result()\n",
    "            all_results.append(res)\n",
    "\n",
    "            if (len(all_results) % conf.GENERAL[\"N_JOBS\"]) == 0:\n",
    "                df = pd.concat(all_results, ignore_index=True)\n",
    "                df.to_pickle(OUTPUT_FILENAME)\n",
    "\n",
    "            pbar.update(res.shape[0])"
   ]
  },
  {
   "cell_type": "code",
   "execution_count": null,
   "id": "cd910459",
   "metadata": {},
   "outputs": [],
   "source": [
    "all_results = pd.concat(all_results, ignore_index=True)"
   ]
  },
  {
   "cell_type": "code",
   "execution_count": null,
   "id": "6317e1b2",
   "metadata": {
    "tags": []
   },
   "outputs": [],
   "source": [
    "# results = get_df_from_results(results)"
   ]
  },
  {
   "cell_type": "code",
   "execution_count": null,
   "id": "50a0d6ce",
   "metadata": {
    "papermill": {
     "duration": 0.062045,
     "end_time": "2022-02-24T05:31:59.354776",
     "exception": false,
     "start_time": "2022-02-24T05:31:59.292731",
     "status": "completed"
    },
    "tags": []
   },
   "outputs": [],
   "source": [
    "all_results.shape"
   ]
  },
  {
   "cell_type": "code",
   "execution_count": null,
   "id": "37b1f262",
   "metadata": {
    "papermill": {
     "duration": 0.086869,
     "end_time": "2022-02-24T05:31:59.485344",
     "exception": false,
     "start_time": "2022-02-24T05:31:59.398475",
     "status": "completed"
    },
    "tags": []
   },
   "outputs": [],
   "source": [
    "all_results.head()"
   ]
  },
  {
   "cell_type": "code",
   "execution_count": null,
   "id": "6e01815c",
   "metadata": {
    "papermill": {
     "duration": 0.102836,
     "end_time": "2022-02-24T05:31:59.631470",
     "exception": false,
     "start_time": "2022-02-24T05:31:59.528634",
     "status": "completed"
    },
    "tags": []
   },
   "outputs": [],
   "source": [
    "all_results.sort_values(\"pvalue\").head(10)"
   ]
  },
  {
   "cell_type": "markdown",
   "id": "f9bf1e04",
   "metadata": {
    "papermill": {
     "duration": 0.042428,
     "end_time": "2022-02-24T05:31:59.716388",
     "exception": false,
     "start_time": "2022-02-24T05:31:59.673960",
     "status": "completed"
    },
    "tags": []
   },
   "source": [
    "## Save"
   ]
  },
  {
   "cell_type": "code",
   "execution_count": null,
   "id": "7fff888f",
   "metadata": {
    "papermill": {
     "duration": 0.067855,
     "end_time": "2022-02-24T05:31:59.826785",
     "exception": false,
     "start_time": "2022-02-24T05:31:59.758930",
     "status": "completed"
    },
    "tags": []
   },
   "outputs": [],
   "source": [
    "all_results.to_pickle(OUTPUT_FILENAME)"
   ]
  },
  {
   "cell_type": "code",
   "execution_count": null,
   "id": "12b12d08",
   "metadata": {
    "papermill": {
     "duration": 0.042196,
     "end_time": "2022-02-24T05:31:59.912389",
     "exception": false,
     "start_time": "2022-02-24T05:31:59.870193",
     "status": "completed"
    },
    "tags": []
   },
   "outputs": [],
   "source": []
  }
 ],
 "metadata": {
  "jupytext": {
   "cell_metadata_filter": "all,-execution,-papermill,-trusted",
   "formats": "ipynb,py//py:percent"
  },
  "kernelspec": {
   "display_name": "Python 3 (ipykernel)",
   "language": "python",
   "name": "python3"
  },
  "language_info": {
   "codemirror_mode": {
    "name": "ipython",
    "version": 3
   },
   "file_extension": ".py",
   "mimetype": "text/x-python",
   "name": "python",
   "nbconvert_exporter": "python",
   "pygments_lexer": "ipython3",
   "version": "3.8.12"
  },
  "papermill": {
   "default_parameters": {},
   "duration": 284.976164,
   "end_time": "2022-02-24T05:32:00.278080",
   "environment_variables": {},
   "exception": null,
   "input_path": "nbs/15_gsa_gls/25-gls-null_simulations.ipynb",
   "output_path": "nbs/15_gsa_gls/25-gls-null_simulations.run.ipynb",
   "parameters": {},
   "start_time": "2022-02-24T05:27:15.301916",
   "version": "2.2.2"
  }
 },
 "nbformat": 4,
 "nbformat_minor": 5
}
