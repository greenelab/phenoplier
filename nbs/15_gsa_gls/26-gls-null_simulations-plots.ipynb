{
 "cells": [
  {
   "cell_type": "markdown",
   "id": "1fe3b1f5",
   "metadata": {
    "papermill": {
     "duration": 0.038207,
     "end_time": "2022-02-24T05:32:03.755452",
     "exception": false,
     "start_time": "2022-02-24T05:32:03.717245",
     "status": "completed"
    },
    "tags": []
   },
   "source": [
    "# Description"
   ]
  },
  {
   "cell_type": "markdown",
   "id": "8fdb8a3b",
   "metadata": {
    "papermill": {
     "duration": 0.009944,
     "end_time": "2022-02-24T05:32:03.780673",
     "exception": false,
     "start_time": "2022-02-24T05:32:03.770729",
     "status": "completed"
    },
    "tags": []
   },
   "source": [
    "TODO"
   ]
  },
  {
   "cell_type": "markdown",
   "id": "ec002aac",
   "metadata": {
    "papermill": {
     "duration": 0.008401,
     "end_time": "2022-02-24T05:32:03.797668",
     "exception": false,
     "start_time": "2022-02-24T05:32:03.789267",
     "status": "completed"
    },
    "tags": []
   },
   "source": [
    "# Modules"
   ]
  },
  {
   "cell_type": "code",
   "execution_count": 1,
   "id": "a4df4656",
   "metadata": {
    "execution": {
     "iopub.execute_input": "2022-02-24T05:32:03.816053Z",
     "iopub.status.busy": "2022-02-24T05:32:03.815792Z",
     "iopub.status.idle": "2022-02-24T05:32:04.665666Z",
     "shell.execute_reply": "2022-02-24T05:32:04.665026Z"
    },
    "papermill": {
     "duration": 0.861241,
     "end_time": "2022-02-24T05:32:04.667481",
     "exception": false,
     "start_time": "2022-02-24T05:32:03.806240",
     "status": "completed"
    },
    "tags": []
   },
   "outputs": [],
   "source": [
    "from pathlib import Path\n",
    "\n",
    "# import statsmodels.api as sm\n",
    "import numpy as np\n",
    "from scipy.stats import uniform\n",
    "import pandas as pd\n",
    "from statsmodels.graphics.gofplots import qqplot_2samples\n",
    "import matplotlib.pyplot as plt\n",
    "\n",
    "import conf\n",
    "\n",
    "# from gls import GLSPhenoplier"
   ]
  },
  {
   "cell_type": "markdown",
   "id": "ba3ed180",
   "metadata": {
    "papermill": {
     "duration": 0.008701,
     "end_time": "2022-02-24T05:32:04.685435",
     "exception": false,
     "start_time": "2022-02-24T05:32:04.676734",
     "status": "completed"
    },
    "tags": []
   },
   "source": [
    "# Settings"
   ]
  },
  {
   "cell_type": "code",
   "execution_count": 2,
   "id": "52e9cec2",
   "metadata": {
    "execution": {
     "iopub.execute_input": "2022-02-24T05:32:04.704090Z",
     "iopub.status.busy": "2022-02-24T05:32:04.703882Z",
     "iopub.status.idle": "2022-02-24T05:32:04.709067Z",
     "shell.execute_reply": "2022-02-24T05:32:04.708672Z"
    },
    "papermill": {
     "duration": 0.016348,
     "end_time": "2022-02-24T05:32:04.710602",
     "exception": false,
     "start_time": "2022-02-24T05:32:04.694254",
     "status": "completed"
    },
    "tags": []
   },
   "outputs": [
    {
     "data": {
      "text/plain": [
       "PosixPath('/opt/data/results/gls')"
      ]
     },
     "metadata": {},
     "output_type": "display_data"
    }
   ],
   "source": [
    "INPUT_DIR = conf.RESULTS[\"GLS\"]\n",
    "display(INPUT_DIR)"
   ]
  },
  {
   "cell_type": "code",
   "execution_count": 3,
   "id": "91e2bf8f",
   "metadata": {
    "execution": {
     "iopub.execute_input": "2022-02-24T05:32:04.731267Z",
     "iopub.status.busy": "2022-02-24T05:32:04.731108Z",
     "iopub.status.idle": "2022-02-24T05:32:04.734714Z",
     "shell.execute_reply": "2022-02-24T05:32:04.734348Z"
    },
    "papermill": {
     "duration": 0.015178,
     "end_time": "2022-02-24T05:32:04.735972",
     "exception": false,
     "start_time": "2022-02-24T05:32:04.720794",
     "status": "completed"
    },
    "tags": []
   },
   "outputs": [
    {
     "data": {
      "text/plain": [
       "PosixPath('/opt/data/results/gls/gls-null_simulations.pkl')"
      ]
     },
     "metadata": {},
     "output_type": "display_data"
    }
   ],
   "source": [
    "INPUT_FILENAME = INPUT_DIR / \"gls-null_simulations.pkl\"\n",
    "display(INPUT_FILENAME)\n",
    "assert INPUT_FILENAME.exists()"
   ]
  },
  {
   "cell_type": "markdown",
   "id": "05e5bcd4",
   "metadata": {
    "papermill": {
     "duration": 0.00954,
     "end_time": "2022-02-24T05:32:04.755655",
     "exception": false,
     "start_time": "2022-02-24T05:32:04.746115",
     "status": "completed"
    },
    "tags": []
   },
   "source": [
    "# Load data"
   ]
  },
  {
   "cell_type": "markdown",
   "id": "1e9acda3",
   "metadata": {
    "papermill": {
     "duration": 0.009504,
     "end_time": "2022-02-24T05:32:04.774799",
     "exception": false,
     "start_time": "2022-02-24T05:32:04.765295",
     "status": "completed"
    },
    "tags": []
   },
   "source": [
    "## Null simulations"
   ]
  },
  {
   "cell_type": "code",
   "execution_count": 4,
   "id": "5988b367",
   "metadata": {
    "execution": {
     "iopub.execute_input": "2022-02-24T05:32:04.795425Z",
     "iopub.status.busy": "2022-02-24T05:32:04.795235Z",
     "iopub.status.idle": "2022-02-24T05:32:04.807146Z",
     "shell.execute_reply": "2022-02-24T05:32:04.806588Z"
    },
    "papermill": {
     "duration": 0.023945,
     "end_time": "2022-02-24T05:32:04.808813",
     "exception": false,
     "start_time": "2022-02-24T05:32:04.784868",
     "status": "completed"
    },
    "tags": []
   },
   "outputs": [],
   "source": [
    "results = pd.read_pickle(INPUT_FILENAME)"
   ]
  },
  {
   "cell_type": "code",
   "execution_count": 5,
   "id": "6d294110",
   "metadata": {
    "execution": {
     "iopub.execute_input": "2022-02-24T05:32:04.829831Z",
     "iopub.status.busy": "2022-02-24T05:32:04.829593Z",
     "iopub.status.idle": "2022-02-24T05:32:04.833391Z",
     "shell.execute_reply": "2022-02-24T05:32:04.832956Z"
    },
    "papermill": {
     "duration": 0.015781,
     "end_time": "2022-02-24T05:32:04.834694",
     "exception": false,
     "start_time": "2022-02-24T05:32:04.818913",
     "status": "completed"
    },
    "tags": []
   },
   "outputs": [
    {
     "data": {
      "text/plain": [
       "(30, 6)"
      ]
     },
     "execution_count": 5,
     "metadata": {},
     "output_type": "execute_result"
    }
   ],
   "source": [
    "results.shape"
   ]
  },
  {
   "cell_type": "code",
   "execution_count": 6,
   "id": "8ade3219",
   "metadata": {
    "execution": {
     "iopub.execute_input": "2022-02-24T05:32:04.856921Z",
     "iopub.status.busy": "2022-02-24T05:32:04.856765Z",
     "iopub.status.idle": "2022-02-24T05:32:04.882817Z",
     "shell.execute_reply": "2022-02-24T05:32:04.882290Z"
    },
    "papermill": {
     "duration": 0.038689,
     "end_time": "2022-02-24T05:32:04.884154",
     "exception": false,
     "start_time": "2022-02-24T05:32:04.845465",
     "status": "completed"
    },
    "tags": []
   },
   "outputs": [
    {
     "data": {
      "text/html": [
       "<div>\n",
       "<style scoped>\n",
       "    .dataframe tbody tr th:only-of-type {\n",
       "        vertical-align: middle;\n",
       "    }\n",
       "\n",
       "    .dataframe tbody tr th {\n",
       "        vertical-align: top;\n",
       "    }\n",
       "\n",
       "    .dataframe thead th {\n",
       "        text-align: right;\n",
       "    }\n",
       "</style>\n",
       "<table border=\"1\" class=\"dataframe\">\n",
       "  <thead>\n",
       "    <tr style=\"text-align: right;\">\n",
       "      <th></th>\n",
       "      <th>phenotype</th>\n",
       "      <th>lv</th>\n",
       "      <th>coef</th>\n",
       "      <th>pvalue</th>\n",
       "      <th>pvalue_twosided</th>\n",
       "      <th>summary</th>\n",
       "    </tr>\n",
       "  </thead>\n",
       "  <tbody>\n",
       "    <tr>\n",
       "      <th>0</th>\n",
       "      <td>random_normal-0</td>\n",
       "      <td>LV1</td>\n",
       "      <td>0.010088</td>\n",
       "      <td>0.208194</td>\n",
       "      <td>0.416388</td>\n",
       "      <td>GLS Regression Res...</td>\n",
       "    </tr>\n",
       "    <tr>\n",
       "      <th>1</th>\n",
       "      <td>random_normal-0</td>\n",
       "      <td>LV2</td>\n",
       "      <td>0.003398</td>\n",
       "      <td>0.392886</td>\n",
       "      <td>0.785772</td>\n",
       "      <td>GLS Regression Res...</td>\n",
       "    </tr>\n",
       "    <tr>\n",
       "      <th>2</th>\n",
       "      <td>random_normal-0</td>\n",
       "      <td>LV3</td>\n",
       "      <td>0.008308</td>\n",
       "      <td>0.256323</td>\n",
       "      <td>0.512647</td>\n",
       "      <td>GLS Regression Res...</td>\n",
       "    </tr>\n",
       "    <tr>\n",
       "      <th>3</th>\n",
       "      <td>random_normal-1</td>\n",
       "      <td>LV1</td>\n",
       "      <td>0.013093</td>\n",
       "      <td>0.144843</td>\n",
       "      <td>0.289685</td>\n",
       "      <td>GLS Regression Res...</td>\n",
       "    </tr>\n",
       "    <tr>\n",
       "      <th>4</th>\n",
       "      <td>random_normal-1</td>\n",
       "      <td>LV2</td>\n",
       "      <td>0.004008</td>\n",
       "      <td>0.373797</td>\n",
       "      <td>0.747594</td>\n",
       "      <td>GLS Regression Res...</td>\n",
       "    </tr>\n",
       "  </tbody>\n",
       "</table>\n",
       "</div>"
      ],
      "text/plain": [
       "         phenotype   lv      coef    pvalue  pvalue_twosided  \\\n",
       "0  random_normal-0  LV1  0.010088  0.208194         0.416388   \n",
       "1  random_normal-0  LV2  0.003398  0.392886         0.785772   \n",
       "2  random_normal-0  LV3  0.008308  0.256323         0.512647   \n",
       "3  random_normal-1  LV1  0.013093  0.144843         0.289685   \n",
       "4  random_normal-1  LV2  0.004008  0.373797         0.747594   \n",
       "\n",
       "                                             summary  \n",
       "0                              GLS Regression Res...  \n",
       "1                              GLS Regression Res...  \n",
       "2                              GLS Regression Res...  \n",
       "3                              GLS Regression Res...  \n",
       "4                              GLS Regression Res...  "
      ]
     },
     "execution_count": 6,
     "metadata": {},
     "output_type": "execute_result"
    }
   ],
   "source": [
    "results.head()"
   ]
  },
  {
   "cell_type": "markdown",
   "id": "002479d8",
   "metadata": {
    "papermill": {
     "duration": 0.010426,
     "end_time": "2022-02-24T05:32:04.905993",
     "exception": false,
     "start_time": "2022-02-24T05:32:04.895567",
     "status": "completed"
    },
    "tags": []
   },
   "source": [
    "# Plots"
   ]
  },
  {
   "cell_type": "code",
   "execution_count": 7,
   "id": "b02b6b3e",
   "metadata": {
    "execution": {
     "iopub.execute_input": "2022-02-24T05:32:04.928005Z",
     "iopub.status.busy": "2022-02-24T05:32:04.927793Z",
     "iopub.status.idle": "2022-02-24T05:32:04.931696Z",
     "shell.execute_reply": "2022-02-24T05:32:04.931273Z"
    },
    "papermill": {
     "duration": 0.016445,
     "end_time": "2022-02-24T05:32:04.933024",
     "exception": false,
     "start_time": "2022-02-24T05:32:04.916579",
     "status": "completed"
    },
    "tags": []
   },
   "outputs": [],
   "source": [
    "# data = -np.log10(results[\"pvalue\"].to_numpy())\n",
    "data = results[\"pvalue\"].to_numpy()\n",
    "# uniform_data = -np.log10(uniform.rvs(size=data.shape[0]))\n",
    "uniform_data = np.linspace(data.min(), data.max(), num=data.shape[0])"
   ]
  },
  {
   "cell_type": "code",
   "execution_count": 8,
   "id": "3f2ba911",
   "metadata": {
    "execution": {
     "iopub.execute_input": "2022-02-24T05:32:04.957016Z",
     "iopub.status.busy": "2022-02-24T05:32:04.956839Z",
     "iopub.status.idle": "2022-02-24T05:32:04.960759Z",
     "shell.execute_reply": "2022-02-24T05:32:04.960322Z"
    },
    "papermill": {
     "duration": 0.018047,
     "end_time": "2022-02-24T05:32:04.962092",
     "exception": false,
     "start_time": "2022-02-24T05:32:04.944045",
     "status": "completed"
    },
    "tags": []
   },
   "outputs": [
    {
     "data": {
      "text/plain": [
       "array([0.03978535, 0.07139005, 0.10299474, 0.13459943, 0.16620413,\n",
       "       0.19780882, 0.22941351, 0.26101821, 0.2926229 , 0.32422759,\n",
       "       0.35583229, 0.38743698, 0.41904168, 0.45064637, 0.48225106,\n",
       "       0.51385576, 0.54546045, 0.57706514, 0.60866984, 0.64027453,\n",
       "       0.67187923, 0.70348392, 0.73508861, 0.76669331, 0.798298  ,\n",
       "       0.82990269, 0.86150739, 0.89311208, 0.92471677, 0.95632147])"
      ]
     },
     "execution_count": 8,
     "metadata": {},
     "output_type": "execute_result"
    }
   ],
   "source": [
    "uniform_data"
   ]
  },
  {
   "cell_type": "code",
   "execution_count": 9,
   "id": "ffb60659",
   "metadata": {
    "execution": {
     "iopub.execute_input": "2022-02-24T05:32:04.987215Z",
     "iopub.status.busy": "2022-02-24T05:32:04.986370Z",
     "iopub.status.idle": "2022-02-24T05:32:05.115766Z",
     "shell.execute_reply": "2022-02-24T05:32:05.115193Z"
    },
    "papermill": {
     "duration": 0.142909,
     "end_time": "2022-02-24T05:32:05.117221",
     "exception": false,
     "start_time": "2022-02-24T05:32:04.974312",
     "status": "completed"
    },
    "tags": []
   },
   "outputs": [
    {
     "data": {
      "text/plain": [
       "Text(0.5, 1.0, 'QQ-Plot')"
      ]
     },
     "execution_count": 9,
     "metadata": {},
     "output_type": "execute_result"
    },
    {
     "data": {
      "image/png": "[encoded data removed]",
      "text/plain": [
       "<Figure size 360x360 with 1 Axes>"
      ]
     },
     "metadata": {
      "needs_background": "light"
     },
     "output_type": "display_data"
    }
   ],
   "source": [
    "fig, ax = plt.subplots(figsize=(5, 5))\n",
    "\n",
    "fig = qqplot_2samples(-np.log10(uniform_data), -np.log10(data), line=\"45\", ax=ax)\n",
    "\n",
    "ax.set_xlabel(\"-log10(expected pvalue)\")\n",
    "ax.set_ylabel(\"-log10(observed pvalue)\")\n",
    "ax.set_title(\"QQ-Plot\")"
   ]
  },
  {
   "cell_type": "code",
   "execution_count": null,
   "id": "8cf3ec38",
   "metadata": {
    "papermill": {
     "duration": 0.011924,
     "end_time": "2022-02-24T05:32:05.141706",
     "exception": false,
     "start_time": "2022-02-24T05:32:05.129782",
     "status": "completed"
    },
    "tags": []
   },
   "outputs": [],
   "source": []
  }
 ],
 "metadata": {
  "jupytext": {
   "cell_metadata_filter": "all,-execution,-papermill,-trusted",
   "formats": "ipynb,py//py:percent"
  },
  "kernelspec": {
   "display_name": "Python 3 (ipykernel)",
   "language": "python",
   "name": "python3"
  },
  "language_info": {
   "codemirror_mode": {
    "name": "ipython",
    "version": 3
   },
   "file_extension": ".py",
   "mimetype": "text/x-python",
   "name": "python",
   "nbconvert_exporter": "python",
   "pygments_lexer": "ipython3",
   "version": "3.8.12"
  },
  "papermill": {
   "default_parameters": {},
   "duration": 2.899223,
   "end_time": "2022-02-24T05:32:05.472242",
   "environment_variables": {},
   "exception": null,
   "input_path": "nbs/15_gsa_gls/26-gls-null_simulations-plots.ipynb",
   "output_path": "nbs/15_gsa_gls/26-gls-null_simulations-plots.run.ipynb",
   "parameters": {},
   "start_time": "2022-02-24T05:32:02.573019",
   "version": "2.2.2"
  }
 },
 "nbformat": 4,
 "nbformat_minor": 5
}
