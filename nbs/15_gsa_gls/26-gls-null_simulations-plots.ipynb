{
 "cells": [
  {
   "cell_type": "markdown",
   "id": "1fe3b1f5",
   "metadata": {
    "papermill": {
     "duration": 0.052918,
     "end_time": "2021-07-13T18:19:13.607493",
     "exception": false,
     "start_time": "2021-07-13T18:19:13.554575",
     "status": "completed"
    },
    "tags": []
   },
   "source": [
    "# Description"
   ]
  },
  {
   "cell_type": "markdown",
   "id": "8fdb8a3b",
   "metadata": {
    "papermill": {
     "duration": 0.01605,
     "end_time": "2021-07-13T18:19:13.641424",
     "exception": false,
     "start_time": "2021-07-13T18:19:13.625374",
     "status": "completed"
    },
    "tags": []
   },
   "source": [
    "TODO"
   ]
  },
  {
   "cell_type": "markdown",
   "id": "ec002aac",
   "metadata": {
    "papermill": {
     "duration": 0.017628,
     "end_time": "2021-07-13T18:19:13.896334",
     "exception": false,
     "start_time": "2021-07-13T18:19:13.878706",
     "status": "completed"
    },
    "tags": []
   },
   "source": [
    "# Modules"
   ]
  },
  {
   "cell_type": "code",
   "execution_count": null,
   "id": "a4df4656",
   "metadata": {
    "papermill": {
     "duration": 0.765338,
     "end_time": "2021-07-13T18:19:14.677976",
     "exception": false,
     "start_time": "2021-07-13T18:19:13.912638",
     "status": "completed"
    },
    "tags": []
   },
   "outputs": [],
   "source": [
    "from pathlib import Path\n",
    "\n",
    "# import statsmodels.api as sm\n",
    "import numpy as np\n",
    "from scipy.stats import uniform\n",
    "import pandas as pd\n",
    "from statsmodels.graphics.gofplots import qqplot_2samples\n",
    "import matplotlib.pyplot as plt\n",
    "\n",
    "import conf\n",
    "\n",
    "# from gls import GLSPhenoplier"
   ]
  },
  {
   "cell_type": "markdown",
   "id": "ba3ed180",
   "metadata": {
    "papermill": {
     "duration": 0.016805,
     "end_time": "2021-07-13T18:19:14.713306",
     "exception": false,
     "start_time": "2021-07-13T18:19:14.696501",
     "status": "completed"
    },
    "tags": []
   },
   "source": [
    "# Settings"
   ]
  },
  {
   "cell_type": "code",
   "execution_count": null,
   "id": "52e9cec2",
   "metadata": {
    "papermill": {
     "duration": 0.030638,
     "end_time": "2021-07-13T18:19:14.760546",
     "exception": false,
     "start_time": "2021-07-13T18:19:14.729908",
     "status": "completed"
    },
    "tags": []
   },
   "outputs": [],
   "source": [
    "INPUT_DIR = conf.RESULTS[\"GLS\"]\n",
    "display(INPUT_DIR)"
   ]
  },
  {
   "cell_type": "code",
   "execution_count": null,
   "id": "91e2bf8f",
   "metadata": {
    "papermill": {
     "duration": 0.03094,
     "end_time": "2021-07-13T18:19:14.808766",
     "exception": false,
     "start_time": "2021-07-13T18:19:14.777826",
     "status": "completed"
    },
    "tags": []
   },
   "outputs": [],
   "source": [
    "INPUT_FILENAME = INPUT_DIR / \"gls-null_simulations.pkl\"\n",
    "display(INPUT_FILENAME)\n",
    "assert INPUT_FILENAME.exists()"
   ]
  },
  {
   "cell_type": "markdown",
   "id": "05e5bcd4",
   "metadata": {
    "papermill": {
     "duration": 0.021412,
     "end_time": "2021-07-13T18:19:14.848089",
     "exception": false,
     "start_time": "2021-07-13T18:19:14.826677",
     "status": "completed"
    },
    "tags": []
   },
   "source": [
    "# Load data"
   ]
  },
  {
   "cell_type": "markdown",
   "id": "1e9acda3",
   "metadata": {
    "papermill": {
     "duration": 0.017486,
     "end_time": "2021-07-13T18:19:14.885092",
     "exception": false,
     "start_time": "2021-07-13T18:19:14.867606",
     "status": "completed"
    },
    "tags": []
   },
   "source": [
    "## Null simulations"
   ]
  },
  {
   "cell_type": "code",
   "execution_count": null,
   "id": "5988b367",
   "metadata": {},
   "outputs": [],
   "source": [
    "results = pd.read_pickle(INPUT_FILENAME)"
   ]
  },
  {
   "cell_type": "code",
   "execution_count": null,
   "id": "6d294110",
   "metadata": {},
   "outputs": [],
   "source": [
    "results.shape"
   ]
  },
  {
   "cell_type": "code",
   "execution_count": null,
   "id": "8ade3219",
   "metadata": {},
   "outputs": [],
   "source": [
    "results.head()"
   ]
  },
  {
   "cell_type": "markdown",
   "id": "002479d8",
   "metadata": {
    "papermill": {
     "duration": 0.021719,
     "end_time": "2021-07-13T18:19:16.269567",
     "exception": false,
     "start_time": "2021-07-13T18:19:16.247848",
     "status": "completed"
    },
    "tags": []
   },
   "source": [
    "# Plots"
   ]
  },
  {
   "cell_type": "code",
   "execution_count": null,
   "id": "b02b6b3e",
   "metadata": {},
   "outputs": [],
   "source": [
    "# data = -np.log10(results[\"pvalue\"].to_numpy())\n",
    "data = results[\"pvalue\"].to_numpy()\n",
    "# uniform_data = -np.log10(uniform.rvs(size=data.shape[0]))\n",
    "uniform_data = np.linspace(data.min(), data.max(), num=data.shape[0])"
   ]
  },
  {
   "cell_type": "code",
   "execution_count": null,
   "id": "3f2ba911",
   "metadata": {},
   "outputs": [],
   "source": [
    "uniform_data"
   ]
  },
  {
   "cell_type": "code",
   "execution_count": null,
   "id": "ffb60659",
   "metadata": {
    "papermill": {
     "duration": 0.828404,
     "end_time": "2021-07-14T01:12:11.993638",
     "exception": false,
     "start_time": "2021-07-14T01:12:11.165234",
     "status": "completed"
    },
    "tags": []
   },
   "outputs": [],
   "source": [
    "fig, ax = plt.subplots(figsize=(5, 5))\n",
    "\n",
    "fig = qqplot_2samples(-np.log10(uniform_data), -np.log10(data), line=\"45\", ax=ax)\n",
    "\n",
    "ax.set_xlabel(\"-log10(expected pvalue)\")\n",
    "ax.set_ylabel(\"-log10(observed pvalue)\")\n",
    "ax.set_title(\"QQ-Plot\")"
   ]
  },
  {
   "cell_type": "code",
   "execution_count": null,
   "id": "8cf3ec38",
   "metadata": {},
   "outputs": [],
   "source": []
  }
 ],
 "metadata": {
  "jupytext": {
   "cell_metadata_filter": "all,-execution,-papermill,-trusted",
   "formats": "ipynb,py//py:percent"
  },
  "kernelspec": {
   "display_name": "Python 3 (ipykernel)",
   "language": "python",
   "name": "python3"
  },
  "language_info": {
   "codemirror_mode": {
    "name": "ipython",
    "version": 3
   },
   "file_extension": ".py",
   "mimetype": "text/x-python",
   "name": "python",
   "nbconvert_exporter": "python",
   "pygments_lexer": "ipython3",
   "version": "3.8.12"
  },
  "papermill": {
   "default_parameters": {},
   "duration": 24782.138194,
   "end_time": "2021-07-14T01:12:14.711855",
   "environment_variables": {},
   "exception": null,
   "input_path": "08_gsa_gls/30-gls_on_phenotypes-phenomexcan.ipynb",
   "output_path": "08_gsa_gls/30-gls_on_phenotypes-phenomexcan.run.ipynb",
   "parameters": {},
   "start_time": "2021-07-13T18:19:12.573661",
   "version": "2.2.2"
  }
 },
 "nbformat": 4,
 "nbformat_minor": 5
}
