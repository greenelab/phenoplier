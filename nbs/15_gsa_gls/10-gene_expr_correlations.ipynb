{
 "cells": [
  {
   "cell_type": "markdown",
   "id": "19759d6e",
   "metadata": {
    "papermill": {
     "duration": 0.018708,
     "end_time": "2021-04-28T22:27:16.472059",
     "exception": false,
     "start_time": "2021-04-28T22:27:16.453351",
     "status": "completed"
    },
    "tags": []
   },
   "source": [
    "# Description"
   ]
  },
  {
   "cell_type": "markdown",
   "id": "a060c998",
   "metadata": {
    "papermill": {
     "duration": 0.015071,
     "end_time": "2021-04-28T22:27:16.502145",
     "exception": false,
     "start_time": "2021-04-28T22:27:16.487074",
     "status": "completed"
    },
    "tags": []
   },
   "source": [
    "This notebook computes predicted expression correlations between all genes in the MultiPLIER models.\n",
    "\n",
    "It also has a parameter set for papermill to run on a single chromosome to run in parallel (see under `Settings` below).\n",
    "\n",
    "This notebook does not have an output because it is not directly run. If you want to see outputs for each chromosome, check out the `gene_corrs` folder, which contains a copy of this notebook for each chromosome."
   ]
  },
  {
   "cell_type": "markdown",
   "id": "ae74b8d4",
   "metadata": {
    "papermill": {
     "duration": 0.014891,
     "end_time": "2021-04-28T22:27:16.532200",
     "exception": false,
     "start_time": "2021-04-28T22:27:16.517309",
     "status": "completed"
    },
    "tags": []
   },
   "source": [
    "# Modules"
   ]
  },
  {
   "cell_type": "code",
   "execution_count": null,
   "id": "5ee1d4ef",
   "metadata": {
    "papermill": {
     "duration": 0.027924,
     "end_time": "2021-04-28T22:27:16.575188",
     "exception": false,
     "start_time": "2021-04-28T22:27:16.547264",
     "status": "completed"
    },
    "tags": []
   },
   "outputs": [],
   "source": [
    "%load_ext autoreload\n",
    "%autoreload 2"
   ]
  },
  {
   "cell_type": "code",
   "execution_count": null,
   "id": "33214b4f",
   "metadata": {
    "papermill": {
     "duration": 0.461025,
     "end_time": "2021-04-28T22:27:17.051883",
     "exception": false,
     "start_time": "2021-04-28T22:27:16.590858",
     "status": "completed"
    },
    "tags": []
   },
   "outputs": [],
   "source": [
    "import numpy as np\n",
    "from scipy.spatial.distance import squareform\n",
    "import pandas as pd\n",
    "from tqdm import tqdm\n",
    "\n",
    "import conf\n",
    "from entity import Gene"
   ]
  },
  {
   "cell_type": "markdown",
   "id": "1ac1ceb6",
   "metadata": {
    "papermill": {
     "duration": 0.01618,
     "end_time": "2021-04-28T22:27:17.085464",
     "exception": false,
     "start_time": "2021-04-28T22:27:17.069284",
     "status": "completed"
    },
    "tags": []
   },
   "source": [
    "# Settings"
   ]
  },
  {
   "cell_type": "code",
   "execution_count": null,
   "id": "757480b0",
   "metadata": {
    "tags": [
     "parameters"
    ]
   },
   "outputs": [],
   "source": [
    "# mashr\n",
    "EQTL_MODEL = \"MASHR\"\n",
    "EQTL_MODEL_FILES_PREFIX = \"mashr_\"\n",
    "\n",
    "# # elastic net\n",
    "# EQTL_MODEL = \"ELASTIC_NET\"\n",
    "# EQTL_MODEL_FILES_PREFIX = \"en_\"\n",
    "\n",
    "# make it read the prefix from conf.py\n",
    "EQTL_MODEL_FILES_PREFIX = None\n",
    "\n",
    "# specifies a single chromosome value\n",
    "# by default, run on all chromosomes\n",
    "chromosome = \"all\""
   ]
  },
  {
   "cell_type": "code",
   "execution_count": null,
   "id": "84d74e57",
   "metadata": {},
   "outputs": [],
   "source": [
    "if EQTL_MODEL_FILES_PREFIX is None:\n",
    "    EQTL_MODEL_FILES_PREFIX = PHENOMEXCAN[\"PREDICTION_MODELS\"][f\"{EQTL_MODEL}_PREFIX\"]"
   ]
  },
  {
   "cell_type": "code",
   "execution_count": null,
   "id": "7d63d431",
   "metadata": {},
   "outputs": [],
   "source": [
    "display(f\"Using eQTL model: {EQTL_MODEL} / {EQTL_MODEL_FILES_PREFIX}\")"
   ]
  },
  {
   "cell_type": "code",
   "execution_count": null,
   "id": "746eb85f",
   "metadata": {},
   "outputs": [],
   "source": [
    "if chromosome == \"all\":\n",
    "    from time import sleep\n",
    "\n",
    "    message = \"\"\"\n",
    "    WARNING: you are going to compute correlations of gene predicted expression across all chromosomes without parallelism.\n",
    "    It is recommended that you look at the README.md file in this subfolder (nbs/08_gsa_gls/README.md) to know how to do that.\n",
    "    \n",
    "    It will continue in 20 seconds.\n",
    "    \"\"\"\n",
    "    print(message)\n",
    "    sleep(20)"
   ]
  },
  {
   "cell_type": "markdown",
   "id": "9cba0067",
   "metadata": {
    "papermill": {
     "duration": 0.01618,
     "end_time": "2021-04-28T22:27:17.085464",
     "exception": false,
     "start_time": "2021-04-28T22:27:17.069284",
     "status": "completed"
    },
    "tags": []
   },
   "source": [
    "# Load data"
   ]
  },
  {
   "cell_type": "markdown",
   "id": "a11e5982",
   "metadata": {
    "papermill": {
     "duration": 0.016156,
     "end_time": "2021-04-28T22:27:17.704727",
     "exception": false,
     "start_time": "2021-04-28T22:27:17.688571",
     "status": "completed"
    },
    "tags": []
   },
   "source": [
    "## MultiPLIER Z"
   ]
  },
  {
   "cell_type": "code",
   "execution_count": null,
   "id": "eaf34c96",
   "metadata": {
    "papermill": {
     "duration": 0.050172,
     "end_time": "2021-04-28T22:27:17.770996",
     "exception": false,
     "start_time": "2021-04-28T22:27:17.720824",
     "status": "completed"
    },
    "tags": []
   },
   "outputs": [],
   "source": [
    "multiplier_z_genes = pd.read_pickle(\n",
    "    conf.MULTIPLIER[\"MODEL_Z_MATRIX_FILE\"]\n",
    ").index.tolist()"
   ]
  },
  {
   "cell_type": "code",
   "execution_count": null,
   "id": "14f1dd42",
   "metadata": {
    "papermill": {
     "duration": 0.027596,
     "end_time": "2021-04-28T22:27:17.819065",
     "exception": false,
     "start_time": "2021-04-28T22:27:17.791469",
     "status": "completed"
    },
    "tags": []
   },
   "outputs": [],
   "source": [
    "len(multiplier_z_genes)"
   ]
  },
  {
   "cell_type": "code",
   "execution_count": null,
   "id": "68a7407b",
   "metadata": {
    "papermill": {
     "duration": 0.027396,
     "end_time": "2021-04-28T22:27:17.863147",
     "exception": false,
     "start_time": "2021-04-28T22:27:17.835751",
     "status": "completed"
    },
    "tags": []
   },
   "outputs": [],
   "source": [
    "multiplier_z_genes[:10]"
   ]
  },
  {
   "cell_type": "markdown",
   "id": "11fb1813",
   "metadata": {
    "papermill": {
     "duration": 0.016403,
     "end_time": "2021-04-28T22:27:17.896463",
     "exception": false,
     "start_time": "2021-04-28T22:27:17.880060",
     "status": "completed"
    },
    "tags": []
   },
   "source": [
    "## Get gene objects"
   ]
  },
  {
   "cell_type": "code",
   "execution_count": null,
   "id": "cd07f0c8",
   "metadata": {
    "papermill": {
     "duration": 0.032133,
     "end_time": "2021-04-28T22:27:17.945091",
     "exception": false,
     "start_time": "2021-04-28T22:27:17.912958",
     "status": "completed"
    },
    "tags": []
   },
   "outputs": [],
   "source": [
    "multiplier_gene_obj = {\n",
    "    gene_name: Gene(name=gene_name)\n",
    "    for gene_name in multiplier_z_genes\n",
    "    if gene_name in Gene.GENE_NAME_TO_ID_MAP\n",
    "}"
   ]
  },
  {
   "cell_type": "code",
   "execution_count": null,
   "id": "59abbe5f",
   "metadata": {
    "papermill": {
     "duration": 0.028153,
     "end_time": "2021-04-28T22:27:17.990710",
     "exception": false,
     "start_time": "2021-04-28T22:27:17.962557",
     "status": "completed"
    },
    "tags": []
   },
   "outputs": [],
   "source": [
    "len(multiplier_gene_obj)"
   ]
  },
  {
   "cell_type": "code",
   "execution_count": null,
   "id": "de9085d7",
   "metadata": {
    "papermill": {
     "duration": 0.028361,
     "end_time": "2021-04-28T22:27:18.036595",
     "exception": false,
     "start_time": "2021-04-28T22:27:18.008234",
     "status": "completed"
    },
    "tags": []
   },
   "outputs": [],
   "source": [
    "multiplier_gene_obj[\"GAS6\"].ensembl_id"
   ]
  },
  {
   "cell_type": "code",
   "execution_count": null,
   "id": "77d63e2f",
   "metadata": {
    "papermill": {
     "duration": 0.693976,
     "end_time": "2021-04-28T22:27:18.748183",
     "exception": false,
     "start_time": "2021-04-28T22:27:18.054207",
     "status": "completed"
    },
    "tags": []
   },
   "outputs": [],
   "source": [
    "_gene_obj = list(multiplier_gene_obj.values())\n",
    "\n",
    "genes_info = pd.DataFrame(\n",
    "    {\n",
    "        \"name\": [g.name for g in _gene_obj],\n",
    "        \"id\": [g.ensembl_id for g in _gene_obj],\n",
    "        \"chr\": [g.chromosome for g in _gene_obj],\n",
    "    }\n",
    ")"
   ]
  },
  {
   "cell_type": "code",
   "execution_count": null,
   "id": "0980d345",
   "metadata": {
    "papermill": {
     "duration": 0.028574,
     "end_time": "2021-04-28T22:27:18.793860",
     "exception": false,
     "start_time": "2021-04-28T22:27:18.765286",
     "status": "completed"
    },
    "tags": []
   },
   "outputs": [],
   "source": [
    "genes_info.shape"
   ]
  },
  {
   "cell_type": "code",
   "execution_count": null,
   "id": "31865636",
   "metadata": {
    "papermill": {
     "duration": 0.03142,
     "end_time": "2021-04-28T22:27:18.843921",
     "exception": false,
     "start_time": "2021-04-28T22:27:18.812501",
     "status": "completed"
    },
    "tags": []
   },
   "outputs": [],
   "source": [
    "genes_info.head()"
   ]
  },
  {
   "cell_type": "markdown",
   "id": "c62d1efb",
   "metadata": {
    "papermill": {
     "duration": 0.017762,
     "end_time": "2021-04-28T22:27:18.880002",
     "exception": false,
     "start_time": "2021-04-28T22:27:18.862240",
     "status": "completed"
    },
    "tags": []
   },
   "source": [
    "## Get tissues names"
   ]
  },
  {
   "cell_type": "code",
   "execution_count": null,
   "id": "a3003912",
   "metadata": {
    "papermill": {
     "duration": 0.028783,
     "end_time": "2021-04-28T22:27:18.926607",
     "exception": false,
     "start_time": "2021-04-28T22:27:18.897824",
     "status": "completed"
    },
    "tags": []
   },
   "outputs": [],
   "source": [
    "db_files = list(conf.PHENOMEXCAN[\"PREDICTION_MODELS\"][EQTL_MODEL].glob(\"*.db\"))"
   ]
  },
  {
   "cell_type": "code",
   "execution_count": null,
   "id": "b456ce84",
   "metadata": {
    "papermill": {
     "duration": 0.028322,
     "end_time": "2021-04-28T22:27:18.973419",
     "exception": false,
     "start_time": "2021-04-28T22:27:18.945097",
     "status": "completed"
    },
    "tags": []
   },
   "outputs": [],
   "source": [
    "assert len(db_files) == 49"
   ]
  },
  {
   "cell_type": "code",
   "execution_count": null,
   "id": "2071afe7",
   "metadata": {
    "papermill": {
     "duration": 0.028928,
     "end_time": "2021-04-28T22:27:19.021298",
     "exception": false,
     "start_time": "2021-04-28T22:27:18.992370",
     "status": "completed"
    },
    "tags": []
   },
   "outputs": [],
   "source": [
    "tissues = [str(f).split(EQTL_MODEL_FILES_PREFIX)[1].split(\".db\")[0] for f in db_files]"
   ]
  },
  {
   "cell_type": "code",
   "execution_count": null,
   "id": "11bb79a7",
   "metadata": {
    "papermill": {
     "duration": 0.028848,
     "end_time": "2021-04-28T22:27:19.068390",
     "exception": false,
     "start_time": "2021-04-28T22:27:19.039542",
     "status": "completed"
    },
    "tags": []
   },
   "outputs": [],
   "source": [
    "tissues[:5]"
   ]
  },
  {
   "cell_type": "markdown",
   "id": "4f2260d8",
   "metadata": {
    "papermill": {
     "duration": 0.018668,
     "end_time": "2021-04-28T22:27:19.105651",
     "exception": false,
     "start_time": "2021-04-28T22:27:19.086983",
     "status": "completed"
    },
    "tags": []
   },
   "source": [
    "# Test"
   ]
  },
  {
   "cell_type": "code",
   "execution_count": null,
   "id": "4d5f23c4",
   "metadata": {},
   "outputs": [],
   "source": [
    "genes_info[genes_info[\"chr\"] == \"13\"]"
   ]
  },
  {
   "cell_type": "code",
   "execution_count": null,
   "id": "0030b116",
   "metadata": {},
   "outputs": [],
   "source": [
    "_gene_list = [\n",
    "    Gene(\"ENSG00000134871\"),\n",
    "    Gene(\"ENSG00000187498\"),\n",
    "    Gene(\"ENSG00000183087\"),\n",
    "    Gene(\"ENSG00000073910\"),\n",
    "    Gene(\"ENSG00000133101\"),\n",
    "    Gene(\"ENSG00000122025\"),\n",
    "    Gene(\"ENSG00000120659\"),\n",
    "    Gene(\"ENSG00000133116\"),\n",
    "]\n",
    "\n",
    "tissue = \"Whole_Blood\""
   ]
  },
  {
   "cell_type": "code",
   "execution_count": null,
   "id": "81c6d390",
   "metadata": {},
   "outputs": [],
   "source": [
    "%%timeit\n",
    "for gene_idx1 in range(0, len(_gene_list) - 1):\n",
    "    gene_obj1 = _gene_list[gene_idx1]\n",
    "\n",
    "    for gene_idx2 in range(gene_idx1 + 1, len(_gene_list)):\n",
    "        gene_obj2 = _gene_list[gene_idx2]\n",
    "\n",
    "        gene_obj1.get_expression_correlation(\n",
    "            gene_obj2,\n",
    "            tissue,\n",
    "        )"
   ]
  },
  {
   "cell_type": "markdown",
   "id": "e5c7c3a9",
   "metadata": {
    "papermill": {
     "duration": 0.018668,
     "end_time": "2021-04-28T22:27:19.105651",
     "exception": false,
     "start_time": "2021-04-28T22:27:19.086983",
     "status": "completed"
    },
    "tags": []
   },
   "source": [
    "# Compute correlation per chromosome"
   ]
  },
  {
   "cell_type": "code",
   "execution_count": null,
   "id": "d5bccdac",
   "metadata": {},
   "outputs": [],
   "source": [
    "all_chrs = genes_info[\"chr\"].dropna().unique()\n",
    "assert all_chrs.shape[0] == 22\n",
    "\n",
    "if chromosome != \"all\":\n",
    "    chromosome = str(chromosome)\n",
    "    assert chromosome in all_chrs\n",
    "\n",
    "    # run only on the chromosome specified\n",
    "    all_chrs = [chromosome]\n",
    "\n",
    "# # For testing purposes\n",
    "# all_chrs = [\"13\"]\n",
    "# tissues = [\"Whole_Blood\"]\n",
    "# genes_info = genes_info[genes_info[\"id\"].isin([\"ENSG00000134871\", \"ENSG00000187498\", \"ENSG00000183087\", \"ENSG00000073910\"])]\n",
    "\n",
    "for chr_num in all_chrs:\n",
    "    print(f\"Chromosome {chr_num}\", flush=True)\n",
    "\n",
    "    genes_chr = genes_info[genes_info[\"chr\"] == chr_num]\n",
    "    print(f\"Genes in chromosome{genes_chr.shape}\", flush=True)\n",
    "\n",
    "    gene_chr_objs = [Gene(ensembl_id=gene_id) for gene_id in genes_chr[\"id\"]]\n",
    "    gene_chr_ids = [g.ensembl_id for g in gene_chr_objs]\n",
    "\n",
    "    n = len(gene_chr_objs)\n",
    "    n_comb = int(n * (n - 1) / 2.0)\n",
    "    print(f\"Number of gene combinations: {n_comb}\", flush=True)\n",
    "\n",
    "    for tissue in tissues:\n",
    "        print(f\"Tissue {tissue}\", flush=True)\n",
    "\n",
    "        # check if results exist\n",
    "        output_dir = (\n",
    "            conf.PHENOMEXCAN[\"LD_BLOCKS\"][\"BASE_DIR\"]\n",
    "            / f\"{EQTL_MODEL_FILES_PREFIX}gene_corrs\"\n",
    "            / tissue\n",
    "        )\n",
    "        output_file = output_dir / f\"gene_corrs-{tissue}-chr{chr_num}.pkl\"\n",
    "\n",
    "        if output_file.exists():\n",
    "            _tmp_data = pd.read_pickle(output_file)\n",
    "\n",
    "            if _tmp_data.shape[0] > 0:\n",
    "                print(\"Already run, stopping.\")\n",
    "                continue\n",
    "\n",
    "        gene_corrs = []\n",
    "\n",
    "        pbar = tqdm(ncols=100, total=n_comb)\n",
    "        i = 0\n",
    "        for gene_idx1 in range(0, len(gene_chr_objs) - 1):\n",
    "            gene_obj1 = gene_chr_objs[gene_idx1]\n",
    "\n",
    "            for gene_idx2 in range(gene_idx1 + 1, len(gene_chr_objs)):\n",
    "                gene_obj2 = gene_chr_objs[gene_idx2]\n",
    "\n",
    "                gene_corrs.append(\n",
    "                    gene_obj1.get_expression_correlation(gene_obj2, tissue)\n",
    "                )\n",
    "\n",
    "                pbar.update(1)\n",
    "\n",
    "        pbar.close()\n",
    "\n",
    "        # testing\n",
    "        gene_corrs_flat = pd.Series(gene_corrs)\n",
    "        print(f\"Min/max values: {gene_corrs_flat.min()} / {gene_corrs_flat.max()}\")\n",
    "        assert gene_corrs_flat.min() >= -1.001\n",
    "        assert gene_corrs_flat.max() <= 1.001\n",
    "\n",
    "        # save\n",
    "        # FIXME: consider saving only the condenced matrix here. See here for\n",
    "        # more details: https://github.com/greenelab/phenoplier/pull/38#discussion_r634600813\n",
    "        gene_corrs_data = squareform(np.array(gene_corrs, dtype=np.float32))\n",
    "        np.fill_diagonal(gene_corrs_data, 1.0)\n",
    "\n",
    "        gene_corrs_df = pd.DataFrame(\n",
    "            data=gene_corrs_data,\n",
    "            index=gene_chr_ids,\n",
    "            columns=gene_chr_ids,\n",
    "        )\n",
    "\n",
    "        output_dir.mkdir(exist_ok=True, parents=True)\n",
    "        display(output_file)\n",
    "\n",
    "        gene_corrs_df.to_pickle(output_file)"
   ]
  },
  {
   "cell_type": "markdown",
   "id": "5cdadceb",
   "metadata": {},
   "source": [
    "# Testing"
   ]
  },
  {
   "cell_type": "code",
   "execution_count": null,
   "id": "a717b956",
   "metadata": {
    "papermill": {
     "duration": 0.228511,
     "end_time": "2021-04-28T22:39:16.969585",
     "exception": false,
     "start_time": "2021-04-28T22:39:16.741074",
     "status": "completed"
    },
    "tags": []
   },
   "outputs": [],
   "source": [
    "# data = pd.read_pickle(\n",
    "#     conf.PHENOMEXCAN[\"LD_BLOCKS\"][\"BASE_DIR\"] / \"gene_corrs\" / \"Whole_Blood\" / \"gene_corrs-Whole_Blood-chr13.pkl\"\n",
    "# )"
   ]
  },
  {
   "cell_type": "code",
   "execution_count": null,
   "id": "73d72385",
   "metadata": {},
   "outputs": [],
   "source": [
    "# assert data.loc[\"ENSG00000134871\", \"ENSG00000187498\"] > 0.97"
   ]
  },
  {
   "cell_type": "code",
   "execution_count": null,
   "id": "a9dccc2f",
   "metadata": {},
   "outputs": [],
   "source": []
  }
 ],
 "metadata": {
  "jupytext": {
   "cell_metadata_filter": "all,-execution,-papermill,-trusted",
   "formats": "ipynb,py//py:percent"
  },
  "kernelspec": {
   "display_name": "Python 3 (ipykernel)",
   "language": "python",
   "name": "python3"
  },
  "language_info": {
   "codemirror_mode": {
    "name": "ipython",
    "version": 3
   },
   "file_extension": ".py",
   "mimetype": "text/x-python",
   "name": "python",
   "nbconvert_exporter": "python",
   "pygments_lexer": "ipython3",
   "version": "3.8.12"
  },
  "papermill": {
   "default_parameters": {},
   "duration": 722.130107,
   "end_time": "2021-04-28T22:39:17.602577",
   "environment_variables": {},
   "exception": null,
   "input_path": "08_gsa_gls/10-gene_expr_correlations.ipynb",
   "output_path": "08_gsa_gls/10-gene_expr_correlations.run.ipynb",
   "parameters": {},
   "start_time": "2021-04-28T22:27:15.472470",
   "version": "2.2.2"
  }
 },
 "nbformat": 4,
 "nbformat_minor": 5
}
