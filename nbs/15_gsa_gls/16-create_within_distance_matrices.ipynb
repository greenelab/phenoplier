{
 "cells": [
  {
   "cell_type": "markdown",
   "id": "5ef66977",
   "metadata": {
    "papermill": {
     "duration": 0.05865,
     "end_time": "2021-05-01T22:35:19.055071",
     "exception": false,
     "start_time": "2021-05-01T22:35:18.996421",
     "status": "completed"
    },
    "tags": []
   },
   "source": [
    "# Description"
   ]
  },
  {
   "cell_type": "markdown",
   "id": "658d4f7c",
   "metadata": {
    "papermill": {
     "duration": 0.021853,
     "end_time": "2021-05-01T22:35:19.099201",
     "exception": false,
     "start_time": "2021-05-01T22:35:19.077348",
     "status": "completed"
    },
    "tags": []
   },
   "source": [
    "(Please, take a look at the README.md file in this directory for instructions on how to run this notebook)\n",
    "\n",
    "This notebook reads the correlation matrix generated and creates new matrices with different \"within distances\" across genes.\n",
    "For example, it generates a new correlation matrix with only genes within a distance of 10mb.\n",
    "\n",
    "It has specicfic parameters for papermill (see under `Settings` below).\n",
    "\n",
    "This notebook is not directly run. See README.md."
   ]
  },
  {
   "cell_type": "markdown",
   "id": "60fa4530",
   "metadata": {
    "papermill": {
     "duration": 0.024135,
     "end_time": "2021-05-01T22:35:19.145266",
     "exception": false,
     "start_time": "2021-05-01T22:35:19.121131",
     "status": "completed"
    },
    "tags": []
   },
   "source": [
    "# Modules"
   ]
  },
  {
   "cell_type": "code",
   "execution_count": null,
   "id": "d70b0833",
   "metadata": {
    "papermill": {
     "duration": 0.035899,
     "end_time": "2021-05-01T22:35:19.204140",
     "exception": false,
     "start_time": "2021-05-01T22:35:19.168241",
     "status": "completed"
    },
    "tags": []
   },
   "outputs": [],
   "source": [
    "%load_ext autoreload\n",
    "%autoreload 2"
   ]
  },
  {
   "cell_type": "code",
   "execution_count": null,
   "id": "6b2f9ca0",
   "metadata": {
    "papermill": {
     "duration": 0.423954,
     "end_time": "2021-05-01T22:35:19.651421",
     "exception": false,
     "start_time": "2021-05-01T22:35:19.227467",
     "status": "completed"
    },
    "tags": []
   },
   "outputs": [],
   "source": [
    "import pickle\n",
    "\n",
    "import numpy as np\n",
    "from scipy.spatial.distance import squareform\n",
    "import pandas as pd\n",
    "import matplotlib.pyplot as plt\n",
    "import seaborn as sns\n",
    "\n",
    "import conf\n",
    "from entity import Gene\n",
    "from correlations import (\n",
    "    check_pos_def,\n",
    "    compare_matrices,\n",
    "    correct_corr_mat,\n",
    "    adjust_non_pos_def,\n",
    ")"
   ]
  },
  {
   "cell_type": "markdown",
   "id": "5b96e797",
   "metadata": {
    "papermill": {
     "duration": 0.022949,
     "end_time": "2021-05-01T22:35:19.699775",
     "exception": false,
     "start_time": "2021-05-01T22:35:19.676826",
     "status": "completed"
    },
    "tags": []
   },
   "source": [
    "# Settings"
   ]
  },
  {
   "cell_type": "code",
   "execution_count": null,
   "id": "4fc1b6a0",
   "metadata": {
    "tags": [
     "parameters"
    ]
   },
   "outputs": [],
   "source": [
    "# a cohort name (it could be something like UK_BIOBANK, etc)\n",
    "COHORT_NAME = None\n",
    "\n",
    "# reference panel such as 1000G or GTEX_V8\n",
    "REFERENCE_PANEL = None\n",
    "\n",
    "# predictions models such as MASHR or ELASTIC_NET\n",
    "EQTL_MODEL = None\n",
    "\n",
    "# a list with different distances to generate\n",
    "DISTANCES = [10, 5, 2]"
   ]
  },
  {
   "cell_type": "code",
   "execution_count": null,
   "id": "6dba5c90-40a4-4a62-899e-1711ab4e40bb",
   "metadata": {},
   "outputs": [],
   "source": [
    "assert COHORT_NAME is not None and len(COHORT_NAME) > 0, \"A cohort name must be given\"\n",
    "\n",
    "COHORT_NAME = COHORT_NAME.lower()\n",
    "display(f\"Cohort name: {COHORT_NAME}\")"
   ]
  },
  {
   "cell_type": "code",
   "execution_count": null,
   "id": "90be4359-19db-4c2d-a3ca-202674476164",
   "metadata": {},
   "outputs": [],
   "source": [
    "assert (\n",
    "    REFERENCE_PANEL is not None and len(REFERENCE_PANEL) > 0\n",
    "), \"A reference panel must be given\"\n",
    "\n",
    "display(f\"Reference panel: {REFERENCE_PANEL}\")"
   ]
  },
  {
   "cell_type": "code",
   "execution_count": null,
   "id": "d959f3f4-8f7b-4313-b3b1-37606e7250bf",
   "metadata": {},
   "outputs": [],
   "source": [
    "assert (\n",
    "    EQTL_MODEL is not None and len(EQTL_MODEL) > 0\n",
    "), \"A prediction/eQTL model must be given\"\n",
    "\n",
    "display(f\"eQTL model: {EQTL_MODEL})\")"
   ]
  },
  {
   "cell_type": "code",
   "execution_count": null,
   "id": "ac0c0705-90e4-42f8-8298-a457c7e778ff",
   "metadata": {},
   "outputs": [],
   "source": [
    "OUTPUT_DIR_BASE = (\n",
    "    conf.RESULTS[\"GLS\"]\n",
    "    / \"gene_corrs\"\n",
    "    / \"cohorts\"\n",
    "    / COHORT_NAME\n",
    "    / REFERENCE_PANEL.lower()\n",
    "    / EQTL_MODEL.lower()\n",
    ")\n",
    "assert OUTPUT_DIR_BASE.exists()\n",
    "\n",
    "display(f\"Using output dir base: {OUTPUT_DIR_BASE}\")"
   ]
  },
  {
   "cell_type": "markdown",
   "id": "99ccb166",
   "metadata": {
    "papermill": {
     "duration": 0.024715,
     "end_time": "2021-05-01T22:35:19.835486",
     "exception": false,
     "start_time": "2021-05-01T22:35:19.810771",
     "status": "completed"
    },
    "tags": []
   },
   "source": [
    "# Load data"
   ]
  },
  {
   "cell_type": "markdown",
   "id": "028bdd42",
   "metadata": {
    "papermill": {
     "duration": 0.02196,
     "end_time": "2021-05-01T22:35:19.879568",
     "exception": false,
     "start_time": "2021-05-01T22:35:19.857608",
     "status": "completed"
    },
    "tags": []
   },
   "source": [
    "## Gene correlations"
   ]
  },
  {
   "cell_type": "code",
   "execution_count": null,
   "id": "04624465",
   "metadata": {
    "papermill": {
     "duration": 0.038948,
     "end_time": "2021-05-01T22:35:19.941112",
     "exception": false,
     "start_time": "2021-05-01T22:35:19.902164",
     "status": "completed"
    },
    "tags": []
   },
   "outputs": [],
   "source": [
    "gene_corrs = pd.read_pickle(OUTPUT_DIR_BASE / \"gene_corrs-symbols.pkl\")"
   ]
  },
  {
   "cell_type": "code",
   "execution_count": null,
   "id": "be5869e7-d0e4-4b8f-8c6d-a1c6a9419fe2",
   "metadata": {},
   "outputs": [],
   "source": [
    "gene_corrs.shape"
   ]
  },
  {
   "cell_type": "code",
   "execution_count": null,
   "id": "8a47b0fc-fdf2-45e8-baa9-b203a2b0e74b",
   "metadata": {},
   "outputs": [],
   "source": [
    "gene_corrs.head()"
   ]
  },
  {
   "cell_type": "code",
   "execution_count": null,
   "id": "16c50875-d781-4681-b683-5b74f639258c",
   "metadata": {},
   "outputs": [],
   "source": [
    "genes_corrs_sum = gene_corrs.sum()\n",
    "n_genes_included = genes_corrs_sum[genes_corrs_sum > 1.0].shape[0]\n",
    "display(f\"Number of genes with correlations with other genes: {n_genes_included}\")"
   ]
  },
  {
   "cell_type": "code",
   "execution_count": null,
   "id": "02484bfa-bae0-404b-9f3b-a82f1fc3f227",
   "metadata": {},
   "outputs": [],
   "source": [
    "genes_corrs_nonzero_sum = (gene_corrs > 0.0).astype(int).sum().sum()\n",
    "display(f\"Number of nonzero cells: {genes_corrs_nonzero_sum}\")"
   ]
  },
  {
   "cell_type": "markdown",
   "id": "99d01a88-2f71-41eb-a423-a17378bbb174",
   "metadata": {
    "papermill": {
     "duration": 0.016403,
     "end_time": "2021-04-28T22:27:17.896463",
     "exception": false,
     "start_time": "2021-04-28T22:27:17.880060",
     "status": "completed"
    },
    "tags": []
   },
   "source": [
    "## Get gene objects"
   ]
  },
  {
   "cell_type": "code",
   "execution_count": null,
   "id": "6a5e95f0-eeab-4716-8982-b1dbbd8763d8",
   "metadata": {},
   "outputs": [],
   "source": [
    "gene_objs = [Gene(name=gene_name) for gene_name in gene_corrs.index]"
   ]
  },
  {
   "cell_type": "code",
   "execution_count": null,
   "id": "81ca7c6e-69c4-48c4-b44f-ec9a2b8bb527",
   "metadata": {},
   "outputs": [],
   "source": [
    "display(len(gene_objs))"
   ]
  },
  {
   "cell_type": "markdown",
   "id": "0bc01310-5d9c-4355-8064-b67c5a22311c",
   "metadata": {
    "papermill": {
     "duration": 0.025587,
     "end_time": "2021-05-01T22:35:22.274208",
     "exception": false,
     "start_time": "2021-05-01T22:35:22.248621",
     "status": "completed"
    },
    "tags": []
   },
   "source": [
    "# Subset full correlation matrix using difference \"within distances\" across genes"
   ]
  },
  {
   "cell_type": "code",
   "execution_count": null,
   "id": "85db0d88-7bd5-4cfd-a9b2-6dc07353ecff",
   "metadata": {},
   "outputs": [],
   "source": [
    "for full_distance in DISTANCES:\n",
    "    distance = full_distance / 2.0\n",
    "    print(f\"Using within distance: {distance}\", flush=True)\n",
    "\n",
    "    # compute a boolean within distance matrix using the given distance\n",
    "    genes_within_distance = np.eye(len(gene_objs)).astype(bool)\n",
    "    for g0_idx in range(len(gene_objs) - 1):\n",
    "        g0_obj = gene_objs[g0_idx]\n",
    "\n",
    "        for g1_idx in range(g0_idx + 1, len(gene_objs)):\n",
    "            g1_obj = gene_objs[g1_idx]\n",
    "\n",
    "            g0_g1_wd = g0_obj.within_distance(g1_obj, distance * 1e6)\n",
    "\n",
    "            genes_within_distance[g0_idx, g1_idx] = g0_g1_wd\n",
    "            genes_within_distance[g1_idx, g0_idx] = g0_g1_wd\n",
    "\n",
    "    genes_within_distance = pd.DataFrame(\n",
    "        genes_within_distance,\n",
    "        index=gene_corrs.index.copy(),\n",
    "        columns=gene_corrs.columns.copy(),\n",
    "    )\n",
    "\n",
    "    # subset full correlation matrix\n",
    "    gene_corrs_within_distance = gene_corrs[genes_within_distance].fillna(0.0)\n",
    "    assert not gene_corrs_within_distance.equals(gene_corrs)\n",
    "    assert not np.allclose(gene_corrs_within_distance.to_numpy(), gene_corrs.to_numpy())\n",
    "    display(gene_corrs_within_distance)\n",
    "\n",
    "    # check if the new matrix is positive definite\n",
    "    is_pos_def = check_pos_def(gene_corrs_within_distance)\n",
    "\n",
    "    if is_pos_def:\n",
    "        print(\"all good.\", flush=True, end=\"\\n\")\n",
    "    else:\n",
    "        print(\"not positive definite, fixing... \", flush=True, end=\"\")\n",
    "        corr_data_adjusted = adjust_non_pos_def(gene_corrs_within_distance)\n",
    "\n",
    "        is_pos_def = check_pos_def(corr_data_adjusted)\n",
    "        assert is_pos_def, \"Could not adjust gene correlation matrix\"\n",
    "\n",
    "        print(\"fixed! comparing...\", flush=True, end=\"\\n\")\n",
    "        compare_matrices(gene_corrs_within_distance, corr_data_adjusted)\n",
    "\n",
    "        # save\n",
    "        gene_corrs_within_distance = corr_data_adjusted\n",
    "\n",
    "    # checks\n",
    "    assert not gene_corrs_within_distance.isna().any(None)\n",
    "    assert not np.isinf(gene_corrs_within_distance.to_numpy()).any()\n",
    "    assert not np.iscomplex(gene_corrs_within_distance.to_numpy()).any()\n",
    "\n",
    "    # show stats\n",
    "    genes_corrs_sum = gene_corrs_within_distance.sum()\n",
    "    n_genes_included = genes_corrs_sum[genes_corrs_sum > 1.0].shape[0]\n",
    "    display(f\"Number of genes with correlations with other genes: {n_genes_included}\")\n",
    "\n",
    "    genes_corrs_nonzero_sum = (gene_corrs_within_distance > 0.0).astype(int).sum().sum()\n",
    "    display(f\"Number of nonzero cells: {genes_corrs_nonzero_sum}\")\n",
    "\n",
    "    corr_matrix_flat = gene_corrs_within_distance.mask(\n",
    "        np.triu(np.ones(gene_corrs_within_distance.shape)).astype(bool)\n",
    "    ).stack()\n",
    "    display(corr_matrix_flat.describe().apply(str))\n",
    "\n",
    "    # save file\n",
    "    output_filepath = (\n",
    "        OUTPUT_DIR_BASE\n",
    "        / f\"gene_corrs-symbols-within_distance_{int(full_distance)}mb.pkl\"\n",
    "    )\n",
    "    display(output_filepath)\n",
    "\n",
    "    gene_corrs_within_distance.to_pickle(output_filepath)\n",
    "\n",
    "    print(\"\\n\")"
   ]
  },
  {
   "cell_type": "code",
   "execution_count": null,
   "id": "38cf09b7",
   "metadata": {
    "papermill": {
     "duration": 0.042299,
     "end_time": "2021-05-01T22:35:39.726538",
     "exception": false,
     "start_time": "2021-05-01T22:35:39.684239",
     "status": "completed"
    },
    "tags": []
   },
   "outputs": [],
   "source": []
  }
 ],
 "metadata": {
  "jupytext": {
   "cell_metadata_filter": "all,-execution,-papermill,-trusted",
   "formats": "ipynb,py//py:percent"
  },
  "kernelspec": {
   "display_name": "Python 3 (ipykernel)",
   "language": "python",
   "name": "python3"
  },
  "language_info": {
   "codemirror_mode": {
    "name": "ipython",
    "version": 3
   },
   "file_extension": ".py",
   "mimetype": "text/x-python",
   "name": "python",
   "nbconvert_exporter": "python",
   "pygments_lexer": "ipython3",
   "version": "3.8.13"
  },
  "papermill": {
   "default_parameters": {},
   "duration": 22.074681,
   "end_time": "2021-05-01T22:35:40.075117",
   "environment_variables": {},
   "exception": null,
   "input_path": "08_gsa_gls/15-preprocess_gene_expr_correlations.ipynb",
   "output_path": "08_gsa_gls/15-preprocess_gene_expr_correlations.run.ipynb",
   "parameters": {},
   "start_time": "2021-05-01T22:35:18.000436",
   "version": "2.2.2"
  }
 },
 "nbformat": 4,
 "nbformat_minor": 5
}
