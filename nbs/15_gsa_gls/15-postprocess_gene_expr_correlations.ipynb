{
 "cells": [
  {
   "cell_type": "markdown",
   "id": "5ef66977",
   "metadata": {
    "papermill": {
     "duration": 0.05865,
     "end_time": "2021-05-01T22:35:19.055071",
     "exception": false,
     "start_time": "2021-05-01T22:35:18.996421",
     "status": "completed"
    },
    "tags": []
   },
   "source": [
    "# Description"
   ]
  },
  {
   "cell_type": "markdown",
   "id": "658d4f7c",
   "metadata": {
    "papermill": {
     "duration": 0.021853,
     "end_time": "2021-05-01T22:35:19.099201",
     "exception": false,
     "start_time": "2021-05-01T22:35:19.077348",
     "status": "completed"
    },
    "tags": []
   },
   "source": [
    "(Please, take a look at the README.md file in this directory for instructions on how to run this notebook)\n",
    "\n",
    "This notebook reads all gene correlations across all chromosomes and computes a single correlation matrix by assembling a big correlation matrix with all genes."
   ]
  },
  {
   "cell_type": "markdown",
   "id": "60fa4530",
   "metadata": {
    "papermill": {
     "duration": 0.024135,
     "end_time": "2021-05-01T22:35:19.145266",
     "exception": false,
     "start_time": "2021-05-01T22:35:19.121131",
     "status": "completed"
    },
    "tags": []
   },
   "source": [
    "# Modules"
   ]
  },
  {
   "cell_type": "code",
   "execution_count": 1,
   "id": "d70b0833",
   "metadata": {
    "papermill": {
     "duration": 0.035899,
     "end_time": "2021-05-01T22:35:19.204140",
     "exception": false,
     "start_time": "2021-05-01T22:35:19.168241",
     "status": "completed"
    },
    "tags": []
   },
   "outputs": [],
   "source": [
    "%load_ext autoreload\n",
    "%autoreload 2"
   ]
  },
  {
   "cell_type": "code",
   "execution_count": 2,
   "id": "6b2f9ca0",
   "metadata": {
    "papermill": {
     "duration": 0.423954,
     "end_time": "2021-05-01T22:35:19.651421",
     "exception": false,
     "start_time": "2021-05-01T22:35:19.227467",
     "status": "completed"
    },
    "tags": []
   },
   "outputs": [],
   "source": [
    "import numpy as np\n",
    "from scipy.spatial.distance import squareform\n",
    "import pandas as pd\n",
    "import matplotlib.pyplot as plt\n",
    "import seaborn as sns\n",
    "\n",
    "import conf\n",
    "from entity import Gene"
   ]
  },
  {
   "cell_type": "markdown",
   "id": "5b96e797",
   "metadata": {
    "papermill": {
     "duration": 0.022949,
     "end_time": "2021-05-01T22:35:19.699775",
     "exception": false,
     "start_time": "2021-05-01T22:35:19.676826",
     "status": "completed"
    },
    "tags": []
   },
   "source": [
    "# Settings"
   ]
  },
  {
   "cell_type": "code",
   "execution_count": 3,
   "id": "4fc1b6a0",
   "metadata": {
    "tags": [
     "parameters"
    ]
   },
   "outputs": [],
   "source": [
    "# reference panel\n",
    "REFERENCE_PANEL = \"GTEX_V8\"\n",
    "# REFERENCE_PANEL = \"1000G\"\n",
    "\n",
    "# prediction models\n",
    "## mashr\n",
    "EQTL_MODEL = \"MASHR\"\n",
    "EQTL_MODEL_FILES_PREFIX = \"mashr_\"\n",
    "\n",
    "# ## elastic net\n",
    "# EQTL_MODEL = \"ELASTIC_NET\"\n",
    "# EQTL_MODEL_FILES_PREFIX = \"en_\"\n",
    "\n",
    "# make it read the prefix from conf.py\n",
    "EQTL_MODEL_FILES_PREFIX = None"
   ]
  },
  {
   "cell_type": "code",
   "execution_count": 4,
   "id": "92e6297a",
   "metadata": {},
   "outputs": [],
   "source": [
    "if EQTL_MODEL_FILES_PREFIX is None:\n",
    "    EQTL_MODEL_FILES_PREFIX = conf.PHENOMEXCAN[\"PREDICTION_MODELS\"][\n",
    "        f\"{EQTL_MODEL}_PREFIX\"\n",
    "    ]"
   ]
  },
  {
   "cell_type": "code",
   "execution_count": 5,
   "id": "c76e4f93",
   "metadata": {},
   "outputs": [
    {
     "data": {
      "text/plain": [
       "'Using eQTL model: MASHR / mashr_'"
      ]
     },
     "metadata": {},
     "output_type": "display_data"
    }
   ],
   "source": [
    "display(f\"Using eQTL model: {EQTL_MODEL} / {EQTL_MODEL_FILES_PREFIX}\")"
   ]
  },
  {
   "cell_type": "code",
   "execution_count": 6,
   "id": "8b85565e-d749-42a9-840d-794f535503ce",
   "metadata": {},
   "outputs": [],
   "source": [
    "REFERENCE_PANEL_DIR = conf.PHENOMEXCAN[\"LD_BLOCKS\"][f\"{REFERENCE_PANEL}_GENOTYPE_DIR\"]"
   ]
  },
  {
   "cell_type": "code",
   "execution_count": 7,
   "id": "7d88b555-08c0-4a85-94e1-c7679a361093",
   "metadata": {},
   "outputs": [
    {
     "data": {
      "text/plain": [
       "'Using reference panel folder: /opt/data/data/phenomexcan/ld_blocks/reference_panel_gtex_v8'"
      ]
     },
     "metadata": {},
     "output_type": "display_data"
    }
   ],
   "source": [
    "display(f\"Using reference panel folder: {str(REFERENCE_PANEL_DIR)}\")"
   ]
  },
  {
   "cell_type": "code",
   "execution_count": 8,
   "id": "ac0c0705-90e4-42f8-8298-a457c7e778ff",
   "metadata": {},
   "outputs": [
    {
     "data": {
      "text/plain": [
       "PosixPath('/opt/data/data/phenomexcan/ld_blocks/gene_corrs/gtex_v8/mashr')"
      ]
     },
     "metadata": {},
     "output_type": "display_data"
    }
   ],
   "source": [
    "OUTPUT_DIR_BASE = (\n",
    "    conf.PHENOMEXCAN[\"LD_BLOCKS\"][f\"GENE_CORRS_DIR\"]\n",
    "    / REFERENCE_PANEL.lower()\n",
    "    / EQTL_MODEL.lower()\n",
    ")\n",
    "display(OUTPUT_DIR_BASE)\n",
    "OUTPUT_DIR_BASE.mkdir(parents=True, exist_ok=True)"
   ]
  },
  {
   "cell_type": "code",
   "execution_count": 9,
   "id": "91e9b1f6-954d-494f-9ace-c2c9dfc74d4f",
   "metadata": {},
   "outputs": [
    {
     "data": {
      "text/plain": [
       "'Using output dir base: /opt/data/data/phenomexcan/ld_blocks/gene_corrs/gtex_v8/mashr'"
      ]
     },
     "metadata": {},
     "output_type": "display_data"
    }
   ],
   "source": [
    "display(f\"Using output dir base: {OUTPUT_DIR_BASE}\")"
   ]
  },
  {
   "cell_type": "code",
   "execution_count": 10,
   "id": "1afd50f7",
   "metadata": {
    "papermill": {
     "duration": 0.058437,
     "end_time": "2021-05-01T22:35:19.780257",
     "exception": false,
     "start_time": "2021-05-01T22:35:19.721820",
     "status": "completed"
    }
   },
   "outputs": [
    {
     "data": {
      "text/plain": [
       "PosixPath('/opt/data/data/phenomexcan/ld_blocks/gene_corrs/gtex_v8/mashr/by_chr/corrected_positive_definite')"
      ]
     },
     "metadata": {},
     "output_type": "display_data"
    }
   ],
   "source": [
    "INPUT_DIR = OUTPUT_DIR_BASE / \"by_chr\" / \"corrected_positive_definite\"\n",
    "display(INPUT_DIR)\n",
    "assert INPUT_DIR.exists()"
   ]
  },
  {
   "cell_type": "markdown",
   "id": "99ccb166",
   "metadata": {
    "papermill": {
     "duration": 0.024715,
     "end_time": "2021-05-01T22:35:19.835486",
     "exception": false,
     "start_time": "2021-05-01T22:35:19.810771",
     "status": "completed"
    },
    "tags": []
   },
   "source": [
    "# Load data"
   ]
  },
  {
   "cell_type": "markdown",
   "id": "028bdd42",
   "metadata": {
    "papermill": {
     "duration": 0.02196,
     "end_time": "2021-05-01T22:35:19.879568",
     "exception": false,
     "start_time": "2021-05-01T22:35:19.857608",
     "status": "completed"
    },
    "tags": []
   },
   "source": [
    "## Gene correlations"
   ]
  },
  {
   "cell_type": "code",
   "execution_count": 11,
   "id": "04624465",
   "metadata": {
    "papermill": {
     "duration": 0.038948,
     "end_time": "2021-05-01T22:35:19.941112",
     "exception": false,
     "start_time": "2021-05-01T22:35:19.902164",
     "status": "completed"
    },
    "tags": []
   },
   "outputs": [],
   "source": [
    "all_gene_corr_files = list(INPUT_DIR.glob(\"gene_corrs-chr*.pkl\"))"
   ]
  },
  {
   "cell_type": "code",
   "execution_count": 12,
   "id": "be5869e7-d0e4-4b8f-8c6d-a1c6a9419fe2",
   "metadata": {},
   "outputs": [],
   "source": [
    "# sort by chromosome\n",
    "all_gene_corr_files = sorted(\n",
    "    all_gene_corr_files, key=lambda x: int(x.name.split(\"-chr\")[1].split(\".pkl\")[0])\n",
    ")"
   ]
  },
  {
   "cell_type": "code",
   "execution_count": 13,
   "id": "7d1168f5",
   "metadata": {
    "papermill": {
     "duration": 0.033452,
     "end_time": "2021-05-01T22:35:19.997421",
     "exception": false,
     "start_time": "2021-05-01T22:35:19.963969",
     "status": "completed"
    },
    "tags": []
   },
   "outputs": [
    {
     "data": {
      "text/plain": [
       "22"
      ]
     },
     "execution_count": 13,
     "metadata": {},
     "output_type": "execute_result"
    }
   ],
   "source": [
    "len(all_gene_corr_files)"
   ]
  },
  {
   "cell_type": "code",
   "execution_count": 14,
   "id": "39364170",
   "metadata": {
    "papermill": {
     "duration": 0.03324,
     "end_time": "2021-05-01T22:35:20.053713",
     "exception": false,
     "start_time": "2021-05-01T22:35:20.020473",
     "status": "completed"
    },
    "tags": []
   },
   "outputs": [
    {
     "data": {
      "text/plain": [
       "[PosixPath('/opt/data/data/phenomexcan/ld_blocks/gene_corrs/gtex_v8/mashr/by_chr/corrected_positive_definite/gene_corrs-chr1.pkl'),\n",
       " PosixPath('/opt/data/data/phenomexcan/ld_blocks/gene_corrs/gtex_v8/mashr/by_chr/corrected_positive_definite/gene_corrs-chr2.pkl'),\n",
       " PosixPath('/opt/data/data/phenomexcan/ld_blocks/gene_corrs/gtex_v8/mashr/by_chr/corrected_positive_definite/gene_corrs-chr3.pkl'),\n",
       " PosixPath('/opt/data/data/phenomexcan/ld_blocks/gene_corrs/gtex_v8/mashr/by_chr/corrected_positive_definite/gene_corrs-chr4.pkl'),\n",
       " PosixPath('/opt/data/data/phenomexcan/ld_blocks/gene_corrs/gtex_v8/mashr/by_chr/corrected_positive_definite/gene_corrs-chr5.pkl'),\n",
       " PosixPath('/opt/data/data/phenomexcan/ld_blocks/gene_corrs/gtex_v8/mashr/by_chr/corrected_positive_definite/gene_corrs-chr6.pkl'),\n",
       " PosixPath('/opt/data/data/phenomexcan/ld_blocks/gene_corrs/gtex_v8/mashr/by_chr/corrected_positive_definite/gene_corrs-chr7.pkl'),\n",
       " PosixPath('/opt/data/data/phenomexcan/ld_blocks/gene_corrs/gtex_v8/mashr/by_chr/corrected_positive_definite/gene_corrs-chr8.pkl'),\n",
       " PosixPath('/opt/data/data/phenomexcan/ld_blocks/gene_corrs/gtex_v8/mashr/by_chr/corrected_positive_definite/gene_corrs-chr9.pkl'),\n",
       " PosixPath('/opt/data/data/phenomexcan/ld_blocks/gene_corrs/gtex_v8/mashr/by_chr/corrected_positive_definite/gene_corrs-chr10.pkl'),\n",
       " PosixPath('/opt/data/data/phenomexcan/ld_blocks/gene_corrs/gtex_v8/mashr/by_chr/corrected_positive_definite/gene_corrs-chr11.pkl'),\n",
       " PosixPath('/opt/data/data/phenomexcan/ld_blocks/gene_corrs/gtex_v8/mashr/by_chr/corrected_positive_definite/gene_corrs-chr12.pkl'),\n",
       " PosixPath('/opt/data/data/phenomexcan/ld_blocks/gene_corrs/gtex_v8/mashr/by_chr/corrected_positive_definite/gene_corrs-chr13.pkl'),\n",
       " PosixPath('/opt/data/data/phenomexcan/ld_blocks/gene_corrs/gtex_v8/mashr/by_chr/corrected_positive_definite/gene_corrs-chr14.pkl'),\n",
       " PosixPath('/opt/data/data/phenomexcan/ld_blocks/gene_corrs/gtex_v8/mashr/by_chr/corrected_positive_definite/gene_corrs-chr15.pkl'),\n",
       " PosixPath('/opt/data/data/phenomexcan/ld_blocks/gene_corrs/gtex_v8/mashr/by_chr/corrected_positive_definite/gene_corrs-chr16.pkl'),\n",
       " PosixPath('/opt/data/data/phenomexcan/ld_blocks/gene_corrs/gtex_v8/mashr/by_chr/corrected_positive_definite/gene_corrs-chr17.pkl'),\n",
       " PosixPath('/opt/data/data/phenomexcan/ld_blocks/gene_corrs/gtex_v8/mashr/by_chr/corrected_positive_definite/gene_corrs-chr18.pkl'),\n",
       " PosixPath('/opt/data/data/phenomexcan/ld_blocks/gene_corrs/gtex_v8/mashr/by_chr/corrected_positive_definite/gene_corrs-chr19.pkl'),\n",
       " PosixPath('/opt/data/data/phenomexcan/ld_blocks/gene_corrs/gtex_v8/mashr/by_chr/corrected_positive_definite/gene_corrs-chr20.pkl'),\n",
       " PosixPath('/opt/data/data/phenomexcan/ld_blocks/gene_corrs/gtex_v8/mashr/by_chr/corrected_positive_definite/gene_corrs-chr21.pkl'),\n",
       " PosixPath('/opt/data/data/phenomexcan/ld_blocks/gene_corrs/gtex_v8/mashr/by_chr/corrected_positive_definite/gene_corrs-chr22.pkl')]"
      ]
     },
     "execution_count": 14,
     "metadata": {},
     "output_type": "execute_result"
    }
   ],
   "source": [
    "all_gene_corr_files"
   ]
  },
  {
   "cell_type": "code",
   "execution_count": 15,
   "id": "6e48c284",
   "metadata": {
    "papermill": {
     "duration": 0.032701,
     "end_time": "2021-05-01T22:35:20.109638",
     "exception": false,
     "start_time": "2021-05-01T22:35:20.076937",
     "status": "completed"
    },
    "tags": []
   },
   "outputs": [],
   "source": [
    "assert len(all_gene_corr_files) == 22"
   ]
  },
  {
   "cell_type": "markdown",
   "id": "46ae0b3e",
   "metadata": {
    "papermill": {
     "duration": 0.023871,
     "end_time": "2021-05-01T22:35:20.630492",
     "exception": false,
     "start_time": "2021-05-01T22:35:20.606621",
     "status": "completed"
    },
    "tags": []
   },
   "source": [
    "## MultiPLIER Z"
   ]
  },
  {
   "cell_type": "code",
   "execution_count": 16,
   "id": "d38d9749",
   "metadata": {
    "papermill": {
     "duration": 0.0564,
     "end_time": "2021-05-01T22:35:20.710734",
     "exception": false,
     "start_time": "2021-05-01T22:35:20.654334",
     "status": "completed"
    },
    "tags": []
   },
   "outputs": [],
   "source": [
    "multiplier_z_genes = pd.read_pickle(\n",
    "    conf.MULTIPLIER[\"MODEL_Z_MATRIX_FILE\"]\n",
    ").index.tolist()"
   ]
  },
  {
   "cell_type": "code",
   "execution_count": 17,
   "id": "67e93797",
   "metadata": {
    "papermill": {
     "duration": 0.035277,
     "end_time": "2021-05-01T22:35:20.775006",
     "exception": false,
     "start_time": "2021-05-01T22:35:20.739729",
     "status": "completed"
    },
    "tags": []
   },
   "outputs": [
    {
     "data": {
      "text/plain": [
       "6750"
      ]
     },
     "execution_count": 17,
     "metadata": {},
     "output_type": "execute_result"
    }
   ],
   "source": [
    "len(multiplier_z_genes)"
   ]
  },
  {
   "cell_type": "code",
   "execution_count": 18,
   "id": "e1ba1ead",
   "metadata": {
    "papermill": {
     "duration": 0.034825,
     "end_time": "2021-05-01T22:35:20.833924",
     "exception": false,
     "start_time": "2021-05-01T22:35:20.799099",
     "status": "completed"
    },
    "tags": []
   },
   "outputs": [
    {
     "data": {
      "text/plain": [
       "['GAS6',\n",
       " 'MMP14',\n",
       " 'DSP',\n",
       " 'MARCKSL1',\n",
       " 'SPARC',\n",
       " 'CTSD',\n",
       " 'EPAS1',\n",
       " 'PALLD',\n",
       " 'PHC2',\n",
       " 'LGALS3BP']"
      ]
     },
     "execution_count": 18,
     "metadata": {},
     "output_type": "execute_result"
    }
   ],
   "source": [
    "multiplier_z_genes[:10]"
   ]
  },
  {
   "cell_type": "markdown",
   "id": "18873129",
   "metadata": {
    "papermill": {
     "duration": 0.02465,
     "end_time": "2021-05-01T22:35:20.883779",
     "exception": false,
     "start_time": "2021-05-01T22:35:20.859129",
     "status": "completed"
    },
    "tags": []
   },
   "source": [
    "## Get gene objects"
   ]
  },
  {
   "cell_type": "code",
   "execution_count": 19,
   "id": "3660a0b8",
   "metadata": {
    "papermill": {
     "duration": 0.040171,
     "end_time": "2021-05-01T22:35:20.947889",
     "exception": false,
     "start_time": "2021-05-01T22:35:20.907718",
     "status": "completed"
    },
    "tags": []
   },
   "outputs": [],
   "source": [
    "multiplier_gene_obj = {\n",
    "    gene_name: Gene(name=gene_name)\n",
    "    for gene_name in multiplier_z_genes\n",
    "    if gene_name in Gene.GENE_NAME_TO_ID_MAP\n",
    "}"
   ]
  },
  {
   "cell_type": "code",
   "execution_count": 20,
   "id": "43bacda1",
   "metadata": {
    "papermill": {
     "duration": 0.034915,
     "end_time": "2021-05-01T22:35:21.008398",
     "exception": false,
     "start_time": "2021-05-01T22:35:20.973483",
     "status": "completed"
    },
    "tags": []
   },
   "outputs": [
    {
     "data": {
      "text/plain": [
       "6454"
      ]
     },
     "execution_count": 20,
     "metadata": {},
     "output_type": "execute_result"
    }
   ],
   "source": [
    "len(multiplier_gene_obj)"
   ]
  },
  {
   "cell_type": "code",
   "execution_count": 21,
   "id": "a60c1bb6",
   "metadata": {
    "papermill": {
     "duration": 0.035363,
     "end_time": "2021-05-01T22:35:21.068790",
     "exception": false,
     "start_time": "2021-05-01T22:35:21.033427",
     "status": "completed"
    },
    "tags": []
   },
   "outputs": [
    {
     "data": {
      "text/plain": [
       "'ENSG00000183087'"
      ]
     },
     "execution_count": 21,
     "metadata": {},
     "output_type": "execute_result"
    }
   ],
   "source": [
    "multiplier_gene_obj[\"GAS6\"].ensembl_id"
   ]
  },
  {
   "cell_type": "code",
   "execution_count": 22,
   "id": "ba55cbcb",
   "metadata": {
    "papermill": {
     "duration": 0.693367,
     "end_time": "2021-05-01T22:35:21.789096",
     "exception": false,
     "start_time": "2021-05-01T22:35:21.095729",
     "status": "completed"
    },
    "tags": []
   },
   "outputs": [],
   "source": [
    "_gene_obj = list(multiplier_gene_obj.values())\n",
    "\n",
    "genes_info = pd.DataFrame(\n",
    "    {\n",
    "        \"name\": [g.name for g in _gene_obj],\n",
    "        \"id\": [g.ensembl_id for g in _gene_obj],\n",
    "        \"chr\": [g.chromosome for g in _gene_obj],\n",
    "        \"start_position\": [g.get_attribute(\"start_position\") for g in _gene_obj],\n",
    "    }\n",
    ").dropna()"
   ]
  },
  {
   "cell_type": "code",
   "execution_count": 23,
   "id": "15371751-93dd-41c9-8cb5-26051e4f6f0b",
   "metadata": {},
   "outputs": [],
   "source": [
    "assert not genes_info.isna().any().any()"
   ]
  },
  {
   "cell_type": "code",
   "execution_count": 24,
   "id": "fcc20b97-4eab-47b9-a6af-1b7fd7192dfd",
   "metadata": {},
   "outputs": [
    {
     "data": {
      "text/plain": [
       "name               object\n",
       "id                 object\n",
       "chr                object\n",
       "start_position    float64\n",
       "dtype: object"
      ]
     },
     "execution_count": 24,
     "metadata": {},
     "output_type": "execute_result"
    }
   ],
   "source": [
    "genes_info.dtypes"
   ]
  },
  {
   "cell_type": "code",
   "execution_count": 25,
   "id": "fc073c6d-7678-48e6-975e-8f5c0418d7e5",
   "metadata": {},
   "outputs": [],
   "source": [
    "genes_info[\"chr\"] = genes_info[\"chr\"].apply(pd.to_numeric, downcast=\"integer\")\n",
    "genes_info[\"start_position\"] = genes_info[\"start_position\"].astype(\n",
    "    int\n",
    ")  # .apply(pd.to_numeric, downcast=\"signed\")"
   ]
  },
  {
   "cell_type": "code",
   "execution_count": 26,
   "id": "2b3edd40-0dc0-480f-a7d3-a21ab15613a0",
   "metadata": {},
   "outputs": [
    {
     "data": {
      "text/plain": [
       "name              object\n",
       "id                object\n",
       "chr                int64\n",
       "start_position     int64\n",
       "dtype: object"
      ]
     },
     "execution_count": 26,
     "metadata": {},
     "output_type": "execute_result"
    }
   ],
   "source": [
    "genes_info.dtypes"
   ]
  },
  {
   "cell_type": "code",
   "execution_count": 27,
   "id": "9510fe3a",
   "metadata": {
    "papermill": {
     "duration": 0.035329,
     "end_time": "2021-05-01T22:35:21.849898",
     "exception": false,
     "start_time": "2021-05-01T22:35:21.814569",
     "status": "completed"
    },
    "tags": []
   },
   "outputs": [
    {
     "data": {
      "text/plain": [
       "(6452, 4)"
      ]
     },
     "execution_count": 27,
     "metadata": {},
     "output_type": "execute_result"
    }
   ],
   "source": [
    "genes_info.shape"
   ]
  },
  {
   "cell_type": "code",
   "execution_count": 28,
   "id": "b175ee0c",
   "metadata": {
    "papermill": {
     "duration": 0.038813,
     "end_time": "2021-05-01T22:35:21.914262",
     "exception": false,
     "start_time": "2021-05-01T22:35:21.875449",
     "status": "completed"
    },
    "tags": []
   },
   "outputs": [
    {
     "data": {
      "text/html": [
       "<div>\n",
       "<style scoped>\n",
       "    .dataframe tbody tr th:only-of-type {\n",
       "        vertical-align: middle;\n",
       "    }\n",
       "\n",
       "    .dataframe tbody tr th {\n",
       "        vertical-align: top;\n",
       "    }\n",
       "\n",
       "    .dataframe thead th {\n",
       "        text-align: right;\n",
       "    }\n",
       "</style>\n",
       "<table border=\"1\" class=\"dataframe\">\n",
       "  <thead>\n",
       "    <tr style=\"text-align: right;\">\n",
       "      <th></th>\n",
       "      <th>name</th>\n",
       "      <th>id</th>\n",
       "      <th>chr</th>\n",
       "      <th>start_position</th>\n",
       "    </tr>\n",
       "  </thead>\n",
       "  <tbody>\n",
       "    <tr>\n",
       "      <th>0</th>\n",
       "      <td>GAS6</td>\n",
       "      <td>ENSG00000183087</td>\n",
       "      <td>13</td>\n",
       "      <td>113820549</td>\n",
       "    </tr>\n",
       "    <tr>\n",
       "      <th>1</th>\n",
       "      <td>MMP14</td>\n",
       "      <td>ENSG00000157227</td>\n",
       "      <td>14</td>\n",
       "      <td>22836560</td>\n",
       "    </tr>\n",
       "    <tr>\n",
       "      <th>2</th>\n",
       "      <td>DSP</td>\n",
       "      <td>ENSG00000096696</td>\n",
       "      <td>6</td>\n",
       "      <td>7541617</td>\n",
       "    </tr>\n",
       "    <tr>\n",
       "      <th>3</th>\n",
       "      <td>MARCKSL1</td>\n",
       "      <td>ENSG00000175130</td>\n",
       "      <td>1</td>\n",
       "      <td>32333839</td>\n",
       "    </tr>\n",
       "    <tr>\n",
       "      <th>4</th>\n",
       "      <td>SPARC</td>\n",
       "      <td>ENSG00000113140</td>\n",
       "      <td>5</td>\n",
       "      <td>151661096</td>\n",
       "    </tr>\n",
       "  </tbody>\n",
       "</table>\n",
       "</div>"
      ],
      "text/plain": [
       "       name               id  chr  start_position\n",
       "0      GAS6  ENSG00000183087   13       113820549\n",
       "1     MMP14  ENSG00000157227   14        22836560\n",
       "2       DSP  ENSG00000096696    6         7541617\n",
       "3  MARCKSL1  ENSG00000175130    1        32333839\n",
       "4     SPARC  ENSG00000113140    5       151661096"
      ]
     },
     "execution_count": 28,
     "metadata": {},
     "output_type": "execute_result"
    }
   ],
   "source": [
    "genes_info.head()"
   ]
  },
  {
   "cell_type": "code",
   "execution_count": 29,
   "id": "ef1c5d9c-9030-465e-875e-e38672e7a4bc",
   "metadata": {},
   "outputs": [],
   "source": [
    "assert not genes_info.isna().any().any()"
   ]
  },
  {
   "cell_type": "markdown",
   "id": "f4d4f177",
   "metadata": {
    "papermill": {
     "duration": 0.025587,
     "end_time": "2021-05-01T22:35:22.274208",
     "exception": false,
     "start_time": "2021-05-01T22:35:22.248621",
     "status": "completed"
    },
    "tags": []
   },
   "source": [
    "# Create full correlation matrix"
   ]
  },
  {
   "cell_type": "code",
   "execution_count": 30,
   "id": "fad655cb-e830-496d-8ae1-bd9088623515",
   "metadata": {},
   "outputs": [],
   "source": [
    "genes_info = genes_info.sort_values([\"chr\", \"start_position\"])"
   ]
  },
  {
   "cell_type": "code",
   "execution_count": 31,
   "id": "3d93727c-e045-434b-99ec-2bfc661003f4",
   "metadata": {},
   "outputs": [
    {
     "data": {
      "text/html": [
       "<div>\n",
       "<style scoped>\n",
       "    .dataframe tbody tr th:only-of-type {\n",
       "        vertical-align: middle;\n",
       "    }\n",
       "\n",
       "    .dataframe tbody tr th {\n",
       "        vertical-align: top;\n",
       "    }\n",
       "\n",
       "    .dataframe thead th {\n",
       "        text-align: right;\n",
       "    }\n",
       "</style>\n",
       "<table border=\"1\" class=\"dataframe\">\n",
       "  <thead>\n",
       "    <tr style=\"text-align: right;\">\n",
       "      <th></th>\n",
       "      <th>name</th>\n",
       "      <th>id</th>\n",
       "      <th>chr</th>\n",
       "      <th>start_position</th>\n",
       "    </tr>\n",
       "  </thead>\n",
       "  <tbody>\n",
       "    <tr>\n",
       "      <th>3430</th>\n",
       "      <td>NOC2L</td>\n",
       "      <td>ENSG00000188976</td>\n",
       "      <td>1</td>\n",
       "      <td>944203</td>\n",
       "    </tr>\n",
       "    <tr>\n",
       "      <th>798</th>\n",
       "      <td>HES4</td>\n",
       "      <td>ENSG00000188290</td>\n",
       "      <td>1</td>\n",
       "      <td>998962</td>\n",
       "    </tr>\n",
       "    <tr>\n",
       "      <th>208</th>\n",
       "      <td>ISG15</td>\n",
       "      <td>ENSG00000187608</td>\n",
       "      <td>1</td>\n",
       "      <td>1001138</td>\n",
       "    </tr>\n",
       "    <tr>\n",
       "      <th>4937</th>\n",
       "      <td>AGRN</td>\n",
       "      <td>ENSG00000188157</td>\n",
       "      <td>1</td>\n",
       "      <td>1020120</td>\n",
       "    </tr>\n",
       "    <tr>\n",
       "      <th>2871</th>\n",
       "      <td>TNFRSF18</td>\n",
       "      <td>ENSG00000186891</td>\n",
       "      <td>1</td>\n",
       "      <td>1203508</td>\n",
       "    </tr>\n",
       "    <tr>\n",
       "      <th>...</th>\n",
       "      <td>...</td>\n",
       "      <td>...</td>\n",
       "      <td>...</td>\n",
       "      <td>...</td>\n",
       "    </tr>\n",
       "    <tr>\n",
       "      <th>4685</th>\n",
       "      <td>CPT1B</td>\n",
       "      <td>ENSG00000205560</td>\n",
       "      <td>22</td>\n",
       "      <td>50568861</td>\n",
       "    </tr>\n",
       "    <tr>\n",
       "      <th>4540</th>\n",
       "      <td>CHKB</td>\n",
       "      <td>ENSG00000100288</td>\n",
       "      <td>22</td>\n",
       "      <td>50578949</td>\n",
       "    </tr>\n",
       "    <tr>\n",
       "      <th>4182</th>\n",
       "      <td>MAPK8IP2</td>\n",
       "      <td>ENSG00000008735</td>\n",
       "      <td>22</td>\n",
       "      <td>50600793</td>\n",
       "    </tr>\n",
       "    <tr>\n",
       "      <th>3698</th>\n",
       "      <td>ARSA</td>\n",
       "      <td>ENSG00000100299</td>\n",
       "      <td>22</td>\n",
       "      <td>50622754</td>\n",
       "    </tr>\n",
       "    <tr>\n",
       "      <th>2410</th>\n",
       "      <td>SHANK3</td>\n",
       "      <td>ENSG00000251322</td>\n",
       "      <td>22</td>\n",
       "      <td>50674415</td>\n",
       "    </tr>\n",
       "  </tbody>\n",
       "</table>\n",
       "<p>6452 rows × 4 columns</p>\n",
       "</div>"
      ],
      "text/plain": [
       "          name               id  chr  start_position\n",
       "3430     NOC2L  ENSG00000188976    1          944203\n",
       "798       HES4  ENSG00000188290    1          998962\n",
       "208      ISG15  ENSG00000187608    1         1001138\n",
       "4937      AGRN  ENSG00000188157    1         1020120\n",
       "2871  TNFRSF18  ENSG00000186891    1         1203508\n",
       "...        ...              ...  ...             ...\n",
       "4685     CPT1B  ENSG00000205560   22        50568861\n",
       "4540      CHKB  ENSG00000100288   22        50578949\n",
       "4182  MAPK8IP2  ENSG00000008735   22        50600793\n",
       "3698      ARSA  ENSG00000100299   22        50622754\n",
       "2410    SHANK3  ENSG00000251322   22        50674415\n",
       "\n",
       "[6452 rows x 4 columns]"
      ]
     },
     "execution_count": 31,
     "metadata": {},
     "output_type": "execute_result"
    }
   ],
   "source": [
    "genes_info"
   ]
  },
  {
   "cell_type": "code",
   "execution_count": 32,
   "id": "1277c7cb-6850-476f-932e-0d166362392c",
   "metadata": {},
   "outputs": [],
   "source": [
    "full_corr_matrix = pd.DataFrame(\n",
    "    np.zeros((genes_info.shape[0], genes_info.shape[0])),\n",
    "    index=genes_info[\"id\"].tolist(),\n",
    "    columns=genes_info[\"id\"].tolist(),\n",
    ")"
   ]
  },
  {
   "cell_type": "code",
   "execution_count": 33,
   "id": "5aa375f4-775a-4dab-80c9-a68a52c69adc",
   "metadata": {},
   "outputs": [],
   "source": [
    "assert full_corr_matrix.index.is_unique & full_corr_matrix.columns.is_unique"
   ]
  },
  {
   "cell_type": "code",
   "execution_count": 34,
   "id": "0afc4716-f607-4634-8a02-5f116fd2c318",
   "metadata": {},
   "outputs": [
    {
     "name": "stdout",
     "output_type": "stream",
     "text": [
      "gene_corrs-chr1.pkl\n",
      "gene_corrs-chr2.pkl\n",
      "gene_corrs-chr3.pkl\n",
      "gene_corrs-chr4.pkl\n",
      "gene_corrs-chr5.pkl\n",
      "gene_corrs-chr6.pkl\n",
      "gene_corrs-chr7.pkl\n",
      "gene_corrs-chr8.pkl\n",
      "gene_corrs-chr9.pkl\n",
      "gene_corrs-chr10.pkl\n",
      "gene_corrs-chr11.pkl\n",
      "gene_corrs-chr12.pkl\n",
      "gene_corrs-chr13.pkl\n",
      "gene_corrs-chr14.pkl\n",
      "gene_corrs-chr15.pkl\n",
      "gene_corrs-chr16.pkl\n",
      "gene_corrs-chr17.pkl\n",
      "gene_corrs-chr18.pkl\n",
      "gene_corrs-chr19.pkl\n",
      "gene_corrs-chr20.pkl\n",
      "gene_corrs-chr21.pkl\n",
      "gene_corrs-chr22.pkl\n"
     ]
    }
   ],
   "source": [
    "for chr_corr_file in all_gene_corr_files:\n",
    "    print(chr_corr_file.name, flush=True)\n",
    "\n",
    "    corr_data = pd.read_pickle(chr_corr_file)\n",
    "    full_corr_matrix.loc[corr_data.index, corr_data.columns] = corr_data"
   ]
  },
  {
   "cell_type": "code",
   "execution_count": 35,
   "id": "a6be3bf7-d1c1-4f90-b074-a6e74d9285a5",
   "metadata": {},
   "outputs": [
    {
     "data": {
      "text/plain": [
       "(6452, 6452)"
      ]
     },
     "execution_count": 35,
     "metadata": {},
     "output_type": "execute_result"
    }
   ],
   "source": [
    "full_corr_matrix.shape"
   ]
  },
  {
   "cell_type": "code",
   "execution_count": 36,
   "id": "aac21a65-87b3-4b87-b17a-cbe3692c88a9",
   "metadata": {},
   "outputs": [
    {
     "data": {
      "text/html": [
       "<div>\n",
       "<style scoped>\n",
       "    .dataframe tbody tr th:only-of-type {\n",
       "        vertical-align: middle;\n",
       "    }\n",
       "\n",
       "    .dataframe tbody tr th {\n",
       "        vertical-align: top;\n",
       "    }\n",
       "\n",
       "    .dataframe thead th {\n",
       "        text-align: right;\n",
       "    }\n",
       "</style>\n",
       "<table border=\"1\" class=\"dataframe\">\n",
       "  <thead>\n",
       "    <tr style=\"text-align: right;\">\n",
       "      <th></th>\n",
       "      <th>ENSG00000188976</th>\n",
       "      <th>ENSG00000188290</th>\n",
       "      <th>ENSG00000187608</th>\n",
       "      <th>ENSG00000188157</th>\n",
       "      <th>ENSG00000186891</th>\n",
       "      <th>ENSG00000186827</th>\n",
       "      <th>ENSG00000176022</th>\n",
       "      <th>ENSG00000160087</th>\n",
       "      <th>ENSG00000131584</th>\n",
       "      <th>ENSG00000169962</th>\n",
       "      <th>...</th>\n",
       "      <th>ENSG00000196576</th>\n",
       "      <th>ENSG00000128165</th>\n",
       "      <th>ENSG00000100253</th>\n",
       "      <th>ENSG00000130489</th>\n",
       "      <th>ENSG00000025708</th>\n",
       "      <th>ENSG00000205560</th>\n",
       "      <th>ENSG00000100288</th>\n",
       "      <th>ENSG00000008735</th>\n",
       "      <th>ENSG00000100299</th>\n",
       "      <th>ENSG00000251322</th>\n",
       "    </tr>\n",
       "  </thead>\n",
       "  <tbody>\n",
       "    <tr>\n",
       "      <th>ENSG00000188976</th>\n",
       "      <td>1.000000</td>\n",
       "      <td>0.062866</td>\n",
       "      <td>-0.010847</td>\n",
       "      <td>-0.131670</td>\n",
       "      <td>0.037099</td>\n",
       "      <td>0.019131</td>\n",
       "      <td>-0.001807</td>\n",
       "      <td>-0.056218</td>\n",
       "      <td>0.026165</td>\n",
       "      <td>-0.000353</td>\n",
       "      <td>...</td>\n",
       "      <td>0.000000</td>\n",
       "      <td>0.000000</td>\n",
       "      <td>0.000000</td>\n",
       "      <td>0.000000</td>\n",
       "      <td>0.000000</td>\n",
       "      <td>0.000000</td>\n",
       "      <td>0.000000</td>\n",
       "      <td>0.000000</td>\n",
       "      <td>0.000000</td>\n",
       "      <td>0.000000</td>\n",
       "    </tr>\n",
       "    <tr>\n",
       "      <th>ENSG00000188290</th>\n",
       "      <td>0.062866</td>\n",
       "      <td>1.000000</td>\n",
       "      <td>0.089331</td>\n",
       "      <td>-0.033630</td>\n",
       "      <td>0.037086</td>\n",
       "      <td>0.006598</td>\n",
       "      <td>-0.003540</td>\n",
       "      <td>-0.028828</td>\n",
       "      <td>0.057050</td>\n",
       "      <td>-0.035404</td>\n",
       "      <td>...</td>\n",
       "      <td>0.000000</td>\n",
       "      <td>0.000000</td>\n",
       "      <td>0.000000</td>\n",
       "      <td>0.000000</td>\n",
       "      <td>0.000000</td>\n",
       "      <td>0.000000</td>\n",
       "      <td>0.000000</td>\n",
       "      <td>0.000000</td>\n",
       "      <td>0.000000</td>\n",
       "      <td>0.000000</td>\n",
       "    </tr>\n",
       "    <tr>\n",
       "      <th>ENSG00000187608</th>\n",
       "      <td>-0.010847</td>\n",
       "      <td>0.089331</td>\n",
       "      <td>1.000000</td>\n",
       "      <td>0.001009</td>\n",
       "      <td>-0.035575</td>\n",
       "      <td>-0.022576</td>\n",
       "      <td>-0.084673</td>\n",
       "      <td>-0.045836</td>\n",
       "      <td>-0.022564</td>\n",
       "      <td>-0.025865</td>\n",
       "      <td>...</td>\n",
       "      <td>0.000000</td>\n",
       "      <td>0.000000</td>\n",
       "      <td>0.000000</td>\n",
       "      <td>0.000000</td>\n",
       "      <td>0.000000</td>\n",
       "      <td>0.000000</td>\n",
       "      <td>0.000000</td>\n",
       "      <td>0.000000</td>\n",
       "      <td>0.000000</td>\n",
       "      <td>0.000000</td>\n",
       "    </tr>\n",
       "    <tr>\n",
       "      <th>ENSG00000188157</th>\n",
       "      <td>-0.131670</td>\n",
       "      <td>-0.033630</td>\n",
       "      <td>0.001009</td>\n",
       "      <td>1.000000</td>\n",
       "      <td>-0.084165</td>\n",
       "      <td>-0.081193</td>\n",
       "      <td>-0.123105</td>\n",
       "      <td>-0.013481</td>\n",
       "      <td>-0.004322</td>\n",
       "      <td>0.009895</td>\n",
       "      <td>...</td>\n",
       "      <td>0.000000</td>\n",
       "      <td>0.000000</td>\n",
       "      <td>0.000000</td>\n",
       "      <td>0.000000</td>\n",
       "      <td>0.000000</td>\n",
       "      <td>0.000000</td>\n",
       "      <td>0.000000</td>\n",
       "      <td>0.000000</td>\n",
       "      <td>0.000000</td>\n",
       "      <td>0.000000</td>\n",
       "    </tr>\n",
       "    <tr>\n",
       "      <th>ENSG00000186891</th>\n",
       "      <td>0.037099</td>\n",
       "      <td>0.037086</td>\n",
       "      <td>-0.035575</td>\n",
       "      <td>-0.084165</td>\n",
       "      <td>1.000000</td>\n",
       "      <td>0.061212</td>\n",
       "      <td>0.175985</td>\n",
       "      <td>-0.064790</td>\n",
       "      <td>0.155956</td>\n",
       "      <td>-0.031170</td>\n",
       "      <td>...</td>\n",
       "      <td>0.000000</td>\n",
       "      <td>0.000000</td>\n",
       "      <td>0.000000</td>\n",
       "      <td>0.000000</td>\n",
       "      <td>0.000000</td>\n",
       "      <td>0.000000</td>\n",
       "      <td>0.000000</td>\n",
       "      <td>0.000000</td>\n",
       "      <td>0.000000</td>\n",
       "      <td>0.000000</td>\n",
       "    </tr>\n",
       "    <tr>\n",
       "      <th>...</th>\n",
       "      <td>...</td>\n",
       "      <td>...</td>\n",
       "      <td>...</td>\n",
       "      <td>...</td>\n",
       "      <td>...</td>\n",
       "      <td>...</td>\n",
       "      <td>...</td>\n",
       "      <td>...</td>\n",
       "      <td>...</td>\n",
       "      <td>...</td>\n",
       "      <td>...</td>\n",
       "      <td>...</td>\n",
       "      <td>...</td>\n",
       "      <td>...</td>\n",
       "      <td>...</td>\n",
       "      <td>...</td>\n",
       "      <td>...</td>\n",
       "      <td>...</td>\n",
       "      <td>...</td>\n",
       "      <td>...</td>\n",
       "      <td>...</td>\n",
       "    </tr>\n",
       "    <tr>\n",
       "      <th>ENSG00000205560</th>\n",
       "      <td>0.000000</td>\n",
       "      <td>0.000000</td>\n",
       "      <td>0.000000</td>\n",
       "      <td>0.000000</td>\n",
       "      <td>0.000000</td>\n",
       "      <td>0.000000</td>\n",
       "      <td>0.000000</td>\n",
       "      <td>0.000000</td>\n",
       "      <td>0.000000</td>\n",
       "      <td>0.000000</td>\n",
       "      <td>...</td>\n",
       "      <td>0.039704</td>\n",
       "      <td>-0.048328</td>\n",
       "      <td>-0.037059</td>\n",
       "      <td>-0.087386</td>\n",
       "      <td>0.162101</td>\n",
       "      <td>1.000000</td>\n",
       "      <td>0.225112</td>\n",
       "      <td>0.021292</td>\n",
       "      <td>0.034473</td>\n",
       "      <td>-0.060927</td>\n",
       "    </tr>\n",
       "    <tr>\n",
       "      <th>ENSG00000100288</th>\n",
       "      <td>0.000000</td>\n",
       "      <td>0.000000</td>\n",
       "      <td>0.000000</td>\n",
       "      <td>0.000000</td>\n",
       "      <td>0.000000</td>\n",
       "      <td>0.000000</td>\n",
       "      <td>0.000000</td>\n",
       "      <td>0.000000</td>\n",
       "      <td>0.000000</td>\n",
       "      <td>0.000000</td>\n",
       "      <td>...</td>\n",
       "      <td>0.047043</td>\n",
       "      <td>-0.021478</td>\n",
       "      <td>0.039950</td>\n",
       "      <td>-0.201905</td>\n",
       "      <td>0.204438</td>\n",
       "      <td>0.225112</td>\n",
       "      <td>1.000000</td>\n",
       "      <td>-0.049255</td>\n",
       "      <td>0.094441</td>\n",
       "      <td>-0.086780</td>\n",
       "    </tr>\n",
       "    <tr>\n",
       "      <th>ENSG00000008735</th>\n",
       "      <td>0.000000</td>\n",
       "      <td>0.000000</td>\n",
       "      <td>0.000000</td>\n",
       "      <td>0.000000</td>\n",
       "      <td>0.000000</td>\n",
       "      <td>0.000000</td>\n",
       "      <td>0.000000</td>\n",
       "      <td>0.000000</td>\n",
       "      <td>0.000000</td>\n",
       "      <td>0.000000</td>\n",
       "      <td>...</td>\n",
       "      <td>0.042973</td>\n",
       "      <td>0.049793</td>\n",
       "      <td>-0.005677</td>\n",
       "      <td>0.071305</td>\n",
       "      <td>-0.041385</td>\n",
       "      <td>0.021292</td>\n",
       "      <td>-0.049255</td>\n",
       "      <td>1.000000</td>\n",
       "      <td>-0.058584</td>\n",
       "      <td>-0.044446</td>\n",
       "    </tr>\n",
       "    <tr>\n",
       "      <th>ENSG00000100299</th>\n",
       "      <td>0.000000</td>\n",
       "      <td>0.000000</td>\n",
       "      <td>0.000000</td>\n",
       "      <td>0.000000</td>\n",
       "      <td>0.000000</td>\n",
       "      <td>0.000000</td>\n",
       "      <td>0.000000</td>\n",
       "      <td>0.000000</td>\n",
       "      <td>0.000000</td>\n",
       "      <td>0.000000</td>\n",
       "      <td>...</td>\n",
       "      <td>-0.041372</td>\n",
       "      <td>-0.034301</td>\n",
       "      <td>0.014840</td>\n",
       "      <td>-0.169171</td>\n",
       "      <td>0.102987</td>\n",
       "      <td>0.034473</td>\n",
       "      <td>0.094441</td>\n",
       "      <td>-0.058584</td>\n",
       "      <td>1.000000</td>\n",
       "      <td>0.021316</td>\n",
       "    </tr>\n",
       "    <tr>\n",
       "      <th>ENSG00000251322</th>\n",
       "      <td>0.000000</td>\n",
       "      <td>0.000000</td>\n",
       "      <td>0.000000</td>\n",
       "      <td>0.000000</td>\n",
       "      <td>0.000000</td>\n",
       "      <td>0.000000</td>\n",
       "      <td>0.000000</td>\n",
       "      <td>0.000000</td>\n",
       "      <td>0.000000</td>\n",
       "      <td>0.000000</td>\n",
       "      <td>...</td>\n",
       "      <td>-0.024362</td>\n",
       "      <td>-0.080685</td>\n",
       "      <td>-0.055064</td>\n",
       "      <td>0.081244</td>\n",
       "      <td>-0.076128</td>\n",
       "      <td>-0.060927</td>\n",
       "      <td>-0.086780</td>\n",
       "      <td>-0.044446</td>\n",
       "      <td>0.021316</td>\n",
       "      <td>1.000000</td>\n",
       "    </tr>\n",
       "  </tbody>\n",
       "</table>\n",
       "<p>6452 rows × 6452 columns</p>\n",
       "</div>"
      ],
      "text/plain": [
       "                 ENSG00000188976  ENSG00000188290  ENSG00000187608  \\\n",
       "ENSG00000188976         1.000000         0.062866        -0.010847   \n",
       "ENSG00000188290         0.062866         1.000000         0.089331   \n",
       "ENSG00000187608        -0.010847         0.089331         1.000000   \n",
       "ENSG00000188157        -0.131670        -0.033630         0.001009   \n",
       "ENSG00000186891         0.037099         0.037086        -0.035575   \n",
       "...                          ...              ...              ...   \n",
       "ENSG00000205560         0.000000         0.000000         0.000000   \n",
       "ENSG00000100288         0.000000         0.000000         0.000000   \n",
       "ENSG00000008735         0.000000         0.000000         0.000000   \n",
       "ENSG00000100299         0.000000         0.000000         0.000000   \n",
       "ENSG00000251322         0.000000         0.000000         0.000000   \n",
       "\n",
       "                 ENSG00000188157  ENSG00000186891  ENSG00000186827  \\\n",
       "ENSG00000188976        -0.131670         0.037099         0.019131   \n",
       "ENSG00000188290        -0.033630         0.037086         0.006598   \n",
       "ENSG00000187608         0.001009        -0.035575        -0.022576   \n",
       "ENSG00000188157         1.000000        -0.084165        -0.081193   \n",
       "ENSG00000186891        -0.084165         1.000000         0.061212   \n",
       "...                          ...              ...              ...   \n",
       "ENSG00000205560         0.000000         0.000000         0.000000   \n",
       "ENSG00000100288         0.000000         0.000000         0.000000   \n",
       "ENSG00000008735         0.000000         0.000000         0.000000   \n",
       "ENSG00000100299         0.000000         0.000000         0.000000   \n",
       "ENSG00000251322         0.000000         0.000000         0.000000   \n",
       "\n",
       "                 ENSG00000176022  ENSG00000160087  ENSG00000131584  \\\n",
       "ENSG00000188976        -0.001807        -0.056218         0.026165   \n",
       "ENSG00000188290        -0.003540        -0.028828         0.057050   \n",
       "ENSG00000187608        -0.084673        -0.045836        -0.022564   \n",
       "ENSG00000188157        -0.123105        -0.013481        -0.004322   \n",
       "ENSG00000186891         0.175985        -0.064790         0.155956   \n",
       "...                          ...              ...              ...   \n",
       "ENSG00000205560         0.000000         0.000000         0.000000   \n",
       "ENSG00000100288         0.000000         0.000000         0.000000   \n",
       "ENSG00000008735         0.000000         0.000000         0.000000   \n",
       "ENSG00000100299         0.000000         0.000000         0.000000   \n",
       "ENSG00000251322         0.000000         0.000000         0.000000   \n",
       "\n",
       "                 ENSG00000169962  ...  ENSG00000196576  ENSG00000128165  \\\n",
       "ENSG00000188976        -0.000353  ...         0.000000         0.000000   \n",
       "ENSG00000188290        -0.035404  ...         0.000000         0.000000   \n",
       "ENSG00000187608        -0.025865  ...         0.000000         0.000000   \n",
       "ENSG00000188157         0.009895  ...         0.000000         0.000000   \n",
       "ENSG00000186891        -0.031170  ...         0.000000         0.000000   \n",
       "...                          ...  ...              ...              ...   \n",
       "ENSG00000205560         0.000000  ...         0.039704        -0.048328   \n",
       "ENSG00000100288         0.000000  ...         0.047043        -0.021478   \n",
       "ENSG00000008735         0.000000  ...         0.042973         0.049793   \n",
       "ENSG00000100299         0.000000  ...        -0.041372        -0.034301   \n",
       "ENSG00000251322         0.000000  ...        -0.024362        -0.080685   \n",
       "\n",
       "                 ENSG00000100253  ENSG00000130489  ENSG00000025708  \\\n",
       "ENSG00000188976         0.000000         0.000000         0.000000   \n",
       "ENSG00000188290         0.000000         0.000000         0.000000   \n",
       "ENSG00000187608         0.000000         0.000000         0.000000   \n",
       "ENSG00000188157         0.000000         0.000000         0.000000   \n",
       "ENSG00000186891         0.000000         0.000000         0.000000   \n",
       "...                          ...              ...              ...   \n",
       "ENSG00000205560        -0.037059        -0.087386         0.162101   \n",
       "ENSG00000100288         0.039950        -0.201905         0.204438   \n",
       "ENSG00000008735        -0.005677         0.071305        -0.041385   \n",
       "ENSG00000100299         0.014840        -0.169171         0.102987   \n",
       "ENSG00000251322        -0.055064         0.081244        -0.076128   \n",
       "\n",
       "                 ENSG00000205560  ENSG00000100288  ENSG00000008735  \\\n",
       "ENSG00000188976         0.000000         0.000000         0.000000   \n",
       "ENSG00000188290         0.000000         0.000000         0.000000   \n",
       "ENSG00000187608         0.000000         0.000000         0.000000   \n",
       "ENSG00000188157         0.000000         0.000000         0.000000   \n",
       "ENSG00000186891         0.000000         0.000000         0.000000   \n",
       "...                          ...              ...              ...   \n",
       "ENSG00000205560         1.000000         0.225112         0.021292   \n",
       "ENSG00000100288         0.225112         1.000000        -0.049255   \n",
       "ENSG00000008735         0.021292        -0.049255         1.000000   \n",
       "ENSG00000100299         0.034473         0.094441        -0.058584   \n",
       "ENSG00000251322        -0.060927        -0.086780        -0.044446   \n",
       "\n",
       "                 ENSG00000100299  ENSG00000251322  \n",
       "ENSG00000188976         0.000000         0.000000  \n",
       "ENSG00000188290         0.000000         0.000000  \n",
       "ENSG00000187608         0.000000         0.000000  \n",
       "ENSG00000188157         0.000000         0.000000  \n",
       "ENSG00000186891         0.000000         0.000000  \n",
       "...                          ...              ...  \n",
       "ENSG00000205560         0.034473        -0.060927  \n",
       "ENSG00000100288         0.094441        -0.086780  \n",
       "ENSG00000008735        -0.058584        -0.044446  \n",
       "ENSG00000100299         1.000000         0.021316  \n",
       "ENSG00000251322         0.021316         1.000000  \n",
       "\n",
       "[6452 rows x 6452 columns]"
      ]
     },
     "execution_count": 36,
     "metadata": {},
     "output_type": "execute_result"
    }
   ],
   "source": [
    "full_corr_matrix"
   ]
  },
  {
   "cell_type": "markdown",
   "id": "1169db4b-9af2-4d3c-a27a-198d7730fa67",
   "metadata": {
    "papermill": {
     "duration": 0.039073,
     "end_time": "2021-05-01T22:35:35.023905",
     "exception": false,
     "start_time": "2021-05-01T22:35:34.984832",
     "status": "completed"
    },
    "tags": []
   },
   "source": [
    "## Some checks"
   ]
  },
  {
   "cell_type": "code",
   "execution_count": 37,
   "id": "cf103f79-1acb-4582-8f93-835151af23e8",
   "metadata": {},
   "outputs": [],
   "source": [
    "full_corr_matrix[full_corr_matrix > 1.0] = 1.0\n",
    "np.fill_diagonal(full_corr_matrix.values, 1.0)"
   ]
  },
  {
   "cell_type": "code",
   "execution_count": 38,
   "id": "7dadf304-3cfe-45da-88fc-b20b7d8ee956",
   "metadata": {},
   "outputs": [],
   "source": [
    "assert np.all(full_corr_matrix.to_numpy().diagonal() == 1.0)"
   ]
  },
  {
   "cell_type": "code",
   "execution_count": 39,
   "id": "776749ae-cf4d-46d8-9fae-49ea728f9002",
   "metadata": {},
   "outputs": [],
   "source": [
    "# check that all genes have a value\n",
    "assert not full_corr_matrix.isna().any().any()"
   ]
  },
  {
   "cell_type": "code",
   "execution_count": 40,
   "id": "31b4e109-a020-4667-9326-c63e6d80a33e",
   "metadata": {},
   "outputs": [
    {
     "data": {
      "text/plain": [
       "-0.5418240489351449"
      ]
     },
     "metadata": {},
     "output_type": "display_data"
    }
   ],
   "source": [
    "_min_val = full_corr_matrix.min().min()\n",
    "display(_min_val)\n",
    "assert _min_val >= -1.0"
   ]
  },
  {
   "cell_type": "code",
   "execution_count": 41,
   "id": "df674d11-939a-4704-a718-f246527a1880",
   "metadata": {},
   "outputs": [
    {
     "data": {
      "text/plain": [
       "1.0"
      ]
     },
     "metadata": {},
     "output_type": "display_data"
    }
   ],
   "source": [
    "_max_val = full_corr_matrix.max().max()  # this only captures the ones in the diagonal\n",
    "display(_max_val)\n",
    "assert _max_val <= 1.0"
   ]
  },
  {
   "cell_type": "code",
   "execution_count": 42,
   "id": "2f1dfe5f-7d6f-44ed-bb12-fa43a31f221b",
   "metadata": {},
   "outputs": [],
   "source": [
    "# check that matrix is positive definite\n",
    "eigs = np.linalg.eigvals(full_corr_matrix.to_numpy())\n",
    "assert np.all(eigs > 0)"
   ]
  },
  {
   "cell_type": "code",
   "execution_count": 43,
   "id": "a27a73da-fe28-425f-92eb-9d30673f34bb",
   "metadata": {},
   "outputs": [
    {
     "data": {
      "text/plain": [
       "array([[ 1.04043366,  0.        ,  0.        , ...,  0.        ,\n",
       "         0.        ,  0.        ],\n",
       "       [-0.03080347,  1.02274365,  0.        , ...,  0.        ,\n",
       "         0.        ,  0.        ],\n",
       "       [ 0.0173705 , -0.07730791,  1.02046879, ...,  0.        ,\n",
       "         0.        ,  0.        ],\n",
       "       ...,\n",
       "       [ 0.        ,  0.        ,  0.        , ...,  1.00266005,\n",
       "         0.        ,  0.        ],\n",
       "       [ 0.        ,  0.        ,  0.        , ...,  0.05781607,\n",
       "         1.00022727,  0.        ],\n",
       "       [ 0.        ,  0.        ,  0.        , ...,  0.04333218,\n",
       "        -0.02132132,  1.        ]])"
      ]
     },
     "execution_count": 43,
     "metadata": {},
     "output_type": "execute_result"
    }
   ],
   "source": [
    "# this should not fail\n",
    "np.linalg.cholesky(np.linalg.inv(full_corr_matrix))"
   ]
  },
  {
   "cell_type": "code",
   "execution_count": 44,
   "id": "3a5ac837-58f6-4474-94b6-31ae9aeb371e",
   "metadata": {},
   "outputs": [],
   "source": [
    "# full_corr_matrix = full_corr_matrix.astype(np.float32)"
   ]
  },
  {
   "cell_type": "markdown",
   "id": "183120b0",
   "metadata": {
    "papermill": {
     "duration": 0.039073,
     "end_time": "2021-05-01T22:35:35.023905",
     "exception": false,
     "start_time": "2021-05-01T22:35:34.984832",
     "status": "completed"
    },
    "tags": []
   },
   "source": [
    "# Try to fit GLS and see if it works (with random data)"
   ]
  },
  {
   "cell_type": "code",
   "execution_count": 45,
   "id": "35409e2f-d9d5-4d82-bcd8-a7b6a93475a9",
   "metadata": {},
   "outputs": [],
   "source": [
    "import statsmodels.api as sm"
   ]
  },
  {
   "cell_type": "code",
   "execution_count": 46,
   "id": "06d9710b-5df3-4bd2-85ab-5092bf40d5aa",
   "metadata": {},
   "outputs": [],
   "source": [
    "y = np.random.rand(full_corr_matrix.shape[0])"
   ]
  },
  {
   "cell_type": "code",
   "execution_count": 47,
   "id": "637301c4-e470-4855-8c76-1b256b40e76a",
   "metadata": {},
   "outputs": [],
   "source": [
    "X = np.random.rand(full_corr_matrix.shape[0], 2)\n",
    "X[:, 0] = 1"
   ]
  },
  {
   "cell_type": "code",
   "execution_count": 48,
   "id": "41a7238c-4c9a-43d5-9491-3efe0a34f4df",
   "metadata": {},
   "outputs": [],
   "source": [
    "# this should not throw an exception: LinAlgError(\"Matrix is not positive definite\")\n",
    "# _gls_model = sm.GLS(y, X, sigma=np.identity(y.shape[0]))\n",
    "_gls_model = sm.GLS(y, X, sigma=full_corr_matrix)"
   ]
  },
  {
   "cell_type": "code",
   "execution_count": 49,
   "id": "52774279-cc47-4115-ab75-ca2ff4a7c0b1",
   "metadata": {},
   "outputs": [],
   "source": [
    "_gls_results = _gls_model.fit()"
   ]
  },
  {
   "cell_type": "code",
   "execution_count": 50,
   "id": "7a2f5335-e597-42f0-95c5-509c7fc424dc",
   "metadata": {},
   "outputs": [
    {
     "name": "stdout",
     "output_type": "stream",
     "text": [
      "                            GLS Regression Results                            \n",
      "==============================================================================\n",
      "Dep. Variable:                      y   R-squared:                       0.000\n",
      "Model:                            GLS   Adj. R-squared:                 -0.000\n",
      "Method:                 Least Squares   F-statistic:                    0.7422\n",
      "Date:                Sat, 18 Jun 2022   Prob (F-statistic):              0.389\n",
      "Time:                        12:13:58   Log-Likelihood:                -1256.2\n",
      "No. Observations:                6452   AIC:                             2516.\n",
      "Df Residuals:                    6450   BIC:                             2530.\n",
      "Df Model:                           1                                         \n",
      "Covariance Type:            nonrobust                                         \n",
      "==============================================================================\n",
      "                 coef    std err          t      P>|t|      [0.025      0.975]\n",
      "------------------------------------------------------------------------------\n",
      "const          0.5092      0.007     70.885      0.000       0.495       0.523\n",
      "x1            -0.0107      0.012     -0.862      0.389      -0.035       0.014\n",
      "==============================================================================\n",
      "Omnibus:                     1881.199   Durbin-Watson:                   1.982\n",
      "Prob(Omnibus):                  0.000   Jarque-Bera (JB):              293.984\n",
      "Skew:                          -0.020   Prob(JB):                     1.45e-64\n",
      "Kurtosis:                       1.955   Cond. No.                         4.40\n",
      "==============================================================================\n",
      "\n",
      "Notes:\n",
      "[1] Standard Errors assume that the covariance matrix of the errors is correctly specified.\n"
     ]
    }
   ],
   "source": [
    "print(_gls_results.summary())"
   ]
  },
  {
   "cell_type": "markdown",
   "id": "551bd31a-ad37-45b5-a0c8-6ff1459faf60",
   "metadata": {
    "papermill": {
     "duration": 0.039073,
     "end_time": "2021-05-01T22:35:35.023905",
     "exception": false,
     "start_time": "2021-05-01T22:35:34.984832",
     "status": "completed"
    },
    "tags": []
   },
   "source": [
    "## Stats"
   ]
  },
  {
   "cell_type": "code",
   "execution_count": 51,
   "id": "33b5482f-7ecf-4365-867f-249f28d09180",
   "metadata": {
    "papermill": {
     "duration": 0.183963,
     "end_time": "2021-05-01T22:35:35.247277",
     "exception": false,
     "start_time": "2021-05-01T22:35:35.063314",
     "status": "completed"
    },
    "tags": []
   },
   "outputs": [],
   "source": [
    "full_corr_matrix_flat = full_corr_matrix.mask(\n",
    "    np.triu(np.ones(full_corr_matrix.shape)).astype(bool)\n",
    ").stack()"
   ]
  },
  {
   "cell_type": "code",
   "execution_count": 52,
   "id": "e2d950d1-646a-4ba1-bb91-cf07ad00872d",
   "metadata": {},
   "outputs": [
    {
     "data": {
      "text/plain": [
       "(20810926,)"
      ]
     },
     "metadata": {},
     "output_type": "display_data"
    }
   ],
   "source": [
    "display(full_corr_matrix_flat.shape)\n",
    "assert full_corr_matrix_flat.shape[0] == int(\n",
    "    full_corr_matrix.shape[0] * (full_corr_matrix.shape[0] - 1) / 2\n",
    ")"
   ]
  },
  {
   "cell_type": "code",
   "execution_count": 53,
   "id": "cf002268-94ab-4208-a0f2-d1c77441fe26",
   "metadata": {},
   "outputs": [
    {
     "data": {
      "text/plain": [
       "Series([], dtype: float64)"
      ]
     },
     "execution_count": 53,
     "metadata": {},
     "output_type": "execute_result"
    }
   ],
   "source": [
    "full_corr_matrix_flat[full_corr_matrix_flat == 1.0]"
   ]
  },
  {
   "cell_type": "code",
   "execution_count": 54,
   "id": "7aab91d9-8c96-464a-96c6-5b2e657f6efa",
   "metadata": {},
   "outputs": [
    {
     "data": {
      "text/plain": [
       "ENSG00000188290  ENSG00000188976    0.062866\n",
       "ENSG00000187608  ENSG00000188976   -0.010847\n",
       "                 ENSG00000188290    0.089331\n",
       "ENSG00000188157  ENSG00000188976   -0.131670\n",
       "                 ENSG00000188290   -0.033630\n",
       "dtype: float64"
      ]
     },
     "execution_count": 54,
     "metadata": {},
     "output_type": "execute_result"
    }
   ],
   "source": [
    "full_corr_matrix_flat.head()"
   ]
  },
  {
   "cell_type": "code",
   "execution_count": 55,
   "id": "67e7f149",
   "metadata": {
    "papermill": {
     "duration": 0.526506,
     "end_time": "2021-05-01T22:35:35.817216",
     "exception": false,
     "start_time": "2021-05-01T22:35:35.290710",
     "status": "completed"
    },
    "tags": []
   },
   "outputs": [
    {
     "data": {
      "text/plain": [
       "count                20810926.0\n",
       "mean     3.5499220846189066e-07\n",
       "std       0.0050789170486224035\n",
       "min         -0.5418240489351449\n",
       "25%                         0.0\n",
       "50%                         0.0\n",
       "75%                         0.0\n",
       "max          0.5198900384631986\n",
       "dtype: object"
      ]
     },
     "execution_count": 55,
     "metadata": {},
     "output_type": "execute_result"
    }
   ],
   "source": [
    "full_corr_matrix_flat.describe().apply(str)"
   ]
  },
  {
   "cell_type": "code",
   "execution_count": 56,
   "id": "b3815678-0f93-4b35-897b-a9d047a2aa78",
   "metadata": {},
   "outputs": [
    {
     "data": {
      "text/plain": [
       "0.00   -0.541824\n",
       "0.05    0.000000\n",
       "0.10    0.000000\n",
       "0.15    0.000000\n",
       "0.20    0.000000\n",
       "0.25    0.000000\n",
       "0.30    0.000000\n",
       "0.35    0.000000\n",
       "0.40    0.000000\n",
       "0.45    0.000000\n",
       "0.50    0.000000\n",
       "0.55    0.000000\n",
       "0.60    0.000000\n",
       "0.65    0.000000\n",
       "0.70    0.000000\n",
       "0.75    0.000000\n",
       "0.80    0.000000\n",
       "0.85    0.000000\n",
       "0.90    0.000000\n",
       "0.95    0.000000\n",
       "dtype: float64"
      ]
     },
     "metadata": {},
     "output_type": "display_data"
    }
   ],
   "source": [
    "full_corr_matrix_flat_quantiles = full_corr_matrix_flat.quantile(np.arange(0, 1, 0.05))\n",
    "display(full_corr_matrix_flat_quantiles)"
   ]
  },
  {
   "cell_type": "markdown",
   "id": "5fd7d482-b7b8-4a84-91b0-749d15f0d2c0",
   "metadata": {},
   "source": [
    "## Plot: distribution"
   ]
  },
  {
   "cell_type": "code",
   "execution_count": 57,
   "id": "8301126b-a7d4-4744-9c7d-f0f86eb6f54c",
   "metadata": {},
   "outputs": [
    {
     "data": {
      "image/png": "[encoded data removed]",
      "text/plain": [
       "<Figure size 504x504 with 1 Axes>"
      ]
     },
     "metadata": {
      "needs_background": "light"
     },
     "output_type": "display_data"
    }
   ],
   "source": [
    "with sns.plotting_context(\"paper\", font_scale=1.5):\n",
    "    g = sns.displot(full_corr_matrix_flat, kde=True, height=7)\n",
    "    g.ax.set_title(\"Distribution of gene correlation values in all chromosomes\")"
   ]
  },
  {
   "cell_type": "markdown",
   "id": "3e0cef37-9d8e-49dd-8bfc-875da00a74de",
   "metadata": {},
   "source": [
    "## Plot: heatmap"
   ]
  },
  {
   "cell_type": "code",
   "execution_count": 58,
   "id": "d03fe63a-c7b2-4fb9-a53c-db362ce843c9",
   "metadata": {},
   "outputs": [
    {
     "data": {
      "text/plain": [
       "'-0.05 / 0.05'"
      ]
     },
     "metadata": {},
     "output_type": "display_data"
    }
   ],
   "source": [
    "vmin_val = min(-0.05, full_corr_matrix_flat_quantiles[0.10])\n",
    "vmax_val = max(0.05, full_corr_matrix_flat_quantiles[0.90])\n",
    "display(f\"{vmin_val} / {vmax_val}\")"
   ]
  },
  {
   "cell_type": "code",
   "execution_count": 59,
   "id": "dc41b70b-5bcc-4d9e-9f33-a22c4a94dab5",
   "metadata": {},
   "outputs": [
    {
     "data": {
      "text/plain": [
       "Text(0.5, 1.0, 'Gene correlations in all chromosomes')"
      ]
     },
     "execution_count": 59,
     "metadata": {},
     "output_type": "execute_result"
    },
    {
     "data": {
      "image/png": "[encoded data removed]",
      "text/plain": [
       "<Figure size 720x720 with 2 Axes>"
      ]
     },
     "metadata": {
      "needs_background": "light"
     },
     "output_type": "display_data"
    }
   ],
   "source": [
    "f, ax = plt.subplots(figsize=(10, 10))\n",
    "sns.heatmap(\n",
    "    full_corr_matrix,\n",
    "    xticklabels=False,\n",
    "    yticklabels=False,\n",
    "    square=True,\n",
    "    vmin=vmin_val,\n",
    "    vmax=vmax_val,\n",
    "    cmap=\"YlGnBu\",\n",
    "    ax=ax,\n",
    ")\n",
    "ax.set_title(\"Gene correlations in all chromosomes\")"
   ]
  },
  {
   "cell_type": "markdown",
   "id": "e34db3c2",
   "metadata": {
    "papermill": {
     "duration": 0.040606,
     "end_time": "2021-05-01T22:35:38.161821",
     "exception": false,
     "start_time": "2021-05-01T22:35:38.121215",
     "status": "completed"
    },
    "tags": []
   },
   "source": [
    "# Save"
   ]
  },
  {
   "cell_type": "markdown",
   "id": "510183a9",
   "metadata": {
    "papermill": {
     "duration": 0.046068,
     "end_time": "2021-05-01T22:35:38.250096",
     "exception": false,
     "start_time": "2021-05-01T22:35:38.204028",
     "status": "completed"
    },
    "tags": []
   },
   "source": [
    "## With ensemble ids"
   ]
  },
  {
   "cell_type": "code",
   "execution_count": 60,
   "id": "751cdc8c-1cce-4dee-8524-89b4b9a27feb",
   "metadata": {},
   "outputs": [
    {
     "data": {
      "text/plain": [
       "PosixPath('/opt/data/data/phenomexcan/ld_blocks/gene_corrs/gtex_v8/mashr/multiplier_genes-pred_expression_corr-ssm_corrs-gene_ensembl_ids.pkl')"
      ]
     },
     "metadata": {},
     "output_type": "display_data"
    }
   ],
   "source": [
    "output_file_name_template = conf.PHENOMEXCAN[\"LD_BLOCKS\"][\n",
    "    \"GENE_CORRS_FILE_NAME_TEMPLATES\"\n",
    "][\"GENE_CORR_AVG\"]\n",
    "\n",
    "output_file = OUTPUT_DIR_BASE / output_file_name_template.format(\n",
    "    prefix=\"\",\n",
    "    suffix=f\"-ssm_corrs-gene_ensembl_ids\",\n",
    ")\n",
    "display(output_file)"
   ]
  },
  {
   "cell_type": "code",
   "execution_count": 63,
   "id": "d841e2a0",
   "metadata": {
    "papermill": {
     "duration": 0.224041,
     "end_time": "2021-05-01T22:35:38.609910",
     "exception": false,
     "start_time": "2021-05-01T22:35:38.385869",
     "status": "completed"
    },
    "tags": []
   },
   "outputs": [],
   "source": [
    "full_corr_matrix.to_pickle(output_file)"
   ]
  },
  {
   "cell_type": "markdown",
   "id": "7f9816a6",
   "metadata": {
    "papermill": {
     "duration": 0.040994,
     "end_time": "2021-05-01T22:35:38.698289",
     "exception": false,
     "start_time": "2021-05-01T22:35:38.657295",
     "status": "completed"
    },
    "tags": []
   },
   "source": [
    "## With gene symbols"
   ]
  },
  {
   "cell_type": "code",
   "execution_count": 64,
   "id": "2f174f95-2be3-4b63-95fb-451413ad361d",
   "metadata": {},
   "outputs": [
    {
     "data": {
      "text/plain": [
       "PosixPath('/opt/data/data/phenomexcan/ld_blocks/gene_corrs/gtex_v8/mashr/multiplier_genes-pred_expression_corr-ssm_corrs-gene_symbols.pkl')"
      ]
     },
     "metadata": {},
     "output_type": "display_data"
    }
   ],
   "source": [
    "output_file_name_template = conf.PHENOMEXCAN[\"LD_BLOCKS\"][\n",
    "    \"GENE_CORRS_FILE_NAME_TEMPLATES\"\n",
    "][\"GENE_CORR_AVG\"]\n",
    "\n",
    "output_file = OUTPUT_DIR_BASE / output_file_name_template.format(\n",
    "    prefix=\"\",\n",
    "    suffix=f\"-ssm_corrs-gene_symbols\",\n",
    ")\n",
    "display(output_file)"
   ]
  },
  {
   "cell_type": "code",
   "execution_count": 65,
   "id": "1436a25d",
   "metadata": {
    "papermill": {
     "duration": 0.091892,
     "end_time": "2021-05-01T22:35:38.926268",
     "exception": false,
     "start_time": "2021-05-01T22:35:38.834376",
     "status": "completed"
    },
    "tags": []
   },
   "outputs": [],
   "source": [
    "full_corr_matrix_gene_symbols = full_corr_matrix.rename(\n",
    "    index=Gene.GENE_ID_TO_NAME_MAP, columns=Gene.GENE_ID_TO_NAME_MAP\n",
    ")"
   ]
  },
  {
   "cell_type": "code",
   "execution_count": 71,
   "id": "b2014f92",
   "metadata": {
    "papermill": {
     "duration": 0.054412,
     "end_time": "2021-05-01T22:35:39.023755",
     "exception": false,
     "start_time": "2021-05-01T22:35:38.969343",
     "status": "completed"
    },
    "tags": []
   },
   "outputs": [],
   "source": [
    "assert full_corr_matrix_gene_symbols.index.is_unique"
   ]
  },
  {
   "cell_type": "code",
   "execution_count": 72,
   "id": "1ced30b0",
   "metadata": {
    "papermill": {
     "duration": 0.05411,
     "end_time": "2021-05-01T22:35:39.120417",
     "exception": false,
     "start_time": "2021-05-01T22:35:39.066307",
     "status": "completed"
    },
    "tags": []
   },
   "outputs": [],
   "source": [
    "assert full_corr_matrix_gene_symbols.columns.is_unique"
   ]
  },
  {
   "cell_type": "code",
   "execution_count": 73,
   "id": "d9e18eab",
   "metadata": {
    "papermill": {
     "duration": 0.055806,
     "end_time": "2021-05-01T22:35:39.218719",
     "exception": false,
     "start_time": "2021-05-01T22:35:39.162913",
     "status": "completed"
    },
    "tags": []
   },
   "outputs": [
    {
     "data": {
      "text/plain": [
       "(6452, 6452)"
      ]
     },
     "execution_count": 73,
     "metadata": {},
     "output_type": "execute_result"
    }
   ],
   "source": [
    "full_corr_matrix_gene_symbols.shape"
   ]
  },
  {
   "cell_type": "code",
   "execution_count": 74,
   "id": "44e83e62",
   "metadata": {
    "papermill": {
     "duration": 0.100155,
     "end_time": "2021-05-01T22:35:39.366443",
     "exception": false,
     "start_time": "2021-05-01T22:35:39.266288",
     "status": "completed"
    },
    "tags": []
   },
   "outputs": [
    {
     "data": {
      "text/html": [
       "<div>\n",
       "<style scoped>\n",
       "    .dataframe tbody tr th:only-of-type {\n",
       "        vertical-align: middle;\n",
       "    }\n",
       "\n",
       "    .dataframe tbody tr th {\n",
       "        vertical-align: top;\n",
       "    }\n",
       "\n",
       "    .dataframe thead th {\n",
       "        text-align: right;\n",
       "    }\n",
       "</style>\n",
       "<table border=\"1\" class=\"dataframe\">\n",
       "  <thead>\n",
       "    <tr style=\"text-align: right;\">\n",
       "      <th></th>\n",
       "      <th>NOC2L</th>\n",
       "      <th>HES4</th>\n",
       "      <th>ISG15</th>\n",
       "      <th>AGRN</th>\n",
       "      <th>TNFRSF18</th>\n",
       "      <th>TNFRSF4</th>\n",
       "      <th>B3GALT6</th>\n",
       "      <th>UBE2J2</th>\n",
       "      <th>ACAP3</th>\n",
       "      <th>TAS1R3</th>\n",
       "      <th>...</th>\n",
       "      <th>PLXNB2</th>\n",
       "      <th>ADM2</th>\n",
       "      <th>MIOX</th>\n",
       "      <th>SCO2</th>\n",
       "      <th>TYMP</th>\n",
       "      <th>CPT1B</th>\n",
       "      <th>CHKB</th>\n",
       "      <th>MAPK8IP2</th>\n",
       "      <th>ARSA</th>\n",
       "      <th>SHANK3</th>\n",
       "    </tr>\n",
       "  </thead>\n",
       "  <tbody>\n",
       "    <tr>\n",
       "      <th>NOC2L</th>\n",
       "      <td>1.000000</td>\n",
       "      <td>0.062866</td>\n",
       "      <td>-0.010847</td>\n",
       "      <td>-0.131670</td>\n",
       "      <td>0.037099</td>\n",
       "      <td>0.019131</td>\n",
       "      <td>-0.001807</td>\n",
       "      <td>-0.056218</td>\n",
       "      <td>0.026165</td>\n",
       "      <td>-0.000353</td>\n",
       "      <td>...</td>\n",
       "      <td>0.0</td>\n",
       "      <td>0.0</td>\n",
       "      <td>0.0</td>\n",
       "      <td>0.0</td>\n",
       "      <td>0.0</td>\n",
       "      <td>0.0</td>\n",
       "      <td>0.0</td>\n",
       "      <td>0.0</td>\n",
       "      <td>0.0</td>\n",
       "      <td>0.0</td>\n",
       "    </tr>\n",
       "    <tr>\n",
       "      <th>HES4</th>\n",
       "      <td>0.062866</td>\n",
       "      <td>1.000000</td>\n",
       "      <td>0.089331</td>\n",
       "      <td>-0.033630</td>\n",
       "      <td>0.037086</td>\n",
       "      <td>0.006598</td>\n",
       "      <td>-0.003540</td>\n",
       "      <td>-0.028828</td>\n",
       "      <td>0.057050</td>\n",
       "      <td>-0.035404</td>\n",
       "      <td>...</td>\n",
       "      <td>0.0</td>\n",
       "      <td>0.0</td>\n",
       "      <td>0.0</td>\n",
       "      <td>0.0</td>\n",
       "      <td>0.0</td>\n",
       "      <td>0.0</td>\n",
       "      <td>0.0</td>\n",
       "      <td>0.0</td>\n",
       "      <td>0.0</td>\n",
       "      <td>0.0</td>\n",
       "    </tr>\n",
       "    <tr>\n",
       "      <th>ISG15</th>\n",
       "      <td>-0.010847</td>\n",
       "      <td>0.089331</td>\n",
       "      <td>1.000000</td>\n",
       "      <td>0.001009</td>\n",
       "      <td>-0.035575</td>\n",
       "      <td>-0.022576</td>\n",
       "      <td>-0.084673</td>\n",
       "      <td>-0.045836</td>\n",
       "      <td>-0.022564</td>\n",
       "      <td>-0.025865</td>\n",
       "      <td>...</td>\n",
       "      <td>0.0</td>\n",
       "      <td>0.0</td>\n",
       "      <td>0.0</td>\n",
       "      <td>0.0</td>\n",
       "      <td>0.0</td>\n",
       "      <td>0.0</td>\n",
       "      <td>0.0</td>\n",
       "      <td>0.0</td>\n",
       "      <td>0.0</td>\n",
       "      <td>0.0</td>\n",
       "    </tr>\n",
       "    <tr>\n",
       "      <th>AGRN</th>\n",
       "      <td>-0.131670</td>\n",
       "      <td>-0.033630</td>\n",
       "      <td>0.001009</td>\n",
       "      <td>1.000000</td>\n",
       "      <td>-0.084165</td>\n",
       "      <td>-0.081193</td>\n",
       "      <td>-0.123105</td>\n",
       "      <td>-0.013481</td>\n",
       "      <td>-0.004322</td>\n",
       "      <td>0.009895</td>\n",
       "      <td>...</td>\n",
       "      <td>0.0</td>\n",
       "      <td>0.0</td>\n",
       "      <td>0.0</td>\n",
       "      <td>0.0</td>\n",
       "      <td>0.0</td>\n",
       "      <td>0.0</td>\n",
       "      <td>0.0</td>\n",
       "      <td>0.0</td>\n",
       "      <td>0.0</td>\n",
       "      <td>0.0</td>\n",
       "    </tr>\n",
       "    <tr>\n",
       "      <th>TNFRSF18</th>\n",
       "      <td>0.037099</td>\n",
       "      <td>0.037086</td>\n",
       "      <td>-0.035575</td>\n",
       "      <td>-0.084165</td>\n",
       "      <td>1.000000</td>\n",
       "      <td>0.061212</td>\n",
       "      <td>0.175985</td>\n",
       "      <td>-0.064790</td>\n",
       "      <td>0.155956</td>\n",
       "      <td>-0.031170</td>\n",
       "      <td>...</td>\n",
       "      <td>0.0</td>\n",
       "      <td>0.0</td>\n",
       "      <td>0.0</td>\n",
       "      <td>0.0</td>\n",
       "      <td>0.0</td>\n",
       "      <td>0.0</td>\n",
       "      <td>0.0</td>\n",
       "      <td>0.0</td>\n",
       "      <td>0.0</td>\n",
       "      <td>0.0</td>\n",
       "    </tr>\n",
       "  </tbody>\n",
       "</table>\n",
       "<p>5 rows × 6452 columns</p>\n",
       "</div>"
      ],
      "text/plain": [
       "             NOC2L      HES4     ISG15      AGRN  TNFRSF18   TNFRSF4  \\\n",
       "NOC2L     1.000000  0.062866 -0.010847 -0.131670  0.037099  0.019131   \n",
       "HES4      0.062866  1.000000  0.089331 -0.033630  0.037086  0.006598   \n",
       "ISG15    -0.010847  0.089331  1.000000  0.001009 -0.035575 -0.022576   \n",
       "AGRN     -0.131670 -0.033630  0.001009  1.000000 -0.084165 -0.081193   \n",
       "TNFRSF18  0.037099  0.037086 -0.035575 -0.084165  1.000000  0.061212   \n",
       "\n",
       "           B3GALT6    UBE2J2     ACAP3    TAS1R3  ...  PLXNB2  ADM2  MIOX  \\\n",
       "NOC2L    -0.001807 -0.056218  0.026165 -0.000353  ...     0.0   0.0   0.0   \n",
       "HES4     -0.003540 -0.028828  0.057050 -0.035404  ...     0.0   0.0   0.0   \n",
       "ISG15    -0.084673 -0.045836 -0.022564 -0.025865  ...     0.0   0.0   0.0   \n",
       "AGRN     -0.123105 -0.013481 -0.004322  0.009895  ...     0.0   0.0   0.0   \n",
       "TNFRSF18  0.175985 -0.064790  0.155956 -0.031170  ...     0.0   0.0   0.0   \n",
       "\n",
       "          SCO2  TYMP  CPT1B  CHKB  MAPK8IP2  ARSA  SHANK3  \n",
       "NOC2L      0.0   0.0    0.0   0.0       0.0   0.0     0.0  \n",
       "HES4       0.0   0.0    0.0   0.0       0.0   0.0     0.0  \n",
       "ISG15      0.0   0.0    0.0   0.0       0.0   0.0     0.0  \n",
       "AGRN       0.0   0.0    0.0   0.0       0.0   0.0     0.0  \n",
       "TNFRSF18   0.0   0.0    0.0   0.0       0.0   0.0     0.0  \n",
       "\n",
       "[5 rows x 6452 columns]"
      ]
     },
     "execution_count": 74,
     "metadata": {},
     "output_type": "execute_result"
    }
   ],
   "source": [
    "full_corr_matrix_gene_symbols.head()"
   ]
  },
  {
   "cell_type": "code",
   "execution_count": 75,
   "id": "04ec6c52",
   "metadata": {
    "papermill": {
     "duration": 0.217313,
     "end_time": "2021-05-01T22:35:39.635218",
     "exception": false,
     "start_time": "2021-05-01T22:35:39.417905",
     "status": "completed"
    },
    "tags": []
   },
   "outputs": [],
   "source": [
    "full_corr_matrix_gene_symbols.to_pickle(output_file)"
   ]
  },
  {
   "cell_type": "code",
   "execution_count": null,
   "id": "38cf09b7",
   "metadata": {
    "papermill": {
     "duration": 0.042299,
     "end_time": "2021-05-01T22:35:39.726538",
     "exception": false,
     "start_time": "2021-05-01T22:35:39.684239",
     "status": "completed"
    },
    "tags": []
   },
   "outputs": [],
   "source": []
  }
 ],
 "metadata": {
  "jupytext": {
   "cell_metadata_filter": "all,-execution,-papermill,-trusted",
   "formats": "ipynb,py//py:percent"
  },
  "kernelspec": {
   "display_name": "Python 3 (ipykernel)",
   "language": "python",
   "name": "python3"
  },
  "language_info": {
   "codemirror_mode": {
    "name": "ipython",
    "version": 3
   },
   "file_extension": ".py",
   "mimetype": "text/x-python",
   "name": "python",
   "nbconvert_exporter": "python",
   "pygments_lexer": "ipython3",
   "version": "3.8.13"
  },
  "papermill": {
   "default_parameters": {},
   "duration": 22.074681,
   "end_time": "2021-05-01T22:35:40.075117",
   "environment_variables": {},
   "exception": null,
   "input_path": "08_gsa_gls/15-preprocess_gene_expr_correlations.ipynb",
   "output_path": "08_gsa_gls/15-preprocess_gene_expr_correlations.run.ipynb",
   "parameters": {},
   "start_time": "2021-05-01T22:35:18.000436",
   "version": "2.2.2"
  }
 },
 "nbformat": 4,
 "nbformat_minor": 5
}
