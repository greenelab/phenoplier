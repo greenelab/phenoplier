{
 "cells": [
  {
   "cell_type": "markdown",
   "id": "5ef66977",
   "metadata": {
    "papermill": {
     "duration": 0.05865,
     "end_time": "2021-05-01T22:35:19.055071",
     "exception": false,
     "start_time": "2021-05-01T22:35:18.996421",
     "status": "completed"
    },
    "tags": []
   },
   "source": [
    "# Description"
   ]
  },
  {
   "cell_type": "markdown",
   "id": "658d4f7c",
   "metadata": {
    "papermill": {
     "duration": 0.021853,
     "end_time": "2021-05-01T22:35:19.099201",
     "exception": false,
     "start_time": "2021-05-01T22:35:19.077348",
     "status": "completed"
    },
    "tags": []
   },
   "source": [
    "(Please, take a look at the README.md file in this directory for instructions on how to run this notebook)\n",
    "\n",
    "This notebook reads all gene correlations across all chromosomes and computes a single correlation matrix by assembling a big correlation matrix with all genes."
   ]
  },
  {
   "cell_type": "markdown",
   "id": "60fa4530",
   "metadata": {
    "papermill": {
     "duration": 0.024135,
     "end_time": "2021-05-01T22:35:19.145266",
     "exception": false,
     "start_time": "2021-05-01T22:35:19.121131",
     "status": "completed"
    },
    "tags": []
   },
   "source": [
    "# Modules"
   ]
  },
  {
   "cell_type": "code",
   "execution_count": null,
   "id": "d70b0833",
   "metadata": {
    "papermill": {
     "duration": 0.035899,
     "end_time": "2021-05-01T22:35:19.204140",
     "exception": false,
     "start_time": "2021-05-01T22:35:19.168241",
     "status": "completed"
    },
    "tags": []
   },
   "outputs": [],
   "source": [
    "%load_ext autoreload\n",
    "%autoreload 2"
   ]
  },
  {
   "cell_type": "code",
   "execution_count": null,
   "id": "6b2f9ca0",
   "metadata": {
    "papermill": {
     "duration": 0.423954,
     "end_time": "2021-05-01T22:35:19.651421",
     "exception": false,
     "start_time": "2021-05-01T22:35:19.227467",
     "status": "completed"
    },
    "tags": []
   },
   "outputs": [],
   "source": [
    "import numpy as np\n",
    "from scipy.spatial.distance import squareform\n",
    "import pandas as pd\n",
    "import matplotlib.pyplot as plt\n",
    "import seaborn as sns\n",
    "\n",
    "import conf\n",
    "from entity import Gene"
   ]
  },
  {
   "cell_type": "markdown",
   "id": "5b96e797",
   "metadata": {
    "papermill": {
     "duration": 0.022949,
     "end_time": "2021-05-01T22:35:19.699775",
     "exception": false,
     "start_time": "2021-05-01T22:35:19.676826",
     "status": "completed"
    },
    "tags": []
   },
   "source": [
    "# Settings"
   ]
  },
  {
   "cell_type": "code",
   "execution_count": null,
   "id": "4fc1b6a0",
   "metadata": {
    "tags": [
     "parameters"
    ]
   },
   "outputs": [],
   "source": [
    "# reference panel\n",
    "REFERENCE_PANEL = \"GTEX_V8\"\n",
    "# REFERENCE_PANEL = \"1000G\"\n",
    "\n",
    "# prediction models\n",
    "## mashr\n",
    "EQTL_MODEL = \"MASHR\"\n",
    "EQTL_MODEL_FILES_PREFIX = \"mashr_\"\n",
    "\n",
    "# ## elastic net\n",
    "# EQTL_MODEL = \"ELASTIC_NET\"\n",
    "# EQTL_MODEL_FILES_PREFIX = \"en_\"\n",
    "\n",
    "# make it read the prefix from conf.py\n",
    "EQTL_MODEL_FILES_PREFIX = None"
   ]
  },
  {
   "cell_type": "code",
   "execution_count": null,
   "id": "92e6297a",
   "metadata": {},
   "outputs": [],
   "source": [
    "if EQTL_MODEL_FILES_PREFIX is None:\n",
    "    EQTL_MODEL_FILES_PREFIX = conf.PHENOMEXCAN[\"PREDICTION_MODELS\"][\n",
    "        f\"{EQTL_MODEL}_PREFIX\"\n",
    "    ]"
   ]
  },
  {
   "cell_type": "code",
   "execution_count": null,
   "id": "c76e4f93",
   "metadata": {},
   "outputs": [],
   "source": [
    "display(f\"Using eQTL model: {EQTL_MODEL} / {EQTL_MODEL_FILES_PREFIX}\")"
   ]
  },
  {
   "cell_type": "code",
   "execution_count": null,
   "id": "8b85565e-d749-42a9-840d-794f535503ce",
   "metadata": {},
   "outputs": [],
   "source": [
    "REFERENCE_PANEL_DIR = conf.PHENOMEXCAN[\"LD_BLOCKS\"][f\"{REFERENCE_PANEL}_GENOTYPE_DIR\"]"
   ]
  },
  {
   "cell_type": "code",
   "execution_count": null,
   "id": "7d88b555-08c0-4a85-94e1-c7679a361093",
   "metadata": {},
   "outputs": [],
   "source": [
    "display(f\"Using reference panel folder: {str(REFERENCE_PANEL_DIR)}\")"
   ]
  },
  {
   "cell_type": "code",
   "execution_count": null,
   "id": "ac0c0705-90e4-42f8-8298-a457c7e778ff",
   "metadata": {},
   "outputs": [],
   "source": [
    "OUTPUT_DIR_BASE = (\n",
    "    conf.PHENOMEXCAN[\"LD_BLOCKS\"][f\"GENE_CORRS_DIR\"]\n",
    "    / REFERENCE_PANEL.lower()\n",
    "    / EQTL_MODEL.lower()\n",
    ")\n",
    "display(OUTPUT_DIR_BASE)\n",
    "OUTPUT_DIR_BASE.mkdir(parents=True, exist_ok=True)"
   ]
  },
  {
   "cell_type": "code",
   "execution_count": null,
   "id": "91e9b1f6-954d-494f-9ace-c2c9dfc74d4f",
   "metadata": {},
   "outputs": [],
   "source": [
    "display(f\"Using output dir base: {OUTPUT_DIR_BASE}\")"
   ]
  },
  {
   "cell_type": "code",
   "execution_count": null,
   "id": "1afd50f7",
   "metadata": {
    "papermill": {
     "duration": 0.058437,
     "end_time": "2021-05-01T22:35:19.780257",
     "exception": false,
     "start_time": "2021-05-01T22:35:19.721820",
     "status": "completed"
    }
   },
   "outputs": [],
   "source": [
    "INPUT_DIR = OUTPUT_DIR_BASE / \"by_chr\" / \"corrected_positive_definite\"\n",
    "display(INPUT_DIR)\n",
    "assert INPUT_DIR.exists()"
   ]
  },
  {
   "cell_type": "markdown",
   "id": "99ccb166",
   "metadata": {
    "papermill": {
     "duration": 0.024715,
     "end_time": "2021-05-01T22:35:19.835486",
     "exception": false,
     "start_time": "2021-05-01T22:35:19.810771",
     "status": "completed"
    },
    "tags": []
   },
   "source": [
    "# Load data"
   ]
  },
  {
   "cell_type": "markdown",
   "id": "028bdd42",
   "metadata": {
    "papermill": {
     "duration": 0.02196,
     "end_time": "2021-05-01T22:35:19.879568",
     "exception": false,
     "start_time": "2021-05-01T22:35:19.857608",
     "status": "completed"
    },
    "tags": []
   },
   "source": [
    "## Gene correlations"
   ]
  },
  {
   "cell_type": "code",
   "execution_count": null,
   "id": "04624465",
   "metadata": {
    "papermill": {
     "duration": 0.038948,
     "end_time": "2021-05-01T22:35:19.941112",
     "exception": false,
     "start_time": "2021-05-01T22:35:19.902164",
     "status": "completed"
    },
    "tags": []
   },
   "outputs": [],
   "source": [
    "all_gene_corr_files = list(INPUT_DIR.glob(\"gene_corrs-chr*.pkl\"))"
   ]
  },
  {
   "cell_type": "code",
   "execution_count": null,
   "id": "be5869e7-d0e4-4b8f-8c6d-a1c6a9419fe2",
   "metadata": {},
   "outputs": [],
   "source": [
    "# sort by chromosome\n",
    "all_gene_corr_files = sorted(\n",
    "    all_gene_corr_files, key=lambda x: int(x.name.split(\"-chr\")[1].split(\".pkl\")[0])\n",
    ")"
   ]
  },
  {
   "cell_type": "code",
   "execution_count": null,
   "id": "7d1168f5",
   "metadata": {
    "papermill": {
     "duration": 0.033452,
     "end_time": "2021-05-01T22:35:19.997421",
     "exception": false,
     "start_time": "2021-05-01T22:35:19.963969",
     "status": "completed"
    },
    "tags": []
   },
   "outputs": [],
   "source": [
    "len(all_gene_corr_files)"
   ]
  },
  {
   "cell_type": "code",
   "execution_count": null,
   "id": "39364170",
   "metadata": {
    "papermill": {
     "duration": 0.03324,
     "end_time": "2021-05-01T22:35:20.053713",
     "exception": false,
     "start_time": "2021-05-01T22:35:20.020473",
     "status": "completed"
    },
    "tags": []
   },
   "outputs": [],
   "source": [
    "all_gene_corr_files"
   ]
  },
  {
   "cell_type": "code",
   "execution_count": null,
   "id": "6e48c284",
   "metadata": {
    "papermill": {
     "duration": 0.032701,
     "end_time": "2021-05-01T22:35:20.109638",
     "exception": false,
     "start_time": "2021-05-01T22:35:20.076937",
     "status": "completed"
    },
    "tags": []
   },
   "outputs": [],
   "source": [
    "assert len(all_gene_corr_files) == 22"
   ]
  },
  {
   "cell_type": "markdown",
   "id": "46ae0b3e",
   "metadata": {
    "papermill": {
     "duration": 0.023871,
     "end_time": "2021-05-01T22:35:20.630492",
     "exception": false,
     "start_time": "2021-05-01T22:35:20.606621",
     "status": "completed"
    },
    "tags": []
   },
   "source": [
    "## MultiPLIER Z"
   ]
  },
  {
   "cell_type": "code",
   "execution_count": null,
   "id": "d38d9749",
   "metadata": {
    "papermill": {
     "duration": 0.0564,
     "end_time": "2021-05-01T22:35:20.710734",
     "exception": false,
     "start_time": "2021-05-01T22:35:20.654334",
     "status": "completed"
    },
    "tags": []
   },
   "outputs": [],
   "source": [
    "multiplier_z_genes = pd.read_pickle(\n",
    "    conf.MULTIPLIER[\"MODEL_Z_MATRIX_FILE\"]\n",
    ").index.tolist()"
   ]
  },
  {
   "cell_type": "code",
   "execution_count": null,
   "id": "67e93797",
   "metadata": {
    "papermill": {
     "duration": 0.035277,
     "end_time": "2021-05-01T22:35:20.775006",
     "exception": false,
     "start_time": "2021-05-01T22:35:20.739729",
     "status": "completed"
    },
    "tags": []
   },
   "outputs": [],
   "source": [
    "len(multiplier_z_genes)"
   ]
  },
  {
   "cell_type": "code",
   "execution_count": null,
   "id": "e1ba1ead",
   "metadata": {
    "papermill": {
     "duration": 0.034825,
     "end_time": "2021-05-01T22:35:20.833924",
     "exception": false,
     "start_time": "2021-05-01T22:35:20.799099",
     "status": "completed"
    },
    "tags": []
   },
   "outputs": [],
   "source": [
    "multiplier_z_genes[:10]"
   ]
  },
  {
   "cell_type": "markdown",
   "id": "18873129",
   "metadata": {
    "papermill": {
     "duration": 0.02465,
     "end_time": "2021-05-01T22:35:20.883779",
     "exception": false,
     "start_time": "2021-05-01T22:35:20.859129",
     "status": "completed"
    },
    "tags": []
   },
   "source": [
    "## Get gene objects"
   ]
  },
  {
   "cell_type": "code",
   "execution_count": null,
   "id": "3660a0b8",
   "metadata": {
    "papermill": {
     "duration": 0.040171,
     "end_time": "2021-05-01T22:35:20.947889",
     "exception": false,
     "start_time": "2021-05-01T22:35:20.907718",
     "status": "completed"
    },
    "tags": []
   },
   "outputs": [],
   "source": [
    "multiplier_gene_obj = {\n",
    "    gene_name: Gene(name=gene_name)\n",
    "    for gene_name in multiplier_z_genes\n",
    "    if gene_name in Gene.GENE_NAME_TO_ID_MAP\n",
    "}"
   ]
  },
  {
   "cell_type": "code",
   "execution_count": null,
   "id": "43bacda1",
   "metadata": {
    "papermill": {
     "duration": 0.034915,
     "end_time": "2021-05-01T22:35:21.008398",
     "exception": false,
     "start_time": "2021-05-01T22:35:20.973483",
     "status": "completed"
    },
    "tags": []
   },
   "outputs": [],
   "source": [
    "len(multiplier_gene_obj)"
   ]
  },
  {
   "cell_type": "code",
   "execution_count": null,
   "id": "a60c1bb6",
   "metadata": {
    "papermill": {
     "duration": 0.035363,
     "end_time": "2021-05-01T22:35:21.068790",
     "exception": false,
     "start_time": "2021-05-01T22:35:21.033427",
     "status": "completed"
    },
    "tags": []
   },
   "outputs": [],
   "source": [
    "multiplier_gene_obj[\"GAS6\"].ensembl_id"
   ]
  },
  {
   "cell_type": "code",
   "execution_count": null,
   "id": "ba55cbcb",
   "metadata": {
    "papermill": {
     "duration": 0.693367,
     "end_time": "2021-05-01T22:35:21.789096",
     "exception": false,
     "start_time": "2021-05-01T22:35:21.095729",
     "status": "completed"
    },
    "tags": []
   },
   "outputs": [],
   "source": [
    "_gene_obj = list(multiplier_gene_obj.values())\n",
    "\n",
    "genes_info = pd.DataFrame(\n",
    "    {\n",
    "        \"name\": [g.name for g in _gene_obj],\n",
    "        \"id\": [g.ensembl_id for g in _gene_obj],\n",
    "        \"chr\": [g.chromosome for g in _gene_obj],\n",
    "        \"start_position\": [g.get_attribute(\"start_position\") for g in _gene_obj],\n",
    "    }\n",
    ").dropna()"
   ]
  },
  {
   "cell_type": "code",
   "execution_count": null,
   "id": "15371751-93dd-41c9-8cb5-26051e4f6f0b",
   "metadata": {},
   "outputs": [],
   "source": [
    "assert not genes_info.isna().any().any()"
   ]
  },
  {
   "cell_type": "code",
   "execution_count": null,
   "id": "fcc20b97-4eab-47b9-a6af-1b7fd7192dfd",
   "metadata": {},
   "outputs": [],
   "source": [
    "genes_info.dtypes"
   ]
  },
  {
   "cell_type": "code",
   "execution_count": null,
   "id": "fc073c6d-7678-48e6-975e-8f5c0418d7e5",
   "metadata": {},
   "outputs": [],
   "source": [
    "genes_info[\"chr\"] = genes_info[\"chr\"].apply(pd.to_numeric, downcast=\"integer\")\n",
    "genes_info[\"start_position\"] = genes_info[\"start_position\"].astype(\n",
    "    int\n",
    ")  # .apply(pd.to_numeric, downcast=\"signed\")"
   ]
  },
  {
   "cell_type": "code",
   "execution_count": null,
   "id": "2b3edd40-0dc0-480f-a7d3-a21ab15613a0",
   "metadata": {},
   "outputs": [],
   "source": [
    "genes_info.dtypes"
   ]
  },
  {
   "cell_type": "code",
   "execution_count": null,
   "id": "9510fe3a",
   "metadata": {
    "papermill": {
     "duration": 0.035329,
     "end_time": "2021-05-01T22:35:21.849898",
     "exception": false,
     "start_time": "2021-05-01T22:35:21.814569",
     "status": "completed"
    },
    "tags": []
   },
   "outputs": [],
   "source": [
    "genes_info.shape"
   ]
  },
  {
   "cell_type": "code",
   "execution_count": null,
   "id": "b175ee0c",
   "metadata": {
    "papermill": {
     "duration": 0.038813,
     "end_time": "2021-05-01T22:35:21.914262",
     "exception": false,
     "start_time": "2021-05-01T22:35:21.875449",
     "status": "completed"
    },
    "tags": []
   },
   "outputs": [],
   "source": [
    "genes_info.head()"
   ]
  },
  {
   "cell_type": "code",
   "execution_count": null,
   "id": "ef1c5d9c-9030-465e-875e-e38672e7a4bc",
   "metadata": {},
   "outputs": [],
   "source": [
    "assert not genes_info.isna().any().any()"
   ]
  },
  {
   "cell_type": "markdown",
   "id": "f4d4f177",
   "metadata": {
    "papermill": {
     "duration": 0.025587,
     "end_time": "2021-05-01T22:35:22.274208",
     "exception": false,
     "start_time": "2021-05-01T22:35:22.248621",
     "status": "completed"
    },
    "tags": []
   },
   "source": [
    "# Create full correlation matrix"
   ]
  },
  {
   "cell_type": "code",
   "execution_count": null,
   "id": "fad655cb-e830-496d-8ae1-bd9088623515",
   "metadata": {},
   "outputs": [],
   "source": [
    "genes_info = genes_info.sort_values([\"chr\", \"start_position\"])"
   ]
  },
  {
   "cell_type": "code",
   "execution_count": null,
   "id": "3d93727c-e045-434b-99ec-2bfc661003f4",
   "metadata": {},
   "outputs": [],
   "source": [
    "genes_info"
   ]
  },
  {
   "cell_type": "code",
   "execution_count": null,
   "id": "1277c7cb-6850-476f-932e-0d166362392c",
   "metadata": {},
   "outputs": [],
   "source": [
    "full_corr_matrix = pd.DataFrame(\n",
    "    np.zeros((genes_info.shape[0], genes_info.shape[0])),\n",
    "    index=genes_info[\"id\"].tolist(),\n",
    "    columns=genes_info[\"id\"].tolist(),\n",
    ")"
   ]
  },
  {
   "cell_type": "code",
   "execution_count": null,
   "id": "5aa375f4-775a-4dab-80c9-a68a52c69adc",
   "metadata": {},
   "outputs": [],
   "source": [
    "assert full_corr_matrix.index.is_unique & full_corr_matrix.columns.is_unique"
   ]
  },
  {
   "cell_type": "code",
   "execution_count": null,
   "id": "0afc4716-f607-4634-8a02-5f116fd2c318",
   "metadata": {},
   "outputs": [],
   "source": [
    "for chr_corr_file in all_gene_corr_files:\n",
    "    print(chr_corr_file.name, flush=True)\n",
    "\n",
    "    corr_data = pd.read_pickle(chr_corr_file)\n",
    "    full_corr_matrix.loc[corr_data.index, corr_data.columns] = corr_data"
   ]
  },
  {
   "cell_type": "code",
   "execution_count": null,
   "id": "a6be3bf7-d1c1-4f90-b074-a6e74d9285a5",
   "metadata": {},
   "outputs": [],
   "source": [
    "full_corr_matrix.shape"
   ]
  },
  {
   "cell_type": "code",
   "execution_count": null,
   "id": "aac21a65-87b3-4b87-b17a-cbe3692c88a9",
   "metadata": {},
   "outputs": [],
   "source": [
    "full_corr_matrix"
   ]
  },
  {
   "cell_type": "markdown",
   "id": "1169db4b-9af2-4d3c-a27a-198d7730fa67",
   "metadata": {
    "papermill": {
     "duration": 0.039073,
     "end_time": "2021-05-01T22:35:35.023905",
     "exception": false,
     "start_time": "2021-05-01T22:35:34.984832",
     "status": "completed"
    },
    "tags": []
   },
   "source": [
    "## Some checks"
   ]
  },
  {
   "cell_type": "code",
   "execution_count": null,
   "id": "cf103f79-1acb-4582-8f93-835151af23e8",
   "metadata": {},
   "outputs": [],
   "source": [
    "full_corr_matrix[full_corr_matrix > 1.0] = 1.0\n",
    "np.fill_diagonal(full_corr_matrix.values, 1.0)"
   ]
  },
  {
   "cell_type": "code",
   "execution_count": null,
   "id": "7dadf304-3cfe-45da-88fc-b20b7d8ee956",
   "metadata": {},
   "outputs": [],
   "source": [
    "assert np.all(full_corr_matrix.to_numpy().diagonal() == 1.0)"
   ]
  },
  {
   "cell_type": "code",
   "execution_count": null,
   "id": "776749ae-cf4d-46d8-9fae-49ea728f9002",
   "metadata": {},
   "outputs": [],
   "source": [
    "# check that all genes have a value\n",
    "assert not full_corr_matrix.isna().any().any()"
   ]
  },
  {
   "cell_type": "code",
   "execution_count": null,
   "id": "31b4e109-a020-4667-9326-c63e6d80a33e",
   "metadata": {},
   "outputs": [],
   "source": [
    "_min_val = full_corr_matrix.min().min()\n",
    "display(_min_val)\n",
    "# assert _min_val >= 0.0"
   ]
  },
  {
   "cell_type": "code",
   "execution_count": null,
   "id": "df674d11-939a-4704-a718-f246527a1880",
   "metadata": {},
   "outputs": [],
   "source": [
    "_max_val = full_corr_matrix.max().max()  # this will capture the 1.0 in the diagonal\n",
    "display(_max_val)\n",
    "assert _max_val <= 1.0"
   ]
  },
  {
   "cell_type": "code",
   "execution_count": null,
   "id": "2f1dfe5f-7d6f-44ed-bb12-fa43a31f221b",
   "metadata": {},
   "outputs": [],
   "source": [
    "# check that matrix is positive definite\n",
    "eigs = np.linalg.eigvals(full_corr_matrix.to_numpy())\n",
    "assert np.all(eigs > 0)"
   ]
  },
  {
   "cell_type": "code",
   "execution_count": null,
   "id": "a27a73da-fe28-425f-92eb-9d30673f34bb",
   "metadata": {},
   "outputs": [],
   "source": [
    "# this should not fail\n",
    "np.linalg.cholesky(np.linalg.inv(full_corr_matrix))"
   ]
  },
  {
   "cell_type": "markdown",
   "id": "183120b0",
   "metadata": {
    "papermill": {
     "duration": 0.039073,
     "end_time": "2021-05-01T22:35:35.023905",
     "exception": false,
     "start_time": "2021-05-01T22:35:34.984832",
     "status": "completed"
    },
    "tags": []
   },
   "source": [
    "# Try to fit GLS and see if it works (with random data)"
   ]
  },
  {
   "cell_type": "code",
   "execution_count": null,
   "id": "35409e2f-d9d5-4d82-bcd8-a7b6a93475a9",
   "metadata": {},
   "outputs": [],
   "source": [
    "import statsmodels.api as sm"
   ]
  },
  {
   "cell_type": "code",
   "execution_count": null,
   "id": "0df6aa93-2501-4e88-92fb-685682320944",
   "metadata": {},
   "outputs": [],
   "source": [
    "np.random.seed(0)"
   ]
  },
  {
   "cell_type": "code",
   "execution_count": null,
   "id": "06d9710b-5df3-4bd2-85ab-5092bf40d5aa",
   "metadata": {},
   "outputs": [],
   "source": [
    "y = np.random.rand(full_corr_matrix.shape[0])"
   ]
  },
  {
   "cell_type": "code",
   "execution_count": null,
   "id": "637301c4-e470-4855-8c76-1b256b40e76a",
   "metadata": {},
   "outputs": [],
   "source": [
    "X = np.random.rand(full_corr_matrix.shape[0], 2)\n",
    "X[:, 0] = 1"
   ]
  },
  {
   "cell_type": "code",
   "execution_count": null,
   "id": "41a7238c-4c9a-43d5-9491-3efe0a34f4df",
   "metadata": {},
   "outputs": [],
   "source": [
    "# this should not throw an exception: LinAlgError(\"Matrix is not positive definite\")\n",
    "# _gls_model = sm.GLS(y, X, sigma=np.identity(y.shape[0]))\n",
    "_gls_model = sm.GLS(y, X, sigma=full_corr_matrix)"
   ]
  },
  {
   "cell_type": "code",
   "execution_count": null,
   "id": "52774279-cc47-4115-ab75-ca2ff4a7c0b1",
   "metadata": {},
   "outputs": [],
   "source": [
    "_gls_results = _gls_model.fit()"
   ]
  },
  {
   "cell_type": "code",
   "execution_count": null,
   "id": "7a2f5335-e597-42f0-95c5-509c7fc424dc",
   "metadata": {},
   "outputs": [],
   "source": [
    "print(_gls_results.summary())"
   ]
  },
  {
   "cell_type": "markdown",
   "id": "551bd31a-ad37-45b5-a0c8-6ff1459faf60",
   "metadata": {
    "papermill": {
     "duration": 0.039073,
     "end_time": "2021-05-01T22:35:35.023905",
     "exception": false,
     "start_time": "2021-05-01T22:35:34.984832",
     "status": "completed"
    },
    "tags": []
   },
   "source": [
    "## Stats"
   ]
  },
  {
   "cell_type": "code",
   "execution_count": null,
   "id": "33b5482f-7ecf-4365-867f-249f28d09180",
   "metadata": {
    "papermill": {
     "duration": 0.183963,
     "end_time": "2021-05-01T22:35:35.247277",
     "exception": false,
     "start_time": "2021-05-01T22:35:35.063314",
     "status": "completed"
    },
    "tags": []
   },
   "outputs": [],
   "source": [
    "full_corr_matrix_flat = full_corr_matrix.mask(\n",
    "    np.triu(np.ones(full_corr_matrix.shape)).astype(bool)\n",
    ").stack()"
   ]
  },
  {
   "cell_type": "code",
   "execution_count": null,
   "id": "e2d950d1-646a-4ba1-bb91-cf07ad00872d",
   "metadata": {},
   "outputs": [],
   "source": [
    "display(full_corr_matrix_flat.shape)\n",
    "assert full_corr_matrix_flat.shape[0] == int(\n",
    "    full_corr_matrix.shape[0] * (full_corr_matrix.shape[0] - 1) / 2\n",
    ")"
   ]
  },
  {
   "cell_type": "code",
   "execution_count": null,
   "id": "cf002268-94ab-4208-a0f2-d1c77441fe26",
   "metadata": {},
   "outputs": [],
   "source": [
    "full_corr_matrix_flat[full_corr_matrix_flat == 1.0]"
   ]
  },
  {
   "cell_type": "code",
   "execution_count": null,
   "id": "7aab91d9-8c96-464a-96c6-5b2e657f6efa",
   "metadata": {},
   "outputs": [],
   "source": [
    "full_corr_matrix_flat.head()"
   ]
  },
  {
   "cell_type": "code",
   "execution_count": null,
   "id": "67e7f149",
   "metadata": {
    "papermill": {
     "duration": 0.526506,
     "end_time": "2021-05-01T22:35:35.817216",
     "exception": false,
     "start_time": "2021-05-01T22:35:35.290710",
     "status": "completed"
    },
    "tags": []
   },
   "outputs": [],
   "source": [
    "full_corr_matrix_flat.describe().apply(str)"
   ]
  },
  {
   "cell_type": "code",
   "execution_count": null,
   "id": "b3815678-0f93-4b35-897b-a9d047a2aa78",
   "metadata": {},
   "outputs": [],
   "source": [
    "full_corr_matrix_flat_quantiles = full_corr_matrix_flat.quantile(np.arange(0, 1, 0.05))\n",
    "display(full_corr_matrix_flat_quantiles)"
   ]
  },
  {
   "cell_type": "markdown",
   "id": "5fd7d482-b7b8-4a84-91b0-749d15f0d2c0",
   "metadata": {},
   "source": [
    "## Plot: distribution"
   ]
  },
  {
   "cell_type": "code",
   "execution_count": null,
   "id": "8301126b-a7d4-4744-9c7d-f0f86eb6f54c",
   "metadata": {},
   "outputs": [],
   "source": [
    "with sns.plotting_context(\"paper\", font_scale=1.5):\n",
    "    g = sns.displot(full_corr_matrix_flat, kde=True, height=7)\n",
    "    g.ax.set_title(\"Distribution of gene correlation values in all chromosomes\")"
   ]
  },
  {
   "cell_type": "markdown",
   "id": "3e0cef37-9d8e-49dd-8bfc-875da00a74de",
   "metadata": {},
   "source": [
    "## Plot: heatmap"
   ]
  },
  {
   "cell_type": "code",
   "execution_count": null,
   "id": "d03fe63a-c7b2-4fb9-a53c-db362ce843c9",
   "metadata": {},
   "outputs": [],
   "source": [
    "vmin_val = min(-0.05, full_corr_matrix_flat_quantiles[0.10])\n",
    "vmax_val = max(0.05, full_corr_matrix_flat_quantiles[0.90])\n",
    "display(f\"{vmin_val} / {vmax_val}\")"
   ]
  },
  {
   "cell_type": "code",
   "execution_count": null,
   "id": "dc41b70b-5bcc-4d9e-9f33-a22c4a94dab5",
   "metadata": {},
   "outputs": [],
   "source": [
    "f, ax = plt.subplots(figsize=(10, 10))\n",
    "sns.heatmap(\n",
    "    full_corr_matrix,\n",
    "    xticklabels=False,\n",
    "    yticklabels=False,\n",
    "    square=True,\n",
    "    vmin=vmin_val,\n",
    "    vmax=vmax_val,\n",
    "    cmap=\"YlGnBu\",\n",
    "    ax=ax,\n",
    ")\n",
    "ax.set_title(\"Gene correlations in all chromosomes\")"
   ]
  },
  {
   "cell_type": "markdown",
   "id": "e34db3c2",
   "metadata": {
    "papermill": {
     "duration": 0.040606,
     "end_time": "2021-05-01T22:35:38.161821",
     "exception": false,
     "start_time": "2021-05-01T22:35:38.121215",
     "status": "completed"
    },
    "tags": []
   },
   "source": [
    "# Save"
   ]
  },
  {
   "cell_type": "markdown",
   "id": "510183a9",
   "metadata": {
    "papermill": {
     "duration": 0.046068,
     "end_time": "2021-05-01T22:35:38.250096",
     "exception": false,
     "start_time": "2021-05-01T22:35:38.204028",
     "status": "completed"
    },
    "tags": []
   },
   "source": [
    "## With ensemble ids"
   ]
  },
  {
   "cell_type": "code",
   "execution_count": null,
   "id": "751cdc8c-1cce-4dee-8524-89b4b9a27feb",
   "metadata": {},
   "outputs": [],
   "source": [
    "# output_file_name_template = conf.PHENOMEXCAN[\"LD_BLOCKS\"][\n",
    "#     \"GENE_CORRS_FILE_NAME_TEMPLATES\"\n",
    "# ][\"GENE_CORR_AVG\"]\n",
    "\n",
    "# output_file = OUTPUT_DIR_BASE / output_file_name_template.format(\n",
    "#     prefix=\"\",\n",
    "#     suffix=f\"-ssm_corrs-gene_ensembl_ids\",\n",
    "# )\n",
    "# display(output_file)"
   ]
  },
  {
   "cell_type": "code",
   "execution_count": null,
   "id": "d841e2a0",
   "metadata": {
    "papermill": {
     "duration": 0.224041,
     "end_time": "2021-05-01T22:35:38.609910",
     "exception": false,
     "start_time": "2021-05-01T22:35:38.385869",
     "status": "completed"
    },
    "tags": []
   },
   "outputs": [],
   "source": [
    "# full_corr_matrix.to_pickle(output_file)"
   ]
  },
  {
   "cell_type": "markdown",
   "id": "7f9816a6",
   "metadata": {
    "papermill": {
     "duration": 0.040994,
     "end_time": "2021-05-01T22:35:38.698289",
     "exception": false,
     "start_time": "2021-05-01T22:35:38.657295",
     "status": "completed"
    },
    "tags": []
   },
   "source": [
    "## With gene symbols"
   ]
  },
  {
   "cell_type": "code",
   "execution_count": null,
   "id": "2f174f95-2be3-4b63-95fb-451413ad361d",
   "metadata": {},
   "outputs": [],
   "source": [
    "output_file_name_template = conf.PHENOMEXCAN[\"LD_BLOCKS\"][\n",
    "    \"GENE_CORRS_FILE_NAME_TEMPLATES\"\n",
    "][\"GENE_CORR_AVG\"]\n",
    "\n",
    "output_file = OUTPUT_DIR_BASE / output_file_name_template.format(\n",
    "    prefix=\"\",\n",
    "    suffix=f\"-gene_symbols\",\n",
    ")\n",
    "display(output_file)"
   ]
  },
  {
   "cell_type": "code",
   "execution_count": null,
   "id": "1436a25d",
   "metadata": {
    "papermill": {
     "duration": 0.091892,
     "end_time": "2021-05-01T22:35:38.926268",
     "exception": false,
     "start_time": "2021-05-01T22:35:38.834376",
     "status": "completed"
    },
    "tags": []
   },
   "outputs": [],
   "source": [
    "full_corr_matrix_gene_symbols = full_corr_matrix.rename(\n",
    "    index=Gene.GENE_ID_TO_NAME_MAP, columns=Gene.GENE_ID_TO_NAME_MAP\n",
    ")"
   ]
  },
  {
   "cell_type": "code",
   "execution_count": null,
   "id": "b2014f92",
   "metadata": {
    "papermill": {
     "duration": 0.054412,
     "end_time": "2021-05-01T22:35:39.023755",
     "exception": false,
     "start_time": "2021-05-01T22:35:38.969343",
     "status": "completed"
    },
    "tags": []
   },
   "outputs": [],
   "source": [
    "assert full_corr_matrix_gene_symbols.index.is_unique"
   ]
  },
  {
   "cell_type": "code",
   "execution_count": null,
   "id": "1ced30b0",
   "metadata": {
    "papermill": {
     "duration": 0.05411,
     "end_time": "2021-05-01T22:35:39.120417",
     "exception": false,
     "start_time": "2021-05-01T22:35:39.066307",
     "status": "completed"
    },
    "tags": []
   },
   "outputs": [],
   "source": [
    "assert full_corr_matrix_gene_symbols.columns.is_unique"
   ]
  },
  {
   "cell_type": "code",
   "execution_count": null,
   "id": "d9e18eab",
   "metadata": {
    "papermill": {
     "duration": 0.055806,
     "end_time": "2021-05-01T22:35:39.218719",
     "exception": false,
     "start_time": "2021-05-01T22:35:39.162913",
     "status": "completed"
    },
    "tags": []
   },
   "outputs": [],
   "source": [
    "full_corr_matrix_gene_symbols.shape"
   ]
  },
  {
   "cell_type": "code",
   "execution_count": null,
   "id": "44e83e62",
   "metadata": {
    "papermill": {
     "duration": 0.100155,
     "end_time": "2021-05-01T22:35:39.366443",
     "exception": false,
     "start_time": "2021-05-01T22:35:39.266288",
     "status": "completed"
    },
    "tags": []
   },
   "outputs": [],
   "source": [
    "full_corr_matrix_gene_symbols.head()"
   ]
  },
  {
   "cell_type": "code",
   "execution_count": null,
   "id": "04ec6c52",
   "metadata": {
    "papermill": {
     "duration": 0.217313,
     "end_time": "2021-05-01T22:35:39.635218",
     "exception": false,
     "start_time": "2021-05-01T22:35:39.417905",
     "status": "completed"
    },
    "tags": []
   },
   "outputs": [],
   "source": [
    "full_corr_matrix_gene_symbols.to_pickle(output_file)"
   ]
  },
  {
   "cell_type": "code",
   "execution_count": null,
   "id": "38cf09b7",
   "metadata": {
    "papermill": {
     "duration": 0.042299,
     "end_time": "2021-05-01T22:35:39.726538",
     "exception": false,
     "start_time": "2021-05-01T22:35:39.684239",
     "status": "completed"
    },
    "tags": []
   },
   "outputs": [],
   "source": []
  }
 ],
 "metadata": {
  "jupytext": {
   "cell_metadata_filter": "all,-execution,-papermill,-trusted",
   "formats": "ipynb,py//py:percent"
  },
  "kernelspec": {
   "display_name": "Python 3 (ipykernel)",
   "language": "python",
   "name": "python3"
  },
  "language_info": {
   "codemirror_mode": {
    "name": "ipython",
    "version": 3
   },
   "file_extension": ".py",
   "mimetype": "text/x-python",
   "name": "python",
   "nbconvert_exporter": "python",
   "pygments_lexer": "ipython3",
   "version": "3.8.13"
  },
  "papermill": {
   "default_parameters": {},
   "duration": 22.074681,
   "end_time": "2021-05-01T22:35:40.075117",
   "environment_variables": {},
   "exception": null,
   "input_path": "08_gsa_gls/15-preprocess_gene_expr_correlations.ipynb",
   "output_path": "08_gsa_gls/15-preprocess_gene_expr_correlations.run.ipynb",
   "parameters": {},
   "start_time": "2021-05-01T22:35:18.000436",
   "version": "2.2.2"
  }
 },
 "nbformat": 4,
 "nbformat_minor": 5
}
