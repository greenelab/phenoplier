{
 "cells": [
  {
   "cell_type": "markdown",
   "id": "eb8b5286",
   "metadata": {
    "papermill": {
     "duration": 0.05865,
     "end_time": "2021-05-01T22:35:19.055071",
     "exception": false,
     "start_time": "2021-05-01T22:35:18.996421",
     "status": "completed"
    },
    "tags": []
   },
   "source": [
    "# Description"
   ]
  },
  {
   "cell_type": "markdown",
   "id": "ec633fd3",
   "metadata": {
    "papermill": {
     "duration": 0.021853,
     "end_time": "2021-05-01T22:35:19.099201",
     "exception": false,
     "start_time": "2021-05-01T22:35:19.077348",
     "status": "completed"
    },
    "tags": []
   },
   "source": [
    "This notebook reads all gene correlations across all tissues and computes a single correlation matrix."
   ]
  },
  {
   "cell_type": "markdown",
   "id": "6c656652",
   "metadata": {
    "papermill": {
     "duration": 0.024135,
     "end_time": "2021-05-01T22:35:19.145266",
     "exception": false,
     "start_time": "2021-05-01T22:35:19.121131",
     "status": "completed"
    },
    "tags": []
   },
   "source": [
    "# Modules"
   ]
  },
  {
   "cell_type": "code",
   "execution_count": null,
   "id": "57b2c9ae",
   "metadata": {
    "papermill": {
     "duration": 0.035899,
     "end_time": "2021-05-01T22:35:19.204140",
     "exception": false,
     "start_time": "2021-05-01T22:35:19.168241",
     "status": "completed"
    },
    "tags": []
   },
   "outputs": [],
   "source": [
    "%load_ext autoreload\n",
    "%autoreload 2"
   ]
  },
  {
   "cell_type": "code",
   "execution_count": null,
   "id": "7e5042fa",
   "metadata": {
    "papermill": {
     "duration": 0.423954,
     "end_time": "2021-05-01T22:35:19.651421",
     "exception": false,
     "start_time": "2021-05-01T22:35:19.227467",
     "status": "completed"
    },
    "tags": []
   },
   "outputs": [],
   "source": [
    "import numpy as np\n",
    "from scipy.spatial.distance import squareform\n",
    "import pandas as pd\n",
    "\n",
    "# from tqdm import tqdm\n",
    "\n",
    "import conf\n",
    "from entity import Gene"
   ]
  },
  {
   "cell_type": "markdown",
   "id": "274532ef",
   "metadata": {
    "papermill": {
     "duration": 0.022949,
     "end_time": "2021-05-01T22:35:19.699775",
     "exception": false,
     "start_time": "2021-05-01T22:35:19.676826",
     "status": "completed"
    },
    "tags": []
   },
   "source": [
    "# Settings"
   ]
  },
  {
   "cell_type": "code",
   "execution_count": null,
   "id": "311d3a7b",
   "metadata": {
    "tags": [
     "parameters"
    ]
   },
   "outputs": [],
   "source": [
    "# mashr\n",
    "EQTL_MODEL = \"MASHR\"\n",
    "EQTL_MODEL_FILES_PREFIX = \"mashr_\"\n",
    "\n",
    "# # elastic net\n",
    "# EQTL_MODEL = \"ELASTIC_NET\"\n",
    "# EQTL_MODEL_FILES_PREFIX = \"en_\"\n",
    "\n",
    "EQTL_MODEL_FILES_PREFIX = None"
   ]
  },
  {
   "cell_type": "code",
   "execution_count": null,
   "id": "867797e3",
   "metadata": {},
   "outputs": [],
   "source": [
    "if EQTL_MODEL_FILES_PREFIX is None:\n",
    "    EQTL_MODEL_FILES_PREFIX = conf.PHENOMEXCAN[\"PREDICTION_MODELS_PREFIXES\"][EQTL_MODEL]"
   ]
  },
  {
   "cell_type": "code",
   "execution_count": null,
   "id": "a9cac80a",
   "metadata": {},
   "outputs": [],
   "source": [
    "display(f\"Using eQTL model: {EQTL_MODEL} / {EQTL_MODEL_FILES_PREFIX}\")"
   ]
  },
  {
   "cell_type": "code",
   "execution_count": null,
   "id": "96094f8e",
   "metadata": {
    "papermill": {
     "duration": 0.058437,
     "end_time": "2021-05-01T22:35:19.780257",
     "exception": false,
     "start_time": "2021-05-01T22:35:19.721820",
     "status": "completed"
    }
   },
   "outputs": [],
   "source": [
    "INPUT_DIR = (\n",
    "    conf.PHENOMEXCAN[\"LD_BLOCKS\"][\"BASE_DIR\"] / f\"{EQTL_MODEL_FILES_PREFIX}gene_corrs\"\n",
    ")\n",
    "display(INPUT_DIR)"
   ]
  },
  {
   "cell_type": "markdown",
   "id": "85ce1c46",
   "metadata": {
    "papermill": {
     "duration": 0.024715,
     "end_time": "2021-05-01T22:35:19.835486",
     "exception": false,
     "start_time": "2021-05-01T22:35:19.810771",
     "status": "completed"
    },
    "tags": []
   },
   "source": [
    "# Load data"
   ]
  },
  {
   "cell_type": "markdown",
   "id": "ca7e2c53",
   "metadata": {
    "papermill": {
     "duration": 0.02196,
     "end_time": "2021-05-01T22:35:19.879568",
     "exception": false,
     "start_time": "2021-05-01T22:35:19.857608",
     "status": "completed"
    },
    "tags": []
   },
   "source": [
    "## Gene correlations"
   ]
  },
  {
   "cell_type": "code",
   "execution_count": null,
   "id": "3a6b5dbd",
   "metadata": {
    "papermill": {
     "duration": 0.038948,
     "end_time": "2021-05-01T22:35:19.941112",
     "exception": false,
     "start_time": "2021-05-01T22:35:19.902164",
     "status": "completed"
    },
    "tags": []
   },
   "outputs": [],
   "source": [
    "all_gene_corr_files = list(INPUT_DIR.rglob(\"*.pkl\"))"
   ]
  },
  {
   "cell_type": "code",
   "execution_count": null,
   "id": "aaeafbfd",
   "metadata": {
    "papermill": {
     "duration": 0.033452,
     "end_time": "2021-05-01T22:35:19.997421",
     "exception": false,
     "start_time": "2021-05-01T22:35:19.963969",
     "status": "completed"
    },
    "tags": []
   },
   "outputs": [],
   "source": [
    "len(all_gene_corr_files)"
   ]
  },
  {
   "cell_type": "code",
   "execution_count": null,
   "id": "7d7c4919",
   "metadata": {
    "papermill": {
     "duration": 0.03324,
     "end_time": "2021-05-01T22:35:20.053713",
     "exception": false,
     "start_time": "2021-05-01T22:35:20.020473",
     "status": "completed"
    },
    "tags": []
   },
   "outputs": [],
   "source": [
    "all_gene_corr_files[:5]"
   ]
  },
  {
   "cell_type": "code",
   "execution_count": null,
   "id": "637ed6d6",
   "metadata": {
    "papermill": {
     "duration": 0.032701,
     "end_time": "2021-05-01T22:35:20.109638",
     "exception": false,
     "start_time": "2021-05-01T22:35:20.076937",
     "status": "completed"
    },
    "tags": []
   },
   "outputs": [],
   "source": [
    "assert len(all_gene_corr_files) == 22 * 49"
   ]
  },
  {
   "cell_type": "code",
   "execution_count": null,
   "id": "505d15d6",
   "metadata": {
    "papermill": {
     "duration": 0.038088,
     "end_time": "2021-05-01T22:35:20.173036",
     "exception": false,
     "start_time": "2021-05-01T22:35:20.134948",
     "status": "completed"
    },
    "tags": []
   },
   "outputs": [],
   "source": [
    "all_gene_corr_files_df = pd.DataFrame({\"corr_file\": [f for f in all_gene_corr_files]})"
   ]
  },
  {
   "cell_type": "code",
   "execution_count": null,
   "id": "a79dd3f5",
   "metadata": {
    "papermill": {
     "duration": 0.034261,
     "end_time": "2021-05-01T22:35:20.231742",
     "exception": false,
     "start_time": "2021-05-01T22:35:20.197481",
     "status": "completed"
    },
    "tags": []
   },
   "outputs": [],
   "source": [
    "all_gene_corr_files_df = all_gene_corr_files_df.assign(\n",
    "    file_name=all_gene_corr_files_df[\"corr_file\"].apply(lambda x: x.name)\n",
    ")"
   ]
  },
  {
   "cell_type": "code",
   "execution_count": null,
   "id": "8cdb8088",
   "metadata": {
    "papermill": {
     "duration": 0.034427,
     "end_time": "2021-05-01T22:35:20.290305",
     "exception": false,
     "start_time": "2021-05-01T22:35:20.255878",
     "status": "completed"
    },
    "tags": []
   },
   "outputs": [],
   "source": [
    "all_gene_corr_files_df = all_gene_corr_files_df.assign(\n",
    "    tissue=all_gene_corr_files_df[\"file_name\"].apply(\n",
    "        lambda x: x.split(\"-chr\")[0].split(\"gene_corrs-\")[1]\n",
    "    )\n",
    ")"
   ]
  },
  {
   "cell_type": "code",
   "execution_count": null,
   "id": "74d18e4d",
   "metadata": {
    "papermill": {
     "duration": 0.034581,
     "end_time": "2021-05-01T22:35:20.349262",
     "exception": false,
     "start_time": "2021-05-01T22:35:20.314681",
     "status": "completed"
    },
    "tags": []
   },
   "outputs": [],
   "source": [
    "all_gene_corr_files_df = all_gene_corr_files_df.assign(\n",
    "    chromosome=all_gene_corr_files_df[\"file_name\"].apply(\n",
    "        lambda x: int(x.split(\"-chr\")[1].split(\".\")[0])\n",
    "    )\n",
    ")"
   ]
  },
  {
   "cell_type": "code",
   "execution_count": null,
   "id": "7d998234",
   "metadata": {
    "papermill": {
     "duration": 0.033171,
     "end_time": "2021-05-01T22:35:20.405513",
     "exception": false,
     "start_time": "2021-05-01T22:35:20.372342",
     "status": "completed"
    },
    "tags": []
   },
   "outputs": [],
   "source": [
    "assert all_gene_corr_files_df[\"tissue\"].unique().shape[0] == 49"
   ]
  },
  {
   "cell_type": "code",
   "execution_count": null,
   "id": "53558f69",
   "metadata": {
    "papermill": {
     "duration": 0.03355,
     "end_time": "2021-05-01T22:35:20.462982",
     "exception": false,
     "start_time": "2021-05-01T22:35:20.429432",
     "status": "completed"
    },
    "tags": []
   },
   "outputs": [],
   "source": [
    "assert all_gene_corr_files_df[\"chromosome\"].unique().shape[0] == 22\n",
    "assert set(all_gene_corr_files_df[\"chromosome\"]) == set(range(1, 23))"
   ]
  },
  {
   "cell_type": "code",
   "execution_count": null,
   "id": "8647cde3",
   "metadata": {
    "papermill": {
     "duration": 0.033581,
     "end_time": "2021-05-01T22:35:20.519736",
     "exception": false,
     "start_time": "2021-05-01T22:35:20.486155",
     "status": "completed"
    },
    "tags": []
   },
   "outputs": [],
   "source": [
    "all_gene_corr_files_df.shape"
   ]
  },
  {
   "cell_type": "code",
   "execution_count": null,
   "id": "1bb52af6",
   "metadata": {
    "papermill": {
     "duration": 0.037784,
     "end_time": "2021-05-01T22:35:20.581763",
     "exception": false,
     "start_time": "2021-05-01T22:35:20.543979",
     "status": "completed"
    },
    "tags": []
   },
   "outputs": [],
   "source": [
    "all_gene_corr_files_df.head()"
   ]
  },
  {
   "cell_type": "markdown",
   "id": "0954e7e7",
   "metadata": {
    "papermill": {
     "duration": 0.023871,
     "end_time": "2021-05-01T22:35:20.630492",
     "exception": false,
     "start_time": "2021-05-01T22:35:20.606621",
     "status": "completed"
    },
    "tags": []
   },
   "source": [
    "## MultiPLIER Z"
   ]
  },
  {
   "cell_type": "code",
   "execution_count": null,
   "id": "066dd1d3",
   "metadata": {
    "papermill": {
     "duration": 0.0564,
     "end_time": "2021-05-01T22:35:20.710734",
     "exception": false,
     "start_time": "2021-05-01T22:35:20.654334",
     "status": "completed"
    },
    "tags": []
   },
   "outputs": [],
   "source": [
    "multiplier_z_genes = pd.read_pickle(\n",
    "    conf.MULTIPLIER[\"MODEL_Z_MATRIX_FILE\"]\n",
    ").index.tolist()"
   ]
  },
  {
   "cell_type": "code",
   "execution_count": null,
   "id": "8c2ef954",
   "metadata": {
    "papermill": {
     "duration": 0.035277,
     "end_time": "2021-05-01T22:35:20.775006",
     "exception": false,
     "start_time": "2021-05-01T22:35:20.739729",
     "status": "completed"
    },
    "tags": []
   },
   "outputs": [],
   "source": [
    "len(multiplier_z_genes)"
   ]
  },
  {
   "cell_type": "code",
   "execution_count": null,
   "id": "02d5c9af",
   "metadata": {
    "papermill": {
     "duration": 0.034825,
     "end_time": "2021-05-01T22:35:20.833924",
     "exception": false,
     "start_time": "2021-05-01T22:35:20.799099",
     "status": "completed"
    },
    "tags": []
   },
   "outputs": [],
   "source": [
    "multiplier_z_genes[:10]"
   ]
  },
  {
   "cell_type": "markdown",
   "id": "ead1d676",
   "metadata": {
    "papermill": {
     "duration": 0.02465,
     "end_time": "2021-05-01T22:35:20.883779",
     "exception": false,
     "start_time": "2021-05-01T22:35:20.859129",
     "status": "completed"
    },
    "tags": []
   },
   "source": [
    "## Get gene objects"
   ]
  },
  {
   "cell_type": "code",
   "execution_count": null,
   "id": "9739ebd0",
   "metadata": {
    "papermill": {
     "duration": 0.040171,
     "end_time": "2021-05-01T22:35:20.947889",
     "exception": false,
     "start_time": "2021-05-01T22:35:20.907718",
     "status": "completed"
    },
    "tags": []
   },
   "outputs": [],
   "source": [
    "multiplier_gene_obj = {\n",
    "    gene_name: Gene(name=gene_name)\n",
    "    for gene_name in multiplier_z_genes\n",
    "    if gene_name in Gene.GENE_NAME_TO_ID_MAP\n",
    "}"
   ]
  },
  {
   "cell_type": "code",
   "execution_count": null,
   "id": "9b961463",
   "metadata": {
    "papermill": {
     "duration": 0.034915,
     "end_time": "2021-05-01T22:35:21.008398",
     "exception": false,
     "start_time": "2021-05-01T22:35:20.973483",
     "status": "completed"
    },
    "tags": []
   },
   "outputs": [],
   "source": [
    "len(multiplier_gene_obj)"
   ]
  },
  {
   "cell_type": "code",
   "execution_count": null,
   "id": "96c5d2b0",
   "metadata": {
    "papermill": {
     "duration": 0.035363,
     "end_time": "2021-05-01T22:35:21.068790",
     "exception": false,
     "start_time": "2021-05-01T22:35:21.033427",
     "status": "completed"
    },
    "tags": []
   },
   "outputs": [],
   "source": [
    "multiplier_gene_obj[\"GAS6\"].ensembl_id"
   ]
  },
  {
   "cell_type": "code",
   "execution_count": null,
   "id": "77f5b215",
   "metadata": {
    "papermill": {
     "duration": 0.693367,
     "end_time": "2021-05-01T22:35:21.789096",
     "exception": false,
     "start_time": "2021-05-01T22:35:21.095729",
     "status": "completed"
    },
    "tags": []
   },
   "outputs": [],
   "source": [
    "_gene_obj = list(multiplier_gene_obj.values())\n",
    "\n",
    "genes_info = pd.DataFrame(\n",
    "    {\n",
    "        \"name\": [g.name for g in _gene_obj],\n",
    "        \"id\": [g.ensembl_id for g in _gene_obj],\n",
    "        \"chr\": [g.chromosome for g in _gene_obj],\n",
    "    }\n",
    ").dropna()"
   ]
  },
  {
   "cell_type": "code",
   "execution_count": null,
   "id": "612ed2f3",
   "metadata": {
    "papermill": {
     "duration": 0.035329,
     "end_time": "2021-05-01T22:35:21.849898",
     "exception": false,
     "start_time": "2021-05-01T22:35:21.814569",
     "status": "completed"
    },
    "tags": []
   },
   "outputs": [],
   "source": [
    "genes_info.shape"
   ]
  },
  {
   "cell_type": "code",
   "execution_count": null,
   "id": "477861f8",
   "metadata": {
    "papermill": {
     "duration": 0.038813,
     "end_time": "2021-05-01T22:35:21.914262",
     "exception": false,
     "start_time": "2021-05-01T22:35:21.875449",
     "status": "completed"
    },
    "tags": []
   },
   "outputs": [],
   "source": [
    "genes_info.head()"
   ]
  },
  {
   "cell_type": "markdown",
   "id": "d3f7c38b",
   "metadata": {
    "papermill": {
     "duration": 0.025161,
     "end_time": "2021-05-01T22:35:21.965420",
     "exception": false,
     "start_time": "2021-05-01T22:35:21.940259",
     "status": "completed"
    },
    "tags": []
   },
   "source": [
    "## Get tissues names"
   ]
  },
  {
   "cell_type": "code",
   "execution_count": null,
   "id": "bc13af08",
   "metadata": {
    "papermill": {
     "duration": 0.035528,
     "end_time": "2021-05-01T22:35:22.025998",
     "exception": false,
     "start_time": "2021-05-01T22:35:21.990470",
     "status": "completed"
    },
    "tags": []
   },
   "outputs": [],
   "source": [
    "db_files = list(conf.PHENOMEXCAN[\"PREDICTION_MODELS\"][EQTL_MODEL].glob(\"*.db\"))"
   ]
  },
  {
   "cell_type": "code",
   "execution_count": null,
   "id": "01de3e59",
   "metadata": {
    "papermill": {
     "duration": 0.035248,
     "end_time": "2021-05-01T22:35:22.088022",
     "exception": false,
     "start_time": "2021-05-01T22:35:22.052774",
     "status": "completed"
    },
    "tags": []
   },
   "outputs": [],
   "source": [
    "assert len(db_files) == 49"
   ]
  },
  {
   "cell_type": "code",
   "execution_count": null,
   "id": "40844f16",
   "metadata": {
    "papermill": {
     "duration": 0.040387,
     "end_time": "2021-05-01T22:35:22.154814",
     "exception": false,
     "start_time": "2021-05-01T22:35:22.114427",
     "status": "completed"
    },
    "tags": []
   },
   "outputs": [],
   "source": [
    "tissues = [str(f).split(EQTL_MODEL_FILES_PREFIX)[1].split(\".db\")[0] for f in db_files]"
   ]
  },
  {
   "cell_type": "code",
   "execution_count": null,
   "id": "bb0d38ac",
   "metadata": {
    "papermill": {
     "duration": 0.036818,
     "end_time": "2021-05-01T22:35:22.221345",
     "exception": false,
     "start_time": "2021-05-01T22:35:22.184527",
     "status": "completed"
    },
    "tags": []
   },
   "outputs": [],
   "source": [
    "tissues[:5]"
   ]
  },
  {
   "cell_type": "markdown",
   "id": "0afc81cf",
   "metadata": {
    "papermill": {
     "duration": 0.025587,
     "end_time": "2021-05-01T22:35:22.274208",
     "exception": false,
     "start_time": "2021-05-01T22:35:22.248621",
     "status": "completed"
    },
    "tags": []
   },
   "source": [
    "# Average correlations per chromosome"
   ]
  },
  {
   "cell_type": "code",
   "execution_count": null,
   "id": "ce14b4cb",
   "metadata": {
    "papermill": {
     "duration": 3.202619,
     "end_time": "2021-05-01T22:35:25.502376",
     "exception": false,
     "start_time": "2021-05-01T22:35:22.299757",
     "status": "completed"
    },
    "tags": []
   },
   "outputs": [],
   "source": [
    "corrs_per_chr = {}\n",
    "\n",
    "for chr_num in range(1, 23):\n",
    "    print(f\"Chromosome: {chr_num}\", flush=True)\n",
    "\n",
    "    chr_files = all_gene_corr_files_df[all_gene_corr_files_df[\"chromosome\"] == chr_num]\n",
    "    print(f\"Number of corrs files: {chr_files.shape}\")\n",
    "\n",
    "    multiplier_genes_in_chr = genes_info[genes_info[\"chr\"] == str(chr_num)]\n",
    "    print(f\"Number of MultiPLIER genes: {multiplier_genes_in_chr.shape}\")\n",
    "\n",
    "    # create final dataframe with corrs for this chr\n",
    "    chr_df = pd.DataFrame(\n",
    "        data=0.0,\n",
    "        index=multiplier_genes_in_chr[\"id\"],\n",
    "        columns=multiplier_genes_in_chr[\"id\"],\n",
    "    )\n",
    "\n",
    "    print(\"Reading corrs per tissue\", flush=True)\n",
    "    for idx, tissue_corrs in chr_files.iterrows():\n",
    "        tissue_corrs_df = pd.read_pickle(tissue_corrs[\"corr_file\"])\n",
    "\n",
    "        nan_values = tissue_corrs_df.isna()\n",
    "        if nan_values.any().any():\n",
    "            print(\n",
    "                f\"  WARNING ({tissue_corrs['tissue']}): has NaN values ({nan_values.sum().sum()})\"\n",
    "            )\n",
    "            tissue_corrs_df = tissue_corrs_df.fillna(0.0)\n",
    "\n",
    "        # align\n",
    "        tissue_corrs_df = tissue_corrs_df.loc[chr_df.index, chr_df.columns]\n",
    "\n",
    "        chr_df = chr_df + tissue_corrs_df\n",
    "    #         chr_df = chr_df.where(chr_df.abs() > tissue_corrs_df.abs(), tissue_corrs_df).fillna(chr_df)\n",
    "\n",
    "    chr_df = chr_df / float(chr_files.shape[0])\n",
    "    chr_df_flat = pd.Series(squareform(chr_df.values, checks=False))\n",
    "    display(chr_df_flat.describe())\n",
    "\n",
    "    corrs_per_chr[chr_num] = chr_df\n",
    "\n",
    "    print(\"\\n\")"
   ]
  },
  {
   "cell_type": "markdown",
   "id": "50ed3d87",
   "metadata": {
    "papermill": {
     "duration": 0.057288,
     "end_time": "2021-05-01T22:35:25.598238",
     "exception": false,
     "start_time": "2021-05-01T22:35:25.540950",
     "status": "completed"
    },
    "tags": []
   },
   "source": [
    "# Create full gene correlation matrix"
   ]
  },
  {
   "cell_type": "markdown",
   "id": "4b630295",
   "metadata": {
    "papermill": {
     "duration": 0.03743,
     "end_time": "2021-05-01T22:35:25.679116",
     "exception": false,
     "start_time": "2021-05-01T22:35:25.641686",
     "status": "completed"
    },
    "tags": []
   },
   "source": [
    "This matrix has all genes in MultiPLIER Z"
   ]
  },
  {
   "cell_type": "code",
   "execution_count": null,
   "id": "211193f1",
   "metadata": {
    "papermill": {
     "duration": 0.084778,
     "end_time": "2021-05-01T22:35:25.801220",
     "exception": false,
     "start_time": "2021-05-01T22:35:25.716442",
     "status": "completed"
    },
    "tags": []
   },
   "outputs": [],
   "source": [
    "gene_corrs_df = pd.DataFrame(data=0.0, index=genes_info[\"id\"], columns=genes_info[\"id\"])"
   ]
  },
  {
   "cell_type": "code",
   "execution_count": null,
   "id": "f6a3dad2",
   "metadata": {
    "papermill": {
     "duration": 0.048798,
     "end_time": "2021-05-01T22:35:25.888124",
     "exception": false,
     "start_time": "2021-05-01T22:35:25.839326",
     "status": "completed"
    },
    "tags": []
   },
   "outputs": [],
   "source": [
    "gene_corrs_df.shape"
   ]
  },
  {
   "cell_type": "code",
   "execution_count": null,
   "id": "5d08c185",
   "metadata": {
    "papermill": {
     "duration": 0.062146,
     "end_time": "2021-05-01T22:35:25.989073",
     "exception": false,
     "start_time": "2021-05-01T22:35:25.926927",
     "status": "completed"
    },
    "tags": []
   },
   "outputs": [],
   "source": [
    "gene_corrs_df.head()"
   ]
  },
  {
   "cell_type": "code",
   "execution_count": null,
   "id": "2203a7a7",
   "metadata": {
    "papermill": {
     "duration": 8.588151,
     "end_time": "2021-05-01T22:35:34.616423",
     "exception": false,
     "start_time": "2021-05-01T22:35:26.028272",
     "status": "completed"
    },
    "tags": []
   },
   "outputs": [],
   "source": [
    "for chr_num, chr_data in corrs_per_chr.items():\n",
    "    chr_data = chr_data.reindex(\n",
    "        index=gene_corrs_df.index, columns=gene_corrs_df.columns\n",
    "    )\n",
    "    gene_corrs_df = gene_corrs_df + chr_data.fillna(0.0)"
   ]
  },
  {
   "cell_type": "code",
   "execution_count": null,
   "id": "49c42ebe",
   "metadata": {
    "papermill": {
     "duration": 0.08614,
     "end_time": "2021-05-01T22:35:34.750865",
     "exception": false,
     "start_time": "2021-05-01T22:35:34.664725",
     "status": "completed"
    },
    "tags": []
   },
   "outputs": [],
   "source": [
    "gene_corrs_df = gene_corrs_df.astype(np.float32)"
   ]
  },
  {
   "cell_type": "code",
   "execution_count": null,
   "id": "0639e08b",
   "metadata": {
    "papermill": {
     "duration": 0.062658,
     "end_time": "2021-05-01T22:35:34.854366",
     "exception": false,
     "start_time": "2021-05-01T22:35:34.791708",
     "status": "completed"
    },
    "tags": []
   },
   "outputs": [],
   "source": [
    "gene_corrs_df.head()"
   ]
  },
  {
   "cell_type": "code",
   "execution_count": null,
   "id": "7e23ddbd",
   "metadata": {
    "papermill": {
     "duration": 0.048804,
     "end_time": "2021-05-01T22:35:34.943100",
     "exception": false,
     "start_time": "2021-05-01T22:35:34.894296",
     "status": "completed"
    },
    "tags": []
   },
   "outputs": [],
   "source": [
    "assert np.all(gene_corrs_df.values.diagonal() == 1.0)"
   ]
  },
  {
   "cell_type": "markdown",
   "id": "b55067e8",
   "metadata": {
    "papermill": {
     "duration": 0.039073,
     "end_time": "2021-05-01T22:35:35.023905",
     "exception": false,
     "start_time": "2021-05-01T22:35:34.984832",
     "status": "completed"
    },
    "tags": []
   },
   "source": [
    "## Stats"
   ]
  },
  {
   "cell_type": "code",
   "execution_count": null,
   "id": "5588b68a",
   "metadata": {
    "papermill": {
     "duration": 0.183963,
     "end_time": "2021-05-01T22:35:35.247277",
     "exception": false,
     "start_time": "2021-05-01T22:35:35.063314",
     "status": "completed"
    },
    "tags": []
   },
   "outputs": [],
   "source": [
    "_gene_corrs_flat = squareform(gene_corrs_df.values, checks=False)"
   ]
  },
  {
   "cell_type": "code",
   "execution_count": null,
   "id": "f401dad8",
   "metadata": {
    "papermill": {
     "duration": 0.526506,
     "end_time": "2021-05-01T22:35:35.817216",
     "exception": false,
     "start_time": "2021-05-01T22:35:35.290710",
     "status": "completed"
    },
    "tags": []
   },
   "outputs": [],
   "source": [
    "pd.Series(_gene_corrs_flat).describe()"
   ]
  },
  {
   "cell_type": "markdown",
   "id": "6ea8e6de",
   "metadata": {
    "papermill": {
     "duration": 0.040184,
     "end_time": "2021-05-01T22:35:35.897279",
     "exception": false,
     "start_time": "2021-05-01T22:35:35.857095",
     "status": "completed"
    },
    "tags": []
   },
   "source": [
    "# Plot"
   ]
  },
  {
   "cell_type": "code",
   "execution_count": null,
   "id": "a78cc4a3",
   "metadata": {
    "papermill": {
     "duration": 0.342256,
     "end_time": "2021-05-01T22:35:36.278809",
     "exception": false,
     "start_time": "2021-05-01T22:35:35.936553",
     "status": "completed"
    },
    "tags": []
   },
   "outputs": [],
   "source": [
    "import matplotlib.pyplot as plt\n",
    "from matplotlib.colors import ListedColormap"
   ]
  },
  {
   "cell_type": "code",
   "execution_count": null,
   "id": "2dfbaa8f",
   "metadata": {
    "papermill": {
     "duration": 0.052839,
     "end_time": "2021-05-01T22:35:36.371968",
     "exception": false,
     "start_time": "2021-05-01T22:35:36.319129",
     "status": "completed"
    },
    "tags": []
   },
   "outputs": [],
   "source": [
    "genes_order = genes_info.sort_values(\"chr\")[\"id\"].tolist()"
   ]
  },
  {
   "cell_type": "code",
   "execution_count": null,
   "id": "1809fc22",
   "metadata": {
    "papermill": {
     "duration": 0.049998,
     "end_time": "2021-05-01T22:35:36.462486",
     "exception": false,
     "start_time": "2021-05-01T22:35:36.412488",
     "status": "completed"
    },
    "tags": []
   },
   "outputs": [],
   "source": [
    "cmap = ListedColormap([\"w\", \"r\"])"
   ]
  },
  {
   "cell_type": "code",
   "execution_count": null,
   "id": "e02151cf",
   "metadata": {
    "papermill": {
     "duration": 0.99991,
     "end_time": "2021-05-01T22:35:37.503356",
     "exception": false,
     "start_time": "2021-05-01T22:35:36.503446",
     "status": "completed"
    },
    "tags": []
   },
   "outputs": [],
   "source": [
    "fig, ax = plt.subplots(figsize=(10, 10))\n",
    "ax.matshow(\n",
    "    gene_corrs_df.loc[genes_order, genes_order].values, vmin=-0.05, vmax=0.05, cmap=cmap\n",
    ")\n",
    "ax.set_xlabel(\"Genes\")\n",
    "ax.set_ylabel(\"Genes\")\n",
    "ax.set_xticks([])\n",
    "ax.set_yticks([])"
   ]
  },
  {
   "cell_type": "markdown",
   "id": "e04ec98e",
   "metadata": {
    "papermill": {
     "duration": 0.040033,
     "end_time": "2021-05-01T22:35:37.584560",
     "exception": false,
     "start_time": "2021-05-01T22:35:37.544527",
     "status": "completed"
    },
    "tags": []
   },
   "source": [
    "# Testing"
   ]
  },
  {
   "cell_type": "code",
   "execution_count": null,
   "id": "338cb68c",
   "metadata": {
    "papermill": {
     "duration": 0.052561,
     "end_time": "2021-05-01T22:35:37.677412",
     "exception": false,
     "start_time": "2021-05-01T22:35:37.624851",
     "status": "completed"
    },
    "tags": []
   },
   "outputs": [],
   "source": [
    "# COL4A1 and COL4A2\n",
    "gene1 = \"ENSG00000187498\"\n",
    "gene2 = \"ENSG00000134871\"\n",
    "\n",
    "gene_corrs_df.loc[gene1, gene2]"
   ]
  },
  {
   "cell_type": "code",
   "execution_count": null,
   "id": "48efaae1",
   "metadata": {
    "papermill": {
     "duration": 0.052254,
     "end_time": "2021-05-01T22:35:37.771950",
     "exception": false,
     "start_time": "2021-05-01T22:35:37.719696",
     "status": "completed"
    },
    "tags": []
   },
   "outputs": [],
   "source": [
    "_genes_files = all_gene_corr_files_df[all_gene_corr_files_df[\"chromosome\"] == 13][\n",
    "    \"corr_file\"\n",
    "].tolist()\n",
    "assert len(_genes_files) == 49"
   ]
  },
  {
   "cell_type": "code",
   "execution_count": null,
   "id": "667932c2",
   "metadata": {
    "papermill": {
     "duration": 0.077324,
     "end_time": "2021-05-01T22:35:37.889692",
     "exception": false,
     "start_time": "2021-05-01T22:35:37.812368",
     "status": "completed"
    },
    "tags": []
   },
   "outputs": [],
   "source": [
    "_gene_values = []\n",
    "for f in _genes_files:\n",
    "    gene1_gene2_corr = pd.read_pickle(f).loc[gene1, gene2]\n",
    "    _gene_values.append(gene1_gene2_corr)"
   ]
  },
  {
   "cell_type": "code",
   "execution_count": null,
   "id": "e4873fe9",
   "metadata": {
    "papermill": {
     "duration": 0.051867,
     "end_time": "2021-05-01T22:35:37.983263",
     "exception": false,
     "start_time": "2021-05-01T22:35:37.931396",
     "status": "completed"
    },
    "tags": []
   },
   "outputs": [],
   "source": [
    "_gene_values = np.array(_gene_values)\n",
    "assert _gene_values.shape[0] == 49"
   ]
  },
  {
   "cell_type": "code",
   "execution_count": null,
   "id": "47a7b62b",
   "metadata": {
    "papermill": {
     "duration": 0.053402,
     "end_time": "2021-05-01T22:35:38.079533",
     "exception": false,
     "start_time": "2021-05-01T22:35:38.026131",
     "status": "completed"
    },
    "tags": []
   },
   "outputs": [],
   "source": [
    "display(_gene_values.mean())\n",
    "assert gene_corrs_df.loc[gene1, gene2] == _gene_values.mean()"
   ]
  },
  {
   "cell_type": "markdown",
   "id": "7e903104",
   "metadata": {
    "papermill": {
     "duration": 0.040606,
     "end_time": "2021-05-01T22:35:38.161821",
     "exception": false,
     "start_time": "2021-05-01T22:35:38.121215",
     "status": "completed"
    },
    "tags": []
   },
   "source": [
    "# Save"
   ]
  },
  {
   "cell_type": "markdown",
   "id": "e9bef4e8",
   "metadata": {
    "papermill": {
     "duration": 0.046068,
     "end_time": "2021-05-01T22:35:38.250096",
     "exception": false,
     "start_time": "2021-05-01T22:35:38.204028",
     "status": "completed"
    },
    "tags": []
   },
   "source": [
    "## With ensemble ids"
   ]
  },
  {
   "cell_type": "code",
   "execution_count": null,
   "id": "136f9ee0",
   "metadata": {
    "papermill": {
     "duration": 0.052181,
     "end_time": "2021-05-01T22:35:38.343777",
     "exception": false,
     "start_time": "2021-05-01T22:35:38.291596",
     "status": "completed"
    },
    "tags": []
   },
   "outputs": [],
   "source": [
    "output_file = conf.PHENOMEXCAN[\"LD_BLOCKS\"][EQTL_MODEL][\"GENE_IDS_CORR_AVG\"]\n",
    "display(output_file)"
   ]
  },
  {
   "cell_type": "code",
   "execution_count": null,
   "id": "2a09bb4d",
   "metadata": {
    "papermill": {
     "duration": 0.224041,
     "end_time": "2021-05-01T22:35:38.609910",
     "exception": false,
     "start_time": "2021-05-01T22:35:38.385869",
     "status": "completed"
    },
    "tags": []
   },
   "outputs": [],
   "source": [
    "gene_corrs_df.to_pickle(output_file)"
   ]
  },
  {
   "cell_type": "markdown",
   "id": "26ec92a4",
   "metadata": {
    "papermill": {
     "duration": 0.040994,
     "end_time": "2021-05-01T22:35:38.698289",
     "exception": false,
     "start_time": "2021-05-01T22:35:38.657295",
     "status": "completed"
    },
    "tags": []
   },
   "source": [
    "## With gene symbols"
   ]
  },
  {
   "cell_type": "code",
   "execution_count": null,
   "id": "bfc927ab",
   "metadata": {
    "papermill": {
     "duration": 0.052465,
     "end_time": "2021-05-01T22:35:38.792112",
     "exception": false,
     "start_time": "2021-05-01T22:35:38.739647",
     "status": "completed"
    },
    "tags": []
   },
   "outputs": [],
   "source": [
    "output_file = conf.PHENOMEXCAN[\"LD_BLOCKS\"][EQTL_MODEL][\"GENE_NAMES_CORR_AVG\"]\n",
    "display(output_file)"
   ]
  },
  {
   "cell_type": "code",
   "execution_count": null,
   "id": "2f3dc29f",
   "metadata": {
    "papermill": {
     "duration": 0.091892,
     "end_time": "2021-05-01T22:35:38.926268",
     "exception": false,
     "start_time": "2021-05-01T22:35:38.834376",
     "status": "completed"
    },
    "tags": []
   },
   "outputs": [],
   "source": [
    "gene_corrs_gene_names_df = gene_corrs_df.rename(\n",
    "    index=Gene.GENE_ID_TO_NAME_MAP, columns=Gene.GENE_ID_TO_NAME_MAP\n",
    ")"
   ]
  },
  {
   "cell_type": "code",
   "execution_count": null,
   "id": "cc5fef8e",
   "metadata": {
    "papermill": {
     "duration": 0.054412,
     "end_time": "2021-05-01T22:35:39.023755",
     "exception": false,
     "start_time": "2021-05-01T22:35:38.969343",
     "status": "completed"
    },
    "tags": []
   },
   "outputs": [],
   "source": [
    "assert gene_corrs_gene_names_df.index.is_unique"
   ]
  },
  {
   "cell_type": "code",
   "execution_count": null,
   "id": "4b79bdb7",
   "metadata": {
    "papermill": {
     "duration": 0.05411,
     "end_time": "2021-05-01T22:35:39.120417",
     "exception": false,
     "start_time": "2021-05-01T22:35:39.066307",
     "status": "completed"
    },
    "tags": []
   },
   "outputs": [],
   "source": [
    "assert gene_corrs_gene_names_df.columns.is_unique"
   ]
  },
  {
   "cell_type": "code",
   "execution_count": null,
   "id": "5fff389b",
   "metadata": {
    "papermill": {
     "duration": 0.055806,
     "end_time": "2021-05-01T22:35:39.218719",
     "exception": false,
     "start_time": "2021-05-01T22:35:39.162913",
     "status": "completed"
    },
    "tags": []
   },
   "outputs": [],
   "source": [
    "gene_corrs_gene_names_df.shape"
   ]
  },
  {
   "cell_type": "code",
   "execution_count": null,
   "id": "5b4ab58a",
   "metadata": {
    "papermill": {
     "duration": 0.100155,
     "end_time": "2021-05-01T22:35:39.366443",
     "exception": false,
     "start_time": "2021-05-01T22:35:39.266288",
     "status": "completed"
    },
    "tags": []
   },
   "outputs": [],
   "source": [
    "gene_corrs_gene_names_df.head()"
   ]
  },
  {
   "cell_type": "code",
   "execution_count": null,
   "id": "5d982343",
   "metadata": {
    "papermill": {
     "duration": 0.217313,
     "end_time": "2021-05-01T22:35:39.635218",
     "exception": false,
     "start_time": "2021-05-01T22:35:39.417905",
     "status": "completed"
    },
    "tags": []
   },
   "outputs": [],
   "source": [
    "gene_corrs_gene_names_df.to_pickle(output_file)"
   ]
  },
  {
   "cell_type": "code",
   "execution_count": null,
   "id": "5663eba0",
   "metadata": {
    "papermill": {
     "duration": 0.042299,
     "end_time": "2021-05-01T22:35:39.726538",
     "exception": false,
     "start_time": "2021-05-01T22:35:39.684239",
     "status": "completed"
    },
    "tags": []
   },
   "outputs": [],
   "source": []
  }
 ],
 "metadata": {
  "jupytext": {
   "cell_metadata_filter": "all,-execution,-papermill,-trusted",
   "formats": "ipynb,py//py:percent"
  },
  "kernelspec": {
   "display_name": "Python 3 (ipykernel)",
   "language": "python",
   "name": "python3"
  },
  "language_info": {
   "codemirror_mode": {
    "name": "ipython",
    "version": 3
   },
   "file_extension": ".py",
   "mimetype": "text/x-python",
   "name": "python",
   "nbconvert_exporter": "python",
   "pygments_lexer": "ipython3",
   "version": "3.8.12"
  },
  "papermill": {
   "default_parameters": {},
   "duration": 22.074681,
   "end_time": "2021-05-01T22:35:40.075117",
   "environment_variables": {},
   "exception": null,
   "input_path": "08_gsa_gls/15-preprocess_gene_expr_correlations.ipynb",
   "output_path": "08_gsa_gls/15-preprocess_gene_expr_correlations.run.ipynb",
   "parameters": {},
   "start_time": "2021-05-01T22:35:18.000436",
   "version": "2.2.2"
  }
 },
 "nbformat": 4,
 "nbformat_minor": 5
}
