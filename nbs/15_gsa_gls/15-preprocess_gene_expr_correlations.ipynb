{
 "cells": [
  {
   "cell_type": "markdown",
   "id": "5ef66977",
   "metadata": {
    "papermill": {
     "duration": 0.05865,
     "end_time": "2021-05-01T22:35:19.055071",
     "exception": false,
     "start_time": "2021-05-01T22:35:18.996421",
     "status": "completed"
    },
    "tags": []
   },
   "source": [
    "# Description"
   ]
  },
  {
   "cell_type": "markdown",
   "id": "658d4f7c",
   "metadata": {
    "papermill": {
     "duration": 0.021853,
     "end_time": "2021-05-01T22:35:19.099201",
     "exception": false,
     "start_time": "2021-05-01T22:35:19.077348",
     "status": "completed"
    },
    "tags": []
   },
   "source": [
    "This notebook reads all gene correlations across all tissues and computes a single correlation matrix."
   ]
  },
  {
   "cell_type": "markdown",
   "id": "60fa4530",
   "metadata": {
    "papermill": {
     "duration": 0.024135,
     "end_time": "2021-05-01T22:35:19.145266",
     "exception": false,
     "start_time": "2021-05-01T22:35:19.121131",
     "status": "completed"
    },
    "tags": []
   },
   "source": [
    "# Modules"
   ]
  },
  {
   "cell_type": "code",
   "execution_count": 1,
   "id": "d70b0833",
   "metadata": {
    "execution": {
     "iopub.execute_input": "2021-05-01T22:35:19.197033Z",
     "iopub.status.busy": "2021-05-01T22:35:19.196616Z",
     "iopub.status.idle": "2021-05-01T22:35:19.204050Z",
     "shell.execute_reply": "2021-05-01T22:35:19.203635Z"
    },
    "papermill": {
     "duration": 0.035899,
     "end_time": "2021-05-01T22:35:19.204140",
     "exception": false,
     "start_time": "2021-05-01T22:35:19.168241",
     "status": "completed"
    },
    "tags": []
   },
   "outputs": [],
   "source": [
    "%load_ext autoreload\n",
    "%autoreload 2"
   ]
  },
  {
   "cell_type": "code",
   "execution_count": 2,
   "id": "6b2f9ca0",
   "metadata": {
    "execution": {
     "iopub.execute_input": "2021-05-01T22:35:19.252241Z",
     "iopub.status.busy": "2021-05-01T22:35:19.251872Z",
     "iopub.status.idle": "2021-05-01T22:35:19.651322Z",
     "shell.execute_reply": "2021-05-01T22:35:19.650877Z"
    },
    "papermill": {
     "duration": 0.423954,
     "end_time": "2021-05-01T22:35:19.651421",
     "exception": false,
     "start_time": "2021-05-01T22:35:19.227467",
     "status": "completed"
    },
    "tags": []
   },
   "outputs": [],
   "source": [
    "import numpy as np\n",
    "from scipy.spatial.distance import squareform\n",
    "import pandas as pd\n",
    "\n",
    "# from tqdm import tqdm\n",
    "\n",
    "import conf\n",
    "from entity import Gene"
   ]
  },
  {
   "cell_type": "markdown",
   "id": "5b96e797",
   "metadata": {
    "papermill": {
     "duration": 0.022949,
     "end_time": "2021-05-01T22:35:19.699775",
     "exception": false,
     "start_time": "2021-05-01T22:35:19.676826",
     "status": "completed"
    },
    "tags": []
   },
   "source": [
    "# Settings"
   ]
  },
  {
   "cell_type": "code",
   "execution_count": null,
   "id": "4fc1b6a0",
   "metadata": {
    "tags": [
     "parameters"
    ]
   },
   "outputs": [],
   "source": [
    "# mashr\n",
    "EQTL_MODEL = \"MASHR\"\n",
    "EQTL_MODEL_FILES_PREFIX = \"mashr_\"\n",
    "\n",
    "# # elastic net\n",
    "# EQTL_MODEL = \"ELASTIC_NET\"\n",
    "# EQTL_MODEL_FILES_PREFIX = \"en_\"\n",
    "\n",
    "EQTL_MODEL_FILES_PREFIX = None"
   ]
  },
  {
   "cell_type": "code",
   "execution_count": null,
   "id": "92e6297a",
   "metadata": {},
   "outputs": [],
   "source": [
    "if EQTL_MODEL_FILES_PREFIX is None:\n",
    "    EQTL_MODEL_FILES_PREFIX = PHENOMEXCAN[\"PREDICTION_MODELS_PREFIXES\"][EQTL_MODEL]"
   ]
  },
  {
   "cell_type": "code",
   "execution_count": null,
   "id": "c76e4f93",
   "metadata": {},
   "outputs": [],
   "source": [
    "display(f\"Using eQTL model: {EQTL_MODEL} / {EQTL_MODEL_FILES_PREFIX}\")"
   ]
  },
  {
   "cell_type": "code",
   "execution_count": 3,
   "id": "1afd50f7",
   "metadata": {
    "execution": {
     "iopub.execute_input": "2021-05-01T22:35:19.746354Z",
     "iopub.status.busy": "2021-05-01T22:35:19.745995Z",
     "iopub.status.idle": "2021-05-01T22:35:19.779767Z",
     "shell.execute_reply": "2021-05-01T22:35:19.780126Z"
    },
    "papermill": {
     "duration": 0.058437,
     "end_time": "2021-05-01T22:35:19.780257",
     "exception": false,
     "start_time": "2021-05-01T22:35:19.721820",
     "status": "completed"
    }
   },
   "outputs": [
    {
     "data": {
      "text/plain": [
       "PosixPath('/home/miltondp/projects/labs/greenelab/phenoplier/base/data/phenomexcan/ld_blocks/gene_corrs')"
      ]
     },
     "metadata": {},
     "output_type": "display_data"
    }
   ],
   "source": [
    "INPUT_DIR = (\n",
    "    conf.PHENOMEXCAN[\"LD_BLOCKS\"][\"BASE_DIR\"] / f\"{EQTL_MODEL_FILES_PREFIX}gene_corrs\"\n",
    ")\n",
    "display(INPUT_DIR)"
   ]
  },
  {
   "cell_type": "markdown",
   "id": "99ccb166",
   "metadata": {
    "papermill": {
     "duration": 0.024715,
     "end_time": "2021-05-01T22:35:19.835486",
     "exception": false,
     "start_time": "2021-05-01T22:35:19.810771",
     "status": "completed"
    },
    "tags": []
   },
   "source": [
    "# Load data"
   ]
  },
  {
   "cell_type": "markdown",
   "id": "028bdd42",
   "metadata": {
    "papermill": {
     "duration": 0.02196,
     "end_time": "2021-05-01T22:35:19.879568",
     "exception": false,
     "start_time": "2021-05-01T22:35:19.857608",
     "status": "completed"
    },
    "tags": []
   },
   "source": [
    "## Gene correlations"
   ]
  },
  {
   "cell_type": "code",
   "execution_count": 4,
   "id": "04624465",
   "metadata": {
    "execution": {
     "iopub.execute_input": "2021-05-01T22:35:19.926929Z",
     "iopub.status.busy": "2021-05-01T22:35:19.926574Z",
     "iopub.status.idle": "2021-05-01T22:35:19.941025Z",
     "shell.execute_reply": "2021-05-01T22:35:19.940613Z"
    },
    "papermill": {
     "duration": 0.038948,
     "end_time": "2021-05-01T22:35:19.941112",
     "exception": false,
     "start_time": "2021-05-01T22:35:19.902164",
     "status": "completed"
    },
    "tags": []
   },
   "outputs": [],
   "source": [
    "all_gene_corr_files = list(INPUT_DIR.rglob(\"*.pkl\"))"
   ]
  },
  {
   "cell_type": "code",
   "execution_count": 5,
   "id": "7d1168f5",
   "metadata": {
    "execution": {
     "iopub.execute_input": "2021-05-01T22:35:19.989069Z",
     "iopub.status.busy": "2021-05-01T22:35:19.988636Z",
     "iopub.status.idle": "2021-05-01T22:35:19.997338Z",
     "shell.execute_reply": "2021-05-01T22:35:19.996981Z"
    },
    "papermill": {
     "duration": 0.033452,
     "end_time": "2021-05-01T22:35:19.997421",
     "exception": false,
     "start_time": "2021-05-01T22:35:19.963969",
     "status": "completed"
    },
    "tags": []
   },
   "outputs": [
    {
     "data": {
      "text/plain": [
       "1078"
      ]
     },
     "execution_count": 5,
     "metadata": {},
     "output_type": "execute_result"
    }
   ],
   "source": [
    "len(all_gene_corr_files)"
   ]
  },
  {
   "cell_type": "code",
   "execution_count": 6,
   "id": "39364170",
   "metadata": {
    "execution": {
     "iopub.execute_input": "2021-05-01T22:35:20.045626Z",
     "iopub.status.busy": "2021-05-01T22:35:20.045268Z",
     "iopub.status.idle": "2021-05-01T22:35:20.053630Z",
     "shell.execute_reply": "2021-05-01T22:35:20.053321Z"
    },
    "papermill": {
     "duration": 0.03324,
     "end_time": "2021-05-01T22:35:20.053713",
     "exception": false,
     "start_time": "2021-05-01T22:35:20.020473",
     "status": "completed"
    },
    "tags": []
   },
   "outputs": [
    {
     "data": {
      "text/plain": [
       "[PosixPath('/home/miltondp/projects/labs/greenelab/phenoplier/base/data/phenomexcan/ld_blocks/gene_corrs/Adrenal_Gland/gene_corrs-Adrenal_Gland-chr21.pkl'),\n",
       " PosixPath('/home/miltondp/projects/labs/greenelab/phenoplier/base/data/phenomexcan/ld_blocks/gene_corrs/Adrenal_Gland/gene_corrs-Adrenal_Gland-chr4.pkl'),\n",
       " PosixPath('/home/miltondp/projects/labs/greenelab/phenoplier/base/data/phenomexcan/ld_blocks/gene_corrs/Adrenal_Gland/gene_corrs-Adrenal_Gland-chr18.pkl'),\n",
       " PosixPath('/home/miltondp/projects/labs/greenelab/phenoplier/base/data/phenomexcan/ld_blocks/gene_corrs/Adrenal_Gland/gene_corrs-Adrenal_Gland-chr10.pkl'),\n",
       " PosixPath('/home/miltondp/projects/labs/greenelab/phenoplier/base/data/phenomexcan/ld_blocks/gene_corrs/Adrenal_Gland/gene_corrs-Adrenal_Gland-chr13.pkl')]"
      ]
     },
     "execution_count": 6,
     "metadata": {},
     "output_type": "execute_result"
    }
   ],
   "source": [
    "all_gene_corr_files[:5]"
   ]
  },
  {
   "cell_type": "code",
   "execution_count": 7,
   "id": "6e48c284",
   "metadata": {
    "execution": {
     "iopub.execute_input": "2021-05-01T22:35:20.102728Z",
     "iopub.status.busy": "2021-05-01T22:35:20.102376Z",
     "iopub.status.idle": "2021-05-01T22:35:20.109552Z",
     "shell.execute_reply": "2021-05-01T22:35:20.109228Z"
    },
    "papermill": {
     "duration": 0.032701,
     "end_time": "2021-05-01T22:35:20.109638",
     "exception": false,
     "start_time": "2021-05-01T22:35:20.076937",
     "status": "completed"
    },
    "tags": []
   },
   "outputs": [],
   "source": [
    "assert len(all_gene_corr_files) == 22 * 49"
   ]
  },
  {
   "cell_type": "code",
   "execution_count": 8,
   "id": "593d443c",
   "metadata": {
    "execution": {
     "iopub.execute_input": "2021-05-01T22:35:20.164724Z",
     "iopub.status.busy": "2021-05-01T22:35:20.164325Z",
     "iopub.status.idle": "2021-05-01T22:35:20.172944Z",
     "shell.execute_reply": "2021-05-01T22:35:20.172517Z"
    },
    "papermill": {
     "duration": 0.038088,
     "end_time": "2021-05-01T22:35:20.173036",
     "exception": false,
     "start_time": "2021-05-01T22:35:20.134948",
     "status": "completed"
    },
    "tags": []
   },
   "outputs": [],
   "source": [
    "all_gene_corr_files_df = pd.DataFrame({\"corr_file\": [f for f in all_gene_corr_files]})"
   ]
  },
  {
   "cell_type": "code",
   "execution_count": 9,
   "id": "cff28955",
   "metadata": {
    "execution": {
     "iopub.execute_input": "2021-05-01T22:35:20.223009Z",
     "iopub.status.busy": "2021-05-01T22:35:20.222657Z",
     "iopub.status.idle": "2021-05-01T22:35:20.231358Z",
     "shell.execute_reply": "2021-05-01T22:35:20.231635Z"
    },
    "papermill": {
     "duration": 0.034261,
     "end_time": "2021-05-01T22:35:20.231742",
     "exception": false,
     "start_time": "2021-05-01T22:35:20.197481",
     "status": "completed"
    },
    "tags": []
   },
   "outputs": [],
   "source": [
    "all_gene_corr_files_df = all_gene_corr_files_df.assign(\n",
    "    file_name=all_gene_corr_files_df[\"corr_file\"].apply(lambda x: x.name)\n",
    ")"
   ]
  },
  {
   "cell_type": "code",
   "execution_count": 10,
   "id": "cfe5bb46",
   "metadata": {
    "execution": {
     "iopub.execute_input": "2021-05-01T22:35:20.281975Z",
     "iopub.status.busy": "2021-05-01T22:35:20.281607Z",
     "iopub.status.idle": "2021-05-01T22:35:20.289917Z",
     "shell.execute_reply": "2021-05-01T22:35:20.290198Z"
    },
    "papermill": {
     "duration": 0.034427,
     "end_time": "2021-05-01T22:35:20.290305",
     "exception": false,
     "start_time": "2021-05-01T22:35:20.255878",
     "status": "completed"
    },
    "tags": []
   },
   "outputs": [],
   "source": [
    "all_gene_corr_files_df = all_gene_corr_files_df.assign(\n",
    "    tissue=all_gene_corr_files_df[\"file_name\"].apply(\n",
    "        lambda x: x.split(\"-chr\")[0].split(\"gene_corrs-\")[1]\n",
    "    )\n",
    ")"
   ]
  },
  {
   "cell_type": "code",
   "execution_count": 11,
   "id": "2f17383c",
   "metadata": {
    "execution": {
     "iopub.execute_input": "2021-05-01T22:35:20.340520Z",
     "iopub.status.busy": "2021-05-01T22:35:20.340163Z",
     "iopub.status.idle": "2021-05-01T22:35:20.349181Z",
     "shell.execute_reply": "2021-05-01T22:35:20.348822Z"
    },
    "papermill": {
     "duration": 0.034581,
     "end_time": "2021-05-01T22:35:20.349262",
     "exception": false,
     "start_time": "2021-05-01T22:35:20.314681",
     "status": "completed"
    },
    "tags": []
   },
   "outputs": [],
   "source": [
    "all_gene_corr_files_df = all_gene_corr_files_df.assign(\n",
    "    chromosome=all_gene_corr_files_df[\"file_name\"].apply(\n",
    "        lambda x: int(x.split(\"-chr\")[1].split(\".\")[0])\n",
    "    )\n",
    ")"
   ]
  },
  {
   "cell_type": "code",
   "execution_count": 12,
   "id": "48b83603",
   "metadata": {
    "execution": {
     "iopub.execute_input": "2021-05-01T22:35:20.397835Z",
     "iopub.status.busy": "2021-05-01T22:35:20.397481Z",
     "iopub.status.idle": "2021-05-01T22:35:20.405428Z",
     "shell.execute_reply": "2021-05-01T22:35:20.405055Z"
    },
    "papermill": {
     "duration": 0.033171,
     "end_time": "2021-05-01T22:35:20.405513",
     "exception": false,
     "start_time": "2021-05-01T22:35:20.372342",
     "status": "completed"
    },
    "tags": []
   },
   "outputs": [],
   "source": [
    "assert all_gene_corr_files_df[\"tissue\"].unique().shape[0] == 49"
   ]
  },
  {
   "cell_type": "code",
   "execution_count": 13,
   "id": "0592a66d",
   "metadata": {
    "execution": {
     "iopub.execute_input": "2021-05-01T22:35:20.455249Z",
     "iopub.status.busy": "2021-05-01T22:35:20.454893Z",
     "iopub.status.idle": "2021-05-01T22:35:20.462901Z",
     "shell.execute_reply": "2021-05-01T22:35:20.462551Z"
    },
    "papermill": {
     "duration": 0.03355,
     "end_time": "2021-05-01T22:35:20.462982",
     "exception": false,
     "start_time": "2021-05-01T22:35:20.429432",
     "status": "completed"
    },
    "tags": []
   },
   "outputs": [],
   "source": [
    "assert all_gene_corr_files_df[\"chromosome\"].unique().shape[0] == 22\n",
    "assert set(all_gene_corr_files_df[\"chromosome\"]) == set(range(1, 23))"
   ]
  },
  {
   "cell_type": "code",
   "execution_count": 14,
   "id": "0d6ff5d0",
   "metadata": {
    "execution": {
     "iopub.execute_input": "2021-05-01T22:35:20.511410Z",
     "iopub.status.busy": "2021-05-01T22:35:20.511058Z",
     "iopub.status.idle": "2021-05-01T22:35:20.519288Z",
     "shell.execute_reply": "2021-05-01T22:35:20.519635Z"
    },
    "papermill": {
     "duration": 0.033581,
     "end_time": "2021-05-01T22:35:20.519736",
     "exception": false,
     "start_time": "2021-05-01T22:35:20.486155",
     "status": "completed"
    },
    "tags": []
   },
   "outputs": [
    {
     "data": {
      "text/plain": [
       "(1078, 4)"
      ]
     },
     "execution_count": 14,
     "metadata": {},
     "output_type": "execute_result"
    }
   ],
   "source": [
    "all_gene_corr_files_df.shape"
   ]
  },
  {
   "cell_type": "code",
   "execution_count": 15,
   "id": "92309dc4",
   "metadata": {
    "execution": {
     "iopub.execute_input": "2021-05-01T22:35:20.569768Z",
     "iopub.status.busy": "2021-05-01T22:35:20.569419Z",
     "iopub.status.idle": "2021-05-01T22:35:20.581677Z",
     "shell.execute_reply": "2021-05-01T22:35:20.581359Z"
    },
    "papermill": {
     "duration": 0.037784,
     "end_time": "2021-05-01T22:35:20.581763",
     "exception": false,
     "start_time": "2021-05-01T22:35:20.543979",
     "status": "completed"
    },
    "tags": []
   },
   "outputs": [
    {
     "data": {
      "text/html": [
       "<div>\n",
       "<style scoped>\n",
       "    .dataframe tbody tr th:only-of-type {\n",
       "        vertical-align: middle;\n",
       "    }\n",
       "\n",
       "    .dataframe tbody tr th {\n",
       "        vertical-align: top;\n",
       "    }\n",
       "\n",
       "    .dataframe thead th {\n",
       "        text-align: right;\n",
       "    }\n",
       "</style>\n",
       "<table border=\"1\" class=\"dataframe\">\n",
       "  <thead>\n",
       "    <tr style=\"text-align: right;\">\n",
       "      <th></th>\n",
       "      <th>corr_file</th>\n",
       "      <th>file_name</th>\n",
       "      <th>tissue</th>\n",
       "      <th>chromosome</th>\n",
       "    </tr>\n",
       "  </thead>\n",
       "  <tbody>\n",
       "    <tr>\n",
       "      <th>0</th>\n",
       "      <td>/home/miltondp/projects/labs/greenelab/phenopl...</td>\n",
       "      <td>gene_corrs-Adrenal_Gland-chr21.pkl</td>\n",
       "      <td>Adrenal_Gland</td>\n",
       "      <td>21</td>\n",
       "    </tr>\n",
       "    <tr>\n",
       "      <th>1</th>\n",
       "      <td>/home/miltondp/projects/labs/greenelab/phenopl...</td>\n",
       "      <td>gene_corrs-Adrenal_Gland-chr4.pkl</td>\n",
       "      <td>Adrenal_Gland</td>\n",
       "      <td>4</td>\n",
       "    </tr>\n",
       "    <tr>\n",
       "      <th>2</th>\n",
       "      <td>/home/miltondp/projects/labs/greenelab/phenopl...</td>\n",
       "      <td>gene_corrs-Adrenal_Gland-chr18.pkl</td>\n",
       "      <td>Adrenal_Gland</td>\n",
       "      <td>18</td>\n",
       "    </tr>\n",
       "    <tr>\n",
       "      <th>3</th>\n",
       "      <td>/home/miltondp/projects/labs/greenelab/phenopl...</td>\n",
       "      <td>gene_corrs-Adrenal_Gland-chr10.pkl</td>\n",
       "      <td>Adrenal_Gland</td>\n",
       "      <td>10</td>\n",
       "    </tr>\n",
       "    <tr>\n",
       "      <th>4</th>\n",
       "      <td>/home/miltondp/projects/labs/greenelab/phenopl...</td>\n",
       "      <td>gene_corrs-Adrenal_Gland-chr13.pkl</td>\n",
       "      <td>Adrenal_Gland</td>\n",
       "      <td>13</td>\n",
       "    </tr>\n",
       "  </tbody>\n",
       "</table>\n",
       "</div>"
      ],
      "text/plain": [
       "                                           corr_file  \\\n",
       "0  /home/miltondp/projects/labs/greenelab/phenopl...   \n",
       "1  /home/miltondp/projects/labs/greenelab/phenopl...   \n",
       "2  /home/miltondp/projects/labs/greenelab/phenopl...   \n",
       "3  /home/miltondp/projects/labs/greenelab/phenopl...   \n",
       "4  /home/miltondp/projects/labs/greenelab/phenopl...   \n",
       "\n",
       "                            file_name         tissue  chromosome  \n",
       "0  gene_corrs-Adrenal_Gland-chr21.pkl  Adrenal_Gland          21  \n",
       "1   gene_corrs-Adrenal_Gland-chr4.pkl  Adrenal_Gland           4  \n",
       "2  gene_corrs-Adrenal_Gland-chr18.pkl  Adrenal_Gland          18  \n",
       "3  gene_corrs-Adrenal_Gland-chr10.pkl  Adrenal_Gland          10  \n",
       "4  gene_corrs-Adrenal_Gland-chr13.pkl  Adrenal_Gland          13  "
      ]
     },
     "execution_count": 15,
     "metadata": {},
     "output_type": "execute_result"
    }
   ],
   "source": [
    "all_gene_corr_files_df.head()"
   ]
  },
  {
   "cell_type": "markdown",
   "id": "46ae0b3e",
   "metadata": {
    "papermill": {
     "duration": 0.023871,
     "end_time": "2021-05-01T22:35:20.630492",
     "exception": false,
     "start_time": "2021-05-01T22:35:20.606621",
     "status": "completed"
    },
    "tags": []
   },
   "source": [
    "## MultiPLIER Z"
   ]
  },
  {
   "cell_type": "code",
   "execution_count": 16,
   "id": "d38d9749",
   "metadata": {
    "execution": {
     "iopub.execute_input": "2021-05-01T22:35:20.680392Z",
     "iopub.status.busy": "2021-05-01T22:35:20.680036Z",
     "iopub.status.idle": "2021-05-01T22:35:20.710278Z",
     "shell.execute_reply": "2021-05-01T22:35:20.710609Z"
    },
    "papermill": {
     "duration": 0.0564,
     "end_time": "2021-05-01T22:35:20.710734",
     "exception": false,
     "start_time": "2021-05-01T22:35:20.654334",
     "status": "completed"
    },
    "tags": []
   },
   "outputs": [],
   "source": [
    "multiplier_z_genes = pd.read_pickle(\n",
    "    conf.MULTIPLIER[\"MODEL_Z_MATRIX_FILE\"]\n",
    ").index.tolist()"
   ]
  },
  {
   "cell_type": "code",
   "execution_count": 17,
   "id": "67e93797",
   "metadata": {
    "execution": {
     "iopub.execute_input": "2021-05-01T22:35:20.766931Z",
     "iopub.status.busy": "2021-05-01T22:35:20.766577Z",
     "iopub.status.idle": "2021-05-01T22:35:20.774925Z",
     "shell.execute_reply": "2021-05-01T22:35:20.774577Z"
    },
    "papermill": {
     "duration": 0.035277,
     "end_time": "2021-05-01T22:35:20.775006",
     "exception": false,
     "start_time": "2021-05-01T22:35:20.739729",
     "status": "completed"
    },
    "tags": []
   },
   "outputs": [
    {
     "data": {
      "text/plain": [
       "6750"
      ]
     },
     "execution_count": 17,
     "metadata": {},
     "output_type": "execute_result"
    }
   ],
   "source": [
    "len(multiplier_z_genes)"
   ]
  },
  {
   "cell_type": "code",
   "execution_count": 18,
   "id": "e1ba1ead",
   "metadata": {
    "execution": {
     "iopub.execute_input": "2021-05-01T22:35:20.825526Z",
     "iopub.status.busy": "2021-05-01T22:35:20.825163Z",
     "iopub.status.idle": "2021-05-01T22:35:20.833826Z",
     "shell.execute_reply": "2021-05-01T22:35:20.833459Z"
    },
    "papermill": {
     "duration": 0.034825,
     "end_time": "2021-05-01T22:35:20.833924",
     "exception": false,
     "start_time": "2021-05-01T22:35:20.799099",
     "status": "completed"
    },
    "tags": []
   },
   "outputs": [
    {
     "data": {
      "text/plain": [
       "['GAS6',\n",
       " 'MMP14',\n",
       " 'DSP',\n",
       " 'MARCKSL1',\n",
       " 'SPARC',\n",
       " 'CTSD',\n",
       " 'EPAS1',\n",
       " 'PALLD',\n",
       " 'PHC2',\n",
       " 'LGALS3BP']"
      ]
     },
     "execution_count": 18,
     "metadata": {},
     "output_type": "execute_result"
    }
   ],
   "source": [
    "multiplier_z_genes[:10]"
   ]
  },
  {
   "cell_type": "markdown",
   "id": "18873129",
   "metadata": {
    "papermill": {
     "duration": 0.02465,
     "end_time": "2021-05-01T22:35:20.883779",
     "exception": false,
     "start_time": "2021-05-01T22:35:20.859129",
     "status": "completed"
    },
    "tags": []
   },
   "source": [
    "## Get gene objects"
   ]
  },
  {
   "cell_type": "code",
   "execution_count": 19,
   "id": "3660a0b8",
   "metadata": {
    "execution": {
     "iopub.execute_input": "2021-05-01T22:35:20.934756Z",
     "iopub.status.busy": "2021-05-01T22:35:20.934399Z",
     "iopub.status.idle": "2021-05-01T22:35:20.947801Z",
     "shell.execute_reply": "2021-05-01T22:35:20.947422Z"
    },
    "papermill": {
     "duration": 0.040171,
     "end_time": "2021-05-01T22:35:20.947889",
     "exception": false,
     "start_time": "2021-05-01T22:35:20.907718",
     "status": "completed"
    },
    "tags": []
   },
   "outputs": [],
   "source": [
    "multiplier_gene_obj = {\n",
    "    gene_name: Gene(name=gene_name)\n",
    "    for gene_name in multiplier_z_genes\n",
    "    if gene_name in Gene.GENE_NAME_TO_ID_MAP\n",
    "}"
   ]
  },
  {
   "cell_type": "code",
   "execution_count": 20,
   "id": "43bacda1",
   "metadata": {
    "execution": {
     "iopub.execute_input": "2021-05-01T22:35:21.000288Z",
     "iopub.status.busy": "2021-05-01T22:35:20.999932Z",
     "iopub.status.idle": "2021-05-01T22:35:21.008318Z",
     "shell.execute_reply": "2021-05-01T22:35:21.007962Z"
    },
    "papermill": {
     "duration": 0.034915,
     "end_time": "2021-05-01T22:35:21.008398",
     "exception": false,
     "start_time": "2021-05-01T22:35:20.973483",
     "status": "completed"
    },
    "tags": []
   },
   "outputs": [
    {
     "data": {
      "text/plain": [
       "6454"
      ]
     },
     "execution_count": 20,
     "metadata": {},
     "output_type": "execute_result"
    }
   ],
   "source": [
    "len(multiplier_gene_obj)"
   ]
  },
  {
   "cell_type": "code",
   "execution_count": 21,
   "id": "a60c1bb6",
   "metadata": {
    "execution": {
     "iopub.execute_input": "2021-05-01T22:35:21.060527Z",
     "iopub.status.busy": "2021-05-01T22:35:21.060174Z",
     "iopub.status.idle": "2021-05-01T22:35:21.068669Z",
     "shell.execute_reply": "2021-05-01T22:35:21.068302Z"
    },
    "papermill": {
     "duration": 0.035363,
     "end_time": "2021-05-01T22:35:21.068790",
     "exception": false,
     "start_time": "2021-05-01T22:35:21.033427",
     "status": "completed"
    },
    "tags": []
   },
   "outputs": [
    {
     "data": {
      "text/plain": [
       "'ENSG00000183087'"
      ]
     },
     "execution_count": 21,
     "metadata": {},
     "output_type": "execute_result"
    }
   ],
   "source": [
    "multiplier_gene_obj[\"GAS6\"].ensembl_id"
   ]
  },
  {
   "cell_type": "code",
   "execution_count": 22,
   "id": "ba55cbcb",
   "metadata": {
    "execution": {
     "iopub.execute_input": "2021-05-01T22:35:21.123864Z",
     "iopub.status.busy": "2021-05-01T22:35:21.123508Z",
     "iopub.status.idle": "2021-05-01T22:35:21.789008Z",
     "shell.execute_reply": "2021-05-01T22:35:21.788585Z"
    },
    "papermill": {
     "duration": 0.693367,
     "end_time": "2021-05-01T22:35:21.789096",
     "exception": false,
     "start_time": "2021-05-01T22:35:21.095729",
     "status": "completed"
    },
    "tags": []
   },
   "outputs": [],
   "source": [
    "_gene_obj = list(multiplier_gene_obj.values())\n",
    "\n",
    "genes_info = pd.DataFrame(\n",
    "    {\n",
    "        \"name\": [g.name for g in _gene_obj],\n",
    "        \"id\": [g.ensembl_id for g in _gene_obj],\n",
    "        \"chr\": [g.chromosome for g in _gene_obj],\n",
    "    }\n",
    ").dropna()"
   ]
  },
  {
   "cell_type": "code",
   "execution_count": 23,
   "id": "9510fe3a",
   "metadata": {
    "execution": {
     "iopub.execute_input": "2021-05-01T22:35:21.841911Z",
     "iopub.status.busy": "2021-05-01T22:35:21.841548Z",
     "iopub.status.idle": "2021-05-01T22:35:21.849815Z",
     "shell.execute_reply": "2021-05-01T22:35:21.849451Z"
    },
    "papermill": {
     "duration": 0.035329,
     "end_time": "2021-05-01T22:35:21.849898",
     "exception": false,
     "start_time": "2021-05-01T22:35:21.814569",
     "status": "completed"
    },
    "tags": []
   },
   "outputs": [
    {
     "data": {
      "text/plain": [
       "(6452, 3)"
      ]
     },
     "execution_count": 23,
     "metadata": {},
     "output_type": "execute_result"
    }
   ],
   "source": [
    "genes_info.shape"
   ]
  },
  {
   "cell_type": "code",
   "execution_count": 24,
   "id": "b175ee0c",
   "metadata": {
    "execution": {
     "iopub.execute_input": "2021-05-01T22:35:21.903219Z",
     "iopub.status.busy": "2021-05-01T22:35:21.902858Z",
     "iopub.status.idle": "2021-05-01T22:35:21.914178Z",
     "shell.execute_reply": "2021-05-01T22:35:21.913798Z"
    },
    "papermill": {
     "duration": 0.038813,
     "end_time": "2021-05-01T22:35:21.914262",
     "exception": false,
     "start_time": "2021-05-01T22:35:21.875449",
     "status": "completed"
    },
    "tags": []
   },
   "outputs": [
    {
     "data": {
      "text/html": [
       "<div>\n",
       "<style scoped>\n",
       "    .dataframe tbody tr th:only-of-type {\n",
       "        vertical-align: middle;\n",
       "    }\n",
       "\n",
       "    .dataframe tbody tr th {\n",
       "        vertical-align: top;\n",
       "    }\n",
       "\n",
       "    .dataframe thead th {\n",
       "        text-align: right;\n",
       "    }\n",
       "</style>\n",
       "<table border=\"1\" class=\"dataframe\">\n",
       "  <thead>\n",
       "    <tr style=\"text-align: right;\">\n",
       "      <th></th>\n",
       "      <th>name</th>\n",
       "      <th>id</th>\n",
       "      <th>chr</th>\n",
       "    </tr>\n",
       "  </thead>\n",
       "  <tbody>\n",
       "    <tr>\n",
       "      <th>0</th>\n",
       "      <td>GAS6</td>\n",
       "      <td>ENSG00000183087</td>\n",
       "      <td>13</td>\n",
       "    </tr>\n",
       "    <tr>\n",
       "      <th>1</th>\n",
       "      <td>MMP14</td>\n",
       "      <td>ENSG00000157227</td>\n",
       "      <td>14</td>\n",
       "    </tr>\n",
       "    <tr>\n",
       "      <th>2</th>\n",
       "      <td>DSP</td>\n",
       "      <td>ENSG00000096696</td>\n",
       "      <td>6</td>\n",
       "    </tr>\n",
       "    <tr>\n",
       "      <th>3</th>\n",
       "      <td>MARCKSL1</td>\n",
       "      <td>ENSG00000175130</td>\n",
       "      <td>1</td>\n",
       "    </tr>\n",
       "    <tr>\n",
       "      <th>4</th>\n",
       "      <td>SPARC</td>\n",
       "      <td>ENSG00000113140</td>\n",
       "      <td>5</td>\n",
       "    </tr>\n",
       "  </tbody>\n",
       "</table>\n",
       "</div>"
      ],
      "text/plain": [
       "       name               id chr\n",
       "0      GAS6  ENSG00000183087  13\n",
       "1     MMP14  ENSG00000157227  14\n",
       "2       DSP  ENSG00000096696   6\n",
       "3  MARCKSL1  ENSG00000175130   1\n",
       "4     SPARC  ENSG00000113140   5"
      ]
     },
     "execution_count": 24,
     "metadata": {},
     "output_type": "execute_result"
    }
   ],
   "source": [
    "genes_info.head()"
   ]
  },
  {
   "cell_type": "markdown",
   "id": "6a29d252",
   "metadata": {
    "papermill": {
     "duration": 0.025161,
     "end_time": "2021-05-01T22:35:21.965420",
     "exception": false,
     "start_time": "2021-05-01T22:35:21.940259",
     "status": "completed"
    },
    "tags": []
   },
   "source": [
    "## Get tissues names"
   ]
  },
  {
   "cell_type": "code",
   "execution_count": 25,
   "id": "1d19c6e2",
   "metadata": {
    "execution": {
     "iopub.execute_input": "2021-05-01T22:35:22.018256Z",
     "iopub.status.busy": "2021-05-01T22:35:22.017902Z",
     "iopub.status.idle": "2021-05-01T22:35:22.025915Z",
     "shell.execute_reply": "2021-05-01T22:35:22.025547Z"
    },
    "papermill": {
     "duration": 0.035528,
     "end_time": "2021-05-01T22:35:22.025998",
     "exception": false,
     "start_time": "2021-05-01T22:35:21.990470",
     "status": "completed"
    },
    "tags": []
   },
   "outputs": [],
   "source": [
    "db_files = list(conf.PHENOMEXCAN[\"PREDICTION_MODELS\"][EQTL_MODEL].glob(\"*.db\"))"
   ]
  },
  {
   "cell_type": "code",
   "execution_count": 26,
   "id": "48a7202a",
   "metadata": {
    "execution": {
     "iopub.execute_input": "2021-05-01T22:35:22.080501Z",
     "iopub.status.busy": "2021-05-01T22:35:22.080146Z",
     "iopub.status.idle": "2021-05-01T22:35:22.087940Z",
     "shell.execute_reply": "2021-05-01T22:35:22.087578Z"
    },
    "papermill": {
     "duration": 0.035248,
     "end_time": "2021-05-01T22:35:22.088022",
     "exception": false,
     "start_time": "2021-05-01T22:35:22.052774",
     "status": "completed"
    },
    "tags": []
   },
   "outputs": [],
   "source": [
    "assert len(db_files) == 49"
   ]
  },
  {
   "cell_type": "code",
   "execution_count": 27,
   "id": "2bc52419",
   "metadata": {
    "execution": {
     "iopub.execute_input": "2021-05-01T22:35:22.145446Z",
     "iopub.status.busy": "2021-05-01T22:35:22.144990Z",
     "iopub.status.idle": "2021-05-01T22:35:22.154708Z",
     "shell.execute_reply": "2021-05-01T22:35:22.154347Z"
    },
    "papermill": {
     "duration": 0.040387,
     "end_time": "2021-05-01T22:35:22.154814",
     "exception": false,
     "start_time": "2021-05-01T22:35:22.114427",
     "status": "completed"
    },
    "tags": []
   },
   "outputs": [],
   "source": [
    "tissues = [str(f).split(EQTL_MODEL_FILES_PREFIX)[1].split(\".db\")[0] for f in db_files]"
   ]
  },
  {
   "cell_type": "code",
   "execution_count": 28,
   "id": "64b293a1",
   "metadata": {
    "execution": {
     "iopub.execute_input": "2021-05-01T22:35:22.213243Z",
     "iopub.status.busy": "2021-05-01T22:35:22.212883Z",
     "iopub.status.idle": "2021-05-01T22:35:22.221261Z",
     "shell.execute_reply": "2021-05-01T22:35:22.220897Z"
    },
    "papermill": {
     "duration": 0.036818,
     "end_time": "2021-05-01T22:35:22.221345",
     "exception": false,
     "start_time": "2021-05-01T22:35:22.184527",
     "status": "completed"
    },
    "tags": []
   },
   "outputs": [
    {
     "data": {
      "text/plain": [
       "['Skin_Not_Sun_Exposed_Suprapubic',\n",
       " 'Cells_EBV-transformed_lymphocytes',\n",
       " 'Brain_Frontal_Cortex_BA9',\n",
       " 'Kidney_Cortex',\n",
       " 'Brain_Substantia_nigra']"
      ]
     },
     "execution_count": 28,
     "metadata": {},
     "output_type": "execute_result"
    }
   ],
   "source": [
    "tissues[:5]"
   ]
  },
  {
   "cell_type": "markdown",
   "id": "f4d4f177",
   "metadata": {
    "papermill": {
     "duration": 0.025587,
     "end_time": "2021-05-01T22:35:22.274208",
     "exception": false,
     "start_time": "2021-05-01T22:35:22.248621",
     "status": "completed"
    },
    "tags": []
   },
   "source": [
    "# Average correlations per chromosome"
   ]
  },
  {
   "cell_type": "code",
   "execution_count": 29,
   "id": "e497c5fa",
   "metadata": {
    "execution": {
     "iopub.execute_input": "2021-05-01T22:35:22.330632Z",
     "iopub.status.busy": "2021-05-01T22:35:22.330256Z",
     "iopub.status.idle": "2021-05-01T22:35:25.502292Z",
     "shell.execute_reply": "2021-05-01T22:35:25.501927Z"
    },
    "papermill": {
     "duration": 3.202619,
     "end_time": "2021-05-01T22:35:25.502376",
     "exception": false,
     "start_time": "2021-05-01T22:35:22.299757",
     "status": "completed"
    },
    "tags": []
   },
   "outputs": [
    {
     "name": "stdout",
     "output_type": "stream",
     "text": [
      "Chromosome: 1\n",
      "Number of corrs files: (49, 4)\n",
      "Number of MultiPLIER genes: (700, 3)\n",
      "Reading corrs per tissue\n"
     ]
    },
    {
     "data": {
      "text/plain": [
       "count    244650.000000\n",
       "mean          0.000062\n",
       "std           0.016267\n",
       "min          -0.604064\n",
       "25%          -0.005203\n",
       "50%           0.000000\n",
       "75%           0.005283\n",
       "max           0.662772\n",
       "dtype: float64"
      ]
     },
     "metadata": {},
     "output_type": "display_data"
    },
    {
     "name": "stdout",
     "output_type": "stream",
     "text": [
      "\n",
      "\n",
      "Chromosome: 2\n",
      "Number of corrs files: (49, 4)\n",
      "Number of MultiPLIER genes: (445, 3)\n",
      "Reading corrs per tissue\n"
     ]
    },
    {
     "data": {
      "text/plain": [
       "count    98790.000000\n",
       "mean        -0.000031\n",
       "std          0.016511\n",
       "min         -0.572576\n",
       "25%         -0.005460\n",
       "50%          0.000000\n",
       "75%          0.005474\n",
       "max          0.555836\n",
       "dtype: float64"
      ]
     },
     "metadata": {},
     "output_type": "display_data"
    },
    {
     "name": "stdout",
     "output_type": "stream",
     "text": [
      "\n",
      "\n",
      "Chromosome: 3\n",
      "Number of corrs files: (49, 4)\n",
      "Number of MultiPLIER genes: (393, 3)\n",
      "Reading corrs per tissue\n"
     ]
    },
    {
     "data": {
      "text/plain": [
       "count    77028.000000\n",
       "mean         0.000007\n",
       "std          0.018638\n",
       "min         -0.926208\n",
       "25%         -0.005516\n",
       "50%          0.000000\n",
       "75%          0.005437\n",
       "max          0.892995\n",
       "dtype: float64"
      ]
     },
     "metadata": {},
     "output_type": "display_data"
    },
    {
     "name": "stdout",
     "output_type": "stream",
     "text": [
      "\n",
      "\n",
      "Chromosome: 4\n",
      "Number of corrs files: (49, 4)\n",
      "Number of MultiPLIER genes: (244, 3)\n",
      "Reading corrs per tissue\n"
     ]
    },
    {
     "data": {
      "text/plain": [
       "count    29646.000000\n",
       "mean         0.000081\n",
       "std          0.015757\n",
       "min         -0.493401\n",
       "25%         -0.005026\n",
       "50%          0.000000\n",
       "75%          0.005064\n",
       "max          0.556111\n",
       "dtype: float64"
      ]
     },
     "metadata": {},
     "output_type": "display_data"
    },
    {
     "name": "stdout",
     "output_type": "stream",
     "text": [
      "\n",
      "\n",
      "Chromosome: 5\n",
      "Number of corrs files: (49, 4)\n",
      "Number of MultiPLIER genes: (306, 3)\n",
      "Reading corrs per tissue\n"
     ]
    },
    {
     "data": {
      "text/plain": [
       "count    46665.000000\n",
       "mean         0.000041\n",
       "std          0.018839\n",
       "min         -0.620978\n",
       "25%         -0.005262\n",
       "50%          0.000000\n",
       "75%          0.005253\n",
       "max          0.717110\n",
       "dtype: float64"
      ]
     },
     "metadata": {},
     "output_type": "display_data"
    },
    {
     "name": "stdout",
     "output_type": "stream",
     "text": [
      "\n",
      "\n",
      "Chromosome: 6\n",
      "Number of corrs files: (49, 4)\n",
      "Number of MultiPLIER genes: (339, 3)\n",
      "Reading corrs per tissue\n"
     ]
    },
    {
     "data": {
      "text/plain": [
       "count    57291.000000\n",
       "mean         0.000085\n",
       "std          0.018855\n",
       "min         -0.549863\n",
       "25%         -0.005654\n",
       "50%          0.000000\n",
       "75%          0.005680\n",
       "max          0.763644\n",
       "dtype: float64"
      ]
     },
     "metadata": {},
     "output_type": "display_data"
    },
    {
     "name": "stdout",
     "output_type": "stream",
     "text": [
      "\n",
      "\n",
      "Chromosome: 7\n",
      "Number of corrs files: (49, 4)\n",
      "Number of MultiPLIER genes: (281, 3)\n",
      "Reading corrs per tissue\n"
     ]
    },
    {
     "data": {
      "text/plain": [
       "count    39340.000000\n",
       "mean         0.000242\n",
       "std          0.017489\n",
       "min         -0.335488\n",
       "25%         -0.005271\n",
       "50%          0.000002\n",
       "75%          0.005450\n",
       "max          0.703423\n",
       "dtype: float64"
      ]
     },
     "metadata": {},
     "output_type": "display_data"
    },
    {
     "name": "stdout",
     "output_type": "stream",
     "text": [
      "\n",
      "\n",
      "Chromosome: 8\n",
      "Number of corrs files: (49, 4)\n",
      "Number of MultiPLIER genes: (222, 3)\n",
      "Reading corrs per tissue\n"
     ]
    },
    {
     "data": {
      "text/plain": [
       "count    24531.000000\n",
       "mean        -0.000046\n",
       "std          0.015408\n",
       "min         -0.497477\n",
       "25%         -0.004892\n",
       "50%          0.000012\n",
       "75%          0.004903\n",
       "max          0.653567\n",
       "dtype: float64"
      ]
     },
     "metadata": {},
     "output_type": "display_data"
    },
    {
     "name": "stdout",
     "output_type": "stream",
     "text": [
      "\n",
      "\n",
      "Chromosome: 9\n",
      "Number of corrs files: (49, 4)\n",
      "Number of MultiPLIER genes: (245, 3)\n",
      "Reading corrs per tissue\n"
     ]
    },
    {
     "data": {
      "text/plain": [
       "count    29890.000000\n",
       "mean        -0.000095\n",
       "std          0.018607\n",
       "min         -0.800607\n",
       "25%         -0.005406\n",
       "50%          0.000000\n",
       "75%          0.005427\n",
       "max          0.763849\n",
       "dtype: float64"
      ]
     },
     "metadata": {},
     "output_type": "display_data"
    },
    {
     "name": "stdout",
     "output_type": "stream",
     "text": [
      "\n",
      "\n",
      "Chromosome: 10\n",
      "Number of corrs files: (49, 4)\n",
      "Number of MultiPLIER genes: (245, 3)\n",
      "Reading corrs per tissue\n"
     ]
    },
    {
     "data": {
      "text/plain": [
       "count    29890.000000\n",
       "mean        -0.000005\n",
       "std          0.017629\n",
       "min         -0.798728\n",
       "25%         -0.005992\n",
       "50%          0.000000\n",
       "75%          0.005860\n",
       "max          0.707145\n",
       "dtype: float64"
      ]
     },
     "metadata": {},
     "output_type": "display_data"
    },
    {
     "name": "stdout",
     "output_type": "stream",
     "text": [
      "\n",
      "\n",
      "Chromosome: 11\n",
      "Number of corrs files: (49, 4)\n",
      "Number of MultiPLIER genes: (387, 3)\n",
      "Reading corrs per tissue\n"
     ]
    },
    {
     "data": {
      "text/plain": [
       "count    74691.000000\n",
       "mean         0.000085\n",
       "std          0.019831\n",
       "min         -0.805327\n",
       "25%         -0.005683\n",
       "50%          0.000000\n",
       "75%          0.005740\n",
       "max          0.626080\n",
       "dtype: float64"
      ]
     },
     "metadata": {},
     "output_type": "display_data"
    },
    {
     "name": "stdout",
     "output_type": "stream",
     "text": [
      "\n",
      "\n",
      "Chromosome: 12\n",
      "Number of corrs files: (49, 4)\n",
      "Number of MultiPLIER genes: (389, 3)\n",
      "Reading corrs per tissue\n"
     ]
    },
    {
     "data": {
      "text/plain": [
       "count    75466.000000\n",
       "mean        -0.000073\n",
       "std          0.018400\n",
       "min         -0.881911\n",
       "25%         -0.005265\n",
       "50%          0.000000\n",
       "75%          0.005168\n",
       "max          0.723507\n",
       "dtype: float64"
      ]
     },
     "metadata": {},
     "output_type": "display_data"
    },
    {
     "name": "stdout",
     "output_type": "stream",
     "text": [
      "\n",
      "\n",
      "Chromosome: 13\n",
      "Number of corrs files: (49, 4)\n",
      "Number of MultiPLIER genes: (118, 3)\n",
      "Reading corrs per tissue\n"
     ]
    },
    {
     "data": {
      "text/plain": [
       "count    6903.000000\n",
       "mean       -0.000031\n",
       "std         0.021762\n",
       "min        -0.484959\n",
       "25%        -0.004572\n",
       "50%         0.000000\n",
       "75%         0.004676\n",
       "max         0.497591\n",
       "dtype: float64"
      ]
     },
     "metadata": {},
     "output_type": "display_data"
    },
    {
     "name": "stdout",
     "output_type": "stream",
     "text": [
      "\n",
      "\n",
      "Chromosome: 14\n",
      "Number of corrs files: (49, 4)\n",
      "Number of MultiPLIER genes: (211, 3)\n",
      "Reading corrs per tissue\n"
     ]
    },
    {
     "data": {
      "text/plain": [
       "count    22155.000000\n",
       "mean         0.000050\n",
       "std          0.018158\n",
       "min         -0.733259\n",
       "25%         -0.005152\n",
       "50%          0.000000\n",
       "75%          0.005261\n",
       "max          0.481464\n",
       "dtype: float64"
      ]
     },
     "metadata": {},
     "output_type": "display_data"
    },
    {
     "name": "stdout",
     "output_type": "stream",
     "text": [
      "\n",
      "\n",
      "Chromosome: 15\n",
      "Number of corrs files: (49, 4)\n",
      "Number of MultiPLIER genes: (187, 3)\n",
      "Reading corrs per tissue\n"
     ]
    },
    {
     "data": {
      "text/plain": [
       "count    17391.000000\n",
       "mean         0.000092\n",
       "std          0.023125\n",
       "min         -0.753693\n",
       "25%         -0.005577\n",
       "50%          0.000000\n",
       "75%          0.005513\n",
       "max          0.530052\n",
       "dtype: float64"
      ]
     },
     "metadata": {},
     "output_type": "display_data"
    },
    {
     "name": "stdout",
     "output_type": "stream",
     "text": [
      "\n",
      "\n",
      "Chromosome: 16\n",
      "Number of corrs files: (49, 4)\n",
      "Number of MultiPLIER genes: (274, 3)\n",
      "Reading corrs per tissue\n"
     ]
    },
    {
     "data": {
      "text/plain": [
       "count    37401.000000\n",
       "mean        -0.000028\n",
       "std          0.025896\n",
       "min         -0.750217\n",
       "25%         -0.005933\n",
       "50%          0.000000\n",
       "75%          0.005818\n",
       "max          0.710003\n",
       "dtype: float64"
      ]
     },
     "metadata": {},
     "output_type": "display_data"
    },
    {
     "name": "stdout",
     "output_type": "stream",
     "text": [
      "\n",
      "\n",
      "Chromosome: 17\n",
      "Number of corrs files: (49, 4)\n",
      "Number of MultiPLIER genes: (411, 3)\n",
      "Reading corrs per tissue\n"
     ]
    },
    {
     "data": {
      "text/plain": [
       "count    84255.000000\n",
       "mean         0.000021\n",
       "std          0.019209\n",
       "min         -0.666764\n",
       "25%         -0.005698\n",
       "50%          0.000000\n",
       "75%          0.005789\n",
       "max          0.616416\n",
       "dtype: float64"
      ]
     },
     "metadata": {},
     "output_type": "display_data"
    },
    {
     "name": "stdout",
     "output_type": "stream",
     "text": [
      "\n",
      "\n",
      "Chromosome: 18\n",
      "Number of corrs files: (49, 4)\n",
      "Number of MultiPLIER genes: (96, 3)\n",
      "Reading corrs per tissue\n"
     ]
    },
    {
     "data": {
      "text/plain": [
       "count    4560.000000\n",
       "mean       -0.000165\n",
       "std         0.014240\n",
       "min        -0.165306\n",
       "25%        -0.005642\n",
       "50%        -0.000173\n",
       "75%         0.005389\n",
       "max         0.297951\n",
       "dtype: float64"
      ]
     },
     "metadata": {},
     "output_type": "display_data"
    },
    {
     "name": "stdout",
     "output_type": "stream",
     "text": [
      "\n",
      "\n",
      "Chromosome: 19\n",
      "Number of corrs files: (49, 4)\n",
      "Number of MultiPLIER genes: (540, 3)\n",
      "Reading corrs per tissue\n"
     ]
    },
    {
     "data": {
      "text/plain": [
       "count    145530.000000\n",
       "mean          0.000057\n",
       "std           0.018714\n",
       "min          -0.646847\n",
       "25%          -0.006179\n",
       "50%           0.000000\n",
       "75%           0.006243\n",
       "max           0.806689\n",
       "dtype: float64"
      ]
     },
     "metadata": {},
     "output_type": "display_data"
    },
    {
     "name": "stdout",
     "output_type": "stream",
     "text": [
      "\n",
      "\n",
      "Chromosome: 20\n",
      "Number of corrs files: (49, 4)\n",
      "Number of MultiPLIER genes: (187, 3)\n",
      "Reading corrs per tissue\n"
     ]
    },
    {
     "data": {
      "text/plain": [
       "count    17391.000000\n",
       "mean        -0.000008\n",
       "std          0.021300\n",
       "min         -0.512275\n",
       "25%         -0.006265\n",
       "50%         -0.000054\n",
       "75%          0.005810\n",
       "max          0.581009\n",
       "dtype: float64"
      ]
     },
     "metadata": {},
     "output_type": "display_data"
    },
    {
     "name": "stdout",
     "output_type": "stream",
     "text": [
      "\n",
      "\n",
      "Chromosome: 21\n",
      "Number of corrs files: (49, 4)\n",
      "Number of MultiPLIER genes: (62, 3)\n",
      "Reading corrs per tissue\n"
     ]
    },
    {
     "data": {
      "text/plain": [
       "count    1891.000000\n",
       "mean        0.000785\n",
       "std         0.018951\n",
       "min        -0.330358\n",
       "25%        -0.005045\n",
       "50%         0.000378\n",
       "75%         0.006563\n",
       "max         0.172858\n",
       "dtype: float64"
      ]
     },
     "metadata": {},
     "output_type": "display_data"
    },
    {
     "name": "stdout",
     "output_type": "stream",
     "text": [
      "\n",
      "\n",
      "Chromosome: 22\n",
      "Number of corrs files: (49, 4)\n",
      "Number of MultiPLIER genes: (170, 3)\n",
      "Reading corrs per tissue\n"
     ]
    },
    {
     "data": {
      "text/plain": [
       "count    14365.000000\n",
       "mean        -0.000173\n",
       "std          0.024237\n",
       "min         -0.659690\n",
       "25%         -0.006331\n",
       "50%         -0.000084\n",
       "75%          0.006518\n",
       "max          0.719813\n",
       "dtype: float64"
      ]
     },
     "metadata": {},
     "output_type": "display_data"
    },
    {
     "name": "stdout",
     "output_type": "stream",
     "text": [
      "\n",
      "\n"
     ]
    }
   ],
   "source": [
    "corrs_per_chr = {}\n",
    "\n",
    "for chr_num in range(1, 23):\n",
    "    print(f\"Chromosome: {chr_num}\", flush=True)\n",
    "\n",
    "    chr_files = all_gene_corr_files_df[all_gene_corr_files_df[\"chromosome\"] == chr_num]\n",
    "    print(f\"Number of corrs files: {chr_files.shape}\")\n",
    "\n",
    "    multiplier_genes_in_chr = genes_info[genes_info[\"chr\"] == str(chr_num)]\n",
    "    print(f\"Number of MultiPLIER genes: {multiplier_genes_in_chr.shape}\")\n",
    "\n",
    "    # create final dataframe with corrs for this chr\n",
    "    chr_df = pd.DataFrame(\n",
    "        data=0.0,\n",
    "        index=multiplier_genes_in_chr[\"id\"],\n",
    "        columns=multiplier_genes_in_chr[\"id\"],\n",
    "    )\n",
    "\n",
    "    print(\"Reading corrs per tissue\", flush=True)\n",
    "    for idx, tissue_corrs in chr_files.iterrows():\n",
    "        tissue_corrs_df = pd.read_pickle(tissue_corrs[\"corr_file\"])\n",
    "\n",
    "        nan_values = tissue_corrs_df.isna()\n",
    "        if nan_values.any().any():\n",
    "            print(\n",
    "                f\"  WARNING ({tissue_corrs['tissue']}): has NaN values ({nan_values.sum().sum()})\"\n",
    "            )\n",
    "            tissue_corrs_df = tissue_corrs_df.fillna(0.0)\n",
    "\n",
    "        # align\n",
    "        tissue_corrs_df = tissue_corrs_df.loc[chr_df.index, chr_df.columns]\n",
    "\n",
    "        chr_df = chr_df + tissue_corrs_df\n",
    "    #         chr_df = chr_df.where(chr_df.abs() > tissue_corrs_df.abs(), tissue_corrs_df).fillna(chr_df)\n",
    "\n",
    "    chr_df = chr_df / float(chr_files.shape[0])\n",
    "    chr_df_flat = pd.Series(squareform(chr_df.values, checks=False))\n",
    "    display(chr_df_flat.describe())\n",
    "\n",
    "    corrs_per_chr[chr_num] = chr_df\n",
    "\n",
    "    print(\"\\n\")"
   ]
  },
  {
   "cell_type": "markdown",
   "id": "b4c29c41",
   "metadata": {
    "papermill": {
     "duration": 0.057288,
     "end_time": "2021-05-01T22:35:25.598238",
     "exception": false,
     "start_time": "2021-05-01T22:35:25.540950",
     "status": "completed"
    },
    "tags": []
   },
   "source": [
    "# Create full gene correlation matrix"
   ]
  },
  {
   "cell_type": "markdown",
   "id": "54d599c0",
   "metadata": {
    "papermill": {
     "duration": 0.03743,
     "end_time": "2021-05-01T22:35:25.679116",
     "exception": false,
     "start_time": "2021-05-01T22:35:25.641686",
     "status": "completed"
    },
    "tags": []
   },
   "source": [
    "This matrix has all genes in MultiPLIER Z"
   ]
  },
  {
   "cell_type": "code",
   "execution_count": 30,
   "id": "85e42d66",
   "metadata": {
    "execution": {
     "iopub.execute_input": "2021-05-01T22:35:25.756662Z",
     "iopub.status.busy": "2021-05-01T22:35:25.756303Z",
     "iopub.status.idle": "2021-05-01T22:35:25.801133Z",
     "shell.execute_reply": "2021-05-01T22:35:25.800673Z"
    },
    "papermill": {
     "duration": 0.084778,
     "end_time": "2021-05-01T22:35:25.801220",
     "exception": false,
     "start_time": "2021-05-01T22:35:25.716442",
     "status": "completed"
    },
    "tags": []
   },
   "outputs": [],
   "source": [
    "gene_corrs_df = pd.DataFrame(data=0.0, index=genes_info[\"id\"], columns=genes_info[\"id\"])"
   ]
  },
  {
   "cell_type": "code",
   "execution_count": 31,
   "id": "c231355e",
   "metadata": {
    "execution": {
     "iopub.execute_input": "2021-05-01T22:35:25.879790Z",
     "iopub.status.busy": "2021-05-01T22:35:25.879433Z",
     "iopub.status.idle": "2021-05-01T22:35:25.888040Z",
     "shell.execute_reply": "2021-05-01T22:35:25.887672Z"
    },
    "papermill": {
     "duration": 0.048798,
     "end_time": "2021-05-01T22:35:25.888124",
     "exception": false,
     "start_time": "2021-05-01T22:35:25.839326",
     "status": "completed"
    },
    "tags": []
   },
   "outputs": [
    {
     "data": {
      "text/plain": [
       "(6452, 6452)"
      ]
     },
     "execution_count": 31,
     "metadata": {},
     "output_type": "execute_result"
    }
   ],
   "source": [
    "gene_corrs_df.shape"
   ]
  },
  {
   "cell_type": "code",
   "execution_count": 32,
   "id": "04f0fe9e",
   "metadata": {
    "execution": {
     "iopub.execute_input": "2021-05-01T22:35:25.967616Z",
     "iopub.status.busy": "2021-05-01T22:35:25.967260Z",
     "iopub.status.idle": "2021-05-01T22:35:25.988986Z",
     "shell.execute_reply": "2021-05-01T22:35:25.988570Z"
    },
    "papermill": {
     "duration": 0.062146,
     "end_time": "2021-05-01T22:35:25.989073",
     "exception": false,
     "start_time": "2021-05-01T22:35:25.926927",
     "status": "completed"
    },
    "tags": []
   },
   "outputs": [
    {
     "data": {
      "text/html": [
       "<div>\n",
       "<style scoped>\n",
       "    .dataframe tbody tr th:only-of-type {\n",
       "        vertical-align: middle;\n",
       "    }\n",
       "\n",
       "    .dataframe tbody tr th {\n",
       "        vertical-align: top;\n",
       "    }\n",
       "\n",
       "    .dataframe thead th {\n",
       "        text-align: right;\n",
       "    }\n",
       "</style>\n",
       "<table border=\"1\" class=\"dataframe\">\n",
       "  <thead>\n",
       "    <tr style=\"text-align: right;\">\n",
       "      <th>id</th>\n",
       "      <th>ENSG00000183087</th>\n",
       "      <th>ENSG00000157227</th>\n",
       "      <th>ENSG00000096696</th>\n",
       "      <th>ENSG00000175130</th>\n",
       "      <th>ENSG00000113140</th>\n",
       "      <th>ENSG00000117984</th>\n",
       "      <th>ENSG00000116016</th>\n",
       "      <th>ENSG00000129116</th>\n",
       "      <th>ENSG00000134686</th>\n",
       "      <th>ENSG00000108679</th>\n",
       "      <th>...</th>\n",
       "      <th>ENSG00000111716</th>\n",
       "      <th>ENSG00000166796</th>\n",
       "      <th>ENSG00000114331</th>\n",
       "      <th>ENSG00000131584</th>\n",
       "      <th>ENSG00000165410</th>\n",
       "      <th>ENSG00000172757</th>\n",
       "      <th>ENSG00000147862</th>\n",
       "      <th>ENSG00000008323</th>\n",
       "      <th>ENSG00000167083</th>\n",
       "      <th>ENSG00000149257</th>\n",
       "    </tr>\n",
       "    <tr>\n",
       "      <th>id</th>\n",
       "      <th></th>\n",
       "      <th></th>\n",
       "      <th></th>\n",
       "      <th></th>\n",
       "      <th></th>\n",
       "      <th></th>\n",
       "      <th></th>\n",
       "      <th></th>\n",
       "      <th></th>\n",
       "      <th></th>\n",
       "      <th></th>\n",
       "      <th></th>\n",
       "      <th></th>\n",
       "      <th></th>\n",
       "      <th></th>\n",
       "      <th></th>\n",
       "      <th></th>\n",
       "      <th></th>\n",
       "      <th></th>\n",
       "      <th></th>\n",
       "      <th></th>\n",
       "    </tr>\n",
       "  </thead>\n",
       "  <tbody>\n",
       "    <tr>\n",
       "      <th>ENSG00000183087</th>\n",
       "      <td>0.0</td>\n",
       "      <td>0.0</td>\n",
       "      <td>0.0</td>\n",
       "      <td>0.0</td>\n",
       "      <td>0.0</td>\n",
       "      <td>0.0</td>\n",
       "      <td>0.0</td>\n",
       "      <td>0.0</td>\n",
       "      <td>0.0</td>\n",
       "      <td>0.0</td>\n",
       "      <td>...</td>\n",
       "      <td>0.0</td>\n",
       "      <td>0.0</td>\n",
       "      <td>0.0</td>\n",
       "      <td>0.0</td>\n",
       "      <td>0.0</td>\n",
       "      <td>0.0</td>\n",
       "      <td>0.0</td>\n",
       "      <td>0.0</td>\n",
       "      <td>0.0</td>\n",
       "      <td>0.0</td>\n",
       "    </tr>\n",
       "    <tr>\n",
       "      <th>ENSG00000157227</th>\n",
       "      <td>0.0</td>\n",
       "      <td>0.0</td>\n",
       "      <td>0.0</td>\n",
       "      <td>0.0</td>\n",
       "      <td>0.0</td>\n",
       "      <td>0.0</td>\n",
       "      <td>0.0</td>\n",
       "      <td>0.0</td>\n",
       "      <td>0.0</td>\n",
       "      <td>0.0</td>\n",
       "      <td>...</td>\n",
       "      <td>0.0</td>\n",
       "      <td>0.0</td>\n",
       "      <td>0.0</td>\n",
       "      <td>0.0</td>\n",
       "      <td>0.0</td>\n",
       "      <td>0.0</td>\n",
       "      <td>0.0</td>\n",
       "      <td>0.0</td>\n",
       "      <td>0.0</td>\n",
       "      <td>0.0</td>\n",
       "    </tr>\n",
       "    <tr>\n",
       "      <th>ENSG00000096696</th>\n",
       "      <td>0.0</td>\n",
       "      <td>0.0</td>\n",
       "      <td>0.0</td>\n",
       "      <td>0.0</td>\n",
       "      <td>0.0</td>\n",
       "      <td>0.0</td>\n",
       "      <td>0.0</td>\n",
       "      <td>0.0</td>\n",
       "      <td>0.0</td>\n",
       "      <td>0.0</td>\n",
       "      <td>...</td>\n",
       "      <td>0.0</td>\n",
       "      <td>0.0</td>\n",
       "      <td>0.0</td>\n",
       "      <td>0.0</td>\n",
       "      <td>0.0</td>\n",
       "      <td>0.0</td>\n",
       "      <td>0.0</td>\n",
       "      <td>0.0</td>\n",
       "      <td>0.0</td>\n",
       "      <td>0.0</td>\n",
       "    </tr>\n",
       "    <tr>\n",
       "      <th>ENSG00000175130</th>\n",
       "      <td>0.0</td>\n",
       "      <td>0.0</td>\n",
       "      <td>0.0</td>\n",
       "      <td>0.0</td>\n",
       "      <td>0.0</td>\n",
       "      <td>0.0</td>\n",
       "      <td>0.0</td>\n",
       "      <td>0.0</td>\n",
       "      <td>0.0</td>\n",
       "      <td>0.0</td>\n",
       "      <td>...</td>\n",
       "      <td>0.0</td>\n",
       "      <td>0.0</td>\n",
       "      <td>0.0</td>\n",
       "      <td>0.0</td>\n",
       "      <td>0.0</td>\n",
       "      <td>0.0</td>\n",
       "      <td>0.0</td>\n",
       "      <td>0.0</td>\n",
       "      <td>0.0</td>\n",
       "      <td>0.0</td>\n",
       "    </tr>\n",
       "    <tr>\n",
       "      <th>ENSG00000113140</th>\n",
       "      <td>0.0</td>\n",
       "      <td>0.0</td>\n",
       "      <td>0.0</td>\n",
       "      <td>0.0</td>\n",
       "      <td>0.0</td>\n",
       "      <td>0.0</td>\n",
       "      <td>0.0</td>\n",
       "      <td>0.0</td>\n",
       "      <td>0.0</td>\n",
       "      <td>0.0</td>\n",
       "      <td>...</td>\n",
       "      <td>0.0</td>\n",
       "      <td>0.0</td>\n",
       "      <td>0.0</td>\n",
       "      <td>0.0</td>\n",
       "      <td>0.0</td>\n",
       "      <td>0.0</td>\n",
       "      <td>0.0</td>\n",
       "      <td>0.0</td>\n",
       "      <td>0.0</td>\n",
       "      <td>0.0</td>\n",
       "    </tr>\n",
       "  </tbody>\n",
       "</table>\n",
       "<p>5 rows × 6452 columns</p>\n",
       "</div>"
      ],
      "text/plain": [
       "id               ENSG00000183087  ENSG00000157227  ENSG00000096696  \\\n",
       "id                                                                   \n",
       "ENSG00000183087              0.0              0.0              0.0   \n",
       "ENSG00000157227              0.0              0.0              0.0   \n",
       "ENSG00000096696              0.0              0.0              0.0   \n",
       "ENSG00000175130              0.0              0.0              0.0   \n",
       "ENSG00000113140              0.0              0.0              0.0   \n",
       "\n",
       "id               ENSG00000175130  ENSG00000113140  ENSG00000117984  \\\n",
       "id                                                                   \n",
       "ENSG00000183087              0.0              0.0              0.0   \n",
       "ENSG00000157227              0.0              0.0              0.0   \n",
       "ENSG00000096696              0.0              0.0              0.0   \n",
       "ENSG00000175130              0.0              0.0              0.0   \n",
       "ENSG00000113140              0.0              0.0              0.0   \n",
       "\n",
       "id               ENSG00000116016  ENSG00000129116  ENSG00000134686  \\\n",
       "id                                                                   \n",
       "ENSG00000183087              0.0              0.0              0.0   \n",
       "ENSG00000157227              0.0              0.0              0.0   \n",
       "ENSG00000096696              0.0              0.0              0.0   \n",
       "ENSG00000175130              0.0              0.0              0.0   \n",
       "ENSG00000113140              0.0              0.0              0.0   \n",
       "\n",
       "id               ENSG00000108679  ...  ENSG00000111716  ENSG00000166796  \\\n",
       "id                                ...                                     \n",
       "ENSG00000183087              0.0  ...              0.0              0.0   \n",
       "ENSG00000157227              0.0  ...              0.0              0.0   \n",
       "ENSG00000096696              0.0  ...              0.0              0.0   \n",
       "ENSG00000175130              0.0  ...              0.0              0.0   \n",
       "ENSG00000113140              0.0  ...              0.0              0.0   \n",
       "\n",
       "id               ENSG00000114331  ENSG00000131584  ENSG00000165410  \\\n",
       "id                                                                   \n",
       "ENSG00000183087              0.0              0.0              0.0   \n",
       "ENSG00000157227              0.0              0.0              0.0   \n",
       "ENSG00000096696              0.0              0.0              0.0   \n",
       "ENSG00000175130              0.0              0.0              0.0   \n",
       "ENSG00000113140              0.0              0.0              0.0   \n",
       "\n",
       "id               ENSG00000172757  ENSG00000147862  ENSG00000008323  \\\n",
       "id                                                                   \n",
       "ENSG00000183087              0.0              0.0              0.0   \n",
       "ENSG00000157227              0.0              0.0              0.0   \n",
       "ENSG00000096696              0.0              0.0              0.0   \n",
       "ENSG00000175130              0.0              0.0              0.0   \n",
       "ENSG00000113140              0.0              0.0              0.0   \n",
       "\n",
       "id               ENSG00000167083  ENSG00000149257  \n",
       "id                                                 \n",
       "ENSG00000183087              0.0              0.0  \n",
       "ENSG00000157227              0.0              0.0  \n",
       "ENSG00000096696              0.0              0.0  \n",
       "ENSG00000175130              0.0              0.0  \n",
       "ENSG00000113140              0.0              0.0  \n",
       "\n",
       "[5 rows x 6452 columns]"
      ]
     },
     "execution_count": 32,
     "metadata": {},
     "output_type": "execute_result"
    }
   ],
   "source": [
    "gene_corrs_df.head()"
   ]
  },
  {
   "cell_type": "code",
   "execution_count": 33,
   "id": "23be89f1",
   "metadata": {
    "execution": {
     "iopub.execute_input": "2021-05-01T22:35:26.069346Z",
     "iopub.status.busy": "2021-05-01T22:35:26.068972Z",
     "iopub.status.idle": "2021-05-01T22:35:34.616310Z",
     "shell.execute_reply": "2021-05-01T22:35:34.615856Z"
    },
    "papermill": {
     "duration": 8.588151,
     "end_time": "2021-05-01T22:35:34.616423",
     "exception": false,
     "start_time": "2021-05-01T22:35:26.028272",
     "status": "completed"
    },
    "tags": []
   },
   "outputs": [],
   "source": [
    "for chr_num, chr_data in corrs_per_chr.items():\n",
    "    chr_data = chr_data.reindex(\n",
    "        index=gene_corrs_df.index, columns=gene_corrs_df.columns\n",
    "    )\n",
    "    gene_corrs_df = gene_corrs_df + chr_data.fillna(0.0)"
   ]
  },
  {
   "cell_type": "code",
   "execution_count": 34,
   "id": "08883f22",
   "metadata": {
    "execution": {
     "iopub.execute_input": "2021-05-01T22:35:34.706192Z",
     "iopub.status.busy": "2021-05-01T22:35:34.705820Z",
     "iopub.status.idle": "2021-05-01T22:35:34.750771Z",
     "shell.execute_reply": "2021-05-01T22:35:34.750415Z"
    },
    "papermill": {
     "duration": 0.08614,
     "end_time": "2021-05-01T22:35:34.750865",
     "exception": false,
     "start_time": "2021-05-01T22:35:34.664725",
     "status": "completed"
    },
    "tags": []
   },
   "outputs": [],
   "source": [
    "gene_corrs_df = gene_corrs_df.astype(np.float32)"
   ]
  },
  {
   "cell_type": "code",
   "execution_count": 35,
   "id": "5d684e7c",
   "metadata": {
    "execution": {
     "iopub.execute_input": "2021-05-01T22:35:34.833595Z",
     "iopub.status.busy": "2021-05-01T22:35:34.833223Z",
     "iopub.status.idle": "2021-05-01T22:35:34.854281Z",
     "shell.execute_reply": "2021-05-01T22:35:34.853910Z"
    },
    "papermill": {
     "duration": 0.062658,
     "end_time": "2021-05-01T22:35:34.854366",
     "exception": false,
     "start_time": "2021-05-01T22:35:34.791708",
     "status": "completed"
    },
    "tags": []
   },
   "outputs": [
    {
     "data": {
      "text/html": [
       "<div>\n",
       "<style scoped>\n",
       "    .dataframe tbody tr th:only-of-type {\n",
       "        vertical-align: middle;\n",
       "    }\n",
       "\n",
       "    .dataframe tbody tr th {\n",
       "        vertical-align: top;\n",
       "    }\n",
       "\n",
       "    .dataframe thead th {\n",
       "        text-align: right;\n",
       "    }\n",
       "</style>\n",
       "<table border=\"1\" class=\"dataframe\">\n",
       "  <thead>\n",
       "    <tr style=\"text-align: right;\">\n",
       "      <th>id</th>\n",
       "      <th>ENSG00000183087</th>\n",
       "      <th>ENSG00000157227</th>\n",
       "      <th>ENSG00000096696</th>\n",
       "      <th>ENSG00000175130</th>\n",
       "      <th>ENSG00000113140</th>\n",
       "      <th>ENSG00000117984</th>\n",
       "      <th>ENSG00000116016</th>\n",
       "      <th>ENSG00000129116</th>\n",
       "      <th>ENSG00000134686</th>\n",
       "      <th>ENSG00000108679</th>\n",
       "      <th>...</th>\n",
       "      <th>ENSG00000111716</th>\n",
       "      <th>ENSG00000166796</th>\n",
       "      <th>ENSG00000114331</th>\n",
       "      <th>ENSG00000131584</th>\n",
       "      <th>ENSG00000165410</th>\n",
       "      <th>ENSG00000172757</th>\n",
       "      <th>ENSG00000147862</th>\n",
       "      <th>ENSG00000008323</th>\n",
       "      <th>ENSG00000167083</th>\n",
       "      <th>ENSG00000149257</th>\n",
       "    </tr>\n",
       "    <tr>\n",
       "      <th>id</th>\n",
       "      <th></th>\n",
       "      <th></th>\n",
       "      <th></th>\n",
       "      <th></th>\n",
       "      <th></th>\n",
       "      <th></th>\n",
       "      <th></th>\n",
       "      <th></th>\n",
       "      <th></th>\n",
       "      <th></th>\n",
       "      <th></th>\n",
       "      <th></th>\n",
       "      <th></th>\n",
       "      <th></th>\n",
       "      <th></th>\n",
       "      <th></th>\n",
       "      <th></th>\n",
       "      <th></th>\n",
       "      <th></th>\n",
       "      <th></th>\n",
       "      <th></th>\n",
       "    </tr>\n",
       "  </thead>\n",
       "  <tbody>\n",
       "    <tr>\n",
       "      <th>ENSG00000183087</th>\n",
       "      <td>1.0</td>\n",
       "      <td>0.0</td>\n",
       "      <td>0.0</td>\n",
       "      <td>0.0</td>\n",
       "      <td>0.0</td>\n",
       "      <td>0.0</td>\n",
       "      <td>0.0</td>\n",
       "      <td>0.0</td>\n",
       "      <td>0.000000</td>\n",
       "      <td>0.0</td>\n",
       "      <td>...</td>\n",
       "      <td>0.0</td>\n",
       "      <td>0.0</td>\n",
       "      <td>0.0</td>\n",
       "      <td>0.000000</td>\n",
       "      <td>0.000000</td>\n",
       "      <td>0.0</td>\n",
       "      <td>0.0</td>\n",
       "      <td>0.0</td>\n",
       "      <td>0.0</td>\n",
       "      <td>0.0</td>\n",
       "    </tr>\n",
       "    <tr>\n",
       "      <th>ENSG00000157227</th>\n",
       "      <td>0.0</td>\n",
       "      <td>1.0</td>\n",
       "      <td>0.0</td>\n",
       "      <td>0.0</td>\n",
       "      <td>0.0</td>\n",
       "      <td>0.0</td>\n",
       "      <td>0.0</td>\n",
       "      <td>0.0</td>\n",
       "      <td>0.000000</td>\n",
       "      <td>0.0</td>\n",
       "      <td>...</td>\n",
       "      <td>0.0</td>\n",
       "      <td>0.0</td>\n",
       "      <td>0.0</td>\n",
       "      <td>0.000000</td>\n",
       "      <td>-0.000683</td>\n",
       "      <td>0.0</td>\n",
       "      <td>0.0</td>\n",
       "      <td>0.0</td>\n",
       "      <td>0.0</td>\n",
       "      <td>0.0</td>\n",
       "    </tr>\n",
       "    <tr>\n",
       "      <th>ENSG00000096696</th>\n",
       "      <td>0.0</td>\n",
       "      <td>0.0</td>\n",
       "      <td>1.0</td>\n",
       "      <td>0.0</td>\n",
       "      <td>0.0</td>\n",
       "      <td>0.0</td>\n",
       "      <td>0.0</td>\n",
       "      <td>0.0</td>\n",
       "      <td>0.000000</td>\n",
       "      <td>0.0</td>\n",
       "      <td>...</td>\n",
       "      <td>0.0</td>\n",
       "      <td>0.0</td>\n",
       "      <td>0.0</td>\n",
       "      <td>0.000000</td>\n",
       "      <td>0.000000</td>\n",
       "      <td>0.0</td>\n",
       "      <td>0.0</td>\n",
       "      <td>0.0</td>\n",
       "      <td>0.0</td>\n",
       "      <td>0.0</td>\n",
       "    </tr>\n",
       "    <tr>\n",
       "      <th>ENSG00000175130</th>\n",
       "      <td>0.0</td>\n",
       "      <td>0.0</td>\n",
       "      <td>0.0</td>\n",
       "      <td>1.0</td>\n",
       "      <td>0.0</td>\n",
       "      <td>0.0</td>\n",
       "      <td>0.0</td>\n",
       "      <td>0.0</td>\n",
       "      <td>-0.001079</td>\n",
       "      <td>0.0</td>\n",
       "      <td>...</td>\n",
       "      <td>0.0</td>\n",
       "      <td>0.0</td>\n",
       "      <td>0.0</td>\n",
       "      <td>-0.000171</td>\n",
       "      <td>0.000000</td>\n",
       "      <td>0.0</td>\n",
       "      <td>0.0</td>\n",
       "      <td>0.0</td>\n",
       "      <td>0.0</td>\n",
       "      <td>0.0</td>\n",
       "    </tr>\n",
       "    <tr>\n",
       "      <th>ENSG00000113140</th>\n",
       "      <td>0.0</td>\n",
       "      <td>0.0</td>\n",
       "      <td>0.0</td>\n",
       "      <td>0.0</td>\n",
       "      <td>1.0</td>\n",
       "      <td>0.0</td>\n",
       "      <td>0.0</td>\n",
       "      <td>0.0</td>\n",
       "      <td>0.000000</td>\n",
       "      <td>0.0</td>\n",
       "      <td>...</td>\n",
       "      <td>0.0</td>\n",
       "      <td>0.0</td>\n",
       "      <td>0.0</td>\n",
       "      <td>0.000000</td>\n",
       "      <td>0.000000</td>\n",
       "      <td>0.0</td>\n",
       "      <td>0.0</td>\n",
       "      <td>0.0</td>\n",
       "      <td>0.0</td>\n",
       "      <td>0.0</td>\n",
       "    </tr>\n",
       "  </tbody>\n",
       "</table>\n",
       "<p>5 rows × 6452 columns</p>\n",
       "</div>"
      ],
      "text/plain": [
       "id               ENSG00000183087  ENSG00000157227  ENSG00000096696  \\\n",
       "id                                                                   \n",
       "ENSG00000183087              1.0              0.0              0.0   \n",
       "ENSG00000157227              0.0              1.0              0.0   \n",
       "ENSG00000096696              0.0              0.0              1.0   \n",
       "ENSG00000175130              0.0              0.0              0.0   \n",
       "ENSG00000113140              0.0              0.0              0.0   \n",
       "\n",
       "id               ENSG00000175130  ENSG00000113140  ENSG00000117984  \\\n",
       "id                                                                   \n",
       "ENSG00000183087              0.0              0.0              0.0   \n",
       "ENSG00000157227              0.0              0.0              0.0   \n",
       "ENSG00000096696              0.0              0.0              0.0   \n",
       "ENSG00000175130              1.0              0.0              0.0   \n",
       "ENSG00000113140              0.0              1.0              0.0   \n",
       "\n",
       "id               ENSG00000116016  ENSG00000129116  ENSG00000134686  \\\n",
       "id                                                                   \n",
       "ENSG00000183087              0.0              0.0         0.000000   \n",
       "ENSG00000157227              0.0              0.0         0.000000   \n",
       "ENSG00000096696              0.0              0.0         0.000000   \n",
       "ENSG00000175130              0.0              0.0        -0.001079   \n",
       "ENSG00000113140              0.0              0.0         0.000000   \n",
       "\n",
       "id               ENSG00000108679  ...  ENSG00000111716  ENSG00000166796  \\\n",
       "id                                ...                                     \n",
       "ENSG00000183087              0.0  ...              0.0              0.0   \n",
       "ENSG00000157227              0.0  ...              0.0              0.0   \n",
       "ENSG00000096696              0.0  ...              0.0              0.0   \n",
       "ENSG00000175130              0.0  ...              0.0              0.0   \n",
       "ENSG00000113140              0.0  ...              0.0              0.0   \n",
       "\n",
       "id               ENSG00000114331  ENSG00000131584  ENSG00000165410  \\\n",
       "id                                                                   \n",
       "ENSG00000183087              0.0         0.000000         0.000000   \n",
       "ENSG00000157227              0.0         0.000000        -0.000683   \n",
       "ENSG00000096696              0.0         0.000000         0.000000   \n",
       "ENSG00000175130              0.0        -0.000171         0.000000   \n",
       "ENSG00000113140              0.0         0.000000         0.000000   \n",
       "\n",
       "id               ENSG00000172757  ENSG00000147862  ENSG00000008323  \\\n",
       "id                                                                   \n",
       "ENSG00000183087              0.0              0.0              0.0   \n",
       "ENSG00000157227              0.0              0.0              0.0   \n",
       "ENSG00000096696              0.0              0.0              0.0   \n",
       "ENSG00000175130              0.0              0.0              0.0   \n",
       "ENSG00000113140              0.0              0.0              0.0   \n",
       "\n",
       "id               ENSG00000167083  ENSG00000149257  \n",
       "id                                                 \n",
       "ENSG00000183087              0.0              0.0  \n",
       "ENSG00000157227              0.0              0.0  \n",
       "ENSG00000096696              0.0              0.0  \n",
       "ENSG00000175130              0.0              0.0  \n",
       "ENSG00000113140              0.0              0.0  \n",
       "\n",
       "[5 rows x 6452 columns]"
      ]
     },
     "execution_count": 35,
     "metadata": {},
     "output_type": "execute_result"
    }
   ],
   "source": [
    "gene_corrs_df.head()"
   ]
  },
  {
   "cell_type": "code",
   "execution_count": 36,
   "id": "05106117",
   "metadata": {
    "execution": {
     "iopub.execute_input": "2021-05-01T22:35:34.935653Z",
     "iopub.status.busy": "2021-05-01T22:35:34.935296Z",
     "iopub.status.idle": "2021-05-01T22:35:34.943015Z",
     "shell.execute_reply": "2021-05-01T22:35:34.942644Z"
    },
    "papermill": {
     "duration": 0.048804,
     "end_time": "2021-05-01T22:35:34.943100",
     "exception": false,
     "start_time": "2021-05-01T22:35:34.894296",
     "status": "completed"
    },
    "tags": []
   },
   "outputs": [],
   "source": [
    "assert np.all(gene_corrs_df.values.diagonal() == 1.0)"
   ]
  },
  {
   "cell_type": "markdown",
   "id": "183120b0",
   "metadata": {
    "papermill": {
     "duration": 0.039073,
     "end_time": "2021-05-01T22:35:35.023905",
     "exception": false,
     "start_time": "2021-05-01T22:35:34.984832",
     "status": "completed"
    },
    "tags": []
   },
   "source": [
    "## Stats"
   ]
  },
  {
   "cell_type": "code",
   "execution_count": 37,
   "id": "0e1712c1",
   "metadata": {
    "execution": {
     "iopub.execute_input": "2021-05-01T22:35:35.105099Z",
     "iopub.status.busy": "2021-05-01T22:35:35.104667Z",
     "iopub.status.idle": "2021-05-01T22:35:35.246811Z",
     "shell.execute_reply": "2021-05-01T22:35:35.247151Z"
    },
    "papermill": {
     "duration": 0.183963,
     "end_time": "2021-05-01T22:35:35.247277",
     "exception": false,
     "start_time": "2021-05-01T22:35:35.063314",
     "status": "completed"
    },
    "tags": []
   },
   "outputs": [],
   "source": [
    "_gene_corrs_flat = squareform(gene_corrs_df.values, checks=False)"
   ]
  },
  {
   "cell_type": "code",
   "execution_count": 38,
   "id": "67e7f149",
   "metadata": {
    "execution": {
     "iopub.execute_input": "2021-05-01T22:35:35.332672Z",
     "iopub.status.busy": "2021-05-01T22:35:35.332301Z",
     "iopub.status.idle": "2021-05-01T22:35:35.816812Z",
     "shell.execute_reply": "2021-05-01T22:35:35.817111Z"
    },
    "papermill": {
     "duration": 0.526506,
     "end_time": "2021-05-01T22:35:35.817216",
     "exception": false,
     "start_time": "2021-05-01T22:35:35.290710",
     "status": "completed"
    },
    "tags": []
   },
   "outputs": [
    {
     "data": {
      "text/plain": [
       "count    2.081093e+07\n",
       "mean     1.812486e-06\n",
       "std      4.384554e-03\n",
       "min     -9.262078e-01\n",
       "25%      0.000000e+00\n",
       "50%      0.000000e+00\n",
       "75%      0.000000e+00\n",
       "max      8.929952e-01\n",
       "dtype: float64"
      ]
     },
     "execution_count": 38,
     "metadata": {},
     "output_type": "execute_result"
    }
   ],
   "source": [
    "pd.Series(_gene_corrs_flat).describe()"
   ]
  },
  {
   "cell_type": "markdown",
   "id": "ca0ec949",
   "metadata": {
    "papermill": {
     "duration": 0.040184,
     "end_time": "2021-05-01T22:35:35.897279",
     "exception": false,
     "start_time": "2021-05-01T22:35:35.857095",
     "status": "completed"
    },
    "tags": []
   },
   "source": [
    "# Plot"
   ]
  },
  {
   "cell_type": "code",
   "execution_count": 39,
   "id": "3f915f50",
   "metadata": {
    "execution": {
     "iopub.execute_input": "2021-05-01T22:35:35.978510Z",
     "iopub.status.busy": "2021-05-01T22:35:35.978153Z",
     "iopub.status.idle": "2021-05-01T22:35:36.278395Z",
     "shell.execute_reply": "2021-05-01T22:35:36.278698Z"
    },
    "papermill": {
     "duration": 0.342256,
     "end_time": "2021-05-01T22:35:36.278809",
     "exception": false,
     "start_time": "2021-05-01T22:35:35.936553",
     "status": "completed"
    },
    "tags": []
   },
   "outputs": [],
   "source": [
    "import matplotlib.pyplot as plt\n",
    "from matplotlib.colors import ListedColormap"
   ]
  },
  {
   "cell_type": "code",
   "execution_count": 40,
   "id": "ba72ef73",
   "metadata": {
    "execution": {
     "iopub.execute_input": "2021-05-01T22:35:36.361023Z",
     "iopub.status.busy": "2021-05-01T22:35:36.360580Z",
     "iopub.status.idle": "2021-05-01T22:35:36.371882Z",
     "shell.execute_reply": "2021-05-01T22:35:36.371502Z"
    },
    "papermill": {
     "duration": 0.052839,
     "end_time": "2021-05-01T22:35:36.371968",
     "exception": false,
     "start_time": "2021-05-01T22:35:36.319129",
     "status": "completed"
    },
    "tags": []
   },
   "outputs": [],
   "source": [
    "genes_order = genes_info.sort_values(\"chr\")[\"id\"].tolist()"
   ]
  },
  {
   "cell_type": "code",
   "execution_count": 41,
   "id": "eaf12e9e",
   "metadata": {
    "execution": {
     "iopub.execute_input": "2021-05-01T22:35:36.454610Z",
     "iopub.status.busy": "2021-05-01T22:35:36.454250Z",
     "iopub.status.idle": "2021-05-01T22:35:36.462402Z",
     "shell.execute_reply": "2021-05-01T22:35:36.462032Z"
    },
    "papermill": {
     "duration": 0.049998,
     "end_time": "2021-05-01T22:35:36.462486",
     "exception": false,
     "start_time": "2021-05-01T22:35:36.412488",
     "status": "completed"
    },
    "tags": []
   },
   "outputs": [],
   "source": [
    "cmap = ListedColormap([\"w\", \"r\"])"
   ]
  },
  {
   "cell_type": "code",
   "execution_count": 42,
   "id": "ffdeef1f",
   "metadata": {
    "execution": {
     "iopub.execute_input": "2021-05-01T22:35:36.545735Z",
     "iopub.status.busy": "2021-05-01T22:35:36.545379Z",
     "iopub.status.idle": "2021-05-01T22:35:37.503268Z",
     "shell.execute_reply": "2021-05-01T22:35:37.502920Z"
    },
    "papermill": {
     "duration": 0.99991,
     "end_time": "2021-05-01T22:35:37.503356",
     "exception": false,
     "start_time": "2021-05-01T22:35:36.503446",
     "status": "completed"
    },
    "tags": []
   },
   "outputs": [
    {
     "data": {
      "text/plain": [
       "[]"
      ]
     },
     "execution_count": 42,
     "metadata": {},
     "output_type": "execute_result"
    },
    {
     "data": {
      "image/png": "[encoded data removed]",
      "text/plain": [
       "<Figure size 720x720 with 1 Axes>"
      ]
     },
     "metadata": {},
     "output_type": "display_data"
    }
   ],
   "source": [
    "fig, ax = plt.subplots(figsize=(10, 10))\n",
    "ax.matshow(\n",
    "    gene_corrs_df.loc[genes_order, genes_order].values, vmin=-0.05, vmax=0.05, cmap=cmap\n",
    ")\n",
    "ax.set_xlabel(\"Genes\")\n",
    "ax.set_ylabel(\"Genes\")\n",
    "ax.set_xticks([])\n",
    "ax.set_yticks([])"
   ]
  },
  {
   "cell_type": "markdown",
   "id": "c13be5c3",
   "metadata": {
    "papermill": {
     "duration": 0.040033,
     "end_time": "2021-05-01T22:35:37.584560",
     "exception": false,
     "start_time": "2021-05-01T22:35:37.544527",
     "status": "completed"
    },
    "tags": []
   },
   "source": [
    "# Testing"
   ]
  },
  {
   "cell_type": "code",
   "execution_count": 43,
   "id": "50e94dc6",
   "metadata": {
    "execution": {
     "iopub.execute_input": "2021-05-01T22:35:37.668215Z",
     "iopub.status.busy": "2021-05-01T22:35:37.667843Z",
     "iopub.status.idle": "2021-05-01T22:35:37.677329Z",
     "shell.execute_reply": "2021-05-01T22:35:37.676957Z"
    },
    "papermill": {
     "duration": 0.052561,
     "end_time": "2021-05-01T22:35:37.677412",
     "exception": false,
     "start_time": "2021-05-01T22:35:37.624851",
     "status": "completed"
    },
    "tags": []
   },
   "outputs": [
    {
     "data": {
      "text/plain": [
       "0.20144808"
      ]
     },
     "execution_count": 43,
     "metadata": {},
     "output_type": "execute_result"
    }
   ],
   "source": [
    "# COL4A1 and COL4A2\n",
    "gene1 = \"ENSG00000187498\"\n",
    "gene2 = \"ENSG00000134871\"\n",
    "\n",
    "gene_corrs_df.loc[gene1, gene2]"
   ]
  },
  {
   "cell_type": "code",
   "execution_count": 44,
   "id": "3f7a77e8",
   "metadata": {
    "execution": {
     "iopub.execute_input": "2021-05-01T22:35:37.763229Z",
     "iopub.status.busy": "2021-05-01T22:35:37.762870Z",
     "iopub.status.idle": "2021-05-01T22:35:37.771868Z",
     "shell.execute_reply": "2021-05-01T22:35:37.771504Z"
    },
    "papermill": {
     "duration": 0.052254,
     "end_time": "2021-05-01T22:35:37.771950",
     "exception": false,
     "start_time": "2021-05-01T22:35:37.719696",
     "status": "completed"
    },
    "tags": []
   },
   "outputs": [],
   "source": [
    "_genes_files = all_gene_corr_files_df[all_gene_corr_files_df[\"chromosome\"] == 13][\n",
    "    \"corr_file\"\n",
    "].tolist()\n",
    "assert len(_genes_files) == 49"
   ]
  },
  {
   "cell_type": "code",
   "execution_count": 45,
   "id": "d78aa703",
   "metadata": {
    "execution": {
     "iopub.execute_input": "2021-05-01T22:35:37.855421Z",
     "iopub.status.busy": "2021-05-01T22:35:37.855060Z",
     "iopub.status.idle": "2021-05-01T22:35:37.889605Z",
     "shell.execute_reply": "2021-05-01T22:35:37.889222Z"
    },
    "papermill": {
     "duration": 0.077324,
     "end_time": "2021-05-01T22:35:37.889692",
     "exception": false,
     "start_time": "2021-05-01T22:35:37.812368",
     "status": "completed"
    },
    "tags": []
   },
   "outputs": [],
   "source": [
    "_gene_values = []\n",
    "for f in _genes_files:\n",
    "    gene1_gene2_corr = pd.read_pickle(f).loc[gene1, gene2]\n",
    "    _gene_values.append(gene1_gene2_corr)"
   ]
  },
  {
   "cell_type": "code",
   "execution_count": 46,
   "id": "e0109cc5",
   "metadata": {
    "execution": {
     "iopub.execute_input": "2021-05-01T22:35:37.975402Z",
     "iopub.status.busy": "2021-05-01T22:35:37.975042Z",
     "iopub.status.idle": "2021-05-01T22:35:37.982887Z",
     "shell.execute_reply": "2021-05-01T22:35:37.983159Z"
    },
    "papermill": {
     "duration": 0.051867,
     "end_time": "2021-05-01T22:35:37.983263",
     "exception": false,
     "start_time": "2021-05-01T22:35:37.931396",
     "status": "completed"
    },
    "tags": []
   },
   "outputs": [],
   "source": [
    "_gene_values = np.array(_gene_values)\n",
    "assert _gene_values.shape[0] == 49"
   ]
  },
  {
   "cell_type": "code",
   "execution_count": 47,
   "id": "ce8e26f5",
   "metadata": {
    "execution": {
     "iopub.execute_input": "2021-05-01T22:35:38.070563Z",
     "iopub.status.busy": "2021-05-01T22:35:38.070109Z",
     "iopub.status.idle": "2021-05-01T22:35:38.079452Z",
     "shell.execute_reply": "2021-05-01T22:35:38.079096Z"
    },
    "papermill": {
     "duration": 0.053402,
     "end_time": "2021-05-01T22:35:38.079533",
     "exception": false,
     "start_time": "2021-05-01T22:35:38.026131",
     "status": "completed"
    },
    "tags": []
   },
   "outputs": [
    {
     "data": {
      "text/plain": [
       "0.20144808"
      ]
     },
     "metadata": {},
     "output_type": "display_data"
    }
   ],
   "source": [
    "display(_gene_values.mean())\n",
    "assert gene_corrs_df.loc[gene1, gene2] == _gene_values.mean()"
   ]
  },
  {
   "cell_type": "markdown",
   "id": "e34db3c2",
   "metadata": {
    "papermill": {
     "duration": 0.040606,
     "end_time": "2021-05-01T22:35:38.161821",
     "exception": false,
     "start_time": "2021-05-01T22:35:38.121215",
     "status": "completed"
    },
    "tags": []
   },
   "source": [
    "# Save"
   ]
  },
  {
   "cell_type": "markdown",
   "id": "510183a9",
   "metadata": {
    "papermill": {
     "duration": 0.046068,
     "end_time": "2021-05-01T22:35:38.250096",
     "exception": false,
     "start_time": "2021-05-01T22:35:38.204028",
     "status": "completed"
    },
    "tags": []
   },
   "source": [
    "## With ensemble ids"
   ]
  },
  {
   "cell_type": "code",
   "execution_count": 48,
   "id": "f4f9d26a",
   "metadata": {
    "execution": {
     "iopub.execute_input": "2021-05-01T22:35:38.334943Z",
     "iopub.status.busy": "2021-05-01T22:35:38.334582Z",
     "iopub.status.idle": "2021-05-01T22:35:38.343695Z",
     "shell.execute_reply": "2021-05-01T22:35:38.343325Z"
    },
    "papermill": {
     "duration": 0.052181,
     "end_time": "2021-05-01T22:35:38.343777",
     "exception": false,
     "start_time": "2021-05-01T22:35:38.291596",
     "status": "completed"
    },
    "tags": []
   },
   "outputs": [
    {
     "data": {
      "text/plain": [
       "PosixPath('/home/miltondp/projects/labs/greenelab/phenoplier/base/data/phenomexcan/ld_blocks/multiplier_genes-pred_expression_corr_avg.pkl')"
      ]
     },
     "metadata": {},
     "output_type": "display_data"
    }
   ],
   "source": [
    "output_file = conf.PHENOMEXCAN[\"LD_BLOCKS\"][EQTL_MODEL][\"GENE_IDS_CORR_AVG\"]\n",
    "display(output_file)"
   ]
  },
  {
   "cell_type": "code",
   "execution_count": 49,
   "id": "d841e2a0",
   "metadata": {
    "execution": {
     "iopub.execute_input": "2021-05-01T22:35:38.429902Z",
     "iopub.status.busy": "2021-05-01T22:35:38.429546Z",
     "iopub.status.idle": "2021-05-01T22:35:38.609443Z",
     "shell.execute_reply": "2021-05-01T22:35:38.609783Z"
    },
    "papermill": {
     "duration": 0.224041,
     "end_time": "2021-05-01T22:35:38.609910",
     "exception": false,
     "start_time": "2021-05-01T22:35:38.385869",
     "status": "completed"
    },
    "tags": []
   },
   "outputs": [],
   "source": [
    "gene_corrs_df.to_pickle(output_file)"
   ]
  },
  {
   "cell_type": "markdown",
   "id": "7f9816a6",
   "metadata": {
    "papermill": {
     "duration": 0.040994,
     "end_time": "2021-05-01T22:35:38.698289",
     "exception": false,
     "start_time": "2021-05-01T22:35:38.657295",
     "status": "completed"
    },
    "tags": []
   },
   "source": [
    "## With gene symbols"
   ]
  },
  {
   "cell_type": "code",
   "execution_count": 50,
   "id": "5ca442bb",
   "metadata": {
    "execution": {
     "iopub.execute_input": "2021-05-01T22:35:38.783391Z",
     "iopub.status.busy": "2021-05-01T22:35:38.783033Z",
     "iopub.status.idle": "2021-05-01T22:35:38.792028Z",
     "shell.execute_reply": "2021-05-01T22:35:38.791660Z"
    },
    "papermill": {
     "duration": 0.052465,
     "end_time": "2021-05-01T22:35:38.792112",
     "exception": false,
     "start_time": "2021-05-01T22:35:38.739647",
     "status": "completed"
    },
    "tags": []
   },
   "outputs": [
    {
     "data": {
      "text/plain": [
       "PosixPath('/home/miltondp/projects/labs/greenelab/phenoplier/base/data/phenomexcan/ld_blocks/multiplier_genes-pred_expression_corr_avg-gene_names.pkl')"
      ]
     },
     "metadata": {},
     "output_type": "display_data"
    }
   ],
   "source": [
    "output_file = conf.PHENOMEXCAN[\"LD_BLOCKS\"][EQTL_MODEL][\"GENE_NAMES_CORR_AVG\"]\n",
    "display(output_file)"
   ]
  },
  {
   "cell_type": "code",
   "execution_count": 51,
   "id": "1436a25d",
   "metadata": {
    "execution": {
     "iopub.execute_input": "2021-05-01T22:35:38.878390Z",
     "iopub.status.busy": "2021-05-01T22:35:38.878019Z",
     "iopub.status.idle": "2021-05-01T22:35:38.926172Z",
     "shell.execute_reply": "2021-05-01T22:35:38.925813Z"
    },
    "papermill": {
     "duration": 0.091892,
     "end_time": "2021-05-01T22:35:38.926268",
     "exception": false,
     "start_time": "2021-05-01T22:35:38.834376",
     "status": "completed"
    },
    "tags": []
   },
   "outputs": [],
   "source": [
    "gene_corrs_gene_names_df = gene_corrs_df.rename(\n",
    "    index=Gene.GENE_ID_TO_NAME_MAP, columns=Gene.GENE_ID_TO_NAME_MAP\n",
    ")"
   ]
  },
  {
   "cell_type": "code",
   "execution_count": 52,
   "id": "b2014f92",
   "metadata": {
    "execution": {
     "iopub.execute_input": "2021-05-01T22:35:39.014422Z",
     "iopub.status.busy": "2021-05-01T22:35:39.014044Z",
     "iopub.status.idle": "2021-05-01T22:35:39.023668Z",
     "shell.execute_reply": "2021-05-01T22:35:39.023286Z"
    },
    "papermill": {
     "duration": 0.054412,
     "end_time": "2021-05-01T22:35:39.023755",
     "exception": false,
     "start_time": "2021-05-01T22:35:38.969343",
     "status": "completed"
    },
    "tags": []
   },
   "outputs": [],
   "source": [
    "assert gene_corrs_gene_names_df.index.is_unique"
   ]
  },
  {
   "cell_type": "code",
   "execution_count": 53,
   "id": "1ced30b0",
   "metadata": {
    "execution": {
     "iopub.execute_input": "2021-05-01T22:35:39.111643Z",
     "iopub.status.busy": "2021-05-01T22:35:39.111283Z",
     "iopub.status.idle": "2021-05-01T22:35:39.120333Z",
     "shell.execute_reply": "2021-05-01T22:35:39.119966Z"
    },
    "papermill": {
     "duration": 0.05411,
     "end_time": "2021-05-01T22:35:39.120417",
     "exception": false,
     "start_time": "2021-05-01T22:35:39.066307",
     "status": "completed"
    },
    "tags": []
   },
   "outputs": [],
   "source": [
    "assert gene_corrs_gene_names_df.columns.is_unique"
   ]
  },
  {
   "cell_type": "code",
   "execution_count": 54,
   "id": "d9e18eab",
   "metadata": {
    "execution": {
     "iopub.execute_input": "2021-05-01T22:35:39.207574Z",
     "iopub.status.busy": "2021-05-01T22:35:39.207149Z",
     "iopub.status.idle": "2021-05-01T22:35:39.218612Z",
     "shell.execute_reply": "2021-05-01T22:35:39.218138Z"
    },
    "papermill": {
     "duration": 0.055806,
     "end_time": "2021-05-01T22:35:39.218719",
     "exception": false,
     "start_time": "2021-05-01T22:35:39.162913",
     "status": "completed"
    },
    "tags": []
   },
   "outputs": [
    {
     "data": {
      "text/plain": [
       "(6452, 6452)"
      ]
     },
     "execution_count": 54,
     "metadata": {},
     "output_type": "execute_result"
    }
   ],
   "source": [
    "gene_corrs_gene_names_df.shape"
   ]
  },
  {
   "cell_type": "code",
   "execution_count": 55,
   "id": "44e83e62",
   "metadata": {
    "execution": {
     "iopub.execute_input": "2021-05-01T22:35:39.311144Z",
     "iopub.status.busy": "2021-05-01T22:35:39.310765Z",
     "iopub.status.idle": "2021-05-01T22:35:39.365966Z",
     "shell.execute_reply": "2021-05-01T22:35:39.366315Z"
    },
    "papermill": {
     "duration": 0.100155,
     "end_time": "2021-05-01T22:35:39.366443",
     "exception": false,
     "start_time": "2021-05-01T22:35:39.266288",
     "status": "completed"
    },
    "tags": []
   },
   "outputs": [
    {
     "data": {
      "text/html": [
       "<div>\n",
       "<style scoped>\n",
       "    .dataframe tbody tr th:only-of-type {\n",
       "        vertical-align: middle;\n",
       "    }\n",
       "\n",
       "    .dataframe tbody tr th {\n",
       "        vertical-align: top;\n",
       "    }\n",
       "\n",
       "    .dataframe thead th {\n",
       "        text-align: right;\n",
       "    }\n",
       "</style>\n",
       "<table border=\"1\" class=\"dataframe\">\n",
       "  <thead>\n",
       "    <tr style=\"text-align: right;\">\n",
       "      <th>id</th>\n",
       "      <th>GAS6</th>\n",
       "      <th>MMP14</th>\n",
       "      <th>DSP</th>\n",
       "      <th>MARCKSL1</th>\n",
       "      <th>SPARC</th>\n",
       "      <th>CTSD</th>\n",
       "      <th>EPAS1</th>\n",
       "      <th>PALLD</th>\n",
       "      <th>PHC2</th>\n",
       "      <th>LGALS3BP</th>\n",
       "      <th>...</th>\n",
       "      <th>LDHB</th>\n",
       "      <th>LDHC</th>\n",
       "      <th>ACAP2</th>\n",
       "      <th>ACAP3</th>\n",
       "      <th>CFL2</th>\n",
       "      <th>CFL1</th>\n",
       "      <th>NFIB</th>\n",
       "      <th>PLEKHG6</th>\n",
       "      <th>GNGT2</th>\n",
       "      <th>SERPINH1</th>\n",
       "    </tr>\n",
       "    <tr>\n",
       "      <th>id</th>\n",
       "      <th></th>\n",
       "      <th></th>\n",
       "      <th></th>\n",
       "      <th></th>\n",
       "      <th></th>\n",
       "      <th></th>\n",
       "      <th></th>\n",
       "      <th></th>\n",
       "      <th></th>\n",
       "      <th></th>\n",
       "      <th></th>\n",
       "      <th></th>\n",
       "      <th></th>\n",
       "      <th></th>\n",
       "      <th></th>\n",
       "      <th></th>\n",
       "      <th></th>\n",
       "      <th></th>\n",
       "      <th></th>\n",
       "      <th></th>\n",
       "      <th></th>\n",
       "    </tr>\n",
       "  </thead>\n",
       "  <tbody>\n",
       "    <tr>\n",
       "      <th>GAS6</th>\n",
       "      <td>1.0</td>\n",
       "      <td>0.0</td>\n",
       "      <td>0.0</td>\n",
       "      <td>0.0</td>\n",
       "      <td>0.0</td>\n",
       "      <td>0.0</td>\n",
       "      <td>0.0</td>\n",
       "      <td>0.0</td>\n",
       "      <td>0.000000</td>\n",
       "      <td>0.0</td>\n",
       "      <td>...</td>\n",
       "      <td>0.0</td>\n",
       "      <td>0.0</td>\n",
       "      <td>0.0</td>\n",
       "      <td>0.000000</td>\n",
       "      <td>0.000000</td>\n",
       "      <td>0.0</td>\n",
       "      <td>0.0</td>\n",
       "      <td>0.0</td>\n",
       "      <td>0.0</td>\n",
       "      <td>0.0</td>\n",
       "    </tr>\n",
       "    <tr>\n",
       "      <th>MMP14</th>\n",
       "      <td>0.0</td>\n",
       "      <td>1.0</td>\n",
       "      <td>0.0</td>\n",
       "      <td>0.0</td>\n",
       "      <td>0.0</td>\n",
       "      <td>0.0</td>\n",
       "      <td>0.0</td>\n",
       "      <td>0.0</td>\n",
       "      <td>0.000000</td>\n",
       "      <td>0.0</td>\n",
       "      <td>...</td>\n",
       "      <td>0.0</td>\n",
       "      <td>0.0</td>\n",
       "      <td>0.0</td>\n",
       "      <td>0.000000</td>\n",
       "      <td>-0.000683</td>\n",
       "      <td>0.0</td>\n",
       "      <td>0.0</td>\n",
       "      <td>0.0</td>\n",
       "      <td>0.0</td>\n",
       "      <td>0.0</td>\n",
       "    </tr>\n",
       "    <tr>\n",
       "      <th>DSP</th>\n",
       "      <td>0.0</td>\n",
       "      <td>0.0</td>\n",
       "      <td>1.0</td>\n",
       "      <td>0.0</td>\n",
       "      <td>0.0</td>\n",
       "      <td>0.0</td>\n",
       "      <td>0.0</td>\n",
       "      <td>0.0</td>\n",
       "      <td>0.000000</td>\n",
       "      <td>0.0</td>\n",
       "      <td>...</td>\n",
       "      <td>0.0</td>\n",
       "      <td>0.0</td>\n",
       "      <td>0.0</td>\n",
       "      <td>0.000000</td>\n",
       "      <td>0.000000</td>\n",
       "      <td>0.0</td>\n",
       "      <td>0.0</td>\n",
       "      <td>0.0</td>\n",
       "      <td>0.0</td>\n",
       "      <td>0.0</td>\n",
       "    </tr>\n",
       "    <tr>\n",
       "      <th>MARCKSL1</th>\n",
       "      <td>0.0</td>\n",
       "      <td>0.0</td>\n",
       "      <td>0.0</td>\n",
       "      <td>1.0</td>\n",
       "      <td>0.0</td>\n",
       "      <td>0.0</td>\n",
       "      <td>0.0</td>\n",
       "      <td>0.0</td>\n",
       "      <td>-0.001079</td>\n",
       "      <td>0.0</td>\n",
       "      <td>...</td>\n",
       "      <td>0.0</td>\n",
       "      <td>0.0</td>\n",
       "      <td>0.0</td>\n",
       "      <td>-0.000171</td>\n",
       "      <td>0.000000</td>\n",
       "      <td>0.0</td>\n",
       "      <td>0.0</td>\n",
       "      <td>0.0</td>\n",
       "      <td>0.0</td>\n",
       "      <td>0.0</td>\n",
       "    </tr>\n",
       "    <tr>\n",
       "      <th>SPARC</th>\n",
       "      <td>0.0</td>\n",
       "      <td>0.0</td>\n",
       "      <td>0.0</td>\n",
       "      <td>0.0</td>\n",
       "      <td>1.0</td>\n",
       "      <td>0.0</td>\n",
       "      <td>0.0</td>\n",
       "      <td>0.0</td>\n",
       "      <td>0.000000</td>\n",
       "      <td>0.0</td>\n",
       "      <td>...</td>\n",
       "      <td>0.0</td>\n",
       "      <td>0.0</td>\n",
       "      <td>0.0</td>\n",
       "      <td>0.000000</td>\n",
       "      <td>0.000000</td>\n",
       "      <td>0.0</td>\n",
       "      <td>0.0</td>\n",
       "      <td>0.0</td>\n",
       "      <td>0.0</td>\n",
       "      <td>0.0</td>\n",
       "    </tr>\n",
       "  </tbody>\n",
       "</table>\n",
       "<p>5 rows × 6452 columns</p>\n",
       "</div>"
      ],
      "text/plain": [
       "id        GAS6  MMP14  DSP  MARCKSL1  SPARC  CTSD  EPAS1  PALLD      PHC2  \\\n",
       "id                                                                          \n",
       "GAS6       1.0    0.0  0.0       0.0    0.0   0.0    0.0    0.0  0.000000   \n",
       "MMP14      0.0    1.0  0.0       0.0    0.0   0.0    0.0    0.0  0.000000   \n",
       "DSP        0.0    0.0  1.0       0.0    0.0   0.0    0.0    0.0  0.000000   \n",
       "MARCKSL1   0.0    0.0  0.0       1.0    0.0   0.0    0.0    0.0 -0.001079   \n",
       "SPARC      0.0    0.0  0.0       0.0    1.0   0.0    0.0    0.0  0.000000   \n",
       "\n",
       "id        LGALS3BP  ...  LDHB  LDHC  ACAP2     ACAP3      CFL2  CFL1  NFIB  \\\n",
       "id                  ...                                                      \n",
       "GAS6           0.0  ...   0.0   0.0    0.0  0.000000  0.000000   0.0   0.0   \n",
       "MMP14          0.0  ...   0.0   0.0    0.0  0.000000 -0.000683   0.0   0.0   \n",
       "DSP            0.0  ...   0.0   0.0    0.0  0.000000  0.000000   0.0   0.0   \n",
       "MARCKSL1       0.0  ...   0.0   0.0    0.0 -0.000171  0.000000   0.0   0.0   \n",
       "SPARC          0.0  ...   0.0   0.0    0.0  0.000000  0.000000   0.0   0.0   \n",
       "\n",
       "id        PLEKHG6  GNGT2  SERPINH1  \n",
       "id                                  \n",
       "GAS6          0.0    0.0       0.0  \n",
       "MMP14         0.0    0.0       0.0  \n",
       "DSP           0.0    0.0       0.0  \n",
       "MARCKSL1      0.0    0.0       0.0  \n",
       "SPARC         0.0    0.0       0.0  \n",
       "\n",
       "[5 rows x 6452 columns]"
      ]
     },
     "execution_count": 55,
     "metadata": {},
     "output_type": "execute_result"
    }
   ],
   "source": [
    "gene_corrs_gene_names_df.head()"
   ]
  },
  {
   "cell_type": "code",
   "execution_count": 56,
   "id": "04ec6c52",
   "metadata": {
    "execution": {
     "iopub.execute_input": "2021-05-01T22:35:39.463614Z",
     "iopub.status.busy": "2021-05-01T22:35:39.463257Z",
     "iopub.status.idle": "2021-05-01T22:35:39.634748Z",
     "shell.execute_reply": "2021-05-01T22:35:39.635092Z"
    },
    "papermill": {
     "duration": 0.217313,
     "end_time": "2021-05-01T22:35:39.635218",
     "exception": false,
     "start_time": "2021-05-01T22:35:39.417905",
     "status": "completed"
    },
    "tags": []
   },
   "outputs": [],
   "source": [
    "gene_corrs_gene_names_df.to_pickle(output_file)"
   ]
  },
  {
   "cell_type": "code",
   "execution_count": null,
   "id": "38cf09b7",
   "metadata": {
    "papermill": {
     "duration": 0.042299,
     "end_time": "2021-05-01T22:35:39.726538",
     "exception": false,
     "start_time": "2021-05-01T22:35:39.684239",
     "status": "completed"
    },
    "tags": []
   },
   "outputs": [],
   "source": []
  }
 ],
 "metadata": {
  "jupytext": {
   "cell_metadata_filter": "all,-execution,-papermill,-trusted",
   "formats": "ipynb,py//py:percent"
  },
  "kernelspec": {
   "display_name": "Python 3 (ipykernel)",
   "language": "python",
   "name": "python3"
  },
  "language_info": {
   "codemirror_mode": {
    "name": "ipython",
    "version": 3
   },
   "file_extension": ".py",
   "mimetype": "text/x-python",
   "name": "python",
   "nbconvert_exporter": "python",
   "pygments_lexer": "ipython3",
   "version": "3.8.12"
  },
  "papermill": {
   "default_parameters": {},
   "duration": 22.074681,
   "end_time": "2021-05-01T22:35:40.075117",
   "environment_variables": {},
   "exception": null,
   "input_path": "08_gsa_gls/15-preprocess_gene_expr_correlations.ipynb",
   "output_path": "08_gsa_gls/15-preprocess_gene_expr_correlations.run.ipynb",
   "parameters": {},
   "start_time": "2021-05-01T22:35:18.000436",
   "version": "2.2.2"
  }
 },
 "nbformat": 4,
 "nbformat_minor": 5
}
