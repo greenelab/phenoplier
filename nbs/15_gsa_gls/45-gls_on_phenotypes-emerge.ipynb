{
 "cells": [
  {
   "cell_type": "markdown",
   "id": "ready-workshop",
   "metadata": {
    "papermill": {
     "duration": 0.02489,
     "end_time": "2021-07-20T02:19:57.504042",
     "exception": false,
     "start_time": "2021-07-20T02:19:57.479152",
     "status": "completed"
    },
    "tags": []
   },
   "source": [
    "# Description"
   ]
  },
  {
   "cell_type": "markdown",
   "id": "arabic-leave",
   "metadata": {
    "papermill": {
     "duration": 0.021297,
     "end_time": "2021-07-20T02:19:57.546531",
     "exception": false,
     "start_time": "2021-07-20T02:19:57.525234",
     "status": "completed"
    },
    "tags": []
   },
   "source": [
    "This notebook is similar to `30-gls_on_phenotypes-phenomexcan.ipynb` but for eMERGE S-MultiXcan results instead of PhenomeXcan.\n",
    "\n",
    "Since we don't have partition/clusters of eMERGE results, we selected the same set of LVs from the run on PhenomeXcan (`30-gls_on_phenotypes-phenomexcan.ipynb`); and regarding traits, we take the top 20 traits from each LVs to create a list of trait/LVs pairs to run GLSPhenoplier on."
   ]
  },
  {
   "cell_type": "markdown",
   "id": "tropical-forum",
   "metadata": {
    "papermill": {
     "duration": 0.021066,
     "end_time": "2021-07-20T02:19:57.588678",
     "exception": false,
     "start_time": "2021-07-20T02:19:57.567612",
     "status": "completed"
    },
    "tags": []
   },
   "source": [
    "# Environment variables"
   ]
  },
  {
   "cell_type": "code",
   "execution_count": 1,
   "id": "liquid-potato",
   "metadata": {
    "execution": {
     "iopub.execute_input": "2021-07-20T02:19:57.636029Z",
     "iopub.status.busy": "2021-07-20T02:19:57.635656Z",
     "iopub.status.idle": "2021-07-20T02:19:57.642896Z",
     "shell.execute_reply": "2021-07-20T02:19:57.642459Z"
    },
    "papermill": {
     "duration": 0.033489,
     "end_time": "2021-07-20T02:19:57.642993",
     "exception": false,
     "start_time": "2021-07-20T02:19:57.609504",
     "status": "completed"
    },
    "tags": []
   },
   "outputs": [],
   "source": [
    "%load_ext autoreload\n",
    "%autoreload 2"
   ]
  },
  {
   "cell_type": "code",
   "execution_count": 2,
   "id": "following-lebanon",
   "metadata": {
    "execution": {
     "iopub.execute_input": "2021-07-20T02:19:57.689508Z",
     "iopub.status.busy": "2021-07-20T02:19:57.689149Z",
     "iopub.status.idle": "2021-07-20T02:19:57.698985Z",
     "shell.execute_reply": "2021-07-20T02:19:57.698604Z"
    },
    "papermill": {
     "duration": 0.033744,
     "end_time": "2021-07-20T02:19:57.699072",
     "exception": false,
     "start_time": "2021-07-20T02:19:57.665328",
     "status": "completed"
    },
    "tags": []
   },
   "outputs": [],
   "source": [
    "import conf"
   ]
  },
  {
   "cell_type": "code",
   "execution_count": 3,
   "id": "diverse-grave",
   "metadata": {
    "execution": {
     "iopub.execute_input": "2021-07-20T02:19:57.744759Z",
     "iopub.status.busy": "2021-07-20T02:19:57.744355Z",
     "iopub.status.idle": "2021-07-20T02:19:57.754471Z",
     "shell.execute_reply": "2021-07-20T02:19:57.754119Z"
    },
    "papermill": {
     "duration": 0.0338,
     "end_time": "2021-07-20T02:19:57.754550",
     "exception": false,
     "start_time": "2021-07-20T02:19:57.720750",
     "status": "completed"
    },
    "tags": []
   },
   "outputs": [
    {
     "data": {
      "text/plain": [
       "3"
      ]
     },
     "metadata": {},
     "output_type": "display_data"
    }
   ],
   "source": [
    "N_JOBS = conf.GENERAL[\"N_JOBS\"]\n",
    "display(N_JOBS)"
   ]
  },
  {
   "cell_type": "code",
   "execution_count": 4,
   "id": "reverse-bottom",
   "metadata": {
    "execution": {
     "iopub.execute_input": "2021-07-20T02:19:57.801100Z",
     "iopub.status.busy": "2021-07-20T02:19:57.800666Z",
     "iopub.status.idle": "2021-07-20T02:19:57.807197Z",
     "shell.execute_reply": "2021-07-20T02:19:57.806840Z"
    },
    "papermill": {
     "duration": 0.031462,
     "end_time": "2021-07-20T02:19:57.807279",
     "exception": false,
     "start_time": "2021-07-20T02:19:57.775817",
     "status": "completed"
    },
    "tags": []
   },
   "outputs": [
    {
     "name": "stdout",
     "output_type": "stream",
     "text": [
      "env: MKL_NUM_THREADS=3\n",
      "env: OPEN_BLAS_NUM_THREADS=3\n",
      "env: NUMEXPR_NUM_THREADS=3\n",
      "env: OMP_NUM_THREADS=3\n"
     ]
    }
   ],
   "source": [
    "%env MKL_NUM_THREADS=$N_JOBS\n",
    "%env OPEN_BLAS_NUM_THREADS=$N_JOBS\n",
    "%env NUMEXPR_NUM_THREADS=$N_JOBS\n",
    "%env OMP_NUM_THREADS=$N_JOBS"
   ]
  },
  {
   "cell_type": "markdown",
   "id": "seven-partition",
   "metadata": {
    "papermill": {
     "duration": 0.021335,
     "end_time": "2021-07-20T02:19:57.850392",
     "exception": false,
     "start_time": "2021-07-20T02:19:57.829057",
     "status": "completed"
    },
    "tags": []
   },
   "source": [
    "# Modules"
   ]
  },
  {
   "cell_type": "code",
   "execution_count": 5,
   "id": "arbitrary-allergy",
   "metadata": {
    "execution": {
     "iopub.execute_input": "2021-07-20T02:19:57.896325Z",
     "iopub.status.busy": "2021-07-20T02:19:57.895969Z",
     "iopub.status.idle": "2021-07-20T02:19:58.655699Z",
     "shell.execute_reply": "2021-07-20T02:19:58.655329Z"
    },
    "papermill": {
     "duration": 0.784066,
     "end_time": "2021-07-20T02:19:58.655795",
     "exception": false,
     "start_time": "2021-07-20T02:19:57.871729",
     "status": "completed"
    },
    "tags": []
   },
   "outputs": [],
   "source": [
    "from pathlib import Path\n",
    "\n",
    "import statsmodels.api as sm\n",
    "import numpy as np\n",
    "import pandas as pd\n",
    "from sklearn.preprocessing import scale\n",
    "from tqdm import tqdm\n",
    "\n",
    "from gls import GLSPhenoplier"
   ]
  },
  {
   "cell_type": "markdown",
   "id": "signal-ordinary",
   "metadata": {
    "papermill": {
     "duration": 0.022904,
     "end_time": "2021-07-20T02:19:58.702894",
     "exception": false,
     "start_time": "2021-07-20T02:19:58.679990",
     "status": "completed"
    },
    "tags": []
   },
   "source": [
    "# Settings"
   ]
  },
  {
   "cell_type": "code",
   "execution_count": 6,
   "id": "otherwise-prize",
   "metadata": {
    "execution": {
     "iopub.execute_input": "2021-07-20T02:19:58.748736Z",
     "iopub.status.busy": "2021-07-20T02:19:58.748346Z",
     "iopub.status.idle": "2021-07-20T02:19:58.758459Z",
     "shell.execute_reply": "2021-07-20T02:19:58.758729Z"
    },
    "papermill": {
     "duration": 0.03408,
     "end_time": "2021-07-20T02:19:58.758833",
     "exception": false,
     "start_time": "2021-07-20T02:19:58.724753",
     "status": "completed"
    },
    "tags": []
   },
   "outputs": [],
   "source": [
    "N_TOP_TRAITS_FROM_LV = 20"
   ]
  },
  {
   "cell_type": "code",
   "execution_count": 7,
   "id": "focal-summary",
   "metadata": {
    "execution": {
     "iopub.execute_input": "2021-07-20T02:19:58.805440Z",
     "iopub.status.busy": "2021-07-20T02:19:58.805084Z",
     "iopub.status.idle": "2021-07-20T02:19:58.816528Z",
     "shell.execute_reply": "2021-07-20T02:19:58.816155Z"
    },
    "papermill": {
     "duration": 0.035471,
     "end_time": "2021-07-20T02:19:58.816612",
     "exception": false,
     "start_time": "2021-07-20T02:19:58.781141",
     "status": "completed"
    },
    "tags": []
   },
   "outputs": [
    {
     "data": {
      "text/plain": [
       "PosixPath('/home/miltondp/projects/labs/greenelab/phenoplier/base/results/gls')"
      ]
     },
     "metadata": {},
     "output_type": "display_data"
    }
   ],
   "source": [
    "OUTPUT_DIR = conf.RESULTS[\"GLS\"]\n",
    "display(OUTPUT_DIR)\n",
    "\n",
    "OUTPUT_DIR.mkdir(exist_ok=True, parents=True)"
   ]
  },
  {
   "cell_type": "code",
   "execution_count": 8,
   "id": "referenced-venezuela",
   "metadata": {
    "execution": {
     "iopub.execute_input": "2021-07-20T02:19:58.864265Z",
     "iopub.status.busy": "2021-07-20T02:19:58.863896Z",
     "iopub.status.idle": "2021-07-20T02:19:58.875579Z",
     "shell.execute_reply": "2021-07-20T02:19:58.875212Z"
    },
    "papermill": {
     "duration": 0.035804,
     "end_time": "2021-07-20T02:19:58.875662",
     "exception": false,
     "start_time": "2021-07-20T02:19:58.839858",
     "status": "completed"
    },
    "tags": []
   },
   "outputs": [
    {
     "data": {
      "text/plain": [
       "PosixPath('/home/miltondp/projects/labs/greenelab/phenoplier/base/results/gls/gls_phenotypes-emerge.pkl')"
      ]
     },
     "metadata": {},
     "output_type": "display_data"
    }
   ],
   "source": [
    "OUTPUT_FILENAME = OUTPUT_DIR / \"gls_phenotypes-emerge.pkl\"\n",
    "display(OUTPUT_FILENAME)"
   ]
  },
  {
   "cell_type": "markdown",
   "id": "hired-warehouse",
   "metadata": {
    "papermill": {
     "duration": 0.021672,
     "end_time": "2021-07-20T02:19:58.920413",
     "exception": false,
     "start_time": "2021-07-20T02:19:58.898741",
     "status": "completed"
    },
    "tags": []
   },
   "source": [
    "# Load data"
   ]
  },
  {
   "cell_type": "markdown",
   "id": "continued-saturday",
   "metadata": {
    "papermill": {
     "duration": 0.022062,
     "end_time": "2021-07-20T02:19:58.964574",
     "exception": false,
     "start_time": "2021-07-20T02:19:58.942512",
     "status": "completed"
    },
    "tags": []
   },
   "source": [
    "## eMERGE traits info"
   ]
  },
  {
   "cell_type": "code",
   "execution_count": 9,
   "id": "cordless-gallery",
   "metadata": {
    "execution": {
     "iopub.execute_input": "2021-07-20T02:19:59.011460Z",
     "iopub.status.busy": "2021-07-20T02:19:59.011093Z",
     "iopub.status.idle": "2021-07-20T02:19:59.022681Z",
     "shell.execute_reply": "2021-07-20T02:19:59.022317Z"
    },
    "papermill": {
     "duration": 0.035964,
     "end_time": "2021-07-20T02:19:59.022763",
     "exception": false,
     "start_time": "2021-07-20T02:19:58.986799",
     "status": "completed"
    },
    "tags": []
   },
   "outputs": [
    {
     "data": {
      "text/plain": [
       "PosixPath('/home/miltondp/projects/labs/greenelab/phenoplier/base/data/emerge/eMERGE_III_PMBB_GSA_v2_2020_phecode_AFR_EUR_cc50_counts_w_dictionary.txt')"
      ]
     },
     "metadata": {},
     "output_type": "display_data"
    }
   ],
   "source": [
    "# FIXME: in the future, there will be a specific entry in config for the eMERGE directory that should be replaced here\n",
    "input_filepath = Path(\n",
    "    conf.DATA_DIR,\n",
    "    \"emerge\",\n",
    "    \"eMERGE_III_PMBB_GSA_v2_2020_phecode_AFR_EUR_cc50_counts_w_dictionary.txt\",\n",
    ").resolve()\n",
    "display(input_filepath)"
   ]
  },
  {
   "cell_type": "code",
   "execution_count": 10,
   "id": "choice-heater",
   "metadata": {
    "execution": {
     "iopub.execute_input": "2021-07-20T02:19:59.071432Z",
     "iopub.status.busy": "2021-07-20T02:19:59.071050Z",
     "iopub.status.idle": "2021-07-20T02:19:59.083650Z",
     "shell.execute_reply": "2021-07-20T02:19:59.083264Z"
    },
    "papermill": {
     "duration": 0.037999,
     "end_time": "2021-07-20T02:19:59.083736",
     "exception": false,
     "start_time": "2021-07-20T02:19:59.045737",
     "status": "completed"
    },
    "tags": []
   },
   "outputs": [],
   "source": [
    "emerge_traits_df = pd.read_csv(\n",
    "    input_filepath,\n",
    "    sep=\"\\t\",\n",
    "    dtype={\"phecode\": str},\n",
    "    usecols=[\"phecode\", \"phenotype\", \"category\"],\n",
    ")"
   ]
  },
  {
   "cell_type": "code",
   "execution_count": 11,
   "id": "swedish-transition",
   "metadata": {
    "execution": {
     "iopub.execute_input": "2021-07-20T02:19:59.132168Z",
     "iopub.status.busy": "2021-07-20T02:19:59.131786Z",
     "iopub.status.idle": "2021-07-20T02:19:59.142356Z",
     "shell.execute_reply": "2021-07-20T02:19:59.142635Z"
    },
    "papermill": {
     "duration": 0.035748,
     "end_time": "2021-07-20T02:19:59.142742",
     "exception": false,
     "start_time": "2021-07-20T02:19:59.106994",
     "status": "completed"
    },
    "tags": []
   },
   "outputs": [],
   "source": [
    "emerge_traits_df = emerge_traits_df.rename(\n",
    "    columns={\n",
    "        \"phenotype\": \"phecode_phenotype\",\n",
    "        \"category\": \"phecode_category\",\n",
    "    }\n",
    ")"
   ]
  },
  {
   "cell_type": "code",
   "execution_count": 12,
   "id": "accredited-induction",
   "metadata": {
    "execution": {
     "iopub.execute_input": "2021-07-20T02:19:59.190358Z",
     "iopub.status.busy": "2021-07-20T02:19:59.190002Z",
     "iopub.status.idle": "2021-07-20T02:19:59.201266Z",
     "shell.execute_reply": "2021-07-20T02:19:59.200927Z"
    },
    "papermill": {
     "duration": 0.035956,
     "end_time": "2021-07-20T02:19:59.201350",
     "exception": false,
     "start_time": "2021-07-20T02:19:59.165394",
     "status": "completed"
    },
    "tags": []
   },
   "outputs": [
    {
     "data": {
      "text/plain": [
       "(309, 3)"
      ]
     },
     "execution_count": 12,
     "metadata": {},
     "output_type": "execute_result"
    }
   ],
   "source": [
    "emerge_traits_df.shape"
   ]
  },
  {
   "cell_type": "code",
   "execution_count": 13,
   "id": "deadly-burst",
   "metadata": {
    "execution": {
     "iopub.execute_input": "2021-07-20T02:19:59.249799Z",
     "iopub.status.busy": "2021-07-20T02:19:59.249433Z",
     "iopub.status.idle": "2021-07-20T02:19:59.264097Z",
     "shell.execute_reply": "2021-07-20T02:19:59.263714Z"
    },
    "papermill": {
     "duration": 0.039443,
     "end_time": "2021-07-20T02:19:59.264187",
     "exception": false,
     "start_time": "2021-07-20T02:19:59.224744",
     "status": "completed"
    },
    "tags": []
   },
   "outputs": [
    {
     "data": {
      "text/html": [
       "<div>\n",
       "<style scoped>\n",
       "    .dataframe tbody tr th:only-of-type {\n",
       "        vertical-align: middle;\n",
       "    }\n",
       "\n",
       "    .dataframe tbody tr th {\n",
       "        vertical-align: top;\n",
       "    }\n",
       "\n",
       "    .dataframe thead th {\n",
       "        text-align: right;\n",
       "    }\n",
       "</style>\n",
       "<table border=\"1\" class=\"dataframe\">\n",
       "  <thead>\n",
       "    <tr style=\"text-align: right;\">\n",
       "      <th></th>\n",
       "      <th>phecode</th>\n",
       "      <th>phecode_phenotype</th>\n",
       "      <th>phecode_category</th>\n",
       "    </tr>\n",
       "  </thead>\n",
       "  <tbody>\n",
       "    <tr>\n",
       "      <th>0</th>\n",
       "      <td>008</td>\n",
       "      <td>Intestinal infection</td>\n",
       "      <td>infectious diseases</td>\n",
       "    </tr>\n",
       "    <tr>\n",
       "      <th>1</th>\n",
       "      <td>008.5</td>\n",
       "      <td>Bacterial enteritis</td>\n",
       "      <td>infectious diseases</td>\n",
       "    </tr>\n",
       "    <tr>\n",
       "      <th>2</th>\n",
       "      <td>008.52</td>\n",
       "      <td>Intestinal infection due to C. difficile</td>\n",
       "      <td>infectious diseases</td>\n",
       "    </tr>\n",
       "    <tr>\n",
       "      <th>3</th>\n",
       "      <td>038</td>\n",
       "      <td>Septicemia</td>\n",
       "      <td>infectious diseases</td>\n",
       "    </tr>\n",
       "    <tr>\n",
       "      <th>4</th>\n",
       "      <td>038.3</td>\n",
       "      <td>Bacteremia</td>\n",
       "      <td>infectious diseases</td>\n",
       "    </tr>\n",
       "  </tbody>\n",
       "</table>\n",
       "</div>"
      ],
      "text/plain": [
       "  phecode                         phecode_phenotype     phecode_category\n",
       "0     008                      Intestinal infection  infectious diseases\n",
       "1   008.5                       Bacterial enteritis  infectious diseases\n",
       "2  008.52  Intestinal infection due to C. difficile  infectious diseases\n",
       "3     038                                Septicemia  infectious diseases\n",
       "4   038.3                                Bacteremia  infectious diseases"
      ]
     },
     "execution_count": 13,
     "metadata": {},
     "output_type": "execute_result"
    }
   ],
   "source": [
    "emerge_traits_df.head()"
   ]
  },
  {
   "cell_type": "markdown",
   "id": "challenging-visitor",
   "metadata": {
    "papermill": {
     "duration": 0.023958,
     "end_time": "2021-07-20T02:19:59.688261",
     "exception": false,
     "start_time": "2021-07-20T02:19:59.664303",
     "status": "completed"
    },
    "tags": []
   },
   "source": [
    "## eMERGE (S-MultiXcan) projection"
   ]
  },
  {
   "cell_type": "code",
   "execution_count": 19,
   "id": "instant-oxygen",
   "metadata": {
    "execution": {
     "iopub.execute_input": "2021-07-20T02:19:59.739081Z",
     "iopub.status.busy": "2021-07-20T02:19:59.738722Z",
     "iopub.status.idle": "2021-07-20T02:19:59.750369Z",
     "shell.execute_reply": "2021-07-20T02:19:59.749997Z"
    },
    "papermill": {
     "duration": 0.037866,
     "end_time": "2021-07-20T02:19:59.750453",
     "exception": false,
     "start_time": "2021-07-20T02:19:59.712587",
     "status": "completed"
    },
    "tags": []
   },
   "outputs": [
    {
     "data": {
      "text/plain": [
       "PosixPath('/home/miltondp/projects/labs/greenelab/phenoplier/base/results/projections/projection-emerge-smultixcan-mashr-zscores.pkl')"
      ]
     },
     "metadata": {},
     "output_type": "display_data"
    }
   ],
   "source": [
    "input_filepath = Path(\n",
    "    conf.RESULTS[\"PROJECTIONS_DIR\"],\n",
    "    \"projection-emerge-smultixcan-mashr-zscores.pkl\",\n",
    ").resolve()\n",
    "display(input_filepath)"
   ]
  },
  {
   "cell_type": "code",
   "execution_count": 20,
   "id": "victorian-blues",
   "metadata": {
    "execution": {
     "iopub.execute_input": "2021-07-20T02:19:59.803101Z",
     "iopub.status.busy": "2021-07-20T02:19:59.802735Z",
     "iopub.status.idle": "2021-07-20T02:19:59.814793Z",
     "shell.execute_reply": "2021-07-20T02:19:59.815096Z"
    },
    "papermill": {
     "duration": 0.039243,
     "end_time": "2021-07-20T02:19:59.815202",
     "exception": false,
     "start_time": "2021-07-20T02:19:59.775959",
     "status": "completed"
    },
    "tags": []
   },
   "outputs": [],
   "source": [
    "emerge_projection = pd.read_pickle(input_filepath)"
   ]
  },
  {
   "cell_type": "code",
   "execution_count": 21,
   "id": "conditional-gentleman",
   "metadata": {
    "execution": {
     "iopub.execute_input": "2021-07-20T02:19:59.866895Z",
     "iopub.status.busy": "2021-07-20T02:19:59.866530Z",
     "iopub.status.idle": "2021-07-20T02:19:59.877764Z",
     "shell.execute_reply": "2021-07-20T02:19:59.877397Z"
    },
    "papermill": {
     "duration": 0.037819,
     "end_time": "2021-07-20T02:19:59.877849",
     "exception": false,
     "start_time": "2021-07-20T02:19:59.840030",
     "status": "completed"
    },
    "tags": []
   },
   "outputs": [
    {
     "data": {
      "text/plain": [
       "(987, 309)"
      ]
     },
     "execution_count": 21,
     "metadata": {},
     "output_type": "execute_result"
    }
   ],
   "source": [
    "emerge_projection.shape"
   ]
  },
  {
   "cell_type": "code",
   "execution_count": 22,
   "id": "naval-rebound",
   "metadata": {
    "execution": {
     "iopub.execute_input": "2021-07-20T02:19:59.930608Z",
     "iopub.status.busy": "2021-07-20T02:19:59.930254Z",
     "iopub.status.idle": "2021-07-20T02:19:59.953349Z",
     "shell.execute_reply": "2021-07-20T02:19:59.953010Z"
    },
    "papermill": {
     "duration": 0.050443,
     "end_time": "2021-07-20T02:19:59.953436",
     "exception": false,
     "start_time": "2021-07-20T02:19:59.902993",
     "status": "completed"
    },
    "tags": []
   },
   "outputs": [
    {
     "data": {
      "text/html": [
       "<div>\n",
       "<style scoped>\n",
       "    .dataframe tbody tr th:only-of-type {\n",
       "        vertical-align: middle;\n",
       "    }\n",
       "\n",
       "    .dataframe tbody tr th {\n",
       "        vertical-align: top;\n",
       "    }\n",
       "\n",
       "    .dataframe thead th {\n",
       "        text-align: right;\n",
       "    }\n",
       "</style>\n",
       "<table border=\"1\" class=\"dataframe\">\n",
       "  <thead>\n",
       "    <tr style=\"text-align: right;\">\n",
       "      <th></th>\n",
       "      <th>292.3</th>\n",
       "      <th>079</th>\n",
       "      <th>741</th>\n",
       "      <th>418.1</th>\n",
       "      <th>280</th>\n",
       "      <th>747</th>\n",
       "      <th>591</th>\n",
       "      <th>426.21</th>\n",
       "      <th>244</th>\n",
       "      <th>070.3</th>\n",
       "      <th>...</th>\n",
       "      <th>427</th>\n",
       "      <th>585.4</th>\n",
       "      <th>345</th>\n",
       "      <th>366.2</th>\n",
       "      <th>420.2</th>\n",
       "      <th>195</th>\n",
       "      <th>250.2</th>\n",
       "      <th>250.1</th>\n",
       "      <th>371</th>\n",
       "      <th>562</th>\n",
       "    </tr>\n",
       "  </thead>\n",
       "  <tbody>\n",
       "    <tr>\n",
       "      <th>LV1</th>\n",
       "      <td>0.055748</td>\n",
       "      <td>-0.019274</td>\n",
       "      <td>0.024491</td>\n",
       "      <td>0.012926</td>\n",
       "      <td>-0.026501</td>\n",
       "      <td>-0.043919</td>\n",
       "      <td>0.025264</td>\n",
       "      <td>-0.053251</td>\n",
       "      <td>0.043269</td>\n",
       "      <td>0.002465</td>\n",
       "      <td>...</td>\n",
       "      <td>-0.031739</td>\n",
       "      <td>0.014192</td>\n",
       "      <td>0.008710</td>\n",
       "      <td>-0.024261</td>\n",
       "      <td>-0.004780</td>\n",
       "      <td>0.057256</td>\n",
       "      <td>0.059702</td>\n",
       "      <td>0.036648</td>\n",
       "      <td>-0.022040</td>\n",
       "      <td>0.034427</td>\n",
       "    </tr>\n",
       "    <tr>\n",
       "      <th>LV2</th>\n",
       "      <td>-0.045630</td>\n",
       "      <td>-0.008570</td>\n",
       "      <td>0.040969</td>\n",
       "      <td>-0.016198</td>\n",
       "      <td>-0.032321</td>\n",
       "      <td>-0.017629</td>\n",
       "      <td>0.009238</td>\n",
       "      <td>-0.011634</td>\n",
       "      <td>-0.005854</td>\n",
       "      <td>0.033497</td>\n",
       "      <td>...</td>\n",
       "      <td>0.019678</td>\n",
       "      <td>0.040569</td>\n",
       "      <td>-0.009344</td>\n",
       "      <td>-0.012921</td>\n",
       "      <td>-0.055292</td>\n",
       "      <td>0.003193</td>\n",
       "      <td>0.013844</td>\n",
       "      <td>0.008327</td>\n",
       "      <td>0.004302</td>\n",
       "      <td>0.035154</td>\n",
       "    </tr>\n",
       "    <tr>\n",
       "      <th>LV3</th>\n",
       "      <td>0.025341</td>\n",
       "      <td>-0.059962</td>\n",
       "      <td>-0.027354</td>\n",
       "      <td>-0.033864</td>\n",
       "      <td>0.009571</td>\n",
       "      <td>0.023318</td>\n",
       "      <td>-0.003872</td>\n",
       "      <td>0.001095</td>\n",
       "      <td>0.028179</td>\n",
       "      <td>0.003639</td>\n",
       "      <td>...</td>\n",
       "      <td>0.041022</td>\n",
       "      <td>-0.036422</td>\n",
       "      <td>0.006088</td>\n",
       "      <td>-0.041302</td>\n",
       "      <td>0.017492</td>\n",
       "      <td>-0.039591</td>\n",
       "      <td>-0.000801</td>\n",
       "      <td>0.009127</td>\n",
       "      <td>0.045741</td>\n",
       "      <td>0.004434</td>\n",
       "    </tr>\n",
       "    <tr>\n",
       "      <th>LV4</th>\n",
       "      <td>-0.039736</td>\n",
       "      <td>0.013238</td>\n",
       "      <td>-0.002819</td>\n",
       "      <td>0.029253</td>\n",
       "      <td>-0.029388</td>\n",
       "      <td>-0.003176</td>\n",
       "      <td>0.037212</td>\n",
       "      <td>-0.022370</td>\n",
       "      <td>0.003168</td>\n",
       "      <td>0.039998</td>\n",
       "      <td>...</td>\n",
       "      <td>-0.029197</td>\n",
       "      <td>0.078351</td>\n",
       "      <td>0.044476</td>\n",
       "      <td>-0.027300</td>\n",
       "      <td>0.005332</td>\n",
       "      <td>0.028581</td>\n",
       "      <td>0.004288</td>\n",
       "      <td>0.015797</td>\n",
       "      <td>-0.074106</td>\n",
       "      <td>-0.020936</td>\n",
       "    </tr>\n",
       "    <tr>\n",
       "      <th>LV5</th>\n",
       "      <td>-0.012250</td>\n",
       "      <td>-0.002846</td>\n",
       "      <td>-0.025161</td>\n",
       "      <td>0.013880</td>\n",
       "      <td>0.009457</td>\n",
       "      <td>0.024885</td>\n",
       "      <td>0.001274</td>\n",
       "      <td>0.064774</td>\n",
       "      <td>0.039294</td>\n",
       "      <td>-0.000256</td>\n",
       "      <td>...</td>\n",
       "      <td>0.032792</td>\n",
       "      <td>-0.035128</td>\n",
       "      <td>-0.011787</td>\n",
       "      <td>-0.006511</td>\n",
       "      <td>-0.035433</td>\n",
       "      <td>-0.008735</td>\n",
       "      <td>-0.011139</td>\n",
       "      <td>-0.036651</td>\n",
       "      <td>0.003044</td>\n",
       "      <td>0.006505</td>\n",
       "    </tr>\n",
       "  </tbody>\n",
       "</table>\n",
       "<p>5 rows × 309 columns</p>\n",
       "</div>"
      ],
      "text/plain": [
       "        292.3       079       741     418.1       280       747       591  \\\n",
       "LV1  0.055748 -0.019274  0.024491  0.012926 -0.026501 -0.043919  0.025264   \n",
       "LV2 -0.045630 -0.008570  0.040969 -0.016198 -0.032321 -0.017629  0.009238   \n",
       "LV3  0.025341 -0.059962 -0.027354 -0.033864  0.009571  0.023318 -0.003872   \n",
       "LV4 -0.039736  0.013238 -0.002819  0.029253 -0.029388 -0.003176  0.037212   \n",
       "LV5 -0.012250 -0.002846 -0.025161  0.013880  0.009457  0.024885  0.001274   \n",
       "\n",
       "       426.21       244     070.3  ...       427     585.4       345  \\\n",
       "LV1 -0.053251  0.043269  0.002465  ... -0.031739  0.014192  0.008710   \n",
       "LV2 -0.011634 -0.005854  0.033497  ...  0.019678  0.040569 -0.009344   \n",
       "LV3  0.001095  0.028179  0.003639  ...  0.041022 -0.036422  0.006088   \n",
       "LV4 -0.022370  0.003168  0.039998  ... -0.029197  0.078351  0.044476   \n",
       "LV5  0.064774  0.039294 -0.000256  ...  0.032792 -0.035128 -0.011787   \n",
       "\n",
       "        366.2     420.2       195     250.2     250.1       371       562  \n",
       "LV1 -0.024261 -0.004780  0.057256  0.059702  0.036648 -0.022040  0.034427  \n",
       "LV2 -0.012921 -0.055292  0.003193  0.013844  0.008327  0.004302  0.035154  \n",
       "LV3 -0.041302  0.017492 -0.039591 -0.000801  0.009127  0.045741  0.004434  \n",
       "LV4 -0.027300  0.005332  0.028581  0.004288  0.015797 -0.074106 -0.020936  \n",
       "LV5 -0.006511 -0.035433 -0.008735 -0.011139 -0.036651  0.003044  0.006505  \n",
       "\n",
       "[5 rows x 309 columns]"
      ]
     },
     "execution_count": 22,
     "metadata": {},
     "output_type": "execute_result"
    }
   ],
   "source": [
    "emerge_projection.head()"
   ]
  },
  {
   "cell_type": "markdown",
   "id": "endless-leone",
   "metadata": {
    "papermill": {
     "duration": 0.025458,
     "end_time": "2021-07-20T02:20:00.006035",
     "exception": false,
     "start_time": "2021-07-20T02:19:59.980577",
     "status": "completed"
    },
    "tags": []
   },
   "source": [
    "## eMERGE (S-MultiXcan)"
   ]
  },
  {
   "cell_type": "code",
   "execution_count": 23,
   "id": "presidential-wesley",
   "metadata": {
    "execution": {
     "iopub.execute_input": "2021-07-20T02:20:00.058712Z",
     "iopub.status.busy": "2021-07-20T02:20:00.058345Z",
     "iopub.status.idle": "2021-07-20T02:20:00.069764Z",
     "shell.execute_reply": "2021-07-20T02:20:00.069398Z"
    },
    "papermill": {
     "duration": 0.038926,
     "end_time": "2021-07-20T02:20:00.069849",
     "exception": false,
     "start_time": "2021-07-20T02:20:00.030923",
     "status": "completed"
    },
    "tags": []
   },
   "outputs": [
    {
     "data": {
      "text/plain": [
       "PosixPath('/home/miltondp/projects/labs/greenelab/phenoplier/base/data/emerge/gene_assoc/emerge-smultixcan-mashr-zscores.pkl')"
      ]
     },
     "metadata": {},
     "output_type": "display_data"
    }
   ],
   "source": [
    "# FIXME: in the future, there will be a specific entry in config for the eMERGE directory that should be replaced here\n",
    "emerge_smultixcan_zscores_filepath = Path(\n",
    "    conf.DATA_DIR,\n",
    "    \"emerge\",\n",
    "    \"gene_assoc\",\n",
    "    \"emerge-smultixcan-mashr-zscores.pkl\",\n",
    ").resolve()\n",
    "\n",
    "display(emerge_smultixcan_zscores_filepath)"
   ]
  },
  {
   "cell_type": "code",
   "execution_count": 24,
   "id": "respective-surveillance",
   "metadata": {
    "execution": {
     "iopub.execute_input": "2021-07-20T02:20:00.123689Z",
     "iopub.status.busy": "2021-07-20T02:20:00.123336Z",
     "iopub.status.idle": "2021-07-20T02:20:00.159875Z",
     "shell.execute_reply": "2021-07-20T02:20:00.159401Z"
    },
    "papermill": {
     "duration": 0.063909,
     "end_time": "2021-07-20T02:20:00.159981",
     "exception": false,
     "start_time": "2021-07-20T02:20:00.096072",
     "status": "completed"
    },
    "tags": []
   },
   "outputs": [],
   "source": [
    "_tmp = pd.read_pickle(emerge_smultixcan_zscores_filepath)"
   ]
  },
  {
   "cell_type": "code",
   "execution_count": 25,
   "id": "solid-emperor",
   "metadata": {
    "execution": {
     "iopub.execute_input": "2021-07-20T02:20:00.220928Z",
     "iopub.status.busy": "2021-07-20T02:20:00.220525Z",
     "iopub.status.idle": "2021-07-20T02:20:00.231764Z",
     "shell.execute_reply": "2021-07-20T02:20:00.231428Z"
    },
    "papermill": {
     "duration": 0.039779,
     "end_time": "2021-07-20T02:20:00.231850",
     "exception": false,
     "start_time": "2021-07-20T02:20:00.192071",
     "status": "completed"
    },
    "tags": []
   },
   "outputs": [
    {
     "data": {
      "text/plain": [
       "(22198, 309)"
      ]
     },
     "execution_count": 25,
     "metadata": {},
     "output_type": "execute_result"
    }
   ],
   "source": [
    "_tmp.shape"
   ]
  },
  {
   "cell_type": "code",
   "execution_count": 26,
   "id": "independent-somerset",
   "metadata": {
    "execution": {
     "iopub.execute_input": "2021-07-20T02:20:00.286505Z",
     "iopub.status.busy": "2021-07-20T02:20:00.286150Z",
     "iopub.status.idle": "2021-07-20T02:20:00.308728Z",
     "shell.execute_reply": "2021-07-20T02:20:00.308329Z"
    },
    "papermill": {
     "duration": 0.050809,
     "end_time": "2021-07-20T02:20:00.308853",
     "exception": false,
     "start_time": "2021-07-20T02:20:00.258044",
     "status": "completed"
    },
    "tags": []
   },
   "outputs": [
    {
     "data": {
      "text/html": [
       "<div>\n",
       "<style scoped>\n",
       "    .dataframe tbody tr th:only-of-type {\n",
       "        vertical-align: middle;\n",
       "    }\n",
       "\n",
       "    .dataframe tbody tr th {\n",
       "        vertical-align: top;\n",
       "    }\n",
       "\n",
       "    .dataframe thead th {\n",
       "        text-align: right;\n",
       "    }\n",
       "</style>\n",
       "<table border=\"1\" class=\"dataframe\">\n",
       "  <thead>\n",
       "    <tr style=\"text-align: right;\">\n",
       "      <th></th>\n",
       "      <th>292.3</th>\n",
       "      <th>079</th>\n",
       "      <th>741</th>\n",
       "      <th>418.1</th>\n",
       "      <th>280</th>\n",
       "      <th>747</th>\n",
       "      <th>591</th>\n",
       "      <th>426.21</th>\n",
       "      <th>244</th>\n",
       "      <th>070.3</th>\n",
       "      <th>...</th>\n",
       "      <th>427</th>\n",
       "      <th>585.4</th>\n",
       "      <th>345</th>\n",
       "      <th>366.2</th>\n",
       "      <th>420.2</th>\n",
       "      <th>195</th>\n",
       "      <th>250.2</th>\n",
       "      <th>250.1</th>\n",
       "      <th>371</th>\n",
       "      <th>562</th>\n",
       "    </tr>\n",
       "    <tr>\n",
       "      <th>gene_name</th>\n",
       "      <th></th>\n",
       "      <th></th>\n",
       "      <th></th>\n",
       "      <th></th>\n",
       "      <th></th>\n",
       "      <th></th>\n",
       "      <th></th>\n",
       "      <th></th>\n",
       "      <th></th>\n",
       "      <th></th>\n",
       "      <th></th>\n",
       "      <th></th>\n",
       "      <th></th>\n",
       "      <th></th>\n",
       "      <th></th>\n",
       "      <th></th>\n",
       "      <th></th>\n",
       "      <th></th>\n",
       "      <th></th>\n",
       "      <th></th>\n",
       "      <th></th>\n",
       "    </tr>\n",
       "  </thead>\n",
       "  <tbody>\n",
       "    <tr>\n",
       "      <th>ENSG00000000419</th>\n",
       "      <td>1.043436</td>\n",
       "      <td>1.134028</td>\n",
       "      <td>1.595979</td>\n",
       "      <td>0.399451</td>\n",
       "      <td>0.725100</td>\n",
       "      <td>1.655468</td>\n",
       "      <td>1.803598</td>\n",
       "      <td>0.125250</td>\n",
       "      <td>1.053218</td>\n",
       "      <td>0.922592</td>\n",
       "      <td>...</td>\n",
       "      <td>0.364789</td>\n",
       "      <td>0.453873</td>\n",
       "      <td>0.759558</td>\n",
       "      <td>1.173671</td>\n",
       "      <td>0.298944</td>\n",
       "      <td>1.029646</td>\n",
       "      <td>0.826238</td>\n",
       "      <td>0.685711</td>\n",
       "      <td>2.069701</td>\n",
       "      <td>1.544766</td>\n",
       "    </tr>\n",
       "    <tr>\n",
       "      <th>ENSG00000000457</th>\n",
       "      <td>1.236752</td>\n",
       "      <td>0.119837</td>\n",
       "      <td>0.224120</td>\n",
       "      <td>0.200610</td>\n",
       "      <td>1.304190</td>\n",
       "      <td>0.541478</td>\n",
       "      <td>0.646474</td>\n",
       "      <td>0.493759</td>\n",
       "      <td>0.189680</td>\n",
       "      <td>1.563273</td>\n",
       "      <td>...</td>\n",
       "      <td>1.519500</td>\n",
       "      <td>0.201290</td>\n",
       "      <td>1.020996</td>\n",
       "      <td>0.592006</td>\n",
       "      <td>0.632661</td>\n",
       "      <td>0.995453</td>\n",
       "      <td>0.069362</td>\n",
       "      <td>0.460979</td>\n",
       "      <td>0.217046</td>\n",
       "      <td>1.350475</td>\n",
       "    </tr>\n",
       "    <tr>\n",
       "      <th>ENSG00000000460</th>\n",
       "      <td>0.497108</td>\n",
       "      <td>0.005690</td>\n",
       "      <td>0.317710</td>\n",
       "      <td>0.184918</td>\n",
       "      <td>1.136574</td>\n",
       "      <td>1.708245</td>\n",
       "      <td>0.288962</td>\n",
       "      <td>1.070026</td>\n",
       "      <td>0.403510</td>\n",
       "      <td>1.106321</td>\n",
       "      <td>...</td>\n",
       "      <td>0.678253</td>\n",
       "      <td>1.166204</td>\n",
       "      <td>1.138126</td>\n",
       "      <td>0.608565</td>\n",
       "      <td>0.449551</td>\n",
       "      <td>0.096689</td>\n",
       "      <td>0.887467</td>\n",
       "      <td>0.143815</td>\n",
       "      <td>0.236647</td>\n",
       "      <td>1.048859</td>\n",
       "    </tr>\n",
       "    <tr>\n",
       "      <th>ENSG00000000938</th>\n",
       "      <td>0.374442</td>\n",
       "      <td>1.099899</td>\n",
       "      <td>1.975795</td>\n",
       "      <td>0.107667</td>\n",
       "      <td>0.903520</td>\n",
       "      <td>0.673819</td>\n",
       "      <td>0.855749</td>\n",
       "      <td>0.499088</td>\n",
       "      <td>0.375406</td>\n",
       "      <td>0.815757</td>\n",
       "      <td>...</td>\n",
       "      <td>1.585687</td>\n",
       "      <td>0.584143</td>\n",
       "      <td>0.751384</td>\n",
       "      <td>2.758230</td>\n",
       "      <td>0.572712</td>\n",
       "      <td>0.141023</td>\n",
       "      <td>1.437022</td>\n",
       "      <td>0.288943</td>\n",
       "      <td>0.665727</td>\n",
       "      <td>1.225229</td>\n",
       "    </tr>\n",
       "    <tr>\n",
       "      <th>ENSG00000000971</th>\n",
       "      <td>1.108762</td>\n",
       "      <td>1.133163</td>\n",
       "      <td>0.227188</td>\n",
       "      <td>0.222948</td>\n",
       "      <td>0.072709</td>\n",
       "      <td>0.256124</td>\n",
       "      <td>0.540911</td>\n",
       "      <td>0.606947</td>\n",
       "      <td>0.229133</td>\n",
       "      <td>1.557433</td>\n",
       "      <td>...</td>\n",
       "      <td>2.349373</td>\n",
       "      <td>1.122458</td>\n",
       "      <td>0.155346</td>\n",
       "      <td>0.990123</td>\n",
       "      <td>0.326914</td>\n",
       "      <td>1.100210</td>\n",
       "      <td>1.099537</td>\n",
       "      <td>2.511358</td>\n",
       "      <td>0.950262</td>\n",
       "      <td>1.467305</td>\n",
       "    </tr>\n",
       "  </tbody>\n",
       "</table>\n",
       "<p>5 rows × 309 columns</p>\n",
       "</div>"
      ],
      "text/plain": [
       "                    292.3       079       741     418.1       280       747  \\\n",
       "gene_name                                                                     \n",
       "ENSG00000000419  1.043436  1.134028  1.595979  0.399451  0.725100  1.655468   \n",
       "ENSG00000000457  1.236752  0.119837  0.224120  0.200610  1.304190  0.541478   \n",
       "ENSG00000000460  0.497108  0.005690  0.317710  0.184918  1.136574  1.708245   \n",
       "ENSG00000000938  0.374442  1.099899  1.975795  0.107667  0.903520  0.673819   \n",
       "ENSG00000000971  1.108762  1.133163  0.227188  0.222948  0.072709  0.256124   \n",
       "\n",
       "                      591    426.21       244     070.3  ...       427  \\\n",
       "gene_name                                                ...             \n",
       "ENSG00000000419  1.803598  0.125250  1.053218  0.922592  ...  0.364789   \n",
       "ENSG00000000457  0.646474  0.493759  0.189680  1.563273  ...  1.519500   \n",
       "ENSG00000000460  0.288962  1.070026  0.403510  1.106321  ...  0.678253   \n",
       "ENSG00000000938  0.855749  0.499088  0.375406  0.815757  ...  1.585687   \n",
       "ENSG00000000971  0.540911  0.606947  0.229133  1.557433  ...  2.349373   \n",
       "\n",
       "                    585.4       345     366.2     420.2       195     250.2  \\\n",
       "gene_name                                                                     \n",
       "ENSG00000000419  0.453873  0.759558  1.173671  0.298944  1.029646  0.826238   \n",
       "ENSG00000000457  0.201290  1.020996  0.592006  0.632661  0.995453  0.069362   \n",
       "ENSG00000000460  1.166204  1.138126  0.608565  0.449551  0.096689  0.887467   \n",
       "ENSG00000000938  0.584143  0.751384  2.758230  0.572712  0.141023  1.437022   \n",
       "ENSG00000000971  1.122458  0.155346  0.990123  0.326914  1.100210  1.099537   \n",
       "\n",
       "                    250.1       371       562  \n",
       "gene_name                                      \n",
       "ENSG00000000419  0.685711  2.069701  1.544766  \n",
       "ENSG00000000457  0.460979  0.217046  1.350475  \n",
       "ENSG00000000460  0.143815  0.236647  1.048859  \n",
       "ENSG00000000938  0.288943  0.665727  1.225229  \n",
       "ENSG00000000971  2.511358  0.950262  1.467305  \n",
       "\n",
       "[5 rows x 309 columns]"
      ]
     },
     "execution_count": 26,
     "metadata": {},
     "output_type": "execute_result"
    }
   ],
   "source": [
    "_tmp.head()"
   ]
  },
  {
   "cell_type": "markdown",
   "id": "exposed-worry",
   "metadata": {
    "papermill": {
     "duration": 0.026489,
     "end_time": "2021-07-20T02:20:00.361735",
     "exception": false,
     "start_time": "2021-07-20T02:20:00.335246",
     "status": "completed"
    },
    "tags": []
   },
   "source": [
    "## GLS results on PhenomeXcan"
   ]
  },
  {
   "cell_type": "markdown",
   "id": "unavailable-quantum",
   "metadata": {
    "papermill": {
     "duration": 0.025761,
     "end_time": "2021-07-20T02:20:00.413550",
     "exception": false,
     "start_time": "2021-07-20T02:20:00.387789",
     "status": "completed"
    },
    "tags": []
   },
   "source": [
    "Read results obtained with `30-gls_on_phenotypes.ipynb` (PhenomeXcan)"
   ]
  },
  {
   "cell_type": "code",
   "execution_count": 27,
   "id": "logical-subject",
   "metadata": {
    "execution": {
     "iopub.execute_input": "2021-07-20T02:20:00.473028Z",
     "iopub.status.busy": "2021-07-20T02:20:00.472641Z",
     "iopub.status.idle": "2021-07-20T02:20:00.484603Z",
     "shell.execute_reply": "2021-07-20T02:20:00.484199Z"
    },
    "papermill": {
     "duration": 0.043263,
     "end_time": "2021-07-20T02:20:00.484711",
     "exception": false,
     "start_time": "2021-07-20T02:20:00.441448",
     "status": "completed"
    },
    "tags": []
   },
   "outputs": [
    {
     "data": {
      "text/plain": [
       "PosixPath('/home/miltondp/projects/labs/greenelab/phenoplier/base/results/gls/gls_phenotypes-phenomexcan.pkl')"
      ]
     },
     "metadata": {},
     "output_type": "display_data"
    }
   ],
   "source": [
    "input_filepath = conf.RESULTS[\"GLS\"] / \"gls_phenotypes-phenomexcan.pkl\"\n",
    "display(input_filepath)"
   ]
  },
  {
   "cell_type": "code",
   "execution_count": 28,
   "id": "incorporate-truth",
   "metadata": {
    "execution": {
     "iopub.execute_input": "2021-07-20T02:20:00.541545Z",
     "iopub.status.busy": "2021-07-20T02:20:00.541147Z",
     "iopub.status.idle": "2021-07-20T02:20:01.871639Z",
     "shell.execute_reply": "2021-07-20T02:20:01.872005Z"
    },
    "papermill": {
     "duration": 1.359218,
     "end_time": "2021-07-20T02:20:01.872143",
     "exception": false,
     "start_time": "2021-07-20T02:20:00.512925",
     "status": "completed"
    },
    "tags": []
   },
   "outputs": [],
   "source": [
    "gls_phenomexcan = pd.read_pickle(input_filepath)"
   ]
  },
  {
   "cell_type": "code",
   "execution_count": 29,
   "id": "corrected-blanket",
   "metadata": {
    "execution": {
     "iopub.execute_input": "2021-07-20T02:20:01.939587Z",
     "iopub.status.busy": "2021-07-20T02:20:01.939217Z",
     "iopub.status.idle": "2021-07-20T02:20:01.950527Z",
     "shell.execute_reply": "2021-07-20T02:20:01.950145Z"
    },
    "papermill": {
     "duration": 0.043584,
     "end_time": "2021-07-20T02:20:01.950616",
     "exception": false,
     "start_time": "2021-07-20T02:20:01.907032",
     "status": "completed"
    },
    "tags": []
   },
   "outputs": [
    {
     "data": {
      "text/plain": [
       "(2640, 9)"
      ]
     },
     "execution_count": 29,
     "metadata": {},
     "output_type": "execute_result"
    }
   ],
   "source": [
    "gls_phenomexcan.shape"
   ]
  },
  {
   "cell_type": "code",
   "execution_count": 30,
   "id": "recorded-philadelphia",
   "metadata": {
    "execution": {
     "iopub.execute_input": "2021-07-20T02:20:02.007835Z",
     "iopub.status.busy": "2021-07-20T02:20:02.007478Z",
     "iopub.status.idle": "2021-07-20T02:20:02.034992Z",
     "shell.execute_reply": "2021-07-20T02:20:02.035270Z"
    },
    "papermill": {
     "duration": 0.056829,
     "end_time": "2021-07-20T02:20:02.035376",
     "exception": false,
     "start_time": "2021-07-20T02:20:01.978547",
     "status": "completed"
    },
    "tags": []
   },
   "outputs": [
    {
     "data": {
      "text/html": [
       "<div>\n",
       "<style scoped>\n",
       "    .dataframe tbody tr th:only-of-type {\n",
       "        vertical-align: middle;\n",
       "    }\n",
       "\n",
       "    .dataframe tbody tr th {\n",
       "        vertical-align: top;\n",
       "    }\n",
       "\n",
       "    .dataframe thead th {\n",
       "        text-align: right;\n",
       "    }\n",
       "</style>\n",
       "<table border=\"1\" class=\"dataframe\">\n",
       "  <thead>\n",
       "    <tr style=\"text-align: right;\">\n",
       "      <th></th>\n",
       "      <th>part_k</th>\n",
       "      <th>cluster_id</th>\n",
       "      <th>phenotype</th>\n",
       "      <th>lv</th>\n",
       "      <th>lv_with_pathway</th>\n",
       "      <th>coef</th>\n",
       "      <th>pvalue</th>\n",
       "      <th>pvalue_twosided</th>\n",
       "      <th>summary</th>\n",
       "    </tr>\n",
       "  </thead>\n",
       "  <tbody>\n",
       "    <tr>\n",
       "      <th>0</th>\n",
       "      <td>29</td>\n",
       "      <td>17</td>\n",
       "      <td>20003_1140861958-Treatmentmedication_code_simv...</td>\n",
       "      <td>LV744</td>\n",
       "      <td>False</td>\n",
       "      <td>0.017663</td>\n",
       "      <td>0.083346</td>\n",
       "      <td>0.166692</td>\n",
       "      <td>GLS Regression Res...</td>\n",
       "    </tr>\n",
       "    <tr>\n",
       "      <th>1</th>\n",
       "      <td>29</td>\n",
       "      <td>17</td>\n",
       "      <td>20003_1140861958-Treatmentmedication_code_simv...</td>\n",
       "      <td>LV841</td>\n",
       "      <td>False</td>\n",
       "      <td>0.033055</td>\n",
       "      <td>0.004121</td>\n",
       "      <td>0.008241</td>\n",
       "      <td>GLS Regression Res...</td>\n",
       "    </tr>\n",
       "    <tr>\n",
       "      <th>2</th>\n",
       "      <td>29</td>\n",
       "      <td>17</td>\n",
       "      <td>20003_1140861958-Treatmentmedication_code_simv...</td>\n",
       "      <td>LV65</td>\n",
       "      <td>False</td>\n",
       "      <td>0.013617</td>\n",
       "      <td>0.138593</td>\n",
       "      <td>0.277185</td>\n",
       "      <td>GLS Regression Res...</td>\n",
       "    </tr>\n",
       "    <tr>\n",
       "      <th>3</th>\n",
       "      <td>29</td>\n",
       "      <td>17</td>\n",
       "      <td>20003_1140861958-Treatmentmedication_code_simv...</td>\n",
       "      <td>LV515</td>\n",
       "      <td>False</td>\n",
       "      <td>-0.012351</td>\n",
       "      <td>0.834867</td>\n",
       "      <td>0.330265</td>\n",
       "      <td>GLS Regression Res...</td>\n",
       "    </tr>\n",
       "    <tr>\n",
       "      <th>4</th>\n",
       "      <td>29</td>\n",
       "      <td>17</td>\n",
       "      <td>20003_1140861958-Treatmentmedication_code_simv...</td>\n",
       "      <td>LV847</td>\n",
       "      <td>True</td>\n",
       "      <td>0.005045</td>\n",
       "      <td>0.346233</td>\n",
       "      <td>0.692465</td>\n",
       "      <td>GLS Regression Res...</td>\n",
       "    </tr>\n",
       "  </tbody>\n",
       "</table>\n",
       "</div>"
      ],
      "text/plain": [
       "   part_k  cluster_id                                          phenotype  \\\n",
       "0      29          17  20003_1140861958-Treatmentmedication_code_simv...   \n",
       "1      29          17  20003_1140861958-Treatmentmedication_code_simv...   \n",
       "2      29          17  20003_1140861958-Treatmentmedication_code_simv...   \n",
       "3      29          17  20003_1140861958-Treatmentmedication_code_simv...   \n",
       "4      29          17  20003_1140861958-Treatmentmedication_code_simv...   \n",
       "\n",
       "      lv  lv_with_pathway      coef    pvalue  pvalue_twosided  \\\n",
       "0  LV744            False  0.017663  0.083346         0.166692   \n",
       "1  LV841            False  0.033055  0.004121         0.008241   \n",
       "2   LV65            False  0.013617  0.138593         0.277185   \n",
       "3  LV515            False -0.012351  0.834867         0.330265   \n",
       "4  LV847             True  0.005045  0.346233         0.692465   \n",
       "\n",
       "                                             summary  \n",
       "0                              GLS Regression Res...  \n",
       "1                              GLS Regression Res...  \n",
       "2                              GLS Regression Res...  \n",
       "3                              GLS Regression Res...  \n",
       "4                              GLS Regression Res...  "
      ]
     },
     "execution_count": 30,
     "metadata": {},
     "output_type": "execute_result"
    }
   ],
   "source": [
    "gls_phenomexcan.head()"
   ]
  },
  {
   "cell_type": "markdown",
   "id": "embedded-virus",
   "metadata": {
    "papermill": {
     "duration": 0.027368,
     "end_time": "2021-07-20T02:20:02.091084",
     "exception": false,
     "start_time": "2021-07-20T02:20:02.063716",
     "status": "completed"
    },
    "tags": []
   },
   "source": [
    "## MultiPLIER summary"
   ]
  },
  {
   "cell_type": "code",
   "execution_count": 31,
   "id": "noticed-layer",
   "metadata": {
    "execution": {
     "iopub.execute_input": "2021-07-20T02:20:02.166259Z",
     "iopub.status.busy": "2021-07-20T02:20:02.165808Z",
     "iopub.status.idle": "2021-07-20T02:20:02.180060Z",
     "shell.execute_reply": "2021-07-20T02:20:02.179593Z"
    },
    "papermill": {
     "duration": 0.062494,
     "end_time": "2021-07-20T02:20:02.180165",
     "exception": false,
     "start_time": "2021-07-20T02:20:02.117671",
     "status": "completed"
    },
    "tags": []
   },
   "outputs": [],
   "source": [
    "multiplier_model_summary = pd.read_pickle(conf.MULTIPLIER[\"MODEL_SUMMARY_FILE\"])"
   ]
  },
  {
   "cell_type": "code",
   "execution_count": 32,
   "id": "resistant-december",
   "metadata": {
    "execution": {
     "iopub.execute_input": "2021-07-20T02:20:02.245012Z",
     "iopub.status.busy": "2021-07-20T02:20:02.244582Z",
     "iopub.status.idle": "2021-07-20T02:20:02.255887Z",
     "shell.execute_reply": "2021-07-20T02:20:02.255518Z"
    },
    "papermill": {
     "duration": 0.040798,
     "end_time": "2021-07-20T02:20:02.255974",
     "exception": false,
     "start_time": "2021-07-20T02:20:02.215176",
     "status": "completed"
    },
    "tags": []
   },
   "outputs": [
    {
     "data": {
      "text/plain": [
       "(2157, 5)"
      ]
     },
     "execution_count": 32,
     "metadata": {},
     "output_type": "execute_result"
    }
   ],
   "source": [
    "multiplier_model_summary.shape"
   ]
  },
  {
   "cell_type": "code",
   "execution_count": 33,
   "id": "veterinary-table",
   "metadata": {
    "execution": {
     "iopub.execute_input": "2021-07-20T02:20:02.313451Z",
     "iopub.status.busy": "2021-07-20T02:20:02.313098Z",
     "iopub.status.idle": "2021-07-20T02:20:02.328623Z",
     "shell.execute_reply": "2021-07-20T02:20:02.328247Z"
    },
    "papermill": {
     "duration": 0.044945,
     "end_time": "2021-07-20T02:20:02.328749",
     "exception": false,
     "start_time": "2021-07-20T02:20:02.283804",
     "status": "completed"
    },
    "tags": []
   },
   "outputs": [
    {
     "data": {
      "text/html": [
       "<div>\n",
       "<style scoped>\n",
       "    .dataframe tbody tr th:only-of-type {\n",
       "        vertical-align: middle;\n",
       "    }\n",
       "\n",
       "    .dataframe tbody tr th {\n",
       "        vertical-align: top;\n",
       "    }\n",
       "\n",
       "    .dataframe thead th {\n",
       "        text-align: right;\n",
       "    }\n",
       "</style>\n",
       "<table border=\"1\" class=\"dataframe\">\n",
       "  <thead>\n",
       "    <tr style=\"text-align: right;\">\n",
       "      <th></th>\n",
       "      <th>pathway</th>\n",
       "      <th>LV index</th>\n",
       "      <th>AUC</th>\n",
       "      <th>p-value</th>\n",
       "      <th>FDR</th>\n",
       "    </tr>\n",
       "  </thead>\n",
       "  <tbody>\n",
       "    <tr>\n",
       "      <th>1</th>\n",
       "      <td>KEGG_LYSINE_DEGRADATION</td>\n",
       "      <td>1</td>\n",
       "      <td>0.388059</td>\n",
       "      <td>0.866078</td>\n",
       "      <td>0.956005</td>\n",
       "    </tr>\n",
       "    <tr>\n",
       "      <th>2</th>\n",
       "      <td>REACTOME_MRNA_SPLICING</td>\n",
       "      <td>1</td>\n",
       "      <td>0.733057</td>\n",
       "      <td>0.000048</td>\n",
       "      <td>0.000582</td>\n",
       "    </tr>\n",
       "    <tr>\n",
       "      <th>3</th>\n",
       "      <td>MIPS_NOP56P_ASSOCIATED_PRE_RRNA_COMPLEX</td>\n",
       "      <td>1</td>\n",
       "      <td>0.680555</td>\n",
       "      <td>0.001628</td>\n",
       "      <td>0.011366</td>\n",
       "    </tr>\n",
       "    <tr>\n",
       "      <th>4</th>\n",
       "      <td>KEGG_DNA_REPLICATION</td>\n",
       "      <td>1</td>\n",
       "      <td>0.549473</td>\n",
       "      <td>0.312155</td>\n",
       "      <td>0.539951</td>\n",
       "    </tr>\n",
       "    <tr>\n",
       "      <th>5</th>\n",
       "      <td>PID_MYC_ACTIVPATHWAY</td>\n",
       "      <td>1</td>\n",
       "      <td>0.639303</td>\n",
       "      <td>0.021702</td>\n",
       "      <td>0.083739</td>\n",
       "    </tr>\n",
       "  </tbody>\n",
       "</table>\n",
       "</div>"
      ],
      "text/plain": [
       "                                   pathway LV index       AUC   p-value  \\\n",
       "1                  KEGG_LYSINE_DEGRADATION        1  0.388059  0.866078   \n",
       "2                   REACTOME_MRNA_SPLICING        1  0.733057  0.000048   \n",
       "3  MIPS_NOP56P_ASSOCIATED_PRE_RRNA_COMPLEX        1  0.680555  0.001628   \n",
       "4                     KEGG_DNA_REPLICATION        1  0.549473  0.312155   \n",
       "5                     PID_MYC_ACTIVPATHWAY        1  0.639303  0.021702   \n",
       "\n",
       "        FDR  \n",
       "1  0.956005  \n",
       "2  0.000582  \n",
       "3  0.011366  \n",
       "4  0.539951  \n",
       "5  0.083739  "
      ]
     },
     "execution_count": 33,
     "metadata": {},
     "output_type": "execute_result"
    }
   ],
   "source": [
    "multiplier_model_summary.head()"
   ]
  },
  {
   "cell_type": "code",
   "execution_count": 34,
   "id": "smaller-appeal",
   "metadata": {
    "execution": {
     "iopub.execute_input": "2021-07-20T02:20:02.388094Z",
     "iopub.status.busy": "2021-07-20T02:20:02.387722Z",
     "iopub.status.idle": "2021-07-20T02:20:02.405271Z",
     "shell.execute_reply": "2021-07-20T02:20:02.404909Z"
    },
    "papermill": {
     "duration": 0.048244,
     "end_time": "2021-07-20T02:20:02.405355",
     "exception": false,
     "start_time": "2021-07-20T02:20:02.357111",
     "status": "completed"
    },
    "tags": []
   },
   "outputs": [
    {
     "data": {
      "text/plain": [
       "(469, 5)"
      ]
     },
     "metadata": {},
     "output_type": "display_data"
    },
    {
     "data": {
      "text/html": [
       "<div>\n",
       "<style scoped>\n",
       "    .dataframe tbody tr th:only-of-type {\n",
       "        vertical-align: middle;\n",
       "    }\n",
       "\n",
       "    .dataframe tbody tr th {\n",
       "        vertical-align: top;\n",
       "    }\n",
       "\n",
       "    .dataframe thead th {\n",
       "        text-align: right;\n",
       "    }\n",
       "</style>\n",
       "<table border=\"1\" class=\"dataframe\">\n",
       "  <thead>\n",
       "    <tr style=\"text-align: right;\">\n",
       "      <th></th>\n",
       "      <th>pathway</th>\n",
       "      <th>LV index</th>\n",
       "      <th>AUC</th>\n",
       "      <th>p-value</th>\n",
       "      <th>FDR</th>\n",
       "    </tr>\n",
       "  </thead>\n",
       "  <tbody>\n",
       "    <tr>\n",
       "      <th>2</th>\n",
       "      <td>REACTOME_MRNA_SPLICING</td>\n",
       "      <td>1</td>\n",
       "      <td>0.733057</td>\n",
       "      <td>4.772691e-05</td>\n",
       "      <td>5.816211e-04</td>\n",
       "    </tr>\n",
       "    <tr>\n",
       "      <th>3</th>\n",
       "      <td>MIPS_NOP56P_ASSOCIATED_PRE_RRNA_COMPLEX</td>\n",
       "      <td>1</td>\n",
       "      <td>0.680555</td>\n",
       "      <td>1.628217e-03</td>\n",
       "      <td>1.136590e-02</td>\n",
       "    </tr>\n",
       "    <tr>\n",
       "      <th>8</th>\n",
       "      <td>REACTOME_MITOTIC_G1_G1_S_PHASES</td>\n",
       "      <td>1</td>\n",
       "      <td>0.686170</td>\n",
       "      <td>2.517619e-04</td>\n",
       "      <td>2.392292e-03</td>\n",
       "    </tr>\n",
       "    <tr>\n",
       "      <th>9</th>\n",
       "      <td>IRIS_Monocyte-Day0</td>\n",
       "      <td>2</td>\n",
       "      <td>0.890036</td>\n",
       "      <td>4.315812e-25</td>\n",
       "      <td>1.329887e-22</td>\n",
       "    </tr>\n",
       "    <tr>\n",
       "      <th>10</th>\n",
       "      <td>DMAP_MONO2</td>\n",
       "      <td>2</td>\n",
       "      <td>0.904676</td>\n",
       "      <td>1.313970e-16</td>\n",
       "      <td>1.574574e-14</td>\n",
       "    </tr>\n",
       "  </tbody>\n",
       "</table>\n",
       "</div>"
      ],
      "text/plain": [
       "                                    pathway LV index       AUC       p-value  \\\n",
       "2                    REACTOME_MRNA_SPLICING        1  0.733057  4.772691e-05   \n",
       "3   MIPS_NOP56P_ASSOCIATED_PRE_RRNA_COMPLEX        1  0.680555  1.628217e-03   \n",
       "8           REACTOME_MITOTIC_G1_G1_S_PHASES        1  0.686170  2.517619e-04   \n",
       "9                        IRIS_Monocyte-Day0        2  0.890036  4.315812e-25   \n",
       "10                               DMAP_MONO2        2  0.904676  1.313970e-16   \n",
       "\n",
       "             FDR  \n",
       "2   5.816211e-04  \n",
       "3   1.136590e-02  \n",
       "8   2.392292e-03  \n",
       "9   1.329887e-22  \n",
       "10  1.574574e-14  "
      ]
     },
     "metadata": {},
     "output_type": "display_data"
    }
   ],
   "source": [
    "well_aligned_lvs = multiplier_model_summary[\n",
    "    (multiplier_model_summary[\"FDR\"] < 0.05) | (multiplier_model_summary[\"AUC\"] >= 0.75)\n",
    "]\n",
    "\n",
    "display(well_aligned_lvs.shape)\n",
    "display(well_aligned_lvs.head())"
   ]
  },
  {
   "cell_type": "code",
   "execution_count": 35,
   "id": "partial-devil",
   "metadata": {
    "execution": {
     "iopub.execute_input": "2021-07-20T02:20:02.469708Z",
     "iopub.status.busy": "2021-07-20T02:20:02.469315Z",
     "iopub.status.idle": "2021-07-20T02:20:02.481090Z",
     "shell.execute_reply": "2021-07-20T02:20:02.480667Z"
    },
    "papermill": {
     "duration": 0.046612,
     "end_time": "2021-07-20T02:20:02.481184",
     "exception": false,
     "start_time": "2021-07-20T02:20:02.434572",
     "status": "completed"
    },
    "tags": []
   },
   "outputs": [],
   "source": [
    "well_aligned_lv_codes = set([f\"LV{lvi}\" for lvi in well_aligned_lvs[\"LV index\"]])"
   ]
  },
  {
   "cell_type": "code",
   "execution_count": 36,
   "id": "approximate-skiing",
   "metadata": {
    "execution": {
     "iopub.execute_input": "2021-07-20T02:20:02.543743Z",
     "iopub.status.busy": "2021-07-20T02:20:02.543385Z",
     "iopub.status.idle": "2021-07-20T02:20:02.554529Z",
     "shell.execute_reply": "2021-07-20T02:20:02.554157Z"
    },
    "papermill": {
     "duration": 0.041711,
     "end_time": "2021-07-20T02:20:02.554614",
     "exception": false,
     "start_time": "2021-07-20T02:20:02.512903",
     "status": "completed"
    },
    "tags": []
   },
   "outputs": [
    {
     "data": {
      "text/plain": [
       "200"
      ]
     },
     "execution_count": 36,
     "metadata": {},
     "output_type": "execute_result"
    }
   ],
   "source": [
    "len(well_aligned_lv_codes)"
   ]
  },
  {
   "cell_type": "code",
   "execution_count": 37,
   "id": "defined-assembly",
   "metadata": {
    "execution": {
     "iopub.execute_input": "2021-07-20T02:20:02.617426Z",
     "iopub.status.busy": "2021-07-20T02:20:02.617057Z",
     "iopub.status.idle": "2021-07-20T02:20:02.628200Z",
     "shell.execute_reply": "2021-07-20T02:20:02.627877Z"
    },
    "papermill": {
     "duration": 0.042456,
     "end_time": "2021-07-20T02:20:02.628284",
     "exception": false,
     "start_time": "2021-07-20T02:20:02.585828",
     "status": "completed"
    },
    "tags": []
   },
   "outputs": [
    {
     "data": {
      "text/plain": [
       "['LV71', 'LV501', 'LV728', 'LV603', 'LV356']"
      ]
     },
     "execution_count": 37,
     "metadata": {},
     "output_type": "execute_result"
    }
   ],
   "source": [
    "list(well_aligned_lv_codes)[:5]"
   ]
  },
  {
   "cell_type": "markdown",
   "id": "representative-paste",
   "metadata": {
    "papermill": {
     "duration": 0.028975,
     "end_time": "2021-07-20T02:20:02.686258",
     "exception": false,
     "start_time": "2021-07-20T02:20:02.657283",
     "status": "completed"
    },
    "tags": []
   },
   "source": [
    "# Select LVs"
   ]
  },
  {
   "cell_type": "code",
   "execution_count": 38,
   "id": "wireless-right",
   "metadata": {
    "execution": {
     "iopub.execute_input": "2021-07-20T02:20:02.746566Z",
     "iopub.status.busy": "2021-07-20T02:20:02.746184Z",
     "iopub.status.idle": "2021-07-20T02:20:02.756863Z",
     "shell.execute_reply": "2021-07-20T02:20:02.756429Z"
    },
    "papermill": {
     "duration": 0.041844,
     "end_time": "2021-07-20T02:20:02.756949",
     "exception": false,
     "start_time": "2021-07-20T02:20:02.715105",
     "status": "completed"
    },
    "tags": []
   },
   "outputs": [],
   "source": [
    "gls_phenomexcan_lvs = [\n",
    "    # from crispr analysis\n",
    "    \"LV246\",\n",
    "    \"LV607\",\n",
    "    \"LV74\",\n",
    "    \"LV865\",\n",
    "    \"LV612\",\n",
    "    \"LV838\",\n",
    "    # drug-disease prediction\n",
    "    \"LV116\",\n",
    "    \"LV931\",\n",
    "    \"LV66\",\n",
    "    # cluster analysis\n",
    "    \"LV928\",\n",
    "    \"LV30\",\n",
    "    \"LV730\",\n",
    "    \"LV598\",\n",
    "    \"LV155\",\n",
    "    \"LV844\",\n",
    "    \"LV57\",\n",
    "    \"LV54\",\n",
    "    \"LV847\",\n",
    "    \"LV136\",\n",
    "    \"LV93\",\n",
    "    \"LV206\",\n",
    "    \"LV260\",\n",
    "    \"LV21\",\n",
    "    \"LV5\",\n",
    "    \"LV434\",\n",
    "]"
   ]
  },
  {
   "cell_type": "code",
   "execution_count": 39,
   "id": "banned-charger",
   "metadata": {
    "execution": {
     "iopub.execute_input": "2021-07-20T02:20:02.818166Z",
     "iopub.status.busy": "2021-07-20T02:20:02.817808Z",
     "iopub.status.idle": "2021-07-20T02:20:02.829035Z",
     "shell.execute_reply": "2021-07-20T02:20:02.828632Z"
    },
    "papermill": {
     "duration": 0.042382,
     "end_time": "2021-07-20T02:20:02.829120",
     "exception": false,
     "start_time": "2021-07-20T02:20:02.786738",
     "status": "completed"
    },
    "tags": []
   },
   "outputs": [
    {
     "data": {
      "text/plain": [
       "25"
      ]
     },
     "execution_count": 39,
     "metadata": {},
     "output_type": "execute_result"
    }
   ],
   "source": [
    "len(gls_phenomexcan_lvs)"
   ]
  },
  {
   "cell_type": "code",
   "execution_count": 40,
   "id": "boxed-malaysia",
   "metadata": {
    "execution": {
     "iopub.execute_input": "2021-07-20T02:20:02.890120Z",
     "iopub.status.busy": "2021-07-20T02:20:02.889750Z",
     "iopub.status.idle": "2021-07-20T02:20:02.900260Z",
     "shell.execute_reply": "2021-07-20T02:20:02.899886Z"
    },
    "papermill": {
     "duration": 0.04209,
     "end_time": "2021-07-20T02:20:02.900345",
     "exception": false,
     "start_time": "2021-07-20T02:20:02.858255",
     "status": "completed"
    },
    "tags": []
   },
   "outputs": [],
   "source": [
    "assert len(gls_phenomexcan_lvs) == len(set(gls_phenomexcan_lvs)), \"Repeated LVs in list\""
   ]
  },
  {
   "cell_type": "markdown",
   "id": "flush-stability",
   "metadata": {
    "papermill": {
     "duration": 0.029173,
     "end_time": "2021-07-20T02:20:02.959331",
     "exception": false,
     "start_time": "2021-07-20T02:20:02.930158",
     "status": "completed"
    },
    "tags": []
   },
   "source": [
    "# GLSPhenoplier"
   ]
  },
  {
   "cell_type": "markdown",
   "id": "subjective-ancient",
   "metadata": {
    "papermill": {
     "duration": 0.028494,
     "end_time": "2021-07-20T02:20:03.017146",
     "exception": false,
     "start_time": "2021-07-20T02:20:02.988652",
     "status": "completed"
    },
    "tags": []
   },
   "source": [
    "## Get list of phenotypes/lvs pairs"
   ]
  },
  {
   "cell_type": "code",
   "execution_count": 41,
   "id": "premier-marking",
   "metadata": {
    "execution": {
     "iopub.execute_input": "2021-07-20T02:20:03.077818Z",
     "iopub.status.busy": "2021-07-20T02:20:03.077450Z",
     "iopub.status.idle": "2021-07-20T02:20:03.089245Z",
     "shell.execute_reply": "2021-07-20T02:20:03.089538Z"
    },
    "papermill": {
     "duration": 0.04368,
     "end_time": "2021-07-20T02:20:03.089639",
     "exception": false,
     "start_time": "2021-07-20T02:20:03.045959",
     "status": "completed"
    },
    "tags": []
   },
   "outputs": [
    {
     "data": {
      "text/plain": [
       "(309,)"
      ]
     },
     "metadata": {},
     "output_type": "display_data"
    }
   ],
   "source": [
    "traits = emerge_traits_df[\"phecode\"].unique()\n",
    "display(traits.shape)"
   ]
  },
  {
   "cell_type": "code",
   "execution_count": 42,
   "id": "acting-bradley",
   "metadata": {
    "execution": {
     "iopub.execute_input": "2021-07-20T02:20:03.151792Z",
     "iopub.status.busy": "2021-07-20T02:20:03.151417Z",
     "iopub.status.idle": "2021-07-20T02:20:03.170499Z",
     "shell.execute_reply": "2021-07-20T02:20:03.170158Z"
    },
    "papermill": {
     "duration": 0.051295,
     "end_time": "2021-07-20T02:20:03.170589",
     "exception": false,
     "start_time": "2021-07-20T02:20:03.119294",
     "status": "completed"
    },
    "tags": []
   },
   "outputs": [],
   "source": [
    "phenotypes_lvs_pairs = []\n",
    "\n",
    "# for each LV that was run on PhenomeXcan, I take the top `N_TOP_TRAITS_FROM_LV` traits\n",
    "# in eMERGE\n",
    "# ~~~+ global mapped phenotypes (variable `gls_emerge_phecodes`)~~~\n",
    "for lv in gls_phenomexcan_lvs:\n",
    "    #     lv_traits = emerge_projection.loc[lv]\n",
    "    #     lv_traits = lv_traits[lv_traits > 0.0]\n",
    "    #     lv_traits = lv_traits.sort_values(ascending=False).head(N_TOP_TRAITS_FROM_LV)\n",
    "\n",
    "    for phenotype_code in traits:  # + gls_emerge_phecodes):\n",
    "        phenotypes_lvs_pairs.append(\n",
    "            {\n",
    "                \"phenotype\": phenotype_code,\n",
    "                \"lv\": lv,\n",
    "            }\n",
    "        )\n",
    "\n",
    "phenotypes_lvs_pairs = pd.DataFrame(phenotypes_lvs_pairs).drop_duplicates()"
   ]
  },
  {
   "cell_type": "code",
   "execution_count": 43,
   "id": "worst-merit",
   "metadata": {
    "execution": {
     "iopub.execute_input": "2021-07-20T02:20:03.233041Z",
     "iopub.status.busy": "2021-07-20T02:20:03.232623Z",
     "iopub.status.idle": "2021-07-20T02:20:03.246397Z",
     "shell.execute_reply": "2021-07-20T02:20:03.246673Z"
    },
    "papermill": {
     "duration": 0.046173,
     "end_time": "2021-07-20T02:20:03.246780",
     "exception": false,
     "start_time": "2021-07-20T02:20:03.200607",
     "status": "completed"
    },
    "tags": []
   },
   "outputs": [],
   "source": [
    "phenotypes_lvs_pairs = phenotypes_lvs_pairs.sort_values(\"phenotype\").reset_index(\n",
    "    drop=True\n",
    ")"
   ]
  },
  {
   "cell_type": "code",
   "execution_count": 44,
   "id": "subjective-defensive",
   "metadata": {
    "execution": {
     "iopub.execute_input": "2021-07-20T02:20:03.308902Z",
     "iopub.status.busy": "2021-07-20T02:20:03.308494Z",
     "iopub.status.idle": "2021-07-20T02:20:03.320198Z",
     "shell.execute_reply": "2021-07-20T02:20:03.319814Z"
    },
    "papermill": {
     "duration": 0.043909,
     "end_time": "2021-07-20T02:20:03.320280",
     "exception": false,
     "start_time": "2021-07-20T02:20:03.276371",
     "status": "completed"
    },
    "tags": []
   },
   "outputs": [
    {
     "data": {
      "text/plain": [
       "(7725, 2)"
      ]
     },
     "execution_count": 44,
     "metadata": {},
     "output_type": "execute_result"
    }
   ],
   "source": [
    "phenotypes_lvs_pairs.shape"
   ]
  },
  {
   "cell_type": "code",
   "execution_count": 45,
   "id": "pleased-circular",
   "metadata": {
    "execution": {
     "iopub.execute_input": "2021-07-20T02:20:03.382663Z",
     "iopub.status.busy": "2021-07-20T02:20:03.382300Z",
     "iopub.status.idle": "2021-07-20T02:20:03.396318Z",
     "shell.execute_reply": "2021-07-20T02:20:03.395958Z"
    },
    "papermill": {
     "duration": 0.046358,
     "end_time": "2021-07-20T02:20:03.396401",
     "exception": false,
     "start_time": "2021-07-20T02:20:03.350043",
     "status": "completed"
    },
    "tags": []
   },
   "outputs": [
    {
     "data": {
      "text/html": [
       "<div>\n",
       "<style scoped>\n",
       "    .dataframe tbody tr th:only-of-type {\n",
       "        vertical-align: middle;\n",
       "    }\n",
       "\n",
       "    .dataframe tbody tr th {\n",
       "        vertical-align: top;\n",
       "    }\n",
       "\n",
       "    .dataframe thead th {\n",
       "        text-align: right;\n",
       "    }\n",
       "</style>\n",
       "<table border=\"1\" class=\"dataframe\">\n",
       "  <thead>\n",
       "    <tr style=\"text-align: right;\">\n",
       "      <th></th>\n",
       "      <th>phenotype</th>\n",
       "      <th>lv</th>\n",
       "    </tr>\n",
       "  </thead>\n",
       "  <tbody>\n",
       "    <tr>\n",
       "      <th>0</th>\n",
       "      <td>008</td>\n",
       "      <td>LV246</td>\n",
       "    </tr>\n",
       "    <tr>\n",
       "      <th>1</th>\n",
       "      <td>008</td>\n",
       "      <td>LV30</td>\n",
       "    </tr>\n",
       "    <tr>\n",
       "      <th>2</th>\n",
       "      <td>008</td>\n",
       "      <td>LV57</td>\n",
       "    </tr>\n",
       "    <tr>\n",
       "      <th>3</th>\n",
       "      <td>008</td>\n",
       "      <td>LV865</td>\n",
       "    </tr>\n",
       "    <tr>\n",
       "      <th>4</th>\n",
       "      <td>008</td>\n",
       "      <td>LV847</td>\n",
       "    </tr>\n",
       "  </tbody>\n",
       "</table>\n",
       "</div>"
      ],
      "text/plain": [
       "  phenotype     lv\n",
       "0       008  LV246\n",
       "1       008   LV30\n",
       "2       008   LV57\n",
       "3       008  LV865\n",
       "4       008  LV847"
      ]
     },
     "execution_count": 45,
     "metadata": {},
     "output_type": "execute_result"
    }
   ],
   "source": [
    "phenotypes_lvs_pairs.head()"
   ]
  },
  {
   "cell_type": "markdown",
   "id": "brown-sally",
   "metadata": {
    "papermill": {
     "duration": 0.033374,
     "end_time": "2021-07-20T02:20:03.460097",
     "exception": false,
     "start_time": "2021-07-20T02:20:03.426723",
     "status": "completed"
    },
    "tags": []
   },
   "source": [
    "## Run"
   ]
  },
  {
   "cell_type": "code",
   "execution_count": 46,
   "id": "incorporate-timeline",
   "metadata": {
    "execution": {
     "iopub.execute_input": "2021-07-20T02:20:03.527578Z",
     "iopub.status.busy": "2021-07-20T02:20:03.527203Z",
     "iopub.status.idle": "2021-07-20T22:28:31.306462Z",
     "shell.execute_reply": "2021-07-20T22:28:31.306778Z"
    },
    "papermill": {
     "duration": 72507.81381,
     "end_time": "2021-07-20T22:28:31.306895",
     "exception": false,
     "start_time": "2021-07-20T02:20:03.493085",
     "status": "completed"
    },
    "tags": []
   },
   "outputs": [
    {
     "name": "stderr",
     "output_type": "stream",
     "text": [
      "796 - LV434: 100%|██████████| 7725/7725 [20:08:27<00:00,  9.39s/it]\n"
     ]
    }
   ],
   "source": [
    "results = []\n",
    "\n",
    "pbar = tqdm(total=phenotypes_lvs_pairs.shape[0])\n",
    "\n",
    "for idx, row in phenotypes_lvs_pairs.iterrows():\n",
    "    phenotype_code = row[\"phenotype\"]\n",
    "    lv_code = row[\"lv\"]\n",
    "\n",
    "    pbar.set_description(f\"{phenotype_code} - {lv_code}\")\n",
    "\n",
    "    gls_model = GLSPhenoplier(\n",
    "        smultixcan_result_set_filepath=emerge_smultixcan_zscores_filepath\n",
    "    )\n",
    "    gls_model.fit_named(lv_code, phenotype_code)\n",
    "    res = gls_model.results\n",
    "\n",
    "    results.append(\n",
    "        {\n",
    "            \"phenotype\": phenotype_code,\n",
    "            \"lv\": lv_code,\n",
    "            \"lv_with_pathway\": lv_code in well_aligned_lv_codes,\n",
    "            \"coef\": res.params.loc[\"lv\"],\n",
    "            \"pvalue\": res.pvalues_onesided.loc[\"lv\"],\n",
    "            \"pvalue_twosided\": res.pvalues.loc[\"lv\"],\n",
    "            \"summary\": gls_model.results_summary,\n",
    "        }\n",
    "    )\n",
    "\n",
    "    # save results every 10 models trained\n",
    "    if (idx % 10) == 0:\n",
    "        pd.DataFrame(results).to_pickle(OUTPUT_FILENAME)\n",
    "\n",
    "    pbar.update(1)\n",
    "\n",
    "pbar.close()"
   ]
  },
  {
   "cell_type": "code",
   "execution_count": 47,
   "id": "mounted-thunder",
   "metadata": {
    "execution": {
     "iopub.execute_input": "2021-07-20T22:28:36.222938Z",
     "iopub.status.busy": "2021-07-20T22:28:36.222516Z",
     "iopub.status.idle": "2021-07-20T22:28:36.254479Z",
     "shell.execute_reply": "2021-07-20T22:28:36.254094Z"
    },
    "papermill": {
     "duration": 2.499481,
     "end_time": "2021-07-20T22:28:36.254589",
     "exception": false,
     "start_time": "2021-07-20T22:28:33.755108",
     "status": "completed"
    },
    "tags": []
   },
   "outputs": [],
   "source": [
    "results = pd.DataFrame(results)"
   ]
  },
  {
   "cell_type": "code",
   "execution_count": 48,
   "id": "varying-group",
   "metadata": {
    "execution": {
     "iopub.execute_input": "2021-07-20T22:28:41.242338Z",
     "iopub.status.busy": "2021-07-20T22:28:41.241916Z",
     "iopub.status.idle": "2021-07-20T22:28:41.254698Z",
     "shell.execute_reply": "2021-07-20T22:28:41.254271Z"
    },
    "papermill": {
     "duration": 2.518944,
     "end_time": "2021-07-20T22:28:41.254796",
     "exception": false,
     "start_time": "2021-07-20T22:28:38.735852",
     "status": "completed"
    },
    "tags": []
   },
   "outputs": [
    {
     "data": {
      "text/plain": [
       "(7725, 7)"
      ]
     },
     "execution_count": 48,
     "metadata": {},
     "output_type": "execute_result"
    }
   ],
   "source": [
    "results.shape"
   ]
  },
  {
   "cell_type": "code",
   "execution_count": 49,
   "id": "informational-robin",
   "metadata": {
    "execution": {
     "iopub.execute_input": "2021-07-20T22:28:46.328400Z",
     "iopub.status.busy": "2021-07-20T22:28:46.327958Z",
     "iopub.status.idle": "2021-07-20T22:28:46.364059Z",
     "shell.execute_reply": "2021-07-20T22:28:46.363748Z"
    },
    "papermill": {
     "duration": 2.515501,
     "end_time": "2021-07-20T22:28:46.364148",
     "exception": false,
     "start_time": "2021-07-20T22:28:43.848647",
     "status": "completed"
    },
    "tags": []
   },
   "outputs": [
    {
     "data": {
      "text/html": [
       "<div>\n",
       "<style scoped>\n",
       "    .dataframe tbody tr th:only-of-type {\n",
       "        vertical-align: middle;\n",
       "    }\n",
       "\n",
       "    .dataframe tbody tr th {\n",
       "        vertical-align: top;\n",
       "    }\n",
       "\n",
       "    .dataframe thead th {\n",
       "        text-align: right;\n",
       "    }\n",
       "</style>\n",
       "<table border=\"1\" class=\"dataframe\">\n",
       "  <thead>\n",
       "    <tr style=\"text-align: right;\">\n",
       "      <th></th>\n",
       "      <th>phenotype</th>\n",
       "      <th>lv</th>\n",
       "      <th>lv_with_pathway</th>\n",
       "      <th>coef</th>\n",
       "      <th>pvalue</th>\n",
       "      <th>pvalue_twosided</th>\n",
       "      <th>summary</th>\n",
       "    </tr>\n",
       "  </thead>\n",
       "  <tbody>\n",
       "    <tr>\n",
       "      <th>0</th>\n",
       "      <td>008</td>\n",
       "      <td>LV246</td>\n",
       "      <td>True</td>\n",
       "      <td>-0.011008</td>\n",
       "      <td>0.809325</td>\n",
       "      <td>0.381350</td>\n",
       "      <td>GLS Regression Res...</td>\n",
       "    </tr>\n",
       "    <tr>\n",
       "      <th>1</th>\n",
       "      <td>008</td>\n",
       "      <td>LV30</td>\n",
       "      <td>True</td>\n",
       "      <td>0.022387</td>\n",
       "      <td>0.038699</td>\n",
       "      <td>0.077397</td>\n",
       "      <td>GLS Regression Res...</td>\n",
       "    </tr>\n",
       "    <tr>\n",
       "      <th>2</th>\n",
       "      <td>008</td>\n",
       "      <td>LV57</td>\n",
       "      <td>True</td>\n",
       "      <td>0.003960</td>\n",
       "      <td>0.379121</td>\n",
       "      <td>0.758243</td>\n",
       "      <td>GLS Regression Res...</td>\n",
       "    </tr>\n",
       "    <tr>\n",
       "      <th>3</th>\n",
       "      <td>008</td>\n",
       "      <td>LV865</td>\n",
       "      <td>True</td>\n",
       "      <td>-0.008742</td>\n",
       "      <td>0.758337</td>\n",
       "      <td>0.483327</td>\n",
       "      <td>GLS Regression Res...</td>\n",
       "    </tr>\n",
       "    <tr>\n",
       "      <th>4</th>\n",
       "      <td>008</td>\n",
       "      <td>LV847</td>\n",
       "      <td>True</td>\n",
       "      <td>-0.028246</td>\n",
       "      <td>0.985827</td>\n",
       "      <td>0.028346</td>\n",
       "      <td>GLS Regression Res...</td>\n",
       "    </tr>\n",
       "  </tbody>\n",
       "</table>\n",
       "</div>"
      ],
      "text/plain": [
       "  phenotype     lv  lv_with_pathway      coef    pvalue  pvalue_twosided  \\\n",
       "0       008  LV246             True -0.011008  0.809325         0.381350   \n",
       "1       008   LV30             True  0.022387  0.038699         0.077397   \n",
       "2       008   LV57             True  0.003960  0.379121         0.758243   \n",
       "3       008  LV865             True -0.008742  0.758337         0.483327   \n",
       "4       008  LV847             True -0.028246  0.985827         0.028346   \n",
       "\n",
       "                                             summary  \n",
       "0                              GLS Regression Res...  \n",
       "1                              GLS Regression Res...  \n",
       "2                              GLS Regression Res...  \n",
       "3                              GLS Regression Res...  \n",
       "4                              GLS Regression Res...  "
      ]
     },
     "execution_count": 49,
     "metadata": {},
     "output_type": "execute_result"
    }
   ],
   "source": [
    "results.head()"
   ]
  },
  {
   "cell_type": "code",
   "execution_count": 50,
   "id": "plastic-banana",
   "metadata": {
    "execution": {
     "iopub.execute_input": "2021-07-20T22:28:51.291204Z",
     "iopub.status.busy": "2021-07-20T22:28:51.290779Z",
     "iopub.status.idle": "2021-07-20T22:28:51.345443Z",
     "shell.execute_reply": "2021-07-20T22:28:51.345064Z"
    },
    "papermill": {
     "duration": 2.5295,
     "end_time": "2021-07-20T22:28:51.345531",
     "exception": false,
     "start_time": "2021-07-20T22:28:48.816031",
     "status": "completed"
    },
    "tags": []
   },
   "outputs": [
    {
     "data": {
      "text/html": [
       "<div>\n",
       "<style scoped>\n",
       "    .dataframe tbody tr th:only-of-type {\n",
       "        vertical-align: middle;\n",
       "    }\n",
       "\n",
       "    .dataframe tbody tr th {\n",
       "        vertical-align: top;\n",
       "    }\n",
       "\n",
       "    .dataframe thead th {\n",
       "        text-align: right;\n",
       "    }\n",
       "</style>\n",
       "<table border=\"1\" class=\"dataframe\">\n",
       "  <thead>\n",
       "    <tr style=\"text-align: right;\">\n",
       "      <th></th>\n",
       "      <th>phenotype</th>\n",
       "      <th>lv</th>\n",
       "      <th>lv_with_pathway</th>\n",
       "      <th>coef</th>\n",
       "      <th>pvalue</th>\n",
       "      <th>pvalue_twosided</th>\n",
       "      <th>summary</th>\n",
       "    </tr>\n",
       "  </thead>\n",
       "  <tbody>\n",
       "    <tr>\n",
       "      <th>867</th>\n",
       "      <td>250.1</td>\n",
       "      <td>LV54</td>\n",
       "      <td>False</td>\n",
       "      <td>0.105369</td>\n",
       "      <td>2.184681e-17</td>\n",
       "      <td>4.369361e-17</td>\n",
       "      <td>GLS Regression Res...</td>\n",
       "    </tr>\n",
       "    <tr>\n",
       "      <th>784</th>\n",
       "      <td>244.4</td>\n",
       "      <td>LV57</td>\n",
       "      <td>True</td>\n",
       "      <td>0.089947</td>\n",
       "      <td>2.650956e-12</td>\n",
       "      <td>5.301912e-12</td>\n",
       "      <td>GLS Regression Res...</td>\n",
       "    </tr>\n",
       "    <tr>\n",
       "      <th>728</th>\n",
       "      <td>244</td>\n",
       "      <td>LV57</td>\n",
       "      <td>True</td>\n",
       "      <td>0.089541</td>\n",
       "      <td>2.974966e-12</td>\n",
       "      <td>5.949932e-12</td>\n",
       "      <td>GLS Regression Res...</td>\n",
       "    </tr>\n",
       "    <tr>\n",
       "      <th>7085</th>\n",
       "      <td>714.1</td>\n",
       "      <td>LV844</td>\n",
       "      <td>True</td>\n",
       "      <td>0.088236</td>\n",
       "      <td>7.920119e-12</td>\n",
       "      <td>1.584024e-11</td>\n",
       "      <td>GLS Regression Res...</td>\n",
       "    </tr>\n",
       "    <tr>\n",
       "      <th>6355</th>\n",
       "      <td>585.32</td>\n",
       "      <td>LV847</td>\n",
       "      <td>True</td>\n",
       "      <td>0.085519</td>\n",
       "      <td>2.009862e-11</td>\n",
       "      <td>4.019723e-11</td>\n",
       "      <td>GLS Regression Res...</td>\n",
       "    </tr>\n",
       "    <tr>\n",
       "      <th>868</th>\n",
       "      <td>250.1</td>\n",
       "      <td>LV844</td>\n",
       "      <td>True</td>\n",
       "      <td>0.085024</td>\n",
       "      <td>2.990368e-11</td>\n",
       "      <td>5.980736e-11</td>\n",
       "      <td>GLS Regression Res...</td>\n",
       "    </tr>\n",
       "    <tr>\n",
       "      <th>7072</th>\n",
       "      <td>714</td>\n",
       "      <td>LV844</td>\n",
       "      <td>True</td>\n",
       "      <td>0.080446</td>\n",
       "      <td>9.211671e-10</td>\n",
       "      <td>1.842334e-09</td>\n",
       "      <td>GLS Regression Res...</td>\n",
       "    </tr>\n",
       "    <tr>\n",
       "      <th>4611</th>\n",
       "      <td>443</td>\n",
       "      <td>LV847</td>\n",
       "      <td>True</td>\n",
       "      <td>0.074540</td>\n",
       "      <td>4.280645e-09</td>\n",
       "      <td>8.561290e-09</td>\n",
       "      <td>GLS Regression Res...</td>\n",
       "    </tr>\n",
       "    <tr>\n",
       "      <th>727</th>\n",
       "      <td>244</td>\n",
       "      <td>LV54</td>\n",
       "      <td>False</td>\n",
       "      <td>0.069915</td>\n",
       "      <td>1.257013e-08</td>\n",
       "      <td>2.514026e-08</td>\n",
       "      <td>GLS Regression Res...</td>\n",
       "    </tr>\n",
       "    <tr>\n",
       "      <th>4558</th>\n",
       "      <td>442.1</td>\n",
       "      <td>LV847</td>\n",
       "      <td>True</td>\n",
       "      <td>0.071741</td>\n",
       "      <td>1.343526e-08</td>\n",
       "      <td>2.687053e-08</td>\n",
       "      <td>GLS Regression Res...</td>\n",
       "    </tr>\n",
       "  </tbody>\n",
       "</table>\n",
       "</div>"
      ],
      "text/plain": [
       "     phenotype     lv  lv_with_pathway      coef        pvalue  \\\n",
       "867      250.1   LV54            False  0.105369  2.184681e-17   \n",
       "784      244.4   LV57             True  0.089947  2.650956e-12   \n",
       "728        244   LV57             True  0.089541  2.974966e-12   \n",
       "7085     714.1  LV844             True  0.088236  7.920119e-12   \n",
       "6355    585.32  LV847             True  0.085519  2.009862e-11   \n",
       "868      250.1  LV844             True  0.085024  2.990368e-11   \n",
       "7072       714  LV844             True  0.080446  9.211671e-10   \n",
       "4611       443  LV847             True  0.074540  4.280645e-09   \n",
       "727        244   LV54            False  0.069915  1.257013e-08   \n",
       "4558     442.1  LV847             True  0.071741  1.343526e-08   \n",
       "\n",
       "      pvalue_twosided                                            summary  \n",
       "867      4.369361e-17                              GLS Regression Res...  \n",
       "784      5.301912e-12                              GLS Regression Res...  \n",
       "728      5.949932e-12                              GLS Regression Res...  \n",
       "7085     1.584024e-11                              GLS Regression Res...  \n",
       "6355     4.019723e-11                              GLS Regression Res...  \n",
       "868      5.980736e-11                              GLS Regression Res...  \n",
       "7072     1.842334e-09                              GLS Regression Res...  \n",
       "4611     8.561290e-09                              GLS Regression Res...  \n",
       "727      2.514026e-08                              GLS Regression Res...  \n",
       "4558     2.687053e-08                              GLS Regression Res...  "
      ]
     },
     "execution_count": 50,
     "metadata": {},
     "output_type": "execute_result"
    }
   ],
   "source": [
    "results.sort_values(\"pvalue\").head(10)"
   ]
  },
  {
   "cell_type": "markdown",
   "id": "functional-madness",
   "metadata": {
    "papermill": {
     "duration": 2.500415,
     "end_time": "2021-07-20T22:28:56.318564",
     "exception": false,
     "start_time": "2021-07-20T22:28:53.818149",
     "status": "completed"
    },
    "tags": []
   },
   "source": [
    "## Save"
   ]
  },
  {
   "cell_type": "code",
   "execution_count": 51,
   "id": "concerned-shield",
   "metadata": {
    "execution": {
     "iopub.execute_input": "2021-07-20T22:29:01.420344Z",
     "iopub.status.busy": "2021-07-20T22:29:01.419886Z",
     "iopub.status.idle": "2021-07-20T22:29:03.672541Z",
     "shell.execute_reply": "2021-07-20T22:29:03.673827Z"
    },
    "papermill": {
     "duration": 4.758955,
     "end_time": "2021-07-20T22:29:03.674216",
     "exception": false,
     "start_time": "2021-07-20T22:28:58.915261",
     "status": "completed"
    },
    "tags": []
   },
   "outputs": [],
   "source": [
    "results.to_pickle(OUTPUT_FILENAME)"
   ]
  },
  {
   "cell_type": "code",
   "execution_count": null,
   "id": "administrative-yeast",
   "metadata": {
    "papermill": {
     "duration": 2.455411,
     "end_time": "2021-07-20T22:29:08.671455",
     "exception": false,
     "start_time": "2021-07-20T22:29:06.216044",
     "status": "completed"
    },
    "tags": []
   },
   "outputs": [],
   "source": []
  }
 ],
 "metadata": {
  "jupytext": {
   "cell_metadata_filter": "all,-execution,-papermill,-trusted",
   "formats": "ipynb,py//py:percent"
  },
  "kernelspec": {
   "display_name": "Python 3",
   "language": "python",
   "name": "python3"
  },
  "language_info": {
   "codemirror_mode": {
    "name": "ipython",
    "version": 3
   },
   "file_extension": ".py",
   "mimetype": "text/x-python",
   "name": "python",
   "nbconvert_exporter": "python",
   "pygments_lexer": "ipython3",
   "version": "3.8.8"
  },
  "papermill": {
   "default_parameters": {},
   "duration": 72558.648085,
   "end_time": "2021-07-20T22:29:15.144538",
   "environment_variables": {},
   "exception": null,
   "input_path": "08_gsa_gls/45-gls_on_phenotypes-emerge.ipynb",
   "output_path": "08_gsa_gls/45-gls_on_phenotypes-emerge.run.ipynb",
   "parameters": {},
   "start_time": "2021-07-20T02:19:56.496453",
   "version": "2.2.2"
  }
 },
 "nbformat": 4,
 "nbformat_minor": 5
}
