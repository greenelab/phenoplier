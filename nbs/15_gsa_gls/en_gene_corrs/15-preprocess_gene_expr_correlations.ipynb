{
 "cells": [
  {
   "cell_type": "markdown",
   "id": "eb8b5286",
   "metadata": {
    "papermill": {
     "duration": 0.042638,
     "end_time": "2022-02-28T22:17:43.672127",
     "exception": false,
     "start_time": "2022-02-28T22:17:43.629489",
     "status": "completed"
    },
    "tags": []
   },
   "source": [
    "# Description"
   ]
  },
  {
   "cell_type": "markdown",
   "id": "ec633fd3",
   "metadata": {
    "papermill": {
     "duration": 0.038806,
     "end_time": "2022-02-28T22:17:43.749775",
     "exception": false,
     "start_time": "2022-02-28T22:17:43.710969",
     "status": "completed"
    },
    "tags": []
   },
   "source": [
    "This notebook reads all gene correlations across all tissues and computes a single correlation matrix."
   ]
  },
  {
   "cell_type": "markdown",
   "id": "6c656652",
   "metadata": {
    "papermill": {
     "duration": 0.039444,
     "end_time": "2022-02-28T22:17:43.827592",
     "exception": false,
     "start_time": "2022-02-28T22:17:43.788148",
     "status": "completed"
    },
    "tags": []
   },
   "source": [
    "# Modules"
   ]
  },
  {
   "cell_type": "code",
   "execution_count": 1,
   "id": "57b2c9ae",
   "metadata": {
    "execution": {
     "iopub.execute_input": "2022-02-28T22:17:43.905980Z",
     "iopub.status.busy": "2022-02-28T22:17:43.905722Z",
     "iopub.status.idle": "2022-02-28T22:17:43.921256Z",
     "shell.execute_reply": "2022-02-28T22:17:43.920647Z"
    },
    "papermill": {
     "duration": 0.056535,
     "end_time": "2022-02-28T22:17:43.922885",
     "exception": false,
     "start_time": "2022-02-28T22:17:43.866350",
     "status": "completed"
    },
    "tags": []
   },
   "outputs": [],
   "source": [
    "%load_ext autoreload\n",
    "%autoreload 2"
   ]
  },
  {
   "cell_type": "code",
   "execution_count": 2,
   "id": "7e5042fa",
   "metadata": {
    "execution": {
     "iopub.execute_input": "2022-02-28T22:17:44.003422Z",
     "iopub.status.busy": "2022-02-28T22:17:44.002818Z",
     "iopub.status.idle": "2022-02-28T22:17:44.484520Z",
     "shell.execute_reply": "2022-02-28T22:17:44.483958Z"
    },
    "papermill": {
     "duration": 0.523227,
     "end_time": "2022-02-28T22:17:44.486052",
     "exception": false,
     "start_time": "2022-02-28T22:17:43.962825",
     "status": "completed"
    },
    "tags": []
   },
   "outputs": [],
   "source": [
    "import numpy as np\n",
    "from scipy.spatial.distance import squareform\n",
    "import pandas as pd\n",
    "\n",
    "# from tqdm import tqdm\n",
    "\n",
    "import conf\n",
    "from entity import Gene"
   ]
  },
  {
   "cell_type": "markdown",
   "id": "274532ef",
   "metadata": {
    "papermill": {
     "duration": 0.065432,
     "end_time": "2022-02-28T22:17:44.591279",
     "exception": false,
     "start_time": "2022-02-28T22:17:44.525847",
     "status": "completed"
    },
    "tags": []
   },
   "source": [
    "# Settings"
   ]
  },
  {
   "cell_type": "code",
   "execution_count": 3,
   "id": "311d3a7b",
   "metadata": {
    "execution": {
     "iopub.execute_input": "2022-02-28T22:17:44.677940Z",
     "iopub.status.busy": "2022-02-28T22:17:44.677707Z",
     "iopub.status.idle": "2022-02-28T22:17:44.690386Z",
     "shell.execute_reply": "2022-02-28T22:17:44.689834Z"
    },
    "papermill": {
     "duration": 0.05332,
     "end_time": "2022-02-28T22:17:44.691898",
     "exception": false,
     "start_time": "2022-02-28T22:17:44.638578",
     "status": "completed"
    },
    "tags": [
     "parameters"
    ]
   },
   "outputs": [],
   "source": [
    "# mashr\n",
    "EQTL_MODEL = \"MASHR\"\n",
    "EQTL_MODEL_FILES_PREFIX = \"mashr_\"\n",
    "\n",
    "# # elastic net\n",
    "# EQTL_MODEL = \"ELASTIC_NET\"\n",
    "# EQTL_MODEL_FILES_PREFIX = \"en_\"\n",
    "\n",
    "EQTL_MODEL_FILES_PREFIX = None"
   ]
  },
  {
   "cell_type": "code",
   "execution_count": 4,
   "id": "8e8d8432",
   "metadata": {
    "execution": {
     "iopub.execute_input": "2022-02-28T22:17:44.771296Z",
     "iopub.status.busy": "2022-02-28T22:17:44.771067Z",
     "iopub.status.idle": "2022-02-28T22:17:44.783839Z",
     "shell.execute_reply": "2022-02-28T22:17:44.783274Z"
    },
    "papermill": {
     "duration": 0.053888,
     "end_time": "2022-02-28T22:17:44.785310",
     "exception": false,
     "start_time": "2022-02-28T22:17:44.731422",
     "status": "completed"
    },
    "tags": [
     "injected-parameters"
    ]
   },
   "outputs": [],
   "source": [
    "# Parameters\n",
    "EQTL_MODEL = \"ELASTIC_NET\"\n"
   ]
  },
  {
   "cell_type": "code",
   "execution_count": 5,
   "id": "867797e3",
   "metadata": {
    "execution": {
     "iopub.execute_input": "2022-02-28T22:17:44.865329Z",
     "iopub.status.busy": "2022-02-28T22:17:44.865142Z",
     "iopub.status.idle": "2022-02-28T22:17:44.877542Z",
     "shell.execute_reply": "2022-02-28T22:17:44.876915Z"
    },
    "papermill": {
     "duration": 0.053721,
     "end_time": "2022-02-28T22:17:44.879105",
     "exception": false,
     "start_time": "2022-02-28T22:17:44.825384",
     "status": "completed"
    },
    "tags": []
   },
   "outputs": [],
   "source": [
    "if EQTL_MODEL_FILES_PREFIX is None:\n",
    "    EQTL_MODEL_FILES_PREFIX = conf.PHENOMEXCAN[\"PREDICTION_MODELS_PREFIXES\"][EQTL_MODEL]"
   ]
  },
  {
   "cell_type": "code",
   "execution_count": 6,
   "id": "a9cac80a",
   "metadata": {
    "execution": {
     "iopub.execute_input": "2022-02-28T22:17:44.958917Z",
     "iopub.status.busy": "2022-02-28T22:17:44.958684Z",
     "iopub.status.idle": "2022-02-28T22:17:44.976817Z",
     "shell.execute_reply": "2022-02-28T22:17:44.976222Z"
    },
    "papermill": {
     "duration": 0.059752,
     "end_time": "2022-02-28T22:17:44.978334",
     "exception": false,
     "start_time": "2022-02-28T22:17:44.918582",
     "status": "completed"
    },
    "tags": []
   },
   "outputs": [
    {
     "data": {
      "text/plain": [
       "'Using eQTL model: ELASTIC_NET / en_'"
      ]
     },
     "metadata": {},
     "output_type": "display_data"
    }
   ],
   "source": [
    "display(f\"Using eQTL model: {EQTL_MODEL} / {EQTL_MODEL_FILES_PREFIX}\")"
   ]
  },
  {
   "cell_type": "code",
   "execution_count": 7,
   "id": "96094f8e",
   "metadata": {
    "execution": {
     "iopub.execute_input": "2022-02-28T22:17:45.060881Z",
     "iopub.status.busy": "2022-02-28T22:17:45.060025Z",
     "iopub.status.idle": "2022-02-28T22:17:45.074366Z",
     "shell.execute_reply": "2022-02-28T22:17:45.073653Z"
    },
    "papermill": {
     "duration": 0.056506,
     "end_time": "2022-02-28T22:17:45.075808",
     "exception": false,
     "start_time": "2022-02-28T22:17:45.019302",
     "status": "completed"
    },
    "tags": []
   },
   "outputs": [
    {
     "data": {
      "text/plain": [
       "PosixPath('/opt/data/data/phenomexcan/ld_blocks/en_gene_corrs')"
      ]
     },
     "metadata": {},
     "output_type": "display_data"
    }
   ],
   "source": [
    "INPUT_DIR = (\n",
    "    conf.PHENOMEXCAN[\"LD_BLOCKS\"][\"BASE_DIR\"] / f\"{EQTL_MODEL_FILES_PREFIX}gene_corrs\"\n",
    ")\n",
    "display(INPUT_DIR)"
   ]
  },
  {
   "cell_type": "markdown",
   "id": "85ce1c46",
   "metadata": {
    "papermill": {
     "duration": 0.042717,
     "end_time": "2022-02-28T22:17:45.160135",
     "exception": false,
     "start_time": "2022-02-28T22:17:45.117418",
     "status": "completed"
    },
    "tags": []
   },
   "source": [
    "# Load data"
   ]
  },
  {
   "cell_type": "markdown",
   "id": "ca7e2c53",
   "metadata": {
    "papermill": {
     "duration": 0.040412,
     "end_time": "2022-02-28T22:17:45.241759",
     "exception": false,
     "start_time": "2022-02-28T22:17:45.201347",
     "status": "completed"
    },
    "tags": []
   },
   "source": [
    "## Gene correlations"
   ]
  },
  {
   "cell_type": "code",
   "execution_count": 8,
   "id": "3a6b5dbd",
   "metadata": {
    "execution": {
     "iopub.execute_input": "2022-02-28T22:17:45.322876Z",
     "iopub.status.busy": "2022-02-28T22:17:45.322644Z",
     "iopub.status.idle": "2022-02-28T22:17:45.342552Z",
     "shell.execute_reply": "2022-02-28T22:17:45.341992Z"
    },
    "papermill": {
     "duration": 0.062127,
     "end_time": "2022-02-28T22:17:45.344123",
     "exception": false,
     "start_time": "2022-02-28T22:17:45.281996",
     "status": "completed"
    },
    "tags": []
   },
   "outputs": [],
   "source": [
    "all_gene_corr_files = list(INPUT_DIR.rglob(\"*.pkl\"))"
   ]
  },
  {
   "cell_type": "code",
   "execution_count": 9,
   "id": "aaeafbfd",
   "metadata": {
    "execution": {
     "iopub.execute_input": "2022-02-28T22:17:45.426059Z",
     "iopub.status.busy": "2022-02-28T22:17:45.425840Z",
     "iopub.status.idle": "2022-02-28T22:17:45.439231Z",
     "shell.execute_reply": "2022-02-28T22:17:45.438638Z"
    },
    "papermill": {
     "duration": 0.05583,
     "end_time": "2022-02-28T22:17:45.440779",
     "exception": false,
     "start_time": "2022-02-28T22:17:45.384949",
     "status": "completed"
    },
    "tags": []
   },
   "outputs": [
    {
     "data": {
      "text/plain": [
       "1078"
      ]
     },
     "execution_count": 9,
     "metadata": {},
     "output_type": "execute_result"
    }
   ],
   "source": [
    "len(all_gene_corr_files)"
   ]
  },
  {
   "cell_type": "code",
   "execution_count": 10,
   "id": "7d7c4919",
   "metadata": {
    "execution": {
     "iopub.execute_input": "2022-02-28T22:17:45.523731Z",
     "iopub.status.busy": "2022-02-28T22:17:45.523517Z",
     "iopub.status.idle": "2022-02-28T22:17:45.537719Z",
     "shell.execute_reply": "2022-02-28T22:17:45.536993Z"
    },
    "papermill": {
     "duration": 0.057437,
     "end_time": "2022-02-28T22:17:45.539275",
     "exception": false,
     "start_time": "2022-02-28T22:17:45.481838",
     "status": "completed"
    },
    "tags": []
   },
   "outputs": [
    {
     "data": {
      "text/plain": [
       "[PosixPath('/opt/data/data/phenomexcan/ld_blocks/en_gene_corrs/Adrenal_Gland/gene_corrs-Adrenal_Gland-chr21.pkl'),\n",
       " PosixPath('/opt/data/data/phenomexcan/ld_blocks/en_gene_corrs/Adrenal_Gland/gene_corrs-Adrenal_Gland-chr4.pkl'),\n",
       " PosixPath('/opt/data/data/phenomexcan/ld_blocks/en_gene_corrs/Adrenal_Gland/gene_corrs-Adrenal_Gland-chr18.pkl'),\n",
       " PosixPath('/opt/data/data/phenomexcan/ld_blocks/en_gene_corrs/Adrenal_Gland/gene_corrs-Adrenal_Gland-chr10.pkl'),\n",
       " PosixPath('/opt/data/data/phenomexcan/ld_blocks/en_gene_corrs/Adrenal_Gland/gene_corrs-Adrenal_Gland-chr13.pkl')]"
      ]
     },
     "execution_count": 10,
     "metadata": {},
     "output_type": "execute_result"
    }
   ],
   "source": [
    "all_gene_corr_files[:5]"
   ]
  },
  {
   "cell_type": "code",
   "execution_count": 11,
   "id": "637ed6d6",
   "metadata": {
    "execution": {
     "iopub.execute_input": "2022-02-28T22:17:45.623003Z",
     "iopub.status.busy": "2022-02-28T22:17:45.622786Z",
     "iopub.status.idle": "2022-02-28T22:17:45.635560Z",
     "shell.execute_reply": "2022-02-28T22:17:45.635038Z"
    },
    "papermill": {
     "duration": 0.056046,
     "end_time": "2022-02-28T22:17:45.637052",
     "exception": false,
     "start_time": "2022-02-28T22:17:45.581006",
     "status": "completed"
    },
    "tags": []
   },
   "outputs": [],
   "source": [
    "assert len(all_gene_corr_files) == 22 * 49"
   ]
  },
  {
   "cell_type": "code",
   "execution_count": 12,
   "id": "505d15d6",
   "metadata": {
    "execution": {
     "iopub.execute_input": "2022-02-28T22:17:45.721583Z",
     "iopub.status.busy": "2022-02-28T22:17:45.721355Z",
     "iopub.status.idle": "2022-02-28T22:17:45.734791Z",
     "shell.execute_reply": "2022-02-28T22:17:45.734227Z"
    },
    "papermill": {
     "duration": 0.057284,
     "end_time": "2022-02-28T22:17:45.736309",
     "exception": false,
     "start_time": "2022-02-28T22:17:45.679025",
     "status": "completed"
    },
    "tags": []
   },
   "outputs": [],
   "source": [
    "all_gene_corr_files_df = pd.DataFrame({\"corr_file\": [f for f in all_gene_corr_files]})"
   ]
  },
  {
   "cell_type": "code",
   "execution_count": 13,
   "id": "a79dd3f5",
   "metadata": {
    "execution": {
     "iopub.execute_input": "2022-02-28T22:17:45.820894Z",
     "iopub.status.busy": "2022-02-28T22:17:45.820668Z",
     "iopub.status.idle": "2022-02-28T22:17:45.835148Z",
     "shell.execute_reply": "2022-02-28T22:17:45.834569Z"
    },
    "papermill": {
     "duration": 0.058578,
     "end_time": "2022-02-28T22:17:45.836692",
     "exception": false,
     "start_time": "2022-02-28T22:17:45.778114",
     "status": "completed"
    },
    "tags": []
   },
   "outputs": [],
   "source": [
    "all_gene_corr_files_df = all_gene_corr_files_df.assign(\n",
    "    file_name=all_gene_corr_files_df[\"corr_file\"].apply(lambda x: x.name)\n",
    ")"
   ]
  },
  {
   "cell_type": "code",
   "execution_count": 14,
   "id": "8cdb8088",
   "metadata": {
    "execution": {
     "iopub.execute_input": "2022-02-28T22:17:45.919858Z",
     "iopub.status.busy": "2022-02-28T22:17:45.919641Z",
     "iopub.status.idle": "2022-02-28T22:17:45.933969Z",
     "shell.execute_reply": "2022-02-28T22:17:45.933338Z"
    },
    "papermill": {
     "duration": 0.057462,
     "end_time": "2022-02-28T22:17:45.935504",
     "exception": false,
     "start_time": "2022-02-28T22:17:45.878042",
     "status": "completed"
    },
    "tags": []
   },
   "outputs": [],
   "source": [
    "all_gene_corr_files_df = all_gene_corr_files_df.assign(\n",
    "    tissue=all_gene_corr_files_df[\"file_name\"].apply(\n",
    "        lambda x: x.split(\"-chr\")[0].split(\"gene_corrs-\")[1]\n",
    "    )\n",
    ")"
   ]
  },
  {
   "cell_type": "code",
   "execution_count": 15,
   "id": "74d18e4d",
   "metadata": {
    "execution": {
     "iopub.execute_input": "2022-02-28T22:17:46.020137Z",
     "iopub.status.busy": "2022-02-28T22:17:46.019924Z",
     "iopub.status.idle": "2022-02-28T22:17:46.034902Z",
     "shell.execute_reply": "2022-02-28T22:17:46.034386Z"
    },
    "papermill": {
     "duration": 0.058434,
     "end_time": "2022-02-28T22:17:46.036287",
     "exception": false,
     "start_time": "2022-02-28T22:17:45.977853",
     "status": "completed"
    },
    "tags": []
   },
   "outputs": [],
   "source": [
    "all_gene_corr_files_df = all_gene_corr_files_df.assign(\n",
    "    chromosome=all_gene_corr_files_df[\"file_name\"].apply(\n",
    "        lambda x: int(x.split(\"-chr\")[1].split(\".\")[0])\n",
    "    )\n",
    ")"
   ]
  },
  {
   "cell_type": "code",
   "execution_count": 16,
   "id": "7d998234",
   "metadata": {
    "execution": {
     "iopub.execute_input": "2022-02-28T22:17:46.121236Z",
     "iopub.status.busy": "2022-02-28T22:17:46.121020Z",
     "iopub.status.idle": "2022-02-28T22:17:46.134102Z",
     "shell.execute_reply": "2022-02-28T22:17:46.133571Z"
    },
    "papermill": {
     "duration": 0.057058,
     "end_time": "2022-02-28T22:17:46.135676",
     "exception": false,
     "start_time": "2022-02-28T22:17:46.078618",
     "status": "completed"
    },
    "tags": []
   },
   "outputs": [],
   "source": [
    "assert all_gene_corr_files_df[\"tissue\"].unique().shape[0] == 49"
   ]
  },
  {
   "cell_type": "code",
   "execution_count": 17,
   "id": "53558f69",
   "metadata": {
    "execution": {
     "iopub.execute_input": "2022-02-28T22:17:46.225604Z",
     "iopub.status.busy": "2022-02-28T22:17:46.225384Z",
     "iopub.status.idle": "2022-02-28T22:17:46.238313Z",
     "shell.execute_reply": "2022-02-28T22:17:46.237772Z"
    },
    "papermill": {
     "duration": 0.057353,
     "end_time": "2022-02-28T22:17:46.239852",
     "exception": false,
     "start_time": "2022-02-28T22:17:46.182499",
     "status": "completed"
    },
    "tags": []
   },
   "outputs": [],
   "source": [
    "assert all_gene_corr_files_df[\"chromosome\"].unique().shape[0] == 22\n",
    "assert set(all_gene_corr_files_df[\"chromosome\"]) == set(range(1, 23))"
   ]
  },
  {
   "cell_type": "code",
   "execution_count": 18,
   "id": "8647cde3",
   "metadata": {
    "execution": {
     "iopub.execute_input": "2022-02-28T22:17:46.325482Z",
     "iopub.status.busy": "2022-02-28T22:17:46.325256Z",
     "iopub.status.idle": "2022-02-28T22:17:46.338632Z",
     "shell.execute_reply": "2022-02-28T22:17:46.338081Z"
    },
    "papermill": {
     "duration": 0.058038,
     "end_time": "2022-02-28T22:17:46.340538",
     "exception": false,
     "start_time": "2022-02-28T22:17:46.282500",
     "status": "completed"
    },
    "tags": []
   },
   "outputs": [
    {
     "data": {
      "text/plain": [
       "(1078, 4)"
      ]
     },
     "execution_count": 18,
     "metadata": {},
     "output_type": "execute_result"
    }
   ],
   "source": [
    "all_gene_corr_files_df.shape"
   ]
  },
  {
   "cell_type": "code",
   "execution_count": 19,
   "id": "1bb52af6",
   "metadata": {
    "execution": {
     "iopub.execute_input": "2022-02-28T22:17:46.434375Z",
     "iopub.status.busy": "2022-02-28T22:17:46.434154Z",
     "iopub.status.idle": "2022-02-28T22:17:46.452086Z",
     "shell.execute_reply": "2022-02-28T22:17:46.451505Z"
    },
    "papermill": {
     "duration": 0.064675,
     "end_time": "2022-02-28T22:17:46.453591",
     "exception": false,
     "start_time": "2022-02-28T22:17:46.388916",
     "status": "completed"
    },
    "tags": []
   },
   "outputs": [
    {
     "data": {
      "text/html": [
       "<div>\n",
       "<style scoped>\n",
       "    .dataframe tbody tr th:only-of-type {\n",
       "        vertical-align: middle;\n",
       "    }\n",
       "\n",
       "    .dataframe tbody tr th {\n",
       "        vertical-align: top;\n",
       "    }\n",
       "\n",
       "    .dataframe thead th {\n",
       "        text-align: right;\n",
       "    }\n",
       "</style>\n",
       "<table border=\"1\" class=\"dataframe\">\n",
       "  <thead>\n",
       "    <tr style=\"text-align: right;\">\n",
       "      <th></th>\n",
       "      <th>corr_file</th>\n",
       "      <th>file_name</th>\n",
       "      <th>tissue</th>\n",
       "      <th>chromosome</th>\n",
       "    </tr>\n",
       "  </thead>\n",
       "  <tbody>\n",
       "    <tr>\n",
       "      <th>0</th>\n",
       "      <td>/opt/data/data/phenomexcan/ld_blocks/en_gene_c...</td>\n",
       "      <td>gene_corrs-Adrenal_Gland-chr21.pkl</td>\n",
       "      <td>Adrenal_Gland</td>\n",
       "      <td>21</td>\n",
       "    </tr>\n",
       "    <tr>\n",
       "      <th>1</th>\n",
       "      <td>/opt/data/data/phenomexcan/ld_blocks/en_gene_c...</td>\n",
       "      <td>gene_corrs-Adrenal_Gland-chr4.pkl</td>\n",
       "      <td>Adrenal_Gland</td>\n",
       "      <td>4</td>\n",
       "    </tr>\n",
       "    <tr>\n",
       "      <th>2</th>\n",
       "      <td>/opt/data/data/phenomexcan/ld_blocks/en_gene_c...</td>\n",
       "      <td>gene_corrs-Adrenal_Gland-chr18.pkl</td>\n",
       "      <td>Adrenal_Gland</td>\n",
       "      <td>18</td>\n",
       "    </tr>\n",
       "    <tr>\n",
       "      <th>3</th>\n",
       "      <td>/opt/data/data/phenomexcan/ld_blocks/en_gene_c...</td>\n",
       "      <td>gene_corrs-Adrenal_Gland-chr10.pkl</td>\n",
       "      <td>Adrenal_Gland</td>\n",
       "      <td>10</td>\n",
       "    </tr>\n",
       "    <tr>\n",
       "      <th>4</th>\n",
       "      <td>/opt/data/data/phenomexcan/ld_blocks/en_gene_c...</td>\n",
       "      <td>gene_corrs-Adrenal_Gland-chr13.pkl</td>\n",
       "      <td>Adrenal_Gland</td>\n",
       "      <td>13</td>\n",
       "    </tr>\n",
       "  </tbody>\n",
       "</table>\n",
       "</div>"
      ],
      "text/plain": [
       "                                           corr_file  \\\n",
       "0  /opt/data/data/phenomexcan/ld_blocks/en_gene_c...   \n",
       "1  /opt/data/data/phenomexcan/ld_blocks/en_gene_c...   \n",
       "2  /opt/data/data/phenomexcan/ld_blocks/en_gene_c...   \n",
       "3  /opt/data/data/phenomexcan/ld_blocks/en_gene_c...   \n",
       "4  /opt/data/data/phenomexcan/ld_blocks/en_gene_c...   \n",
       "\n",
       "                            file_name         tissue  chromosome  \n",
       "0  gene_corrs-Adrenal_Gland-chr21.pkl  Adrenal_Gland          21  \n",
       "1   gene_corrs-Adrenal_Gland-chr4.pkl  Adrenal_Gland           4  \n",
       "2  gene_corrs-Adrenal_Gland-chr18.pkl  Adrenal_Gland          18  \n",
       "3  gene_corrs-Adrenal_Gland-chr10.pkl  Adrenal_Gland          10  \n",
       "4  gene_corrs-Adrenal_Gland-chr13.pkl  Adrenal_Gland          13  "
      ]
     },
     "execution_count": 19,
     "metadata": {},
     "output_type": "execute_result"
    }
   ],
   "source": [
    "all_gene_corr_files_df.head()"
   ]
  },
  {
   "cell_type": "markdown",
   "id": "0954e7e7",
   "metadata": {
    "papermill": {
     "duration": 0.043174,
     "end_time": "2022-02-28T22:17:46.540087",
     "exception": false,
     "start_time": "2022-02-28T22:17:46.496913",
     "status": "completed"
    },
    "tags": []
   },
   "source": [
    "## MultiPLIER Z"
   ]
  },
  {
   "cell_type": "code",
   "execution_count": 20,
   "id": "066dd1d3",
   "metadata": {
    "execution": {
     "iopub.execute_input": "2022-02-28T22:17:46.626991Z",
     "iopub.status.busy": "2022-02-28T22:17:46.626775Z",
     "iopub.status.idle": "2022-02-28T22:17:46.664160Z",
     "shell.execute_reply": "2022-02-28T22:17:46.663595Z"
    },
    "papermill": {
     "duration": 0.082362,
     "end_time": "2022-02-28T22:17:46.665765",
     "exception": false,
     "start_time": "2022-02-28T22:17:46.583403",
     "status": "completed"
    },
    "tags": []
   },
   "outputs": [],
   "source": [
    "multiplier_z_genes = pd.read_pickle(\n",
    "    conf.MULTIPLIER[\"MODEL_Z_MATRIX_FILE\"]\n",
    ").index.tolist()"
   ]
  },
  {
   "cell_type": "code",
   "execution_count": 21,
   "id": "8c2ef954",
   "metadata": {
    "execution": {
     "iopub.execute_input": "2022-02-28T22:17:46.756934Z",
     "iopub.status.busy": "2022-02-28T22:17:46.756344Z",
     "iopub.status.idle": "2022-02-28T22:17:46.769583Z",
     "shell.execute_reply": "2022-02-28T22:17:46.768863Z"
    },
    "papermill": {
     "duration": 0.058334,
     "end_time": "2022-02-28T22:17:46.771076",
     "exception": false,
     "start_time": "2022-02-28T22:17:46.712742",
     "status": "completed"
    },
    "tags": []
   },
   "outputs": [
    {
     "data": {
      "text/plain": [
       "6750"
      ]
     },
     "execution_count": 21,
     "metadata": {},
     "output_type": "execute_result"
    }
   ],
   "source": [
    "len(multiplier_z_genes)"
   ]
  },
  {
   "cell_type": "code",
   "execution_count": 22,
   "id": "02d5c9af",
   "metadata": {
    "execution": {
     "iopub.execute_input": "2022-02-28T22:17:46.859371Z",
     "iopub.status.busy": "2022-02-28T22:17:46.858803Z",
     "iopub.status.idle": "2022-02-28T22:17:46.872260Z",
     "shell.execute_reply": "2022-02-28T22:17:46.871505Z"
    },
    "papermill": {
     "duration": 0.059323,
     "end_time": "2022-02-28T22:17:46.873770",
     "exception": false,
     "start_time": "2022-02-28T22:17:46.814447",
     "status": "completed"
    },
    "tags": []
   },
   "outputs": [
    {
     "data": {
      "text/plain": [
       "['GAS6',\n",
       " 'MMP14',\n",
       " 'DSP',\n",
       " 'MARCKSL1',\n",
       " 'SPARC',\n",
       " 'CTSD',\n",
       " 'EPAS1',\n",
       " 'PALLD',\n",
       " 'PHC2',\n",
       " 'LGALS3BP']"
      ]
     },
     "execution_count": 22,
     "metadata": {},
     "output_type": "execute_result"
    }
   ],
   "source": [
    "multiplier_z_genes[:10]"
   ]
  },
  {
   "cell_type": "markdown",
   "id": "ead1d676",
   "metadata": {
    "papermill": {
     "duration": 0.043053,
     "end_time": "2022-02-28T22:17:46.961607",
     "exception": false,
     "start_time": "2022-02-28T22:17:46.918554",
     "status": "completed"
    },
    "tags": []
   },
   "source": [
    "## Get gene objects"
   ]
  },
  {
   "cell_type": "code",
   "execution_count": 23,
   "id": "9739ebd0",
   "metadata": {
    "execution": {
     "iopub.execute_input": "2022-02-28T22:17:47.049789Z",
     "iopub.status.busy": "2022-02-28T22:17:47.049579Z",
     "iopub.status.idle": "2022-02-28T22:17:47.069217Z",
     "shell.execute_reply": "2022-02-28T22:17:47.068557Z"
    },
    "papermill": {
     "duration": 0.065977,
     "end_time": "2022-02-28T22:17:47.070900",
     "exception": false,
     "start_time": "2022-02-28T22:17:47.004923",
     "status": "completed"
    },
    "tags": []
   },
   "outputs": [],
   "source": [
    "multiplier_gene_obj = {\n",
    "    gene_name: Gene(name=gene_name)\n",
    "    for gene_name in multiplier_z_genes\n",
    "    if gene_name in Gene.GENE_NAME_TO_ID_MAP\n",
    "}"
   ]
  },
  {
   "cell_type": "code",
   "execution_count": 24,
   "id": "9b961463",
   "metadata": {
    "execution": {
     "iopub.execute_input": "2022-02-28T22:17:47.160781Z",
     "iopub.status.busy": "2022-02-28T22:17:47.160594Z",
     "iopub.status.idle": "2022-02-28T22:17:47.174218Z",
     "shell.execute_reply": "2022-02-28T22:17:47.173675Z"
    },
    "papermill": {
     "duration": 0.061466,
     "end_time": "2022-02-28T22:17:47.175630",
     "exception": false,
     "start_time": "2022-02-28T22:17:47.114164",
     "status": "completed"
    },
    "tags": []
   },
   "outputs": [
    {
     "data": {
      "text/plain": [
       "6454"
      ]
     },
     "execution_count": 24,
     "metadata": {},
     "output_type": "execute_result"
    }
   ],
   "source": [
    "len(multiplier_gene_obj)"
   ]
  },
  {
   "cell_type": "code",
   "execution_count": 25,
   "id": "96c5d2b0",
   "metadata": {
    "execution": {
     "iopub.execute_input": "2022-02-28T22:17:47.266817Z",
     "iopub.status.busy": "2022-02-28T22:17:47.265977Z",
     "iopub.status.idle": "2022-02-28T22:17:47.279628Z",
     "shell.execute_reply": "2022-02-28T22:17:47.279021Z"
    },
    "papermill": {
     "duration": 0.059596,
     "end_time": "2022-02-28T22:17:47.281046",
     "exception": false,
     "start_time": "2022-02-28T22:17:47.221450",
     "status": "completed"
    },
    "tags": []
   },
   "outputs": [
    {
     "data": {
      "text/plain": [
       "'ENSG00000183087'"
      ]
     },
     "execution_count": 25,
     "metadata": {},
     "output_type": "execute_result"
    }
   ],
   "source": [
    "multiplier_gene_obj[\"GAS6\"].ensembl_id"
   ]
  },
  {
   "cell_type": "code",
   "execution_count": 26,
   "id": "77f5b215",
   "metadata": {
    "execution": {
     "iopub.execute_input": "2022-02-28T22:17:47.372094Z",
     "iopub.status.busy": "2022-02-28T22:17:47.371458Z",
     "iopub.status.idle": "2022-02-28T22:17:48.192868Z",
     "shell.execute_reply": "2022-02-28T22:17:48.192307Z"
    },
    "papermill": {
     "duration": 0.867852,
     "end_time": "2022-02-28T22:17:48.194551",
     "exception": false,
     "start_time": "2022-02-28T22:17:47.326699",
     "status": "completed"
    },
    "tags": []
   },
   "outputs": [],
   "source": [
    "_gene_obj = list(multiplier_gene_obj.values())\n",
    "\n",
    "genes_info = pd.DataFrame(\n",
    "    {\n",
    "        \"name\": [g.name for g in _gene_obj],\n",
    "        \"id\": [g.ensembl_id for g in _gene_obj],\n",
    "        \"chr\": [g.chromosome for g in _gene_obj],\n",
    "    }\n",
    ").dropna()"
   ]
  },
  {
   "cell_type": "code",
   "execution_count": 27,
   "id": "612ed2f3",
   "metadata": {
    "execution": {
     "iopub.execute_input": "2022-02-28T22:17:48.285962Z",
     "iopub.status.busy": "2022-02-28T22:17:48.285746Z",
     "iopub.status.idle": "2022-02-28T22:17:48.299740Z",
     "shell.execute_reply": "2022-02-28T22:17:48.299002Z"
    },
    "papermill": {
     "duration": 0.060886,
     "end_time": "2022-02-28T22:17:48.301050",
     "exception": false,
     "start_time": "2022-02-28T22:17:48.240164",
     "status": "completed"
    },
    "tags": []
   },
   "outputs": [
    {
     "data": {
      "text/plain": [
       "(6452, 3)"
      ]
     },
     "execution_count": 27,
     "metadata": {},
     "output_type": "execute_result"
    }
   ],
   "source": [
    "genes_info.shape"
   ]
  },
  {
   "cell_type": "code",
   "execution_count": 28,
   "id": "477861f8",
   "metadata": {
    "execution": {
     "iopub.execute_input": "2022-02-28T22:17:48.393091Z",
     "iopub.status.busy": "2022-02-28T22:17:48.392899Z",
     "iopub.status.idle": "2022-02-28T22:17:48.409700Z",
     "shell.execute_reply": "2022-02-28T22:17:48.409035Z"
    },
    "papermill": {
     "duration": 0.063558,
     "end_time": "2022-02-28T22:17:48.411079",
     "exception": false,
     "start_time": "2022-02-28T22:17:48.347521",
     "status": "completed"
    },
    "tags": []
   },
   "outputs": [
    {
     "data": {
      "text/html": [
       "<div>\n",
       "<style scoped>\n",
       "    .dataframe tbody tr th:only-of-type {\n",
       "        vertical-align: middle;\n",
       "    }\n",
       "\n",
       "    .dataframe tbody tr th {\n",
       "        vertical-align: top;\n",
       "    }\n",
       "\n",
       "    .dataframe thead th {\n",
       "        text-align: right;\n",
       "    }\n",
       "</style>\n",
       "<table border=\"1\" class=\"dataframe\">\n",
       "  <thead>\n",
       "    <tr style=\"text-align: right;\">\n",
       "      <th></th>\n",
       "      <th>name</th>\n",
       "      <th>id</th>\n",
       "      <th>chr</th>\n",
       "    </tr>\n",
       "  </thead>\n",
       "  <tbody>\n",
       "    <tr>\n",
       "      <th>0</th>\n",
       "      <td>GAS6</td>\n",
       "      <td>ENSG00000183087</td>\n",
       "      <td>13</td>\n",
       "    </tr>\n",
       "    <tr>\n",
       "      <th>1</th>\n",
       "      <td>MMP14</td>\n",
       "      <td>ENSG00000157227</td>\n",
       "      <td>14</td>\n",
       "    </tr>\n",
       "    <tr>\n",
       "      <th>2</th>\n",
       "      <td>DSP</td>\n",
       "      <td>ENSG00000096696</td>\n",
       "      <td>6</td>\n",
       "    </tr>\n",
       "    <tr>\n",
       "      <th>3</th>\n",
       "      <td>MARCKSL1</td>\n",
       "      <td>ENSG00000175130</td>\n",
       "      <td>1</td>\n",
       "    </tr>\n",
       "    <tr>\n",
       "      <th>4</th>\n",
       "      <td>SPARC</td>\n",
       "      <td>ENSG00000113140</td>\n",
       "      <td>5</td>\n",
       "    </tr>\n",
       "  </tbody>\n",
       "</table>\n",
       "</div>"
      ],
      "text/plain": [
       "       name               id chr\n",
       "0      GAS6  ENSG00000183087  13\n",
       "1     MMP14  ENSG00000157227  14\n",
       "2       DSP  ENSG00000096696   6\n",
       "3  MARCKSL1  ENSG00000175130   1\n",
       "4     SPARC  ENSG00000113140   5"
      ]
     },
     "execution_count": 28,
     "metadata": {},
     "output_type": "execute_result"
    }
   ],
   "source": [
    "genes_info.head()"
   ]
  },
  {
   "cell_type": "markdown",
   "id": "d3f7c38b",
   "metadata": {
    "papermill": {
     "duration": 0.045555,
     "end_time": "2022-02-28T22:17:48.502689",
     "exception": false,
     "start_time": "2022-02-28T22:17:48.457134",
     "status": "completed"
    },
    "tags": []
   },
   "source": [
    "## Get tissues names"
   ]
  },
  {
   "cell_type": "code",
   "execution_count": 29,
   "id": "bc13af08",
   "metadata": {
    "execution": {
     "iopub.execute_input": "2022-02-28T22:17:48.592943Z",
     "iopub.status.busy": "2022-02-28T22:17:48.592728Z",
     "iopub.status.idle": "2022-02-28T22:17:48.606397Z",
     "shell.execute_reply": "2022-02-28T22:17:48.605817Z"
    },
    "papermill": {
     "duration": 0.060743,
     "end_time": "2022-02-28T22:17:48.607951",
     "exception": false,
     "start_time": "2022-02-28T22:17:48.547208",
     "status": "completed"
    },
    "tags": []
   },
   "outputs": [],
   "source": [
    "db_files = list(conf.PHENOMEXCAN[\"PREDICTION_MODELS\"][EQTL_MODEL].glob(\"*.db\"))"
   ]
  },
  {
   "cell_type": "code",
   "execution_count": 30,
   "id": "01de3e59",
   "metadata": {
    "execution": {
     "iopub.execute_input": "2022-02-28T22:17:48.700108Z",
     "iopub.status.busy": "2022-02-28T22:17:48.699882Z",
     "iopub.status.idle": "2022-02-28T22:17:48.713384Z",
     "shell.execute_reply": "2022-02-28T22:17:48.712731Z"
    },
    "papermill": {
     "duration": 0.060752,
     "end_time": "2022-02-28T22:17:48.714892",
     "exception": false,
     "start_time": "2022-02-28T22:17:48.654140",
     "status": "completed"
    },
    "tags": []
   },
   "outputs": [],
   "source": [
    "assert len(db_files) == 49"
   ]
  },
  {
   "cell_type": "code",
   "execution_count": 31,
   "id": "40844f16",
   "metadata": {
    "execution": {
     "iopub.execute_input": "2022-02-28T22:17:48.805927Z",
     "iopub.status.busy": "2022-02-28T22:17:48.805712Z",
     "iopub.status.idle": "2022-02-28T22:17:48.819308Z",
     "shell.execute_reply": "2022-02-28T22:17:48.818796Z"
    },
    "papermill": {
     "duration": 0.060524,
     "end_time": "2022-02-28T22:17:48.820820",
     "exception": false,
     "start_time": "2022-02-28T22:17:48.760296",
     "status": "completed"
    },
    "tags": []
   },
   "outputs": [],
   "source": [
    "tissues = [str(f).split(EQTL_MODEL_FILES_PREFIX)[1].split(\".db\")[0] for f in db_files]"
   ]
  },
  {
   "cell_type": "code",
   "execution_count": 32,
   "id": "bb0d38ac",
   "metadata": {
    "execution": {
     "iopub.execute_input": "2022-02-28T22:17:48.913130Z",
     "iopub.status.busy": "2022-02-28T22:17:48.912940Z",
     "iopub.status.idle": "2022-02-28T22:17:48.927718Z",
     "shell.execute_reply": "2022-02-28T22:17:48.927016Z"
    },
    "papermill": {
     "duration": 0.062267,
     "end_time": "2022-02-28T22:17:48.929100",
     "exception": false,
     "start_time": "2022-02-28T22:17:48.866833",
     "status": "completed"
    },
    "tags": []
   },
   "outputs": [
    {
     "data": {
      "text/plain": [
       "['Vagina',\n",
       " 'Colon_Sigmoid',\n",
       " 'Brain_Caudate_basal_ganglia',\n",
       " 'Stomach',\n",
       " 'Skin_Not_Sun_Exposed_Suprapubic']"
      ]
     },
     "execution_count": 32,
     "metadata": {},
     "output_type": "execute_result"
    }
   ],
   "source": [
    "tissues[:5]"
   ]
  },
  {
   "cell_type": "markdown",
   "id": "0afc81cf",
   "metadata": {
    "papermill": {
     "duration": 0.045796,
     "end_time": "2022-02-28T22:17:49.021278",
     "exception": false,
     "start_time": "2022-02-28T22:17:48.975482",
     "status": "completed"
    },
    "tags": []
   },
   "source": [
    "# Average correlations per chromosome"
   ]
  },
  {
   "cell_type": "code",
   "execution_count": 33,
   "id": "ce14b4cb",
   "metadata": {
    "execution": {
     "iopub.execute_input": "2022-02-28T22:17:49.113768Z",
     "iopub.status.busy": "2022-02-28T22:17:49.113566Z",
     "iopub.status.idle": "2022-02-28T22:17:52.898884Z",
     "shell.execute_reply": "2022-02-28T22:17:52.898165Z"
    },
    "papermill": {
     "duration": 3.833339,
     "end_time": "2022-02-28T22:17:52.900342",
     "exception": false,
     "start_time": "2022-02-28T22:17:49.067003",
     "status": "completed"
    },
    "tags": []
   },
   "outputs": [
    {
     "name": "stdout",
     "output_type": "stream",
     "text": [
      "Chromosome: 1\n",
      "Number of corrs files: (49, 4)\n",
      "Number of MultiPLIER genes: (700, 3)\n",
      "Reading corrs per tissue\n"
     ]
    },
    {
     "data": {
      "text/plain": [
       "count    244650.000000\n",
       "mean          0.000036\n",
       "std           0.005179\n",
       "min          -0.657505\n",
       "25%          -0.000830\n",
       "50%           0.000000\n",
       "75%           0.000844\n",
       "max           0.449801\n",
       "dtype: float64"
      ]
     },
     "metadata": {},
     "output_type": "display_data"
    },
    {
     "name": "stdout",
     "output_type": "stream",
     "text": [
      "\n",
      "\n",
      "Chromosome: 2\n",
      "Number of corrs files: (49, 4)\n",
      "Number of MultiPLIER genes: (445, 3)\n",
      "Reading corrs per tissue\n"
     ]
    },
    {
     "data": {
      "text/plain": [
       "count    98790.000000\n",
       "mean         0.000006\n",
       "std          0.006691\n",
       "min         -0.401178\n",
       "25%         -0.001077\n",
       "50%          0.000000\n",
       "75%          0.001064\n",
       "max          0.442726\n",
       "dtype: float64"
      ]
     },
     "metadata": {},
     "output_type": "display_data"
    },
    {
     "name": "stdout",
     "output_type": "stream",
     "text": [
      "\n",
      "\n",
      "Chromosome: 3\n",
      "Number of corrs files: (49, 4)\n",
      "Number of MultiPLIER genes: (393, 3)\n",
      "Reading corrs per tissue\n"
     ]
    },
    {
     "data": {
      "text/plain": [
       "count    77028.000000\n",
       "mean         0.000038\n",
       "std          0.007888\n",
       "min         -0.715975\n",
       "25%         -0.001024\n",
       "50%          0.000000\n",
       "75%          0.001055\n",
       "max          0.644416\n",
       "dtype: float64"
      ]
     },
     "metadata": {},
     "output_type": "display_data"
    },
    {
     "name": "stdout",
     "output_type": "stream",
     "text": [
      "\n",
      "\n",
      "Chromosome: 4\n",
      "Number of corrs files: (49, 4)\n",
      "Number of MultiPLIER genes: (244, 3)\n",
      "Reading corrs per tissue\n"
     ]
    },
    {
     "data": {
      "text/plain": [
       "count    29646.000000\n",
       "mean         0.000106\n",
       "std          0.006717\n",
       "min         -0.315747\n",
       "25%         -0.001046\n",
       "50%          0.000000\n",
       "75%          0.001071\n",
       "max          0.429638\n",
       "dtype: float64"
      ]
     },
     "metadata": {},
     "output_type": "display_data"
    },
    {
     "name": "stdout",
     "output_type": "stream",
     "text": [
      "\n",
      "\n",
      "Chromosome: 5\n",
      "Number of corrs files: (49, 4)\n",
      "Number of MultiPLIER genes: (306, 3)\n",
      "Reading corrs per tissue\n"
     ]
    },
    {
     "data": {
      "text/plain": [
       "count    46665.000000\n",
       "mean        -0.000006\n",
       "std          0.006144\n",
       "min         -0.250612\n",
       "25%         -0.000914\n",
       "50%          0.000000\n",
       "75%          0.000927\n",
       "max          0.355188\n",
       "dtype: float64"
      ]
     },
     "metadata": {},
     "output_type": "display_data"
    },
    {
     "name": "stdout",
     "output_type": "stream",
     "text": [
      "\n",
      "\n",
      "Chromosome: 6\n",
      "Number of corrs files: (49, 4)\n",
      "Number of MultiPLIER genes: (339, 3)\n",
      "Reading corrs per tissue\n"
     ]
    },
    {
     "data": {
      "text/plain": [
       "count    57291.000000\n",
       "mean         0.000065\n",
       "std          0.006433\n",
       "min         -0.224221\n",
       "25%         -0.000918\n",
       "50%          0.000000\n",
       "75%          0.000937\n",
       "max          0.300762\n",
       "dtype: float64"
      ]
     },
     "metadata": {},
     "output_type": "display_data"
    },
    {
     "name": "stdout",
     "output_type": "stream",
     "text": [
      "\n",
      "\n",
      "Chromosome: 7\n",
      "Number of corrs files: (49, 4)\n",
      "Number of MultiPLIER genes: (281, 3)\n",
      "Reading corrs per tissue\n"
     ]
    },
    {
     "data": {
      "text/plain": [
       "count    39340.000000\n",
       "mean         0.000105\n",
       "std          0.007694\n",
       "min         -0.431065\n",
       "25%         -0.001117\n",
       "50%          0.000000\n",
       "75%          0.001102\n",
       "max          0.580342\n",
       "dtype: float64"
      ]
     },
     "metadata": {},
     "output_type": "display_data"
    },
    {
     "name": "stdout",
     "output_type": "stream",
     "text": [
      "\n",
      "\n",
      "Chromosome: 8\n",
      "Number of corrs files: (49, 4)\n",
      "Number of MultiPLIER genes: (222, 3)\n",
      "Reading corrs per tissue\n"
     ]
    },
    {
     "data": {
      "text/plain": [
       "count    24531.000000\n",
       "mean         0.000001\n",
       "std          0.006579\n",
       "min         -0.352169\n",
       "25%         -0.000991\n",
       "50%          0.000000\n",
       "75%          0.000985\n",
       "max          0.428689\n",
       "dtype: float64"
      ]
     },
     "metadata": {},
     "output_type": "display_data"
    },
    {
     "name": "stdout",
     "output_type": "stream",
     "text": [
      "\n",
      "\n",
      "Chromosome: 9\n",
      "Number of corrs files: (49, 4)\n",
      "Number of MultiPLIER genes: (245, 3)\n",
      "Reading corrs per tissue\n"
     ]
    },
    {
     "data": {
      "text/plain": [
       "count    29890.000000\n",
       "mean        -0.000046\n",
       "std          0.007557\n",
       "min         -0.688125\n",
       "25%         -0.001031\n",
       "50%          0.000000\n",
       "75%          0.001014\n",
       "max          0.176839\n",
       "dtype: float64"
      ]
     },
     "metadata": {},
     "output_type": "display_data"
    },
    {
     "name": "stdout",
     "output_type": "stream",
     "text": [
      "\n",
      "\n",
      "Chromosome: 10\n",
      "Number of corrs files: (49, 4)\n",
      "Number of MultiPLIER genes: (245, 3)\n",
      "Reading corrs per tissue\n"
     ]
    },
    {
     "data": {
      "text/plain": [
       "count    29890.000000\n",
       "mean        -0.000013\n",
       "std          0.007397\n",
       "min         -0.570005\n",
       "25%         -0.001079\n",
       "50%          0.000000\n",
       "75%          0.001089\n",
       "max          0.437689\n",
       "dtype: float64"
      ]
     },
     "metadata": {},
     "output_type": "display_data"
    },
    {
     "name": "stdout",
     "output_type": "stream",
     "text": [
      "\n",
      "\n",
      "Chromosome: 11\n",
      "Number of corrs files: (49, 4)\n",
      "Number of MultiPLIER genes: (387, 3)\n",
      "Reading corrs per tissue\n"
     ]
    },
    {
     "data": {
      "text/plain": [
       "count    74691.000000\n",
       "mean         0.000048\n",
       "std          0.007318\n",
       "min         -0.263071\n",
       "25%         -0.001035\n",
       "50%          0.000000\n",
       "75%          0.001020\n",
       "max          0.356648\n",
       "dtype: float64"
      ]
     },
     "metadata": {},
     "output_type": "display_data"
    },
    {
     "name": "stdout",
     "output_type": "stream",
     "text": [
      "\n",
      "\n",
      "Chromosome: 12\n",
      "Number of corrs files: (49, 4)\n",
      "Number of MultiPLIER genes: (389, 3)\n",
      "Reading corrs per tissue\n"
     ]
    },
    {
     "data": {
      "text/plain": [
       "count    75466.000000\n",
       "mean         0.000022\n",
       "std          0.006459\n",
       "min         -0.788436\n",
       "25%         -0.000833\n",
       "50%          0.000000\n",
       "75%          0.000840\n",
       "max          0.506808\n",
       "dtype: float64"
      ]
     },
     "metadata": {},
     "output_type": "display_data"
    },
    {
     "name": "stdout",
     "output_type": "stream",
     "text": [
      "\n",
      "\n",
      "Chromosome: 13\n",
      "Number of corrs files: (49, 4)\n",
      "Number of MultiPLIER genes: (118, 3)\n",
      "Reading corrs per tissue\n"
     ]
    },
    {
     "data": {
      "text/plain": [
       "count    6903.000000\n",
       "mean       -0.000023\n",
       "std         0.008952\n",
       "min        -0.324982\n",
       "25%        -0.001101\n",
       "50%         0.000000\n",
       "75%         0.001106\n",
       "max         0.252036\n",
       "dtype: float64"
      ]
     },
     "metadata": {},
     "output_type": "display_data"
    },
    {
     "name": "stdout",
     "output_type": "stream",
     "text": [
      "\n",
      "\n",
      "Chromosome: 14\n",
      "Number of corrs files: (49, 4)\n",
      "Number of MultiPLIER genes: (211, 3)\n",
      "Reading corrs per tissue\n"
     ]
    },
    {
     "data": {
      "text/plain": [
       "count    22155.000000\n",
       "mean         0.000032\n",
       "std          0.005755\n",
       "min         -0.295689\n",
       "25%         -0.000819\n",
       "50%          0.000000\n",
       "75%          0.000867\n",
       "max          0.204997\n",
       "dtype: float64"
      ]
     },
     "metadata": {},
     "output_type": "display_data"
    },
    {
     "name": "stdout",
     "output_type": "stream",
     "text": [
      "\n",
      "\n",
      "Chromosome: 15\n",
      "Number of corrs files: (49, 4)\n",
      "Number of MultiPLIER genes: (187, 3)\n",
      "Reading corrs per tissue\n"
     ]
    },
    {
     "data": {
      "text/plain": [
       "count    17391.000000\n",
       "mean         0.000133\n",
       "std          0.009212\n",
       "min         -0.382952\n",
       "25%         -0.001240\n",
       "50%          0.000000\n",
       "75%          0.001201\n",
       "max          0.466158\n",
       "dtype: float64"
      ]
     },
     "metadata": {},
     "output_type": "display_data"
    },
    {
     "name": "stdout",
     "output_type": "stream",
     "text": [
      "\n",
      "\n",
      "Chromosome: 16\n",
      "Number of corrs files: (49, 4)\n",
      "Number of MultiPLIER genes: (274, 3)\n",
      "Reading corrs per tissue\n"
     ]
    },
    {
     "data": {
      "text/plain": [
       "count    37401.000000\n",
       "mean        -0.000040\n",
       "std          0.010765\n",
       "min         -0.639195\n",
       "25%         -0.001109\n",
       "50%          0.000000\n",
       "75%          0.001095\n",
       "max          0.578471\n",
       "dtype: float64"
      ]
     },
     "metadata": {},
     "output_type": "display_data"
    },
    {
     "name": "stdout",
     "output_type": "stream",
     "text": [
      "\n",
      "\n",
      "Chromosome: 17\n",
      "Number of corrs files: (49, 4)\n",
      "Number of MultiPLIER genes: (411, 3)\n",
      "Reading corrs per tissue\n"
     ]
    },
    {
     "data": {
      "text/plain": [
       "count    84255.000000\n",
       "mean         0.000029\n",
       "std          0.008301\n",
       "min         -0.683791\n",
       "25%         -0.001019\n",
       "50%          0.000000\n",
       "75%          0.001058\n",
       "max          0.395105\n",
       "dtype: float64"
      ]
     },
     "metadata": {},
     "output_type": "display_data"
    },
    {
     "name": "stdout",
     "output_type": "stream",
     "text": [
      "\n",
      "\n",
      "Chromosome: 18\n",
      "Number of corrs files: (49, 4)\n",
      "Number of MultiPLIER genes: (96, 3)\n",
      "Reading corrs per tissue\n"
     ]
    },
    {
     "data": {
      "text/plain": [
       "count    4560.000000\n",
       "mean        0.000017\n",
       "std         0.004873\n",
       "min        -0.067588\n",
       "25%        -0.001300\n",
       "50%         0.000000\n",
       "75%         0.001299\n",
       "max         0.109693\n",
       "dtype: float64"
      ]
     },
     "metadata": {},
     "output_type": "display_data"
    },
    {
     "name": "stdout",
     "output_type": "stream",
     "text": [
      "\n",
      "\n",
      "Chromosome: 19\n",
      "Number of corrs files: (49, 4)\n",
      "Number of MultiPLIER genes: (540, 3)\n",
      "Reading corrs per tissue\n"
     ]
    },
    {
     "data": {
      "text/plain": [
       "count    145530.000000\n",
       "mean          0.000032\n",
       "std           0.006789\n",
       "min          -0.481817\n",
       "25%          -0.000977\n",
       "50%           0.000000\n",
       "75%           0.001001\n",
       "max           0.387669\n",
       "dtype: float64"
      ]
     },
     "metadata": {},
     "output_type": "display_data"
    },
    {
     "name": "stdout",
     "output_type": "stream",
     "text": [
      "\n",
      "\n",
      "Chromosome: 20\n",
      "Number of corrs files: (49, 4)\n",
      "Number of MultiPLIER genes: (187, 3)\n",
      "Reading corrs per tissue\n"
     ]
    },
    {
     "data": {
      "text/plain": [
       "count    17391.000000\n",
       "mean         0.000016\n",
       "std          0.007433\n",
       "min         -0.250657\n",
       "25%         -0.000972\n",
       "50%          0.000000\n",
       "75%          0.001018\n",
       "max          0.473776\n",
       "dtype: float64"
      ]
     },
     "metadata": {},
     "output_type": "display_data"
    },
    {
     "name": "stdout",
     "output_type": "stream",
     "text": [
      "\n",
      "\n",
      "Chromosome: 21\n",
      "Number of corrs files: (49, 4)\n",
      "Number of MultiPLIER genes: (62, 3)\n",
      "Reading corrs per tissue\n"
     ]
    },
    {
     "data": {
      "text/plain": [
       "count    1891.000000\n",
       "mean        0.000590\n",
       "std         0.015168\n",
       "min        -0.385110\n",
       "25%        -0.001492\n",
       "50%         0.000005\n",
       "75%         0.001952\n",
       "max         0.161605\n",
       "dtype: float64"
      ]
     },
     "metadata": {},
     "output_type": "display_data"
    },
    {
     "name": "stdout",
     "output_type": "stream",
     "text": [
      "\n",
      "\n",
      "Chromosome: 22\n",
      "Number of corrs files: (49, 4)\n",
      "Number of MultiPLIER genes: (170, 3)\n",
      "Reading corrs per tissue\n"
     ]
    },
    {
     "data": {
      "text/plain": [
       "count    14365.000000\n",
       "mean        -0.000099\n",
       "std          0.013946\n",
       "min         -0.704460\n",
       "25%         -0.001529\n",
       "50%          0.000000\n",
       "75%          0.001453\n",
       "max          0.754228\n",
       "dtype: float64"
      ]
     },
     "metadata": {},
     "output_type": "display_data"
    },
    {
     "name": "stdout",
     "output_type": "stream",
     "text": [
      "\n",
      "\n"
     ]
    }
   ],
   "source": [
    "corrs_per_chr = {}\n",
    "\n",
    "for chr_num in range(1, 23):\n",
    "    print(f\"Chromosome: {chr_num}\", flush=True)\n",
    "\n",
    "    chr_files = all_gene_corr_files_df[all_gene_corr_files_df[\"chromosome\"] == chr_num]\n",
    "    print(f\"Number of corrs files: {chr_files.shape}\")\n",
    "\n",
    "    multiplier_genes_in_chr = genes_info[genes_info[\"chr\"] == str(chr_num)]\n",
    "    print(f\"Number of MultiPLIER genes: {multiplier_genes_in_chr.shape}\")\n",
    "\n",
    "    # create final dataframe with corrs for this chr\n",
    "    chr_df = pd.DataFrame(\n",
    "        data=0.0,\n",
    "        index=multiplier_genes_in_chr[\"id\"],\n",
    "        columns=multiplier_genes_in_chr[\"id\"],\n",
    "    )\n",
    "\n",
    "    print(\"Reading corrs per tissue\", flush=True)\n",
    "    for idx, tissue_corrs in chr_files.iterrows():\n",
    "        tissue_corrs_df = pd.read_pickle(tissue_corrs[\"corr_file\"])\n",
    "\n",
    "        nan_values = tissue_corrs_df.isna()\n",
    "        if nan_values.any().any():\n",
    "            print(\n",
    "                f\"  WARNING ({tissue_corrs['tissue']}): has NaN values ({nan_values.sum().sum()})\"\n",
    "            )\n",
    "            tissue_corrs_df = tissue_corrs_df.fillna(0.0)\n",
    "\n",
    "        # align\n",
    "        tissue_corrs_df = tissue_corrs_df.loc[chr_df.index, chr_df.columns]\n",
    "\n",
    "        chr_df = chr_df + tissue_corrs_df\n",
    "    #         chr_df = chr_df.where(chr_df.abs() > tissue_corrs_df.abs(), tissue_corrs_df).fillna(chr_df)\n",
    "\n",
    "    chr_df = chr_df / float(chr_files.shape[0])\n",
    "    chr_df_flat = pd.Series(squareform(chr_df.values, checks=False))\n",
    "    display(chr_df_flat.describe())\n",
    "\n",
    "    corrs_per_chr[chr_num] = chr_df\n",
    "\n",
    "    print(\"\\n\")"
   ]
  },
  {
   "cell_type": "markdown",
   "id": "50ed3d87",
   "metadata": {
    "papermill": {
     "duration": 0.06444,
     "end_time": "2022-02-28T22:17:53.029382",
     "exception": false,
     "start_time": "2022-02-28T22:17:52.964942",
     "status": "completed"
    },
    "tags": []
   },
   "source": [
    "# Create full gene correlation matrix"
   ]
  },
  {
   "cell_type": "markdown",
   "id": "4b630295",
   "metadata": {
    "papermill": {
     "duration": 0.064406,
     "end_time": "2022-02-28T22:17:53.158255",
     "exception": false,
     "start_time": "2022-02-28T22:17:53.093849",
     "status": "completed"
    },
    "tags": []
   },
   "source": [
    "This matrix has all genes in MultiPLIER Z"
   ]
  },
  {
   "cell_type": "code",
   "execution_count": 34,
   "id": "211193f1",
   "metadata": {
    "execution": {
     "iopub.execute_input": "2022-02-28T22:17:53.292803Z",
     "iopub.status.busy": "2022-02-28T22:17:53.292573Z",
     "iopub.status.idle": "2022-02-28T22:17:53.343490Z",
     "shell.execute_reply": "2022-02-28T22:17:53.342884Z"
    },
    "papermill": {
     "duration": 0.118528,
     "end_time": "2022-02-28T22:17:53.345148",
     "exception": false,
     "start_time": "2022-02-28T22:17:53.226620",
     "status": "completed"
    },
    "tags": []
   },
   "outputs": [],
   "source": [
    "gene_corrs_df = pd.DataFrame(data=0.0, index=genes_info[\"id\"], columns=genes_info[\"id\"])"
   ]
  },
  {
   "cell_type": "code",
   "execution_count": 35,
   "id": "f6a3dad2",
   "metadata": {
    "execution": {
     "iopub.execute_input": "2022-02-28T22:17:53.475847Z",
     "iopub.status.busy": "2022-02-28T22:17:53.475631Z",
     "iopub.status.idle": "2022-02-28T22:17:53.489442Z",
     "shell.execute_reply": "2022-02-28T22:17:53.488913Z"
    },
    "papermill": {
     "duration": 0.080652,
     "end_time": "2022-02-28T22:17:53.490776",
     "exception": false,
     "start_time": "2022-02-28T22:17:53.410124",
     "status": "completed"
    },
    "tags": []
   },
   "outputs": [
    {
     "data": {
      "text/plain": [
       "(6452, 6452)"
      ]
     },
     "execution_count": 35,
     "metadata": {},
     "output_type": "execute_result"
    }
   ],
   "source": [
    "gene_corrs_df.shape"
   ]
  },
  {
   "cell_type": "code",
   "execution_count": 36,
   "id": "5d08c185",
   "metadata": {
    "execution": {
     "iopub.execute_input": "2022-02-28T22:17:53.622769Z",
     "iopub.status.busy": "2022-02-28T22:17:53.622200Z",
     "iopub.status.idle": "2022-02-28T22:17:53.651681Z",
     "shell.execute_reply": "2022-02-28T22:17:53.651052Z"
    },
    "papermill": {
     "duration": 0.097043,
     "end_time": "2022-02-28T22:17:53.653309",
     "exception": false,
     "start_time": "2022-02-28T22:17:53.556266",
     "status": "completed"
    },
    "tags": []
   },
   "outputs": [
    {
     "data": {
      "text/html": [
       "<div>\n",
       "<style scoped>\n",
       "    .dataframe tbody tr th:only-of-type {\n",
       "        vertical-align: middle;\n",
       "    }\n",
       "\n",
       "    .dataframe tbody tr th {\n",
       "        vertical-align: top;\n",
       "    }\n",
       "\n",
       "    .dataframe thead th {\n",
       "        text-align: right;\n",
       "    }\n",
       "</style>\n",
       "<table border=\"1\" class=\"dataframe\">\n",
       "  <thead>\n",
       "    <tr style=\"text-align: right;\">\n",
       "      <th>id</th>\n",
       "      <th>ENSG00000183087</th>\n",
       "      <th>ENSG00000157227</th>\n",
       "      <th>ENSG00000096696</th>\n",
       "      <th>ENSG00000175130</th>\n",
       "      <th>ENSG00000113140</th>\n",
       "      <th>ENSG00000117984</th>\n",
       "      <th>ENSG00000116016</th>\n",
       "      <th>ENSG00000129116</th>\n",
       "      <th>ENSG00000134686</th>\n",
       "      <th>ENSG00000108679</th>\n",
       "      <th>...</th>\n",
       "      <th>ENSG00000111716</th>\n",
       "      <th>ENSG00000166796</th>\n",
       "      <th>ENSG00000114331</th>\n",
       "      <th>ENSG00000131584</th>\n",
       "      <th>ENSG00000165410</th>\n",
       "      <th>ENSG00000172757</th>\n",
       "      <th>ENSG00000147862</th>\n",
       "      <th>ENSG00000008323</th>\n",
       "      <th>ENSG00000167083</th>\n",
       "      <th>ENSG00000149257</th>\n",
       "    </tr>\n",
       "    <tr>\n",
       "      <th>id</th>\n",
       "      <th></th>\n",
       "      <th></th>\n",
       "      <th></th>\n",
       "      <th></th>\n",
       "      <th></th>\n",
       "      <th></th>\n",
       "      <th></th>\n",
       "      <th></th>\n",
       "      <th></th>\n",
       "      <th></th>\n",
       "      <th></th>\n",
       "      <th></th>\n",
       "      <th></th>\n",
       "      <th></th>\n",
       "      <th></th>\n",
       "      <th></th>\n",
       "      <th></th>\n",
       "      <th></th>\n",
       "      <th></th>\n",
       "      <th></th>\n",
       "      <th></th>\n",
       "    </tr>\n",
       "  </thead>\n",
       "  <tbody>\n",
       "    <tr>\n",
       "      <th>ENSG00000183087</th>\n",
       "      <td>0.0</td>\n",
       "      <td>0.0</td>\n",
       "      <td>0.0</td>\n",
       "      <td>0.0</td>\n",
       "      <td>0.0</td>\n",
       "      <td>0.0</td>\n",
       "      <td>0.0</td>\n",
       "      <td>0.0</td>\n",
       "      <td>0.0</td>\n",
       "      <td>0.0</td>\n",
       "      <td>...</td>\n",
       "      <td>0.0</td>\n",
       "      <td>0.0</td>\n",
       "      <td>0.0</td>\n",
       "      <td>0.0</td>\n",
       "      <td>0.0</td>\n",
       "      <td>0.0</td>\n",
       "      <td>0.0</td>\n",
       "      <td>0.0</td>\n",
       "      <td>0.0</td>\n",
       "      <td>0.0</td>\n",
       "    </tr>\n",
       "    <tr>\n",
       "      <th>ENSG00000157227</th>\n",
       "      <td>0.0</td>\n",
       "      <td>0.0</td>\n",
       "      <td>0.0</td>\n",
       "      <td>0.0</td>\n",
       "      <td>0.0</td>\n",
       "      <td>0.0</td>\n",
       "      <td>0.0</td>\n",
       "      <td>0.0</td>\n",
       "      <td>0.0</td>\n",
       "      <td>0.0</td>\n",
       "      <td>...</td>\n",
       "      <td>0.0</td>\n",
       "      <td>0.0</td>\n",
       "      <td>0.0</td>\n",
       "      <td>0.0</td>\n",
       "      <td>0.0</td>\n",
       "      <td>0.0</td>\n",
       "      <td>0.0</td>\n",
       "      <td>0.0</td>\n",
       "      <td>0.0</td>\n",
       "      <td>0.0</td>\n",
       "    </tr>\n",
       "    <tr>\n",
       "      <th>ENSG00000096696</th>\n",
       "      <td>0.0</td>\n",
       "      <td>0.0</td>\n",
       "      <td>0.0</td>\n",
       "      <td>0.0</td>\n",
       "      <td>0.0</td>\n",
       "      <td>0.0</td>\n",
       "      <td>0.0</td>\n",
       "      <td>0.0</td>\n",
       "      <td>0.0</td>\n",
       "      <td>0.0</td>\n",
       "      <td>...</td>\n",
       "      <td>0.0</td>\n",
       "      <td>0.0</td>\n",
       "      <td>0.0</td>\n",
       "      <td>0.0</td>\n",
       "      <td>0.0</td>\n",
       "      <td>0.0</td>\n",
       "      <td>0.0</td>\n",
       "      <td>0.0</td>\n",
       "      <td>0.0</td>\n",
       "      <td>0.0</td>\n",
       "    </tr>\n",
       "    <tr>\n",
       "      <th>ENSG00000175130</th>\n",
       "      <td>0.0</td>\n",
       "      <td>0.0</td>\n",
       "      <td>0.0</td>\n",
       "      <td>0.0</td>\n",
       "      <td>0.0</td>\n",
       "      <td>0.0</td>\n",
       "      <td>0.0</td>\n",
       "      <td>0.0</td>\n",
       "      <td>0.0</td>\n",
       "      <td>0.0</td>\n",
       "      <td>...</td>\n",
       "      <td>0.0</td>\n",
       "      <td>0.0</td>\n",
       "      <td>0.0</td>\n",
       "      <td>0.0</td>\n",
       "      <td>0.0</td>\n",
       "      <td>0.0</td>\n",
       "      <td>0.0</td>\n",
       "      <td>0.0</td>\n",
       "      <td>0.0</td>\n",
       "      <td>0.0</td>\n",
       "    </tr>\n",
       "    <tr>\n",
       "      <th>ENSG00000113140</th>\n",
       "      <td>0.0</td>\n",
       "      <td>0.0</td>\n",
       "      <td>0.0</td>\n",
       "      <td>0.0</td>\n",
       "      <td>0.0</td>\n",
       "      <td>0.0</td>\n",
       "      <td>0.0</td>\n",
       "      <td>0.0</td>\n",
       "      <td>0.0</td>\n",
       "      <td>0.0</td>\n",
       "      <td>...</td>\n",
       "      <td>0.0</td>\n",
       "      <td>0.0</td>\n",
       "      <td>0.0</td>\n",
       "      <td>0.0</td>\n",
       "      <td>0.0</td>\n",
       "      <td>0.0</td>\n",
       "      <td>0.0</td>\n",
       "      <td>0.0</td>\n",
       "      <td>0.0</td>\n",
       "      <td>0.0</td>\n",
       "    </tr>\n",
       "  </tbody>\n",
       "</table>\n",
       "<p>5 rows × 6452 columns</p>\n",
       "</div>"
      ],
      "text/plain": [
       "id               ENSG00000183087  ENSG00000157227  ENSG00000096696  \\\n",
       "id                                                                   \n",
       "ENSG00000183087              0.0              0.0              0.0   \n",
       "ENSG00000157227              0.0              0.0              0.0   \n",
       "ENSG00000096696              0.0              0.0              0.0   \n",
       "ENSG00000175130              0.0              0.0              0.0   \n",
       "ENSG00000113140              0.0              0.0              0.0   \n",
       "\n",
       "id               ENSG00000175130  ENSG00000113140  ENSG00000117984  \\\n",
       "id                                                                   \n",
       "ENSG00000183087              0.0              0.0              0.0   \n",
       "ENSG00000157227              0.0              0.0              0.0   \n",
       "ENSG00000096696              0.0              0.0              0.0   \n",
       "ENSG00000175130              0.0              0.0              0.0   \n",
       "ENSG00000113140              0.0              0.0              0.0   \n",
       "\n",
       "id               ENSG00000116016  ENSG00000129116  ENSG00000134686  \\\n",
       "id                                                                   \n",
       "ENSG00000183087              0.0              0.0              0.0   \n",
       "ENSG00000157227              0.0              0.0              0.0   \n",
       "ENSG00000096696              0.0              0.0              0.0   \n",
       "ENSG00000175130              0.0              0.0              0.0   \n",
       "ENSG00000113140              0.0              0.0              0.0   \n",
       "\n",
       "id               ENSG00000108679  ...  ENSG00000111716  ENSG00000166796  \\\n",
       "id                                ...                                     \n",
       "ENSG00000183087              0.0  ...              0.0              0.0   \n",
       "ENSG00000157227              0.0  ...              0.0              0.0   \n",
       "ENSG00000096696              0.0  ...              0.0              0.0   \n",
       "ENSG00000175130              0.0  ...              0.0              0.0   \n",
       "ENSG00000113140              0.0  ...              0.0              0.0   \n",
       "\n",
       "id               ENSG00000114331  ENSG00000131584  ENSG00000165410  \\\n",
       "id                                                                   \n",
       "ENSG00000183087              0.0              0.0              0.0   \n",
       "ENSG00000157227              0.0              0.0              0.0   \n",
       "ENSG00000096696              0.0              0.0              0.0   \n",
       "ENSG00000175130              0.0              0.0              0.0   \n",
       "ENSG00000113140              0.0              0.0              0.0   \n",
       "\n",
       "id               ENSG00000172757  ENSG00000147862  ENSG00000008323  \\\n",
       "id                                                                   \n",
       "ENSG00000183087              0.0              0.0              0.0   \n",
       "ENSG00000157227              0.0              0.0              0.0   \n",
       "ENSG00000096696              0.0              0.0              0.0   \n",
       "ENSG00000175130              0.0              0.0              0.0   \n",
       "ENSG00000113140              0.0              0.0              0.0   \n",
       "\n",
       "id               ENSG00000167083  ENSG00000149257  \n",
       "id                                                 \n",
       "ENSG00000183087              0.0              0.0  \n",
       "ENSG00000157227              0.0              0.0  \n",
       "ENSG00000096696              0.0              0.0  \n",
       "ENSG00000175130              0.0              0.0  \n",
       "ENSG00000113140              0.0              0.0  \n",
       "\n",
       "[5 rows x 6452 columns]"
      ]
     },
     "execution_count": 36,
     "metadata": {},
     "output_type": "execute_result"
    }
   ],
   "source": [
    "gene_corrs_df.head()"
   ]
  },
  {
   "cell_type": "code",
   "execution_count": 37,
   "id": "2203a7a7",
   "metadata": {
    "execution": {
     "iopub.execute_input": "2022-02-28T22:17:53.787553Z",
     "iopub.status.busy": "2022-02-28T22:17:53.787349Z",
     "iopub.status.idle": "2022-02-28T22:18:02.156951Z",
     "shell.execute_reply": "2022-02-28T22:18:02.156316Z"
    },
    "papermill": {
     "duration": 8.438248,
     "end_time": "2022-02-28T22:18:02.158705",
     "exception": false,
     "start_time": "2022-02-28T22:17:53.720457",
     "status": "completed"
    },
    "tags": []
   },
   "outputs": [],
   "source": [
    "for chr_num, chr_data in corrs_per_chr.items():\n",
    "    chr_data = chr_data.reindex(\n",
    "        index=gene_corrs_df.index, columns=gene_corrs_df.columns\n",
    "    )\n",
    "    gene_corrs_df = gene_corrs_df + chr_data.fillna(0.0)"
   ]
  },
  {
   "cell_type": "code",
   "execution_count": 38,
   "id": "49c42ebe",
   "metadata": {
    "execution": {
     "iopub.execute_input": "2022-02-28T22:18:02.302527Z",
     "iopub.status.busy": "2022-02-28T22:18:02.302309Z",
     "iopub.status.idle": "2022-02-28T22:18:02.351733Z",
     "shell.execute_reply": "2022-02-28T22:18:02.351155Z"
    },
    "papermill": {
     "duration": 0.117308,
     "end_time": "2022-02-28T22:18:02.353369",
     "exception": false,
     "start_time": "2022-02-28T22:18:02.236061",
     "status": "completed"
    },
    "tags": []
   },
   "outputs": [],
   "source": [
    "gene_corrs_df = gene_corrs_df.astype(np.float32)"
   ]
  },
  {
   "cell_type": "code",
   "execution_count": 39,
   "id": "0639e08b",
   "metadata": {
    "execution": {
     "iopub.execute_input": "2022-02-28T22:18:02.488102Z",
     "iopub.status.busy": "2022-02-28T22:18:02.487888Z",
     "iopub.status.idle": "2022-02-28T22:18:02.516873Z",
     "shell.execute_reply": "2022-02-28T22:18:02.516138Z"
    },
    "papermill": {
     "duration": 0.096397,
     "end_time": "2022-02-28T22:18:02.518302",
     "exception": false,
     "start_time": "2022-02-28T22:18:02.421905",
     "status": "completed"
    },
    "tags": []
   },
   "outputs": [
    {
     "data": {
      "text/html": [
       "<div>\n",
       "<style scoped>\n",
       "    .dataframe tbody tr th:only-of-type {\n",
       "        vertical-align: middle;\n",
       "    }\n",
       "\n",
       "    .dataframe tbody tr th {\n",
       "        vertical-align: top;\n",
       "    }\n",
       "\n",
       "    .dataframe thead th {\n",
       "        text-align: right;\n",
       "    }\n",
       "</style>\n",
       "<table border=\"1\" class=\"dataframe\">\n",
       "  <thead>\n",
       "    <tr style=\"text-align: right;\">\n",
       "      <th>id</th>\n",
       "      <th>ENSG00000183087</th>\n",
       "      <th>ENSG00000157227</th>\n",
       "      <th>ENSG00000096696</th>\n",
       "      <th>ENSG00000175130</th>\n",
       "      <th>ENSG00000113140</th>\n",
       "      <th>ENSG00000117984</th>\n",
       "      <th>ENSG00000116016</th>\n",
       "      <th>ENSG00000129116</th>\n",
       "      <th>ENSG00000134686</th>\n",
       "      <th>ENSG00000108679</th>\n",
       "      <th>...</th>\n",
       "      <th>ENSG00000111716</th>\n",
       "      <th>ENSG00000166796</th>\n",
       "      <th>ENSG00000114331</th>\n",
       "      <th>ENSG00000131584</th>\n",
       "      <th>ENSG00000165410</th>\n",
       "      <th>ENSG00000172757</th>\n",
       "      <th>ENSG00000147862</th>\n",
       "      <th>ENSG00000008323</th>\n",
       "      <th>ENSG00000167083</th>\n",
       "      <th>ENSG00000149257</th>\n",
       "    </tr>\n",
       "    <tr>\n",
       "      <th>id</th>\n",
       "      <th></th>\n",
       "      <th></th>\n",
       "      <th></th>\n",
       "      <th></th>\n",
       "      <th></th>\n",
       "      <th></th>\n",
       "      <th></th>\n",
       "      <th></th>\n",
       "      <th></th>\n",
       "      <th></th>\n",
       "      <th></th>\n",
       "      <th></th>\n",
       "      <th></th>\n",
       "      <th></th>\n",
       "      <th></th>\n",
       "      <th></th>\n",
       "      <th></th>\n",
       "      <th></th>\n",
       "      <th></th>\n",
       "      <th></th>\n",
       "      <th></th>\n",
       "    </tr>\n",
       "  </thead>\n",
       "  <tbody>\n",
       "    <tr>\n",
       "      <th>ENSG00000183087</th>\n",
       "      <td>1.0</td>\n",
       "      <td>0.0</td>\n",
       "      <td>0.0</td>\n",
       "      <td>0.0</td>\n",
       "      <td>0.0</td>\n",
       "      <td>0.0</td>\n",
       "      <td>0.0</td>\n",
       "      <td>0.0</td>\n",
       "      <td>0.0</td>\n",
       "      <td>0.0</td>\n",
       "      <td>...</td>\n",
       "      <td>0.0</td>\n",
       "      <td>0.0</td>\n",
       "      <td>0.0</td>\n",
       "      <td>0.0</td>\n",
       "      <td>0.000000</td>\n",
       "      <td>0.0</td>\n",
       "      <td>0.0</td>\n",
       "      <td>0.0</td>\n",
       "      <td>0.0</td>\n",
       "      <td>0.0</td>\n",
       "    </tr>\n",
       "    <tr>\n",
       "      <th>ENSG00000157227</th>\n",
       "      <td>0.0</td>\n",
       "      <td>1.0</td>\n",
       "      <td>0.0</td>\n",
       "      <td>0.0</td>\n",
       "      <td>0.0</td>\n",
       "      <td>0.0</td>\n",
       "      <td>0.0</td>\n",
       "      <td>0.0</td>\n",
       "      <td>0.0</td>\n",
       "      <td>0.0</td>\n",
       "      <td>...</td>\n",
       "      <td>0.0</td>\n",
       "      <td>0.0</td>\n",
       "      <td>0.0</td>\n",
       "      <td>0.0</td>\n",
       "      <td>-0.000186</td>\n",
       "      <td>0.0</td>\n",
       "      <td>0.0</td>\n",
       "      <td>0.0</td>\n",
       "      <td>0.0</td>\n",
       "      <td>0.0</td>\n",
       "    </tr>\n",
       "    <tr>\n",
       "      <th>ENSG00000096696</th>\n",
       "      <td>0.0</td>\n",
       "      <td>0.0</td>\n",
       "      <td>1.0</td>\n",
       "      <td>0.0</td>\n",
       "      <td>0.0</td>\n",
       "      <td>0.0</td>\n",
       "      <td>0.0</td>\n",
       "      <td>0.0</td>\n",
       "      <td>0.0</td>\n",
       "      <td>0.0</td>\n",
       "      <td>...</td>\n",
       "      <td>0.0</td>\n",
       "      <td>0.0</td>\n",
       "      <td>0.0</td>\n",
       "      <td>0.0</td>\n",
       "      <td>0.000000</td>\n",
       "      <td>0.0</td>\n",
       "      <td>0.0</td>\n",
       "      <td>0.0</td>\n",
       "      <td>0.0</td>\n",
       "      <td>0.0</td>\n",
       "    </tr>\n",
       "    <tr>\n",
       "      <th>ENSG00000175130</th>\n",
       "      <td>0.0</td>\n",
       "      <td>0.0</td>\n",
       "      <td>0.0</td>\n",
       "      <td>1.0</td>\n",
       "      <td>0.0</td>\n",
       "      <td>0.0</td>\n",
       "      <td>0.0</td>\n",
       "      <td>0.0</td>\n",
       "      <td>0.0</td>\n",
       "      <td>0.0</td>\n",
       "      <td>...</td>\n",
       "      <td>0.0</td>\n",
       "      <td>0.0</td>\n",
       "      <td>0.0</td>\n",
       "      <td>0.0</td>\n",
       "      <td>0.000000</td>\n",
       "      <td>0.0</td>\n",
       "      <td>0.0</td>\n",
       "      <td>0.0</td>\n",
       "      <td>0.0</td>\n",
       "      <td>0.0</td>\n",
       "    </tr>\n",
       "    <tr>\n",
       "      <th>ENSG00000113140</th>\n",
       "      <td>0.0</td>\n",
       "      <td>0.0</td>\n",
       "      <td>0.0</td>\n",
       "      <td>0.0</td>\n",
       "      <td>1.0</td>\n",
       "      <td>0.0</td>\n",
       "      <td>0.0</td>\n",
       "      <td>0.0</td>\n",
       "      <td>0.0</td>\n",
       "      <td>0.0</td>\n",
       "      <td>...</td>\n",
       "      <td>0.0</td>\n",
       "      <td>0.0</td>\n",
       "      <td>0.0</td>\n",
       "      <td>0.0</td>\n",
       "      <td>0.000000</td>\n",
       "      <td>0.0</td>\n",
       "      <td>0.0</td>\n",
       "      <td>0.0</td>\n",
       "      <td>0.0</td>\n",
       "      <td>0.0</td>\n",
       "    </tr>\n",
       "  </tbody>\n",
       "</table>\n",
       "<p>5 rows × 6452 columns</p>\n",
       "</div>"
      ],
      "text/plain": [
       "id               ENSG00000183087  ENSG00000157227  ENSG00000096696  \\\n",
       "id                                                                   \n",
       "ENSG00000183087              1.0              0.0              0.0   \n",
       "ENSG00000157227              0.0              1.0              0.0   \n",
       "ENSG00000096696              0.0              0.0              1.0   \n",
       "ENSG00000175130              0.0              0.0              0.0   \n",
       "ENSG00000113140              0.0              0.0              0.0   \n",
       "\n",
       "id               ENSG00000175130  ENSG00000113140  ENSG00000117984  \\\n",
       "id                                                                   \n",
       "ENSG00000183087              0.0              0.0              0.0   \n",
       "ENSG00000157227              0.0              0.0              0.0   \n",
       "ENSG00000096696              0.0              0.0              0.0   \n",
       "ENSG00000175130              1.0              0.0              0.0   \n",
       "ENSG00000113140              0.0              1.0              0.0   \n",
       "\n",
       "id               ENSG00000116016  ENSG00000129116  ENSG00000134686  \\\n",
       "id                                                                   \n",
       "ENSG00000183087              0.0              0.0              0.0   \n",
       "ENSG00000157227              0.0              0.0              0.0   \n",
       "ENSG00000096696              0.0              0.0              0.0   \n",
       "ENSG00000175130              0.0              0.0              0.0   \n",
       "ENSG00000113140              0.0              0.0              0.0   \n",
       "\n",
       "id               ENSG00000108679  ...  ENSG00000111716  ENSG00000166796  \\\n",
       "id                                ...                                     \n",
       "ENSG00000183087              0.0  ...              0.0              0.0   \n",
       "ENSG00000157227              0.0  ...              0.0              0.0   \n",
       "ENSG00000096696              0.0  ...              0.0              0.0   \n",
       "ENSG00000175130              0.0  ...              0.0              0.0   \n",
       "ENSG00000113140              0.0  ...              0.0              0.0   \n",
       "\n",
       "id               ENSG00000114331  ENSG00000131584  ENSG00000165410  \\\n",
       "id                                                                   \n",
       "ENSG00000183087              0.0              0.0         0.000000   \n",
       "ENSG00000157227              0.0              0.0        -0.000186   \n",
       "ENSG00000096696              0.0              0.0         0.000000   \n",
       "ENSG00000175130              0.0              0.0         0.000000   \n",
       "ENSG00000113140              0.0              0.0         0.000000   \n",
       "\n",
       "id               ENSG00000172757  ENSG00000147862  ENSG00000008323  \\\n",
       "id                                                                   \n",
       "ENSG00000183087              0.0              0.0              0.0   \n",
       "ENSG00000157227              0.0              0.0              0.0   \n",
       "ENSG00000096696              0.0              0.0              0.0   \n",
       "ENSG00000175130              0.0              0.0              0.0   \n",
       "ENSG00000113140              0.0              0.0              0.0   \n",
       "\n",
       "id               ENSG00000167083  ENSG00000149257  \n",
       "id                                                 \n",
       "ENSG00000183087              0.0              0.0  \n",
       "ENSG00000157227              0.0              0.0  \n",
       "ENSG00000096696              0.0              0.0  \n",
       "ENSG00000175130              0.0              0.0  \n",
       "ENSG00000113140              0.0              0.0  \n",
       "\n",
       "[5 rows x 6452 columns]"
      ]
     },
     "execution_count": 39,
     "metadata": {},
     "output_type": "execute_result"
    }
   ],
   "source": [
    "gene_corrs_df.head()"
   ]
  },
  {
   "cell_type": "code",
   "execution_count": 40,
   "id": "7e23ddbd",
   "metadata": {
    "execution": {
     "iopub.execute_input": "2022-02-28T22:18:02.651479Z",
     "iopub.status.busy": "2022-02-28T22:18:02.651277Z",
     "iopub.status.idle": "2022-02-28T22:18:02.664162Z",
     "shell.execute_reply": "2022-02-28T22:18:02.663691Z"
    },
    "papermill": {
     "duration": 0.081547,
     "end_time": "2022-02-28T22:18:02.665695",
     "exception": false,
     "start_time": "2022-02-28T22:18:02.584148",
     "status": "completed"
    },
    "tags": []
   },
   "outputs": [],
   "source": [
    "assert np.all(gene_corrs_df.values.diagonal() == 1.0)"
   ]
  },
  {
   "cell_type": "markdown",
   "id": "b55067e8",
   "metadata": {
    "papermill": {
     "duration": 0.066345,
     "end_time": "2022-02-28T22:18:02.799368",
     "exception": false,
     "start_time": "2022-02-28T22:18:02.733023",
     "status": "completed"
    },
    "tags": []
   },
   "source": [
    "## Stats"
   ]
  },
  {
   "cell_type": "code",
   "execution_count": 41,
   "id": "5588b68a",
   "metadata": {
    "execution": {
     "iopub.execute_input": "2022-02-28T22:18:02.934253Z",
     "iopub.status.busy": "2022-02-28T22:18:02.933442Z",
     "iopub.status.idle": "2022-02-28T22:18:03.079206Z",
     "shell.execute_reply": "2022-02-28T22:18:03.078639Z"
    },
    "papermill": {
     "duration": 0.214499,
     "end_time": "2022-02-28T22:18:03.080890",
     "exception": false,
     "start_time": "2022-02-28T22:18:02.866391",
     "status": "completed"
    },
    "tags": []
   },
   "outputs": [],
   "source": [
    "_gene_corrs_flat = squareform(gene_corrs_df.values, checks=False)"
   ]
  },
  {
   "cell_type": "code",
   "execution_count": 42,
   "id": "f401dad8",
   "metadata": {
    "execution": {
     "iopub.execute_input": "2022-02-28T22:18:03.217427Z",
     "iopub.status.busy": "2022-02-28T22:18:03.217227Z",
     "iopub.status.idle": "2022-02-28T22:18:03.708344Z",
     "shell.execute_reply": "2022-02-28T22:18:03.707702Z"
    },
    "papermill": {
     "duration": 0.561261,
     "end_time": "2022-02-28T22:18:03.709681",
     "exception": false,
     "start_time": "2022-02-28T22:18:03.148420",
     "status": "completed"
    },
    "tags": []
   },
   "outputs": [
    {
     "data": {
      "text/plain": [
       "count    2.081093e+07\n",
       "mean     1.668465e-06\n",
       "std      1.684330e-03\n",
       "min     -7.884358e-01\n",
       "25%      0.000000e+00\n",
       "50%      0.000000e+00\n",
       "75%      0.000000e+00\n",
       "max      7.542276e-01\n",
       "dtype: float64"
      ]
     },
     "execution_count": 42,
     "metadata": {},
     "output_type": "execute_result"
    }
   ],
   "source": [
    "pd.Series(_gene_corrs_flat).describe()"
   ]
  },
  {
   "cell_type": "markdown",
   "id": "6ea8e6de",
   "metadata": {
    "papermill": {
     "duration": 0.066307,
     "end_time": "2022-02-28T22:18:03.843080",
     "exception": false,
     "start_time": "2022-02-28T22:18:03.776773",
     "status": "completed"
    },
    "tags": []
   },
   "source": [
    "# Plot"
   ]
  },
  {
   "cell_type": "code",
   "execution_count": 43,
   "id": "a78cc4a3",
   "metadata": {
    "execution": {
     "iopub.execute_input": "2022-02-28T22:18:03.978887Z",
     "iopub.status.busy": "2022-02-28T22:18:03.978271Z",
     "iopub.status.idle": "2022-02-28T22:18:04.232426Z",
     "shell.execute_reply": "2022-02-28T22:18:04.231895Z"
    },
    "papermill": {
     "duration": 0.323528,
     "end_time": "2022-02-28T22:18:04.233957",
     "exception": false,
     "start_time": "2022-02-28T22:18:03.910429",
     "status": "completed"
    },
    "tags": []
   },
   "outputs": [],
   "source": [
    "import matplotlib.pyplot as plt\n",
    "from matplotlib.colors import ListedColormap"
   ]
  },
  {
   "cell_type": "code",
   "execution_count": 44,
   "id": "2dfbaa8f",
   "metadata": {
    "execution": {
     "iopub.execute_input": "2022-02-28T22:18:04.370114Z",
     "iopub.status.busy": "2022-02-28T22:18:04.369894Z",
     "iopub.status.idle": "2022-02-28T22:18:04.387128Z",
     "shell.execute_reply": "2022-02-28T22:18:04.386491Z"
    },
    "papermill": {
     "duration": 0.086427,
     "end_time": "2022-02-28T22:18:04.388750",
     "exception": false,
     "start_time": "2022-02-28T22:18:04.302323",
     "status": "completed"
    },
    "tags": []
   },
   "outputs": [],
   "source": [
    "genes_order = genes_info.sort_values(\"chr\")[\"id\"].tolist()"
   ]
  },
  {
   "cell_type": "code",
   "execution_count": 45,
   "id": "1809fc22",
   "metadata": {
    "execution": {
     "iopub.execute_input": "2022-02-28T22:18:04.525824Z",
     "iopub.status.busy": "2022-02-28T22:18:04.525606Z",
     "iopub.status.idle": "2022-02-28T22:18:04.539823Z",
     "shell.execute_reply": "2022-02-28T22:18:04.539238Z"
    },
    "papermill": {
     "duration": 0.084119,
     "end_time": "2022-02-28T22:18:04.541366",
     "exception": false,
     "start_time": "2022-02-28T22:18:04.457247",
     "status": "completed"
    },
    "tags": []
   },
   "outputs": [],
   "source": [
    "cmap = ListedColormap([\"w\", \"r\"])"
   ]
  },
  {
   "cell_type": "code",
   "execution_count": 46,
   "id": "e02151cf",
   "metadata": {
    "execution": {
     "iopub.execute_input": "2022-02-28T22:18:04.677624Z",
     "iopub.status.busy": "2022-02-28T22:18:04.677395Z",
     "iopub.status.idle": "2022-02-28T22:18:05.654659Z",
     "shell.execute_reply": "2022-02-28T22:18:05.654113Z"
    },
    "papermill": {
     "duration": 1.046295,
     "end_time": "2022-02-28T22:18:05.656055",
     "exception": false,
     "start_time": "2022-02-28T22:18:04.609760",
     "status": "completed"
    },
    "tags": []
   },
   "outputs": [
    {
     "data": {
      "text/plain": [
       "[]"
      ]
     },
     "execution_count": 46,
     "metadata": {},
     "output_type": "execute_result"
    },
    {
     "data": {
      "image/png": "[encoded data removed]",
      "text/plain": [
       "<Figure size 720x720 with 1 Axes>"
      ]
     },
     "metadata": {},
     "output_type": "display_data"
    }
   ],
   "source": [
    "fig, ax = plt.subplots(figsize=(10, 10))\n",
    "ax.matshow(\n",
    "    gene_corrs_df.loc[genes_order, genes_order].values, vmin=-0.05, vmax=0.05, cmap=cmap\n",
    ")\n",
    "ax.set_xlabel(\"Genes\")\n",
    "ax.set_ylabel(\"Genes\")\n",
    "ax.set_xticks([])\n",
    "ax.set_yticks([])"
   ]
  },
  {
   "cell_type": "markdown",
   "id": "e04ec98e",
   "metadata": {
    "papermill": {
     "duration": 0.06819,
     "end_time": "2022-02-28T22:18:05.792452",
     "exception": false,
     "start_time": "2022-02-28T22:18:05.724262",
     "status": "completed"
    },
    "tags": []
   },
   "source": [
    "# Testing"
   ]
  },
  {
   "cell_type": "code",
   "execution_count": 47,
   "id": "338cb68c",
   "metadata": {
    "execution": {
     "iopub.execute_input": "2022-02-28T22:18:05.930532Z",
     "iopub.status.busy": "2022-02-28T22:18:05.930312Z",
     "iopub.status.idle": "2022-02-28T22:18:05.945699Z",
     "shell.execute_reply": "2022-02-28T22:18:05.945208Z"
    },
    "papermill": {
     "duration": 0.086484,
     "end_time": "2022-02-28T22:18:05.946987",
     "exception": false,
     "start_time": "2022-02-28T22:18:05.860503",
     "status": "completed"
    },
    "tags": []
   },
   "outputs": [
    {
     "data": {
      "text/plain": [
       "0.018981302"
      ]
     },
     "execution_count": 47,
     "metadata": {},
     "output_type": "execute_result"
    }
   ],
   "source": [
    "# COL4A1 and COL4A2\n",
    "gene1 = \"ENSG00000187498\"\n",
    "gene2 = \"ENSG00000134871\"\n",
    "\n",
    "gene_corrs_df.loc[gene1, gene2]"
   ]
  },
  {
   "cell_type": "code",
   "execution_count": 48,
   "id": "48efaae1",
   "metadata": {
    "execution": {
     "iopub.execute_input": "2022-02-28T22:18:06.086963Z",
     "iopub.status.busy": "2022-02-28T22:18:06.086738Z",
     "iopub.status.idle": "2022-02-28T22:18:06.101857Z",
     "shell.execute_reply": "2022-02-28T22:18:06.101306Z"
    },
    "papermill": {
     "duration": 0.086152,
     "end_time": "2022-02-28T22:18:06.103390",
     "exception": false,
     "start_time": "2022-02-28T22:18:06.017238",
     "status": "completed"
    },
    "tags": []
   },
   "outputs": [],
   "source": [
    "_genes_files = all_gene_corr_files_df[all_gene_corr_files_df[\"chromosome\"] == 13][\n",
    "    \"corr_file\"\n",
    "].tolist()\n",
    "assert len(_genes_files) == 49"
   ]
  },
  {
   "cell_type": "code",
   "execution_count": 49,
   "id": "667932c2",
   "metadata": {
    "execution": {
     "iopub.execute_input": "2022-02-28T22:18:06.244868Z",
     "iopub.status.busy": "2022-02-28T22:18:06.244666Z",
     "iopub.status.idle": "2022-02-28T22:18:06.292562Z",
     "shell.execute_reply": "2022-02-28T22:18:06.291936Z"
    },
    "papermill": {
     "duration": 0.122122,
     "end_time": "2022-02-28T22:18:06.294225",
     "exception": false,
     "start_time": "2022-02-28T22:18:06.172103",
     "status": "completed"
    },
    "tags": []
   },
   "outputs": [],
   "source": [
    "_gene_values = []\n",
    "for f in _genes_files:\n",
    "    gene1_gene2_corr = pd.read_pickle(f).loc[gene1, gene2]\n",
    "    _gene_values.append(gene1_gene2_corr)"
   ]
  },
  {
   "cell_type": "code",
   "execution_count": 50,
   "id": "e4873fe9",
   "metadata": {
    "execution": {
     "iopub.execute_input": "2022-02-28T22:18:06.434618Z",
     "iopub.status.busy": "2022-02-28T22:18:06.434401Z",
     "iopub.status.idle": "2022-02-28T22:18:06.448856Z",
     "shell.execute_reply": "2022-02-28T22:18:06.448263Z"
    },
    "papermill": {
     "duration": 0.085856,
     "end_time": "2022-02-28T22:18:06.450383",
     "exception": false,
     "start_time": "2022-02-28T22:18:06.364527",
     "status": "completed"
    },
    "tags": []
   },
   "outputs": [],
   "source": [
    "_gene_values = np.array(_gene_values)\n",
    "assert _gene_values.shape[0] == 49"
   ]
  },
  {
   "cell_type": "code",
   "execution_count": 51,
   "id": "47a7b62b",
   "metadata": {
    "execution": {
     "iopub.execute_input": "2022-02-28T22:18:06.591518Z",
     "iopub.status.busy": "2022-02-28T22:18:06.590714Z",
     "iopub.status.idle": "2022-02-28T22:18:06.606354Z",
     "shell.execute_reply": "2022-02-28T22:18:06.605610Z"
    },
    "papermill": {
     "duration": 0.086767,
     "end_time": "2022-02-28T22:18:06.607735",
     "exception": false,
     "start_time": "2022-02-28T22:18:06.520968",
     "status": "completed"
    },
    "tags": []
   },
   "outputs": [
    {
     "data": {
      "text/plain": [
       "0.018981302"
      ]
     },
     "metadata": {},
     "output_type": "display_data"
    }
   ],
   "source": [
    "display(_gene_values.mean())\n",
    "assert gene_corrs_df.loc[gene1, gene2] == _gene_values.mean()"
   ]
  },
  {
   "cell_type": "markdown",
   "id": "7e903104",
   "metadata": {
    "papermill": {
     "duration": 0.069637,
     "end_time": "2022-02-28T22:18:06.748148",
     "exception": false,
     "start_time": "2022-02-28T22:18:06.678511",
     "status": "completed"
    },
    "tags": []
   },
   "source": [
    "# Save"
   ]
  },
  {
   "cell_type": "markdown",
   "id": "e9bef4e8",
   "metadata": {
    "papermill": {
     "duration": 0.069232,
     "end_time": "2022-02-28T22:18:06.888163",
     "exception": false,
     "start_time": "2022-02-28T22:18:06.818931",
     "status": "completed"
    },
    "tags": []
   },
   "source": [
    "## With ensemble ids"
   ]
  },
  {
   "cell_type": "code",
   "execution_count": 52,
   "id": "136f9ee0",
   "metadata": {
    "execution": {
     "iopub.execute_input": "2022-02-28T22:18:07.029359Z",
     "iopub.status.busy": "2022-02-28T22:18:07.029126Z",
     "iopub.status.idle": "2022-02-28T22:18:07.044571Z",
     "shell.execute_reply": "2022-02-28T22:18:07.043984Z"
    },
    "papermill": {
     "duration": 0.088555,
     "end_time": "2022-02-28T22:18:07.045887",
     "exception": false,
     "start_time": "2022-02-28T22:18:06.957332",
     "status": "completed"
    },
    "tags": []
   },
   "outputs": [
    {
     "data": {
      "text/plain": [
       "PosixPath('/opt/data/data/phenomexcan/ld_blocks/en_multiplier_genes-pred_expression_corr_avg.pkl')"
      ]
     },
     "metadata": {},
     "output_type": "display_data"
    }
   ],
   "source": [
    "output_file = conf.PHENOMEXCAN[\"LD_BLOCKS\"][EQTL_MODEL][\"GENE_IDS_CORR_AVG\"]\n",
    "display(output_file)"
   ]
  },
  {
   "cell_type": "code",
   "execution_count": 53,
   "id": "2a09bb4d",
   "metadata": {
    "execution": {
     "iopub.execute_input": "2022-02-28T22:18:07.186504Z",
     "iopub.status.busy": "2022-02-28T22:18:07.185800Z",
     "iopub.status.idle": "2022-02-28T22:18:08.095602Z",
     "shell.execute_reply": "2022-02-28T22:18:08.093757Z"
    },
    "papermill": {
     "duration": 0.985431,
     "end_time": "2022-02-28T22:18:08.100992",
     "exception": false,
     "start_time": "2022-02-28T22:18:07.115561",
     "status": "completed"
    },
    "tags": []
   },
   "outputs": [],
   "source": [
    "gene_corrs_df.to_pickle(output_file)"
   ]
  },
  {
   "cell_type": "markdown",
   "id": "26ec92a4",
   "metadata": {
    "papermill": {
     "duration": 0.072091,
     "end_time": "2022-02-28T22:18:08.247547",
     "exception": false,
     "start_time": "2022-02-28T22:18:08.175456",
     "status": "completed"
    },
    "tags": []
   },
   "source": [
    "## With gene symbols"
   ]
  },
  {
   "cell_type": "code",
   "execution_count": 54,
   "id": "bfc927ab",
   "metadata": {
    "execution": {
     "iopub.execute_input": "2022-02-28T22:18:08.389254Z",
     "iopub.status.busy": "2022-02-28T22:18:08.389023Z",
     "iopub.status.idle": "2022-02-28T22:18:08.404764Z",
     "shell.execute_reply": "2022-02-28T22:18:08.404179Z"
    },
    "papermill": {
     "duration": 0.087602,
     "end_time": "2022-02-28T22:18:08.406068",
     "exception": false,
     "start_time": "2022-02-28T22:18:08.318466",
     "status": "completed"
    },
    "tags": []
   },
   "outputs": [
    {
     "data": {
      "text/plain": [
       "PosixPath('/opt/data/data/phenomexcan/ld_blocks/en_multiplier_genes-pred_expression_corr_avg-gene_names.pkl')"
      ]
     },
     "metadata": {},
     "output_type": "display_data"
    }
   ],
   "source": [
    "output_file = conf.PHENOMEXCAN[\"LD_BLOCKS\"][EQTL_MODEL][\"GENE_NAMES_CORR_AVG\"]\n",
    "display(output_file)"
   ]
  },
  {
   "cell_type": "code",
   "execution_count": 55,
   "id": "2f3dc29f",
   "metadata": {
    "execution": {
     "iopub.execute_input": "2022-02-28T22:18:08.548624Z",
     "iopub.status.busy": "2022-02-28T22:18:08.548345Z",
     "iopub.status.idle": "2022-02-28T22:18:08.604493Z",
     "shell.execute_reply": "2022-02-28T22:18:08.603862Z"
    },
    "papermill": {
     "duration": 0.128633,
     "end_time": "2022-02-28T22:18:08.606055",
     "exception": false,
     "start_time": "2022-02-28T22:18:08.477422",
     "status": "completed"
    },
    "tags": []
   },
   "outputs": [],
   "source": [
    "gene_corrs_gene_names_df = gene_corrs_df.rename(\n",
    "    index=Gene.GENE_ID_TO_NAME_MAP, columns=Gene.GENE_ID_TO_NAME_MAP\n",
    ")"
   ]
  },
  {
   "cell_type": "code",
   "execution_count": 56,
   "id": "cc5fef8e",
   "metadata": {
    "execution": {
     "iopub.execute_input": "2022-02-28T22:18:08.750378Z",
     "iopub.status.busy": "2022-02-28T22:18:08.750163Z",
     "iopub.status.idle": "2022-02-28T22:18:08.765531Z",
     "shell.execute_reply": "2022-02-28T22:18:08.765034Z"
    },
    "papermill": {
     "duration": 0.088129,
     "end_time": "2022-02-28T22:18:08.767004",
     "exception": false,
     "start_time": "2022-02-28T22:18:08.678875",
     "status": "completed"
    },
    "tags": []
   },
   "outputs": [],
   "source": [
    "assert gene_corrs_gene_names_df.index.is_unique"
   ]
  },
  {
   "cell_type": "code",
   "execution_count": 57,
   "id": "4b79bdb7",
   "metadata": {
    "execution": {
     "iopub.execute_input": "2022-02-28T22:18:08.910159Z",
     "iopub.status.busy": "2022-02-28T22:18:08.909726Z",
     "iopub.status.idle": "2022-02-28T22:18:08.924720Z",
     "shell.execute_reply": "2022-02-28T22:18:08.924022Z"
    },
    "papermill": {
     "duration": 0.087927,
     "end_time": "2022-02-28T22:18:08.926168",
     "exception": false,
     "start_time": "2022-02-28T22:18:08.838241",
     "status": "completed"
    },
    "tags": []
   },
   "outputs": [],
   "source": [
    "assert gene_corrs_gene_names_df.columns.is_unique"
   ]
  },
  {
   "cell_type": "code",
   "execution_count": 58,
   "id": "5fff389b",
   "metadata": {
    "execution": {
     "iopub.execute_input": "2022-02-28T22:18:09.070336Z",
     "iopub.status.busy": "2022-02-28T22:18:09.070115Z",
     "iopub.status.idle": "2022-02-28T22:18:09.085465Z",
     "shell.execute_reply": "2022-02-28T22:18:09.084819Z"
    },
    "papermill": {
     "duration": 0.08853,
     "end_time": "2022-02-28T22:18:09.086884",
     "exception": false,
     "start_time": "2022-02-28T22:18:08.998354",
     "status": "completed"
    },
    "tags": []
   },
   "outputs": [
    {
     "data": {
      "text/plain": [
       "(6452, 6452)"
      ]
     },
     "execution_count": 58,
     "metadata": {},
     "output_type": "execute_result"
    }
   ],
   "source": [
    "gene_corrs_gene_names_df.shape"
   ]
  },
  {
   "cell_type": "code",
   "execution_count": 59,
   "id": "5b4ab58a",
   "metadata": {
    "execution": {
     "iopub.execute_input": "2022-02-28T22:18:09.231379Z",
     "iopub.status.busy": "2022-02-28T22:18:09.230896Z",
     "iopub.status.idle": "2022-02-28T22:18:09.267330Z",
     "shell.execute_reply": "2022-02-28T22:18:09.266814Z"
    },
    "papermill": {
     "duration": 0.109859,
     "end_time": "2022-02-28T22:18:09.268777",
     "exception": false,
     "start_time": "2022-02-28T22:18:09.158918",
     "status": "completed"
    },
    "tags": []
   },
   "outputs": [
    {
     "data": {
      "text/html": [
       "<div>\n",
       "<style scoped>\n",
       "    .dataframe tbody tr th:only-of-type {\n",
       "        vertical-align: middle;\n",
       "    }\n",
       "\n",
       "    .dataframe tbody tr th {\n",
       "        vertical-align: top;\n",
       "    }\n",
       "\n",
       "    .dataframe thead th {\n",
       "        text-align: right;\n",
       "    }\n",
       "</style>\n",
       "<table border=\"1\" class=\"dataframe\">\n",
       "  <thead>\n",
       "    <tr style=\"text-align: right;\">\n",
       "      <th>id</th>\n",
       "      <th>GAS6</th>\n",
       "      <th>MMP14</th>\n",
       "      <th>DSP</th>\n",
       "      <th>MARCKSL1</th>\n",
       "      <th>SPARC</th>\n",
       "      <th>CTSD</th>\n",
       "      <th>EPAS1</th>\n",
       "      <th>PALLD</th>\n",
       "      <th>PHC2</th>\n",
       "      <th>LGALS3BP</th>\n",
       "      <th>...</th>\n",
       "      <th>LDHB</th>\n",
       "      <th>LDHC</th>\n",
       "      <th>ACAP2</th>\n",
       "      <th>ACAP3</th>\n",
       "      <th>CFL2</th>\n",
       "      <th>CFL1</th>\n",
       "      <th>NFIB</th>\n",
       "      <th>PLEKHG6</th>\n",
       "      <th>GNGT2</th>\n",
       "      <th>SERPINH1</th>\n",
       "    </tr>\n",
       "    <tr>\n",
       "      <th>id</th>\n",
       "      <th></th>\n",
       "      <th></th>\n",
       "      <th></th>\n",
       "      <th></th>\n",
       "      <th></th>\n",
       "      <th></th>\n",
       "      <th></th>\n",
       "      <th></th>\n",
       "      <th></th>\n",
       "      <th></th>\n",
       "      <th></th>\n",
       "      <th></th>\n",
       "      <th></th>\n",
       "      <th></th>\n",
       "      <th></th>\n",
       "      <th></th>\n",
       "      <th></th>\n",
       "      <th></th>\n",
       "      <th></th>\n",
       "      <th></th>\n",
       "      <th></th>\n",
       "    </tr>\n",
       "  </thead>\n",
       "  <tbody>\n",
       "    <tr>\n",
       "      <th>GAS6</th>\n",
       "      <td>1.0</td>\n",
       "      <td>0.0</td>\n",
       "      <td>0.0</td>\n",
       "      <td>0.0</td>\n",
       "      <td>0.0</td>\n",
       "      <td>0.0</td>\n",
       "      <td>0.0</td>\n",
       "      <td>0.0</td>\n",
       "      <td>0.0</td>\n",
       "      <td>0.0</td>\n",
       "      <td>...</td>\n",
       "      <td>0.0</td>\n",
       "      <td>0.0</td>\n",
       "      <td>0.0</td>\n",
       "      <td>0.0</td>\n",
       "      <td>0.000000</td>\n",
       "      <td>0.0</td>\n",
       "      <td>0.0</td>\n",
       "      <td>0.0</td>\n",
       "      <td>0.0</td>\n",
       "      <td>0.0</td>\n",
       "    </tr>\n",
       "    <tr>\n",
       "      <th>MMP14</th>\n",
       "      <td>0.0</td>\n",
       "      <td>1.0</td>\n",
       "      <td>0.0</td>\n",
       "      <td>0.0</td>\n",
       "      <td>0.0</td>\n",
       "      <td>0.0</td>\n",
       "      <td>0.0</td>\n",
       "      <td>0.0</td>\n",
       "      <td>0.0</td>\n",
       "      <td>0.0</td>\n",
       "      <td>...</td>\n",
       "      <td>0.0</td>\n",
       "      <td>0.0</td>\n",
       "      <td>0.0</td>\n",
       "      <td>0.0</td>\n",
       "      <td>-0.000186</td>\n",
       "      <td>0.0</td>\n",
       "      <td>0.0</td>\n",
       "      <td>0.0</td>\n",
       "      <td>0.0</td>\n",
       "      <td>0.0</td>\n",
       "    </tr>\n",
       "    <tr>\n",
       "      <th>DSP</th>\n",
       "      <td>0.0</td>\n",
       "      <td>0.0</td>\n",
       "      <td>1.0</td>\n",
       "      <td>0.0</td>\n",
       "      <td>0.0</td>\n",
       "      <td>0.0</td>\n",
       "      <td>0.0</td>\n",
       "      <td>0.0</td>\n",
       "      <td>0.0</td>\n",
       "      <td>0.0</td>\n",
       "      <td>...</td>\n",
       "      <td>0.0</td>\n",
       "      <td>0.0</td>\n",
       "      <td>0.0</td>\n",
       "      <td>0.0</td>\n",
       "      <td>0.000000</td>\n",
       "      <td>0.0</td>\n",
       "      <td>0.0</td>\n",
       "      <td>0.0</td>\n",
       "      <td>0.0</td>\n",
       "      <td>0.0</td>\n",
       "    </tr>\n",
       "    <tr>\n",
       "      <th>MARCKSL1</th>\n",
       "      <td>0.0</td>\n",
       "      <td>0.0</td>\n",
       "      <td>0.0</td>\n",
       "      <td>1.0</td>\n",
       "      <td>0.0</td>\n",
       "      <td>0.0</td>\n",
       "      <td>0.0</td>\n",
       "      <td>0.0</td>\n",
       "      <td>0.0</td>\n",
       "      <td>0.0</td>\n",
       "      <td>...</td>\n",
       "      <td>0.0</td>\n",
       "      <td>0.0</td>\n",
       "      <td>0.0</td>\n",
       "      <td>0.0</td>\n",
       "      <td>0.000000</td>\n",
       "      <td>0.0</td>\n",
       "      <td>0.0</td>\n",
       "      <td>0.0</td>\n",
       "      <td>0.0</td>\n",
       "      <td>0.0</td>\n",
       "    </tr>\n",
       "    <tr>\n",
       "      <th>SPARC</th>\n",
       "      <td>0.0</td>\n",
       "      <td>0.0</td>\n",
       "      <td>0.0</td>\n",
       "      <td>0.0</td>\n",
       "      <td>1.0</td>\n",
       "      <td>0.0</td>\n",
       "      <td>0.0</td>\n",
       "      <td>0.0</td>\n",
       "      <td>0.0</td>\n",
       "      <td>0.0</td>\n",
       "      <td>...</td>\n",
       "      <td>0.0</td>\n",
       "      <td>0.0</td>\n",
       "      <td>0.0</td>\n",
       "      <td>0.0</td>\n",
       "      <td>0.000000</td>\n",
       "      <td>0.0</td>\n",
       "      <td>0.0</td>\n",
       "      <td>0.0</td>\n",
       "      <td>0.0</td>\n",
       "      <td>0.0</td>\n",
       "    </tr>\n",
       "  </tbody>\n",
       "</table>\n",
       "<p>5 rows × 6452 columns</p>\n",
       "</div>"
      ],
      "text/plain": [
       "id        GAS6  MMP14  DSP  MARCKSL1  SPARC  CTSD  EPAS1  PALLD  PHC2  \\\n",
       "id                                                                      \n",
       "GAS6       1.0    0.0  0.0       0.0    0.0   0.0    0.0    0.0   0.0   \n",
       "MMP14      0.0    1.0  0.0       0.0    0.0   0.0    0.0    0.0   0.0   \n",
       "DSP        0.0    0.0  1.0       0.0    0.0   0.0    0.0    0.0   0.0   \n",
       "MARCKSL1   0.0    0.0  0.0       1.0    0.0   0.0    0.0    0.0   0.0   \n",
       "SPARC      0.0    0.0  0.0       0.0    1.0   0.0    0.0    0.0   0.0   \n",
       "\n",
       "id        LGALS3BP  ...  LDHB  LDHC  ACAP2  ACAP3      CFL2  CFL1  NFIB  \\\n",
       "id                  ...                                                   \n",
       "GAS6           0.0  ...   0.0   0.0    0.0    0.0  0.000000   0.0   0.0   \n",
       "MMP14          0.0  ...   0.0   0.0    0.0    0.0 -0.000186   0.0   0.0   \n",
       "DSP            0.0  ...   0.0   0.0    0.0    0.0  0.000000   0.0   0.0   \n",
       "MARCKSL1       0.0  ...   0.0   0.0    0.0    0.0  0.000000   0.0   0.0   \n",
       "SPARC          0.0  ...   0.0   0.0    0.0    0.0  0.000000   0.0   0.0   \n",
       "\n",
       "id        PLEKHG6  GNGT2  SERPINH1  \n",
       "id                                  \n",
       "GAS6          0.0    0.0       0.0  \n",
       "MMP14         0.0    0.0       0.0  \n",
       "DSP           0.0    0.0       0.0  \n",
       "MARCKSL1      0.0    0.0       0.0  \n",
       "SPARC         0.0    0.0       0.0  \n",
       "\n",
       "[5 rows x 6452 columns]"
      ]
     },
     "execution_count": 59,
     "metadata": {},
     "output_type": "execute_result"
    }
   ],
   "source": [
    "gene_corrs_gene_names_df.head()"
   ]
  },
  {
   "cell_type": "code",
   "execution_count": 60,
   "id": "5d982343",
   "metadata": {
    "execution": {
     "iopub.execute_input": "2022-02-28T22:18:09.415098Z",
     "iopub.status.busy": "2022-02-28T22:18:09.414881Z",
     "iopub.status.idle": "2022-02-28T22:18:10.329323Z",
     "shell.execute_reply": "2022-02-28T22:18:10.327329Z"
    },
    "papermill": {
     "duration": 0.992151,
     "end_time": "2022-02-28T22:18:10.334825",
     "exception": false,
     "start_time": "2022-02-28T22:18:09.342674",
     "status": "completed"
    },
    "tags": []
   },
   "outputs": [],
   "source": [
    "gene_corrs_gene_names_df.to_pickle(output_file)"
   ]
  },
  {
   "cell_type": "code",
   "execution_count": null,
   "id": "5663eba0",
   "metadata": {
    "papermill": {
     "duration": 0.071162,
     "end_time": "2022-02-28T22:18:10.478927",
     "exception": false,
     "start_time": "2022-02-28T22:18:10.407765",
     "status": "completed"
    },
    "tags": []
   },
   "outputs": [],
   "source": []
  }
 ],
 "metadata": {
  "jupytext": {
   "cell_metadata_filter": "all,-execution,-papermill,-trusted",
   "formats": "ipynb,py//py:percent"
  },
  "kernelspec": {
   "display_name": "Python 3 (ipykernel)",
   "language": "python",
   "name": "python3"
  },
  "language_info": {
   "codemirror_mode": {
    "name": "ipython",
    "version": 3
   },
   "file_extension": ".py",
   "mimetype": "text/x-python",
   "name": "python",
   "nbconvert_exporter": "python",
   "pygments_lexer": "ipython3",
   "version": "3.8.12"
  },
  "papermill": {
   "default_parameters": {},
   "duration": 28.496302,
   "end_time": "2022-02-28T22:18:10.872202",
   "environment_variables": {},
   "exception": null,
   "input_path": "nbs/15_gsa_gls/15-preprocess_gene_expr_correlations.ipynb",
   "output_path": "nbs/15_gsa_gls/en_gene_corrs/15-preprocess_gene_expr_correlations.ipynb",
   "parameters": {
    "EQTL_MODEL": "ELASTIC_NET"
   },
   "start_time": "2022-02-28T22:17:42.375900",
   "version": "2.2.2"
  }
 },
 "nbformat": 4,
 "nbformat_minor": 5
}
