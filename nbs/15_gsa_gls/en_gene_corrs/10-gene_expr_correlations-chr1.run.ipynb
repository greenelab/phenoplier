{
 "cells": [
  {
   "cell_type": "markdown",
   "id": "94cc4ea0",
   "metadata": {
    "papermill": {
     "duration": 0.064926,
     "end_time": "2022-02-28T14:11:10.341754",
     "exception": false,
     "start_time": "2022-02-28T14:11:10.276828",
     "status": "completed"
    },
    "tags": []
   },
   "source": [
    "# Description"
   ]
  },
  {
   "cell_type": "markdown",
   "id": "5faaa1e2",
   "metadata": {
    "papermill": {
     "duration": 0.018759,
     "end_time": "2022-02-28T14:11:10.381592",
     "exception": false,
     "start_time": "2022-02-28T14:11:10.362833",
     "status": "completed"
    },
    "tags": []
   },
   "source": [
    "This notebook computes predicted expression correlations between all genes in the MultiPLIER models.\n",
    "\n",
    "It also has a parameter set for papermill to run on a single chromosome to run in parallel (see under `Settings` below).\n",
    "\n",
    "This notebook does not have an output because it is not directly run. If you want to see outputs for each chromosome, check out the `gene_corrs` folder, which contains a copy of this notebook for each chromosome."
   ]
  },
  {
   "cell_type": "markdown",
   "id": "dc309e70",
   "metadata": {
    "papermill": {
     "duration": 0.018521,
     "end_time": "2022-02-28T14:11:10.418896",
     "exception": false,
     "start_time": "2022-02-28T14:11:10.400375",
     "status": "completed"
    },
    "tags": []
   },
   "source": [
    "# Modules"
   ]
  },
  {
   "cell_type": "code",
   "execution_count": 1,
   "id": "43913724",
   "metadata": {
    "execution": {
     "iopub.execute_input": "2022-02-28T14:11:10.461283Z",
     "iopub.status.busy": "2022-02-28T14:11:10.460621Z",
     "iopub.status.idle": "2022-02-28T14:11:10.476757Z",
     "shell.execute_reply": "2022-02-28T14:11:10.476116Z"
    },
    "papermill": {
     "duration": 0.040348,
     "end_time": "2022-02-28T14:11:10.478325",
     "exception": false,
     "start_time": "2022-02-28T14:11:10.437977",
     "status": "completed"
    },
    "tags": []
   },
   "outputs": [],
   "source": [
    "%load_ext autoreload\n",
    "%autoreload 2"
   ]
  },
  {
   "cell_type": "code",
   "execution_count": 2,
   "id": "f853fabe",
   "metadata": {
    "execution": {
     "iopub.execute_input": "2022-02-28T14:11:10.520295Z",
     "iopub.status.busy": "2022-02-28T14:11:10.519986Z",
     "iopub.status.idle": "2022-02-28T14:11:11.126768Z",
     "shell.execute_reply": "2022-02-28T14:11:11.126217Z"
    },
    "papermill": {
     "duration": 0.62929,
     "end_time": "2022-02-28T14:11:11.128306",
     "exception": false,
     "start_time": "2022-02-28T14:11:10.499016",
     "status": "completed"
    },
    "tags": []
   },
   "outputs": [],
   "source": [
    "import numpy as np\n",
    "from scipy.spatial.distance import squareform\n",
    "import pandas as pd\n",
    "from tqdm import tqdm\n",
    "\n",
    "import conf\n",
    "from entity import Gene"
   ]
  },
  {
   "cell_type": "markdown",
   "id": "1188ecb0",
   "metadata": {
    "papermill": {
     "duration": 0.021986,
     "end_time": "2022-02-28T14:11:11.172461",
     "exception": false,
     "start_time": "2022-02-28T14:11:11.150475",
     "status": "completed"
    },
    "tags": []
   },
   "source": [
    "# Settings"
   ]
  },
  {
   "cell_type": "code",
   "execution_count": 3,
   "id": "efc384fc",
   "metadata": {
    "execution": {
     "iopub.execute_input": "2022-02-28T14:11:11.226694Z",
     "iopub.status.busy": "2022-02-28T14:11:11.226332Z",
     "iopub.status.idle": "2022-02-28T14:11:11.241212Z",
     "shell.execute_reply": "2022-02-28T14:11:11.240596Z"
    },
    "papermill": {
     "duration": 0.044444,
     "end_time": "2022-02-28T14:11:11.242871",
     "exception": false,
     "start_time": "2022-02-28T14:11:11.198427",
     "status": "completed"
    },
    "tags": [
     "parameters"
    ]
   },
   "outputs": [],
   "source": [
    "# mashr\n",
    "EQTL_MODEL = \"MASHR\"\n",
    "EQTL_MODEL_FILES_PREFIX = \"mashr_\"\n",
    "\n",
    "# # elastic net\n",
    "# EQTL_MODEL = \"ELASTIC_NET\"\n",
    "# EQTL_MODEL_FILES_PREFIX = \"en_\"\n",
    "\n",
    "# make it read the prefix from conf.py\n",
    "EQTL_MODEL_FILES_PREFIX = None\n",
    "\n",
    "# specifies a single chromosome value\n",
    "# by default, run on all chromosomes\n",
    "chromosome = \"all\""
   ]
  },
  {
   "cell_type": "code",
   "execution_count": 4,
   "id": "c2da1ba4",
   "metadata": {
    "execution": {
     "iopub.execute_input": "2022-02-28T14:11:11.288168Z",
     "iopub.status.busy": "2022-02-28T14:11:11.287502Z",
     "iopub.status.idle": "2022-02-28T14:11:11.300146Z",
     "shell.execute_reply": "2022-02-28T14:11:11.299642Z"
    },
    "papermill": {
     "duration": 0.03571,
     "end_time": "2022-02-28T14:11:11.301582",
     "exception": false,
     "start_time": "2022-02-28T14:11:11.265872",
     "status": "completed"
    },
    "tags": [
     "injected-parameters"
    ]
   },
   "outputs": [],
   "source": [
    "# Parameters\n",
    "chromosome = 1\n",
    "EQTL_MODEL = \"ELASTIC_NET\"\n"
   ]
  },
  {
   "cell_type": "code",
   "execution_count": 5,
   "id": "6273f87b",
   "metadata": {
    "execution": {
     "iopub.execute_input": "2022-02-28T14:11:11.347068Z",
     "iopub.status.busy": "2022-02-28T14:11:11.344491Z",
     "iopub.status.idle": "2022-02-28T14:11:11.365947Z",
     "shell.execute_reply": "2022-02-28T14:11:11.365430Z"
    },
    "papermill": {
     "duration": 0.044317,
     "end_time": "2022-02-28T14:11:11.367410",
     "exception": false,
     "start_time": "2022-02-28T14:11:11.323093",
     "status": "completed"
    },
    "tags": []
   },
   "outputs": [],
   "source": [
    "if EQTL_MODEL_FILES_PREFIX is None:\n",
    "    EQTL_MODEL_FILES_PREFIX = conf.PHENOMEXCAN[\"PREDICTION_MODELS_PREFIXES\"][EQTL_MODEL]"
   ]
  },
  {
   "cell_type": "code",
   "execution_count": 6,
   "id": "c5dbb802",
   "metadata": {
    "execution": {
     "iopub.execute_input": "2022-02-28T14:11:11.411015Z",
     "iopub.status.busy": "2022-02-28T14:11:11.410467Z",
     "iopub.status.idle": "2022-02-28T14:11:11.430226Z",
     "shell.execute_reply": "2022-02-28T14:11:11.429734Z"
    },
    "papermill": {
     "duration": 0.042824,
     "end_time": "2022-02-28T14:11:11.431529",
     "exception": false,
     "start_time": "2022-02-28T14:11:11.388705",
     "status": "completed"
    },
    "tags": []
   },
   "outputs": [
    {
     "data": {
      "text/plain": [
       "'Using eQTL model: ELASTIC_NET / en_'"
      ]
     },
     "metadata": {},
     "output_type": "display_data"
    }
   ],
   "source": [
    "display(f\"Using eQTL model: {EQTL_MODEL} / {EQTL_MODEL_FILES_PREFIX}\")"
   ]
  },
  {
   "cell_type": "code",
   "execution_count": 7,
   "id": "7ea885ec",
   "metadata": {
    "execution": {
     "iopub.execute_input": "2022-02-28T14:11:11.476685Z",
     "iopub.status.busy": "2022-02-28T14:11:11.476471Z",
     "iopub.status.idle": "2022-02-28T14:11:11.490591Z",
     "shell.execute_reply": "2022-02-28T14:11:11.490143Z"
    },
    "papermill": {
     "duration": 0.038222,
     "end_time": "2022-02-28T14:11:11.492035",
     "exception": false,
     "start_time": "2022-02-28T14:11:11.453813",
     "status": "completed"
    },
    "tags": []
   },
   "outputs": [],
   "source": [
    "if chromosome == \"all\":\n",
    "    from time import sleep\n",
    "\n",
    "    message = \"\"\"\n",
    "    WARNING: you are going to compute correlations of gene predicted expression across all chromosomes without parallelism.\n",
    "    It is recommended that you look at the README.md file in this subfolder (nbs/08_gsa_gls/README.md) to know how to do that.\n",
    "    \n",
    "    It will continue in 20 seconds.\n",
    "    \"\"\"\n",
    "    print(message)\n",
    "    sleep(20)"
   ]
  },
  {
   "cell_type": "markdown",
   "id": "2aae4936",
   "metadata": {
    "papermill": {
     "duration": 0.021268,
     "end_time": "2022-02-28T14:11:11.535306",
     "exception": false,
     "start_time": "2022-02-28T14:11:11.514038",
     "status": "completed"
    },
    "tags": []
   },
   "source": [
    "# Load data"
   ]
  },
  {
   "cell_type": "markdown",
   "id": "24e10368",
   "metadata": {
    "papermill": {
     "duration": 0.021627,
     "end_time": "2022-02-28T14:11:11.579059",
     "exception": false,
     "start_time": "2022-02-28T14:11:11.557432",
     "status": "completed"
    },
    "tags": []
   },
   "source": [
    "## MultiPLIER Z"
   ]
  },
  {
   "cell_type": "code",
   "execution_count": 8,
   "id": "df154b08",
   "metadata": {
    "execution": {
     "iopub.execute_input": "2022-02-28T14:11:11.624288Z",
     "iopub.status.busy": "2022-02-28T14:11:11.624068Z",
     "iopub.status.idle": "2022-02-28T14:11:11.661178Z",
     "shell.execute_reply": "2022-02-28T14:11:11.660619Z"
    },
    "papermill": {
     "duration": 0.062085,
     "end_time": "2022-02-28T14:11:11.662633",
     "exception": false,
     "start_time": "2022-02-28T14:11:11.600548",
     "status": "completed"
    },
    "tags": []
   },
   "outputs": [],
   "source": [
    "multiplier_z_genes = pd.read_pickle(\n",
    "    conf.MULTIPLIER[\"MODEL_Z_MATRIX_FILE\"]\n",
    ").index.tolist()"
   ]
  },
  {
   "cell_type": "code",
   "execution_count": 9,
   "id": "9919b407",
   "metadata": {
    "execution": {
     "iopub.execute_input": "2022-02-28T14:11:11.707318Z",
     "iopub.status.busy": "2022-02-28T14:11:11.706939Z",
     "iopub.status.idle": "2022-02-28T14:11:11.721060Z",
     "shell.execute_reply": "2022-02-28T14:11:11.720533Z"
    },
    "papermill": {
     "duration": 0.038389,
     "end_time": "2022-02-28T14:11:11.722597",
     "exception": false,
     "start_time": "2022-02-28T14:11:11.684208",
     "status": "completed"
    },
    "tags": []
   },
   "outputs": [
    {
     "data": {
      "text/plain": [
       "6750"
      ]
     },
     "execution_count": 9,
     "metadata": {},
     "output_type": "execute_result"
    }
   ],
   "source": [
    "len(multiplier_z_genes)"
   ]
  },
  {
   "cell_type": "code",
   "execution_count": 10,
   "id": "d297bd8d",
   "metadata": {
    "execution": {
     "iopub.execute_input": "2022-02-28T14:11:11.768700Z",
     "iopub.status.busy": "2022-02-28T14:11:11.768410Z",
     "iopub.status.idle": "2022-02-28T14:11:11.784300Z",
     "shell.execute_reply": "2022-02-28T14:11:11.783744Z"
    },
    "papermill": {
     "duration": 0.040628,
     "end_time": "2022-02-28T14:11:11.785785",
     "exception": false,
     "start_time": "2022-02-28T14:11:11.745157",
     "status": "completed"
    },
    "tags": []
   },
   "outputs": [
    {
     "data": {
      "text/plain": [
       "['GAS6',\n",
       " 'MMP14',\n",
       " 'DSP',\n",
       " 'MARCKSL1',\n",
       " 'SPARC',\n",
       " 'CTSD',\n",
       " 'EPAS1',\n",
       " 'PALLD',\n",
       " 'PHC2',\n",
       " 'LGALS3BP']"
      ]
     },
     "execution_count": 10,
     "metadata": {},
     "output_type": "execute_result"
    }
   ],
   "source": [
    "multiplier_z_genes[:10]"
   ]
  },
  {
   "cell_type": "markdown",
   "id": "b8bbc4fd",
   "metadata": {
    "papermill": {
     "duration": 0.022106,
     "end_time": "2022-02-28T14:11:11.831928",
     "exception": false,
     "start_time": "2022-02-28T14:11:11.809822",
     "status": "completed"
    },
    "tags": []
   },
   "source": [
    "## Get gene objects"
   ]
  },
  {
   "cell_type": "code",
   "execution_count": 11,
   "id": "6f785c35",
   "metadata": {
    "execution": {
     "iopub.execute_input": "2022-02-28T14:11:11.879829Z",
     "iopub.status.busy": "2022-02-28T14:11:11.879467Z",
     "iopub.status.idle": "2022-02-28T14:11:11.899427Z",
     "shell.execute_reply": "2022-02-28T14:11:11.898855Z"
    },
    "papermill": {
     "duration": 0.045017,
     "end_time": "2022-02-28T14:11:11.900945",
     "exception": false,
     "start_time": "2022-02-28T14:11:11.855928",
     "status": "completed"
    },
    "tags": []
   },
   "outputs": [],
   "source": [
    "multiplier_gene_obj = {\n",
    "    gene_name: Gene(name=gene_name)\n",
    "    for gene_name in multiplier_z_genes\n",
    "    if gene_name in Gene.GENE_NAME_TO_ID_MAP\n",
    "}"
   ]
  },
  {
   "cell_type": "code",
   "execution_count": 12,
   "id": "8249f836",
   "metadata": {
    "execution": {
     "iopub.execute_input": "2022-02-28T14:11:11.947712Z",
     "iopub.status.busy": "2022-02-28T14:11:11.947175Z",
     "iopub.status.idle": "2022-02-28T14:11:11.961332Z",
     "shell.execute_reply": "2022-02-28T14:11:11.960865Z"
    },
    "papermill": {
     "duration": 0.038442,
     "end_time": "2022-02-28T14:11:11.962663",
     "exception": false,
     "start_time": "2022-02-28T14:11:11.924221",
     "status": "completed"
    },
    "tags": []
   },
   "outputs": [
    {
     "data": {
      "text/plain": [
       "6454"
      ]
     },
     "execution_count": 12,
     "metadata": {},
     "output_type": "execute_result"
    }
   ],
   "source": [
    "len(multiplier_gene_obj)"
   ]
  },
  {
   "cell_type": "code",
   "execution_count": 13,
   "id": "46f78e0a",
   "metadata": {
    "execution": {
     "iopub.execute_input": "2022-02-28T14:11:12.013424Z",
     "iopub.status.busy": "2022-02-28T14:11:12.012962Z",
     "iopub.status.idle": "2022-02-28T14:11:12.027313Z",
     "shell.execute_reply": "2022-02-28T14:11:12.026862Z"
    },
    "papermill": {
     "duration": 0.039771,
     "end_time": "2022-02-28T14:11:12.028713",
     "exception": false,
     "start_time": "2022-02-28T14:11:11.988942",
     "status": "completed"
    },
    "tags": []
   },
   "outputs": [
    {
     "data": {
      "text/plain": [
       "'ENSG00000183087'"
      ]
     },
     "execution_count": 13,
     "metadata": {},
     "output_type": "execute_result"
    }
   ],
   "source": [
    "multiplier_gene_obj[\"GAS6\"].ensembl_id"
   ]
  },
  {
   "cell_type": "code",
   "execution_count": 14,
   "id": "97644699",
   "metadata": {
    "execution": {
     "iopub.execute_input": "2022-02-28T14:11:12.077113Z",
     "iopub.status.busy": "2022-02-28T14:11:12.076910Z",
     "iopub.status.idle": "2022-02-28T14:11:12.955958Z",
     "shell.execute_reply": "2022-02-28T14:11:12.955387Z"
    },
    "papermill": {
     "duration": 0.904565,
     "end_time": "2022-02-28T14:11:12.957451",
     "exception": false,
     "start_time": "2022-02-28T14:11:12.052886",
     "status": "completed"
    },
    "tags": []
   },
   "outputs": [],
   "source": [
    "_gene_obj = list(multiplier_gene_obj.values())\n",
    "\n",
    "genes_info = pd.DataFrame(\n",
    "    {\n",
    "        \"name\": [g.name for g in _gene_obj],\n",
    "        \"id\": [g.ensembl_id for g in _gene_obj],\n",
    "        \"chr\": [g.chromosome for g in _gene_obj],\n",
    "    }\n",
    ")"
   ]
  },
  {
   "cell_type": "code",
   "execution_count": 15,
   "id": "e4477eed",
   "metadata": {
    "execution": {
     "iopub.execute_input": "2022-02-28T14:11:13.005290Z",
     "iopub.status.busy": "2022-02-28T14:11:13.004733Z",
     "iopub.status.idle": "2022-02-28T14:11:13.018114Z",
     "shell.execute_reply": "2022-02-28T14:11:13.017620Z"
    },
    "papermill": {
     "duration": 0.038704,
     "end_time": "2022-02-28T14:11:13.019549",
     "exception": false,
     "start_time": "2022-02-28T14:11:12.980845",
     "status": "completed"
    },
    "tags": []
   },
   "outputs": [
    {
     "data": {
      "text/plain": [
       "(6454, 3)"
      ]
     },
     "execution_count": 15,
     "metadata": {},
     "output_type": "execute_result"
    }
   ],
   "source": [
    "genes_info.shape"
   ]
  },
  {
   "cell_type": "code",
   "execution_count": 16,
   "id": "797ebef5",
   "metadata": {
    "execution": {
     "iopub.execute_input": "2022-02-28T14:11:13.073244Z",
     "iopub.status.busy": "2022-02-28T14:11:13.072620Z",
     "iopub.status.idle": "2022-02-28T14:11:13.090496Z",
     "shell.execute_reply": "2022-02-28T14:11:13.090091Z"
    },
    "papermill": {
     "duration": 0.0463,
     "end_time": "2022-02-28T14:11:13.094589",
     "exception": false,
     "start_time": "2022-02-28T14:11:13.048289",
     "status": "completed"
    },
    "tags": []
   },
   "outputs": [
    {
     "data": {
      "text/html": [
       "<div>\n",
       "<style scoped>\n",
       "    .dataframe tbody tr th:only-of-type {\n",
       "        vertical-align: middle;\n",
       "    }\n",
       "\n",
       "    .dataframe tbody tr th {\n",
       "        vertical-align: top;\n",
       "    }\n",
       "\n",
       "    .dataframe thead th {\n",
       "        text-align: right;\n",
       "    }\n",
       "</style>\n",
       "<table border=\"1\" class=\"dataframe\">\n",
       "  <thead>\n",
       "    <tr style=\"text-align: right;\">\n",
       "      <th></th>\n",
       "      <th>name</th>\n",
       "      <th>id</th>\n",
       "      <th>chr</th>\n",
       "    </tr>\n",
       "  </thead>\n",
       "  <tbody>\n",
       "    <tr>\n",
       "      <th>0</th>\n",
       "      <td>GAS6</td>\n",
       "      <td>ENSG00000183087</td>\n",
       "      <td>13</td>\n",
       "    </tr>\n",
       "    <tr>\n",
       "      <th>1</th>\n",
       "      <td>MMP14</td>\n",
       "      <td>ENSG00000157227</td>\n",
       "      <td>14</td>\n",
       "    </tr>\n",
       "    <tr>\n",
       "      <th>2</th>\n",
       "      <td>DSP</td>\n",
       "      <td>ENSG00000096696</td>\n",
       "      <td>6</td>\n",
       "    </tr>\n",
       "    <tr>\n",
       "      <th>3</th>\n",
       "      <td>MARCKSL1</td>\n",
       "      <td>ENSG00000175130</td>\n",
       "      <td>1</td>\n",
       "    </tr>\n",
       "    <tr>\n",
       "      <th>4</th>\n",
       "      <td>SPARC</td>\n",
       "      <td>ENSG00000113140</td>\n",
       "      <td>5</td>\n",
       "    </tr>\n",
       "  </tbody>\n",
       "</table>\n",
       "</div>"
      ],
      "text/plain": [
       "       name               id chr\n",
       "0      GAS6  ENSG00000183087  13\n",
       "1     MMP14  ENSG00000157227  14\n",
       "2       DSP  ENSG00000096696   6\n",
       "3  MARCKSL1  ENSG00000175130   1\n",
       "4     SPARC  ENSG00000113140   5"
      ]
     },
     "execution_count": 16,
     "metadata": {},
     "output_type": "execute_result"
    }
   ],
   "source": [
    "genes_info.head()"
   ]
  },
  {
   "cell_type": "markdown",
   "id": "993a0d2d",
   "metadata": {
    "papermill": {
     "duration": 0.023929,
     "end_time": "2022-02-28T14:11:13.143216",
     "exception": false,
     "start_time": "2022-02-28T14:11:13.119287",
     "status": "completed"
    },
    "tags": []
   },
   "source": [
    "## Get tissues names"
   ]
  },
  {
   "cell_type": "code",
   "execution_count": 17,
   "id": "783dbd29",
   "metadata": {
    "execution": {
     "iopub.execute_input": "2022-02-28T14:11:13.194426Z",
     "iopub.status.busy": "2022-02-28T14:11:13.194231Z",
     "iopub.status.idle": "2022-02-28T14:11:13.210369Z",
     "shell.execute_reply": "2022-02-28T14:11:13.209903Z"
    },
    "papermill": {
     "duration": 0.044443,
     "end_time": "2022-02-28T14:11:13.213159",
     "exception": false,
     "start_time": "2022-02-28T14:11:13.168716",
     "status": "completed"
    },
    "tags": []
   },
   "outputs": [],
   "source": [
    "db_files = list(conf.PHENOMEXCAN[\"PREDICTION_MODELS\"][EQTL_MODEL].glob(\"*.db\"))"
   ]
  },
  {
   "cell_type": "code",
   "execution_count": 18,
   "id": "04664f7d",
   "metadata": {
    "execution": {
     "iopub.execute_input": "2022-02-28T14:11:13.264801Z",
     "iopub.status.busy": "2022-02-28T14:11:13.264168Z",
     "iopub.status.idle": "2022-02-28T14:11:13.277326Z",
     "shell.execute_reply": "2022-02-28T14:11:13.276910Z"
    },
    "papermill": {
     "duration": 0.039978,
     "end_time": "2022-02-28T14:11:13.278754",
     "exception": false,
     "start_time": "2022-02-28T14:11:13.238776",
     "status": "completed"
    },
    "tags": []
   },
   "outputs": [],
   "source": [
    "assert len(db_files) == 49"
   ]
  },
  {
   "cell_type": "code",
   "execution_count": 19,
   "id": "4717fbb3",
   "metadata": {
    "execution": {
     "iopub.execute_input": "2022-02-28T14:11:13.332000Z",
     "iopub.status.busy": "2022-02-28T14:11:13.331376Z",
     "iopub.status.idle": "2022-02-28T14:11:13.346067Z",
     "shell.execute_reply": "2022-02-28T14:11:13.345513Z"
    },
    "papermill": {
     "duration": 0.041275,
     "end_time": "2022-02-28T14:11:13.347463",
     "exception": false,
     "start_time": "2022-02-28T14:11:13.306188",
     "status": "completed"
    },
    "tags": []
   },
   "outputs": [],
   "source": [
    "tissues = [\n",
    "    str(f).split(EQTL_MODEL_FILES_PREFIX, maxsplit=1)[1].split(\".db\")[0]\n",
    "    for f in db_files\n",
    "]"
   ]
  },
  {
   "cell_type": "code",
   "execution_count": 20,
   "id": "3cc28e7c",
   "metadata": {
    "execution": {
     "iopub.execute_input": "2022-02-28T14:11:13.398164Z",
     "iopub.status.busy": "2022-02-28T14:11:13.397534Z",
     "iopub.status.idle": "2022-02-28T14:11:13.412264Z",
     "shell.execute_reply": "2022-02-28T14:11:13.411699Z"
    },
    "papermill": {
     "duration": 0.041626,
     "end_time": "2022-02-28T14:11:13.413981",
     "exception": false,
     "start_time": "2022-02-28T14:11:13.372355",
     "status": "completed"
    },
    "tags": []
   },
   "outputs": [
    {
     "data": {
      "text/plain": [
       "['Vagina',\n",
       " 'Colon_Sigmoid',\n",
       " 'Brain_Caudate_basal_ganglia',\n",
       " 'Stomach',\n",
       " 'Skin_Not_Sun_Exposed_Suprapubic']"
      ]
     },
     "execution_count": 20,
     "metadata": {},
     "output_type": "execute_result"
    }
   ],
   "source": [
    "tissues[:5]"
   ]
  },
  {
   "cell_type": "markdown",
   "id": "65fba569",
   "metadata": {
    "papermill": {
     "duration": 0.02554,
     "end_time": "2022-02-28T14:11:13.464711",
     "exception": false,
     "start_time": "2022-02-28T14:11:13.439171",
     "status": "completed"
    },
    "tags": []
   },
   "source": [
    "# Test"
   ]
  },
  {
   "cell_type": "code",
   "execution_count": 21,
   "id": "c557bc63",
   "metadata": {
    "execution": {
     "iopub.execute_input": "2022-02-28T14:11:13.517572Z",
     "iopub.status.busy": "2022-02-28T14:11:13.517323Z",
     "iopub.status.idle": "2022-02-28T14:11:13.537429Z",
     "shell.execute_reply": "2022-02-28T14:11:13.537021Z"
    },
    "papermill": {
     "duration": 0.048087,
     "end_time": "2022-02-28T14:11:13.538755",
     "exception": false,
     "start_time": "2022-02-28T14:11:13.490668",
     "status": "completed"
    },
    "tags": []
   },
   "outputs": [
    {
     "data": {
      "text/html": [
       "<div>\n",
       "<style scoped>\n",
       "    .dataframe tbody tr th:only-of-type {\n",
       "        vertical-align: middle;\n",
       "    }\n",
       "\n",
       "    .dataframe tbody tr th {\n",
       "        vertical-align: top;\n",
       "    }\n",
       "\n",
       "    .dataframe thead th {\n",
       "        text-align: right;\n",
       "    }\n",
       "</style>\n",
       "<table border=\"1\" class=\"dataframe\">\n",
       "  <thead>\n",
       "    <tr style=\"text-align: right;\">\n",
       "      <th></th>\n",
       "      <th>name</th>\n",
       "      <th>id</th>\n",
       "      <th>chr</th>\n",
       "    </tr>\n",
       "  </thead>\n",
       "  <tbody>\n",
       "    <tr>\n",
       "      <th>0</th>\n",
       "      <td>GAS6</td>\n",
       "      <td>ENSG00000183087</td>\n",
       "      <td>13</td>\n",
       "    </tr>\n",
       "    <tr>\n",
       "      <th>139</th>\n",
       "      <td>FRY</td>\n",
       "      <td>ENSG00000073910</td>\n",
       "      <td>13</td>\n",
       "    </tr>\n",
       "    <tr>\n",
       "      <th>239</th>\n",
       "      <td>CCNA1</td>\n",
       "      <td>ENSG00000133101</td>\n",
       "      <td>13</td>\n",
       "    </tr>\n",
       "    <tr>\n",
       "      <th>283</th>\n",
       "      <td>FLT3</td>\n",
       "      <td>ENSG00000122025</td>\n",
       "      <td>13</td>\n",
       "    </tr>\n",
       "    <tr>\n",
       "      <th>412</th>\n",
       "      <td>TNFSF11</td>\n",
       "      <td>ENSG00000120659</td>\n",
       "      <td>13</td>\n",
       "    </tr>\n",
       "    <tr>\n",
       "      <th>...</th>\n",
       "      <td>...</td>\n",
       "      <td>...</td>\n",
       "      <td>...</td>\n",
       "    </tr>\n",
       "    <tr>\n",
       "      <th>6269</th>\n",
       "      <td>KL</td>\n",
       "      <td>ENSG00000133116</td>\n",
       "      <td>13</td>\n",
       "    </tr>\n",
       "    <tr>\n",
       "      <th>6351</th>\n",
       "      <td>MTMR6</td>\n",
       "      <td>ENSG00000139505</td>\n",
       "      <td>13</td>\n",
       "    </tr>\n",
       "    <tr>\n",
       "      <th>6379</th>\n",
       "      <td>ABCC4</td>\n",
       "      <td>ENSG00000125257</td>\n",
       "      <td>13</td>\n",
       "    </tr>\n",
       "    <tr>\n",
       "      <th>6416</th>\n",
       "      <td>RFXAP</td>\n",
       "      <td>ENSG00000133111</td>\n",
       "      <td>13</td>\n",
       "    </tr>\n",
       "    <tr>\n",
       "      <th>6436</th>\n",
       "      <td>ELF1</td>\n",
       "      <td>ENSG00000120690</td>\n",
       "      <td>13</td>\n",
       "    </tr>\n",
       "  </tbody>\n",
       "</table>\n",
       "<p>118 rows × 3 columns</p>\n",
       "</div>"
      ],
      "text/plain": [
       "         name               id chr\n",
       "0        GAS6  ENSG00000183087  13\n",
       "139       FRY  ENSG00000073910  13\n",
       "239     CCNA1  ENSG00000133101  13\n",
       "283      FLT3  ENSG00000122025  13\n",
       "412   TNFSF11  ENSG00000120659  13\n",
       "...       ...              ...  ..\n",
       "6269       KL  ENSG00000133116  13\n",
       "6351    MTMR6  ENSG00000139505  13\n",
       "6379    ABCC4  ENSG00000125257  13\n",
       "6416    RFXAP  ENSG00000133111  13\n",
       "6436     ELF1  ENSG00000120690  13\n",
       "\n",
       "[118 rows x 3 columns]"
      ]
     },
     "execution_count": 21,
     "metadata": {},
     "output_type": "execute_result"
    }
   ],
   "source": [
    "genes_info[genes_info[\"chr\"] == \"13\"]"
   ]
  },
  {
   "cell_type": "code",
   "execution_count": 22,
   "id": "d9a014bc",
   "metadata": {
    "execution": {
     "iopub.execute_input": "2022-02-28T14:11:13.591934Z",
     "iopub.status.busy": "2022-02-28T14:11:13.591591Z",
     "iopub.status.idle": "2022-02-28T14:11:13.605281Z",
     "shell.execute_reply": "2022-02-28T14:11:13.604752Z"
    },
    "papermill": {
     "duration": 0.041638,
     "end_time": "2022-02-28T14:11:13.606763",
     "exception": false,
     "start_time": "2022-02-28T14:11:13.565125",
     "status": "completed"
    },
    "tags": []
   },
   "outputs": [],
   "source": [
    "_gene_list = [\n",
    "    Gene(\"ENSG00000134871\"),\n",
    "    Gene(\"ENSG00000187498\"),\n",
    "    Gene(\"ENSG00000183087\"),\n",
    "    Gene(\"ENSG00000073910\"),\n",
    "    Gene(\"ENSG00000133101\"),\n",
    "    Gene(\"ENSG00000122025\"),\n",
    "    Gene(\"ENSG00000120659\"),\n",
    "    Gene(\"ENSG00000133116\"),\n",
    "]\n",
    "\n",
    "tissue = \"Whole_Blood\""
   ]
  },
  {
   "cell_type": "code",
   "execution_count": 23,
   "id": "14337f6d",
   "metadata": {
    "execution": {
     "iopub.execute_input": "2022-02-28T14:11:13.662174Z",
     "iopub.status.busy": "2022-02-28T14:11:13.661657Z",
     "iopub.status.idle": "2022-02-28T14:11:14.465954Z",
     "shell.execute_reply": "2022-02-28T14:11:14.465430Z"
    },
    "papermill": {
     "duration": 0.83163,
     "end_time": "2022-02-28T14:11:14.467391",
     "exception": false,
     "start_time": "2022-02-28T14:11:13.635761",
     "status": "completed"
    },
    "tags": []
   },
   "outputs": [
    {
     "name": "stdout",
     "output_type": "stream",
     "text": [
      "76.7 ms ± 3 ms per loop (mean ± std. dev. of 7 runs, 1 loop each)\n"
     ]
    }
   ],
   "source": [
    "%%timeit\n",
    "for gene_idx1 in range(0, len(_gene_list) - 1):\n",
    "    gene_obj1 = _gene_list[gene_idx1]\n",
    "\n",
    "    for gene_idx2 in range(gene_idx1 + 1, len(_gene_list)):\n",
    "        gene_obj2 = _gene_list[gene_idx2]\n",
    "\n",
    "        gene_obj1.get_expression_correlation(\n",
    "            gene_obj2,\n",
    "            tissue,\n",
    "        )"
   ]
  },
  {
   "cell_type": "markdown",
   "id": "7787172c",
   "metadata": {
    "papermill": {
     "duration": 0.025986,
     "end_time": "2022-02-28T14:11:14.520711",
     "exception": false,
     "start_time": "2022-02-28T14:11:14.494725",
     "status": "completed"
    },
    "tags": []
   },
   "source": [
    "# Compute correlation per chromosome"
   ]
  },
  {
   "cell_type": "code",
   "execution_count": 24,
   "id": "53bac8a2",
   "metadata": {
    "execution": {
     "iopub.execute_input": "2022-02-28T14:11:14.574428Z",
     "iopub.status.busy": "2022-02-28T14:11:14.574240Z",
     "iopub.status.idle": "2022-02-28T14:11:15.847147Z",
     "shell.execute_reply": "2022-02-28T14:11:15.845096Z"
    },
    "papermill": {
     "duration": 1.305135,
     "end_time": "2022-02-28T14:11:15.852477",
     "exception": false,
     "start_time": "2022-02-28T14:11:14.547342",
     "status": "completed"
    },
    "tags": []
   },
   "outputs": [
    {
     "name": "stdout",
     "output_type": "stream",
     "text": [
      "Chromosome 1\n",
      "Genes in chromosome(700, 3)\n",
      "Number of gene combinations: 244650\n",
      "Tissue Vagina\n",
      "Already run, stopping.\n",
      "Tissue Colon_Sigmoid\n",
      "Already run, stopping.\n",
      "Tissue Brain_Caudate_basal_ganglia\n",
      "Already run, stopping.\n",
      "Tissue Stomach\n",
      "Already run, stopping.\n",
      "Tissue Skin_Not_Sun_Exposed_Suprapubic\n",
      "Already run, stopping.\n",
      "Tissue Artery_Tibial\n",
      "Already run, stopping.\n",
      "Tissue Brain_Hippocampus\n",
      "Already run, stopping.\n",
      "Tissue Esophagus_Gastroesophageal_Junction\n",
      "Already run, stopping.\n",
      "Tissue Esophagus_Muscularis\n",
      "Already run, stopping.\n",
      "Tissue Cells_Cultured_fibroblasts\n",
      "Already run, stopping.\n",
      "Tissue Brain_Nucleus_accumbens_basal_ganglia\n",
      "Already run, stopping.\n",
      "Tissue Brain_Frontal_Cortex_BA9\n",
      "Already run, stopping.\n",
      "Tissue Brain_Hypothalamus\n",
      "Already run, stopping.\n",
      "Tissue Breast_Mammary_Tissue\n",
      "Already run, stopping.\n",
      "Tissue Colon_Transverse\n",
      "Already run, stopping.\n",
      "Tissue Lung\n",
      "Already run, stopping.\n",
      "Tissue Esophagus_Mucosa\n",
      "Already run, stopping.\n",
      "Tissue Brain_Cerebellum\n",
      "Already run, stopping.\n",
      "Tissue Brain_Putamen_basal_ganglia\n",
      "Already run, stopping.\n",
      "Tissue Heart_Atrial_Appendage\n",
      "Already run, stopping.\n",
      "Tissue Heart_Left_Ventricle\n",
      "Already run, stopping.\n",
      "Tissue Brain_Anterior_cingulate_cortex_BA24\n",
      "Already run, stopping.\n",
      "Tissue Nerve_Tibial\n",
      "Already run, stopping.\n",
      "Tissue Prostate\n",
      "Already run, stopping.\n",
      "Tissue Adrenal_Gland\n",
      "Already run, stopping.\n",
      "Tissue Minor_Salivary_Gland\n",
      "Already run, stopping.\n",
      "Tissue Testis\n",
      "Already run, stopping.\n",
      "Tissue Whole_Blood\n",
      "Already run, stopping.\n",
      "Tissue Thyroid\n",
      "Already run, stopping.\n",
      "Tissue Liver\n",
      "Already run, stopping.\n",
      "Tissue Pancreas\n",
      "Already run, stopping.\n",
      "Tissue Kidney_Cortex\n",
      "Already run, stopping.\n",
      "Tissue Small_Intestine_Terminal_Ileum\n",
      "Already run, stopping.\n",
      "Tissue Artery_Coronary\n",
      "Already run, stopping.\n",
      "Tissue Brain_Cerebellar_Hemisphere\n",
      "Already run, stopping.\n",
      "Tissue Cells_EBV-transformed_lymphocytes\n",
      "Already run, stopping.\n",
      "Tissue Brain_Spinal_cord_cervical_c-1\n",
      "Already run, stopping.\n",
      "Tissue Adipose_Visceral_Omentum\n",
      "Already run, stopping.\n",
      "Tissue Brain_Amygdala\n",
      "Already run, stopping.\n",
      "Tissue Adipose_Subcutaneous\n",
      "Already run, stopping.\n",
      "Tissue Spleen\n",
      "Already run, stopping.\n",
      "Tissue Muscle_Skeletal\n",
      "Already run, stopping.\n",
      "Tissue Skin_Sun_Exposed_Lower_leg\n",
      "Already run, stopping.\n",
      "Tissue Brain_Substantia_nigra\n",
      "Already run, stopping.\n",
      "Tissue Artery_Aorta\n",
      "Already run, stopping.\n",
      "Tissue Ovary\n",
      "Already run, stopping.\n",
      "Tissue Pituitary\n",
      "Already run, stopping.\n",
      "Tissue Uterus\n",
      "Already run, stopping.\n",
      "Tissue Brain_Cortex\n",
      "Already run, stopping.\n"
     ]
    }
   ],
   "source": [
    "all_chrs = genes_info[\"chr\"].dropna().unique()\n",
    "assert all_chrs.shape[0] == 22\n",
    "\n",
    "if chromosome != \"all\":\n",
    "    chromosome = str(chromosome)\n",
    "    assert chromosome in all_chrs\n",
    "\n",
    "    # run only on the chromosome specified\n",
    "    all_chrs = [chromosome]\n",
    "\n",
    "# # For testing purposes\n",
    "# all_chrs = [\"13\"]\n",
    "# tissues = [\"Whole_Blood\"]\n",
    "# genes_info = genes_info[genes_info[\"id\"].isin([\"ENSG00000134871\", \"ENSG00000187498\", \"ENSG00000183087\", \"ENSG00000073910\"])]\n",
    "\n",
    "for chr_num in all_chrs:\n",
    "    print(f\"Chromosome {chr_num}\", flush=True)\n",
    "\n",
    "    genes_chr = genes_info[genes_info[\"chr\"] == chr_num]\n",
    "    print(f\"Genes in chromosome{genes_chr.shape}\", flush=True)\n",
    "\n",
    "    gene_chr_objs = [Gene(ensembl_id=gene_id) for gene_id in genes_chr[\"id\"]]\n",
    "    gene_chr_ids = [g.ensembl_id for g in gene_chr_objs]\n",
    "\n",
    "    n = len(gene_chr_objs)\n",
    "    n_comb = int(n * (n - 1) / 2.0)\n",
    "    print(f\"Number of gene combinations: {n_comb}\", flush=True)\n",
    "\n",
    "    for tissue in tissues:\n",
    "        print(f\"Tissue {tissue}\", flush=True)\n",
    "\n",
    "        # check if results exist\n",
    "        output_dir = (\n",
    "            conf.PHENOMEXCAN[\"LD_BLOCKS\"][\"BASE_DIR\"]\n",
    "            / f\"{EQTL_MODEL_FILES_PREFIX}gene_corrs\"\n",
    "            / tissue\n",
    "        )\n",
    "        output_file = output_dir / f\"gene_corrs-{tissue}-chr{chr_num}.pkl\"\n",
    "\n",
    "        if output_file.exists():\n",
    "            _tmp_data = pd.read_pickle(output_file)\n",
    "\n",
    "            if _tmp_data.shape[0] > 0:\n",
    "                print(\"Already run, stopping.\")\n",
    "                continue\n",
    "\n",
    "        gene_corrs = []\n",
    "\n",
    "        pbar = tqdm(ncols=100, total=n_comb)\n",
    "        i = 0\n",
    "        for gene_idx1 in range(0, len(gene_chr_objs) - 1):\n",
    "            gene_obj1 = gene_chr_objs[gene_idx1]\n",
    "\n",
    "            for gene_idx2 in range(gene_idx1 + 1, len(gene_chr_objs)):\n",
    "                gene_obj2 = gene_chr_objs[gene_idx2]\n",
    "\n",
    "                gene_corrs.append(\n",
    "                    gene_obj1.get_expression_correlation(\n",
    "                        gene_obj2, tissue, model_type=EQTL_MODEL\n",
    "                    )\n",
    "                )\n",
    "\n",
    "                pbar.update(1)\n",
    "\n",
    "        pbar.close()\n",
    "\n",
    "        # testing\n",
    "        gene_corrs_flat = pd.Series(gene_corrs)\n",
    "        print(f\"Min/max values: {gene_corrs_flat.min()} / {gene_corrs_flat.max()}\")\n",
    "        assert gene_corrs_flat.min() >= -1.001\n",
    "        assert gene_corrs_flat.max() <= 1.001\n",
    "\n",
    "        # save\n",
    "        # FIXME: consider saving only the condenced matrix here. See here for\n",
    "        # more details: https://github.com/greenelab/phenoplier/pull/38#discussion_r634600813\n",
    "        gene_corrs_data = squareform(np.array(gene_corrs, dtype=np.float32))\n",
    "        np.fill_diagonal(gene_corrs_data, 1.0)\n",
    "\n",
    "        gene_corrs_df = pd.DataFrame(\n",
    "            data=gene_corrs_data,\n",
    "            index=gene_chr_ids,\n",
    "            columns=gene_chr_ids,\n",
    "        )\n",
    "\n",
    "        output_dir.mkdir(exist_ok=True, parents=True)\n",
    "        display(output_file)\n",
    "\n",
    "        gene_corrs_df.to_pickle(output_file)"
   ]
  },
  {
   "cell_type": "markdown",
   "id": "eab5a00b",
   "metadata": {
    "papermill": {
     "duration": 0.040349,
     "end_time": "2022-02-28T14:11:15.952745",
     "exception": false,
     "start_time": "2022-02-28T14:11:15.912396",
     "status": "completed"
    },
    "tags": []
   },
   "source": [
    "# Testing"
   ]
  },
  {
   "cell_type": "code",
   "execution_count": 25,
   "id": "7803c342",
   "metadata": {
    "execution": {
     "iopub.execute_input": "2022-02-28T14:11:16.034874Z",
     "iopub.status.busy": "2022-02-28T14:11:16.034424Z",
     "iopub.status.idle": "2022-02-28T14:11:16.048563Z",
     "shell.execute_reply": "2022-02-28T14:11:16.047990Z"
    },
    "papermill": {
     "duration": 0.058708,
     "end_time": "2022-02-28T14:11:16.051900",
     "exception": false,
     "start_time": "2022-02-28T14:11:15.993192",
     "status": "completed"
    },
    "tags": []
   },
   "outputs": [],
   "source": [
    "# data = pd.read_pickle(\n",
    "#     conf.PHENOMEXCAN[\"LD_BLOCKS\"][\"BASE_DIR\"] / \"gene_corrs\" / \"Whole_Blood\" / \"gene_corrs-Whole_Blood-chr13.pkl\"\n",
    "# )"
   ]
  },
  {
   "cell_type": "code",
   "execution_count": 26,
   "id": "d8e42e9e",
   "metadata": {
    "execution": {
     "iopub.execute_input": "2022-02-28T14:11:16.134433Z",
     "iopub.status.busy": "2022-02-28T14:11:16.133707Z",
     "iopub.status.idle": "2022-02-28T14:11:16.149260Z",
     "shell.execute_reply": "2022-02-28T14:11:16.148673Z"
    },
    "papermill": {
     "duration": 0.057885,
     "end_time": "2022-02-28T14:11:16.150744",
     "exception": false,
     "start_time": "2022-02-28T14:11:16.092859",
     "status": "completed"
    },
    "tags": []
   },
   "outputs": [],
   "source": [
    "# assert data.loc[\"ENSG00000134871\", \"ENSG00000187498\"] > 0.97"
   ]
  },
  {
   "cell_type": "code",
   "execution_count": null,
   "id": "43918bdb",
   "metadata": {
    "papermill": {
     "duration": 0.042081,
     "end_time": "2022-02-28T14:11:16.235454",
     "exception": false,
     "start_time": "2022-02-28T14:11:16.193373",
     "status": "completed"
    },
    "tags": []
   },
   "outputs": [],
   "source": []
  }
 ],
 "metadata": {
  "jupytext": {
   "cell_metadata_filter": "all,-execution,-papermill,-trusted",
   "formats": "ipynb,py//py:percent"
  },
  "kernelspec": {
   "display_name": "Python 3 (ipykernel)",
   "language": "python",
   "name": "python3"
  },
  "language_info": {
   "codemirror_mode": {
    "name": "ipython",
    "version": 3
   },
   "file_extension": ".py",
   "mimetype": "text/x-python",
   "name": "python",
   "nbconvert_exporter": "python",
   "pygments_lexer": "ipython3",
   "version": "3.8.12"
  },
  "papermill": {
   "default_parameters": {},
   "duration": 7.64802,
   "end_time": "2022-02-28T14:11:16.593145",
   "environment_variables": {},
   "exception": null,
   "input_path": "nbs/15_gsa_gls/10-gene_expr_correlations.ipynb",
   "output_path": "nbs/15_gsa_gls/en_gene_corrs/10-gene_expr_correlations-chr1.run.ipynb",
   "parameters": {
    "EQTL_MODEL": "ELASTIC_NET",
    "chromosome": 1
   },
   "start_time": "2022-02-28T14:11:08.945125",
   "version": "2.2.2"
  }
 },
 "nbformat": 4,
 "nbformat_minor": 5
}
