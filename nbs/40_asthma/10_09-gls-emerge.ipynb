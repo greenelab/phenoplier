{
 "cells": [
  {
   "cell_type": "markdown",
   "id": "involved-karma",
   "metadata": {
    "papermill": {
     "duration": 0.021085,
     "end_time": "2021-09-28T20:48:35.090390",
     "exception": false,
     "start_time": "2021-09-28T20:48:35.069305",
     "status": "completed"
    },
    "tags": []
   },
   "source": [
    "# Description"
   ]
  },
  {
   "cell_type": "markdown",
   "id": "oriental-vampire",
   "metadata": {
    "papermill": {
     "duration": 0.02445,
     "end_time": "2021-09-28T20:48:35.136713",
     "exception": false,
     "start_time": "2021-09-28T20:48:35.112263",
     "status": "completed"
    },
    "tags": []
   },
   "source": [
    "**UPDATE**\n",
    "\n",
    "This notebook is similar to `30-gls_on_phenotypes-phenomexcan.ipynb` but for eMERGE S-MultiXcan results instead of PhenomeXcan.\n",
    "\n",
    "Since we don't have partition/clusters of eMERGE results, we selected the same set of LVs from the run on PhenomeXcan (`30-gls_on_phenotypes-phenomexcan.ipynb`); and regarding traits, we take the top 20 traits from each LVs to create a list of trait/LVs pairs to run GLSPhenoplier on."
   ]
  },
  {
   "cell_type": "markdown",
   "id": "practical-stranger",
   "metadata": {
    "papermill": {
     "duration": 0.023247,
     "end_time": "2021-09-28T20:48:35.184763",
     "exception": false,
     "start_time": "2021-09-28T20:48:35.161516",
     "status": "completed"
    },
    "tags": []
   },
   "source": [
    "# Environment variables"
   ]
  },
  {
   "cell_type": "code",
   "execution_count": 1,
   "id": "isolated-correction",
   "metadata": {
    "execution": {
     "iopub.execute_input": "2021-09-28T20:48:35.245770Z",
     "iopub.status.busy": "2021-09-28T20:48:35.245237Z",
     "iopub.status.idle": "2021-09-28T20:48:35.251230Z",
     "shell.execute_reply": "2021-09-28T20:48:35.251954Z"
    },
    "papermill": {
     "duration": 0.044102,
     "end_time": "2021-09-28T20:48:35.252194",
     "exception": false,
     "start_time": "2021-09-28T20:48:35.208092",
     "status": "completed"
    },
    "tags": []
   },
   "outputs": [],
   "source": [
    "%load_ext autoreload\n",
    "%autoreload 2"
   ]
  },
  {
   "cell_type": "code",
   "execution_count": 2,
   "id": "pursuant-final",
   "metadata": {
    "execution": {
     "iopub.execute_input": "2021-09-28T20:48:35.308931Z",
     "iopub.status.busy": "2021-09-28T20:48:35.308466Z",
     "iopub.status.idle": "2021-09-28T20:48:35.325659Z",
     "shell.execute_reply": "2021-09-28T20:48:35.326057Z"
    },
    "papermill": {
     "duration": 0.047034,
     "end_time": "2021-09-28T20:48:35.326184",
     "exception": false,
     "start_time": "2021-09-28T20:48:35.279150",
     "status": "completed"
    },
    "tags": []
   },
   "outputs": [],
   "source": [
    "import conf"
   ]
  },
  {
   "cell_type": "code",
   "execution_count": 3,
   "id": "surface-intent",
   "metadata": {
    "execution": {
     "iopub.execute_input": "2021-09-28T20:48:35.380897Z",
     "iopub.status.busy": "2021-09-28T20:48:35.380461Z",
     "iopub.status.idle": "2021-09-28T20:48:35.384009Z",
     "shell.execute_reply": "2021-09-28T20:48:35.384427Z"
    },
    "papermill": {
     "duration": 0.034797,
     "end_time": "2021-09-28T20:48:35.384546",
     "exception": false,
     "start_time": "2021-09-28T20:48:35.349749",
     "status": "completed"
    },
    "tags": []
   },
   "outputs": [
    {
     "data": {
      "text/plain": [
       "1"
      ]
     },
     "metadata": {},
     "output_type": "display_data"
    }
   ],
   "source": [
    "N_JOBS = conf.GENERAL[\"N_JOBS\"]\n",
    "display(N_JOBS)"
   ]
  },
  {
   "cell_type": "code",
   "execution_count": 4,
   "id": "mature-frame",
   "metadata": {
    "execution": {
     "iopub.execute_input": "2021-09-28T20:48:35.444963Z",
     "iopub.status.busy": "2021-09-28T20:48:35.444479Z",
     "iopub.status.idle": "2021-09-28T20:48:35.446228Z",
     "shell.execute_reply": "2021-09-28T20:48:35.446624Z"
    },
    "papermill": {
     "duration": 0.037477,
     "end_time": "2021-09-28T20:48:35.446750",
     "exception": false,
     "start_time": "2021-09-28T20:48:35.409273",
     "status": "completed"
    },
    "tags": []
   },
   "outputs": [
    {
     "name": "stdout",
     "output_type": "stream",
     "text": [
      "env: MKL_NUM_THREADS=1\n",
      "env: OPEN_BLAS_NUM_THREADS=1\n",
      "env: NUMEXPR_NUM_THREADS=1\n",
      "env: OMP_NUM_THREADS=1\n"
     ]
    }
   ],
   "source": [
    "%env MKL_NUM_THREADS=$N_JOBS\n",
    "%env OPEN_BLAS_NUM_THREADS=$N_JOBS\n",
    "%env NUMEXPR_NUM_THREADS=$N_JOBS\n",
    "%env OMP_NUM_THREADS=$N_JOBS"
   ]
  },
  {
   "cell_type": "markdown",
   "id": "chronic-benefit",
   "metadata": {
    "papermill": {
     "duration": 0.02442,
     "end_time": "2021-09-28T20:48:35.496738",
     "exception": false,
     "start_time": "2021-09-28T20:48:35.472318",
     "status": "completed"
    },
    "tags": []
   },
   "source": [
    "# Modules"
   ]
  },
  {
   "cell_type": "code",
   "execution_count": 5,
   "id": "through-pakistan",
   "metadata": {
    "execution": {
     "iopub.execute_input": "2021-09-28T20:48:35.548800Z",
     "iopub.status.busy": "2021-09-28T20:48:35.548393Z",
     "iopub.status.idle": "2021-09-28T20:48:36.523896Z",
     "shell.execute_reply": "2021-09-28T20:48:36.523198Z"
    },
    "papermill": {
     "duration": 1.004673,
     "end_time": "2021-09-28T20:48:36.524021",
     "exception": false,
     "start_time": "2021-09-28T20:48:35.519348",
     "status": "completed"
    },
    "tags": []
   },
   "outputs": [],
   "source": [
    "from pathlib import Path\n",
    "\n",
    "import statsmodels.api as sm\n",
    "import numpy as np\n",
    "import pandas as pd\n",
    "from sklearn.preprocessing import scale\n",
    "from tqdm import tqdm\n",
    "\n",
    "from gls import GLSPhenoplier"
   ]
  },
  {
   "cell_type": "markdown",
   "id": "concrete-broad",
   "metadata": {
    "papermill": {
     "duration": 0.025701,
     "end_time": "2021-09-28T20:48:36.576228",
     "exception": false,
     "start_time": "2021-09-28T20:48:36.550527",
     "status": "completed"
    },
    "tags": []
   },
   "source": [
    "# Settings"
   ]
  },
  {
   "cell_type": "code",
   "execution_count": 6,
   "id": "dress-eugene",
   "metadata": {
    "execution": {
     "iopub.execute_input": "2021-09-28T20:48:36.629928Z",
     "iopub.status.busy": "2021-09-28T20:48:36.629471Z",
     "iopub.status.idle": "2021-09-28T20:48:36.645400Z",
     "shell.execute_reply": "2021-09-28T20:48:36.645775Z"
    },
    "papermill": {
     "duration": 0.044035,
     "end_time": "2021-09-28T20:48:36.645915",
     "exception": false,
     "start_time": "2021-09-28T20:48:36.601880",
     "status": "completed"
    },
    "tags": []
   },
   "outputs": [
    {
     "data": {
      "text/plain": [
       "PosixPath('/home/miltondp/projects/labs/greenelab/phenoplier-asthma/base/results/gls')"
      ]
     },
     "metadata": {},
     "output_type": "display_data"
    }
   ],
   "source": [
    "OUTPUT_DIR = conf.RESULTS[\"GLS\"]\n",
    "display(OUTPUT_DIR)\n",
    "\n",
    "OUTPUT_DIR.mkdir(exist_ok=True, parents=True)"
   ]
  },
  {
   "cell_type": "code",
   "execution_count": 7,
   "id": "lonely-championship",
   "metadata": {
    "execution": {
     "iopub.execute_input": "2021-09-28T20:48:36.709517Z",
     "iopub.status.busy": "2021-09-28T20:48:36.709034Z",
     "iopub.status.idle": "2021-09-28T20:48:36.716490Z",
     "shell.execute_reply": "2021-09-28T20:48:36.717143Z"
    },
    "papermill": {
     "duration": 0.045039,
     "end_time": "2021-09-28T20:48:36.717292",
     "exception": false,
     "start_time": "2021-09-28T20:48:36.672253",
     "status": "completed"
    },
    "tags": []
   },
   "outputs": [
    {
     "data": {
      "text/plain": [
       "PosixPath('/home/miltondp/projects/labs/greenelab/phenoplier-asthma/base/results/gls/gls_phenotypes-emerge-asthma.pkl')"
      ]
     },
     "metadata": {},
     "output_type": "display_data"
    }
   ],
   "source": [
    "OUTPUT_FILENAME = OUTPUT_DIR / \"gls_phenotypes-emerge-asthma.pkl\"\n",
    "display(OUTPUT_FILENAME)"
   ]
  },
  {
   "cell_type": "code",
   "execution_count": 8,
   "id": "handmade-entertainment",
   "metadata": {
    "execution": {
     "iopub.execute_input": "2021-09-28T20:48:36.781438Z",
     "iopub.status.busy": "2021-09-28T20:48:36.780926Z",
     "iopub.status.idle": "2021-09-28T20:48:36.796760Z",
     "shell.execute_reply": "2021-09-28T20:48:36.797152Z"
    },
    "papermill": {
     "duration": 0.053183,
     "end_time": "2021-09-28T20:48:36.797337",
     "exception": false,
     "start_time": "2021-09-28T20:48:36.744154",
     "status": "completed"
    },
    "tags": []
   },
   "outputs": [
    {
     "data": {
      "text/plain": [
       "PosixPath('/home/miltondp/projects/labs/greenelab/phenoplier-asthma/base/results/gls/gls_phenotypes-phenomexcan-asthma.pkl')"
      ]
     },
     "metadata": {},
     "output_type": "display_data"
    }
   ],
   "source": [
    "PHENOMEXCAN_INPUT_FILE = conf.RESULTS[\"GLS\"] / \"gls_phenotypes-phenomexcan-asthma.pkl\"\n",
    "display(PHENOMEXCAN_INPUT_FILE)"
   ]
  },
  {
   "cell_type": "markdown",
   "id": "arabic-bracket",
   "metadata": {
    "papermill": {
     "duration": 0.027973,
     "end_time": "2021-09-28T20:48:36.853185",
     "exception": false,
     "start_time": "2021-09-28T20:48:36.825212",
     "status": "completed"
    },
    "tags": []
   },
   "source": [
    "# Load data"
   ]
  },
  {
   "cell_type": "markdown",
   "id": "funky-intermediate",
   "metadata": {
    "papermill": {
     "duration": 0.026527,
     "end_time": "2021-09-28T20:48:36.906952",
     "exception": false,
     "start_time": "2021-09-28T20:48:36.880425",
     "status": "completed"
    },
    "tags": []
   },
   "source": [
    "## eMERGE traits info"
   ]
  },
  {
   "cell_type": "code",
   "execution_count": 9,
   "id": "experimental-rating",
   "metadata": {
    "execution": {
     "iopub.execute_input": "2021-09-28T20:48:36.968889Z",
     "iopub.status.busy": "2021-09-28T20:48:36.968449Z",
     "iopub.status.idle": "2021-09-28T20:48:36.973248Z",
     "shell.execute_reply": "2021-09-28T20:48:36.973572Z"
    },
    "papermill": {
     "duration": 0.040396,
     "end_time": "2021-09-28T20:48:36.973697",
     "exception": false,
     "start_time": "2021-09-28T20:48:36.933301",
     "status": "completed"
    },
    "tags": []
   },
   "outputs": [
    {
     "data": {
      "text/plain": [
       "PosixPath('/home/miltondp/projects/labs/greenelab/phenoplier/base/data/emerge/eMERGE_III_PMBB_GSA_v2_2020_phecode_AFR_EUR_cc50_counts_w_dictionary.txt')"
      ]
     },
     "metadata": {},
     "output_type": "display_data"
    }
   ],
   "source": [
    "# FIXME: in the future, there will be a specific entry in config for the eMERGE directory that should be replaced here\n",
    "input_filepath = Path(\n",
    "    conf.DATA_DIR,\n",
    "    \"emerge\",\n",
    "    \"eMERGE_III_PMBB_GSA_v2_2020_phecode_AFR_EUR_cc50_counts_w_dictionary.txt\",\n",
    ").resolve()\n",
    "display(input_filepath)"
   ]
  },
  {
   "cell_type": "code",
   "execution_count": 10,
   "id": "precise-story",
   "metadata": {
    "execution": {
     "iopub.execute_input": "2021-09-28T20:48:37.034635Z",
     "iopub.status.busy": "2021-09-28T20:48:37.034187Z",
     "iopub.status.idle": "2021-09-28T20:48:37.036947Z",
     "shell.execute_reply": "2021-09-28T20:48:37.037581Z"
    },
    "papermill": {
     "duration": 0.04043,
     "end_time": "2021-09-28T20:48:37.037714",
     "exception": false,
     "start_time": "2021-09-28T20:48:36.997284",
     "status": "completed"
    },
    "tags": []
   },
   "outputs": [],
   "source": [
    "emerge_traits_df = pd.read_csv(\n",
    "    input_filepath,\n",
    "    sep=\"\\t\",\n",
    "    dtype={\"phecode\": str},\n",
    "    usecols=[\"phecode\", \"phenotype\", \"category\"],\n",
    ")"
   ]
  },
  {
   "cell_type": "code",
   "execution_count": 11,
   "id": "solar-appreciation",
   "metadata": {
    "execution": {
     "iopub.execute_input": "2021-09-28T20:48:37.096934Z",
     "iopub.status.busy": "2021-09-28T20:48:37.096470Z",
     "iopub.status.idle": "2021-09-28T20:48:37.105133Z",
     "shell.execute_reply": "2021-09-28T20:48:37.105544Z"
    },
    "papermill": {
     "duration": 0.041788,
     "end_time": "2021-09-28T20:48:37.105675",
     "exception": false,
     "start_time": "2021-09-28T20:48:37.063887",
     "status": "completed"
    },
    "tags": []
   },
   "outputs": [],
   "source": [
    "emerge_traits_df = emerge_traits_df.rename(\n",
    "    columns={\n",
    "        \"phenotype\": \"phecode_phenotype\",\n",
    "        \"category\": \"phecode_category\",\n",
    "    }\n",
    ")"
   ]
  },
  {
   "cell_type": "code",
   "execution_count": 12,
   "id": "mysterious-steal",
   "metadata": {
    "execution": {
     "iopub.execute_input": "2021-09-28T20:48:37.165062Z",
     "iopub.status.busy": "2021-09-28T20:48:37.164548Z",
     "iopub.status.idle": "2021-09-28T20:48:37.177407Z",
     "shell.execute_reply": "2021-09-28T20:48:37.177798Z"
    },
    "papermill": {
     "duration": 0.045836,
     "end_time": "2021-09-28T20:48:37.177949",
     "exception": false,
     "start_time": "2021-09-28T20:48:37.132113",
     "status": "completed"
    },
    "tags": []
   },
   "outputs": [
    {
     "data": {
      "text/plain": [
       "(309, 3)"
      ]
     },
     "execution_count": 12,
     "metadata": {},
     "output_type": "execute_result"
    }
   ],
   "source": [
    "emerge_traits_df.shape"
   ]
  },
  {
   "cell_type": "code",
   "execution_count": 13,
   "id": "entertaining-juvenile",
   "metadata": {
    "execution": {
     "iopub.execute_input": "2021-09-28T20:48:37.256862Z",
     "iopub.status.busy": "2021-09-28T20:48:37.256356Z",
     "iopub.status.idle": "2021-09-28T20:48:37.261571Z",
     "shell.execute_reply": "2021-09-28T20:48:37.262277Z"
    },
    "papermill": {
     "duration": 0.055223,
     "end_time": "2021-09-28T20:48:37.262431",
     "exception": false,
     "start_time": "2021-09-28T20:48:37.207208",
     "status": "completed"
    },
    "tags": []
   },
   "outputs": [
    {
     "data": {
      "text/html": [
       "<div>\n",
       "<style scoped>\n",
       "    .dataframe tbody tr th:only-of-type {\n",
       "        vertical-align: middle;\n",
       "    }\n",
       "\n",
       "    .dataframe tbody tr th {\n",
       "        vertical-align: top;\n",
       "    }\n",
       "\n",
       "    .dataframe thead th {\n",
       "        text-align: right;\n",
       "    }\n",
       "</style>\n",
       "<table border=\"1\" class=\"dataframe\">\n",
       "  <thead>\n",
       "    <tr style=\"text-align: right;\">\n",
       "      <th></th>\n",
       "      <th>phecode</th>\n",
       "      <th>phecode_phenotype</th>\n",
       "      <th>phecode_category</th>\n",
       "    </tr>\n",
       "  </thead>\n",
       "  <tbody>\n",
       "    <tr>\n",
       "      <th>0</th>\n",
       "      <td>008</td>\n",
       "      <td>Intestinal infection</td>\n",
       "      <td>infectious diseases</td>\n",
       "    </tr>\n",
       "    <tr>\n",
       "      <th>1</th>\n",
       "      <td>008.5</td>\n",
       "      <td>Bacterial enteritis</td>\n",
       "      <td>infectious diseases</td>\n",
       "    </tr>\n",
       "    <tr>\n",
       "      <th>2</th>\n",
       "      <td>008.52</td>\n",
       "      <td>Intestinal infection due to C. difficile</td>\n",
       "      <td>infectious diseases</td>\n",
       "    </tr>\n",
       "    <tr>\n",
       "      <th>3</th>\n",
       "      <td>038</td>\n",
       "      <td>Septicemia</td>\n",
       "      <td>infectious diseases</td>\n",
       "    </tr>\n",
       "    <tr>\n",
       "      <th>4</th>\n",
       "      <td>038.3</td>\n",
       "      <td>Bacteremia</td>\n",
       "      <td>infectious diseases</td>\n",
       "    </tr>\n",
       "  </tbody>\n",
       "</table>\n",
       "</div>"
      ],
      "text/plain": [
       "  phecode                         phecode_phenotype     phecode_category\n",
       "0     008                      Intestinal infection  infectious diseases\n",
       "1   008.5                       Bacterial enteritis  infectious diseases\n",
       "2  008.52  Intestinal infection due to C. difficile  infectious diseases\n",
       "3     038                                Septicemia  infectious diseases\n",
       "4   038.3                                Bacteremia  infectious diseases"
      ]
     },
     "execution_count": 13,
     "metadata": {},
     "output_type": "execute_result"
    }
   ],
   "source": [
    "emerge_traits_df.head()"
   ]
  },
  {
   "cell_type": "markdown",
   "id": "cardiovascular-pierce",
   "metadata": {
    "papermill": {
     "duration": 0.028147,
     "end_time": "2021-09-28T20:48:37.320109",
     "exception": false,
     "start_time": "2021-09-28T20:48:37.291962",
     "status": "completed"
    },
    "tags": []
   },
   "source": [
    "## eMERGE (S-MultiXcan) projection"
   ]
  },
  {
   "cell_type": "code",
   "execution_count": 14,
   "id": "liked-brighton",
   "metadata": {
    "execution": {
     "iopub.execute_input": "2021-09-28T20:48:37.391433Z",
     "iopub.status.busy": "2021-09-28T20:48:37.390947Z",
     "iopub.status.idle": "2021-09-28T20:48:37.395813Z",
     "shell.execute_reply": "2021-09-28T20:48:37.396493Z"
    },
    "papermill": {
     "duration": 0.048292,
     "end_time": "2021-09-28T20:48:37.396633",
     "exception": false,
     "start_time": "2021-09-28T20:48:37.348341",
     "status": "completed"
    },
    "tags": []
   },
   "outputs": [
    {
     "data": {
      "text/plain": [
       "PosixPath('/home/miltondp/projects/labs/greenelab/phenoplier/base/results/projections/projection-emerge-smultixcan-mashr-zscores.pkl')"
      ]
     },
     "metadata": {},
     "output_type": "display_data"
    }
   ],
   "source": [
    "input_filepath = Path(\n",
    "    conf.RESULTS[\"PROJECTIONS_DIR\"],\n",
    "    \"projection-emerge-smultixcan-mashr-zscores.pkl\",\n",
    ").resolve()\n",
    "display(input_filepath)"
   ]
  },
  {
   "cell_type": "code",
   "execution_count": 15,
   "id": "helpful-dressing",
   "metadata": {
    "execution": {
     "iopub.execute_input": "2021-09-28T20:48:37.465333Z",
     "iopub.status.busy": "2021-09-28T20:48:37.464849Z",
     "iopub.status.idle": "2021-09-28T20:48:37.470933Z",
     "shell.execute_reply": "2021-09-28T20:48:37.471349Z"
    },
    "papermill": {
     "duration": 0.046057,
     "end_time": "2021-09-28T20:48:37.471480",
     "exception": false,
     "start_time": "2021-09-28T20:48:37.425423",
     "status": "completed"
    },
    "tags": []
   },
   "outputs": [],
   "source": [
    "emerge_projection = pd.read_pickle(input_filepath)"
   ]
  },
  {
   "cell_type": "code",
   "execution_count": 16,
   "id": "homeless-rough",
   "metadata": {
    "execution": {
     "iopub.execute_input": "2021-09-28T20:48:37.537010Z",
     "iopub.status.busy": "2021-09-28T20:48:37.536527Z",
     "iopub.status.idle": "2021-09-28T20:48:37.544725Z",
     "shell.execute_reply": "2021-09-28T20:48:37.545097Z"
    },
    "papermill": {
     "duration": 0.044988,
     "end_time": "2021-09-28T20:48:37.545240",
     "exception": false,
     "start_time": "2021-09-28T20:48:37.500252",
     "status": "completed"
    },
    "tags": []
   },
   "outputs": [
    {
     "data": {
      "text/plain": [
       "(987, 309)"
      ]
     },
     "execution_count": 16,
     "metadata": {},
     "output_type": "execute_result"
    }
   ],
   "source": [
    "emerge_projection.shape"
   ]
  },
  {
   "cell_type": "code",
   "execution_count": 17,
   "id": "graphic-fetish",
   "metadata": {
    "execution": {
     "iopub.execute_input": "2021-09-28T20:48:37.621085Z",
     "iopub.status.busy": "2021-09-28T20:48:37.620635Z",
     "iopub.status.idle": "2021-09-28T20:48:37.632389Z",
     "shell.execute_reply": "2021-09-28T20:48:37.632988Z"
    },
    "papermill": {
     "duration": 0.059622,
     "end_time": "2021-09-28T20:48:37.633120",
     "exception": false,
     "start_time": "2021-09-28T20:48:37.573498",
     "status": "completed"
    },
    "tags": []
   },
   "outputs": [
    {
     "data": {
      "text/html": [
       "<div>\n",
       "<style scoped>\n",
       "    .dataframe tbody tr th:only-of-type {\n",
       "        vertical-align: middle;\n",
       "    }\n",
       "\n",
       "    .dataframe tbody tr th {\n",
       "        vertical-align: top;\n",
       "    }\n",
       "\n",
       "    .dataframe thead th {\n",
       "        text-align: right;\n",
       "    }\n",
       "</style>\n",
       "<table border=\"1\" class=\"dataframe\">\n",
       "  <thead>\n",
       "    <tr style=\"text-align: right;\">\n",
       "      <th></th>\n",
       "      <th>292.3</th>\n",
       "      <th>079</th>\n",
       "      <th>741</th>\n",
       "      <th>418.1</th>\n",
       "      <th>280</th>\n",
       "      <th>747</th>\n",
       "      <th>591</th>\n",
       "      <th>426.21</th>\n",
       "      <th>244</th>\n",
       "      <th>070.3</th>\n",
       "      <th>...</th>\n",
       "      <th>427</th>\n",
       "      <th>585.4</th>\n",
       "      <th>345</th>\n",
       "      <th>366.2</th>\n",
       "      <th>420.2</th>\n",
       "      <th>195</th>\n",
       "      <th>250.2</th>\n",
       "      <th>250.1</th>\n",
       "      <th>371</th>\n",
       "      <th>562</th>\n",
       "    </tr>\n",
       "  </thead>\n",
       "  <tbody>\n",
       "    <tr>\n",
       "      <th>LV1</th>\n",
       "      <td>0.055748</td>\n",
       "      <td>-0.019274</td>\n",
       "      <td>0.024491</td>\n",
       "      <td>0.012926</td>\n",
       "      <td>-0.026501</td>\n",
       "      <td>-0.043919</td>\n",
       "      <td>0.025264</td>\n",
       "      <td>-0.053251</td>\n",
       "      <td>0.043269</td>\n",
       "      <td>0.002465</td>\n",
       "      <td>...</td>\n",
       "      <td>-0.031739</td>\n",
       "      <td>0.014192</td>\n",
       "      <td>0.008710</td>\n",
       "      <td>-0.024261</td>\n",
       "      <td>-0.004780</td>\n",
       "      <td>0.057256</td>\n",
       "      <td>0.059702</td>\n",
       "      <td>0.036648</td>\n",
       "      <td>-0.022040</td>\n",
       "      <td>0.034427</td>\n",
       "    </tr>\n",
       "    <tr>\n",
       "      <th>LV2</th>\n",
       "      <td>-0.045630</td>\n",
       "      <td>-0.008570</td>\n",
       "      <td>0.040969</td>\n",
       "      <td>-0.016198</td>\n",
       "      <td>-0.032321</td>\n",
       "      <td>-0.017629</td>\n",
       "      <td>0.009238</td>\n",
       "      <td>-0.011634</td>\n",
       "      <td>-0.005854</td>\n",
       "      <td>0.033497</td>\n",
       "      <td>...</td>\n",
       "      <td>0.019678</td>\n",
       "      <td>0.040569</td>\n",
       "      <td>-0.009344</td>\n",
       "      <td>-0.012921</td>\n",
       "      <td>-0.055292</td>\n",
       "      <td>0.003193</td>\n",
       "      <td>0.013844</td>\n",
       "      <td>0.008327</td>\n",
       "      <td>0.004302</td>\n",
       "      <td>0.035154</td>\n",
       "    </tr>\n",
       "    <tr>\n",
       "      <th>LV3</th>\n",
       "      <td>0.025341</td>\n",
       "      <td>-0.059962</td>\n",
       "      <td>-0.027354</td>\n",
       "      <td>-0.033864</td>\n",
       "      <td>0.009571</td>\n",
       "      <td>0.023318</td>\n",
       "      <td>-0.003872</td>\n",
       "      <td>0.001095</td>\n",
       "      <td>0.028179</td>\n",
       "      <td>0.003639</td>\n",
       "      <td>...</td>\n",
       "      <td>0.041022</td>\n",
       "      <td>-0.036422</td>\n",
       "      <td>0.006088</td>\n",
       "      <td>-0.041302</td>\n",
       "      <td>0.017492</td>\n",
       "      <td>-0.039591</td>\n",
       "      <td>-0.000801</td>\n",
       "      <td>0.009127</td>\n",
       "      <td>0.045741</td>\n",
       "      <td>0.004434</td>\n",
       "    </tr>\n",
       "    <tr>\n",
       "      <th>LV4</th>\n",
       "      <td>-0.039736</td>\n",
       "      <td>0.013238</td>\n",
       "      <td>-0.002819</td>\n",
       "      <td>0.029253</td>\n",
       "      <td>-0.029388</td>\n",
       "      <td>-0.003176</td>\n",
       "      <td>0.037212</td>\n",
       "      <td>-0.022370</td>\n",
       "      <td>0.003168</td>\n",
       "      <td>0.039998</td>\n",
       "      <td>...</td>\n",
       "      <td>-0.029197</td>\n",
       "      <td>0.078351</td>\n",
       "      <td>0.044476</td>\n",
       "      <td>-0.027300</td>\n",
       "      <td>0.005332</td>\n",
       "      <td>0.028581</td>\n",
       "      <td>0.004288</td>\n",
       "      <td>0.015797</td>\n",
       "      <td>-0.074106</td>\n",
       "      <td>-0.020936</td>\n",
       "    </tr>\n",
       "    <tr>\n",
       "      <th>LV5</th>\n",
       "      <td>-0.012250</td>\n",
       "      <td>-0.002846</td>\n",
       "      <td>-0.025161</td>\n",
       "      <td>0.013880</td>\n",
       "      <td>0.009457</td>\n",
       "      <td>0.024885</td>\n",
       "      <td>0.001274</td>\n",
       "      <td>0.064774</td>\n",
       "      <td>0.039294</td>\n",
       "      <td>-0.000256</td>\n",
       "      <td>...</td>\n",
       "      <td>0.032792</td>\n",
       "      <td>-0.035128</td>\n",
       "      <td>-0.011787</td>\n",
       "      <td>-0.006511</td>\n",
       "      <td>-0.035433</td>\n",
       "      <td>-0.008735</td>\n",
       "      <td>-0.011139</td>\n",
       "      <td>-0.036651</td>\n",
       "      <td>0.003044</td>\n",
       "      <td>0.006505</td>\n",
       "    </tr>\n",
       "  </tbody>\n",
       "</table>\n",
       "<p>5 rows × 309 columns</p>\n",
       "</div>"
      ],
      "text/plain": [
       "        292.3       079       741     418.1       280       747       591  \\\n",
       "LV1  0.055748 -0.019274  0.024491  0.012926 -0.026501 -0.043919  0.025264   \n",
       "LV2 -0.045630 -0.008570  0.040969 -0.016198 -0.032321 -0.017629  0.009238   \n",
       "LV3  0.025341 -0.059962 -0.027354 -0.033864  0.009571  0.023318 -0.003872   \n",
       "LV4 -0.039736  0.013238 -0.002819  0.029253 -0.029388 -0.003176  0.037212   \n",
       "LV5 -0.012250 -0.002846 -0.025161  0.013880  0.009457  0.024885  0.001274   \n",
       "\n",
       "       426.21       244     070.3  ...       427     585.4       345  \\\n",
       "LV1 -0.053251  0.043269  0.002465  ... -0.031739  0.014192  0.008710   \n",
       "LV2 -0.011634 -0.005854  0.033497  ...  0.019678  0.040569 -0.009344   \n",
       "LV3  0.001095  0.028179  0.003639  ...  0.041022 -0.036422  0.006088   \n",
       "LV4 -0.022370  0.003168  0.039998  ... -0.029197  0.078351  0.044476   \n",
       "LV5  0.064774  0.039294 -0.000256  ...  0.032792 -0.035128 -0.011787   \n",
       "\n",
       "        366.2     420.2       195     250.2     250.1       371       562  \n",
       "LV1 -0.024261 -0.004780  0.057256  0.059702  0.036648 -0.022040  0.034427  \n",
       "LV2 -0.012921 -0.055292  0.003193  0.013844  0.008327  0.004302  0.035154  \n",
       "LV3 -0.041302  0.017492 -0.039591 -0.000801  0.009127  0.045741  0.004434  \n",
       "LV4 -0.027300  0.005332  0.028581  0.004288  0.015797 -0.074106 -0.020936  \n",
       "LV5 -0.006511 -0.035433 -0.008735 -0.011139 -0.036651  0.003044  0.006505  \n",
       "\n",
       "[5 rows x 309 columns]"
      ]
     },
     "execution_count": 17,
     "metadata": {},
     "output_type": "execute_result"
    }
   ],
   "source": [
    "emerge_projection.head()"
   ]
  },
  {
   "cell_type": "markdown",
   "id": "molecular-expression",
   "metadata": {
    "papermill": {
     "duration": 0.029699,
     "end_time": "2021-09-28T20:48:37.691847",
     "exception": false,
     "start_time": "2021-09-28T20:48:37.662148",
     "status": "completed"
    },
    "tags": []
   },
   "source": [
    "## eMERGE (S-MultiXcan)"
   ]
  },
  {
   "cell_type": "code",
   "execution_count": 18,
   "id": "photographic-accounting",
   "metadata": {
    "execution": {
     "iopub.execute_input": "2021-09-28T20:48:37.766382Z",
     "iopub.status.busy": "2021-09-28T20:48:37.765854Z",
     "iopub.status.idle": "2021-09-28T20:48:37.771216Z",
     "shell.execute_reply": "2021-09-28T20:48:37.771959Z"
    },
    "papermill": {
     "duration": 0.050438,
     "end_time": "2021-09-28T20:48:37.772108",
     "exception": false,
     "start_time": "2021-09-28T20:48:37.721670",
     "status": "completed"
    },
    "tags": []
   },
   "outputs": [
    {
     "data": {
      "text/plain": [
       "PosixPath('/home/miltondp/projects/labs/greenelab/phenoplier/base/data/emerge/gene_assoc/emerge-smultixcan-mashr-zscores.pkl')"
      ]
     },
     "metadata": {},
     "output_type": "display_data"
    }
   ],
   "source": [
    "# FIXME: in the future, there will be a specific entry in config for the eMERGE directory that should be replaced here\n",
    "emerge_smultixcan_zscores_filepath = Path(\n",
    "    conf.DATA_DIR,\n",
    "    \"emerge\",\n",
    "    \"gene_assoc\",\n",
    "    \"emerge-smultixcan-mashr-zscores.pkl\",\n",
    ").resolve()\n",
    "\n",
    "display(emerge_smultixcan_zscores_filepath)"
   ]
  },
  {
   "cell_type": "code",
   "execution_count": 19,
   "id": "likely-oklahoma",
   "metadata": {
    "execution": {
     "iopub.execute_input": "2021-09-28T20:48:37.853241Z",
     "iopub.status.busy": "2021-09-28T20:48:37.852753Z",
     "iopub.status.idle": "2021-09-28T20:48:37.880792Z",
     "shell.execute_reply": "2021-09-28T20:48:37.881450Z"
    },
    "papermill": {
     "duration": 0.078449,
     "end_time": "2021-09-28T20:48:37.881595",
     "exception": false,
     "start_time": "2021-09-28T20:48:37.803146",
     "status": "completed"
    },
    "tags": []
   },
   "outputs": [],
   "source": [
    "_tmp = pd.read_pickle(emerge_smultixcan_zscores_filepath)"
   ]
  },
  {
   "cell_type": "code",
   "execution_count": 20,
   "id": "secret-pound",
   "metadata": {
    "execution": {
     "iopub.execute_input": "2021-09-28T20:48:37.953403Z",
     "iopub.status.busy": "2021-09-28T20:48:37.952954Z",
     "iopub.status.idle": "2021-09-28T20:48:37.959066Z",
     "shell.execute_reply": "2021-09-28T20:48:37.959632Z"
    },
    "papermill": {
     "duration": 0.04776,
     "end_time": "2021-09-28T20:48:37.959783",
     "exception": false,
     "start_time": "2021-09-28T20:48:37.912023",
     "status": "completed"
    },
    "tags": []
   },
   "outputs": [
    {
     "data": {
      "text/plain": [
       "(22198, 309)"
      ]
     },
     "execution_count": 20,
     "metadata": {},
     "output_type": "execute_result"
    }
   ],
   "source": [
    "_tmp.shape"
   ]
  },
  {
   "cell_type": "code",
   "execution_count": 21,
   "id": "isolated-passport",
   "metadata": {
    "execution": {
     "iopub.execute_input": "2021-09-28T20:48:38.097227Z",
     "iopub.status.busy": "2021-09-28T20:48:38.096718Z",
     "iopub.status.idle": "2021-09-28T20:48:38.116820Z",
     "shell.execute_reply": "2021-09-28T20:48:38.117514Z"
    },
    "papermill": {
     "duration": 0.093146,
     "end_time": "2021-09-28T20:48:38.117658",
     "exception": false,
     "start_time": "2021-09-28T20:48:38.024512",
     "status": "completed"
    },
    "tags": []
   },
   "outputs": [
    {
     "data": {
      "text/html": [
       "<div>\n",
       "<style scoped>\n",
       "    .dataframe tbody tr th:only-of-type {\n",
       "        vertical-align: middle;\n",
       "    }\n",
       "\n",
       "    .dataframe tbody tr th {\n",
       "        vertical-align: top;\n",
       "    }\n",
       "\n",
       "    .dataframe thead th {\n",
       "        text-align: right;\n",
       "    }\n",
       "</style>\n",
       "<table border=\"1\" class=\"dataframe\">\n",
       "  <thead>\n",
       "    <tr style=\"text-align: right;\">\n",
       "      <th></th>\n",
       "      <th>292.3</th>\n",
       "      <th>079</th>\n",
       "      <th>741</th>\n",
       "      <th>418.1</th>\n",
       "      <th>280</th>\n",
       "      <th>747</th>\n",
       "      <th>591</th>\n",
       "      <th>426.21</th>\n",
       "      <th>244</th>\n",
       "      <th>070.3</th>\n",
       "      <th>...</th>\n",
       "      <th>427</th>\n",
       "      <th>585.4</th>\n",
       "      <th>345</th>\n",
       "      <th>366.2</th>\n",
       "      <th>420.2</th>\n",
       "      <th>195</th>\n",
       "      <th>250.2</th>\n",
       "      <th>250.1</th>\n",
       "      <th>371</th>\n",
       "      <th>562</th>\n",
       "    </tr>\n",
       "    <tr>\n",
       "      <th>gene_name</th>\n",
       "      <th></th>\n",
       "      <th></th>\n",
       "      <th></th>\n",
       "      <th></th>\n",
       "      <th></th>\n",
       "      <th></th>\n",
       "      <th></th>\n",
       "      <th></th>\n",
       "      <th></th>\n",
       "      <th></th>\n",
       "      <th></th>\n",
       "      <th></th>\n",
       "      <th></th>\n",
       "      <th></th>\n",
       "      <th></th>\n",
       "      <th></th>\n",
       "      <th></th>\n",
       "      <th></th>\n",
       "      <th></th>\n",
       "      <th></th>\n",
       "      <th></th>\n",
       "    </tr>\n",
       "  </thead>\n",
       "  <tbody>\n",
       "    <tr>\n",
       "      <th>ENSG00000000419</th>\n",
       "      <td>1.043436</td>\n",
       "      <td>1.134028</td>\n",
       "      <td>1.595979</td>\n",
       "      <td>0.399451</td>\n",
       "      <td>0.725100</td>\n",
       "      <td>1.655468</td>\n",
       "      <td>1.803598</td>\n",
       "      <td>0.125250</td>\n",
       "      <td>1.053218</td>\n",
       "      <td>0.922592</td>\n",
       "      <td>...</td>\n",
       "      <td>0.364789</td>\n",
       "      <td>0.453873</td>\n",
       "      <td>0.759558</td>\n",
       "      <td>1.173671</td>\n",
       "      <td>0.298944</td>\n",
       "      <td>1.029646</td>\n",
       "      <td>0.826238</td>\n",
       "      <td>0.685711</td>\n",
       "      <td>2.069701</td>\n",
       "      <td>1.544766</td>\n",
       "    </tr>\n",
       "    <tr>\n",
       "      <th>ENSG00000000457</th>\n",
       "      <td>1.236752</td>\n",
       "      <td>0.119837</td>\n",
       "      <td>0.224120</td>\n",
       "      <td>0.200610</td>\n",
       "      <td>1.304190</td>\n",
       "      <td>0.541478</td>\n",
       "      <td>0.646474</td>\n",
       "      <td>0.493759</td>\n",
       "      <td>0.189680</td>\n",
       "      <td>1.563273</td>\n",
       "      <td>...</td>\n",
       "      <td>1.519500</td>\n",
       "      <td>0.201290</td>\n",
       "      <td>1.020996</td>\n",
       "      <td>0.592006</td>\n",
       "      <td>0.632661</td>\n",
       "      <td>0.995453</td>\n",
       "      <td>0.069362</td>\n",
       "      <td>0.460979</td>\n",
       "      <td>0.217046</td>\n",
       "      <td>1.350475</td>\n",
       "    </tr>\n",
       "    <tr>\n",
       "      <th>ENSG00000000460</th>\n",
       "      <td>0.497108</td>\n",
       "      <td>0.005690</td>\n",
       "      <td>0.317710</td>\n",
       "      <td>0.184918</td>\n",
       "      <td>1.136574</td>\n",
       "      <td>1.708245</td>\n",
       "      <td>0.288962</td>\n",
       "      <td>1.070026</td>\n",
       "      <td>0.403510</td>\n",
       "      <td>1.106321</td>\n",
       "      <td>...</td>\n",
       "      <td>0.678253</td>\n",
       "      <td>1.166204</td>\n",
       "      <td>1.138126</td>\n",
       "      <td>0.608565</td>\n",
       "      <td>0.449551</td>\n",
       "      <td>0.096689</td>\n",
       "      <td>0.887467</td>\n",
       "      <td>0.143815</td>\n",
       "      <td>0.236647</td>\n",
       "      <td>1.048859</td>\n",
       "    </tr>\n",
       "    <tr>\n",
       "      <th>ENSG00000000938</th>\n",
       "      <td>0.374442</td>\n",
       "      <td>1.099899</td>\n",
       "      <td>1.975795</td>\n",
       "      <td>0.107667</td>\n",
       "      <td>0.903520</td>\n",
       "      <td>0.673819</td>\n",
       "      <td>0.855749</td>\n",
       "      <td>0.499088</td>\n",
       "      <td>0.375406</td>\n",
       "      <td>0.815757</td>\n",
       "      <td>...</td>\n",
       "      <td>1.585687</td>\n",
       "      <td>0.584143</td>\n",
       "      <td>0.751384</td>\n",
       "      <td>2.758230</td>\n",
       "      <td>0.572712</td>\n",
       "      <td>0.141023</td>\n",
       "      <td>1.437022</td>\n",
       "      <td>0.288943</td>\n",
       "      <td>0.665727</td>\n",
       "      <td>1.225229</td>\n",
       "    </tr>\n",
       "    <tr>\n",
       "      <th>ENSG00000000971</th>\n",
       "      <td>1.108762</td>\n",
       "      <td>1.133163</td>\n",
       "      <td>0.227188</td>\n",
       "      <td>0.222948</td>\n",
       "      <td>0.072709</td>\n",
       "      <td>0.256124</td>\n",
       "      <td>0.540911</td>\n",
       "      <td>0.606947</td>\n",
       "      <td>0.229133</td>\n",
       "      <td>1.557433</td>\n",
       "      <td>...</td>\n",
       "      <td>2.349373</td>\n",
       "      <td>1.122458</td>\n",
       "      <td>0.155346</td>\n",
       "      <td>0.990123</td>\n",
       "      <td>0.326914</td>\n",
       "      <td>1.100210</td>\n",
       "      <td>1.099537</td>\n",
       "      <td>2.511358</td>\n",
       "      <td>0.950262</td>\n",
       "      <td>1.467305</td>\n",
       "    </tr>\n",
       "  </tbody>\n",
       "</table>\n",
       "<p>5 rows × 309 columns</p>\n",
       "</div>"
      ],
      "text/plain": [
       "                    292.3       079       741     418.1       280       747  \\\n",
       "gene_name                                                                     \n",
       "ENSG00000000419  1.043436  1.134028  1.595979  0.399451  0.725100  1.655468   \n",
       "ENSG00000000457  1.236752  0.119837  0.224120  0.200610  1.304190  0.541478   \n",
       "ENSG00000000460  0.497108  0.005690  0.317710  0.184918  1.136574  1.708245   \n",
       "ENSG00000000938  0.374442  1.099899  1.975795  0.107667  0.903520  0.673819   \n",
       "ENSG00000000971  1.108762  1.133163  0.227188  0.222948  0.072709  0.256124   \n",
       "\n",
       "                      591    426.21       244     070.3  ...       427  \\\n",
       "gene_name                                                ...             \n",
       "ENSG00000000419  1.803598  0.125250  1.053218  0.922592  ...  0.364789   \n",
       "ENSG00000000457  0.646474  0.493759  0.189680  1.563273  ...  1.519500   \n",
       "ENSG00000000460  0.288962  1.070026  0.403510  1.106321  ...  0.678253   \n",
       "ENSG00000000938  0.855749  0.499088  0.375406  0.815757  ...  1.585687   \n",
       "ENSG00000000971  0.540911  0.606947  0.229133  1.557433  ...  2.349373   \n",
       "\n",
       "                    585.4       345     366.2     420.2       195     250.2  \\\n",
       "gene_name                                                                     \n",
       "ENSG00000000419  0.453873  0.759558  1.173671  0.298944  1.029646  0.826238   \n",
       "ENSG00000000457  0.201290  1.020996  0.592006  0.632661  0.995453  0.069362   \n",
       "ENSG00000000460  1.166204  1.138126  0.608565  0.449551  0.096689  0.887467   \n",
       "ENSG00000000938  0.584143  0.751384  2.758230  0.572712  0.141023  1.437022   \n",
       "ENSG00000000971  1.122458  0.155346  0.990123  0.326914  1.100210  1.099537   \n",
       "\n",
       "                    250.1       371       562  \n",
       "gene_name                                      \n",
       "ENSG00000000419  0.685711  2.069701  1.544766  \n",
       "ENSG00000000457  0.460979  0.217046  1.350475  \n",
       "ENSG00000000460  0.143815  0.236647  1.048859  \n",
       "ENSG00000000938  0.288943  0.665727  1.225229  \n",
       "ENSG00000000971  2.511358  0.950262  1.467305  \n",
       "\n",
       "[5 rows x 309 columns]"
      ]
     },
     "execution_count": 21,
     "metadata": {},
     "output_type": "execute_result"
    }
   ],
   "source": [
    "_tmp.head()"
   ]
  },
  {
   "cell_type": "markdown",
   "id": "cathedral-language",
   "metadata": {
    "papermill": {
     "duration": 0.035964,
     "end_time": "2021-09-28T20:48:38.194613",
     "exception": false,
     "start_time": "2021-09-28T20:48:38.158649",
     "status": "completed"
    },
    "tags": []
   },
   "source": [
    "## GLS results on PhenomeXcan"
   ]
  },
  {
   "cell_type": "markdown",
   "id": "metropolitan-georgia",
   "metadata": {
    "papermill": {
     "duration": 0.030424,
     "end_time": "2021-09-28T20:48:38.257932",
     "exception": false,
     "start_time": "2021-09-28T20:48:38.227508",
     "status": "completed"
    },
    "tags": []
   },
   "source": [
    "Read results obtained with `30-gls_on_phenotypes.ipynb` (PhenomeXcan)"
   ]
  },
  {
   "cell_type": "code",
   "execution_count": 22,
   "id": "marked-plymouth",
   "metadata": {
    "execution": {
     "iopub.execute_input": "2021-09-28T20:48:38.341139Z",
     "iopub.status.busy": "2021-09-28T20:48:38.340666Z",
     "iopub.status.idle": "2021-09-28T20:48:38.397718Z",
     "shell.execute_reply": "2021-09-28T20:48:38.398341Z"
    },
    "papermill": {
     "duration": 0.109857,
     "end_time": "2021-09-28T20:48:38.398474",
     "exception": false,
     "start_time": "2021-09-28T20:48:38.288617",
     "status": "completed"
    },
    "tags": []
   },
   "outputs": [],
   "source": [
    "gls_phenomexcan = pd.read_pickle(PHENOMEXCAN_INPUT_FILE)"
   ]
  },
  {
   "cell_type": "code",
   "execution_count": 23,
   "id": "frequent-found",
   "metadata": {
    "execution": {
     "iopub.execute_input": "2021-09-28T20:48:38.473186Z",
     "iopub.status.busy": "2021-09-28T20:48:38.472715Z",
     "iopub.status.idle": "2021-09-28T20:48:38.477160Z",
     "shell.execute_reply": "2021-09-28T20:48:38.477792Z"
    },
    "papermill": {
     "duration": 0.04859,
     "end_time": "2021-09-28T20:48:38.477926",
     "exception": false,
     "start_time": "2021-09-28T20:48:38.429336",
     "status": "completed"
    },
    "tags": []
   },
   "outputs": [
    {
     "data": {
      "text/plain": [
       "(100, 9)"
      ]
     },
     "execution_count": 23,
     "metadata": {},
     "output_type": "execute_result"
    }
   ],
   "source": [
    "gls_phenomexcan.shape"
   ]
  },
  {
   "cell_type": "code",
   "execution_count": 24,
   "id": "personal-exercise",
   "metadata": {
    "execution": {
     "iopub.execute_input": "2021-09-28T20:48:38.557109Z",
     "iopub.status.busy": "2021-09-28T20:48:38.556634Z",
     "iopub.status.idle": "2021-09-28T20:48:38.582087Z",
     "shell.execute_reply": "2021-09-28T20:48:38.582757Z"
    },
    "papermill": {
     "duration": 0.073997,
     "end_time": "2021-09-28T20:48:38.582894",
     "exception": false,
     "start_time": "2021-09-28T20:48:38.508897",
     "status": "completed"
    },
    "tags": []
   },
   "outputs": [
    {
     "data": {
      "text/html": [
       "<div>\n",
       "<style scoped>\n",
       "    .dataframe tbody tr th:only-of-type {\n",
       "        vertical-align: middle;\n",
       "    }\n",
       "\n",
       "    .dataframe tbody tr th {\n",
       "        vertical-align: top;\n",
       "    }\n",
       "\n",
       "    .dataframe thead th {\n",
       "        text-align: right;\n",
       "    }\n",
       "</style>\n",
       "<table border=\"1\" class=\"dataframe\">\n",
       "  <thead>\n",
       "    <tr style=\"text-align: right;\">\n",
       "      <th></th>\n",
       "      <th>part_k</th>\n",
       "      <th>cluster_id</th>\n",
       "      <th>phenotype</th>\n",
       "      <th>lv</th>\n",
       "      <th>lv_with_pathway</th>\n",
       "      <th>coef</th>\n",
       "      <th>pvalue</th>\n",
       "      <th>pvalue_twosided</th>\n",
       "      <th>summary</th>\n",
       "    </tr>\n",
       "  </thead>\n",
       "  <tbody>\n",
       "    <tr>\n",
       "      <th>0</th>\n",
       "      <td>29</td>\n",
       "      <td>12</td>\n",
       "      <td>30120_raw-Lymphocyte_count</td>\n",
       "      <td>LV644</td>\n",
       "      <td>False</td>\n",
       "      <td>0.000996</td>\n",
       "      <td>0.468635</td>\n",
       "      <td>0.937271</td>\n",
       "      <td>GLS Regression Res...</td>\n",
       "    </tr>\n",
       "    <tr>\n",
       "      <th>1</th>\n",
       "      <td>29</td>\n",
       "      <td>12</td>\n",
       "      <td>30120_raw-Lymphocyte_count</td>\n",
       "      <td>LV335</td>\n",
       "      <td>True</td>\n",
       "      <td>0.003096</td>\n",
       "      <td>0.405843</td>\n",
       "      <td>0.811686</td>\n",
       "      <td>GLS Regression Res...</td>\n",
       "    </tr>\n",
       "    <tr>\n",
       "      <th>2</th>\n",
       "      <td>29</td>\n",
       "      <td>12</td>\n",
       "      <td>30120_raw-Lymphocyte_count</td>\n",
       "      <td>LV34</td>\n",
       "      <td>True</td>\n",
       "      <td>0.045025</td>\n",
       "      <td>0.000219</td>\n",
       "      <td>0.000439</td>\n",
       "      <td>GLS Regression Res...</td>\n",
       "    </tr>\n",
       "    <tr>\n",
       "      <th>3</th>\n",
       "      <td>29</td>\n",
       "      <td>12</td>\n",
       "      <td>30120_raw-Lymphocyte_count</td>\n",
       "      <td>LV444</td>\n",
       "      <td>False</td>\n",
       "      <td>0.001527</td>\n",
       "      <td>0.452213</td>\n",
       "      <td>0.904427</td>\n",
       "      <td>GLS Regression Res...</td>\n",
       "    </tr>\n",
       "    <tr>\n",
       "      <th>4</th>\n",
       "      <td>29</td>\n",
       "      <td>12</td>\n",
       "      <td>30120_raw-Lymphocyte_count</td>\n",
       "      <td>LV705</td>\n",
       "      <td>True</td>\n",
       "      <td>0.031607</td>\n",
       "      <td>0.006947</td>\n",
       "      <td>0.013893</td>\n",
       "      <td>GLS Regression Res...</td>\n",
       "    </tr>\n",
       "  </tbody>\n",
       "</table>\n",
       "</div>"
      ],
      "text/plain": [
       "   part_k  cluster_id                   phenotype     lv  lv_with_pathway  \\\n",
       "0      29          12  30120_raw-Lymphocyte_count  LV644            False   \n",
       "1      29          12  30120_raw-Lymphocyte_count  LV335             True   \n",
       "2      29          12  30120_raw-Lymphocyte_count   LV34             True   \n",
       "3      29          12  30120_raw-Lymphocyte_count  LV444            False   \n",
       "4      29          12  30120_raw-Lymphocyte_count  LV705             True   \n",
       "\n",
       "       coef    pvalue  pvalue_twosided  \\\n",
       "0  0.000996  0.468635         0.937271   \n",
       "1  0.003096  0.405843         0.811686   \n",
       "2  0.045025  0.000219         0.000439   \n",
       "3  0.001527  0.452213         0.904427   \n",
       "4  0.031607  0.006947         0.013893   \n",
       "\n",
       "                                             summary  \n",
       "0                              GLS Regression Res...  \n",
       "1                              GLS Regression Res...  \n",
       "2                              GLS Regression Res...  \n",
       "3                              GLS Regression Res...  \n",
       "4                              GLS Regression Res...  "
      ]
     },
     "execution_count": 24,
     "metadata": {},
     "output_type": "execute_result"
    }
   ],
   "source": [
    "gls_phenomexcan.head()"
   ]
  },
  {
   "cell_type": "markdown",
   "id": "prime-guarantee",
   "metadata": {
    "papermill": {
     "duration": 0.031629,
     "end_time": "2021-09-28T20:48:38.646747",
     "exception": false,
     "start_time": "2021-09-28T20:48:38.615118",
     "status": "completed"
    },
    "tags": []
   },
   "source": [
    "## MultiPLIER summary"
   ]
  },
  {
   "cell_type": "code",
   "execution_count": 25,
   "id": "frozen-powder",
   "metadata": {
    "execution": {
     "iopub.execute_input": "2021-09-28T20:48:38.717259Z",
     "iopub.status.busy": "2021-09-28T20:48:38.716774Z",
     "iopub.status.idle": "2021-09-28T20:48:38.725120Z",
     "shell.execute_reply": "2021-09-28T20:48:38.725527Z"
    },
    "papermill": {
     "duration": 0.048534,
     "end_time": "2021-09-28T20:48:38.725656",
     "exception": false,
     "start_time": "2021-09-28T20:48:38.677122",
     "status": "completed"
    },
    "tags": []
   },
   "outputs": [],
   "source": [
    "multiplier_model_summary = pd.read_pickle(conf.MULTIPLIER[\"MODEL_SUMMARY_FILE\"])"
   ]
  },
  {
   "cell_type": "code",
   "execution_count": 26,
   "id": "swedish-daughter",
   "metadata": {
    "execution": {
     "iopub.execute_input": "2021-09-28T20:48:38.793361Z",
     "iopub.status.busy": "2021-09-28T20:48:38.792881Z",
     "iopub.status.idle": "2021-09-28T20:48:38.802339Z",
     "shell.execute_reply": "2021-09-28T20:48:38.802721Z"
    },
    "papermill": {
     "duration": 0.046763,
     "end_time": "2021-09-28T20:48:38.802865",
     "exception": false,
     "start_time": "2021-09-28T20:48:38.756102",
     "status": "completed"
    },
    "tags": []
   },
   "outputs": [
    {
     "data": {
      "text/plain": [
       "(2157, 5)"
      ]
     },
     "execution_count": 26,
     "metadata": {},
     "output_type": "execute_result"
    }
   ],
   "source": [
    "multiplier_model_summary.shape"
   ]
  },
  {
   "cell_type": "code",
   "execution_count": 27,
   "id": "extended-armenia",
   "metadata": {
    "execution": {
     "iopub.execute_input": "2021-09-28T20:48:38.877332Z",
     "iopub.status.busy": "2021-09-28T20:48:38.876843Z",
     "iopub.status.idle": "2021-09-28T20:48:38.887809Z",
     "shell.execute_reply": "2021-09-28T20:48:38.888208Z"
    },
    "papermill": {
     "duration": 0.054264,
     "end_time": "2021-09-28T20:48:38.888355",
     "exception": false,
     "start_time": "2021-09-28T20:48:38.834091",
     "status": "completed"
    },
    "tags": []
   },
   "outputs": [
    {
     "data": {
      "text/html": [
       "<div>\n",
       "<style scoped>\n",
       "    .dataframe tbody tr th:only-of-type {\n",
       "        vertical-align: middle;\n",
       "    }\n",
       "\n",
       "    .dataframe tbody tr th {\n",
       "        vertical-align: top;\n",
       "    }\n",
       "\n",
       "    .dataframe thead th {\n",
       "        text-align: right;\n",
       "    }\n",
       "</style>\n",
       "<table border=\"1\" class=\"dataframe\">\n",
       "  <thead>\n",
       "    <tr style=\"text-align: right;\">\n",
       "      <th></th>\n",
       "      <th>pathway</th>\n",
       "      <th>LV index</th>\n",
       "      <th>AUC</th>\n",
       "      <th>p-value</th>\n",
       "      <th>FDR</th>\n",
       "    </tr>\n",
       "  </thead>\n",
       "  <tbody>\n",
       "    <tr>\n",
       "      <th>1</th>\n",
       "      <td>KEGG_LYSINE_DEGRADATION</td>\n",
       "      <td>1</td>\n",
       "      <td>0.388059</td>\n",
       "      <td>0.866078</td>\n",
       "      <td>0.956005</td>\n",
       "    </tr>\n",
       "    <tr>\n",
       "      <th>2</th>\n",
       "      <td>REACTOME_MRNA_SPLICING</td>\n",
       "      <td>1</td>\n",
       "      <td>0.733057</td>\n",
       "      <td>0.000048</td>\n",
       "      <td>0.000582</td>\n",
       "    </tr>\n",
       "    <tr>\n",
       "      <th>3</th>\n",
       "      <td>MIPS_NOP56P_ASSOCIATED_PRE_RRNA_COMPLEX</td>\n",
       "      <td>1</td>\n",
       "      <td>0.680555</td>\n",
       "      <td>0.001628</td>\n",
       "      <td>0.011366</td>\n",
       "    </tr>\n",
       "    <tr>\n",
       "      <th>4</th>\n",
       "      <td>KEGG_DNA_REPLICATION</td>\n",
       "      <td>1</td>\n",
       "      <td>0.549473</td>\n",
       "      <td>0.312155</td>\n",
       "      <td>0.539951</td>\n",
       "    </tr>\n",
       "    <tr>\n",
       "      <th>5</th>\n",
       "      <td>PID_MYC_ACTIVPATHWAY</td>\n",
       "      <td>1</td>\n",
       "      <td>0.639303</td>\n",
       "      <td>0.021702</td>\n",
       "      <td>0.083739</td>\n",
       "    </tr>\n",
       "  </tbody>\n",
       "</table>\n",
       "</div>"
      ],
      "text/plain": [
       "                                   pathway LV index       AUC   p-value  \\\n",
       "1                  KEGG_LYSINE_DEGRADATION        1  0.388059  0.866078   \n",
       "2                   REACTOME_MRNA_SPLICING        1  0.733057  0.000048   \n",
       "3  MIPS_NOP56P_ASSOCIATED_PRE_RRNA_COMPLEX        1  0.680555  0.001628   \n",
       "4                     KEGG_DNA_REPLICATION        1  0.549473  0.312155   \n",
       "5                     PID_MYC_ACTIVPATHWAY        1  0.639303  0.021702   \n",
       "\n",
       "        FDR  \n",
       "1  0.956005  \n",
       "2  0.000582  \n",
       "3  0.011366  \n",
       "4  0.539951  \n",
       "5  0.083739  "
      ]
     },
     "execution_count": 27,
     "metadata": {},
     "output_type": "execute_result"
    }
   ],
   "source": [
    "multiplier_model_summary.head()"
   ]
  },
  {
   "cell_type": "code",
   "execution_count": 28,
   "id": "empirical-arcade",
   "metadata": {
    "execution": {
     "iopub.execute_input": "2021-09-28T20:48:38.968245Z",
     "iopub.status.busy": "2021-09-28T20:48:38.963862Z",
     "iopub.status.idle": "2021-09-28T20:48:38.982196Z",
     "shell.execute_reply": "2021-09-28T20:48:38.982539Z"
    },
    "papermill": {
     "duration": 0.061598,
     "end_time": "2021-09-28T20:48:38.982669",
     "exception": false,
     "start_time": "2021-09-28T20:48:38.921071",
     "status": "completed"
    },
    "tags": []
   },
   "outputs": [
    {
     "data": {
      "text/plain": [
       "(469, 5)"
      ]
     },
     "metadata": {},
     "output_type": "display_data"
    },
    {
     "data": {
      "text/html": [
       "<div>\n",
       "<style scoped>\n",
       "    .dataframe tbody tr th:only-of-type {\n",
       "        vertical-align: middle;\n",
       "    }\n",
       "\n",
       "    .dataframe tbody tr th {\n",
       "        vertical-align: top;\n",
       "    }\n",
       "\n",
       "    .dataframe thead th {\n",
       "        text-align: right;\n",
       "    }\n",
       "</style>\n",
       "<table border=\"1\" class=\"dataframe\">\n",
       "  <thead>\n",
       "    <tr style=\"text-align: right;\">\n",
       "      <th></th>\n",
       "      <th>pathway</th>\n",
       "      <th>LV index</th>\n",
       "      <th>AUC</th>\n",
       "      <th>p-value</th>\n",
       "      <th>FDR</th>\n",
       "    </tr>\n",
       "  </thead>\n",
       "  <tbody>\n",
       "    <tr>\n",
       "      <th>2</th>\n",
       "      <td>REACTOME_MRNA_SPLICING</td>\n",
       "      <td>1</td>\n",
       "      <td>0.733057</td>\n",
       "      <td>4.772691e-05</td>\n",
       "      <td>5.816211e-04</td>\n",
       "    </tr>\n",
       "    <tr>\n",
       "      <th>3</th>\n",
       "      <td>MIPS_NOP56P_ASSOCIATED_PRE_RRNA_COMPLEX</td>\n",
       "      <td>1</td>\n",
       "      <td>0.680555</td>\n",
       "      <td>1.628217e-03</td>\n",
       "      <td>1.136590e-02</td>\n",
       "    </tr>\n",
       "    <tr>\n",
       "      <th>8</th>\n",
       "      <td>REACTOME_MITOTIC_G1_G1_S_PHASES</td>\n",
       "      <td>1</td>\n",
       "      <td>0.686170</td>\n",
       "      <td>2.517619e-04</td>\n",
       "      <td>2.392292e-03</td>\n",
       "    </tr>\n",
       "    <tr>\n",
       "      <th>9</th>\n",
       "      <td>IRIS_Monocyte-Day0</td>\n",
       "      <td>2</td>\n",
       "      <td>0.890036</td>\n",
       "      <td>4.315812e-25</td>\n",
       "      <td>1.329887e-22</td>\n",
       "    </tr>\n",
       "    <tr>\n",
       "      <th>10</th>\n",
       "      <td>DMAP_MONO2</td>\n",
       "      <td>2</td>\n",
       "      <td>0.904676</td>\n",
       "      <td>1.313970e-16</td>\n",
       "      <td>1.574574e-14</td>\n",
       "    </tr>\n",
       "  </tbody>\n",
       "</table>\n",
       "</div>"
      ],
      "text/plain": [
       "                                    pathway LV index       AUC       p-value  \\\n",
       "2                    REACTOME_MRNA_SPLICING        1  0.733057  4.772691e-05   \n",
       "3   MIPS_NOP56P_ASSOCIATED_PRE_RRNA_COMPLEX        1  0.680555  1.628217e-03   \n",
       "8           REACTOME_MITOTIC_G1_G1_S_PHASES        1  0.686170  2.517619e-04   \n",
       "9                        IRIS_Monocyte-Day0        2  0.890036  4.315812e-25   \n",
       "10                               DMAP_MONO2        2  0.904676  1.313970e-16   \n",
       "\n",
       "             FDR  \n",
       "2   5.816211e-04  \n",
       "3   1.136590e-02  \n",
       "8   2.392292e-03  \n",
       "9   1.329887e-22  \n",
       "10  1.574574e-14  "
      ]
     },
     "metadata": {},
     "output_type": "display_data"
    }
   ],
   "source": [
    "well_aligned_lvs = multiplier_model_summary[\n",
    "    (multiplier_model_summary[\"FDR\"] < 0.05) | (multiplier_model_summary[\"AUC\"] >= 0.75)\n",
    "]\n",
    "\n",
    "display(well_aligned_lvs.shape)\n",
    "display(well_aligned_lvs.head())"
   ]
  },
  {
   "cell_type": "code",
   "execution_count": 29,
   "id": "exempt-savannah",
   "metadata": {
    "execution": {
     "iopub.execute_input": "2021-09-28T20:48:39.052498Z",
     "iopub.status.busy": "2021-09-28T20:48:39.052085Z",
     "iopub.status.idle": "2021-09-28T20:48:39.054554Z",
     "shell.execute_reply": "2021-09-28T20:48:39.055093Z"
    },
    "papermill": {
     "duration": 0.042879,
     "end_time": "2021-09-28T20:48:39.055210",
     "exception": false,
     "start_time": "2021-09-28T20:48:39.012331",
     "status": "completed"
    },
    "tags": []
   },
   "outputs": [],
   "source": [
    "well_aligned_lv_codes = set([f\"LV{lvi}\" for lvi in well_aligned_lvs[\"LV index\"]])"
   ]
  },
  {
   "cell_type": "code",
   "execution_count": 30,
   "id": "common-dividend",
   "metadata": {
    "execution": {
     "iopub.execute_input": "2021-09-28T20:48:39.131744Z",
     "iopub.status.busy": "2021-09-28T20:48:39.131265Z",
     "iopub.status.idle": "2021-09-28T20:48:39.136188Z",
     "shell.execute_reply": "2021-09-28T20:48:39.136592Z"
    },
    "papermill": {
     "duration": 0.050739,
     "end_time": "2021-09-28T20:48:39.136732",
     "exception": false,
     "start_time": "2021-09-28T20:48:39.085993",
     "status": "completed"
    },
    "tags": []
   },
   "outputs": [
    {
     "data": {
      "text/plain": [
       "200"
      ]
     },
     "execution_count": 30,
     "metadata": {},
     "output_type": "execute_result"
    }
   ],
   "source": [
    "len(well_aligned_lv_codes)"
   ]
  },
  {
   "cell_type": "code",
   "execution_count": 31,
   "id": "forty-speech",
   "metadata": {
    "execution": {
     "iopub.execute_input": "2021-09-28T20:48:39.216293Z",
     "iopub.status.busy": "2021-09-28T20:48:39.215850Z",
     "iopub.status.idle": "2021-09-28T20:48:39.220266Z",
     "shell.execute_reply": "2021-09-28T20:48:39.220600Z"
    },
    "papermill": {
     "duration": 0.05018,
     "end_time": "2021-09-28T20:48:39.220726",
     "exception": false,
     "start_time": "2021-09-28T20:48:39.170546",
     "status": "completed"
    },
    "tags": []
   },
   "outputs": [
    {
     "data": {
      "text/plain": [
       "['LV932', 'LV356', 'LV954', 'LV904', 'LV767']"
      ]
     },
     "execution_count": 31,
     "metadata": {},
     "output_type": "execute_result"
    }
   ],
   "source": [
    "list(well_aligned_lv_codes)[:5]"
   ]
  },
  {
   "cell_type": "markdown",
   "id": "first-omega",
   "metadata": {
    "papermill": {
     "duration": 0.027933,
     "end_time": "2021-09-28T20:48:39.278506",
     "exception": false,
     "start_time": "2021-09-28T20:48:39.250573",
     "status": "completed"
    },
    "tags": []
   },
   "source": [
    "# Select LVs"
   ]
  },
  {
   "cell_type": "code",
   "execution_count": 32,
   "id": "completed-aging",
   "metadata": {
    "execution": {
     "iopub.execute_input": "2021-09-28T20:48:39.349140Z",
     "iopub.status.busy": "2021-09-28T20:48:39.348621Z",
     "iopub.status.idle": "2021-09-28T20:48:39.393241Z",
     "shell.execute_reply": "2021-09-28T20:48:39.393918Z"
    },
    "papermill": {
     "duration": 0.08792,
     "end_time": "2021-09-28T20:48:39.394065",
     "exception": false,
     "start_time": "2021-09-28T20:48:39.306145",
     "status": "completed"
    },
    "tags": []
   },
   "outputs": [
    {
     "data": {
      "text/html": [
       "<div>\n",
       "<style scoped>\n",
       "    .dataframe tbody tr th:only-of-type {\n",
       "        vertical-align: middle;\n",
       "    }\n",
       "\n",
       "    .dataframe tbody tr th {\n",
       "        vertical-align: top;\n",
       "    }\n",
       "\n",
       "    .dataframe thead th {\n",
       "        text-align: right;\n",
       "    }\n",
       "</style>\n",
       "<table border=\"1\" class=\"dataframe\">\n",
       "  <thead>\n",
       "    <tr style=\"text-align: right;\">\n",
       "      <th></th>\n",
       "      <th>part_k</th>\n",
       "      <th>cluster_id</th>\n",
       "      <th>phenotype</th>\n",
       "      <th>lv</th>\n",
       "      <th>lv_with_pathway</th>\n",
       "      <th>coef</th>\n",
       "      <th>pvalue</th>\n",
       "      <th>pvalue_twosided</th>\n",
       "      <th>summary</th>\n",
       "    </tr>\n",
       "  </thead>\n",
       "  <tbody>\n",
       "    <tr>\n",
       "      <th>36</th>\n",
       "      <td>29</td>\n",
       "      <td>12</td>\n",
       "      <td>6152_100-Blood_clot_DVT_bronchitis_emphysema_a...</td>\n",
       "      <td>LV948</td>\n",
       "      <td>False</td>\n",
       "      <td>0.086323</td>\n",
       "      <td>3.299886e-12</td>\n",
       "      <td>6.599773e-12</td>\n",
       "      <td>GLS Regression Res...</td>\n",
       "    </tr>\n",
       "    <tr>\n",
       "      <th>34</th>\n",
       "      <td>29</td>\n",
       "      <td>12</td>\n",
       "      <td>6152_100-Blood_clot_DVT_bronchitis_emphysema_a...</td>\n",
       "      <td>LV96</td>\n",
       "      <td>True</td>\n",
       "      <td>0.085516</td>\n",
       "      <td>5.506865e-12</td>\n",
       "      <td>1.101373e-11</td>\n",
       "      <td>GLS Regression Res...</td>\n",
       "    </tr>\n",
       "    <tr>\n",
       "      <th>80</th>\n",
       "      <td>29</td>\n",
       "      <td>12</td>\n",
       "      <td>asthma</td>\n",
       "      <td>LV207</td>\n",
       "      <td>False</td>\n",
       "      <td>0.084608</td>\n",
       "      <td>1.191771e-11</td>\n",
       "      <td>2.383542e-11</td>\n",
       "      <td>GLS Regression Res...</td>\n",
       "    </tr>\n",
       "    <tr>\n",
       "      <th>49</th>\n",
       "      <td>29</td>\n",
       "      <td>12</td>\n",
       "      <td>6152_8-Blood_clot_DVT_bronchitis_emphysema_ast...</td>\n",
       "      <td>LV207</td>\n",
       "      <td>False</td>\n",
       "      <td>0.083574</td>\n",
       "      <td>2.052668e-11</td>\n",
       "      <td>4.105337e-11</td>\n",
       "      <td>GLS Regression Res...</td>\n",
       "    </tr>\n",
       "    <tr>\n",
       "      <th>73</th>\n",
       "      <td>29</td>\n",
       "      <td>12</td>\n",
       "      <td>6152_9-Blood_clot_DVT_bronchitis_emphysema_ast...</td>\n",
       "      <td>LV948</td>\n",
       "      <td>False</td>\n",
       "      <td>0.082493</td>\n",
       "      <td>2.536922e-11</td>\n",
       "      <td>5.073843e-11</td>\n",
       "      <td>GLS Regression Res...</td>\n",
       "    </tr>\n",
       "    <tr>\n",
       "      <th>94</th>\n",
       "      <td>29</td>\n",
       "      <td>12</td>\n",
       "      <td>asthma</td>\n",
       "      <td>LV948</td>\n",
       "      <td>False</td>\n",
       "      <td>0.076148</td>\n",
       "      <td>1.011494e-09</td>\n",
       "      <td>2.022989e-09</td>\n",
       "      <td>GLS Regression Res...</td>\n",
       "    </tr>\n",
       "    <tr>\n",
       "      <th>92</th>\n",
       "      <td>29</td>\n",
       "      <td>12</td>\n",
       "      <td>asthma</td>\n",
       "      <td>LV96</td>\n",
       "      <td>True</td>\n",
       "      <td>0.074659</td>\n",
       "      <td>2.171634e-09</td>\n",
       "      <td>4.343268e-09</td>\n",
       "      <td>GLS Regression Res...</td>\n",
       "    </tr>\n",
       "    <tr>\n",
       "      <th>30</th>\n",
       "      <td>29</td>\n",
       "      <td>12</td>\n",
       "      <td>6152_100-Blood_clot_DVT_bronchitis_emphysema_a...</td>\n",
       "      <td>LV942</td>\n",
       "      <td>True</td>\n",
       "      <td>0.072792</td>\n",
       "      <td>3.880992e-09</td>\n",
       "      <td>7.761983e-09</td>\n",
       "      <td>GLS Regression Res...</td>\n",
       "    </tr>\n",
       "    <tr>\n",
       "      <th>77</th>\n",
       "      <td>29</td>\n",
       "      <td>12</td>\n",
       "      <td>6152_9-Blood_clot_DVT_bronchitis_emphysema_ast...</td>\n",
       "      <td>LV96</td>\n",
       "      <td>True</td>\n",
       "      <td>0.072162</td>\n",
       "      <td>4.840323e-09</td>\n",
       "      <td>9.680647e-09</td>\n",
       "      <td>GLS Regression Res...</td>\n",
       "    </tr>\n",
       "    <tr>\n",
       "      <th>53</th>\n",
       "      <td>29</td>\n",
       "      <td>12</td>\n",
       "      <td>6152_8-Blood_clot_DVT_bronchitis_emphysema_ast...</td>\n",
       "      <td>LV948</td>\n",
       "      <td>False</td>\n",
       "      <td>0.071636</td>\n",
       "      <td>8.440642e-09</td>\n",
       "      <td>1.688128e-08</td>\n",
       "      <td>GLS Regression Res...</td>\n",
       "    </tr>\n",
       "  </tbody>\n",
       "</table>\n",
       "</div>"
      ],
      "text/plain": [
       "    part_k  cluster_id                                          phenotype  \\\n",
       "36      29          12  6152_100-Blood_clot_DVT_bronchitis_emphysema_a...   \n",
       "34      29          12  6152_100-Blood_clot_DVT_bronchitis_emphysema_a...   \n",
       "80      29          12                                             asthma   \n",
       "49      29          12  6152_8-Blood_clot_DVT_bronchitis_emphysema_ast...   \n",
       "73      29          12  6152_9-Blood_clot_DVT_bronchitis_emphysema_ast...   \n",
       "94      29          12                                             asthma   \n",
       "92      29          12                                             asthma   \n",
       "30      29          12  6152_100-Blood_clot_DVT_bronchitis_emphysema_a...   \n",
       "77      29          12  6152_9-Blood_clot_DVT_bronchitis_emphysema_ast...   \n",
       "53      29          12  6152_8-Blood_clot_DVT_bronchitis_emphysema_ast...   \n",
       "\n",
       "       lv  lv_with_pathway      coef        pvalue  pvalue_twosided  \\\n",
       "36  LV948            False  0.086323  3.299886e-12     6.599773e-12   \n",
       "34   LV96             True  0.085516  5.506865e-12     1.101373e-11   \n",
       "80  LV207            False  0.084608  1.191771e-11     2.383542e-11   \n",
       "49  LV207            False  0.083574  2.052668e-11     4.105337e-11   \n",
       "73  LV948            False  0.082493  2.536922e-11     5.073843e-11   \n",
       "94  LV948            False  0.076148  1.011494e-09     2.022989e-09   \n",
       "92   LV96             True  0.074659  2.171634e-09     4.343268e-09   \n",
       "30  LV942             True  0.072792  3.880992e-09     7.761983e-09   \n",
       "77   LV96             True  0.072162  4.840323e-09     9.680647e-09   \n",
       "53  LV948            False  0.071636  8.440642e-09     1.688128e-08   \n",
       "\n",
       "                                              summary  \n",
       "36                              GLS Regression Res...  \n",
       "34                              GLS Regression Res...  \n",
       "80                              GLS Regression Res...  \n",
       "49                              GLS Regression Res...  \n",
       "73                              GLS Regression Res...  \n",
       "94                              GLS Regression Res...  \n",
       "92                              GLS Regression Res...  \n",
       "30                              GLS Regression Res...  \n",
       "77                              GLS Regression Res...  \n",
       "53                              GLS Regression Res...  "
      ]
     },
     "execution_count": 32,
     "metadata": {},
     "output_type": "execute_result"
    }
   ],
   "source": [
    "gls_phenomexcan.sort_values(\"pvalue\").head(10)"
   ]
  },
  {
   "cell_type": "code",
   "execution_count": 33,
   "id": "atmospheric-dryer",
   "metadata": {
    "execution": {
     "iopub.execute_input": "2021-09-28T20:48:39.480915Z",
     "iopub.status.busy": "2021-09-28T20:48:39.480398Z",
     "iopub.status.idle": "2021-09-28T20:48:39.485454Z",
     "shell.execute_reply": "2021-09-28T20:48:39.486106Z"
    },
    "papermill": {
     "duration": 0.056777,
     "end_time": "2021-09-28T20:48:39.486243",
     "exception": false,
     "start_time": "2021-09-28T20:48:39.429466",
     "status": "completed"
    },
    "tags": []
   },
   "outputs": [
    {
     "data": {
      "text/plain": [
       "array(['LV948', 'LV96', 'LV207', 'LV942', 'LV705', 'LV34', 'LV525',\n",
       "       'LV644', 'LV853', 'LV564', 'LV985', 'LV363', 'LV444', 'LV774',\n",
       "       'LV390', 'LV679', 'LV335', 'LV586', 'LV941', 'LV882'], dtype=object)"
      ]
     },
     "metadata": {},
     "output_type": "display_data"
    }
   ],
   "source": [
    "gls_phenomexcan_lvs = (\n",
    "    gls_phenomexcan[gls_phenomexcan[\"pvalue\"] < 0.05]\n",
    "    .sort_values(\"pvalue\")[\"lv\"]\n",
    "    .drop_duplicates(keep=\"first\")\n",
    "    .to_numpy()\n",
    ")\n",
    "display(gls_phenomexcan_lvs)"
   ]
  },
  {
   "cell_type": "code",
   "execution_count": 34,
   "id": "material-prisoner",
   "metadata": {
    "execution": {
     "iopub.execute_input": "2021-09-28T20:48:39.568978Z",
     "iopub.status.busy": "2021-09-28T20:48:39.568506Z",
     "iopub.status.idle": "2021-09-28T20:48:39.573158Z",
     "shell.execute_reply": "2021-09-28T20:48:39.573789Z"
    },
    "papermill": {
     "duration": 0.051825,
     "end_time": "2021-09-28T20:48:39.573926",
     "exception": false,
     "start_time": "2021-09-28T20:48:39.522101",
     "status": "completed"
    },
    "tags": []
   },
   "outputs": [
    {
     "data": {
      "text/plain": [
       "20"
      ]
     },
     "execution_count": 34,
     "metadata": {},
     "output_type": "execute_result"
    }
   ],
   "source": [
    "len(gls_phenomexcan_lvs)"
   ]
  },
  {
   "cell_type": "code",
   "execution_count": 35,
   "id": "finnish-budapest",
   "metadata": {
    "execution": {
     "iopub.execute_input": "2021-09-28T20:48:39.658877Z",
     "iopub.status.busy": "2021-09-28T20:48:39.658378Z",
     "iopub.status.idle": "2021-09-28T20:48:39.661377Z",
     "shell.execute_reply": "2021-09-28T20:48:39.661767Z"
    },
    "papermill": {
     "duration": 0.052415,
     "end_time": "2021-09-28T20:48:39.661907",
     "exception": false,
     "start_time": "2021-09-28T20:48:39.609492",
     "status": "completed"
    },
    "tags": []
   },
   "outputs": [],
   "source": [
    "assert len(gls_phenomexcan_lvs) == len(set(gls_phenomexcan_lvs)), \"Repeated LVs in list\""
   ]
  },
  {
   "cell_type": "markdown",
   "id": "described-official",
   "metadata": {
    "papermill": {
     "duration": 0.031932,
     "end_time": "2021-09-28T20:48:39.729545",
     "exception": false,
     "start_time": "2021-09-28T20:48:39.697613",
     "status": "completed"
    },
    "tags": []
   },
   "source": [
    "# GLSPhenoplier"
   ]
  },
  {
   "cell_type": "markdown",
   "id": "sticky-concentrate",
   "metadata": {
    "papermill": {
     "duration": 0.035701,
     "end_time": "2021-09-28T20:48:39.796784",
     "exception": false,
     "start_time": "2021-09-28T20:48:39.761083",
     "status": "completed"
    },
    "tags": []
   },
   "source": [
    "## Get list of phenotypes/lvs pairs"
   ]
  },
  {
   "cell_type": "code",
   "execution_count": 36,
   "id": "laden-screen",
   "metadata": {
    "execution": {
     "iopub.execute_input": "2021-09-28T20:48:39.872236Z",
     "iopub.status.busy": "2021-09-28T20:48:39.871731Z",
     "iopub.status.idle": "2021-09-28T20:48:39.890001Z",
     "shell.execute_reply": "2021-09-28T20:48:39.890429Z"
    },
    "papermill": {
     "duration": 0.057647,
     "end_time": "2021-09-28T20:48:39.890568",
     "exception": false,
     "start_time": "2021-09-28T20:48:39.832921",
     "status": "completed"
    },
    "tags": []
   },
   "outputs": [
    {
     "data": {
      "text/plain": [
       "(309,)"
      ]
     },
     "metadata": {},
     "output_type": "display_data"
    }
   ],
   "source": [
    "traits = emerge_traits_df[\"phecode\"].unique()\n",
    "display(traits.shape)"
   ]
  },
  {
   "cell_type": "code",
   "execution_count": 37,
   "id": "traditional-sullivan",
   "metadata": {
    "execution": {
     "iopub.execute_input": "2021-09-28T20:48:39.969000Z",
     "iopub.status.busy": "2021-09-28T20:48:39.968510Z",
     "iopub.status.idle": "2021-09-28T20:48:40.008531Z",
     "shell.execute_reply": "2021-09-28T20:48:40.008903Z"
    },
    "papermill": {
     "duration": 0.083505,
     "end_time": "2021-09-28T20:48:40.009047",
     "exception": false,
     "start_time": "2021-09-28T20:48:39.925542",
     "status": "completed"
    },
    "tags": []
   },
   "outputs": [],
   "source": [
    "phenotypes_lvs_pairs = []\n",
    "\n",
    "# for each LV that was run on PhenomeXcan, I take the top `N_TOP_TRAITS_FROM_LV` traits\n",
    "# in eMERGE\n",
    "# ~~~+ global mapped phenotypes (variable `gls_emerge_phecodes`)~~~\n",
    "for lv in gls_phenomexcan_lvs:\n",
    "\n",
    "    for phenotype_code in traits:  # + gls_emerge_phecodes):\n",
    "        phenotypes_lvs_pairs.append(\n",
    "            {\n",
    "                \"phenotype\": phenotype_code,\n",
    "                \"lv\": lv,\n",
    "            }\n",
    "        )\n",
    "\n",
    "phenotypes_lvs_pairs = pd.DataFrame(phenotypes_lvs_pairs).drop_duplicates()"
   ]
  },
  {
   "cell_type": "code",
   "execution_count": 38,
   "id": "positive-auckland",
   "metadata": {
    "execution": {
     "iopub.execute_input": "2021-09-28T20:48:40.132732Z",
     "iopub.status.busy": "2021-09-28T20:48:40.132070Z",
     "iopub.status.idle": "2021-09-28T20:48:40.150142Z",
     "shell.execute_reply": "2021-09-28T20:48:40.150560Z"
    },
    "papermill": {
     "duration": 0.091306,
     "end_time": "2021-09-28T20:48:40.150734",
     "exception": false,
     "start_time": "2021-09-28T20:48:40.059428",
     "status": "completed"
    },
    "tags": []
   },
   "outputs": [],
   "source": [
    "phenotypes_lvs_pairs = phenotypes_lvs_pairs.sort_values(\"phenotype\").reset_index(\n",
    "    drop=True\n",
    ")"
   ]
  },
  {
   "cell_type": "code",
   "execution_count": 39,
   "id": "adequate-seating",
   "metadata": {
    "execution": {
     "iopub.execute_input": "2021-09-28T20:48:40.228925Z",
     "iopub.status.busy": "2021-09-28T20:48:40.228461Z",
     "iopub.status.idle": "2021-09-28T20:48:40.236737Z",
     "shell.execute_reply": "2021-09-28T20:48:40.237086Z"
    },
    "papermill": {
     "duration": 0.050353,
     "end_time": "2021-09-28T20:48:40.237215",
     "exception": false,
     "start_time": "2021-09-28T20:48:40.186862",
     "status": "completed"
    },
    "tags": []
   },
   "outputs": [
    {
     "data": {
      "text/plain": [
       "(6180, 2)"
      ]
     },
     "execution_count": 39,
     "metadata": {},
     "output_type": "execute_result"
    }
   ],
   "source": [
    "phenotypes_lvs_pairs.shape"
   ]
  },
  {
   "cell_type": "code",
   "execution_count": 40,
   "id": "satisfied-satin",
   "metadata": {
    "execution": {
     "iopub.execute_input": "2021-09-28T20:48:40.314634Z",
     "iopub.status.busy": "2021-09-28T20:48:40.314155Z",
     "iopub.status.idle": "2021-09-28T20:48:40.318658Z",
     "shell.execute_reply": "2021-09-28T20:48:40.319218Z"
    },
    "papermill": {
     "duration": 0.049308,
     "end_time": "2021-09-28T20:48:40.319339",
     "exception": false,
     "start_time": "2021-09-28T20:48:40.270031",
     "status": "completed"
    },
    "tags": []
   },
   "outputs": [
    {
     "data": {
      "text/html": [
       "<div>\n",
       "<style scoped>\n",
       "    .dataframe tbody tr th:only-of-type {\n",
       "        vertical-align: middle;\n",
       "    }\n",
       "\n",
       "    .dataframe tbody tr th {\n",
       "        vertical-align: top;\n",
       "    }\n",
       "\n",
       "    .dataframe thead th {\n",
       "        text-align: right;\n",
       "    }\n",
       "</style>\n",
       "<table border=\"1\" class=\"dataframe\">\n",
       "  <thead>\n",
       "    <tr style=\"text-align: right;\">\n",
       "      <th></th>\n",
       "      <th>phenotype</th>\n",
       "      <th>lv</th>\n",
       "    </tr>\n",
       "  </thead>\n",
       "  <tbody>\n",
       "    <tr>\n",
       "      <th>0</th>\n",
       "      <td>008</td>\n",
       "      <td>LV948</td>\n",
       "    </tr>\n",
       "    <tr>\n",
       "      <th>1</th>\n",
       "      <td>008</td>\n",
       "      <td>LV96</td>\n",
       "    </tr>\n",
       "    <tr>\n",
       "      <th>2</th>\n",
       "      <td>008</td>\n",
       "      <td>LV335</td>\n",
       "    </tr>\n",
       "    <tr>\n",
       "      <th>3</th>\n",
       "      <td>008</td>\n",
       "      <td>LV679</td>\n",
       "    </tr>\n",
       "    <tr>\n",
       "      <th>4</th>\n",
       "      <td>008</td>\n",
       "      <td>LV207</td>\n",
       "    </tr>\n",
       "  </tbody>\n",
       "</table>\n",
       "</div>"
      ],
      "text/plain": [
       "  phenotype     lv\n",
       "0       008  LV948\n",
       "1       008   LV96\n",
       "2       008  LV335\n",
       "3       008  LV679\n",
       "4       008  LV207"
      ]
     },
     "execution_count": 40,
     "metadata": {},
     "output_type": "execute_result"
    }
   ],
   "source": [
    "phenotypes_lvs_pairs.head()"
   ]
  },
  {
   "cell_type": "markdown",
   "id": "respected-possible",
   "metadata": {
    "papermill": {
     "duration": 0.03129,
     "end_time": "2021-09-28T20:48:40.383790",
     "exception": false,
     "start_time": "2021-09-28T20:48:40.352500",
     "status": "completed"
    },
    "tags": []
   },
   "source": [
    "## Run"
   ]
  },
  {
   "cell_type": "code",
   "execution_count": 41,
   "id": "olive-difficulty",
   "metadata": {
    "execution": {
     "iopub.execute_input": "2021-09-28T20:48:40.461678Z",
     "iopub.status.busy": "2021-09-28T20:48:40.461159Z",
     "iopub.status.idle": "2021-09-30T15:31:12.502863Z",
     "shell.execute_reply": "2021-09-30T15:31:12.501911Z"
    },
    "papermill": {
     "duration": 153752.087565,
     "end_time": "2021-09-30T15:31:12.502959",
     "exception": false,
     "start_time": "2021-09-28T20:48:40.415394",
     "status": "completed"
    },
    "tags": []
   },
   "outputs": [
    {
     "name": "stderr",
     "output_type": "stream",
     "text": [
      "796 - LV882: 100%|███████████████████████████████████████████| 6180/6180 [42:42:30<00:00, 24.88s/it]\n"
     ]
    }
   ],
   "source": [
    "results = []\n",
    "\n",
    "pbar = tqdm(total=phenotypes_lvs_pairs.shape[0], ncols=100)\n",
    "\n",
    "for idx, row in phenotypes_lvs_pairs.iterrows():\n",
    "    phenotype_code = row[\"phenotype\"]\n",
    "    lv_code = row[\"lv\"]\n",
    "\n",
    "    pbar.set_description(f\"{phenotype_code} - {lv_code}\")\n",
    "\n",
    "    gls_model = GLSPhenoplier(\n",
    "        smultixcan_result_set_filepath=emerge_smultixcan_zscores_filepath\n",
    "    )\n",
    "    gls_model.fit_named(lv_code, phenotype_code)\n",
    "    res = gls_model.results\n",
    "\n",
    "    results.append(\n",
    "        {\n",
    "            \"phenotype\": phenotype_code,\n",
    "            \"lv\": lv_code,\n",
    "            \"lv_with_pathway\": lv_code in well_aligned_lv_codes,\n",
    "            \"coef\": res.params.loc[\"lv\"],\n",
    "            \"pvalue\": res.pvalues_onesided.loc[\"lv\"],\n",
    "            \"pvalue_twosided\": res.pvalues.loc[\"lv\"],\n",
    "            \"summary\": gls_model.results_summary,\n",
    "        }\n",
    "    )\n",
    "\n",
    "    # save results every 10 models trained\n",
    "    if (idx % 10) == 0:\n",
    "        pd.DataFrame(results).to_pickle(OUTPUT_FILENAME)\n",
    "\n",
    "    pbar.update(1)\n",
    "\n",
    "pbar.close()"
   ]
  },
  {
   "cell_type": "code",
   "execution_count": 42,
   "id": "virtual-delay",
   "metadata": {
    "execution": {
     "iopub.execute_input": "2021-09-30T15:31:16.442611Z",
     "iopub.status.busy": "2021-09-30T15:31:16.442182Z",
     "iopub.status.idle": "2021-09-30T15:31:16.467928Z",
     "shell.execute_reply": "2021-09-30T15:31:16.468282Z"
    },
    "papermill": {
     "duration": 1.998033,
     "end_time": "2021-09-30T15:31:16.468415",
     "exception": false,
     "start_time": "2021-09-30T15:31:14.470382",
     "status": "completed"
    },
    "tags": []
   },
   "outputs": [],
   "source": [
    "results = pd.DataFrame(results)"
   ]
  },
  {
   "cell_type": "code",
   "execution_count": 43,
   "id": "thermal-while",
   "metadata": {
    "execution": {
     "iopub.execute_input": "2021-09-30T15:31:20.434953Z",
     "iopub.status.busy": "2021-09-30T15:31:20.434529Z",
     "iopub.status.idle": "2021-09-30T15:31:20.447406Z",
     "shell.execute_reply": "2021-09-30T15:31:20.446988Z"
    },
    "papermill": {
     "duration": 1.996105,
     "end_time": "2021-09-30T15:31:20.447500",
     "exception": false,
     "start_time": "2021-09-30T15:31:18.451395",
     "status": "completed"
    },
    "tags": []
   },
   "outputs": [
    {
     "data": {
      "text/plain": [
       "(6180, 7)"
      ]
     },
     "execution_count": 43,
     "metadata": {},
     "output_type": "execute_result"
    }
   ],
   "source": [
    "results.shape"
   ]
  },
  {
   "cell_type": "code",
   "execution_count": 44,
   "id": "wrapped-optics",
   "metadata": {
    "execution": {
     "iopub.execute_input": "2021-09-30T15:31:24.407720Z",
     "iopub.status.busy": "2021-09-30T15:31:24.407296Z",
     "iopub.status.idle": "2021-09-30T15:31:24.442318Z",
     "shell.execute_reply": "2021-09-30T15:31:24.442006Z"
    },
    "papermill": {
     "duration": 2.013303,
     "end_time": "2021-09-30T15:31:24.442409",
     "exception": false,
     "start_time": "2021-09-30T15:31:22.429106",
     "status": "completed"
    },
    "tags": []
   },
   "outputs": [
    {
     "data": {
      "text/html": [
       "<div>\n",
       "<style scoped>\n",
       "    .dataframe tbody tr th:only-of-type {\n",
       "        vertical-align: middle;\n",
       "    }\n",
       "\n",
       "    .dataframe tbody tr th {\n",
       "        vertical-align: top;\n",
       "    }\n",
       "\n",
       "    .dataframe thead th {\n",
       "        text-align: right;\n",
       "    }\n",
       "</style>\n",
       "<table border=\"1\" class=\"dataframe\">\n",
       "  <thead>\n",
       "    <tr style=\"text-align: right;\">\n",
       "      <th></th>\n",
       "      <th>phenotype</th>\n",
       "      <th>lv</th>\n",
       "      <th>lv_with_pathway</th>\n",
       "      <th>coef</th>\n",
       "      <th>pvalue</th>\n",
       "      <th>pvalue_twosided</th>\n",
       "      <th>summary</th>\n",
       "    </tr>\n",
       "  </thead>\n",
       "  <tbody>\n",
       "    <tr>\n",
       "      <th>0</th>\n",
       "      <td>008</td>\n",
       "      <td>LV948</td>\n",
       "      <td>False</td>\n",
       "      <td>-0.010377</td>\n",
       "      <td>0.791969</td>\n",
       "      <td>0.416062</td>\n",
       "      <td>GLS Regression Res...</td>\n",
       "    </tr>\n",
       "    <tr>\n",
       "      <th>1</th>\n",
       "      <td>008</td>\n",
       "      <td>LV96</td>\n",
       "      <td>True</td>\n",
       "      <td>-0.011360</td>\n",
       "      <td>0.813072</td>\n",
       "      <td>0.373857</td>\n",
       "      <td>GLS Regression Res...</td>\n",
       "    </tr>\n",
       "    <tr>\n",
       "      <th>2</th>\n",
       "      <td>008</td>\n",
       "      <td>LV335</td>\n",
       "      <td>True</td>\n",
       "      <td>0.004037</td>\n",
       "      <td>0.375220</td>\n",
       "      <td>0.750440</td>\n",
       "      <td>GLS Regression Res...</td>\n",
       "    </tr>\n",
       "    <tr>\n",
       "      <th>3</th>\n",
       "      <td>008</td>\n",
       "      <td>LV679</td>\n",
       "      <td>False</td>\n",
       "      <td>-0.016359</td>\n",
       "      <td>0.906661</td>\n",
       "      <td>0.186679</td>\n",
       "      <td>GLS Regression Res...</td>\n",
       "    </tr>\n",
       "    <tr>\n",
       "      <th>4</th>\n",
       "      <td>008</td>\n",
       "      <td>LV207</td>\n",
       "      <td>False</td>\n",
       "      <td>0.010934</td>\n",
       "      <td>0.195141</td>\n",
       "      <td>0.390282</td>\n",
       "      <td>GLS Regression Res...</td>\n",
       "    </tr>\n",
       "  </tbody>\n",
       "</table>\n",
       "</div>"
      ],
      "text/plain": [
       "  phenotype     lv  lv_with_pathway      coef    pvalue  pvalue_twosided  \\\n",
       "0       008  LV948            False -0.010377  0.791969         0.416062   \n",
       "1       008   LV96             True -0.011360  0.813072         0.373857   \n",
       "2       008  LV335             True  0.004037  0.375220         0.750440   \n",
       "3       008  LV679            False -0.016359  0.906661         0.186679   \n",
       "4       008  LV207            False  0.010934  0.195141         0.390282   \n",
       "\n",
       "                                             summary  \n",
       "0                              GLS Regression Res...  \n",
       "1                              GLS Regression Res...  \n",
       "2                              GLS Regression Res...  \n",
       "3                              GLS Regression Res...  \n",
       "4                              GLS Regression Res...  "
      ]
     },
     "execution_count": 44,
     "metadata": {},
     "output_type": "execute_result"
    }
   ],
   "source": [
    "results.head()"
   ]
  },
  {
   "cell_type": "code",
   "execution_count": 45,
   "id": "negative-stupid",
   "metadata": {
    "execution": {
     "iopub.execute_input": "2021-09-30T15:31:28.400556Z",
     "iopub.status.busy": "2021-09-30T15:31:28.400126Z",
     "iopub.status.idle": "2021-09-30T15:31:28.455332Z",
     "shell.execute_reply": "2021-09-30T15:31:28.454957Z"
    },
    "papermill": {
     "duration": 2.031453,
     "end_time": "2021-09-30T15:31:28.455418",
     "exception": false,
     "start_time": "2021-09-30T15:31:26.423965",
     "status": "completed"
    },
    "tags": []
   },
   "outputs": [
    {
     "data": {
      "text/html": [
       "<div>\n",
       "<style scoped>\n",
       "    .dataframe tbody tr th:only-of-type {\n",
       "        vertical-align: middle;\n",
       "    }\n",
       "\n",
       "    .dataframe tbody tr th {\n",
       "        vertical-align: top;\n",
       "    }\n",
       "\n",
       "    .dataframe thead th {\n",
       "        text-align: right;\n",
       "    }\n",
       "</style>\n",
       "<table border=\"1\" class=\"dataframe\">\n",
       "  <thead>\n",
       "    <tr style=\"text-align: right;\">\n",
       "      <th></th>\n",
       "      <th>phenotype</th>\n",
       "      <th>lv</th>\n",
       "      <th>lv_with_pathway</th>\n",
       "      <th>coef</th>\n",
       "      <th>pvalue</th>\n",
       "      <th>pvalue_twosided</th>\n",
       "      <th>summary</th>\n",
       "    </tr>\n",
       "  </thead>\n",
       "  <tbody>\n",
       "    <tr>\n",
       "      <th>4225</th>\n",
       "      <td>509</td>\n",
       "      <td>LV207</td>\n",
       "      <td>False</td>\n",
       "      <td>0.059579</td>\n",
       "      <td>0.000001</td>\n",
       "      <td>0.000003</td>\n",
       "      <td>GLS Regression Res...</td>\n",
       "    </tr>\n",
       "    <tr>\n",
       "      <th>3371</th>\n",
       "      <td>429</td>\n",
       "      <td>LV444</td>\n",
       "      <td>False</td>\n",
       "      <td>0.051574</td>\n",
       "      <td>0.000015</td>\n",
       "      <td>0.000029</td>\n",
       "      <td>GLS Regression Res...</td>\n",
       "    </tr>\n",
       "    <tr>\n",
       "      <th>5212</th>\n",
       "      <td>591</td>\n",
       "      <td>LV564</td>\n",
       "      <td>False</td>\n",
       "      <td>0.051078</td>\n",
       "      <td>0.000022</td>\n",
       "      <td>0.000043</td>\n",
       "      <td>GLS Regression Res...</td>\n",
       "    </tr>\n",
       "    <tr>\n",
       "      <th>4681</th>\n",
       "      <td>564</td>\n",
       "      <td>LV882</td>\n",
       "      <td>False</td>\n",
       "      <td>0.046387</td>\n",
       "      <td>0.000051</td>\n",
       "      <td>0.000102</td>\n",
       "      <td>GLS Regression Res...</td>\n",
       "    </tr>\n",
       "    <tr>\n",
       "      <th>4072</th>\n",
       "      <td>483</td>\n",
       "      <td>LV882</td>\n",
       "      <td>False</td>\n",
       "      <td>0.046222</td>\n",
       "      <td>0.000059</td>\n",
       "      <td>0.000117</td>\n",
       "      <td>GLS Regression Res...</td>\n",
       "    </tr>\n",
       "    <tr>\n",
       "      <th>3716</th>\n",
       "      <td>443.9</td>\n",
       "      <td>LV644</td>\n",
       "      <td>False</td>\n",
       "      <td>0.047482</td>\n",
       "      <td>0.000066</td>\n",
       "      <td>0.000133</td>\n",
       "      <td>GLS Regression Res...</td>\n",
       "    </tr>\n",
       "    <tr>\n",
       "      <th>4031</th>\n",
       "      <td>480</td>\n",
       "      <td>LV882</td>\n",
       "      <td>False</td>\n",
       "      <td>0.045475</td>\n",
       "      <td>0.000069</td>\n",
       "      <td>0.000138</td>\n",
       "      <td>GLS Regression Res...</td>\n",
       "    </tr>\n",
       "    <tr>\n",
       "      <th>3319</th>\n",
       "      <td>428.2</td>\n",
       "      <td>LV390</td>\n",
       "      <td>False</td>\n",
       "      <td>0.047641</td>\n",
       "      <td>0.000077</td>\n",
       "      <td>0.000155</td>\n",
       "      <td>GLS Regression Res...</td>\n",
       "    </tr>\n",
       "    <tr>\n",
       "      <th>589</th>\n",
       "      <td>244</td>\n",
       "      <td>LV948</td>\n",
       "      <td>False</td>\n",
       "      <td>0.047649</td>\n",
       "      <td>0.000113</td>\n",
       "      <td>0.000226</td>\n",
       "      <td>GLS Regression Res...</td>\n",
       "    </tr>\n",
       "    <tr>\n",
       "      <th>3076</th>\n",
       "      <td>427.11</td>\n",
       "      <td>LV948</td>\n",
       "      <td>False</td>\n",
       "      <td>0.046780</td>\n",
       "      <td>0.000113</td>\n",
       "      <td>0.000227</td>\n",
       "      <td>GLS Regression Res...</td>\n",
       "    </tr>\n",
       "  </tbody>\n",
       "</table>\n",
       "</div>"
      ],
      "text/plain": [
       "     phenotype     lv  lv_with_pathway      coef    pvalue  pvalue_twosided  \\\n",
       "4225       509  LV207            False  0.059579  0.000001         0.000003   \n",
       "3371       429  LV444            False  0.051574  0.000015         0.000029   \n",
       "5212       591  LV564            False  0.051078  0.000022         0.000043   \n",
       "4681       564  LV882            False  0.046387  0.000051         0.000102   \n",
       "4072       483  LV882            False  0.046222  0.000059         0.000117   \n",
       "3716     443.9  LV644            False  0.047482  0.000066         0.000133   \n",
       "4031       480  LV882            False  0.045475  0.000069         0.000138   \n",
       "3319     428.2  LV390            False  0.047641  0.000077         0.000155   \n",
       "589        244  LV948            False  0.047649  0.000113         0.000226   \n",
       "3076    427.11  LV948            False  0.046780  0.000113         0.000227   \n",
       "\n",
       "                                                summary  \n",
       "4225                              GLS Regression Res...  \n",
       "3371                              GLS Regression Res...  \n",
       "5212                              GLS Regression Res...  \n",
       "4681                              GLS Regression Res...  \n",
       "4072                              GLS Regression Res...  \n",
       "3716                              GLS Regression Res...  \n",
       "4031                              GLS Regression Res...  \n",
       "3319                              GLS Regression Res...  \n",
       "589                               GLS Regression Res...  \n",
       "3076                              GLS Regression Res...  "
      ]
     },
     "execution_count": 45,
     "metadata": {},
     "output_type": "execute_result"
    }
   ],
   "source": [
    "results.sort_values(\"pvalue\").head(10)"
   ]
  },
  {
   "cell_type": "markdown",
   "id": "periodic-schema",
   "metadata": {
    "papermill": {
     "duration": 1.996564,
     "end_time": "2021-09-30T15:31:32.434054",
     "exception": false,
     "start_time": "2021-09-30T15:31:30.437490",
     "status": "completed"
    },
    "tags": []
   },
   "source": [
    "## Save"
   ]
  },
  {
   "cell_type": "code",
   "execution_count": 46,
   "id": "noble-jerusalem",
   "metadata": {
    "execution": {
     "iopub.execute_input": "2021-09-30T15:31:36.418641Z",
     "iopub.status.busy": "2021-09-30T15:31:36.418199Z",
     "iopub.status.idle": "2021-09-30T15:31:38.262664Z",
     "shell.execute_reply": "2021-09-30T15:31:38.264157Z"
    },
    "papermill": {
     "duration": 3.826848,
     "end_time": "2021-09-30T15:31:38.264588",
     "exception": false,
     "start_time": "2021-09-30T15:31:34.437740",
     "status": "completed"
    },
    "tags": []
   },
   "outputs": [],
   "source": [
    "results.to_pickle(OUTPUT_FILENAME)"
   ]
  },
  {
   "cell_type": "code",
   "execution_count": null,
   "id": "center-baltimore",
   "metadata": {
    "papermill": {
     "duration": 2.216949,
     "end_time": "2021-09-30T15:31:42.507951",
     "exception": false,
     "start_time": "2021-09-30T15:31:40.291002",
     "status": "completed"
    },
    "tags": []
   },
   "outputs": [],
   "source": []
  }
 ],
 "metadata": {
  "jupytext": {
   "cell_metadata_filter": "all,-execution,-papermill,-trusted",
   "formats": "ipynb,py//py:percent"
  },
  "kernelspec": {
   "display_name": "Python 3",
   "language": "python",
   "name": "python3"
  },
  "language_info": {
   "codemirror_mode": {
    "name": "ipython",
    "version": 3
   },
   "file_extension": ".py",
   "mimetype": "text/x-python",
   "name": "python",
   "nbconvert_exporter": "python",
   "pygments_lexer": "ipython3",
   "version": "3.8.8"
  },
  "papermill": {
   "default_parameters": {},
   "duration": 153793.283765,
   "end_time": "2021-09-30T15:31:47.081824",
   "environment_variables": {},
   "exception": null,
   "input_path": "40_asthma/10_09-gls-emerge.ipynb",
   "output_path": "40_asthma/10_09-gls-emerge.run.ipynb",
   "parameters": {},
   "start_time": "2021-09-28T20:48:33.798059",
   "version": "2.2.2"
  }
 },
 "nbformat": 4,
 "nbformat_minor": 5
}
