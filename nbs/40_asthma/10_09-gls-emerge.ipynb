{
 "cells": [
  {
   "cell_type": "markdown",
   "id": "involved-karma",
   "metadata": {
    "papermill": {
     "duration": 0.02489,
     "end_time": "2021-07-20T02:19:57.504042",
     "exception": false,
     "start_time": "2021-07-20T02:19:57.479152",
     "status": "completed"
    },
    "tags": []
   },
   "source": [
    "# Description"
   ]
  },
  {
   "cell_type": "markdown",
   "id": "oriental-vampire",
   "metadata": {
    "papermill": {
     "duration": 0.021297,
     "end_time": "2021-07-20T02:19:57.546531",
     "exception": false,
     "start_time": "2021-07-20T02:19:57.525234",
     "status": "completed"
    },
    "tags": []
   },
   "source": [
    "**UPDATE**\n",
    "\n",
    "This notebook is similar to `30-gls_on_phenotypes-phenomexcan.ipynb` but for eMERGE S-MultiXcan results instead of PhenomeXcan.\n",
    "\n",
    "Since we don't have partition/clusters of eMERGE results, we selected the same set of LVs from the run on PhenomeXcan (`30-gls_on_phenotypes-phenomexcan.ipynb`); and regarding traits, we take the top 20 traits from each LVs to create a list of trait/LVs pairs to run GLSPhenoplier on."
   ]
  },
  {
   "cell_type": "markdown",
   "id": "practical-stranger",
   "metadata": {
    "papermill": {
     "duration": 0.021066,
     "end_time": "2021-07-20T02:19:57.588678",
     "exception": false,
     "start_time": "2021-07-20T02:19:57.567612",
     "status": "completed"
    },
    "tags": []
   },
   "source": [
    "# Environment variables"
   ]
  },
  {
   "cell_type": "code",
   "execution_count": null,
   "id": "isolated-correction",
   "metadata": {
    "papermill": {
     "duration": 0.033489,
     "end_time": "2021-07-20T02:19:57.642993",
     "exception": false,
     "start_time": "2021-07-20T02:19:57.609504",
     "status": "completed"
    },
    "tags": []
   },
   "outputs": [],
   "source": [
    "%load_ext autoreload\n",
    "%autoreload 2"
   ]
  },
  {
   "cell_type": "code",
   "execution_count": null,
   "id": "pursuant-final",
   "metadata": {
    "papermill": {
     "duration": 0.033744,
     "end_time": "2021-07-20T02:19:57.699072",
     "exception": false,
     "start_time": "2021-07-20T02:19:57.665328",
     "status": "completed"
    },
    "tags": []
   },
   "outputs": [],
   "source": [
    "import conf"
   ]
  },
  {
   "cell_type": "code",
   "execution_count": null,
   "id": "surface-intent",
   "metadata": {
    "papermill": {
     "duration": 0.0338,
     "end_time": "2021-07-20T02:19:57.754550",
     "exception": false,
     "start_time": "2021-07-20T02:19:57.720750",
     "status": "completed"
    },
    "tags": []
   },
   "outputs": [],
   "source": [
    "N_JOBS = conf.GENERAL[\"N_JOBS\"]\n",
    "display(N_JOBS)"
   ]
  },
  {
   "cell_type": "code",
   "execution_count": null,
   "id": "mature-frame",
   "metadata": {
    "papermill": {
     "duration": 0.031462,
     "end_time": "2021-07-20T02:19:57.807279",
     "exception": false,
     "start_time": "2021-07-20T02:19:57.775817",
     "status": "completed"
    },
    "tags": []
   },
   "outputs": [],
   "source": [
    "%env MKL_NUM_THREADS=$N_JOBS\n",
    "%env OPEN_BLAS_NUM_THREADS=$N_JOBS\n",
    "%env NUMEXPR_NUM_THREADS=$N_JOBS\n",
    "%env OMP_NUM_THREADS=$N_JOBS"
   ]
  },
  {
   "cell_type": "markdown",
   "id": "chronic-benefit",
   "metadata": {
    "papermill": {
     "duration": 0.021335,
     "end_time": "2021-07-20T02:19:57.850392",
     "exception": false,
     "start_time": "2021-07-20T02:19:57.829057",
     "status": "completed"
    },
    "tags": []
   },
   "source": [
    "# Modules"
   ]
  },
  {
   "cell_type": "code",
   "execution_count": null,
   "id": "through-pakistan",
   "metadata": {
    "papermill": {
     "duration": 0.784066,
     "end_time": "2021-07-20T02:19:58.655795",
     "exception": false,
     "start_time": "2021-07-20T02:19:57.871729",
     "status": "completed"
    },
    "tags": []
   },
   "outputs": [],
   "source": [
    "from pathlib import Path\n",
    "\n",
    "import statsmodels.api as sm\n",
    "import numpy as np\n",
    "import pandas as pd\n",
    "from sklearn.preprocessing import scale\n",
    "from tqdm import tqdm\n",
    "\n",
    "from gls import GLSPhenoplier"
   ]
  },
  {
   "cell_type": "markdown",
   "id": "concrete-broad",
   "metadata": {
    "papermill": {
     "duration": 0.022904,
     "end_time": "2021-07-20T02:19:58.702894",
     "exception": false,
     "start_time": "2021-07-20T02:19:58.679990",
     "status": "completed"
    },
    "tags": []
   },
   "source": [
    "# Settings"
   ]
  },
  {
   "cell_type": "code",
   "execution_count": null,
   "id": "dress-eugene",
   "metadata": {
    "papermill": {
     "duration": 0.035471,
     "end_time": "2021-07-20T02:19:58.816612",
     "exception": false,
     "start_time": "2021-07-20T02:19:58.781141",
     "status": "completed"
    },
    "tags": []
   },
   "outputs": [],
   "source": [
    "OUTPUT_DIR = conf.RESULTS[\"GLS\"]\n",
    "display(OUTPUT_DIR)\n",
    "\n",
    "OUTPUT_DIR.mkdir(exist_ok=True, parents=True)"
   ]
  },
  {
   "cell_type": "code",
   "execution_count": null,
   "id": "lonely-championship",
   "metadata": {
    "papermill": {
     "duration": 0.035804,
     "end_time": "2021-07-20T02:19:58.875662",
     "exception": false,
     "start_time": "2021-07-20T02:19:58.839858",
     "status": "completed"
    },
    "tags": []
   },
   "outputs": [],
   "source": [
    "OUTPUT_FILENAME = OUTPUT_DIR / \"gls_phenotypes-emerge-asthma.pkl\"\n",
    "display(OUTPUT_FILENAME)"
   ]
  },
  {
   "cell_type": "code",
   "execution_count": null,
   "id": "handmade-entertainment",
   "metadata": {},
   "outputs": [],
   "source": [
    "PHENOMEXCAN_INPUT_FILE = conf.RESULTS[\"GLS\"] / \"gls_phenotypes-phenomexcan-asthma.pkl\"\n",
    "display(PHENOMEXCAN_INPUT_FILE)"
   ]
  },
  {
   "cell_type": "markdown",
   "id": "arabic-bracket",
   "metadata": {
    "papermill": {
     "duration": 0.021672,
     "end_time": "2021-07-20T02:19:58.920413",
     "exception": false,
     "start_time": "2021-07-20T02:19:58.898741",
     "status": "completed"
    },
    "tags": []
   },
   "source": [
    "# Load data"
   ]
  },
  {
   "cell_type": "markdown",
   "id": "funky-intermediate",
   "metadata": {
    "papermill": {
     "duration": 0.022062,
     "end_time": "2021-07-20T02:19:58.964574",
     "exception": false,
     "start_time": "2021-07-20T02:19:58.942512",
     "status": "completed"
    },
    "tags": []
   },
   "source": [
    "## eMERGE traits info"
   ]
  },
  {
   "cell_type": "code",
   "execution_count": null,
   "id": "experimental-rating",
   "metadata": {
    "papermill": {
     "duration": 0.035964,
     "end_time": "2021-07-20T02:19:59.022763",
     "exception": false,
     "start_time": "2021-07-20T02:19:58.986799",
     "status": "completed"
    },
    "tags": []
   },
   "outputs": [],
   "source": [
    "# FIXME: in the future, there will be a specific entry in config for the eMERGE directory that should be replaced here\n",
    "input_filepath = Path(\n",
    "    conf.DATA_DIR,\n",
    "    \"emerge\",\n",
    "    \"eMERGE_III_PMBB_GSA_v2_2020_phecode_AFR_EUR_cc50_counts_w_dictionary.txt\",\n",
    ").resolve()\n",
    "display(input_filepath)"
   ]
  },
  {
   "cell_type": "code",
   "execution_count": null,
   "id": "precise-story",
   "metadata": {
    "papermill": {
     "duration": 0.037999,
     "end_time": "2021-07-20T02:19:59.083736",
     "exception": false,
     "start_time": "2021-07-20T02:19:59.045737",
     "status": "completed"
    },
    "tags": []
   },
   "outputs": [],
   "source": [
    "emerge_traits_df = pd.read_csv(\n",
    "    input_filepath,\n",
    "    sep=\"\\t\",\n",
    "    dtype={\"phecode\": str},\n",
    "    usecols=[\"phecode\", \"phenotype\", \"category\"],\n",
    ")"
   ]
  },
  {
   "cell_type": "code",
   "execution_count": null,
   "id": "solar-appreciation",
   "metadata": {
    "papermill": {
     "duration": 0.035748,
     "end_time": "2021-07-20T02:19:59.142742",
     "exception": false,
     "start_time": "2021-07-20T02:19:59.106994",
     "status": "completed"
    },
    "tags": []
   },
   "outputs": [],
   "source": [
    "emerge_traits_df = emerge_traits_df.rename(\n",
    "    columns={\n",
    "        \"phenotype\": \"phecode_phenotype\",\n",
    "        \"category\": \"phecode_category\",\n",
    "    }\n",
    ")"
   ]
  },
  {
   "cell_type": "code",
   "execution_count": null,
   "id": "mysterious-steal",
   "metadata": {
    "papermill": {
     "duration": 0.035956,
     "end_time": "2021-07-20T02:19:59.201350",
     "exception": false,
     "start_time": "2021-07-20T02:19:59.165394",
     "status": "completed"
    },
    "tags": []
   },
   "outputs": [],
   "source": [
    "emerge_traits_df.shape"
   ]
  },
  {
   "cell_type": "code",
   "execution_count": null,
   "id": "entertaining-juvenile",
   "metadata": {
    "papermill": {
     "duration": 0.039443,
     "end_time": "2021-07-20T02:19:59.264187",
     "exception": false,
     "start_time": "2021-07-20T02:19:59.224744",
     "status": "completed"
    },
    "tags": []
   },
   "outputs": [],
   "source": [
    "emerge_traits_df.head()"
   ]
  },
  {
   "cell_type": "markdown",
   "id": "cardiovascular-pierce",
   "metadata": {
    "papermill": {
     "duration": 0.023958,
     "end_time": "2021-07-20T02:19:59.688261",
     "exception": false,
     "start_time": "2021-07-20T02:19:59.664303",
     "status": "completed"
    },
    "tags": []
   },
   "source": [
    "## eMERGE (S-MultiXcan) projection"
   ]
  },
  {
   "cell_type": "code",
   "execution_count": null,
   "id": "liked-brighton",
   "metadata": {
    "papermill": {
     "duration": 0.037866,
     "end_time": "2021-07-20T02:19:59.750453",
     "exception": false,
     "start_time": "2021-07-20T02:19:59.712587",
     "status": "completed"
    },
    "tags": []
   },
   "outputs": [],
   "source": [
    "input_filepath = Path(\n",
    "    conf.RESULTS[\"PROJECTIONS_DIR\"],\n",
    "    \"projection-emerge-smultixcan-mashr-zscores.pkl\",\n",
    ").resolve()\n",
    "display(input_filepath)"
   ]
  },
  {
   "cell_type": "code",
   "execution_count": null,
   "id": "helpful-dressing",
   "metadata": {
    "papermill": {
     "duration": 0.039243,
     "end_time": "2021-07-20T02:19:59.815202",
     "exception": false,
     "start_time": "2021-07-20T02:19:59.775959",
     "status": "completed"
    },
    "tags": []
   },
   "outputs": [],
   "source": [
    "emerge_projection = pd.read_pickle(input_filepath)"
   ]
  },
  {
   "cell_type": "code",
   "execution_count": null,
   "id": "homeless-rough",
   "metadata": {
    "papermill": {
     "duration": 0.037819,
     "end_time": "2021-07-20T02:19:59.877849",
     "exception": false,
     "start_time": "2021-07-20T02:19:59.840030",
     "status": "completed"
    },
    "tags": []
   },
   "outputs": [],
   "source": [
    "emerge_projection.shape"
   ]
  },
  {
   "cell_type": "code",
   "execution_count": null,
   "id": "graphic-fetish",
   "metadata": {
    "papermill": {
     "duration": 0.050443,
     "end_time": "2021-07-20T02:19:59.953436",
     "exception": false,
     "start_time": "2021-07-20T02:19:59.902993",
     "status": "completed"
    },
    "tags": []
   },
   "outputs": [],
   "source": [
    "emerge_projection.head()"
   ]
  },
  {
   "cell_type": "markdown",
   "id": "molecular-expression",
   "metadata": {
    "papermill": {
     "duration": 0.025458,
     "end_time": "2021-07-20T02:20:00.006035",
     "exception": false,
     "start_time": "2021-07-20T02:19:59.980577",
     "status": "completed"
    },
    "tags": []
   },
   "source": [
    "## eMERGE (S-MultiXcan)"
   ]
  },
  {
   "cell_type": "code",
   "execution_count": null,
   "id": "photographic-accounting",
   "metadata": {
    "papermill": {
     "duration": 0.038926,
     "end_time": "2021-07-20T02:20:00.069849",
     "exception": false,
     "start_time": "2021-07-20T02:20:00.030923",
     "status": "completed"
    },
    "tags": []
   },
   "outputs": [],
   "source": [
    "# FIXME: in the future, there will be a specific entry in config for the eMERGE directory that should be replaced here\n",
    "emerge_smultixcan_zscores_filepath = Path(\n",
    "    conf.DATA_DIR,\n",
    "    \"emerge\",\n",
    "    \"gene_assoc\",\n",
    "    \"emerge-smultixcan-mashr-zscores.pkl\",\n",
    ").resolve()\n",
    "\n",
    "display(emerge_smultixcan_zscores_filepath)"
   ]
  },
  {
   "cell_type": "code",
   "execution_count": null,
   "id": "likely-oklahoma",
   "metadata": {
    "papermill": {
     "duration": 0.063909,
     "end_time": "2021-07-20T02:20:00.159981",
     "exception": false,
     "start_time": "2021-07-20T02:20:00.096072",
     "status": "completed"
    },
    "tags": []
   },
   "outputs": [],
   "source": [
    "_tmp = pd.read_pickle(emerge_smultixcan_zscores_filepath)"
   ]
  },
  {
   "cell_type": "code",
   "execution_count": null,
   "id": "secret-pound",
   "metadata": {
    "papermill": {
     "duration": 0.039779,
     "end_time": "2021-07-20T02:20:00.231850",
     "exception": false,
     "start_time": "2021-07-20T02:20:00.192071",
     "status": "completed"
    },
    "tags": []
   },
   "outputs": [],
   "source": [
    "_tmp.shape"
   ]
  },
  {
   "cell_type": "code",
   "execution_count": null,
   "id": "isolated-passport",
   "metadata": {
    "papermill": {
     "duration": 0.050809,
     "end_time": "2021-07-20T02:20:00.308853",
     "exception": false,
     "start_time": "2021-07-20T02:20:00.258044",
     "status": "completed"
    },
    "tags": []
   },
   "outputs": [],
   "source": [
    "_tmp.head()"
   ]
  },
  {
   "cell_type": "markdown",
   "id": "cathedral-language",
   "metadata": {
    "papermill": {
     "duration": 0.026489,
     "end_time": "2021-07-20T02:20:00.361735",
     "exception": false,
     "start_time": "2021-07-20T02:20:00.335246",
     "status": "completed"
    },
    "tags": []
   },
   "source": [
    "## GLS results on PhenomeXcan"
   ]
  },
  {
   "cell_type": "markdown",
   "id": "metropolitan-georgia",
   "metadata": {
    "papermill": {
     "duration": 0.025761,
     "end_time": "2021-07-20T02:20:00.413550",
     "exception": false,
     "start_time": "2021-07-20T02:20:00.387789",
     "status": "completed"
    },
    "tags": []
   },
   "source": [
    "Read results obtained with `30-gls_on_phenotypes.ipynb` (PhenomeXcan)"
   ]
  },
  {
   "cell_type": "code",
   "execution_count": null,
   "id": "marked-plymouth",
   "metadata": {
    "papermill": {
     "duration": 1.359218,
     "end_time": "2021-07-20T02:20:01.872143",
     "exception": false,
     "start_time": "2021-07-20T02:20:00.512925",
     "status": "completed"
    },
    "tags": []
   },
   "outputs": [],
   "source": [
    "gls_phenomexcan = pd.read_pickle(PHENOMEXCAN_INPUT_FILE)"
   ]
  },
  {
   "cell_type": "code",
   "execution_count": null,
   "id": "frequent-found",
   "metadata": {
    "papermill": {
     "duration": 0.043584,
     "end_time": "2021-07-20T02:20:01.950616",
     "exception": false,
     "start_time": "2021-07-20T02:20:01.907032",
     "status": "completed"
    },
    "tags": []
   },
   "outputs": [],
   "source": [
    "gls_phenomexcan.shape"
   ]
  },
  {
   "cell_type": "code",
   "execution_count": null,
   "id": "personal-exercise",
   "metadata": {
    "papermill": {
     "duration": 0.056829,
     "end_time": "2021-07-20T02:20:02.035376",
     "exception": false,
     "start_time": "2021-07-20T02:20:01.978547",
     "status": "completed"
    },
    "tags": []
   },
   "outputs": [],
   "source": [
    "gls_phenomexcan.head()"
   ]
  },
  {
   "cell_type": "markdown",
   "id": "prime-guarantee",
   "metadata": {
    "papermill": {
     "duration": 0.027368,
     "end_time": "2021-07-20T02:20:02.091084",
     "exception": false,
     "start_time": "2021-07-20T02:20:02.063716",
     "status": "completed"
    },
    "tags": []
   },
   "source": [
    "## MultiPLIER summary"
   ]
  },
  {
   "cell_type": "code",
   "execution_count": null,
   "id": "frozen-powder",
   "metadata": {
    "papermill": {
     "duration": 0.062494,
     "end_time": "2021-07-20T02:20:02.180165",
     "exception": false,
     "start_time": "2021-07-20T02:20:02.117671",
     "status": "completed"
    },
    "tags": []
   },
   "outputs": [],
   "source": [
    "multiplier_model_summary = pd.read_pickle(conf.MULTIPLIER[\"MODEL_SUMMARY_FILE\"])"
   ]
  },
  {
   "cell_type": "code",
   "execution_count": null,
   "id": "swedish-daughter",
   "metadata": {
    "papermill": {
     "duration": 0.040798,
     "end_time": "2021-07-20T02:20:02.255974",
     "exception": false,
     "start_time": "2021-07-20T02:20:02.215176",
     "status": "completed"
    },
    "tags": []
   },
   "outputs": [],
   "source": [
    "multiplier_model_summary.shape"
   ]
  },
  {
   "cell_type": "code",
   "execution_count": null,
   "id": "extended-armenia",
   "metadata": {
    "papermill": {
     "duration": 0.044945,
     "end_time": "2021-07-20T02:20:02.328749",
     "exception": false,
     "start_time": "2021-07-20T02:20:02.283804",
     "status": "completed"
    },
    "tags": []
   },
   "outputs": [],
   "source": [
    "multiplier_model_summary.head()"
   ]
  },
  {
   "cell_type": "code",
   "execution_count": null,
   "id": "empirical-arcade",
   "metadata": {
    "papermill": {
     "duration": 0.048244,
     "end_time": "2021-07-20T02:20:02.405355",
     "exception": false,
     "start_time": "2021-07-20T02:20:02.357111",
     "status": "completed"
    },
    "tags": []
   },
   "outputs": [],
   "source": [
    "well_aligned_lvs = multiplier_model_summary[\n",
    "    (multiplier_model_summary[\"FDR\"] < 0.05) | (multiplier_model_summary[\"AUC\"] >= 0.75)\n",
    "]\n",
    "\n",
    "display(well_aligned_lvs.shape)\n",
    "display(well_aligned_lvs.head())"
   ]
  },
  {
   "cell_type": "code",
   "execution_count": null,
   "id": "exempt-savannah",
   "metadata": {
    "papermill": {
     "duration": 0.046612,
     "end_time": "2021-07-20T02:20:02.481184",
     "exception": false,
     "start_time": "2021-07-20T02:20:02.434572",
     "status": "completed"
    },
    "tags": []
   },
   "outputs": [],
   "source": [
    "well_aligned_lv_codes = set([f\"LV{lvi}\" for lvi in well_aligned_lvs[\"LV index\"]])"
   ]
  },
  {
   "cell_type": "code",
   "execution_count": null,
   "id": "common-dividend",
   "metadata": {
    "papermill": {
     "duration": 0.041711,
     "end_time": "2021-07-20T02:20:02.554614",
     "exception": false,
     "start_time": "2021-07-20T02:20:02.512903",
     "status": "completed"
    },
    "tags": []
   },
   "outputs": [],
   "source": [
    "len(well_aligned_lv_codes)"
   ]
  },
  {
   "cell_type": "code",
   "execution_count": null,
   "id": "forty-speech",
   "metadata": {
    "papermill": {
     "duration": 0.042456,
     "end_time": "2021-07-20T02:20:02.628284",
     "exception": false,
     "start_time": "2021-07-20T02:20:02.585828",
     "status": "completed"
    },
    "tags": []
   },
   "outputs": [],
   "source": [
    "list(well_aligned_lv_codes)[:5]"
   ]
  },
  {
   "cell_type": "markdown",
   "id": "first-omega",
   "metadata": {
    "papermill": {
     "duration": 0.028975,
     "end_time": "2021-07-20T02:20:02.686258",
     "exception": false,
     "start_time": "2021-07-20T02:20:02.657283",
     "status": "completed"
    },
    "tags": []
   },
   "source": [
    "# Select LVs"
   ]
  },
  {
   "cell_type": "code",
   "execution_count": null,
   "id": "completed-aging",
   "metadata": {},
   "outputs": [],
   "source": [
    "gls_phenomexcan.sort_values(\"pvalue\").head(10)"
   ]
  },
  {
   "cell_type": "code",
   "execution_count": null,
   "id": "atmospheric-dryer",
   "metadata": {},
   "outputs": [],
   "source": [
    "gls_phenomexcan_lvs = gls_phenomexcan[gls_phenomexcan[\"pvalue\"] < 0.05].sort_values(\"pvalue\")[\"lv\"].drop_duplicates(keep=\"first\").to_numpy()\n",
    "display(gls_phenomexcan_lvs)"
   ]
  },
  {
   "cell_type": "code",
   "execution_count": null,
   "id": "material-prisoner",
   "metadata": {
    "papermill": {
     "duration": 0.042382,
     "end_time": "2021-07-20T02:20:02.829120",
     "exception": false,
     "start_time": "2021-07-20T02:20:02.786738",
     "status": "completed"
    },
    "tags": []
   },
   "outputs": [],
   "source": [
    "len(gls_phenomexcan_lvs)"
   ]
  },
  {
   "cell_type": "code",
   "execution_count": null,
   "id": "finnish-budapest",
   "metadata": {
    "papermill": {
     "duration": 0.04209,
     "end_time": "2021-07-20T02:20:02.900345",
     "exception": false,
     "start_time": "2021-07-20T02:20:02.858255",
     "status": "completed"
    },
    "tags": []
   },
   "outputs": [],
   "source": [
    "assert len(gls_phenomexcan_lvs) == len(set(gls_phenomexcan_lvs)), \"Repeated LVs in list\""
   ]
  },
  {
   "cell_type": "markdown",
   "id": "described-official",
   "metadata": {
    "papermill": {
     "duration": 0.029173,
     "end_time": "2021-07-20T02:20:02.959331",
     "exception": false,
     "start_time": "2021-07-20T02:20:02.930158",
     "status": "completed"
    },
    "tags": []
   },
   "source": [
    "# GLSPhenoplier"
   ]
  },
  {
   "cell_type": "markdown",
   "id": "sticky-concentrate",
   "metadata": {
    "papermill": {
     "duration": 0.028494,
     "end_time": "2021-07-20T02:20:03.017146",
     "exception": false,
     "start_time": "2021-07-20T02:20:02.988652",
     "status": "completed"
    },
    "tags": []
   },
   "source": [
    "## Get list of phenotypes/lvs pairs"
   ]
  },
  {
   "cell_type": "code",
   "execution_count": null,
   "id": "laden-screen",
   "metadata": {
    "papermill": {
     "duration": 0.04368,
     "end_time": "2021-07-20T02:20:03.089639",
     "exception": false,
     "start_time": "2021-07-20T02:20:03.045959",
     "status": "completed"
    },
    "tags": []
   },
   "outputs": [],
   "source": [
    "traits = emerge_traits_df[\"phecode\"].unique()\n",
    "display(traits.shape)"
   ]
  },
  {
   "cell_type": "code",
   "execution_count": null,
   "id": "traditional-sullivan",
   "metadata": {
    "papermill": {
     "duration": 0.051295,
     "end_time": "2021-07-20T02:20:03.170589",
     "exception": false,
     "start_time": "2021-07-20T02:20:03.119294",
     "status": "completed"
    },
    "tags": []
   },
   "outputs": [],
   "source": [
    "phenotypes_lvs_pairs = []\n",
    "\n",
    "# for each LV that was run on PhenomeXcan, I take the top `N_TOP_TRAITS_FROM_LV` traits\n",
    "# in eMERGE\n",
    "# ~~~+ global mapped phenotypes (variable `gls_emerge_phecodes`)~~~\n",
    "for lv in gls_phenomexcan_lvs:\n",
    "\n",
    "    for phenotype_code in traits:  # + gls_emerge_phecodes):\n",
    "        phenotypes_lvs_pairs.append(\n",
    "            {\n",
    "                \"phenotype\": phenotype_code,\n",
    "                \"lv\": lv,\n",
    "            }\n",
    "        )\n",
    "\n",
    "phenotypes_lvs_pairs = pd.DataFrame(phenotypes_lvs_pairs).drop_duplicates()"
   ]
  },
  {
   "cell_type": "code",
   "execution_count": null,
   "id": "positive-auckland",
   "metadata": {
    "papermill": {
     "duration": 0.046173,
     "end_time": "2021-07-20T02:20:03.246780",
     "exception": false,
     "start_time": "2021-07-20T02:20:03.200607",
     "status": "completed"
    },
    "tags": []
   },
   "outputs": [],
   "source": [
    "phenotypes_lvs_pairs = phenotypes_lvs_pairs.sort_values(\"phenotype\").reset_index(\n",
    "    drop=True\n",
    ")"
   ]
  },
  {
   "cell_type": "code",
   "execution_count": null,
   "id": "adequate-seating",
   "metadata": {
    "papermill": {
     "duration": 0.043909,
     "end_time": "2021-07-20T02:20:03.320280",
     "exception": false,
     "start_time": "2021-07-20T02:20:03.276371",
     "status": "completed"
    },
    "tags": []
   },
   "outputs": [],
   "source": [
    "phenotypes_lvs_pairs.shape"
   ]
  },
  {
   "cell_type": "code",
   "execution_count": null,
   "id": "satisfied-satin",
   "metadata": {
    "papermill": {
     "duration": 0.046358,
     "end_time": "2021-07-20T02:20:03.396401",
     "exception": false,
     "start_time": "2021-07-20T02:20:03.350043",
     "status": "completed"
    },
    "tags": []
   },
   "outputs": [],
   "source": [
    "phenotypes_lvs_pairs.head()"
   ]
  },
  {
   "cell_type": "markdown",
   "id": "respected-possible",
   "metadata": {
    "papermill": {
     "duration": 0.033374,
     "end_time": "2021-07-20T02:20:03.460097",
     "exception": false,
     "start_time": "2021-07-20T02:20:03.426723",
     "status": "completed"
    },
    "tags": []
   },
   "source": [
    "## Run"
   ]
  },
  {
   "cell_type": "code",
   "execution_count": null,
   "id": "olive-difficulty",
   "metadata": {
    "papermill": {
     "duration": 72507.81381,
     "end_time": "2021-07-20T22:28:31.306895",
     "exception": false,
     "start_time": "2021-07-20T02:20:03.493085",
     "status": "completed"
    },
    "tags": []
   },
   "outputs": [],
   "source": [
    "results = []\n",
    "\n",
    "pbar = tqdm(total=phenotypes_lvs_pairs.shape[0], ncols=100)\n",
    "\n",
    "for idx, row in phenotypes_lvs_pairs.iterrows():\n",
    "    phenotype_code = row[\"phenotype\"]\n",
    "    lv_code = row[\"lv\"]\n",
    "\n",
    "    pbar.set_description(f\"{phenotype_code} - {lv_code}\")\n",
    "\n",
    "    gls_model = GLSPhenoplier(\n",
    "        smultixcan_result_set_filepath=emerge_smultixcan_zscores_filepath\n",
    "    )\n",
    "    gls_model.fit_named(lv_code, phenotype_code)\n",
    "    res = gls_model.results\n",
    "\n",
    "    results.append(\n",
    "        {\n",
    "            \"phenotype\": phenotype_code,\n",
    "            \"lv\": lv_code,\n",
    "            \"lv_with_pathway\": lv_code in well_aligned_lv_codes,\n",
    "            \"coef\": res.params.loc[\"lv\"],\n",
    "            \"pvalue\": res.pvalues_onesided.loc[\"lv\"],\n",
    "            \"pvalue_twosided\": res.pvalues.loc[\"lv\"],\n",
    "            \"summary\": gls_model.results_summary,\n",
    "        }\n",
    "    )\n",
    "\n",
    "    # save results every 10 models trained\n",
    "    if (idx % 10) == 0:\n",
    "        pd.DataFrame(results).to_pickle(OUTPUT_FILENAME)\n",
    "\n",
    "    pbar.update(1)\n",
    "\n",
    "pbar.close()"
   ]
  },
  {
   "cell_type": "code",
   "execution_count": null,
   "id": "virtual-delay",
   "metadata": {
    "papermill": {
     "duration": 2.499481,
     "end_time": "2021-07-20T22:28:36.254589",
     "exception": false,
     "start_time": "2021-07-20T22:28:33.755108",
     "status": "completed"
    },
    "tags": []
   },
   "outputs": [],
   "source": [
    "results = pd.DataFrame(results)"
   ]
  },
  {
   "cell_type": "code",
   "execution_count": null,
   "id": "thermal-while",
   "metadata": {
    "papermill": {
     "duration": 2.518944,
     "end_time": "2021-07-20T22:28:41.254796",
     "exception": false,
     "start_time": "2021-07-20T22:28:38.735852",
     "status": "completed"
    },
    "tags": []
   },
   "outputs": [],
   "source": [
    "results.shape"
   ]
  },
  {
   "cell_type": "code",
   "execution_count": null,
   "id": "wrapped-optics",
   "metadata": {
    "papermill": {
     "duration": 2.515501,
     "end_time": "2021-07-20T22:28:46.364148",
     "exception": false,
     "start_time": "2021-07-20T22:28:43.848647",
     "status": "completed"
    },
    "tags": []
   },
   "outputs": [],
   "source": [
    "results.head()"
   ]
  },
  {
   "cell_type": "code",
   "execution_count": null,
   "id": "negative-stupid",
   "metadata": {
    "papermill": {
     "duration": 2.5295,
     "end_time": "2021-07-20T22:28:51.345531",
     "exception": false,
     "start_time": "2021-07-20T22:28:48.816031",
     "status": "completed"
    },
    "tags": []
   },
   "outputs": [],
   "source": [
    "results.sort_values(\"pvalue\").head(10)"
   ]
  },
  {
   "cell_type": "markdown",
   "id": "periodic-schema",
   "metadata": {
    "papermill": {
     "duration": 2.500415,
     "end_time": "2021-07-20T22:28:56.318564",
     "exception": false,
     "start_time": "2021-07-20T22:28:53.818149",
     "status": "completed"
    },
    "tags": []
   },
   "source": [
    "## Save"
   ]
  },
  {
   "cell_type": "code",
   "execution_count": null,
   "id": "noble-jerusalem",
   "metadata": {
    "papermill": {
     "duration": 4.758955,
     "end_time": "2021-07-20T22:29:03.674216",
     "exception": false,
     "start_time": "2021-07-20T22:28:58.915261",
     "status": "completed"
    },
    "tags": []
   },
   "outputs": [],
   "source": [
    "results.to_pickle(OUTPUT_FILENAME)"
   ]
  },
  {
   "cell_type": "code",
   "execution_count": null,
   "id": "center-baltimore",
   "metadata": {
    "papermill": {
     "duration": 2.455411,
     "end_time": "2021-07-20T22:29:08.671455",
     "exception": false,
     "start_time": "2021-07-20T22:29:06.216044",
     "status": "completed"
    },
    "tags": []
   },
   "outputs": [],
   "source": []
  }
 ],
 "metadata": {
  "jupytext": {
   "cell_metadata_filter": "all,-execution,-papermill,-trusted",
   "formats": "ipynb,py//py:percent"
  },
  "kernelspec": {
   "display_name": "Python 3",
   "language": "python",
   "name": "python3"
  },
  "language_info": {
   "codemirror_mode": {
    "name": "ipython",
    "version": 3
   },
   "file_extension": ".py",
   "mimetype": "text/x-python",
   "name": "python",
   "nbconvert_exporter": "python",
   "pygments_lexer": "ipython3",
   "version": "3.8.8"
  },
  "papermill": {
   "default_parameters": {},
   "duration": 72558.648085,
   "end_time": "2021-07-20T22:29:15.144538",
   "environment_variables": {},
   "exception": null,
   "input_path": "08_gsa_gls/45-gls_on_phenotypes-emerge.ipynb",
   "output_path": "08_gsa_gls/45-gls_on_phenotypes-emerge.run.ipynb",
   "parameters": {},
   "start_time": "2021-07-20T02:19:56.496453",
   "version": "2.2.2"
  }
 },
 "nbformat": 4,
 "nbformat_minor": 5
}
