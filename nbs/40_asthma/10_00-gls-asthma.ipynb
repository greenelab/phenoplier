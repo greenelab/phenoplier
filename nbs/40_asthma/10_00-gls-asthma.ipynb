{
 "cells": [
  {
   "cell_type": "markdown",
   "id": "stuck-celtic",
   "metadata": {
    "papermill": {
     "duration": 0.019592,
     "end_time": "2021-08-23T14:51:41.665358",
     "exception": false,
     "start_time": "2021-08-23T14:51:41.645766",
     "status": "completed"
    },
    "tags": []
   },
   "source": [
    "# Description"
   ]
  },
  {
   "cell_type": "markdown",
   "id": "announced-heather",
   "metadata": {
    "papermill": {
     "duration": 0.018679,
     "end_time": "2021-08-23T14:51:41.703109",
     "exception": false,
     "start_time": "2021-08-23T14:51:41.684430",
     "status": "completed"
    },
    "tags": []
   },
   "source": [
    "It runs GLSPhenoplier to compute an association between each selected LV and PhenomeXcan trait. Traits of interest are selected from the \"complex branch\" (clustering results), and LVs are those predicted (by a decision tree classifier) to be discriminative for those clusters in the \"complex branch\"."
   ]
  },
  {
   "cell_type": "markdown",
   "id": "heated-scanner",
   "metadata": {
    "papermill": {
     "duration": 0.018749,
     "end_time": "2021-08-23T14:51:41.740686",
     "exception": false,
     "start_time": "2021-08-23T14:51:41.721937",
     "status": "completed"
    },
    "tags": []
   },
   "source": [
    "# Environment variables"
   ]
  },
  {
   "cell_type": "code",
   "execution_count": 1,
   "id": "involved-aspect",
   "metadata": {
    "execution": {
     "iopub.execute_input": "2021-08-23T14:51:41.784847Z",
     "iopub.status.busy": "2021-08-23T14:51:41.784420Z",
     "iopub.status.idle": "2021-08-23T14:51:41.792246Z",
     "shell.execute_reply": "2021-08-23T14:51:41.791806Z"
    },
    "papermill": {
     "duration": 0.032373,
     "end_time": "2021-08-23T14:51:41.792341",
     "exception": false,
     "start_time": "2021-08-23T14:51:41.759968",
     "status": "completed"
    },
    "tags": []
   },
   "outputs": [],
   "source": [
    "%load_ext autoreload\n",
    "%autoreload 2"
   ]
  },
  {
   "cell_type": "code",
   "execution_count": 2,
   "id": "primary-listing",
   "metadata": {
    "execution": {
     "iopub.execute_input": "2021-08-23T14:51:41.833926Z",
     "iopub.status.busy": "2021-08-23T14:51:41.833550Z",
     "iopub.status.idle": "2021-08-23T14:51:41.844406Z",
     "shell.execute_reply": "2021-08-23T14:51:41.844009Z"
    },
    "papermill": {
     "duration": 0.032374,
     "end_time": "2021-08-23T14:51:41.844493",
     "exception": false,
     "start_time": "2021-08-23T14:51:41.812119",
     "status": "completed"
    },
    "tags": []
   },
   "outputs": [],
   "source": [
    "import conf"
   ]
  },
  {
   "cell_type": "code",
   "execution_count": 3,
   "id": "brilliant-battery",
   "metadata": {
    "execution": {
     "iopub.execute_input": "2021-08-23T14:51:41.886186Z",
     "iopub.status.busy": "2021-08-23T14:51:41.885768Z",
     "iopub.status.idle": "2021-08-23T14:51:41.896309Z",
     "shell.execute_reply": "2021-08-23T14:51:41.895925Z"
    },
    "papermill": {
     "duration": 0.032678,
     "end_time": "2021-08-23T14:51:41.896401",
     "exception": false,
     "start_time": "2021-08-23T14:51:41.863723",
     "status": "completed"
    },
    "tags": []
   },
   "outputs": [
    {
     "data": {
      "text/plain": [
       "3"
      ]
     },
     "metadata": {},
     "output_type": "display_data"
    }
   ],
   "source": [
    "N_JOBS = conf.GENERAL[\"N_JOBS\"]\n",
    "display(N_JOBS)"
   ]
  },
  {
   "cell_type": "code",
   "execution_count": 4,
   "id": "atlantic-differential",
   "metadata": {
    "execution": {
     "iopub.execute_input": "2021-08-23T14:51:41.939527Z",
     "iopub.status.busy": "2021-08-23T14:51:41.939081Z",
     "iopub.status.idle": "2021-08-23T14:51:41.946523Z",
     "shell.execute_reply": "2021-08-23T14:51:41.946143Z"
    },
    "papermill": {
     "duration": 0.030397,
     "end_time": "2021-08-23T14:51:41.946620",
     "exception": false,
     "start_time": "2021-08-23T14:51:41.916223",
     "status": "completed"
    },
    "tags": []
   },
   "outputs": [
    {
     "name": "stdout",
     "output_type": "stream",
     "text": [
      "env: MKL_NUM_THREADS=3\n",
      "env: OPEN_BLAS_NUM_THREADS=3\n",
      "env: NUMEXPR_NUM_THREADS=3\n",
      "env: OMP_NUM_THREADS=3\n"
     ]
    }
   ],
   "source": [
    "%env MKL_NUM_THREADS=$N_JOBS\n",
    "%env OPEN_BLAS_NUM_THREADS=$N_JOBS\n",
    "%env NUMEXPR_NUM_THREADS=$N_JOBS\n",
    "%env OMP_NUM_THREADS=$N_JOBS"
   ]
  },
  {
   "cell_type": "markdown",
   "id": "ranging-stock",
   "metadata": {
    "papermill": {
     "duration": 0.019863,
     "end_time": "2021-08-23T14:51:41.986141",
     "exception": false,
     "start_time": "2021-08-23T14:51:41.966278",
     "status": "completed"
    },
    "tags": []
   },
   "source": [
    "# Modules"
   ]
  },
  {
   "cell_type": "code",
   "execution_count": 5,
   "id": "acoustic-working",
   "metadata": {
    "execution": {
     "iopub.execute_input": "2021-08-23T14:51:42.027660Z",
     "iopub.status.busy": "2021-08-23T14:51:42.027286Z",
     "iopub.status.idle": "2021-08-23T14:51:42.807023Z",
     "shell.execute_reply": "2021-08-23T14:51:42.806571Z"
    },
    "papermill": {
     "duration": 0.801709,
     "end_time": "2021-08-23T14:51:42.807124",
     "exception": false,
     "start_time": "2021-08-23T14:51:42.005415",
     "status": "completed"
    },
    "tags": []
   },
   "outputs": [],
   "source": [
    "from pathlib import Path\n",
    "\n",
    "import statsmodels.api as sm\n",
    "import numpy as np\n",
    "import pandas as pd\n",
    "from sklearn.preprocessing import scale\n",
    "from tqdm import tqdm\n",
    "\n",
    "from gls import GLSPhenoplier"
   ]
  },
  {
   "cell_type": "markdown",
   "id": "welcome-compact",
   "metadata": {
    "papermill": {
     "duration": 0.018881,
     "end_time": "2021-08-23T14:51:42.847317",
     "exception": false,
     "start_time": "2021-08-23T14:51:42.828436",
     "status": "completed"
    },
    "tags": []
   },
   "source": [
    "# Settings"
   ]
  },
  {
   "cell_type": "code",
   "execution_count": 6,
   "id": "forty-conclusion",
   "metadata": {
    "execution": {
     "iopub.execute_input": "2021-08-23T14:51:42.888716Z",
     "iopub.status.busy": "2021-08-23T14:51:42.888339Z",
     "iopub.status.idle": "2021-08-23T14:51:42.900172Z",
     "shell.execute_reply": "2021-08-23T14:51:42.900489Z"
    },
    "papermill": {
     "duration": 0.034351,
     "end_time": "2021-08-23T14:51:42.900644",
     "exception": false,
     "start_time": "2021-08-23T14:51:42.866293",
     "status": "completed"
    },
    "tags": []
   },
   "outputs": [
    {
     "data": {
      "text/plain": [
       "PosixPath('/home/miltondp/projects/labs/greenelab/phenoplier-asthma/base/results/gls')"
      ]
     },
     "metadata": {},
     "output_type": "display_data"
    }
   ],
   "source": [
    "OUTPUT_DIR = conf.RESULTS[\"GLS\"]\n",
    "display(OUTPUT_DIR)\n",
    "\n",
    "OUTPUT_DIR.mkdir(exist_ok=True, parents=True)"
   ]
  },
  {
   "cell_type": "code",
   "execution_count": 7,
   "id": "surface-movement",
   "metadata": {
    "execution": {
     "iopub.execute_input": "2021-08-23T14:51:42.944115Z",
     "iopub.status.busy": "2021-08-23T14:51:42.943649Z",
     "iopub.status.idle": "2021-08-23T14:51:42.955443Z",
     "shell.execute_reply": "2021-08-23T14:51:42.955099Z"
    },
    "papermill": {
     "duration": 0.034561,
     "end_time": "2021-08-23T14:51:42.955552",
     "exception": false,
     "start_time": "2021-08-23T14:51:42.920991",
     "status": "completed"
    },
    "tags": []
   },
   "outputs": [
    {
     "data": {
      "text/plain": [
       "PosixPath('/home/miltondp/projects/labs/greenelab/phenoplier-asthma/base/results/gls/gls_phenotypes-phenomexcan-asthma.pkl')"
      ]
     },
     "metadata": {},
     "output_type": "display_data"
    }
   ],
   "source": [
    "OUTPUT_FILENAME = OUTPUT_DIR / \"gls_phenotypes-phenomexcan-asthma.pkl\"\n",
    "display(OUTPUT_FILENAME)"
   ]
  },
  {
   "cell_type": "markdown",
   "id": "liberal-savings",
   "metadata": {
    "papermill": {
     "duration": 0.019857,
     "end_time": "2021-08-23T14:51:42.996497",
     "exception": false,
     "start_time": "2021-08-23T14:51:42.976640",
     "status": "completed"
    },
    "tags": []
   },
   "source": [
    "# Load data"
   ]
  },
  {
   "cell_type": "markdown",
   "id": "supposed-presence",
   "metadata": {
    "papermill": {
     "duration": 0.019476,
     "end_time": "2021-08-23T14:51:43.035709",
     "exception": false,
     "start_time": "2021-08-23T14:51:43.016233",
     "status": "completed"
    },
    "tags": []
   },
   "source": [
    "## PhenomeXcan (S-MultiXcan)"
   ]
  },
  {
   "cell_type": "code",
   "execution_count": 8,
   "id": "aggressive-secretary",
   "metadata": {
    "execution": {
     "iopub.execute_input": "2021-08-23T14:51:43.076800Z",
     "iopub.status.busy": "2021-08-23T14:51:43.076431Z",
     "iopub.status.idle": "2021-08-23T14:51:43.086527Z",
     "shell.execute_reply": "2021-08-23T14:51:43.086825Z"
    },
    "papermill": {
     "duration": 0.031736,
     "end_time": "2021-08-23T14:51:43.086933",
     "exception": false,
     "start_time": "2021-08-23T14:51:43.055197",
     "status": "completed"
    },
    "tags": []
   },
   "outputs": [],
   "source": [
    "INPUT_SUBSET = \"z_score_std\""
   ]
  },
  {
   "cell_type": "code",
   "execution_count": 9,
   "id": "referenced-connecticut",
   "metadata": {
    "execution": {
     "iopub.execute_input": "2021-08-23T14:51:43.128954Z",
     "iopub.status.busy": "2021-08-23T14:51:43.128571Z",
     "iopub.status.idle": "2021-08-23T14:51:43.139045Z",
     "shell.execute_reply": "2021-08-23T14:51:43.139361Z"
    },
    "papermill": {
     "duration": 0.032539,
     "end_time": "2021-08-23T14:51:43.139475",
     "exception": false,
     "start_time": "2021-08-23T14:51:43.106936",
     "status": "completed"
    },
    "tags": []
   },
   "outputs": [],
   "source": [
    "INPUT_STEM = \"projection-smultixcan-efo_partial-mashr-zscores\""
   ]
  },
  {
   "cell_type": "code",
   "execution_count": 10,
   "id": "imposed-hazard",
   "metadata": {
    "execution": {
     "iopub.execute_input": "2021-08-23T14:51:43.183295Z",
     "iopub.status.busy": "2021-08-23T14:51:43.182872Z",
     "iopub.status.idle": "2021-08-23T14:51:43.193180Z",
     "shell.execute_reply": "2021-08-23T14:51:43.193475Z"
    },
    "papermill": {
     "duration": 0.03356,
     "end_time": "2021-08-23T14:51:43.193577",
     "exception": false,
     "start_time": "2021-08-23T14:51:43.160017",
     "status": "completed"
    },
    "tags": []
   },
   "outputs": [],
   "source": [
    "input_filepath = Path(\n",
    "    conf.RESULTS[\"DATA_TRANSFORMATIONS_DIR\"],\n",
    "    INPUT_SUBSET,\n",
    "    f\"{INPUT_SUBSET}-{INPUT_STEM}.pkl\",\n",
    ").resolve()"
   ]
  },
  {
   "cell_type": "code",
   "execution_count": 11,
   "id": "informational-incident",
   "metadata": {
    "execution": {
     "iopub.execute_input": "2021-08-23T14:51:43.236203Z",
     "iopub.status.busy": "2021-08-23T14:51:43.235791Z",
     "iopub.status.idle": "2021-08-23T14:51:43.261114Z",
     "shell.execute_reply": "2021-08-23T14:51:43.260761Z"
    },
    "papermill": {
     "duration": 0.047274,
     "end_time": "2021-08-23T14:51:43.261212",
     "exception": false,
     "start_time": "2021-08-23T14:51:43.213938",
     "status": "completed"
    },
    "tags": []
   },
   "outputs": [],
   "source": [
    "data = pd.read_pickle(input_filepath)"
   ]
  },
  {
   "cell_type": "code",
   "execution_count": 12,
   "id": "metric-stable",
   "metadata": {
    "execution": {
     "iopub.execute_input": "2021-08-23T14:51:43.305296Z",
     "iopub.status.busy": "2021-08-23T14:51:43.304919Z",
     "iopub.status.idle": "2021-08-23T14:51:43.316565Z",
     "shell.execute_reply": "2021-08-23T14:51:43.316196Z"
    },
    "papermill": {
     "duration": 0.033724,
     "end_time": "2021-08-23T14:51:43.316652",
     "exception": false,
     "start_time": "2021-08-23T14:51:43.282928",
     "status": "completed"
    },
    "tags": []
   },
   "outputs": [
    {
     "data": {
      "text/plain": [
       "(3752, 987)"
      ]
     },
     "execution_count": 12,
     "metadata": {},
     "output_type": "execute_result"
    }
   ],
   "source": [
    "data.shape"
   ]
  },
  {
   "cell_type": "code",
   "execution_count": 13,
   "id": "voluntary-karaoke",
   "metadata": {
    "execution": {
     "iopub.execute_input": "2021-08-23T14:51:43.359484Z",
     "iopub.status.busy": "2021-08-23T14:51:43.359103Z",
     "iopub.status.idle": "2021-08-23T14:51:43.384195Z",
     "shell.execute_reply": "2021-08-23T14:51:43.383856Z"
    },
    "papermill": {
     "duration": 0.047082,
     "end_time": "2021-08-23T14:51:43.384283",
     "exception": false,
     "start_time": "2021-08-23T14:51:43.337201",
     "status": "completed"
    },
    "tags": []
   },
   "outputs": [
    {
     "data": {
      "text/html": [
       "<div>\n",
       "<style scoped>\n",
       "    .dataframe tbody tr th:only-of-type {\n",
       "        vertical-align: middle;\n",
       "    }\n",
       "\n",
       "    .dataframe tbody tr th {\n",
       "        vertical-align: top;\n",
       "    }\n",
       "\n",
       "    .dataframe thead th {\n",
       "        text-align: right;\n",
       "    }\n",
       "</style>\n",
       "<table border=\"1\" class=\"dataframe\">\n",
       "  <thead>\n",
       "    <tr style=\"text-align: right;\">\n",
       "      <th></th>\n",
       "      <th>LV1</th>\n",
       "      <th>LV2</th>\n",
       "      <th>LV3</th>\n",
       "      <th>LV4</th>\n",
       "      <th>LV5</th>\n",
       "      <th>LV6</th>\n",
       "      <th>LV7</th>\n",
       "      <th>LV8</th>\n",
       "      <th>LV9</th>\n",
       "      <th>LV10</th>\n",
       "      <th>...</th>\n",
       "      <th>LV978</th>\n",
       "      <th>LV979</th>\n",
       "      <th>LV980</th>\n",
       "      <th>LV981</th>\n",
       "      <th>LV982</th>\n",
       "      <th>LV983</th>\n",
       "      <th>LV984</th>\n",
       "      <th>LV985</th>\n",
       "      <th>LV986</th>\n",
       "      <th>LV987</th>\n",
       "    </tr>\n",
       "  </thead>\n",
       "  <tbody>\n",
       "    <tr>\n",
       "      <th>100001_raw-Food_weight</th>\n",
       "      <td>-0.695006</td>\n",
       "      <td>1.962565</td>\n",
       "      <td>0.057683</td>\n",
       "      <td>0.878731</td>\n",
       "      <td>-0.539977</td>\n",
       "      <td>1.481272</td>\n",
       "      <td>-0.396422</td>\n",
       "      <td>1.090180</td>\n",
       "      <td>0.759223</td>\n",
       "      <td>0.931395</td>\n",
       "      <td>...</td>\n",
       "      <td>1.129784</td>\n",
       "      <td>1.752343</td>\n",
       "      <td>-1.411403</td>\n",
       "      <td>2.823863</td>\n",
       "      <td>0.931116</td>\n",
       "      <td>-1.054519</td>\n",
       "      <td>0.432982</td>\n",
       "      <td>-0.633597</td>\n",
       "      <td>0.554279</td>\n",
       "      <td>-0.642479</td>\n",
       "    </tr>\n",
       "    <tr>\n",
       "      <th>100002_raw-Energy</th>\n",
       "      <td>-1.528127</td>\n",
       "      <td>-0.345309</td>\n",
       "      <td>-0.148953</td>\n",
       "      <td>-0.242060</td>\n",
       "      <td>0.373427</td>\n",
       "      <td>0.791092</td>\n",
       "      <td>0.263477</td>\n",
       "      <td>0.987702</td>\n",
       "      <td>0.354391</td>\n",
       "      <td>1.416059</td>\n",
       "      <td>...</td>\n",
       "      <td>0.224604</td>\n",
       "      <td>0.769882</td>\n",
       "      <td>-0.509482</td>\n",
       "      <td>0.091153</td>\n",
       "      <td>2.286789</td>\n",
       "      <td>-1.008256</td>\n",
       "      <td>-0.029764</td>\n",
       "      <td>1.737229</td>\n",
       "      <td>-0.272107</td>\n",
       "      <td>-0.526125</td>\n",
       "    </tr>\n",
       "    <tr>\n",
       "      <th>100003_raw-Protein</th>\n",
       "      <td>-0.704572</td>\n",
       "      <td>-1.011299</td>\n",
       "      <td>0.671420</td>\n",
       "      <td>0.143991</td>\n",
       "      <td>0.615212</td>\n",
       "      <td>0.874212</td>\n",
       "      <td>-0.040998</td>\n",
       "      <td>0.915170</td>\n",
       "      <td>0.254369</td>\n",
       "      <td>-0.084237</td>\n",
       "      <td>...</td>\n",
       "      <td>1.003019</td>\n",
       "      <td>1.044314</td>\n",
       "      <td>-2.376108</td>\n",
       "      <td>0.004778</td>\n",
       "      <td>0.053714</td>\n",
       "      <td>-0.892447</td>\n",
       "      <td>-0.183800</td>\n",
       "      <td>1.377991</td>\n",
       "      <td>-0.278794</td>\n",
       "      <td>-0.419733</td>\n",
       "    </tr>\n",
       "    <tr>\n",
       "      <th>100004_raw-Fat</th>\n",
       "      <td>-0.989832</td>\n",
       "      <td>-1.875490</td>\n",
       "      <td>0.261555</td>\n",
       "      <td>-1.420719</td>\n",
       "      <td>0.366238</td>\n",
       "      <td>1.167049</td>\n",
       "      <td>0.257387</td>\n",
       "      <td>0.717674</td>\n",
       "      <td>-0.997664</td>\n",
       "      <td>0.969825</td>\n",
       "      <td>...</td>\n",
       "      <td>0.585913</td>\n",
       "      <td>0.638314</td>\n",
       "      <td>0.119139</td>\n",
       "      <td>-0.140204</td>\n",
       "      <td>1.394326</td>\n",
       "      <td>-1.173402</td>\n",
       "      <td>0.555058</td>\n",
       "      <td>1.013982</td>\n",
       "      <td>-0.544506</td>\n",
       "      <td>-0.064061</td>\n",
       "    </tr>\n",
       "    <tr>\n",
       "      <th>100005_raw-Carbohydrate</th>\n",
       "      <td>-0.580143</td>\n",
       "      <td>0.243335</td>\n",
       "      <td>0.158966</td>\n",
       "      <td>-0.036558</td>\n",
       "      <td>0.068176</td>\n",
       "      <td>-0.202639</td>\n",
       "      <td>1.101281</td>\n",
       "      <td>0.675227</td>\n",
       "      <td>1.463432</td>\n",
       "      <td>1.010078</td>\n",
       "      <td>...</td>\n",
       "      <td>-0.249108</td>\n",
       "      <td>-0.026814</td>\n",
       "      <td>0.232713</td>\n",
       "      <td>0.323682</td>\n",
       "      <td>1.168642</td>\n",
       "      <td>-0.282935</td>\n",
       "      <td>0.653105</td>\n",
       "      <td>1.909526</td>\n",
       "      <td>0.199997</td>\n",
       "      <td>-1.656894</td>\n",
       "    </tr>\n",
       "  </tbody>\n",
       "</table>\n",
       "<p>5 rows × 987 columns</p>\n",
       "</div>"
      ],
      "text/plain": [
       "                              LV1       LV2       LV3       LV4       LV5  \\\n",
       "100001_raw-Food_weight  -0.695006  1.962565  0.057683  0.878731 -0.539977   \n",
       "100002_raw-Energy       -1.528127 -0.345309 -0.148953 -0.242060  0.373427   \n",
       "100003_raw-Protein      -0.704572 -1.011299  0.671420  0.143991  0.615212   \n",
       "100004_raw-Fat          -0.989832 -1.875490  0.261555 -1.420719  0.366238   \n",
       "100005_raw-Carbohydrate -0.580143  0.243335  0.158966 -0.036558  0.068176   \n",
       "\n",
       "                              LV6       LV7       LV8       LV9      LV10  \\\n",
       "100001_raw-Food_weight   1.481272 -0.396422  1.090180  0.759223  0.931395   \n",
       "100002_raw-Energy        0.791092  0.263477  0.987702  0.354391  1.416059   \n",
       "100003_raw-Protein       0.874212 -0.040998  0.915170  0.254369 -0.084237   \n",
       "100004_raw-Fat           1.167049  0.257387  0.717674 -0.997664  0.969825   \n",
       "100005_raw-Carbohydrate -0.202639  1.101281  0.675227  1.463432  1.010078   \n",
       "\n",
       "                         ...     LV978     LV979     LV980     LV981  \\\n",
       "100001_raw-Food_weight   ...  1.129784  1.752343 -1.411403  2.823863   \n",
       "100002_raw-Energy        ...  0.224604  0.769882 -0.509482  0.091153   \n",
       "100003_raw-Protein       ...  1.003019  1.044314 -2.376108  0.004778   \n",
       "100004_raw-Fat           ...  0.585913  0.638314  0.119139 -0.140204   \n",
       "100005_raw-Carbohydrate  ... -0.249108 -0.026814  0.232713  0.323682   \n",
       "\n",
       "                            LV982     LV983     LV984     LV985     LV986  \\\n",
       "100001_raw-Food_weight   0.931116 -1.054519  0.432982 -0.633597  0.554279   \n",
       "100002_raw-Energy        2.286789 -1.008256 -0.029764  1.737229 -0.272107   \n",
       "100003_raw-Protein       0.053714 -0.892447 -0.183800  1.377991 -0.278794   \n",
       "100004_raw-Fat           1.394326 -1.173402  0.555058  1.013982 -0.544506   \n",
       "100005_raw-Carbohydrate  1.168642 -0.282935  0.653105  1.909526  0.199997   \n",
       "\n",
       "                            LV987  \n",
       "100001_raw-Food_weight  -0.642479  \n",
       "100002_raw-Energy       -0.526125  \n",
       "100003_raw-Protein      -0.419733  \n",
       "100004_raw-Fat          -0.064061  \n",
       "100005_raw-Carbohydrate -1.656894  \n",
       "\n",
       "[5 rows x 987 columns]"
      ]
     },
     "execution_count": 13,
     "metadata": {},
     "output_type": "execute_result"
    }
   ],
   "source": [
    "data.head()"
   ]
  },
  {
   "cell_type": "markdown",
   "id": "heated-peninsula",
   "metadata": {
    "papermill": {
     "duration": 0.02015,
     "end_time": "2021-08-23T14:51:43.425225",
     "exception": false,
     "start_time": "2021-08-23T14:51:43.405075",
     "status": "completed"
    },
    "tags": []
   },
   "source": [
    "## Clustering results"
   ]
  },
  {
   "cell_type": "code",
   "execution_count": 14,
   "id": "unavailable-buying",
   "metadata": {
    "execution": {
     "iopub.execute_input": "2021-08-23T14:51:43.468484Z",
     "iopub.status.busy": "2021-08-23T14:51:43.468108Z",
     "iopub.status.idle": "2021-08-23T14:51:43.480436Z",
     "shell.execute_reply": "2021-08-23T14:51:43.480020Z"
    },
    "papermill": {
     "duration": 0.034958,
     "end_time": "2021-08-23T14:51:43.480532",
     "exception": false,
     "start_time": "2021-08-23T14:51:43.445574",
     "status": "completed"
    },
    "tags": []
   },
   "outputs": [
    {
     "data": {
      "text/plain": [
       "PosixPath('/home/miltondp/projects/labs/greenelab/phenoplier/base/results/clustering/consensus_clustering')"
      ]
     },
     "metadata": {},
     "output_type": "display_data"
    }
   ],
   "source": [
    "CONSENSUS_CLUSTERING_DIR = Path(\n",
    "    conf.RESULTS[\"CLUSTERING_DIR\"], \"consensus_clustering\"\n",
    ").resolve()\n",
    "\n",
    "display(CONSENSUS_CLUSTERING_DIR)"
   ]
  },
  {
   "cell_type": "code",
   "execution_count": 15,
   "id": "dietary-judgment",
   "metadata": {
    "execution": {
     "iopub.execute_input": "2021-08-23T14:51:43.527039Z",
     "iopub.status.busy": "2021-08-23T14:51:43.526654Z",
     "iopub.status.idle": "2021-08-23T14:51:43.538109Z",
     "shell.execute_reply": "2021-08-23T14:51:43.537771Z"
    },
    "papermill": {
     "duration": 0.035837,
     "end_time": "2021-08-23T14:51:43.538194",
     "exception": false,
     "start_time": "2021-08-23T14:51:43.502357",
     "status": "completed"
    },
    "tags": []
   },
   "outputs": [
    {
     "data": {
      "text/plain": [
       "PosixPath('/home/miltondp/projects/labs/greenelab/phenoplier/base/results/clustering/consensus_clustering/best_partitions_by_k.pkl')"
      ]
     },
     "metadata": {},
     "output_type": "display_data"
    }
   ],
   "source": [
    "input_file = Path(CONSENSUS_CLUSTERING_DIR, \"best_partitions_by_k.pkl\").resolve()\n",
    "display(input_file)"
   ]
  },
  {
   "cell_type": "code",
   "execution_count": 16,
   "id": "weird-integrity",
   "metadata": {
    "execution": {
     "iopub.execute_input": "2021-08-23T14:51:43.583285Z",
     "iopub.status.busy": "2021-08-23T14:51:43.582915Z",
     "iopub.status.idle": "2021-08-23T14:51:43.606861Z",
     "shell.execute_reply": "2021-08-23T14:51:43.606507Z"
    },
    "papermill": {
     "duration": 0.047651,
     "end_time": "2021-08-23T14:51:43.606948",
     "exception": false,
     "start_time": "2021-08-23T14:51:43.559297",
     "status": "completed"
    },
    "tags": []
   },
   "outputs": [],
   "source": [
    "best_partitions = pd.read_pickle(input_file)"
   ]
  },
  {
   "cell_type": "code",
   "execution_count": 17,
   "id": "covered-reflection",
   "metadata": {
    "execution": {
     "iopub.execute_input": "2021-08-23T14:51:43.654380Z",
     "iopub.status.busy": "2021-08-23T14:51:43.654003Z",
     "iopub.status.idle": "2021-08-23T14:51:43.665630Z",
     "shell.execute_reply": "2021-08-23T14:51:43.665252Z"
    },
    "papermill": {
     "duration": 0.03611,
     "end_time": "2021-08-23T14:51:43.665712",
     "exception": false,
     "start_time": "2021-08-23T14:51:43.629602",
     "status": "completed"
    },
    "tags": []
   },
   "outputs": [
    {
     "data": {
      "text/plain": [
       "(59, 4)"
      ]
     },
     "execution_count": 17,
     "metadata": {},
     "output_type": "execute_result"
    }
   ],
   "source": [
    "best_partitions.shape"
   ]
  },
  {
   "cell_type": "code",
   "execution_count": 18,
   "id": "sufficient-clinic",
   "metadata": {
    "execution": {
     "iopub.execute_input": "2021-08-23T14:51:43.711699Z",
     "iopub.status.busy": "2021-08-23T14:51:43.711288Z",
     "iopub.status.idle": "2021-08-23T14:51:43.731601Z",
     "shell.execute_reply": "2021-08-23T14:51:43.731265Z"
    },
    "papermill": {
     "duration": 0.044573,
     "end_time": "2021-08-23T14:51:43.731688",
     "exception": false,
     "start_time": "2021-08-23T14:51:43.687115",
     "status": "completed"
    },
    "tags": []
   },
   "outputs": [
    {
     "data": {
      "text/html": [
       "<div>\n",
       "<style scoped>\n",
       "    .dataframe tbody tr th:only-of-type {\n",
       "        vertical-align: middle;\n",
       "    }\n",
       "\n",
       "    .dataframe tbody tr th {\n",
       "        vertical-align: top;\n",
       "    }\n",
       "\n",
       "    .dataframe thead th {\n",
       "        text-align: right;\n",
       "    }\n",
       "</style>\n",
       "<table border=\"1\" class=\"dataframe\">\n",
       "  <thead>\n",
       "    <tr style=\"text-align: right;\">\n",
       "      <th></th>\n",
       "      <th>method</th>\n",
       "      <th>partition</th>\n",
       "      <th>ari_median</th>\n",
       "      <th>selected</th>\n",
       "    </tr>\n",
       "    <tr>\n",
       "      <th>k</th>\n",
       "      <th></th>\n",
       "      <th></th>\n",
       "      <th></th>\n",
       "      <th></th>\n",
       "    </tr>\n",
       "  </thead>\n",
       "  <tbody>\n",
       "    <tr>\n",
       "      <th>14</th>\n",
       "      <td>scc_025</td>\n",
       "      <td>[0, 0, 0, 0, 0, 0, 0, 0, 0, 0, 0, 0, 0, 0, 0, ...</td>\n",
       "      <td>0.090117</td>\n",
       "      <td>True</td>\n",
       "    </tr>\n",
       "    <tr>\n",
       "      <th>22</th>\n",
       "      <td>scc_020</td>\n",
       "      <td>[13, 18, 18, 18, 18, 18, 18, 18, 18, 13, 18, 1...</td>\n",
       "      <td>0.090100</td>\n",
       "      <td>True</td>\n",
       "    </tr>\n",
       "    <tr>\n",
       "      <th>13</th>\n",
       "      <td>scc_025</td>\n",
       "      <td>[0, 0, 0, 0, 0, 0, 0, 0, 0, 0, 0, 0, 0, 0, 0, ...</td>\n",
       "      <td>0.089920</td>\n",
       "      <td>True</td>\n",
       "    </tr>\n",
       "    <tr>\n",
       "      <th>12</th>\n",
       "      <td>scc_025</td>\n",
       "      <td>[0, 0, 0, 0, 0, 0, 0, 0, 0, 0, 0, 0, 0, 0, 0, ...</td>\n",
       "      <td>0.089894</td>\n",
       "      <td>True</td>\n",
       "    </tr>\n",
       "    <tr>\n",
       "      <th>11</th>\n",
       "      <td>scc_025</td>\n",
       "      <td>[0, 0, 0, 0, 0, 0, 0, 0, 0, 0, 0, 0, 0, 0, 0, ...</td>\n",
       "      <td>0.089616</td>\n",
       "      <td>True</td>\n",
       "    </tr>\n",
       "  </tbody>\n",
       "</table>\n",
       "</div>"
      ],
      "text/plain": [
       "     method                                          partition  ari_median  \\\n",
       "k                                                                            \n",
       "14  scc_025  [0, 0, 0, 0, 0, 0, 0, 0, 0, 0, 0, 0, 0, 0, 0, ...    0.090117   \n",
       "22  scc_020  [13, 18, 18, 18, 18, 18, 18, 18, 18, 13, 18, 1...    0.090100   \n",
       "13  scc_025  [0, 0, 0, 0, 0, 0, 0, 0, 0, 0, 0, 0, 0, 0, 0, ...    0.089920   \n",
       "12  scc_025  [0, 0, 0, 0, 0, 0, 0, 0, 0, 0, 0, 0, 0, 0, 0, ...    0.089894   \n",
       "11  scc_025  [0, 0, 0, 0, 0, 0, 0, 0, 0, 0, 0, 0, 0, 0, 0, ...    0.089616   \n",
       "\n",
       "    selected  \n",
       "k             \n",
       "14      True  \n",
       "22      True  \n",
       "13      True  \n",
       "12      True  \n",
       "11      True  "
      ]
     },
     "execution_count": 18,
     "metadata": {},
     "output_type": "execute_result"
    }
   ],
   "source": [
    "best_partitions.head()"
   ]
  },
  {
   "cell_type": "markdown",
   "id": "spiritual-staff",
   "metadata": {
    "papermill": {
     "duration": 0.02112,
     "end_time": "2021-08-23T14:51:43.774331",
     "exception": false,
     "start_time": "2021-08-23T14:51:43.753211",
     "status": "completed"
    },
    "tags": []
   },
   "source": [
    "## MultiPLIER summary"
   ]
  },
  {
   "cell_type": "code",
   "execution_count": 19,
   "id": "federal-democrat",
   "metadata": {
    "execution": {
     "iopub.execute_input": "2021-08-23T14:51:43.819430Z",
     "iopub.status.busy": "2021-08-23T14:51:43.819025Z",
     "iopub.status.idle": "2021-08-23T14:51:43.838017Z",
     "shell.execute_reply": "2021-08-23T14:51:43.837661Z"
    },
    "papermill": {
     "duration": 0.042695,
     "end_time": "2021-08-23T14:51:43.838106",
     "exception": false,
     "start_time": "2021-08-23T14:51:43.795411",
     "status": "completed"
    },
    "tags": []
   },
   "outputs": [],
   "source": [
    "multiplier_model_summary = pd.read_pickle(conf.MULTIPLIER[\"MODEL_SUMMARY_FILE\"])"
   ]
  },
  {
   "cell_type": "code",
   "execution_count": 20,
   "id": "upset-revelation",
   "metadata": {
    "execution": {
     "iopub.execute_input": "2021-08-23T14:51:43.885589Z",
     "iopub.status.busy": "2021-08-23T14:51:43.885210Z",
     "iopub.status.idle": "2021-08-23T14:51:43.896519Z",
     "shell.execute_reply": "2021-08-23T14:51:43.896806Z"
    },
    "papermill": {
     "duration": 0.036399,
     "end_time": "2021-08-23T14:51:43.896912",
     "exception": false,
     "start_time": "2021-08-23T14:51:43.860513",
     "status": "completed"
    },
    "tags": []
   },
   "outputs": [
    {
     "data": {
      "text/plain": [
       "(2157, 5)"
      ]
     },
     "execution_count": 20,
     "metadata": {},
     "output_type": "execute_result"
    }
   ],
   "source": [
    "multiplier_model_summary.shape"
   ]
  },
  {
   "cell_type": "code",
   "execution_count": 21,
   "id": "jewish-brass",
   "metadata": {
    "execution": {
     "iopub.execute_input": "2021-08-23T14:51:43.943600Z",
     "iopub.status.busy": "2021-08-23T14:51:43.943233Z",
     "iopub.status.idle": "2021-08-23T14:51:43.958986Z",
     "shell.execute_reply": "2021-08-23T14:51:43.958594Z"
    },
    "papermill": {
     "duration": 0.039475,
     "end_time": "2021-08-23T14:51:43.959073",
     "exception": false,
     "start_time": "2021-08-23T14:51:43.919598",
     "status": "completed"
    },
    "tags": []
   },
   "outputs": [
    {
     "data": {
      "text/html": [
       "<div>\n",
       "<style scoped>\n",
       "    .dataframe tbody tr th:only-of-type {\n",
       "        vertical-align: middle;\n",
       "    }\n",
       "\n",
       "    .dataframe tbody tr th {\n",
       "        vertical-align: top;\n",
       "    }\n",
       "\n",
       "    .dataframe thead th {\n",
       "        text-align: right;\n",
       "    }\n",
       "</style>\n",
       "<table border=\"1\" class=\"dataframe\">\n",
       "  <thead>\n",
       "    <tr style=\"text-align: right;\">\n",
       "      <th></th>\n",
       "      <th>pathway</th>\n",
       "      <th>LV index</th>\n",
       "      <th>AUC</th>\n",
       "      <th>p-value</th>\n",
       "      <th>FDR</th>\n",
       "    </tr>\n",
       "  </thead>\n",
       "  <tbody>\n",
       "    <tr>\n",
       "      <th>1</th>\n",
       "      <td>KEGG_LYSINE_DEGRADATION</td>\n",
       "      <td>1</td>\n",
       "      <td>0.388059</td>\n",
       "      <td>0.866078</td>\n",
       "      <td>0.956005</td>\n",
       "    </tr>\n",
       "    <tr>\n",
       "      <th>2</th>\n",
       "      <td>REACTOME_MRNA_SPLICING</td>\n",
       "      <td>1</td>\n",
       "      <td>0.733057</td>\n",
       "      <td>0.000048</td>\n",
       "      <td>0.000582</td>\n",
       "    </tr>\n",
       "    <tr>\n",
       "      <th>3</th>\n",
       "      <td>MIPS_NOP56P_ASSOCIATED_PRE_RRNA_COMPLEX</td>\n",
       "      <td>1</td>\n",
       "      <td>0.680555</td>\n",
       "      <td>0.001628</td>\n",
       "      <td>0.011366</td>\n",
       "    </tr>\n",
       "    <tr>\n",
       "      <th>4</th>\n",
       "      <td>KEGG_DNA_REPLICATION</td>\n",
       "      <td>1</td>\n",
       "      <td>0.549473</td>\n",
       "      <td>0.312155</td>\n",
       "      <td>0.539951</td>\n",
       "    </tr>\n",
       "    <tr>\n",
       "      <th>5</th>\n",
       "      <td>PID_MYC_ACTIVPATHWAY</td>\n",
       "      <td>1</td>\n",
       "      <td>0.639303</td>\n",
       "      <td>0.021702</td>\n",
       "      <td>0.083739</td>\n",
       "    </tr>\n",
       "  </tbody>\n",
       "</table>\n",
       "</div>"
      ],
      "text/plain": [
       "                                   pathway LV index       AUC   p-value  \\\n",
       "1                  KEGG_LYSINE_DEGRADATION        1  0.388059  0.866078   \n",
       "2                   REACTOME_MRNA_SPLICING        1  0.733057  0.000048   \n",
       "3  MIPS_NOP56P_ASSOCIATED_PRE_RRNA_COMPLEX        1  0.680555  0.001628   \n",
       "4                     KEGG_DNA_REPLICATION        1  0.549473  0.312155   \n",
       "5                     PID_MYC_ACTIVPATHWAY        1  0.639303  0.021702   \n",
       "\n",
       "        FDR  \n",
       "1  0.956005  \n",
       "2  0.000582  \n",
       "3  0.011366  \n",
       "4  0.539951  \n",
       "5  0.083739  "
      ]
     },
     "execution_count": 21,
     "metadata": {},
     "output_type": "execute_result"
    }
   ],
   "source": [
    "multiplier_model_summary.head()"
   ]
  },
  {
   "cell_type": "code",
   "execution_count": 22,
   "id": "practical-pencil",
   "metadata": {
    "execution": {
     "iopub.execute_input": "2021-08-23T14:51:44.006361Z",
     "iopub.status.busy": "2021-08-23T14:51:44.005976Z",
     "iopub.status.idle": "2021-08-23T14:51:44.034909Z",
     "shell.execute_reply": "2021-08-23T14:51:44.034532Z"
    },
    "papermill": {
     "duration": 0.053291,
     "end_time": "2021-08-23T14:51:44.034996",
     "exception": false,
     "start_time": "2021-08-23T14:51:43.981705",
     "status": "completed"
    },
    "tags": []
   },
   "outputs": [
    {
     "data": {
      "text/plain": [
       "(469, 5)"
      ]
     },
     "metadata": {},
     "output_type": "display_data"
    },
    {
     "data": {
      "text/html": [
       "<div>\n",
       "<style scoped>\n",
       "    .dataframe tbody tr th:only-of-type {\n",
       "        vertical-align: middle;\n",
       "    }\n",
       "\n",
       "    .dataframe tbody tr th {\n",
       "        vertical-align: top;\n",
       "    }\n",
       "\n",
       "    .dataframe thead th {\n",
       "        text-align: right;\n",
       "    }\n",
       "</style>\n",
       "<table border=\"1\" class=\"dataframe\">\n",
       "  <thead>\n",
       "    <tr style=\"text-align: right;\">\n",
       "      <th></th>\n",
       "      <th>pathway</th>\n",
       "      <th>LV index</th>\n",
       "      <th>AUC</th>\n",
       "      <th>p-value</th>\n",
       "      <th>FDR</th>\n",
       "    </tr>\n",
       "  </thead>\n",
       "  <tbody>\n",
       "    <tr>\n",
       "      <th>2</th>\n",
       "      <td>REACTOME_MRNA_SPLICING</td>\n",
       "      <td>1</td>\n",
       "      <td>0.733057</td>\n",
       "      <td>4.772691e-05</td>\n",
       "      <td>5.816211e-04</td>\n",
       "    </tr>\n",
       "    <tr>\n",
       "      <th>3</th>\n",
       "      <td>MIPS_NOP56P_ASSOCIATED_PRE_RRNA_COMPLEX</td>\n",
       "      <td>1</td>\n",
       "      <td>0.680555</td>\n",
       "      <td>1.628217e-03</td>\n",
       "      <td>1.136590e-02</td>\n",
       "    </tr>\n",
       "    <tr>\n",
       "      <th>8</th>\n",
       "      <td>REACTOME_MITOTIC_G1_G1_S_PHASES</td>\n",
       "      <td>1</td>\n",
       "      <td>0.686170</td>\n",
       "      <td>2.517619e-04</td>\n",
       "      <td>2.392292e-03</td>\n",
       "    </tr>\n",
       "    <tr>\n",
       "      <th>9</th>\n",
       "      <td>IRIS_Monocyte-Day0</td>\n",
       "      <td>2</td>\n",
       "      <td>0.890036</td>\n",
       "      <td>4.315812e-25</td>\n",
       "      <td>1.329887e-22</td>\n",
       "    </tr>\n",
       "    <tr>\n",
       "      <th>10</th>\n",
       "      <td>DMAP_MONO2</td>\n",
       "      <td>2</td>\n",
       "      <td>0.904676</td>\n",
       "      <td>1.313970e-16</td>\n",
       "      <td>1.574574e-14</td>\n",
       "    </tr>\n",
       "  </tbody>\n",
       "</table>\n",
       "</div>"
      ],
      "text/plain": [
       "                                    pathway LV index       AUC       p-value  \\\n",
       "2                    REACTOME_MRNA_SPLICING        1  0.733057  4.772691e-05   \n",
       "3   MIPS_NOP56P_ASSOCIATED_PRE_RRNA_COMPLEX        1  0.680555  1.628217e-03   \n",
       "8           REACTOME_MITOTIC_G1_G1_S_PHASES        1  0.686170  2.517619e-04   \n",
       "9                        IRIS_Monocyte-Day0        2  0.890036  4.315812e-25   \n",
       "10                               DMAP_MONO2        2  0.904676  1.313970e-16   \n",
       "\n",
       "             FDR  \n",
       "2   5.816211e-04  \n",
       "3   1.136590e-02  \n",
       "8   2.392292e-03  \n",
       "9   1.329887e-22  \n",
       "10  1.574574e-14  "
      ]
     },
     "metadata": {},
     "output_type": "display_data"
    }
   ],
   "source": [
    "well_aligned_lvs = multiplier_model_summary[\n",
    "    (multiplier_model_summary[\"FDR\"] < 0.05) | (multiplier_model_summary[\"AUC\"] >= 0.75)\n",
    "]\n",
    "\n",
    "display(well_aligned_lvs.shape)\n",
    "display(well_aligned_lvs.head())"
   ]
  },
  {
   "cell_type": "code",
   "execution_count": 23,
   "id": "limited-albania",
   "metadata": {
    "execution": {
     "iopub.execute_input": "2021-08-23T14:51:44.083569Z",
     "iopub.status.busy": "2021-08-23T14:51:44.083147Z",
     "iopub.status.idle": "2021-08-23T14:51:44.094800Z",
     "shell.execute_reply": "2021-08-23T14:51:44.094437Z"
    },
    "papermill": {
     "duration": 0.036675,
     "end_time": "2021-08-23T14:51:44.094887",
     "exception": false,
     "start_time": "2021-08-23T14:51:44.058212",
     "status": "completed"
    },
    "tags": []
   },
   "outputs": [],
   "source": [
    "well_aligned_lv_codes = set([f\"LV{lvi}\" for lvi in well_aligned_lvs[\"LV index\"]])"
   ]
  },
  {
   "cell_type": "code",
   "execution_count": 24,
   "id": "olive-monthly",
   "metadata": {
    "execution": {
     "iopub.execute_input": "2021-08-23T14:51:44.144997Z",
     "iopub.status.busy": "2021-08-23T14:51:44.144639Z",
     "iopub.status.idle": "2021-08-23T14:51:44.155944Z",
     "shell.execute_reply": "2021-08-23T14:51:44.155518Z"
    },
    "papermill": {
     "duration": 0.037161,
     "end_time": "2021-08-23T14:51:44.156036",
     "exception": false,
     "start_time": "2021-08-23T14:51:44.118875",
     "status": "completed"
    },
    "tags": []
   },
   "outputs": [
    {
     "data": {
      "text/plain": [
       "200"
      ]
     },
     "execution_count": 24,
     "metadata": {},
     "output_type": "execute_result"
    }
   ],
   "source": [
    "len(well_aligned_lv_codes)"
   ]
  },
  {
   "cell_type": "code",
   "execution_count": 25,
   "id": "mechanical-configuration",
   "metadata": {
    "execution": {
     "iopub.execute_input": "2021-08-23T14:51:44.204934Z",
     "iopub.status.busy": "2021-08-23T14:51:44.204550Z",
     "iopub.status.idle": "2021-08-23T14:51:44.216327Z",
     "shell.execute_reply": "2021-08-23T14:51:44.215948Z"
    },
    "papermill": {
     "duration": 0.036875,
     "end_time": "2021-08-23T14:51:44.216420",
     "exception": false,
     "start_time": "2021-08-23T14:51:44.179545",
     "status": "completed"
    },
    "tags": []
   },
   "outputs": [
    {
     "data": {
      "text/plain": [
       "['LV678', 'LV735', 'LV176', 'LV766', 'LV140']"
      ]
     },
     "execution_count": 25,
     "metadata": {},
     "output_type": "execute_result"
    }
   ],
   "source": [
    "list(well_aligned_lv_codes)[:5]"
   ]
  },
  {
   "cell_type": "markdown",
   "id": "gorgeous-technical",
   "metadata": {
    "papermill": {
     "duration": 0.022654,
     "end_time": "2021-08-23T14:51:44.262140",
     "exception": false,
     "start_time": "2021-08-23T14:51:44.239486",
     "status": "completed"
    },
    "tags": []
   },
   "source": [
    "# Select partition / cluster pairs"
   ]
  },
  {
   "cell_type": "code",
   "execution_count": 26,
   "id": "reliable-geometry",
   "metadata": {
    "execution": {
     "iopub.execute_input": "2021-08-23T14:51:44.310280Z",
     "iopub.status.busy": "2021-08-23T14:51:44.309877Z",
     "iopub.status.idle": "2021-08-23T14:51:44.321365Z",
     "shell.execute_reply": "2021-08-23T14:51:44.320963Z"
    },
    "papermill": {
     "duration": 0.0366,
     "end_time": "2021-08-23T14:51:44.321477",
     "exception": false,
     "start_time": "2021-08-23T14:51:44.284877",
     "status": "completed"
    },
    "tags": []
   },
   "outputs": [],
   "source": [
    "# This dictionary specifies in the keys the partition/clusters where traits will be selected from.\n",
    "# To select the LVs, we will take those LVs that are discriminative for the partition/cluster in the key,\n",
    "# but we also include an additional set of partition/clusters since there is a hierarchy of clustering solutions,\n",
    "# one LV in those might have not been present in the original partition/cluster tuple. This is manually inferred\n",
    "# by looking at the clustering tree. For example, within the \"complex branch\", we have the partition/cluster tuple\n",
    "# (29,11), including coronary artery disease and other traits. This tuple has a set of (at most) 20 LVs that are\n",
    "# discriminative for these traits. However, at k=26, this tuple is a children of (26,13) (which is a parent of (29,16)),\n",
    "# which has another set of discriminative LVs. We also take those ones for (29,11).\n",
    "#\n",
    "# key: a tuple (partition_k or ID, cluster_id)\n",
    "# value: a list of tuples (each tuple having two elements: (partition_k or ID, cluster_id))\n",
    "PHENOTYPES_LVS_CONFIG = {\n",
    "    # asthma\n",
    "    (29, 12): [],\n",
    "}"
   ]
  },
  {
   "cell_type": "code",
   "execution_count": 27,
   "id": "nasty-print",
   "metadata": {
    "execution": {
     "iopub.execute_input": "2021-08-23T14:51:44.372291Z",
     "iopub.status.busy": "2021-08-23T14:51:44.371853Z",
     "iopub.status.idle": "2021-08-23T14:51:44.383535Z",
     "shell.execute_reply": "2021-08-23T14:51:44.383143Z"
    },
    "papermill": {
     "duration": 0.038646,
     "end_time": "2021-08-23T14:51:44.383630",
     "exception": false,
     "start_time": "2021-08-23T14:51:44.344984",
     "status": "completed"
    },
    "tags": []
   },
   "outputs": [
    {
     "data": {
      "text/plain": [
       "PosixPath('/home/miltondp/projects/labs/greenelab/phenoplier/base/results/clustering/interpretation/cluster_lvs')"
      ]
     },
     "metadata": {},
     "output_type": "display_data"
    }
   ],
   "source": [
    "CLUSTER_LV_DIR = conf.RESULTS[\"CLUSTERING_INTERPRETATION\"][\"BASE_DIR\"] / \"cluster_lvs\"\n",
    "assert CLUSTER_LV_DIR.exists()\n",
    "\n",
    "display(CLUSTER_LV_DIR)"
   ]
  },
  {
   "cell_type": "code",
   "execution_count": 28,
   "id": "lesser-leader",
   "metadata": {
    "execution": {
     "iopub.execute_input": "2021-08-23T14:51:44.433540Z",
     "iopub.status.busy": "2021-08-23T14:51:44.433165Z",
     "iopub.status.idle": "2021-08-23T14:51:44.444346Z",
     "shell.execute_reply": "2021-08-23T14:51:44.443966Z"
    },
    "papermill": {
     "duration": 0.036868,
     "end_time": "2021-08-23T14:51:44.444432",
     "exception": false,
     "start_time": "2021-08-23T14:51:44.407564",
     "status": "completed"
    },
    "tags": []
   },
   "outputs": [],
   "source": [
    "def _get_lvs_data(part_k, cluster_idx):\n",
    "    \"\"\"\n",
    "    For a partition/cluster pair, it returns a list of LV names that are discriminative for that cluster.\n",
    "    \"\"\"\n",
    "    cluster_lvs = pd.read_pickle(\n",
    "        CLUSTER_LV_DIR\n",
    "        / f\"part{part_k}\"\n",
    "        / f\"cluster_interpreter-part{part_k}_k{cluster_idx}.pkl\"\n",
    "    )\n",
    "\n",
    "    return list(cluster_lvs[\"name\"])"
   ]
  },
  {
   "cell_type": "code",
   "execution_count": 29,
   "id": "charitable-lobby",
   "metadata": {
    "execution": {
     "iopub.execute_input": "2021-08-23T14:51:44.497566Z",
     "iopub.status.busy": "2021-08-23T14:51:44.497196Z",
     "iopub.status.idle": "2021-08-23T14:51:44.516271Z",
     "shell.execute_reply": "2021-08-23T14:51:44.515845Z"
    },
    "papermill": {
     "duration": 0.047281,
     "end_time": "2021-08-23T14:51:44.516365",
     "exception": false,
     "start_time": "2021-08-23T14:51:44.469084",
     "status": "completed"
    },
    "tags": []
   },
   "outputs": [
    {
     "data": {
      "text/plain": [
       "['LV140', 'LV884', 'LV727', 'LV455', 'LV136']"
      ]
     },
     "execution_count": 29,
     "metadata": {},
     "output_type": "execute_result"
    }
   ],
   "source": [
    "_get_lvs_data(29, 11)[:5]"
   ]
  },
  {
   "cell_type": "markdown",
   "id": "informative-austin",
   "metadata": {
    "papermill": {
     "duration": 0.025087,
     "end_time": "2021-08-23T14:51:44.566219",
     "exception": false,
     "start_time": "2021-08-23T14:51:44.541132",
     "status": "completed"
    },
    "tags": []
   },
   "source": [
    "# GLSPhenoplier"
   ]
  },
  {
   "cell_type": "markdown",
   "id": "antique-effects",
   "metadata": {
    "papermill": {
     "duration": 0.023003,
     "end_time": "2021-08-23T14:51:44.613735",
     "exception": false,
     "start_time": "2021-08-23T14:51:44.590732",
     "status": "completed"
    },
    "tags": []
   },
   "source": [
    "## Get list of phenotypes/lvs pairs"
   ]
  },
  {
   "cell_type": "markdown",
   "id": "exceptional-pennsylvania",
   "metadata": {
    "papermill": {
     "duration": 0.02304,
     "end_time": "2021-08-23T14:51:44.660076",
     "exception": false,
     "start_time": "2021-08-23T14:51:44.637036",
     "status": "completed"
    },
    "tags": []
   },
   "source": [
    "Here I get a list of phenotype/lv pairs to run GLSPhenoplier on. I do this because I don't need to train the model\n",
    "for all LVs and all traits. The pairs are read from the `PHENOTYPES_LVS_CONFIG` dictionary specified before."
   ]
  },
  {
   "cell_type": "code",
   "execution_count": 30,
   "id": "third-improvement",
   "metadata": {
    "execution": {
     "iopub.execute_input": "2021-08-23T14:51:44.709695Z",
     "iopub.status.busy": "2021-08-23T14:51:44.709297Z",
     "iopub.status.idle": "2021-08-23T14:51:44.741814Z",
     "shell.execute_reply": "2021-08-23T14:51:44.741428Z"
    },
    "papermill": {
     "duration": 0.059056,
     "end_time": "2021-08-23T14:51:44.741908",
     "exception": false,
     "start_time": "2021-08-23T14:51:44.682852",
     "status": "completed"
    },
    "tags": []
   },
   "outputs": [],
   "source": [
    "phenotypes_lvs_pairs = []\n",
    "\n",
    "for (part_k, cluster_id), extra_for_lvs in PHENOTYPES_LVS_CONFIG.items():\n",
    "    # get traits from the partition/cluster\n",
    "    part = best_partitions.loc[part_k, \"partition\"]\n",
    "    cluster_traits = data.index[part == cluster_id]\n",
    "\n",
    "    # get first the LVs that are predictive for this partition/cluster\n",
    "    # then, add extra LVs from the partition/cluster \"parents\" specified in\n",
    "    # PHENOTYPES_LVS_CONFIG as a list of values\n",
    "    lv_list = _get_lvs_data(part_k, cluster_id)\n",
    "\n",
    "    for extra_part_k, extra_cluster_id in extra_for_lvs:\n",
    "        extra_lv_list = _get_lvs_data(part_k, cluster_id)\n",
    "        lv_list.extend(extra_lv_list)\n",
    "\n",
    "    # now create the list of trait/lv pairs where GLSPhenoplier will be run on later\n",
    "    for phenotype_code in cluster_traits:\n",
    "        for lv_code in lv_list:\n",
    "            phenotypes_lvs_pairs.append(\n",
    "                {\n",
    "                    \"phenotype_part_k\": part_k,\n",
    "                    \"phenotype_cluster_id\": cluster_id,\n",
    "                    \"phenotype\": phenotype_code,\n",
    "                    \"lv\": lv_code,\n",
    "                }\n",
    "            )\n",
    "\n",
    "phenotypes_lvs_pairs = pd.DataFrame(phenotypes_lvs_pairs).drop_duplicates()"
   ]
  },
  {
   "cell_type": "code",
   "execution_count": 31,
   "id": "fallen-fetish",
   "metadata": {
    "execution": {
     "iopub.execute_input": "2021-08-23T14:51:44.791789Z",
     "iopub.status.busy": "2021-08-23T14:51:44.791418Z",
     "iopub.status.idle": "2021-08-23T14:51:44.802844Z",
     "shell.execute_reply": "2021-08-23T14:51:44.802451Z"
    },
    "papermill": {
     "duration": 0.037125,
     "end_time": "2021-08-23T14:51:44.802934",
     "exception": false,
     "start_time": "2021-08-23T14:51:44.765809",
     "status": "completed"
    },
    "tags": []
   },
   "outputs": [],
   "source": [
    "phenotypes_lvs_pairs = phenotypes_lvs_pairs.sort_values(\"phenotype\").reset_index(\n",
    "    drop=True\n",
    ")"
   ]
  },
  {
   "cell_type": "code",
   "execution_count": 32,
   "id": "transparent-trouble",
   "metadata": {
    "execution": {
     "iopub.execute_input": "2021-08-23T14:51:44.853199Z",
     "iopub.status.busy": "2021-08-23T14:51:44.852819Z",
     "iopub.status.idle": "2021-08-23T14:51:44.864547Z",
     "shell.execute_reply": "2021-08-23T14:51:44.864157Z"
    },
    "papermill": {
     "duration": 0.038131,
     "end_time": "2021-08-23T14:51:44.864636",
     "exception": false,
     "start_time": "2021-08-23T14:51:44.826505",
     "status": "completed"
    },
    "tags": []
   },
   "outputs": [
    {
     "data": {
      "text/plain": [
       "(100, 4)"
      ]
     },
     "execution_count": 32,
     "metadata": {},
     "output_type": "execute_result"
    }
   ],
   "source": [
    "phenotypes_lvs_pairs.shape"
   ]
  },
  {
   "cell_type": "code",
   "execution_count": 33,
   "id": "contrary-correction",
   "metadata": {
    "execution": {
     "iopub.execute_input": "2021-08-23T14:51:44.915019Z",
     "iopub.status.busy": "2021-08-23T14:51:44.914632Z",
     "iopub.status.idle": "2021-08-23T14:51:44.928878Z",
     "shell.execute_reply": "2021-08-23T14:51:44.928565Z"
    },
    "papermill": {
     "duration": 0.040029,
     "end_time": "2021-08-23T14:51:44.928966",
     "exception": false,
     "start_time": "2021-08-23T14:51:44.888937",
     "status": "completed"
    },
    "tags": []
   },
   "outputs": [
    {
     "data": {
      "text/html": [
       "<div>\n",
       "<style scoped>\n",
       "    .dataframe tbody tr th:only-of-type {\n",
       "        vertical-align: middle;\n",
       "    }\n",
       "\n",
       "    .dataframe tbody tr th {\n",
       "        vertical-align: top;\n",
       "    }\n",
       "\n",
       "    .dataframe thead th {\n",
       "        text-align: right;\n",
       "    }\n",
       "</style>\n",
       "<table border=\"1\" class=\"dataframe\">\n",
       "  <thead>\n",
       "    <tr style=\"text-align: right;\">\n",
       "      <th></th>\n",
       "      <th>phenotype_part_k</th>\n",
       "      <th>phenotype_cluster_id</th>\n",
       "      <th>phenotype</th>\n",
       "      <th>lv</th>\n",
       "    </tr>\n",
       "  </thead>\n",
       "  <tbody>\n",
       "    <tr>\n",
       "      <th>0</th>\n",
       "      <td>29</td>\n",
       "      <td>12</td>\n",
       "      <td>30120_raw-Lymphocyte_count</td>\n",
       "      <td>LV644</td>\n",
       "    </tr>\n",
       "    <tr>\n",
       "      <th>1</th>\n",
       "      <td>29</td>\n",
       "      <td>12</td>\n",
       "      <td>30120_raw-Lymphocyte_count</td>\n",
       "      <td>LV335</td>\n",
       "    </tr>\n",
       "    <tr>\n",
       "      <th>2</th>\n",
       "      <td>29</td>\n",
       "      <td>12</td>\n",
       "      <td>30120_raw-Lymphocyte_count</td>\n",
       "      <td>LV34</td>\n",
       "    </tr>\n",
       "    <tr>\n",
       "      <th>3</th>\n",
       "      <td>29</td>\n",
       "      <td>12</td>\n",
       "      <td>30120_raw-Lymphocyte_count</td>\n",
       "      <td>LV444</td>\n",
       "    </tr>\n",
       "    <tr>\n",
       "      <th>4</th>\n",
       "      <td>29</td>\n",
       "      <td>12</td>\n",
       "      <td>30120_raw-Lymphocyte_count</td>\n",
       "      <td>LV705</td>\n",
       "    </tr>\n",
       "  </tbody>\n",
       "</table>\n",
       "</div>"
      ],
      "text/plain": [
       "   phenotype_part_k  phenotype_cluster_id                   phenotype     lv\n",
       "0                29                    12  30120_raw-Lymphocyte_count  LV644\n",
       "1                29                    12  30120_raw-Lymphocyte_count  LV335\n",
       "2                29                    12  30120_raw-Lymphocyte_count   LV34\n",
       "3                29                    12  30120_raw-Lymphocyte_count  LV444\n",
       "4                29                    12  30120_raw-Lymphocyte_count  LV705"
      ]
     },
     "execution_count": 33,
     "metadata": {},
     "output_type": "execute_result"
    }
   ],
   "source": [
    "phenotypes_lvs_pairs.head()"
   ]
  },
  {
   "cell_type": "markdown",
   "id": "portuguese-soundtrack",
   "metadata": {
    "papermill": {
     "duration": 0.023676,
     "end_time": "2021-08-23T14:51:44.976780",
     "exception": false,
     "start_time": "2021-08-23T14:51:44.953104",
     "status": "completed"
    },
    "tags": []
   },
   "source": [
    "## Run"
   ]
  },
  {
   "cell_type": "code",
   "execution_count": 34,
   "id": "interior-crack",
   "metadata": {
    "execution": {
     "iopub.execute_input": "2021-08-23T14:51:45.028593Z",
     "iopub.status.busy": "2021-08-23T14:51:45.028108Z",
     "iopub.status.idle": "2021-08-23T15:08:09.434065Z",
     "shell.execute_reply": "2021-08-23T15:08:09.432490Z"
    },
    "papermill": {
     "duration": 984.433678,
     "end_time": "2021-08-23T15:08:09.434163",
     "exception": false,
     "start_time": "2021-08-23T14:51:45.000485",
     "status": "completed"
    },
    "tags": []
   },
   "outputs": [
    {
     "name": "stderr",
     "output_type": "stream",
     "text": [
      "asthma - LV335: 100%|██████████| 100/100 [16:24<00:00,  9.84s/it]\n"
     ]
    }
   ],
   "source": [
    "results = []\n",
    "\n",
    "pbar = tqdm(total=phenotypes_lvs_pairs.shape[0])\n",
    "\n",
    "for idx, row in phenotypes_lvs_pairs.iterrows():\n",
    "    phenotype_code = row[\"phenotype\"]\n",
    "    lv_code = row[\"lv\"]\n",
    "\n",
    "    pbar.set_description(f\"{phenotype_code} - {lv_code}\")\n",
    "\n",
    "    gls_model = GLSPhenoplier(\n",
    "        smultixcan_result_set_filepath=conf.PHENOMEXCAN[\n",
    "            \"SMULTIXCAN_EFO_PARTIAL_MASHR_ZSCORES_FILE\"\n",
    "        ]\n",
    "    )\n",
    "    gls_model.fit_named(lv_code, phenotype_code)\n",
    "    res = gls_model.results\n",
    "\n",
    "    results.append(\n",
    "        {\n",
    "            \"part_k\": row[\"phenotype_part_k\"],\n",
    "            \"cluster_id\": row[\"phenotype_cluster_id\"],\n",
    "            \"phenotype\": phenotype_code,\n",
    "            \"lv\": lv_code,\n",
    "            \"lv_with_pathway\": lv_code in well_aligned_lv_codes,\n",
    "            \"coef\": res.params.loc[\"lv\"],\n",
    "            \"pvalue\": res.pvalues_onesided.loc[\"lv\"],\n",
    "            \"pvalue_twosided\": res.pvalues.loc[\"lv\"],\n",
    "            \"summary\": gls_model.results_summary,\n",
    "        }\n",
    "    )\n",
    "\n",
    "    # save results every 10 models trained\n",
    "    if (idx % 10) == 0:\n",
    "        pd.DataFrame(results).to_pickle(OUTPUT_FILENAME)\n",
    "\n",
    "    pbar.update(1)\n",
    "\n",
    "pbar.close()"
   ]
  },
  {
   "cell_type": "code",
   "execution_count": 35,
   "id": "spread-copying",
   "metadata": {
    "execution": {
     "iopub.execute_input": "2021-08-23T15:08:09.553623Z",
     "iopub.status.busy": "2021-08-23T15:08:09.553233Z",
     "iopub.status.idle": "2021-08-23T15:08:09.565342Z",
     "shell.execute_reply": "2021-08-23T15:08:09.564948Z"
    },
    "papermill": {
     "duration": 0.070771,
     "end_time": "2021-08-23T15:08:09.565432",
     "exception": false,
     "start_time": "2021-08-23T15:08:09.494661",
     "status": "completed"
    },
    "tags": []
   },
   "outputs": [],
   "source": [
    "results = pd.DataFrame(results)"
   ]
  },
  {
   "cell_type": "code",
   "execution_count": 36,
   "id": "hawaiian-musical",
   "metadata": {
    "execution": {
     "iopub.execute_input": "2021-08-23T15:08:09.688696Z",
     "iopub.status.busy": "2021-08-23T15:08:09.688318Z",
     "iopub.status.idle": "2021-08-23T15:08:09.699432Z",
     "shell.execute_reply": "2021-08-23T15:08:09.699747Z"
    },
    "papermill": {
     "duration": 0.074795,
     "end_time": "2021-08-23T15:08:09.699861",
     "exception": false,
     "start_time": "2021-08-23T15:08:09.625066",
     "status": "completed"
    },
    "tags": []
   },
   "outputs": [
    {
     "data": {
      "text/plain": [
       "(100, 9)"
      ]
     },
     "execution_count": 36,
     "metadata": {},
     "output_type": "execute_result"
    }
   ],
   "source": [
    "results.shape"
   ]
  },
  {
   "cell_type": "code",
   "execution_count": 37,
   "id": "raising-rainbow",
   "metadata": {
    "execution": {
     "iopub.execute_input": "2021-08-23T15:08:09.815243Z",
     "iopub.status.busy": "2021-08-23T15:08:09.814827Z",
     "iopub.status.idle": "2021-08-23T15:08:09.847603Z",
     "shell.execute_reply": "2021-08-23T15:08:09.847235Z"
    },
    "papermill": {
     "duration": 0.09024,
     "end_time": "2021-08-23T15:08:09.847690",
     "exception": false,
     "start_time": "2021-08-23T15:08:09.757450",
     "status": "completed"
    },
    "tags": []
   },
   "outputs": [
    {
     "data": {
      "text/html": [
       "<div>\n",
       "<style scoped>\n",
       "    .dataframe tbody tr th:only-of-type {\n",
       "        vertical-align: middle;\n",
       "    }\n",
       "\n",
       "    .dataframe tbody tr th {\n",
       "        vertical-align: top;\n",
       "    }\n",
       "\n",
       "    .dataframe thead th {\n",
       "        text-align: right;\n",
       "    }\n",
       "</style>\n",
       "<table border=\"1\" class=\"dataframe\">\n",
       "  <thead>\n",
       "    <tr style=\"text-align: right;\">\n",
       "      <th></th>\n",
       "      <th>part_k</th>\n",
       "      <th>cluster_id</th>\n",
       "      <th>phenotype</th>\n",
       "      <th>lv</th>\n",
       "      <th>lv_with_pathway</th>\n",
       "      <th>coef</th>\n",
       "      <th>pvalue</th>\n",
       "      <th>pvalue_twosided</th>\n",
       "      <th>summary</th>\n",
       "    </tr>\n",
       "  </thead>\n",
       "  <tbody>\n",
       "    <tr>\n",
       "      <th>0</th>\n",
       "      <td>29</td>\n",
       "      <td>12</td>\n",
       "      <td>30120_raw-Lymphocyte_count</td>\n",
       "      <td>LV644</td>\n",
       "      <td>False</td>\n",
       "      <td>0.000996</td>\n",
       "      <td>0.468635</td>\n",
       "      <td>0.937271</td>\n",
       "      <td>GLS Regression Res...</td>\n",
       "    </tr>\n",
       "    <tr>\n",
       "      <th>1</th>\n",
       "      <td>29</td>\n",
       "      <td>12</td>\n",
       "      <td>30120_raw-Lymphocyte_count</td>\n",
       "      <td>LV335</td>\n",
       "      <td>True</td>\n",
       "      <td>0.003096</td>\n",
       "      <td>0.405843</td>\n",
       "      <td>0.811686</td>\n",
       "      <td>GLS Regression Res...</td>\n",
       "    </tr>\n",
       "    <tr>\n",
       "      <th>2</th>\n",
       "      <td>29</td>\n",
       "      <td>12</td>\n",
       "      <td>30120_raw-Lymphocyte_count</td>\n",
       "      <td>LV34</td>\n",
       "      <td>True</td>\n",
       "      <td>0.045025</td>\n",
       "      <td>0.000219</td>\n",
       "      <td>0.000439</td>\n",
       "      <td>GLS Regression Res...</td>\n",
       "    </tr>\n",
       "    <tr>\n",
       "      <th>3</th>\n",
       "      <td>29</td>\n",
       "      <td>12</td>\n",
       "      <td>30120_raw-Lymphocyte_count</td>\n",
       "      <td>LV444</td>\n",
       "      <td>False</td>\n",
       "      <td>0.001527</td>\n",
       "      <td>0.452213</td>\n",
       "      <td>0.904427</td>\n",
       "      <td>GLS Regression Res...</td>\n",
       "    </tr>\n",
       "    <tr>\n",
       "      <th>4</th>\n",
       "      <td>29</td>\n",
       "      <td>12</td>\n",
       "      <td>30120_raw-Lymphocyte_count</td>\n",
       "      <td>LV705</td>\n",
       "      <td>True</td>\n",
       "      <td>0.031607</td>\n",
       "      <td>0.006947</td>\n",
       "      <td>0.013893</td>\n",
       "      <td>GLS Regression Res...</td>\n",
       "    </tr>\n",
       "  </tbody>\n",
       "</table>\n",
       "</div>"
      ],
      "text/plain": [
       "   part_k  cluster_id                   phenotype     lv  lv_with_pathway  \\\n",
       "0      29          12  30120_raw-Lymphocyte_count  LV644            False   \n",
       "1      29          12  30120_raw-Lymphocyte_count  LV335             True   \n",
       "2      29          12  30120_raw-Lymphocyte_count   LV34             True   \n",
       "3      29          12  30120_raw-Lymphocyte_count  LV444            False   \n",
       "4      29          12  30120_raw-Lymphocyte_count  LV705             True   \n",
       "\n",
       "       coef    pvalue  pvalue_twosided  \\\n",
       "0  0.000996  0.468635         0.937271   \n",
       "1  0.003096  0.405843         0.811686   \n",
       "2  0.045025  0.000219         0.000439   \n",
       "3  0.001527  0.452213         0.904427   \n",
       "4  0.031607  0.006947         0.013893   \n",
       "\n",
       "                                             summary  \n",
       "0                              GLS Regression Res...  \n",
       "1                              GLS Regression Res...  \n",
       "2                              GLS Regression Res...  \n",
       "3                              GLS Regression Res...  \n",
       "4                              GLS Regression Res...  "
      ]
     },
     "execution_count": 37,
     "metadata": {},
     "output_type": "execute_result"
    }
   ],
   "source": [
    "results.head()"
   ]
  },
  {
   "cell_type": "code",
   "execution_count": 38,
   "id": "disciplinary-magnitude",
   "metadata": {
    "execution": {
     "iopub.execute_input": "2021-08-23T15:08:09.964239Z",
     "iopub.status.busy": "2021-08-23T15:08:09.963818Z",
     "iopub.status.idle": "2021-08-23T15:08:10.013086Z",
     "shell.execute_reply": "2021-08-23T15:08:10.012773Z"
    },
    "papermill": {
     "duration": 0.107933,
     "end_time": "2021-08-23T15:08:10.013175",
     "exception": false,
     "start_time": "2021-08-23T15:08:09.905242",
     "status": "completed"
    },
    "tags": []
   },
   "outputs": [
    {
     "data": {
      "text/html": [
       "<div>\n",
       "<style scoped>\n",
       "    .dataframe tbody tr th:only-of-type {\n",
       "        vertical-align: middle;\n",
       "    }\n",
       "\n",
       "    .dataframe tbody tr th {\n",
       "        vertical-align: top;\n",
       "    }\n",
       "\n",
       "    .dataframe thead th {\n",
       "        text-align: right;\n",
       "    }\n",
       "</style>\n",
       "<table border=\"1\" class=\"dataframe\">\n",
       "  <thead>\n",
       "    <tr style=\"text-align: right;\">\n",
       "      <th></th>\n",
       "      <th>part_k</th>\n",
       "      <th>cluster_id</th>\n",
       "      <th>phenotype</th>\n",
       "      <th>lv</th>\n",
       "      <th>lv_with_pathway</th>\n",
       "      <th>coef</th>\n",
       "      <th>pvalue</th>\n",
       "      <th>pvalue_twosided</th>\n",
       "      <th>summary</th>\n",
       "    </tr>\n",
       "  </thead>\n",
       "  <tbody>\n",
       "    <tr>\n",
       "      <th>36</th>\n",
       "      <td>29</td>\n",
       "      <td>12</td>\n",
       "      <td>6152_100-Blood_clot_DVT_bronchitis_emphysema_a...</td>\n",
       "      <td>LV948</td>\n",
       "      <td>False</td>\n",
       "      <td>0.086323</td>\n",
       "      <td>3.299886e-12</td>\n",
       "      <td>6.599773e-12</td>\n",
       "      <td>GLS Regression Res...</td>\n",
       "    </tr>\n",
       "    <tr>\n",
       "      <th>34</th>\n",
       "      <td>29</td>\n",
       "      <td>12</td>\n",
       "      <td>6152_100-Blood_clot_DVT_bronchitis_emphysema_a...</td>\n",
       "      <td>LV96</td>\n",
       "      <td>True</td>\n",
       "      <td>0.085516</td>\n",
       "      <td>5.506865e-12</td>\n",
       "      <td>1.101373e-11</td>\n",
       "      <td>GLS Regression Res...</td>\n",
       "    </tr>\n",
       "    <tr>\n",
       "      <th>80</th>\n",
       "      <td>29</td>\n",
       "      <td>12</td>\n",
       "      <td>asthma</td>\n",
       "      <td>LV207</td>\n",
       "      <td>False</td>\n",
       "      <td>0.084608</td>\n",
       "      <td>1.191771e-11</td>\n",
       "      <td>2.383542e-11</td>\n",
       "      <td>GLS Regression Res...</td>\n",
       "    </tr>\n",
       "    <tr>\n",
       "      <th>49</th>\n",
       "      <td>29</td>\n",
       "      <td>12</td>\n",
       "      <td>6152_8-Blood_clot_DVT_bronchitis_emphysema_ast...</td>\n",
       "      <td>LV207</td>\n",
       "      <td>False</td>\n",
       "      <td>0.083574</td>\n",
       "      <td>2.052668e-11</td>\n",
       "      <td>4.105337e-11</td>\n",
       "      <td>GLS Regression Res...</td>\n",
       "    </tr>\n",
       "    <tr>\n",
       "      <th>73</th>\n",
       "      <td>29</td>\n",
       "      <td>12</td>\n",
       "      <td>6152_9-Blood_clot_DVT_bronchitis_emphysema_ast...</td>\n",
       "      <td>LV948</td>\n",
       "      <td>False</td>\n",
       "      <td>0.082493</td>\n",
       "      <td>2.536922e-11</td>\n",
       "      <td>5.073843e-11</td>\n",
       "      <td>GLS Regression Res...</td>\n",
       "    </tr>\n",
       "    <tr>\n",
       "      <th>94</th>\n",
       "      <td>29</td>\n",
       "      <td>12</td>\n",
       "      <td>asthma</td>\n",
       "      <td>LV948</td>\n",
       "      <td>False</td>\n",
       "      <td>0.076148</td>\n",
       "      <td>1.011494e-09</td>\n",
       "      <td>2.022989e-09</td>\n",
       "      <td>GLS Regression Res...</td>\n",
       "    </tr>\n",
       "    <tr>\n",
       "      <th>92</th>\n",
       "      <td>29</td>\n",
       "      <td>12</td>\n",
       "      <td>asthma</td>\n",
       "      <td>LV96</td>\n",
       "      <td>True</td>\n",
       "      <td>0.074659</td>\n",
       "      <td>2.171634e-09</td>\n",
       "      <td>4.343268e-09</td>\n",
       "      <td>GLS Regression Res...</td>\n",
       "    </tr>\n",
       "    <tr>\n",
       "      <th>30</th>\n",
       "      <td>29</td>\n",
       "      <td>12</td>\n",
       "      <td>6152_100-Blood_clot_DVT_bronchitis_emphysema_a...</td>\n",
       "      <td>LV942</td>\n",
       "      <td>True</td>\n",
       "      <td>0.072792</td>\n",
       "      <td>3.880992e-09</td>\n",
       "      <td>7.761983e-09</td>\n",
       "      <td>GLS Regression Res...</td>\n",
       "    </tr>\n",
       "    <tr>\n",
       "      <th>77</th>\n",
       "      <td>29</td>\n",
       "      <td>12</td>\n",
       "      <td>6152_9-Blood_clot_DVT_bronchitis_emphysema_ast...</td>\n",
       "      <td>LV96</td>\n",
       "      <td>True</td>\n",
       "      <td>0.072162</td>\n",
       "      <td>4.840323e-09</td>\n",
       "      <td>9.680647e-09</td>\n",
       "      <td>GLS Regression Res...</td>\n",
       "    </tr>\n",
       "    <tr>\n",
       "      <th>53</th>\n",
       "      <td>29</td>\n",
       "      <td>12</td>\n",
       "      <td>6152_8-Blood_clot_DVT_bronchitis_emphysema_ast...</td>\n",
       "      <td>LV948</td>\n",
       "      <td>False</td>\n",
       "      <td>0.071636</td>\n",
       "      <td>8.440642e-09</td>\n",
       "      <td>1.688128e-08</td>\n",
       "      <td>GLS Regression Res...</td>\n",
       "    </tr>\n",
       "  </tbody>\n",
       "</table>\n",
       "</div>"
      ],
      "text/plain": [
       "    part_k  cluster_id                                          phenotype  \\\n",
       "36      29          12  6152_100-Blood_clot_DVT_bronchitis_emphysema_a...   \n",
       "34      29          12  6152_100-Blood_clot_DVT_bronchitis_emphysema_a...   \n",
       "80      29          12                                             asthma   \n",
       "49      29          12  6152_8-Blood_clot_DVT_bronchitis_emphysema_ast...   \n",
       "73      29          12  6152_9-Blood_clot_DVT_bronchitis_emphysema_ast...   \n",
       "94      29          12                                             asthma   \n",
       "92      29          12                                             asthma   \n",
       "30      29          12  6152_100-Blood_clot_DVT_bronchitis_emphysema_a...   \n",
       "77      29          12  6152_9-Blood_clot_DVT_bronchitis_emphysema_ast...   \n",
       "53      29          12  6152_8-Blood_clot_DVT_bronchitis_emphysema_ast...   \n",
       "\n",
       "       lv  lv_with_pathway      coef        pvalue  pvalue_twosided  \\\n",
       "36  LV948            False  0.086323  3.299886e-12     6.599773e-12   \n",
       "34   LV96             True  0.085516  5.506865e-12     1.101373e-11   \n",
       "80  LV207            False  0.084608  1.191771e-11     2.383542e-11   \n",
       "49  LV207            False  0.083574  2.052668e-11     4.105337e-11   \n",
       "73  LV948            False  0.082493  2.536922e-11     5.073843e-11   \n",
       "94  LV948            False  0.076148  1.011494e-09     2.022989e-09   \n",
       "92   LV96             True  0.074659  2.171634e-09     4.343268e-09   \n",
       "30  LV942             True  0.072792  3.880992e-09     7.761983e-09   \n",
       "77   LV96             True  0.072162  4.840323e-09     9.680647e-09   \n",
       "53  LV948            False  0.071636  8.440642e-09     1.688128e-08   \n",
       "\n",
       "                                              summary  \n",
       "36                              GLS Regression Res...  \n",
       "34                              GLS Regression Res...  \n",
       "80                              GLS Regression Res...  \n",
       "49                              GLS Regression Res...  \n",
       "73                              GLS Regression Res...  \n",
       "94                              GLS Regression Res...  \n",
       "92                              GLS Regression Res...  \n",
       "30                              GLS Regression Res...  \n",
       "77                              GLS Regression Res...  \n",
       "53                              GLS Regression Res...  "
      ]
     },
     "execution_count": 38,
     "metadata": {},
     "output_type": "execute_result"
    }
   ],
   "source": [
    "results.sort_values(\"pvalue\").head(10)"
   ]
  },
  {
   "cell_type": "markdown",
   "id": "sitting-cabin",
   "metadata": {
    "papermill": {
     "duration": 0.057359,
     "end_time": "2021-08-23T15:08:10.128430",
     "exception": false,
     "start_time": "2021-08-23T15:08:10.071071",
     "status": "completed"
    },
    "tags": []
   },
   "source": [
    "## Save"
   ]
  },
  {
   "cell_type": "code",
   "execution_count": 39,
   "id": "wrong-shower",
   "metadata": {
    "execution": {
     "iopub.execute_input": "2021-08-23T15:08:10.243872Z",
     "iopub.status.busy": "2021-08-23T15:08:10.243472Z",
     "iopub.status.idle": "2021-08-23T15:08:10.267798Z",
     "shell.execute_reply": "2021-08-23T15:08:10.267375Z"
    },
    "papermill": {
     "duration": 0.082725,
     "end_time": "2021-08-23T15:08:10.267904",
     "exception": false,
     "start_time": "2021-08-23T15:08:10.185179",
     "status": "completed"
    },
    "tags": []
   },
   "outputs": [],
   "source": [
    "results.to_pickle(OUTPUT_FILENAME)"
   ]
  },
  {
   "cell_type": "code",
   "execution_count": null,
   "id": "pharmaceutical-egypt",
   "metadata": {
    "papermill": {
     "duration": 0.056072,
     "end_time": "2021-08-23T15:08:10.381606",
     "exception": false,
     "start_time": "2021-08-23T15:08:10.325534",
     "status": "completed"
    },
    "tags": []
   },
   "outputs": [],
   "source": []
  }
 ],
 "metadata": {
  "jupytext": {
   "cell_metadata_filter": "all,-execution,-papermill,-trusted",
   "formats": "ipynb,py//py:percent"
  },
  "kernelspec": {
   "display_name": "Python 3",
   "language": "python",
   "name": "python3"
  },
  "language_info": {
   "codemirror_mode": {
    "name": "ipython",
    "version": 3
   },
   "file_extension": ".py",
   "mimetype": "text/x-python",
   "name": "python",
   "nbconvert_exporter": "python",
   "pygments_lexer": "ipython3",
   "version": "3.8.8"
  },
  "papermill": {
   "default_parameters": {},
   "duration": 990.172862,
   "end_time": "2021-08-23T15:08:10.847382",
   "environment_variables": {},
   "exception": null,
   "input_path": "12_gsa_gls/32-gls_on_phenotypes-phenomexcan-asthma.ipynb",
   "output_path": "12_gsa_gls/32-gls_on_phenotypes-phenomexcan-asthma.run.ipynb",
   "parameters": {},
   "start_time": "2021-08-23T14:51:40.674520",
   "version": "2.2.2"
  }
 },
 "nbformat": 4,
 "nbformat_minor": 5
}
