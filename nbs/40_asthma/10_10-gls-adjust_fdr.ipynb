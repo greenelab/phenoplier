{
 "cells": [
  {
   "cell_type": "markdown",
   "id": "herbal-election",
   "metadata": {
    "papermill": {
     "duration": 0.007018,
     "end_time": "2021-10-07T13:37:12.163500",
     "exception": false,
     "start_time": "2021-10-07T13:37:12.156482",
     "status": "completed"
    },
    "tags": []
   },
   "source": [
    "# Description"
   ]
  },
  {
   "cell_type": "markdown",
   "id": "acting-insulation",
   "metadata": {
    "papermill": {
     "duration": 0.006132,
     "end_time": "2021-10-07T13:37:12.176007",
     "exception": false,
     "start_time": "2021-10-07T13:37:12.169875",
     "status": "completed"
    },
    "tags": []
   },
   "source": [
    "This notebook takes all results per cohort (PhenomeXcan and eMERGE), removes repeated runs, and adjust their pvalues."
   ]
  },
  {
   "cell_type": "markdown",
   "id": "executed-karma",
   "metadata": {
    "papermill": {
     "duration": 0.006171,
     "end_time": "2021-10-07T13:37:12.188462",
     "exception": false,
     "start_time": "2021-10-07T13:37:12.182291",
     "status": "completed"
    },
    "tags": []
   },
   "source": [
    "# Environment variables"
   ]
  },
  {
   "cell_type": "code",
   "execution_count": 1,
   "id": "continuous-simpson",
   "metadata": {
    "execution": {
     "iopub.execute_input": "2021-10-07T13:37:12.213234Z",
     "iopub.status.busy": "2021-10-07T13:37:12.212850Z",
     "iopub.status.idle": "2021-10-07T13:37:12.215291Z",
     "shell.execute_reply": "2021-10-07T13:37:12.215588Z"
    },
    "papermill": {
     "duration": 0.020893,
     "end_time": "2021-10-07T13:37:12.215743",
     "exception": false,
     "start_time": "2021-10-07T13:37:12.194850",
     "status": "completed"
    },
    "tags": []
   },
   "outputs": [],
   "source": [
    "%load_ext autoreload\n",
    "%autoreload 2"
   ]
  },
  {
   "cell_type": "code",
   "execution_count": 2,
   "id": "attended-muslim",
   "metadata": {
    "execution": {
     "iopub.execute_input": "2021-10-07T13:37:12.240417Z",
     "iopub.status.busy": "2021-10-07T13:37:12.240036Z",
     "iopub.status.idle": "2021-10-07T13:37:12.242273Z",
     "shell.execute_reply": "2021-10-07T13:37:12.242771Z"
    },
    "papermill": {
     "duration": 0.020734,
     "end_time": "2021-10-07T13:37:12.242872",
     "exception": false,
     "start_time": "2021-10-07T13:37:12.222138",
     "status": "completed"
    },
    "tags": []
   },
   "outputs": [],
   "source": [
    "import conf"
   ]
  },
  {
   "cell_type": "code",
   "execution_count": 3,
   "id": "excellent-wiring",
   "metadata": {
    "execution": {
     "iopub.execute_input": "2021-10-07T13:37:12.266240Z",
     "iopub.status.busy": "2021-10-07T13:37:12.265856Z",
     "iopub.status.idle": "2021-10-07T13:37:12.268163Z",
     "shell.execute_reply": "2021-10-07T13:37:12.268450Z"
    },
    "papermill": {
     "duration": 0.018978,
     "end_time": "2021-10-07T13:37:12.268553",
     "exception": false,
     "start_time": "2021-10-07T13:37:12.249575",
     "status": "completed"
    },
    "tags": []
   },
   "outputs": [
    {
     "data": {
      "text/plain": [
       "1"
      ]
     },
     "metadata": {},
     "output_type": "display_data"
    }
   ],
   "source": [
    "N_JOBS = conf.GENERAL[\"N_JOBS\"]\n",
    "display(N_JOBS)"
   ]
  },
  {
   "cell_type": "code",
   "execution_count": 4,
   "id": "nearby-stock",
   "metadata": {
    "execution": {
     "iopub.execute_input": "2021-10-07T13:37:12.290933Z",
     "iopub.status.busy": "2021-10-07T13:37:12.290481Z",
     "iopub.status.idle": "2021-10-07T13:37:12.292212Z",
     "shell.execute_reply": "2021-10-07T13:37:12.291282Z"
    },
    "papermill": {
     "duration": 0.016997,
     "end_time": "2021-10-07T13:37:12.292297",
     "exception": false,
     "start_time": "2021-10-07T13:37:12.275300",
     "status": "completed"
    },
    "tags": []
   },
   "outputs": [
    {
     "name": "stdout",
     "output_type": "stream",
     "text": [
      "env: MKL_NUM_THREADS=1\n",
      "env: OPEN_BLAS_NUM_THREADS=1\n",
      "env: NUMEXPR_NUM_THREADS=1\n",
      "env: OMP_NUM_THREADS=1\n"
     ]
    }
   ],
   "source": [
    "%env MKL_NUM_THREADS=$N_JOBS\n",
    "%env OPEN_BLAS_NUM_THREADS=$N_JOBS\n",
    "%env NUMEXPR_NUM_THREADS=$N_JOBS\n",
    "%env OMP_NUM_THREADS=$N_JOBS"
   ]
  },
  {
   "cell_type": "markdown",
   "id": "complimentary-shopping",
   "metadata": {
    "papermill": {
     "duration": 0.006618,
     "end_time": "2021-10-07T13:37:12.305708",
     "exception": false,
     "start_time": "2021-10-07T13:37:12.299090",
     "status": "completed"
    },
    "tags": []
   },
   "source": [
    "# Modules"
   ]
  },
  {
   "cell_type": "code",
   "execution_count": 5,
   "id": "express-calvin",
   "metadata": {
    "execution": {
     "iopub.execute_input": "2021-10-07T13:37:12.328242Z",
     "iopub.status.busy": "2021-10-07T13:37:12.327853Z",
     "iopub.status.idle": "2021-10-07T13:37:13.243065Z",
     "shell.execute_reply": "2021-10-07T13:37:13.243367Z"
    },
    "papermill": {
     "duration": 0.931065,
     "end_time": "2021-10-07T13:37:13.243478",
     "exception": false,
     "start_time": "2021-10-07T13:37:12.312413",
     "status": "completed"
    },
    "tags": []
   },
   "outputs": [],
   "source": [
    "import warnings\n",
    "from pathlib import Path\n",
    "\n",
    "import statsmodels.api as sm\n",
    "from statsmodels.stats.multitest import multipletests\n",
    "import numpy as np\n",
    "import pandas as pd\n",
    "from sklearn.preprocessing import scale\n",
    "from tqdm import tqdm\n",
    "\n",
    "from gls import GLSPhenoplier"
   ]
  },
  {
   "cell_type": "markdown",
   "id": "typical-organizer",
   "metadata": {
    "papermill": {
     "duration": 0.007518,
     "end_time": "2021-10-07T13:37:13.258092",
     "exception": false,
     "start_time": "2021-10-07T13:37:13.250574",
     "status": "completed"
    },
    "tags": []
   },
   "source": [
    "# Settings"
   ]
  },
  {
   "cell_type": "code",
   "execution_count": 6,
   "id": "provincial-inside",
   "metadata": {
    "execution": {
     "iopub.execute_input": "2021-10-07T13:37:13.283449Z",
     "iopub.status.busy": "2021-10-07T13:37:13.283046Z",
     "iopub.status.idle": "2021-10-07T13:37:13.286791Z",
     "shell.execute_reply": "2021-10-07T13:37:13.287420Z"
    },
    "papermill": {
     "duration": 0.022439,
     "end_time": "2021-10-07T13:37:13.287525",
     "exception": false,
     "start_time": "2021-10-07T13:37:13.265086",
     "status": "completed"
    },
    "tags": []
   },
   "outputs": [
    {
     "data": {
      "text/plain": [
       "PosixPath('/home/miltondp/projects/labs/greenelab/phenoplier-asthma/base/results/gls')"
      ]
     },
     "metadata": {},
     "output_type": "display_data"
    }
   ],
   "source": [
    "OUTPUT_DIR = conf.RESULTS[\"GLS\"]\n",
    "display(OUTPUT_DIR)\n",
    "\n",
    "assert OUTPUT_DIR.exists()"
   ]
  },
  {
   "cell_type": "markdown",
   "id": "mysterious-mixer",
   "metadata": {
    "papermill": {
     "duration": 0.007236,
     "end_time": "2021-10-07T13:37:13.301842",
     "exception": false,
     "start_time": "2021-10-07T13:37:13.294606",
     "status": "completed"
    },
    "tags": []
   },
   "source": [
    "# Get results files"
   ]
  },
  {
   "cell_type": "code",
   "execution_count": 7,
   "id": "bizarre-gravity",
   "metadata": {
    "execution": {
     "iopub.execute_input": "2021-10-07T13:37:13.328188Z",
     "iopub.status.busy": "2021-10-07T13:37:13.327799Z",
     "iopub.status.idle": "2021-10-07T13:37:13.330063Z",
     "shell.execute_reply": "2021-10-07T13:37:13.330543Z"
    },
    "papermill": {
     "duration": 0.021922,
     "end_time": "2021-10-07T13:37:13.330643",
     "exception": false,
     "start_time": "2021-10-07T13:37:13.308721",
     "status": "completed"
    },
    "tags": []
   },
   "outputs": [],
   "source": [
    "INPUT_FILES_PER_COHORT = {\n",
    "    \"phenomexcan\": list(OUTPUT_DIR.glob(\"gls_phenotypes*phenomexcan*.pkl\")),\n",
    "    \"emerge\": list(OUTPUT_DIR.glob(\"gls_phenotypes*emerge*.pkl\")),\n",
    "}"
   ]
  },
  {
   "cell_type": "code",
   "execution_count": 8,
   "id": "aggressive-county",
   "metadata": {
    "execution": {
     "iopub.execute_input": "2021-10-07T13:37:13.362389Z",
     "iopub.status.busy": "2021-10-07T13:37:13.362011Z",
     "iopub.status.idle": "2021-10-07T13:37:13.365990Z",
     "shell.execute_reply": "2021-10-07T13:37:13.366281Z"
    },
    "papermill": {
     "duration": 0.022021,
     "end_time": "2021-10-07T13:37:13.366386",
     "exception": false,
     "start_time": "2021-10-07T13:37:13.344365",
     "status": "completed"
    },
    "tags": []
   },
   "outputs": [
    {
     "data": {
      "text/plain": [
       "{'phenomexcan': [PosixPath('/home/miltondp/projects/labs/greenelab/phenoplier-asthma/base/results/gls/gls_phenotypes-phenomexcan-asthma.pkl')],\n",
       " 'emerge': [PosixPath('/home/miltondp/projects/labs/greenelab/phenoplier-asthma/base/results/gls/gls_phenotypes-emerge-asthma.pkl')]}"
      ]
     },
     "metadata": {},
     "output_type": "display_data"
    }
   ],
   "source": [
    "display(INPUT_FILES_PER_COHORT)"
   ]
  },
  {
   "cell_type": "markdown",
   "id": "individual-moscow",
   "metadata": {
    "papermill": {
     "duration": 0.007199,
     "end_time": "2021-10-07T13:37:13.380922",
     "exception": false,
     "start_time": "2021-10-07T13:37:13.373723",
     "status": "completed"
    },
    "tags": []
   },
   "source": [
    "# Combine by cohort"
   ]
  },
  {
   "cell_type": "code",
   "execution_count": 9,
   "id": "republican-charm",
   "metadata": {
    "execution": {
     "iopub.execute_input": "2021-10-07T13:37:13.404864Z",
     "iopub.status.busy": "2021-10-07T13:37:13.404468Z",
     "iopub.status.idle": "2021-10-07T13:37:16.298532Z",
     "shell.execute_reply": "2021-10-07T13:37:16.298939Z"
    },
    "papermill": {
     "duration": 2.910685,
     "end_time": "2021-10-07T13:37:16.299061",
     "exception": false,
     "start_time": "2021-10-07T13:37:13.388376",
     "status": "completed"
    },
    "tags": []
   },
   "outputs": [
    {
     "data": {
      "text/plain": [
       "'phenomexcan'"
      ]
     },
     "metadata": {},
     "output_type": "display_data"
    },
    {
     "data": {
      "text/plain": [
       "PosixPath('/home/miltondp/projects/labs/greenelab/phenoplier-asthma/base/results/gls/gls_phenotypes-combined-phenomexcan.pkl')"
      ]
     },
     "metadata": {},
     "output_type": "display_data"
    },
    {
     "data": {
      "text/plain": [
       "'emerge'"
      ]
     },
     "metadata": {},
     "output_type": "display_data"
    },
    {
     "data": {
      "text/plain": [
       "PosixPath('/home/miltondp/projects/labs/greenelab/phenoplier-asthma/base/results/gls/gls_phenotypes-combined-emerge.pkl')"
      ]
     },
     "metadata": {},
     "output_type": "display_data"
    }
   ],
   "source": [
    "for cohort, result_files in INPUT_FILES_PER_COHORT.items():\n",
    "    display(cohort)\n",
    "\n",
    "    if len(result_files) == 0:\n",
    "        warning.warning(\"Empty\")\n",
    "        continue\n",
    "\n",
    "    dfs = []\n",
    "    for res in result_files:\n",
    "        dfs.append(pd.read_pickle(res))\n",
    "\n",
    "    dfs = pd.concat(dfs, ignore_index=True)\n",
    "\n",
    "    # remove duplicate tests/runs\n",
    "    # This can happen because in PhenomeXcan I select LV-trait pairs by their\n",
    "    # associationfrom the clustering results (notebooks 30-, 31-) or from the\n",
    "    # CRISPR results (notebook 40-). And they might overlap.\n",
    "    dfs = dfs.drop_duplicates(subset=[\"phenotype\", \"lv\"])\n",
    "\n",
    "    # adjust pvalues\n",
    "    adj_pval = multipletests(dfs[\"pvalue\"], alpha=0.05, method=\"fdr_bh\")\n",
    "    dfs = dfs.assign(fdr=adj_pval[1])\n",
    "\n",
    "    # drop unneeded columns\n",
    "    dfs = dfs.drop(columns=[\"lv_set\", \"lv_with_pathway\", \"summary\"], errors=\"ignore\")\n",
    "\n",
    "    output_file = OUTPUT_DIR / f\"gls_phenotypes-combined-{cohort}.pkl\"\n",
    "    display(output_file)\n",
    "\n",
    "    dfs.to_pickle(output_file)"
   ]
  },
  {
   "cell_type": "code",
   "execution_count": null,
   "id": "fallen-slovenia",
   "metadata": {
    "papermill": {
     "duration": 0.00846,
     "end_time": "2021-10-07T13:37:16.316670",
     "exception": false,
     "start_time": "2021-10-07T13:37:16.308210",
     "status": "completed"
    },
    "tags": []
   },
   "outputs": [],
   "source": []
  }
 ],
 "metadata": {
  "jupytext": {
   "cell_metadata_filter": "all,-execution,-papermill,-trusted",
   "formats": "ipynb,py//py:percent"
  },
  "kernelspec": {
   "display_name": "Python 3",
   "language": "python",
   "name": "python3"
  },
  "language_info": {
   "codemirror_mode": {
    "name": "ipython",
    "version": 3
   },
   "file_extension": ".py",
   "mimetype": "text/x-python",
   "name": "python",
   "nbconvert_exporter": "python",
   "pygments_lexer": "ipython3",
   "version": "3.8.8"
  },
  "papermill": {
   "default_parameters": {},
   "duration": 5.965216,
   "end_time": "2021-10-07T13:37:17.142695",
   "environment_variables": {},
   "exception": null,
   "input_path": "40_asthma/10_10-gls-adjust_fdr.ipynb",
   "output_path": "40_asthma/10_10-gls-adjust_fdr.run.ipynb",
   "parameters": {},
   "start_time": "2021-10-07T13:37:11.177479",
   "version": "2.2.2"
  }
 },
 "nbformat": 4,
 "nbformat_minor": 5
}
