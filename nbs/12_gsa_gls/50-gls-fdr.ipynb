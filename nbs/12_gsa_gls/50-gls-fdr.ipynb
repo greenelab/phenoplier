{
 "cells": [
  {
   "cell_type": "markdown",
   "id": "ambient-rating",
   "metadata": {
    "papermill": {
     "duration": 0.009833,
     "end_time": "2021-07-23T17:25:55.954498",
     "exception": false,
     "start_time": "2021-07-23T17:25:55.944665",
     "status": "completed"
    },
    "tags": []
   },
   "source": [
    "# Description"
   ]
  },
  {
   "cell_type": "markdown",
   "id": "indie-bacon",
   "metadata": {
    "papermill": {
     "duration": 0.005707,
     "end_time": "2021-07-23T17:25:55.966328",
     "exception": false,
     "start_time": "2021-07-23T17:25:55.960621",
     "status": "completed"
    },
    "tags": []
   },
   "source": [
    "This notebook takes all results per cohort (PhenomeXcan and eMERGE), removes repeated runs, and adjust their pvalues."
   ]
  },
  {
   "cell_type": "markdown",
   "id": "optical-dublin",
   "metadata": {
    "papermill": {
     "duration": 0.005793,
     "end_time": "2021-07-23T17:25:55.978150",
     "exception": false,
     "start_time": "2021-07-23T17:25:55.972357",
     "status": "completed"
    },
    "tags": []
   },
   "source": [
    "# Environment variables"
   ]
  },
  {
   "cell_type": "code",
   "execution_count": 1,
   "id": "complicated-power",
   "metadata": {
    "execution": {
     "iopub.execute_input": "2021-07-23T17:25:55.996821Z",
     "iopub.status.busy": "2021-07-23T17:25:55.996367Z",
     "iopub.status.idle": "2021-07-23T17:25:56.004287Z",
     "shell.execute_reply": "2021-07-23T17:25:56.003846Z"
    },
    "papermill": {
     "duration": 0.020318,
     "end_time": "2021-07-23T17:25:56.004379",
     "exception": false,
     "start_time": "2021-07-23T17:25:55.984061",
     "status": "completed"
    },
    "tags": []
   },
   "outputs": [],
   "source": [
    "%load_ext autoreload\n",
    "%autoreload 2"
   ]
  },
  {
   "cell_type": "code",
   "execution_count": 2,
   "id": "sharing-vacuum",
   "metadata": {
    "execution": {
     "iopub.execute_input": "2021-07-23T17:25:56.019376Z",
     "iopub.status.busy": "2021-07-23T17:25:56.019007Z",
     "iopub.status.idle": "2021-07-23T17:25:56.028595Z",
     "shell.execute_reply": "2021-07-23T17:25:56.028265Z"
    },
    "papermill": {
     "duration": 0.018095,
     "end_time": "2021-07-23T17:25:56.028679",
     "exception": false,
     "start_time": "2021-07-23T17:25:56.010584",
     "status": "completed"
    },
    "tags": []
   },
   "outputs": [],
   "source": [
    "import conf"
   ]
  },
  {
   "cell_type": "code",
   "execution_count": 3,
   "id": "educational-container",
   "metadata": {
    "execution": {
     "iopub.execute_input": "2021-07-23T17:25:56.043322Z",
     "iopub.status.busy": "2021-07-23T17:25:56.042959Z",
     "iopub.status.idle": "2021-07-23T17:25:56.053304Z",
     "shell.execute_reply": "2021-07-23T17:25:56.052919Z"
    },
    "papermill": {
     "duration": 0.018378,
     "end_time": "2021-07-23T17:25:56.053394",
     "exception": false,
     "start_time": "2021-07-23T17:25:56.035016",
     "status": "completed"
    },
    "tags": []
   },
   "outputs": [
    {
     "data": {
      "text/plain": [
       "3"
      ]
     },
     "metadata": {},
     "output_type": "display_data"
    }
   ],
   "source": [
    "N_JOBS = conf.GENERAL[\"N_JOBS\"]\n",
    "display(N_JOBS)"
   ]
  },
  {
   "cell_type": "code",
   "execution_count": 4,
   "id": "aware-identifier",
   "metadata": {
    "execution": {
     "iopub.execute_input": "2021-07-23T17:25:56.070597Z",
     "iopub.status.busy": "2021-07-23T17:25:56.070205Z",
     "iopub.status.idle": "2021-07-23T17:25:56.076785Z",
     "shell.execute_reply": "2021-07-23T17:25:56.076385Z"
    },
    "papermill": {
     "duration": 0.016606,
     "end_time": "2021-07-23T17:25:56.076874",
     "exception": false,
     "start_time": "2021-07-23T17:25:56.060268",
     "status": "completed"
    },
    "tags": []
   },
   "outputs": [
    {
     "name": "stdout",
     "output_type": "stream",
     "text": [
      "env: MKL_NUM_THREADS=3\n",
      "env: OPEN_BLAS_NUM_THREADS=3\n",
      "env: NUMEXPR_NUM_THREADS=3\n",
      "env: OMP_NUM_THREADS=3\n"
     ]
    }
   ],
   "source": [
    "%env MKL_NUM_THREADS=$N_JOBS\n",
    "%env OPEN_BLAS_NUM_THREADS=$N_JOBS\n",
    "%env NUMEXPR_NUM_THREADS=$N_JOBS\n",
    "%env OMP_NUM_THREADS=$N_JOBS"
   ]
  },
  {
   "cell_type": "markdown",
   "id": "ambient-fiction",
   "metadata": {
    "papermill": {
     "duration": 0.006813,
     "end_time": "2021-07-23T17:25:56.090647",
     "exception": false,
     "start_time": "2021-07-23T17:25:56.083834",
     "status": "completed"
    },
    "tags": []
   },
   "source": [
    "# Modules"
   ]
  },
  {
   "cell_type": "code",
   "execution_count": 5,
   "id": "grand-cylinder",
   "metadata": {
    "execution": {
     "iopub.execute_input": "2021-07-23T17:25:56.107033Z",
     "iopub.status.busy": "2021-07-23T17:25:56.106639Z",
     "iopub.status.idle": "2021-07-23T17:25:56.876353Z",
     "shell.execute_reply": "2021-07-23T17:25:56.875920Z"
    },
    "papermill": {
     "duration": 0.778949,
     "end_time": "2021-07-23T17:25:56.876453",
     "exception": false,
     "start_time": "2021-07-23T17:25:56.097504",
     "status": "completed"
    },
    "tags": []
   },
   "outputs": [],
   "source": [
    "from pathlib import Path\n",
    "\n",
    "import statsmodels.api as sm\n",
    "from statsmodels.stats.multitest import multipletests\n",
    "import numpy as np\n",
    "import pandas as pd\n",
    "from sklearn.preprocessing import scale\n",
    "from tqdm import tqdm\n",
    "\n",
    "from gls import GLSPhenoplier"
   ]
  },
  {
   "cell_type": "markdown",
   "id": "conventional-bahamas",
   "metadata": {
    "papermill": {
     "duration": 0.006703,
     "end_time": "2021-07-23T17:25:56.890565",
     "exception": false,
     "start_time": "2021-07-23T17:25:56.883862",
     "status": "completed"
    },
    "tags": []
   },
   "source": [
    "# Settings"
   ]
  },
  {
   "cell_type": "code",
   "execution_count": 6,
   "id": "based-education",
   "metadata": {
    "execution": {
     "iopub.execute_input": "2021-07-23T17:25:56.905976Z",
     "iopub.status.busy": "2021-07-23T17:25:56.905611Z",
     "iopub.status.idle": "2021-07-23T17:25:56.916535Z",
     "shell.execute_reply": "2021-07-23T17:25:56.916843Z"
    },
    "papermill": {
     "duration": 0.019873,
     "end_time": "2021-07-23T17:25:56.916952",
     "exception": false,
     "start_time": "2021-07-23T17:25:56.897079",
     "status": "completed"
    },
    "tags": []
   },
   "outputs": [
    {
     "data": {
      "text/plain": [
       "PosixPath('/home/miltondp/projects/labs/greenelab/phenoplier/base/results/gls')"
      ]
     },
     "metadata": {},
     "output_type": "display_data"
    }
   ],
   "source": [
    "OUTPUT_DIR = conf.RESULTS[\"GLS\"]\n",
    "display(OUTPUT_DIR)\n",
    "\n",
    "assert OUTPUT_DIR.exists()"
   ]
  },
  {
   "cell_type": "markdown",
   "id": "opposed-barbados",
   "metadata": {
    "papermill": {
     "duration": 0.007055,
     "end_time": "2021-07-23T17:25:56.931254",
     "exception": false,
     "start_time": "2021-07-23T17:25:56.924199",
     "status": "completed"
    },
    "tags": []
   },
   "source": [
    "# Get results files"
   ]
  },
  {
   "cell_type": "code",
   "execution_count": 7,
   "id": "celtic-retail",
   "metadata": {
    "execution": {
     "iopub.execute_input": "2021-07-23T17:25:56.947929Z",
     "iopub.status.busy": "2021-07-23T17:25:56.947533Z",
     "iopub.status.idle": "2021-07-23T17:25:56.958842Z",
     "shell.execute_reply": "2021-07-23T17:25:56.958519Z"
    },
    "papermill": {
     "duration": 0.020631,
     "end_time": "2021-07-23T17:25:56.958932",
     "exception": false,
     "start_time": "2021-07-23T17:25:56.938301",
     "status": "completed"
    },
    "tags": []
   },
   "outputs": [],
   "source": [
    "INPUT_FILES_PER_COHORT = {\n",
    "    \"phenomexcan\": list(OUTPUT_DIR.glob(\"gls_phenotypes*phenomexcan*.pkl\")),\n",
    "    \"emerge\": list(OUTPUT_DIR.glob(\"gls_phenotypes*emerge*.pkl\")),\n",
    "}"
   ]
  },
  {
   "cell_type": "code",
   "execution_count": 8,
   "id": "lyric-optics",
   "metadata": {
    "execution": {
     "iopub.execute_input": "2021-07-23T17:25:56.975594Z",
     "iopub.status.busy": "2021-07-23T17:25:56.975205Z",
     "iopub.status.idle": "2021-07-23T17:25:56.987270Z",
     "shell.execute_reply": "2021-07-23T17:25:56.986881Z"
    },
    "papermill": {
     "duration": 0.021133,
     "end_time": "2021-07-23T17:25:56.987356",
     "exception": false,
     "start_time": "2021-07-23T17:25:56.966223",
     "status": "completed"
    },
    "tags": []
   },
   "outputs": [
    {
     "data": {
      "text/plain": [
       "{'phenomexcan': [PosixPath('/home/miltondp/projects/labs/greenelab/phenoplier/base/results/gls/gls_phenotypes-combined-phenomexcan.pkl'),\n",
       "  PosixPath('/home/miltondp/projects/labs/greenelab/phenoplier/base/results/gls/gls_phenotypes-phenomexcan-2.pkl'),\n",
       "  PosixPath('/home/miltondp/projects/labs/greenelab/phenoplier/base/results/gls/gls_phenotypes-crispr_lvs-phenomexcan.pkl'),\n",
       "  PosixPath('/home/miltondp/projects/labs/greenelab/phenoplier/base/results/gls/gls_phenotypes-phenomexcan.pkl')],\n",
       " 'emerge': [PosixPath('/home/miltondp/projects/labs/greenelab/phenoplier/base/results/gls/gls_phenotypes-combined-emerge.pkl'),\n",
       "  PosixPath('/home/miltondp/projects/labs/greenelab/phenoplier/base/results/gls/gls_phenotypes-emerge.pkl')]}"
      ]
     },
     "metadata": {},
     "output_type": "display_data"
    }
   ],
   "source": [
    "display(INPUT_FILES_PER_COHORT)"
   ]
  },
  {
   "cell_type": "markdown",
   "id": "retained-observer",
   "metadata": {
    "papermill": {
     "duration": 0.007348,
     "end_time": "2021-07-23T17:25:57.002214",
     "exception": false,
     "start_time": "2021-07-23T17:25:56.994866",
     "status": "completed"
    },
    "tags": []
   },
   "source": [
    "# Combine by cohort"
   ]
  },
  {
   "cell_type": "code",
   "execution_count": 9,
   "id": "employed-technical",
   "metadata": {
    "execution": {
     "iopub.execute_input": "2021-07-23T17:25:57.019831Z",
     "iopub.status.busy": "2021-07-23T17:25:57.019463Z",
     "iopub.status.idle": "2021-07-23T17:26:04.914693Z",
     "shell.execute_reply": "2021-07-23T17:26:04.914204Z"
    },
    "papermill": {
     "duration": 7.90556,
     "end_time": "2021-07-23T17:26:04.914801",
     "exception": false,
     "start_time": "2021-07-23T17:25:57.009241",
     "status": "completed"
    },
    "tags": []
   },
   "outputs": [
    {
     "data": {
      "text/plain": [
       "'phenomexcan'"
      ]
     },
     "metadata": {},
     "output_type": "display_data"
    },
    {
     "data": {
      "text/plain": [
       "PosixPath('/home/miltondp/projects/labs/greenelab/phenoplier/base/results/gls/gls_phenotypes-combined-phenomexcan.pkl')"
      ]
     },
     "metadata": {},
     "output_type": "display_data"
    },
    {
     "data": {
      "text/plain": [
       "'emerge'"
      ]
     },
     "metadata": {},
     "output_type": "display_data"
    },
    {
     "data": {
      "text/plain": [
       "PosixPath('/home/miltondp/projects/labs/greenelab/phenoplier/base/results/gls/gls_phenotypes-combined-emerge.pkl')"
      ]
     },
     "metadata": {},
     "output_type": "display_data"
    }
   ],
   "source": [
    "for cohort, result_files in INPUT_FILES_PER_COHORT.items():\n",
    "    display(cohort)\n",
    "\n",
    "    dfs = []\n",
    "    for res in result_files:\n",
    "        dfs.append(pd.read_pickle(res))\n",
    "\n",
    "    dfs = pd.concat(dfs, ignore_index=True)\n",
    "\n",
    "    # remove duplicate runs\n",
    "    dfs = dfs.drop_duplicates(subset=[\"phenotype\", \"lv\"])\n",
    "\n",
    "    # adjust pvalues\n",
    "    adj_pval = multipletests(dfs[\"pvalue\"], alpha=0.05, method=\"fdr_bh\")\n",
    "    dfs = dfs.assign(fdr=adj_pval[1])\n",
    "\n",
    "    # drop unneeded columns\n",
    "    dfs = dfs.drop(columns=[\"lv_set\", \"lv_with_pathway\", \"summary\"], errors=\"ignore\")\n",
    "\n",
    "    output_file = OUTPUT_DIR / f\"gls_phenotypes-combined-{cohort}.pkl\"\n",
    "    display(output_file)\n",
    "\n",
    "    dfs.to_pickle(output_file)"
   ]
  },
  {
   "cell_type": "code",
   "execution_count": null,
   "id": "pharmaceutical-smell",
   "metadata": {
    "papermill": {
     "duration": 0.009776,
     "end_time": "2021-07-23T17:26:04.937423",
     "exception": false,
     "start_time": "2021-07-23T17:26:04.927647",
     "status": "completed"
    },
    "tags": []
   },
   "outputs": [],
   "source": []
  }
 ],
 "metadata": {
  "jupytext": {
   "cell_metadata_filter": "all,-execution,-papermill,-trusted",
   "formats": "ipynb,py//py:percent"
  },
  "kernelspec": {
   "display_name": "Python 3",
   "language": "python",
   "name": "python3"
  },
  "language_info": {
   "codemirror_mode": {
    "name": "ipython",
    "version": 3
   },
   "file_extension": ".py",
   "mimetype": "text/x-python",
   "name": "python",
   "nbconvert_exporter": "python",
   "pygments_lexer": "ipython3",
   "version": "3.8.8"
  },
  "papermill": {
   "default_parameters": {},
   "duration": 11.07736,
   "end_time": "2021-07-23T17:26:06.055665",
   "environment_variables": {},
   "exception": null,
   "input_path": "08_gsa_gls/50-gls-fdr.ipynb",
   "output_path": "08_gsa_gls/50-gls-fdr.run.ipynb",
   "parameters": {},
   "start_time": "2021-07-23T17:25:54.978305",
   "version": "2.2.2"
  }
 },
 "nbformat": 4,
 "nbformat_minor": 5
}
