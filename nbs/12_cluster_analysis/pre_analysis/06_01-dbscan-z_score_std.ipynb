{
 "cells": [
  {
   "cell_type": "markdown",
   "metadata": {
    "papermill": {
     "duration": 0.019055,
     "end_time": "2021-03-09T22:33:10.401312",
     "exception": false,
     "start_time": "2021-03-09T22:33:10.382257",
     "status": "completed"
    },
    "tags": []
   },
   "source": [
    "# Description"
   ]
  },
  {
   "cell_type": "markdown",
   "metadata": {
    "papermill": {
     "duration": 0.014537,
     "end_time": "2021-03-09T22:33:10.430486",
     "exception": false,
     "start_time": "2021-03-09T22:33:10.415949",
     "status": "completed"
    },
    "tags": []
   },
   "source": [
    "This notebook runs some pre-analyses using DBSCAN to explore the best set of parameters (`min_samples` and `eps`) to cluster `z_score_std` data version. I'm following [this](https://towardsdatascience.com/machine-learning-clustering-dbscan-determine-the-optimal-value-for-epsilon-eps-python-example-3100091cfbc) heuristic to pick these parameters."
   ]
  },
  {
   "cell_type": "markdown",
   "metadata": {
    "papermill": {
     "duration": 0.014468,
     "end_time": "2021-03-09T22:33:10.459535",
     "exception": false,
     "start_time": "2021-03-09T22:33:10.445067",
     "status": "completed"
    },
    "tags": []
   },
   "source": [
    "# Environment variables"
   ]
  },
  {
   "cell_type": "code",
   "execution_count": 1,
   "metadata": {
    "execution": {
     "iopub.execute_input": "2021-03-09T22:33:10.494225Z",
     "iopub.status.busy": "2021-03-09T22:33:10.493857Z",
     "iopub.status.idle": "2021-03-09T22:33:10.503991Z",
     "shell.execute_reply": "2021-03-09T22:33:10.503568Z"
    },
    "papermill": {
     "duration": 0.029979,
     "end_time": "2021-03-09T22:33:10.504081",
     "exception": false,
     "start_time": "2021-03-09T22:33:10.474102",
     "status": "completed"
    },
    "tags": []
   },
   "outputs": [
    {
     "data": {
      "text/plain": [
       "2"
      ]
     },
     "metadata": {},
     "output_type": "display_data"
    }
   ],
   "source": [
    "from IPython.display import display\n",
    "\n",
    "import conf\n",
    "\n",
    "N_JOBS = conf.GENERAL[\"N_JOBS\"]\n",
    "display(N_JOBS)"
   ]
  },
  {
   "cell_type": "code",
   "execution_count": 2,
   "metadata": {
    "execution": {
     "iopub.execute_input": "2021-03-09T22:33:10.540197Z",
     "iopub.status.busy": "2021-03-09T22:33:10.539811Z",
     "iopub.status.idle": "2021-03-09T22:33:10.542437Z",
     "shell.execute_reply": "2021-03-09T22:33:10.542089Z"
    },
    "papermill": {
     "duration": 0.022386,
     "end_time": "2021-03-09T22:33:10.542515",
     "exception": false,
     "start_time": "2021-03-09T22:33:10.520129",
     "status": "completed"
    },
    "tags": []
   },
   "outputs": [
    {
     "name": "stdout",
     "output_type": "stream",
     "text": [
      "env: MKL_NUM_THREADS=2\n",
      "env: OPEN_BLAS_NUM_THREADS=2\n",
      "env: NUMEXPR_NUM_THREADS=2\n",
      "env: OMP_NUM_THREADS=2\n"
     ]
    }
   ],
   "source": [
    "%env MKL_NUM_THREADS=$N_JOBS\n",
    "%env OPEN_BLAS_NUM_THREADS=$N_JOBS\n",
    "%env NUMEXPR_NUM_THREADS=$N_JOBS\n",
    "%env OMP_NUM_THREADS=$N_JOBS"
   ]
  },
  {
   "cell_type": "markdown",
   "metadata": {
    "papermill": {
     "duration": 0.015397,
     "end_time": "2021-03-09T22:33:10.573726",
     "exception": false,
     "start_time": "2021-03-09T22:33:10.558329",
     "status": "completed"
    },
    "tags": []
   },
   "source": [
    "# Modules loading"
   ]
  },
  {
   "cell_type": "code",
   "execution_count": 3,
   "metadata": {
    "execution": {
     "iopub.execute_input": "2021-03-09T22:33:10.608170Z",
     "iopub.status.busy": "2021-03-09T22:33:10.607803Z",
     "iopub.status.idle": "2021-03-09T22:33:10.615308Z",
     "shell.execute_reply": "2021-03-09T22:33:10.614952Z"
    },
    "papermill": {
     "duration": 0.026247,
     "end_time": "2021-03-09T22:33:10.615405",
     "exception": false,
     "start_time": "2021-03-09T22:33:10.589158",
     "status": "completed"
    },
    "tags": []
   },
   "outputs": [],
   "source": [
    "%load_ext autoreload\n",
    "%autoreload 2"
   ]
  },
  {
   "cell_type": "code",
   "execution_count": 4,
   "metadata": {
    "execution": {
     "iopub.execute_input": "2021-03-09T22:33:10.649891Z",
     "iopub.status.busy": "2021-03-09T22:33:10.649529Z",
     "iopub.status.idle": "2021-03-09T22:33:11.354126Z",
     "shell.execute_reply": "2021-03-09T22:33:11.353743Z"
    },
    "papermill": {
     "duration": 0.722807,
     "end_time": "2021-03-09T22:33:11.354211",
     "exception": false,
     "start_time": "2021-03-09T22:33:10.631404",
     "status": "completed"
    },
    "tags": []
   },
   "outputs": [],
   "source": [
    "from pathlib import Path\n",
    "\n",
    "import numpy as np\n",
    "import pandas as pd\n",
    "from sklearn.neighbors import NearestNeighbors\n",
    "from sklearn.metrics import pairwise_distances\n",
    "from sklearn.cluster import DBSCAN\n",
    "from sklearn.metrics import (\n",
    "    silhouette_score,\n",
    "    calinski_harabasz_score,\n",
    "    davies_bouldin_score,\n",
    ")\n",
    "import matplotlib.pyplot as plt\n",
    "import seaborn as sns\n",
    "\n",
    "from utils import generate_result_set_name\n",
    "from clustering.ensembles.utils import generate_ensemble"
   ]
  },
  {
   "cell_type": "markdown",
   "metadata": {
    "papermill": {
     "duration": 0.015104,
     "end_time": "2021-03-09T22:33:11.385208",
     "exception": false,
     "start_time": "2021-03-09T22:33:11.370104",
     "status": "completed"
    },
    "tags": []
   },
   "source": [
    "# Global settings"
   ]
  },
  {
   "cell_type": "code",
   "execution_count": 5,
   "metadata": {
    "execution": {
     "iopub.execute_input": "2021-03-09T22:33:11.418912Z",
     "iopub.status.busy": "2021-03-09T22:33:11.418557Z",
     "iopub.status.idle": "2021-03-09T22:33:11.428851Z",
     "shell.execute_reply": "2021-03-09T22:33:11.428394Z"
    },
    "papermill": {
     "duration": 0.028446,
     "end_time": "2021-03-09T22:33:11.428934",
     "exception": false,
     "start_time": "2021-03-09T22:33:11.400488",
     "status": "completed"
    },
    "tags": []
   },
   "outputs": [],
   "source": [
    "np.random.seed(0)"
   ]
  },
  {
   "cell_type": "code",
   "execution_count": 6,
   "metadata": {
    "execution": {
     "iopub.execute_input": "2021-03-09T22:33:11.462650Z",
     "iopub.status.busy": "2021-03-09T22:33:11.462299Z",
     "iopub.status.idle": "2021-03-09T22:33:11.472345Z",
     "shell.execute_reply": "2021-03-09T22:33:11.472049Z"
    },
    "papermill": {
     "duration": 0.027594,
     "end_time": "2021-03-09T22:33:11.472427",
     "exception": false,
     "start_time": "2021-03-09T22:33:11.444833",
     "status": "completed"
    },
    "tags": []
   },
   "outputs": [],
   "source": [
    "CLUSTERING_ATTRIBUTES_TO_SAVE = [\"n_clusters\"]"
   ]
  },
  {
   "cell_type": "markdown",
   "metadata": {
    "papermill": {
     "duration": 0.015454,
     "end_time": "2021-03-09T22:33:11.503660",
     "exception": false,
     "start_time": "2021-03-09T22:33:11.488206",
     "status": "completed"
    },
    "tags": []
   },
   "source": [
    "# Data version: z_score_std"
   ]
  },
  {
   "cell_type": "code",
   "execution_count": 7,
   "metadata": {
    "execution": {
     "iopub.execute_input": "2021-03-09T22:33:11.537737Z",
     "iopub.status.busy": "2021-03-09T22:33:11.537357Z",
     "iopub.status.idle": "2021-03-09T22:33:11.547515Z",
     "shell.execute_reply": "2021-03-09T22:33:11.547142Z"
    },
    "papermill": {
     "duration": 0.028154,
     "end_time": "2021-03-09T22:33:11.547599",
     "exception": false,
     "start_time": "2021-03-09T22:33:11.519445",
     "status": "completed"
    },
    "tags": []
   },
   "outputs": [],
   "source": [
    "INPUT_SUBSET = \"z_score_std\""
   ]
  },
  {
   "cell_type": "code",
   "execution_count": 8,
   "metadata": {
    "execution": {
     "iopub.execute_input": "2021-03-09T22:33:11.581336Z",
     "iopub.status.busy": "2021-03-09T22:33:11.580983Z",
     "iopub.status.idle": "2021-03-09T22:33:11.591213Z",
     "shell.execute_reply": "2021-03-09T22:33:11.590908Z"
    },
    "papermill": {
     "duration": 0.027839,
     "end_time": "2021-03-09T22:33:11.591298",
     "exception": false,
     "start_time": "2021-03-09T22:33:11.563459",
     "status": "completed"
    },
    "tags": []
   },
   "outputs": [],
   "source": [
    "INPUT_STEM = \"projection-smultixcan-efo_partial-mashr-zscores\""
   ]
  },
  {
   "cell_type": "code",
   "execution_count": 9,
   "metadata": {
    "execution": {
     "iopub.execute_input": "2021-03-09T22:33:11.627265Z",
     "iopub.status.busy": "2021-03-09T22:33:11.626907Z",
     "iopub.status.idle": "2021-03-09T22:33:11.638817Z",
     "shell.execute_reply": "2021-03-09T22:33:11.638450Z"
    },
    "papermill": {
     "duration": 0.03109,
     "end_time": "2021-03-09T22:33:11.638899",
     "exception": false,
     "start_time": "2021-03-09T22:33:11.607809",
     "status": "completed"
    },
    "tags": []
   },
   "outputs": [
    {
     "data": {
      "text/plain": [
       "PosixPath('/home/miltondp/projects/labs/greenelab/phenoplier/base/results/data_transformations/z_score_std/z_score_std-projection-smultixcan-efo_partial-mashr-zscores.pkl')"
      ]
     },
     "metadata": {},
     "output_type": "display_data"
    },
    {
     "data": {
      "text/plain": [
       "'z_score_std-projection-smultixcan-efo_partial-mashr-zscores'"
      ]
     },
     "metadata": {},
     "output_type": "display_data"
    }
   ],
   "source": [
    "input_filepath = Path(\n",
    "    conf.RESULTS[\"DATA_TRANSFORMATIONS_DIR\"],\n",
    "    INPUT_SUBSET,\n",
    "    f\"{INPUT_SUBSET}-{INPUT_STEM}.pkl\",\n",
    ").resolve()\n",
    "display(input_filepath)\n",
    "\n",
    "assert input_filepath.exists(), \"Input file does not exist\"\n",
    "\n",
    "input_filepath_stem = input_filepath.stem\n",
    "display(input_filepath_stem)"
   ]
  },
  {
   "cell_type": "code",
   "execution_count": 10,
   "metadata": {
    "execution": {
     "iopub.execute_input": "2021-03-09T22:33:11.675051Z",
     "iopub.status.busy": "2021-03-09T22:33:11.674687Z",
     "iopub.status.idle": "2021-03-09T22:33:11.698788Z",
     "shell.execute_reply": "2021-03-09T22:33:11.699110Z"
    },
    "papermill": {
     "duration": 0.043234,
     "end_time": "2021-03-09T22:33:11.699228",
     "exception": false,
     "start_time": "2021-03-09T22:33:11.655994",
     "status": "completed"
    },
    "tags": []
   },
   "outputs": [],
   "source": [
    "data = pd.read_pickle(input_filepath)"
   ]
  },
  {
   "cell_type": "code",
   "execution_count": 11,
   "metadata": {
    "execution": {
     "iopub.execute_input": "2021-03-09T22:33:11.738199Z",
     "iopub.status.busy": "2021-03-09T22:33:11.737840Z",
     "iopub.status.idle": "2021-03-09T22:33:11.748955Z",
     "shell.execute_reply": "2021-03-09T22:33:11.748577Z"
    },
    "papermill": {
     "duration": 0.031093,
     "end_time": "2021-03-09T22:33:11.749038",
     "exception": false,
     "start_time": "2021-03-09T22:33:11.717945",
     "status": "completed"
    },
    "tags": []
   },
   "outputs": [
    {
     "data": {
      "text/plain": [
       "(3752, 987)"
      ]
     },
     "execution_count": 11,
     "metadata": {},
     "output_type": "execute_result"
    }
   ],
   "source": [
    "data.shape"
   ]
  },
  {
   "cell_type": "code",
   "execution_count": 12,
   "metadata": {
    "execution": {
     "iopub.execute_input": "2021-03-09T22:33:11.784451Z",
     "iopub.status.busy": "2021-03-09T22:33:11.784098Z",
     "iopub.status.idle": "2021-03-09T22:33:11.807724Z",
     "shell.execute_reply": "2021-03-09T22:33:11.807420Z"
    },
    "papermill": {
     "duration": 0.041889,
     "end_time": "2021-03-09T22:33:11.807808",
     "exception": false,
     "start_time": "2021-03-09T22:33:11.765919",
     "status": "completed"
    },
    "tags": []
   },
   "outputs": [
    {
     "data": {
      "text/html": [
       "<div>\n",
       "<style scoped>\n",
       "    .dataframe tbody tr th:only-of-type {\n",
       "        vertical-align: middle;\n",
       "    }\n",
       "\n",
       "    .dataframe tbody tr th {\n",
       "        vertical-align: top;\n",
       "    }\n",
       "\n",
       "    .dataframe thead th {\n",
       "        text-align: right;\n",
       "    }\n",
       "</style>\n",
       "<table border=\"1\" class=\"dataframe\">\n",
       "  <thead>\n",
       "    <tr style=\"text-align: right;\">\n",
       "      <th></th>\n",
       "      <th>LV1</th>\n",
       "      <th>LV2</th>\n",
       "      <th>LV3</th>\n",
       "      <th>LV4</th>\n",
       "      <th>LV5</th>\n",
       "      <th>LV6</th>\n",
       "      <th>LV7</th>\n",
       "      <th>LV8</th>\n",
       "      <th>LV9</th>\n",
       "      <th>LV10</th>\n",
       "      <th>...</th>\n",
       "      <th>LV978</th>\n",
       "      <th>LV979</th>\n",
       "      <th>LV980</th>\n",
       "      <th>LV981</th>\n",
       "      <th>LV982</th>\n",
       "      <th>LV983</th>\n",
       "      <th>LV984</th>\n",
       "      <th>LV985</th>\n",
       "      <th>LV986</th>\n",
       "      <th>LV987</th>\n",
       "    </tr>\n",
       "  </thead>\n",
       "  <tbody>\n",
       "    <tr>\n",
       "      <th>100001_raw-Food_weight</th>\n",
       "      <td>-0.695006</td>\n",
       "      <td>1.962565</td>\n",
       "      <td>0.057683</td>\n",
       "      <td>0.878731</td>\n",
       "      <td>-0.539977</td>\n",
       "      <td>1.481272</td>\n",
       "      <td>-0.396422</td>\n",
       "      <td>1.090180</td>\n",
       "      <td>0.759223</td>\n",
       "      <td>0.931395</td>\n",
       "      <td>...</td>\n",
       "      <td>1.129784</td>\n",
       "      <td>1.752343</td>\n",
       "      <td>-1.411403</td>\n",
       "      <td>2.823863</td>\n",
       "      <td>0.931116</td>\n",
       "      <td>-1.054519</td>\n",
       "      <td>0.432982</td>\n",
       "      <td>-0.633597</td>\n",
       "      <td>0.554279</td>\n",
       "      <td>-0.642479</td>\n",
       "    </tr>\n",
       "    <tr>\n",
       "      <th>100002_raw-Energy</th>\n",
       "      <td>-1.528127</td>\n",
       "      <td>-0.345309</td>\n",
       "      <td>-0.148953</td>\n",
       "      <td>-0.242060</td>\n",
       "      <td>0.373427</td>\n",
       "      <td>0.791092</td>\n",
       "      <td>0.263477</td>\n",
       "      <td>0.987702</td>\n",
       "      <td>0.354391</td>\n",
       "      <td>1.416059</td>\n",
       "      <td>...</td>\n",
       "      <td>0.224604</td>\n",
       "      <td>0.769882</td>\n",
       "      <td>-0.509482</td>\n",
       "      <td>0.091153</td>\n",
       "      <td>2.286789</td>\n",
       "      <td>-1.008256</td>\n",
       "      <td>-0.029764</td>\n",
       "      <td>1.737229</td>\n",
       "      <td>-0.272107</td>\n",
       "      <td>-0.526125</td>\n",
       "    </tr>\n",
       "    <tr>\n",
       "      <th>100003_raw-Protein</th>\n",
       "      <td>-0.704572</td>\n",
       "      <td>-1.011299</td>\n",
       "      <td>0.671420</td>\n",
       "      <td>0.143991</td>\n",
       "      <td>0.615212</td>\n",
       "      <td>0.874212</td>\n",
       "      <td>-0.040998</td>\n",
       "      <td>0.915170</td>\n",
       "      <td>0.254369</td>\n",
       "      <td>-0.084237</td>\n",
       "      <td>...</td>\n",
       "      <td>1.003019</td>\n",
       "      <td>1.044314</td>\n",
       "      <td>-2.376108</td>\n",
       "      <td>0.004778</td>\n",
       "      <td>0.053714</td>\n",
       "      <td>-0.892447</td>\n",
       "      <td>-0.183800</td>\n",
       "      <td>1.377991</td>\n",
       "      <td>-0.278794</td>\n",
       "      <td>-0.419733</td>\n",
       "    </tr>\n",
       "    <tr>\n",
       "      <th>100004_raw-Fat</th>\n",
       "      <td>-0.989832</td>\n",
       "      <td>-1.875490</td>\n",
       "      <td>0.261555</td>\n",
       "      <td>-1.420719</td>\n",
       "      <td>0.366238</td>\n",
       "      <td>1.167049</td>\n",
       "      <td>0.257387</td>\n",
       "      <td>0.717674</td>\n",
       "      <td>-0.997664</td>\n",
       "      <td>0.969825</td>\n",
       "      <td>...</td>\n",
       "      <td>0.585913</td>\n",
       "      <td>0.638314</td>\n",
       "      <td>0.119139</td>\n",
       "      <td>-0.140204</td>\n",
       "      <td>1.394326</td>\n",
       "      <td>-1.173402</td>\n",
       "      <td>0.555058</td>\n",
       "      <td>1.013982</td>\n",
       "      <td>-0.544506</td>\n",
       "      <td>-0.064061</td>\n",
       "    </tr>\n",
       "    <tr>\n",
       "      <th>100005_raw-Carbohydrate</th>\n",
       "      <td>-0.580143</td>\n",
       "      <td>0.243335</td>\n",
       "      <td>0.158966</td>\n",
       "      <td>-0.036558</td>\n",
       "      <td>0.068176</td>\n",
       "      <td>-0.202639</td>\n",
       "      <td>1.101281</td>\n",
       "      <td>0.675227</td>\n",
       "      <td>1.463432</td>\n",
       "      <td>1.010078</td>\n",
       "      <td>...</td>\n",
       "      <td>-0.249108</td>\n",
       "      <td>-0.026814</td>\n",
       "      <td>0.232713</td>\n",
       "      <td>0.323682</td>\n",
       "      <td>1.168642</td>\n",
       "      <td>-0.282935</td>\n",
       "      <td>0.653105</td>\n",
       "      <td>1.909526</td>\n",
       "      <td>0.199997</td>\n",
       "      <td>-1.656894</td>\n",
       "    </tr>\n",
       "  </tbody>\n",
       "</table>\n",
       "<p>5 rows × 987 columns</p>\n",
       "</div>"
      ],
      "text/plain": [
       "                              LV1       LV2       LV3       LV4       LV5  \\\n",
       "100001_raw-Food_weight  -0.695006  1.962565  0.057683  0.878731 -0.539977   \n",
       "100002_raw-Energy       -1.528127 -0.345309 -0.148953 -0.242060  0.373427   \n",
       "100003_raw-Protein      -0.704572 -1.011299  0.671420  0.143991  0.615212   \n",
       "100004_raw-Fat          -0.989832 -1.875490  0.261555 -1.420719  0.366238   \n",
       "100005_raw-Carbohydrate -0.580143  0.243335  0.158966 -0.036558  0.068176   \n",
       "\n",
       "                              LV6       LV7       LV8       LV9      LV10  \\\n",
       "100001_raw-Food_weight   1.481272 -0.396422  1.090180  0.759223  0.931395   \n",
       "100002_raw-Energy        0.791092  0.263477  0.987702  0.354391  1.416059   \n",
       "100003_raw-Protein       0.874212 -0.040998  0.915170  0.254369 -0.084237   \n",
       "100004_raw-Fat           1.167049  0.257387  0.717674 -0.997664  0.969825   \n",
       "100005_raw-Carbohydrate -0.202639  1.101281  0.675227  1.463432  1.010078   \n",
       "\n",
       "                         ...     LV978     LV979     LV980     LV981  \\\n",
       "100001_raw-Food_weight   ...  1.129784  1.752343 -1.411403  2.823863   \n",
       "100002_raw-Energy        ...  0.224604  0.769882 -0.509482  0.091153   \n",
       "100003_raw-Protein       ...  1.003019  1.044314 -2.376108  0.004778   \n",
       "100004_raw-Fat           ...  0.585913  0.638314  0.119139 -0.140204   \n",
       "100005_raw-Carbohydrate  ... -0.249108 -0.026814  0.232713  0.323682   \n",
       "\n",
       "                            LV982     LV983     LV984     LV985     LV986  \\\n",
       "100001_raw-Food_weight   0.931116 -1.054519  0.432982 -0.633597  0.554279   \n",
       "100002_raw-Energy        2.286789 -1.008256 -0.029764  1.737229 -0.272107   \n",
       "100003_raw-Protein       0.053714 -0.892447 -0.183800  1.377991 -0.278794   \n",
       "100004_raw-Fat           1.394326 -1.173402  0.555058  1.013982 -0.544506   \n",
       "100005_raw-Carbohydrate  1.168642 -0.282935  0.653105  1.909526  0.199997   \n",
       "\n",
       "                            LV987  \n",
       "100001_raw-Food_weight  -0.642479  \n",
       "100002_raw-Energy       -0.526125  \n",
       "100003_raw-Protein      -0.419733  \n",
       "100004_raw-Fat          -0.064061  \n",
       "100005_raw-Carbohydrate -1.656894  \n",
       "\n",
       "[5 rows x 987 columns]"
      ]
     },
     "execution_count": 12,
     "metadata": {},
     "output_type": "execute_result"
    }
   ],
   "source": [
    "data.head()"
   ]
  },
  {
   "cell_type": "markdown",
   "metadata": {
    "papermill": {
     "duration": 0.016587,
     "end_time": "2021-03-09T22:33:11.842149",
     "exception": false,
     "start_time": "2021-03-09T22:33:11.825562",
     "status": "completed"
    },
    "tags": []
   },
   "source": [
    "## Tests different k values (k-NN)"
   ]
  },
  {
   "cell_type": "code",
   "execution_count": 13,
   "metadata": {
    "execution": {
     "iopub.execute_input": "2021-03-09T22:33:11.878648Z",
     "iopub.status.busy": "2021-03-09T22:33:11.878291Z",
     "iopub.status.idle": "2021-03-09T22:33:11.888698Z",
     "shell.execute_reply": "2021-03-09T22:33:11.888317Z"
    },
    "papermill": {
     "duration": 0.029642,
     "end_time": "2021-03-09T22:33:11.888792",
     "exception": false,
     "start_time": "2021-03-09T22:33:11.859150",
     "status": "completed"
    },
    "tags": []
   },
   "outputs": [],
   "source": [
    "# `k_values` is the full range of k for kNN, whereas `k_values_to_explore` is a\n",
    "# subset that will be explored in this notebook. If the analysis works, then\n",
    "# `k_values` and `eps_range_per_k` below are copied to the notebook that will\n",
    "# produce the final DBSCAN runs (`../002_[...]-dbscan-....ipynb`)\n",
    "k_values = np.arange(2, 125 + 1, 1)\n",
    "k_values_to_explore = (2, 5, 10, 15, 20, 30, 40, 50, 75, 100, 125)"
   ]
  },
  {
   "cell_type": "code",
   "execution_count": 14,
   "metadata": {
    "execution": {
     "iopub.execute_input": "2021-03-09T22:33:11.926314Z",
     "iopub.status.busy": "2021-03-09T22:33:11.925954Z",
     "iopub.status.idle": "2021-03-09T22:35:23.504979Z",
     "shell.execute_reply": "2021-03-09T22:35:23.505290Z"
    },
    "papermill": {
     "duration": 131.599189,
     "end_time": "2021-03-09T22:35:23.505398",
     "exception": false,
     "start_time": "2021-03-09T22:33:11.906209",
     "status": "completed"
    },
    "tags": []
   },
   "outputs": [],
   "source": [
    "results = {}\n",
    "\n",
    "for k in k_values_to_explore:\n",
    "    nbrs = NearestNeighbors(n_neighbors=k, n_jobs=N_JOBS).fit(data)\n",
    "    distances, indices = nbrs.kneighbors(data)\n",
    "    results[k] = (distances, indices)"
   ]
  },
  {
   "cell_type": "code",
   "execution_count": 15,
   "metadata": {
    "execution": {
     "iopub.execute_input": "2021-03-09T22:35:24.438371Z",
     "iopub.status.busy": "2021-03-09T22:35:24.437976Z",
     "iopub.status.idle": "2021-03-09T22:35:24.449125Z",
     "shell.execute_reply": "2021-03-09T22:35:24.449457Z"
    },
    "papermill": {
     "duration": 0.926056,
     "end_time": "2021-03-09T22:35:24.449577",
     "exception": false,
     "start_time": "2021-03-09T22:35:23.523521",
     "status": "completed"
    },
    "tags": []
   },
   "outputs": [],
   "source": [
    "eps_range_per_k = {\n",
    "    k: (34, 50)\n",
    "    if k < 5\n",
    "    else (35, 50)\n",
    "    if k < 15\n",
    "    else (37, 58)\n",
    "    if k < 75\n",
    "    else (38, 58)\n",
    "    if k < 100\n",
    "    else (39, 60)\n",
    "    for k in k_values\n",
    "}\n",
    "\n",
    "eps_range_per_k_to_explore = {k: eps_range_per_k[k] for k in k_values_to_explore}"
   ]
  },
  {
   "cell_type": "code",
   "execution_count": 16,
   "metadata": {
    "execution": {
     "iopub.execute_input": "2021-03-09T22:35:24.488721Z",
     "iopub.status.busy": "2021-03-09T22:35:24.488330Z",
     "iopub.status.idle": "2021-03-09T22:35:25.482785Z",
     "shell.execute_reply": "2021-03-09T22:35:25.482412Z"
    },
    "papermill": {
     "duration": 1.014842,
     "end_time": "2021-03-09T22:35:25.482869",
     "exception": false,
     "start_time": "2021-03-09T22:35:24.468027",
     "status": "completed"
    },
    "tags": []
   },
   "outputs": [
    {
     "data": {
      "image/png": "[encoded data removed]",
      "text/plain": [
       "<Figure size 432x288 with 1 Axes>"
      ]
     },
     "metadata": {},
     "output_type": "display_data"
    },
    {
     "data": {
      "image/png": "[encoded data removed]",
      "text/plain": [
       "<Figure size 432x288 with 1 Axes>"
      ]
     },
     "metadata": {},
     "output_type": "display_data"
    },
    {
     "data": {
      "image/png": "[encoded data removed]",
      "text/plain": [
       "<Figure size 432x288 with 1 Axes>"
      ]
     },
     "metadata": {},
     "output_type": "display_data"
    },
    {
     "data": {
      "image/png": "[encoded data removed]",
      "text/plain": [
       "<Figure size 432x288 with 1 Axes>"
      ]
     },
     "metadata": {},
     "output_type": "display_data"
    },
    {
     "data": {
      "image/png": "[encoded data removed]",
      "text/plain": [
       "<Figure size 432x288 with 1 Axes>"
      ]
     },
     "metadata": {},
     "output_type": "display_data"
    },
    {
     "data": {
      "image/png": "[encoded data removed]",
      "text/plain": [
       "<Figure size 432x288 with 1 Axes>"
      ]
     },
     "metadata": {},
     "output_type": "display_data"
    },
    {
     "data": {
      "image/png": "[encoded data removed]",
      "text/plain": [
       "<Figure size 432x288 with 1 Axes>"
      ]
     },
     "metadata": {},
     "output_type": "display_data"
    },
    {
     "data": {
      "image/png": "[encoded data removed]",
      "text/plain": [
       "<Figure size 432x288 with 1 Axes>"
      ]
     },
     "metadata": {},
     "output_type": "display_data"
    },
    {
     "data": {
      "image/png": "[encoded data removed]",
      "text/plain": [
       "<Figure size 432x288 with 1 Axes>"
      ]
     },
     "metadata": {},
     "output_type": "display_data"
    },
    {
     "data": {
      "image/png": "[encoded data removed]",
      "text/plain": [
       "<Figure size 432x288 with 1 Axes>"
      ]
     },
     "metadata": {},
     "output_type": "display_data"
    },
    {
     "data": {
      "image/png": "[encoded data removed]",
      "text/plain": [
       "<Figure size 432x288 with 1 Axes>"
      ]
     },
     "metadata": {},
     "output_type": "display_data"
    }
   ],
   "source": [
    "for k, (distances, indices) in results.items():\n",
    "    d = distances[:, 1:].mean(axis=1)\n",
    "    d = np.sort(d)\n",
    "\n",
    "    fig, ax = plt.subplots()\n",
    "    plt.plot(d)\n",
    "\n",
    "    r = eps_range_per_k_to_explore[k]\n",
    "    plt.hlines(r[0], 0, data.shape[0], color=\"red\")\n",
    "    plt.hlines(r[1], 0, data.shape[0], color=\"red\")\n",
    "\n",
    "    plt.xlim((3000, data.shape[0]))\n",
    "    plt.title(f\"k={k}\")\n",
    "    display(fig)\n",
    "\n",
    "    plt.close(fig)"
   ]
  },
  {
   "cell_type": "markdown",
   "metadata": {
    "papermill": {
     "duration": 0.021106,
     "end_time": "2021-03-09T22:35:25.525952",
     "exception": false,
     "start_time": "2021-03-09T22:35:25.504846",
     "status": "completed"
    },
    "tags": []
   },
   "source": [
    "# Extended test"
   ]
  },
  {
   "cell_type": "markdown",
   "metadata": {
    "papermill": {
     "duration": 0.021067,
     "end_time": "2021-03-09T22:35:25.568162",
     "exception": false,
     "start_time": "2021-03-09T22:35:25.547095",
     "status": "completed"
    },
    "tags": []
   },
   "source": [
    "## Generate clusterers"
   ]
  },
  {
   "cell_type": "code",
   "execution_count": 17,
   "metadata": {
    "execution": {
     "iopub.execute_input": "2021-03-09T22:35:25.613965Z",
     "iopub.status.busy": "2021-03-09T22:35:25.613603Z",
     "iopub.status.idle": "2021-03-09T22:35:25.625452Z",
     "shell.execute_reply": "2021-03-09T22:35:25.625079Z"
    },
    "papermill": {
     "duration": 0.036088,
     "end_time": "2021-03-09T22:35:25.625537",
     "exception": false,
     "start_time": "2021-03-09T22:35:25.589449",
     "status": "completed"
    },
    "tags": []
   },
   "outputs": [
    {
     "data": {
      "text/plain": [
       "{'K_RANGE': (2, 5, 10, 15, 20, 30, 40, 50, 75, 100, 125),\n",
       " 'EPS_RANGE_PER_K': {2: (34, 50),\n",
       "  5: (35, 50),\n",
       "  10: (35, 50),\n",
       "  15: (37, 58),\n",
       "  20: (37, 58),\n",
       "  30: (37, 58),\n",
       "  40: (37, 58),\n",
       "  50: (37, 58),\n",
       "  75: (38, 58),\n",
       "  100: (39, 60),\n",
       "  125: (39, 60)},\n",
       " 'EPS_STEP': 33,\n",
       " 'METRIC': 'euclidean'}"
      ]
     },
     "metadata": {},
     "output_type": "display_data"
    }
   ],
   "source": [
    "CLUSTERING_OPTIONS = {}\n",
    "\n",
    "# K_RANGE is the min_samples parameter in DBSCAN (sklearn)\n",
    "CLUSTERING_OPTIONS[\"K_RANGE\"] = k_values_to_explore\n",
    "CLUSTERING_OPTIONS[\"EPS_RANGE_PER_K\"] = eps_range_per_k_to_explore\n",
    "CLUSTERING_OPTIONS[\"EPS_STEP\"] = 33\n",
    "CLUSTERING_OPTIONS[\"METRIC\"] = \"euclidean\"\n",
    "\n",
    "display(CLUSTERING_OPTIONS)"
   ]
  },
  {
   "cell_type": "code",
   "execution_count": 18,
   "metadata": {
    "execution": {
     "iopub.execute_input": "2021-03-09T22:35:25.674038Z",
     "iopub.status.busy": "2021-03-09T22:35:25.673665Z",
     "iopub.status.idle": "2021-03-09T22:35:25.685916Z",
     "shell.execute_reply": "2021-03-09T22:35:25.685595Z"
    },
    "papermill": {
     "duration": 0.037336,
     "end_time": "2021-03-09T22:35:25.685998",
     "exception": false,
     "start_time": "2021-03-09T22:35:25.648662",
     "status": "completed"
    },
    "tags": []
   },
   "outputs": [],
   "source": [
    "CLUSTERERS = {}\n",
    "\n",
    "idx = 0\n",
    "\n",
    "for k in CLUSTERING_OPTIONS[\"K_RANGE\"]:\n",
    "    eps_range = CLUSTERING_OPTIONS[\"EPS_RANGE_PER_K\"][k]\n",
    "    eps_values = np.linspace(eps_range[0], eps_range[1], CLUSTERING_OPTIONS[\"EPS_STEP\"])\n",
    "\n",
    "    for eps in eps_values:\n",
    "        clus = DBSCAN(min_samples=k, eps=eps, metric=\"precomputed\", n_jobs=N_JOBS)\n",
    "\n",
    "        method_name = type(clus).__name__\n",
    "        CLUSTERERS[f\"{method_name} #{idx}\"] = clus\n",
    "\n",
    "        idx = idx + 1"
   ]
  },
  {
   "cell_type": "code",
   "execution_count": 19,
   "metadata": {
    "execution": {
     "iopub.execute_input": "2021-03-09T22:35:25.732983Z",
     "iopub.status.busy": "2021-03-09T22:35:25.732561Z",
     "iopub.status.idle": "2021-03-09T22:35:25.744016Z",
     "shell.execute_reply": "2021-03-09T22:35:25.743694Z"
    },
    "papermill": {
     "duration": 0.035989,
     "end_time": "2021-03-09T22:35:25.744106",
     "exception": false,
     "start_time": "2021-03-09T22:35:25.708117",
     "status": "completed"
    },
    "tags": []
   },
   "outputs": [
    {
     "data": {
      "text/plain": [
       "363"
      ]
     },
     "metadata": {},
     "output_type": "display_data"
    }
   ],
   "source": [
    "display(len(CLUSTERERS))"
   ]
  },
  {
   "cell_type": "code",
   "execution_count": 20,
   "metadata": {
    "execution": {
     "iopub.execute_input": "2021-03-09T22:35:25.793902Z",
     "iopub.status.busy": "2021-03-09T22:35:25.793549Z",
     "iopub.status.idle": "2021-03-09T22:35:25.806276Z",
     "shell.execute_reply": "2021-03-09T22:35:25.805959Z"
    },
    "papermill": {
     "duration": 0.037678,
     "end_time": "2021-03-09T22:35:25.806358",
     "exception": false,
     "start_time": "2021-03-09T22:35:25.768680",
     "status": "completed"
    },
    "tags": []
   },
   "outputs": [
    {
     "data": {
      "text/plain": [
       "('DBSCAN #0', DBSCAN(eps=34.0, metric='precomputed', min_samples=2, n_jobs=2))"
      ]
     },
     "metadata": {},
     "output_type": "display_data"
    },
    {
     "data": {
      "text/plain": [
       "('DBSCAN #1', DBSCAN(eps=34.5, metric='precomputed', min_samples=2, n_jobs=2))"
      ]
     },
     "metadata": {},
     "output_type": "display_data"
    }
   ],
   "source": [
    "_iter = iter(CLUSTERERS.items())\n",
    "display(next(_iter))\n",
    "display(next(_iter))"
   ]
  },
  {
   "cell_type": "code",
   "execution_count": 21,
   "metadata": {
    "execution": {
     "iopub.execute_input": "2021-03-09T22:35:25.855618Z",
     "iopub.status.busy": "2021-03-09T22:35:25.855252Z",
     "iopub.status.idle": "2021-03-09T22:35:25.866228Z",
     "shell.execute_reply": "2021-03-09T22:35:25.865912Z"
    },
    "papermill": {
     "duration": 0.036143,
     "end_time": "2021-03-09T22:35:25.866311",
     "exception": false,
     "start_time": "2021-03-09T22:35:25.830168",
     "status": "completed"
    },
    "tags": []
   },
   "outputs": [
    {
     "data": {
      "text/plain": [
       "'DBSCAN'"
      ]
     },
     "metadata": {},
     "output_type": "display_data"
    }
   ],
   "source": [
    "clustering_method_name = method_name\n",
    "display(clustering_method_name)"
   ]
  },
  {
   "cell_type": "markdown",
   "metadata": {
    "papermill": {
     "duration": 0.023271,
     "end_time": "2021-03-09T22:35:25.913268",
     "exception": false,
     "start_time": "2021-03-09T22:35:25.889997",
     "status": "completed"
    },
    "tags": []
   },
   "source": [
    "## Generate ensemble"
   ]
  },
  {
   "cell_type": "code",
   "execution_count": 22,
   "metadata": {
    "execution": {
     "iopub.execute_input": "2021-03-09T22:35:25.962184Z",
     "iopub.status.busy": "2021-03-09T22:35:25.961831Z",
     "iopub.status.idle": "2021-03-09T22:35:26.226418Z",
     "shell.execute_reply": "2021-03-09T22:35:26.226721Z"
    },
    "papermill": {
     "duration": 0.290293,
     "end_time": "2021-03-09T22:35:26.226828",
     "exception": false,
     "start_time": "2021-03-09T22:35:25.936535",
     "status": "completed"
    },
    "tags": []
   },
   "outputs": [],
   "source": [
    "data_dist = pairwise_distances(data, metric=CLUSTERING_OPTIONS[\"METRIC\"])"
   ]
  },
  {
   "cell_type": "code",
   "execution_count": 23,
   "metadata": {
    "execution": {
     "iopub.execute_input": "2021-03-09T22:35:26.275909Z",
     "iopub.status.busy": "2021-03-09T22:35:26.275525Z",
     "iopub.status.idle": "2021-03-09T22:35:26.286099Z",
     "shell.execute_reply": "2021-03-09T22:35:26.286371Z"
    },
    "papermill": {
     "duration": 0.036029,
     "end_time": "2021-03-09T22:35:26.286474",
     "exception": false,
     "start_time": "2021-03-09T22:35:26.250445",
     "status": "completed"
    },
    "tags": []
   },
   "outputs": [
    {
     "data": {
      "text/plain": [
       "(3752, 3752)"
      ]
     },
     "execution_count": 23,
     "metadata": {},
     "output_type": "execute_result"
    }
   ],
   "source": [
    "data_dist.shape"
   ]
  },
  {
   "cell_type": "code",
   "execution_count": 24,
   "metadata": {
    "execution": {
     "iopub.execute_input": "2021-03-09T22:35:26.336062Z",
     "iopub.status.busy": "2021-03-09T22:35:26.335707Z",
     "iopub.status.idle": "2021-03-09T22:35:26.915345Z",
     "shell.execute_reply": "2021-03-09T22:35:26.914975Z"
    },
    "papermill": {
     "duration": 0.605105,
     "end_time": "2021-03-09T22:35:26.915436",
     "exception": false,
     "start_time": "2021-03-09T22:35:26.310331",
     "status": "completed"
    },
    "tags": []
   },
   "outputs": [
    {
     "data": {
      "text/plain": [
       "count           14077504.0\n",
       "mean     44.28544330426931\n",
       "std      3.577640598713617\n",
       "min                    0.0\n",
       "25%      43.06948280261282\n",
       "50%      44.01529629505707\n",
       "75%      44.99092415488099\n",
       "max      86.59317722681895\n",
       "dtype: object"
      ]
     },
     "execution_count": 24,
     "metadata": {},
     "output_type": "execute_result"
    }
   ],
   "source": [
    "pd.Series(data_dist.flatten()).describe().apply(str)"
   ]
  },
  {
   "cell_type": "code",
   "execution_count": 25,
   "metadata": {
    "execution": {
     "iopub.execute_input": "2021-03-09T22:35:26.965737Z",
     "iopub.status.busy": "2021-03-09T22:35:26.965378Z",
     "iopub.status.idle": "2021-03-09T22:36:27.993803Z",
     "shell.execute_reply": "2021-03-09T22:36:27.993473Z"
    },
    "papermill": {
     "duration": 61.053657,
     "end_time": "2021-03-09T22:36:27.993897",
     "exception": false,
     "start_time": "2021-03-09T22:35:26.940240",
     "status": "completed"
    },
    "tags": []
   },
   "outputs": [
    {
     "name": "stderr",
     "output_type": "stream",
     "text": [
      "100%|██████████| 363/363 [01:01<00:00,  5.95it/s]\n"
     ]
    }
   ],
   "source": [
    "ensemble = generate_ensemble(\n",
    "    data_dist,\n",
    "    CLUSTERERS,\n",
    "    attributes=CLUSTERING_ATTRIBUTES_TO_SAVE,\n",
    ")"
   ]
  },
  {
   "cell_type": "code",
   "execution_count": 26,
   "metadata": {
    "execution": {
     "iopub.execute_input": "2021-03-09T22:36:28.156963Z",
     "iopub.status.busy": "2021-03-09T22:36:28.156531Z",
     "iopub.status.idle": "2021-03-09T22:36:28.167699Z",
     "shell.execute_reply": "2021-03-09T22:36:28.167331Z"
    },
    "papermill": {
     "duration": 0.092566,
     "end_time": "2021-03-09T22:36:28.167781",
     "exception": false,
     "start_time": "2021-03-09T22:36:28.075215",
     "status": "completed"
    },
    "tags": []
   },
   "outputs": [
    {
     "data": {
      "text/plain": [
       "(68, 3)"
      ]
     },
     "execution_count": 26,
     "metadata": {},
     "output_type": "execute_result"
    }
   ],
   "source": [
    "ensemble.shape"
   ]
  },
  {
   "cell_type": "code",
   "execution_count": 27,
   "metadata": {
    "execution": {
     "iopub.execute_input": "2021-03-09T22:36:28.329444Z",
     "iopub.status.busy": "2021-03-09T22:36:28.329072Z",
     "iopub.status.idle": "2021-03-09T22:36:28.347113Z",
     "shell.execute_reply": "2021-03-09T22:36:28.346767Z"
    },
    "papermill": {
     "duration": 0.099835,
     "end_time": "2021-03-09T22:36:28.347192",
     "exception": false,
     "start_time": "2021-03-09T22:36:28.247357",
     "status": "completed"
    },
    "tags": []
   },
   "outputs": [
    {
     "data": {
      "text/html": [
       "<div>\n",
       "<style scoped>\n",
       "    .dataframe tbody tr th:only-of-type {\n",
       "        vertical-align: middle;\n",
       "    }\n",
       "\n",
       "    .dataframe tbody tr th {\n",
       "        vertical-align: top;\n",
       "    }\n",
       "\n",
       "    .dataframe thead th {\n",
       "        text-align: right;\n",
       "    }\n",
       "</style>\n",
       "<table border=\"1\" class=\"dataframe\">\n",
       "  <thead>\n",
       "    <tr style=\"text-align: right;\">\n",
       "      <th></th>\n",
       "      <th>clusterer_params</th>\n",
       "      <th>partition</th>\n",
       "      <th>n_clusters</th>\n",
       "    </tr>\n",
       "    <tr>\n",
       "      <th>clusterer_id</th>\n",
       "      <th></th>\n",
       "      <th></th>\n",
       "      <th></th>\n",
       "    </tr>\n",
       "  </thead>\n",
       "  <tbody>\n",
       "    <tr>\n",
       "      <th>DBSCAN #0</th>\n",
       "      <td>{'algorithm': 'auto', 'eps': 34.0, 'leaf_size'...</td>\n",
       "      <td>[0.0, 0.0, 0.0, 0.0, 0.0, 0.0, 0.0, 0.0, 0.0, ...</td>\n",
       "      <td>94</td>\n",
       "    </tr>\n",
       "    <tr>\n",
       "      <th>DBSCAN #1</th>\n",
       "      <td>{'algorithm': 'auto', 'eps': 34.5, 'leaf_size'...</td>\n",
       "      <td>[0.0, 0.0, 0.0, 0.0, 0.0, 0.0, 0.0, 0.0, 0.0, ...</td>\n",
       "      <td>44</td>\n",
       "    </tr>\n",
       "    <tr>\n",
       "      <th>DBSCAN #2</th>\n",
       "      <td>{'algorithm': 'auto', 'eps': 35.0, 'leaf_size'...</td>\n",
       "      <td>[0.0, 0.0, 0.0, 0.0, 0.0, 0.0, 0.0, 0.0, 0.0, ...</td>\n",
       "      <td>29</td>\n",
       "    </tr>\n",
       "    <tr>\n",
       "      <th>DBSCAN #3</th>\n",
       "      <td>{'algorithm': 'auto', 'eps': 35.5, 'leaf_size'...</td>\n",
       "      <td>[0.0, 0.0, 0.0, 0.0, 0.0, 0.0, 0.0, 0.0, 0.0, ...</td>\n",
       "      <td>22</td>\n",
       "    </tr>\n",
       "    <tr>\n",
       "      <th>DBSCAN #4</th>\n",
       "      <td>{'algorithm': 'auto', 'eps': 36.0, 'leaf_size'...</td>\n",
       "      <td>[0.0, 0.0, 0.0, 0.0, 0.0, 0.0, 0.0, 0.0, 0.0, ...</td>\n",
       "      <td>20</td>\n",
       "    </tr>\n",
       "  </tbody>\n",
       "</table>\n",
       "</div>"
      ],
      "text/plain": [
       "                                               clusterer_params  \\\n",
       "clusterer_id                                                      \n",
       "DBSCAN #0     {'algorithm': 'auto', 'eps': 34.0, 'leaf_size'...   \n",
       "DBSCAN #1     {'algorithm': 'auto', 'eps': 34.5, 'leaf_size'...   \n",
       "DBSCAN #2     {'algorithm': 'auto', 'eps': 35.0, 'leaf_size'...   \n",
       "DBSCAN #3     {'algorithm': 'auto', 'eps': 35.5, 'leaf_size'...   \n",
       "DBSCAN #4     {'algorithm': 'auto', 'eps': 36.0, 'leaf_size'...   \n",
       "\n",
       "                                                      partition  n_clusters  \n",
       "clusterer_id                                                                 \n",
       "DBSCAN #0     [0.0, 0.0, 0.0, 0.0, 0.0, 0.0, 0.0, 0.0, 0.0, ...          94  \n",
       "DBSCAN #1     [0.0, 0.0, 0.0, 0.0, 0.0, 0.0, 0.0, 0.0, 0.0, ...          44  \n",
       "DBSCAN #2     [0.0, 0.0, 0.0, 0.0, 0.0, 0.0, 0.0, 0.0, 0.0, ...          29  \n",
       "DBSCAN #3     [0.0, 0.0, 0.0, 0.0, 0.0, 0.0, 0.0, 0.0, 0.0, ...          22  \n",
       "DBSCAN #4     [0.0, 0.0, 0.0, 0.0, 0.0, 0.0, 0.0, 0.0, 0.0, ...          20  "
      ]
     },
     "execution_count": 27,
     "metadata": {},
     "output_type": "execute_result"
    }
   ],
   "source": [
    "ensemble.head()"
   ]
  },
  {
   "cell_type": "code",
   "execution_count": 28,
   "metadata": {
    "execution": {
     "iopub.execute_input": "2021-03-09T22:36:28.508089Z",
     "iopub.status.busy": "2021-03-09T22:36:28.507734Z",
     "iopub.status.idle": "2021-03-09T22:36:28.520040Z",
     "shell.execute_reply": "2021-03-09T22:36:28.519686Z"
    },
    "papermill": {
     "duration": 0.09372,
     "end_time": "2021-03-09T22:36:28.520120",
     "exception": false,
     "start_time": "2021-03-09T22:36:28.426400",
     "status": "completed"
    },
    "tags": []
   },
   "outputs": [
    {
     "data": {
      "text/plain": [
       "2     27\n",
       "5      8\n",
       "4      7\n",
       "3      4\n",
       "8      3\n",
       "20     3\n",
       "17     3\n",
       "7      3\n",
       "12     2\n",
       "10     1\n",
       "9      1\n",
       "44     1\n",
       "13     1\n",
       "19     1\n",
       "22     1\n",
       "29     1\n",
       "94     1\n",
       "Name: n_clusters, dtype: int64"
      ]
     },
     "metadata": {},
     "output_type": "display_data"
    }
   ],
   "source": [
    "_tmp = ensemble[\"n_clusters\"].value_counts()\n",
    "display(_tmp)\n",
    "assert _tmp.index[0] == 2\n",
    "assert _tmp.loc[2] == 27"
   ]
  },
  {
   "cell_type": "code",
   "execution_count": 29,
   "metadata": {
    "execution": {
     "iopub.execute_input": "2021-03-09T22:36:28.683578Z",
     "iopub.status.busy": "2021-03-09T22:36:28.683216Z",
     "iopub.status.idle": "2021-03-09T22:36:28.697277Z",
     "shell.execute_reply": "2021-03-09T22:36:28.696908Z"
    },
    "papermill": {
     "duration": 0.097927,
     "end_time": "2021-03-09T22:36:28.697362",
     "exception": false,
     "start_time": "2021-03-09T22:36:28.599435",
     "status": "completed"
    },
    "tags": []
   },
   "outputs": [
    {
     "data": {
      "text/plain": [
       "count    68.000000\n",
       "mean      8.147059\n",
       "std      13.069578\n",
       "min       2.000000\n",
       "25%       2.000000\n",
       "50%       4.000000\n",
       "75%       8.000000\n",
       "max      94.000000\n",
       "Name: n_clusters, dtype: float64"
      ]
     },
     "metadata": {},
     "output_type": "display_data"
    }
   ],
   "source": [
    "ensemble_stats = ensemble[\"n_clusters\"].describe()\n",
    "display(ensemble_stats)"
   ]
  },
  {
   "cell_type": "code",
   "execution_count": 30,
   "metadata": {
    "execution": {
     "iopub.execute_input": "2021-03-09T22:36:28.865049Z",
     "iopub.status.busy": "2021-03-09T22:36:28.864621Z",
     "iopub.status.idle": "2021-03-09T22:36:28.876869Z",
     "shell.execute_reply": "2021-03-09T22:36:28.876448Z"
    },
    "papermill": {
     "duration": 0.094718,
     "end_time": "2021-03-09T22:36:28.876951",
     "exception": false,
     "start_time": "2021-03-09T22:36:28.782233",
     "status": "completed"
    },
    "tags": []
   },
   "outputs": [],
   "source": [
    "# number of noisy points\n",
    "_tmp = ensemble.copy()\n",
    "_tmp = _tmp.assign(n_noisy=ensemble[\"partition\"].apply(lambda x: np.isnan(x).sum()))"
   ]
  },
  {
   "cell_type": "code",
   "execution_count": 31,
   "metadata": {
    "execution": {
     "iopub.execute_input": "2021-03-09T22:36:29.039529Z",
     "iopub.status.busy": "2021-03-09T22:36:29.039164Z",
     "iopub.status.idle": "2021-03-09T22:36:29.052973Z",
     "shell.execute_reply": "2021-03-09T22:36:29.052570Z"
    },
    "papermill": {
     "duration": 0.095678,
     "end_time": "2021-03-09T22:36:29.053064",
     "exception": false,
     "start_time": "2021-03-09T22:36:28.957386",
     "status": "completed"
    },
    "tags": []
   },
   "outputs": [
    {
     "data": {
      "text/plain": [
       "count     68.000000\n",
       "mean      65.132353\n",
       "std       72.718616\n",
       "min        5.000000\n",
       "25%       23.500000\n",
       "50%       42.500000\n",
       "75%       79.000000\n",
       "max      511.000000\n",
       "Name: n_noisy, dtype: float64"
      ]
     },
     "metadata": {},
     "output_type": "display_data"
    }
   ],
   "source": [
    "_tmp_stats = _tmp[\"n_noisy\"].describe()\n",
    "display(_tmp_stats)\n",
    "assert _tmp_stats[\"max\"] < 520\n",
    "assert 60 < _tmp_stats[\"mean\"] < 70"
   ]
  },
  {
   "cell_type": "markdown",
   "metadata": {
    "papermill": {
     "duration": 0.08019,
     "end_time": "2021-03-09T22:36:29.214300",
     "exception": false,
     "start_time": "2021-03-09T22:36:29.134110",
     "status": "completed"
    },
    "tags": []
   },
   "source": [
    "## Testing"
   ]
  },
  {
   "cell_type": "code",
   "execution_count": 32,
   "metadata": {
    "execution": {
     "iopub.execute_input": "2021-03-09T22:36:29.378293Z",
     "iopub.status.busy": "2021-03-09T22:36:29.377936Z",
     "iopub.status.idle": "2021-03-09T22:36:29.388260Z",
     "shell.execute_reply": "2021-03-09T22:36:29.387888Z"
    },
    "papermill": {
     "duration": 0.092956,
     "end_time": "2021-03-09T22:36:29.388343",
     "exception": false,
     "start_time": "2021-03-09T22:36:29.295387",
     "status": "completed"
    },
    "tags": []
   },
   "outputs": [],
   "source": [
    "assert ensemble_stats[\"min\"] > 1"
   ]
  },
  {
   "cell_type": "code",
   "execution_count": 33,
   "metadata": {
    "execution": {
     "iopub.execute_input": "2021-03-09T22:36:29.576997Z",
     "iopub.status.busy": "2021-03-09T22:36:29.576565Z",
     "iopub.status.idle": "2021-03-09T22:36:29.587055Z",
     "shell.execute_reply": "2021-03-09T22:36:29.586702Z"
    },
    "papermill": {
     "duration": 0.097834,
     "end_time": "2021-03-09T22:36:29.587134",
     "exception": false,
     "start_time": "2021-03-09T22:36:29.489300",
     "status": "completed"
    },
    "tags": []
   },
   "outputs": [],
   "source": [
    "assert not ensemble[\"n_clusters\"].isna().any()"
   ]
  },
  {
   "cell_type": "code",
   "execution_count": 34,
   "metadata": {
    "execution": {
     "iopub.execute_input": "2021-03-09T22:36:29.750247Z",
     "iopub.status.busy": "2021-03-09T22:36:29.749880Z",
     "iopub.status.idle": "2021-03-09T22:36:29.764781Z",
     "shell.execute_reply": "2021-03-09T22:36:29.764361Z"
    },
    "papermill": {
     "duration": 0.098019,
     "end_time": "2021-03-09T22:36:29.764876",
     "exception": false,
     "start_time": "2021-03-09T22:36:29.666857",
     "status": "completed"
    },
    "tags": []
   },
   "outputs": [],
   "source": [
    "# all partitions have the right size\n",
    "assert np.all(\n",
    "    [part[\"partition\"].shape[0] == data.shape[0] for idx, part in ensemble.iterrows()]\n",
    ")"
   ]
  },
  {
   "cell_type": "markdown",
   "metadata": {
    "papermill": {
     "duration": 0.079569,
     "end_time": "2021-03-09T22:36:29.925338",
     "exception": false,
     "start_time": "2021-03-09T22:36:29.845769",
     "status": "completed"
    },
    "tags": []
   },
   "source": [
    "## Add clustering quality measures"
   ]
  },
  {
   "cell_type": "code",
   "execution_count": 35,
   "metadata": {
    "execution": {
     "iopub.execute_input": "2021-03-09T22:36:30.093420Z",
     "iopub.status.busy": "2021-03-09T22:36:30.093051Z",
     "iopub.status.idle": "2021-03-09T22:36:30.103525Z",
     "shell.execute_reply": "2021-03-09T22:36:30.103129Z"
    },
    "papermill": {
     "duration": 0.097945,
     "end_time": "2021-03-09T22:36:30.103612",
     "exception": false,
     "start_time": "2021-03-09T22:36:30.005667",
     "status": "completed"
    },
    "tags": []
   },
   "outputs": [],
   "source": [
    "def _remove_nans(data, part):\n",
    "    not_nan_idx = ~np.isnan(part)\n",
    "    return data.iloc[not_nan_idx], part[not_nan_idx]\n",
    "\n",
    "\n",
    "def _apply_func(func, data, part):\n",
    "    no_nan_data, no_nan_part = _remove_nans(data, part)\n",
    "    return func(no_nan_data, no_nan_part)"
   ]
  },
  {
   "cell_type": "code",
   "execution_count": 36,
   "metadata": {
    "execution": {
     "iopub.execute_input": "2021-03-09T22:36:30.269362Z",
     "iopub.status.busy": "2021-03-09T22:36:30.268992Z",
     "iopub.status.idle": "2021-03-09T22:36:56.482577Z",
     "shell.execute_reply": "2021-03-09T22:36:56.481969Z"
    },
    "papermill": {
     "duration": 26.296691,
     "end_time": "2021-03-09T22:36:56.482677",
     "exception": false,
     "start_time": "2021-03-09T22:36:30.185986",
     "status": "completed"
    },
    "tags": []
   },
   "outputs": [],
   "source": [
    "ensemble = ensemble.assign(\n",
    "    si_score=ensemble[\"partition\"].apply(\n",
    "        lambda x: _apply_func(silhouette_score, data, x)\n",
    "    ),\n",
    "    ch_score=ensemble[\"partition\"].apply(\n",
    "        lambda x: _apply_func(calinski_harabasz_score, data, x)\n",
    "    ),\n",
    "    db_score=ensemble[\"partition\"].apply(\n",
    "        lambda x: _apply_func(davies_bouldin_score, data, x)\n",
    "    ),\n",
    ")"
   ]
  },
  {
   "cell_type": "code",
   "execution_count": 37,
   "metadata": {
    "execution": {
     "iopub.execute_input": "2021-03-09T22:36:56.653423Z",
     "iopub.status.busy": "2021-03-09T22:36:56.653021Z",
     "iopub.status.idle": "2021-03-09T22:36:56.664540Z",
     "shell.execute_reply": "2021-03-09T22:36:56.664084Z"
    },
    "papermill": {
     "duration": 0.096684,
     "end_time": "2021-03-09T22:36:56.664627",
     "exception": false,
     "start_time": "2021-03-09T22:36:56.567943",
     "status": "completed"
    },
    "tags": []
   },
   "outputs": [
    {
     "data": {
      "text/plain": [
       "(68, 6)"
      ]
     },
     "execution_count": 37,
     "metadata": {},
     "output_type": "execute_result"
    }
   ],
   "source": [
    "ensemble.shape"
   ]
  },
  {
   "cell_type": "code",
   "execution_count": 38,
   "metadata": {
    "execution": {
     "iopub.execute_input": "2021-03-09T22:36:56.831726Z",
     "iopub.status.busy": "2021-03-09T22:36:56.831371Z",
     "iopub.status.idle": "2021-03-09T22:36:56.850455Z",
     "shell.execute_reply": "2021-03-09T22:36:56.850087Z"
    },
    "papermill": {
     "duration": 0.102677,
     "end_time": "2021-03-09T22:36:56.850539",
     "exception": false,
     "start_time": "2021-03-09T22:36:56.747862",
     "status": "completed"
    },
    "tags": []
   },
   "outputs": [
    {
     "data": {
      "text/html": [
       "<div>\n",
       "<style scoped>\n",
       "    .dataframe tbody tr th:only-of-type {\n",
       "        vertical-align: middle;\n",
       "    }\n",
       "\n",
       "    .dataframe tbody tr th {\n",
       "        vertical-align: top;\n",
       "    }\n",
       "\n",
       "    .dataframe thead th {\n",
       "        text-align: right;\n",
       "    }\n",
       "</style>\n",
       "<table border=\"1\" class=\"dataframe\">\n",
       "  <thead>\n",
       "    <tr style=\"text-align: right;\">\n",
       "      <th></th>\n",
       "      <th>clusterer_params</th>\n",
       "      <th>partition</th>\n",
       "      <th>n_clusters</th>\n",
       "      <th>si_score</th>\n",
       "      <th>ch_score</th>\n",
       "      <th>db_score</th>\n",
       "    </tr>\n",
       "    <tr>\n",
       "      <th>clusterer_id</th>\n",
       "      <th></th>\n",
       "      <th></th>\n",
       "      <th></th>\n",
       "      <th></th>\n",
       "      <th></th>\n",
       "      <th></th>\n",
       "    </tr>\n",
       "  </thead>\n",
       "  <tbody>\n",
       "    <tr>\n",
       "      <th>DBSCAN #0</th>\n",
       "      <td>{'algorithm': 'auto', 'eps': 34.0, 'leaf_size'...</td>\n",
       "      <td>[0.0, 0.0, 0.0, 0.0, 0.0, 0.0, 0.0, 0.0, 0.0, ...</td>\n",
       "      <td>94</td>\n",
       "      <td>0.023921</td>\n",
       "      <td>3.199500</td>\n",
       "      <td>1.212747</td>\n",
       "    </tr>\n",
       "    <tr>\n",
       "      <th>DBSCAN #1</th>\n",
       "      <td>{'algorithm': 'auto', 'eps': 34.5, 'leaf_size'...</td>\n",
       "      <td>[0.0, 0.0, 0.0, 0.0, 0.0, 0.0, 0.0, 0.0, 0.0, ...</td>\n",
       "      <td>44</td>\n",
       "      <td>0.014158</td>\n",
       "      <td>4.259830</td>\n",
       "      <td>1.168378</td>\n",
       "    </tr>\n",
       "    <tr>\n",
       "      <th>DBSCAN #2</th>\n",
       "      <td>{'algorithm': 'auto', 'eps': 35.0, 'leaf_size'...</td>\n",
       "      <td>[0.0, 0.0, 0.0, 0.0, 0.0, 0.0, 0.0, 0.0, 0.0, ...</td>\n",
       "      <td>29</td>\n",
       "      <td>0.031332</td>\n",
       "      <td>5.477907</td>\n",
       "      <td>1.138848</td>\n",
       "    </tr>\n",
       "    <tr>\n",
       "      <th>DBSCAN #3</th>\n",
       "      <td>{'algorithm': 'auto', 'eps': 35.5, 'leaf_size'...</td>\n",
       "      <td>[0.0, 0.0, 0.0, 0.0, 0.0, 0.0, 0.0, 0.0, 0.0, ...</td>\n",
       "      <td>22</td>\n",
       "      <td>0.048892</td>\n",
       "      <td>6.390954</td>\n",
       "      <td>1.179776</td>\n",
       "    </tr>\n",
       "    <tr>\n",
       "      <th>DBSCAN #4</th>\n",
       "      <td>{'algorithm': 'auto', 'eps': 36.0, 'leaf_size'...</td>\n",
       "      <td>[0.0, 0.0, 0.0, 0.0, 0.0, 0.0, 0.0, 0.0, 0.0, ...</td>\n",
       "      <td>20</td>\n",
       "      <td>0.079158</td>\n",
       "      <td>6.816291</td>\n",
       "      <td>1.140895</td>\n",
       "    </tr>\n",
       "  </tbody>\n",
       "</table>\n",
       "</div>"
      ],
      "text/plain": [
       "                                               clusterer_params  \\\n",
       "clusterer_id                                                      \n",
       "DBSCAN #0     {'algorithm': 'auto', 'eps': 34.0, 'leaf_size'...   \n",
       "DBSCAN #1     {'algorithm': 'auto', 'eps': 34.5, 'leaf_size'...   \n",
       "DBSCAN #2     {'algorithm': 'auto', 'eps': 35.0, 'leaf_size'...   \n",
       "DBSCAN #3     {'algorithm': 'auto', 'eps': 35.5, 'leaf_size'...   \n",
       "DBSCAN #4     {'algorithm': 'auto', 'eps': 36.0, 'leaf_size'...   \n",
       "\n",
       "                                                      partition  n_clusters  \\\n",
       "clusterer_id                                                                  \n",
       "DBSCAN #0     [0.0, 0.0, 0.0, 0.0, 0.0, 0.0, 0.0, 0.0, 0.0, ...          94   \n",
       "DBSCAN #1     [0.0, 0.0, 0.0, 0.0, 0.0, 0.0, 0.0, 0.0, 0.0, ...          44   \n",
       "DBSCAN #2     [0.0, 0.0, 0.0, 0.0, 0.0, 0.0, 0.0, 0.0, 0.0, ...          29   \n",
       "DBSCAN #3     [0.0, 0.0, 0.0, 0.0, 0.0, 0.0, 0.0, 0.0, 0.0, ...          22   \n",
       "DBSCAN #4     [0.0, 0.0, 0.0, 0.0, 0.0, 0.0, 0.0, 0.0, 0.0, ...          20   \n",
       "\n",
       "              si_score  ch_score  db_score  \n",
       "clusterer_id                                \n",
       "DBSCAN #0     0.023921  3.199500  1.212747  \n",
       "DBSCAN #1     0.014158  4.259830  1.168378  \n",
       "DBSCAN #2     0.031332  5.477907  1.138848  \n",
       "DBSCAN #3     0.048892  6.390954  1.179776  \n",
       "DBSCAN #4     0.079158  6.816291  1.140895  "
      ]
     },
     "execution_count": 38,
     "metadata": {},
     "output_type": "execute_result"
    }
   ],
   "source": [
    "ensemble.head()"
   ]
  },
  {
   "cell_type": "markdown",
   "metadata": {
    "papermill": {
     "duration": 0.080207,
     "end_time": "2021-03-09T22:36:57.011024",
     "exception": false,
     "start_time": "2021-03-09T22:36:56.930817",
     "status": "completed"
    },
    "tags": []
   },
   "source": [
    "# Cluster quality"
   ]
  },
  {
   "cell_type": "code",
   "execution_count": 39,
   "metadata": {
    "execution": {
     "iopub.execute_input": "2021-03-09T22:36:57.176438Z",
     "iopub.status.busy": "2021-03-09T22:36:57.176071Z",
     "iopub.status.idle": "2021-03-09T22:36:57.192009Z",
     "shell.execute_reply": "2021-03-09T22:36:57.191641Z"
    },
    "papermill": {
     "duration": 0.09952,
     "end_time": "2021-03-09T22:36:57.192094",
     "exception": false,
     "start_time": "2021-03-09T22:36:57.092574",
     "status": "completed"
    },
    "tags": []
   },
   "outputs": [
    {
     "data": {
      "text/html": [
       "<div>\n",
       "<style scoped>\n",
       "    .dataframe tbody tr th:only-of-type {\n",
       "        vertical-align: middle;\n",
       "    }\n",
       "\n",
       "    .dataframe tbody tr th {\n",
       "        vertical-align: top;\n",
       "    }\n",
       "\n",
       "    .dataframe thead th {\n",
       "        text-align: right;\n",
       "    }\n",
       "</style>\n",
       "<table border=\"1\" class=\"dataframe\">\n",
       "  <thead>\n",
       "    <tr style=\"text-align: right;\">\n",
       "      <th></th>\n",
       "      <th>si_score</th>\n",
       "      <th>ch_score</th>\n",
       "      <th>db_score</th>\n",
       "    </tr>\n",
       "    <tr>\n",
       "      <th>n_clusters</th>\n",
       "      <th></th>\n",
       "      <th></th>\n",
       "      <th></th>\n",
       "    </tr>\n",
       "  </thead>\n",
       "  <tbody>\n",
       "    <tr>\n",
       "      <th>2</th>\n",
       "      <td>0.190294</td>\n",
       "      <td>13.922015</td>\n",
       "      <td>1.278473</td>\n",
       "    </tr>\n",
       "    <tr>\n",
       "      <th>3</th>\n",
       "      <td>0.223594</td>\n",
       "      <td>8.243559</td>\n",
       "      <td>1.301857</td>\n",
       "    </tr>\n",
       "    <tr>\n",
       "      <th>4</th>\n",
       "      <td>0.162990</td>\n",
       "      <td>12.776405</td>\n",
       "      <td>1.275792</td>\n",
       "    </tr>\n",
       "    <tr>\n",
       "      <th>5</th>\n",
       "      <td>0.096820</td>\n",
       "      <td>12.728950</td>\n",
       "      <td>1.255015</td>\n",
       "    </tr>\n",
       "    <tr>\n",
       "      <th>7</th>\n",
       "      <td>0.213418</td>\n",
       "      <td>8.325802</td>\n",
       "      <td>1.197106</td>\n",
       "    </tr>\n",
       "    <tr>\n",
       "      <th>8</th>\n",
       "      <td>0.185028</td>\n",
       "      <td>7.679106</td>\n",
       "      <td>1.173459</td>\n",
       "    </tr>\n",
       "    <tr>\n",
       "      <th>9</th>\n",
       "      <td>0.185690</td>\n",
       "      <td>7.839758</td>\n",
       "      <td>1.242830</td>\n",
       "    </tr>\n",
       "    <tr>\n",
       "      <th>10</th>\n",
       "      <td>0.149295</td>\n",
       "      <td>8.880184</td>\n",
       "      <td>1.249491</td>\n",
       "    </tr>\n",
       "    <tr>\n",
       "      <th>12</th>\n",
       "      <td>0.137707</td>\n",
       "      <td>8.986085</td>\n",
       "      <td>1.259991</td>\n",
       "    </tr>\n",
       "    <tr>\n",
       "      <th>13</th>\n",
       "      <td>0.138256</td>\n",
       "      <td>8.485457</td>\n",
       "      <td>1.200393</td>\n",
       "    </tr>\n",
       "    <tr>\n",
       "      <th>17</th>\n",
       "      <td>0.105218</td>\n",
       "      <td>7.360956</td>\n",
       "      <td>1.144088</td>\n",
       "    </tr>\n",
       "    <tr>\n",
       "      <th>19</th>\n",
       "      <td>0.078488</td>\n",
       "      <td>7.238637</td>\n",
       "      <td>1.144453</td>\n",
       "    </tr>\n",
       "    <tr>\n",
       "      <th>20</th>\n",
       "      <td>0.078952</td>\n",
       "      <td>6.842365</td>\n",
       "      <td>1.143767</td>\n",
       "    </tr>\n",
       "    <tr>\n",
       "      <th>22</th>\n",
       "      <td>0.048892</td>\n",
       "      <td>6.390954</td>\n",
       "      <td>1.179776</td>\n",
       "    </tr>\n",
       "    <tr>\n",
       "      <th>29</th>\n",
       "      <td>0.031332</td>\n",
       "      <td>5.477907</td>\n",
       "      <td>1.138848</td>\n",
       "    </tr>\n",
       "    <tr>\n",
       "      <th>44</th>\n",
       "      <td>0.014158</td>\n",
       "      <td>4.259830</td>\n",
       "      <td>1.168378</td>\n",
       "    </tr>\n",
       "    <tr>\n",
       "      <th>94</th>\n",
       "      <td>0.023921</td>\n",
       "      <td>3.199500</td>\n",
       "      <td>1.212747</td>\n",
       "    </tr>\n",
       "  </tbody>\n",
       "</table>\n",
       "</div>"
      ],
      "text/plain": [
       "            si_score   ch_score  db_score\n",
       "n_clusters                               \n",
       "2           0.190294  13.922015  1.278473\n",
       "3           0.223594   8.243559  1.301857\n",
       "4           0.162990  12.776405  1.275792\n",
       "5           0.096820  12.728950  1.255015\n",
       "7           0.213418   8.325802  1.197106\n",
       "8           0.185028   7.679106  1.173459\n",
       "9           0.185690   7.839758  1.242830\n",
       "10          0.149295   8.880184  1.249491\n",
       "12          0.137707   8.986085  1.259991\n",
       "13          0.138256   8.485457  1.200393\n",
       "17          0.105218   7.360956  1.144088\n",
       "19          0.078488   7.238637  1.144453\n",
       "20          0.078952   6.842365  1.143767\n",
       "22          0.048892   6.390954  1.179776\n",
       "29          0.031332   5.477907  1.138848\n",
       "44          0.014158   4.259830  1.168378\n",
       "94          0.023921   3.199500  1.212747"
      ]
     },
     "metadata": {},
     "output_type": "display_data"
    }
   ],
   "source": [
    "with pd.option_context(\"display.max_rows\", None, \"display.max_columns\", None):\n",
    "    _df = ensemble.groupby([\"n_clusters\"]).mean()\n",
    "    display(_df)"
   ]
  },
  {
   "cell_type": "code",
   "execution_count": 40,
   "metadata": {
    "execution": {
     "iopub.execute_input": "2021-03-09T22:36:57.358519Z",
     "iopub.status.busy": "2021-03-09T22:36:57.358157Z",
     "iopub.status.idle": "2021-03-09T22:36:58.064338Z",
     "shell.execute_reply": "2021-03-09T22:36:58.064045Z"
    },
    "papermill": {
     "duration": 0.790884,
     "end_time": "2021-03-09T22:36:58.064420",
     "exception": false,
     "start_time": "2021-03-09T22:36:57.273536",
     "status": "completed"
    },
    "tags": []
   },
   "outputs": [
    {
     "data": {
      "image/png": "[encoded data removed]",
      "text/plain": [
       "<Figure size 1008x432 with 1 Axes>"
      ]
     },
     "metadata": {},
     "output_type": "display_data"
    }
   ],
   "source": [
    "with sns.plotting_context(\"talk\", font_scale=0.75), sns.axes_style(\n",
    "    \"whitegrid\", {\"grid.linestyle\": \"--\"}\n",
    "):\n",
    "    fig = plt.figure(figsize=(14, 6))\n",
    "    ax = sns.pointplot(data=ensemble, x=\"n_clusters\", y=\"si_score\")\n",
    "    ax.set_ylabel(\"Silhouette index\\n(higher is better)\")\n",
    "    ax.set_xlabel(\"Number of clusters ($k$)\")\n",
    "    ax.set_xticklabels(ax.get_xticklabels(), rotation=45)\n",
    "    plt.grid(True)\n",
    "    plt.tight_layout()"
   ]
  },
  {
   "cell_type": "code",
   "execution_count": 41,
   "metadata": {
    "execution": {
     "iopub.execute_input": "2021-03-09T22:36:58.234728Z",
     "iopub.status.busy": "2021-03-09T22:36:58.234355Z",
     "iopub.status.idle": "2021-03-09T22:36:58.614728Z",
     "shell.execute_reply": "2021-03-09T22:36:58.614419Z"
    },
    "papermill": {
     "duration": 0.466946,
     "end_time": "2021-03-09T22:36:58.614808",
     "exception": false,
     "start_time": "2021-03-09T22:36:58.147862",
     "status": "completed"
    },
    "tags": []
   },
   "outputs": [
    {
     "data": {
      "image/png": "[encoded data removed]",
      "text/plain": [
       "<Figure size 1008x432 with 1 Axes>"
      ]
     },
     "metadata": {},
     "output_type": "display_data"
    }
   ],
   "source": [
    "with sns.plotting_context(\"talk\", font_scale=0.75), sns.axes_style(\n",
    "    \"whitegrid\", {\"grid.linestyle\": \"--\"}\n",
    "):\n",
    "    fig = plt.figure(figsize=(14, 6))\n",
    "    ax = sns.pointplot(data=ensemble, x=\"n_clusters\", y=\"ch_score\")\n",
    "    ax.set_ylabel(\"Calinski-Harabasz index\\n(higher is better)\")\n",
    "    ax.set_xlabel(\"Number of clusters ($k$)\")\n",
    "    ax.set_xticklabels(ax.get_xticklabels(), rotation=45)\n",
    "    plt.grid(True)\n",
    "    plt.tight_layout()"
   ]
  },
  {
   "cell_type": "code",
   "execution_count": 42,
   "metadata": {
    "execution": {
     "iopub.execute_input": "2021-03-09T22:36:58.787819Z",
     "iopub.status.busy": "2021-03-09T22:36:58.787445Z",
     "iopub.status.idle": "2021-03-09T22:36:59.184166Z",
     "shell.execute_reply": "2021-03-09T22:36:59.183794Z"
    },
    "papermill": {
     "duration": 0.483917,
     "end_time": "2021-03-09T22:36:59.184248",
     "exception": false,
     "start_time": "2021-03-09T22:36:58.700331",
     "status": "completed"
    },
    "tags": []
   },
   "outputs": [
    {
     "data": {
      "image/png": "[encoded data removed]",
      "text/plain": [
       "<Figure size 1008x432 with 1 Axes>"
      ]
     },
     "metadata": {},
     "output_type": "display_data"
    }
   ],
   "source": [
    "with sns.plotting_context(\"talk\", font_scale=0.75), sns.axes_style(\n",
    "    \"whitegrid\", {\"grid.linestyle\": \"--\"}\n",
    "):\n",
    "    fig = plt.figure(figsize=(14, 6))\n",
    "    ax = sns.pointplot(data=ensemble, x=\"n_clusters\", y=\"db_score\")\n",
    "    ax.set_ylabel(\"Davies-Bouldin index\\n(lower is better)\")\n",
    "    ax.set_xlabel(\"Number of clusters ($k$)\")\n",
    "    ax.set_xticklabels(ax.get_xticklabels(), rotation=45)\n",
    "    plt.grid(True)\n",
    "    plt.tight_layout()"
   ]
  },
  {
   "cell_type": "markdown",
   "metadata": {
    "papermill": {
     "duration": 0.086242,
     "end_time": "2021-03-09T22:36:59.356975",
     "exception": false,
     "start_time": "2021-03-09T22:36:59.270733",
     "status": "completed"
    },
    "tags": []
   },
   "source": [
    "# Conclusions"
   ]
  },
  {
   "cell_type": "markdown",
   "metadata": {
    "papermill": {
     "duration": 0.084659,
     "end_time": "2021-03-09T22:36:59.527522",
     "exception": false,
     "start_time": "2021-03-09T22:36:59.442863",
     "status": "completed"
    },
    "tags": []
   },
   "source": [
    "The values explored above for `k_values` and `eps_range_per_k` are the one that will be used for DBSCAN in this data version."
   ]
  },
  {
   "cell_type": "code",
   "execution_count": null,
   "metadata": {
    "papermill": {
     "duration": 0.085948,
     "end_time": "2021-03-09T22:36:59.698781",
     "exception": false,
     "start_time": "2021-03-09T22:36:59.612833",
     "status": "completed"
    },
    "tags": []
   },
   "outputs": [],
   "source": []
  }
 ],
 "metadata": {
  "jupytext": {
   "cell_metadata_filter": "all,-execution,-papermill,-trusted",
   "formats": "ipynb,py//py:percent"
  },
  "kernelspec": {
   "display_name": "Python 3",
   "language": "python",
   "name": "python3"
  },
  "language_info": {
   "codemirror_mode": {
    "name": "ipython",
    "version": 3
   },
   "file_extension": ".py",
   "mimetype": "text/x-python",
   "name": "python",
   "nbconvert_exporter": "python",
   "pygments_lexer": "ipython3",
   "version": "3.8.8"
  },
  "papermill": {
   "default_parameters": {},
   "duration": 230.779086,
   "end_time": "2021-03-09T22:37:00.191231",
   "environment_variables": {},
   "exception": null,
   "input_path": "15_cluster_analysis/pre_analysis/06_01-dbscan-z_score_std.ipynb",
   "output_path": "15_cluster_analysis/pre_analysis/06_01-dbscan-z_score_std.run.ipynb",
   "parameters": {},
   "start_time": "2021-03-09T22:33:09.412145",
   "version": "2.2.2"
  },
  "toc-autonumbering": true,
  "toc-showcode": false,
  "toc-showmarkdowntxt": false,
  "toc-showtags": false
 },
 "nbformat": 4,
 "nbformat_minor": 4
}
