{
 "cells": [
  {
   "cell_type": "markdown",
   "metadata": {
    "papermill": {
     "duration": 0.06608,
     "end_time": "2021-03-09T21:52:27.919910",
     "exception": false,
     "start_time": "2021-03-09T21:52:27.853830",
     "status": "completed"
    },
    "tags": []
   },
   "source": [
    "# Description"
   ]
  },
  {
   "cell_type": "markdown",
   "metadata": {
    "papermill": {
     "duration": 0.028012,
     "end_time": "2021-03-09T21:52:27.975621",
     "exception": false,
     "start_time": "2021-03-09T21:52:27.947609",
     "status": "completed"
    },
    "tags": []
   },
   "source": [
    "This notebook runs some pre-analyses using spectral clustering to explore the best set of parameters to cluster `pca` data version."
   ]
  },
  {
   "cell_type": "markdown",
   "metadata": {
    "papermill": {
     "duration": 0.027667,
     "end_time": "2021-03-09T21:52:28.031112",
     "exception": false,
     "start_time": "2021-03-09T21:52:28.003445",
     "status": "completed"
    },
    "tags": []
   },
   "source": [
    "# Environment variables"
   ]
  },
  {
   "cell_type": "code",
   "execution_count": 1,
   "metadata": {
    "execution": {
     "iopub.execute_input": "2021-03-09T21:52:28.093280Z",
     "iopub.status.busy": "2021-03-09T21:52:28.092902Z",
     "iopub.status.idle": "2021-03-09T21:52:28.103279Z",
     "shell.execute_reply": "2021-03-09T21:52:28.102853Z"
    },
    "papermill": {
     "duration": 0.044589,
     "end_time": "2021-03-09T21:52:28.103369",
     "exception": false,
     "start_time": "2021-03-09T21:52:28.058780",
     "status": "completed"
    },
    "tags": []
   },
   "outputs": [
    {
     "data": {
      "text/plain": [
       "2"
      ]
     },
     "metadata": {},
     "output_type": "display_data"
    }
   ],
   "source": [
    "from IPython.display import display\n",
    "\n",
    "import conf\n",
    "\n",
    "N_JOBS = conf.GENERAL[\"N_JOBS\"]\n",
    "display(N_JOBS)"
   ]
  },
  {
   "cell_type": "code",
   "execution_count": 2,
   "metadata": {
    "execution": {
     "iopub.execute_input": "2021-03-09T21:52:28.164801Z",
     "iopub.status.busy": "2021-03-09T21:52:28.164349Z",
     "iopub.status.idle": "2021-03-09T21:52:28.166972Z",
     "shell.execute_reply": "2021-03-09T21:52:28.166606Z"
    },
    "papermill": {
     "duration": 0.035021,
     "end_time": "2021-03-09T21:52:28.167053",
     "exception": false,
     "start_time": "2021-03-09T21:52:28.132032",
     "status": "completed"
    },
    "tags": []
   },
   "outputs": [
    {
     "name": "stdout",
     "output_type": "stream",
     "text": [
      "env: MKL_NUM_THREADS=2\n",
      "env: OPEN_BLAS_NUM_THREADS=2\n",
      "env: NUMEXPR_NUM_THREADS=2\n",
      "env: OMP_NUM_THREADS=2\n"
     ]
    }
   ],
   "source": [
    "%env MKL_NUM_THREADS=$N_JOBS\n",
    "%env OPEN_BLAS_NUM_THREADS=$N_JOBS\n",
    "%env NUMEXPR_NUM_THREADS=$N_JOBS\n",
    "%env OMP_NUM_THREADS=$N_JOBS"
   ]
  },
  {
   "cell_type": "markdown",
   "metadata": {
    "papermill": {
     "duration": 0.027931,
     "end_time": "2021-03-09T21:52:28.223596",
     "exception": false,
     "start_time": "2021-03-09T21:52:28.195665",
     "status": "completed"
    },
    "tags": []
   },
   "source": [
    "# Modules loading"
   ]
  },
  {
   "cell_type": "code",
   "execution_count": 3,
   "metadata": {
    "execution": {
     "iopub.execute_input": "2021-03-09T21:52:28.282931Z",
     "iopub.status.busy": "2021-03-09T21:52:28.282513Z",
     "iopub.status.idle": "2021-03-09T21:52:28.290026Z",
     "shell.execute_reply": "2021-03-09T21:52:28.289647Z"
    },
    "papermill": {
     "duration": 0.038398,
     "end_time": "2021-03-09T21:52:28.290114",
     "exception": false,
     "start_time": "2021-03-09T21:52:28.251716",
     "status": "completed"
    },
    "tags": []
   },
   "outputs": [],
   "source": [
    "%load_ext autoreload\n",
    "%autoreload 2"
   ]
  },
  {
   "cell_type": "code",
   "execution_count": 4,
   "metadata": {
    "execution": {
     "iopub.execute_input": "2021-03-09T21:52:28.349418Z",
     "iopub.status.busy": "2021-03-09T21:52:28.349067Z",
     "iopub.status.idle": "2021-03-09T21:52:28.929317Z",
     "shell.execute_reply": "2021-03-09T21:52:28.928923Z"
    },
    "papermill": {
     "duration": 0.610618,
     "end_time": "2021-03-09T21:52:28.929428",
     "exception": false,
     "start_time": "2021-03-09T21:52:28.318810",
     "status": "completed"
    },
    "tags": []
   },
   "outputs": [],
   "source": [
    "from pathlib import Path\n",
    "import warnings\n",
    "\n",
    "import numpy as np\n",
    "import pandas as pd\n",
    "import matplotlib.pyplot as plt\n",
    "import seaborn as sns\n",
    "\n",
    "from utils import generate_result_set_name"
   ]
  },
  {
   "cell_type": "markdown",
   "metadata": {
    "papermill": {
     "duration": 0.028723,
     "end_time": "2021-03-09T21:52:28.991570",
     "exception": false,
     "start_time": "2021-03-09T21:52:28.962847",
     "status": "completed"
    },
    "tags": []
   },
   "source": [
    "# Settings"
   ]
  },
  {
   "cell_type": "code",
   "execution_count": 5,
   "metadata": {
    "execution": {
     "iopub.execute_input": "2021-03-09T21:52:29.050984Z",
     "iopub.status.busy": "2021-03-09T21:52:29.050603Z",
     "iopub.status.idle": "2021-03-09T21:52:29.059877Z",
     "shell.execute_reply": "2021-03-09T21:52:29.059495Z"
    },
    "papermill": {
     "duration": 0.040044,
     "end_time": "2021-03-09T21:52:29.059962",
     "exception": false,
     "start_time": "2021-03-09T21:52:29.019918",
     "status": "completed"
    },
    "tags": []
   },
   "outputs": [],
   "source": [
    "INITIAL_RANDOM_STATE = 40000"
   ]
  },
  {
   "cell_type": "markdown",
   "metadata": {
    "papermill": {
     "duration": 0.028201,
     "end_time": "2021-03-09T21:52:29.117930",
     "exception": false,
     "start_time": "2021-03-09T21:52:29.089729",
     "status": "completed"
    },
    "tags": []
   },
   "source": [
    "# PCA"
   ]
  },
  {
   "cell_type": "code",
   "execution_count": 6,
   "metadata": {
    "execution": {
     "iopub.execute_input": "2021-03-09T21:52:29.176815Z",
     "iopub.status.busy": "2021-03-09T21:52:29.176406Z",
     "iopub.status.idle": "2021-03-09T21:52:29.186009Z",
     "shell.execute_reply": "2021-03-09T21:52:29.185629Z"
    },
    "papermill": {
     "duration": 0.040107,
     "end_time": "2021-03-09T21:52:29.186097",
     "exception": false,
     "start_time": "2021-03-09T21:52:29.145990",
     "status": "completed"
    },
    "tags": []
   },
   "outputs": [],
   "source": [
    "INPUT_SUBSET = \"pca\""
   ]
  },
  {
   "cell_type": "code",
   "execution_count": 7,
   "metadata": {
    "execution": {
     "iopub.execute_input": "2021-03-09T21:52:29.246417Z",
     "iopub.status.busy": "2021-03-09T21:52:29.246043Z",
     "iopub.status.idle": "2021-03-09T21:52:29.255542Z",
     "shell.execute_reply": "2021-03-09T21:52:29.255164Z"
    },
    "papermill": {
     "duration": 0.040621,
     "end_time": "2021-03-09T21:52:29.255629",
     "exception": false,
     "start_time": "2021-03-09T21:52:29.215008",
     "status": "completed"
    },
    "tags": []
   },
   "outputs": [],
   "source": [
    "INPUT_STEM = \"z_score_std-projection-smultixcan-efo_partial-mashr-zscores\""
   ]
  },
  {
   "cell_type": "code",
   "execution_count": 8,
   "metadata": {
    "execution": {
     "iopub.execute_input": "2021-03-09T21:52:29.315383Z",
     "iopub.status.busy": "2021-03-09T21:52:29.315024Z",
     "iopub.status.idle": "2021-03-09T21:52:29.324357Z",
     "shell.execute_reply": "2021-03-09T21:52:29.323997Z"
    },
    "papermill": {
     "duration": 0.03981,
     "end_time": "2021-03-09T21:52:29.324439",
     "exception": false,
     "start_time": "2021-03-09T21:52:29.284629",
     "status": "completed"
    },
    "tags": []
   },
   "outputs": [],
   "source": [
    "DR_OPTIONS = {\n",
    "    \"n_components\": 50,\n",
    "    \"svd_solver\": \"full\",\n",
    "    \"random_state\": 0,\n",
    "}"
   ]
  },
  {
   "cell_type": "code",
   "execution_count": 9,
   "metadata": {
    "execution": {
     "iopub.execute_input": "2021-03-09T21:52:29.384538Z",
     "iopub.status.busy": "2021-03-09T21:52:29.384162Z",
     "iopub.status.idle": "2021-03-09T21:52:29.396158Z",
     "shell.execute_reply": "2021-03-09T21:52:29.395785Z"
    },
    "papermill": {
     "duration": 0.04316,
     "end_time": "2021-03-09T21:52:29.396243",
     "exception": false,
     "start_time": "2021-03-09T21:52:29.353083",
     "status": "completed"
    },
    "tags": []
   },
   "outputs": [
    {
     "data": {
      "text/plain": [
       "PosixPath('/home/miltondp/projects/labs/greenelab/phenoplier/base/results/data_transformations/pca/pca-z_score_std-projection-smultixcan-efo_partial-mashr-zscores-n_components_50-random_state_0-svd_solver_full.pkl')"
      ]
     },
     "metadata": {},
     "output_type": "display_data"
    },
    {
     "data": {
      "text/plain": [
       "'pca-z_score_std-projection-smultixcan-efo_partial-mashr-zscores-n_components_50-random_state_0-svd_solver_full'"
      ]
     },
     "metadata": {},
     "output_type": "display_data"
    }
   ],
   "source": [
    "input_filepath = Path(\n",
    "    conf.RESULTS[\"DATA_TRANSFORMATIONS_DIR\"],\n",
    "    INPUT_SUBSET,\n",
    "    generate_result_set_name(\n",
    "        DR_OPTIONS, prefix=f\"{INPUT_SUBSET}-{INPUT_STEM}-\", suffix=\".pkl\"\n",
    "    ),\n",
    ").resolve()\n",
    "display(input_filepath)\n",
    "\n",
    "assert input_filepath.exists(), \"Input file does not exist\"\n",
    "\n",
    "input_filepath_stem = input_filepath.stem\n",
    "display(input_filepath_stem)"
   ]
  },
  {
   "cell_type": "code",
   "execution_count": 10,
   "metadata": {
    "execution": {
     "iopub.execute_input": "2021-03-09T21:52:29.456531Z",
     "iopub.status.busy": "2021-03-09T21:52:29.456171Z",
     "iopub.status.idle": "2021-03-09T21:52:29.467441Z",
     "shell.execute_reply": "2021-03-09T21:52:29.467060Z"
    },
    "papermill": {
     "duration": 0.042157,
     "end_time": "2021-03-09T21:52:29.467527",
     "exception": false,
     "start_time": "2021-03-09T21:52:29.425370",
     "status": "completed"
    },
    "tags": []
   },
   "outputs": [],
   "source": [
    "data = pd.read_pickle(input_filepath)"
   ]
  },
  {
   "cell_type": "code",
   "execution_count": 11,
   "metadata": {
    "execution": {
     "iopub.execute_input": "2021-03-09T21:52:29.529496Z",
     "iopub.status.busy": "2021-03-09T21:52:29.529100Z",
     "iopub.status.idle": "2021-03-09T21:52:29.539783Z",
     "shell.execute_reply": "2021-03-09T21:52:29.539357Z"
    },
    "papermill": {
     "duration": 0.043054,
     "end_time": "2021-03-09T21:52:29.539879",
     "exception": false,
     "start_time": "2021-03-09T21:52:29.496825",
     "status": "completed"
    },
    "tags": []
   },
   "outputs": [
    {
     "data": {
      "text/plain": [
       "(3752, 50)"
      ]
     },
     "execution_count": 11,
     "metadata": {},
     "output_type": "execute_result"
    }
   ],
   "source": [
    "data.shape"
   ]
  },
  {
   "cell_type": "code",
   "execution_count": 12,
   "metadata": {
    "execution": {
     "iopub.execute_input": "2021-03-09T21:52:29.603027Z",
     "iopub.status.busy": "2021-03-09T21:52:29.602665Z",
     "iopub.status.idle": "2021-03-09T21:52:29.624609Z",
     "shell.execute_reply": "2021-03-09T21:52:29.624937Z"
    },
    "papermill": {
     "duration": 0.053978,
     "end_time": "2021-03-09T21:52:29.625043",
     "exception": false,
     "start_time": "2021-03-09T21:52:29.571065",
     "status": "completed"
    },
    "tags": []
   },
   "outputs": [
    {
     "data": {
      "text/html": [
       "<div>\n",
       "<style scoped>\n",
       "    .dataframe tbody tr th:only-of-type {\n",
       "        vertical-align: middle;\n",
       "    }\n",
       "\n",
       "    .dataframe tbody tr th {\n",
       "        vertical-align: top;\n",
       "    }\n",
       "\n",
       "    .dataframe thead th {\n",
       "        text-align: right;\n",
       "    }\n",
       "</style>\n",
       "<table border=\"1\" class=\"dataframe\">\n",
       "  <thead>\n",
       "    <tr style=\"text-align: right;\">\n",
       "      <th></th>\n",
       "      <th>PCA1</th>\n",
       "      <th>PCA2</th>\n",
       "      <th>PCA3</th>\n",
       "      <th>PCA4</th>\n",
       "      <th>PCA5</th>\n",
       "      <th>PCA6</th>\n",
       "      <th>PCA7</th>\n",
       "      <th>PCA8</th>\n",
       "      <th>PCA9</th>\n",
       "      <th>PCA10</th>\n",
       "      <th>...</th>\n",
       "      <th>PCA41</th>\n",
       "      <th>PCA42</th>\n",
       "      <th>PCA43</th>\n",
       "      <th>PCA44</th>\n",
       "      <th>PCA45</th>\n",
       "      <th>PCA46</th>\n",
       "      <th>PCA47</th>\n",
       "      <th>PCA48</th>\n",
       "      <th>PCA49</th>\n",
       "      <th>PCA50</th>\n",
       "    </tr>\n",
       "  </thead>\n",
       "  <tbody>\n",
       "    <tr>\n",
       "      <th>100001_raw-Food_weight</th>\n",
       "      <td>0.805216</td>\n",
       "      <td>-0.865390</td>\n",
       "      <td>0.699480</td>\n",
       "      <td>-0.065976</td>\n",
       "      <td>0.999617</td>\n",
       "      <td>-0.418645</td>\n",
       "      <td>1.993288</td>\n",
       "      <td>-0.346875</td>\n",
       "      <td>-1.522978</td>\n",
       "      <td>-2.382791</td>\n",
       "      <td>...</td>\n",
       "      <td>0.777932</td>\n",
       "      <td>0.507896</td>\n",
       "      <td>0.693668</td>\n",
       "      <td>1.024260</td>\n",
       "      <td>0.189606</td>\n",
       "      <td>-1.661826</td>\n",
       "      <td>0.281234</td>\n",
       "      <td>-0.096792</td>\n",
       "      <td>-0.339508</td>\n",
       "      <td>0.041431</td>\n",
       "    </tr>\n",
       "    <tr>\n",
       "      <th>100002_raw-Energy</th>\n",
       "      <td>0.588507</td>\n",
       "      <td>-1.491772</td>\n",
       "      <td>1.756340</td>\n",
       "      <td>-3.593295</td>\n",
       "      <td>2.100607</td>\n",
       "      <td>0.364910</td>\n",
       "      <td>1.254815</td>\n",
       "      <td>2.028484</td>\n",
       "      <td>-0.357607</td>\n",
       "      <td>-4.832726</td>\n",
       "      <td>...</td>\n",
       "      <td>-0.780215</td>\n",
       "      <td>-2.285033</td>\n",
       "      <td>-0.607663</td>\n",
       "      <td>-2.727018</td>\n",
       "      <td>1.711667</td>\n",
       "      <td>-0.535025</td>\n",
       "      <td>2.342068</td>\n",
       "      <td>0.197519</td>\n",
       "      <td>1.636996</td>\n",
       "      <td>-1.114410</td>\n",
       "    </tr>\n",
       "    <tr>\n",
       "      <th>100003_raw-Protein</th>\n",
       "      <td>1.910160</td>\n",
       "      <td>-1.873687</td>\n",
       "      <td>1.876677</td>\n",
       "      <td>-3.832557</td>\n",
       "      <td>1.240704</td>\n",
       "      <td>2.941375</td>\n",
       "      <td>2.293978</td>\n",
       "      <td>0.802473</td>\n",
       "      <td>0.665380</td>\n",
       "      <td>-4.375319</td>\n",
       "      <td>...</td>\n",
       "      <td>-0.547161</td>\n",
       "      <td>0.514721</td>\n",
       "      <td>0.034145</td>\n",
       "      <td>-0.423218</td>\n",
       "      <td>-0.324825</td>\n",
       "      <td>-0.000958</td>\n",
       "      <td>0.294579</td>\n",
       "      <td>1.186937</td>\n",
       "      <td>0.226722</td>\n",
       "      <td>0.169931</td>\n",
       "    </tr>\n",
       "    <tr>\n",
       "      <th>100004_raw-Fat</th>\n",
       "      <td>0.750799</td>\n",
       "      <td>-0.294733</td>\n",
       "      <td>1.317710</td>\n",
       "      <td>-1.346081</td>\n",
       "      <td>2.006403</td>\n",
       "      <td>0.533509</td>\n",
       "      <td>-0.752916</td>\n",
       "      <td>0.937515</td>\n",
       "      <td>-0.572191</td>\n",
       "      <td>-2.451612</td>\n",
       "      <td>...</td>\n",
       "      <td>0.060359</td>\n",
       "      <td>-0.878309</td>\n",
       "      <td>-0.774943</td>\n",
       "      <td>-1.914890</td>\n",
       "      <td>2.559763</td>\n",
       "      <td>1.547267</td>\n",
       "      <td>1.851110</td>\n",
       "      <td>-0.310431</td>\n",
       "      <td>3.495624</td>\n",
       "      <td>-1.595785</td>\n",
       "    </tr>\n",
       "    <tr>\n",
       "      <th>100005_raw-Carbohydrate</th>\n",
       "      <td>-0.530044</td>\n",
       "      <td>-0.007398</td>\n",
       "      <td>0.611418</td>\n",
       "      <td>-3.604094</td>\n",
       "      <td>2.227872</td>\n",
       "      <td>0.051271</td>\n",
       "      <td>0.001135</td>\n",
       "      <td>2.303819</td>\n",
       "      <td>-0.387759</td>\n",
       "      <td>-5.686184</td>\n",
       "      <td>...</td>\n",
       "      <td>-1.110273</td>\n",
       "      <td>-3.032541</td>\n",
       "      <td>-1.223873</td>\n",
       "      <td>-0.945626</td>\n",
       "      <td>2.150276</td>\n",
       "      <td>-1.798716</td>\n",
       "      <td>2.526678</td>\n",
       "      <td>0.716987</td>\n",
       "      <td>0.300972</td>\n",
       "      <td>-0.893854</td>\n",
       "    </tr>\n",
       "  </tbody>\n",
       "</table>\n",
       "<p>5 rows × 50 columns</p>\n",
       "</div>"
      ],
      "text/plain": [
       "                             PCA1      PCA2      PCA3      PCA4      PCA5  \\\n",
       "100001_raw-Food_weight   0.805216 -0.865390  0.699480 -0.065976  0.999617   \n",
       "100002_raw-Energy        0.588507 -1.491772  1.756340 -3.593295  2.100607   \n",
       "100003_raw-Protein       1.910160 -1.873687  1.876677 -3.832557  1.240704   \n",
       "100004_raw-Fat           0.750799 -0.294733  1.317710 -1.346081  2.006403   \n",
       "100005_raw-Carbohydrate -0.530044 -0.007398  0.611418 -3.604094  2.227872   \n",
       "\n",
       "                             PCA6      PCA7      PCA8      PCA9     PCA10  \\\n",
       "100001_raw-Food_weight  -0.418645  1.993288 -0.346875 -1.522978 -2.382791   \n",
       "100002_raw-Energy        0.364910  1.254815  2.028484 -0.357607 -4.832726   \n",
       "100003_raw-Protein       2.941375  2.293978  0.802473  0.665380 -4.375319   \n",
       "100004_raw-Fat           0.533509 -0.752916  0.937515 -0.572191 -2.451612   \n",
       "100005_raw-Carbohydrate  0.051271  0.001135  2.303819 -0.387759 -5.686184   \n",
       "\n",
       "                         ...     PCA41     PCA42     PCA43     PCA44  \\\n",
       "100001_raw-Food_weight   ...  0.777932  0.507896  0.693668  1.024260   \n",
       "100002_raw-Energy        ... -0.780215 -2.285033 -0.607663 -2.727018   \n",
       "100003_raw-Protein       ... -0.547161  0.514721  0.034145 -0.423218   \n",
       "100004_raw-Fat           ...  0.060359 -0.878309 -0.774943 -1.914890   \n",
       "100005_raw-Carbohydrate  ... -1.110273 -3.032541 -1.223873 -0.945626   \n",
       "\n",
       "                            PCA45     PCA46     PCA47     PCA48     PCA49  \\\n",
       "100001_raw-Food_weight   0.189606 -1.661826  0.281234 -0.096792 -0.339508   \n",
       "100002_raw-Energy        1.711667 -0.535025  2.342068  0.197519  1.636996   \n",
       "100003_raw-Protein      -0.324825 -0.000958  0.294579  1.186937  0.226722   \n",
       "100004_raw-Fat           2.559763  1.547267  1.851110 -0.310431  3.495624   \n",
       "100005_raw-Carbohydrate  2.150276 -1.798716  2.526678  0.716987  0.300972   \n",
       "\n",
       "                            PCA50  \n",
       "100001_raw-Food_weight   0.041431  \n",
       "100002_raw-Energy       -1.114410  \n",
       "100003_raw-Protein       0.169931  \n",
       "100004_raw-Fat          -1.595785  \n",
       "100005_raw-Carbohydrate -0.893854  \n",
       "\n",
       "[5 rows x 50 columns]"
      ]
     },
     "execution_count": 12,
     "metadata": {},
     "output_type": "execute_result"
    }
   ],
   "source": [
    "data.head()"
   ]
  },
  {
   "cell_type": "markdown",
   "metadata": {
    "papermill": {
     "duration": 0.02982,
     "end_time": "2021-03-09T21:52:29.684944",
     "exception": false,
     "start_time": "2021-03-09T21:52:29.655124",
     "status": "completed"
    },
    "tags": []
   },
   "source": [
    "# Clustering"
   ]
  },
  {
   "cell_type": "code",
   "execution_count": 13,
   "metadata": {
    "execution": {
     "iopub.execute_input": "2021-03-09T21:52:29.746128Z",
     "iopub.status.busy": "2021-03-09T21:52:29.745765Z",
     "iopub.status.idle": "2021-03-09T21:52:29.871118Z",
     "shell.execute_reply": "2021-03-09T21:52:29.870751Z"
    },
    "papermill": {
     "duration": 0.156774,
     "end_time": "2021-03-09T21:52:29.871202",
     "exception": false,
     "start_time": "2021-03-09T21:52:29.714428",
     "status": "completed"
    },
    "tags": []
   },
   "outputs": [],
   "source": [
    "from sklearn.cluster import SpectralClustering\n",
    "\n",
    "from clustering.utils import compute_performance"
   ]
  },
  {
   "cell_type": "markdown",
   "metadata": {
    "papermill": {
     "duration": 0.029,
     "end_time": "2021-03-09T21:52:29.930504",
     "exception": false,
     "start_time": "2021-03-09T21:52:29.901504",
     "status": "completed"
    },
    "tags": []
   },
   "source": [
    "## `gamma` parameter"
   ]
  },
  {
   "cell_type": "markdown",
   "metadata": {
    "papermill": {
     "duration": 0.029764,
     "end_time": "2021-03-09T21:52:29.989274",
     "exception": false,
     "start_time": "2021-03-09T21:52:29.959510",
     "status": "completed"
    },
    "tags": []
   },
   "source": [
    "### Using default value (`gamma=1.0`)"
   ]
  },
  {
   "cell_type": "code",
   "execution_count": 14,
   "metadata": {
    "execution": {
     "iopub.execute_input": "2021-03-09T21:52:30.051194Z",
     "iopub.status.busy": "2021-03-09T21:52:30.050803Z",
     "iopub.status.idle": "2021-03-09T21:52:33.388037Z",
     "shell.execute_reply": "2021-03-09T21:52:33.388593Z"
    },
    "papermill": {
     "duration": 3.370156,
     "end_time": "2021-03-09T21:52:33.388727",
     "exception": false,
     "start_time": "2021-03-09T21:52:30.018571",
     "status": "completed"
    },
    "tags": []
   },
   "outputs": [
    {
     "name": "stderr",
     "output_type": "stream",
     "text": [
      "/mnt/software/miniconda3/envs/phenoplier2/lib/python3.8/site-packages/sklearn/manifold/_spectral_embedding.py:236: UserWarning: Graph is not fully connected, spectral embedding may not work as expected.\n",
      "  warnings.warn(\"Graph is not fully connected, spectral embedding\"\n"
     ]
    }
   ],
   "source": [
    "with warnings.catch_warnings():\n",
    "    warnings.filterwarnings(\"always\")\n",
    "\n",
    "    clus = SpectralClustering(\n",
    "        eigen_solver=\"arpack\",\n",
    "        eigen_tol=1e-3,\n",
    "        n_clusters=2,\n",
    "        n_init=1,\n",
    "        affinity=\"rbf\",\n",
    "        gamma=1.00,\n",
    "        random_state=INITIAL_RANDOM_STATE,\n",
    "    )\n",
    "\n",
    "    part = clus.fit_predict(data)"
   ]
  },
  {
   "cell_type": "code",
   "execution_count": 15,
   "metadata": {
    "execution": {
     "iopub.execute_input": "2021-03-09T21:52:33.456873Z",
     "iopub.status.busy": "2021-03-09T21:52:33.456446Z",
     "iopub.status.idle": "2021-03-09T21:52:33.469236Z",
     "shell.execute_reply": "2021-03-09T21:52:33.469520Z"
    },
    "papermill": {
     "duration": 0.046739,
     "end_time": "2021-03-09T21:52:33.469627",
     "exception": false,
     "start_time": "2021-03-09T21:52:33.422888",
     "status": "completed"
    },
    "tags": []
   },
   "outputs": [
    {
     "data": {
      "text/plain": [
       "0    3751\n",
       "1       1\n",
       "dtype: int64"
      ]
     },
     "metadata": {},
     "output_type": "display_data"
    }
   ],
   "source": [
    "# show number of clusters and their size\n",
    "_tmp = pd.Series(part).value_counts()\n",
    "display(_tmp)\n",
    "assert _tmp.shape[0] == 2\n",
    "assert _tmp.loc[1] == 1"
   ]
  },
  {
   "cell_type": "markdown",
   "metadata": {
    "papermill": {
     "duration": 0.030204,
     "end_time": "2021-03-09T21:52:33.530981",
     "exception": false,
     "start_time": "2021-03-09T21:52:33.500777",
     "status": "completed"
    },
    "tags": []
   },
   "source": [
    "For default values of `gamma` (`1.0`), the algorithm takes a lot of time to converge (here I used `eigen_tol=1e-03` to force convergence)."
   ]
  },
  {
   "cell_type": "markdown",
   "metadata": {
    "papermill": {
     "duration": 0.03081,
     "end_time": "2021-03-09T21:52:33.594445",
     "exception": false,
     "start_time": "2021-03-09T21:52:33.563635",
     "status": "completed"
    },
    "tags": []
   },
   "source": [
    "### Using `gamma=5.00`"
   ]
  },
  {
   "cell_type": "code",
   "execution_count": 16,
   "metadata": {
    "execution": {
     "iopub.execute_input": "2021-03-09T21:52:33.658950Z",
     "iopub.status.busy": "2021-03-09T21:52:33.658578Z",
     "iopub.status.idle": "2021-03-09T21:52:45.633259Z",
     "shell.execute_reply": "2021-03-09T21:52:45.632941Z"
    },
    "papermill": {
     "duration": 12.007975,
     "end_time": "2021-03-09T21:52:45.633351",
     "exception": false,
     "start_time": "2021-03-09T21:52:33.625376",
     "status": "completed"
    },
    "tags": []
   },
   "outputs": [
    {
     "name": "stderr",
     "output_type": "stream",
     "text": [
      "/mnt/software/miniconda3/envs/phenoplier2/lib/python3.8/site-packages/sklearn/manifold/_spectral_embedding.py:236: UserWarning: Graph is not fully connected, spectral embedding may not work as expected.\n",
      "  warnings.warn(\"Graph is not fully connected, spectral embedding\"\n",
      "/mnt/software/miniconda3/envs/phenoplier2/lib/python3.8/site-packages/numpy/core/_methods.py:205: RuntimeWarning: overflow encountered in multiply\n",
      "  x = um.multiply(x, x, out=x)\n",
      "/mnt/software/miniconda3/envs/phenoplier2/lib/python3.8/site-packages/numpy/core/_methods.py:216: RuntimeWarning: overflow encountered in reduce\n",
      "  ret = umr_sum(x, axis, dtype, out, keepdims)\n",
      "/mnt/software/miniconda3/envs/phenoplier2/lib/python3.8/site-packages/sklearn/utils/extmath.py:153: RuntimeWarning: overflow encountered in matmul\n",
      "  ret = a @ b\n",
      "/mnt/software/miniconda3/envs/phenoplier2/lib/python3.8/site-packages/sklearn/metrics/pairwise.py:310: RuntimeWarning: overflow encountered in multiply\n",
      "  distances = - 2 * safe_sparse_dot(X, Y.T, dense_output=True)\n",
      "/mnt/software/miniconda3/envs/phenoplier2/lib/python3.8/site-packages/sklearn/utils/extmath.py:153: RuntimeWarning: overflow encountered in matmul\n",
      "  ret = a @ b\n",
      "/mnt/software/miniconda3/envs/phenoplier2/lib/python3.8/site-packages/sklearn/metrics/pairwise.py:311: RuntimeWarning: invalid value encountered in add\n",
      "  distances += XX\n",
      "/mnt/software/miniconda3/envs/phenoplier2/lib/python3.8/site-packages/sklearn/utils/extmath.py:153: RuntimeWarning: overflow encountered in matmul\n",
      "  ret = a @ b\n",
      "/mnt/software/miniconda3/envs/phenoplier2/lib/python3.8/site-packages/sklearn/metrics/pairwise.py:310: RuntimeWarning: overflow encountered in multiply\n",
      "  distances = - 2 * safe_sparse_dot(X, Y.T, dense_output=True)\n",
      "/mnt/software/miniconda3/envs/phenoplier2/lib/python3.8/site-packages/sklearn/metrics/pairwise.py:311: RuntimeWarning: invalid value encountered in add\n",
      "  distances += XX\n",
      "/mnt/software/miniconda3/envs/phenoplier2/lib/python3.8/site-packages/sklearn/cluster/_kmeans.py:421: RuntimeWarning: overflow encountered in square\n",
      "  elkan_iter(X, sample_weight, centers, centers_new,\n",
      "/mnt/software/miniconda3/envs/phenoplier2/lib/python3.8/site-packages/sklearn/utils/extmath.py:153: RuntimeWarning: overflow encountered in matmul\n",
      "  ret = a @ b\n",
      "/mnt/software/miniconda3/envs/phenoplier2/lib/python3.8/site-packages/sklearn/metrics/pairwise.py:311: RuntimeWarning: invalid value encountered in add\n",
      "  distances += XX\n",
      "/mnt/software/miniconda3/envs/phenoplier2/lib/python3.8/site-packages/sklearn/cluster/_kmeans.py:296: ConvergenceWarning: Number of distinct clusters (1) found smaller than n_clusters (2). Possibly due to duplicate points in X.\n",
      "  est = KMeans(\n"
     ]
    }
   ],
   "source": [
    "with warnings.catch_warnings():\n",
    "    warnings.filterwarnings(\"always\")\n",
    "\n",
    "    clus = SpectralClustering(\n",
    "        eigen_solver=\"arpack\",\n",
    "        eigen_tol=1e-3,\n",
    "        n_clusters=2,\n",
    "        n_init=1,\n",
    "        affinity=\"rbf\",\n",
    "        gamma=5.00,\n",
    "        random_state=INITIAL_RANDOM_STATE,\n",
    "    )\n",
    "\n",
    "    part = clus.fit_predict(data)"
   ]
  },
  {
   "cell_type": "code",
   "execution_count": 17,
   "metadata": {
    "execution": {
     "iopub.execute_input": "2021-03-09T21:52:45.698975Z",
     "iopub.status.busy": "2021-03-09T21:52:45.698600Z",
     "iopub.status.idle": "2021-03-09T21:52:45.710672Z",
     "shell.execute_reply": "2021-03-09T21:52:45.710944Z"
    },
    "papermill": {
     "duration": 0.04581,
     "end_time": "2021-03-09T21:52:45.711049",
     "exception": false,
     "start_time": "2021-03-09T21:52:45.665239",
     "status": "completed"
    },
    "tags": []
   },
   "outputs": [
    {
     "data": {
      "text/plain": [
       "0    3752\n",
       "dtype: int64"
      ]
     },
     "metadata": {},
     "output_type": "display_data"
    }
   ],
   "source": [
    "# show number of clusters and their size\n",
    "_tmp = pd.Series(part).value_counts()\n",
    "display(_tmp)\n",
    "assert _tmp.shape[0] == 1"
   ]
  },
  {
   "cell_type": "markdown",
   "metadata": {
    "papermill": {
     "duration": 0.030181,
     "end_time": "2021-03-09T21:52:45.771954",
     "exception": false,
     "start_time": "2021-03-09T21:52:45.741773",
     "status": "completed"
    },
    "tags": []
   },
   "source": [
    "The algorithm does not work either with `gamma>1.0`."
   ]
  },
  {
   "cell_type": "markdown",
   "metadata": {
    "papermill": {
     "duration": 0.03019,
     "end_time": "2021-03-09T21:52:45.832754",
     "exception": false,
     "start_time": "2021-03-09T21:52:45.802564",
     "status": "completed"
    },
    "tags": []
   },
   "source": [
    "### Using `gamma=0.01`"
   ]
  },
  {
   "cell_type": "code",
   "execution_count": 18,
   "metadata": {
    "execution": {
     "iopub.execute_input": "2021-03-09T21:52:45.895931Z",
     "iopub.status.busy": "2021-03-09T21:52:45.895563Z",
     "iopub.status.idle": "2021-03-09T21:52:54.198114Z",
     "shell.execute_reply": "2021-03-09T21:52:54.198469Z"
    },
    "papermill": {
     "duration": 8.335548,
     "end_time": "2021-03-09T21:52:54.198601",
     "exception": false,
     "start_time": "2021-03-09T21:52:45.863053",
     "status": "completed"
    },
    "tags": []
   },
   "outputs": [],
   "source": [
    "with warnings.catch_warnings():\n",
    "    warnings.filterwarnings(\"always\")\n",
    "\n",
    "    clus = SpectralClustering(\n",
    "        eigen_solver=\"arpack\",\n",
    "        #         eigen_tol=1e-3,\n",
    "        n_clusters=2,\n",
    "        n_init=1,\n",
    "        affinity=\"rbf\",\n",
    "        gamma=0.01,\n",
    "        random_state=INITIAL_RANDOM_STATE,\n",
    "    )\n",
    "\n",
    "    part = clus.fit_predict(data)"
   ]
  },
  {
   "cell_type": "code",
   "execution_count": 19,
   "metadata": {
    "execution": {
     "iopub.execute_input": "2021-03-09T21:52:54.268326Z",
     "iopub.status.busy": "2021-03-09T21:52:54.267942Z",
     "iopub.status.idle": "2021-03-09T21:52:54.280578Z",
     "shell.execute_reply": "2021-03-09T21:52:54.280186Z"
    },
    "papermill": {
     "duration": 0.046533,
     "end_time": "2021-03-09T21:52:54.280667",
     "exception": false,
     "start_time": "2021-03-09T21:52:54.234134",
     "status": "completed"
    },
    "tags": []
   },
   "outputs": [
    {
     "data": {
      "text/plain": [
       "0    3740\n",
       "1      12\n",
       "dtype: int64"
      ]
     },
     "metadata": {},
     "output_type": "display_data"
    }
   ],
   "source": [
    "# show number of clusters and their size\n",
    "_tmp = pd.Series(part).value_counts()\n",
    "display(_tmp)\n",
    "assert _tmp.shape[0] == 2\n",
    "assert _tmp.loc[1] == 12"
   ]
  },
  {
   "cell_type": "code",
   "execution_count": 20,
   "metadata": {
    "execution": {
     "iopub.execute_input": "2021-03-09T21:52:54.346015Z",
     "iopub.status.busy": "2021-03-09T21:52:54.345647Z",
     "iopub.status.idle": "2021-03-09T21:52:54.528599Z",
     "shell.execute_reply": "2021-03-09T21:52:54.528913Z"
    },
    "papermill": {
     "duration": 0.216545,
     "end_time": "2021-03-09T21:52:54.529021",
     "exception": false,
     "start_time": "2021-03-09T21:52:54.312476",
     "status": "completed"
    },
    "tags": []
   },
   "outputs": [
    {
     "data": {
      "text/plain": [
       "'Silhouette (higher is better): 0.573'"
      ]
     },
     "metadata": {},
     "output_type": "display_data"
    },
    {
     "data": {
      "text/plain": [
       "'Calinski-Harabasz (higher is better): 96.586'"
      ]
     },
     "metadata": {},
     "output_type": "display_data"
    },
    {
     "data": {
      "text/plain": [
       "'Davies-Bouldin (lower is better): 0.530'"
      ]
     },
     "metadata": {},
     "output_type": "display_data"
    }
   ],
   "source": [
    "# show some clustering performance measures to assess the quality of the partition\n",
    "_tmp = compute_performance(data, part)\n",
    "assert 0.50 < _tmp[\"si\"] < 0.58\n",
    "assert 95.0 < _tmp[\"ch\"] < 97.00\n",
    "assert 0.50 < _tmp[\"db\"] < 0.55"
   ]
  },
  {
   "cell_type": "markdown",
   "metadata": {
    "papermill": {
     "duration": 0.031639,
     "end_time": "2021-03-09T21:52:54.592479",
     "exception": false,
     "start_time": "2021-03-09T21:52:54.560840",
     "status": "completed"
    },
    "tags": []
   },
   "source": [
    "For values around `gamma=0.01` the algorithm seems to work."
   ]
  },
  {
   "cell_type": "markdown",
   "metadata": {
    "papermill": {
     "duration": 0.033064,
     "end_time": "2021-03-09T21:52:54.658172",
     "exception": false,
     "start_time": "2021-03-09T21:52:54.625108",
     "status": "completed"
    },
    "tags": []
   },
   "source": [
    "### Using `gamma=0.001`"
   ]
  },
  {
   "cell_type": "code",
   "execution_count": 21,
   "metadata": {
    "execution": {
     "iopub.execute_input": "2021-03-09T21:52:54.724673Z",
     "iopub.status.busy": "2021-03-09T21:52:54.724311Z",
     "iopub.status.idle": "2021-03-09T21:52:55.979581Z",
     "shell.execute_reply": "2021-03-09T21:52:55.978967Z"
    },
    "papermill": {
     "duration": 1.288769,
     "end_time": "2021-03-09T21:52:55.979693",
     "exception": false,
     "start_time": "2021-03-09T21:52:54.690924",
     "status": "completed"
    },
    "tags": []
   },
   "outputs": [],
   "source": [
    "with warnings.catch_warnings():\n",
    "    warnings.filterwarnings(\"always\")\n",
    "\n",
    "    clus = SpectralClustering(\n",
    "        eigen_solver=\"arpack\",\n",
    "        #         eigen_tol=1e-3,\n",
    "        n_clusters=2,\n",
    "        n_init=1,\n",
    "        affinity=\"rbf\",\n",
    "        gamma=0.001,\n",
    "        random_state=INITIAL_RANDOM_STATE,\n",
    "    )\n",
    "\n",
    "    part = clus.fit_predict(data)"
   ]
  },
  {
   "cell_type": "code",
   "execution_count": 22,
   "metadata": {
    "execution": {
     "iopub.execute_input": "2021-03-09T21:52:56.069359Z",
     "iopub.status.busy": "2021-03-09T21:52:56.068891Z",
     "iopub.status.idle": "2021-03-09T21:52:56.083543Z",
     "shell.execute_reply": "2021-03-09T21:52:56.083087Z"
    },
    "papermill": {
     "duration": 0.067536,
     "end_time": "2021-03-09T21:52:56.083646",
     "exception": false,
     "start_time": "2021-03-09T21:52:56.016110",
     "status": "completed"
    },
    "tags": []
   },
   "outputs": [
    {
     "data": {
      "text/plain": [
       "0    3640\n",
       "1     112\n",
       "dtype: int64"
      ]
     },
     "metadata": {},
     "output_type": "display_data"
    }
   ],
   "source": [
    "# show number of clusters and their size\n",
    "_tmp = pd.Series(part).value_counts()\n",
    "display(_tmp)\n",
    "assert _tmp.shape[0] == 2\n",
    "assert _tmp.loc[1] == 112"
   ]
  },
  {
   "cell_type": "code",
   "execution_count": 23,
   "metadata": {
    "execution": {
     "iopub.execute_input": "2021-03-09T21:52:56.151897Z",
     "iopub.status.busy": "2021-03-09T21:52:56.151534Z",
     "iopub.status.idle": "2021-03-09T21:52:56.332457Z",
     "shell.execute_reply": "2021-03-09T21:52:56.332775Z"
    },
    "papermill": {
     "duration": 0.214917,
     "end_time": "2021-03-09T21:52:56.332885",
     "exception": false,
     "start_time": "2021-03-09T21:52:56.117968",
     "status": "completed"
    },
    "tags": []
   },
   "outputs": [
    {
     "data": {
      "text/plain": [
       "'Silhouette (higher is better): 0.563'"
      ]
     },
     "metadata": {},
     "output_type": "display_data"
    },
    {
     "data": {
      "text/plain": [
       "'Calinski-Harabasz (higher is better): 288.701'"
      ]
     },
     "metadata": {},
     "output_type": "display_data"
    },
    {
     "data": {
      "text/plain": [
       "'Davies-Bouldin (lower is better): 1.979'"
      ]
     },
     "metadata": {},
     "output_type": "display_data"
    }
   ],
   "source": [
    "# show some clustering performance measures to assess the quality of the partition\n",
    "_tmp = compute_performance(data, part)\n",
    "assert 0.50 < _tmp[\"si\"] < 0.58\n",
    "assert 280.0 < _tmp[\"ch\"] < 290.00\n",
    "assert 1.90 < _tmp[\"db\"] < 2.00"
   ]
  },
  {
   "cell_type": "markdown",
   "metadata": {
    "papermill": {
     "duration": 0.033049,
     "end_time": "2021-03-09T21:52:56.398842",
     "exception": false,
     "start_time": "2021-03-09T21:52:56.365793",
     "status": "completed"
    },
    "tags": []
   },
   "source": [
    "For values around `gamma=0.001`, the algorithm converges faster, although not necessary finds better solutions. This suggests smaller values should be explored for this parameter."
   ]
  },
  {
   "cell_type": "markdown",
   "metadata": {
    "papermill": {
     "duration": 0.031997,
     "end_time": "2021-03-09T21:52:56.463557",
     "exception": false,
     "start_time": "2021-03-09T21:52:56.431560",
     "status": "completed"
    },
    "tags": []
   },
   "source": [
    "## Extended test"
   ]
  },
  {
   "cell_type": "markdown",
   "metadata": {
    "papermill": {
     "duration": 0.032281,
     "end_time": "2021-03-09T21:52:56.528159",
     "exception": false,
     "start_time": "2021-03-09T21:52:56.495878",
     "status": "completed"
    },
    "tags": []
   },
   "source": [
    "Here I run some test across several `k` and `gamma` values; then I check how results perform with different clustering quality measures."
   ]
  },
  {
   "cell_type": "code",
   "execution_count": 24,
   "metadata": {
    "execution": {
     "iopub.execute_input": "2021-03-09T21:52:56.595490Z",
     "iopub.status.busy": "2021-03-09T21:52:56.595110Z",
     "iopub.status.idle": "2021-03-09T21:52:56.606936Z",
     "shell.execute_reply": "2021-03-09T21:52:56.606565Z"
    },
    "papermill": {
     "duration": 0.047033,
     "end_time": "2021-03-09T21:52:56.607020",
     "exception": false,
     "start_time": "2021-03-09T21:52:56.559987",
     "status": "completed"
    },
    "tags": []
   },
   "outputs": [
    {
     "data": {
      "text/plain": [
       "{'K_RANGE': [2, 4, 6, 8, 10, 20, 30, 40, 50, 60],\n",
       " 'N_REPS_PER_K': 5,\n",
       " 'KMEANS_N_INIT': 10,\n",
       " 'GAMMAS': [0.01,\n",
       "  0.001,\n",
       "  1e-05,\n",
       "  1e-10,\n",
       "  1e-15,\n",
       "  1e-17,\n",
       "  1e-20,\n",
       "  1e-30,\n",
       "  1e-40,\n",
       "  1e-50],\n",
       " 'AFFINITY': 'rbf'}"
      ]
     },
     "metadata": {},
     "output_type": "display_data"
    }
   ],
   "source": [
    "CLUSTERING_OPTIONS = {}\n",
    "\n",
    "CLUSTERING_OPTIONS[\"K_RANGE\"] = [2, 4, 6, 8, 10, 20, 30, 40, 50, 60]\n",
    "CLUSTERING_OPTIONS[\"N_REPS_PER_K\"] = 5\n",
    "CLUSTERING_OPTIONS[\"KMEANS_N_INIT\"] = 10\n",
    "CLUSTERING_OPTIONS[\"GAMMAS\"] = [\n",
    "    1e-02,\n",
    "    1e-03,\n",
    "    #     1e-04,\n",
    "    #     1e-05,\n",
    "    1e-05,\n",
    "    #     1e-06,\n",
    "    #     1e-07,\n",
    "    #     1e-08,\n",
    "    #     1e-09,\n",
    "    1e-10,\n",
    "    #     1e-11,\n",
    "    #     1e-12,\n",
    "    #     1e-13,\n",
    "    #     1e-14,\n",
    "    1e-15,\n",
    "    1e-17,\n",
    "    1e-20,\n",
    "    1e-30,\n",
    "    1e-40,\n",
    "    1e-50,\n",
    "]\n",
    "CLUSTERING_OPTIONS[\"AFFINITY\"] = \"rbf\"\n",
    "\n",
    "display(CLUSTERING_OPTIONS)"
   ]
  },
  {
   "cell_type": "code",
   "execution_count": 25,
   "metadata": {
    "execution": {
     "iopub.execute_input": "2021-03-09T21:52:56.678224Z",
     "iopub.status.busy": "2021-03-09T21:52:56.677852Z",
     "iopub.status.idle": "2021-03-09T21:52:56.690109Z",
     "shell.execute_reply": "2021-03-09T21:52:56.689785Z"
    },
    "papermill": {
     "duration": 0.048778,
     "end_time": "2021-03-09T21:52:56.690194",
     "exception": false,
     "start_time": "2021-03-09T21:52:56.641416",
     "status": "completed"
    },
    "tags": []
   },
   "outputs": [],
   "source": [
    "CLUSTERERS = {}\n",
    "\n",
    "idx = 0\n",
    "random_state = INITIAL_RANDOM_STATE\n",
    "\n",
    "for k in CLUSTERING_OPTIONS[\"K_RANGE\"]:\n",
    "    for gamma_value in CLUSTERING_OPTIONS[\"GAMMAS\"]:\n",
    "        for i in range(CLUSTERING_OPTIONS[\"N_REPS_PER_K\"]):\n",
    "            clus = SpectralClustering(\n",
    "                eigen_solver=\"arpack\",\n",
    "                n_clusters=k,\n",
    "                n_init=CLUSTERING_OPTIONS[\"KMEANS_N_INIT\"],\n",
    "                affinity=CLUSTERING_OPTIONS[\"AFFINITY\"],\n",
    "                gamma=gamma_value,\n",
    "                random_state=random_state,\n",
    "            )\n",
    "\n",
    "            method_name = type(clus).__name__\n",
    "            CLUSTERERS[f\"{method_name} #{idx}\"] = clus\n",
    "\n",
    "            random_state = random_state + 1\n",
    "            idx = idx + 1"
   ]
  },
  {
   "cell_type": "code",
   "execution_count": 26,
   "metadata": {
    "execution": {
     "iopub.execute_input": "2021-03-09T21:52:56.758486Z",
     "iopub.status.busy": "2021-03-09T21:52:56.758122Z",
     "iopub.status.idle": "2021-03-09T21:52:56.769269Z",
     "shell.execute_reply": "2021-03-09T21:52:56.768902Z"
    },
    "papermill": {
     "duration": 0.045561,
     "end_time": "2021-03-09T21:52:56.769351",
     "exception": false,
     "start_time": "2021-03-09T21:52:56.723790",
     "status": "completed"
    },
    "tags": []
   },
   "outputs": [
    {
     "data": {
      "text/plain": [
       "500"
      ]
     },
     "metadata": {},
     "output_type": "display_data"
    }
   ],
   "source": [
    "display(len(CLUSTERERS))"
   ]
  },
  {
   "cell_type": "code",
   "execution_count": 27,
   "metadata": {
    "execution": {
     "iopub.execute_input": "2021-03-09T21:52:56.837696Z",
     "iopub.status.busy": "2021-03-09T21:52:56.837331Z",
     "iopub.status.idle": "2021-03-09T21:52:56.850204Z",
     "shell.execute_reply": "2021-03-09T21:52:56.850482Z"
    },
    "papermill": {
     "duration": 0.047945,
     "end_time": "2021-03-09T21:52:56.850589",
     "exception": false,
     "start_time": "2021-03-09T21:52:56.802644",
     "status": "completed"
    },
    "tags": []
   },
   "outputs": [
    {
     "data": {
      "text/plain": [
       "('SpectralClustering #0',\n",
       " SpectralClustering(eigen_solver='arpack', gamma=0.01, n_clusters=2,\n",
       "                    random_state=40000))"
      ]
     },
     "metadata": {},
     "output_type": "display_data"
    },
    {
     "data": {
      "text/plain": [
       "('SpectralClustering #1',\n",
       " SpectralClustering(eigen_solver='arpack', gamma=0.01, n_clusters=2,\n",
       "                    random_state=40001))"
      ]
     },
     "metadata": {},
     "output_type": "display_data"
    }
   ],
   "source": [
    "_iter = iter(CLUSTERERS.items())\n",
    "display(next(_iter))\n",
    "display(next(_iter))"
   ]
  },
  {
   "cell_type": "code",
   "execution_count": 28,
   "metadata": {
    "execution": {
     "iopub.execute_input": "2021-03-09T21:52:56.919300Z",
     "iopub.status.busy": "2021-03-09T21:52:56.918942Z",
     "iopub.status.idle": "2021-03-09T21:52:56.929984Z",
     "shell.execute_reply": "2021-03-09T21:52:56.929615Z"
    },
    "papermill": {
     "duration": 0.045988,
     "end_time": "2021-03-09T21:52:56.930070",
     "exception": false,
     "start_time": "2021-03-09T21:52:56.884082",
     "status": "completed"
    },
    "tags": []
   },
   "outputs": [
    {
     "data": {
      "text/plain": [
       "'SpectralClustering'"
      ]
     },
     "metadata": {},
     "output_type": "display_data"
    }
   ],
   "source": [
    "clustering_method_name = method_name\n",
    "display(clustering_method_name)"
   ]
  },
  {
   "cell_type": "markdown",
   "metadata": {
    "papermill": {
     "duration": 0.033374,
     "end_time": "2021-03-09T21:52:56.998363",
     "exception": false,
     "start_time": "2021-03-09T21:52:56.964989",
     "status": "completed"
    },
    "tags": []
   },
   "source": [
    "## Generate ensemble"
   ]
  },
  {
   "cell_type": "code",
   "execution_count": 29,
   "metadata": {
    "execution": {
     "iopub.execute_input": "2021-03-09T21:52:57.068381Z",
     "iopub.status.busy": "2021-03-09T21:52:57.068021Z",
     "iopub.status.idle": "2021-03-09T21:52:57.080923Z",
     "shell.execute_reply": "2021-03-09T21:52:57.080554Z"
    },
    "papermill": {
     "duration": 0.048938,
     "end_time": "2021-03-09T21:52:57.081010",
     "exception": false,
     "start_time": "2021-03-09T21:52:57.032072",
     "status": "completed"
    },
    "tags": []
   },
   "outputs": [],
   "source": [
    "import tempfile\n",
    "from clustering.ensembles.utils import generate_ensemble"
   ]
  },
  {
   "cell_type": "code",
   "execution_count": 30,
   "metadata": {
    "execution": {
     "iopub.execute_input": "2021-03-09T21:52:57.152588Z",
     "iopub.status.busy": "2021-03-09T21:52:57.152203Z",
     "iopub.status.idle": "2021-03-09T22:10:52.662623Z",
     "shell.execute_reply": "2021-03-09T22:10:52.662249Z"
    },
    "papermill": {
     "duration": 1075.546189,
     "end_time": "2021-03-09T22:10:52.662712",
     "exception": false,
     "start_time": "2021-03-09T21:52:57.116523",
     "status": "completed"
    },
    "tags": []
   },
   "outputs": [
    {
     "name": "stderr",
     "output_type": "stream",
     "text": [
      "100%|██████████| 500/500 [17:55<00:00,  2.15s/it]\n"
     ]
    }
   ],
   "source": [
    "ensemble = generate_ensemble(\n",
    "    data,\n",
    "    CLUSTERERS,\n",
    "    attributes=[\"n_clusters\", \"gamma\"],\n",
    ")"
   ]
  },
  {
   "cell_type": "code",
   "execution_count": 31,
   "metadata": {
    "execution": {
     "iopub.execute_input": "2021-03-09T22:10:52.888205Z",
     "iopub.status.busy": "2021-03-09T22:10:52.887849Z",
     "iopub.status.idle": "2021-03-09T22:10:52.899157Z",
     "shell.execute_reply": "2021-03-09T22:10:52.898791Z"
    },
    "papermill": {
     "duration": 0.124705,
     "end_time": "2021-03-09T22:10:52.899239",
     "exception": false,
     "start_time": "2021-03-09T22:10:52.774534",
     "status": "completed"
    },
    "tags": []
   },
   "outputs": [
    {
     "data": {
      "text/plain": [
       "(500, 4)"
      ]
     },
     "execution_count": 31,
     "metadata": {},
     "output_type": "execute_result"
    }
   ],
   "source": [
    "ensemble.shape"
   ]
  },
  {
   "cell_type": "code",
   "execution_count": 32,
   "metadata": {
    "execution": {
     "iopub.execute_input": "2021-03-09T22:10:53.123893Z",
     "iopub.status.busy": "2021-03-09T22:10:53.123535Z",
     "iopub.status.idle": "2021-03-09T22:10:53.142527Z",
     "shell.execute_reply": "2021-03-09T22:10:53.142166Z"
    },
    "papermill": {
     "duration": 0.131133,
     "end_time": "2021-03-09T22:10:53.142611",
     "exception": false,
     "start_time": "2021-03-09T22:10:53.011478",
     "status": "completed"
    },
    "tags": []
   },
   "outputs": [
    {
     "data": {
      "text/html": [
       "<div>\n",
       "<style scoped>\n",
       "    .dataframe tbody tr th:only-of-type {\n",
       "        vertical-align: middle;\n",
       "    }\n",
       "\n",
       "    .dataframe tbody tr th {\n",
       "        vertical-align: top;\n",
       "    }\n",
       "\n",
       "    .dataframe thead th {\n",
       "        text-align: right;\n",
       "    }\n",
       "</style>\n",
       "<table border=\"1\" class=\"dataframe\">\n",
       "  <thead>\n",
       "    <tr style=\"text-align: right;\">\n",
       "      <th></th>\n",
       "      <th>clusterer_params</th>\n",
       "      <th>partition</th>\n",
       "      <th>n_clusters</th>\n",
       "      <th>gamma</th>\n",
       "    </tr>\n",
       "    <tr>\n",
       "      <th>clusterer_id</th>\n",
       "      <th></th>\n",
       "      <th></th>\n",
       "      <th></th>\n",
       "      <th></th>\n",
       "    </tr>\n",
       "  </thead>\n",
       "  <tbody>\n",
       "    <tr>\n",
       "      <th>SpectralClustering #0</th>\n",
       "      <td>{'affinity': 'rbf', 'assign_labels': 'kmeans',...</td>\n",
       "      <td>[0.0, 0.0, 0.0, 0.0, 0.0, 0.0, 0.0, 0.0, 0.0, ...</td>\n",
       "      <td>2</td>\n",
       "      <td>0.01</td>\n",
       "    </tr>\n",
       "    <tr>\n",
       "      <th>SpectralClustering #1</th>\n",
       "      <td>{'affinity': 'rbf', 'assign_labels': 'kmeans',...</td>\n",
       "      <td>[0.0, 0.0, 0.0, 0.0, 0.0, 0.0, 0.0, 0.0, 0.0, ...</td>\n",
       "      <td>2</td>\n",
       "      <td>0.01</td>\n",
       "    </tr>\n",
       "    <tr>\n",
       "      <th>SpectralClustering #2</th>\n",
       "      <td>{'affinity': 'rbf', 'assign_labels': 'kmeans',...</td>\n",
       "      <td>[0.0, 0.0, 0.0, 0.0, 0.0, 0.0, 0.0, 0.0, 0.0, ...</td>\n",
       "      <td>2</td>\n",
       "      <td>0.01</td>\n",
       "    </tr>\n",
       "    <tr>\n",
       "      <th>SpectralClustering #3</th>\n",
       "      <td>{'affinity': 'rbf', 'assign_labels': 'kmeans',...</td>\n",
       "      <td>[0.0, 0.0, 0.0, 0.0, 0.0, 0.0, 0.0, 0.0, 0.0, ...</td>\n",
       "      <td>2</td>\n",
       "      <td>0.01</td>\n",
       "    </tr>\n",
       "    <tr>\n",
       "      <th>SpectralClustering #4</th>\n",
       "      <td>{'affinity': 'rbf', 'assign_labels': 'kmeans',...</td>\n",
       "      <td>[0.0, 0.0, 0.0, 0.0, 0.0, 0.0, 0.0, 0.0, 0.0, ...</td>\n",
       "      <td>2</td>\n",
       "      <td>0.01</td>\n",
       "    </tr>\n",
       "  </tbody>\n",
       "</table>\n",
       "</div>"
      ],
      "text/plain": [
       "                                                        clusterer_params  \\\n",
       "clusterer_id                                                               \n",
       "SpectralClustering #0  {'affinity': 'rbf', 'assign_labels': 'kmeans',...   \n",
       "SpectralClustering #1  {'affinity': 'rbf', 'assign_labels': 'kmeans',...   \n",
       "SpectralClustering #2  {'affinity': 'rbf', 'assign_labels': 'kmeans',...   \n",
       "SpectralClustering #3  {'affinity': 'rbf', 'assign_labels': 'kmeans',...   \n",
       "SpectralClustering #4  {'affinity': 'rbf', 'assign_labels': 'kmeans',...   \n",
       "\n",
       "                                                               partition  \\\n",
       "clusterer_id                                                               \n",
       "SpectralClustering #0  [0.0, 0.0, 0.0, 0.0, 0.0, 0.0, 0.0, 0.0, 0.0, ...   \n",
       "SpectralClustering #1  [0.0, 0.0, 0.0, 0.0, 0.0, 0.0, 0.0, 0.0, 0.0, ...   \n",
       "SpectralClustering #2  [0.0, 0.0, 0.0, 0.0, 0.0, 0.0, 0.0, 0.0, 0.0, ...   \n",
       "SpectralClustering #3  [0.0, 0.0, 0.0, 0.0, 0.0, 0.0, 0.0, 0.0, 0.0, ...   \n",
       "SpectralClustering #4  [0.0, 0.0, 0.0, 0.0, 0.0, 0.0, 0.0, 0.0, 0.0, ...   \n",
       "\n",
       "                       n_clusters  gamma  \n",
       "clusterer_id                              \n",
       "SpectralClustering #0           2   0.01  \n",
       "SpectralClustering #1           2   0.01  \n",
       "SpectralClustering #2           2   0.01  \n",
       "SpectralClustering #3           2   0.01  \n",
       "SpectralClustering #4           2   0.01  "
      ]
     },
     "execution_count": 32,
     "metadata": {},
     "output_type": "execute_result"
    }
   ],
   "source": [
    "ensemble.head()"
   ]
  },
  {
   "cell_type": "code",
   "execution_count": 33,
   "metadata": {
    "execution": {
     "iopub.execute_input": "2021-03-09T22:10:53.367284Z",
     "iopub.status.busy": "2021-03-09T22:10:53.366913Z",
     "iopub.status.idle": "2021-03-09T22:10:53.378449Z",
     "shell.execute_reply": "2021-03-09T22:10:53.378065Z"
    },
    "papermill": {
     "duration": 0.125665,
     "end_time": "2021-03-09T22:10:53.378533",
     "exception": false,
     "start_time": "2021-03-09T22:10:53.252868",
     "status": "completed"
    },
    "tags": []
   },
   "outputs": [],
   "source": [
    "ensemble[\"gamma\"] = ensemble[\"gamma\"].apply(lambda x: f\"{x:.1e}\")"
   ]
  },
  {
   "cell_type": "code",
   "execution_count": 34,
   "metadata": {
    "execution": {
     "iopub.execute_input": "2021-03-09T22:10:53.606699Z",
     "iopub.status.busy": "2021-03-09T22:10:53.606332Z",
     "iopub.status.idle": "2021-03-09T22:10:53.618653Z",
     "shell.execute_reply": "2021-03-09T22:10:53.618287Z"
    },
    "papermill": {
     "duration": 0.126369,
     "end_time": "2021-03-09T22:10:53.618737",
     "exception": false,
     "start_time": "2021-03-09T22:10:53.492368",
     "status": "completed"
    },
    "tags": []
   },
   "outputs": [
    {
     "data": {
      "text/plain": [
       "60    50\n",
       "50    50\n",
       "40    50\n",
       "30    50\n",
       "20    50\n",
       "10    50\n",
       "8     50\n",
       "6     50\n",
       "4     50\n",
       "2     50\n",
       "Name: n_clusters, dtype: int64"
      ]
     },
     "execution_count": 34,
     "metadata": {},
     "output_type": "execute_result"
    }
   ],
   "source": [
    "ensemble[\"n_clusters\"].value_counts()"
   ]
  },
  {
   "cell_type": "code",
   "execution_count": 35,
   "metadata": {
    "execution": {
     "iopub.execute_input": "2021-03-09T22:10:53.845091Z",
     "iopub.status.busy": "2021-03-09T22:10:53.844697Z",
     "iopub.status.idle": "2021-03-09T22:10:53.855923Z",
     "shell.execute_reply": "2021-03-09T22:10:53.855546Z"
    },
    "papermill": {
     "duration": 0.125057,
     "end_time": "2021-03-09T22:10:53.856008",
     "exception": false,
     "start_time": "2021-03-09T22:10:53.730951",
     "status": "completed"
    },
    "tags": []
   },
   "outputs": [],
   "source": [
    "_tmp = ensemble[\"n_clusters\"].value_counts().unique()\n",
    "assert _tmp.shape[0] == 1\n",
    "assert _tmp[0] == int(\n",
    "    CLUSTERING_OPTIONS[\"N_REPS_PER_K\"] * len(CLUSTERING_OPTIONS[\"GAMMAS\"])\n",
    ")"
   ]
  },
  {
   "cell_type": "code",
   "execution_count": 36,
   "metadata": {
    "execution": {
     "iopub.execute_input": "2021-03-09T22:10:54.082932Z",
     "iopub.status.busy": "2021-03-09T22:10:54.082566Z",
     "iopub.status.idle": "2021-03-09T22:10:54.095841Z",
     "shell.execute_reply": "2021-03-09T22:10:54.095456Z"
    },
    "papermill": {
     "duration": 0.126985,
     "end_time": "2021-03-09T22:10:54.095929",
     "exception": false,
     "start_time": "2021-03-09T22:10:53.968944",
     "status": "completed"
    },
    "tags": []
   },
   "outputs": [
    {
     "data": {
      "text/plain": [
       "count    500.000000\n",
       "mean      23.000000\n",
       "std       19.844082\n",
       "min        2.000000\n",
       "25%        6.000000\n",
       "50%       15.000000\n",
       "75%       40.000000\n",
       "max       60.000000\n",
       "Name: n_clusters, dtype: float64"
      ]
     },
     "metadata": {},
     "output_type": "display_data"
    }
   ],
   "source": [
    "ensemble_stats = ensemble[\"n_clusters\"].describe()\n",
    "display(ensemble_stats)"
   ]
  },
  {
   "cell_type": "markdown",
   "metadata": {
    "papermill": {
     "duration": 0.111693,
     "end_time": "2021-03-09T22:10:54.319428",
     "exception": false,
     "start_time": "2021-03-09T22:10:54.207735",
     "status": "completed"
    },
    "tags": []
   },
   "source": [
    "## Testing"
   ]
  },
  {
   "cell_type": "code",
   "execution_count": 37,
   "metadata": {
    "execution": {
     "iopub.execute_input": "2021-03-09T22:10:54.544796Z",
     "iopub.status.busy": "2021-03-09T22:10:54.544384Z",
     "iopub.status.idle": "2021-03-09T22:10:54.554987Z",
     "shell.execute_reply": "2021-03-09T22:10:54.554627Z"
    },
    "papermill": {
     "duration": 0.124036,
     "end_time": "2021-03-09T22:10:54.555070",
     "exception": false,
     "start_time": "2021-03-09T22:10:54.431034",
     "status": "completed"
    },
    "tags": []
   },
   "outputs": [],
   "source": [
    "assert ensemble_stats[\"min\"] > 1"
   ]
  },
  {
   "cell_type": "code",
   "execution_count": 38,
   "metadata": {
    "execution": {
     "iopub.execute_input": "2021-03-09T22:10:54.780852Z",
     "iopub.status.busy": "2021-03-09T22:10:54.780416Z",
     "iopub.status.idle": "2021-03-09T22:10:54.790962Z",
     "shell.execute_reply": "2021-03-09T22:10:54.790628Z"
    },
    "papermill": {
     "duration": 0.124727,
     "end_time": "2021-03-09T22:10:54.791046",
     "exception": false,
     "start_time": "2021-03-09T22:10:54.666319",
     "status": "completed"
    },
    "tags": []
   },
   "outputs": [],
   "source": [
    "assert not ensemble[\"n_clusters\"].isna().any()"
   ]
  },
  {
   "cell_type": "code",
   "execution_count": 39,
   "metadata": {
    "execution": {
     "iopub.execute_input": "2021-03-09T22:10:55.017549Z",
     "iopub.status.busy": "2021-03-09T22:10:55.017193Z",
     "iopub.status.idle": "2021-03-09T22:10:55.027641Z",
     "shell.execute_reply": "2021-03-09T22:10:55.027276Z"
    },
    "papermill": {
     "duration": 0.124125,
     "end_time": "2021-03-09T22:10:55.027724",
     "exception": false,
     "start_time": "2021-03-09T22:10:54.903599",
     "status": "completed"
    },
    "tags": []
   },
   "outputs": [],
   "source": [
    "assert ensemble.shape[0] == len(CLUSTERERS)"
   ]
  },
  {
   "cell_type": "code",
   "execution_count": 40,
   "metadata": {
    "execution": {
     "iopub.execute_input": "2021-03-09T22:10:55.276650Z",
     "iopub.status.busy": "2021-03-09T22:10:55.276291Z",
     "iopub.status.idle": "2021-03-09T22:10:55.314790Z",
     "shell.execute_reply": "2021-03-09T22:10:55.314448Z"
    },
    "papermill": {
     "duration": 0.155677,
     "end_time": "2021-03-09T22:10:55.314876",
     "exception": false,
     "start_time": "2021-03-09T22:10:55.159199",
     "status": "completed"
    },
    "tags": []
   },
   "outputs": [],
   "source": [
    "# all partitions have the right size\n",
    "assert np.all(\n",
    "    [part[\"partition\"].shape[0] == data.shape[0] for idx, part in ensemble.iterrows()]\n",
    ")"
   ]
  },
  {
   "cell_type": "code",
   "execution_count": 41,
   "metadata": {
    "execution": {
     "iopub.execute_input": "2021-03-09T22:10:55.545306Z",
     "iopub.status.busy": "2021-03-09T22:10:55.544939Z",
     "iopub.status.idle": "2021-03-09T22:10:55.679837Z",
     "shell.execute_reply": "2021-03-09T22:10:55.679450Z"
    },
    "papermill": {
     "duration": 0.250798,
     "end_time": "2021-03-09T22:10:55.679926",
     "exception": false,
     "start_time": "2021-03-09T22:10:55.429128",
     "status": "completed"
    },
    "tags": []
   },
   "outputs": [],
   "source": [
    "# no partition has negative clusters (noisy points)\n",
    "assert not np.any([(part[\"partition\"] < 0).any() for idx, part in ensemble.iterrows()])\n",
    "assert not np.any(\n",
    "    [pd.Series(part[\"partition\"]).isna().any() for idx, part in ensemble.iterrows()]\n",
    ")"
   ]
  },
  {
   "cell_type": "code",
   "execution_count": 42,
   "metadata": {
    "execution": {
     "iopub.execute_input": "2021-03-09T22:10:55.909502Z",
     "iopub.status.busy": "2021-03-09T22:10:55.909136Z",
     "iopub.status.idle": "2021-03-09T22:10:55.959725Z",
     "shell.execute_reply": "2021-03-09T22:10:55.959355Z"
    },
    "papermill": {
     "duration": 0.166234,
     "end_time": "2021-03-09T22:10:55.959811",
     "exception": false,
     "start_time": "2021-03-09T22:10:55.793577",
     "status": "completed"
    },
    "tags": []
   },
   "outputs": [
    {
     "data": {
      "text/plain": [
       "clusterer_id\n",
       "SpectralClustering #0       2\n",
       "SpectralClustering #1       2\n",
       "SpectralClustering #2       2\n",
       "SpectralClustering #3       2\n",
       "SpectralClustering #4       2\n",
       "                           ..\n",
       "SpectralClustering #495    60\n",
       "SpectralClustering #496    60\n",
       "SpectralClustering #497    60\n",
       "SpectralClustering #498    60\n",
       "SpectralClustering #499    60\n",
       "Name: partition, Length: 500, dtype: int64"
      ]
     },
     "metadata": {},
     "output_type": "display_data"
    }
   ],
   "source": [
    "# check that the number of clusters in the partitions are the expected ones\n",
    "_real_k_values = ensemble[\"partition\"].apply(lambda x: np.unique(x).shape[0])\n",
    "display(_real_k_values)\n",
    "assert np.all(ensemble[\"n_clusters\"].values == _real_k_values.values)"
   ]
  },
  {
   "cell_type": "markdown",
   "metadata": {
    "papermill": {
     "duration": 0.11287,
     "end_time": "2021-03-09T22:10:56.186875",
     "exception": false,
     "start_time": "2021-03-09T22:10:56.074005",
     "status": "completed"
    },
    "tags": []
   },
   "source": [
    "## Add clustering quality measures"
   ]
  },
  {
   "cell_type": "code",
   "execution_count": 43,
   "metadata": {
    "execution": {
     "iopub.execute_input": "2021-03-09T22:10:56.415703Z",
     "iopub.status.busy": "2021-03-09T22:10:56.415334Z",
     "iopub.status.idle": "2021-03-09T22:10:56.425879Z",
     "shell.execute_reply": "2021-03-09T22:10:56.425563Z"
    },
    "papermill": {
     "duration": 0.126447,
     "end_time": "2021-03-09T22:10:56.425964",
     "exception": false,
     "start_time": "2021-03-09T22:10:56.299517",
     "status": "completed"
    },
    "tags": []
   },
   "outputs": [],
   "source": [
    "from sklearn.metrics import (\n",
    "    silhouette_score,\n",
    "    calinski_harabasz_score,\n",
    "    davies_bouldin_score,\n",
    ")"
   ]
  },
  {
   "cell_type": "code",
   "execution_count": 44,
   "metadata": {
    "execution": {
     "iopub.execute_input": "2021-03-09T22:10:56.656641Z",
     "iopub.status.busy": "2021-03-09T22:10:56.656279Z",
     "iopub.status.idle": "2021-03-09T22:12:18.843972Z",
     "shell.execute_reply": "2021-03-09T22:12:18.843586Z"
    },
    "papermill": {
     "duration": 82.303554,
     "end_time": "2021-03-09T22:12:18.844060",
     "exception": false,
     "start_time": "2021-03-09T22:10:56.540506",
     "status": "completed"
    },
    "tags": []
   },
   "outputs": [],
   "source": [
    "ensemble = ensemble.assign(\n",
    "    si_score=ensemble[\"partition\"].apply(lambda x: silhouette_score(data, x)),\n",
    "    ch_score=ensemble[\"partition\"].apply(lambda x: calinski_harabasz_score(data, x)),\n",
    "    db_score=ensemble[\"partition\"].apply(lambda x: davies_bouldin_score(data, x)),\n",
    ")"
   ]
  },
  {
   "cell_type": "code",
   "execution_count": 45,
   "metadata": {
    "execution": {
     "iopub.execute_input": "2021-03-09T22:12:19.074597Z",
     "iopub.status.busy": "2021-03-09T22:12:19.074239Z",
     "iopub.status.idle": "2021-03-09T22:12:19.085459Z",
     "shell.execute_reply": "2021-03-09T22:12:19.085080Z"
    },
    "papermill": {
     "duration": 0.125871,
     "end_time": "2021-03-09T22:12:19.085546",
     "exception": false,
     "start_time": "2021-03-09T22:12:18.959675",
     "status": "completed"
    },
    "tags": []
   },
   "outputs": [
    {
     "data": {
      "text/plain": [
       "(500, 7)"
      ]
     },
     "execution_count": 45,
     "metadata": {},
     "output_type": "execute_result"
    }
   ],
   "source": [
    "ensemble.shape"
   ]
  },
  {
   "cell_type": "code",
   "execution_count": 46,
   "metadata": {
    "execution": {
     "iopub.execute_input": "2021-03-09T22:12:19.318413Z",
     "iopub.status.busy": "2021-03-09T22:12:19.318049Z",
     "iopub.status.idle": "2021-03-09T22:12:19.337333Z",
     "shell.execute_reply": "2021-03-09T22:12:19.337642Z"
    },
    "papermill": {
     "duration": 0.135696,
     "end_time": "2021-03-09T22:12:19.337745",
     "exception": false,
     "start_time": "2021-03-09T22:12:19.202049",
     "status": "completed"
    },
    "tags": []
   },
   "outputs": [
    {
     "data": {
      "text/html": [
       "<div>\n",
       "<style scoped>\n",
       "    .dataframe tbody tr th:only-of-type {\n",
       "        vertical-align: middle;\n",
       "    }\n",
       "\n",
       "    .dataframe tbody tr th {\n",
       "        vertical-align: top;\n",
       "    }\n",
       "\n",
       "    .dataframe thead th {\n",
       "        text-align: right;\n",
       "    }\n",
       "</style>\n",
       "<table border=\"1\" class=\"dataframe\">\n",
       "  <thead>\n",
       "    <tr style=\"text-align: right;\">\n",
       "      <th></th>\n",
       "      <th>clusterer_params</th>\n",
       "      <th>partition</th>\n",
       "      <th>n_clusters</th>\n",
       "      <th>gamma</th>\n",
       "      <th>si_score</th>\n",
       "      <th>ch_score</th>\n",
       "      <th>db_score</th>\n",
       "    </tr>\n",
       "    <tr>\n",
       "      <th>clusterer_id</th>\n",
       "      <th></th>\n",
       "      <th></th>\n",
       "      <th></th>\n",
       "      <th></th>\n",
       "      <th></th>\n",
       "      <th></th>\n",
       "      <th></th>\n",
       "    </tr>\n",
       "  </thead>\n",
       "  <tbody>\n",
       "    <tr>\n",
       "      <th>SpectralClustering #0</th>\n",
       "      <td>{'affinity': 'rbf', 'assign_labels': 'kmeans',...</td>\n",
       "      <td>[0.0, 0.0, 0.0, 0.0, 0.0, 0.0, 0.0, 0.0, 0.0, ...</td>\n",
       "      <td>2</td>\n",
       "      <td>1.0e-02</td>\n",
       "      <td>0.573487</td>\n",
       "      <td>96.586303</td>\n",
       "      <td>0.530212</td>\n",
       "    </tr>\n",
       "    <tr>\n",
       "      <th>SpectralClustering #1</th>\n",
       "      <td>{'affinity': 'rbf', 'assign_labels': 'kmeans',...</td>\n",
       "      <td>[0.0, 0.0, 0.0, 0.0, 0.0, 0.0, 0.0, 0.0, 0.0, ...</td>\n",
       "      <td>2</td>\n",
       "      <td>1.0e-02</td>\n",
       "      <td>0.573487</td>\n",
       "      <td>96.586303</td>\n",
       "      <td>0.530212</td>\n",
       "    </tr>\n",
       "    <tr>\n",
       "      <th>SpectralClustering #2</th>\n",
       "      <td>{'affinity': 'rbf', 'assign_labels': 'kmeans',...</td>\n",
       "      <td>[0.0, 0.0, 0.0, 0.0, 0.0, 0.0, 0.0, 0.0, 0.0, ...</td>\n",
       "      <td>2</td>\n",
       "      <td>1.0e-02</td>\n",
       "      <td>0.573487</td>\n",
       "      <td>96.586303</td>\n",
       "      <td>0.530212</td>\n",
       "    </tr>\n",
       "    <tr>\n",
       "      <th>SpectralClustering #3</th>\n",
       "      <td>{'affinity': 'rbf', 'assign_labels': 'kmeans',...</td>\n",
       "      <td>[0.0, 0.0, 0.0, 0.0, 0.0, 0.0, 0.0, 0.0, 0.0, ...</td>\n",
       "      <td>2</td>\n",
       "      <td>1.0e-02</td>\n",
       "      <td>0.573487</td>\n",
       "      <td>96.586303</td>\n",
       "      <td>0.530212</td>\n",
       "    </tr>\n",
       "    <tr>\n",
       "      <th>SpectralClustering #4</th>\n",
       "      <td>{'affinity': 'rbf', 'assign_labels': 'kmeans',...</td>\n",
       "      <td>[0.0, 0.0, 0.0, 0.0, 0.0, 0.0, 0.0, 0.0, 0.0, ...</td>\n",
       "      <td>2</td>\n",
       "      <td>1.0e-02</td>\n",
       "      <td>0.573487</td>\n",
       "      <td>96.586303</td>\n",
       "      <td>0.530212</td>\n",
       "    </tr>\n",
       "  </tbody>\n",
       "</table>\n",
       "</div>"
      ],
      "text/plain": [
       "                                                        clusterer_params  \\\n",
       "clusterer_id                                                               \n",
       "SpectralClustering #0  {'affinity': 'rbf', 'assign_labels': 'kmeans',...   \n",
       "SpectralClustering #1  {'affinity': 'rbf', 'assign_labels': 'kmeans',...   \n",
       "SpectralClustering #2  {'affinity': 'rbf', 'assign_labels': 'kmeans',...   \n",
       "SpectralClustering #3  {'affinity': 'rbf', 'assign_labels': 'kmeans',...   \n",
       "SpectralClustering #4  {'affinity': 'rbf', 'assign_labels': 'kmeans',...   \n",
       "\n",
       "                                                               partition  \\\n",
       "clusterer_id                                                               \n",
       "SpectralClustering #0  [0.0, 0.0, 0.0, 0.0, 0.0, 0.0, 0.0, 0.0, 0.0, ...   \n",
       "SpectralClustering #1  [0.0, 0.0, 0.0, 0.0, 0.0, 0.0, 0.0, 0.0, 0.0, ...   \n",
       "SpectralClustering #2  [0.0, 0.0, 0.0, 0.0, 0.0, 0.0, 0.0, 0.0, 0.0, ...   \n",
       "SpectralClustering #3  [0.0, 0.0, 0.0, 0.0, 0.0, 0.0, 0.0, 0.0, 0.0, ...   \n",
       "SpectralClustering #4  [0.0, 0.0, 0.0, 0.0, 0.0, 0.0, 0.0, 0.0, 0.0, ...   \n",
       "\n",
       "                       n_clusters    gamma  si_score   ch_score  db_score  \n",
       "clusterer_id                                                               \n",
       "SpectralClustering #0           2  1.0e-02  0.573487  96.586303  0.530212  \n",
       "SpectralClustering #1           2  1.0e-02  0.573487  96.586303  0.530212  \n",
       "SpectralClustering #2           2  1.0e-02  0.573487  96.586303  0.530212  \n",
       "SpectralClustering #3           2  1.0e-02  0.573487  96.586303  0.530212  \n",
       "SpectralClustering #4           2  1.0e-02  0.573487  96.586303  0.530212  "
      ]
     },
     "execution_count": 46,
     "metadata": {},
     "output_type": "execute_result"
    }
   ],
   "source": [
    "ensemble.head()"
   ]
  },
  {
   "cell_type": "markdown",
   "metadata": {
    "papermill": {
     "duration": 0.113048,
     "end_time": "2021-03-09T22:12:19.566573",
     "exception": false,
     "start_time": "2021-03-09T22:12:19.453525",
     "status": "completed"
    },
    "tags": []
   },
   "source": [
    "# Cluster quality"
   ]
  },
  {
   "cell_type": "code",
   "execution_count": 47,
   "metadata": {
    "execution": {
     "iopub.execute_input": "2021-03-09T22:12:19.795219Z",
     "iopub.status.busy": "2021-03-09T22:12:19.794858Z",
     "iopub.status.idle": "2021-03-09T22:12:19.817517Z",
     "shell.execute_reply": "2021-03-09T22:12:19.817129Z"
    },
    "papermill": {
     "duration": 0.138146,
     "end_time": "2021-03-09T22:12:19.817602",
     "exception": false,
     "start_time": "2021-03-09T22:12:19.679456",
     "status": "completed"
    },
    "tags": []
   },
   "outputs": [
    {
     "data": {
      "text/html": [
       "<div>\n",
       "<style scoped>\n",
       "    .dataframe tbody tr th:only-of-type {\n",
       "        vertical-align: middle;\n",
       "    }\n",
       "\n",
       "    .dataframe tbody tr th {\n",
       "        vertical-align: top;\n",
       "    }\n",
       "\n",
       "    .dataframe thead th {\n",
       "        text-align: right;\n",
       "    }\n",
       "</style>\n",
       "<table border=\"1\" class=\"dataframe\">\n",
       "  <thead>\n",
       "    <tr style=\"text-align: right;\">\n",
       "      <th></th>\n",
       "      <th></th>\n",
       "      <th>si_score</th>\n",
       "      <th>ch_score</th>\n",
       "      <th>db_score</th>\n",
       "    </tr>\n",
       "    <tr>\n",
       "      <th>n_clusters</th>\n",
       "      <th>gamma</th>\n",
       "      <th></th>\n",
       "      <th></th>\n",
       "      <th></th>\n",
       "    </tr>\n",
       "  </thead>\n",
       "  <tbody>\n",
       "    <tr>\n",
       "      <th rowspan=\"10\" valign=\"top\">2</th>\n",
       "      <th>1.0e-02</th>\n",
       "      <td>0.573487</td>\n",
       "      <td>96.586303</td>\n",
       "      <td>0.530212</td>\n",
       "    </tr>\n",
       "    <tr>\n",
       "      <th>1.0e-03</th>\n",
       "      <td>0.563166</td>\n",
       "      <td>288.701044</td>\n",
       "      <td>1.979124</td>\n",
       "    </tr>\n",
       "    <tr>\n",
       "      <th>1.0e-05</th>\n",
       "      <td>0.483698</td>\n",
       "      <td>304.317601</td>\n",
       "      <td>2.317783</td>\n",
       "    </tr>\n",
       "    <tr>\n",
       "      <th>1.0e-10</th>\n",
       "      <td>0.483698</td>\n",
       "      <td>304.317601</td>\n",
       "      <td>2.317783</td>\n",
       "    </tr>\n",
       "    <tr>\n",
       "      <th>1.0e-15</th>\n",
       "      <td>0.467945</td>\n",
       "      <td>302.761801</td>\n",
       "      <td>2.355240</td>\n",
       "    </tr>\n",
       "    <tr>\n",
       "      <th>1.0e-17</th>\n",
       "      <td>0.040719</td>\n",
       "      <td>1.175229</td>\n",
       "      <td>18.828174</td>\n",
       "    </tr>\n",
       "    <tr>\n",
       "      <th>1.0e-20</th>\n",
       "      <td>-0.003735</td>\n",
       "      <td>0.976355</td>\n",
       "      <td>8.516577</td>\n",
       "    </tr>\n",
       "    <tr>\n",
       "      <th>1.0e-30</th>\n",
       "      <td>0.003792</td>\n",
       "      <td>1.063093</td>\n",
       "      <td>25.318291</td>\n",
       "    </tr>\n",
       "    <tr>\n",
       "      <th>1.0e-40</th>\n",
       "      <td>0.020224</td>\n",
       "      <td>1.128614</td>\n",
       "      <td>14.848006</td>\n",
       "    </tr>\n",
       "    <tr>\n",
       "      <th>1.0e-50</th>\n",
       "      <td>-0.018902</td>\n",
       "      <td>1.115282</td>\n",
       "      <td>19.245794</td>\n",
       "    </tr>\n",
       "    <tr>\n",
       "      <th rowspan=\"10\" valign=\"top\">4</th>\n",
       "      <th>1.0e-02</th>\n",
       "      <td>0.574426</td>\n",
       "      <td>68.247719</td>\n",
       "      <td>0.530126</td>\n",
       "    </tr>\n",
       "    <tr>\n",
       "      <th>1.0e-03</th>\n",
       "      <td>0.538203</td>\n",
       "      <td>154.666285</td>\n",
       "      <td>1.383851</td>\n",
       "    </tr>\n",
       "    <tr>\n",
       "      <th>1.0e-05</th>\n",
       "      <td>0.468727</td>\n",
       "      <td>178.457611</td>\n",
       "      <td>1.915573</td>\n",
       "    </tr>\n",
       "    <tr>\n",
       "      <th>1.0e-10</th>\n",
       "      <td>0.482336</td>\n",
       "      <td>178.145309</td>\n",
       "      <td>1.824615</td>\n",
       "    </tr>\n",
       "    <tr>\n",
       "      <th>1.0e-15</th>\n",
       "      <td>0.312164</td>\n",
       "      <td>174.406439</td>\n",
       "      <td>2.184357</td>\n",
       "    </tr>\n",
       "    <tr>\n",
       "      <th>1.0e-17</th>\n",
       "      <td>-0.035222</td>\n",
       "      <td>1.487692</td>\n",
       "      <td>15.090239</td>\n",
       "    </tr>\n",
       "    <tr>\n",
       "      <th>1.0e-20</th>\n",
       "      <td>-0.035858</td>\n",
       "      <td>1.218787</td>\n",
       "      <td>19.736072</td>\n",
       "    </tr>\n",
       "    <tr>\n",
       "      <th>1.0e-30</th>\n",
       "      <td>-0.095409</td>\n",
       "      <td>1.097025</td>\n",
       "      <td>16.510146</td>\n",
       "    </tr>\n",
       "    <tr>\n",
       "      <th>1.0e-40</th>\n",
       "      <td>-0.054341</td>\n",
       "      <td>1.331287</td>\n",
       "      <td>15.980292</td>\n",
       "    </tr>\n",
       "    <tr>\n",
       "      <th>1.0e-50</th>\n",
       "      <td>-0.076653</td>\n",
       "      <td>0.974232</td>\n",
       "      <td>17.726775</td>\n",
       "    </tr>\n",
       "    <tr>\n",
       "      <th rowspan=\"10\" valign=\"top\">6</th>\n",
       "      <th>1.0e-02</th>\n",
       "      <td>0.578251</td>\n",
       "      <td>73.346113</td>\n",
       "      <td>0.561848</td>\n",
       "    </tr>\n",
       "    <tr>\n",
       "      <th>1.0e-03</th>\n",
       "      <td>0.563205</td>\n",
       "      <td>108.533882</td>\n",
       "      <td>1.241195</td>\n",
       "    </tr>\n",
       "    <tr>\n",
       "      <th>1.0e-05</th>\n",
       "      <td>0.196906</td>\n",
       "      <td>144.069395</td>\n",
       "      <td>2.173387</td>\n",
       "    </tr>\n",
       "    <tr>\n",
       "      <th>1.0e-10</th>\n",
       "      <td>0.233971</td>\n",
       "      <td>143.570465</td>\n",
       "      <td>2.051013</td>\n",
       "    </tr>\n",
       "    <tr>\n",
       "      <th>1.0e-15</th>\n",
       "      <td>0.246827</td>\n",
       "      <td>141.317562</td>\n",
       "      <td>1.995375</td>\n",
       "    </tr>\n",
       "    <tr>\n",
       "      <th>1.0e-17</th>\n",
       "      <td>-0.123142</td>\n",
       "      <td>0.918002</td>\n",
       "      <td>13.649676</td>\n",
       "    </tr>\n",
       "    <tr>\n",
       "      <th>1.0e-20</th>\n",
       "      <td>-0.145396</td>\n",
       "      <td>0.953052</td>\n",
       "      <td>9.095206</td>\n",
       "    </tr>\n",
       "    <tr>\n",
       "      <th>1.0e-30</th>\n",
       "      <td>-0.097092</td>\n",
       "      <td>0.983230</td>\n",
       "      <td>16.141420</td>\n",
       "    </tr>\n",
       "    <tr>\n",
       "      <th>1.0e-40</th>\n",
       "      <td>-0.102311</td>\n",
       "      <td>1.048471</td>\n",
       "      <td>10.317452</td>\n",
       "    </tr>\n",
       "    <tr>\n",
       "      <th>1.0e-50</th>\n",
       "      <td>-0.108749</td>\n",
       "      <td>0.891324</td>\n",
       "      <td>13.011907</td>\n",
       "    </tr>\n",
       "    <tr>\n",
       "      <th rowspan=\"10\" valign=\"top\">8</th>\n",
       "      <th>1.0e-02</th>\n",
       "      <td>0.534241</td>\n",
       "      <td>66.570122</td>\n",
       "      <td>0.628513</td>\n",
       "    </tr>\n",
       "    <tr>\n",
       "      <th>1.0e-03</th>\n",
       "      <td>0.509308</td>\n",
       "      <td>97.133489</td>\n",
       "      <td>1.091586</td>\n",
       "    </tr>\n",
       "    <tr>\n",
       "      <th>1.0e-05</th>\n",
       "      <td>0.083910</td>\n",
       "      <td>128.005334</td>\n",
       "      <td>2.856265</td>\n",
       "    </tr>\n",
       "    <tr>\n",
       "      <th>1.0e-10</th>\n",
       "      <td>0.116585</td>\n",
       "      <td>129.040752</td>\n",
       "      <td>2.531359</td>\n",
       "    </tr>\n",
       "    <tr>\n",
       "      <th>1.0e-15</th>\n",
       "      <td>0.042673</td>\n",
       "      <td>123.803452</td>\n",
       "      <td>3.357962</td>\n",
       "    </tr>\n",
       "    <tr>\n",
       "      <th>1.0e-17</th>\n",
       "      <td>-0.122006</td>\n",
       "      <td>0.935397</td>\n",
       "      <td>17.625758</td>\n",
       "    </tr>\n",
       "    <tr>\n",
       "      <th>1.0e-20</th>\n",
       "      <td>-0.124061</td>\n",
       "      <td>0.897070</td>\n",
       "      <td>13.251493</td>\n",
       "    </tr>\n",
       "    <tr>\n",
       "      <th>1.0e-30</th>\n",
       "      <td>-0.109272</td>\n",
       "      <td>1.043057</td>\n",
       "      <td>14.593748</td>\n",
       "    </tr>\n",
       "    <tr>\n",
       "      <th>1.0e-40</th>\n",
       "      <td>-0.118944</td>\n",
       "      <td>1.080244</td>\n",
       "      <td>14.499802</td>\n",
       "    </tr>\n",
       "    <tr>\n",
       "      <th>1.0e-50</th>\n",
       "      <td>-0.123978</td>\n",
       "      <td>1.289142</td>\n",
       "      <td>15.894471</td>\n",
       "    </tr>\n",
       "    <tr>\n",
       "      <th rowspan=\"10\" valign=\"top\">10</th>\n",
       "      <th>1.0e-02</th>\n",
       "      <td>0.538553</td>\n",
       "      <td>79.036202</td>\n",
       "      <td>0.631684</td>\n",
       "    </tr>\n",
       "    <tr>\n",
       "      <th>1.0e-03</th>\n",
       "      <td>0.517525</td>\n",
       "      <td>90.097070</td>\n",
       "      <td>1.094555</td>\n",
       "    </tr>\n",
       "    <tr>\n",
       "      <th>1.0e-05</th>\n",
       "      <td>0.052677</td>\n",
       "      <td>118.358212</td>\n",
       "      <td>2.652971</td>\n",
       "    </tr>\n",
       "    <tr>\n",
       "      <th>1.0e-10</th>\n",
       "      <td>0.049199</td>\n",
       "      <td>119.081499</td>\n",
       "      <td>2.695754</td>\n",
       "    </tr>\n",
       "    <tr>\n",
       "      <th>1.0e-15</th>\n",
       "      <td>0.013079</td>\n",
       "      <td>109.631943</td>\n",
       "      <td>3.390838</td>\n",
       "    </tr>\n",
       "    <tr>\n",
       "      <th>1.0e-17</th>\n",
       "      <td>-0.119906</td>\n",
       "      <td>1.022994</td>\n",
       "      <td>14.880160</td>\n",
       "    </tr>\n",
       "    <tr>\n",
       "      <th>1.0e-20</th>\n",
       "      <td>-0.135584</td>\n",
       "      <td>1.179853</td>\n",
       "      <td>14.596829</td>\n",
       "    </tr>\n",
       "    <tr>\n",
       "      <th>1.0e-30</th>\n",
       "      <td>-0.138318</td>\n",
       "      <td>1.071299</td>\n",
       "      <td>13.221733</td>\n",
       "    </tr>\n",
       "    <tr>\n",
       "      <th>1.0e-40</th>\n",
       "      <td>-0.138749</td>\n",
       "      <td>0.896895</td>\n",
       "      <td>13.795135</td>\n",
       "    </tr>\n",
       "    <tr>\n",
       "      <th>1.0e-50</th>\n",
       "      <td>-0.139279</td>\n",
       "      <td>1.142017</td>\n",
       "      <td>14.804684</td>\n",
       "    </tr>\n",
       "    <tr>\n",
       "      <th rowspan=\"10\" valign=\"top\">20</th>\n",
       "      <th>1.0e-02</th>\n",
       "      <td>0.474090</td>\n",
       "      <td>48.060560</td>\n",
       "      <td>0.558217</td>\n",
       "    </tr>\n",
       "    <tr>\n",
       "      <th>1.0e-03</th>\n",
       "      <td>0.026581</td>\n",
       "      <td>76.115234</td>\n",
       "      <td>1.815919</td>\n",
       "    </tr>\n",
       "    <tr>\n",
       "      <th>1.0e-05</th>\n",
       "      <td>0.023970</td>\n",
       "      <td>85.138734</td>\n",
       "      <td>2.586959</td>\n",
       "    </tr>\n",
       "    <tr>\n",
       "      <th>1.0e-10</th>\n",
       "      <td>0.021160</td>\n",
       "      <td>84.240893</td>\n",
       "      <td>2.747873</td>\n",
       "    </tr>\n",
       "    <tr>\n",
       "      <th>1.0e-15</th>\n",
       "      <td>0.014225</td>\n",
       "      <td>77.892856</td>\n",
       "      <td>3.528732</td>\n",
       "    </tr>\n",
       "    <tr>\n",
       "      <th>1.0e-17</th>\n",
       "      <td>-0.177005</td>\n",
       "      <td>0.959954</td>\n",
       "      <td>9.069314</td>\n",
       "    </tr>\n",
       "    <tr>\n",
       "      <th>1.0e-20</th>\n",
       "      <td>-0.175982</td>\n",
       "      <td>1.045830</td>\n",
       "      <td>10.360700</td>\n",
       "    </tr>\n",
       "    <tr>\n",
       "      <th>1.0e-30</th>\n",
       "      <td>-0.172122</td>\n",
       "      <td>1.075374</td>\n",
       "      <td>10.386707</td>\n",
       "    </tr>\n",
       "    <tr>\n",
       "      <th>1.0e-40</th>\n",
       "      <td>-0.197702</td>\n",
       "      <td>0.973492</td>\n",
       "      <td>9.186584</td>\n",
       "    </tr>\n",
       "    <tr>\n",
       "      <th>1.0e-50</th>\n",
       "      <td>-0.165823</td>\n",
       "      <td>0.959588</td>\n",
       "      <td>10.284961</td>\n",
       "    </tr>\n",
       "    <tr>\n",
       "      <th rowspan=\"10\" valign=\"top\">30</th>\n",
       "      <th>1.0e-02</th>\n",
       "      <td>0.460508</td>\n",
       "      <td>37.025701</td>\n",
       "      <td>0.497485</td>\n",
       "    </tr>\n",
       "    <tr>\n",
       "      <th>1.0e-03</th>\n",
       "      <td>0.027355</td>\n",
       "      <td>62.990745</td>\n",
       "      <td>1.960777</td>\n",
       "    </tr>\n",
       "    <tr>\n",
       "      <th>1.0e-05</th>\n",
       "      <td>0.028168</td>\n",
       "      <td>66.576427</td>\n",
       "      <td>2.583550</td>\n",
       "    </tr>\n",
       "    <tr>\n",
       "      <th>1.0e-10</th>\n",
       "      <td>0.029482</td>\n",
       "      <td>67.361703</td>\n",
       "      <td>2.462520</td>\n",
       "    </tr>\n",
       "    <tr>\n",
       "      <th>1.0e-15</th>\n",
       "      <td>0.004319</td>\n",
       "      <td>52.863795</td>\n",
       "      <td>4.223547</td>\n",
       "    </tr>\n",
       "    <tr>\n",
       "      <th>1.0e-17</th>\n",
       "      <td>-0.204686</td>\n",
       "      <td>1.026894</td>\n",
       "      <td>8.011132</td>\n",
       "    </tr>\n",
       "    <tr>\n",
       "      <th>1.0e-20</th>\n",
       "      <td>-0.214726</td>\n",
       "      <td>1.036447</td>\n",
       "      <td>8.042537</td>\n",
       "    </tr>\n",
       "    <tr>\n",
       "      <th>1.0e-30</th>\n",
       "      <td>-0.203292</td>\n",
       "      <td>1.047460</td>\n",
       "      <td>7.936902</td>\n",
       "    </tr>\n",
       "    <tr>\n",
       "      <th>1.0e-40</th>\n",
       "      <td>-0.194369</td>\n",
       "      <td>1.059380</td>\n",
       "      <td>8.303216</td>\n",
       "    </tr>\n",
       "    <tr>\n",
       "      <th>1.0e-50</th>\n",
       "      <td>-0.214461</td>\n",
       "      <td>1.030046</td>\n",
       "      <td>7.782673</td>\n",
       "    </tr>\n",
       "    <tr>\n",
       "      <th rowspan=\"10\" valign=\"top\">40</th>\n",
       "      <th>1.0e-02</th>\n",
       "      <td>0.413834</td>\n",
       "      <td>29.346208</td>\n",
       "      <td>0.736646</td>\n",
       "    </tr>\n",
       "    <tr>\n",
       "      <th>1.0e-03</th>\n",
       "      <td>0.032681</td>\n",
       "      <td>55.201064</td>\n",
       "      <td>2.043251</td>\n",
       "    </tr>\n",
       "    <tr>\n",
       "      <th>1.0e-05</th>\n",
       "      <td>0.031540</td>\n",
       "      <td>55.726672</td>\n",
       "      <td>2.557213</td>\n",
       "    </tr>\n",
       "    <tr>\n",
       "      <th>1.0e-10</th>\n",
       "      <td>0.034106</td>\n",
       "      <td>56.329756</td>\n",
       "      <td>2.492486</td>\n",
       "    </tr>\n",
       "    <tr>\n",
       "      <th>1.0e-15</th>\n",
       "      <td>-0.001465</td>\n",
       "      <td>44.657634</td>\n",
       "      <td>4.184013</td>\n",
       "    </tr>\n",
       "    <tr>\n",
       "      <th>1.0e-17</th>\n",
       "      <td>-0.228350</td>\n",
       "      <td>1.082999</td>\n",
       "      <td>7.106900</td>\n",
       "    </tr>\n",
       "    <tr>\n",
       "      <th>1.0e-20</th>\n",
       "      <td>-0.217493</td>\n",
       "      <td>1.148781</td>\n",
       "      <td>7.665599</td>\n",
       "    </tr>\n",
       "    <tr>\n",
       "      <th>1.0e-30</th>\n",
       "      <td>-0.218768</td>\n",
       "      <td>0.973159</td>\n",
       "      <td>6.918391</td>\n",
       "    </tr>\n",
       "    <tr>\n",
       "      <th>1.0e-40</th>\n",
       "      <td>-0.220984</td>\n",
       "      <td>0.971518</td>\n",
       "      <td>7.730933</td>\n",
       "    </tr>\n",
       "    <tr>\n",
       "      <th>1.0e-50</th>\n",
       "      <td>-0.233704</td>\n",
       "      <td>1.129431</td>\n",
       "      <td>7.552337</td>\n",
       "    </tr>\n",
       "    <tr>\n",
       "      <th rowspan=\"10\" valign=\"top\">50</th>\n",
       "      <th>1.0e-02</th>\n",
       "      <td>0.380951</td>\n",
       "      <td>30.761113</td>\n",
       "      <td>0.598463</td>\n",
       "    </tr>\n",
       "    <tr>\n",
       "      <th>1.0e-03</th>\n",
       "      <td>0.038054</td>\n",
       "      <td>48.180981</td>\n",
       "      <td>2.005140</td>\n",
       "    </tr>\n",
       "    <tr>\n",
       "      <th>1.0e-05</th>\n",
       "      <td>0.038901</td>\n",
       "      <td>48.641664</td>\n",
       "      <td>2.421982</td>\n",
       "    </tr>\n",
       "    <tr>\n",
       "      <th>1.0e-10</th>\n",
       "      <td>0.037536</td>\n",
       "      <td>48.269583</td>\n",
       "      <td>2.416821</td>\n",
       "    </tr>\n",
       "    <tr>\n",
       "      <th>1.0e-15</th>\n",
       "      <td>-0.031773</td>\n",
       "      <td>35.758614</td>\n",
       "      <td>4.277859</td>\n",
       "    </tr>\n",
       "    <tr>\n",
       "      <th>1.0e-17</th>\n",
       "      <td>-0.238553</td>\n",
       "      <td>1.105373</td>\n",
       "      <td>6.807005</td>\n",
       "    </tr>\n",
       "    <tr>\n",
       "      <th>1.0e-20</th>\n",
       "      <td>-0.223871</td>\n",
       "      <td>1.051770</td>\n",
       "      <td>6.671971</td>\n",
       "    </tr>\n",
       "    <tr>\n",
       "      <th>1.0e-30</th>\n",
       "      <td>-0.229650</td>\n",
       "      <td>1.065129</td>\n",
       "      <td>6.506204</td>\n",
       "    </tr>\n",
       "    <tr>\n",
       "      <th>1.0e-40</th>\n",
       "      <td>-0.239921</td>\n",
       "      <td>1.130381</td>\n",
       "      <td>6.423550</td>\n",
       "    </tr>\n",
       "    <tr>\n",
       "      <th>1.0e-50</th>\n",
       "      <td>-0.243420</td>\n",
       "      <td>1.012354</td>\n",
       "      <td>6.805569</td>\n",
       "    </tr>\n",
       "    <tr>\n",
       "      <th rowspan=\"10\" valign=\"top\">60</th>\n",
       "      <th>1.0e-02</th>\n",
       "      <td>0.364991</td>\n",
       "      <td>27.870259</td>\n",
       "      <td>0.615464</td>\n",
       "    </tr>\n",
       "    <tr>\n",
       "      <th>1.0e-03</th>\n",
       "      <td>0.037070</td>\n",
       "      <td>42.640583</td>\n",
       "      <td>1.990094</td>\n",
       "    </tr>\n",
       "    <tr>\n",
       "      <th>1.0e-05</th>\n",
       "      <td>-0.213300</td>\n",
       "      <td>40.929060</td>\n",
       "      <td>2.357471</td>\n",
       "    </tr>\n",
       "    <tr>\n",
       "      <th>1.0e-10</th>\n",
       "      <td>-0.213419</td>\n",
       "      <td>41.087782</td>\n",
       "      <td>2.364874</td>\n",
       "    </tr>\n",
       "    <tr>\n",
       "      <th>1.0e-15</th>\n",
       "      <td>-0.060715</td>\n",
       "      <td>29.949032</td>\n",
       "      <td>4.184288</td>\n",
       "    </tr>\n",
       "    <tr>\n",
       "      <th>1.0e-17</th>\n",
       "      <td>-0.267146</td>\n",
       "      <td>1.010967</td>\n",
       "      <td>6.336791</td>\n",
       "    </tr>\n",
       "    <tr>\n",
       "      <th>1.0e-20</th>\n",
       "      <td>-0.249338</td>\n",
       "      <td>1.122574</td>\n",
       "      <td>6.251832</td>\n",
       "    </tr>\n",
       "    <tr>\n",
       "      <th>1.0e-30</th>\n",
       "      <td>-0.249577</td>\n",
       "      <td>1.149998</td>\n",
       "      <td>6.137938</td>\n",
       "    </tr>\n",
       "    <tr>\n",
       "      <th>1.0e-40</th>\n",
       "      <td>-0.242744</td>\n",
       "      <td>1.148704</td>\n",
       "      <td>5.882922</td>\n",
       "    </tr>\n",
       "    <tr>\n",
       "      <th>1.0e-50</th>\n",
       "      <td>-0.252757</td>\n",
       "      <td>1.002571</td>\n",
       "      <td>6.310885</td>\n",
       "    </tr>\n",
       "  </tbody>\n",
       "</table>\n",
       "</div>"
      ],
      "text/plain": [
       "                    si_score    ch_score   db_score\n",
       "n_clusters gamma                                   \n",
       "2          1.0e-02  0.573487   96.586303   0.530212\n",
       "           1.0e-03  0.563166  288.701044   1.979124\n",
       "           1.0e-05  0.483698  304.317601   2.317783\n",
       "           1.0e-10  0.483698  304.317601   2.317783\n",
       "           1.0e-15  0.467945  302.761801   2.355240\n",
       "           1.0e-17  0.040719    1.175229  18.828174\n",
       "           1.0e-20 -0.003735    0.976355   8.516577\n",
       "           1.0e-30  0.003792    1.063093  25.318291\n",
       "           1.0e-40  0.020224    1.128614  14.848006\n",
       "           1.0e-50 -0.018902    1.115282  19.245794\n",
       "4          1.0e-02  0.574426   68.247719   0.530126\n",
       "           1.0e-03  0.538203  154.666285   1.383851\n",
       "           1.0e-05  0.468727  178.457611   1.915573\n",
       "           1.0e-10  0.482336  178.145309   1.824615\n",
       "           1.0e-15  0.312164  174.406439   2.184357\n",
       "           1.0e-17 -0.035222    1.487692  15.090239\n",
       "           1.0e-20 -0.035858    1.218787  19.736072\n",
       "           1.0e-30 -0.095409    1.097025  16.510146\n",
       "           1.0e-40 -0.054341    1.331287  15.980292\n",
       "           1.0e-50 -0.076653    0.974232  17.726775\n",
       "6          1.0e-02  0.578251   73.346113   0.561848\n",
       "           1.0e-03  0.563205  108.533882   1.241195\n",
       "           1.0e-05  0.196906  144.069395   2.173387\n",
       "           1.0e-10  0.233971  143.570465   2.051013\n",
       "           1.0e-15  0.246827  141.317562   1.995375\n",
       "           1.0e-17 -0.123142    0.918002  13.649676\n",
       "           1.0e-20 -0.145396    0.953052   9.095206\n",
       "           1.0e-30 -0.097092    0.983230  16.141420\n",
       "           1.0e-40 -0.102311    1.048471  10.317452\n",
       "           1.0e-50 -0.108749    0.891324  13.011907\n",
       "8          1.0e-02  0.534241   66.570122   0.628513\n",
       "           1.0e-03  0.509308   97.133489   1.091586\n",
       "           1.0e-05  0.083910  128.005334   2.856265\n",
       "           1.0e-10  0.116585  129.040752   2.531359\n",
       "           1.0e-15  0.042673  123.803452   3.357962\n",
       "           1.0e-17 -0.122006    0.935397  17.625758\n",
       "           1.0e-20 -0.124061    0.897070  13.251493\n",
       "           1.0e-30 -0.109272    1.043057  14.593748\n",
       "           1.0e-40 -0.118944    1.080244  14.499802\n",
       "           1.0e-50 -0.123978    1.289142  15.894471\n",
       "10         1.0e-02  0.538553   79.036202   0.631684\n",
       "           1.0e-03  0.517525   90.097070   1.094555\n",
       "           1.0e-05  0.052677  118.358212   2.652971\n",
       "           1.0e-10  0.049199  119.081499   2.695754\n",
       "           1.0e-15  0.013079  109.631943   3.390838\n",
       "           1.0e-17 -0.119906    1.022994  14.880160\n",
       "           1.0e-20 -0.135584    1.179853  14.596829\n",
       "           1.0e-30 -0.138318    1.071299  13.221733\n",
       "           1.0e-40 -0.138749    0.896895  13.795135\n",
       "           1.0e-50 -0.139279    1.142017  14.804684\n",
       "20         1.0e-02  0.474090   48.060560   0.558217\n",
       "           1.0e-03  0.026581   76.115234   1.815919\n",
       "           1.0e-05  0.023970   85.138734   2.586959\n",
       "           1.0e-10  0.021160   84.240893   2.747873\n",
       "           1.0e-15  0.014225   77.892856   3.528732\n",
       "           1.0e-17 -0.177005    0.959954   9.069314\n",
       "           1.0e-20 -0.175982    1.045830  10.360700\n",
       "           1.0e-30 -0.172122    1.075374  10.386707\n",
       "           1.0e-40 -0.197702    0.973492   9.186584\n",
       "           1.0e-50 -0.165823    0.959588  10.284961\n",
       "30         1.0e-02  0.460508   37.025701   0.497485\n",
       "           1.0e-03  0.027355   62.990745   1.960777\n",
       "           1.0e-05  0.028168   66.576427   2.583550\n",
       "           1.0e-10  0.029482   67.361703   2.462520\n",
       "           1.0e-15  0.004319   52.863795   4.223547\n",
       "           1.0e-17 -0.204686    1.026894   8.011132\n",
       "           1.0e-20 -0.214726    1.036447   8.042537\n",
       "           1.0e-30 -0.203292    1.047460   7.936902\n",
       "           1.0e-40 -0.194369    1.059380   8.303216\n",
       "           1.0e-50 -0.214461    1.030046   7.782673\n",
       "40         1.0e-02  0.413834   29.346208   0.736646\n",
       "           1.0e-03  0.032681   55.201064   2.043251\n",
       "           1.0e-05  0.031540   55.726672   2.557213\n",
       "           1.0e-10  0.034106   56.329756   2.492486\n",
       "           1.0e-15 -0.001465   44.657634   4.184013\n",
       "           1.0e-17 -0.228350    1.082999   7.106900\n",
       "           1.0e-20 -0.217493    1.148781   7.665599\n",
       "           1.0e-30 -0.218768    0.973159   6.918391\n",
       "           1.0e-40 -0.220984    0.971518   7.730933\n",
       "           1.0e-50 -0.233704    1.129431   7.552337\n",
       "50         1.0e-02  0.380951   30.761113   0.598463\n",
       "           1.0e-03  0.038054   48.180981   2.005140\n",
       "           1.0e-05  0.038901   48.641664   2.421982\n",
       "           1.0e-10  0.037536   48.269583   2.416821\n",
       "           1.0e-15 -0.031773   35.758614   4.277859\n",
       "           1.0e-17 -0.238553    1.105373   6.807005\n",
       "           1.0e-20 -0.223871    1.051770   6.671971\n",
       "           1.0e-30 -0.229650    1.065129   6.506204\n",
       "           1.0e-40 -0.239921    1.130381   6.423550\n",
       "           1.0e-50 -0.243420    1.012354   6.805569\n",
       "60         1.0e-02  0.364991   27.870259   0.615464\n",
       "           1.0e-03  0.037070   42.640583   1.990094\n",
       "           1.0e-05 -0.213300   40.929060   2.357471\n",
       "           1.0e-10 -0.213419   41.087782   2.364874\n",
       "           1.0e-15 -0.060715   29.949032   4.184288\n",
       "           1.0e-17 -0.267146    1.010967   6.336791\n",
       "           1.0e-20 -0.249338    1.122574   6.251832\n",
       "           1.0e-30 -0.249577    1.149998   6.137938\n",
       "           1.0e-40 -0.242744    1.148704   5.882922\n",
       "           1.0e-50 -0.252757    1.002571   6.310885"
      ]
     },
     "metadata": {},
     "output_type": "display_data"
    }
   ],
   "source": [
    "with pd.option_context(\"display.max_rows\", None, \"display.max_columns\", None):\n",
    "    _df = ensemble.groupby([\"n_clusters\", \"gamma\"]).mean()\n",
    "    display(_df)"
   ]
  },
  {
   "cell_type": "code",
   "execution_count": 48,
   "metadata": {
    "execution": {
     "iopub.execute_input": "2021-03-09T22:12:20.049964Z",
     "iopub.status.busy": "2021-03-09T22:12:20.049600Z",
     "iopub.status.idle": "2021-03-09T22:12:22.696517Z",
     "shell.execute_reply": "2021-03-09T22:12:22.696848Z"
    },
    "papermill": {
     "duration": 2.765438,
     "end_time": "2021-03-09T22:12:22.696951",
     "exception": false,
     "start_time": "2021-03-09T22:12:19.931513",
     "status": "completed"
    },
    "tags": []
   },
   "outputs": [
    {
     "data": {
      "image/png": "[encoded data removed]",
      "text/plain": [
       "<Figure size 1008x432 with 1 Axes>"
      ]
     },
     "metadata": {},
     "output_type": "display_data"
    }
   ],
   "source": [
    "with sns.plotting_context(\"talk\", font_scale=0.75), sns.axes_style(\n",
    "    \"whitegrid\", {\"grid.linestyle\": \"--\"}\n",
    "):\n",
    "    fig = plt.figure(figsize=(14, 6))\n",
    "    ax = sns.pointplot(data=ensemble, x=\"n_clusters\", y=\"si_score\", hue=\"gamma\")\n",
    "    ax.set_ylabel(\"Silhouette index\\n(higher is better)\")\n",
    "    ax.set_xlabel(\"Number of clusters ($k$)\")\n",
    "    ax.set_xticklabels(ax.get_xticklabels(), rotation=45)\n",
    "    plt.grid(True)\n",
    "    plt.tight_layout()"
   ]
  },
  {
   "cell_type": "code",
   "execution_count": 49,
   "metadata": {
    "execution": {
     "iopub.execute_input": "2021-03-09T22:12:22.931752Z",
     "iopub.status.busy": "2021-03-09T22:12:22.931372Z",
     "iopub.status.idle": "2021-03-09T22:12:25.153621Z",
     "shell.execute_reply": "2021-03-09T22:12:25.153918Z"
    },
    "papermill": {
     "duration": 2.341217,
     "end_time": "2021-03-09T22:12:25.154022",
     "exception": false,
     "start_time": "2021-03-09T22:12:22.812805",
     "status": "completed"
    },
    "tags": []
   },
   "outputs": [
    {
     "data": {
      "image/png": "[encoded data removed]",
      "text/plain": [
       "<Figure size 1008x432 with 1 Axes>"
      ]
     },
     "metadata": {},
     "output_type": "display_data"
    }
   ],
   "source": [
    "with sns.plotting_context(\"talk\", font_scale=0.75), sns.axes_style(\n",
    "    \"whitegrid\", {\"grid.linestyle\": \"--\"}\n",
    "):\n",
    "    fig = plt.figure(figsize=(14, 6))\n",
    "    ax = sns.pointplot(data=ensemble, x=\"n_clusters\", y=\"ch_score\", hue=\"gamma\")\n",
    "    ax.set_ylabel(\"Calinski-Harabasz index\\n(higher is better)\")\n",
    "    ax.set_xlabel(\"Number of clusters ($k$)\")\n",
    "    ax.set_xticklabels(ax.get_xticklabels(), rotation=45)\n",
    "    plt.grid(True)\n",
    "    plt.tight_layout()"
   ]
  },
  {
   "cell_type": "code",
   "execution_count": 50,
   "metadata": {
    "execution": {
     "iopub.execute_input": "2021-03-09T22:12:25.399639Z",
     "iopub.status.busy": "2021-03-09T22:12:25.399265Z",
     "iopub.status.idle": "2021-03-09T22:12:27.575628Z",
     "shell.execute_reply": "2021-03-09T22:12:27.575926Z"
    },
    "papermill": {
     "duration": 2.301049,
     "end_time": "2021-03-09T22:12:27.576031",
     "exception": false,
     "start_time": "2021-03-09T22:12:25.274982",
     "status": "completed"
    },
    "tags": []
   },
   "outputs": [
    {
     "data": {
      "image/png": "[encoded data removed]",
      "text/plain": [
       "<Figure size 1008x432 with 1 Axes>"
      ]
     },
     "metadata": {},
     "output_type": "display_data"
    }
   ],
   "source": [
    "with sns.plotting_context(\"talk\", font_scale=0.75), sns.axes_style(\n",
    "    \"whitegrid\", {\"grid.linestyle\": \"--\"}\n",
    "):\n",
    "    fig = plt.figure(figsize=(14, 6))\n",
    "    ax = sns.pointplot(data=ensemble, x=\"n_clusters\", y=\"db_score\", hue=\"gamma\")\n",
    "    ax.set_ylabel(\"Davies-Bouldin index\\n(lower is better)\")\n",
    "    ax.set_xlabel(\"Number of clusters ($k$)\")\n",
    "    ax.set_xticklabels(ax.get_xticklabels(), rotation=45)\n",
    "    plt.grid(True)\n",
    "    plt.tight_layout()"
   ]
  },
  {
   "cell_type": "markdown",
   "metadata": {
    "papermill": {
     "duration": 0.12062,
     "end_time": "2021-03-09T22:12:27.818038",
     "exception": false,
     "start_time": "2021-03-09T22:12:27.697418",
     "status": "completed"
    },
    "tags": []
   },
   "source": [
    "# Stability"
   ]
  },
  {
   "cell_type": "markdown",
   "metadata": {
    "papermill": {
     "duration": 0.121987,
     "end_time": "2021-03-09T22:12:28.060610",
     "exception": false,
     "start_time": "2021-03-09T22:12:27.938623",
     "status": "completed"
    },
    "tags": []
   },
   "source": [
    "## Group ensemble by n_clusters"
   ]
  },
  {
   "cell_type": "code",
   "execution_count": 51,
   "metadata": {
    "execution": {
     "iopub.execute_input": "2021-03-09T22:12:28.307215Z",
     "iopub.status.busy": "2021-03-09T22:12:28.306850Z",
     "iopub.status.idle": "2021-03-09T22:12:28.343296Z",
     "shell.execute_reply": "2021-03-09T22:12:28.342934Z"
    },
    "papermill": {
     "duration": 0.161813,
     "end_time": "2021-03-09T22:12:28.343379",
     "exception": false,
     "start_time": "2021-03-09T22:12:28.181566",
     "status": "completed"
    },
    "tags": []
   },
   "outputs": [],
   "source": [
    "parts = ensemble.groupby([\"gamma\", \"n_clusters\"]).apply(\n",
    "    lambda x: np.concatenate(x[\"partition\"].apply(lambda x: x.reshape(1, -1)), axis=0)\n",
    ")"
   ]
  },
  {
   "cell_type": "code",
   "execution_count": 52,
   "metadata": {
    "execution": {
     "iopub.execute_input": "2021-03-09T22:12:28.587752Z",
     "iopub.status.busy": "2021-03-09T22:12:28.587374Z",
     "iopub.status.idle": "2021-03-09T22:12:28.598921Z",
     "shell.execute_reply": "2021-03-09T22:12:28.598555Z"
    },
    "papermill": {
     "duration": 0.134193,
     "end_time": "2021-03-09T22:12:28.599005",
     "exception": false,
     "start_time": "2021-03-09T22:12:28.464812",
     "status": "completed"
    },
    "tags": []
   },
   "outputs": [
    {
     "data": {
      "text/plain": [
       "(100,)"
      ]
     },
     "execution_count": 52,
     "metadata": {},
     "output_type": "execute_result"
    }
   ],
   "source": [
    "parts.shape"
   ]
  },
  {
   "cell_type": "code",
   "execution_count": 53,
   "metadata": {
    "execution": {
     "iopub.execute_input": "2021-03-09T22:12:28.842005Z",
     "iopub.status.busy": "2021-03-09T22:12:28.841650Z",
     "iopub.status.idle": "2021-03-09T22:12:28.862964Z",
     "shell.execute_reply": "2021-03-09T22:12:28.863242Z"
    },
    "papermill": {
     "duration": 0.144141,
     "end_time": "2021-03-09T22:12:28.863348",
     "exception": false,
     "start_time": "2021-03-09T22:12:28.719207",
     "status": "completed"
    },
    "tags": []
   },
   "outputs": [
    {
     "data": {
      "text/plain": [
       "gamma    n_clusters\n",
       "1.0e-02  2             [[0.0, 0.0, 0.0, 0.0, 0.0, 0.0, 0.0, 0.0, 0.0,...\n",
       "         4             [[0.0, 0.0, 0.0, 0.0, 0.0, 0.0, 0.0, 0.0, 0.0,...\n",
       "         6             [[0.0, 0.0, 0.0, 0.0, 0.0, 0.0, 0.0, 0.0, 0.0,...\n",
       "         8             [[0.0, 0.0, 0.0, 0.0, 0.0, 0.0, 0.0, 0.0, 0.0,...\n",
       "         10            [[0.0, 0.0, 0.0, 0.0, 0.0, 0.0, 0.0, 0.0, 0.0,...\n",
       "dtype: object"
      ]
     },
     "execution_count": 53,
     "metadata": {},
     "output_type": "execute_result"
    }
   ],
   "source": [
    "parts.head()"
   ]
  },
  {
   "cell_type": "code",
   "execution_count": 54,
   "metadata": {
    "execution": {
     "iopub.execute_input": "2021-03-09T22:12:29.106615Z",
     "iopub.status.busy": "2021-03-09T22:12:29.106260Z",
     "iopub.status.idle": "2021-03-09T22:12:29.117731Z",
     "shell.execute_reply": "2021-03-09T22:12:29.117372Z"
    },
    "papermill": {
     "duration": 0.134012,
     "end_time": "2021-03-09T22:12:29.117815",
     "exception": false,
     "start_time": "2021-03-09T22:12:28.983803",
     "status": "completed"
    },
    "tags": []
   },
   "outputs": [
    {
     "data": {
      "text/plain": [
       "(5, 3752)"
      ]
     },
     "execution_count": 54,
     "metadata": {},
     "output_type": "execute_result"
    }
   ],
   "source": [
    "parts.iloc[0].shape"
   ]
  },
  {
   "cell_type": "code",
   "execution_count": 55,
   "metadata": {
    "execution": {
     "iopub.execute_input": "2021-03-09T22:12:29.362817Z",
     "iopub.status.busy": "2021-03-09T22:12:29.362454Z",
     "iopub.status.idle": "2021-03-09T22:12:29.377166Z",
     "shell.execute_reply": "2021-03-09T22:12:29.376747Z"
    },
    "papermill": {
     "duration": 0.138381,
     "end_time": "2021-03-09T22:12:29.377253",
     "exception": false,
     "start_time": "2021-03-09T22:12:29.238872",
     "status": "completed"
    },
    "tags": []
   },
   "outputs": [],
   "source": [
    "assert np.all(\n",
    "    [\n",
    "        parts.loc[k].shape == (int(CLUSTERING_OPTIONS[\"N_REPS_PER_K\"]), data.shape[0])\n",
    "        for k in parts.index\n",
    "    ]\n",
    ")"
   ]
  },
  {
   "cell_type": "markdown",
   "metadata": {
    "papermill": {
     "duration": 0.12061,
     "end_time": "2021-03-09T22:12:29.619955",
     "exception": false,
     "start_time": "2021-03-09T22:12:29.499345",
     "status": "completed"
    },
    "tags": []
   },
   "source": [
    "## Compute stability"
   ]
  },
  {
   "cell_type": "code",
   "execution_count": 56,
   "metadata": {
    "execution": {
     "iopub.execute_input": "2021-03-09T22:12:29.863243Z",
     "iopub.status.busy": "2021-03-09T22:12:29.862881Z",
     "iopub.status.idle": "2021-03-09T22:12:29.873261Z",
     "shell.execute_reply": "2021-03-09T22:12:29.872906Z"
    },
    "papermill": {
     "duration": 0.133808,
     "end_time": "2021-03-09T22:12:29.873342",
     "exception": false,
     "start_time": "2021-03-09T22:12:29.739534",
     "status": "completed"
    },
    "tags": []
   },
   "outputs": [],
   "source": [
    "from sklearn.metrics import adjusted_rand_score as ari\n",
    "from scipy.spatial.distance import pdist"
   ]
  },
  {
   "cell_type": "code",
   "execution_count": 57,
   "metadata": {
    "execution": {
     "iopub.execute_input": "2021-03-09T22:12:30.139731Z",
     "iopub.status.busy": "2021-03-09T22:12:30.139299Z",
     "iopub.status.idle": "2021-03-09T22:12:31.133653Z",
     "shell.execute_reply": "2021-03-09T22:12:31.133284Z"
    },
    "papermill": {
     "duration": 1.138844,
     "end_time": "2021-03-09T22:12:31.133738",
     "exception": false,
     "start_time": "2021-03-09T22:12:29.994894",
     "status": "completed"
    },
    "tags": []
   },
   "outputs": [],
   "source": [
    "parts_ari = pd.Series(\n",
    "    {k: pdist(parts.loc[k], metric=ari) for k in parts.index}, name=\"n_clusters\"\n",
    ")"
   ]
  },
  {
   "cell_type": "code",
   "execution_count": 58,
   "metadata": {
    "execution": {
     "iopub.execute_input": "2021-03-09T22:12:31.379335Z",
     "iopub.status.busy": "2021-03-09T22:12:31.378976Z",
     "iopub.status.idle": "2021-03-09T22:12:31.392606Z",
     "shell.execute_reply": "2021-03-09T22:12:31.392224Z"
    },
    "papermill": {
     "duration": 0.137857,
     "end_time": "2021-03-09T22:12:31.392702",
     "exception": false,
     "start_time": "2021-03-09T22:12:31.254845",
     "status": "completed"
    },
    "tags": []
   },
   "outputs": [
    {
     "data": {
      "text/plain": [
       "1.0e-02  2     1.000000\n",
       "         30    1.000000\n",
       "1.0e-05  2     1.000000\n",
       "1.0e-03  6     1.000000\n",
       "1.0e-10  2     1.000000\n",
       "1.0e-03  2     1.000000\n",
       "         4     1.000000\n",
       "1.0e-02  20    1.000000\n",
       "         10    1.000000\n",
       "         8     1.000000\n",
       "         6     1.000000\n",
       "         4     1.000000\n",
       "1.0e-05  6     0.990922\n",
       "1.0e-02  60    0.974192\n",
       "         40    0.969023\n",
       "Name: n_clusters, dtype: float64"
      ]
     },
     "metadata": {},
     "output_type": "display_data"
    }
   ],
   "source": [
    "parts_ari_stability = parts_ari.apply(lambda x: x.mean())\n",
    "display(parts_ari_stability.sort_values(ascending=False).head(15))"
   ]
  },
  {
   "cell_type": "code",
   "execution_count": 59,
   "metadata": {
    "execution": {
     "iopub.execute_input": "2021-03-09T22:12:31.641322Z",
     "iopub.status.busy": "2021-03-09T22:12:31.640954Z",
     "iopub.status.idle": "2021-03-09T22:12:31.652862Z",
     "shell.execute_reply": "2021-03-09T22:12:31.653142Z"
    },
    "papermill": {
     "duration": 0.135783,
     "end_time": "2021-03-09T22:12:31.653252",
     "exception": false,
     "start_time": "2021-03-09T22:12:31.517469",
     "status": "completed"
    },
    "tags": []
   },
   "outputs": [],
   "source": [
    "parts_ari_df = pd.DataFrame.from_records(parts_ari.tolist()).set_index(\n",
    "    parts_ari.index.copy()\n",
    ")\n",
    "parts_ari_df.index.rename([\"gamma\", \"n_clusters\"], inplace=True)"
   ]
  },
  {
   "cell_type": "code",
   "execution_count": 60,
   "metadata": {
    "execution": {
     "iopub.execute_input": "2021-03-09T22:12:31.899304Z",
     "iopub.status.busy": "2021-03-09T22:12:31.898935Z",
     "iopub.status.idle": "2021-03-09T22:12:31.910162Z",
     "shell.execute_reply": "2021-03-09T22:12:31.909836Z"
    },
    "papermill": {
     "duration": 0.134843,
     "end_time": "2021-03-09T22:12:31.910244",
     "exception": false,
     "start_time": "2021-03-09T22:12:31.775401",
     "status": "completed"
    },
    "tags": []
   },
   "outputs": [
    {
     "data": {
      "text/plain": [
       "(100, 10)"
      ]
     },
     "execution_count": 60,
     "metadata": {},
     "output_type": "execute_result"
    }
   ],
   "source": [
    "parts_ari_df.shape"
   ]
  },
  {
   "cell_type": "code",
   "execution_count": 61,
   "metadata": {
    "execution": {
     "iopub.execute_input": "2021-03-09T22:12:32.157990Z",
     "iopub.status.busy": "2021-03-09T22:12:32.157630Z",
     "iopub.status.idle": "2021-03-09T22:12:32.168051Z",
     "shell.execute_reply": "2021-03-09T22:12:32.167684Z"
    },
    "papermill": {
     "duration": 0.133956,
     "end_time": "2021-03-09T22:12:32.168136",
     "exception": false,
     "start_time": "2021-03-09T22:12:32.034180",
     "status": "completed"
    },
    "tags": []
   },
   "outputs": [],
   "source": [
    "_n_total_parts = int(\n",
    "    CLUSTERING_OPTIONS[\"N_REPS_PER_K\"]\n",
    ")  # * len(CLUSTERING_OPTIONS[\"GAMMAS\"]))\n",
    "\n",
    "assert int(_n_total_parts * (_n_total_parts - 1) / 2) == parts_ari_df.shape[1]"
   ]
  },
  {
   "cell_type": "code",
   "execution_count": 62,
   "metadata": {
    "execution": {
     "iopub.execute_input": "2021-03-09T22:12:32.413787Z",
     "iopub.status.busy": "2021-03-09T22:12:32.413431Z",
     "iopub.status.idle": "2021-03-09T22:12:32.431818Z",
     "shell.execute_reply": "2021-03-09T22:12:32.431457Z"
    },
    "papermill": {
     "duration": 0.142785,
     "end_time": "2021-03-09T22:12:32.431901",
     "exception": false,
     "start_time": "2021-03-09T22:12:32.289116",
     "status": "completed"
    },
    "tags": []
   },
   "outputs": [
    {
     "data": {
      "text/html": [
       "<div>\n",
       "<style scoped>\n",
       "    .dataframe tbody tr th:only-of-type {\n",
       "        vertical-align: middle;\n",
       "    }\n",
       "\n",
       "    .dataframe tbody tr th {\n",
       "        vertical-align: top;\n",
       "    }\n",
       "\n",
       "    .dataframe thead th {\n",
       "        text-align: right;\n",
       "    }\n",
       "</style>\n",
       "<table border=\"1\" class=\"dataframe\">\n",
       "  <thead>\n",
       "    <tr style=\"text-align: right;\">\n",
       "      <th></th>\n",
       "      <th></th>\n",
       "      <th>0</th>\n",
       "      <th>1</th>\n",
       "      <th>2</th>\n",
       "      <th>3</th>\n",
       "      <th>4</th>\n",
       "      <th>5</th>\n",
       "      <th>6</th>\n",
       "      <th>7</th>\n",
       "      <th>8</th>\n",
       "      <th>9</th>\n",
       "    </tr>\n",
       "    <tr>\n",
       "      <th>gamma</th>\n",
       "      <th>n_clusters</th>\n",
       "      <th></th>\n",
       "      <th></th>\n",
       "      <th></th>\n",
       "      <th></th>\n",
       "      <th></th>\n",
       "      <th></th>\n",
       "      <th></th>\n",
       "      <th></th>\n",
       "      <th></th>\n",
       "      <th></th>\n",
       "    </tr>\n",
       "  </thead>\n",
       "  <tbody>\n",
       "    <tr>\n",
       "      <th rowspan=\"5\" valign=\"top\">1.0e-02</th>\n",
       "      <th>2</th>\n",
       "      <td>1.0</td>\n",
       "      <td>1.0</td>\n",
       "      <td>1.0</td>\n",
       "      <td>1.0</td>\n",
       "      <td>1.0</td>\n",
       "      <td>1.0</td>\n",
       "      <td>1.0</td>\n",
       "      <td>1.0</td>\n",
       "      <td>1.0</td>\n",
       "      <td>1.0</td>\n",
       "    </tr>\n",
       "    <tr>\n",
       "      <th>4</th>\n",
       "      <td>1.0</td>\n",
       "      <td>1.0</td>\n",
       "      <td>1.0</td>\n",
       "      <td>1.0</td>\n",
       "      <td>1.0</td>\n",
       "      <td>1.0</td>\n",
       "      <td>1.0</td>\n",
       "      <td>1.0</td>\n",
       "      <td>1.0</td>\n",
       "      <td>1.0</td>\n",
       "    </tr>\n",
       "    <tr>\n",
       "      <th>6</th>\n",
       "      <td>1.0</td>\n",
       "      <td>1.0</td>\n",
       "      <td>1.0</td>\n",
       "      <td>1.0</td>\n",
       "      <td>1.0</td>\n",
       "      <td>1.0</td>\n",
       "      <td>1.0</td>\n",
       "      <td>1.0</td>\n",
       "      <td>1.0</td>\n",
       "      <td>1.0</td>\n",
       "    </tr>\n",
       "    <tr>\n",
       "      <th>8</th>\n",
       "      <td>1.0</td>\n",
       "      <td>1.0</td>\n",
       "      <td>1.0</td>\n",
       "      <td>1.0</td>\n",
       "      <td>1.0</td>\n",
       "      <td>1.0</td>\n",
       "      <td>1.0</td>\n",
       "      <td>1.0</td>\n",
       "      <td>1.0</td>\n",
       "      <td>1.0</td>\n",
       "    </tr>\n",
       "    <tr>\n",
       "      <th>10</th>\n",
       "      <td>1.0</td>\n",
       "      <td>1.0</td>\n",
       "      <td>1.0</td>\n",
       "      <td>1.0</td>\n",
       "      <td>1.0</td>\n",
       "      <td>1.0</td>\n",
       "      <td>1.0</td>\n",
       "      <td>1.0</td>\n",
       "      <td>1.0</td>\n",
       "      <td>1.0</td>\n",
       "    </tr>\n",
       "  </tbody>\n",
       "</table>\n",
       "</div>"
      ],
      "text/plain": [
       "                      0    1    2    3    4    5    6    7    8    9\n",
       "gamma   n_clusters                                                  \n",
       "1.0e-02 2           1.0  1.0  1.0  1.0  1.0  1.0  1.0  1.0  1.0  1.0\n",
       "        4           1.0  1.0  1.0  1.0  1.0  1.0  1.0  1.0  1.0  1.0\n",
       "        6           1.0  1.0  1.0  1.0  1.0  1.0  1.0  1.0  1.0  1.0\n",
       "        8           1.0  1.0  1.0  1.0  1.0  1.0  1.0  1.0  1.0  1.0\n",
       "        10          1.0  1.0  1.0  1.0  1.0  1.0  1.0  1.0  1.0  1.0"
      ]
     },
     "execution_count": 62,
     "metadata": {},
     "output_type": "execute_result"
    }
   ],
   "source": [
    "parts_ari_df.head()"
   ]
  },
  {
   "cell_type": "markdown",
   "metadata": {
    "papermill": {
     "duration": 0.120215,
     "end_time": "2021-03-09T22:12:32.673127",
     "exception": false,
     "start_time": "2021-03-09T22:12:32.552912",
     "status": "completed"
    },
    "tags": []
   },
   "source": [
    "## Stability plot"
   ]
  },
  {
   "cell_type": "code",
   "execution_count": 63,
   "metadata": {
    "execution": {
     "iopub.execute_input": "2021-03-09T22:12:32.915800Z",
     "iopub.status.busy": "2021-03-09T22:12:32.915441Z",
     "iopub.status.idle": "2021-03-09T22:12:32.927854Z",
     "shell.execute_reply": "2021-03-09T22:12:32.927471Z"
    },
    "papermill": {
     "duration": 0.134621,
     "end_time": "2021-03-09T22:12:32.927941",
     "exception": false,
     "start_time": "2021-03-09T22:12:32.793320",
     "status": "completed"
    },
    "tags": []
   },
   "outputs": [],
   "source": [
    "parts_ari_df_plot = (\n",
    "    parts_ari_df.stack().reset_index().rename(columns={\"level_2\": \"idx\", 0: \"ari\"})\n",
    ")"
   ]
  },
  {
   "cell_type": "code",
   "execution_count": 64,
   "metadata": {
    "execution": {
     "iopub.execute_input": "2021-03-09T22:12:33.172899Z",
     "iopub.status.busy": "2021-03-09T22:12:33.172459Z",
     "iopub.status.idle": "2021-03-09T22:12:33.184615Z",
     "shell.execute_reply": "2021-03-09T22:12:33.184283Z"
    },
    "papermill": {
     "duration": 0.134899,
     "end_time": "2021-03-09T22:12:33.184738",
     "exception": false,
     "start_time": "2021-03-09T22:12:33.049839",
     "status": "completed"
    },
    "tags": []
   },
   "outputs": [
    {
     "data": {
      "text/plain": [
       "gamma          object\n",
       "n_clusters      int64\n",
       "idx             int64\n",
       "ari           float64\n",
       "dtype: object"
      ]
     },
     "execution_count": 64,
     "metadata": {},
     "output_type": "execute_result"
    }
   ],
   "source": [
    "parts_ari_df_plot.dtypes"
   ]
  },
  {
   "cell_type": "code",
   "execution_count": 65,
   "metadata": {
    "execution": {
     "iopub.execute_input": "2021-03-09T22:12:33.431814Z",
     "iopub.status.busy": "2021-03-09T22:12:33.431458Z",
     "iopub.status.idle": "2021-03-09T22:12:33.445614Z",
     "shell.execute_reply": "2021-03-09T22:12:33.445245Z"
    },
    "papermill": {
     "duration": 0.138681,
     "end_time": "2021-03-09T22:12:33.445697",
     "exception": false,
     "start_time": "2021-03-09T22:12:33.307016",
     "status": "completed"
    },
    "tags": []
   },
   "outputs": [
    {
     "data": {
      "text/html": [
       "<div>\n",
       "<style scoped>\n",
       "    .dataframe tbody tr th:only-of-type {\n",
       "        vertical-align: middle;\n",
       "    }\n",
       "\n",
       "    .dataframe tbody tr th {\n",
       "        vertical-align: top;\n",
       "    }\n",
       "\n",
       "    .dataframe thead th {\n",
       "        text-align: right;\n",
       "    }\n",
       "</style>\n",
       "<table border=\"1\" class=\"dataframe\">\n",
       "  <thead>\n",
       "    <tr style=\"text-align: right;\">\n",
       "      <th></th>\n",
       "      <th>gamma</th>\n",
       "      <th>n_clusters</th>\n",
       "      <th>idx</th>\n",
       "      <th>ari</th>\n",
       "    </tr>\n",
       "  </thead>\n",
       "  <tbody>\n",
       "    <tr>\n",
       "      <th>0</th>\n",
       "      <td>1.0e-02</td>\n",
       "      <td>2</td>\n",
       "      <td>0</td>\n",
       "      <td>1.0</td>\n",
       "    </tr>\n",
       "    <tr>\n",
       "      <th>1</th>\n",
       "      <td>1.0e-02</td>\n",
       "      <td>2</td>\n",
       "      <td>1</td>\n",
       "      <td>1.0</td>\n",
       "    </tr>\n",
       "    <tr>\n",
       "      <th>2</th>\n",
       "      <td>1.0e-02</td>\n",
       "      <td>2</td>\n",
       "      <td>2</td>\n",
       "      <td>1.0</td>\n",
       "    </tr>\n",
       "    <tr>\n",
       "      <th>3</th>\n",
       "      <td>1.0e-02</td>\n",
       "      <td>2</td>\n",
       "      <td>3</td>\n",
       "      <td>1.0</td>\n",
       "    </tr>\n",
       "    <tr>\n",
       "      <th>4</th>\n",
       "      <td>1.0e-02</td>\n",
       "      <td>2</td>\n",
       "      <td>4</td>\n",
       "      <td>1.0</td>\n",
       "    </tr>\n",
       "  </tbody>\n",
       "</table>\n",
       "</div>"
      ],
      "text/plain": [
       "     gamma  n_clusters  idx  ari\n",
       "0  1.0e-02           2    0  1.0\n",
       "1  1.0e-02           2    1  1.0\n",
       "2  1.0e-02           2    2  1.0\n",
       "3  1.0e-02           2    3  1.0\n",
       "4  1.0e-02           2    4  1.0"
      ]
     },
     "execution_count": 65,
     "metadata": {},
     "output_type": "execute_result"
    }
   ],
   "source": [
    "parts_ari_df_plot.head()"
   ]
  },
  {
   "cell_type": "code",
   "execution_count": 66,
   "metadata": {
    "execution": {
     "iopub.execute_input": "2021-03-09T22:12:33.692851Z",
     "iopub.status.busy": "2021-03-09T22:12:33.692385Z",
     "iopub.status.idle": "2021-03-09T22:12:33.713770Z",
     "shell.execute_reply": "2021-03-09T22:12:33.714063Z"
    },
    "papermill": {
     "duration": 0.145695,
     "end_time": "2021-03-09T22:12:33.714167",
     "exception": false,
     "start_time": "2021-03-09T22:12:33.568472",
     "status": "completed"
    },
    "tags": []
   },
   "outputs": [
    {
     "data": {
      "text/html": [
       "<div>\n",
       "<style scoped>\n",
       "    .dataframe tbody tr th:only-of-type {\n",
       "        vertical-align: middle;\n",
       "    }\n",
       "\n",
       "    .dataframe tbody tr th {\n",
       "        vertical-align: top;\n",
       "    }\n",
       "\n",
       "    .dataframe thead th {\n",
       "        text-align: right;\n",
       "    }\n",
       "</style>\n",
       "<table border=\"1\" class=\"dataframe\">\n",
       "  <thead>\n",
       "    <tr style=\"text-align: right;\">\n",
       "      <th></th>\n",
       "      <th></th>\n",
       "      <th>idx</th>\n",
       "      <th>ari</th>\n",
       "    </tr>\n",
       "    <tr>\n",
       "      <th>n_clusters</th>\n",
       "      <th>gamma</th>\n",
       "      <th></th>\n",
       "      <th></th>\n",
       "    </tr>\n",
       "  </thead>\n",
       "  <tbody>\n",
       "    <tr>\n",
       "      <th rowspan=\"10\" valign=\"top\">2</th>\n",
       "      <th>1.0e-02</th>\n",
       "      <td>4.5</td>\n",
       "      <td>1.000000</td>\n",
       "    </tr>\n",
       "    <tr>\n",
       "      <th>1.0e-03</th>\n",
       "      <td>4.5</td>\n",
       "      <td>1.000000</td>\n",
       "    </tr>\n",
       "    <tr>\n",
       "      <th>1.0e-05</th>\n",
       "      <td>4.5</td>\n",
       "      <td>1.000000</td>\n",
       "    </tr>\n",
       "    <tr>\n",
       "      <th>1.0e-10</th>\n",
       "      <td>4.5</td>\n",
       "      <td>1.000000</td>\n",
       "    </tr>\n",
       "    <tr>\n",
       "      <th>1.0e-15</th>\n",
       "      <td>4.5</td>\n",
       "      <td>0.943603</td>\n",
       "    </tr>\n",
       "    <tr>\n",
       "      <th>1.0e-17</th>\n",
       "      <td>4.5</td>\n",
       "      <td>0.001081</td>\n",
       "    </tr>\n",
       "    <tr>\n",
       "      <th>1.0e-20</th>\n",
       "      <td>4.5</td>\n",
       "      <td>-0.002393</td>\n",
       "    </tr>\n",
       "    <tr>\n",
       "      <th>1.0e-30</th>\n",
       "      <td>4.5</td>\n",
       "      <td>0.000655</td>\n",
       "    </tr>\n",
       "    <tr>\n",
       "      <th>1.0e-40</th>\n",
       "      <td>4.5</td>\n",
       "      <td>-0.002153</td>\n",
       "    </tr>\n",
       "    <tr>\n",
       "      <th>1.0e-50</th>\n",
       "      <td>4.5</td>\n",
       "      <td>-0.002797</td>\n",
       "    </tr>\n",
       "    <tr>\n",
       "      <th rowspan=\"10\" valign=\"top\">4</th>\n",
       "      <th>1.0e-02</th>\n",
       "      <td>4.5</td>\n",
       "      <td>1.000000</td>\n",
       "    </tr>\n",
       "    <tr>\n",
       "      <th>1.0e-03</th>\n",
       "      <td>4.5</td>\n",
       "      <td>1.000000</td>\n",
       "    </tr>\n",
       "    <tr>\n",
       "      <th>1.0e-05</th>\n",
       "      <td>4.5</td>\n",
       "      <td>0.955519</td>\n",
       "    </tr>\n",
       "    <tr>\n",
       "      <th>1.0e-10</th>\n",
       "      <td>4.5</td>\n",
       "      <td>0.954437</td>\n",
       "    </tr>\n",
       "    <tr>\n",
       "      <th>1.0e-15</th>\n",
       "      <td>4.5</td>\n",
       "      <td>0.722145</td>\n",
       "    </tr>\n",
       "    <tr>\n",
       "      <th>1.0e-17</th>\n",
       "      <td>4.5</td>\n",
       "      <td>0.002100</td>\n",
       "    </tr>\n",
       "    <tr>\n",
       "      <th>1.0e-20</th>\n",
       "      <td>4.5</td>\n",
       "      <td>0.001151</td>\n",
       "    </tr>\n",
       "    <tr>\n",
       "      <th>1.0e-30</th>\n",
       "      <td>4.5</td>\n",
       "      <td>-0.002441</td>\n",
       "    </tr>\n",
       "    <tr>\n",
       "      <th>1.0e-40</th>\n",
       "      <td>4.5</td>\n",
       "      <td>-0.000435</td>\n",
       "    </tr>\n",
       "    <tr>\n",
       "      <th>1.0e-50</th>\n",
       "      <td>4.5</td>\n",
       "      <td>0.002505</td>\n",
       "    </tr>\n",
       "    <tr>\n",
       "      <th rowspan=\"10\" valign=\"top\">6</th>\n",
       "      <th>1.0e-02</th>\n",
       "      <td>4.5</td>\n",
       "      <td>1.000000</td>\n",
       "    </tr>\n",
       "    <tr>\n",
       "      <th>1.0e-03</th>\n",
       "      <td>4.5</td>\n",
       "      <td>1.000000</td>\n",
       "    </tr>\n",
       "    <tr>\n",
       "      <th>1.0e-05</th>\n",
       "      <td>4.5</td>\n",
       "      <td>0.990922</td>\n",
       "    </tr>\n",
       "    <tr>\n",
       "      <th>1.0e-10</th>\n",
       "      <td>4.5</td>\n",
       "      <td>0.774267</td>\n",
       "    </tr>\n",
       "    <tr>\n",
       "      <th>1.0e-15</th>\n",
       "      <td>4.5</td>\n",
       "      <td>0.638372</td>\n",
       "    </tr>\n",
       "    <tr>\n",
       "      <th>1.0e-17</th>\n",
       "      <td>4.5</td>\n",
       "      <td>0.000630</td>\n",
       "    </tr>\n",
       "    <tr>\n",
       "      <th>1.0e-20</th>\n",
       "      <td>4.5</td>\n",
       "      <td>0.004092</td>\n",
       "    </tr>\n",
       "    <tr>\n",
       "      <th>1.0e-30</th>\n",
       "      <td>4.5</td>\n",
       "      <td>-0.001326</td>\n",
       "    </tr>\n",
       "    <tr>\n",
       "      <th>1.0e-40</th>\n",
       "      <td>4.5</td>\n",
       "      <td>0.005121</td>\n",
       "    </tr>\n",
       "    <tr>\n",
       "      <th>1.0e-50</th>\n",
       "      <td>4.5</td>\n",
       "      <td>-0.000510</td>\n",
       "    </tr>\n",
       "    <tr>\n",
       "      <th rowspan=\"10\" valign=\"top\">8</th>\n",
       "      <th>1.0e-02</th>\n",
       "      <td>4.5</td>\n",
       "      <td>1.000000</td>\n",
       "    </tr>\n",
       "    <tr>\n",
       "      <th>1.0e-03</th>\n",
       "      <td>4.5</td>\n",
       "      <td>0.951470</td>\n",
       "    </tr>\n",
       "    <tr>\n",
       "      <th>1.0e-05</th>\n",
       "      <td>4.5</td>\n",
       "      <td>0.463701</td>\n",
       "    </tr>\n",
       "    <tr>\n",
       "      <th>1.0e-10</th>\n",
       "      <td>4.5</td>\n",
       "      <td>0.531805</td>\n",
       "    </tr>\n",
       "    <tr>\n",
       "      <th>1.0e-15</th>\n",
       "      <td>4.5</td>\n",
       "      <td>0.200547</td>\n",
       "    </tr>\n",
       "    <tr>\n",
       "      <th>1.0e-17</th>\n",
       "      <td>4.5</td>\n",
       "      <td>-0.002642</td>\n",
       "    </tr>\n",
       "    <tr>\n",
       "      <th>1.0e-20</th>\n",
       "      <td>4.5</td>\n",
       "      <td>0.001596</td>\n",
       "    </tr>\n",
       "    <tr>\n",
       "      <th>1.0e-30</th>\n",
       "      <td>4.5</td>\n",
       "      <td>0.006224</td>\n",
       "    </tr>\n",
       "    <tr>\n",
       "      <th>1.0e-40</th>\n",
       "      <td>4.5</td>\n",
       "      <td>-0.001140</td>\n",
       "    </tr>\n",
       "    <tr>\n",
       "      <th>1.0e-50</th>\n",
       "      <td>4.5</td>\n",
       "      <td>-0.000990</td>\n",
       "    </tr>\n",
       "    <tr>\n",
       "      <th rowspan=\"10\" valign=\"top\">10</th>\n",
       "      <th>1.0e-02</th>\n",
       "      <td>4.5</td>\n",
       "      <td>1.000000</td>\n",
       "    </tr>\n",
       "    <tr>\n",
       "      <th>1.0e-03</th>\n",
       "      <td>4.5</td>\n",
       "      <td>0.879612</td>\n",
       "    </tr>\n",
       "    <tr>\n",
       "      <th>1.0e-05</th>\n",
       "      <td>4.5</td>\n",
       "      <td>0.460564</td>\n",
       "    </tr>\n",
       "    <tr>\n",
       "      <th>1.0e-10</th>\n",
       "      <td>4.5</td>\n",
       "      <td>0.376464</td>\n",
       "    </tr>\n",
       "    <tr>\n",
       "      <th>1.0e-15</th>\n",
       "      <td>4.5</td>\n",
       "      <td>0.128320</td>\n",
       "    </tr>\n",
       "    <tr>\n",
       "      <th>1.0e-17</th>\n",
       "      <td>4.5</td>\n",
       "      <td>0.001426</td>\n",
       "    </tr>\n",
       "    <tr>\n",
       "      <th>1.0e-20</th>\n",
       "      <td>4.5</td>\n",
       "      <td>0.000222</td>\n",
       "    </tr>\n",
       "    <tr>\n",
       "      <th>1.0e-30</th>\n",
       "      <td>4.5</td>\n",
       "      <td>-0.001966</td>\n",
       "    </tr>\n",
       "    <tr>\n",
       "      <th>1.0e-40</th>\n",
       "      <td>4.5</td>\n",
       "      <td>-0.004167</td>\n",
       "    </tr>\n",
       "    <tr>\n",
       "      <th>1.0e-50</th>\n",
       "      <td>4.5</td>\n",
       "      <td>-0.001272</td>\n",
       "    </tr>\n",
       "    <tr>\n",
       "      <th rowspan=\"10\" valign=\"top\">20</th>\n",
       "      <th>1.0e-02</th>\n",
       "      <td>4.5</td>\n",
       "      <td>1.000000</td>\n",
       "    </tr>\n",
       "    <tr>\n",
       "      <th>1.0e-03</th>\n",
       "      <td>4.5</td>\n",
       "      <td>0.303488</td>\n",
       "    </tr>\n",
       "    <tr>\n",
       "      <th>1.0e-05</th>\n",
       "      <td>4.5</td>\n",
       "      <td>0.319111</td>\n",
       "    </tr>\n",
       "    <tr>\n",
       "      <th>1.0e-10</th>\n",
       "      <td>4.5</td>\n",
       "      <td>0.301802</td>\n",
       "    </tr>\n",
       "    <tr>\n",
       "      <th>1.0e-15</th>\n",
       "      <td>4.5</td>\n",
       "      <td>0.053061</td>\n",
       "    </tr>\n",
       "    <tr>\n",
       "      <th>1.0e-17</th>\n",
       "      <td>4.5</td>\n",
       "      <td>0.001607</td>\n",
       "    </tr>\n",
       "    <tr>\n",
       "      <th>1.0e-20</th>\n",
       "      <td>4.5</td>\n",
       "      <td>0.002268</td>\n",
       "    </tr>\n",
       "    <tr>\n",
       "      <th>1.0e-30</th>\n",
       "      <td>4.5</td>\n",
       "      <td>0.005053</td>\n",
       "    </tr>\n",
       "    <tr>\n",
       "      <th>1.0e-40</th>\n",
       "      <td>4.5</td>\n",
       "      <td>-0.001173</td>\n",
       "    </tr>\n",
       "    <tr>\n",
       "      <th>1.0e-50</th>\n",
       "      <td>4.5</td>\n",
       "      <td>0.010108</td>\n",
       "    </tr>\n",
       "    <tr>\n",
       "      <th rowspan=\"10\" valign=\"top\">30</th>\n",
       "      <th>1.0e-02</th>\n",
       "      <td>4.5</td>\n",
       "      <td>1.000000</td>\n",
       "    </tr>\n",
       "    <tr>\n",
       "      <th>1.0e-03</th>\n",
       "      <td>4.5</td>\n",
       "      <td>0.174837</td>\n",
       "    </tr>\n",
       "    <tr>\n",
       "      <th>1.0e-05</th>\n",
       "      <td>4.5</td>\n",
       "      <td>0.159587</td>\n",
       "    </tr>\n",
       "    <tr>\n",
       "      <th>1.0e-10</th>\n",
       "      <td>4.5</td>\n",
       "      <td>0.209349</td>\n",
       "    </tr>\n",
       "    <tr>\n",
       "      <th>1.0e-15</th>\n",
       "      <td>4.5</td>\n",
       "      <td>0.033846</td>\n",
       "    </tr>\n",
       "    <tr>\n",
       "      <th>1.0e-17</th>\n",
       "      <td>4.5</td>\n",
       "      <td>0.003521</td>\n",
       "    </tr>\n",
       "    <tr>\n",
       "      <th>1.0e-20</th>\n",
       "      <td>4.5</td>\n",
       "      <td>0.000480</td>\n",
       "    </tr>\n",
       "    <tr>\n",
       "      <th>1.0e-30</th>\n",
       "      <td>4.5</td>\n",
       "      <td>0.000040</td>\n",
       "    </tr>\n",
       "    <tr>\n",
       "      <th>1.0e-40</th>\n",
       "      <td>4.5</td>\n",
       "      <td>-0.001715</td>\n",
       "    </tr>\n",
       "    <tr>\n",
       "      <th>1.0e-50</th>\n",
       "      <td>4.5</td>\n",
       "      <td>0.000777</td>\n",
       "    </tr>\n",
       "    <tr>\n",
       "      <th rowspan=\"10\" valign=\"top\">40</th>\n",
       "      <th>1.0e-02</th>\n",
       "      <td>4.5</td>\n",
       "      <td>0.969023</td>\n",
       "    </tr>\n",
       "    <tr>\n",
       "      <th>1.0e-03</th>\n",
       "      <td>4.5</td>\n",
       "      <td>0.109757</td>\n",
       "    </tr>\n",
       "    <tr>\n",
       "      <th>1.0e-05</th>\n",
       "      <td>4.5</td>\n",
       "      <td>0.108353</td>\n",
       "    </tr>\n",
       "    <tr>\n",
       "      <th>1.0e-10</th>\n",
       "      <td>4.5</td>\n",
       "      <td>0.106136</td>\n",
       "    </tr>\n",
       "    <tr>\n",
       "      <th>1.0e-15</th>\n",
       "      <td>4.5</td>\n",
       "      <td>0.034302</td>\n",
       "    </tr>\n",
       "    <tr>\n",
       "      <th>1.0e-17</th>\n",
       "      <td>4.5</td>\n",
       "      <td>0.000752</td>\n",
       "    </tr>\n",
       "    <tr>\n",
       "      <th>1.0e-20</th>\n",
       "      <td>4.5</td>\n",
       "      <td>0.003033</td>\n",
       "    </tr>\n",
       "    <tr>\n",
       "      <th>1.0e-30</th>\n",
       "      <td>4.5</td>\n",
       "      <td>-0.001466</td>\n",
       "    </tr>\n",
       "    <tr>\n",
       "      <th>1.0e-40</th>\n",
       "      <td>4.5</td>\n",
       "      <td>0.008181</td>\n",
       "    </tr>\n",
       "    <tr>\n",
       "      <th>1.0e-50</th>\n",
       "      <td>4.5</td>\n",
       "      <td>-0.000209</td>\n",
       "    </tr>\n",
       "    <tr>\n",
       "      <th rowspan=\"10\" valign=\"top\">50</th>\n",
       "      <th>1.0e-02</th>\n",
       "      <td>4.5</td>\n",
       "      <td>0.949825</td>\n",
       "    </tr>\n",
       "    <tr>\n",
       "      <th>1.0e-03</th>\n",
       "      <td>4.5</td>\n",
       "      <td>0.081907</td>\n",
       "    </tr>\n",
       "    <tr>\n",
       "      <th>1.0e-05</th>\n",
       "      <td>4.5</td>\n",
       "      <td>0.078804</td>\n",
       "    </tr>\n",
       "    <tr>\n",
       "      <th>1.0e-10</th>\n",
       "      <td>4.5</td>\n",
       "      <td>0.078352</td>\n",
       "    </tr>\n",
       "    <tr>\n",
       "      <th>1.0e-15</th>\n",
       "      <td>4.5</td>\n",
       "      <td>0.032578</td>\n",
       "    </tr>\n",
       "    <tr>\n",
       "      <th>1.0e-17</th>\n",
       "      <td>4.5</td>\n",
       "      <td>0.006338</td>\n",
       "    </tr>\n",
       "    <tr>\n",
       "      <th>1.0e-20</th>\n",
       "      <td>4.5</td>\n",
       "      <td>0.004756</td>\n",
       "    </tr>\n",
       "    <tr>\n",
       "      <th>1.0e-30</th>\n",
       "      <td>4.5</td>\n",
       "      <td>0.001751</td>\n",
       "    </tr>\n",
       "    <tr>\n",
       "      <th>1.0e-40</th>\n",
       "      <td>4.5</td>\n",
       "      <td>0.005417</td>\n",
       "    </tr>\n",
       "    <tr>\n",
       "      <th>1.0e-50</th>\n",
       "      <td>4.5</td>\n",
       "      <td>0.001474</td>\n",
       "    </tr>\n",
       "    <tr>\n",
       "      <th rowspan=\"10\" valign=\"top\">60</th>\n",
       "      <th>1.0e-02</th>\n",
       "      <td>4.5</td>\n",
       "      <td>0.974192</td>\n",
       "    </tr>\n",
       "    <tr>\n",
       "      <th>1.0e-03</th>\n",
       "      <td>4.5</td>\n",
       "      <td>0.089068</td>\n",
       "    </tr>\n",
       "    <tr>\n",
       "      <th>1.0e-05</th>\n",
       "      <td>4.5</td>\n",
       "      <td>0.073527</td>\n",
       "    </tr>\n",
       "    <tr>\n",
       "      <th>1.0e-10</th>\n",
       "      <td>4.5</td>\n",
       "      <td>0.078389</td>\n",
       "    </tr>\n",
       "    <tr>\n",
       "      <th>1.0e-15</th>\n",
       "      <td>4.5</td>\n",
       "      <td>0.027562</td>\n",
       "    </tr>\n",
       "    <tr>\n",
       "      <th>1.0e-17</th>\n",
       "      <td>4.5</td>\n",
       "      <td>0.002833</td>\n",
       "    </tr>\n",
       "    <tr>\n",
       "      <th>1.0e-20</th>\n",
       "      <td>4.5</td>\n",
       "      <td>0.001817</td>\n",
       "    </tr>\n",
       "    <tr>\n",
       "      <th>1.0e-30</th>\n",
       "      <td>4.5</td>\n",
       "      <td>0.002688</td>\n",
       "    </tr>\n",
       "    <tr>\n",
       "      <th>1.0e-40</th>\n",
       "      <td>4.5</td>\n",
       "      <td>0.000306</td>\n",
       "    </tr>\n",
       "    <tr>\n",
       "      <th>1.0e-50</th>\n",
       "      <td>4.5</td>\n",
       "      <td>0.006238</td>\n",
       "    </tr>\n",
       "  </tbody>\n",
       "</table>\n",
       "</div>"
      ],
      "text/plain": [
       "                    idx       ari\n",
       "n_clusters gamma                 \n",
       "2          1.0e-02  4.5  1.000000\n",
       "           1.0e-03  4.5  1.000000\n",
       "           1.0e-05  4.5  1.000000\n",
       "           1.0e-10  4.5  1.000000\n",
       "           1.0e-15  4.5  0.943603\n",
       "           1.0e-17  4.5  0.001081\n",
       "           1.0e-20  4.5 -0.002393\n",
       "           1.0e-30  4.5  0.000655\n",
       "           1.0e-40  4.5 -0.002153\n",
       "           1.0e-50  4.5 -0.002797\n",
       "4          1.0e-02  4.5  1.000000\n",
       "           1.0e-03  4.5  1.000000\n",
       "           1.0e-05  4.5  0.955519\n",
       "           1.0e-10  4.5  0.954437\n",
       "           1.0e-15  4.5  0.722145\n",
       "           1.0e-17  4.5  0.002100\n",
       "           1.0e-20  4.5  0.001151\n",
       "           1.0e-30  4.5 -0.002441\n",
       "           1.0e-40  4.5 -0.000435\n",
       "           1.0e-50  4.5  0.002505\n",
       "6          1.0e-02  4.5  1.000000\n",
       "           1.0e-03  4.5  1.000000\n",
       "           1.0e-05  4.5  0.990922\n",
       "           1.0e-10  4.5  0.774267\n",
       "           1.0e-15  4.5  0.638372\n",
       "           1.0e-17  4.5  0.000630\n",
       "           1.0e-20  4.5  0.004092\n",
       "           1.0e-30  4.5 -0.001326\n",
       "           1.0e-40  4.5  0.005121\n",
       "           1.0e-50  4.5 -0.000510\n",
       "8          1.0e-02  4.5  1.000000\n",
       "           1.0e-03  4.5  0.951470\n",
       "           1.0e-05  4.5  0.463701\n",
       "           1.0e-10  4.5  0.531805\n",
       "           1.0e-15  4.5  0.200547\n",
       "           1.0e-17  4.5 -0.002642\n",
       "           1.0e-20  4.5  0.001596\n",
       "           1.0e-30  4.5  0.006224\n",
       "           1.0e-40  4.5 -0.001140\n",
       "           1.0e-50  4.5 -0.000990\n",
       "10         1.0e-02  4.5  1.000000\n",
       "           1.0e-03  4.5  0.879612\n",
       "           1.0e-05  4.5  0.460564\n",
       "           1.0e-10  4.5  0.376464\n",
       "           1.0e-15  4.5  0.128320\n",
       "           1.0e-17  4.5  0.001426\n",
       "           1.0e-20  4.5  0.000222\n",
       "           1.0e-30  4.5 -0.001966\n",
       "           1.0e-40  4.5 -0.004167\n",
       "           1.0e-50  4.5 -0.001272\n",
       "20         1.0e-02  4.5  1.000000\n",
       "           1.0e-03  4.5  0.303488\n",
       "           1.0e-05  4.5  0.319111\n",
       "           1.0e-10  4.5  0.301802\n",
       "           1.0e-15  4.5  0.053061\n",
       "           1.0e-17  4.5  0.001607\n",
       "           1.0e-20  4.5  0.002268\n",
       "           1.0e-30  4.5  0.005053\n",
       "           1.0e-40  4.5 -0.001173\n",
       "           1.0e-50  4.5  0.010108\n",
       "30         1.0e-02  4.5  1.000000\n",
       "           1.0e-03  4.5  0.174837\n",
       "           1.0e-05  4.5  0.159587\n",
       "           1.0e-10  4.5  0.209349\n",
       "           1.0e-15  4.5  0.033846\n",
       "           1.0e-17  4.5  0.003521\n",
       "           1.0e-20  4.5  0.000480\n",
       "           1.0e-30  4.5  0.000040\n",
       "           1.0e-40  4.5 -0.001715\n",
       "           1.0e-50  4.5  0.000777\n",
       "40         1.0e-02  4.5  0.969023\n",
       "           1.0e-03  4.5  0.109757\n",
       "           1.0e-05  4.5  0.108353\n",
       "           1.0e-10  4.5  0.106136\n",
       "           1.0e-15  4.5  0.034302\n",
       "           1.0e-17  4.5  0.000752\n",
       "           1.0e-20  4.5  0.003033\n",
       "           1.0e-30  4.5 -0.001466\n",
       "           1.0e-40  4.5  0.008181\n",
       "           1.0e-50  4.5 -0.000209\n",
       "50         1.0e-02  4.5  0.949825\n",
       "           1.0e-03  4.5  0.081907\n",
       "           1.0e-05  4.5  0.078804\n",
       "           1.0e-10  4.5  0.078352\n",
       "           1.0e-15  4.5  0.032578\n",
       "           1.0e-17  4.5  0.006338\n",
       "           1.0e-20  4.5  0.004756\n",
       "           1.0e-30  4.5  0.001751\n",
       "           1.0e-40  4.5  0.005417\n",
       "           1.0e-50  4.5  0.001474\n",
       "60         1.0e-02  4.5  0.974192\n",
       "           1.0e-03  4.5  0.089068\n",
       "           1.0e-05  4.5  0.073527\n",
       "           1.0e-10  4.5  0.078389\n",
       "           1.0e-15  4.5  0.027562\n",
       "           1.0e-17  4.5  0.002833\n",
       "           1.0e-20  4.5  0.001817\n",
       "           1.0e-30  4.5  0.002688\n",
       "           1.0e-40  4.5  0.000306\n",
       "           1.0e-50  4.5  0.006238"
      ]
     },
     "metadata": {},
     "output_type": "display_data"
    }
   ],
   "source": [
    "with pd.option_context(\"display.max_rows\", None, \"display.max_columns\", None):\n",
    "    _df = parts_ari_df_plot.groupby([\"n_clusters\", \"gamma\"]).mean()\n",
    "    display(_df)"
   ]
  },
  {
   "cell_type": "code",
   "execution_count": 67,
   "metadata": {
    "execution": {
     "iopub.execute_input": "2021-03-09T22:12:33.962545Z",
     "iopub.status.busy": "2021-03-09T22:12:33.962182Z",
     "iopub.status.idle": "2021-03-09T22:12:36.237693Z",
     "shell.execute_reply": "2021-03-09T22:12:36.237987Z"
    },
    "papermill": {
     "duration": 2.400852,
     "end_time": "2021-03-09T22:12:36.238089",
     "exception": false,
     "start_time": "2021-03-09T22:12:33.837237",
     "status": "completed"
    },
    "tags": []
   },
   "outputs": [
    {
     "data": {
      "image/png": "[encoded data removed]",
      "text/plain": [
       "<Figure size 1008x432 with 1 Axes>"
      ]
     },
     "metadata": {},
     "output_type": "display_data"
    }
   ],
   "source": [
    "with sns.plotting_context(\"talk\", font_scale=0.75), sns.axes_style(\n",
    "    \"whitegrid\", {\"grid.linestyle\": \"--\"}\n",
    "):\n",
    "    fig = plt.figure(figsize=(14, 6))\n",
    "    ax = sns.pointplot(data=parts_ari_df_plot, x=\"n_clusters\", y=\"ari\", hue=\"gamma\")\n",
    "    ax.set_ylabel(\"Averange ARI\")\n",
    "    ax.set_xlabel(\"Number of clusters ($k$)\")\n",
    "    ax.set_xticklabels(ax.get_xticklabels(), rotation=45)\n",
    "    plt.grid(True)\n",
    "    plt.tight_layout()"
   ]
  },
  {
   "cell_type": "markdown",
   "metadata": {
    "papermill": {
     "duration": 0.125204,
     "end_time": "2021-03-09T22:12:36.489371",
     "exception": false,
     "start_time": "2021-03-09T22:12:36.364167",
     "status": "completed"
    },
    "tags": []
   },
   "source": [
    "# Conclusions"
   ]
  },
  {
   "cell_type": "markdown",
   "metadata": {
    "papermill": {
     "duration": 0.123916,
     "end_time": "2021-03-09T22:12:36.738420",
     "exception": false,
     "start_time": "2021-03-09T22:12:36.614504",
     "status": "completed"
    },
    "tags": []
   },
   "source": [
    "We choose `1.0e-03` as the `gamma` parameter for this data version."
   ]
  },
  {
   "cell_type": "code",
   "execution_count": null,
   "metadata": {
    "papermill": {
     "duration": 0.125215,
     "end_time": "2021-03-09T22:12:36.988541",
     "exception": false,
     "start_time": "2021-03-09T22:12:36.863326",
     "status": "completed"
    },
    "tags": []
   },
   "outputs": [],
   "source": []
  }
 ],
 "metadata": {
  "jupytext": {
   "cell_metadata_filter": "all,-execution,-papermill,-trusted",
   "formats": "ipynb,py//py:percent"
  },
  "kernelspec": {
   "display_name": "Python 3",
   "language": "python",
   "name": "python3"
  },
  "language_info": {
   "codemirror_mode": {
    "name": "ipython",
    "version": 3
   },
   "file_extension": ".py",
   "mimetype": "text/x-python",
   "name": "python",
   "nbconvert_exporter": "python",
   "pygments_lexer": "ipython3",
   "version": "3.8.8"
  },
  "papermill": {
   "default_parameters": {},
   "duration": 1211.550483,
   "end_time": "2021-03-09T22:12:38.417550",
   "environment_variables": {},
   "exception": null,
   "input_path": "15_cluster_analysis/pre_analysis/05_02-spectral_clustering-pca.ipynb",
   "output_path": "15_cluster_analysis/pre_analysis/05_02-spectral_clustering-pca.run.ipynb",
   "parameters": {},
   "start_time": "2021-03-09T21:52:26.867067",
   "version": "2.2.2"
  },
  "toc-autonumbering": true,
  "toc-showcode": false,
  "toc-showmarkdowntxt": false,
  "toc-showtags": false
 },
 "nbformat": 4,
 "nbformat_minor": 4
}
