{
 "cells": [
  {
   "cell_type": "markdown",
   "metadata": {
    "papermill": {
     "duration": 0.045819,
     "end_time": "2021-02-23T19:09:55.924522",
     "exception": false,
     "start_time": "2021-02-23T19:09:55.878703",
     "status": "completed"
    },
    "tags": []
   },
   "source": [
    "# Description"
   ]
  },
  {
   "cell_type": "markdown",
   "metadata": {
    "papermill": {
     "duration": 0.01166,
     "end_time": "2021-02-23T19:09:55.951747",
     "exception": false,
     "start_time": "2021-02-23T19:09:55.940087",
     "status": "completed"
    },
    "tags": []
   },
   "source": [
    "It combines all clustering solutions generated into a single consolidated solution using consensus clustering."
   ]
  },
  {
   "cell_type": "markdown",
   "metadata": {
    "papermill": {
     "duration": 0.011533,
     "end_time": "2021-02-23T19:09:55.974994",
     "exception": false,
     "start_time": "2021-02-23T19:09:55.963461",
     "status": "completed"
    },
    "tags": []
   },
   "source": [
    "# Environment variables"
   ]
  },
  {
   "cell_type": "code",
   "execution_count": 1,
   "metadata": {
    "execution": {
     "iopub.execute_input": "2021-02-23T19:09:56.005743Z",
     "iopub.status.busy": "2021-02-23T19:09:56.005208Z",
     "iopub.status.idle": "2021-02-23T19:09:56.008230Z",
     "shell.execute_reply": "2021-02-23T19:09:56.007850Z"
    },
    "papermill": {
     "duration": 0.021404,
     "end_time": "2021-02-23T19:09:56.008356",
     "exception": false,
     "start_time": "2021-02-23T19:09:55.986952",
     "status": "completed"
    },
    "tags": []
   },
   "outputs": [
    {
     "data": {
      "text/plain": [
       "1"
      ]
     },
     "metadata": {},
     "output_type": "display_data"
    }
   ],
   "source": [
    "from IPython.display import display\n",
    "\n",
    "# set numpy n_jobs to 1, since I'll be using n_jobs later\n",
    "NUMPY_N_JOBS = 1\n",
    "display(NUMPY_N_JOBS)"
   ]
  },
  {
   "cell_type": "code",
   "execution_count": 2,
   "metadata": {
    "execution": {
     "iopub.execute_input": "2021-02-23T19:09:56.036642Z",
     "iopub.status.busy": "2021-02-23T19:09:56.036116Z",
     "iopub.status.idle": "2021-02-23T19:09:56.039436Z",
     "shell.execute_reply": "2021-02-23T19:09:56.039104Z"
    },
    "papermill": {
     "duration": 0.018934,
     "end_time": "2021-02-23T19:09:56.039521",
     "exception": false,
     "start_time": "2021-02-23T19:09:56.020587",
     "status": "completed"
    },
    "tags": []
   },
   "outputs": [
    {
     "name": "stdout",
     "output_type": "stream",
     "text": [
      "env: MKL_NUM_THREADS=1\n",
      "env: OPEN_BLAS_NUM_THREADS=1\n",
      "env: NUMEXPR_NUM_THREADS=1\n",
      "env: OMP_NUM_THREADS=1\n"
     ]
    }
   ],
   "source": [
    "%env MKL_NUM_THREADS=$NUMPY_N_JOBS\n",
    "%env OPEN_BLAS_NUM_THREADS=$NUMPY_N_JOBS\n",
    "%env NUMEXPR_NUM_THREADS=$NUMPY_N_JOBS\n",
    "%env OMP_NUM_THREADS=$NUMPY_N_JOBS"
   ]
  },
  {
   "cell_type": "markdown",
   "metadata": {
    "papermill": {
     "duration": 0.012229,
     "end_time": "2021-02-23T19:09:56.064038",
     "exception": false,
     "start_time": "2021-02-23T19:09:56.051809",
     "status": "completed"
    },
    "tags": []
   },
   "source": [
    "# Modules loading"
   ]
  },
  {
   "cell_type": "code",
   "execution_count": 3,
   "metadata": {
    "execution": {
     "iopub.execute_input": "2021-02-23T19:09:56.091898Z",
     "iopub.status.busy": "2021-02-23T19:09:56.091492Z",
     "iopub.status.idle": "2021-02-23T19:09:56.099830Z",
     "shell.execute_reply": "2021-02-23T19:09:56.099500Z"
    },
    "papermill": {
     "duration": 0.02382,
     "end_time": "2021-02-23T19:09:56.099922",
     "exception": false,
     "start_time": "2021-02-23T19:09:56.076102",
     "status": "completed"
    },
    "tags": []
   },
   "outputs": [],
   "source": [
    "%load_ext autoreload\n",
    "%autoreload 2"
   ]
  },
  {
   "cell_type": "code",
   "execution_count": 4,
   "metadata": {
    "execution": {
     "iopub.execute_input": "2021-02-23T19:09:56.128847Z",
     "iopub.status.busy": "2021-02-23T19:09:56.128448Z",
     "iopub.status.idle": "2021-02-23T19:09:56.300021Z",
     "shell.execute_reply": "2021-02-23T19:09:56.299679Z"
    },
    "papermill": {
     "duration": 0.186933,
     "end_time": "2021-02-23T19:09:56.300116",
     "exception": false,
     "start_time": "2021-02-23T19:09:56.113183",
     "status": "completed"
    },
    "tags": []
   },
   "outputs": [],
   "source": [
    "from pathlib import Path\n",
    "\n",
    "import numpy as np\n",
    "import pandas as pd\n",
    "\n",
    "import conf"
   ]
  },
  {
   "cell_type": "markdown",
   "metadata": {
    "papermill": {
     "duration": 0.011969,
     "end_time": "2021-02-23T19:09:56.324615",
     "exception": false,
     "start_time": "2021-02-23T19:09:56.312646",
     "status": "completed"
    },
    "tags": []
   },
   "source": [
    "# Settings"
   ]
  },
  {
   "cell_type": "code",
   "execution_count": 5,
   "metadata": {
    "execution": {
     "iopub.execute_input": "2021-02-23T19:09:56.351591Z",
     "iopub.status.busy": "2021-02-23T19:09:56.351226Z",
     "iopub.status.idle": "2021-02-23T19:09:56.358499Z",
     "shell.execute_reply": "2021-02-23T19:09:56.358133Z"
    },
    "papermill": {
     "duration": 0.021948,
     "end_time": "2021-02-23T19:09:56.358587",
     "exception": false,
     "start_time": "2021-02-23T19:09:56.336639",
     "status": "completed"
    },
    "tags": []
   },
   "outputs": [],
   "source": [
    "np.random.seed(0)"
   ]
  },
  {
   "cell_type": "code",
   "execution_count": 6,
   "metadata": {
    "execution": {
     "iopub.execute_input": "2021-02-23T19:09:56.386258Z",
     "iopub.status.busy": "2021-02-23T19:09:56.385888Z",
     "iopub.status.idle": "2021-02-23T19:09:56.394033Z",
     "shell.execute_reply": "2021-02-23T19:09:56.393705Z"
    },
    "papermill": {
     "duration": 0.022892,
     "end_time": "2021-02-23T19:09:56.394123",
     "exception": false,
     "start_time": "2021-02-23T19:09:56.371231",
     "status": "completed"
    },
    "tags": []
   },
   "outputs": [],
   "source": [
    "RANDOM_STATES_ITER = iter(np.random.randint(0, np.iinfo(np.int32).max, size=100000))"
   ]
  },
  {
   "cell_type": "code",
   "execution_count": 6,
   "metadata": {
    "execution": {
     "iopub.execute_input": "2021-02-23T19:09:56.386258Z",
     "iopub.status.busy": "2021-02-23T19:09:56.385888Z",
     "iopub.status.idle": "2021-02-23T19:09:56.394033Z",
     "shell.execute_reply": "2021-02-23T19:09:56.393705Z"
    },
    "papermill": {
     "duration": 0.022892,
     "end_time": "2021-02-23T19:09:56.394123",
     "exception": false,
     "start_time": "2021-02-23T19:09:56.371231",
     "status": "completed"
    },
    "tags": []
   },
   "outputs": [],
   "source": [
    "# n_init parameter for DeltaSpectralClustering\n",
    "# a high number should produce more stable final solutions\n",
    "SC_N_INIT = 50"
   ]
  },
  {
   "cell_type": "markdown",
   "metadata": {
    "papermill": {
     "duration": 0.012025,
     "end_time": "2021-02-23T19:09:56.419033",
     "exception": false,
     "start_time": "2021-02-23T19:09:56.407008",
     "status": "completed"
    },
    "tags": []
   },
   "source": [
    "## Consensus clustering"
   ]
  },
  {
   "cell_type": "code",
   "execution_count": 7,
   "metadata": {
    "execution": {
     "iopub.execute_input": "2021-02-23T19:09:56.445789Z",
     "iopub.status.busy": "2021-02-23T19:09:56.445408Z",
     "iopub.status.idle": "2021-02-23T19:09:56.453696Z",
     "shell.execute_reply": "2021-02-23T19:09:56.453321Z"
    },
    "papermill": {
     "duration": 0.022655,
     "end_time": "2021-02-23T19:09:56.453785",
     "exception": false,
     "start_time": "2021-02-23T19:09:56.431130",
     "status": "completed"
    },
    "tags": []
   },
   "outputs": [
    {
     "data": {
      "text/plain": [
       "{'K_MIN': 2, 'K_MAX': 60}"
      ]
     },
     "metadata": {},
     "output_type": "display_data"
    }
   ],
   "source": [
    "CLUSTERING_OPTIONS = {}\n",
    "\n",
    "CLUSTERING_OPTIONS[\"K_MIN\"] = 2\n",
    "CLUSTERING_OPTIONS[\"K_MAX\"] = 60\n",
    "\n",
    "display(CLUSTERING_OPTIONS)"
   ]
  },
  {
   "cell_type": "code",
   "execution_count": 8,
   "metadata": {
    "execution": {
     "iopub.execute_input": "2021-02-23T19:09:56.482031Z",
     "iopub.status.busy": "2021-02-23T19:09:56.481667Z",
     "iopub.status.idle": "2021-02-23T19:09:56.489799Z",
     "shell.execute_reply": "2021-02-23T19:09:56.489424Z"
    },
    "papermill": {
     "duration": 0.023026,
     "end_time": "2021-02-23T19:09:56.489887",
     "exception": false,
     "start_time": "2021-02-23T19:09:56.466861",
     "status": "completed"
    },
    "tags": []
   },
   "outputs": [
    {
     "data": {
      "text/plain": [
       "PosixPath('/home/miltondp/projects/labs/greenelab/phenoplier/base3/results/clustering/consensus_clustering')"
      ]
     },
     "metadata": {},
     "output_type": "display_data"
    }
   ],
   "source": [
    "# output dir for this notebook\n",
    "RESULTS_DIR = Path(conf.RESULTS[\"CLUSTERING_DIR\"], \"consensus_clustering\").resolve()\n",
    "RESULTS_DIR.mkdir(parents=True, exist_ok=True)\n",
    "\n",
    "display(RESULTS_DIR)"
   ]
  },
  {
   "cell_type": "markdown",
   "metadata": {
    "papermill": {
     "duration": 0.012509,
     "end_time": "2021-02-23T19:09:56.515573",
     "exception": false,
     "start_time": "2021-02-23T19:09:56.503064",
     "status": "completed"
    },
    "tags": []
   },
   "source": [
    "# Load ensemble"
   ]
  },
  {
   "cell_type": "code",
   "execution_count": 9,
   "metadata": {
    "execution": {
     "iopub.execute_input": "2021-02-23T19:09:56.543314Z",
     "iopub.status.busy": "2021-02-23T19:09:56.542941Z",
     "iopub.status.idle": "2021-02-23T19:09:56.551287Z",
     "shell.execute_reply": "2021-02-23T19:09:56.550913Z"
    },
    "papermill": {
     "duration": 0.02317,
     "end_time": "2021-02-23T19:09:56.551375",
     "exception": false,
     "start_time": "2021-02-23T19:09:56.528205",
     "status": "completed"
    },
    "tags": []
   },
   "outputs": [
    {
     "data": {
      "text/plain": [
       "PosixPath('/home/miltondp/projects/labs/greenelab/phenoplier/base3/results/clustering/consensus_clustering/ensemble.npy')"
      ]
     },
     "metadata": {},
     "output_type": "display_data"
    }
   ],
   "source": [
    "output_file = Path(RESULTS_DIR, \"ensemble.npy\").resolve()\n",
    "display(output_file)"
   ]
  },
  {
   "cell_type": "code",
   "execution_count": 10,
   "metadata": {
    "execution": {
     "iopub.execute_input": "2021-02-23T19:09:56.580293Z",
     "iopub.status.busy": "2021-02-23T19:09:56.579922Z",
     "iopub.status.idle": "2021-02-23T19:09:56.615672Z",
     "shell.execute_reply": "2021-02-23T19:09:56.615231Z"
    },
    "papermill": {
     "duration": 0.051041,
     "end_time": "2021-02-23T19:09:56.615785",
     "exception": false,
     "start_time": "2021-02-23T19:09:56.564744",
     "status": "completed"
    },
    "tags": []
   },
   "outputs": [],
   "source": [
    "full_ensemble = np.load(output_file)"
   ]
  },
  {
   "cell_type": "code",
   "execution_count": 11,
   "metadata": {
    "execution": {
     "iopub.execute_input": "2021-02-23T19:09:56.652513Z",
     "iopub.status.busy": "2021-02-23T19:09:56.649412Z",
     "iopub.status.idle": "2021-02-23T19:09:56.660233Z",
     "shell.execute_reply": "2021-02-23T19:09:56.659847Z"
    },
    "papermill": {
     "duration": 0.02856,
     "end_time": "2021-02-23T19:09:56.660350",
     "exception": false,
     "start_time": "2021-02-23T19:09:56.631790",
     "status": "completed"
    },
    "tags": []
   },
   "outputs": [
    {
     "data": {
      "text/plain": [
       "(4428, 3749)"
      ]
     },
     "metadata": {},
     "output_type": "display_data"
    }
   ],
   "source": [
    "display(full_ensemble.shape)"
   ]
  },
  {
   "cell_type": "markdown",
   "metadata": {
    "papermill": {
     "duration": 0.013625,
     "end_time": "2021-02-23T19:09:56.688906",
     "exception": false,
     "start_time": "2021-02-23T19:09:56.675281",
     "status": "completed"
    },
    "tags": []
   },
   "source": [
    "# Load ensemble coassociation distance matrix"
   ]
  },
  {
   "cell_type": "code",
   "execution_count": 12,
   "metadata": {
    "execution": {
     "iopub.execute_input": "2021-02-23T19:09:56.717622Z",
     "iopub.status.busy": "2021-02-23T19:09:56.717249Z",
     "iopub.status.idle": "2021-02-23T19:09:56.724824Z",
     "shell.execute_reply": "2021-02-23T19:09:56.725097Z"
    },
    "papermill": {
     "duration": 0.023202,
     "end_time": "2021-02-23T19:09:56.725202",
     "exception": false,
     "start_time": "2021-02-23T19:09:56.702000",
     "status": "completed"
    },
    "tags": []
   },
   "outputs": [
    {
     "data": {
      "text/plain": [
       "PosixPath('/home/miltondp/projects/labs/greenelab/phenoplier/base3/results/clustering/consensus_clustering/ensemble_coassoc_matrix.npy')"
      ]
     },
     "metadata": {},
     "output_type": "display_data"
    }
   ],
   "source": [
    "output_file = Path(RESULTS_DIR, \"ensemble_coassoc_matrix.npy\").resolve()\n",
    "display(output_file)"
   ]
  },
  {
   "cell_type": "code",
   "execution_count": 13,
   "metadata": {
    "execution": {
     "iopub.execute_input": "2021-02-23T19:09:56.754596Z",
     "iopub.status.busy": "2021-02-23T19:09:56.754234Z",
     "iopub.status.idle": "2021-02-23T19:09:56.786067Z",
     "shell.execute_reply": "2021-02-23T19:09:56.785687Z"
    },
    "papermill": {
     "duration": 0.04741,
     "end_time": "2021-02-23T19:09:56.786177",
     "exception": false,
     "start_time": "2021-02-23T19:09:56.738767",
     "status": "completed"
    },
    "tags": []
   },
   "outputs": [],
   "source": [
    "ensemble_coassoc_matrix = np.load(output_file)"
   ]
  },
  {
   "cell_type": "code",
   "execution_count": 14,
   "metadata": {
    "execution": {
     "iopub.execute_input": "2021-02-23T19:09:56.820652Z",
     "iopub.status.busy": "2021-02-23T19:09:56.820268Z",
     "iopub.status.idle": "2021-02-23T19:09:56.828433Z",
     "shell.execute_reply": "2021-02-23T19:09:56.828078Z"
    },
    "papermill": {
     "duration": 0.025907,
     "end_time": "2021-02-23T19:09:56.828526",
     "exception": false,
     "start_time": "2021-02-23T19:09:56.802619",
     "status": "completed"
    },
    "tags": []
   },
   "outputs": [
    {
     "data": {
      "text/plain": [
       "(3749, 3749)"
      ]
     },
     "metadata": {},
     "output_type": "display_data"
    }
   ],
   "source": [
    "display(ensemble_coassoc_matrix.shape)"
   ]
  },
  {
   "cell_type": "code",
   "execution_count": 15,
   "metadata": {
    "execution": {
     "iopub.execute_input": "2021-02-23T19:09:56.858495Z",
     "iopub.status.busy": "2021-02-23T19:09:56.858121Z",
     "iopub.status.idle": "2021-02-23T19:09:56.866449Z",
     "shell.execute_reply": "2021-02-23T19:09:56.866136Z"
    },
    "papermill": {
     "duration": 0.023909,
     "end_time": "2021-02-23T19:09:56.866536",
     "exception": false,
     "start_time": "2021-02-23T19:09:56.842627",
     "status": "completed"
    },
    "tags": []
   },
   "outputs": [
    {
     "data": {
      "text/plain": [
       "array([[0.        , 0.05638587, 0.05412138, ..., 0.59986413, 0.66148571,\n",
       "        0.66757246],\n",
       "       [0.05638587, 0.        , 0.02740036, ..., 0.60144928, 0.66011429,\n",
       "        0.66530797],\n",
       "       [0.05412138, 0.02740036, 0.        , ..., 0.59805254, 0.66125714,\n",
       "        0.66281703],\n",
       "       ...,\n",
       "       [0.59986413, 0.60144928, 0.59805254, ..., 0.        , 0.6699339 ,\n",
       "        0.66531165],\n",
       "       [0.66148571, 0.66011429, 0.66125714, ..., 0.6699339 , 0.        ,\n",
       "        0.58627764],\n",
       "       [0.66757246, 0.66530797, 0.66281703, ..., 0.66531165, 0.58627764,\n",
       "        0.        ]])"
      ]
     },
     "metadata": {},
     "output_type": "display_data"
    }
   ],
   "source": [
    "display(ensemble_coassoc_matrix)"
   ]
  },
  {
   "cell_type": "markdown",
   "metadata": {
    "papermill": {
     "duration": 0.013964,
     "end_time": "2021-02-23T19:09:56.894633",
     "exception": false,
     "start_time": "2021-02-23T19:09:56.880669",
     "status": "completed"
    },
    "tags": []
   },
   "source": [
    "# Consensus clustering"
   ]
  },
  {
   "cell_type": "code",
   "execution_count": 16,
   "metadata": {
    "execution": {
     "iopub.execute_input": "2021-02-23T19:09:56.925070Z",
     "iopub.status.busy": "2021-02-23T19:09:56.924648Z",
     "iopub.status.idle": "2021-02-23T19:09:57.245695Z",
     "shell.execute_reply": "2021-02-23T19:09:57.245384Z"
    },
    "papermill": {
     "duration": 0.33749,
     "end_time": "2021-02-23T19:09:57.245786",
     "exception": false,
     "start_time": "2021-02-23T19:09:56.908296",
     "status": "completed"
    },
    "tags": []
   },
   "outputs": [],
   "source": [
    "from concurrent.futures import ProcessPoolExecutor, as_completed\n",
    "\n",
    "from tqdm import tqdm\n",
    "\n",
    "from clustering.ensembles.utils import (\n",
    "    run_method_and_compute_agreement,\n",
    ")\n",
    "from clustering.ensembles.eac import (\n",
    "    eac_single_coassoc_matrix,\n",
    "    eac_complete_coassoc_matrix,\n",
    "    eac_average_coassoc_matrix,\n",
    ")\n",
    "from clustering.ensembles.spectral import scc"
   ]
  },
  {
   "cell_type": "markdown",
   "metadata": {
    "papermill": {
     "duration": 0.01375,
     "end_time": "2021-02-23T19:09:57.273536",
     "exception": false,
     "start_time": "2021-02-23T19:09:57.259786",
     "status": "completed"
    },
    "tags": []
   },
   "source": [
    "Define spectral consensus clustering methods with delta values found in pre-analysis:"
   ]
  },
  {
   "cell_type": "code",
   "execution_count": 17,
   "metadata": {
    "execution": {
     "iopub.execute_input": "2021-02-23T19:09:57.305522Z",
     "iopub.status.busy": "2021-02-23T19:09:57.305136Z",
     "iopub.status.idle": "2021-02-23T19:09:57.315208Z",
     "shell.execute_reply": "2021-02-23T19:09:57.314819Z"
    },
    "papermill": {
     "duration": 0.027798,
     "end_time": "2021-02-23T19:09:57.315303",
     "exception": false,
     "start_time": "2021-02-23T19:09:57.287505",
     "status": "completed"
    },
    "tags": []
   },
   "outputs": [],
   "source": [
    "def scc_020(coassoc_distance_matrix, k, **kwargs):\n",
    "    return scc(\n",
    "        coassoc_distance_matrix,\n",
    "        k,\n",
    "        delta=0.20,\n",
    "        ensemble_is_coassoc_matrix=True,\n",
    "        **kwargs\n",
    "    )\n",
    "\n",
    "\n",
    "def scc_025(coassoc_distance_matrix, k, **kwargs):\n",
    "    return scc(\n",
    "        coassoc_distance_matrix,\n",
    "        k,\n",
    "        delta=0.25,\n",
    "        ensemble_is_coassoc_matrix=True,\n",
    "        **kwargs\n",
    "    )\n",
    "\n",
    "\n",
    "def scc_030(coassoc_distance_matrix, k, **kwargs):\n",
    "    return scc(\n",
    "        coassoc_distance_matrix,\n",
    "        k,\n",
    "        delta=0.30,\n",
    "        ensemble_is_coassoc_matrix=True,\n",
    "        **kwargs\n",
    "    )\n",
    "\n",
    "\n",
    "def scc_050(coassoc_distance_matrix, k, **kwargs):\n",
    "    return scc(\n",
    "        coassoc_distance_matrix,\n",
    "        k,\n",
    "        delta=0.50,\n",
    "        ensemble_is_coassoc_matrix=True,\n",
    "        **kwargs\n",
    "    )"
   ]
  },
  {
   "cell_type": "code",
   "execution_count": 18,
   "metadata": {
    "execution": {
     "iopub.execute_input": "2021-02-23T19:09:57.346098Z",
     "iopub.status.busy": "2021-02-23T19:09:57.345736Z",
     "iopub.status.idle": "2021-02-23T19:09:57.356551Z",
     "shell.execute_reply": "2021-02-23T19:09:57.356166Z"
    },
    "papermill": {
     "duration": 0.026972,
     "end_time": "2021-02-23T19:09:57.356641",
     "exception": false,
     "start_time": "2021-02-23T19:09:57.329669",
     "status": "completed"
    },
    "tags": []
   },
   "outputs": [
    {
     "data": {
      "text/plain": [
       "{<function clustering.ensembles.eac.eac_average_coassoc_matrix(coassoc_matrix, k, **kwargs)>,\n",
       " <function clustering.ensembles.eac.eac_complete_coassoc_matrix(coassoc_matrix, k, **kwargs)>,\n",
       " <function clustering.ensembles.eac.eac_single_coassoc_matrix(coassoc_matrix, k, **kwargs)>,\n",
       " <function __main__.scc_020(coassoc_distance_matrix, k, **kwargs)>,\n",
       " <function __main__.scc_025(coassoc_distance_matrix, k, **kwargs)>,\n",
       " <function __main__.scc_030(coassoc_distance_matrix, k, **kwargs)>,\n",
       " <function __main__.scc_050(coassoc_distance_matrix, k, **kwargs)>}"
      ]
     },
     "metadata": {},
     "output_type": "display_data"
    }
   ],
   "source": [
    "all_consensus_methods = set(\n",
    "    (\n",
    "        eac_single_coassoc_matrix,\n",
    "        eac_complete_coassoc_matrix,\n",
    "        eac_average_coassoc_matrix,\n",
    "        scc_020,\n",
    "        scc_025,\n",
    "        scc_030,\n",
    "        scc_050,\n",
    "    )\n",
    ")\n",
    "display(all_consensus_methods)"
   ]
  },
  {
   "cell_type": "code",
   "execution_count": 19,
   "metadata": {
    "execution": {
     "iopub.execute_input": "2021-02-23T19:09:57.389181Z",
     "iopub.status.busy": "2021-02-23T19:09:57.388812Z",
     "iopub.status.idle": "2021-02-23T21:34:01.891860Z",
     "shell.execute_reply": "2021-02-23T21:34:01.891450Z"
    },
    "papermill": {
     "duration": 8644.520616,
     "end_time": "2021-02-23T21:34:01.891958",
     "exception": false,
     "start_time": "2021-02-23T19:09:57.371342",
     "status": "completed"
    },
    "tags": []
   },
   "outputs": [
    {
     "name": "stderr",
     "output_type": "stream",
     "text": [
      "100%|███████████████████████████████████████████████████████████| 413/413 [2:24:04<00:00, 20.93s/it]\n"
     ]
    }
   ],
   "source": [
    "consensus_results = []\n",
    "\n",
    "with ProcessPoolExecutor(max_workers=conf.GENERAL[\"N_JOBS\"]) as executor:\n",
    "    tasks = {\n",
    "        executor.submit(\n",
    "            run_method_and_compute_agreement,\n",
    "            m,\n",
    "            ensemble_coassoc_matrix,\n",
    "            full_ensemble,\n",
    "            k,\n",
    "            n_init=SC_N_INIT,\n",
    "            random_state=next(RANDOM_STATES_ITER),\n",
    "        ): (m.__name__, k)\n",
    "        for m in all_consensus_methods\n",
    "        for k in range(CLUSTERING_OPTIONS[\"K_MIN\"], CLUSTERING_OPTIONS[\"K_MAX\"] + 1)\n",
    "    }\n",
    "\n",
    "    for future in tqdm(as_completed(tasks), total=len(tasks), disable=False, ncols=100):\n",
    "        method_name, k = tasks[future]\n",
    "        part, performance_values = future.result()\n",
    "\n",
    "        method_results = {\n",
    "            \"method\": method_name,\n",
    "            \"partition\": part,\n",
    "            \"k\": k,\n",
    "        }\n",
    "        method_results.update(performance_values)\n",
    "\n",
    "        consensus_results.append(method_results)"
   ]
  },
  {
   "cell_type": "code",
   "execution_count": 20,
   "metadata": {
    "execution": {
     "iopub.execute_input": "2021-02-23T21:34:02.057499Z",
     "iopub.status.busy": "2021-02-23T21:34:02.057110Z",
     "iopub.status.idle": "2021-02-23T21:34:02.071746Z",
     "shell.execute_reply": "2021-02-23T21:34:02.071362Z"
    },
    "papermill": {
     "duration": 0.096659,
     "end_time": "2021-02-23T21:34:02.071838",
     "exception": false,
     "start_time": "2021-02-23T21:34:01.975179",
     "status": "completed"
    },
    "tags": []
   },
   "outputs": [],
   "source": [
    "consensus_results = pd.DataFrame(consensus_results)"
   ]
  },
  {
   "cell_type": "code",
   "execution_count": 21,
   "metadata": {
    "execution": {
     "iopub.execute_input": "2021-02-23T21:34:02.237400Z",
     "iopub.status.busy": "2021-02-23T21:34:02.237029Z",
     "iopub.status.idle": "2021-02-23T21:34:02.247889Z",
     "shell.execute_reply": "2021-02-23T21:34:02.247529Z"
    },
    "papermill": {
     "duration": 0.093821,
     "end_time": "2021-02-23T21:34:02.247976",
     "exception": false,
     "start_time": "2021-02-23T21:34:02.154155",
     "status": "completed"
    },
    "tags": []
   },
   "outputs": [
    {
     "data": {
      "text/plain": [
       "(413, 12)"
      ]
     },
     "metadata": {},
     "output_type": "display_data"
    }
   ],
   "source": [
    "display(consensus_results.shape)"
   ]
  },
  {
   "cell_type": "code",
   "execution_count": 22,
   "metadata": {
    "execution": {
     "iopub.execute_input": "2021-02-23T21:34:02.410490Z",
     "iopub.status.busy": "2021-02-23T21:34:02.410115Z",
     "iopub.status.idle": "2021-02-23T21:34:02.434529Z",
     "shell.execute_reply": "2021-02-23T21:34:02.434156Z"
    },
    "papermill": {
     "duration": 0.106495,
     "end_time": "2021-02-23T21:34:02.434618",
     "exception": false,
     "start_time": "2021-02-23T21:34:02.328123",
     "status": "completed"
    },
    "tags": []
   },
   "outputs": [
    {
     "data": {
      "text/html": [
       "<div>\n",
       "<style scoped>\n",
       "    .dataframe tbody tr th:only-of-type {\n",
       "        vertical-align: middle;\n",
       "    }\n",
       "\n",
       "    .dataframe tbody tr th {\n",
       "        vertical-align: top;\n",
       "    }\n",
       "\n",
       "    .dataframe thead th {\n",
       "        text-align: right;\n",
       "    }\n",
       "</style>\n",
       "<table border=\"1\" class=\"dataframe\">\n",
       "  <thead>\n",
       "    <tr style=\"text-align: right;\">\n",
       "      <th></th>\n",
       "      <th>method</th>\n",
       "      <th>partition</th>\n",
       "      <th>k</th>\n",
       "      <th>ari_mean</th>\n",
       "      <th>ari_median</th>\n",
       "      <th>ari_std</th>\n",
       "      <th>ami_mean</th>\n",
       "      <th>ami_median</th>\n",
       "      <th>ami_std</th>\n",
       "      <th>nmi_mean</th>\n",
       "      <th>nmi_median</th>\n",
       "      <th>nmi_std</th>\n",
       "    </tr>\n",
       "  </thead>\n",
       "  <tbody>\n",
       "    <tr>\n",
       "      <th>0</th>\n",
       "      <td>eac_single_coassoc_matrix</td>\n",
       "      <td>[0, 0, 0, 0, 0, 0, 0, 0, 0, 0, 0, 0, 0, 0, 0, ...</td>\n",
       "      <td>2</td>\n",
       "      <td>0.028316</td>\n",
       "      <td>0.001172</td>\n",
       "      <td>0.071466</td>\n",
       "      <td>0.037372</td>\n",
       "      <td>0.013340</td>\n",
       "      <td>0.070718</td>\n",
       "      <td>0.039099</td>\n",
       "      <td>0.015125</td>\n",
       "      <td>0.070828</td>\n",
       "    </tr>\n",
       "    <tr>\n",
       "      <th>1</th>\n",
       "      <td>eac_single_coassoc_matrix</td>\n",
       "      <td>[0, 0, 0, 0, 0, 0, 0, 0, 0, 0, 0, 0, 0, 0, 0, ...</td>\n",
       "      <td>3</td>\n",
       "      <td>0.044564</td>\n",
       "      <td>0.001975</td>\n",
       "      <td>0.110040</td>\n",
       "      <td>0.059596</td>\n",
       "      <td>0.022292</td>\n",
       "      <td>0.108635</td>\n",
       "      <td>0.062536</td>\n",
       "      <td>0.025583</td>\n",
       "      <td>0.108613</td>\n",
       "    </tr>\n",
       "    <tr>\n",
       "      <th>2</th>\n",
       "      <td>eac_single_coassoc_matrix</td>\n",
       "      <td>[0, 0, 0, 0, 0, 0, 0, 0, 0, 0, 0, 0, 0, 0, 0, ...</td>\n",
       "      <td>4</td>\n",
       "      <td>0.242846</td>\n",
       "      <td>0.015785</td>\n",
       "      <td>0.359750</td>\n",
       "      <td>0.269175</td>\n",
       "      <td>0.082025</td>\n",
       "      <td>0.326123</td>\n",
       "      <td>0.273511</td>\n",
       "      <td>0.086402</td>\n",
       "      <td>0.324377</td>\n",
       "    </tr>\n",
       "    <tr>\n",
       "      <th>3</th>\n",
       "      <td>eac_single_coassoc_matrix</td>\n",
       "      <td>[0, 0, 0, 0, 0, 0, 0, 0, 0, 0, 0, 0, 0, 0, 0, ...</td>\n",
       "      <td>5</td>\n",
       "      <td>0.246215</td>\n",
       "      <td>0.017924</td>\n",
       "      <td>0.353398</td>\n",
       "      <td>0.274577</td>\n",
       "      <td>0.094328</td>\n",
       "      <td>0.314086</td>\n",
       "      <td>0.279641</td>\n",
       "      <td>0.099375</td>\n",
       "      <td>0.311975</td>\n",
       "    </tr>\n",
       "    <tr>\n",
       "      <th>4</th>\n",
       "      <td>eac_single_coassoc_matrix</td>\n",
       "      <td>[1, 1, 1, 1, 1, 1, 1, 1, 1, 1, 1, 1, 1, 1, 1, ...</td>\n",
       "      <td>6</td>\n",
       "      <td>0.254425</td>\n",
       "      <td>0.024476</td>\n",
       "      <td>0.344744</td>\n",
       "      <td>0.288252</td>\n",
       "      <td>0.110970</td>\n",
       "      <td>0.297056</td>\n",
       "      <td>0.294332</td>\n",
       "      <td>0.117303</td>\n",
       "      <td>0.294392</td>\n",
       "    </tr>\n",
       "  </tbody>\n",
       "</table>\n",
       "</div>"
      ],
      "text/plain": [
       "                      method  \\\n",
       "0  eac_single_coassoc_matrix   \n",
       "1  eac_single_coassoc_matrix   \n",
       "2  eac_single_coassoc_matrix   \n",
       "3  eac_single_coassoc_matrix   \n",
       "4  eac_single_coassoc_matrix   \n",
       "\n",
       "                                           partition  k  ari_mean  ari_median  \\\n",
       "0  [0, 0, 0, 0, 0, 0, 0, 0, 0, 0, 0, 0, 0, 0, 0, ...  2  0.028316    0.001172   \n",
       "1  [0, 0, 0, 0, 0, 0, 0, 0, 0, 0, 0, 0, 0, 0, 0, ...  3  0.044564    0.001975   \n",
       "2  [0, 0, 0, 0, 0, 0, 0, 0, 0, 0, 0, 0, 0, 0, 0, ...  4  0.242846    0.015785   \n",
       "3  [0, 0, 0, 0, 0, 0, 0, 0, 0, 0, 0, 0, 0, 0, 0, ...  5  0.246215    0.017924   \n",
       "4  [1, 1, 1, 1, 1, 1, 1, 1, 1, 1, 1, 1, 1, 1, 1, ...  6  0.254425    0.024476   \n",
       "\n",
       "    ari_std  ami_mean  ami_median   ami_std  nmi_mean  nmi_median   nmi_std  \n",
       "0  0.071466  0.037372    0.013340  0.070718  0.039099    0.015125  0.070828  \n",
       "1  0.110040  0.059596    0.022292  0.108635  0.062536    0.025583  0.108613  \n",
       "2  0.359750  0.269175    0.082025  0.326123  0.273511    0.086402  0.324377  \n",
       "3  0.353398  0.274577    0.094328  0.314086  0.279641    0.099375  0.311975  \n",
       "4  0.344744  0.288252    0.110970  0.297056  0.294332    0.117303  0.294392  "
      ]
     },
     "execution_count": 22,
     "metadata": {},
     "output_type": "execute_result"
    }
   ],
   "source": [
    "consensus_results.head()"
   ]
  },
  {
   "cell_type": "markdown",
   "metadata": {
    "papermill": {
     "duration": 0.07989,
     "end_time": "2021-02-23T21:34:02.596056",
     "exception": false,
     "start_time": "2021-02-23T21:34:02.516166",
     "status": "completed"
    },
    "tags": []
   },
   "source": [
    "## Testing"
   ]
  },
  {
   "cell_type": "code",
   "execution_count": 23,
   "metadata": {
    "execution": {
     "iopub.execute_input": "2021-02-23T21:34:02.760064Z",
     "iopub.status.busy": "2021-02-23T21:34:02.759702Z",
     "iopub.status.idle": "2021-02-23T21:34:02.770386Z",
     "shell.execute_reply": "2021-02-23T21:34:02.770014Z"
    },
    "papermill": {
     "duration": 0.093692,
     "end_time": "2021-02-23T21:34:02.770475",
     "exception": false,
     "start_time": "2021-02-23T21:34:02.676783",
     "status": "completed"
    },
    "tags": []
   },
   "outputs": [],
   "source": [
    "assert not consensus_results.isna().any().any()"
   ]
  },
  {
   "cell_type": "code",
   "execution_count": 24,
   "metadata": {
    "execution": {
     "iopub.execute_input": "2021-02-23T21:34:02.932900Z",
     "iopub.status.busy": "2021-02-23T21:34:02.932393Z",
     "iopub.status.idle": "2021-02-23T21:34:02.971149Z",
     "shell.execute_reply": "2021-02-23T21:34:02.970780Z"
    },
    "papermill": {
     "duration": 0.120682,
     "end_time": "2021-02-23T21:34:02.971236",
     "exception": false,
     "start_time": "2021-02-23T21:34:02.850554",
     "status": "completed"
    },
    "tags": []
   },
   "outputs": [
    {
     "data": {
      "text/plain": [
       "0       2\n",
       "1       3\n",
       "2       4\n",
       "3       5\n",
       "4       6\n",
       "       ..\n",
       "408    56\n",
       "409    57\n",
       "410    58\n",
       "411    59\n",
       "412    60\n",
       "Name: partition, Length: 413, dtype: int64"
      ]
     },
     "metadata": {},
     "output_type": "display_data"
    }
   ],
   "source": [
    "# check that the number of clusters in the partitions are the expected ones\n",
    "_real_k_values = consensus_results[\"partition\"].apply(lambda x: np.unique(x).shape[0])\n",
    "display(_real_k_values)\n",
    "assert np.all(consensus_results[\"k\"].values == _real_k_values.values)"
   ]
  },
  {
   "cell_type": "markdown",
   "metadata": {
    "papermill": {
     "duration": 0.083632,
     "end_time": "2021-02-23T21:34:03.135742",
     "exception": false,
     "start_time": "2021-02-23T21:34:03.052110",
     "status": "completed"
    },
    "tags": []
   },
   "source": [
    "## Save"
   ]
  },
  {
   "cell_type": "code",
   "execution_count": 25,
   "metadata": {
    "execution": {
     "iopub.execute_input": "2021-02-23T21:34:03.299430Z",
     "iopub.status.busy": "2021-02-23T21:34:03.299073Z",
     "iopub.status.idle": "2021-02-23T21:34:03.309912Z",
     "shell.execute_reply": "2021-02-23T21:34:03.309554Z"
    },
    "papermill": {
     "duration": 0.092949,
     "end_time": "2021-02-23T21:34:03.309998",
     "exception": false,
     "start_time": "2021-02-23T21:34:03.217049",
     "status": "completed"
    },
    "tags": []
   },
   "outputs": [
    {
     "data": {
      "text/plain": [
       "PosixPath('/home/miltondp/projects/labs/greenelab/phenoplier/base3/results/clustering/consensus_clustering/consensus_clustering_runs.pkl')"
      ]
     },
     "metadata": {},
     "output_type": "display_data"
    }
   ],
   "source": [
    "output_file = Path(RESULTS_DIR, \"consensus_clustering_runs.pkl\").resolve()\n",
    "display(output_file)"
   ]
  },
  {
   "cell_type": "code",
   "execution_count": 26,
   "metadata": {
    "execution": {
     "iopub.execute_input": "2021-02-23T21:34:03.473134Z",
     "iopub.status.busy": "2021-02-23T21:34:03.472736Z",
     "iopub.status.idle": "2021-02-23T21:34:03.510706Z",
     "shell.execute_reply": "2021-02-23T21:34:03.511009Z"
    },
    "papermill": {
     "duration": 0.120468,
     "end_time": "2021-02-23T21:34:03.511122",
     "exception": false,
     "start_time": "2021-02-23T21:34:03.390654",
     "status": "completed"
    },
    "tags": []
   },
   "outputs": [],
   "source": [
    "consensus_results.to_pickle(output_file)"
   ]
  },
  {
   "cell_type": "code",
   "execution_count": null,
   "metadata": {
    "papermill": {
     "duration": 0.080501,
     "end_time": "2021-02-23T21:34:03.673001",
     "exception": false,
     "start_time": "2021-02-23T21:34:03.592500",
     "status": "completed"
    },
    "tags": []
   },
   "outputs": [],
   "source": []
  }
 ],
 "metadata": {
  "jupytext": {
   "cell_metadata_filter": "all,-execution,-papermill,-trusted",
   "formats": "ipynb,py//py:percent"
  },
  "kernelspec": {
   "display_name": "Python 3",
   "language": "python",
   "name": "python3"
  },
  "language_info": {
   "codemirror_mode": {
    "name": "ipython",
    "version": 3
   },
   "file_extension": ".py",
   "mimetype": "text/x-python",
   "name": "python",
   "nbconvert_exporter": "python",
   "pygments_lexer": "ipython3",
   "version": "3.8.6"
  },
  "papermill": {
   "default_parameters": {},
   "duration": 8649.839675,
   "end_time": "2021-02-23T21:34:04.944716",
   "environment_variables": {},
   "exception": null,
   "input_path": "16_consensus_clustering/020_01-combine_ensemble.ipynb",
   "output_path": "16_consensus_clustering/020_01-combine_ensemble.run.ipynb",
   "parameters": {},
   "start_time": "2021-02-23T19:09:55.105041",
   "version": "2.2.2"
  },
  "toc-autonumbering": true,
  "toc-showcode": false,
  "toc-showmarkdowntxt": false,
  "toc-showtags": false
 },
 "nbformat": 4,
 "nbformat_minor": 4
}
