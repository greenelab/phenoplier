{
 "cells": [
  {
   "cell_type": "markdown",
   "metadata": {
    "papermill": {
     "duration": 0.042159,
     "end_time": "2021-01-13T01:39:03.034400",
     "exception": false,
     "start_time": "2021-01-13T01:39:02.992241",
     "status": "completed"
    },
    "tags": []
   },
   "source": [
    "# Description"
   ]
  },
  {
   "cell_type": "markdown",
   "metadata": {
    "papermill": {
     "duration": 0.011469,
     "end_time": "2021-01-13T01:39:03.061333",
     "exception": false,
     "start_time": "2021-01-13T01:39:03.049864",
     "status": "completed"
    },
    "tags": []
   },
   "source": [
    "It combines all clustering solutions generated into a single consolidated solution using consensus clustering."
   ]
  },
  {
   "cell_type": "markdown",
   "metadata": {
    "papermill": {
     "duration": 0.011335,
     "end_time": "2021-01-13T01:39:03.083891",
     "exception": false,
     "start_time": "2021-01-13T01:39:03.072556",
     "status": "completed"
    },
    "tags": []
   },
   "source": [
    "# Environment variables"
   ]
  },
  {
   "cell_type": "code",
   "execution_count": 1,
   "metadata": {
    "execution": {
     "iopub.execute_input": "2021-01-13T01:39:03.113870Z",
     "iopub.status.busy": "2021-01-13T01:39:03.113311Z",
     "iopub.status.idle": "2021-01-13T01:39:03.116392Z",
     "shell.execute_reply": "2021-01-13T01:39:03.115946Z"
    },
    "papermill": {
     "duration": 0.02126,
     "end_time": "2021-01-13T01:39:03.116519",
     "exception": false,
     "start_time": "2021-01-13T01:39:03.095259",
     "status": "completed"
    },
    "tags": []
   },
   "outputs": [
    {
     "data": {
      "text/plain": [
       "1"
      ]
     },
     "metadata": {},
     "output_type": "display_data"
    }
   ],
   "source": [
    "from IPython.display import display\n",
    "\n",
    "# set numpy n_jobs to 1, since I'll be using n_jobs later\n",
    "NUMPY_N_JOBS = 1\n",
    "display(NUMPY_N_JOBS)"
   ]
  },
  {
   "cell_type": "code",
   "execution_count": 2,
   "metadata": {
    "execution": {
     "iopub.execute_input": "2021-01-13T01:39:03.146704Z",
     "iopub.status.busy": "2021-01-13T01:39:03.146259Z",
     "iopub.status.idle": "2021-01-13T01:39:03.148618Z",
     "shell.execute_reply": "2021-01-13T01:39:03.148295Z"
    },
    "papermill": {
     "duration": 0.020231,
     "end_time": "2021-01-13T01:39:03.148718",
     "exception": false,
     "start_time": "2021-01-13T01:39:03.128487",
     "status": "completed"
    },
    "tags": []
   },
   "outputs": [
    {
     "name": "stdout",
     "output_type": "stream",
     "text": [
      "env: MKL_NUM_THREADS=1\n",
      "env: OPEN_BLAS_NUM_THREADS=1\n",
      "env: NUMEXPR_NUM_THREADS=1\n",
      "env: OMP_NUM_THREADS=1\n"
     ]
    }
   ],
   "source": [
    "%env MKL_NUM_THREADS=$NUMPY_N_JOBS\n",
    "%env OPEN_BLAS_NUM_THREADS=$NUMPY_N_JOBS\n",
    "%env NUMEXPR_NUM_THREADS=$NUMPY_N_JOBS\n",
    "%env OMP_NUM_THREADS=$NUMPY_N_JOBS"
   ]
  },
  {
   "cell_type": "markdown",
   "metadata": {
    "papermill": {
     "duration": 0.012138,
     "end_time": "2021-01-13T01:39:03.173344",
     "exception": false,
     "start_time": "2021-01-13T01:39:03.161206",
     "status": "completed"
    },
    "tags": []
   },
   "source": [
    "# Modules loading"
   ]
  },
  {
   "cell_type": "code",
   "execution_count": 3,
   "metadata": {
    "execution": {
     "iopub.execute_input": "2021-01-13T01:39:03.200816Z",
     "iopub.status.busy": "2021-01-13T01:39:03.200397Z",
     "iopub.status.idle": "2021-01-13T01:39:03.208012Z",
     "shell.execute_reply": "2021-01-13T01:39:03.208305Z"
    },
    "papermill": {
     "duration": 0.022885,
     "end_time": "2021-01-13T01:39:03.208408",
     "exception": false,
     "start_time": "2021-01-13T01:39:03.185523",
     "status": "completed"
    },
    "tags": []
   },
   "outputs": [],
   "source": [
    "%load_ext autoreload\n",
    "%autoreload 2"
   ]
  },
  {
   "cell_type": "code",
   "execution_count": 4,
   "metadata": {
    "execution": {
     "iopub.execute_input": "2021-01-13T01:39:03.235039Z",
     "iopub.status.busy": "2021-01-13T01:39:03.234670Z",
     "iopub.status.idle": "2021-01-13T01:39:03.406029Z",
     "shell.execute_reply": "2021-01-13T01:39:03.405705Z"
    },
    "papermill": {
     "duration": 0.185403,
     "end_time": "2021-01-13T01:39:03.406124",
     "exception": false,
     "start_time": "2021-01-13T01:39:03.220721",
     "status": "completed"
    },
    "tags": []
   },
   "outputs": [],
   "source": [
    "from pathlib import Path\n",
    "\n",
    "import numpy as np\n",
    "import pandas as pd\n",
    "\n",
    "import conf"
   ]
  },
  {
   "cell_type": "markdown",
   "metadata": {
    "papermill": {
     "duration": 0.011718,
     "end_time": "2021-01-13T01:39:03.430341",
     "exception": false,
     "start_time": "2021-01-13T01:39:03.418623",
     "status": "completed"
    },
    "tags": []
   },
   "source": [
    "# Settings"
   ]
  },
  {
   "cell_type": "code",
   "execution_count": 5,
   "metadata": {
    "execution": {
     "iopub.execute_input": "2021-01-13T01:39:03.456662Z",
     "iopub.status.busy": "2021-01-13T01:39:03.456277Z",
     "iopub.status.idle": "2021-01-13T01:39:03.463705Z",
     "shell.execute_reply": "2021-01-13T01:39:03.463325Z"
    },
    "papermill": {
     "duration": 0.021726,
     "end_time": "2021-01-13T01:39:03.463793",
     "exception": false,
     "start_time": "2021-01-13T01:39:03.442067",
     "status": "completed"
    },
    "tags": []
   },
   "outputs": [],
   "source": [
    "RANDOM_GENERATOR = np.random.default_rng(12345)"
   ]
  },
  {
   "cell_type": "markdown",
   "metadata": {
    "papermill": {
     "duration": 0.01202,
     "end_time": "2021-01-13T01:39:03.487944",
     "exception": false,
     "start_time": "2021-01-13T01:39:03.475924",
     "status": "completed"
    },
    "tags": []
   },
   "source": [
    "## Consensus clustering"
   ]
  },
  {
   "cell_type": "code",
   "execution_count": 6,
   "metadata": {
    "execution": {
     "iopub.execute_input": "2021-01-13T01:39:03.514440Z",
     "iopub.status.busy": "2021-01-13T01:39:03.514064Z",
     "iopub.status.idle": "2021-01-13T01:39:03.522442Z",
     "shell.execute_reply": "2021-01-13T01:39:03.522052Z"
    },
    "papermill": {
     "duration": 0.022559,
     "end_time": "2021-01-13T01:39:03.522530",
     "exception": false,
     "start_time": "2021-01-13T01:39:03.499971",
     "status": "completed"
    },
    "tags": []
   },
   "outputs": [
    {
     "data": {
      "text/plain": [
       "{'K_MIN': 2, 'K_MAX': 40}"
      ]
     },
     "metadata": {},
     "output_type": "display_data"
    }
   ],
   "source": [
    "CLUSTERING_OPTIONS = {}\n",
    "\n",
    "CLUSTERING_OPTIONS[\"K_MIN\"] = 2\n",
    "CLUSTERING_OPTIONS[\"K_MAX\"] = 40\n",
    "\n",
    "display(CLUSTERING_OPTIONS)"
   ]
  },
  {
   "cell_type": "code",
   "execution_count": 7,
   "metadata": {
    "execution": {
     "iopub.execute_input": "2021-01-13T01:39:03.549569Z",
     "iopub.status.busy": "2021-01-13T01:39:03.549193Z",
     "iopub.status.idle": "2021-01-13T01:39:03.557067Z",
     "shell.execute_reply": "2021-01-13T01:39:03.557360Z"
    },
    "papermill": {
     "duration": 0.022417,
     "end_time": "2021-01-13T01:39:03.557461",
     "exception": false,
     "start_time": "2021-01-13T01:39:03.535044",
     "status": "completed"
    },
    "tags": []
   },
   "outputs": [
    {
     "data": {
      "text/plain": [
       "PosixPath('/home/miltondp/projects/labs/greenelab/phenoplier/base3/results/clustering/consensus_clustering')"
      ]
     },
     "metadata": {},
     "output_type": "display_data"
    }
   ],
   "source": [
    "# output dir for this notebook\n",
    "RESULTS_DIR = Path(conf.RESULTS[\"CLUSTERING_DIR\"], \"consensus_clustering\").resolve()\n",
    "RESULTS_DIR.mkdir(parents=True, exist_ok=True)\n",
    "\n",
    "display(RESULTS_DIR)"
   ]
  },
  {
   "cell_type": "markdown",
   "metadata": {
    "papermill": {
     "duration": 0.012171,
     "end_time": "2021-01-13T01:39:03.582108",
     "exception": false,
     "start_time": "2021-01-13T01:39:03.569937",
     "status": "completed"
    },
    "tags": []
   },
   "source": [
    "# Load ensemble"
   ]
  },
  {
   "cell_type": "code",
   "execution_count": 8,
   "metadata": {
    "execution": {
     "iopub.execute_input": "2021-01-13T01:39:03.609041Z",
     "iopub.status.busy": "2021-01-13T01:39:03.608603Z",
     "iopub.status.idle": "2021-01-13T01:39:03.617237Z",
     "shell.execute_reply": "2021-01-13T01:39:03.616862Z"
    },
    "papermill": {
     "duration": 0.023065,
     "end_time": "2021-01-13T01:39:03.617324",
     "exception": false,
     "start_time": "2021-01-13T01:39:03.594259",
     "status": "completed"
    },
    "tags": []
   },
   "outputs": [
    {
     "data": {
      "text/plain": [
       "PosixPath('/home/miltondp/projects/labs/greenelab/phenoplier/base3/results/clustering/consensus_clustering/ensemble.npy')"
      ]
     },
     "metadata": {},
     "output_type": "display_data"
    }
   ],
   "source": [
    "output_file = Path(RESULTS_DIR, \"ensemble.npy\").resolve()\n",
    "display(output_file)"
   ]
  },
  {
   "cell_type": "code",
   "execution_count": 9,
   "metadata": {
    "execution": {
     "iopub.execute_input": "2021-01-13T01:39:03.645675Z",
     "iopub.status.busy": "2021-01-13T01:39:03.645318Z",
     "iopub.status.idle": "2021-01-13T01:39:03.681095Z",
     "shell.execute_reply": "2021-01-13T01:39:03.680677Z"
    },
    "papermill": {
     "duration": 0.050824,
     "end_time": "2021-01-13T01:39:03.681201",
     "exception": false,
     "start_time": "2021-01-13T01:39:03.630377",
     "status": "completed"
    },
    "tags": []
   },
   "outputs": [],
   "source": [
    "full_ensemble = np.load(output_file)"
   ]
  },
  {
   "cell_type": "code",
   "execution_count": 10,
   "metadata": {
    "execution": {
     "iopub.execute_input": "2021-01-13T01:39:03.713374Z",
     "iopub.status.busy": "2021-01-13T01:39:03.712987Z",
     "iopub.status.idle": "2021-01-13T01:39:03.721154Z",
     "shell.execute_reply": "2021-01-13T01:39:03.720754Z"
    },
    "papermill": {
     "duration": 0.024829,
     "end_time": "2021-01-13T01:39:03.721247",
     "exception": false,
     "start_time": "2021-01-13T01:39:03.696418",
     "status": "completed"
    },
    "tags": []
   },
   "outputs": [
    {
     "data": {
      "text/plain": [
       "(4428, 3749)"
      ]
     },
     "metadata": {},
     "output_type": "display_data"
    }
   ],
   "source": [
    "display(full_ensemble.shape)"
   ]
  },
  {
   "cell_type": "markdown",
   "metadata": {
    "papermill": {
     "duration": 0.013649,
     "end_time": "2021-01-13T01:39:03.748992",
     "exception": false,
     "start_time": "2021-01-13T01:39:03.735343",
     "status": "completed"
    },
    "tags": []
   },
   "source": [
    "# Load ensemble coassociation distance matrix"
   ]
  },
  {
   "cell_type": "code",
   "execution_count": 11,
   "metadata": {
    "execution": {
     "iopub.execute_input": "2021-01-13T01:39:03.776489Z",
     "iopub.status.busy": "2021-01-13T01:39:03.776125Z",
     "iopub.status.idle": "2021-01-13T01:39:03.784296Z",
     "shell.execute_reply": "2021-01-13T01:39:03.783925Z"
    },
    "papermill": {
     "duration": 0.022823,
     "end_time": "2021-01-13T01:39:03.784383",
     "exception": false,
     "start_time": "2021-01-13T01:39:03.761560",
     "status": "completed"
    },
    "tags": []
   },
   "outputs": [
    {
     "data": {
      "text/plain": [
       "PosixPath('/home/miltondp/projects/labs/greenelab/phenoplier/base3/results/clustering/consensus_clustering/ensemble_coassoc_matrix.npy')"
      ]
     },
     "metadata": {},
     "output_type": "display_data"
    }
   ],
   "source": [
    "output_file = Path(RESULTS_DIR, \"ensemble_coassoc_matrix.npy\").resolve()\n",
    "display(output_file)"
   ]
  },
  {
   "cell_type": "code",
   "execution_count": 12,
   "metadata": {
    "execution": {
     "iopub.execute_input": "2021-01-13T01:39:03.813543Z",
     "iopub.status.busy": "2021-01-13T01:39:03.813167Z",
     "iopub.status.idle": "2021-01-13T01:39:03.844240Z",
     "shell.execute_reply": "2021-01-13T01:39:03.843817Z"
    },
    "papermill": {
     "duration": 0.04646,
     "end_time": "2021-01-13T01:39:03.844347",
     "exception": false,
     "start_time": "2021-01-13T01:39:03.797887",
     "status": "completed"
    },
    "tags": []
   },
   "outputs": [],
   "source": [
    "ensemble_coassoc_matrix = np.load(output_file)"
   ]
  },
  {
   "cell_type": "code",
   "execution_count": 13,
   "metadata": {
    "execution": {
     "iopub.execute_input": "2021-01-13T01:39:03.879114Z",
     "iopub.status.busy": "2021-01-13T01:39:03.878716Z",
     "iopub.status.idle": "2021-01-13T01:39:03.886456Z",
     "shell.execute_reply": "2021-01-13T01:39:03.886775Z"
    },
    "papermill": {
     "duration": 0.026226,
     "end_time": "2021-01-13T01:39:03.886883",
     "exception": false,
     "start_time": "2021-01-13T01:39:03.860657",
     "status": "completed"
    },
    "tags": []
   },
   "outputs": [
    {
     "data": {
      "text/plain": [
       "(3749, 3749)"
      ]
     },
     "metadata": {},
     "output_type": "display_data"
    }
   ],
   "source": [
    "display(ensemble_coassoc_matrix.shape)"
   ]
  },
  {
   "cell_type": "code",
   "execution_count": 14,
   "metadata": {
    "execution": {
     "iopub.execute_input": "2021-01-13T01:39:03.918039Z",
     "iopub.status.busy": "2021-01-13T01:39:03.917644Z",
     "iopub.status.idle": "2021-01-13T01:39:03.926144Z",
     "shell.execute_reply": "2021-01-13T01:39:03.925742Z"
    },
    "papermill": {
     "duration": 0.024797,
     "end_time": "2021-01-13T01:39:03.926236",
     "exception": false,
     "start_time": "2021-01-13T01:39:03.901439",
     "status": "completed"
    },
    "tags": []
   },
   "outputs": [
    {
     "data": {
      "text/plain": [
       "array([[0.        , 0.05615942, 0.05389493, ..., 0.59986413, 0.66171429,\n",
       "        0.66757246],\n",
       "       [0.05615942, 0.        , 0.02740036, ..., 0.60122283, 0.65988571,\n",
       "        0.66530797],\n",
       "       [0.05389493, 0.02740036, 0.        , ..., 0.59782609, 0.66102857,\n",
       "        0.66281703],\n",
       "       ...,\n",
       "       [0.59986413, 0.60122283, 0.59782609, ..., 0.        , 0.6699339 ,\n",
       "        0.66531165],\n",
       "       [0.66171429, 0.65988571, 0.66102857, ..., 0.6699339 , 0.        ,\n",
       "        0.58650558],\n",
       "       [0.66757246, 0.66530797, 0.66281703, ..., 0.66531165, 0.58650558,\n",
       "        0.        ]])"
      ]
     },
     "metadata": {},
     "output_type": "display_data"
    }
   ],
   "source": [
    "display(ensemble_coassoc_matrix)"
   ]
  },
  {
   "cell_type": "markdown",
   "metadata": {
    "papermill": {
     "duration": 0.014472,
     "end_time": "2021-01-13T01:39:03.955442",
     "exception": false,
     "start_time": "2021-01-13T01:39:03.940970",
     "status": "completed"
    },
    "tags": []
   },
   "source": [
    "# Consensus clustering"
   ]
  },
  {
   "cell_type": "code",
   "execution_count": 15,
   "metadata": {
    "execution": {
     "iopub.execute_input": "2021-01-13T01:39:03.984506Z",
     "iopub.status.busy": "2021-01-13T01:39:03.984138Z",
     "iopub.status.idle": "2021-01-13T01:39:04.306233Z",
     "shell.execute_reply": "2021-01-13T01:39:04.305855Z"
    },
    "papermill": {
     "duration": 0.337651,
     "end_time": "2021-01-13T01:39:04.306323",
     "exception": false,
     "start_time": "2021-01-13T01:39:03.968672",
     "status": "completed"
    },
    "tags": []
   },
   "outputs": [],
   "source": [
    "from concurrent.futures import ProcessPoolExecutor, as_completed\n",
    "\n",
    "from tqdm import tqdm\n",
    "\n",
    "from clustering.ensembles.utils import (\n",
    "    run_method_and_compute_agreement,\n",
    ")\n",
    "from clustering.ensembles.eac import (\n",
    "    eac_single_coassoc_matrix,\n",
    "    eac_complete_coassoc_matrix,\n",
    "    eac_average_coassoc_matrix,\n",
    ")"
   ]
  },
  {
   "cell_type": "code",
   "execution_count": 16,
   "metadata": {
    "execution": {
     "iopub.execute_input": "2021-01-13T01:39:04.335910Z",
     "iopub.status.busy": "2021-01-13T01:39:04.335523Z",
     "iopub.status.idle": "2021-01-13T01:39:04.345786Z",
     "shell.execute_reply": "2021-01-13T01:39:04.346077Z"
    },
    "papermill": {
     "duration": 0.026465,
     "end_time": "2021-01-13T01:39:04.346200",
     "exception": false,
     "start_time": "2021-01-13T01:39:04.319735",
     "status": "completed"
    },
    "tags": []
   },
   "outputs": [
    {
     "data": {
      "text/plain": [
       "{<function clustering.ensemble.eac_average_coassoc_matrix(coassoc_matrix, k)>,\n",
       " <function clustering.ensemble.eac_complete_coassoc_matrix(coassoc_matrix, k)>,\n",
       " <function clustering.ensemble.eac_single_coassoc_matrix(coassoc_matrix, k)>}"
      ]
     },
     "metadata": {},
     "output_type": "display_data"
    }
   ],
   "source": [
    "all_consensus_methods = set(\n",
    "    (\n",
    "        eac_single_coassoc_matrix,\n",
    "        eac_complete_coassoc_matrix,\n",
    "        eac_average_coassoc_matrix,\n",
    "    )\n",
    ")\n",
    "display(all_consensus_methods)"
   ]
  },
  {
   "cell_type": "code",
   "execution_count": 17,
   "metadata": {
    "execution": {
     "iopub.execute_input": "2021-01-13T01:39:04.377794Z",
     "iopub.status.busy": "2021-01-13T01:39:04.377408Z",
     "iopub.status.idle": "2021-01-13T02:01:42.996244Z",
     "shell.execute_reply": "2021-01-13T02:01:42.995417Z"
    },
    "papermill": {
     "duration": 1358.636131,
     "end_time": "2021-01-13T02:01:42.996327",
     "exception": false,
     "start_time": "2021-01-13T01:39:04.360196",
     "status": "completed"
    },
    "tags": []
   },
   "outputs": [
    {
     "name": "stderr",
     "output_type": "stream",
     "text": [
      "100%|█████████████████████████████████████████████████████████████| 117/117 [22:38<00:00, 11.61s/it]\n"
     ]
    }
   ],
   "source": [
    "consensus_results = []\n",
    "\n",
    "with ProcessPoolExecutor(max_workers=conf.GENERAL[\"N_JOBS\"]) as executor:\n",
    "    tasks = {\n",
    "        executor.submit(\n",
    "            run_method_and_compute_agreement,\n",
    "            m,\n",
    "            ensemble_coassoc_matrix,\n",
    "            full_ensemble,\n",
    "            k,\n",
    "        ): (m.__name__, k)\n",
    "        for m in all_consensus_methods\n",
    "        for k in range(CLUSTERING_OPTIONS[\"K_MIN\"], CLUSTERING_OPTIONS[\"K_MAX\"] + 1)\n",
    "    }\n",
    "\n",
    "    for future in tqdm(as_completed(tasks), total=len(tasks), disable=False, ncols=100):\n",
    "        method_name, k = tasks[future]\n",
    "        part, performance_values = future.result()\n",
    "\n",
    "        method_results = {\n",
    "            \"method\": method_name,\n",
    "            \"partition\": part,\n",
    "            \"k\": k,\n",
    "        }\n",
    "        method_results.update(performance_values)\n",
    "\n",
    "        consensus_results.append(method_results)"
   ]
  },
  {
   "cell_type": "code",
   "execution_count": 18,
   "metadata": {
    "execution": {
     "iopub.execute_input": "2021-01-13T02:01:43.064815Z",
     "iopub.status.busy": "2021-01-13T02:01:43.064405Z",
     "iopub.status.idle": "2021-01-13T02:01:43.076024Z",
     "shell.execute_reply": "2021-01-13T02:01:43.075653Z"
    },
    "papermill": {
     "duration": 0.046888,
     "end_time": "2021-01-13T02:01:43.076109",
     "exception": false,
     "start_time": "2021-01-13T02:01:43.029221",
     "status": "completed"
    },
    "tags": []
   },
   "outputs": [],
   "source": [
    "# TODO: check if each partition is really generating k clusters"
   ]
  },
  {
   "cell_type": "code",
   "execution_count": 19,
   "metadata": {
    "execution": {
     "iopub.execute_input": "2021-01-13T02:01:43.144040Z",
     "iopub.status.busy": "2021-01-13T02:01:43.143662Z",
     "iopub.status.idle": "2021-01-13T02:01:43.155964Z",
     "shell.execute_reply": "2021-01-13T02:01:43.155577Z"
    },
    "papermill": {
     "duration": 0.047192,
     "end_time": "2021-01-13T02:01:43.156053",
     "exception": false,
     "start_time": "2021-01-13T02:01:43.108861",
     "status": "completed"
    },
    "tags": []
   },
   "outputs": [],
   "source": [
    "consensus_results = pd.DataFrame(consensus_results)"
   ]
  },
  {
   "cell_type": "code",
   "execution_count": 20,
   "metadata": {
    "execution": {
     "iopub.execute_input": "2021-01-13T02:01:43.224471Z",
     "iopub.status.busy": "2021-01-13T02:01:43.224101Z",
     "iopub.status.idle": "2021-01-13T02:01:43.234931Z",
     "shell.execute_reply": "2021-01-13T02:01:43.234566Z"
    },
    "papermill": {
     "duration": 0.04564,
     "end_time": "2021-01-13T02:01:43.235016",
     "exception": false,
     "start_time": "2021-01-13T02:01:43.189376",
     "status": "completed"
    },
    "tags": []
   },
   "outputs": [
    {
     "data": {
      "text/plain": [
       "(117, 12)"
      ]
     },
     "metadata": {},
     "output_type": "display_data"
    }
   ],
   "source": [
    "display(consensus_results.shape)"
   ]
  },
  {
   "cell_type": "code",
   "execution_count": 21,
   "metadata": {
    "execution": {
     "iopub.execute_input": "2021-01-13T02:01:43.303355Z",
     "iopub.status.busy": "2021-01-13T02:01:43.302996Z",
     "iopub.status.idle": "2021-01-13T02:01:43.327064Z",
     "shell.execute_reply": "2021-01-13T02:01:43.326696Z"
    },
    "papermill": {
     "duration": 0.059056,
     "end_time": "2021-01-13T02:01:43.327150",
     "exception": false,
     "start_time": "2021-01-13T02:01:43.268094",
     "status": "completed"
    },
    "tags": []
   },
   "outputs": [
    {
     "data": {
      "text/html": [
       "<div>\n",
       "<style scoped>\n",
       "    .dataframe tbody tr th:only-of-type {\n",
       "        vertical-align: middle;\n",
       "    }\n",
       "\n",
       "    .dataframe tbody tr th {\n",
       "        vertical-align: top;\n",
       "    }\n",
       "\n",
       "    .dataframe thead th {\n",
       "        text-align: right;\n",
       "    }\n",
       "</style>\n",
       "<table border=\"1\" class=\"dataframe\">\n",
       "  <thead>\n",
       "    <tr style=\"text-align: right;\">\n",
       "      <th></th>\n",
       "      <th>method</th>\n",
       "      <th>partition</th>\n",
       "      <th>k</th>\n",
       "      <th>ari_mean</th>\n",
       "      <th>ari_median</th>\n",
       "      <th>ari_std</th>\n",
       "      <th>ami_mean</th>\n",
       "      <th>ami_median</th>\n",
       "      <th>ami_std</th>\n",
       "      <th>nmi_mean</th>\n",
       "      <th>nmi_median</th>\n",
       "      <th>nmi_std</th>\n",
       "    </tr>\n",
       "  </thead>\n",
       "  <tbody>\n",
       "    <tr>\n",
       "      <th>0</th>\n",
       "      <td>eac_average_coassoc_matrix</td>\n",
       "      <td>[0, 0, 0, 0, 0, 0, 0, 0, 0, 0, 0, 0, 0, 0, 0, ...</td>\n",
       "      <td>2</td>\n",
       "      <td>0.226733</td>\n",
       "      <td>0.010542</td>\n",
       "      <td>0.351673</td>\n",
       "      <td>0.238194</td>\n",
       "      <td>0.055225</td>\n",
       "      <td>0.325239</td>\n",
       "      <td>0.240435</td>\n",
       "      <td>0.057239</td>\n",
       "      <td>0.324510</td>\n",
       "    </tr>\n",
       "    <tr>\n",
       "      <th>1</th>\n",
       "      <td>eac_average_coassoc_matrix</td>\n",
       "      <td>[0, 0, 0, 0, 0, 0, 0, 0, 0, 0, 0, 0, 0, 0, 0, ...</td>\n",
       "      <td>3</td>\n",
       "      <td>0.242829</td>\n",
       "      <td>0.015836</td>\n",
       "      <td>0.359734</td>\n",
       "      <td>0.266882</td>\n",
       "      <td>0.080544</td>\n",
       "      <td>0.325173</td>\n",
       "      <td>0.270462</td>\n",
       "      <td>0.083603</td>\n",
       "      <td>0.323833</td>\n",
       "    </tr>\n",
       "    <tr>\n",
       "      <th>2</th>\n",
       "      <td>eac_average_coassoc_matrix</td>\n",
       "      <td>[2, 2, 2, 2, 2, 2, 2, 2, 2, 2, 2, 2, 2, 2, 2, ...</td>\n",
       "      <td>4</td>\n",
       "      <td>0.260508</td>\n",
       "      <td>0.032736</td>\n",
       "      <td>0.339536</td>\n",
       "      <td>0.296430</td>\n",
       "      <td>0.131213</td>\n",
       "      <td>0.279790</td>\n",
       "      <td>0.301305</td>\n",
       "      <td>0.135507</td>\n",
       "      <td>0.277920</td>\n",
       "    </tr>\n",
       "    <tr>\n",
       "      <th>3</th>\n",
       "      <td>eac_average_coassoc_matrix</td>\n",
       "      <td>[0, 0, 0, 0, 0, 0, 0, 0, 0, 0, 0, 0, 0, 0, 0, ...</td>\n",
       "      <td>5</td>\n",
       "      <td>0.260519</td>\n",
       "      <td>0.032744</td>\n",
       "      <td>0.339554</td>\n",
       "      <td>0.298287</td>\n",
       "      <td>0.132804</td>\n",
       "      <td>0.281202</td>\n",
       "      <td>0.303842</td>\n",
       "      <td>0.138038</td>\n",
       "      <td>0.278911</td>\n",
       "    </tr>\n",
       "    <tr>\n",
       "      <th>4</th>\n",
       "      <td>eac_average_coassoc_matrix</td>\n",
       "      <td>[0, 0, 0, 0, 0, 0, 0, 0, 0, 0, 0, 0, 0, 0, 0, ...</td>\n",
       "      <td>6</td>\n",
       "      <td>0.165668</td>\n",
       "      <td>0.091730</td>\n",
       "      <td>0.200208</td>\n",
       "      <td>0.268626</td>\n",
       "      <td>0.236109</td>\n",
       "      <td>0.128800</td>\n",
       "      <td>0.275338</td>\n",
       "      <td>0.237406</td>\n",
       "      <td>0.128180</td>\n",
       "    </tr>\n",
       "  </tbody>\n",
       "</table>\n",
       "</div>"
      ],
      "text/plain": [
       "                       method  \\\n",
       "0  eac_average_coassoc_matrix   \n",
       "1  eac_average_coassoc_matrix   \n",
       "2  eac_average_coassoc_matrix   \n",
       "3  eac_average_coassoc_matrix   \n",
       "4  eac_average_coassoc_matrix   \n",
       "\n",
       "                                           partition  k  ari_mean  ari_median  \\\n",
       "0  [0, 0, 0, 0, 0, 0, 0, 0, 0, 0, 0, 0, 0, 0, 0, ...  2  0.226733    0.010542   \n",
       "1  [0, 0, 0, 0, 0, 0, 0, 0, 0, 0, 0, 0, 0, 0, 0, ...  3  0.242829    0.015836   \n",
       "2  [2, 2, 2, 2, 2, 2, 2, 2, 2, 2, 2, 2, 2, 2, 2, ...  4  0.260508    0.032736   \n",
       "3  [0, 0, 0, 0, 0, 0, 0, 0, 0, 0, 0, 0, 0, 0, 0, ...  5  0.260519    0.032744   \n",
       "4  [0, 0, 0, 0, 0, 0, 0, 0, 0, 0, 0, 0, 0, 0, 0, ...  6  0.165668    0.091730   \n",
       "\n",
       "    ari_std  ami_mean  ami_median   ami_std  nmi_mean  nmi_median   nmi_std  \n",
       "0  0.351673  0.238194    0.055225  0.325239  0.240435    0.057239  0.324510  \n",
       "1  0.359734  0.266882    0.080544  0.325173  0.270462    0.083603  0.323833  \n",
       "2  0.339536  0.296430    0.131213  0.279790  0.301305    0.135507  0.277920  \n",
       "3  0.339554  0.298287    0.132804  0.281202  0.303842    0.138038  0.278911  \n",
       "4  0.200208  0.268626    0.236109  0.128800  0.275338    0.237406  0.128180  "
      ]
     },
     "execution_count": 21,
     "metadata": {},
     "output_type": "execute_result"
    }
   ],
   "source": [
    "consensus_results.head()"
   ]
  },
  {
   "cell_type": "markdown",
   "metadata": {
    "papermill": {
     "duration": 0.033209,
     "end_time": "2021-01-13T02:01:43.394185",
     "exception": false,
     "start_time": "2021-01-13T02:01:43.360976",
     "status": "completed"
    },
    "tags": []
   },
   "source": [
    "## Testing"
   ]
  },
  {
   "cell_type": "code",
   "execution_count": 22,
   "metadata": {
    "execution": {
     "iopub.execute_input": "2021-01-13T02:01:43.464124Z",
     "iopub.status.busy": "2021-01-13T02:01:43.463758Z",
     "iopub.status.idle": "2021-01-13T02:01:43.474210Z",
     "shell.execute_reply": "2021-01-13T02:01:43.473836Z"
    },
    "papermill": {
     "duration": 0.046376,
     "end_time": "2021-01-13T02:01:43.474298",
     "exception": false,
     "start_time": "2021-01-13T02:01:43.427922",
     "status": "completed"
    },
    "tags": []
   },
   "outputs": [],
   "source": [
    "assert not consensus_results.isna().any().any()"
   ]
  },
  {
   "cell_type": "code",
   "execution_count": 23,
   "metadata": {
    "execution": {
     "iopub.execute_input": "2021-01-13T02:01:43.544385Z",
     "iopub.status.busy": "2021-01-13T02:01:43.544018Z",
     "iopub.status.idle": "2021-01-13T02:01:43.561825Z",
     "shell.execute_reply": "2021-01-13T02:01:43.561499Z"
    },
    "papermill": {
     "duration": 0.05408,
     "end_time": "2021-01-13T02:01:43.561912",
     "exception": false,
     "start_time": "2021-01-13T02:01:43.507832",
     "status": "completed"
    },
    "tags": []
   },
   "outputs": [
    {
     "data": {
      "text/plain": [
       "0       2\n",
       "1       3\n",
       "2       4\n",
       "3       5\n",
       "4       6\n",
       "       ..\n",
       "112    36\n",
       "113    37\n",
       "114    38\n",
       "115    39\n",
       "116    40\n",
       "Name: partition, Length: 117, dtype: int64"
      ]
     },
     "metadata": {},
     "output_type": "display_data"
    }
   ],
   "source": [
    "# check that the number of clusters in the partitions are the expected ones\n",
    "_real_k_values = consensus_results[\"partition\"].apply(lambda x: np.unique(x).shape[0])\n",
    "display(_real_k_values)\n",
    "assert np.all(consensus_results[\"k\"].values == _real_k_values.values)"
   ]
  },
  {
   "cell_type": "markdown",
   "metadata": {
    "papermill": {
     "duration": 0.036353,
     "end_time": "2021-01-13T02:01:43.633228",
     "exception": false,
     "start_time": "2021-01-13T02:01:43.596875",
     "status": "completed"
    },
    "tags": []
   },
   "source": [
    "## Save"
   ]
  },
  {
   "cell_type": "code",
   "execution_count": 24,
   "metadata": {
    "execution": {
     "iopub.execute_input": "2021-01-13T02:01:43.703856Z",
     "iopub.status.busy": "2021-01-13T02:01:43.703483Z",
     "iopub.status.idle": "2021-01-13T02:01:43.714318Z",
     "shell.execute_reply": "2021-01-13T02:01:43.713944Z"
    },
    "papermill": {
     "duration": 0.047473,
     "end_time": "2021-01-13T02:01:43.714404",
     "exception": false,
     "start_time": "2021-01-13T02:01:43.666931",
     "status": "completed"
    },
    "tags": []
   },
   "outputs": [
    {
     "data": {
      "text/plain": [
       "PosixPath('/home/miltondp/projects/labs/greenelab/phenoplier/base3/results/clustering/consensus_clustering/consensus_clustering_runs.pkl')"
      ]
     },
     "metadata": {},
     "output_type": "display_data"
    }
   ],
   "source": [
    "output_file = Path(RESULTS_DIR, \"consensus_clustering_runs.pkl\").resolve()\n",
    "display(output_file)"
   ]
  },
  {
   "cell_type": "code",
   "execution_count": 25,
   "metadata": {
    "execution": {
     "iopub.execute_input": "2021-01-13T02:01:43.785510Z",
     "iopub.status.busy": "2021-01-13T02:01:43.785137Z",
     "iopub.status.idle": "2021-01-13T02:01:43.800056Z",
     "shell.execute_reply": "2021-01-13T02:01:43.799675Z"
    },
    "papermill": {
     "duration": 0.050862,
     "end_time": "2021-01-13T02:01:43.800143",
     "exception": false,
     "start_time": "2021-01-13T02:01:43.749281",
     "status": "completed"
    },
    "tags": []
   },
   "outputs": [],
   "source": [
    "consensus_results.to_pickle(output_file)"
   ]
  },
  {
   "cell_type": "code",
   "execution_count": null,
   "metadata": {
    "papermill": {
     "duration": 0.03336,
     "end_time": "2021-01-13T02:01:43.867518",
     "exception": false,
     "start_time": "2021-01-13T02:01:43.834158",
     "status": "completed"
    },
    "tags": []
   },
   "outputs": [],
   "source": []
  }
 ],
 "metadata": {
  "jupytext": {
   "cell_metadata_filter": "all,-execution,-papermill",
   "formats": "ipynb,py//py:percent"
  },
  "kernelspec": {
   "display_name": "Python 3",
   "language": "python",
   "name": "python3"
  },
  "language_info": {
   "codemirror_mode": {
    "name": "ipython",
    "version": 3
   },
   "file_extension": ".py",
   "mimetype": "text/x-python",
   "name": "python",
   "nbconvert_exporter": "python",
   "pygments_lexer": "ipython3",
   "version": "3.8.6"
  },
  "papermill": {
   "default_parameters": {},
   "duration": 1361.999354,
   "end_time": "2021-01-13T02:01:44.206665",
   "environment_variables": {},
   "exception": null,
   "input_path": "15_cluster_analysis/020_01-combine_ensemble.ipynb",
   "output_path": "15_cluster_analysis/020_01-combine_ensemble.run.ipynb",
   "parameters": {},
   "start_time": "2021-01-13T01:39:02.207311",
   "version": "2.2.2"
  },
  "toc-autonumbering": true,
  "toc-showcode": false,
  "toc-showmarkdowntxt": false,
  "toc-showtags": false
 },
 "nbformat": 4,
 "nbformat_minor": 4
}
