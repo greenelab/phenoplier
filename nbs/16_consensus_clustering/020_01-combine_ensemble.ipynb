{
 "cells": [
  {
   "cell_type": "markdown",
   "metadata": {
    "papermill": {
     "duration": 0.042159,
     "end_time": "2021-01-13T01:39:03.034400",
     "exception": false,
     "start_time": "2021-01-13T01:39:02.992241",
     "status": "completed"
    },
    "tags": []
   },
   "source": [
    "# Description"
   ]
  },
  {
   "cell_type": "markdown",
   "metadata": {
    "papermill": {
     "duration": 0.011469,
     "end_time": "2021-01-13T01:39:03.061333",
     "exception": false,
     "start_time": "2021-01-13T01:39:03.049864",
     "status": "completed"
    },
    "tags": []
   },
   "source": [
    "It combines all clustering solutions generated into a single consolidated solution using consensus clustering."
   ]
  },
  {
   "cell_type": "markdown",
   "metadata": {
    "papermill": {
     "duration": 0.011335,
     "end_time": "2021-01-13T01:39:03.083891",
     "exception": false,
     "start_time": "2021-01-13T01:39:03.072556",
     "status": "completed"
    },
    "tags": []
   },
   "source": [
    "# Environment variables"
   ]
  },
  {
   "cell_type": "code",
   "execution_count": 1,
   "metadata": {
    "papermill": {
     "duration": 0.02126,
     "end_time": "2021-01-13T01:39:03.116519",
     "exception": false,
     "start_time": "2021-01-13T01:39:03.095259",
     "status": "completed"
    },
    "tags": []
   },
   "outputs": [
    {
     "data": {
      "text/plain": [
       "1"
      ]
     },
     "metadata": {},
     "output_type": "display_data"
    }
   ],
   "source": [
    "from IPython.display import display\n",
    "\n",
    "# set numpy n_jobs to 1, since I'll be using n_jobs later\n",
    "NUMPY_N_JOBS = 1\n",
    "display(NUMPY_N_JOBS)"
   ]
  },
  {
   "cell_type": "code",
   "execution_count": 2,
   "metadata": {
    "papermill": {
     "duration": 0.020231,
     "end_time": "2021-01-13T01:39:03.148718",
     "exception": false,
     "start_time": "2021-01-13T01:39:03.128487",
     "status": "completed"
    },
    "tags": []
   },
   "outputs": [
    {
     "name": "stdout",
     "output_type": "stream",
     "text": [
      "env: MKL_NUM_THREADS=1\n",
      "env: OPEN_BLAS_NUM_THREADS=1\n",
      "env: NUMEXPR_NUM_THREADS=1\n",
      "env: OMP_NUM_THREADS=1\n"
     ]
    }
   ],
   "source": [
    "%env MKL_NUM_THREADS=$NUMPY_N_JOBS\n",
    "%env OPEN_BLAS_NUM_THREADS=$NUMPY_N_JOBS\n",
    "%env NUMEXPR_NUM_THREADS=$NUMPY_N_JOBS\n",
    "%env OMP_NUM_THREADS=$NUMPY_N_JOBS"
   ]
  },
  {
   "cell_type": "markdown",
   "metadata": {
    "papermill": {
     "duration": 0.012138,
     "end_time": "2021-01-13T01:39:03.173344",
     "exception": false,
     "start_time": "2021-01-13T01:39:03.161206",
     "status": "completed"
    },
    "tags": []
   },
   "source": [
    "# Modules loading"
   ]
  },
  {
   "cell_type": "code",
   "execution_count": 3,
   "metadata": {
    "papermill": {
     "duration": 0.022885,
     "end_time": "2021-01-13T01:39:03.208408",
     "exception": false,
     "start_time": "2021-01-13T01:39:03.185523",
     "status": "completed"
    },
    "tags": []
   },
   "outputs": [],
   "source": [
    "%load_ext autoreload\n",
    "%autoreload 2"
   ]
  },
  {
   "cell_type": "code",
   "execution_count": 4,
   "metadata": {
    "papermill": {
     "duration": 0.185403,
     "end_time": "2021-01-13T01:39:03.406124",
     "exception": false,
     "start_time": "2021-01-13T01:39:03.220721",
     "status": "completed"
    },
    "tags": []
   },
   "outputs": [],
   "source": [
    "from pathlib import Path\n",
    "\n",
    "import numpy as np\n",
    "import pandas as pd\n",
    "\n",
    "import conf"
   ]
  },
  {
   "cell_type": "markdown",
   "metadata": {
    "papermill": {
     "duration": 0.011718,
     "end_time": "2021-01-13T01:39:03.430341",
     "exception": false,
     "start_time": "2021-01-13T01:39:03.418623",
     "status": "completed"
    },
    "tags": []
   },
   "source": [
    "# Settings"
   ]
  },
  {
   "cell_type": "code",
   "execution_count": 5,
   "metadata": {
    "papermill": {
     "duration": 0.021726,
     "end_time": "2021-01-13T01:39:03.463793",
     "exception": false,
     "start_time": "2021-01-13T01:39:03.442067",
     "status": "completed"
    },
    "tags": []
   },
   "outputs": [],
   "source": [
    "RANDOM_GENERATOR = np.random.default_rng(12345)"
   ]
  },
  {
   "cell_type": "markdown",
   "metadata": {
    "papermill": {
     "duration": 0.01202,
     "end_time": "2021-01-13T01:39:03.487944",
     "exception": false,
     "start_time": "2021-01-13T01:39:03.475924",
     "status": "completed"
    },
    "tags": []
   },
   "source": [
    "## Consensus clustering"
   ]
  },
  {
   "cell_type": "code",
   "execution_count": 6,
   "metadata": {
    "papermill": {
     "duration": 0.022559,
     "end_time": "2021-01-13T01:39:03.522530",
     "exception": false,
     "start_time": "2021-01-13T01:39:03.499971",
     "status": "completed"
    },
    "tags": []
   },
   "outputs": [
    {
     "data": {
      "text/plain": [
       "{'K_MIN': 2, 'K_MAX': 10}"
      ]
     },
     "metadata": {},
     "output_type": "display_data"
    }
   ],
   "source": [
    "CLUSTERING_OPTIONS = {}\n",
    "\n",
    "CLUSTERING_OPTIONS[\"K_MIN\"] = 2\n",
    "CLUSTERING_OPTIONS[\"K_MAX\"] = 40\n",
    "\n",
    "display(CLUSTERING_OPTIONS)"
   ]
  },
  {
   "cell_type": "code",
   "execution_count": 7,
   "metadata": {
    "papermill": {
     "duration": 0.022417,
     "end_time": "2021-01-13T01:39:03.557461",
     "exception": false,
     "start_time": "2021-01-13T01:39:03.535044",
     "status": "completed"
    },
    "tags": []
   },
   "outputs": [
    {
     "data": {
      "text/plain": [
       "PosixPath('/media/miltondp/Elements1/projects/phenoplier/results/clustering/consensus_clustering')"
      ]
     },
     "metadata": {},
     "output_type": "display_data"
    }
   ],
   "source": [
    "# output dir for this notebook\n",
    "RESULTS_DIR = Path(conf.RESULTS[\"CLUSTERING_DIR\"], \"consensus_clustering\").resolve()\n",
    "RESULTS_DIR.mkdir(parents=True, exist_ok=True)\n",
    "\n",
    "display(RESULTS_DIR)"
   ]
  },
  {
   "cell_type": "markdown",
   "metadata": {
    "papermill": {
     "duration": 0.012171,
     "end_time": "2021-01-13T01:39:03.582108",
     "exception": false,
     "start_time": "2021-01-13T01:39:03.569937",
     "status": "completed"
    },
    "tags": []
   },
   "source": [
    "# Load ensemble"
   ]
  },
  {
   "cell_type": "code",
   "execution_count": 8,
   "metadata": {
    "papermill": {
     "duration": 0.023065,
     "end_time": "2021-01-13T01:39:03.617324",
     "exception": false,
     "start_time": "2021-01-13T01:39:03.594259",
     "status": "completed"
    },
    "tags": []
   },
   "outputs": [
    {
     "data": {
      "text/plain": [
       "PosixPath('/media/miltondp/Elements1/projects/phenoplier/results/clustering/consensus_clustering/ensemble.npy')"
      ]
     },
     "metadata": {},
     "output_type": "display_data"
    }
   ],
   "source": [
    "output_file = Path(RESULTS_DIR, \"ensemble.npy\").resolve()\n",
    "display(output_file)"
   ]
  },
  {
   "cell_type": "code",
   "execution_count": 9,
   "metadata": {
    "papermill": {
     "duration": 0.050824,
     "end_time": "2021-01-13T01:39:03.681201",
     "exception": false,
     "start_time": "2021-01-13T01:39:03.630377",
     "status": "completed"
    },
    "tags": []
   },
   "outputs": [],
   "source": [
    "full_ensemble = np.load(output_file)"
   ]
  },
  {
   "cell_type": "code",
   "execution_count": 10,
   "metadata": {
    "papermill": {
     "duration": 0.024829,
     "end_time": "2021-01-13T01:39:03.721247",
     "exception": false,
     "start_time": "2021-01-13T01:39:03.696418",
     "status": "completed"
    },
    "tags": []
   },
   "outputs": [
    {
     "data": {
      "text/plain": [
       "(4428, 3749)"
      ]
     },
     "metadata": {},
     "output_type": "display_data"
    }
   ],
   "source": [
    "display(full_ensemble.shape)"
   ]
  },
  {
   "cell_type": "markdown",
   "metadata": {
    "papermill": {
     "duration": 0.013649,
     "end_time": "2021-01-13T01:39:03.748992",
     "exception": false,
     "start_time": "2021-01-13T01:39:03.735343",
     "status": "completed"
    },
    "tags": []
   },
   "source": [
    "# Load ensemble coassociation distance matrix"
   ]
  },
  {
   "cell_type": "code",
   "execution_count": 11,
   "metadata": {
    "papermill": {
     "duration": 0.022823,
     "end_time": "2021-01-13T01:39:03.784383",
     "exception": false,
     "start_time": "2021-01-13T01:39:03.761560",
     "status": "completed"
    },
    "tags": []
   },
   "outputs": [
    {
     "data": {
      "text/plain": [
       "PosixPath('/media/miltondp/Elements1/projects/phenoplier/results/clustering/consensus_clustering/ensemble_coassoc_matrix.npy')"
      ]
     },
     "metadata": {},
     "output_type": "display_data"
    }
   ],
   "source": [
    "output_file = Path(RESULTS_DIR, \"ensemble_coassoc_matrix.npy\").resolve()\n",
    "display(output_file)"
   ]
  },
  {
   "cell_type": "code",
   "execution_count": 12,
   "metadata": {
    "papermill": {
     "duration": 0.04646,
     "end_time": "2021-01-13T01:39:03.844347",
     "exception": false,
     "start_time": "2021-01-13T01:39:03.797887",
     "status": "completed"
    },
    "tags": []
   },
   "outputs": [],
   "source": [
    "ensemble_coassoc_matrix = np.load(output_file)"
   ]
  },
  {
   "cell_type": "code",
   "execution_count": 13,
   "metadata": {
    "papermill": {
     "duration": 0.026226,
     "end_time": "2021-01-13T01:39:03.886883",
     "exception": false,
     "start_time": "2021-01-13T01:39:03.860657",
     "status": "completed"
    },
    "tags": []
   },
   "outputs": [
    {
     "data": {
      "text/plain": [
       "(3749, 3749)"
      ]
     },
     "metadata": {},
     "output_type": "display_data"
    }
   ],
   "source": [
    "display(ensemble_coassoc_matrix.shape)"
   ]
  },
  {
   "cell_type": "code",
   "execution_count": 14,
   "metadata": {
    "papermill": {
     "duration": 0.024797,
     "end_time": "2021-01-13T01:39:03.926236",
     "exception": false,
     "start_time": "2021-01-13T01:39:03.901439",
     "status": "completed"
    },
    "tags": []
   },
   "outputs": [
    {
     "data": {
      "text/plain": [
       "array([[0.        , 0.05615942, 0.05389493, ..., 0.59986413, 0.66171429,\n",
       "        0.66757246],\n",
       "       [0.05615942, 0.        , 0.02740036, ..., 0.60122283, 0.65988571,\n",
       "        0.66530797],\n",
       "       [0.05389493, 0.02740036, 0.        , ..., 0.59782609, 0.66102857,\n",
       "        0.66281703],\n",
       "       ...,\n",
       "       [0.59986413, 0.60122283, 0.59782609, ..., 0.        , 0.6699339 ,\n",
       "        0.66531165],\n",
       "       [0.66171429, 0.65988571, 0.66102857, ..., 0.6699339 , 0.        ,\n",
       "        0.58650558],\n",
       "       [0.66757246, 0.66530797, 0.66281703, ..., 0.66531165, 0.58650558,\n",
       "        0.        ]])"
      ]
     },
     "metadata": {},
     "output_type": "display_data"
    }
   ],
   "source": [
    "display(ensemble_coassoc_matrix)"
   ]
  },
  {
   "cell_type": "markdown",
   "metadata": {
    "papermill": {
     "duration": 0.014472,
     "end_time": "2021-01-13T01:39:03.955442",
     "exception": false,
     "start_time": "2021-01-13T01:39:03.940970",
     "status": "completed"
    },
    "tags": []
   },
   "source": [
    "# Consensus clustering"
   ]
  },
  {
   "cell_type": "code",
   "execution_count": 15,
   "metadata": {
    "lines_to_next_cell": 2,
    "papermill": {
     "duration": 0.337651,
     "end_time": "2021-01-13T01:39:04.306323",
     "exception": false,
     "start_time": "2021-01-13T01:39:03.968672",
     "status": "completed"
    },
    "tags": []
   },
   "outputs": [],
   "source": [
    "from concurrent.futures import ProcessPoolExecutor, as_completed\n",
    "\n",
    "from tqdm import tqdm\n",
    "\n",
    "from clustering.ensembles.utils import (\n",
    "    run_method_and_compute_agreement,\n",
    ")\n",
    "from clustering.ensembles.eac import (\n",
    "    eac_single_coassoc_matrix,\n",
    "    eac_complete_coassoc_matrix,\n",
    "    eac_average_coassoc_matrix,\n",
    ")\n",
    "from clustering.ensembles.spectral import scc"
   ]
  },
  {
   "cell_type": "markdown",
   "metadata": {},
   "source": [
    "Define spectral consensus clustering methods with delta values found in pre-analysis:"
   ]
  },
  {
   "cell_type": "code",
   "execution_count": 16,
   "metadata": {},
   "outputs": [],
   "source": [
    "def scc_020(coassoc_distance_matrix, k):\n",
    "    return scc(coassoc_distance_matrix, k, delta=0.20, ensemble_is_coassoc_matrix=True)\n",
    "\n",
    "\n",
    "def scc_025(coassoc_distance_matrix, k):\n",
    "    return scc(coassoc_distance_matrix, k, delta=0.25, ensemble_is_coassoc_matrix=True)\n",
    "\n",
    "\n",
    "def scc_030(coassoc_distance_matrix, k):\n",
    "    return scc(coassoc_distance_matrix, k, delta=0.30, ensemble_is_coassoc_matrix=True)\n",
    "\n",
    "\n",
    "def scc_050(coassoc_distance_matrix, k):\n",
    "    return scc(coassoc_distance_matrix, k, delta=0.50, ensemble_is_coassoc_matrix=True)"
   ]
  },
  {
   "cell_type": "code",
   "execution_count": 17,
   "metadata": {
    "papermill": {
     "duration": 0.026465,
     "end_time": "2021-01-13T01:39:04.346200",
     "exception": false,
     "start_time": "2021-01-13T01:39:04.319735",
     "status": "completed"
    },
    "tags": []
   },
   "outputs": [
    {
     "data": {
      "text/plain": [
       "{<function clustering.ensembles.eac.eac_single_coassoc_matrix(coassoc_matrix, k)>,\n",
       " <function __main__.scc_020(coassoc_distance_matrix, k)>}"
      ]
     },
     "metadata": {},
     "output_type": "display_data"
    }
   ],
   "source": [
    "all_consensus_methods = set(\n",
    "    (\n",
    "        eac_single_coassoc_matrix,\n",
    "        eac_complete_coassoc_matrix,\n",
    "        eac_average_coassoc_matrix,\n",
    "        scc_020,\n",
    "        scc_025,\n",
    "        scc_030,\n",
    "        scc_050,\n",
    "    )\n",
    ")\n",
    "display(all_consensus_methods)"
   ]
  },
  {
   "cell_type": "code",
   "execution_count": 18,
   "metadata": {
    "papermill": {
     "duration": 1358.636131,
     "end_time": "2021-01-13T02:01:42.996327",
     "exception": false,
     "start_time": "2021-01-13T01:39:04.360196",
     "status": "completed"
    },
    "tags": []
   },
   "outputs": [
    {
     "name": "stderr",
     "output_type": "stream",
     "text": [
      "100%|███████████████████████████████████████████████████████████████| 18/18 [03:07<00:00, 10.39s/it]\n"
     ]
    }
   ],
   "source": [
    "consensus_results = []\n",
    "\n",
    "with ProcessPoolExecutor(max_workers=conf.GENERAL[\"N_JOBS\"]) as executor:\n",
    "    tasks = {\n",
    "        executor.submit(\n",
    "            run_method_and_compute_agreement,\n",
    "            m,\n",
    "            ensemble_coassoc_matrix,\n",
    "            full_ensemble,\n",
    "            k,\n",
    "        ): (m.__name__, k)\n",
    "        for m in all_consensus_methods\n",
    "        for k in range(CLUSTERING_OPTIONS[\"K_MIN\"], CLUSTERING_OPTIONS[\"K_MAX\"] + 1)\n",
    "    }\n",
    "\n",
    "    for future in tqdm(as_completed(tasks), total=len(tasks), disable=False, ncols=100):\n",
    "        method_name, k = tasks[future]\n",
    "        part, performance_values = future.result()\n",
    "\n",
    "        method_results = {\n",
    "            \"method\": method_name,\n",
    "            \"partition\": part,\n",
    "            \"k\": k,\n",
    "        }\n",
    "        method_results.update(performance_values)\n",
    "\n",
    "        consensus_results.append(method_results)"
   ]
  },
  {
   "cell_type": "code",
   "execution_count": 19,
   "metadata": {
    "papermill": {
     "duration": 0.047192,
     "end_time": "2021-01-13T02:01:43.156053",
     "exception": false,
     "start_time": "2021-01-13T02:01:43.108861",
     "status": "completed"
    },
    "tags": []
   },
   "outputs": [],
   "source": [
    "consensus_results = pd.DataFrame(consensus_results)"
   ]
  },
  {
   "cell_type": "code",
   "execution_count": 20,
   "metadata": {
    "papermill": {
     "duration": 0.04564,
     "end_time": "2021-01-13T02:01:43.235016",
     "exception": false,
     "start_time": "2021-01-13T02:01:43.189376",
     "status": "completed"
    },
    "tags": []
   },
   "outputs": [
    {
     "data": {
      "text/plain": [
       "(18, 12)"
      ]
     },
     "metadata": {},
     "output_type": "display_data"
    }
   ],
   "source": [
    "display(consensus_results.shape)"
   ]
  },
  {
   "cell_type": "code",
   "execution_count": 21,
   "metadata": {
    "papermill": {
     "duration": 0.059056,
     "end_time": "2021-01-13T02:01:43.327150",
     "exception": false,
     "start_time": "2021-01-13T02:01:43.268094",
     "status": "completed"
    },
    "tags": []
   },
   "outputs": [
    {
     "data": {
      "text/html": [
       "<div>\n",
       "<style scoped>\n",
       "    .dataframe tbody tr th:only-of-type {\n",
       "        vertical-align: middle;\n",
       "    }\n",
       "\n",
       "    .dataframe tbody tr th {\n",
       "        vertical-align: top;\n",
       "    }\n",
       "\n",
       "    .dataframe thead th {\n",
       "        text-align: right;\n",
       "    }\n",
       "</style>\n",
       "<table border=\"1\" class=\"dataframe\">\n",
       "  <thead>\n",
       "    <tr style=\"text-align: right;\">\n",
       "      <th></th>\n",
       "      <th>method</th>\n",
       "      <th>partition</th>\n",
       "      <th>k</th>\n",
       "      <th>ari_mean</th>\n",
       "      <th>ari_median</th>\n",
       "      <th>ari_std</th>\n",
       "      <th>ami_mean</th>\n",
       "      <th>ami_median</th>\n",
       "      <th>ami_std</th>\n",
       "      <th>nmi_mean</th>\n",
       "      <th>nmi_median</th>\n",
       "      <th>nmi_std</th>\n",
       "    </tr>\n",
       "  </thead>\n",
       "  <tbody>\n",
       "    <tr>\n",
       "      <th>0</th>\n",
       "      <td>scc_020</td>\n",
       "      <td>[0, 0, 0, 0, 0, 0, 0, 0, 0, 0, 0, 0, 0, 0, 0, ...</td>\n",
       "      <td>2</td>\n",
       "      <td>0.226733</td>\n",
       "      <td>0.010542</td>\n",
       "      <td>0.351673</td>\n",
       "      <td>0.238194</td>\n",
       "      <td>0.055225</td>\n",
       "      <td>0.325239</td>\n",
       "      <td>0.240435</td>\n",
       "      <td>0.057239</td>\n",
       "      <td>0.324510</td>\n",
       "    </tr>\n",
       "    <tr>\n",
       "      <th>1</th>\n",
       "      <td>scc_020</td>\n",
       "      <td>[0, 0, 0, 0, 0, 0, 0, 0, 0, 0, 0, 0, 0, 0, 0, ...</td>\n",
       "      <td>3</td>\n",
       "      <td>0.236212</td>\n",
       "      <td>0.013704</td>\n",
       "      <td>0.354120</td>\n",
       "      <td>0.256570</td>\n",
       "      <td>0.071352</td>\n",
       "      <td>0.322393</td>\n",
       "      <td>0.259975</td>\n",
       "      <td>0.074253</td>\n",
       "      <td>0.321140</td>\n",
       "    </tr>\n",
       "    <tr>\n",
       "      <th>2</th>\n",
       "      <td>scc_020</td>\n",
       "      <td>[0, 0, 0, 0, 0, 0, 0, 0, 0, 0, 0, 0, 0, 0, 0, ...</td>\n",
       "      <td>4</td>\n",
       "      <td>0.242846</td>\n",
       "      <td>0.015832</td>\n",
       "      <td>0.359751</td>\n",
       "      <td>0.269168</td>\n",
       "      <td>0.082023</td>\n",
       "      <td>0.326126</td>\n",
       "      <td>0.273504</td>\n",
       "      <td>0.086365</td>\n",
       "      <td>0.324380</td>\n",
       "    </tr>\n",
       "    <tr>\n",
       "      <th>3</th>\n",
       "      <td>scc_020</td>\n",
       "      <td>[0, 0, 0, 0, 0, 0, 0, 0, 0, 0, 0, 0, 0, 0, 0, ...</td>\n",
       "      <td>5</td>\n",
       "      <td>0.178331</td>\n",
       "      <td>0.064769</td>\n",
       "      <td>0.199673</td>\n",
       "      <td>0.259127</td>\n",
       "      <td>0.204489</td>\n",
       "      <td>0.137415</td>\n",
       "      <td>0.265013</td>\n",
       "      <td>0.209696</td>\n",
       "      <td>0.136413</td>\n",
       "    </tr>\n",
       "    <tr>\n",
       "      <th>4</th>\n",
       "      <td>scc_020</td>\n",
       "      <td>[0, 0, 0, 0, 0, 0, 0, 0, 0, 0, 0, 0, 0, 0, 0, ...</td>\n",
       "      <td>6</td>\n",
       "      <td>0.177461</td>\n",
       "      <td>0.064577</td>\n",
       "      <td>0.198939</td>\n",
       "      <td>0.259258</td>\n",
       "      <td>0.205348</td>\n",
       "      <td>0.138692</td>\n",
       "      <td>0.265991</td>\n",
       "      <td>0.212497</td>\n",
       "      <td>0.137345</td>\n",
       "    </tr>\n",
       "  </tbody>\n",
       "</table>\n",
       "</div>"
      ],
      "text/plain": [
       "    method                                          partition  k  ari_mean  \\\n",
       "0  scc_020  [0, 0, 0, 0, 0, 0, 0, 0, 0, 0, 0, 0, 0, 0, 0, ...  2  0.226733   \n",
       "1  scc_020  [0, 0, 0, 0, 0, 0, 0, 0, 0, 0, 0, 0, 0, 0, 0, ...  3  0.236212   \n",
       "2  scc_020  [0, 0, 0, 0, 0, 0, 0, 0, 0, 0, 0, 0, 0, 0, 0, ...  4  0.242846   \n",
       "3  scc_020  [0, 0, 0, 0, 0, 0, 0, 0, 0, 0, 0, 0, 0, 0, 0, ...  5  0.178331   \n",
       "4  scc_020  [0, 0, 0, 0, 0, 0, 0, 0, 0, 0, 0, 0, 0, 0, 0, ...  6  0.177461   \n",
       "\n",
       "   ari_median   ari_std  ami_mean  ami_median   ami_std  nmi_mean  nmi_median  \\\n",
       "0    0.010542  0.351673  0.238194    0.055225  0.325239  0.240435    0.057239   \n",
       "1    0.013704  0.354120  0.256570    0.071352  0.322393  0.259975    0.074253   \n",
       "2    0.015832  0.359751  0.269168    0.082023  0.326126  0.273504    0.086365   \n",
       "3    0.064769  0.199673  0.259127    0.204489  0.137415  0.265013    0.209696   \n",
       "4    0.064577  0.198939  0.259258    0.205348  0.138692  0.265991    0.212497   \n",
       "\n",
       "    nmi_std  \n",
       "0  0.324510  \n",
       "1  0.321140  \n",
       "2  0.324380  \n",
       "3  0.136413  \n",
       "4  0.137345  "
      ]
     },
     "execution_count": 21,
     "metadata": {},
     "output_type": "execute_result"
    }
   ],
   "source": [
    "consensus_results.head()"
   ]
  },
  {
   "cell_type": "markdown",
   "metadata": {
    "papermill": {
     "duration": 0.033209,
     "end_time": "2021-01-13T02:01:43.394185",
     "exception": false,
     "start_time": "2021-01-13T02:01:43.360976",
     "status": "completed"
    },
    "tags": []
   },
   "source": [
    "## Testing"
   ]
  },
  {
   "cell_type": "code",
   "execution_count": 22,
   "metadata": {
    "papermill": {
     "duration": 0.046376,
     "end_time": "2021-01-13T02:01:43.474298",
     "exception": false,
     "start_time": "2021-01-13T02:01:43.427922",
     "status": "completed"
    },
    "tags": []
   },
   "outputs": [],
   "source": [
    "assert not consensus_results.isna().any().any()"
   ]
  },
  {
   "cell_type": "code",
   "execution_count": 23,
   "metadata": {
    "papermill": {
     "duration": 0.05408,
     "end_time": "2021-01-13T02:01:43.561912",
     "exception": false,
     "start_time": "2021-01-13T02:01:43.507832",
     "status": "completed"
    },
    "tags": []
   },
   "outputs": [
    {
     "data": {
      "text/plain": [
       "0      2\n",
       "1      3\n",
       "2      4\n",
       "3      5\n",
       "4      6\n",
       "5      7\n",
       "6      8\n",
       "7      9\n",
       "8      2\n",
       "9      3\n",
       "10     4\n",
       "11    10\n",
       "12     5\n",
       "13     6\n",
       "14     7\n",
       "15     8\n",
       "16     9\n",
       "17    10\n",
       "Name: partition, dtype: int64"
      ]
     },
     "metadata": {},
     "output_type": "display_data"
    }
   ],
   "source": [
    "# check that the number of clusters in the partitions are the expected ones\n",
    "_real_k_values = consensus_results[\"partition\"].apply(lambda x: np.unique(x).shape[0])\n",
    "display(_real_k_values)\n",
    "assert np.all(consensus_results[\"k\"].values == _real_k_values.values)"
   ]
  },
  {
   "cell_type": "markdown",
   "metadata": {
    "papermill": {
     "duration": 0.036353,
     "end_time": "2021-01-13T02:01:43.633228",
     "exception": false,
     "start_time": "2021-01-13T02:01:43.596875",
     "status": "completed"
    },
    "tags": []
   },
   "source": [
    "## Save"
   ]
  },
  {
   "cell_type": "code",
   "execution_count": 24,
   "metadata": {
    "papermill": {
     "duration": 0.047473,
     "end_time": "2021-01-13T02:01:43.714404",
     "exception": false,
     "start_time": "2021-01-13T02:01:43.666931",
     "status": "completed"
    },
    "tags": []
   },
   "outputs": [
    {
     "data": {
      "text/plain": [
       "PosixPath('/media/miltondp/Elements1/projects/phenoplier/results/clustering/consensus_clustering/consensus_clustering_runs.pkl')"
      ]
     },
     "metadata": {},
     "output_type": "display_data"
    }
   ],
   "source": [
    "output_file = Path(RESULTS_DIR, \"consensus_clustering_runs.pkl\").resolve()\n",
    "display(output_file)"
   ]
  },
  {
   "cell_type": "code",
   "execution_count": 25,
   "metadata": {
    "papermill": {
     "duration": 0.050862,
     "end_time": "2021-01-13T02:01:43.800143",
     "exception": false,
     "start_time": "2021-01-13T02:01:43.749281",
     "status": "completed"
    },
    "tags": []
   },
   "outputs": [],
   "source": [
    "consensus_results.to_pickle(output_file)"
   ]
  },
  {
   "cell_type": "code",
   "execution_count": null,
   "metadata": {
    "papermill": {
     "duration": 0.03336,
     "end_time": "2021-01-13T02:01:43.867518",
     "exception": false,
     "start_time": "2021-01-13T02:01:43.834158",
     "status": "completed"
    },
    "tags": []
   },
   "outputs": [],
   "source": []
  }
 ],
 "metadata": {
  "jupytext": {
   "cell_metadata_filter": "all,-execution,-papermill",
   "formats": "ipynb,py//py:percent"
  },
  "kernelspec": {
   "display_name": "Python 3",
   "language": "python",
   "name": "python3"
  },
  "language_info": {
   "codemirror_mode": {
    "name": "ipython",
    "version": 3
   },
   "file_extension": ".py",
   "mimetype": "text/x-python",
   "name": "python",
   "nbconvert_exporter": "python",
   "pygments_lexer": "ipython3",
   "version": "3.8.6"
  },
  "papermill": {
   "default_parameters": {},
   "duration": 1361.999354,
   "end_time": "2021-01-13T02:01:44.206665",
   "environment_variables": {},
   "exception": null,
   "input_path": "15_cluster_analysis/020_01-combine_ensemble.ipynb",
   "output_path": "15_cluster_analysis/020_01-combine_ensemble.run.ipynb",
   "parameters": {},
   "start_time": "2021-01-13T01:39:02.207311",
   "version": "2.2.2"
  },
  "toc-autonumbering": true,
  "toc-showcode": false,
  "toc-showmarkdowntxt": false,
  "toc-showtags": false
 },
 "nbformat": 4,
 "nbformat_minor": 4
}
