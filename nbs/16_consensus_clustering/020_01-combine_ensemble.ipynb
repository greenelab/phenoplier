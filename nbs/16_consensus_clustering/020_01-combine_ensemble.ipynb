{
 "cells": [
  {
   "cell_type": "markdown",
   "metadata": {
    "papermill": {
     "duration": 0.046106,
     "end_time": "2021-02-15T22:41:24.710123",
     "exception": false,
     "start_time": "2021-02-15T22:41:24.664017",
     "status": "completed"
    },
    "tags": []
   },
   "source": [
    "# Description"
   ]
  },
  {
   "cell_type": "markdown",
   "metadata": {
    "papermill": {
     "duration": 0.011737,
     "end_time": "2021-02-15T22:41:24.737617",
     "exception": false,
     "start_time": "2021-02-15T22:41:24.725880",
     "status": "completed"
    },
    "tags": []
   },
   "source": [
    "It combines all clustering solutions generated into a single consolidated solution using consensus clustering."
   ]
  },
  {
   "cell_type": "markdown",
   "metadata": {
    "papermill": {
     "duration": 0.011739,
     "end_time": "2021-02-15T22:41:24.761263",
     "exception": false,
     "start_time": "2021-02-15T22:41:24.749524",
     "status": "completed"
    },
    "tags": []
   },
   "source": [
    "# Environment variables"
   ]
  },
  {
   "cell_type": "code",
   "execution_count": 1,
   "metadata": {
    "execution": {
     "iopub.execute_input": "2021-02-15T22:41:24.791789Z",
     "iopub.status.busy": "2021-02-15T22:41:24.791232Z",
     "iopub.status.idle": "2021-02-15T22:41:24.794293Z",
     "shell.execute_reply": "2021-02-15T22:41:24.793915Z"
    },
    "papermill": {
     "duration": 0.021374,
     "end_time": "2021-02-15T22:41:24.794416",
     "exception": false,
     "start_time": "2021-02-15T22:41:24.773042",
     "status": "completed"
    },
    "tags": []
   },
   "outputs": [
    {
     "data": {
      "text/plain": [
       "1"
      ]
     },
     "metadata": {},
     "output_type": "display_data"
    }
   ],
   "source": [
    "from IPython.display import display\n",
    "\n",
    "# set numpy n_jobs to 1, since I'll be using n_jobs later\n",
    "NUMPY_N_JOBS = 1\n",
    "display(NUMPY_N_JOBS)"
   ]
  },
  {
   "cell_type": "code",
   "execution_count": 2,
   "metadata": {
    "execution": {
     "iopub.execute_input": "2021-02-15T22:41:24.823063Z",
     "iopub.status.busy": "2021-02-15T22:41:24.822679Z",
     "iopub.status.idle": "2021-02-15T22:41:24.824832Z",
     "shell.execute_reply": "2021-02-15T22:41:24.824433Z"
    },
    "papermill": {
     "duration": 0.018343,
     "end_time": "2021-02-15T22:41:24.824920",
     "exception": false,
     "start_time": "2021-02-15T22:41:24.806577",
     "status": "completed"
    },
    "tags": []
   },
   "outputs": [
    {
     "name": "stdout",
     "output_type": "stream",
     "text": [
      "env: MKL_NUM_THREADS=1\n",
      "env: OPEN_BLAS_NUM_THREADS=1\n",
      "env: NUMEXPR_NUM_THREADS=1\n",
      "env: OMP_NUM_THREADS=1\n"
     ]
    }
   ],
   "source": [
    "%env MKL_NUM_THREADS=$NUMPY_N_JOBS\n",
    "%env OPEN_BLAS_NUM_THREADS=$NUMPY_N_JOBS\n",
    "%env NUMEXPR_NUM_THREADS=$NUMPY_N_JOBS\n",
    "%env OMP_NUM_THREADS=$NUMPY_N_JOBS"
   ]
  },
  {
   "cell_type": "markdown",
   "metadata": {
    "papermill": {
     "duration": 0.012356,
     "end_time": "2021-02-15T22:41:24.849733",
     "exception": false,
     "start_time": "2021-02-15T22:41:24.837377",
     "status": "completed"
    },
    "tags": []
   },
   "source": [
    "# Modules loading"
   ]
  },
  {
   "cell_type": "code",
   "execution_count": 3,
   "metadata": {
    "execution": {
     "iopub.execute_input": "2021-02-15T22:41:24.876403Z",
     "iopub.status.busy": "2021-02-15T22:41:24.876036Z",
     "iopub.status.idle": "2021-02-15T22:41:24.884075Z",
     "shell.execute_reply": "2021-02-15T22:41:24.883706Z"
    },
    "papermill": {
     "duration": 0.022606,
     "end_time": "2021-02-15T22:41:24.884163",
     "exception": false,
     "start_time": "2021-02-15T22:41:24.861557",
     "status": "completed"
    },
    "tags": []
   },
   "outputs": [],
   "source": [
    "%load_ext autoreload\n",
    "%autoreload 2"
   ]
  },
  {
   "cell_type": "code",
   "execution_count": 4,
   "metadata": {
    "execution": {
     "iopub.execute_input": "2021-02-15T22:41:24.910992Z",
     "iopub.status.busy": "2021-02-15T22:41:24.910601Z",
     "iopub.status.idle": "2021-02-15T22:41:25.088152Z",
     "shell.execute_reply": "2021-02-15T22:41:25.087758Z"
    },
    "papermill": {
     "duration": 0.191891,
     "end_time": "2021-02-15T22:41:25.088242",
     "exception": false,
     "start_time": "2021-02-15T22:41:24.896351",
     "status": "completed"
    },
    "tags": []
   },
   "outputs": [],
   "source": [
    "from pathlib import Path\n",
    "\n",
    "import numpy as np\n",
    "import pandas as pd\n",
    "\n",
    "import conf"
   ]
  },
  {
   "cell_type": "markdown",
   "metadata": {
    "papermill": {
     "duration": 0.011869,
     "end_time": "2021-02-15T22:41:25.112412",
     "exception": false,
     "start_time": "2021-02-15T22:41:25.100543",
     "status": "completed"
    },
    "tags": []
   },
   "source": [
    "# Settings"
   ]
  },
  {
   "cell_type": "code",
   "execution_count": 5,
   "metadata": {
    "execution": {
     "iopub.execute_input": "2021-02-15T22:41:25.138986Z",
     "iopub.status.busy": "2021-02-15T22:41:25.138618Z",
     "iopub.status.idle": "2021-02-15T22:41:25.146225Z",
     "shell.execute_reply": "2021-02-15T22:41:25.145851Z"
    },
    "papermill": {
     "duration": 0.022083,
     "end_time": "2021-02-15T22:41:25.146311",
     "exception": false,
     "start_time": "2021-02-15T22:41:25.124228",
     "status": "completed"
    },
    "tags": []
   },
   "outputs": [],
   "source": [
    "RANDOM_GENERATOR = np.random.default_rng(12345)"
   ]
  },
  {
   "cell_type": "markdown",
   "metadata": {
    "papermill": {
     "duration": 0.012068,
     "end_time": "2021-02-15T22:41:25.170809",
     "exception": false,
     "start_time": "2021-02-15T22:41:25.158741",
     "status": "completed"
    },
    "tags": []
   },
   "source": [
    "## Consensus clustering"
   ]
  },
  {
   "cell_type": "code",
   "execution_count": 6,
   "metadata": {
    "execution": {
     "iopub.execute_input": "2021-02-15T22:41:25.197453Z",
     "iopub.status.busy": "2021-02-15T22:41:25.197074Z",
     "iopub.status.idle": "2021-02-15T22:41:25.205577Z",
     "shell.execute_reply": "2021-02-15T22:41:25.205245Z"
    },
    "papermill": {
     "duration": 0.022737,
     "end_time": "2021-02-15T22:41:25.205665",
     "exception": false,
     "start_time": "2021-02-15T22:41:25.182928",
     "status": "completed"
    },
    "tags": []
   },
   "outputs": [
    {
     "data": {
      "text/plain": [
       "{'K_MIN': 2, 'K_MAX': 60}"
      ]
     },
     "metadata": {},
     "output_type": "display_data"
    }
   ],
   "source": [
    "CLUSTERING_OPTIONS = {}\n",
    "\n",
    "CLUSTERING_OPTIONS[\"K_MIN\"] = 2\n",
    "CLUSTERING_OPTIONS[\"K_MAX\"] = 60\n",
    "\n",
    "display(CLUSTERING_OPTIONS)"
   ]
  },
  {
   "cell_type": "code",
   "execution_count": 7,
   "metadata": {
    "execution": {
     "iopub.execute_input": "2021-02-15T22:41:25.233101Z",
     "iopub.status.busy": "2021-02-15T22:41:25.232660Z",
     "iopub.status.idle": "2021-02-15T22:41:25.241295Z",
     "shell.execute_reply": "2021-02-15T22:41:25.240924Z"
    },
    "papermill": {
     "duration": 0.023207,
     "end_time": "2021-02-15T22:41:25.241382",
     "exception": false,
     "start_time": "2021-02-15T22:41:25.218175",
     "status": "completed"
    },
    "tags": []
   },
   "outputs": [
    {
     "data": {
      "text/plain": [
       "PosixPath('/home/miltondp/projects/labs/greenelab/phenoplier/base3/results/clustering/consensus_clustering')"
      ]
     },
     "metadata": {},
     "output_type": "display_data"
    }
   ],
   "source": [
    "# output dir for this notebook\n",
    "RESULTS_DIR = Path(conf.RESULTS[\"CLUSTERING_DIR\"], \"consensus_clustering\").resolve()\n",
    "RESULTS_DIR.mkdir(parents=True, exist_ok=True)\n",
    "\n",
    "display(RESULTS_DIR)"
   ]
  },
  {
   "cell_type": "markdown",
   "metadata": {
    "papermill": {
     "duration": 0.012556,
     "end_time": "2021-02-15T22:41:25.266866",
     "exception": false,
     "start_time": "2021-02-15T22:41:25.254310",
     "status": "completed"
    },
    "tags": []
   },
   "source": [
    "# Load ensemble"
   ]
  },
  {
   "cell_type": "code",
   "execution_count": 8,
   "metadata": {
    "execution": {
     "iopub.execute_input": "2021-02-15T22:41:25.294161Z",
     "iopub.status.busy": "2021-02-15T22:41:25.293793Z",
     "iopub.status.idle": "2021-02-15T22:41:25.302323Z",
     "shell.execute_reply": "2021-02-15T22:41:25.301950Z"
    },
    "papermill": {
     "duration": 0.023187,
     "end_time": "2021-02-15T22:41:25.302411",
     "exception": false,
     "start_time": "2021-02-15T22:41:25.279224",
     "status": "completed"
    },
    "tags": []
   },
   "outputs": [
    {
     "data": {
      "text/plain": [
       "PosixPath('/home/miltondp/projects/labs/greenelab/phenoplier/base3/results/clustering/consensus_clustering/ensemble.npy')"
      ]
     },
     "metadata": {},
     "output_type": "display_data"
    }
   ],
   "source": [
    "output_file = Path(RESULTS_DIR, \"ensemble.npy\").resolve()\n",
    "display(output_file)"
   ]
  },
  {
   "cell_type": "code",
   "execution_count": 9,
   "metadata": {
    "execution": {
     "iopub.execute_input": "2021-02-15T22:41:25.331203Z",
     "iopub.status.busy": "2021-02-15T22:41:25.330837Z",
     "iopub.status.idle": "2021-02-15T22:41:25.367886Z",
     "shell.execute_reply": "2021-02-15T22:41:25.367440Z"
    },
    "papermill": {
     "duration": 0.052352,
     "end_time": "2021-02-15T22:41:25.367998",
     "exception": false,
     "start_time": "2021-02-15T22:41:25.315646",
     "status": "completed"
    },
    "tags": []
   },
   "outputs": [],
   "source": [
    "full_ensemble = np.load(output_file)"
   ]
  },
  {
   "cell_type": "code",
   "execution_count": 10,
   "metadata": {
    "execution": {
     "iopub.execute_input": "2021-02-15T22:41:25.402277Z",
     "iopub.status.busy": "2021-02-15T22:41:25.401892Z",
     "iopub.status.idle": "2021-02-15T22:41:25.409933Z",
     "shell.execute_reply": "2021-02-15T22:41:25.409604Z"
    },
    "papermill": {
     "duration": 0.025234,
     "end_time": "2021-02-15T22:41:25.410029",
     "exception": false,
     "start_time": "2021-02-15T22:41:25.384795",
     "status": "completed"
    },
    "tags": []
   },
   "outputs": [
    {
     "data": {
      "text/plain": [
       "(4428, 3749)"
      ]
     },
     "metadata": {},
     "output_type": "display_data"
    }
   ],
   "source": [
    "display(full_ensemble.shape)"
   ]
  },
  {
   "cell_type": "markdown",
   "metadata": {
    "papermill": {
     "duration": 0.01417,
     "end_time": "2021-02-15T22:41:25.438513",
     "exception": false,
     "start_time": "2021-02-15T22:41:25.424343",
     "status": "completed"
    },
    "tags": []
   },
   "source": [
    "# Load ensemble coassociation distance matrix"
   ]
  },
  {
   "cell_type": "code",
   "execution_count": 11,
   "metadata": {
    "execution": {
     "iopub.execute_input": "2021-02-15T22:41:25.466670Z",
     "iopub.status.busy": "2021-02-15T22:41:25.466303Z",
     "iopub.status.idle": "2021-02-15T22:41:25.474195Z",
     "shell.execute_reply": "2021-02-15T22:41:25.474489Z"
    },
    "papermill": {
     "duration": 0.023259,
     "end_time": "2021-02-15T22:41:25.474594",
     "exception": false,
     "start_time": "2021-02-15T22:41:25.451335",
     "status": "completed"
    },
    "tags": []
   },
   "outputs": [
    {
     "data": {
      "text/plain": [
       "PosixPath('/home/miltondp/projects/labs/greenelab/phenoplier/base3/results/clustering/consensus_clustering/ensemble_coassoc_matrix.npy')"
      ]
     },
     "metadata": {},
     "output_type": "display_data"
    }
   ],
   "source": [
    "output_file = Path(RESULTS_DIR, \"ensemble_coassoc_matrix.npy\").resolve()\n",
    "display(output_file)"
   ]
  },
  {
   "cell_type": "code",
   "execution_count": 12,
   "metadata": {
    "execution": {
     "iopub.execute_input": "2021-02-15T22:41:25.503610Z",
     "iopub.status.busy": "2021-02-15T22:41:25.503249Z",
     "iopub.status.idle": "2021-02-15T22:41:25.534521Z",
     "shell.execute_reply": "2021-02-15T22:41:25.534116Z"
    },
    "papermill": {
     "duration": 0.046535,
     "end_time": "2021-02-15T22:41:25.534637",
     "exception": false,
     "start_time": "2021-02-15T22:41:25.488102",
     "status": "completed"
    },
    "tags": []
   },
   "outputs": [],
   "source": [
    "ensemble_coassoc_matrix = np.load(output_file)"
   ]
  },
  {
   "cell_type": "code",
   "execution_count": 13,
   "metadata": {
    "execution": {
     "iopub.execute_input": "2021-02-15T22:41:25.571338Z",
     "iopub.status.busy": "2021-02-15T22:41:25.570924Z",
     "iopub.status.idle": "2021-02-15T22:41:25.579509Z",
     "shell.execute_reply": "2021-02-15T22:41:25.579095Z"
    },
    "papermill": {
     "duration": 0.027666,
     "end_time": "2021-02-15T22:41:25.579605",
     "exception": false,
     "start_time": "2021-02-15T22:41:25.551939",
     "status": "completed"
    },
    "tags": []
   },
   "outputs": [
    {
     "data": {
      "text/plain": [
       "(3749, 3749)"
      ]
     },
     "metadata": {},
     "output_type": "display_data"
    }
   ],
   "source": [
    "display(ensemble_coassoc_matrix.shape)"
   ]
  },
  {
   "cell_type": "code",
   "execution_count": 14,
   "metadata": {
    "execution": {
     "iopub.execute_input": "2021-02-15T22:41:25.610206Z",
     "iopub.status.busy": "2021-02-15T22:41:25.609839Z",
     "iopub.status.idle": "2021-02-15T22:41:25.618197Z",
     "shell.execute_reply": "2021-02-15T22:41:25.617806Z"
    },
    "papermill": {
     "duration": 0.0241,
     "end_time": "2021-02-15T22:41:25.618289",
     "exception": false,
     "start_time": "2021-02-15T22:41:25.594189",
     "status": "completed"
    },
    "tags": []
   },
   "outputs": [
    {
     "data": {
      "text/plain": [
       "array([[0.        , 0.05615942, 0.05389493, ..., 0.59986413, 0.66171429,\n",
       "        0.66757246],\n",
       "       [0.05615942, 0.        , 0.02740036, ..., 0.60122283, 0.65988571,\n",
       "        0.66530797],\n",
       "       [0.05389493, 0.02740036, 0.        , ..., 0.59782609, 0.66102857,\n",
       "        0.66281703],\n",
       "       ...,\n",
       "       [0.59986413, 0.60122283, 0.59782609, ..., 0.        , 0.6699339 ,\n",
       "        0.66531165],\n",
       "       [0.66171429, 0.65988571, 0.66102857, ..., 0.6699339 , 0.        ,\n",
       "        0.58650558],\n",
       "       [0.66757246, 0.66530797, 0.66281703, ..., 0.66531165, 0.58650558,\n",
       "        0.        ]])"
      ]
     },
     "metadata": {},
     "output_type": "display_data"
    }
   ],
   "source": [
    "display(ensemble_coassoc_matrix)"
   ]
  },
  {
   "cell_type": "markdown",
   "metadata": {
    "papermill": {
     "duration": 0.013879,
     "end_time": "2021-02-15T22:41:25.646318",
     "exception": false,
     "start_time": "2021-02-15T22:41:25.632439",
     "status": "completed"
    },
    "tags": []
   },
   "source": [
    "# Consensus clustering"
   ]
  },
  {
   "cell_type": "code",
   "execution_count": 15,
   "metadata": {
    "execution": {
     "iopub.execute_input": "2021-02-15T22:41:25.675948Z",
     "iopub.status.busy": "2021-02-15T22:41:25.675579Z",
     "iopub.status.idle": "2021-02-15T22:41:26.003480Z",
     "shell.execute_reply": "2021-02-15T22:41:26.003149Z"
    },
    "papermill": {
     "duration": 0.343906,
     "end_time": "2021-02-15T22:41:26.003588",
     "exception": false,
     "start_time": "2021-02-15T22:41:25.659682",
     "status": "completed"
    },
    "tags": []
   },
   "outputs": [],
   "source": [
    "from concurrent.futures import ProcessPoolExecutor, as_completed\n",
    "\n",
    "from tqdm import tqdm\n",
    "\n",
    "from clustering.ensembles.utils import (\n",
    "    run_method_and_compute_agreement,\n",
    ")\n",
    "from clustering.ensembles.eac import (\n",
    "    eac_single_coassoc_matrix,\n",
    "    eac_complete_coassoc_matrix,\n",
    "    eac_average_coassoc_matrix,\n",
    ")\n",
    "from clustering.ensembles.spectral import scc"
   ]
  },
  {
   "cell_type": "markdown",
   "metadata": {
    "papermill": {
     "duration": 0.013532,
     "end_time": "2021-02-15T22:41:26.031558",
     "exception": false,
     "start_time": "2021-02-15T22:41:26.018026",
     "status": "completed"
    },
    "tags": []
   },
   "source": [
    "Define spectral consensus clustering methods with delta values found in pre-analysis:"
   ]
  },
  {
   "cell_type": "code",
   "execution_count": 16,
   "metadata": {
    "execution": {
     "iopub.execute_input": "2021-02-15T22:41:26.062265Z",
     "iopub.status.busy": "2021-02-15T22:41:26.061882Z",
     "iopub.status.idle": "2021-02-15T22:41:26.072325Z",
     "shell.execute_reply": "2021-02-15T22:41:26.072000Z"
    },
    "papermill": {
     "duration": 0.027068,
     "end_time": "2021-02-15T22:41:26.072413",
     "exception": false,
     "start_time": "2021-02-15T22:41:26.045345",
     "status": "completed"
    },
    "tags": []
   },
   "outputs": [],
   "source": [
    "def scc_020(coassoc_distance_matrix, k):\n",
    "    return scc(coassoc_distance_matrix, k, delta=0.20, ensemble_is_coassoc_matrix=True)\n",
    "\n",
    "\n",
    "def scc_025(coassoc_distance_matrix, k):\n",
    "    return scc(coassoc_distance_matrix, k, delta=0.25, ensemble_is_coassoc_matrix=True)\n",
    "\n",
    "\n",
    "def scc_030(coassoc_distance_matrix, k):\n",
    "    return scc(coassoc_distance_matrix, k, delta=0.30, ensemble_is_coassoc_matrix=True)\n",
    "\n",
    "\n",
    "def scc_050(coassoc_distance_matrix, k):\n",
    "    return scc(coassoc_distance_matrix, k, delta=0.50, ensemble_is_coassoc_matrix=True)"
   ]
  },
  {
   "cell_type": "code",
   "execution_count": 17,
   "metadata": {
    "execution": {
     "iopub.execute_input": "2021-02-15T22:41:26.103220Z",
     "iopub.status.busy": "2021-02-15T22:41:26.102841Z",
     "iopub.status.idle": "2021-02-15T22:41:26.113192Z",
     "shell.execute_reply": "2021-02-15T22:41:26.113477Z"
    },
    "papermill": {
     "duration": 0.026917,
     "end_time": "2021-02-15T22:41:26.113587",
     "exception": false,
     "start_time": "2021-02-15T22:41:26.086670",
     "status": "completed"
    },
    "tags": []
   },
   "outputs": [
    {
     "data": {
      "text/plain": [
       "{<function clustering.ensembles.eac.eac_average_coassoc_matrix(coassoc_matrix, k)>,\n",
       " <function clustering.ensembles.eac.eac_complete_coassoc_matrix(coassoc_matrix, k)>,\n",
       " <function clustering.ensembles.eac.eac_single_coassoc_matrix(coassoc_matrix, k)>,\n",
       " <function __main__.scc_020(coassoc_distance_matrix, k)>,\n",
       " <function __main__.scc_025(coassoc_distance_matrix, k)>,\n",
       " <function __main__.scc_030(coassoc_distance_matrix, k)>,\n",
       " <function __main__.scc_050(coassoc_distance_matrix, k)>}"
      ]
     },
     "metadata": {},
     "output_type": "display_data"
    }
   ],
   "source": [
    "all_consensus_methods = set(\n",
    "    (\n",
    "        eac_single_coassoc_matrix,\n",
    "        eac_complete_coassoc_matrix,\n",
    "        eac_average_coassoc_matrix,\n",
    "        scc_020,\n",
    "        scc_025,\n",
    "        scc_030,\n",
    "        scc_050,\n",
    "    )\n",
    ")\n",
    "display(all_consensus_methods)"
   ]
  },
  {
   "cell_type": "code",
   "execution_count": 18,
   "metadata": {
    "execution": {
     "iopub.execute_input": "2021-02-15T22:41:26.146251Z",
     "iopub.status.busy": "2021-02-15T22:41:26.145861Z",
     "iopub.status.idle": "2021-02-16T01:04:47.071878Z",
     "shell.execute_reply": "2021-02-16T01:04:47.072176Z"
    },
    "papermill": {
     "duration": 8600.944183,
     "end_time": "2021-02-16T01:04:47.072296",
     "exception": false,
     "start_time": "2021-02-15T22:41:26.128113",
     "status": "completed"
    },
    "tags": []
   },
   "outputs": [
    {
     "name": "stderr",
     "output_type": "stream",
     "text": [
      "\r",
      "  0%|                                                                       | 0/413 [00:00<?, ?it/s]"
     ]
    },
    {
     "name": "stderr",
     "output_type": "stream",
     "text": [
      "\r",
      "  0%|▏                                                            | 1/413 [00:24<2:45:49, 24.15s/it]"
     ]
    },
    {
     "name": "stderr",
     "output_type": "stream",
     "text": [
      "\r",
      "  0%|▎                                                            | 2/413 [00:26<2:01:27, 17.73s/it]"
     ]
    },
    {
     "name": "stderr",
     "output_type": "stream",
     "text": [
      "\r",
      "  1%|▍                                                            | 3/413 [00:49<2:10:28, 19.09s/it]"
     ]
    },
    {
     "name": "stderr",
     "output_type": "stream",
     "text": [
      "\r",
      "  1%|▌                                                            | 4/413 [00:52<1:37:27, 14.30s/it]"
     ]
    },
    {
     "name": "stderr",
     "output_type": "stream",
     "text": [
      "\r",
      "  1%|▋                                                            | 5/413 [01:16<1:57:44, 17.32s/it]"
     ]
    },
    {
     "name": "stderr",
     "output_type": "stream",
     "text": [
      "\r",
      "  1%|▉                                                            | 6/413 [01:20<1:29:08, 13.14s/it]"
     ]
    },
    {
     "name": "stderr",
     "output_type": "stream",
     "text": [
      "\r",
      "  2%|█                                                            | 7/413 [01:44<1:52:50, 16.68s/it]"
     ]
    },
    {
     "name": "stderr",
     "output_type": "stream",
     "text": [
      "\r",
      "  2%|█▏                                                           | 8/413 [01:48<1:26:03, 12.75s/it]"
     ]
    },
    {
     "name": "stderr",
     "output_type": "stream",
     "text": [
      "\r",
      "  2%|█▎                                                           | 9/413 [02:14<1:53:19, 16.83s/it]"
     ]
    },
    {
     "name": "stderr",
     "output_type": "stream",
     "text": [
      "\r",
      "  2%|█▍                                                          | 10/413 [02:20<1:29:35, 13.34s/it]"
     ]
    },
    {
     "name": "stderr",
     "output_type": "stream",
     "text": [
      "\r",
      "  3%|█▌                                                          | 11/413 [02:46<1:56:18, 17.36s/it]"
     ]
    },
    {
     "name": "stderr",
     "output_type": "stream",
     "text": [
      "\r",
      "  3%|█▋                                                          | 12/413 [02:52<1:32:29, 13.84s/it]"
     ]
    },
    {
     "name": "stderr",
     "output_type": "stream",
     "text": [
      "\r",
      "  3%|█▉                                                          | 13/413 [03:19<1:58:44, 17.81s/it]"
     ]
    },
    {
     "name": "stderr",
     "output_type": "stream",
     "text": [
      "\r",
      "  3%|██                                                          | 14/413 [03:25<1:35:18, 14.33s/it]"
     ]
    },
    {
     "name": "stderr",
     "output_type": "stream",
     "text": [
      "\r",
      "  4%|██▏                                                         | 15/413 [03:54<2:03:00, 18.54s/it]"
     ]
    },
    {
     "name": "stderr",
     "output_type": "stream",
     "text": [
      "\r",
      "  4%|██▎                                                         | 16/413 [04:00<1:39:08, 14.98s/it]"
     ]
    },
    {
     "name": "stderr",
     "output_type": "stream",
     "text": [
      "\r",
      "  4%|██▍                                                         | 17/413 [04:31<2:10:58, 19.84s/it]"
     ]
    },
    {
     "name": "stderr",
     "output_type": "stream",
     "text": [
      "\r",
      "  4%|██▌                                                         | 18/413 [04:38<1:44:20, 15.85s/it]"
     ]
    },
    {
     "name": "stderr",
     "output_type": "stream",
     "text": [
      "\r",
      "  5%|██▊                                                         | 19/413 [05:10<2:15:27, 20.63s/it]"
     ]
    },
    {
     "name": "stderr",
     "output_type": "stream",
     "text": [
      "\r",
      "  5%|██▉                                                         | 20/413 [05:16<1:46:52, 16.32s/it]"
     ]
    },
    {
     "name": "stderr",
     "output_type": "stream",
     "text": [
      "\r",
      "  5%|███                                                         | 21/413 [05:51<2:23:20, 21.94s/it]"
     ]
    },
    {
     "name": "stderr",
     "output_type": "stream",
     "text": [
      "\r",
      "  5%|███▏                                                        | 22/413 [05:57<1:52:14, 17.23s/it]"
     ]
    },
    {
     "name": "stderr",
     "output_type": "stream",
     "text": [
      "\r",
      "  6%|███▎                                                        | 23/413 [06:32<2:26:03, 22.47s/it]"
     ]
    },
    {
     "name": "stderr",
     "output_type": "stream",
     "text": [
      "\r",
      "  6%|███▍                                                        | 24/413 [06:40<1:57:08, 18.07s/it]"
     ]
    },
    {
     "name": "stderr",
     "output_type": "stream",
     "text": [
      "\r",
      "  6%|███▋                                                        | 25/413 [07:14<2:27:29, 22.81s/it]"
     ]
    },
    {
     "name": "stderr",
     "output_type": "stream",
     "text": [
      "\r",
      "  6%|███▊                                                        | 26/413 [07:23<2:01:13, 18.80s/it]"
     ]
    },
    {
     "name": "stderr",
     "output_type": "stream",
     "text": [
      "\r",
      "  7%|███▉                                                        | 27/413 [07:58<2:31:38, 23.57s/it]"
     ]
    },
    {
     "name": "stderr",
     "output_type": "stream",
     "text": [
      "\r",
      "  7%|████                                                        | 28/413 [08:08<2:05:49, 19.61s/it]"
     ]
    },
    {
     "name": "stderr",
     "output_type": "stream",
     "text": [
      "\r",
      "  7%|████▏                                                       | 29/413 [08:43<2:35:26, 24.29s/it]"
     ]
    },
    {
     "name": "stderr",
     "output_type": "stream",
     "text": [
      "\r",
      "  7%|████▎                                                       | 30/413 [08:54<2:09:40, 20.31s/it]"
     ]
    },
    {
     "name": "stderr",
     "output_type": "stream",
     "text": [
      "\r",
      "  8%|████▌                                                       | 31/413 [09:31<2:40:08, 25.15s/it]"
     ]
    },
    {
     "name": "stderr",
     "output_type": "stream",
     "text": [
      "\r",
      "  8%|████▋                                                       | 32/413 [09:41<2:11:57, 20.78s/it]"
     ]
    },
    {
     "name": "stderr",
     "output_type": "stream",
     "text": [
      "\r",
      "  8%|████▊                                                       | 33/413 [10:19<2:43:22, 25.80s/it]"
     ]
    },
    {
     "name": "stderr",
     "output_type": "stream",
     "text": [
      "\r",
      "  8%|████▉                                                       | 34/413 [10:31<2:16:50, 21.66s/it]"
     ]
    },
    {
     "name": "stderr",
     "output_type": "stream",
     "text": [
      "\r",
      "  8%|█████                                                       | 35/413 [11:09<2:46:28, 26.42s/it]"
     ]
    },
    {
     "name": "stderr",
     "output_type": "stream",
     "text": [
      "\r",
      "  9%|█████▏                                                      | 36/413 [11:21<2:20:29, 22.36s/it]"
     ]
    },
    {
     "name": "stderr",
     "output_type": "stream",
     "text": [
      "\r",
      "  9%|█████▍                                                      | 37/413 [12:00<2:50:18, 27.18s/it]"
     ]
    },
    {
     "name": "stderr",
     "output_type": "stream",
     "text": [
      "\r",
      "  9%|█████▌                                                      | 38/413 [12:14<2:24:55, 23.19s/it]"
     ]
    },
    {
     "name": "stderr",
     "output_type": "stream",
     "text": [
      "\r",
      "  9%|█████▋                                                      | 39/413 [12:52<2:53:33, 27.84s/it]"
     ]
    },
    {
     "name": "stderr",
     "output_type": "stream",
     "text": [
      "\r",
      " 10%|█████▊                                                      | 40/413 [13:07<2:27:44, 23.76s/it]"
     ]
    },
    {
     "name": "stderr",
     "output_type": "stream",
     "text": [
      "\r",
      " 10%|█████▉                                                      | 41/413 [13:47<2:58:24, 28.77s/it]"
     ]
    },
    {
     "name": "stderr",
     "output_type": "stream",
     "text": [
      "\r",
      " 10%|██████                                                      | 42/413 [14:02<2:31:47, 24.55s/it]"
     ]
    },
    {
     "name": "stderr",
     "output_type": "stream",
     "text": [
      "\r",
      " 10%|██████▏                                                     | 43/413 [14:42<3:01:08, 29.37s/it]"
     ]
    },
    {
     "name": "stderr",
     "output_type": "stream",
     "text": [
      "\r",
      " 11%|██████▍                                                     | 44/413 [14:58<2:34:43, 25.16s/it]"
     ]
    },
    {
     "name": "stderr",
     "output_type": "stream",
     "text": [
      "\r",
      " 11%|██████▌                                                     | 45/413 [15:39<3:03:30, 29.92s/it]"
     ]
    },
    {
     "name": "stderr",
     "output_type": "stream",
     "text": [
      "\r",
      " 11%|██████▋                                                     | 46/413 [15:55<2:37:56, 25.82s/it]"
     ]
    },
    {
     "name": "stderr",
     "output_type": "stream",
     "text": [
      "\r",
      " 11%|██████▊                                                     | 47/413 [16:36<3:05:19, 30.38s/it]"
     ]
    },
    {
     "name": "stderr",
     "output_type": "stream",
     "text": [
      "\r",
      " 12%|██████▉                                                     | 48/413 [16:54<2:41:23, 26.53s/it]"
     ]
    },
    {
     "name": "stderr",
     "output_type": "stream",
     "text": [
      "\r",
      " 12%|███████                                                     | 49/413 [17:35<3:07:51, 30.97s/it]"
     ]
    },
    {
     "name": "stderr",
     "output_type": "stream",
     "text": [
      "\r",
      " 12%|███████▎                                                    | 50/413 [17:53<2:44:18, 27.16s/it]"
     ]
    },
    {
     "name": "stderr",
     "output_type": "stream",
     "text": [
      "\r",
      " 12%|███████▍                                                    | 51/413 [18:35<3:10:52, 31.64s/it]"
     ]
    },
    {
     "name": "stderr",
     "output_type": "stream",
     "text": [
      "\r",
      " 13%|███████▌                                                    | 52/413 [18:54<2:46:54, 27.74s/it]"
     ]
    },
    {
     "name": "stderr",
     "output_type": "stream",
     "text": [
      "\r",
      " 13%|███████▋                                                    | 53/413 [19:37<3:13:08, 32.19s/it]"
     ]
    },
    {
     "name": "stderr",
     "output_type": "stream",
     "text": [
      "\r",
      " 13%|███████▊                                                    | 54/413 [19:56<2:49:41, 28.36s/it]"
     ]
    },
    {
     "name": "stderr",
     "output_type": "stream",
     "text": [
      "\r",
      " 13%|███████▉                                                    | 55/413 [20:39<3:15:08, 32.70s/it]"
     ]
    },
    {
     "name": "stderr",
     "output_type": "stream",
     "text": [
      "\r",
      " 14%|████████▏                                                   | 56/413 [20:59<2:52:33, 29.00s/it]"
     ]
    },
    {
     "name": "stderr",
     "output_type": "stream",
     "text": [
      "\r",
      " 14%|████████▎                                                   | 57/413 [21:42<3:17:17, 33.25s/it]"
     ]
    },
    {
     "name": "stderr",
     "output_type": "stream",
     "text": [
      "\r",
      " 14%|████████▍                                                   | 58/413 [22:04<2:55:42, 29.70s/it]"
     ]
    },
    {
     "name": "stderr",
     "output_type": "stream",
     "text": [
      "\r",
      " 14%|████████▌                                                   | 59/413 [22:28<2:44:54, 27.95s/it]"
     ]
    },
    {
     "name": "stderr",
     "output_type": "stream",
     "text": [
      "\r",
      " 15%|████████▋                                                   | 60/413 [22:47<2:29:15, 25.37s/it]"
     ]
    },
    {
     "name": "stderr",
     "output_type": "stream",
     "text": [
      "\r",
      " 15%|████████▊                                                   | 61/413 [22:52<1:53:36, 19.36s/it]"
     ]
    },
    {
     "name": "stderr",
     "output_type": "stream",
     "text": [
      "\r",
      " 15%|█████████                                                   | 62/413 [23:12<1:54:15, 19.53s/it]"
     ]
    },
    {
     "name": "stderr",
     "output_type": "stream",
     "text": [
      "\r",
      " 15%|█████████▏                                                  | 63/413 [23:20<1:32:54, 15.93s/it]"
     ]
    },
    {
     "name": "stderr",
     "output_type": "stream",
     "text": [
      "\r",
      " 15%|█████████▎                                                  | 64/413 [23:40<1:40:13, 17.23s/it]"
     ]
    },
    {
     "name": "stderr",
     "output_type": "stream",
     "text": [
      "\r",
      " 16%|█████████▍                                                  | 65/413 [23:47<1:21:23, 14.03s/it]"
     ]
    },
    {
     "name": "stderr",
     "output_type": "stream",
     "text": [
      "\r",
      " 16%|█████████▌                                                  | 66/413 [24:07<1:32:24, 15.98s/it]"
     ]
    },
    {
     "name": "stderr",
     "output_type": "stream",
     "text": [
      "\r",
      " 16%|█████████▋                                                  | 67/413 [24:14<1:16:21, 13.24s/it]"
     ]
    },
    {
     "name": "stderr",
     "output_type": "stream",
     "text": [
      "\r",
      " 16%|█████████▉                                                  | 68/413 [24:35<1:29:37, 15.59s/it]"
     ]
    },
    {
     "name": "stderr",
     "output_type": "stream",
     "text": [
      "\r",
      " 17%|██████████                                                  | 69/413 [24:42<1:14:48, 13.05s/it]"
     ]
    },
    {
     "name": "stderr",
     "output_type": "stream",
     "text": [
      "\r",
      " 17%|██████████▏                                                 | 70/413 [25:05<1:30:55, 15.90s/it]"
     ]
    },
    {
     "name": "stderr",
     "output_type": "stream",
     "text": [
      "\r",
      " 17%|██████████▎                                                 | 71/413 [25:11<1:14:14, 13.03s/it]"
     ]
    },
    {
     "name": "stderr",
     "output_type": "stream",
     "text": [
      "\r",
      " 17%|██████████▍                                                 | 72/413 [25:34<1:31:04, 16.02s/it]"
     ]
    },
    {
     "name": "stderr",
     "output_type": "stream",
     "text": [
      "\r",
      " 18%|██████████▌                                                 | 73/413 [25:41<1:14:52, 13.21s/it]"
     ]
    },
    {
     "name": "stderr",
     "output_type": "stream",
     "text": [
      "\r",
      " 18%|██████████▊                                                 | 74/413 [26:04<1:31:48, 16.25s/it]"
     ]
    },
    {
     "name": "stderr",
     "output_type": "stream",
     "text": [
      "\r",
      " 18%|██████████▉                                                 | 75/413 [26:12<1:17:38, 13.78s/it]"
     ]
    },
    {
     "name": "stderr",
     "output_type": "stream",
     "text": [
      "\r",
      " 18%|███████████                                                 | 76/413 [26:36<1:33:52, 16.71s/it]"
     ]
    },
    {
     "name": "stderr",
     "output_type": "stream",
     "text": [
      "\r",
      " 19%|███████████▏                                                | 77/413 [26:44<1:19:24, 14.18s/it]"
     ]
    },
    {
     "name": "stderr",
     "output_type": "stream",
     "text": [
      "\r",
      " 19%|███████████▎                                                | 78/413 [27:07<1:34:32, 16.93s/it]"
     ]
    },
    {
     "name": "stderr",
     "output_type": "stream",
     "text": [
      "\r",
      " 19%|███████████▍                                                | 79/413 [27:16<1:20:29, 14.46s/it]"
     ]
    },
    {
     "name": "stderr",
     "output_type": "stream",
     "text": [
      "\r",
      " 19%|███████████▌                                                | 80/413 [27:40<1:36:39, 17.42s/it]"
     ]
    },
    {
     "name": "stderr",
     "output_type": "stream",
     "text": [
      "\r",
      " 20%|███████████▊                                                | 81/413 [27:50<1:23:13, 15.04s/it]"
     ]
    },
    {
     "name": "stderr",
     "output_type": "stream",
     "text": [
      "\r",
      " 20%|███████████▉                                                | 82/413 [28:14<1:38:04, 17.78s/it]"
     ]
    },
    {
     "name": "stderr",
     "output_type": "stream",
     "text": [
      "\r",
      " 20%|████████████                                                | 83/413 [28:25<1:26:26, 15.72s/it]"
     ]
    },
    {
     "name": "stderr",
     "output_type": "stream",
     "text": [
      "\r",
      " 20%|████████████▏                                               | 84/413 [28:48<1:39:05, 18.07s/it]"
     ]
    },
    {
     "name": "stderr",
     "output_type": "stream",
     "text": [
      "\r",
      " 21%|████████████▎                                               | 85/413 [29:00<1:28:23, 16.17s/it]"
     ]
    },
    {
     "name": "stderr",
     "output_type": "stream",
     "text": [
      "\r",
      " 21%|████████████▍                                               | 86/413 [29:25<1:42:34, 18.82s/it]"
     ]
    },
    {
     "name": "stderr",
     "output_type": "stream",
     "text": [
      "\r",
      " 21%|████████████▋                                               | 87/413 [29:36<1:29:27, 16.46s/it]"
     ]
    },
    {
     "name": "stderr",
     "output_type": "stream",
     "text": [
      "\r",
      " 21%|████████████▊                                               | 88/413 [30:01<1:43:40, 19.14s/it]"
     ]
    },
    {
     "name": "stderr",
     "output_type": "stream",
     "text": [
      "\r",
      " 22%|████████████▉                                               | 89/413 [30:13<1:30:47, 16.81s/it]"
     ]
    },
    {
     "name": "stderr",
     "output_type": "stream",
     "text": [
      "\r",
      " 22%|█████████████                                               | 90/413 [30:40<1:46:41, 19.82s/it]"
     ]
    },
    {
     "name": "stderr",
     "output_type": "stream",
     "text": [
      "\r",
      " 22%|█████████████▏                                              | 91/413 [30:50<1:31:31, 17.05s/it]"
     ]
    },
    {
     "name": "stderr",
     "output_type": "stream",
     "text": [
      "\r",
      " 22%|█████████████▎                                              | 92/413 [31:18<1:48:43, 20.32s/it]"
     ]
    },
    {
     "name": "stderr",
     "output_type": "stream",
     "text": [
      "\r",
      " 23%|█████████████▌                                              | 93/413 [31:29<1:33:38, 17.56s/it]"
     ]
    },
    {
     "name": "stderr",
     "output_type": "stream",
     "text": [
      "\r",
      " 23%|█████████████▋                                              | 94/413 [31:58<1:50:56, 20.87s/it]"
     ]
    },
    {
     "name": "stderr",
     "output_type": "stream",
     "text": [
      "\r",
      " 23%|█████████████▊                                              | 95/413 [32:09<1:35:40, 18.05s/it]"
     ]
    },
    {
     "name": "stderr",
     "output_type": "stream",
     "text": [
      "\r",
      " 23%|█████████████▉                                              | 96/413 [32:39<1:54:08, 21.61s/it]"
     ]
    },
    {
     "name": "stderr",
     "output_type": "stream",
     "text": [
      "\r",
      " 23%|██████████████                                              | 97/413 [32:50<1:37:04, 18.43s/it]"
     ]
    },
    {
     "name": "stderr",
     "output_type": "stream",
     "text": [
      "\r",
      " 24%|██████████████▏                                             | 98/413 [33:21<1:56:16, 22.15s/it]"
     ]
    },
    {
     "name": "stderr",
     "output_type": "stream",
     "text": [
      "\r",
      " 24%|██████████████▍                                             | 99/413 [33:36<1:43:45, 19.83s/it]"
     ]
    },
    {
     "name": "stderr",
     "output_type": "stream",
     "text": [
      "\r",
      " 24%|██████████████▎                                            | 100/413 [34:06<2:00:11, 23.04s/it]"
     ]
    },
    {
     "name": "stderr",
     "output_type": "stream",
     "text": [
      "\r",
      " 24%|██████████████▍                                            | 101/413 [34:22<1:47:58, 20.76s/it]"
     ]
    },
    {
     "name": "stderr",
     "output_type": "stream",
     "text": [
      "\r",
      " 25%|██████████████▌                                            | 102/413 [34:50<1:59:46, 23.11s/it]"
     ]
    },
    {
     "name": "stderr",
     "output_type": "stream",
     "text": [
      "\r",
      " 25%|██████████████▋                                            | 103/413 [35:08<1:50:55, 21.47s/it]"
     ]
    },
    {
     "name": "stderr",
     "output_type": "stream",
     "text": [
      "\r",
      " 25%|██████████████▊                                            | 104/413 [35:36<2:00:53, 23.47s/it]"
     ]
    },
    {
     "name": "stderr",
     "output_type": "stream",
     "text": [
      "\r",
      " 25%|███████████████                                            | 105/413 [35:55<1:52:57, 22.01s/it]"
     ]
    },
    {
     "name": "stderr",
     "output_type": "stream",
     "text": [
      "\r",
      " 26%|███████████████▏                                           | 106/413 [36:23<2:02:27, 23.93s/it]"
     ]
    },
    {
     "name": "stderr",
     "output_type": "stream",
     "text": [
      "\r",
      " 26%|███████████████▎                                           | 107/413 [36:43<1:56:49, 22.91s/it]"
     ]
    },
    {
     "name": "stderr",
     "output_type": "stream",
     "text": [
      "\r",
      " 26%|███████████████▍                                           | 108/413 [37:13<2:06:15, 24.84s/it]"
     ]
    },
    {
     "name": "stderr",
     "output_type": "stream",
     "text": [
      "\r",
      " 26%|███████████████▌                                           | 109/413 [37:35<2:01:20, 23.95s/it]"
     ]
    },
    {
     "name": "stderr",
     "output_type": "stream",
     "text": [
      "\r",
      " 27%|███████████████▋                                           | 110/413 [38:05<2:10:32, 25.85s/it]"
     ]
    },
    {
     "name": "stderr",
     "output_type": "stream",
     "text": [
      "\r",
      " 27%|███████████████▊                                           | 111/413 [38:28<2:05:45, 24.99s/it]"
     ]
    },
    {
     "name": "stderr",
     "output_type": "stream",
     "text": [
      "\r",
      " 27%|████████████████                                           | 112/413 [38:57<2:12:14, 26.36s/it]"
     ]
    },
    {
     "name": "stderr",
     "output_type": "stream",
     "text": [
      "\r",
      " 27%|████████████████▏                                          | 113/413 [39:21<2:07:54, 25.58s/it]"
     ]
    },
    {
     "name": "stderr",
     "output_type": "stream",
     "text": [
      "\r",
      " 28%|████████████████▎                                          | 114/413 [39:52<2:15:00, 27.09s/it]"
     ]
    },
    {
     "name": "stderr",
     "output_type": "stream",
     "text": [
      "\r",
      " 28%|████████████████▍                                          | 115/413 [40:17<2:10:59, 26.38s/it]"
     ]
    },
    {
     "name": "stderr",
     "output_type": "stream",
     "text": [
      "\r",
      " 28%|████████████████▌                                          | 116/413 [40:48<2:17:32, 27.79s/it]"
     ]
    },
    {
     "name": "stderr",
     "output_type": "stream",
     "text": [
      "\r",
      " 28%|████████████████▋                                          | 117/413 [41:13<2:13:09, 26.99s/it]"
     ]
    },
    {
     "name": "stderr",
     "output_type": "stream",
     "text": [
      "\r",
      " 29%|████████████████▊                                          | 118/413 [41:35<2:06:09, 25.66s/it]"
     ]
    },
    {
     "name": "stderr",
     "output_type": "stream",
     "text": [
      "\r",
      " 29%|█████████████████                                          | 119/413 [41:43<1:38:33, 20.11s/it]"
     ]
    },
    {
     "name": "stderr",
     "output_type": "stream",
     "text": [
      "\r",
      " 29%|█████████████████▏                                         | 120/413 [41:59<1:32:23, 18.92s/it]"
     ]
    },
    {
     "name": "stderr",
     "output_type": "stream",
     "text": [
      "\r",
      " 29%|█████████████████▎                                         | 121/413 [42:07<1:16:52, 15.79s/it]"
     ]
    },
    {
     "name": "stderr",
     "output_type": "stream",
     "text": [
      "\r",
      " 30%|█████████████████▍                                         | 122/413 [42:24<1:17:30, 15.98s/it]"
     ]
    },
    {
     "name": "stderr",
     "output_type": "stream",
     "text": [
      "\r",
      " 30%|█████████████████▌                                         | 123/413 [42:34<1:09:47, 14.44s/it]"
     ]
    },
    {
     "name": "stderr",
     "output_type": "stream",
     "text": [
      "\r",
      " 30%|█████████████████▋                                         | 124/413 [42:51<1:12:49, 15.12s/it]"
     ]
    },
    {
     "name": "stderr",
     "output_type": "stream",
     "text": [
      "\r",
      " 30%|█████████████████▊                                         | 125/413 [43:03<1:07:36, 14.08s/it]"
     ]
    },
    {
     "name": "stderr",
     "output_type": "stream",
     "text": [
      "\r",
      " 31%|██████████████████                                         | 126/413 [43:20<1:11:34, 14.96s/it]"
     ]
    },
    {
     "name": "stderr",
     "output_type": "stream",
     "text": [
      "\r",
      " 31%|██████████████████▏                                        | 127/413 [43:32<1:07:10, 14.09s/it]"
     ]
    },
    {
     "name": "stderr",
     "output_type": "stream",
     "text": [
      "\r",
      " 31%|██████████████████▎                                        | 128/413 [43:50<1:12:06, 15.18s/it]"
     ]
    },
    {
     "name": "stderr",
     "output_type": "stream",
     "text": [
      "\r",
      " 31%|██████████████████▍                                        | 129/413 [44:02<1:07:37, 14.29s/it]"
     ]
    },
    {
     "name": "stderr",
     "output_type": "stream",
     "text": [
      "\r",
      " 31%|██████████████████▌                                        | 130/413 [44:20<1:13:36, 15.61s/it]"
     ]
    },
    {
     "name": "stderr",
     "output_type": "stream",
     "text": [
      "\r",
      " 32%|██████████████████▋                                        | 131/413 [44:33<1:08:52, 14.66s/it]"
     ]
    },
    {
     "name": "stderr",
     "output_type": "stream",
     "text": [
      "\r",
      " 32%|██████████████████▊                                        | 132/413 [44:53<1:16:10, 16.27s/it]"
     ]
    },
    {
     "name": "stderr",
     "output_type": "stream",
     "text": [
      "\r",
      " 32%|███████████████████                                        | 133/413 [45:06<1:11:00, 15.22s/it]"
     ]
    },
    {
     "name": "stderr",
     "output_type": "stream",
     "text": [
      "\r",
      " 32%|███████████████████▏                                       | 134/413 [45:27<1:18:43, 16.93s/it]"
     ]
    },
    {
     "name": "stderr",
     "output_type": "stream",
     "text": [
      "\r",
      " 33%|███████████████████▎                                       | 135/413 [45:40<1:13:03, 15.77s/it]"
     ]
    },
    {
     "name": "stderr",
     "output_type": "stream",
     "text": [
      "\r",
      " 33%|███████████████████▍                                       | 136/413 [46:01<1:20:42, 17.48s/it]"
     ]
    },
    {
     "name": "stderr",
     "output_type": "stream",
     "text": [
      "\r",
      " 33%|███████████████████▌                                       | 137/413 [46:15<1:14:43, 16.24s/it]"
     ]
    },
    {
     "name": "stderr",
     "output_type": "stream",
     "text": [
      "\r",
      " 33%|███████████████████▋                                       | 138/413 [46:36<1:21:39, 17.82s/it]"
     ]
    },
    {
     "name": "stderr",
     "output_type": "stream",
     "text": [
      "\r",
      " 34%|███████████████████▊                                       | 139/413 [46:50<1:15:57, 16.63s/it]"
     ]
    },
    {
     "name": "stderr",
     "output_type": "stream",
     "text": [
      "\r",
      " 34%|████████████████████                                       | 140/413 [47:12<1:23:09, 18.28s/it]"
     ]
    },
    {
     "name": "stderr",
     "output_type": "stream",
     "text": [
      "\r",
      " 34%|████████████████████▏                                      | 141/413 [47:27<1:17:50, 17.17s/it]"
     ]
    },
    {
     "name": "stderr",
     "output_type": "stream",
     "text": [
      "\r",
      " 34%|████████████████████▎                                      | 142/413 [47:49<1:24:35, 18.73s/it]"
     ]
    },
    {
     "name": "stderr",
     "output_type": "stream",
     "text": [
      "\r",
      " 35%|████████████████████▍                                      | 143/413 [48:04<1:19:18, 17.62s/it]"
     ]
    },
    {
     "name": "stderr",
     "output_type": "stream",
     "text": [
      "\r",
      " 35%|████████████████████▌                                      | 144/413 [48:27<1:25:51, 19.15s/it]"
     ]
    },
    {
     "name": "stderr",
     "output_type": "stream",
     "text": [
      "\r",
      " 35%|████████████████████▋                                      | 145/413 [48:42<1:20:22, 17.99s/it]"
     ]
    },
    {
     "name": "stderr",
     "output_type": "stream",
     "text": [
      "\r",
      " 35%|████████████████████▊                                      | 146/413 [49:06<1:27:54, 19.76s/it]"
     ]
    },
    {
     "name": "stderr",
     "output_type": "stream",
     "text": [
      "\r",
      " 36%|█████████████████████                                      | 147/413 [49:22<1:22:07, 18.53s/it]"
     ]
    },
    {
     "name": "stderr",
     "output_type": "stream",
     "text": [
      "\r",
      " 36%|█████████████████████▏                                     | 148/413 [49:46<1:29:19, 20.22s/it]"
     ]
    },
    {
     "name": "stderr",
     "output_type": "stream",
     "text": [
      "\r",
      " 36%|█████████████████████▎                                     | 149/413 [50:02<1:24:00, 19.09s/it]"
     ]
    },
    {
     "name": "stderr",
     "output_type": "stream",
     "text": [
      "\r",
      " 36%|█████████████████████▍                                     | 150/413 [50:27<1:31:00, 20.76s/it]"
     ]
    },
    {
     "name": "stderr",
     "output_type": "stream",
     "text": [
      "\r",
      " 37%|█████████████████████▌                                     | 151/413 [50:44<1:25:24, 19.56s/it]"
     ]
    },
    {
     "name": "stderr",
     "output_type": "stream",
     "text": [
      "\r",
      " 37%|█████████████████████▋                                     | 152/413 [51:09<1:32:14, 21.20s/it]"
     ]
    },
    {
     "name": "stderr",
     "output_type": "stream",
     "text": [
      "\r",
      " 37%|█████████████████████▊                                     | 153/413 [51:26<1:26:20, 19.92s/it]"
     ]
    },
    {
     "name": "stderr",
     "output_type": "stream",
     "text": [
      "\r",
      " 37%|██████████████████████                                     | 154/413 [51:51<1:33:20, 21.62s/it]"
     ]
    },
    {
     "name": "stderr",
     "output_type": "stream",
     "text": [
      "\r",
      " 38%|██████████████████████▏                                    | 155/413 [52:09<1:27:35, 20.37s/it]"
     ]
    },
    {
     "name": "stderr",
     "output_type": "stream",
     "text": [
      "\r",
      " 38%|██████████████████████▎                                    | 156/413 [52:34<1:34:10, 21.99s/it]"
     ]
    },
    {
     "name": "stderr",
     "output_type": "stream",
     "text": [
      "\r",
      " 38%|██████████████████████▍                                    | 157/413 [52:52<1:28:54, 20.84s/it]"
     ]
    },
    {
     "name": "stderr",
     "output_type": "stream",
     "text": [
      "\r",
      " 38%|██████████████████████▌                                    | 158/413 [53:18<1:35:07, 22.38s/it]"
     ]
    },
    {
     "name": "stderr",
     "output_type": "stream",
     "text": [
      "\r",
      " 38%|██████████████████████▋                                    | 159/413 [53:37<1:29:51, 21.23s/it]"
     ]
    },
    {
     "name": "stderr",
     "output_type": "stream",
     "text": [
      "\r",
      " 39%|██████████████████████▊                                    | 160/413 [54:05<1:37:48, 23.20s/it]"
     ]
    },
    {
     "name": "stderr",
     "output_type": "stream",
     "text": [
      "\r",
      " 39%|███████████████████████                                    | 161/413 [54:24<1:31:49, 21.86s/it]"
     ]
    },
    {
     "name": "stderr",
     "output_type": "stream",
     "text": [
      "\r",
      " 39%|███████████████████████▏                                   | 162/413 [54:52<1:39:11, 23.71s/it]"
     ]
    },
    {
     "name": "stderr",
     "output_type": "stream",
     "text": [
      "\r",
      " 39%|███████████████████████▎                                   | 163/413 [55:12<1:34:59, 22.80s/it]"
     ]
    },
    {
     "name": "stderr",
     "output_type": "stream",
     "text": [
      "\r",
      " 40%|███████████████████████▍                                   | 164/413 [55:41<1:41:45, 24.52s/it]"
     ]
    },
    {
     "name": "stderr",
     "output_type": "stream",
     "text": [
      "\r",
      " 40%|███████████████████████▌                                   | 165/413 [56:02<1:36:54, 23.44s/it]"
     ]
    },
    {
     "name": "stderr",
     "output_type": "stream",
     "text": [
      "\r",
      " 40%|███████████████████████▋                                   | 166/413 [56:30<1:42:59, 25.02s/it]"
     ]
    },
    {
     "name": "stderr",
     "output_type": "stream",
     "text": [
      "\r",
      " 40%|███████████████████████▊                                   | 167/413 [56:52<1:37:59, 23.90s/it]"
     ]
    },
    {
     "name": "stderr",
     "output_type": "stream",
     "text": [
      "\r",
      " 41%|████████████████████████                                   | 168/413 [57:22<1:44:56, 25.70s/it]"
     ]
    },
    {
     "name": "stderr",
     "output_type": "stream",
     "text": [
      "\r",
      " 41%|████████████████████████▏                                  | 169/413 [57:43<1:39:46, 24.54s/it]"
     ]
    },
    {
     "name": "stderr",
     "output_type": "stream",
     "text": [
      "\r",
      " 41%|████████████████████████▎                                  | 170/413 [58:14<1:46:08, 26.21s/it]"
     ]
    },
    {
     "name": "stderr",
     "output_type": "stream",
     "text": [
      "\r",
      " 41%|████████████████████████▍                                  | 171/413 [58:36<1:40:52, 25.01s/it]"
     ]
    },
    {
     "name": "stderr",
     "output_type": "stream",
     "text": [
      "\r",
      " 42%|████████████████████████▌                                  | 172/413 [59:06<1:47:06, 26.66s/it]"
     ]
    },
    {
     "name": "stderr",
     "output_type": "stream",
     "text": [
      "\r",
      " 42%|████████████████████████▋                                  | 173/413 [59:29<1:41:31, 25.38s/it]"
     ]
    },
    {
     "name": "stderr",
     "output_type": "stream",
     "text": [
      "\r",
      " 42%|████████████████████████                                 | 174/413 [1:00:01<1:48:49, 27.32s/it]"
     ]
    },
    {
     "name": "stderr",
     "output_type": "stream",
     "text": [
      "\r",
      " 42%|████████████████████████▏                                | 175/413 [1:00:23<1:42:42, 25.89s/it]"
     ]
    },
    {
     "name": "stderr",
     "output_type": "stream",
     "text": [
      "\r",
      " 43%|████████████████████████▎                                | 176/413 [1:00:56<1:50:29, 27.97s/it]"
     ]
    },
    {
     "name": "stderr",
     "output_type": "stream",
     "text": [
      "\r",
      " 43%|████████████████████████▍                                | 177/413 [1:01:20<1:45:07, 26.73s/it]"
     ]
    },
    {
     "name": "stderr",
     "output_type": "stream",
     "text": [
      "\r",
      " 43%|████████████████████████▋                                | 179/413 [1:01:44<1:27:21, 22.40s/it]"
     ]
    },
    {
     "name": "stderr",
     "output_type": "stream",
     "text": [
      "\r",
      " 44%|████████████████████████▊                                | 180/413 [1:01:45<1:01:51, 15.93s/it]"
     ]
    },
    {
     "name": "stderr",
     "output_type": "stream",
     "text": [
      "\r",
      " 44%|████████████████████████▉                                | 181/413 [1:02:12<1:13:45, 19.08s/it]"
     ]
    },
    {
     "name": "stderr",
     "output_type": "stream",
     "text": [
      "\r",
      " 44%|██████████████████████████                                 | 182/413 [1:02:13<52:54, 13.74s/it]"
     ]
    },
    {
     "name": "stderr",
     "output_type": "stream",
     "text": [
      "\r",
      " 44%|█████████████████████████▎                               | 183/413 [1:02:39<1:07:29, 17.61s/it]"
     ]
    },
    {
     "name": "stderr",
     "output_type": "stream",
     "text": [
      "\r",
      " 45%|██████████████████████████▎                                | 184/413 [1:02:40<47:30, 12.45s/it]"
     ]
    },
    {
     "name": "stderr",
     "output_type": "stream",
     "text": [
      "\r",
      " 45%|█████████████████████████▌                               | 185/413 [1:03:09<1:05:44, 17.30s/it]"
     ]
    },
    {
     "name": "stderr",
     "output_type": "stream",
     "text": [
      "\r",
      " 45%|██████████████████████████▌                                | 186/413 [1:03:09<46:24, 12.26s/it]"
     ]
    },
    {
     "name": "stderr",
     "output_type": "stream",
     "text": [
      "\r",
      " 45%|█████████████████████████▊                               | 187/413 [1:03:37<1:03:25, 16.84s/it]"
     ]
    },
    {
     "name": "stderr",
     "output_type": "stream",
     "text": [
      "\r",
      " 46%|██████████████████████████▊                                | 188/413 [1:03:39<46:48, 12.48s/it]"
     ]
    },
    {
     "name": "stderr",
     "output_type": "stream",
     "text": [
      "\r",
      " 46%|██████████████████████████                               | 189/413 [1:04:06<1:03:31, 17.02s/it]"
     ]
    },
    {
     "name": "stderr",
     "output_type": "stream",
     "text": [
      "\r",
      " 46%|███████████████████████████▏                               | 190/413 [1:04:09<47:20, 12.74s/it]"
     ]
    },
    {
     "name": "stderr",
     "output_type": "stream",
     "text": [
      "\r",
      " 46%|██████████████████████████▎                              | 191/413 [1:04:37<1:04:10, 17.35s/it]"
     ]
    },
    {
     "name": "stderr",
     "output_type": "stream",
     "text": [
      "\r",
      " 46%|███████████████████████████▍                               | 192/413 [1:04:40<48:01, 13.04s/it]"
     ]
    },
    {
     "name": "stderr",
     "output_type": "stream",
     "text": [
      "\r",
      " 47%|██████████████████████████▋                              | 193/413 [1:05:09<1:04:56, 17.71s/it]"
     ]
    },
    {
     "name": "stderr",
     "output_type": "stream",
     "text": [
      "\r",
      " 47%|███████████████████████████▋                               | 194/413 [1:05:12<48:41, 13.34s/it]"
     ]
    },
    {
     "name": "stderr",
     "output_type": "stream",
     "text": [
      "\r",
      " 47%|██████████████████████████▉                              | 195/413 [1:05:41<1:05:34, 18.05s/it]"
     ]
    },
    {
     "name": "stderr",
     "output_type": "stream",
     "text": [
      "\r",
      " 47%|████████████████████████████                               | 196/413 [1:05:45<49:25, 13.67s/it]"
     ]
    },
    {
     "name": "stderr",
     "output_type": "stream",
     "text": [
      "\r",
      " 48%|███████████████████████████▏                             | 197/413 [1:06:15<1:07:22, 18.71s/it]"
     ]
    },
    {
     "name": "stderr",
     "output_type": "stream",
     "text": [
      "\r",
      " 48%|████████████████████████████▎                              | 198/413 [1:06:19<51:05, 14.26s/it]"
     ]
    },
    {
     "name": "stderr",
     "output_type": "stream",
     "text": [
      "\r",
      " 48%|███████████████████████████▍                             | 199/413 [1:06:51<1:09:48, 19.57s/it]"
     ]
    },
    {
     "name": "stderr",
     "output_type": "stream",
     "text": [
      "\r",
      " 48%|████████████████████████████▌                              | 200/413 [1:06:55<53:17, 15.01s/it]"
     ]
    },
    {
     "name": "stderr",
     "output_type": "stream",
     "text": [
      "\r",
      " 49%|███████████████████████████▋                             | 201/413 [1:07:27<1:10:47, 20.03s/it]"
     ]
    },
    {
     "name": "stderr",
     "output_type": "stream",
     "text": [
      "\r",
      " 49%|████████████████████████████▊                              | 202/413 [1:07:34<56:44, 16.14s/it]"
     ]
    },
    {
     "name": "stderr",
     "output_type": "stream",
     "text": [
      "\r",
      " 49%|████████████████████████████                             | 203/413 [1:08:04<1:11:15, 20.36s/it]"
     ]
    },
    {
     "name": "stderr",
     "output_type": "stream",
     "text": [
      "\r",
      " 49%|█████████████████████████████▏                             | 204/413 [1:08:13<58:32, 16.81s/it]"
     ]
    },
    {
     "name": "stderr",
     "output_type": "stream",
     "text": [
      "\r",
      " 50%|████████████████████████████▎                            | 205/413 [1:08:44<1:12:50, 21.01s/it]"
     ]
    },
    {
     "name": "stderr",
     "output_type": "stream",
     "text": [
      "\r",
      " 50%|████████████████████████████▍                            | 206/413 [1:08:54<1:01:05, 17.71s/it]"
     ]
    },
    {
     "name": "stderr",
     "output_type": "stream",
     "text": [
      "\r",
      " 50%|████████████████████████████▌                            | 207/413 [1:09:23<1:12:50, 21.22s/it]"
     ]
    },
    {
     "name": "stderr",
     "output_type": "stream",
     "text": [
      "\r",
      " 50%|████████████████████████████▋                            | 208/413 [1:09:35<1:02:34, 18.31s/it]"
     ]
    },
    {
     "name": "stderr",
     "output_type": "stream",
     "text": [
      "\r",
      " 51%|████████████████████████████▊                            | 209/413 [1:10:05<1:14:15, 21.84s/it]"
     ]
    },
    {
     "name": "stderr",
     "output_type": "stream",
     "text": [
      "\r",
      " 51%|████████████████████████████▉                            | 210/413 [1:10:18<1:05:10, 19.27s/it]"
     ]
    },
    {
     "name": "stderr",
     "output_type": "stream",
     "text": [
      "\r",
      " 51%|█████████████████████████████                            | 211/413 [1:10:48<1:15:46, 22.51s/it]"
     ]
    },
    {
     "name": "stderr",
     "output_type": "stream",
     "text": [
      "\r",
      " 51%|█████████████████████████████▎                           | 212/413 [1:11:03<1:07:46, 20.23s/it]"
     ]
    },
    {
     "name": "stderr",
     "output_type": "stream",
     "text": [
      "\r",
      " 52%|█████████████████████████████▍                           | 213/413 [1:11:32<1:16:02, 22.81s/it]"
     ]
    },
    {
     "name": "stderr",
     "output_type": "stream",
     "text": [
      "\r",
      " 52%|█████████████████████████████▌                           | 214/413 [1:11:47<1:08:19, 20.60s/it]"
     ]
    },
    {
     "name": "stderr",
     "output_type": "stream",
     "text": [
      "\r",
      " 52%|█████████████████████████████▋                           | 215/413 [1:12:18<1:17:43, 23.55s/it]"
     ]
    },
    {
     "name": "stderr",
     "output_type": "stream",
     "text": [
      "\r",
      " 52%|█████████████████████████████▊                           | 216/413 [1:12:34<1:10:43, 21.54s/it]"
     ]
    },
    {
     "name": "stderr",
     "output_type": "stream",
     "text": [
      "\r",
      " 53%|█████████████████████████████▉                           | 217/413 [1:13:05<1:19:13, 24.25s/it]"
     ]
    },
    {
     "name": "stderr",
     "output_type": "stream",
     "text": [
      "\r",
      " 53%|██████████████████████████████                           | 218/413 [1:13:25<1:14:48, 23.02s/it]"
     ]
    },
    {
     "name": "stderr",
     "output_type": "stream",
     "text": [
      "\r",
      " 53%|██████████████████████████████▏                          | 219/413 [1:13:53<1:19:12, 24.50s/it]"
     ]
    },
    {
     "name": "stderr",
     "output_type": "stream",
     "text": [
      "\r",
      " 53%|██████████████████████████████▎                          | 220/413 [1:14:15<1:16:46, 23.87s/it]"
     ]
    },
    {
     "name": "stderr",
     "output_type": "stream",
     "text": [
      "\r",
      " 54%|██████████████████████████████▌                          | 221/413 [1:14:44<1:21:05, 25.34s/it]"
     ]
    },
    {
     "name": "stderr",
     "output_type": "stream",
     "text": [
      "\r",
      " 54%|██████████████████████████████▋                          | 222/413 [1:15:08<1:19:10, 24.87s/it]"
     ]
    },
    {
     "name": "stderr",
     "output_type": "stream",
     "text": [
      "\r",
      " 54%|██████████████████████████████▊                          | 223/413 [1:15:38<1:23:28, 26.36s/it]"
     ]
    },
    {
     "name": "stderr",
     "output_type": "stream",
     "text": [
      "\r",
      " 54%|██████████████████████████████▉                          | 224/413 [1:16:03<1:21:24, 25.84s/it]"
     ]
    },
    {
     "name": "stderr",
     "output_type": "stream",
     "text": [
      "\r",
      " 54%|███████████████████████████████                          | 225/413 [1:16:33<1:25:22, 27.25s/it]"
     ]
    },
    {
     "name": "stderr",
     "output_type": "stream",
     "text": [
      "\r",
      " 55%|███████████████████████████████▏                         | 226/413 [1:16:57<1:21:59, 26.31s/it]"
     ]
    },
    {
     "name": "stderr",
     "output_type": "stream",
     "text": [
      "\r",
      " 55%|███████████████████████████████▎                         | 227/413 [1:17:30<1:27:38, 28.27s/it]"
     ]
    },
    {
     "name": "stderr",
     "output_type": "stream",
     "text": [
      "\r",
      " 55%|███████████████████████████████▍                         | 228/413 [1:17:55<1:24:05, 27.27s/it]"
     ]
    },
    {
     "name": "stderr",
     "output_type": "stream",
     "text": [
      "\r",
      " 55%|███████████████████████████████▌                         | 229/413 [1:18:27<1:28:04, 28.72s/it]"
     ]
    },
    {
     "name": "stderr",
     "output_type": "stream",
     "text": [
      "\r",
      " 56%|███████████████████████████████▋                         | 230/413 [1:18:52<1:24:33, 27.73s/it]"
     ]
    },
    {
     "name": "stderr",
     "output_type": "stream",
     "text": [
      "\r",
      " 56%|███████████████████████████████▉                         | 231/413 [1:19:25<1:28:13, 29.09s/it]"
     ]
    },
    {
     "name": "stderr",
     "output_type": "stream",
     "text": [
      "\r",
      " 56%|████████████████████████████████                         | 232/413 [1:19:51<1:25:18, 28.28s/it]"
     ]
    },
    {
     "name": "stderr",
     "output_type": "stream",
     "text": [
      "\r",
      " 56%|████████████████████████████████▏                        | 233/413 [1:20:24<1:28:55, 29.64s/it]"
     ]
    },
    {
     "name": "stderr",
     "output_type": "stream",
     "text": [
      "\r",
      " 57%|████████████████████████████████▎                        | 234/413 [1:20:50<1:25:29, 28.66s/it]"
     ]
    },
    {
     "name": "stderr",
     "output_type": "stream",
     "text": [
      "\r",
      " 57%|████████████████████████████████▍                        | 235/413 [1:21:25<1:30:26, 30.49s/it]"
     ]
    },
    {
     "name": "stderr",
     "output_type": "stream",
     "text": [
      "\r",
      " 57%|████████████████████████████████▌                        | 236/413 [1:21:48<1:23:29, 28.30s/it]"
     ]
    },
    {
     "name": "stderr",
     "output_type": "stream",
     "text": [
      "\r",
      " 57%|████████████████████████████████▋                        | 237/413 [1:21:52<1:01:51, 21.09s/it]"
     ]
    },
    {
     "name": "stderr",
     "output_type": "stream",
     "text": [
      "\r",
      " 58%|████████████████████████████████▊                        | 238/413 [1:22:13<1:00:33, 20.77s/it]"
     ]
    },
    {
     "name": "stderr",
     "output_type": "stream",
     "text": [
      "\r",
      " 58%|██████████████████████████████████▏                        | 239/413 [1:22:17<46:16, 15.96s/it]"
     ]
    },
    {
     "name": "stderr",
     "output_type": "stream",
     "text": [
      "\r",
      " 58%|██████████████████████████████████▎                        | 240/413 [1:22:39<51:11, 17.76s/it]"
     ]
    },
    {
     "name": "stderr",
     "output_type": "stream",
     "text": [
      "\r",
      " 58%|██████████████████████████████████▍                        | 241/413 [1:22:44<40:00, 13.96s/it]"
     ]
    },
    {
     "name": "stderr",
     "output_type": "stream",
     "text": [
      "\r",
      " 59%|██████████████████████████████████▌                        | 242/413 [1:23:07<47:10, 16.56s/it]"
     ]
    },
    {
     "name": "stderr",
     "output_type": "stream",
     "text": [
      "\r",
      " 59%|██████████████████████████████████▋                        | 243/413 [1:23:12<37:34, 13.26s/it]"
     ]
    },
    {
     "name": "stderr",
     "output_type": "stream",
     "text": [
      "\r",
      " 59%|██████████████████████████████████▊                        | 244/413 [1:23:35<45:33, 16.17s/it]"
     ]
    },
    {
     "name": "stderr",
     "output_type": "stream",
     "text": [
      "\r",
      " 59%|███████████████████████████████████                        | 245/413 [1:23:42<37:29, 13.39s/it]"
     ]
    },
    {
     "name": "stderr",
     "output_type": "stream",
     "text": [
      "\r",
      " 60%|███████████████████████████████████▏                       | 246/413 [1:24:06<45:31, 16.35s/it]"
     ]
    },
    {
     "name": "stderr",
     "output_type": "stream",
     "text": [
      "\r",
      " 60%|███████████████████████████████████▎                       | 247/413 [1:24:13<37:44, 13.64s/it]"
     ]
    },
    {
     "name": "stderr",
     "output_type": "stream",
     "text": [
      "\r",
      " 60%|███████████████████████████████████▍                       | 248/413 [1:24:37<45:44, 16.63s/it]"
     ]
    },
    {
     "name": "stderr",
     "output_type": "stream",
     "text": [
      "\r",
      " 60%|███████████████████████████████████▌                       | 249/413 [1:24:44<38:09, 13.96s/it]"
     ]
    },
    {
     "name": "stderr",
     "output_type": "stream",
     "text": [
      "\r",
      " 61%|███████████████████████████████████▋                       | 250/413 [1:25:08<46:01, 16.94s/it]"
     ]
    },
    {
     "name": "stderr",
     "output_type": "stream",
     "text": [
      "\r",
      " 61%|███████████████████████████████████▊                       | 251/413 [1:25:17<39:05, 14.48s/it]"
     ]
    },
    {
     "name": "stderr",
     "output_type": "stream",
     "text": [
      "\r",
      " 61%|████████████████████████████████████                       | 252/413 [1:25:42<47:15, 17.61s/it]"
     ]
    },
    {
     "name": "stderr",
     "output_type": "stream",
     "text": [
      "\r",
      " 61%|████████████████████████████████████▏                      | 253/413 [1:25:51<40:29, 15.18s/it]"
     ]
    },
    {
     "name": "stderr",
     "output_type": "stream",
     "text": [
      "\r",
      " 62%|████████████████████████████████████▎                      | 254/413 [1:26:17<48:18, 18.23s/it]"
     ]
    },
    {
     "name": "stderr",
     "output_type": "stream",
     "text": [
      "\r",
      " 62%|████████████████████████████████████▍                      | 255/413 [1:26:27<41:27, 15.74s/it]"
     ]
    },
    {
     "name": "stderr",
     "output_type": "stream",
     "text": [
      "\r",
      " 62%|████████████████████████████████████▌                      | 256/413 [1:26:52<48:59, 18.73s/it]"
     ]
    },
    {
     "name": "stderr",
     "output_type": "stream",
     "text": [
      "\r",
      " 62%|████████████████████████████████████▋                      | 257/413 [1:27:03<42:02, 16.17s/it]"
     ]
    },
    {
     "name": "stderr",
     "output_type": "stream",
     "text": [
      "\r",
      " 62%|████████████████████████████████████▊                      | 258/413 [1:27:29<49:37, 19.21s/it]"
     ]
    },
    {
     "name": "stderr",
     "output_type": "stream",
     "text": [
      "\r",
      " 63%|█████████████████████████████████████                      | 259/413 [1:27:39<42:32, 16.57s/it]"
     ]
    },
    {
     "name": "stderr",
     "output_type": "stream",
     "text": [
      "\r",
      " 63%|█████████████████████████████████████▏                     | 260/413 [1:28:06<49:54, 19.57s/it]"
     ]
    },
    {
     "name": "stderr",
     "output_type": "stream",
     "text": [
      "\r",
      " 63%|█████████████████████████████████████▎                     | 261/413 [1:28:17<43:04, 17.01s/it]"
     ]
    },
    {
     "name": "stderr",
     "output_type": "stream",
     "text": [
      "\r",
      " 63%|█████████████████████████████████████▍                     | 262/413 [1:28:44<50:29, 20.06s/it]"
     ]
    },
    {
     "name": "stderr",
     "output_type": "stream",
     "text": [
      "\r",
      " 64%|█████████████████████████████████████▌                     | 263/413 [1:28:55<43:33, 17.42s/it]"
     ]
    },
    {
     "name": "stderr",
     "output_type": "stream",
     "text": [
      "\r",
      " 64%|█████████████████████████████████████▋                     | 264/413 [1:29:23<51:16, 20.65s/it]"
     ]
    },
    {
     "name": "stderr",
     "output_type": "stream",
     "text": [
      "\r",
      " 64%|█████████████████████████████████████▊                     | 265/413 [1:29:37<45:22, 18.40s/it]"
     ]
    },
    {
     "name": "stderr",
     "output_type": "stream",
     "text": [
      "\r",
      " 64%|██████████████████████████████████████                     | 266/413 [1:30:05<52:30, 21.43s/it]"
     ]
    },
    {
     "name": "stderr",
     "output_type": "stream",
     "text": [
      "\r",
      " 65%|██████████████████████████████████████▏                    | 267/413 [1:30:19<46:36, 19.16s/it]"
     ]
    },
    {
     "name": "stderr",
     "output_type": "stream",
     "text": [
      "\r",
      " 65%|██████████████████████████████████████▎                    | 268/413 [1:30:49<54:01, 22.36s/it]"
     ]
    },
    {
     "name": "stderr",
     "output_type": "stream",
     "text": [
      "\r",
      " 65%|██████████████████████████████████████▍                    | 269/413 [1:31:03<47:45, 19.90s/it]"
     ]
    },
    {
     "name": "stderr",
     "output_type": "stream",
     "text": [
      "\r",
      " 65%|██████████████████████████████████████▌                    | 270/413 [1:31:34<55:04, 23.11s/it]"
     ]
    },
    {
     "name": "stderr",
     "output_type": "stream",
     "text": [
      "\r",
      " 66%|██████████████████████████████████████▋                    | 271/413 [1:31:48<48:31, 20.51s/it]"
     ]
    },
    {
     "name": "stderr",
     "output_type": "stream",
     "text": [
      "\r",
      " 66%|██████████████████████████████████████▊                    | 272/413 [1:32:19<55:31, 23.63s/it]"
     ]
    },
    {
     "name": "stderr",
     "output_type": "stream",
     "text": [
      "\r",
      " 66%|███████████████████████████████████████                    | 273/413 [1:32:34<49:01, 21.01s/it]"
     ]
    },
    {
     "name": "stderr",
     "output_type": "stream",
     "text": [
      "\r",
      " 66%|███████████████████████████████████████▏                   | 274/413 [1:33:06<56:46, 24.50s/it]"
     ]
    },
    {
     "name": "stderr",
     "output_type": "stream",
     "text": [
      "\r",
      " 67%|███████████████████████████████████████▎                   | 275/413 [1:33:22<49:52, 21.68s/it]"
     ]
    },
    {
     "name": "stderr",
     "output_type": "stream",
     "text": [
      "\r",
      " 67%|███████████████████████████████████████▍                   | 276/413 [1:33:55<57:14, 25.07s/it]"
     ]
    },
    {
     "name": "stderr",
     "output_type": "stream",
     "text": [
      "\r",
      " 67%|███████████████████████████████████████▌                   | 277/413 [1:34:10<50:15, 22.17s/it]"
     ]
    },
    {
     "name": "stderr",
     "output_type": "stream",
     "text": [
      "\r",
      " 67%|███████████████████████████████████████▋                   | 278/413 [1:34:43<57:34, 25.59s/it]"
     ]
    },
    {
     "name": "stderr",
     "output_type": "stream",
     "text": [
      "\r",
      " 68%|███████████████████████████████████████▊                   | 279/413 [1:34:59<50:42, 22.71s/it]"
     ]
    },
    {
     "name": "stderr",
     "output_type": "stream",
     "text": [
      "\r",
      " 68%|████████████████████████████████████████                   | 280/413 [1:35:33<57:43, 26.04s/it]"
     ]
    },
    {
     "name": "stderr",
     "output_type": "stream",
     "text": [
      "\r",
      " 68%|████████████████████████████████████████▏                  | 281/413 [1:35:50<50:51, 23.12s/it]"
     ]
    },
    {
     "name": "stderr",
     "output_type": "stream",
     "text": [
      "\r",
      " 68%|████████████████████████████████████████▎                  | 282/413 [1:36:25<58:23, 26.75s/it]"
     ]
    },
    {
     "name": "stderr",
     "output_type": "stream",
     "text": [
      "\r",
      " 69%|████████████████████████████████████████▍                  | 283/413 [1:36:41<51:20, 23.70s/it]"
     ]
    },
    {
     "name": "stderr",
     "output_type": "stream",
     "text": [
      "\r",
      " 69%|████████████████████████████████████████▌                  | 284/413 [1:37:17<58:31, 27.22s/it]"
     ]
    },
    {
     "name": "stderr",
     "output_type": "stream",
     "text": [
      "\r",
      " 69%|████████████████████████████████████████▋                  | 285/413 [1:37:34<51:21, 24.07s/it]"
     ]
    },
    {
     "name": "stderr",
     "output_type": "stream",
     "text": [
      "\r",
      " 69%|████████████████████████████████████████▊                  | 286/413 [1:38:10<58:33, 27.67s/it]"
     ]
    },
    {
     "name": "stderr",
     "output_type": "stream",
     "text": [
      "\r",
      " 69%|█████████████████████████████████████████                  | 287/413 [1:38:27<51:20, 24.45s/it]"
     ]
    },
    {
     "name": "stderr",
     "output_type": "stream",
     "text": [
      "\r",
      " 70%|█████████████████████████████████████████▏                 | 288/413 [1:39:03<58:27, 28.06s/it]"
     ]
    },
    {
     "name": "stderr",
     "output_type": "stream",
     "text": [
      "\r",
      " 70%|█████████████████████████████████████████▎                 | 289/413 [1:39:20<51:21, 24.85s/it]"
     ]
    },
    {
     "name": "stderr",
     "output_type": "stream",
     "text": [
      "\r",
      " 70%|█████████████████████████████████████████▍                 | 290/413 [1:39:58<58:32, 28.56s/it]"
     ]
    },
    {
     "name": "stderr",
     "output_type": "stream",
     "text": [
      "\r",
      " 70%|█████████████████████████████████████████▌                 | 291/413 [1:40:17<52:26, 25.79s/it]"
     ]
    },
    {
     "name": "stderr",
     "output_type": "stream",
     "text": [
      "\r",
      " 71%|█████████████████████████████████████████▋                 | 292/413 [1:40:54<58:58, 29.25s/it]"
     ]
    },
    {
     "name": "stderr",
     "output_type": "stream",
     "text": [
      "\r",
      " 71%|█████████████████████████████████████████▊                 | 293/413 [1:41:15<53:23, 26.69s/it]"
     ]
    },
    {
     "name": "stderr",
     "output_type": "stream",
     "text": [
      "\r",
      " 71%|██████████████████████████████████████████                 | 294/413 [1:41:52<59:16, 29.89s/it]"
     ]
    },
    {
     "name": "stderr",
     "output_type": "stream",
     "text": [
      "\r",
      " 71%|██████████████████████████████████████████▏                | 295/413 [1:42:15<54:23, 27.66s/it]"
     ]
    },
    {
     "name": "stderr",
     "output_type": "stream",
     "text": [
      "\r",
      " 72%|██████████████████████████████████████████▎                | 296/413 [1:42:19<39:56, 20.48s/it]"
     ]
    },
    {
     "name": "stderr",
     "output_type": "stream",
     "text": [
      "\r",
      " 72%|██████████████████████████████████████████▍                | 297/413 [1:42:42<41:15, 21.34s/it]"
     ]
    },
    {
     "name": "stderr",
     "output_type": "stream",
     "text": [
      "\r",
      " 72%|██████████████████████████████████████████▌                | 298/413 [1:42:47<31:26, 16.40s/it]"
     ]
    },
    {
     "name": "stderr",
     "output_type": "stream",
     "text": [
      "\r",
      " 72%|██████████████████████████████████████████▋                | 299/413 [1:43:12<36:28, 19.19s/it]"
     ]
    },
    {
     "name": "stderr",
     "output_type": "stream",
     "text": [
      "\r",
      " 73%|██████████████████████████████████████████▊                | 300/413 [1:43:18<28:38, 15.21s/it]"
     ]
    },
    {
     "name": "stderr",
     "output_type": "stream",
     "text": [
      "\r",
      " 73%|███████████████████████████████████████████                | 301/413 [1:43:46<35:13, 18.87s/it]"
     ]
    },
    {
     "name": "stderr",
     "output_type": "stream",
     "text": [
      "\r",
      " 73%|███████████████████████████████████████████▏               | 302/413 [1:43:52<28:05, 15.19s/it]"
     ]
    },
    {
     "name": "stderr",
     "output_type": "stream",
     "text": [
      "\r",
      " 73%|███████████████████████████████████████████▎               | 303/413 [1:44:21<35:21, 19.29s/it]"
     ]
    },
    {
     "name": "stderr",
     "output_type": "stream",
     "text": [
      "\r",
      " 74%|███████████████████████████████████████████▍               | 304/413 [1:44:29<28:47, 15.85s/it]"
     ]
    },
    {
     "name": "stderr",
     "output_type": "stream",
     "text": [
      "\r",
      " 74%|███████████████████████████████████████████▌               | 305/413 [1:44:58<35:44, 19.85s/it]"
     ]
    },
    {
     "name": "stderr",
     "output_type": "stream",
     "text": [
      "\r",
      " 74%|███████████████████████████████████████████▋               | 306/413 [1:45:08<29:48, 16.71s/it]"
     ]
    },
    {
     "name": "stderr",
     "output_type": "stream",
     "text": [
      "\r",
      " 74%|███████████████████████████████████████████▊               | 307/413 [1:45:38<36:47, 20.83s/it]"
     ]
    },
    {
     "name": "stderr",
     "output_type": "stream",
     "text": [
      "\r",
      " 75%|████████████████████████████████████████████               | 308/413 [1:45:49<31:06, 17.78s/it]"
     ]
    },
    {
     "name": "stderr",
     "output_type": "stream",
     "text": [
      "\r",
      " 75%|████████████████████████████████████████████▏              | 309/413 [1:46:20<37:49, 21.82s/it]"
     ]
    },
    {
     "name": "stderr",
     "output_type": "stream",
     "text": [
      "\r",
      " 75%|████████████████████████████████████████████▎              | 310/413 [1:46:31<32:07, 18.71s/it]"
     ]
    },
    {
     "name": "stderr",
     "output_type": "stream",
     "text": [
      "\r",
      " 75%|████████████████████████████████████████████▍              | 311/413 [1:47:03<38:31, 22.67s/it]"
     ]
    },
    {
     "name": "stderr",
     "output_type": "stream",
     "text": [
      "\r",
      " 76%|████████████████████████████████████████████▌              | 312/413 [1:47:15<32:32, 19.33s/it]"
     ]
    },
    {
     "name": "stderr",
     "output_type": "stream",
     "text": [
      "\r",
      " 76%|████████████████████████████████████████████▋              | 313/413 [1:47:47<38:45, 23.26s/it]"
     ]
    },
    {
     "name": "stderr",
     "output_type": "stream",
     "text": [
      "\r",
      " 76%|████████████████████████████████████████████▊              | 314/413 [1:48:00<33:01, 20.02s/it]"
     ]
    },
    {
     "name": "stderr",
     "output_type": "stream",
     "text": [
      "\r",
      " 76%|█████████████████████████████████████████████              | 315/413 [1:48:33<39:03, 23.91s/it]"
     ]
    },
    {
     "name": "stderr",
     "output_type": "stream",
     "text": [
      "\r",
      " 77%|█████████████████████████████████████████████▏             | 316/413 [1:48:46<33:38, 20.81s/it]"
     ]
    },
    {
     "name": "stderr",
     "output_type": "stream",
     "text": [
      "\r",
      " 77%|█████████████████████████████████████████████▎             | 317/413 [1:49:20<39:37, 24.77s/it]"
     ]
    },
    {
     "name": "stderr",
     "output_type": "stream",
     "text": [
      "\r",
      " 77%|█████████████████████████████████████████████▍             | 318/413 [1:49:35<34:23, 21.73s/it]"
     ]
    },
    {
     "name": "stderr",
     "output_type": "stream",
     "text": [
      "\r",
      " 77%|█████████████████████████████████████████████▌             | 319/413 [1:50:10<40:05, 25.59s/it]"
     ]
    },
    {
     "name": "stderr",
     "output_type": "stream",
     "text": [
      "\r",
      " 77%|█████████████████████████████████████████████▋             | 320/413 [1:50:24<34:29, 22.25s/it]"
     ]
    },
    {
     "name": "stderr",
     "output_type": "stream",
     "text": [
      "\r",
      " 78%|█████████████████████████████████████████████▊             | 321/413 [1:51:00<40:14, 26.25s/it]"
     ]
    },
    {
     "name": "stderr",
     "output_type": "stream",
     "text": [
      "\r",
      " 78%|██████████████████████████████████████████████             | 322/413 [1:51:15<34:52, 22.99s/it]"
     ]
    },
    {
     "name": "stderr",
     "output_type": "stream",
     "text": [
      "\r",
      " 78%|██████████████████████████████████████████████▏            | 323/413 [1:51:51<40:15, 26.84s/it]"
     ]
    },
    {
     "name": "stderr",
     "output_type": "stream",
     "text": [
      "\r",
      " 78%|██████████████████████████████████████████████▎            | 324/413 [1:52:06<34:43, 23.41s/it]"
     ]
    },
    {
     "name": "stderr",
     "output_type": "stream",
     "text": [
      "\r",
      " 79%|██████████████████████████████████████████████▍            | 325/413 [1:52:43<40:06, 27.34s/it]"
     ]
    },
    {
     "name": "stderr",
     "output_type": "stream",
     "text": [
      "\r",
      " 79%|██████████████████████████████████████████████▌            | 326/413 [1:52:59<35:02, 24.17s/it]"
     ]
    },
    {
     "name": "stderr",
     "output_type": "stream",
     "text": [
      "\r",
      " 79%|██████████████████████████████████████████████▋            | 327/413 [1:53:37<40:26, 28.21s/it]"
     ]
    },
    {
     "name": "stderr",
     "output_type": "stream",
     "text": [
      "\r",
      " 79%|██████████████████████████████████████████████▊            | 328/413 [1:53:54<35:14, 24.88s/it]"
     ]
    },
    {
     "name": "stderr",
     "output_type": "stream",
     "text": [
      "\r",
      " 80%|███████████████████████████████████████████████            | 329/413 [1:54:32<40:16, 28.77s/it]"
     ]
    },
    {
     "name": "stderr",
     "output_type": "stream",
     "text": [
      "\r",
      " 80%|███████████████████████████████████████████████▏           | 330/413 [1:54:50<35:09, 25.41s/it]"
     ]
    },
    {
     "name": "stderr",
     "output_type": "stream",
     "text": [
      "\r",
      " 80%|███████████████████████████████████████████████▎           | 331/413 [1:55:29<40:16, 29.47s/it]"
     ]
    },
    {
     "name": "stderr",
     "output_type": "stream",
     "text": [
      "\r",
      " 80%|███████████████████████████████████████████████▍           | 332/413 [1:55:46<35:03, 25.97s/it]"
     ]
    },
    {
     "name": "stderr",
     "output_type": "stream",
     "text": [
      "\r",
      " 81%|███████████████████████████████████████████████▌           | 333/413 [1:56:26<40:04, 30.06s/it]"
     ]
    },
    {
     "name": "stderr",
     "output_type": "stream",
     "text": [
      "\r",
      " 81%|███████████████████████████████████████████████▋           | 334/413 [1:56:44<34:51, 26.48s/it]"
     ]
    },
    {
     "name": "stderr",
     "output_type": "stream",
     "text": [
      "\r",
      " 81%|███████████████████████████████████████████████▊           | 335/413 [1:57:24<39:45, 30.58s/it]"
     ]
    },
    {
     "name": "stderr",
     "output_type": "stream",
     "text": [
      "\r",
      " 81%|████████████████████████████████████████████████           | 336/413 [1:57:43<34:43, 27.06s/it]"
     ]
    },
    {
     "name": "stderr",
     "output_type": "stream",
     "text": [
      "\r",
      " 82%|████████████████████████████████████████████████▏          | 337/413 [1:58:24<39:28, 31.16s/it]"
     ]
    },
    {
     "name": "stderr",
     "output_type": "stream",
     "text": [
      "\r",
      " 82%|████████████████████████████████████████████████▎          | 338/413 [1:58:43<34:36, 27.68s/it]"
     ]
    },
    {
     "name": "stderr",
     "output_type": "stream",
     "text": [
      "\r",
      " 82%|████████████████████████████████████████████████▍          | 339/413 [1:59:24<39:04, 31.68s/it]"
     ]
    },
    {
     "name": "stderr",
     "output_type": "stream",
     "text": [
      "\r",
      " 82%|████████████████████████████████████████████████▌          | 340/413 [1:59:45<34:24, 28.28s/it]"
     ]
    },
    {
     "name": "stderr",
     "output_type": "stream",
     "text": [
      "\r",
      " 83%|████████████████████████████████████████████████▋          | 341/413 [2:00:26<38:27, 32.05s/it]"
     ]
    },
    {
     "name": "stderr",
     "output_type": "stream",
     "text": [
      "\r",
      " 83%|████████████████████████████████████████████████▊          | 342/413 [2:00:47<34:05, 28.81s/it]"
     ]
    },
    {
     "name": "stderr",
     "output_type": "stream",
     "text": [
      "\r",
      " 83%|█████████████████████████████████████████████████          | 343/413 [2:01:28<37:55, 32.51s/it]"
     ]
    },
    {
     "name": "stderr",
     "output_type": "stream",
     "text": [
      "\r",
      " 83%|█████████████████████████████████████████████████▏         | 344/413 [2:01:50<33:38, 29.26s/it]"
     ]
    },
    {
     "name": "stderr",
     "output_type": "stream",
     "text": [
      "\r",
      " 84%|█████████████████████████████████████████████████▎         | 345/413 [2:02:32<37:28, 33.06s/it]"
     ]
    },
    {
     "name": "stderr",
     "output_type": "stream",
     "text": [
      "\r",
      " 84%|█████████████████████████████████████████████████▍         | 346/413 [2:02:54<33:18, 29.83s/it]"
     ]
    },
    {
     "name": "stderr",
     "output_type": "stream",
     "text": [
      "\r",
      " 84%|█████████████████████████████████████████████████▌         | 347/413 [2:03:36<36:57, 33.60s/it]"
     ]
    },
    {
     "name": "stderr",
     "output_type": "stream",
     "text": [
      "\r",
      " 84%|█████████████████████████████████████████████████▋         | 348/413 [2:04:00<33:03, 30.51s/it]"
     ]
    },
    {
     "name": "stderr",
     "output_type": "stream",
     "text": [
      "\r",
      " 85%|█████████████████████████████████████████████████▊         | 349/413 [2:04:42<36:15, 34.00s/it]"
     ]
    },
    {
     "name": "stderr",
     "output_type": "stream",
     "text": [
      "\r",
      " 85%|██████████████████████████████████████████████████         | 350/413 [2:05:06<32:36, 31.05s/it]"
     ]
    },
    {
     "name": "stderr",
     "output_type": "stream",
     "text": [
      "\r",
      " 85%|██████████████████████████████████████████████████▏        | 351/413 [2:05:49<35:42, 34.55s/it]"
     ]
    },
    {
     "name": "stderr",
     "output_type": "stream",
     "text": [
      "\r",
      " 85%|██████████████████████████████████████████████████▎        | 352/413 [2:06:13<32:03, 31.54s/it]"
     ]
    },
    {
     "name": "stderr",
     "output_type": "stream",
     "text": [
      "\r",
      " 85%|██████████████████████████████████████████████████▍        | 353/413 [2:06:56<34:51, 34.85s/it]"
     ]
    },
    {
     "name": "stderr",
     "output_type": "stream",
     "text": [
      "\r",
      " 86%|██████████████████████████████████████████████████▌        | 354/413 [2:07:17<30:22, 30.89s/it]"
     ]
    },
    {
     "name": "stderr",
     "output_type": "stream",
     "text": [
      "\r",
      " 86%|██████████████████████████████████████████████████▋        | 355/413 [2:07:20<21:47, 22.55s/it]"
     ]
    },
    {
     "name": "stderr",
     "output_type": "stream",
     "text": [
      "\r",
      " 86%|██████████████████████████████████████████████████▊        | 356/413 [2:07:40<20:27, 21.54s/it]"
     ]
    },
    {
     "name": "stderr",
     "output_type": "stream",
     "text": [
      "\r",
      " 86%|███████████████████████████████████████████████████        | 357/413 [2:07:44<15:17, 16.38s/it]"
     ]
    },
    {
     "name": "stderr",
     "output_type": "stream",
     "text": [
      "\r",
      " 87%|███████████████████████████████████████████████████▏       | 358/413 [2:08:04<16:01, 17.48s/it]"
     ]
    },
    {
     "name": "stderr",
     "output_type": "stream",
     "text": [
      "\r",
      " 87%|███████████████████████████████████████████████████▎       | 359/413 [2:08:09<12:15, 13.62s/it]"
     ]
    },
    {
     "name": "stderr",
     "output_type": "stream",
     "text": [
      "\r",
      " 87%|███████████████████████████████████████████████████▍       | 360/413 [2:08:29<13:50, 15.67s/it]"
     ]
    },
    {
     "name": "stderr",
     "output_type": "stream",
     "text": [
      "\r",
      " 87%|███████████████████████████████████████████████████▌       | 361/413 [2:08:34<10:45, 12.42s/it]"
     ]
    },
    {
     "name": "stderr",
     "output_type": "stream",
     "text": [
      "\r",
      " 88%|███████████████████████████████████████████████████▋       | 362/413 [2:08:55<12:40, 14.91s/it]"
     ]
    },
    {
     "name": "stderr",
     "output_type": "stream",
     "text": [
      "\r",
      " 88%|███████████████████████████████████████████████████▊       | 363/413 [2:09:00<10:03, 12.06s/it]"
     ]
    },
    {
     "name": "stderr",
     "output_type": "stream",
     "text": [
      "\r",
      " 88%|████████████████████████████████████████████████████       | 364/413 [2:09:21<12:03, 14.76s/it]"
     ]
    },
    {
     "name": "stderr",
     "output_type": "stream",
     "text": [
      "\r",
      " 88%|████████████████████████████████████████████████████▏      | 365/413 [2:09:27<09:37, 12.04s/it]"
     ]
    },
    {
     "name": "stderr",
     "output_type": "stream",
     "text": [
      "\r",
      " 89%|████████████████████████████████████████████████████▎      | 366/413 [2:09:48<11:38, 14.86s/it]"
     ]
    },
    {
     "name": "stderr",
     "output_type": "stream",
     "text": [
      "\r",
      " 89%|████████████████████████████████████████████████████▍      | 367/413 [2:09:54<09:19, 12.17s/it]"
     ]
    },
    {
     "name": "stderr",
     "output_type": "stream",
     "text": [
      "\r",
      " 89%|████████████████████████████████████████████████████▌      | 368/413 [2:10:16<11:17, 15.05s/it]"
     ]
    },
    {
     "name": "stderr",
     "output_type": "stream",
     "text": [
      "\r",
      " 89%|████████████████████████████████████████████████████▋      | 369/413 [2:10:22<09:02, 12.34s/it]"
     ]
    },
    {
     "name": "stderr",
     "output_type": "stream",
     "text": [
      "\r",
      " 90%|████████████████████████████████████████████████████▊      | 370/413 [2:10:44<10:59, 15.33s/it]"
     ]
    },
    {
     "name": "stderr",
     "output_type": "stream",
     "text": [
      "\r",
      " 90%|█████████████████████████████████████████████████████      | 371/413 [2:10:51<08:50, 12.63s/it]"
     ]
    },
    {
     "name": "stderr",
     "output_type": "stream",
     "text": [
      "\r",
      " 90%|█████████████████████████████████████████████████████▏     | 372/413 [2:11:13<10:37, 15.54s/it]"
     ]
    },
    {
     "name": "stderr",
     "output_type": "stream",
     "text": [
      "\r",
      " 90%|█████████████████████████████████████████████████████▎     | 373/413 [2:11:20<08:38, 12.95s/it]"
     ]
    },
    {
     "name": "stderr",
     "output_type": "stream",
     "text": [
      "\r",
      " 91%|█████████████████████████████████████████████████████▍     | 374/413 [2:11:42<10:17, 15.83s/it]"
     ]
    },
    {
     "name": "stderr",
     "output_type": "stream",
     "text": [
      "\r",
      " 91%|█████████████████████████████████████████████████████▌     | 375/413 [2:11:50<08:24, 13.28s/it]"
     ]
    },
    {
     "name": "stderr",
     "output_type": "stream",
     "text": [
      "\r",
      " 91%|█████████████████████████████████████████████████████▋     | 376/413 [2:12:13<09:57, 16.16s/it]"
     ]
    },
    {
     "name": "stderr",
     "output_type": "stream",
     "text": [
      "\r",
      " 91%|█████████████████████████████████████████████████████▊     | 377/413 [2:12:20<08:10, 13.63s/it]"
     ]
    },
    {
     "name": "stderr",
     "output_type": "stream",
     "text": [
      "\r",
      " 92%|██████████████████████████████████████████████████████     | 378/413 [2:12:44<09:38, 16.53s/it]"
     ]
    },
    {
     "name": "stderr",
     "output_type": "stream",
     "text": [
      "\r",
      " 92%|██████████████████████████████████████████████████████▏    | 379/413 [2:12:52<07:54, 13.95s/it]"
     ]
    },
    {
     "name": "stderr",
     "output_type": "stream",
     "text": [
      "\r",
      " 92%|██████████████████████████████████████████████████████▎    | 380/413 [2:13:15<09:17, 16.91s/it]"
     ]
    },
    {
     "name": "stderr",
     "output_type": "stream",
     "text": [
      "\r",
      " 92%|██████████████████████████████████████████████████████▍    | 381/413 [2:13:23<07:36, 14.27s/it]"
     ]
    },
    {
     "name": "stderr",
     "output_type": "stream",
     "text": [
      "\r",
      " 92%|██████████████████████████████████████████████████████▌    | 382/413 [2:13:48<08:53, 17.21s/it]"
     ]
    },
    {
     "name": "stderr",
     "output_type": "stream",
     "text": [
      "\r",
      " 93%|██████████████████████████████████████████████████████▋    | 383/413 [2:13:56<07:16, 14.54s/it]"
     ]
    },
    {
     "name": "stderr",
     "output_type": "stream",
     "text": [
      "\r",
      " 93%|██████████████████████████████████████████████████████▊    | 384/413 [2:14:20<08:27, 17.51s/it]"
     ]
    },
    {
     "name": "stderr",
     "output_type": "stream",
     "text": [
      "\r",
      " 93%|███████████████████████████████████████████████████████    | 385/413 [2:14:29<06:54, 14.80s/it]"
     ]
    },
    {
     "name": "stderr",
     "output_type": "stream",
     "text": [
      "\r",
      " 93%|███████████████████████████████████████████████████████▏   | 386/413 [2:14:54<08:03, 17.90s/it]"
     ]
    },
    {
     "name": "stderr",
     "output_type": "stream",
     "text": [
      "\r",
      " 94%|███████████████████████████████████████████████████████▎   | 387/413 [2:15:03<06:34, 15.16s/it]"
     ]
    },
    {
     "name": "stderr",
     "output_type": "stream",
     "text": [
      "\r",
      " 94%|███████████████████████████████████████████████████████▍   | 388/413 [2:15:28<07:36, 18.26s/it]"
     ]
    },
    {
     "name": "stderr",
     "output_type": "stream",
     "text": [
      "\r",
      " 94%|███████████████████████████████████████████████████████▌   | 389/413 [2:15:37<06:11, 15.50s/it]"
     ]
    },
    {
     "name": "stderr",
     "output_type": "stream",
     "text": [
      "\r",
      " 94%|███████████████████████████████████████████████████████▋   | 390/413 [2:16:03<07:07, 18.58s/it]"
     ]
    },
    {
     "name": "stderr",
     "output_type": "stream",
     "text": [
      "\r",
      " 95%|███████████████████████████████████████████████████████▊   | 391/413 [2:16:12<05:47, 15.81s/it]"
     ]
    },
    {
     "name": "stderr",
     "output_type": "stream",
     "text": [
      "\r",
      " 95%|████████████████████████████████████████████████████████   | 392/413 [2:16:38<06:37, 18.92s/it]"
     ]
    },
    {
     "name": "stderr",
     "output_type": "stream",
     "text": [
      "\r",
      " 95%|████████████████████████████████████████████████████████▏  | 393/413 [2:16:48<05:21, 16.05s/it]"
     ]
    },
    {
     "name": "stderr",
     "output_type": "stream",
     "text": [
      "\r",
      " 95%|████████████████████████████████████████████████████████▎  | 394/413 [2:17:15<06:05, 19.25s/it]"
     ]
    },
    {
     "name": "stderr",
     "output_type": "stream",
     "text": [
      "\r",
      " 96%|████████████████████████████████████████████████████████▍  | 395/413 [2:17:24<04:54, 16.35s/it]"
     ]
    },
    {
     "name": "stderr",
     "output_type": "stream",
     "text": [
      "\r",
      " 96%|████████████████████████████████████████████████████████▌  | 396/413 [2:17:51<05:32, 19.57s/it]"
     ]
    },
    {
     "name": "stderr",
     "output_type": "stream",
     "text": [
      "\r",
      " 96%|████████████████████████████████████████████████████████▋  | 397/413 [2:18:01<04:26, 16.65s/it]"
     ]
    },
    {
     "name": "stderr",
     "output_type": "stream",
     "text": [
      "\r",
      " 96%|████████████████████████████████████████████████████████▊  | 398/413 [2:18:29<04:59, 19.95s/it]"
     ]
    },
    {
     "name": "stderr",
     "output_type": "stream",
     "text": [
      "\r",
      " 97%|█████████████████████████████████████████████████████████  | 399/413 [2:18:39<03:58, 17.02s/it]"
     ]
    },
    {
     "name": "stderr",
     "output_type": "stream",
     "text": [
      "\r",
      " 97%|█████████████████████████████████████████████████████████▏ | 400/413 [2:19:07<04:23, 20.29s/it]"
     ]
    },
    {
     "name": "stderr",
     "output_type": "stream",
     "text": [
      "\r",
      " 97%|█████████████████████████████████████████████████████████▎ | 401/413 [2:19:17<03:27, 17.33s/it]"
     ]
    },
    {
     "name": "stderr",
     "output_type": "stream",
     "text": [
      "\r",
      " 97%|█████████████████████████████████████████████████████████▍ | 402/413 [2:19:45<03:46, 20.59s/it]"
     ]
    },
    {
     "name": "stderr",
     "output_type": "stream",
     "text": [
      "\r",
      " 98%|█████████████████████████████████████████████████████████▌ | 403/413 [2:19:56<02:56, 17.66s/it]"
     ]
    },
    {
     "name": "stderr",
     "output_type": "stream",
     "text": [
      "\r",
      " 98%|█████████████████████████████████████████████████████████▋ | 404/413 [2:20:25<03:08, 20.91s/it]"
     ]
    },
    {
     "name": "stderr",
     "output_type": "stream",
     "text": [
      "\r",
      " 98%|█████████████████████████████████████████████████████████▊ | 405/413 [2:20:36<02:23, 17.96s/it]"
     ]
    },
    {
     "name": "stderr",
     "output_type": "stream",
     "text": [
      "\r",
      " 98%|██████████████████████████████████████████████████████████ | 406/413 [2:21:05<02:28, 21.27s/it]"
     ]
    },
    {
     "name": "stderr",
     "output_type": "stream",
     "text": [
      "\r",
      " 99%|██████████████████████████████████████████████████████████▏| 407/413 [2:21:16<01:49, 18.23s/it]"
     ]
    },
    {
     "name": "stderr",
     "output_type": "stream",
     "text": [
      "\r",
      " 99%|██████████████████████████████████████████████████████████▎| 408/413 [2:21:45<01:48, 21.62s/it]"
     ]
    },
    {
     "name": "stderr",
     "output_type": "stream",
     "text": [
      "\r",
      " 99%|██████████████████████████████████████████████████████████▍| 409/413 [2:21:57<01:14, 18.54s/it]"
     ]
    },
    {
     "name": "stderr",
     "output_type": "stream",
     "text": [
      "\r",
      " 99%|██████████████████████████████████████████████████████████▌| 410/413 [2:22:27<01:05, 21.98s/it]"
     ]
    },
    {
     "name": "stderr",
     "output_type": "stream",
     "text": [
      "\r",
      "100%|██████████████████████████████████████████████████████████▋| 411/413 [2:22:38<00:37, 18.83s/it]"
     ]
    },
    {
     "name": "stderr",
     "output_type": "stream",
     "text": [
      "\r",
      "100%|██████████████████████████████████████████████████████████▊| 412/413 [2:23:09<00:22, 22.33s/it]"
     ]
    },
    {
     "name": "stderr",
     "output_type": "stream",
     "text": [
      "\r",
      "100%|███████████████████████████████████████████████████████████| 413/413 [2:23:20<00:00, 19.03s/it]"
     ]
    },
    {
     "name": "stderr",
     "output_type": "stream",
     "text": [
      "\r",
      "100%|███████████████████████████████████████████████████████████| 413/413 [2:23:20<00:00, 20.82s/it]"
     ]
    },
    {
     "name": "stderr",
     "output_type": "stream",
     "text": [
      "\n"
     ]
    }
   ],
   "source": [
    "consensus_results = []\n",
    "\n",
    "with ProcessPoolExecutor(max_workers=conf.GENERAL[\"N_JOBS\"]) as executor:\n",
    "    tasks = {\n",
    "        executor.submit(\n",
    "            run_method_and_compute_agreement,\n",
    "            m,\n",
    "            ensemble_coassoc_matrix,\n",
    "            full_ensemble,\n",
    "            k,\n",
    "        ): (m.__name__, k)\n",
    "        for m in all_consensus_methods\n",
    "        for k in range(CLUSTERING_OPTIONS[\"K_MIN\"], CLUSTERING_OPTIONS[\"K_MAX\"] + 1)\n",
    "    }\n",
    "\n",
    "    for future in tqdm(as_completed(tasks), total=len(tasks), disable=False, ncols=100):\n",
    "        method_name, k = tasks[future]\n",
    "        part, performance_values = future.result()\n",
    "\n",
    "        method_results = {\n",
    "            \"method\": method_name,\n",
    "            \"partition\": part,\n",
    "            \"k\": k,\n",
    "        }\n",
    "        method_results.update(performance_values)\n",
    "\n",
    "        consensus_results.append(method_results)"
   ]
  },
  {
   "cell_type": "code",
   "execution_count": 19,
   "metadata": {
    "execution": {
     "iopub.execute_input": "2021-02-16T01:04:47.239433Z",
     "iopub.status.busy": "2021-02-16T01:04:47.239060Z",
     "iopub.status.idle": "2021-02-16T01:04:47.253682Z",
     "shell.execute_reply": "2021-02-16T01:04:47.253293Z"
    },
    "papermill": {
     "duration": 0.100699,
     "end_time": "2021-02-16T01:04:47.253773",
     "exception": false,
     "start_time": "2021-02-16T01:04:47.153074",
     "status": "completed"
    },
    "tags": []
   },
   "outputs": [],
   "source": [
    "consensus_results = pd.DataFrame(consensus_results)"
   ]
  },
  {
   "cell_type": "code",
   "execution_count": 20,
   "metadata": {
    "execution": {
     "iopub.execute_input": "2021-02-16T01:04:47.416874Z",
     "iopub.status.busy": "2021-02-16T01:04:47.416445Z",
     "iopub.status.idle": "2021-02-16T01:04:47.427050Z",
     "shell.execute_reply": "2021-02-16T01:04:47.426678Z"
    },
    "papermill": {
     "duration": 0.093062,
     "end_time": "2021-02-16T01:04:47.427137",
     "exception": false,
     "start_time": "2021-02-16T01:04:47.334075",
     "status": "completed"
    },
    "tags": []
   },
   "outputs": [
    {
     "data": {
      "text/plain": [
       "(413, 12)"
      ]
     },
     "metadata": {},
     "output_type": "display_data"
    }
   ],
   "source": [
    "display(consensus_results.shape)"
   ]
  },
  {
   "cell_type": "code",
   "execution_count": 21,
   "metadata": {
    "execution": {
     "iopub.execute_input": "2021-02-16T01:04:47.590006Z",
     "iopub.status.busy": "2021-02-16T01:04:47.589648Z",
     "iopub.status.idle": "2021-02-16T01:04:47.613771Z",
     "shell.execute_reply": "2021-02-16T01:04:47.613414Z"
    },
    "papermill": {
     "duration": 0.106256,
     "end_time": "2021-02-16T01:04:47.613858",
     "exception": false,
     "start_time": "2021-02-16T01:04:47.507602",
     "status": "completed"
    },
    "tags": []
   },
   "outputs": [
    {
     "data": {
      "text/html": [
       "<div>\n",
       "<style scoped>\n",
       "    .dataframe tbody tr th:only-of-type {\n",
       "        vertical-align: middle;\n",
       "    }\n",
       "\n",
       "    .dataframe tbody tr th {\n",
       "        vertical-align: top;\n",
       "    }\n",
       "\n",
       "    .dataframe thead th {\n",
       "        text-align: right;\n",
       "    }\n",
       "</style>\n",
       "<table border=\"1\" class=\"dataframe\">\n",
       "  <thead>\n",
       "    <tr style=\"text-align: right;\">\n",
       "      <th></th>\n",
       "      <th>method</th>\n",
       "      <th>partition</th>\n",
       "      <th>k</th>\n",
       "      <th>ari_mean</th>\n",
       "      <th>ari_median</th>\n",
       "      <th>ari_std</th>\n",
       "      <th>ami_mean</th>\n",
       "      <th>ami_median</th>\n",
       "      <th>ami_std</th>\n",
       "      <th>nmi_mean</th>\n",
       "      <th>nmi_median</th>\n",
       "      <th>nmi_std</th>\n",
       "    </tr>\n",
       "  </thead>\n",
       "  <tbody>\n",
       "    <tr>\n",
       "      <th>0</th>\n",
       "      <td>scc_030</td>\n",
       "      <td>[0, 0, 0, 0, 0, 0, 0, 0, 0, 0, 0, 0, 0, 0, 0, ...</td>\n",
       "      <td>2</td>\n",
       "      <td>0.225462</td>\n",
       "      <td>0.010357</td>\n",
       "      <td>0.350445</td>\n",
       "      <td>0.236081</td>\n",
       "      <td>0.054698</td>\n",
       "      <td>0.322846</td>\n",
       "      <td>0.238314</td>\n",
       "      <td>0.056364</td>\n",
       "      <td>0.322127</td>\n",
       "    </tr>\n",
       "    <tr>\n",
       "      <th>1</th>\n",
       "      <td>scc_030</td>\n",
       "      <td>[0, 0, 0, 0, 0, 0, 0, 0, 0, 0, 0, 0, 0, 0, 0, ...</td>\n",
       "      <td>3</td>\n",
       "      <td>0.161708</td>\n",
       "      <td>0.063624</td>\n",
       "      <td>0.183089</td>\n",
       "      <td>0.230107</td>\n",
       "      <td>0.183277</td>\n",
       "      <td>0.117991</td>\n",
       "      <td>0.234523</td>\n",
       "      <td>0.187130</td>\n",
       "      <td>0.117597</td>\n",
       "    </tr>\n",
       "    <tr>\n",
       "      <th>2</th>\n",
       "      <td>scc_030</td>\n",
       "      <td>[0, 0, 0, 0, 0, 0, 0, 0, 0, 0, 0, 0, 0, 0, 0, ...</td>\n",
       "      <td>4</td>\n",
       "      <td>0.225381</td>\n",
       "      <td>0.010368</td>\n",
       "      <td>0.350167</td>\n",
       "      <td>0.232825</td>\n",
       "      <td>0.059509</td>\n",
       "      <td>0.304760</td>\n",
       "      <td>0.237129</td>\n",
       "      <td>0.063543</td>\n",
       "      <td>0.303123</td>\n",
       "    </tr>\n",
       "    <tr>\n",
       "      <th>3</th>\n",
       "      <td>scc_030</td>\n",
       "      <td>[0, 0, 0, 0, 0, 0, 0, 0, 0, 0, 0, 0, 0, 0, 0, ...</td>\n",
       "      <td>5</td>\n",
       "      <td>0.234826</td>\n",
       "      <td>0.013491</td>\n",
       "      <td>0.352296</td>\n",
       "      <td>0.250994</td>\n",
       "      <td>0.074993</td>\n",
       "      <td>0.303274</td>\n",
       "      <td>0.256369</td>\n",
       "      <td>0.079998</td>\n",
       "      <td>0.301111</td>\n",
       "    </tr>\n",
       "    <tr>\n",
       "      <th>4</th>\n",
       "      <td>scc_030</td>\n",
       "      <td>[0, 0, 0, 0, 0, 0, 0, 0, 0, 0, 0, 0, 0, 0, 0, ...</td>\n",
       "      <td>6</td>\n",
       "      <td>0.172859</td>\n",
       "      <td>0.061933</td>\n",
       "      <td>0.193501</td>\n",
       "      <td>0.248806</td>\n",
       "      <td>0.193558</td>\n",
       "      <td>0.134298</td>\n",
       "      <td>0.255571</td>\n",
       "      <td>0.200307</td>\n",
       "      <td>0.132916</td>\n",
       "    </tr>\n",
       "  </tbody>\n",
       "</table>\n",
       "</div>"
      ],
      "text/plain": [
       "    method                                          partition  k  ari_mean  \\\n",
       "0  scc_030  [0, 0, 0, 0, 0, 0, 0, 0, 0, 0, 0, 0, 0, 0, 0, ...  2  0.225462   \n",
       "1  scc_030  [0, 0, 0, 0, 0, 0, 0, 0, 0, 0, 0, 0, 0, 0, 0, ...  3  0.161708   \n",
       "2  scc_030  [0, 0, 0, 0, 0, 0, 0, 0, 0, 0, 0, 0, 0, 0, 0, ...  4  0.225381   \n",
       "3  scc_030  [0, 0, 0, 0, 0, 0, 0, 0, 0, 0, 0, 0, 0, 0, 0, ...  5  0.234826   \n",
       "4  scc_030  [0, 0, 0, 0, 0, 0, 0, 0, 0, 0, 0, 0, 0, 0, 0, ...  6  0.172859   \n",
       "\n",
       "   ari_median   ari_std  ami_mean  ami_median   ami_std  nmi_mean  nmi_median  \\\n",
       "0    0.010357  0.350445  0.236081    0.054698  0.322846  0.238314    0.056364   \n",
       "1    0.063624  0.183089  0.230107    0.183277  0.117991  0.234523    0.187130   \n",
       "2    0.010368  0.350167  0.232825    0.059509  0.304760  0.237129    0.063543   \n",
       "3    0.013491  0.352296  0.250994    0.074993  0.303274  0.256369    0.079998   \n",
       "4    0.061933  0.193501  0.248806    0.193558  0.134298  0.255571    0.200307   \n",
       "\n",
       "    nmi_std  \n",
       "0  0.322127  \n",
       "1  0.117597  \n",
       "2  0.303123  \n",
       "3  0.301111  \n",
       "4  0.132916  "
      ]
     },
     "execution_count": 21,
     "metadata": {},
     "output_type": "execute_result"
    }
   ],
   "source": [
    "consensus_results.head()"
   ]
  },
  {
   "cell_type": "markdown",
   "metadata": {
    "papermill": {
     "duration": 0.08019,
     "end_time": "2021-02-16T01:04:47.776056",
     "exception": false,
     "start_time": "2021-02-16T01:04:47.695866",
     "status": "completed"
    },
    "tags": []
   },
   "source": [
    "## Testing"
   ]
  },
  {
   "cell_type": "code",
   "execution_count": 22,
   "metadata": {
    "execution": {
     "iopub.execute_input": "2021-02-16T01:04:47.940568Z",
     "iopub.status.busy": "2021-02-16T01:04:47.940209Z",
     "iopub.status.idle": "2021-02-16T01:04:47.950764Z",
     "shell.execute_reply": "2021-02-16T01:04:47.950392Z"
    },
    "papermill": {
     "duration": 0.093731,
     "end_time": "2021-02-16T01:04:47.950851",
     "exception": false,
     "start_time": "2021-02-16T01:04:47.857120",
     "status": "completed"
    },
    "tags": []
   },
   "outputs": [],
   "source": [
    "assert not consensus_results.isna().any().any()"
   ]
  },
  {
   "cell_type": "code",
   "execution_count": 23,
   "metadata": {
    "execution": {
     "iopub.execute_input": "2021-02-16T01:04:48.114734Z",
     "iopub.status.busy": "2021-02-16T01:04:48.114370Z",
     "iopub.status.idle": "2021-02-16T01:04:48.152610Z",
     "shell.execute_reply": "2021-02-16T01:04:48.152237Z"
    },
    "papermill": {
     "duration": 0.120787,
     "end_time": "2021-02-16T01:04:48.152725",
     "exception": false,
     "start_time": "2021-02-16T01:04:48.031938",
     "status": "completed"
    },
    "tags": []
   },
   "outputs": [
    {
     "data": {
      "text/plain": [
       "0       2\n",
       "1       3\n",
       "2       4\n",
       "3       5\n",
       "4       6\n",
       "       ..\n",
       "408    56\n",
       "409    57\n",
       "410    58\n",
       "411    59\n",
       "412    60\n",
       "Name: partition, Length: 413, dtype: int64"
      ]
     },
     "metadata": {},
     "output_type": "display_data"
    }
   ],
   "source": [
    "# check that the number of clusters in the partitions are the expected ones\n",
    "_real_k_values = consensus_results[\"partition\"].apply(lambda x: np.unique(x).shape[0])\n",
    "display(_real_k_values)\n",
    "assert np.all(consensus_results[\"k\"].values == _real_k_values.values)"
   ]
  },
  {
   "cell_type": "markdown",
   "metadata": {
    "papermill": {
     "duration": 0.080233,
     "end_time": "2021-02-16T01:04:48.316838",
     "exception": false,
     "start_time": "2021-02-16T01:04:48.236605",
     "status": "completed"
    },
    "tags": []
   },
   "source": [
    "## Save"
   ]
  },
  {
   "cell_type": "code",
   "execution_count": 24,
   "metadata": {
    "execution": {
     "iopub.execute_input": "2021-02-16T01:04:48.481262Z",
     "iopub.status.busy": "2021-02-16T01:04:48.480837Z",
     "iopub.status.idle": "2021-02-16T01:04:48.491831Z",
     "shell.execute_reply": "2021-02-16T01:04:48.491459Z"
    },
    "papermill": {
     "duration": 0.09486,
     "end_time": "2021-02-16T01:04:48.491919",
     "exception": false,
     "start_time": "2021-02-16T01:04:48.397059",
     "status": "completed"
    },
    "tags": []
   },
   "outputs": [
    {
     "data": {
      "text/plain": [
       "PosixPath('/home/miltondp/projects/labs/greenelab/phenoplier/base3/results/clustering/consensus_clustering/consensus_clustering_runs.pkl')"
      ]
     },
     "metadata": {},
     "output_type": "display_data"
    }
   ],
   "source": [
    "output_file = Path(RESULTS_DIR, \"consensus_clustering_runs.pkl\").resolve()\n",
    "display(output_file)"
   ]
  },
  {
   "cell_type": "code",
   "execution_count": 25,
   "metadata": {
    "execution": {
     "iopub.execute_input": "2021-02-16T01:04:48.657305Z",
     "iopub.status.busy": "2021-02-16T01:04:48.656942Z",
     "iopub.status.idle": "2021-02-16T01:04:48.697616Z",
     "shell.execute_reply": "2021-02-16T01:04:48.698887Z"
    },
    "papermill": {
     "duration": 0.125244,
     "end_time": "2021-02-16T01:04:48.699296",
     "exception": false,
     "start_time": "2021-02-16T01:04:48.574052",
     "status": "completed"
    },
    "tags": []
   },
   "outputs": [],
   "source": [
    "consensus_results.to_pickle(output_file)"
   ]
  },
  {
   "cell_type": "code",
   "execution_count": null,
   "metadata": {
    "papermill": {
     "duration": 0.079731,
     "end_time": "2021-02-16T01:04:48.861856",
     "exception": false,
     "start_time": "2021-02-16T01:04:48.782125",
     "status": "completed"
    },
    "tags": []
   },
   "outputs": [],
   "source": []
  }
 ],
 "metadata": {
  "jupytext": {
   "cell_metadata_filter": "all,-execution,-papermill",
   "formats": "ipynb,py//py:percent"
  },
  "kernelspec": {
   "display_name": "Python 3",
   "language": "python",
   "name": "python3"
  },
  "language_info": {
   "codemirror_mode": {
    "name": "ipython",
    "version": 3
   },
   "file_extension": ".py",
   "mimetype": "text/x-python",
   "name": "python",
   "nbconvert_exporter": "python",
   "pygments_lexer": "ipython3",
   "version": "3.8.6"
  },
  "papermill": {
   "default_parameters": {},
   "duration": 8605.371508,
   "end_time": "2021-02-16T01:04:49.247996",
   "environment_variables": {},
   "exception": null,
   "input_path": "16_consensus_clustering/020_01-combine_ensemble.ipynb",
   "output_path": "16_consensus_clustering/020_01-combine_ensemble.run.ipynb",
   "parameters": {},
   "start_time": "2021-02-15T22:41:23.876488",
   "version": "2.2.2"
  },
  "toc-autonumbering": true,
  "toc-showcode": false,
  "toc-showmarkdowntxt": false,
  "toc-showtags": false
 },
 "nbformat": 4,
 "nbformat_minor": 4
}
