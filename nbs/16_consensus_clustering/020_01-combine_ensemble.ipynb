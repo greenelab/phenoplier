{
 "cells": [
  {
   "cell_type": "markdown",
   "metadata": {
    "papermill": {
     "duration": 0.013453,
     "end_time": "2021-01-13T20:47:40.631708",
     "exception": false,
     "start_time": "2021-01-13T20:47:40.618255",
     "status": "completed"
    },
    "tags": []
   },
   "source": [
    "# Description"
   ]
  },
  {
   "cell_type": "markdown",
   "metadata": {
    "papermill": {
     "duration": 0.009738,
     "end_time": "2021-01-13T20:47:40.651468",
     "exception": false,
     "start_time": "2021-01-13T20:47:40.641730",
     "status": "completed"
    },
    "tags": []
   },
   "source": [
    "It combines all clustering solutions generated into a single consolidated solution using consensus clustering."
   ]
  },
  {
   "cell_type": "markdown",
   "metadata": {
    "papermill": {
     "duration": 0.010645,
     "end_time": "2021-01-13T20:47:40.672057",
     "exception": false,
     "start_time": "2021-01-13T20:47:40.661412",
     "status": "completed"
    },
    "tags": []
   },
   "source": [
    "# Environment variables"
   ]
  },
  {
   "cell_type": "code",
   "execution_count": 1,
   "metadata": {
    "execution": {
     "iopub.execute_input": "2021-01-13T20:47:40.698864Z",
     "iopub.status.busy": "2021-01-13T20:47:40.698332Z",
     "iopub.status.idle": "2021-01-13T20:47:40.701546Z",
     "shell.execute_reply": "2021-01-13T20:47:40.701113Z"
    },
    "papermill": {
     "duration": 0.019812,
     "end_time": "2021-01-13T20:47:40.701670",
     "exception": false,
     "start_time": "2021-01-13T20:47:40.681858",
     "status": "completed"
    },
    "tags": []
   },
   "outputs": [
    {
     "data": {
      "text/plain": [
       "1"
      ]
     },
     "metadata": {},
     "output_type": "display_data"
    }
   ],
   "source": [
    "from IPython.display import display\n",
    "\n",
    "# set numpy n_jobs to 1, since I'll be using n_jobs later\n",
    "NUMPY_N_JOBS = 1\n",
    "display(NUMPY_N_JOBS)"
   ]
  },
  {
   "cell_type": "code",
   "execution_count": 2,
   "metadata": {
    "execution": {
     "iopub.execute_input": "2021-01-13T20:47:40.727540Z",
     "iopub.status.busy": "2021-01-13T20:47:40.727108Z",
     "iopub.status.idle": "2021-01-13T20:47:40.729497Z",
     "shell.execute_reply": "2021-01-13T20:47:40.729184Z"
    },
    "papermill": {
     "duration": 0.017134,
     "end_time": "2021-01-13T20:47:40.729587",
     "exception": false,
     "start_time": "2021-01-13T20:47:40.712453",
     "status": "completed"
    },
    "tags": []
   },
   "outputs": [
    {
     "name": "stdout",
     "output_type": "stream",
     "text": [
      "env: MKL_NUM_THREADS=1\n",
      "env: OPEN_BLAS_NUM_THREADS=1\n",
      "env: NUMEXPR_NUM_THREADS=1\n",
      "env: OMP_NUM_THREADS=1\n"
     ]
    }
   ],
   "source": [
    "%env MKL_NUM_THREADS=$NUMPY_N_JOBS\n",
    "%env OPEN_BLAS_NUM_THREADS=$NUMPY_N_JOBS\n",
    "%env NUMEXPR_NUM_THREADS=$NUMPY_N_JOBS\n",
    "%env OMP_NUM_THREADS=$NUMPY_N_JOBS"
   ]
  },
  {
   "cell_type": "markdown",
   "metadata": {
    "papermill": {
     "duration": 0.010912,
     "end_time": "2021-01-13T20:47:40.751453",
     "exception": false,
     "start_time": "2021-01-13T20:47:40.740541",
     "status": "completed"
    },
    "tags": []
   },
   "source": [
    "# Modules loading"
   ]
  },
  {
   "cell_type": "code",
   "execution_count": 3,
   "metadata": {
    "execution": {
     "iopub.execute_input": "2021-01-13T20:47:40.775596Z",
     "iopub.status.busy": "2021-01-13T20:47:40.775218Z",
     "iopub.status.idle": "2021-01-13T20:47:40.782969Z",
     "shell.execute_reply": "2021-01-13T20:47:40.782598Z"
    },
    "papermill": {
     "duration": 0.02092,
     "end_time": "2021-01-13T20:47:40.783058",
     "exception": false,
     "start_time": "2021-01-13T20:47:40.762138",
     "status": "completed"
    },
    "tags": []
   },
   "outputs": [],
   "source": [
    "%load_ext autoreload\n",
    "%autoreload 2"
   ]
  },
  {
   "cell_type": "code",
   "execution_count": 4,
   "metadata": {
    "execution": {
     "iopub.execute_input": "2021-01-13T20:47:40.807383Z",
     "iopub.status.busy": "2021-01-13T20:47:40.807019Z",
     "iopub.status.idle": "2021-01-13T20:47:40.977759Z",
     "shell.execute_reply": "2021-01-13T20:47:40.977379Z"
    },
    "papermill": {
     "duration": 0.183732,
     "end_time": "2021-01-13T20:47:40.977850",
     "exception": false,
     "start_time": "2021-01-13T20:47:40.794118",
     "status": "completed"
    },
    "tags": []
   },
   "outputs": [],
   "source": [
    "from pathlib import Path\n",
    "\n",
    "import numpy as np\n",
    "import pandas as pd\n",
    "\n",
    "import conf"
   ]
  },
  {
   "cell_type": "markdown",
   "metadata": {
    "papermill": {
     "duration": 0.010437,
     "end_time": "2021-01-13T20:47:40.999399",
     "exception": false,
     "start_time": "2021-01-13T20:47:40.988962",
     "status": "completed"
    },
    "tags": []
   },
   "source": [
    "# Settings"
   ]
  },
  {
   "cell_type": "code",
   "execution_count": 5,
   "metadata": {
    "execution": {
     "iopub.execute_input": "2021-01-13T20:47:41.022988Z",
     "iopub.status.busy": "2021-01-13T20:47:41.022627Z",
     "iopub.status.idle": "2021-01-13T20:47:41.030307Z",
     "shell.execute_reply": "2021-01-13T20:47:41.029927Z"
    },
    "papermill": {
     "duration": 0.020599,
     "end_time": "2021-01-13T20:47:41.030395",
     "exception": false,
     "start_time": "2021-01-13T20:47:41.009796",
     "status": "completed"
    },
    "tags": []
   },
   "outputs": [],
   "source": [
    "RANDOM_GENERATOR = np.random.default_rng(12345)"
   ]
  },
  {
   "cell_type": "markdown",
   "metadata": {
    "papermill": {
     "duration": 0.010431,
     "end_time": "2021-01-13T20:47:41.051681",
     "exception": false,
     "start_time": "2021-01-13T20:47:41.041250",
     "status": "completed"
    },
    "tags": []
   },
   "source": [
    "## Consensus clustering"
   ]
  },
  {
   "cell_type": "code",
   "execution_count": 6,
   "metadata": {
    "execution": {
     "iopub.execute_input": "2021-01-13T20:47:41.075706Z",
     "iopub.status.busy": "2021-01-13T20:47:41.075342Z",
     "iopub.status.idle": "2021-01-13T20:47:41.083501Z",
     "shell.execute_reply": "2021-01-13T20:47:41.083146Z"
    },
    "papermill": {
     "duration": 0.021153,
     "end_time": "2021-01-13T20:47:41.083585",
     "exception": false,
     "start_time": "2021-01-13T20:47:41.062432",
     "status": "completed"
    },
    "tags": []
   },
   "outputs": [
    {
     "data": {
      "text/plain": [
       "{'K_MIN': 2, 'K_MAX': 40}"
      ]
     },
     "metadata": {},
     "output_type": "display_data"
    }
   ],
   "source": [
    "CLUSTERING_OPTIONS = {}\n",
    "\n",
    "CLUSTERING_OPTIONS[\"K_MIN\"] = 2\n",
    "CLUSTERING_OPTIONS[\"K_MAX\"] = 60\n",
    "\n",
    "display(CLUSTERING_OPTIONS)"
   ]
  },
  {
   "cell_type": "code",
   "execution_count": 7,
   "metadata": {
    "execution": {
     "iopub.execute_input": "2021-01-13T20:47:41.107707Z",
     "iopub.status.busy": "2021-01-13T20:47:41.107343Z",
     "iopub.status.idle": "2021-01-13T20:47:41.115482Z",
     "shell.execute_reply": "2021-01-13T20:47:41.115107Z"
    },
    "papermill": {
     "duration": 0.021197,
     "end_time": "2021-01-13T20:47:41.115571",
     "exception": false,
     "start_time": "2021-01-13T20:47:41.094374",
     "status": "completed"
    },
    "tags": []
   },
   "outputs": [
    {
     "data": {
      "text/plain": [
       "PosixPath('/home/miltondp/projects/labs/greenelab/phenoplier/base3/results/clustering/consensus_clustering')"
      ]
     },
     "metadata": {},
     "output_type": "display_data"
    }
   ],
   "source": [
    "# output dir for this notebook\n",
    "RESULTS_DIR = Path(conf.RESULTS[\"CLUSTERING_DIR\"], \"consensus_clustering\").resolve()\n",
    "RESULTS_DIR.mkdir(parents=True, exist_ok=True)\n",
    "\n",
    "display(RESULTS_DIR)"
   ]
  },
  {
   "cell_type": "markdown",
   "metadata": {
    "papermill": {
     "duration": 0.012016,
     "end_time": "2021-01-13T20:47:41.139052",
     "exception": false,
     "start_time": "2021-01-13T20:47:41.127036",
     "status": "completed"
    },
    "tags": []
   },
   "source": [
    "# Load ensemble"
   ]
  },
  {
   "cell_type": "code",
   "execution_count": 8,
   "metadata": {
    "execution": {
     "iopub.execute_input": "2021-01-13T20:47:41.166133Z",
     "iopub.status.busy": "2021-01-13T20:47:41.165742Z",
     "iopub.status.idle": "2021-01-13T20:47:41.173571Z",
     "shell.execute_reply": "2021-01-13T20:47:41.173862Z"
    },
    "papermill": {
     "duration": 0.02254,
     "end_time": "2021-01-13T20:47:41.173977",
     "exception": false,
     "start_time": "2021-01-13T20:47:41.151437",
     "status": "completed"
    },
    "tags": []
   },
   "outputs": [
    {
     "data": {
      "text/plain": [
       "PosixPath('/home/miltondp/projects/labs/greenelab/phenoplier/base3/results/clustering/consensus_clustering/ensemble.npy')"
      ]
     },
     "metadata": {},
     "output_type": "display_data"
    }
   ],
   "source": [
    "output_file = Path(RESULTS_DIR, \"ensemble.npy\").resolve()\n",
    "display(output_file)"
   ]
  },
  {
   "cell_type": "code",
   "execution_count": 9,
   "metadata": {
    "execution": {
     "iopub.execute_input": "2021-01-13T20:47:41.200092Z",
     "iopub.status.busy": "2021-01-13T20:47:41.199731Z",
     "iopub.status.idle": "2021-01-13T20:47:41.236258Z",
     "shell.execute_reply": "2021-01-13T20:47:41.235859Z"
    },
    "papermill": {
     "duration": 0.050277,
     "end_time": "2021-01-13T20:47:41.236374",
     "exception": false,
     "start_time": "2021-01-13T20:47:41.186097",
     "status": "completed"
    },
    "tags": []
   },
   "outputs": [],
   "source": [
    "full_ensemble = np.load(output_file)"
   ]
  },
  {
   "cell_type": "code",
   "execution_count": 10,
   "metadata": {
    "execution": {
     "iopub.execute_input": "2021-01-13T20:47:41.268104Z",
     "iopub.status.busy": "2021-01-13T20:47:41.267705Z",
     "iopub.status.idle": "2021-01-13T20:47:41.276126Z",
     "shell.execute_reply": "2021-01-13T20:47:41.275730Z"
    },
    "papermill": {
     "duration": 0.025017,
     "end_time": "2021-01-13T20:47:41.276219",
     "exception": false,
     "start_time": "2021-01-13T20:47:41.251202",
     "status": "completed"
    },
    "tags": []
   },
   "outputs": [
    {
     "data": {
      "text/plain": [
       "(4428, 3749)"
      ]
     },
     "metadata": {},
     "output_type": "display_data"
    }
   ],
   "source": [
    "display(full_ensemble.shape)"
   ]
  },
  {
   "cell_type": "markdown",
   "metadata": {
    "papermill": {
     "duration": 0.012975,
     "end_time": "2021-01-13T20:47:41.302372",
     "exception": false,
     "start_time": "2021-01-13T20:47:41.289397",
     "status": "completed"
    },
    "tags": []
   },
   "source": [
    "# Load ensemble coassociation distance matrix"
   ]
  },
  {
   "cell_type": "code",
   "execution_count": 11,
   "metadata": {
    "execution": {
     "iopub.execute_input": "2021-01-13T20:47:41.328841Z",
     "iopub.status.busy": "2021-01-13T20:47:41.328422Z",
     "iopub.status.idle": "2021-01-13T20:47:41.336657Z",
     "shell.execute_reply": "2021-01-13T20:47:41.336279Z"
    },
    "papermill": {
     "duration": 0.022381,
     "end_time": "2021-01-13T20:47:41.336779",
     "exception": false,
     "start_time": "2021-01-13T20:47:41.314398",
     "status": "completed"
    },
    "tags": []
   },
   "outputs": [
    {
     "data": {
      "text/plain": [
       "PosixPath('/home/miltondp/projects/labs/greenelab/phenoplier/base3/results/clustering/consensus_clustering/ensemble_coassoc_matrix.npy')"
      ]
     },
     "metadata": {},
     "output_type": "display_data"
    }
   ],
   "source": [
    "output_file = Path(RESULTS_DIR, \"ensemble_coassoc_matrix.npy\").resolve()\n",
    "display(output_file)"
   ]
  },
  {
   "cell_type": "code",
   "execution_count": 12,
   "metadata": {
    "execution": {
     "iopub.execute_input": "2021-01-13T20:47:41.364415Z",
     "iopub.status.busy": "2021-01-13T20:47:41.364046Z",
     "iopub.status.idle": "2021-01-13T20:47:41.394722Z",
     "shell.execute_reply": "2021-01-13T20:47:41.395070Z"
    },
    "papermill": {
     "duration": 0.045743,
     "end_time": "2021-01-13T20:47:41.395205",
     "exception": false,
     "start_time": "2021-01-13T20:47:41.349462",
     "status": "completed"
    },
    "tags": []
   },
   "outputs": [],
   "source": [
    "ensemble_coassoc_matrix = np.load(output_file)"
   ]
  },
  {
   "cell_type": "code",
   "execution_count": 13,
   "metadata": {
    "execution": {
     "iopub.execute_input": "2021-01-13T20:47:41.428286Z",
     "iopub.status.busy": "2021-01-13T20:47:41.427892Z",
     "iopub.status.idle": "2021-01-13T20:47:41.436129Z",
     "shell.execute_reply": "2021-01-13T20:47:41.435783Z"
    },
    "papermill": {
     "duration": 0.025672,
     "end_time": "2021-01-13T20:47:41.436223",
     "exception": false,
     "start_time": "2021-01-13T20:47:41.410551",
     "status": "completed"
    },
    "tags": []
   },
   "outputs": [
    {
     "data": {
      "text/plain": [
       "(3749, 3749)"
      ]
     },
     "metadata": {},
     "output_type": "display_data"
    }
   ],
   "source": [
    "display(ensemble_coassoc_matrix.shape)"
   ]
  },
  {
   "cell_type": "code",
   "execution_count": 14,
   "metadata": {
    "execution": {
     "iopub.execute_input": "2021-01-13T20:47:41.466011Z",
     "iopub.status.busy": "2021-01-13T20:47:41.465616Z",
     "iopub.status.idle": "2021-01-13T20:47:41.473953Z",
     "shell.execute_reply": "2021-01-13T20:47:41.474255Z"
    },
    "papermill": {
     "duration": 0.024319,
     "end_time": "2021-01-13T20:47:41.474370",
     "exception": false,
     "start_time": "2021-01-13T20:47:41.450051",
     "status": "completed"
    },
    "tags": []
   },
   "outputs": [
    {
     "data": {
      "text/plain": [
       "array([[0.        , 0.05615942, 0.05389493, ..., 0.59986413, 0.66171429,\n",
       "        0.66757246],\n",
       "       [0.05615942, 0.        , 0.02740036, ..., 0.60122283, 0.65988571,\n",
       "        0.66530797],\n",
       "       [0.05389493, 0.02740036, 0.        , ..., 0.59782609, 0.66102857,\n",
       "        0.66281703],\n",
       "       ...,\n",
       "       [0.59986413, 0.60122283, 0.59782609, ..., 0.        , 0.6699339 ,\n",
       "        0.66531165],\n",
       "       [0.66171429, 0.65988571, 0.66102857, ..., 0.6699339 , 0.        ,\n",
       "        0.58650558],\n",
       "       [0.66757246, 0.66530797, 0.66281703, ..., 0.66531165, 0.58650558,\n",
       "        0.        ]])"
      ]
     },
     "metadata": {},
     "output_type": "display_data"
    }
   ],
   "source": [
    "display(ensemble_coassoc_matrix)"
   ]
  },
  {
   "cell_type": "markdown",
   "metadata": {
    "papermill": {
     "duration": 0.012447,
     "end_time": "2021-01-13T20:47:41.500632",
     "exception": false,
     "start_time": "2021-01-13T20:47:41.488185",
     "status": "completed"
    },
    "tags": []
   },
   "source": [
    "# Consensus clustering"
   ]
  },
  {
   "cell_type": "code",
   "execution_count": 15,
   "metadata": {
    "execution": {
     "iopub.execute_input": "2021-01-13T20:47:41.528597Z",
     "iopub.status.busy": "2021-01-13T20:47:41.528230Z",
     "iopub.status.idle": "2021-01-13T20:47:41.852288Z",
     "shell.execute_reply": "2021-01-13T20:47:41.851894Z"
    },
    "papermill": {
     "duration": 0.339241,
     "end_time": "2021-01-13T20:47:41.852378",
     "exception": false,
     "start_time": "2021-01-13T20:47:41.513137",
     "status": "completed"
    },
    "tags": []
   },
   "outputs": [],
   "source": [
    "from concurrent.futures import ProcessPoolExecutor, as_completed\n",
    "\n",
    "from tqdm import tqdm\n",
    "\n",
    "from clustering.ensembles.utils import (\n",
    "    run_method_and_compute_agreement,\n",
    ")\n",
    "from clustering.ensembles.eac import (\n",
    "    eac_single_coassoc_matrix,\n",
    "    eac_complete_coassoc_matrix,\n",
    "    eac_average_coassoc_matrix,\n",
    ")\n",
    "from clustering.ensembles.spectral import scc"
   ]
  },
  {
   "cell_type": "markdown",
   "metadata": {
    "papermill": {
     "duration": 0.012576,
     "end_time": "2021-01-13T20:47:41.878149",
     "exception": false,
     "start_time": "2021-01-13T20:47:41.865573",
     "status": "completed"
    },
    "tags": []
   },
   "source": [
    "Define spectral consensus clustering methods with delta values found in pre-analysis:"
   ]
  },
  {
   "cell_type": "code",
   "execution_count": 16,
   "metadata": {
    "execution": {
     "iopub.execute_input": "2021-01-13T20:47:41.907849Z",
     "iopub.status.busy": "2021-01-13T20:47:41.907456Z",
     "iopub.status.idle": "2021-01-13T20:47:41.918058Z",
     "shell.execute_reply": "2021-01-13T20:47:41.917669Z"
    },
    "papermill": {
     "duration": 0.02676,
     "end_time": "2021-01-13T20:47:41.918153",
     "exception": false,
     "start_time": "2021-01-13T20:47:41.891393",
     "status": "completed"
    },
    "tags": []
   },
   "outputs": [],
   "source": [
    "def scc_020(coassoc_distance_matrix, k):\n",
    "    return scc(coassoc_distance_matrix, k, delta=0.20, ensemble_is_coassoc_matrix=True)\n",
    "\n",
    "\n",
    "def scc_025(coassoc_distance_matrix, k):\n",
    "    return scc(coassoc_distance_matrix, k, delta=0.25, ensemble_is_coassoc_matrix=True)\n",
    "\n",
    "\n",
    "def scc_030(coassoc_distance_matrix, k):\n",
    "    return scc(coassoc_distance_matrix, k, delta=0.30, ensemble_is_coassoc_matrix=True)\n",
    "\n",
    "\n",
    "def scc_050(coassoc_distance_matrix, k):\n",
    "    return scc(coassoc_distance_matrix, k, delta=0.50, ensemble_is_coassoc_matrix=True)"
   ]
  },
  {
   "cell_type": "code",
   "execution_count": 17,
   "metadata": {
    "execution": {
     "iopub.execute_input": "2021-01-13T20:47:41.948465Z",
     "iopub.status.busy": "2021-01-13T20:47:41.948099Z",
     "iopub.status.idle": "2021-01-13T20:47:41.958949Z",
     "shell.execute_reply": "2021-01-13T20:47:41.958569Z"
    },
    "papermill": {
     "duration": 0.027066,
     "end_time": "2021-01-13T20:47:41.959037",
     "exception": false,
     "start_time": "2021-01-13T20:47:41.931971",
     "status": "completed"
    },
    "tags": []
   },
   "outputs": [
    {
     "data": {
      "text/plain": [
       "{<function clustering.ensembles.eac.eac_average_coassoc_matrix(coassoc_matrix, k)>,\n",
       " <function clustering.ensembles.eac.eac_complete_coassoc_matrix(coassoc_matrix, k)>,\n",
       " <function clustering.ensembles.eac.eac_single_coassoc_matrix(coassoc_matrix, k)>,\n",
       " <function __main__.scc_020(coassoc_distance_matrix, k)>,\n",
       " <function __main__.scc_025(coassoc_distance_matrix, k)>,\n",
       " <function __main__.scc_030(coassoc_distance_matrix, k)>,\n",
       " <function __main__.scc_050(coassoc_distance_matrix, k)>}"
      ]
     },
     "metadata": {},
     "output_type": "display_data"
    }
   ],
   "source": [
    "all_consensus_methods = set(\n",
    "    (\n",
    "        eac_single_coassoc_matrix,\n",
    "        eac_complete_coassoc_matrix,\n",
    "        eac_average_coassoc_matrix,\n",
    "        scc_020,\n",
    "        scc_025,\n",
    "        scc_030,\n",
    "        scc_050,\n",
    "    )\n",
    ")\n",
    "display(all_consensus_methods)"
   ]
  },
  {
   "cell_type": "code",
   "execution_count": 18,
   "metadata": {
    "execution": {
     "iopub.execute_input": "2021-01-13T20:47:41.989699Z",
     "iopub.status.busy": "2021-01-13T20:47:41.989324Z",
     "iopub.status.idle": "2021-01-13T21:44:17.465676Z",
     "shell.execute_reply": "2021-01-13T21:44:17.465316Z"
    },
    "papermill": {
     "duration": 3395.493097,
     "end_time": "2021-01-13T21:44:17.465781",
     "exception": false,
     "start_time": "2021-01-13T20:47:41.972684",
     "status": "completed"
    },
    "tags": []
   },
   "outputs": [
    {
     "name": "stderr",
     "output_type": "stream",
     "text": [
      "100%|█████████████████████████████████████████████████████████████| 273/273 [56:35<00:00, 12.44s/it]\n"
     ]
    }
   ],
   "source": [
    "consensus_results = []\n",
    "\n",
    "with ProcessPoolExecutor(max_workers=conf.GENERAL[\"N_JOBS\"]) as executor:\n",
    "    tasks = {\n",
    "        executor.submit(\n",
    "            run_method_and_compute_agreement,\n",
    "            m,\n",
    "            ensemble_coassoc_matrix,\n",
    "            full_ensemble,\n",
    "            k,\n",
    "        ): (m.__name__, k)\n",
    "        for m in all_consensus_methods\n",
    "        for k in range(CLUSTERING_OPTIONS[\"K_MIN\"], CLUSTERING_OPTIONS[\"K_MAX\"] + 1)\n",
    "    }\n",
    "\n",
    "    for future in tqdm(as_completed(tasks), total=len(tasks), disable=False, ncols=100):\n",
    "        method_name, k = tasks[future]\n",
    "        part, performance_values = future.result()\n",
    "\n",
    "        method_results = {\n",
    "            \"method\": method_name,\n",
    "            \"partition\": part,\n",
    "            \"k\": k,\n",
    "        }\n",
    "        method_results.update(performance_values)\n",
    "\n",
    "        consensus_results.append(method_results)"
   ]
  },
  {
   "cell_type": "code",
   "execution_count": 19,
   "metadata": {
    "execution": {
     "iopub.execute_input": "2021-01-13T21:44:17.584910Z",
     "iopub.status.busy": "2021-01-13T21:44:17.584507Z",
     "iopub.status.idle": "2021-01-13T21:44:17.598756Z",
     "shell.execute_reply": "2021-01-13T21:44:17.599032Z"
    },
    "papermill": {
     "duration": 0.07308,
     "end_time": "2021-01-13T21:44:17.599144",
     "exception": false,
     "start_time": "2021-01-13T21:44:17.526064",
     "status": "completed"
    },
    "tags": []
   },
   "outputs": [],
   "source": [
    "consensus_results = pd.DataFrame(consensus_results)"
   ]
  },
  {
   "cell_type": "code",
   "execution_count": 20,
   "metadata": {
    "execution": {
     "iopub.execute_input": "2021-01-13T21:44:17.716903Z",
     "iopub.status.busy": "2021-01-13T21:44:17.716489Z",
     "iopub.status.idle": "2021-01-13T21:44:17.727194Z",
     "shell.execute_reply": "2021-01-13T21:44:17.726807Z"
    },
    "papermill": {
     "duration": 0.072255,
     "end_time": "2021-01-13T21:44:17.727285",
     "exception": false,
     "start_time": "2021-01-13T21:44:17.655030",
     "status": "completed"
    },
    "tags": []
   },
   "outputs": [
    {
     "data": {
      "text/plain": [
       "(273, 12)"
      ]
     },
     "metadata": {},
     "output_type": "display_data"
    }
   ],
   "source": [
    "display(consensus_results.shape)"
   ]
  },
  {
   "cell_type": "code",
   "execution_count": 21,
   "metadata": {
    "execution": {
     "iopub.execute_input": "2021-01-13T21:44:17.845202Z",
     "iopub.status.busy": "2021-01-13T21:44:17.844830Z",
     "iopub.status.idle": "2021-01-13T21:44:17.868516Z",
     "shell.execute_reply": "2021-01-13T21:44:17.868124Z"
    },
    "papermill": {
     "duration": 0.082878,
     "end_time": "2021-01-13T21:44:17.868609",
     "exception": false,
     "start_time": "2021-01-13T21:44:17.785731",
     "status": "completed"
    },
    "tags": []
   },
   "outputs": [
    {
     "data": {
      "text/html": [
       "<div>\n",
       "<style scoped>\n",
       "    .dataframe tbody tr th:only-of-type {\n",
       "        vertical-align: middle;\n",
       "    }\n",
       "\n",
       "    .dataframe tbody tr th {\n",
       "        vertical-align: top;\n",
       "    }\n",
       "\n",
       "    .dataframe thead th {\n",
       "        text-align: right;\n",
       "    }\n",
       "</style>\n",
       "<table border=\"1\" class=\"dataframe\">\n",
       "  <thead>\n",
       "    <tr style=\"text-align: right;\">\n",
       "      <th></th>\n",
       "      <th>method</th>\n",
       "      <th>partition</th>\n",
       "      <th>k</th>\n",
       "      <th>ari_mean</th>\n",
       "      <th>ari_median</th>\n",
       "      <th>ari_std</th>\n",
       "      <th>ami_mean</th>\n",
       "      <th>ami_median</th>\n",
       "      <th>ami_std</th>\n",
       "      <th>nmi_mean</th>\n",
       "      <th>nmi_median</th>\n",
       "      <th>nmi_std</th>\n",
       "    </tr>\n",
       "  </thead>\n",
       "  <tbody>\n",
       "    <tr>\n",
       "      <th>0</th>\n",
       "      <td>scc_030</td>\n",
       "      <td>[0, 0, 0, 0, 0, 0, 0, 0, 0, 0, 0, 0, 0, 0, 0, ...</td>\n",
       "      <td>2</td>\n",
       "      <td>0.225462</td>\n",
       "      <td>0.010357</td>\n",
       "      <td>0.350445</td>\n",
       "      <td>0.236081</td>\n",
       "      <td>0.054698</td>\n",
       "      <td>0.322846</td>\n",
       "      <td>0.238314</td>\n",
       "      <td>0.056364</td>\n",
       "      <td>0.322127</td>\n",
       "    </tr>\n",
       "    <tr>\n",
       "      <th>1</th>\n",
       "      <td>scc_030</td>\n",
       "      <td>[0, 0, 0, 0, 0, 0, 0, 0, 0, 0, 0, 0, 0, 0, 0, ...</td>\n",
       "      <td>4</td>\n",
       "      <td>0.225381</td>\n",
       "      <td>0.010368</td>\n",
       "      <td>0.350167</td>\n",
       "      <td>0.232825</td>\n",
       "      <td>0.059509</td>\n",
       "      <td>0.304760</td>\n",
       "      <td>0.237129</td>\n",
       "      <td>0.063543</td>\n",
       "      <td>0.303123</td>\n",
       "    </tr>\n",
       "    <tr>\n",
       "      <th>2</th>\n",
       "      <td>scc_030</td>\n",
       "      <td>[0, 0, 0, 0, 0, 0, 0, 0, 0, 0, 0, 0, 0, 0, 0, ...</td>\n",
       "      <td>3</td>\n",
       "      <td>0.161708</td>\n",
       "      <td>0.063624</td>\n",
       "      <td>0.183089</td>\n",
       "      <td>0.230107</td>\n",
       "      <td>0.183277</td>\n",
       "      <td>0.117991</td>\n",
       "      <td>0.234523</td>\n",
       "      <td>0.187130</td>\n",
       "      <td>0.117597</td>\n",
       "    </tr>\n",
       "    <tr>\n",
       "      <th>3</th>\n",
       "      <td>scc_030</td>\n",
       "      <td>[0, 0, 0, 0, 0, 0, 0, 0, 0, 0, 0, 0, 0, 0, 0, ...</td>\n",
       "      <td>5</td>\n",
       "      <td>0.234826</td>\n",
       "      <td>0.013491</td>\n",
       "      <td>0.352296</td>\n",
       "      <td>0.250994</td>\n",
       "      <td>0.074993</td>\n",
       "      <td>0.303274</td>\n",
       "      <td>0.256369</td>\n",
       "      <td>0.079998</td>\n",
       "      <td>0.301111</td>\n",
       "    </tr>\n",
       "    <tr>\n",
       "      <th>4</th>\n",
       "      <td>scc_030</td>\n",
       "      <td>[1, 1, 1, 1, 1, 1, 1, 1, 1, 1, 1, 1, 1, 1, 1, ...</td>\n",
       "      <td>6</td>\n",
       "      <td>0.172859</td>\n",
       "      <td>0.061933</td>\n",
       "      <td>0.193501</td>\n",
       "      <td>0.248806</td>\n",
       "      <td>0.193558</td>\n",
       "      <td>0.134298</td>\n",
       "      <td>0.255571</td>\n",
       "      <td>0.200307</td>\n",
       "      <td>0.132916</td>\n",
       "    </tr>\n",
       "  </tbody>\n",
       "</table>\n",
       "</div>"
      ],
      "text/plain": [
       "    method                                          partition  k  ari_mean  \\\n",
       "0  scc_030  [0, 0, 0, 0, 0, 0, 0, 0, 0, 0, 0, 0, 0, 0, 0, ...  2  0.225462   \n",
       "1  scc_030  [0, 0, 0, 0, 0, 0, 0, 0, 0, 0, 0, 0, 0, 0, 0, ...  4  0.225381   \n",
       "2  scc_030  [0, 0, 0, 0, 0, 0, 0, 0, 0, 0, 0, 0, 0, 0, 0, ...  3  0.161708   \n",
       "3  scc_030  [0, 0, 0, 0, 0, 0, 0, 0, 0, 0, 0, 0, 0, 0, 0, ...  5  0.234826   \n",
       "4  scc_030  [1, 1, 1, 1, 1, 1, 1, 1, 1, 1, 1, 1, 1, 1, 1, ...  6  0.172859   \n",
       "\n",
       "   ari_median   ari_std  ami_mean  ami_median   ami_std  nmi_mean  nmi_median  \\\n",
       "0    0.010357  0.350445  0.236081    0.054698  0.322846  0.238314    0.056364   \n",
       "1    0.010368  0.350167  0.232825    0.059509  0.304760  0.237129    0.063543   \n",
       "2    0.063624  0.183089  0.230107    0.183277  0.117991  0.234523    0.187130   \n",
       "3    0.013491  0.352296  0.250994    0.074993  0.303274  0.256369    0.079998   \n",
       "4    0.061933  0.193501  0.248806    0.193558  0.134298  0.255571    0.200307   \n",
       "\n",
       "    nmi_std  \n",
       "0  0.322127  \n",
       "1  0.303123  \n",
       "2  0.117597  \n",
       "3  0.301111  \n",
       "4  0.132916  "
      ]
     },
     "execution_count": 21,
     "metadata": {},
     "output_type": "execute_result"
    }
   ],
   "source": [
    "consensus_results.head()"
   ]
  },
  {
   "cell_type": "markdown",
   "metadata": {
    "papermill": {
     "duration": 0.056966,
     "end_time": "2021-01-13T21:44:17.985198",
     "exception": false,
     "start_time": "2021-01-13T21:44:17.928232",
     "status": "completed"
    },
    "tags": []
   },
   "source": [
    "## Testing"
   ]
  },
  {
   "cell_type": "code",
   "execution_count": 22,
   "metadata": {
    "execution": {
     "iopub.execute_input": "2021-01-13T21:44:18.102211Z",
     "iopub.status.busy": "2021-01-13T21:44:18.101846Z",
     "iopub.status.idle": "2021-01-13T21:44:18.112158Z",
     "shell.execute_reply": "2021-01-13T21:44:18.112435Z"
    },
    "papermill": {
     "duration": 0.070425,
     "end_time": "2021-01-13T21:44:18.112546",
     "exception": false,
     "start_time": "2021-01-13T21:44:18.042121",
     "status": "completed"
    },
    "tags": []
   },
   "outputs": [],
   "source": [
    "assert not consensus_results.isna().any().any()"
   ]
  },
  {
   "cell_type": "code",
   "execution_count": 23,
   "metadata": {
    "execution": {
     "iopub.execute_input": "2021-01-13T21:44:18.230679Z",
     "iopub.status.busy": "2021-01-13T21:44:18.230312Z",
     "iopub.status.idle": "2021-01-13T21:44:18.257312Z",
     "shell.execute_reply": "2021-01-13T21:44:18.256929Z"
    },
    "papermill": {
     "duration": 0.086846,
     "end_time": "2021-01-13T21:44:18.257404",
     "exception": false,
     "start_time": "2021-01-13T21:44:18.170558",
     "status": "completed"
    },
    "tags": []
   },
   "outputs": [
    {
     "data": {
      "text/plain": [
       "0       2\n",
       "1       4\n",
       "2       3\n",
       "3       5\n",
       "4       6\n",
       "       ..\n",
       "268    36\n",
       "269    37\n",
       "270    38\n",
       "271    39\n",
       "272    40\n",
       "Name: partition, Length: 273, dtype: int64"
      ]
     },
     "metadata": {},
     "output_type": "display_data"
    }
   ],
   "source": [
    "# check that the number of clusters in the partitions are the expected ones\n",
    "_real_k_values = consensus_results[\"partition\"].apply(lambda x: np.unique(x).shape[0])\n",
    "display(_real_k_values)\n",
    "assert np.all(consensus_results[\"k\"].values == _real_k_values.values)"
   ]
  },
  {
   "cell_type": "markdown",
   "metadata": {
    "papermill": {
     "duration": 0.056941,
     "end_time": "2021-01-13T21:44:18.373858",
     "exception": false,
     "start_time": "2021-01-13T21:44:18.316917",
     "status": "completed"
    },
    "tags": []
   },
   "source": [
    "## Save"
   ]
  },
  {
   "cell_type": "code",
   "execution_count": 24,
   "metadata": {
    "execution": {
     "iopub.execute_input": "2021-01-13T21:44:18.491796Z",
     "iopub.status.busy": "2021-01-13T21:44:18.491432Z",
     "iopub.status.idle": "2021-01-13T21:44:18.502390Z",
     "shell.execute_reply": "2021-01-13T21:44:18.502026Z"
    },
    "papermill": {
     "duration": 0.070808,
     "end_time": "2021-01-13T21:44:18.502478",
     "exception": false,
     "start_time": "2021-01-13T21:44:18.431670",
     "status": "completed"
    },
    "tags": []
   },
   "outputs": [
    {
     "data": {
      "text/plain": [
       "PosixPath('/home/miltondp/projects/labs/greenelab/phenoplier/base3/results/clustering/consensus_clustering/consensus_clustering_runs.pkl')"
      ]
     },
     "metadata": {},
     "output_type": "display_data"
    }
   ],
   "source": [
    "output_file = Path(RESULTS_DIR, \"consensus_clustering_runs.pkl\").resolve()\n",
    "display(output_file)"
   ]
  },
  {
   "cell_type": "code",
   "execution_count": 25,
   "metadata": {
    "execution": {
     "iopub.execute_input": "2021-01-13T21:44:18.620825Z",
     "iopub.status.busy": "2021-01-13T21:44:18.620395Z",
     "iopub.status.idle": "2021-01-13T21:44:18.638680Z",
     "shell.execute_reply": "2021-01-13T21:44:18.638992Z"
    },
    "papermill": {
     "duration": 0.079149,
     "end_time": "2021-01-13T21:44:18.639111",
     "exception": false,
     "start_time": "2021-01-13T21:44:18.559962",
     "status": "completed"
    },
    "tags": []
   },
   "outputs": [],
   "source": [
    "consensus_results.to_pickle(output_file)"
   ]
  },
  {
   "cell_type": "code",
   "execution_count": null,
   "metadata": {
    "papermill": {
     "duration": 0.060362,
     "end_time": "2021-01-13T21:44:18.759671",
     "exception": false,
     "start_time": "2021-01-13T21:44:18.699309",
     "status": "completed"
    },
    "tags": []
   },
   "outputs": [],
   "source": []
  }
 ],
 "metadata": {
  "jupytext": {
   "cell_metadata_filter": "all,-execution,-papermill",
   "formats": "ipynb,py//py:percent"
  },
  "kernelspec": {
   "display_name": "Python 3",
   "language": "python",
   "name": "python3"
  },
  "language_info": {
   "codemirror_mode": {
    "name": "ipython",
    "version": 3
   },
   "file_extension": ".py",
   "mimetype": "text/x-python",
   "name": "python",
   "nbconvert_exporter": "python",
   "pygments_lexer": "ipython3",
   "version": "3.8.6"
  },
  "papermill": {
   "default_parameters": {},
   "duration": 3399.388697,
   "end_time": "2021-01-13T21:44:19.224962",
   "environment_variables": {},
   "exception": null,
   "input_path": "16_consensus_clustering/020_01-combine_ensemble.ipynb",
   "output_path": "16_consensus_clustering/020_01-combine_ensemble.run.ipynb",
   "parameters": {},
   "start_time": "2021-01-13T20:47:39.836265",
   "version": "2.2.2"
  },
  "toc-autonumbering": true,
  "toc-showcode": false,
  "toc-showmarkdowntxt": false,
  "toc-showtags": false
 },
 "nbformat": 4,
 "nbformat_minor": 4
}
