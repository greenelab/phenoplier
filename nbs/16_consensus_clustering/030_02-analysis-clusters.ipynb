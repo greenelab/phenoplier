{
 "cells": [
  {
   "cell_type": "markdown",
   "metadata": {
    "papermill": {
     "duration": 0.037371,
     "end_time": "2021-02-24T04:03:30.638827",
     "exception": false,
     "start_time": "2021-02-24T04:03:30.601456",
     "status": "completed"
    },
    "tags": []
   },
   "source": [
    "# Description"
   ]
  },
  {
   "cell_type": "markdown",
   "metadata": {
    "papermill": {
     "duration": 0.009884,
     "end_time": "2021-02-24T04:03:30.664190",
     "exception": false,
     "start_time": "2021-02-24T04:03:30.654306",
     "status": "completed"
    },
    "tags": []
   },
   "source": [
    "The goal of this notebook is very simple: it just lists the content (traits/diseases) that belong to each cluster across all selected \"best partitions\". Although one would take a look at them here to check whether clusters of traits make sense, that analysis is carried out first by looking at the clustering trees (which are generated later). Then, this notebooks serves as a simple list with the content of the clusters."
   ]
  },
  {
   "cell_type": "markdown",
   "metadata": {
    "papermill": {
     "duration": 0.008035,
     "end_time": "2021-02-24T04:03:30.680576",
     "exception": false,
     "start_time": "2021-02-24T04:03:30.672541",
     "status": "completed"
    },
    "tags": []
   },
   "source": [
    "# Modules loading"
   ]
  },
  {
   "cell_type": "code",
   "execution_count": 1,
   "metadata": {
    "execution": {
     "iopub.execute_input": "2021-02-24T04:03:30.700488Z",
     "iopub.status.busy": "2021-02-24T04:03:30.700114Z",
     "iopub.status.idle": "2021-02-24T04:03:30.708249Z",
     "shell.execute_reply": "2021-02-24T04:03:30.707824Z"
    },
    "papermill": {
     "duration": 0.019668,
     "end_time": "2021-02-24T04:03:30.708369",
     "exception": false,
     "start_time": "2021-02-24T04:03:30.688701",
     "status": "completed"
    },
    "tags": []
   },
   "outputs": [],
   "source": [
    "%load_ext autoreload\n",
    "%autoreload 2"
   ]
  },
  {
   "cell_type": "code",
   "execution_count": 2,
   "metadata": {
    "execution": {
     "iopub.execute_input": "2021-02-24T04:03:30.728076Z",
     "iopub.status.busy": "2021-02-24T04:03:30.727683Z",
     "iopub.status.idle": "2021-02-24T04:03:30.920067Z",
     "shell.execute_reply": "2021-02-24T04:03:30.919674Z"
    },
    "papermill": {
     "duration": 0.203013,
     "end_time": "2021-02-24T04:03:30.920156",
     "exception": false,
     "start_time": "2021-02-24T04:03:30.717143",
     "status": "completed"
    },
    "tags": []
   },
   "outputs": [],
   "source": [
    "from IPython.display import display\n",
    "from pathlib import Path\n",
    "\n",
    "import pandas as pd\n",
    "\n",
    "from utils import generate_result_set_name\n",
    "import conf"
   ]
  },
  {
   "cell_type": "markdown",
   "metadata": {
    "papermill": {
     "duration": 0.008201,
     "end_time": "2021-02-24T04:03:30.936781",
     "exception": false,
     "start_time": "2021-02-24T04:03:30.928580",
     "status": "completed"
    },
    "tags": []
   },
   "source": [
    "# Settings"
   ]
  },
  {
   "cell_type": "code",
   "execution_count": 3,
   "metadata": {
    "execution": {
     "iopub.execute_input": "2021-02-24T04:03:30.956030Z",
     "iopub.status.busy": "2021-02-24T04:03:30.955550Z",
     "iopub.status.idle": "2021-02-24T04:03:30.967391Z",
     "shell.execute_reply": "2021-02-24T04:03:30.967675Z"
    },
    "papermill": {
     "duration": 0.022681,
     "end_time": "2021-02-24T04:03:30.967785",
     "exception": false,
     "start_time": "2021-02-24T04:03:30.945104",
     "status": "completed"
    },
    "tags": []
   },
   "outputs": [
    {
     "data": {
      "text/plain": [
       "PosixPath('/home/miltondp/projects/labs/greenelab/phenoplier/base3/results/clustering/consensus_clustering')"
      ]
     },
     "metadata": {},
     "output_type": "display_data"
    }
   ],
   "source": [
    "CONSENSUS_CLUSTERING_DIR = Path(\n",
    "    conf.RESULTS[\"CLUSTERING_DIR\"], \"consensus_clustering\"\n",
    ").resolve()\n",
    "\n",
    "display(CONSENSUS_CLUSTERING_DIR)"
   ]
  },
  {
   "cell_type": "markdown",
   "metadata": {
    "papermill": {
     "duration": 0.008738,
     "end_time": "2021-02-24T04:03:30.985474",
     "exception": false,
     "start_time": "2021-02-24T04:03:30.976736",
     "status": "completed"
    },
    "tags": []
   },
   "source": [
    "## Load data"
   ]
  },
  {
   "cell_type": "code",
   "execution_count": 4,
   "metadata": {
    "execution": {
     "iopub.execute_input": "2021-02-24T04:03:31.005450Z",
     "iopub.status.busy": "2021-02-24T04:03:31.005090Z",
     "iopub.status.idle": "2021-02-24T04:03:31.012696Z",
     "shell.execute_reply": "2021-02-24T04:03:31.012308Z"
    },
    "papermill": {
     "duration": 0.018544,
     "end_time": "2021-02-24T04:03:31.012823",
     "exception": false,
     "start_time": "2021-02-24T04:03:30.994279",
     "status": "completed"
    },
    "tags": []
   },
   "outputs": [],
   "source": [
    "INPUT_SUBSET = \"umap\""
   ]
  },
  {
   "cell_type": "code",
   "execution_count": 5,
   "metadata": {
    "execution": {
     "iopub.execute_input": "2021-02-24T04:03:31.032453Z",
     "iopub.status.busy": "2021-02-24T04:03:31.032087Z",
     "iopub.status.idle": "2021-02-24T04:03:31.039569Z",
     "shell.execute_reply": "2021-02-24T04:03:31.039206Z"
    },
    "papermill": {
     "duration": 0.018003,
     "end_time": "2021-02-24T04:03:31.039653",
     "exception": false,
     "start_time": "2021-02-24T04:03:31.021650",
     "status": "completed"
    },
    "tags": []
   },
   "outputs": [],
   "source": [
    "INPUT_STEM = \"z_score_std-projection-smultixcan-efo_partial-mashr-zscores\""
   ]
  },
  {
   "cell_type": "code",
   "execution_count": 6,
   "metadata": {
    "execution": {
     "iopub.execute_input": "2021-02-24T04:03:31.059489Z",
     "iopub.status.busy": "2021-02-24T04:03:31.059119Z",
     "iopub.status.idle": "2021-02-24T04:03:31.066330Z",
     "shell.execute_reply": "2021-02-24T04:03:31.065950Z"
    },
    "papermill": {
     "duration": 0.01811,
     "end_time": "2021-02-24T04:03:31.066417",
     "exception": false,
     "start_time": "2021-02-24T04:03:31.048307",
     "status": "completed"
    },
    "tags": []
   },
   "outputs": [],
   "source": [
    "DR_OPTIONS = {\n",
    "    \"n_components\": 5,\n",
    "    \"metric\": \"euclidean\",\n",
    "    \"n_neighbors\": 15,\n",
    "    \"random_state\": 0,\n",
    "}"
   ]
  },
  {
   "cell_type": "code",
   "execution_count": 7,
   "metadata": {
    "execution": {
     "iopub.execute_input": "2021-02-24T04:03:31.086852Z",
     "iopub.status.busy": "2021-02-24T04:03:31.086481Z",
     "iopub.status.idle": "2021-02-24T04:03:31.095430Z",
     "shell.execute_reply": "2021-02-24T04:03:31.095712Z"
    },
    "papermill": {
     "duration": 0.020464,
     "end_time": "2021-02-24T04:03:31.095818",
     "exception": false,
     "start_time": "2021-02-24T04:03:31.075354",
     "status": "completed"
    },
    "tags": []
   },
   "outputs": [
    {
     "data": {
      "text/plain": [
       "PosixPath('/home/miltondp/projects/labs/greenelab/phenoplier/base3/results/data_transformations/umap/umap-z_score_std-projection-smultixcan-efo_partial-mashr-zscores-metric_euclidean-n_components_5-n_neighbors_15-random_state_0.pkl')"
      ]
     },
     "metadata": {},
     "output_type": "display_data"
    },
    {
     "data": {
      "text/plain": [
       "'umap-z_score_std-projection-smultixcan-efo_partial-mashr-zscores-metric_euclidean-n_components_5-n_neighbors_15-random_state_0'"
      ]
     },
     "metadata": {},
     "output_type": "display_data"
    }
   ],
   "source": [
    "input_filepath = Path(\n",
    "    conf.RESULTS[\"DATA_TRANSFORMATIONS_DIR\"],\n",
    "    INPUT_SUBSET,\n",
    "    generate_result_set_name(\n",
    "        DR_OPTIONS, prefix=f\"{INPUT_SUBSET}-{INPUT_STEM}-\", suffix=\".pkl\"\n",
    "    ),\n",
    ").resolve()\n",
    "display(input_filepath)\n",
    "\n",
    "assert input_filepath.exists(), \"Input file does not exist\"\n",
    "\n",
    "input_filepath_stem = input_filepath.stem\n",
    "display(input_filepath_stem)"
   ]
  },
  {
   "cell_type": "code",
   "execution_count": 8,
   "metadata": {
    "execution": {
     "iopub.execute_input": "2021-02-24T04:03:31.116414Z",
     "iopub.status.busy": "2021-02-24T04:03:31.116048Z",
     "iopub.status.idle": "2021-02-24T04:03:31.125020Z",
     "shell.execute_reply": "2021-02-24T04:03:31.124635Z"
    },
    "papermill": {
     "duration": 0.020008,
     "end_time": "2021-02-24T04:03:31.125109",
     "exception": false,
     "start_time": "2021-02-24T04:03:31.105101",
     "status": "completed"
    },
    "tags": []
   },
   "outputs": [],
   "source": [
    "data_umap = pd.read_pickle(input_filepath)"
   ]
  },
  {
   "cell_type": "code",
   "execution_count": 9,
   "metadata": {
    "execution": {
     "iopub.execute_input": "2021-02-24T04:03:31.146230Z",
     "iopub.status.busy": "2021-02-24T04:03:31.145862Z",
     "iopub.status.idle": "2021-02-24T04:03:31.154323Z",
     "shell.execute_reply": "2021-02-24T04:03:31.153951Z"
    },
    "papermill": {
     "duration": 0.019809,
     "end_time": "2021-02-24T04:03:31.154409",
     "exception": false,
     "start_time": "2021-02-24T04:03:31.134600",
     "status": "completed"
    },
    "tags": []
   },
   "outputs": [
    {
     "data": {
      "text/plain": [
       "(3749, 5)"
      ]
     },
     "execution_count": 9,
     "metadata": {},
     "output_type": "execute_result"
    }
   ],
   "source": [
    "data_umap.shape"
   ]
  },
  {
   "cell_type": "code",
   "execution_count": 10,
   "metadata": {
    "execution": {
     "iopub.execute_input": "2021-02-24T04:03:31.175784Z",
     "iopub.status.busy": "2021-02-24T04:03:31.175425Z",
     "iopub.status.idle": "2021-02-24T04:03:31.188312Z",
     "shell.execute_reply": "2021-02-24T04:03:31.187986Z"
    },
    "papermill": {
     "duration": 0.024449,
     "end_time": "2021-02-24T04:03:31.188399",
     "exception": false,
     "start_time": "2021-02-24T04:03:31.163950",
     "status": "completed"
    },
    "tags": []
   },
   "outputs": [
    {
     "data": {
      "text/html": [
       "<div>\n",
       "<style scoped>\n",
       "    .dataframe tbody tr th:only-of-type {\n",
       "        vertical-align: middle;\n",
       "    }\n",
       "\n",
       "    .dataframe tbody tr th {\n",
       "        vertical-align: top;\n",
       "    }\n",
       "\n",
       "    .dataframe thead th {\n",
       "        text-align: right;\n",
       "    }\n",
       "</style>\n",
       "<table border=\"1\" class=\"dataframe\">\n",
       "  <thead>\n",
       "    <tr style=\"text-align: right;\">\n",
       "      <th></th>\n",
       "      <th>UMAP1</th>\n",
       "      <th>UMAP2</th>\n",
       "      <th>UMAP3</th>\n",
       "      <th>UMAP4</th>\n",
       "      <th>UMAP5</th>\n",
       "    </tr>\n",
       "  </thead>\n",
       "  <tbody>\n",
       "    <tr>\n",
       "      <th>100001_raw-Food_weight</th>\n",
       "      <td>-8.437452</td>\n",
       "      <td>1.664409</td>\n",
       "      <td>9.233617</td>\n",
       "      <td>6.944210</td>\n",
       "      <td>16.781176</td>\n",
       "    </tr>\n",
       "    <tr>\n",
       "      <th>100002_raw-Energy</th>\n",
       "      <td>-8.388347</td>\n",
       "      <td>1.670845</td>\n",
       "      <td>9.251021</td>\n",
       "      <td>6.975690</td>\n",
       "      <td>16.698511</td>\n",
       "    </tr>\n",
       "    <tr>\n",
       "      <th>100003_raw-Protein</th>\n",
       "      <td>-8.424020</td>\n",
       "      <td>1.696144</td>\n",
       "      <td>9.226449</td>\n",
       "      <td>6.970763</td>\n",
       "      <td>16.768959</td>\n",
       "    </tr>\n",
       "    <tr>\n",
       "      <th>100004_raw-Fat</th>\n",
       "      <td>-8.393674</td>\n",
       "      <td>1.685311</td>\n",
       "      <td>9.258855</td>\n",
       "      <td>6.992673</td>\n",
       "      <td>16.728815</td>\n",
       "    </tr>\n",
       "    <tr>\n",
       "      <th>100005_raw-Carbohydrate</th>\n",
       "      <td>-8.427763</td>\n",
       "      <td>1.685172</td>\n",
       "      <td>9.234971</td>\n",
       "      <td>6.967204</td>\n",
       "      <td>16.751522</td>\n",
       "    </tr>\n",
       "  </tbody>\n",
       "</table>\n",
       "</div>"
      ],
      "text/plain": [
       "                            UMAP1     UMAP2     UMAP3     UMAP4      UMAP5\n",
       "100001_raw-Food_weight  -8.437452  1.664409  9.233617  6.944210  16.781176\n",
       "100002_raw-Energy       -8.388347  1.670845  9.251021  6.975690  16.698511\n",
       "100003_raw-Protein      -8.424020  1.696144  9.226449  6.970763  16.768959\n",
       "100004_raw-Fat          -8.393674  1.685311  9.258855  6.992673  16.728815\n",
       "100005_raw-Carbohydrate -8.427763  1.685172  9.234971  6.967204  16.751522"
      ]
     },
     "execution_count": 10,
     "metadata": {},
     "output_type": "execute_result"
    }
   ],
   "source": [
    "data_umap.head()"
   ]
  },
  {
   "cell_type": "markdown",
   "metadata": {
    "papermill": {
     "duration": 0.009549,
     "end_time": "2021-02-24T04:03:31.207845",
     "exception": false,
     "start_time": "2021-02-24T04:03:31.198296",
     "status": "completed"
    },
    "tags": []
   },
   "source": [
    "# Load best partitions"
   ]
  },
  {
   "cell_type": "code",
   "execution_count": 11,
   "metadata": {
    "execution": {
     "iopub.execute_input": "2021-02-24T04:03:31.229333Z",
     "iopub.status.busy": "2021-02-24T04:03:31.228971Z",
     "iopub.status.idle": "2021-02-24T04:03:31.237676Z",
     "shell.execute_reply": "2021-02-24T04:03:31.237354Z"
    },
    "papermill": {
     "duration": 0.02029,
     "end_time": "2021-02-24T04:03:31.237763",
     "exception": false,
     "start_time": "2021-02-24T04:03:31.217473",
     "status": "completed"
    },
    "tags": []
   },
   "outputs": [
    {
     "data": {
      "text/plain": [
       "PosixPath('/home/miltondp/projects/labs/greenelab/phenoplier/base3/results/clustering/consensus_clustering/best_partitions_by_k.pkl')"
      ]
     },
     "metadata": {},
     "output_type": "display_data"
    }
   ],
   "source": [
    "input_file = Path(CONSENSUS_CLUSTERING_DIR, \"best_partitions_by_k.pkl\").resolve()\n",
    "display(input_file)"
   ]
  },
  {
   "cell_type": "code",
   "execution_count": 12,
   "metadata": {
    "execution": {
     "iopub.execute_input": "2021-02-24T04:03:31.259993Z",
     "iopub.status.busy": "2021-02-24T04:03:31.259627Z",
     "iopub.status.idle": "2021-02-24T04:03:31.268710Z",
     "shell.execute_reply": "2021-02-24T04:03:31.269001Z"
    },
    "papermill": {
     "duration": 0.02126,
     "end_time": "2021-02-24T04:03:31.269110",
     "exception": false,
     "start_time": "2021-02-24T04:03:31.247850",
     "status": "completed"
    },
    "tags": []
   },
   "outputs": [],
   "source": [
    "best_partitions = pd.read_pickle(input_file)"
   ]
  },
  {
   "cell_type": "code",
   "execution_count": 13,
   "metadata": {
    "execution": {
     "iopub.execute_input": "2021-02-24T04:03:31.291412Z",
     "iopub.status.busy": "2021-02-24T04:03:31.291057Z",
     "iopub.status.idle": "2021-02-24T04:03:31.298687Z",
     "shell.execute_reply": "2021-02-24T04:03:31.298969Z"
    },
    "papermill": {
     "duration": 0.019958,
     "end_time": "2021-02-24T04:03:31.299088",
     "exception": false,
     "start_time": "2021-02-24T04:03:31.279130",
     "status": "completed"
    },
    "tags": []
   },
   "outputs": [
    {
     "data": {
      "text/plain": [
       "(59, 4)"
      ]
     },
     "execution_count": 13,
     "metadata": {},
     "output_type": "execute_result"
    }
   ],
   "source": [
    "best_partitions.shape"
   ]
  },
  {
   "cell_type": "code",
   "execution_count": 14,
   "metadata": {
    "execution": {
     "iopub.execute_input": "2021-02-24T04:03:31.321448Z",
     "iopub.status.busy": "2021-02-24T04:03:31.321087Z",
     "iopub.status.idle": "2021-02-24T04:03:31.337666Z",
     "shell.execute_reply": "2021-02-24T04:03:31.337323Z"
    },
    "papermill": {
     "duration": 0.028506,
     "end_time": "2021-02-24T04:03:31.337754",
     "exception": false,
     "start_time": "2021-02-24T04:03:31.309248",
     "status": "completed"
    },
    "tags": []
   },
   "outputs": [
    {
     "data": {
      "text/html": [
       "<div>\n",
       "<style scoped>\n",
       "    .dataframe tbody tr th:only-of-type {\n",
       "        vertical-align: middle;\n",
       "    }\n",
       "\n",
       "    .dataframe tbody tr th {\n",
       "        vertical-align: top;\n",
       "    }\n",
       "\n",
       "    .dataframe thead th {\n",
       "        text-align: right;\n",
       "    }\n",
       "</style>\n",
       "<table border=\"1\" class=\"dataframe\">\n",
       "  <thead>\n",
       "    <tr style=\"text-align: right;\">\n",
       "      <th></th>\n",
       "      <th>method</th>\n",
       "      <th>partition</th>\n",
       "      <th>ami_mean</th>\n",
       "      <th>selected</th>\n",
       "    </tr>\n",
       "    <tr>\n",
       "      <th>k</th>\n",
       "      <th></th>\n",
       "      <th></th>\n",
       "      <th></th>\n",
       "      <th></th>\n",
       "    </tr>\n",
       "  </thead>\n",
       "  <tbody>\n",
       "    <tr>\n",
       "      <th>11</th>\n",
       "      <td>scc_020</td>\n",
       "      <td>[0, 0, 0, 0, 0, 0, 0, 0, 0, 0, 0, 0, 0, 0, 0, ...</td>\n",
       "      <td>0.301839</td>\n",
       "      <td>True</td>\n",
       "    </tr>\n",
       "    <tr>\n",
       "      <th>10</th>\n",
       "      <td>scc_020</td>\n",
       "      <td>[0, 0, 0, 0, 0, 0, 0, 0, 0, 0, 0, 0, 0, 0, 0, ...</td>\n",
       "      <td>0.301738</td>\n",
       "      <td>True</td>\n",
       "    </tr>\n",
       "    <tr>\n",
       "      <th>9</th>\n",
       "      <td>scc_020</td>\n",
       "      <td>[0, 0, 0, 0, 0, 0, 0, 0, 0, 0, 0, 0, 0, 0, 0, ...</td>\n",
       "      <td>0.301301</td>\n",
       "      <td>True</td>\n",
       "    </tr>\n",
       "    <tr>\n",
       "      <th>4</th>\n",
       "      <td>eac_complete_coassoc_matrix</td>\n",
       "      <td>[0, 0, 0, 0, 0, 0, 0, 0, 0, 0, 0, 0, 0, 0, 0, ...</td>\n",
       "      <td>0.300385</td>\n",
       "      <td>True</td>\n",
       "    </tr>\n",
       "    <tr>\n",
       "      <th>8</th>\n",
       "      <td>scc_020</td>\n",
       "      <td>[0, 0, 0, 0, 0, 0, 0, 0, 0, 0, 0, 0, 0, 0, 0, ...</td>\n",
       "      <td>0.300171</td>\n",
       "      <td>True</td>\n",
       "    </tr>\n",
       "  </tbody>\n",
       "</table>\n",
       "</div>"
      ],
      "text/plain": [
       "                         method  \\\n",
       "k                                 \n",
       "11                      scc_020   \n",
       "10                      scc_020   \n",
       "9                       scc_020   \n",
       "4   eac_complete_coassoc_matrix   \n",
       "8                       scc_020   \n",
       "\n",
       "                                            partition  ami_mean  selected  \n",
       "k                                                                          \n",
       "11  [0, 0, 0, 0, 0, 0, 0, 0, 0, 0, 0, 0, 0, 0, 0, ...  0.301839      True  \n",
       "10  [0, 0, 0, 0, 0, 0, 0, 0, 0, 0, 0, 0, 0, 0, 0, ...  0.301738      True  \n",
       "9   [0, 0, 0, 0, 0, 0, 0, 0, 0, 0, 0, 0, 0, 0, 0, ...  0.301301      True  \n",
       "4   [0, 0, 0, 0, 0, 0, 0, 0, 0, 0, 0, 0, 0, 0, 0, ...  0.300385      True  \n",
       "8   [0, 0, 0, 0, 0, 0, 0, 0, 0, 0, 0, 0, 0, 0, 0, ...  0.300171      True  "
      ]
     },
     "execution_count": 14,
     "metadata": {},
     "output_type": "execute_result"
    }
   ],
   "source": [
    "best_partitions.head()"
   ]
  },
  {
   "cell_type": "markdown",
   "metadata": {
    "papermill": {
     "duration": 0.009961,
     "end_time": "2021-02-24T04:03:31.358242",
     "exception": false,
     "start_time": "2021-02-24T04:03:31.348281",
     "status": "completed"
    },
    "tags": []
   },
   "source": [
    "# Analysis of clusterings"
   ]
  },
  {
   "cell_type": "code",
   "execution_count": 15,
   "metadata": {
    "execution": {
     "iopub.execute_input": "2021-02-24T04:03:31.380593Z",
     "iopub.status.busy": "2021-02-24T04:03:31.380215Z",
     "iopub.status.idle": "2021-02-24T04:03:31.387868Z",
     "shell.execute_reply": "2021-02-24T04:03:31.387502Z"
    },
    "papermill": {
     "duration": 0.019852,
     "end_time": "2021-02-24T04:03:31.387952",
     "exception": false,
     "start_time": "2021-02-24T04:03:31.368100",
     "status": "completed"
    },
    "tags": []
   },
   "outputs": [],
   "source": [
    "from IPython.display import HTML"
   ]
  },
  {
   "cell_type": "code",
   "execution_count": 16,
   "metadata": {
    "execution": {
     "iopub.execute_input": "2021-02-24T04:03:31.410943Z",
     "iopub.status.busy": "2021-02-24T04:03:31.410572Z",
     "iopub.status.idle": "2021-02-24T04:03:31.417738Z",
     "shell.execute_reply": "2021-02-24T04:03:31.417404Z"
    },
    "papermill": {
     "duration": 0.019495,
     "end_time": "2021-02-24T04:03:31.417822",
     "exception": false,
     "start_time": "2021-02-24T04:03:31.398327",
     "status": "completed"
    },
    "tags": []
   },
   "outputs": [],
   "source": [
    "def show_cluster_stats(clustering_data, selected_partition, selected_cluster):\n",
    "    traits = [t for t in clustering_data[selected_partition == selected_cluster].index]\n",
    "    display(len(traits))\n",
    "    display(traits)"
   ]
  },
  {
   "cell_type": "code",
   "execution_count": 17,
   "metadata": {
    "execution": {
     "iopub.execute_input": "2021-02-24T04:03:31.441462Z",
     "iopub.status.busy": "2021-02-24T04:03:31.441044Z",
     "iopub.status.idle": "2021-02-24T04:03:31.450563Z",
     "shell.execute_reply": "2021-02-24T04:03:31.450155Z"
    },
    "papermill": {
     "duration": 0.022373,
     "end_time": "2021-02-24T04:03:31.450658",
     "exception": false,
     "start_time": "2021-02-24T04:03:31.428285",
     "status": "completed"
    },
    "tags": []
   },
   "outputs": [
    {
     "data": {
      "text/plain": [
       "[4,\n",
       " 5,\n",
       " 6,\n",
       " 7,\n",
       " 8,\n",
       " 9,\n",
       " 10,\n",
       " 11,\n",
       " 13,\n",
       " 14,\n",
       " 16,\n",
       " 17,\n",
       " 18,\n",
       " 19,\n",
       " 20,\n",
       " 21,\n",
       " 22,\n",
       " 23,\n",
       " 24,\n",
       " 25,\n",
       " 26,\n",
       " 28,\n",
       " 29,\n",
       " 31,\n",
       " 32,\n",
       " 38,\n",
       " 41,\n",
       " 44,\n",
       " 45]"
      ]
     },
     "metadata": {},
     "output_type": "display_data"
    }
   ],
   "source": [
    "selected_k_values = best_partitions[best_partitions[\"selected\"]].index.tolist()\n",
    "selected_k_values.sort()\n",
    "display(selected_k_values)"
   ]
  },
  {
   "cell_type": "code",
   "execution_count": 18,
   "metadata": {
    "execution": {
     "iopub.execute_input": "2021-02-24T04:03:31.477450Z",
     "iopub.status.busy": "2021-02-24T04:03:31.477023Z",
     "iopub.status.idle": "2021-02-24T04:03:32.994666Z",
     "shell.execute_reply": "2021-02-24T04:03:32.994285Z"
    },
    "papermill": {
     "duration": 1.532429,
     "end_time": "2021-02-24T04:03:32.994755",
     "exception": false,
     "start_time": "2021-02-24T04:03:31.462326",
     "status": "completed"
    },
    "tags": []
   },
   "outputs": [
    {
     "data": {
      "text/html": [
       "<h2>Partition with k=4</h2>"
      ],
      "text/plain": [
       "<IPython.core.display.HTML object>"
      ]
     },
     "metadata": {},
     "output_type": "display_data"
    },
    {
     "data": {
      "text/plain": [
       "method                             eac_complete_coassoc_matrix\n",
       "partition    [0, 0, 0, 0, 0, 0, 0, 0, 0, 0, 0, 0, 0, 0, 0, ...\n",
       "ami_mean                                              0.300385\n",
       "selected                                                  True\n",
       "Name: 4, dtype: object"
      ]
     },
     "metadata": {},
     "output_type": "display_data"
    },
    {
     "data": {
      "text/plain": [
       "(3749,)"
      ]
     },
     "metadata": {},
     "output_type": "display_data"
    },
    {
     "data": {
      "text/plain": [
       "0    3648\n",
       "2      41\n",
       "3      40\n",
       "1      20\n",
       "dtype: int64"
      ]
     },
     "metadata": {},
     "output_type": "display_data"
    },
    {
     "data": {
      "text/html": [
       "<h3>Cluster 4.0</h3>"
      ],
      "text/plain": [
       "<IPython.core.display.HTML object>"
      ]
     },
     "metadata": {},
     "output_type": "display_data"
    },
    {
     "data": {
      "text/plain": [
       "3648"
      ]
     },
     "metadata": {},
     "output_type": "display_data"
    },
    {
     "data": {
      "text/plain": [
       "Index(['100001_raw-Food_weight', '100002_raw-Energy', '100003_raw-Protein',\n",
       "       '100004_raw-Fat', '100005_raw-Carbohydrate', '100006_raw-Saturated_fat',\n",
       "       '100007_raw-Polyunsaturated_fat', '100008_raw-Total_sugars',\n",
       "       '100009_raw-Englyst_dietary_fibre', '100010-Portion_size',\n",
       "       ...\n",
       "       'visual impairment', 'vitiligo', 'vitreous body disease',\n",
       "       'vocal cord polyp', 'voice disorders',\n",
       "       'wellbeing measurement AND family relationship', 'wheezing',\n",
       "       'whooping cough', 'worry measurement', 'wrist fracture'],\n",
       "      dtype='object', length=3648)"
      ]
     },
     "metadata": {},
     "output_type": "display_data"
    },
    {
     "data": {
      "text/html": [
       "<h3>Cluster 4.1</h3>"
      ],
      "text/plain": [
       "<IPython.core.display.HTML object>"
      ]
     },
     "metadata": {},
     "output_type": "display_data"
    },
    {
     "data": {
      "text/plain": [
       "20"
      ]
     },
     "metadata": {},
     "output_type": "display_data"
    },
    {
     "data": {
      "text/plain": [
       "Index(['3144_raw-Heel_Broadband_ultrasound_attenuation_direct_entry',\n",
       "       '3147_raw-Heel_quantitative_ultrasound_index_QUI_direct_entry',\n",
       "       '3148_raw-Heel_bone_mineral_density_BMD',\n",
       "       '4101_raw-Heel_broadband_ultrasound_attenuation_left',\n",
       "       '4104_raw-Heel_quantitative_ultrasound_index_QUI_direct_entry_left',\n",
       "       '4105_raw-Heel_bone_mineral_density_BMD_left',\n",
       "       '4106_raw-Heel_bone_mineral_density_BMD_Tscore_automated_left',\n",
       "       '4120_raw-Heel_broadband_ultrasound_attenuation_right',\n",
       "       '4123_raw-Heel_quantitative_ultrasound_index_QUI_direct_entry_right',\n",
       "       '4124_raw-Heel_bone_mineral_density_BMD_right',\n",
       "       '4125_raw-Heel_bone_mineral_density_BMD_Tscore_automated_right',\n",
       "       '5096_raw-3mm_weak_meridian_left', '5097_raw-6mm_weak_meridian_left',\n",
       "       '5098_raw-6mm_weak_meridian_right', '5099_raw-3mm_weak_meridian_right',\n",
       "       '5132_raw-3mm_strong_meridian_right',\n",
       "       '5133_raw-6mm_strong_meridian_right',\n",
       "       '5134_raw-6mm_strong_meridian_left',\n",
       "       '5135_raw-3mm_strong_meridian_left',\n",
       "       '78_raw-Heel_bone_mineral_density_BMD_Tscore_automated'],\n",
       "      dtype='object')"
      ]
     },
     "metadata": {},
     "output_type": "display_data"
    },
    {
     "data": {
      "text/html": [
       "<h3>Cluster 4.2</h3>"
      ],
      "text/plain": [
       "<IPython.core.display.HTML object>"
      ]
     },
     "metadata": {},
     "output_type": "display_data"
    },
    {
     "data": {
      "text/plain": [
       "41"
      ]
     },
     "metadata": {},
     "output_type": "display_data"
    },
    {
     "data": {
      "text/plain": [
       "Index(['20015_raw-Sitting_height',\n",
       "       '20153_raw-Forced_expiratory_volume_in_1second_FEV1_predicted',\n",
       "       '21001_raw-Body_mass_index_BMI', '21002_raw-Weight', '23098_raw-Weight',\n",
       "       '23099_raw-Body_fat_percentage', '23100_raw-Whole_body_fat_mass',\n",
       "       '23101_raw-Whole_body_fatfree_mass', '23102_raw-Whole_body_water_mass',\n",
       "       '23104_raw-Body_mass_index_BMI', '23105_raw-Basal_metabolic_rate',\n",
       "       '23106_raw-Impedance_of_whole_body', '23107_raw-Impedance_of_leg_right',\n",
       "       '23108_raw-Impedance_of_leg_left', '23109_raw-Impedance_of_arm_right',\n",
       "       '23110_raw-Impedance_of_arm_left', '23111_raw-Leg_fat_percentage_right',\n",
       "       '23112_raw-Leg_fat_mass_right', '23113_raw-Leg_fatfree_mass_right',\n",
       "       '23114_raw-Leg_predicted_mass_right',\n",
       "       '23115_raw-Leg_fat_percentage_left', '23116_raw-Leg_fat_mass_left',\n",
       "       '23117_raw-Leg_fatfree_mass_left', '23118_raw-Leg_predicted_mass_left',\n",
       "       '23119_raw-Arm_fat_percentage_right', '23120_raw-Arm_fat_mass_right',\n",
       "       '23121_raw-Arm_fatfree_mass_right',\n",
       "       '23122_raw-Arm_predicted_mass_right',\n",
       "       '23123_raw-Arm_fat_percentage_left', '23124_raw-Arm_fat_mass_left',\n",
       "       '23125_raw-Arm_fatfree_mass_left', '23126_raw-Arm_predicted_mass_left',\n",
       "       '23127_raw-Trunk_fat_percentage', '23128_raw-Trunk_fat_mass',\n",
       "       '23129_raw-Trunk_fatfree_mass', '23130_raw-Trunk_predicted_mass',\n",
       "       '3143_raw-Ankle_spacing_width', '48_raw-Waist_circumference',\n",
       "       '49_raw-Hip_circumference', '50_raw-Standing_height', 'body height'],\n",
       "      dtype='object')"
      ]
     },
     "metadata": {},
     "output_type": "display_data"
    },
    {
     "data": {
      "text/html": [
       "<h3>Cluster 4.3</h3>"
      ],
      "text/plain": [
       "<IPython.core.display.HTML object>"
      ]
     },
     "metadata": {},
     "output_type": "display_data"
    },
    {
     "data": {
      "text/plain": [
       "40"
      ]
     },
     "metadata": {},
     "output_type": "display_data"
    },
    {
     "data": {
      "text/plain": [
       "Index(['20150_raw-Forced_expiratory_volume_in_1second_FEV1_Best_measure',\n",
       "       '20151_raw-Forced_vital_capacity_FVC_Best_measure',\n",
       "       '30000_raw-White_blood_cell_leukocyte_count',\n",
       "       '30010_raw-Red_blood_cell_erythrocyte_count',\n",
       "       '30020_raw-Haemoglobin_concentration',\n",
       "       '30030_raw-Haematocrit_percentage', '30040_raw-Mean_corpuscular_volume',\n",
       "       '30050_raw-Mean_corpuscular_haemoglobin',\n",
       "       '30070_raw-Red_blood_cell_erythrocyte_distribution_width',\n",
       "       '30080_raw-Platelet_count', '30090_raw-Platelet_crit',\n",
       "       '30100_raw-Mean_platelet_thrombocyte_volume',\n",
       "       '30110_raw-Platelet_distribution_width', '30130_raw-Monocyte_count',\n",
       "       '30140_raw-Neutrophill_count', '30150-Eosinophill_count',\n",
       "       '30180_raw-Lymphocyte_percentage', '30190_raw-Monocyte_percentage',\n",
       "       '30200_raw-Neutrophill_percentage', '30210_raw-Eosinophill_percentage',\n",
       "       '30240_raw-Reticulocyte_percentage', '30250_raw-Reticulocyte_count',\n",
       "       '30260_raw-Mean_reticulocyte_volume',\n",
       "       '30270_raw-Mean_sphered_cell_volume',\n",
       "       '30280_raw-Immature_reticulocyte_fraction',\n",
       "       '30290_raw-High_light_scatter_reticulocyte_percentage',\n",
       "       '30300_raw-High_light_scatter_reticulocyte_count',\n",
       "       '3062_raw-Forced_vital_capacity_FVC',\n",
       "       '3063_raw-Forced_expiratory_volume_in_1second_FEV1', 'eosinophil count',\n",
       "       'erythrocyte count', 'granulocyte count', 'inflammatory bowel disease',\n",
       "       'leukocyte count', 'lymphocyte count', 'monocyte count',\n",
       "       'myeloid white cell count', 'neutrophil count', 'platelet count',\n",
       "       'reticulocyte count'],\n",
       "      dtype='object')"
      ]
     },
     "metadata": {},
     "output_type": "display_data"
    },
    {
     "data": {
      "text/html": [
       "<h2>Partition with k=5</h2>"
      ],
      "text/plain": [
       "<IPython.core.display.HTML object>"
      ]
     },
     "metadata": {},
     "output_type": "display_data"
    },
    {
     "data": {
      "text/plain": [
       "method                              eac_average_coassoc_matrix\n",
       "partition    [0, 0, 0, 0, 0, 0, 0, 0, 0, 0, 0, 0, 0, 0, 0, ...\n",
       "ami_mean                                               0.29829\n",
       "selected                                                  True\n",
       "Name: 5, dtype: object"
      ]
     },
     "metadata": {},
     "output_type": "display_data"
    },
    {
     "data": {
      "text/plain": [
       "(3749,)"
      ]
     },
     "metadata": {},
     "output_type": "display_data"
    },
    {
     "data": {
      "text/plain": [
       "0    3641\n",
       "1      47\n",
       "3      41\n",
       "2      12\n",
       "4       8\n",
       "dtype: int64"
      ]
     },
     "metadata": {},
     "output_type": "display_data"
    },
    {
     "data": {
      "text/html": [
       "<h3>Cluster 5.0</h3>"
      ],
      "text/plain": [
       "<IPython.core.display.HTML object>"
      ]
     },
     "metadata": {},
     "output_type": "display_data"
    },
    {
     "data": {
      "text/plain": [
       "3641"
      ]
     },
     "metadata": {},
     "output_type": "display_data"
    },
    {
     "data": {
      "text/plain": [
       "Index(['100001_raw-Food_weight', '100002_raw-Energy', '100003_raw-Protein',\n",
       "       '100004_raw-Fat', '100005_raw-Carbohydrate', '100006_raw-Saturated_fat',\n",
       "       '100007_raw-Polyunsaturated_fat', '100008_raw-Total_sugars',\n",
       "       '100009_raw-Englyst_dietary_fibre', '100010-Portion_size',\n",
       "       ...\n",
       "       'visual impairment', 'vitiligo', 'vitreous body disease',\n",
       "       'vocal cord polyp', 'voice disorders',\n",
       "       'wellbeing measurement AND family relationship', 'wheezing',\n",
       "       'whooping cough', 'worry measurement', 'wrist fracture'],\n",
       "      dtype='object', length=3641)"
      ]
     },
     "metadata": {},
     "output_type": "display_data"
    },
    {
     "data": {
      "text/html": [
       "<h3>Cluster 5.1</h3>"
      ],
      "text/plain": [
       "<IPython.core.display.HTML object>"
      ]
     },
     "metadata": {},
     "output_type": "display_data"
    },
    {
     "data": {
      "text/plain": [
       "47"
      ]
     },
     "metadata": {},
     "output_type": "display_data"
    },
    {
     "data": {
      "text/plain": [
       "Index(['102_raw-Pulse_rate_automated_reading',\n",
       "       '20150_raw-Forced_expiratory_volume_in_1second_FEV1_Best_measure',\n",
       "       '20151_raw-Forced_vital_capacity_FVC_Best_measure',\n",
       "       '2395_1-Hairbalding_pattern_Pattern_1',\n",
       "       '30000_raw-White_blood_cell_leukocyte_count',\n",
       "       '30010_raw-Red_blood_cell_erythrocyte_count',\n",
       "       '30020_raw-Haemoglobin_concentration',\n",
       "       '30030_raw-Haematocrit_percentage', '30040_raw-Mean_corpuscular_volume',\n",
       "       '30050_raw-Mean_corpuscular_haemoglobin',\n",
       "       '30070_raw-Red_blood_cell_erythrocyte_distribution_width',\n",
       "       '30080_raw-Platelet_count', '30090_raw-Platelet_crit',\n",
       "       '30100_raw-Mean_platelet_thrombocyte_volume',\n",
       "       '30110_raw-Platelet_distribution_width', '30130_raw-Monocyte_count',\n",
       "       '30140_raw-Neutrophill_count', '30150-Eosinophill_count',\n",
       "       '30180_raw-Lymphocyte_percentage', '30190_raw-Monocyte_percentage',\n",
       "       '30200_raw-Neutrophill_percentage', '30210_raw-Eosinophill_percentage',\n",
       "       '30240_raw-Reticulocyte_percentage', '30250_raw-Reticulocyte_count',\n",
       "       '30260_raw-Mean_reticulocyte_volume',\n",
       "       '30270_raw-Mean_sphered_cell_volume',\n",
       "       '30280_raw-Immature_reticulocyte_fraction',\n",
       "       '30290_raw-High_light_scatter_reticulocyte_percentage',\n",
       "       '30300_raw-High_light_scatter_reticulocyte_count',\n",
       "       '3062_raw-Forced_vital_capacity_FVC',\n",
       "       '3063_raw-Forced_expiratory_volume_in_1second_FEV1',\n",
       "       '3064_raw-Peak_expiratory_flow_PEF',\n",
       "       '4100_raw-Ankle_spacing_width_left',\n",
       "       '4119_raw-Ankle_spacing_width_right', '46_raw-Hand_grip_strength_left',\n",
       "       '47_raw-Hand_grip_strength_right', 'eosinophil count',\n",
       "       'erythrocyte count', 'granulocyte count', 'inflammatory bowel disease',\n",
       "       'leukocyte count', 'lymphocyte count', 'monocyte count',\n",
       "       'myeloid white cell count', 'neutrophil count', 'platelet count',\n",
       "       'reticulocyte count'],\n",
       "      dtype='object')"
      ]
     },
     "metadata": {},
     "output_type": "display_data"
    },
    {
     "data": {
      "text/html": [
       "<h3>Cluster 5.2</h3>"
      ],
      "text/plain": [
       "<IPython.core.display.HTML object>"
      ]
     },
     "metadata": {},
     "output_type": "display_data"
    },
    {
     "data": {
      "text/plain": [
       "12"
      ]
     },
     "metadata": {},
     "output_type": "display_data"
    },
    {
     "data": {
      "text/plain": [
       "Index(['3144_raw-Heel_Broadband_ultrasound_attenuation_direct_entry',\n",
       "       '3147_raw-Heel_quantitative_ultrasound_index_QUI_direct_entry',\n",
       "       '3148_raw-Heel_bone_mineral_density_BMD',\n",
       "       '4101_raw-Heel_broadband_ultrasound_attenuation_left',\n",
       "       '4104_raw-Heel_quantitative_ultrasound_index_QUI_direct_entry_left',\n",
       "       '4105_raw-Heel_bone_mineral_density_BMD_left',\n",
       "       '4106_raw-Heel_bone_mineral_density_BMD_Tscore_automated_left',\n",
       "       '4120_raw-Heel_broadband_ultrasound_attenuation_right',\n",
       "       '4123_raw-Heel_quantitative_ultrasound_index_QUI_direct_entry_right',\n",
       "       '4124_raw-Heel_bone_mineral_density_BMD_right',\n",
       "       '4125_raw-Heel_bone_mineral_density_BMD_Tscore_automated_right',\n",
       "       '78_raw-Heel_bone_mineral_density_BMD_Tscore_automated'],\n",
       "      dtype='object')"
      ]
     },
     "metadata": {},
     "output_type": "display_data"
    },
    {
     "data": {
      "text/html": [
       "<h3>Cluster 5.3</h3>"
      ],
      "text/plain": [
       "<IPython.core.display.HTML object>"
      ]
     },
     "metadata": {},
     "output_type": "display_data"
    },
    {
     "data": {
      "text/plain": [
       "41"
      ]
     },
     "metadata": {},
     "output_type": "display_data"
    },
    {
     "data": {
      "text/plain": [
       "Index(['20015_raw-Sitting_height',\n",
       "       '20153_raw-Forced_expiratory_volume_in_1second_FEV1_predicted',\n",
       "       '21001_raw-Body_mass_index_BMI', '21002_raw-Weight', '23098_raw-Weight',\n",
       "       '23099_raw-Body_fat_percentage', '23100_raw-Whole_body_fat_mass',\n",
       "       '23101_raw-Whole_body_fatfree_mass', '23102_raw-Whole_body_water_mass',\n",
       "       '23104_raw-Body_mass_index_BMI', '23105_raw-Basal_metabolic_rate',\n",
       "       '23106_raw-Impedance_of_whole_body', '23107_raw-Impedance_of_leg_right',\n",
       "       '23108_raw-Impedance_of_leg_left', '23109_raw-Impedance_of_arm_right',\n",
       "       '23110_raw-Impedance_of_arm_left', '23111_raw-Leg_fat_percentage_right',\n",
       "       '23112_raw-Leg_fat_mass_right', '23113_raw-Leg_fatfree_mass_right',\n",
       "       '23114_raw-Leg_predicted_mass_right',\n",
       "       '23115_raw-Leg_fat_percentage_left', '23116_raw-Leg_fat_mass_left',\n",
       "       '23117_raw-Leg_fatfree_mass_left', '23118_raw-Leg_predicted_mass_left',\n",
       "       '23119_raw-Arm_fat_percentage_right', '23120_raw-Arm_fat_mass_right',\n",
       "       '23121_raw-Arm_fatfree_mass_right',\n",
       "       '23122_raw-Arm_predicted_mass_right',\n",
       "       '23123_raw-Arm_fat_percentage_left', '23124_raw-Arm_fat_mass_left',\n",
       "       '23125_raw-Arm_fatfree_mass_left', '23126_raw-Arm_predicted_mass_left',\n",
       "       '23127_raw-Trunk_fat_percentage', '23128_raw-Trunk_fat_mass',\n",
       "       '23129_raw-Trunk_fatfree_mass', '23130_raw-Trunk_predicted_mass',\n",
       "       '3143_raw-Ankle_spacing_width', '48_raw-Waist_circumference',\n",
       "       '49_raw-Hip_circumference', '50_raw-Standing_height', 'body height'],\n",
       "      dtype='object')"
      ]
     },
     "metadata": {},
     "output_type": "display_data"
    },
    {
     "data": {
      "text/html": [
       "<h3>Cluster 5.4</h3>"
      ],
      "text/plain": [
       "<IPython.core.display.HTML object>"
      ]
     },
     "metadata": {},
     "output_type": "display_data"
    },
    {
     "data": {
      "text/plain": [
       "8"
      ]
     },
     "metadata": {},
     "output_type": "display_data"
    },
    {
     "data": {
      "text/plain": [
       "Index(['5096_raw-3mm_weak_meridian_left', '5097_raw-6mm_weak_meridian_left',\n",
       "       '5098_raw-6mm_weak_meridian_right', '5099_raw-3mm_weak_meridian_right',\n",
       "       '5132_raw-3mm_strong_meridian_right',\n",
       "       '5133_raw-6mm_strong_meridian_right',\n",
       "       '5134_raw-6mm_strong_meridian_left',\n",
       "       '5135_raw-3mm_strong_meridian_left'],\n",
       "      dtype='object')"
      ]
     },
     "metadata": {},
     "output_type": "display_data"
    },
    {
     "data": {
      "text/html": [
       "<h2>Partition with k=6</h2>"
      ],
      "text/plain": [
       "<IPython.core.display.HTML object>"
      ]
     },
     "metadata": {},
     "output_type": "display_data"
    },
    {
     "data": {
      "text/plain": [
       "method                               eac_single_coassoc_matrix\n",
       "partition    [1, 1, 1, 1, 1, 1, 1, 1, 1, 1, 1, 1, 1, 1, 1, ...\n",
       "ami_mean                                              0.288252\n",
       "selected                                                  True\n",
       "Name: 6, dtype: object"
      ]
     },
     "metadata": {},
     "output_type": "display_data"
    },
    {
     "data": {
      "text/plain": [
       "(3749,)"
      ]
     },
     "metadata": {},
     "output_type": "display_data"
    },
    {
     "data": {
      "text/plain": [
       "1    3668\n",
       "0      41\n",
       "2      15\n",
       "3      12\n",
       "5       8\n",
       "4       5\n",
       "dtype: int64"
      ]
     },
     "metadata": {},
     "output_type": "display_data"
    },
    {
     "data": {
      "text/html": [
       "<h3>Cluster 6.0</h3>"
      ],
      "text/plain": [
       "<IPython.core.display.HTML object>"
      ]
     },
     "metadata": {},
     "output_type": "display_data"
    },
    {
     "data": {
      "text/plain": [
       "41"
      ]
     },
     "metadata": {},
     "output_type": "display_data"
    },
    {
     "data": {
      "text/plain": [
       "Index(['20015_raw-Sitting_height',\n",
       "       '20153_raw-Forced_expiratory_volume_in_1second_FEV1_predicted',\n",
       "       '21001_raw-Body_mass_index_BMI', '21002_raw-Weight', '23098_raw-Weight',\n",
       "       '23099_raw-Body_fat_percentage', '23100_raw-Whole_body_fat_mass',\n",
       "       '23101_raw-Whole_body_fatfree_mass', '23102_raw-Whole_body_water_mass',\n",
       "       '23104_raw-Body_mass_index_BMI', '23105_raw-Basal_metabolic_rate',\n",
       "       '23106_raw-Impedance_of_whole_body', '23107_raw-Impedance_of_leg_right',\n",
       "       '23108_raw-Impedance_of_leg_left', '23109_raw-Impedance_of_arm_right',\n",
       "       '23110_raw-Impedance_of_arm_left', '23111_raw-Leg_fat_percentage_right',\n",
       "       '23112_raw-Leg_fat_mass_right', '23113_raw-Leg_fatfree_mass_right',\n",
       "       '23114_raw-Leg_predicted_mass_right',\n",
       "       '23115_raw-Leg_fat_percentage_left', '23116_raw-Leg_fat_mass_left',\n",
       "       '23117_raw-Leg_fatfree_mass_left', '23118_raw-Leg_predicted_mass_left',\n",
       "       '23119_raw-Arm_fat_percentage_right', '23120_raw-Arm_fat_mass_right',\n",
       "       '23121_raw-Arm_fatfree_mass_right',\n",
       "       '23122_raw-Arm_predicted_mass_right',\n",
       "       '23123_raw-Arm_fat_percentage_left', '23124_raw-Arm_fat_mass_left',\n",
       "       '23125_raw-Arm_fatfree_mass_left', '23126_raw-Arm_predicted_mass_left',\n",
       "       '23127_raw-Trunk_fat_percentage', '23128_raw-Trunk_fat_mass',\n",
       "       '23129_raw-Trunk_fatfree_mass', '23130_raw-Trunk_predicted_mass',\n",
       "       '3143_raw-Ankle_spacing_width', '48_raw-Waist_circumference',\n",
       "       '49_raw-Hip_circumference', '50_raw-Standing_height', 'body height'],\n",
       "      dtype='object')"
      ]
     },
     "metadata": {},
     "output_type": "display_data"
    },
    {
     "data": {
      "text/html": [
       "<h3>Cluster 6.1</h3>"
      ],
      "text/plain": [
       "<IPython.core.display.HTML object>"
      ]
     },
     "metadata": {},
     "output_type": "display_data"
    },
    {
     "data": {
      "text/plain": [
       "3668"
      ]
     },
     "metadata": {},
     "output_type": "display_data"
    },
    {
     "data": {
      "text/plain": [
       "Index(['100001_raw-Food_weight', '100002_raw-Energy', '100003_raw-Protein',\n",
       "       '100004_raw-Fat', '100005_raw-Carbohydrate', '100006_raw-Saturated_fat',\n",
       "       '100007_raw-Polyunsaturated_fat', '100008_raw-Total_sugars',\n",
       "       '100009_raw-Englyst_dietary_fibre', '100010-Portion_size',\n",
       "       ...\n",
       "       'visual impairment', 'vitiligo', 'vitreous body disease',\n",
       "       'vocal cord polyp', 'voice disorders',\n",
       "       'wellbeing measurement AND family relationship', 'wheezing',\n",
       "       'whooping cough', 'worry measurement', 'wrist fracture'],\n",
       "      dtype='object', length=3668)"
      ]
     },
     "metadata": {},
     "output_type": "display_data"
    },
    {
     "data": {
      "text/html": [
       "<h3>Cluster 6.2</h3>"
      ],
      "text/plain": [
       "<IPython.core.display.HTML object>"
      ]
     },
     "metadata": {},
     "output_type": "display_data"
    },
    {
     "data": {
      "text/plain": [
       "15"
      ]
     },
     "metadata": {},
     "output_type": "display_data"
    },
    {
     "data": {
      "text/plain": [
       "Index(['30010_raw-Red_blood_cell_erythrocyte_count',\n",
       "       '30020_raw-Haemoglobin_concentration',\n",
       "       '30030_raw-Haematocrit_percentage', '30040_raw-Mean_corpuscular_volume',\n",
       "       '30050_raw-Mean_corpuscular_haemoglobin',\n",
       "       '30070_raw-Red_blood_cell_erythrocyte_distribution_width',\n",
       "       '30240_raw-Reticulocyte_percentage', '30250_raw-Reticulocyte_count',\n",
       "       '30260_raw-Mean_reticulocyte_volume',\n",
       "       '30270_raw-Mean_sphered_cell_volume',\n",
       "       '30280_raw-Immature_reticulocyte_fraction',\n",
       "       '30290_raw-High_light_scatter_reticulocyte_percentage',\n",
       "       '30300_raw-High_light_scatter_reticulocyte_count', 'erythrocyte count',\n",
       "       'reticulocyte count'],\n",
       "      dtype='object')"
      ]
     },
     "metadata": {},
     "output_type": "display_data"
    },
    {
     "data": {
      "text/html": [
       "<h3>Cluster 6.3</h3>"
      ],
      "text/plain": [
       "<IPython.core.display.HTML object>"
      ]
     },
     "metadata": {},
     "output_type": "display_data"
    },
    {
     "data": {
      "text/plain": [
       "12"
      ]
     },
     "metadata": {},
     "output_type": "display_data"
    },
    {
     "data": {
      "text/plain": [
       "Index(['3144_raw-Heel_Broadband_ultrasound_attenuation_direct_entry',\n",
       "       '3147_raw-Heel_quantitative_ultrasound_index_QUI_direct_entry',\n",
       "       '3148_raw-Heel_bone_mineral_density_BMD',\n",
       "       '4101_raw-Heel_broadband_ultrasound_attenuation_left',\n",
       "       '4104_raw-Heel_quantitative_ultrasound_index_QUI_direct_entry_left',\n",
       "       '4105_raw-Heel_bone_mineral_density_BMD_left',\n",
       "       '4106_raw-Heel_bone_mineral_density_BMD_Tscore_automated_left',\n",
       "       '4120_raw-Heel_broadband_ultrasound_attenuation_right',\n",
       "       '4123_raw-Heel_quantitative_ultrasound_index_QUI_direct_entry_right',\n",
       "       '4124_raw-Heel_bone_mineral_density_BMD_right',\n",
       "       '4125_raw-Heel_bone_mineral_density_BMD_Tscore_automated_right',\n",
       "       '78_raw-Heel_bone_mineral_density_BMD_Tscore_automated'],\n",
       "      dtype='object')"
      ]
     },
     "metadata": {},
     "output_type": "display_data"
    },
    {
     "data": {
      "text/html": [
       "<h3>Cluster 6.4</h3>"
      ],
      "text/plain": [
       "<IPython.core.display.HTML object>"
      ]
     },
     "metadata": {},
     "output_type": "display_data"
    },
    {
     "data": {
      "text/plain": [
       "5"
      ]
     },
     "metadata": {},
     "output_type": "display_data"
    },
    {
     "data": {
      "text/plain": [
       "Index(['30080_raw-Platelet_count', '30090_raw-Platelet_crit',\n",
       "       '30100_raw-Mean_platelet_thrombocyte_volume',\n",
       "       '30110_raw-Platelet_distribution_width', 'platelet count'],\n",
       "      dtype='object')"
      ]
     },
     "metadata": {},
     "output_type": "display_data"
    },
    {
     "data": {
      "text/html": [
       "<h3>Cluster 6.5</h3>"
      ],
      "text/plain": [
       "<IPython.core.display.HTML object>"
      ]
     },
     "metadata": {},
     "output_type": "display_data"
    },
    {
     "data": {
      "text/plain": [
       "8"
      ]
     },
     "metadata": {},
     "output_type": "display_data"
    },
    {
     "data": {
      "text/plain": [
       "Index(['5096_raw-3mm_weak_meridian_left', '5097_raw-6mm_weak_meridian_left',\n",
       "       '5098_raw-6mm_weak_meridian_right', '5099_raw-3mm_weak_meridian_right',\n",
       "       '5132_raw-3mm_strong_meridian_right',\n",
       "       '5133_raw-6mm_strong_meridian_right',\n",
       "       '5134_raw-6mm_strong_meridian_left',\n",
       "       '5135_raw-3mm_strong_meridian_left'],\n",
       "      dtype='object')"
      ]
     },
     "metadata": {},
     "output_type": "display_data"
    },
    {
     "data": {
      "text/html": [
       "<h2>Partition with k=7</h2>"
      ],
      "text/plain": [
       "<IPython.core.display.HTML object>"
      ]
     },
     "metadata": {},
     "output_type": "display_data"
    },
    {
     "data": {
      "text/plain": [
       "method                                                 scc_020\n",
       "partition    [0, 0, 0, 0, 0, 0, 0, 0, 0, 0, 0, 0, 0, 0, 0, ...\n",
       "ami_mean                                               0.29945\n",
       "selected                                                  True\n",
       "Name: 7, dtype: object"
      ]
     },
     "metadata": {},
     "output_type": "display_data"
    },
    {
     "data": {
      "text/plain": [
       "(3749,)"
      ]
     },
     "metadata": {},
     "output_type": "display_data"
    },
    {
     "data": {
      "text/plain": [
       "0    3654\n",
       "1      24\n",
       "4      22\n",
       "5      18\n",
       "2      12\n",
       "6      11\n",
       "3       8\n",
       "dtype: int64"
      ]
     },
     "metadata": {},
     "output_type": "display_data"
    },
    {
     "data": {
      "text/html": [
       "<h3>Cluster 7.0</h3>"
      ],
      "text/plain": [
       "<IPython.core.display.HTML object>"
      ]
     },
     "metadata": {},
     "output_type": "display_data"
    },
    {
     "data": {
      "text/plain": [
       "3654"
      ]
     },
     "metadata": {},
     "output_type": "display_data"
    },
    {
     "data": {
      "text/plain": [
       "Index(['100001_raw-Food_weight', '100002_raw-Energy', '100003_raw-Protein',\n",
       "       '100004_raw-Fat', '100005_raw-Carbohydrate', '100006_raw-Saturated_fat',\n",
       "       '100007_raw-Polyunsaturated_fat', '100008_raw-Total_sugars',\n",
       "       '100009_raw-Englyst_dietary_fibre', '100010-Portion_size',\n",
       "       ...\n",
       "       'visual impairment', 'vitiligo', 'vitreous body disease',\n",
       "       'vocal cord polyp', 'voice disorders',\n",
       "       'wellbeing measurement AND family relationship', 'wheezing',\n",
       "       'whooping cough', 'worry measurement', 'wrist fracture'],\n",
       "      dtype='object', length=3654)"
      ]
     },
     "metadata": {},
     "output_type": "display_data"
    },
    {
     "data": {
      "text/html": [
       "<h3>Cluster 7.1</h3>"
      ],
      "text/plain": [
       "<IPython.core.display.HTML object>"
      ]
     },
     "metadata": {},
     "output_type": "display_data"
    },
    {
     "data": {
      "text/plain": [
       "24"
      ]
     },
     "metadata": {},
     "output_type": "display_data"
    },
    {
     "data": {
      "text/plain": [
       "Index(['30010_raw-Red_blood_cell_erythrocyte_count',\n",
       "       '30020_raw-Haemoglobin_concentration',\n",
       "       '30030_raw-Haematocrit_percentage', '30040_raw-Mean_corpuscular_volume',\n",
       "       '30050_raw-Mean_corpuscular_haemoglobin',\n",
       "       '30070_raw-Red_blood_cell_erythrocyte_distribution_width',\n",
       "       '30080_raw-Platelet_count', '30090_raw-Platelet_crit',\n",
       "       '30100_raw-Mean_platelet_thrombocyte_volume',\n",
       "       '30110_raw-Platelet_distribution_width', '30150-Eosinophill_count',\n",
       "       '30210_raw-Eosinophill_percentage', '30240_raw-Reticulocyte_percentage',\n",
       "       '30250_raw-Reticulocyte_count', '30260_raw-Mean_reticulocyte_volume',\n",
       "       '30270_raw-Mean_sphered_cell_volume',\n",
       "       '30280_raw-Immature_reticulocyte_fraction',\n",
       "       '30290_raw-High_light_scatter_reticulocyte_percentage',\n",
       "       '30300_raw-High_light_scatter_reticulocyte_count', 'eosinophil count',\n",
       "       'erythrocyte count', 'lymphocyte count', 'platelet count',\n",
       "       'reticulocyte count'],\n",
       "      dtype='object')"
      ]
     },
     "metadata": {},
     "output_type": "display_data"
    },
    {
     "data": {
      "text/html": [
       "<h3>Cluster 7.2</h3>"
      ],
      "text/plain": [
       "<IPython.core.display.HTML object>"
      ]
     },
     "metadata": {},
     "output_type": "display_data"
    },
    {
     "data": {
      "text/plain": [
       "12"
      ]
     },
     "metadata": {},
     "output_type": "display_data"
    },
    {
     "data": {
      "text/plain": [
       "Index(['3144_raw-Heel_Broadband_ultrasound_attenuation_direct_entry',\n",
       "       '3147_raw-Heel_quantitative_ultrasound_index_QUI_direct_entry',\n",
       "       '3148_raw-Heel_bone_mineral_density_BMD',\n",
       "       '4101_raw-Heel_broadband_ultrasound_attenuation_left',\n",
       "       '4104_raw-Heel_quantitative_ultrasound_index_QUI_direct_entry_left',\n",
       "       '4105_raw-Heel_bone_mineral_density_BMD_left',\n",
       "       '4106_raw-Heel_bone_mineral_density_BMD_Tscore_automated_left',\n",
       "       '4120_raw-Heel_broadband_ultrasound_attenuation_right',\n",
       "       '4123_raw-Heel_quantitative_ultrasound_index_QUI_direct_entry_right',\n",
       "       '4124_raw-Heel_bone_mineral_density_BMD_right',\n",
       "       '4125_raw-Heel_bone_mineral_density_BMD_Tscore_automated_right',\n",
       "       '78_raw-Heel_bone_mineral_density_BMD_Tscore_automated'],\n",
       "      dtype='object')"
      ]
     },
     "metadata": {},
     "output_type": "display_data"
    },
    {
     "data": {
      "text/html": [
       "<h3>Cluster 7.3</h3>"
      ],
      "text/plain": [
       "<IPython.core.display.HTML object>"
      ]
     },
     "metadata": {},
     "output_type": "display_data"
    },
    {
     "data": {
      "text/plain": [
       "8"
      ]
     },
     "metadata": {},
     "output_type": "display_data"
    },
    {
     "data": {
      "text/plain": [
       "Index(['5096_raw-3mm_weak_meridian_left', '5097_raw-6mm_weak_meridian_left',\n",
       "       '5098_raw-6mm_weak_meridian_right', '5099_raw-3mm_weak_meridian_right',\n",
       "       '5132_raw-3mm_strong_meridian_right',\n",
       "       '5133_raw-6mm_strong_meridian_right',\n",
       "       '5134_raw-6mm_strong_meridian_left',\n",
       "       '5135_raw-3mm_strong_meridian_left'],\n",
       "      dtype='object')"
      ]
     },
     "metadata": {},
     "output_type": "display_data"
    },
    {
     "data": {
      "text/html": [
       "<h3>Cluster 7.4</h3>"
      ],
      "text/plain": [
       "<IPython.core.display.HTML object>"
      ]
     },
     "metadata": {},
     "output_type": "display_data"
    },
    {
     "data": {
      "text/plain": [
       "22"
      ]
     },
     "metadata": {},
     "output_type": "display_data"
    },
    {
     "data": {
      "text/plain": [
       "Index(['20015_raw-Sitting_height',\n",
       "       '20153_raw-Forced_expiratory_volume_in_1second_FEV1_predicted',\n",
       "       '23101_raw-Whole_body_fatfree_mass', '23102_raw-Whole_body_water_mass',\n",
       "       '23105_raw-Basal_metabolic_rate', '23106_raw-Impedance_of_whole_body',\n",
       "       '23107_raw-Impedance_of_leg_right', '23108_raw-Impedance_of_leg_left',\n",
       "       '23109_raw-Impedance_of_arm_right', '23110_raw-Impedance_of_arm_left',\n",
       "       '23113_raw-Leg_fatfree_mass_right',\n",
       "       '23114_raw-Leg_predicted_mass_right', '23117_raw-Leg_fatfree_mass_left',\n",
       "       '23118_raw-Leg_predicted_mass_left', '23121_raw-Arm_fatfree_mass_right',\n",
       "       '23122_raw-Arm_predicted_mass_right', '23125_raw-Arm_fatfree_mass_left',\n",
       "       '23126_raw-Arm_predicted_mass_left', '23129_raw-Trunk_fatfree_mass',\n",
       "       '23130_raw-Trunk_predicted_mass', '50_raw-Standing_height',\n",
       "       'body height'],\n",
       "      dtype='object')"
      ]
     },
     "metadata": {},
     "output_type": "display_data"
    },
    {
     "data": {
      "text/html": [
       "<h3>Cluster 7.5</h3>"
      ],
      "text/plain": [
       "<IPython.core.display.HTML object>"
      ]
     },
     "metadata": {},
     "output_type": "display_data"
    },
    {
     "data": {
      "text/plain": [
       "18"
      ]
     },
     "metadata": {},
     "output_type": "display_data"
    },
    {
     "data": {
      "text/plain": [
       "Index(['21001_raw-Body_mass_index_BMI', '21002_raw-Weight', '23098_raw-Weight',\n",
       "       '23099_raw-Body_fat_percentage', '23100_raw-Whole_body_fat_mass',\n",
       "       '23104_raw-Body_mass_index_BMI', '23111_raw-Leg_fat_percentage_right',\n",
       "       '23112_raw-Leg_fat_mass_right', '23115_raw-Leg_fat_percentage_left',\n",
       "       '23116_raw-Leg_fat_mass_left', '23119_raw-Arm_fat_percentage_right',\n",
       "       '23120_raw-Arm_fat_mass_right', '23123_raw-Arm_fat_percentage_left',\n",
       "       '23124_raw-Arm_fat_mass_left', '23127_raw-Trunk_fat_percentage',\n",
       "       '23128_raw-Trunk_fat_mass', '48_raw-Waist_circumference',\n",
       "       '49_raw-Hip_circumference'],\n",
       "      dtype='object')"
      ]
     },
     "metadata": {},
     "output_type": "display_data"
    },
    {
     "data": {
      "text/html": [
       "<h3>Cluster 7.6</h3>"
      ],
      "text/plain": [
       "<IPython.core.display.HTML object>"
      ]
     },
     "metadata": {},
     "output_type": "display_data"
    },
    {
     "data": {
      "text/plain": [
       "11"
      ]
     },
     "metadata": {},
     "output_type": "display_data"
    },
    {
     "data": {
      "text/plain": [
       "Index(['30000_raw-White_blood_cell_leukocyte_count',\n",
       "       '30130_raw-Monocyte_count', '30140_raw-Neutrophill_count',\n",
       "       '30180_raw-Lymphocyte_percentage', '30190_raw-Monocyte_percentage',\n",
       "       '30200_raw-Neutrophill_percentage', 'granulocyte count',\n",
       "       'leukocyte count', 'monocyte count', 'myeloid white cell count',\n",
       "       'neutrophil count'],\n",
       "      dtype='object')"
      ]
     },
     "metadata": {},
     "output_type": "display_data"
    },
    {
     "data": {
      "text/html": [
       "<h2>Partition with k=8</h2>"
      ],
      "text/plain": [
       "<IPython.core.display.HTML object>"
      ]
     },
     "metadata": {},
     "output_type": "display_data"
    },
    {
     "data": {
      "text/plain": [
       "method                                                 scc_020\n",
       "partition    [0, 0, 0, 0, 0, 0, 0, 0, 0, 0, 0, 0, 0, 0, 0, ...\n",
       "ami_mean                                              0.300171\n",
       "selected                                                  True\n",
       "Name: 8, dtype: object"
      ]
     },
     "metadata": {},
     "output_type": "display_data"
    },
    {
     "data": {
      "text/plain": [
       "(3749,)"
      ]
     },
     "metadata": {},
     "output_type": "display_data"
    },
    {
     "data": {
      "text/plain": [
       "0    3654\n",
       "2      24\n",
       "6      18\n",
       "4      17\n",
       "5      12\n",
       "7      11\n",
       "3       8\n",
       "1       5\n",
       "dtype: int64"
      ]
     },
     "metadata": {},
     "output_type": "display_data"
    },
    {
     "data": {
      "text/html": [
       "<h3>Cluster 8.0</h3>"
      ],
      "text/plain": [
       "<IPython.core.display.HTML object>"
      ]
     },
     "metadata": {},
     "output_type": "display_data"
    },
    {
     "data": {
      "text/plain": [
       "3654"
      ]
     },
     "metadata": {},
     "output_type": "display_data"
    },
    {
     "data": {
      "text/plain": [
       "Index(['100001_raw-Food_weight', '100002_raw-Energy', '100003_raw-Protein',\n",
       "       '100004_raw-Fat', '100005_raw-Carbohydrate', '100006_raw-Saturated_fat',\n",
       "       '100007_raw-Polyunsaturated_fat', '100008_raw-Total_sugars',\n",
       "       '100009_raw-Englyst_dietary_fibre', '100010-Portion_size',\n",
       "       ...\n",
       "       'visual impairment', 'vitiligo', 'vitreous body disease',\n",
       "       'vocal cord polyp', 'voice disorders',\n",
       "       'wellbeing measurement AND family relationship', 'wheezing',\n",
       "       'whooping cough', 'worry measurement', 'wrist fracture'],\n",
       "      dtype='object', length=3654)"
      ]
     },
     "metadata": {},
     "output_type": "display_data"
    },
    {
     "data": {
      "text/html": [
       "<h3>Cluster 8.1</h3>"
      ],
      "text/plain": [
       "<IPython.core.display.HTML object>"
      ]
     },
     "metadata": {},
     "output_type": "display_data"
    },
    {
     "data": {
      "text/plain": [
       "5"
      ]
     },
     "metadata": {},
     "output_type": "display_data"
    },
    {
     "data": {
      "text/plain": [
       "Index(['23106_raw-Impedance_of_whole_body', '23107_raw-Impedance_of_leg_right',\n",
       "       '23108_raw-Impedance_of_leg_left', '23109_raw-Impedance_of_arm_right',\n",
       "       '23110_raw-Impedance_of_arm_left'],\n",
       "      dtype='object')"
      ]
     },
     "metadata": {},
     "output_type": "display_data"
    },
    {
     "data": {
      "text/html": [
       "<h3>Cluster 8.2</h3>"
      ],
      "text/plain": [
       "<IPython.core.display.HTML object>"
      ]
     },
     "metadata": {},
     "output_type": "display_data"
    },
    {
     "data": {
      "text/plain": [
       "24"
      ]
     },
     "metadata": {},
     "output_type": "display_data"
    },
    {
     "data": {
      "text/plain": [
       "Index(['30010_raw-Red_blood_cell_erythrocyte_count',\n",
       "       '30020_raw-Haemoglobin_concentration',\n",
       "       '30030_raw-Haematocrit_percentage', '30040_raw-Mean_corpuscular_volume',\n",
       "       '30050_raw-Mean_corpuscular_haemoglobin',\n",
       "       '30070_raw-Red_blood_cell_erythrocyte_distribution_width',\n",
       "       '30080_raw-Platelet_count', '30090_raw-Platelet_crit',\n",
       "       '30100_raw-Mean_platelet_thrombocyte_volume',\n",
       "       '30110_raw-Platelet_distribution_width', '30150-Eosinophill_count',\n",
       "       '30210_raw-Eosinophill_percentage', '30240_raw-Reticulocyte_percentage',\n",
       "       '30250_raw-Reticulocyte_count', '30260_raw-Mean_reticulocyte_volume',\n",
       "       '30270_raw-Mean_sphered_cell_volume',\n",
       "       '30280_raw-Immature_reticulocyte_fraction',\n",
       "       '30290_raw-High_light_scatter_reticulocyte_percentage',\n",
       "       '30300_raw-High_light_scatter_reticulocyte_count', 'eosinophil count',\n",
       "       'erythrocyte count', 'lymphocyte count', 'platelet count',\n",
       "       'reticulocyte count'],\n",
       "      dtype='object')"
      ]
     },
     "metadata": {},
     "output_type": "display_data"
    },
    {
     "data": {
      "text/html": [
       "<h3>Cluster 8.3</h3>"
      ],
      "text/plain": [
       "<IPython.core.display.HTML object>"
      ]
     },
     "metadata": {},
     "output_type": "display_data"
    },
    {
     "data": {
      "text/plain": [
       "8"
      ]
     },
     "metadata": {},
     "output_type": "display_data"
    },
    {
     "data": {
      "text/plain": [
       "Index(['5096_raw-3mm_weak_meridian_left', '5097_raw-6mm_weak_meridian_left',\n",
       "       '5098_raw-6mm_weak_meridian_right', '5099_raw-3mm_weak_meridian_right',\n",
       "       '5132_raw-3mm_strong_meridian_right',\n",
       "       '5133_raw-6mm_strong_meridian_right',\n",
       "       '5134_raw-6mm_strong_meridian_left',\n",
       "       '5135_raw-3mm_strong_meridian_left'],\n",
       "      dtype='object')"
      ]
     },
     "metadata": {},
     "output_type": "display_data"
    },
    {
     "data": {
      "text/html": [
       "<h3>Cluster 8.4</h3>"
      ],
      "text/plain": [
       "<IPython.core.display.HTML object>"
      ]
     },
     "metadata": {},
     "output_type": "display_data"
    },
    {
     "data": {
      "text/plain": [
       "17"
      ]
     },
     "metadata": {},
     "output_type": "display_data"
    },
    {
     "data": {
      "text/plain": [
       "Index(['20015_raw-Sitting_height',\n",
       "       '20153_raw-Forced_expiratory_volume_in_1second_FEV1_predicted',\n",
       "       '23101_raw-Whole_body_fatfree_mass', '23102_raw-Whole_body_water_mass',\n",
       "       '23105_raw-Basal_metabolic_rate', '23113_raw-Leg_fatfree_mass_right',\n",
       "       '23114_raw-Leg_predicted_mass_right', '23117_raw-Leg_fatfree_mass_left',\n",
       "       '23118_raw-Leg_predicted_mass_left', '23121_raw-Arm_fatfree_mass_right',\n",
       "       '23122_raw-Arm_predicted_mass_right', '23125_raw-Arm_fatfree_mass_left',\n",
       "       '23126_raw-Arm_predicted_mass_left', '23129_raw-Trunk_fatfree_mass',\n",
       "       '23130_raw-Trunk_predicted_mass', '50_raw-Standing_height',\n",
       "       'body height'],\n",
       "      dtype='object')"
      ]
     },
     "metadata": {},
     "output_type": "display_data"
    },
    {
     "data": {
      "text/html": [
       "<h3>Cluster 8.5</h3>"
      ],
      "text/plain": [
       "<IPython.core.display.HTML object>"
      ]
     },
     "metadata": {},
     "output_type": "display_data"
    },
    {
     "data": {
      "text/plain": [
       "12"
      ]
     },
     "metadata": {},
     "output_type": "display_data"
    },
    {
     "data": {
      "text/plain": [
       "Index(['3144_raw-Heel_Broadband_ultrasound_attenuation_direct_entry',\n",
       "       '3147_raw-Heel_quantitative_ultrasound_index_QUI_direct_entry',\n",
       "       '3148_raw-Heel_bone_mineral_density_BMD',\n",
       "       '4101_raw-Heel_broadband_ultrasound_attenuation_left',\n",
       "       '4104_raw-Heel_quantitative_ultrasound_index_QUI_direct_entry_left',\n",
       "       '4105_raw-Heel_bone_mineral_density_BMD_left',\n",
       "       '4106_raw-Heel_bone_mineral_density_BMD_Tscore_automated_left',\n",
       "       '4120_raw-Heel_broadband_ultrasound_attenuation_right',\n",
       "       '4123_raw-Heel_quantitative_ultrasound_index_QUI_direct_entry_right',\n",
       "       '4124_raw-Heel_bone_mineral_density_BMD_right',\n",
       "       '4125_raw-Heel_bone_mineral_density_BMD_Tscore_automated_right',\n",
       "       '78_raw-Heel_bone_mineral_density_BMD_Tscore_automated'],\n",
       "      dtype='object')"
      ]
     },
     "metadata": {},
     "output_type": "display_data"
    },
    {
     "data": {
      "text/html": [
       "<h3>Cluster 8.6</h3>"
      ],
      "text/plain": [
       "<IPython.core.display.HTML object>"
      ]
     },
     "metadata": {},
     "output_type": "display_data"
    },
    {
     "data": {
      "text/plain": [
       "18"
      ]
     },
     "metadata": {},
     "output_type": "display_data"
    },
    {
     "data": {
      "text/plain": [
       "Index(['21001_raw-Body_mass_index_BMI', '21002_raw-Weight', '23098_raw-Weight',\n",
       "       '23099_raw-Body_fat_percentage', '23100_raw-Whole_body_fat_mass',\n",
       "       '23104_raw-Body_mass_index_BMI', '23111_raw-Leg_fat_percentage_right',\n",
       "       '23112_raw-Leg_fat_mass_right', '23115_raw-Leg_fat_percentage_left',\n",
       "       '23116_raw-Leg_fat_mass_left', '23119_raw-Arm_fat_percentage_right',\n",
       "       '23120_raw-Arm_fat_mass_right', '23123_raw-Arm_fat_percentage_left',\n",
       "       '23124_raw-Arm_fat_mass_left', '23127_raw-Trunk_fat_percentage',\n",
       "       '23128_raw-Trunk_fat_mass', '48_raw-Waist_circumference',\n",
       "       '49_raw-Hip_circumference'],\n",
       "      dtype='object')"
      ]
     },
     "metadata": {},
     "output_type": "display_data"
    },
    {
     "data": {
      "text/html": [
       "<h3>Cluster 8.7</h3>"
      ],
      "text/plain": [
       "<IPython.core.display.HTML object>"
      ]
     },
     "metadata": {},
     "output_type": "display_data"
    },
    {
     "data": {
      "text/plain": [
       "11"
      ]
     },
     "metadata": {},
     "output_type": "display_data"
    },
    {
     "data": {
      "text/plain": [
       "Index(['30000_raw-White_blood_cell_leukocyte_count',\n",
       "       '30130_raw-Monocyte_count', '30140_raw-Neutrophill_count',\n",
       "       '30180_raw-Lymphocyte_percentage', '30190_raw-Monocyte_percentage',\n",
       "       '30200_raw-Neutrophill_percentage', 'granulocyte count',\n",
       "       'leukocyte count', 'monocyte count', 'myeloid white cell count',\n",
       "       'neutrophil count'],\n",
       "      dtype='object')"
      ]
     },
     "metadata": {},
     "output_type": "display_data"
    },
    {
     "data": {
      "text/html": [
       "<h2>Partition with k=9</h2>"
      ],
      "text/plain": [
       "<IPython.core.display.HTML object>"
      ]
     },
     "metadata": {},
     "output_type": "display_data"
    },
    {
     "data": {
      "text/plain": [
       "method                                                 scc_020\n",
       "partition    [0, 0, 0, 0, 0, 0, 0, 0, 0, 0, 0, 0, 0, 0, 0, ...\n",
       "ami_mean                                              0.301301\n",
       "selected                                                  True\n",
       "Name: 9, dtype: object"
      ]
     },
     "metadata": {},
     "output_type": "display_data"
    },
    {
     "data": {
      "text/plain": [
       "(3749,)"
      ]
     },
     "metadata": {},
     "output_type": "display_data"
    },
    {
     "data": {
      "text/plain": [
       "0    3655\n",
       "5      18\n",
       "8      17\n",
       "2      16\n",
       "4      14\n",
       "6      12\n",
       "3       8\n",
       "1       5\n",
       "7       4\n",
       "dtype: int64"
      ]
     },
     "metadata": {},
     "output_type": "display_data"
    },
    {
     "data": {
      "text/html": [
       "<h3>Cluster 9.0</h3>"
      ],
      "text/plain": [
       "<IPython.core.display.HTML object>"
      ]
     },
     "metadata": {},
     "output_type": "display_data"
    },
    {
     "data": {
      "text/plain": [
       "3655"
      ]
     },
     "metadata": {},
     "output_type": "display_data"
    },
    {
     "data": {
      "text/plain": [
       "Index(['100001_raw-Food_weight', '100002_raw-Energy', '100003_raw-Protein',\n",
       "       '100004_raw-Fat', '100005_raw-Carbohydrate', '100006_raw-Saturated_fat',\n",
       "       '100007_raw-Polyunsaturated_fat', '100008_raw-Total_sugars',\n",
       "       '100009_raw-Englyst_dietary_fibre', '100010-Portion_size',\n",
       "       ...\n",
       "       'visual impairment', 'vitiligo', 'vitreous body disease',\n",
       "       'vocal cord polyp', 'voice disorders',\n",
       "       'wellbeing measurement AND family relationship', 'wheezing',\n",
       "       'whooping cough', 'worry measurement', 'wrist fracture'],\n",
       "      dtype='object', length=3655)"
      ]
     },
     "metadata": {},
     "output_type": "display_data"
    },
    {
     "data": {
      "text/html": [
       "<h3>Cluster 9.1</h3>"
      ],
      "text/plain": [
       "<IPython.core.display.HTML object>"
      ]
     },
     "metadata": {},
     "output_type": "display_data"
    },
    {
     "data": {
      "text/plain": [
       "5"
      ]
     },
     "metadata": {},
     "output_type": "display_data"
    },
    {
     "data": {
      "text/plain": [
       "Index(['23106_raw-Impedance_of_whole_body', '23107_raw-Impedance_of_leg_right',\n",
       "       '23108_raw-Impedance_of_leg_left', '23109_raw-Impedance_of_arm_right',\n",
       "       '23110_raw-Impedance_of_arm_left'],\n",
       "      dtype='object')"
      ]
     },
     "metadata": {},
     "output_type": "display_data"
    },
    {
     "data": {
      "text/html": [
       "<h3>Cluster 9.2</h3>"
      ],
      "text/plain": [
       "<IPython.core.display.HTML object>"
      ]
     },
     "metadata": {},
     "output_type": "display_data"
    },
    {
     "data": {
      "text/plain": [
       "16"
      ]
     },
     "metadata": {},
     "output_type": "display_data"
    },
    {
     "data": {
      "text/plain": [
       "Index(['30010_raw-Red_blood_cell_erythrocyte_count',\n",
       "       '30020_raw-Haemoglobin_concentration',\n",
       "       '30030_raw-Haematocrit_percentage',\n",
       "       '30070_raw-Red_blood_cell_erythrocyte_distribution_width',\n",
       "       '30080_raw-Platelet_count', '30090_raw-Platelet_crit',\n",
       "       '30100_raw-Mean_platelet_thrombocyte_volume',\n",
       "       '30110_raw-Platelet_distribution_width',\n",
       "       '30240_raw-Reticulocyte_percentage', '30250_raw-Reticulocyte_count',\n",
       "       '30280_raw-Immature_reticulocyte_fraction',\n",
       "       '30290_raw-High_light_scatter_reticulocyte_percentage',\n",
       "       '30300_raw-High_light_scatter_reticulocyte_count', 'erythrocyte count',\n",
       "       'platelet count', 'reticulocyte count'],\n",
       "      dtype='object')"
      ]
     },
     "metadata": {},
     "output_type": "display_data"
    },
    {
     "data": {
      "text/html": [
       "<h3>Cluster 9.3</h3>"
      ],
      "text/plain": [
       "<IPython.core.display.HTML object>"
      ]
     },
     "metadata": {},
     "output_type": "display_data"
    },
    {
     "data": {
      "text/plain": [
       "8"
      ]
     },
     "metadata": {},
     "output_type": "display_data"
    },
    {
     "data": {
      "text/plain": [
       "Index(['5096_raw-3mm_weak_meridian_left', '5097_raw-6mm_weak_meridian_left',\n",
       "       '5098_raw-6mm_weak_meridian_right', '5099_raw-3mm_weak_meridian_right',\n",
       "       '5132_raw-3mm_strong_meridian_right',\n",
       "       '5133_raw-6mm_strong_meridian_right',\n",
       "       '5134_raw-6mm_strong_meridian_left',\n",
       "       '5135_raw-3mm_strong_meridian_left'],\n",
       "      dtype='object')"
      ]
     },
     "metadata": {},
     "output_type": "display_data"
    },
    {
     "data": {
      "text/html": [
       "<h3>Cluster 9.4</h3>"
      ],
      "text/plain": [
       "<IPython.core.display.HTML object>"
      ]
     },
     "metadata": {},
     "output_type": "display_data"
    },
    {
     "data": {
      "text/plain": [
       "14"
      ]
     },
     "metadata": {},
     "output_type": "display_data"
    },
    {
     "data": {
      "text/plain": [
       "Index(['30000_raw-White_blood_cell_leukocyte_count',\n",
       "       '30130_raw-Monocyte_count', '30140_raw-Neutrophill_count',\n",
       "       '30150-Eosinophill_count', '30180_raw-Lymphocyte_percentage',\n",
       "       '30190_raw-Monocyte_percentage', '30200_raw-Neutrophill_percentage',\n",
       "       '30210_raw-Eosinophill_percentage', 'eosinophil count',\n",
       "       'granulocyte count', 'leukocyte count', 'monocyte count',\n",
       "       'myeloid white cell count', 'neutrophil count'],\n",
       "      dtype='object')"
      ]
     },
     "metadata": {},
     "output_type": "display_data"
    },
    {
     "data": {
      "text/html": [
       "<h3>Cluster 9.5</h3>"
      ],
      "text/plain": [
       "<IPython.core.display.HTML object>"
      ]
     },
     "metadata": {},
     "output_type": "display_data"
    },
    {
     "data": {
      "text/plain": [
       "18"
      ]
     },
     "metadata": {},
     "output_type": "display_data"
    },
    {
     "data": {
      "text/plain": [
       "Index(['21001_raw-Body_mass_index_BMI', '21002_raw-Weight', '23098_raw-Weight',\n",
       "       '23099_raw-Body_fat_percentage', '23100_raw-Whole_body_fat_mass',\n",
       "       '23104_raw-Body_mass_index_BMI', '23111_raw-Leg_fat_percentage_right',\n",
       "       '23112_raw-Leg_fat_mass_right', '23115_raw-Leg_fat_percentage_left',\n",
       "       '23116_raw-Leg_fat_mass_left', '23119_raw-Arm_fat_percentage_right',\n",
       "       '23120_raw-Arm_fat_mass_right', '23123_raw-Arm_fat_percentage_left',\n",
       "       '23124_raw-Arm_fat_mass_left', '23127_raw-Trunk_fat_percentage',\n",
       "       '23128_raw-Trunk_fat_mass', '48_raw-Waist_circumference',\n",
       "       '49_raw-Hip_circumference'],\n",
       "      dtype='object')"
      ]
     },
     "metadata": {},
     "output_type": "display_data"
    },
    {
     "data": {
      "text/html": [
       "<h3>Cluster 9.6</h3>"
      ],
      "text/plain": [
       "<IPython.core.display.HTML object>"
      ]
     },
     "metadata": {},
     "output_type": "display_data"
    },
    {
     "data": {
      "text/plain": [
       "12"
      ]
     },
     "metadata": {},
     "output_type": "display_data"
    },
    {
     "data": {
      "text/plain": [
       "Index(['3144_raw-Heel_Broadband_ultrasound_attenuation_direct_entry',\n",
       "       '3147_raw-Heel_quantitative_ultrasound_index_QUI_direct_entry',\n",
       "       '3148_raw-Heel_bone_mineral_density_BMD',\n",
       "       '4101_raw-Heel_broadband_ultrasound_attenuation_left',\n",
       "       '4104_raw-Heel_quantitative_ultrasound_index_QUI_direct_entry_left',\n",
       "       '4105_raw-Heel_bone_mineral_density_BMD_left',\n",
       "       '4106_raw-Heel_bone_mineral_density_BMD_Tscore_automated_left',\n",
       "       '4120_raw-Heel_broadband_ultrasound_attenuation_right',\n",
       "       '4123_raw-Heel_quantitative_ultrasound_index_QUI_direct_entry_right',\n",
       "       '4124_raw-Heel_bone_mineral_density_BMD_right',\n",
       "       '4125_raw-Heel_bone_mineral_density_BMD_Tscore_automated_right',\n",
       "       '78_raw-Heel_bone_mineral_density_BMD_Tscore_automated'],\n",
       "      dtype='object')"
      ]
     },
     "metadata": {},
     "output_type": "display_data"
    },
    {
     "data": {
      "text/html": [
       "<h3>Cluster 9.7</h3>"
      ],
      "text/plain": [
       "<IPython.core.display.HTML object>"
      ]
     },
     "metadata": {},
     "output_type": "display_data"
    },
    {
     "data": {
      "text/plain": [
       "4"
      ]
     },
     "metadata": {},
     "output_type": "display_data"
    },
    {
     "data": {
      "text/plain": [
       "Index(['30040_raw-Mean_corpuscular_volume',\n",
       "       '30050_raw-Mean_corpuscular_haemoglobin',\n",
       "       '30260_raw-Mean_reticulocyte_volume',\n",
       "       '30270_raw-Mean_sphered_cell_volume'],\n",
       "      dtype='object')"
      ]
     },
     "metadata": {},
     "output_type": "display_data"
    },
    {
     "data": {
      "text/html": [
       "<h3>Cluster 9.8</h3>"
      ],
      "text/plain": [
       "<IPython.core.display.HTML object>"
      ]
     },
     "metadata": {},
     "output_type": "display_data"
    },
    {
     "data": {
      "text/plain": [
       "17"
      ]
     },
     "metadata": {},
     "output_type": "display_data"
    },
    {
     "data": {
      "text/plain": [
       "Index(['20015_raw-Sitting_height',\n",
       "       '20153_raw-Forced_expiratory_volume_in_1second_FEV1_predicted',\n",
       "       '23101_raw-Whole_body_fatfree_mass', '23102_raw-Whole_body_water_mass',\n",
       "       '23105_raw-Basal_metabolic_rate', '23113_raw-Leg_fatfree_mass_right',\n",
       "       '23114_raw-Leg_predicted_mass_right', '23117_raw-Leg_fatfree_mass_left',\n",
       "       '23118_raw-Leg_predicted_mass_left', '23121_raw-Arm_fatfree_mass_right',\n",
       "       '23122_raw-Arm_predicted_mass_right', '23125_raw-Arm_fatfree_mass_left',\n",
       "       '23126_raw-Arm_predicted_mass_left', '23129_raw-Trunk_fatfree_mass',\n",
       "       '23130_raw-Trunk_predicted_mass', '50_raw-Standing_height',\n",
       "       'body height'],\n",
       "      dtype='object')"
      ]
     },
     "metadata": {},
     "output_type": "display_data"
    },
    {
     "data": {
      "text/html": [
       "<h2>Partition with k=10</h2>"
      ],
      "text/plain": [
       "<IPython.core.display.HTML object>"
      ]
     },
     "metadata": {},
     "output_type": "display_data"
    },
    {
     "data": {
      "text/plain": [
       "method                                                 scc_020\n",
       "partition    [0, 0, 0, 0, 0, 0, 0, 0, 0, 0, 0, 0, 0, 0, 0, ...\n",
       "ami_mean                                              0.301738\n",
       "selected                                                  True\n",
       "Name: 10, dtype: object"
      ]
     },
     "metadata": {},
     "output_type": "display_data"
    },
    {
     "data": {
      "text/plain": [
       "(3749,)"
      ]
     },
     "metadata": {},
     "output_type": "display_data"
    },
    {
     "data": {
      "text/plain": [
       "0    3655\n",
       "9      18\n",
       "7      17\n",
       "4      14\n",
       "5      12\n",
       "8      10\n",
       "6       8\n",
       "2       6\n",
       "3       5\n",
       "1       4\n",
       "dtype: int64"
      ]
     },
     "metadata": {},
     "output_type": "display_data"
    },
    {
     "data": {
      "text/html": [
       "<h3>Cluster 10.0</h3>"
      ],
      "text/plain": [
       "<IPython.core.display.HTML object>"
      ]
     },
     "metadata": {},
     "output_type": "display_data"
    },
    {
     "data": {
      "text/plain": [
       "3655"
      ]
     },
     "metadata": {},
     "output_type": "display_data"
    },
    {
     "data": {
      "text/plain": [
       "Index(['100001_raw-Food_weight', '100002_raw-Energy', '100003_raw-Protein',\n",
       "       '100004_raw-Fat', '100005_raw-Carbohydrate', '100006_raw-Saturated_fat',\n",
       "       '100007_raw-Polyunsaturated_fat', '100008_raw-Total_sugars',\n",
       "       '100009_raw-Englyst_dietary_fibre', '100010-Portion_size',\n",
       "       ...\n",
       "       'visual impairment', 'vitiligo', 'vitreous body disease',\n",
       "       'vocal cord polyp', 'voice disorders',\n",
       "       'wellbeing measurement AND family relationship', 'wheezing',\n",
       "       'whooping cough', 'worry measurement', 'wrist fracture'],\n",
       "      dtype='object', length=3655)"
      ]
     },
     "metadata": {},
     "output_type": "display_data"
    },
    {
     "data": {
      "text/html": [
       "<h3>Cluster 10.1</h3>"
      ],
      "text/plain": [
       "<IPython.core.display.HTML object>"
      ]
     },
     "metadata": {},
     "output_type": "display_data"
    },
    {
     "data": {
      "text/plain": [
       "4"
      ]
     },
     "metadata": {},
     "output_type": "display_data"
    },
    {
     "data": {
      "text/plain": [
       "Index(['30040_raw-Mean_corpuscular_volume',\n",
       "       '30050_raw-Mean_corpuscular_haemoglobin',\n",
       "       '30260_raw-Mean_reticulocyte_volume',\n",
       "       '30270_raw-Mean_sphered_cell_volume'],\n",
       "      dtype='object')"
      ]
     },
     "metadata": {},
     "output_type": "display_data"
    },
    {
     "data": {
      "text/html": [
       "<h3>Cluster 10.2</h3>"
      ],
      "text/plain": [
       "<IPython.core.display.HTML object>"
      ]
     },
     "metadata": {},
     "output_type": "display_data"
    },
    {
     "data": {
      "text/plain": [
       "6"
      ]
     },
     "metadata": {},
     "output_type": "display_data"
    },
    {
     "data": {
      "text/plain": [
       "Index(['30240_raw-Reticulocyte_percentage', '30250_raw-Reticulocyte_count',\n",
       "       '30280_raw-Immature_reticulocyte_fraction',\n",
       "       '30290_raw-High_light_scatter_reticulocyte_percentage',\n",
       "       '30300_raw-High_light_scatter_reticulocyte_count',\n",
       "       'reticulocyte count'],\n",
       "      dtype='object')"
      ]
     },
     "metadata": {},
     "output_type": "display_data"
    },
    {
     "data": {
      "text/html": [
       "<h3>Cluster 10.3</h3>"
      ],
      "text/plain": [
       "<IPython.core.display.HTML object>"
      ]
     },
     "metadata": {},
     "output_type": "display_data"
    },
    {
     "data": {
      "text/plain": [
       "5"
      ]
     },
     "metadata": {},
     "output_type": "display_data"
    },
    {
     "data": {
      "text/plain": [
       "Index(['23106_raw-Impedance_of_whole_body', '23107_raw-Impedance_of_leg_right',\n",
       "       '23108_raw-Impedance_of_leg_left', '23109_raw-Impedance_of_arm_right',\n",
       "       '23110_raw-Impedance_of_arm_left'],\n",
       "      dtype='object')"
      ]
     },
     "metadata": {},
     "output_type": "display_data"
    },
    {
     "data": {
      "text/html": [
       "<h3>Cluster 10.4</h3>"
      ],
      "text/plain": [
       "<IPython.core.display.HTML object>"
      ]
     },
     "metadata": {},
     "output_type": "display_data"
    },
    {
     "data": {
      "text/plain": [
       "14"
      ]
     },
     "metadata": {},
     "output_type": "display_data"
    },
    {
     "data": {
      "text/plain": [
       "Index(['30000_raw-White_blood_cell_leukocyte_count',\n",
       "       '30130_raw-Monocyte_count', '30140_raw-Neutrophill_count',\n",
       "       '30150-Eosinophill_count', '30180_raw-Lymphocyte_percentage',\n",
       "       '30190_raw-Monocyte_percentage', '30200_raw-Neutrophill_percentage',\n",
       "       '30210_raw-Eosinophill_percentage', 'eosinophil count',\n",
       "       'granulocyte count', 'leukocyte count', 'monocyte count',\n",
       "       'myeloid white cell count', 'neutrophil count'],\n",
       "      dtype='object')"
      ]
     },
     "metadata": {},
     "output_type": "display_data"
    },
    {
     "data": {
      "text/html": [
       "<h3>Cluster 10.5</h3>"
      ],
      "text/plain": [
       "<IPython.core.display.HTML object>"
      ]
     },
     "metadata": {},
     "output_type": "display_data"
    },
    {
     "data": {
      "text/plain": [
       "12"
      ]
     },
     "metadata": {},
     "output_type": "display_data"
    },
    {
     "data": {
      "text/plain": [
       "Index(['3144_raw-Heel_Broadband_ultrasound_attenuation_direct_entry',\n",
       "       '3147_raw-Heel_quantitative_ultrasound_index_QUI_direct_entry',\n",
       "       '3148_raw-Heel_bone_mineral_density_BMD',\n",
       "       '4101_raw-Heel_broadband_ultrasound_attenuation_left',\n",
       "       '4104_raw-Heel_quantitative_ultrasound_index_QUI_direct_entry_left',\n",
       "       '4105_raw-Heel_bone_mineral_density_BMD_left',\n",
       "       '4106_raw-Heel_bone_mineral_density_BMD_Tscore_automated_left',\n",
       "       '4120_raw-Heel_broadband_ultrasound_attenuation_right',\n",
       "       '4123_raw-Heel_quantitative_ultrasound_index_QUI_direct_entry_right',\n",
       "       '4124_raw-Heel_bone_mineral_density_BMD_right',\n",
       "       '4125_raw-Heel_bone_mineral_density_BMD_Tscore_automated_right',\n",
       "       '78_raw-Heel_bone_mineral_density_BMD_Tscore_automated'],\n",
       "      dtype='object')"
      ]
     },
     "metadata": {},
     "output_type": "display_data"
    },
    {
     "data": {
      "text/html": [
       "<h3>Cluster 10.6</h3>"
      ],
      "text/plain": [
       "<IPython.core.display.HTML object>"
      ]
     },
     "metadata": {},
     "output_type": "display_data"
    },
    {
     "data": {
      "text/plain": [
       "8"
      ]
     },
     "metadata": {},
     "output_type": "display_data"
    },
    {
     "data": {
      "text/plain": [
       "Index(['5096_raw-3mm_weak_meridian_left', '5097_raw-6mm_weak_meridian_left',\n",
       "       '5098_raw-6mm_weak_meridian_right', '5099_raw-3mm_weak_meridian_right',\n",
       "       '5132_raw-3mm_strong_meridian_right',\n",
       "       '5133_raw-6mm_strong_meridian_right',\n",
       "       '5134_raw-6mm_strong_meridian_left',\n",
       "       '5135_raw-3mm_strong_meridian_left'],\n",
       "      dtype='object')"
      ]
     },
     "metadata": {},
     "output_type": "display_data"
    },
    {
     "data": {
      "text/html": [
       "<h3>Cluster 10.7</h3>"
      ],
      "text/plain": [
       "<IPython.core.display.HTML object>"
      ]
     },
     "metadata": {},
     "output_type": "display_data"
    },
    {
     "data": {
      "text/plain": [
       "17"
      ]
     },
     "metadata": {},
     "output_type": "display_data"
    },
    {
     "data": {
      "text/plain": [
       "Index(['20015_raw-Sitting_height',\n",
       "       '20153_raw-Forced_expiratory_volume_in_1second_FEV1_predicted',\n",
       "       '23101_raw-Whole_body_fatfree_mass', '23102_raw-Whole_body_water_mass',\n",
       "       '23105_raw-Basal_metabolic_rate', '23113_raw-Leg_fatfree_mass_right',\n",
       "       '23114_raw-Leg_predicted_mass_right', '23117_raw-Leg_fatfree_mass_left',\n",
       "       '23118_raw-Leg_predicted_mass_left', '23121_raw-Arm_fatfree_mass_right',\n",
       "       '23122_raw-Arm_predicted_mass_right', '23125_raw-Arm_fatfree_mass_left',\n",
       "       '23126_raw-Arm_predicted_mass_left', '23129_raw-Trunk_fatfree_mass',\n",
       "       '23130_raw-Trunk_predicted_mass', '50_raw-Standing_height',\n",
       "       'body height'],\n",
       "      dtype='object')"
      ]
     },
     "metadata": {},
     "output_type": "display_data"
    },
    {
     "data": {
      "text/html": [
       "<h3>Cluster 10.8</h3>"
      ],
      "text/plain": [
       "<IPython.core.display.HTML object>"
      ]
     },
     "metadata": {},
     "output_type": "display_data"
    },
    {
     "data": {
      "text/plain": [
       "10"
      ]
     },
     "metadata": {},
     "output_type": "display_data"
    },
    {
     "data": {
      "text/plain": [
       "Index(['30010_raw-Red_blood_cell_erythrocyte_count',\n",
       "       '30020_raw-Haemoglobin_concentration',\n",
       "       '30030_raw-Haematocrit_percentage',\n",
       "       '30070_raw-Red_blood_cell_erythrocyte_distribution_width',\n",
       "       '30080_raw-Platelet_count', '30090_raw-Platelet_crit',\n",
       "       '30100_raw-Mean_platelet_thrombocyte_volume',\n",
       "       '30110_raw-Platelet_distribution_width', 'erythrocyte count',\n",
       "       'platelet count'],\n",
       "      dtype='object')"
      ]
     },
     "metadata": {},
     "output_type": "display_data"
    },
    {
     "data": {
      "text/html": [
       "<h3>Cluster 10.9</h3>"
      ],
      "text/plain": [
       "<IPython.core.display.HTML object>"
      ]
     },
     "metadata": {},
     "output_type": "display_data"
    },
    {
     "data": {
      "text/plain": [
       "18"
      ]
     },
     "metadata": {},
     "output_type": "display_data"
    },
    {
     "data": {
      "text/plain": [
       "Index(['21001_raw-Body_mass_index_BMI', '21002_raw-Weight', '23098_raw-Weight',\n",
       "       '23099_raw-Body_fat_percentage', '23100_raw-Whole_body_fat_mass',\n",
       "       '23104_raw-Body_mass_index_BMI', '23111_raw-Leg_fat_percentage_right',\n",
       "       '23112_raw-Leg_fat_mass_right', '23115_raw-Leg_fat_percentage_left',\n",
       "       '23116_raw-Leg_fat_mass_left', '23119_raw-Arm_fat_percentage_right',\n",
       "       '23120_raw-Arm_fat_mass_right', '23123_raw-Arm_fat_percentage_left',\n",
       "       '23124_raw-Arm_fat_mass_left', '23127_raw-Trunk_fat_percentage',\n",
       "       '23128_raw-Trunk_fat_mass', '48_raw-Waist_circumference',\n",
       "       '49_raw-Hip_circumference'],\n",
       "      dtype='object')"
      ]
     },
     "metadata": {},
     "output_type": "display_data"
    },
    {
     "data": {
      "text/html": [
       "<h2>Partition with k=11</h2>"
      ],
      "text/plain": [
       "<IPython.core.display.HTML object>"
      ]
     },
     "metadata": {},
     "output_type": "display_data"
    },
    {
     "data": {
      "text/plain": [
       "method                                                 scc_020\n",
       "partition    [0, 0, 0, 0, 0, 0, 0, 0, 0, 0, 0, 0, 0, 0, 0, ...\n",
       "ami_mean                                              0.301839\n",
       "selected                                                  True\n",
       "Name: 11, dtype: object"
      ]
     },
     "metadata": {},
     "output_type": "display_data"
    },
    {
     "data": {
      "text/plain": [
       "(3749,)"
      ]
     },
     "metadata": {},
     "output_type": "display_data"
    },
    {
     "data": {
      "text/plain": [
       "0     3655\n",
       "10      18\n",
       "5       14\n",
       "8       13\n",
       "7       12\n",
       "9       10\n",
       "1        8\n",
       "6        6\n",
       "4        5\n",
       "3        4\n",
       "2        4\n",
       "dtype: int64"
      ]
     },
     "metadata": {},
     "output_type": "display_data"
    },
    {
     "data": {
      "text/html": [
       "<h3>Cluster 11.0</h3>"
      ],
      "text/plain": [
       "<IPython.core.display.HTML object>"
      ]
     },
     "metadata": {},
     "output_type": "display_data"
    },
    {
     "data": {
      "text/plain": [
       "3655"
      ]
     },
     "metadata": {},
     "output_type": "display_data"
    },
    {
     "data": {
      "text/plain": [
       "Index(['100001_raw-Food_weight', '100002_raw-Energy', '100003_raw-Protein',\n",
       "       '100004_raw-Fat', '100005_raw-Carbohydrate', '100006_raw-Saturated_fat',\n",
       "       '100007_raw-Polyunsaturated_fat', '100008_raw-Total_sugars',\n",
       "       '100009_raw-Englyst_dietary_fibre', '100010-Portion_size',\n",
       "       ...\n",
       "       'visual impairment', 'vitiligo', 'vitreous body disease',\n",
       "       'vocal cord polyp', 'voice disorders',\n",
       "       'wellbeing measurement AND family relationship', 'wheezing',\n",
       "       'whooping cough', 'worry measurement', 'wrist fracture'],\n",
       "      dtype='object', length=3655)"
      ]
     },
     "metadata": {},
     "output_type": "display_data"
    },
    {
     "data": {
      "text/html": [
       "<h3>Cluster 11.1</h3>"
      ],
      "text/plain": [
       "<IPython.core.display.HTML object>"
      ]
     },
     "metadata": {},
     "output_type": "display_data"
    },
    {
     "data": {
      "text/plain": [
       "8"
      ]
     },
     "metadata": {},
     "output_type": "display_data"
    },
    {
     "data": {
      "text/plain": [
       "Index(['5096_raw-3mm_weak_meridian_left', '5097_raw-6mm_weak_meridian_left',\n",
       "       '5098_raw-6mm_weak_meridian_right', '5099_raw-3mm_weak_meridian_right',\n",
       "       '5132_raw-3mm_strong_meridian_right',\n",
       "       '5133_raw-6mm_strong_meridian_right',\n",
       "       '5134_raw-6mm_strong_meridian_left',\n",
       "       '5135_raw-3mm_strong_meridian_left'],\n",
       "      dtype='object')"
      ]
     },
     "metadata": {},
     "output_type": "display_data"
    },
    {
     "data": {
      "text/html": [
       "<h3>Cluster 11.2</h3>"
      ],
      "text/plain": [
       "<IPython.core.display.HTML object>"
      ]
     },
     "metadata": {},
     "output_type": "display_data"
    },
    {
     "data": {
      "text/plain": [
       "4"
      ]
     },
     "metadata": {},
     "output_type": "display_data"
    },
    {
     "data": {
      "text/plain": [
       "Index(['20015_raw-Sitting_height',\n",
       "       '20153_raw-Forced_expiratory_volume_in_1second_FEV1_predicted',\n",
       "       '50_raw-Standing_height', 'body height'],\n",
       "      dtype='object')"
      ]
     },
     "metadata": {},
     "output_type": "display_data"
    },
    {
     "data": {
      "text/html": [
       "<h3>Cluster 11.3</h3>"
      ],
      "text/plain": [
       "<IPython.core.display.HTML object>"
      ]
     },
     "metadata": {},
     "output_type": "display_data"
    },
    {
     "data": {
      "text/plain": [
       "4"
      ]
     },
     "metadata": {},
     "output_type": "display_data"
    },
    {
     "data": {
      "text/plain": [
       "Index(['30040_raw-Mean_corpuscular_volume',\n",
       "       '30050_raw-Mean_corpuscular_haemoglobin',\n",
       "       '30260_raw-Mean_reticulocyte_volume',\n",
       "       '30270_raw-Mean_sphered_cell_volume'],\n",
       "      dtype='object')"
      ]
     },
     "metadata": {},
     "output_type": "display_data"
    },
    {
     "data": {
      "text/html": [
       "<h3>Cluster 11.4</h3>"
      ],
      "text/plain": [
       "<IPython.core.display.HTML object>"
      ]
     },
     "metadata": {},
     "output_type": "display_data"
    },
    {
     "data": {
      "text/plain": [
       "5"
      ]
     },
     "metadata": {},
     "output_type": "display_data"
    },
    {
     "data": {
      "text/plain": [
       "Index(['23106_raw-Impedance_of_whole_body', '23107_raw-Impedance_of_leg_right',\n",
       "       '23108_raw-Impedance_of_leg_left', '23109_raw-Impedance_of_arm_right',\n",
       "       '23110_raw-Impedance_of_arm_left'],\n",
       "      dtype='object')"
      ]
     },
     "metadata": {},
     "output_type": "display_data"
    },
    {
     "data": {
      "text/html": [
       "<h3>Cluster 11.5</h3>"
      ],
      "text/plain": [
       "<IPython.core.display.HTML object>"
      ]
     },
     "metadata": {},
     "output_type": "display_data"
    },
    {
     "data": {
      "text/plain": [
       "14"
      ]
     },
     "metadata": {},
     "output_type": "display_data"
    },
    {
     "data": {
      "text/plain": [
       "Index(['30000_raw-White_blood_cell_leukocyte_count',\n",
       "       '30130_raw-Monocyte_count', '30140_raw-Neutrophill_count',\n",
       "       '30150-Eosinophill_count', '30180_raw-Lymphocyte_percentage',\n",
       "       '30190_raw-Monocyte_percentage', '30200_raw-Neutrophill_percentage',\n",
       "       '30210_raw-Eosinophill_percentage', 'eosinophil count',\n",
       "       'granulocyte count', 'leukocyte count', 'monocyte count',\n",
       "       'myeloid white cell count', 'neutrophil count'],\n",
       "      dtype='object')"
      ]
     },
     "metadata": {},
     "output_type": "display_data"
    },
    {
     "data": {
      "text/html": [
       "<h3>Cluster 11.6</h3>"
      ],
      "text/plain": [
       "<IPython.core.display.HTML object>"
      ]
     },
     "metadata": {},
     "output_type": "display_data"
    },
    {
     "data": {
      "text/plain": [
       "6"
      ]
     },
     "metadata": {},
     "output_type": "display_data"
    },
    {
     "data": {
      "text/plain": [
       "Index(['30240_raw-Reticulocyte_percentage', '30250_raw-Reticulocyte_count',\n",
       "       '30280_raw-Immature_reticulocyte_fraction',\n",
       "       '30290_raw-High_light_scatter_reticulocyte_percentage',\n",
       "       '30300_raw-High_light_scatter_reticulocyte_count',\n",
       "       'reticulocyte count'],\n",
       "      dtype='object')"
      ]
     },
     "metadata": {},
     "output_type": "display_data"
    },
    {
     "data": {
      "text/html": [
       "<h3>Cluster 11.7</h3>"
      ],
      "text/plain": [
       "<IPython.core.display.HTML object>"
      ]
     },
     "metadata": {},
     "output_type": "display_data"
    },
    {
     "data": {
      "text/plain": [
       "12"
      ]
     },
     "metadata": {},
     "output_type": "display_data"
    },
    {
     "data": {
      "text/plain": [
       "Index(['3144_raw-Heel_Broadband_ultrasound_attenuation_direct_entry',\n",
       "       '3147_raw-Heel_quantitative_ultrasound_index_QUI_direct_entry',\n",
       "       '3148_raw-Heel_bone_mineral_density_BMD',\n",
       "       '4101_raw-Heel_broadband_ultrasound_attenuation_left',\n",
       "       '4104_raw-Heel_quantitative_ultrasound_index_QUI_direct_entry_left',\n",
       "       '4105_raw-Heel_bone_mineral_density_BMD_left',\n",
       "       '4106_raw-Heel_bone_mineral_density_BMD_Tscore_automated_left',\n",
       "       '4120_raw-Heel_broadband_ultrasound_attenuation_right',\n",
       "       '4123_raw-Heel_quantitative_ultrasound_index_QUI_direct_entry_right',\n",
       "       '4124_raw-Heel_bone_mineral_density_BMD_right',\n",
       "       '4125_raw-Heel_bone_mineral_density_BMD_Tscore_automated_right',\n",
       "       '78_raw-Heel_bone_mineral_density_BMD_Tscore_automated'],\n",
       "      dtype='object')"
      ]
     },
     "metadata": {},
     "output_type": "display_data"
    },
    {
     "data": {
      "text/html": [
       "<h3>Cluster 11.8</h3>"
      ],
      "text/plain": [
       "<IPython.core.display.HTML object>"
      ]
     },
     "metadata": {},
     "output_type": "display_data"
    },
    {
     "data": {
      "text/plain": [
       "13"
      ]
     },
     "metadata": {},
     "output_type": "display_data"
    },
    {
     "data": {
      "text/plain": [
       "Index(['23101_raw-Whole_body_fatfree_mass', '23102_raw-Whole_body_water_mass',\n",
       "       '23105_raw-Basal_metabolic_rate', '23113_raw-Leg_fatfree_mass_right',\n",
       "       '23114_raw-Leg_predicted_mass_right', '23117_raw-Leg_fatfree_mass_left',\n",
       "       '23118_raw-Leg_predicted_mass_left', '23121_raw-Arm_fatfree_mass_right',\n",
       "       '23122_raw-Arm_predicted_mass_right', '23125_raw-Arm_fatfree_mass_left',\n",
       "       '23126_raw-Arm_predicted_mass_left', '23129_raw-Trunk_fatfree_mass',\n",
       "       '23130_raw-Trunk_predicted_mass'],\n",
       "      dtype='object')"
      ]
     },
     "metadata": {},
     "output_type": "display_data"
    },
    {
     "data": {
      "text/html": [
       "<h3>Cluster 11.9</h3>"
      ],
      "text/plain": [
       "<IPython.core.display.HTML object>"
      ]
     },
     "metadata": {},
     "output_type": "display_data"
    },
    {
     "data": {
      "text/plain": [
       "10"
      ]
     },
     "metadata": {},
     "output_type": "display_data"
    },
    {
     "data": {
      "text/plain": [
       "Index(['30010_raw-Red_blood_cell_erythrocyte_count',\n",
       "       '30020_raw-Haemoglobin_concentration',\n",
       "       '30030_raw-Haematocrit_percentage',\n",
       "       '30070_raw-Red_blood_cell_erythrocyte_distribution_width',\n",
       "       '30080_raw-Platelet_count', '30090_raw-Platelet_crit',\n",
       "       '30100_raw-Mean_platelet_thrombocyte_volume',\n",
       "       '30110_raw-Platelet_distribution_width', 'erythrocyte count',\n",
       "       'platelet count'],\n",
       "      dtype='object')"
      ]
     },
     "metadata": {},
     "output_type": "display_data"
    },
    {
     "data": {
      "text/html": [
       "<h3>Cluster 11.10</h3>"
      ],
      "text/plain": [
       "<IPython.core.display.HTML object>"
      ]
     },
     "metadata": {},
     "output_type": "display_data"
    },
    {
     "data": {
      "text/plain": [
       "18"
      ]
     },
     "metadata": {},
     "output_type": "display_data"
    },
    {
     "data": {
      "text/plain": [
       "Index(['21001_raw-Body_mass_index_BMI', '21002_raw-Weight', '23098_raw-Weight',\n",
       "       '23099_raw-Body_fat_percentage', '23100_raw-Whole_body_fat_mass',\n",
       "       '23104_raw-Body_mass_index_BMI', '23111_raw-Leg_fat_percentage_right',\n",
       "       '23112_raw-Leg_fat_mass_right', '23115_raw-Leg_fat_percentage_left',\n",
       "       '23116_raw-Leg_fat_mass_left', '23119_raw-Arm_fat_percentage_right',\n",
       "       '23120_raw-Arm_fat_mass_right', '23123_raw-Arm_fat_percentage_left',\n",
       "       '23124_raw-Arm_fat_mass_left', '23127_raw-Trunk_fat_percentage',\n",
       "       '23128_raw-Trunk_fat_mass', '48_raw-Waist_circumference',\n",
       "       '49_raw-Hip_circumference'],\n",
       "      dtype='object')"
      ]
     },
     "metadata": {},
     "output_type": "display_data"
    },
    {
     "data": {
      "text/html": [
       "<h2>Partition with k=13</h2>"
      ],
      "text/plain": [
       "<IPython.core.display.HTML object>"
      ]
     },
     "metadata": {},
     "output_type": "display_data"
    },
    {
     "data": {
      "text/plain": [
       "method                              eac_average_coassoc_matrix\n",
       "partition    [1, 1, 1, 1, 1, 1, 1, 1, 1, 1, 1, 1, 1, 1, 1, ...\n",
       "ami_mean                                              0.281216\n",
       "selected                                                  True\n",
       "Name: 13, dtype: object"
      ]
     },
     "metadata": {},
     "output_type": "display_data"
    },
    {
     "data": {
      "text/plain": [
       "(3749,)"
      ]
     },
     "metadata": {},
     "output_type": "display_data"
    },
    {
     "data": {
      "text/plain": [
       "1     3188\n",
       "2      191\n",
       "12     145\n",
       "3       41\n",
       "4       39\n",
       "7       35\n",
       "0       35\n",
       "6       22\n",
       "8       15\n",
       "11      12\n",
       "5       12\n",
       "9        8\n",
       "10       6\n",
       "dtype: int64"
      ]
     },
     "metadata": {},
     "output_type": "display_data"
    },
    {
     "data": {
      "text/html": [
       "<h3>Cluster 13.0</h3>"
      ],
      "text/plain": [
       "<IPython.core.display.HTML object>"
      ]
     },
     "metadata": {},
     "output_type": "display_data"
    },
    {
     "data": {
      "text/plain": [
       "35"
      ]
     },
     "metadata": {},
     "output_type": "display_data"
    },
    {
     "data": {
      "text/plain": [
       "Index(['30000_raw-White_blood_cell_leukocyte_count',\n",
       "       '30010_raw-Red_blood_cell_erythrocyte_count',\n",
       "       '30020_raw-Haemoglobin_concentration',\n",
       "       '30030_raw-Haematocrit_percentage', '30040_raw-Mean_corpuscular_volume',\n",
       "       '30050_raw-Mean_corpuscular_haemoglobin',\n",
       "       '30070_raw-Red_blood_cell_erythrocyte_distribution_width',\n",
       "       '30080_raw-Platelet_count', '30090_raw-Platelet_crit',\n",
       "       '30100_raw-Mean_platelet_thrombocyte_volume',\n",
       "       '30110_raw-Platelet_distribution_width', '30130_raw-Monocyte_count',\n",
       "       '30140_raw-Neutrophill_count', '30150-Eosinophill_count',\n",
       "       '30180_raw-Lymphocyte_percentage', '30190_raw-Monocyte_percentage',\n",
       "       '30200_raw-Neutrophill_percentage', '30210_raw-Eosinophill_percentage',\n",
       "       '30240_raw-Reticulocyte_percentage', '30250_raw-Reticulocyte_count',\n",
       "       '30260_raw-Mean_reticulocyte_volume',\n",
       "       '30270_raw-Mean_sphered_cell_volume',\n",
       "       '30280_raw-Immature_reticulocyte_fraction',\n",
       "       '30290_raw-High_light_scatter_reticulocyte_percentage',\n",
       "       '30300_raw-High_light_scatter_reticulocyte_count', 'eosinophil count',\n",
       "       'erythrocyte count', 'granulocyte count', 'leukocyte count',\n",
       "       'lymphocyte count', 'monocyte count', 'myeloid white cell count',\n",
       "       'neutrophil count', 'platelet count', 'reticulocyte count'],\n",
       "      dtype='object')"
      ]
     },
     "metadata": {},
     "output_type": "display_data"
    },
    {
     "data": {
      "text/html": [
       "<h3>Cluster 13.1</h3>"
      ],
      "text/plain": [
       "<IPython.core.display.HTML object>"
      ]
     },
     "metadata": {},
     "output_type": "display_data"
    },
    {
     "data": {
      "text/plain": [
       "3188"
      ]
     },
     "metadata": {},
     "output_type": "display_data"
    },
    {
     "data": {
      "text/plain": [
       "Index(['100001_raw-Food_weight', '100002_raw-Energy', '100003_raw-Protein',\n",
       "       '100004_raw-Fat', '100005_raw-Carbohydrate', '100006_raw-Saturated_fat',\n",
       "       '100007_raw-Polyunsaturated_fat', '100008_raw-Total_sugars',\n",
       "       '100009_raw-Englyst_dietary_fibre', '100010-Portion_size',\n",
       "       ...\n",
       "       'viral disease', 'viral human hepatitis infection', 'viral meningitis',\n",
       "       'visual impairment', 'vitiligo', 'vitreous body disease',\n",
       "       'vocal cord polyp', 'voice disorders',\n",
       "       'wellbeing measurement AND family relationship', 'whooping cough'],\n",
       "      dtype='object', length=3188)"
      ]
     },
     "metadata": {},
     "output_type": "display_data"
    },
    {
     "data": {
      "text/html": [
       "<h3>Cluster 13.2</h3>"
      ],
      "text/plain": [
       "<IPython.core.display.HTML object>"
      ]
     },
     "metadata": {},
     "output_type": "display_data"
    },
    {
     "data": {
      "text/plain": [
       "191"
      ]
     },
     "metadata": {},
     "output_type": "display_data"
    },
    {
     "data": {
      "text/plain": [
       "Index(['129_raw-Place_of_birth_in_UK_north_coordinate',\n",
       "       '130_raw-Place_of_birth_in_UK_east_coordinate',\n",
       "       '20003_1140861998-Treatmentmedication_code_ventolin_100micrograms_inhaler',\n",
       "       '20003_1141176832-Treatmentmedication_code_seretide_50_evohaler',\n",
       "       '20074_raw-Home_location_at_assessment_east_coordinate_rounded',\n",
       "       '20075_raw-Home_location_at_assessment_north_coordinate_rounded',\n",
       "       '20118_11-Home_area_population_density_urban_or_rural_Scotland_Large_Urban_Area',\n",
       "       '22702_raw-Home_location_east_coordinate_rounded',\n",
       "       '22704_raw-Home_location_north_coordinate_rounded',\n",
       "       '30060_raw-Mean_corpuscular_haemoglobin_concentration',\n",
       "       ...\n",
       "       'transient ischemic attack', 'tuberculosis',\n",
       "       'type ii diabetes mellitus', 'ulcerative colitis',\n",
       "       'urogenital neoplasm', 'urticaria', 'vascular disease', 'vasculitis',\n",
       "       'venous thromboembolism', 'wrist fracture'],\n",
       "      dtype='object', length=191)"
      ]
     },
     "metadata": {},
     "output_type": "display_data"
    },
    {
     "data": {
      "text/html": [
       "<h3>Cluster 13.3</h3>"
      ],
      "text/plain": [
       "<IPython.core.display.HTML object>"
      ]
     },
     "metadata": {},
     "output_type": "display_data"
    },
    {
     "data": {
      "text/plain": [
       "41"
      ]
     },
     "metadata": {},
     "output_type": "display_data"
    },
    {
     "data": {
      "text/plain": [
       "Index(['20015_raw-Sitting_height',\n",
       "       '20153_raw-Forced_expiratory_volume_in_1second_FEV1_predicted',\n",
       "       '21001_raw-Body_mass_index_BMI', '21002_raw-Weight', '23098_raw-Weight',\n",
       "       '23099_raw-Body_fat_percentage', '23100_raw-Whole_body_fat_mass',\n",
       "       '23101_raw-Whole_body_fatfree_mass', '23102_raw-Whole_body_water_mass',\n",
       "       '23104_raw-Body_mass_index_BMI', '23105_raw-Basal_metabolic_rate',\n",
       "       '23106_raw-Impedance_of_whole_body', '23107_raw-Impedance_of_leg_right',\n",
       "       '23108_raw-Impedance_of_leg_left', '23109_raw-Impedance_of_arm_right',\n",
       "       '23110_raw-Impedance_of_arm_left', '23111_raw-Leg_fat_percentage_right',\n",
       "       '23112_raw-Leg_fat_mass_right', '23113_raw-Leg_fatfree_mass_right',\n",
       "       '23114_raw-Leg_predicted_mass_right',\n",
       "       '23115_raw-Leg_fat_percentage_left', '23116_raw-Leg_fat_mass_left',\n",
       "       '23117_raw-Leg_fatfree_mass_left', '23118_raw-Leg_predicted_mass_left',\n",
       "       '23119_raw-Arm_fat_percentage_right', '23120_raw-Arm_fat_mass_right',\n",
       "       '23121_raw-Arm_fatfree_mass_right',\n",
       "       '23122_raw-Arm_predicted_mass_right',\n",
       "       '23123_raw-Arm_fat_percentage_left', '23124_raw-Arm_fat_mass_left',\n",
       "       '23125_raw-Arm_fatfree_mass_left', '23126_raw-Arm_predicted_mass_left',\n",
       "       '23127_raw-Trunk_fat_percentage', '23128_raw-Trunk_fat_mass',\n",
       "       '23129_raw-Trunk_fatfree_mass', '23130_raw-Trunk_predicted_mass',\n",
       "       '3143_raw-Ankle_spacing_width', '48_raw-Waist_circumference',\n",
       "       '49_raw-Hip_circumference', '50_raw-Standing_height', 'body height'],\n",
       "      dtype='object')"
      ]
     },
     "metadata": {},
     "output_type": "display_data"
    },
    {
     "data": {
      "text/html": [
       "<h3>Cluster 13.4</h3>"
      ],
      "text/plain": [
       "<IPython.core.display.HTML object>"
      ]
     },
     "metadata": {},
     "output_type": "display_data"
    },
    {
     "data": {
      "text/plain": [
       "39"
      ]
     },
     "metadata": {},
     "output_type": "display_data"
    },
    {
     "data": {
      "text/plain": [
       "Index(['1448_4-Bread_type_Other_type_of_bread',\n",
       "       '20003_1140869848-Treatmentmedication_code_methotrexate',\n",
       "       '20003_1140870422-Treatmentmedication_code_folic_acid_product',\n",
       "       '20003_1140874866-Treatmentmedication_code_carbimazole',\n",
       "       '20003_1140883066-Treatmentmedication_code_insulin_product',\n",
       "       '20003_1140884516-Treatmentmedication_code_thyroxine_product',\n",
       "       '20003_1141179992-Treatmentmedication_code_dovobet_ointment',\n",
       "       '20003_1141191044-Treatmentmedication_code_levothyroxine_sodium',\n",
       "       '2976_raw-Age_diabetes_diagnosed',\n",
       "       '2986-Started_insulin_within_one_year_diagnosis_of_diabetes',\n",
       "       '6144_3-Never_eat_eggs_dairy_wheat_sugar_Wheat_products',\n",
       "       '6153_3-Medication_for_cholesterol_blood_pressure_diabetes_or_take_exogenous_hormones_Insulin',\n",
       "       '6177_3-Medication_for_cholesterol_blood_pressure_or_diabetes_Insulin',\n",
       "       'DM_KETOACIDOSIS-Diabetic_ketoacidosis',\n",
       "       'DM_RETINOPAT_NOS-Unclassified_diabetic_retinopathy',\n",
       "       'E4_DM1-Type_1_diabetes',\n",
       "       'E4_DM1KETO-Type_1_diabetes_with_ketoacidosis',\n",
       "       'E4_DM1NOCOMP-Type_1_diabetes_without_complications',\n",
       "       'E4_DM1OPTH-Type_1_diabetes_with_ophthalmic_complications',\n",
       "       'K11_COELIAC-Coeliac_disease', 'K11_GIBLEEDING-GIbleeding',\n",
       "       'K11_OTHDIG-Other_diseases_of_the_digestive_system',\n",
       "       'M13_POLYARTHROPATHIES-Polyarthropathies',\n",
       "       'M13_RHEUMA-Rheumatoid_arthritis',\n",
       "       'RHEUMA_NOS-Otherunspecified_rheumatoid_arthritis',\n",
       "       'RHEUMA_SEROPOS-Seropositive_rheumatoid_arthritis',\n",
       "       'RHEUMA_SEROPOS_OTH-Otherunspecified_seropositiverheumatoid_arthritis',\n",
       "       'STILL_ADULT-Adultonset_Still_disease', 'ankylosing spondylitis',\n",
       "       'celiac disease', 'hematuria', 'hyperthyroidism AND thyrotoxicosis',\n",
       "       'hypothyroidism AND myxedema', 'malabsorption syndrome', 'psoriasis',\n",
       "       'psoriatic arthritis', 'rheumatoid arthritis',\n",
       "       'systemic lupus erythematosus', 'type i diabetes mellitus'],\n",
       "      dtype='object')"
      ]
     },
     "metadata": {},
     "output_type": "display_data"
    },
    {
     "data": {
      "text/html": [
       "<h3>Cluster 13.5</h3>"
      ],
      "text/plain": [
       "<IPython.core.display.HTML object>"
      ]
     },
     "metadata": {},
     "output_type": "display_data"
    },
    {
     "data": {
      "text/plain": [
       "12"
      ]
     },
     "metadata": {},
     "output_type": "display_data"
    },
    {
     "data": {
      "text/plain": [
       "Index(['102_raw-Pulse_rate_automated_reading',\n",
       "       '20150_raw-Forced_expiratory_volume_in_1second_FEV1_Best_measure',\n",
       "       '20151_raw-Forced_vital_capacity_FVC_Best_measure',\n",
       "       '2395_1-Hairbalding_pattern_Pattern_1',\n",
       "       '3062_raw-Forced_vital_capacity_FVC',\n",
       "       '3063_raw-Forced_expiratory_volume_in_1second_FEV1',\n",
       "       '3064_raw-Peak_expiratory_flow_PEF',\n",
       "       '4100_raw-Ankle_spacing_width_left',\n",
       "       '4119_raw-Ankle_spacing_width_right', '46_raw-Hand_grip_strength_left',\n",
       "       '47_raw-Hand_grip_strength_right', 'inflammatory bowel disease'],\n",
       "      dtype='object')"
      ]
     },
     "metadata": {},
     "output_type": "display_data"
    },
    {
     "data": {
      "text/html": [
       "<h3>Cluster 13.6</h3>"
      ],
      "text/plain": [
       "<IPython.core.display.HTML object>"
      ]
     },
     "metadata": {},
     "output_type": "display_data"
    },
    {
     "data": {
      "text/plain": [
       "22"
      ]
     },
     "metadata": {},
     "output_type": "display_data"
    },
    {
     "data": {
      "text/plain": [
       "Index(['1717-Skin_colour', '1727-Ease_of_skin_tanning',\n",
       "       '1737-Childhood_sunburn_occasions',\n",
       "       '1747_1-Hair_colour_natural_before_greying_Blonde',\n",
       "       '1747_2-Hair_colour_natural_before_greying_Red',\n",
       "       '1747_3-Hair_colour_natural_before_greying_Light_brown',\n",
       "       '1747_4-Hair_colour_natural_before_greying_Dark_brown',\n",
       "       '1747_5-Hair_colour_natural_before_greying_Black',\n",
       "       '1747_6-Hair_colour_natural_before_greying_Other',\n",
       "       '20003_1140868170-Treatmentmedication_code_prochlorperazine',\n",
       "       'C3_SKIN-Malignant_neoplasm_of_skin',\n",
       "       'C_MELANOMA_SKIN-Malignant_melanoma_of_skin',\n",
       "       'C_OTHER_SKIN-Other_malignant_neoplasms_of_skin', 'C_SKIN',\n",
       "       'II_NEOPLASM-Neoplasms', 'artificial cardiac pacemaker',\n",
       "       'basal cell carcinoma', 'cutaneous melanoma', 'melanoma',\n",
       "       'number of cancers, self-reported', 'skin neoplasm', 'tooth agenesis'],\n",
       "      dtype='object')"
      ]
     },
     "metadata": {},
     "output_type": "display_data"
    },
    {
     "data": {
      "text/html": [
       "<h3>Cluster 13.7</h3>"
      ],
      "text/plain": [
       "<IPython.core.display.HTML object>"
      ]
     },
     "metadata": {},
     "output_type": "display_data"
    },
    {
     "data": {
      "text/plain": [
       "35"
      ]
     },
     "metadata": {},
     "output_type": "display_data"
    },
    {
     "data": {
      "text/plain": [
       "Index(['20003_1140861958-Treatmentmedication_code_simvastatin',\n",
       "       '20003_1140868226-Treatmentmedication_code_aspirin',\n",
       "       '20003_1140879802-Treatmentmedication_code_amlodipine',\n",
       "       '20003_1141194794-Treatmentmedication_code_bendroflumethiazide',\n",
       "       '2492-Taking_other_prescription_medications',\n",
       "       '4079_raw-Diastolic_blood_pressure_automated_reading',\n",
       "       '4080_raw-Systolic_blood_pressure_automated_reading',\n",
       "       '6150_1-Vascularheart_problems_diagnosed_by_doctor_Heart_attack',\n",
       "       '6150_100-Vascularheart_problems_diagnosed_by_doctor_None_of_the_above',\n",
       "       '6150_2-Vascularheart_problems_diagnosed_by_doctor_Angina',\n",
       "       '6150_4-Vascularheart_problems_diagnosed_by_doctor_High_blood_pressure',\n",
       "       '6153_1-Medication_for_cholesterol_blood_pressure_diabetes_or_take_exogenous_hormones_Cholesterol_lowering_medication',\n",
       "       '6153_100-Medication_for_cholesterol_blood_pressure_diabetes_or_take_exogenous_hormones_None_of_the_above',\n",
       "       '6153_2-Medication_for_cholesterol_blood_pressure_diabetes_or_take_exogenous_hormones_Blood_pressure_medication',\n",
       "       '6154_1-Medication_for_pain_relief_constipation_heartburn_Aspirin',\n",
       "       '6177_1-Medication_for_cholesterol_blood_pressure_or_diabetes_Cholesterol_lowering_medication',\n",
       "       '6177_100-Medication_for_cholesterol_blood_pressure_or_diabetes_None_of_the_above',\n",
       "       '6177_2-Medication_for_cholesterol_blood_pressure_or_diabetes_Blood_pressure_medication',\n",
       "       'I9_CHD-Major_coronary_heart_disease_event',\n",
       "       'I9_CHD_NOREV-Major_coronary_heart_disease_event_excluding_revascularizations',\n",
       "       'I9_CORATHER-Coronary_atherosclerosis',\n",
       "       'I9_IHD-Ischaemic_heart_disease_wide_definition',\n",
       "       'I9_MI-Myocardial_infarction',\n",
       "       'I9_MI_STRICT-Myocardial_infarction_strict',\n",
       "       'I9_UAP-Unstable_angina_pectoris',\n",
       "       'IX_CIRCULATORY-Diseases_of_the_circulatory_system',\n",
       "       'acute myocardial infarction', 'angina pectoris', 'chronic disease',\n",
       "       'coronary artery disease', 'hypercholesterolemia', 'hypertension',\n",
       "       'myocardial infarction',\n",
       "       'number of non-cancer illnesses, self-reported',\n",
       "       'number of treatments or medications taken, self-reported'],\n",
       "      dtype='object')"
      ]
     },
     "metadata": {},
     "output_type": "display_data"
    },
    {
     "data": {
      "text/html": [
       "<h3>Cluster 13.8</h3>"
      ],
      "text/plain": [
       "<IPython.core.display.HTML object>"
      ]
     },
     "metadata": {},
     "output_type": "display_data"
    },
    {
     "data": {
      "text/plain": [
       "15"
      ]
     },
     "metadata": {},
     "output_type": "display_data"
    },
    {
     "data": {
      "text/plain": [
       "Index(['EAGLE_Eczema', 'Jones_et_al_2016_Chronotype', 'MAGNETIC_CH2.DB.ratio',\n",
       "       'MAGNETIC_HDL.C', 'MAGNETIC_IDL.TG', 'MAGNETIC_LDL.C',\n",
       "       'alzheimer's disease', 'bone density', 'depressive symptom measurement',\n",
       "       'estrogen-receptor negative breast cancer',\n",
       "       'estrogen-receptor positive breast cancer',\n",
       "       'family history of breast cancer', 'fasting blood glucose measurement',\n",
       "       'fasting blood insulin measurement', 'intracranial volume measurement'],\n",
       "      dtype='object')"
      ]
     },
     "metadata": {},
     "output_type": "display_data"
    },
    {
     "data": {
      "text/html": [
       "<h3>Cluster 13.9</h3>"
      ],
      "text/plain": [
       "<IPython.core.display.HTML object>"
      ]
     },
     "metadata": {},
     "output_type": "display_data"
    },
    {
     "data": {
      "text/plain": [
       "8"
      ]
     },
     "metadata": {},
     "output_type": "display_data"
    },
    {
     "data": {
      "text/plain": [
       "Index(['5096_raw-3mm_weak_meridian_left', '5097_raw-6mm_weak_meridian_left',\n",
       "       '5098_raw-6mm_weak_meridian_right', '5099_raw-3mm_weak_meridian_right',\n",
       "       '5132_raw-3mm_strong_meridian_right',\n",
       "       '5133_raw-6mm_strong_meridian_right',\n",
       "       '5134_raw-6mm_strong_meridian_left',\n",
       "       '5135_raw-3mm_strong_meridian_left'],\n",
       "      dtype='object')"
      ]
     },
     "metadata": {},
     "output_type": "display_data"
    },
    {
     "data": {
      "text/html": [
       "<h3>Cluster 13.10</h3>"
      ],
      "text/plain": [
       "<IPython.core.display.HTML object>"
      ]
     },
     "metadata": {},
     "output_type": "display_data"
    },
    {
     "data": {
      "text/plain": [
       "6"
      ]
     },
     "metadata": {},
     "output_type": "display_data"
    },
    {
     "data": {
      "text/plain": [
       "Index(['40001_C349-Underlying_primary_cause_of_death_ICD10_C349_Bronchus_or_lung_unspecified',\n",
       "       'C3_RESPIRATORY_INTRATHORACIC-Malignant_neoplasm_of_respiratory_system_and_intrathoracic_organs',\n",
       "       'C_BRONCHUS_LUNG-Malignant_neoplasm_of_bronchus_and_lung',\n",
       "       'C_RESPIRATORY_INTRATHORACIC',\n",
       "       'LUNG_CANCER_MESOT-Lung_cancer_and_mesothelioma', 'lung carcinoma'],\n",
       "      dtype='object')"
      ]
     },
     "metadata": {},
     "output_type": "display_data"
    },
    {
     "data": {
      "text/html": [
       "<h3>Cluster 13.11</h3>"
      ],
      "text/plain": [
       "<IPython.core.display.HTML object>"
      ]
     },
     "metadata": {},
     "output_type": "display_data"
    },
    {
     "data": {
      "text/plain": [
       "12"
      ]
     },
     "metadata": {},
     "output_type": "display_data"
    },
    {
     "data": {
      "text/plain": [
       "Index(['3144_raw-Heel_Broadband_ultrasound_attenuation_direct_entry',\n",
       "       '3147_raw-Heel_quantitative_ultrasound_index_QUI_direct_entry',\n",
       "       '3148_raw-Heel_bone_mineral_density_BMD',\n",
       "       '4101_raw-Heel_broadband_ultrasound_attenuation_left',\n",
       "       '4104_raw-Heel_quantitative_ultrasound_index_QUI_direct_entry_left',\n",
       "       '4105_raw-Heel_bone_mineral_density_BMD_left',\n",
       "       '4106_raw-Heel_bone_mineral_density_BMD_Tscore_automated_left',\n",
       "       '4120_raw-Heel_broadband_ultrasound_attenuation_right',\n",
       "       '4123_raw-Heel_quantitative_ultrasound_index_QUI_direct_entry_right',\n",
       "       '4124_raw-Heel_bone_mineral_density_BMD_right',\n",
       "       '4125_raw-Heel_bone_mineral_density_BMD_Tscore_automated_right',\n",
       "       '78_raw-Heel_bone_mineral_density_BMD_Tscore_automated'],\n",
       "      dtype='object')"
      ]
     },
     "metadata": {},
     "output_type": "display_data"
    },
    {
     "data": {
      "text/html": [
       "<h3>Cluster 13.12</h3>"
      ],
      "text/plain": [
       "<IPython.core.display.HTML object>"
      ]
     },
     "metadata": {},
     "output_type": "display_data"
    },
    {
     "data": {
      "text/plain": [
       "145"
      ]
     },
     "metadata": {},
     "output_type": "display_data"
    },
    {
     "data": {
      "text/plain": [
       "Index(['1050-Time_spend_outdoors_in_summer',\n",
       "       '1060-Time_spent_outdoors_in_winter',\n",
       "       '1070-Time_spent_watching_television_TV',\n",
       "       '1080-Time_spent_using_computer',\n",
       "       '1100-Drive_faster_than_motorway_speed_limit',\n",
       "       '1110-Length_of_mobile_phone_use', '1289-Cooked_vegetable_intake',\n",
       "       '1299-Salad_raw_vegetable_intake', '1309-Fresh_fruit_intake',\n",
       "       '1319-Dried_fruit_intake',\n",
       "       ...\n",
       "       'seeing a general practitioner for nerves, anxiety, tension or depression, self-reported',\n",
       "       'self rated health', 'self reported educational attainment',\n",
       "       'sleep duration', 'smoking behavior', 'smoking cessation',\n",
       "       'snoring measurement', 'tiredness measurement', 'wheezing',\n",
       "       'worry measurement'],\n",
       "      dtype='object', length=145)"
      ]
     },
     "metadata": {},
     "output_type": "display_data"
    },
    {
     "data": {
      "text/html": [
       "<h2>Partition with k=14</h2>"
      ],
      "text/plain": [
       "<IPython.core.display.HTML object>"
      ]
     },
     "metadata": {},
     "output_type": "display_data"
    },
    {
     "data": {
      "text/plain": [
       "method                                                 scc_020\n",
       "partition    [0, 0, 0, 0, 0, 0, 0, 0, 0, 0, 0, 0, 0, 0, 0, ...\n",
       "ami_mean                                              0.296094\n",
       "selected                                                  True\n",
       "Name: 14, dtype: object"
      ]
     },
     "metadata": {},
     "output_type": "display_data"
    },
    {
     "data": {
      "text/plain": [
       "(3749,)"
      ]
     },
     "metadata": {},
     "output_type": "display_data"
    },
    {
     "data": {
      "text/plain": [
       "0     3641\n",
       "12      18\n",
       "8       14\n",
       "11      13\n",
       "5       12\n",
       "13       8\n",
       "7        8\n",
       "9        6\n",
       "10       6\n",
       "3        5\n",
       "1        5\n",
       "4        5\n",
       "6        4\n",
       "2        4\n",
       "dtype: int64"
      ]
     },
     "metadata": {},
     "output_type": "display_data"
    },
    {
     "data": {
      "text/html": [
       "<h3>Cluster 14.0</h3>"
      ],
      "text/plain": [
       "<IPython.core.display.HTML object>"
      ]
     },
     "metadata": {},
     "output_type": "display_data"
    },
    {
     "data": {
      "text/plain": [
       "3641"
      ]
     },
     "metadata": {},
     "output_type": "display_data"
    },
    {
     "data": {
      "text/plain": [
       "Index(['100001_raw-Food_weight', '100002_raw-Energy', '100003_raw-Protein',\n",
       "       '100004_raw-Fat', '100005_raw-Carbohydrate', '100006_raw-Saturated_fat',\n",
       "       '100007_raw-Polyunsaturated_fat', '100008_raw-Total_sugars',\n",
       "       '100009_raw-Englyst_dietary_fibre', '100010-Portion_size',\n",
       "       ...\n",
       "       'visual impairment', 'vitiligo', 'vitreous body disease',\n",
       "       'vocal cord polyp', 'voice disorders',\n",
       "       'wellbeing measurement AND family relationship', 'wheezing',\n",
       "       'whooping cough', 'worry measurement', 'wrist fracture'],\n",
       "      dtype='object', length=3641)"
      ]
     },
     "metadata": {},
     "output_type": "display_data"
    },
    {
     "data": {
      "text/html": [
       "<h3>Cluster 14.1</h3>"
      ],
      "text/plain": [
       "<IPython.core.display.HTML object>"
      ]
     },
     "metadata": {},
     "output_type": "display_data"
    },
    {
     "data": {
      "text/plain": [
       "5"
      ]
     },
     "metadata": {},
     "output_type": "display_data"
    },
    {
     "data": {
      "text/plain": [
       "Index(['30010_raw-Red_blood_cell_erythrocyte_count',\n",
       "       '30020_raw-Haemoglobin_concentration',\n",
       "       '30030_raw-Haematocrit_percentage',\n",
       "       '30070_raw-Red_blood_cell_erythrocyte_distribution_width',\n",
       "       'erythrocyte count'],\n",
       "      dtype='object')"
      ]
     },
     "metadata": {},
     "output_type": "display_data"
    },
    {
     "data": {
      "text/html": [
       "<h3>Cluster 14.2</h3>"
      ],
      "text/plain": [
       "<IPython.core.display.HTML object>"
      ]
     },
     "metadata": {},
     "output_type": "display_data"
    },
    {
     "data": {
      "text/plain": [
       "4"
      ]
     },
     "metadata": {},
     "output_type": "display_data"
    },
    {
     "data": {
      "text/plain": [
       "Index(['20015_raw-Sitting_height',\n",
       "       '20153_raw-Forced_expiratory_volume_in_1second_FEV1_predicted',\n",
       "       '50_raw-Standing_height', 'body height'],\n",
       "      dtype='object')"
      ]
     },
     "metadata": {},
     "output_type": "display_data"
    },
    {
     "data": {
      "text/html": [
       "<h3>Cluster 14.3</h3>"
      ],
      "text/plain": [
       "<IPython.core.display.HTML object>"
      ]
     },
     "metadata": {},
     "output_type": "display_data"
    },
    {
     "data": {
      "text/plain": [
       "5"
      ]
     },
     "metadata": {},
     "output_type": "display_data"
    },
    {
     "data": {
      "text/plain": [
       "Index(['23106_raw-Impedance_of_whole_body', '23107_raw-Impedance_of_leg_right',\n",
       "       '23108_raw-Impedance_of_leg_left', '23109_raw-Impedance_of_arm_right',\n",
       "       '23110_raw-Impedance_of_arm_left'],\n",
       "      dtype='object')"
      ]
     },
     "metadata": {},
     "output_type": "display_data"
    },
    {
     "data": {
      "text/html": [
       "<h3>Cluster 14.4</h3>"
      ],
      "text/plain": [
       "<IPython.core.display.HTML object>"
      ]
     },
     "metadata": {},
     "output_type": "display_data"
    },
    {
     "data": {
      "text/plain": [
       "5"
      ]
     },
     "metadata": {},
     "output_type": "display_data"
    },
    {
     "data": {
      "text/plain": [
       "Index(['30080_raw-Platelet_count', '30090_raw-Platelet_crit',\n",
       "       '30100_raw-Mean_platelet_thrombocyte_volume',\n",
       "       '30110_raw-Platelet_distribution_width', 'platelet count'],\n",
       "      dtype='object')"
      ]
     },
     "metadata": {},
     "output_type": "display_data"
    },
    {
     "data": {
      "text/html": [
       "<h3>Cluster 14.5</h3>"
      ],
      "text/plain": [
       "<IPython.core.display.HTML object>"
      ]
     },
     "metadata": {},
     "output_type": "display_data"
    },
    {
     "data": {
      "text/plain": [
       "12"
      ]
     },
     "metadata": {},
     "output_type": "display_data"
    },
    {
     "data": {
      "text/plain": [
       "Index(['3144_raw-Heel_Broadband_ultrasound_attenuation_direct_entry',\n",
       "       '3147_raw-Heel_quantitative_ultrasound_index_QUI_direct_entry',\n",
       "       '3148_raw-Heel_bone_mineral_density_BMD',\n",
       "       '4101_raw-Heel_broadband_ultrasound_attenuation_left',\n",
       "       '4104_raw-Heel_quantitative_ultrasound_index_QUI_direct_entry_left',\n",
       "       '4105_raw-Heel_bone_mineral_density_BMD_left',\n",
       "       '4106_raw-Heel_bone_mineral_density_BMD_Tscore_automated_left',\n",
       "       '4120_raw-Heel_broadband_ultrasound_attenuation_right',\n",
       "       '4123_raw-Heel_quantitative_ultrasound_index_QUI_direct_entry_right',\n",
       "       '4124_raw-Heel_bone_mineral_density_BMD_right',\n",
       "       '4125_raw-Heel_bone_mineral_density_BMD_Tscore_automated_right',\n",
       "       '78_raw-Heel_bone_mineral_density_BMD_Tscore_automated'],\n",
       "      dtype='object')"
      ]
     },
     "metadata": {},
     "output_type": "display_data"
    },
    {
     "data": {
      "text/html": [
       "<h3>Cluster 14.6</h3>"
      ],
      "text/plain": [
       "<IPython.core.display.HTML object>"
      ]
     },
     "metadata": {},
     "output_type": "display_data"
    },
    {
     "data": {
      "text/plain": [
       "4"
      ]
     },
     "metadata": {},
     "output_type": "display_data"
    },
    {
     "data": {
      "text/plain": [
       "Index(['30040_raw-Mean_corpuscular_volume',\n",
       "       '30050_raw-Mean_corpuscular_haemoglobin',\n",
       "       '30260_raw-Mean_reticulocyte_volume',\n",
       "       '30270_raw-Mean_sphered_cell_volume'],\n",
       "      dtype='object')"
      ]
     },
     "metadata": {},
     "output_type": "display_data"
    },
    {
     "data": {
      "text/html": [
       "<h3>Cluster 14.7</h3>"
      ],
      "text/plain": [
       "<IPython.core.display.HTML object>"
      ]
     },
     "metadata": {},
     "output_type": "display_data"
    },
    {
     "data": {
      "text/plain": [
       "8"
      ]
     },
     "metadata": {},
     "output_type": "display_data"
    },
    {
     "data": {
      "text/plain": [
       "Index(['5096_raw-3mm_weak_meridian_left', '5097_raw-6mm_weak_meridian_left',\n",
       "       '5098_raw-6mm_weak_meridian_right', '5099_raw-3mm_weak_meridian_right',\n",
       "       '5132_raw-3mm_strong_meridian_right',\n",
       "       '5133_raw-6mm_strong_meridian_right',\n",
       "       '5134_raw-6mm_strong_meridian_left',\n",
       "       '5135_raw-3mm_strong_meridian_left'],\n",
       "      dtype='object')"
      ]
     },
     "metadata": {},
     "output_type": "display_data"
    },
    {
     "data": {
      "text/html": [
       "<h3>Cluster 14.8</h3>"
      ],
      "text/plain": [
       "<IPython.core.display.HTML object>"
      ]
     },
     "metadata": {},
     "output_type": "display_data"
    },
    {
     "data": {
      "text/plain": [
       "14"
      ]
     },
     "metadata": {},
     "output_type": "display_data"
    },
    {
     "data": {
      "text/plain": [
       "Index(['30000_raw-White_blood_cell_leukocyte_count',\n",
       "       '30130_raw-Monocyte_count', '30140_raw-Neutrophill_count',\n",
       "       '30150-Eosinophill_count', '30180_raw-Lymphocyte_percentage',\n",
       "       '30190_raw-Monocyte_percentage', '30200_raw-Neutrophill_percentage',\n",
       "       '30210_raw-Eosinophill_percentage', 'eosinophil count',\n",
       "       'granulocyte count', 'leukocyte count', 'monocyte count',\n",
       "       'myeloid white cell count', 'neutrophil count'],\n",
       "      dtype='object')"
      ]
     },
     "metadata": {},
     "output_type": "display_data"
    },
    {
     "data": {
      "text/html": [
       "<h3>Cluster 14.9</h3>"
      ],
      "text/plain": [
       "<IPython.core.display.HTML object>"
      ]
     },
     "metadata": {},
     "output_type": "display_data"
    },
    {
     "data": {
      "text/plain": [
       "6"
      ]
     },
     "metadata": {},
     "output_type": "display_data"
    },
    {
     "data": {
      "text/plain": [
       "Index(['30240_raw-Reticulocyte_percentage', '30250_raw-Reticulocyte_count',\n",
       "       '30280_raw-Immature_reticulocyte_fraction',\n",
       "       '30290_raw-High_light_scatter_reticulocyte_percentage',\n",
       "       '30300_raw-High_light_scatter_reticulocyte_count',\n",
       "       'reticulocyte count'],\n",
       "      dtype='object')"
      ]
     },
     "metadata": {},
     "output_type": "display_data"
    },
    {
     "data": {
      "text/html": [
       "<h3>Cluster 14.10</h3>"
      ],
      "text/plain": [
       "<IPython.core.display.HTML object>"
      ]
     },
     "metadata": {},
     "output_type": "display_data"
    },
    {
     "data": {
      "text/plain": [
       "6"
      ]
     },
     "metadata": {},
     "output_type": "display_data"
    },
    {
     "data": {
      "text/plain": [
       "Index(['4079_raw-Diastolic_blood_pressure_automated_reading',\n",
       "       '4080_raw-Systolic_blood_pressure_automated_reading',\n",
       "       '6150_100-Vascularheart_problems_diagnosed_by_doctor_None_of_the_above',\n",
       "       '6150_4-Vascularheart_problems_diagnosed_by_doctor_High_blood_pressure',\n",
       "       '6153_2-Medication_for_cholesterol_blood_pressure_diabetes_or_take_exogenous_hormones_Blood_pressure_medication',\n",
       "       'hypertension'],\n",
       "      dtype='object')"
      ]
     },
     "metadata": {},
     "output_type": "display_data"
    },
    {
     "data": {
      "text/html": [
       "<h3>Cluster 14.11</h3>"
      ],
      "text/plain": [
       "<IPython.core.display.HTML object>"
      ]
     },
     "metadata": {},
     "output_type": "display_data"
    },
    {
     "data": {
      "text/plain": [
       "13"
      ]
     },
     "metadata": {},
     "output_type": "display_data"
    },
    {
     "data": {
      "text/plain": [
       "Index(['23101_raw-Whole_body_fatfree_mass', '23102_raw-Whole_body_water_mass',\n",
       "       '23105_raw-Basal_metabolic_rate', '23113_raw-Leg_fatfree_mass_right',\n",
       "       '23114_raw-Leg_predicted_mass_right', '23117_raw-Leg_fatfree_mass_left',\n",
       "       '23118_raw-Leg_predicted_mass_left', '23121_raw-Arm_fatfree_mass_right',\n",
       "       '23122_raw-Arm_predicted_mass_right', '23125_raw-Arm_fatfree_mass_left',\n",
       "       '23126_raw-Arm_predicted_mass_left', '23129_raw-Trunk_fatfree_mass',\n",
       "       '23130_raw-Trunk_predicted_mass'],\n",
       "      dtype='object')"
      ]
     },
     "metadata": {},
     "output_type": "display_data"
    },
    {
     "data": {
      "text/html": [
       "<h3>Cluster 14.12</h3>"
      ],
      "text/plain": [
       "<IPython.core.display.HTML object>"
      ]
     },
     "metadata": {},
     "output_type": "display_data"
    },
    {
     "data": {
      "text/plain": [
       "18"
      ]
     },
     "metadata": {},
     "output_type": "display_data"
    },
    {
     "data": {
      "text/plain": [
       "Index(['21001_raw-Body_mass_index_BMI', '21002_raw-Weight', '23098_raw-Weight',\n",
       "       '23099_raw-Body_fat_percentage', '23100_raw-Whole_body_fat_mass',\n",
       "       '23104_raw-Body_mass_index_BMI', '23111_raw-Leg_fat_percentage_right',\n",
       "       '23112_raw-Leg_fat_mass_right', '23115_raw-Leg_fat_percentage_left',\n",
       "       '23116_raw-Leg_fat_mass_left', '23119_raw-Arm_fat_percentage_right',\n",
       "       '23120_raw-Arm_fat_mass_right', '23123_raw-Arm_fat_percentage_left',\n",
       "       '23124_raw-Arm_fat_mass_left', '23127_raw-Trunk_fat_percentage',\n",
       "       '23128_raw-Trunk_fat_mass', '48_raw-Waist_circumference',\n",
       "       '49_raw-Hip_circumference'],\n",
       "      dtype='object')"
      ]
     },
     "metadata": {},
     "output_type": "display_data"
    },
    {
     "data": {
      "text/html": [
       "<h3>Cluster 14.13</h3>"
      ],
      "text/plain": [
       "<IPython.core.display.HTML object>"
      ]
     },
     "metadata": {},
     "output_type": "display_data"
    },
    {
     "data": {
      "text/plain": [
       "8"
      ]
     },
     "metadata": {},
     "output_type": "display_data"
    },
    {
     "data": {
      "text/plain": [
       "Index(['1717-Skin_colour', '1727-Ease_of_skin_tanning',\n",
       "       '1737-Childhood_sunburn_occasions',\n",
       "       '1747_1-Hair_colour_natural_before_greying_Blonde',\n",
       "       '1747_2-Hair_colour_natural_before_greying_Red',\n",
       "       '1747_3-Hair_colour_natural_before_greying_Light_brown',\n",
       "       '1747_4-Hair_colour_natural_before_greying_Dark_brown',\n",
       "       '1747_5-Hair_colour_natural_before_greying_Black'],\n",
       "      dtype='object')"
      ]
     },
     "metadata": {},
     "output_type": "display_data"
    },
    {
     "data": {
      "text/html": [
       "<h2>Partition with k=16</h2>"
      ],
      "text/plain": [
       "<IPython.core.display.HTML object>"
      ]
     },
     "metadata": {},
     "output_type": "display_data"
    },
    {
     "data": {
      "text/plain": [
       "method                              eac_average_coassoc_matrix\n",
       "partition    [2, 2, 2, 2, 2, 2, 2, 2, 2, 2, 2, 2, 2, 2, 2, ...\n",
       "ami_mean                                              0.279655\n",
       "selected                                                  True\n",
       "Name: 16, dtype: object"
      ]
     },
     "metadata": {},
     "output_type": "display_data"
    },
    {
     "data": {
      "text/plain": [
       "(3749,)"
      ]
     },
     "metadata": {},
     "output_type": "display_data"
    },
    {
     "data": {
      "text/plain": [
       "2     2976\n",
       "0      212\n",
       "6      185\n",
       "12     145\n",
       "3       41\n",
       "4       39\n",
       "15      35\n",
       "14      22\n",
       "1       20\n",
       "13      15\n",
       "8       15\n",
       "11      12\n",
       "5       12\n",
       "9        8\n",
       "7        6\n",
       "10       6\n",
       "dtype: int64"
      ]
     },
     "metadata": {},
     "output_type": "display_data"
    },
    {
     "data": {
      "text/html": [
       "<h3>Cluster 16.0</h3>"
      ],
      "text/plain": [
       "<IPython.core.display.HTML object>"
      ]
     },
     "metadata": {},
     "output_type": "display_data"
    },
    {
     "data": {
      "text/plain": [
       "212"
      ]
     },
     "metadata": {},
     "output_type": "display_data"
    },
    {
     "data": {
      "text/plain": [
       "Index(['1021-Duration_of_light_DIY', '1031-Frequency_of_friendfamily_visits',\n",
       "       '1120-Weekly_usage_of_mobile_phone_in_last_3_months',\n",
       "       '1150_1-Usual_side_of_head_for_mobile_phone_use_Left',\n",
       "       '1150_2-Usual_side_of_head_for_mobile_phone_use_Right',\n",
       "       '1359-Poultry_intake', '1418_2-Milk_type_used_Semiskimmed',\n",
       "       '1418_3-Milk_type_used_Skimmed',\n",
       "       '1428_1-Spread_type_Butterspreadable_butter',\n",
       "       '1428_3-Spread_type_Other_type_of_spreadmargarine',\n",
       "       ...\n",
       "       'osteoporosis', 'parkinson's disease', 'prostate carcinoma',\n",
       "       'seeing a psychiatrist for nerves, anxiety, tension or depression, self-reported',\n",
       "       'shortness of breath', 'unipolar depression', 'uterine prolapse',\n",
       "       'varicose veins', 'vestibular disease',\n",
       "       'wellbeing measurement AND family relationship'],\n",
       "      dtype='object', length=212)"
      ]
     },
     "metadata": {},
     "output_type": "display_data"
    },
    {
     "data": {
      "text/html": [
       "<h3>Cluster 16.1</h3>"
      ],
      "text/plain": [
       "<IPython.core.display.HTML object>"
      ]
     },
     "metadata": {},
     "output_type": "display_data"
    },
    {
     "data": {
      "text/plain": [
       "20"
      ]
     },
     "metadata": {},
     "output_type": "display_data"
    },
    {
     "data": {
      "text/plain": [
       "Index(['30010_raw-Red_blood_cell_erythrocyte_count',\n",
       "       '30020_raw-Haemoglobin_concentration',\n",
       "       '30030_raw-Haematocrit_percentage', '30040_raw-Mean_corpuscular_volume',\n",
       "       '30050_raw-Mean_corpuscular_haemoglobin',\n",
       "       '30070_raw-Red_blood_cell_erythrocyte_distribution_width',\n",
       "       '30080_raw-Platelet_count', '30090_raw-Platelet_crit',\n",
       "       '30100_raw-Mean_platelet_thrombocyte_volume',\n",
       "       '30110_raw-Platelet_distribution_width',\n",
       "       '30240_raw-Reticulocyte_percentage', '30250_raw-Reticulocyte_count',\n",
       "       '30260_raw-Mean_reticulocyte_volume',\n",
       "       '30270_raw-Mean_sphered_cell_volume',\n",
       "       '30280_raw-Immature_reticulocyte_fraction',\n",
       "       '30290_raw-High_light_scatter_reticulocyte_percentage',\n",
       "       '30300_raw-High_light_scatter_reticulocyte_count', 'erythrocyte count',\n",
       "       'platelet count', 'reticulocyte count'],\n",
       "      dtype='object')"
      ]
     },
     "metadata": {},
     "output_type": "display_data"
    },
    {
     "data": {
      "text/html": [
       "<h3>Cluster 16.2</h3>"
      ],
      "text/plain": [
       "<IPython.core.display.HTML object>"
      ]
     },
     "metadata": {},
     "output_type": "display_data"
    },
    {
     "data": {
      "text/plain": [
       "2976"
      ]
     },
     "metadata": {},
     "output_type": "display_data"
    },
    {
     "data": {
      "text/plain": [
       "Index(['100001_raw-Food_weight', '100002_raw-Energy', '100003_raw-Protein',\n",
       "       '100004_raw-Fat', '100005_raw-Carbohydrate', '100006_raw-Saturated_fat',\n",
       "       '100007_raw-Polyunsaturated_fat', '100008_raw-Total_sugars',\n",
       "       '100009_raw-Englyst_dietary_fibre', '100010-Portion_size',\n",
       "       ...\n",
       "       'vertigo', 'viral disease', 'viral human hepatitis infection',\n",
       "       'viral meningitis', 'visual impairment', 'vitiligo',\n",
       "       'vitreous body disease', 'vocal cord polyp', 'voice disorders',\n",
       "       'whooping cough'],\n",
       "      dtype='object', length=2976)"
      ]
     },
     "metadata": {},
     "output_type": "display_data"
    },
    {
     "data": {
      "text/html": [
       "<h3>Cluster 16.3</h3>"
      ],
      "text/plain": [
       "<IPython.core.display.HTML object>"
      ]
     },
     "metadata": {},
     "output_type": "display_data"
    },
    {
     "data": {
      "text/plain": [
       "41"
      ]
     },
     "metadata": {},
     "output_type": "display_data"
    },
    {
     "data": {
      "text/plain": [
       "Index(['20015_raw-Sitting_height',\n",
       "       '20153_raw-Forced_expiratory_volume_in_1second_FEV1_predicted',\n",
       "       '21001_raw-Body_mass_index_BMI', '21002_raw-Weight', '23098_raw-Weight',\n",
       "       '23099_raw-Body_fat_percentage', '23100_raw-Whole_body_fat_mass',\n",
       "       '23101_raw-Whole_body_fatfree_mass', '23102_raw-Whole_body_water_mass',\n",
       "       '23104_raw-Body_mass_index_BMI', '23105_raw-Basal_metabolic_rate',\n",
       "       '23106_raw-Impedance_of_whole_body', '23107_raw-Impedance_of_leg_right',\n",
       "       '23108_raw-Impedance_of_leg_left', '23109_raw-Impedance_of_arm_right',\n",
       "       '23110_raw-Impedance_of_arm_left', '23111_raw-Leg_fat_percentage_right',\n",
       "       '23112_raw-Leg_fat_mass_right', '23113_raw-Leg_fatfree_mass_right',\n",
       "       '23114_raw-Leg_predicted_mass_right',\n",
       "       '23115_raw-Leg_fat_percentage_left', '23116_raw-Leg_fat_mass_left',\n",
       "       '23117_raw-Leg_fatfree_mass_left', '23118_raw-Leg_predicted_mass_left',\n",
       "       '23119_raw-Arm_fat_percentage_right', '23120_raw-Arm_fat_mass_right',\n",
       "       '23121_raw-Arm_fatfree_mass_right',\n",
       "       '23122_raw-Arm_predicted_mass_right',\n",
       "       '23123_raw-Arm_fat_percentage_left', '23124_raw-Arm_fat_mass_left',\n",
       "       '23125_raw-Arm_fatfree_mass_left', '23126_raw-Arm_predicted_mass_left',\n",
       "       '23127_raw-Trunk_fat_percentage', '23128_raw-Trunk_fat_mass',\n",
       "       '23129_raw-Trunk_fatfree_mass', '23130_raw-Trunk_predicted_mass',\n",
       "       '3143_raw-Ankle_spacing_width', '48_raw-Waist_circumference',\n",
       "       '49_raw-Hip_circumference', '50_raw-Standing_height', 'body height'],\n",
       "      dtype='object')"
      ]
     },
     "metadata": {},
     "output_type": "display_data"
    },
    {
     "data": {
      "text/html": [
       "<h3>Cluster 16.4</h3>"
      ],
      "text/plain": [
       "<IPython.core.display.HTML object>"
      ]
     },
     "metadata": {},
     "output_type": "display_data"
    },
    {
     "data": {
      "text/plain": [
       "39"
      ]
     },
     "metadata": {},
     "output_type": "display_data"
    },
    {
     "data": {
      "text/plain": [
       "Index(['1448_4-Bread_type_Other_type_of_bread',\n",
       "       '20003_1140869848-Treatmentmedication_code_methotrexate',\n",
       "       '20003_1140870422-Treatmentmedication_code_folic_acid_product',\n",
       "       '20003_1140874866-Treatmentmedication_code_carbimazole',\n",
       "       '20003_1140883066-Treatmentmedication_code_insulin_product',\n",
       "       '20003_1140884516-Treatmentmedication_code_thyroxine_product',\n",
       "       '20003_1141179992-Treatmentmedication_code_dovobet_ointment',\n",
       "       '20003_1141191044-Treatmentmedication_code_levothyroxine_sodium',\n",
       "       '2976_raw-Age_diabetes_diagnosed',\n",
       "       '2986-Started_insulin_within_one_year_diagnosis_of_diabetes',\n",
       "       '6144_3-Never_eat_eggs_dairy_wheat_sugar_Wheat_products',\n",
       "       '6153_3-Medication_for_cholesterol_blood_pressure_diabetes_or_take_exogenous_hormones_Insulin',\n",
       "       '6177_3-Medication_for_cholesterol_blood_pressure_or_diabetes_Insulin',\n",
       "       'DM_KETOACIDOSIS-Diabetic_ketoacidosis',\n",
       "       'DM_RETINOPAT_NOS-Unclassified_diabetic_retinopathy',\n",
       "       'E4_DM1-Type_1_diabetes',\n",
       "       'E4_DM1KETO-Type_1_diabetes_with_ketoacidosis',\n",
       "       'E4_DM1NOCOMP-Type_1_diabetes_without_complications',\n",
       "       'E4_DM1OPTH-Type_1_diabetes_with_ophthalmic_complications',\n",
       "       'K11_COELIAC-Coeliac_disease', 'K11_GIBLEEDING-GIbleeding',\n",
       "       'K11_OTHDIG-Other_diseases_of_the_digestive_system',\n",
       "       'M13_POLYARTHROPATHIES-Polyarthropathies',\n",
       "       'M13_RHEUMA-Rheumatoid_arthritis',\n",
       "       'RHEUMA_NOS-Otherunspecified_rheumatoid_arthritis',\n",
       "       'RHEUMA_SEROPOS-Seropositive_rheumatoid_arthritis',\n",
       "       'RHEUMA_SEROPOS_OTH-Otherunspecified_seropositiverheumatoid_arthritis',\n",
       "       'STILL_ADULT-Adultonset_Still_disease', 'ankylosing spondylitis',\n",
       "       'celiac disease', 'hematuria', 'hyperthyroidism AND thyrotoxicosis',\n",
       "       'hypothyroidism AND myxedema', 'malabsorption syndrome', 'psoriasis',\n",
       "       'psoriatic arthritis', 'rheumatoid arthritis',\n",
       "       'systemic lupus erythematosus', 'type i diabetes mellitus'],\n",
       "      dtype='object')"
      ]
     },
     "metadata": {},
     "output_type": "display_data"
    },
    {
     "data": {
      "text/html": [
       "<h3>Cluster 16.5</h3>"
      ],
      "text/plain": [
       "<IPython.core.display.HTML object>"
      ]
     },
     "metadata": {},
     "output_type": "display_data"
    },
    {
     "data": {
      "text/plain": [
       "12"
      ]
     },
     "metadata": {},
     "output_type": "display_data"
    },
    {
     "data": {
      "text/plain": [
       "Index(['102_raw-Pulse_rate_automated_reading',\n",
       "       '20150_raw-Forced_expiratory_volume_in_1second_FEV1_Best_measure',\n",
       "       '20151_raw-Forced_vital_capacity_FVC_Best_measure',\n",
       "       '2395_1-Hairbalding_pattern_Pattern_1',\n",
       "       '3062_raw-Forced_vital_capacity_FVC',\n",
       "       '3063_raw-Forced_expiratory_volume_in_1second_FEV1',\n",
       "       '3064_raw-Peak_expiratory_flow_PEF',\n",
       "       '4100_raw-Ankle_spacing_width_left',\n",
       "       '4119_raw-Ankle_spacing_width_right', '46_raw-Hand_grip_strength_left',\n",
       "       '47_raw-Hand_grip_strength_right', 'inflammatory bowel disease'],\n",
       "      dtype='object')"
      ]
     },
     "metadata": {},
     "output_type": "display_data"
    },
    {
     "data": {
      "text/html": [
       "<h3>Cluster 16.6</h3>"
      ],
      "text/plain": [
       "<IPython.core.display.HTML object>"
      ]
     },
     "metadata": {},
     "output_type": "display_data"
    },
    {
     "data": {
      "text/plain": [
       "185"
      ]
     },
     "metadata": {},
     "output_type": "display_data"
    },
    {
     "data": {
      "text/plain": [
       "Index(['129_raw-Place_of_birth_in_UK_north_coordinate',\n",
       "       '130_raw-Place_of_birth_in_UK_east_coordinate',\n",
       "       '20003_1140861998-Treatmentmedication_code_ventolin_100micrograms_inhaler',\n",
       "       '20003_1141176832-Treatmentmedication_code_seretide_50_evohaler',\n",
       "       '20074_raw-Home_location_at_assessment_east_coordinate_rounded',\n",
       "       '20075_raw-Home_location_at_assessment_north_coordinate_rounded',\n",
       "       '20118_11-Home_area_population_density_urban_or_rural_Scotland_Large_Urban_Area',\n",
       "       '22702_raw-Home_location_east_coordinate_rounded',\n",
       "       '22704_raw-Home_location_north_coordinate_rounded',\n",
       "       '30160-Basophill_count',\n",
       "       ...\n",
       "       'transient ischemic attack', 'tuberculosis',\n",
       "       'type ii diabetes mellitus', 'ulcerative colitis',\n",
       "       'urogenital neoplasm', 'urticaria', 'vascular disease', 'vasculitis',\n",
       "       'venous thromboembolism', 'wrist fracture'],\n",
       "      dtype='object', length=185)"
      ]
     },
     "metadata": {},
     "output_type": "display_data"
    },
    {
     "data": {
      "text/html": [
       "<h3>Cluster 16.7</h3>"
      ],
      "text/plain": [
       "<IPython.core.display.HTML object>"
      ]
     },
     "metadata": {},
     "output_type": "display_data"
    },
    {
     "data": {
      "text/plain": [
       "6"
      ]
     },
     "metadata": {},
     "output_type": "display_data"
    },
    {
     "data": {
      "text/plain": [
       "Index(['30060_raw-Mean_corpuscular_haemoglobin_concentration',\n",
       "       '30120_raw-Lymphocyte_count',\n",
       "       '6152_100-Blood_clot_DVT_bronchitis_emphysema_asthma_rhinitis_eczema_allergy_diagnosed_by_doctor_None_of_the_above',\n",
       "       '6152_8-Blood_clot_DVT_bronchitis_emphysema_asthma_rhinitis_eczema_allergy_diagnosed_by_doctor_Asthma',\n",
       "       '6152_9-Blood_clot_DVT_bronchitis_emphysema_asthma_rhinitis_eczema_allergy_diagnosed_by_doctor_Hayfever_allergic_rhinitis_or_eczema',\n",
       "       'asthma'],\n",
       "      dtype='object')"
      ]
     },
     "metadata": {},
     "output_type": "display_data"
    },
    {
     "data": {
      "text/html": [
       "<h3>Cluster 16.8</h3>"
      ],
      "text/plain": [
       "<IPython.core.display.HTML object>"
      ]
     },
     "metadata": {},
     "output_type": "display_data"
    },
    {
     "data": {
      "text/plain": [
       "15"
      ]
     },
     "metadata": {},
     "output_type": "display_data"
    },
    {
     "data": {
      "text/plain": [
       "Index(['EAGLE_Eczema', 'Jones_et_al_2016_Chronotype', 'MAGNETIC_CH2.DB.ratio',\n",
       "       'MAGNETIC_HDL.C', 'MAGNETIC_IDL.TG', 'MAGNETIC_LDL.C',\n",
       "       'alzheimer's disease', 'bone density', 'depressive symptom measurement',\n",
       "       'estrogen-receptor negative breast cancer',\n",
       "       'estrogen-receptor positive breast cancer',\n",
       "       'family history of breast cancer', 'fasting blood glucose measurement',\n",
       "       'fasting blood insulin measurement', 'intracranial volume measurement'],\n",
       "      dtype='object')"
      ]
     },
     "metadata": {},
     "output_type": "display_data"
    },
    {
     "data": {
      "text/html": [
       "<h3>Cluster 16.9</h3>"
      ],
      "text/plain": [
       "<IPython.core.display.HTML object>"
      ]
     },
     "metadata": {},
     "output_type": "display_data"
    },
    {
     "data": {
      "text/plain": [
       "8"
      ]
     },
     "metadata": {},
     "output_type": "display_data"
    },
    {
     "data": {
      "text/plain": [
       "Index(['5096_raw-3mm_weak_meridian_left', '5097_raw-6mm_weak_meridian_left',\n",
       "       '5098_raw-6mm_weak_meridian_right', '5099_raw-3mm_weak_meridian_right',\n",
       "       '5132_raw-3mm_strong_meridian_right',\n",
       "       '5133_raw-6mm_strong_meridian_right',\n",
       "       '5134_raw-6mm_strong_meridian_left',\n",
       "       '5135_raw-3mm_strong_meridian_left'],\n",
       "      dtype='object')"
      ]
     },
     "metadata": {},
     "output_type": "display_data"
    },
    {
     "data": {
      "text/html": [
       "<h3>Cluster 16.10</h3>"
      ],
      "text/plain": [
       "<IPython.core.display.HTML object>"
      ]
     },
     "metadata": {},
     "output_type": "display_data"
    },
    {
     "data": {
      "text/plain": [
       "6"
      ]
     },
     "metadata": {},
     "output_type": "display_data"
    },
    {
     "data": {
      "text/plain": [
       "Index(['40001_C349-Underlying_primary_cause_of_death_ICD10_C349_Bronchus_or_lung_unspecified',\n",
       "       'C3_RESPIRATORY_INTRATHORACIC-Malignant_neoplasm_of_respiratory_system_and_intrathoracic_organs',\n",
       "       'C_BRONCHUS_LUNG-Malignant_neoplasm_of_bronchus_and_lung',\n",
       "       'C_RESPIRATORY_INTRATHORACIC',\n",
       "       'LUNG_CANCER_MESOT-Lung_cancer_and_mesothelioma', 'lung carcinoma'],\n",
       "      dtype='object')"
      ]
     },
     "metadata": {},
     "output_type": "display_data"
    },
    {
     "data": {
      "text/html": [
       "<h3>Cluster 16.11</h3>"
      ],
      "text/plain": [
       "<IPython.core.display.HTML object>"
      ]
     },
     "metadata": {},
     "output_type": "display_data"
    },
    {
     "data": {
      "text/plain": [
       "12"
      ]
     },
     "metadata": {},
     "output_type": "display_data"
    },
    {
     "data": {
      "text/plain": [
       "Index(['3144_raw-Heel_Broadband_ultrasound_attenuation_direct_entry',\n",
       "       '3147_raw-Heel_quantitative_ultrasound_index_QUI_direct_entry',\n",
       "       '3148_raw-Heel_bone_mineral_density_BMD',\n",
       "       '4101_raw-Heel_broadband_ultrasound_attenuation_left',\n",
       "       '4104_raw-Heel_quantitative_ultrasound_index_QUI_direct_entry_left',\n",
       "       '4105_raw-Heel_bone_mineral_density_BMD_left',\n",
       "       '4106_raw-Heel_bone_mineral_density_BMD_Tscore_automated_left',\n",
       "       '4120_raw-Heel_broadband_ultrasound_attenuation_right',\n",
       "       '4123_raw-Heel_quantitative_ultrasound_index_QUI_direct_entry_right',\n",
       "       '4124_raw-Heel_bone_mineral_density_BMD_right',\n",
       "       '4125_raw-Heel_bone_mineral_density_BMD_Tscore_automated_right',\n",
       "       '78_raw-Heel_bone_mineral_density_BMD_Tscore_automated'],\n",
       "      dtype='object')"
      ]
     },
     "metadata": {},
     "output_type": "display_data"
    },
    {
     "data": {
      "text/html": [
       "<h3>Cluster 16.12</h3>"
      ],
      "text/plain": [
       "<IPython.core.display.HTML object>"
      ]
     },
     "metadata": {},
     "output_type": "display_data"
    },
    {
     "data": {
      "text/plain": [
       "145"
      ]
     },
     "metadata": {},
     "output_type": "display_data"
    },
    {
     "data": {
      "text/plain": [
       "Index(['1050-Time_spend_outdoors_in_summer',\n",
       "       '1060-Time_spent_outdoors_in_winter',\n",
       "       '1070-Time_spent_watching_television_TV',\n",
       "       '1080-Time_spent_using_computer',\n",
       "       '1100-Drive_faster_than_motorway_speed_limit',\n",
       "       '1110-Length_of_mobile_phone_use', '1289-Cooked_vegetable_intake',\n",
       "       '1299-Salad_raw_vegetable_intake', '1309-Fresh_fruit_intake',\n",
       "       '1319-Dried_fruit_intake',\n",
       "       ...\n",
       "       'seeing a general practitioner for nerves, anxiety, tension or depression, self-reported',\n",
       "       'self rated health', 'self reported educational attainment',\n",
       "       'sleep duration', 'smoking behavior', 'smoking cessation',\n",
       "       'snoring measurement', 'tiredness measurement', 'wheezing',\n",
       "       'worry measurement'],\n",
       "      dtype='object', length=145)"
      ]
     },
     "metadata": {},
     "output_type": "display_data"
    },
    {
     "data": {
      "text/html": [
       "<h3>Cluster 16.13</h3>"
      ],
      "text/plain": [
       "<IPython.core.display.HTML object>"
      ]
     },
     "metadata": {},
     "output_type": "display_data"
    },
    {
     "data": {
      "text/plain": [
       "15"
      ]
     },
     "metadata": {},
     "output_type": "display_data"
    },
    {
     "data": {
      "text/plain": [
       "Index(['30000_raw-White_blood_cell_leukocyte_count',\n",
       "       '30130_raw-Monocyte_count', '30140_raw-Neutrophill_count',\n",
       "       '30150-Eosinophill_count', '30180_raw-Lymphocyte_percentage',\n",
       "       '30190_raw-Monocyte_percentage', '30200_raw-Neutrophill_percentage',\n",
       "       '30210_raw-Eosinophill_percentage', 'eosinophil count',\n",
       "       'granulocyte count', 'leukocyte count', 'lymphocyte count',\n",
       "       'monocyte count', 'myeloid white cell count', 'neutrophil count'],\n",
       "      dtype='object')"
      ]
     },
     "metadata": {},
     "output_type": "display_data"
    },
    {
     "data": {
      "text/html": [
       "<h3>Cluster 16.14</h3>"
      ],
      "text/plain": [
       "<IPython.core.display.HTML object>"
      ]
     },
     "metadata": {},
     "output_type": "display_data"
    },
    {
     "data": {
      "text/plain": [
       "22"
      ]
     },
     "metadata": {},
     "output_type": "display_data"
    },
    {
     "data": {
      "text/plain": [
       "Index(['1717-Skin_colour', '1727-Ease_of_skin_tanning',\n",
       "       '1737-Childhood_sunburn_occasions',\n",
       "       '1747_1-Hair_colour_natural_before_greying_Blonde',\n",
       "       '1747_2-Hair_colour_natural_before_greying_Red',\n",
       "       '1747_3-Hair_colour_natural_before_greying_Light_brown',\n",
       "       '1747_4-Hair_colour_natural_before_greying_Dark_brown',\n",
       "       '1747_5-Hair_colour_natural_before_greying_Black',\n",
       "       '1747_6-Hair_colour_natural_before_greying_Other',\n",
       "       '20003_1140868170-Treatmentmedication_code_prochlorperazine',\n",
       "       'C3_SKIN-Malignant_neoplasm_of_skin',\n",
       "       'C_MELANOMA_SKIN-Malignant_melanoma_of_skin',\n",
       "       'C_OTHER_SKIN-Other_malignant_neoplasms_of_skin', 'C_SKIN',\n",
       "       'II_NEOPLASM-Neoplasms', 'artificial cardiac pacemaker',\n",
       "       'basal cell carcinoma', 'cutaneous melanoma', 'melanoma',\n",
       "       'number of cancers, self-reported', 'skin neoplasm', 'tooth agenesis'],\n",
       "      dtype='object')"
      ]
     },
     "metadata": {},
     "output_type": "display_data"
    },
    {
     "data": {
      "text/html": [
       "<h3>Cluster 16.15</h3>"
      ],
      "text/plain": [
       "<IPython.core.display.HTML object>"
      ]
     },
     "metadata": {},
     "output_type": "display_data"
    },
    {
     "data": {
      "text/plain": [
       "35"
      ]
     },
     "metadata": {},
     "output_type": "display_data"
    },
    {
     "data": {
      "text/plain": [
       "Index(['20003_1140861958-Treatmentmedication_code_simvastatin',\n",
       "       '20003_1140868226-Treatmentmedication_code_aspirin',\n",
       "       '20003_1140879802-Treatmentmedication_code_amlodipine',\n",
       "       '20003_1141194794-Treatmentmedication_code_bendroflumethiazide',\n",
       "       '2492-Taking_other_prescription_medications',\n",
       "       '4079_raw-Diastolic_blood_pressure_automated_reading',\n",
       "       '4080_raw-Systolic_blood_pressure_automated_reading',\n",
       "       '6150_1-Vascularheart_problems_diagnosed_by_doctor_Heart_attack',\n",
       "       '6150_100-Vascularheart_problems_diagnosed_by_doctor_None_of_the_above',\n",
       "       '6150_2-Vascularheart_problems_diagnosed_by_doctor_Angina',\n",
       "       '6150_4-Vascularheart_problems_diagnosed_by_doctor_High_blood_pressure',\n",
       "       '6153_1-Medication_for_cholesterol_blood_pressure_diabetes_or_take_exogenous_hormones_Cholesterol_lowering_medication',\n",
       "       '6153_100-Medication_for_cholesterol_blood_pressure_diabetes_or_take_exogenous_hormones_None_of_the_above',\n",
       "       '6153_2-Medication_for_cholesterol_blood_pressure_diabetes_or_take_exogenous_hormones_Blood_pressure_medication',\n",
       "       '6154_1-Medication_for_pain_relief_constipation_heartburn_Aspirin',\n",
       "       '6177_1-Medication_for_cholesterol_blood_pressure_or_diabetes_Cholesterol_lowering_medication',\n",
       "       '6177_100-Medication_for_cholesterol_blood_pressure_or_diabetes_None_of_the_above',\n",
       "       '6177_2-Medication_for_cholesterol_blood_pressure_or_diabetes_Blood_pressure_medication',\n",
       "       'I9_CHD-Major_coronary_heart_disease_event',\n",
       "       'I9_CHD_NOREV-Major_coronary_heart_disease_event_excluding_revascularizations',\n",
       "       'I9_CORATHER-Coronary_atherosclerosis',\n",
       "       'I9_IHD-Ischaemic_heart_disease_wide_definition',\n",
       "       'I9_MI-Myocardial_infarction',\n",
       "       'I9_MI_STRICT-Myocardial_infarction_strict',\n",
       "       'I9_UAP-Unstable_angina_pectoris',\n",
       "       'IX_CIRCULATORY-Diseases_of_the_circulatory_system',\n",
       "       'acute myocardial infarction', 'angina pectoris', 'chronic disease',\n",
       "       'coronary artery disease', 'hypercholesterolemia', 'hypertension',\n",
       "       'myocardial infarction',\n",
       "       'number of non-cancer illnesses, self-reported',\n",
       "       'number of treatments or medications taken, self-reported'],\n",
       "      dtype='object')"
      ]
     },
     "metadata": {},
     "output_type": "display_data"
    },
    {
     "data": {
      "text/html": [
       "<h2>Partition with k=17</h2>"
      ],
      "text/plain": [
       "<IPython.core.display.HTML object>"
      ]
     },
     "metadata": {},
     "output_type": "display_data"
    },
    {
     "data": {
      "text/plain": [
       "method                              eac_average_coassoc_matrix\n",
       "partition    [0, 0, 0, 0, 0, 0, 0, 0, 0, 0, 0, 0, 0, 0, 0, ...\n",
       "ami_mean                                              0.280277\n",
       "selected                                                  True\n",
       "Name: 17, dtype: object"
      ]
     },
     "metadata": {},
     "output_type": "display_data"
    },
    {
     "data": {
      "text/plain": [
       "(3749,)"
      ]
     },
     "metadata": {},
     "output_type": "display_data"
    },
    {
     "data": {
      "text/plain": [
       "0     2976\n",
       "6      185\n",
       "12     145\n",
       "2      132\n",
       "3       80\n",
       "7       41\n",
       "4       39\n",
       "15      35\n",
       "14      22\n",
       "1       20\n",
       "13      15\n",
       "8       15\n",
       "5       12\n",
       "11      12\n",
       "9        8\n",
       "10       6\n",
       "16       6\n",
       "dtype: int64"
      ]
     },
     "metadata": {},
     "output_type": "display_data"
    },
    {
     "data": {
      "text/html": [
       "<h3>Cluster 17.0</h3>"
      ],
      "text/plain": [
       "<IPython.core.display.HTML object>"
      ]
     },
     "metadata": {},
     "output_type": "display_data"
    },
    {
     "data": {
      "text/plain": [
       "2976"
      ]
     },
     "metadata": {},
     "output_type": "display_data"
    },
    {
     "data": {
      "text/plain": [
       "Index(['100001_raw-Food_weight', '100002_raw-Energy', '100003_raw-Protein',\n",
       "       '100004_raw-Fat', '100005_raw-Carbohydrate', '100006_raw-Saturated_fat',\n",
       "       '100007_raw-Polyunsaturated_fat', '100008_raw-Total_sugars',\n",
       "       '100009_raw-Englyst_dietary_fibre', '100010-Portion_size',\n",
       "       ...\n",
       "       'vertigo', 'viral disease', 'viral human hepatitis infection',\n",
       "       'viral meningitis', 'visual impairment', 'vitiligo',\n",
       "       'vitreous body disease', 'vocal cord polyp', 'voice disorders',\n",
       "       'whooping cough'],\n",
       "      dtype='object', length=2976)"
      ]
     },
     "metadata": {},
     "output_type": "display_data"
    },
    {
     "data": {
      "text/html": [
       "<h3>Cluster 17.1</h3>"
      ],
      "text/plain": [
       "<IPython.core.display.HTML object>"
      ]
     },
     "metadata": {},
     "output_type": "display_data"
    },
    {
     "data": {
      "text/plain": [
       "20"
      ]
     },
     "metadata": {},
     "output_type": "display_data"
    },
    {
     "data": {
      "text/plain": [
       "Index(['30010_raw-Red_blood_cell_erythrocyte_count',\n",
       "       '30020_raw-Haemoglobin_concentration',\n",
       "       '30030_raw-Haematocrit_percentage', '30040_raw-Mean_corpuscular_volume',\n",
       "       '30050_raw-Mean_corpuscular_haemoglobin',\n",
       "       '30070_raw-Red_blood_cell_erythrocyte_distribution_width',\n",
       "       '30080_raw-Platelet_count', '30090_raw-Platelet_crit',\n",
       "       '30100_raw-Mean_platelet_thrombocyte_volume',\n",
       "       '30110_raw-Platelet_distribution_width',\n",
       "       '30240_raw-Reticulocyte_percentage', '30250_raw-Reticulocyte_count',\n",
       "       '30260_raw-Mean_reticulocyte_volume',\n",
       "       '30270_raw-Mean_sphered_cell_volume',\n",
       "       '30280_raw-Immature_reticulocyte_fraction',\n",
       "       '30290_raw-High_light_scatter_reticulocyte_percentage',\n",
       "       '30300_raw-High_light_scatter_reticulocyte_count', 'erythrocyte count',\n",
       "       'platelet count', 'reticulocyte count'],\n",
       "      dtype='object')"
      ]
     },
     "metadata": {},
     "output_type": "display_data"
    },
    {
     "data": {
      "text/html": [
       "<h3>Cluster 17.2</h3>"
      ],
      "text/plain": [
       "<IPython.core.display.HTML object>"
      ]
     },
     "metadata": {},
     "output_type": "display_data"
    },
    {
     "data": {
      "text/plain": [
       "132"
      ]
     },
     "metadata": {},
     "output_type": "display_data"
    },
    {
     "data": {
      "text/plain": [
       "Index(['1021-Duration_of_light_DIY', '1031-Frequency_of_friendfamily_visits',\n",
       "       '1120-Weekly_usage_of_mobile_phone_in_last_3_months',\n",
       "       '1150_1-Usual_side_of_head_for_mobile_phone_use_Left',\n",
       "       '1150_2-Usual_side_of_head_for_mobile_phone_use_Right',\n",
       "       '1359-Poultry_intake', '1418_2-Milk_type_used_Semiskimmed',\n",
       "       '1418_3-Milk_type_used_Skimmed',\n",
       "       '1428_1-Spread_type_Butterspreadable_butter',\n",
       "       '1428_3-Spread_type_Other_type_of_spreadmargarine',\n",
       "       ...\n",
       "       'nephrolithiasis', 'osteoarthritis', 'osteoarthritis, hip',\n",
       "       'osteoarthritis, knee', 'osteoporosis', 'parkinson's disease',\n",
       "       'prostate carcinoma', 'uterine prolapse', 'varicose veins',\n",
       "       'wellbeing measurement AND family relationship'],\n",
       "      dtype='object', length=132)"
      ]
     },
     "metadata": {},
     "output_type": "display_data"
    },
    {
     "data": {
      "text/html": [
       "<h3>Cluster 17.3</h3>"
      ],
      "text/plain": [
       "<IPython.core.display.HTML object>"
      ]
     },
     "metadata": {},
     "output_type": "display_data"
    },
    {
     "data": {
      "text/plain": [
       "80"
      ]
     },
     "metadata": {},
     "output_type": "display_data"
    },
    {
     "data": {
      "text/plain": [
       "Index(['20003_1140868172-Treatmentmedication_code_stemetil_5mg_tablet',\n",
       "       '20126_0-Bipolar_and_major_depression_status_No_Bipolar_or_Depression',\n",
       "       '20126_3-Bipolar_and_major_depression_status_Probable_Recurrent_major_depression_severe',\n",
       "       '20126_4-Bipolar_and_major_depression_status_Probable_Recurrent_major_depression_moderate',\n",
       "       '20126_5-Bipolar_and_major_depression_status_Single_Probable_major_depression_episode',\n",
       "       '20421-Ever_felt_worried_tense_or_anxious_for_most_of_a_month_or_longer',\n",
       "       '20425-Ever_worried_more_than_most_people_would_in_similar_situation',\n",
       "       '20428-Professional_informed_about_anxiety',\n",
       "       '20441-Ever_had_prolonged_loss_of_interest_in_normal_activities',\n",
       "       '20446-Ever_had_prolonged_feelings_of_sadness_or_depression',\n",
       "       '20448-Professional_informed_about_depression',\n",
       "       '20458-General_happiness', '20459-General_happiness_with_own_health',\n",
       "       '20460-Belief_that_own_life_is_meaningful',\n",
       "       '20479-Ever_thought_that_life_not_worth_living',\n",
       "       '20480-Ever_selfharmed', '20485-Ever_contemplated_selfharm',\n",
       "       '20487-Felt_hated_by_family_member_as_a_child',\n",
       "       '20488-Physically_abused_by_family_as_a_child',\n",
       "       '20489-Felt_loved_as_a_child',\n",
       "       '20494-Felt_irritable_or_had_angry_outbursts_in_past_month',\n",
       "       '20495-Avoided_activities_or_situations_because_of_previous_stressful_experience_in_past_month',\n",
       "       '20496-Felt_distant_from_other_people_in_past_month',\n",
       "       '20497-Repeated_disturbing_thoughts_of_stressful_experience_in_past_month',\n",
       "       '20498-Felt_very_upset_when_reminded_of_stressful_experience_in_past_month',\n",
       "       '20499-Ever_sought_or_received_professional_help_for_mental_distress',\n",
       "       '20500-Ever_suffered_mental_distress_preventing_usual_activities',\n",
       "       '20501-Ever_had_period_of_mania_excitability',\n",
       "       '20502-Ever_had_period_extreme_irritability',\n",
       "       '20505-Recent_easy_annoyance_or_irritability',\n",
       "       '20506-Recent_feelings_or_nervousness_or_anxiety',\n",
       "       '20507-Recent_feelings_of_inadequacy',\n",
       "       '20508-Recent_trouble_concentrating_on_things',\n",
       "       '20509-Recent_inability_to_stop_or_control_worrying',\n",
       "       '20510-Recent_feelings_of_depression',\n",
       "       '20511-Recent_poor_appetite_or_overeating',\n",
       "       '20512-Recent_feelings_of_foreboding',\n",
       "       '20513-Recent_thoughts_of_suicide_or_selfharm',\n",
       "       '20514-Recent_lack_of_interest_or_pleasure_in_doing_things',\n",
       "       '20515-Recent_trouble_relaxing', '20516-Recent_restlessness',\n",
       "       '20517-Trouble_falling_or_staying_asleep_or_sleeping_too_much',\n",
       "       '20518-Recent_changes_in_speedamount_of_moving_or_speaking',\n",
       "       '20519-Recent_feelings_of_tiredness_or_low_energy',\n",
       "       '20520-Recent_worrying_too_much_about_different_things',\n",
       "       '20544_11-Mental_health_problems_ever_diagnosed_by_a_professional_Depression',\n",
       "       '20544_15-Mental_health_problems_ever_diagnosed_by_a_professional_Anxiety_nerves_or_generalized_anxiety_disorder',\n",
       "       '20546_3-Substances_taken_for_depression_Medication_prescribed_to_you_for_at_least_two_weeks',\n",
       "       '20547_1-Activities_undertaken_to_treat_depression_Talking_therapies_such_as_psychotherapy_counselling_group_therapy_or_CBT',\n",
       "       '20548_1-Manifestations_of_mania_or_irritability_I_was_more_talkative_than_usual',\n",
       "       '20548_2-Manifestations_of_mania_or_irritability_I_was_more_restless_than_usual',\n",
       "       '20548_3-Manifestations_of_mania_or_irritability_My_thoughts_were_racing',\n",
       "       '20548_5-Manifestations_of_mania_or_irritability_I_needed_less_sleep_than_usual',\n",
       "       '20548_6-Manifestations_of_mania_or_irritability_I_was_more_creative_or_had_more_ideas_than_usual',\n",
       "       '20548_7-Manifestations_of_mania_or_irritability_I_was_easily_distracted',\n",
       "       '20548_8-Manifestations_of_mania_or_irritability_I_was_more_confident_than_usual',\n",
       "       '20548_9-Manifestations_of_mania_or_irritability_I_was_more_active_than_usual',\n",
       "       '20549_3-Substances_taken_for_anxiety_Medication_prescribed_to_you_for_at_least_two_weeks',\n",
       "       '20550_1-Activities_undertaken_to_treat_anxiety_Talking_therapies_such_as_psychotherapy_counselling_group_therapy_or_CBT',\n",
       "       '20553_4-Methods_of_selfharm_used_Ingesting_a_medication_in_excess_of_the_normal_dose',\n",
       "       '20554_1-Actions_taken_following_selfharm_See_anyone_from_psychiatric_or_mental_health_services_including_liaison_services',\n",
       "       '20554_3-Actions_taken_following_selfharm_Need_hospital_treatment_eg_AE',\n",
       "       '20554_5-Actions_taken_following_selfharm_See_own_GP',\n",
       "       '20554_6-Actions_taken_following_selfharm_Receive_help_from_friends_family_neighbours',\n",
       "       '22506_113-Tobacco_smoking_Exsmoker',\n",
       "       '22506_114-Tobacco_smoking_Never_smoked',\n",
       "       '2966_raw-Age_high_blood_pressure_diagnosed',\n",
       "       '6162_3-Types_of_transport_used_excluding_work_Public_transport',\n",
       "       'H8_BPV-Benign_paroxysmal_vertigo', 'H8_MENIERE-Ménière_disease',\n",
       "       'H8_VERTIGO-Disorders_of_vestibular_function_Vertigo',\n",
       "       'HEARTFAIL-Heart_failure', 'I9_HEARTFAIL-Heart_failurestrict',\n",
       "       'I9_HEARTFAIL_NS-Heart_failure_not_strict',\n",
       "       'M13_CERVICALGIA-Cervicalgia', 'heart failure',\n",
       "       'seeing a psychiatrist for nerves, anxiety, tension or depression, self-reported',\n",
       "       'shortness of breath', 'unipolar depression', 'vestibular disease'],\n",
       "      dtype='object')"
      ]
     },
     "metadata": {},
     "output_type": "display_data"
    },
    {
     "data": {
      "text/html": [
       "<h3>Cluster 17.4</h3>"
      ],
      "text/plain": [
       "<IPython.core.display.HTML object>"
      ]
     },
     "metadata": {},
     "output_type": "display_data"
    },
    {
     "data": {
      "text/plain": [
       "39"
      ]
     },
     "metadata": {},
     "output_type": "display_data"
    },
    {
     "data": {
      "text/plain": [
       "Index(['1448_4-Bread_type_Other_type_of_bread',\n",
       "       '20003_1140869848-Treatmentmedication_code_methotrexate',\n",
       "       '20003_1140870422-Treatmentmedication_code_folic_acid_product',\n",
       "       '20003_1140874866-Treatmentmedication_code_carbimazole',\n",
       "       '20003_1140883066-Treatmentmedication_code_insulin_product',\n",
       "       '20003_1140884516-Treatmentmedication_code_thyroxine_product',\n",
       "       '20003_1141179992-Treatmentmedication_code_dovobet_ointment',\n",
       "       '20003_1141191044-Treatmentmedication_code_levothyroxine_sodium',\n",
       "       '2976_raw-Age_diabetes_diagnosed',\n",
       "       '2986-Started_insulin_within_one_year_diagnosis_of_diabetes',\n",
       "       '6144_3-Never_eat_eggs_dairy_wheat_sugar_Wheat_products',\n",
       "       '6153_3-Medication_for_cholesterol_blood_pressure_diabetes_or_take_exogenous_hormones_Insulin',\n",
       "       '6177_3-Medication_for_cholesterol_blood_pressure_or_diabetes_Insulin',\n",
       "       'DM_KETOACIDOSIS-Diabetic_ketoacidosis',\n",
       "       'DM_RETINOPAT_NOS-Unclassified_diabetic_retinopathy',\n",
       "       'E4_DM1-Type_1_diabetes',\n",
       "       'E4_DM1KETO-Type_1_diabetes_with_ketoacidosis',\n",
       "       'E4_DM1NOCOMP-Type_1_diabetes_without_complications',\n",
       "       'E4_DM1OPTH-Type_1_diabetes_with_ophthalmic_complications',\n",
       "       'K11_COELIAC-Coeliac_disease', 'K11_GIBLEEDING-GIbleeding',\n",
       "       'K11_OTHDIG-Other_diseases_of_the_digestive_system',\n",
       "       'M13_POLYARTHROPATHIES-Polyarthropathies',\n",
       "       'M13_RHEUMA-Rheumatoid_arthritis',\n",
       "       'RHEUMA_NOS-Otherunspecified_rheumatoid_arthritis',\n",
       "       'RHEUMA_SEROPOS-Seropositive_rheumatoid_arthritis',\n",
       "       'RHEUMA_SEROPOS_OTH-Otherunspecified_seropositiverheumatoid_arthritis',\n",
       "       'STILL_ADULT-Adultonset_Still_disease', 'ankylosing spondylitis',\n",
       "       'celiac disease', 'hematuria', 'hyperthyroidism AND thyrotoxicosis',\n",
       "       'hypothyroidism AND myxedema', 'malabsorption syndrome', 'psoriasis',\n",
       "       'psoriatic arthritis', 'rheumatoid arthritis',\n",
       "       'systemic lupus erythematosus', 'type i diabetes mellitus'],\n",
       "      dtype='object')"
      ]
     },
     "metadata": {},
     "output_type": "display_data"
    },
    {
     "data": {
      "text/html": [
       "<h3>Cluster 17.5</h3>"
      ],
      "text/plain": [
       "<IPython.core.display.HTML object>"
      ]
     },
     "metadata": {},
     "output_type": "display_data"
    },
    {
     "data": {
      "text/plain": [
       "12"
      ]
     },
     "metadata": {},
     "output_type": "display_data"
    },
    {
     "data": {
      "text/plain": [
       "Index(['102_raw-Pulse_rate_automated_reading',\n",
       "       '20150_raw-Forced_expiratory_volume_in_1second_FEV1_Best_measure',\n",
       "       '20151_raw-Forced_vital_capacity_FVC_Best_measure',\n",
       "       '2395_1-Hairbalding_pattern_Pattern_1',\n",
       "       '3062_raw-Forced_vital_capacity_FVC',\n",
       "       '3063_raw-Forced_expiratory_volume_in_1second_FEV1',\n",
       "       '3064_raw-Peak_expiratory_flow_PEF',\n",
       "       '4100_raw-Ankle_spacing_width_left',\n",
       "       '4119_raw-Ankle_spacing_width_right', '46_raw-Hand_grip_strength_left',\n",
       "       '47_raw-Hand_grip_strength_right', 'inflammatory bowel disease'],\n",
       "      dtype='object')"
      ]
     },
     "metadata": {},
     "output_type": "display_data"
    },
    {
     "data": {
      "text/html": [
       "<h3>Cluster 17.6</h3>"
      ],
      "text/plain": [
       "<IPython.core.display.HTML object>"
      ]
     },
     "metadata": {},
     "output_type": "display_data"
    },
    {
     "data": {
      "text/plain": [
       "185"
      ]
     },
     "metadata": {},
     "output_type": "display_data"
    },
    {
     "data": {
      "text/plain": [
       "Index(['129_raw-Place_of_birth_in_UK_north_coordinate',\n",
       "       '130_raw-Place_of_birth_in_UK_east_coordinate',\n",
       "       '20003_1140861998-Treatmentmedication_code_ventolin_100micrograms_inhaler',\n",
       "       '20003_1141176832-Treatmentmedication_code_seretide_50_evohaler',\n",
       "       '20074_raw-Home_location_at_assessment_east_coordinate_rounded',\n",
       "       '20075_raw-Home_location_at_assessment_north_coordinate_rounded',\n",
       "       '20118_11-Home_area_population_density_urban_or_rural_Scotland_Large_Urban_Area',\n",
       "       '22702_raw-Home_location_east_coordinate_rounded',\n",
       "       '22704_raw-Home_location_north_coordinate_rounded',\n",
       "       '30160-Basophill_count',\n",
       "       ...\n",
       "       'transient ischemic attack', 'tuberculosis',\n",
       "       'type ii diabetes mellitus', 'ulcerative colitis',\n",
       "       'urogenital neoplasm', 'urticaria', 'vascular disease', 'vasculitis',\n",
       "       'venous thromboembolism', 'wrist fracture'],\n",
       "      dtype='object', length=185)"
      ]
     },
     "metadata": {},
     "output_type": "display_data"
    },
    {
     "data": {
      "text/html": [
       "<h3>Cluster 17.7</h3>"
      ],
      "text/plain": [
       "<IPython.core.display.HTML object>"
      ]
     },
     "metadata": {},
     "output_type": "display_data"
    },
    {
     "data": {
      "text/plain": [
       "41"
      ]
     },
     "metadata": {},
     "output_type": "display_data"
    },
    {
     "data": {
      "text/plain": [
       "Index(['20015_raw-Sitting_height',\n",
       "       '20153_raw-Forced_expiratory_volume_in_1second_FEV1_predicted',\n",
       "       '21001_raw-Body_mass_index_BMI', '21002_raw-Weight', '23098_raw-Weight',\n",
       "       '23099_raw-Body_fat_percentage', '23100_raw-Whole_body_fat_mass',\n",
       "       '23101_raw-Whole_body_fatfree_mass', '23102_raw-Whole_body_water_mass',\n",
       "       '23104_raw-Body_mass_index_BMI', '23105_raw-Basal_metabolic_rate',\n",
       "       '23106_raw-Impedance_of_whole_body', '23107_raw-Impedance_of_leg_right',\n",
       "       '23108_raw-Impedance_of_leg_left', '23109_raw-Impedance_of_arm_right',\n",
       "       '23110_raw-Impedance_of_arm_left', '23111_raw-Leg_fat_percentage_right',\n",
       "       '23112_raw-Leg_fat_mass_right', '23113_raw-Leg_fatfree_mass_right',\n",
       "       '23114_raw-Leg_predicted_mass_right',\n",
       "       '23115_raw-Leg_fat_percentage_left', '23116_raw-Leg_fat_mass_left',\n",
       "       '23117_raw-Leg_fatfree_mass_left', '23118_raw-Leg_predicted_mass_left',\n",
       "       '23119_raw-Arm_fat_percentage_right', '23120_raw-Arm_fat_mass_right',\n",
       "       '23121_raw-Arm_fatfree_mass_right',\n",
       "       '23122_raw-Arm_predicted_mass_right',\n",
       "       '23123_raw-Arm_fat_percentage_left', '23124_raw-Arm_fat_mass_left',\n",
       "       '23125_raw-Arm_fatfree_mass_left', '23126_raw-Arm_predicted_mass_left',\n",
       "       '23127_raw-Trunk_fat_percentage', '23128_raw-Trunk_fat_mass',\n",
       "       '23129_raw-Trunk_fatfree_mass', '23130_raw-Trunk_predicted_mass',\n",
       "       '3143_raw-Ankle_spacing_width', '48_raw-Waist_circumference',\n",
       "       '49_raw-Hip_circumference', '50_raw-Standing_height', 'body height'],\n",
       "      dtype='object')"
      ]
     },
     "metadata": {},
     "output_type": "display_data"
    },
    {
     "data": {
      "text/html": [
       "<h3>Cluster 17.8</h3>"
      ],
      "text/plain": [
       "<IPython.core.display.HTML object>"
      ]
     },
     "metadata": {},
     "output_type": "display_data"
    },
    {
     "data": {
      "text/plain": [
       "15"
      ]
     },
     "metadata": {},
     "output_type": "display_data"
    },
    {
     "data": {
      "text/plain": [
       "Index(['EAGLE_Eczema', 'Jones_et_al_2016_Chronotype', 'MAGNETIC_CH2.DB.ratio',\n",
       "       'MAGNETIC_HDL.C', 'MAGNETIC_IDL.TG', 'MAGNETIC_LDL.C',\n",
       "       'alzheimer's disease', 'bone density', 'depressive symptom measurement',\n",
       "       'estrogen-receptor negative breast cancer',\n",
       "       'estrogen-receptor positive breast cancer',\n",
       "       'family history of breast cancer', 'fasting blood glucose measurement',\n",
       "       'fasting blood insulin measurement', 'intracranial volume measurement'],\n",
       "      dtype='object')"
      ]
     },
     "metadata": {},
     "output_type": "display_data"
    },
    {
     "data": {
      "text/html": [
       "<h3>Cluster 17.9</h3>"
      ],
      "text/plain": [
       "<IPython.core.display.HTML object>"
      ]
     },
     "metadata": {},
     "output_type": "display_data"
    },
    {
     "data": {
      "text/plain": [
       "8"
      ]
     },
     "metadata": {},
     "output_type": "display_data"
    },
    {
     "data": {
      "text/plain": [
       "Index(['5096_raw-3mm_weak_meridian_left', '5097_raw-6mm_weak_meridian_left',\n",
       "       '5098_raw-6mm_weak_meridian_right', '5099_raw-3mm_weak_meridian_right',\n",
       "       '5132_raw-3mm_strong_meridian_right',\n",
       "       '5133_raw-6mm_strong_meridian_right',\n",
       "       '5134_raw-6mm_strong_meridian_left',\n",
       "       '5135_raw-3mm_strong_meridian_left'],\n",
       "      dtype='object')"
      ]
     },
     "metadata": {},
     "output_type": "display_data"
    },
    {
     "data": {
      "text/html": [
       "<h3>Cluster 17.10</h3>"
      ],
      "text/plain": [
       "<IPython.core.display.HTML object>"
      ]
     },
     "metadata": {},
     "output_type": "display_data"
    },
    {
     "data": {
      "text/plain": [
       "6"
      ]
     },
     "metadata": {},
     "output_type": "display_data"
    },
    {
     "data": {
      "text/plain": [
       "Index(['40001_C349-Underlying_primary_cause_of_death_ICD10_C349_Bronchus_or_lung_unspecified',\n",
       "       'C3_RESPIRATORY_INTRATHORACIC-Malignant_neoplasm_of_respiratory_system_and_intrathoracic_organs',\n",
       "       'C_BRONCHUS_LUNG-Malignant_neoplasm_of_bronchus_and_lung',\n",
       "       'C_RESPIRATORY_INTRATHORACIC',\n",
       "       'LUNG_CANCER_MESOT-Lung_cancer_and_mesothelioma', 'lung carcinoma'],\n",
       "      dtype='object')"
      ]
     },
     "metadata": {},
     "output_type": "display_data"
    },
    {
     "data": {
      "text/html": [
       "<h3>Cluster 17.11</h3>"
      ],
      "text/plain": [
       "<IPython.core.display.HTML object>"
      ]
     },
     "metadata": {},
     "output_type": "display_data"
    },
    {
     "data": {
      "text/plain": [
       "12"
      ]
     },
     "metadata": {},
     "output_type": "display_data"
    },
    {
     "data": {
      "text/plain": [
       "Index(['3144_raw-Heel_Broadband_ultrasound_attenuation_direct_entry',\n",
       "       '3147_raw-Heel_quantitative_ultrasound_index_QUI_direct_entry',\n",
       "       '3148_raw-Heel_bone_mineral_density_BMD',\n",
       "       '4101_raw-Heel_broadband_ultrasound_attenuation_left',\n",
       "       '4104_raw-Heel_quantitative_ultrasound_index_QUI_direct_entry_left',\n",
       "       '4105_raw-Heel_bone_mineral_density_BMD_left',\n",
       "       '4106_raw-Heel_bone_mineral_density_BMD_Tscore_automated_left',\n",
       "       '4120_raw-Heel_broadband_ultrasound_attenuation_right',\n",
       "       '4123_raw-Heel_quantitative_ultrasound_index_QUI_direct_entry_right',\n",
       "       '4124_raw-Heel_bone_mineral_density_BMD_right',\n",
       "       '4125_raw-Heel_bone_mineral_density_BMD_Tscore_automated_right',\n",
       "       '78_raw-Heel_bone_mineral_density_BMD_Tscore_automated'],\n",
       "      dtype='object')"
      ]
     },
     "metadata": {},
     "output_type": "display_data"
    },
    {
     "data": {
      "text/html": [
       "<h3>Cluster 17.12</h3>"
      ],
      "text/plain": [
       "<IPython.core.display.HTML object>"
      ]
     },
     "metadata": {},
     "output_type": "display_data"
    },
    {
     "data": {
      "text/plain": [
       "145"
      ]
     },
     "metadata": {},
     "output_type": "display_data"
    },
    {
     "data": {
      "text/plain": [
       "Index(['1050-Time_spend_outdoors_in_summer',\n",
       "       '1060-Time_spent_outdoors_in_winter',\n",
       "       '1070-Time_spent_watching_television_TV',\n",
       "       '1080-Time_spent_using_computer',\n",
       "       '1100-Drive_faster_than_motorway_speed_limit',\n",
       "       '1110-Length_of_mobile_phone_use', '1289-Cooked_vegetable_intake',\n",
       "       '1299-Salad_raw_vegetable_intake', '1309-Fresh_fruit_intake',\n",
       "       '1319-Dried_fruit_intake',\n",
       "       ...\n",
       "       'seeing a general practitioner for nerves, anxiety, tension or depression, self-reported',\n",
       "       'self rated health', 'self reported educational attainment',\n",
       "       'sleep duration', 'smoking behavior', 'smoking cessation',\n",
       "       'snoring measurement', 'tiredness measurement', 'wheezing',\n",
       "       'worry measurement'],\n",
       "      dtype='object', length=145)"
      ]
     },
     "metadata": {},
     "output_type": "display_data"
    },
    {
     "data": {
      "text/html": [
       "<h3>Cluster 17.13</h3>"
      ],
      "text/plain": [
       "<IPython.core.display.HTML object>"
      ]
     },
     "metadata": {},
     "output_type": "display_data"
    },
    {
     "data": {
      "text/plain": [
       "15"
      ]
     },
     "metadata": {},
     "output_type": "display_data"
    },
    {
     "data": {
      "text/plain": [
       "Index(['30000_raw-White_blood_cell_leukocyte_count',\n",
       "       '30130_raw-Monocyte_count', '30140_raw-Neutrophill_count',\n",
       "       '30150-Eosinophill_count', '30180_raw-Lymphocyte_percentage',\n",
       "       '30190_raw-Monocyte_percentage', '30200_raw-Neutrophill_percentage',\n",
       "       '30210_raw-Eosinophill_percentage', 'eosinophil count',\n",
       "       'granulocyte count', 'leukocyte count', 'lymphocyte count',\n",
       "       'monocyte count', 'myeloid white cell count', 'neutrophil count'],\n",
       "      dtype='object')"
      ]
     },
     "metadata": {},
     "output_type": "display_data"
    },
    {
     "data": {
      "text/html": [
       "<h3>Cluster 17.14</h3>"
      ],
      "text/plain": [
       "<IPython.core.display.HTML object>"
      ]
     },
     "metadata": {},
     "output_type": "display_data"
    },
    {
     "data": {
      "text/plain": [
       "22"
      ]
     },
     "metadata": {},
     "output_type": "display_data"
    },
    {
     "data": {
      "text/plain": [
       "Index(['1717-Skin_colour', '1727-Ease_of_skin_tanning',\n",
       "       '1737-Childhood_sunburn_occasions',\n",
       "       '1747_1-Hair_colour_natural_before_greying_Blonde',\n",
       "       '1747_2-Hair_colour_natural_before_greying_Red',\n",
       "       '1747_3-Hair_colour_natural_before_greying_Light_brown',\n",
       "       '1747_4-Hair_colour_natural_before_greying_Dark_brown',\n",
       "       '1747_5-Hair_colour_natural_before_greying_Black',\n",
       "       '1747_6-Hair_colour_natural_before_greying_Other',\n",
       "       '20003_1140868170-Treatmentmedication_code_prochlorperazine',\n",
       "       'C3_SKIN-Malignant_neoplasm_of_skin',\n",
       "       'C_MELANOMA_SKIN-Malignant_melanoma_of_skin',\n",
       "       'C_OTHER_SKIN-Other_malignant_neoplasms_of_skin', 'C_SKIN',\n",
       "       'II_NEOPLASM-Neoplasms', 'artificial cardiac pacemaker',\n",
       "       'basal cell carcinoma', 'cutaneous melanoma', 'melanoma',\n",
       "       'number of cancers, self-reported', 'skin neoplasm', 'tooth agenesis'],\n",
       "      dtype='object')"
      ]
     },
     "metadata": {},
     "output_type": "display_data"
    },
    {
     "data": {
      "text/html": [
       "<h3>Cluster 17.15</h3>"
      ],
      "text/plain": [
       "<IPython.core.display.HTML object>"
      ]
     },
     "metadata": {},
     "output_type": "display_data"
    },
    {
     "data": {
      "text/plain": [
       "35"
      ]
     },
     "metadata": {},
     "output_type": "display_data"
    },
    {
     "data": {
      "text/plain": [
       "Index(['20003_1140861958-Treatmentmedication_code_simvastatin',\n",
       "       '20003_1140868226-Treatmentmedication_code_aspirin',\n",
       "       '20003_1140879802-Treatmentmedication_code_amlodipine',\n",
       "       '20003_1141194794-Treatmentmedication_code_bendroflumethiazide',\n",
       "       '2492-Taking_other_prescription_medications',\n",
       "       '4079_raw-Diastolic_blood_pressure_automated_reading',\n",
       "       '4080_raw-Systolic_blood_pressure_automated_reading',\n",
       "       '6150_1-Vascularheart_problems_diagnosed_by_doctor_Heart_attack',\n",
       "       '6150_100-Vascularheart_problems_diagnosed_by_doctor_None_of_the_above',\n",
       "       '6150_2-Vascularheart_problems_diagnosed_by_doctor_Angina',\n",
       "       '6150_4-Vascularheart_problems_diagnosed_by_doctor_High_blood_pressure',\n",
       "       '6153_1-Medication_for_cholesterol_blood_pressure_diabetes_or_take_exogenous_hormones_Cholesterol_lowering_medication',\n",
       "       '6153_100-Medication_for_cholesterol_blood_pressure_diabetes_or_take_exogenous_hormones_None_of_the_above',\n",
       "       '6153_2-Medication_for_cholesterol_blood_pressure_diabetes_or_take_exogenous_hormones_Blood_pressure_medication',\n",
       "       '6154_1-Medication_for_pain_relief_constipation_heartburn_Aspirin',\n",
       "       '6177_1-Medication_for_cholesterol_blood_pressure_or_diabetes_Cholesterol_lowering_medication',\n",
       "       '6177_100-Medication_for_cholesterol_blood_pressure_or_diabetes_None_of_the_above',\n",
       "       '6177_2-Medication_for_cholesterol_blood_pressure_or_diabetes_Blood_pressure_medication',\n",
       "       'I9_CHD-Major_coronary_heart_disease_event',\n",
       "       'I9_CHD_NOREV-Major_coronary_heart_disease_event_excluding_revascularizations',\n",
       "       'I9_CORATHER-Coronary_atherosclerosis',\n",
       "       'I9_IHD-Ischaemic_heart_disease_wide_definition',\n",
       "       'I9_MI-Myocardial_infarction',\n",
       "       'I9_MI_STRICT-Myocardial_infarction_strict',\n",
       "       'I9_UAP-Unstable_angina_pectoris',\n",
       "       'IX_CIRCULATORY-Diseases_of_the_circulatory_system',\n",
       "       'acute myocardial infarction', 'angina pectoris', 'chronic disease',\n",
       "       'coronary artery disease', 'hypercholesterolemia', 'hypertension',\n",
       "       'myocardial infarction',\n",
       "       'number of non-cancer illnesses, self-reported',\n",
       "       'number of treatments or medications taken, self-reported'],\n",
       "      dtype='object')"
      ]
     },
     "metadata": {},
     "output_type": "display_data"
    },
    {
     "data": {
      "text/html": [
       "<h3>Cluster 17.16</h3>"
      ],
      "text/plain": [
       "<IPython.core.display.HTML object>"
      ]
     },
     "metadata": {},
     "output_type": "display_data"
    },
    {
     "data": {
      "text/plain": [
       "6"
      ]
     },
     "metadata": {},
     "output_type": "display_data"
    },
    {
     "data": {
      "text/plain": [
       "Index(['30060_raw-Mean_corpuscular_haemoglobin_concentration',\n",
       "       '30120_raw-Lymphocyte_count',\n",
       "       '6152_100-Blood_clot_DVT_bronchitis_emphysema_asthma_rhinitis_eczema_allergy_diagnosed_by_doctor_None_of_the_above',\n",
       "       '6152_8-Blood_clot_DVT_bronchitis_emphysema_asthma_rhinitis_eczema_allergy_diagnosed_by_doctor_Asthma',\n",
       "       '6152_9-Blood_clot_DVT_bronchitis_emphysema_asthma_rhinitis_eczema_allergy_diagnosed_by_doctor_Hayfever_allergic_rhinitis_or_eczema',\n",
       "       'asthma'],\n",
       "      dtype='object')"
      ]
     },
     "metadata": {},
     "output_type": "display_data"
    },
    {
     "data": {
      "text/html": [
       "<h2>Partition with k=18</h2>"
      ],
      "text/plain": [
       "<IPython.core.display.HTML object>"
      ]
     },
     "metadata": {},
     "output_type": "display_data"
    },
    {
     "data": {
      "text/plain": [
       "method                                                 scc_025\n",
       "partition    [0, 0, 0, 0, 0, 0, 0, 0, 0, 0, 0, 0, 0, 0, 0, ...\n",
       "ami_mean                                              0.288659\n",
       "selected                                                  True\n",
       "Name: 18, dtype: object"
      ]
     },
     "metadata": {},
     "output_type": "display_data"
    },
    {
     "data": {
      "text/plain": [
       "(3749,)"
      ]
     },
     "metadata": {},
     "output_type": "display_data"
    },
    {
     "data": {
      "text/plain": [
       "0     3378\n",
       "16     137\n",
       "17     115\n",
       "8       18\n",
       "2       13\n",
       "9       12\n",
       "7       12\n",
       "14      12\n",
       "11       8\n",
       "4        8\n",
       "13       7\n",
       "10       6\n",
       "3        5\n",
       "12       5\n",
       "6        5\n",
       "5        4\n",
       "1        3\n",
       "15       1\n",
       "dtype: int64"
      ]
     },
     "metadata": {},
     "output_type": "display_data"
    },
    {
     "data": {
      "text/html": [
       "<h3>Cluster 18.0</h3>"
      ],
      "text/plain": [
       "<IPython.core.display.HTML object>"
      ]
     },
     "metadata": {},
     "output_type": "display_data"
    },
    {
     "data": {
      "text/plain": [
       "3378"
      ]
     },
     "metadata": {},
     "output_type": "display_data"
    },
    {
     "data": {
      "text/plain": [
       "Index(['100001_raw-Food_weight', '100002_raw-Energy', '100003_raw-Protein',\n",
       "       '100004_raw-Fat', '100005_raw-Carbohydrate', '100006_raw-Saturated_fat',\n",
       "       '100007_raw-Polyunsaturated_fat', '100008_raw-Total_sugars',\n",
       "       '100009_raw-Englyst_dietary_fibre', '100010-Portion_size',\n",
       "       ...\n",
       "       'viral disease', 'viral human hepatitis infection', 'viral meningitis',\n",
       "       'visual impairment', 'vitiligo', 'vitreous body disease',\n",
       "       'vocal cord polyp', 'voice disorders',\n",
       "       'wellbeing measurement AND family relationship', 'whooping cough'],\n",
       "      dtype='object', length=3378)"
      ]
     },
     "metadata": {},
     "output_type": "display_data"
    },
    {
     "data": {
      "text/html": [
       "<h3>Cluster 18.1</h3>"
      ],
      "text/plain": [
       "<IPython.core.display.HTML object>"
      ]
     },
     "metadata": {},
     "output_type": "display_data"
    },
    {
     "data": {
      "text/plain": [
       "3"
      ]
     },
     "metadata": {},
     "output_type": "display_data"
    },
    {
     "data": {
      "text/plain": [
       "Index(['20015_raw-Sitting_height', '50_raw-Standing_height', 'body height'], dtype='object')"
      ]
     },
     "metadata": {},
     "output_type": "display_data"
    },
    {
     "data": {
      "text/html": [
       "<h3>Cluster 18.2</h3>"
      ],
      "text/plain": [
       "<IPython.core.display.HTML object>"
      ]
     },
     "metadata": {},
     "output_type": "display_data"
    },
    {
     "data": {
      "text/plain": [
       "13"
      ]
     },
     "metadata": {},
     "output_type": "display_data"
    },
    {
     "data": {
      "text/plain": [
       "Index(['23101_raw-Whole_body_fatfree_mass', '23102_raw-Whole_body_water_mass',\n",
       "       '23105_raw-Basal_metabolic_rate', '23113_raw-Leg_fatfree_mass_right',\n",
       "       '23114_raw-Leg_predicted_mass_right', '23117_raw-Leg_fatfree_mass_left',\n",
       "       '23118_raw-Leg_predicted_mass_left', '23121_raw-Arm_fatfree_mass_right',\n",
       "       '23122_raw-Arm_predicted_mass_right', '23125_raw-Arm_fatfree_mass_left',\n",
       "       '23126_raw-Arm_predicted_mass_left', '23129_raw-Trunk_fatfree_mass',\n",
       "       '23130_raw-Trunk_predicted_mass'],\n",
       "      dtype='object')"
      ]
     },
     "metadata": {},
     "output_type": "display_data"
    },
    {
     "data": {
      "text/html": [
       "<h3>Cluster 18.3</h3>"
      ],
      "text/plain": [
       "<IPython.core.display.HTML object>"
      ]
     },
     "metadata": {},
     "output_type": "display_data"
    },
    {
     "data": {
      "text/plain": [
       "5"
      ]
     },
     "metadata": {},
     "output_type": "display_data"
    },
    {
     "data": {
      "text/plain": [
       "Index(['23106_raw-Impedance_of_whole_body', '23107_raw-Impedance_of_leg_right',\n",
       "       '23108_raw-Impedance_of_leg_left', '23109_raw-Impedance_of_arm_right',\n",
       "       '23110_raw-Impedance_of_arm_left'],\n",
       "      dtype='object')"
      ]
     },
     "metadata": {},
     "output_type": "display_data"
    },
    {
     "data": {
      "text/html": [
       "<h3>Cluster 18.4</h3>"
      ],
      "text/plain": [
       "<IPython.core.display.HTML object>"
      ]
     },
     "metadata": {},
     "output_type": "display_data"
    },
    {
     "data": {
      "text/plain": [
       "8"
      ]
     },
     "metadata": {},
     "output_type": "display_data"
    },
    {
     "data": {
      "text/plain": [
       "Index(['5096_raw-3mm_weak_meridian_left', '5097_raw-6mm_weak_meridian_left',\n",
       "       '5098_raw-6mm_weak_meridian_right', '5099_raw-3mm_weak_meridian_right',\n",
       "       '5132_raw-3mm_strong_meridian_right',\n",
       "       '5133_raw-6mm_strong_meridian_right',\n",
       "       '5134_raw-6mm_strong_meridian_left',\n",
       "       '5135_raw-3mm_strong_meridian_left'],\n",
       "      dtype='object')"
      ]
     },
     "metadata": {},
     "output_type": "display_data"
    },
    {
     "data": {
      "text/html": [
       "<h3>Cluster 18.5</h3>"
      ],
      "text/plain": [
       "<IPython.core.display.HTML object>"
      ]
     },
     "metadata": {},
     "output_type": "display_data"
    },
    {
     "data": {
      "text/plain": [
       "4"
      ]
     },
     "metadata": {},
     "output_type": "display_data"
    },
    {
     "data": {
      "text/plain": [
       "Index(['30040_raw-Mean_corpuscular_volume',\n",
       "       '30050_raw-Mean_corpuscular_haemoglobin',\n",
       "       '30260_raw-Mean_reticulocyte_volume',\n",
       "       '30270_raw-Mean_sphered_cell_volume'],\n",
       "      dtype='object')"
      ]
     },
     "metadata": {},
     "output_type": "display_data"
    },
    {
     "data": {
      "text/html": [
       "<h3>Cluster 18.6</h3>"
      ],
      "text/plain": [
       "<IPython.core.display.HTML object>"
      ]
     },
     "metadata": {},
     "output_type": "display_data"
    },
    {
     "data": {
      "text/plain": [
       "5"
      ]
     },
     "metadata": {},
     "output_type": "display_data"
    },
    {
     "data": {
      "text/plain": [
       "Index(['30080_raw-Platelet_count', '30090_raw-Platelet_crit',\n",
       "       '30100_raw-Mean_platelet_thrombocyte_volume',\n",
       "       '30110_raw-Platelet_distribution_width', 'platelet count'],\n",
       "      dtype='object')"
      ]
     },
     "metadata": {},
     "output_type": "display_data"
    },
    {
     "data": {
      "text/html": [
       "<h3>Cluster 18.7</h3>"
      ],
      "text/plain": [
       "<IPython.core.display.HTML object>"
      ]
     },
     "metadata": {},
     "output_type": "display_data"
    },
    {
     "data": {
      "text/plain": [
       "12"
      ]
     },
     "metadata": {},
     "output_type": "display_data"
    },
    {
     "data": {
      "text/plain": [
       "Index(['3144_raw-Heel_Broadband_ultrasound_attenuation_direct_entry',\n",
       "       '3147_raw-Heel_quantitative_ultrasound_index_QUI_direct_entry',\n",
       "       '3148_raw-Heel_bone_mineral_density_BMD',\n",
       "       '4101_raw-Heel_broadband_ultrasound_attenuation_left',\n",
       "       '4104_raw-Heel_quantitative_ultrasound_index_QUI_direct_entry_left',\n",
       "       '4105_raw-Heel_bone_mineral_density_BMD_left',\n",
       "       '4106_raw-Heel_bone_mineral_density_BMD_Tscore_automated_left',\n",
       "       '4120_raw-Heel_broadband_ultrasound_attenuation_right',\n",
       "       '4123_raw-Heel_quantitative_ultrasound_index_QUI_direct_entry_right',\n",
       "       '4124_raw-Heel_bone_mineral_density_BMD_right',\n",
       "       '4125_raw-Heel_bone_mineral_density_BMD_Tscore_automated_right',\n",
       "       '78_raw-Heel_bone_mineral_density_BMD_Tscore_automated'],\n",
       "      dtype='object')"
      ]
     },
     "metadata": {},
     "output_type": "display_data"
    },
    {
     "data": {
      "text/html": [
       "<h3>Cluster 18.8</h3>"
      ],
      "text/plain": [
       "<IPython.core.display.HTML object>"
      ]
     },
     "metadata": {},
     "output_type": "display_data"
    },
    {
     "data": {
      "text/plain": [
       "18"
      ]
     },
     "metadata": {},
     "output_type": "display_data"
    },
    {
     "data": {
      "text/plain": [
       "Index(['21001_raw-Body_mass_index_BMI', '21002_raw-Weight', '23098_raw-Weight',\n",
       "       '23099_raw-Body_fat_percentage', '23100_raw-Whole_body_fat_mass',\n",
       "       '23104_raw-Body_mass_index_BMI', '23111_raw-Leg_fat_percentage_right',\n",
       "       '23112_raw-Leg_fat_mass_right', '23115_raw-Leg_fat_percentage_left',\n",
       "       '23116_raw-Leg_fat_mass_left', '23119_raw-Arm_fat_percentage_right',\n",
       "       '23120_raw-Arm_fat_mass_right', '23123_raw-Arm_fat_percentage_left',\n",
       "       '23124_raw-Arm_fat_mass_left', '23127_raw-Trunk_fat_percentage',\n",
       "       '23128_raw-Trunk_fat_mass', '48_raw-Waist_circumference',\n",
       "       '49_raw-Hip_circumference'],\n",
       "      dtype='object')"
      ]
     },
     "metadata": {},
     "output_type": "display_data"
    },
    {
     "data": {
      "text/html": [
       "<h3>Cluster 18.9</h3>"
      ],
      "text/plain": [
       "<IPython.core.display.HTML object>"
      ]
     },
     "metadata": {},
     "output_type": "display_data"
    },
    {
     "data": {
      "text/plain": [
       "12"
      ]
     },
     "metadata": {},
     "output_type": "display_data"
    },
    {
     "data": {
      "text/plain": [
       "Index(['30000_raw-White_blood_cell_leukocyte_count',\n",
       "       '30130_raw-Monocyte_count', '30140_raw-Neutrophill_count',\n",
       "       '30180_raw-Lymphocyte_percentage', '30190_raw-Monocyte_percentage',\n",
       "       '30200_raw-Neutrophill_percentage', 'eosinophil count',\n",
       "       'granulocyte count', 'leukocyte count', 'monocyte count',\n",
       "       'myeloid white cell count', 'neutrophil count'],\n",
       "      dtype='object')"
      ]
     },
     "metadata": {},
     "output_type": "display_data"
    },
    {
     "data": {
      "text/html": [
       "<h3>Cluster 18.10</h3>"
      ],
      "text/plain": [
       "<IPython.core.display.HTML object>"
      ]
     },
     "metadata": {},
     "output_type": "display_data"
    },
    {
     "data": {
      "text/plain": [
       "6"
      ]
     },
     "metadata": {},
     "output_type": "display_data"
    },
    {
     "data": {
      "text/plain": [
       "Index(['30240_raw-Reticulocyte_percentage', '30250_raw-Reticulocyte_count',\n",
       "       '30280_raw-Immature_reticulocyte_fraction',\n",
       "       '30290_raw-High_light_scatter_reticulocyte_percentage',\n",
       "       '30300_raw-High_light_scatter_reticulocyte_count',\n",
       "       'reticulocyte count'],\n",
       "      dtype='object')"
      ]
     },
     "metadata": {},
     "output_type": "display_data"
    },
    {
     "data": {
      "text/html": [
       "<h3>Cluster 18.11</h3>"
      ],
      "text/plain": [
       "<IPython.core.display.HTML object>"
      ]
     },
     "metadata": {},
     "output_type": "display_data"
    },
    {
     "data": {
      "text/plain": [
       "8"
      ]
     },
     "metadata": {},
     "output_type": "display_data"
    },
    {
     "data": {
      "text/plain": [
       "Index(['1717-Skin_colour', '1727-Ease_of_skin_tanning',\n",
       "       '1737-Childhood_sunburn_occasions',\n",
       "       '1747_1-Hair_colour_natural_before_greying_Blonde',\n",
       "       '1747_2-Hair_colour_natural_before_greying_Red',\n",
       "       '1747_3-Hair_colour_natural_before_greying_Light_brown',\n",
       "       '1747_4-Hair_colour_natural_before_greying_Dark_brown',\n",
       "       '1747_5-Hair_colour_natural_before_greying_Black'],\n",
       "      dtype='object')"
      ]
     },
     "metadata": {},
     "output_type": "display_data"
    },
    {
     "data": {
      "text/html": [
       "<h3>Cluster 18.12</h3>"
      ],
      "text/plain": [
       "<IPython.core.display.HTML object>"
      ]
     },
     "metadata": {},
     "output_type": "display_data"
    },
    {
     "data": {
      "text/plain": [
       "5"
      ]
     },
     "metadata": {},
     "output_type": "display_data"
    },
    {
     "data": {
      "text/plain": [
       "Index(['30010_raw-Red_blood_cell_erythrocyte_count',\n",
       "       '30020_raw-Haemoglobin_concentration',\n",
       "       '30030_raw-Haematocrit_percentage',\n",
       "       '30070_raw-Red_blood_cell_erythrocyte_distribution_width',\n",
       "       'erythrocyte count'],\n",
       "      dtype='object')"
      ]
     },
     "metadata": {},
     "output_type": "display_data"
    },
    {
     "data": {
      "text/html": [
       "<h3>Cluster 18.13</h3>"
      ],
      "text/plain": [
       "<IPython.core.display.HTML object>"
      ]
     },
     "metadata": {},
     "output_type": "display_data"
    },
    {
     "data": {
      "text/plain": [
       "7"
      ]
     },
     "metadata": {},
     "output_type": "display_data"
    },
    {
     "data": {
      "text/plain": [
       "Index(['4079_raw-Diastolic_blood_pressure_automated_reading',\n",
       "       '4080_raw-Systolic_blood_pressure_automated_reading',\n",
       "       '6150_100-Vascularheart_problems_diagnosed_by_doctor_None_of_the_above',\n",
       "       '6150_4-Vascularheart_problems_diagnosed_by_doctor_High_blood_pressure',\n",
       "       '6153_2-Medication_for_cholesterol_blood_pressure_diabetes_or_take_exogenous_hormones_Blood_pressure_medication',\n",
       "       '6177_2-Medication_for_cholesterol_blood_pressure_or_diabetes_Blood_pressure_medication',\n",
       "       'hypertension'],\n",
       "      dtype='object')"
      ]
     },
     "metadata": {},
     "output_type": "display_data"
    },
    {
     "data": {
      "text/html": [
       "<h3>Cluster 18.14</h3>"
      ],
      "text/plain": [
       "<IPython.core.display.HTML object>"
      ]
     },
     "metadata": {},
     "output_type": "display_data"
    },
    {
     "data": {
      "text/plain": [
       "12"
      ]
     },
     "metadata": {},
     "output_type": "display_data"
    },
    {
     "data": {
      "text/plain": [
       "Index(['20003_1140883066-Treatmentmedication_code_insulin_product',\n",
       "       '20003_1141191044-Treatmentmedication_code_levothyroxine_sodium',\n",
       "       '2986-Started_insulin_within_one_year_diagnosis_of_diabetes',\n",
       "       '6144_3-Never_eat_eggs_dairy_wheat_sugar_Wheat_products',\n",
       "       'K11_COELIAC-Coeliac_disease', 'celiac disease',\n",
       "       'hyperthyroidism AND thyrotoxicosis', 'hypothyroidism AND myxedema',\n",
       "       'malabsorption syndrome', 'psoriasis', 'rheumatoid arthritis',\n",
       "       'systemic lupus erythematosus'],\n",
       "      dtype='object')"
      ]
     },
     "metadata": {},
     "output_type": "display_data"
    },
    {
     "data": {
      "text/html": [
       "<h3>Cluster 18.15</h3>"
      ],
      "text/plain": [
       "<IPython.core.display.HTML object>"
      ]
     },
     "metadata": {},
     "output_type": "display_data"
    },
    {
     "data": {
      "text/plain": [
       "1"
      ]
     },
     "metadata": {},
     "output_type": "display_data"
    },
    {
     "data": {
      "text/plain": [
       "Index(['20153_raw-Forced_expiratory_volume_in_1second_FEV1_predicted'], dtype='object')"
      ]
     },
     "metadata": {},
     "output_type": "display_data"
    },
    {
     "data": {
      "text/html": [
       "<h3>Cluster 18.16</h3>"
      ],
      "text/plain": [
       "<IPython.core.display.HTML object>"
      ]
     },
     "metadata": {},
     "output_type": "display_data"
    },
    {
     "data": {
      "text/plain": [
       "137"
      ]
     },
     "metadata": {},
     "output_type": "display_data"
    },
    {
     "data": {
      "text/plain": [
       "Index(['129_raw-Place_of_birth_in_UK_north_coordinate',\n",
       "       '130_raw-Place_of_birth_in_UK_east_coordinate',\n",
       "       '20074_raw-Home_location_at_assessment_east_coordinate_rounded',\n",
       "       '20075_raw-Home_location_at_assessment_north_coordinate_rounded',\n",
       "       '20118_11-Home_area_population_density_urban_or_rural_Scotland_Large_Urban_Area',\n",
       "       '22704_raw-Home_location_north_coordinate_rounded',\n",
       "       '2395_1-Hairbalding_pattern_Pattern_1',\n",
       "       '30220_raw-Basophill_percentage', 'abdominal injury',\n",
       "       'abnormal delivery',\n",
       "       ...\n",
       "       'tongue neoplasm', 'transient ischemic attack', 'tuberculosis',\n",
       "       'type ii diabetes mellitus', 'ulcerative colitis',\n",
       "       'urogenital neoplasm', 'urticaria', 'vascular disease', 'vasculitis',\n",
       "       'wrist fracture'],\n",
       "      dtype='object', length=137)"
      ]
     },
     "metadata": {},
     "output_type": "display_data"
    },
    {
     "data": {
      "text/html": [
       "<h3>Cluster 18.17</h3>"
      ],
      "text/plain": [
       "<IPython.core.display.HTML object>"
      ]
     },
     "metadata": {},
     "output_type": "display_data"
    },
    {
     "data": {
      "text/plain": [
       "115"
      ]
     },
     "metadata": {},
     "output_type": "display_data"
    },
    {
     "data": {
      "text/plain": [
       "Index(['102_raw-Pulse_rate_automated_reading',\n",
       "       '1050-Time_spend_outdoors_in_summer',\n",
       "       '1070-Time_spent_watching_television_TV',\n",
       "       '1080-Time_spent_using_computer', '1110-Length_of_mobile_phone_use',\n",
       "       '1299-Salad_raw_vegetable_intake', '1309-Fresh_fruit_intake',\n",
       "       '1319-Dried_fruit_intake', '1329-Oily_fish_intake',\n",
       "       '1408-Cheese_intake',\n",
       "       ...\n",
       "       'seeing a general practitioner for nerves, anxiety, tension or depression, self-reported',\n",
       "       'self rated health', 'self reported educational attainment',\n",
       "       'sleep duration', 'smoking behavior', 'smoking cessation',\n",
       "       'snoring measurement', 'tiredness measurement', 'wheezing',\n",
       "       'worry measurement'],\n",
       "      dtype='object', length=115)"
      ]
     },
     "metadata": {},
     "output_type": "display_data"
    },
    {
     "data": {
      "text/html": [
       "<h2>Partition with k=19</h2>"
      ],
      "text/plain": [
       "<IPython.core.display.HTML object>"
      ]
     },
     "metadata": {},
     "output_type": "display_data"
    },
    {
     "data": {
      "text/plain": [
       "method                              eac_average_coassoc_matrix\n",
       "partition    [2, 2, 2, 2, 2, 2, 2, 2, 2, 3, 2, 2, 2, 2, 2, ...\n",
       "ami_mean                                              0.281137\n",
       "selected                                                  True\n",
       "Name: 19, dtype: object"
      ]
     },
     "metadata": {},
     "output_type": "display_data"
    },
    {
     "data": {
      "text/plain": [
       "(3749,)"
      ]
     },
     "metadata": {},
     "output_type": "display_data"
    },
    {
     "data": {
      "text/plain": [
       "3     2916\n",
       "6      185\n",
       "12     145\n",
       "8      128\n",
       "1       80\n",
       "2       60\n",
       "7       41\n",
       "4       39\n",
       "15      35\n",
       "14      22\n",
       "0       20\n",
       "17      15\n",
       "13      15\n",
       "5       12\n",
       "11      12\n",
       "9        8\n",
       "16       6\n",
       "10       6\n",
       "18       4\n",
       "dtype: int64"
      ]
     },
     "metadata": {},
     "output_type": "display_data"
    },
    {
     "data": {
      "text/html": [
       "<h3>Cluster 19.0</h3>"
      ],
      "text/plain": [
       "<IPython.core.display.HTML object>"
      ]
     },
     "metadata": {},
     "output_type": "display_data"
    },
    {
     "data": {
      "text/plain": [
       "20"
      ]
     },
     "metadata": {},
     "output_type": "display_data"
    },
    {
     "data": {
      "text/plain": [
       "Index(['30010_raw-Red_blood_cell_erythrocyte_count',\n",
       "       '30020_raw-Haemoglobin_concentration',\n",
       "       '30030_raw-Haematocrit_percentage', '30040_raw-Mean_corpuscular_volume',\n",
       "       '30050_raw-Mean_corpuscular_haemoglobin',\n",
       "       '30070_raw-Red_blood_cell_erythrocyte_distribution_width',\n",
       "       '30080_raw-Platelet_count', '30090_raw-Platelet_crit',\n",
       "       '30100_raw-Mean_platelet_thrombocyte_volume',\n",
       "       '30110_raw-Platelet_distribution_width',\n",
       "       '30240_raw-Reticulocyte_percentage', '30250_raw-Reticulocyte_count',\n",
       "       '30260_raw-Mean_reticulocyte_volume',\n",
       "       '30270_raw-Mean_sphered_cell_volume',\n",
       "       '30280_raw-Immature_reticulocyte_fraction',\n",
       "       '30290_raw-High_light_scatter_reticulocyte_percentage',\n",
       "       '30300_raw-High_light_scatter_reticulocyte_count', 'erythrocyte count',\n",
       "       'platelet count', 'reticulocyte count'],\n",
       "      dtype='object')"
      ]
     },
     "metadata": {},
     "output_type": "display_data"
    },
    {
     "data": {
      "text/html": [
       "<h3>Cluster 19.1</h3>"
      ],
      "text/plain": [
       "<IPython.core.display.HTML object>"
      ]
     },
     "metadata": {},
     "output_type": "display_data"
    },
    {
     "data": {
      "text/plain": [
       "80"
      ]
     },
     "metadata": {},
     "output_type": "display_data"
    },
    {
     "data": {
      "text/plain": [
       "Index(['20003_1140868172-Treatmentmedication_code_stemetil_5mg_tablet',\n",
       "       '20126_0-Bipolar_and_major_depression_status_No_Bipolar_or_Depression',\n",
       "       '20126_3-Bipolar_and_major_depression_status_Probable_Recurrent_major_depression_severe',\n",
       "       '20126_4-Bipolar_and_major_depression_status_Probable_Recurrent_major_depression_moderate',\n",
       "       '20126_5-Bipolar_and_major_depression_status_Single_Probable_major_depression_episode',\n",
       "       '20421-Ever_felt_worried_tense_or_anxious_for_most_of_a_month_or_longer',\n",
       "       '20425-Ever_worried_more_than_most_people_would_in_similar_situation',\n",
       "       '20428-Professional_informed_about_anxiety',\n",
       "       '20441-Ever_had_prolonged_loss_of_interest_in_normal_activities',\n",
       "       '20446-Ever_had_prolonged_feelings_of_sadness_or_depression',\n",
       "       '20448-Professional_informed_about_depression',\n",
       "       '20458-General_happiness', '20459-General_happiness_with_own_health',\n",
       "       '20460-Belief_that_own_life_is_meaningful',\n",
       "       '20479-Ever_thought_that_life_not_worth_living',\n",
       "       '20480-Ever_selfharmed', '20485-Ever_contemplated_selfharm',\n",
       "       '20487-Felt_hated_by_family_member_as_a_child',\n",
       "       '20488-Physically_abused_by_family_as_a_child',\n",
       "       '20489-Felt_loved_as_a_child',\n",
       "       '20494-Felt_irritable_or_had_angry_outbursts_in_past_month',\n",
       "       '20495-Avoided_activities_or_situations_because_of_previous_stressful_experience_in_past_month',\n",
       "       '20496-Felt_distant_from_other_people_in_past_month',\n",
       "       '20497-Repeated_disturbing_thoughts_of_stressful_experience_in_past_month',\n",
       "       '20498-Felt_very_upset_when_reminded_of_stressful_experience_in_past_month',\n",
       "       '20499-Ever_sought_or_received_professional_help_for_mental_distress',\n",
       "       '20500-Ever_suffered_mental_distress_preventing_usual_activities',\n",
       "       '20501-Ever_had_period_of_mania_excitability',\n",
       "       '20502-Ever_had_period_extreme_irritability',\n",
       "       '20505-Recent_easy_annoyance_or_irritability',\n",
       "       '20506-Recent_feelings_or_nervousness_or_anxiety',\n",
       "       '20507-Recent_feelings_of_inadequacy',\n",
       "       '20508-Recent_trouble_concentrating_on_things',\n",
       "       '20509-Recent_inability_to_stop_or_control_worrying',\n",
       "       '20510-Recent_feelings_of_depression',\n",
       "       '20511-Recent_poor_appetite_or_overeating',\n",
       "       '20512-Recent_feelings_of_foreboding',\n",
       "       '20513-Recent_thoughts_of_suicide_or_selfharm',\n",
       "       '20514-Recent_lack_of_interest_or_pleasure_in_doing_things',\n",
       "       '20515-Recent_trouble_relaxing', '20516-Recent_restlessness',\n",
       "       '20517-Trouble_falling_or_staying_asleep_or_sleeping_too_much',\n",
       "       '20518-Recent_changes_in_speedamount_of_moving_or_speaking',\n",
       "       '20519-Recent_feelings_of_tiredness_or_low_energy',\n",
       "       '20520-Recent_worrying_too_much_about_different_things',\n",
       "       '20544_11-Mental_health_problems_ever_diagnosed_by_a_professional_Depression',\n",
       "       '20544_15-Mental_health_problems_ever_diagnosed_by_a_professional_Anxiety_nerves_or_generalized_anxiety_disorder',\n",
       "       '20546_3-Substances_taken_for_depression_Medication_prescribed_to_you_for_at_least_two_weeks',\n",
       "       '20547_1-Activities_undertaken_to_treat_depression_Talking_therapies_such_as_psychotherapy_counselling_group_therapy_or_CBT',\n",
       "       '20548_1-Manifestations_of_mania_or_irritability_I_was_more_talkative_than_usual',\n",
       "       '20548_2-Manifestations_of_mania_or_irritability_I_was_more_restless_than_usual',\n",
       "       '20548_3-Manifestations_of_mania_or_irritability_My_thoughts_were_racing',\n",
       "       '20548_5-Manifestations_of_mania_or_irritability_I_needed_less_sleep_than_usual',\n",
       "       '20548_6-Manifestations_of_mania_or_irritability_I_was_more_creative_or_had_more_ideas_than_usual',\n",
       "       '20548_7-Manifestations_of_mania_or_irritability_I_was_easily_distracted',\n",
       "       '20548_8-Manifestations_of_mania_or_irritability_I_was_more_confident_than_usual',\n",
       "       '20548_9-Manifestations_of_mania_or_irritability_I_was_more_active_than_usual',\n",
       "       '20549_3-Substances_taken_for_anxiety_Medication_prescribed_to_you_for_at_least_two_weeks',\n",
       "       '20550_1-Activities_undertaken_to_treat_anxiety_Talking_therapies_such_as_psychotherapy_counselling_group_therapy_or_CBT',\n",
       "       '20553_4-Methods_of_selfharm_used_Ingesting_a_medication_in_excess_of_the_normal_dose',\n",
       "       '20554_1-Actions_taken_following_selfharm_See_anyone_from_psychiatric_or_mental_health_services_including_liaison_services',\n",
       "       '20554_3-Actions_taken_following_selfharm_Need_hospital_treatment_eg_AE',\n",
       "       '20554_5-Actions_taken_following_selfharm_See_own_GP',\n",
       "       '20554_6-Actions_taken_following_selfharm_Receive_help_from_friends_family_neighbours',\n",
       "       '22506_113-Tobacco_smoking_Exsmoker',\n",
       "       '22506_114-Tobacco_smoking_Never_smoked',\n",
       "       '2966_raw-Age_high_blood_pressure_diagnosed',\n",
       "       '6162_3-Types_of_transport_used_excluding_work_Public_transport',\n",
       "       'H8_BPV-Benign_paroxysmal_vertigo', 'H8_MENIERE-Ménière_disease',\n",
       "       'H8_VERTIGO-Disorders_of_vestibular_function_Vertigo',\n",
       "       'HEARTFAIL-Heart_failure', 'I9_HEARTFAIL-Heart_failurestrict',\n",
       "       'I9_HEARTFAIL_NS-Heart_failure_not_strict',\n",
       "       'M13_CERVICALGIA-Cervicalgia', 'heart failure',\n",
       "       'seeing a psychiatrist for nerves, anxiety, tension or depression, self-reported',\n",
       "       'shortness of breath', 'unipolar depression', 'vestibular disease'],\n",
       "      dtype='object')"
      ]
     },
     "metadata": {},
     "output_type": "display_data"
    },
    {
     "data": {
      "text/html": [
       "<h3>Cluster 19.2</h3>"
      ],
      "text/plain": [
       "<IPython.core.display.HTML object>"
      ]
     },
     "metadata": {},
     "output_type": "display_data"
    },
    {
     "data": {
      "text/plain": [
       "60"
      ]
     },
     "metadata": {},
     "output_type": "display_data"
    },
    {
     "data": {
      "text/plain": [
       "Index(['100001_raw-Food_weight', '100002_raw-Energy', '100003_raw-Protein',\n",
       "       '100004_raw-Fat', '100005_raw-Carbohydrate', '100006_raw-Saturated_fat',\n",
       "       '100007_raw-Polyunsaturated_fat', '100008_raw-Total_sugars',\n",
       "       '100009_raw-Englyst_dietary_fibre', '100011_raw-Iron',\n",
       "       '100012_raw-Vitamin_B6', '100013_raw-Vitamin_B12', '100014_raw-Folate',\n",
       "       '100015_raw-Vitamin_C', '100016_raw-Potassium', '100017_raw-Magnesium',\n",
       "       '100018_raw-Retinol', '100019_raw-Carotene', '100021_raw-Vitamin_D',\n",
       "       '100023_raw-Starch', '100024_raw-Calcium', '100025_raw-Vitamin_E',\n",
       "       '102930-Egg_consumers', '103070-Bacon_intake', '103140-Fish_consumer',\n",
       "       '104170-Carrot_intake', '104290-Sweet_pepper_intake',\n",
       "       '1418_1-Milk_type_used_Full_cream',\n",
       "       '20003_1140861138-Treatmentmedication_code_adizem60_mr_tablet',\n",
       "       '20003_1140888092-Treatmentmedication_code_elocon_cream',\n",
       "       '22601_35353268-Job_coding_taxation_accountant_or_adviser_or_consultant_or_practitioner',\n",
       "       '22617_3319-Job_SOC_coding_Protective_service_associate_professionals_nec',\n",
       "       '22617_3535-Job_SOC_coding_Taxation_experts',\n",
       "       '5100_raw-3mm_weak_meridian_angle_right',\n",
       "       '5101_raw-6mm_weak_meridian_angle_right',\n",
       "       '5102_raw-6mm_weak_meridian_angle_left',\n",
       "       '5103_raw-3mm_weak_meridian_angle_left',\n",
       "       '5104_raw-3mm_strong_meridian_angle_left',\n",
       "       '5105_raw-6mm_strong_meridian_angle_left',\n",
       "       '5106_raw-6mm_strong_meridian_angle_right',\n",
       "       '5107_raw-3mm_strong_meridian_angle_right',\n",
       "       '5112_raw-3mm_cylindrical_power_angle_left',\n",
       "       '5113_raw-6mm_cylindrical_power_angle_left',\n",
       "       '5114_raw-6mm_cylindrical_power_angle_right',\n",
       "       '5115_raw-3mm_cylindrical_power_angle_right', '5983_raw-ECG_heart_rate',\n",
       "       '5984_raw-ECG_load', '5986_raw-ECG_phase_time',\n",
       "       '5992-ECG_phase_duration', '5993-ECG_number_of_stages_in_a_phase',\n",
       "       '6020_1-Completion_status_of_test_Fully_completed',\n",
       "       '6020_31-Completion_status_of_test_Participant_wanted_to_stop_early',\n",
       "       '6020_33-Completion_status_of_test_Heart_rate_reached_safety_level',\n",
       "       '6032_raw-Maximum_workload_during_fitness_test',\n",
       "       '6033_raw-Maximum_heart_rate_during_fitness_test',\n",
       "       '6038_raw-Number_of_trend_entries', '6039-Duration_of_fitness_test',\n",
       "       'G6_MONOOTHUNS-Other_and_unsepcified_mononeuropathies_also_in_other_diseases',\n",
       "       'ability to walk or cycle unaided for 10 minutes, self-reported',\n",
       "       'achievement of target heart rate, self-reported'],\n",
       "      dtype='object')"
      ]
     },
     "metadata": {},
     "output_type": "display_data"
    },
    {
     "data": {
      "text/html": [
       "<h3>Cluster 19.3</h3>"
      ],
      "text/plain": [
       "<IPython.core.display.HTML object>"
      ]
     },
     "metadata": {},
     "output_type": "display_data"
    },
    {
     "data": {
      "text/plain": [
       "2916"
      ]
     },
     "metadata": {},
     "output_type": "display_data"
    },
    {
     "data": {
      "text/plain": [
       "Index(['100010-Portion_size', '100022-Alcohol',\n",
       "       '1001-Duration_of_strenuous_sports', '100150-Drinking_water_intake',\n",
       "       '100160-Low_calorie_drink_intake', '100170-Fizzy_drink_intake',\n",
       "       '100190-Orange_juice_intake', '100240-Coffee_consumed',\n",
       "       '100250-Instant_coffee_intake', '100260-Added_milk_to_instant_coffee',\n",
       "       ...\n",
       "       'vertigo', 'viral disease', 'viral human hepatitis infection',\n",
       "       'viral meningitis', 'visual impairment', 'vitiligo',\n",
       "       'vitreous body disease', 'vocal cord polyp', 'voice disorders',\n",
       "       'whooping cough'],\n",
       "      dtype='object', length=2916)"
      ]
     },
     "metadata": {},
     "output_type": "display_data"
    },
    {
     "data": {
      "text/html": [
       "<h3>Cluster 19.4</h3>"
      ],
      "text/plain": [
       "<IPython.core.display.HTML object>"
      ]
     },
     "metadata": {},
     "output_type": "display_data"
    },
    {
     "data": {
      "text/plain": [
       "39"
      ]
     },
     "metadata": {},
     "output_type": "display_data"
    },
    {
     "data": {
      "text/plain": [
       "Index(['1448_4-Bread_type_Other_type_of_bread',\n",
       "       '20003_1140869848-Treatmentmedication_code_methotrexate',\n",
       "       '20003_1140870422-Treatmentmedication_code_folic_acid_product',\n",
       "       '20003_1140874866-Treatmentmedication_code_carbimazole',\n",
       "       '20003_1140883066-Treatmentmedication_code_insulin_product',\n",
       "       '20003_1140884516-Treatmentmedication_code_thyroxine_product',\n",
       "       '20003_1141179992-Treatmentmedication_code_dovobet_ointment',\n",
       "       '20003_1141191044-Treatmentmedication_code_levothyroxine_sodium',\n",
       "       '2976_raw-Age_diabetes_diagnosed',\n",
       "       '2986-Started_insulin_within_one_year_diagnosis_of_diabetes',\n",
       "       '6144_3-Never_eat_eggs_dairy_wheat_sugar_Wheat_products',\n",
       "       '6153_3-Medication_for_cholesterol_blood_pressure_diabetes_or_take_exogenous_hormones_Insulin',\n",
       "       '6177_3-Medication_for_cholesterol_blood_pressure_or_diabetes_Insulin',\n",
       "       'DM_KETOACIDOSIS-Diabetic_ketoacidosis',\n",
       "       'DM_RETINOPAT_NOS-Unclassified_diabetic_retinopathy',\n",
       "       'E4_DM1-Type_1_diabetes',\n",
       "       'E4_DM1KETO-Type_1_diabetes_with_ketoacidosis',\n",
       "       'E4_DM1NOCOMP-Type_1_diabetes_without_complications',\n",
       "       'E4_DM1OPTH-Type_1_diabetes_with_ophthalmic_complications',\n",
       "       'K11_COELIAC-Coeliac_disease', 'K11_GIBLEEDING-GIbleeding',\n",
       "       'K11_OTHDIG-Other_diseases_of_the_digestive_system',\n",
       "       'M13_POLYARTHROPATHIES-Polyarthropathies',\n",
       "       'M13_RHEUMA-Rheumatoid_arthritis',\n",
       "       'RHEUMA_NOS-Otherunspecified_rheumatoid_arthritis',\n",
       "       'RHEUMA_SEROPOS-Seropositive_rheumatoid_arthritis',\n",
       "       'RHEUMA_SEROPOS_OTH-Otherunspecified_seropositiverheumatoid_arthritis',\n",
       "       'STILL_ADULT-Adultonset_Still_disease', 'ankylosing spondylitis',\n",
       "       'celiac disease', 'hematuria', 'hyperthyroidism AND thyrotoxicosis',\n",
       "       'hypothyroidism AND myxedema', 'malabsorption syndrome', 'psoriasis',\n",
       "       'psoriatic arthritis', 'rheumatoid arthritis',\n",
       "       'systemic lupus erythematosus', 'type i diabetes mellitus'],\n",
       "      dtype='object')"
      ]
     },
     "metadata": {},
     "output_type": "display_data"
    },
    {
     "data": {
      "text/html": [
       "<h3>Cluster 19.5</h3>"
      ],
      "text/plain": [
       "<IPython.core.display.HTML object>"
      ]
     },
     "metadata": {},
     "output_type": "display_data"
    },
    {
     "data": {
      "text/plain": [
       "12"
      ]
     },
     "metadata": {},
     "output_type": "display_data"
    },
    {
     "data": {
      "text/plain": [
       "Index(['102_raw-Pulse_rate_automated_reading',\n",
       "       '20150_raw-Forced_expiratory_volume_in_1second_FEV1_Best_measure',\n",
       "       '20151_raw-Forced_vital_capacity_FVC_Best_measure',\n",
       "       '2395_1-Hairbalding_pattern_Pattern_1',\n",
       "       '3062_raw-Forced_vital_capacity_FVC',\n",
       "       '3063_raw-Forced_expiratory_volume_in_1second_FEV1',\n",
       "       '3064_raw-Peak_expiratory_flow_PEF',\n",
       "       '4100_raw-Ankle_spacing_width_left',\n",
       "       '4119_raw-Ankle_spacing_width_right', '46_raw-Hand_grip_strength_left',\n",
       "       '47_raw-Hand_grip_strength_right', 'inflammatory bowel disease'],\n",
       "      dtype='object')"
      ]
     },
     "metadata": {},
     "output_type": "display_data"
    },
    {
     "data": {
      "text/html": [
       "<h3>Cluster 19.6</h3>"
      ],
      "text/plain": [
       "<IPython.core.display.HTML object>"
      ]
     },
     "metadata": {},
     "output_type": "display_data"
    },
    {
     "data": {
      "text/plain": [
       "185"
      ]
     },
     "metadata": {},
     "output_type": "display_data"
    },
    {
     "data": {
      "text/plain": [
       "Index(['129_raw-Place_of_birth_in_UK_north_coordinate',\n",
       "       '130_raw-Place_of_birth_in_UK_east_coordinate',\n",
       "       '20003_1140861998-Treatmentmedication_code_ventolin_100micrograms_inhaler',\n",
       "       '20003_1141176832-Treatmentmedication_code_seretide_50_evohaler',\n",
       "       '20074_raw-Home_location_at_assessment_east_coordinate_rounded',\n",
       "       '20075_raw-Home_location_at_assessment_north_coordinate_rounded',\n",
       "       '20118_11-Home_area_population_density_urban_or_rural_Scotland_Large_Urban_Area',\n",
       "       '22702_raw-Home_location_east_coordinate_rounded',\n",
       "       '22704_raw-Home_location_north_coordinate_rounded',\n",
       "       '30160-Basophill_count',\n",
       "       ...\n",
       "       'transient ischemic attack', 'tuberculosis',\n",
       "       'type ii diabetes mellitus', 'ulcerative colitis',\n",
       "       'urogenital neoplasm', 'urticaria', 'vascular disease', 'vasculitis',\n",
       "       'venous thromboembolism', 'wrist fracture'],\n",
       "      dtype='object', length=185)"
      ]
     },
     "metadata": {},
     "output_type": "display_data"
    },
    {
     "data": {
      "text/html": [
       "<h3>Cluster 19.7</h3>"
      ],
      "text/plain": [
       "<IPython.core.display.HTML object>"
      ]
     },
     "metadata": {},
     "output_type": "display_data"
    },
    {
     "data": {
      "text/plain": [
       "41"
      ]
     },
     "metadata": {},
     "output_type": "display_data"
    },
    {
     "data": {
      "text/plain": [
       "Index(['20015_raw-Sitting_height',\n",
       "       '20153_raw-Forced_expiratory_volume_in_1second_FEV1_predicted',\n",
       "       '21001_raw-Body_mass_index_BMI', '21002_raw-Weight', '23098_raw-Weight',\n",
       "       '23099_raw-Body_fat_percentage', '23100_raw-Whole_body_fat_mass',\n",
       "       '23101_raw-Whole_body_fatfree_mass', '23102_raw-Whole_body_water_mass',\n",
       "       '23104_raw-Body_mass_index_BMI', '23105_raw-Basal_metabolic_rate',\n",
       "       '23106_raw-Impedance_of_whole_body', '23107_raw-Impedance_of_leg_right',\n",
       "       '23108_raw-Impedance_of_leg_left', '23109_raw-Impedance_of_arm_right',\n",
       "       '23110_raw-Impedance_of_arm_left', '23111_raw-Leg_fat_percentage_right',\n",
       "       '23112_raw-Leg_fat_mass_right', '23113_raw-Leg_fatfree_mass_right',\n",
       "       '23114_raw-Leg_predicted_mass_right',\n",
       "       '23115_raw-Leg_fat_percentage_left', '23116_raw-Leg_fat_mass_left',\n",
       "       '23117_raw-Leg_fatfree_mass_left', '23118_raw-Leg_predicted_mass_left',\n",
       "       '23119_raw-Arm_fat_percentage_right', '23120_raw-Arm_fat_mass_right',\n",
       "       '23121_raw-Arm_fatfree_mass_right',\n",
       "       '23122_raw-Arm_predicted_mass_right',\n",
       "       '23123_raw-Arm_fat_percentage_left', '23124_raw-Arm_fat_mass_left',\n",
       "       '23125_raw-Arm_fatfree_mass_left', '23126_raw-Arm_predicted_mass_left',\n",
       "       '23127_raw-Trunk_fat_percentage', '23128_raw-Trunk_fat_mass',\n",
       "       '23129_raw-Trunk_fatfree_mass', '23130_raw-Trunk_predicted_mass',\n",
       "       '3143_raw-Ankle_spacing_width', '48_raw-Waist_circumference',\n",
       "       '49_raw-Hip_circumference', '50_raw-Standing_height', 'body height'],\n",
       "      dtype='object')"
      ]
     },
     "metadata": {},
     "output_type": "display_data"
    },
    {
     "data": {
      "text/html": [
       "<h3>Cluster 19.8</h3>"
      ],
      "text/plain": [
       "<IPython.core.display.HTML object>"
      ]
     },
     "metadata": {},
     "output_type": "display_data"
    },
    {
     "data": {
      "text/plain": [
       "128"
      ]
     },
     "metadata": {},
     "output_type": "display_data"
    },
    {
     "data": {
      "text/plain": [
       "Index(['1021-Duration_of_light_DIY', '1031-Frequency_of_friendfamily_visits',\n",
       "       '1120-Weekly_usage_of_mobile_phone_in_last_3_months',\n",
       "       '1150_1-Usual_side_of_head_for_mobile_phone_use_Left',\n",
       "       '1150_2-Usual_side_of_head_for_mobile_phone_use_Right',\n",
       "       '1359-Poultry_intake', '1418_2-Milk_type_used_Semiskimmed',\n",
       "       '1418_3-Milk_type_used_Skimmed',\n",
       "       '1428_1-Spread_type_Butterspreadable_butter',\n",
       "       '1428_3-Spread_type_Other_type_of_spreadmargarine',\n",
       "       ...\n",
       "       'migraine disorder', 'nephrolithiasis', 'osteoarthritis',\n",
       "       'osteoarthritis, hip', 'osteoarthritis, knee', 'osteoporosis',\n",
       "       'parkinson's disease', 'uterine prolapse', 'varicose veins',\n",
       "       'wellbeing measurement AND family relationship'],\n",
       "      dtype='object', length=128)"
      ]
     },
     "metadata": {},
     "output_type": "display_data"
    },
    {
     "data": {
      "text/html": [
       "<h3>Cluster 19.9</h3>"
      ],
      "text/plain": [
       "<IPython.core.display.HTML object>"
      ]
     },
     "metadata": {},
     "output_type": "display_data"
    },
    {
     "data": {
      "text/plain": [
       "8"
      ]
     },
     "metadata": {},
     "output_type": "display_data"
    },
    {
     "data": {
      "text/plain": [
       "Index(['5096_raw-3mm_weak_meridian_left', '5097_raw-6mm_weak_meridian_left',\n",
       "       '5098_raw-6mm_weak_meridian_right', '5099_raw-3mm_weak_meridian_right',\n",
       "       '5132_raw-3mm_strong_meridian_right',\n",
       "       '5133_raw-6mm_strong_meridian_right',\n",
       "       '5134_raw-6mm_strong_meridian_left',\n",
       "       '5135_raw-3mm_strong_meridian_left'],\n",
       "      dtype='object')"
      ]
     },
     "metadata": {},
     "output_type": "display_data"
    },
    {
     "data": {
      "text/html": [
       "<h3>Cluster 19.10</h3>"
      ],
      "text/plain": [
       "<IPython.core.display.HTML object>"
      ]
     },
     "metadata": {},
     "output_type": "display_data"
    },
    {
     "data": {
      "text/plain": [
       "6"
      ]
     },
     "metadata": {},
     "output_type": "display_data"
    },
    {
     "data": {
      "text/plain": [
       "Index(['40001_C349-Underlying_primary_cause_of_death_ICD10_C349_Bronchus_or_lung_unspecified',\n",
       "       'C3_RESPIRATORY_INTRATHORACIC-Malignant_neoplasm_of_respiratory_system_and_intrathoracic_organs',\n",
       "       'C_BRONCHUS_LUNG-Malignant_neoplasm_of_bronchus_and_lung',\n",
       "       'C_RESPIRATORY_INTRATHORACIC',\n",
       "       'LUNG_CANCER_MESOT-Lung_cancer_and_mesothelioma', 'lung carcinoma'],\n",
       "      dtype='object')"
      ]
     },
     "metadata": {},
     "output_type": "display_data"
    },
    {
     "data": {
      "text/html": [
       "<h3>Cluster 19.11</h3>"
      ],
      "text/plain": [
       "<IPython.core.display.HTML object>"
      ]
     },
     "metadata": {},
     "output_type": "display_data"
    },
    {
     "data": {
      "text/plain": [
       "12"
      ]
     },
     "metadata": {},
     "output_type": "display_data"
    },
    {
     "data": {
      "text/plain": [
       "Index(['3144_raw-Heel_Broadband_ultrasound_attenuation_direct_entry',\n",
       "       '3147_raw-Heel_quantitative_ultrasound_index_QUI_direct_entry',\n",
       "       '3148_raw-Heel_bone_mineral_density_BMD',\n",
       "       '4101_raw-Heel_broadband_ultrasound_attenuation_left',\n",
       "       '4104_raw-Heel_quantitative_ultrasound_index_QUI_direct_entry_left',\n",
       "       '4105_raw-Heel_bone_mineral_density_BMD_left',\n",
       "       '4106_raw-Heel_bone_mineral_density_BMD_Tscore_automated_left',\n",
       "       '4120_raw-Heel_broadband_ultrasound_attenuation_right',\n",
       "       '4123_raw-Heel_quantitative_ultrasound_index_QUI_direct_entry_right',\n",
       "       '4124_raw-Heel_bone_mineral_density_BMD_right',\n",
       "       '4125_raw-Heel_bone_mineral_density_BMD_Tscore_automated_right',\n",
       "       '78_raw-Heel_bone_mineral_density_BMD_Tscore_automated'],\n",
       "      dtype='object')"
      ]
     },
     "metadata": {},
     "output_type": "display_data"
    },
    {
     "data": {
      "text/html": [
       "<h3>Cluster 19.12</h3>"
      ],
      "text/plain": [
       "<IPython.core.display.HTML object>"
      ]
     },
     "metadata": {},
     "output_type": "display_data"
    },
    {
     "data": {
      "text/plain": [
       "145"
      ]
     },
     "metadata": {},
     "output_type": "display_data"
    },
    {
     "data": {
      "text/plain": [
       "Index(['1050-Time_spend_outdoors_in_summer',\n",
       "       '1060-Time_spent_outdoors_in_winter',\n",
       "       '1070-Time_spent_watching_television_TV',\n",
       "       '1080-Time_spent_using_computer',\n",
       "       '1100-Drive_faster_than_motorway_speed_limit',\n",
       "       '1110-Length_of_mobile_phone_use', '1289-Cooked_vegetable_intake',\n",
       "       '1299-Salad_raw_vegetable_intake', '1309-Fresh_fruit_intake',\n",
       "       '1319-Dried_fruit_intake',\n",
       "       ...\n",
       "       'seeing a general practitioner for nerves, anxiety, tension or depression, self-reported',\n",
       "       'self rated health', 'self reported educational attainment',\n",
       "       'sleep duration', 'smoking behavior', 'smoking cessation',\n",
       "       'snoring measurement', 'tiredness measurement', 'wheezing',\n",
       "       'worry measurement'],\n",
       "      dtype='object', length=145)"
      ]
     },
     "metadata": {},
     "output_type": "display_data"
    },
    {
     "data": {
      "text/html": [
       "<h3>Cluster 19.13</h3>"
      ],
      "text/plain": [
       "<IPython.core.display.HTML object>"
      ]
     },
     "metadata": {},
     "output_type": "display_data"
    },
    {
     "data": {
      "text/plain": [
       "15"
      ]
     },
     "metadata": {},
     "output_type": "display_data"
    },
    {
     "data": {
      "text/plain": [
       "Index(['30000_raw-White_blood_cell_leukocyte_count',\n",
       "       '30130_raw-Monocyte_count', '30140_raw-Neutrophill_count',\n",
       "       '30150-Eosinophill_count', '30180_raw-Lymphocyte_percentage',\n",
       "       '30190_raw-Monocyte_percentage', '30200_raw-Neutrophill_percentage',\n",
       "       '30210_raw-Eosinophill_percentage', 'eosinophil count',\n",
       "       'granulocyte count', 'leukocyte count', 'lymphocyte count',\n",
       "       'monocyte count', 'myeloid white cell count', 'neutrophil count'],\n",
       "      dtype='object')"
      ]
     },
     "metadata": {},
     "output_type": "display_data"
    },
    {
     "data": {
      "text/html": [
       "<h3>Cluster 19.14</h3>"
      ],
      "text/plain": [
       "<IPython.core.display.HTML object>"
      ]
     },
     "metadata": {},
     "output_type": "display_data"
    },
    {
     "data": {
      "text/plain": [
       "22"
      ]
     },
     "metadata": {},
     "output_type": "display_data"
    },
    {
     "data": {
      "text/plain": [
       "Index(['1717-Skin_colour', '1727-Ease_of_skin_tanning',\n",
       "       '1737-Childhood_sunburn_occasions',\n",
       "       '1747_1-Hair_colour_natural_before_greying_Blonde',\n",
       "       '1747_2-Hair_colour_natural_before_greying_Red',\n",
       "       '1747_3-Hair_colour_natural_before_greying_Light_brown',\n",
       "       '1747_4-Hair_colour_natural_before_greying_Dark_brown',\n",
       "       '1747_5-Hair_colour_natural_before_greying_Black',\n",
       "       '1747_6-Hair_colour_natural_before_greying_Other',\n",
       "       '20003_1140868170-Treatmentmedication_code_prochlorperazine',\n",
       "       'C3_SKIN-Malignant_neoplasm_of_skin',\n",
       "       'C_MELANOMA_SKIN-Malignant_melanoma_of_skin',\n",
       "       'C_OTHER_SKIN-Other_malignant_neoplasms_of_skin', 'C_SKIN',\n",
       "       'II_NEOPLASM-Neoplasms', 'artificial cardiac pacemaker',\n",
       "       'basal cell carcinoma', 'cutaneous melanoma', 'melanoma',\n",
       "       'number of cancers, self-reported', 'skin neoplasm', 'tooth agenesis'],\n",
       "      dtype='object')"
      ]
     },
     "metadata": {},
     "output_type": "display_data"
    },
    {
     "data": {
      "text/html": [
       "<h3>Cluster 19.15</h3>"
      ],
      "text/plain": [
       "<IPython.core.display.HTML object>"
      ]
     },
     "metadata": {},
     "output_type": "display_data"
    },
    {
     "data": {
      "text/plain": [
       "35"
      ]
     },
     "metadata": {},
     "output_type": "display_data"
    },
    {
     "data": {
      "text/plain": [
       "Index(['20003_1140861958-Treatmentmedication_code_simvastatin',\n",
       "       '20003_1140868226-Treatmentmedication_code_aspirin',\n",
       "       '20003_1140879802-Treatmentmedication_code_amlodipine',\n",
       "       '20003_1141194794-Treatmentmedication_code_bendroflumethiazide',\n",
       "       '2492-Taking_other_prescription_medications',\n",
       "       '4079_raw-Diastolic_blood_pressure_automated_reading',\n",
       "       '4080_raw-Systolic_blood_pressure_automated_reading',\n",
       "       '6150_1-Vascularheart_problems_diagnosed_by_doctor_Heart_attack',\n",
       "       '6150_100-Vascularheart_problems_diagnosed_by_doctor_None_of_the_above',\n",
       "       '6150_2-Vascularheart_problems_diagnosed_by_doctor_Angina',\n",
       "       '6150_4-Vascularheart_problems_diagnosed_by_doctor_High_blood_pressure',\n",
       "       '6153_1-Medication_for_cholesterol_blood_pressure_diabetes_or_take_exogenous_hormones_Cholesterol_lowering_medication',\n",
       "       '6153_100-Medication_for_cholesterol_blood_pressure_diabetes_or_take_exogenous_hormones_None_of_the_above',\n",
       "       '6153_2-Medication_for_cholesterol_blood_pressure_diabetes_or_take_exogenous_hormones_Blood_pressure_medication',\n",
       "       '6154_1-Medication_for_pain_relief_constipation_heartburn_Aspirin',\n",
       "       '6177_1-Medication_for_cholesterol_blood_pressure_or_diabetes_Cholesterol_lowering_medication',\n",
       "       '6177_100-Medication_for_cholesterol_blood_pressure_or_diabetes_None_of_the_above',\n",
       "       '6177_2-Medication_for_cholesterol_blood_pressure_or_diabetes_Blood_pressure_medication',\n",
       "       'I9_CHD-Major_coronary_heart_disease_event',\n",
       "       'I9_CHD_NOREV-Major_coronary_heart_disease_event_excluding_revascularizations',\n",
       "       'I9_CORATHER-Coronary_atherosclerosis',\n",
       "       'I9_IHD-Ischaemic_heart_disease_wide_definition',\n",
       "       'I9_MI-Myocardial_infarction',\n",
       "       'I9_MI_STRICT-Myocardial_infarction_strict',\n",
       "       'I9_UAP-Unstable_angina_pectoris',\n",
       "       'IX_CIRCULATORY-Diseases_of_the_circulatory_system',\n",
       "       'acute myocardial infarction', 'angina pectoris', 'chronic disease',\n",
       "       'coronary artery disease', 'hypercholesterolemia', 'hypertension',\n",
       "       'myocardial infarction',\n",
       "       'number of non-cancer illnesses, self-reported',\n",
       "       'number of treatments or medications taken, self-reported'],\n",
       "      dtype='object')"
      ]
     },
     "metadata": {},
     "output_type": "display_data"
    },
    {
     "data": {
      "text/html": [
       "<h3>Cluster 19.16</h3>"
      ],
      "text/plain": [
       "<IPython.core.display.HTML object>"
      ]
     },
     "metadata": {},
     "output_type": "display_data"
    },
    {
     "data": {
      "text/plain": [
       "6"
      ]
     },
     "metadata": {},
     "output_type": "display_data"
    },
    {
     "data": {
      "text/plain": [
       "Index(['30060_raw-Mean_corpuscular_haemoglobin_concentration',\n",
       "       '30120_raw-Lymphocyte_count',\n",
       "       '6152_100-Blood_clot_DVT_bronchitis_emphysema_asthma_rhinitis_eczema_allergy_diagnosed_by_doctor_None_of_the_above',\n",
       "       '6152_8-Blood_clot_DVT_bronchitis_emphysema_asthma_rhinitis_eczema_allergy_diagnosed_by_doctor_Asthma',\n",
       "       '6152_9-Blood_clot_DVT_bronchitis_emphysema_asthma_rhinitis_eczema_allergy_diagnosed_by_doctor_Hayfever_allergic_rhinitis_or_eczema',\n",
       "       'asthma'],\n",
       "      dtype='object')"
      ]
     },
     "metadata": {},
     "output_type": "display_data"
    },
    {
     "data": {
      "text/html": [
       "<h3>Cluster 19.17</h3>"
      ],
      "text/plain": [
       "<IPython.core.display.HTML object>"
      ]
     },
     "metadata": {},
     "output_type": "display_data"
    },
    {
     "data": {
      "text/plain": [
       "15"
      ]
     },
     "metadata": {},
     "output_type": "display_data"
    },
    {
     "data": {
      "text/plain": [
       "Index(['EAGLE_Eczema', 'Jones_et_al_2016_Chronotype', 'MAGNETIC_CH2.DB.ratio',\n",
       "       'MAGNETIC_HDL.C', 'MAGNETIC_IDL.TG', 'MAGNETIC_LDL.C',\n",
       "       'alzheimer's disease', 'bone density', 'depressive symptom measurement',\n",
       "       'estrogen-receptor negative breast cancer',\n",
       "       'estrogen-receptor positive breast cancer',\n",
       "       'family history of breast cancer', 'fasting blood glucose measurement',\n",
       "       'fasting blood insulin measurement', 'intracranial volume measurement'],\n",
       "      dtype='object')"
      ]
     },
     "metadata": {},
     "output_type": "display_data"
    },
    {
     "data": {
      "text/html": [
       "<h3>Cluster 19.18</h3>"
      ],
      "text/plain": [
       "<IPython.core.display.HTML object>"
      ]
     },
     "metadata": {},
     "output_type": "display_data"
    },
    {
     "data": {
      "text/plain": [
       "4"
      ]
     },
     "metadata": {},
     "output_type": "display_data"
    },
    {
     "data": {
      "text/plain": [
       "Index(['C3_MALE_GENITAL-malignant_neoplasm_of_male_genital_organs',\n",
       "       'C_MALE_GENITAL', 'C_PROSTATE-Malignant_neoplasm_of_prostate',\n",
       "       'prostate carcinoma'],\n",
       "      dtype='object')"
      ]
     },
     "metadata": {},
     "output_type": "display_data"
    },
    {
     "data": {
      "text/html": [
       "<h2>Partition with k=20</h2>"
      ],
      "text/plain": [
       "<IPython.core.display.HTML object>"
      ]
     },
     "metadata": {},
     "output_type": "display_data"
    },
    {
     "data": {
      "text/plain": [
       "method                              eac_average_coassoc_matrix\n",
       "partition    [0, 0, 0, 0, 0, 0, 0, 0, 0, 3, 0, 0, 0, 0, 0, ...\n",
       "ami_mean                                              0.281631\n",
       "selected                                                  True\n",
       "Name: 20, dtype: object"
      ]
     },
     "metadata": {},
     "output_type": "display_data"
    },
    {
     "data": {
      "text/plain": [
       "(3749,)"
      ]
     },
     "metadata": {},
     "output_type": "display_data"
    },
    {
     "data": {
      "text/plain": [
       "3     2916\n",
       "6      185\n",
       "12     145\n",
       "8      128\n",
       "1       80\n",
       "0       60\n",
       "7       41\n",
       "4       39\n",
       "15      35\n",
       "14      22\n",
       "13      15\n",
       "5       15\n",
       "17      15\n",
       "11      12\n",
       "2       12\n",
       "19       8\n",
       "10       6\n",
       "16       6\n",
       "9        5\n",
       "18       4\n",
       "dtype: int64"
      ]
     },
     "metadata": {},
     "output_type": "display_data"
    },
    {
     "data": {
      "text/html": [
       "<h3>Cluster 20.0</h3>"
      ],
      "text/plain": [
       "<IPython.core.display.HTML object>"
      ]
     },
     "metadata": {},
     "output_type": "display_data"
    },
    {
     "data": {
      "text/plain": [
       "60"
      ]
     },
     "metadata": {},
     "output_type": "display_data"
    },
    {
     "data": {
      "text/plain": [
       "Index(['100001_raw-Food_weight', '100002_raw-Energy', '100003_raw-Protein',\n",
       "       '100004_raw-Fat', '100005_raw-Carbohydrate', '100006_raw-Saturated_fat',\n",
       "       '100007_raw-Polyunsaturated_fat', '100008_raw-Total_sugars',\n",
       "       '100009_raw-Englyst_dietary_fibre', '100011_raw-Iron',\n",
       "       '100012_raw-Vitamin_B6', '100013_raw-Vitamin_B12', '100014_raw-Folate',\n",
       "       '100015_raw-Vitamin_C', '100016_raw-Potassium', '100017_raw-Magnesium',\n",
       "       '100018_raw-Retinol', '100019_raw-Carotene', '100021_raw-Vitamin_D',\n",
       "       '100023_raw-Starch', '100024_raw-Calcium', '100025_raw-Vitamin_E',\n",
       "       '102930-Egg_consumers', '103070-Bacon_intake', '103140-Fish_consumer',\n",
       "       '104170-Carrot_intake', '104290-Sweet_pepper_intake',\n",
       "       '1418_1-Milk_type_used_Full_cream',\n",
       "       '20003_1140861138-Treatmentmedication_code_adizem60_mr_tablet',\n",
       "       '20003_1140888092-Treatmentmedication_code_elocon_cream',\n",
       "       '22601_35353268-Job_coding_taxation_accountant_or_adviser_or_consultant_or_practitioner',\n",
       "       '22617_3319-Job_SOC_coding_Protective_service_associate_professionals_nec',\n",
       "       '22617_3535-Job_SOC_coding_Taxation_experts',\n",
       "       '5100_raw-3mm_weak_meridian_angle_right',\n",
       "       '5101_raw-6mm_weak_meridian_angle_right',\n",
       "       '5102_raw-6mm_weak_meridian_angle_left',\n",
       "       '5103_raw-3mm_weak_meridian_angle_left',\n",
       "       '5104_raw-3mm_strong_meridian_angle_left',\n",
       "       '5105_raw-6mm_strong_meridian_angle_left',\n",
       "       '5106_raw-6mm_strong_meridian_angle_right',\n",
       "       '5107_raw-3mm_strong_meridian_angle_right',\n",
       "       '5112_raw-3mm_cylindrical_power_angle_left',\n",
       "       '5113_raw-6mm_cylindrical_power_angle_left',\n",
       "       '5114_raw-6mm_cylindrical_power_angle_right',\n",
       "       '5115_raw-3mm_cylindrical_power_angle_right', '5983_raw-ECG_heart_rate',\n",
       "       '5984_raw-ECG_load', '5986_raw-ECG_phase_time',\n",
       "       '5992-ECG_phase_duration', '5993-ECG_number_of_stages_in_a_phase',\n",
       "       '6020_1-Completion_status_of_test_Fully_completed',\n",
       "       '6020_31-Completion_status_of_test_Participant_wanted_to_stop_early',\n",
       "       '6020_33-Completion_status_of_test_Heart_rate_reached_safety_level',\n",
       "       '6032_raw-Maximum_workload_during_fitness_test',\n",
       "       '6033_raw-Maximum_heart_rate_during_fitness_test',\n",
       "       '6038_raw-Number_of_trend_entries', '6039-Duration_of_fitness_test',\n",
       "       'G6_MONOOTHUNS-Other_and_unsepcified_mononeuropathies_also_in_other_diseases',\n",
       "       'ability to walk or cycle unaided for 10 minutes, self-reported',\n",
       "       'achievement of target heart rate, self-reported'],\n",
       "      dtype='object')"
      ]
     },
     "metadata": {},
     "output_type": "display_data"
    },
    {
     "data": {
      "text/html": [
       "<h3>Cluster 20.1</h3>"
      ],
      "text/plain": [
       "<IPython.core.display.HTML object>"
      ]
     },
     "metadata": {},
     "output_type": "display_data"
    },
    {
     "data": {
      "text/plain": [
       "80"
      ]
     },
     "metadata": {},
     "output_type": "display_data"
    },
    {
     "data": {
      "text/plain": [
       "Index(['20003_1140868172-Treatmentmedication_code_stemetil_5mg_tablet',\n",
       "       '20126_0-Bipolar_and_major_depression_status_No_Bipolar_or_Depression',\n",
       "       '20126_3-Bipolar_and_major_depression_status_Probable_Recurrent_major_depression_severe',\n",
       "       '20126_4-Bipolar_and_major_depression_status_Probable_Recurrent_major_depression_moderate',\n",
       "       '20126_5-Bipolar_and_major_depression_status_Single_Probable_major_depression_episode',\n",
       "       '20421-Ever_felt_worried_tense_or_anxious_for_most_of_a_month_or_longer',\n",
       "       '20425-Ever_worried_more_than_most_people_would_in_similar_situation',\n",
       "       '20428-Professional_informed_about_anxiety',\n",
       "       '20441-Ever_had_prolonged_loss_of_interest_in_normal_activities',\n",
       "       '20446-Ever_had_prolonged_feelings_of_sadness_or_depression',\n",
       "       '20448-Professional_informed_about_depression',\n",
       "       '20458-General_happiness', '20459-General_happiness_with_own_health',\n",
       "       '20460-Belief_that_own_life_is_meaningful',\n",
       "       '20479-Ever_thought_that_life_not_worth_living',\n",
       "       '20480-Ever_selfharmed', '20485-Ever_contemplated_selfharm',\n",
       "       '20487-Felt_hated_by_family_member_as_a_child',\n",
       "       '20488-Physically_abused_by_family_as_a_child',\n",
       "       '20489-Felt_loved_as_a_child',\n",
       "       '20494-Felt_irritable_or_had_angry_outbursts_in_past_month',\n",
       "       '20495-Avoided_activities_or_situations_because_of_previous_stressful_experience_in_past_month',\n",
       "       '20496-Felt_distant_from_other_people_in_past_month',\n",
       "       '20497-Repeated_disturbing_thoughts_of_stressful_experience_in_past_month',\n",
       "       '20498-Felt_very_upset_when_reminded_of_stressful_experience_in_past_month',\n",
       "       '20499-Ever_sought_or_received_professional_help_for_mental_distress',\n",
       "       '20500-Ever_suffered_mental_distress_preventing_usual_activities',\n",
       "       '20501-Ever_had_period_of_mania_excitability',\n",
       "       '20502-Ever_had_period_extreme_irritability',\n",
       "       '20505-Recent_easy_annoyance_or_irritability',\n",
       "       '20506-Recent_feelings_or_nervousness_or_anxiety',\n",
       "       '20507-Recent_feelings_of_inadequacy',\n",
       "       '20508-Recent_trouble_concentrating_on_things',\n",
       "       '20509-Recent_inability_to_stop_or_control_worrying',\n",
       "       '20510-Recent_feelings_of_depression',\n",
       "       '20511-Recent_poor_appetite_or_overeating',\n",
       "       '20512-Recent_feelings_of_foreboding',\n",
       "       '20513-Recent_thoughts_of_suicide_or_selfharm',\n",
       "       '20514-Recent_lack_of_interest_or_pleasure_in_doing_things',\n",
       "       '20515-Recent_trouble_relaxing', '20516-Recent_restlessness',\n",
       "       '20517-Trouble_falling_or_staying_asleep_or_sleeping_too_much',\n",
       "       '20518-Recent_changes_in_speedamount_of_moving_or_speaking',\n",
       "       '20519-Recent_feelings_of_tiredness_or_low_energy',\n",
       "       '20520-Recent_worrying_too_much_about_different_things',\n",
       "       '20544_11-Mental_health_problems_ever_diagnosed_by_a_professional_Depression',\n",
       "       '20544_15-Mental_health_problems_ever_diagnosed_by_a_professional_Anxiety_nerves_or_generalized_anxiety_disorder',\n",
       "       '20546_3-Substances_taken_for_depression_Medication_prescribed_to_you_for_at_least_two_weeks',\n",
       "       '20547_1-Activities_undertaken_to_treat_depression_Talking_therapies_such_as_psychotherapy_counselling_group_therapy_or_CBT',\n",
       "       '20548_1-Manifestations_of_mania_or_irritability_I_was_more_talkative_than_usual',\n",
       "       '20548_2-Manifestations_of_mania_or_irritability_I_was_more_restless_than_usual',\n",
       "       '20548_3-Manifestations_of_mania_or_irritability_My_thoughts_were_racing',\n",
       "       '20548_5-Manifestations_of_mania_or_irritability_I_needed_less_sleep_than_usual',\n",
       "       '20548_6-Manifestations_of_mania_or_irritability_I_was_more_creative_or_had_more_ideas_than_usual',\n",
       "       '20548_7-Manifestations_of_mania_or_irritability_I_was_easily_distracted',\n",
       "       '20548_8-Manifestations_of_mania_or_irritability_I_was_more_confident_than_usual',\n",
       "       '20548_9-Manifestations_of_mania_or_irritability_I_was_more_active_than_usual',\n",
       "       '20549_3-Substances_taken_for_anxiety_Medication_prescribed_to_you_for_at_least_two_weeks',\n",
       "       '20550_1-Activities_undertaken_to_treat_anxiety_Talking_therapies_such_as_psychotherapy_counselling_group_therapy_or_CBT',\n",
       "       '20553_4-Methods_of_selfharm_used_Ingesting_a_medication_in_excess_of_the_normal_dose',\n",
       "       '20554_1-Actions_taken_following_selfharm_See_anyone_from_psychiatric_or_mental_health_services_including_liaison_services',\n",
       "       '20554_3-Actions_taken_following_selfharm_Need_hospital_treatment_eg_AE',\n",
       "       '20554_5-Actions_taken_following_selfharm_See_own_GP',\n",
       "       '20554_6-Actions_taken_following_selfharm_Receive_help_from_friends_family_neighbours',\n",
       "       '22506_113-Tobacco_smoking_Exsmoker',\n",
       "       '22506_114-Tobacco_smoking_Never_smoked',\n",
       "       '2966_raw-Age_high_blood_pressure_diagnosed',\n",
       "       '6162_3-Types_of_transport_used_excluding_work_Public_transport',\n",
       "       'H8_BPV-Benign_paroxysmal_vertigo', 'H8_MENIERE-Ménière_disease',\n",
       "       'H8_VERTIGO-Disorders_of_vestibular_function_Vertigo',\n",
       "       'HEARTFAIL-Heart_failure', 'I9_HEARTFAIL-Heart_failurestrict',\n",
       "       'I9_HEARTFAIL_NS-Heart_failure_not_strict',\n",
       "       'M13_CERVICALGIA-Cervicalgia', 'heart failure',\n",
       "       'seeing a psychiatrist for nerves, anxiety, tension or depression, self-reported',\n",
       "       'shortness of breath', 'unipolar depression', 'vestibular disease'],\n",
       "      dtype='object')"
      ]
     },
     "metadata": {},
     "output_type": "display_data"
    },
    {
     "data": {
      "text/html": [
       "<h3>Cluster 20.2</h3>"
      ],
      "text/plain": [
       "<IPython.core.display.HTML object>"
      ]
     },
     "metadata": {},
     "output_type": "display_data"
    },
    {
     "data": {
      "text/plain": [
       "12"
      ]
     },
     "metadata": {},
     "output_type": "display_data"
    },
    {
     "data": {
      "text/plain": [
       "Index(['102_raw-Pulse_rate_automated_reading',\n",
       "       '20150_raw-Forced_expiratory_volume_in_1second_FEV1_Best_measure',\n",
       "       '20151_raw-Forced_vital_capacity_FVC_Best_measure',\n",
       "       '2395_1-Hairbalding_pattern_Pattern_1',\n",
       "       '3062_raw-Forced_vital_capacity_FVC',\n",
       "       '3063_raw-Forced_expiratory_volume_in_1second_FEV1',\n",
       "       '3064_raw-Peak_expiratory_flow_PEF',\n",
       "       '4100_raw-Ankle_spacing_width_left',\n",
       "       '4119_raw-Ankle_spacing_width_right', '46_raw-Hand_grip_strength_left',\n",
       "       '47_raw-Hand_grip_strength_right', 'inflammatory bowel disease'],\n",
       "      dtype='object')"
      ]
     },
     "metadata": {},
     "output_type": "display_data"
    },
    {
     "data": {
      "text/html": [
       "<h3>Cluster 20.3</h3>"
      ],
      "text/plain": [
       "<IPython.core.display.HTML object>"
      ]
     },
     "metadata": {},
     "output_type": "display_data"
    },
    {
     "data": {
      "text/plain": [
       "2916"
      ]
     },
     "metadata": {},
     "output_type": "display_data"
    },
    {
     "data": {
      "text/plain": [
       "Index(['100010-Portion_size', '100022-Alcohol',\n",
       "       '1001-Duration_of_strenuous_sports', '100150-Drinking_water_intake',\n",
       "       '100160-Low_calorie_drink_intake', '100170-Fizzy_drink_intake',\n",
       "       '100190-Orange_juice_intake', '100240-Coffee_consumed',\n",
       "       '100250-Instant_coffee_intake', '100260-Added_milk_to_instant_coffee',\n",
       "       ...\n",
       "       'vertigo', 'viral disease', 'viral human hepatitis infection',\n",
       "       'viral meningitis', 'visual impairment', 'vitiligo',\n",
       "       'vitreous body disease', 'vocal cord polyp', 'voice disorders',\n",
       "       'whooping cough'],\n",
       "      dtype='object', length=2916)"
      ]
     },
     "metadata": {},
     "output_type": "display_data"
    },
    {
     "data": {
      "text/html": [
       "<h3>Cluster 20.4</h3>"
      ],
      "text/plain": [
       "<IPython.core.display.HTML object>"
      ]
     },
     "metadata": {},
     "output_type": "display_data"
    },
    {
     "data": {
      "text/plain": [
       "39"
      ]
     },
     "metadata": {},
     "output_type": "display_data"
    },
    {
     "data": {
      "text/plain": [
       "Index(['1448_4-Bread_type_Other_type_of_bread',\n",
       "       '20003_1140869848-Treatmentmedication_code_methotrexate',\n",
       "       '20003_1140870422-Treatmentmedication_code_folic_acid_product',\n",
       "       '20003_1140874866-Treatmentmedication_code_carbimazole',\n",
       "       '20003_1140883066-Treatmentmedication_code_insulin_product',\n",
       "       '20003_1140884516-Treatmentmedication_code_thyroxine_product',\n",
       "       '20003_1141179992-Treatmentmedication_code_dovobet_ointment',\n",
       "       '20003_1141191044-Treatmentmedication_code_levothyroxine_sodium',\n",
       "       '2976_raw-Age_diabetes_diagnosed',\n",
       "       '2986-Started_insulin_within_one_year_diagnosis_of_diabetes',\n",
       "       '6144_3-Never_eat_eggs_dairy_wheat_sugar_Wheat_products',\n",
       "       '6153_3-Medication_for_cholesterol_blood_pressure_diabetes_or_take_exogenous_hormones_Insulin',\n",
       "       '6177_3-Medication_for_cholesterol_blood_pressure_or_diabetes_Insulin',\n",
       "       'DM_KETOACIDOSIS-Diabetic_ketoacidosis',\n",
       "       'DM_RETINOPAT_NOS-Unclassified_diabetic_retinopathy',\n",
       "       'E4_DM1-Type_1_diabetes',\n",
       "       'E4_DM1KETO-Type_1_diabetes_with_ketoacidosis',\n",
       "       'E4_DM1NOCOMP-Type_1_diabetes_without_complications',\n",
       "       'E4_DM1OPTH-Type_1_diabetes_with_ophthalmic_complications',\n",
       "       'K11_COELIAC-Coeliac_disease', 'K11_GIBLEEDING-GIbleeding',\n",
       "       'K11_OTHDIG-Other_diseases_of_the_digestive_system',\n",
       "       'M13_POLYARTHROPATHIES-Polyarthropathies',\n",
       "       'M13_RHEUMA-Rheumatoid_arthritis',\n",
       "       'RHEUMA_NOS-Otherunspecified_rheumatoid_arthritis',\n",
       "       'RHEUMA_SEROPOS-Seropositive_rheumatoid_arthritis',\n",
       "       'RHEUMA_SEROPOS_OTH-Otherunspecified_seropositiverheumatoid_arthritis',\n",
       "       'STILL_ADULT-Adultonset_Still_disease', 'ankylosing spondylitis',\n",
       "       'celiac disease', 'hematuria', 'hyperthyroidism AND thyrotoxicosis',\n",
       "       'hypothyroidism AND myxedema', 'malabsorption syndrome', 'psoriasis',\n",
       "       'psoriatic arthritis', 'rheumatoid arthritis',\n",
       "       'systemic lupus erythematosus', 'type i diabetes mellitus'],\n",
       "      dtype='object')"
      ]
     },
     "metadata": {},
     "output_type": "display_data"
    },
    {
     "data": {
      "text/html": [
       "<h3>Cluster 20.5</h3>"
      ],
      "text/plain": [
       "<IPython.core.display.HTML object>"
      ]
     },
     "metadata": {},
     "output_type": "display_data"
    },
    {
     "data": {
      "text/plain": [
       "15"
      ]
     },
     "metadata": {},
     "output_type": "display_data"
    },
    {
     "data": {
      "text/plain": [
       "Index(['30010_raw-Red_blood_cell_erythrocyte_count',\n",
       "       '30020_raw-Haemoglobin_concentration',\n",
       "       '30030_raw-Haematocrit_percentage', '30040_raw-Mean_corpuscular_volume',\n",
       "       '30050_raw-Mean_corpuscular_haemoglobin',\n",
       "       '30070_raw-Red_blood_cell_erythrocyte_distribution_width',\n",
       "       '30240_raw-Reticulocyte_percentage', '30250_raw-Reticulocyte_count',\n",
       "       '30260_raw-Mean_reticulocyte_volume',\n",
       "       '30270_raw-Mean_sphered_cell_volume',\n",
       "       '30280_raw-Immature_reticulocyte_fraction',\n",
       "       '30290_raw-High_light_scatter_reticulocyte_percentage',\n",
       "       '30300_raw-High_light_scatter_reticulocyte_count', 'erythrocyte count',\n",
       "       'reticulocyte count'],\n",
       "      dtype='object')"
      ]
     },
     "metadata": {},
     "output_type": "display_data"
    },
    {
     "data": {
      "text/html": [
       "<h3>Cluster 20.6</h3>"
      ],
      "text/plain": [
       "<IPython.core.display.HTML object>"
      ]
     },
     "metadata": {},
     "output_type": "display_data"
    },
    {
     "data": {
      "text/plain": [
       "185"
      ]
     },
     "metadata": {},
     "output_type": "display_data"
    },
    {
     "data": {
      "text/plain": [
       "Index(['129_raw-Place_of_birth_in_UK_north_coordinate',\n",
       "       '130_raw-Place_of_birth_in_UK_east_coordinate',\n",
       "       '20003_1140861998-Treatmentmedication_code_ventolin_100micrograms_inhaler',\n",
       "       '20003_1141176832-Treatmentmedication_code_seretide_50_evohaler',\n",
       "       '20074_raw-Home_location_at_assessment_east_coordinate_rounded',\n",
       "       '20075_raw-Home_location_at_assessment_north_coordinate_rounded',\n",
       "       '20118_11-Home_area_population_density_urban_or_rural_Scotland_Large_Urban_Area',\n",
       "       '22702_raw-Home_location_east_coordinate_rounded',\n",
       "       '22704_raw-Home_location_north_coordinate_rounded',\n",
       "       '30160-Basophill_count',\n",
       "       ...\n",
       "       'transient ischemic attack', 'tuberculosis',\n",
       "       'type ii diabetes mellitus', 'ulcerative colitis',\n",
       "       'urogenital neoplasm', 'urticaria', 'vascular disease', 'vasculitis',\n",
       "       'venous thromboembolism', 'wrist fracture'],\n",
       "      dtype='object', length=185)"
      ]
     },
     "metadata": {},
     "output_type": "display_data"
    },
    {
     "data": {
      "text/html": [
       "<h3>Cluster 20.7</h3>"
      ],
      "text/plain": [
       "<IPython.core.display.HTML object>"
      ]
     },
     "metadata": {},
     "output_type": "display_data"
    },
    {
     "data": {
      "text/plain": [
       "41"
      ]
     },
     "metadata": {},
     "output_type": "display_data"
    },
    {
     "data": {
      "text/plain": [
       "Index(['20015_raw-Sitting_height',\n",
       "       '20153_raw-Forced_expiratory_volume_in_1second_FEV1_predicted',\n",
       "       '21001_raw-Body_mass_index_BMI', '21002_raw-Weight', '23098_raw-Weight',\n",
       "       '23099_raw-Body_fat_percentage', '23100_raw-Whole_body_fat_mass',\n",
       "       '23101_raw-Whole_body_fatfree_mass', '23102_raw-Whole_body_water_mass',\n",
       "       '23104_raw-Body_mass_index_BMI', '23105_raw-Basal_metabolic_rate',\n",
       "       '23106_raw-Impedance_of_whole_body', '23107_raw-Impedance_of_leg_right',\n",
       "       '23108_raw-Impedance_of_leg_left', '23109_raw-Impedance_of_arm_right',\n",
       "       '23110_raw-Impedance_of_arm_left', '23111_raw-Leg_fat_percentage_right',\n",
       "       '23112_raw-Leg_fat_mass_right', '23113_raw-Leg_fatfree_mass_right',\n",
       "       '23114_raw-Leg_predicted_mass_right',\n",
       "       '23115_raw-Leg_fat_percentage_left', '23116_raw-Leg_fat_mass_left',\n",
       "       '23117_raw-Leg_fatfree_mass_left', '23118_raw-Leg_predicted_mass_left',\n",
       "       '23119_raw-Arm_fat_percentage_right', '23120_raw-Arm_fat_mass_right',\n",
       "       '23121_raw-Arm_fatfree_mass_right',\n",
       "       '23122_raw-Arm_predicted_mass_right',\n",
       "       '23123_raw-Arm_fat_percentage_left', '23124_raw-Arm_fat_mass_left',\n",
       "       '23125_raw-Arm_fatfree_mass_left', '23126_raw-Arm_predicted_mass_left',\n",
       "       '23127_raw-Trunk_fat_percentage', '23128_raw-Trunk_fat_mass',\n",
       "       '23129_raw-Trunk_fatfree_mass', '23130_raw-Trunk_predicted_mass',\n",
       "       '3143_raw-Ankle_spacing_width', '48_raw-Waist_circumference',\n",
       "       '49_raw-Hip_circumference', '50_raw-Standing_height', 'body height'],\n",
       "      dtype='object')"
      ]
     },
     "metadata": {},
     "output_type": "display_data"
    },
    {
     "data": {
      "text/html": [
       "<h3>Cluster 20.8</h3>"
      ],
      "text/plain": [
       "<IPython.core.display.HTML object>"
      ]
     },
     "metadata": {},
     "output_type": "display_data"
    },
    {
     "data": {
      "text/plain": [
       "128"
      ]
     },
     "metadata": {},
     "output_type": "display_data"
    },
    {
     "data": {
      "text/plain": [
       "Index(['1021-Duration_of_light_DIY', '1031-Frequency_of_friendfamily_visits',\n",
       "       '1120-Weekly_usage_of_mobile_phone_in_last_3_months',\n",
       "       '1150_1-Usual_side_of_head_for_mobile_phone_use_Left',\n",
       "       '1150_2-Usual_side_of_head_for_mobile_phone_use_Right',\n",
       "       '1359-Poultry_intake', '1418_2-Milk_type_used_Semiskimmed',\n",
       "       '1418_3-Milk_type_used_Skimmed',\n",
       "       '1428_1-Spread_type_Butterspreadable_butter',\n",
       "       '1428_3-Spread_type_Other_type_of_spreadmargarine',\n",
       "       ...\n",
       "       'migraine disorder', 'nephrolithiasis', 'osteoarthritis',\n",
       "       'osteoarthritis, hip', 'osteoarthritis, knee', 'osteoporosis',\n",
       "       'parkinson's disease', 'uterine prolapse', 'varicose veins',\n",
       "       'wellbeing measurement AND family relationship'],\n",
       "      dtype='object', length=128)"
      ]
     },
     "metadata": {},
     "output_type": "display_data"
    },
    {
     "data": {
      "text/html": [
       "<h3>Cluster 20.9</h3>"
      ],
      "text/plain": [
       "<IPython.core.display.HTML object>"
      ]
     },
     "metadata": {},
     "output_type": "display_data"
    },
    {
     "data": {
      "text/plain": [
       "5"
      ]
     },
     "metadata": {},
     "output_type": "display_data"
    },
    {
     "data": {
      "text/plain": [
       "Index(['30080_raw-Platelet_count', '30090_raw-Platelet_crit',\n",
       "       '30100_raw-Mean_platelet_thrombocyte_volume',\n",
       "       '30110_raw-Platelet_distribution_width', 'platelet count'],\n",
       "      dtype='object')"
      ]
     },
     "metadata": {},
     "output_type": "display_data"
    },
    {
     "data": {
      "text/html": [
       "<h3>Cluster 20.10</h3>"
      ],
      "text/plain": [
       "<IPython.core.display.HTML object>"
      ]
     },
     "metadata": {},
     "output_type": "display_data"
    },
    {
     "data": {
      "text/plain": [
       "6"
      ]
     },
     "metadata": {},
     "output_type": "display_data"
    },
    {
     "data": {
      "text/plain": [
       "Index(['40001_C349-Underlying_primary_cause_of_death_ICD10_C349_Bronchus_or_lung_unspecified',\n",
       "       'C3_RESPIRATORY_INTRATHORACIC-Malignant_neoplasm_of_respiratory_system_and_intrathoracic_organs',\n",
       "       'C_BRONCHUS_LUNG-Malignant_neoplasm_of_bronchus_and_lung',\n",
       "       'C_RESPIRATORY_INTRATHORACIC',\n",
       "       'LUNG_CANCER_MESOT-Lung_cancer_and_mesothelioma', 'lung carcinoma'],\n",
       "      dtype='object')"
      ]
     },
     "metadata": {},
     "output_type": "display_data"
    },
    {
     "data": {
      "text/html": [
       "<h3>Cluster 20.11</h3>"
      ],
      "text/plain": [
       "<IPython.core.display.HTML object>"
      ]
     },
     "metadata": {},
     "output_type": "display_data"
    },
    {
     "data": {
      "text/plain": [
       "12"
      ]
     },
     "metadata": {},
     "output_type": "display_data"
    },
    {
     "data": {
      "text/plain": [
       "Index(['3144_raw-Heel_Broadband_ultrasound_attenuation_direct_entry',\n",
       "       '3147_raw-Heel_quantitative_ultrasound_index_QUI_direct_entry',\n",
       "       '3148_raw-Heel_bone_mineral_density_BMD',\n",
       "       '4101_raw-Heel_broadband_ultrasound_attenuation_left',\n",
       "       '4104_raw-Heel_quantitative_ultrasound_index_QUI_direct_entry_left',\n",
       "       '4105_raw-Heel_bone_mineral_density_BMD_left',\n",
       "       '4106_raw-Heel_bone_mineral_density_BMD_Tscore_automated_left',\n",
       "       '4120_raw-Heel_broadband_ultrasound_attenuation_right',\n",
       "       '4123_raw-Heel_quantitative_ultrasound_index_QUI_direct_entry_right',\n",
       "       '4124_raw-Heel_bone_mineral_density_BMD_right',\n",
       "       '4125_raw-Heel_bone_mineral_density_BMD_Tscore_automated_right',\n",
       "       '78_raw-Heel_bone_mineral_density_BMD_Tscore_automated'],\n",
       "      dtype='object')"
      ]
     },
     "metadata": {},
     "output_type": "display_data"
    },
    {
     "data": {
      "text/html": [
       "<h3>Cluster 20.12</h3>"
      ],
      "text/plain": [
       "<IPython.core.display.HTML object>"
      ]
     },
     "metadata": {},
     "output_type": "display_data"
    },
    {
     "data": {
      "text/plain": [
       "145"
      ]
     },
     "metadata": {},
     "output_type": "display_data"
    },
    {
     "data": {
      "text/plain": [
       "Index(['1050-Time_spend_outdoors_in_summer',\n",
       "       '1060-Time_spent_outdoors_in_winter',\n",
       "       '1070-Time_spent_watching_television_TV',\n",
       "       '1080-Time_spent_using_computer',\n",
       "       '1100-Drive_faster_than_motorway_speed_limit',\n",
       "       '1110-Length_of_mobile_phone_use', '1289-Cooked_vegetable_intake',\n",
       "       '1299-Salad_raw_vegetable_intake', '1309-Fresh_fruit_intake',\n",
       "       '1319-Dried_fruit_intake',\n",
       "       ...\n",
       "       'seeing a general practitioner for nerves, anxiety, tension or depression, self-reported',\n",
       "       'self rated health', 'self reported educational attainment',\n",
       "       'sleep duration', 'smoking behavior', 'smoking cessation',\n",
       "       'snoring measurement', 'tiredness measurement', 'wheezing',\n",
       "       'worry measurement'],\n",
       "      dtype='object', length=145)"
      ]
     },
     "metadata": {},
     "output_type": "display_data"
    },
    {
     "data": {
      "text/html": [
       "<h3>Cluster 20.13</h3>"
      ],
      "text/plain": [
       "<IPython.core.display.HTML object>"
      ]
     },
     "metadata": {},
     "output_type": "display_data"
    },
    {
     "data": {
      "text/plain": [
       "15"
      ]
     },
     "metadata": {},
     "output_type": "display_data"
    },
    {
     "data": {
      "text/plain": [
       "Index(['30000_raw-White_blood_cell_leukocyte_count',\n",
       "       '30130_raw-Monocyte_count', '30140_raw-Neutrophill_count',\n",
       "       '30150-Eosinophill_count', '30180_raw-Lymphocyte_percentage',\n",
       "       '30190_raw-Monocyte_percentage', '30200_raw-Neutrophill_percentage',\n",
       "       '30210_raw-Eosinophill_percentage', 'eosinophil count',\n",
       "       'granulocyte count', 'leukocyte count', 'lymphocyte count',\n",
       "       'monocyte count', 'myeloid white cell count', 'neutrophil count'],\n",
       "      dtype='object')"
      ]
     },
     "metadata": {},
     "output_type": "display_data"
    },
    {
     "data": {
      "text/html": [
       "<h3>Cluster 20.14</h3>"
      ],
      "text/plain": [
       "<IPython.core.display.HTML object>"
      ]
     },
     "metadata": {},
     "output_type": "display_data"
    },
    {
     "data": {
      "text/plain": [
       "22"
      ]
     },
     "metadata": {},
     "output_type": "display_data"
    },
    {
     "data": {
      "text/plain": [
       "Index(['1717-Skin_colour', '1727-Ease_of_skin_tanning',\n",
       "       '1737-Childhood_sunburn_occasions',\n",
       "       '1747_1-Hair_colour_natural_before_greying_Blonde',\n",
       "       '1747_2-Hair_colour_natural_before_greying_Red',\n",
       "       '1747_3-Hair_colour_natural_before_greying_Light_brown',\n",
       "       '1747_4-Hair_colour_natural_before_greying_Dark_brown',\n",
       "       '1747_5-Hair_colour_natural_before_greying_Black',\n",
       "       '1747_6-Hair_colour_natural_before_greying_Other',\n",
       "       '20003_1140868170-Treatmentmedication_code_prochlorperazine',\n",
       "       'C3_SKIN-Malignant_neoplasm_of_skin',\n",
       "       'C_MELANOMA_SKIN-Malignant_melanoma_of_skin',\n",
       "       'C_OTHER_SKIN-Other_malignant_neoplasms_of_skin', 'C_SKIN',\n",
       "       'II_NEOPLASM-Neoplasms', 'artificial cardiac pacemaker',\n",
       "       'basal cell carcinoma', 'cutaneous melanoma', 'melanoma',\n",
       "       'number of cancers, self-reported', 'skin neoplasm', 'tooth agenesis'],\n",
       "      dtype='object')"
      ]
     },
     "metadata": {},
     "output_type": "display_data"
    },
    {
     "data": {
      "text/html": [
       "<h3>Cluster 20.15</h3>"
      ],
      "text/plain": [
       "<IPython.core.display.HTML object>"
      ]
     },
     "metadata": {},
     "output_type": "display_data"
    },
    {
     "data": {
      "text/plain": [
       "35"
      ]
     },
     "metadata": {},
     "output_type": "display_data"
    },
    {
     "data": {
      "text/plain": [
       "Index(['20003_1140861958-Treatmentmedication_code_simvastatin',\n",
       "       '20003_1140868226-Treatmentmedication_code_aspirin',\n",
       "       '20003_1140879802-Treatmentmedication_code_amlodipine',\n",
       "       '20003_1141194794-Treatmentmedication_code_bendroflumethiazide',\n",
       "       '2492-Taking_other_prescription_medications',\n",
       "       '4079_raw-Diastolic_blood_pressure_automated_reading',\n",
       "       '4080_raw-Systolic_blood_pressure_automated_reading',\n",
       "       '6150_1-Vascularheart_problems_diagnosed_by_doctor_Heart_attack',\n",
       "       '6150_100-Vascularheart_problems_diagnosed_by_doctor_None_of_the_above',\n",
       "       '6150_2-Vascularheart_problems_diagnosed_by_doctor_Angina',\n",
       "       '6150_4-Vascularheart_problems_diagnosed_by_doctor_High_blood_pressure',\n",
       "       '6153_1-Medication_for_cholesterol_blood_pressure_diabetes_or_take_exogenous_hormones_Cholesterol_lowering_medication',\n",
       "       '6153_100-Medication_for_cholesterol_blood_pressure_diabetes_or_take_exogenous_hormones_None_of_the_above',\n",
       "       '6153_2-Medication_for_cholesterol_blood_pressure_diabetes_or_take_exogenous_hormones_Blood_pressure_medication',\n",
       "       '6154_1-Medication_for_pain_relief_constipation_heartburn_Aspirin',\n",
       "       '6177_1-Medication_for_cholesterol_blood_pressure_or_diabetes_Cholesterol_lowering_medication',\n",
       "       '6177_100-Medication_for_cholesterol_blood_pressure_or_diabetes_None_of_the_above',\n",
       "       '6177_2-Medication_for_cholesterol_blood_pressure_or_diabetes_Blood_pressure_medication',\n",
       "       'I9_CHD-Major_coronary_heart_disease_event',\n",
       "       'I9_CHD_NOREV-Major_coronary_heart_disease_event_excluding_revascularizations',\n",
       "       'I9_CORATHER-Coronary_atherosclerosis',\n",
       "       'I9_IHD-Ischaemic_heart_disease_wide_definition',\n",
       "       'I9_MI-Myocardial_infarction',\n",
       "       'I9_MI_STRICT-Myocardial_infarction_strict',\n",
       "       'I9_UAP-Unstable_angina_pectoris',\n",
       "       'IX_CIRCULATORY-Diseases_of_the_circulatory_system',\n",
       "       'acute myocardial infarction', 'angina pectoris', 'chronic disease',\n",
       "       'coronary artery disease', 'hypercholesterolemia', 'hypertension',\n",
       "       'myocardial infarction',\n",
       "       'number of non-cancer illnesses, self-reported',\n",
       "       'number of treatments or medications taken, self-reported'],\n",
       "      dtype='object')"
      ]
     },
     "metadata": {},
     "output_type": "display_data"
    },
    {
     "data": {
      "text/html": [
       "<h3>Cluster 20.16</h3>"
      ],
      "text/plain": [
       "<IPython.core.display.HTML object>"
      ]
     },
     "metadata": {},
     "output_type": "display_data"
    },
    {
     "data": {
      "text/plain": [
       "6"
      ]
     },
     "metadata": {},
     "output_type": "display_data"
    },
    {
     "data": {
      "text/plain": [
       "Index(['30060_raw-Mean_corpuscular_haemoglobin_concentration',\n",
       "       '30120_raw-Lymphocyte_count',\n",
       "       '6152_100-Blood_clot_DVT_bronchitis_emphysema_asthma_rhinitis_eczema_allergy_diagnosed_by_doctor_None_of_the_above',\n",
       "       '6152_8-Blood_clot_DVT_bronchitis_emphysema_asthma_rhinitis_eczema_allergy_diagnosed_by_doctor_Asthma',\n",
       "       '6152_9-Blood_clot_DVT_bronchitis_emphysema_asthma_rhinitis_eczema_allergy_diagnosed_by_doctor_Hayfever_allergic_rhinitis_or_eczema',\n",
       "       'asthma'],\n",
       "      dtype='object')"
      ]
     },
     "metadata": {},
     "output_type": "display_data"
    },
    {
     "data": {
      "text/html": [
       "<h3>Cluster 20.17</h3>"
      ],
      "text/plain": [
       "<IPython.core.display.HTML object>"
      ]
     },
     "metadata": {},
     "output_type": "display_data"
    },
    {
     "data": {
      "text/plain": [
       "15"
      ]
     },
     "metadata": {},
     "output_type": "display_data"
    },
    {
     "data": {
      "text/plain": [
       "Index(['EAGLE_Eczema', 'Jones_et_al_2016_Chronotype', 'MAGNETIC_CH2.DB.ratio',\n",
       "       'MAGNETIC_HDL.C', 'MAGNETIC_IDL.TG', 'MAGNETIC_LDL.C',\n",
       "       'alzheimer's disease', 'bone density', 'depressive symptom measurement',\n",
       "       'estrogen-receptor negative breast cancer',\n",
       "       'estrogen-receptor positive breast cancer',\n",
       "       'family history of breast cancer', 'fasting blood glucose measurement',\n",
       "       'fasting blood insulin measurement', 'intracranial volume measurement'],\n",
       "      dtype='object')"
      ]
     },
     "metadata": {},
     "output_type": "display_data"
    },
    {
     "data": {
      "text/html": [
       "<h3>Cluster 20.18</h3>"
      ],
      "text/plain": [
       "<IPython.core.display.HTML object>"
      ]
     },
     "metadata": {},
     "output_type": "display_data"
    },
    {
     "data": {
      "text/plain": [
       "4"
      ]
     },
     "metadata": {},
     "output_type": "display_data"
    },
    {
     "data": {
      "text/plain": [
       "Index(['C3_MALE_GENITAL-malignant_neoplasm_of_male_genital_organs',\n",
       "       'C_MALE_GENITAL', 'C_PROSTATE-Malignant_neoplasm_of_prostate',\n",
       "       'prostate carcinoma'],\n",
       "      dtype='object')"
      ]
     },
     "metadata": {},
     "output_type": "display_data"
    },
    {
     "data": {
      "text/html": [
       "<h3>Cluster 20.19</h3>"
      ],
      "text/plain": [
       "<IPython.core.display.HTML object>"
      ]
     },
     "metadata": {},
     "output_type": "display_data"
    },
    {
     "data": {
      "text/plain": [
       "8"
      ]
     },
     "metadata": {},
     "output_type": "display_data"
    },
    {
     "data": {
      "text/plain": [
       "Index(['5096_raw-3mm_weak_meridian_left', '5097_raw-6mm_weak_meridian_left',\n",
       "       '5098_raw-6mm_weak_meridian_right', '5099_raw-3mm_weak_meridian_right',\n",
       "       '5132_raw-3mm_strong_meridian_right',\n",
       "       '5133_raw-6mm_strong_meridian_right',\n",
       "       '5134_raw-6mm_strong_meridian_left',\n",
       "       '5135_raw-3mm_strong_meridian_left'],\n",
       "      dtype='object')"
      ]
     },
     "metadata": {},
     "output_type": "display_data"
    },
    {
     "data": {
      "text/html": [
       "<h2>Partition with k=21</h2>"
      ],
      "text/plain": [
       "<IPython.core.display.HTML object>"
      ]
     },
     "metadata": {},
     "output_type": "display_data"
    },
    {
     "data": {
      "text/plain": [
       "method                                                 scc_025\n",
       "partition    [0, 0, 0, 0, 0, 0, 0, 0, 0, 0, 0, 0, 0, 0, 0, ...\n",
       "ami_mean                                              0.289048\n",
       "selected                                                  True\n",
       "Name: 21, dtype: object"
      ]
     },
     "metadata": {},
     "output_type": "display_data"
    },
    {
     "data": {
      "text/plain": [
       "(3749,)"
      ]
     },
     "metadata": {},
     "output_type": "display_data"
    },
    {
     "data": {
      "text/plain": [
       "0     3407\n",
       "19     136\n",
       "20      61\n",
       "15      19\n",
       "8       18\n",
       "6       13\n",
       "16      12\n",
       "3       12\n",
       "9        9\n",
       "2        8\n",
       "11       8\n",
       "12       7\n",
       "17       6\n",
       "10       6\n",
       "14       5\n",
       "1        5\n",
       "7        5\n",
       "13       4\n",
       "5        4\n",
       "4        3\n",
       "18       1\n",
       "dtype: int64"
      ]
     },
     "metadata": {},
     "output_type": "display_data"
    },
    {
     "data": {
      "text/html": [
       "<h3>Cluster 21.0</h3>"
      ],
      "text/plain": [
       "<IPython.core.display.HTML object>"
      ]
     },
     "metadata": {},
     "output_type": "display_data"
    },
    {
     "data": {
      "text/plain": [
       "3407"
      ]
     },
     "metadata": {},
     "output_type": "display_data"
    },
    {
     "data": {
      "text/plain": [
       "Index(['100001_raw-Food_weight', '100002_raw-Energy', '100003_raw-Protein',\n",
       "       '100004_raw-Fat', '100005_raw-Carbohydrate', '100006_raw-Saturated_fat',\n",
       "       '100007_raw-Polyunsaturated_fat', '100008_raw-Total_sugars',\n",
       "       '100009_raw-Englyst_dietary_fibre', '100010-Portion_size',\n",
       "       ...\n",
       "       'viral disease', 'viral human hepatitis infection', 'viral meningitis',\n",
       "       'visual impairment', 'vitiligo', 'vitreous body disease',\n",
       "       'vocal cord polyp', 'voice disorders',\n",
       "       'wellbeing measurement AND family relationship', 'whooping cough'],\n",
       "      dtype='object', length=3407)"
      ]
     },
     "metadata": {},
     "output_type": "display_data"
    },
    {
     "data": {
      "text/html": [
       "<h3>Cluster 21.1</h3>"
      ],
      "text/plain": [
       "<IPython.core.display.HTML object>"
      ]
     },
     "metadata": {},
     "output_type": "display_data"
    },
    {
     "data": {
      "text/plain": [
       "5"
      ]
     },
     "metadata": {},
     "output_type": "display_data"
    },
    {
     "data": {
      "text/plain": [
       "Index(['23106_raw-Impedance_of_whole_body', '23107_raw-Impedance_of_leg_right',\n",
       "       '23108_raw-Impedance_of_leg_left', '23109_raw-Impedance_of_arm_right',\n",
       "       '23110_raw-Impedance_of_arm_left'],\n",
       "      dtype='object')"
      ]
     },
     "metadata": {},
     "output_type": "display_data"
    },
    {
     "data": {
      "text/html": [
       "<h3>Cluster 21.2</h3>"
      ],
      "text/plain": [
       "<IPython.core.display.HTML object>"
      ]
     },
     "metadata": {},
     "output_type": "display_data"
    },
    {
     "data": {
      "text/plain": [
       "8"
      ]
     },
     "metadata": {},
     "output_type": "display_data"
    },
    {
     "data": {
      "text/plain": [
       "Index(['5096_raw-3mm_weak_meridian_left', '5097_raw-6mm_weak_meridian_left',\n",
       "       '5098_raw-6mm_weak_meridian_right', '5099_raw-3mm_weak_meridian_right',\n",
       "       '5132_raw-3mm_strong_meridian_right',\n",
       "       '5133_raw-6mm_strong_meridian_right',\n",
       "       '5134_raw-6mm_strong_meridian_left',\n",
       "       '5135_raw-3mm_strong_meridian_left'],\n",
       "      dtype='object')"
      ]
     },
     "metadata": {},
     "output_type": "display_data"
    },
    {
     "data": {
      "text/html": [
       "<h3>Cluster 21.3</h3>"
      ],
      "text/plain": [
       "<IPython.core.display.HTML object>"
      ]
     },
     "metadata": {},
     "output_type": "display_data"
    },
    {
     "data": {
      "text/plain": [
       "12"
      ]
     },
     "metadata": {},
     "output_type": "display_data"
    },
    {
     "data": {
      "text/plain": [
       "Index(['3144_raw-Heel_Broadband_ultrasound_attenuation_direct_entry',\n",
       "       '3147_raw-Heel_quantitative_ultrasound_index_QUI_direct_entry',\n",
       "       '3148_raw-Heel_bone_mineral_density_BMD',\n",
       "       '4101_raw-Heel_broadband_ultrasound_attenuation_left',\n",
       "       '4104_raw-Heel_quantitative_ultrasound_index_QUI_direct_entry_left',\n",
       "       '4105_raw-Heel_bone_mineral_density_BMD_left',\n",
       "       '4106_raw-Heel_bone_mineral_density_BMD_Tscore_automated_left',\n",
       "       '4120_raw-Heel_broadband_ultrasound_attenuation_right',\n",
       "       '4123_raw-Heel_quantitative_ultrasound_index_QUI_direct_entry_right',\n",
       "       '4124_raw-Heel_bone_mineral_density_BMD_right',\n",
       "       '4125_raw-Heel_bone_mineral_density_BMD_Tscore_automated_right',\n",
       "       '78_raw-Heel_bone_mineral_density_BMD_Tscore_automated'],\n",
       "      dtype='object')"
      ]
     },
     "metadata": {},
     "output_type": "display_data"
    },
    {
     "data": {
      "text/html": [
       "<h3>Cluster 21.4</h3>"
      ],
      "text/plain": [
       "<IPython.core.display.HTML object>"
      ]
     },
     "metadata": {},
     "output_type": "display_data"
    },
    {
     "data": {
      "text/plain": [
       "3"
      ]
     },
     "metadata": {},
     "output_type": "display_data"
    },
    {
     "data": {
      "text/plain": [
       "Index(['20015_raw-Sitting_height', '50_raw-Standing_height', 'body height'], dtype='object')"
      ]
     },
     "metadata": {},
     "output_type": "display_data"
    },
    {
     "data": {
      "text/html": [
       "<h3>Cluster 21.5</h3>"
      ],
      "text/plain": [
       "<IPython.core.display.HTML object>"
      ]
     },
     "metadata": {},
     "output_type": "display_data"
    },
    {
     "data": {
      "text/plain": [
       "4"
      ]
     },
     "metadata": {},
     "output_type": "display_data"
    },
    {
     "data": {
      "text/plain": [
       "Index(['30040_raw-Mean_corpuscular_volume',\n",
       "       '30050_raw-Mean_corpuscular_haemoglobin',\n",
       "       '30260_raw-Mean_reticulocyte_volume',\n",
       "       '30270_raw-Mean_sphered_cell_volume'],\n",
       "      dtype='object')"
      ]
     },
     "metadata": {},
     "output_type": "display_data"
    },
    {
     "data": {
      "text/html": [
       "<h3>Cluster 21.6</h3>"
      ],
      "text/plain": [
       "<IPython.core.display.HTML object>"
      ]
     },
     "metadata": {},
     "output_type": "display_data"
    },
    {
     "data": {
      "text/plain": [
       "13"
      ]
     },
     "metadata": {},
     "output_type": "display_data"
    },
    {
     "data": {
      "text/plain": [
       "Index(['23101_raw-Whole_body_fatfree_mass', '23102_raw-Whole_body_water_mass',\n",
       "       '23105_raw-Basal_metabolic_rate', '23113_raw-Leg_fatfree_mass_right',\n",
       "       '23114_raw-Leg_predicted_mass_right', '23117_raw-Leg_fatfree_mass_left',\n",
       "       '23118_raw-Leg_predicted_mass_left', '23121_raw-Arm_fatfree_mass_right',\n",
       "       '23122_raw-Arm_predicted_mass_right', '23125_raw-Arm_fatfree_mass_left',\n",
       "       '23126_raw-Arm_predicted_mass_left', '23129_raw-Trunk_fatfree_mass',\n",
       "       '23130_raw-Trunk_predicted_mass'],\n",
       "      dtype='object')"
      ]
     },
     "metadata": {},
     "output_type": "display_data"
    },
    {
     "data": {
      "text/html": [
       "<h3>Cluster 21.7</h3>"
      ],
      "text/plain": [
       "<IPython.core.display.HTML object>"
      ]
     },
     "metadata": {},
     "output_type": "display_data"
    },
    {
     "data": {
      "text/plain": [
       "5"
      ]
     },
     "metadata": {},
     "output_type": "display_data"
    },
    {
     "data": {
      "text/plain": [
       "Index(['30080_raw-Platelet_count', '30090_raw-Platelet_crit',\n",
       "       '30100_raw-Mean_platelet_thrombocyte_volume',\n",
       "       '30110_raw-Platelet_distribution_width', 'platelet count'],\n",
       "      dtype='object')"
      ]
     },
     "metadata": {},
     "output_type": "display_data"
    },
    {
     "data": {
      "text/html": [
       "<h3>Cluster 21.8</h3>"
      ],
      "text/plain": [
       "<IPython.core.display.HTML object>"
      ]
     },
     "metadata": {},
     "output_type": "display_data"
    },
    {
     "data": {
      "text/plain": [
       "18"
      ]
     },
     "metadata": {},
     "output_type": "display_data"
    },
    {
     "data": {
      "text/plain": [
       "Index(['21001_raw-Body_mass_index_BMI', '21002_raw-Weight', '23098_raw-Weight',\n",
       "       '23099_raw-Body_fat_percentage', '23100_raw-Whole_body_fat_mass',\n",
       "       '23104_raw-Body_mass_index_BMI', '23111_raw-Leg_fat_percentage_right',\n",
       "       '23112_raw-Leg_fat_mass_right', '23115_raw-Leg_fat_percentage_left',\n",
       "       '23116_raw-Leg_fat_mass_left', '23119_raw-Arm_fat_percentage_right',\n",
       "       '23120_raw-Arm_fat_mass_right', '23123_raw-Arm_fat_percentage_left',\n",
       "       '23124_raw-Arm_fat_mass_left', '23127_raw-Trunk_fat_percentage',\n",
       "       '23128_raw-Trunk_fat_mass', '48_raw-Waist_circumference',\n",
       "       '49_raw-Hip_circumference'],\n",
       "      dtype='object')"
      ]
     },
     "metadata": {},
     "output_type": "display_data"
    },
    {
     "data": {
      "text/html": [
       "<h3>Cluster 21.9</h3>"
      ],
      "text/plain": [
       "<IPython.core.display.HTML object>"
      ]
     },
     "metadata": {},
     "output_type": "display_data"
    },
    {
     "data": {
      "text/plain": [
       "9"
      ]
     },
     "metadata": {},
     "output_type": "display_data"
    },
    {
     "data": {
      "text/plain": [
       "Index(['30130_raw-Monocyte_count', '30150-Eosinophill_count',\n",
       "       '30180_raw-Lymphocyte_percentage', '30190_raw-Monocyte_percentage',\n",
       "       '30200_raw-Neutrophill_percentage', '30210_raw-Eosinophill_percentage',\n",
       "       'eosinophil count', 'lymphocyte count', 'monocyte count'],\n",
       "      dtype='object')"
      ]
     },
     "metadata": {},
     "output_type": "display_data"
    },
    {
     "data": {
      "text/html": [
       "<h3>Cluster 21.10</h3>"
      ],
      "text/plain": [
       "<IPython.core.display.HTML object>"
      ]
     },
     "metadata": {},
     "output_type": "display_data"
    },
    {
     "data": {
      "text/plain": [
       "6"
      ]
     },
     "metadata": {},
     "output_type": "display_data"
    },
    {
     "data": {
      "text/plain": [
       "Index(['30240_raw-Reticulocyte_percentage', '30250_raw-Reticulocyte_count',\n",
       "       '30280_raw-Immature_reticulocyte_fraction',\n",
       "       '30290_raw-High_light_scatter_reticulocyte_percentage',\n",
       "       '30300_raw-High_light_scatter_reticulocyte_count',\n",
       "       'reticulocyte count'],\n",
       "      dtype='object')"
      ]
     },
     "metadata": {},
     "output_type": "display_data"
    },
    {
     "data": {
      "text/html": [
       "<h3>Cluster 21.11</h3>"
      ],
      "text/plain": [
       "<IPython.core.display.HTML object>"
      ]
     },
     "metadata": {},
     "output_type": "display_data"
    },
    {
     "data": {
      "text/plain": [
       "8"
      ]
     },
     "metadata": {},
     "output_type": "display_data"
    },
    {
     "data": {
      "text/plain": [
       "Index(['1717-Skin_colour', '1727-Ease_of_skin_tanning',\n",
       "       '1737-Childhood_sunburn_occasions',\n",
       "       '1747_1-Hair_colour_natural_before_greying_Blonde',\n",
       "       '1747_2-Hair_colour_natural_before_greying_Red',\n",
       "       '1747_3-Hair_colour_natural_before_greying_Light_brown',\n",
       "       '1747_4-Hair_colour_natural_before_greying_Dark_brown',\n",
       "       '1747_5-Hair_colour_natural_before_greying_Black'],\n",
       "      dtype='object')"
      ]
     },
     "metadata": {},
     "output_type": "display_data"
    },
    {
     "data": {
      "text/html": [
       "<h3>Cluster 21.12</h3>"
      ],
      "text/plain": [
       "<IPython.core.display.HTML object>"
      ]
     },
     "metadata": {},
     "output_type": "display_data"
    },
    {
     "data": {
      "text/plain": [
       "7"
      ]
     },
     "metadata": {},
     "output_type": "display_data"
    },
    {
     "data": {
      "text/plain": [
       "Index(['4079_raw-Diastolic_blood_pressure_automated_reading',\n",
       "       '4080_raw-Systolic_blood_pressure_automated_reading',\n",
       "       '6150_100-Vascularheart_problems_diagnosed_by_doctor_None_of_the_above',\n",
       "       '6150_4-Vascularheart_problems_diagnosed_by_doctor_High_blood_pressure',\n",
       "       '6153_2-Medication_for_cholesterol_blood_pressure_diabetes_or_take_exogenous_hormones_Blood_pressure_medication',\n",
       "       '6177_2-Medication_for_cholesterol_blood_pressure_or_diabetes_Blood_pressure_medication',\n",
       "       'hypertension'],\n",
       "      dtype='object')"
      ]
     },
     "metadata": {},
     "output_type": "display_data"
    },
    {
     "data": {
      "text/html": [
       "<h3>Cluster 21.13</h3>"
      ],
      "text/plain": [
       "<IPython.core.display.HTML object>"
      ]
     },
     "metadata": {},
     "output_type": "display_data"
    },
    {
     "data": {
      "text/plain": [
       "4"
      ]
     },
     "metadata": {},
     "output_type": "display_data"
    },
    {
     "data": {
      "text/plain": [
       "Index(['20150_raw-Forced_expiratory_volume_in_1second_FEV1_Best_measure',\n",
       "       '20151_raw-Forced_vital_capacity_FVC_Best_measure',\n",
       "       '3062_raw-Forced_vital_capacity_FVC',\n",
       "       '3063_raw-Forced_expiratory_volume_in_1second_FEV1'],\n",
       "      dtype='object')"
      ]
     },
     "metadata": {},
     "output_type": "display_data"
    },
    {
     "data": {
      "text/html": [
       "<h3>Cluster 21.14</h3>"
      ],
      "text/plain": [
       "<IPython.core.display.HTML object>"
      ]
     },
     "metadata": {},
     "output_type": "display_data"
    },
    {
     "data": {
      "text/plain": [
       "5"
      ]
     },
     "metadata": {},
     "output_type": "display_data"
    },
    {
     "data": {
      "text/plain": [
       "Index(['30010_raw-Red_blood_cell_erythrocyte_count',\n",
       "       '30020_raw-Haemoglobin_concentration',\n",
       "       '30030_raw-Haematocrit_percentage',\n",
       "       '30070_raw-Red_blood_cell_erythrocyte_distribution_width',\n",
       "       'erythrocyte count'],\n",
       "      dtype='object')"
      ]
     },
     "metadata": {},
     "output_type": "display_data"
    },
    {
     "data": {
      "text/html": [
       "<h3>Cluster 21.15</h3>"
      ],
      "text/plain": [
       "<IPython.core.display.HTML object>"
      ]
     },
     "metadata": {},
     "output_type": "display_data"
    },
    {
     "data": {
      "text/plain": [
       "19"
      ]
     },
     "metadata": {},
     "output_type": "display_data"
    },
    {
     "data": {
      "text/plain": [
       "Index(['1050-Time_spend_outdoors_in_summer',\n",
       "       '1070-Time_spent_watching_television_TV', '1448_1-Bread_type_White',\n",
       "       '1448_3-Bread_type_Wholemeal_or_wholegrain',\n",
       "       '20016_raw-Fluid_intelligence_score',\n",
       "       '2139_raw-Age_first_had_sexual_intercourse',\n",
       "       '22501_raw-Year_ended_full_time_education',\n",
       "       '2754_raw-Age_at_first_live_birth',\n",
       "       '6138_1-Qualifications_College_or_University_degree',\n",
       "       '6138_100-Qualifications_None_of_the_above',\n",
       "       '6138_2-Qualifications_A_levelsAS_levels_or_equivalent',\n",
       "       '6138_3-Qualifications_O_levelsGCSEs_or_equivalent',\n",
       "       '738-Average_total_household_income_before_tax',\n",
       "       '806-Job_involves_mainly_walking_or_standing',\n",
       "       '816-Job_involves_heavy_manual_or_physical_work',\n",
       "       'SSGAC_Education_Years_Pooled', 'schizophrenia', 'self rated health',\n",
       "       'self reported educational attainment'],\n",
       "      dtype='object')"
      ]
     },
     "metadata": {},
     "output_type": "display_data"
    },
    {
     "data": {
      "text/html": [
       "<h3>Cluster 21.16</h3>"
      ],
      "text/plain": [
       "<IPython.core.display.HTML object>"
      ]
     },
     "metadata": {},
     "output_type": "display_data"
    },
    {
     "data": {
      "text/plain": [
       "12"
      ]
     },
     "metadata": {},
     "output_type": "display_data"
    },
    {
     "data": {
      "text/plain": [
       "Index(['20003_1140883066-Treatmentmedication_code_insulin_product',\n",
       "       '20003_1141191044-Treatmentmedication_code_levothyroxine_sodium',\n",
       "       '2986-Started_insulin_within_one_year_diagnosis_of_diabetes',\n",
       "       '6144_3-Never_eat_eggs_dairy_wheat_sugar_Wheat_products',\n",
       "       'K11_COELIAC-Coeliac_disease', 'celiac disease',\n",
       "       'hyperthyroidism AND thyrotoxicosis', 'hypothyroidism AND myxedema',\n",
       "       'malabsorption syndrome', 'psoriasis', 'rheumatoid arthritis',\n",
       "       'systemic lupus erythematosus'],\n",
       "      dtype='object')"
      ]
     },
     "metadata": {},
     "output_type": "display_data"
    },
    {
     "data": {
      "text/html": [
       "<h3>Cluster 21.17</h3>"
      ],
      "text/plain": [
       "<IPython.core.display.HTML object>"
      ]
     },
     "metadata": {},
     "output_type": "display_data"
    },
    {
     "data": {
      "text/plain": [
       "6"
      ]
     },
     "metadata": {},
     "output_type": "display_data"
    },
    {
     "data": {
      "text/plain": [
       "Index(['30000_raw-White_blood_cell_leukocyte_count',\n",
       "       '30140_raw-Neutrophill_count', 'granulocyte count', 'leukocyte count',\n",
       "       'myeloid white cell count', 'neutrophil count'],\n",
       "      dtype='object')"
      ]
     },
     "metadata": {},
     "output_type": "display_data"
    },
    {
     "data": {
      "text/html": [
       "<h3>Cluster 21.18</h3>"
      ],
      "text/plain": [
       "<IPython.core.display.HTML object>"
      ]
     },
     "metadata": {},
     "output_type": "display_data"
    },
    {
     "data": {
      "text/plain": [
       "1"
      ]
     },
     "metadata": {},
     "output_type": "display_data"
    },
    {
     "data": {
      "text/plain": [
       "Index(['20153_raw-Forced_expiratory_volume_in_1second_FEV1_predicted'], dtype='object')"
      ]
     },
     "metadata": {},
     "output_type": "display_data"
    },
    {
     "data": {
      "text/html": [
       "<h3>Cluster 21.19</h3>"
      ],
      "text/plain": [
       "<IPython.core.display.HTML object>"
      ]
     },
     "metadata": {},
     "output_type": "display_data"
    },
    {
     "data": {
      "text/plain": [
       "136"
      ]
     },
     "metadata": {},
     "output_type": "display_data"
    },
    {
     "data": {
      "text/plain": [
       "Index(['129_raw-Place_of_birth_in_UK_north_coordinate',\n",
       "       '130_raw-Place_of_birth_in_UK_east_coordinate',\n",
       "       '20074_raw-Home_location_at_assessment_east_coordinate_rounded',\n",
       "       '20075_raw-Home_location_at_assessment_north_coordinate_rounded',\n",
       "       '20118_11-Home_area_population_density_urban_or_rural_Scotland_Large_Urban_Area',\n",
       "       '22704_raw-Home_location_north_coordinate_rounded',\n",
       "       '30220_raw-Basophill_percentage', 'abdominal injury',\n",
       "       'abnormal delivery', 'alcohol dependence',\n",
       "       ...\n",
       "       'tongue neoplasm', 'transient ischemic attack', 'tuberculosis',\n",
       "       'type ii diabetes mellitus', 'ulcerative colitis',\n",
       "       'urogenital neoplasm', 'urticaria', 'vascular disease', 'vasculitis',\n",
       "       'wrist fracture'],\n",
       "      dtype='object', length=136)"
      ]
     },
     "metadata": {},
     "output_type": "display_data"
    },
    {
     "data": {
      "text/html": [
       "<h3>Cluster 21.20</h3>"
      ],
      "text/plain": [
       "<IPython.core.display.HTML object>"
      ]
     },
     "metadata": {},
     "output_type": "display_data"
    },
    {
     "data": {
      "text/plain": [
       "61"
      ]
     },
     "metadata": {},
     "output_type": "display_data"
    },
    {
     "data": {
      "text/plain": [
       "Index(['102_raw-Pulse_rate_automated_reading',\n",
       "       '1080-Time_spent_using_computer', '1110-Length_of_mobile_phone_use',\n",
       "       '1319-Dried_fruit_intake', '1478-Salt_added_to_food',\n",
       "       '1488_raw-Tea_intake', '1518-Hot_drink_temperature',\n",
       "       '1528-Water_intake', '1757-Facial_ageing', '20022_raw-Birth_weight',\n",
       "       '20023_raw-Mean_time_to_correctly_identify_matches',\n",
       "       '20116_0-Smoking_status_Never', '20116_1-Smoking_status_Previous',\n",
       "       '20127_raw-Neuroticism_score',\n",
       "       '20154_raw-Forced_expiratory_volume_in_1second_FEV1_predicted_percentage',\n",
       "       '20160-Ever_smoked',\n",
       "       '2217_raw-Age_started_wearing_glasses_or_contact_lenses',\n",
       "       '2237-Plays_computer_games', '2267-Use_of_sunuv_protection',\n",
       "       '2395_1-Hairbalding_pattern_Pattern_1',\n",
       "       '30060_raw-Mean_corpuscular_haemoglobin_concentration',\n",
       "       '30120_raw-Lymphocyte_count', '30510_raw-Creatinine_enzymatic_in_urine',\n",
       "       '30530_raw-Sodium_in_urine', '3064_raw-Peak_expiratory_flow_PEF',\n",
       "       '399_raw-Number_of_incorrect_matches_in_round',\n",
       "       '400_raw-Time_to_complete_round',\n",
       "       '404_raw-Duration_to_first_press_of_snapbutton_in_each_round',\n",
       "       '4100_raw-Ankle_spacing_width_left',\n",
       "       '4119_raw-Ankle_spacing_width_right', '4194_raw-Pulse_rate',\n",
       "       '46_raw-Hand_grip_strength_left', '47_raw-Hand_grip_strength_right',\n",
       "       '5084_raw-Spherical_power_right', '5085_raw-Spherical_power_left',\n",
       "       '6152_100-Blood_clot_DVT_bronchitis_emphysema_asthma_rhinitis_eczema_allergy_diagnosed_by_doctor_None_of_the_above',\n",
       "       '6152_8-Blood_clot_DVT_bronchitis_emphysema_asthma_rhinitis_eczema_allergy_diagnosed_by_doctor_Asthma',\n",
       "       '6152_9-Blood_clot_DVT_bronchitis_emphysema_asthma_rhinitis_eczema_allergy_diagnosed_by_doctor_Hayfever_allergic_rhinitis_or_eczema',\n",
       "       '924-Usual_walking_pace', 'age at first facial hair', 'age at menarche',\n",
       "       'anxiety', 'asthma', 'chronotype measurement',\n",
       "       'comparative body size at age 10, self-reported',\n",
       "       'ease of getting up in the morning, self-reported',\n",
       "       'excessive daytime sleepiness measurement AND narcolepsy without cataplexy',\n",
       "       'feeling tense measurement', 'hearing loss',\n",
       "       'inflammatory bowel disease', 'insomnia', 'irritability', 'mood swings',\n",
       "       'nap during day, self-reported', 'nervousness', 'sleep duration',\n",
       "       'smoking cessation', 'snoring measurement', 'tiredness measurement',\n",
       "       'wheezing', 'worry measurement'],\n",
       "      dtype='object')"
      ]
     },
     "metadata": {},
     "output_type": "display_data"
    },
    {
     "data": {
      "text/html": [
       "<h2>Partition with k=22</h2>"
      ],
      "text/plain": [
       "<IPython.core.display.HTML object>"
      ]
     },
     "metadata": {},
     "output_type": "display_data"
    },
    {
     "data": {
      "text/plain": [
       "method                                                 scc_025\n",
       "partition    [1, 1, 1, 1, 1, 1, 1, 1, 1, 1, 1, 1, 1, 1, 1, ...\n",
       "ami_mean                                              0.290187\n",
       "selected                                                  True\n",
       "Name: 22, dtype: object"
      ]
     },
     "metadata": {},
     "output_type": "display_data"
    },
    {
     "data": {
      "text/plain": [
       "(3749,)"
      ]
     },
     "metadata": {},
     "output_type": "display_data"
    },
    {
     "data": {
      "text/plain": [
       "1     3382\n",
       "19     136\n",
       "21      62\n",
       "20      27\n",
       "18      19\n",
       "8       18\n",
       "7       13\n",
       "4       12\n",
       "14      12\n",
       "17       9\n",
       "0        8\n",
       "6        8\n",
       "11       6\n",
       "10       6\n",
       "5        5\n",
       "3        5\n",
       "12       5\n",
       "13       4\n",
       "15       4\n",
       "9        4\n",
       "2        3\n",
       "16       1\n",
       "dtype: int64"
      ]
     },
     "metadata": {},
     "output_type": "display_data"
    },
    {
     "data": {
      "text/html": [
       "<h3>Cluster 22.0</h3>"
      ],
      "text/plain": [
       "<IPython.core.display.HTML object>"
      ]
     },
     "metadata": {},
     "output_type": "display_data"
    },
    {
     "data": {
      "text/plain": [
       "8"
      ]
     },
     "metadata": {},
     "output_type": "display_data"
    },
    {
     "data": {
      "text/plain": [
       "Index(['1717-Skin_colour', '1727-Ease_of_skin_tanning',\n",
       "       '1737-Childhood_sunburn_occasions',\n",
       "       '1747_1-Hair_colour_natural_before_greying_Blonde',\n",
       "       '1747_2-Hair_colour_natural_before_greying_Red',\n",
       "       '1747_3-Hair_colour_natural_before_greying_Light_brown',\n",
       "       '1747_4-Hair_colour_natural_before_greying_Dark_brown',\n",
       "       '1747_5-Hair_colour_natural_before_greying_Black'],\n",
       "      dtype='object')"
      ]
     },
     "metadata": {},
     "output_type": "display_data"
    },
    {
     "data": {
      "text/html": [
       "<h3>Cluster 22.1</h3>"
      ],
      "text/plain": [
       "<IPython.core.display.HTML object>"
      ]
     },
     "metadata": {},
     "output_type": "display_data"
    },
    {
     "data": {
      "text/plain": [
       "3382"
      ]
     },
     "metadata": {},
     "output_type": "display_data"
    },
    {
     "data": {
      "text/plain": [
       "Index(['100001_raw-Food_weight', '100002_raw-Energy', '100003_raw-Protein',\n",
       "       '100004_raw-Fat', '100005_raw-Carbohydrate', '100006_raw-Saturated_fat',\n",
       "       '100007_raw-Polyunsaturated_fat', '100008_raw-Total_sugars',\n",
       "       '100009_raw-Englyst_dietary_fibre', '100010-Portion_size',\n",
       "       ...\n",
       "       'viral disease', 'viral human hepatitis infection', 'viral meningitis',\n",
       "       'visual impairment', 'vitiligo', 'vitreous body disease',\n",
       "       'vocal cord polyp', 'voice disorders',\n",
       "       'wellbeing measurement AND family relationship', 'whooping cough'],\n",
       "      dtype='object', length=3382)"
      ]
     },
     "metadata": {},
     "output_type": "display_data"
    },
    {
     "data": {
      "text/html": [
       "<h3>Cluster 22.2</h3>"
      ],
      "text/plain": [
       "<IPython.core.display.HTML object>"
      ]
     },
     "metadata": {},
     "output_type": "display_data"
    },
    {
     "data": {
      "text/plain": [
       "3"
      ]
     },
     "metadata": {},
     "output_type": "display_data"
    },
    {
     "data": {
      "text/plain": [
       "Index(['20015_raw-Sitting_height', '50_raw-Standing_height', 'body height'], dtype='object')"
      ]
     },
     "metadata": {},
     "output_type": "display_data"
    },
    {
     "data": {
      "text/html": [
       "<h3>Cluster 22.3</h3>"
      ],
      "text/plain": [
       "<IPython.core.display.HTML object>"
      ]
     },
     "metadata": {},
     "output_type": "display_data"
    },
    {
     "data": {
      "text/plain": [
       "5"
      ]
     },
     "metadata": {},
     "output_type": "display_data"
    },
    {
     "data": {
      "text/plain": [
       "Index(['23106_raw-Impedance_of_whole_body', '23107_raw-Impedance_of_leg_right',\n",
       "       '23108_raw-Impedance_of_leg_left', '23109_raw-Impedance_of_arm_right',\n",
       "       '23110_raw-Impedance_of_arm_left'],\n",
       "      dtype='object')"
      ]
     },
     "metadata": {},
     "output_type": "display_data"
    },
    {
     "data": {
      "text/html": [
       "<h3>Cluster 22.4</h3>"
      ],
      "text/plain": [
       "<IPython.core.display.HTML object>"
      ]
     },
     "metadata": {},
     "output_type": "display_data"
    },
    {
     "data": {
      "text/plain": [
       "12"
      ]
     },
     "metadata": {},
     "output_type": "display_data"
    },
    {
     "data": {
      "text/plain": [
       "Index(['3144_raw-Heel_Broadband_ultrasound_attenuation_direct_entry',\n",
       "       '3147_raw-Heel_quantitative_ultrasound_index_QUI_direct_entry',\n",
       "       '3148_raw-Heel_bone_mineral_density_BMD',\n",
       "       '4101_raw-Heel_broadband_ultrasound_attenuation_left',\n",
       "       '4104_raw-Heel_quantitative_ultrasound_index_QUI_direct_entry_left',\n",
       "       '4105_raw-Heel_bone_mineral_density_BMD_left',\n",
       "       '4106_raw-Heel_bone_mineral_density_BMD_Tscore_automated_left',\n",
       "       '4120_raw-Heel_broadband_ultrasound_attenuation_right',\n",
       "       '4123_raw-Heel_quantitative_ultrasound_index_QUI_direct_entry_right',\n",
       "       '4124_raw-Heel_bone_mineral_density_BMD_right',\n",
       "       '4125_raw-Heel_bone_mineral_density_BMD_Tscore_automated_right',\n",
       "       '78_raw-Heel_bone_mineral_density_BMD_Tscore_automated'],\n",
       "      dtype='object')"
      ]
     },
     "metadata": {},
     "output_type": "display_data"
    },
    {
     "data": {
      "text/html": [
       "<h3>Cluster 22.5</h3>"
      ],
      "text/plain": [
       "<IPython.core.display.HTML object>"
      ]
     },
     "metadata": {},
     "output_type": "display_data"
    },
    {
     "data": {
      "text/plain": [
       "5"
      ]
     },
     "metadata": {},
     "output_type": "display_data"
    },
    {
     "data": {
      "text/plain": [
       "Index(['30080_raw-Platelet_count', '30090_raw-Platelet_crit',\n",
       "       '30100_raw-Mean_platelet_thrombocyte_volume',\n",
       "       '30110_raw-Platelet_distribution_width', 'platelet count'],\n",
       "      dtype='object')"
      ]
     },
     "metadata": {},
     "output_type": "display_data"
    },
    {
     "data": {
      "text/html": [
       "<h3>Cluster 22.6</h3>"
      ],
      "text/plain": [
       "<IPython.core.display.HTML object>"
      ]
     },
     "metadata": {},
     "output_type": "display_data"
    },
    {
     "data": {
      "text/plain": [
       "8"
      ]
     },
     "metadata": {},
     "output_type": "display_data"
    },
    {
     "data": {
      "text/plain": [
       "Index(['5096_raw-3mm_weak_meridian_left', '5097_raw-6mm_weak_meridian_left',\n",
       "       '5098_raw-6mm_weak_meridian_right', '5099_raw-3mm_weak_meridian_right',\n",
       "       '5132_raw-3mm_strong_meridian_right',\n",
       "       '5133_raw-6mm_strong_meridian_right',\n",
       "       '5134_raw-6mm_strong_meridian_left',\n",
       "       '5135_raw-3mm_strong_meridian_left'],\n",
       "      dtype='object')"
      ]
     },
     "metadata": {},
     "output_type": "display_data"
    },
    {
     "data": {
      "text/html": [
       "<h3>Cluster 22.7</h3>"
      ],
      "text/plain": [
       "<IPython.core.display.HTML object>"
      ]
     },
     "metadata": {},
     "output_type": "display_data"
    },
    {
     "data": {
      "text/plain": [
       "13"
      ]
     },
     "metadata": {},
     "output_type": "display_data"
    },
    {
     "data": {
      "text/plain": [
       "Index(['23101_raw-Whole_body_fatfree_mass', '23102_raw-Whole_body_water_mass',\n",
       "       '23105_raw-Basal_metabolic_rate', '23113_raw-Leg_fatfree_mass_right',\n",
       "       '23114_raw-Leg_predicted_mass_right', '23117_raw-Leg_fatfree_mass_left',\n",
       "       '23118_raw-Leg_predicted_mass_left', '23121_raw-Arm_fatfree_mass_right',\n",
       "       '23122_raw-Arm_predicted_mass_right', '23125_raw-Arm_fatfree_mass_left',\n",
       "       '23126_raw-Arm_predicted_mass_left', '23129_raw-Trunk_fatfree_mass',\n",
       "       '23130_raw-Trunk_predicted_mass'],\n",
       "      dtype='object')"
      ]
     },
     "metadata": {},
     "output_type": "display_data"
    },
    {
     "data": {
      "text/html": [
       "<h3>Cluster 22.8</h3>"
      ],
      "text/plain": [
       "<IPython.core.display.HTML object>"
      ]
     },
     "metadata": {},
     "output_type": "display_data"
    },
    {
     "data": {
      "text/plain": [
       "18"
      ]
     },
     "metadata": {},
     "output_type": "display_data"
    },
    {
     "data": {
      "text/plain": [
       "Index(['21001_raw-Body_mass_index_BMI', '21002_raw-Weight', '23098_raw-Weight',\n",
       "       '23099_raw-Body_fat_percentage', '23100_raw-Whole_body_fat_mass',\n",
       "       '23104_raw-Body_mass_index_BMI', '23111_raw-Leg_fat_percentage_right',\n",
       "       '23112_raw-Leg_fat_mass_right', '23115_raw-Leg_fat_percentage_left',\n",
       "       '23116_raw-Leg_fat_mass_left', '23119_raw-Arm_fat_percentage_right',\n",
       "       '23120_raw-Arm_fat_mass_right', '23123_raw-Arm_fat_percentage_left',\n",
       "       '23124_raw-Arm_fat_mass_left', '23127_raw-Trunk_fat_percentage',\n",
       "       '23128_raw-Trunk_fat_mass', '48_raw-Waist_circumference',\n",
       "       '49_raw-Hip_circumference'],\n",
       "      dtype='object')"
      ]
     },
     "metadata": {},
     "output_type": "display_data"
    },
    {
     "data": {
      "text/html": [
       "<h3>Cluster 22.9</h3>"
      ],
      "text/plain": [
       "<IPython.core.display.HTML object>"
      ]
     },
     "metadata": {},
     "output_type": "display_data"
    },
    {
     "data": {
      "text/plain": [
       "4"
      ]
     },
     "metadata": {},
     "output_type": "display_data"
    },
    {
     "data": {
      "text/plain": [
       "Index(['30040_raw-Mean_corpuscular_volume',\n",
       "       '30050_raw-Mean_corpuscular_haemoglobin',\n",
       "       '30260_raw-Mean_reticulocyte_volume',\n",
       "       '30270_raw-Mean_sphered_cell_volume'],\n",
       "      dtype='object')"
      ]
     },
     "metadata": {},
     "output_type": "display_data"
    },
    {
     "data": {
      "text/html": [
       "<h3>Cluster 22.10</h3>"
      ],
      "text/plain": [
       "<IPython.core.display.HTML object>"
      ]
     },
     "metadata": {},
     "output_type": "display_data"
    },
    {
     "data": {
      "text/plain": [
       "6"
      ]
     },
     "metadata": {},
     "output_type": "display_data"
    },
    {
     "data": {
      "text/plain": [
       "Index(['30000_raw-White_blood_cell_leukocyte_count',\n",
       "       '30140_raw-Neutrophill_count', 'granulocyte count', 'leukocyte count',\n",
       "       'myeloid white cell count', 'neutrophil count'],\n",
       "      dtype='object')"
      ]
     },
     "metadata": {},
     "output_type": "display_data"
    },
    {
     "data": {
      "text/html": [
       "<h3>Cluster 22.11</h3>"
      ],
      "text/plain": [
       "<IPython.core.display.HTML object>"
      ]
     },
     "metadata": {},
     "output_type": "display_data"
    },
    {
     "data": {
      "text/plain": [
       "6"
      ]
     },
     "metadata": {},
     "output_type": "display_data"
    },
    {
     "data": {
      "text/plain": [
       "Index(['30240_raw-Reticulocyte_percentage', '30250_raw-Reticulocyte_count',\n",
       "       '30280_raw-Immature_reticulocyte_fraction',\n",
       "       '30290_raw-High_light_scatter_reticulocyte_percentage',\n",
       "       '30300_raw-High_light_scatter_reticulocyte_count',\n",
       "       'reticulocyte count'],\n",
       "      dtype='object')"
      ]
     },
     "metadata": {},
     "output_type": "display_data"
    },
    {
     "data": {
      "text/html": [
       "<h3>Cluster 22.12</h3>"
      ],
      "text/plain": [
       "<IPython.core.display.HTML object>"
      ]
     },
     "metadata": {},
     "output_type": "display_data"
    },
    {
     "data": {
      "text/plain": [
       "5"
      ]
     },
     "metadata": {},
     "output_type": "display_data"
    },
    {
     "data": {
      "text/plain": [
       "Index(['4079_raw-Diastolic_blood_pressure_automated_reading',\n",
       "       '4080_raw-Systolic_blood_pressure_automated_reading',\n",
       "       '6150_100-Vascularheart_problems_diagnosed_by_doctor_None_of_the_above',\n",
       "       '6150_4-Vascularheart_problems_diagnosed_by_doctor_High_blood_pressure',\n",
       "       'hypertension'],\n",
       "      dtype='object')"
      ]
     },
     "metadata": {},
     "output_type": "display_data"
    },
    {
     "data": {
      "text/html": [
       "<h3>Cluster 22.13</h3>"
      ],
      "text/plain": [
       "<IPython.core.display.HTML object>"
      ]
     },
     "metadata": {},
     "output_type": "display_data"
    },
    {
     "data": {
      "text/plain": [
       "4"
      ]
     },
     "metadata": {},
     "output_type": "display_data"
    },
    {
     "data": {
      "text/plain": [
       "Index(['20150_raw-Forced_expiratory_volume_in_1second_FEV1_Best_measure',\n",
       "       '20151_raw-Forced_vital_capacity_FVC_Best_measure',\n",
       "       '3062_raw-Forced_vital_capacity_FVC',\n",
       "       '3063_raw-Forced_expiratory_volume_in_1second_FEV1'],\n",
       "      dtype='object')"
      ]
     },
     "metadata": {},
     "output_type": "display_data"
    },
    {
     "data": {
      "text/html": [
       "<h3>Cluster 22.14</h3>"
      ],
      "text/plain": [
       "<IPython.core.display.HTML object>"
      ]
     },
     "metadata": {},
     "output_type": "display_data"
    },
    {
     "data": {
      "text/plain": [
       "12"
      ]
     },
     "metadata": {},
     "output_type": "display_data"
    },
    {
     "data": {
      "text/plain": [
       "Index(['20003_1140883066-Treatmentmedication_code_insulin_product',\n",
       "       '20003_1141191044-Treatmentmedication_code_levothyroxine_sodium',\n",
       "       '2986-Started_insulin_within_one_year_diagnosis_of_diabetes',\n",
       "       '6144_3-Never_eat_eggs_dairy_wheat_sugar_Wheat_products',\n",
       "       'K11_COELIAC-Coeliac_disease', 'celiac disease',\n",
       "       'hyperthyroidism AND thyrotoxicosis', 'hypothyroidism AND myxedema',\n",
       "       'malabsorption syndrome', 'psoriasis', 'rheumatoid arthritis',\n",
       "       'systemic lupus erythematosus'],\n",
       "      dtype='object')"
      ]
     },
     "metadata": {},
     "output_type": "display_data"
    },
    {
     "data": {
      "text/html": [
       "<h3>Cluster 22.15</h3>"
      ],
      "text/plain": [
       "<IPython.core.display.HTML object>"
      ]
     },
     "metadata": {},
     "output_type": "display_data"
    },
    {
     "data": {
      "text/plain": [
       "4"
      ]
     },
     "metadata": {},
     "output_type": "display_data"
    },
    {
     "data": {
      "text/plain": [
       "Index(['30010_raw-Red_blood_cell_erythrocyte_count',\n",
       "       '30020_raw-Haemoglobin_concentration',\n",
       "       '30030_raw-Haematocrit_percentage', 'erythrocyte count'],\n",
       "      dtype='object')"
      ]
     },
     "metadata": {},
     "output_type": "display_data"
    },
    {
     "data": {
      "text/html": [
       "<h3>Cluster 22.16</h3>"
      ],
      "text/plain": [
       "<IPython.core.display.HTML object>"
      ]
     },
     "metadata": {},
     "output_type": "display_data"
    },
    {
     "data": {
      "text/plain": [
       "1"
      ]
     },
     "metadata": {},
     "output_type": "display_data"
    },
    {
     "data": {
      "text/plain": [
       "Index(['20153_raw-Forced_expiratory_volume_in_1second_FEV1_predicted'], dtype='object')"
      ]
     },
     "metadata": {},
     "output_type": "display_data"
    },
    {
     "data": {
      "text/html": [
       "<h3>Cluster 22.17</h3>"
      ],
      "text/plain": [
       "<IPython.core.display.HTML object>"
      ]
     },
     "metadata": {},
     "output_type": "display_data"
    },
    {
     "data": {
      "text/plain": [
       "9"
      ]
     },
     "metadata": {},
     "output_type": "display_data"
    },
    {
     "data": {
      "text/plain": [
       "Index(['30130_raw-Monocyte_count', '30150-Eosinophill_count',\n",
       "       '30180_raw-Lymphocyte_percentage', '30190_raw-Monocyte_percentage',\n",
       "       '30200_raw-Neutrophill_percentage', '30210_raw-Eosinophill_percentage',\n",
       "       'eosinophil count', 'lymphocyte count', 'monocyte count'],\n",
       "      dtype='object')"
      ]
     },
     "metadata": {},
     "output_type": "display_data"
    },
    {
     "data": {
      "text/html": [
       "<h3>Cluster 22.18</h3>"
      ],
      "text/plain": [
       "<IPython.core.display.HTML object>"
      ]
     },
     "metadata": {},
     "output_type": "display_data"
    },
    {
     "data": {
      "text/plain": [
       "19"
      ]
     },
     "metadata": {},
     "output_type": "display_data"
    },
    {
     "data": {
      "text/plain": [
       "Index(['1050-Time_spend_outdoors_in_summer',\n",
       "       '1070-Time_spent_watching_television_TV', '1448_1-Bread_type_White',\n",
       "       '1448_3-Bread_type_Wholemeal_or_wholegrain',\n",
       "       '20016_raw-Fluid_intelligence_score',\n",
       "       '2139_raw-Age_first_had_sexual_intercourse',\n",
       "       '22501_raw-Year_ended_full_time_education',\n",
       "       '2754_raw-Age_at_first_live_birth',\n",
       "       '6138_1-Qualifications_College_or_University_degree',\n",
       "       '6138_100-Qualifications_None_of_the_above',\n",
       "       '6138_2-Qualifications_A_levelsAS_levels_or_equivalent',\n",
       "       '6138_3-Qualifications_O_levelsGCSEs_or_equivalent',\n",
       "       '738-Average_total_household_income_before_tax',\n",
       "       '806-Job_involves_mainly_walking_or_standing',\n",
       "       '816-Job_involves_heavy_manual_or_physical_work',\n",
       "       'SSGAC_Education_Years_Pooled', 'schizophrenia', 'self rated health',\n",
       "       'self reported educational attainment'],\n",
       "      dtype='object')"
      ]
     },
     "metadata": {},
     "output_type": "display_data"
    },
    {
     "data": {
      "text/html": [
       "<h3>Cluster 22.19</h3>"
      ],
      "text/plain": [
       "<IPython.core.display.HTML object>"
      ]
     },
     "metadata": {},
     "output_type": "display_data"
    },
    {
     "data": {
      "text/plain": [
       "136"
      ]
     },
     "metadata": {},
     "output_type": "display_data"
    },
    {
     "data": {
      "text/plain": [
       "Index(['129_raw-Place_of_birth_in_UK_north_coordinate',\n",
       "       '130_raw-Place_of_birth_in_UK_east_coordinate',\n",
       "       '20074_raw-Home_location_at_assessment_east_coordinate_rounded',\n",
       "       '20075_raw-Home_location_at_assessment_north_coordinate_rounded',\n",
       "       '20118_11-Home_area_population_density_urban_or_rural_Scotland_Large_Urban_Area',\n",
       "       '22704_raw-Home_location_north_coordinate_rounded',\n",
       "       '30220_raw-Basophill_percentage', 'abdominal injury',\n",
       "       'abnormal delivery', 'alcohol dependence',\n",
       "       ...\n",
       "       'tongue neoplasm', 'transient ischemic attack', 'tuberculosis',\n",
       "       'type ii diabetes mellitus', 'ulcerative colitis',\n",
       "       'urogenital neoplasm', 'urticaria', 'vascular disease', 'vasculitis',\n",
       "       'wrist fracture'],\n",
       "      dtype='object', length=136)"
      ]
     },
     "metadata": {},
     "output_type": "display_data"
    },
    {
     "data": {
      "text/html": [
       "<h3>Cluster 22.20</h3>"
      ],
      "text/plain": [
       "<IPython.core.display.HTML object>"
      ]
     },
     "metadata": {},
     "output_type": "display_data"
    },
    {
     "data": {
      "text/plain": [
       "27"
      ]
     },
     "metadata": {},
     "output_type": "display_data"
    },
    {
     "data": {
      "text/plain": [
       "Index(['20003_1140861958-Treatmentmedication_code_simvastatin',\n",
       "       '20003_1140868226-Treatmentmedication_code_aspirin',\n",
       "       '20003_1141194794-Treatmentmedication_code_bendroflumethiazide',\n",
       "       '2492-Taking_other_prescription_medications',\n",
       "       '6150_1-Vascularheart_problems_diagnosed_by_doctor_Heart_attack',\n",
       "       '6150_2-Vascularheart_problems_diagnosed_by_doctor_Angina',\n",
       "       '6153_1-Medication_for_cholesterol_blood_pressure_diabetes_or_take_exogenous_hormones_Cholesterol_lowering_medication',\n",
       "       '6153_100-Medication_for_cholesterol_blood_pressure_diabetes_or_take_exogenous_hormones_None_of_the_above',\n",
       "       '6153_2-Medication_for_cholesterol_blood_pressure_diabetes_or_take_exogenous_hormones_Blood_pressure_medication',\n",
       "       '6154_1-Medication_for_pain_relief_constipation_heartburn_Aspirin',\n",
       "       '6177_1-Medication_for_cholesterol_blood_pressure_or_diabetes_Cholesterol_lowering_medication',\n",
       "       '6177_100-Medication_for_cholesterol_blood_pressure_or_diabetes_None_of_the_above',\n",
       "       '6177_2-Medication_for_cholesterol_blood_pressure_or_diabetes_Blood_pressure_medication',\n",
       "       'I9_CHD-Major_coronary_heart_disease_event',\n",
       "       'I9_CHD_NOREV-Major_coronary_heart_disease_event_excluding_revascularizations',\n",
       "       'I9_CORATHER-Coronary_atherosclerosis',\n",
       "       'I9_IHD-Ischaemic_heart_disease_wide_definition',\n",
       "       'I9_MI-Myocardial_infarction',\n",
       "       'I9_MI_STRICT-Myocardial_infarction_strict',\n",
       "       'IX_CIRCULATORY-Diseases_of_the_circulatory_system',\n",
       "       'acute myocardial infarction', 'angina pectoris',\n",
       "       'coronary artery disease', 'hypercholesterolemia',\n",
       "       'myocardial infarction',\n",
       "       'number of non-cancer illnesses, self-reported',\n",
       "       'number of treatments or medications taken, self-reported'],\n",
       "      dtype='object')"
      ]
     },
     "metadata": {},
     "output_type": "display_data"
    },
    {
     "data": {
      "text/html": [
       "<h3>Cluster 22.21</h3>"
      ],
      "text/plain": [
       "<IPython.core.display.HTML object>"
      ]
     },
     "metadata": {},
     "output_type": "display_data"
    },
    {
     "data": {
      "text/plain": [
       "62"
      ]
     },
     "metadata": {},
     "output_type": "display_data"
    },
    {
     "data": {
      "text/plain": [
       "Index(['102_raw-Pulse_rate_automated_reading',\n",
       "       '1080-Time_spent_using_computer', '1110-Length_of_mobile_phone_use',\n",
       "       '1319-Dried_fruit_intake', '1478-Salt_added_to_food',\n",
       "       '1488_raw-Tea_intake', '1518-Hot_drink_temperature',\n",
       "       '1528-Water_intake', '1757-Facial_ageing', '20022_raw-Birth_weight',\n",
       "       '20023_raw-Mean_time_to_correctly_identify_matches',\n",
       "       '20116_0-Smoking_status_Never', '20116_1-Smoking_status_Previous',\n",
       "       '20127_raw-Neuroticism_score',\n",
       "       '20154_raw-Forced_expiratory_volume_in_1second_FEV1_predicted_percentage',\n",
       "       '20160-Ever_smoked',\n",
       "       '2217_raw-Age_started_wearing_glasses_or_contact_lenses',\n",
       "       '2237-Plays_computer_games', '2267-Use_of_sunuv_protection',\n",
       "       '2395_1-Hairbalding_pattern_Pattern_1',\n",
       "       '30060_raw-Mean_corpuscular_haemoglobin_concentration',\n",
       "       '30120_raw-Lymphocyte_count', '30510_raw-Creatinine_enzymatic_in_urine',\n",
       "       '30530_raw-Sodium_in_urine', '3064_raw-Peak_expiratory_flow_PEF',\n",
       "       '399_raw-Number_of_incorrect_matches_in_round',\n",
       "       '400_raw-Time_to_complete_round',\n",
       "       '404_raw-Duration_to_first_press_of_snapbutton_in_each_round',\n",
       "       '4100_raw-Ankle_spacing_width_left',\n",
       "       '4119_raw-Ankle_spacing_width_right', '4194_raw-Pulse_rate',\n",
       "       '46_raw-Hand_grip_strength_left', '47_raw-Hand_grip_strength_right',\n",
       "       '5084_raw-Spherical_power_right', '5085_raw-Spherical_power_left',\n",
       "       '6152_100-Blood_clot_DVT_bronchitis_emphysema_asthma_rhinitis_eczema_allergy_diagnosed_by_doctor_None_of_the_above',\n",
       "       '6152_8-Blood_clot_DVT_bronchitis_emphysema_asthma_rhinitis_eczema_allergy_diagnosed_by_doctor_Asthma',\n",
       "       '6152_9-Blood_clot_DVT_bronchitis_emphysema_asthma_rhinitis_eczema_allergy_diagnosed_by_doctor_Hayfever_allergic_rhinitis_or_eczema',\n",
       "       '924-Usual_walking_pace', 'age at first facial hair', 'age at menarche',\n",
       "       'anxiety', 'asthma', 'chronotype measurement',\n",
       "       'comparative body size at age 10, self-reported',\n",
       "       'ease of getting up in the morning, self-reported',\n",
       "       'excessive daytime sleepiness measurement AND narcolepsy without cataplexy',\n",
       "       'feeling tense measurement', 'hearing loss',\n",
       "       'inflammatory bowel disease', 'insomnia', 'irritability', 'mood swings',\n",
       "       'nap during day, self-reported', 'nervousness',\n",
       "       'seeing a general practitioner for nerves, anxiety, tension or depression, self-reported',\n",
       "       'sleep duration', 'smoking cessation', 'snoring measurement',\n",
       "       'tiredness measurement', 'wheezing', 'worry measurement'],\n",
       "      dtype='object')"
      ]
     },
     "metadata": {},
     "output_type": "display_data"
    },
    {
     "data": {
      "text/html": [
       "<h2>Partition with k=23</h2>"
      ],
      "text/plain": [
       "<IPython.core.display.HTML object>"
      ]
     },
     "metadata": {},
     "output_type": "display_data"
    },
    {
     "data": {
      "text/plain": [
       "method                                                 scc_025\n",
       "partition    [1, 1, 1, 1, 1, 1, 1, 1, 1, 1, 1, 1, 1, 1, 1, ...\n",
       "ami_mean                                              0.288649\n",
       "selected                                                  True\n",
       "Name: 23, dtype: object"
      ]
     },
     "metadata": {},
     "output_type": "display_data"
    },
    {
     "data": {
      "text/plain": [
       "(3749,)"
      ]
     },
     "metadata": {},
     "output_type": "display_data"
    },
    {
     "data": {
      "text/plain": [
       "1     3177\n",
       "22     212\n",
       "21     136\n",
       "18      56\n",
       "17      26\n",
       "16      19\n",
       "9       18\n",
       "4       13\n",
       "15      12\n",
       "7       12\n",
       "14       9\n",
       "13       8\n",
       "6        8\n",
       "12       6\n",
       "11       6\n",
       "20       5\n",
       "2        5\n",
       "0        5\n",
       "5        4\n",
       "10       4\n",
       "8        4\n",
       "3        3\n",
       "19       1\n",
       "dtype: int64"
      ]
     },
     "metadata": {},
     "output_type": "display_data"
    },
    {
     "data": {
      "text/html": [
       "<h3>Cluster 23.0</h3>"
      ],
      "text/plain": [
       "<IPython.core.display.HTML object>"
      ]
     },
     "metadata": {},
     "output_type": "display_data"
    },
    {
     "data": {
      "text/plain": [
       "5"
      ]
     },
     "metadata": {},
     "output_type": "display_data"
    },
    {
     "data": {
      "text/plain": [
       "Index(['30080_raw-Platelet_count', '30090_raw-Platelet_crit',\n",
       "       '30100_raw-Mean_platelet_thrombocyte_volume',\n",
       "       '30110_raw-Platelet_distribution_width', 'platelet count'],\n",
       "      dtype='object')"
      ]
     },
     "metadata": {},
     "output_type": "display_data"
    },
    {
     "data": {
      "text/html": [
       "<h3>Cluster 23.1</h3>"
      ],
      "text/plain": [
       "<IPython.core.display.HTML object>"
      ]
     },
     "metadata": {},
     "output_type": "display_data"
    },
    {
     "data": {
      "text/plain": [
       "3177"
      ]
     },
     "metadata": {},
     "output_type": "display_data"
    },
    {
     "data": {
      "text/plain": [
       "Index(['100001_raw-Food_weight', '100002_raw-Energy', '100003_raw-Protein',\n",
       "       '100004_raw-Fat', '100005_raw-Carbohydrate', '100006_raw-Saturated_fat',\n",
       "       '100007_raw-Polyunsaturated_fat', '100008_raw-Total_sugars',\n",
       "       '100009_raw-Englyst_dietary_fibre', '100010-Portion_size',\n",
       "       ...\n",
       "       'viral disease', 'viral human hepatitis infection', 'viral meningitis',\n",
       "       'visual impairment', 'vitiligo', 'vitreous body disease',\n",
       "       'vocal cord polyp', 'voice disorders',\n",
       "       'wellbeing measurement AND family relationship', 'whooping cough'],\n",
       "      dtype='object', length=3177)"
      ]
     },
     "metadata": {},
     "output_type": "display_data"
    },
    {
     "data": {
      "text/html": [
       "<h3>Cluster 23.2</h3>"
      ],
      "text/plain": [
       "<IPython.core.display.HTML object>"
      ]
     },
     "metadata": {},
     "output_type": "display_data"
    },
    {
     "data": {
      "text/plain": [
       "5"
      ]
     },
     "metadata": {},
     "output_type": "display_data"
    },
    {
     "data": {
      "text/plain": [
       "Index(['23106_raw-Impedance_of_whole_body', '23107_raw-Impedance_of_leg_right',\n",
       "       '23108_raw-Impedance_of_leg_left', '23109_raw-Impedance_of_arm_right',\n",
       "       '23110_raw-Impedance_of_arm_left'],\n",
       "      dtype='object')"
      ]
     },
     "metadata": {},
     "output_type": "display_data"
    },
    {
     "data": {
      "text/html": [
       "<h3>Cluster 23.3</h3>"
      ],
      "text/plain": [
       "<IPython.core.display.HTML object>"
      ]
     },
     "metadata": {},
     "output_type": "display_data"
    },
    {
     "data": {
      "text/plain": [
       "3"
      ]
     },
     "metadata": {},
     "output_type": "display_data"
    },
    {
     "data": {
      "text/plain": [
       "Index(['20015_raw-Sitting_height', '50_raw-Standing_height', 'body height'], dtype='object')"
      ]
     },
     "metadata": {},
     "output_type": "display_data"
    },
    {
     "data": {
      "text/html": [
       "<h3>Cluster 23.4</h3>"
      ],
      "text/plain": [
       "<IPython.core.display.HTML object>"
      ]
     },
     "metadata": {},
     "output_type": "display_data"
    },
    {
     "data": {
      "text/plain": [
       "13"
      ]
     },
     "metadata": {},
     "output_type": "display_data"
    },
    {
     "data": {
      "text/plain": [
       "Index(['23101_raw-Whole_body_fatfree_mass', '23102_raw-Whole_body_water_mass',\n",
       "       '23105_raw-Basal_metabolic_rate', '23113_raw-Leg_fatfree_mass_right',\n",
       "       '23114_raw-Leg_predicted_mass_right', '23117_raw-Leg_fatfree_mass_left',\n",
       "       '23118_raw-Leg_predicted_mass_left', '23121_raw-Arm_fatfree_mass_right',\n",
       "       '23122_raw-Arm_predicted_mass_right', '23125_raw-Arm_fatfree_mass_left',\n",
       "       '23126_raw-Arm_predicted_mass_left', '23129_raw-Trunk_fatfree_mass',\n",
       "       '23130_raw-Trunk_predicted_mass'],\n",
       "      dtype='object')"
      ]
     },
     "metadata": {},
     "output_type": "display_data"
    },
    {
     "data": {
      "text/html": [
       "<h3>Cluster 23.5</h3>"
      ],
      "text/plain": [
       "<IPython.core.display.HTML object>"
      ]
     },
     "metadata": {},
     "output_type": "display_data"
    },
    {
     "data": {
      "text/plain": [
       "4"
      ]
     },
     "metadata": {},
     "output_type": "display_data"
    },
    {
     "data": {
      "text/plain": [
       "Index(['30040_raw-Mean_corpuscular_volume',\n",
       "       '30050_raw-Mean_corpuscular_haemoglobin',\n",
       "       '30260_raw-Mean_reticulocyte_volume',\n",
       "       '30270_raw-Mean_sphered_cell_volume'],\n",
       "      dtype='object')"
      ]
     },
     "metadata": {},
     "output_type": "display_data"
    },
    {
     "data": {
      "text/html": [
       "<h3>Cluster 23.6</h3>"
      ],
      "text/plain": [
       "<IPython.core.display.HTML object>"
      ]
     },
     "metadata": {},
     "output_type": "display_data"
    },
    {
     "data": {
      "text/plain": [
       "8"
      ]
     },
     "metadata": {},
     "output_type": "display_data"
    },
    {
     "data": {
      "text/plain": [
       "Index(['5096_raw-3mm_weak_meridian_left', '5097_raw-6mm_weak_meridian_left',\n",
       "       '5098_raw-6mm_weak_meridian_right', '5099_raw-3mm_weak_meridian_right',\n",
       "       '5132_raw-3mm_strong_meridian_right',\n",
       "       '5133_raw-6mm_strong_meridian_right',\n",
       "       '5134_raw-6mm_strong_meridian_left',\n",
       "       '5135_raw-3mm_strong_meridian_left'],\n",
       "      dtype='object')"
      ]
     },
     "metadata": {},
     "output_type": "display_data"
    },
    {
     "data": {
      "text/html": [
       "<h3>Cluster 23.7</h3>"
      ],
      "text/plain": [
       "<IPython.core.display.HTML object>"
      ]
     },
     "metadata": {},
     "output_type": "display_data"
    },
    {
     "data": {
      "text/plain": [
       "12"
      ]
     },
     "metadata": {},
     "output_type": "display_data"
    },
    {
     "data": {
      "text/plain": [
       "Index(['3144_raw-Heel_Broadband_ultrasound_attenuation_direct_entry',\n",
       "       '3147_raw-Heel_quantitative_ultrasound_index_QUI_direct_entry',\n",
       "       '3148_raw-Heel_bone_mineral_density_BMD',\n",
       "       '4101_raw-Heel_broadband_ultrasound_attenuation_left',\n",
       "       '4104_raw-Heel_quantitative_ultrasound_index_QUI_direct_entry_left',\n",
       "       '4105_raw-Heel_bone_mineral_density_BMD_left',\n",
       "       '4106_raw-Heel_bone_mineral_density_BMD_Tscore_automated_left',\n",
       "       '4120_raw-Heel_broadband_ultrasound_attenuation_right',\n",
       "       '4123_raw-Heel_quantitative_ultrasound_index_QUI_direct_entry_right',\n",
       "       '4124_raw-Heel_bone_mineral_density_BMD_right',\n",
       "       '4125_raw-Heel_bone_mineral_density_BMD_Tscore_automated_right',\n",
       "       '78_raw-Heel_bone_mineral_density_BMD_Tscore_automated'],\n",
       "      dtype='object')"
      ]
     },
     "metadata": {},
     "output_type": "display_data"
    },
    {
     "data": {
      "text/html": [
       "<h3>Cluster 23.8</h3>"
      ],
      "text/plain": [
       "<IPython.core.display.HTML object>"
      ]
     },
     "metadata": {},
     "output_type": "display_data"
    },
    {
     "data": {
      "text/plain": [
       "4"
      ]
     },
     "metadata": {},
     "output_type": "display_data"
    },
    {
     "data": {
      "text/plain": [
       "Index(['30010_raw-Red_blood_cell_erythrocyte_count',\n",
       "       '30020_raw-Haemoglobin_concentration',\n",
       "       '30030_raw-Haematocrit_percentage', 'erythrocyte count'],\n",
       "      dtype='object')"
      ]
     },
     "metadata": {},
     "output_type": "display_data"
    },
    {
     "data": {
      "text/html": [
       "<h3>Cluster 23.9</h3>"
      ],
      "text/plain": [
       "<IPython.core.display.HTML object>"
      ]
     },
     "metadata": {},
     "output_type": "display_data"
    },
    {
     "data": {
      "text/plain": [
       "18"
      ]
     },
     "metadata": {},
     "output_type": "display_data"
    },
    {
     "data": {
      "text/plain": [
       "Index(['21001_raw-Body_mass_index_BMI', '21002_raw-Weight', '23098_raw-Weight',\n",
       "       '23099_raw-Body_fat_percentage', '23100_raw-Whole_body_fat_mass',\n",
       "       '23104_raw-Body_mass_index_BMI', '23111_raw-Leg_fat_percentage_right',\n",
       "       '23112_raw-Leg_fat_mass_right', '23115_raw-Leg_fat_percentage_left',\n",
       "       '23116_raw-Leg_fat_mass_left', '23119_raw-Arm_fat_percentage_right',\n",
       "       '23120_raw-Arm_fat_mass_right', '23123_raw-Arm_fat_percentage_left',\n",
       "       '23124_raw-Arm_fat_mass_left', '23127_raw-Trunk_fat_percentage',\n",
       "       '23128_raw-Trunk_fat_mass', '48_raw-Waist_circumference',\n",
       "       '49_raw-Hip_circumference'],\n",
       "      dtype='object')"
      ]
     },
     "metadata": {},
     "output_type": "display_data"
    },
    {
     "data": {
      "text/html": [
       "<h3>Cluster 23.10</h3>"
      ],
      "text/plain": [
       "<IPython.core.display.HTML object>"
      ]
     },
     "metadata": {},
     "output_type": "display_data"
    },
    {
     "data": {
      "text/plain": [
       "4"
      ]
     },
     "metadata": {},
     "output_type": "display_data"
    },
    {
     "data": {
      "text/plain": [
       "Index(['20150_raw-Forced_expiratory_volume_in_1second_FEV1_Best_measure',\n",
       "       '20151_raw-Forced_vital_capacity_FVC_Best_measure',\n",
       "       '3062_raw-Forced_vital_capacity_FVC',\n",
       "       '3063_raw-Forced_expiratory_volume_in_1second_FEV1'],\n",
       "      dtype='object')"
      ]
     },
     "metadata": {},
     "output_type": "display_data"
    },
    {
     "data": {
      "text/html": [
       "<h3>Cluster 23.11</h3>"
      ],
      "text/plain": [
       "<IPython.core.display.HTML object>"
      ]
     },
     "metadata": {},
     "output_type": "display_data"
    },
    {
     "data": {
      "text/plain": [
       "6"
      ]
     },
     "metadata": {},
     "output_type": "display_data"
    },
    {
     "data": {
      "text/plain": [
       "Index(['30240_raw-Reticulocyte_percentage', '30250_raw-Reticulocyte_count',\n",
       "       '30280_raw-Immature_reticulocyte_fraction',\n",
       "       '30290_raw-High_light_scatter_reticulocyte_percentage',\n",
       "       '30300_raw-High_light_scatter_reticulocyte_count',\n",
       "       'reticulocyte count'],\n",
       "      dtype='object')"
      ]
     },
     "metadata": {},
     "output_type": "display_data"
    },
    {
     "data": {
      "text/html": [
       "<h3>Cluster 23.12</h3>"
      ],
      "text/plain": [
       "<IPython.core.display.HTML object>"
      ]
     },
     "metadata": {},
     "output_type": "display_data"
    },
    {
     "data": {
      "text/plain": [
       "6"
      ]
     },
     "metadata": {},
     "output_type": "display_data"
    },
    {
     "data": {
      "text/plain": [
       "Index(['30000_raw-White_blood_cell_leukocyte_count',\n",
       "       '30140_raw-Neutrophill_count', 'granulocyte count', 'leukocyte count',\n",
       "       'myeloid white cell count', 'neutrophil count'],\n",
       "      dtype='object')"
      ]
     },
     "metadata": {},
     "output_type": "display_data"
    },
    {
     "data": {
      "text/html": [
       "<h3>Cluster 23.13</h3>"
      ],
      "text/plain": [
       "<IPython.core.display.HTML object>"
      ]
     },
     "metadata": {},
     "output_type": "display_data"
    },
    {
     "data": {
      "text/plain": [
       "8"
      ]
     },
     "metadata": {},
     "output_type": "display_data"
    },
    {
     "data": {
      "text/plain": [
       "Index(['1717-Skin_colour', '1727-Ease_of_skin_tanning',\n",
       "       '1737-Childhood_sunburn_occasions',\n",
       "       '1747_1-Hair_colour_natural_before_greying_Blonde',\n",
       "       '1747_2-Hair_colour_natural_before_greying_Red',\n",
       "       '1747_3-Hair_colour_natural_before_greying_Light_brown',\n",
       "       '1747_4-Hair_colour_natural_before_greying_Dark_brown',\n",
       "       '1747_5-Hair_colour_natural_before_greying_Black'],\n",
       "      dtype='object')"
      ]
     },
     "metadata": {},
     "output_type": "display_data"
    },
    {
     "data": {
      "text/html": [
       "<h3>Cluster 23.14</h3>"
      ],
      "text/plain": [
       "<IPython.core.display.HTML object>"
      ]
     },
     "metadata": {},
     "output_type": "display_data"
    },
    {
     "data": {
      "text/plain": [
       "9"
      ]
     },
     "metadata": {},
     "output_type": "display_data"
    },
    {
     "data": {
      "text/plain": [
       "Index(['30130_raw-Monocyte_count', '30150-Eosinophill_count',\n",
       "       '30180_raw-Lymphocyte_percentage', '30190_raw-Monocyte_percentage',\n",
       "       '30200_raw-Neutrophill_percentage', '30210_raw-Eosinophill_percentage',\n",
       "       'eosinophil count', 'lymphocyte count', 'monocyte count'],\n",
       "      dtype='object')"
      ]
     },
     "metadata": {},
     "output_type": "display_data"
    },
    {
     "data": {
      "text/html": [
       "<h3>Cluster 23.15</h3>"
      ],
      "text/plain": [
       "<IPython.core.display.HTML object>"
      ]
     },
     "metadata": {},
     "output_type": "display_data"
    },
    {
     "data": {
      "text/plain": [
       "12"
      ]
     },
     "metadata": {},
     "output_type": "display_data"
    },
    {
     "data": {
      "text/plain": [
       "Index(['20003_1140883066-Treatmentmedication_code_insulin_product',\n",
       "       '20003_1141191044-Treatmentmedication_code_levothyroxine_sodium',\n",
       "       '2986-Started_insulin_within_one_year_diagnosis_of_diabetes',\n",
       "       '6144_3-Never_eat_eggs_dairy_wheat_sugar_Wheat_products',\n",
       "       'K11_COELIAC-Coeliac_disease', 'celiac disease',\n",
       "       'hyperthyroidism AND thyrotoxicosis', 'hypothyroidism AND myxedema',\n",
       "       'malabsorption syndrome', 'psoriasis', 'rheumatoid arthritis',\n",
       "       'systemic lupus erythematosus'],\n",
       "      dtype='object')"
      ]
     },
     "metadata": {},
     "output_type": "display_data"
    },
    {
     "data": {
      "text/html": [
       "<h3>Cluster 23.16</h3>"
      ],
      "text/plain": [
       "<IPython.core.display.HTML object>"
      ]
     },
     "metadata": {},
     "output_type": "display_data"
    },
    {
     "data": {
      "text/plain": [
       "19"
      ]
     },
     "metadata": {},
     "output_type": "display_data"
    },
    {
     "data": {
      "text/plain": [
       "Index(['1050-Time_spend_outdoors_in_summer',\n",
       "       '1070-Time_spent_watching_television_TV', '1448_1-Bread_type_White',\n",
       "       '1448_3-Bread_type_Wholemeal_or_wholegrain',\n",
       "       '20016_raw-Fluid_intelligence_score',\n",
       "       '2139_raw-Age_first_had_sexual_intercourse',\n",
       "       '22501_raw-Year_ended_full_time_education',\n",
       "       '2754_raw-Age_at_first_live_birth',\n",
       "       '6138_1-Qualifications_College_or_University_degree',\n",
       "       '6138_100-Qualifications_None_of_the_above',\n",
       "       '6138_2-Qualifications_A_levelsAS_levels_or_equivalent',\n",
       "       '6138_3-Qualifications_O_levelsGCSEs_or_equivalent',\n",
       "       '738-Average_total_household_income_before_tax',\n",
       "       '806-Job_involves_mainly_walking_or_standing',\n",
       "       '816-Job_involves_heavy_manual_or_physical_work',\n",
       "       'SSGAC_Education_Years_Pooled', 'schizophrenia', 'self rated health',\n",
       "       'self reported educational attainment'],\n",
       "      dtype='object')"
      ]
     },
     "metadata": {},
     "output_type": "display_data"
    },
    {
     "data": {
      "text/html": [
       "<h3>Cluster 23.17</h3>"
      ],
      "text/plain": [
       "<IPython.core.display.HTML object>"
      ]
     },
     "metadata": {},
     "output_type": "display_data"
    },
    {
     "data": {
      "text/plain": [
       "26"
      ]
     },
     "metadata": {},
     "output_type": "display_data"
    },
    {
     "data": {
      "text/plain": [
       "Index(['20003_1140861958-Treatmentmedication_code_simvastatin',\n",
       "       '20003_1140868226-Treatmentmedication_code_aspirin',\n",
       "       '20003_1141194794-Treatmentmedication_code_bendroflumethiazide',\n",
       "       '6150_1-Vascularheart_problems_diagnosed_by_doctor_Heart_attack',\n",
       "       '6150_2-Vascularheart_problems_diagnosed_by_doctor_Angina',\n",
       "       '6153_1-Medication_for_cholesterol_blood_pressure_diabetes_or_take_exogenous_hormones_Cholesterol_lowering_medication',\n",
       "       '6153_100-Medication_for_cholesterol_blood_pressure_diabetes_or_take_exogenous_hormones_None_of_the_above',\n",
       "       '6153_2-Medication_for_cholesterol_blood_pressure_diabetes_or_take_exogenous_hormones_Blood_pressure_medication',\n",
       "       '6154_1-Medication_for_pain_relief_constipation_heartburn_Aspirin',\n",
       "       '6177_1-Medication_for_cholesterol_blood_pressure_or_diabetes_Cholesterol_lowering_medication',\n",
       "       '6177_100-Medication_for_cholesterol_blood_pressure_or_diabetes_None_of_the_above',\n",
       "       '6177_2-Medication_for_cholesterol_blood_pressure_or_diabetes_Blood_pressure_medication',\n",
       "       'I9_CHD-Major_coronary_heart_disease_event',\n",
       "       'I9_CHD_NOREV-Major_coronary_heart_disease_event_excluding_revascularizations',\n",
       "       'I9_CORATHER-Coronary_atherosclerosis',\n",
       "       'I9_IHD-Ischaemic_heart_disease_wide_definition',\n",
       "       'I9_MI-Myocardial_infarction',\n",
       "       'I9_MI_STRICT-Myocardial_infarction_strict',\n",
       "       'IX_CIRCULATORY-Diseases_of_the_circulatory_system',\n",
       "       'acute myocardial infarction', 'angina pectoris',\n",
       "       'coronary artery disease', 'hypercholesterolemia',\n",
       "       'myocardial infarction',\n",
       "       'number of non-cancer illnesses, self-reported',\n",
       "       'number of treatments or medications taken, self-reported'],\n",
       "      dtype='object')"
      ]
     },
     "metadata": {},
     "output_type": "display_data"
    },
    {
     "data": {
      "text/html": [
       "<h3>Cluster 23.18</h3>"
      ],
      "text/plain": [
       "<IPython.core.display.HTML object>"
      ]
     },
     "metadata": {},
     "output_type": "display_data"
    },
    {
     "data": {
      "text/plain": [
       "56"
      ]
     },
     "metadata": {},
     "output_type": "display_data"
    },
    {
     "data": {
      "text/plain": [
       "Index(['102_raw-Pulse_rate_automated_reading',\n",
       "       '1080-Time_spent_using_computer', '1319-Dried_fruit_intake',\n",
       "       '1478-Salt_added_to_food', '1488_raw-Tea_intake',\n",
       "       '1518-Hot_drink_temperature', '1528-Water_intake', '1757-Facial_ageing',\n",
       "       '20022_raw-Birth_weight',\n",
       "       '20023_raw-Mean_time_to_correctly_identify_matches',\n",
       "       '20116_0-Smoking_status_Never', '20127_raw-Neuroticism_score',\n",
       "       '20154_raw-Forced_expiratory_volume_in_1second_FEV1_predicted_percentage',\n",
       "       '20160-Ever_smoked',\n",
       "       '2217_raw-Age_started_wearing_glasses_or_contact_lenses',\n",
       "       '2237-Plays_computer_games', '2395_1-Hairbalding_pattern_Pattern_1',\n",
       "       '30060_raw-Mean_corpuscular_haemoglobin_concentration',\n",
       "       '30120_raw-Lymphocyte_count', '30530_raw-Sodium_in_urine',\n",
       "       '3064_raw-Peak_expiratory_flow_PEF',\n",
       "       '399_raw-Number_of_incorrect_matches_in_round',\n",
       "       '400_raw-Time_to_complete_round',\n",
       "       '404_raw-Duration_to_first_press_of_snapbutton_in_each_round',\n",
       "       '4100_raw-Ankle_spacing_width_left',\n",
       "       '4119_raw-Ankle_spacing_width_right', '4194_raw-Pulse_rate',\n",
       "       '46_raw-Hand_grip_strength_left', '47_raw-Hand_grip_strength_right',\n",
       "       '5084_raw-Spherical_power_right', '5085_raw-Spherical_power_left',\n",
       "       '6152_100-Blood_clot_DVT_bronchitis_emphysema_asthma_rhinitis_eczema_allergy_diagnosed_by_doctor_None_of_the_above',\n",
       "       '6152_8-Blood_clot_DVT_bronchitis_emphysema_asthma_rhinitis_eczema_allergy_diagnosed_by_doctor_Asthma',\n",
       "       '6152_9-Blood_clot_DVT_bronchitis_emphysema_asthma_rhinitis_eczema_allergy_diagnosed_by_doctor_Hayfever_allergic_rhinitis_or_eczema',\n",
       "       '924-Usual_walking_pace', 'age at first facial hair', 'age at menarche',\n",
       "       'anxiety', 'asthma', 'chronotype measurement',\n",
       "       'comparative body size at age 10, self-reported',\n",
       "       'ease of getting up in the morning, self-reported',\n",
       "       'excessive daytime sleepiness measurement AND narcolepsy without cataplexy',\n",
       "       'feeling tense measurement', 'hearing loss',\n",
       "       'inflammatory bowel disease', 'insomnia', 'irritability', 'mood swings',\n",
       "       'nap during day, self-reported', 'sleep duration', 'smoking cessation',\n",
       "       'snoring measurement', 'tiredness measurement', 'wheezing',\n",
       "       'worry measurement'],\n",
       "      dtype='object')"
      ]
     },
     "metadata": {},
     "output_type": "display_data"
    },
    {
     "data": {
      "text/html": [
       "<h3>Cluster 23.19</h3>"
      ],
      "text/plain": [
       "<IPython.core.display.HTML object>"
      ]
     },
     "metadata": {},
     "output_type": "display_data"
    },
    {
     "data": {
      "text/plain": [
       "1"
      ]
     },
     "metadata": {},
     "output_type": "display_data"
    },
    {
     "data": {
      "text/plain": [
       "Index(['20153_raw-Forced_expiratory_volume_in_1second_FEV1_predicted'], dtype='object')"
      ]
     },
     "metadata": {},
     "output_type": "display_data"
    },
    {
     "data": {
      "text/html": [
       "<h3>Cluster 23.20</h3>"
      ],
      "text/plain": [
       "<IPython.core.display.HTML object>"
      ]
     },
     "metadata": {},
     "output_type": "display_data"
    },
    {
     "data": {
      "text/plain": [
       "5"
      ]
     },
     "metadata": {},
     "output_type": "display_data"
    },
    {
     "data": {
      "text/plain": [
       "Index(['4079_raw-Diastolic_blood_pressure_automated_reading',\n",
       "       '4080_raw-Systolic_blood_pressure_automated_reading',\n",
       "       '6150_100-Vascularheart_problems_diagnosed_by_doctor_None_of_the_above',\n",
       "       '6150_4-Vascularheart_problems_diagnosed_by_doctor_High_blood_pressure',\n",
       "       'hypertension'],\n",
       "      dtype='object')"
      ]
     },
     "metadata": {},
     "output_type": "display_data"
    },
    {
     "data": {
      "text/html": [
       "<h3>Cluster 23.21</h3>"
      ],
      "text/plain": [
       "<IPython.core.display.HTML object>"
      ]
     },
     "metadata": {},
     "output_type": "display_data"
    },
    {
     "data": {
      "text/plain": [
       "136"
      ]
     },
     "metadata": {},
     "output_type": "display_data"
    },
    {
     "data": {
      "text/plain": [
       "Index(['129_raw-Place_of_birth_in_UK_north_coordinate',\n",
       "       '130_raw-Place_of_birth_in_UK_east_coordinate',\n",
       "       '20074_raw-Home_location_at_assessment_east_coordinate_rounded',\n",
       "       '20075_raw-Home_location_at_assessment_north_coordinate_rounded',\n",
       "       '20118_11-Home_area_population_density_urban_or_rural_Scotland_Large_Urban_Area',\n",
       "       '22704_raw-Home_location_north_coordinate_rounded',\n",
       "       '30220_raw-Basophill_percentage', 'abdominal injury',\n",
       "       'abnormal delivery', 'alcohol dependence',\n",
       "       ...\n",
       "       'tongue neoplasm', 'transient ischemic attack', 'tuberculosis',\n",
       "       'type ii diabetes mellitus', 'ulcerative colitis',\n",
       "       'urogenital neoplasm', 'urticaria', 'vascular disease', 'vasculitis',\n",
       "       'wrist fracture'],\n",
       "      dtype='object', length=136)"
      ]
     },
     "metadata": {},
     "output_type": "display_data"
    },
    {
     "data": {
      "text/html": [
       "<h3>Cluster 23.22</h3>"
      ],
      "text/plain": [
       "<IPython.core.display.HTML object>"
      ]
     },
     "metadata": {},
     "output_type": "display_data"
    },
    {
     "data": {
      "text/plain": [
       "212"
      ]
     },
     "metadata": {},
     "output_type": "display_data"
    },
    {
     "data": {
      "text/plain": [
       "Index(['1021-Duration_of_light_DIY', '1031-Frequency_of_friendfamily_visits',\n",
       "       '1060-Time_spent_outdoors_in_winter', '1090-Time_spent_driving',\n",
       "       '1100-Drive_faster_than_motorway_speed_limit',\n",
       "       '110001-Invitation_to_complete_online_24hour_recall_dietary_questionnaire_acceptance',\n",
       "       '1110-Length_of_mobile_phone_use',\n",
       "       '1120-Weekly_usage_of_mobile_phone_in_last_3_months',\n",
       "       '1289-Cooked_vegetable_intake', '1299-Salad_raw_vegetable_intake',\n",
       "       ...\n",
       "       'osteoarthritis, hip', 'osteoarthritis, knee', 'osteoporosis',\n",
       "       'parkinson's disease',\n",
       "       'seasonal allergic rhinitis AND allergic rhinitis',\n",
       "       'seeing a general practitioner for nerves, anxiety, tension or depression, self-reported',\n",
       "       'seeing a psychiatrist for nerves, anxiety, tension or depression, self-reported',\n",
       "       'smoking behavior', 'varicose veins', 'venous thromboembolism'],\n",
       "      dtype='object', length=212)"
      ]
     },
     "metadata": {},
     "output_type": "display_data"
    },
    {
     "data": {
      "text/html": [
       "<h2>Partition with k=24</h2>"
      ],
      "text/plain": [
       "<IPython.core.display.HTML object>"
      ]
     },
     "metadata": {},
     "output_type": "display_data"
    },
    {
     "data": {
      "text/plain": [
       "method                                                 scc_025\n",
       "partition    [22, 22, 22, 22, 22, 22, 22, 22, 22, 22, 22, 2...\n",
       "ami_mean                                              0.290363\n",
       "selected                                                  True\n",
       "Name: 24, dtype: object"
      ]
     },
     "metadata": {},
     "output_type": "display_data"
    },
    {
     "data": {
      "text/plain": [
       "(3749,)"
      ]
     },
     "metadata": {},
     "output_type": "display_data"
    },
    {
     "data": {
      "text/plain": [
       "22    3145\n",
       "19     208\n",
       "0      136\n",
       "23      57\n",
       "2       36\n",
       "20      25\n",
       "21      19\n",
       "7       18\n",
       "10      13\n",
       "17      12\n",
       "4       12\n",
       "9        9\n",
       "16       8\n",
       "5        8\n",
       "15       6\n",
       "11       6\n",
       "14       5\n",
       "3        5\n",
       "6        5\n",
       "12       4\n",
       "8        4\n",
       "13       4\n",
       "1        3\n",
       "18       1\n",
       "dtype: int64"
      ]
     },
     "metadata": {},
     "output_type": "display_data"
    },
    {
     "data": {
      "text/html": [
       "<h3>Cluster 24.0</h3>"
      ],
      "text/plain": [
       "<IPython.core.display.HTML object>"
      ]
     },
     "metadata": {},
     "output_type": "display_data"
    },
    {
     "data": {
      "text/plain": [
       "136"
      ]
     },
     "metadata": {},
     "output_type": "display_data"
    },
    {
     "data": {
      "text/plain": [
       "Index(['129_raw-Place_of_birth_in_UK_north_coordinate',\n",
       "       '130_raw-Place_of_birth_in_UK_east_coordinate',\n",
       "       '20074_raw-Home_location_at_assessment_east_coordinate_rounded',\n",
       "       '20075_raw-Home_location_at_assessment_north_coordinate_rounded',\n",
       "       '20118_11-Home_area_population_density_urban_or_rural_Scotland_Large_Urban_Area',\n",
       "       '22704_raw-Home_location_north_coordinate_rounded',\n",
       "       '30220_raw-Basophill_percentage', 'abdominal injury',\n",
       "       'abnormal delivery', 'alcohol dependence',\n",
       "       ...\n",
       "       'tongue neoplasm', 'transient ischemic attack', 'tuberculosis',\n",
       "       'type ii diabetes mellitus', 'ulcerative colitis',\n",
       "       'urogenital neoplasm', 'urticaria', 'vascular disease', 'vasculitis',\n",
       "       'wrist fracture'],\n",
       "      dtype='object', length=136)"
      ]
     },
     "metadata": {},
     "output_type": "display_data"
    },
    {
     "data": {
      "text/html": [
       "<h3>Cluster 24.1</h3>"
      ],
      "text/plain": [
       "<IPython.core.display.HTML object>"
      ]
     },
     "metadata": {},
     "output_type": "display_data"
    },
    {
     "data": {
      "text/plain": [
       "3"
      ]
     },
     "metadata": {},
     "output_type": "display_data"
    },
    {
     "data": {
      "text/plain": [
       "Index(['20015_raw-Sitting_height', '50_raw-Standing_height', 'body height'], dtype='object')"
      ]
     },
     "metadata": {},
     "output_type": "display_data"
    },
    {
     "data": {
      "text/html": [
       "<h3>Cluster 24.2</h3>"
      ],
      "text/plain": [
       "<IPython.core.display.HTML object>"
      ]
     },
     "metadata": {},
     "output_type": "display_data"
    },
    {
     "data": {
      "text/plain": [
       "36"
      ]
     },
     "metadata": {},
     "output_type": "display_data"
    },
    {
     "data": {
      "text/plain": [
       "Index(['20421-Ever_felt_worried_tense_or_anxious_for_most_of_a_month_or_longer',\n",
       "       '20425-Ever_worried_more_than_most_people_would_in_similar_situation',\n",
       "       '20441-Ever_had_prolonged_loss_of_interest_in_normal_activities',\n",
       "       '20446-Ever_had_prolonged_feelings_of_sadness_or_depression',\n",
       "       '20458-General_happiness', '20459-General_happiness_with_own_health',\n",
       "       '20460-Belief_that_own_life_is_meaningful',\n",
       "       '20479-Ever_thought_that_life_not_worth_living',\n",
       "       '20485-Ever_contemplated_selfharm',\n",
       "       '20494-Felt_irritable_or_had_angry_outbursts_in_past_month',\n",
       "       '20495-Avoided_activities_or_situations_because_of_previous_stressful_experience_in_past_month',\n",
       "       '20496-Felt_distant_from_other_people_in_past_month',\n",
       "       '20497-Repeated_disturbing_thoughts_of_stressful_experience_in_past_month',\n",
       "       '20498-Felt_very_upset_when_reminded_of_stressful_experience_in_past_month',\n",
       "       '20499-Ever_sought_or_received_professional_help_for_mental_distress',\n",
       "       '20500-Ever_suffered_mental_distress_preventing_usual_activities',\n",
       "       '20505-Recent_easy_annoyance_or_irritability',\n",
       "       '20506-Recent_feelings_or_nervousness_or_anxiety',\n",
       "       '20507-Recent_feelings_of_inadequacy',\n",
       "       '20508-Recent_trouble_concentrating_on_things',\n",
       "       '20509-Recent_inability_to_stop_or_control_worrying',\n",
       "       '20510-Recent_feelings_of_depression',\n",
       "       '20511-Recent_poor_appetite_or_overeating',\n",
       "       '20512-Recent_feelings_of_foreboding',\n",
       "       '20513-Recent_thoughts_of_suicide_or_selfharm',\n",
       "       '20514-Recent_lack_of_interest_or_pleasure_in_doing_things',\n",
       "       '20515-Recent_trouble_relaxing', '20516-Recent_restlessness',\n",
       "       '20517-Trouble_falling_or_staying_asleep_or_sleeping_too_much',\n",
       "       '20519-Recent_feelings_of_tiredness_or_low_energy',\n",
       "       '20520-Recent_worrying_too_much_about_different_things',\n",
       "       '20544_11-Mental_health_problems_ever_diagnosed_by_a_professional_Depression',\n",
       "       '20546_3-Substances_taken_for_depression_Medication_prescribed_to_you_for_at_least_two_weeks',\n",
       "       '20547_1-Activities_undertaken_to_treat_depression_Talking_therapies_such_as_psychotherapy_counselling_group_therapy_or_CBT',\n",
       "       '20549_3-Substances_taken_for_anxiety_Medication_prescribed_to_you_for_at_least_two_weeks',\n",
       "       'seeing a psychiatrist for nerves, anxiety, tension or depression, self-reported'],\n",
       "      dtype='object')"
      ]
     },
     "metadata": {},
     "output_type": "display_data"
    },
    {
     "data": {
      "text/html": [
       "<h3>Cluster 24.3</h3>"
      ],
      "text/plain": [
       "<IPython.core.display.HTML object>"
      ]
     },
     "metadata": {},
     "output_type": "display_data"
    },
    {
     "data": {
      "text/plain": [
       "5"
      ]
     },
     "metadata": {},
     "output_type": "display_data"
    },
    {
     "data": {
      "text/plain": [
       "Index(['23106_raw-Impedance_of_whole_body', '23107_raw-Impedance_of_leg_right',\n",
       "       '23108_raw-Impedance_of_leg_left', '23109_raw-Impedance_of_arm_right',\n",
       "       '23110_raw-Impedance_of_arm_left'],\n",
       "      dtype='object')"
      ]
     },
     "metadata": {},
     "output_type": "display_data"
    },
    {
     "data": {
      "text/html": [
       "<h3>Cluster 24.4</h3>"
      ],
      "text/plain": [
       "<IPython.core.display.HTML object>"
      ]
     },
     "metadata": {},
     "output_type": "display_data"
    },
    {
     "data": {
      "text/plain": [
       "12"
      ]
     },
     "metadata": {},
     "output_type": "display_data"
    },
    {
     "data": {
      "text/plain": [
       "Index(['3144_raw-Heel_Broadband_ultrasound_attenuation_direct_entry',\n",
       "       '3147_raw-Heel_quantitative_ultrasound_index_QUI_direct_entry',\n",
       "       '3148_raw-Heel_bone_mineral_density_BMD',\n",
       "       '4101_raw-Heel_broadband_ultrasound_attenuation_left',\n",
       "       '4104_raw-Heel_quantitative_ultrasound_index_QUI_direct_entry_left',\n",
       "       '4105_raw-Heel_bone_mineral_density_BMD_left',\n",
       "       '4106_raw-Heel_bone_mineral_density_BMD_Tscore_automated_left',\n",
       "       '4120_raw-Heel_broadband_ultrasound_attenuation_right',\n",
       "       '4123_raw-Heel_quantitative_ultrasound_index_QUI_direct_entry_right',\n",
       "       '4124_raw-Heel_bone_mineral_density_BMD_right',\n",
       "       '4125_raw-Heel_bone_mineral_density_BMD_Tscore_automated_right',\n",
       "       '78_raw-Heel_bone_mineral_density_BMD_Tscore_automated'],\n",
       "      dtype='object')"
      ]
     },
     "metadata": {},
     "output_type": "display_data"
    },
    {
     "data": {
      "text/html": [
       "<h3>Cluster 24.5</h3>"
      ],
      "text/plain": [
       "<IPython.core.display.HTML object>"
      ]
     },
     "metadata": {},
     "output_type": "display_data"
    },
    {
     "data": {
      "text/plain": [
       "8"
      ]
     },
     "metadata": {},
     "output_type": "display_data"
    },
    {
     "data": {
      "text/plain": [
       "Index(['5096_raw-3mm_weak_meridian_left', '5097_raw-6mm_weak_meridian_left',\n",
       "       '5098_raw-6mm_weak_meridian_right', '5099_raw-3mm_weak_meridian_right',\n",
       "       '5132_raw-3mm_strong_meridian_right',\n",
       "       '5133_raw-6mm_strong_meridian_right',\n",
       "       '5134_raw-6mm_strong_meridian_left',\n",
       "       '5135_raw-3mm_strong_meridian_left'],\n",
       "      dtype='object')"
      ]
     },
     "metadata": {},
     "output_type": "display_data"
    },
    {
     "data": {
      "text/html": [
       "<h3>Cluster 24.6</h3>"
      ],
      "text/plain": [
       "<IPython.core.display.HTML object>"
      ]
     },
     "metadata": {},
     "output_type": "display_data"
    },
    {
     "data": {
      "text/plain": [
       "5"
      ]
     },
     "metadata": {},
     "output_type": "display_data"
    },
    {
     "data": {
      "text/plain": [
       "Index(['30080_raw-Platelet_count', '30090_raw-Platelet_crit',\n",
       "       '30100_raw-Mean_platelet_thrombocyte_volume',\n",
       "       '30110_raw-Platelet_distribution_width', 'platelet count'],\n",
       "      dtype='object')"
      ]
     },
     "metadata": {},
     "output_type": "display_data"
    },
    {
     "data": {
      "text/html": [
       "<h3>Cluster 24.7</h3>"
      ],
      "text/plain": [
       "<IPython.core.display.HTML object>"
      ]
     },
     "metadata": {},
     "output_type": "display_data"
    },
    {
     "data": {
      "text/plain": [
       "18"
      ]
     },
     "metadata": {},
     "output_type": "display_data"
    },
    {
     "data": {
      "text/plain": [
       "Index(['21001_raw-Body_mass_index_BMI', '21002_raw-Weight', '23098_raw-Weight',\n",
       "       '23099_raw-Body_fat_percentage', '23100_raw-Whole_body_fat_mass',\n",
       "       '23104_raw-Body_mass_index_BMI', '23111_raw-Leg_fat_percentage_right',\n",
       "       '23112_raw-Leg_fat_mass_right', '23115_raw-Leg_fat_percentage_left',\n",
       "       '23116_raw-Leg_fat_mass_left', '23119_raw-Arm_fat_percentage_right',\n",
       "       '23120_raw-Arm_fat_mass_right', '23123_raw-Arm_fat_percentage_left',\n",
       "       '23124_raw-Arm_fat_mass_left', '23127_raw-Trunk_fat_percentage',\n",
       "       '23128_raw-Trunk_fat_mass', '48_raw-Waist_circumference',\n",
       "       '49_raw-Hip_circumference'],\n",
       "      dtype='object')"
      ]
     },
     "metadata": {},
     "output_type": "display_data"
    },
    {
     "data": {
      "text/html": [
       "<h3>Cluster 24.8</h3>"
      ],
      "text/plain": [
       "<IPython.core.display.HTML object>"
      ]
     },
     "metadata": {},
     "output_type": "display_data"
    },
    {
     "data": {
      "text/plain": [
       "4"
      ]
     },
     "metadata": {},
     "output_type": "display_data"
    },
    {
     "data": {
      "text/plain": [
       "Index(['30040_raw-Mean_corpuscular_volume',\n",
       "       '30050_raw-Mean_corpuscular_haemoglobin',\n",
       "       '30260_raw-Mean_reticulocyte_volume',\n",
       "       '30270_raw-Mean_sphered_cell_volume'],\n",
       "      dtype='object')"
      ]
     },
     "metadata": {},
     "output_type": "display_data"
    },
    {
     "data": {
      "text/html": [
       "<h3>Cluster 24.9</h3>"
      ],
      "text/plain": [
       "<IPython.core.display.HTML object>"
      ]
     },
     "metadata": {},
     "output_type": "display_data"
    },
    {
     "data": {
      "text/plain": [
       "9"
      ]
     },
     "metadata": {},
     "output_type": "display_data"
    },
    {
     "data": {
      "text/plain": [
       "Index(['30130_raw-Monocyte_count', '30150-Eosinophill_count',\n",
       "       '30180_raw-Lymphocyte_percentage', '30190_raw-Monocyte_percentage',\n",
       "       '30200_raw-Neutrophill_percentage', '30210_raw-Eosinophill_percentage',\n",
       "       'eosinophil count', 'lymphocyte count', 'monocyte count'],\n",
       "      dtype='object')"
      ]
     },
     "metadata": {},
     "output_type": "display_data"
    },
    {
     "data": {
      "text/html": [
       "<h3>Cluster 24.10</h3>"
      ],
      "text/plain": [
       "<IPython.core.display.HTML object>"
      ]
     },
     "metadata": {},
     "output_type": "display_data"
    },
    {
     "data": {
      "text/plain": [
       "13"
      ]
     },
     "metadata": {},
     "output_type": "display_data"
    },
    {
     "data": {
      "text/plain": [
       "Index(['23101_raw-Whole_body_fatfree_mass', '23102_raw-Whole_body_water_mass',\n",
       "       '23105_raw-Basal_metabolic_rate', '23113_raw-Leg_fatfree_mass_right',\n",
       "       '23114_raw-Leg_predicted_mass_right', '23117_raw-Leg_fatfree_mass_left',\n",
       "       '23118_raw-Leg_predicted_mass_left', '23121_raw-Arm_fatfree_mass_right',\n",
       "       '23122_raw-Arm_predicted_mass_right', '23125_raw-Arm_fatfree_mass_left',\n",
       "       '23126_raw-Arm_predicted_mass_left', '23129_raw-Trunk_fatfree_mass',\n",
       "       '23130_raw-Trunk_predicted_mass'],\n",
       "      dtype='object')"
      ]
     },
     "metadata": {},
     "output_type": "display_data"
    },
    {
     "data": {
      "text/html": [
       "<h3>Cluster 24.11</h3>"
      ],
      "text/plain": [
       "<IPython.core.display.HTML object>"
      ]
     },
     "metadata": {},
     "output_type": "display_data"
    },
    {
     "data": {
      "text/plain": [
       "6"
      ]
     },
     "metadata": {},
     "output_type": "display_data"
    },
    {
     "data": {
      "text/plain": [
       "Index(['30240_raw-Reticulocyte_percentage', '30250_raw-Reticulocyte_count',\n",
       "       '30280_raw-Immature_reticulocyte_fraction',\n",
       "       '30290_raw-High_light_scatter_reticulocyte_percentage',\n",
       "       '30300_raw-High_light_scatter_reticulocyte_count',\n",
       "       'reticulocyte count'],\n",
       "      dtype='object')"
      ]
     },
     "metadata": {},
     "output_type": "display_data"
    },
    {
     "data": {
      "text/html": [
       "<h3>Cluster 24.12</h3>"
      ],
      "text/plain": [
       "<IPython.core.display.HTML object>"
      ]
     },
     "metadata": {},
     "output_type": "display_data"
    },
    {
     "data": {
      "text/plain": [
       "4"
      ]
     },
     "metadata": {},
     "output_type": "display_data"
    },
    {
     "data": {
      "text/plain": [
       "Index(['30010_raw-Red_blood_cell_erythrocyte_count',\n",
       "       '30020_raw-Haemoglobin_concentration',\n",
       "       '30030_raw-Haematocrit_percentage', 'erythrocyte count'],\n",
       "      dtype='object')"
      ]
     },
     "metadata": {},
     "output_type": "display_data"
    },
    {
     "data": {
      "text/html": [
       "<h3>Cluster 24.13</h3>"
      ],
      "text/plain": [
       "<IPython.core.display.HTML object>"
      ]
     },
     "metadata": {},
     "output_type": "display_data"
    },
    {
     "data": {
      "text/plain": [
       "4"
      ]
     },
     "metadata": {},
     "output_type": "display_data"
    },
    {
     "data": {
      "text/plain": [
       "Index(['20150_raw-Forced_expiratory_volume_in_1second_FEV1_Best_measure',\n",
       "       '20151_raw-Forced_vital_capacity_FVC_Best_measure',\n",
       "       '3062_raw-Forced_vital_capacity_FVC',\n",
       "       '3063_raw-Forced_expiratory_volume_in_1second_FEV1'],\n",
       "      dtype='object')"
      ]
     },
     "metadata": {},
     "output_type": "display_data"
    },
    {
     "data": {
      "text/html": [
       "<h3>Cluster 24.14</h3>"
      ],
      "text/plain": [
       "<IPython.core.display.HTML object>"
      ]
     },
     "metadata": {},
     "output_type": "display_data"
    },
    {
     "data": {
      "text/plain": [
       "5"
      ]
     },
     "metadata": {},
     "output_type": "display_data"
    },
    {
     "data": {
      "text/plain": [
       "Index(['4079_raw-Diastolic_blood_pressure_automated_reading',\n",
       "       '4080_raw-Systolic_blood_pressure_automated_reading',\n",
       "       '6150_100-Vascularheart_problems_diagnosed_by_doctor_None_of_the_above',\n",
       "       '6150_4-Vascularheart_problems_diagnosed_by_doctor_High_blood_pressure',\n",
       "       'hypertension'],\n",
       "      dtype='object')"
      ]
     },
     "metadata": {},
     "output_type": "display_data"
    },
    {
     "data": {
      "text/html": [
       "<h3>Cluster 24.15</h3>"
      ],
      "text/plain": [
       "<IPython.core.display.HTML object>"
      ]
     },
     "metadata": {},
     "output_type": "display_data"
    },
    {
     "data": {
      "text/plain": [
       "6"
      ]
     },
     "metadata": {},
     "output_type": "display_data"
    },
    {
     "data": {
      "text/plain": [
       "Index(['30000_raw-White_blood_cell_leukocyte_count',\n",
       "       '30140_raw-Neutrophill_count', 'granulocyte count', 'leukocyte count',\n",
       "       'myeloid white cell count', 'neutrophil count'],\n",
       "      dtype='object')"
      ]
     },
     "metadata": {},
     "output_type": "display_data"
    },
    {
     "data": {
      "text/html": [
       "<h3>Cluster 24.16</h3>"
      ],
      "text/plain": [
       "<IPython.core.display.HTML object>"
      ]
     },
     "metadata": {},
     "output_type": "display_data"
    },
    {
     "data": {
      "text/plain": [
       "8"
      ]
     },
     "metadata": {},
     "output_type": "display_data"
    },
    {
     "data": {
      "text/plain": [
       "Index(['1717-Skin_colour', '1727-Ease_of_skin_tanning',\n",
       "       '1737-Childhood_sunburn_occasions',\n",
       "       '1747_1-Hair_colour_natural_before_greying_Blonde',\n",
       "       '1747_2-Hair_colour_natural_before_greying_Red',\n",
       "       '1747_3-Hair_colour_natural_before_greying_Light_brown',\n",
       "       '1747_4-Hair_colour_natural_before_greying_Dark_brown',\n",
       "       '1747_5-Hair_colour_natural_before_greying_Black'],\n",
       "      dtype='object')"
      ]
     },
     "metadata": {},
     "output_type": "display_data"
    },
    {
     "data": {
      "text/html": [
       "<h3>Cluster 24.17</h3>"
      ],
      "text/plain": [
       "<IPython.core.display.HTML object>"
      ]
     },
     "metadata": {},
     "output_type": "display_data"
    },
    {
     "data": {
      "text/plain": [
       "12"
      ]
     },
     "metadata": {},
     "output_type": "display_data"
    },
    {
     "data": {
      "text/plain": [
       "Index(['20003_1140883066-Treatmentmedication_code_insulin_product',\n",
       "       '20003_1141191044-Treatmentmedication_code_levothyroxine_sodium',\n",
       "       '2986-Started_insulin_within_one_year_diagnosis_of_diabetes',\n",
       "       '6144_3-Never_eat_eggs_dairy_wheat_sugar_Wheat_products',\n",
       "       'K11_COELIAC-Coeliac_disease', 'celiac disease',\n",
       "       'hyperthyroidism AND thyrotoxicosis', 'hypothyroidism AND myxedema',\n",
       "       'malabsorption syndrome', 'psoriasis', 'rheumatoid arthritis',\n",
       "       'systemic lupus erythematosus'],\n",
       "      dtype='object')"
      ]
     },
     "metadata": {},
     "output_type": "display_data"
    },
    {
     "data": {
      "text/html": [
       "<h3>Cluster 24.18</h3>"
      ],
      "text/plain": [
       "<IPython.core.display.HTML object>"
      ]
     },
     "metadata": {},
     "output_type": "display_data"
    },
    {
     "data": {
      "text/plain": [
       "1"
      ]
     },
     "metadata": {},
     "output_type": "display_data"
    },
    {
     "data": {
      "text/plain": [
       "Index(['20153_raw-Forced_expiratory_volume_in_1second_FEV1_predicted'], dtype='object')"
      ]
     },
     "metadata": {},
     "output_type": "display_data"
    },
    {
     "data": {
      "text/html": [
       "<h3>Cluster 24.19</h3>"
      ],
      "text/plain": [
       "<IPython.core.display.HTML object>"
      ]
     },
     "metadata": {},
     "output_type": "display_data"
    },
    {
     "data": {
      "text/plain": [
       "208"
      ]
     },
     "metadata": {},
     "output_type": "display_data"
    },
    {
     "data": {
      "text/plain": [
       "Index(['1021-Duration_of_light_DIY', '1031-Frequency_of_friendfamily_visits',\n",
       "       '1060-Time_spent_outdoors_in_winter', '1090-Time_spent_driving',\n",
       "       '1100-Drive_faster_than_motorway_speed_limit',\n",
       "       '110001-Invitation_to_complete_online_24hour_recall_dietary_questionnaire_acceptance',\n",
       "       '1110-Length_of_mobile_phone_use',\n",
       "       '1120-Weekly_usage_of_mobile_phone_in_last_3_months',\n",
       "       '1289-Cooked_vegetable_intake', '1299-Salad_raw_vegetable_intake',\n",
       "       ...\n",
       "       'number of operations, self-reported', 'osteoarthritis',\n",
       "       'osteoarthritis, hip', 'osteoarthritis, knee', 'osteoporosis',\n",
       "       'parkinson's disease',\n",
       "       'seeing a general practitioner for nerves, anxiety, tension or depression, self-reported',\n",
       "       'smoking behavior', 'varicose veins', 'venous thromboembolism'],\n",
       "      dtype='object', length=208)"
      ]
     },
     "metadata": {},
     "output_type": "display_data"
    },
    {
     "data": {
      "text/html": [
       "<h3>Cluster 24.20</h3>"
      ],
      "text/plain": [
       "<IPython.core.display.HTML object>"
      ]
     },
     "metadata": {},
     "output_type": "display_data"
    },
    {
     "data": {
      "text/plain": [
       "25"
      ]
     },
     "metadata": {},
     "output_type": "display_data"
    },
    {
     "data": {
      "text/plain": [
       "Index(['20003_1140861958-Treatmentmedication_code_simvastatin',\n",
       "       '20003_1140868226-Treatmentmedication_code_aspirin',\n",
       "       '20003_1141194794-Treatmentmedication_code_bendroflumethiazide',\n",
       "       '6150_1-Vascularheart_problems_diagnosed_by_doctor_Heart_attack',\n",
       "       '6150_2-Vascularheart_problems_diagnosed_by_doctor_Angina',\n",
       "       '6153_1-Medication_for_cholesterol_blood_pressure_diabetes_or_take_exogenous_hormones_Cholesterol_lowering_medication',\n",
       "       '6153_100-Medication_for_cholesterol_blood_pressure_diabetes_or_take_exogenous_hormones_None_of_the_above',\n",
       "       '6154_1-Medication_for_pain_relief_constipation_heartburn_Aspirin',\n",
       "       '6177_1-Medication_for_cholesterol_blood_pressure_or_diabetes_Cholesterol_lowering_medication',\n",
       "       '6177_100-Medication_for_cholesterol_blood_pressure_or_diabetes_None_of_the_above',\n",
       "       '6177_2-Medication_for_cholesterol_blood_pressure_or_diabetes_Blood_pressure_medication',\n",
       "       'I9_CHD-Major_coronary_heart_disease_event',\n",
       "       'I9_CHD_NOREV-Major_coronary_heart_disease_event_excluding_revascularizations',\n",
       "       'I9_CORATHER-Coronary_atherosclerosis',\n",
       "       'I9_IHD-Ischaemic_heart_disease_wide_definition',\n",
       "       'I9_MI-Myocardial_infarction',\n",
       "       'I9_MI_STRICT-Myocardial_infarction_strict',\n",
       "       'IX_CIRCULATORY-Diseases_of_the_circulatory_system',\n",
       "       'acute myocardial infarction', 'angina pectoris',\n",
       "       'coronary artery disease', 'hypercholesterolemia',\n",
       "       'myocardial infarction',\n",
       "       'number of non-cancer illnesses, self-reported',\n",
       "       'number of treatments or medications taken, self-reported'],\n",
       "      dtype='object')"
      ]
     },
     "metadata": {},
     "output_type": "display_data"
    },
    {
     "data": {
      "text/html": [
       "<h3>Cluster 24.21</h3>"
      ],
      "text/plain": [
       "<IPython.core.display.HTML object>"
      ]
     },
     "metadata": {},
     "output_type": "display_data"
    },
    {
     "data": {
      "text/plain": [
       "19"
      ]
     },
     "metadata": {},
     "output_type": "display_data"
    },
    {
     "data": {
      "text/plain": [
       "Index(['1050-Time_spend_outdoors_in_summer',\n",
       "       '1070-Time_spent_watching_television_TV', '1448_1-Bread_type_White',\n",
       "       '1448_3-Bread_type_Wholemeal_or_wholegrain',\n",
       "       '20016_raw-Fluid_intelligence_score',\n",
       "       '2139_raw-Age_first_had_sexual_intercourse',\n",
       "       '22501_raw-Year_ended_full_time_education',\n",
       "       '2754_raw-Age_at_first_live_birth',\n",
       "       '6138_1-Qualifications_College_or_University_degree',\n",
       "       '6138_100-Qualifications_None_of_the_above',\n",
       "       '6138_2-Qualifications_A_levelsAS_levels_or_equivalent',\n",
       "       '6138_3-Qualifications_O_levelsGCSEs_or_equivalent',\n",
       "       '738-Average_total_household_income_before_tax',\n",
       "       '806-Job_involves_mainly_walking_or_standing',\n",
       "       '816-Job_involves_heavy_manual_or_physical_work',\n",
       "       'SSGAC_Education_Years_Pooled', 'schizophrenia', 'self rated health',\n",
       "       'self reported educational attainment'],\n",
       "      dtype='object')"
      ]
     },
     "metadata": {},
     "output_type": "display_data"
    },
    {
     "data": {
      "text/html": [
       "<h3>Cluster 24.22</h3>"
      ],
      "text/plain": [
       "<IPython.core.display.HTML object>"
      ]
     },
     "metadata": {},
     "output_type": "display_data"
    },
    {
     "data": {
      "text/plain": [
       "3145"
      ]
     },
     "metadata": {},
     "output_type": "display_data"
    },
    {
     "data": {
      "text/plain": [
       "Index(['100001_raw-Food_weight', '100002_raw-Energy', '100003_raw-Protein',\n",
       "       '100004_raw-Fat', '100005_raw-Carbohydrate', '100006_raw-Saturated_fat',\n",
       "       '100007_raw-Polyunsaturated_fat', '100008_raw-Total_sugars',\n",
       "       '100009_raw-Englyst_dietary_fibre', '100010-Portion_size',\n",
       "       ...\n",
       "       'viral disease', 'viral human hepatitis infection', 'viral meningitis',\n",
       "       'visual impairment', 'vitiligo', 'vitreous body disease',\n",
       "       'vocal cord polyp', 'voice disorders',\n",
       "       'wellbeing measurement AND family relationship', 'whooping cough'],\n",
       "      dtype='object', length=3145)"
      ]
     },
     "metadata": {},
     "output_type": "display_data"
    },
    {
     "data": {
      "text/html": [
       "<h3>Cluster 24.23</h3>"
      ],
      "text/plain": [
       "<IPython.core.display.HTML object>"
      ]
     },
     "metadata": {},
     "output_type": "display_data"
    },
    {
     "data": {
      "text/plain": [
       "57"
      ]
     },
     "metadata": {},
     "output_type": "display_data"
    },
    {
     "data": {
      "text/plain": [
       "Index(['102_raw-Pulse_rate_automated_reading',\n",
       "       '1080-Time_spent_using_computer', '1319-Dried_fruit_intake',\n",
       "       '1478-Salt_added_to_food', '1488_raw-Tea_intake',\n",
       "       '1518-Hot_drink_temperature', '1528-Water_intake', '1757-Facial_ageing',\n",
       "       '20022_raw-Birth_weight',\n",
       "       '20023_raw-Mean_time_to_correctly_identify_matches',\n",
       "       '20116_0-Smoking_status_Never', '20127_raw-Neuroticism_score',\n",
       "       '20154_raw-Forced_expiratory_volume_in_1second_FEV1_predicted_percentage',\n",
       "       '20160-Ever_smoked',\n",
       "       '2217_raw-Age_started_wearing_glasses_or_contact_lenses',\n",
       "       '2237-Plays_computer_games', '2395_1-Hairbalding_pattern_Pattern_1',\n",
       "       '30060_raw-Mean_corpuscular_haemoglobin_concentration',\n",
       "       '30070_raw-Red_blood_cell_erythrocyte_distribution_width',\n",
       "       '30120_raw-Lymphocyte_count', '30530_raw-Sodium_in_urine',\n",
       "       '3064_raw-Peak_expiratory_flow_PEF',\n",
       "       '399_raw-Number_of_incorrect_matches_in_round',\n",
       "       '400_raw-Time_to_complete_round',\n",
       "       '404_raw-Duration_to_first_press_of_snapbutton_in_each_round',\n",
       "       '4100_raw-Ankle_spacing_width_left',\n",
       "       '4119_raw-Ankle_spacing_width_right', '4194_raw-Pulse_rate',\n",
       "       '46_raw-Hand_grip_strength_left', '47_raw-Hand_grip_strength_right',\n",
       "       '5084_raw-Spherical_power_right', '5085_raw-Spherical_power_left',\n",
       "       '6152_100-Blood_clot_DVT_bronchitis_emphysema_asthma_rhinitis_eczema_allergy_diagnosed_by_doctor_None_of_the_above',\n",
       "       '6152_8-Blood_clot_DVT_bronchitis_emphysema_asthma_rhinitis_eczema_allergy_diagnosed_by_doctor_Asthma',\n",
       "       '6152_9-Blood_clot_DVT_bronchitis_emphysema_asthma_rhinitis_eczema_allergy_diagnosed_by_doctor_Hayfever_allergic_rhinitis_or_eczema',\n",
       "       '924-Usual_walking_pace', 'age at first facial hair', 'age at menarche',\n",
       "       'anxiety', 'asthma', 'chronotype measurement',\n",
       "       'comparative body size at age 10, self-reported',\n",
       "       'ease of getting up in the morning, self-reported',\n",
       "       'excessive daytime sleepiness measurement AND narcolepsy without cataplexy',\n",
       "       'feeling tense measurement', 'hearing loss',\n",
       "       'inflammatory bowel disease', 'insomnia', 'irritability', 'mood swings',\n",
       "       'nap during day, self-reported', 'sleep duration', 'smoking cessation',\n",
       "       'snoring measurement', 'tiredness measurement', 'wheezing',\n",
       "       'worry measurement'],\n",
       "      dtype='object')"
      ]
     },
     "metadata": {},
     "output_type": "display_data"
    },
    {
     "data": {
      "text/html": [
       "<h2>Partition with k=25</h2>"
      ],
      "text/plain": [
       "<IPython.core.display.HTML object>"
      ]
     },
     "metadata": {},
     "output_type": "display_data"
    },
    {
     "data": {
      "text/plain": [
       "method                                                 scc_025\n",
       "partition    [1, 1, 1, 1, 1, 1, 1, 1, 1, 1, 1, 1, 1, 1, 1, ...\n",
       "ami_mean                                              0.289054\n",
       "selected                                                  True\n",
       "Name: 25, dtype: object"
      ]
     },
     "metadata": {},
     "output_type": "display_data"
    },
    {
     "data": {
      "text/plain": [
       "(3749,)"
      ]
     },
     "metadata": {},
     "output_type": "display_data"
    },
    {
     "data": {
      "text/plain": [
       "1     3153\n",
       "24     204\n",
       "21     136\n",
       "19      56\n",
       "23      36\n",
       "20      26\n",
       "16      19\n",
       "7       18\n",
       "10      13\n",
       "0       12\n",
       "14       8\n",
       "2        8\n",
       "22       8\n",
       "9        6\n",
       "17       6\n",
       "11       6\n",
       "4        5\n",
       "13       5\n",
       "5        5\n",
       "15       4\n",
       "8        4\n",
       "6        4\n",
       "12       3\n",
       "3        3\n",
       "18       1\n",
       "dtype: int64"
      ]
     },
     "metadata": {},
     "output_type": "display_data"
    },
    {
     "data": {
      "text/html": [
       "<h3>Cluster 25.0</h3>"
      ],
      "text/plain": [
       "<IPython.core.display.HTML object>"
      ]
     },
     "metadata": {},
     "output_type": "display_data"
    },
    {
     "data": {
      "text/plain": [
       "12"
      ]
     },
     "metadata": {},
     "output_type": "display_data"
    },
    {
     "data": {
      "text/plain": [
       "Index(['3144_raw-Heel_Broadband_ultrasound_attenuation_direct_entry',\n",
       "       '3147_raw-Heel_quantitative_ultrasound_index_QUI_direct_entry',\n",
       "       '3148_raw-Heel_bone_mineral_density_BMD',\n",
       "       '4101_raw-Heel_broadband_ultrasound_attenuation_left',\n",
       "       '4104_raw-Heel_quantitative_ultrasound_index_QUI_direct_entry_left',\n",
       "       '4105_raw-Heel_bone_mineral_density_BMD_left',\n",
       "       '4106_raw-Heel_bone_mineral_density_BMD_Tscore_automated_left',\n",
       "       '4120_raw-Heel_broadband_ultrasound_attenuation_right',\n",
       "       '4123_raw-Heel_quantitative_ultrasound_index_QUI_direct_entry_right',\n",
       "       '4124_raw-Heel_bone_mineral_density_BMD_right',\n",
       "       '4125_raw-Heel_bone_mineral_density_BMD_Tscore_automated_right',\n",
       "       '78_raw-Heel_bone_mineral_density_BMD_Tscore_automated'],\n",
       "      dtype='object')"
      ]
     },
     "metadata": {},
     "output_type": "display_data"
    },
    {
     "data": {
      "text/html": [
       "<h3>Cluster 25.1</h3>"
      ],
      "text/plain": [
       "<IPython.core.display.HTML object>"
      ]
     },
     "metadata": {},
     "output_type": "display_data"
    },
    {
     "data": {
      "text/plain": [
       "3153"
      ]
     },
     "metadata": {},
     "output_type": "display_data"
    },
    {
     "data": {
      "text/plain": [
       "Index(['100001_raw-Food_weight', '100002_raw-Energy', '100003_raw-Protein',\n",
       "       '100004_raw-Fat', '100005_raw-Carbohydrate', '100006_raw-Saturated_fat',\n",
       "       '100007_raw-Polyunsaturated_fat', '100008_raw-Total_sugars',\n",
       "       '100009_raw-Englyst_dietary_fibre', '100010-Portion_size',\n",
       "       ...\n",
       "       'viral disease', 'viral human hepatitis infection', 'viral meningitis',\n",
       "       'visual impairment', 'vitiligo', 'vitreous body disease',\n",
       "       'vocal cord polyp', 'voice disorders',\n",
       "       'wellbeing measurement AND family relationship', 'whooping cough'],\n",
       "      dtype='object', length=3153)"
      ]
     },
     "metadata": {},
     "output_type": "display_data"
    },
    {
     "data": {
      "text/html": [
       "<h3>Cluster 25.2</h3>"
      ],
      "text/plain": [
       "<IPython.core.display.HTML object>"
      ]
     },
     "metadata": {},
     "output_type": "display_data"
    },
    {
     "data": {
      "text/plain": [
       "8"
      ]
     },
     "metadata": {},
     "output_type": "display_data"
    },
    {
     "data": {
      "text/plain": [
       "Index(['5096_raw-3mm_weak_meridian_left', '5097_raw-6mm_weak_meridian_left',\n",
       "       '5098_raw-6mm_weak_meridian_right', '5099_raw-3mm_weak_meridian_right',\n",
       "       '5132_raw-3mm_strong_meridian_right',\n",
       "       '5133_raw-6mm_strong_meridian_right',\n",
       "       '5134_raw-6mm_strong_meridian_left',\n",
       "       '5135_raw-3mm_strong_meridian_left'],\n",
       "      dtype='object')"
      ]
     },
     "metadata": {},
     "output_type": "display_data"
    },
    {
     "data": {
      "text/html": [
       "<h3>Cluster 25.3</h3>"
      ],
      "text/plain": [
       "<IPython.core.display.HTML object>"
      ]
     },
     "metadata": {},
     "output_type": "display_data"
    },
    {
     "data": {
      "text/plain": [
       "3"
      ]
     },
     "metadata": {},
     "output_type": "display_data"
    },
    {
     "data": {
      "text/plain": [
       "Index(['20015_raw-Sitting_height', '50_raw-Standing_height', 'body height'], dtype='object')"
      ]
     },
     "metadata": {},
     "output_type": "display_data"
    },
    {
     "data": {
      "text/html": [
       "<h3>Cluster 25.4</h3>"
      ],
      "text/plain": [
       "<IPython.core.display.HTML object>"
      ]
     },
     "metadata": {},
     "output_type": "display_data"
    },
    {
     "data": {
      "text/plain": [
       "5"
      ]
     },
     "metadata": {},
     "output_type": "display_data"
    },
    {
     "data": {
      "text/plain": [
       "Index(['23106_raw-Impedance_of_whole_body', '23107_raw-Impedance_of_leg_right',\n",
       "       '23108_raw-Impedance_of_leg_left', '23109_raw-Impedance_of_arm_right',\n",
       "       '23110_raw-Impedance_of_arm_left'],\n",
       "      dtype='object')"
      ]
     },
     "metadata": {},
     "output_type": "display_data"
    },
    {
     "data": {
      "text/html": [
       "<h3>Cluster 25.5</h3>"
      ],
      "text/plain": [
       "<IPython.core.display.HTML object>"
      ]
     },
     "metadata": {},
     "output_type": "display_data"
    },
    {
     "data": {
      "text/plain": [
       "5"
      ]
     },
     "metadata": {},
     "output_type": "display_data"
    },
    {
     "data": {
      "text/plain": [
       "Index(['30080_raw-Platelet_count', '30090_raw-Platelet_crit',\n",
       "       '30100_raw-Mean_platelet_thrombocyte_volume',\n",
       "       '30110_raw-Platelet_distribution_width', 'platelet count'],\n",
       "      dtype='object')"
      ]
     },
     "metadata": {},
     "output_type": "display_data"
    },
    {
     "data": {
      "text/html": [
       "<h3>Cluster 25.6</h3>"
      ],
      "text/plain": [
       "<IPython.core.display.HTML object>"
      ]
     },
     "metadata": {},
     "output_type": "display_data"
    },
    {
     "data": {
      "text/plain": [
       "4"
      ]
     },
     "metadata": {},
     "output_type": "display_data"
    },
    {
     "data": {
      "text/plain": [
       "Index(['30010_raw-Red_blood_cell_erythrocyte_count',\n",
       "       '30020_raw-Haemoglobin_concentration',\n",
       "       '30030_raw-Haematocrit_percentage', 'erythrocyte count'],\n",
       "      dtype='object')"
      ]
     },
     "metadata": {},
     "output_type": "display_data"
    },
    {
     "data": {
      "text/html": [
       "<h3>Cluster 25.7</h3>"
      ],
      "text/plain": [
       "<IPython.core.display.HTML object>"
      ]
     },
     "metadata": {},
     "output_type": "display_data"
    },
    {
     "data": {
      "text/plain": [
       "18"
      ]
     },
     "metadata": {},
     "output_type": "display_data"
    },
    {
     "data": {
      "text/plain": [
       "Index(['21001_raw-Body_mass_index_BMI', '21002_raw-Weight', '23098_raw-Weight',\n",
       "       '23099_raw-Body_fat_percentage', '23100_raw-Whole_body_fat_mass',\n",
       "       '23104_raw-Body_mass_index_BMI', '23111_raw-Leg_fat_percentage_right',\n",
       "       '23112_raw-Leg_fat_mass_right', '23115_raw-Leg_fat_percentage_left',\n",
       "       '23116_raw-Leg_fat_mass_left', '23119_raw-Arm_fat_percentage_right',\n",
       "       '23120_raw-Arm_fat_mass_right', '23123_raw-Arm_fat_percentage_left',\n",
       "       '23124_raw-Arm_fat_mass_left', '23127_raw-Trunk_fat_percentage',\n",
       "       '23128_raw-Trunk_fat_mass', '48_raw-Waist_circumference',\n",
       "       '49_raw-Hip_circumference'],\n",
       "      dtype='object')"
      ]
     },
     "metadata": {},
     "output_type": "display_data"
    },
    {
     "data": {
      "text/html": [
       "<h3>Cluster 25.8</h3>"
      ],
      "text/plain": [
       "<IPython.core.display.HTML object>"
      ]
     },
     "metadata": {},
     "output_type": "display_data"
    },
    {
     "data": {
      "text/plain": [
       "4"
      ]
     },
     "metadata": {},
     "output_type": "display_data"
    },
    {
     "data": {
      "text/plain": [
       "Index(['30040_raw-Mean_corpuscular_volume',\n",
       "       '30050_raw-Mean_corpuscular_haemoglobin',\n",
       "       '30260_raw-Mean_reticulocyte_volume',\n",
       "       '30270_raw-Mean_sphered_cell_volume'],\n",
       "      dtype='object')"
      ]
     },
     "metadata": {},
     "output_type": "display_data"
    },
    {
     "data": {
      "text/html": [
       "<h3>Cluster 25.9</h3>"
      ],
      "text/plain": [
       "<IPython.core.display.HTML object>"
      ]
     },
     "metadata": {},
     "output_type": "display_data"
    },
    {
     "data": {
      "text/plain": [
       "6"
      ]
     },
     "metadata": {},
     "output_type": "display_data"
    },
    {
     "data": {
      "text/plain": [
       "Index(['30000_raw-White_blood_cell_leukocyte_count',\n",
       "       '30140_raw-Neutrophill_count', 'granulocyte count', 'leukocyte count',\n",
       "       'myeloid white cell count', 'neutrophil count'],\n",
       "      dtype='object')"
      ]
     },
     "metadata": {},
     "output_type": "display_data"
    },
    {
     "data": {
      "text/html": [
       "<h3>Cluster 25.10</h3>"
      ],
      "text/plain": [
       "<IPython.core.display.HTML object>"
      ]
     },
     "metadata": {},
     "output_type": "display_data"
    },
    {
     "data": {
      "text/plain": [
       "13"
      ]
     },
     "metadata": {},
     "output_type": "display_data"
    },
    {
     "data": {
      "text/plain": [
       "Index(['23101_raw-Whole_body_fatfree_mass', '23102_raw-Whole_body_water_mass',\n",
       "       '23105_raw-Basal_metabolic_rate', '23113_raw-Leg_fatfree_mass_right',\n",
       "       '23114_raw-Leg_predicted_mass_right', '23117_raw-Leg_fatfree_mass_left',\n",
       "       '23118_raw-Leg_predicted_mass_left', '23121_raw-Arm_fatfree_mass_right',\n",
       "       '23122_raw-Arm_predicted_mass_right', '23125_raw-Arm_fatfree_mass_left',\n",
       "       '23126_raw-Arm_predicted_mass_left', '23129_raw-Trunk_fatfree_mass',\n",
       "       '23130_raw-Trunk_predicted_mass'],\n",
       "      dtype='object')"
      ]
     },
     "metadata": {},
     "output_type": "display_data"
    },
    {
     "data": {
      "text/html": [
       "<h3>Cluster 25.11</h3>"
      ],
      "text/plain": [
       "<IPython.core.display.HTML object>"
      ]
     },
     "metadata": {},
     "output_type": "display_data"
    },
    {
     "data": {
      "text/plain": [
       "6"
      ]
     },
     "metadata": {},
     "output_type": "display_data"
    },
    {
     "data": {
      "text/plain": [
       "Index(['30240_raw-Reticulocyte_percentage', '30250_raw-Reticulocyte_count',\n",
       "       '30280_raw-Immature_reticulocyte_fraction',\n",
       "       '30290_raw-High_light_scatter_reticulocyte_percentage',\n",
       "       '30300_raw-High_light_scatter_reticulocyte_count',\n",
       "       'reticulocyte count'],\n",
       "      dtype='object')"
      ]
     },
     "metadata": {},
     "output_type": "display_data"
    },
    {
     "data": {
      "text/html": [
       "<h3>Cluster 25.12</h3>"
      ],
      "text/plain": [
       "<IPython.core.display.HTML object>"
      ]
     },
     "metadata": {},
     "output_type": "display_data"
    },
    {
     "data": {
      "text/plain": [
       "3"
      ]
     },
     "metadata": {},
     "output_type": "display_data"
    },
    {
     "data": {
      "text/plain": [
       "Index(['30180_raw-Lymphocyte_percentage', '30200_raw-Neutrophill_percentage',\n",
       "       'lymphocyte count'],\n",
       "      dtype='object')"
      ]
     },
     "metadata": {},
     "output_type": "display_data"
    },
    {
     "data": {
      "text/html": [
       "<h3>Cluster 25.13</h3>"
      ],
      "text/plain": [
       "<IPython.core.display.HTML object>"
      ]
     },
     "metadata": {},
     "output_type": "display_data"
    },
    {
     "data": {
      "text/plain": [
       "5"
      ]
     },
     "metadata": {},
     "output_type": "display_data"
    },
    {
     "data": {
      "text/plain": [
       "Index(['4079_raw-Diastolic_blood_pressure_automated_reading',\n",
       "       '4080_raw-Systolic_blood_pressure_automated_reading',\n",
       "       '6150_100-Vascularheart_problems_diagnosed_by_doctor_None_of_the_above',\n",
       "       '6150_4-Vascularheart_problems_diagnosed_by_doctor_High_blood_pressure',\n",
       "       'hypertension'],\n",
       "      dtype='object')"
      ]
     },
     "metadata": {},
     "output_type": "display_data"
    },
    {
     "data": {
      "text/html": [
       "<h3>Cluster 25.14</h3>"
      ],
      "text/plain": [
       "<IPython.core.display.HTML object>"
      ]
     },
     "metadata": {},
     "output_type": "display_data"
    },
    {
     "data": {
      "text/plain": [
       "8"
      ]
     },
     "metadata": {},
     "output_type": "display_data"
    },
    {
     "data": {
      "text/plain": [
       "Index(['1717-Skin_colour', '1727-Ease_of_skin_tanning',\n",
       "       '1737-Childhood_sunburn_occasions',\n",
       "       '1747_1-Hair_colour_natural_before_greying_Blonde',\n",
       "       '1747_2-Hair_colour_natural_before_greying_Red',\n",
       "       '1747_3-Hair_colour_natural_before_greying_Light_brown',\n",
       "       '1747_4-Hair_colour_natural_before_greying_Dark_brown',\n",
       "       '1747_5-Hair_colour_natural_before_greying_Black'],\n",
       "      dtype='object')"
      ]
     },
     "metadata": {},
     "output_type": "display_data"
    },
    {
     "data": {
      "text/html": [
       "<h3>Cluster 25.15</h3>"
      ],
      "text/plain": [
       "<IPython.core.display.HTML object>"
      ]
     },
     "metadata": {},
     "output_type": "display_data"
    },
    {
     "data": {
      "text/plain": [
       "4"
      ]
     },
     "metadata": {},
     "output_type": "display_data"
    },
    {
     "data": {
      "text/plain": [
       "Index(['20150_raw-Forced_expiratory_volume_in_1second_FEV1_Best_measure',\n",
       "       '20151_raw-Forced_vital_capacity_FVC_Best_measure',\n",
       "       '3062_raw-Forced_vital_capacity_FVC',\n",
       "       '3063_raw-Forced_expiratory_volume_in_1second_FEV1'],\n",
       "      dtype='object')"
      ]
     },
     "metadata": {},
     "output_type": "display_data"
    },
    {
     "data": {
      "text/html": [
       "<h3>Cluster 25.16</h3>"
      ],
      "text/plain": [
       "<IPython.core.display.HTML object>"
      ]
     },
     "metadata": {},
     "output_type": "display_data"
    },
    {
     "data": {
      "text/plain": [
       "19"
      ]
     },
     "metadata": {},
     "output_type": "display_data"
    },
    {
     "data": {
      "text/plain": [
       "Index(['1050-Time_spend_outdoors_in_summer',\n",
       "       '1070-Time_spent_watching_television_TV', '1448_1-Bread_type_White',\n",
       "       '1448_3-Bread_type_Wholemeal_or_wholegrain',\n",
       "       '20016_raw-Fluid_intelligence_score',\n",
       "       '2139_raw-Age_first_had_sexual_intercourse',\n",
       "       '22501_raw-Year_ended_full_time_education',\n",
       "       '2754_raw-Age_at_first_live_birth',\n",
       "       '6138_1-Qualifications_College_or_University_degree',\n",
       "       '6138_100-Qualifications_None_of_the_above',\n",
       "       '6138_2-Qualifications_A_levelsAS_levels_or_equivalent',\n",
       "       '6138_3-Qualifications_O_levelsGCSEs_or_equivalent',\n",
       "       '738-Average_total_household_income_before_tax',\n",
       "       '806-Job_involves_mainly_walking_or_standing',\n",
       "       '816-Job_involves_heavy_manual_or_physical_work',\n",
       "       'SSGAC_Education_Years_Pooled', 'schizophrenia', 'self rated health',\n",
       "       'self reported educational attainment'],\n",
       "      dtype='object')"
      ]
     },
     "metadata": {},
     "output_type": "display_data"
    },
    {
     "data": {
      "text/html": [
       "<h3>Cluster 25.17</h3>"
      ],
      "text/plain": [
       "<IPython.core.display.HTML object>"
      ]
     },
     "metadata": {},
     "output_type": "display_data"
    },
    {
     "data": {
      "text/plain": [
       "6"
      ]
     },
     "metadata": {},
     "output_type": "display_data"
    },
    {
     "data": {
      "text/plain": [
       "Index(['30130_raw-Monocyte_count', '30150-Eosinophill_count',\n",
       "       '30190_raw-Monocyte_percentage', '30210_raw-Eosinophill_percentage',\n",
       "       'eosinophil count', 'monocyte count'],\n",
       "      dtype='object')"
      ]
     },
     "metadata": {},
     "output_type": "display_data"
    },
    {
     "data": {
      "text/html": [
       "<h3>Cluster 25.18</h3>"
      ],
      "text/plain": [
       "<IPython.core.display.HTML object>"
      ]
     },
     "metadata": {},
     "output_type": "display_data"
    },
    {
     "data": {
      "text/plain": [
       "1"
      ]
     },
     "metadata": {},
     "output_type": "display_data"
    },
    {
     "data": {
      "text/plain": [
       "Index(['20153_raw-Forced_expiratory_volume_in_1second_FEV1_predicted'], dtype='object')"
      ]
     },
     "metadata": {},
     "output_type": "display_data"
    },
    {
     "data": {
      "text/html": [
       "<h3>Cluster 25.19</h3>"
      ],
      "text/plain": [
       "<IPython.core.display.HTML object>"
      ]
     },
     "metadata": {},
     "output_type": "display_data"
    },
    {
     "data": {
      "text/plain": [
       "56"
      ]
     },
     "metadata": {},
     "output_type": "display_data"
    },
    {
     "data": {
      "text/plain": [
       "Index(['102_raw-Pulse_rate_automated_reading',\n",
       "       '1080-Time_spent_using_computer', '1319-Dried_fruit_intake',\n",
       "       '1478-Salt_added_to_food', '1488_raw-Tea_intake',\n",
       "       '1518-Hot_drink_temperature', '1528-Water_intake', '1757-Facial_ageing',\n",
       "       '20022_raw-Birth_weight',\n",
       "       '20023_raw-Mean_time_to_correctly_identify_matches',\n",
       "       '20116_0-Smoking_status_Never', '20127_raw-Neuroticism_score',\n",
       "       '20154_raw-Forced_expiratory_volume_in_1second_FEV1_predicted_percentage',\n",
       "       '20160-Ever_smoked',\n",
       "       '2217_raw-Age_started_wearing_glasses_or_contact_lenses',\n",
       "       '2237-Plays_computer_games', '2395_1-Hairbalding_pattern_Pattern_1',\n",
       "       '30060_raw-Mean_corpuscular_haemoglobin_concentration',\n",
       "       '30120_raw-Lymphocyte_count', '30530_raw-Sodium_in_urine',\n",
       "       '3064_raw-Peak_expiratory_flow_PEF',\n",
       "       '399_raw-Number_of_incorrect_matches_in_round',\n",
       "       '400_raw-Time_to_complete_round',\n",
       "       '404_raw-Duration_to_first_press_of_snapbutton_in_each_round',\n",
       "       '4100_raw-Ankle_spacing_width_left',\n",
       "       '4119_raw-Ankle_spacing_width_right', '4194_raw-Pulse_rate',\n",
       "       '46_raw-Hand_grip_strength_left', '47_raw-Hand_grip_strength_right',\n",
       "       '5084_raw-Spherical_power_right', '5085_raw-Spherical_power_left',\n",
       "       '6152_100-Blood_clot_DVT_bronchitis_emphysema_asthma_rhinitis_eczema_allergy_diagnosed_by_doctor_None_of_the_above',\n",
       "       '6152_8-Blood_clot_DVT_bronchitis_emphysema_asthma_rhinitis_eczema_allergy_diagnosed_by_doctor_Asthma',\n",
       "       '6152_9-Blood_clot_DVT_bronchitis_emphysema_asthma_rhinitis_eczema_allergy_diagnosed_by_doctor_Hayfever_allergic_rhinitis_or_eczema',\n",
       "       '924-Usual_walking_pace', 'age at first facial hair', 'age at menarche',\n",
       "       'anxiety', 'asthma', 'chronotype measurement',\n",
       "       'comparative body size at age 10, self-reported',\n",
       "       'ease of getting up in the morning, self-reported',\n",
       "       'excessive daytime sleepiness measurement AND narcolepsy without cataplexy',\n",
       "       'feeling tense measurement', 'hearing loss',\n",
       "       'inflammatory bowel disease', 'insomnia', 'irritability', 'mood swings',\n",
       "       'nap during day, self-reported', 'sleep duration', 'smoking cessation',\n",
       "       'snoring measurement', 'tiredness measurement', 'wheezing',\n",
       "       'worry measurement'],\n",
       "      dtype='object')"
      ]
     },
     "metadata": {},
     "output_type": "display_data"
    },
    {
     "data": {
      "text/html": [
       "<h3>Cluster 25.20</h3>"
      ],
      "text/plain": [
       "<IPython.core.display.HTML object>"
      ]
     },
     "metadata": {},
     "output_type": "display_data"
    },
    {
     "data": {
      "text/plain": [
       "26"
      ]
     },
     "metadata": {},
     "output_type": "display_data"
    },
    {
     "data": {
      "text/plain": [
       "Index(['20003_1140861958-Treatmentmedication_code_simvastatin',\n",
       "       '20003_1140868226-Treatmentmedication_code_aspirin',\n",
       "       '20003_1141194794-Treatmentmedication_code_bendroflumethiazide',\n",
       "       '6150_1-Vascularheart_problems_diagnosed_by_doctor_Heart_attack',\n",
       "       '6150_2-Vascularheart_problems_diagnosed_by_doctor_Angina',\n",
       "       '6153_1-Medication_for_cholesterol_blood_pressure_diabetes_or_take_exogenous_hormones_Cholesterol_lowering_medication',\n",
       "       '6153_100-Medication_for_cholesterol_blood_pressure_diabetes_or_take_exogenous_hormones_None_of_the_above',\n",
       "       '6153_2-Medication_for_cholesterol_blood_pressure_diabetes_or_take_exogenous_hormones_Blood_pressure_medication',\n",
       "       '6154_1-Medication_for_pain_relief_constipation_heartburn_Aspirin',\n",
       "       '6177_1-Medication_for_cholesterol_blood_pressure_or_diabetes_Cholesterol_lowering_medication',\n",
       "       '6177_100-Medication_for_cholesterol_blood_pressure_or_diabetes_None_of_the_above',\n",
       "       '6177_2-Medication_for_cholesterol_blood_pressure_or_diabetes_Blood_pressure_medication',\n",
       "       'I9_CHD-Major_coronary_heart_disease_event',\n",
       "       'I9_CHD_NOREV-Major_coronary_heart_disease_event_excluding_revascularizations',\n",
       "       'I9_CORATHER-Coronary_atherosclerosis',\n",
       "       'I9_IHD-Ischaemic_heart_disease_wide_definition',\n",
       "       'I9_MI-Myocardial_infarction',\n",
       "       'I9_MI_STRICT-Myocardial_infarction_strict',\n",
       "       'IX_CIRCULATORY-Diseases_of_the_circulatory_system',\n",
       "       'acute myocardial infarction', 'angina pectoris',\n",
       "       'coronary artery disease', 'hypercholesterolemia',\n",
       "       'myocardial infarction',\n",
       "       'number of non-cancer illnesses, self-reported',\n",
       "       'number of treatments or medications taken, self-reported'],\n",
       "      dtype='object')"
      ]
     },
     "metadata": {},
     "output_type": "display_data"
    },
    {
     "data": {
      "text/html": [
       "<h3>Cluster 25.21</h3>"
      ],
      "text/plain": [
       "<IPython.core.display.HTML object>"
      ]
     },
     "metadata": {},
     "output_type": "display_data"
    },
    {
     "data": {
      "text/plain": [
       "136"
      ]
     },
     "metadata": {},
     "output_type": "display_data"
    },
    {
     "data": {
      "text/plain": [
       "Index(['129_raw-Place_of_birth_in_UK_north_coordinate',\n",
       "       '130_raw-Place_of_birth_in_UK_east_coordinate',\n",
       "       '20074_raw-Home_location_at_assessment_east_coordinate_rounded',\n",
       "       '20075_raw-Home_location_at_assessment_north_coordinate_rounded',\n",
       "       '20118_11-Home_area_population_density_urban_or_rural_Scotland_Large_Urban_Area',\n",
       "       '22704_raw-Home_location_north_coordinate_rounded',\n",
       "       '30220_raw-Basophill_percentage', 'abdominal injury',\n",
       "       'abnormal delivery', 'alcohol dependence',\n",
       "       ...\n",
       "       'tongue neoplasm', 'transient ischemic attack', 'tuberculosis',\n",
       "       'type ii diabetes mellitus', 'ulcerative colitis',\n",
       "       'urogenital neoplasm', 'urticaria', 'vascular disease', 'vasculitis',\n",
       "       'wrist fracture'],\n",
       "      dtype='object', length=136)"
      ]
     },
     "metadata": {},
     "output_type": "display_data"
    },
    {
     "data": {
      "text/html": [
       "<h3>Cluster 25.22</h3>"
      ],
      "text/plain": [
       "<IPython.core.display.HTML object>"
      ]
     },
     "metadata": {},
     "output_type": "display_data"
    },
    {
     "data": {
      "text/plain": [
       "8"
      ]
     },
     "metadata": {},
     "output_type": "display_data"
    },
    {
     "data": {
      "text/plain": [
       "Index(['20003_1141191044-Treatmentmedication_code_levothyroxine_sodium',\n",
       "       'K11_COELIAC-Coeliac_disease', 'celiac disease',\n",
       "       'hypothyroidism AND myxedema', 'malabsorption syndrome', 'psoriasis',\n",
       "       'rheumatoid arthritis', 'systemic lupus erythematosus'],\n",
       "      dtype='object')"
      ]
     },
     "metadata": {},
     "output_type": "display_data"
    },
    {
     "data": {
      "text/html": [
       "<h3>Cluster 25.23</h3>"
      ],
      "text/plain": [
       "<IPython.core.display.HTML object>"
      ]
     },
     "metadata": {},
     "output_type": "display_data"
    },
    {
     "data": {
      "text/plain": [
       "36"
      ]
     },
     "metadata": {},
     "output_type": "display_data"
    },
    {
     "data": {
      "text/plain": [
       "Index(['20421-Ever_felt_worried_tense_or_anxious_for_most_of_a_month_or_longer',\n",
       "       '20425-Ever_worried_more_than_most_people_would_in_similar_situation',\n",
       "       '20441-Ever_had_prolonged_loss_of_interest_in_normal_activities',\n",
       "       '20446-Ever_had_prolonged_feelings_of_sadness_or_depression',\n",
       "       '20458-General_happiness', '20459-General_happiness_with_own_health',\n",
       "       '20460-Belief_that_own_life_is_meaningful',\n",
       "       '20479-Ever_thought_that_life_not_worth_living',\n",
       "       '20485-Ever_contemplated_selfharm',\n",
       "       '20494-Felt_irritable_or_had_angry_outbursts_in_past_month',\n",
       "       '20495-Avoided_activities_or_situations_because_of_previous_stressful_experience_in_past_month',\n",
       "       '20496-Felt_distant_from_other_people_in_past_month',\n",
       "       '20497-Repeated_disturbing_thoughts_of_stressful_experience_in_past_month',\n",
       "       '20498-Felt_very_upset_when_reminded_of_stressful_experience_in_past_month',\n",
       "       '20499-Ever_sought_or_received_professional_help_for_mental_distress',\n",
       "       '20500-Ever_suffered_mental_distress_preventing_usual_activities',\n",
       "       '20505-Recent_easy_annoyance_or_irritability',\n",
       "       '20506-Recent_feelings_or_nervousness_or_anxiety',\n",
       "       '20507-Recent_feelings_of_inadequacy',\n",
       "       '20508-Recent_trouble_concentrating_on_things',\n",
       "       '20509-Recent_inability_to_stop_or_control_worrying',\n",
       "       '20510-Recent_feelings_of_depression',\n",
       "       '20511-Recent_poor_appetite_or_overeating',\n",
       "       '20512-Recent_feelings_of_foreboding',\n",
       "       '20513-Recent_thoughts_of_suicide_or_selfharm',\n",
       "       '20514-Recent_lack_of_interest_or_pleasure_in_doing_things',\n",
       "       '20515-Recent_trouble_relaxing', '20516-Recent_restlessness',\n",
       "       '20517-Trouble_falling_or_staying_asleep_or_sleeping_too_much',\n",
       "       '20519-Recent_feelings_of_tiredness_or_low_energy',\n",
       "       '20520-Recent_worrying_too_much_about_different_things',\n",
       "       '20544_11-Mental_health_problems_ever_diagnosed_by_a_professional_Depression',\n",
       "       '20546_3-Substances_taken_for_depression_Medication_prescribed_to_you_for_at_least_two_weeks',\n",
       "       '20547_1-Activities_undertaken_to_treat_depression_Talking_therapies_such_as_psychotherapy_counselling_group_therapy_or_CBT',\n",
       "       '20549_3-Substances_taken_for_anxiety_Medication_prescribed_to_you_for_at_least_two_weeks',\n",
       "       'seeing a psychiatrist for nerves, anxiety, tension or depression, self-reported'],\n",
       "      dtype='object')"
      ]
     },
     "metadata": {},
     "output_type": "display_data"
    },
    {
     "data": {
      "text/html": [
       "<h3>Cluster 25.24</h3>"
      ],
      "text/plain": [
       "<IPython.core.display.HTML object>"
      ]
     },
     "metadata": {},
     "output_type": "display_data"
    },
    {
     "data": {
      "text/plain": [
       "204"
      ]
     },
     "metadata": {},
     "output_type": "display_data"
    },
    {
     "data": {
      "text/plain": [
       "Index(['1021-Duration_of_light_DIY', '1031-Frequency_of_friendfamily_visits',\n",
       "       '1060-Time_spent_outdoors_in_winter', '1090-Time_spent_driving',\n",
       "       '1100-Drive_faster_than_motorway_speed_limit',\n",
       "       '110001-Invitation_to_complete_online_24hour_recall_dietary_questionnaire_acceptance',\n",
       "       '1110-Length_of_mobile_phone_use',\n",
       "       '1120-Weekly_usage_of_mobile_phone_in_last_3_months',\n",
       "       '1289-Cooked_vegetable_intake', '1299-Salad_raw_vegetable_intake',\n",
       "       ...\n",
       "       'number of operations, self-reported', 'osteoarthritis',\n",
       "       'osteoarthritis, hip', 'osteoarthritis, knee', 'osteoporosis',\n",
       "       'parkinson's disease',\n",
       "       'seeing a general practitioner for nerves, anxiety, tension or depression, self-reported',\n",
       "       'smoking behavior', 'varicose veins', 'venous thromboembolism'],\n",
       "      dtype='object', length=204)"
      ]
     },
     "metadata": {},
     "output_type": "display_data"
    },
    {
     "data": {
      "text/html": [
       "<h2>Partition with k=26</h2>"
      ],
      "text/plain": [
       "<IPython.core.display.HTML object>"
      ]
     },
     "metadata": {},
     "output_type": "display_data"
    },
    {
     "data": {
      "text/plain": [
       "method                                                 scc_025\n",
       "partition    [0, 0, 0, 0, 0, 0, 0, 0, 0, 0, 0, 0, 0, 0, 0, ...\n",
       "ami_mean                                              0.289436\n",
       "selected                                                  True\n",
       "Name: 26, dtype: object"
      ]
     },
     "metadata": {},
     "output_type": "display_data"
    },
    {
     "data": {
      "text/plain": [
       "(3749,)"
      ]
     },
     "metadata": {},
     "output_type": "display_data"
    },
    {
     "data": {
      "text/plain": [
       "0     3156\n",
       "19     201\n",
       "22     136\n",
       "21      53\n",
       "24      36\n",
       "20      25\n",
       "18      19\n",
       "8       18\n",
       "10      13\n",
       "1       12\n",
       "16      12\n",
       "5        8\n",
       "14       8\n",
       "11       6\n",
       "13       6\n",
       "6        5\n",
       "15       5\n",
       "3        5\n",
       "12       4\n",
       "7        4\n",
       "9        4\n",
       "4        4\n",
       "2        3\n",
       "25       3\n",
       "23       2\n",
       "17       1\n",
       "dtype: int64"
      ]
     },
     "metadata": {},
     "output_type": "display_data"
    },
    {
     "data": {
      "text/html": [
       "<h3>Cluster 26.0</h3>"
      ],
      "text/plain": [
       "<IPython.core.display.HTML object>"
      ]
     },
     "metadata": {},
     "output_type": "display_data"
    },
    {
     "data": {
      "text/plain": [
       "3156"
      ]
     },
     "metadata": {},
     "output_type": "display_data"
    },
    {
     "data": {
      "text/plain": [
       "Index(['100001_raw-Food_weight', '100002_raw-Energy', '100003_raw-Protein',\n",
       "       '100004_raw-Fat', '100005_raw-Carbohydrate', '100006_raw-Saturated_fat',\n",
       "       '100007_raw-Polyunsaturated_fat', '100008_raw-Total_sugars',\n",
       "       '100009_raw-Englyst_dietary_fibre', '100010-Portion_size',\n",
       "       ...\n",
       "       'viral disease', 'viral human hepatitis infection', 'viral meningitis',\n",
       "       'visual impairment', 'vitiligo', 'vitreous body disease',\n",
       "       'vocal cord polyp', 'voice disorders',\n",
       "       'wellbeing measurement AND family relationship', 'whooping cough'],\n",
       "      dtype='object', length=3156)"
      ]
     },
     "metadata": {},
     "output_type": "display_data"
    },
    {
     "data": {
      "text/html": [
       "<h3>Cluster 26.1</h3>"
      ],
      "text/plain": [
       "<IPython.core.display.HTML object>"
      ]
     },
     "metadata": {},
     "output_type": "display_data"
    },
    {
     "data": {
      "text/plain": [
       "12"
      ]
     },
     "metadata": {},
     "output_type": "display_data"
    },
    {
     "data": {
      "text/plain": [
       "Index(['3144_raw-Heel_Broadband_ultrasound_attenuation_direct_entry',\n",
       "       '3147_raw-Heel_quantitative_ultrasound_index_QUI_direct_entry',\n",
       "       '3148_raw-Heel_bone_mineral_density_BMD',\n",
       "       '4101_raw-Heel_broadband_ultrasound_attenuation_left',\n",
       "       '4104_raw-Heel_quantitative_ultrasound_index_QUI_direct_entry_left',\n",
       "       '4105_raw-Heel_bone_mineral_density_BMD_left',\n",
       "       '4106_raw-Heel_bone_mineral_density_BMD_Tscore_automated_left',\n",
       "       '4120_raw-Heel_broadband_ultrasound_attenuation_right',\n",
       "       '4123_raw-Heel_quantitative_ultrasound_index_QUI_direct_entry_right',\n",
       "       '4124_raw-Heel_bone_mineral_density_BMD_right',\n",
       "       '4125_raw-Heel_bone_mineral_density_BMD_Tscore_automated_right',\n",
       "       '78_raw-Heel_bone_mineral_density_BMD_Tscore_automated'],\n",
       "      dtype='object')"
      ]
     },
     "metadata": {},
     "output_type": "display_data"
    },
    {
     "data": {
      "text/html": [
       "<h3>Cluster 26.2</h3>"
      ],
      "text/plain": [
       "<IPython.core.display.HTML object>"
      ]
     },
     "metadata": {},
     "output_type": "display_data"
    },
    {
     "data": {
      "text/plain": [
       "3"
      ]
     },
     "metadata": {},
     "output_type": "display_data"
    },
    {
     "data": {
      "text/plain": [
       "Index(['20015_raw-Sitting_height', '50_raw-Standing_height', 'body height'], dtype='object')"
      ]
     },
     "metadata": {},
     "output_type": "display_data"
    },
    {
     "data": {
      "text/html": [
       "<h3>Cluster 26.3</h3>"
      ],
      "text/plain": [
       "<IPython.core.display.HTML object>"
      ]
     },
     "metadata": {},
     "output_type": "display_data"
    },
    {
     "data": {
      "text/plain": [
       "5"
      ]
     },
     "metadata": {},
     "output_type": "display_data"
    },
    {
     "data": {
      "text/plain": [
       "Index(['23106_raw-Impedance_of_whole_body', '23107_raw-Impedance_of_leg_right',\n",
       "       '23108_raw-Impedance_of_leg_left', '23109_raw-Impedance_of_arm_right',\n",
       "       '23110_raw-Impedance_of_arm_left'],\n",
       "      dtype='object')"
      ]
     },
     "metadata": {},
     "output_type": "display_data"
    },
    {
     "data": {
      "text/html": [
       "<h3>Cluster 26.4</h3>"
      ],
      "text/plain": [
       "<IPython.core.display.HTML object>"
      ]
     },
     "metadata": {},
     "output_type": "display_data"
    },
    {
     "data": {
      "text/plain": [
       "4"
      ]
     },
     "metadata": {},
     "output_type": "display_data"
    },
    {
     "data": {
      "text/plain": [
       "Index(['30040_raw-Mean_corpuscular_volume',\n",
       "       '30050_raw-Mean_corpuscular_haemoglobin',\n",
       "       '30260_raw-Mean_reticulocyte_volume',\n",
       "       '30270_raw-Mean_sphered_cell_volume'],\n",
       "      dtype='object')"
      ]
     },
     "metadata": {},
     "output_type": "display_data"
    },
    {
     "data": {
      "text/html": [
       "<h3>Cluster 26.5</h3>"
      ],
      "text/plain": [
       "<IPython.core.display.HTML object>"
      ]
     },
     "metadata": {},
     "output_type": "display_data"
    },
    {
     "data": {
      "text/plain": [
       "8"
      ]
     },
     "metadata": {},
     "output_type": "display_data"
    },
    {
     "data": {
      "text/plain": [
       "Index(['5096_raw-3mm_weak_meridian_left', '5097_raw-6mm_weak_meridian_left',\n",
       "       '5098_raw-6mm_weak_meridian_right', '5099_raw-3mm_weak_meridian_right',\n",
       "       '5132_raw-3mm_strong_meridian_right',\n",
       "       '5133_raw-6mm_strong_meridian_right',\n",
       "       '5134_raw-6mm_strong_meridian_left',\n",
       "       '5135_raw-3mm_strong_meridian_left'],\n",
       "      dtype='object')"
      ]
     },
     "metadata": {},
     "output_type": "display_data"
    },
    {
     "data": {
      "text/html": [
       "<h3>Cluster 26.6</h3>"
      ],
      "text/plain": [
       "<IPython.core.display.HTML object>"
      ]
     },
     "metadata": {},
     "output_type": "display_data"
    },
    {
     "data": {
      "text/plain": [
       "5"
      ]
     },
     "metadata": {},
     "output_type": "display_data"
    },
    {
     "data": {
      "text/plain": [
       "Index(['30080_raw-Platelet_count', '30090_raw-Platelet_crit',\n",
       "       '30100_raw-Mean_platelet_thrombocyte_volume',\n",
       "       '30110_raw-Platelet_distribution_width', 'platelet count'],\n",
       "      dtype='object')"
      ]
     },
     "metadata": {},
     "output_type": "display_data"
    },
    {
     "data": {
      "text/html": [
       "<h3>Cluster 26.7</h3>"
      ],
      "text/plain": [
       "<IPython.core.display.HTML object>"
      ]
     },
     "metadata": {},
     "output_type": "display_data"
    },
    {
     "data": {
      "text/plain": [
       "4"
      ]
     },
     "metadata": {},
     "output_type": "display_data"
    },
    {
     "data": {
      "text/plain": [
       "Index(['30010_raw-Red_blood_cell_erythrocyte_count',\n",
       "       '30020_raw-Haemoglobin_concentration',\n",
       "       '30030_raw-Haematocrit_percentage', 'erythrocyte count'],\n",
       "      dtype='object')"
      ]
     },
     "metadata": {},
     "output_type": "display_data"
    },
    {
     "data": {
      "text/html": [
       "<h3>Cluster 26.8</h3>"
      ],
      "text/plain": [
       "<IPython.core.display.HTML object>"
      ]
     },
     "metadata": {},
     "output_type": "display_data"
    },
    {
     "data": {
      "text/plain": [
       "18"
      ]
     },
     "metadata": {},
     "output_type": "display_data"
    },
    {
     "data": {
      "text/plain": [
       "Index(['21001_raw-Body_mass_index_BMI', '21002_raw-Weight', '23098_raw-Weight',\n",
       "       '23099_raw-Body_fat_percentage', '23100_raw-Whole_body_fat_mass',\n",
       "       '23104_raw-Body_mass_index_BMI', '23111_raw-Leg_fat_percentage_right',\n",
       "       '23112_raw-Leg_fat_mass_right', '23115_raw-Leg_fat_percentage_left',\n",
       "       '23116_raw-Leg_fat_mass_left', '23119_raw-Arm_fat_percentage_right',\n",
       "       '23120_raw-Arm_fat_mass_right', '23123_raw-Arm_fat_percentage_left',\n",
       "       '23124_raw-Arm_fat_mass_left', '23127_raw-Trunk_fat_percentage',\n",
       "       '23128_raw-Trunk_fat_mass', '48_raw-Waist_circumference',\n",
       "       '49_raw-Hip_circumference'],\n",
       "      dtype='object')"
      ]
     },
     "metadata": {},
     "output_type": "display_data"
    },
    {
     "data": {
      "text/html": [
       "<h3>Cluster 26.9</h3>"
      ],
      "text/plain": [
       "<IPython.core.display.HTML object>"
      ]
     },
     "metadata": {},
     "output_type": "display_data"
    },
    {
     "data": {
      "text/plain": [
       "4"
      ]
     },
     "metadata": {},
     "output_type": "display_data"
    },
    {
     "data": {
      "text/plain": [
       "Index(['30130_raw-Monocyte_count', '30190_raw-Monocyte_percentage',\n",
       "       'eosinophil count', 'monocyte count'],\n",
       "      dtype='object')"
      ]
     },
     "metadata": {},
     "output_type": "display_data"
    },
    {
     "data": {
      "text/html": [
       "<h3>Cluster 26.10</h3>"
      ],
      "text/plain": [
       "<IPython.core.display.HTML object>"
      ]
     },
     "metadata": {},
     "output_type": "display_data"
    },
    {
     "data": {
      "text/plain": [
       "13"
      ]
     },
     "metadata": {},
     "output_type": "display_data"
    },
    {
     "data": {
      "text/plain": [
       "Index(['23101_raw-Whole_body_fatfree_mass', '23102_raw-Whole_body_water_mass',\n",
       "       '23105_raw-Basal_metabolic_rate', '23113_raw-Leg_fatfree_mass_right',\n",
       "       '23114_raw-Leg_predicted_mass_right', '23117_raw-Leg_fatfree_mass_left',\n",
       "       '23118_raw-Leg_predicted_mass_left', '23121_raw-Arm_fatfree_mass_right',\n",
       "       '23122_raw-Arm_predicted_mass_right', '23125_raw-Arm_fatfree_mass_left',\n",
       "       '23126_raw-Arm_predicted_mass_left', '23129_raw-Trunk_fatfree_mass',\n",
       "       '23130_raw-Trunk_predicted_mass'],\n",
       "      dtype='object')"
      ]
     },
     "metadata": {},
     "output_type": "display_data"
    },
    {
     "data": {
      "text/html": [
       "<h3>Cluster 26.11</h3>"
      ],
      "text/plain": [
       "<IPython.core.display.HTML object>"
      ]
     },
     "metadata": {},
     "output_type": "display_data"
    },
    {
     "data": {
      "text/plain": [
       "6"
      ]
     },
     "metadata": {},
     "output_type": "display_data"
    },
    {
     "data": {
      "text/plain": [
       "Index(['30000_raw-White_blood_cell_leukocyte_count',\n",
       "       '30140_raw-Neutrophill_count', 'granulocyte count', 'leukocyte count',\n",
       "       'myeloid white cell count', 'neutrophil count'],\n",
       "      dtype='object')"
      ]
     },
     "metadata": {},
     "output_type": "display_data"
    },
    {
     "data": {
      "text/html": [
       "<h3>Cluster 26.12</h3>"
      ],
      "text/plain": [
       "<IPython.core.display.HTML object>"
      ]
     },
     "metadata": {},
     "output_type": "display_data"
    },
    {
     "data": {
      "text/plain": [
       "4"
      ]
     },
     "metadata": {},
     "output_type": "display_data"
    },
    {
     "data": {
      "text/plain": [
       "Index(['20150_raw-Forced_expiratory_volume_in_1second_FEV1_Best_measure',\n",
       "       '20151_raw-Forced_vital_capacity_FVC_Best_measure',\n",
       "       '3062_raw-Forced_vital_capacity_FVC',\n",
       "       '3063_raw-Forced_expiratory_volume_in_1second_FEV1'],\n",
       "      dtype='object')"
      ]
     },
     "metadata": {},
     "output_type": "display_data"
    },
    {
     "data": {
      "text/html": [
       "<h3>Cluster 26.13</h3>"
      ],
      "text/plain": [
       "<IPython.core.display.HTML object>"
      ]
     },
     "metadata": {},
     "output_type": "display_data"
    },
    {
     "data": {
      "text/plain": [
       "6"
      ]
     },
     "metadata": {},
     "output_type": "display_data"
    },
    {
     "data": {
      "text/plain": [
       "Index(['30240_raw-Reticulocyte_percentage', '30250_raw-Reticulocyte_count',\n",
       "       '30280_raw-Immature_reticulocyte_fraction',\n",
       "       '30290_raw-High_light_scatter_reticulocyte_percentage',\n",
       "       '30300_raw-High_light_scatter_reticulocyte_count',\n",
       "       'reticulocyte count'],\n",
       "      dtype='object')"
      ]
     },
     "metadata": {},
     "output_type": "display_data"
    },
    {
     "data": {
      "text/html": [
       "<h3>Cluster 26.14</h3>"
      ],
      "text/plain": [
       "<IPython.core.display.HTML object>"
      ]
     },
     "metadata": {},
     "output_type": "display_data"
    },
    {
     "data": {
      "text/plain": [
       "8"
      ]
     },
     "metadata": {},
     "output_type": "display_data"
    },
    {
     "data": {
      "text/plain": [
       "Index(['1717-Skin_colour', '1727-Ease_of_skin_tanning',\n",
       "       '1737-Childhood_sunburn_occasions',\n",
       "       '1747_1-Hair_colour_natural_before_greying_Blonde',\n",
       "       '1747_2-Hair_colour_natural_before_greying_Red',\n",
       "       '1747_3-Hair_colour_natural_before_greying_Light_brown',\n",
       "       '1747_4-Hair_colour_natural_before_greying_Dark_brown',\n",
       "       '1747_5-Hair_colour_natural_before_greying_Black'],\n",
       "      dtype='object')"
      ]
     },
     "metadata": {},
     "output_type": "display_data"
    },
    {
     "data": {
      "text/html": [
       "<h3>Cluster 26.15</h3>"
      ],
      "text/plain": [
       "<IPython.core.display.HTML object>"
      ]
     },
     "metadata": {},
     "output_type": "display_data"
    },
    {
     "data": {
      "text/plain": [
       "5"
      ]
     },
     "metadata": {},
     "output_type": "display_data"
    },
    {
     "data": {
      "text/plain": [
       "Index(['4079_raw-Diastolic_blood_pressure_automated_reading',\n",
       "       '4080_raw-Systolic_blood_pressure_automated_reading',\n",
       "       '6150_100-Vascularheart_problems_diagnosed_by_doctor_None_of_the_above',\n",
       "       '6150_4-Vascularheart_problems_diagnosed_by_doctor_High_blood_pressure',\n",
       "       'hypertension'],\n",
       "      dtype='object')"
      ]
     },
     "metadata": {},
     "output_type": "display_data"
    },
    {
     "data": {
      "text/html": [
       "<h3>Cluster 26.16</h3>"
      ],
      "text/plain": [
       "<IPython.core.display.HTML object>"
      ]
     },
     "metadata": {},
     "output_type": "display_data"
    },
    {
     "data": {
      "text/plain": [
       "12"
      ]
     },
     "metadata": {},
     "output_type": "display_data"
    },
    {
     "data": {
      "text/plain": [
       "Index(['20003_1140883066-Treatmentmedication_code_insulin_product',\n",
       "       '20003_1141191044-Treatmentmedication_code_levothyroxine_sodium',\n",
       "       '2986-Started_insulin_within_one_year_diagnosis_of_diabetes',\n",
       "       '6144_3-Never_eat_eggs_dairy_wheat_sugar_Wheat_products',\n",
       "       'K11_COELIAC-Coeliac_disease', 'celiac disease',\n",
       "       'hyperthyroidism AND thyrotoxicosis', 'hypothyroidism AND myxedema',\n",
       "       'malabsorption syndrome', 'psoriasis', 'rheumatoid arthritis',\n",
       "       'systemic lupus erythematosus'],\n",
       "      dtype='object')"
      ]
     },
     "metadata": {},
     "output_type": "display_data"
    },
    {
     "data": {
      "text/html": [
       "<h3>Cluster 26.17</h3>"
      ],
      "text/plain": [
       "<IPython.core.display.HTML object>"
      ]
     },
     "metadata": {},
     "output_type": "display_data"
    },
    {
     "data": {
      "text/plain": [
       "1"
      ]
     },
     "metadata": {},
     "output_type": "display_data"
    },
    {
     "data": {
      "text/plain": [
       "Index(['20153_raw-Forced_expiratory_volume_in_1second_FEV1_predicted'], dtype='object')"
      ]
     },
     "metadata": {},
     "output_type": "display_data"
    },
    {
     "data": {
      "text/html": [
       "<h3>Cluster 26.18</h3>"
      ],
      "text/plain": [
       "<IPython.core.display.HTML object>"
      ]
     },
     "metadata": {},
     "output_type": "display_data"
    },
    {
     "data": {
      "text/plain": [
       "19"
      ]
     },
     "metadata": {},
     "output_type": "display_data"
    },
    {
     "data": {
      "text/plain": [
       "Index(['1050-Time_spend_outdoors_in_summer',\n",
       "       '1070-Time_spent_watching_television_TV', '1448_1-Bread_type_White',\n",
       "       '1448_3-Bread_type_Wholemeal_or_wholegrain',\n",
       "       '20016_raw-Fluid_intelligence_score',\n",
       "       '2139_raw-Age_first_had_sexual_intercourse',\n",
       "       '22501_raw-Year_ended_full_time_education',\n",
       "       '2754_raw-Age_at_first_live_birth',\n",
       "       '6138_1-Qualifications_College_or_University_degree',\n",
       "       '6138_100-Qualifications_None_of_the_above',\n",
       "       '6138_2-Qualifications_A_levelsAS_levels_or_equivalent',\n",
       "       '6138_3-Qualifications_O_levelsGCSEs_or_equivalent',\n",
       "       '738-Average_total_household_income_before_tax',\n",
       "       '806-Job_involves_mainly_walking_or_standing',\n",
       "       '816-Job_involves_heavy_manual_or_physical_work',\n",
       "       'SSGAC_Education_Years_Pooled', 'schizophrenia', 'self rated health',\n",
       "       'self reported educational attainment'],\n",
       "      dtype='object')"
      ]
     },
     "metadata": {},
     "output_type": "display_data"
    },
    {
     "data": {
      "text/html": [
       "<h3>Cluster 26.19</h3>"
      ],
      "text/plain": [
       "<IPython.core.display.HTML object>"
      ]
     },
     "metadata": {},
     "output_type": "display_data"
    },
    {
     "data": {
      "text/plain": [
       "201"
      ]
     },
     "metadata": {},
     "output_type": "display_data"
    },
    {
     "data": {
      "text/plain": [
       "Index(['1021-Duration_of_light_DIY', '1031-Frequency_of_friendfamily_visits',\n",
       "       '1060-Time_spent_outdoors_in_winter', '1090-Time_spent_driving',\n",
       "       '1100-Drive_faster_than_motorway_speed_limit',\n",
       "       '110001-Invitation_to_complete_online_24hour_recall_dietary_questionnaire_acceptance',\n",
       "       '1110-Length_of_mobile_phone_use',\n",
       "       '1120-Weekly_usage_of_mobile_phone_in_last_3_months',\n",
       "       '1289-Cooked_vegetable_intake', '1299-Salad_raw_vegetable_intake',\n",
       "       ...\n",
       "       'osteoarthritis', 'osteoarthritis, hip', 'osteoarthritis, knee',\n",
       "       'osteoporosis', 'parkinson's disease',\n",
       "       'seeing a general practitioner for nerves, anxiety, tension or depression, self-reported',\n",
       "       'smoking behavior', 'varicose veins', 'venous thromboembolism',\n",
       "       'worry measurement'],\n",
       "      dtype='object', length=201)"
      ]
     },
     "metadata": {},
     "output_type": "display_data"
    },
    {
     "data": {
      "text/html": [
       "<h3>Cluster 26.20</h3>"
      ],
      "text/plain": [
       "<IPython.core.display.HTML object>"
      ]
     },
     "metadata": {},
     "output_type": "display_data"
    },
    {
     "data": {
      "text/plain": [
       "25"
      ]
     },
     "metadata": {},
     "output_type": "display_data"
    },
    {
     "data": {
      "text/plain": [
       "Index(['20003_1140861958-Treatmentmedication_code_simvastatin',\n",
       "       '20003_1140868226-Treatmentmedication_code_aspirin',\n",
       "       '20003_1141194794-Treatmentmedication_code_bendroflumethiazide',\n",
       "       '6150_1-Vascularheart_problems_diagnosed_by_doctor_Heart_attack',\n",
       "       '6150_2-Vascularheart_problems_diagnosed_by_doctor_Angina',\n",
       "       '6153_1-Medication_for_cholesterol_blood_pressure_diabetes_or_take_exogenous_hormones_Cholesterol_lowering_medication',\n",
       "       '6153_100-Medication_for_cholesterol_blood_pressure_diabetes_or_take_exogenous_hormones_None_of_the_above',\n",
       "       '6154_1-Medication_for_pain_relief_constipation_heartburn_Aspirin',\n",
       "       '6177_1-Medication_for_cholesterol_blood_pressure_or_diabetes_Cholesterol_lowering_medication',\n",
       "       '6177_100-Medication_for_cholesterol_blood_pressure_or_diabetes_None_of_the_above',\n",
       "       '6177_2-Medication_for_cholesterol_blood_pressure_or_diabetes_Blood_pressure_medication',\n",
       "       'I9_CHD-Major_coronary_heart_disease_event',\n",
       "       'I9_CHD_NOREV-Major_coronary_heart_disease_event_excluding_revascularizations',\n",
       "       'I9_CORATHER-Coronary_atherosclerosis',\n",
       "       'I9_IHD-Ischaemic_heart_disease_wide_definition',\n",
       "       'I9_MI-Myocardial_infarction',\n",
       "       'I9_MI_STRICT-Myocardial_infarction_strict',\n",
       "       'IX_CIRCULATORY-Diseases_of_the_circulatory_system',\n",
       "       'acute myocardial infarction', 'angina pectoris',\n",
       "       'coronary artery disease', 'hypercholesterolemia',\n",
       "       'myocardial infarction',\n",
       "       'number of non-cancer illnesses, self-reported',\n",
       "       'number of treatments or medications taken, self-reported'],\n",
       "      dtype='object')"
      ]
     },
     "metadata": {},
     "output_type": "display_data"
    },
    {
     "data": {
      "text/html": [
       "<h3>Cluster 26.21</h3>"
      ],
      "text/plain": [
       "<IPython.core.display.HTML object>"
      ]
     },
     "metadata": {},
     "output_type": "display_data"
    },
    {
     "data": {
      "text/plain": [
       "53"
      ]
     },
     "metadata": {},
     "output_type": "display_data"
    },
    {
     "data": {
      "text/plain": [
       "Index(['102_raw-Pulse_rate_automated_reading',\n",
       "       '1080-Time_spent_using_computer', '1319-Dried_fruit_intake',\n",
       "       '1478-Salt_added_to_food', '1488_raw-Tea_intake',\n",
       "       '1518-Hot_drink_temperature', '1528-Water_intake', '1757-Facial_ageing',\n",
       "       '20022_raw-Birth_weight',\n",
       "       '20023_raw-Mean_time_to_correctly_identify_matches',\n",
       "       '20116_0-Smoking_status_Never', '20127_raw-Neuroticism_score',\n",
       "       '20154_raw-Forced_expiratory_volume_in_1second_FEV1_predicted_percentage',\n",
       "       '20160-Ever_smoked',\n",
       "       '2217_raw-Age_started_wearing_glasses_or_contact_lenses',\n",
       "       '2237-Plays_computer_games', '2395_1-Hairbalding_pattern_Pattern_1',\n",
       "       '30060_raw-Mean_corpuscular_haemoglobin_concentration',\n",
       "       '30120_raw-Lymphocyte_count', '30530_raw-Sodium_in_urine',\n",
       "       '3064_raw-Peak_expiratory_flow_PEF',\n",
       "       '399_raw-Number_of_incorrect_matches_in_round',\n",
       "       '400_raw-Time_to_complete_round',\n",
       "       '404_raw-Duration_to_first_press_of_snapbutton_in_each_round',\n",
       "       '4100_raw-Ankle_spacing_width_left',\n",
       "       '4119_raw-Ankle_spacing_width_right', '4194_raw-Pulse_rate',\n",
       "       '46_raw-Hand_grip_strength_left', '47_raw-Hand_grip_strength_right',\n",
       "       '5084_raw-Spherical_power_right', '5085_raw-Spherical_power_left',\n",
       "       '6152_100-Blood_clot_DVT_bronchitis_emphysema_asthma_rhinitis_eczema_allergy_diagnosed_by_doctor_None_of_the_above',\n",
       "       '6152_8-Blood_clot_DVT_bronchitis_emphysema_asthma_rhinitis_eczema_allergy_diagnosed_by_doctor_Asthma',\n",
       "       '6152_9-Blood_clot_DVT_bronchitis_emphysema_asthma_rhinitis_eczema_allergy_diagnosed_by_doctor_Hayfever_allergic_rhinitis_or_eczema',\n",
       "       '924-Usual_walking_pace', 'age at first facial hair', 'age at menarche',\n",
       "       'anxiety', 'asthma', 'chronotype measurement',\n",
       "       'comparative body size at age 10, self-reported',\n",
       "       'ease of getting up in the morning, self-reported',\n",
       "       'excessive daytime sleepiness measurement AND narcolepsy without cataplexy',\n",
       "       'hearing loss', 'inflammatory bowel disease', 'insomnia', 'mood swings',\n",
       "       'nap during day, self-reported', 'sleep duration', 'smoking cessation',\n",
       "       'snoring measurement', 'tiredness measurement', 'wheezing'],\n",
       "      dtype='object')"
      ]
     },
     "metadata": {},
     "output_type": "display_data"
    },
    {
     "data": {
      "text/html": [
       "<h3>Cluster 26.22</h3>"
      ],
      "text/plain": [
       "<IPython.core.display.HTML object>"
      ]
     },
     "metadata": {},
     "output_type": "display_data"
    },
    {
     "data": {
      "text/plain": [
       "136"
      ]
     },
     "metadata": {},
     "output_type": "display_data"
    },
    {
     "data": {
      "text/plain": [
       "Index(['129_raw-Place_of_birth_in_UK_north_coordinate',\n",
       "       '130_raw-Place_of_birth_in_UK_east_coordinate',\n",
       "       '20074_raw-Home_location_at_assessment_east_coordinate_rounded',\n",
       "       '20075_raw-Home_location_at_assessment_north_coordinate_rounded',\n",
       "       '20118_11-Home_area_population_density_urban_or_rural_Scotland_Large_Urban_Area',\n",
       "       '22704_raw-Home_location_north_coordinate_rounded',\n",
       "       '30220_raw-Basophill_percentage', 'abdominal injury',\n",
       "       'abnormal delivery', 'alcohol dependence',\n",
       "       ...\n",
       "       'tongue neoplasm', 'transient ischemic attack', 'tuberculosis',\n",
       "       'type ii diabetes mellitus', 'ulcerative colitis',\n",
       "       'urogenital neoplasm', 'urticaria', 'vascular disease', 'vasculitis',\n",
       "       'wrist fracture'],\n",
       "      dtype='object', length=136)"
      ]
     },
     "metadata": {},
     "output_type": "display_data"
    },
    {
     "data": {
      "text/html": [
       "<h3>Cluster 26.23</h3>"
      ],
      "text/plain": [
       "<IPython.core.display.HTML object>"
      ]
     },
     "metadata": {},
     "output_type": "display_data"
    },
    {
     "data": {
      "text/plain": [
       "2"
      ]
     },
     "metadata": {},
     "output_type": "display_data"
    },
    {
     "data": {
      "text/plain": [
       "Index(['30150-Eosinophill_count', '30210_raw-Eosinophill_percentage'], dtype='object')"
      ]
     },
     "metadata": {},
     "output_type": "display_data"
    },
    {
     "data": {
      "text/html": [
       "<h3>Cluster 26.24</h3>"
      ],
      "text/plain": [
       "<IPython.core.display.HTML object>"
      ]
     },
     "metadata": {},
     "output_type": "display_data"
    },
    {
     "data": {
      "text/plain": [
       "36"
      ]
     },
     "metadata": {},
     "output_type": "display_data"
    },
    {
     "data": {
      "text/plain": [
       "Index(['20421-Ever_felt_worried_tense_or_anxious_for_most_of_a_month_or_longer',\n",
       "       '20425-Ever_worried_more_than_most_people_would_in_similar_situation',\n",
       "       '20441-Ever_had_prolonged_loss_of_interest_in_normal_activities',\n",
       "       '20446-Ever_had_prolonged_feelings_of_sadness_or_depression',\n",
       "       '20458-General_happiness', '20459-General_happiness_with_own_health',\n",
       "       '20460-Belief_that_own_life_is_meaningful',\n",
       "       '20479-Ever_thought_that_life_not_worth_living',\n",
       "       '20485-Ever_contemplated_selfharm',\n",
       "       '20494-Felt_irritable_or_had_angry_outbursts_in_past_month',\n",
       "       '20495-Avoided_activities_or_situations_because_of_previous_stressful_experience_in_past_month',\n",
       "       '20496-Felt_distant_from_other_people_in_past_month',\n",
       "       '20497-Repeated_disturbing_thoughts_of_stressful_experience_in_past_month',\n",
       "       '20498-Felt_very_upset_when_reminded_of_stressful_experience_in_past_month',\n",
       "       '20499-Ever_sought_or_received_professional_help_for_mental_distress',\n",
       "       '20500-Ever_suffered_mental_distress_preventing_usual_activities',\n",
       "       '20505-Recent_easy_annoyance_or_irritability',\n",
       "       '20506-Recent_feelings_or_nervousness_or_anxiety',\n",
       "       '20507-Recent_feelings_of_inadequacy',\n",
       "       '20508-Recent_trouble_concentrating_on_things',\n",
       "       '20509-Recent_inability_to_stop_or_control_worrying',\n",
       "       '20510-Recent_feelings_of_depression',\n",
       "       '20511-Recent_poor_appetite_or_overeating',\n",
       "       '20512-Recent_feelings_of_foreboding',\n",
       "       '20513-Recent_thoughts_of_suicide_or_selfharm',\n",
       "       '20514-Recent_lack_of_interest_or_pleasure_in_doing_things',\n",
       "       '20515-Recent_trouble_relaxing', '20516-Recent_restlessness',\n",
       "       '20517-Trouble_falling_or_staying_asleep_or_sleeping_too_much',\n",
       "       '20519-Recent_feelings_of_tiredness_or_low_energy',\n",
       "       '20520-Recent_worrying_too_much_about_different_things',\n",
       "       '20544_11-Mental_health_problems_ever_diagnosed_by_a_professional_Depression',\n",
       "       '20546_3-Substances_taken_for_depression_Medication_prescribed_to_you_for_at_least_two_weeks',\n",
       "       '20547_1-Activities_undertaken_to_treat_depression_Talking_therapies_such_as_psychotherapy_counselling_group_therapy_or_CBT',\n",
       "       '20549_3-Substances_taken_for_anxiety_Medication_prescribed_to_you_for_at_least_two_weeks',\n",
       "       'seeing a psychiatrist for nerves, anxiety, tension or depression, self-reported'],\n",
       "      dtype='object')"
      ]
     },
     "metadata": {},
     "output_type": "display_data"
    },
    {
     "data": {
      "text/html": [
       "<h3>Cluster 26.25</h3>"
      ],
      "text/plain": [
       "<IPython.core.display.HTML object>"
      ]
     },
     "metadata": {},
     "output_type": "display_data"
    },
    {
     "data": {
      "text/plain": [
       "3"
      ]
     },
     "metadata": {},
     "output_type": "display_data"
    },
    {
     "data": {
      "text/plain": [
       "Index(['30180_raw-Lymphocyte_percentage', '30200_raw-Neutrophill_percentage',\n",
       "       'lymphocyte count'],\n",
       "      dtype='object')"
      ]
     },
     "metadata": {},
     "output_type": "display_data"
    },
    {
     "data": {
      "text/html": [
       "<h2>Partition with k=28</h2>"
      ],
      "text/plain": [
       "<IPython.core.display.HTML object>"
      ]
     },
     "metadata": {},
     "output_type": "display_data"
    },
    {
     "data": {
      "text/plain": [
       "method                                                 scc_025\n",
       "partition    [26, 26, 26, 26, 26, 26, 26, 26, 26, 0, 26, 26...\n",
       "ami_mean                                              0.290392\n",
       "selected                                                  True\n",
       "Name: 28, dtype: object"
      ]
     },
     "metadata": {},
     "output_type": "display_data"
    },
    {
     "data": {
      "text/plain": [
       "(3749,)"
      ]
     },
     "metadata": {},
     "output_type": "display_data"
    },
    {
     "data": {
      "text/plain": [
       "0     3158\n",
       "23     190\n",
       "24     136\n",
       "22      44\n",
       "27      36\n",
       "17      25\n",
       "21      19\n",
       "26      19\n",
       "10      16\n",
       "3       13\n",
       "4       12\n",
       "20      12\n",
       "16       8\n",
       "6        8\n",
       "12       6\n",
       "13       6\n",
       "1        5\n",
       "15       5\n",
       "7        5\n",
       "5        4\n",
       "14       4\n",
       "8        4\n",
       "11       3\n",
       "9        3\n",
       "2        3\n",
       "25       2\n",
       "18       2\n",
       "19       1\n",
       "dtype: int64"
      ]
     },
     "metadata": {},
     "output_type": "display_data"
    },
    {
     "data": {
      "text/html": [
       "<h3>Cluster 28.0</h3>"
      ],
      "text/plain": [
       "<IPython.core.display.HTML object>"
      ]
     },
     "metadata": {},
     "output_type": "display_data"
    },
    {
     "data": {
      "text/plain": [
       "3158"
      ]
     },
     "metadata": {},
     "output_type": "display_data"
    },
    {
     "data": {
      "text/plain": [
       "Index(['100010-Portion_size', '100013_raw-Vitamin_B12', '100018_raw-Retinol',\n",
       "       '100021_raw-Vitamin_D', '100022-Alcohol',\n",
       "       '1001-Duration_of_strenuous_sports', '100150-Drinking_water_intake',\n",
       "       '100160-Low_calorie_drink_intake', '100170-Fizzy_drink_intake',\n",
       "       '100190-Orange_juice_intake',\n",
       "       ...\n",
       "       'viral disease', 'viral human hepatitis infection', 'viral meningitis',\n",
       "       'visual impairment', 'vitiligo', 'vitreous body disease',\n",
       "       'vocal cord polyp', 'voice disorders',\n",
       "       'wellbeing measurement AND family relationship', 'whooping cough'],\n",
       "      dtype='object', length=3158)"
      ]
     },
     "metadata": {},
     "output_type": "display_data"
    },
    {
     "data": {
      "text/html": [
       "<h3>Cluster 28.1</h3>"
      ],
      "text/plain": [
       "<IPython.core.display.HTML object>"
      ]
     },
     "metadata": {},
     "output_type": "display_data"
    },
    {
     "data": {
      "text/plain": [
       "5"
      ]
     },
     "metadata": {},
     "output_type": "display_data"
    },
    {
     "data": {
      "text/plain": [
       "Index(['23106_raw-Impedance_of_whole_body', '23107_raw-Impedance_of_leg_right',\n",
       "       '23108_raw-Impedance_of_leg_left', '23109_raw-Impedance_of_arm_right',\n",
       "       '23110_raw-Impedance_of_arm_left'],\n",
       "      dtype='object')"
      ]
     },
     "metadata": {},
     "output_type": "display_data"
    },
    {
     "data": {
      "text/html": [
       "<h3>Cluster 28.2</h3>"
      ],
      "text/plain": [
       "<IPython.core.display.HTML object>"
      ]
     },
     "metadata": {},
     "output_type": "display_data"
    },
    {
     "data": {
      "text/plain": [
       "3"
      ]
     },
     "metadata": {},
     "output_type": "display_data"
    },
    {
     "data": {
      "text/plain": [
       "Index(['20015_raw-Sitting_height', '50_raw-Standing_height', 'body height'], dtype='object')"
      ]
     },
     "metadata": {},
     "output_type": "display_data"
    },
    {
     "data": {
      "text/html": [
       "<h3>Cluster 28.3</h3>"
      ],
      "text/plain": [
       "<IPython.core.display.HTML object>"
      ]
     },
     "metadata": {},
     "output_type": "display_data"
    },
    {
     "data": {
      "text/plain": [
       "13"
      ]
     },
     "metadata": {},
     "output_type": "display_data"
    },
    {
     "data": {
      "text/plain": [
       "Index(['23101_raw-Whole_body_fatfree_mass', '23102_raw-Whole_body_water_mass',\n",
       "       '23105_raw-Basal_metabolic_rate', '23113_raw-Leg_fatfree_mass_right',\n",
       "       '23114_raw-Leg_predicted_mass_right', '23117_raw-Leg_fatfree_mass_left',\n",
       "       '23118_raw-Leg_predicted_mass_left', '23121_raw-Arm_fatfree_mass_right',\n",
       "       '23122_raw-Arm_predicted_mass_right', '23125_raw-Arm_fatfree_mass_left',\n",
       "       '23126_raw-Arm_predicted_mass_left', '23129_raw-Trunk_fatfree_mass',\n",
       "       '23130_raw-Trunk_predicted_mass'],\n",
       "      dtype='object')"
      ]
     },
     "metadata": {},
     "output_type": "display_data"
    },
    {
     "data": {
      "text/html": [
       "<h3>Cluster 28.4</h3>"
      ],
      "text/plain": [
       "<IPython.core.display.HTML object>"
      ]
     },
     "metadata": {},
     "output_type": "display_data"
    },
    {
     "data": {
      "text/plain": [
       "12"
      ]
     },
     "metadata": {},
     "output_type": "display_data"
    },
    {
     "data": {
      "text/plain": [
       "Index(['3144_raw-Heel_Broadband_ultrasound_attenuation_direct_entry',\n",
       "       '3147_raw-Heel_quantitative_ultrasound_index_QUI_direct_entry',\n",
       "       '3148_raw-Heel_bone_mineral_density_BMD',\n",
       "       '4101_raw-Heel_broadband_ultrasound_attenuation_left',\n",
       "       '4104_raw-Heel_quantitative_ultrasound_index_QUI_direct_entry_left',\n",
       "       '4105_raw-Heel_bone_mineral_density_BMD_left',\n",
       "       '4106_raw-Heel_bone_mineral_density_BMD_Tscore_automated_left',\n",
       "       '4120_raw-Heel_broadband_ultrasound_attenuation_right',\n",
       "       '4123_raw-Heel_quantitative_ultrasound_index_QUI_direct_entry_right',\n",
       "       '4124_raw-Heel_bone_mineral_density_BMD_right',\n",
       "       '4125_raw-Heel_bone_mineral_density_BMD_Tscore_automated_right',\n",
       "       '78_raw-Heel_bone_mineral_density_BMD_Tscore_automated'],\n",
       "      dtype='object')"
      ]
     },
     "metadata": {},
     "output_type": "display_data"
    },
    {
     "data": {
      "text/html": [
       "<h3>Cluster 28.5</h3>"
      ],
      "text/plain": [
       "<IPython.core.display.HTML object>"
      ]
     },
     "metadata": {},
     "output_type": "display_data"
    },
    {
     "data": {
      "text/plain": [
       "4"
      ]
     },
     "metadata": {},
     "output_type": "display_data"
    },
    {
     "data": {
      "text/plain": [
       "Index(['30040_raw-Mean_corpuscular_volume',\n",
       "       '30050_raw-Mean_corpuscular_haemoglobin',\n",
       "       '30260_raw-Mean_reticulocyte_volume',\n",
       "       '30270_raw-Mean_sphered_cell_volume'],\n",
       "      dtype='object')"
      ]
     },
     "metadata": {},
     "output_type": "display_data"
    },
    {
     "data": {
      "text/html": [
       "<h3>Cluster 28.6</h3>"
      ],
      "text/plain": [
       "<IPython.core.display.HTML object>"
      ]
     },
     "metadata": {},
     "output_type": "display_data"
    },
    {
     "data": {
      "text/plain": [
       "8"
      ]
     },
     "metadata": {},
     "output_type": "display_data"
    },
    {
     "data": {
      "text/plain": [
       "Index(['5096_raw-3mm_weak_meridian_left', '5097_raw-6mm_weak_meridian_left',\n",
       "       '5098_raw-6mm_weak_meridian_right', '5099_raw-3mm_weak_meridian_right',\n",
       "       '5132_raw-3mm_strong_meridian_right',\n",
       "       '5133_raw-6mm_strong_meridian_right',\n",
       "       '5134_raw-6mm_strong_meridian_left',\n",
       "       '5135_raw-3mm_strong_meridian_left'],\n",
       "      dtype='object')"
      ]
     },
     "metadata": {},
     "output_type": "display_data"
    },
    {
     "data": {
      "text/html": [
       "<h3>Cluster 28.7</h3>"
      ],
      "text/plain": [
       "<IPython.core.display.HTML object>"
      ]
     },
     "metadata": {},
     "output_type": "display_data"
    },
    {
     "data": {
      "text/plain": [
       "5"
      ]
     },
     "metadata": {},
     "output_type": "display_data"
    },
    {
     "data": {
      "text/plain": [
       "Index(['30080_raw-Platelet_count', '30090_raw-Platelet_crit',\n",
       "       '30100_raw-Mean_platelet_thrombocyte_volume',\n",
       "       '30110_raw-Platelet_distribution_width', 'platelet count'],\n",
       "      dtype='object')"
      ]
     },
     "metadata": {},
     "output_type": "display_data"
    },
    {
     "data": {
      "text/html": [
       "<h3>Cluster 28.8</h3>"
      ],
      "text/plain": [
       "<IPython.core.display.HTML object>"
      ]
     },
     "metadata": {},
     "output_type": "display_data"
    },
    {
     "data": {
      "text/plain": [
       "4"
      ]
     },
     "metadata": {},
     "output_type": "display_data"
    },
    {
     "data": {
      "text/plain": [
       "Index(['30010_raw-Red_blood_cell_erythrocyte_count',\n",
       "       '30020_raw-Haemoglobin_concentration',\n",
       "       '30030_raw-Haematocrit_percentage', 'erythrocyte count'],\n",
       "      dtype='object')"
      ]
     },
     "metadata": {},
     "output_type": "display_data"
    },
    {
     "data": {
      "text/html": [
       "<h3>Cluster 28.9</h3>"
      ],
      "text/plain": [
       "<IPython.core.display.HTML object>"
      ]
     },
     "metadata": {},
     "output_type": "display_data"
    },
    {
     "data": {
      "text/plain": [
       "3"
      ]
     },
     "metadata": {},
     "output_type": "display_data"
    },
    {
     "data": {
      "text/plain": [
       "Index(['30130_raw-Monocyte_count', '30190_raw-Monocyte_percentage',\n",
       "       'monocyte count'],\n",
       "      dtype='object')"
      ]
     },
     "metadata": {},
     "output_type": "display_data"
    },
    {
     "data": {
      "text/html": [
       "<h3>Cluster 28.10</h3>"
      ],
      "text/plain": [
       "<IPython.core.display.HTML object>"
      ]
     },
     "metadata": {},
     "output_type": "display_data"
    },
    {
     "data": {
      "text/plain": [
       "16"
      ]
     },
     "metadata": {},
     "output_type": "display_data"
    },
    {
     "data": {
      "text/plain": [
       "Index(['21001_raw-Body_mass_index_BMI', '23099_raw-Body_fat_percentage',\n",
       "       '23100_raw-Whole_body_fat_mass', '23104_raw-Body_mass_index_BMI',\n",
       "       '23111_raw-Leg_fat_percentage_right', '23112_raw-Leg_fat_mass_right',\n",
       "       '23115_raw-Leg_fat_percentage_left', '23116_raw-Leg_fat_mass_left',\n",
       "       '23119_raw-Arm_fat_percentage_right', '23120_raw-Arm_fat_mass_right',\n",
       "       '23123_raw-Arm_fat_percentage_left', '23124_raw-Arm_fat_mass_left',\n",
       "       '23127_raw-Trunk_fat_percentage', '23128_raw-Trunk_fat_mass',\n",
       "       '48_raw-Waist_circumference', '49_raw-Hip_circumference'],\n",
       "      dtype='object')"
      ]
     },
     "metadata": {},
     "output_type": "display_data"
    },
    {
     "data": {
      "text/html": [
       "<h3>Cluster 28.11</h3>"
      ],
      "text/plain": [
       "<IPython.core.display.HTML object>"
      ]
     },
     "metadata": {},
     "output_type": "display_data"
    },
    {
     "data": {
      "text/plain": [
       "3"
      ]
     },
     "metadata": {},
     "output_type": "display_data"
    },
    {
     "data": {
      "text/plain": [
       "Index(['30150-Eosinophill_count', '30210_raw-Eosinophill_percentage',\n",
       "       'eosinophil count'],\n",
       "      dtype='object')"
      ]
     },
     "metadata": {},
     "output_type": "display_data"
    },
    {
     "data": {
      "text/html": [
       "<h3>Cluster 28.12</h3>"
      ],
      "text/plain": [
       "<IPython.core.display.HTML object>"
      ]
     },
     "metadata": {},
     "output_type": "display_data"
    },
    {
     "data": {
      "text/plain": [
       "6"
      ]
     },
     "metadata": {},
     "output_type": "display_data"
    },
    {
     "data": {
      "text/plain": [
       "Index(['30240_raw-Reticulocyte_percentage', '30250_raw-Reticulocyte_count',\n",
       "       '30280_raw-Immature_reticulocyte_fraction',\n",
       "       '30290_raw-High_light_scatter_reticulocyte_percentage',\n",
       "       '30300_raw-High_light_scatter_reticulocyte_count',\n",
       "       'reticulocyte count'],\n",
       "      dtype='object')"
      ]
     },
     "metadata": {},
     "output_type": "display_data"
    },
    {
     "data": {
      "text/html": [
       "<h3>Cluster 28.13</h3>"
      ],
      "text/plain": [
       "<IPython.core.display.HTML object>"
      ]
     },
     "metadata": {},
     "output_type": "display_data"
    },
    {
     "data": {
      "text/plain": [
       "6"
      ]
     },
     "metadata": {},
     "output_type": "display_data"
    },
    {
     "data": {
      "text/plain": [
       "Index(['30000_raw-White_blood_cell_leukocyte_count',\n",
       "       '30140_raw-Neutrophill_count', 'granulocyte count', 'leukocyte count',\n",
       "       'myeloid white cell count', 'neutrophil count'],\n",
       "      dtype='object')"
      ]
     },
     "metadata": {},
     "output_type": "display_data"
    },
    {
     "data": {
      "text/html": [
       "<h3>Cluster 28.14</h3>"
      ],
      "text/plain": [
       "<IPython.core.display.HTML object>"
      ]
     },
     "metadata": {},
     "output_type": "display_data"
    },
    {
     "data": {
      "text/plain": [
       "4"
      ]
     },
     "metadata": {},
     "output_type": "display_data"
    },
    {
     "data": {
      "text/plain": [
       "Index(['20150_raw-Forced_expiratory_volume_in_1second_FEV1_Best_measure',\n",
       "       '20151_raw-Forced_vital_capacity_FVC_Best_measure',\n",
       "       '3062_raw-Forced_vital_capacity_FVC',\n",
       "       '3063_raw-Forced_expiratory_volume_in_1second_FEV1'],\n",
       "      dtype='object')"
      ]
     },
     "metadata": {},
     "output_type": "display_data"
    },
    {
     "data": {
      "text/html": [
       "<h3>Cluster 28.15</h3>"
      ],
      "text/plain": [
       "<IPython.core.display.HTML object>"
      ]
     },
     "metadata": {},
     "output_type": "display_data"
    },
    {
     "data": {
      "text/plain": [
       "5"
      ]
     },
     "metadata": {},
     "output_type": "display_data"
    },
    {
     "data": {
      "text/plain": [
       "Index(['4079_raw-Diastolic_blood_pressure_automated_reading',\n",
       "       '4080_raw-Systolic_blood_pressure_automated_reading',\n",
       "       '6150_100-Vascularheart_problems_diagnosed_by_doctor_None_of_the_above',\n",
       "       '6150_4-Vascularheart_problems_diagnosed_by_doctor_High_blood_pressure',\n",
       "       'hypertension'],\n",
       "      dtype='object')"
      ]
     },
     "metadata": {},
     "output_type": "display_data"
    },
    {
     "data": {
      "text/html": [
       "<h3>Cluster 28.16</h3>"
      ],
      "text/plain": [
       "<IPython.core.display.HTML object>"
      ]
     },
     "metadata": {},
     "output_type": "display_data"
    },
    {
     "data": {
      "text/plain": [
       "8"
      ]
     },
     "metadata": {},
     "output_type": "display_data"
    },
    {
     "data": {
      "text/plain": [
       "Index(['1717-Skin_colour', '1727-Ease_of_skin_tanning',\n",
       "       '1737-Childhood_sunburn_occasions',\n",
       "       '1747_1-Hair_colour_natural_before_greying_Blonde',\n",
       "       '1747_2-Hair_colour_natural_before_greying_Red',\n",
       "       '1747_3-Hair_colour_natural_before_greying_Light_brown',\n",
       "       '1747_4-Hair_colour_natural_before_greying_Dark_brown',\n",
       "       '1747_5-Hair_colour_natural_before_greying_Black'],\n",
       "      dtype='object')"
      ]
     },
     "metadata": {},
     "output_type": "display_data"
    },
    {
     "data": {
      "text/html": [
       "<h3>Cluster 28.17</h3>"
      ],
      "text/plain": [
       "<IPython.core.display.HTML object>"
      ]
     },
     "metadata": {},
     "output_type": "display_data"
    },
    {
     "data": {
      "text/plain": [
       "25"
      ]
     },
     "metadata": {},
     "output_type": "display_data"
    },
    {
     "data": {
      "text/plain": [
       "Index(['20003_1140861958-Treatmentmedication_code_simvastatin',\n",
       "       '20003_1140868226-Treatmentmedication_code_aspirin',\n",
       "       '20003_1141194794-Treatmentmedication_code_bendroflumethiazide',\n",
       "       '6150_1-Vascularheart_problems_diagnosed_by_doctor_Heart_attack',\n",
       "       '6150_2-Vascularheart_problems_diagnosed_by_doctor_Angina',\n",
       "       '6153_1-Medication_for_cholesterol_blood_pressure_diabetes_or_take_exogenous_hormones_Cholesterol_lowering_medication',\n",
       "       '6153_100-Medication_for_cholesterol_blood_pressure_diabetes_or_take_exogenous_hormones_None_of_the_above',\n",
       "       '6154_1-Medication_for_pain_relief_constipation_heartburn_Aspirin',\n",
       "       '6177_1-Medication_for_cholesterol_blood_pressure_or_diabetes_Cholesterol_lowering_medication',\n",
       "       '6177_100-Medication_for_cholesterol_blood_pressure_or_diabetes_None_of_the_above',\n",
       "       '6177_2-Medication_for_cholesterol_blood_pressure_or_diabetes_Blood_pressure_medication',\n",
       "       'I9_CHD-Major_coronary_heart_disease_event',\n",
       "       'I9_CHD_NOREV-Major_coronary_heart_disease_event_excluding_revascularizations',\n",
       "       'I9_CORATHER-Coronary_atherosclerosis',\n",
       "       'I9_IHD-Ischaemic_heart_disease_wide_definition',\n",
       "       'I9_MI-Myocardial_infarction',\n",
       "       'I9_MI_STRICT-Myocardial_infarction_strict',\n",
       "       'IX_CIRCULATORY-Diseases_of_the_circulatory_system',\n",
       "       'acute myocardial infarction', 'angina pectoris',\n",
       "       'coronary artery disease', 'hypercholesterolemia',\n",
       "       'myocardial infarction',\n",
       "       'number of non-cancer illnesses, self-reported',\n",
       "       'number of treatments or medications taken, self-reported'],\n",
       "      dtype='object')"
      ]
     },
     "metadata": {},
     "output_type": "display_data"
    },
    {
     "data": {
      "text/html": [
       "<h3>Cluster 28.18</h3>"
      ],
      "text/plain": [
       "<IPython.core.display.HTML object>"
      ]
     },
     "metadata": {},
     "output_type": "display_data"
    },
    {
     "data": {
      "text/plain": [
       "2"
      ]
     },
     "metadata": {},
     "output_type": "display_data"
    },
    {
     "data": {
      "text/plain": [
       "Index(['30180_raw-Lymphocyte_percentage', '30200_raw-Neutrophill_percentage'], dtype='object')"
      ]
     },
     "metadata": {},
     "output_type": "display_data"
    },
    {
     "data": {
      "text/html": [
       "<h3>Cluster 28.19</h3>"
      ],
      "text/plain": [
       "<IPython.core.display.HTML object>"
      ]
     },
     "metadata": {},
     "output_type": "display_data"
    },
    {
     "data": {
      "text/plain": [
       "1"
      ]
     },
     "metadata": {},
     "output_type": "display_data"
    },
    {
     "data": {
      "text/plain": [
       "Index(['20153_raw-Forced_expiratory_volume_in_1second_FEV1_predicted'], dtype='object')"
      ]
     },
     "metadata": {},
     "output_type": "display_data"
    },
    {
     "data": {
      "text/html": [
       "<h3>Cluster 28.20</h3>"
      ],
      "text/plain": [
       "<IPython.core.display.HTML object>"
      ]
     },
     "metadata": {},
     "output_type": "display_data"
    },
    {
     "data": {
      "text/plain": [
       "12"
      ]
     },
     "metadata": {},
     "output_type": "display_data"
    },
    {
     "data": {
      "text/plain": [
       "Index(['20003_1140883066-Treatmentmedication_code_insulin_product',\n",
       "       '20003_1141191044-Treatmentmedication_code_levothyroxine_sodium',\n",
       "       '2986-Started_insulin_within_one_year_diagnosis_of_diabetes',\n",
       "       '6144_3-Never_eat_eggs_dairy_wheat_sugar_Wheat_products',\n",
       "       'K11_COELIAC-Coeliac_disease', 'celiac disease',\n",
       "       'hyperthyroidism AND thyrotoxicosis', 'hypothyroidism AND myxedema',\n",
       "       'malabsorption syndrome', 'psoriasis', 'rheumatoid arthritis',\n",
       "       'systemic lupus erythematosus'],\n",
       "      dtype='object')"
      ]
     },
     "metadata": {},
     "output_type": "display_data"
    },
    {
     "data": {
      "text/html": [
       "<h3>Cluster 28.21</h3>"
      ],
      "text/plain": [
       "<IPython.core.display.HTML object>"
      ]
     },
     "metadata": {},
     "output_type": "display_data"
    },
    {
     "data": {
      "text/plain": [
       "19"
      ]
     },
     "metadata": {},
     "output_type": "display_data"
    },
    {
     "data": {
      "text/plain": [
       "Index(['1050-Time_spend_outdoors_in_summer',\n",
       "       '1070-Time_spent_watching_television_TV', '1448_1-Bread_type_White',\n",
       "       '1448_3-Bread_type_Wholemeal_or_wholegrain',\n",
       "       '20016_raw-Fluid_intelligence_score',\n",
       "       '2139_raw-Age_first_had_sexual_intercourse',\n",
       "       '22501_raw-Year_ended_full_time_education',\n",
       "       '2754_raw-Age_at_first_live_birth',\n",
       "       '6138_1-Qualifications_College_or_University_degree',\n",
       "       '6138_100-Qualifications_None_of_the_above',\n",
       "       '6138_2-Qualifications_A_levelsAS_levels_or_equivalent',\n",
       "       '6138_3-Qualifications_O_levelsGCSEs_or_equivalent',\n",
       "       '738-Average_total_household_income_before_tax',\n",
       "       '806-Job_involves_mainly_walking_or_standing',\n",
       "       '816-Job_involves_heavy_manual_or_physical_work',\n",
       "       'SSGAC_Education_Years_Pooled', 'schizophrenia', 'self rated health',\n",
       "       'self reported educational attainment'],\n",
       "      dtype='object')"
      ]
     },
     "metadata": {},
     "output_type": "display_data"
    },
    {
     "data": {
      "text/html": [
       "<h3>Cluster 28.22</h3>"
      ],
      "text/plain": [
       "<IPython.core.display.HTML object>"
      ]
     },
     "metadata": {},
     "output_type": "display_data"
    },
    {
     "data": {
      "text/plain": [
       "44"
      ]
     },
     "metadata": {},
     "output_type": "display_data"
    },
    {
     "data": {
      "text/plain": [
       "Index(['102_raw-Pulse_rate_automated_reading',\n",
       "       '1080-Time_spent_using_computer', '1319-Dried_fruit_intake',\n",
       "       '1478-Salt_added_to_food', '1488_raw-Tea_intake',\n",
       "       '1518-Hot_drink_temperature', '1528-Water_intake', '1757-Facial_ageing',\n",
       "       '20022_raw-Birth_weight',\n",
       "       '20154_raw-Forced_expiratory_volume_in_1second_FEV1_predicted_percentage',\n",
       "       '2217_raw-Age_started_wearing_glasses_or_contact_lenses',\n",
       "       '2237-Plays_computer_games', '2395_1-Hairbalding_pattern_Pattern_1',\n",
       "       '30060_raw-Mean_corpuscular_haemoglobin_concentration',\n",
       "       '30120_raw-Lymphocyte_count', '30530_raw-Sodium_in_urine',\n",
       "       '3064_raw-Peak_expiratory_flow_PEF',\n",
       "       '399_raw-Number_of_incorrect_matches_in_round',\n",
       "       '400_raw-Time_to_complete_round', '4100_raw-Ankle_spacing_width_left',\n",
       "       '4119_raw-Ankle_spacing_width_right', '4194_raw-Pulse_rate',\n",
       "       '46_raw-Hand_grip_strength_left', '47_raw-Hand_grip_strength_right',\n",
       "       '5084_raw-Spherical_power_right', '5085_raw-Spherical_power_left',\n",
       "       '6152_100-Blood_clot_DVT_bronchitis_emphysema_asthma_rhinitis_eczema_allergy_diagnosed_by_doctor_None_of_the_above',\n",
       "       '6152_8-Blood_clot_DVT_bronchitis_emphysema_asthma_rhinitis_eczema_allergy_diagnosed_by_doctor_Asthma',\n",
       "       '6152_9-Blood_clot_DVT_bronchitis_emphysema_asthma_rhinitis_eczema_allergy_diagnosed_by_doctor_Hayfever_allergic_rhinitis_or_eczema',\n",
       "       '924-Usual_walking_pace', 'age at first facial hair', 'age at menarche',\n",
       "       'asthma', 'chronotype measurement',\n",
       "       'comparative body size at age 10, self-reported',\n",
       "       'ease of getting up in the morning, self-reported',\n",
       "       'excessive daytime sleepiness measurement AND narcolepsy without cataplexy',\n",
       "       'hearing loss', 'inflammatory bowel disease', 'insomnia',\n",
       "       'nap during day, self-reported', 'sleep duration',\n",
       "       'snoring measurement', 'wheezing'],\n",
       "      dtype='object')"
      ]
     },
     "metadata": {},
     "output_type": "display_data"
    },
    {
     "data": {
      "text/html": [
       "<h3>Cluster 28.23</h3>"
      ],
      "text/plain": [
       "<IPython.core.display.HTML object>"
      ]
     },
     "metadata": {},
     "output_type": "display_data"
    },
    {
     "data": {
      "text/plain": [
       "190"
      ]
     },
     "metadata": {},
     "output_type": "display_data"
    },
    {
     "data": {
      "text/plain": [
       "Index(['1031-Frequency_of_friendfamily_visits',\n",
       "       '1060-Time_spent_outdoors_in_winter', '1090-Time_spent_driving',\n",
       "       '1100-Drive_faster_than_motorway_speed_limit',\n",
       "       '110001-Invitation_to_complete_online_24hour_recall_dietary_questionnaire_acceptance',\n",
       "       '1110-Length_of_mobile_phone_use',\n",
       "       '1120-Weekly_usage_of_mobile_phone_in_last_3_months',\n",
       "       '1289-Cooked_vegetable_intake', '1299-Salad_raw_vegetable_intake',\n",
       "       '1309-Fresh_fruit_intake',\n",
       "       ...\n",
       "       'osteoarthritis, hip', 'osteoarthritis, knee', 'osteoporosis',\n",
       "       'parkinson's disease',\n",
       "       'seeing a general practitioner for nerves, anxiety, tension or depression, self-reported',\n",
       "       'smoking behavior', 'smoking cessation', 'tiredness measurement',\n",
       "       'varicose veins', 'worry measurement'],\n",
       "      dtype='object', length=190)"
      ]
     },
     "metadata": {},
     "output_type": "display_data"
    },
    {
     "data": {
      "text/html": [
       "<h3>Cluster 28.24</h3>"
      ],
      "text/plain": [
       "<IPython.core.display.HTML object>"
      ]
     },
     "metadata": {},
     "output_type": "display_data"
    },
    {
     "data": {
      "text/plain": [
       "136"
      ]
     },
     "metadata": {},
     "output_type": "display_data"
    },
    {
     "data": {
      "text/plain": [
       "Index(['129_raw-Place_of_birth_in_UK_north_coordinate',\n",
       "       '130_raw-Place_of_birth_in_UK_east_coordinate',\n",
       "       '20074_raw-Home_location_at_assessment_east_coordinate_rounded',\n",
       "       '20075_raw-Home_location_at_assessment_north_coordinate_rounded',\n",
       "       '20118_11-Home_area_population_density_urban_or_rural_Scotland_Large_Urban_Area',\n",
       "       '22704_raw-Home_location_north_coordinate_rounded',\n",
       "       '30220_raw-Basophill_percentage', 'abdominal injury',\n",
       "       'abnormal delivery', 'alcohol dependence',\n",
       "       ...\n",
       "       'tongue neoplasm', 'transient ischemic attack', 'tuberculosis',\n",
       "       'type ii diabetes mellitus', 'ulcerative colitis',\n",
       "       'urogenital neoplasm', 'urticaria', 'vascular disease', 'vasculitis',\n",
       "       'wrist fracture'],\n",
       "      dtype='object', length=136)"
      ]
     },
     "metadata": {},
     "output_type": "display_data"
    },
    {
     "data": {
      "text/html": [
       "<h3>Cluster 28.25</h3>"
      ],
      "text/plain": [
       "<IPython.core.display.HTML object>"
      ]
     },
     "metadata": {},
     "output_type": "display_data"
    },
    {
     "data": {
      "text/plain": [
       "2"
      ]
     },
     "metadata": {},
     "output_type": "display_data"
    },
    {
     "data": {
      "text/plain": [
       "Index(['21002_raw-Weight', '23098_raw-Weight'], dtype='object')"
      ]
     },
     "metadata": {},
     "output_type": "display_data"
    },
    {
     "data": {
      "text/html": [
       "<h3>Cluster 28.26</h3>"
      ],
      "text/plain": [
       "<IPython.core.display.HTML object>"
      ]
     },
     "metadata": {},
     "output_type": "display_data"
    },
    {
     "data": {
      "text/plain": [
       "19"
      ]
     },
     "metadata": {},
     "output_type": "display_data"
    },
    {
     "data": {
      "text/plain": [
       "Index(['100001_raw-Food_weight', '100002_raw-Energy', '100003_raw-Protein',\n",
       "       '100004_raw-Fat', '100005_raw-Carbohydrate', '100006_raw-Saturated_fat',\n",
       "       '100007_raw-Polyunsaturated_fat', '100008_raw-Total_sugars',\n",
       "       '100009_raw-Englyst_dietary_fibre', '100011_raw-Iron',\n",
       "       '100012_raw-Vitamin_B6', '100014_raw-Folate', '100015_raw-Vitamin_C',\n",
       "       '100016_raw-Potassium', '100017_raw-Magnesium', '100019_raw-Carotene',\n",
       "       '100023_raw-Starch', '100024_raw-Calcium', '100025_raw-Vitamin_E'],\n",
       "      dtype='object')"
      ]
     },
     "metadata": {},
     "output_type": "display_data"
    },
    {
     "data": {
      "text/html": [
       "<h3>Cluster 28.27</h3>"
      ],
      "text/plain": [
       "<IPython.core.display.HTML object>"
      ]
     },
     "metadata": {},
     "output_type": "display_data"
    },
    {
     "data": {
      "text/plain": [
       "36"
      ]
     },
     "metadata": {},
     "output_type": "display_data"
    },
    {
     "data": {
      "text/plain": [
       "Index(['20421-Ever_felt_worried_tense_or_anxious_for_most_of_a_month_or_longer',\n",
       "       '20425-Ever_worried_more_than_most_people_would_in_similar_situation',\n",
       "       '20441-Ever_had_prolonged_loss_of_interest_in_normal_activities',\n",
       "       '20446-Ever_had_prolonged_feelings_of_sadness_or_depression',\n",
       "       '20458-General_happiness', '20459-General_happiness_with_own_health',\n",
       "       '20460-Belief_that_own_life_is_meaningful',\n",
       "       '20479-Ever_thought_that_life_not_worth_living',\n",
       "       '20485-Ever_contemplated_selfharm',\n",
       "       '20494-Felt_irritable_or_had_angry_outbursts_in_past_month',\n",
       "       '20495-Avoided_activities_or_situations_because_of_previous_stressful_experience_in_past_month',\n",
       "       '20496-Felt_distant_from_other_people_in_past_month',\n",
       "       '20497-Repeated_disturbing_thoughts_of_stressful_experience_in_past_month',\n",
       "       '20498-Felt_very_upset_when_reminded_of_stressful_experience_in_past_month',\n",
       "       '20499-Ever_sought_or_received_professional_help_for_mental_distress',\n",
       "       '20500-Ever_suffered_mental_distress_preventing_usual_activities',\n",
       "       '20505-Recent_easy_annoyance_or_irritability',\n",
       "       '20506-Recent_feelings_or_nervousness_or_anxiety',\n",
       "       '20507-Recent_feelings_of_inadequacy',\n",
       "       '20508-Recent_trouble_concentrating_on_things',\n",
       "       '20509-Recent_inability_to_stop_or_control_worrying',\n",
       "       '20510-Recent_feelings_of_depression',\n",
       "       '20511-Recent_poor_appetite_or_overeating',\n",
       "       '20512-Recent_feelings_of_foreboding',\n",
       "       '20513-Recent_thoughts_of_suicide_or_selfharm',\n",
       "       '20514-Recent_lack_of_interest_or_pleasure_in_doing_things',\n",
       "       '20515-Recent_trouble_relaxing', '20516-Recent_restlessness',\n",
       "       '20517-Trouble_falling_or_staying_asleep_or_sleeping_too_much',\n",
       "       '20519-Recent_feelings_of_tiredness_or_low_energy',\n",
       "       '20520-Recent_worrying_too_much_about_different_things',\n",
       "       '20544_11-Mental_health_problems_ever_diagnosed_by_a_professional_Depression',\n",
       "       '20546_3-Substances_taken_for_depression_Medication_prescribed_to_you_for_at_least_two_weeks',\n",
       "       '20547_1-Activities_undertaken_to_treat_depression_Talking_therapies_such_as_psychotherapy_counselling_group_therapy_or_CBT',\n",
       "       '20549_3-Substances_taken_for_anxiety_Medication_prescribed_to_you_for_at_least_two_weeks',\n",
       "       'seeing a psychiatrist for nerves, anxiety, tension or depression, self-reported'],\n",
       "      dtype='object')"
      ]
     },
     "metadata": {},
     "output_type": "display_data"
    },
    {
     "data": {
      "text/html": [
       "<h2>Partition with k=29</h2>"
      ],
      "text/plain": [
       "<IPython.core.display.HTML object>"
      ]
     },
     "metadata": {},
     "output_type": "display_data"
    },
    {
     "data": {
      "text/plain": [
       "method                                                 scc_025\n",
       "partition    [25, 25, 25, 25, 25, 25, 25, 25, 25, 0, 25, 25...\n",
       "ami_mean                                              0.287144\n",
       "selected                                                  True\n",
       "Name: 29, dtype: object"
      ]
     },
     "metadata": {},
     "output_type": "display_data"
    },
    {
     "data": {
      "text/plain": [
       "(3749,)"
      ]
     },
     "metadata": {},
     "output_type": "display_data"
    },
    {
     "data": {
      "text/plain": [
       "0     2969\n",
       "28     305\n",
       "24     136\n",
       "22      75\n",
       "23      44\n",
       "27      36\n",
       "21      25\n",
       "25      19\n",
       "11      18\n",
       "17      18\n",
       "8       13\n",
       "2       12\n",
       "18      12\n",
       "3        8\n",
       "14       8\n",
       "12       6\n",
       "10       6\n",
       "4        5\n",
       "16       5\n",
       "15       4\n",
       "9        4\n",
       "6        4\n",
       "19       3\n",
       "1        3\n",
       "5        3\n",
       "7        3\n",
       "13       2\n",
       "26       2\n",
       "20       1\n",
       "dtype: int64"
      ]
     },
     "metadata": {},
     "output_type": "display_data"
    },
    {
     "data": {
      "text/html": [
       "<h3>Cluster 29.0</h3>"
      ],
      "text/plain": [
       "<IPython.core.display.HTML object>"
      ]
     },
     "metadata": {},
     "output_type": "display_data"
    },
    {
     "data": {
      "text/plain": [
       "2969"
      ]
     },
     "metadata": {},
     "output_type": "display_data"
    },
    {
     "data": {
      "text/plain": [
       "Index(['100010-Portion_size', '100013_raw-Vitamin_B12', '100018_raw-Retinol',\n",
       "       '100021_raw-Vitamin_D', '100022-Alcohol',\n",
       "       '1001-Duration_of_strenuous_sports', '100150-Drinking_water_intake',\n",
       "       '100160-Low_calorie_drink_intake', '100170-Fizzy_drink_intake',\n",
       "       '100190-Orange_juice_intake',\n",
       "       ...\n",
       "       'vestibular disease', 'viral disease',\n",
       "       'viral human hepatitis infection', 'viral meningitis',\n",
       "       'visual impairment', 'vitiligo', 'vitreous body disease',\n",
       "       'vocal cord polyp', 'voice disorders', 'whooping cough'],\n",
       "      dtype='object', length=2969)"
      ]
     },
     "metadata": {},
     "output_type": "display_data"
    },
    {
     "data": {
      "text/html": [
       "<h3>Cluster 29.1</h3>"
      ],
      "text/plain": [
       "<IPython.core.display.HTML object>"
      ]
     },
     "metadata": {},
     "output_type": "display_data"
    },
    {
     "data": {
      "text/plain": [
       "3"
      ]
     },
     "metadata": {},
     "output_type": "display_data"
    },
    {
     "data": {
      "text/plain": [
       "Index(['20015_raw-Sitting_height', '50_raw-Standing_height', 'body height'], dtype='object')"
      ]
     },
     "metadata": {},
     "output_type": "display_data"
    },
    {
     "data": {
      "text/html": [
       "<h3>Cluster 29.2</h3>"
      ],
      "text/plain": [
       "<IPython.core.display.HTML object>"
      ]
     },
     "metadata": {},
     "output_type": "display_data"
    },
    {
     "data": {
      "text/plain": [
       "12"
      ]
     },
     "metadata": {},
     "output_type": "display_data"
    },
    {
     "data": {
      "text/plain": [
       "Index(['3144_raw-Heel_Broadband_ultrasound_attenuation_direct_entry',\n",
       "       '3147_raw-Heel_quantitative_ultrasound_index_QUI_direct_entry',\n",
       "       '3148_raw-Heel_bone_mineral_density_BMD',\n",
       "       '4101_raw-Heel_broadband_ultrasound_attenuation_left',\n",
       "       '4104_raw-Heel_quantitative_ultrasound_index_QUI_direct_entry_left',\n",
       "       '4105_raw-Heel_bone_mineral_density_BMD_left',\n",
       "       '4106_raw-Heel_bone_mineral_density_BMD_Tscore_automated_left',\n",
       "       '4120_raw-Heel_broadband_ultrasound_attenuation_right',\n",
       "       '4123_raw-Heel_quantitative_ultrasound_index_QUI_direct_entry_right',\n",
       "       '4124_raw-Heel_bone_mineral_density_BMD_right',\n",
       "       '4125_raw-Heel_bone_mineral_density_BMD_Tscore_automated_right',\n",
       "       '78_raw-Heel_bone_mineral_density_BMD_Tscore_automated'],\n",
       "      dtype='object')"
      ]
     },
     "metadata": {},
     "output_type": "display_data"
    },
    {
     "data": {
      "text/html": [
       "<h3>Cluster 29.3</h3>"
      ],
      "text/plain": [
       "<IPython.core.display.HTML object>"
      ]
     },
     "metadata": {},
     "output_type": "display_data"
    },
    {
     "data": {
      "text/plain": [
       "8"
      ]
     },
     "metadata": {},
     "output_type": "display_data"
    },
    {
     "data": {
      "text/plain": [
       "Index(['5096_raw-3mm_weak_meridian_left', '5097_raw-6mm_weak_meridian_left',\n",
       "       '5098_raw-6mm_weak_meridian_right', '5099_raw-3mm_weak_meridian_right',\n",
       "       '5132_raw-3mm_strong_meridian_right',\n",
       "       '5133_raw-6mm_strong_meridian_right',\n",
       "       '5134_raw-6mm_strong_meridian_left',\n",
       "       '5135_raw-3mm_strong_meridian_left'],\n",
       "      dtype='object')"
      ]
     },
     "metadata": {},
     "output_type": "display_data"
    },
    {
     "data": {
      "text/html": [
       "<h3>Cluster 29.4</h3>"
      ],
      "text/plain": [
       "<IPython.core.display.HTML object>"
      ]
     },
     "metadata": {},
     "output_type": "display_data"
    },
    {
     "data": {
      "text/plain": [
       "5"
      ]
     },
     "metadata": {},
     "output_type": "display_data"
    },
    {
     "data": {
      "text/plain": [
       "Index(['23106_raw-Impedance_of_whole_body', '23107_raw-Impedance_of_leg_right',\n",
       "       '23108_raw-Impedance_of_leg_left', '23109_raw-Impedance_of_arm_right',\n",
       "       '23110_raw-Impedance_of_arm_left'],\n",
       "      dtype='object')"
      ]
     },
     "metadata": {},
     "output_type": "display_data"
    },
    {
     "data": {
      "text/html": [
       "<h3>Cluster 29.5</h3>"
      ],
      "text/plain": [
       "<IPython.core.display.HTML object>"
      ]
     },
     "metadata": {},
     "output_type": "display_data"
    },
    {
     "data": {
      "text/plain": [
       "3"
      ]
     },
     "metadata": {},
     "output_type": "display_data"
    },
    {
     "data": {
      "text/plain": [
       "Index(['30080_raw-Platelet_count', '30090_raw-Platelet_crit',\n",
       "       'platelet count'],\n",
       "      dtype='object')"
      ]
     },
     "metadata": {},
     "output_type": "display_data"
    },
    {
     "data": {
      "text/html": [
       "<h3>Cluster 29.6</h3>"
      ],
      "text/plain": [
       "<IPython.core.display.HTML object>"
      ]
     },
     "metadata": {},
     "output_type": "display_data"
    },
    {
     "data": {
      "text/plain": [
       "4"
      ]
     },
     "metadata": {},
     "output_type": "display_data"
    },
    {
     "data": {
      "text/plain": [
       "Index(['30010_raw-Red_blood_cell_erythrocyte_count',\n",
       "       '30020_raw-Haemoglobin_concentration',\n",
       "       '30030_raw-Haematocrit_percentage', 'erythrocyte count'],\n",
       "      dtype='object')"
      ]
     },
     "metadata": {},
     "output_type": "display_data"
    },
    {
     "data": {
      "text/html": [
       "<h3>Cluster 29.7</h3>"
      ],
      "text/plain": [
       "<IPython.core.display.HTML object>"
      ]
     },
     "metadata": {},
     "output_type": "display_data"
    },
    {
     "data": {
      "text/plain": [
       "3"
      ]
     },
     "metadata": {},
     "output_type": "display_data"
    },
    {
     "data": {
      "text/plain": [
       "Index(['30150-Eosinophill_count', '30210_raw-Eosinophill_percentage',\n",
       "       'eosinophil count'],\n",
       "      dtype='object')"
      ]
     },
     "metadata": {},
     "output_type": "display_data"
    },
    {
     "data": {
      "text/html": [
       "<h3>Cluster 29.8</h3>"
      ],
      "text/plain": [
       "<IPython.core.display.HTML object>"
      ]
     },
     "metadata": {},
     "output_type": "display_data"
    },
    {
     "data": {
      "text/plain": [
       "13"
      ]
     },
     "metadata": {},
     "output_type": "display_data"
    },
    {
     "data": {
      "text/plain": [
       "Index(['23101_raw-Whole_body_fatfree_mass', '23102_raw-Whole_body_water_mass',\n",
       "       '23105_raw-Basal_metabolic_rate', '23113_raw-Leg_fatfree_mass_right',\n",
       "       '23114_raw-Leg_predicted_mass_right', '23117_raw-Leg_fatfree_mass_left',\n",
       "       '23118_raw-Leg_predicted_mass_left', '23121_raw-Arm_fatfree_mass_right',\n",
       "       '23122_raw-Arm_predicted_mass_right', '23125_raw-Arm_fatfree_mass_left',\n",
       "       '23126_raw-Arm_predicted_mass_left', '23129_raw-Trunk_fatfree_mass',\n",
       "       '23130_raw-Trunk_predicted_mass'],\n",
       "      dtype='object')"
      ]
     },
     "metadata": {},
     "output_type": "display_data"
    },
    {
     "data": {
      "text/html": [
       "<h3>Cluster 29.9</h3>"
      ],
      "text/plain": [
       "<IPython.core.display.HTML object>"
      ]
     },
     "metadata": {},
     "output_type": "display_data"
    },
    {
     "data": {
      "text/plain": [
       "4"
      ]
     },
     "metadata": {},
     "output_type": "display_data"
    },
    {
     "data": {
      "text/plain": [
       "Index(['30040_raw-Mean_corpuscular_volume',\n",
       "       '30050_raw-Mean_corpuscular_haemoglobin',\n",
       "       '30260_raw-Mean_reticulocyte_volume',\n",
       "       '30270_raw-Mean_sphered_cell_volume'],\n",
       "      dtype='object')"
      ]
     },
     "metadata": {},
     "output_type": "display_data"
    },
    {
     "data": {
      "text/html": [
       "<h3>Cluster 29.10</h3>"
      ],
      "text/plain": [
       "<IPython.core.display.HTML object>"
      ]
     },
     "metadata": {},
     "output_type": "display_data"
    },
    {
     "data": {
      "text/plain": [
       "6"
      ]
     },
     "metadata": {},
     "output_type": "display_data"
    },
    {
     "data": {
      "text/plain": [
       "Index(['30240_raw-Reticulocyte_percentage', '30250_raw-Reticulocyte_count',\n",
       "       '30280_raw-Immature_reticulocyte_fraction',\n",
       "       '30290_raw-High_light_scatter_reticulocyte_percentage',\n",
       "       '30300_raw-High_light_scatter_reticulocyte_count',\n",
       "       'reticulocyte count'],\n",
       "      dtype='object')"
      ]
     },
     "metadata": {},
     "output_type": "display_data"
    },
    {
     "data": {
      "text/html": [
       "<h3>Cluster 29.11</h3>"
      ],
      "text/plain": [
       "<IPython.core.display.HTML object>"
      ]
     },
     "metadata": {},
     "output_type": "display_data"
    },
    {
     "data": {
      "text/plain": [
       "18"
      ]
     },
     "metadata": {},
     "output_type": "display_data"
    },
    {
     "data": {
      "text/plain": [
       "Index(['21001_raw-Body_mass_index_BMI', '21002_raw-Weight', '23098_raw-Weight',\n",
       "       '23099_raw-Body_fat_percentage', '23100_raw-Whole_body_fat_mass',\n",
       "       '23104_raw-Body_mass_index_BMI', '23111_raw-Leg_fat_percentage_right',\n",
       "       '23112_raw-Leg_fat_mass_right', '23115_raw-Leg_fat_percentage_left',\n",
       "       '23116_raw-Leg_fat_mass_left', '23119_raw-Arm_fat_percentage_right',\n",
       "       '23120_raw-Arm_fat_mass_right', '23123_raw-Arm_fat_percentage_left',\n",
       "       '23124_raw-Arm_fat_mass_left', '23127_raw-Trunk_fat_percentage',\n",
       "       '23128_raw-Trunk_fat_mass', '48_raw-Waist_circumference',\n",
       "       '49_raw-Hip_circumference'],\n",
       "      dtype='object')"
      ]
     },
     "metadata": {},
     "output_type": "display_data"
    },
    {
     "data": {
      "text/html": [
       "<h3>Cluster 29.12</h3>"
      ],
      "text/plain": [
       "<IPython.core.display.HTML object>"
      ]
     },
     "metadata": {},
     "output_type": "display_data"
    },
    {
     "data": {
      "text/plain": [
       "6"
      ]
     },
     "metadata": {},
     "output_type": "display_data"
    },
    {
     "data": {
      "text/plain": [
       "Index(['30000_raw-White_blood_cell_leukocyte_count',\n",
       "       '30140_raw-Neutrophill_count', 'granulocyte count', 'leukocyte count',\n",
       "       'myeloid white cell count', 'neutrophil count'],\n",
       "      dtype='object')"
      ]
     },
     "metadata": {},
     "output_type": "display_data"
    },
    {
     "data": {
      "text/html": [
       "<h3>Cluster 29.13</h3>"
      ],
      "text/plain": [
       "<IPython.core.display.HTML object>"
      ]
     },
     "metadata": {},
     "output_type": "display_data"
    },
    {
     "data": {
      "text/plain": [
       "2"
      ]
     },
     "metadata": {},
     "output_type": "display_data"
    },
    {
     "data": {
      "text/plain": [
       "Index(['30180_raw-Lymphocyte_percentage', '30200_raw-Neutrophill_percentage'], dtype='object')"
      ]
     },
     "metadata": {},
     "output_type": "display_data"
    },
    {
     "data": {
      "text/html": [
       "<h3>Cluster 29.14</h3>"
      ],
      "text/plain": [
       "<IPython.core.display.HTML object>"
      ]
     },
     "metadata": {},
     "output_type": "display_data"
    },
    {
     "data": {
      "text/plain": [
       "8"
      ]
     },
     "metadata": {},
     "output_type": "display_data"
    },
    {
     "data": {
      "text/plain": [
       "Index(['1717-Skin_colour', '1727-Ease_of_skin_tanning',\n",
       "       '1737-Childhood_sunburn_occasions',\n",
       "       '1747_1-Hair_colour_natural_before_greying_Blonde',\n",
       "       '1747_2-Hair_colour_natural_before_greying_Red',\n",
       "       '1747_3-Hair_colour_natural_before_greying_Light_brown',\n",
       "       '1747_4-Hair_colour_natural_before_greying_Dark_brown',\n",
       "       '1747_5-Hair_colour_natural_before_greying_Black'],\n",
       "      dtype='object')"
      ]
     },
     "metadata": {},
     "output_type": "display_data"
    },
    {
     "data": {
      "text/html": [
       "<h3>Cluster 29.15</h3>"
      ],
      "text/plain": [
       "<IPython.core.display.HTML object>"
      ]
     },
     "metadata": {},
     "output_type": "display_data"
    },
    {
     "data": {
      "text/plain": [
       "4"
      ]
     },
     "metadata": {},
     "output_type": "display_data"
    },
    {
     "data": {
      "text/plain": [
       "Index(['20150_raw-Forced_expiratory_volume_in_1second_FEV1_Best_measure',\n",
       "       '20151_raw-Forced_vital_capacity_FVC_Best_measure',\n",
       "       '3062_raw-Forced_vital_capacity_FVC',\n",
       "       '3063_raw-Forced_expiratory_volume_in_1second_FEV1'],\n",
       "      dtype='object')"
      ]
     },
     "metadata": {},
     "output_type": "display_data"
    },
    {
     "data": {
      "text/html": [
       "<h3>Cluster 29.16</h3>"
      ],
      "text/plain": [
       "<IPython.core.display.HTML object>"
      ]
     },
     "metadata": {},
     "output_type": "display_data"
    },
    {
     "data": {
      "text/plain": [
       "5"
      ]
     },
     "metadata": {},
     "output_type": "display_data"
    },
    {
     "data": {
      "text/plain": [
       "Index(['4079_raw-Diastolic_blood_pressure_automated_reading',\n",
       "       '4080_raw-Systolic_blood_pressure_automated_reading',\n",
       "       '6150_100-Vascularheart_problems_diagnosed_by_doctor_None_of_the_above',\n",
       "       '6150_4-Vascularheart_problems_diagnosed_by_doctor_High_blood_pressure',\n",
       "       'hypertension'],\n",
       "      dtype='object')"
      ]
     },
     "metadata": {},
     "output_type": "display_data"
    },
    {
     "data": {
      "text/html": [
       "<h3>Cluster 29.17</h3>"
      ],
      "text/plain": [
       "<IPython.core.display.HTML object>"
      ]
     },
     "metadata": {},
     "output_type": "display_data"
    },
    {
     "data": {
      "text/plain": [
       "18"
      ]
     },
     "metadata": {},
     "output_type": "display_data"
    },
    {
     "data": {
      "text/plain": [
       "Index(['1050-Time_spend_outdoors_in_summer',\n",
       "       '1070-Time_spent_watching_television_TV', '1448_1-Bread_type_White',\n",
       "       '1448_3-Bread_type_Wholemeal_or_wholegrain',\n",
       "       '20016_raw-Fluid_intelligence_score',\n",
       "       '2139_raw-Age_first_had_sexual_intercourse',\n",
       "       '22501_raw-Year_ended_full_time_education',\n",
       "       '2754_raw-Age_at_first_live_birth',\n",
       "       '6138_1-Qualifications_College_or_University_degree',\n",
       "       '6138_100-Qualifications_None_of_the_above',\n",
       "       '6138_2-Qualifications_A_levelsAS_levels_or_equivalent',\n",
       "       '6138_3-Qualifications_O_levelsGCSEs_or_equivalent',\n",
       "       '738-Average_total_household_income_before_tax',\n",
       "       '806-Job_involves_mainly_walking_or_standing',\n",
       "       '816-Job_involves_heavy_manual_or_physical_work',\n",
       "       'SSGAC_Education_Years_Pooled', 'schizophrenia',\n",
       "       'self reported educational attainment'],\n",
       "      dtype='object')"
      ]
     },
     "metadata": {},
     "output_type": "display_data"
    },
    {
     "data": {
      "text/html": [
       "<h3>Cluster 29.18</h3>"
      ],
      "text/plain": [
       "<IPython.core.display.HTML object>"
      ]
     },
     "metadata": {},
     "output_type": "display_data"
    },
    {
     "data": {
      "text/plain": [
       "12"
      ]
     },
     "metadata": {},
     "output_type": "display_data"
    },
    {
     "data": {
      "text/plain": [
       "Index(['20003_1140883066-Treatmentmedication_code_insulin_product',\n",
       "       '20003_1141191044-Treatmentmedication_code_levothyroxine_sodium',\n",
       "       '2986-Started_insulin_within_one_year_diagnosis_of_diabetes',\n",
       "       '6144_3-Never_eat_eggs_dairy_wheat_sugar_Wheat_products',\n",
       "       'K11_COELIAC-Coeliac_disease', 'celiac disease',\n",
       "       'hyperthyroidism AND thyrotoxicosis', 'hypothyroidism AND myxedema',\n",
       "       'malabsorption syndrome', 'psoriasis', 'rheumatoid arthritis',\n",
       "       'systemic lupus erythematosus'],\n",
       "      dtype='object')"
      ]
     },
     "metadata": {},
     "output_type": "display_data"
    },
    {
     "data": {
      "text/html": [
       "<h3>Cluster 29.19</h3>"
      ],
      "text/plain": [
       "<IPython.core.display.HTML object>"
      ]
     },
     "metadata": {},
     "output_type": "display_data"
    },
    {
     "data": {
      "text/plain": [
       "3"
      ]
     },
     "metadata": {},
     "output_type": "display_data"
    },
    {
     "data": {
      "text/plain": [
       "Index(['30130_raw-Monocyte_count', '30190_raw-Monocyte_percentage',\n",
       "       'monocyte count'],\n",
       "      dtype='object')"
      ]
     },
     "metadata": {},
     "output_type": "display_data"
    },
    {
     "data": {
      "text/html": [
       "<h3>Cluster 29.20</h3>"
      ],
      "text/plain": [
       "<IPython.core.display.HTML object>"
      ]
     },
     "metadata": {},
     "output_type": "display_data"
    },
    {
     "data": {
      "text/plain": [
       "1"
      ]
     },
     "metadata": {},
     "output_type": "display_data"
    },
    {
     "data": {
      "text/plain": [
       "Index(['20153_raw-Forced_expiratory_volume_in_1second_FEV1_predicted'], dtype='object')"
      ]
     },
     "metadata": {},
     "output_type": "display_data"
    },
    {
     "data": {
      "text/html": [
       "<h3>Cluster 29.21</h3>"
      ],
      "text/plain": [
       "<IPython.core.display.HTML object>"
      ]
     },
     "metadata": {},
     "output_type": "display_data"
    },
    {
     "data": {
      "text/plain": [
       "25"
      ]
     },
     "metadata": {},
     "output_type": "display_data"
    },
    {
     "data": {
      "text/plain": [
       "Index(['20003_1140861958-Treatmentmedication_code_simvastatin',\n",
       "       '20003_1140868226-Treatmentmedication_code_aspirin',\n",
       "       '20003_1141194794-Treatmentmedication_code_bendroflumethiazide',\n",
       "       '6150_1-Vascularheart_problems_diagnosed_by_doctor_Heart_attack',\n",
       "       '6150_2-Vascularheart_problems_diagnosed_by_doctor_Angina',\n",
       "       '6153_1-Medication_for_cholesterol_blood_pressure_diabetes_or_take_exogenous_hormones_Cholesterol_lowering_medication',\n",
       "       '6153_100-Medication_for_cholesterol_blood_pressure_diabetes_or_take_exogenous_hormones_None_of_the_above',\n",
       "       '6154_1-Medication_for_pain_relief_constipation_heartburn_Aspirin',\n",
       "       '6177_1-Medication_for_cholesterol_blood_pressure_or_diabetes_Cholesterol_lowering_medication',\n",
       "       '6177_100-Medication_for_cholesterol_blood_pressure_or_diabetes_None_of_the_above',\n",
       "       '6177_2-Medication_for_cholesterol_blood_pressure_or_diabetes_Blood_pressure_medication',\n",
       "       'I9_CHD-Major_coronary_heart_disease_event',\n",
       "       'I9_CHD_NOREV-Major_coronary_heart_disease_event_excluding_revascularizations',\n",
       "       'I9_CORATHER-Coronary_atherosclerosis',\n",
       "       'I9_IHD-Ischaemic_heart_disease_wide_definition',\n",
       "       'I9_MI-Myocardial_infarction',\n",
       "       'I9_MI_STRICT-Myocardial_infarction_strict',\n",
       "       'IX_CIRCULATORY-Diseases_of_the_circulatory_system',\n",
       "       'acute myocardial infarction', 'angina pectoris',\n",
       "       'coronary artery disease', 'hypercholesterolemia',\n",
       "       'myocardial infarction',\n",
       "       'number of non-cancer illnesses, self-reported',\n",
       "       'number of treatments or medications taken, self-reported'],\n",
       "      dtype='object')"
      ]
     },
     "metadata": {},
     "output_type": "display_data"
    },
    {
     "data": {
      "text/html": [
       "<h3>Cluster 29.22</h3>"
      ],
      "text/plain": [
       "<IPython.core.display.HTML object>"
      ]
     },
     "metadata": {},
     "output_type": "display_data"
    },
    {
     "data": {
      "text/plain": [
       "75"
      ]
     },
     "metadata": {},
     "output_type": "display_data"
    },
    {
     "data": {
      "text/plain": [
       "Index(['1100-Drive_faster_than_motorway_speed_limit',\n",
       "       '1110-Length_of_mobile_phone_use', '1289-Cooked_vegetable_intake',\n",
       "       '1299-Salad_raw_vegetable_intake', '1309-Fresh_fruit_intake',\n",
       "       '1329-Oily_fish_intake', '1349-Processed_meat_intake',\n",
       "       '1369-Beef_intake', '1379-Lambmutton_intake', '1408-Cheese_intake',\n",
       "       '1458-Cereal_intake', '1468_4-Cereal_type_Muesli', '1498-Coffee_intake',\n",
       "       '1508_3-Coffee_type_Ground_coffee_include_espresso_filter_etc',\n",
       "       '1538_0-Major_dietary_changes_in_the_last_5_years_No',\n",
       "       '1548-Variation_in_diet', '1568-Average_weekly_red_wine_intake',\n",
       "       '1618-Alcohol_usually_taken_with_meals',\n",
       "       '1787-Maternal_smoking_around_birth',\n",
       "       '20003_2038460150-Treatmentmedication_code_paracetamol',\n",
       "       '20023_raw-Mean_time_to_correctly_identify_matches',\n",
       "       '20116_0-Smoking_status_Never', '20116_1-Smoking_status_Previous',\n",
       "       '20116_2-Smoking_status_Current', '20127_raw-Neuroticism_score',\n",
       "       '20154_raw-Forced_expiratory_volume_in_1second_FEV1_predicted_percentage',\n",
       "       '20160-Ever_smoked',\n",
       "       '2070-Frequency_of_tenseness_restlessness_in_last_2_weeks',\n",
       "       '2110-Able_to_confide', '2149-Lifetime_number_of_sexual_partners',\n",
       "       '2267-Use_of_sunuv_protection',\n",
       "       '2492-Taking_other_prescription_medications',\n",
       "       '30510_raw-Creatinine_enzymatic_in_urine',\n",
       "       '30520_raw-Potassium_in_urine',\n",
       "       '3581_raw-Age_at_menopause_last_menstrual_period',\n",
       "       '404_raw-Duration_to_first_press_of_snapbutton_in_each_round',\n",
       "       '6138_6-Qualifications_Other_professional_qualifications_eg_nursing_teaching',\n",
       "       '6144_4-Never_eat_eggs_dairy_wheat_sugar_Sugar_or_foodsdrinks_containing_sugar',\n",
       "       '6144_5-Never_eat_eggs_dairy_wheat_sugar_I_eat_all_of_the_above',\n",
       "       '6149_100-Mouthteeth_dental_problems_None_of_the_above',\n",
       "       '6149_6-Mouthteeth_dental_problems_Dentures',\n",
       "       '6154_100-Medication_for_pain_relief_constipation_heartburn_None_of_the_above',\n",
       "       '6154_3-Medication_for_pain_relief_constipation_heartburn_Paracetamol',\n",
       "       '6159_1-Pain_types_experienced_in_last_month_Headache',\n",
       "       '6159_100-Pain_types_experienced_in_last_month_None_of_the_above',\n",
       "       '6159_3-Pain_types_experienced_in_last_month_Neck_or_shoulder_pain',\n",
       "       '6159_4-Pain_types_experienced_in_last_month_Back_pain',\n",
       "       '6159_7-Pain_types_experienced_in_last_month_Knee_pain',\n",
       "       '6160_1-Leisuresocial_activities_Sports_club_or_gym',\n",
       "       '6160_100-Leisuresocial_activities_None_of_the_above',\n",
       "       '6160_3-Leisuresocial_activities_Religious_group',\n",
       "       '6162_4-Types_of_transport_used_excluding_work_Cycle',\n",
       "       '6164_1-Types_of_physical_activity_in_last_4_weeks_Walking_for_pleasure_not_as_a_means_of_transport',\n",
       "       '6164_2-Types_of_physical_activity_in_last_4_weeks_Other_exercises_eg_swimming_cycling_keep_fit_bowling',\n",
       "       '6164_4-Types_of_physical_activity_in_last_4_weeks_Light_DIY_eg_pruning_watering_the_lawn',\n",
       "       '680_3-Own_or_rent_accommodation_lived_in_Rent_from_local_authority_local_council_housing_association',\n",
       "       '864-Number_of_daysweek_walked_10_minutes',\n",
       "       '884-Number_of_daysweek_of_moderate_physical_activity_10_minutes',\n",
       "       '904-Number_of_daysweek_of_vigorous_physical_activity_10_minutes',\n",
       "       '943-Frequency_of_stair_climbing_in_last_4_weeks',\n",
       "       'XIII_MUSCULOSKELET-Diseases_of_the_musculoskeletal_system_and_connective_tissue',\n",
       "       'alcohol consumption measurement', 'anxiety', 'chronic disease',\n",
       "       'excessive daytime sleepiness measurement AND narcolepsy without cataplexy',\n",
       "       'feeling tense measurement', 'irritability', 'mood swings',\n",
       "       'nervousness',\n",
       "       'seeing a general practitioner for nerves, anxiety, tension or depression, self-reported',\n",
       "       'self rated health', 'smoking behavior', 'smoking cessation',\n",
       "       'tiredness measurement', 'worry measurement'],\n",
       "      dtype='object')"
      ]
     },
     "metadata": {},
     "output_type": "display_data"
    },
    {
     "data": {
      "text/html": [
       "<h3>Cluster 29.23</h3>"
      ],
      "text/plain": [
       "<IPython.core.display.HTML object>"
      ]
     },
     "metadata": {},
     "output_type": "display_data"
    },
    {
     "data": {
      "text/plain": [
       "44"
      ]
     },
     "metadata": {},
     "output_type": "display_data"
    },
    {
     "data": {
      "text/plain": [
       "Index(['102_raw-Pulse_rate_automated_reading',\n",
       "       '1080-Time_spent_using_computer', '1319-Dried_fruit_intake',\n",
       "       '1478-Salt_added_to_food', '1488_raw-Tea_intake',\n",
       "       '1518-Hot_drink_temperature', '1528-Water_intake', '1757-Facial_ageing',\n",
       "       '20022_raw-Birth_weight',\n",
       "       '2217_raw-Age_started_wearing_glasses_or_contact_lenses',\n",
       "       '2237-Plays_computer_games', '2395_1-Hairbalding_pattern_Pattern_1',\n",
       "       '30060_raw-Mean_corpuscular_haemoglobin_concentration',\n",
       "       '30120_raw-Lymphocyte_count', '30530_raw-Sodium_in_urine',\n",
       "       '3064_raw-Peak_expiratory_flow_PEF',\n",
       "       '399_raw-Number_of_incorrect_matches_in_round',\n",
       "       '400_raw-Time_to_complete_round', '4100_raw-Ankle_spacing_width_left',\n",
       "       '4119_raw-Ankle_spacing_width_right', '4194_raw-Pulse_rate',\n",
       "       '46_raw-Hand_grip_strength_left', '47_raw-Hand_grip_strength_right',\n",
       "       '5084_raw-Spherical_power_right', '5085_raw-Spherical_power_left',\n",
       "       '6152_100-Blood_clot_DVT_bronchitis_emphysema_asthma_rhinitis_eczema_allergy_diagnosed_by_doctor_None_of_the_above',\n",
       "       '6152_8-Blood_clot_DVT_bronchitis_emphysema_asthma_rhinitis_eczema_allergy_diagnosed_by_doctor_Asthma',\n",
       "       '6152_9-Blood_clot_DVT_bronchitis_emphysema_asthma_rhinitis_eczema_allergy_diagnosed_by_doctor_Hayfever_allergic_rhinitis_or_eczema',\n",
       "       '924-Usual_walking_pace', 'age at first facial hair', 'age at menarche',\n",
       "       'asthma', 'chronotype measurement',\n",
       "       'comparative body size at age 10, self-reported', 'diabetes mellitus',\n",
       "       'ease of getting up in the morning, self-reported', 'hearing loss',\n",
       "       'inflammatory bowel disease', 'insomnia', 'lymphocyte count',\n",
       "       'nap during day, self-reported', 'sleep duration',\n",
       "       'snoring measurement', 'wheezing'],\n",
       "      dtype='object')"
      ]
     },
     "metadata": {},
     "output_type": "display_data"
    },
    {
     "data": {
      "text/html": [
       "<h3>Cluster 29.24</h3>"
      ],
      "text/plain": [
       "<IPython.core.display.HTML object>"
      ]
     },
     "metadata": {},
     "output_type": "display_data"
    },
    {
     "data": {
      "text/plain": [
       "136"
      ]
     },
     "metadata": {},
     "output_type": "display_data"
    },
    {
     "data": {
      "text/plain": [
       "Index(['129_raw-Place_of_birth_in_UK_north_coordinate',\n",
       "       '130_raw-Place_of_birth_in_UK_east_coordinate',\n",
       "       '20074_raw-Home_location_at_assessment_east_coordinate_rounded',\n",
       "       '20075_raw-Home_location_at_assessment_north_coordinate_rounded',\n",
       "       '20118_11-Home_area_population_density_urban_or_rural_Scotland_Large_Urban_Area',\n",
       "       '22704_raw-Home_location_north_coordinate_rounded',\n",
       "       '30220_raw-Basophill_percentage', 'abdominal injury',\n",
       "       'abnormal delivery', 'alcohol dependence',\n",
       "       ...\n",
       "       'tongue neoplasm', 'transient ischemic attack', 'tuberculosis',\n",
       "       'type ii diabetes mellitus', 'ulcerative colitis',\n",
       "       'urogenital neoplasm', 'urticaria', 'vascular disease', 'vasculitis',\n",
       "       'wrist fracture'],\n",
       "      dtype='object', length=136)"
      ]
     },
     "metadata": {},
     "output_type": "display_data"
    },
    {
     "data": {
      "text/html": [
       "<h3>Cluster 29.25</h3>"
      ],
      "text/plain": [
       "<IPython.core.display.HTML object>"
      ]
     },
     "metadata": {},
     "output_type": "display_data"
    },
    {
     "data": {
      "text/plain": [
       "19"
      ]
     },
     "metadata": {},
     "output_type": "display_data"
    },
    {
     "data": {
      "text/plain": [
       "Index(['100001_raw-Food_weight', '100002_raw-Energy', '100003_raw-Protein',\n",
       "       '100004_raw-Fat', '100005_raw-Carbohydrate', '100006_raw-Saturated_fat',\n",
       "       '100007_raw-Polyunsaturated_fat', '100008_raw-Total_sugars',\n",
       "       '100009_raw-Englyst_dietary_fibre', '100011_raw-Iron',\n",
       "       '100012_raw-Vitamin_B6', '100014_raw-Folate', '100015_raw-Vitamin_C',\n",
       "       '100016_raw-Potassium', '100017_raw-Magnesium', '100019_raw-Carotene',\n",
       "       '100023_raw-Starch', '100024_raw-Calcium', '100025_raw-Vitamin_E'],\n",
       "      dtype='object')"
      ]
     },
     "metadata": {},
     "output_type": "display_data"
    },
    {
     "data": {
      "text/html": [
       "<h3>Cluster 29.26</h3>"
      ],
      "text/plain": [
       "<IPython.core.display.HTML object>"
      ]
     },
     "metadata": {},
     "output_type": "display_data"
    },
    {
     "data": {
      "text/plain": [
       "2"
      ]
     },
     "metadata": {},
     "output_type": "display_data"
    },
    {
     "data": {
      "text/plain": [
       "Index(['30100_raw-Mean_platelet_thrombocyte_volume', '30110_raw-Platelet_distribution_width'], dtype='object')"
      ]
     },
     "metadata": {},
     "output_type": "display_data"
    },
    {
     "data": {
      "text/html": [
       "<h3>Cluster 29.27</h3>"
      ],
      "text/plain": [
       "<IPython.core.display.HTML object>"
      ]
     },
     "metadata": {},
     "output_type": "display_data"
    },
    {
     "data": {
      "text/plain": [
       "36"
      ]
     },
     "metadata": {},
     "output_type": "display_data"
    },
    {
     "data": {
      "text/plain": [
       "Index(['20421-Ever_felt_worried_tense_or_anxious_for_most_of_a_month_or_longer',\n",
       "       '20425-Ever_worried_more_than_most_people_would_in_similar_situation',\n",
       "       '20441-Ever_had_prolonged_loss_of_interest_in_normal_activities',\n",
       "       '20446-Ever_had_prolonged_feelings_of_sadness_or_depression',\n",
       "       '20458-General_happiness', '20459-General_happiness_with_own_health',\n",
       "       '20460-Belief_that_own_life_is_meaningful',\n",
       "       '20479-Ever_thought_that_life_not_worth_living',\n",
       "       '20485-Ever_contemplated_selfharm',\n",
       "       '20494-Felt_irritable_or_had_angry_outbursts_in_past_month',\n",
       "       '20495-Avoided_activities_or_situations_because_of_previous_stressful_experience_in_past_month',\n",
       "       '20496-Felt_distant_from_other_people_in_past_month',\n",
       "       '20497-Repeated_disturbing_thoughts_of_stressful_experience_in_past_month',\n",
       "       '20498-Felt_very_upset_when_reminded_of_stressful_experience_in_past_month',\n",
       "       '20499-Ever_sought_or_received_professional_help_for_mental_distress',\n",
       "       '20500-Ever_suffered_mental_distress_preventing_usual_activities',\n",
       "       '20505-Recent_easy_annoyance_or_irritability',\n",
       "       '20506-Recent_feelings_or_nervousness_or_anxiety',\n",
       "       '20507-Recent_feelings_of_inadequacy',\n",
       "       '20508-Recent_trouble_concentrating_on_things',\n",
       "       '20509-Recent_inability_to_stop_or_control_worrying',\n",
       "       '20510-Recent_feelings_of_depression',\n",
       "       '20511-Recent_poor_appetite_or_overeating',\n",
       "       '20512-Recent_feelings_of_foreboding',\n",
       "       '20513-Recent_thoughts_of_suicide_or_selfharm',\n",
       "       '20514-Recent_lack_of_interest_or_pleasure_in_doing_things',\n",
       "       '20515-Recent_trouble_relaxing', '20516-Recent_restlessness',\n",
       "       '20517-Trouble_falling_or_staying_asleep_or_sleeping_too_much',\n",
       "       '20519-Recent_feelings_of_tiredness_or_low_energy',\n",
       "       '20520-Recent_worrying_too_much_about_different_things',\n",
       "       '20544_11-Mental_health_problems_ever_diagnosed_by_a_professional_Depression',\n",
       "       '20546_3-Substances_taken_for_depression_Medication_prescribed_to_you_for_at_least_two_weeks',\n",
       "       '20547_1-Activities_undertaken_to_treat_depression_Talking_therapies_such_as_psychotherapy_counselling_group_therapy_or_CBT',\n",
       "       '20549_3-Substances_taken_for_anxiety_Medication_prescribed_to_you_for_at_least_two_weeks',\n",
       "       'seeing a psychiatrist for nerves, anxiety, tension or depression, self-reported'],\n",
       "      dtype='object')"
      ]
     },
     "metadata": {},
     "output_type": "display_data"
    },
    {
     "data": {
      "text/html": [
       "<h3>Cluster 29.28</h3>"
      ],
      "text/plain": [
       "<IPython.core.display.HTML object>"
      ]
     },
     "metadata": {},
     "output_type": "display_data"
    },
    {
     "data": {
      "text/plain": [
       "305"
      ]
     },
     "metadata": {},
     "output_type": "display_data"
    },
    {
     "data": {
      "text/plain": [
       "Index(['1021-Duration_of_light_DIY', '1031-Frequency_of_friendfamily_visits',\n",
       "       '1060-Time_spent_outdoors_in_winter', '1090-Time_spent_driving',\n",
       "       '110001-Invitation_to_complete_online_24hour_recall_dietary_questionnaire_acceptance',\n",
       "       '1120-Weekly_usage_of_mobile_phone_in_last_3_months',\n",
       "       '1130-Handsfree_devicespeakerphone_use_with_mobile_phone_in_last_3_month',\n",
       "       '1150_1-Usual_side_of_head_for_mobile_phone_use_Left',\n",
       "       '1150_2-Usual_side_of_head_for_mobile_phone_use_Right',\n",
       "       '1339-Nonoily_fish_intake',\n",
       "       ...\n",
       "       'shortness of breath', 'skull fractures', 'stroke', 'umbilical hernia',\n",
       "       'unipolar depression', 'uterine prolapse', 'varicose veins',\n",
       "       'venous thromboembolism', 'vertigo',\n",
       "       'wellbeing measurement AND family relationship'],\n",
       "      dtype='object', length=305)"
      ]
     },
     "metadata": {},
     "output_type": "display_data"
    },
    {
     "data": {
      "text/html": [
       "<h2>Partition with k=31</h2>"
      ],
      "text/plain": [
       "<IPython.core.display.HTML object>"
      ]
     },
     "metadata": {},
     "output_type": "display_data"
    },
    {
     "data": {
      "text/plain": [
       "method                                                 scc_025\n",
       "partition    [19, 19, 19, 19, 19, 19, 19, 19, 19, 0, 19, 19...\n",
       "ami_mean                                              0.288893\n",
       "selected                                                  True\n",
       "Name: 31, dtype: object"
      ]
     },
     "metadata": {},
     "output_type": "display_data"
    },
    {
     "data": {
      "text/plain": [
       "(3749,)"
      ]
     },
     "metadata": {},
     "output_type": "display_data"
    },
    {
     "data": {
      "text/plain": [
       "0     3110\n",
       "29     191\n",
       "21     120\n",
       "26      45\n",
       "25      36\n",
       "27      30\n",
       "24      24\n",
       "28      24\n",
       "19      19\n",
       "14      18\n",
       "23      18\n",
       "9       13\n",
       "22      12\n",
       "11      12\n",
       "6        8\n",
       "18       8\n",
       "17       8\n",
       "8        6\n",
       "13       6\n",
       "1        5\n",
       "12       5\n",
       "5        5\n",
       "15       4\n",
       "3        4\n",
       "7        4\n",
       "10       3\n",
       "4        3\n",
       "2        3\n",
       "16       2\n",
       "30       2\n",
       "20       1\n",
       "dtype: int64"
      ]
     },
     "metadata": {},
     "output_type": "display_data"
    },
    {
     "data": {
      "text/html": [
       "<h3>Cluster 31.0</h3>"
      ],
      "text/plain": [
       "<IPython.core.display.HTML object>"
      ]
     },
     "metadata": {},
     "output_type": "display_data"
    },
    {
     "data": {
      "text/plain": [
       "3110"
      ]
     },
     "metadata": {},
     "output_type": "display_data"
    },
    {
     "data": {
      "text/plain": [
       "Index(['100010-Portion_size', '100013_raw-Vitamin_B12', '100018_raw-Retinol',\n",
       "       '100021_raw-Vitamin_D', '100022-Alcohol',\n",
       "       '1001-Duration_of_strenuous_sports', '100150-Drinking_water_intake',\n",
       "       '100160-Low_calorie_drink_intake', '100170-Fizzy_drink_intake',\n",
       "       '100190-Orange_juice_intake',\n",
       "       ...\n",
       "       'viral disease', 'viral human hepatitis infection', 'viral meningitis',\n",
       "       'visual impairment', 'vitiligo', 'vitreous body disease',\n",
       "       'vocal cord polyp', 'voice disorders',\n",
       "       'wellbeing measurement AND family relationship', 'whooping cough'],\n",
       "      dtype='object', length=3110)"
      ]
     },
     "metadata": {},
     "output_type": "display_data"
    },
    {
     "data": {
      "text/html": [
       "<h3>Cluster 31.1</h3>"
      ],
      "text/plain": [
       "<IPython.core.display.HTML object>"
      ]
     },
     "metadata": {},
     "output_type": "display_data"
    },
    {
     "data": {
      "text/plain": [
       "5"
      ]
     },
     "metadata": {},
     "output_type": "display_data"
    },
    {
     "data": {
      "text/plain": [
       "Index(['30080_raw-Platelet_count', '30090_raw-Platelet_crit',\n",
       "       '30100_raw-Mean_platelet_thrombocyte_volume',\n",
       "       '30110_raw-Platelet_distribution_width', 'platelet count'],\n",
       "      dtype='object')"
      ]
     },
     "metadata": {},
     "output_type": "display_data"
    },
    {
     "data": {
      "text/html": [
       "<h3>Cluster 31.2</h3>"
      ],
      "text/plain": [
       "<IPython.core.display.HTML object>"
      ]
     },
     "metadata": {},
     "output_type": "display_data"
    },
    {
     "data": {
      "text/plain": [
       "3"
      ]
     },
     "metadata": {},
     "output_type": "display_data"
    },
    {
     "data": {
      "text/plain": [
       "Index(['20015_raw-Sitting_height', '50_raw-Standing_height', 'body height'], dtype='object')"
      ]
     },
     "metadata": {},
     "output_type": "display_data"
    },
    {
     "data": {
      "text/html": [
       "<h3>Cluster 31.3</h3>"
      ],
      "text/plain": [
       "<IPython.core.display.HTML object>"
      ]
     },
     "metadata": {},
     "output_type": "display_data"
    },
    {
     "data": {
      "text/plain": [
       "4"
      ]
     },
     "metadata": {},
     "output_type": "display_data"
    },
    {
     "data": {
      "text/plain": [
       "Index(['30040_raw-Mean_corpuscular_volume',\n",
       "       '30050_raw-Mean_corpuscular_haemoglobin',\n",
       "       '30260_raw-Mean_reticulocyte_volume',\n",
       "       '30270_raw-Mean_sphered_cell_volume'],\n",
       "      dtype='object')"
      ]
     },
     "metadata": {},
     "output_type": "display_data"
    },
    {
     "data": {
      "text/html": [
       "<h3>Cluster 31.4</h3>"
      ],
      "text/plain": [
       "<IPython.core.display.HTML object>"
      ]
     },
     "metadata": {},
     "output_type": "display_data"
    },
    {
     "data": {
      "text/plain": [
       "3"
      ]
     },
     "metadata": {},
     "output_type": "display_data"
    },
    {
     "data": {
      "text/plain": [
       "Index(['30150-Eosinophill_count', '30210_raw-Eosinophill_percentage',\n",
       "       'eosinophil count'],\n",
       "      dtype='object')"
      ]
     },
     "metadata": {},
     "output_type": "display_data"
    },
    {
     "data": {
      "text/html": [
       "<h3>Cluster 31.5</h3>"
      ],
      "text/plain": [
       "<IPython.core.display.HTML object>"
      ]
     },
     "metadata": {},
     "output_type": "display_data"
    },
    {
     "data": {
      "text/plain": [
       "5"
      ]
     },
     "metadata": {},
     "output_type": "display_data"
    },
    {
     "data": {
      "text/plain": [
       "Index(['23106_raw-Impedance_of_whole_body', '23107_raw-Impedance_of_leg_right',\n",
       "       '23108_raw-Impedance_of_leg_left', '23109_raw-Impedance_of_arm_right',\n",
       "       '23110_raw-Impedance_of_arm_left'],\n",
       "      dtype='object')"
      ]
     },
     "metadata": {},
     "output_type": "display_data"
    },
    {
     "data": {
      "text/html": [
       "<h3>Cluster 31.6</h3>"
      ],
      "text/plain": [
       "<IPython.core.display.HTML object>"
      ]
     },
     "metadata": {},
     "output_type": "display_data"
    },
    {
     "data": {
      "text/plain": [
       "8"
      ]
     },
     "metadata": {},
     "output_type": "display_data"
    },
    {
     "data": {
      "text/plain": [
       "Index(['5096_raw-3mm_weak_meridian_left', '5097_raw-6mm_weak_meridian_left',\n",
       "       '5098_raw-6mm_weak_meridian_right', '5099_raw-3mm_weak_meridian_right',\n",
       "       '5132_raw-3mm_strong_meridian_right',\n",
       "       '5133_raw-6mm_strong_meridian_right',\n",
       "       '5134_raw-6mm_strong_meridian_left',\n",
       "       '5135_raw-3mm_strong_meridian_left'],\n",
       "      dtype='object')"
      ]
     },
     "metadata": {},
     "output_type": "display_data"
    },
    {
     "data": {
      "text/html": [
       "<h3>Cluster 31.7</h3>"
      ],
      "text/plain": [
       "<IPython.core.display.HTML object>"
      ]
     },
     "metadata": {},
     "output_type": "display_data"
    },
    {
     "data": {
      "text/plain": [
       "4"
      ]
     },
     "metadata": {},
     "output_type": "display_data"
    },
    {
     "data": {
      "text/plain": [
       "Index(['30010_raw-Red_blood_cell_erythrocyte_count',\n",
       "       '30020_raw-Haemoglobin_concentration',\n",
       "       '30030_raw-Haematocrit_percentage', 'erythrocyte count'],\n",
       "      dtype='object')"
      ]
     },
     "metadata": {},
     "output_type": "display_data"
    },
    {
     "data": {
      "text/html": [
       "<h3>Cluster 31.8</h3>"
      ],
      "text/plain": [
       "<IPython.core.display.HTML object>"
      ]
     },
     "metadata": {},
     "output_type": "display_data"
    },
    {
     "data": {
      "text/plain": [
       "6"
      ]
     },
     "metadata": {},
     "output_type": "display_data"
    },
    {
     "data": {
      "text/plain": [
       "Index(['30000_raw-White_blood_cell_leukocyte_count',\n",
       "       '30140_raw-Neutrophill_count', 'granulocyte count', 'leukocyte count',\n",
       "       'myeloid white cell count', 'neutrophil count'],\n",
       "      dtype='object')"
      ]
     },
     "metadata": {},
     "output_type": "display_data"
    },
    {
     "data": {
      "text/html": [
       "<h3>Cluster 31.9</h3>"
      ],
      "text/plain": [
       "<IPython.core.display.HTML object>"
      ]
     },
     "metadata": {},
     "output_type": "display_data"
    },
    {
     "data": {
      "text/plain": [
       "13"
      ]
     },
     "metadata": {},
     "output_type": "display_data"
    },
    {
     "data": {
      "text/plain": [
       "Index(['23101_raw-Whole_body_fatfree_mass', '23102_raw-Whole_body_water_mass',\n",
       "       '23105_raw-Basal_metabolic_rate', '23113_raw-Leg_fatfree_mass_right',\n",
       "       '23114_raw-Leg_predicted_mass_right', '23117_raw-Leg_fatfree_mass_left',\n",
       "       '23118_raw-Leg_predicted_mass_left', '23121_raw-Arm_fatfree_mass_right',\n",
       "       '23122_raw-Arm_predicted_mass_right', '23125_raw-Arm_fatfree_mass_left',\n",
       "       '23126_raw-Arm_predicted_mass_left', '23129_raw-Trunk_fatfree_mass',\n",
       "       '23130_raw-Trunk_predicted_mass'],\n",
       "      dtype='object')"
      ]
     },
     "metadata": {},
     "output_type": "display_data"
    },
    {
     "data": {
      "text/html": [
       "<h3>Cluster 31.10</h3>"
      ],
      "text/plain": [
       "<IPython.core.display.HTML object>"
      ]
     },
     "metadata": {},
     "output_type": "display_data"
    },
    {
     "data": {
      "text/plain": [
       "3"
      ]
     },
     "metadata": {},
     "output_type": "display_data"
    },
    {
     "data": {
      "text/plain": [
       "Index(['30130_raw-Monocyte_count', '30190_raw-Monocyte_percentage',\n",
       "       'monocyte count'],\n",
       "      dtype='object')"
      ]
     },
     "metadata": {},
     "output_type": "display_data"
    },
    {
     "data": {
      "text/html": [
       "<h3>Cluster 31.11</h3>"
      ],
      "text/plain": [
       "<IPython.core.display.HTML object>"
      ]
     },
     "metadata": {},
     "output_type": "display_data"
    },
    {
     "data": {
      "text/plain": [
       "12"
      ]
     },
     "metadata": {},
     "output_type": "display_data"
    },
    {
     "data": {
      "text/plain": [
       "Index(['3144_raw-Heel_Broadband_ultrasound_attenuation_direct_entry',\n",
       "       '3147_raw-Heel_quantitative_ultrasound_index_QUI_direct_entry',\n",
       "       '3148_raw-Heel_bone_mineral_density_BMD',\n",
       "       '4101_raw-Heel_broadband_ultrasound_attenuation_left',\n",
       "       '4104_raw-Heel_quantitative_ultrasound_index_QUI_direct_entry_left',\n",
       "       '4105_raw-Heel_bone_mineral_density_BMD_left',\n",
       "       '4106_raw-Heel_bone_mineral_density_BMD_Tscore_automated_left',\n",
       "       '4120_raw-Heel_broadband_ultrasound_attenuation_right',\n",
       "       '4123_raw-Heel_quantitative_ultrasound_index_QUI_direct_entry_right',\n",
       "       '4124_raw-Heel_bone_mineral_density_BMD_right',\n",
       "       '4125_raw-Heel_bone_mineral_density_BMD_Tscore_automated_right',\n",
       "       '78_raw-Heel_bone_mineral_density_BMD_Tscore_automated'],\n",
       "      dtype='object')"
      ]
     },
     "metadata": {},
     "output_type": "display_data"
    },
    {
     "data": {
      "text/html": [
       "<h3>Cluster 31.12</h3>"
      ],
      "text/plain": [
       "<IPython.core.display.HTML object>"
      ]
     },
     "metadata": {},
     "output_type": "display_data"
    },
    {
     "data": {
      "text/plain": [
       "5"
      ]
     },
     "metadata": {},
     "output_type": "display_data"
    },
    {
     "data": {
      "text/plain": [
       "Index(['4079_raw-Diastolic_blood_pressure_automated_reading',\n",
       "       '4080_raw-Systolic_blood_pressure_automated_reading',\n",
       "       '6150_100-Vascularheart_problems_diagnosed_by_doctor_None_of_the_above',\n",
       "       '6150_4-Vascularheart_problems_diagnosed_by_doctor_High_blood_pressure',\n",
       "       'hypertension'],\n",
       "      dtype='object')"
      ]
     },
     "metadata": {},
     "output_type": "display_data"
    },
    {
     "data": {
      "text/html": [
       "<h3>Cluster 31.13</h3>"
      ],
      "text/plain": [
       "<IPython.core.display.HTML object>"
      ]
     },
     "metadata": {},
     "output_type": "display_data"
    },
    {
     "data": {
      "text/plain": [
       "6"
      ]
     },
     "metadata": {},
     "output_type": "display_data"
    },
    {
     "data": {
      "text/plain": [
       "Index(['30240_raw-Reticulocyte_percentage', '30250_raw-Reticulocyte_count',\n",
       "       '30280_raw-Immature_reticulocyte_fraction',\n",
       "       '30290_raw-High_light_scatter_reticulocyte_percentage',\n",
       "       '30300_raw-High_light_scatter_reticulocyte_count',\n",
       "       'reticulocyte count'],\n",
       "      dtype='object')"
      ]
     },
     "metadata": {},
     "output_type": "display_data"
    },
    {
     "data": {
      "text/html": [
       "<h3>Cluster 31.14</h3>"
      ],
      "text/plain": [
       "<IPython.core.display.HTML object>"
      ]
     },
     "metadata": {},
     "output_type": "display_data"
    },
    {
     "data": {
      "text/plain": [
       "18"
      ]
     },
     "metadata": {},
     "output_type": "display_data"
    },
    {
     "data": {
      "text/plain": [
       "Index(['21001_raw-Body_mass_index_BMI', '21002_raw-Weight', '23098_raw-Weight',\n",
       "       '23099_raw-Body_fat_percentage', '23100_raw-Whole_body_fat_mass',\n",
       "       '23104_raw-Body_mass_index_BMI', '23111_raw-Leg_fat_percentage_right',\n",
       "       '23112_raw-Leg_fat_mass_right', '23115_raw-Leg_fat_percentage_left',\n",
       "       '23116_raw-Leg_fat_mass_left', '23119_raw-Arm_fat_percentage_right',\n",
       "       '23120_raw-Arm_fat_mass_right', '23123_raw-Arm_fat_percentage_left',\n",
       "       '23124_raw-Arm_fat_mass_left', '23127_raw-Trunk_fat_percentage',\n",
       "       '23128_raw-Trunk_fat_mass', '48_raw-Waist_circumference',\n",
       "       '49_raw-Hip_circumference'],\n",
       "      dtype='object')"
      ]
     },
     "metadata": {},
     "output_type": "display_data"
    },
    {
     "data": {
      "text/html": [
       "<h3>Cluster 31.15</h3>"
      ],
      "text/plain": [
       "<IPython.core.display.HTML object>"
      ]
     },
     "metadata": {},
     "output_type": "display_data"
    },
    {
     "data": {
      "text/plain": [
       "4"
      ]
     },
     "metadata": {},
     "output_type": "display_data"
    },
    {
     "data": {
      "text/plain": [
       "Index(['20150_raw-Forced_expiratory_volume_in_1second_FEV1_Best_measure',\n",
       "       '20151_raw-Forced_vital_capacity_FVC_Best_measure',\n",
       "       '3062_raw-Forced_vital_capacity_FVC',\n",
       "       '3063_raw-Forced_expiratory_volume_in_1second_FEV1'],\n",
       "      dtype='object')"
      ]
     },
     "metadata": {},
     "output_type": "display_data"
    },
    {
     "data": {
      "text/html": [
       "<h3>Cluster 31.16</h3>"
      ],
      "text/plain": [
       "<IPython.core.display.HTML object>"
      ]
     },
     "metadata": {},
     "output_type": "display_data"
    },
    {
     "data": {
      "text/plain": [
       "2"
      ]
     },
     "metadata": {},
     "output_type": "display_data"
    },
    {
     "data": {
      "text/plain": [
       "Index(['30180_raw-Lymphocyte_percentage', '30200_raw-Neutrophill_percentage'], dtype='object')"
      ]
     },
     "metadata": {},
     "output_type": "display_data"
    },
    {
     "data": {
      "text/html": [
       "<h3>Cluster 31.17</h3>"
      ],
      "text/plain": [
       "<IPython.core.display.HTML object>"
      ]
     },
     "metadata": {},
     "output_type": "display_data"
    },
    {
     "data": {
      "text/plain": [
       "8"
      ]
     },
     "metadata": {},
     "output_type": "display_data"
    },
    {
     "data": {
      "text/plain": [
       "Index(['20003_1141191044-Treatmentmedication_code_levothyroxine_sodium',\n",
       "       'K11_COELIAC-Coeliac_disease', 'celiac disease',\n",
       "       'hypothyroidism AND myxedema', 'malabsorption syndrome', 'psoriasis',\n",
       "       'rheumatoid arthritis', 'systemic lupus erythematosus'],\n",
       "      dtype='object')"
      ]
     },
     "metadata": {},
     "output_type": "display_data"
    },
    {
     "data": {
      "text/html": [
       "<h3>Cluster 31.18</h3>"
      ],
      "text/plain": [
       "<IPython.core.display.HTML object>"
      ]
     },
     "metadata": {},
     "output_type": "display_data"
    },
    {
     "data": {
      "text/plain": [
       "8"
      ]
     },
     "metadata": {},
     "output_type": "display_data"
    },
    {
     "data": {
      "text/plain": [
       "Index(['1717-Skin_colour', '1727-Ease_of_skin_tanning',\n",
       "       '1737-Childhood_sunburn_occasions',\n",
       "       '1747_1-Hair_colour_natural_before_greying_Blonde',\n",
       "       '1747_2-Hair_colour_natural_before_greying_Red',\n",
       "       '1747_3-Hair_colour_natural_before_greying_Light_brown',\n",
       "       '1747_4-Hair_colour_natural_before_greying_Dark_brown',\n",
       "       '1747_5-Hair_colour_natural_before_greying_Black'],\n",
       "      dtype='object')"
      ]
     },
     "metadata": {},
     "output_type": "display_data"
    },
    {
     "data": {
      "text/html": [
       "<h3>Cluster 31.19</h3>"
      ],
      "text/plain": [
       "<IPython.core.display.HTML object>"
      ]
     },
     "metadata": {},
     "output_type": "display_data"
    },
    {
     "data": {
      "text/plain": [
       "19"
      ]
     },
     "metadata": {},
     "output_type": "display_data"
    },
    {
     "data": {
      "text/plain": [
       "Index(['100001_raw-Food_weight', '100002_raw-Energy', '100003_raw-Protein',\n",
       "       '100004_raw-Fat', '100005_raw-Carbohydrate', '100006_raw-Saturated_fat',\n",
       "       '100007_raw-Polyunsaturated_fat', '100008_raw-Total_sugars',\n",
       "       '100009_raw-Englyst_dietary_fibre', '100011_raw-Iron',\n",
       "       '100012_raw-Vitamin_B6', '100014_raw-Folate', '100015_raw-Vitamin_C',\n",
       "       '100016_raw-Potassium', '100017_raw-Magnesium', '100019_raw-Carotene',\n",
       "       '100023_raw-Starch', '100024_raw-Calcium', '100025_raw-Vitamin_E'],\n",
       "      dtype='object')"
      ]
     },
     "metadata": {},
     "output_type": "display_data"
    },
    {
     "data": {
      "text/html": [
       "<h3>Cluster 31.20</h3>"
      ],
      "text/plain": [
       "<IPython.core.display.HTML object>"
      ]
     },
     "metadata": {},
     "output_type": "display_data"
    },
    {
     "data": {
      "text/plain": [
       "1"
      ]
     },
     "metadata": {},
     "output_type": "display_data"
    },
    {
     "data": {
      "text/plain": [
       "Index(['20153_raw-Forced_expiratory_volume_in_1second_FEV1_predicted'], dtype='object')"
      ]
     },
     "metadata": {},
     "output_type": "display_data"
    },
    {
     "data": {
      "text/html": [
       "<h3>Cluster 31.21</h3>"
      ],
      "text/plain": [
       "<IPython.core.display.HTML object>"
      ]
     },
     "metadata": {},
     "output_type": "display_data"
    },
    {
     "data": {
      "text/plain": [
       "120"
      ]
     },
     "metadata": {},
     "output_type": "display_data"
    },
    {
     "data": {
      "text/plain": [
       "Index(['20074_raw-Home_location_at_assessment_east_coordinate_rounded',\n",
       "       '20075_raw-Home_location_at_assessment_north_coordinate_rounded',\n",
       "       '20118_11-Home_area_population_density_urban_or_rural_Scotland_Large_Urban_Area',\n",
       "       '22704_raw-Home_location_north_coordinate_rounded',\n",
       "       '30220_raw-Basophill_percentage', 'abdominal injury',\n",
       "       'abnormal delivery', 'alcohol dependence', 'appendicitis', 'arthritis',\n",
       "       ...\n",
       "       'tongue neoplasm', 'transient ischemic attack', 'tuberculosis',\n",
       "       'type ii diabetes mellitus', 'ulcerative colitis',\n",
       "       'urogenital neoplasm', 'urticaria', 'vascular disease', 'vasculitis',\n",
       "       'wrist fracture'],\n",
       "      dtype='object', length=120)"
      ]
     },
     "metadata": {},
     "output_type": "display_data"
    },
    {
     "data": {
      "text/html": [
       "<h3>Cluster 31.22</h3>"
      ],
      "text/plain": [
       "<IPython.core.display.HTML object>"
      ]
     },
     "metadata": {},
     "output_type": "display_data"
    },
    {
     "data": {
      "text/plain": [
       "12"
      ]
     },
     "metadata": {},
     "output_type": "display_data"
    },
    {
     "data": {
      "text/plain": [
       "Index(['102_raw-Pulse_rate_automated_reading', '30120_raw-Lymphocyte_count',\n",
       "       '3064_raw-Peak_expiratory_flow_PEF',\n",
       "       '4100_raw-Ankle_spacing_width_left',\n",
       "       '4119_raw-Ankle_spacing_width_right', '46_raw-Hand_grip_strength_left',\n",
       "       '47_raw-Hand_grip_strength_right',\n",
       "       '6152_100-Blood_clot_DVT_bronchitis_emphysema_asthma_rhinitis_eczema_allergy_diagnosed_by_doctor_None_of_the_above',\n",
       "       '6152_8-Blood_clot_DVT_bronchitis_emphysema_asthma_rhinitis_eczema_allergy_diagnosed_by_doctor_Asthma',\n",
       "       '6152_9-Blood_clot_DVT_bronchitis_emphysema_asthma_rhinitis_eczema_allergy_diagnosed_by_doctor_Hayfever_allergic_rhinitis_or_eczema',\n",
       "       'asthma', 'comparative body size at age 10, self-reported'],\n",
       "      dtype='object')"
      ]
     },
     "metadata": {},
     "output_type": "display_data"
    },
    {
     "data": {
      "text/html": [
       "<h3>Cluster 31.23</h3>"
      ],
      "text/plain": [
       "<IPython.core.display.HTML object>"
      ]
     },
     "metadata": {},
     "output_type": "display_data"
    },
    {
     "data": {
      "text/plain": [
       "18"
      ]
     },
     "metadata": {},
     "output_type": "display_data"
    },
    {
     "data": {
      "text/plain": [
       "Index(['1050-Time_spend_outdoors_in_summer',\n",
       "       '1070-Time_spent_watching_television_TV', '1448_1-Bread_type_White',\n",
       "       '1448_3-Bread_type_Wholemeal_or_wholegrain',\n",
       "       '20016_raw-Fluid_intelligence_score',\n",
       "       '2139_raw-Age_first_had_sexual_intercourse',\n",
       "       '22501_raw-Year_ended_full_time_education',\n",
       "       '2754_raw-Age_at_first_live_birth',\n",
       "       '6138_1-Qualifications_College_or_University_degree',\n",
       "       '6138_100-Qualifications_None_of_the_above',\n",
       "       '6138_2-Qualifications_A_levelsAS_levels_or_equivalent',\n",
       "       '6138_3-Qualifications_O_levelsGCSEs_or_equivalent',\n",
       "       '738-Average_total_household_income_before_tax',\n",
       "       '806-Job_involves_mainly_walking_or_standing',\n",
       "       '816-Job_involves_heavy_manual_or_physical_work',\n",
       "       'SSGAC_Education_Years_Pooled', 'schizophrenia',\n",
       "       'self reported educational attainment'],\n",
       "      dtype='object')"
      ]
     },
     "metadata": {},
     "output_type": "display_data"
    },
    {
     "data": {
      "text/html": [
       "<h3>Cluster 31.24</h3>"
      ],
      "text/plain": [
       "<IPython.core.display.HTML object>"
      ]
     },
     "metadata": {},
     "output_type": "display_data"
    },
    {
     "data": {
      "text/plain": [
       "24"
      ]
     },
     "metadata": {},
     "output_type": "display_data"
    },
    {
     "data": {
      "text/plain": [
       "Index(['20003_1140861958-Treatmentmedication_code_simvastatin',\n",
       "       '20003_1140868226-Treatmentmedication_code_aspirin',\n",
       "       '20003_1141194794-Treatmentmedication_code_bendroflumethiazide',\n",
       "       '6150_1-Vascularheart_problems_diagnosed_by_doctor_Heart_attack',\n",
       "       '6150_2-Vascularheart_problems_diagnosed_by_doctor_Angina',\n",
       "       '6153_1-Medication_for_cholesterol_blood_pressure_diabetes_or_take_exogenous_hormones_Cholesterol_lowering_medication',\n",
       "       '6153_100-Medication_for_cholesterol_blood_pressure_diabetes_or_take_exogenous_hormones_None_of_the_above',\n",
       "       '6154_1-Medication_for_pain_relief_constipation_heartburn_Aspirin',\n",
       "       '6177_1-Medication_for_cholesterol_blood_pressure_or_diabetes_Cholesterol_lowering_medication',\n",
       "       '6177_100-Medication_for_cholesterol_blood_pressure_or_diabetes_None_of_the_above',\n",
       "       'I9_CHD-Major_coronary_heart_disease_event',\n",
       "       'I9_CHD_NOREV-Major_coronary_heart_disease_event_excluding_revascularizations',\n",
       "       'I9_CORATHER-Coronary_atherosclerosis',\n",
       "       'I9_IHD-Ischaemic_heart_disease_wide_definition',\n",
       "       'I9_MI-Myocardial_infarction',\n",
       "       'I9_MI_STRICT-Myocardial_infarction_strict',\n",
       "       'IX_CIRCULATORY-Diseases_of_the_circulatory_system',\n",
       "       'acute myocardial infarction', 'angina pectoris',\n",
       "       'coronary artery disease', 'hypercholesterolemia',\n",
       "       'myocardial infarction',\n",
       "       'number of non-cancer illnesses, self-reported',\n",
       "       'number of treatments or medications taken, self-reported'],\n",
       "      dtype='object')"
      ]
     },
     "metadata": {},
     "output_type": "display_data"
    },
    {
     "data": {
      "text/html": [
       "<h3>Cluster 31.25</h3>"
      ],
      "text/plain": [
       "<IPython.core.display.HTML object>"
      ]
     },
     "metadata": {},
     "output_type": "display_data"
    },
    {
     "data": {
      "text/plain": [
       "36"
      ]
     },
     "metadata": {},
     "output_type": "display_data"
    },
    {
     "data": {
      "text/plain": [
       "Index(['20421-Ever_felt_worried_tense_or_anxious_for_most_of_a_month_or_longer',\n",
       "       '20425-Ever_worried_more_than_most_people_would_in_similar_situation',\n",
       "       '20441-Ever_had_prolonged_loss_of_interest_in_normal_activities',\n",
       "       '20446-Ever_had_prolonged_feelings_of_sadness_or_depression',\n",
       "       '20458-General_happiness', '20459-General_happiness_with_own_health',\n",
       "       '20460-Belief_that_own_life_is_meaningful',\n",
       "       '20479-Ever_thought_that_life_not_worth_living',\n",
       "       '20485-Ever_contemplated_selfharm',\n",
       "       '20494-Felt_irritable_or_had_angry_outbursts_in_past_month',\n",
       "       '20495-Avoided_activities_or_situations_because_of_previous_stressful_experience_in_past_month',\n",
       "       '20496-Felt_distant_from_other_people_in_past_month',\n",
       "       '20497-Repeated_disturbing_thoughts_of_stressful_experience_in_past_month',\n",
       "       '20498-Felt_very_upset_when_reminded_of_stressful_experience_in_past_month',\n",
       "       '20499-Ever_sought_or_received_professional_help_for_mental_distress',\n",
       "       '20500-Ever_suffered_mental_distress_preventing_usual_activities',\n",
       "       '20505-Recent_easy_annoyance_or_irritability',\n",
       "       '20506-Recent_feelings_or_nervousness_or_anxiety',\n",
       "       '20507-Recent_feelings_of_inadequacy',\n",
       "       '20508-Recent_trouble_concentrating_on_things',\n",
       "       '20509-Recent_inability_to_stop_or_control_worrying',\n",
       "       '20510-Recent_feelings_of_depression',\n",
       "       '20511-Recent_poor_appetite_or_overeating',\n",
       "       '20512-Recent_feelings_of_foreboding',\n",
       "       '20513-Recent_thoughts_of_suicide_or_selfharm',\n",
       "       '20514-Recent_lack_of_interest_or_pleasure_in_doing_things',\n",
       "       '20515-Recent_trouble_relaxing', '20516-Recent_restlessness',\n",
       "       '20517-Trouble_falling_or_staying_asleep_or_sleeping_too_much',\n",
       "       '20519-Recent_feelings_of_tiredness_or_low_energy',\n",
       "       '20520-Recent_worrying_too_much_about_different_things',\n",
       "       '20544_11-Mental_health_problems_ever_diagnosed_by_a_professional_Depression',\n",
       "       '20546_3-Substances_taken_for_depression_Medication_prescribed_to_you_for_at_least_two_weeks',\n",
       "       '20547_1-Activities_undertaken_to_treat_depression_Talking_therapies_such_as_psychotherapy_counselling_group_therapy_or_CBT',\n",
       "       '20549_3-Substances_taken_for_anxiety_Medication_prescribed_to_you_for_at_least_two_weeks',\n",
       "       'seeing a psychiatrist for nerves, anxiety, tension or depression, self-reported'],\n",
       "      dtype='object')"
      ]
     },
     "metadata": {},
     "output_type": "display_data"
    },
    {
     "data": {
      "text/html": [
       "<h3>Cluster 31.26</h3>"
      ],
      "text/plain": [
       "<IPython.core.display.HTML object>"
      ]
     },
     "metadata": {},
     "output_type": "display_data"
    },
    {
     "data": {
      "text/plain": [
       "45"
      ]
     },
     "metadata": {},
     "output_type": "display_data"
    },
    {
     "data": {
      "text/plain": [
       "Index(['1110-Length_of_mobile_phone_use', '1299-Salad_raw_vegetable_intake',\n",
       "       '1309-Fresh_fruit_intake', '1329-Oily_fish_intake',\n",
       "       '1349-Processed_meat_intake', '1408-Cheese_intake',\n",
       "       '1458-Cereal_intake',\n",
       "       '1508_3-Coffee_type_Ground_coffee_include_espresso_filter_etc',\n",
       "       '1618-Alcohol_usually_taken_with_meals',\n",
       "       '1787-Maternal_smoking_around_birth',\n",
       "       '20003_2038460150-Treatmentmedication_code_paracetamol',\n",
       "       '20023_raw-Mean_time_to_correctly_identify_matches',\n",
       "       '20116_0-Smoking_status_Never', '20116_1-Smoking_status_Previous',\n",
       "       '20116_2-Smoking_status_Current', '20127_raw-Neuroticism_score',\n",
       "       '20160-Ever_smoked',\n",
       "       '2070-Frequency_of_tenseness_restlessness_in_last_2_weeks',\n",
       "       '2149-Lifetime_number_of_sexual_partners',\n",
       "       '2267-Use_of_sunuv_protection',\n",
       "       '2492-Taking_other_prescription_medications',\n",
       "       '30510_raw-Creatinine_enzymatic_in_urine',\n",
       "       '404_raw-Duration_to_first_press_of_snapbutton_in_each_round',\n",
       "       '6144_5-Never_eat_eggs_dairy_wheat_sugar_I_eat_all_of_the_above',\n",
       "       '6149_6-Mouthteeth_dental_problems_Dentures',\n",
       "       '6154_100-Medication_for_pain_relief_constipation_heartburn_None_of_the_above',\n",
       "       '6154_3-Medication_for_pain_relief_constipation_heartburn_Paracetamol',\n",
       "       '6159_1-Pain_types_experienced_in_last_month_Headache',\n",
       "       '6159_100-Pain_types_experienced_in_last_month_None_of_the_above',\n",
       "       '6164_1-Types_of_physical_activity_in_last_4_weeks_Walking_for_pleasure_not_as_a_means_of_transport',\n",
       "       '6164_2-Types_of_physical_activity_in_last_4_weeks_Other_exercises_eg_swimming_cycling_keep_fit_bowling',\n",
       "       '943-Frequency_of_stair_climbing_in_last_4_weeks',\n",
       "       'alcohol consumption measurement', 'anxiety', 'chronic disease',\n",
       "       'feeling tense measurement', 'irritability', 'mood swings',\n",
       "       'nervousness',\n",
       "       'seeing a general practitioner for nerves, anxiety, tension or depression, self-reported',\n",
       "       'self rated health', 'smoking behavior', 'smoking cessation',\n",
       "       'tiredness measurement', 'worry measurement'],\n",
       "      dtype='object')"
      ]
     },
     "metadata": {},
     "output_type": "display_data"
    },
    {
     "data": {
      "text/html": [
       "<h3>Cluster 31.27</h3>"
      ],
      "text/plain": [
       "<IPython.core.display.HTML object>"
      ]
     },
     "metadata": {},
     "output_type": "display_data"
    },
    {
     "data": {
      "text/plain": [
       "30"
      ]
     },
     "metadata": {},
     "output_type": "display_data"
    },
    {
     "data": {
      "text/plain": [
       "Index(['1080-Time_spent_using_computer', '1319-Dried_fruit_intake',\n",
       "       '1478-Salt_added_to_food', '1488_raw-Tea_intake',\n",
       "       '1518-Hot_drink_temperature', '1528-Water_intake', '1757-Facial_ageing',\n",
       "       '20022_raw-Birth_weight',\n",
       "       '20154_raw-Forced_expiratory_volume_in_1second_FEV1_predicted_percentage',\n",
       "       '2217_raw-Age_started_wearing_glasses_or_contact_lenses',\n",
       "       '2237-Plays_computer_games',\n",
       "       '30060_raw-Mean_corpuscular_haemoglobin_concentration',\n",
       "       '30530_raw-Sodium_in_urine',\n",
       "       '399_raw-Number_of_incorrect_matches_in_round',\n",
       "       '400_raw-Time_to_complete_round', '4194_raw-Pulse_rate',\n",
       "       '5084_raw-Spherical_power_right', '5085_raw-Spherical_power_left',\n",
       "       '924-Usual_walking_pace', 'age at first facial hair', 'age at menarche',\n",
       "       'chronotype measurement',\n",
       "       'ease of getting up in the morning, self-reported',\n",
       "       'excessive daytime sleepiness measurement AND narcolepsy without cataplexy',\n",
       "       'hearing loss', 'insomnia', 'nap during day, self-reported',\n",
       "       'sleep duration', 'snoring measurement', 'wheezing'],\n",
       "      dtype='object')"
      ]
     },
     "metadata": {},
     "output_type": "display_data"
    },
    {
     "data": {
      "text/html": [
       "<h3>Cluster 31.28</h3>"
      ],
      "text/plain": [
       "<IPython.core.display.HTML object>"
      ]
     },
     "metadata": {},
     "output_type": "display_data"
    },
    {
     "data": {
      "text/plain": [
       "24"
      ]
     },
     "metadata": {},
     "output_type": "display_data"
    },
    {
     "data": {
      "text/plain": [
       "Index(['129_raw-Place_of_birth_in_UK_north_coordinate',\n",
       "       '130_raw-Place_of_birth_in_UK_east_coordinate',\n",
       "       '2395_1-Hairbalding_pattern_Pattern_1',\n",
       "       '30070_raw-Red_blood_cell_erythrocyte_distribution_width',\n",
       "       'androgenetic alopecia AND balding measurement', 'birth weight',\n",
       "       'bone disease', 'cardiac arrhythmia', 'checkup', 'device complication',\n",
       "       'diabetes mellitus', 'emotional symptom measurement',\n",
       "       'encounter with health service', 'female reproductive system disease',\n",
       "       'head injury', 'inflammatory bowel disease', 'injury', 'joint disease',\n",
       "       'kidney failure', 'leg injury', 'lymphocyte count', 'poisoning',\n",
       "       'pregnancy disorder', 'soft tissue disease'],\n",
       "      dtype='object')"
      ]
     },
     "metadata": {},
     "output_type": "display_data"
    },
    {
     "data": {
      "text/html": [
       "<h3>Cluster 31.29</h3>"
      ],
      "text/plain": [
       "<IPython.core.display.HTML object>"
      ]
     },
     "metadata": {},
     "output_type": "display_data"
    },
    {
     "data": {
      "text/plain": [
       "191"
      ]
     },
     "metadata": {},
     "output_type": "display_data"
    },
    {
     "data": {
      "text/plain": [
       "Index(['1021-Duration_of_light_DIY', '1031-Frequency_of_friendfamily_visits',\n",
       "       '1060-Time_spent_outdoors_in_winter', '1090-Time_spent_driving',\n",
       "       '1100-Drive_faster_than_motorway_speed_limit',\n",
       "       '110001-Invitation_to_complete_online_24hour_recall_dietary_questionnaire_acceptance',\n",
       "       '1120-Weekly_usage_of_mobile_phone_in_last_3_months',\n",
       "       '1130-Handsfree_devicespeakerphone_use_with_mobile_phone_in_last_3_month',\n",
       "       '1289-Cooked_vegetable_intake', '1339-Nonoily_fish_intake',\n",
       "       ...\n",
       "       'migraine disorder', 'mononeuropathy', 'multiple myeloma',\n",
       "       'number of operations, self-reported', 'osteoarthritis',\n",
       "       'osteoarthritis, hip', 'osteoarthritis, knee', 'osteoporosis',\n",
       "       'parkinson's disease', 'varicose veins'],\n",
       "      dtype='object', length=191)"
      ]
     },
     "metadata": {},
     "output_type": "display_data"
    },
    {
     "data": {
      "text/html": [
       "<h3>Cluster 31.30</h3>"
      ],
      "text/plain": [
       "<IPython.core.display.HTML object>"
      ]
     },
     "metadata": {},
     "output_type": "display_data"
    },
    {
     "data": {
      "text/plain": [
       "2"
      ]
     },
     "metadata": {},
     "output_type": "display_data"
    },
    {
     "data": {
      "text/plain": [
       "Index(['6153_2-Medication_for_cholesterol_blood_pressure_diabetes_or_take_exogenous_hormones_Blood_pressure_medication', '6177_2-Medication_for_cholesterol_blood_pressure_or_diabetes_Blood_pressure_medication'], dtype='object')"
      ]
     },
     "metadata": {},
     "output_type": "display_data"
    },
    {
     "data": {
      "text/html": [
       "<h2>Partition with k=32</h2>"
      ],
      "text/plain": [
       "<IPython.core.display.HTML object>"
      ]
     },
     "metadata": {},
     "output_type": "display_data"
    },
    {
     "data": {
      "text/plain": [
       "method                                                 scc_025\n",
       "partition    [25, 25, 25, 25, 25, 25, 25, 25, 25, 22, 25, 2...\n",
       "ami_mean                                              0.287121\n",
       "selected                                                  True\n",
       "Name: 32, dtype: object"
      ]
     },
     "metadata": {},
     "output_type": "display_data"
    },
    {
     "data": {
      "text/plain": [
       "(3749,)"
      ]
     },
     "metadata": {},
     "output_type": "display_data"
    },
    {
     "data": {
      "text/plain": [
       "22    2958\n",
       "0      309\n",
       "23     120\n",
       "28      78\n",
       "18      40\n",
       "27      36\n",
       "26      25\n",
       "29      24\n",
       "25      19\n",
       "24      18\n",
       "6       16\n",
       "7       13\n",
       "19      12\n",
       "16       8\n",
       "10       8\n",
       "3        8\n",
       "14       6\n",
       "12       6\n",
       "8        5\n",
       "17       5\n",
       "2        5\n",
       "4        4\n",
       "11       4\n",
       "15       4\n",
       "5        4\n",
       "1        3\n",
       "13       3\n",
       "30       2\n",
       "20       2\n",
       "9        2\n",
       "21       1\n",
       "31       1\n",
       "dtype: int64"
      ]
     },
     "metadata": {},
     "output_type": "display_data"
    },
    {
     "data": {
      "text/html": [
       "<h3>Cluster 32.0</h3>"
      ],
      "text/plain": [
       "<IPython.core.display.HTML object>"
      ]
     },
     "metadata": {},
     "output_type": "display_data"
    },
    {
     "data": {
      "text/plain": [
       "309"
      ]
     },
     "metadata": {},
     "output_type": "display_data"
    },
    {
     "data": {
      "text/plain": [
       "Index(['1021-Duration_of_light_DIY', '1031-Frequency_of_friendfamily_visits',\n",
       "       '1060-Time_spent_outdoors_in_winter', '1090-Time_spent_driving',\n",
       "       '110001-Invitation_to_complete_online_24hour_recall_dietary_questionnaire_acceptance',\n",
       "       '1120-Weekly_usage_of_mobile_phone_in_last_3_months',\n",
       "       '1130-Handsfree_devicespeakerphone_use_with_mobile_phone_in_last_3_month',\n",
       "       '1150_1-Usual_side_of_head_for_mobile_phone_use_Left',\n",
       "       '1150_2-Usual_side_of_head_for_mobile_phone_use_Right',\n",
       "       '1339-Nonoily_fish_intake',\n",
       "       ...\n",
       "       'shortness of breath', 'skull fractures', 'stroke', 'umbilical hernia',\n",
       "       'unipolar depression', 'uterine prolapse', 'varicose veins',\n",
       "       'venous thromboembolism', 'vertigo',\n",
       "       'wellbeing measurement AND family relationship'],\n",
       "      dtype='object', length=309)"
      ]
     },
     "metadata": {},
     "output_type": "display_data"
    },
    {
     "data": {
      "text/html": [
       "<h3>Cluster 32.1</h3>"
      ],
      "text/plain": [
       "<IPython.core.display.HTML object>"
      ]
     },
     "metadata": {},
     "output_type": "display_data"
    },
    {
     "data": {
      "text/plain": [
       "3"
      ]
     },
     "metadata": {},
     "output_type": "display_data"
    },
    {
     "data": {
      "text/plain": [
       "Index(['20015_raw-Sitting_height', '50_raw-Standing_height', 'body height'], dtype='object')"
      ]
     },
     "metadata": {},
     "output_type": "display_data"
    },
    {
     "data": {
      "text/html": [
       "<h3>Cluster 32.2</h3>"
      ],
      "text/plain": [
       "<IPython.core.display.HTML object>"
      ]
     },
     "metadata": {},
     "output_type": "display_data"
    },
    {
     "data": {
      "text/plain": [
       "5"
      ]
     },
     "metadata": {},
     "output_type": "display_data"
    },
    {
     "data": {
      "text/plain": [
       "Index(['23106_raw-Impedance_of_whole_body', '23107_raw-Impedance_of_leg_right',\n",
       "       '23108_raw-Impedance_of_leg_left', '23109_raw-Impedance_of_arm_right',\n",
       "       '23110_raw-Impedance_of_arm_left'],\n",
       "      dtype='object')"
      ]
     },
     "metadata": {},
     "output_type": "display_data"
    },
    {
     "data": {
      "text/html": [
       "<h3>Cluster 32.3</h3>"
      ],
      "text/plain": [
       "<IPython.core.display.HTML object>"
      ]
     },
     "metadata": {},
     "output_type": "display_data"
    },
    {
     "data": {
      "text/plain": [
       "8"
      ]
     },
     "metadata": {},
     "output_type": "display_data"
    },
    {
     "data": {
      "text/plain": [
       "Index(['5096_raw-3mm_weak_meridian_left', '5097_raw-6mm_weak_meridian_left',\n",
       "       '5098_raw-6mm_weak_meridian_right', '5099_raw-3mm_weak_meridian_right',\n",
       "       '5132_raw-3mm_strong_meridian_right',\n",
       "       '5133_raw-6mm_strong_meridian_right',\n",
       "       '5134_raw-6mm_strong_meridian_left',\n",
       "       '5135_raw-3mm_strong_meridian_left'],\n",
       "      dtype='object')"
      ]
     },
     "metadata": {},
     "output_type": "display_data"
    },
    {
     "data": {
      "text/html": [
       "<h3>Cluster 32.4</h3>"
      ],
      "text/plain": [
       "<IPython.core.display.HTML object>"
      ]
     },
     "metadata": {},
     "output_type": "display_data"
    },
    {
     "data": {
      "text/plain": [
       "4"
      ]
     },
     "metadata": {},
     "output_type": "display_data"
    },
    {
     "data": {
      "text/plain": [
       "Index(['30040_raw-Mean_corpuscular_volume',\n",
       "       '30050_raw-Mean_corpuscular_haemoglobin',\n",
       "       '30260_raw-Mean_reticulocyte_volume',\n",
       "       '30270_raw-Mean_sphered_cell_volume'],\n",
       "      dtype='object')"
      ]
     },
     "metadata": {},
     "output_type": "display_data"
    },
    {
     "data": {
      "text/html": [
       "<h3>Cluster 32.5</h3>"
      ],
      "text/plain": [
       "<IPython.core.display.HTML object>"
      ]
     },
     "metadata": {},
     "output_type": "display_data"
    },
    {
     "data": {
      "text/plain": [
       "4"
      ]
     },
     "metadata": {},
     "output_type": "display_data"
    },
    {
     "data": {
      "text/plain": [
       "Index(['3144_raw-Heel_Broadband_ultrasound_attenuation_direct_entry',\n",
       "       '3147_raw-Heel_quantitative_ultrasound_index_QUI_direct_entry',\n",
       "       '3148_raw-Heel_bone_mineral_density_BMD',\n",
       "       '78_raw-Heel_bone_mineral_density_BMD_Tscore_automated'],\n",
       "      dtype='object')"
      ]
     },
     "metadata": {},
     "output_type": "display_data"
    },
    {
     "data": {
      "text/html": [
       "<h3>Cluster 32.6</h3>"
      ],
      "text/plain": [
       "<IPython.core.display.HTML object>"
      ]
     },
     "metadata": {},
     "output_type": "display_data"
    },
    {
     "data": {
      "text/plain": [
       "16"
      ]
     },
     "metadata": {},
     "output_type": "display_data"
    },
    {
     "data": {
      "text/plain": [
       "Index(['21001_raw-Body_mass_index_BMI', '23099_raw-Body_fat_percentage',\n",
       "       '23100_raw-Whole_body_fat_mass', '23104_raw-Body_mass_index_BMI',\n",
       "       '23111_raw-Leg_fat_percentage_right', '23112_raw-Leg_fat_mass_right',\n",
       "       '23115_raw-Leg_fat_percentage_left', '23116_raw-Leg_fat_mass_left',\n",
       "       '23119_raw-Arm_fat_percentage_right', '23120_raw-Arm_fat_mass_right',\n",
       "       '23123_raw-Arm_fat_percentage_left', '23124_raw-Arm_fat_mass_left',\n",
       "       '23127_raw-Trunk_fat_percentage', '23128_raw-Trunk_fat_mass',\n",
       "       '48_raw-Waist_circumference', '49_raw-Hip_circumference'],\n",
       "      dtype='object')"
      ]
     },
     "metadata": {},
     "output_type": "display_data"
    },
    {
     "data": {
      "text/html": [
       "<h3>Cluster 32.7</h3>"
      ],
      "text/plain": [
       "<IPython.core.display.HTML object>"
      ]
     },
     "metadata": {},
     "output_type": "display_data"
    },
    {
     "data": {
      "text/plain": [
       "13"
      ]
     },
     "metadata": {},
     "output_type": "display_data"
    },
    {
     "data": {
      "text/plain": [
       "Index(['23101_raw-Whole_body_fatfree_mass', '23102_raw-Whole_body_water_mass',\n",
       "       '23105_raw-Basal_metabolic_rate', '23113_raw-Leg_fatfree_mass_right',\n",
       "       '23114_raw-Leg_predicted_mass_right', '23117_raw-Leg_fatfree_mass_left',\n",
       "       '23118_raw-Leg_predicted_mass_left', '23121_raw-Arm_fatfree_mass_right',\n",
       "       '23122_raw-Arm_predicted_mass_right', '23125_raw-Arm_fatfree_mass_left',\n",
       "       '23126_raw-Arm_predicted_mass_left', '23129_raw-Trunk_fatfree_mass',\n",
       "       '23130_raw-Trunk_predicted_mass'],\n",
       "      dtype='object')"
      ]
     },
     "metadata": {},
     "output_type": "display_data"
    },
    {
     "data": {
      "text/html": [
       "<h3>Cluster 32.8</h3>"
      ],
      "text/plain": [
       "<IPython.core.display.HTML object>"
      ]
     },
     "metadata": {},
     "output_type": "display_data"
    },
    {
     "data": {
      "text/plain": [
       "5"
      ]
     },
     "metadata": {},
     "output_type": "display_data"
    },
    {
     "data": {
      "text/plain": [
       "Index(['30080_raw-Platelet_count', '30090_raw-Platelet_crit',\n",
       "       '30100_raw-Mean_platelet_thrombocyte_volume',\n",
       "       '30110_raw-Platelet_distribution_width', 'platelet count'],\n",
       "      dtype='object')"
      ]
     },
     "metadata": {},
     "output_type": "display_data"
    },
    {
     "data": {
      "text/html": [
       "<h3>Cluster 32.9</h3>"
      ],
      "text/plain": [
       "<IPython.core.display.HTML object>"
      ]
     },
     "metadata": {},
     "output_type": "display_data"
    },
    {
     "data": {
      "text/plain": [
       "2"
      ]
     },
     "metadata": {},
     "output_type": "display_data"
    },
    {
     "data": {
      "text/plain": [
       "Index(['30150-Eosinophill_count', '30210_raw-Eosinophill_percentage'], dtype='object')"
      ]
     },
     "metadata": {},
     "output_type": "display_data"
    },
    {
     "data": {
      "text/html": [
       "<h3>Cluster 32.10</h3>"
      ],
      "text/plain": [
       "<IPython.core.display.HTML object>"
      ]
     },
     "metadata": {},
     "output_type": "display_data"
    },
    {
     "data": {
      "text/plain": [
       "8"
      ]
     },
     "metadata": {},
     "output_type": "display_data"
    },
    {
     "data": {
      "text/plain": [
       "Index(['4101_raw-Heel_broadband_ultrasound_attenuation_left',\n",
       "       '4104_raw-Heel_quantitative_ultrasound_index_QUI_direct_entry_left',\n",
       "       '4105_raw-Heel_bone_mineral_density_BMD_left',\n",
       "       '4106_raw-Heel_bone_mineral_density_BMD_Tscore_automated_left',\n",
       "       '4120_raw-Heel_broadband_ultrasound_attenuation_right',\n",
       "       '4123_raw-Heel_quantitative_ultrasound_index_QUI_direct_entry_right',\n",
       "       '4124_raw-Heel_bone_mineral_density_BMD_right',\n",
       "       '4125_raw-Heel_bone_mineral_density_BMD_Tscore_automated_right'],\n",
       "      dtype='object')"
      ]
     },
     "metadata": {},
     "output_type": "display_data"
    },
    {
     "data": {
      "text/html": [
       "<h3>Cluster 32.11</h3>"
      ],
      "text/plain": [
       "<IPython.core.display.HTML object>"
      ]
     },
     "metadata": {},
     "output_type": "display_data"
    },
    {
     "data": {
      "text/plain": [
       "4"
      ]
     },
     "metadata": {},
     "output_type": "display_data"
    },
    {
     "data": {
      "text/plain": [
       "Index(['30010_raw-Red_blood_cell_erythrocyte_count',\n",
       "       '30020_raw-Haemoglobin_concentration',\n",
       "       '30030_raw-Haematocrit_percentage', 'erythrocyte count'],\n",
       "      dtype='object')"
      ]
     },
     "metadata": {},
     "output_type": "display_data"
    },
    {
     "data": {
      "text/html": [
       "<h3>Cluster 32.12</h3>"
      ],
      "text/plain": [
       "<IPython.core.display.HTML object>"
      ]
     },
     "metadata": {},
     "output_type": "display_data"
    },
    {
     "data": {
      "text/plain": [
       "6"
      ]
     },
     "metadata": {},
     "output_type": "display_data"
    },
    {
     "data": {
      "text/plain": [
       "Index(['30000_raw-White_blood_cell_leukocyte_count',\n",
       "       '30140_raw-Neutrophill_count', 'granulocyte count', 'leukocyte count',\n",
       "       'myeloid white cell count', 'neutrophil count'],\n",
       "      dtype='object')"
      ]
     },
     "metadata": {},
     "output_type": "display_data"
    },
    {
     "data": {
      "text/html": [
       "<h3>Cluster 32.13</h3>"
      ],
      "text/plain": [
       "<IPython.core.display.HTML object>"
      ]
     },
     "metadata": {},
     "output_type": "display_data"
    },
    {
     "data": {
      "text/plain": [
       "3"
      ]
     },
     "metadata": {},
     "output_type": "display_data"
    },
    {
     "data": {
      "text/plain": [
       "Index(['30130_raw-Monocyte_count', '30190_raw-Monocyte_percentage',\n",
       "       'monocyte count'],\n",
       "      dtype='object')"
      ]
     },
     "metadata": {},
     "output_type": "display_data"
    },
    {
     "data": {
      "text/html": [
       "<h3>Cluster 32.14</h3>"
      ],
      "text/plain": [
       "<IPython.core.display.HTML object>"
      ]
     },
     "metadata": {},
     "output_type": "display_data"
    },
    {
     "data": {
      "text/plain": [
       "6"
      ]
     },
     "metadata": {},
     "output_type": "display_data"
    },
    {
     "data": {
      "text/plain": [
       "Index(['30240_raw-Reticulocyte_percentage', '30250_raw-Reticulocyte_count',\n",
       "       '30280_raw-Immature_reticulocyte_fraction',\n",
       "       '30290_raw-High_light_scatter_reticulocyte_percentage',\n",
       "       '30300_raw-High_light_scatter_reticulocyte_count',\n",
       "       'reticulocyte count'],\n",
       "      dtype='object')"
      ]
     },
     "metadata": {},
     "output_type": "display_data"
    },
    {
     "data": {
      "text/html": [
       "<h3>Cluster 32.15</h3>"
      ],
      "text/plain": [
       "<IPython.core.display.HTML object>"
      ]
     },
     "metadata": {},
     "output_type": "display_data"
    },
    {
     "data": {
      "text/plain": [
       "4"
      ]
     },
     "metadata": {},
     "output_type": "display_data"
    },
    {
     "data": {
      "text/plain": [
       "Index(['20150_raw-Forced_expiratory_volume_in_1second_FEV1_Best_measure',\n",
       "       '20151_raw-Forced_vital_capacity_FVC_Best_measure',\n",
       "       '3062_raw-Forced_vital_capacity_FVC',\n",
       "       '3063_raw-Forced_expiratory_volume_in_1second_FEV1'],\n",
       "      dtype='object')"
      ]
     },
     "metadata": {},
     "output_type": "display_data"
    },
    {
     "data": {
      "text/html": [
       "<h3>Cluster 32.16</h3>"
      ],
      "text/plain": [
       "<IPython.core.display.HTML object>"
      ]
     },
     "metadata": {},
     "output_type": "display_data"
    },
    {
     "data": {
      "text/plain": [
       "8"
      ]
     },
     "metadata": {},
     "output_type": "display_data"
    },
    {
     "data": {
      "text/plain": [
       "Index(['1717-Skin_colour', '1727-Ease_of_skin_tanning',\n",
       "       '1737-Childhood_sunburn_occasions',\n",
       "       '1747_1-Hair_colour_natural_before_greying_Blonde',\n",
       "       '1747_2-Hair_colour_natural_before_greying_Red',\n",
       "       '1747_3-Hair_colour_natural_before_greying_Light_brown',\n",
       "       '1747_4-Hair_colour_natural_before_greying_Dark_brown',\n",
       "       '1747_5-Hair_colour_natural_before_greying_Black'],\n",
       "      dtype='object')"
      ]
     },
     "metadata": {},
     "output_type": "display_data"
    },
    {
     "data": {
      "text/html": [
       "<h3>Cluster 32.17</h3>"
      ],
      "text/plain": [
       "<IPython.core.display.HTML object>"
      ]
     },
     "metadata": {},
     "output_type": "display_data"
    },
    {
     "data": {
      "text/plain": [
       "5"
      ]
     },
     "metadata": {},
     "output_type": "display_data"
    },
    {
     "data": {
      "text/plain": [
       "Index(['4079_raw-Diastolic_blood_pressure_automated_reading',\n",
       "       '4080_raw-Systolic_blood_pressure_automated_reading',\n",
       "       '6150_100-Vascularheart_problems_diagnosed_by_doctor_None_of_the_above',\n",
       "       '6150_4-Vascularheart_problems_diagnosed_by_doctor_High_blood_pressure',\n",
       "       'hypertension'],\n",
       "      dtype='object')"
      ]
     },
     "metadata": {},
     "output_type": "display_data"
    },
    {
     "data": {
      "text/html": [
       "<h3>Cluster 32.18</h3>"
      ],
      "text/plain": [
       "<IPython.core.display.HTML object>"
      ]
     },
     "metadata": {},
     "output_type": "display_data"
    },
    {
     "data": {
      "text/plain": [
       "40"
      ]
     },
     "metadata": {},
     "output_type": "display_data"
    },
    {
     "data": {
      "text/plain": [
       "Index(['102_raw-Pulse_rate_automated_reading',\n",
       "       '1080-Time_spent_using_computer', '1319-Dried_fruit_intake',\n",
       "       '1478-Salt_added_to_food', '1488_raw-Tea_intake',\n",
       "       '1518-Hot_drink_temperature', '1528-Water_intake', '1757-Facial_ageing',\n",
       "       '20022_raw-Birth_weight',\n",
       "       '2217_raw-Age_started_wearing_glasses_or_contact_lenses',\n",
       "       '2237-Plays_computer_games',\n",
       "       '30060_raw-Mean_corpuscular_haemoglobin_concentration',\n",
       "       '30120_raw-Lymphocyte_count', '30530_raw-Sodium_in_urine',\n",
       "       '3064_raw-Peak_expiratory_flow_PEF',\n",
       "       '399_raw-Number_of_incorrect_matches_in_round',\n",
       "       '400_raw-Time_to_complete_round', '4100_raw-Ankle_spacing_width_left',\n",
       "       '4119_raw-Ankle_spacing_width_right', '4194_raw-Pulse_rate',\n",
       "       '46_raw-Hand_grip_strength_left', '47_raw-Hand_grip_strength_right',\n",
       "       '5084_raw-Spherical_power_right', '5085_raw-Spherical_power_left',\n",
       "       '6152_100-Blood_clot_DVT_bronchitis_emphysema_asthma_rhinitis_eczema_allergy_diagnosed_by_doctor_None_of_the_above',\n",
       "       '6152_8-Blood_clot_DVT_bronchitis_emphysema_asthma_rhinitis_eczema_allergy_diagnosed_by_doctor_Asthma',\n",
       "       '6152_9-Blood_clot_DVT_bronchitis_emphysema_asthma_rhinitis_eczema_allergy_diagnosed_by_doctor_Hayfever_allergic_rhinitis_or_eczema',\n",
       "       '924-Usual_walking_pace', 'age at first facial hair', 'age at menarche',\n",
       "       'asthma', 'chronotype measurement',\n",
       "       'comparative body size at age 10, self-reported',\n",
       "       'ease of getting up in the morning, self-reported', 'hearing loss',\n",
       "       'insomnia', 'nap during day, self-reported', 'sleep duration',\n",
       "       'snoring measurement', 'wheezing'],\n",
       "      dtype='object')"
      ]
     },
     "metadata": {},
     "output_type": "display_data"
    },
    {
     "data": {
      "text/html": [
       "<h3>Cluster 32.19</h3>"
      ],
      "text/plain": [
       "<IPython.core.display.HTML object>"
      ]
     },
     "metadata": {},
     "output_type": "display_data"
    },
    {
     "data": {
      "text/plain": [
       "12"
      ]
     },
     "metadata": {},
     "output_type": "display_data"
    },
    {
     "data": {
      "text/plain": [
       "Index(['20003_1140883066-Treatmentmedication_code_insulin_product',\n",
       "       '20003_1141191044-Treatmentmedication_code_levothyroxine_sodium',\n",
       "       '2986-Started_insulin_within_one_year_diagnosis_of_diabetes',\n",
       "       '6144_3-Never_eat_eggs_dairy_wheat_sugar_Wheat_products',\n",
       "       'K11_COELIAC-Coeliac_disease', 'celiac disease',\n",
       "       'hyperthyroidism AND thyrotoxicosis', 'hypothyroidism AND myxedema',\n",
       "       'malabsorption syndrome', 'psoriasis', 'rheumatoid arthritis',\n",
       "       'systemic lupus erythematosus'],\n",
       "      dtype='object')"
      ]
     },
     "metadata": {},
     "output_type": "display_data"
    },
    {
     "data": {
      "text/html": [
       "<h3>Cluster 32.20</h3>"
      ],
      "text/plain": [
       "<IPython.core.display.HTML object>"
      ]
     },
     "metadata": {},
     "output_type": "display_data"
    },
    {
     "data": {
      "text/plain": [
       "2"
      ]
     },
     "metadata": {},
     "output_type": "display_data"
    },
    {
     "data": {
      "text/plain": [
       "Index(['30180_raw-Lymphocyte_percentage', '30200_raw-Neutrophill_percentage'], dtype='object')"
      ]
     },
     "metadata": {},
     "output_type": "display_data"
    },
    {
     "data": {
      "text/html": [
       "<h3>Cluster 32.21</h3>"
      ],
      "text/plain": [
       "<IPython.core.display.HTML object>"
      ]
     },
     "metadata": {},
     "output_type": "display_data"
    },
    {
     "data": {
      "text/plain": [
       "1"
      ]
     },
     "metadata": {},
     "output_type": "display_data"
    },
    {
     "data": {
      "text/plain": [
       "Index(['20153_raw-Forced_expiratory_volume_in_1second_FEV1_predicted'], dtype='object')"
      ]
     },
     "metadata": {},
     "output_type": "display_data"
    },
    {
     "data": {
      "text/html": [
       "<h3>Cluster 32.22</h3>"
      ],
      "text/plain": [
       "<IPython.core.display.HTML object>"
      ]
     },
     "metadata": {},
     "output_type": "display_data"
    },
    {
     "data": {
      "text/plain": [
       "2958"
      ]
     },
     "metadata": {},
     "output_type": "display_data"
    },
    {
     "data": {
      "text/plain": [
       "Index(['100010-Portion_size', '100013_raw-Vitamin_B12', '100018_raw-Retinol',\n",
       "       '100021_raw-Vitamin_D', '100022-Alcohol',\n",
       "       '1001-Duration_of_strenuous_sports', '100150-Drinking_water_intake',\n",
       "       '100160-Low_calorie_drink_intake', '100170-Fizzy_drink_intake',\n",
       "       '100190-Orange_juice_intake',\n",
       "       ...\n",
       "       'vestibular disease', 'viral disease',\n",
       "       'viral human hepatitis infection', 'viral meningitis',\n",
       "       'visual impairment', 'vitiligo', 'vitreous body disease',\n",
       "       'vocal cord polyp', 'voice disorders', 'whooping cough'],\n",
       "      dtype='object', length=2958)"
      ]
     },
     "metadata": {},
     "output_type": "display_data"
    },
    {
     "data": {
      "text/html": [
       "<h3>Cluster 32.23</h3>"
      ],
      "text/plain": [
       "<IPython.core.display.HTML object>"
      ]
     },
     "metadata": {},
     "output_type": "display_data"
    },
    {
     "data": {
      "text/plain": [
       "120"
      ]
     },
     "metadata": {},
     "output_type": "display_data"
    },
    {
     "data": {
      "text/plain": [
       "Index(['20074_raw-Home_location_at_assessment_east_coordinate_rounded',\n",
       "       '20075_raw-Home_location_at_assessment_north_coordinate_rounded',\n",
       "       '20118_11-Home_area_population_density_urban_or_rural_Scotland_Large_Urban_Area',\n",
       "       '22704_raw-Home_location_north_coordinate_rounded',\n",
       "       '30220_raw-Basophill_percentage', 'abdominal injury',\n",
       "       'abnormal delivery', 'alcohol dependence', 'appendicitis', 'arthritis',\n",
       "       ...\n",
       "       'tongue neoplasm', 'transient ischemic attack', 'tuberculosis',\n",
       "       'type ii diabetes mellitus', 'ulcerative colitis',\n",
       "       'urogenital neoplasm', 'urticaria', 'vascular disease', 'vasculitis',\n",
       "       'wrist fracture'],\n",
       "      dtype='object', length=120)"
      ]
     },
     "metadata": {},
     "output_type": "display_data"
    },
    {
     "data": {
      "text/html": [
       "<h3>Cluster 32.24</h3>"
      ],
      "text/plain": [
       "<IPython.core.display.HTML object>"
      ]
     },
     "metadata": {},
     "output_type": "display_data"
    },
    {
     "data": {
      "text/plain": [
       "18"
      ]
     },
     "metadata": {},
     "output_type": "display_data"
    },
    {
     "data": {
      "text/plain": [
       "Index(['1050-Time_spend_outdoors_in_summer',\n",
       "       '1070-Time_spent_watching_television_TV', '1448_1-Bread_type_White',\n",
       "       '1448_3-Bread_type_Wholemeal_or_wholegrain',\n",
       "       '20016_raw-Fluid_intelligence_score',\n",
       "       '2139_raw-Age_first_had_sexual_intercourse',\n",
       "       '22501_raw-Year_ended_full_time_education',\n",
       "       '2754_raw-Age_at_first_live_birth',\n",
       "       '6138_1-Qualifications_College_or_University_degree',\n",
       "       '6138_100-Qualifications_None_of_the_above',\n",
       "       '6138_2-Qualifications_A_levelsAS_levels_or_equivalent',\n",
       "       '6138_3-Qualifications_O_levelsGCSEs_or_equivalent',\n",
       "       '738-Average_total_household_income_before_tax',\n",
       "       '806-Job_involves_mainly_walking_or_standing',\n",
       "       '816-Job_involves_heavy_manual_or_physical_work',\n",
       "       'SSGAC_Education_Years_Pooled', 'schizophrenia',\n",
       "       'self reported educational attainment'],\n",
       "      dtype='object')"
      ]
     },
     "metadata": {},
     "output_type": "display_data"
    },
    {
     "data": {
      "text/html": [
       "<h3>Cluster 32.25</h3>"
      ],
      "text/plain": [
       "<IPython.core.display.HTML object>"
      ]
     },
     "metadata": {},
     "output_type": "display_data"
    },
    {
     "data": {
      "text/plain": [
       "19"
      ]
     },
     "metadata": {},
     "output_type": "display_data"
    },
    {
     "data": {
      "text/plain": [
       "Index(['100001_raw-Food_weight', '100002_raw-Energy', '100003_raw-Protein',\n",
       "       '100004_raw-Fat', '100005_raw-Carbohydrate', '100006_raw-Saturated_fat',\n",
       "       '100007_raw-Polyunsaturated_fat', '100008_raw-Total_sugars',\n",
       "       '100009_raw-Englyst_dietary_fibre', '100011_raw-Iron',\n",
       "       '100012_raw-Vitamin_B6', '100014_raw-Folate', '100015_raw-Vitamin_C',\n",
       "       '100016_raw-Potassium', '100017_raw-Magnesium', '100019_raw-Carotene',\n",
       "       '100023_raw-Starch', '100024_raw-Calcium', '100025_raw-Vitamin_E'],\n",
       "      dtype='object')"
      ]
     },
     "metadata": {},
     "output_type": "display_data"
    },
    {
     "data": {
      "text/html": [
       "<h3>Cluster 32.26</h3>"
      ],
      "text/plain": [
       "<IPython.core.display.HTML object>"
      ]
     },
     "metadata": {},
     "output_type": "display_data"
    },
    {
     "data": {
      "text/plain": [
       "25"
      ]
     },
     "metadata": {},
     "output_type": "display_data"
    },
    {
     "data": {
      "text/plain": [
       "Index(['20003_1140861958-Treatmentmedication_code_simvastatin',\n",
       "       '20003_1140868226-Treatmentmedication_code_aspirin',\n",
       "       '20003_1141194794-Treatmentmedication_code_bendroflumethiazide',\n",
       "       '6150_1-Vascularheart_problems_diagnosed_by_doctor_Heart_attack',\n",
       "       '6150_2-Vascularheart_problems_diagnosed_by_doctor_Angina',\n",
       "       '6153_1-Medication_for_cholesterol_blood_pressure_diabetes_or_take_exogenous_hormones_Cholesterol_lowering_medication',\n",
       "       '6153_100-Medication_for_cholesterol_blood_pressure_diabetes_or_take_exogenous_hormones_None_of_the_above',\n",
       "       '6154_1-Medication_for_pain_relief_constipation_heartburn_Aspirin',\n",
       "       '6177_1-Medication_for_cholesterol_blood_pressure_or_diabetes_Cholesterol_lowering_medication',\n",
       "       '6177_100-Medication_for_cholesterol_blood_pressure_or_diabetes_None_of_the_above',\n",
       "       '6177_2-Medication_for_cholesterol_blood_pressure_or_diabetes_Blood_pressure_medication',\n",
       "       'I9_CHD-Major_coronary_heart_disease_event',\n",
       "       'I9_CHD_NOREV-Major_coronary_heart_disease_event_excluding_revascularizations',\n",
       "       'I9_CORATHER-Coronary_atherosclerosis',\n",
       "       'I9_IHD-Ischaemic_heart_disease_wide_definition',\n",
       "       'I9_MI-Myocardial_infarction',\n",
       "       'I9_MI_STRICT-Myocardial_infarction_strict',\n",
       "       'IX_CIRCULATORY-Diseases_of_the_circulatory_system',\n",
       "       'acute myocardial infarction', 'angina pectoris',\n",
       "       'coronary artery disease', 'hypercholesterolemia',\n",
       "       'myocardial infarction',\n",
       "       'number of non-cancer illnesses, self-reported',\n",
       "       'number of treatments or medications taken, self-reported'],\n",
       "      dtype='object')"
      ]
     },
     "metadata": {},
     "output_type": "display_data"
    },
    {
     "data": {
      "text/html": [
       "<h3>Cluster 32.27</h3>"
      ],
      "text/plain": [
       "<IPython.core.display.HTML object>"
      ]
     },
     "metadata": {},
     "output_type": "display_data"
    },
    {
     "data": {
      "text/plain": [
       "36"
      ]
     },
     "metadata": {},
     "output_type": "display_data"
    },
    {
     "data": {
      "text/plain": [
       "Index(['20421-Ever_felt_worried_tense_or_anxious_for_most_of_a_month_or_longer',\n",
       "       '20425-Ever_worried_more_than_most_people_would_in_similar_situation',\n",
       "       '20441-Ever_had_prolonged_loss_of_interest_in_normal_activities',\n",
       "       '20446-Ever_had_prolonged_feelings_of_sadness_or_depression',\n",
       "       '20458-General_happiness', '20459-General_happiness_with_own_health',\n",
       "       '20460-Belief_that_own_life_is_meaningful',\n",
       "       '20479-Ever_thought_that_life_not_worth_living',\n",
       "       '20485-Ever_contemplated_selfharm',\n",
       "       '20494-Felt_irritable_or_had_angry_outbursts_in_past_month',\n",
       "       '20495-Avoided_activities_or_situations_because_of_previous_stressful_experience_in_past_month',\n",
       "       '20496-Felt_distant_from_other_people_in_past_month',\n",
       "       '20497-Repeated_disturbing_thoughts_of_stressful_experience_in_past_month',\n",
       "       '20498-Felt_very_upset_when_reminded_of_stressful_experience_in_past_month',\n",
       "       '20499-Ever_sought_or_received_professional_help_for_mental_distress',\n",
       "       '20500-Ever_suffered_mental_distress_preventing_usual_activities',\n",
       "       '20505-Recent_easy_annoyance_or_irritability',\n",
       "       '20506-Recent_feelings_or_nervousness_or_anxiety',\n",
       "       '20507-Recent_feelings_of_inadequacy',\n",
       "       '20508-Recent_trouble_concentrating_on_things',\n",
       "       '20509-Recent_inability_to_stop_or_control_worrying',\n",
       "       '20510-Recent_feelings_of_depression',\n",
       "       '20511-Recent_poor_appetite_or_overeating',\n",
       "       '20512-Recent_feelings_of_foreboding',\n",
       "       '20513-Recent_thoughts_of_suicide_or_selfharm',\n",
       "       '20514-Recent_lack_of_interest_or_pleasure_in_doing_things',\n",
       "       '20515-Recent_trouble_relaxing', '20516-Recent_restlessness',\n",
       "       '20517-Trouble_falling_or_staying_asleep_or_sleeping_too_much',\n",
       "       '20519-Recent_feelings_of_tiredness_or_low_energy',\n",
       "       '20520-Recent_worrying_too_much_about_different_things',\n",
       "       '20544_11-Mental_health_problems_ever_diagnosed_by_a_professional_Depression',\n",
       "       '20546_3-Substances_taken_for_depression_Medication_prescribed_to_you_for_at_least_two_weeks',\n",
       "       '20547_1-Activities_undertaken_to_treat_depression_Talking_therapies_such_as_psychotherapy_counselling_group_therapy_or_CBT',\n",
       "       '20549_3-Substances_taken_for_anxiety_Medication_prescribed_to_you_for_at_least_two_weeks',\n",
       "       'seeing a psychiatrist for nerves, anxiety, tension or depression, self-reported'],\n",
       "      dtype='object')"
      ]
     },
     "metadata": {},
     "output_type": "display_data"
    },
    {
     "data": {
      "text/html": [
       "<h3>Cluster 32.28</h3>"
      ],
      "text/plain": [
       "<IPython.core.display.HTML object>"
      ]
     },
     "metadata": {},
     "output_type": "display_data"
    },
    {
     "data": {
      "text/plain": [
       "78"
      ]
     },
     "metadata": {},
     "output_type": "display_data"
    },
    {
     "data": {
      "text/plain": [
       "Index(['1100-Drive_faster_than_motorway_speed_limit',\n",
       "       '1110-Length_of_mobile_phone_use', '1289-Cooked_vegetable_intake',\n",
       "       '1299-Salad_raw_vegetable_intake', '1309-Fresh_fruit_intake',\n",
       "       '1329-Oily_fish_intake', '1349-Processed_meat_intake',\n",
       "       '1369-Beef_intake', '1379-Lambmutton_intake', '1408-Cheese_intake',\n",
       "       '1458-Cereal_intake', '1468_4-Cereal_type_Muesli', '1498-Coffee_intake',\n",
       "       '1508_3-Coffee_type_Ground_coffee_include_espresso_filter_etc',\n",
       "       '1538_0-Major_dietary_changes_in_the_last_5_years_No',\n",
       "       '1548-Variation_in_diet', '1568-Average_weekly_red_wine_intake',\n",
       "       '1618-Alcohol_usually_taken_with_meals',\n",
       "       '1787-Maternal_smoking_around_birth',\n",
       "       '20003_2038460150-Treatmentmedication_code_paracetamol',\n",
       "       '20023_raw-Mean_time_to_correctly_identify_matches',\n",
       "       '20116_0-Smoking_status_Never', '20116_1-Smoking_status_Previous',\n",
       "       '20116_2-Smoking_status_Current', '20127_raw-Neuroticism_score',\n",
       "       '20154_raw-Forced_expiratory_volume_in_1second_FEV1_predicted_percentage',\n",
       "       '20160-Ever_smoked',\n",
       "       '2070-Frequency_of_tenseness_restlessness_in_last_2_weeks',\n",
       "       '2110-Able_to_confide', '2149-Lifetime_number_of_sexual_partners',\n",
       "       '2267-Use_of_sunuv_protection',\n",
       "       '2492-Taking_other_prescription_medications',\n",
       "       '2764_raw-Age_at_last_live_birth',\n",
       "       '30510_raw-Creatinine_enzymatic_in_urine',\n",
       "       '30520_raw-Potassium_in_urine',\n",
       "       '3581_raw-Age_at_menopause_last_menstrual_period',\n",
       "       '404_raw-Duration_to_first_press_of_snapbutton_in_each_round',\n",
       "       '6138_6-Qualifications_Other_professional_qualifications_eg_nursing_teaching',\n",
       "       '6144_4-Never_eat_eggs_dairy_wheat_sugar_Sugar_or_foodsdrinks_containing_sugar',\n",
       "       '6144_5-Never_eat_eggs_dairy_wheat_sugar_I_eat_all_of_the_above',\n",
       "       '6149_100-Mouthteeth_dental_problems_None_of_the_above',\n",
       "       '6149_6-Mouthteeth_dental_problems_Dentures',\n",
       "       '6154_100-Medication_for_pain_relief_constipation_heartburn_None_of_the_above',\n",
       "       '6154_3-Medication_for_pain_relief_constipation_heartburn_Paracetamol',\n",
       "       '6159_1-Pain_types_experienced_in_last_month_Headache',\n",
       "       '6159_100-Pain_types_experienced_in_last_month_None_of_the_above',\n",
       "       '6159_3-Pain_types_experienced_in_last_month_Neck_or_shoulder_pain',\n",
       "       '6159_4-Pain_types_experienced_in_last_month_Back_pain',\n",
       "       '6159_7-Pain_types_experienced_in_last_month_Knee_pain',\n",
       "       '6160_1-Leisuresocial_activities_Sports_club_or_gym',\n",
       "       '6160_100-Leisuresocial_activities_None_of_the_above',\n",
       "       '6160_3-Leisuresocial_activities_Religious_group',\n",
       "       '6162_4-Types_of_transport_used_excluding_work_Cycle',\n",
       "       '6164_1-Types_of_physical_activity_in_last_4_weeks_Walking_for_pleasure_not_as_a_means_of_transport',\n",
       "       '6164_2-Types_of_physical_activity_in_last_4_weeks_Other_exercises_eg_swimming_cycling_keep_fit_bowling',\n",
       "       '6164_4-Types_of_physical_activity_in_last_4_weeks_Light_DIY_eg_pruning_watering_the_lawn',\n",
       "       '680_3-Own_or_rent_accommodation_lived_in_Rent_from_local_authority_local_council_housing_association',\n",
       "       '864-Number_of_daysweek_walked_10_minutes',\n",
       "       '884-Number_of_daysweek_of_moderate_physical_activity_10_minutes',\n",
       "       '904-Number_of_daysweek_of_vigorous_physical_activity_10_minutes',\n",
       "       '943-Frequency_of_stair_climbing_in_last_4_weeks',\n",
       "       'XIII_MUSCULOSKELET-Diseases_of_the_musculoskeletal_system_and_connective_tissue',\n",
       "       'alcohol consumption measurement', 'anxiety', 'chronic disease',\n",
       "       'excessive daytime sleepiness measurement AND narcolepsy without cataplexy',\n",
       "       'feeling tense measurement', 'health satisfaction measurement',\n",
       "       'irritability', 'mood swings', 'nervousness', 'osteoarthritis',\n",
       "       'seeing a general practitioner for nerves, anxiety, tension or depression, self-reported',\n",
       "       'self rated health', 'smoking behavior', 'smoking cessation',\n",
       "       'tiredness measurement', 'worry measurement'],\n",
       "      dtype='object')"
      ]
     },
     "metadata": {},
     "output_type": "display_data"
    },
    {
     "data": {
      "text/html": [
       "<h3>Cluster 32.29</h3>"
      ],
      "text/plain": [
       "<IPython.core.display.HTML object>"
      ]
     },
     "metadata": {},
     "output_type": "display_data"
    },
    {
     "data": {
      "text/plain": [
       "24"
      ]
     },
     "metadata": {},
     "output_type": "display_data"
    },
    {
     "data": {
      "text/plain": [
       "Index(['129_raw-Place_of_birth_in_UK_north_coordinate',\n",
       "       '130_raw-Place_of_birth_in_UK_east_coordinate',\n",
       "       '2395_1-Hairbalding_pattern_Pattern_1',\n",
       "       '30070_raw-Red_blood_cell_erythrocyte_distribution_width',\n",
       "       'androgenetic alopecia AND balding measurement', 'birth weight',\n",
       "       'bone disease', 'cardiac arrhythmia', 'checkup', 'device complication',\n",
       "       'diabetes mellitus', 'emotional symptom measurement',\n",
       "       'encounter with health service', 'female reproductive system disease',\n",
       "       'head injury', 'inflammatory bowel disease', 'injury', 'joint disease',\n",
       "       'kidney failure', 'leg injury', 'lymphocyte count', 'poisoning',\n",
       "       'pregnancy disorder', 'soft tissue disease'],\n",
       "      dtype='object')"
      ]
     },
     "metadata": {},
     "output_type": "display_data"
    },
    {
     "data": {
      "text/html": [
       "<h3>Cluster 32.30</h3>"
      ],
      "text/plain": [
       "<IPython.core.display.HTML object>"
      ]
     },
     "metadata": {},
     "output_type": "display_data"
    },
    {
     "data": {
      "text/plain": [
       "2"
      ]
     },
     "metadata": {},
     "output_type": "display_data"
    },
    {
     "data": {
      "text/plain": [
       "Index(['21002_raw-Weight', '23098_raw-Weight'], dtype='object')"
      ]
     },
     "metadata": {},
     "output_type": "display_data"
    },
    {
     "data": {
      "text/html": [
       "<h3>Cluster 32.31</h3>"
      ],
      "text/plain": [
       "<IPython.core.display.HTML object>"
      ]
     },
     "metadata": {},
     "output_type": "display_data"
    },
    {
     "data": {
      "text/plain": [
       "1"
      ]
     },
     "metadata": {},
     "output_type": "display_data"
    },
    {
     "data": {
      "text/plain": [
       "Index(['eosinophil count'], dtype='object')"
      ]
     },
     "metadata": {},
     "output_type": "display_data"
    },
    {
     "data": {
      "text/html": [
       "<h2>Partition with k=38</h2>"
      ],
      "text/plain": [
       "<IPython.core.display.HTML object>"
      ]
     },
     "metadata": {},
     "output_type": "display_data"
    },
    {
     "data": {
      "text/plain": [
       "method                                                 scc_020\n",
       "partition    [30, 30, 30, 30, 30, 30, 30, 30, 30, 35, 30, 3...\n",
       "ami_mean                                              0.292446\n",
       "selected                                                  True\n",
       "Name: 38, dtype: object"
      ]
     },
     "metadata": {},
     "output_type": "display_data"
    },
    {
     "data": {
      "text/plain": [
       "(3749,)"
      ]
     },
     "metadata": {},
     "output_type": "display_data"
    },
    {
     "data": {
      "text/plain": [
       "35    3139\n",
       "0      143\n",
       "36     137\n",
       "32      34\n",
       "31      31\n",
       "28      25\n",
       "33      25\n",
       "27      25\n",
       "30      19\n",
       "24      18\n",
       "21      18\n",
       "22      15\n",
       "17      13\n",
       "25       8\n",
       "18       8\n",
       "16       8\n",
       "13       8\n",
       "19       8\n",
       "14       6\n",
       "11       6\n",
       "7        5\n",
       "26       5\n",
       "15       5\n",
       "5        4\n",
       "12       4\n",
       "4        4\n",
       "9        4\n",
       "10       4\n",
       "2        3\n",
       "3        3\n",
       "6        3\n",
       "20       2\n",
       "29       2\n",
       "1        2\n",
       "8        2\n",
       "34       1\n",
       "23       1\n",
       "37       1\n",
       "dtype: int64"
      ]
     },
     "metadata": {},
     "output_type": "display_data"
    },
    {
     "data": {
      "text/html": [
       "<h3>Cluster 38.0</h3>"
      ],
      "text/plain": [
       "<IPython.core.display.HTML object>"
      ]
     },
     "metadata": {},
     "output_type": "display_data"
    },
    {
     "data": {
      "text/plain": [
       "143"
      ]
     },
     "metadata": {},
     "output_type": "display_data"
    },
    {
     "data": {
      "text/plain": [
       "Index(['1031-Frequency_of_friendfamily_visits',\n",
       "       '1060-Time_spent_outdoors_in_winter', '1090-Time_spent_driving',\n",
       "       '1100-Drive_faster_than_motorway_speed_limit',\n",
       "       '110001-Invitation_to_complete_online_24hour_recall_dietary_questionnaire_acceptance',\n",
       "       '1120-Weekly_usage_of_mobile_phone_in_last_3_months',\n",
       "       '1289-Cooked_vegetable_intake', '1299-Salad_raw_vegetable_intake',\n",
       "       '1309-Fresh_fruit_intake', '1329-Oily_fish_intake',\n",
       "       ...\n",
       "       'migraine disorder', 'mononeuropathy',\n",
       "       'number of operations, self-reported', 'osteoarthritis',\n",
       "       'osteoarthritis, hip', 'osteoarthritis, knee', 'osteoporosis',\n",
       "       'parkinson's disease', 'smoking behavior', 'varicose veins'],\n",
       "      dtype='object', length=143)"
      ]
     },
     "metadata": {},
     "output_type": "display_data"
    },
    {
     "data": {
      "text/html": [
       "<h3>Cluster 38.1</h3>"
      ],
      "text/plain": [
       "<IPython.core.display.HTML object>"
      ]
     },
     "metadata": {},
     "output_type": "display_data"
    },
    {
     "data": {
      "text/plain": [
       "2"
      ]
     },
     "metadata": {},
     "output_type": "display_data"
    },
    {
     "data": {
      "text/plain": [
       "Index(['30150-Eosinophill_count', '30210_raw-Eosinophill_percentage'], dtype='object')"
      ]
     },
     "metadata": {},
     "output_type": "display_data"
    },
    {
     "data": {
      "text/html": [
       "<h3>Cluster 38.2</h3>"
      ],
      "text/plain": [
       "<IPython.core.display.HTML object>"
      ]
     },
     "metadata": {},
     "output_type": "display_data"
    },
    {
     "data": {
      "text/plain": [
       "3"
      ]
     },
     "metadata": {},
     "output_type": "display_data"
    },
    {
     "data": {
      "text/plain": [
       "Index(['30080_raw-Platelet_count', '30090_raw-Platelet_crit',\n",
       "       'platelet count'],\n",
       "      dtype='object')"
      ]
     },
     "metadata": {},
     "output_type": "display_data"
    },
    {
     "data": {
      "text/html": [
       "<h3>Cluster 38.3</h3>"
      ],
      "text/plain": [
       "<IPython.core.display.HTML object>"
      ]
     },
     "metadata": {},
     "output_type": "display_data"
    },
    {
     "data": {
      "text/plain": [
       "3"
      ]
     },
     "metadata": {},
     "output_type": "display_data"
    },
    {
     "data": {
      "text/plain": [
       "Index(['20015_raw-Sitting_height', '50_raw-Standing_height', 'body height'], dtype='object')"
      ]
     },
     "metadata": {},
     "output_type": "display_data"
    },
    {
     "data": {
      "text/html": [
       "<h3>Cluster 38.4</h3>"
      ],
      "text/plain": [
       "<IPython.core.display.HTML object>"
      ]
     },
     "metadata": {},
     "output_type": "display_data"
    },
    {
     "data": {
      "text/plain": [
       "4"
      ]
     },
     "metadata": {},
     "output_type": "display_data"
    },
    {
     "data": {
      "text/plain": [
       "Index(['30040_raw-Mean_corpuscular_volume',\n",
       "       '30050_raw-Mean_corpuscular_haemoglobin',\n",
       "       '30260_raw-Mean_reticulocyte_volume',\n",
       "       '30270_raw-Mean_sphered_cell_volume'],\n",
       "      dtype='object')"
      ]
     },
     "metadata": {},
     "output_type": "display_data"
    },
    {
     "data": {
      "text/html": [
       "<h3>Cluster 38.5</h3>"
      ],
      "text/plain": [
       "<IPython.core.display.HTML object>"
      ]
     },
     "metadata": {},
     "output_type": "display_data"
    },
    {
     "data": {
      "text/plain": [
       "4"
      ]
     },
     "metadata": {},
     "output_type": "display_data"
    },
    {
     "data": {
      "text/plain": [
       "Index(['30010_raw-Red_blood_cell_erythrocyte_count',\n",
       "       '30020_raw-Haemoglobin_concentration',\n",
       "       '30030_raw-Haematocrit_percentage', 'erythrocyte count'],\n",
       "      dtype='object')"
      ]
     },
     "metadata": {},
     "output_type": "display_data"
    },
    {
     "data": {
      "text/html": [
       "<h3>Cluster 38.6</h3>"
      ],
      "text/plain": [
       "<IPython.core.display.HTML object>"
      ]
     },
     "metadata": {},
     "output_type": "display_data"
    },
    {
     "data": {
      "text/plain": [
       "3"
      ]
     },
     "metadata": {},
     "output_type": "display_data"
    },
    {
     "data": {
      "text/plain": [
       "Index(['30130_raw-Monocyte_count', '30190_raw-Monocyte_percentage',\n",
       "       'monocyte count'],\n",
       "      dtype='object')"
      ]
     },
     "metadata": {},
     "output_type": "display_data"
    },
    {
     "data": {
      "text/html": [
       "<h3>Cluster 38.7</h3>"
      ],
      "text/plain": [
       "<IPython.core.display.HTML object>"
      ]
     },
     "metadata": {},
     "output_type": "display_data"
    },
    {
     "data": {
      "text/plain": [
       "5"
      ]
     },
     "metadata": {},
     "output_type": "display_data"
    },
    {
     "data": {
      "text/plain": [
       "Index(['23106_raw-Impedance_of_whole_body', '23107_raw-Impedance_of_leg_right',\n",
       "       '23108_raw-Impedance_of_leg_left', '23109_raw-Impedance_of_arm_right',\n",
       "       '23110_raw-Impedance_of_arm_left'],\n",
       "      dtype='object')"
      ]
     },
     "metadata": {},
     "output_type": "display_data"
    },
    {
     "data": {
      "text/html": [
       "<h3>Cluster 38.8</h3>"
      ],
      "text/plain": [
       "<IPython.core.display.HTML object>"
      ]
     },
     "metadata": {},
     "output_type": "display_data"
    },
    {
     "data": {
      "text/plain": [
       "2"
      ]
     },
     "metadata": {},
     "output_type": "display_data"
    },
    {
     "data": {
      "text/plain": [
       "Index(['30180_raw-Lymphocyte_percentage', '30200_raw-Neutrophill_percentage'], dtype='object')"
      ]
     },
     "metadata": {},
     "output_type": "display_data"
    },
    {
     "data": {
      "text/html": [
       "<h3>Cluster 38.9</h3>"
      ],
      "text/plain": [
       "<IPython.core.display.HTML object>"
      ]
     },
     "metadata": {},
     "output_type": "display_data"
    },
    {
     "data": {
      "text/plain": [
       "4"
      ]
     },
     "metadata": {},
     "output_type": "display_data"
    },
    {
     "data": {
      "text/plain": [
       "Index(['20150_raw-Forced_expiratory_volume_in_1second_FEV1_Best_measure',\n",
       "       '20151_raw-Forced_vital_capacity_FVC_Best_measure',\n",
       "       '3062_raw-Forced_vital_capacity_FVC',\n",
       "       '3063_raw-Forced_expiratory_volume_in_1second_FEV1'],\n",
       "      dtype='object')"
      ]
     },
     "metadata": {},
     "output_type": "display_data"
    },
    {
     "data": {
      "text/html": [
       "<h3>Cluster 38.10</h3>"
      ],
      "text/plain": [
       "<IPython.core.display.HTML object>"
      ]
     },
     "metadata": {},
     "output_type": "display_data"
    },
    {
     "data": {
      "text/plain": [
       "4"
      ]
     },
     "metadata": {},
     "output_type": "display_data"
    },
    {
     "data": {
      "text/plain": [
       "Index(['3144_raw-Heel_Broadband_ultrasound_attenuation_direct_entry',\n",
       "       '3147_raw-Heel_quantitative_ultrasound_index_QUI_direct_entry',\n",
       "       '3148_raw-Heel_bone_mineral_density_BMD',\n",
       "       '78_raw-Heel_bone_mineral_density_BMD_Tscore_automated'],\n",
       "      dtype='object')"
      ]
     },
     "metadata": {},
     "output_type": "display_data"
    },
    {
     "data": {
      "text/html": [
       "<h3>Cluster 38.11</h3>"
      ],
      "text/plain": [
       "<IPython.core.display.HTML object>"
      ]
     },
     "metadata": {},
     "output_type": "display_data"
    },
    {
     "data": {
      "text/plain": [
       "6"
      ]
     },
     "metadata": {},
     "output_type": "display_data"
    },
    {
     "data": {
      "text/plain": [
       "Index(['30000_raw-White_blood_cell_leukocyte_count',\n",
       "       '30140_raw-Neutrophill_count', 'granulocyte count', 'leukocyte count',\n",
       "       'myeloid white cell count', 'neutrophil count'],\n",
       "      dtype='object')"
      ]
     },
     "metadata": {},
     "output_type": "display_data"
    },
    {
     "data": {
      "text/html": [
       "<h3>Cluster 38.12</h3>"
      ],
      "text/plain": [
       "<IPython.core.display.HTML object>"
      ]
     },
     "metadata": {},
     "output_type": "display_data"
    },
    {
     "data": {
      "text/plain": [
       "4"
      ]
     },
     "metadata": {},
     "output_type": "display_data"
    },
    {
     "data": {
      "text/plain": [
       "Index(['6152_100-Blood_clot_DVT_bronchitis_emphysema_asthma_rhinitis_eczema_allergy_diagnosed_by_doctor_None_of_the_above',\n",
       "       '6152_8-Blood_clot_DVT_bronchitis_emphysema_asthma_rhinitis_eczema_allergy_diagnosed_by_doctor_Asthma',\n",
       "       '6152_9-Blood_clot_DVT_bronchitis_emphysema_asthma_rhinitis_eczema_allergy_diagnosed_by_doctor_Hayfever_allergic_rhinitis_or_eczema',\n",
       "       'asthma'],\n",
       "      dtype='object')"
      ]
     },
     "metadata": {},
     "output_type": "display_data"
    },
    {
     "data": {
      "text/html": [
       "<h3>Cluster 38.13</h3>"
      ],
      "text/plain": [
       "<IPython.core.display.HTML object>"
      ]
     },
     "metadata": {},
     "output_type": "display_data"
    },
    {
     "data": {
      "text/plain": [
       "8"
      ]
     },
     "metadata": {},
     "output_type": "display_data"
    },
    {
     "data": {
      "text/plain": [
       "Index(['4101_raw-Heel_broadband_ultrasound_attenuation_left',\n",
       "       '4104_raw-Heel_quantitative_ultrasound_index_QUI_direct_entry_left',\n",
       "       '4105_raw-Heel_bone_mineral_density_BMD_left',\n",
       "       '4106_raw-Heel_bone_mineral_density_BMD_Tscore_automated_left',\n",
       "       '4120_raw-Heel_broadband_ultrasound_attenuation_right',\n",
       "       '4123_raw-Heel_quantitative_ultrasound_index_QUI_direct_entry_right',\n",
       "       '4124_raw-Heel_bone_mineral_density_BMD_right',\n",
       "       '4125_raw-Heel_bone_mineral_density_BMD_Tscore_automated_right'],\n",
       "      dtype='object')"
      ]
     },
     "metadata": {},
     "output_type": "display_data"
    },
    {
     "data": {
      "text/html": [
       "<h3>Cluster 38.14</h3>"
      ],
      "text/plain": [
       "<IPython.core.display.HTML object>"
      ]
     },
     "metadata": {},
     "output_type": "display_data"
    },
    {
     "data": {
      "text/plain": [
       "6"
      ]
     },
     "metadata": {},
     "output_type": "display_data"
    },
    {
     "data": {
      "text/plain": [
       "Index(['30240_raw-Reticulocyte_percentage', '30250_raw-Reticulocyte_count',\n",
       "       '30280_raw-Immature_reticulocyte_fraction',\n",
       "       '30290_raw-High_light_scatter_reticulocyte_percentage',\n",
       "       '30300_raw-High_light_scatter_reticulocyte_count',\n",
       "       'reticulocyte count'],\n",
       "      dtype='object')"
      ]
     },
     "metadata": {},
     "output_type": "display_data"
    },
    {
     "data": {
      "text/html": [
       "<h3>Cluster 38.15</h3>"
      ],
      "text/plain": [
       "<IPython.core.display.HTML object>"
      ]
     },
     "metadata": {},
     "output_type": "display_data"
    },
    {
     "data": {
      "text/plain": [
       "5"
      ]
     },
     "metadata": {},
     "output_type": "display_data"
    },
    {
     "data": {
      "text/plain": [
       "Index(['4079_raw-Diastolic_blood_pressure_automated_reading',\n",
       "       '4080_raw-Systolic_blood_pressure_automated_reading',\n",
       "       '6150_100-Vascularheart_problems_diagnosed_by_doctor_None_of_the_above',\n",
       "       '6150_4-Vascularheart_problems_diagnosed_by_doctor_High_blood_pressure',\n",
       "       'hypertension'],\n",
       "      dtype='object')"
      ]
     },
     "metadata": {},
     "output_type": "display_data"
    },
    {
     "data": {
      "text/html": [
       "<h3>Cluster 38.16</h3>"
      ],
      "text/plain": [
       "<IPython.core.display.HTML object>"
      ]
     },
     "metadata": {},
     "output_type": "display_data"
    },
    {
     "data": {
      "text/plain": [
       "8"
      ]
     },
     "metadata": {},
     "output_type": "display_data"
    },
    {
     "data": {
      "text/plain": [
       "Index(['5096_raw-3mm_weak_meridian_left', '5097_raw-6mm_weak_meridian_left',\n",
       "       '5098_raw-6mm_weak_meridian_right', '5099_raw-3mm_weak_meridian_right',\n",
       "       '5132_raw-3mm_strong_meridian_right',\n",
       "       '5133_raw-6mm_strong_meridian_right',\n",
       "       '5134_raw-6mm_strong_meridian_left',\n",
       "       '5135_raw-3mm_strong_meridian_left'],\n",
       "      dtype='object')"
      ]
     },
     "metadata": {},
     "output_type": "display_data"
    },
    {
     "data": {
      "text/html": [
       "<h3>Cluster 38.17</h3>"
      ],
      "text/plain": [
       "<IPython.core.display.HTML object>"
      ]
     },
     "metadata": {},
     "output_type": "display_data"
    },
    {
     "data": {
      "text/plain": [
       "13"
      ]
     },
     "metadata": {},
     "output_type": "display_data"
    },
    {
     "data": {
      "text/plain": [
       "Index(['23101_raw-Whole_body_fatfree_mass', '23102_raw-Whole_body_water_mass',\n",
       "       '23105_raw-Basal_metabolic_rate', '23113_raw-Leg_fatfree_mass_right',\n",
       "       '23114_raw-Leg_predicted_mass_right', '23117_raw-Leg_fatfree_mass_left',\n",
       "       '23118_raw-Leg_predicted_mass_left', '23121_raw-Arm_fatfree_mass_right',\n",
       "       '23122_raw-Arm_predicted_mass_right', '23125_raw-Arm_fatfree_mass_left',\n",
       "       '23126_raw-Arm_predicted_mass_left', '23129_raw-Trunk_fatfree_mass',\n",
       "       '23130_raw-Trunk_predicted_mass'],\n",
       "      dtype='object')"
      ]
     },
     "metadata": {},
     "output_type": "display_data"
    },
    {
     "data": {
      "text/html": [
       "<h3>Cluster 38.18</h3>"
      ],
      "text/plain": [
       "<IPython.core.display.HTML object>"
      ]
     },
     "metadata": {},
     "output_type": "display_data"
    },
    {
     "data": {
      "text/plain": [
       "8"
      ]
     },
     "metadata": {},
     "output_type": "display_data"
    },
    {
     "data": {
      "text/plain": [
       "Index(['1717-Skin_colour', '1727-Ease_of_skin_tanning',\n",
       "       '1737-Childhood_sunburn_occasions',\n",
       "       '1747_1-Hair_colour_natural_before_greying_Blonde',\n",
       "       '1747_2-Hair_colour_natural_before_greying_Red',\n",
       "       '1747_3-Hair_colour_natural_before_greying_Light_brown',\n",
       "       '1747_4-Hair_colour_natural_before_greying_Dark_brown',\n",
       "       '1747_5-Hair_colour_natural_before_greying_Black'],\n",
       "      dtype='object')"
      ]
     },
     "metadata": {},
     "output_type": "display_data"
    },
    {
     "data": {
      "text/html": [
       "<h3>Cluster 38.19</h3>"
      ],
      "text/plain": [
       "<IPython.core.display.HTML object>"
      ]
     },
     "metadata": {},
     "output_type": "display_data"
    },
    {
     "data": {
      "text/plain": [
       "8"
      ]
     },
     "metadata": {},
     "output_type": "display_data"
    },
    {
     "data": {
      "text/plain": [
       "Index(['20003_1141191044-Treatmentmedication_code_levothyroxine_sodium',\n",
       "       'K11_COELIAC-Coeliac_disease', 'celiac disease',\n",
       "       'hypothyroidism AND myxedema', 'malabsorption syndrome', 'psoriasis',\n",
       "       'rheumatoid arthritis', 'systemic lupus erythematosus'],\n",
       "      dtype='object')"
      ]
     },
     "metadata": {},
     "output_type": "display_data"
    },
    {
     "data": {
      "text/html": [
       "<h3>Cluster 38.20</h3>"
      ],
      "text/plain": [
       "<IPython.core.display.HTML object>"
      ]
     },
     "metadata": {},
     "output_type": "display_data"
    },
    {
     "data": {
      "text/plain": [
       "2"
      ]
     },
     "metadata": {},
     "output_type": "display_data"
    },
    {
     "data": {
      "text/plain": [
       "Index(['46_raw-Hand_grip_strength_left', '47_raw-Hand_grip_strength_right'], dtype='object')"
      ]
     },
     "metadata": {},
     "output_type": "display_data"
    },
    {
     "data": {
      "text/html": [
       "<h3>Cluster 38.21</h3>"
      ],
      "text/plain": [
       "<IPython.core.display.HTML object>"
      ]
     },
     "metadata": {},
     "output_type": "display_data"
    },
    {
     "data": {
      "text/plain": [
       "18"
      ]
     },
     "metadata": {},
     "output_type": "display_data"
    },
    {
     "data": {
      "text/plain": [
       "Index(['21001_raw-Body_mass_index_BMI', '21002_raw-Weight', '23098_raw-Weight',\n",
       "       '23099_raw-Body_fat_percentage', '23100_raw-Whole_body_fat_mass',\n",
       "       '23104_raw-Body_mass_index_BMI', '23111_raw-Leg_fat_percentage_right',\n",
       "       '23112_raw-Leg_fat_mass_right', '23115_raw-Leg_fat_percentage_left',\n",
       "       '23116_raw-Leg_fat_mass_left', '23119_raw-Arm_fat_percentage_right',\n",
       "       '23120_raw-Arm_fat_mass_right', '23123_raw-Arm_fat_percentage_left',\n",
       "       '23124_raw-Arm_fat_mass_left', '23127_raw-Trunk_fat_percentage',\n",
       "       '23128_raw-Trunk_fat_mass', '48_raw-Waist_circumference',\n",
       "       '49_raw-Hip_circumference'],\n",
       "      dtype='object')"
      ]
     },
     "metadata": {},
     "output_type": "display_data"
    },
    {
     "data": {
      "text/html": [
       "<h3>Cluster 38.22</h3>"
      ],
      "text/plain": [
       "<IPython.core.display.HTML object>"
      ]
     },
     "metadata": {},
     "output_type": "display_data"
    },
    {
     "data": {
      "text/plain": [
       "15"
      ]
     },
     "metadata": {},
     "output_type": "display_data"
    },
    {
     "data": {
      "text/plain": [
       "Index(['EAGLE_Eczema', 'Jones_et_al_2016_Chronotype', 'MAGNETIC_CH2.DB.ratio',\n",
       "       'MAGNETIC_HDL.C', 'MAGNETIC_IDL.TG', 'MAGNETIC_LDL.C',\n",
       "       'alzheimer's disease', 'attention deficit hyperactivity disorder',\n",
       "       'depressive symptom measurement',\n",
       "       'estrogen-receptor negative breast cancer',\n",
       "       'estrogen-receptor positive breast cancer',\n",
       "       'family history of breast cancer', 'fasting blood glucose measurement',\n",
       "       'fasting blood insulin measurement', 'intracranial volume measurement'],\n",
       "      dtype='object')"
      ]
     },
     "metadata": {},
     "output_type": "display_data"
    },
    {
     "data": {
      "text/html": [
       "<h3>Cluster 38.23</h3>"
      ],
      "text/plain": [
       "<IPython.core.display.HTML object>"
      ]
     },
     "metadata": {},
     "output_type": "display_data"
    },
    {
     "data": {
      "text/plain": [
       "1"
      ]
     },
     "metadata": {},
     "output_type": "display_data"
    },
    {
     "data": {
      "text/plain": [
       "Index(['eosinophil count'], dtype='object')"
      ]
     },
     "metadata": {},
     "output_type": "display_data"
    },
    {
     "data": {
      "text/html": [
       "<h3>Cluster 38.24</h3>"
      ],
      "text/plain": [
       "<IPython.core.display.HTML object>"
      ]
     },
     "metadata": {},
     "output_type": "display_data"
    },
    {
     "data": {
      "text/plain": [
       "18"
      ]
     },
     "metadata": {},
     "output_type": "display_data"
    },
    {
     "data": {
      "text/plain": [
       "Index(['1050-Time_spend_outdoors_in_summer',\n",
       "       '1070-Time_spent_watching_television_TV', '1448_1-Bread_type_White',\n",
       "       '1448_3-Bread_type_Wholemeal_or_wholegrain',\n",
       "       '20016_raw-Fluid_intelligence_score',\n",
       "       '2139_raw-Age_first_had_sexual_intercourse',\n",
       "       '22501_raw-Year_ended_full_time_education',\n",
       "       '2754_raw-Age_at_first_live_birth',\n",
       "       '6138_1-Qualifications_College_or_University_degree',\n",
       "       '6138_100-Qualifications_None_of_the_above',\n",
       "       '6138_2-Qualifications_A_levelsAS_levels_or_equivalent',\n",
       "       '6138_3-Qualifications_O_levelsGCSEs_or_equivalent',\n",
       "       '738-Average_total_household_income_before_tax',\n",
       "       '806-Job_involves_mainly_walking_or_standing',\n",
       "       '816-Job_involves_heavy_manual_or_physical_work',\n",
       "       'SSGAC_Education_Years_Pooled', 'schizophrenia',\n",
       "       'self reported educational attainment'],\n",
       "      dtype='object')"
      ]
     },
     "metadata": {},
     "output_type": "display_data"
    },
    {
     "data": {
      "text/html": [
       "<h3>Cluster 38.25</h3>"
      ],
      "text/plain": [
       "<IPython.core.display.HTML object>"
      ]
     },
     "metadata": {},
     "output_type": "display_data"
    },
    {
     "data": {
      "text/plain": [
       "8"
      ]
     },
     "metadata": {},
     "output_type": "display_data"
    },
    {
     "data": {
      "text/plain": [
       "Index(['5254_raw-Intraocular_pressure_cornealcompensated_right',\n",
       "       '5255_raw-Intraocular_pressure_Goldmanncorrelated_right',\n",
       "       '5256_raw-Corneal_hysteresis_right',\n",
       "       '5257_raw-Corneal_resistance_factor_right',\n",
       "       '5262_raw-Intraocular_pressure_cornealcompensated_left',\n",
       "       '5263_raw-Intraocular_pressure_Goldmanncorrelated_left',\n",
       "       '5264_raw-Corneal_hysteresis_left',\n",
       "       '5265_raw-Corneal_resistance_factor_left'],\n",
       "      dtype='object')"
      ]
     },
     "metadata": {},
     "output_type": "display_data"
    },
    {
     "data": {
      "text/html": [
       "<h3>Cluster 38.26</h3>"
      ],
      "text/plain": [
       "<IPython.core.display.HTML object>"
      ]
     },
     "metadata": {},
     "output_type": "display_data"
    },
    {
     "data": {
      "text/plain": [
       "5"
      ]
     },
     "metadata": {},
     "output_type": "display_data"
    },
    {
     "data": {
      "text/plain": [
       "Index(['102_raw-Pulse_rate_automated_reading',\n",
       "       '3064_raw-Peak_expiratory_flow_PEF',\n",
       "       '4100_raw-Ankle_spacing_width_left',\n",
       "       '4119_raw-Ankle_spacing_width_right', 'inflammatory bowel disease'],\n",
       "      dtype='object')"
      ]
     },
     "metadata": {},
     "output_type": "display_data"
    },
    {
     "data": {
      "text/html": [
       "<h3>Cluster 38.27</h3>"
      ],
      "text/plain": [
       "<IPython.core.display.HTML object>"
      ]
     },
     "metadata": {},
     "output_type": "display_data"
    },
    {
     "data": {
      "text/plain": [
       "25"
      ]
     },
     "metadata": {},
     "output_type": "display_data"
    },
    {
     "data": {
      "text/plain": [
       "Index(['1110-Length_of_mobile_phone_use',\n",
       "       '20023_raw-Mean_time_to_correctly_identify_matches',\n",
       "       '20116_0-Smoking_status_Never', '20116_1-Smoking_status_Previous',\n",
       "       '20127_raw-Neuroticism_score', '20160-Ever_smoked',\n",
       "       '2070-Frequency_of_tenseness_restlessness_in_last_2_weeks',\n",
       "       '2267-Use_of_sunuv_protection',\n",
       "       '30510_raw-Creatinine_enzymatic_in_urine',\n",
       "       '404_raw-Duration_to_first_press_of_snapbutton_in_each_round',\n",
       "       '6154_100-Medication_for_pain_relief_constipation_heartburn_None_of_the_above',\n",
       "       '6154_3-Medication_for_pain_relief_constipation_heartburn_Paracetamol',\n",
       "       '6159_1-Pain_types_experienced_in_last_month_Headache',\n",
       "       '6159_100-Pain_types_experienced_in_last_month_None_of_the_above',\n",
       "       'alcohol consumption measurement', 'anxiety',\n",
       "       'feeling tense measurement', 'irritability', 'mood swings',\n",
       "       'nervousness',\n",
       "       'seeing a general practitioner for nerves, anxiety, tension or depression, self-reported',\n",
       "       'self rated health', 'smoking cessation', 'tiredness measurement',\n",
       "       'worry measurement'],\n",
       "      dtype='object')"
      ]
     },
     "metadata": {},
     "output_type": "display_data"
    },
    {
     "data": {
      "text/html": [
       "<h3>Cluster 38.28</h3>"
      ],
      "text/plain": [
       "<IPython.core.display.HTML object>"
      ]
     },
     "metadata": {},
     "output_type": "display_data"
    },
    {
     "data": {
      "text/plain": [
       "25"
      ]
     },
     "metadata": {},
     "output_type": "display_data"
    },
    {
     "data": {
      "text/plain": [
       "Index(['20003_1140861958-Treatmentmedication_code_simvastatin',\n",
       "       '20003_1140868226-Treatmentmedication_code_aspirin',\n",
       "       '20003_1141194794-Treatmentmedication_code_bendroflumethiazide',\n",
       "       '6150_1-Vascularheart_problems_diagnosed_by_doctor_Heart_attack',\n",
       "       '6150_2-Vascularheart_problems_diagnosed_by_doctor_Angina',\n",
       "       '6153_1-Medication_for_cholesterol_blood_pressure_diabetes_or_take_exogenous_hormones_Cholesterol_lowering_medication',\n",
       "       '6153_100-Medication_for_cholesterol_blood_pressure_diabetes_or_take_exogenous_hormones_None_of_the_above',\n",
       "       '6154_1-Medication_for_pain_relief_constipation_heartburn_Aspirin',\n",
       "       '6177_1-Medication_for_cholesterol_blood_pressure_or_diabetes_Cholesterol_lowering_medication',\n",
       "       '6177_100-Medication_for_cholesterol_blood_pressure_or_diabetes_None_of_the_above',\n",
       "       '6177_2-Medication_for_cholesterol_blood_pressure_or_diabetes_Blood_pressure_medication',\n",
       "       'I9_CHD-Major_coronary_heart_disease_event',\n",
       "       'I9_CHD_NOREV-Major_coronary_heart_disease_event_excluding_revascularizations',\n",
       "       'I9_CORATHER-Coronary_atherosclerosis',\n",
       "       'I9_IHD-Ischaemic_heart_disease_wide_definition',\n",
       "       'I9_MI-Myocardial_infarction',\n",
       "       'I9_MI_STRICT-Myocardial_infarction_strict',\n",
       "       'IX_CIRCULATORY-Diseases_of_the_circulatory_system',\n",
       "       'acute myocardial infarction', 'angina pectoris',\n",
       "       'coronary artery disease', 'hypercholesterolemia',\n",
       "       'myocardial infarction',\n",
       "       'number of non-cancer illnesses, self-reported',\n",
       "       'number of treatments or medications taken, self-reported'],\n",
       "      dtype='object')"
      ]
     },
     "metadata": {},
     "output_type": "display_data"
    },
    {
     "data": {
      "text/html": [
       "<h3>Cluster 38.29</h3>"
      ],
      "text/plain": [
       "<IPython.core.display.HTML object>"
      ]
     },
     "metadata": {},
     "output_type": "display_data"
    },
    {
     "data": {
      "text/plain": [
       "2"
      ]
     },
     "metadata": {},
     "output_type": "display_data"
    },
    {
     "data": {
      "text/plain": [
       "Index(['30100_raw-Mean_platelet_thrombocyte_volume', '30110_raw-Platelet_distribution_width'], dtype='object')"
      ]
     },
     "metadata": {},
     "output_type": "display_data"
    },
    {
     "data": {
      "text/html": [
       "<h3>Cluster 38.30</h3>"
      ],
      "text/plain": [
       "<IPython.core.display.HTML object>"
      ]
     },
     "metadata": {},
     "output_type": "display_data"
    },
    {
     "data": {
      "text/plain": [
       "19"
      ]
     },
     "metadata": {},
     "output_type": "display_data"
    },
    {
     "data": {
      "text/plain": [
       "Index(['100001_raw-Food_weight', '100002_raw-Energy', '100003_raw-Protein',\n",
       "       '100004_raw-Fat', '100005_raw-Carbohydrate', '100006_raw-Saturated_fat',\n",
       "       '100007_raw-Polyunsaturated_fat', '100008_raw-Total_sugars',\n",
       "       '100009_raw-Englyst_dietary_fibre', '100011_raw-Iron',\n",
       "       '100012_raw-Vitamin_B6', '100014_raw-Folate', '100015_raw-Vitamin_C',\n",
       "       '100016_raw-Potassium', '100017_raw-Magnesium', '100019_raw-Carotene',\n",
       "       '100023_raw-Starch', '100024_raw-Calcium', '100025_raw-Vitamin_E'],\n",
       "      dtype='object')"
      ]
     },
     "metadata": {},
     "output_type": "display_data"
    },
    {
     "data": {
      "text/html": [
       "<h3>Cluster 38.31</h3>"
      ],
      "text/plain": [
       "<IPython.core.display.HTML object>"
      ]
     },
     "metadata": {},
     "output_type": "display_data"
    },
    {
     "data": {
      "text/plain": [
       "31"
      ]
     },
     "metadata": {},
     "output_type": "display_data"
    },
    {
     "data": {
      "text/plain": [
       "Index(['1080-Time_spent_using_computer', '1319-Dried_fruit_intake',\n",
       "       '1478-Salt_added_to_food', '1488_raw-Tea_intake',\n",
       "       '1518-Hot_drink_temperature', '1528-Water_intake', '1757-Facial_ageing',\n",
       "       '20022_raw-Birth_weight',\n",
       "       '20154_raw-Forced_expiratory_volume_in_1second_FEV1_predicted_percentage',\n",
       "       '2217_raw-Age_started_wearing_glasses_or_contact_lenses',\n",
       "       '2237-Plays_computer_games',\n",
       "       '30060_raw-Mean_corpuscular_haemoglobin_concentration',\n",
       "       '30530_raw-Sodium_in_urine',\n",
       "       '399_raw-Number_of_incorrect_matches_in_round',\n",
       "       '400_raw-Time_to_complete_round', '4194_raw-Pulse_rate',\n",
       "       '5084_raw-Spherical_power_right', '5085_raw-Spherical_power_left',\n",
       "       '924-Usual_walking_pace', 'age at first facial hair', 'age at menarche',\n",
       "       'chronotype measurement',\n",
       "       'comparative body size at age 10, self-reported',\n",
       "       'ease of getting up in the morning, self-reported',\n",
       "       'excessive daytime sleepiness measurement AND narcolepsy without cataplexy',\n",
       "       'hearing loss', 'insomnia', 'nap during day, self-reported',\n",
       "       'sleep duration', 'snoring measurement', 'wheezing'],\n",
       "      dtype='object')"
      ]
     },
     "metadata": {},
     "output_type": "display_data"
    },
    {
     "data": {
      "text/html": [
       "<h3>Cluster 38.32</h3>"
      ],
      "text/plain": [
       "<IPython.core.display.HTML object>"
      ]
     },
     "metadata": {},
     "output_type": "display_data"
    },
    {
     "data": {
      "text/plain": [
       "34"
      ]
     },
     "metadata": {},
     "output_type": "display_data"
    },
    {
     "data": {
      "text/plain": [
       "Index(['20421-Ever_felt_worried_tense_or_anxious_for_most_of_a_month_or_longer',\n",
       "       '20425-Ever_worried_more_than_most_people_would_in_similar_situation',\n",
       "       '20441-Ever_had_prolonged_loss_of_interest_in_normal_activities',\n",
       "       '20446-Ever_had_prolonged_feelings_of_sadness_or_depression',\n",
       "       '20458-General_happiness', '20459-General_happiness_with_own_health',\n",
       "       '20460-Belief_that_own_life_is_meaningful',\n",
       "       '20479-Ever_thought_that_life_not_worth_living',\n",
       "       '20485-Ever_contemplated_selfharm',\n",
       "       '20494-Felt_irritable_or_had_angry_outbursts_in_past_month',\n",
       "       '20495-Avoided_activities_or_situations_because_of_previous_stressful_experience_in_past_month',\n",
       "       '20496-Felt_distant_from_other_people_in_past_month',\n",
       "       '20497-Repeated_disturbing_thoughts_of_stressful_experience_in_past_month',\n",
       "       '20498-Felt_very_upset_when_reminded_of_stressful_experience_in_past_month',\n",
       "       '20499-Ever_sought_or_received_professional_help_for_mental_distress',\n",
       "       '20500-Ever_suffered_mental_distress_preventing_usual_activities',\n",
       "       '20505-Recent_easy_annoyance_or_irritability',\n",
       "       '20506-Recent_feelings_or_nervousness_or_anxiety',\n",
       "       '20507-Recent_feelings_of_inadequacy',\n",
       "       '20508-Recent_trouble_concentrating_on_things',\n",
       "       '20509-Recent_inability_to_stop_or_control_worrying',\n",
       "       '20510-Recent_feelings_of_depression',\n",
       "       '20511-Recent_poor_appetite_or_overeating',\n",
       "       '20512-Recent_feelings_of_foreboding',\n",
       "       '20513-Recent_thoughts_of_suicide_or_selfharm',\n",
       "       '20514-Recent_lack_of_interest_or_pleasure_in_doing_things',\n",
       "       '20515-Recent_trouble_relaxing', '20516-Recent_restlessness',\n",
       "       '20517-Trouble_falling_or_staying_asleep_or_sleeping_too_much',\n",
       "       '20519-Recent_feelings_of_tiredness_or_low_energy',\n",
       "       '20520-Recent_worrying_too_much_about_different_things',\n",
       "       '20544_11-Mental_health_problems_ever_diagnosed_by_a_professional_Depression',\n",
       "       '20546_3-Substances_taken_for_depression_Medication_prescribed_to_you_for_at_least_two_weeks',\n",
       "       '20547_1-Activities_undertaken_to_treat_depression_Talking_therapies_such_as_psychotherapy_counselling_group_therapy_or_CBT'],\n",
       "      dtype='object')"
      ]
     },
     "metadata": {},
     "output_type": "display_data"
    },
    {
     "data": {
      "text/html": [
       "<h3>Cluster 38.33</h3>"
      ],
      "text/plain": [
       "<IPython.core.display.HTML object>"
      ]
     },
     "metadata": {},
     "output_type": "display_data"
    },
    {
     "data": {
      "text/plain": [
       "25"
      ]
     },
     "metadata": {},
     "output_type": "display_data"
    },
    {
     "data": {
      "text/plain": [
       "Index(['1448_4-Bread_type_Other_type_of_bread',\n",
       "       '20003_1140869848-Treatmentmedication_code_methotrexate',\n",
       "       '20003_1140883066-Treatmentmedication_code_insulin_product',\n",
       "       '20003_1140884516-Treatmentmedication_code_thyroxine_product',\n",
       "       '20003_1141179992-Treatmentmedication_code_dovobet_ointment',\n",
       "       '2976_raw-Age_diabetes_diagnosed',\n",
       "       '2986-Started_insulin_within_one_year_diagnosis_of_diabetes',\n",
       "       '6144_3-Never_eat_eggs_dairy_wheat_sugar_Wheat_products',\n",
       "       '6153_3-Medication_for_cholesterol_blood_pressure_diabetes_or_take_exogenous_hormones_Insulin',\n",
       "       '6177_3-Medication_for_cholesterol_blood_pressure_or_diabetes_Insulin',\n",
       "       'DM_KETOACIDOSIS-Diabetic_ketoacidosis', 'E4_DM1-Type_1_diabetes',\n",
       "       'E4_DM1KETO-Type_1_diabetes_with_ketoacidosis',\n",
       "       'K11_OTHDIG-Other_diseases_of_the_digestive_system',\n",
       "       'M13_POLYARTHROPATHIES-Polyarthropathies',\n",
       "       'M13_RHEUMA-Rheumatoid_arthritis',\n",
       "       'RHEUMA_NOS-Otherunspecified_rheumatoid_arthritis',\n",
       "       'RHEUMA_SEROPOS-Seropositive_rheumatoid_arthritis',\n",
       "       'RHEUMA_SEROPOS_OTH-Otherunspecified_seropositiverheumatoid_arthritis',\n",
       "       'STILL_ADULT-Adultonset_Still_disease', 'ankylosing spondylitis',\n",
       "       'hematuria', 'hyperthyroidism AND thyrotoxicosis',\n",
       "       'psoriatic arthritis', 'type i diabetes mellitus'],\n",
       "      dtype='object')"
      ]
     },
     "metadata": {},
     "output_type": "display_data"
    },
    {
     "data": {
      "text/html": [
       "<h3>Cluster 38.34</h3>"
      ],
      "text/plain": [
       "<IPython.core.display.HTML object>"
      ]
     },
     "metadata": {},
     "output_type": "display_data"
    },
    {
     "data": {
      "text/plain": [
       "1"
      ]
     },
     "metadata": {},
     "output_type": "display_data"
    },
    {
     "data": {
      "text/plain": [
       "Index(['20153_raw-Forced_expiratory_volume_in_1second_FEV1_predicted'], dtype='object')"
      ]
     },
     "metadata": {},
     "output_type": "display_data"
    },
    {
     "data": {
      "text/html": [
       "<h3>Cluster 38.35</h3>"
      ],
      "text/plain": [
       "<IPython.core.display.HTML object>"
      ]
     },
     "metadata": {},
     "output_type": "display_data"
    },
    {
     "data": {
      "text/plain": [
       "3139"
      ]
     },
     "metadata": {},
     "output_type": "display_data"
    },
    {
     "data": {
      "text/plain": [
       "Index(['100010-Portion_size', '100013_raw-Vitamin_B12', '100018_raw-Retinol',\n",
       "       '100021_raw-Vitamin_D', '100022-Alcohol',\n",
       "       '1001-Duration_of_strenuous_sports', '100150-Drinking_water_intake',\n",
       "       '100160-Low_calorie_drink_intake', '100170-Fizzy_drink_intake',\n",
       "       '100190-Orange_juice_intake',\n",
       "       ...\n",
       "       'viral disease', 'viral human hepatitis infection', 'viral meningitis',\n",
       "       'visual impairment', 'vitiligo', 'vitreous body disease',\n",
       "       'vocal cord polyp', 'voice disorders',\n",
       "       'wellbeing measurement AND family relationship', 'whooping cough'],\n",
       "      dtype='object', length=3139)"
      ]
     },
     "metadata": {},
     "output_type": "display_data"
    },
    {
     "data": {
      "text/html": [
       "<h3>Cluster 38.36</h3>"
      ],
      "text/plain": [
       "<IPython.core.display.HTML object>"
      ]
     },
     "metadata": {},
     "output_type": "display_data"
    },
    {
     "data": {
      "text/plain": [
       "137"
      ]
     },
     "metadata": {},
     "output_type": "display_data"
    },
    {
     "data": {
      "text/plain": [
       "Index(['129_raw-Place_of_birth_in_UK_north_coordinate',\n",
       "       '130_raw-Place_of_birth_in_UK_east_coordinate',\n",
       "       '20074_raw-Home_location_at_assessment_east_coordinate_rounded',\n",
       "       '20075_raw-Home_location_at_assessment_north_coordinate_rounded',\n",
       "       '20118_11-Home_area_population_density_urban_or_rural_Scotland_Large_Urban_Area',\n",
       "       '22704_raw-Home_location_north_coordinate_rounded',\n",
       "       '2395_1-Hairbalding_pattern_Pattern_1',\n",
       "       '30220_raw-Basophill_percentage', 'abdominal injury',\n",
       "       'abnormal delivery',\n",
       "       ...\n",
       "       'tongue neoplasm', 'transient ischemic attack', 'tuberculosis',\n",
       "       'type ii diabetes mellitus', 'ulcerative colitis',\n",
       "       'urogenital neoplasm', 'urticaria', 'vascular disease', 'vasculitis',\n",
       "       'wrist fracture'],\n",
       "      dtype='object', length=137)"
      ]
     },
     "metadata": {},
     "output_type": "display_data"
    },
    {
     "data": {
      "text/html": [
       "<h3>Cluster 38.37</h3>"
      ],
      "text/plain": [
       "<IPython.core.display.HTML object>"
      ]
     },
     "metadata": {},
     "output_type": "display_data"
    },
    {
     "data": {
      "text/plain": [
       "1"
      ]
     },
     "metadata": {},
     "output_type": "display_data"
    },
    {
     "data": {
      "text/plain": [
       "Index(['lymphocyte count'], dtype='object')"
      ]
     },
     "metadata": {},
     "output_type": "display_data"
    },
    {
     "data": {
      "text/html": [
       "<h2>Partition with k=41</h2>"
      ],
      "text/plain": [
       "<IPython.core.display.HTML object>"
      ]
     },
     "metadata": {},
     "output_type": "display_data"
    },
    {
     "data": {
      "text/plain": [
       "method                                                 scc_020\n",
       "partition    [33, 33, 33, 33, 33, 33, 33, 33, 33, 0, 33, 33...\n",
       "ami_mean                                               0.29073\n",
       "selected                                                  True\n",
       "Name: 41, dtype: object"
      ]
     },
     "metadata": {},
     "output_type": "display_data"
    },
    {
     "data": {
      "text/plain": [
       "(3749,)"
      ]
     },
     "metadata": {},
     "output_type": "display_data"
    },
    {
     "data": {
      "text/plain": [
       "0     3114\n",
       "35     122\n",
       "38     121\n",
       "36      40\n",
       "37      34\n",
       "32      30\n",
       "34      25\n",
       "28      24\n",
       "39      22\n",
       "25      22\n",
       "33      19\n",
       "26      18\n",
       "20      16\n",
       "23      15\n",
       "24      13\n",
       "17       8\n",
       "22       8\n",
       "19       8\n",
       "12       8\n",
       "16       8\n",
       "29       6\n",
       "21       6\n",
       "10       6\n",
       "9        6\n",
       "7        5\n",
       "11       5\n",
       "8        4\n",
       "14       4\n",
       "6        4\n",
       "13       4\n",
       "18       4\n",
       "4        3\n",
       "30       3\n",
       "5        3\n",
       "1        2\n",
       "3        2\n",
       "15       2\n",
       "2        2\n",
       "31       1\n",
       "27       1\n",
       "40       1\n",
       "dtype: int64"
      ]
     },
     "metadata": {},
     "output_type": "display_data"
    },
    {
     "data": {
      "text/html": [
       "<h3>Cluster 41.0</h3>"
      ],
      "text/plain": [
       "<IPython.core.display.HTML object>"
      ]
     },
     "metadata": {},
     "output_type": "display_data"
    },
    {
     "data": {
      "text/plain": [
       "3114"
      ]
     },
     "metadata": {},
     "output_type": "display_data"
    },
    {
     "data": {
      "text/plain": [
       "Index(['100010-Portion_size', '100013_raw-Vitamin_B12', '100018_raw-Retinol',\n",
       "       '100021_raw-Vitamin_D', '100022-Alcohol',\n",
       "       '1001-Duration_of_strenuous_sports', '100150-Drinking_water_intake',\n",
       "       '100160-Low_calorie_drink_intake', '100170-Fizzy_drink_intake',\n",
       "       '100190-Orange_juice_intake',\n",
       "       ...\n",
       "       'viral disease', 'viral human hepatitis infection', 'viral meningitis',\n",
       "       'visual impairment', 'vitiligo', 'vitreous body disease',\n",
       "       'vocal cord polyp', 'voice disorders',\n",
       "       'wellbeing measurement AND family relationship', 'whooping cough'],\n",
       "      dtype='object', length=3114)"
      ]
     },
     "metadata": {},
     "output_type": "display_data"
    },
    {
     "data": {
      "text/html": [
       "<h3>Cluster 41.1</h3>"
      ],
      "text/plain": [
       "<IPython.core.display.HTML object>"
      ]
     },
     "metadata": {},
     "output_type": "display_data"
    },
    {
     "data": {
      "text/plain": [
       "2"
      ]
     },
     "metadata": {},
     "output_type": "display_data"
    },
    {
     "data": {
      "text/plain": [
       "Index(['30100_raw-Mean_platelet_thrombocyte_volume', '30110_raw-Platelet_distribution_width'], dtype='object')"
      ]
     },
     "metadata": {},
     "output_type": "display_data"
    },
    {
     "data": {
      "text/html": [
       "<h3>Cluster 41.2</h3>"
      ],
      "text/plain": [
       "<IPython.core.display.HTML object>"
      ]
     },
     "metadata": {},
     "output_type": "display_data"
    },
    {
     "data": {
      "text/plain": [
       "2"
      ]
     },
     "metadata": {},
     "output_type": "display_data"
    },
    {
     "data": {
      "text/plain": [
       "Index(['30150-Eosinophill_count', '30210_raw-Eosinophill_percentage'], dtype='object')"
      ]
     },
     "metadata": {},
     "output_type": "display_data"
    },
    {
     "data": {
      "text/html": [
       "<h3>Cluster 41.3</h3>"
      ],
      "text/plain": [
       "<IPython.core.display.HTML object>"
      ]
     },
     "metadata": {},
     "output_type": "display_data"
    },
    {
     "data": {
      "text/plain": [
       "2"
      ]
     },
     "metadata": {},
     "output_type": "display_data"
    },
    {
     "data": {
      "text/plain": [
       "Index(['30180_raw-Lymphocyte_percentage', '30200_raw-Neutrophill_percentage'], dtype='object')"
      ]
     },
     "metadata": {},
     "output_type": "display_data"
    },
    {
     "data": {
      "text/html": [
       "<h3>Cluster 41.4</h3>"
      ],
      "text/plain": [
       "<IPython.core.display.HTML object>"
      ]
     },
     "metadata": {},
     "output_type": "display_data"
    },
    {
     "data": {
      "text/plain": [
       "3"
      ]
     },
     "metadata": {},
     "output_type": "display_data"
    },
    {
     "data": {
      "text/plain": [
       "Index(['30130_raw-Monocyte_count', '30190_raw-Monocyte_percentage',\n",
       "       'monocyte count'],\n",
       "      dtype='object')"
      ]
     },
     "metadata": {},
     "output_type": "display_data"
    },
    {
     "data": {
      "text/html": [
       "<h3>Cluster 41.5</h3>"
      ],
      "text/plain": [
       "<IPython.core.display.HTML object>"
      ]
     },
     "metadata": {},
     "output_type": "display_data"
    },
    {
     "data": {
      "text/plain": [
       "3"
      ]
     },
     "metadata": {},
     "output_type": "display_data"
    },
    {
     "data": {
      "text/plain": [
       "Index(['20015_raw-Sitting_height', '50_raw-Standing_height', 'body height'], dtype='object')"
      ]
     },
     "metadata": {},
     "output_type": "display_data"
    },
    {
     "data": {
      "text/html": [
       "<h3>Cluster 41.6</h3>"
      ],
      "text/plain": [
       "<IPython.core.display.HTML object>"
      ]
     },
     "metadata": {},
     "output_type": "display_data"
    },
    {
     "data": {
      "text/plain": [
       "4"
      ]
     },
     "metadata": {},
     "output_type": "display_data"
    },
    {
     "data": {
      "text/plain": [
       "Index(['30040_raw-Mean_corpuscular_volume',\n",
       "       '30050_raw-Mean_corpuscular_haemoglobin',\n",
       "       '30260_raw-Mean_reticulocyte_volume',\n",
       "       '30270_raw-Mean_sphered_cell_volume'],\n",
       "      dtype='object')"
      ]
     },
     "metadata": {},
     "output_type": "display_data"
    },
    {
     "data": {
      "text/html": [
       "<h3>Cluster 41.7</h3>"
      ],
      "text/plain": [
       "<IPython.core.display.HTML object>"
      ]
     },
     "metadata": {},
     "output_type": "display_data"
    },
    {
     "data": {
      "text/plain": [
       "5"
      ]
     },
     "metadata": {},
     "output_type": "display_data"
    },
    {
     "data": {
      "text/plain": [
       "Index(['23106_raw-Impedance_of_whole_body', '23107_raw-Impedance_of_leg_right',\n",
       "       '23108_raw-Impedance_of_leg_left', '23109_raw-Impedance_of_arm_right',\n",
       "       '23110_raw-Impedance_of_arm_left'],\n",
       "      dtype='object')"
      ]
     },
     "metadata": {},
     "output_type": "display_data"
    },
    {
     "data": {
      "text/html": [
       "<h3>Cluster 41.8</h3>"
      ],
      "text/plain": [
       "<IPython.core.display.HTML object>"
      ]
     },
     "metadata": {},
     "output_type": "display_data"
    },
    {
     "data": {
      "text/plain": [
       "4"
      ]
     },
     "metadata": {},
     "output_type": "display_data"
    },
    {
     "data": {
      "text/plain": [
       "Index(['30010_raw-Red_blood_cell_erythrocyte_count',\n",
       "       '30020_raw-Haemoglobin_concentration',\n",
       "       '30030_raw-Haematocrit_percentage', 'erythrocyte count'],\n",
       "      dtype='object')"
      ]
     },
     "metadata": {},
     "output_type": "display_data"
    },
    {
     "data": {
      "text/html": [
       "<h3>Cluster 41.9</h3>"
      ],
      "text/plain": [
       "<IPython.core.display.HTML object>"
      ]
     },
     "metadata": {},
     "output_type": "display_data"
    },
    {
     "data": {
      "text/plain": [
       "6"
      ]
     },
     "metadata": {},
     "output_type": "display_data"
    },
    {
     "data": {
      "text/plain": [
       "Index(['30000_raw-White_blood_cell_leukocyte_count',\n",
       "       '30140_raw-Neutrophill_count', 'granulocyte count', 'leukocyte count',\n",
       "       'myeloid white cell count', 'neutrophil count'],\n",
       "      dtype='object')"
      ]
     },
     "metadata": {},
     "output_type": "display_data"
    },
    {
     "data": {
      "text/html": [
       "<h3>Cluster 41.10</h3>"
      ],
      "text/plain": [
       "<IPython.core.display.HTML object>"
      ]
     },
     "metadata": {},
     "output_type": "display_data"
    },
    {
     "data": {
      "text/plain": [
       "6"
      ]
     },
     "metadata": {},
     "output_type": "display_data"
    },
    {
     "data": {
      "text/plain": [
       "Index(['30240_raw-Reticulocyte_percentage', '30250_raw-Reticulocyte_count',\n",
       "       '30280_raw-Immature_reticulocyte_fraction',\n",
       "       '30290_raw-High_light_scatter_reticulocyte_percentage',\n",
       "       '30300_raw-High_light_scatter_reticulocyte_count',\n",
       "       'reticulocyte count'],\n",
       "      dtype='object')"
      ]
     },
     "metadata": {},
     "output_type": "display_data"
    },
    {
     "data": {
      "text/html": [
       "<h3>Cluster 41.11</h3>"
      ],
      "text/plain": [
       "<IPython.core.display.HTML object>"
      ]
     },
     "metadata": {},
     "output_type": "display_data"
    },
    {
     "data": {
      "text/plain": [
       "5"
      ]
     },
     "metadata": {},
     "output_type": "display_data"
    },
    {
     "data": {
      "text/plain": [
       "Index(['4079_raw-Diastolic_blood_pressure_automated_reading',\n",
       "       '4080_raw-Systolic_blood_pressure_automated_reading',\n",
       "       '6150_100-Vascularheart_problems_diagnosed_by_doctor_None_of_the_above',\n",
       "       '6150_4-Vascularheart_problems_diagnosed_by_doctor_High_blood_pressure',\n",
       "       'hypertension'],\n",
       "      dtype='object')"
      ]
     },
     "metadata": {},
     "output_type": "display_data"
    },
    {
     "data": {
      "text/html": [
       "<h3>Cluster 41.12</h3>"
      ],
      "text/plain": [
       "<IPython.core.display.HTML object>"
      ]
     },
     "metadata": {},
     "output_type": "display_data"
    },
    {
     "data": {
      "text/plain": [
       "8"
      ]
     },
     "metadata": {},
     "output_type": "display_data"
    },
    {
     "data": {
      "text/plain": [
       "Index(['4101_raw-Heel_broadband_ultrasound_attenuation_left',\n",
       "       '4104_raw-Heel_quantitative_ultrasound_index_QUI_direct_entry_left',\n",
       "       '4105_raw-Heel_bone_mineral_density_BMD_left',\n",
       "       '4106_raw-Heel_bone_mineral_density_BMD_Tscore_automated_left',\n",
       "       '4120_raw-Heel_broadband_ultrasound_attenuation_right',\n",
       "       '4123_raw-Heel_quantitative_ultrasound_index_QUI_direct_entry_right',\n",
       "       '4124_raw-Heel_bone_mineral_density_BMD_right',\n",
       "       '4125_raw-Heel_bone_mineral_density_BMD_Tscore_automated_right'],\n",
       "      dtype='object')"
      ]
     },
     "metadata": {},
     "output_type": "display_data"
    },
    {
     "data": {
      "text/html": [
       "<h3>Cluster 41.13</h3>"
      ],
      "text/plain": [
       "<IPython.core.display.HTML object>"
      ]
     },
     "metadata": {},
     "output_type": "display_data"
    },
    {
     "data": {
      "text/plain": [
       "4"
      ]
     },
     "metadata": {},
     "output_type": "display_data"
    },
    {
     "data": {
      "text/plain": [
       "Index(['20150_raw-Forced_expiratory_volume_in_1second_FEV1_Best_measure',\n",
       "       '20151_raw-Forced_vital_capacity_FVC_Best_measure',\n",
       "       '3062_raw-Forced_vital_capacity_FVC',\n",
       "       '3063_raw-Forced_expiratory_volume_in_1second_FEV1'],\n",
       "      dtype='object')"
      ]
     },
     "metadata": {},
     "output_type": "display_data"
    },
    {
     "data": {
      "text/html": [
       "<h3>Cluster 41.14</h3>"
      ],
      "text/plain": [
       "<IPython.core.display.HTML object>"
      ]
     },
     "metadata": {},
     "output_type": "display_data"
    },
    {
     "data": {
      "text/plain": [
       "4"
      ]
     },
     "metadata": {},
     "output_type": "display_data"
    },
    {
     "data": {
      "text/plain": [
       "Index(['3144_raw-Heel_Broadband_ultrasound_attenuation_direct_entry',\n",
       "       '3147_raw-Heel_quantitative_ultrasound_index_QUI_direct_entry',\n",
       "       '3148_raw-Heel_bone_mineral_density_BMD',\n",
       "       '78_raw-Heel_bone_mineral_density_BMD_Tscore_automated'],\n",
       "      dtype='object')"
      ]
     },
     "metadata": {},
     "output_type": "display_data"
    },
    {
     "data": {
      "text/html": [
       "<h3>Cluster 41.15</h3>"
      ],
      "text/plain": [
       "<IPython.core.display.HTML object>"
      ]
     },
     "metadata": {},
     "output_type": "display_data"
    },
    {
     "data": {
      "text/plain": [
       "2"
      ]
     },
     "metadata": {},
     "output_type": "display_data"
    },
    {
     "data": {
      "text/plain": [
       "Index(['46_raw-Hand_grip_strength_left', '47_raw-Hand_grip_strength_right'], dtype='object')"
      ]
     },
     "metadata": {},
     "output_type": "display_data"
    },
    {
     "data": {
      "text/html": [
       "<h3>Cluster 41.16</h3>"
      ],
      "text/plain": [
       "<IPython.core.display.HTML object>"
      ]
     },
     "metadata": {},
     "output_type": "display_data"
    },
    {
     "data": {
      "text/plain": [
       "8"
      ]
     },
     "metadata": {},
     "output_type": "display_data"
    },
    {
     "data": {
      "text/plain": [
       "Index(['5096_raw-3mm_weak_meridian_left', '5097_raw-6mm_weak_meridian_left',\n",
       "       '5098_raw-6mm_weak_meridian_right', '5099_raw-3mm_weak_meridian_right',\n",
       "       '5132_raw-3mm_strong_meridian_right',\n",
       "       '5133_raw-6mm_strong_meridian_right',\n",
       "       '5134_raw-6mm_strong_meridian_left',\n",
       "       '5135_raw-3mm_strong_meridian_left'],\n",
       "      dtype='object')"
      ]
     },
     "metadata": {},
     "output_type": "display_data"
    },
    {
     "data": {
      "text/html": [
       "<h3>Cluster 41.17</h3>"
      ],
      "text/plain": [
       "<IPython.core.display.HTML object>"
      ]
     },
     "metadata": {},
     "output_type": "display_data"
    },
    {
     "data": {
      "text/plain": [
       "8"
      ]
     },
     "metadata": {},
     "output_type": "display_data"
    },
    {
     "data": {
      "text/plain": [
       "Index(['1717-Skin_colour', '1727-Ease_of_skin_tanning',\n",
       "       '1737-Childhood_sunburn_occasions',\n",
       "       '1747_1-Hair_colour_natural_before_greying_Blonde',\n",
       "       '1747_2-Hair_colour_natural_before_greying_Red',\n",
       "       '1747_3-Hair_colour_natural_before_greying_Light_brown',\n",
       "       '1747_4-Hair_colour_natural_before_greying_Dark_brown',\n",
       "       '1747_5-Hair_colour_natural_before_greying_Black'],\n",
       "      dtype='object')"
      ]
     },
     "metadata": {},
     "output_type": "display_data"
    },
    {
     "data": {
      "text/html": [
       "<h3>Cluster 41.18</h3>"
      ],
      "text/plain": [
       "<IPython.core.display.HTML object>"
      ]
     },
     "metadata": {},
     "output_type": "display_data"
    },
    {
     "data": {
      "text/plain": [
       "4"
      ]
     },
     "metadata": {},
     "output_type": "display_data"
    },
    {
     "data": {
      "text/plain": [
       "Index(['6152_100-Blood_clot_DVT_bronchitis_emphysema_asthma_rhinitis_eczema_allergy_diagnosed_by_doctor_None_of_the_above',\n",
       "       '6152_8-Blood_clot_DVT_bronchitis_emphysema_asthma_rhinitis_eczema_allergy_diagnosed_by_doctor_Asthma',\n",
       "       '6152_9-Blood_clot_DVT_bronchitis_emphysema_asthma_rhinitis_eczema_allergy_diagnosed_by_doctor_Hayfever_allergic_rhinitis_or_eczema',\n",
       "       'asthma'],\n",
       "      dtype='object')"
      ]
     },
     "metadata": {},
     "output_type": "display_data"
    },
    {
     "data": {
      "text/html": [
       "<h3>Cluster 41.19</h3>"
      ],
      "text/plain": [
       "<IPython.core.display.HTML object>"
      ]
     },
     "metadata": {},
     "output_type": "display_data"
    },
    {
     "data": {
      "text/plain": [
       "8"
      ]
     },
     "metadata": {},
     "output_type": "display_data"
    },
    {
     "data": {
      "text/plain": [
       "Index(['20003_1141191044-Treatmentmedication_code_levothyroxine_sodium',\n",
       "       'K11_COELIAC-Coeliac_disease', 'celiac disease',\n",
       "       'hypothyroidism AND myxedema', 'malabsorption syndrome', 'psoriasis',\n",
       "       'rheumatoid arthritis', 'systemic lupus erythematosus'],\n",
       "      dtype='object')"
      ]
     },
     "metadata": {},
     "output_type": "display_data"
    },
    {
     "data": {
      "text/html": [
       "<h3>Cluster 41.20</h3>"
      ],
      "text/plain": [
       "<IPython.core.display.HTML object>"
      ]
     },
     "metadata": {},
     "output_type": "display_data"
    },
    {
     "data": {
      "text/plain": [
       "16"
      ]
     },
     "metadata": {},
     "output_type": "display_data"
    },
    {
     "data": {
      "text/plain": [
       "Index(['1050-Time_spend_outdoors_in_summer',\n",
       "       '1070-Time_spent_watching_television_TV',\n",
       "       '20016_raw-Fluid_intelligence_score',\n",
       "       '2139_raw-Age_first_had_sexual_intercourse',\n",
       "       '22501_raw-Year_ended_full_time_education',\n",
       "       '2754_raw-Age_at_first_live_birth',\n",
       "       '6138_1-Qualifications_College_or_University_degree',\n",
       "       '6138_100-Qualifications_None_of_the_above',\n",
       "       '6138_2-Qualifications_A_levelsAS_levels_or_equivalent',\n",
       "       '6138_3-Qualifications_O_levelsGCSEs_or_equivalent',\n",
       "       '738-Average_total_household_income_before_tax',\n",
       "       '806-Job_involves_mainly_walking_or_standing',\n",
       "       '816-Job_involves_heavy_manual_or_physical_work',\n",
       "       'SSGAC_Education_Years_Pooled', 'schizophrenia',\n",
       "       'self reported educational attainment'],\n",
       "      dtype='object')"
      ]
     },
     "metadata": {},
     "output_type": "display_data"
    },
    {
     "data": {
      "text/html": [
       "<h3>Cluster 41.21</h3>"
      ],
      "text/plain": [
       "<IPython.core.display.HTML object>"
      ]
     },
     "metadata": {},
     "output_type": "display_data"
    },
    {
     "data": {
      "text/plain": [
       "6"
      ]
     },
     "metadata": {},
     "output_type": "display_data"
    },
    {
     "data": {
      "text/plain": [
       "Index(['102_raw-Pulse_rate_automated_reading',\n",
       "       '3064_raw-Peak_expiratory_flow_PEF',\n",
       "       '4100_raw-Ankle_spacing_width_left',\n",
       "       '4119_raw-Ankle_spacing_width_right',\n",
       "       'comparative body size at age 10, self-reported',\n",
       "       'inflammatory bowel disease'],\n",
       "      dtype='object')"
      ]
     },
     "metadata": {},
     "output_type": "display_data"
    },
    {
     "data": {
      "text/html": [
       "<h3>Cluster 41.22</h3>"
      ],
      "text/plain": [
       "<IPython.core.display.HTML object>"
      ]
     },
     "metadata": {},
     "output_type": "display_data"
    },
    {
     "data": {
      "text/plain": [
       "8"
      ]
     },
     "metadata": {},
     "output_type": "display_data"
    },
    {
     "data": {
      "text/plain": [
       "Index(['5254_raw-Intraocular_pressure_cornealcompensated_right',\n",
       "       '5255_raw-Intraocular_pressure_Goldmanncorrelated_right',\n",
       "       '5256_raw-Corneal_hysteresis_right',\n",
       "       '5257_raw-Corneal_resistance_factor_right',\n",
       "       '5262_raw-Intraocular_pressure_cornealcompensated_left',\n",
       "       '5263_raw-Intraocular_pressure_Goldmanncorrelated_left',\n",
       "       '5264_raw-Corneal_hysteresis_left',\n",
       "       '5265_raw-Corneal_resistance_factor_left'],\n",
       "      dtype='object')"
      ]
     },
     "metadata": {},
     "output_type": "display_data"
    },
    {
     "data": {
      "text/html": [
       "<h3>Cluster 41.23</h3>"
      ],
      "text/plain": [
       "<IPython.core.display.HTML object>"
      ]
     },
     "metadata": {},
     "output_type": "display_data"
    },
    {
     "data": {
      "text/plain": [
       "15"
      ]
     },
     "metadata": {},
     "output_type": "display_data"
    },
    {
     "data": {
      "text/plain": [
       "Index(['EAGLE_Eczema', 'Jones_et_al_2016_Chronotype', 'MAGNETIC_CH2.DB.ratio',\n",
       "       'MAGNETIC_HDL.C', 'MAGNETIC_IDL.TG', 'MAGNETIC_LDL.C',\n",
       "       'alzheimer's disease', 'attention deficit hyperactivity disorder',\n",
       "       'depressive symptom measurement',\n",
       "       'estrogen-receptor negative breast cancer',\n",
       "       'estrogen-receptor positive breast cancer',\n",
       "       'family history of breast cancer', 'fasting blood glucose measurement',\n",
       "       'fasting blood insulin measurement', 'intracranial volume measurement'],\n",
       "      dtype='object')"
      ]
     },
     "metadata": {},
     "output_type": "display_data"
    },
    {
     "data": {
      "text/html": [
       "<h3>Cluster 41.24</h3>"
      ],
      "text/plain": [
       "<IPython.core.display.HTML object>"
      ]
     },
     "metadata": {},
     "output_type": "display_data"
    },
    {
     "data": {
      "text/plain": [
       "13"
      ]
     },
     "metadata": {},
     "output_type": "display_data"
    },
    {
     "data": {
      "text/plain": [
       "Index(['23101_raw-Whole_body_fatfree_mass', '23102_raw-Whole_body_water_mass',\n",
       "       '23105_raw-Basal_metabolic_rate', '23113_raw-Leg_fatfree_mass_right',\n",
       "       '23114_raw-Leg_predicted_mass_right', '23117_raw-Leg_fatfree_mass_left',\n",
       "       '23118_raw-Leg_predicted_mass_left', '23121_raw-Arm_fatfree_mass_right',\n",
       "       '23122_raw-Arm_predicted_mass_right', '23125_raw-Arm_fatfree_mass_left',\n",
       "       '23126_raw-Arm_predicted_mass_left', '23129_raw-Trunk_fatfree_mass',\n",
       "       '23130_raw-Trunk_predicted_mass'],\n",
       "      dtype='object')"
      ]
     },
     "metadata": {},
     "output_type": "display_data"
    },
    {
     "data": {
      "text/html": [
       "<h3>Cluster 41.25</h3>"
      ],
      "text/plain": [
       "<IPython.core.display.HTML object>"
      ]
     },
     "metadata": {},
     "output_type": "display_data"
    },
    {
     "data": {
      "text/plain": [
       "22"
      ]
     },
     "metadata": {},
     "output_type": "display_data"
    },
    {
     "data": {
      "text/plain": [
       "Index(['129_raw-Place_of_birth_in_UK_north_coordinate',\n",
       "       '130_raw-Place_of_birth_in_UK_east_coordinate',\n",
       "       '2395_1-Hairbalding_pattern_Pattern_1',\n",
       "       'androgenetic alopecia AND balding measurement', 'birth weight',\n",
       "       'bone disease', 'cardiac arrhythmia', 'checkup', 'device complication',\n",
       "       'diabetes mellitus', 'emotional symptom measurement',\n",
       "       'encounter with health service', 'female reproductive system disease',\n",
       "       'head injury', 'injury', 'joint disease', 'kidney failure',\n",
       "       'leg injury', 'non-hodgkins lymphoma', 'poisoning',\n",
       "       'pregnancy disorder', 'soft tissue disease'],\n",
       "      dtype='object')"
      ]
     },
     "metadata": {},
     "output_type": "display_data"
    },
    {
     "data": {
      "text/html": [
       "<h3>Cluster 41.26</h3>"
      ],
      "text/plain": [
       "<IPython.core.display.HTML object>"
      ]
     },
     "metadata": {},
     "output_type": "display_data"
    },
    {
     "data": {
      "text/plain": [
       "18"
      ]
     },
     "metadata": {},
     "output_type": "display_data"
    },
    {
     "data": {
      "text/plain": [
       "Index(['21001_raw-Body_mass_index_BMI', '21002_raw-Weight', '23098_raw-Weight',\n",
       "       '23099_raw-Body_fat_percentage', '23100_raw-Whole_body_fat_mass',\n",
       "       '23104_raw-Body_mass_index_BMI', '23111_raw-Leg_fat_percentage_right',\n",
       "       '23112_raw-Leg_fat_mass_right', '23115_raw-Leg_fat_percentage_left',\n",
       "       '23116_raw-Leg_fat_mass_left', '23119_raw-Arm_fat_percentage_right',\n",
       "       '23120_raw-Arm_fat_mass_right', '23123_raw-Arm_fat_percentage_left',\n",
       "       '23124_raw-Arm_fat_mass_left', '23127_raw-Trunk_fat_percentage',\n",
       "       '23128_raw-Trunk_fat_mass', '48_raw-Waist_circumference',\n",
       "       '49_raw-Hip_circumference'],\n",
       "      dtype='object')"
      ]
     },
     "metadata": {},
     "output_type": "display_data"
    },
    {
     "data": {
      "text/html": [
       "<h3>Cluster 41.27</h3>"
      ],
      "text/plain": [
       "<IPython.core.display.HTML object>"
      ]
     },
     "metadata": {},
     "output_type": "display_data"
    },
    {
     "data": {
      "text/plain": [
       "1"
      ]
     },
     "metadata": {},
     "output_type": "display_data"
    },
    {
     "data": {
      "text/plain": [
       "Index(['20153_raw-Forced_expiratory_volume_in_1second_FEV1_predicted'], dtype='object')"
      ]
     },
     "metadata": {},
     "output_type": "display_data"
    },
    {
     "data": {
      "text/html": [
       "<h3>Cluster 41.28</h3>"
      ],
      "text/plain": [
       "<IPython.core.display.HTML object>"
      ]
     },
     "metadata": {},
     "output_type": "display_data"
    },
    {
     "data": {
      "text/plain": [
       "24"
      ]
     },
     "metadata": {},
     "output_type": "display_data"
    },
    {
     "data": {
      "text/plain": [
       "Index(['20003_1140861958-Treatmentmedication_code_simvastatin',\n",
       "       '20003_1140868226-Treatmentmedication_code_aspirin',\n",
       "       '20003_1141194794-Treatmentmedication_code_bendroflumethiazide',\n",
       "       '6150_1-Vascularheart_problems_diagnosed_by_doctor_Heart_attack',\n",
       "       '6150_2-Vascularheart_problems_diagnosed_by_doctor_Angina',\n",
       "       '6153_1-Medication_for_cholesterol_blood_pressure_diabetes_or_take_exogenous_hormones_Cholesterol_lowering_medication',\n",
       "       '6153_100-Medication_for_cholesterol_blood_pressure_diabetes_or_take_exogenous_hormones_None_of_the_above',\n",
       "       '6154_1-Medication_for_pain_relief_constipation_heartburn_Aspirin',\n",
       "       '6177_1-Medication_for_cholesterol_blood_pressure_or_diabetes_Cholesterol_lowering_medication',\n",
       "       '6177_100-Medication_for_cholesterol_blood_pressure_or_diabetes_None_of_the_above',\n",
       "       '6177_2-Medication_for_cholesterol_blood_pressure_or_diabetes_Blood_pressure_medication',\n",
       "       'I9_CHD-Major_coronary_heart_disease_event',\n",
       "       'I9_CHD_NOREV-Major_coronary_heart_disease_event_excluding_revascularizations',\n",
       "       'I9_CORATHER-Coronary_atherosclerosis',\n",
       "       'I9_IHD-Ischaemic_heart_disease_wide_definition',\n",
       "       'I9_MI-Myocardial_infarction',\n",
       "       'I9_MI_STRICT-Myocardial_infarction_strict',\n",
       "       'IX_CIRCULATORY-Diseases_of_the_circulatory_system',\n",
       "       'acute myocardial infarction', 'angina pectoris',\n",
       "       'coronary artery disease', 'hypercholesterolemia',\n",
       "       'myocardial infarction',\n",
       "       'number of treatments or medications taken, self-reported'],\n",
       "      dtype='object')"
      ]
     },
     "metadata": {},
     "output_type": "display_data"
    },
    {
     "data": {
      "text/html": [
       "<h3>Cluster 41.29</h3>"
      ],
      "text/plain": [
       "<IPython.core.display.HTML object>"
      ]
     },
     "metadata": {},
     "output_type": "display_data"
    },
    {
     "data": {
      "text/plain": [
       "6"
      ]
     },
     "metadata": {},
     "output_type": "display_data"
    },
    {
     "data": {
      "text/plain": [
       "Index(['20116_0-Smoking_status_Never', '20116_1-Smoking_status_Previous',\n",
       "       '20127_raw-Neuroticism_score', '20160-Ever_smoked', 'anxiety',\n",
       "       'smoking cessation'],\n",
       "      dtype='object')"
      ]
     },
     "metadata": {},
     "output_type": "display_data"
    },
    {
     "data": {
      "text/html": [
       "<h3>Cluster 41.30</h3>"
      ],
      "text/plain": [
       "<IPython.core.display.HTML object>"
      ]
     },
     "metadata": {},
     "output_type": "display_data"
    },
    {
     "data": {
      "text/plain": [
       "3"
      ]
     },
     "metadata": {},
     "output_type": "display_data"
    },
    {
     "data": {
      "text/plain": [
       "Index(['30080_raw-Platelet_count', '30090_raw-Platelet_crit',\n",
       "       'platelet count'],\n",
       "      dtype='object')"
      ]
     },
     "metadata": {},
     "output_type": "display_data"
    },
    {
     "data": {
      "text/html": [
       "<h3>Cluster 41.31</h3>"
      ],
      "text/plain": [
       "<IPython.core.display.HTML object>"
      ]
     },
     "metadata": {},
     "output_type": "display_data"
    },
    {
     "data": {
      "text/plain": [
       "1"
      ]
     },
     "metadata": {},
     "output_type": "display_data"
    },
    {
     "data": {
      "text/plain": [
       "Index(['eosinophil count'], dtype='object')"
      ]
     },
     "metadata": {},
     "output_type": "display_data"
    },
    {
     "data": {
      "text/html": [
       "<h3>Cluster 41.32</h3>"
      ],
      "text/plain": [
       "<IPython.core.display.HTML object>"
      ]
     },
     "metadata": {},
     "output_type": "display_data"
    },
    {
     "data": {
      "text/plain": [
       "30"
      ]
     },
     "metadata": {},
     "output_type": "display_data"
    },
    {
     "data": {
      "text/plain": [
       "Index(['1080-Time_spent_using_computer', '1319-Dried_fruit_intake',\n",
       "       '1478-Salt_added_to_food', '1488_raw-Tea_intake',\n",
       "       '1518-Hot_drink_temperature', '1528-Water_intake', '1757-Facial_ageing',\n",
       "       '20022_raw-Birth_weight',\n",
       "       '20154_raw-Forced_expiratory_volume_in_1second_FEV1_predicted_percentage',\n",
       "       '2217_raw-Age_started_wearing_glasses_or_contact_lenses',\n",
       "       '2237-Plays_computer_games',\n",
       "       '30060_raw-Mean_corpuscular_haemoglobin_concentration',\n",
       "       '30530_raw-Sodium_in_urine',\n",
       "       '399_raw-Number_of_incorrect_matches_in_round',\n",
       "       '400_raw-Time_to_complete_round', '4194_raw-Pulse_rate',\n",
       "       '5084_raw-Spherical_power_right', '5085_raw-Spherical_power_left',\n",
       "       '924-Usual_walking_pace', 'age at first facial hair', 'age at menarche',\n",
       "       'chronotype measurement',\n",
       "       'ease of getting up in the morning, self-reported',\n",
       "       'excessive daytime sleepiness measurement AND narcolepsy without cataplexy',\n",
       "       'hearing loss', 'insomnia', 'nap during day, self-reported',\n",
       "       'sleep duration', 'snoring measurement', 'wheezing'],\n",
       "      dtype='object')"
      ]
     },
     "metadata": {},
     "output_type": "display_data"
    },
    {
     "data": {
      "text/html": [
       "<h3>Cluster 41.33</h3>"
      ],
      "text/plain": [
       "<IPython.core.display.HTML object>"
      ]
     },
     "metadata": {},
     "output_type": "display_data"
    },
    {
     "data": {
      "text/plain": [
       "19"
      ]
     },
     "metadata": {},
     "output_type": "display_data"
    },
    {
     "data": {
      "text/plain": [
       "Index(['100001_raw-Food_weight', '100002_raw-Energy', '100003_raw-Protein',\n",
       "       '100004_raw-Fat', '100005_raw-Carbohydrate', '100006_raw-Saturated_fat',\n",
       "       '100007_raw-Polyunsaturated_fat', '100008_raw-Total_sugars',\n",
       "       '100009_raw-Englyst_dietary_fibre', '100011_raw-Iron',\n",
       "       '100012_raw-Vitamin_B6', '100014_raw-Folate', '100015_raw-Vitamin_C',\n",
       "       '100016_raw-Potassium', '100017_raw-Magnesium', '100019_raw-Carotene',\n",
       "       '100023_raw-Starch', '100024_raw-Calcium', '100025_raw-Vitamin_E'],\n",
       "      dtype='object')"
      ]
     },
     "metadata": {},
     "output_type": "display_data"
    },
    {
     "data": {
      "text/html": [
       "<h3>Cluster 41.34</h3>"
      ],
      "text/plain": [
       "<IPython.core.display.HTML object>"
      ]
     },
     "metadata": {},
     "output_type": "display_data"
    },
    {
     "data": {
      "text/plain": [
       "25"
      ]
     },
     "metadata": {},
     "output_type": "display_data"
    },
    {
     "data": {
      "text/plain": [
       "Index(['1448_4-Bread_type_Other_type_of_bread',\n",
       "       '20003_1140869848-Treatmentmedication_code_methotrexate',\n",
       "       '20003_1140883066-Treatmentmedication_code_insulin_product',\n",
       "       '20003_1140884516-Treatmentmedication_code_thyroxine_product',\n",
       "       '20003_1141179992-Treatmentmedication_code_dovobet_ointment',\n",
       "       '2976_raw-Age_diabetes_diagnosed',\n",
       "       '2986-Started_insulin_within_one_year_diagnosis_of_diabetes',\n",
       "       '6144_3-Never_eat_eggs_dairy_wheat_sugar_Wheat_products',\n",
       "       '6153_3-Medication_for_cholesterol_blood_pressure_diabetes_or_take_exogenous_hormones_Insulin',\n",
       "       '6177_3-Medication_for_cholesterol_blood_pressure_or_diabetes_Insulin',\n",
       "       'DM_KETOACIDOSIS-Diabetic_ketoacidosis', 'E4_DM1-Type_1_diabetes',\n",
       "       'E4_DM1KETO-Type_1_diabetes_with_ketoacidosis',\n",
       "       'K11_OTHDIG-Other_diseases_of_the_digestive_system',\n",
       "       'M13_POLYARTHROPATHIES-Polyarthropathies',\n",
       "       'M13_RHEUMA-Rheumatoid_arthritis',\n",
       "       'RHEUMA_NOS-Otherunspecified_rheumatoid_arthritis',\n",
       "       'RHEUMA_SEROPOS-Seropositive_rheumatoid_arthritis',\n",
       "       'RHEUMA_SEROPOS_OTH-Otherunspecified_seropositiverheumatoid_arthritis',\n",
       "       'STILL_ADULT-Adultonset_Still_disease', 'ankylosing spondylitis',\n",
       "       'hematuria', 'hyperthyroidism AND thyrotoxicosis',\n",
       "       'psoriatic arthritis', 'type i diabetes mellitus'],\n",
       "      dtype='object')"
      ]
     },
     "metadata": {},
     "output_type": "display_data"
    },
    {
     "data": {
      "text/html": [
       "<h3>Cluster 41.35</h3>"
      ],
      "text/plain": [
       "<IPython.core.display.HTML object>"
      ]
     },
     "metadata": {},
     "output_type": "display_data"
    },
    {
     "data": {
      "text/plain": [
       "122"
      ]
     },
     "metadata": {},
     "output_type": "display_data"
    },
    {
     "data": {
      "text/plain": [
       "Index(['1031-Frequency_of_friendfamily_visits',\n",
       "       '1060-Time_spent_outdoors_in_winter', '1090-Time_spent_driving',\n",
       "       '1100-Drive_faster_than_motorway_speed_limit',\n",
       "       '110001-Invitation_to_complete_online_24hour_recall_dietary_questionnaire_acceptance',\n",
       "       '1120-Weekly_usage_of_mobile_phone_in_last_3_months',\n",
       "       '1289-Cooked_vegetable_intake', '1299-Salad_raw_vegetable_intake',\n",
       "       '1309-Fresh_fruit_intake', '1329-Oily_fish_intake',\n",
       "       ...\n",
       "       'menopause', 'migraine disorder', 'number of operations, self-reported',\n",
       "       'osteoarthritis', 'osteoarthritis, hip', 'osteoarthritis, knee',\n",
       "       'osteoporosis', 'parkinson's disease', 'smoking behavior',\n",
       "       'varicose veins'],\n",
       "      dtype='object', length=122)"
      ]
     },
     "metadata": {},
     "output_type": "display_data"
    },
    {
     "data": {
      "text/html": [
       "<h3>Cluster 41.36</h3>"
      ],
      "text/plain": [
       "<IPython.core.display.HTML object>"
      ]
     },
     "metadata": {},
     "output_type": "display_data"
    },
    {
     "data": {
      "text/plain": [
       "40"
      ]
     },
     "metadata": {},
     "output_type": "display_data"
    },
    {
     "data": {
      "text/plain": [
       "Index(['1110-Length_of_mobile_phone_use', '1448_1-Bread_type_White',\n",
       "       '1448_3-Bread_type_Wholemeal_or_wholegrain',\n",
       "       '1508_3-Coffee_type_Ground_coffee_include_espresso_filter_etc',\n",
       "       '1787-Maternal_smoking_around_birth',\n",
       "       '20003_2038460150-Treatmentmedication_code_paracetamol',\n",
       "       '20023_raw-Mean_time_to_correctly_identify_matches',\n",
       "       '20111_100-Illnesses_of_siblings_None_of_the_above_group_1',\n",
       "       '20111_8-Illnesses_of_siblings_High_blood_pressure',\n",
       "       '2070-Frequency_of_tenseness_restlessness_in_last_2_weeks',\n",
       "       '2247_0-Hearing_difficultyproblems_No', '2267-Use_of_sunuv_protection',\n",
       "       '2492-Taking_other_prescription_medications',\n",
       "       '30510_raw-Creatinine_enzymatic_in_urine',\n",
       "       '30520_raw-Potassium_in_urine',\n",
       "       '404_raw-Duration_to_first_press_of_snapbutton_in_each_round',\n",
       "       '6142_4-Current_employment_status_Unable_to_work_because_of_sickness_or_disability',\n",
       "       '6144_4-Never_eat_eggs_dairy_wheat_sugar_Sugar_or_foodsdrinks_containing_sugar',\n",
       "       '6144_5-Never_eat_eggs_dairy_wheat_sugar_I_eat_all_of_the_above',\n",
       "       '6146_100-Attendancedisabilitymobility_allowance_None_of_the_above',\n",
       "       '6146_2-Attendancedisabilitymobility_allowance_Disability_living_allowance',\n",
       "       '6154_100-Medication_for_pain_relief_constipation_heartburn_None_of_the_above',\n",
       "       '6154_3-Medication_for_pain_relief_constipation_heartburn_Paracetamol',\n",
       "       '6159_1-Pain_types_experienced_in_last_month_Headache',\n",
       "       '6159_100-Pain_types_experienced_in_last_month_None_of_the_above',\n",
       "       '6159_3-Pain_types_experienced_in_last_month_Neck_or_shoulder_pain',\n",
       "       '6159_7-Pain_types_experienced_in_last_month_Knee_pain',\n",
       "       '943-Frequency_of_stair_climbing_in_last_4_weeks',\n",
       "       'alcohol consumption measurement', 'chronic disease',\n",
       "       'feeling tense measurement', 'health satisfaction measurement',\n",
       "       'irritability', 'mood swings', 'nervousness',\n",
       "       'number of non-cancer illnesses, self-reported',\n",
       "       'seeing a general practitioner for nerves, anxiety, tension or depression, self-reported',\n",
       "       'self rated health', 'tiredness measurement', 'worry measurement'],\n",
       "      dtype='object')"
      ]
     },
     "metadata": {},
     "output_type": "display_data"
    },
    {
     "data": {
      "text/html": [
       "<h3>Cluster 41.37</h3>"
      ],
      "text/plain": [
       "<IPython.core.display.HTML object>"
      ]
     },
     "metadata": {},
     "output_type": "display_data"
    },
    {
     "data": {
      "text/plain": [
       "34"
      ]
     },
     "metadata": {},
     "output_type": "display_data"
    },
    {
     "data": {
      "text/plain": [
       "Index(['20421-Ever_felt_worried_tense_or_anxious_for_most_of_a_month_or_longer',\n",
       "       '20425-Ever_worried_more_than_most_people_would_in_similar_situation',\n",
       "       '20441-Ever_had_prolonged_loss_of_interest_in_normal_activities',\n",
       "       '20446-Ever_had_prolonged_feelings_of_sadness_or_depression',\n",
       "       '20458-General_happiness', '20459-General_happiness_with_own_health',\n",
       "       '20460-Belief_that_own_life_is_meaningful',\n",
       "       '20479-Ever_thought_that_life_not_worth_living',\n",
       "       '20485-Ever_contemplated_selfharm',\n",
       "       '20494-Felt_irritable_or_had_angry_outbursts_in_past_month',\n",
       "       '20495-Avoided_activities_or_situations_because_of_previous_stressful_experience_in_past_month',\n",
       "       '20496-Felt_distant_from_other_people_in_past_month',\n",
       "       '20497-Repeated_disturbing_thoughts_of_stressful_experience_in_past_month',\n",
       "       '20498-Felt_very_upset_when_reminded_of_stressful_experience_in_past_month',\n",
       "       '20499-Ever_sought_or_received_professional_help_for_mental_distress',\n",
       "       '20500-Ever_suffered_mental_distress_preventing_usual_activities',\n",
       "       '20505-Recent_easy_annoyance_or_irritability',\n",
       "       '20506-Recent_feelings_or_nervousness_or_anxiety',\n",
       "       '20507-Recent_feelings_of_inadequacy',\n",
       "       '20508-Recent_trouble_concentrating_on_things',\n",
       "       '20509-Recent_inability_to_stop_or_control_worrying',\n",
       "       '20510-Recent_feelings_of_depression',\n",
       "       '20511-Recent_poor_appetite_or_overeating',\n",
       "       '20512-Recent_feelings_of_foreboding',\n",
       "       '20513-Recent_thoughts_of_suicide_or_selfharm',\n",
       "       '20514-Recent_lack_of_interest_or_pleasure_in_doing_things',\n",
       "       '20515-Recent_trouble_relaxing', '20516-Recent_restlessness',\n",
       "       '20517-Trouble_falling_or_staying_asleep_or_sleeping_too_much',\n",
       "       '20519-Recent_feelings_of_tiredness_or_low_energy',\n",
       "       '20520-Recent_worrying_too_much_about_different_things',\n",
       "       '20544_11-Mental_health_problems_ever_diagnosed_by_a_professional_Depression',\n",
       "       '20546_3-Substances_taken_for_depression_Medication_prescribed_to_you_for_at_least_two_weeks',\n",
       "       '20547_1-Activities_undertaken_to_treat_depression_Talking_therapies_such_as_psychotherapy_counselling_group_therapy_or_CBT'],\n",
       "      dtype='object')"
      ]
     },
     "metadata": {},
     "output_type": "display_data"
    },
    {
     "data": {
      "text/html": [
       "<h3>Cluster 41.38</h3>"
      ],
      "text/plain": [
       "<IPython.core.display.HTML object>"
      ]
     },
     "metadata": {},
     "output_type": "display_data"
    },
    {
     "data": {
      "text/plain": [
       "121"
      ]
     },
     "metadata": {},
     "output_type": "display_data"
    },
    {
     "data": {
      "text/plain": [
       "Index(['20074_raw-Home_location_at_assessment_east_coordinate_rounded',\n",
       "       '20075_raw-Home_location_at_assessment_north_coordinate_rounded',\n",
       "       '20118_11-Home_area_population_density_urban_or_rural_Scotland_Large_Urban_Area',\n",
       "       '22704_raw-Home_location_north_coordinate_rounded',\n",
       "       '30160-Basophill_count', '30220_raw-Basophill_percentage',\n",
       "       'abdominal injury', 'abnormal delivery', 'alcohol dependence',\n",
       "       'appendicitis',\n",
       "       ...\n",
       "       'tongue neoplasm', 'transient ischemic attack', 'tuberculosis',\n",
       "       'type ii diabetes mellitus', 'ulcerative colitis',\n",
       "       'urogenital neoplasm', 'urticaria', 'vascular disease', 'vasculitis',\n",
       "       'wrist fracture'],\n",
       "      dtype='object', length=121)"
      ]
     },
     "metadata": {},
     "output_type": "display_data"
    },
    {
     "data": {
      "text/html": [
       "<h3>Cluster 41.39</h3>"
      ],
      "text/plain": [
       "<IPython.core.display.HTML object>"
      ]
     },
     "metadata": {},
     "output_type": "display_data"
    },
    {
     "data": {
      "text/plain": [
       "22"
      ]
     },
     "metadata": {},
     "output_type": "display_data"
    },
    {
     "data": {
      "text/plain": [
       "Index(['189_raw-Townsend_deprivation_index_at_recruitment',\n",
       "       '24003_raw-Nitrogen_dioxide_air_pollution_2010',\n",
       "       '24004_raw-Nitrogen_oxides_air_pollution_2010',\n",
       "       '24005_raw-Particulate_matter_air_pollution_pm10_2010',\n",
       "       '24006_raw-Particulate_matter_air_pollution_pm25_2010',\n",
       "       '24007_raw-Particulate_matter_air_pollution_pm25_absorbance_2010',\n",
       "       '24009-Traffic_intensity_on_the_nearest_road',\n",
       "       '24012_raw-Inverse_distance_to_the_nearest_major_road',\n",
       "       '24013-Total_traffic_load_on_major_roads', '24014-Close_to_major_road',\n",
       "       '24015-Sum_of_road_length_of_major_roads_within_100m',\n",
       "       '24016_raw-Nitrogen_dioxide_air_pollution_2005',\n",
       "       '24017_raw-Nitrogen_dioxide_air_pollution_2006',\n",
       "       '24018_raw-Nitrogen_dioxide_air_pollution_2007',\n",
       "       '24019_raw-Particulate_matter_air_pollution_pm10_2007',\n",
       "       '24020_raw-Average_daytime_sound_level_of_noise_pollution',\n",
       "       '24021_raw-Average_evening_sound_level_of_noise_pollution',\n",
       "       '24022_raw-Average_nighttime_sound_level_of_noise_pollution',\n",
       "       '24023_raw-Average_16hour_sound_level_of_noise_pollution',\n",
       "       '24024_raw-Average_24hour_sound_level_of_noise_pollution',\n",
       "       '670_1-Type_of_accommodation_lived_in_A_house_or_bungalow',\n",
       "       '670_2-Type_of_accommodation_lived_in_A_flat_maisonette_or_apartment'],\n",
       "      dtype='object')"
      ]
     },
     "metadata": {},
     "output_type": "display_data"
    },
    {
     "data": {
      "text/html": [
       "<h3>Cluster 41.40</h3>"
      ],
      "text/plain": [
       "<IPython.core.display.HTML object>"
      ]
     },
     "metadata": {},
     "output_type": "display_data"
    },
    {
     "data": {
      "text/plain": [
       "1"
      ]
     },
     "metadata": {},
     "output_type": "display_data"
    },
    {
     "data": {
      "text/plain": [
       "Index(['lymphocyte count'], dtype='object')"
      ]
     },
     "metadata": {},
     "output_type": "display_data"
    },
    {
     "data": {
      "text/html": [
       "<h2>Partition with k=44</h2>"
      ],
      "text/plain": [
       "<IPython.core.display.HTML object>"
      ]
     },
     "metadata": {},
     "output_type": "display_data"
    },
    {
     "data": {
      "text/plain": [
       "method                                                 scc_020\n",
       "partition    [33, 33, 33, 33, 33, 33, 33, 33, 33, 0, 33, 33...\n",
       "ami_mean                                              0.287237\n",
       "selected                                                  True\n",
       "Name: 44, dtype: object"
      ]
     },
     "metadata": {},
     "output_type": "display_data"
    },
    {
     "data": {
      "text/plain": [
       "(3749,)"
      ]
     },
     "metadata": {},
     "output_type": "display_data"
    },
    {
     "data": {
      "text/plain": [
       "0     2916\n",
       "42     239\n",
       "39     120\n",
       "38      60\n",
       "34      36\n",
       "29      31\n",
       "30      25\n",
       "40      25\n",
       "24      24\n",
       "37      22\n",
       "35      22\n",
       "33      19\n",
       "43      19\n",
       "41      18\n",
       "20      18\n",
       "22      16\n",
       "14      15\n",
       "26      13\n",
       "17       8\n",
       "15       8\n",
       "25       8\n",
       "21       8\n",
       "13       8\n",
       "12       6\n",
       "8        6\n",
       "4        5\n",
       "23       5\n",
       "16       5\n",
       "11       4\n",
       "2        4\n",
       "32       4\n",
       "6        4\n",
       "19       4\n",
       "10       4\n",
       "3        3\n",
       "5        3\n",
       "7        3\n",
       "1        2\n",
       "18       2\n",
       "9        2\n",
       "28       2\n",
       "36       1\n",
       "31       1\n",
       "27       1\n",
       "dtype: int64"
      ]
     },
     "metadata": {},
     "output_type": "display_data"
    },
    {
     "data": {
      "text/html": [
       "<h3>Cluster 44.0</h3>"
      ],
      "text/plain": [
       "<IPython.core.display.HTML object>"
      ]
     },
     "metadata": {},
     "output_type": "display_data"
    },
    {
     "data": {
      "text/plain": [
       "2916"
      ]
     },
     "metadata": {},
     "output_type": "display_data"
    },
    {
     "data": {
      "text/plain": [
       "Index(['100010-Portion_size', '100013_raw-Vitamin_B12', '100018_raw-Retinol',\n",
       "       '100021_raw-Vitamin_D', '100022-Alcohol',\n",
       "       '1001-Duration_of_strenuous_sports', '100150-Drinking_water_intake',\n",
       "       '100160-Low_calorie_drink_intake', '100170-Fizzy_drink_intake',\n",
       "       '100190-Orange_juice_intake',\n",
       "       ...\n",
       "       'vestibular disease', 'viral disease',\n",
       "       'viral human hepatitis infection', 'viral meningitis',\n",
       "       'visual impairment', 'vitiligo', 'vitreous body disease',\n",
       "       'vocal cord polyp', 'voice disorders', 'whooping cough'],\n",
       "      dtype='object', length=2916)"
      ]
     },
     "metadata": {},
     "output_type": "display_data"
    },
    {
     "data": {
      "text/html": [
       "<h3>Cluster 44.1</h3>"
      ],
      "text/plain": [
       "<IPython.core.display.HTML object>"
      ]
     },
     "metadata": {},
     "output_type": "display_data"
    },
    {
     "data": {
      "text/plain": [
       "2"
      ]
     },
     "metadata": {},
     "output_type": "display_data"
    },
    {
     "data": {
      "text/plain": [
       "Index(['30150-Eosinophill_count', '30210_raw-Eosinophill_percentage'], dtype='object')"
      ]
     },
     "metadata": {},
     "output_type": "display_data"
    },
    {
     "data": {
      "text/html": [
       "<h3>Cluster 44.2</h3>"
      ],
      "text/plain": [
       "<IPython.core.display.HTML object>"
      ]
     },
     "metadata": {},
     "output_type": "display_data"
    },
    {
     "data": {
      "text/plain": [
       "4"
      ]
     },
     "metadata": {},
     "output_type": "display_data"
    },
    {
     "data": {
      "text/plain": [
       "Index(['30040_raw-Mean_corpuscular_volume',\n",
       "       '30050_raw-Mean_corpuscular_haemoglobin',\n",
       "       '30260_raw-Mean_reticulocyte_volume',\n",
       "       '30270_raw-Mean_sphered_cell_volume'],\n",
       "      dtype='object')"
      ]
     },
     "metadata": {},
     "output_type": "display_data"
    },
    {
     "data": {
      "text/html": [
       "<h3>Cluster 44.3</h3>"
      ],
      "text/plain": [
       "<IPython.core.display.HTML object>"
      ]
     },
     "metadata": {},
     "output_type": "display_data"
    },
    {
     "data": {
      "text/plain": [
       "3"
      ]
     },
     "metadata": {},
     "output_type": "display_data"
    },
    {
     "data": {
      "text/plain": [
       "Index(['30080_raw-Platelet_count', '30090_raw-Platelet_crit',\n",
       "       'platelet count'],\n",
       "      dtype='object')"
      ]
     },
     "metadata": {},
     "output_type": "display_data"
    },
    {
     "data": {
      "text/html": [
       "<h3>Cluster 44.4</h3>"
      ],
      "text/plain": [
       "<IPython.core.display.HTML object>"
      ]
     },
     "metadata": {},
     "output_type": "display_data"
    },
    {
     "data": {
      "text/plain": [
       "5"
      ]
     },
     "metadata": {},
     "output_type": "display_data"
    },
    {
     "data": {
      "text/plain": [
       "Index(['23106_raw-Impedance_of_whole_body', '23107_raw-Impedance_of_leg_right',\n",
       "       '23108_raw-Impedance_of_leg_left', '23109_raw-Impedance_of_arm_right',\n",
       "       '23110_raw-Impedance_of_arm_left'],\n",
       "      dtype='object')"
      ]
     },
     "metadata": {},
     "output_type": "display_data"
    },
    {
     "data": {
      "text/html": [
       "<h3>Cluster 44.5</h3>"
      ],
      "text/plain": [
       "<IPython.core.display.HTML object>"
      ]
     },
     "metadata": {},
     "output_type": "display_data"
    },
    {
     "data": {
      "text/plain": [
       "3"
      ]
     },
     "metadata": {},
     "output_type": "display_data"
    },
    {
     "data": {
      "text/plain": [
       "Index(['30130_raw-Monocyte_count', '30190_raw-Monocyte_percentage',\n",
       "       'monocyte count'],\n",
       "      dtype='object')"
      ]
     },
     "metadata": {},
     "output_type": "display_data"
    },
    {
     "data": {
      "text/html": [
       "<h3>Cluster 44.6</h3>"
      ],
      "text/plain": [
       "<IPython.core.display.HTML object>"
      ]
     },
     "metadata": {},
     "output_type": "display_data"
    },
    {
     "data": {
      "text/plain": [
       "4"
      ]
     },
     "metadata": {},
     "output_type": "display_data"
    },
    {
     "data": {
      "text/plain": [
       "Index(['30010_raw-Red_blood_cell_erythrocyte_count',\n",
       "       '30020_raw-Haemoglobin_concentration',\n",
       "       '30030_raw-Haematocrit_percentage', 'erythrocyte count'],\n",
       "      dtype='object')"
      ]
     },
     "metadata": {},
     "output_type": "display_data"
    },
    {
     "data": {
      "text/html": [
       "<h3>Cluster 44.7</h3>"
      ],
      "text/plain": [
       "<IPython.core.display.HTML object>"
      ]
     },
     "metadata": {},
     "output_type": "display_data"
    },
    {
     "data": {
      "text/plain": [
       "3"
      ]
     },
     "metadata": {},
     "output_type": "display_data"
    },
    {
     "data": {
      "text/plain": [
       "Index(['20015_raw-Sitting_height', '50_raw-Standing_height', 'body height'], dtype='object')"
      ]
     },
     "metadata": {},
     "output_type": "display_data"
    },
    {
     "data": {
      "text/html": [
       "<h3>Cluster 44.8</h3>"
      ],
      "text/plain": [
       "<IPython.core.display.HTML object>"
      ]
     },
     "metadata": {},
     "output_type": "display_data"
    },
    {
     "data": {
      "text/plain": [
       "6"
      ]
     },
     "metadata": {},
     "output_type": "display_data"
    },
    {
     "data": {
      "text/plain": [
       "Index(['30240_raw-Reticulocyte_percentage', '30250_raw-Reticulocyte_count',\n",
       "       '30280_raw-Immature_reticulocyte_fraction',\n",
       "       '30290_raw-High_light_scatter_reticulocyte_percentage',\n",
       "       '30300_raw-High_light_scatter_reticulocyte_count',\n",
       "       'reticulocyte count'],\n",
       "      dtype='object')"
      ]
     },
     "metadata": {},
     "output_type": "display_data"
    },
    {
     "data": {
      "text/html": [
       "<h3>Cluster 44.9</h3>"
      ],
      "text/plain": [
       "<IPython.core.display.HTML object>"
      ]
     },
     "metadata": {},
     "output_type": "display_data"
    },
    {
     "data": {
      "text/plain": [
       "2"
      ]
     },
     "metadata": {},
     "output_type": "display_data"
    },
    {
     "data": {
      "text/plain": [
       "Index(['30180_raw-Lymphocyte_percentage', '30200_raw-Neutrophill_percentage'], dtype='object')"
      ]
     },
     "metadata": {},
     "output_type": "display_data"
    },
    {
     "data": {
      "text/html": [
       "<h3>Cluster 44.10</h3>"
      ],
      "text/plain": [
       "<IPython.core.display.HTML object>"
      ]
     },
     "metadata": {},
     "output_type": "display_data"
    },
    {
     "data": {
      "text/plain": [
       "4"
      ]
     },
     "metadata": {},
     "output_type": "display_data"
    },
    {
     "data": {
      "text/plain": [
       "Index(['3144_raw-Heel_Broadband_ultrasound_attenuation_direct_entry',\n",
       "       '3147_raw-Heel_quantitative_ultrasound_index_QUI_direct_entry',\n",
       "       '3148_raw-Heel_bone_mineral_density_BMD',\n",
       "       '78_raw-Heel_bone_mineral_density_BMD_Tscore_automated'],\n",
       "      dtype='object')"
      ]
     },
     "metadata": {},
     "output_type": "display_data"
    },
    {
     "data": {
      "text/html": [
       "<h3>Cluster 44.11</h3>"
      ],
      "text/plain": [
       "<IPython.core.display.HTML object>"
      ]
     },
     "metadata": {},
     "output_type": "display_data"
    },
    {
     "data": {
      "text/plain": [
       "4"
      ]
     },
     "metadata": {},
     "output_type": "display_data"
    },
    {
     "data": {
      "text/plain": [
       "Index(['20150_raw-Forced_expiratory_volume_in_1second_FEV1_Best_measure',\n",
       "       '20151_raw-Forced_vital_capacity_FVC_Best_measure',\n",
       "       '3062_raw-Forced_vital_capacity_FVC',\n",
       "       '3063_raw-Forced_expiratory_volume_in_1second_FEV1'],\n",
       "      dtype='object')"
      ]
     },
     "metadata": {},
     "output_type": "display_data"
    },
    {
     "data": {
      "text/html": [
       "<h3>Cluster 44.12</h3>"
      ],
      "text/plain": [
       "<IPython.core.display.HTML object>"
      ]
     },
     "metadata": {},
     "output_type": "display_data"
    },
    {
     "data": {
      "text/plain": [
       "6"
      ]
     },
     "metadata": {},
     "output_type": "display_data"
    },
    {
     "data": {
      "text/plain": [
       "Index(['30000_raw-White_blood_cell_leukocyte_count',\n",
       "       '30140_raw-Neutrophill_count', 'granulocyte count', 'leukocyte count',\n",
       "       'myeloid white cell count', 'neutrophil count'],\n",
       "      dtype='object')"
      ]
     },
     "metadata": {},
     "output_type": "display_data"
    },
    {
     "data": {
      "text/html": [
       "<h3>Cluster 44.13</h3>"
      ],
      "text/plain": [
       "<IPython.core.display.HTML object>"
      ]
     },
     "metadata": {},
     "output_type": "display_data"
    },
    {
     "data": {
      "text/plain": [
       "8"
      ]
     },
     "metadata": {},
     "output_type": "display_data"
    },
    {
     "data": {
      "text/plain": [
       "Index(['5096_raw-3mm_weak_meridian_left', '5097_raw-6mm_weak_meridian_left',\n",
       "       '5098_raw-6mm_weak_meridian_right', '5099_raw-3mm_weak_meridian_right',\n",
       "       '5132_raw-3mm_strong_meridian_right',\n",
       "       '5133_raw-6mm_strong_meridian_right',\n",
       "       '5134_raw-6mm_strong_meridian_left',\n",
       "       '5135_raw-3mm_strong_meridian_left'],\n",
       "      dtype='object')"
      ]
     },
     "metadata": {},
     "output_type": "display_data"
    },
    {
     "data": {
      "text/html": [
       "<h3>Cluster 44.14</h3>"
      ],
      "text/plain": [
       "<IPython.core.display.HTML object>"
      ]
     },
     "metadata": {},
     "output_type": "display_data"
    },
    {
     "data": {
      "text/plain": [
       "15"
      ]
     },
     "metadata": {},
     "output_type": "display_data"
    },
    {
     "data": {
      "text/plain": [
       "Index(['EAGLE_Eczema', 'Jones_et_al_2016_Chronotype', 'MAGNETIC_CH2.DB.ratio',\n",
       "       'MAGNETIC_HDL.C', 'MAGNETIC_IDL.TG', 'MAGNETIC_LDL.C',\n",
       "       'alzheimer's disease', 'attention deficit hyperactivity disorder',\n",
       "       'depressive symptom measurement',\n",
       "       'estrogen-receptor negative breast cancer',\n",
       "       'estrogen-receptor positive breast cancer',\n",
       "       'family history of breast cancer', 'fasting blood glucose measurement',\n",
       "       'fasting blood insulin measurement', 'intracranial volume measurement'],\n",
       "      dtype='object')"
      ]
     },
     "metadata": {},
     "output_type": "display_data"
    },
    {
     "data": {
      "text/html": [
       "<h3>Cluster 44.15</h3>"
      ],
      "text/plain": [
       "<IPython.core.display.HTML object>"
      ]
     },
     "metadata": {},
     "output_type": "display_data"
    },
    {
     "data": {
      "text/plain": [
       "8"
      ]
     },
     "metadata": {},
     "output_type": "display_data"
    },
    {
     "data": {
      "text/plain": [
       "Index(['4101_raw-Heel_broadband_ultrasound_attenuation_left',\n",
       "       '4104_raw-Heel_quantitative_ultrasound_index_QUI_direct_entry_left',\n",
       "       '4105_raw-Heel_bone_mineral_density_BMD_left',\n",
       "       '4106_raw-Heel_bone_mineral_density_BMD_Tscore_automated_left',\n",
       "       '4120_raw-Heel_broadband_ultrasound_attenuation_right',\n",
       "       '4123_raw-Heel_quantitative_ultrasound_index_QUI_direct_entry_right',\n",
       "       '4124_raw-Heel_bone_mineral_density_BMD_right',\n",
       "       '4125_raw-Heel_bone_mineral_density_BMD_Tscore_automated_right'],\n",
       "      dtype='object')"
      ]
     },
     "metadata": {},
     "output_type": "display_data"
    },
    {
     "data": {
      "text/html": [
       "<h3>Cluster 44.16</h3>"
      ],
      "text/plain": [
       "<IPython.core.display.HTML object>"
      ]
     },
     "metadata": {},
     "output_type": "display_data"
    },
    {
     "data": {
      "text/plain": [
       "5"
      ]
     },
     "metadata": {},
     "output_type": "display_data"
    },
    {
     "data": {
      "text/plain": [
       "Index(['4079_raw-Diastolic_blood_pressure_automated_reading',\n",
       "       '4080_raw-Systolic_blood_pressure_automated_reading',\n",
       "       '6150_100-Vascularheart_problems_diagnosed_by_doctor_None_of_the_above',\n",
       "       '6150_4-Vascularheart_problems_diagnosed_by_doctor_High_blood_pressure',\n",
       "       'hypertension'],\n",
       "      dtype='object')"
      ]
     },
     "metadata": {},
     "output_type": "display_data"
    },
    {
     "data": {
      "text/html": [
       "<h3>Cluster 44.17</h3>"
      ],
      "text/plain": [
       "<IPython.core.display.HTML object>"
      ]
     },
     "metadata": {},
     "output_type": "display_data"
    },
    {
     "data": {
      "text/plain": [
       "8"
      ]
     },
     "metadata": {},
     "output_type": "display_data"
    },
    {
     "data": {
      "text/plain": [
       "Index(['1717-Skin_colour', '1727-Ease_of_skin_tanning',\n",
       "       '1737-Childhood_sunburn_occasions',\n",
       "       '1747_1-Hair_colour_natural_before_greying_Blonde',\n",
       "       '1747_2-Hair_colour_natural_before_greying_Red',\n",
       "       '1747_3-Hair_colour_natural_before_greying_Light_brown',\n",
       "       '1747_4-Hair_colour_natural_before_greying_Dark_brown',\n",
       "       '1747_5-Hair_colour_natural_before_greying_Black'],\n",
       "      dtype='object')"
      ]
     },
     "metadata": {},
     "output_type": "display_data"
    },
    {
     "data": {
      "text/html": [
       "<h3>Cluster 44.18</h3>"
      ],
      "text/plain": [
       "<IPython.core.display.HTML object>"
      ]
     },
     "metadata": {},
     "output_type": "display_data"
    },
    {
     "data": {
      "text/plain": [
       "2"
      ]
     },
     "metadata": {},
     "output_type": "display_data"
    },
    {
     "data": {
      "text/plain": [
       "Index(['46_raw-Hand_grip_strength_left', '47_raw-Hand_grip_strength_right'], dtype='object')"
      ]
     },
     "metadata": {},
     "output_type": "display_data"
    },
    {
     "data": {
      "text/html": [
       "<h3>Cluster 44.19</h3>"
      ],
      "text/plain": [
       "<IPython.core.display.HTML object>"
      ]
     },
     "metadata": {},
     "output_type": "display_data"
    },
    {
     "data": {
      "text/plain": [
       "4"
      ]
     },
     "metadata": {},
     "output_type": "display_data"
    },
    {
     "data": {
      "text/plain": [
       "Index(['6152_100-Blood_clot_DVT_bronchitis_emphysema_asthma_rhinitis_eczema_allergy_diagnosed_by_doctor_None_of_the_above',\n",
       "       '6152_8-Blood_clot_DVT_bronchitis_emphysema_asthma_rhinitis_eczema_allergy_diagnosed_by_doctor_Asthma',\n",
       "       '6152_9-Blood_clot_DVT_bronchitis_emphysema_asthma_rhinitis_eczema_allergy_diagnosed_by_doctor_Hayfever_allergic_rhinitis_or_eczema',\n",
       "       'asthma'],\n",
       "      dtype='object')"
      ]
     },
     "metadata": {},
     "output_type": "display_data"
    },
    {
     "data": {
      "text/html": [
       "<h3>Cluster 44.20</h3>"
      ],
      "text/plain": [
       "<IPython.core.display.HTML object>"
      ]
     },
     "metadata": {},
     "output_type": "display_data"
    },
    {
     "data": {
      "text/plain": [
       "18"
      ]
     },
     "metadata": {},
     "output_type": "display_data"
    },
    {
     "data": {
      "text/plain": [
       "Index(['21001_raw-Body_mass_index_BMI', '21002_raw-Weight', '23098_raw-Weight',\n",
       "       '23099_raw-Body_fat_percentage', '23100_raw-Whole_body_fat_mass',\n",
       "       '23104_raw-Body_mass_index_BMI', '23111_raw-Leg_fat_percentage_right',\n",
       "       '23112_raw-Leg_fat_mass_right', '23115_raw-Leg_fat_percentage_left',\n",
       "       '23116_raw-Leg_fat_mass_left', '23119_raw-Arm_fat_percentage_right',\n",
       "       '23120_raw-Arm_fat_mass_right', '23123_raw-Arm_fat_percentage_left',\n",
       "       '23124_raw-Arm_fat_mass_left', '23127_raw-Trunk_fat_percentage',\n",
       "       '23128_raw-Trunk_fat_mass', '48_raw-Waist_circumference',\n",
       "       '49_raw-Hip_circumference'],\n",
       "      dtype='object')"
      ]
     },
     "metadata": {},
     "output_type": "display_data"
    },
    {
     "data": {
      "text/html": [
       "<h3>Cluster 44.21</h3>"
      ],
      "text/plain": [
       "<IPython.core.display.HTML object>"
      ]
     },
     "metadata": {},
     "output_type": "display_data"
    },
    {
     "data": {
      "text/plain": [
       "8"
      ]
     },
     "metadata": {},
     "output_type": "display_data"
    },
    {
     "data": {
      "text/plain": [
       "Index(['20003_1141191044-Treatmentmedication_code_levothyroxine_sodium',\n",
       "       'K11_COELIAC-Coeliac_disease', 'celiac disease',\n",
       "       'hypothyroidism AND myxedema', 'malabsorption syndrome', 'psoriasis',\n",
       "       'rheumatoid arthritis', 'systemic lupus erythematosus'],\n",
       "      dtype='object')"
      ]
     },
     "metadata": {},
     "output_type": "display_data"
    },
    {
     "data": {
      "text/html": [
       "<h3>Cluster 44.22</h3>"
      ],
      "text/plain": [
       "<IPython.core.display.HTML object>"
      ]
     },
     "metadata": {},
     "output_type": "display_data"
    },
    {
     "data": {
      "text/plain": [
       "16"
      ]
     },
     "metadata": {},
     "output_type": "display_data"
    },
    {
     "data": {
      "text/plain": [
       "Index(['1050-Time_spend_outdoors_in_summer',\n",
       "       '1070-Time_spent_watching_television_TV',\n",
       "       '20016_raw-Fluid_intelligence_score',\n",
       "       '2139_raw-Age_first_had_sexual_intercourse',\n",
       "       '22501_raw-Year_ended_full_time_education',\n",
       "       '2754_raw-Age_at_first_live_birth',\n",
       "       '6138_1-Qualifications_College_or_University_degree',\n",
       "       '6138_100-Qualifications_None_of_the_above',\n",
       "       '6138_2-Qualifications_A_levelsAS_levels_or_equivalent',\n",
       "       '6138_3-Qualifications_O_levelsGCSEs_or_equivalent',\n",
       "       '738-Average_total_household_income_before_tax',\n",
       "       '806-Job_involves_mainly_walking_or_standing',\n",
       "       '816-Job_involves_heavy_manual_or_physical_work',\n",
       "       'SSGAC_Education_Years_Pooled', 'schizophrenia',\n",
       "       'self reported educational attainment'],\n",
       "      dtype='object')"
      ]
     },
     "metadata": {},
     "output_type": "display_data"
    },
    {
     "data": {
      "text/html": [
       "<h3>Cluster 44.23</h3>"
      ],
      "text/plain": [
       "<IPython.core.display.HTML object>"
      ]
     },
     "metadata": {},
     "output_type": "display_data"
    },
    {
     "data": {
      "text/plain": [
       "5"
      ]
     },
     "metadata": {},
     "output_type": "display_data"
    },
    {
     "data": {
      "text/plain": [
       "Index(['102_raw-Pulse_rate_automated_reading',\n",
       "       '3064_raw-Peak_expiratory_flow_PEF',\n",
       "       '4100_raw-Ankle_spacing_width_left',\n",
       "       '4119_raw-Ankle_spacing_width_right', 'inflammatory bowel disease'],\n",
       "      dtype='object')"
      ]
     },
     "metadata": {},
     "output_type": "display_data"
    },
    {
     "data": {
      "text/html": [
       "<h3>Cluster 44.24</h3>"
      ],
      "text/plain": [
       "<IPython.core.display.HTML object>"
      ]
     },
     "metadata": {},
     "output_type": "display_data"
    },
    {
     "data": {
      "text/plain": [
       "24"
      ]
     },
     "metadata": {},
     "output_type": "display_data"
    },
    {
     "data": {
      "text/plain": [
       "Index(['20003_1140861958-Treatmentmedication_code_simvastatin',\n",
       "       '20003_1140868226-Treatmentmedication_code_aspirin',\n",
       "       '20003_1141194794-Treatmentmedication_code_bendroflumethiazide',\n",
       "       '6150_1-Vascularheart_problems_diagnosed_by_doctor_Heart_attack',\n",
       "       '6150_2-Vascularheart_problems_diagnosed_by_doctor_Angina',\n",
       "       '6153_1-Medication_for_cholesterol_blood_pressure_diabetes_or_take_exogenous_hormones_Cholesterol_lowering_medication',\n",
       "       '6153_100-Medication_for_cholesterol_blood_pressure_diabetes_or_take_exogenous_hormones_None_of_the_above',\n",
       "       '6154_1-Medication_for_pain_relief_constipation_heartburn_Aspirin',\n",
       "       '6177_1-Medication_for_cholesterol_blood_pressure_or_diabetes_Cholesterol_lowering_medication',\n",
       "       '6177_100-Medication_for_cholesterol_blood_pressure_or_diabetes_None_of_the_above',\n",
       "       '6177_2-Medication_for_cholesterol_blood_pressure_or_diabetes_Blood_pressure_medication',\n",
       "       'I9_CHD-Major_coronary_heart_disease_event',\n",
       "       'I9_CHD_NOREV-Major_coronary_heart_disease_event_excluding_revascularizations',\n",
       "       'I9_CORATHER-Coronary_atherosclerosis',\n",
       "       'I9_IHD-Ischaemic_heart_disease_wide_definition',\n",
       "       'I9_MI-Myocardial_infarction',\n",
       "       'I9_MI_STRICT-Myocardial_infarction_strict',\n",
       "       'IX_CIRCULATORY-Diseases_of_the_circulatory_system',\n",
       "       'acute myocardial infarction', 'angina pectoris',\n",
       "       'coronary artery disease', 'hypercholesterolemia',\n",
       "       'myocardial infarction',\n",
       "       'number of treatments or medications taken, self-reported'],\n",
       "      dtype='object')"
      ]
     },
     "metadata": {},
     "output_type": "display_data"
    },
    {
     "data": {
      "text/html": [
       "<h3>Cluster 44.25</h3>"
      ],
      "text/plain": [
       "<IPython.core.display.HTML object>"
      ]
     },
     "metadata": {},
     "output_type": "display_data"
    },
    {
     "data": {
      "text/plain": [
       "8"
      ]
     },
     "metadata": {},
     "output_type": "display_data"
    },
    {
     "data": {
      "text/plain": [
       "Index(['5254_raw-Intraocular_pressure_cornealcompensated_right',\n",
       "       '5255_raw-Intraocular_pressure_Goldmanncorrelated_right',\n",
       "       '5256_raw-Corneal_hysteresis_right',\n",
       "       '5257_raw-Corneal_resistance_factor_right',\n",
       "       '5262_raw-Intraocular_pressure_cornealcompensated_left',\n",
       "       '5263_raw-Intraocular_pressure_Goldmanncorrelated_left',\n",
       "       '5264_raw-Corneal_hysteresis_left',\n",
       "       '5265_raw-Corneal_resistance_factor_left'],\n",
       "      dtype='object')"
      ]
     },
     "metadata": {},
     "output_type": "display_data"
    },
    {
     "data": {
      "text/html": [
       "<h3>Cluster 44.26</h3>"
      ],
      "text/plain": [
       "<IPython.core.display.HTML object>"
      ]
     },
     "metadata": {},
     "output_type": "display_data"
    },
    {
     "data": {
      "text/plain": [
       "13"
      ]
     },
     "metadata": {},
     "output_type": "display_data"
    },
    {
     "data": {
      "text/plain": [
       "Index(['23101_raw-Whole_body_fatfree_mass', '23102_raw-Whole_body_water_mass',\n",
       "       '23105_raw-Basal_metabolic_rate', '23113_raw-Leg_fatfree_mass_right',\n",
       "       '23114_raw-Leg_predicted_mass_right', '23117_raw-Leg_fatfree_mass_left',\n",
       "       '23118_raw-Leg_predicted_mass_left', '23121_raw-Arm_fatfree_mass_right',\n",
       "       '23122_raw-Arm_predicted_mass_right', '23125_raw-Arm_fatfree_mass_left',\n",
       "       '23126_raw-Arm_predicted_mass_left', '23129_raw-Trunk_fatfree_mass',\n",
       "       '23130_raw-Trunk_predicted_mass'],\n",
       "      dtype='object')"
      ]
     },
     "metadata": {},
     "output_type": "display_data"
    },
    {
     "data": {
      "text/html": [
       "<h3>Cluster 44.27</h3>"
      ],
      "text/plain": [
       "<IPython.core.display.HTML object>"
      ]
     },
     "metadata": {},
     "output_type": "display_data"
    },
    {
     "data": {
      "text/plain": [
       "1"
      ]
     },
     "metadata": {},
     "output_type": "display_data"
    },
    {
     "data": {
      "text/plain": [
       "Index(['lymphocyte count'], dtype='object')"
      ]
     },
     "metadata": {},
     "output_type": "display_data"
    },
    {
     "data": {
      "text/html": [
       "<h3>Cluster 44.28</h3>"
      ],
      "text/plain": [
       "<IPython.core.display.HTML object>"
      ]
     },
     "metadata": {},
     "output_type": "display_data"
    },
    {
     "data": {
      "text/plain": [
       "2"
      ]
     },
     "metadata": {},
     "output_type": "display_data"
    },
    {
     "data": {
      "text/plain": [
       "Index(['30100_raw-Mean_platelet_thrombocyte_volume', '30110_raw-Platelet_distribution_width'], dtype='object')"
      ]
     },
     "metadata": {},
     "output_type": "display_data"
    },
    {
     "data": {
      "text/html": [
       "<h3>Cluster 44.29</h3>"
      ],
      "text/plain": [
       "<IPython.core.display.HTML object>"
      ]
     },
     "metadata": {},
     "output_type": "display_data"
    },
    {
     "data": {
      "text/plain": [
       "31"
      ]
     },
     "metadata": {},
     "output_type": "display_data"
    },
    {
     "data": {
      "text/plain": [
       "Index(['1080-Time_spent_using_computer', '1319-Dried_fruit_intake',\n",
       "       '1478-Salt_added_to_food', '1488_raw-Tea_intake',\n",
       "       '1518-Hot_drink_temperature', '1528-Water_intake', '1757-Facial_ageing',\n",
       "       '20022_raw-Birth_weight',\n",
       "       '20154_raw-Forced_expiratory_volume_in_1second_FEV1_predicted_percentage',\n",
       "       '2217_raw-Age_started_wearing_glasses_or_contact_lenses',\n",
       "       '2237-Plays_computer_games',\n",
       "       '30060_raw-Mean_corpuscular_haemoglobin_concentration',\n",
       "       '30530_raw-Sodium_in_urine',\n",
       "       '399_raw-Number_of_incorrect_matches_in_round',\n",
       "       '400_raw-Time_to_complete_round', '4194_raw-Pulse_rate',\n",
       "       '5084_raw-Spherical_power_right', '5085_raw-Spherical_power_left',\n",
       "       '924-Usual_walking_pace', 'age at first facial hair', 'age at menarche',\n",
       "       'chronotype measurement',\n",
       "       'comparative body size at age 10, self-reported',\n",
       "       'ease of getting up in the morning, self-reported',\n",
       "       'excessive daytime sleepiness measurement AND narcolepsy without cataplexy',\n",
       "       'hearing loss', 'insomnia', 'nap during day, self-reported',\n",
       "       'sleep duration', 'snoring measurement', 'wheezing'],\n",
       "      dtype='object')"
      ]
     },
     "metadata": {},
     "output_type": "display_data"
    },
    {
     "data": {
      "text/html": [
       "<h3>Cluster 44.30</h3>"
      ],
      "text/plain": [
       "<IPython.core.display.HTML object>"
      ]
     },
     "metadata": {},
     "output_type": "display_data"
    },
    {
     "data": {
      "text/plain": [
       "25"
      ]
     },
     "metadata": {},
     "output_type": "display_data"
    },
    {
     "data": {
      "text/plain": [
       "Index(['20458-General_happiness', '20459-General_happiness_with_own_health',\n",
       "       '20460-Belief_that_own_life_is_meaningful',\n",
       "       '20479-Ever_thought_that_life_not_worth_living',\n",
       "       '20485-Ever_contemplated_selfharm',\n",
       "       '20494-Felt_irritable_or_had_angry_outbursts_in_past_month',\n",
       "       '20495-Avoided_activities_or_situations_because_of_previous_stressful_experience_in_past_month',\n",
       "       '20496-Felt_distant_from_other_people_in_past_month',\n",
       "       '20497-Repeated_disturbing_thoughts_of_stressful_experience_in_past_month',\n",
       "       '20498-Felt_very_upset_when_reminded_of_stressful_experience_in_past_month',\n",
       "       '20505-Recent_easy_annoyance_or_irritability',\n",
       "       '20506-Recent_feelings_or_nervousness_or_anxiety',\n",
       "       '20507-Recent_feelings_of_inadequacy',\n",
       "       '20508-Recent_trouble_concentrating_on_things',\n",
       "       '20509-Recent_inability_to_stop_or_control_worrying',\n",
       "       '20510-Recent_feelings_of_depression',\n",
       "       '20511-Recent_poor_appetite_or_overeating',\n",
       "       '20512-Recent_feelings_of_foreboding',\n",
       "       '20513-Recent_thoughts_of_suicide_or_selfharm',\n",
       "       '20514-Recent_lack_of_interest_or_pleasure_in_doing_things',\n",
       "       '20515-Recent_trouble_relaxing', '20516-Recent_restlessness',\n",
       "       '20517-Trouble_falling_or_staying_asleep_or_sleeping_too_much',\n",
       "       '20519-Recent_feelings_of_tiredness_or_low_energy',\n",
       "       '20520-Recent_worrying_too_much_about_different_things'],\n",
       "      dtype='object')"
      ]
     },
     "metadata": {},
     "output_type": "display_data"
    },
    {
     "data": {
      "text/html": [
       "<h3>Cluster 44.31</h3>"
      ],
      "text/plain": [
       "<IPython.core.display.HTML object>"
      ]
     },
     "metadata": {},
     "output_type": "display_data"
    },
    {
     "data": {
      "text/plain": [
       "1"
      ]
     },
     "metadata": {},
     "output_type": "display_data"
    },
    {
     "data": {
      "text/plain": [
       "Index(['eosinophil count'], dtype='object')"
      ]
     },
     "metadata": {},
     "output_type": "display_data"
    },
    {
     "data": {
      "text/html": [
       "<h3>Cluster 44.32</h3>"
      ],
      "text/plain": [
       "<IPython.core.display.HTML object>"
      ]
     },
     "metadata": {},
     "output_type": "display_data"
    },
    {
     "data": {
      "text/plain": [
       "4"
      ]
     },
     "metadata": {},
     "output_type": "display_data"
    },
    {
     "data": {
      "text/plain": [
       "Index(['20116_0-Smoking_status_Never', '20116_1-Smoking_status_Previous',\n",
       "       '20160-Ever_smoked', 'smoking cessation'],\n",
       "      dtype='object')"
      ]
     },
     "metadata": {},
     "output_type": "display_data"
    },
    {
     "data": {
      "text/html": [
       "<h3>Cluster 44.33</h3>"
      ],
      "text/plain": [
       "<IPython.core.display.HTML object>"
      ]
     },
     "metadata": {},
     "output_type": "display_data"
    },
    {
     "data": {
      "text/plain": [
       "19"
      ]
     },
     "metadata": {},
     "output_type": "display_data"
    },
    {
     "data": {
      "text/plain": [
       "Index(['100001_raw-Food_weight', '100002_raw-Energy', '100003_raw-Protein',\n",
       "       '100004_raw-Fat', '100005_raw-Carbohydrate', '100006_raw-Saturated_fat',\n",
       "       '100007_raw-Polyunsaturated_fat', '100008_raw-Total_sugars',\n",
       "       '100009_raw-Englyst_dietary_fibre', '100011_raw-Iron',\n",
       "       '100012_raw-Vitamin_B6', '100014_raw-Folate', '100015_raw-Vitamin_C',\n",
       "       '100016_raw-Potassium', '100017_raw-Magnesium', '100019_raw-Carotene',\n",
       "       '100023_raw-Starch', '100024_raw-Calcium', '100025_raw-Vitamin_E'],\n",
       "      dtype='object')"
      ]
     },
     "metadata": {},
     "output_type": "display_data"
    },
    {
     "data": {
      "text/html": [
       "<h3>Cluster 44.34</h3>"
      ],
      "text/plain": [
       "<IPython.core.display.HTML object>"
      ]
     },
     "metadata": {},
     "output_type": "display_data"
    },
    {
     "data": {
      "text/plain": [
       "36"
      ]
     },
     "metadata": {},
     "output_type": "display_data"
    },
    {
     "data": {
      "text/plain": [
       "Index(['1110-Length_of_mobile_phone_use', '1448_1-Bread_type_White',\n",
       "       '1448_3-Bread_type_Wholemeal_or_wholegrain',\n",
       "       '1508_2-Coffee_type_Instant_coffee',\n",
       "       '1508_3-Coffee_type_Ground_coffee_include_espresso_filter_etc',\n",
       "       '1787-Maternal_smoking_around_birth',\n",
       "       '20003_2038460150-Treatmentmedication_code_paracetamol',\n",
       "       '20023_raw-Mean_time_to_correctly_identify_matches',\n",
       "       '20111_100-Illnesses_of_siblings_None_of_the_above_group_1',\n",
       "       '20111_8-Illnesses_of_siblings_High_blood_pressure',\n",
       "       '2070-Frequency_of_tenseness_restlessness_in_last_2_weeks',\n",
       "       '2247_0-Hearing_difficultyproblems_No',\n",
       "       '2492-Taking_other_prescription_medications',\n",
       "       '2764_raw-Age_at_last_live_birth',\n",
       "       '30510_raw-Creatinine_enzymatic_in_urine',\n",
       "       '30520_raw-Potassium_in_urine',\n",
       "       '404_raw-Duration_to_first_press_of_snapbutton_in_each_round',\n",
       "       '6142_4-Current_employment_status_Unable_to_work_because_of_sickness_or_disability',\n",
       "       '6144_4-Never_eat_eggs_dairy_wheat_sugar_Sugar_or_foodsdrinks_containing_sugar',\n",
       "       '6144_5-Never_eat_eggs_dairy_wheat_sugar_I_eat_all_of_the_above',\n",
       "       '6146_100-Attendancedisabilitymobility_allowance_None_of_the_above',\n",
       "       '6146_2-Attendancedisabilitymobility_allowance_Disability_living_allowance',\n",
       "       '6154_100-Medication_for_pain_relief_constipation_heartburn_None_of_the_above',\n",
       "       '6154_3-Medication_for_pain_relief_constipation_heartburn_Paracetamol',\n",
       "       '6159_1-Pain_types_experienced_in_last_month_Headache',\n",
       "       '6159_100-Pain_types_experienced_in_last_month_None_of_the_above',\n",
       "       '6159_3-Pain_types_experienced_in_last_month_Neck_or_shoulder_pain',\n",
       "       '6159_6-Pain_types_experienced_in_last_month_Hip_pain',\n",
       "       '6159_7-Pain_types_experienced_in_last_month_Knee_pain',\n",
       "       '680_3-Own_or_rent_accommodation_lived_in_Rent_from_local_authority_local_council_housing_association',\n",
       "       '943-Frequency_of_stair_climbing_in_last_4_weeks', 'chronic disease',\n",
       "       'health satisfaction measurement', 'irritability',\n",
       "       'number of non-cancer illnesses, self-reported', 'self rated health'],\n",
       "      dtype='object')"
      ]
     },
     "metadata": {},
     "output_type": "display_data"
    },
    {
     "data": {
      "text/html": [
       "<h3>Cluster 44.35</h3>"
      ],
      "text/plain": [
       "<IPython.core.display.HTML object>"
      ]
     },
     "metadata": {},
     "output_type": "display_data"
    },
    {
     "data": {
      "text/plain": [
       "22"
      ]
     },
     "metadata": {},
     "output_type": "display_data"
    },
    {
     "data": {
      "text/plain": [
       "Index(['189_raw-Townsend_deprivation_index_at_recruitment',\n",
       "       '24003_raw-Nitrogen_dioxide_air_pollution_2010',\n",
       "       '24004_raw-Nitrogen_oxides_air_pollution_2010',\n",
       "       '24005_raw-Particulate_matter_air_pollution_pm10_2010',\n",
       "       '24006_raw-Particulate_matter_air_pollution_pm25_2010',\n",
       "       '24007_raw-Particulate_matter_air_pollution_pm25_absorbance_2010',\n",
       "       '24009-Traffic_intensity_on_the_nearest_road',\n",
       "       '24012_raw-Inverse_distance_to_the_nearest_major_road',\n",
       "       '24013-Total_traffic_load_on_major_roads', '24014-Close_to_major_road',\n",
       "       '24015-Sum_of_road_length_of_major_roads_within_100m',\n",
       "       '24016_raw-Nitrogen_dioxide_air_pollution_2005',\n",
       "       '24017_raw-Nitrogen_dioxide_air_pollution_2006',\n",
       "       '24018_raw-Nitrogen_dioxide_air_pollution_2007',\n",
       "       '24019_raw-Particulate_matter_air_pollution_pm10_2007',\n",
       "       '24020_raw-Average_daytime_sound_level_of_noise_pollution',\n",
       "       '24021_raw-Average_evening_sound_level_of_noise_pollution',\n",
       "       '24022_raw-Average_nighttime_sound_level_of_noise_pollution',\n",
       "       '24023_raw-Average_16hour_sound_level_of_noise_pollution',\n",
       "       '24024_raw-Average_24hour_sound_level_of_noise_pollution',\n",
       "       '670_1-Type_of_accommodation_lived_in_A_house_or_bungalow',\n",
       "       '670_2-Type_of_accommodation_lived_in_A_flat_maisonette_or_apartment'],\n",
       "      dtype='object')"
      ]
     },
     "metadata": {},
     "output_type": "display_data"
    },
    {
     "data": {
      "text/html": [
       "<h3>Cluster 44.36</h3>"
      ],
      "text/plain": [
       "<IPython.core.display.HTML object>"
      ]
     },
     "metadata": {},
     "output_type": "display_data"
    },
    {
     "data": {
      "text/plain": [
       "1"
      ]
     },
     "metadata": {},
     "output_type": "display_data"
    },
    {
     "data": {
      "text/plain": [
       "Index(['20153_raw-Forced_expiratory_volume_in_1second_FEV1_predicted'], dtype='object')"
      ]
     },
     "metadata": {},
     "output_type": "display_data"
    },
    {
     "data": {
      "text/html": [
       "<h3>Cluster 44.37</h3>"
      ],
      "text/plain": [
       "<IPython.core.display.HTML object>"
      ]
     },
     "metadata": {},
     "output_type": "display_data"
    },
    {
     "data": {
      "text/plain": [
       "22"
      ]
     },
     "metadata": {},
     "output_type": "display_data"
    },
    {
     "data": {
      "text/plain": [
       "Index(['129_raw-Place_of_birth_in_UK_north_coordinate',\n",
       "       '130_raw-Place_of_birth_in_UK_east_coordinate',\n",
       "       '2395_1-Hairbalding_pattern_Pattern_1',\n",
       "       'androgenetic alopecia AND balding measurement', 'birth weight',\n",
       "       'bone disease', 'cardiac arrhythmia', 'checkup', 'device complication',\n",
       "       'diabetes mellitus', 'emotional symptom measurement',\n",
       "       'encounter with health service', 'female reproductive system disease',\n",
       "       'head injury', 'injury', 'joint disease', 'kidney failure',\n",
       "       'leg injury', 'non-hodgkins lymphoma', 'poisoning',\n",
       "       'pregnancy disorder', 'soft tissue disease'],\n",
       "      dtype='object')"
      ]
     },
     "metadata": {},
     "output_type": "display_data"
    },
    {
     "data": {
      "text/html": [
       "<h3>Cluster 44.38</h3>"
      ],
      "text/plain": [
       "<IPython.core.display.HTML object>"
      ]
     },
     "metadata": {},
     "output_type": "display_data"
    },
    {
     "data": {
      "text/plain": [
       "60"
      ]
     },
     "metadata": {},
     "output_type": "display_data"
    },
    {
     "data": {
      "text/plain": [
       "Index(['1100-Drive_faster_than_motorway_speed_limit',\n",
       "       '1120-Weekly_usage_of_mobile_phone_in_last_3_months',\n",
       "       '1289-Cooked_vegetable_intake', '1299-Salad_raw_vegetable_intake',\n",
       "       '1309-Fresh_fruit_intake', '1329-Oily_fish_intake',\n",
       "       '1349-Processed_meat_intake', '1369-Beef_intake',\n",
       "       '1379-Lambmutton_intake', '1408-Cheese_intake',\n",
       "       '1428_1-Spread_type_Butterspreadable_butter', '1438_raw-Bread_intake',\n",
       "       '1458-Cereal_intake', '1468_4-Cereal_type_Muesli',\n",
       "       '1468_5-Cereal_type_Other_eg_Cornflakes_Frosties', '1498-Coffee_intake',\n",
       "       '1538_0-Major_dietary_changes_in_the_last_5_years_No',\n",
       "       '1538_1-Major_dietary_changes_in_the_last_5_years_Yes_because_of_illness',\n",
       "       '1548-Variation_in_diet', '1568-Average_weekly_red_wine_intake',\n",
       "       '1588-Average_weekly_beer_plus_cider_intake',\n",
       "       '1618-Alcohol_usually_taken_with_meals',\n",
       "       '1628-Alcohol_intake_versus_10_years_previously',\n",
       "       '20116_2-Smoking_status_Current', '2110-Able_to_confide',\n",
       "       '2149-Lifetime_number_of_sexual_partners',\n",
       "       '2267-Use_of_sunuv_protection',\n",
       "       '2887-Number_of_cigarettes_previously_smoked_daily',\n",
       "       '3581_raw-Age_at_menopause_last_menstrual_period',\n",
       "       '6138_6-Qualifications_Other_professional_qualifications_eg_nursing_teaching',\n",
       "       '6149_100-Mouthteeth_dental_problems_None_of_the_above',\n",
       "       '6149_6-Mouthteeth_dental_problems_Dentures',\n",
       "       '6155_100-Vitamin_and_mineral_supplements_None_of_the_above',\n",
       "       '6159_4-Pain_types_experienced_in_last_month_Back_pain',\n",
       "       '6160_1-Leisuresocial_activities_Sports_club_or_gym',\n",
       "       '6160_100-Leisuresocial_activities_None_of_the_above',\n",
       "       '6160_2-Leisuresocial_activities_Pub_or_social_club',\n",
       "       '6160_3-Leisuresocial_activities_Religious_group',\n",
       "       '6162_2-Types_of_transport_used_excluding_work_Walk',\n",
       "       '6162_4-Types_of_transport_used_excluding_work_Cycle',\n",
       "       '6164_1-Types_of_physical_activity_in_last_4_weeks_Walking_for_pleasure_not_as_a_means_of_transport',\n",
       "       '6164_100-Types_of_physical_activity_in_last_4_weeks_None_of_the_above',\n",
       "       '6164_2-Types_of_physical_activity_in_last_4_weeks_Other_exercises_eg_swimming_cycling_keep_fit_bowling',\n",
       "       '6164_3-Types_of_physical_activity_in_last_4_weeks_Strenuous_sports',\n",
       "       '6164_4-Types_of_physical_activity_in_last_4_weeks_Light_DIY_eg_pruning_watering_the_lawn',\n",
       "       '6164_5-Types_of_physical_activity_in_last_4_weeks_Heavy_DIY_eg_weeding_lawn_mowing_carpentry_digging',\n",
       "       '6179_1-Mineral_and_other_dietary_supplements_Fish_oil_including_cod_liver_oil',\n",
       "       '6179_100-Mineral_and_other_dietary_supplements_None_of_the_above',\n",
       "       '699_raw-Length_of_time_at_current_address',\n",
       "       '864-Number_of_daysweek_walked_10_minutes',\n",
       "       '884-Number_of_daysweek_of_moderate_physical_activity_10_minutes',\n",
       "       '904-Number_of_daysweek_of_vigorous_physical_activity_10_minutes',\n",
       "       'M13_ARTHROSIS-Arthrosis',\n",
       "       'XIII_MUSCULOSKELET-Diseases_of_the_musculoskeletal_system_and_connective_tissue',\n",
       "       'XVIII_MISCFINDINGS-Symptoms_signs_and_abnormal_clinical_and_laboratory_findings_not_elsewhere_classified',\n",
       "       'behavioural disinhibition measurement', 'loneliness measurement',\n",
       "       'number of operations, self-reported', 'osteoarthritis',\n",
       "       'smoking behavior'],\n",
       "      dtype='object')"
      ]
     },
     "metadata": {},
     "output_type": "display_data"
    },
    {
     "data": {
      "text/html": [
       "<h3>Cluster 44.39</h3>"
      ],
      "text/plain": [
       "<IPython.core.display.HTML object>"
      ]
     },
     "metadata": {},
     "output_type": "display_data"
    },
    {
     "data": {
      "text/plain": [
       "120"
      ]
     },
     "metadata": {},
     "output_type": "display_data"
    },
    {
     "data": {
      "text/plain": [
       "Index(['20074_raw-Home_location_at_assessment_east_coordinate_rounded',\n",
       "       '20075_raw-Home_location_at_assessment_north_coordinate_rounded',\n",
       "       '20118_11-Home_area_population_density_urban_or_rural_Scotland_Large_Urban_Area',\n",
       "       '22704_raw-Home_location_north_coordinate_rounded',\n",
       "       '30220_raw-Basophill_percentage', 'abdominal injury',\n",
       "       'abnormal delivery', 'alcohol dependence', 'appendicitis', 'arthritis',\n",
       "       ...\n",
       "       'tongue neoplasm', 'transient ischemic attack', 'tuberculosis',\n",
       "       'type ii diabetes mellitus', 'ulcerative colitis',\n",
       "       'urogenital neoplasm', 'urticaria', 'vascular disease', 'vasculitis',\n",
       "       'wrist fracture'],\n",
       "      dtype='object', length=120)"
      ]
     },
     "metadata": {},
     "output_type": "display_data"
    },
    {
     "data": {
      "text/html": [
       "<h3>Cluster 44.40</h3>"
      ],
      "text/plain": [
       "<IPython.core.display.HTML object>"
      ]
     },
     "metadata": {},
     "output_type": "display_data"
    },
    {
     "data": {
      "text/plain": [
       "25"
      ]
     },
     "metadata": {},
     "output_type": "display_data"
    },
    {
     "data": {
      "text/plain": [
       "Index(['1448_4-Bread_type_Other_type_of_bread',\n",
       "       '20003_1140869848-Treatmentmedication_code_methotrexate',\n",
       "       '20003_1140883066-Treatmentmedication_code_insulin_product',\n",
       "       '20003_1140884516-Treatmentmedication_code_thyroxine_product',\n",
       "       '20003_1141179992-Treatmentmedication_code_dovobet_ointment',\n",
       "       '2976_raw-Age_diabetes_diagnosed',\n",
       "       '2986-Started_insulin_within_one_year_diagnosis_of_diabetes',\n",
       "       '6144_3-Never_eat_eggs_dairy_wheat_sugar_Wheat_products',\n",
       "       '6153_3-Medication_for_cholesterol_blood_pressure_diabetes_or_take_exogenous_hormones_Insulin',\n",
       "       '6177_3-Medication_for_cholesterol_blood_pressure_or_diabetes_Insulin',\n",
       "       'DM_KETOACIDOSIS-Diabetic_ketoacidosis', 'E4_DM1-Type_1_diabetes',\n",
       "       'E4_DM1KETO-Type_1_diabetes_with_ketoacidosis',\n",
       "       'K11_OTHDIG-Other_diseases_of_the_digestive_system',\n",
       "       'M13_POLYARTHROPATHIES-Polyarthropathies',\n",
       "       'M13_RHEUMA-Rheumatoid_arthritis',\n",
       "       'RHEUMA_NOS-Otherunspecified_rheumatoid_arthritis',\n",
       "       'RHEUMA_SEROPOS-Seropositive_rheumatoid_arthritis',\n",
       "       'RHEUMA_SEROPOS_OTH-Otherunspecified_seropositiverheumatoid_arthritis',\n",
       "       'STILL_ADULT-Adultonset_Still_disease', 'ankylosing spondylitis',\n",
       "       'hematuria', 'hyperthyroidism AND thyrotoxicosis',\n",
       "       'psoriatic arthritis', 'type i diabetes mellitus'],\n",
       "      dtype='object')"
      ]
     },
     "metadata": {},
     "output_type": "display_data"
    },
    {
     "data": {
      "text/html": [
       "<h3>Cluster 44.41</h3>"
      ],
      "text/plain": [
       "<IPython.core.display.HTML object>"
      ]
     },
     "metadata": {},
     "output_type": "display_data"
    },
    {
     "data": {
      "text/plain": [
       "18"
      ]
     },
     "metadata": {},
     "output_type": "display_data"
    },
    {
     "data": {
      "text/plain": [
       "Index(['40001_C349-Underlying_primary_cause_of_death_ICD10_C349_Bronchus_or_lung_unspecified',\n",
       "       '5983_raw-ECG_heart_rate', '5984_raw-ECG_load',\n",
       "       '5986_raw-ECG_phase_time', '5992-ECG_phase_duration',\n",
       "       '5993-ECG_number_of_stages_in_a_phase',\n",
       "       '6020_1-Completion_status_of_test_Fully_completed',\n",
       "       '6020_33-Completion_status_of_test_Heart_rate_reached_safety_level',\n",
       "       '6032_raw-Maximum_workload_during_fitness_test',\n",
       "       '6033_raw-Maximum_heart_rate_during_fitness_test',\n",
       "       '6038_raw-Number_of_trend_entries', '6039-Duration_of_fitness_test',\n",
       "       'C3_RESPIRATORY_INTRATHORACIC-Malignant_neoplasm_of_respiratory_system_and_intrathoracic_organs',\n",
       "       'C_BRONCHUS_LUNG-Malignant_neoplasm_of_bronchus_and_lung',\n",
       "       'C_RESPIRATORY_INTRATHORACIC',\n",
       "       'LUNG_CANCER_MESOT-Lung_cancer_and_mesothelioma',\n",
       "       'ability to walk or cycle unaided for 10 minutes, self-reported',\n",
       "       'achievement of target heart rate, self-reported'],\n",
       "      dtype='object')"
      ]
     },
     "metadata": {},
     "output_type": "display_data"
    },
    {
     "data": {
      "text/html": [
       "<h3>Cluster 44.42</h3>"
      ],
      "text/plain": [
       "<IPython.core.display.HTML object>"
      ]
     },
     "metadata": {},
     "output_type": "display_data"
    },
    {
     "data": {
      "text/plain": [
       "239"
      ]
     },
     "metadata": {},
     "output_type": "display_data"
    },
    {
     "data": {
      "text/plain": [
       "Index(['1021-Duration_of_light_DIY', '1031-Frequency_of_friendfamily_visits',\n",
       "       '1060-Time_spent_outdoors_in_winter', '1090-Time_spent_driving',\n",
       "       '110001-Invitation_to_complete_online_24hour_recall_dietary_questionnaire_acceptance',\n",
       "       '1130-Handsfree_devicespeakerphone_use_with_mobile_phone_in_last_3_month',\n",
       "       '1150_1-Usual_side_of_head_for_mobile_phone_use_Left',\n",
       "       '1150_2-Usual_side_of_head_for_mobile_phone_use_Right',\n",
       "       '1339-Nonoily_fish_intake', '1359-Poultry_intake',\n",
       "       ...\n",
       "       'skull fractures', 'stroke', 'thyroid disease', 'umbilical hernia',\n",
       "       'unipolar depression', 'uterine prolapse', 'varicose veins',\n",
       "       'venous thromboembolism', 'vertigo',\n",
       "       'wellbeing measurement AND family relationship'],\n",
       "      dtype='object', length=239)"
      ]
     },
     "metadata": {},
     "output_type": "display_data"
    },
    {
     "data": {
      "text/html": [
       "<h3>Cluster 44.43</h3>"
      ],
      "text/plain": [
       "<IPython.core.display.HTML object>"
      ]
     },
     "metadata": {},
     "output_type": "display_data"
    },
    {
     "data": {
      "text/plain": [
       "19"
      ]
     },
     "metadata": {},
     "output_type": "display_data"
    },
    {
     "data": {
      "text/plain": [
       "Index(['20127_raw-Neuroticism_score',\n",
       "       '20421-Ever_felt_worried_tense_or_anxious_for_most_of_a_month_or_longer',\n",
       "       '20425-Ever_worried_more_than_most_people_would_in_similar_situation',\n",
       "       '20441-Ever_had_prolonged_loss_of_interest_in_normal_activities',\n",
       "       '20446-Ever_had_prolonged_feelings_of_sadness_or_depression',\n",
       "       '20499-Ever_sought_or_received_professional_help_for_mental_distress',\n",
       "       '20500-Ever_suffered_mental_distress_preventing_usual_activities',\n",
       "       '20544_11-Mental_health_problems_ever_diagnosed_by_a_professional_Depression',\n",
       "       '20546_3-Substances_taken_for_depression_Medication_prescribed_to_you_for_at_least_two_weeks',\n",
       "       '20547_1-Activities_undertaken_to_treat_depression_Talking_therapies_such_as_psychotherapy_counselling_group_therapy_or_CBT',\n",
       "       '20549_3-Substances_taken_for_anxiety_Medication_prescribed_to_you_for_at_least_two_weeks',\n",
       "       'anxiety', 'feeling tense measurement', 'mood swings', 'nervousness',\n",
       "       'seeing a general practitioner for nerves, anxiety, tension or depression, self-reported',\n",
       "       'seeing a psychiatrist for nerves, anxiety, tension or depression, self-reported',\n",
       "       'tiredness measurement', 'worry measurement'],\n",
       "      dtype='object')"
      ]
     },
     "metadata": {},
     "output_type": "display_data"
    },
    {
     "data": {
      "text/html": [
       "<h2>Partition with k=45</h2>"
      ],
      "text/plain": [
       "<IPython.core.display.HTML object>"
      ]
     },
     "metadata": {},
     "output_type": "display_data"
    },
    {
     "data": {
      "text/plain": [
       "method                                                 scc_020\n",
       "partition    [34, 34, 34, 34, 34, 34, 34, 34, 34, 18, 34, 3...\n",
       "ami_mean                                              0.289303\n",
       "selected                                                  True\n",
       "Name: 45, dtype: object"
      ]
     },
     "metadata": {},
     "output_type": "display_data"
    },
    {
     "data": {
      "text/plain": [
       "(3749,)"
      ]
     },
     "metadata": {},
     "output_type": "display_data"
    },
    {
     "data": {
      "text/plain": [
       "18    3019\n",
       "0      122\n",
       "38     117\n",
       "35      91\n",
       "39      32\n",
       "25      31\n",
       "36      25\n",
       "30      25\n",
       "29      24\n",
       "27      22\n",
       "42      20\n",
       "34      19\n",
       "41      18\n",
       "24      18\n",
       "23      18\n",
       "31      15\n",
       "21      13\n",
       "20       8\n",
       "32       8\n",
       "12       8\n",
       "8        8\n",
       "43       8\n",
       "15       8\n",
       "14       6\n",
       "9        6\n",
       "7        5\n",
       "19       5\n",
       "17       5\n",
       "1        4\n",
       "6        4\n",
       "16       4\n",
       "26       4\n",
       "13       4\n",
       "11       4\n",
       "5        3\n",
       "40       3\n",
       "4        3\n",
       "2        2\n",
       "3        2\n",
       "33       2\n",
       "10       2\n",
       "22       1\n",
       "37       1\n",
       "28       1\n",
       "44       1\n",
       "dtype: int64"
      ]
     },
     "metadata": {},
     "output_type": "display_data"
    },
    {
     "data": {
      "text/html": [
       "<h3>Cluster 45.0</h3>"
      ],
      "text/plain": [
       "<IPython.core.display.HTML object>"
      ]
     },
     "metadata": {},
     "output_type": "display_data"
    },
    {
     "data": {
      "text/plain": [
       "122"
      ]
     },
     "metadata": {},
     "output_type": "display_data"
    },
    {
     "data": {
      "text/plain": [
       "Index(['1031-Frequency_of_friendfamily_visits',\n",
       "       '1060-Time_spent_outdoors_in_winter', '1090-Time_spent_driving',\n",
       "       '1100-Drive_faster_than_motorway_speed_limit',\n",
       "       '110001-Invitation_to_complete_online_24hour_recall_dietary_questionnaire_acceptance',\n",
       "       '1120-Weekly_usage_of_mobile_phone_in_last_3_months',\n",
       "       '1289-Cooked_vegetable_intake', '1299-Salad_raw_vegetable_intake',\n",
       "       '1309-Fresh_fruit_intake', '1329-Oily_fish_intake',\n",
       "       ...\n",
       "       'menopause', 'migraine disorder', 'number of operations, self-reported',\n",
       "       'osteoarthritis', 'osteoarthritis, hip', 'osteoarthritis, knee',\n",
       "       'osteoporosis', 'parkinson's disease', 'smoking behavior',\n",
       "       'varicose veins'],\n",
       "      dtype='object', length=122)"
      ]
     },
     "metadata": {},
     "output_type": "display_data"
    },
    {
     "data": {
      "text/html": [
       "<h3>Cluster 45.1</h3>"
      ],
      "text/plain": [
       "<IPython.core.display.HTML object>"
      ]
     },
     "metadata": {},
     "output_type": "display_data"
    },
    {
     "data": {
      "text/plain": [
       "4"
      ]
     },
     "metadata": {},
     "output_type": "display_data"
    },
    {
     "data": {
      "text/plain": [
       "Index(['30040_raw-Mean_corpuscular_volume',\n",
       "       '30050_raw-Mean_corpuscular_haemoglobin',\n",
       "       '30260_raw-Mean_reticulocyte_volume',\n",
       "       '30270_raw-Mean_sphered_cell_volume'],\n",
       "      dtype='object')"
      ]
     },
     "metadata": {},
     "output_type": "display_data"
    },
    {
     "data": {
      "text/html": [
       "<h3>Cluster 45.2</h3>"
      ],
      "text/plain": [
       "<IPython.core.display.HTML object>"
      ]
     },
     "metadata": {},
     "output_type": "display_data"
    },
    {
     "data": {
      "text/plain": [
       "2"
      ]
     },
     "metadata": {},
     "output_type": "display_data"
    },
    {
     "data": {
      "text/plain": [
       "Index(['30100_raw-Mean_platelet_thrombocyte_volume', '30110_raw-Platelet_distribution_width'], dtype='object')"
      ]
     },
     "metadata": {},
     "output_type": "display_data"
    },
    {
     "data": {
      "text/html": [
       "<h3>Cluster 45.3</h3>"
      ],
      "text/plain": [
       "<IPython.core.display.HTML object>"
      ]
     },
     "metadata": {},
     "output_type": "display_data"
    },
    {
     "data": {
      "text/plain": [
       "2"
      ]
     },
     "metadata": {},
     "output_type": "display_data"
    },
    {
     "data": {
      "text/plain": [
       "Index(['30150-Eosinophill_count', '30210_raw-Eosinophill_percentage'], dtype='object')"
      ]
     },
     "metadata": {},
     "output_type": "display_data"
    },
    {
     "data": {
      "text/html": [
       "<h3>Cluster 45.4</h3>"
      ],
      "text/plain": [
       "<IPython.core.display.HTML object>"
      ]
     },
     "metadata": {},
     "output_type": "display_data"
    },
    {
     "data": {
      "text/plain": [
       "3"
      ]
     },
     "metadata": {},
     "output_type": "display_data"
    },
    {
     "data": {
      "text/plain": [
       "Index(['20015_raw-Sitting_height', '50_raw-Standing_height', 'body height'], dtype='object')"
      ]
     },
     "metadata": {},
     "output_type": "display_data"
    },
    {
     "data": {
      "text/html": [
       "<h3>Cluster 45.5</h3>"
      ],
      "text/plain": [
       "<IPython.core.display.HTML object>"
      ]
     },
     "metadata": {},
     "output_type": "display_data"
    },
    {
     "data": {
      "text/plain": [
       "3"
      ]
     },
     "metadata": {},
     "output_type": "display_data"
    },
    {
     "data": {
      "text/plain": [
       "Index(['30130_raw-Monocyte_count', '30190_raw-Monocyte_percentage',\n",
       "       'monocyte count'],\n",
       "      dtype='object')"
      ]
     },
     "metadata": {},
     "output_type": "display_data"
    },
    {
     "data": {
      "text/html": [
       "<h3>Cluster 45.6</h3>"
      ],
      "text/plain": [
       "<IPython.core.display.HTML object>"
      ]
     },
     "metadata": {},
     "output_type": "display_data"
    },
    {
     "data": {
      "text/plain": [
       "4"
      ]
     },
     "metadata": {},
     "output_type": "display_data"
    },
    {
     "data": {
      "text/plain": [
       "Index(['30010_raw-Red_blood_cell_erythrocyte_count',\n",
       "       '30020_raw-Haemoglobin_concentration',\n",
       "       '30030_raw-Haematocrit_percentage', 'erythrocyte count'],\n",
       "      dtype='object')"
      ]
     },
     "metadata": {},
     "output_type": "display_data"
    },
    {
     "data": {
      "text/html": [
       "<h3>Cluster 45.7</h3>"
      ],
      "text/plain": [
       "<IPython.core.display.HTML object>"
      ]
     },
     "metadata": {},
     "output_type": "display_data"
    },
    {
     "data": {
      "text/plain": [
       "5"
      ]
     },
     "metadata": {},
     "output_type": "display_data"
    },
    {
     "data": {
      "text/plain": [
       "Index(['23106_raw-Impedance_of_whole_body', '23107_raw-Impedance_of_leg_right',\n",
       "       '23108_raw-Impedance_of_leg_left', '23109_raw-Impedance_of_arm_right',\n",
       "       '23110_raw-Impedance_of_arm_left'],\n",
       "      dtype='object')"
      ]
     },
     "metadata": {},
     "output_type": "display_data"
    },
    {
     "data": {
      "text/html": [
       "<h3>Cluster 45.8</h3>"
      ],
      "text/plain": [
       "<IPython.core.display.HTML object>"
      ]
     },
     "metadata": {},
     "output_type": "display_data"
    },
    {
     "data": {
      "text/plain": [
       "8"
      ]
     },
     "metadata": {},
     "output_type": "display_data"
    },
    {
     "data": {
      "text/plain": [
       "Index(['1717-Skin_colour', '1727-Ease_of_skin_tanning',\n",
       "       '1737-Childhood_sunburn_occasions',\n",
       "       '1747_1-Hair_colour_natural_before_greying_Blonde',\n",
       "       '1747_2-Hair_colour_natural_before_greying_Red',\n",
       "       '1747_3-Hair_colour_natural_before_greying_Light_brown',\n",
       "       '1747_4-Hair_colour_natural_before_greying_Dark_brown',\n",
       "       '1747_5-Hair_colour_natural_before_greying_Black'],\n",
       "      dtype='object')"
      ]
     },
     "metadata": {},
     "output_type": "display_data"
    },
    {
     "data": {
      "text/html": [
       "<h3>Cluster 45.9</h3>"
      ],
      "text/plain": [
       "<IPython.core.display.HTML object>"
      ]
     },
     "metadata": {},
     "output_type": "display_data"
    },
    {
     "data": {
      "text/plain": [
       "6"
      ]
     },
     "metadata": {},
     "output_type": "display_data"
    },
    {
     "data": {
      "text/plain": [
       "Index(['30240_raw-Reticulocyte_percentage', '30250_raw-Reticulocyte_count',\n",
       "       '30280_raw-Immature_reticulocyte_fraction',\n",
       "       '30290_raw-High_light_scatter_reticulocyte_percentage',\n",
       "       '30300_raw-High_light_scatter_reticulocyte_count',\n",
       "       'reticulocyte count'],\n",
       "      dtype='object')"
      ]
     },
     "metadata": {},
     "output_type": "display_data"
    },
    {
     "data": {
      "text/html": [
       "<h3>Cluster 45.10</h3>"
      ],
      "text/plain": [
       "<IPython.core.display.HTML object>"
      ]
     },
     "metadata": {},
     "output_type": "display_data"
    },
    {
     "data": {
      "text/plain": [
       "2"
      ]
     },
     "metadata": {},
     "output_type": "display_data"
    },
    {
     "data": {
      "text/plain": [
       "Index(['30180_raw-Lymphocyte_percentage', '30200_raw-Neutrophill_percentage'], dtype='object')"
      ]
     },
     "metadata": {},
     "output_type": "display_data"
    },
    {
     "data": {
      "text/html": [
       "<h3>Cluster 45.11</h3>"
      ],
      "text/plain": [
       "<IPython.core.display.HTML object>"
      ]
     },
     "metadata": {},
     "output_type": "display_data"
    },
    {
     "data": {
      "text/plain": [
       "4"
      ]
     },
     "metadata": {},
     "output_type": "display_data"
    },
    {
     "data": {
      "text/plain": [
       "Index(['3144_raw-Heel_Broadband_ultrasound_attenuation_direct_entry',\n",
       "       '3147_raw-Heel_quantitative_ultrasound_index_QUI_direct_entry',\n",
       "       '3148_raw-Heel_bone_mineral_density_BMD',\n",
       "       '78_raw-Heel_bone_mineral_density_BMD_Tscore_automated'],\n",
       "      dtype='object')"
      ]
     },
     "metadata": {},
     "output_type": "display_data"
    },
    {
     "data": {
      "text/html": [
       "<h3>Cluster 45.12</h3>"
      ],
      "text/plain": [
       "<IPython.core.display.HTML object>"
      ]
     },
     "metadata": {},
     "output_type": "display_data"
    },
    {
     "data": {
      "text/plain": [
       "8"
      ]
     },
     "metadata": {},
     "output_type": "display_data"
    },
    {
     "data": {
      "text/plain": [
       "Index(['5096_raw-3mm_weak_meridian_left', '5097_raw-6mm_weak_meridian_left',\n",
       "       '5098_raw-6mm_weak_meridian_right', '5099_raw-3mm_weak_meridian_right',\n",
       "       '5132_raw-3mm_strong_meridian_right',\n",
       "       '5133_raw-6mm_strong_meridian_right',\n",
       "       '5134_raw-6mm_strong_meridian_left',\n",
       "       '5135_raw-3mm_strong_meridian_left'],\n",
       "      dtype='object')"
      ]
     },
     "metadata": {},
     "output_type": "display_data"
    },
    {
     "data": {
      "text/html": [
       "<h3>Cluster 45.13</h3>"
      ],
      "text/plain": [
       "<IPython.core.display.HTML object>"
      ]
     },
     "metadata": {},
     "output_type": "display_data"
    },
    {
     "data": {
      "text/plain": [
       "4"
      ]
     },
     "metadata": {},
     "output_type": "display_data"
    },
    {
     "data": {
      "text/plain": [
       "Index(['20150_raw-Forced_expiratory_volume_in_1second_FEV1_Best_measure',\n",
       "       '20151_raw-Forced_vital_capacity_FVC_Best_measure',\n",
       "       '3062_raw-Forced_vital_capacity_FVC',\n",
       "       '3063_raw-Forced_expiratory_volume_in_1second_FEV1'],\n",
       "      dtype='object')"
      ]
     },
     "metadata": {},
     "output_type": "display_data"
    },
    {
     "data": {
      "text/html": [
       "<h3>Cluster 45.14</h3>"
      ],
      "text/plain": [
       "<IPython.core.display.HTML object>"
      ]
     },
     "metadata": {},
     "output_type": "display_data"
    },
    {
     "data": {
      "text/plain": [
       "6"
      ]
     },
     "metadata": {},
     "output_type": "display_data"
    },
    {
     "data": {
      "text/plain": [
       "Index(['30000_raw-White_blood_cell_leukocyte_count',\n",
       "       '30140_raw-Neutrophill_count', 'granulocyte count', 'leukocyte count',\n",
       "       'myeloid white cell count', 'neutrophil count'],\n",
       "      dtype='object')"
      ]
     },
     "metadata": {},
     "output_type": "display_data"
    },
    {
     "data": {
      "text/html": [
       "<h3>Cluster 45.15</h3>"
      ],
      "text/plain": [
       "<IPython.core.display.HTML object>"
      ]
     },
     "metadata": {},
     "output_type": "display_data"
    },
    {
     "data": {
      "text/plain": [
       "8"
      ]
     },
     "metadata": {},
     "output_type": "display_data"
    },
    {
     "data": {
      "text/plain": [
       "Index(['4101_raw-Heel_broadband_ultrasound_attenuation_left',\n",
       "       '4104_raw-Heel_quantitative_ultrasound_index_QUI_direct_entry_left',\n",
       "       '4105_raw-Heel_bone_mineral_density_BMD_left',\n",
       "       '4106_raw-Heel_bone_mineral_density_BMD_Tscore_automated_left',\n",
       "       '4120_raw-Heel_broadband_ultrasound_attenuation_right',\n",
       "       '4123_raw-Heel_quantitative_ultrasound_index_QUI_direct_entry_right',\n",
       "       '4124_raw-Heel_bone_mineral_density_BMD_right',\n",
       "       '4125_raw-Heel_bone_mineral_density_BMD_Tscore_automated_right'],\n",
       "      dtype='object')"
      ]
     },
     "metadata": {},
     "output_type": "display_data"
    },
    {
     "data": {
      "text/html": [
       "<h3>Cluster 45.16</h3>"
      ],
      "text/plain": [
       "<IPython.core.display.HTML object>"
      ]
     },
     "metadata": {},
     "output_type": "display_data"
    },
    {
     "data": {
      "text/plain": [
       "4"
      ]
     },
     "metadata": {},
     "output_type": "display_data"
    },
    {
     "data": {
      "text/plain": [
       "Index(['6152_100-Blood_clot_DVT_bronchitis_emphysema_asthma_rhinitis_eczema_allergy_diagnosed_by_doctor_None_of_the_above',\n",
       "       '6152_8-Blood_clot_DVT_bronchitis_emphysema_asthma_rhinitis_eczema_allergy_diagnosed_by_doctor_Asthma',\n",
       "       '6152_9-Blood_clot_DVT_bronchitis_emphysema_asthma_rhinitis_eczema_allergy_diagnosed_by_doctor_Hayfever_allergic_rhinitis_or_eczema',\n",
       "       'asthma'],\n",
       "      dtype='object')"
      ]
     },
     "metadata": {},
     "output_type": "display_data"
    },
    {
     "data": {
      "text/html": [
       "<h3>Cluster 45.17</h3>"
      ],
      "text/plain": [
       "<IPython.core.display.HTML object>"
      ]
     },
     "metadata": {},
     "output_type": "display_data"
    },
    {
     "data": {
      "text/plain": [
       "5"
      ]
     },
     "metadata": {},
     "output_type": "display_data"
    },
    {
     "data": {
      "text/plain": [
       "Index(['102_raw-Pulse_rate_automated_reading',\n",
       "       '3064_raw-Peak_expiratory_flow_PEF',\n",
       "       '4100_raw-Ankle_spacing_width_left',\n",
       "       '4119_raw-Ankle_spacing_width_right', 'inflammatory bowel disease'],\n",
       "      dtype='object')"
      ]
     },
     "metadata": {},
     "output_type": "display_data"
    },
    {
     "data": {
      "text/html": [
       "<h3>Cluster 45.18</h3>"
      ],
      "text/plain": [
       "<IPython.core.display.HTML object>"
      ]
     },
     "metadata": {},
     "output_type": "display_data"
    },
    {
     "data": {
      "text/plain": [
       "3019"
      ]
     },
     "metadata": {},
     "output_type": "display_data"
    },
    {
     "data": {
      "text/plain": [
       "Index(['100010-Portion_size', '100013_raw-Vitamin_B12', '100018_raw-Retinol',\n",
       "       '100021_raw-Vitamin_D', '100022-Alcohol',\n",
       "       '1001-Duration_of_strenuous_sports', '100150-Drinking_water_intake',\n",
       "       '100160-Low_calorie_drink_intake', '100170-Fizzy_drink_intake',\n",
       "       '100190-Orange_juice_intake',\n",
       "       ...\n",
       "       'viral disease', 'viral human hepatitis infection', 'viral meningitis',\n",
       "       'visual impairment', 'vitiligo', 'vitreous body disease',\n",
       "       'vocal cord polyp', 'voice disorders',\n",
       "       'wellbeing measurement AND family relationship', 'whooping cough'],\n",
       "      dtype='object', length=3019)"
      ]
     },
     "metadata": {},
     "output_type": "display_data"
    },
    {
     "data": {
      "text/html": [
       "<h3>Cluster 45.19</h3>"
      ],
      "text/plain": [
       "<IPython.core.display.HTML object>"
      ]
     },
     "metadata": {},
     "output_type": "display_data"
    },
    {
     "data": {
      "text/plain": [
       "5"
      ]
     },
     "metadata": {},
     "output_type": "display_data"
    },
    {
     "data": {
      "text/plain": [
       "Index(['4079_raw-Diastolic_blood_pressure_automated_reading',\n",
       "       '4080_raw-Systolic_blood_pressure_automated_reading',\n",
       "       '6150_100-Vascularheart_problems_diagnosed_by_doctor_None_of_the_above',\n",
       "       '6150_4-Vascularheart_problems_diagnosed_by_doctor_High_blood_pressure',\n",
       "       'hypertension'],\n",
       "      dtype='object')"
      ]
     },
     "metadata": {},
     "output_type": "display_data"
    },
    {
     "data": {
      "text/html": [
       "<h3>Cluster 45.20</h3>"
      ],
      "text/plain": [
       "<IPython.core.display.HTML object>"
      ]
     },
     "metadata": {},
     "output_type": "display_data"
    },
    {
     "data": {
      "text/plain": [
       "8"
      ]
     },
     "metadata": {},
     "output_type": "display_data"
    },
    {
     "data": {
      "text/plain": [
       "Index(['20003_1141191044-Treatmentmedication_code_levothyroxine_sodium',\n",
       "       'K11_COELIAC-Coeliac_disease', 'celiac disease',\n",
       "       'hypothyroidism AND myxedema', 'malabsorption syndrome', 'psoriasis',\n",
       "       'rheumatoid arthritis', 'systemic lupus erythematosus'],\n",
       "      dtype='object')"
      ]
     },
     "metadata": {},
     "output_type": "display_data"
    },
    {
     "data": {
      "text/html": [
       "<h3>Cluster 45.21</h3>"
      ],
      "text/plain": [
       "<IPython.core.display.HTML object>"
      ]
     },
     "metadata": {},
     "output_type": "display_data"
    },
    {
     "data": {
      "text/plain": [
       "13"
      ]
     },
     "metadata": {},
     "output_type": "display_data"
    },
    {
     "data": {
      "text/plain": [
       "Index(['23101_raw-Whole_body_fatfree_mass', '23102_raw-Whole_body_water_mass',\n",
       "       '23105_raw-Basal_metabolic_rate', '23113_raw-Leg_fatfree_mass_right',\n",
       "       '23114_raw-Leg_predicted_mass_right', '23117_raw-Leg_fatfree_mass_left',\n",
       "       '23118_raw-Leg_predicted_mass_left', '23121_raw-Arm_fatfree_mass_right',\n",
       "       '23122_raw-Arm_predicted_mass_right', '23125_raw-Arm_fatfree_mass_left',\n",
       "       '23126_raw-Arm_predicted_mass_left', '23129_raw-Trunk_fatfree_mass',\n",
       "       '23130_raw-Trunk_predicted_mass'],\n",
       "      dtype='object')"
      ]
     },
     "metadata": {},
     "output_type": "display_data"
    },
    {
     "data": {
      "text/html": [
       "<h3>Cluster 45.22</h3>"
      ],
      "text/plain": [
       "<IPython.core.display.HTML object>"
      ]
     },
     "metadata": {},
     "output_type": "display_data"
    },
    {
     "data": {
      "text/plain": [
       "1"
      ]
     },
     "metadata": {},
     "output_type": "display_data"
    },
    {
     "data": {
      "text/plain": [
       "Index(['lymphocyte count'], dtype='object')"
      ]
     },
     "metadata": {},
     "output_type": "display_data"
    },
    {
     "data": {
      "text/html": [
       "<h3>Cluster 45.23</h3>"
      ],
      "text/plain": [
       "<IPython.core.display.HTML object>"
      ]
     },
     "metadata": {},
     "output_type": "display_data"
    },
    {
     "data": {
      "text/plain": [
       "18"
      ]
     },
     "metadata": {},
     "output_type": "display_data"
    },
    {
     "data": {
      "text/plain": [
       "Index(['21001_raw-Body_mass_index_BMI', '21002_raw-Weight', '23098_raw-Weight',\n",
       "       '23099_raw-Body_fat_percentage', '23100_raw-Whole_body_fat_mass',\n",
       "       '23104_raw-Body_mass_index_BMI', '23111_raw-Leg_fat_percentage_right',\n",
       "       '23112_raw-Leg_fat_mass_right', '23115_raw-Leg_fat_percentage_left',\n",
       "       '23116_raw-Leg_fat_mass_left', '23119_raw-Arm_fat_percentage_right',\n",
       "       '23120_raw-Arm_fat_mass_right', '23123_raw-Arm_fat_percentage_left',\n",
       "       '23124_raw-Arm_fat_mass_left', '23127_raw-Trunk_fat_percentage',\n",
       "       '23128_raw-Trunk_fat_mass', '48_raw-Waist_circumference',\n",
       "       '49_raw-Hip_circumference'],\n",
       "      dtype='object')"
      ]
     },
     "metadata": {},
     "output_type": "display_data"
    },
    {
     "data": {
      "text/html": [
       "<h3>Cluster 45.24</h3>"
      ],
      "text/plain": [
       "<IPython.core.display.HTML object>"
      ]
     },
     "metadata": {},
     "output_type": "display_data"
    },
    {
     "data": {
      "text/plain": [
       "18"
      ]
     },
     "metadata": {},
     "output_type": "display_data"
    },
    {
     "data": {
      "text/plain": [
       "Index(['1050-Time_spend_outdoors_in_summer',\n",
       "       '1070-Time_spent_watching_television_TV', '1448_1-Bread_type_White',\n",
       "       '1448_3-Bread_type_Wholemeal_or_wholegrain',\n",
       "       '20016_raw-Fluid_intelligence_score',\n",
       "       '2139_raw-Age_first_had_sexual_intercourse',\n",
       "       '22501_raw-Year_ended_full_time_education',\n",
       "       '2754_raw-Age_at_first_live_birth',\n",
       "       '6138_1-Qualifications_College_or_University_degree',\n",
       "       '6138_100-Qualifications_None_of_the_above',\n",
       "       '6138_2-Qualifications_A_levelsAS_levels_or_equivalent',\n",
       "       '6138_3-Qualifications_O_levelsGCSEs_or_equivalent',\n",
       "       '738-Average_total_household_income_before_tax',\n",
       "       '806-Job_involves_mainly_walking_or_standing',\n",
       "       '816-Job_involves_heavy_manual_or_physical_work',\n",
       "       'SSGAC_Education_Years_Pooled', 'schizophrenia',\n",
       "       'self reported educational attainment'],\n",
       "      dtype='object')"
      ]
     },
     "metadata": {},
     "output_type": "display_data"
    },
    {
     "data": {
      "text/html": [
       "<h3>Cluster 45.25</h3>"
      ],
      "text/plain": [
       "<IPython.core.display.HTML object>"
      ]
     },
     "metadata": {},
     "output_type": "display_data"
    },
    {
     "data": {
      "text/plain": [
       "31"
      ]
     },
     "metadata": {},
     "output_type": "display_data"
    },
    {
     "data": {
      "text/plain": [
       "Index(['1080-Time_spent_using_computer', '1319-Dried_fruit_intake',\n",
       "       '1478-Salt_added_to_food', '1488_raw-Tea_intake',\n",
       "       '1518-Hot_drink_temperature', '1528-Water_intake', '1757-Facial_ageing',\n",
       "       '20022_raw-Birth_weight',\n",
       "       '20154_raw-Forced_expiratory_volume_in_1second_FEV1_predicted_percentage',\n",
       "       '2217_raw-Age_started_wearing_glasses_or_contact_lenses',\n",
       "       '2237-Plays_computer_games',\n",
       "       '30060_raw-Mean_corpuscular_haemoglobin_concentration',\n",
       "       '30530_raw-Sodium_in_urine',\n",
       "       '399_raw-Number_of_incorrect_matches_in_round',\n",
       "       '400_raw-Time_to_complete_round', '4194_raw-Pulse_rate',\n",
       "       '5084_raw-Spherical_power_right', '5085_raw-Spherical_power_left',\n",
       "       '924-Usual_walking_pace', 'age at first facial hair', 'age at menarche',\n",
       "       'chronotype measurement',\n",
       "       'comparative body size at age 10, self-reported',\n",
       "       'ease of getting up in the morning, self-reported',\n",
       "       'excessive daytime sleepiness measurement AND narcolepsy without cataplexy',\n",
       "       'hearing loss', 'insomnia', 'nap during day, self-reported',\n",
       "       'sleep duration', 'snoring measurement', 'wheezing'],\n",
       "      dtype='object')"
      ]
     },
     "metadata": {},
     "output_type": "display_data"
    },
    {
     "data": {
      "text/html": [
       "<h3>Cluster 45.26</h3>"
      ],
      "text/plain": [
       "<IPython.core.display.HTML object>"
      ]
     },
     "metadata": {},
     "output_type": "display_data"
    },
    {
     "data": {
      "text/plain": [
       "4"
      ]
     },
     "metadata": {},
     "output_type": "display_data"
    },
    {
     "data": {
      "text/plain": [
       "Index(['20116_0-Smoking_status_Never', '20116_1-Smoking_status_Previous',\n",
       "       '20160-Ever_smoked', 'smoking cessation'],\n",
       "      dtype='object')"
      ]
     },
     "metadata": {},
     "output_type": "display_data"
    },
    {
     "data": {
      "text/html": [
       "<h3>Cluster 45.27</h3>"
      ],
      "text/plain": [
       "<IPython.core.display.HTML object>"
      ]
     },
     "metadata": {},
     "output_type": "display_data"
    },
    {
     "data": {
      "text/plain": [
       "22"
      ]
     },
     "metadata": {},
     "output_type": "display_data"
    },
    {
     "data": {
      "text/plain": [
       "Index(['129_raw-Place_of_birth_in_UK_north_coordinate',\n",
       "       '130_raw-Place_of_birth_in_UK_east_coordinate',\n",
       "       '2395_1-Hairbalding_pattern_Pattern_1',\n",
       "       'androgenetic alopecia AND balding measurement', 'birth weight',\n",
       "       'bone disease', 'cardiac arrhythmia', 'checkup', 'device complication',\n",
       "       'diabetes mellitus', 'emotional symptom measurement',\n",
       "       'encounter with health service', 'female reproductive system disease',\n",
       "       'head injury', 'injury', 'joint disease', 'kidney failure',\n",
       "       'leg injury', 'non-hodgkins lymphoma', 'poisoning',\n",
       "       'pregnancy disorder', 'soft tissue disease'],\n",
       "      dtype='object')"
      ]
     },
     "metadata": {},
     "output_type": "display_data"
    },
    {
     "data": {
      "text/html": [
       "<h3>Cluster 45.28</h3>"
      ],
      "text/plain": [
       "<IPython.core.display.HTML object>"
      ]
     },
     "metadata": {},
     "output_type": "display_data"
    },
    {
     "data": {
      "text/plain": [
       "1"
      ]
     },
     "metadata": {},
     "output_type": "display_data"
    },
    {
     "data": {
      "text/plain": [
       "Index(['eosinophil count'], dtype='object')"
      ]
     },
     "metadata": {},
     "output_type": "display_data"
    },
    {
     "data": {
      "text/html": [
       "<h3>Cluster 45.29</h3>"
      ],
      "text/plain": [
       "<IPython.core.display.HTML object>"
      ]
     },
     "metadata": {},
     "output_type": "display_data"
    },
    {
     "data": {
      "text/plain": [
       "24"
      ]
     },
     "metadata": {},
     "output_type": "display_data"
    },
    {
     "data": {
      "text/plain": [
       "Index(['20003_1140861958-Treatmentmedication_code_simvastatin',\n",
       "       '20003_1140868226-Treatmentmedication_code_aspirin',\n",
       "       '20003_1141194794-Treatmentmedication_code_bendroflumethiazide',\n",
       "       '6150_1-Vascularheart_problems_diagnosed_by_doctor_Heart_attack',\n",
       "       '6150_2-Vascularheart_problems_diagnosed_by_doctor_Angina',\n",
       "       '6153_1-Medication_for_cholesterol_blood_pressure_diabetes_or_take_exogenous_hormones_Cholesterol_lowering_medication',\n",
       "       '6153_100-Medication_for_cholesterol_blood_pressure_diabetes_or_take_exogenous_hormones_None_of_the_above',\n",
       "       '6154_1-Medication_for_pain_relief_constipation_heartburn_Aspirin',\n",
       "       '6177_1-Medication_for_cholesterol_blood_pressure_or_diabetes_Cholesterol_lowering_medication',\n",
       "       '6177_100-Medication_for_cholesterol_blood_pressure_or_diabetes_None_of_the_above',\n",
       "       '6177_2-Medication_for_cholesterol_blood_pressure_or_diabetes_Blood_pressure_medication',\n",
       "       'I9_CHD-Major_coronary_heart_disease_event',\n",
       "       'I9_CHD_NOREV-Major_coronary_heart_disease_event_excluding_revascularizations',\n",
       "       'I9_CORATHER-Coronary_atherosclerosis',\n",
       "       'I9_IHD-Ischaemic_heart_disease_wide_definition',\n",
       "       'I9_MI-Myocardial_infarction',\n",
       "       'I9_MI_STRICT-Myocardial_infarction_strict',\n",
       "       'IX_CIRCULATORY-Diseases_of_the_circulatory_system',\n",
       "       'acute myocardial infarction', 'angina pectoris',\n",
       "       'coronary artery disease', 'hypercholesterolemia',\n",
       "       'myocardial infarction',\n",
       "       'number of treatments or medications taken, self-reported'],\n",
       "      dtype='object')"
      ]
     },
     "metadata": {},
     "output_type": "display_data"
    },
    {
     "data": {
      "text/html": [
       "<h3>Cluster 45.30</h3>"
      ],
      "text/plain": [
       "<IPython.core.display.HTML object>"
      ]
     },
     "metadata": {},
     "output_type": "display_data"
    },
    {
     "data": {
      "text/plain": [
       "25"
      ]
     },
     "metadata": {},
     "output_type": "display_data"
    },
    {
     "data": {
      "text/plain": [
       "Index(['20458-General_happiness', '20459-General_happiness_with_own_health',\n",
       "       '20460-Belief_that_own_life_is_meaningful',\n",
       "       '20479-Ever_thought_that_life_not_worth_living',\n",
       "       '20485-Ever_contemplated_selfharm',\n",
       "       '20494-Felt_irritable_or_had_angry_outbursts_in_past_month',\n",
       "       '20495-Avoided_activities_or_situations_because_of_previous_stressful_experience_in_past_month',\n",
       "       '20496-Felt_distant_from_other_people_in_past_month',\n",
       "       '20497-Repeated_disturbing_thoughts_of_stressful_experience_in_past_month',\n",
       "       '20498-Felt_very_upset_when_reminded_of_stressful_experience_in_past_month',\n",
       "       '20505-Recent_easy_annoyance_or_irritability',\n",
       "       '20506-Recent_feelings_or_nervousness_or_anxiety',\n",
       "       '20507-Recent_feelings_of_inadequacy',\n",
       "       '20508-Recent_trouble_concentrating_on_things',\n",
       "       '20509-Recent_inability_to_stop_or_control_worrying',\n",
       "       '20510-Recent_feelings_of_depression',\n",
       "       '20511-Recent_poor_appetite_or_overeating',\n",
       "       '20512-Recent_feelings_of_foreboding',\n",
       "       '20513-Recent_thoughts_of_suicide_or_selfharm',\n",
       "       '20514-Recent_lack_of_interest_or_pleasure_in_doing_things',\n",
       "       '20515-Recent_trouble_relaxing', '20516-Recent_restlessness',\n",
       "       '20517-Trouble_falling_or_staying_asleep_or_sleeping_too_much',\n",
       "       '20519-Recent_feelings_of_tiredness_or_low_energy',\n",
       "       '20520-Recent_worrying_too_much_about_different_things'],\n",
       "      dtype='object')"
      ]
     },
     "metadata": {},
     "output_type": "display_data"
    },
    {
     "data": {
      "text/html": [
       "<h3>Cluster 45.31</h3>"
      ],
      "text/plain": [
       "<IPython.core.display.HTML object>"
      ]
     },
     "metadata": {},
     "output_type": "display_data"
    },
    {
     "data": {
      "text/plain": [
       "15"
      ]
     },
     "metadata": {},
     "output_type": "display_data"
    },
    {
     "data": {
      "text/plain": [
       "Index(['EAGLE_Eczema', 'Jones_et_al_2016_Chronotype', 'MAGNETIC_CH2.DB.ratio',\n",
       "       'MAGNETIC_HDL.C', 'MAGNETIC_IDL.TG', 'MAGNETIC_LDL.C',\n",
       "       'alzheimer's disease', 'attention deficit hyperactivity disorder',\n",
       "       'depressive symptom measurement',\n",
       "       'estrogen-receptor negative breast cancer',\n",
       "       'estrogen-receptor positive breast cancer',\n",
       "       'family history of breast cancer', 'fasting blood glucose measurement',\n",
       "       'fasting blood insulin measurement', 'intracranial volume measurement'],\n",
       "      dtype='object')"
      ]
     },
     "metadata": {},
     "output_type": "display_data"
    },
    {
     "data": {
      "text/html": [
       "<h3>Cluster 45.32</h3>"
      ],
      "text/plain": [
       "<IPython.core.display.HTML object>"
      ]
     },
     "metadata": {},
     "output_type": "display_data"
    },
    {
     "data": {
      "text/plain": [
       "8"
      ]
     },
     "metadata": {},
     "output_type": "display_data"
    },
    {
     "data": {
      "text/plain": [
       "Index(['5254_raw-Intraocular_pressure_cornealcompensated_right',\n",
       "       '5255_raw-Intraocular_pressure_Goldmanncorrelated_right',\n",
       "       '5256_raw-Corneal_hysteresis_right',\n",
       "       '5257_raw-Corneal_resistance_factor_right',\n",
       "       '5262_raw-Intraocular_pressure_cornealcompensated_left',\n",
       "       '5263_raw-Intraocular_pressure_Goldmanncorrelated_left',\n",
       "       '5264_raw-Corneal_hysteresis_left',\n",
       "       '5265_raw-Corneal_resistance_factor_left'],\n",
       "      dtype='object')"
      ]
     },
     "metadata": {},
     "output_type": "display_data"
    },
    {
     "data": {
      "text/html": [
       "<h3>Cluster 45.33</h3>"
      ],
      "text/plain": [
       "<IPython.core.display.HTML object>"
      ]
     },
     "metadata": {},
     "output_type": "display_data"
    },
    {
     "data": {
      "text/plain": [
       "2"
      ]
     },
     "metadata": {},
     "output_type": "display_data"
    },
    {
     "data": {
      "text/plain": [
       "Index(['46_raw-Hand_grip_strength_left', '47_raw-Hand_grip_strength_right'], dtype='object')"
      ]
     },
     "metadata": {},
     "output_type": "display_data"
    },
    {
     "data": {
      "text/html": [
       "<h3>Cluster 45.34</h3>"
      ],
      "text/plain": [
       "<IPython.core.display.HTML object>"
      ]
     },
     "metadata": {},
     "output_type": "display_data"
    },
    {
     "data": {
      "text/plain": [
       "19"
      ]
     },
     "metadata": {},
     "output_type": "display_data"
    },
    {
     "data": {
      "text/plain": [
       "Index(['100001_raw-Food_weight', '100002_raw-Energy', '100003_raw-Protein',\n",
       "       '100004_raw-Fat', '100005_raw-Carbohydrate', '100006_raw-Saturated_fat',\n",
       "       '100007_raw-Polyunsaturated_fat', '100008_raw-Total_sugars',\n",
       "       '100009_raw-Englyst_dietary_fibre', '100011_raw-Iron',\n",
       "       '100012_raw-Vitamin_B6', '100014_raw-Folate', '100015_raw-Vitamin_C',\n",
       "       '100016_raw-Potassium', '100017_raw-Magnesium', '100019_raw-Carotene',\n",
       "       '100023_raw-Starch', '100024_raw-Calcium', '100025_raw-Vitamin_E'],\n",
       "      dtype='object')"
      ]
     },
     "metadata": {},
     "output_type": "display_data"
    },
    {
     "data": {
      "text/html": [
       "<h3>Cluster 45.35</h3>"
      ],
      "text/plain": [
       "<IPython.core.display.HTML object>"
      ]
     },
     "metadata": {},
     "output_type": "display_data"
    },
    {
     "data": {
      "text/plain": [
       "91"
      ]
     },
     "metadata": {},
     "output_type": "display_data"
    },
    {
     "data": {
      "text/plain": [
       "Index(['20003_1140861998-Treatmentmedication_code_ventolin_100micrograms_inhaler',\n",
       "       '20003_1140871310-Treatmentmedication_code_ibuprofen',\n",
       "       '20003_1141176832-Treatmentmedication_code_seretide_50_evohaler',\n",
       "       '20110_1-Illnesses_of_mother_Heart_disease',\n",
       "       '20110_100-Illnesses_of_mother_None_of_the_above_group_1',\n",
       "       '20110_8-Illnesses_of_mother_High_blood_pressure',\n",
       "       '20111_1-Illnesses_of_siblings_Heart_disease',\n",
       "       '20521-Belittlement_by_partner_or_expartner_as_an_adult',\n",
       "       '20523-Physical_violence_by_partner_or_expartner_as_an_adult',\n",
       "       '20524-Sexual_interference_by_partner_or_expartner_without_consent_as_an_adult',\n",
       "       '22506_113-Tobacco_smoking_Exsmoker',\n",
       "       '22506_114-Tobacco_smoking_Never_smoked',\n",
       "       '22702_raw-Home_location_east_coordinate_rounded',\n",
       "       '30160-Basophill_count',\n",
       "       '40001_C64-Underlying_primary_cause_of_death_ICD10_C64_Malignant_neoplasm_of_kidney_except_renal_pelvis',\n",
       "       '40001_C719-Underlying_primary_cause_of_death_ICD10_C719_Brain_unspecified',\n",
       "       '5086_raw-Cylindrical_power_left', '5087_raw-Cylindrical_power_right',\n",
       "       '5116_raw-3mm_cylindrical_power_right',\n",
       "       '5117_raw-6mm_cylindrical_power_right',\n",
       "       '5118_raw-6mm_cylindrical_power_left',\n",
       "       '5119_raw-3mm_cylindrical_power_left',\n",
       "       '6142_4-Current_employment_status_Unable_to_work_because_of_sickness_or_disability',\n",
       "       '6146_2-Attendancedisabilitymobility_allowance_Disability_living_allowance',\n",
       "       '6146_3-Attendancedisabilitymobility_allowance_Blue_badge',\n",
       "       '6148_2-Eye_problemsdisorders_Glaucoma',\n",
       "       '6152_5-Blood_clot_DVT_bronchitis_emphysema_asthma_rhinitis_eczema_allergy_diagnosed_by_doctor_Blood_clot_in_the_leg_DVT',\n",
       "       '6152_7-Blood_clot_DVT_bronchitis_emphysema_asthma_rhinitis_eczema_allergy_diagnosed_by_doctor_Blood_clot_in_the_lung',\n",
       "       '6154_2-Medication_for_pain_relief_constipation_heartburn_Ibuprofen_eg_Nurofen',\n",
       "       'ASTHMA_MEDICATIO_COMORB-Medication_related_adverse_effects',\n",
       "       'C3_DIGESTIVE_ORGANS-Malignant_neoplasm_of_digestive_organs',\n",
       "       'C3_EYE_BRAIN_NEURO-Malignant_neoplasm_of_eye_brain_and_central_nervous_system',\n",
       "       'CARDIAC_ARRHYTM-Cardiac_arrhytmias_COPD_comorbidities',\n",
       "       'COPD_EXCL-COPD_differential_diagnosis',\n",
       "       'C_BRAIN-Malignant_neoplasm_of_brain',\n",
       "       'C_COLON-Malignant_neoplasm_of_colon', 'C_DIGESTIVE_ORGANS',\n",
       "       'C_EYE_ADNEXA-Malignant_neoplasm_of_eye_and_adnexa',\n",
       "       'C_EYE_BRAIN_NEURO', 'C_STOMACH-Malignant_neoplasm_of_stomach',\n",
       "       'D3_BLOODNAS-Other_and_unspecified_diseases_of_blood_and_bloodforming_organs',\n",
       "       'D3_OTHERBLOOD-Oher_diseases_of_blood_and_bloodforming_organs',\n",
       "       'D3_SCNDPOLYCYTHAEMIA-Secondary_polycythaemia',\n",
       "       'G6_CARPTU-Carpal_tunnel_syndrome',\n",
       "       'G6_NERPLEX-Nerve_nerve_root_and_plexus_disorders',\n",
       "       'H7_LENS-Disorders_of_lens',\n",
       "       'H7_RETINALDETACH-Retinal_detachments_and_breaks',\n",
       "       'I9_ARTEMBTHR-Arterial_embolism_and_thrombosis',\n",
       "       'I9_ARTEMBTHRLOW-Arterial_embolism_and_thrombosis_of_lower_extremity_artery',\n",
       "       'I9_CARDMPRI-Cardiomyopathies_Primaryintrinsic',\n",
       "       'I9_CARDMYO-Cardiomyopathy',\n",
       "       'I9_DVTANDPULM-DVT_of_lower_extremities_and_pulmonary_embolism',\n",
       "       'I9_PHLETHROMBDVTLOW-DVT_of_lower_extremities',\n",
       "       'I9_VTE-Venous_thromboembolism',\n",
       "       'ILD_DIFF_DG-ILD_differential_diagnosis',\n",
       "       'K11_CHRONPANC-Chronic_pancreatitis', 'K11_LIVER-Diseases_of_liver',\n",
       "       'K11_PANCOTH-Other_diseases_of_pancreas',\n",
       "       'M13_OTHCONN-Other_systemic_involvement_of_connective_tissue',\n",
       "       'M13_TRIGGERFINGER-Trigger_finger',\n",
       "       'NAFLD-Nonalcoholic_fatty_liver_disease',\n",
       "       'OTHER_ILD_CVD_COMORB-Other_ILDrelated_CVDcomorbidities',\n",
       "       'OTHER_SYSTCON_FG-Other_systemic_involvement_of_connective_tissue_FG',\n",
       "       'PULMONARYDG-Other_pulmonary_diagnosis',\n",
       "       'PULM_MEDICATIO_COMORB-Medication_related_adverse_effects_AsthmaCOPD',\n",
       "       'VII_EYE_ADNEXA-Diseases_of_the_eye_and_adnexa',\n",
       "       'VI_NERVOUS-Diseases_of_the_nervous_system',\n",
       "       'X_RESPIRATORY-Diseases_of_the_respiratory_system', 'age at voice drop',\n",
       "       'age-related cataract', 'alcoholic liver disease', 'bladder disease',\n",
       "       'deep vein thrombosis', 'endocrine neoplasm', 'eye injury',\n",
       "       'femoral hernia', 'interstitial lung disease',\n",
       "       'lymphatic system disease', 'mental or behavioural disorder',\n",
       "       'mitral valve disease', 'mononeuropathy', 'peritonitis',\n",
       "       'phlebitis AND thrombophlebitis', 'rosacea',\n",
       "       'seasonal allergic rhinitis',\n",
       "       'seasonal allergic rhinitis AND allergic rhinitis', 'sepsis',\n",
       "       'skull fractures', 'thyroid disease', 'venous thromboembolism',\n",
       "       'vertigo'],\n",
       "      dtype='object')"
      ]
     },
     "metadata": {},
     "output_type": "display_data"
    },
    {
     "data": {
      "text/html": [
       "<h3>Cluster 45.36</h3>"
      ],
      "text/plain": [
       "<IPython.core.display.HTML object>"
      ]
     },
     "metadata": {},
     "output_type": "display_data"
    },
    {
     "data": {
      "text/plain": [
       "25"
      ]
     },
     "metadata": {},
     "output_type": "display_data"
    },
    {
     "data": {
      "text/plain": [
       "Index(['1448_4-Bread_type_Other_type_of_bread',\n",
       "       '20003_1140869848-Treatmentmedication_code_methotrexate',\n",
       "       '20003_1140883066-Treatmentmedication_code_insulin_product',\n",
       "       '20003_1140884516-Treatmentmedication_code_thyroxine_product',\n",
       "       '20003_1141179992-Treatmentmedication_code_dovobet_ointment',\n",
       "       '2976_raw-Age_diabetes_diagnosed',\n",
       "       '2986-Started_insulin_within_one_year_diagnosis_of_diabetes',\n",
       "       '6144_3-Never_eat_eggs_dairy_wheat_sugar_Wheat_products',\n",
       "       '6153_3-Medication_for_cholesterol_blood_pressure_diabetes_or_take_exogenous_hormones_Insulin',\n",
       "       '6177_3-Medication_for_cholesterol_blood_pressure_or_diabetes_Insulin',\n",
       "       'DM_KETOACIDOSIS-Diabetic_ketoacidosis', 'E4_DM1-Type_1_diabetes',\n",
       "       'E4_DM1KETO-Type_1_diabetes_with_ketoacidosis',\n",
       "       'K11_OTHDIG-Other_diseases_of_the_digestive_system',\n",
       "       'M13_POLYARTHROPATHIES-Polyarthropathies',\n",
       "       'M13_RHEUMA-Rheumatoid_arthritis',\n",
       "       'RHEUMA_NOS-Otherunspecified_rheumatoid_arthritis',\n",
       "       'RHEUMA_SEROPOS-Seropositive_rheumatoid_arthritis',\n",
       "       'RHEUMA_SEROPOS_OTH-Otherunspecified_seropositiverheumatoid_arthritis',\n",
       "       'STILL_ADULT-Adultonset_Still_disease', 'ankylosing spondylitis',\n",
       "       'hematuria', 'hyperthyroidism AND thyrotoxicosis',\n",
       "       'psoriatic arthritis', 'type i diabetes mellitus'],\n",
       "      dtype='object')"
      ]
     },
     "metadata": {},
     "output_type": "display_data"
    },
    {
     "data": {
      "text/html": [
       "<h3>Cluster 45.37</h3>"
      ],
      "text/plain": [
       "<IPython.core.display.HTML object>"
      ]
     },
     "metadata": {},
     "output_type": "display_data"
    },
    {
     "data": {
      "text/plain": [
       "1"
      ]
     },
     "metadata": {},
     "output_type": "display_data"
    },
    {
     "data": {
      "text/plain": [
       "Index(['20153_raw-Forced_expiratory_volume_in_1second_FEV1_predicted'], dtype='object')"
      ]
     },
     "metadata": {},
     "output_type": "display_data"
    },
    {
     "data": {
      "text/html": [
       "<h3>Cluster 45.38</h3>"
      ],
      "text/plain": [
       "<IPython.core.display.HTML object>"
      ]
     },
     "metadata": {},
     "output_type": "display_data"
    },
    {
     "data": {
      "text/plain": [
       "117"
      ]
     },
     "metadata": {},
     "output_type": "display_data"
    },
    {
     "data": {
      "text/plain": [
       "Index(['20074_raw-Home_location_at_assessment_east_coordinate_rounded',\n",
       "       '20075_raw-Home_location_at_assessment_north_coordinate_rounded',\n",
       "       '20118_11-Home_area_population_density_urban_or_rural_Scotland_Large_Urban_Area',\n",
       "       '22704_raw-Home_location_north_coordinate_rounded',\n",
       "       '30220_raw-Basophill_percentage', 'abdominal injury',\n",
       "       'abnormal delivery', 'alcohol dependence', 'appendicitis', 'arthritis',\n",
       "       ...\n",
       "       'tongue neoplasm', 'transient ischemic attack', 'tuberculosis',\n",
       "       'type ii diabetes mellitus', 'ulcerative colitis',\n",
       "       'urogenital neoplasm', 'urticaria', 'vascular disease', 'vasculitis',\n",
       "       'wrist fracture'],\n",
       "      dtype='object', length=117)"
      ]
     },
     "metadata": {},
     "output_type": "display_data"
    },
    {
     "data": {
      "text/html": [
       "<h3>Cluster 45.39</h3>"
      ],
      "text/plain": [
       "<IPython.core.display.HTML object>"
      ]
     },
     "metadata": {},
     "output_type": "display_data"
    },
    {
     "data": {
      "text/plain": [
       "32"
      ]
     },
     "metadata": {},
     "output_type": "display_data"
    },
    {
     "data": {
      "text/plain": [
       "Index(['1110-Length_of_mobile_phone_use', '1508_2-Coffee_type_Instant_coffee',\n",
       "       '1508_3-Coffee_type_Ground_coffee_include_espresso_filter_etc',\n",
       "       '1787-Maternal_smoking_around_birth',\n",
       "       '20003_2038460150-Treatmentmedication_code_paracetamol',\n",
       "       '20023_raw-Mean_time_to_correctly_identify_matches',\n",
       "       '20111_100-Illnesses_of_siblings_None_of_the_above_group_1',\n",
       "       '20111_8-Illnesses_of_siblings_High_blood_pressure',\n",
       "       '2070-Frequency_of_tenseness_restlessness_in_last_2_weeks',\n",
       "       '2247_0-Hearing_difficultyproblems_No',\n",
       "       '2492-Taking_other_prescription_medications',\n",
       "       '2764_raw-Age_at_last_live_birth',\n",
       "       '30510_raw-Creatinine_enzymatic_in_urine',\n",
       "       '30520_raw-Potassium_in_urine',\n",
       "       '404_raw-Duration_to_first_press_of_snapbutton_in_each_round',\n",
       "       '6144_4-Never_eat_eggs_dairy_wheat_sugar_Sugar_or_foodsdrinks_containing_sugar',\n",
       "       '6144_5-Never_eat_eggs_dairy_wheat_sugar_I_eat_all_of_the_above',\n",
       "       '6146_100-Attendancedisabilitymobility_allowance_None_of_the_above',\n",
       "       '6154_100-Medication_for_pain_relief_constipation_heartburn_None_of_the_above',\n",
       "       '6154_3-Medication_for_pain_relief_constipation_heartburn_Paracetamol',\n",
       "       '6159_1-Pain_types_experienced_in_last_month_Headache',\n",
       "       '6159_100-Pain_types_experienced_in_last_month_None_of_the_above',\n",
       "       '6159_3-Pain_types_experienced_in_last_month_Neck_or_shoulder_pain',\n",
       "       '6159_6-Pain_types_experienced_in_last_month_Hip_pain',\n",
       "       '6159_7-Pain_types_experienced_in_last_month_Knee_pain',\n",
       "       '680_3-Own_or_rent_accommodation_lived_in_Rent_from_local_authority_local_council_housing_association',\n",
       "       '943-Frequency_of_stair_climbing_in_last_4_weeks', 'chronic disease',\n",
       "       'health satisfaction measurement', 'irritability',\n",
       "       'number of non-cancer illnesses, self-reported', 'self rated health'],\n",
       "      dtype='object')"
      ]
     },
     "metadata": {},
     "output_type": "display_data"
    },
    {
     "data": {
      "text/html": [
       "<h3>Cluster 45.40</h3>"
      ],
      "text/plain": [
       "<IPython.core.display.HTML object>"
      ]
     },
     "metadata": {},
     "output_type": "display_data"
    },
    {
     "data": {
      "text/plain": [
       "3"
      ]
     },
     "metadata": {},
     "output_type": "display_data"
    },
    {
     "data": {
      "text/plain": [
       "Index(['30080_raw-Platelet_count', '30090_raw-Platelet_crit',\n",
       "       'platelet count'],\n",
       "      dtype='object')"
      ]
     },
     "metadata": {},
     "output_type": "display_data"
    },
    {
     "data": {
      "text/html": [
       "<h3>Cluster 45.41</h3>"
      ],
      "text/plain": [
       "<IPython.core.display.HTML object>"
      ]
     },
     "metadata": {},
     "output_type": "display_data"
    },
    {
     "data": {
      "text/plain": [
       "18"
      ]
     },
     "metadata": {},
     "output_type": "display_data"
    },
    {
     "data": {
      "text/plain": [
       "Index(['40001_C349-Underlying_primary_cause_of_death_ICD10_C349_Bronchus_or_lung_unspecified',\n",
       "       '5983_raw-ECG_heart_rate', '5984_raw-ECG_load',\n",
       "       '5986_raw-ECG_phase_time', '5992-ECG_phase_duration',\n",
       "       '5993-ECG_number_of_stages_in_a_phase',\n",
       "       '6020_1-Completion_status_of_test_Fully_completed',\n",
       "       '6020_33-Completion_status_of_test_Heart_rate_reached_safety_level',\n",
       "       '6032_raw-Maximum_workload_during_fitness_test',\n",
       "       '6033_raw-Maximum_heart_rate_during_fitness_test',\n",
       "       '6038_raw-Number_of_trend_entries', '6039-Duration_of_fitness_test',\n",
       "       'C3_RESPIRATORY_INTRATHORACIC-Malignant_neoplasm_of_respiratory_system_and_intrathoracic_organs',\n",
       "       'C_BRONCHUS_LUNG-Malignant_neoplasm_of_bronchus_and_lung',\n",
       "       'C_RESPIRATORY_INTRATHORACIC',\n",
       "       'LUNG_CANCER_MESOT-Lung_cancer_and_mesothelioma',\n",
       "       'ability to walk or cycle unaided for 10 minutes, self-reported',\n",
       "       'achievement of target heart rate, self-reported'],\n",
       "      dtype='object')"
      ]
     },
     "metadata": {},
     "output_type": "display_data"
    },
    {
     "data": {
      "text/html": [
       "<h3>Cluster 45.42</h3>"
      ],
      "text/plain": [
       "<IPython.core.display.HTML object>"
      ]
     },
     "metadata": {},
     "output_type": "display_data"
    },
    {
     "data": {
      "text/plain": [
       "20"
      ]
     },
     "metadata": {},
     "output_type": "display_data"
    },
    {
     "data": {
      "text/plain": [
       "Index(['189_raw-Townsend_deprivation_index_at_recruitment',\n",
       "       '24003_raw-Nitrogen_dioxide_air_pollution_2010',\n",
       "       '24004_raw-Nitrogen_oxides_air_pollution_2010',\n",
       "       '24005_raw-Particulate_matter_air_pollution_pm10_2010',\n",
       "       '24006_raw-Particulate_matter_air_pollution_pm25_2010',\n",
       "       '24007_raw-Particulate_matter_air_pollution_pm25_absorbance_2010',\n",
       "       '24009-Traffic_intensity_on_the_nearest_road',\n",
       "       '24012_raw-Inverse_distance_to_the_nearest_major_road',\n",
       "       '24013-Total_traffic_load_on_major_roads', '24014-Close_to_major_road',\n",
       "       '24015-Sum_of_road_length_of_major_roads_within_100m',\n",
       "       '24016_raw-Nitrogen_dioxide_air_pollution_2005',\n",
       "       '24017_raw-Nitrogen_dioxide_air_pollution_2006',\n",
       "       '24018_raw-Nitrogen_dioxide_air_pollution_2007',\n",
       "       '24019_raw-Particulate_matter_air_pollution_pm10_2007',\n",
       "       '24020_raw-Average_daytime_sound_level_of_noise_pollution',\n",
       "       '24021_raw-Average_evening_sound_level_of_noise_pollution',\n",
       "       '24022_raw-Average_nighttime_sound_level_of_noise_pollution',\n",
       "       '24023_raw-Average_16hour_sound_level_of_noise_pollution',\n",
       "       '24024_raw-Average_24hour_sound_level_of_noise_pollution'],\n",
       "      dtype='object')"
      ]
     },
     "metadata": {},
     "output_type": "display_data"
    },
    {
     "data": {
      "text/html": [
       "<h3>Cluster 45.43</h3>"
      ],
      "text/plain": [
       "<IPython.core.display.HTML object>"
      ]
     },
     "metadata": {},
     "output_type": "display_data"
    },
    {
     "data": {
      "text/plain": [
       "8"
      ]
     },
     "metadata": {},
     "output_type": "display_data"
    },
    {
     "data": {
      "text/plain": [
       "Index(['20127_raw-Neuroticism_score', 'anxiety', 'feeling tense measurement',\n",
       "       'mood swings', 'nervousness',\n",
       "       'seeing a general practitioner for nerves, anxiety, tension or depression, self-reported',\n",
       "       'tiredness measurement', 'worry measurement'],\n",
       "      dtype='object')"
      ]
     },
     "metadata": {},
     "output_type": "display_data"
    },
    {
     "data": {
      "text/html": [
       "<h3>Cluster 45.44</h3>"
      ],
      "text/plain": [
       "<IPython.core.display.HTML object>"
      ]
     },
     "metadata": {},
     "output_type": "display_data"
    },
    {
     "data": {
      "text/plain": [
       "1"
      ]
     },
     "metadata": {},
     "output_type": "display_data"
    },
    {
     "data": {
      "text/plain": [
       "Index(['30070_raw-Red_blood_cell_erythrocyte_distribution_width'], dtype='object')"
      ]
     },
     "metadata": {},
     "output_type": "display_data"
    }
   ],
   "source": [
    "for k in selected_k_values:\n",
    "    display(HTML(f\"<h2>Partition with k={k}</h2>\"))\n",
    "    display(best_partitions.loc[k])\n",
    "\n",
    "    part = best_partitions.loc[k, \"partition\"]\n",
    "    display(part.shape)\n",
    "\n",
    "    part_stats = pd.Series(part).value_counts()\n",
    "    display(part_stats)\n",
    "\n",
    "    for cluster_number in part_stats.index.sort_values():\n",
    "        display(HTML(f\"<h3>Cluster {k}.{cluster_number}</h3>\"))\n",
    "\n",
    "        cluster_traits = data_umap[part == cluster_number].index\n",
    "        display(len(cluster_traits))\n",
    "        display(cluster_traits)"
   ]
  },
  {
   "cell_type": "code",
   "execution_count": null,
   "metadata": {
    "papermill": {
     "duration": 0.443763,
     "end_time": "2021-02-24T04:03:33.882681",
     "exception": false,
     "start_time": "2021-02-24T04:03:33.438918",
     "status": "completed"
    },
    "tags": []
   },
   "outputs": [],
   "source": []
  }
 ],
 "metadata": {
  "jupytext": {
   "cell_metadata_filter": "all,-execution,-papermill,-trusted",
   "formats": "ipynb,py//py:percent"
  },
  "kernelspec": {
   "display_name": "Python 3",
   "language": "python",
   "name": "python3"
  },
  "language_info": {
   "codemirror_mode": {
    "name": "ipython",
    "version": 3
   },
   "file_extension": ".py",
   "mimetype": "text/x-python",
   "name": "python",
   "nbconvert_exporter": "python",
   "pygments_lexer": "ipython3",
   "version": "3.8.6"
  },
  "papermill": {
   "default_parameters": {},
   "duration": 4.817465,
   "end_time": "2021-02-24T04:03:34.630578",
   "environment_variables": {},
   "exception": null,
   "input_path": "16_consensus_clustering/030_02-analysis-clusters.ipynb",
   "output_path": "16_consensus_clustering/030_02-analysis-clusters.run.ipynb",
   "parameters": {},
   "start_time": "2021-02-24T04:03:29.813113",
   "version": "2.2.2"
  },
  "toc-autonumbering": true,
  "toc-showcode": false,
  "toc-showmarkdowntxt": false,
  "toc-showtags": false
 },
 "nbformat": 4,
 "nbformat_minor": 4
}
