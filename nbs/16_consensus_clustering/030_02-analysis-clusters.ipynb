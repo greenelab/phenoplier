{
 "cells": [
  {
   "cell_type": "markdown",
   "metadata": {},
   "source": [
    "# Description"
   ]
  },
  {
   "cell_type": "markdown",
   "metadata": {},
   "source": [
    "The goal of this notebook is very simple: it just lists the content (traits/diseases) that belong to each cluster across all selected \"best partitions\". Although one would take a look at them here to check whether clusters of traits make sense, that analysis is carried out first by looking at the clustering trees (which are generated later). Then, this notebooks serves as a simple list with the content of the clusters."
   ]
  },
  {
   "cell_type": "markdown",
   "metadata": {},
   "source": [
    "# Modules loading"
   ]
  },
  {
   "cell_type": "code",
   "execution_count": 1,
   "metadata": {},
   "outputs": [],
   "source": [
    "%load_ext autoreload\n",
    "%autoreload 2"
   ]
  },
  {
   "cell_type": "code",
   "execution_count": 2,
   "metadata": {},
   "outputs": [],
   "source": [
    "from IPython.display import display\n",
    "from pathlib import Path\n",
    "\n",
    "import pandas as pd\n",
    "\n",
    "from utils import generate_result_set_name\n",
    "import conf"
   ]
  },
  {
   "cell_type": "markdown",
   "metadata": {},
   "source": [
    "# Settings"
   ]
  },
  {
   "cell_type": "code",
   "execution_count": 3,
   "metadata": {},
   "outputs": [
    {
     "data": {
      "text/plain": [
       "PosixPath('/home/miltondp/projects/labs/greenelab/phenoplier/base/results/clustering/consensus_clustering')"
      ]
     },
     "metadata": {},
     "output_type": "display_data"
    }
   ],
   "source": [
    "CONSENSUS_CLUSTERING_DIR = Path(\n",
    "    conf.RESULTS[\"CLUSTERING_DIR\"], \"consensus_clustering\"\n",
    ").resolve()\n",
    "\n",
    "display(CONSENSUS_CLUSTERING_DIR)"
   ]
  },
  {
   "cell_type": "markdown",
   "metadata": {},
   "source": [
    "## Load data"
   ]
  },
  {
   "cell_type": "code",
   "execution_count": 4,
   "metadata": {
    "papermill": {
     "duration": 0.032183,
     "end_time": "2020-12-02T16:52:25.869240",
     "exception": false,
     "start_time": "2020-12-02T16:52:25.837057",
     "status": "completed"
    },
    "tags": []
   },
   "outputs": [],
   "source": [
    "INPUT_SUBSET = \"umap\""
   ]
  },
  {
   "cell_type": "code",
   "execution_count": 5,
   "metadata": {
    "papermill": {
     "duration": 0.032292,
     "end_time": "2020-12-02T16:52:25.920249",
     "exception": false,
     "start_time": "2020-12-02T16:52:25.887957",
     "status": "completed"
    },
    "tags": []
   },
   "outputs": [],
   "source": [
    "INPUT_STEM = \"z_score_std-projection-smultixcan-efo_partial-mashr-zscores\""
   ]
  },
  {
   "cell_type": "code",
   "execution_count": 6,
   "metadata": {
    "papermill": {
     "duration": 0.03286,
     "end_time": "2020-12-02T16:52:25.972536",
     "exception": false,
     "start_time": "2020-12-02T16:52:25.939676",
     "status": "completed"
    },
    "tags": []
   },
   "outputs": [],
   "source": [
    "DR_OPTIONS = {\n",
    "    \"n_components\": 5,\n",
    "    \"metric\": \"euclidean\",\n",
    "    \"n_neighbors\": 15,\n",
    "    \"random_state\": 0,\n",
    "}"
   ]
  },
  {
   "cell_type": "code",
   "execution_count": 7,
   "metadata": {
    "papermill": {
     "duration": 0.03511,
     "end_time": "2020-12-02T16:52:26.027199",
     "exception": false,
     "start_time": "2020-12-02T16:52:25.992089",
     "status": "completed"
    },
    "tags": []
   },
   "outputs": [
    {
     "data": {
      "text/plain": [
       "PosixPath('/home/miltondp/projects/labs/greenelab/phenoplier/base/results/data_transformations/umap/umap-z_score_std-projection-smultixcan-efo_partial-mashr-zscores-metric_euclidean-n_components_5-n_neighbors_15-random_state_0.pkl')"
      ]
     },
     "metadata": {},
     "output_type": "display_data"
    },
    {
     "data": {
      "text/plain": [
       "'umap-z_score_std-projection-smultixcan-efo_partial-mashr-zscores-metric_euclidean-n_components_5-n_neighbors_15-random_state_0'"
      ]
     },
     "metadata": {},
     "output_type": "display_data"
    }
   ],
   "source": [
    "input_filepath = Path(\n",
    "    conf.RESULTS[\"DATA_TRANSFORMATIONS_DIR\"],\n",
    "    INPUT_SUBSET,\n",
    "    generate_result_set_name(\n",
    "        DR_OPTIONS, prefix=f\"{INPUT_SUBSET}-{INPUT_STEM}-\", suffix=\".pkl\"\n",
    "    ),\n",
    ").resolve()\n",
    "display(input_filepath)\n",
    "\n",
    "assert input_filepath.exists(), \"Input file does not exist\"\n",
    "\n",
    "input_filepath_stem = input_filepath.stem\n",
    "display(input_filepath_stem)"
   ]
  },
  {
   "cell_type": "code",
   "execution_count": 8,
   "metadata": {},
   "outputs": [],
   "source": [
    "data_umap = pd.read_pickle(input_filepath)"
   ]
  },
  {
   "cell_type": "code",
   "execution_count": 9,
   "metadata": {},
   "outputs": [
    {
     "data": {
      "text/plain": [
       "(3749, 5)"
      ]
     },
     "execution_count": 9,
     "metadata": {},
     "output_type": "execute_result"
    }
   ],
   "source": [
    "data_umap.shape"
   ]
  },
  {
   "cell_type": "code",
   "execution_count": 10,
   "metadata": {},
   "outputs": [
    {
     "data": {
      "text/html": [
       "<div>\n",
       "<style scoped>\n",
       "    .dataframe tbody tr th:only-of-type {\n",
       "        vertical-align: middle;\n",
       "    }\n",
       "\n",
       "    .dataframe tbody tr th {\n",
       "        vertical-align: top;\n",
       "    }\n",
       "\n",
       "    .dataframe thead th {\n",
       "        text-align: right;\n",
       "    }\n",
       "</style>\n",
       "<table border=\"1\" class=\"dataframe\">\n",
       "  <thead>\n",
       "    <tr style=\"text-align: right;\">\n",
       "      <th></th>\n",
       "      <th>UMAP1</th>\n",
       "      <th>UMAP2</th>\n",
       "      <th>UMAP3</th>\n",
       "      <th>UMAP4</th>\n",
       "      <th>UMAP5</th>\n",
       "    </tr>\n",
       "  </thead>\n",
       "  <tbody>\n",
       "    <tr>\n",
       "      <th>100001_raw-Food_weight</th>\n",
       "      <td>-8.437452</td>\n",
       "      <td>1.664409</td>\n",
       "      <td>9.233617</td>\n",
       "      <td>6.944210</td>\n",
       "      <td>16.781176</td>\n",
       "    </tr>\n",
       "    <tr>\n",
       "      <th>100002_raw-Energy</th>\n",
       "      <td>-8.388347</td>\n",
       "      <td>1.670845</td>\n",
       "      <td>9.251021</td>\n",
       "      <td>6.975690</td>\n",
       "      <td>16.698511</td>\n",
       "    </tr>\n",
       "    <tr>\n",
       "      <th>100003_raw-Protein</th>\n",
       "      <td>-8.424020</td>\n",
       "      <td>1.696144</td>\n",
       "      <td>9.226449</td>\n",
       "      <td>6.970763</td>\n",
       "      <td>16.768959</td>\n",
       "    </tr>\n",
       "    <tr>\n",
       "      <th>100004_raw-Fat</th>\n",
       "      <td>-8.393674</td>\n",
       "      <td>1.685311</td>\n",
       "      <td>9.258855</td>\n",
       "      <td>6.992673</td>\n",
       "      <td>16.728815</td>\n",
       "    </tr>\n",
       "    <tr>\n",
       "      <th>100005_raw-Carbohydrate</th>\n",
       "      <td>-8.427763</td>\n",
       "      <td>1.685172</td>\n",
       "      <td>9.234971</td>\n",
       "      <td>6.967204</td>\n",
       "      <td>16.751522</td>\n",
       "    </tr>\n",
       "  </tbody>\n",
       "</table>\n",
       "</div>"
      ],
      "text/plain": [
       "                            UMAP1     UMAP2     UMAP3     UMAP4      UMAP5\n",
       "100001_raw-Food_weight  -8.437452  1.664409  9.233617  6.944210  16.781176\n",
       "100002_raw-Energy       -8.388347  1.670845  9.251021  6.975690  16.698511\n",
       "100003_raw-Protein      -8.424020  1.696144  9.226449  6.970763  16.768959\n",
       "100004_raw-Fat          -8.393674  1.685311  9.258855  6.992673  16.728815\n",
       "100005_raw-Carbohydrate -8.427763  1.685172  9.234971  6.967204  16.751522"
      ]
     },
     "execution_count": 10,
     "metadata": {},
     "output_type": "execute_result"
    }
   ],
   "source": [
    "data_umap.head()"
   ]
  },
  {
   "cell_type": "markdown",
   "metadata": {},
   "source": [
    "# Load best partitions"
   ]
  },
  {
   "cell_type": "code",
   "execution_count": 11,
   "metadata": {},
   "outputs": [
    {
     "data": {
      "text/plain": [
       "PosixPath('/home/miltondp/projects/labs/greenelab/phenoplier/base/results/clustering/consensus_clustering/best_partitions_by_k.pkl')"
      ]
     },
     "metadata": {},
     "output_type": "display_data"
    }
   ],
   "source": [
    "input_file = Path(CONSENSUS_CLUSTERING_DIR, \"best_partitions_by_k.pkl\").resolve()\n",
    "display(input_file)"
   ]
  },
  {
   "cell_type": "code",
   "execution_count": 12,
   "metadata": {},
   "outputs": [],
   "source": [
    "best_partitions = pd.read_pickle(input_file)"
   ]
  },
  {
   "cell_type": "code",
   "execution_count": 13,
   "metadata": {},
   "outputs": [
    {
     "data": {
      "text/plain": [
       "(39, 4)"
      ]
     },
     "execution_count": 13,
     "metadata": {},
     "output_type": "execute_result"
    }
   ],
   "source": [
    "best_partitions.shape"
   ]
  },
  {
   "cell_type": "code",
   "execution_count": 14,
   "metadata": {},
   "outputs": [
    {
     "data": {
      "text/html": [
       "<div>\n",
       "<style scoped>\n",
       "    .dataframe tbody tr th:only-of-type {\n",
       "        vertical-align: middle;\n",
       "    }\n",
       "\n",
       "    .dataframe tbody tr th {\n",
       "        vertical-align: top;\n",
       "    }\n",
       "\n",
       "    .dataframe thead th {\n",
       "        text-align: right;\n",
       "    }\n",
       "</style>\n",
       "<table border=\"1\" class=\"dataframe\">\n",
       "  <thead>\n",
       "    <tr style=\"text-align: right;\">\n",
       "      <th></th>\n",
       "      <th>method</th>\n",
       "      <th>partition</th>\n",
       "      <th>ami_mean</th>\n",
       "      <th>selected</th>\n",
       "    </tr>\n",
       "    <tr>\n",
       "      <th>k</th>\n",
       "      <th></th>\n",
       "      <th></th>\n",
       "      <th></th>\n",
       "      <th></th>\n",
       "    </tr>\n",
       "  </thead>\n",
       "  <tbody>\n",
       "    <tr>\n",
       "      <th>11</th>\n",
       "      <td>scc_020</td>\n",
       "      <td>[0, 0, 0, 0, 0, 0, 0, 0, 0, 0, 0, 0, 0, 0, 0, ...</td>\n",
       "      <td>0.301837</td>\n",
       "      <td>True</td>\n",
       "    </tr>\n",
       "    <tr>\n",
       "      <th>10</th>\n",
       "      <td>scc_020</td>\n",
       "      <td>[0, 0, 0, 0, 0, 0, 0, 0, 0, 0, 0, 0, 0, 0, 0, ...</td>\n",
       "      <td>0.301736</td>\n",
       "      <td>True</td>\n",
       "    </tr>\n",
       "    <tr>\n",
       "      <th>9</th>\n",
       "      <td>scc_020</td>\n",
       "      <td>[0, 0, 0, 0, 0, 0, 0, 0, 0, 0, 0, 0, 0, 0, 0, ...</td>\n",
       "      <td>0.301299</td>\n",
       "      <td>True</td>\n",
       "    </tr>\n",
       "    <tr>\n",
       "      <th>8</th>\n",
       "      <td>scc_020</td>\n",
       "      <td>[0, 0, 0, 0, 0, 0, 0, 0, 0, 0, 0, 0, 0, 0, 0, ...</td>\n",
       "      <td>0.300169</td>\n",
       "      <td>True</td>\n",
       "    </tr>\n",
       "    <tr>\n",
       "      <th>7</th>\n",
       "      <td>scc_020</td>\n",
       "      <td>[0, 0, 0, 0, 0, 0, 0, 0, 0, 0, 0, 0, 0, 0, 0, ...</td>\n",
       "      <td>0.299448</td>\n",
       "      <td>True</td>\n",
       "    </tr>\n",
       "  </tbody>\n",
       "</table>\n",
       "</div>"
      ],
      "text/plain": [
       "     method                                          partition  ami_mean  \\\n",
       "k                                                                          \n",
       "11  scc_020  [0, 0, 0, 0, 0, 0, 0, 0, 0, 0, 0, 0, 0, 0, 0, ...  0.301837   \n",
       "10  scc_020  [0, 0, 0, 0, 0, 0, 0, 0, 0, 0, 0, 0, 0, 0, 0, ...  0.301736   \n",
       "9   scc_020  [0, 0, 0, 0, 0, 0, 0, 0, 0, 0, 0, 0, 0, 0, 0, ...  0.301299   \n",
       "8   scc_020  [0, 0, 0, 0, 0, 0, 0, 0, 0, 0, 0, 0, 0, 0, 0, ...  0.300169   \n",
       "7   scc_020  [0, 0, 0, 0, 0, 0, 0, 0, 0, 0, 0, 0, 0, 0, 0, ...  0.299448   \n",
       "\n",
       "    selected  \n",
       "k             \n",
       "11      True  \n",
       "10      True  \n",
       "9       True  \n",
       "8       True  \n",
       "7       True  "
      ]
     },
     "execution_count": 14,
     "metadata": {},
     "output_type": "execute_result"
    }
   ],
   "source": [
    "best_partitions.head()"
   ]
  },
  {
   "cell_type": "markdown",
   "metadata": {},
   "source": [
    "# Analysis of clusterings"
   ]
  },
  {
   "cell_type": "code",
   "execution_count": 15,
   "metadata": {},
   "outputs": [],
   "source": [
    "from IPython.display import HTML"
   ]
  },
  {
   "cell_type": "code",
   "execution_count": 16,
   "metadata": {},
   "outputs": [],
   "source": [
    "def show_cluster_stats(clustering_data, selected_partition, selected_cluster):\n",
    "    traits = [t for t in clustering_data[selected_partition == selected_cluster].index]\n",
    "    display(len(traits))\n",
    "    display(traits)"
   ]
  },
  {
   "cell_type": "code",
   "execution_count": 17,
   "metadata": {},
   "outputs": [
    {
     "data": {
      "text/plain": [
       "[4, 5, 6, 7, 8, 9, 10, 11, 13, 14, 19, 21, 22, 23, 24, 26, 27, 31, 36]"
      ]
     },
     "metadata": {},
     "output_type": "display_data"
    }
   ],
   "source": [
    "selected_k_values = best_partitions[best_partitions[\"selected\"]].index.tolist()\n",
    "selected_k_values.sort()\n",
    "display(selected_k_values)"
   ]
  },
  {
   "cell_type": "code",
   "execution_count": 18,
   "metadata": {},
   "outputs": [
    {
     "data": {
      "text/html": [
       "<h2>Partition with k=4</h2>"
      ],
      "text/plain": [
       "<IPython.core.display.HTML object>"
      ]
     },
     "metadata": {},
     "output_type": "display_data"
    },
    {
     "data": {
      "text/plain": [
       "method                              eac_average_coassoc_matrix\n",
       "partition    [2, 2, 2, 2, 2, 2, 2, 2, 2, 2, 2, 2, 2, 2, 2, ...\n",
       "ami_mean                                               0.29643\n",
       "selected                                                  True\n",
       "Name: 4, dtype: object"
      ]
     },
     "metadata": {},
     "output_type": "display_data"
    },
    {
     "data": {
      "text/plain": [
       "(3749,)"
      ]
     },
     "metadata": {},
     "output_type": "display_data"
    },
    {
     "data": {
      "text/plain": [
       "2    3641\n",
       "1      47\n",
       "3      41\n",
       "0      20\n",
       "dtype: int64"
      ]
     },
     "metadata": {},
     "output_type": "display_data"
    },
    {
     "data": {
      "text/html": [
       "<h3>Cluster 4.0</h3>"
      ],
      "text/plain": [
       "<IPython.core.display.HTML object>"
      ]
     },
     "metadata": {},
     "output_type": "display_data"
    },
    {
     "data": {
      "text/plain": [
       "20"
      ]
     },
     "metadata": {},
     "output_type": "display_data"
    },
    {
     "data": {
      "text/plain": [
       "Index(['3144_raw-Heel_Broadband_ultrasound_attenuation_direct_entry',\n",
       "       '3147_raw-Heel_quantitative_ultrasound_index_QUI_direct_entry',\n",
       "       '3148_raw-Heel_bone_mineral_density_BMD',\n",
       "       '4101_raw-Heel_broadband_ultrasound_attenuation_left',\n",
       "       '4104_raw-Heel_quantitative_ultrasound_index_QUI_direct_entry_left',\n",
       "       '4105_raw-Heel_bone_mineral_density_BMD_left',\n",
       "       '4106_raw-Heel_bone_mineral_density_BMD_Tscore_automated_left',\n",
       "       '4120_raw-Heel_broadband_ultrasound_attenuation_right',\n",
       "       '4123_raw-Heel_quantitative_ultrasound_index_QUI_direct_entry_right',\n",
       "       '4124_raw-Heel_bone_mineral_density_BMD_right',\n",
       "       '4125_raw-Heel_bone_mineral_density_BMD_Tscore_automated_right',\n",
       "       '5096_raw-3mm_weak_meridian_left', '5097_raw-6mm_weak_meridian_left',\n",
       "       '5098_raw-6mm_weak_meridian_right', '5099_raw-3mm_weak_meridian_right',\n",
       "       '5132_raw-3mm_strong_meridian_right',\n",
       "       '5133_raw-6mm_strong_meridian_right',\n",
       "       '5134_raw-6mm_strong_meridian_left',\n",
       "       '5135_raw-3mm_strong_meridian_left',\n",
       "       '78_raw-Heel_bone_mineral_density_BMD_Tscore_automated'],\n",
       "      dtype='object')"
      ]
     },
     "metadata": {},
     "output_type": "display_data"
    },
    {
     "data": {
      "text/html": [
       "<h3>Cluster 4.1</h3>"
      ],
      "text/plain": [
       "<IPython.core.display.HTML object>"
      ]
     },
     "metadata": {},
     "output_type": "display_data"
    },
    {
     "data": {
      "text/plain": [
       "47"
      ]
     },
     "metadata": {},
     "output_type": "display_data"
    },
    {
     "data": {
      "text/plain": [
       "Index(['102_raw-Pulse_rate_automated_reading',\n",
       "       '20150_raw-Forced_expiratory_volume_in_1second_FEV1_Best_measure',\n",
       "       '20151_raw-Forced_vital_capacity_FVC_Best_measure',\n",
       "       '2395_1-Hairbalding_pattern_Pattern_1',\n",
       "       '30000_raw-White_blood_cell_leukocyte_count',\n",
       "       '30010_raw-Red_blood_cell_erythrocyte_count',\n",
       "       '30020_raw-Haemoglobin_concentration',\n",
       "       '30030_raw-Haematocrit_percentage', '30040_raw-Mean_corpuscular_volume',\n",
       "       '30050_raw-Mean_corpuscular_haemoglobin',\n",
       "       '30070_raw-Red_blood_cell_erythrocyte_distribution_width',\n",
       "       '30080_raw-Platelet_count', '30090_raw-Platelet_crit',\n",
       "       '30100_raw-Mean_platelet_thrombocyte_volume',\n",
       "       '30110_raw-Platelet_distribution_width', '30130_raw-Monocyte_count',\n",
       "       '30140_raw-Neutrophill_count', '30150-Eosinophill_count',\n",
       "       '30180_raw-Lymphocyte_percentage', '30190_raw-Monocyte_percentage',\n",
       "       '30200_raw-Neutrophill_percentage', '30210_raw-Eosinophill_percentage',\n",
       "       '30240_raw-Reticulocyte_percentage', '30250_raw-Reticulocyte_count',\n",
       "       '30260_raw-Mean_reticulocyte_volume',\n",
       "       '30270_raw-Mean_sphered_cell_volume',\n",
       "       '30280_raw-Immature_reticulocyte_fraction',\n",
       "       '30290_raw-High_light_scatter_reticulocyte_percentage',\n",
       "       '30300_raw-High_light_scatter_reticulocyte_count',\n",
       "       '3062_raw-Forced_vital_capacity_FVC',\n",
       "       '3063_raw-Forced_expiratory_volume_in_1second_FEV1',\n",
       "       '3064_raw-Peak_expiratory_flow_PEF',\n",
       "       '4100_raw-Ankle_spacing_width_left',\n",
       "       '4119_raw-Ankle_spacing_width_right', '46_raw-Hand_grip_strength_left',\n",
       "       '47_raw-Hand_grip_strength_right', 'eosinophil count',\n",
       "       'erythrocyte count', 'granulocyte count', 'inflammatory bowel disease',\n",
       "       'leukocyte count', 'lymphocyte count', 'monocyte count',\n",
       "       'myeloid white cell count', 'neutrophil count', 'platelet count',\n",
       "       'reticulocyte count'],\n",
       "      dtype='object')"
      ]
     },
     "metadata": {},
     "output_type": "display_data"
    },
    {
     "data": {
      "text/html": [
       "<h3>Cluster 4.2</h3>"
      ],
      "text/plain": [
       "<IPython.core.display.HTML object>"
      ]
     },
     "metadata": {},
     "output_type": "display_data"
    },
    {
     "data": {
      "text/plain": [
       "3641"
      ]
     },
     "metadata": {},
     "output_type": "display_data"
    },
    {
     "data": {
      "text/plain": [
       "Index(['100001_raw-Food_weight', '100002_raw-Energy', '100003_raw-Protein',\n",
       "       '100004_raw-Fat', '100005_raw-Carbohydrate', '100006_raw-Saturated_fat',\n",
       "       '100007_raw-Polyunsaturated_fat', '100008_raw-Total_sugars',\n",
       "       '100009_raw-Englyst_dietary_fibre', '100010-Portion_size',\n",
       "       ...\n",
       "       'visual impairment', 'vitiligo', 'vitreous body disease',\n",
       "       'vocal cord polyp', 'voice disorders',\n",
       "       'wellbeing measurement AND family relationship', 'wheezing',\n",
       "       'whooping cough', 'worry measurement', 'wrist fracture'],\n",
       "      dtype='object', length=3641)"
      ]
     },
     "metadata": {},
     "output_type": "display_data"
    },
    {
     "data": {
      "text/html": [
       "<h3>Cluster 4.3</h3>"
      ],
      "text/plain": [
       "<IPython.core.display.HTML object>"
      ]
     },
     "metadata": {},
     "output_type": "display_data"
    },
    {
     "data": {
      "text/plain": [
       "41"
      ]
     },
     "metadata": {},
     "output_type": "display_data"
    },
    {
     "data": {
      "text/plain": [
       "Index(['20015_raw-Sitting_height',\n",
       "       '20153_raw-Forced_expiratory_volume_in_1second_FEV1_predicted',\n",
       "       '21001_raw-Body_mass_index_BMI', '21002_raw-Weight', '23098_raw-Weight',\n",
       "       '23099_raw-Body_fat_percentage', '23100_raw-Whole_body_fat_mass',\n",
       "       '23101_raw-Whole_body_fatfree_mass', '23102_raw-Whole_body_water_mass',\n",
       "       '23104_raw-Body_mass_index_BMI', '23105_raw-Basal_metabolic_rate',\n",
       "       '23106_raw-Impedance_of_whole_body', '23107_raw-Impedance_of_leg_right',\n",
       "       '23108_raw-Impedance_of_leg_left', '23109_raw-Impedance_of_arm_right',\n",
       "       '23110_raw-Impedance_of_arm_left', '23111_raw-Leg_fat_percentage_right',\n",
       "       '23112_raw-Leg_fat_mass_right', '23113_raw-Leg_fatfree_mass_right',\n",
       "       '23114_raw-Leg_predicted_mass_right',\n",
       "       '23115_raw-Leg_fat_percentage_left', '23116_raw-Leg_fat_mass_left',\n",
       "       '23117_raw-Leg_fatfree_mass_left', '23118_raw-Leg_predicted_mass_left',\n",
       "       '23119_raw-Arm_fat_percentage_right', '23120_raw-Arm_fat_mass_right',\n",
       "       '23121_raw-Arm_fatfree_mass_right',\n",
       "       '23122_raw-Arm_predicted_mass_right',\n",
       "       '23123_raw-Arm_fat_percentage_left', '23124_raw-Arm_fat_mass_left',\n",
       "       '23125_raw-Arm_fatfree_mass_left', '23126_raw-Arm_predicted_mass_left',\n",
       "       '23127_raw-Trunk_fat_percentage', '23128_raw-Trunk_fat_mass',\n",
       "       '23129_raw-Trunk_fatfree_mass', '23130_raw-Trunk_predicted_mass',\n",
       "       '3143_raw-Ankle_spacing_width', '48_raw-Waist_circumference',\n",
       "       '49_raw-Hip_circumference', '50_raw-Standing_height', 'body height'],\n",
       "      dtype='object')"
      ]
     },
     "metadata": {},
     "output_type": "display_data"
    },
    {
     "data": {
      "text/html": [
       "<h2>Partition with k=5</h2>"
      ],
      "text/plain": [
       "<IPython.core.display.HTML object>"
      ]
     },
     "metadata": {},
     "output_type": "display_data"
    },
    {
     "data": {
      "text/plain": [
       "method                              eac_average_coassoc_matrix\n",
       "partition    [0, 0, 0, 0, 0, 0, 0, 0, 0, 0, 0, 0, 0, 0, 0, ...\n",
       "ami_mean                                              0.298287\n",
       "selected                                                  True\n",
       "Name: 5, dtype: object"
      ]
     },
     "metadata": {},
     "output_type": "display_data"
    },
    {
     "data": {
      "text/plain": [
       "(3749,)"
      ]
     },
     "metadata": {},
     "output_type": "display_data"
    },
    {
     "data": {
      "text/plain": [
       "0    3641\n",
       "1      47\n",
       "3      41\n",
       "2      12\n",
       "4       8\n",
       "dtype: int64"
      ]
     },
     "metadata": {},
     "output_type": "display_data"
    },
    {
     "data": {
      "text/html": [
       "<h3>Cluster 5.0</h3>"
      ],
      "text/plain": [
       "<IPython.core.display.HTML object>"
      ]
     },
     "metadata": {},
     "output_type": "display_data"
    },
    {
     "data": {
      "text/plain": [
       "3641"
      ]
     },
     "metadata": {},
     "output_type": "display_data"
    },
    {
     "data": {
      "text/plain": [
       "Index(['100001_raw-Food_weight', '100002_raw-Energy', '100003_raw-Protein',\n",
       "       '100004_raw-Fat', '100005_raw-Carbohydrate', '100006_raw-Saturated_fat',\n",
       "       '100007_raw-Polyunsaturated_fat', '100008_raw-Total_sugars',\n",
       "       '100009_raw-Englyst_dietary_fibre', '100010-Portion_size',\n",
       "       ...\n",
       "       'visual impairment', 'vitiligo', 'vitreous body disease',\n",
       "       'vocal cord polyp', 'voice disorders',\n",
       "       'wellbeing measurement AND family relationship', 'wheezing',\n",
       "       'whooping cough', 'worry measurement', 'wrist fracture'],\n",
       "      dtype='object', length=3641)"
      ]
     },
     "metadata": {},
     "output_type": "display_data"
    },
    {
     "data": {
      "text/html": [
       "<h3>Cluster 5.1</h3>"
      ],
      "text/plain": [
       "<IPython.core.display.HTML object>"
      ]
     },
     "metadata": {},
     "output_type": "display_data"
    },
    {
     "data": {
      "text/plain": [
       "47"
      ]
     },
     "metadata": {},
     "output_type": "display_data"
    },
    {
     "data": {
      "text/plain": [
       "Index(['102_raw-Pulse_rate_automated_reading',\n",
       "       '20150_raw-Forced_expiratory_volume_in_1second_FEV1_Best_measure',\n",
       "       '20151_raw-Forced_vital_capacity_FVC_Best_measure',\n",
       "       '2395_1-Hairbalding_pattern_Pattern_1',\n",
       "       '30000_raw-White_blood_cell_leukocyte_count',\n",
       "       '30010_raw-Red_blood_cell_erythrocyte_count',\n",
       "       '30020_raw-Haemoglobin_concentration',\n",
       "       '30030_raw-Haematocrit_percentage', '30040_raw-Mean_corpuscular_volume',\n",
       "       '30050_raw-Mean_corpuscular_haemoglobin',\n",
       "       '30070_raw-Red_blood_cell_erythrocyte_distribution_width',\n",
       "       '30080_raw-Platelet_count', '30090_raw-Platelet_crit',\n",
       "       '30100_raw-Mean_platelet_thrombocyte_volume',\n",
       "       '30110_raw-Platelet_distribution_width', '30130_raw-Monocyte_count',\n",
       "       '30140_raw-Neutrophill_count', '30150-Eosinophill_count',\n",
       "       '30180_raw-Lymphocyte_percentage', '30190_raw-Monocyte_percentage',\n",
       "       '30200_raw-Neutrophill_percentage', '30210_raw-Eosinophill_percentage',\n",
       "       '30240_raw-Reticulocyte_percentage', '30250_raw-Reticulocyte_count',\n",
       "       '30260_raw-Mean_reticulocyte_volume',\n",
       "       '30270_raw-Mean_sphered_cell_volume',\n",
       "       '30280_raw-Immature_reticulocyte_fraction',\n",
       "       '30290_raw-High_light_scatter_reticulocyte_percentage',\n",
       "       '30300_raw-High_light_scatter_reticulocyte_count',\n",
       "       '3062_raw-Forced_vital_capacity_FVC',\n",
       "       '3063_raw-Forced_expiratory_volume_in_1second_FEV1',\n",
       "       '3064_raw-Peak_expiratory_flow_PEF',\n",
       "       '4100_raw-Ankle_spacing_width_left',\n",
       "       '4119_raw-Ankle_spacing_width_right', '46_raw-Hand_grip_strength_left',\n",
       "       '47_raw-Hand_grip_strength_right', 'eosinophil count',\n",
       "       'erythrocyte count', 'granulocyte count', 'inflammatory bowel disease',\n",
       "       'leukocyte count', 'lymphocyte count', 'monocyte count',\n",
       "       'myeloid white cell count', 'neutrophil count', 'platelet count',\n",
       "       'reticulocyte count'],\n",
       "      dtype='object')"
      ]
     },
     "metadata": {},
     "output_type": "display_data"
    },
    {
     "data": {
      "text/html": [
       "<h3>Cluster 5.2</h3>"
      ],
      "text/plain": [
       "<IPython.core.display.HTML object>"
      ]
     },
     "metadata": {},
     "output_type": "display_data"
    },
    {
     "data": {
      "text/plain": [
       "12"
      ]
     },
     "metadata": {},
     "output_type": "display_data"
    },
    {
     "data": {
      "text/plain": [
       "Index(['3144_raw-Heel_Broadband_ultrasound_attenuation_direct_entry',\n",
       "       '3147_raw-Heel_quantitative_ultrasound_index_QUI_direct_entry',\n",
       "       '3148_raw-Heel_bone_mineral_density_BMD',\n",
       "       '4101_raw-Heel_broadband_ultrasound_attenuation_left',\n",
       "       '4104_raw-Heel_quantitative_ultrasound_index_QUI_direct_entry_left',\n",
       "       '4105_raw-Heel_bone_mineral_density_BMD_left',\n",
       "       '4106_raw-Heel_bone_mineral_density_BMD_Tscore_automated_left',\n",
       "       '4120_raw-Heel_broadband_ultrasound_attenuation_right',\n",
       "       '4123_raw-Heel_quantitative_ultrasound_index_QUI_direct_entry_right',\n",
       "       '4124_raw-Heel_bone_mineral_density_BMD_right',\n",
       "       '4125_raw-Heel_bone_mineral_density_BMD_Tscore_automated_right',\n",
       "       '78_raw-Heel_bone_mineral_density_BMD_Tscore_automated'],\n",
       "      dtype='object')"
      ]
     },
     "metadata": {},
     "output_type": "display_data"
    },
    {
     "data": {
      "text/html": [
       "<h3>Cluster 5.3</h3>"
      ],
      "text/plain": [
       "<IPython.core.display.HTML object>"
      ]
     },
     "metadata": {},
     "output_type": "display_data"
    },
    {
     "data": {
      "text/plain": [
       "41"
      ]
     },
     "metadata": {},
     "output_type": "display_data"
    },
    {
     "data": {
      "text/plain": [
       "Index(['20015_raw-Sitting_height',\n",
       "       '20153_raw-Forced_expiratory_volume_in_1second_FEV1_predicted',\n",
       "       '21001_raw-Body_mass_index_BMI', '21002_raw-Weight', '23098_raw-Weight',\n",
       "       '23099_raw-Body_fat_percentage', '23100_raw-Whole_body_fat_mass',\n",
       "       '23101_raw-Whole_body_fatfree_mass', '23102_raw-Whole_body_water_mass',\n",
       "       '23104_raw-Body_mass_index_BMI', '23105_raw-Basal_metabolic_rate',\n",
       "       '23106_raw-Impedance_of_whole_body', '23107_raw-Impedance_of_leg_right',\n",
       "       '23108_raw-Impedance_of_leg_left', '23109_raw-Impedance_of_arm_right',\n",
       "       '23110_raw-Impedance_of_arm_left', '23111_raw-Leg_fat_percentage_right',\n",
       "       '23112_raw-Leg_fat_mass_right', '23113_raw-Leg_fatfree_mass_right',\n",
       "       '23114_raw-Leg_predicted_mass_right',\n",
       "       '23115_raw-Leg_fat_percentage_left', '23116_raw-Leg_fat_mass_left',\n",
       "       '23117_raw-Leg_fatfree_mass_left', '23118_raw-Leg_predicted_mass_left',\n",
       "       '23119_raw-Arm_fat_percentage_right', '23120_raw-Arm_fat_mass_right',\n",
       "       '23121_raw-Arm_fatfree_mass_right',\n",
       "       '23122_raw-Arm_predicted_mass_right',\n",
       "       '23123_raw-Arm_fat_percentage_left', '23124_raw-Arm_fat_mass_left',\n",
       "       '23125_raw-Arm_fatfree_mass_left', '23126_raw-Arm_predicted_mass_left',\n",
       "       '23127_raw-Trunk_fat_percentage', '23128_raw-Trunk_fat_mass',\n",
       "       '23129_raw-Trunk_fatfree_mass', '23130_raw-Trunk_predicted_mass',\n",
       "       '3143_raw-Ankle_spacing_width', '48_raw-Waist_circumference',\n",
       "       '49_raw-Hip_circumference', '50_raw-Standing_height', 'body height'],\n",
       "      dtype='object')"
      ]
     },
     "metadata": {},
     "output_type": "display_data"
    },
    {
     "data": {
      "text/html": [
       "<h3>Cluster 5.4</h3>"
      ],
      "text/plain": [
       "<IPython.core.display.HTML object>"
      ]
     },
     "metadata": {},
     "output_type": "display_data"
    },
    {
     "data": {
      "text/plain": [
       "8"
      ]
     },
     "metadata": {},
     "output_type": "display_data"
    },
    {
     "data": {
      "text/plain": [
       "Index(['5096_raw-3mm_weak_meridian_left', '5097_raw-6mm_weak_meridian_left',\n",
       "       '5098_raw-6mm_weak_meridian_right', '5099_raw-3mm_weak_meridian_right',\n",
       "       '5132_raw-3mm_strong_meridian_right',\n",
       "       '5133_raw-6mm_strong_meridian_right',\n",
       "       '5134_raw-6mm_strong_meridian_left',\n",
       "       '5135_raw-3mm_strong_meridian_left'],\n",
       "      dtype='object')"
      ]
     },
     "metadata": {},
     "output_type": "display_data"
    },
    {
     "data": {
      "text/html": [
       "<h2>Partition with k=6</h2>"
      ],
      "text/plain": [
       "<IPython.core.display.HTML object>"
      ]
     },
     "metadata": {},
     "output_type": "display_data"
    },
    {
     "data": {
      "text/plain": [
       "method                               eac_single_coassoc_matrix\n",
       "partition    [1, 1, 1, 1, 1, 1, 1, 1, 1, 1, 1, 1, 1, 1, 1, ...\n",
       "ami_mean                                              0.288249\n",
       "selected                                                  True\n",
       "Name: 6, dtype: object"
      ]
     },
     "metadata": {},
     "output_type": "display_data"
    },
    {
     "data": {
      "text/plain": [
       "(3749,)"
      ]
     },
     "metadata": {},
     "output_type": "display_data"
    },
    {
     "data": {
      "text/plain": [
       "1    3668\n",
       "0      41\n",
       "4      15\n",
       "3      12\n",
       "5       8\n",
       "2       5\n",
       "dtype: int64"
      ]
     },
     "metadata": {},
     "output_type": "display_data"
    },
    {
     "data": {
      "text/html": [
       "<h3>Cluster 6.0</h3>"
      ],
      "text/plain": [
       "<IPython.core.display.HTML object>"
      ]
     },
     "metadata": {},
     "output_type": "display_data"
    },
    {
     "data": {
      "text/plain": [
       "41"
      ]
     },
     "metadata": {},
     "output_type": "display_data"
    },
    {
     "data": {
      "text/plain": [
       "Index(['20015_raw-Sitting_height',\n",
       "       '20153_raw-Forced_expiratory_volume_in_1second_FEV1_predicted',\n",
       "       '21001_raw-Body_mass_index_BMI', '21002_raw-Weight', '23098_raw-Weight',\n",
       "       '23099_raw-Body_fat_percentage', '23100_raw-Whole_body_fat_mass',\n",
       "       '23101_raw-Whole_body_fatfree_mass', '23102_raw-Whole_body_water_mass',\n",
       "       '23104_raw-Body_mass_index_BMI', '23105_raw-Basal_metabolic_rate',\n",
       "       '23106_raw-Impedance_of_whole_body', '23107_raw-Impedance_of_leg_right',\n",
       "       '23108_raw-Impedance_of_leg_left', '23109_raw-Impedance_of_arm_right',\n",
       "       '23110_raw-Impedance_of_arm_left', '23111_raw-Leg_fat_percentage_right',\n",
       "       '23112_raw-Leg_fat_mass_right', '23113_raw-Leg_fatfree_mass_right',\n",
       "       '23114_raw-Leg_predicted_mass_right',\n",
       "       '23115_raw-Leg_fat_percentage_left', '23116_raw-Leg_fat_mass_left',\n",
       "       '23117_raw-Leg_fatfree_mass_left', '23118_raw-Leg_predicted_mass_left',\n",
       "       '23119_raw-Arm_fat_percentage_right', '23120_raw-Arm_fat_mass_right',\n",
       "       '23121_raw-Arm_fatfree_mass_right',\n",
       "       '23122_raw-Arm_predicted_mass_right',\n",
       "       '23123_raw-Arm_fat_percentage_left', '23124_raw-Arm_fat_mass_left',\n",
       "       '23125_raw-Arm_fatfree_mass_left', '23126_raw-Arm_predicted_mass_left',\n",
       "       '23127_raw-Trunk_fat_percentage', '23128_raw-Trunk_fat_mass',\n",
       "       '23129_raw-Trunk_fatfree_mass', '23130_raw-Trunk_predicted_mass',\n",
       "       '3143_raw-Ankle_spacing_width', '48_raw-Waist_circumference',\n",
       "       '49_raw-Hip_circumference', '50_raw-Standing_height', 'body height'],\n",
       "      dtype='object')"
      ]
     },
     "metadata": {},
     "output_type": "display_data"
    },
    {
     "data": {
      "text/html": [
       "<h3>Cluster 6.1</h3>"
      ],
      "text/plain": [
       "<IPython.core.display.HTML object>"
      ]
     },
     "metadata": {},
     "output_type": "display_data"
    },
    {
     "data": {
      "text/plain": [
       "3668"
      ]
     },
     "metadata": {},
     "output_type": "display_data"
    },
    {
     "data": {
      "text/plain": [
       "Index(['100001_raw-Food_weight', '100002_raw-Energy', '100003_raw-Protein',\n",
       "       '100004_raw-Fat', '100005_raw-Carbohydrate', '100006_raw-Saturated_fat',\n",
       "       '100007_raw-Polyunsaturated_fat', '100008_raw-Total_sugars',\n",
       "       '100009_raw-Englyst_dietary_fibre', '100010-Portion_size',\n",
       "       ...\n",
       "       'visual impairment', 'vitiligo', 'vitreous body disease',\n",
       "       'vocal cord polyp', 'voice disorders',\n",
       "       'wellbeing measurement AND family relationship', 'wheezing',\n",
       "       'whooping cough', 'worry measurement', 'wrist fracture'],\n",
       "      dtype='object', length=3668)"
      ]
     },
     "metadata": {},
     "output_type": "display_data"
    },
    {
     "data": {
      "text/html": [
       "<h3>Cluster 6.2</h3>"
      ],
      "text/plain": [
       "<IPython.core.display.HTML object>"
      ]
     },
     "metadata": {},
     "output_type": "display_data"
    },
    {
     "data": {
      "text/plain": [
       "5"
      ]
     },
     "metadata": {},
     "output_type": "display_data"
    },
    {
     "data": {
      "text/plain": [
       "Index(['30080_raw-Platelet_count', '30090_raw-Platelet_crit',\n",
       "       '30100_raw-Mean_platelet_thrombocyte_volume',\n",
       "       '30110_raw-Platelet_distribution_width', 'platelet count'],\n",
       "      dtype='object')"
      ]
     },
     "metadata": {},
     "output_type": "display_data"
    },
    {
     "data": {
      "text/html": [
       "<h3>Cluster 6.3</h3>"
      ],
      "text/plain": [
       "<IPython.core.display.HTML object>"
      ]
     },
     "metadata": {},
     "output_type": "display_data"
    },
    {
     "data": {
      "text/plain": [
       "12"
      ]
     },
     "metadata": {},
     "output_type": "display_data"
    },
    {
     "data": {
      "text/plain": [
       "Index(['3144_raw-Heel_Broadband_ultrasound_attenuation_direct_entry',\n",
       "       '3147_raw-Heel_quantitative_ultrasound_index_QUI_direct_entry',\n",
       "       '3148_raw-Heel_bone_mineral_density_BMD',\n",
       "       '4101_raw-Heel_broadband_ultrasound_attenuation_left',\n",
       "       '4104_raw-Heel_quantitative_ultrasound_index_QUI_direct_entry_left',\n",
       "       '4105_raw-Heel_bone_mineral_density_BMD_left',\n",
       "       '4106_raw-Heel_bone_mineral_density_BMD_Tscore_automated_left',\n",
       "       '4120_raw-Heel_broadband_ultrasound_attenuation_right',\n",
       "       '4123_raw-Heel_quantitative_ultrasound_index_QUI_direct_entry_right',\n",
       "       '4124_raw-Heel_bone_mineral_density_BMD_right',\n",
       "       '4125_raw-Heel_bone_mineral_density_BMD_Tscore_automated_right',\n",
       "       '78_raw-Heel_bone_mineral_density_BMD_Tscore_automated'],\n",
       "      dtype='object')"
      ]
     },
     "metadata": {},
     "output_type": "display_data"
    },
    {
     "data": {
      "text/html": [
       "<h3>Cluster 6.4</h3>"
      ],
      "text/plain": [
       "<IPython.core.display.HTML object>"
      ]
     },
     "metadata": {},
     "output_type": "display_data"
    },
    {
     "data": {
      "text/plain": [
       "15"
      ]
     },
     "metadata": {},
     "output_type": "display_data"
    },
    {
     "data": {
      "text/plain": [
       "Index(['30010_raw-Red_blood_cell_erythrocyte_count',\n",
       "       '30020_raw-Haemoglobin_concentration',\n",
       "       '30030_raw-Haematocrit_percentage', '30040_raw-Mean_corpuscular_volume',\n",
       "       '30050_raw-Mean_corpuscular_haemoglobin',\n",
       "       '30070_raw-Red_blood_cell_erythrocyte_distribution_width',\n",
       "       '30240_raw-Reticulocyte_percentage', '30250_raw-Reticulocyte_count',\n",
       "       '30260_raw-Mean_reticulocyte_volume',\n",
       "       '30270_raw-Mean_sphered_cell_volume',\n",
       "       '30280_raw-Immature_reticulocyte_fraction',\n",
       "       '30290_raw-High_light_scatter_reticulocyte_percentage',\n",
       "       '30300_raw-High_light_scatter_reticulocyte_count', 'erythrocyte count',\n",
       "       'reticulocyte count'],\n",
       "      dtype='object')"
      ]
     },
     "metadata": {},
     "output_type": "display_data"
    },
    {
     "data": {
      "text/html": [
       "<h3>Cluster 6.5</h3>"
      ],
      "text/plain": [
       "<IPython.core.display.HTML object>"
      ]
     },
     "metadata": {},
     "output_type": "display_data"
    },
    {
     "data": {
      "text/plain": [
       "8"
      ]
     },
     "metadata": {},
     "output_type": "display_data"
    },
    {
     "data": {
      "text/plain": [
       "Index(['5096_raw-3mm_weak_meridian_left', '5097_raw-6mm_weak_meridian_left',\n",
       "       '5098_raw-6mm_weak_meridian_right', '5099_raw-3mm_weak_meridian_right',\n",
       "       '5132_raw-3mm_strong_meridian_right',\n",
       "       '5133_raw-6mm_strong_meridian_right',\n",
       "       '5134_raw-6mm_strong_meridian_left',\n",
       "       '5135_raw-3mm_strong_meridian_left'],\n",
       "      dtype='object')"
      ]
     },
     "metadata": {},
     "output_type": "display_data"
    },
    {
     "data": {
      "text/html": [
       "<h2>Partition with k=7</h2>"
      ],
      "text/plain": [
       "<IPython.core.display.HTML object>"
      ]
     },
     "metadata": {},
     "output_type": "display_data"
    },
    {
     "data": {
      "text/plain": [
       "method                                                 scc_020\n",
       "partition    [0, 0, 0, 0, 0, 0, 0, 0, 0, 0, 0, 0, 0, 0, 0, ...\n",
       "ami_mean                                              0.299448\n",
       "selected                                                  True\n",
       "Name: 7, dtype: object"
      ]
     },
     "metadata": {},
     "output_type": "display_data"
    },
    {
     "data": {
      "text/plain": [
       "(3749,)"
      ]
     },
     "metadata": {},
     "output_type": "display_data"
    },
    {
     "data": {
      "text/plain": [
       "0    3654\n",
       "6      24\n",
       "5      22\n",
       "3      18\n",
       "4      12\n",
       "1      11\n",
       "2       8\n",
       "dtype: int64"
      ]
     },
     "metadata": {},
     "output_type": "display_data"
    },
    {
     "data": {
      "text/html": [
       "<h3>Cluster 7.0</h3>"
      ],
      "text/plain": [
       "<IPython.core.display.HTML object>"
      ]
     },
     "metadata": {},
     "output_type": "display_data"
    },
    {
     "data": {
      "text/plain": [
       "3654"
      ]
     },
     "metadata": {},
     "output_type": "display_data"
    },
    {
     "data": {
      "text/plain": [
       "Index(['100001_raw-Food_weight', '100002_raw-Energy', '100003_raw-Protein',\n",
       "       '100004_raw-Fat', '100005_raw-Carbohydrate', '100006_raw-Saturated_fat',\n",
       "       '100007_raw-Polyunsaturated_fat', '100008_raw-Total_sugars',\n",
       "       '100009_raw-Englyst_dietary_fibre', '100010-Portion_size',\n",
       "       ...\n",
       "       'visual impairment', 'vitiligo', 'vitreous body disease',\n",
       "       'vocal cord polyp', 'voice disorders',\n",
       "       'wellbeing measurement AND family relationship', 'wheezing',\n",
       "       'whooping cough', 'worry measurement', 'wrist fracture'],\n",
       "      dtype='object', length=3654)"
      ]
     },
     "metadata": {},
     "output_type": "display_data"
    },
    {
     "data": {
      "text/html": [
       "<h3>Cluster 7.1</h3>"
      ],
      "text/plain": [
       "<IPython.core.display.HTML object>"
      ]
     },
     "metadata": {},
     "output_type": "display_data"
    },
    {
     "data": {
      "text/plain": [
       "11"
      ]
     },
     "metadata": {},
     "output_type": "display_data"
    },
    {
     "data": {
      "text/plain": [
       "Index(['30000_raw-White_blood_cell_leukocyte_count',\n",
       "       '30130_raw-Monocyte_count', '30140_raw-Neutrophill_count',\n",
       "       '30180_raw-Lymphocyte_percentage', '30190_raw-Monocyte_percentage',\n",
       "       '30200_raw-Neutrophill_percentage', 'granulocyte count',\n",
       "       'leukocyte count', 'monocyte count', 'myeloid white cell count',\n",
       "       'neutrophil count'],\n",
       "      dtype='object')"
      ]
     },
     "metadata": {},
     "output_type": "display_data"
    },
    {
     "data": {
      "text/html": [
       "<h3>Cluster 7.2</h3>"
      ],
      "text/plain": [
       "<IPython.core.display.HTML object>"
      ]
     },
     "metadata": {},
     "output_type": "display_data"
    },
    {
     "data": {
      "text/plain": [
       "8"
      ]
     },
     "metadata": {},
     "output_type": "display_data"
    },
    {
     "data": {
      "text/plain": [
       "Index(['5096_raw-3mm_weak_meridian_left', '5097_raw-6mm_weak_meridian_left',\n",
       "       '5098_raw-6mm_weak_meridian_right', '5099_raw-3mm_weak_meridian_right',\n",
       "       '5132_raw-3mm_strong_meridian_right',\n",
       "       '5133_raw-6mm_strong_meridian_right',\n",
       "       '5134_raw-6mm_strong_meridian_left',\n",
       "       '5135_raw-3mm_strong_meridian_left'],\n",
       "      dtype='object')"
      ]
     },
     "metadata": {},
     "output_type": "display_data"
    },
    {
     "data": {
      "text/html": [
       "<h3>Cluster 7.3</h3>"
      ],
      "text/plain": [
       "<IPython.core.display.HTML object>"
      ]
     },
     "metadata": {},
     "output_type": "display_data"
    },
    {
     "data": {
      "text/plain": [
       "18"
      ]
     },
     "metadata": {},
     "output_type": "display_data"
    },
    {
     "data": {
      "text/plain": [
       "Index(['21001_raw-Body_mass_index_BMI', '21002_raw-Weight', '23098_raw-Weight',\n",
       "       '23099_raw-Body_fat_percentage', '23100_raw-Whole_body_fat_mass',\n",
       "       '23104_raw-Body_mass_index_BMI', '23111_raw-Leg_fat_percentage_right',\n",
       "       '23112_raw-Leg_fat_mass_right', '23115_raw-Leg_fat_percentage_left',\n",
       "       '23116_raw-Leg_fat_mass_left', '23119_raw-Arm_fat_percentage_right',\n",
       "       '23120_raw-Arm_fat_mass_right', '23123_raw-Arm_fat_percentage_left',\n",
       "       '23124_raw-Arm_fat_mass_left', '23127_raw-Trunk_fat_percentage',\n",
       "       '23128_raw-Trunk_fat_mass', '48_raw-Waist_circumference',\n",
       "       '49_raw-Hip_circumference'],\n",
       "      dtype='object')"
      ]
     },
     "metadata": {},
     "output_type": "display_data"
    },
    {
     "data": {
      "text/html": [
       "<h3>Cluster 7.4</h3>"
      ],
      "text/plain": [
       "<IPython.core.display.HTML object>"
      ]
     },
     "metadata": {},
     "output_type": "display_data"
    },
    {
     "data": {
      "text/plain": [
       "12"
      ]
     },
     "metadata": {},
     "output_type": "display_data"
    },
    {
     "data": {
      "text/plain": [
       "Index(['3144_raw-Heel_Broadband_ultrasound_attenuation_direct_entry',\n",
       "       '3147_raw-Heel_quantitative_ultrasound_index_QUI_direct_entry',\n",
       "       '3148_raw-Heel_bone_mineral_density_BMD',\n",
       "       '4101_raw-Heel_broadband_ultrasound_attenuation_left',\n",
       "       '4104_raw-Heel_quantitative_ultrasound_index_QUI_direct_entry_left',\n",
       "       '4105_raw-Heel_bone_mineral_density_BMD_left',\n",
       "       '4106_raw-Heel_bone_mineral_density_BMD_Tscore_automated_left',\n",
       "       '4120_raw-Heel_broadband_ultrasound_attenuation_right',\n",
       "       '4123_raw-Heel_quantitative_ultrasound_index_QUI_direct_entry_right',\n",
       "       '4124_raw-Heel_bone_mineral_density_BMD_right',\n",
       "       '4125_raw-Heel_bone_mineral_density_BMD_Tscore_automated_right',\n",
       "       '78_raw-Heel_bone_mineral_density_BMD_Tscore_automated'],\n",
       "      dtype='object')"
      ]
     },
     "metadata": {},
     "output_type": "display_data"
    },
    {
     "data": {
      "text/html": [
       "<h3>Cluster 7.5</h3>"
      ],
      "text/plain": [
       "<IPython.core.display.HTML object>"
      ]
     },
     "metadata": {},
     "output_type": "display_data"
    },
    {
     "data": {
      "text/plain": [
       "22"
      ]
     },
     "metadata": {},
     "output_type": "display_data"
    },
    {
     "data": {
      "text/plain": [
       "Index(['20015_raw-Sitting_height',\n",
       "       '20153_raw-Forced_expiratory_volume_in_1second_FEV1_predicted',\n",
       "       '23101_raw-Whole_body_fatfree_mass', '23102_raw-Whole_body_water_mass',\n",
       "       '23105_raw-Basal_metabolic_rate', '23106_raw-Impedance_of_whole_body',\n",
       "       '23107_raw-Impedance_of_leg_right', '23108_raw-Impedance_of_leg_left',\n",
       "       '23109_raw-Impedance_of_arm_right', '23110_raw-Impedance_of_arm_left',\n",
       "       '23113_raw-Leg_fatfree_mass_right',\n",
       "       '23114_raw-Leg_predicted_mass_right', '23117_raw-Leg_fatfree_mass_left',\n",
       "       '23118_raw-Leg_predicted_mass_left', '23121_raw-Arm_fatfree_mass_right',\n",
       "       '23122_raw-Arm_predicted_mass_right', '23125_raw-Arm_fatfree_mass_left',\n",
       "       '23126_raw-Arm_predicted_mass_left', '23129_raw-Trunk_fatfree_mass',\n",
       "       '23130_raw-Trunk_predicted_mass', '50_raw-Standing_height',\n",
       "       'body height'],\n",
       "      dtype='object')"
      ]
     },
     "metadata": {},
     "output_type": "display_data"
    },
    {
     "data": {
      "text/html": [
       "<h3>Cluster 7.6</h3>"
      ],
      "text/plain": [
       "<IPython.core.display.HTML object>"
      ]
     },
     "metadata": {},
     "output_type": "display_data"
    },
    {
     "data": {
      "text/plain": [
       "24"
      ]
     },
     "metadata": {},
     "output_type": "display_data"
    },
    {
     "data": {
      "text/plain": [
       "Index(['30010_raw-Red_blood_cell_erythrocyte_count',\n",
       "       '30020_raw-Haemoglobin_concentration',\n",
       "       '30030_raw-Haematocrit_percentage', '30040_raw-Mean_corpuscular_volume',\n",
       "       '30050_raw-Mean_corpuscular_haemoglobin',\n",
       "       '30070_raw-Red_blood_cell_erythrocyte_distribution_width',\n",
       "       '30080_raw-Platelet_count', '30090_raw-Platelet_crit',\n",
       "       '30100_raw-Mean_platelet_thrombocyte_volume',\n",
       "       '30110_raw-Platelet_distribution_width', '30150-Eosinophill_count',\n",
       "       '30210_raw-Eosinophill_percentage', '30240_raw-Reticulocyte_percentage',\n",
       "       '30250_raw-Reticulocyte_count', '30260_raw-Mean_reticulocyte_volume',\n",
       "       '30270_raw-Mean_sphered_cell_volume',\n",
       "       '30280_raw-Immature_reticulocyte_fraction',\n",
       "       '30290_raw-High_light_scatter_reticulocyte_percentage',\n",
       "       '30300_raw-High_light_scatter_reticulocyte_count', 'eosinophil count',\n",
       "       'erythrocyte count', 'lymphocyte count', 'platelet count',\n",
       "       'reticulocyte count'],\n",
       "      dtype='object')"
      ]
     },
     "metadata": {},
     "output_type": "display_data"
    },
    {
     "data": {
      "text/html": [
       "<h2>Partition with k=8</h2>"
      ],
      "text/plain": [
       "<IPython.core.display.HTML object>"
      ]
     },
     "metadata": {},
     "output_type": "display_data"
    },
    {
     "data": {
      "text/plain": [
       "method                                                 scc_020\n",
       "partition    [0, 0, 0, 0, 0, 0, 0, 0, 0, 0, 0, 0, 0, 0, 0, ...\n",
       "ami_mean                                              0.300169\n",
       "selected                                                  True\n",
       "Name: 8, dtype: object"
      ]
     },
     "metadata": {},
     "output_type": "display_data"
    },
    {
     "data": {
      "text/plain": [
       "(3749,)"
      ]
     },
     "metadata": {},
     "output_type": "display_data"
    },
    {
     "data": {
      "text/plain": [
       "0    3654\n",
       "1      24\n",
       "6      18\n",
       "5      17\n",
       "4      12\n",
       "7      11\n",
       "3       8\n",
       "2       5\n",
       "dtype: int64"
      ]
     },
     "metadata": {},
     "output_type": "display_data"
    },
    {
     "data": {
      "text/html": [
       "<h3>Cluster 8.0</h3>"
      ],
      "text/plain": [
       "<IPython.core.display.HTML object>"
      ]
     },
     "metadata": {},
     "output_type": "display_data"
    },
    {
     "data": {
      "text/plain": [
       "3654"
      ]
     },
     "metadata": {},
     "output_type": "display_data"
    },
    {
     "data": {
      "text/plain": [
       "Index(['100001_raw-Food_weight', '100002_raw-Energy', '100003_raw-Protein',\n",
       "       '100004_raw-Fat', '100005_raw-Carbohydrate', '100006_raw-Saturated_fat',\n",
       "       '100007_raw-Polyunsaturated_fat', '100008_raw-Total_sugars',\n",
       "       '100009_raw-Englyst_dietary_fibre', '100010-Portion_size',\n",
       "       ...\n",
       "       'visual impairment', 'vitiligo', 'vitreous body disease',\n",
       "       'vocal cord polyp', 'voice disorders',\n",
       "       'wellbeing measurement AND family relationship', 'wheezing',\n",
       "       'whooping cough', 'worry measurement', 'wrist fracture'],\n",
       "      dtype='object', length=3654)"
      ]
     },
     "metadata": {},
     "output_type": "display_data"
    },
    {
     "data": {
      "text/html": [
       "<h3>Cluster 8.1</h3>"
      ],
      "text/plain": [
       "<IPython.core.display.HTML object>"
      ]
     },
     "metadata": {},
     "output_type": "display_data"
    },
    {
     "data": {
      "text/plain": [
       "24"
      ]
     },
     "metadata": {},
     "output_type": "display_data"
    },
    {
     "data": {
      "text/plain": [
       "Index(['30010_raw-Red_blood_cell_erythrocyte_count',\n",
       "       '30020_raw-Haemoglobin_concentration',\n",
       "       '30030_raw-Haematocrit_percentage', '30040_raw-Mean_corpuscular_volume',\n",
       "       '30050_raw-Mean_corpuscular_haemoglobin',\n",
       "       '30070_raw-Red_blood_cell_erythrocyte_distribution_width',\n",
       "       '30080_raw-Platelet_count', '30090_raw-Platelet_crit',\n",
       "       '30100_raw-Mean_platelet_thrombocyte_volume',\n",
       "       '30110_raw-Platelet_distribution_width', '30150-Eosinophill_count',\n",
       "       '30210_raw-Eosinophill_percentage', '30240_raw-Reticulocyte_percentage',\n",
       "       '30250_raw-Reticulocyte_count', '30260_raw-Mean_reticulocyte_volume',\n",
       "       '30270_raw-Mean_sphered_cell_volume',\n",
       "       '30280_raw-Immature_reticulocyte_fraction',\n",
       "       '30290_raw-High_light_scatter_reticulocyte_percentage',\n",
       "       '30300_raw-High_light_scatter_reticulocyte_count', 'eosinophil count',\n",
       "       'erythrocyte count', 'lymphocyte count', 'platelet count',\n",
       "       'reticulocyte count'],\n",
       "      dtype='object')"
      ]
     },
     "metadata": {},
     "output_type": "display_data"
    },
    {
     "data": {
      "text/html": [
       "<h3>Cluster 8.2</h3>"
      ],
      "text/plain": [
       "<IPython.core.display.HTML object>"
      ]
     },
     "metadata": {},
     "output_type": "display_data"
    },
    {
     "data": {
      "text/plain": [
       "5"
      ]
     },
     "metadata": {},
     "output_type": "display_data"
    },
    {
     "data": {
      "text/plain": [
       "Index(['23106_raw-Impedance_of_whole_body', '23107_raw-Impedance_of_leg_right',\n",
       "       '23108_raw-Impedance_of_leg_left', '23109_raw-Impedance_of_arm_right',\n",
       "       '23110_raw-Impedance_of_arm_left'],\n",
       "      dtype='object')"
      ]
     },
     "metadata": {},
     "output_type": "display_data"
    },
    {
     "data": {
      "text/html": [
       "<h3>Cluster 8.3</h3>"
      ],
      "text/plain": [
       "<IPython.core.display.HTML object>"
      ]
     },
     "metadata": {},
     "output_type": "display_data"
    },
    {
     "data": {
      "text/plain": [
       "8"
      ]
     },
     "metadata": {},
     "output_type": "display_data"
    },
    {
     "data": {
      "text/plain": [
       "Index(['5096_raw-3mm_weak_meridian_left', '5097_raw-6mm_weak_meridian_left',\n",
       "       '5098_raw-6mm_weak_meridian_right', '5099_raw-3mm_weak_meridian_right',\n",
       "       '5132_raw-3mm_strong_meridian_right',\n",
       "       '5133_raw-6mm_strong_meridian_right',\n",
       "       '5134_raw-6mm_strong_meridian_left',\n",
       "       '5135_raw-3mm_strong_meridian_left'],\n",
       "      dtype='object')"
      ]
     },
     "metadata": {},
     "output_type": "display_data"
    },
    {
     "data": {
      "text/html": [
       "<h3>Cluster 8.4</h3>"
      ],
      "text/plain": [
       "<IPython.core.display.HTML object>"
      ]
     },
     "metadata": {},
     "output_type": "display_data"
    },
    {
     "data": {
      "text/plain": [
       "12"
      ]
     },
     "metadata": {},
     "output_type": "display_data"
    },
    {
     "data": {
      "text/plain": [
       "Index(['3144_raw-Heel_Broadband_ultrasound_attenuation_direct_entry',\n",
       "       '3147_raw-Heel_quantitative_ultrasound_index_QUI_direct_entry',\n",
       "       '3148_raw-Heel_bone_mineral_density_BMD',\n",
       "       '4101_raw-Heel_broadband_ultrasound_attenuation_left',\n",
       "       '4104_raw-Heel_quantitative_ultrasound_index_QUI_direct_entry_left',\n",
       "       '4105_raw-Heel_bone_mineral_density_BMD_left',\n",
       "       '4106_raw-Heel_bone_mineral_density_BMD_Tscore_automated_left',\n",
       "       '4120_raw-Heel_broadband_ultrasound_attenuation_right',\n",
       "       '4123_raw-Heel_quantitative_ultrasound_index_QUI_direct_entry_right',\n",
       "       '4124_raw-Heel_bone_mineral_density_BMD_right',\n",
       "       '4125_raw-Heel_bone_mineral_density_BMD_Tscore_automated_right',\n",
       "       '78_raw-Heel_bone_mineral_density_BMD_Tscore_automated'],\n",
       "      dtype='object')"
      ]
     },
     "metadata": {},
     "output_type": "display_data"
    },
    {
     "data": {
      "text/html": [
       "<h3>Cluster 8.5</h3>"
      ],
      "text/plain": [
       "<IPython.core.display.HTML object>"
      ]
     },
     "metadata": {},
     "output_type": "display_data"
    },
    {
     "data": {
      "text/plain": [
       "17"
      ]
     },
     "metadata": {},
     "output_type": "display_data"
    },
    {
     "data": {
      "text/plain": [
       "Index(['20015_raw-Sitting_height',\n",
       "       '20153_raw-Forced_expiratory_volume_in_1second_FEV1_predicted',\n",
       "       '23101_raw-Whole_body_fatfree_mass', '23102_raw-Whole_body_water_mass',\n",
       "       '23105_raw-Basal_metabolic_rate', '23113_raw-Leg_fatfree_mass_right',\n",
       "       '23114_raw-Leg_predicted_mass_right', '23117_raw-Leg_fatfree_mass_left',\n",
       "       '23118_raw-Leg_predicted_mass_left', '23121_raw-Arm_fatfree_mass_right',\n",
       "       '23122_raw-Arm_predicted_mass_right', '23125_raw-Arm_fatfree_mass_left',\n",
       "       '23126_raw-Arm_predicted_mass_left', '23129_raw-Trunk_fatfree_mass',\n",
       "       '23130_raw-Trunk_predicted_mass', '50_raw-Standing_height',\n",
       "       'body height'],\n",
       "      dtype='object')"
      ]
     },
     "metadata": {},
     "output_type": "display_data"
    },
    {
     "data": {
      "text/html": [
       "<h3>Cluster 8.6</h3>"
      ],
      "text/plain": [
       "<IPython.core.display.HTML object>"
      ]
     },
     "metadata": {},
     "output_type": "display_data"
    },
    {
     "data": {
      "text/plain": [
       "18"
      ]
     },
     "metadata": {},
     "output_type": "display_data"
    },
    {
     "data": {
      "text/plain": [
       "Index(['21001_raw-Body_mass_index_BMI', '21002_raw-Weight', '23098_raw-Weight',\n",
       "       '23099_raw-Body_fat_percentage', '23100_raw-Whole_body_fat_mass',\n",
       "       '23104_raw-Body_mass_index_BMI', '23111_raw-Leg_fat_percentage_right',\n",
       "       '23112_raw-Leg_fat_mass_right', '23115_raw-Leg_fat_percentage_left',\n",
       "       '23116_raw-Leg_fat_mass_left', '23119_raw-Arm_fat_percentage_right',\n",
       "       '23120_raw-Arm_fat_mass_right', '23123_raw-Arm_fat_percentage_left',\n",
       "       '23124_raw-Arm_fat_mass_left', '23127_raw-Trunk_fat_percentage',\n",
       "       '23128_raw-Trunk_fat_mass', '48_raw-Waist_circumference',\n",
       "       '49_raw-Hip_circumference'],\n",
       "      dtype='object')"
      ]
     },
     "metadata": {},
     "output_type": "display_data"
    },
    {
     "data": {
      "text/html": [
       "<h3>Cluster 8.7</h3>"
      ],
      "text/plain": [
       "<IPython.core.display.HTML object>"
      ]
     },
     "metadata": {},
     "output_type": "display_data"
    },
    {
     "data": {
      "text/plain": [
       "11"
      ]
     },
     "metadata": {},
     "output_type": "display_data"
    },
    {
     "data": {
      "text/plain": [
       "Index(['30000_raw-White_blood_cell_leukocyte_count',\n",
       "       '30130_raw-Monocyte_count', '30140_raw-Neutrophill_count',\n",
       "       '30180_raw-Lymphocyte_percentage', '30190_raw-Monocyte_percentage',\n",
       "       '30200_raw-Neutrophill_percentage', 'granulocyte count',\n",
       "       'leukocyte count', 'monocyte count', 'myeloid white cell count',\n",
       "       'neutrophil count'],\n",
       "      dtype='object')"
      ]
     },
     "metadata": {},
     "output_type": "display_data"
    },
    {
     "data": {
      "text/html": [
       "<h2>Partition with k=9</h2>"
      ],
      "text/plain": [
       "<IPython.core.display.HTML object>"
      ]
     },
     "metadata": {},
     "output_type": "display_data"
    },
    {
     "data": {
      "text/plain": [
       "method                                                 scc_020\n",
       "partition    [0, 0, 0, 0, 0, 0, 0, 0, 0, 0, 0, 0, 0, 0, 0, ...\n",
       "ami_mean                                              0.301299\n",
       "selected                                                  True\n",
       "Name: 9, dtype: object"
      ]
     },
     "metadata": {},
     "output_type": "display_data"
    },
    {
     "data": {
      "text/plain": [
       "(3749,)"
      ]
     },
     "metadata": {},
     "output_type": "display_data"
    },
    {
     "data": {
      "text/plain": [
       "0    3655\n",
       "8      18\n",
       "6      17\n",
       "2      16\n",
       "4      14\n",
       "5      12\n",
       "3       8\n",
       "1       5\n",
       "7       4\n",
       "dtype: int64"
      ]
     },
     "metadata": {},
     "output_type": "display_data"
    },
    {
     "data": {
      "text/html": [
       "<h3>Cluster 9.0</h3>"
      ],
      "text/plain": [
       "<IPython.core.display.HTML object>"
      ]
     },
     "metadata": {},
     "output_type": "display_data"
    },
    {
     "data": {
      "text/plain": [
       "3655"
      ]
     },
     "metadata": {},
     "output_type": "display_data"
    },
    {
     "data": {
      "text/plain": [
       "Index(['100001_raw-Food_weight', '100002_raw-Energy', '100003_raw-Protein',\n",
       "       '100004_raw-Fat', '100005_raw-Carbohydrate', '100006_raw-Saturated_fat',\n",
       "       '100007_raw-Polyunsaturated_fat', '100008_raw-Total_sugars',\n",
       "       '100009_raw-Englyst_dietary_fibre', '100010-Portion_size',\n",
       "       ...\n",
       "       'visual impairment', 'vitiligo', 'vitreous body disease',\n",
       "       'vocal cord polyp', 'voice disorders',\n",
       "       'wellbeing measurement AND family relationship', 'wheezing',\n",
       "       'whooping cough', 'worry measurement', 'wrist fracture'],\n",
       "      dtype='object', length=3655)"
      ]
     },
     "metadata": {},
     "output_type": "display_data"
    },
    {
     "data": {
      "text/html": [
       "<h3>Cluster 9.1</h3>"
      ],
      "text/plain": [
       "<IPython.core.display.HTML object>"
      ]
     },
     "metadata": {},
     "output_type": "display_data"
    },
    {
     "data": {
      "text/plain": [
       "5"
      ]
     },
     "metadata": {},
     "output_type": "display_data"
    },
    {
     "data": {
      "text/plain": [
       "Index(['23106_raw-Impedance_of_whole_body', '23107_raw-Impedance_of_leg_right',\n",
       "       '23108_raw-Impedance_of_leg_left', '23109_raw-Impedance_of_arm_right',\n",
       "       '23110_raw-Impedance_of_arm_left'],\n",
       "      dtype='object')"
      ]
     },
     "metadata": {},
     "output_type": "display_data"
    },
    {
     "data": {
      "text/html": [
       "<h3>Cluster 9.2</h3>"
      ],
      "text/plain": [
       "<IPython.core.display.HTML object>"
      ]
     },
     "metadata": {},
     "output_type": "display_data"
    },
    {
     "data": {
      "text/plain": [
       "16"
      ]
     },
     "metadata": {},
     "output_type": "display_data"
    },
    {
     "data": {
      "text/plain": [
       "Index(['30010_raw-Red_blood_cell_erythrocyte_count',\n",
       "       '30020_raw-Haemoglobin_concentration',\n",
       "       '30030_raw-Haematocrit_percentage',\n",
       "       '30070_raw-Red_blood_cell_erythrocyte_distribution_width',\n",
       "       '30080_raw-Platelet_count', '30090_raw-Platelet_crit',\n",
       "       '30100_raw-Mean_platelet_thrombocyte_volume',\n",
       "       '30110_raw-Platelet_distribution_width',\n",
       "       '30240_raw-Reticulocyte_percentage', '30250_raw-Reticulocyte_count',\n",
       "       '30280_raw-Immature_reticulocyte_fraction',\n",
       "       '30290_raw-High_light_scatter_reticulocyte_percentage',\n",
       "       '30300_raw-High_light_scatter_reticulocyte_count', 'erythrocyte count',\n",
       "       'platelet count', 'reticulocyte count'],\n",
       "      dtype='object')"
      ]
     },
     "metadata": {},
     "output_type": "display_data"
    },
    {
     "data": {
      "text/html": [
       "<h3>Cluster 9.3</h3>"
      ],
      "text/plain": [
       "<IPython.core.display.HTML object>"
      ]
     },
     "metadata": {},
     "output_type": "display_data"
    },
    {
     "data": {
      "text/plain": [
       "8"
      ]
     },
     "metadata": {},
     "output_type": "display_data"
    },
    {
     "data": {
      "text/plain": [
       "Index(['5096_raw-3mm_weak_meridian_left', '5097_raw-6mm_weak_meridian_left',\n",
       "       '5098_raw-6mm_weak_meridian_right', '5099_raw-3mm_weak_meridian_right',\n",
       "       '5132_raw-3mm_strong_meridian_right',\n",
       "       '5133_raw-6mm_strong_meridian_right',\n",
       "       '5134_raw-6mm_strong_meridian_left',\n",
       "       '5135_raw-3mm_strong_meridian_left'],\n",
       "      dtype='object')"
      ]
     },
     "metadata": {},
     "output_type": "display_data"
    },
    {
     "data": {
      "text/html": [
       "<h3>Cluster 9.4</h3>"
      ],
      "text/plain": [
       "<IPython.core.display.HTML object>"
      ]
     },
     "metadata": {},
     "output_type": "display_data"
    },
    {
     "data": {
      "text/plain": [
       "14"
      ]
     },
     "metadata": {},
     "output_type": "display_data"
    },
    {
     "data": {
      "text/plain": [
       "Index(['30000_raw-White_blood_cell_leukocyte_count',\n",
       "       '30130_raw-Monocyte_count', '30140_raw-Neutrophill_count',\n",
       "       '30150-Eosinophill_count', '30180_raw-Lymphocyte_percentage',\n",
       "       '30190_raw-Monocyte_percentage', '30200_raw-Neutrophill_percentage',\n",
       "       '30210_raw-Eosinophill_percentage', 'eosinophil count',\n",
       "       'granulocyte count', 'leukocyte count', 'monocyte count',\n",
       "       'myeloid white cell count', 'neutrophil count'],\n",
       "      dtype='object')"
      ]
     },
     "metadata": {},
     "output_type": "display_data"
    },
    {
     "data": {
      "text/html": [
       "<h3>Cluster 9.5</h3>"
      ],
      "text/plain": [
       "<IPython.core.display.HTML object>"
      ]
     },
     "metadata": {},
     "output_type": "display_data"
    },
    {
     "data": {
      "text/plain": [
       "12"
      ]
     },
     "metadata": {},
     "output_type": "display_data"
    },
    {
     "data": {
      "text/plain": [
       "Index(['3144_raw-Heel_Broadband_ultrasound_attenuation_direct_entry',\n",
       "       '3147_raw-Heel_quantitative_ultrasound_index_QUI_direct_entry',\n",
       "       '3148_raw-Heel_bone_mineral_density_BMD',\n",
       "       '4101_raw-Heel_broadband_ultrasound_attenuation_left',\n",
       "       '4104_raw-Heel_quantitative_ultrasound_index_QUI_direct_entry_left',\n",
       "       '4105_raw-Heel_bone_mineral_density_BMD_left',\n",
       "       '4106_raw-Heel_bone_mineral_density_BMD_Tscore_automated_left',\n",
       "       '4120_raw-Heel_broadband_ultrasound_attenuation_right',\n",
       "       '4123_raw-Heel_quantitative_ultrasound_index_QUI_direct_entry_right',\n",
       "       '4124_raw-Heel_bone_mineral_density_BMD_right',\n",
       "       '4125_raw-Heel_bone_mineral_density_BMD_Tscore_automated_right',\n",
       "       '78_raw-Heel_bone_mineral_density_BMD_Tscore_automated'],\n",
       "      dtype='object')"
      ]
     },
     "metadata": {},
     "output_type": "display_data"
    },
    {
     "data": {
      "text/html": [
       "<h3>Cluster 9.6</h3>"
      ],
      "text/plain": [
       "<IPython.core.display.HTML object>"
      ]
     },
     "metadata": {},
     "output_type": "display_data"
    },
    {
     "data": {
      "text/plain": [
       "17"
      ]
     },
     "metadata": {},
     "output_type": "display_data"
    },
    {
     "data": {
      "text/plain": [
       "Index(['20015_raw-Sitting_height',\n",
       "       '20153_raw-Forced_expiratory_volume_in_1second_FEV1_predicted',\n",
       "       '23101_raw-Whole_body_fatfree_mass', '23102_raw-Whole_body_water_mass',\n",
       "       '23105_raw-Basal_metabolic_rate', '23113_raw-Leg_fatfree_mass_right',\n",
       "       '23114_raw-Leg_predicted_mass_right', '23117_raw-Leg_fatfree_mass_left',\n",
       "       '23118_raw-Leg_predicted_mass_left', '23121_raw-Arm_fatfree_mass_right',\n",
       "       '23122_raw-Arm_predicted_mass_right', '23125_raw-Arm_fatfree_mass_left',\n",
       "       '23126_raw-Arm_predicted_mass_left', '23129_raw-Trunk_fatfree_mass',\n",
       "       '23130_raw-Trunk_predicted_mass', '50_raw-Standing_height',\n",
       "       'body height'],\n",
       "      dtype='object')"
      ]
     },
     "metadata": {},
     "output_type": "display_data"
    },
    {
     "data": {
      "text/html": [
       "<h3>Cluster 9.7</h3>"
      ],
      "text/plain": [
       "<IPython.core.display.HTML object>"
      ]
     },
     "metadata": {},
     "output_type": "display_data"
    },
    {
     "data": {
      "text/plain": [
       "4"
      ]
     },
     "metadata": {},
     "output_type": "display_data"
    },
    {
     "data": {
      "text/plain": [
       "Index(['30040_raw-Mean_corpuscular_volume',\n",
       "       '30050_raw-Mean_corpuscular_haemoglobin',\n",
       "       '30260_raw-Mean_reticulocyte_volume',\n",
       "       '30270_raw-Mean_sphered_cell_volume'],\n",
       "      dtype='object')"
      ]
     },
     "metadata": {},
     "output_type": "display_data"
    },
    {
     "data": {
      "text/html": [
       "<h3>Cluster 9.8</h3>"
      ],
      "text/plain": [
       "<IPython.core.display.HTML object>"
      ]
     },
     "metadata": {},
     "output_type": "display_data"
    },
    {
     "data": {
      "text/plain": [
       "18"
      ]
     },
     "metadata": {},
     "output_type": "display_data"
    },
    {
     "data": {
      "text/plain": [
       "Index(['21001_raw-Body_mass_index_BMI', '21002_raw-Weight', '23098_raw-Weight',\n",
       "       '23099_raw-Body_fat_percentage', '23100_raw-Whole_body_fat_mass',\n",
       "       '23104_raw-Body_mass_index_BMI', '23111_raw-Leg_fat_percentage_right',\n",
       "       '23112_raw-Leg_fat_mass_right', '23115_raw-Leg_fat_percentage_left',\n",
       "       '23116_raw-Leg_fat_mass_left', '23119_raw-Arm_fat_percentage_right',\n",
       "       '23120_raw-Arm_fat_mass_right', '23123_raw-Arm_fat_percentage_left',\n",
       "       '23124_raw-Arm_fat_mass_left', '23127_raw-Trunk_fat_percentage',\n",
       "       '23128_raw-Trunk_fat_mass', '48_raw-Waist_circumference',\n",
       "       '49_raw-Hip_circumference'],\n",
       "      dtype='object')"
      ]
     },
     "metadata": {},
     "output_type": "display_data"
    },
    {
     "data": {
      "text/html": [
       "<h2>Partition with k=10</h2>"
      ],
      "text/plain": [
       "<IPython.core.display.HTML object>"
      ]
     },
     "metadata": {},
     "output_type": "display_data"
    },
    {
     "data": {
      "text/plain": [
       "method                                                 scc_020\n",
       "partition    [0, 0, 0, 0, 0, 0, 0, 0, 0, 0, 0, 0, 0, 0, 0, ...\n",
       "ami_mean                                              0.301736\n",
       "selected                                                  True\n",
       "Name: 10, dtype: object"
      ]
     },
     "metadata": {},
     "output_type": "display_data"
    },
    {
     "data": {
      "text/plain": [
       "(3749,)"
      ]
     },
     "metadata": {},
     "output_type": "display_data"
    },
    {
     "data": {
      "text/plain": [
       "0    3655\n",
       "8      18\n",
       "9      17\n",
       "4      14\n",
       "5      12\n",
       "1      10\n",
       "2       8\n",
       "7       6\n",
       "3       5\n",
       "6       4\n",
       "dtype: int64"
      ]
     },
     "metadata": {},
     "output_type": "display_data"
    },
    {
     "data": {
      "text/html": [
       "<h3>Cluster 10.0</h3>"
      ],
      "text/plain": [
       "<IPython.core.display.HTML object>"
      ]
     },
     "metadata": {},
     "output_type": "display_data"
    },
    {
     "data": {
      "text/plain": [
       "3655"
      ]
     },
     "metadata": {},
     "output_type": "display_data"
    },
    {
     "data": {
      "text/plain": [
       "Index(['100001_raw-Food_weight', '100002_raw-Energy', '100003_raw-Protein',\n",
       "       '100004_raw-Fat', '100005_raw-Carbohydrate', '100006_raw-Saturated_fat',\n",
       "       '100007_raw-Polyunsaturated_fat', '100008_raw-Total_sugars',\n",
       "       '100009_raw-Englyst_dietary_fibre', '100010-Portion_size',\n",
       "       ...\n",
       "       'visual impairment', 'vitiligo', 'vitreous body disease',\n",
       "       'vocal cord polyp', 'voice disorders',\n",
       "       'wellbeing measurement AND family relationship', 'wheezing',\n",
       "       'whooping cough', 'worry measurement', 'wrist fracture'],\n",
       "      dtype='object', length=3655)"
      ]
     },
     "metadata": {},
     "output_type": "display_data"
    },
    {
     "data": {
      "text/html": [
       "<h3>Cluster 10.1</h3>"
      ],
      "text/plain": [
       "<IPython.core.display.HTML object>"
      ]
     },
     "metadata": {},
     "output_type": "display_data"
    },
    {
     "data": {
      "text/plain": [
       "10"
      ]
     },
     "metadata": {},
     "output_type": "display_data"
    },
    {
     "data": {
      "text/plain": [
       "Index(['30010_raw-Red_blood_cell_erythrocyte_count',\n",
       "       '30020_raw-Haemoglobin_concentration',\n",
       "       '30030_raw-Haematocrit_percentage',\n",
       "       '30070_raw-Red_blood_cell_erythrocyte_distribution_width',\n",
       "       '30080_raw-Platelet_count', '30090_raw-Platelet_crit',\n",
       "       '30100_raw-Mean_platelet_thrombocyte_volume',\n",
       "       '30110_raw-Platelet_distribution_width', 'erythrocyte count',\n",
       "       'platelet count'],\n",
       "      dtype='object')"
      ]
     },
     "metadata": {},
     "output_type": "display_data"
    },
    {
     "data": {
      "text/html": [
       "<h3>Cluster 10.2</h3>"
      ],
      "text/plain": [
       "<IPython.core.display.HTML object>"
      ]
     },
     "metadata": {},
     "output_type": "display_data"
    },
    {
     "data": {
      "text/plain": [
       "8"
      ]
     },
     "metadata": {},
     "output_type": "display_data"
    },
    {
     "data": {
      "text/plain": [
       "Index(['5096_raw-3mm_weak_meridian_left', '5097_raw-6mm_weak_meridian_left',\n",
       "       '5098_raw-6mm_weak_meridian_right', '5099_raw-3mm_weak_meridian_right',\n",
       "       '5132_raw-3mm_strong_meridian_right',\n",
       "       '5133_raw-6mm_strong_meridian_right',\n",
       "       '5134_raw-6mm_strong_meridian_left',\n",
       "       '5135_raw-3mm_strong_meridian_left'],\n",
       "      dtype='object')"
      ]
     },
     "metadata": {},
     "output_type": "display_data"
    },
    {
     "data": {
      "text/html": [
       "<h3>Cluster 10.3</h3>"
      ],
      "text/plain": [
       "<IPython.core.display.HTML object>"
      ]
     },
     "metadata": {},
     "output_type": "display_data"
    },
    {
     "data": {
      "text/plain": [
       "5"
      ]
     },
     "metadata": {},
     "output_type": "display_data"
    },
    {
     "data": {
      "text/plain": [
       "Index(['23106_raw-Impedance_of_whole_body', '23107_raw-Impedance_of_leg_right',\n",
       "       '23108_raw-Impedance_of_leg_left', '23109_raw-Impedance_of_arm_right',\n",
       "       '23110_raw-Impedance_of_arm_left'],\n",
       "      dtype='object')"
      ]
     },
     "metadata": {},
     "output_type": "display_data"
    },
    {
     "data": {
      "text/html": [
       "<h3>Cluster 10.4</h3>"
      ],
      "text/plain": [
       "<IPython.core.display.HTML object>"
      ]
     },
     "metadata": {},
     "output_type": "display_data"
    },
    {
     "data": {
      "text/plain": [
       "14"
      ]
     },
     "metadata": {},
     "output_type": "display_data"
    },
    {
     "data": {
      "text/plain": [
       "Index(['30000_raw-White_blood_cell_leukocyte_count',\n",
       "       '30130_raw-Monocyte_count', '30140_raw-Neutrophill_count',\n",
       "       '30150-Eosinophill_count', '30180_raw-Lymphocyte_percentage',\n",
       "       '30190_raw-Monocyte_percentage', '30200_raw-Neutrophill_percentage',\n",
       "       '30210_raw-Eosinophill_percentage', 'eosinophil count',\n",
       "       'granulocyte count', 'leukocyte count', 'monocyte count',\n",
       "       'myeloid white cell count', 'neutrophil count'],\n",
       "      dtype='object')"
      ]
     },
     "metadata": {},
     "output_type": "display_data"
    },
    {
     "data": {
      "text/html": [
       "<h3>Cluster 10.5</h3>"
      ],
      "text/plain": [
       "<IPython.core.display.HTML object>"
      ]
     },
     "metadata": {},
     "output_type": "display_data"
    },
    {
     "data": {
      "text/plain": [
       "12"
      ]
     },
     "metadata": {},
     "output_type": "display_data"
    },
    {
     "data": {
      "text/plain": [
       "Index(['3144_raw-Heel_Broadband_ultrasound_attenuation_direct_entry',\n",
       "       '3147_raw-Heel_quantitative_ultrasound_index_QUI_direct_entry',\n",
       "       '3148_raw-Heel_bone_mineral_density_BMD',\n",
       "       '4101_raw-Heel_broadband_ultrasound_attenuation_left',\n",
       "       '4104_raw-Heel_quantitative_ultrasound_index_QUI_direct_entry_left',\n",
       "       '4105_raw-Heel_bone_mineral_density_BMD_left',\n",
       "       '4106_raw-Heel_bone_mineral_density_BMD_Tscore_automated_left',\n",
       "       '4120_raw-Heel_broadband_ultrasound_attenuation_right',\n",
       "       '4123_raw-Heel_quantitative_ultrasound_index_QUI_direct_entry_right',\n",
       "       '4124_raw-Heel_bone_mineral_density_BMD_right',\n",
       "       '4125_raw-Heel_bone_mineral_density_BMD_Tscore_automated_right',\n",
       "       '78_raw-Heel_bone_mineral_density_BMD_Tscore_automated'],\n",
       "      dtype='object')"
      ]
     },
     "metadata": {},
     "output_type": "display_data"
    },
    {
     "data": {
      "text/html": [
       "<h3>Cluster 10.6</h3>"
      ],
      "text/plain": [
       "<IPython.core.display.HTML object>"
      ]
     },
     "metadata": {},
     "output_type": "display_data"
    },
    {
     "data": {
      "text/plain": [
       "4"
      ]
     },
     "metadata": {},
     "output_type": "display_data"
    },
    {
     "data": {
      "text/plain": [
       "Index(['30040_raw-Mean_corpuscular_volume',\n",
       "       '30050_raw-Mean_corpuscular_haemoglobin',\n",
       "       '30260_raw-Mean_reticulocyte_volume',\n",
       "       '30270_raw-Mean_sphered_cell_volume'],\n",
       "      dtype='object')"
      ]
     },
     "metadata": {},
     "output_type": "display_data"
    },
    {
     "data": {
      "text/html": [
       "<h3>Cluster 10.7</h3>"
      ],
      "text/plain": [
       "<IPython.core.display.HTML object>"
      ]
     },
     "metadata": {},
     "output_type": "display_data"
    },
    {
     "data": {
      "text/plain": [
       "6"
      ]
     },
     "metadata": {},
     "output_type": "display_data"
    },
    {
     "data": {
      "text/plain": [
       "Index(['30240_raw-Reticulocyte_percentage', '30250_raw-Reticulocyte_count',\n",
       "       '30280_raw-Immature_reticulocyte_fraction',\n",
       "       '30290_raw-High_light_scatter_reticulocyte_percentage',\n",
       "       '30300_raw-High_light_scatter_reticulocyte_count',\n",
       "       'reticulocyte count'],\n",
       "      dtype='object')"
      ]
     },
     "metadata": {},
     "output_type": "display_data"
    },
    {
     "data": {
      "text/html": [
       "<h3>Cluster 10.8</h3>"
      ],
      "text/plain": [
       "<IPython.core.display.HTML object>"
      ]
     },
     "metadata": {},
     "output_type": "display_data"
    },
    {
     "data": {
      "text/plain": [
       "18"
      ]
     },
     "metadata": {},
     "output_type": "display_data"
    },
    {
     "data": {
      "text/plain": [
       "Index(['21001_raw-Body_mass_index_BMI', '21002_raw-Weight', '23098_raw-Weight',\n",
       "       '23099_raw-Body_fat_percentage', '23100_raw-Whole_body_fat_mass',\n",
       "       '23104_raw-Body_mass_index_BMI', '23111_raw-Leg_fat_percentage_right',\n",
       "       '23112_raw-Leg_fat_mass_right', '23115_raw-Leg_fat_percentage_left',\n",
       "       '23116_raw-Leg_fat_mass_left', '23119_raw-Arm_fat_percentage_right',\n",
       "       '23120_raw-Arm_fat_mass_right', '23123_raw-Arm_fat_percentage_left',\n",
       "       '23124_raw-Arm_fat_mass_left', '23127_raw-Trunk_fat_percentage',\n",
       "       '23128_raw-Trunk_fat_mass', '48_raw-Waist_circumference',\n",
       "       '49_raw-Hip_circumference'],\n",
       "      dtype='object')"
      ]
     },
     "metadata": {},
     "output_type": "display_data"
    },
    {
     "data": {
      "text/html": [
       "<h3>Cluster 10.9</h3>"
      ],
      "text/plain": [
       "<IPython.core.display.HTML object>"
      ]
     },
     "metadata": {},
     "output_type": "display_data"
    },
    {
     "data": {
      "text/plain": [
       "17"
      ]
     },
     "metadata": {},
     "output_type": "display_data"
    },
    {
     "data": {
      "text/plain": [
       "Index(['20015_raw-Sitting_height',\n",
       "       '20153_raw-Forced_expiratory_volume_in_1second_FEV1_predicted',\n",
       "       '23101_raw-Whole_body_fatfree_mass', '23102_raw-Whole_body_water_mass',\n",
       "       '23105_raw-Basal_metabolic_rate', '23113_raw-Leg_fatfree_mass_right',\n",
       "       '23114_raw-Leg_predicted_mass_right', '23117_raw-Leg_fatfree_mass_left',\n",
       "       '23118_raw-Leg_predicted_mass_left', '23121_raw-Arm_fatfree_mass_right',\n",
       "       '23122_raw-Arm_predicted_mass_right', '23125_raw-Arm_fatfree_mass_left',\n",
       "       '23126_raw-Arm_predicted_mass_left', '23129_raw-Trunk_fatfree_mass',\n",
       "       '23130_raw-Trunk_predicted_mass', '50_raw-Standing_height',\n",
       "       'body height'],\n",
       "      dtype='object')"
      ]
     },
     "metadata": {},
     "output_type": "display_data"
    },
    {
     "data": {
      "text/html": [
       "<h2>Partition with k=11</h2>"
      ],
      "text/plain": [
       "<IPython.core.display.HTML object>"
      ]
     },
     "metadata": {},
     "output_type": "display_data"
    },
    {
     "data": {
      "text/plain": [
       "method                                                 scc_020\n",
       "partition    [0, 0, 0, 0, 0, 0, 0, 0, 0, 0, 0, 0, 0, 0, 0, ...\n",
       "ami_mean                                              0.301837\n",
       "selected                                                  True\n",
       "Name: 11, dtype: object"
      ]
     },
     "metadata": {},
     "output_type": "display_data"
    },
    {
     "data": {
      "text/plain": [
       "(3749,)"
      ]
     },
     "metadata": {},
     "output_type": "display_data"
    },
    {
     "data": {
      "text/plain": [
       "0     3655\n",
       "10      18\n",
       "3       14\n",
       "7       13\n",
       "9       12\n",
       "8       10\n",
       "6        8\n",
       "5        6\n",
       "2        5\n",
       "1        4\n",
       "4        4\n",
       "dtype: int64"
      ]
     },
     "metadata": {},
     "output_type": "display_data"
    },
    {
     "data": {
      "text/html": [
       "<h3>Cluster 11.0</h3>"
      ],
      "text/plain": [
       "<IPython.core.display.HTML object>"
      ]
     },
     "metadata": {},
     "output_type": "display_data"
    },
    {
     "data": {
      "text/plain": [
       "3655"
      ]
     },
     "metadata": {},
     "output_type": "display_data"
    },
    {
     "data": {
      "text/plain": [
       "Index(['100001_raw-Food_weight', '100002_raw-Energy', '100003_raw-Protein',\n",
       "       '100004_raw-Fat', '100005_raw-Carbohydrate', '100006_raw-Saturated_fat',\n",
       "       '100007_raw-Polyunsaturated_fat', '100008_raw-Total_sugars',\n",
       "       '100009_raw-Englyst_dietary_fibre', '100010-Portion_size',\n",
       "       ...\n",
       "       'visual impairment', 'vitiligo', 'vitreous body disease',\n",
       "       'vocal cord polyp', 'voice disorders',\n",
       "       'wellbeing measurement AND family relationship', 'wheezing',\n",
       "       'whooping cough', 'worry measurement', 'wrist fracture'],\n",
       "      dtype='object', length=3655)"
      ]
     },
     "metadata": {},
     "output_type": "display_data"
    },
    {
     "data": {
      "text/html": [
       "<h3>Cluster 11.1</h3>"
      ],
      "text/plain": [
       "<IPython.core.display.HTML object>"
      ]
     },
     "metadata": {},
     "output_type": "display_data"
    },
    {
     "data": {
      "text/plain": [
       "4"
      ]
     },
     "metadata": {},
     "output_type": "display_data"
    },
    {
     "data": {
      "text/plain": [
       "Index(['30040_raw-Mean_corpuscular_volume',\n",
       "       '30050_raw-Mean_corpuscular_haemoglobin',\n",
       "       '30260_raw-Mean_reticulocyte_volume',\n",
       "       '30270_raw-Mean_sphered_cell_volume'],\n",
       "      dtype='object')"
      ]
     },
     "metadata": {},
     "output_type": "display_data"
    },
    {
     "data": {
      "text/html": [
       "<h3>Cluster 11.2</h3>"
      ],
      "text/plain": [
       "<IPython.core.display.HTML object>"
      ]
     },
     "metadata": {},
     "output_type": "display_data"
    },
    {
     "data": {
      "text/plain": [
       "5"
      ]
     },
     "metadata": {},
     "output_type": "display_data"
    },
    {
     "data": {
      "text/plain": [
       "Index(['23106_raw-Impedance_of_whole_body', '23107_raw-Impedance_of_leg_right',\n",
       "       '23108_raw-Impedance_of_leg_left', '23109_raw-Impedance_of_arm_right',\n",
       "       '23110_raw-Impedance_of_arm_left'],\n",
       "      dtype='object')"
      ]
     },
     "metadata": {},
     "output_type": "display_data"
    },
    {
     "data": {
      "text/html": [
       "<h3>Cluster 11.3</h3>"
      ],
      "text/plain": [
       "<IPython.core.display.HTML object>"
      ]
     },
     "metadata": {},
     "output_type": "display_data"
    },
    {
     "data": {
      "text/plain": [
       "14"
      ]
     },
     "metadata": {},
     "output_type": "display_data"
    },
    {
     "data": {
      "text/plain": [
       "Index(['30000_raw-White_blood_cell_leukocyte_count',\n",
       "       '30130_raw-Monocyte_count', '30140_raw-Neutrophill_count',\n",
       "       '30150-Eosinophill_count', '30180_raw-Lymphocyte_percentage',\n",
       "       '30190_raw-Monocyte_percentage', '30200_raw-Neutrophill_percentage',\n",
       "       '30210_raw-Eosinophill_percentage', 'eosinophil count',\n",
       "       'granulocyte count', 'leukocyte count', 'monocyte count',\n",
       "       'myeloid white cell count', 'neutrophil count'],\n",
       "      dtype='object')"
      ]
     },
     "metadata": {},
     "output_type": "display_data"
    },
    {
     "data": {
      "text/html": [
       "<h3>Cluster 11.4</h3>"
      ],
      "text/plain": [
       "<IPython.core.display.HTML object>"
      ]
     },
     "metadata": {},
     "output_type": "display_data"
    },
    {
     "data": {
      "text/plain": [
       "4"
      ]
     },
     "metadata": {},
     "output_type": "display_data"
    },
    {
     "data": {
      "text/plain": [
       "Index(['20015_raw-Sitting_height',\n",
       "       '20153_raw-Forced_expiratory_volume_in_1second_FEV1_predicted',\n",
       "       '50_raw-Standing_height', 'body height'],\n",
       "      dtype='object')"
      ]
     },
     "metadata": {},
     "output_type": "display_data"
    },
    {
     "data": {
      "text/html": [
       "<h3>Cluster 11.5</h3>"
      ],
      "text/plain": [
       "<IPython.core.display.HTML object>"
      ]
     },
     "metadata": {},
     "output_type": "display_data"
    },
    {
     "data": {
      "text/plain": [
       "6"
      ]
     },
     "metadata": {},
     "output_type": "display_data"
    },
    {
     "data": {
      "text/plain": [
       "Index(['30240_raw-Reticulocyte_percentage', '30250_raw-Reticulocyte_count',\n",
       "       '30280_raw-Immature_reticulocyte_fraction',\n",
       "       '30290_raw-High_light_scatter_reticulocyte_percentage',\n",
       "       '30300_raw-High_light_scatter_reticulocyte_count',\n",
       "       'reticulocyte count'],\n",
       "      dtype='object')"
      ]
     },
     "metadata": {},
     "output_type": "display_data"
    },
    {
     "data": {
      "text/html": [
       "<h3>Cluster 11.6</h3>"
      ],
      "text/plain": [
       "<IPython.core.display.HTML object>"
      ]
     },
     "metadata": {},
     "output_type": "display_data"
    },
    {
     "data": {
      "text/plain": [
       "8"
      ]
     },
     "metadata": {},
     "output_type": "display_data"
    },
    {
     "data": {
      "text/plain": [
       "Index(['5096_raw-3mm_weak_meridian_left', '5097_raw-6mm_weak_meridian_left',\n",
       "       '5098_raw-6mm_weak_meridian_right', '5099_raw-3mm_weak_meridian_right',\n",
       "       '5132_raw-3mm_strong_meridian_right',\n",
       "       '5133_raw-6mm_strong_meridian_right',\n",
       "       '5134_raw-6mm_strong_meridian_left',\n",
       "       '5135_raw-3mm_strong_meridian_left'],\n",
       "      dtype='object')"
      ]
     },
     "metadata": {},
     "output_type": "display_data"
    },
    {
     "data": {
      "text/html": [
       "<h3>Cluster 11.7</h3>"
      ],
      "text/plain": [
       "<IPython.core.display.HTML object>"
      ]
     },
     "metadata": {},
     "output_type": "display_data"
    },
    {
     "data": {
      "text/plain": [
       "13"
      ]
     },
     "metadata": {},
     "output_type": "display_data"
    },
    {
     "data": {
      "text/plain": [
       "Index(['23101_raw-Whole_body_fatfree_mass', '23102_raw-Whole_body_water_mass',\n",
       "       '23105_raw-Basal_metabolic_rate', '23113_raw-Leg_fatfree_mass_right',\n",
       "       '23114_raw-Leg_predicted_mass_right', '23117_raw-Leg_fatfree_mass_left',\n",
       "       '23118_raw-Leg_predicted_mass_left', '23121_raw-Arm_fatfree_mass_right',\n",
       "       '23122_raw-Arm_predicted_mass_right', '23125_raw-Arm_fatfree_mass_left',\n",
       "       '23126_raw-Arm_predicted_mass_left', '23129_raw-Trunk_fatfree_mass',\n",
       "       '23130_raw-Trunk_predicted_mass'],\n",
       "      dtype='object')"
      ]
     },
     "metadata": {},
     "output_type": "display_data"
    },
    {
     "data": {
      "text/html": [
       "<h3>Cluster 11.8</h3>"
      ],
      "text/plain": [
       "<IPython.core.display.HTML object>"
      ]
     },
     "metadata": {},
     "output_type": "display_data"
    },
    {
     "data": {
      "text/plain": [
       "10"
      ]
     },
     "metadata": {},
     "output_type": "display_data"
    },
    {
     "data": {
      "text/plain": [
       "Index(['30010_raw-Red_blood_cell_erythrocyte_count',\n",
       "       '30020_raw-Haemoglobin_concentration',\n",
       "       '30030_raw-Haematocrit_percentage',\n",
       "       '30070_raw-Red_blood_cell_erythrocyte_distribution_width',\n",
       "       '30080_raw-Platelet_count', '30090_raw-Platelet_crit',\n",
       "       '30100_raw-Mean_platelet_thrombocyte_volume',\n",
       "       '30110_raw-Platelet_distribution_width', 'erythrocyte count',\n",
       "       'platelet count'],\n",
       "      dtype='object')"
      ]
     },
     "metadata": {},
     "output_type": "display_data"
    },
    {
     "data": {
      "text/html": [
       "<h3>Cluster 11.9</h3>"
      ],
      "text/plain": [
       "<IPython.core.display.HTML object>"
      ]
     },
     "metadata": {},
     "output_type": "display_data"
    },
    {
     "data": {
      "text/plain": [
       "12"
      ]
     },
     "metadata": {},
     "output_type": "display_data"
    },
    {
     "data": {
      "text/plain": [
       "Index(['3144_raw-Heel_Broadband_ultrasound_attenuation_direct_entry',\n",
       "       '3147_raw-Heel_quantitative_ultrasound_index_QUI_direct_entry',\n",
       "       '3148_raw-Heel_bone_mineral_density_BMD',\n",
       "       '4101_raw-Heel_broadband_ultrasound_attenuation_left',\n",
       "       '4104_raw-Heel_quantitative_ultrasound_index_QUI_direct_entry_left',\n",
       "       '4105_raw-Heel_bone_mineral_density_BMD_left',\n",
       "       '4106_raw-Heel_bone_mineral_density_BMD_Tscore_automated_left',\n",
       "       '4120_raw-Heel_broadband_ultrasound_attenuation_right',\n",
       "       '4123_raw-Heel_quantitative_ultrasound_index_QUI_direct_entry_right',\n",
       "       '4124_raw-Heel_bone_mineral_density_BMD_right',\n",
       "       '4125_raw-Heel_bone_mineral_density_BMD_Tscore_automated_right',\n",
       "       '78_raw-Heel_bone_mineral_density_BMD_Tscore_automated'],\n",
       "      dtype='object')"
      ]
     },
     "metadata": {},
     "output_type": "display_data"
    },
    {
     "data": {
      "text/html": [
       "<h3>Cluster 11.10</h3>"
      ],
      "text/plain": [
       "<IPython.core.display.HTML object>"
      ]
     },
     "metadata": {},
     "output_type": "display_data"
    },
    {
     "data": {
      "text/plain": [
       "18"
      ]
     },
     "metadata": {},
     "output_type": "display_data"
    },
    {
     "data": {
      "text/plain": [
       "Index(['21001_raw-Body_mass_index_BMI', '21002_raw-Weight', '23098_raw-Weight',\n",
       "       '23099_raw-Body_fat_percentage', '23100_raw-Whole_body_fat_mass',\n",
       "       '23104_raw-Body_mass_index_BMI', '23111_raw-Leg_fat_percentage_right',\n",
       "       '23112_raw-Leg_fat_mass_right', '23115_raw-Leg_fat_percentage_left',\n",
       "       '23116_raw-Leg_fat_mass_left', '23119_raw-Arm_fat_percentage_right',\n",
       "       '23120_raw-Arm_fat_mass_right', '23123_raw-Arm_fat_percentage_left',\n",
       "       '23124_raw-Arm_fat_mass_left', '23127_raw-Trunk_fat_percentage',\n",
       "       '23128_raw-Trunk_fat_mass', '48_raw-Waist_circumference',\n",
       "       '49_raw-Hip_circumference'],\n",
       "      dtype='object')"
      ]
     },
     "metadata": {},
     "output_type": "display_data"
    },
    {
     "data": {
      "text/html": [
       "<h2>Partition with k=13</h2>"
      ],
      "text/plain": [
       "<IPython.core.display.HTML object>"
      ]
     },
     "metadata": {},
     "output_type": "display_data"
    },
    {
     "data": {
      "text/plain": [
       "method                                                 scc_020\n",
       "partition    [0, 0, 0, 0, 0, 0, 0, 0, 0, 0, 0, 0, 0, 0, 0, ...\n",
       "ami_mean                                              0.298894\n",
       "selected                                                  True\n",
       "Name: 13, dtype: object"
      ]
     },
     "metadata": {},
     "output_type": "display_data"
    },
    {
     "data": {
      "text/plain": [
       "(3749,)"
      ]
     },
     "metadata": {},
     "output_type": "display_data"
    },
    {
     "data": {
      "text/plain": [
       "0     3649\n",
       "8       18\n",
       "4       14\n",
       "11      13\n",
       "9       12\n",
       "6        8\n",
       "7        6\n",
       "10       6\n",
       "5        5\n",
       "12       5\n",
       "2        5\n",
       "3        4\n",
       "1        4\n",
       "dtype: int64"
      ]
     },
     "metadata": {},
     "output_type": "display_data"
    },
    {
     "data": {
      "text/html": [
       "<h3>Cluster 13.0</h3>"
      ],
      "text/plain": [
       "<IPython.core.display.HTML object>"
      ]
     },
     "metadata": {},
     "output_type": "display_data"
    },
    {
     "data": {
      "text/plain": [
       "3649"
      ]
     },
     "metadata": {},
     "output_type": "display_data"
    },
    {
     "data": {
      "text/plain": [
       "Index(['100001_raw-Food_weight', '100002_raw-Energy', '100003_raw-Protein',\n",
       "       '100004_raw-Fat', '100005_raw-Carbohydrate', '100006_raw-Saturated_fat',\n",
       "       '100007_raw-Polyunsaturated_fat', '100008_raw-Total_sugars',\n",
       "       '100009_raw-Englyst_dietary_fibre', '100010-Portion_size',\n",
       "       ...\n",
       "       'visual impairment', 'vitiligo', 'vitreous body disease',\n",
       "       'vocal cord polyp', 'voice disorders',\n",
       "       'wellbeing measurement AND family relationship', 'wheezing',\n",
       "       'whooping cough', 'worry measurement', 'wrist fracture'],\n",
       "      dtype='object', length=3649)"
      ]
     },
     "metadata": {},
     "output_type": "display_data"
    },
    {
     "data": {
      "text/html": [
       "<h3>Cluster 13.1</h3>"
      ],
      "text/plain": [
       "<IPython.core.display.HTML object>"
      ]
     },
     "metadata": {},
     "output_type": "display_data"
    },
    {
     "data": {
      "text/plain": [
       "4"
      ]
     },
     "metadata": {},
     "output_type": "display_data"
    },
    {
     "data": {
      "text/plain": [
       "Index(['30040_raw-Mean_corpuscular_volume',\n",
       "       '30050_raw-Mean_corpuscular_haemoglobin',\n",
       "       '30260_raw-Mean_reticulocyte_volume',\n",
       "       '30270_raw-Mean_sphered_cell_volume'],\n",
       "      dtype='object')"
      ]
     },
     "metadata": {},
     "output_type": "display_data"
    },
    {
     "data": {
      "text/html": [
       "<h3>Cluster 13.2</h3>"
      ],
      "text/plain": [
       "<IPython.core.display.HTML object>"
      ]
     },
     "metadata": {},
     "output_type": "display_data"
    },
    {
     "data": {
      "text/plain": [
       "5"
      ]
     },
     "metadata": {},
     "output_type": "display_data"
    },
    {
     "data": {
      "text/plain": [
       "Index(['23106_raw-Impedance_of_whole_body', '23107_raw-Impedance_of_leg_right',\n",
       "       '23108_raw-Impedance_of_leg_left', '23109_raw-Impedance_of_arm_right',\n",
       "       '23110_raw-Impedance_of_arm_left'],\n",
       "      dtype='object')"
      ]
     },
     "metadata": {},
     "output_type": "display_data"
    },
    {
     "data": {
      "text/html": [
       "<h3>Cluster 13.3</h3>"
      ],
      "text/plain": [
       "<IPython.core.display.HTML object>"
      ]
     },
     "metadata": {},
     "output_type": "display_data"
    },
    {
     "data": {
      "text/plain": [
       "4"
      ]
     },
     "metadata": {},
     "output_type": "display_data"
    },
    {
     "data": {
      "text/plain": [
       "Index(['20015_raw-Sitting_height',\n",
       "       '20153_raw-Forced_expiratory_volume_in_1second_FEV1_predicted',\n",
       "       '50_raw-Standing_height', 'body height'],\n",
       "      dtype='object')"
      ]
     },
     "metadata": {},
     "output_type": "display_data"
    },
    {
     "data": {
      "text/html": [
       "<h3>Cluster 13.4</h3>"
      ],
      "text/plain": [
       "<IPython.core.display.HTML object>"
      ]
     },
     "metadata": {},
     "output_type": "display_data"
    },
    {
     "data": {
      "text/plain": [
       "14"
      ]
     },
     "metadata": {},
     "output_type": "display_data"
    },
    {
     "data": {
      "text/plain": [
       "Index(['30000_raw-White_blood_cell_leukocyte_count',\n",
       "       '30130_raw-Monocyte_count', '30140_raw-Neutrophill_count',\n",
       "       '30150-Eosinophill_count', '30180_raw-Lymphocyte_percentage',\n",
       "       '30190_raw-Monocyte_percentage', '30200_raw-Neutrophill_percentage',\n",
       "       '30210_raw-Eosinophill_percentage', 'eosinophil count',\n",
       "       'granulocyte count', 'leukocyte count', 'monocyte count',\n",
       "       'myeloid white cell count', 'neutrophil count'],\n",
       "      dtype='object')"
      ]
     },
     "metadata": {},
     "output_type": "display_data"
    },
    {
     "data": {
      "text/html": [
       "<h3>Cluster 13.5</h3>"
      ],
      "text/plain": [
       "<IPython.core.display.HTML object>"
      ]
     },
     "metadata": {},
     "output_type": "display_data"
    },
    {
     "data": {
      "text/plain": [
       "5"
      ]
     },
     "metadata": {},
     "output_type": "display_data"
    },
    {
     "data": {
      "text/plain": [
       "Index(['30080_raw-Platelet_count', '30090_raw-Platelet_crit',\n",
       "       '30100_raw-Mean_platelet_thrombocyte_volume',\n",
       "       '30110_raw-Platelet_distribution_width', 'platelet count'],\n",
       "      dtype='object')"
      ]
     },
     "metadata": {},
     "output_type": "display_data"
    },
    {
     "data": {
      "text/html": [
       "<h3>Cluster 13.6</h3>"
      ],
      "text/plain": [
       "<IPython.core.display.HTML object>"
      ]
     },
     "metadata": {},
     "output_type": "display_data"
    },
    {
     "data": {
      "text/plain": [
       "8"
      ]
     },
     "metadata": {},
     "output_type": "display_data"
    },
    {
     "data": {
      "text/plain": [
       "Index(['5096_raw-3mm_weak_meridian_left', '5097_raw-6mm_weak_meridian_left',\n",
       "       '5098_raw-6mm_weak_meridian_right', '5099_raw-3mm_weak_meridian_right',\n",
       "       '5132_raw-3mm_strong_meridian_right',\n",
       "       '5133_raw-6mm_strong_meridian_right',\n",
       "       '5134_raw-6mm_strong_meridian_left',\n",
       "       '5135_raw-3mm_strong_meridian_left'],\n",
       "      dtype='object')"
      ]
     },
     "metadata": {},
     "output_type": "display_data"
    },
    {
     "data": {
      "text/html": [
       "<h3>Cluster 13.7</h3>"
      ],
      "text/plain": [
       "<IPython.core.display.HTML object>"
      ]
     },
     "metadata": {},
     "output_type": "display_data"
    },
    {
     "data": {
      "text/plain": [
       "6"
      ]
     },
     "metadata": {},
     "output_type": "display_data"
    },
    {
     "data": {
      "text/plain": [
       "Index(['30240_raw-Reticulocyte_percentage', '30250_raw-Reticulocyte_count',\n",
       "       '30280_raw-Immature_reticulocyte_fraction',\n",
       "       '30290_raw-High_light_scatter_reticulocyte_percentage',\n",
       "       '30300_raw-High_light_scatter_reticulocyte_count',\n",
       "       'reticulocyte count'],\n",
       "      dtype='object')"
      ]
     },
     "metadata": {},
     "output_type": "display_data"
    },
    {
     "data": {
      "text/html": [
       "<h3>Cluster 13.8</h3>"
      ],
      "text/plain": [
       "<IPython.core.display.HTML object>"
      ]
     },
     "metadata": {},
     "output_type": "display_data"
    },
    {
     "data": {
      "text/plain": [
       "18"
      ]
     },
     "metadata": {},
     "output_type": "display_data"
    },
    {
     "data": {
      "text/plain": [
       "Index(['21001_raw-Body_mass_index_BMI', '21002_raw-Weight', '23098_raw-Weight',\n",
       "       '23099_raw-Body_fat_percentage', '23100_raw-Whole_body_fat_mass',\n",
       "       '23104_raw-Body_mass_index_BMI', '23111_raw-Leg_fat_percentage_right',\n",
       "       '23112_raw-Leg_fat_mass_right', '23115_raw-Leg_fat_percentage_left',\n",
       "       '23116_raw-Leg_fat_mass_left', '23119_raw-Arm_fat_percentage_right',\n",
       "       '23120_raw-Arm_fat_mass_right', '23123_raw-Arm_fat_percentage_left',\n",
       "       '23124_raw-Arm_fat_mass_left', '23127_raw-Trunk_fat_percentage',\n",
       "       '23128_raw-Trunk_fat_mass', '48_raw-Waist_circumference',\n",
       "       '49_raw-Hip_circumference'],\n",
       "      dtype='object')"
      ]
     },
     "metadata": {},
     "output_type": "display_data"
    },
    {
     "data": {
      "text/html": [
       "<h3>Cluster 13.9</h3>"
      ],
      "text/plain": [
       "<IPython.core.display.HTML object>"
      ]
     },
     "metadata": {},
     "output_type": "display_data"
    },
    {
     "data": {
      "text/plain": [
       "12"
      ]
     },
     "metadata": {},
     "output_type": "display_data"
    },
    {
     "data": {
      "text/plain": [
       "Index(['3144_raw-Heel_Broadband_ultrasound_attenuation_direct_entry',\n",
       "       '3147_raw-Heel_quantitative_ultrasound_index_QUI_direct_entry',\n",
       "       '3148_raw-Heel_bone_mineral_density_BMD',\n",
       "       '4101_raw-Heel_broadband_ultrasound_attenuation_left',\n",
       "       '4104_raw-Heel_quantitative_ultrasound_index_QUI_direct_entry_left',\n",
       "       '4105_raw-Heel_bone_mineral_density_BMD_left',\n",
       "       '4106_raw-Heel_bone_mineral_density_BMD_Tscore_automated_left',\n",
       "       '4120_raw-Heel_broadband_ultrasound_attenuation_right',\n",
       "       '4123_raw-Heel_quantitative_ultrasound_index_QUI_direct_entry_right',\n",
       "       '4124_raw-Heel_bone_mineral_density_BMD_right',\n",
       "       '4125_raw-Heel_bone_mineral_density_BMD_Tscore_automated_right',\n",
       "       '78_raw-Heel_bone_mineral_density_BMD_Tscore_automated'],\n",
       "      dtype='object')"
      ]
     },
     "metadata": {},
     "output_type": "display_data"
    },
    {
     "data": {
      "text/html": [
       "<h3>Cluster 13.10</h3>"
      ],
      "text/plain": [
       "<IPython.core.display.HTML object>"
      ]
     },
     "metadata": {},
     "output_type": "display_data"
    },
    {
     "data": {
      "text/plain": [
       "6"
      ]
     },
     "metadata": {},
     "output_type": "display_data"
    },
    {
     "data": {
      "text/plain": [
       "Index(['4079_raw-Diastolic_blood_pressure_automated_reading',\n",
       "       '4080_raw-Systolic_blood_pressure_automated_reading',\n",
       "       '6150_100-Vascularheart_problems_diagnosed_by_doctor_None_of_the_above',\n",
       "       '6150_4-Vascularheart_problems_diagnosed_by_doctor_High_blood_pressure',\n",
       "       '6153_2-Medication_for_cholesterol_blood_pressure_diabetes_or_take_exogenous_hormones_Blood_pressure_medication',\n",
       "       'hypertension'],\n",
       "      dtype='object')"
      ]
     },
     "metadata": {},
     "output_type": "display_data"
    },
    {
     "data": {
      "text/html": [
       "<h3>Cluster 13.11</h3>"
      ],
      "text/plain": [
       "<IPython.core.display.HTML object>"
      ]
     },
     "metadata": {},
     "output_type": "display_data"
    },
    {
     "data": {
      "text/plain": [
       "13"
      ]
     },
     "metadata": {},
     "output_type": "display_data"
    },
    {
     "data": {
      "text/plain": [
       "Index(['23101_raw-Whole_body_fatfree_mass', '23102_raw-Whole_body_water_mass',\n",
       "       '23105_raw-Basal_metabolic_rate', '23113_raw-Leg_fatfree_mass_right',\n",
       "       '23114_raw-Leg_predicted_mass_right', '23117_raw-Leg_fatfree_mass_left',\n",
       "       '23118_raw-Leg_predicted_mass_left', '23121_raw-Arm_fatfree_mass_right',\n",
       "       '23122_raw-Arm_predicted_mass_right', '23125_raw-Arm_fatfree_mass_left',\n",
       "       '23126_raw-Arm_predicted_mass_left', '23129_raw-Trunk_fatfree_mass',\n",
       "       '23130_raw-Trunk_predicted_mass'],\n",
       "      dtype='object')"
      ]
     },
     "metadata": {},
     "output_type": "display_data"
    },
    {
     "data": {
      "text/html": [
       "<h3>Cluster 13.12</h3>"
      ],
      "text/plain": [
       "<IPython.core.display.HTML object>"
      ]
     },
     "metadata": {},
     "output_type": "display_data"
    },
    {
     "data": {
      "text/plain": [
       "5"
      ]
     },
     "metadata": {},
     "output_type": "display_data"
    },
    {
     "data": {
      "text/plain": [
       "Index(['30010_raw-Red_blood_cell_erythrocyte_count',\n",
       "       '30020_raw-Haemoglobin_concentration',\n",
       "       '30030_raw-Haematocrit_percentage',\n",
       "       '30070_raw-Red_blood_cell_erythrocyte_distribution_width',\n",
       "       'erythrocyte count'],\n",
       "      dtype='object')"
      ]
     },
     "metadata": {},
     "output_type": "display_data"
    },
    {
     "data": {
      "text/html": [
       "<h2>Partition with k=14</h2>"
      ],
      "text/plain": [
       "<IPython.core.display.HTML object>"
      ]
     },
     "metadata": {},
     "output_type": "display_data"
    },
    {
     "data": {
      "text/plain": [
       "method                                                 scc_020\n",
       "partition    [0, 0, 0, 0, 0, 0, 0, 0, 0, 0, 0, 0, 0, 0, 0, ...\n",
       "ami_mean                                              0.296078\n",
       "selected                                                  True\n",
       "Name: 14, dtype: object"
      ]
     },
     "metadata": {},
     "output_type": "display_data"
    },
    {
     "data": {
      "text/plain": [
       "(3749,)"
      ]
     },
     "metadata": {},
     "output_type": "display_data"
    },
    {
     "data": {
      "text/plain": [
       "0     3641\n",
       "9       18\n",
       "5       14\n",
       "11      13\n",
       "8       12\n",
       "7        8\n",
       "12       8\n",
       "10       6\n",
       "6        6\n",
       "13       5\n",
       "4        5\n",
       "2        5\n",
       "3        4\n",
       "1        4\n",
       "dtype: int64"
      ]
     },
     "metadata": {},
     "output_type": "display_data"
    },
    {
     "data": {
      "text/html": [
       "<h3>Cluster 14.0</h3>"
      ],
      "text/plain": [
       "<IPython.core.display.HTML object>"
      ]
     },
     "metadata": {},
     "output_type": "display_data"
    },
    {
     "data": {
      "text/plain": [
       "3641"
      ]
     },
     "metadata": {},
     "output_type": "display_data"
    },
    {
     "data": {
      "text/plain": [
       "Index(['100001_raw-Food_weight', '100002_raw-Energy', '100003_raw-Protein',\n",
       "       '100004_raw-Fat', '100005_raw-Carbohydrate', '100006_raw-Saturated_fat',\n",
       "       '100007_raw-Polyunsaturated_fat', '100008_raw-Total_sugars',\n",
       "       '100009_raw-Englyst_dietary_fibre', '100010-Portion_size',\n",
       "       ...\n",
       "       'visual impairment', 'vitiligo', 'vitreous body disease',\n",
       "       'vocal cord polyp', 'voice disorders',\n",
       "       'wellbeing measurement AND family relationship', 'wheezing',\n",
       "       'whooping cough', 'worry measurement', 'wrist fracture'],\n",
       "      dtype='object', length=3641)"
      ]
     },
     "metadata": {},
     "output_type": "display_data"
    },
    {
     "data": {
      "text/html": [
       "<h3>Cluster 14.1</h3>"
      ],
      "text/plain": [
       "<IPython.core.display.HTML object>"
      ]
     },
     "metadata": {},
     "output_type": "display_data"
    },
    {
     "data": {
      "text/plain": [
       "4"
      ]
     },
     "metadata": {},
     "output_type": "display_data"
    },
    {
     "data": {
      "text/plain": [
       "Index(['20015_raw-Sitting_height',\n",
       "       '20153_raw-Forced_expiratory_volume_in_1second_FEV1_predicted',\n",
       "       '50_raw-Standing_height', 'body height'],\n",
       "      dtype='object')"
      ]
     },
     "metadata": {},
     "output_type": "display_data"
    },
    {
     "data": {
      "text/html": [
       "<h3>Cluster 14.2</h3>"
      ],
      "text/plain": [
       "<IPython.core.display.HTML object>"
      ]
     },
     "metadata": {},
     "output_type": "display_data"
    },
    {
     "data": {
      "text/plain": [
       "5"
      ]
     },
     "metadata": {},
     "output_type": "display_data"
    },
    {
     "data": {
      "text/plain": [
       "Index(['30080_raw-Platelet_count', '30090_raw-Platelet_crit',\n",
       "       '30100_raw-Mean_platelet_thrombocyte_volume',\n",
       "       '30110_raw-Platelet_distribution_width', 'platelet count'],\n",
       "      dtype='object')"
      ]
     },
     "metadata": {},
     "output_type": "display_data"
    },
    {
     "data": {
      "text/html": [
       "<h3>Cluster 14.3</h3>"
      ],
      "text/plain": [
       "<IPython.core.display.HTML object>"
      ]
     },
     "metadata": {},
     "output_type": "display_data"
    },
    {
     "data": {
      "text/plain": [
       "4"
      ]
     },
     "metadata": {},
     "output_type": "display_data"
    },
    {
     "data": {
      "text/plain": [
       "Index(['30040_raw-Mean_corpuscular_volume',\n",
       "       '30050_raw-Mean_corpuscular_haemoglobin',\n",
       "       '30260_raw-Mean_reticulocyte_volume',\n",
       "       '30270_raw-Mean_sphered_cell_volume'],\n",
       "      dtype='object')"
      ]
     },
     "metadata": {},
     "output_type": "display_data"
    },
    {
     "data": {
      "text/html": [
       "<h3>Cluster 14.4</h3>"
      ],
      "text/plain": [
       "<IPython.core.display.HTML object>"
      ]
     },
     "metadata": {},
     "output_type": "display_data"
    },
    {
     "data": {
      "text/plain": [
       "5"
      ]
     },
     "metadata": {},
     "output_type": "display_data"
    },
    {
     "data": {
      "text/plain": [
       "Index(['23106_raw-Impedance_of_whole_body', '23107_raw-Impedance_of_leg_right',\n",
       "       '23108_raw-Impedance_of_leg_left', '23109_raw-Impedance_of_arm_right',\n",
       "       '23110_raw-Impedance_of_arm_left'],\n",
       "      dtype='object')"
      ]
     },
     "metadata": {},
     "output_type": "display_data"
    },
    {
     "data": {
      "text/html": [
       "<h3>Cluster 14.5</h3>"
      ],
      "text/plain": [
       "<IPython.core.display.HTML object>"
      ]
     },
     "metadata": {},
     "output_type": "display_data"
    },
    {
     "data": {
      "text/plain": [
       "14"
      ]
     },
     "metadata": {},
     "output_type": "display_data"
    },
    {
     "data": {
      "text/plain": [
       "Index(['30000_raw-White_blood_cell_leukocyte_count',\n",
       "       '30130_raw-Monocyte_count', '30140_raw-Neutrophill_count',\n",
       "       '30150-Eosinophill_count', '30180_raw-Lymphocyte_percentage',\n",
       "       '30190_raw-Monocyte_percentage', '30200_raw-Neutrophill_percentage',\n",
       "       '30210_raw-Eosinophill_percentage', 'eosinophil count',\n",
       "       'granulocyte count', 'leukocyte count', 'monocyte count',\n",
       "       'myeloid white cell count', 'neutrophil count'],\n",
       "      dtype='object')"
      ]
     },
     "metadata": {},
     "output_type": "display_data"
    },
    {
     "data": {
      "text/html": [
       "<h3>Cluster 14.6</h3>"
      ],
      "text/plain": [
       "<IPython.core.display.HTML object>"
      ]
     },
     "metadata": {},
     "output_type": "display_data"
    },
    {
     "data": {
      "text/plain": [
       "6"
      ]
     },
     "metadata": {},
     "output_type": "display_data"
    },
    {
     "data": {
      "text/plain": [
       "Index(['30240_raw-Reticulocyte_percentage', '30250_raw-Reticulocyte_count',\n",
       "       '30280_raw-Immature_reticulocyte_fraction',\n",
       "       '30290_raw-High_light_scatter_reticulocyte_percentage',\n",
       "       '30300_raw-High_light_scatter_reticulocyte_count',\n",
       "       'reticulocyte count'],\n",
       "      dtype='object')"
      ]
     },
     "metadata": {},
     "output_type": "display_data"
    },
    {
     "data": {
      "text/html": [
       "<h3>Cluster 14.7</h3>"
      ],
      "text/plain": [
       "<IPython.core.display.HTML object>"
      ]
     },
     "metadata": {},
     "output_type": "display_data"
    },
    {
     "data": {
      "text/plain": [
       "8"
      ]
     },
     "metadata": {},
     "output_type": "display_data"
    },
    {
     "data": {
      "text/plain": [
       "Index(['5096_raw-3mm_weak_meridian_left', '5097_raw-6mm_weak_meridian_left',\n",
       "       '5098_raw-6mm_weak_meridian_right', '5099_raw-3mm_weak_meridian_right',\n",
       "       '5132_raw-3mm_strong_meridian_right',\n",
       "       '5133_raw-6mm_strong_meridian_right',\n",
       "       '5134_raw-6mm_strong_meridian_left',\n",
       "       '5135_raw-3mm_strong_meridian_left'],\n",
       "      dtype='object')"
      ]
     },
     "metadata": {},
     "output_type": "display_data"
    },
    {
     "data": {
      "text/html": [
       "<h3>Cluster 14.8</h3>"
      ],
      "text/plain": [
       "<IPython.core.display.HTML object>"
      ]
     },
     "metadata": {},
     "output_type": "display_data"
    },
    {
     "data": {
      "text/plain": [
       "12"
      ]
     },
     "metadata": {},
     "output_type": "display_data"
    },
    {
     "data": {
      "text/plain": [
       "Index(['3144_raw-Heel_Broadband_ultrasound_attenuation_direct_entry',\n",
       "       '3147_raw-Heel_quantitative_ultrasound_index_QUI_direct_entry',\n",
       "       '3148_raw-Heel_bone_mineral_density_BMD',\n",
       "       '4101_raw-Heel_broadband_ultrasound_attenuation_left',\n",
       "       '4104_raw-Heel_quantitative_ultrasound_index_QUI_direct_entry_left',\n",
       "       '4105_raw-Heel_bone_mineral_density_BMD_left',\n",
       "       '4106_raw-Heel_bone_mineral_density_BMD_Tscore_automated_left',\n",
       "       '4120_raw-Heel_broadband_ultrasound_attenuation_right',\n",
       "       '4123_raw-Heel_quantitative_ultrasound_index_QUI_direct_entry_right',\n",
       "       '4124_raw-Heel_bone_mineral_density_BMD_right',\n",
       "       '4125_raw-Heel_bone_mineral_density_BMD_Tscore_automated_right',\n",
       "       '78_raw-Heel_bone_mineral_density_BMD_Tscore_automated'],\n",
       "      dtype='object')"
      ]
     },
     "metadata": {},
     "output_type": "display_data"
    },
    {
     "data": {
      "text/html": [
       "<h3>Cluster 14.9</h3>"
      ],
      "text/plain": [
       "<IPython.core.display.HTML object>"
      ]
     },
     "metadata": {},
     "output_type": "display_data"
    },
    {
     "data": {
      "text/plain": [
       "18"
      ]
     },
     "metadata": {},
     "output_type": "display_data"
    },
    {
     "data": {
      "text/plain": [
       "Index(['21001_raw-Body_mass_index_BMI', '21002_raw-Weight', '23098_raw-Weight',\n",
       "       '23099_raw-Body_fat_percentage', '23100_raw-Whole_body_fat_mass',\n",
       "       '23104_raw-Body_mass_index_BMI', '23111_raw-Leg_fat_percentage_right',\n",
       "       '23112_raw-Leg_fat_mass_right', '23115_raw-Leg_fat_percentage_left',\n",
       "       '23116_raw-Leg_fat_mass_left', '23119_raw-Arm_fat_percentage_right',\n",
       "       '23120_raw-Arm_fat_mass_right', '23123_raw-Arm_fat_percentage_left',\n",
       "       '23124_raw-Arm_fat_mass_left', '23127_raw-Trunk_fat_percentage',\n",
       "       '23128_raw-Trunk_fat_mass', '48_raw-Waist_circumference',\n",
       "       '49_raw-Hip_circumference'],\n",
       "      dtype='object')"
      ]
     },
     "metadata": {},
     "output_type": "display_data"
    },
    {
     "data": {
      "text/html": [
       "<h3>Cluster 14.10</h3>"
      ],
      "text/plain": [
       "<IPython.core.display.HTML object>"
      ]
     },
     "metadata": {},
     "output_type": "display_data"
    },
    {
     "data": {
      "text/plain": [
       "6"
      ]
     },
     "metadata": {},
     "output_type": "display_data"
    },
    {
     "data": {
      "text/plain": [
       "Index(['4079_raw-Diastolic_blood_pressure_automated_reading',\n",
       "       '4080_raw-Systolic_blood_pressure_automated_reading',\n",
       "       '6150_100-Vascularheart_problems_diagnosed_by_doctor_None_of_the_above',\n",
       "       '6150_4-Vascularheart_problems_diagnosed_by_doctor_High_blood_pressure',\n",
       "       '6153_2-Medication_for_cholesterol_blood_pressure_diabetes_or_take_exogenous_hormones_Blood_pressure_medication',\n",
       "       'hypertension'],\n",
       "      dtype='object')"
      ]
     },
     "metadata": {},
     "output_type": "display_data"
    },
    {
     "data": {
      "text/html": [
       "<h3>Cluster 14.11</h3>"
      ],
      "text/plain": [
       "<IPython.core.display.HTML object>"
      ]
     },
     "metadata": {},
     "output_type": "display_data"
    },
    {
     "data": {
      "text/plain": [
       "13"
      ]
     },
     "metadata": {},
     "output_type": "display_data"
    },
    {
     "data": {
      "text/plain": [
       "Index(['23101_raw-Whole_body_fatfree_mass', '23102_raw-Whole_body_water_mass',\n",
       "       '23105_raw-Basal_metabolic_rate', '23113_raw-Leg_fatfree_mass_right',\n",
       "       '23114_raw-Leg_predicted_mass_right', '23117_raw-Leg_fatfree_mass_left',\n",
       "       '23118_raw-Leg_predicted_mass_left', '23121_raw-Arm_fatfree_mass_right',\n",
       "       '23122_raw-Arm_predicted_mass_right', '23125_raw-Arm_fatfree_mass_left',\n",
       "       '23126_raw-Arm_predicted_mass_left', '23129_raw-Trunk_fatfree_mass',\n",
       "       '23130_raw-Trunk_predicted_mass'],\n",
       "      dtype='object')"
      ]
     },
     "metadata": {},
     "output_type": "display_data"
    },
    {
     "data": {
      "text/html": [
       "<h3>Cluster 14.12</h3>"
      ],
      "text/plain": [
       "<IPython.core.display.HTML object>"
      ]
     },
     "metadata": {},
     "output_type": "display_data"
    },
    {
     "data": {
      "text/plain": [
       "8"
      ]
     },
     "metadata": {},
     "output_type": "display_data"
    },
    {
     "data": {
      "text/plain": [
       "Index(['1717-Skin_colour', '1727-Ease_of_skin_tanning',\n",
       "       '1737-Childhood_sunburn_occasions',\n",
       "       '1747_1-Hair_colour_natural_before_greying_Blonde',\n",
       "       '1747_2-Hair_colour_natural_before_greying_Red',\n",
       "       '1747_3-Hair_colour_natural_before_greying_Light_brown',\n",
       "       '1747_4-Hair_colour_natural_before_greying_Dark_brown',\n",
       "       '1747_5-Hair_colour_natural_before_greying_Black'],\n",
       "      dtype='object')"
      ]
     },
     "metadata": {},
     "output_type": "display_data"
    },
    {
     "data": {
      "text/html": [
       "<h3>Cluster 14.13</h3>"
      ],
      "text/plain": [
       "<IPython.core.display.HTML object>"
      ]
     },
     "metadata": {},
     "output_type": "display_data"
    },
    {
     "data": {
      "text/plain": [
       "5"
      ]
     },
     "metadata": {},
     "output_type": "display_data"
    },
    {
     "data": {
      "text/plain": [
       "Index(['30010_raw-Red_blood_cell_erythrocyte_count',\n",
       "       '30020_raw-Haemoglobin_concentration',\n",
       "       '30030_raw-Haematocrit_percentage',\n",
       "       '30070_raw-Red_blood_cell_erythrocyte_distribution_width',\n",
       "       'erythrocyte count'],\n",
       "      dtype='object')"
      ]
     },
     "metadata": {},
     "output_type": "display_data"
    },
    {
     "data": {
      "text/html": [
       "<h2>Partition with k=19</h2>"
      ],
      "text/plain": [
       "<IPython.core.display.HTML object>"
      ]
     },
     "metadata": {},
     "output_type": "display_data"
    },
    {
     "data": {
      "text/plain": [
       "method                                                 scc_020\n",
       "partition    [0, 0, 0, 0, 0, 0, 0, 0, 0, 0, 0, 0, 0, 0, 0, ...\n",
       "ami_mean                                              0.294183\n",
       "selected                                                  True\n",
       "Name: 19, dtype: object"
      ]
     },
     "metadata": {},
     "output_type": "display_data"
    },
    {
     "data": {
      "text/plain": [
       "(3749,)"
      ]
     },
     "metadata": {},
     "output_type": "display_data"
    },
    {
     "data": {
      "text/plain": [
       "0     3629\n",
       "15      18\n",
       "14      13\n",
       "11      12\n",
       "8        8\n",
       "17       8\n",
       "13       8\n",
       "16       6\n",
       "9        6\n",
       "12       6\n",
       "6        6\n",
       "7        5\n",
       "2        5\n",
       "3        4\n",
       "10       4\n",
       "4        4\n",
       "5        3\n",
       "1        3\n",
       "18       1\n",
       "dtype: int64"
      ]
     },
     "metadata": {},
     "output_type": "display_data"
    },
    {
     "data": {
      "text/html": [
       "<h3>Cluster 19.0</h3>"
      ],
      "text/plain": [
       "<IPython.core.display.HTML object>"
      ]
     },
     "metadata": {},
     "output_type": "display_data"
    },
    {
     "data": {
      "text/plain": [
       "3629"
      ]
     },
     "metadata": {},
     "output_type": "display_data"
    },
    {
     "data": {
      "text/plain": [
       "Index(['100001_raw-Food_weight', '100002_raw-Energy', '100003_raw-Protein',\n",
       "       '100004_raw-Fat', '100005_raw-Carbohydrate', '100006_raw-Saturated_fat',\n",
       "       '100007_raw-Polyunsaturated_fat', '100008_raw-Total_sugars',\n",
       "       '100009_raw-Englyst_dietary_fibre', '100010-Portion_size',\n",
       "       ...\n",
       "       'visual impairment', 'vitiligo', 'vitreous body disease',\n",
       "       'vocal cord polyp', 'voice disorders',\n",
       "       'wellbeing measurement AND family relationship', 'wheezing',\n",
       "       'whooping cough', 'worry measurement', 'wrist fracture'],\n",
       "      dtype='object', length=3629)"
      ]
     },
     "metadata": {},
     "output_type": "display_data"
    },
    {
     "data": {
      "text/html": [
       "<h3>Cluster 19.1</h3>"
      ],
      "text/plain": [
       "<IPython.core.display.HTML object>"
      ]
     },
     "metadata": {},
     "output_type": "display_data"
    },
    {
     "data": {
      "text/plain": [
       "3"
      ]
     },
     "metadata": {},
     "output_type": "display_data"
    },
    {
     "data": {
      "text/plain": [
       "Index(['20015_raw-Sitting_height', '50_raw-Standing_height', 'body height'], dtype='object')"
      ]
     },
     "metadata": {},
     "output_type": "display_data"
    },
    {
     "data": {
      "text/html": [
       "<h3>Cluster 19.2</h3>"
      ],
      "text/plain": [
       "<IPython.core.display.HTML object>"
      ]
     },
     "metadata": {},
     "output_type": "display_data"
    },
    {
     "data": {
      "text/plain": [
       "5"
      ]
     },
     "metadata": {},
     "output_type": "display_data"
    },
    {
     "data": {
      "text/plain": [
       "Index(['30080_raw-Platelet_count', '30090_raw-Platelet_crit',\n",
       "       '30100_raw-Mean_platelet_thrombocyte_volume',\n",
       "       '30110_raw-Platelet_distribution_width', 'platelet count'],\n",
       "      dtype='object')"
      ]
     },
     "metadata": {},
     "output_type": "display_data"
    },
    {
     "data": {
      "text/html": [
       "<h3>Cluster 19.3</h3>"
      ],
      "text/plain": [
       "<IPython.core.display.HTML object>"
      ]
     },
     "metadata": {},
     "output_type": "display_data"
    },
    {
     "data": {
      "text/plain": [
       "4"
      ]
     },
     "metadata": {},
     "output_type": "display_data"
    },
    {
     "data": {
      "text/plain": [
       "Index(['30040_raw-Mean_corpuscular_volume',\n",
       "       '30050_raw-Mean_corpuscular_haemoglobin',\n",
       "       '30260_raw-Mean_reticulocyte_volume',\n",
       "       '30270_raw-Mean_sphered_cell_volume'],\n",
       "      dtype='object')"
      ]
     },
     "metadata": {},
     "output_type": "display_data"
    },
    {
     "data": {
      "text/html": [
       "<h3>Cluster 19.4</h3>"
      ],
      "text/plain": [
       "<IPython.core.display.HTML object>"
      ]
     },
     "metadata": {},
     "output_type": "display_data"
    },
    {
     "data": {
      "text/plain": [
       "4"
      ]
     },
     "metadata": {},
     "output_type": "display_data"
    },
    {
     "data": {
      "text/plain": [
       "Index(['30010_raw-Red_blood_cell_erythrocyte_count',\n",
       "       '30020_raw-Haemoglobin_concentration',\n",
       "       '30030_raw-Haematocrit_percentage', 'erythrocyte count'],\n",
       "      dtype='object')"
      ]
     },
     "metadata": {},
     "output_type": "display_data"
    },
    {
     "data": {
      "text/html": [
       "<h3>Cluster 19.5</h3>"
      ],
      "text/plain": [
       "<IPython.core.display.HTML object>"
      ]
     },
     "metadata": {},
     "output_type": "display_data"
    },
    {
     "data": {
      "text/plain": [
       "3"
      ]
     },
     "metadata": {},
     "output_type": "display_data"
    },
    {
     "data": {
      "text/plain": [
       "Index(['30150-Eosinophill_count', '30210_raw-Eosinophill_percentage',\n",
       "       'eosinophil count'],\n",
       "      dtype='object')"
      ]
     },
     "metadata": {},
     "output_type": "display_data"
    },
    {
     "data": {
      "text/html": [
       "<h3>Cluster 19.6</h3>"
      ],
      "text/plain": [
       "<IPython.core.display.HTML object>"
      ]
     },
     "metadata": {},
     "output_type": "display_data"
    },
    {
     "data": {
      "text/plain": [
       "6"
      ]
     },
     "metadata": {},
     "output_type": "display_data"
    },
    {
     "data": {
      "text/plain": [
       "Index(['30240_raw-Reticulocyte_percentage', '30250_raw-Reticulocyte_count',\n",
       "       '30280_raw-Immature_reticulocyte_fraction',\n",
       "       '30290_raw-High_light_scatter_reticulocyte_percentage',\n",
       "       '30300_raw-High_light_scatter_reticulocyte_count',\n",
       "       'reticulocyte count'],\n",
       "      dtype='object')"
      ]
     },
     "metadata": {},
     "output_type": "display_data"
    },
    {
     "data": {
      "text/html": [
       "<h3>Cluster 19.7</h3>"
      ],
      "text/plain": [
       "<IPython.core.display.HTML object>"
      ]
     },
     "metadata": {},
     "output_type": "display_data"
    },
    {
     "data": {
      "text/plain": [
       "5"
      ]
     },
     "metadata": {},
     "output_type": "display_data"
    },
    {
     "data": {
      "text/plain": [
       "Index(['23106_raw-Impedance_of_whole_body', '23107_raw-Impedance_of_leg_right',\n",
       "       '23108_raw-Impedance_of_leg_left', '23109_raw-Impedance_of_arm_right',\n",
       "       '23110_raw-Impedance_of_arm_left'],\n",
       "      dtype='object')"
      ]
     },
     "metadata": {},
     "output_type": "display_data"
    },
    {
     "data": {
      "text/html": [
       "<h3>Cluster 19.8</h3>"
      ],
      "text/plain": [
       "<IPython.core.display.HTML object>"
      ]
     },
     "metadata": {},
     "output_type": "display_data"
    },
    {
     "data": {
      "text/plain": [
       "8"
      ]
     },
     "metadata": {},
     "output_type": "display_data"
    },
    {
     "data": {
      "text/plain": [
       "Index(['5096_raw-3mm_weak_meridian_left', '5097_raw-6mm_weak_meridian_left',\n",
       "       '5098_raw-6mm_weak_meridian_right', '5099_raw-3mm_weak_meridian_right',\n",
       "       '5132_raw-3mm_strong_meridian_right',\n",
       "       '5133_raw-6mm_strong_meridian_right',\n",
       "       '5134_raw-6mm_strong_meridian_left',\n",
       "       '5135_raw-3mm_strong_meridian_left'],\n",
       "      dtype='object')"
      ]
     },
     "metadata": {},
     "output_type": "display_data"
    },
    {
     "data": {
      "text/html": [
       "<h3>Cluster 19.9</h3>"
      ],
      "text/plain": [
       "<IPython.core.display.HTML object>"
      ]
     },
     "metadata": {},
     "output_type": "display_data"
    },
    {
     "data": {
      "text/plain": [
       "6"
      ]
     },
     "metadata": {},
     "output_type": "display_data"
    },
    {
     "data": {
      "text/plain": [
       "Index(['30000_raw-White_blood_cell_leukocyte_count',\n",
       "       '30140_raw-Neutrophill_count', 'granulocyte count', 'leukocyte count',\n",
       "       'myeloid white cell count', 'neutrophil count'],\n",
       "      dtype='object')"
      ]
     },
     "metadata": {},
     "output_type": "display_data"
    },
    {
     "data": {
      "text/html": [
       "<h3>Cluster 19.10</h3>"
      ],
      "text/plain": [
       "<IPython.core.display.HTML object>"
      ]
     },
     "metadata": {},
     "output_type": "display_data"
    },
    {
     "data": {
      "text/plain": [
       "4"
      ]
     },
     "metadata": {},
     "output_type": "display_data"
    },
    {
     "data": {
      "text/plain": [
       "Index(['20150_raw-Forced_expiratory_volume_in_1second_FEV1_Best_measure',\n",
       "       '20151_raw-Forced_vital_capacity_FVC_Best_measure',\n",
       "       '3062_raw-Forced_vital_capacity_FVC',\n",
       "       '3063_raw-Forced_expiratory_volume_in_1second_FEV1'],\n",
       "      dtype='object')"
      ]
     },
     "metadata": {},
     "output_type": "display_data"
    },
    {
     "data": {
      "text/html": [
       "<h3>Cluster 19.11</h3>"
      ],
      "text/plain": [
       "<IPython.core.display.HTML object>"
      ]
     },
     "metadata": {},
     "output_type": "display_data"
    },
    {
     "data": {
      "text/plain": [
       "12"
      ]
     },
     "metadata": {},
     "output_type": "display_data"
    },
    {
     "data": {
      "text/plain": [
       "Index(['3144_raw-Heel_Broadband_ultrasound_attenuation_direct_entry',\n",
       "       '3147_raw-Heel_quantitative_ultrasound_index_QUI_direct_entry',\n",
       "       '3148_raw-Heel_bone_mineral_density_BMD',\n",
       "       '4101_raw-Heel_broadband_ultrasound_attenuation_left',\n",
       "       '4104_raw-Heel_quantitative_ultrasound_index_QUI_direct_entry_left',\n",
       "       '4105_raw-Heel_bone_mineral_density_BMD_left',\n",
       "       '4106_raw-Heel_bone_mineral_density_BMD_Tscore_automated_left',\n",
       "       '4120_raw-Heel_broadband_ultrasound_attenuation_right',\n",
       "       '4123_raw-Heel_quantitative_ultrasound_index_QUI_direct_entry_right',\n",
       "       '4124_raw-Heel_bone_mineral_density_BMD_right',\n",
       "       '4125_raw-Heel_bone_mineral_density_BMD_Tscore_automated_right',\n",
       "       '78_raw-Heel_bone_mineral_density_BMD_Tscore_automated'],\n",
       "      dtype='object')"
      ]
     },
     "metadata": {},
     "output_type": "display_data"
    },
    {
     "data": {
      "text/html": [
       "<h3>Cluster 19.12</h3>"
      ],
      "text/plain": [
       "<IPython.core.display.HTML object>"
      ]
     },
     "metadata": {},
     "output_type": "display_data"
    },
    {
     "data": {
      "text/plain": [
       "6"
      ]
     },
     "metadata": {},
     "output_type": "display_data"
    },
    {
     "data": {
      "text/plain": [
       "Index(['4079_raw-Diastolic_blood_pressure_automated_reading',\n",
       "       '4080_raw-Systolic_blood_pressure_automated_reading',\n",
       "       '6150_100-Vascularheart_problems_diagnosed_by_doctor_None_of_the_above',\n",
       "       '6150_4-Vascularheart_problems_diagnosed_by_doctor_High_blood_pressure',\n",
       "       '6153_2-Medication_for_cholesterol_blood_pressure_diabetes_or_take_exogenous_hormones_Blood_pressure_medication',\n",
       "       'hypertension'],\n",
       "      dtype='object')"
      ]
     },
     "metadata": {},
     "output_type": "display_data"
    },
    {
     "data": {
      "text/html": [
       "<h3>Cluster 19.13</h3>"
      ],
      "text/plain": [
       "<IPython.core.display.HTML object>"
      ]
     },
     "metadata": {},
     "output_type": "display_data"
    },
    {
     "data": {
      "text/plain": [
       "8"
      ]
     },
     "metadata": {},
     "output_type": "display_data"
    },
    {
     "data": {
      "text/plain": [
       "Index(['1717-Skin_colour', '1727-Ease_of_skin_tanning',\n",
       "       '1737-Childhood_sunburn_occasions',\n",
       "       '1747_1-Hair_colour_natural_before_greying_Blonde',\n",
       "       '1747_2-Hair_colour_natural_before_greying_Red',\n",
       "       '1747_3-Hair_colour_natural_before_greying_Light_brown',\n",
       "       '1747_4-Hair_colour_natural_before_greying_Dark_brown',\n",
       "       '1747_5-Hair_colour_natural_before_greying_Black'],\n",
       "      dtype='object')"
      ]
     },
     "metadata": {},
     "output_type": "display_data"
    },
    {
     "data": {
      "text/html": [
       "<h3>Cluster 19.14</h3>"
      ],
      "text/plain": [
       "<IPython.core.display.HTML object>"
      ]
     },
     "metadata": {},
     "output_type": "display_data"
    },
    {
     "data": {
      "text/plain": [
       "13"
      ]
     },
     "metadata": {},
     "output_type": "display_data"
    },
    {
     "data": {
      "text/plain": [
       "Index(['23101_raw-Whole_body_fatfree_mass', '23102_raw-Whole_body_water_mass',\n",
       "       '23105_raw-Basal_metabolic_rate', '23113_raw-Leg_fatfree_mass_right',\n",
       "       '23114_raw-Leg_predicted_mass_right', '23117_raw-Leg_fatfree_mass_left',\n",
       "       '23118_raw-Leg_predicted_mass_left', '23121_raw-Arm_fatfree_mass_right',\n",
       "       '23122_raw-Arm_predicted_mass_right', '23125_raw-Arm_fatfree_mass_left',\n",
       "       '23126_raw-Arm_predicted_mass_left', '23129_raw-Trunk_fatfree_mass',\n",
       "       '23130_raw-Trunk_predicted_mass'],\n",
       "      dtype='object')"
      ]
     },
     "metadata": {},
     "output_type": "display_data"
    },
    {
     "data": {
      "text/html": [
       "<h3>Cluster 19.15</h3>"
      ],
      "text/plain": [
       "<IPython.core.display.HTML object>"
      ]
     },
     "metadata": {},
     "output_type": "display_data"
    },
    {
     "data": {
      "text/plain": [
       "18"
      ]
     },
     "metadata": {},
     "output_type": "display_data"
    },
    {
     "data": {
      "text/plain": [
       "Index(['21001_raw-Body_mass_index_BMI', '21002_raw-Weight', '23098_raw-Weight',\n",
       "       '23099_raw-Body_fat_percentage', '23100_raw-Whole_body_fat_mass',\n",
       "       '23104_raw-Body_mass_index_BMI', '23111_raw-Leg_fat_percentage_right',\n",
       "       '23112_raw-Leg_fat_mass_right', '23115_raw-Leg_fat_percentage_left',\n",
       "       '23116_raw-Leg_fat_mass_left', '23119_raw-Arm_fat_percentage_right',\n",
       "       '23120_raw-Arm_fat_mass_right', '23123_raw-Arm_fat_percentage_left',\n",
       "       '23124_raw-Arm_fat_mass_left', '23127_raw-Trunk_fat_percentage',\n",
       "       '23128_raw-Trunk_fat_mass', '48_raw-Waist_circumference',\n",
       "       '49_raw-Hip_circumference'],\n",
       "      dtype='object')"
      ]
     },
     "metadata": {},
     "output_type": "display_data"
    },
    {
     "data": {
      "text/html": [
       "<h3>Cluster 19.16</h3>"
      ],
      "text/plain": [
       "<IPython.core.display.HTML object>"
      ]
     },
     "metadata": {},
     "output_type": "display_data"
    },
    {
     "data": {
      "text/plain": [
       "6"
      ]
     },
     "metadata": {},
     "output_type": "display_data"
    },
    {
     "data": {
      "text/plain": [
       "Index(['30130_raw-Monocyte_count', '30180_raw-Lymphocyte_percentage',\n",
       "       '30190_raw-Monocyte_percentage', '30200_raw-Neutrophill_percentage',\n",
       "       'lymphocyte count', 'monocyte count'],\n",
       "      dtype='object')"
      ]
     },
     "metadata": {},
     "output_type": "display_data"
    },
    {
     "data": {
      "text/html": [
       "<h3>Cluster 19.17</h3>"
      ],
      "text/plain": [
       "<IPython.core.display.HTML object>"
      ]
     },
     "metadata": {},
     "output_type": "display_data"
    },
    {
     "data": {
      "text/plain": [
       "8"
      ]
     },
     "metadata": {},
     "output_type": "display_data"
    },
    {
     "data": {
      "text/plain": [
       "Index(['20003_1141191044-Treatmentmedication_code_levothyroxine_sodium',\n",
       "       'K11_COELIAC-Coeliac_disease', 'celiac disease',\n",
       "       'hypothyroidism AND myxedema', 'malabsorption syndrome', 'psoriasis',\n",
       "       'rheumatoid arthritis', 'systemic lupus erythematosus'],\n",
       "      dtype='object')"
      ]
     },
     "metadata": {},
     "output_type": "display_data"
    },
    {
     "data": {
      "text/html": [
       "<h3>Cluster 19.18</h3>"
      ],
      "text/plain": [
       "<IPython.core.display.HTML object>"
      ]
     },
     "metadata": {},
     "output_type": "display_data"
    },
    {
     "data": {
      "text/plain": [
       "1"
      ]
     },
     "metadata": {},
     "output_type": "display_data"
    },
    {
     "data": {
      "text/plain": [
       "Index(['20153_raw-Forced_expiratory_volume_in_1second_FEV1_predicted'], dtype='object')"
      ]
     },
     "metadata": {},
     "output_type": "display_data"
    },
    {
     "data": {
      "text/html": [
       "<h2>Partition with k=21</h2>"
      ],
      "text/plain": [
       "<IPython.core.display.HTML object>"
      ]
     },
     "metadata": {},
     "output_type": "display_data"
    },
    {
     "data": {
      "text/plain": [
       "method                                                 scc_025\n",
       "partition    [0, 0, 0, 0, 0, 0, 0, 0, 0, 0, 0, 0, 0, 0, 0, ...\n",
       "ami_mean                                              0.289008\n",
       "selected                                                  True\n",
       "Name: 21, dtype: object"
      ]
     },
     "metadata": {},
     "output_type": "display_data"
    },
    {
     "data": {
      "text/plain": [
       "(3749,)"
      ]
     },
     "metadata": {},
     "output_type": "display_data"
    },
    {
     "data": {
      "text/plain": [
       "0     3407\n",
       "18     136\n",
       "15      61\n",
       "20      19\n",
       "5       18\n",
       "8       13\n",
       "16      12\n",
       "4       12\n",
       "17       9\n",
       "12       8\n",
       "6        8\n",
       "11       7\n",
       "9        6\n",
       "10       6\n",
       "13       5\n",
       "3        5\n",
       "7        5\n",
       "2        4\n",
       "19       4\n",
       "1        3\n",
       "14       1\n",
       "dtype: int64"
      ]
     },
     "metadata": {},
     "output_type": "display_data"
    },
    {
     "data": {
      "text/html": [
       "<h3>Cluster 21.0</h3>"
      ],
      "text/plain": [
       "<IPython.core.display.HTML object>"
      ]
     },
     "metadata": {},
     "output_type": "display_data"
    },
    {
     "data": {
      "text/plain": [
       "3407"
      ]
     },
     "metadata": {},
     "output_type": "display_data"
    },
    {
     "data": {
      "text/plain": [
       "Index(['100001_raw-Food_weight', '100002_raw-Energy', '100003_raw-Protein',\n",
       "       '100004_raw-Fat', '100005_raw-Carbohydrate', '100006_raw-Saturated_fat',\n",
       "       '100007_raw-Polyunsaturated_fat', '100008_raw-Total_sugars',\n",
       "       '100009_raw-Englyst_dietary_fibre', '100010-Portion_size',\n",
       "       ...\n",
       "       'viral disease', 'viral human hepatitis infection', 'viral meningitis',\n",
       "       'visual impairment', 'vitiligo', 'vitreous body disease',\n",
       "       'vocal cord polyp', 'voice disorders',\n",
       "       'wellbeing measurement AND family relationship', 'whooping cough'],\n",
       "      dtype='object', length=3407)"
      ]
     },
     "metadata": {},
     "output_type": "display_data"
    },
    {
     "data": {
      "text/html": [
       "<h3>Cluster 21.1</h3>"
      ],
      "text/plain": [
       "<IPython.core.display.HTML object>"
      ]
     },
     "metadata": {},
     "output_type": "display_data"
    },
    {
     "data": {
      "text/plain": [
       "3"
      ]
     },
     "metadata": {},
     "output_type": "display_data"
    },
    {
     "data": {
      "text/plain": [
       "Index(['20015_raw-Sitting_height', '50_raw-Standing_height', 'body height'], dtype='object')"
      ]
     },
     "metadata": {},
     "output_type": "display_data"
    },
    {
     "data": {
      "text/html": [
       "<h3>Cluster 21.2</h3>"
      ],
      "text/plain": [
       "<IPython.core.display.HTML object>"
      ]
     },
     "metadata": {},
     "output_type": "display_data"
    },
    {
     "data": {
      "text/plain": [
       "4"
      ]
     },
     "metadata": {},
     "output_type": "display_data"
    },
    {
     "data": {
      "text/plain": [
       "Index(['30040_raw-Mean_corpuscular_volume',\n",
       "       '30050_raw-Mean_corpuscular_haemoglobin',\n",
       "       '30260_raw-Mean_reticulocyte_volume',\n",
       "       '30270_raw-Mean_sphered_cell_volume'],\n",
       "      dtype='object')"
      ]
     },
     "metadata": {},
     "output_type": "display_data"
    },
    {
     "data": {
      "text/html": [
       "<h3>Cluster 21.3</h3>"
      ],
      "text/plain": [
       "<IPython.core.display.HTML object>"
      ]
     },
     "metadata": {},
     "output_type": "display_data"
    },
    {
     "data": {
      "text/plain": [
       "5"
      ]
     },
     "metadata": {},
     "output_type": "display_data"
    },
    {
     "data": {
      "text/plain": [
       "Index(['23106_raw-Impedance_of_whole_body', '23107_raw-Impedance_of_leg_right',\n",
       "       '23108_raw-Impedance_of_leg_left', '23109_raw-Impedance_of_arm_right',\n",
       "       '23110_raw-Impedance_of_arm_left'],\n",
       "      dtype='object')"
      ]
     },
     "metadata": {},
     "output_type": "display_data"
    },
    {
     "data": {
      "text/html": [
       "<h3>Cluster 21.4</h3>"
      ],
      "text/plain": [
       "<IPython.core.display.HTML object>"
      ]
     },
     "metadata": {},
     "output_type": "display_data"
    },
    {
     "data": {
      "text/plain": [
       "12"
      ]
     },
     "metadata": {},
     "output_type": "display_data"
    },
    {
     "data": {
      "text/plain": [
       "Index(['3144_raw-Heel_Broadband_ultrasound_attenuation_direct_entry',\n",
       "       '3147_raw-Heel_quantitative_ultrasound_index_QUI_direct_entry',\n",
       "       '3148_raw-Heel_bone_mineral_density_BMD',\n",
       "       '4101_raw-Heel_broadband_ultrasound_attenuation_left',\n",
       "       '4104_raw-Heel_quantitative_ultrasound_index_QUI_direct_entry_left',\n",
       "       '4105_raw-Heel_bone_mineral_density_BMD_left',\n",
       "       '4106_raw-Heel_bone_mineral_density_BMD_Tscore_automated_left',\n",
       "       '4120_raw-Heel_broadband_ultrasound_attenuation_right',\n",
       "       '4123_raw-Heel_quantitative_ultrasound_index_QUI_direct_entry_right',\n",
       "       '4124_raw-Heel_bone_mineral_density_BMD_right',\n",
       "       '4125_raw-Heel_bone_mineral_density_BMD_Tscore_automated_right',\n",
       "       '78_raw-Heel_bone_mineral_density_BMD_Tscore_automated'],\n",
       "      dtype='object')"
      ]
     },
     "metadata": {},
     "output_type": "display_data"
    },
    {
     "data": {
      "text/html": [
       "<h3>Cluster 21.5</h3>"
      ],
      "text/plain": [
       "<IPython.core.display.HTML object>"
      ]
     },
     "metadata": {},
     "output_type": "display_data"
    },
    {
     "data": {
      "text/plain": [
       "18"
      ]
     },
     "metadata": {},
     "output_type": "display_data"
    },
    {
     "data": {
      "text/plain": [
       "Index(['21001_raw-Body_mass_index_BMI', '21002_raw-Weight', '23098_raw-Weight',\n",
       "       '23099_raw-Body_fat_percentage', '23100_raw-Whole_body_fat_mass',\n",
       "       '23104_raw-Body_mass_index_BMI', '23111_raw-Leg_fat_percentage_right',\n",
       "       '23112_raw-Leg_fat_mass_right', '23115_raw-Leg_fat_percentage_left',\n",
       "       '23116_raw-Leg_fat_mass_left', '23119_raw-Arm_fat_percentage_right',\n",
       "       '23120_raw-Arm_fat_mass_right', '23123_raw-Arm_fat_percentage_left',\n",
       "       '23124_raw-Arm_fat_mass_left', '23127_raw-Trunk_fat_percentage',\n",
       "       '23128_raw-Trunk_fat_mass', '48_raw-Waist_circumference',\n",
       "       '49_raw-Hip_circumference'],\n",
       "      dtype='object')"
      ]
     },
     "metadata": {},
     "output_type": "display_data"
    },
    {
     "data": {
      "text/html": [
       "<h3>Cluster 21.6</h3>"
      ],
      "text/plain": [
       "<IPython.core.display.HTML object>"
      ]
     },
     "metadata": {},
     "output_type": "display_data"
    },
    {
     "data": {
      "text/plain": [
       "8"
      ]
     },
     "metadata": {},
     "output_type": "display_data"
    },
    {
     "data": {
      "text/plain": [
       "Index(['5096_raw-3mm_weak_meridian_left', '5097_raw-6mm_weak_meridian_left',\n",
       "       '5098_raw-6mm_weak_meridian_right', '5099_raw-3mm_weak_meridian_right',\n",
       "       '5132_raw-3mm_strong_meridian_right',\n",
       "       '5133_raw-6mm_strong_meridian_right',\n",
       "       '5134_raw-6mm_strong_meridian_left',\n",
       "       '5135_raw-3mm_strong_meridian_left'],\n",
       "      dtype='object')"
      ]
     },
     "metadata": {},
     "output_type": "display_data"
    },
    {
     "data": {
      "text/html": [
       "<h3>Cluster 21.7</h3>"
      ],
      "text/plain": [
       "<IPython.core.display.HTML object>"
      ]
     },
     "metadata": {},
     "output_type": "display_data"
    },
    {
     "data": {
      "text/plain": [
       "5"
      ]
     },
     "metadata": {},
     "output_type": "display_data"
    },
    {
     "data": {
      "text/plain": [
       "Index(['30080_raw-Platelet_count', '30090_raw-Platelet_crit',\n",
       "       '30100_raw-Mean_platelet_thrombocyte_volume',\n",
       "       '30110_raw-Platelet_distribution_width', 'platelet count'],\n",
       "      dtype='object')"
      ]
     },
     "metadata": {},
     "output_type": "display_data"
    },
    {
     "data": {
      "text/html": [
       "<h3>Cluster 21.8</h3>"
      ],
      "text/plain": [
       "<IPython.core.display.HTML object>"
      ]
     },
     "metadata": {},
     "output_type": "display_data"
    },
    {
     "data": {
      "text/plain": [
       "13"
      ]
     },
     "metadata": {},
     "output_type": "display_data"
    },
    {
     "data": {
      "text/plain": [
       "Index(['23101_raw-Whole_body_fatfree_mass', '23102_raw-Whole_body_water_mass',\n",
       "       '23105_raw-Basal_metabolic_rate', '23113_raw-Leg_fatfree_mass_right',\n",
       "       '23114_raw-Leg_predicted_mass_right', '23117_raw-Leg_fatfree_mass_left',\n",
       "       '23118_raw-Leg_predicted_mass_left', '23121_raw-Arm_fatfree_mass_right',\n",
       "       '23122_raw-Arm_predicted_mass_right', '23125_raw-Arm_fatfree_mass_left',\n",
       "       '23126_raw-Arm_predicted_mass_left', '23129_raw-Trunk_fatfree_mass',\n",
       "       '23130_raw-Trunk_predicted_mass'],\n",
       "      dtype='object')"
      ]
     },
     "metadata": {},
     "output_type": "display_data"
    },
    {
     "data": {
      "text/html": [
       "<h3>Cluster 21.9</h3>"
      ],
      "text/plain": [
       "<IPython.core.display.HTML object>"
      ]
     },
     "metadata": {},
     "output_type": "display_data"
    },
    {
     "data": {
      "text/plain": [
       "6"
      ]
     },
     "metadata": {},
     "output_type": "display_data"
    },
    {
     "data": {
      "text/plain": [
       "Index(['30000_raw-White_blood_cell_leukocyte_count',\n",
       "       '30140_raw-Neutrophill_count', 'granulocyte count', 'leukocyte count',\n",
       "       'myeloid white cell count', 'neutrophil count'],\n",
       "      dtype='object')"
      ]
     },
     "metadata": {},
     "output_type": "display_data"
    },
    {
     "data": {
      "text/html": [
       "<h3>Cluster 21.10</h3>"
      ],
      "text/plain": [
       "<IPython.core.display.HTML object>"
      ]
     },
     "metadata": {},
     "output_type": "display_data"
    },
    {
     "data": {
      "text/plain": [
       "6"
      ]
     },
     "metadata": {},
     "output_type": "display_data"
    },
    {
     "data": {
      "text/plain": [
       "Index(['30240_raw-Reticulocyte_percentage', '30250_raw-Reticulocyte_count',\n",
       "       '30280_raw-Immature_reticulocyte_fraction',\n",
       "       '30290_raw-High_light_scatter_reticulocyte_percentage',\n",
       "       '30300_raw-High_light_scatter_reticulocyte_count',\n",
       "       'reticulocyte count'],\n",
       "      dtype='object')"
      ]
     },
     "metadata": {},
     "output_type": "display_data"
    },
    {
     "data": {
      "text/html": [
       "<h3>Cluster 21.11</h3>"
      ],
      "text/plain": [
       "<IPython.core.display.HTML object>"
      ]
     },
     "metadata": {},
     "output_type": "display_data"
    },
    {
     "data": {
      "text/plain": [
       "7"
      ]
     },
     "metadata": {},
     "output_type": "display_data"
    },
    {
     "data": {
      "text/plain": [
       "Index(['4079_raw-Diastolic_blood_pressure_automated_reading',\n",
       "       '4080_raw-Systolic_blood_pressure_automated_reading',\n",
       "       '6150_100-Vascularheart_problems_diagnosed_by_doctor_None_of_the_above',\n",
       "       '6150_4-Vascularheart_problems_diagnosed_by_doctor_High_blood_pressure',\n",
       "       '6153_2-Medication_for_cholesterol_blood_pressure_diabetes_or_take_exogenous_hormones_Blood_pressure_medication',\n",
       "       '6177_2-Medication_for_cholesterol_blood_pressure_or_diabetes_Blood_pressure_medication',\n",
       "       'hypertension'],\n",
       "      dtype='object')"
      ]
     },
     "metadata": {},
     "output_type": "display_data"
    },
    {
     "data": {
      "text/html": [
       "<h3>Cluster 21.12</h3>"
      ],
      "text/plain": [
       "<IPython.core.display.HTML object>"
      ]
     },
     "metadata": {},
     "output_type": "display_data"
    },
    {
     "data": {
      "text/plain": [
       "8"
      ]
     },
     "metadata": {},
     "output_type": "display_data"
    },
    {
     "data": {
      "text/plain": [
       "Index(['1717-Skin_colour', '1727-Ease_of_skin_tanning',\n",
       "       '1737-Childhood_sunburn_occasions',\n",
       "       '1747_1-Hair_colour_natural_before_greying_Blonde',\n",
       "       '1747_2-Hair_colour_natural_before_greying_Red',\n",
       "       '1747_3-Hair_colour_natural_before_greying_Light_brown',\n",
       "       '1747_4-Hair_colour_natural_before_greying_Dark_brown',\n",
       "       '1747_5-Hair_colour_natural_before_greying_Black'],\n",
       "      dtype='object')"
      ]
     },
     "metadata": {},
     "output_type": "display_data"
    },
    {
     "data": {
      "text/html": [
       "<h3>Cluster 21.13</h3>"
      ],
      "text/plain": [
       "<IPython.core.display.HTML object>"
      ]
     },
     "metadata": {},
     "output_type": "display_data"
    },
    {
     "data": {
      "text/plain": [
       "5"
      ]
     },
     "metadata": {},
     "output_type": "display_data"
    },
    {
     "data": {
      "text/plain": [
       "Index(['30010_raw-Red_blood_cell_erythrocyte_count',\n",
       "       '30020_raw-Haemoglobin_concentration',\n",
       "       '30030_raw-Haematocrit_percentage',\n",
       "       '30070_raw-Red_blood_cell_erythrocyte_distribution_width',\n",
       "       'erythrocyte count'],\n",
       "      dtype='object')"
      ]
     },
     "metadata": {},
     "output_type": "display_data"
    },
    {
     "data": {
      "text/html": [
       "<h3>Cluster 21.14</h3>"
      ],
      "text/plain": [
       "<IPython.core.display.HTML object>"
      ]
     },
     "metadata": {},
     "output_type": "display_data"
    },
    {
     "data": {
      "text/plain": [
       "1"
      ]
     },
     "metadata": {},
     "output_type": "display_data"
    },
    {
     "data": {
      "text/plain": [
       "Index(['20153_raw-Forced_expiratory_volume_in_1second_FEV1_predicted'], dtype='object')"
      ]
     },
     "metadata": {},
     "output_type": "display_data"
    },
    {
     "data": {
      "text/html": [
       "<h3>Cluster 21.15</h3>"
      ],
      "text/plain": [
       "<IPython.core.display.HTML object>"
      ]
     },
     "metadata": {},
     "output_type": "display_data"
    },
    {
     "data": {
      "text/plain": [
       "61"
      ]
     },
     "metadata": {},
     "output_type": "display_data"
    },
    {
     "data": {
      "text/plain": [
       "Index(['102_raw-Pulse_rate_automated_reading',\n",
       "       '1080-Time_spent_using_computer', '1110-Length_of_mobile_phone_use',\n",
       "       '1319-Dried_fruit_intake', '1478-Salt_added_to_food',\n",
       "       '1488_raw-Tea_intake', '1518-Hot_drink_temperature',\n",
       "       '1528-Water_intake', '1757-Facial_ageing', '20022_raw-Birth_weight',\n",
       "       '20023_raw-Mean_time_to_correctly_identify_matches',\n",
       "       '20116_0-Smoking_status_Never', '20116_1-Smoking_status_Previous',\n",
       "       '20127_raw-Neuroticism_score',\n",
       "       '20154_raw-Forced_expiratory_volume_in_1second_FEV1_predicted_percentage',\n",
       "       '20160-Ever_smoked',\n",
       "       '2217_raw-Age_started_wearing_glasses_or_contact_lenses',\n",
       "       '2237-Plays_computer_games', '2267-Use_of_sunuv_protection',\n",
       "       '2395_1-Hairbalding_pattern_Pattern_1',\n",
       "       '30060_raw-Mean_corpuscular_haemoglobin_concentration',\n",
       "       '30120_raw-Lymphocyte_count', '30510_raw-Creatinine_enzymatic_in_urine',\n",
       "       '30530_raw-Sodium_in_urine', '3064_raw-Peak_expiratory_flow_PEF',\n",
       "       '399_raw-Number_of_incorrect_matches_in_round',\n",
       "       '400_raw-Time_to_complete_round',\n",
       "       '404_raw-Duration_to_first_press_of_snapbutton_in_each_round',\n",
       "       '4100_raw-Ankle_spacing_width_left',\n",
       "       '4119_raw-Ankle_spacing_width_right', '4194_raw-Pulse_rate',\n",
       "       '46_raw-Hand_grip_strength_left', '47_raw-Hand_grip_strength_right',\n",
       "       '5084_raw-Spherical_power_right', '5085_raw-Spherical_power_left',\n",
       "       '6152_100-Blood_clot_DVT_bronchitis_emphysema_asthma_rhinitis_eczema_allergy_diagnosed_by_doctor_None_of_the_above',\n",
       "       '6152_8-Blood_clot_DVT_bronchitis_emphysema_asthma_rhinitis_eczema_allergy_diagnosed_by_doctor_Asthma',\n",
       "       '6152_9-Blood_clot_DVT_bronchitis_emphysema_asthma_rhinitis_eczema_allergy_diagnosed_by_doctor_Hayfever_allergic_rhinitis_or_eczema',\n",
       "       '924-Usual_walking_pace', 'age at first facial hair', 'age at menarche',\n",
       "       'anxiety', 'asthma', 'chronotype measurement',\n",
       "       'comparative body size at age 10, self-reported',\n",
       "       'ease of getting up in the morning, self-reported',\n",
       "       'excessive daytime sleepiness measurement AND narcolepsy without cataplexy',\n",
       "       'feeling tense measurement', 'hearing loss',\n",
       "       'inflammatory bowel disease', 'insomnia', 'irritability', 'mood swings',\n",
       "       'nap during day, self-reported', 'nervousness', 'sleep duration',\n",
       "       'smoking cessation', 'snoring measurement', 'tiredness measurement',\n",
       "       'wheezing', 'worry measurement'],\n",
       "      dtype='object')"
      ]
     },
     "metadata": {},
     "output_type": "display_data"
    },
    {
     "data": {
      "text/html": [
       "<h3>Cluster 21.16</h3>"
      ],
      "text/plain": [
       "<IPython.core.display.HTML object>"
      ]
     },
     "metadata": {},
     "output_type": "display_data"
    },
    {
     "data": {
      "text/plain": [
       "12"
      ]
     },
     "metadata": {},
     "output_type": "display_data"
    },
    {
     "data": {
      "text/plain": [
       "Index(['20003_1140883066-Treatmentmedication_code_insulin_product',\n",
       "       '20003_1141191044-Treatmentmedication_code_levothyroxine_sodium',\n",
       "       '2986-Started_insulin_within_one_year_diagnosis_of_diabetes',\n",
       "       '6144_3-Never_eat_eggs_dairy_wheat_sugar_Wheat_products',\n",
       "       'K11_COELIAC-Coeliac_disease', 'celiac disease',\n",
       "       'hyperthyroidism AND thyrotoxicosis', 'hypothyroidism AND myxedema',\n",
       "       'malabsorption syndrome', 'psoriasis', 'rheumatoid arthritis',\n",
       "       'systemic lupus erythematosus'],\n",
       "      dtype='object')"
      ]
     },
     "metadata": {},
     "output_type": "display_data"
    },
    {
     "data": {
      "text/html": [
       "<h3>Cluster 21.17</h3>"
      ],
      "text/plain": [
       "<IPython.core.display.HTML object>"
      ]
     },
     "metadata": {},
     "output_type": "display_data"
    },
    {
     "data": {
      "text/plain": [
       "9"
      ]
     },
     "metadata": {},
     "output_type": "display_data"
    },
    {
     "data": {
      "text/plain": [
       "Index(['30130_raw-Monocyte_count', '30150-Eosinophill_count',\n",
       "       '30180_raw-Lymphocyte_percentage', '30190_raw-Monocyte_percentage',\n",
       "       '30200_raw-Neutrophill_percentage', '30210_raw-Eosinophill_percentage',\n",
       "       'eosinophil count', 'lymphocyte count', 'monocyte count'],\n",
       "      dtype='object')"
      ]
     },
     "metadata": {},
     "output_type": "display_data"
    },
    {
     "data": {
      "text/html": [
       "<h3>Cluster 21.18</h3>"
      ],
      "text/plain": [
       "<IPython.core.display.HTML object>"
      ]
     },
     "metadata": {},
     "output_type": "display_data"
    },
    {
     "data": {
      "text/plain": [
       "136"
      ]
     },
     "metadata": {},
     "output_type": "display_data"
    },
    {
     "data": {
      "text/plain": [
       "Index(['129_raw-Place_of_birth_in_UK_north_coordinate',\n",
       "       '130_raw-Place_of_birth_in_UK_east_coordinate',\n",
       "       '20074_raw-Home_location_at_assessment_east_coordinate_rounded',\n",
       "       '20075_raw-Home_location_at_assessment_north_coordinate_rounded',\n",
       "       '20118_11-Home_area_population_density_urban_or_rural_Scotland_Large_Urban_Area',\n",
       "       '22704_raw-Home_location_north_coordinate_rounded',\n",
       "       '30220_raw-Basophill_percentage', 'abdominal injury',\n",
       "       'abnormal delivery', 'alcohol dependence',\n",
       "       ...\n",
       "       'tongue neoplasm', 'transient ischemic attack', 'tuberculosis',\n",
       "       'type ii diabetes mellitus', 'ulcerative colitis',\n",
       "       'urogenital neoplasm', 'urticaria', 'vascular disease', 'vasculitis',\n",
       "       'wrist fracture'],\n",
       "      dtype='object', length=136)"
      ]
     },
     "metadata": {},
     "output_type": "display_data"
    },
    {
     "data": {
      "text/html": [
       "<h3>Cluster 21.19</h3>"
      ],
      "text/plain": [
       "<IPython.core.display.HTML object>"
      ]
     },
     "metadata": {},
     "output_type": "display_data"
    },
    {
     "data": {
      "text/plain": [
       "4"
      ]
     },
     "metadata": {},
     "output_type": "display_data"
    },
    {
     "data": {
      "text/plain": [
       "Index(['20150_raw-Forced_expiratory_volume_in_1second_FEV1_Best_measure',\n",
       "       '20151_raw-Forced_vital_capacity_FVC_Best_measure',\n",
       "       '3062_raw-Forced_vital_capacity_FVC',\n",
       "       '3063_raw-Forced_expiratory_volume_in_1second_FEV1'],\n",
       "      dtype='object')"
      ]
     },
     "metadata": {},
     "output_type": "display_data"
    },
    {
     "data": {
      "text/html": [
       "<h3>Cluster 21.20</h3>"
      ],
      "text/plain": [
       "<IPython.core.display.HTML object>"
      ]
     },
     "metadata": {},
     "output_type": "display_data"
    },
    {
     "data": {
      "text/plain": [
       "19"
      ]
     },
     "metadata": {},
     "output_type": "display_data"
    },
    {
     "data": {
      "text/plain": [
       "Index(['1050-Time_spend_outdoors_in_summer',\n",
       "       '1070-Time_spent_watching_television_TV', '1448_1-Bread_type_White',\n",
       "       '1448_3-Bread_type_Wholemeal_or_wholegrain',\n",
       "       '20016_raw-Fluid_intelligence_score',\n",
       "       '2139_raw-Age_first_had_sexual_intercourse',\n",
       "       '22501_raw-Year_ended_full_time_education',\n",
       "       '2754_raw-Age_at_first_live_birth',\n",
       "       '6138_1-Qualifications_College_or_University_degree',\n",
       "       '6138_100-Qualifications_None_of_the_above',\n",
       "       '6138_2-Qualifications_A_levelsAS_levels_or_equivalent',\n",
       "       '6138_3-Qualifications_O_levelsGCSEs_or_equivalent',\n",
       "       '738-Average_total_household_income_before_tax',\n",
       "       '806-Job_involves_mainly_walking_or_standing',\n",
       "       '816-Job_involves_heavy_manual_or_physical_work',\n",
       "       'SSGAC_Education_Years_Pooled', 'schizophrenia', 'self rated health',\n",
       "       'self reported educational attainment'],\n",
       "      dtype='object')"
      ]
     },
     "metadata": {},
     "output_type": "display_data"
    },
    {
     "data": {
      "text/html": [
       "<h2>Partition with k=22</h2>"
      ],
      "text/plain": [
       "<IPython.core.display.HTML object>"
      ]
     },
     "metadata": {},
     "output_type": "display_data"
    },
    {
     "data": {
      "text/plain": [
       "method                                                 scc_025\n",
       "partition    [1, 1, 1, 1, 1, 1, 1, 1, 1, 1, 1, 1, 1, 1, 1, ...\n",
       "ami_mean                                              0.290139\n",
       "selected                                                  True\n",
       "Name: 22, dtype: object"
      ]
     },
     "metadata": {},
     "output_type": "display_data"
    },
    {
     "data": {
      "text/plain": [
       "(3749,)"
      ]
     },
     "metadata": {},
     "output_type": "display_data"
    },
    {
     "data": {
      "text/plain": [
       "1     3382\n",
       "18     136\n",
       "0       62\n",
       "21      27\n",
       "20      19\n",
       "9       18\n",
       "8       13\n",
       "6       12\n",
       "16      12\n",
       "11       9\n",
       "7        8\n",
       "13       8\n",
       "14       6\n",
       "10       6\n",
       "3        5\n",
       "17       5\n",
       "4        5\n",
       "15       4\n",
       "12       4\n",
       "5        4\n",
       "2        3\n",
       "19       1\n",
       "dtype: int64"
      ]
     },
     "metadata": {},
     "output_type": "display_data"
    },
    {
     "data": {
      "text/html": [
       "<h3>Cluster 22.0</h3>"
      ],
      "text/plain": [
       "<IPython.core.display.HTML object>"
      ]
     },
     "metadata": {},
     "output_type": "display_data"
    },
    {
     "data": {
      "text/plain": [
       "62"
      ]
     },
     "metadata": {},
     "output_type": "display_data"
    },
    {
     "data": {
      "text/plain": [
       "Index(['102_raw-Pulse_rate_automated_reading',\n",
       "       '1080-Time_spent_using_computer', '1110-Length_of_mobile_phone_use',\n",
       "       '1319-Dried_fruit_intake', '1478-Salt_added_to_food',\n",
       "       '1488_raw-Tea_intake', '1518-Hot_drink_temperature',\n",
       "       '1528-Water_intake', '1757-Facial_ageing', '20022_raw-Birth_weight',\n",
       "       '20023_raw-Mean_time_to_correctly_identify_matches',\n",
       "       '20116_0-Smoking_status_Never', '20116_1-Smoking_status_Previous',\n",
       "       '20127_raw-Neuroticism_score',\n",
       "       '20154_raw-Forced_expiratory_volume_in_1second_FEV1_predicted_percentage',\n",
       "       '20160-Ever_smoked',\n",
       "       '2217_raw-Age_started_wearing_glasses_or_contact_lenses',\n",
       "       '2237-Plays_computer_games', '2267-Use_of_sunuv_protection',\n",
       "       '2395_1-Hairbalding_pattern_Pattern_1',\n",
       "       '30060_raw-Mean_corpuscular_haemoglobin_concentration',\n",
       "       '30120_raw-Lymphocyte_count', '30510_raw-Creatinine_enzymatic_in_urine',\n",
       "       '30530_raw-Sodium_in_urine', '3064_raw-Peak_expiratory_flow_PEF',\n",
       "       '399_raw-Number_of_incorrect_matches_in_round',\n",
       "       '400_raw-Time_to_complete_round',\n",
       "       '404_raw-Duration_to_first_press_of_snapbutton_in_each_round',\n",
       "       '4100_raw-Ankle_spacing_width_left',\n",
       "       '4119_raw-Ankle_spacing_width_right', '4194_raw-Pulse_rate',\n",
       "       '46_raw-Hand_grip_strength_left', '47_raw-Hand_grip_strength_right',\n",
       "       '5084_raw-Spherical_power_right', '5085_raw-Spherical_power_left',\n",
       "       '6152_100-Blood_clot_DVT_bronchitis_emphysema_asthma_rhinitis_eczema_allergy_diagnosed_by_doctor_None_of_the_above',\n",
       "       '6152_8-Blood_clot_DVT_bronchitis_emphysema_asthma_rhinitis_eczema_allergy_diagnosed_by_doctor_Asthma',\n",
       "       '6152_9-Blood_clot_DVT_bronchitis_emphysema_asthma_rhinitis_eczema_allergy_diagnosed_by_doctor_Hayfever_allergic_rhinitis_or_eczema',\n",
       "       '924-Usual_walking_pace', 'age at first facial hair', 'age at menarche',\n",
       "       'anxiety', 'asthma', 'chronotype measurement',\n",
       "       'comparative body size at age 10, self-reported',\n",
       "       'ease of getting up in the morning, self-reported',\n",
       "       'excessive daytime sleepiness measurement AND narcolepsy without cataplexy',\n",
       "       'feeling tense measurement', 'hearing loss',\n",
       "       'inflammatory bowel disease', 'insomnia', 'irritability', 'mood swings',\n",
       "       'nap during day, self-reported', 'nervousness',\n",
       "       'seeing a general practitioner for nerves, anxiety, tension or depression, self-reported',\n",
       "       'sleep duration', 'smoking cessation', 'snoring measurement',\n",
       "       'tiredness measurement', 'wheezing', 'worry measurement'],\n",
       "      dtype='object')"
      ]
     },
     "metadata": {},
     "output_type": "display_data"
    },
    {
     "data": {
      "text/html": [
       "<h3>Cluster 22.1</h3>"
      ],
      "text/plain": [
       "<IPython.core.display.HTML object>"
      ]
     },
     "metadata": {},
     "output_type": "display_data"
    },
    {
     "data": {
      "text/plain": [
       "3382"
      ]
     },
     "metadata": {},
     "output_type": "display_data"
    },
    {
     "data": {
      "text/plain": [
       "Index(['100001_raw-Food_weight', '100002_raw-Energy', '100003_raw-Protein',\n",
       "       '100004_raw-Fat', '100005_raw-Carbohydrate', '100006_raw-Saturated_fat',\n",
       "       '100007_raw-Polyunsaturated_fat', '100008_raw-Total_sugars',\n",
       "       '100009_raw-Englyst_dietary_fibre', '100010-Portion_size',\n",
       "       ...\n",
       "       'viral disease', 'viral human hepatitis infection', 'viral meningitis',\n",
       "       'visual impairment', 'vitiligo', 'vitreous body disease',\n",
       "       'vocal cord polyp', 'voice disorders',\n",
       "       'wellbeing measurement AND family relationship', 'whooping cough'],\n",
       "      dtype='object', length=3382)"
      ]
     },
     "metadata": {},
     "output_type": "display_data"
    },
    {
     "data": {
      "text/html": [
       "<h3>Cluster 22.2</h3>"
      ],
      "text/plain": [
       "<IPython.core.display.HTML object>"
      ]
     },
     "metadata": {},
     "output_type": "display_data"
    },
    {
     "data": {
      "text/plain": [
       "3"
      ]
     },
     "metadata": {},
     "output_type": "display_data"
    },
    {
     "data": {
      "text/plain": [
       "Index(['20015_raw-Sitting_height', '50_raw-Standing_height', 'body height'], dtype='object')"
      ]
     },
     "metadata": {},
     "output_type": "display_data"
    },
    {
     "data": {
      "text/html": [
       "<h3>Cluster 22.3</h3>"
      ],
      "text/plain": [
       "<IPython.core.display.HTML object>"
      ]
     },
     "metadata": {},
     "output_type": "display_data"
    },
    {
     "data": {
      "text/plain": [
       "5"
      ]
     },
     "metadata": {},
     "output_type": "display_data"
    },
    {
     "data": {
      "text/plain": [
       "Index(['23106_raw-Impedance_of_whole_body', '23107_raw-Impedance_of_leg_right',\n",
       "       '23108_raw-Impedance_of_leg_left', '23109_raw-Impedance_of_arm_right',\n",
       "       '23110_raw-Impedance_of_arm_left'],\n",
       "      dtype='object')"
      ]
     },
     "metadata": {},
     "output_type": "display_data"
    },
    {
     "data": {
      "text/html": [
       "<h3>Cluster 22.4</h3>"
      ],
      "text/plain": [
       "<IPython.core.display.HTML object>"
      ]
     },
     "metadata": {},
     "output_type": "display_data"
    },
    {
     "data": {
      "text/plain": [
       "5"
      ]
     },
     "metadata": {},
     "output_type": "display_data"
    },
    {
     "data": {
      "text/plain": [
       "Index(['30080_raw-Platelet_count', '30090_raw-Platelet_crit',\n",
       "       '30100_raw-Mean_platelet_thrombocyte_volume',\n",
       "       '30110_raw-Platelet_distribution_width', 'platelet count'],\n",
       "      dtype='object')"
      ]
     },
     "metadata": {},
     "output_type": "display_data"
    },
    {
     "data": {
      "text/html": [
       "<h3>Cluster 22.5</h3>"
      ],
      "text/plain": [
       "<IPython.core.display.HTML object>"
      ]
     },
     "metadata": {},
     "output_type": "display_data"
    },
    {
     "data": {
      "text/plain": [
       "4"
      ]
     },
     "metadata": {},
     "output_type": "display_data"
    },
    {
     "data": {
      "text/plain": [
       "Index(['30040_raw-Mean_corpuscular_volume',\n",
       "       '30050_raw-Mean_corpuscular_haemoglobin',\n",
       "       '30260_raw-Mean_reticulocyte_volume',\n",
       "       '30270_raw-Mean_sphered_cell_volume'],\n",
       "      dtype='object')"
      ]
     },
     "metadata": {},
     "output_type": "display_data"
    },
    {
     "data": {
      "text/html": [
       "<h3>Cluster 22.6</h3>"
      ],
      "text/plain": [
       "<IPython.core.display.HTML object>"
      ]
     },
     "metadata": {},
     "output_type": "display_data"
    },
    {
     "data": {
      "text/plain": [
       "12"
      ]
     },
     "metadata": {},
     "output_type": "display_data"
    },
    {
     "data": {
      "text/plain": [
       "Index(['3144_raw-Heel_Broadband_ultrasound_attenuation_direct_entry',\n",
       "       '3147_raw-Heel_quantitative_ultrasound_index_QUI_direct_entry',\n",
       "       '3148_raw-Heel_bone_mineral_density_BMD',\n",
       "       '4101_raw-Heel_broadband_ultrasound_attenuation_left',\n",
       "       '4104_raw-Heel_quantitative_ultrasound_index_QUI_direct_entry_left',\n",
       "       '4105_raw-Heel_bone_mineral_density_BMD_left',\n",
       "       '4106_raw-Heel_bone_mineral_density_BMD_Tscore_automated_left',\n",
       "       '4120_raw-Heel_broadband_ultrasound_attenuation_right',\n",
       "       '4123_raw-Heel_quantitative_ultrasound_index_QUI_direct_entry_right',\n",
       "       '4124_raw-Heel_bone_mineral_density_BMD_right',\n",
       "       '4125_raw-Heel_bone_mineral_density_BMD_Tscore_automated_right',\n",
       "       '78_raw-Heel_bone_mineral_density_BMD_Tscore_automated'],\n",
       "      dtype='object')"
      ]
     },
     "metadata": {},
     "output_type": "display_data"
    },
    {
     "data": {
      "text/html": [
       "<h3>Cluster 22.7</h3>"
      ],
      "text/plain": [
       "<IPython.core.display.HTML object>"
      ]
     },
     "metadata": {},
     "output_type": "display_data"
    },
    {
     "data": {
      "text/plain": [
       "8"
      ]
     },
     "metadata": {},
     "output_type": "display_data"
    },
    {
     "data": {
      "text/plain": [
       "Index(['5096_raw-3mm_weak_meridian_left', '5097_raw-6mm_weak_meridian_left',\n",
       "       '5098_raw-6mm_weak_meridian_right', '5099_raw-3mm_weak_meridian_right',\n",
       "       '5132_raw-3mm_strong_meridian_right',\n",
       "       '5133_raw-6mm_strong_meridian_right',\n",
       "       '5134_raw-6mm_strong_meridian_left',\n",
       "       '5135_raw-3mm_strong_meridian_left'],\n",
       "      dtype='object')"
      ]
     },
     "metadata": {},
     "output_type": "display_data"
    },
    {
     "data": {
      "text/html": [
       "<h3>Cluster 22.8</h3>"
      ],
      "text/plain": [
       "<IPython.core.display.HTML object>"
      ]
     },
     "metadata": {},
     "output_type": "display_data"
    },
    {
     "data": {
      "text/plain": [
       "13"
      ]
     },
     "metadata": {},
     "output_type": "display_data"
    },
    {
     "data": {
      "text/plain": [
       "Index(['23101_raw-Whole_body_fatfree_mass', '23102_raw-Whole_body_water_mass',\n",
       "       '23105_raw-Basal_metabolic_rate', '23113_raw-Leg_fatfree_mass_right',\n",
       "       '23114_raw-Leg_predicted_mass_right', '23117_raw-Leg_fatfree_mass_left',\n",
       "       '23118_raw-Leg_predicted_mass_left', '23121_raw-Arm_fatfree_mass_right',\n",
       "       '23122_raw-Arm_predicted_mass_right', '23125_raw-Arm_fatfree_mass_left',\n",
       "       '23126_raw-Arm_predicted_mass_left', '23129_raw-Trunk_fatfree_mass',\n",
       "       '23130_raw-Trunk_predicted_mass'],\n",
       "      dtype='object')"
      ]
     },
     "metadata": {},
     "output_type": "display_data"
    },
    {
     "data": {
      "text/html": [
       "<h3>Cluster 22.9</h3>"
      ],
      "text/plain": [
       "<IPython.core.display.HTML object>"
      ]
     },
     "metadata": {},
     "output_type": "display_data"
    },
    {
     "data": {
      "text/plain": [
       "18"
      ]
     },
     "metadata": {},
     "output_type": "display_data"
    },
    {
     "data": {
      "text/plain": [
       "Index(['21001_raw-Body_mass_index_BMI', '21002_raw-Weight', '23098_raw-Weight',\n",
       "       '23099_raw-Body_fat_percentage', '23100_raw-Whole_body_fat_mass',\n",
       "       '23104_raw-Body_mass_index_BMI', '23111_raw-Leg_fat_percentage_right',\n",
       "       '23112_raw-Leg_fat_mass_right', '23115_raw-Leg_fat_percentage_left',\n",
       "       '23116_raw-Leg_fat_mass_left', '23119_raw-Arm_fat_percentage_right',\n",
       "       '23120_raw-Arm_fat_mass_right', '23123_raw-Arm_fat_percentage_left',\n",
       "       '23124_raw-Arm_fat_mass_left', '23127_raw-Trunk_fat_percentage',\n",
       "       '23128_raw-Trunk_fat_mass', '48_raw-Waist_circumference',\n",
       "       '49_raw-Hip_circumference'],\n",
       "      dtype='object')"
      ]
     },
     "metadata": {},
     "output_type": "display_data"
    },
    {
     "data": {
      "text/html": [
       "<h3>Cluster 22.10</h3>"
      ],
      "text/plain": [
       "<IPython.core.display.HTML object>"
      ]
     },
     "metadata": {},
     "output_type": "display_data"
    },
    {
     "data": {
      "text/plain": [
       "6"
      ]
     },
     "metadata": {},
     "output_type": "display_data"
    },
    {
     "data": {
      "text/plain": [
       "Index(['30240_raw-Reticulocyte_percentage', '30250_raw-Reticulocyte_count',\n",
       "       '30280_raw-Immature_reticulocyte_fraction',\n",
       "       '30290_raw-High_light_scatter_reticulocyte_percentage',\n",
       "       '30300_raw-High_light_scatter_reticulocyte_count',\n",
       "       'reticulocyte count'],\n",
       "      dtype='object')"
      ]
     },
     "metadata": {},
     "output_type": "display_data"
    },
    {
     "data": {
      "text/html": [
       "<h3>Cluster 22.11</h3>"
      ],
      "text/plain": [
       "<IPython.core.display.HTML object>"
      ]
     },
     "metadata": {},
     "output_type": "display_data"
    },
    {
     "data": {
      "text/plain": [
       "9"
      ]
     },
     "metadata": {},
     "output_type": "display_data"
    },
    {
     "data": {
      "text/plain": [
       "Index(['30130_raw-Monocyte_count', '30150-Eosinophill_count',\n",
       "       '30180_raw-Lymphocyte_percentage', '30190_raw-Monocyte_percentage',\n",
       "       '30200_raw-Neutrophill_percentage', '30210_raw-Eosinophill_percentage',\n",
       "       'eosinophil count', 'lymphocyte count', 'monocyte count'],\n",
       "      dtype='object')"
      ]
     },
     "metadata": {},
     "output_type": "display_data"
    },
    {
     "data": {
      "text/html": [
       "<h3>Cluster 22.12</h3>"
      ],
      "text/plain": [
       "<IPython.core.display.HTML object>"
      ]
     },
     "metadata": {},
     "output_type": "display_data"
    },
    {
     "data": {
      "text/plain": [
       "4"
      ]
     },
     "metadata": {},
     "output_type": "display_data"
    },
    {
     "data": {
      "text/plain": [
       "Index(['20150_raw-Forced_expiratory_volume_in_1second_FEV1_Best_measure',\n",
       "       '20151_raw-Forced_vital_capacity_FVC_Best_measure',\n",
       "       '3062_raw-Forced_vital_capacity_FVC',\n",
       "       '3063_raw-Forced_expiratory_volume_in_1second_FEV1'],\n",
       "      dtype='object')"
      ]
     },
     "metadata": {},
     "output_type": "display_data"
    },
    {
     "data": {
      "text/html": [
       "<h3>Cluster 22.13</h3>"
      ],
      "text/plain": [
       "<IPython.core.display.HTML object>"
      ]
     },
     "metadata": {},
     "output_type": "display_data"
    },
    {
     "data": {
      "text/plain": [
       "8"
      ]
     },
     "metadata": {},
     "output_type": "display_data"
    },
    {
     "data": {
      "text/plain": [
       "Index(['1717-Skin_colour', '1727-Ease_of_skin_tanning',\n",
       "       '1737-Childhood_sunburn_occasions',\n",
       "       '1747_1-Hair_colour_natural_before_greying_Blonde',\n",
       "       '1747_2-Hair_colour_natural_before_greying_Red',\n",
       "       '1747_3-Hair_colour_natural_before_greying_Light_brown',\n",
       "       '1747_4-Hair_colour_natural_before_greying_Dark_brown',\n",
       "       '1747_5-Hair_colour_natural_before_greying_Black'],\n",
       "      dtype='object')"
      ]
     },
     "metadata": {},
     "output_type": "display_data"
    },
    {
     "data": {
      "text/html": [
       "<h3>Cluster 22.14</h3>"
      ],
      "text/plain": [
       "<IPython.core.display.HTML object>"
      ]
     },
     "metadata": {},
     "output_type": "display_data"
    },
    {
     "data": {
      "text/plain": [
       "6"
      ]
     },
     "metadata": {},
     "output_type": "display_data"
    },
    {
     "data": {
      "text/plain": [
       "Index(['30000_raw-White_blood_cell_leukocyte_count',\n",
       "       '30140_raw-Neutrophill_count', 'granulocyte count', 'leukocyte count',\n",
       "       'myeloid white cell count', 'neutrophil count'],\n",
       "      dtype='object')"
      ]
     },
     "metadata": {},
     "output_type": "display_data"
    },
    {
     "data": {
      "text/html": [
       "<h3>Cluster 22.15</h3>"
      ],
      "text/plain": [
       "<IPython.core.display.HTML object>"
      ]
     },
     "metadata": {},
     "output_type": "display_data"
    },
    {
     "data": {
      "text/plain": [
       "4"
      ]
     },
     "metadata": {},
     "output_type": "display_data"
    },
    {
     "data": {
      "text/plain": [
       "Index(['30010_raw-Red_blood_cell_erythrocyte_count',\n",
       "       '30020_raw-Haemoglobin_concentration',\n",
       "       '30030_raw-Haematocrit_percentage', 'erythrocyte count'],\n",
       "      dtype='object')"
      ]
     },
     "metadata": {},
     "output_type": "display_data"
    },
    {
     "data": {
      "text/html": [
       "<h3>Cluster 22.16</h3>"
      ],
      "text/plain": [
       "<IPython.core.display.HTML object>"
      ]
     },
     "metadata": {},
     "output_type": "display_data"
    },
    {
     "data": {
      "text/plain": [
       "12"
      ]
     },
     "metadata": {},
     "output_type": "display_data"
    },
    {
     "data": {
      "text/plain": [
       "Index(['20003_1140883066-Treatmentmedication_code_insulin_product',\n",
       "       '20003_1141191044-Treatmentmedication_code_levothyroxine_sodium',\n",
       "       '2986-Started_insulin_within_one_year_diagnosis_of_diabetes',\n",
       "       '6144_3-Never_eat_eggs_dairy_wheat_sugar_Wheat_products',\n",
       "       'K11_COELIAC-Coeliac_disease', 'celiac disease',\n",
       "       'hyperthyroidism AND thyrotoxicosis', 'hypothyroidism AND myxedema',\n",
       "       'malabsorption syndrome', 'psoriasis', 'rheumatoid arthritis',\n",
       "       'systemic lupus erythematosus'],\n",
       "      dtype='object')"
      ]
     },
     "metadata": {},
     "output_type": "display_data"
    },
    {
     "data": {
      "text/html": [
       "<h3>Cluster 22.17</h3>"
      ],
      "text/plain": [
       "<IPython.core.display.HTML object>"
      ]
     },
     "metadata": {},
     "output_type": "display_data"
    },
    {
     "data": {
      "text/plain": [
       "5"
      ]
     },
     "metadata": {},
     "output_type": "display_data"
    },
    {
     "data": {
      "text/plain": [
       "Index(['4079_raw-Diastolic_blood_pressure_automated_reading',\n",
       "       '4080_raw-Systolic_blood_pressure_automated_reading',\n",
       "       '6150_100-Vascularheart_problems_diagnosed_by_doctor_None_of_the_above',\n",
       "       '6150_4-Vascularheart_problems_diagnosed_by_doctor_High_blood_pressure',\n",
       "       'hypertension'],\n",
       "      dtype='object')"
      ]
     },
     "metadata": {},
     "output_type": "display_data"
    },
    {
     "data": {
      "text/html": [
       "<h3>Cluster 22.18</h3>"
      ],
      "text/plain": [
       "<IPython.core.display.HTML object>"
      ]
     },
     "metadata": {},
     "output_type": "display_data"
    },
    {
     "data": {
      "text/plain": [
       "136"
      ]
     },
     "metadata": {},
     "output_type": "display_data"
    },
    {
     "data": {
      "text/plain": [
       "Index(['129_raw-Place_of_birth_in_UK_north_coordinate',\n",
       "       '130_raw-Place_of_birth_in_UK_east_coordinate',\n",
       "       '20074_raw-Home_location_at_assessment_east_coordinate_rounded',\n",
       "       '20075_raw-Home_location_at_assessment_north_coordinate_rounded',\n",
       "       '20118_11-Home_area_population_density_urban_or_rural_Scotland_Large_Urban_Area',\n",
       "       '22704_raw-Home_location_north_coordinate_rounded',\n",
       "       '30220_raw-Basophill_percentage', 'abdominal injury',\n",
       "       'abnormal delivery', 'alcohol dependence',\n",
       "       ...\n",
       "       'tongue neoplasm', 'transient ischemic attack', 'tuberculosis',\n",
       "       'type ii diabetes mellitus', 'ulcerative colitis',\n",
       "       'urogenital neoplasm', 'urticaria', 'vascular disease', 'vasculitis',\n",
       "       'wrist fracture'],\n",
       "      dtype='object', length=136)"
      ]
     },
     "metadata": {},
     "output_type": "display_data"
    },
    {
     "data": {
      "text/html": [
       "<h3>Cluster 22.19</h3>"
      ],
      "text/plain": [
       "<IPython.core.display.HTML object>"
      ]
     },
     "metadata": {},
     "output_type": "display_data"
    },
    {
     "data": {
      "text/plain": [
       "1"
      ]
     },
     "metadata": {},
     "output_type": "display_data"
    },
    {
     "data": {
      "text/plain": [
       "Index(['20153_raw-Forced_expiratory_volume_in_1second_FEV1_predicted'], dtype='object')"
      ]
     },
     "metadata": {},
     "output_type": "display_data"
    },
    {
     "data": {
      "text/html": [
       "<h3>Cluster 22.20</h3>"
      ],
      "text/plain": [
       "<IPython.core.display.HTML object>"
      ]
     },
     "metadata": {},
     "output_type": "display_data"
    },
    {
     "data": {
      "text/plain": [
       "19"
      ]
     },
     "metadata": {},
     "output_type": "display_data"
    },
    {
     "data": {
      "text/plain": [
       "Index(['1050-Time_spend_outdoors_in_summer',\n",
       "       '1070-Time_spent_watching_television_TV', '1448_1-Bread_type_White',\n",
       "       '1448_3-Bread_type_Wholemeal_or_wholegrain',\n",
       "       '20016_raw-Fluid_intelligence_score',\n",
       "       '2139_raw-Age_first_had_sexual_intercourse',\n",
       "       '22501_raw-Year_ended_full_time_education',\n",
       "       '2754_raw-Age_at_first_live_birth',\n",
       "       '6138_1-Qualifications_College_or_University_degree',\n",
       "       '6138_100-Qualifications_None_of_the_above',\n",
       "       '6138_2-Qualifications_A_levelsAS_levels_or_equivalent',\n",
       "       '6138_3-Qualifications_O_levelsGCSEs_or_equivalent',\n",
       "       '738-Average_total_household_income_before_tax',\n",
       "       '806-Job_involves_mainly_walking_or_standing',\n",
       "       '816-Job_involves_heavy_manual_or_physical_work',\n",
       "       'SSGAC_Education_Years_Pooled', 'schizophrenia', 'self rated health',\n",
       "       'self reported educational attainment'],\n",
       "      dtype='object')"
      ]
     },
     "metadata": {},
     "output_type": "display_data"
    },
    {
     "data": {
      "text/html": [
       "<h3>Cluster 22.21</h3>"
      ],
      "text/plain": [
       "<IPython.core.display.HTML object>"
      ]
     },
     "metadata": {},
     "output_type": "display_data"
    },
    {
     "data": {
      "text/plain": [
       "27"
      ]
     },
     "metadata": {},
     "output_type": "display_data"
    },
    {
     "data": {
      "text/plain": [
       "Index(['20003_1140861958-Treatmentmedication_code_simvastatin',\n",
       "       '20003_1140868226-Treatmentmedication_code_aspirin',\n",
       "       '20003_1141194794-Treatmentmedication_code_bendroflumethiazide',\n",
       "       '2492-Taking_other_prescription_medications',\n",
       "       '6150_1-Vascularheart_problems_diagnosed_by_doctor_Heart_attack',\n",
       "       '6150_2-Vascularheart_problems_diagnosed_by_doctor_Angina',\n",
       "       '6153_1-Medication_for_cholesterol_blood_pressure_diabetes_or_take_exogenous_hormones_Cholesterol_lowering_medication',\n",
       "       '6153_100-Medication_for_cholesterol_blood_pressure_diabetes_or_take_exogenous_hormones_None_of_the_above',\n",
       "       '6153_2-Medication_for_cholesterol_blood_pressure_diabetes_or_take_exogenous_hormones_Blood_pressure_medication',\n",
       "       '6154_1-Medication_for_pain_relief_constipation_heartburn_Aspirin',\n",
       "       '6177_1-Medication_for_cholesterol_blood_pressure_or_diabetes_Cholesterol_lowering_medication',\n",
       "       '6177_100-Medication_for_cholesterol_blood_pressure_or_diabetes_None_of_the_above',\n",
       "       '6177_2-Medication_for_cholesterol_blood_pressure_or_diabetes_Blood_pressure_medication',\n",
       "       'I9_CHD-Major_coronary_heart_disease_event',\n",
       "       'I9_CHD_NOREV-Major_coronary_heart_disease_event_excluding_revascularizations',\n",
       "       'I9_CORATHER-Coronary_atherosclerosis',\n",
       "       'I9_IHD-Ischaemic_heart_disease_wide_definition',\n",
       "       'I9_MI-Myocardial_infarction',\n",
       "       'I9_MI_STRICT-Myocardial_infarction_strict',\n",
       "       'IX_CIRCULATORY-Diseases_of_the_circulatory_system',\n",
       "       'acute myocardial infarction', 'angina pectoris',\n",
       "       'coronary artery disease', 'hypercholesterolemia',\n",
       "       'myocardial infarction',\n",
       "       'number of non-cancer illnesses, self-reported',\n",
       "       'number of treatments or medications taken, self-reported'],\n",
       "      dtype='object')"
      ]
     },
     "metadata": {},
     "output_type": "display_data"
    },
    {
     "data": {
      "text/html": [
       "<h2>Partition with k=23</h2>"
      ],
      "text/plain": [
       "<IPython.core.display.HTML object>"
      ]
     },
     "metadata": {},
     "output_type": "display_data"
    },
    {
     "data": {
      "text/plain": [
       "method                                                 scc_025\n",
       "partition    [0, 0, 0, 0, 0, 0, 0, 0, 0, 0, 0, 0, 0, 0, 0, ...\n",
       "ami_mean                                              0.290235\n",
       "selected                                                  True\n",
       "Name: 23, dtype: object"
      ]
     },
     "metadata": {},
     "output_type": "display_data"
    },
    {
     "data": {
      "text/plain": [
       "(3749,)"
      ]
     },
     "metadata": {},
     "output_type": "display_data"
    },
    {
     "data": {
      "text/plain": [
       "0     3148\n",
       "21     230\n",
       "16     136\n",
       "18      56\n",
       "22      36\n",
       "19      19\n",
       "8       18\n",
       "7       13\n",
       "4       12\n",
       "20      12\n",
       "15       9\n",
       "5        8\n",
       "13       8\n",
       "14       6\n",
       "12       6\n",
       "10       6\n",
       "6        5\n",
       "2        5\n",
       "3        4\n",
       "9        4\n",
       "11       4\n",
       "1        3\n",
       "17       1\n",
       "dtype: int64"
      ]
     },
     "metadata": {},
     "output_type": "display_data"
    },
    {
     "data": {
      "text/html": [
       "<h3>Cluster 23.0</h3>"
      ],
      "text/plain": [
       "<IPython.core.display.HTML object>"
      ]
     },
     "metadata": {},
     "output_type": "display_data"
    },
    {
     "data": {
      "text/plain": [
       "3148"
      ]
     },
     "metadata": {},
     "output_type": "display_data"
    },
    {
     "data": {
      "text/plain": [
       "Index(['100001_raw-Food_weight', '100002_raw-Energy', '100003_raw-Protein',\n",
       "       '100004_raw-Fat', '100005_raw-Carbohydrate', '100006_raw-Saturated_fat',\n",
       "       '100007_raw-Polyunsaturated_fat', '100008_raw-Total_sugars',\n",
       "       '100009_raw-Englyst_dietary_fibre', '100010-Portion_size',\n",
       "       ...\n",
       "       'viral disease', 'viral human hepatitis infection', 'viral meningitis',\n",
       "       'visual impairment', 'vitiligo', 'vitreous body disease',\n",
       "       'vocal cord polyp', 'voice disorders',\n",
       "       'wellbeing measurement AND family relationship', 'whooping cough'],\n",
       "      dtype='object', length=3148)"
      ]
     },
     "metadata": {},
     "output_type": "display_data"
    },
    {
     "data": {
      "text/html": [
       "<h3>Cluster 23.1</h3>"
      ],
      "text/plain": [
       "<IPython.core.display.HTML object>"
      ]
     },
     "metadata": {},
     "output_type": "display_data"
    },
    {
     "data": {
      "text/plain": [
       "3"
      ]
     },
     "metadata": {},
     "output_type": "display_data"
    },
    {
     "data": {
      "text/plain": [
       "Index(['20015_raw-Sitting_height', '50_raw-Standing_height', 'body height'], dtype='object')"
      ]
     },
     "metadata": {},
     "output_type": "display_data"
    },
    {
     "data": {
      "text/html": [
       "<h3>Cluster 23.2</h3>"
      ],
      "text/plain": [
       "<IPython.core.display.HTML object>"
      ]
     },
     "metadata": {},
     "output_type": "display_data"
    },
    {
     "data": {
      "text/plain": [
       "5"
      ]
     },
     "metadata": {},
     "output_type": "display_data"
    },
    {
     "data": {
      "text/plain": [
       "Index(['23106_raw-Impedance_of_whole_body', '23107_raw-Impedance_of_leg_right',\n",
       "       '23108_raw-Impedance_of_leg_left', '23109_raw-Impedance_of_arm_right',\n",
       "       '23110_raw-Impedance_of_arm_left'],\n",
       "      dtype='object')"
      ]
     },
     "metadata": {},
     "output_type": "display_data"
    },
    {
     "data": {
      "text/html": [
       "<h3>Cluster 23.3</h3>"
      ],
      "text/plain": [
       "<IPython.core.display.HTML object>"
      ]
     },
     "metadata": {},
     "output_type": "display_data"
    },
    {
     "data": {
      "text/plain": [
       "4"
      ]
     },
     "metadata": {},
     "output_type": "display_data"
    },
    {
     "data": {
      "text/plain": [
       "Index(['30040_raw-Mean_corpuscular_volume',\n",
       "       '30050_raw-Mean_corpuscular_haemoglobin',\n",
       "       '30260_raw-Mean_reticulocyte_volume',\n",
       "       '30270_raw-Mean_sphered_cell_volume'],\n",
       "      dtype='object')"
      ]
     },
     "metadata": {},
     "output_type": "display_data"
    },
    {
     "data": {
      "text/html": [
       "<h3>Cluster 23.4</h3>"
      ],
      "text/plain": [
       "<IPython.core.display.HTML object>"
      ]
     },
     "metadata": {},
     "output_type": "display_data"
    },
    {
     "data": {
      "text/plain": [
       "12"
      ]
     },
     "metadata": {},
     "output_type": "display_data"
    },
    {
     "data": {
      "text/plain": [
       "Index(['3144_raw-Heel_Broadband_ultrasound_attenuation_direct_entry',\n",
       "       '3147_raw-Heel_quantitative_ultrasound_index_QUI_direct_entry',\n",
       "       '3148_raw-Heel_bone_mineral_density_BMD',\n",
       "       '4101_raw-Heel_broadband_ultrasound_attenuation_left',\n",
       "       '4104_raw-Heel_quantitative_ultrasound_index_QUI_direct_entry_left',\n",
       "       '4105_raw-Heel_bone_mineral_density_BMD_left',\n",
       "       '4106_raw-Heel_bone_mineral_density_BMD_Tscore_automated_left',\n",
       "       '4120_raw-Heel_broadband_ultrasound_attenuation_right',\n",
       "       '4123_raw-Heel_quantitative_ultrasound_index_QUI_direct_entry_right',\n",
       "       '4124_raw-Heel_bone_mineral_density_BMD_right',\n",
       "       '4125_raw-Heel_bone_mineral_density_BMD_Tscore_automated_right',\n",
       "       '78_raw-Heel_bone_mineral_density_BMD_Tscore_automated'],\n",
       "      dtype='object')"
      ]
     },
     "metadata": {},
     "output_type": "display_data"
    },
    {
     "data": {
      "text/html": [
       "<h3>Cluster 23.5</h3>"
      ],
      "text/plain": [
       "<IPython.core.display.HTML object>"
      ]
     },
     "metadata": {},
     "output_type": "display_data"
    },
    {
     "data": {
      "text/plain": [
       "8"
      ]
     },
     "metadata": {},
     "output_type": "display_data"
    },
    {
     "data": {
      "text/plain": [
       "Index(['5096_raw-3mm_weak_meridian_left', '5097_raw-6mm_weak_meridian_left',\n",
       "       '5098_raw-6mm_weak_meridian_right', '5099_raw-3mm_weak_meridian_right',\n",
       "       '5132_raw-3mm_strong_meridian_right',\n",
       "       '5133_raw-6mm_strong_meridian_right',\n",
       "       '5134_raw-6mm_strong_meridian_left',\n",
       "       '5135_raw-3mm_strong_meridian_left'],\n",
       "      dtype='object')"
      ]
     },
     "metadata": {},
     "output_type": "display_data"
    },
    {
     "data": {
      "text/html": [
       "<h3>Cluster 23.6</h3>"
      ],
      "text/plain": [
       "<IPython.core.display.HTML object>"
      ]
     },
     "metadata": {},
     "output_type": "display_data"
    },
    {
     "data": {
      "text/plain": [
       "5"
      ]
     },
     "metadata": {},
     "output_type": "display_data"
    },
    {
     "data": {
      "text/plain": [
       "Index(['30080_raw-Platelet_count', '30090_raw-Platelet_crit',\n",
       "       '30100_raw-Mean_platelet_thrombocyte_volume',\n",
       "       '30110_raw-Platelet_distribution_width', 'platelet count'],\n",
       "      dtype='object')"
      ]
     },
     "metadata": {},
     "output_type": "display_data"
    },
    {
     "data": {
      "text/html": [
       "<h3>Cluster 23.7</h3>"
      ],
      "text/plain": [
       "<IPython.core.display.HTML object>"
      ]
     },
     "metadata": {},
     "output_type": "display_data"
    },
    {
     "data": {
      "text/plain": [
       "13"
      ]
     },
     "metadata": {},
     "output_type": "display_data"
    },
    {
     "data": {
      "text/plain": [
       "Index(['23101_raw-Whole_body_fatfree_mass', '23102_raw-Whole_body_water_mass',\n",
       "       '23105_raw-Basal_metabolic_rate', '23113_raw-Leg_fatfree_mass_right',\n",
       "       '23114_raw-Leg_predicted_mass_right', '23117_raw-Leg_fatfree_mass_left',\n",
       "       '23118_raw-Leg_predicted_mass_left', '23121_raw-Arm_fatfree_mass_right',\n",
       "       '23122_raw-Arm_predicted_mass_right', '23125_raw-Arm_fatfree_mass_left',\n",
       "       '23126_raw-Arm_predicted_mass_left', '23129_raw-Trunk_fatfree_mass',\n",
       "       '23130_raw-Trunk_predicted_mass'],\n",
       "      dtype='object')"
      ]
     },
     "metadata": {},
     "output_type": "display_data"
    },
    {
     "data": {
      "text/html": [
       "<h3>Cluster 23.8</h3>"
      ],
      "text/plain": [
       "<IPython.core.display.HTML object>"
      ]
     },
     "metadata": {},
     "output_type": "display_data"
    },
    {
     "data": {
      "text/plain": [
       "18"
      ]
     },
     "metadata": {},
     "output_type": "display_data"
    },
    {
     "data": {
      "text/plain": [
       "Index(['21001_raw-Body_mass_index_BMI', '21002_raw-Weight', '23098_raw-Weight',\n",
       "       '23099_raw-Body_fat_percentage', '23100_raw-Whole_body_fat_mass',\n",
       "       '23104_raw-Body_mass_index_BMI', '23111_raw-Leg_fat_percentage_right',\n",
       "       '23112_raw-Leg_fat_mass_right', '23115_raw-Leg_fat_percentage_left',\n",
       "       '23116_raw-Leg_fat_mass_left', '23119_raw-Arm_fat_percentage_right',\n",
       "       '23120_raw-Arm_fat_mass_right', '23123_raw-Arm_fat_percentage_left',\n",
       "       '23124_raw-Arm_fat_mass_left', '23127_raw-Trunk_fat_percentage',\n",
       "       '23128_raw-Trunk_fat_mass', '48_raw-Waist_circumference',\n",
       "       '49_raw-Hip_circumference'],\n",
       "      dtype='object')"
      ]
     },
     "metadata": {},
     "output_type": "display_data"
    },
    {
     "data": {
      "text/html": [
       "<h3>Cluster 23.9</h3>"
      ],
      "text/plain": [
       "<IPython.core.display.HTML object>"
      ]
     },
     "metadata": {},
     "output_type": "display_data"
    },
    {
     "data": {
      "text/plain": [
       "4"
      ]
     },
     "metadata": {},
     "output_type": "display_data"
    },
    {
     "data": {
      "text/plain": [
       "Index(['30010_raw-Red_blood_cell_erythrocyte_count',\n",
       "       '30020_raw-Haemoglobin_concentration',\n",
       "       '30030_raw-Haematocrit_percentage', 'erythrocyte count'],\n",
       "      dtype='object')"
      ]
     },
     "metadata": {},
     "output_type": "display_data"
    },
    {
     "data": {
      "text/html": [
       "<h3>Cluster 23.10</h3>"
      ],
      "text/plain": [
       "<IPython.core.display.HTML object>"
      ]
     },
     "metadata": {},
     "output_type": "display_data"
    },
    {
     "data": {
      "text/plain": [
       "6"
      ]
     },
     "metadata": {},
     "output_type": "display_data"
    },
    {
     "data": {
      "text/plain": [
       "Index(['30000_raw-White_blood_cell_leukocyte_count',\n",
       "       '30140_raw-Neutrophill_count', 'granulocyte count', 'leukocyte count',\n",
       "       'myeloid white cell count', 'neutrophil count'],\n",
       "      dtype='object')"
      ]
     },
     "metadata": {},
     "output_type": "display_data"
    },
    {
     "data": {
      "text/html": [
       "<h3>Cluster 23.11</h3>"
      ],
      "text/plain": [
       "<IPython.core.display.HTML object>"
      ]
     },
     "metadata": {},
     "output_type": "display_data"
    },
    {
     "data": {
      "text/plain": [
       "4"
      ]
     },
     "metadata": {},
     "output_type": "display_data"
    },
    {
     "data": {
      "text/plain": [
       "Index(['20150_raw-Forced_expiratory_volume_in_1second_FEV1_Best_measure',\n",
       "       '20151_raw-Forced_vital_capacity_FVC_Best_measure',\n",
       "       '3062_raw-Forced_vital_capacity_FVC',\n",
       "       '3063_raw-Forced_expiratory_volume_in_1second_FEV1'],\n",
       "      dtype='object')"
      ]
     },
     "metadata": {},
     "output_type": "display_data"
    },
    {
     "data": {
      "text/html": [
       "<h3>Cluster 23.12</h3>"
      ],
      "text/plain": [
       "<IPython.core.display.HTML object>"
      ]
     },
     "metadata": {},
     "output_type": "display_data"
    },
    {
     "data": {
      "text/plain": [
       "6"
      ]
     },
     "metadata": {},
     "output_type": "display_data"
    },
    {
     "data": {
      "text/plain": [
       "Index(['30240_raw-Reticulocyte_percentage', '30250_raw-Reticulocyte_count',\n",
       "       '30280_raw-Immature_reticulocyte_fraction',\n",
       "       '30290_raw-High_light_scatter_reticulocyte_percentage',\n",
       "       '30300_raw-High_light_scatter_reticulocyte_count',\n",
       "       'reticulocyte count'],\n",
       "      dtype='object')"
      ]
     },
     "metadata": {},
     "output_type": "display_data"
    },
    {
     "data": {
      "text/html": [
       "<h3>Cluster 23.13</h3>"
      ],
      "text/plain": [
       "<IPython.core.display.HTML object>"
      ]
     },
     "metadata": {},
     "output_type": "display_data"
    },
    {
     "data": {
      "text/plain": [
       "8"
      ]
     },
     "metadata": {},
     "output_type": "display_data"
    },
    {
     "data": {
      "text/plain": [
       "Index(['1717-Skin_colour', '1727-Ease_of_skin_tanning',\n",
       "       '1737-Childhood_sunburn_occasions',\n",
       "       '1747_1-Hair_colour_natural_before_greying_Blonde',\n",
       "       '1747_2-Hair_colour_natural_before_greying_Red',\n",
       "       '1747_3-Hair_colour_natural_before_greying_Light_brown',\n",
       "       '1747_4-Hair_colour_natural_before_greying_Dark_brown',\n",
       "       '1747_5-Hair_colour_natural_before_greying_Black'],\n",
       "      dtype='object')"
      ]
     },
     "metadata": {},
     "output_type": "display_data"
    },
    {
     "data": {
      "text/html": [
       "<h3>Cluster 23.14</h3>"
      ],
      "text/plain": [
       "<IPython.core.display.HTML object>"
      ]
     },
     "metadata": {},
     "output_type": "display_data"
    },
    {
     "data": {
      "text/plain": [
       "6"
      ]
     },
     "metadata": {},
     "output_type": "display_data"
    },
    {
     "data": {
      "text/plain": [
       "Index(['4079_raw-Diastolic_blood_pressure_automated_reading',\n",
       "       '4080_raw-Systolic_blood_pressure_automated_reading',\n",
       "       '6150_100-Vascularheart_problems_diagnosed_by_doctor_None_of_the_above',\n",
       "       '6150_4-Vascularheart_problems_diagnosed_by_doctor_High_blood_pressure',\n",
       "       '6153_2-Medication_for_cholesterol_blood_pressure_diabetes_or_take_exogenous_hormones_Blood_pressure_medication',\n",
       "       'hypertension'],\n",
       "      dtype='object')"
      ]
     },
     "metadata": {},
     "output_type": "display_data"
    },
    {
     "data": {
      "text/html": [
       "<h3>Cluster 23.15</h3>"
      ],
      "text/plain": [
       "<IPython.core.display.HTML object>"
      ]
     },
     "metadata": {},
     "output_type": "display_data"
    },
    {
     "data": {
      "text/plain": [
       "9"
      ]
     },
     "metadata": {},
     "output_type": "display_data"
    },
    {
     "data": {
      "text/plain": [
       "Index(['30130_raw-Monocyte_count', '30150-Eosinophill_count',\n",
       "       '30180_raw-Lymphocyte_percentage', '30190_raw-Monocyte_percentage',\n",
       "       '30200_raw-Neutrophill_percentage', '30210_raw-Eosinophill_percentage',\n",
       "       'eosinophil count', 'lymphocyte count', 'monocyte count'],\n",
       "      dtype='object')"
      ]
     },
     "metadata": {},
     "output_type": "display_data"
    },
    {
     "data": {
      "text/html": [
       "<h3>Cluster 23.16</h3>"
      ],
      "text/plain": [
       "<IPython.core.display.HTML object>"
      ]
     },
     "metadata": {},
     "output_type": "display_data"
    },
    {
     "data": {
      "text/plain": [
       "136"
      ]
     },
     "metadata": {},
     "output_type": "display_data"
    },
    {
     "data": {
      "text/plain": [
       "Index(['129_raw-Place_of_birth_in_UK_north_coordinate',\n",
       "       '130_raw-Place_of_birth_in_UK_east_coordinate',\n",
       "       '20074_raw-Home_location_at_assessment_east_coordinate_rounded',\n",
       "       '20075_raw-Home_location_at_assessment_north_coordinate_rounded',\n",
       "       '20118_11-Home_area_population_density_urban_or_rural_Scotland_Large_Urban_Area',\n",
       "       '22704_raw-Home_location_north_coordinate_rounded',\n",
       "       '30220_raw-Basophill_percentage', 'abdominal injury',\n",
       "       'abnormal delivery', 'alcohol dependence',\n",
       "       ...\n",
       "       'tongue neoplasm', 'transient ischemic attack', 'tuberculosis',\n",
       "       'type ii diabetes mellitus', 'ulcerative colitis',\n",
       "       'urogenital neoplasm', 'urticaria', 'vascular disease', 'vasculitis',\n",
       "       'wrist fracture'],\n",
       "      dtype='object', length=136)"
      ]
     },
     "metadata": {},
     "output_type": "display_data"
    },
    {
     "data": {
      "text/html": [
       "<h3>Cluster 23.17</h3>"
      ],
      "text/plain": [
       "<IPython.core.display.HTML object>"
      ]
     },
     "metadata": {},
     "output_type": "display_data"
    },
    {
     "data": {
      "text/plain": [
       "1"
      ]
     },
     "metadata": {},
     "output_type": "display_data"
    },
    {
     "data": {
      "text/plain": [
       "Index(['20153_raw-Forced_expiratory_volume_in_1second_FEV1_predicted'], dtype='object')"
      ]
     },
     "metadata": {},
     "output_type": "display_data"
    },
    {
     "data": {
      "text/html": [
       "<h3>Cluster 23.18</h3>"
      ],
      "text/plain": [
       "<IPython.core.display.HTML object>"
      ]
     },
     "metadata": {},
     "output_type": "display_data"
    },
    {
     "data": {
      "text/plain": [
       "56"
      ]
     },
     "metadata": {},
     "output_type": "display_data"
    },
    {
     "data": {
      "text/plain": [
       "Index(['102_raw-Pulse_rate_automated_reading',\n",
       "       '1080-Time_spent_using_computer', '1319-Dried_fruit_intake',\n",
       "       '1478-Salt_added_to_food', '1488_raw-Tea_intake',\n",
       "       '1518-Hot_drink_temperature', '1528-Water_intake', '1757-Facial_ageing',\n",
       "       '20022_raw-Birth_weight',\n",
       "       '20023_raw-Mean_time_to_correctly_identify_matches',\n",
       "       '20116_0-Smoking_status_Never', '20127_raw-Neuroticism_score',\n",
       "       '20154_raw-Forced_expiratory_volume_in_1second_FEV1_predicted_percentage',\n",
       "       '20160-Ever_smoked',\n",
       "       '2217_raw-Age_started_wearing_glasses_or_contact_lenses',\n",
       "       '2237-Plays_computer_games', '2395_1-Hairbalding_pattern_Pattern_1',\n",
       "       '30060_raw-Mean_corpuscular_haemoglobin_concentration',\n",
       "       '30120_raw-Lymphocyte_count', '30530_raw-Sodium_in_urine',\n",
       "       '3064_raw-Peak_expiratory_flow_PEF',\n",
       "       '399_raw-Number_of_incorrect_matches_in_round',\n",
       "       '400_raw-Time_to_complete_round',\n",
       "       '404_raw-Duration_to_first_press_of_snapbutton_in_each_round',\n",
       "       '4100_raw-Ankle_spacing_width_left',\n",
       "       '4119_raw-Ankle_spacing_width_right', '4194_raw-Pulse_rate',\n",
       "       '46_raw-Hand_grip_strength_left', '47_raw-Hand_grip_strength_right',\n",
       "       '5084_raw-Spherical_power_right', '5085_raw-Spherical_power_left',\n",
       "       '6152_100-Blood_clot_DVT_bronchitis_emphysema_asthma_rhinitis_eczema_allergy_diagnosed_by_doctor_None_of_the_above',\n",
       "       '6152_8-Blood_clot_DVT_bronchitis_emphysema_asthma_rhinitis_eczema_allergy_diagnosed_by_doctor_Asthma',\n",
       "       '6152_9-Blood_clot_DVT_bronchitis_emphysema_asthma_rhinitis_eczema_allergy_diagnosed_by_doctor_Hayfever_allergic_rhinitis_or_eczema',\n",
       "       '924-Usual_walking_pace', 'age at first facial hair', 'age at menarche',\n",
       "       'anxiety', 'asthma', 'chronotype measurement',\n",
       "       'comparative body size at age 10, self-reported',\n",
       "       'ease of getting up in the morning, self-reported',\n",
       "       'excessive daytime sleepiness measurement AND narcolepsy without cataplexy',\n",
       "       'feeling tense measurement', 'hearing loss',\n",
       "       'inflammatory bowel disease', 'insomnia', 'irritability', 'mood swings',\n",
       "       'nap during day, self-reported', 'sleep duration', 'smoking cessation',\n",
       "       'snoring measurement', 'tiredness measurement', 'wheezing',\n",
       "       'worry measurement'],\n",
       "      dtype='object')"
      ]
     },
     "metadata": {},
     "output_type": "display_data"
    },
    {
     "data": {
      "text/html": [
       "<h3>Cluster 23.19</h3>"
      ],
      "text/plain": [
       "<IPython.core.display.HTML object>"
      ]
     },
     "metadata": {},
     "output_type": "display_data"
    },
    {
     "data": {
      "text/plain": [
       "19"
      ]
     },
     "metadata": {},
     "output_type": "display_data"
    },
    {
     "data": {
      "text/plain": [
       "Index(['1050-Time_spend_outdoors_in_summer',\n",
       "       '1070-Time_spent_watching_television_TV', '1448_1-Bread_type_White',\n",
       "       '1448_3-Bread_type_Wholemeal_or_wholegrain',\n",
       "       '20016_raw-Fluid_intelligence_score',\n",
       "       '2139_raw-Age_first_had_sexual_intercourse',\n",
       "       '22501_raw-Year_ended_full_time_education',\n",
       "       '2754_raw-Age_at_first_live_birth',\n",
       "       '6138_1-Qualifications_College_or_University_degree',\n",
       "       '6138_100-Qualifications_None_of_the_above',\n",
       "       '6138_2-Qualifications_A_levelsAS_levels_or_equivalent',\n",
       "       '6138_3-Qualifications_O_levelsGCSEs_or_equivalent',\n",
       "       '738-Average_total_household_income_before_tax',\n",
       "       '806-Job_involves_mainly_walking_or_standing',\n",
       "       '816-Job_involves_heavy_manual_or_physical_work',\n",
       "       'SSGAC_Education_Years_Pooled', 'schizophrenia', 'self rated health',\n",
       "       'self reported educational attainment'],\n",
       "      dtype='object')"
      ]
     },
     "metadata": {},
     "output_type": "display_data"
    },
    {
     "data": {
      "text/html": [
       "<h3>Cluster 23.20</h3>"
      ],
      "text/plain": [
       "<IPython.core.display.HTML object>"
      ]
     },
     "metadata": {},
     "output_type": "display_data"
    },
    {
     "data": {
      "text/plain": [
       "12"
      ]
     },
     "metadata": {},
     "output_type": "display_data"
    },
    {
     "data": {
      "text/plain": [
       "Index(['20003_1140883066-Treatmentmedication_code_insulin_product',\n",
       "       '20003_1141191044-Treatmentmedication_code_levothyroxine_sodium',\n",
       "       '2986-Started_insulin_within_one_year_diagnosis_of_diabetes',\n",
       "       '6144_3-Never_eat_eggs_dairy_wheat_sugar_Wheat_products',\n",
       "       'K11_COELIAC-Coeliac_disease', 'celiac disease',\n",
       "       'hyperthyroidism AND thyrotoxicosis', 'hypothyroidism AND myxedema',\n",
       "       'malabsorption syndrome', 'psoriasis', 'rheumatoid arthritis',\n",
       "       'systemic lupus erythematosus'],\n",
       "      dtype='object')"
      ]
     },
     "metadata": {},
     "output_type": "display_data"
    },
    {
     "data": {
      "text/html": [
       "<h3>Cluster 23.21</h3>"
      ],
      "text/plain": [
       "<IPython.core.display.HTML object>"
      ]
     },
     "metadata": {},
     "output_type": "display_data"
    },
    {
     "data": {
      "text/plain": [
       "230"
      ]
     },
     "metadata": {},
     "output_type": "display_data"
    },
    {
     "data": {
      "text/plain": [
       "Index(['1031-Frequency_of_friendfamily_visits',\n",
       "       '1060-Time_spent_outdoors_in_winter', '1090-Time_spent_driving',\n",
       "       '1100-Drive_faster_than_motorway_speed_limit',\n",
       "       '110001-Invitation_to_complete_online_24hour_recall_dietary_questionnaire_acceptance',\n",
       "       '1110-Length_of_mobile_phone_use',\n",
       "       '1120-Weekly_usage_of_mobile_phone_in_last_3_months',\n",
       "       '1289-Cooked_vegetable_intake', '1299-Salad_raw_vegetable_intake',\n",
       "       '1309-Fresh_fruit_intake',\n",
       "       ...\n",
       "       'osteoarthritis', 'osteoarthritis, hip', 'osteoarthritis, knee',\n",
       "       'osteoporosis', 'parkinson's disease',\n",
       "       'seasonal allergic rhinitis AND allergic rhinitis',\n",
       "       'seeing a general practitioner for nerves, anxiety, tension or depression, self-reported',\n",
       "       'smoking behavior', 'varicose veins', 'venous thromboembolism'],\n",
       "      dtype='object', length=230)"
      ]
     },
     "metadata": {},
     "output_type": "display_data"
    },
    {
     "data": {
      "text/html": [
       "<h3>Cluster 23.22</h3>"
      ],
      "text/plain": [
       "<IPython.core.display.HTML object>"
      ]
     },
     "metadata": {},
     "output_type": "display_data"
    },
    {
     "data": {
      "text/plain": [
       "36"
      ]
     },
     "metadata": {},
     "output_type": "display_data"
    },
    {
     "data": {
      "text/plain": [
       "Index(['20421-Ever_felt_worried_tense_or_anxious_for_most_of_a_month_or_longer',\n",
       "       '20425-Ever_worried_more_than_most_people_would_in_similar_situation',\n",
       "       '20441-Ever_had_prolonged_loss_of_interest_in_normal_activities',\n",
       "       '20446-Ever_had_prolonged_feelings_of_sadness_or_depression',\n",
       "       '20458-General_happiness', '20459-General_happiness_with_own_health',\n",
       "       '20460-Belief_that_own_life_is_meaningful',\n",
       "       '20479-Ever_thought_that_life_not_worth_living',\n",
       "       '20485-Ever_contemplated_selfharm',\n",
       "       '20494-Felt_irritable_or_had_angry_outbursts_in_past_month',\n",
       "       '20495-Avoided_activities_or_situations_because_of_previous_stressful_experience_in_past_month',\n",
       "       '20496-Felt_distant_from_other_people_in_past_month',\n",
       "       '20497-Repeated_disturbing_thoughts_of_stressful_experience_in_past_month',\n",
       "       '20498-Felt_very_upset_when_reminded_of_stressful_experience_in_past_month',\n",
       "       '20499-Ever_sought_or_received_professional_help_for_mental_distress',\n",
       "       '20500-Ever_suffered_mental_distress_preventing_usual_activities',\n",
       "       '20505-Recent_easy_annoyance_or_irritability',\n",
       "       '20506-Recent_feelings_or_nervousness_or_anxiety',\n",
       "       '20507-Recent_feelings_of_inadequacy',\n",
       "       '20508-Recent_trouble_concentrating_on_things',\n",
       "       '20509-Recent_inability_to_stop_or_control_worrying',\n",
       "       '20510-Recent_feelings_of_depression',\n",
       "       '20511-Recent_poor_appetite_or_overeating',\n",
       "       '20512-Recent_feelings_of_foreboding',\n",
       "       '20513-Recent_thoughts_of_suicide_or_selfharm',\n",
       "       '20514-Recent_lack_of_interest_or_pleasure_in_doing_things',\n",
       "       '20515-Recent_trouble_relaxing', '20516-Recent_restlessness',\n",
       "       '20517-Trouble_falling_or_staying_asleep_or_sleeping_too_much',\n",
       "       '20519-Recent_feelings_of_tiredness_or_low_energy',\n",
       "       '20520-Recent_worrying_too_much_about_different_things',\n",
       "       '20544_11-Mental_health_problems_ever_diagnosed_by_a_professional_Depression',\n",
       "       '20546_3-Substances_taken_for_depression_Medication_prescribed_to_you_for_at_least_two_weeks',\n",
       "       '20547_1-Activities_undertaken_to_treat_depression_Talking_therapies_such_as_psychotherapy_counselling_group_therapy_or_CBT',\n",
       "       '20549_3-Substances_taken_for_anxiety_Medication_prescribed_to_you_for_at_least_two_weeks',\n",
       "       'seeing a psychiatrist for nerves, anxiety, tension or depression, self-reported'],\n",
       "      dtype='object')"
      ]
     },
     "metadata": {},
     "output_type": "display_data"
    },
    {
     "data": {
      "text/html": [
       "<h2>Partition with k=24</h2>"
      ],
      "text/plain": [
       "<IPython.core.display.HTML object>"
      ]
     },
     "metadata": {},
     "output_type": "display_data"
    },
    {
     "data": {
      "text/plain": [
       "method                                                 scc_025\n",
       "partition    [0, 0, 0, 0, 0, 0, 0, 0, 0, 0, 0, 0, 0, 0, 0, ...\n",
       "ami_mean                                              0.288478\n",
       "selected                                                  True\n",
       "Name: 24, dtype: object"
      ]
     },
     "metadata": {},
     "output_type": "display_data"
    },
    {
     "data": {
      "text/plain": [
       "(3749,)"
      ]
     },
     "metadata": {},
     "output_type": "display_data"
    },
    {
     "data": {
      "text/plain": [
       "0     3155\n",
       "19     203\n",
       "23     136\n",
       "16      56\n",
       "20      36\n",
       "22      25\n",
       "21      19\n",
       "8       18\n",
       "7       13\n",
       "4       12\n",
       "18       9\n",
       "13       8\n",
       "2        8\n",
       "17       8\n",
       "12       6\n",
       "10       6\n",
       "9        5\n",
       "14       5\n",
       "3        5\n",
       "6        4\n",
       "5        4\n",
       "11       4\n",
       "1        3\n",
       "15       1\n",
       "dtype: int64"
      ]
     },
     "metadata": {},
     "output_type": "display_data"
    },
    {
     "data": {
      "text/html": [
       "<h3>Cluster 24.0</h3>"
      ],
      "text/plain": [
       "<IPython.core.display.HTML object>"
      ]
     },
     "metadata": {},
     "output_type": "display_data"
    },
    {
     "data": {
      "text/plain": [
       "3155"
      ]
     },
     "metadata": {},
     "output_type": "display_data"
    },
    {
     "data": {
      "text/plain": [
       "Index(['100001_raw-Food_weight', '100002_raw-Energy', '100003_raw-Protein',\n",
       "       '100004_raw-Fat', '100005_raw-Carbohydrate', '100006_raw-Saturated_fat',\n",
       "       '100007_raw-Polyunsaturated_fat', '100008_raw-Total_sugars',\n",
       "       '100009_raw-Englyst_dietary_fibre', '100010-Portion_size',\n",
       "       ...\n",
       "       'viral disease', 'viral human hepatitis infection', 'viral meningitis',\n",
       "       'visual impairment', 'vitiligo', 'vitreous body disease',\n",
       "       'vocal cord polyp', 'voice disorders',\n",
       "       'wellbeing measurement AND family relationship', 'whooping cough'],\n",
       "      dtype='object', length=3155)"
      ]
     },
     "metadata": {},
     "output_type": "display_data"
    },
    {
     "data": {
      "text/html": [
       "<h3>Cluster 24.1</h3>"
      ],
      "text/plain": [
       "<IPython.core.display.HTML object>"
      ]
     },
     "metadata": {},
     "output_type": "display_data"
    },
    {
     "data": {
      "text/plain": [
       "3"
      ]
     },
     "metadata": {},
     "output_type": "display_data"
    },
    {
     "data": {
      "text/plain": [
       "Index(['20015_raw-Sitting_height', '50_raw-Standing_height', 'body height'], dtype='object')"
      ]
     },
     "metadata": {},
     "output_type": "display_data"
    },
    {
     "data": {
      "text/html": [
       "<h3>Cluster 24.2</h3>"
      ],
      "text/plain": [
       "<IPython.core.display.HTML object>"
      ]
     },
     "metadata": {},
     "output_type": "display_data"
    },
    {
     "data": {
      "text/plain": [
       "8"
      ]
     },
     "metadata": {},
     "output_type": "display_data"
    },
    {
     "data": {
      "text/plain": [
       "Index(['5096_raw-3mm_weak_meridian_left', '5097_raw-6mm_weak_meridian_left',\n",
       "       '5098_raw-6mm_weak_meridian_right', '5099_raw-3mm_weak_meridian_right',\n",
       "       '5132_raw-3mm_strong_meridian_right',\n",
       "       '5133_raw-6mm_strong_meridian_right',\n",
       "       '5134_raw-6mm_strong_meridian_left',\n",
       "       '5135_raw-3mm_strong_meridian_left'],\n",
       "      dtype='object')"
      ]
     },
     "metadata": {},
     "output_type": "display_data"
    },
    {
     "data": {
      "text/html": [
       "<h3>Cluster 24.3</h3>"
      ],
      "text/plain": [
       "<IPython.core.display.HTML object>"
      ]
     },
     "metadata": {},
     "output_type": "display_data"
    },
    {
     "data": {
      "text/plain": [
       "5"
      ]
     },
     "metadata": {},
     "output_type": "display_data"
    },
    {
     "data": {
      "text/plain": [
       "Index(['23106_raw-Impedance_of_whole_body', '23107_raw-Impedance_of_leg_right',\n",
       "       '23108_raw-Impedance_of_leg_left', '23109_raw-Impedance_of_arm_right',\n",
       "       '23110_raw-Impedance_of_arm_left'],\n",
       "      dtype='object')"
      ]
     },
     "metadata": {},
     "output_type": "display_data"
    },
    {
     "data": {
      "text/html": [
       "<h3>Cluster 24.4</h3>"
      ],
      "text/plain": [
       "<IPython.core.display.HTML object>"
      ]
     },
     "metadata": {},
     "output_type": "display_data"
    },
    {
     "data": {
      "text/plain": [
       "12"
      ]
     },
     "metadata": {},
     "output_type": "display_data"
    },
    {
     "data": {
      "text/plain": [
       "Index(['3144_raw-Heel_Broadband_ultrasound_attenuation_direct_entry',\n",
       "       '3147_raw-Heel_quantitative_ultrasound_index_QUI_direct_entry',\n",
       "       '3148_raw-Heel_bone_mineral_density_BMD',\n",
       "       '4101_raw-Heel_broadband_ultrasound_attenuation_left',\n",
       "       '4104_raw-Heel_quantitative_ultrasound_index_QUI_direct_entry_left',\n",
       "       '4105_raw-Heel_bone_mineral_density_BMD_left',\n",
       "       '4106_raw-Heel_bone_mineral_density_BMD_Tscore_automated_left',\n",
       "       '4120_raw-Heel_broadband_ultrasound_attenuation_right',\n",
       "       '4123_raw-Heel_quantitative_ultrasound_index_QUI_direct_entry_right',\n",
       "       '4124_raw-Heel_bone_mineral_density_BMD_right',\n",
       "       '4125_raw-Heel_bone_mineral_density_BMD_Tscore_automated_right',\n",
       "       '78_raw-Heel_bone_mineral_density_BMD_Tscore_automated'],\n",
       "      dtype='object')"
      ]
     },
     "metadata": {},
     "output_type": "display_data"
    },
    {
     "data": {
      "text/html": [
       "<h3>Cluster 24.5</h3>"
      ],
      "text/plain": [
       "<IPython.core.display.HTML object>"
      ]
     },
     "metadata": {},
     "output_type": "display_data"
    },
    {
     "data": {
      "text/plain": [
       "4"
      ]
     },
     "metadata": {},
     "output_type": "display_data"
    },
    {
     "data": {
      "text/plain": [
       "Index(['30010_raw-Red_blood_cell_erythrocyte_count',\n",
       "       '30020_raw-Haemoglobin_concentration',\n",
       "       '30030_raw-Haematocrit_percentage', 'erythrocyte count'],\n",
       "      dtype='object')"
      ]
     },
     "metadata": {},
     "output_type": "display_data"
    },
    {
     "data": {
      "text/html": [
       "<h3>Cluster 24.6</h3>"
      ],
      "text/plain": [
       "<IPython.core.display.HTML object>"
      ]
     },
     "metadata": {},
     "output_type": "display_data"
    },
    {
     "data": {
      "text/plain": [
       "4"
      ]
     },
     "metadata": {},
     "output_type": "display_data"
    },
    {
     "data": {
      "text/plain": [
       "Index(['30040_raw-Mean_corpuscular_volume',\n",
       "       '30050_raw-Mean_corpuscular_haemoglobin',\n",
       "       '30260_raw-Mean_reticulocyte_volume',\n",
       "       '30270_raw-Mean_sphered_cell_volume'],\n",
       "      dtype='object')"
      ]
     },
     "metadata": {},
     "output_type": "display_data"
    },
    {
     "data": {
      "text/html": [
       "<h3>Cluster 24.7</h3>"
      ],
      "text/plain": [
       "<IPython.core.display.HTML object>"
      ]
     },
     "metadata": {},
     "output_type": "display_data"
    },
    {
     "data": {
      "text/plain": [
       "13"
      ]
     },
     "metadata": {},
     "output_type": "display_data"
    },
    {
     "data": {
      "text/plain": [
       "Index(['23101_raw-Whole_body_fatfree_mass', '23102_raw-Whole_body_water_mass',\n",
       "       '23105_raw-Basal_metabolic_rate', '23113_raw-Leg_fatfree_mass_right',\n",
       "       '23114_raw-Leg_predicted_mass_right', '23117_raw-Leg_fatfree_mass_left',\n",
       "       '23118_raw-Leg_predicted_mass_left', '23121_raw-Arm_fatfree_mass_right',\n",
       "       '23122_raw-Arm_predicted_mass_right', '23125_raw-Arm_fatfree_mass_left',\n",
       "       '23126_raw-Arm_predicted_mass_left', '23129_raw-Trunk_fatfree_mass',\n",
       "       '23130_raw-Trunk_predicted_mass'],\n",
       "      dtype='object')"
      ]
     },
     "metadata": {},
     "output_type": "display_data"
    },
    {
     "data": {
      "text/html": [
       "<h3>Cluster 24.8</h3>"
      ],
      "text/plain": [
       "<IPython.core.display.HTML object>"
      ]
     },
     "metadata": {},
     "output_type": "display_data"
    },
    {
     "data": {
      "text/plain": [
       "18"
      ]
     },
     "metadata": {},
     "output_type": "display_data"
    },
    {
     "data": {
      "text/plain": [
       "Index(['21001_raw-Body_mass_index_BMI', '21002_raw-Weight', '23098_raw-Weight',\n",
       "       '23099_raw-Body_fat_percentage', '23100_raw-Whole_body_fat_mass',\n",
       "       '23104_raw-Body_mass_index_BMI', '23111_raw-Leg_fat_percentage_right',\n",
       "       '23112_raw-Leg_fat_mass_right', '23115_raw-Leg_fat_percentage_left',\n",
       "       '23116_raw-Leg_fat_mass_left', '23119_raw-Arm_fat_percentage_right',\n",
       "       '23120_raw-Arm_fat_mass_right', '23123_raw-Arm_fat_percentage_left',\n",
       "       '23124_raw-Arm_fat_mass_left', '23127_raw-Trunk_fat_percentage',\n",
       "       '23128_raw-Trunk_fat_mass', '48_raw-Waist_circumference',\n",
       "       '49_raw-Hip_circumference'],\n",
       "      dtype='object')"
      ]
     },
     "metadata": {},
     "output_type": "display_data"
    },
    {
     "data": {
      "text/html": [
       "<h3>Cluster 24.9</h3>"
      ],
      "text/plain": [
       "<IPython.core.display.HTML object>"
      ]
     },
     "metadata": {},
     "output_type": "display_data"
    },
    {
     "data": {
      "text/plain": [
       "5"
      ]
     },
     "metadata": {},
     "output_type": "display_data"
    },
    {
     "data": {
      "text/plain": [
       "Index(['30080_raw-Platelet_count', '30090_raw-Platelet_crit',\n",
       "       '30100_raw-Mean_platelet_thrombocyte_volume',\n",
       "       '30110_raw-Platelet_distribution_width', 'platelet count'],\n",
       "      dtype='object')"
      ]
     },
     "metadata": {},
     "output_type": "display_data"
    },
    {
     "data": {
      "text/html": [
       "<h3>Cluster 24.10</h3>"
      ],
      "text/plain": [
       "<IPython.core.display.HTML object>"
      ]
     },
     "metadata": {},
     "output_type": "display_data"
    },
    {
     "data": {
      "text/plain": [
       "6"
      ]
     },
     "metadata": {},
     "output_type": "display_data"
    },
    {
     "data": {
      "text/plain": [
       "Index(['30240_raw-Reticulocyte_percentage', '30250_raw-Reticulocyte_count',\n",
       "       '30280_raw-Immature_reticulocyte_fraction',\n",
       "       '30290_raw-High_light_scatter_reticulocyte_percentage',\n",
       "       '30300_raw-High_light_scatter_reticulocyte_count',\n",
       "       'reticulocyte count'],\n",
       "      dtype='object')"
      ]
     },
     "metadata": {},
     "output_type": "display_data"
    },
    {
     "data": {
      "text/html": [
       "<h3>Cluster 24.11</h3>"
      ],
      "text/plain": [
       "<IPython.core.display.HTML object>"
      ]
     },
     "metadata": {},
     "output_type": "display_data"
    },
    {
     "data": {
      "text/plain": [
       "4"
      ]
     },
     "metadata": {},
     "output_type": "display_data"
    },
    {
     "data": {
      "text/plain": [
       "Index(['20150_raw-Forced_expiratory_volume_in_1second_FEV1_Best_measure',\n",
       "       '20151_raw-Forced_vital_capacity_FVC_Best_measure',\n",
       "       '3062_raw-Forced_vital_capacity_FVC',\n",
       "       '3063_raw-Forced_expiratory_volume_in_1second_FEV1'],\n",
       "      dtype='object')"
      ]
     },
     "metadata": {},
     "output_type": "display_data"
    },
    {
     "data": {
      "text/html": [
       "<h3>Cluster 24.12</h3>"
      ],
      "text/plain": [
       "<IPython.core.display.HTML object>"
      ]
     },
     "metadata": {},
     "output_type": "display_data"
    },
    {
     "data": {
      "text/plain": [
       "6"
      ]
     },
     "metadata": {},
     "output_type": "display_data"
    },
    {
     "data": {
      "text/plain": [
       "Index(['30000_raw-White_blood_cell_leukocyte_count',\n",
       "       '30140_raw-Neutrophill_count', 'granulocyte count', 'leukocyte count',\n",
       "       'myeloid white cell count', 'neutrophil count'],\n",
       "      dtype='object')"
      ]
     },
     "metadata": {},
     "output_type": "display_data"
    },
    {
     "data": {
      "text/html": [
       "<h3>Cluster 24.13</h3>"
      ],
      "text/plain": [
       "<IPython.core.display.HTML object>"
      ]
     },
     "metadata": {},
     "output_type": "display_data"
    },
    {
     "data": {
      "text/plain": [
       "8"
      ]
     },
     "metadata": {},
     "output_type": "display_data"
    },
    {
     "data": {
      "text/plain": [
       "Index(['1717-Skin_colour', '1727-Ease_of_skin_tanning',\n",
       "       '1737-Childhood_sunburn_occasions',\n",
       "       '1747_1-Hair_colour_natural_before_greying_Blonde',\n",
       "       '1747_2-Hair_colour_natural_before_greying_Red',\n",
       "       '1747_3-Hair_colour_natural_before_greying_Light_brown',\n",
       "       '1747_4-Hair_colour_natural_before_greying_Dark_brown',\n",
       "       '1747_5-Hair_colour_natural_before_greying_Black'],\n",
       "      dtype='object')"
      ]
     },
     "metadata": {},
     "output_type": "display_data"
    },
    {
     "data": {
      "text/html": [
       "<h3>Cluster 24.14</h3>"
      ],
      "text/plain": [
       "<IPython.core.display.HTML object>"
      ]
     },
     "metadata": {},
     "output_type": "display_data"
    },
    {
     "data": {
      "text/plain": [
       "5"
      ]
     },
     "metadata": {},
     "output_type": "display_data"
    },
    {
     "data": {
      "text/plain": [
       "Index(['4079_raw-Diastolic_blood_pressure_automated_reading',\n",
       "       '4080_raw-Systolic_blood_pressure_automated_reading',\n",
       "       '6150_100-Vascularheart_problems_diagnosed_by_doctor_None_of_the_above',\n",
       "       '6150_4-Vascularheart_problems_diagnosed_by_doctor_High_blood_pressure',\n",
       "       'hypertension'],\n",
       "      dtype='object')"
      ]
     },
     "metadata": {},
     "output_type": "display_data"
    },
    {
     "data": {
      "text/html": [
       "<h3>Cluster 24.15</h3>"
      ],
      "text/plain": [
       "<IPython.core.display.HTML object>"
      ]
     },
     "metadata": {},
     "output_type": "display_data"
    },
    {
     "data": {
      "text/plain": [
       "1"
      ]
     },
     "metadata": {},
     "output_type": "display_data"
    },
    {
     "data": {
      "text/plain": [
       "Index(['20153_raw-Forced_expiratory_volume_in_1second_FEV1_predicted'], dtype='object')"
      ]
     },
     "metadata": {},
     "output_type": "display_data"
    },
    {
     "data": {
      "text/html": [
       "<h3>Cluster 24.16</h3>"
      ],
      "text/plain": [
       "<IPython.core.display.HTML object>"
      ]
     },
     "metadata": {},
     "output_type": "display_data"
    },
    {
     "data": {
      "text/plain": [
       "56"
      ]
     },
     "metadata": {},
     "output_type": "display_data"
    },
    {
     "data": {
      "text/plain": [
       "Index(['102_raw-Pulse_rate_automated_reading',\n",
       "       '1080-Time_spent_using_computer', '1319-Dried_fruit_intake',\n",
       "       '1478-Salt_added_to_food', '1488_raw-Tea_intake',\n",
       "       '1518-Hot_drink_temperature', '1528-Water_intake', '1757-Facial_ageing',\n",
       "       '20022_raw-Birth_weight',\n",
       "       '20023_raw-Mean_time_to_correctly_identify_matches',\n",
       "       '20116_0-Smoking_status_Never', '20127_raw-Neuroticism_score',\n",
       "       '20154_raw-Forced_expiratory_volume_in_1second_FEV1_predicted_percentage',\n",
       "       '20160-Ever_smoked',\n",
       "       '2217_raw-Age_started_wearing_glasses_or_contact_lenses',\n",
       "       '2237-Plays_computer_games', '2395_1-Hairbalding_pattern_Pattern_1',\n",
       "       '30060_raw-Mean_corpuscular_haemoglobin_concentration',\n",
       "       '30120_raw-Lymphocyte_count', '30530_raw-Sodium_in_urine',\n",
       "       '3064_raw-Peak_expiratory_flow_PEF',\n",
       "       '399_raw-Number_of_incorrect_matches_in_round',\n",
       "       '400_raw-Time_to_complete_round',\n",
       "       '404_raw-Duration_to_first_press_of_snapbutton_in_each_round',\n",
       "       '4100_raw-Ankle_spacing_width_left',\n",
       "       '4119_raw-Ankle_spacing_width_right', '4194_raw-Pulse_rate',\n",
       "       '46_raw-Hand_grip_strength_left', '47_raw-Hand_grip_strength_right',\n",
       "       '5084_raw-Spherical_power_right', '5085_raw-Spherical_power_left',\n",
       "       '6152_100-Blood_clot_DVT_bronchitis_emphysema_asthma_rhinitis_eczema_allergy_diagnosed_by_doctor_None_of_the_above',\n",
       "       '6152_8-Blood_clot_DVT_bronchitis_emphysema_asthma_rhinitis_eczema_allergy_diagnosed_by_doctor_Asthma',\n",
       "       '6152_9-Blood_clot_DVT_bronchitis_emphysema_asthma_rhinitis_eczema_allergy_diagnosed_by_doctor_Hayfever_allergic_rhinitis_or_eczema',\n",
       "       '924-Usual_walking_pace', 'age at first facial hair', 'age at menarche',\n",
       "       'anxiety', 'asthma', 'chronotype measurement',\n",
       "       'comparative body size at age 10, self-reported',\n",
       "       'ease of getting up in the morning, self-reported',\n",
       "       'excessive daytime sleepiness measurement AND narcolepsy without cataplexy',\n",
       "       'feeling tense measurement', 'hearing loss',\n",
       "       'inflammatory bowel disease', 'insomnia', 'irritability', 'mood swings',\n",
       "       'nap during day, self-reported', 'sleep duration', 'smoking cessation',\n",
       "       'snoring measurement', 'tiredness measurement', 'wheezing',\n",
       "       'worry measurement'],\n",
       "      dtype='object')"
      ]
     },
     "metadata": {},
     "output_type": "display_data"
    },
    {
     "data": {
      "text/html": [
       "<h3>Cluster 24.17</h3>"
      ],
      "text/plain": [
       "<IPython.core.display.HTML object>"
      ]
     },
     "metadata": {},
     "output_type": "display_data"
    },
    {
     "data": {
      "text/plain": [
       "8"
      ]
     },
     "metadata": {},
     "output_type": "display_data"
    },
    {
     "data": {
      "text/plain": [
       "Index(['20003_1141191044-Treatmentmedication_code_levothyroxine_sodium',\n",
       "       'K11_COELIAC-Coeliac_disease', 'celiac disease',\n",
       "       'hypothyroidism AND myxedema', 'malabsorption syndrome', 'psoriasis',\n",
       "       'rheumatoid arthritis', 'systemic lupus erythematosus'],\n",
       "      dtype='object')"
      ]
     },
     "metadata": {},
     "output_type": "display_data"
    },
    {
     "data": {
      "text/html": [
       "<h3>Cluster 24.18</h3>"
      ],
      "text/plain": [
       "<IPython.core.display.HTML object>"
      ]
     },
     "metadata": {},
     "output_type": "display_data"
    },
    {
     "data": {
      "text/plain": [
       "9"
      ]
     },
     "metadata": {},
     "output_type": "display_data"
    },
    {
     "data": {
      "text/plain": [
       "Index(['30130_raw-Monocyte_count', '30150-Eosinophill_count',\n",
       "       '30180_raw-Lymphocyte_percentage', '30190_raw-Monocyte_percentage',\n",
       "       '30200_raw-Neutrophill_percentage', '30210_raw-Eosinophill_percentage',\n",
       "       'eosinophil count', 'lymphocyte count', 'monocyte count'],\n",
       "      dtype='object')"
      ]
     },
     "metadata": {},
     "output_type": "display_data"
    },
    {
     "data": {
      "text/html": [
       "<h3>Cluster 24.19</h3>"
      ],
      "text/plain": [
       "<IPython.core.display.HTML object>"
      ]
     },
     "metadata": {},
     "output_type": "display_data"
    },
    {
     "data": {
      "text/plain": [
       "203"
      ]
     },
     "metadata": {},
     "output_type": "display_data"
    },
    {
     "data": {
      "text/plain": [
       "Index(['1021-Duration_of_light_DIY', '1031-Frequency_of_friendfamily_visits',\n",
       "       '1060-Time_spent_outdoors_in_winter', '1090-Time_spent_driving',\n",
       "       '1100-Drive_faster_than_motorway_speed_limit',\n",
       "       '110001-Invitation_to_complete_online_24hour_recall_dietary_questionnaire_acceptance',\n",
       "       '1110-Length_of_mobile_phone_use',\n",
       "       '1120-Weekly_usage_of_mobile_phone_in_last_3_months',\n",
       "       '1289-Cooked_vegetable_intake', '1299-Salad_raw_vegetable_intake',\n",
       "       ...\n",
       "       'number of operations, self-reported', 'osteoarthritis',\n",
       "       'osteoarthritis, hip', 'osteoarthritis, knee', 'osteoporosis',\n",
       "       'parkinson's disease',\n",
       "       'seeing a general practitioner for nerves, anxiety, tension or depression, self-reported',\n",
       "       'smoking behavior', 'varicose veins', 'venous thromboembolism'],\n",
       "      dtype='object', length=203)"
      ]
     },
     "metadata": {},
     "output_type": "display_data"
    },
    {
     "data": {
      "text/html": [
       "<h3>Cluster 24.20</h3>"
      ],
      "text/plain": [
       "<IPython.core.display.HTML object>"
      ]
     },
     "metadata": {},
     "output_type": "display_data"
    },
    {
     "data": {
      "text/plain": [
       "36"
      ]
     },
     "metadata": {},
     "output_type": "display_data"
    },
    {
     "data": {
      "text/plain": [
       "Index(['20421-Ever_felt_worried_tense_or_anxious_for_most_of_a_month_or_longer',\n",
       "       '20425-Ever_worried_more_than_most_people_would_in_similar_situation',\n",
       "       '20441-Ever_had_prolonged_loss_of_interest_in_normal_activities',\n",
       "       '20446-Ever_had_prolonged_feelings_of_sadness_or_depression',\n",
       "       '20458-General_happiness', '20459-General_happiness_with_own_health',\n",
       "       '20460-Belief_that_own_life_is_meaningful',\n",
       "       '20479-Ever_thought_that_life_not_worth_living',\n",
       "       '20485-Ever_contemplated_selfharm',\n",
       "       '20494-Felt_irritable_or_had_angry_outbursts_in_past_month',\n",
       "       '20495-Avoided_activities_or_situations_because_of_previous_stressful_experience_in_past_month',\n",
       "       '20496-Felt_distant_from_other_people_in_past_month',\n",
       "       '20497-Repeated_disturbing_thoughts_of_stressful_experience_in_past_month',\n",
       "       '20498-Felt_very_upset_when_reminded_of_stressful_experience_in_past_month',\n",
       "       '20499-Ever_sought_or_received_professional_help_for_mental_distress',\n",
       "       '20500-Ever_suffered_mental_distress_preventing_usual_activities',\n",
       "       '20505-Recent_easy_annoyance_or_irritability',\n",
       "       '20506-Recent_feelings_or_nervousness_or_anxiety',\n",
       "       '20507-Recent_feelings_of_inadequacy',\n",
       "       '20508-Recent_trouble_concentrating_on_things',\n",
       "       '20509-Recent_inability_to_stop_or_control_worrying',\n",
       "       '20510-Recent_feelings_of_depression',\n",
       "       '20511-Recent_poor_appetite_or_overeating',\n",
       "       '20512-Recent_feelings_of_foreboding',\n",
       "       '20513-Recent_thoughts_of_suicide_or_selfharm',\n",
       "       '20514-Recent_lack_of_interest_or_pleasure_in_doing_things',\n",
       "       '20515-Recent_trouble_relaxing', '20516-Recent_restlessness',\n",
       "       '20517-Trouble_falling_or_staying_asleep_or_sleeping_too_much',\n",
       "       '20519-Recent_feelings_of_tiredness_or_low_energy',\n",
       "       '20520-Recent_worrying_too_much_about_different_things',\n",
       "       '20544_11-Mental_health_problems_ever_diagnosed_by_a_professional_Depression',\n",
       "       '20546_3-Substances_taken_for_depression_Medication_prescribed_to_you_for_at_least_two_weeks',\n",
       "       '20547_1-Activities_undertaken_to_treat_depression_Talking_therapies_such_as_psychotherapy_counselling_group_therapy_or_CBT',\n",
       "       '20549_3-Substances_taken_for_anxiety_Medication_prescribed_to_you_for_at_least_two_weeks',\n",
       "       'seeing a psychiatrist for nerves, anxiety, tension or depression, self-reported'],\n",
       "      dtype='object')"
      ]
     },
     "metadata": {},
     "output_type": "display_data"
    },
    {
     "data": {
      "text/html": [
       "<h3>Cluster 24.21</h3>"
      ],
      "text/plain": [
       "<IPython.core.display.HTML object>"
      ]
     },
     "metadata": {},
     "output_type": "display_data"
    },
    {
     "data": {
      "text/plain": [
       "19"
      ]
     },
     "metadata": {},
     "output_type": "display_data"
    },
    {
     "data": {
      "text/plain": [
       "Index(['1050-Time_spend_outdoors_in_summer',\n",
       "       '1070-Time_spent_watching_television_TV', '1448_1-Bread_type_White',\n",
       "       '1448_3-Bread_type_Wholemeal_or_wholegrain',\n",
       "       '20016_raw-Fluid_intelligence_score',\n",
       "       '2139_raw-Age_first_had_sexual_intercourse',\n",
       "       '22501_raw-Year_ended_full_time_education',\n",
       "       '2754_raw-Age_at_first_live_birth',\n",
       "       '6138_1-Qualifications_College_or_University_degree',\n",
       "       '6138_100-Qualifications_None_of_the_above',\n",
       "       '6138_2-Qualifications_A_levelsAS_levels_or_equivalent',\n",
       "       '6138_3-Qualifications_O_levelsGCSEs_or_equivalent',\n",
       "       '738-Average_total_household_income_before_tax',\n",
       "       '806-Job_involves_mainly_walking_or_standing',\n",
       "       '816-Job_involves_heavy_manual_or_physical_work',\n",
       "       'SSGAC_Education_Years_Pooled', 'schizophrenia', 'self rated health',\n",
       "       'self reported educational attainment'],\n",
       "      dtype='object')"
      ]
     },
     "metadata": {},
     "output_type": "display_data"
    },
    {
     "data": {
      "text/html": [
       "<h3>Cluster 24.22</h3>"
      ],
      "text/plain": [
       "<IPython.core.display.HTML object>"
      ]
     },
     "metadata": {},
     "output_type": "display_data"
    },
    {
     "data": {
      "text/plain": [
       "25"
      ]
     },
     "metadata": {},
     "output_type": "display_data"
    },
    {
     "data": {
      "text/plain": [
       "Index(['20003_1140861958-Treatmentmedication_code_simvastatin',\n",
       "       '20003_1140868226-Treatmentmedication_code_aspirin',\n",
       "       '20003_1141194794-Treatmentmedication_code_bendroflumethiazide',\n",
       "       '6150_1-Vascularheart_problems_diagnosed_by_doctor_Heart_attack',\n",
       "       '6150_2-Vascularheart_problems_diagnosed_by_doctor_Angina',\n",
       "       '6153_1-Medication_for_cholesterol_blood_pressure_diabetes_or_take_exogenous_hormones_Cholesterol_lowering_medication',\n",
       "       '6153_100-Medication_for_cholesterol_blood_pressure_diabetes_or_take_exogenous_hormones_None_of_the_above',\n",
       "       '6154_1-Medication_for_pain_relief_constipation_heartburn_Aspirin',\n",
       "       '6177_1-Medication_for_cholesterol_blood_pressure_or_diabetes_Cholesterol_lowering_medication',\n",
       "       '6177_100-Medication_for_cholesterol_blood_pressure_or_diabetes_None_of_the_above',\n",
       "       '6177_2-Medication_for_cholesterol_blood_pressure_or_diabetes_Blood_pressure_medication',\n",
       "       'I9_CHD-Major_coronary_heart_disease_event',\n",
       "       'I9_CHD_NOREV-Major_coronary_heart_disease_event_excluding_revascularizations',\n",
       "       'I9_CORATHER-Coronary_atherosclerosis',\n",
       "       'I9_IHD-Ischaemic_heart_disease_wide_definition',\n",
       "       'I9_MI-Myocardial_infarction',\n",
       "       'I9_MI_STRICT-Myocardial_infarction_strict',\n",
       "       'IX_CIRCULATORY-Diseases_of_the_circulatory_system',\n",
       "       'acute myocardial infarction', 'angina pectoris',\n",
       "       'coronary artery disease', 'hypercholesterolemia',\n",
       "       'myocardial infarction',\n",
       "       'number of non-cancer illnesses, self-reported',\n",
       "       'number of treatments or medications taken, self-reported'],\n",
       "      dtype='object')"
      ]
     },
     "metadata": {},
     "output_type": "display_data"
    },
    {
     "data": {
      "text/html": [
       "<h3>Cluster 24.23</h3>"
      ],
      "text/plain": [
       "<IPython.core.display.HTML object>"
      ]
     },
     "metadata": {},
     "output_type": "display_data"
    },
    {
     "data": {
      "text/plain": [
       "136"
      ]
     },
     "metadata": {},
     "output_type": "display_data"
    },
    {
     "data": {
      "text/plain": [
       "Index(['129_raw-Place_of_birth_in_UK_north_coordinate',\n",
       "       '130_raw-Place_of_birth_in_UK_east_coordinate',\n",
       "       '20074_raw-Home_location_at_assessment_east_coordinate_rounded',\n",
       "       '20075_raw-Home_location_at_assessment_north_coordinate_rounded',\n",
       "       '20118_11-Home_area_population_density_urban_or_rural_Scotland_Large_Urban_Area',\n",
       "       '22704_raw-Home_location_north_coordinate_rounded',\n",
       "       '30220_raw-Basophill_percentage', 'abdominal injury',\n",
       "       'abnormal delivery', 'alcohol dependence',\n",
       "       ...\n",
       "       'tongue neoplasm', 'transient ischemic attack', 'tuberculosis',\n",
       "       'type ii diabetes mellitus', 'ulcerative colitis',\n",
       "       'urogenital neoplasm', 'urticaria', 'vascular disease', 'vasculitis',\n",
       "       'wrist fracture'],\n",
       "      dtype='object', length=136)"
      ]
     },
     "metadata": {},
     "output_type": "display_data"
    },
    {
     "data": {
      "text/html": [
       "<h2>Partition with k=26</h2>"
      ],
      "text/plain": [
       "<IPython.core.display.HTML object>"
      ]
     },
     "metadata": {},
     "output_type": "display_data"
    },
    {
     "data": {
      "text/plain": [
       "method                                                 scc_025\n",
       "partition    [0, 0, 0, 0, 0, 0, 0, 0, 0, 0, 0, 0, 0, 0, 0, ...\n",
       "ami_mean                                              0.289763\n",
       "selected                                                  True\n",
       "Name: 26, dtype: object"
      ]
     },
     "metadata": {},
     "output_type": "display_data"
    },
    {
     "data": {
      "text/plain": [
       "(3749,)"
      ]
     },
     "metadata": {},
     "output_type": "display_data"
    },
    {
     "data": {
      "text/plain": [
       "0     3332\n",
       "22     136\n",
       "23      65\n",
       "24      36\n",
       "15      25\n",
       "20      19\n",
       "10      18\n",
       "5       13\n",
       "19      13\n",
       "18      12\n",
       "4       12\n",
       "16       8\n",
       "6        8\n",
       "11       6\n",
       "12       6\n",
       "3        5\n",
       "13       5\n",
       "8        5\n",
       "7        4\n",
       "2        4\n",
       "9        4\n",
       "14       4\n",
       "1        3\n",
       "21       3\n",
       "25       2\n",
       "17       1\n",
       "dtype: int64"
      ]
     },
     "metadata": {},
     "output_type": "display_data"
    },
    {
     "data": {
      "text/html": [
       "<h3>Cluster 26.0</h3>"
      ],
      "text/plain": [
       "<IPython.core.display.HTML object>"
      ]
     },
     "metadata": {},
     "output_type": "display_data"
    },
    {
     "data": {
      "text/plain": [
       "3332"
      ]
     },
     "metadata": {},
     "output_type": "display_data"
    },
    {
     "data": {
      "text/plain": [
       "Index(['100001_raw-Food_weight', '100002_raw-Energy', '100003_raw-Protein',\n",
       "       '100004_raw-Fat', '100005_raw-Carbohydrate', '100006_raw-Saturated_fat',\n",
       "       '100007_raw-Polyunsaturated_fat', '100008_raw-Total_sugars',\n",
       "       '100009_raw-Englyst_dietary_fibre', '100010-Portion_size',\n",
       "       ...\n",
       "       'viral disease', 'viral human hepatitis infection', 'viral meningitis',\n",
       "       'visual impairment', 'vitiligo', 'vitreous body disease',\n",
       "       'vocal cord polyp', 'voice disorders',\n",
       "       'wellbeing measurement AND family relationship', 'whooping cough'],\n",
       "      dtype='object', length=3332)"
      ]
     },
     "metadata": {},
     "output_type": "display_data"
    },
    {
     "data": {
      "text/html": [
       "<h3>Cluster 26.1</h3>"
      ],
      "text/plain": [
       "<IPython.core.display.HTML object>"
      ]
     },
     "metadata": {},
     "output_type": "display_data"
    },
    {
     "data": {
      "text/plain": [
       "3"
      ]
     },
     "metadata": {},
     "output_type": "display_data"
    },
    {
     "data": {
      "text/plain": [
       "Index(['20015_raw-Sitting_height', '50_raw-Standing_height', 'body height'], dtype='object')"
      ]
     },
     "metadata": {},
     "output_type": "display_data"
    },
    {
     "data": {
      "text/html": [
       "<h3>Cluster 26.2</h3>"
      ],
      "text/plain": [
       "<IPython.core.display.HTML object>"
      ]
     },
     "metadata": {},
     "output_type": "display_data"
    },
    {
     "data": {
      "text/plain": [
       "4"
      ]
     },
     "metadata": {},
     "output_type": "display_data"
    },
    {
     "data": {
      "text/plain": [
       "Index(['30040_raw-Mean_corpuscular_volume',\n",
       "       '30050_raw-Mean_corpuscular_haemoglobin',\n",
       "       '30260_raw-Mean_reticulocyte_volume',\n",
       "       '30270_raw-Mean_sphered_cell_volume'],\n",
       "      dtype='object')"
      ]
     },
     "metadata": {},
     "output_type": "display_data"
    },
    {
     "data": {
      "text/html": [
       "<h3>Cluster 26.3</h3>"
      ],
      "text/plain": [
       "<IPython.core.display.HTML object>"
      ]
     },
     "metadata": {},
     "output_type": "display_data"
    },
    {
     "data": {
      "text/plain": [
       "5"
      ]
     },
     "metadata": {},
     "output_type": "display_data"
    },
    {
     "data": {
      "text/plain": [
       "Index(['23106_raw-Impedance_of_whole_body', '23107_raw-Impedance_of_leg_right',\n",
       "       '23108_raw-Impedance_of_leg_left', '23109_raw-Impedance_of_arm_right',\n",
       "       '23110_raw-Impedance_of_arm_left'],\n",
       "      dtype='object')"
      ]
     },
     "metadata": {},
     "output_type": "display_data"
    },
    {
     "data": {
      "text/html": [
       "<h3>Cluster 26.4</h3>"
      ],
      "text/plain": [
       "<IPython.core.display.HTML object>"
      ]
     },
     "metadata": {},
     "output_type": "display_data"
    },
    {
     "data": {
      "text/plain": [
       "12"
      ]
     },
     "metadata": {},
     "output_type": "display_data"
    },
    {
     "data": {
      "text/plain": [
       "Index(['3144_raw-Heel_Broadband_ultrasound_attenuation_direct_entry',\n",
       "       '3147_raw-Heel_quantitative_ultrasound_index_QUI_direct_entry',\n",
       "       '3148_raw-Heel_bone_mineral_density_BMD',\n",
       "       '4101_raw-Heel_broadband_ultrasound_attenuation_left',\n",
       "       '4104_raw-Heel_quantitative_ultrasound_index_QUI_direct_entry_left',\n",
       "       '4105_raw-Heel_bone_mineral_density_BMD_left',\n",
       "       '4106_raw-Heel_bone_mineral_density_BMD_Tscore_automated_left',\n",
       "       '4120_raw-Heel_broadband_ultrasound_attenuation_right',\n",
       "       '4123_raw-Heel_quantitative_ultrasound_index_QUI_direct_entry_right',\n",
       "       '4124_raw-Heel_bone_mineral_density_BMD_right',\n",
       "       '4125_raw-Heel_bone_mineral_density_BMD_Tscore_automated_right',\n",
       "       '78_raw-Heel_bone_mineral_density_BMD_Tscore_automated'],\n",
       "      dtype='object')"
      ]
     },
     "metadata": {},
     "output_type": "display_data"
    },
    {
     "data": {
      "text/html": [
       "<h3>Cluster 26.5</h3>"
      ],
      "text/plain": [
       "<IPython.core.display.HTML object>"
      ]
     },
     "metadata": {},
     "output_type": "display_data"
    },
    {
     "data": {
      "text/plain": [
       "13"
      ]
     },
     "metadata": {},
     "output_type": "display_data"
    },
    {
     "data": {
      "text/plain": [
       "Index(['23101_raw-Whole_body_fatfree_mass', '23102_raw-Whole_body_water_mass',\n",
       "       '23105_raw-Basal_metabolic_rate', '23113_raw-Leg_fatfree_mass_right',\n",
       "       '23114_raw-Leg_predicted_mass_right', '23117_raw-Leg_fatfree_mass_left',\n",
       "       '23118_raw-Leg_predicted_mass_left', '23121_raw-Arm_fatfree_mass_right',\n",
       "       '23122_raw-Arm_predicted_mass_right', '23125_raw-Arm_fatfree_mass_left',\n",
       "       '23126_raw-Arm_predicted_mass_left', '23129_raw-Trunk_fatfree_mass',\n",
       "       '23130_raw-Trunk_predicted_mass'],\n",
       "      dtype='object')"
      ]
     },
     "metadata": {},
     "output_type": "display_data"
    },
    {
     "data": {
      "text/html": [
       "<h3>Cluster 26.6</h3>"
      ],
      "text/plain": [
       "<IPython.core.display.HTML object>"
      ]
     },
     "metadata": {},
     "output_type": "display_data"
    },
    {
     "data": {
      "text/plain": [
       "8"
      ]
     },
     "metadata": {},
     "output_type": "display_data"
    },
    {
     "data": {
      "text/plain": [
       "Index(['5096_raw-3mm_weak_meridian_left', '5097_raw-6mm_weak_meridian_left',\n",
       "       '5098_raw-6mm_weak_meridian_right', '5099_raw-3mm_weak_meridian_right',\n",
       "       '5132_raw-3mm_strong_meridian_right',\n",
       "       '5133_raw-6mm_strong_meridian_right',\n",
       "       '5134_raw-6mm_strong_meridian_left',\n",
       "       '5135_raw-3mm_strong_meridian_left'],\n",
       "      dtype='object')"
      ]
     },
     "metadata": {},
     "output_type": "display_data"
    },
    {
     "data": {
      "text/html": [
       "<h3>Cluster 26.7</h3>"
      ],
      "text/plain": [
       "<IPython.core.display.HTML object>"
      ]
     },
     "metadata": {},
     "output_type": "display_data"
    },
    {
     "data": {
      "text/plain": [
       "4"
      ]
     },
     "metadata": {},
     "output_type": "display_data"
    },
    {
     "data": {
      "text/plain": [
       "Index(['30010_raw-Red_blood_cell_erythrocyte_count',\n",
       "       '30020_raw-Haemoglobin_concentration',\n",
       "       '30030_raw-Haematocrit_percentage', 'erythrocyte count'],\n",
       "      dtype='object')"
      ]
     },
     "metadata": {},
     "output_type": "display_data"
    },
    {
     "data": {
      "text/html": [
       "<h3>Cluster 26.8</h3>"
      ],
      "text/plain": [
       "<IPython.core.display.HTML object>"
      ]
     },
     "metadata": {},
     "output_type": "display_data"
    },
    {
     "data": {
      "text/plain": [
       "5"
      ]
     },
     "metadata": {},
     "output_type": "display_data"
    },
    {
     "data": {
      "text/plain": [
       "Index(['30080_raw-Platelet_count', '30090_raw-Platelet_crit',\n",
       "       '30100_raw-Mean_platelet_thrombocyte_volume',\n",
       "       '30110_raw-Platelet_distribution_width', 'platelet count'],\n",
       "      dtype='object')"
      ]
     },
     "metadata": {},
     "output_type": "display_data"
    },
    {
     "data": {
      "text/html": [
       "<h3>Cluster 26.9</h3>"
      ],
      "text/plain": [
       "<IPython.core.display.HTML object>"
      ]
     },
     "metadata": {},
     "output_type": "display_data"
    },
    {
     "data": {
      "text/plain": [
       "4"
      ]
     },
     "metadata": {},
     "output_type": "display_data"
    },
    {
     "data": {
      "text/plain": [
       "Index(['30130_raw-Monocyte_count', '30190_raw-Monocyte_percentage',\n",
       "       'eosinophil count', 'monocyte count'],\n",
       "      dtype='object')"
      ]
     },
     "metadata": {},
     "output_type": "display_data"
    },
    {
     "data": {
      "text/html": [
       "<h3>Cluster 26.10</h3>"
      ],
      "text/plain": [
       "<IPython.core.display.HTML object>"
      ]
     },
     "metadata": {},
     "output_type": "display_data"
    },
    {
     "data": {
      "text/plain": [
       "18"
      ]
     },
     "metadata": {},
     "output_type": "display_data"
    },
    {
     "data": {
      "text/plain": [
       "Index(['21001_raw-Body_mass_index_BMI', '21002_raw-Weight', '23098_raw-Weight',\n",
       "       '23099_raw-Body_fat_percentage', '23100_raw-Whole_body_fat_mass',\n",
       "       '23104_raw-Body_mass_index_BMI', '23111_raw-Leg_fat_percentage_right',\n",
       "       '23112_raw-Leg_fat_mass_right', '23115_raw-Leg_fat_percentage_left',\n",
       "       '23116_raw-Leg_fat_mass_left', '23119_raw-Arm_fat_percentage_right',\n",
       "       '23120_raw-Arm_fat_mass_right', '23123_raw-Arm_fat_percentage_left',\n",
       "       '23124_raw-Arm_fat_mass_left', '23127_raw-Trunk_fat_percentage',\n",
       "       '23128_raw-Trunk_fat_mass', '48_raw-Waist_circumference',\n",
       "       '49_raw-Hip_circumference'],\n",
       "      dtype='object')"
      ]
     },
     "metadata": {},
     "output_type": "display_data"
    },
    {
     "data": {
      "text/html": [
       "<h3>Cluster 26.11</h3>"
      ],
      "text/plain": [
       "<IPython.core.display.HTML object>"
      ]
     },
     "metadata": {},
     "output_type": "display_data"
    },
    {
     "data": {
      "text/plain": [
       "6"
      ]
     },
     "metadata": {},
     "output_type": "display_data"
    },
    {
     "data": {
      "text/plain": [
       "Index(['30240_raw-Reticulocyte_percentage', '30250_raw-Reticulocyte_count',\n",
       "       '30280_raw-Immature_reticulocyte_fraction',\n",
       "       '30290_raw-High_light_scatter_reticulocyte_percentage',\n",
       "       '30300_raw-High_light_scatter_reticulocyte_count',\n",
       "       'reticulocyte count'],\n",
       "      dtype='object')"
      ]
     },
     "metadata": {},
     "output_type": "display_data"
    },
    {
     "data": {
      "text/html": [
       "<h3>Cluster 26.12</h3>"
      ],
      "text/plain": [
       "<IPython.core.display.HTML object>"
      ]
     },
     "metadata": {},
     "output_type": "display_data"
    },
    {
     "data": {
      "text/plain": [
       "6"
      ]
     },
     "metadata": {},
     "output_type": "display_data"
    },
    {
     "data": {
      "text/plain": [
       "Index(['30000_raw-White_blood_cell_leukocyte_count',\n",
       "       '30140_raw-Neutrophill_count', 'granulocyte count', 'leukocyte count',\n",
       "       'myeloid white cell count', 'neutrophil count'],\n",
       "      dtype='object')"
      ]
     },
     "metadata": {},
     "output_type": "display_data"
    },
    {
     "data": {
      "text/html": [
       "<h3>Cluster 26.13</h3>"
      ],
      "text/plain": [
       "<IPython.core.display.HTML object>"
      ]
     },
     "metadata": {},
     "output_type": "display_data"
    },
    {
     "data": {
      "text/plain": [
       "5"
      ]
     },
     "metadata": {},
     "output_type": "display_data"
    },
    {
     "data": {
      "text/plain": [
       "Index(['4079_raw-Diastolic_blood_pressure_automated_reading',\n",
       "       '4080_raw-Systolic_blood_pressure_automated_reading',\n",
       "       '6150_100-Vascularheart_problems_diagnosed_by_doctor_None_of_the_above',\n",
       "       '6150_4-Vascularheart_problems_diagnosed_by_doctor_High_blood_pressure',\n",
       "       'hypertension'],\n",
       "      dtype='object')"
      ]
     },
     "metadata": {},
     "output_type": "display_data"
    },
    {
     "data": {
      "text/html": [
       "<h3>Cluster 26.14</h3>"
      ],
      "text/plain": [
       "<IPython.core.display.HTML object>"
      ]
     },
     "metadata": {},
     "output_type": "display_data"
    },
    {
     "data": {
      "text/plain": [
       "4"
      ]
     },
     "metadata": {},
     "output_type": "display_data"
    },
    {
     "data": {
      "text/plain": [
       "Index(['20150_raw-Forced_expiratory_volume_in_1second_FEV1_Best_measure',\n",
       "       '20151_raw-Forced_vital_capacity_FVC_Best_measure',\n",
       "       '3062_raw-Forced_vital_capacity_FVC',\n",
       "       '3063_raw-Forced_expiratory_volume_in_1second_FEV1'],\n",
       "      dtype='object')"
      ]
     },
     "metadata": {},
     "output_type": "display_data"
    },
    {
     "data": {
      "text/html": [
       "<h3>Cluster 26.15</h3>"
      ],
      "text/plain": [
       "<IPython.core.display.HTML object>"
      ]
     },
     "metadata": {},
     "output_type": "display_data"
    },
    {
     "data": {
      "text/plain": [
       "25"
      ]
     },
     "metadata": {},
     "output_type": "display_data"
    },
    {
     "data": {
      "text/plain": [
       "Index(['20003_1140861958-Treatmentmedication_code_simvastatin',\n",
       "       '20003_1140868226-Treatmentmedication_code_aspirin',\n",
       "       '20003_1141194794-Treatmentmedication_code_bendroflumethiazide',\n",
       "       '6150_1-Vascularheart_problems_diagnosed_by_doctor_Heart_attack',\n",
       "       '6150_2-Vascularheart_problems_diagnosed_by_doctor_Angina',\n",
       "       '6153_1-Medication_for_cholesterol_blood_pressure_diabetes_or_take_exogenous_hormones_Cholesterol_lowering_medication',\n",
       "       '6153_100-Medication_for_cholesterol_blood_pressure_diabetes_or_take_exogenous_hormones_None_of_the_above',\n",
       "       '6154_1-Medication_for_pain_relief_constipation_heartburn_Aspirin',\n",
       "       '6177_1-Medication_for_cholesterol_blood_pressure_or_diabetes_Cholesterol_lowering_medication',\n",
       "       '6177_100-Medication_for_cholesterol_blood_pressure_or_diabetes_None_of_the_above',\n",
       "       '6177_2-Medication_for_cholesterol_blood_pressure_or_diabetes_Blood_pressure_medication',\n",
       "       'I9_CHD-Major_coronary_heart_disease_event',\n",
       "       'I9_CHD_NOREV-Major_coronary_heart_disease_event_excluding_revascularizations',\n",
       "       'I9_CORATHER-Coronary_atherosclerosis',\n",
       "       'I9_IHD-Ischaemic_heart_disease_wide_definition',\n",
       "       'I9_MI-Myocardial_infarction',\n",
       "       'I9_MI_STRICT-Myocardial_infarction_strict',\n",
       "       'IX_CIRCULATORY-Diseases_of_the_circulatory_system',\n",
       "       'acute myocardial infarction', 'angina pectoris',\n",
       "       'coronary artery disease', 'hypercholesterolemia',\n",
       "       'myocardial infarction',\n",
       "       'number of non-cancer illnesses, self-reported',\n",
       "       'number of treatments or medications taken, self-reported'],\n",
       "      dtype='object')"
      ]
     },
     "metadata": {},
     "output_type": "display_data"
    },
    {
     "data": {
      "text/html": [
       "<h3>Cluster 26.16</h3>"
      ],
      "text/plain": [
       "<IPython.core.display.HTML object>"
      ]
     },
     "metadata": {},
     "output_type": "display_data"
    },
    {
     "data": {
      "text/plain": [
       "8"
      ]
     },
     "metadata": {},
     "output_type": "display_data"
    },
    {
     "data": {
      "text/plain": [
       "Index(['1717-Skin_colour', '1727-Ease_of_skin_tanning',\n",
       "       '1737-Childhood_sunburn_occasions',\n",
       "       '1747_1-Hair_colour_natural_before_greying_Blonde',\n",
       "       '1747_2-Hair_colour_natural_before_greying_Red',\n",
       "       '1747_3-Hair_colour_natural_before_greying_Light_brown',\n",
       "       '1747_4-Hair_colour_natural_before_greying_Dark_brown',\n",
       "       '1747_5-Hair_colour_natural_before_greying_Black'],\n",
       "      dtype='object')"
      ]
     },
     "metadata": {},
     "output_type": "display_data"
    },
    {
     "data": {
      "text/html": [
       "<h3>Cluster 26.17</h3>"
      ],
      "text/plain": [
       "<IPython.core.display.HTML object>"
      ]
     },
     "metadata": {},
     "output_type": "display_data"
    },
    {
     "data": {
      "text/plain": [
       "1"
      ]
     },
     "metadata": {},
     "output_type": "display_data"
    },
    {
     "data": {
      "text/plain": [
       "Index(['20153_raw-Forced_expiratory_volume_in_1second_FEV1_predicted'], dtype='object')"
      ]
     },
     "metadata": {},
     "output_type": "display_data"
    },
    {
     "data": {
      "text/html": [
       "<h3>Cluster 26.18</h3>"
      ],
      "text/plain": [
       "<IPython.core.display.HTML object>"
      ]
     },
     "metadata": {},
     "output_type": "display_data"
    },
    {
     "data": {
      "text/plain": [
       "12"
      ]
     },
     "metadata": {},
     "output_type": "display_data"
    },
    {
     "data": {
      "text/plain": [
       "Index(['20003_1140883066-Treatmentmedication_code_insulin_product',\n",
       "       '20003_1141191044-Treatmentmedication_code_levothyroxine_sodium',\n",
       "       '2986-Started_insulin_within_one_year_diagnosis_of_diabetes',\n",
       "       '6144_3-Never_eat_eggs_dairy_wheat_sugar_Wheat_products',\n",
       "       'K11_COELIAC-Coeliac_disease', 'celiac disease',\n",
       "       'hyperthyroidism AND thyrotoxicosis', 'hypothyroidism AND myxedema',\n",
       "       'malabsorption syndrome', 'psoriasis', 'rheumatoid arthritis',\n",
       "       'systemic lupus erythematosus'],\n",
       "      dtype='object')"
      ]
     },
     "metadata": {},
     "output_type": "display_data"
    },
    {
     "data": {
      "text/html": [
       "<h3>Cluster 26.19</h3>"
      ],
      "text/plain": [
       "<IPython.core.display.HTML object>"
      ]
     },
     "metadata": {},
     "output_type": "display_data"
    },
    {
     "data": {
      "text/plain": [
       "13"
      ]
     },
     "metadata": {},
     "output_type": "display_data"
    },
    {
     "data": {
      "text/plain": [
       "Index(['102_raw-Pulse_rate_automated_reading', '30120_raw-Lymphocyte_count',\n",
       "       '3064_raw-Peak_expiratory_flow_PEF',\n",
       "       '4100_raw-Ankle_spacing_width_left',\n",
       "       '4119_raw-Ankle_spacing_width_right', '46_raw-Hand_grip_strength_left',\n",
       "       '47_raw-Hand_grip_strength_right',\n",
       "       '6152_100-Blood_clot_DVT_bronchitis_emphysema_asthma_rhinitis_eczema_allergy_diagnosed_by_doctor_None_of_the_above',\n",
       "       '6152_8-Blood_clot_DVT_bronchitis_emphysema_asthma_rhinitis_eczema_allergy_diagnosed_by_doctor_Asthma',\n",
       "       '6152_9-Blood_clot_DVT_bronchitis_emphysema_asthma_rhinitis_eczema_allergy_diagnosed_by_doctor_Hayfever_allergic_rhinitis_or_eczema',\n",
       "       'asthma', 'comparative body size at age 10, self-reported',\n",
       "       'inflammatory bowel disease'],\n",
       "      dtype='object')"
      ]
     },
     "metadata": {},
     "output_type": "display_data"
    },
    {
     "data": {
      "text/html": [
       "<h3>Cluster 26.20</h3>"
      ],
      "text/plain": [
       "<IPython.core.display.HTML object>"
      ]
     },
     "metadata": {},
     "output_type": "display_data"
    },
    {
     "data": {
      "text/plain": [
       "19"
      ]
     },
     "metadata": {},
     "output_type": "display_data"
    },
    {
     "data": {
      "text/plain": [
       "Index(['1050-Time_spend_outdoors_in_summer',\n",
       "       '1070-Time_spent_watching_television_TV', '1448_1-Bread_type_White',\n",
       "       '1448_3-Bread_type_Wholemeal_or_wholegrain',\n",
       "       '20016_raw-Fluid_intelligence_score',\n",
       "       '2139_raw-Age_first_had_sexual_intercourse',\n",
       "       '22501_raw-Year_ended_full_time_education',\n",
       "       '2754_raw-Age_at_first_live_birth',\n",
       "       '6138_1-Qualifications_College_or_University_degree',\n",
       "       '6138_100-Qualifications_None_of_the_above',\n",
       "       '6138_2-Qualifications_A_levelsAS_levels_or_equivalent',\n",
       "       '6138_3-Qualifications_O_levelsGCSEs_or_equivalent',\n",
       "       '738-Average_total_household_income_before_tax',\n",
       "       '806-Job_involves_mainly_walking_or_standing',\n",
       "       '816-Job_involves_heavy_manual_or_physical_work',\n",
       "       'SSGAC_Education_Years_Pooled', 'schizophrenia', 'self rated health',\n",
       "       'self reported educational attainment'],\n",
       "      dtype='object')"
      ]
     },
     "metadata": {},
     "output_type": "display_data"
    },
    {
     "data": {
      "text/html": [
       "<h3>Cluster 26.21</h3>"
      ],
      "text/plain": [
       "<IPython.core.display.HTML object>"
      ]
     },
     "metadata": {},
     "output_type": "display_data"
    },
    {
     "data": {
      "text/plain": [
       "3"
      ]
     },
     "metadata": {},
     "output_type": "display_data"
    },
    {
     "data": {
      "text/plain": [
       "Index(['30180_raw-Lymphocyte_percentage', '30200_raw-Neutrophill_percentage',\n",
       "       'lymphocyte count'],\n",
       "      dtype='object')"
      ]
     },
     "metadata": {},
     "output_type": "display_data"
    },
    {
     "data": {
      "text/html": [
       "<h3>Cluster 26.22</h3>"
      ],
      "text/plain": [
       "<IPython.core.display.HTML object>"
      ]
     },
     "metadata": {},
     "output_type": "display_data"
    },
    {
     "data": {
      "text/plain": [
       "136"
      ]
     },
     "metadata": {},
     "output_type": "display_data"
    },
    {
     "data": {
      "text/plain": [
       "Index(['129_raw-Place_of_birth_in_UK_north_coordinate',\n",
       "       '130_raw-Place_of_birth_in_UK_east_coordinate',\n",
       "       '20074_raw-Home_location_at_assessment_east_coordinate_rounded',\n",
       "       '20075_raw-Home_location_at_assessment_north_coordinate_rounded',\n",
       "       '20118_11-Home_area_population_density_urban_or_rural_Scotland_Large_Urban_Area',\n",
       "       '22704_raw-Home_location_north_coordinate_rounded',\n",
       "       '30220_raw-Basophill_percentage', 'abdominal injury',\n",
       "       'abnormal delivery', 'alcohol dependence',\n",
       "       ...\n",
       "       'tongue neoplasm', 'transient ischemic attack', 'tuberculosis',\n",
       "       'type ii diabetes mellitus', 'ulcerative colitis',\n",
       "       'urogenital neoplasm', 'urticaria', 'vascular disease', 'vasculitis',\n",
       "       'wrist fracture'],\n",
       "      dtype='object', length=136)"
      ]
     },
     "metadata": {},
     "output_type": "display_data"
    },
    {
     "data": {
      "text/html": [
       "<h3>Cluster 26.23</h3>"
      ],
      "text/plain": [
       "<IPython.core.display.HTML object>"
      ]
     },
     "metadata": {},
     "output_type": "display_data"
    },
    {
     "data": {
      "text/plain": [
       "65"
      ]
     },
     "metadata": {},
     "output_type": "display_data"
    },
    {
     "data": {
      "text/plain": [
       "Index(['1080-Time_spent_using_computer', '1110-Length_of_mobile_phone_use',\n",
       "       '1299-Salad_raw_vegetable_intake', '1309-Fresh_fruit_intake',\n",
       "       '1319-Dried_fruit_intake', '1329-Oily_fish_intake',\n",
       "       '1408-Cheese_intake', '1458-Cereal_intake', '1478-Salt_added_to_food',\n",
       "       '1488_raw-Tea_intake', '1518-Hot_drink_temperature',\n",
       "       '1528-Water_intake', '1757-Facial_ageing', '20022_raw-Birth_weight',\n",
       "       '20023_raw-Mean_time_to_correctly_identify_matches',\n",
       "       '20116_0-Smoking_status_Never', '20116_1-Smoking_status_Previous',\n",
       "       '20116_2-Smoking_status_Current', '20127_raw-Neuroticism_score',\n",
       "       '20154_raw-Forced_expiratory_volume_in_1second_FEV1_predicted_percentage',\n",
       "       '20160-Ever_smoked',\n",
       "       '2070-Frequency_of_tenseness_restlessness_in_last_2_weeks',\n",
       "       '2149-Lifetime_number_of_sexual_partners',\n",
       "       '2217_raw-Age_started_wearing_glasses_or_contact_lenses',\n",
       "       '2237-Plays_computer_games', '2267-Use_of_sunuv_protection',\n",
       "       '2395_1-Hairbalding_pattern_Pattern_1',\n",
       "       '30060_raw-Mean_corpuscular_haemoglobin_concentration',\n",
       "       '30510_raw-Creatinine_enzymatic_in_urine', '30530_raw-Sodium_in_urine',\n",
       "       '399_raw-Number_of_incorrect_matches_in_round',\n",
       "       '400_raw-Time_to_complete_round',\n",
       "       '404_raw-Duration_to_first_press_of_snapbutton_in_each_round',\n",
       "       '4194_raw-Pulse_rate', '5084_raw-Spherical_power_right',\n",
       "       '5085_raw-Spherical_power_left',\n",
       "       '6154_100-Medication_for_pain_relief_constipation_heartburn_None_of_the_above',\n",
       "       '6154_3-Medication_for_pain_relief_constipation_heartburn_Paracetamol',\n",
       "       '6159_1-Pain_types_experienced_in_last_month_Headache',\n",
       "       '6159_100-Pain_types_experienced_in_last_month_None_of_the_above',\n",
       "       '924-Usual_walking_pace', 'age at first facial hair', 'age at menarche',\n",
       "       'alcohol consumption measurement', 'anxiety', 'chronic disease',\n",
       "       'chronotype measurement',\n",
       "       'ease of getting up in the morning, self-reported',\n",
       "       'excessive daytime sleepiness measurement AND narcolepsy without cataplexy',\n",
       "       'feeling tense measurement', 'hearing loss', 'insomnia', 'irritability',\n",
       "       'mononeuropathy', 'mood swings', 'nap during day, self-reported',\n",
       "       'nervousness',\n",
       "       'seeing a general practitioner for nerves, anxiety, tension or depression, self-reported',\n",
       "       'sleep duration', 'smoking behavior', 'smoking cessation',\n",
       "       'snoring measurement', 'tiredness measurement', 'wheezing',\n",
       "       'worry measurement'],\n",
       "      dtype='object')"
      ]
     },
     "metadata": {},
     "output_type": "display_data"
    },
    {
     "data": {
      "text/html": [
       "<h3>Cluster 26.24</h3>"
      ],
      "text/plain": [
       "<IPython.core.display.HTML object>"
      ]
     },
     "metadata": {},
     "output_type": "display_data"
    },
    {
     "data": {
      "text/plain": [
       "36"
      ]
     },
     "metadata": {},
     "output_type": "display_data"
    },
    {
     "data": {
      "text/plain": [
       "Index(['20421-Ever_felt_worried_tense_or_anxious_for_most_of_a_month_or_longer',\n",
       "       '20425-Ever_worried_more_than_most_people_would_in_similar_situation',\n",
       "       '20441-Ever_had_prolonged_loss_of_interest_in_normal_activities',\n",
       "       '20446-Ever_had_prolonged_feelings_of_sadness_or_depression',\n",
       "       '20458-General_happiness', '20459-General_happiness_with_own_health',\n",
       "       '20460-Belief_that_own_life_is_meaningful',\n",
       "       '20479-Ever_thought_that_life_not_worth_living',\n",
       "       '20485-Ever_contemplated_selfharm',\n",
       "       '20494-Felt_irritable_or_had_angry_outbursts_in_past_month',\n",
       "       '20495-Avoided_activities_or_situations_because_of_previous_stressful_experience_in_past_month',\n",
       "       '20496-Felt_distant_from_other_people_in_past_month',\n",
       "       '20497-Repeated_disturbing_thoughts_of_stressful_experience_in_past_month',\n",
       "       '20498-Felt_very_upset_when_reminded_of_stressful_experience_in_past_month',\n",
       "       '20499-Ever_sought_or_received_professional_help_for_mental_distress',\n",
       "       '20500-Ever_suffered_mental_distress_preventing_usual_activities',\n",
       "       '20505-Recent_easy_annoyance_or_irritability',\n",
       "       '20506-Recent_feelings_or_nervousness_or_anxiety',\n",
       "       '20507-Recent_feelings_of_inadequacy',\n",
       "       '20508-Recent_trouble_concentrating_on_things',\n",
       "       '20509-Recent_inability_to_stop_or_control_worrying',\n",
       "       '20510-Recent_feelings_of_depression',\n",
       "       '20511-Recent_poor_appetite_or_overeating',\n",
       "       '20512-Recent_feelings_of_foreboding',\n",
       "       '20513-Recent_thoughts_of_suicide_or_selfharm',\n",
       "       '20514-Recent_lack_of_interest_or_pleasure_in_doing_things',\n",
       "       '20515-Recent_trouble_relaxing', '20516-Recent_restlessness',\n",
       "       '20517-Trouble_falling_or_staying_asleep_or_sleeping_too_much',\n",
       "       '20519-Recent_feelings_of_tiredness_or_low_energy',\n",
       "       '20520-Recent_worrying_too_much_about_different_things',\n",
       "       '20544_11-Mental_health_problems_ever_diagnosed_by_a_professional_Depression',\n",
       "       '20546_3-Substances_taken_for_depression_Medication_prescribed_to_you_for_at_least_two_weeks',\n",
       "       '20547_1-Activities_undertaken_to_treat_depression_Talking_therapies_such_as_psychotherapy_counselling_group_therapy_or_CBT',\n",
       "       '20549_3-Substances_taken_for_anxiety_Medication_prescribed_to_you_for_at_least_two_weeks',\n",
       "       'seeing a psychiatrist for nerves, anxiety, tension or depression, self-reported'],\n",
       "      dtype='object')"
      ]
     },
     "metadata": {},
     "output_type": "display_data"
    },
    {
     "data": {
      "text/html": [
       "<h3>Cluster 26.25</h3>"
      ],
      "text/plain": [
       "<IPython.core.display.HTML object>"
      ]
     },
     "metadata": {},
     "output_type": "display_data"
    },
    {
     "data": {
      "text/plain": [
       "2"
      ]
     },
     "metadata": {},
     "output_type": "display_data"
    },
    {
     "data": {
      "text/plain": [
       "Index(['30150-Eosinophill_count', '30210_raw-Eosinophill_percentage'], dtype='object')"
      ]
     },
     "metadata": {},
     "output_type": "display_data"
    },
    {
     "data": {
      "text/html": [
       "<h2>Partition with k=27</h2>"
      ],
      "text/plain": [
       "<IPython.core.display.HTML object>"
      ]
     },
     "metadata": {},
     "output_type": "display_data"
    },
    {
     "data": {
      "text/plain": [
       "method                                                 scc_025\n",
       "partition    [0, 0, 0, 0, 0, 0, 0, 0, 0, 0, 0, 0, 0, 0, 0, ...\n",
       "ami_mean                                              0.290134\n",
       "selected                                                  True\n",
       "Name: 27, dtype: object"
      ]
     },
     "metadata": {},
     "output_type": "display_data"
    },
    {
     "data": {
      "text/plain": [
       "(3749,)"
      ]
     },
     "metadata": {},
     "output_type": "display_data"
    },
    {
     "data": {
      "text/plain": [
       "0     3162\n",
       "22     195\n",
       "26     136\n",
       "15      52\n",
       "20      36\n",
       "18      25\n",
       "16      19\n",
       "10      18\n",
       "5       13\n",
       "21      12\n",
       "7       12\n",
       "17       8\n",
       "6        8\n",
       "13       6\n",
       "8        6\n",
       "4        5\n",
       "3        5\n",
       "11       5\n",
       "2        4\n",
       "14       4\n",
       "12       4\n",
       "9        4\n",
       "1        3\n",
       "24       3\n",
       "23       2\n",
       "19       1\n",
       "25       1\n",
       "dtype: int64"
      ]
     },
     "metadata": {},
     "output_type": "display_data"
    },
    {
     "data": {
      "text/html": [
       "<h3>Cluster 27.0</h3>"
      ],
      "text/plain": [
       "<IPython.core.display.HTML object>"
      ]
     },
     "metadata": {},
     "output_type": "display_data"
    },
    {
     "data": {
      "text/plain": [
       "3162"
      ]
     },
     "metadata": {},
     "output_type": "display_data"
    },
    {
     "data": {
      "text/plain": [
       "Index(['100001_raw-Food_weight', '100002_raw-Energy', '100003_raw-Protein',\n",
       "       '100004_raw-Fat', '100005_raw-Carbohydrate', '100006_raw-Saturated_fat',\n",
       "       '100007_raw-Polyunsaturated_fat', '100008_raw-Total_sugars',\n",
       "       '100009_raw-Englyst_dietary_fibre', '100010-Portion_size',\n",
       "       ...\n",
       "       'viral disease', 'viral human hepatitis infection', 'viral meningitis',\n",
       "       'visual impairment', 'vitiligo', 'vitreous body disease',\n",
       "       'vocal cord polyp', 'voice disorders',\n",
       "       'wellbeing measurement AND family relationship', 'whooping cough'],\n",
       "      dtype='object', length=3162)"
      ]
     },
     "metadata": {},
     "output_type": "display_data"
    },
    {
     "data": {
      "text/html": [
       "<h3>Cluster 27.1</h3>"
      ],
      "text/plain": [
       "<IPython.core.display.HTML object>"
      ]
     },
     "metadata": {},
     "output_type": "display_data"
    },
    {
     "data": {
      "text/plain": [
       "3"
      ]
     },
     "metadata": {},
     "output_type": "display_data"
    },
    {
     "data": {
      "text/plain": [
       "Index(['20015_raw-Sitting_height', '50_raw-Standing_height', 'body height'], dtype='object')"
      ]
     },
     "metadata": {},
     "output_type": "display_data"
    },
    {
     "data": {
      "text/html": [
       "<h3>Cluster 27.2</h3>"
      ],
      "text/plain": [
       "<IPython.core.display.HTML object>"
      ]
     },
     "metadata": {},
     "output_type": "display_data"
    },
    {
     "data": {
      "text/plain": [
       "4"
      ]
     },
     "metadata": {},
     "output_type": "display_data"
    },
    {
     "data": {
      "text/plain": [
       "Index(['30040_raw-Mean_corpuscular_volume',\n",
       "       '30050_raw-Mean_corpuscular_haemoglobin',\n",
       "       '30260_raw-Mean_reticulocyte_volume',\n",
       "       '30270_raw-Mean_sphered_cell_volume'],\n",
       "      dtype='object')"
      ]
     },
     "metadata": {},
     "output_type": "display_data"
    },
    {
     "data": {
      "text/html": [
       "<h3>Cluster 27.3</h3>"
      ],
      "text/plain": [
       "<IPython.core.display.HTML object>"
      ]
     },
     "metadata": {},
     "output_type": "display_data"
    },
    {
     "data": {
      "text/plain": [
       "5"
      ]
     },
     "metadata": {},
     "output_type": "display_data"
    },
    {
     "data": {
      "text/plain": [
       "Index(['23106_raw-Impedance_of_whole_body', '23107_raw-Impedance_of_leg_right',\n",
       "       '23108_raw-Impedance_of_leg_left', '23109_raw-Impedance_of_arm_right',\n",
       "       '23110_raw-Impedance_of_arm_left'],\n",
       "      dtype='object')"
      ]
     },
     "metadata": {},
     "output_type": "display_data"
    },
    {
     "data": {
      "text/html": [
       "<h3>Cluster 27.4</h3>"
      ],
      "text/plain": [
       "<IPython.core.display.HTML object>"
      ]
     },
     "metadata": {},
     "output_type": "display_data"
    },
    {
     "data": {
      "text/plain": [
       "5"
      ]
     },
     "metadata": {},
     "output_type": "display_data"
    },
    {
     "data": {
      "text/plain": [
       "Index(['30080_raw-Platelet_count', '30090_raw-Platelet_crit',\n",
       "       '30100_raw-Mean_platelet_thrombocyte_volume',\n",
       "       '30110_raw-Platelet_distribution_width', 'platelet count'],\n",
       "      dtype='object')"
      ]
     },
     "metadata": {},
     "output_type": "display_data"
    },
    {
     "data": {
      "text/html": [
       "<h3>Cluster 27.5</h3>"
      ],
      "text/plain": [
       "<IPython.core.display.HTML object>"
      ]
     },
     "metadata": {},
     "output_type": "display_data"
    },
    {
     "data": {
      "text/plain": [
       "13"
      ]
     },
     "metadata": {},
     "output_type": "display_data"
    },
    {
     "data": {
      "text/plain": [
       "Index(['23101_raw-Whole_body_fatfree_mass', '23102_raw-Whole_body_water_mass',\n",
       "       '23105_raw-Basal_metabolic_rate', '23113_raw-Leg_fatfree_mass_right',\n",
       "       '23114_raw-Leg_predicted_mass_right', '23117_raw-Leg_fatfree_mass_left',\n",
       "       '23118_raw-Leg_predicted_mass_left', '23121_raw-Arm_fatfree_mass_right',\n",
       "       '23122_raw-Arm_predicted_mass_right', '23125_raw-Arm_fatfree_mass_left',\n",
       "       '23126_raw-Arm_predicted_mass_left', '23129_raw-Trunk_fatfree_mass',\n",
       "       '23130_raw-Trunk_predicted_mass'],\n",
       "      dtype='object')"
      ]
     },
     "metadata": {},
     "output_type": "display_data"
    },
    {
     "data": {
      "text/html": [
       "<h3>Cluster 27.6</h3>"
      ],
      "text/plain": [
       "<IPython.core.display.HTML object>"
      ]
     },
     "metadata": {},
     "output_type": "display_data"
    },
    {
     "data": {
      "text/plain": [
       "8"
      ]
     },
     "metadata": {},
     "output_type": "display_data"
    },
    {
     "data": {
      "text/plain": [
       "Index(['5096_raw-3mm_weak_meridian_left', '5097_raw-6mm_weak_meridian_left',\n",
       "       '5098_raw-6mm_weak_meridian_right', '5099_raw-3mm_weak_meridian_right',\n",
       "       '5132_raw-3mm_strong_meridian_right',\n",
       "       '5133_raw-6mm_strong_meridian_right',\n",
       "       '5134_raw-6mm_strong_meridian_left',\n",
       "       '5135_raw-3mm_strong_meridian_left'],\n",
       "      dtype='object')"
      ]
     },
     "metadata": {},
     "output_type": "display_data"
    },
    {
     "data": {
      "text/html": [
       "<h3>Cluster 27.7</h3>"
      ],
      "text/plain": [
       "<IPython.core.display.HTML object>"
      ]
     },
     "metadata": {},
     "output_type": "display_data"
    },
    {
     "data": {
      "text/plain": [
       "12"
      ]
     },
     "metadata": {},
     "output_type": "display_data"
    },
    {
     "data": {
      "text/plain": [
       "Index(['3144_raw-Heel_Broadband_ultrasound_attenuation_direct_entry',\n",
       "       '3147_raw-Heel_quantitative_ultrasound_index_QUI_direct_entry',\n",
       "       '3148_raw-Heel_bone_mineral_density_BMD',\n",
       "       '4101_raw-Heel_broadband_ultrasound_attenuation_left',\n",
       "       '4104_raw-Heel_quantitative_ultrasound_index_QUI_direct_entry_left',\n",
       "       '4105_raw-Heel_bone_mineral_density_BMD_left',\n",
       "       '4106_raw-Heel_bone_mineral_density_BMD_Tscore_automated_left',\n",
       "       '4120_raw-Heel_broadband_ultrasound_attenuation_right',\n",
       "       '4123_raw-Heel_quantitative_ultrasound_index_QUI_direct_entry_right',\n",
       "       '4124_raw-Heel_bone_mineral_density_BMD_right',\n",
       "       '4125_raw-Heel_bone_mineral_density_BMD_Tscore_automated_right',\n",
       "       '78_raw-Heel_bone_mineral_density_BMD_Tscore_automated'],\n",
       "      dtype='object')"
      ]
     },
     "metadata": {},
     "output_type": "display_data"
    },
    {
     "data": {
      "text/html": [
       "<h3>Cluster 27.8</h3>"
      ],
      "text/plain": [
       "<IPython.core.display.HTML object>"
      ]
     },
     "metadata": {},
     "output_type": "display_data"
    },
    {
     "data": {
      "text/plain": [
       "6"
      ]
     },
     "metadata": {},
     "output_type": "display_data"
    },
    {
     "data": {
      "text/plain": [
       "Index(['30000_raw-White_blood_cell_leukocyte_count',\n",
       "       '30140_raw-Neutrophill_count', 'granulocyte count', 'leukocyte count',\n",
       "       'myeloid white cell count', 'neutrophil count'],\n",
       "      dtype='object')"
      ]
     },
     "metadata": {},
     "output_type": "display_data"
    },
    {
     "data": {
      "text/html": [
       "<h3>Cluster 27.9</h3>"
      ],
      "text/plain": [
       "<IPython.core.display.HTML object>"
      ]
     },
     "metadata": {},
     "output_type": "display_data"
    },
    {
     "data": {
      "text/plain": [
       "4"
      ]
     },
     "metadata": {},
     "output_type": "display_data"
    },
    {
     "data": {
      "text/plain": [
       "Index(['30010_raw-Red_blood_cell_erythrocyte_count',\n",
       "       '30020_raw-Haemoglobin_concentration',\n",
       "       '30030_raw-Haematocrit_percentage', 'erythrocyte count'],\n",
       "      dtype='object')"
      ]
     },
     "metadata": {},
     "output_type": "display_data"
    },
    {
     "data": {
      "text/html": [
       "<h3>Cluster 27.10</h3>"
      ],
      "text/plain": [
       "<IPython.core.display.HTML object>"
      ]
     },
     "metadata": {},
     "output_type": "display_data"
    },
    {
     "data": {
      "text/plain": [
       "18"
      ]
     },
     "metadata": {},
     "output_type": "display_data"
    },
    {
     "data": {
      "text/plain": [
       "Index(['21001_raw-Body_mass_index_BMI', '21002_raw-Weight', '23098_raw-Weight',\n",
       "       '23099_raw-Body_fat_percentage', '23100_raw-Whole_body_fat_mass',\n",
       "       '23104_raw-Body_mass_index_BMI', '23111_raw-Leg_fat_percentage_right',\n",
       "       '23112_raw-Leg_fat_mass_right', '23115_raw-Leg_fat_percentage_left',\n",
       "       '23116_raw-Leg_fat_mass_left', '23119_raw-Arm_fat_percentage_right',\n",
       "       '23120_raw-Arm_fat_mass_right', '23123_raw-Arm_fat_percentage_left',\n",
       "       '23124_raw-Arm_fat_mass_left', '23127_raw-Trunk_fat_percentage',\n",
       "       '23128_raw-Trunk_fat_mass', '48_raw-Waist_circumference',\n",
       "       '49_raw-Hip_circumference'],\n",
       "      dtype='object')"
      ]
     },
     "metadata": {},
     "output_type": "display_data"
    },
    {
     "data": {
      "text/html": [
       "<h3>Cluster 27.11</h3>"
      ],
      "text/plain": [
       "<IPython.core.display.HTML object>"
      ]
     },
     "metadata": {},
     "output_type": "display_data"
    },
    {
     "data": {
      "text/plain": [
       "5"
      ]
     },
     "metadata": {},
     "output_type": "display_data"
    },
    {
     "data": {
      "text/plain": [
       "Index(['4079_raw-Diastolic_blood_pressure_automated_reading',\n",
       "       '4080_raw-Systolic_blood_pressure_automated_reading',\n",
       "       '6150_100-Vascularheart_problems_diagnosed_by_doctor_None_of_the_above',\n",
       "       '6150_4-Vascularheart_problems_diagnosed_by_doctor_High_blood_pressure',\n",
       "       'hypertension'],\n",
       "      dtype='object')"
      ]
     },
     "metadata": {},
     "output_type": "display_data"
    },
    {
     "data": {
      "text/html": [
       "<h3>Cluster 27.12</h3>"
      ],
      "text/plain": [
       "<IPython.core.display.HTML object>"
      ]
     },
     "metadata": {},
     "output_type": "display_data"
    },
    {
     "data": {
      "text/plain": [
       "4"
      ]
     },
     "metadata": {},
     "output_type": "display_data"
    },
    {
     "data": {
      "text/plain": [
       "Index(['30130_raw-Monocyte_count', '30190_raw-Monocyte_percentage',\n",
       "       'eosinophil count', 'monocyte count'],\n",
       "      dtype='object')"
      ]
     },
     "metadata": {},
     "output_type": "display_data"
    },
    {
     "data": {
      "text/html": [
       "<h3>Cluster 27.13</h3>"
      ],
      "text/plain": [
       "<IPython.core.display.HTML object>"
      ]
     },
     "metadata": {},
     "output_type": "display_data"
    },
    {
     "data": {
      "text/plain": [
       "6"
      ]
     },
     "metadata": {},
     "output_type": "display_data"
    },
    {
     "data": {
      "text/plain": [
       "Index(['30240_raw-Reticulocyte_percentage', '30250_raw-Reticulocyte_count',\n",
       "       '30280_raw-Immature_reticulocyte_fraction',\n",
       "       '30290_raw-High_light_scatter_reticulocyte_percentage',\n",
       "       '30300_raw-High_light_scatter_reticulocyte_count',\n",
       "       'reticulocyte count'],\n",
       "      dtype='object')"
      ]
     },
     "metadata": {},
     "output_type": "display_data"
    },
    {
     "data": {
      "text/html": [
       "<h3>Cluster 27.14</h3>"
      ],
      "text/plain": [
       "<IPython.core.display.HTML object>"
      ]
     },
     "metadata": {},
     "output_type": "display_data"
    },
    {
     "data": {
      "text/plain": [
       "4"
      ]
     },
     "metadata": {},
     "output_type": "display_data"
    },
    {
     "data": {
      "text/plain": [
       "Index(['20150_raw-Forced_expiratory_volume_in_1second_FEV1_Best_measure',\n",
       "       '20151_raw-Forced_vital_capacity_FVC_Best_measure',\n",
       "       '3062_raw-Forced_vital_capacity_FVC',\n",
       "       '3063_raw-Forced_expiratory_volume_in_1second_FEV1'],\n",
       "      dtype='object')"
      ]
     },
     "metadata": {},
     "output_type": "display_data"
    },
    {
     "data": {
      "text/html": [
       "<h3>Cluster 27.15</h3>"
      ],
      "text/plain": [
       "<IPython.core.display.HTML object>"
      ]
     },
     "metadata": {},
     "output_type": "display_data"
    },
    {
     "data": {
      "text/plain": [
       "52"
      ]
     },
     "metadata": {},
     "output_type": "display_data"
    },
    {
     "data": {
      "text/plain": [
       "Index(['102_raw-Pulse_rate_automated_reading',\n",
       "       '1080-Time_spent_using_computer', '1319-Dried_fruit_intake',\n",
       "       '1478-Salt_added_to_food', '1488_raw-Tea_intake',\n",
       "       '1518-Hot_drink_temperature', '1528-Water_intake', '1757-Facial_ageing',\n",
       "       '20022_raw-Birth_weight',\n",
       "       '20023_raw-Mean_time_to_correctly_identify_matches',\n",
       "       '20116_0-Smoking_status_Never', '20127_raw-Neuroticism_score',\n",
       "       '20154_raw-Forced_expiratory_volume_in_1second_FEV1_predicted_percentage',\n",
       "       '20160-Ever_smoked',\n",
       "       '2217_raw-Age_started_wearing_glasses_or_contact_lenses',\n",
       "       '2237-Plays_computer_games', '2395_1-Hairbalding_pattern_Pattern_1',\n",
       "       '30060_raw-Mean_corpuscular_haemoglobin_concentration',\n",
       "       '30120_raw-Lymphocyte_count', '30530_raw-Sodium_in_urine',\n",
       "       '3064_raw-Peak_expiratory_flow_PEF',\n",
       "       '399_raw-Number_of_incorrect_matches_in_round',\n",
       "       '400_raw-Time_to_complete_round',\n",
       "       '404_raw-Duration_to_first_press_of_snapbutton_in_each_round',\n",
       "       '4100_raw-Ankle_spacing_width_left',\n",
       "       '4119_raw-Ankle_spacing_width_right', '4194_raw-Pulse_rate',\n",
       "       '46_raw-Hand_grip_strength_left', '47_raw-Hand_grip_strength_right',\n",
       "       '5084_raw-Spherical_power_right', '5085_raw-Spherical_power_left',\n",
       "       '6152_100-Blood_clot_DVT_bronchitis_emphysema_asthma_rhinitis_eczema_allergy_diagnosed_by_doctor_None_of_the_above',\n",
       "       '6152_8-Blood_clot_DVT_bronchitis_emphysema_asthma_rhinitis_eczema_allergy_diagnosed_by_doctor_Asthma',\n",
       "       '6152_9-Blood_clot_DVT_bronchitis_emphysema_asthma_rhinitis_eczema_allergy_diagnosed_by_doctor_Hayfever_allergic_rhinitis_or_eczema',\n",
       "       '924-Usual_walking_pace', 'age at first facial hair', 'age at menarche',\n",
       "       'anxiety', 'asthma', 'chronotype measurement',\n",
       "       'comparative body size at age 10, self-reported',\n",
       "       'ease of getting up in the morning, self-reported',\n",
       "       'excessive daytime sleepiness measurement AND narcolepsy without cataplexy',\n",
       "       'hearing loss', 'inflammatory bowel disease', 'insomnia',\n",
       "       'nap during day, self-reported', 'sleep duration', 'smoking cessation',\n",
       "       'snoring measurement', 'tiredness measurement', 'wheezing'],\n",
       "      dtype='object')"
      ]
     },
     "metadata": {},
     "output_type": "display_data"
    },
    {
     "data": {
      "text/html": [
       "<h3>Cluster 27.16</h3>"
      ],
      "text/plain": [
       "<IPython.core.display.HTML object>"
      ]
     },
     "metadata": {},
     "output_type": "display_data"
    },
    {
     "data": {
      "text/plain": [
       "19"
      ]
     },
     "metadata": {},
     "output_type": "display_data"
    },
    {
     "data": {
      "text/plain": [
       "Index(['1050-Time_spend_outdoors_in_summer',\n",
       "       '1070-Time_spent_watching_television_TV', '1448_1-Bread_type_White',\n",
       "       '1448_3-Bread_type_Wholemeal_or_wholegrain',\n",
       "       '20016_raw-Fluid_intelligence_score',\n",
       "       '2139_raw-Age_first_had_sexual_intercourse',\n",
       "       '22501_raw-Year_ended_full_time_education',\n",
       "       '2754_raw-Age_at_first_live_birth',\n",
       "       '6138_1-Qualifications_College_or_University_degree',\n",
       "       '6138_100-Qualifications_None_of_the_above',\n",
       "       '6138_2-Qualifications_A_levelsAS_levels_or_equivalent',\n",
       "       '6138_3-Qualifications_O_levelsGCSEs_or_equivalent',\n",
       "       '738-Average_total_household_income_before_tax',\n",
       "       '806-Job_involves_mainly_walking_or_standing',\n",
       "       '816-Job_involves_heavy_manual_or_physical_work',\n",
       "       'SSGAC_Education_Years_Pooled', 'schizophrenia', 'self rated health',\n",
       "       'self reported educational attainment'],\n",
       "      dtype='object')"
      ]
     },
     "metadata": {},
     "output_type": "display_data"
    },
    {
     "data": {
      "text/html": [
       "<h3>Cluster 27.17</h3>"
      ],
      "text/plain": [
       "<IPython.core.display.HTML object>"
      ]
     },
     "metadata": {},
     "output_type": "display_data"
    },
    {
     "data": {
      "text/plain": [
       "8"
      ]
     },
     "metadata": {},
     "output_type": "display_data"
    },
    {
     "data": {
      "text/plain": [
       "Index(['1717-Skin_colour', '1727-Ease_of_skin_tanning',\n",
       "       '1737-Childhood_sunburn_occasions',\n",
       "       '1747_1-Hair_colour_natural_before_greying_Blonde',\n",
       "       '1747_2-Hair_colour_natural_before_greying_Red',\n",
       "       '1747_3-Hair_colour_natural_before_greying_Light_brown',\n",
       "       '1747_4-Hair_colour_natural_before_greying_Dark_brown',\n",
       "       '1747_5-Hair_colour_natural_before_greying_Black'],\n",
       "      dtype='object')"
      ]
     },
     "metadata": {},
     "output_type": "display_data"
    },
    {
     "data": {
      "text/html": [
       "<h3>Cluster 27.18</h3>"
      ],
      "text/plain": [
       "<IPython.core.display.HTML object>"
      ]
     },
     "metadata": {},
     "output_type": "display_data"
    },
    {
     "data": {
      "text/plain": [
       "25"
      ]
     },
     "metadata": {},
     "output_type": "display_data"
    },
    {
     "data": {
      "text/plain": [
       "Index(['20003_1140861958-Treatmentmedication_code_simvastatin',\n",
       "       '20003_1140868226-Treatmentmedication_code_aspirin',\n",
       "       '20003_1141194794-Treatmentmedication_code_bendroflumethiazide',\n",
       "       '6150_1-Vascularheart_problems_diagnosed_by_doctor_Heart_attack',\n",
       "       '6150_2-Vascularheart_problems_diagnosed_by_doctor_Angina',\n",
       "       '6153_1-Medication_for_cholesterol_blood_pressure_diabetes_or_take_exogenous_hormones_Cholesterol_lowering_medication',\n",
       "       '6153_100-Medication_for_cholesterol_blood_pressure_diabetes_or_take_exogenous_hormones_None_of_the_above',\n",
       "       '6154_1-Medication_for_pain_relief_constipation_heartburn_Aspirin',\n",
       "       '6177_1-Medication_for_cholesterol_blood_pressure_or_diabetes_Cholesterol_lowering_medication',\n",
       "       '6177_100-Medication_for_cholesterol_blood_pressure_or_diabetes_None_of_the_above',\n",
       "       '6177_2-Medication_for_cholesterol_blood_pressure_or_diabetes_Blood_pressure_medication',\n",
       "       'I9_CHD-Major_coronary_heart_disease_event',\n",
       "       'I9_CHD_NOREV-Major_coronary_heart_disease_event_excluding_revascularizations',\n",
       "       'I9_CORATHER-Coronary_atherosclerosis',\n",
       "       'I9_IHD-Ischaemic_heart_disease_wide_definition',\n",
       "       'I9_MI-Myocardial_infarction',\n",
       "       'I9_MI_STRICT-Myocardial_infarction_strict',\n",
       "       'IX_CIRCULATORY-Diseases_of_the_circulatory_system',\n",
       "       'acute myocardial infarction', 'angina pectoris',\n",
       "       'coronary artery disease', 'hypercholesterolemia',\n",
       "       'myocardial infarction',\n",
       "       'number of non-cancer illnesses, self-reported',\n",
       "       'number of treatments or medications taken, self-reported'],\n",
       "      dtype='object')"
      ]
     },
     "metadata": {},
     "output_type": "display_data"
    },
    {
     "data": {
      "text/html": [
       "<h3>Cluster 27.19</h3>"
      ],
      "text/plain": [
       "<IPython.core.display.HTML object>"
      ]
     },
     "metadata": {},
     "output_type": "display_data"
    },
    {
     "data": {
      "text/plain": [
       "1"
      ]
     },
     "metadata": {},
     "output_type": "display_data"
    },
    {
     "data": {
      "text/plain": [
       "Index(['20153_raw-Forced_expiratory_volume_in_1second_FEV1_predicted'], dtype='object')"
      ]
     },
     "metadata": {},
     "output_type": "display_data"
    },
    {
     "data": {
      "text/html": [
       "<h3>Cluster 27.20</h3>"
      ],
      "text/plain": [
       "<IPython.core.display.HTML object>"
      ]
     },
     "metadata": {},
     "output_type": "display_data"
    },
    {
     "data": {
      "text/plain": [
       "36"
      ]
     },
     "metadata": {},
     "output_type": "display_data"
    },
    {
     "data": {
      "text/plain": [
       "Index(['20421-Ever_felt_worried_tense_or_anxious_for_most_of_a_month_or_longer',\n",
       "       '20425-Ever_worried_more_than_most_people_would_in_similar_situation',\n",
       "       '20441-Ever_had_prolonged_loss_of_interest_in_normal_activities',\n",
       "       '20446-Ever_had_prolonged_feelings_of_sadness_or_depression',\n",
       "       '20458-General_happiness', '20459-General_happiness_with_own_health',\n",
       "       '20460-Belief_that_own_life_is_meaningful',\n",
       "       '20479-Ever_thought_that_life_not_worth_living',\n",
       "       '20485-Ever_contemplated_selfharm',\n",
       "       '20494-Felt_irritable_or_had_angry_outbursts_in_past_month',\n",
       "       '20495-Avoided_activities_or_situations_because_of_previous_stressful_experience_in_past_month',\n",
       "       '20496-Felt_distant_from_other_people_in_past_month',\n",
       "       '20497-Repeated_disturbing_thoughts_of_stressful_experience_in_past_month',\n",
       "       '20498-Felt_very_upset_when_reminded_of_stressful_experience_in_past_month',\n",
       "       '20499-Ever_sought_or_received_professional_help_for_mental_distress',\n",
       "       '20500-Ever_suffered_mental_distress_preventing_usual_activities',\n",
       "       '20505-Recent_easy_annoyance_or_irritability',\n",
       "       '20506-Recent_feelings_or_nervousness_or_anxiety',\n",
       "       '20507-Recent_feelings_of_inadequacy',\n",
       "       '20508-Recent_trouble_concentrating_on_things',\n",
       "       '20509-Recent_inability_to_stop_or_control_worrying',\n",
       "       '20510-Recent_feelings_of_depression',\n",
       "       '20511-Recent_poor_appetite_or_overeating',\n",
       "       '20512-Recent_feelings_of_foreboding',\n",
       "       '20513-Recent_thoughts_of_suicide_or_selfharm',\n",
       "       '20514-Recent_lack_of_interest_or_pleasure_in_doing_things',\n",
       "       '20515-Recent_trouble_relaxing', '20516-Recent_restlessness',\n",
       "       '20517-Trouble_falling_or_staying_asleep_or_sleeping_too_much',\n",
       "       '20519-Recent_feelings_of_tiredness_or_low_energy',\n",
       "       '20520-Recent_worrying_too_much_about_different_things',\n",
       "       '20544_11-Mental_health_problems_ever_diagnosed_by_a_professional_Depression',\n",
       "       '20546_3-Substances_taken_for_depression_Medication_prescribed_to_you_for_at_least_two_weeks',\n",
       "       '20547_1-Activities_undertaken_to_treat_depression_Talking_therapies_such_as_psychotherapy_counselling_group_therapy_or_CBT',\n",
       "       '20549_3-Substances_taken_for_anxiety_Medication_prescribed_to_you_for_at_least_two_weeks',\n",
       "       'seeing a psychiatrist for nerves, anxiety, tension or depression, self-reported'],\n",
       "      dtype='object')"
      ]
     },
     "metadata": {},
     "output_type": "display_data"
    },
    {
     "data": {
      "text/html": [
       "<h3>Cluster 27.21</h3>"
      ],
      "text/plain": [
       "<IPython.core.display.HTML object>"
      ]
     },
     "metadata": {},
     "output_type": "display_data"
    },
    {
     "data": {
      "text/plain": [
       "12"
      ]
     },
     "metadata": {},
     "output_type": "display_data"
    },
    {
     "data": {
      "text/plain": [
       "Index(['20003_1140883066-Treatmentmedication_code_insulin_product',\n",
       "       '20003_1141191044-Treatmentmedication_code_levothyroxine_sodium',\n",
       "       '2986-Started_insulin_within_one_year_diagnosis_of_diabetes',\n",
       "       '6144_3-Never_eat_eggs_dairy_wheat_sugar_Wheat_products',\n",
       "       'K11_COELIAC-Coeliac_disease', 'celiac disease',\n",
       "       'hyperthyroidism AND thyrotoxicosis', 'hypothyroidism AND myxedema',\n",
       "       'malabsorption syndrome', 'psoriasis', 'rheumatoid arthritis',\n",
       "       'systemic lupus erythematosus'],\n",
       "      dtype='object')"
      ]
     },
     "metadata": {},
     "output_type": "display_data"
    },
    {
     "data": {
      "text/html": [
       "<h3>Cluster 27.22</h3>"
      ],
      "text/plain": [
       "<IPython.core.display.HTML object>"
      ]
     },
     "metadata": {},
     "output_type": "display_data"
    },
    {
     "data": {
      "text/plain": [
       "195"
      ]
     },
     "metadata": {},
     "output_type": "display_data"
    },
    {
     "data": {
      "text/plain": [
       "Index(['1031-Frequency_of_friendfamily_visits',\n",
       "       '1060-Time_spent_outdoors_in_winter', '1090-Time_spent_driving',\n",
       "       '1100-Drive_faster_than_motorway_speed_limit',\n",
       "       '110001-Invitation_to_complete_online_24hour_recall_dietary_questionnaire_acceptance',\n",
       "       '1110-Length_of_mobile_phone_use',\n",
       "       '1120-Weekly_usage_of_mobile_phone_in_last_3_months',\n",
       "       '1289-Cooked_vegetable_intake', '1299-Salad_raw_vegetable_intake',\n",
       "       '1309-Fresh_fruit_intake',\n",
       "       ...\n",
       "       'number of operations, self-reported', 'osteoarthritis',\n",
       "       'osteoarthritis, hip', 'osteoarthritis, knee', 'osteoporosis',\n",
       "       'parkinson's disease',\n",
       "       'seeing a general practitioner for nerves, anxiety, tension or depression, self-reported',\n",
       "       'smoking behavior', 'varicose veins', 'worry measurement'],\n",
       "      dtype='object', length=195)"
      ]
     },
     "metadata": {},
     "output_type": "display_data"
    },
    {
     "data": {
      "text/html": [
       "<h3>Cluster 27.23</h3>"
      ],
      "text/plain": [
       "<IPython.core.display.HTML object>"
      ]
     },
     "metadata": {},
     "output_type": "display_data"
    },
    {
     "data": {
      "text/plain": [
       "2"
      ]
     },
     "metadata": {},
     "output_type": "display_data"
    },
    {
     "data": {
      "text/plain": [
       "Index(['30150-Eosinophill_count', '30210_raw-Eosinophill_percentage'], dtype='object')"
      ]
     },
     "metadata": {},
     "output_type": "display_data"
    },
    {
     "data": {
      "text/html": [
       "<h3>Cluster 27.24</h3>"
      ],
      "text/plain": [
       "<IPython.core.display.HTML object>"
      ]
     },
     "metadata": {},
     "output_type": "display_data"
    },
    {
     "data": {
      "text/plain": [
       "3"
      ]
     },
     "metadata": {},
     "output_type": "display_data"
    },
    {
     "data": {
      "text/plain": [
       "Index(['30180_raw-Lymphocyte_percentage', '30200_raw-Neutrophill_percentage',\n",
       "       'lymphocyte count'],\n",
       "      dtype='object')"
      ]
     },
     "metadata": {},
     "output_type": "display_data"
    },
    {
     "data": {
      "text/html": [
       "<h3>Cluster 27.25</h3>"
      ],
      "text/plain": [
       "<IPython.core.display.HTML object>"
      ]
     },
     "metadata": {},
     "output_type": "display_data"
    },
    {
     "data": {
      "text/plain": [
       "1"
      ]
     },
     "metadata": {},
     "output_type": "display_data"
    },
    {
     "data": {
      "text/plain": [
       "Index(['30070_raw-Red_blood_cell_erythrocyte_distribution_width'], dtype='object')"
      ]
     },
     "metadata": {},
     "output_type": "display_data"
    },
    {
     "data": {
      "text/html": [
       "<h3>Cluster 27.26</h3>"
      ],
      "text/plain": [
       "<IPython.core.display.HTML object>"
      ]
     },
     "metadata": {},
     "output_type": "display_data"
    },
    {
     "data": {
      "text/plain": [
       "136"
      ]
     },
     "metadata": {},
     "output_type": "display_data"
    },
    {
     "data": {
      "text/plain": [
       "Index(['129_raw-Place_of_birth_in_UK_north_coordinate',\n",
       "       '130_raw-Place_of_birth_in_UK_east_coordinate',\n",
       "       '20074_raw-Home_location_at_assessment_east_coordinate_rounded',\n",
       "       '20075_raw-Home_location_at_assessment_north_coordinate_rounded',\n",
       "       '20118_11-Home_area_population_density_urban_or_rural_Scotland_Large_Urban_Area',\n",
       "       '22704_raw-Home_location_north_coordinate_rounded',\n",
       "       '30220_raw-Basophill_percentage', 'abdominal injury',\n",
       "       'abnormal delivery', 'alcohol dependence',\n",
       "       ...\n",
       "       'tongue neoplasm', 'transient ischemic attack', 'tuberculosis',\n",
       "       'type ii diabetes mellitus', 'ulcerative colitis',\n",
       "       'urogenital neoplasm', 'urticaria', 'vascular disease', 'vasculitis',\n",
       "       'wrist fracture'],\n",
       "      dtype='object', length=136)"
      ]
     },
     "metadata": {},
     "output_type": "display_data"
    },
    {
     "data": {
      "text/html": [
       "<h2>Partition with k=31</h2>"
      ],
      "text/plain": [
       "<IPython.core.display.HTML object>"
      ]
     },
     "metadata": {},
     "output_type": "display_data"
    },
    {
     "data": {
      "text/plain": [
       "method                                                 scc_025\n",
       "partition    [29, 29, 29, 29, 29, 29, 29, 29, 29, 1, 29, 29...\n",
       "ami_mean                                              0.290133\n",
       "selected                                                  True\n",
       "Name: 31, dtype: object"
      ]
     },
     "metadata": {},
     "output_type": "display_data"
    },
    {
     "data": {
      "text/plain": [
       "(3749,)"
      ]
     },
     "metadata": {},
     "output_type": "display_data"
    },
    {
     "data": {
      "text/plain": [
       "1     3115\n",
       "22     194\n",
       "25     134\n",
       "21      60\n",
       "30      36\n",
       "23      25\n",
       "28      20\n",
       "29      19\n",
       "10      18\n",
       "13      16\n",
       "12      13\n",
       "17      12\n",
       "4       12\n",
       "19       8\n",
       "5        8\n",
       "16       6\n",
       "14       6\n",
       "18       5\n",
       "7        5\n",
       "0        5\n",
       "24       5\n",
       "11       4\n",
       "3        4\n",
       "9        4\n",
       "8        3\n",
       "6        3\n",
       "15       3\n",
       "20       2\n",
       "27       2\n",
       "26       1\n",
       "2        1\n",
       "dtype: int64"
      ]
     },
     "metadata": {},
     "output_type": "display_data"
    },
    {
     "data": {
      "text/html": [
       "<h3>Cluster 31.0</h3>"
      ],
      "text/plain": [
       "<IPython.core.display.HTML object>"
      ]
     },
     "metadata": {},
     "output_type": "display_data"
    },
    {
     "data": {
      "text/plain": [
       "5"
      ]
     },
     "metadata": {},
     "output_type": "display_data"
    },
    {
     "data": {
      "text/plain": [
       "Index(['23106_raw-Impedance_of_whole_body', '23107_raw-Impedance_of_leg_right',\n",
       "       '23108_raw-Impedance_of_leg_left', '23109_raw-Impedance_of_arm_right',\n",
       "       '23110_raw-Impedance_of_arm_left'],\n",
       "      dtype='object')"
      ]
     },
     "metadata": {},
     "output_type": "display_data"
    },
    {
     "data": {
      "text/html": [
       "<h3>Cluster 31.1</h3>"
      ],
      "text/plain": [
       "<IPython.core.display.HTML object>"
      ]
     },
     "metadata": {},
     "output_type": "display_data"
    },
    {
     "data": {
      "text/plain": [
       "3115"
      ]
     },
     "metadata": {},
     "output_type": "display_data"
    },
    {
     "data": {
      "text/plain": [
       "Index(['100010-Portion_size', '100013_raw-Vitamin_B12', '100018_raw-Retinol',\n",
       "       '100021_raw-Vitamin_D', '100022-Alcohol',\n",
       "       '1001-Duration_of_strenuous_sports', '100150-Drinking_water_intake',\n",
       "       '100160-Low_calorie_drink_intake', '100170-Fizzy_drink_intake',\n",
       "       '100190-Orange_juice_intake',\n",
       "       ...\n",
       "       'viral disease', 'viral human hepatitis infection', 'viral meningitis',\n",
       "       'visual impairment', 'vitiligo', 'vitreous body disease',\n",
       "       'vocal cord polyp', 'voice disorders',\n",
       "       'wellbeing measurement AND family relationship', 'whooping cough'],\n",
       "      dtype='object', length=3115)"
      ]
     },
     "metadata": {},
     "output_type": "display_data"
    },
    {
     "data": {
      "text/html": [
       "<h3>Cluster 31.2</h3>"
      ],
      "text/plain": [
       "<IPython.core.display.HTML object>"
      ]
     },
     "metadata": {},
     "output_type": "display_data"
    },
    {
     "data": {
      "text/plain": [
       "1"
      ]
     },
     "metadata": {},
     "output_type": "display_data"
    },
    {
     "data": {
      "text/plain": [
       "Index(['20153_raw-Forced_expiratory_volume_in_1second_FEV1_predicted'], dtype='object')"
      ]
     },
     "metadata": {},
     "output_type": "display_data"
    },
    {
     "data": {
      "text/html": [
       "<h3>Cluster 31.3</h3>"
      ],
      "text/plain": [
       "<IPython.core.display.HTML object>"
      ]
     },
     "metadata": {},
     "output_type": "display_data"
    },
    {
     "data": {
      "text/plain": [
       "4"
      ]
     },
     "metadata": {},
     "output_type": "display_data"
    },
    {
     "data": {
      "text/plain": [
       "Index(['30040_raw-Mean_corpuscular_volume',\n",
       "       '30050_raw-Mean_corpuscular_haemoglobin',\n",
       "       '30260_raw-Mean_reticulocyte_volume',\n",
       "       '30270_raw-Mean_sphered_cell_volume'],\n",
       "      dtype='object')"
      ]
     },
     "metadata": {},
     "output_type": "display_data"
    },
    {
     "data": {
      "text/html": [
       "<h3>Cluster 31.4</h3>"
      ],
      "text/plain": [
       "<IPython.core.display.HTML object>"
      ]
     },
     "metadata": {},
     "output_type": "display_data"
    },
    {
     "data": {
      "text/plain": [
       "12"
      ]
     },
     "metadata": {},
     "output_type": "display_data"
    },
    {
     "data": {
      "text/plain": [
       "Index(['3144_raw-Heel_Broadband_ultrasound_attenuation_direct_entry',\n",
       "       '3147_raw-Heel_quantitative_ultrasound_index_QUI_direct_entry',\n",
       "       '3148_raw-Heel_bone_mineral_density_BMD',\n",
       "       '4101_raw-Heel_broadband_ultrasound_attenuation_left',\n",
       "       '4104_raw-Heel_quantitative_ultrasound_index_QUI_direct_entry_left',\n",
       "       '4105_raw-Heel_bone_mineral_density_BMD_left',\n",
       "       '4106_raw-Heel_bone_mineral_density_BMD_Tscore_automated_left',\n",
       "       '4120_raw-Heel_broadband_ultrasound_attenuation_right',\n",
       "       '4123_raw-Heel_quantitative_ultrasound_index_QUI_direct_entry_right',\n",
       "       '4124_raw-Heel_bone_mineral_density_BMD_right',\n",
       "       '4125_raw-Heel_bone_mineral_density_BMD_Tscore_automated_right',\n",
       "       '78_raw-Heel_bone_mineral_density_BMD_Tscore_automated'],\n",
       "      dtype='object')"
      ]
     },
     "metadata": {},
     "output_type": "display_data"
    },
    {
     "data": {
      "text/html": [
       "<h3>Cluster 31.5</h3>"
      ],
      "text/plain": [
       "<IPython.core.display.HTML object>"
      ]
     },
     "metadata": {},
     "output_type": "display_data"
    },
    {
     "data": {
      "text/plain": [
       "8"
      ]
     },
     "metadata": {},
     "output_type": "display_data"
    },
    {
     "data": {
      "text/plain": [
       "Index(['5096_raw-3mm_weak_meridian_left', '5097_raw-6mm_weak_meridian_left',\n",
       "       '5098_raw-6mm_weak_meridian_right', '5099_raw-3mm_weak_meridian_right',\n",
       "       '5132_raw-3mm_strong_meridian_right',\n",
       "       '5133_raw-6mm_strong_meridian_right',\n",
       "       '5134_raw-6mm_strong_meridian_left',\n",
       "       '5135_raw-3mm_strong_meridian_left'],\n",
       "      dtype='object')"
      ]
     },
     "metadata": {},
     "output_type": "display_data"
    },
    {
     "data": {
      "text/html": [
       "<h3>Cluster 31.6</h3>"
      ],
      "text/plain": [
       "<IPython.core.display.HTML object>"
      ]
     },
     "metadata": {},
     "output_type": "display_data"
    },
    {
     "data": {
      "text/plain": [
       "3"
      ]
     },
     "metadata": {},
     "output_type": "display_data"
    },
    {
     "data": {
      "text/plain": [
       "Index(['30150-Eosinophill_count', '30210_raw-Eosinophill_percentage',\n",
       "       'eosinophil count'],\n",
       "      dtype='object')"
      ]
     },
     "metadata": {},
     "output_type": "display_data"
    },
    {
     "data": {
      "text/html": [
       "<h3>Cluster 31.7</h3>"
      ],
      "text/plain": [
       "<IPython.core.display.HTML object>"
      ]
     },
     "metadata": {},
     "output_type": "display_data"
    },
    {
     "data": {
      "text/plain": [
       "5"
      ]
     },
     "metadata": {},
     "output_type": "display_data"
    },
    {
     "data": {
      "text/plain": [
       "Index(['30080_raw-Platelet_count', '30090_raw-Platelet_crit',\n",
       "       '30100_raw-Mean_platelet_thrombocyte_volume',\n",
       "       '30110_raw-Platelet_distribution_width', 'platelet count'],\n",
       "      dtype='object')"
      ]
     },
     "metadata": {},
     "output_type": "display_data"
    },
    {
     "data": {
      "text/html": [
       "<h3>Cluster 31.8</h3>"
      ],
      "text/plain": [
       "<IPython.core.display.HTML object>"
      ]
     },
     "metadata": {},
     "output_type": "display_data"
    },
    {
     "data": {
      "text/plain": [
       "3"
      ]
     },
     "metadata": {},
     "output_type": "display_data"
    },
    {
     "data": {
      "text/plain": [
       "Index(['30130_raw-Monocyte_count', '30190_raw-Monocyte_percentage',\n",
       "       'monocyte count'],\n",
       "      dtype='object')"
      ]
     },
     "metadata": {},
     "output_type": "display_data"
    },
    {
     "data": {
      "text/html": [
       "<h3>Cluster 31.9</h3>"
      ],
      "text/plain": [
       "<IPython.core.display.HTML object>"
      ]
     },
     "metadata": {},
     "output_type": "display_data"
    },
    {
     "data": {
      "text/plain": [
       "4"
      ]
     },
     "metadata": {},
     "output_type": "display_data"
    },
    {
     "data": {
      "text/plain": [
       "Index(['30010_raw-Red_blood_cell_erythrocyte_count',\n",
       "       '30020_raw-Haemoglobin_concentration',\n",
       "       '30030_raw-Haematocrit_percentage', 'erythrocyte count'],\n",
       "      dtype='object')"
      ]
     },
     "metadata": {},
     "output_type": "display_data"
    },
    {
     "data": {
      "text/html": [
       "<h3>Cluster 31.10</h3>"
      ],
      "text/plain": [
       "<IPython.core.display.HTML object>"
      ]
     },
     "metadata": {},
     "output_type": "display_data"
    },
    {
     "data": {
      "text/plain": [
       "18"
      ]
     },
     "metadata": {},
     "output_type": "display_data"
    },
    {
     "data": {
      "text/plain": [
       "Index(['1050-Time_spend_outdoors_in_summer',\n",
       "       '1070-Time_spent_watching_television_TV', '1448_1-Bread_type_White',\n",
       "       '1448_3-Bread_type_Wholemeal_or_wholegrain',\n",
       "       '20016_raw-Fluid_intelligence_score',\n",
       "       '2139_raw-Age_first_had_sexual_intercourse',\n",
       "       '22501_raw-Year_ended_full_time_education',\n",
       "       '2754_raw-Age_at_first_live_birth',\n",
       "       '6138_1-Qualifications_College_or_University_degree',\n",
       "       '6138_100-Qualifications_None_of_the_above',\n",
       "       '6138_2-Qualifications_A_levelsAS_levels_or_equivalent',\n",
       "       '6138_3-Qualifications_O_levelsGCSEs_or_equivalent',\n",
       "       '738-Average_total_household_income_before_tax',\n",
       "       '806-Job_involves_mainly_walking_or_standing',\n",
       "       '816-Job_involves_heavy_manual_or_physical_work',\n",
       "       'SSGAC_Education_Years_Pooled', 'schizophrenia',\n",
       "       'self reported educational attainment'],\n",
       "      dtype='object')"
      ]
     },
     "metadata": {},
     "output_type": "display_data"
    },
    {
     "data": {
      "text/html": [
       "<h3>Cluster 31.11</h3>"
      ],
      "text/plain": [
       "<IPython.core.display.HTML object>"
      ]
     },
     "metadata": {},
     "output_type": "display_data"
    },
    {
     "data": {
      "text/plain": [
       "4"
      ]
     },
     "metadata": {},
     "output_type": "display_data"
    },
    {
     "data": {
      "text/plain": [
       "Index(['20150_raw-Forced_expiratory_volume_in_1second_FEV1_Best_measure',\n",
       "       '20151_raw-Forced_vital_capacity_FVC_Best_measure',\n",
       "       '3062_raw-Forced_vital_capacity_FVC',\n",
       "       '3063_raw-Forced_expiratory_volume_in_1second_FEV1'],\n",
       "      dtype='object')"
      ]
     },
     "metadata": {},
     "output_type": "display_data"
    },
    {
     "data": {
      "text/html": [
       "<h3>Cluster 31.12</h3>"
      ],
      "text/plain": [
       "<IPython.core.display.HTML object>"
      ]
     },
     "metadata": {},
     "output_type": "display_data"
    },
    {
     "data": {
      "text/plain": [
       "13"
      ]
     },
     "metadata": {},
     "output_type": "display_data"
    },
    {
     "data": {
      "text/plain": [
       "Index(['23101_raw-Whole_body_fatfree_mass', '23102_raw-Whole_body_water_mass',\n",
       "       '23105_raw-Basal_metabolic_rate', '23113_raw-Leg_fatfree_mass_right',\n",
       "       '23114_raw-Leg_predicted_mass_right', '23117_raw-Leg_fatfree_mass_left',\n",
       "       '23118_raw-Leg_predicted_mass_left', '23121_raw-Arm_fatfree_mass_right',\n",
       "       '23122_raw-Arm_predicted_mass_right', '23125_raw-Arm_fatfree_mass_left',\n",
       "       '23126_raw-Arm_predicted_mass_left', '23129_raw-Trunk_fatfree_mass',\n",
       "       '23130_raw-Trunk_predicted_mass'],\n",
       "      dtype='object')"
      ]
     },
     "metadata": {},
     "output_type": "display_data"
    },
    {
     "data": {
      "text/html": [
       "<h3>Cluster 31.13</h3>"
      ],
      "text/plain": [
       "<IPython.core.display.HTML object>"
      ]
     },
     "metadata": {},
     "output_type": "display_data"
    },
    {
     "data": {
      "text/plain": [
       "16"
      ]
     },
     "metadata": {},
     "output_type": "display_data"
    },
    {
     "data": {
      "text/plain": [
       "Index(['21001_raw-Body_mass_index_BMI', '23099_raw-Body_fat_percentage',\n",
       "       '23100_raw-Whole_body_fat_mass', '23104_raw-Body_mass_index_BMI',\n",
       "       '23111_raw-Leg_fat_percentage_right', '23112_raw-Leg_fat_mass_right',\n",
       "       '23115_raw-Leg_fat_percentage_left', '23116_raw-Leg_fat_mass_left',\n",
       "       '23119_raw-Arm_fat_percentage_right', '23120_raw-Arm_fat_mass_right',\n",
       "       '23123_raw-Arm_fat_percentage_left', '23124_raw-Arm_fat_mass_left',\n",
       "       '23127_raw-Trunk_fat_percentage', '23128_raw-Trunk_fat_mass',\n",
       "       '48_raw-Waist_circumference', '49_raw-Hip_circumference'],\n",
       "      dtype='object')"
      ]
     },
     "metadata": {},
     "output_type": "display_data"
    },
    {
     "data": {
      "text/html": [
       "<h3>Cluster 31.14</h3>"
      ],
      "text/plain": [
       "<IPython.core.display.HTML object>"
      ]
     },
     "metadata": {},
     "output_type": "display_data"
    },
    {
     "data": {
      "text/plain": [
       "6"
      ]
     },
     "metadata": {},
     "output_type": "display_data"
    },
    {
     "data": {
      "text/plain": [
       "Index(['30000_raw-White_blood_cell_leukocyte_count',\n",
       "       '30140_raw-Neutrophill_count', 'granulocyte count', 'leukocyte count',\n",
       "       'myeloid white cell count', 'neutrophil count'],\n",
       "      dtype='object')"
      ]
     },
     "metadata": {},
     "output_type": "display_data"
    },
    {
     "data": {
      "text/html": [
       "<h3>Cluster 31.15</h3>"
      ],
      "text/plain": [
       "<IPython.core.display.HTML object>"
      ]
     },
     "metadata": {},
     "output_type": "display_data"
    },
    {
     "data": {
      "text/plain": [
       "3"
      ]
     },
     "metadata": {},
     "output_type": "display_data"
    },
    {
     "data": {
      "text/plain": [
       "Index(['20015_raw-Sitting_height', '50_raw-Standing_height', 'body height'], dtype='object')"
      ]
     },
     "metadata": {},
     "output_type": "display_data"
    },
    {
     "data": {
      "text/html": [
       "<h3>Cluster 31.16</h3>"
      ],
      "text/plain": [
       "<IPython.core.display.HTML object>"
      ]
     },
     "metadata": {},
     "output_type": "display_data"
    },
    {
     "data": {
      "text/plain": [
       "6"
      ]
     },
     "metadata": {},
     "output_type": "display_data"
    },
    {
     "data": {
      "text/plain": [
       "Index(['30240_raw-Reticulocyte_percentage', '30250_raw-Reticulocyte_count',\n",
       "       '30280_raw-Immature_reticulocyte_fraction',\n",
       "       '30290_raw-High_light_scatter_reticulocyte_percentage',\n",
       "       '30300_raw-High_light_scatter_reticulocyte_count',\n",
       "       'reticulocyte count'],\n",
       "      dtype='object')"
      ]
     },
     "metadata": {},
     "output_type": "display_data"
    },
    {
     "data": {
      "text/html": [
       "<h3>Cluster 31.17</h3>"
      ],
      "text/plain": [
       "<IPython.core.display.HTML object>"
      ]
     },
     "metadata": {},
     "output_type": "display_data"
    },
    {
     "data": {
      "text/plain": [
       "12"
      ]
     },
     "metadata": {},
     "output_type": "display_data"
    },
    {
     "data": {
      "text/plain": [
       "Index(['20003_1140883066-Treatmentmedication_code_insulin_product',\n",
       "       '20003_1141191044-Treatmentmedication_code_levothyroxine_sodium',\n",
       "       '2986-Started_insulin_within_one_year_diagnosis_of_diabetes',\n",
       "       '6144_3-Never_eat_eggs_dairy_wheat_sugar_Wheat_products',\n",
       "       'K11_COELIAC-Coeliac_disease', 'celiac disease',\n",
       "       'hyperthyroidism AND thyrotoxicosis', 'hypothyroidism AND myxedema',\n",
       "       'malabsorption syndrome', 'psoriasis', 'rheumatoid arthritis',\n",
       "       'systemic lupus erythematosus'],\n",
       "      dtype='object')"
      ]
     },
     "metadata": {},
     "output_type": "display_data"
    },
    {
     "data": {
      "text/html": [
       "<h3>Cluster 31.18</h3>"
      ],
      "text/plain": [
       "<IPython.core.display.HTML object>"
      ]
     },
     "metadata": {},
     "output_type": "display_data"
    },
    {
     "data": {
      "text/plain": [
       "5"
      ]
     },
     "metadata": {},
     "output_type": "display_data"
    },
    {
     "data": {
      "text/plain": [
       "Index(['4079_raw-Diastolic_blood_pressure_automated_reading',\n",
       "       '4080_raw-Systolic_blood_pressure_automated_reading',\n",
       "       '6150_100-Vascularheart_problems_diagnosed_by_doctor_None_of_the_above',\n",
       "       '6150_4-Vascularheart_problems_diagnosed_by_doctor_High_blood_pressure',\n",
       "       'hypertension'],\n",
       "      dtype='object')"
      ]
     },
     "metadata": {},
     "output_type": "display_data"
    },
    {
     "data": {
      "text/html": [
       "<h3>Cluster 31.19</h3>"
      ],
      "text/plain": [
       "<IPython.core.display.HTML object>"
      ]
     },
     "metadata": {},
     "output_type": "display_data"
    },
    {
     "data": {
      "text/plain": [
       "8"
      ]
     },
     "metadata": {},
     "output_type": "display_data"
    },
    {
     "data": {
      "text/plain": [
       "Index(['1717-Skin_colour', '1727-Ease_of_skin_tanning',\n",
       "       '1737-Childhood_sunburn_occasions',\n",
       "       '1747_1-Hair_colour_natural_before_greying_Blonde',\n",
       "       '1747_2-Hair_colour_natural_before_greying_Red',\n",
       "       '1747_3-Hair_colour_natural_before_greying_Light_brown',\n",
       "       '1747_4-Hair_colour_natural_before_greying_Dark_brown',\n",
       "       '1747_5-Hair_colour_natural_before_greying_Black'],\n",
       "      dtype='object')"
      ]
     },
     "metadata": {},
     "output_type": "display_data"
    },
    {
     "data": {
      "text/html": [
       "<h3>Cluster 31.20</h3>"
      ],
      "text/plain": [
       "<IPython.core.display.HTML object>"
      ]
     },
     "metadata": {},
     "output_type": "display_data"
    },
    {
     "data": {
      "text/plain": [
       "2"
      ]
     },
     "metadata": {},
     "output_type": "display_data"
    },
    {
     "data": {
      "text/plain": [
       "Index(['30180_raw-Lymphocyte_percentage', '30200_raw-Neutrophill_percentage'], dtype='object')"
      ]
     },
     "metadata": {},
     "output_type": "display_data"
    },
    {
     "data": {
      "text/html": [
       "<h3>Cluster 31.21</h3>"
      ],
      "text/plain": [
       "<IPython.core.display.HTML object>"
      ]
     },
     "metadata": {},
     "output_type": "display_data"
    },
    {
     "data": {
      "text/plain": [
       "60"
      ]
     },
     "metadata": {},
     "output_type": "display_data"
    },
    {
     "data": {
      "text/plain": [
       "Index(['1080-Time_spent_using_computer', '1110-Length_of_mobile_phone_use',\n",
       "       '1299-Salad_raw_vegetable_intake', '1309-Fresh_fruit_intake',\n",
       "       '1319-Dried_fruit_intake', '1329-Oily_fish_intake',\n",
       "       '1408-Cheese_intake', '1458-Cereal_intake', '1478-Salt_added_to_food',\n",
       "       '1488_raw-Tea_intake',\n",
       "       '1508_3-Coffee_type_Ground_coffee_include_espresso_filter_etc',\n",
       "       '1518-Hot_drink_temperature', '1528-Water_intake', '1757-Facial_ageing',\n",
       "       '1787-Maternal_smoking_around_birth',\n",
       "       '20023_raw-Mean_time_to_correctly_identify_matches',\n",
       "       '20116_0-Smoking_status_Never', '20116_1-Smoking_status_Previous',\n",
       "       '20116_2-Smoking_status_Current', '20127_raw-Neuroticism_score',\n",
       "       '20154_raw-Forced_expiratory_volume_in_1second_FEV1_predicted_percentage',\n",
       "       '20160-Ever_smoked',\n",
       "       '2070-Frequency_of_tenseness_restlessness_in_last_2_weeks',\n",
       "       '2149-Lifetime_number_of_sexual_partners', '2237-Plays_computer_games',\n",
       "       '2267-Use_of_sunuv_protection',\n",
       "       '2492-Taking_other_prescription_medications',\n",
       "       '30510_raw-Creatinine_enzymatic_in_urine', '30530_raw-Sodium_in_urine',\n",
       "       '399_raw-Number_of_incorrect_matches_in_round',\n",
       "       '400_raw-Time_to_complete_round',\n",
       "       '404_raw-Duration_to_first_press_of_snapbutton_in_each_round',\n",
       "       '6144_5-Never_eat_eggs_dairy_wheat_sugar_I_eat_all_of_the_above',\n",
       "       '6149_6-Mouthteeth_dental_problems_Dentures',\n",
       "       '6154_100-Medication_for_pain_relief_constipation_heartburn_None_of_the_above',\n",
       "       '6154_3-Medication_for_pain_relief_constipation_heartburn_Paracetamol',\n",
       "       '6159_1-Pain_types_experienced_in_last_month_Headache',\n",
       "       '6159_100-Pain_types_experienced_in_last_month_None_of_the_above',\n",
       "       '924-Usual_walking_pace',\n",
       "       '943-Frequency_of_stair_climbing_in_last_4_weeks',\n",
       "       'age at first facial hair', 'alcohol consumption measurement',\n",
       "       'anxiety', 'chronic disease',\n",
       "       'ease of getting up in the morning, self-reported',\n",
       "       'excessive daytime sleepiness measurement AND narcolepsy without cataplexy',\n",
       "       'feeling tense measurement', 'insomnia', 'irritability', 'mood swings',\n",
       "       'nap during day, self-reported', 'nervousness',\n",
       "       'seeing a general practitioner for nerves, anxiety, tension or depression, self-reported',\n",
       "       'self rated health', 'smoking behavior', 'smoking cessation',\n",
       "       'snoring measurement', 'tiredness measurement', 'wheezing',\n",
       "       'worry measurement'],\n",
       "      dtype='object')"
      ]
     },
     "metadata": {},
     "output_type": "display_data"
    },
    {
     "data": {
      "text/html": [
       "<h3>Cluster 31.22</h3>"
      ],
      "text/plain": [
       "<IPython.core.display.HTML object>"
      ]
     },
     "metadata": {},
     "output_type": "display_data"
    },
    {
     "data": {
      "text/plain": [
       "194"
      ]
     },
     "metadata": {},
     "output_type": "display_data"
    },
    {
     "data": {
      "text/plain": [
       "Index(['1021-Duration_of_light_DIY', '1031-Frequency_of_friendfamily_visits',\n",
       "       '1060-Time_spent_outdoors_in_winter', '1090-Time_spent_driving',\n",
       "       '1100-Drive_faster_than_motorway_speed_limit',\n",
       "       '110001-Invitation_to_complete_online_24hour_recall_dietary_questionnaire_acceptance',\n",
       "       '1120-Weekly_usage_of_mobile_phone_in_last_3_months',\n",
       "       '1289-Cooked_vegetable_intake', '1339-Nonoily_fish_intake',\n",
       "       '1349-Processed_meat_intake',\n",
       "       ...\n",
       "       'migraine disorder', 'mononeuropathy', 'multiple myeloma',\n",
       "       'number of operations, self-reported', 'osteoarthritis',\n",
       "       'osteoarthritis, hip', 'osteoarthritis, knee', 'osteoporosis',\n",
       "       'parkinson's disease', 'varicose veins'],\n",
       "      dtype='object', length=194)"
      ]
     },
     "metadata": {},
     "output_type": "display_data"
    },
    {
     "data": {
      "text/html": [
       "<h3>Cluster 31.23</h3>"
      ],
      "text/plain": [
       "<IPython.core.display.HTML object>"
      ]
     },
     "metadata": {},
     "output_type": "display_data"
    },
    {
     "data": {
      "text/plain": [
       "25"
      ]
     },
     "metadata": {},
     "output_type": "display_data"
    },
    {
     "data": {
      "text/plain": [
       "Index(['20003_1140861958-Treatmentmedication_code_simvastatin',\n",
       "       '20003_1140868226-Treatmentmedication_code_aspirin',\n",
       "       '20003_1141194794-Treatmentmedication_code_bendroflumethiazide',\n",
       "       '6150_1-Vascularheart_problems_diagnosed_by_doctor_Heart_attack',\n",
       "       '6150_2-Vascularheart_problems_diagnosed_by_doctor_Angina',\n",
       "       '6153_1-Medication_for_cholesterol_blood_pressure_diabetes_or_take_exogenous_hormones_Cholesterol_lowering_medication',\n",
       "       '6153_100-Medication_for_cholesterol_blood_pressure_diabetes_or_take_exogenous_hormones_None_of_the_above',\n",
       "       '6154_1-Medication_for_pain_relief_constipation_heartburn_Aspirin',\n",
       "       '6177_1-Medication_for_cholesterol_blood_pressure_or_diabetes_Cholesterol_lowering_medication',\n",
       "       '6177_100-Medication_for_cholesterol_blood_pressure_or_diabetes_None_of_the_above',\n",
       "       '6177_2-Medication_for_cholesterol_blood_pressure_or_diabetes_Blood_pressure_medication',\n",
       "       'I9_CHD-Major_coronary_heart_disease_event',\n",
       "       'I9_CHD_NOREV-Major_coronary_heart_disease_event_excluding_revascularizations',\n",
       "       'I9_CORATHER-Coronary_atherosclerosis',\n",
       "       'I9_IHD-Ischaemic_heart_disease_wide_definition',\n",
       "       'I9_MI-Myocardial_infarction',\n",
       "       'I9_MI_STRICT-Myocardial_infarction_strict',\n",
       "       'IX_CIRCULATORY-Diseases_of_the_circulatory_system',\n",
       "       'acute myocardial infarction', 'angina pectoris',\n",
       "       'coronary artery disease', 'hypercholesterolemia',\n",
       "       'myocardial infarction',\n",
       "       'number of non-cancer illnesses, self-reported',\n",
       "       'number of treatments or medications taken, self-reported'],\n",
       "      dtype='object')"
      ]
     },
     "metadata": {},
     "output_type": "display_data"
    },
    {
     "data": {
      "text/html": [
       "<h3>Cluster 31.24</h3>"
      ],
      "text/plain": [
       "<IPython.core.display.HTML object>"
      ]
     },
     "metadata": {},
     "output_type": "display_data"
    },
    {
     "data": {
      "text/plain": [
       "5"
      ]
     },
     "metadata": {},
     "output_type": "display_data"
    },
    {
     "data": {
      "text/plain": [
       "Index(['3064_raw-Peak_expiratory_flow_PEF', '46_raw-Hand_grip_strength_left',\n",
       "       '47_raw-Hand_grip_strength_right', 'inflammatory bowel disease',\n",
       "       'lymphocyte count'],\n",
       "      dtype='object')"
      ]
     },
     "metadata": {},
     "output_type": "display_data"
    },
    {
     "data": {
      "text/html": [
       "<h3>Cluster 31.25</h3>"
      ],
      "text/plain": [
       "<IPython.core.display.HTML object>"
      ]
     },
     "metadata": {},
     "output_type": "display_data"
    },
    {
     "data": {
      "text/plain": [
       "134"
      ]
     },
     "metadata": {},
     "output_type": "display_data"
    },
    {
     "data": {
      "text/plain": [
       "Index(['129_raw-Place_of_birth_in_UK_north_coordinate',\n",
       "       '130_raw-Place_of_birth_in_UK_east_coordinate',\n",
       "       '20074_raw-Home_location_at_assessment_east_coordinate_rounded',\n",
       "       '20075_raw-Home_location_at_assessment_north_coordinate_rounded',\n",
       "       '20118_11-Home_area_population_density_urban_or_rural_Scotland_Large_Urban_Area',\n",
       "       '22704_raw-Home_location_north_coordinate_rounded', 'abdominal injury',\n",
       "       'abnormal delivery', 'alcohol dependence',\n",
       "       'androgenetic alopecia AND balding measurement',\n",
       "       ...\n",
       "       'tongue neoplasm', 'transient ischemic attack', 'tuberculosis',\n",
       "       'type ii diabetes mellitus', 'ulcerative colitis',\n",
       "       'urogenital neoplasm', 'urticaria', 'vascular disease', 'vasculitis',\n",
       "       'wrist fracture'],\n",
       "      dtype='object', length=134)"
      ]
     },
     "metadata": {},
     "output_type": "display_data"
    },
    {
     "data": {
      "text/html": [
       "<h3>Cluster 31.26</h3>"
      ],
      "text/plain": [
       "<IPython.core.display.HTML object>"
      ]
     },
     "metadata": {},
     "output_type": "display_data"
    },
    {
     "data": {
      "text/plain": [
       "1"
      ]
     },
     "metadata": {},
     "output_type": "display_data"
    },
    {
     "data": {
      "text/plain": [
       "Index(['30070_raw-Red_blood_cell_erythrocyte_distribution_width'], dtype='object')"
      ]
     },
     "metadata": {},
     "output_type": "display_data"
    },
    {
     "data": {
      "text/html": [
       "<h3>Cluster 31.27</h3>"
      ],
      "text/plain": [
       "<IPython.core.display.HTML object>"
      ]
     },
     "metadata": {},
     "output_type": "display_data"
    },
    {
     "data": {
      "text/plain": [
       "2"
      ]
     },
     "metadata": {},
     "output_type": "display_data"
    },
    {
     "data": {
      "text/plain": [
       "Index(['21002_raw-Weight', '23098_raw-Weight'], dtype='object')"
      ]
     },
     "metadata": {},
     "output_type": "display_data"
    },
    {
     "data": {
      "text/html": [
       "<h3>Cluster 31.28</h3>"
      ],
      "text/plain": [
       "<IPython.core.display.HTML object>"
      ]
     },
     "metadata": {},
     "output_type": "display_data"
    },
    {
     "data": {
      "text/plain": [
       "20"
      ]
     },
     "metadata": {},
     "output_type": "display_data"
    },
    {
     "data": {
      "text/plain": [
       "Index(['102_raw-Pulse_rate_automated_reading', '20022_raw-Birth_weight',\n",
       "       '2217_raw-Age_started_wearing_glasses_or_contact_lenses',\n",
       "       '2395_1-Hairbalding_pattern_Pattern_1',\n",
       "       '30060_raw-Mean_corpuscular_haemoglobin_concentration',\n",
       "       '30120_raw-Lymphocyte_count', '4100_raw-Ankle_spacing_width_left',\n",
       "       '4119_raw-Ankle_spacing_width_right', '5084_raw-Spherical_power_right',\n",
       "       '5085_raw-Spherical_power_left',\n",
       "       '6152_100-Blood_clot_DVT_bronchitis_emphysema_asthma_rhinitis_eczema_allergy_diagnosed_by_doctor_None_of_the_above',\n",
       "       '6152_8-Blood_clot_DVT_bronchitis_emphysema_asthma_rhinitis_eczema_allergy_diagnosed_by_doctor_Asthma',\n",
       "       '6152_9-Blood_clot_DVT_bronchitis_emphysema_asthma_rhinitis_eczema_allergy_diagnosed_by_doctor_Hayfever_allergic_rhinitis_or_eczema',\n",
       "       'age at menarche', 'asthma', 'chronotype measurement',\n",
       "       'comparative body size at age 10, self-reported', 'diabetes mellitus',\n",
       "       'hearing loss', 'sleep duration'],\n",
       "      dtype='object')"
      ]
     },
     "metadata": {},
     "output_type": "display_data"
    },
    {
     "data": {
      "text/html": [
       "<h3>Cluster 31.29</h3>"
      ],
      "text/plain": [
       "<IPython.core.display.HTML object>"
      ]
     },
     "metadata": {},
     "output_type": "display_data"
    },
    {
     "data": {
      "text/plain": [
       "19"
      ]
     },
     "metadata": {},
     "output_type": "display_data"
    },
    {
     "data": {
      "text/plain": [
       "Index(['100001_raw-Food_weight', '100002_raw-Energy', '100003_raw-Protein',\n",
       "       '100004_raw-Fat', '100005_raw-Carbohydrate', '100006_raw-Saturated_fat',\n",
       "       '100007_raw-Polyunsaturated_fat', '100008_raw-Total_sugars',\n",
       "       '100009_raw-Englyst_dietary_fibre', '100011_raw-Iron',\n",
       "       '100012_raw-Vitamin_B6', '100014_raw-Folate', '100015_raw-Vitamin_C',\n",
       "       '100016_raw-Potassium', '100017_raw-Magnesium', '100019_raw-Carotene',\n",
       "       '100023_raw-Starch', '100024_raw-Calcium', '100025_raw-Vitamin_E'],\n",
       "      dtype='object')"
      ]
     },
     "metadata": {},
     "output_type": "display_data"
    },
    {
     "data": {
      "text/html": [
       "<h3>Cluster 31.30</h3>"
      ],
      "text/plain": [
       "<IPython.core.display.HTML object>"
      ]
     },
     "metadata": {},
     "output_type": "display_data"
    },
    {
     "data": {
      "text/plain": [
       "36"
      ]
     },
     "metadata": {},
     "output_type": "display_data"
    },
    {
     "data": {
      "text/plain": [
       "Index(['20421-Ever_felt_worried_tense_or_anxious_for_most_of_a_month_or_longer',\n",
       "       '20425-Ever_worried_more_than_most_people_would_in_similar_situation',\n",
       "       '20441-Ever_had_prolonged_loss_of_interest_in_normal_activities',\n",
       "       '20446-Ever_had_prolonged_feelings_of_sadness_or_depression',\n",
       "       '20458-General_happiness', '20459-General_happiness_with_own_health',\n",
       "       '20460-Belief_that_own_life_is_meaningful',\n",
       "       '20479-Ever_thought_that_life_not_worth_living',\n",
       "       '20485-Ever_contemplated_selfharm',\n",
       "       '20494-Felt_irritable_or_had_angry_outbursts_in_past_month',\n",
       "       '20495-Avoided_activities_or_situations_because_of_previous_stressful_experience_in_past_month',\n",
       "       '20496-Felt_distant_from_other_people_in_past_month',\n",
       "       '20497-Repeated_disturbing_thoughts_of_stressful_experience_in_past_month',\n",
       "       '20498-Felt_very_upset_when_reminded_of_stressful_experience_in_past_month',\n",
       "       '20499-Ever_sought_or_received_professional_help_for_mental_distress',\n",
       "       '20500-Ever_suffered_mental_distress_preventing_usual_activities',\n",
       "       '20505-Recent_easy_annoyance_or_irritability',\n",
       "       '20506-Recent_feelings_or_nervousness_or_anxiety',\n",
       "       '20507-Recent_feelings_of_inadequacy',\n",
       "       '20508-Recent_trouble_concentrating_on_things',\n",
       "       '20509-Recent_inability_to_stop_or_control_worrying',\n",
       "       '20510-Recent_feelings_of_depression',\n",
       "       '20511-Recent_poor_appetite_or_overeating',\n",
       "       '20512-Recent_feelings_of_foreboding',\n",
       "       '20513-Recent_thoughts_of_suicide_or_selfharm',\n",
       "       '20514-Recent_lack_of_interest_or_pleasure_in_doing_things',\n",
       "       '20515-Recent_trouble_relaxing', '20516-Recent_restlessness',\n",
       "       '20517-Trouble_falling_or_staying_asleep_or_sleeping_too_much',\n",
       "       '20519-Recent_feelings_of_tiredness_or_low_energy',\n",
       "       '20520-Recent_worrying_too_much_about_different_things',\n",
       "       '20544_11-Mental_health_problems_ever_diagnosed_by_a_professional_Depression',\n",
       "       '20546_3-Substances_taken_for_depression_Medication_prescribed_to_you_for_at_least_two_weeks',\n",
       "       '20547_1-Activities_undertaken_to_treat_depression_Talking_therapies_such_as_psychotherapy_counselling_group_therapy_or_CBT',\n",
       "       '20549_3-Substances_taken_for_anxiety_Medication_prescribed_to_you_for_at_least_two_weeks',\n",
       "       'seeing a psychiatrist for nerves, anxiety, tension or depression, self-reported'],\n",
       "      dtype='object')"
      ]
     },
     "metadata": {},
     "output_type": "display_data"
    },
    {
     "data": {
      "text/html": [
       "<h2>Partition with k=36</h2>"
      ],
      "text/plain": [
       "<IPython.core.display.HTML object>"
      ]
     },
     "metadata": {},
     "output_type": "display_data"
    },
    {
     "data": {
      "text/plain": [
       "method                                                 scc_020\n",
       "partition    [29, 29, 29, 29, 29, 29, 29, 29, 29, 23, 29, 2...\n",
       "ami_mean                                              0.290657\n",
       "selected                                                  True\n",
       "Name: 36, dtype: object"
      ]
     },
     "metadata": {},
     "output_type": "display_data"
    },
    {
     "data": {
      "text/plain": [
       "(3749,)"
      ]
     },
     "metadata": {},
     "output_type": "display_data"
    },
    {
     "data": {
      "text/plain": [
       "23    3142\n",
       "0      172\n",
       "35     138\n",
       "34      34\n",
       "30      33\n",
       "20      25\n",
       "29      19\n",
       "21      18\n",
       "24      18\n",
       "26      15\n",
       "28      15\n",
       "18      13\n",
       "7        8\n",
       "10       8\n",
       "31       8\n",
       "19       8\n",
       "15       8\n",
       "22       7\n",
       "13       6\n",
       "11       6\n",
       "9        5\n",
       "12       5\n",
       "8        4\n",
       "14       4\n",
       "16       4\n",
       "17       4\n",
       "3        4\n",
       "6        3\n",
       "4        3\n",
       "2        3\n",
       "33       2\n",
       "1        2\n",
       "5        2\n",
       "25       1\n",
       "27       1\n",
       "32       1\n",
       "dtype: int64"
      ]
     },
     "metadata": {},
     "output_type": "display_data"
    },
    {
     "data": {
      "text/html": [
       "<h3>Cluster 36.0</h3>"
      ],
      "text/plain": [
       "<IPython.core.display.HTML object>"
      ]
     },
     "metadata": {},
     "output_type": "display_data"
    },
    {
     "data": {
      "text/plain": [
       "172"
      ]
     },
     "metadata": {},
     "output_type": "display_data"
    },
    {
     "data": {
      "text/plain": [
       "Index(['1031-Frequency_of_friendfamily_visits',\n",
       "       '1060-Time_spent_outdoors_in_winter', '1090-Time_spent_driving',\n",
       "       '1100-Drive_faster_than_motorway_speed_limit',\n",
       "       '110001-Invitation_to_complete_online_24hour_recall_dietary_questionnaire_acceptance',\n",
       "       '1110-Length_of_mobile_phone_use',\n",
       "       '1120-Weekly_usage_of_mobile_phone_in_last_3_months',\n",
       "       '1289-Cooked_vegetable_intake', '1299-Salad_raw_vegetable_intake',\n",
       "       '1309-Fresh_fruit_intake',\n",
       "       ...\n",
       "       'osteoarthritis', 'osteoarthritis, hip', 'osteoarthritis, knee',\n",
       "       'osteoporosis', 'parkinson's disease', 'psoriatic arthritis',\n",
       "       'seeing a psychiatrist for nerves, anxiety, tension or depression, self-reported',\n",
       "       'smoking behavior', 'type i diabetes mellitus', 'varicose veins'],\n",
       "      dtype='object', length=172)"
      ]
     },
     "metadata": {},
     "output_type": "display_data"
    },
    {
     "data": {
      "text/html": [
       "<h3>Cluster 36.1</h3>"
      ],
      "text/plain": [
       "<IPython.core.display.HTML object>"
      ]
     },
     "metadata": {},
     "output_type": "display_data"
    },
    {
     "data": {
      "text/plain": [
       "2"
      ]
     },
     "metadata": {},
     "output_type": "display_data"
    },
    {
     "data": {
      "text/plain": [
       "Index(['30150-Eosinophill_count', '30210_raw-Eosinophill_percentage'], dtype='object')"
      ]
     },
     "metadata": {},
     "output_type": "display_data"
    },
    {
     "data": {
      "text/html": [
       "<h3>Cluster 36.2</h3>"
      ],
      "text/plain": [
       "<IPython.core.display.HTML object>"
      ]
     },
     "metadata": {},
     "output_type": "display_data"
    },
    {
     "data": {
      "text/plain": [
       "3"
      ]
     },
     "metadata": {},
     "output_type": "display_data"
    },
    {
     "data": {
      "text/plain": [
       "Index(['30080_raw-Platelet_count', '30090_raw-Platelet_crit',\n",
       "       'platelet count'],\n",
       "      dtype='object')"
      ]
     },
     "metadata": {},
     "output_type": "display_data"
    },
    {
     "data": {
      "text/html": [
       "<h3>Cluster 36.3</h3>"
      ],
      "text/plain": [
       "<IPython.core.display.HTML object>"
      ]
     },
     "metadata": {},
     "output_type": "display_data"
    },
    {
     "data": {
      "text/plain": [
       "4"
      ]
     },
     "metadata": {},
     "output_type": "display_data"
    },
    {
     "data": {
      "text/plain": [
       "Index(['30040_raw-Mean_corpuscular_volume',\n",
       "       '30050_raw-Mean_corpuscular_haemoglobin',\n",
       "       '30260_raw-Mean_reticulocyte_volume',\n",
       "       '30270_raw-Mean_sphered_cell_volume'],\n",
       "      dtype='object')"
      ]
     },
     "metadata": {},
     "output_type": "display_data"
    },
    {
     "data": {
      "text/html": [
       "<h3>Cluster 36.4</h3>"
      ],
      "text/plain": [
       "<IPython.core.display.HTML object>"
      ]
     },
     "metadata": {},
     "output_type": "display_data"
    },
    {
     "data": {
      "text/plain": [
       "3"
      ]
     },
     "metadata": {},
     "output_type": "display_data"
    },
    {
     "data": {
      "text/plain": [
       "Index(['20015_raw-Sitting_height', '50_raw-Standing_height', 'body height'], dtype='object')"
      ]
     },
     "metadata": {},
     "output_type": "display_data"
    },
    {
     "data": {
      "text/html": [
       "<h3>Cluster 36.5</h3>"
      ],
      "text/plain": [
       "<IPython.core.display.HTML object>"
      ]
     },
     "metadata": {},
     "output_type": "display_data"
    },
    {
     "data": {
      "text/plain": [
       "2"
      ]
     },
     "metadata": {},
     "output_type": "display_data"
    },
    {
     "data": {
      "text/plain": [
       "Index(['30180_raw-Lymphocyte_percentage', '30200_raw-Neutrophill_percentage'], dtype='object')"
      ]
     },
     "metadata": {},
     "output_type": "display_data"
    },
    {
     "data": {
      "text/html": [
       "<h3>Cluster 36.6</h3>"
      ],
      "text/plain": [
       "<IPython.core.display.HTML object>"
      ]
     },
     "metadata": {},
     "output_type": "display_data"
    },
    {
     "data": {
      "text/plain": [
       "3"
      ]
     },
     "metadata": {},
     "output_type": "display_data"
    },
    {
     "data": {
      "text/plain": [
       "Index(['30130_raw-Monocyte_count', '30190_raw-Monocyte_percentage',\n",
       "       'monocyte count'],\n",
       "      dtype='object')"
      ]
     },
     "metadata": {},
     "output_type": "display_data"
    },
    {
     "data": {
      "text/html": [
       "<h3>Cluster 36.7</h3>"
      ],
      "text/plain": [
       "<IPython.core.display.HTML object>"
      ]
     },
     "metadata": {},
     "output_type": "display_data"
    },
    {
     "data": {
      "text/plain": [
       "8"
      ]
     },
     "metadata": {},
     "output_type": "display_data"
    },
    {
     "data": {
      "text/plain": [
       "Index(['5096_raw-3mm_weak_meridian_left', '5097_raw-6mm_weak_meridian_left',\n",
       "       '5098_raw-6mm_weak_meridian_right', '5099_raw-3mm_weak_meridian_right',\n",
       "       '5132_raw-3mm_strong_meridian_right',\n",
       "       '5133_raw-6mm_strong_meridian_right',\n",
       "       '5134_raw-6mm_strong_meridian_left',\n",
       "       '5135_raw-3mm_strong_meridian_left'],\n",
       "      dtype='object')"
      ]
     },
     "metadata": {},
     "output_type": "display_data"
    },
    {
     "data": {
      "text/html": [
       "<h3>Cluster 36.8</h3>"
      ],
      "text/plain": [
       "<IPython.core.display.HTML object>"
      ]
     },
     "metadata": {},
     "output_type": "display_data"
    },
    {
     "data": {
      "text/plain": [
       "4"
      ]
     },
     "metadata": {},
     "output_type": "display_data"
    },
    {
     "data": {
      "text/plain": [
       "Index(['30010_raw-Red_blood_cell_erythrocyte_count',\n",
       "       '30020_raw-Haemoglobin_concentration',\n",
       "       '30030_raw-Haematocrit_percentage', 'erythrocyte count'],\n",
       "      dtype='object')"
      ]
     },
     "metadata": {},
     "output_type": "display_data"
    },
    {
     "data": {
      "text/html": [
       "<h3>Cluster 36.9</h3>"
      ],
      "text/plain": [
       "<IPython.core.display.HTML object>"
      ]
     },
     "metadata": {},
     "output_type": "display_data"
    },
    {
     "data": {
      "text/plain": [
       "5"
      ]
     },
     "metadata": {},
     "output_type": "display_data"
    },
    {
     "data": {
      "text/plain": [
       "Index(['23106_raw-Impedance_of_whole_body', '23107_raw-Impedance_of_leg_right',\n",
       "       '23108_raw-Impedance_of_leg_left', '23109_raw-Impedance_of_arm_right',\n",
       "       '23110_raw-Impedance_of_arm_left'],\n",
       "      dtype='object')"
      ]
     },
     "metadata": {},
     "output_type": "display_data"
    },
    {
     "data": {
      "text/html": [
       "<h3>Cluster 36.10</h3>"
      ],
      "text/plain": [
       "<IPython.core.display.HTML object>"
      ]
     },
     "metadata": {},
     "output_type": "display_data"
    },
    {
     "data": {
      "text/plain": [
       "8"
      ]
     },
     "metadata": {},
     "output_type": "display_data"
    },
    {
     "data": {
      "text/plain": [
       "Index(['4101_raw-Heel_broadband_ultrasound_attenuation_left',\n",
       "       '4104_raw-Heel_quantitative_ultrasound_index_QUI_direct_entry_left',\n",
       "       '4105_raw-Heel_bone_mineral_density_BMD_left',\n",
       "       '4106_raw-Heel_bone_mineral_density_BMD_Tscore_automated_left',\n",
       "       '4120_raw-Heel_broadband_ultrasound_attenuation_right',\n",
       "       '4123_raw-Heel_quantitative_ultrasound_index_QUI_direct_entry_right',\n",
       "       '4124_raw-Heel_bone_mineral_density_BMD_right',\n",
       "       '4125_raw-Heel_bone_mineral_density_BMD_Tscore_automated_right'],\n",
       "      dtype='object')"
      ]
     },
     "metadata": {},
     "output_type": "display_data"
    },
    {
     "data": {
      "text/html": [
       "<h3>Cluster 36.11</h3>"
      ],
      "text/plain": [
       "<IPython.core.display.HTML object>"
      ]
     },
     "metadata": {},
     "output_type": "display_data"
    },
    {
     "data": {
      "text/plain": [
       "6"
      ]
     },
     "metadata": {},
     "output_type": "display_data"
    },
    {
     "data": {
      "text/plain": [
       "Index(['30240_raw-Reticulocyte_percentage', '30250_raw-Reticulocyte_count',\n",
       "       '30280_raw-Immature_reticulocyte_fraction',\n",
       "       '30290_raw-High_light_scatter_reticulocyte_percentage',\n",
       "       '30300_raw-High_light_scatter_reticulocyte_count',\n",
       "       'reticulocyte count'],\n",
       "      dtype='object')"
      ]
     },
     "metadata": {},
     "output_type": "display_data"
    },
    {
     "data": {
      "text/html": [
       "<h3>Cluster 36.12</h3>"
      ],
      "text/plain": [
       "<IPython.core.display.HTML object>"
      ]
     },
     "metadata": {},
     "output_type": "display_data"
    },
    {
     "data": {
      "text/plain": [
       "5"
      ]
     },
     "metadata": {},
     "output_type": "display_data"
    },
    {
     "data": {
      "text/plain": [
       "Index(['4079_raw-Diastolic_blood_pressure_automated_reading',\n",
       "       '4080_raw-Systolic_blood_pressure_automated_reading',\n",
       "       '6150_100-Vascularheart_problems_diagnosed_by_doctor_None_of_the_above',\n",
       "       '6150_4-Vascularheart_problems_diagnosed_by_doctor_High_blood_pressure',\n",
       "       'hypertension'],\n",
       "      dtype='object')"
      ]
     },
     "metadata": {},
     "output_type": "display_data"
    },
    {
     "data": {
      "text/html": [
       "<h3>Cluster 36.13</h3>"
      ],
      "text/plain": [
       "<IPython.core.display.HTML object>"
      ]
     },
     "metadata": {},
     "output_type": "display_data"
    },
    {
     "data": {
      "text/plain": [
       "6"
      ]
     },
     "metadata": {},
     "output_type": "display_data"
    },
    {
     "data": {
      "text/plain": [
       "Index(['30000_raw-White_blood_cell_leukocyte_count',\n",
       "       '30140_raw-Neutrophill_count', 'granulocyte count', 'leukocyte count',\n",
       "       'myeloid white cell count', 'neutrophil count'],\n",
       "      dtype='object')"
      ]
     },
     "metadata": {},
     "output_type": "display_data"
    },
    {
     "data": {
      "text/html": [
       "<h3>Cluster 36.14</h3>"
      ],
      "text/plain": [
       "<IPython.core.display.HTML object>"
      ]
     },
     "metadata": {},
     "output_type": "display_data"
    },
    {
     "data": {
      "text/plain": [
       "4"
      ]
     },
     "metadata": {},
     "output_type": "display_data"
    },
    {
     "data": {
      "text/plain": [
       "Index(['6152_100-Blood_clot_DVT_bronchitis_emphysema_asthma_rhinitis_eczema_allergy_diagnosed_by_doctor_None_of_the_above',\n",
       "       '6152_8-Blood_clot_DVT_bronchitis_emphysema_asthma_rhinitis_eczema_allergy_diagnosed_by_doctor_Asthma',\n",
       "       '6152_9-Blood_clot_DVT_bronchitis_emphysema_asthma_rhinitis_eczema_allergy_diagnosed_by_doctor_Hayfever_allergic_rhinitis_or_eczema',\n",
       "       'asthma'],\n",
       "      dtype='object')"
      ]
     },
     "metadata": {},
     "output_type": "display_data"
    },
    {
     "data": {
      "text/html": [
       "<h3>Cluster 36.15</h3>"
      ],
      "text/plain": [
       "<IPython.core.display.HTML object>"
      ]
     },
     "metadata": {},
     "output_type": "display_data"
    },
    {
     "data": {
      "text/plain": [
       "8"
      ]
     },
     "metadata": {},
     "output_type": "display_data"
    },
    {
     "data": {
      "text/plain": [
       "Index(['1717-Skin_colour', '1727-Ease_of_skin_tanning',\n",
       "       '1737-Childhood_sunburn_occasions',\n",
       "       '1747_1-Hair_colour_natural_before_greying_Blonde',\n",
       "       '1747_2-Hair_colour_natural_before_greying_Red',\n",
       "       '1747_3-Hair_colour_natural_before_greying_Light_brown',\n",
       "       '1747_4-Hair_colour_natural_before_greying_Dark_brown',\n",
       "       '1747_5-Hair_colour_natural_before_greying_Black'],\n",
       "      dtype='object')"
      ]
     },
     "metadata": {},
     "output_type": "display_data"
    },
    {
     "data": {
      "text/html": [
       "<h3>Cluster 36.16</h3>"
      ],
      "text/plain": [
       "<IPython.core.display.HTML object>"
      ]
     },
     "metadata": {},
     "output_type": "display_data"
    },
    {
     "data": {
      "text/plain": [
       "4"
      ]
     },
     "metadata": {},
     "output_type": "display_data"
    },
    {
     "data": {
      "text/plain": [
       "Index(['3144_raw-Heel_Broadband_ultrasound_attenuation_direct_entry',\n",
       "       '3147_raw-Heel_quantitative_ultrasound_index_QUI_direct_entry',\n",
       "       '3148_raw-Heel_bone_mineral_density_BMD',\n",
       "       '78_raw-Heel_bone_mineral_density_BMD_Tscore_automated'],\n",
       "      dtype='object')"
      ]
     },
     "metadata": {},
     "output_type": "display_data"
    },
    {
     "data": {
      "text/html": [
       "<h3>Cluster 36.17</h3>"
      ],
      "text/plain": [
       "<IPython.core.display.HTML object>"
      ]
     },
     "metadata": {},
     "output_type": "display_data"
    },
    {
     "data": {
      "text/plain": [
       "4"
      ]
     },
     "metadata": {},
     "output_type": "display_data"
    },
    {
     "data": {
      "text/plain": [
       "Index(['20150_raw-Forced_expiratory_volume_in_1second_FEV1_Best_measure',\n",
       "       '20151_raw-Forced_vital_capacity_FVC_Best_measure',\n",
       "       '3062_raw-Forced_vital_capacity_FVC',\n",
       "       '3063_raw-Forced_expiratory_volume_in_1second_FEV1'],\n",
       "      dtype='object')"
      ]
     },
     "metadata": {},
     "output_type": "display_data"
    },
    {
     "data": {
      "text/html": [
       "<h3>Cluster 36.18</h3>"
      ],
      "text/plain": [
       "<IPython.core.display.HTML object>"
      ]
     },
     "metadata": {},
     "output_type": "display_data"
    },
    {
     "data": {
      "text/plain": [
       "13"
      ]
     },
     "metadata": {},
     "output_type": "display_data"
    },
    {
     "data": {
      "text/plain": [
       "Index(['23101_raw-Whole_body_fatfree_mass', '23102_raw-Whole_body_water_mass',\n",
       "       '23105_raw-Basal_metabolic_rate', '23113_raw-Leg_fatfree_mass_right',\n",
       "       '23114_raw-Leg_predicted_mass_right', '23117_raw-Leg_fatfree_mass_left',\n",
       "       '23118_raw-Leg_predicted_mass_left', '23121_raw-Arm_fatfree_mass_right',\n",
       "       '23122_raw-Arm_predicted_mass_right', '23125_raw-Arm_fatfree_mass_left',\n",
       "       '23126_raw-Arm_predicted_mass_left', '23129_raw-Trunk_fatfree_mass',\n",
       "       '23130_raw-Trunk_predicted_mass'],\n",
       "      dtype='object')"
      ]
     },
     "metadata": {},
     "output_type": "display_data"
    },
    {
     "data": {
      "text/html": [
       "<h3>Cluster 36.19</h3>"
      ],
      "text/plain": [
       "<IPython.core.display.HTML object>"
      ]
     },
     "metadata": {},
     "output_type": "display_data"
    },
    {
     "data": {
      "text/plain": [
       "8"
      ]
     },
     "metadata": {},
     "output_type": "display_data"
    },
    {
     "data": {
      "text/plain": [
       "Index(['20003_1141191044-Treatmentmedication_code_levothyroxine_sodium',\n",
       "       'K11_COELIAC-Coeliac_disease', 'celiac disease',\n",
       "       'hypothyroidism AND myxedema', 'malabsorption syndrome', 'psoriasis',\n",
       "       'rheumatoid arthritis', 'systemic lupus erythematosus'],\n",
       "      dtype='object')"
      ]
     },
     "metadata": {},
     "output_type": "display_data"
    },
    {
     "data": {
      "text/html": [
       "<h3>Cluster 36.20</h3>"
      ],
      "text/plain": [
       "<IPython.core.display.HTML object>"
      ]
     },
     "metadata": {},
     "output_type": "display_data"
    },
    {
     "data": {
      "text/plain": [
       "25"
      ]
     },
     "metadata": {},
     "output_type": "display_data"
    },
    {
     "data": {
      "text/plain": [
       "Index(['20003_1140861958-Treatmentmedication_code_simvastatin',\n",
       "       '20003_1140868226-Treatmentmedication_code_aspirin',\n",
       "       '20003_1141194794-Treatmentmedication_code_bendroflumethiazide',\n",
       "       '6150_1-Vascularheart_problems_diagnosed_by_doctor_Heart_attack',\n",
       "       '6150_2-Vascularheart_problems_diagnosed_by_doctor_Angina',\n",
       "       '6153_1-Medication_for_cholesterol_blood_pressure_diabetes_or_take_exogenous_hormones_Cholesterol_lowering_medication',\n",
       "       '6153_100-Medication_for_cholesterol_blood_pressure_diabetes_or_take_exogenous_hormones_None_of_the_above',\n",
       "       '6154_1-Medication_for_pain_relief_constipation_heartburn_Aspirin',\n",
       "       '6177_1-Medication_for_cholesterol_blood_pressure_or_diabetes_Cholesterol_lowering_medication',\n",
       "       '6177_100-Medication_for_cholesterol_blood_pressure_or_diabetes_None_of_the_above',\n",
       "       '6177_2-Medication_for_cholesterol_blood_pressure_or_diabetes_Blood_pressure_medication',\n",
       "       'I9_CHD-Major_coronary_heart_disease_event',\n",
       "       'I9_CHD_NOREV-Major_coronary_heart_disease_event_excluding_revascularizations',\n",
       "       'I9_CORATHER-Coronary_atherosclerosis',\n",
       "       'I9_IHD-Ischaemic_heart_disease_wide_definition',\n",
       "       'I9_MI-Myocardial_infarction',\n",
       "       'I9_MI_STRICT-Myocardial_infarction_strict',\n",
       "       'IX_CIRCULATORY-Diseases_of_the_circulatory_system',\n",
       "       'acute myocardial infarction', 'angina pectoris',\n",
       "       'coronary artery disease', 'hypercholesterolemia',\n",
       "       'myocardial infarction',\n",
       "       'number of non-cancer illnesses, self-reported',\n",
       "       'number of treatments or medications taken, self-reported'],\n",
       "      dtype='object')"
      ]
     },
     "metadata": {},
     "output_type": "display_data"
    },
    {
     "data": {
      "text/html": [
       "<h3>Cluster 36.21</h3>"
      ],
      "text/plain": [
       "<IPython.core.display.HTML object>"
      ]
     },
     "metadata": {},
     "output_type": "display_data"
    },
    {
     "data": {
      "text/plain": [
       "18"
      ]
     },
     "metadata": {},
     "output_type": "display_data"
    },
    {
     "data": {
      "text/plain": [
       "Index(['21001_raw-Body_mass_index_BMI', '21002_raw-Weight', '23098_raw-Weight',\n",
       "       '23099_raw-Body_fat_percentage', '23100_raw-Whole_body_fat_mass',\n",
       "       '23104_raw-Body_mass_index_BMI', '23111_raw-Leg_fat_percentage_right',\n",
       "       '23112_raw-Leg_fat_mass_right', '23115_raw-Leg_fat_percentage_left',\n",
       "       '23116_raw-Leg_fat_mass_left', '23119_raw-Arm_fat_percentage_right',\n",
       "       '23120_raw-Arm_fat_mass_right', '23123_raw-Arm_fat_percentage_left',\n",
       "       '23124_raw-Arm_fat_mass_left', '23127_raw-Trunk_fat_percentage',\n",
       "       '23128_raw-Trunk_fat_mass', '48_raw-Waist_circumference',\n",
       "       '49_raw-Hip_circumference'],\n",
       "      dtype='object')"
      ]
     },
     "metadata": {},
     "output_type": "display_data"
    },
    {
     "data": {
      "text/html": [
       "<h3>Cluster 36.22</h3>"
      ],
      "text/plain": [
       "<IPython.core.display.HTML object>"
      ]
     },
     "metadata": {},
     "output_type": "display_data"
    },
    {
     "data": {
      "text/plain": [
       "7"
      ]
     },
     "metadata": {},
     "output_type": "display_data"
    },
    {
     "data": {
      "text/plain": [
       "Index(['102_raw-Pulse_rate_automated_reading',\n",
       "       '3064_raw-Peak_expiratory_flow_PEF',\n",
       "       '4100_raw-Ankle_spacing_width_left',\n",
       "       '4119_raw-Ankle_spacing_width_right', '46_raw-Hand_grip_strength_left',\n",
       "       '47_raw-Hand_grip_strength_right', 'inflammatory bowel disease'],\n",
       "      dtype='object')"
      ]
     },
     "metadata": {},
     "output_type": "display_data"
    },
    {
     "data": {
      "text/html": [
       "<h3>Cluster 36.23</h3>"
      ],
      "text/plain": [
       "<IPython.core.display.HTML object>"
      ]
     },
     "metadata": {},
     "output_type": "display_data"
    },
    {
     "data": {
      "text/plain": [
       "3142"
      ]
     },
     "metadata": {},
     "output_type": "display_data"
    },
    {
     "data": {
      "text/plain": [
       "Index(['100010-Portion_size', '100013_raw-Vitamin_B12', '100018_raw-Retinol',\n",
       "       '100021_raw-Vitamin_D', '100022-Alcohol',\n",
       "       '1001-Duration_of_strenuous_sports', '100150-Drinking_water_intake',\n",
       "       '100160-Low_calorie_drink_intake', '100170-Fizzy_drink_intake',\n",
       "       '100190-Orange_juice_intake',\n",
       "       ...\n",
       "       'viral disease', 'viral human hepatitis infection', 'viral meningitis',\n",
       "       'visual impairment', 'vitiligo', 'vitreous body disease',\n",
       "       'vocal cord polyp', 'voice disorders',\n",
       "       'wellbeing measurement AND family relationship', 'whooping cough'],\n",
       "      dtype='object', length=3142)"
      ]
     },
     "metadata": {},
     "output_type": "display_data"
    },
    {
     "data": {
      "text/html": [
       "<h3>Cluster 36.24</h3>"
      ],
      "text/plain": [
       "<IPython.core.display.HTML object>"
      ]
     },
     "metadata": {},
     "output_type": "display_data"
    },
    {
     "data": {
      "text/plain": [
       "18"
      ]
     },
     "metadata": {},
     "output_type": "display_data"
    },
    {
     "data": {
      "text/plain": [
       "Index(['1050-Time_spend_outdoors_in_summer',\n",
       "       '1070-Time_spent_watching_television_TV', '1448_1-Bread_type_White',\n",
       "       '1448_3-Bread_type_Wholemeal_or_wholegrain',\n",
       "       '20016_raw-Fluid_intelligence_score',\n",
       "       '2139_raw-Age_first_had_sexual_intercourse',\n",
       "       '22501_raw-Year_ended_full_time_education',\n",
       "       '2754_raw-Age_at_first_live_birth',\n",
       "       '6138_1-Qualifications_College_or_University_degree',\n",
       "       '6138_100-Qualifications_None_of_the_above',\n",
       "       '6138_2-Qualifications_A_levelsAS_levels_or_equivalent',\n",
       "       '6138_3-Qualifications_O_levelsGCSEs_or_equivalent',\n",
       "       '738-Average_total_household_income_before_tax',\n",
       "       '806-Job_involves_mainly_walking_or_standing',\n",
       "       '816-Job_involves_heavy_manual_or_physical_work',\n",
       "       'SSGAC_Education_Years_Pooled', 'schizophrenia',\n",
       "       'self reported educational attainment'],\n",
       "      dtype='object')"
      ]
     },
     "metadata": {},
     "output_type": "display_data"
    },
    {
     "data": {
      "text/html": [
       "<h3>Cluster 36.25</h3>"
      ],
      "text/plain": [
       "<IPython.core.display.HTML object>"
      ]
     },
     "metadata": {},
     "output_type": "display_data"
    },
    {
     "data": {
      "text/plain": [
       "1"
      ]
     },
     "metadata": {},
     "output_type": "display_data"
    },
    {
     "data": {
      "text/plain": [
       "Index(['eosinophil count'], dtype='object')"
      ]
     },
     "metadata": {},
     "output_type": "display_data"
    },
    {
     "data": {
      "text/html": [
       "<h3>Cluster 36.26</h3>"
      ],
      "text/plain": [
       "<IPython.core.display.HTML object>"
      ]
     },
     "metadata": {},
     "output_type": "display_data"
    },
    {
     "data": {
      "text/plain": [
       "15"
      ]
     },
     "metadata": {},
     "output_type": "display_data"
    },
    {
     "data": {
      "text/plain": [
       "Index(['EAGLE_Eczema', 'Jones_et_al_2016_Chronotype', 'MAGNETIC_CH2.DB.ratio',\n",
       "       'MAGNETIC_HDL.C', 'MAGNETIC_IDL.TG', 'MAGNETIC_LDL.C',\n",
       "       'alzheimer's disease', 'attention deficit hyperactivity disorder',\n",
       "       'depressive symptom measurement',\n",
       "       'estrogen-receptor negative breast cancer',\n",
       "       'estrogen-receptor positive breast cancer',\n",
       "       'family history of breast cancer', 'fasting blood glucose measurement',\n",
       "       'fasting blood insulin measurement', 'intracranial volume measurement'],\n",
       "      dtype='object')"
      ]
     },
     "metadata": {},
     "output_type": "display_data"
    },
    {
     "data": {
      "text/html": [
       "<h3>Cluster 36.27</h3>"
      ],
      "text/plain": [
       "<IPython.core.display.HTML object>"
      ]
     },
     "metadata": {},
     "output_type": "display_data"
    },
    {
     "data": {
      "text/plain": [
       "1"
      ]
     },
     "metadata": {},
     "output_type": "display_data"
    },
    {
     "data": {
      "text/plain": [
       "Index(['20153_raw-Forced_expiratory_volume_in_1second_FEV1_predicted'], dtype='object')"
      ]
     },
     "metadata": {},
     "output_type": "display_data"
    },
    {
     "data": {
      "text/html": [
       "<h3>Cluster 36.28</h3>"
      ],
      "text/plain": [
       "<IPython.core.display.HTML object>"
      ]
     },
     "metadata": {},
     "output_type": "display_data"
    },
    {
     "data": {
      "text/plain": [
       "15"
      ]
     },
     "metadata": {},
     "output_type": "display_data"
    },
    {
     "data": {
      "text/plain": [
       "Index(['20116_0-Smoking_status_Never', '20116_1-Smoking_status_Previous',\n",
       "       '20127_raw-Neuroticism_score', '20160-Ever_smoked',\n",
       "       '2070-Frequency_of_tenseness_restlessness_in_last_2_weeks',\n",
       "       '6154_100-Medication_for_pain_relief_constipation_heartburn_None_of_the_above',\n",
       "       'anxiety', 'feeling tense measurement', 'irritability', 'mood swings',\n",
       "       'nervousness',\n",
       "       'seeing a general practitioner for nerves, anxiety, tension or depression, self-reported',\n",
       "       'smoking cessation', 'tiredness measurement', 'worry measurement'],\n",
       "      dtype='object')"
      ]
     },
     "metadata": {},
     "output_type": "display_data"
    },
    {
     "data": {
      "text/html": [
       "<h3>Cluster 36.29</h3>"
      ],
      "text/plain": [
       "<IPython.core.display.HTML object>"
      ]
     },
     "metadata": {},
     "output_type": "display_data"
    },
    {
     "data": {
      "text/plain": [
       "19"
      ]
     },
     "metadata": {},
     "output_type": "display_data"
    },
    {
     "data": {
      "text/plain": [
       "Index(['100001_raw-Food_weight', '100002_raw-Energy', '100003_raw-Protein',\n",
       "       '100004_raw-Fat', '100005_raw-Carbohydrate', '100006_raw-Saturated_fat',\n",
       "       '100007_raw-Polyunsaturated_fat', '100008_raw-Total_sugars',\n",
       "       '100009_raw-Englyst_dietary_fibre', '100011_raw-Iron',\n",
       "       '100012_raw-Vitamin_B6', '100014_raw-Folate', '100015_raw-Vitamin_C',\n",
       "       '100016_raw-Potassium', '100017_raw-Magnesium', '100019_raw-Carotene',\n",
       "       '100023_raw-Starch', '100024_raw-Calcium', '100025_raw-Vitamin_E'],\n",
       "      dtype='object')"
      ]
     },
     "metadata": {},
     "output_type": "display_data"
    },
    {
     "data": {
      "text/html": [
       "<h3>Cluster 36.30</h3>"
      ],
      "text/plain": [
       "<IPython.core.display.HTML object>"
      ]
     },
     "metadata": {},
     "output_type": "display_data"
    },
    {
     "data": {
      "text/plain": [
       "33"
      ]
     },
     "metadata": {},
     "output_type": "display_data"
    },
    {
     "data": {
      "text/plain": [
       "Index(['1080-Time_spent_using_computer', '1319-Dried_fruit_intake',\n",
       "       '1478-Salt_added_to_food', '1488_raw-Tea_intake',\n",
       "       '1518-Hot_drink_temperature', '1528-Water_intake', '1757-Facial_ageing',\n",
       "       '20022_raw-Birth_weight',\n",
       "       '20023_raw-Mean_time_to_correctly_identify_matches',\n",
       "       '20154_raw-Forced_expiratory_volume_in_1second_FEV1_predicted_percentage',\n",
       "       '2217_raw-Age_started_wearing_glasses_or_contact_lenses',\n",
       "       '2237-Plays_computer_games',\n",
       "       '30060_raw-Mean_corpuscular_haemoglobin_concentration',\n",
       "       '30530_raw-Sodium_in_urine',\n",
       "       '399_raw-Number_of_incorrect_matches_in_round',\n",
       "       '400_raw-Time_to_complete_round',\n",
       "       '404_raw-Duration_to_first_press_of_snapbutton_in_each_round',\n",
       "       '4194_raw-Pulse_rate', '5084_raw-Spherical_power_right',\n",
       "       '5085_raw-Spherical_power_left', '924-Usual_walking_pace',\n",
       "       'age at first facial hair', 'age at menarche', 'chronotype measurement',\n",
       "       'comparative body size at age 10, self-reported',\n",
       "       'ease of getting up in the morning, self-reported',\n",
       "       'excessive daytime sleepiness measurement AND narcolepsy without cataplexy',\n",
       "       'hearing loss', 'insomnia', 'nap during day, self-reported',\n",
       "       'sleep duration', 'snoring measurement', 'wheezing'],\n",
       "      dtype='object')"
      ]
     },
     "metadata": {},
     "output_type": "display_data"
    },
    {
     "data": {
      "text/html": [
       "<h3>Cluster 36.31</h3>"
      ],
      "text/plain": [
       "<IPython.core.display.HTML object>"
      ]
     },
     "metadata": {},
     "output_type": "display_data"
    },
    {
     "data": {
      "text/plain": [
       "8"
      ]
     },
     "metadata": {},
     "output_type": "display_data"
    },
    {
     "data": {
      "text/plain": [
       "Index(['5254_raw-Intraocular_pressure_cornealcompensated_right',\n",
       "       '5255_raw-Intraocular_pressure_Goldmanncorrelated_right',\n",
       "       '5256_raw-Corneal_hysteresis_right',\n",
       "       '5257_raw-Corneal_resistance_factor_right',\n",
       "       '5262_raw-Intraocular_pressure_cornealcompensated_left',\n",
       "       '5263_raw-Intraocular_pressure_Goldmanncorrelated_left',\n",
       "       '5264_raw-Corneal_hysteresis_left',\n",
       "       '5265_raw-Corneal_resistance_factor_left'],\n",
       "      dtype='object')"
      ]
     },
     "metadata": {},
     "output_type": "display_data"
    },
    {
     "data": {
      "text/html": [
       "<h3>Cluster 36.32</h3>"
      ],
      "text/plain": [
       "<IPython.core.display.HTML object>"
      ]
     },
     "metadata": {},
     "output_type": "display_data"
    },
    {
     "data": {
      "text/plain": [
       "1"
      ]
     },
     "metadata": {},
     "output_type": "display_data"
    },
    {
     "data": {
      "text/plain": [
       "Index(['lymphocyte count'], dtype='object')"
      ]
     },
     "metadata": {},
     "output_type": "display_data"
    },
    {
     "data": {
      "text/html": [
       "<h3>Cluster 36.33</h3>"
      ],
      "text/plain": [
       "<IPython.core.display.HTML object>"
      ]
     },
     "metadata": {},
     "output_type": "display_data"
    },
    {
     "data": {
      "text/plain": [
       "2"
      ]
     },
     "metadata": {},
     "output_type": "display_data"
    },
    {
     "data": {
      "text/plain": [
       "Index(['30100_raw-Mean_platelet_thrombocyte_volume', '30110_raw-Platelet_distribution_width'], dtype='object')"
      ]
     },
     "metadata": {},
     "output_type": "display_data"
    },
    {
     "data": {
      "text/html": [
       "<h3>Cluster 36.34</h3>"
      ],
      "text/plain": [
       "<IPython.core.display.HTML object>"
      ]
     },
     "metadata": {},
     "output_type": "display_data"
    },
    {
     "data": {
      "text/plain": [
       "34"
      ]
     },
     "metadata": {},
     "output_type": "display_data"
    },
    {
     "data": {
      "text/plain": [
       "Index(['20421-Ever_felt_worried_tense_or_anxious_for_most_of_a_month_or_longer',\n",
       "       '20425-Ever_worried_more_than_most_people_would_in_similar_situation',\n",
       "       '20441-Ever_had_prolonged_loss_of_interest_in_normal_activities',\n",
       "       '20446-Ever_had_prolonged_feelings_of_sadness_or_depression',\n",
       "       '20458-General_happiness', '20459-General_happiness_with_own_health',\n",
       "       '20460-Belief_that_own_life_is_meaningful',\n",
       "       '20479-Ever_thought_that_life_not_worth_living',\n",
       "       '20485-Ever_contemplated_selfharm',\n",
       "       '20494-Felt_irritable_or_had_angry_outbursts_in_past_month',\n",
       "       '20495-Avoided_activities_or_situations_because_of_previous_stressful_experience_in_past_month',\n",
       "       '20496-Felt_distant_from_other_people_in_past_month',\n",
       "       '20497-Repeated_disturbing_thoughts_of_stressful_experience_in_past_month',\n",
       "       '20498-Felt_very_upset_when_reminded_of_stressful_experience_in_past_month',\n",
       "       '20499-Ever_sought_or_received_professional_help_for_mental_distress',\n",
       "       '20500-Ever_suffered_mental_distress_preventing_usual_activities',\n",
       "       '20505-Recent_easy_annoyance_or_irritability',\n",
       "       '20506-Recent_feelings_or_nervousness_or_anxiety',\n",
       "       '20507-Recent_feelings_of_inadequacy',\n",
       "       '20508-Recent_trouble_concentrating_on_things',\n",
       "       '20509-Recent_inability_to_stop_or_control_worrying',\n",
       "       '20510-Recent_feelings_of_depression',\n",
       "       '20511-Recent_poor_appetite_or_overeating',\n",
       "       '20512-Recent_feelings_of_foreboding',\n",
       "       '20513-Recent_thoughts_of_suicide_or_selfharm',\n",
       "       '20514-Recent_lack_of_interest_or_pleasure_in_doing_things',\n",
       "       '20515-Recent_trouble_relaxing', '20516-Recent_restlessness',\n",
       "       '20517-Trouble_falling_or_staying_asleep_or_sleeping_too_much',\n",
       "       '20519-Recent_feelings_of_tiredness_or_low_energy',\n",
       "       '20520-Recent_worrying_too_much_about_different_things',\n",
       "       '20544_11-Mental_health_problems_ever_diagnosed_by_a_professional_Depression',\n",
       "       '20546_3-Substances_taken_for_depression_Medication_prescribed_to_you_for_at_least_two_weeks',\n",
       "       '20547_1-Activities_undertaken_to_treat_depression_Talking_therapies_such_as_psychotherapy_counselling_group_therapy_or_CBT'],\n",
       "      dtype='object')"
      ]
     },
     "metadata": {},
     "output_type": "display_data"
    },
    {
     "data": {
      "text/html": [
       "<h3>Cluster 36.35</h3>"
      ],
      "text/plain": [
       "<IPython.core.display.HTML object>"
      ]
     },
     "metadata": {},
     "output_type": "display_data"
    },
    {
     "data": {
      "text/plain": [
       "138"
      ]
     },
     "metadata": {},
     "output_type": "display_data"
    },
    {
     "data": {
      "text/plain": [
       "Index(['129_raw-Place_of_birth_in_UK_north_coordinate',\n",
       "       '130_raw-Place_of_birth_in_UK_east_coordinate',\n",
       "       '20074_raw-Home_location_at_assessment_east_coordinate_rounded',\n",
       "       '20075_raw-Home_location_at_assessment_north_coordinate_rounded',\n",
       "       '20118_11-Home_area_population_density_urban_or_rural_Scotland_Large_Urban_Area',\n",
       "       '22704_raw-Home_location_north_coordinate_rounded',\n",
       "       '2395_1-Hairbalding_pattern_Pattern_1', '30120_raw-Lymphocyte_count',\n",
       "       '30220_raw-Basophill_percentage', 'abdominal injury',\n",
       "       ...\n",
       "       'tongue neoplasm', 'transient ischemic attack', 'tuberculosis',\n",
       "       'type ii diabetes mellitus', 'ulcerative colitis',\n",
       "       'urogenital neoplasm', 'urticaria', 'vascular disease', 'vasculitis',\n",
       "       'wrist fracture'],\n",
       "      dtype='object', length=138)"
      ]
     },
     "metadata": {},
     "output_type": "display_data"
    }
   ],
   "source": [
    "for k in selected_k_values:\n",
    "    display(HTML(f\"<h2>Partition with k={k}</h2>\"))\n",
    "    display(best_partitions.loc[k])\n",
    "\n",
    "    part = best_partitions.loc[k, \"partition\"]\n",
    "    display(part.shape)\n",
    "\n",
    "    part_stats = pd.Series(part).value_counts()\n",
    "    display(part_stats)\n",
    "\n",
    "    for cluster_number in part_stats.index.sort_values():\n",
    "        display(HTML(f\"<h3>Cluster {k}.{cluster_number}</h3>\"))\n",
    "\n",
    "        cluster_traits = data_umap[part == cluster_number].index\n",
    "        display(len(cluster_traits))\n",
    "        display(cluster_traits)"
   ]
  },
  {
   "cell_type": "code",
   "execution_count": null,
   "metadata": {},
   "outputs": [],
   "source": []
  }
 ],
 "metadata": {
  "jupytext": {
   "cell_metadata_filter": "all,-execution,-papermill,-trusted",
   "formats": "ipynb,py//py:percent"
  },
  "kernelspec": {
   "display_name": "Python 3",
   "language": "python",
   "name": "python3"
  },
  "language_info": {
   "codemirror_mode": {
    "name": "ipython",
    "version": 3
   },
   "file_extension": ".py",
   "mimetype": "text/x-python",
   "name": "python",
   "nbconvert_exporter": "python",
   "pygments_lexer": "ipython3",
   "version": "3.8.6"
  },
  "toc-autonumbering": true,
  "toc-showcode": false,
  "toc-showmarkdowntxt": false,
  "toc-showtags": false
 },
 "nbformat": 4,
 "nbformat_minor": 4
}
