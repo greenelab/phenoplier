{
 "cells": [
  {
   "cell_type": "markdown",
   "metadata": {
    "papermill": {
     "duration": 0.035624,
     "end_time": "2021-03-11T05:12:59.403994",
     "exception": false,
     "start_time": "2021-03-11T05:12:59.368370",
     "status": "completed"
    },
    "tags": []
   },
   "source": [
    "# Description"
   ]
  },
  {
   "cell_type": "markdown",
   "metadata": {
    "papermill": {
     "duration": 0.009546,
     "end_time": "2021-03-11T05:12:59.428222",
     "exception": false,
     "start_time": "2021-03-11T05:12:59.418676",
     "status": "completed"
    },
    "tags": []
   },
   "source": [
    "The goal of this notebook is very simple: it just lists the content (traits/diseases) that belong to each cluster across all selected \"best partitions\". Although one would take a look at them here to check whether clusters of traits make sense, that analysis is carried out first by looking at the clustering trees (which are generated later). Then, this notebooks serves as a simple list with the content of the clusters."
   ]
  },
  {
   "cell_type": "markdown",
   "metadata": {
    "papermill": {
     "duration": 0.007804,
     "end_time": "2021-03-11T05:12:59.444073",
     "exception": false,
     "start_time": "2021-03-11T05:12:59.436269",
     "status": "completed"
    },
    "tags": []
   },
   "source": [
    "# Modules loading"
   ]
  },
  {
   "cell_type": "code",
   "execution_count": 1,
   "metadata": {
    "execution": {
     "iopub.execute_input": "2021-03-11T05:12:59.465681Z",
     "iopub.status.busy": "2021-03-11T05:12:59.465299Z",
     "iopub.status.idle": "2021-03-11T05:12:59.472397Z",
     "shell.execute_reply": "2021-03-11T05:12:59.472716Z"
    },
    "papermill": {
     "duration": 0.020824,
     "end_time": "2021-03-11T05:12:59.472898",
     "exception": false,
     "start_time": "2021-03-11T05:12:59.452074",
     "status": "completed"
    },
    "tags": []
   },
   "outputs": [],
   "source": [
    "%load_ext autoreload\n",
    "%autoreload 2"
   ]
  },
  {
   "cell_type": "code",
   "execution_count": 2,
   "metadata": {
    "execution": {
     "iopub.execute_input": "2021-03-11T05:12:59.492343Z",
     "iopub.status.busy": "2021-03-11T05:12:59.491982Z",
     "iopub.status.idle": "2021-03-11T05:12:59.682862Z",
     "shell.execute_reply": "2021-03-11T05:12:59.683165Z"
    },
    "papermill": {
     "duration": 0.201958,
     "end_time": "2021-03-11T05:12:59.683271",
     "exception": false,
     "start_time": "2021-03-11T05:12:59.481313",
     "status": "completed"
    },
    "tags": []
   },
   "outputs": [],
   "source": [
    "from IPython.display import display\n",
    "from pathlib import Path\n",
    "\n",
    "import pandas as pd\n",
    "\n",
    "from utils import generate_result_set_name\n",
    "import conf"
   ]
  },
  {
   "cell_type": "markdown",
   "metadata": {
    "papermill": {
     "duration": 0.008081,
     "end_time": "2021-03-11T05:12:59.700033",
     "exception": false,
     "start_time": "2021-03-11T05:12:59.691952",
     "status": "completed"
    },
    "tags": []
   },
   "source": [
    "# Settings"
   ]
  },
  {
   "cell_type": "code",
   "execution_count": 3,
   "metadata": {
    "execution": {
     "iopub.execute_input": "2021-03-11T05:12:59.719233Z",
     "iopub.status.busy": "2021-03-11T05:12:59.718859Z",
     "iopub.status.idle": "2021-03-11T05:12:59.730271Z",
     "shell.execute_reply": "2021-03-11T05:12:59.730547Z"
    },
    "papermill": {
     "duration": 0.022363,
     "end_time": "2021-03-11T05:12:59.730651",
     "exception": false,
     "start_time": "2021-03-11T05:12:59.708288",
     "status": "completed"
    },
    "tags": []
   },
   "outputs": [
    {
     "data": {
      "text/plain": [
       "PosixPath('/home/miltondp/projects/labs/greenelab/phenoplier/base/results/clustering/consensus_clustering')"
      ]
     },
     "metadata": {},
     "output_type": "display_data"
    }
   ],
   "source": [
    "CONSENSUS_CLUSTERING_DIR = Path(\n",
    "    conf.RESULTS[\"CLUSTERING_DIR\"], \"consensus_clustering\"\n",
    ").resolve()\n",
    "\n",
    "display(CONSENSUS_CLUSTERING_DIR)"
   ]
  },
  {
   "cell_type": "markdown",
   "metadata": {
    "papermill": {
     "duration": 0.00826,
     "end_time": "2021-03-11T05:12:59.747729",
     "exception": false,
     "start_time": "2021-03-11T05:12:59.739469",
     "status": "completed"
    },
    "tags": []
   },
   "source": [
    "## Load data"
   ]
  },
  {
   "cell_type": "code",
   "execution_count": 4,
   "metadata": {
    "execution": {
     "iopub.execute_input": "2021-03-11T05:12:59.766846Z",
     "iopub.status.busy": "2021-03-11T05:12:59.766486Z",
     "iopub.status.idle": "2021-03-11T05:12:59.773601Z",
     "shell.execute_reply": "2021-03-11T05:12:59.773298Z"
    },
    "papermill": {
     "duration": 0.017647,
     "end_time": "2021-03-11T05:12:59.773687",
     "exception": false,
     "start_time": "2021-03-11T05:12:59.756040",
     "status": "completed"
    },
    "tags": []
   },
   "outputs": [],
   "source": [
    "INPUT_SUBSET = \"umap\""
   ]
  },
  {
   "cell_type": "code",
   "execution_count": 5,
   "metadata": {
    "execution": {
     "iopub.execute_input": "2021-03-11T05:12:59.793337Z",
     "iopub.status.busy": "2021-03-11T05:12:59.792964Z",
     "iopub.status.idle": "2021-03-11T05:12:59.799824Z",
     "shell.execute_reply": "2021-03-11T05:12:59.799524Z"
    },
    "papermill": {
     "duration": 0.017506,
     "end_time": "2021-03-11T05:12:59.799909",
     "exception": false,
     "start_time": "2021-03-11T05:12:59.782403",
     "status": "completed"
    },
    "tags": []
   },
   "outputs": [],
   "source": [
    "INPUT_STEM = \"z_score_std-projection-smultixcan-efo_partial-mashr-zscores\""
   ]
  },
  {
   "cell_type": "code",
   "execution_count": 6,
   "metadata": {
    "execution": {
     "iopub.execute_input": "2021-03-11T05:12:59.819624Z",
     "iopub.status.busy": "2021-03-11T05:12:59.819252Z",
     "iopub.status.idle": "2021-03-11T05:12:59.825738Z",
     "shell.execute_reply": "2021-03-11T05:12:59.826013Z"
    },
    "papermill": {
     "duration": 0.017463,
     "end_time": "2021-03-11T05:12:59.826114",
     "exception": false,
     "start_time": "2021-03-11T05:12:59.808651",
     "status": "completed"
    },
    "tags": []
   },
   "outputs": [],
   "source": [
    "DR_OPTIONS = {\n",
    "    \"n_components\": 5,\n",
    "    \"metric\": \"euclidean\",\n",
    "    \"n_neighbors\": 15,\n",
    "    \"random_state\": 0,\n",
    "}"
   ]
  },
  {
   "cell_type": "code",
   "execution_count": 7,
   "metadata": {
    "execution": {
     "iopub.execute_input": "2021-03-11T05:12:59.846068Z",
     "iopub.status.busy": "2021-03-11T05:12:59.845708Z",
     "iopub.status.idle": "2021-03-11T05:12:59.854862Z",
     "shell.execute_reply": "2021-03-11T05:12:59.855149Z"
    },
    "papermill": {
     "duration": 0.020475,
     "end_time": "2021-03-11T05:12:59.855258",
     "exception": false,
     "start_time": "2021-03-11T05:12:59.834783",
     "status": "completed"
    },
    "tags": []
   },
   "outputs": [
    {
     "data": {
      "text/plain": [
       "PosixPath('/home/miltondp/projects/labs/greenelab/phenoplier/base/results/data_transformations/umap/umap-z_score_std-projection-smultixcan-efo_partial-mashr-zscores-metric_euclidean-n_components_5-n_neighbors_15-random_state_0.pkl')"
      ]
     },
     "metadata": {},
     "output_type": "display_data"
    },
    {
     "data": {
      "text/plain": [
       "'umap-z_score_std-projection-smultixcan-efo_partial-mashr-zscores-metric_euclidean-n_components_5-n_neighbors_15-random_state_0'"
      ]
     },
     "metadata": {},
     "output_type": "display_data"
    }
   ],
   "source": [
    "input_filepath = Path(\n",
    "    conf.RESULTS[\"DATA_TRANSFORMATIONS_DIR\"],\n",
    "    INPUT_SUBSET,\n",
    "    generate_result_set_name(\n",
    "        DR_OPTIONS, prefix=f\"{INPUT_SUBSET}-{INPUT_STEM}-\", suffix=\".pkl\"\n",
    "    ),\n",
    ").resolve()\n",
    "display(input_filepath)\n",
    "\n",
    "assert input_filepath.exists(), \"Input file does not exist\"\n",
    "\n",
    "input_filepath_stem = input_filepath.stem\n",
    "display(input_filepath_stem)"
   ]
  },
  {
   "cell_type": "code",
   "execution_count": 8,
   "metadata": {
    "execution": {
     "iopub.execute_input": "2021-03-11T05:12:59.876257Z",
     "iopub.status.busy": "2021-03-11T05:12:59.875883Z",
     "iopub.status.idle": "2021-03-11T05:12:59.884611Z",
     "shell.execute_reply": "2021-03-11T05:12:59.884296Z"
    },
    "papermill": {
     "duration": 0.020091,
     "end_time": "2021-03-11T05:12:59.884709",
     "exception": false,
     "start_time": "2021-03-11T05:12:59.864618",
     "status": "completed"
    },
    "tags": []
   },
   "outputs": [],
   "source": [
    "data_umap = pd.read_pickle(input_filepath)"
   ]
  },
  {
   "cell_type": "code",
   "execution_count": 9,
   "metadata": {
    "execution": {
     "iopub.execute_input": "2021-03-11T05:12:59.906030Z",
     "iopub.status.busy": "2021-03-11T05:12:59.905655Z",
     "iopub.status.idle": "2021-03-11T05:12:59.913745Z",
     "shell.execute_reply": "2021-03-11T05:12:59.913415Z"
    },
    "papermill": {
     "duration": 0.019524,
     "end_time": "2021-03-11T05:12:59.913832",
     "exception": false,
     "start_time": "2021-03-11T05:12:59.894308",
     "status": "completed"
    },
    "tags": []
   },
   "outputs": [
    {
     "data": {
      "text/plain": [
       "(3752, 5)"
      ]
     },
     "execution_count": 9,
     "metadata": {},
     "output_type": "execute_result"
    }
   ],
   "source": [
    "data_umap.shape"
   ]
  },
  {
   "cell_type": "code",
   "execution_count": 10,
   "metadata": {
    "execution": {
     "iopub.execute_input": "2021-03-11T05:12:59.935415Z",
     "iopub.status.busy": "2021-03-11T05:12:59.935065Z",
     "iopub.status.idle": "2021-03-11T05:12:59.947238Z",
     "shell.execute_reply": "2021-03-11T05:12:59.947513Z"
    },
    "papermill": {
     "duration": 0.023797,
     "end_time": "2021-03-11T05:12:59.947618",
     "exception": false,
     "start_time": "2021-03-11T05:12:59.923821",
     "status": "completed"
    },
    "tags": []
   },
   "outputs": [
    {
     "data": {
      "text/html": [
       "<div>\n",
       "<style scoped>\n",
       "    .dataframe tbody tr th:only-of-type {\n",
       "        vertical-align: middle;\n",
       "    }\n",
       "\n",
       "    .dataframe tbody tr th {\n",
       "        vertical-align: top;\n",
       "    }\n",
       "\n",
       "    .dataframe thead th {\n",
       "        text-align: right;\n",
       "    }\n",
       "</style>\n",
       "<table border=\"1\" class=\"dataframe\">\n",
       "  <thead>\n",
       "    <tr style=\"text-align: right;\">\n",
       "      <th></th>\n",
       "      <th>UMAP1</th>\n",
       "      <th>UMAP2</th>\n",
       "      <th>UMAP3</th>\n",
       "      <th>UMAP4</th>\n",
       "      <th>UMAP5</th>\n",
       "    </tr>\n",
       "  </thead>\n",
       "  <tbody>\n",
       "    <tr>\n",
       "      <th>100001_raw-Food_weight</th>\n",
       "      <td>0.426554</td>\n",
       "      <td>0.670532</td>\n",
       "      <td>7.363805</td>\n",
       "      <td>1.171837</td>\n",
       "      <td>6.297295</td>\n",
       "    </tr>\n",
       "    <tr>\n",
       "      <th>100002_raw-Energy</th>\n",
       "      <td>-1.605179</td>\n",
       "      <td>0.815699</td>\n",
       "      <td>8.288521</td>\n",
       "      <td>0.990394</td>\n",
       "      <td>6.817351</td>\n",
       "    </tr>\n",
       "    <tr>\n",
       "      <th>100003_raw-Protein</th>\n",
       "      <td>-1.656178</td>\n",
       "      <td>0.788297</td>\n",
       "      <td>8.355906</td>\n",
       "      <td>1.017072</td>\n",
       "      <td>6.845651</td>\n",
       "    </tr>\n",
       "    <tr>\n",
       "      <th>100004_raw-Fat</th>\n",
       "      <td>-1.508325</td>\n",
       "      <td>0.802536</td>\n",
       "      <td>8.328274</td>\n",
       "      <td>1.033939</td>\n",
       "      <td>6.709319</td>\n",
       "    </tr>\n",
       "    <tr>\n",
       "      <th>100005_raw-Carbohydrate</th>\n",
       "      <td>-1.617872</td>\n",
       "      <td>0.812711</td>\n",
       "      <td>8.307973</td>\n",
       "      <td>1.020575</td>\n",
       "      <td>6.825944</td>\n",
       "    </tr>\n",
       "  </tbody>\n",
       "</table>\n",
       "</div>"
      ],
      "text/plain": [
       "                            UMAP1     UMAP2     UMAP3     UMAP4     UMAP5\n",
       "100001_raw-Food_weight   0.426554  0.670532  7.363805  1.171837  6.297295\n",
       "100002_raw-Energy       -1.605179  0.815699  8.288521  0.990394  6.817351\n",
       "100003_raw-Protein      -1.656178  0.788297  8.355906  1.017072  6.845651\n",
       "100004_raw-Fat          -1.508325  0.802536  8.328274  1.033939  6.709319\n",
       "100005_raw-Carbohydrate -1.617872  0.812711  8.307973  1.020575  6.825944"
      ]
     },
     "execution_count": 10,
     "metadata": {},
     "output_type": "execute_result"
    }
   ],
   "source": [
    "data_umap.head()"
   ]
  },
  {
   "cell_type": "markdown",
   "metadata": {
    "papermill": {
     "duration": 0.00929,
     "end_time": "2021-03-11T05:12:59.966381",
     "exception": false,
     "start_time": "2021-03-11T05:12:59.957091",
     "status": "completed"
    },
    "tags": []
   },
   "source": [
    "# Load best partitions"
   ]
  },
  {
   "cell_type": "code",
   "execution_count": 11,
   "metadata": {
    "execution": {
     "iopub.execute_input": "2021-03-11T05:12:59.987350Z",
     "iopub.status.busy": "2021-03-11T05:12:59.986996Z",
     "iopub.status.idle": "2021-03-11T05:12:59.995234Z",
     "shell.execute_reply": "2021-03-11T05:12:59.994869Z"
    },
    "papermill": {
     "duration": 0.01957,
     "end_time": "2021-03-11T05:12:59.995317",
     "exception": false,
     "start_time": "2021-03-11T05:12:59.975747",
     "status": "completed"
    },
    "tags": []
   },
   "outputs": [
    {
     "data": {
      "text/plain": [
       "PosixPath('/home/miltondp/projects/labs/greenelab/phenoplier/base/results/clustering/consensus_clustering/best_partitions_by_k.pkl')"
      ]
     },
     "metadata": {},
     "output_type": "display_data"
    }
   ],
   "source": [
    "input_file = Path(CONSENSUS_CLUSTERING_DIR, \"best_partitions_by_k.pkl\").resolve()\n",
    "display(input_file)"
   ]
  },
  {
   "cell_type": "code",
   "execution_count": 12,
   "metadata": {
    "execution": {
     "iopub.execute_input": "2021-03-11T05:13:00.017384Z",
     "iopub.status.busy": "2021-03-11T05:13:00.017014Z",
     "iopub.status.idle": "2021-03-11T05:13:00.025788Z",
     "shell.execute_reply": "2021-03-11T05:13:00.025404Z"
    },
    "papermill": {
     "duration": 0.020289,
     "end_time": "2021-03-11T05:13:00.025874",
     "exception": false,
     "start_time": "2021-03-11T05:13:00.005585",
     "status": "completed"
    },
    "tags": []
   },
   "outputs": [],
   "source": [
    "best_partitions = pd.read_pickle(input_file)"
   ]
  },
  {
   "cell_type": "code",
   "execution_count": 13,
   "metadata": {
    "execution": {
     "iopub.execute_input": "2021-03-11T05:13:00.047715Z",
     "iopub.status.busy": "2021-03-11T05:13:00.047351Z",
     "iopub.status.idle": "2021-03-11T05:13:00.054799Z",
     "shell.execute_reply": "2021-03-11T05:13:00.055115Z"
    },
    "papermill": {
     "duration": 0.019435,
     "end_time": "2021-03-11T05:13:00.055217",
     "exception": false,
     "start_time": "2021-03-11T05:13:00.035782",
     "status": "completed"
    },
    "tags": []
   },
   "outputs": [
    {
     "data": {
      "text/plain": [
       "(59, 4)"
      ]
     },
     "execution_count": 13,
     "metadata": {},
     "output_type": "execute_result"
    }
   ],
   "source": [
    "best_partitions.shape"
   ]
  },
  {
   "cell_type": "code",
   "execution_count": 14,
   "metadata": {
    "execution": {
     "iopub.execute_input": "2021-03-11T05:13:00.077317Z",
     "iopub.status.busy": "2021-03-11T05:13:00.076948Z",
     "iopub.status.idle": "2021-03-11T05:13:00.092570Z",
     "shell.execute_reply": "2021-03-11T05:13:00.092884Z"
    },
    "papermill": {
     "duration": 0.027752,
     "end_time": "2021-03-11T05:13:00.092989",
     "exception": false,
     "start_time": "2021-03-11T05:13:00.065237",
     "status": "completed"
    },
    "tags": []
   },
   "outputs": [
    {
     "data": {
      "text/html": [
       "<div>\n",
       "<style scoped>\n",
       "    .dataframe tbody tr th:only-of-type {\n",
       "        vertical-align: middle;\n",
       "    }\n",
       "\n",
       "    .dataframe tbody tr th {\n",
       "        vertical-align: top;\n",
       "    }\n",
       "\n",
       "    .dataframe thead th {\n",
       "        text-align: right;\n",
       "    }\n",
       "</style>\n",
       "<table border=\"1\" class=\"dataframe\">\n",
       "  <thead>\n",
       "    <tr style=\"text-align: right;\">\n",
       "      <th></th>\n",
       "      <th>method</th>\n",
       "      <th>partition</th>\n",
       "      <th>ami_mean</th>\n",
       "      <th>selected</th>\n",
       "    </tr>\n",
       "    <tr>\n",
       "      <th>k</th>\n",
       "      <th></th>\n",
       "      <th></th>\n",
       "      <th></th>\n",
       "      <th></th>\n",
       "    </tr>\n",
       "  </thead>\n",
       "  <tbody>\n",
       "    <tr>\n",
       "      <th>42</th>\n",
       "      <td>eac_average_coassoc_matrix</td>\n",
       "      <td>[25, 25, 25, 25, 25, 25, 25, 25, 25, 11, 25, 2...</td>\n",
       "      <td>0.286678</td>\n",
       "      <td>True</td>\n",
       "    </tr>\n",
       "    <tr>\n",
       "      <th>41</th>\n",
       "      <td>eac_average_coassoc_matrix</td>\n",
       "      <td>[25, 25, 25, 25, 25, 25, 25, 25, 25, 11, 25, 2...</td>\n",
       "      <td>0.286357</td>\n",
       "      <td>True</td>\n",
       "    </tr>\n",
       "    <tr>\n",
       "      <th>40</th>\n",
       "      <td>eac_average_coassoc_matrix</td>\n",
       "      <td>[25, 25, 25, 25, 25, 25, 25, 25, 25, 0, 25, 25...</td>\n",
       "      <td>0.286107</td>\n",
       "      <td>True</td>\n",
       "    </tr>\n",
       "    <tr>\n",
       "      <th>48</th>\n",
       "      <td>eac_average_coassoc_matrix</td>\n",
       "      <td>[25, 25, 25, 25, 25, 25, 25, 25, 25, 6, 25, 25...</td>\n",
       "      <td>0.286006</td>\n",
       "      <td>True</td>\n",
       "    </tr>\n",
       "    <tr>\n",
       "      <th>17</th>\n",
       "      <td>scc_020</td>\n",
       "      <td>[1, 1, 1, 1, 1, 1, 1, 1, 1, 1, 1, 1, 1, 1, 1, ...</td>\n",
       "      <td>0.285774</td>\n",
       "      <td>True</td>\n",
       "    </tr>\n",
       "  </tbody>\n",
       "</table>\n",
       "</div>"
      ],
      "text/plain": [
       "                        method  \\\n",
       "k                                \n",
       "42  eac_average_coassoc_matrix   \n",
       "41  eac_average_coassoc_matrix   \n",
       "40  eac_average_coassoc_matrix   \n",
       "48  eac_average_coassoc_matrix   \n",
       "17                     scc_020   \n",
       "\n",
       "                                            partition  ami_mean  selected  \n",
       "k                                                                          \n",
       "42  [25, 25, 25, 25, 25, 25, 25, 25, 25, 11, 25, 2...  0.286678      True  \n",
       "41  [25, 25, 25, 25, 25, 25, 25, 25, 25, 11, 25, 2...  0.286357      True  \n",
       "40  [25, 25, 25, 25, 25, 25, 25, 25, 25, 0, 25, 25...  0.286107      True  \n",
       "48  [25, 25, 25, 25, 25, 25, 25, 25, 25, 6, 25, 25...  0.286006      True  \n",
       "17  [1, 1, 1, 1, 1, 1, 1, 1, 1, 1, 1, 1, 1, 1, 1, ...  0.285774      True  "
      ]
     },
     "execution_count": 14,
     "metadata": {},
     "output_type": "execute_result"
    }
   ],
   "source": [
    "best_partitions.head()"
   ]
  },
  {
   "cell_type": "markdown",
   "metadata": {
    "papermill": {
     "duration": 0.010007,
     "end_time": "2021-03-11T05:13:00.113254",
     "exception": false,
     "start_time": "2021-03-11T05:13:00.103247",
     "status": "completed"
    },
    "tags": []
   },
   "source": [
    "# Analysis of clusterings"
   ]
  },
  {
   "cell_type": "code",
   "execution_count": 15,
   "metadata": {
    "execution": {
     "iopub.execute_input": "2021-03-11T05:13:00.135814Z",
     "iopub.status.busy": "2021-03-11T05:13:00.135416Z",
     "iopub.status.idle": "2021-03-11T05:13:00.142541Z",
     "shell.execute_reply": "2021-03-11T05:13:00.142167Z"
    },
    "papermill": {
     "duration": 0.019279,
     "end_time": "2021-03-11T05:13:00.142626",
     "exception": false,
     "start_time": "2021-03-11T05:13:00.123347",
     "status": "completed"
    },
    "tags": []
   },
   "outputs": [],
   "source": [
    "from IPython.display import HTML"
   ]
  },
  {
   "cell_type": "code",
   "execution_count": 16,
   "metadata": {
    "execution": {
     "iopub.execute_input": "2021-03-11T05:13:00.165449Z",
     "iopub.status.busy": "2021-03-11T05:13:00.165075Z",
     "iopub.status.idle": "2021-03-11T05:13:00.172015Z",
     "shell.execute_reply": "2021-03-11T05:13:00.172295Z"
    },
    "papermill": {
     "duration": 0.019458,
     "end_time": "2021-03-11T05:13:00.172400",
     "exception": false,
     "start_time": "2021-03-11T05:13:00.152942",
     "status": "completed"
    },
    "tags": []
   },
   "outputs": [],
   "source": [
    "def show_cluster_stats(clustering_data, selected_partition, selected_cluster):\n",
    "    traits = [t for t in clustering_data[selected_partition == selected_cluster].index]\n",
    "    display(len(traits))\n",
    "    display(traits)"
   ]
  },
  {
   "cell_type": "code",
   "execution_count": 17,
   "metadata": {
    "execution": {
     "iopub.execute_input": "2021-03-11T05:13:00.195283Z",
     "iopub.status.busy": "2021-03-11T05:13:00.194918Z",
     "iopub.status.idle": "2021-03-11T05:13:00.203441Z",
     "shell.execute_reply": "2021-03-11T05:13:00.203141Z"
    },
    "papermill": {
     "duration": 0.020866,
     "end_time": "2021-03-11T05:13:00.203529",
     "exception": false,
     "start_time": "2021-03-11T05:13:00.182663",
     "status": "completed"
    },
    "tags": []
   },
   "outputs": [
    {
     "data": {
      "text/plain": [
       "[12, 16, 17, 40, 41, 42, 43, 44, 45, 46, 47, 48, 49, 52, 54]"
      ]
     },
     "metadata": {},
     "output_type": "display_data"
    }
   ],
   "source": [
    "selected_k_values = best_partitions[best_partitions[\"selected\"]].index.tolist()\n",
    "selected_k_values.sort()\n",
    "display(selected_k_values)"
   ]
  },
  {
   "cell_type": "code",
   "execution_count": 18,
   "metadata": {
    "execution": {
     "iopub.execute_input": "2021-03-11T05:13:00.228033Z",
     "iopub.status.busy": "2021-03-11T05:13:00.227643Z",
     "iopub.status.idle": "2021-03-11T05:13:01.607869Z",
     "shell.execute_reply": "2021-03-11T05:13:01.608138Z"
    },
    "papermill": {
     "duration": 1.394027,
     "end_time": "2021-03-11T05:13:01.608244",
     "exception": false,
     "start_time": "2021-03-11T05:13:00.214217",
     "status": "completed"
    },
    "tags": []
   },
   "outputs": [
    {
     "data": {
      "text/html": [
       "<h2>Partition with k=12</h2>"
      ],
      "text/plain": [
       "<IPython.core.display.HTML object>"
      ]
     },
     "metadata": {},
     "output_type": "display_data"
    },
    {
     "data": {
      "text/plain": [
       "method                              eac_average_coassoc_matrix\n",
       "partition    [0, 0, 0, 0, 0, 0, 0, 0, 0, 0, 0, 0, 0, 0, 0, ...\n",
       "ami_mean                                               0.28453\n",
       "selected                                                  True\n",
       "Name: 12, dtype: object"
      ]
     },
     "metadata": {},
     "output_type": "display_data"
    },
    {
     "data": {
      "text/plain": [
       "(3752,)"
      ]
     },
     "metadata": {},
     "output_type": "display_data"
    },
    {
     "data": {
      "text/plain": [
       "0     3561\n",
       "6       49\n",
       "1       30\n",
       "11      24\n",
       "3       19\n",
       "4       18\n",
       "2       16\n",
       "9       12\n",
       "7        8\n",
       "5        8\n",
       "8        5\n",
       "10       2\n",
       "dtype: int64"
      ]
     },
     "metadata": {},
     "output_type": "display_data"
    },
    {
     "data": {
      "text/html": [
       "<h3>Cluster 12.0</h3>"
      ],
      "text/plain": [
       "<IPython.core.display.HTML object>"
      ]
     },
     "metadata": {},
     "output_type": "display_data"
    },
    {
     "data": {
      "text/plain": [
       "3561"
      ]
     },
     "metadata": {},
     "output_type": "display_data"
    },
    {
     "data": {
      "text/plain": [
       "Index(['100001_raw-Food_weight', '100002_raw-Energy', '100003_raw-Protein',\n",
       "       '100004_raw-Fat', '100005_raw-Carbohydrate', '100006_raw-Saturated_fat',\n",
       "       '100007_raw-Polyunsaturated_fat', '100008_raw-Total_sugars',\n",
       "       '100009_raw-Englyst_dietary_fibre', '100010-Portion_size',\n",
       "       ...\n",
       "       'visual impairment', 'vitiligo', 'vitreous body disease',\n",
       "       'vocal cord polyp', 'voice disorders',\n",
       "       'wellbeing measurement AND family relationship', 'wheezing',\n",
       "       'whooping cough', 'worry measurement', 'wrist fracture'],\n",
       "      dtype='object', length=3561)"
      ]
     },
     "metadata": {},
     "output_type": "display_data"
    },
    {
     "data": {
      "text/html": [
       "<h3>Cluster 12.1</h3>"
      ],
      "text/plain": [
       "<IPython.core.display.HTML object>"
      ]
     },
     "metadata": {},
     "output_type": "display_data"
    },
    {
     "data": {
      "text/plain": [
       "30"
      ]
     },
     "metadata": {},
     "output_type": "display_data"
    },
    {
     "data": {
      "text/plain": [
       "Index(['20003_1140861958-Treatmentmedication_code_simvastatin',\n",
       "       '20003_1140868226-Treatmentmedication_code_aspirin',\n",
       "       '20003_1140879802-Treatmentmedication_code_amlodipine',\n",
       "       '20003_1141146234-Treatmentmedication_code_atorvastatin',\n",
       "       '20003_1141194794-Treatmentmedication_code_bendroflumethiazide',\n",
       "       '4079_raw-Diastolic_blood_pressure_automated_reading',\n",
       "       '4080_raw-Systolic_blood_pressure_automated_reading',\n",
       "       '6150_1-Vascularheart_problems_diagnosed_by_doctor_Heart_attack',\n",
       "       '6150_100-Vascularheart_problems_diagnosed_by_doctor_None_of_the_above',\n",
       "       '6150_2-Vascularheart_problems_diagnosed_by_doctor_Angina',\n",
       "       '6150_4-Vascularheart_problems_diagnosed_by_doctor_High_blood_pressure',\n",
       "       '6153_1-Medication_for_cholesterol_blood_pressure_diabetes_or_take_exogenous_hormones_Cholesterol_lowering_medication',\n",
       "       '6153_100-Medication_for_cholesterol_blood_pressure_diabetes_or_take_exogenous_hormones_None_of_the_above',\n",
       "       '6153_2-Medication_for_cholesterol_blood_pressure_diabetes_or_take_exogenous_hormones_Blood_pressure_medication',\n",
       "       '6154_1-Medication_for_pain_relief_constipation_heartburn_Aspirin',\n",
       "       '6177_1-Medication_for_cholesterol_blood_pressure_or_diabetes_Cholesterol_lowering_medication',\n",
       "       '6177_100-Medication_for_cholesterol_blood_pressure_or_diabetes_None_of_the_above',\n",
       "       '6177_2-Medication_for_cholesterol_blood_pressure_or_diabetes_Blood_pressure_medication',\n",
       "       'I9_CHD-Major_coronary_heart_disease_event',\n",
       "       'I9_CHD_NOREV-Major_coronary_heart_disease_event_excluding_revascularizations',\n",
       "       'I9_CORATHER-Coronary_atherosclerosis',\n",
       "       'I9_IHD-Ischaemic_heart_disease_wide_definition',\n",
       "       'I9_MI-Myocardial_infarction',\n",
       "       'I9_MI_STRICT-Myocardial_infarction_strict',\n",
       "       'IX_CIRCULATORY-Diseases_of_the_circulatory_system',\n",
       "       'acute myocardial infarction', 'angina pectoris',\n",
       "       'hypercholesterolemia', 'hypertension', 'myocardial infarction'],\n",
       "      dtype='object')"
      ]
     },
     "metadata": {},
     "output_type": "display_data"
    },
    {
     "data": {
      "text/html": [
       "<h3>Cluster 12.2</h3>"
      ],
      "text/plain": [
       "<IPython.core.display.HTML object>"
      ]
     },
     "metadata": {},
     "output_type": "display_data"
    },
    {
     "data": {
      "text/plain": [
       "16"
      ]
     },
     "metadata": {},
     "output_type": "display_data"
    },
    {
     "data": {
      "text/plain": [
       "Index(['30010_raw-Red_blood_cell_erythrocyte_count',\n",
       "       '30020_raw-Haemoglobin_concentration',\n",
       "       '30030_raw-Haematocrit_percentage', '30040_raw-Mean_corpuscular_volume',\n",
       "       '30050_raw-Mean_corpuscular_haemoglobin',\n",
       "       '30060_raw-Mean_corpuscular_haemoglobin_concentration',\n",
       "       '30070_raw-Red_blood_cell_erythrocyte_distribution_width',\n",
       "       '30240_raw-Reticulocyte_percentage', '30250_raw-Reticulocyte_count',\n",
       "       '30260_raw-Mean_reticulocyte_volume',\n",
       "       '30270_raw-Mean_sphered_cell_volume',\n",
       "       '30280_raw-Immature_reticulocyte_fraction',\n",
       "       '30290_raw-High_light_scatter_reticulocyte_percentage',\n",
       "       '30300_raw-High_light_scatter_reticulocyte_count', 'erythrocyte count',\n",
       "       'reticulocyte count'],\n",
       "      dtype='object')"
      ]
     },
     "metadata": {},
     "output_type": "display_data"
    },
    {
     "data": {
      "text/html": [
       "<h3>Cluster 12.3</h3>"
      ],
      "text/plain": [
       "<IPython.core.display.HTML object>"
      ]
     },
     "metadata": {},
     "output_type": "display_data"
    },
    {
     "data": {
      "text/plain": [
       "19"
      ]
     },
     "metadata": {},
     "output_type": "display_data"
    },
    {
     "data": {
      "text/plain": [
       "Index(['EAGLE_Eczema', 'Jones_et_al_2016_Chronotype', 'MAGNETIC_CH2.DB.ratio',\n",
       "       'MAGNETIC_HDL.C', 'MAGNETIC_IDL.TG', 'MAGNETIC_LDL.C',\n",
       "       'SSGAC_Education_Years_Pooled', 'alzheimer's disease',\n",
       "       'attention deficit hyperactivity disorder', 'bone density',\n",
       "       'coronary artery disease', 'estrogen-receptor negative breast cancer',\n",
       "       'estrogen-receptor positive breast cancer',\n",
       "       'family history of breast cancer', 'fasting blood glucose measurement',\n",
       "       'fasting blood insulin measurement', 'inflammatory bowel disease',\n",
       "       'intracranial volume measurement', 'schizophrenia'],\n",
       "      dtype='object')"
      ]
     },
     "metadata": {},
     "output_type": "display_data"
    },
    {
     "data": {
      "text/html": [
       "<h3>Cluster 12.4</h3>"
      ],
      "text/plain": [
       "<IPython.core.display.HTML object>"
      ]
     },
     "metadata": {},
     "output_type": "display_data"
    },
    {
     "data": {
      "text/plain": [
       "18"
      ]
     },
     "metadata": {},
     "output_type": "display_data"
    },
    {
     "data": {
      "text/plain": [
       "Index(['20003_1140883066-Treatmentmedication_code_insulin_product',\n",
       "       '20003_1141191044-Treatmentmedication_code_levothyroxine_sodium',\n",
       "       '2976_raw-Age_diabetes_diagnosed',\n",
       "       '2986-Started_insulin_within_one_year_diagnosis_of_diabetes',\n",
       "       '6144_3-Never_eat_eggs_dairy_wheat_sugar_Wheat_products',\n",
       "       '6153_3-Medication_for_cholesterol_blood_pressure_diabetes_or_take_exogenous_hormones_Insulin',\n",
       "       '6177_3-Medication_for_cholesterol_blood_pressure_or_diabetes_Insulin',\n",
       "       'K11_COELIAC-Coeliac_disease', 'celiac disease',\n",
       "       'hyperthyroidism AND thyrotoxicosis', 'hypothyroidism AND myxedema',\n",
       "       'malabsorption syndrome', 'mineral metabolism disease', 'psoriasis',\n",
       "       'rheumatoid arthritis', 'sarcoidosis', 'systemic lupus erythematosus',\n",
       "       'type i diabetes mellitus'],\n",
       "      dtype='object')"
      ]
     },
     "metadata": {},
     "output_type": "display_data"
    },
    {
     "data": {
      "text/html": [
       "<h3>Cluster 12.5</h3>"
      ],
      "text/plain": [
       "<IPython.core.display.HTML object>"
      ]
     },
     "metadata": {},
     "output_type": "display_data"
    },
    {
     "data": {
      "text/plain": [
       "8"
      ]
     },
     "metadata": {},
     "output_type": "display_data"
    },
    {
     "data": {
      "text/plain": [
       "Index(['1717-Skin_colour', '1727-Ease_of_skin_tanning',\n",
       "       '1737-Childhood_sunburn_occasions',\n",
       "       '1747_1-Hair_colour_natural_before_greying_Blonde',\n",
       "       '1747_2-Hair_colour_natural_before_greying_Red',\n",
       "       '1747_3-Hair_colour_natural_before_greying_Light_brown',\n",
       "       '1747_4-Hair_colour_natural_before_greying_Dark_brown',\n",
       "       '1747_5-Hair_colour_natural_before_greying_Black'],\n",
       "      dtype='object')"
      ]
     },
     "metadata": {},
     "output_type": "display_data"
    },
    {
     "data": {
      "text/html": [
       "<h3>Cluster 12.6</h3>"
      ],
      "text/plain": [
       "<IPython.core.display.HTML object>"
      ]
     },
     "metadata": {},
     "output_type": "display_data"
    },
    {
     "data": {
      "text/plain": [
       "49"
      ]
     },
     "metadata": {},
     "output_type": "display_data"
    },
    {
     "data": {
      "text/plain": [
       "Index(['20015_raw-Sitting_height',\n",
       "       '20150_raw-Forced_expiratory_volume_in_1second_FEV1_Best_measure',\n",
       "       '20151_raw-Forced_vital_capacity_FVC_Best_measure',\n",
       "       '20153_raw-Forced_expiratory_volume_in_1second_FEV1_predicted',\n",
       "       '20154_raw-Forced_expiratory_volume_in_1second_FEV1_predicted_percentage',\n",
       "       '21001_raw-Body_mass_index_BMI', '21002_raw-Weight', '23098_raw-Weight',\n",
       "       '23099_raw-Body_fat_percentage', '23100_raw-Whole_body_fat_mass',\n",
       "       '23101_raw-Whole_body_fatfree_mass', '23102_raw-Whole_body_water_mass',\n",
       "       '23104_raw-Body_mass_index_BMI', '23105_raw-Basal_metabolic_rate',\n",
       "       '23106_raw-Impedance_of_whole_body', '23107_raw-Impedance_of_leg_right',\n",
       "       '23108_raw-Impedance_of_leg_left', '23109_raw-Impedance_of_arm_right',\n",
       "       '23110_raw-Impedance_of_arm_left', '23111_raw-Leg_fat_percentage_right',\n",
       "       '23112_raw-Leg_fat_mass_right', '23113_raw-Leg_fatfree_mass_right',\n",
       "       '23114_raw-Leg_predicted_mass_right',\n",
       "       '23115_raw-Leg_fat_percentage_left', '23116_raw-Leg_fat_mass_left',\n",
       "       '23117_raw-Leg_fatfree_mass_left', '23118_raw-Leg_predicted_mass_left',\n",
       "       '23119_raw-Arm_fat_percentage_right', '23120_raw-Arm_fat_mass_right',\n",
       "       '23121_raw-Arm_fatfree_mass_right',\n",
       "       '23122_raw-Arm_predicted_mass_right',\n",
       "       '23123_raw-Arm_fat_percentage_left', '23124_raw-Arm_fat_mass_left',\n",
       "       '23125_raw-Arm_fatfree_mass_left', '23126_raw-Arm_predicted_mass_left',\n",
       "       '23127_raw-Trunk_fat_percentage', '23128_raw-Trunk_fat_mass',\n",
       "       '23129_raw-Trunk_fatfree_mass', '23130_raw-Trunk_predicted_mass',\n",
       "       '3062_raw-Forced_vital_capacity_FVC',\n",
       "       '3063_raw-Forced_expiratory_volume_in_1second_FEV1',\n",
       "       '3064_raw-Peak_expiratory_flow_PEF', '3143_raw-Ankle_spacing_width',\n",
       "       '4100_raw-Ankle_spacing_width_left',\n",
       "       '4119_raw-Ankle_spacing_width_right', '48_raw-Waist_circumference',\n",
       "       '49_raw-Hip_circumference', '50_raw-Standing_height', 'body height'],\n",
       "      dtype='object')"
      ]
     },
     "metadata": {},
     "output_type": "display_data"
    },
    {
     "data": {
      "text/html": [
       "<h3>Cluster 12.7</h3>"
      ],
      "text/plain": [
       "<IPython.core.display.HTML object>"
      ]
     },
     "metadata": {},
     "output_type": "display_data"
    },
    {
     "data": {
      "text/plain": [
       "8"
      ]
     },
     "metadata": {},
     "output_type": "display_data"
    },
    {
     "data": {
      "text/plain": [
       "Index(['5096_raw-3mm_weak_meridian_left', '5097_raw-6mm_weak_meridian_left',\n",
       "       '5098_raw-6mm_weak_meridian_right', '5099_raw-3mm_weak_meridian_right',\n",
       "       '5132_raw-3mm_strong_meridian_right',\n",
       "       '5133_raw-6mm_strong_meridian_right',\n",
       "       '5134_raw-6mm_strong_meridian_left',\n",
       "       '5135_raw-3mm_strong_meridian_left'],\n",
       "      dtype='object')"
      ]
     },
     "metadata": {},
     "output_type": "display_data"
    },
    {
     "data": {
      "text/html": [
       "<h3>Cluster 12.8</h3>"
      ],
      "text/plain": [
       "<IPython.core.display.HTML object>"
      ]
     },
     "metadata": {},
     "output_type": "display_data"
    },
    {
     "data": {
      "text/plain": [
       "5"
      ]
     },
     "metadata": {},
     "output_type": "display_data"
    },
    {
     "data": {
      "text/plain": [
       "Index(['30080_raw-Platelet_count', '30090_raw-Platelet_crit',\n",
       "       '30100_raw-Mean_platelet_thrombocyte_volume',\n",
       "       '30110_raw-Platelet_distribution_width', 'platelet count'],\n",
       "      dtype='object')"
      ]
     },
     "metadata": {},
     "output_type": "display_data"
    },
    {
     "data": {
      "text/html": [
       "<h3>Cluster 12.9</h3>"
      ],
      "text/plain": [
       "<IPython.core.display.HTML object>"
      ]
     },
     "metadata": {},
     "output_type": "display_data"
    },
    {
     "data": {
      "text/plain": [
       "12"
      ]
     },
     "metadata": {},
     "output_type": "display_data"
    },
    {
     "data": {
      "text/plain": [
       "Index(['3144_raw-Heel_Broadband_ultrasound_attenuation_direct_entry',\n",
       "       '3147_raw-Heel_quantitative_ultrasound_index_QUI_direct_entry',\n",
       "       '3148_raw-Heel_bone_mineral_density_BMD',\n",
       "       '4101_raw-Heel_broadband_ultrasound_attenuation_left',\n",
       "       '4104_raw-Heel_quantitative_ultrasound_index_QUI_direct_entry_left',\n",
       "       '4105_raw-Heel_bone_mineral_density_BMD_left',\n",
       "       '4106_raw-Heel_bone_mineral_density_BMD_Tscore_automated_left',\n",
       "       '4120_raw-Heel_broadband_ultrasound_attenuation_right',\n",
       "       '4123_raw-Heel_quantitative_ultrasound_index_QUI_direct_entry_right',\n",
       "       '4124_raw-Heel_bone_mineral_density_BMD_right',\n",
       "       '4125_raw-Heel_bone_mineral_density_BMD_Tscore_automated_right',\n",
       "       '78_raw-Heel_bone_mineral_density_BMD_Tscore_automated'],\n",
       "      dtype='object')"
      ]
     },
     "metadata": {},
     "output_type": "display_data"
    },
    {
     "data": {
      "text/html": [
       "<h3>Cluster 12.10</h3>"
      ],
      "text/plain": [
       "<IPython.core.display.HTML object>"
      ]
     },
     "metadata": {},
     "output_type": "display_data"
    },
    {
     "data": {
      "text/plain": [
       "2"
      ]
     },
     "metadata": {},
     "output_type": "display_data"
    },
    {
     "data": {
      "text/plain": [
       "Index(['46_raw-Hand_grip_strength_left', '47_raw-Hand_grip_strength_right'], dtype='object')"
      ]
     },
     "metadata": {},
     "output_type": "display_data"
    },
    {
     "data": {
      "text/html": [
       "<h3>Cluster 12.11</h3>"
      ],
      "text/plain": [
       "<IPython.core.display.HTML object>"
      ]
     },
     "metadata": {},
     "output_type": "display_data"
    },
    {
     "data": {
      "text/plain": [
       "24"
      ]
     },
     "metadata": {},
     "output_type": "display_data"
    },
    {
     "data": {
      "text/plain": [
       "Index(['20003_1140861998-Treatmentmedication_code_ventolin_100micrograms_inhaler',\n",
       "       '30000_raw-White_blood_cell_leukocyte_count',\n",
       "       '30120_raw-Lymphocyte_count', '30130_raw-Monocyte_count',\n",
       "       '30140_raw-Neutrophill_count', '30150-Eosinophill_count',\n",
       "       '30180_raw-Lymphocyte_percentage', '30190_raw-Monocyte_percentage',\n",
       "       '30200_raw-Neutrophill_percentage', '30210_raw-Eosinophill_percentage',\n",
       "       '6152_100-Blood_clot_DVT_bronchitis_emphysema_asthma_rhinitis_eczema_allergy_diagnosed_by_doctor_None_of_the_above',\n",
       "       '6152_8-Blood_clot_DVT_bronchitis_emphysema_asthma_rhinitis_eczema_allergy_diagnosed_by_doctor_Asthma',\n",
       "       '6152_9-Blood_clot_DVT_bronchitis_emphysema_asthma_rhinitis_eczema_allergy_diagnosed_by_doctor_Hayfever_allergic_rhinitis_or_eczema',\n",
       "       'asthma', 'eosinophil count', 'granulocyte count', 'leukocyte count',\n",
       "       'lymphocyte count', 'monocyte count', 'myeloid white cell count',\n",
       "       'neutrophil count', 'sum of basophil and neutrophil counts',\n",
       "       'sum of eosinophil and basophil counts',\n",
       "       'sum of neutrophil and eosinophil counts'],\n",
       "      dtype='object')"
      ]
     },
     "metadata": {},
     "output_type": "display_data"
    },
    {
     "data": {
      "text/html": [
       "<h2>Partition with k=16</h2>"
      ],
      "text/plain": [
       "<IPython.core.display.HTML object>"
      ]
     },
     "metadata": {},
     "output_type": "display_data"
    },
    {
     "data": {
      "text/plain": [
       "method                                                 scc_020\n",
       "partition    [1, 1, 1, 1, 1, 1, 1, 1, 1, 1, 1, 1, 1, 1, 1, ...\n",
       "ami_mean                                              0.285224\n",
       "selected                                                  True\n",
       "Name: 16, dtype: object"
      ]
     },
     "metadata": {},
     "output_type": "display_data"
    },
    {
     "data": {
      "text/plain": [
       "(3752,)"
      ]
     },
     "metadata": {},
     "output_type": "display_data"
    },
    {
     "data": {
      "text/plain": [
       "1     3584\n",
       "0       29\n",
       "14      18\n",
       "15      15\n",
       "9       15\n",
       "13      14\n",
       "11      12\n",
       "8       12\n",
       "6        9\n",
       "7        8\n",
       "12       8\n",
       "4        7\n",
       "3        6\n",
       "10       6\n",
       "2        5\n",
       "5        4\n",
       "dtype: int64"
      ]
     },
     "metadata": {},
     "output_type": "display_data"
    },
    {
     "data": {
      "text/html": [
       "<h3>Cluster 16.0</h3>"
      ],
      "text/plain": [
       "<IPython.core.display.HTML object>"
      ]
     },
     "metadata": {},
     "output_type": "display_data"
    },
    {
     "data": {
      "text/plain": [
       "29"
      ]
     },
     "metadata": {},
     "output_type": "display_data"
    },
    {
     "data": {
      "text/plain": [
       "Index(['20015_raw-Sitting_height',\n",
       "       '20150_raw-Forced_expiratory_volume_in_1second_FEV1_Best_measure',\n",
       "       '20151_raw-Forced_vital_capacity_FVC_Best_measure',\n",
       "       '20153_raw-Forced_expiratory_volume_in_1second_FEV1_predicted',\n",
       "       '23101_raw-Whole_body_fatfree_mass', '23102_raw-Whole_body_water_mass',\n",
       "       '23105_raw-Basal_metabolic_rate', '23106_raw-Impedance_of_whole_body',\n",
       "       '23107_raw-Impedance_of_leg_right', '23108_raw-Impedance_of_leg_left',\n",
       "       '23109_raw-Impedance_of_arm_right', '23110_raw-Impedance_of_arm_left',\n",
       "       '23113_raw-Leg_fatfree_mass_right',\n",
       "       '23114_raw-Leg_predicted_mass_right', '23117_raw-Leg_fatfree_mass_left',\n",
       "       '23118_raw-Leg_predicted_mass_left', '23121_raw-Arm_fatfree_mass_right',\n",
       "       '23122_raw-Arm_predicted_mass_right', '23125_raw-Arm_fatfree_mass_left',\n",
       "       '23126_raw-Arm_predicted_mass_left', '23129_raw-Trunk_fatfree_mass',\n",
       "       '23130_raw-Trunk_predicted_mass', '3062_raw-Forced_vital_capacity_FVC',\n",
       "       '3063_raw-Forced_expiratory_volume_in_1second_FEV1',\n",
       "       '3143_raw-Ankle_spacing_width', '4100_raw-Ankle_spacing_width_left',\n",
       "       '4119_raw-Ankle_spacing_width_right', '50_raw-Standing_height',\n",
       "       'body height'],\n",
       "      dtype='object')"
      ]
     },
     "metadata": {},
     "output_type": "display_data"
    },
    {
     "data": {
      "text/html": [
       "<h3>Cluster 16.1</h3>"
      ],
      "text/plain": [
       "<IPython.core.display.HTML object>"
      ]
     },
     "metadata": {},
     "output_type": "display_data"
    },
    {
     "data": {
      "text/plain": [
       "3584"
      ]
     },
     "metadata": {},
     "output_type": "display_data"
    },
    {
     "data": {
      "text/plain": [
       "Index(['100001_raw-Food_weight', '100002_raw-Energy', '100003_raw-Protein',\n",
       "       '100004_raw-Fat', '100005_raw-Carbohydrate', '100006_raw-Saturated_fat',\n",
       "       '100007_raw-Polyunsaturated_fat', '100008_raw-Total_sugars',\n",
       "       '100009_raw-Englyst_dietary_fibre', '100010-Portion_size',\n",
       "       ...\n",
       "       'visual impairment', 'vitiligo', 'vitreous body disease',\n",
       "       'vocal cord polyp', 'voice disorders',\n",
       "       'wellbeing measurement AND family relationship', 'wheezing',\n",
       "       'whooping cough', 'worry measurement', 'wrist fracture'],\n",
       "      dtype='object', length=3584)"
      ]
     },
     "metadata": {},
     "output_type": "display_data"
    },
    {
     "data": {
      "text/html": [
       "<h3>Cluster 16.2</h3>"
      ],
      "text/plain": [
       "<IPython.core.display.HTML object>"
      ]
     },
     "metadata": {},
     "output_type": "display_data"
    },
    {
     "data": {
      "text/plain": [
       "5"
      ]
     },
     "metadata": {},
     "output_type": "display_data"
    },
    {
     "data": {
      "text/plain": [
       "Index(['30080_raw-Platelet_count', '30090_raw-Platelet_crit',\n",
       "       '30100_raw-Mean_platelet_thrombocyte_volume',\n",
       "       '30110_raw-Platelet_distribution_width', 'platelet count'],\n",
       "      dtype='object')"
      ]
     },
     "metadata": {},
     "output_type": "display_data"
    },
    {
     "data": {
      "text/html": [
       "<h3>Cluster 16.3</h3>"
      ],
      "text/plain": [
       "<IPython.core.display.HTML object>"
      ]
     },
     "metadata": {},
     "output_type": "display_data"
    },
    {
     "data": {
      "text/plain": [
       "6"
      ]
     },
     "metadata": {},
     "output_type": "display_data"
    },
    {
     "data": {
      "text/plain": [
       "Index(['30240_raw-Reticulocyte_percentage', '30250_raw-Reticulocyte_count',\n",
       "       '30280_raw-Immature_reticulocyte_fraction',\n",
       "       '30290_raw-High_light_scatter_reticulocyte_percentage',\n",
       "       '30300_raw-High_light_scatter_reticulocyte_count',\n",
       "       'reticulocyte count'],\n",
       "      dtype='object')"
      ]
     },
     "metadata": {},
     "output_type": "display_data"
    },
    {
     "data": {
      "text/html": [
       "<h3>Cluster 16.4</h3>"
      ],
      "text/plain": [
       "<IPython.core.display.HTML object>"
      ]
     },
     "metadata": {},
     "output_type": "display_data"
    },
    {
     "data": {
      "text/plain": [
       "7"
      ]
     },
     "metadata": {},
     "output_type": "display_data"
    },
    {
     "data": {
      "text/plain": [
       "Index(['1717-Skin_colour', '1727-Ease_of_skin_tanning',\n",
       "       '1747_1-Hair_colour_natural_before_greying_Blonde',\n",
       "       '1747_2-Hair_colour_natural_before_greying_Red',\n",
       "       '1747_3-Hair_colour_natural_before_greying_Light_brown',\n",
       "       '1747_4-Hair_colour_natural_before_greying_Dark_brown',\n",
       "       '1747_5-Hair_colour_natural_before_greying_Black'],\n",
       "      dtype='object')"
      ]
     },
     "metadata": {},
     "output_type": "display_data"
    },
    {
     "data": {
      "text/html": [
       "<h3>Cluster 16.5</h3>"
      ],
      "text/plain": [
       "<IPython.core.display.HTML object>"
      ]
     },
     "metadata": {},
     "output_type": "display_data"
    },
    {
     "data": {
      "text/plain": [
       "4"
      ]
     },
     "metadata": {},
     "output_type": "display_data"
    },
    {
     "data": {
      "text/plain": [
       "Index(['30150-Eosinophill_count', '30210_raw-Eosinophill_percentage',\n",
       "       'eosinophil count', 'sum of eosinophil and basophil counts'],\n",
       "      dtype='object')"
      ]
     },
     "metadata": {},
     "output_type": "display_data"
    },
    {
     "data": {
      "text/html": [
       "<h3>Cluster 16.6</h3>"
      ],
      "text/plain": [
       "<IPython.core.display.HTML object>"
      ]
     },
     "metadata": {},
     "output_type": "display_data"
    },
    {
     "data": {
      "text/plain": [
       "9"
      ]
     },
     "metadata": {},
     "output_type": "display_data"
    },
    {
     "data": {
      "text/plain": [
       "Index(['30010_raw-Red_blood_cell_erythrocyte_count',\n",
       "       '30020_raw-Haemoglobin_concentration',\n",
       "       '30030_raw-Haematocrit_percentage', '30040_raw-Mean_corpuscular_volume',\n",
       "       '30050_raw-Mean_corpuscular_haemoglobin',\n",
       "       '30070_raw-Red_blood_cell_erythrocyte_distribution_width',\n",
       "       '30260_raw-Mean_reticulocyte_volume',\n",
       "       '30270_raw-Mean_sphered_cell_volume', 'erythrocyte count'],\n",
       "      dtype='object')"
      ]
     },
     "metadata": {},
     "output_type": "display_data"
    },
    {
     "data": {
      "text/html": [
       "<h3>Cluster 16.7</h3>"
      ],
      "text/plain": [
       "<IPython.core.display.HTML object>"
      ]
     },
     "metadata": {},
     "output_type": "display_data"
    },
    {
     "data": {
      "text/plain": [
       "8"
      ]
     },
     "metadata": {},
     "output_type": "display_data"
    },
    {
     "data": {
      "text/plain": [
       "Index(['5096_raw-3mm_weak_meridian_left', '5097_raw-6mm_weak_meridian_left',\n",
       "       '5098_raw-6mm_weak_meridian_right', '5099_raw-3mm_weak_meridian_right',\n",
       "       '5132_raw-3mm_strong_meridian_right',\n",
       "       '5133_raw-6mm_strong_meridian_right',\n",
       "       '5134_raw-6mm_strong_meridian_left',\n",
       "       '5135_raw-3mm_strong_meridian_left'],\n",
       "      dtype='object')"
      ]
     },
     "metadata": {},
     "output_type": "display_data"
    },
    {
     "data": {
      "text/html": [
       "<h3>Cluster 16.8</h3>"
      ],
      "text/plain": [
       "<IPython.core.display.HTML object>"
      ]
     },
     "metadata": {},
     "output_type": "display_data"
    },
    {
     "data": {
      "text/plain": [
       "12"
      ]
     },
     "metadata": {},
     "output_type": "display_data"
    },
    {
     "data": {
      "text/plain": [
       "Index(['20003_1140883066-Treatmentmedication_code_insulin_product',\n",
       "       '20003_1141191044-Treatmentmedication_code_levothyroxine_sodium',\n",
       "       '2986-Started_insulin_within_one_year_diagnosis_of_diabetes',\n",
       "       '6144_3-Never_eat_eggs_dairy_wheat_sugar_Wheat_products',\n",
       "       'K11_COELIAC-Coeliac_disease', 'celiac disease',\n",
       "       'hyperthyroidism AND thyrotoxicosis', 'hypothyroidism AND myxedema',\n",
       "       'malabsorption syndrome', 'psoriasis', 'rheumatoid arthritis',\n",
       "       'systemic lupus erythematosus'],\n",
       "      dtype='object')"
      ]
     },
     "metadata": {},
     "output_type": "display_data"
    },
    {
     "data": {
      "text/html": [
       "<h3>Cluster 16.9</h3>"
      ],
      "text/plain": [
       "<IPython.core.display.HTML object>"
      ]
     },
     "metadata": {},
     "output_type": "display_data"
    },
    {
     "data": {
      "text/plain": [
       "15"
      ]
     },
     "metadata": {},
     "output_type": "display_data"
    },
    {
     "data": {
      "text/plain": [
       "Index(['EAGLE_Eczema', 'Jones_et_al_2016_Chronotype', 'MAGNETIC_CH2.DB.ratio',\n",
       "       'MAGNETIC_HDL.C', 'MAGNETIC_IDL.TG', 'MAGNETIC_LDL.C',\n",
       "       'alzheimer's disease', 'attention deficit hyperactivity disorder',\n",
       "       'coronary artery disease', 'estrogen-receptor negative breast cancer',\n",
       "       'estrogen-receptor positive breast cancer',\n",
       "       'family history of breast cancer', 'fasting blood glucose measurement',\n",
       "       'fasting blood insulin measurement', 'inflammatory bowel disease'],\n",
       "      dtype='object')"
      ]
     },
     "metadata": {},
     "output_type": "display_data"
    },
    {
     "data": {
      "text/html": [
       "<h3>Cluster 16.10</h3>"
      ],
      "text/plain": [
       "<IPython.core.display.HTML object>"
      ]
     },
     "metadata": {},
     "output_type": "display_data"
    },
    {
     "data": {
      "text/plain": [
       "6"
      ]
     },
     "metadata": {},
     "output_type": "display_data"
    },
    {
     "data": {
      "text/plain": [
       "Index(['30130_raw-Monocyte_count', '30180_raw-Lymphocyte_percentage',\n",
       "       '30190_raw-Monocyte_percentage', '30200_raw-Neutrophill_percentage',\n",
       "       'lymphocyte count', 'monocyte count'],\n",
       "      dtype='object')"
      ]
     },
     "metadata": {},
     "output_type": "display_data"
    },
    {
     "data": {
      "text/html": [
       "<h3>Cluster 16.11</h3>"
      ],
      "text/plain": [
       "<IPython.core.display.HTML object>"
      ]
     },
     "metadata": {},
     "output_type": "display_data"
    },
    {
     "data": {
      "text/plain": [
       "12"
      ]
     },
     "metadata": {},
     "output_type": "display_data"
    },
    {
     "data": {
      "text/plain": [
       "Index(['3144_raw-Heel_Broadband_ultrasound_attenuation_direct_entry',\n",
       "       '3147_raw-Heel_quantitative_ultrasound_index_QUI_direct_entry',\n",
       "       '3148_raw-Heel_bone_mineral_density_BMD',\n",
       "       '4101_raw-Heel_broadband_ultrasound_attenuation_left',\n",
       "       '4104_raw-Heel_quantitative_ultrasound_index_QUI_direct_entry_left',\n",
       "       '4105_raw-Heel_bone_mineral_density_BMD_left',\n",
       "       '4106_raw-Heel_bone_mineral_density_BMD_Tscore_automated_left',\n",
       "       '4120_raw-Heel_broadband_ultrasound_attenuation_right',\n",
       "       '4123_raw-Heel_quantitative_ultrasound_index_QUI_direct_entry_right',\n",
       "       '4124_raw-Heel_bone_mineral_density_BMD_right',\n",
       "       '4125_raw-Heel_bone_mineral_density_BMD_Tscore_automated_right',\n",
       "       '78_raw-Heel_bone_mineral_density_BMD_Tscore_automated'],\n",
       "      dtype='object')"
      ]
     },
     "metadata": {},
     "output_type": "display_data"
    },
    {
     "data": {
      "text/html": [
       "<h3>Cluster 16.12</h3>"
      ],
      "text/plain": [
       "<IPython.core.display.HTML object>"
      ]
     },
     "metadata": {},
     "output_type": "display_data"
    },
    {
     "data": {
      "text/plain": [
       "8"
      ]
     },
     "metadata": {},
     "output_type": "display_data"
    },
    {
     "data": {
      "text/plain": [
       "Index(['30000_raw-White_blood_cell_leukocyte_count',\n",
       "       '30140_raw-Neutrophill_count', 'granulocyte count', 'leukocyte count',\n",
       "       'myeloid white cell count', 'neutrophil count',\n",
       "       'sum of basophil and neutrophil counts',\n",
       "       'sum of neutrophil and eosinophil counts'],\n",
       "      dtype='object')"
      ]
     },
     "metadata": {},
     "output_type": "display_data"
    },
    {
     "data": {
      "text/html": [
       "<h3>Cluster 16.13</h3>"
      ],
      "text/plain": [
       "<IPython.core.display.HTML object>"
      ]
     },
     "metadata": {},
     "output_type": "display_data"
    },
    {
     "data": {
      "text/plain": [
       "14"
      ]
     },
     "metadata": {},
     "output_type": "display_data"
    },
    {
     "data": {
      "text/plain": [
       "Index(['20003_1140861958-Treatmentmedication_code_simvastatin',\n",
       "       '20003_1141194794-Treatmentmedication_code_bendroflumethiazide',\n",
       "       '4079_raw-Diastolic_blood_pressure_automated_reading',\n",
       "       '4080_raw-Systolic_blood_pressure_automated_reading',\n",
       "       '6150_100-Vascularheart_problems_diagnosed_by_doctor_None_of_the_above',\n",
       "       '6150_4-Vascularheart_problems_diagnosed_by_doctor_High_blood_pressure',\n",
       "       '6153_1-Medication_for_cholesterol_blood_pressure_diabetes_or_take_exogenous_hormones_Cholesterol_lowering_medication',\n",
       "       '6153_100-Medication_for_cholesterol_blood_pressure_diabetes_or_take_exogenous_hormones_None_of_the_above',\n",
       "       '6153_2-Medication_for_cholesterol_blood_pressure_diabetes_or_take_exogenous_hormones_Blood_pressure_medication',\n",
       "       '6177_1-Medication_for_cholesterol_blood_pressure_or_diabetes_Cholesterol_lowering_medication',\n",
       "       '6177_100-Medication_for_cholesterol_blood_pressure_or_diabetes_None_of_the_above',\n",
       "       '6177_2-Medication_for_cholesterol_blood_pressure_or_diabetes_Blood_pressure_medication',\n",
       "       'hypercholesterolemia', 'hypertension'],\n",
       "      dtype='object')"
      ]
     },
     "metadata": {},
     "output_type": "display_data"
    },
    {
     "data": {
      "text/html": [
       "<h3>Cluster 16.14</h3>"
      ],
      "text/plain": [
       "<IPython.core.display.HTML object>"
      ]
     },
     "metadata": {},
     "output_type": "display_data"
    },
    {
     "data": {
      "text/plain": [
       "18"
      ]
     },
     "metadata": {},
     "output_type": "display_data"
    },
    {
     "data": {
      "text/plain": [
       "Index(['21001_raw-Body_mass_index_BMI', '21002_raw-Weight', '23098_raw-Weight',\n",
       "       '23099_raw-Body_fat_percentage', '23100_raw-Whole_body_fat_mass',\n",
       "       '23104_raw-Body_mass_index_BMI', '23111_raw-Leg_fat_percentage_right',\n",
       "       '23112_raw-Leg_fat_mass_right', '23115_raw-Leg_fat_percentage_left',\n",
       "       '23116_raw-Leg_fat_mass_left', '23119_raw-Arm_fat_percentage_right',\n",
       "       '23120_raw-Arm_fat_mass_right', '23123_raw-Arm_fat_percentage_left',\n",
       "       '23124_raw-Arm_fat_mass_left', '23127_raw-Trunk_fat_percentage',\n",
       "       '23128_raw-Trunk_fat_mass', '48_raw-Waist_circumference',\n",
       "       '49_raw-Hip_circumference'],\n",
       "      dtype='object')"
      ]
     },
     "metadata": {},
     "output_type": "display_data"
    },
    {
     "data": {
      "text/html": [
       "<h3>Cluster 16.15</h3>"
      ],
      "text/plain": [
       "<IPython.core.display.HTML object>"
      ]
     },
     "metadata": {},
     "output_type": "display_data"
    },
    {
     "data": {
      "text/plain": [
       "15"
      ]
     },
     "metadata": {},
     "output_type": "display_data"
    },
    {
     "data": {
      "text/plain": [
       "Index(['20003_1140861998-Treatmentmedication_code_ventolin_100micrograms_inhaler',\n",
       "       '30120_raw-Lymphocyte_count',\n",
       "       '6150_1-Vascularheart_problems_diagnosed_by_doctor_Heart_attack',\n",
       "       '6152_100-Blood_clot_DVT_bronchitis_emphysema_asthma_rhinitis_eczema_allergy_diagnosed_by_doctor_None_of_the_above',\n",
       "       '6152_8-Blood_clot_DVT_bronchitis_emphysema_asthma_rhinitis_eczema_allergy_diagnosed_by_doctor_Asthma',\n",
       "       '6152_9-Blood_clot_DVT_bronchitis_emphysema_asthma_rhinitis_eczema_allergy_diagnosed_by_doctor_Hayfever_allergic_rhinitis_or_eczema',\n",
       "       'I9_CHD-Major_coronary_heart_disease_event',\n",
       "       'I9_CHD_NOREV-Major_coronary_heart_disease_event_excluding_revascularizations',\n",
       "       'I9_CORATHER-Coronary_atherosclerosis',\n",
       "       'I9_IHD-Ischaemic_heart_disease_wide_definition',\n",
       "       'I9_MI-Myocardial_infarction',\n",
       "       'I9_MI_STRICT-Myocardial_infarction_strict',\n",
       "       'acute myocardial infarction', 'asthma', 'myocardial infarction'],\n",
       "      dtype='object')"
      ]
     },
     "metadata": {},
     "output_type": "display_data"
    },
    {
     "data": {
      "text/html": [
       "<h2>Partition with k=17</h2>"
      ],
      "text/plain": [
       "<IPython.core.display.HTML object>"
      ]
     },
     "metadata": {},
     "output_type": "display_data"
    },
    {
     "data": {
      "text/plain": [
       "method                                                 scc_020\n",
       "partition    [1, 1, 1, 1, 1, 1, 1, 1, 1, 1, 1, 1, 1, 1, 1, ...\n",
       "ami_mean                                              0.285774\n",
       "selected                                                  True\n",
       "Name: 17, dtype: object"
      ]
     },
     "metadata": {},
     "output_type": "display_data"
    },
    {
     "data": {
      "text/plain": [
       "(3752,)"
      ]
     },
     "metadata": {},
     "output_type": "display_data"
    },
    {
     "data": {
      "text/plain": [
       "1     3585\n",
       "15      29\n",
       "0       18\n",
       "11      15\n",
       "14      14\n",
       "12      12\n",
       "10      12\n",
       "3        9\n",
       "13       9\n",
       "7        8\n",
       "6        8\n",
       "2        7\n",
       "9        6\n",
       "8        6\n",
       "4        5\n",
       "16       5\n",
       "5        4\n",
       "dtype: int64"
      ]
     },
     "metadata": {},
     "output_type": "display_data"
    },
    {
     "data": {
      "text/html": [
       "<h3>Cluster 17.0</h3>"
      ],
      "text/plain": [
       "<IPython.core.display.HTML object>"
      ]
     },
     "metadata": {},
     "output_type": "display_data"
    },
    {
     "data": {
      "text/plain": [
       "18"
      ]
     },
     "metadata": {},
     "output_type": "display_data"
    },
    {
     "data": {
      "text/plain": [
       "Index(['21001_raw-Body_mass_index_BMI', '21002_raw-Weight', '23098_raw-Weight',\n",
       "       '23099_raw-Body_fat_percentage', '23100_raw-Whole_body_fat_mass',\n",
       "       '23104_raw-Body_mass_index_BMI', '23111_raw-Leg_fat_percentage_right',\n",
       "       '23112_raw-Leg_fat_mass_right', '23115_raw-Leg_fat_percentage_left',\n",
       "       '23116_raw-Leg_fat_mass_left', '23119_raw-Arm_fat_percentage_right',\n",
       "       '23120_raw-Arm_fat_mass_right', '23123_raw-Arm_fat_percentage_left',\n",
       "       '23124_raw-Arm_fat_mass_left', '23127_raw-Trunk_fat_percentage',\n",
       "       '23128_raw-Trunk_fat_mass', '48_raw-Waist_circumference',\n",
       "       '49_raw-Hip_circumference'],\n",
       "      dtype='object')"
      ]
     },
     "metadata": {},
     "output_type": "display_data"
    },
    {
     "data": {
      "text/html": [
       "<h3>Cluster 17.1</h3>"
      ],
      "text/plain": [
       "<IPython.core.display.HTML object>"
      ]
     },
     "metadata": {},
     "output_type": "display_data"
    },
    {
     "data": {
      "text/plain": [
       "3585"
      ]
     },
     "metadata": {},
     "output_type": "display_data"
    },
    {
     "data": {
      "text/plain": [
       "Index(['100001_raw-Food_weight', '100002_raw-Energy', '100003_raw-Protein',\n",
       "       '100004_raw-Fat', '100005_raw-Carbohydrate', '100006_raw-Saturated_fat',\n",
       "       '100007_raw-Polyunsaturated_fat', '100008_raw-Total_sugars',\n",
       "       '100009_raw-Englyst_dietary_fibre', '100010-Portion_size',\n",
       "       ...\n",
       "       'visual impairment', 'vitiligo', 'vitreous body disease',\n",
       "       'vocal cord polyp', 'voice disorders',\n",
       "       'wellbeing measurement AND family relationship', 'wheezing',\n",
       "       'whooping cough', 'worry measurement', 'wrist fracture'],\n",
       "      dtype='object', length=3585)"
      ]
     },
     "metadata": {},
     "output_type": "display_data"
    },
    {
     "data": {
      "text/html": [
       "<h3>Cluster 17.2</h3>"
      ],
      "text/plain": [
       "<IPython.core.display.HTML object>"
      ]
     },
     "metadata": {},
     "output_type": "display_data"
    },
    {
     "data": {
      "text/plain": [
       "7"
      ]
     },
     "metadata": {},
     "output_type": "display_data"
    },
    {
     "data": {
      "text/plain": [
       "Index(['1717-Skin_colour', '1727-Ease_of_skin_tanning',\n",
       "       '1747_1-Hair_colour_natural_before_greying_Blonde',\n",
       "       '1747_2-Hair_colour_natural_before_greying_Red',\n",
       "       '1747_3-Hair_colour_natural_before_greying_Light_brown',\n",
       "       '1747_4-Hair_colour_natural_before_greying_Dark_brown',\n",
       "       '1747_5-Hair_colour_natural_before_greying_Black'],\n",
       "      dtype='object')"
      ]
     },
     "metadata": {},
     "output_type": "display_data"
    },
    {
     "data": {
      "text/html": [
       "<h3>Cluster 17.3</h3>"
      ],
      "text/plain": [
       "<IPython.core.display.HTML object>"
      ]
     },
     "metadata": {},
     "output_type": "display_data"
    },
    {
     "data": {
      "text/plain": [
       "9"
      ]
     },
     "metadata": {},
     "output_type": "display_data"
    },
    {
     "data": {
      "text/plain": [
       "Index(['30010_raw-Red_blood_cell_erythrocyte_count',\n",
       "       '30020_raw-Haemoglobin_concentration',\n",
       "       '30030_raw-Haematocrit_percentage', '30040_raw-Mean_corpuscular_volume',\n",
       "       '30050_raw-Mean_corpuscular_haemoglobin',\n",
       "       '30070_raw-Red_blood_cell_erythrocyte_distribution_width',\n",
       "       '30260_raw-Mean_reticulocyte_volume',\n",
       "       '30270_raw-Mean_sphered_cell_volume', 'erythrocyte count'],\n",
       "      dtype='object')"
      ]
     },
     "metadata": {},
     "output_type": "display_data"
    },
    {
     "data": {
      "text/html": [
       "<h3>Cluster 17.4</h3>"
      ],
      "text/plain": [
       "<IPython.core.display.HTML object>"
      ]
     },
     "metadata": {},
     "output_type": "display_data"
    },
    {
     "data": {
      "text/plain": [
       "5"
      ]
     },
     "metadata": {},
     "output_type": "display_data"
    },
    {
     "data": {
      "text/plain": [
       "Index(['30080_raw-Platelet_count', '30090_raw-Platelet_crit',\n",
       "       '30100_raw-Mean_platelet_thrombocyte_volume',\n",
       "       '30110_raw-Platelet_distribution_width', 'platelet count'],\n",
       "      dtype='object')"
      ]
     },
     "metadata": {},
     "output_type": "display_data"
    },
    {
     "data": {
      "text/html": [
       "<h3>Cluster 17.5</h3>"
      ],
      "text/plain": [
       "<IPython.core.display.HTML object>"
      ]
     },
     "metadata": {},
     "output_type": "display_data"
    },
    {
     "data": {
      "text/plain": [
       "4"
      ]
     },
     "metadata": {},
     "output_type": "display_data"
    },
    {
     "data": {
      "text/plain": [
       "Index(['30150-Eosinophill_count', '30210_raw-Eosinophill_percentage',\n",
       "       'eosinophil count', 'sum of eosinophil and basophil counts'],\n",
       "      dtype='object')"
      ]
     },
     "metadata": {},
     "output_type": "display_data"
    },
    {
     "data": {
      "text/html": [
       "<h3>Cluster 17.6</h3>"
      ],
      "text/plain": [
       "<IPython.core.display.HTML object>"
      ]
     },
     "metadata": {},
     "output_type": "display_data"
    },
    {
     "data": {
      "text/plain": [
       "8"
      ]
     },
     "metadata": {},
     "output_type": "display_data"
    },
    {
     "data": {
      "text/plain": [
       "Index(['5096_raw-3mm_weak_meridian_left', '5097_raw-6mm_weak_meridian_left',\n",
       "       '5098_raw-6mm_weak_meridian_right', '5099_raw-3mm_weak_meridian_right',\n",
       "       '5132_raw-3mm_strong_meridian_right',\n",
       "       '5133_raw-6mm_strong_meridian_right',\n",
       "       '5134_raw-6mm_strong_meridian_left',\n",
       "       '5135_raw-3mm_strong_meridian_left'],\n",
       "      dtype='object')"
      ]
     },
     "metadata": {},
     "output_type": "display_data"
    },
    {
     "data": {
      "text/html": [
       "<h3>Cluster 17.7</h3>"
      ],
      "text/plain": [
       "<IPython.core.display.HTML object>"
      ]
     },
     "metadata": {},
     "output_type": "display_data"
    },
    {
     "data": {
      "text/plain": [
       "8"
      ]
     },
     "metadata": {},
     "output_type": "display_data"
    },
    {
     "data": {
      "text/plain": [
       "Index(['30000_raw-White_blood_cell_leukocyte_count',\n",
       "       '30140_raw-Neutrophill_count', 'granulocyte count', 'leukocyte count',\n",
       "       'myeloid white cell count', 'neutrophil count',\n",
       "       'sum of basophil and neutrophil counts',\n",
       "       'sum of neutrophil and eosinophil counts'],\n",
       "      dtype='object')"
      ]
     },
     "metadata": {},
     "output_type": "display_data"
    },
    {
     "data": {
      "text/html": [
       "<h3>Cluster 17.8</h3>"
      ],
      "text/plain": [
       "<IPython.core.display.HTML object>"
      ]
     },
     "metadata": {},
     "output_type": "display_data"
    },
    {
     "data": {
      "text/plain": [
       "6"
      ]
     },
     "metadata": {},
     "output_type": "display_data"
    },
    {
     "data": {
      "text/plain": [
       "Index(['30240_raw-Reticulocyte_percentage', '30250_raw-Reticulocyte_count',\n",
       "       '30280_raw-Immature_reticulocyte_fraction',\n",
       "       '30290_raw-High_light_scatter_reticulocyte_percentage',\n",
       "       '30300_raw-High_light_scatter_reticulocyte_count',\n",
       "       'reticulocyte count'],\n",
       "      dtype='object')"
      ]
     },
     "metadata": {},
     "output_type": "display_data"
    },
    {
     "data": {
      "text/html": [
       "<h3>Cluster 17.9</h3>"
      ],
      "text/plain": [
       "<IPython.core.display.HTML object>"
      ]
     },
     "metadata": {},
     "output_type": "display_data"
    },
    {
     "data": {
      "text/plain": [
       "6"
      ]
     },
     "metadata": {},
     "output_type": "display_data"
    },
    {
     "data": {
      "text/plain": [
       "Index(['30130_raw-Monocyte_count', '30180_raw-Lymphocyte_percentage',\n",
       "       '30190_raw-Monocyte_percentage', '30200_raw-Neutrophill_percentage',\n",
       "       'lymphocyte count', 'monocyte count'],\n",
       "      dtype='object')"
      ]
     },
     "metadata": {},
     "output_type": "display_data"
    },
    {
     "data": {
      "text/html": [
       "<h3>Cluster 17.10</h3>"
      ],
      "text/plain": [
       "<IPython.core.display.HTML object>"
      ]
     },
     "metadata": {},
     "output_type": "display_data"
    },
    {
     "data": {
      "text/plain": [
       "12"
      ]
     },
     "metadata": {},
     "output_type": "display_data"
    },
    {
     "data": {
      "text/plain": [
       "Index(['20003_1140883066-Treatmentmedication_code_insulin_product',\n",
       "       '20003_1141191044-Treatmentmedication_code_levothyroxine_sodium',\n",
       "       '2986-Started_insulin_within_one_year_diagnosis_of_diabetes',\n",
       "       '6144_3-Never_eat_eggs_dairy_wheat_sugar_Wheat_products',\n",
       "       'K11_COELIAC-Coeliac_disease', 'celiac disease',\n",
       "       'hyperthyroidism AND thyrotoxicosis', 'hypothyroidism AND myxedema',\n",
       "       'malabsorption syndrome', 'psoriasis', 'rheumatoid arthritis',\n",
       "       'systemic lupus erythematosus'],\n",
       "      dtype='object')"
      ]
     },
     "metadata": {},
     "output_type": "display_data"
    },
    {
     "data": {
      "text/html": [
       "<h3>Cluster 17.11</h3>"
      ],
      "text/plain": [
       "<IPython.core.display.HTML object>"
      ]
     },
     "metadata": {},
     "output_type": "display_data"
    },
    {
     "data": {
      "text/plain": [
       "15"
      ]
     },
     "metadata": {},
     "output_type": "display_data"
    },
    {
     "data": {
      "text/plain": [
       "Index(['EAGLE_Eczema', 'Jones_et_al_2016_Chronotype', 'MAGNETIC_CH2.DB.ratio',\n",
       "       'MAGNETIC_HDL.C', 'MAGNETIC_IDL.TG', 'MAGNETIC_LDL.C',\n",
       "       'alzheimer's disease', 'attention deficit hyperactivity disorder',\n",
       "       'coronary artery disease', 'estrogen-receptor negative breast cancer',\n",
       "       'estrogen-receptor positive breast cancer',\n",
       "       'family history of breast cancer', 'fasting blood glucose measurement',\n",
       "       'fasting blood insulin measurement', 'inflammatory bowel disease'],\n",
       "      dtype='object')"
      ]
     },
     "metadata": {},
     "output_type": "display_data"
    },
    {
     "data": {
      "text/html": [
       "<h3>Cluster 17.12</h3>"
      ],
      "text/plain": [
       "<IPython.core.display.HTML object>"
      ]
     },
     "metadata": {},
     "output_type": "display_data"
    },
    {
     "data": {
      "text/plain": [
       "12"
      ]
     },
     "metadata": {},
     "output_type": "display_data"
    },
    {
     "data": {
      "text/plain": [
       "Index(['3144_raw-Heel_Broadband_ultrasound_attenuation_direct_entry',\n",
       "       '3147_raw-Heel_quantitative_ultrasound_index_QUI_direct_entry',\n",
       "       '3148_raw-Heel_bone_mineral_density_BMD',\n",
       "       '4101_raw-Heel_broadband_ultrasound_attenuation_left',\n",
       "       '4104_raw-Heel_quantitative_ultrasound_index_QUI_direct_entry_left',\n",
       "       '4105_raw-Heel_bone_mineral_density_BMD_left',\n",
       "       '4106_raw-Heel_bone_mineral_density_BMD_Tscore_automated_left',\n",
       "       '4120_raw-Heel_broadband_ultrasound_attenuation_right',\n",
       "       '4123_raw-Heel_quantitative_ultrasound_index_QUI_direct_entry_right',\n",
       "       '4124_raw-Heel_bone_mineral_density_BMD_right',\n",
       "       '4125_raw-Heel_bone_mineral_density_BMD_Tscore_automated_right',\n",
       "       '78_raw-Heel_bone_mineral_density_BMD_Tscore_automated'],\n",
       "      dtype='object')"
      ]
     },
     "metadata": {},
     "output_type": "display_data"
    },
    {
     "data": {
      "text/html": [
       "<h3>Cluster 17.13</h3>"
      ],
      "text/plain": [
       "<IPython.core.display.HTML object>"
      ]
     },
     "metadata": {},
     "output_type": "display_data"
    },
    {
     "data": {
      "text/plain": [
       "9"
      ]
     },
     "metadata": {},
     "output_type": "display_data"
    },
    {
     "data": {
      "text/plain": [
       "Index(['6150_1-Vascularheart_problems_diagnosed_by_doctor_Heart_attack',\n",
       "       'I9_CHD-Major_coronary_heart_disease_event',\n",
       "       'I9_CHD_NOREV-Major_coronary_heart_disease_event_excluding_revascularizations',\n",
       "       'I9_CORATHER-Coronary_atherosclerosis',\n",
       "       'I9_IHD-Ischaemic_heart_disease_wide_definition',\n",
       "       'I9_MI-Myocardial_infarction',\n",
       "       'I9_MI_STRICT-Myocardial_infarction_strict',\n",
       "       'acute myocardial infarction', 'myocardial infarction'],\n",
       "      dtype='object')"
      ]
     },
     "metadata": {},
     "output_type": "display_data"
    },
    {
     "data": {
      "text/html": [
       "<h3>Cluster 17.14</h3>"
      ],
      "text/plain": [
       "<IPython.core.display.HTML object>"
      ]
     },
     "metadata": {},
     "output_type": "display_data"
    },
    {
     "data": {
      "text/plain": [
       "14"
      ]
     },
     "metadata": {},
     "output_type": "display_data"
    },
    {
     "data": {
      "text/plain": [
       "Index(['20003_1140861958-Treatmentmedication_code_simvastatin',\n",
       "       '20003_1141194794-Treatmentmedication_code_bendroflumethiazide',\n",
       "       '4079_raw-Diastolic_blood_pressure_automated_reading',\n",
       "       '4080_raw-Systolic_blood_pressure_automated_reading',\n",
       "       '6150_100-Vascularheart_problems_diagnosed_by_doctor_None_of_the_above',\n",
       "       '6150_4-Vascularheart_problems_diagnosed_by_doctor_High_blood_pressure',\n",
       "       '6153_1-Medication_for_cholesterol_blood_pressure_diabetes_or_take_exogenous_hormones_Cholesterol_lowering_medication',\n",
       "       '6153_100-Medication_for_cholesterol_blood_pressure_diabetes_or_take_exogenous_hormones_None_of_the_above',\n",
       "       '6153_2-Medication_for_cholesterol_blood_pressure_diabetes_or_take_exogenous_hormones_Blood_pressure_medication',\n",
       "       '6177_1-Medication_for_cholesterol_blood_pressure_or_diabetes_Cholesterol_lowering_medication',\n",
       "       '6177_100-Medication_for_cholesterol_blood_pressure_or_diabetes_None_of_the_above',\n",
       "       '6177_2-Medication_for_cholesterol_blood_pressure_or_diabetes_Blood_pressure_medication',\n",
       "       'hypercholesterolemia', 'hypertension'],\n",
       "      dtype='object')"
      ]
     },
     "metadata": {},
     "output_type": "display_data"
    },
    {
     "data": {
      "text/html": [
       "<h3>Cluster 17.15</h3>"
      ],
      "text/plain": [
       "<IPython.core.display.HTML object>"
      ]
     },
     "metadata": {},
     "output_type": "display_data"
    },
    {
     "data": {
      "text/plain": [
       "29"
      ]
     },
     "metadata": {},
     "output_type": "display_data"
    },
    {
     "data": {
      "text/plain": [
       "Index(['20015_raw-Sitting_height',\n",
       "       '20150_raw-Forced_expiratory_volume_in_1second_FEV1_Best_measure',\n",
       "       '20151_raw-Forced_vital_capacity_FVC_Best_measure',\n",
       "       '20153_raw-Forced_expiratory_volume_in_1second_FEV1_predicted',\n",
       "       '23101_raw-Whole_body_fatfree_mass', '23102_raw-Whole_body_water_mass',\n",
       "       '23105_raw-Basal_metabolic_rate', '23106_raw-Impedance_of_whole_body',\n",
       "       '23107_raw-Impedance_of_leg_right', '23108_raw-Impedance_of_leg_left',\n",
       "       '23109_raw-Impedance_of_arm_right', '23110_raw-Impedance_of_arm_left',\n",
       "       '23113_raw-Leg_fatfree_mass_right',\n",
       "       '23114_raw-Leg_predicted_mass_right', '23117_raw-Leg_fatfree_mass_left',\n",
       "       '23118_raw-Leg_predicted_mass_left', '23121_raw-Arm_fatfree_mass_right',\n",
       "       '23122_raw-Arm_predicted_mass_right', '23125_raw-Arm_fatfree_mass_left',\n",
       "       '23126_raw-Arm_predicted_mass_left', '23129_raw-Trunk_fatfree_mass',\n",
       "       '23130_raw-Trunk_predicted_mass', '3062_raw-Forced_vital_capacity_FVC',\n",
       "       '3063_raw-Forced_expiratory_volume_in_1second_FEV1',\n",
       "       '3143_raw-Ankle_spacing_width', '4100_raw-Ankle_spacing_width_left',\n",
       "       '4119_raw-Ankle_spacing_width_right', '50_raw-Standing_height',\n",
       "       'body height'],\n",
       "      dtype='object')"
      ]
     },
     "metadata": {},
     "output_type": "display_data"
    },
    {
     "data": {
      "text/html": [
       "<h3>Cluster 17.16</h3>"
      ],
      "text/plain": [
       "<IPython.core.display.HTML object>"
      ]
     },
     "metadata": {},
     "output_type": "display_data"
    },
    {
     "data": {
      "text/plain": [
       "5"
      ]
     },
     "metadata": {},
     "output_type": "display_data"
    },
    {
     "data": {
      "text/plain": [
       "Index(['30120_raw-Lymphocyte_count',\n",
       "       '6152_100-Blood_clot_DVT_bronchitis_emphysema_asthma_rhinitis_eczema_allergy_diagnosed_by_doctor_None_of_the_above',\n",
       "       '6152_8-Blood_clot_DVT_bronchitis_emphysema_asthma_rhinitis_eczema_allergy_diagnosed_by_doctor_Asthma',\n",
       "       '6152_9-Blood_clot_DVT_bronchitis_emphysema_asthma_rhinitis_eczema_allergy_diagnosed_by_doctor_Hayfever_allergic_rhinitis_or_eczema',\n",
       "       'asthma'],\n",
       "      dtype='object')"
      ]
     },
     "metadata": {},
     "output_type": "display_data"
    },
    {
     "data": {
      "text/html": [
       "<h2>Partition with k=40</h2>"
      ],
      "text/plain": [
       "<IPython.core.display.HTML object>"
      ]
     },
     "metadata": {},
     "output_type": "display_data"
    },
    {
     "data": {
      "text/plain": [
       "method                              eac_average_coassoc_matrix\n",
       "partition    [25, 25, 25, 25, 25, 25, 25, 25, 25, 0, 25, 25...\n",
       "ami_mean                                              0.286107\n",
       "selected                                                  True\n",
       "Name: 40, dtype: object"
      ]
     },
     "metadata": {},
     "output_type": "display_data"
    },
    {
     "data": {
      "text/plain": [
       "(3752,)"
      ]
     },
     "metadata": {},
     "output_type": "display_data"
    },
    {
     "data": {
      "text/plain": [
       "9     766\n",
       "0     747\n",
       "1     715\n",
       "4     453\n",
       "30    266\n",
       "14    241\n",
       "7     218\n",
       "13     49\n",
       "2      24\n",
       "15     21\n",
       "3      19\n",
       "25     18\n",
       "12     17\n",
       "19     17\n",
       "27     15\n",
       "29     15\n",
       "10     15\n",
       "5      15\n",
       "39     12\n",
       "24     11\n",
       "11     10\n",
       "32      8\n",
       "33      8\n",
       "22      8\n",
       "26      7\n",
       "16      7\n",
       "6       7\n",
       "18      6\n",
       "17      5\n",
       "37      5\n",
       "23      5\n",
       "36      4\n",
       "35      4\n",
       "8       3\n",
       "20      3\n",
       "28      3\n",
       "21      2\n",
       "31      1\n",
       "34      1\n",
       "38      1\n",
       "dtype: int64"
      ]
     },
     "metadata": {},
     "output_type": "display_data"
    },
    {
     "data": {
      "text/html": [
       "<h3>Cluster 40.0</h3>"
      ],
      "text/plain": [
       "<IPython.core.display.HTML object>"
      ]
     },
     "metadata": {},
     "output_type": "display_data"
    },
    {
     "data": {
      "text/plain": [
       "747"
      ]
     },
     "metadata": {},
     "output_type": "display_data"
    },
    {
     "data": {
      "text/plain": [
       "Index(['100010-Portion_size', '100013_raw-Vitamin_B12', '100018_raw-Retinol',\n",
       "       '100019_raw-Carotene', '100021_raw-Vitamin_D', '100022-Alcohol',\n",
       "       '1001-Duration_of_strenuous_sports', '100150-Drinking_water_intake',\n",
       "       '100160-Low_calorie_drink_intake', '100170-Fizzy_drink_intake',\n",
       "       ...\n",
       "       'viral human hepatitis infection', 'viral meningitis',\n",
       "       'visual impairment', 'vitiligo', 'vitreous body disease',\n",
       "       'vocal cord polyp', 'voice disorders',\n",
       "       'wellbeing measurement AND family relationship', 'whooping cough',\n",
       "       'wrist fracture'],\n",
       "      dtype='object', length=747)"
      ]
     },
     "metadata": {},
     "output_type": "display_data"
    },
    {
     "data": {
      "text/html": [
       "<h3>Cluster 40.1</h3>"
      ],
      "text/plain": [
       "<IPython.core.display.HTML object>"
      ]
     },
     "metadata": {},
     "output_type": "display_data"
    },
    {
     "data": {
      "text/plain": [
       "715"
      ]
     },
     "metadata": {},
     "output_type": "display_data"
    },
    {
     "data": {
      "text/plain": [
       "Index(['40001_C719-Underlying_primary_cause_of_death_ICD10_C719_Brain_unspecified',\n",
       "       '40001_G122-Underlying_primary_cause_of_death_ICD10_G122_Motor_neuron_disease',\n",
       "       '6152_6-Blood_clot_DVT_bronchitis_emphysema_asthma_rhinitis_eczema_allergy_diagnosed_by_doctor_Emphysemachronic_bronchitis',\n",
       "       '6157_100-Why_stopped_smoking_None_of_the_above',\n",
       "       '6157_3-Why_stopped_smoking_Health_precaution',\n",
       "       '6157_4-Why_stopped_smoking_Financial_reasons',\n",
       "       '6160_5-Leisuresocial_activities_Other_group_activity',\n",
       "       '6162_3-Types_of_transport_used_excluding_work_Public_transport',\n",
       "       '6179_4-Mineral_and_other_dietary_supplements_Zinc',\n",
       "       '6179_5-Mineral_and_other_dietary_supplements_Iron',\n",
       "       ...\n",
       "       'pigmentation disease', 'polyneuropathy', 'purpura',\n",
       "       'retinal detachment', 'retinal vein occlusion',\n",
       "       'skeletal system disease', 'skin disease', 'suppurative otitis media',\n",
       "       'tenosynovitis', 'vasculitis'],\n",
       "      dtype='object', length=715)"
      ]
     },
     "metadata": {},
     "output_type": "display_data"
    },
    {
     "data": {
      "text/html": [
       "<h3>Cluster 40.2</h3>"
      ],
      "text/plain": [
       "<IPython.core.display.HTML object>"
      ]
     },
     "metadata": {},
     "output_type": "display_data"
    },
    {
     "data": {
      "text/plain": [
       "24"
      ]
     },
     "metadata": {},
     "output_type": "display_data"
    },
    {
     "data": {
      "text/plain": [
       "Index(['20003_1140861998-Treatmentmedication_code_ventolin_100micrograms_inhaler',\n",
       "       '30000_raw-White_blood_cell_leukocyte_count',\n",
       "       '30120_raw-Lymphocyte_count', '30130_raw-Monocyte_count',\n",
       "       '30140_raw-Neutrophill_count', '30150-Eosinophill_count',\n",
       "       '30180_raw-Lymphocyte_percentage', '30190_raw-Monocyte_percentage',\n",
       "       '30200_raw-Neutrophill_percentage', '30210_raw-Eosinophill_percentage',\n",
       "       '6152_100-Blood_clot_DVT_bronchitis_emphysema_asthma_rhinitis_eczema_allergy_diagnosed_by_doctor_None_of_the_above',\n",
       "       '6152_8-Blood_clot_DVT_bronchitis_emphysema_asthma_rhinitis_eczema_allergy_diagnosed_by_doctor_Asthma',\n",
       "       '6152_9-Blood_clot_DVT_bronchitis_emphysema_asthma_rhinitis_eczema_allergy_diagnosed_by_doctor_Hayfever_allergic_rhinitis_or_eczema',\n",
       "       'asthma', 'eosinophil count', 'granulocyte count', 'leukocyte count',\n",
       "       'lymphocyte count', 'monocyte count', 'myeloid white cell count',\n",
       "       'neutrophil count', 'sum of basophil and neutrophil counts',\n",
       "       'sum of eosinophil and basophil counts',\n",
       "       'sum of neutrophil and eosinophil counts'],\n",
       "      dtype='object')"
      ]
     },
     "metadata": {},
     "output_type": "display_data"
    },
    {
     "data": {
      "text/html": [
       "<h3>Cluster 40.3</h3>"
      ],
      "text/plain": [
       "<IPython.core.display.HTML object>"
      ]
     },
     "metadata": {},
     "output_type": "display_data"
    },
    {
     "data": {
      "text/plain": [
       "19"
      ]
     },
     "metadata": {},
     "output_type": "display_data"
    },
    {
     "data": {
      "text/plain": [
       "Index(['EAGLE_Eczema', 'Jones_et_al_2016_Chronotype', 'MAGNETIC_CH2.DB.ratio',\n",
       "       'MAGNETIC_HDL.C', 'MAGNETIC_IDL.TG', 'MAGNETIC_LDL.C',\n",
       "       'SSGAC_Education_Years_Pooled', 'alzheimer's disease',\n",
       "       'attention deficit hyperactivity disorder', 'bone density',\n",
       "       'coronary artery disease', 'estrogen-receptor negative breast cancer',\n",
       "       'estrogen-receptor positive breast cancer',\n",
       "       'family history of breast cancer', 'fasting blood glucose measurement',\n",
       "       'fasting blood insulin measurement', 'inflammatory bowel disease',\n",
       "       'intracranial volume measurement', 'schizophrenia'],\n",
       "      dtype='object')"
      ]
     },
     "metadata": {},
     "output_type": "display_data"
    },
    {
     "data": {
      "text/html": [
       "<h3>Cluster 40.4</h3>"
      ],
      "text/plain": [
       "<IPython.core.display.HTML object>"
      ]
     },
     "metadata": {},
     "output_type": "display_data"
    },
    {
     "data": {
      "text/plain": [
       "453"
      ]
     },
     "metadata": {},
     "output_type": "display_data"
    },
    {
     "data": {
      "text/plain": [
       "Index(['20003_1140879616-Treatmentmedication_code_amitriptyline',\n",
       "       '20003_1140879630-Treatmentmedication_code_imipramine',\n",
       "       '20003_1140879634-Treatmentmedication_code_trazodone',\n",
       "       '20003_1140879762-Treatmentmedication_code_celiprolol',\n",
       "       '20003_1140879778-Treatmentmedication_code_doxazosin',\n",
       "       '20003_1140879792-Treatmentmedication_code_terbutaline',\n",
       "       '20003_1140879798-Treatmentmedication_code_terazosin',\n",
       "       '20003_1140879818-Treatmentmedication_code_metoprolol',\n",
       "       '20003_1140880086-Treatmentmedication_code_calcipotriol',\n",
       "       '20003_1140881446-Treatmentmedication_code_proctosedyl_ointment',\n",
       "       ...\n",
       "       '20112_13-Illnesses_of_adopted_father_Prostate_cancer',\n",
       "       '20112_2-Illnesses_of_adopted_father_Stroke',\n",
       "       '20112_3-Illnesses_of_adopted_father_Lung_cancer',\n",
       "       '20112_4-Illnesses_of_adopted_father_Bowel_cancer',\n",
       "       '20112_6-Illnesses_of_adopted_father_Chronic_bronchitisemphysema',\n",
       "       '20113_1-Illnesses_of_adopted_mother_Heart_disease',\n",
       "       '20113_100-Illnesses_of_adopted_mother_None_of_the_above_group_1',\n",
       "       '20113_12-Illnesses_of_adopted_mother_Severe_depression',\n",
       "       '20113_3-Illnesses_of_adopted_mother_Lung_cancer',\n",
       "       '20113_6-Illnesses_of_adopted_mother_Chronic_bronchitisemphysema'],\n",
       "      dtype='object', length=453)"
      ]
     },
     "metadata": {},
     "output_type": "display_data"
    },
    {
     "data": {
      "text/html": [
       "<h3>Cluster 40.5</h3>"
      ],
      "text/plain": [
       "<IPython.core.display.HTML object>"
      ]
     },
     "metadata": {},
     "output_type": "display_data"
    },
    {
     "data": {
      "text/plain": [
       "15"
      ]
     },
     "metadata": {},
     "output_type": "display_data"
    },
    {
     "data": {
      "text/plain": [
       "Index(['20003_1140884516-Treatmentmedication_code_thyroxine_product',\n",
       "       '6149_1-Mouthteeth_dental_problems_Mouth_ulcers',\n",
       "       'K11_OTHDIG-Other_diseases_of_the_digestive_system',\n",
       "       'M13_POLYARTHROPATHIES-Polyarthropathies',\n",
       "       'M13_RHEUMA-Rheumatoid_arthritis',\n",
       "       'RHEUMA_NOS-Otherunspecified_rheumatoid_arthritis',\n",
       "       'RHEUMA_SEROPOS-Seropositive_rheumatoid_arthritis',\n",
       "       'RHEUMA_SEROPOS_OTH-Otherunspecified_seropositiverheumatoid_arthritis',\n",
       "       'STILL_ADULT-Adultonset_Still_disease', 'adrenocortical insufficiency',\n",
       "       'ankylosing spondylitis', 'benign prostatic hyperplasia', 'hematuria',\n",
       "       'multiple sclerosis', 'psoriatic arthritis'],\n",
       "      dtype='object')"
      ]
     },
     "metadata": {},
     "output_type": "display_data"
    },
    {
     "data": {
      "text/html": [
       "<h3>Cluster 40.6</h3>"
      ],
      "text/plain": [
       "<IPython.core.display.HTML object>"
      ]
     },
     "metadata": {},
     "output_type": "display_data"
    },
    {
     "data": {
      "text/plain": [
       "7"
      ]
     },
     "metadata": {},
     "output_type": "display_data"
    },
    {
     "data": {
      "text/plain": [
       "Index(['20003_1140860696-Treatmentmedication_code_lisinopril',\n",
       "       '20003_1140860806-Treatmentmedication_code_ramipril',\n",
       "       '20003_1140866738-Treatmentmedication_code_atenolol',\n",
       "       '20003_1140875408-Treatmentmedication_code_allopurinol',\n",
       "       '20003_1140884600-Treatmentmedication_code_metformin',\n",
       "       'diabetes mellitus', 'gout'],\n",
       "      dtype='object')"
      ]
     },
     "metadata": {},
     "output_type": "display_data"
    },
    {
     "data": {
      "text/html": [
       "<h3>Cluster 40.7</h3>"
      ],
      "text/plain": [
       "<IPython.core.display.HTML object>"
      ]
     },
     "metadata": {},
     "output_type": "display_data"
    },
    {
     "data": {
      "text/plain": [
       "218"
      ]
     },
     "metadata": {},
     "output_type": "display_data"
    },
    {
     "data": {
      "text/plain": [
       "Index(['40001_C259-Underlying_primary_cause_of_death_ICD10_C259_Pancreas_unspecified',\n",
       "       '40001_C459-Underlying_primary_cause_of_death_ICD10_C459_Mesothelioma_unspecified',\n",
       "       '41248_3001-Destinations_on_discharge_from_hospital_recoded_High_security_psychiatric_hospital_NHS',\n",
       "       '41248_5003-Destinations_on_discharge_from_hospital_recoded_Transfer_to_other_NHS_provider_Psychiatry_learning_disabilities',\n",
       "       '41248_6000-Destinations_on_discharge_from_hospital_recoded_Transfer_within_NHS_provider',\n",
       "       '4233_raw-Mean_signaltonoise_ratio_SNR_left',\n",
       "       '4244_raw-Mean_signaltonoise_ratio_SNR_right',\n",
       "       '4269-Number_of_triplets_attempted_left',\n",
       "       '4270-Volume_level_set_by_participant_left',\n",
       "       '4276-Number_of_triplets_attempted_right',\n",
       "       ...\n",
       "       '6158_1-Why_reduced_smoking_Illness_or_ill_health',\n",
       "       '6158_100-Why_reduced_smoking_None_of_the_above',\n",
       "       '6158_2-Why_reduced_smoking_Doctors_advice',\n",
       "       '6158_3-Why_reduced_smoking_Health_precaution',\n",
       "       '6158_4-Why_reduced_smoking_Financial_reasons',\n",
       "       '6159_2-Pain_types_experienced_in_last_month_Facial_pain',\n",
       "       '6159_8-Pain_types_experienced_in_last_month_Pain_all_over_the_body',\n",
       "       '6162_100-Types_of_transport_used_excluding_work_None_of_the_above',\n",
       "       '709-Number_in_household', 'C_PANCREAS-Malignant_neoplasm_of_pancreas'],\n",
       "      dtype='object', length=218)"
      ]
     },
     "metadata": {},
     "output_type": "display_data"
    },
    {
     "data": {
      "text/html": [
       "<h3>Cluster 40.8</h3>"
      ],
      "text/plain": [
       "<IPython.core.display.HTML object>"
      ]
     },
     "metadata": {},
     "output_type": "display_data"
    },
    {
     "data": {
      "text/plain": [
       "3"
      ]
     },
     "metadata": {},
     "output_type": "display_data"
    },
    {
     "data": {
      "text/plain": [
       "Index(['eczema', 'seasonal allergic rhinitis',\n",
       "       'seasonal allergic rhinitis AND allergic rhinitis'],\n",
       "      dtype='object')"
      ]
     },
     "metadata": {},
     "output_type": "display_data"
    },
    {
     "data": {
      "text/html": [
       "<h3>Cluster 40.9</h3>"
      ],
      "text/plain": [
       "<IPython.core.display.HTML object>"
      ]
     },
     "metadata": {},
     "output_type": "display_data"
    },
    {
     "data": {
      "text/plain": [
       "766"
      ]
     },
     "metadata": {},
     "output_type": "display_data"
    },
    {
     "data": {
      "text/plain": [
       "Index(['22601_11113200-Job_coding_senior_official_in_central_government_including_members_of_the_senior_civil_service_and_the_equivalent_in_the_diplomatic_service_mps_meps',\n",
       "       '22601_11123211-Job_coding_director_or_chief_executive_of_private_organisationcompany_company_chairman_or_president_general_manager',\n",
       "       '22601_11133201-Job_coding_senior_official_in_local_government_including_parish_or_town_or_county_chief_clerk_chief_or_superintendent_rate_collector_chief_executive_or_director_councillor',\n",
       "       '22601_11143212-Job_coding_senior_official_of_special_interest_organisation_including_general_manager_or_director_or_executive_or_general_secretary_of_charity_or_trade_unionassociation_or_religious_organisation',\n",
       "       '22601_11212692-Job_coding_production_works_or_maintenance_manager',\n",
       "       '22601_11222591-Job_coding_manager_in_construction_clerk_of_works_site_manager_contracts_manager_highways_manager',\n",
       "       '22601_11232861-Job_coding_manager_in_mining_energy_production_or_water_supply',\n",
       "       '22601_11313221-Job_coding_financial_services_manager_chartered_secretary_banker_merchant_or_investment_banker_finance_director_tax_manager',\n",
       "       '22601_11323222-Job_coding_sales_or_marketing_managerdirector_exportimport_manager_business_development_manager_advertisingcommercial_manager',\n",
       "       '22601_11333223-Job_coding_purchasing_managerdirector_not_retail_supplies_manager',\n",
       "       ...\n",
       "       '41248_6005-Destinations_on_discharge_from_hospital_recoded_Transfer_within_NHS_provider_Medical_specialty',\n",
       "       '41248_6007-Destinations_on_discharge_from_hospital_recoded_Transfer_within_NHS_provider_Geriatrics',\n",
       "       '41248_7001-Destinations_on_discharge_from_hospital_recoded_Nursing_residential_care_group_home_NHS',\n",
       "       '41248_7002-Destinations_on_discharge_from_hospital_recoded_Nursing_residential_care_group_home_Local_Authoritory',\n",
       "       '41248_7003-Destinations_on_discharge_from_hospital_recoded_Nursing_residential_care_group_home_NonNHS',\n",
       "       '41248_8002-Destinations_on_discharge_from_hospital_recoded_Other_hospital_NonNHS',\n",
       "       '4195_raw-Pulse_wave_reflection_index',\n",
       "       '4230_raw-Signaltonoiseratio_SNR_of_triplet_left',\n",
       "       '4241_raw-Signaltonoiseratio_SNR_of_triplet_right',\n",
       "       '4462-Average_monthly_intake_of_other_alcoholic_drinks'],\n",
       "      dtype='object', length=766)"
      ]
     },
     "metadata": {},
     "output_type": "display_data"
    },
    {
     "data": {
      "text/html": [
       "<h3>Cluster 40.10</h3>"
      ],
      "text/plain": [
       "<IPython.core.display.HTML object>"
      ]
     },
     "metadata": {},
     "output_type": "display_data"
    },
    {
     "data": {
      "text/plain": [
       "15"
      ]
     },
     "metadata": {},
     "output_type": "display_data"
    },
    {
     "data": {
      "text/plain": [
       "Index(['20003_1140868226-Treatmentmedication_code_aspirin',\n",
       "       '20003_1141146234-Treatmentmedication_code_atorvastatin',\n",
       "       '6150_1-Vascularheart_problems_diagnosed_by_doctor_Heart_attack',\n",
       "       '6150_2-Vascularheart_problems_diagnosed_by_doctor_Angina',\n",
       "       '6154_1-Medication_for_pain_relief_constipation_heartburn_Aspirin',\n",
       "       'I9_CHD-Major_coronary_heart_disease_event',\n",
       "       'I9_CHD_NOREV-Major_coronary_heart_disease_event_excluding_revascularizations',\n",
       "       'I9_CORATHER-Coronary_atherosclerosis',\n",
       "       'I9_IHD-Ischaemic_heart_disease_wide_definition',\n",
       "       'I9_MI-Myocardial_infarction',\n",
       "       'I9_MI_STRICT-Myocardial_infarction_strict',\n",
       "       'IX_CIRCULATORY-Diseases_of_the_circulatory_system',\n",
       "       'acute myocardial infarction', 'angina pectoris',\n",
       "       'myocardial infarction'],\n",
       "      dtype='object')"
      ]
     },
     "metadata": {},
     "output_type": "display_data"
    },
    {
     "data": {
      "text/html": [
       "<h3>Cluster 40.11</h3>"
      ],
      "text/plain": [
       "<IPython.core.display.HTML object>"
      ]
     },
     "metadata": {},
     "output_type": "display_data"
    },
    {
     "data": {
      "text/plain": [
       "10"
      ]
     },
     "metadata": {},
     "output_type": "display_data"
    },
    {
     "data": {
      "text/plain": [
       "Index(['ASTHMA_MEDICATIO_COMORB-Medication_related_adverse_effects',\n",
       "       'C3_MALE_GENITAL-malignant_neoplasm_of_male_genital_organs',\n",
       "       'C_MALE_GENITAL', 'C_PROSTATE-Malignant_neoplasm_of_prostate',\n",
       "       'H7_LENS-Disorders_of_lens',\n",
       "       'PULM_MEDICATIO_COMORB-Medication_related_adverse_effects_AsthmaCOPD',\n",
       "       'VII_EYE_ADNEXA-Diseases_of_the_eye_and_adnexa', 'age-related cataract',\n",
       "       'cataract', 'prostate carcinoma'],\n",
       "      dtype='object')"
      ]
     },
     "metadata": {},
     "output_type": "display_data"
    },
    {
     "data": {
      "text/html": [
       "<h3>Cluster 40.12</h3>"
      ],
      "text/plain": [
       "<IPython.core.display.HTML object>"
      ]
     },
     "metadata": {},
     "output_type": "display_data"
    },
    {
     "data": {
      "text/plain": [
       "17"
      ]
     },
     "metadata": {},
     "output_type": "display_data"
    },
    {
     "data": {
      "text/plain": [
       "Index(['6152_5-Blood_clot_DVT_bronchitis_emphysema_asthma_rhinitis_eczema_allergy_diagnosed_by_doctor_Blood_clot_in_the_leg_DVT',\n",
       "       'G6_CARPTU-Carpal_tunnel_syndrome',\n",
       "       'G6_NERPLEX-Nerve_nerve_root_and_plexus_disorders',\n",
       "       'I9_DVTANDPULM-DVT_of_lower_extremities_and_pulmonary_embolism',\n",
       "       'I9_PHLETHROMBDVTLOW-DVT_of_lower_extremities',\n",
       "       'I9_VTE-Venous_thromboembolism',\n",
       "       'K11_GALLBILPANC-Disorders_of_gallbladder_biliary_tract_and_pancreas',\n",
       "       'OTHER_ILD_CVD_COMORB-Other_ILDrelated_CVDcomorbidities',\n",
       "       'ULCERNAS-Ulcerative_colitis_NAS',\n",
       "       'VI_NERVOUS-Diseases_of_the_nervous_system',\n",
       "       'XII_SKIN_SUBCUTAN-Diseases_of_the_skin_and_subcutaneous_tissue',\n",
       "       'birth weight', 'cholelithiasis', 'deep vein thrombosis',\n",
       "       'mononeuropathy', 'phlebitis AND thrombophlebitis',\n",
       "       'pulmonary embolism'],\n",
       "      dtype='object')"
      ]
     },
     "metadata": {},
     "output_type": "display_data"
    },
    {
     "data": {
      "text/html": [
       "<h3>Cluster 40.13</h3>"
      ],
      "text/plain": [
       "<IPython.core.display.HTML object>"
      ]
     },
     "metadata": {},
     "output_type": "display_data"
    },
    {
     "data": {
      "text/plain": [
       "49"
      ]
     },
     "metadata": {},
     "output_type": "display_data"
    },
    {
     "data": {
      "text/plain": [
       "Index(['20015_raw-Sitting_height',\n",
       "       '20150_raw-Forced_expiratory_volume_in_1second_FEV1_Best_measure',\n",
       "       '20151_raw-Forced_vital_capacity_FVC_Best_measure',\n",
       "       '20153_raw-Forced_expiratory_volume_in_1second_FEV1_predicted',\n",
       "       '20154_raw-Forced_expiratory_volume_in_1second_FEV1_predicted_percentage',\n",
       "       '21001_raw-Body_mass_index_BMI', '21002_raw-Weight', '23098_raw-Weight',\n",
       "       '23099_raw-Body_fat_percentage', '23100_raw-Whole_body_fat_mass',\n",
       "       '23101_raw-Whole_body_fatfree_mass', '23102_raw-Whole_body_water_mass',\n",
       "       '23104_raw-Body_mass_index_BMI', '23105_raw-Basal_metabolic_rate',\n",
       "       '23106_raw-Impedance_of_whole_body', '23107_raw-Impedance_of_leg_right',\n",
       "       '23108_raw-Impedance_of_leg_left', '23109_raw-Impedance_of_arm_right',\n",
       "       '23110_raw-Impedance_of_arm_left', '23111_raw-Leg_fat_percentage_right',\n",
       "       '23112_raw-Leg_fat_mass_right', '23113_raw-Leg_fatfree_mass_right',\n",
       "       '23114_raw-Leg_predicted_mass_right',\n",
       "       '23115_raw-Leg_fat_percentage_left', '23116_raw-Leg_fat_mass_left',\n",
       "       '23117_raw-Leg_fatfree_mass_left', '23118_raw-Leg_predicted_mass_left',\n",
       "       '23119_raw-Arm_fat_percentage_right', '23120_raw-Arm_fat_mass_right',\n",
       "       '23121_raw-Arm_fatfree_mass_right',\n",
       "       '23122_raw-Arm_predicted_mass_right',\n",
       "       '23123_raw-Arm_fat_percentage_left', '23124_raw-Arm_fat_mass_left',\n",
       "       '23125_raw-Arm_fatfree_mass_left', '23126_raw-Arm_predicted_mass_left',\n",
       "       '23127_raw-Trunk_fat_percentage', '23128_raw-Trunk_fat_mass',\n",
       "       '23129_raw-Trunk_fatfree_mass', '23130_raw-Trunk_predicted_mass',\n",
       "       '3062_raw-Forced_vital_capacity_FVC',\n",
       "       '3063_raw-Forced_expiratory_volume_in_1second_FEV1',\n",
       "       '3064_raw-Peak_expiratory_flow_PEF', '3143_raw-Ankle_spacing_width',\n",
       "       '4100_raw-Ankle_spacing_width_left',\n",
       "       '4119_raw-Ankle_spacing_width_right', '48_raw-Waist_circumference',\n",
       "       '49_raw-Hip_circumference', '50_raw-Standing_height', 'body height'],\n",
       "      dtype='object')"
      ]
     },
     "metadata": {},
     "output_type": "display_data"
    },
    {
     "data": {
      "text/html": [
       "<h3>Cluster 40.14</h3>"
      ],
      "text/plain": [
       "<IPython.core.display.HTML object>"
      ]
     },
     "metadata": {},
     "output_type": "display_data"
    },
    {
     "data": {
      "text/plain": [
       "241"
      ]
     },
     "metadata": {},
     "output_type": "display_data"
    },
    {
     "data": {
      "text/plain": [
       "Index(['1021-Duration_of_light_DIY', '102_raw-Pulse_rate_automated_reading',\n",
       "       '1050-Time_spend_outdoors_in_summer',\n",
       "       '1060-Time_spent_outdoors_in_winter',\n",
       "       '1070-Time_spent_watching_television_TV',\n",
       "       '1080-Time_spent_using_computer', '1090-Time_spent_driving',\n",
       "       '1100-Drive_faster_than_motorway_speed_limit',\n",
       "       '110001-Invitation_to_complete_online_24hour_recall_dietary_questionnaire_acceptance',\n",
       "       '1110-Length_of_mobile_phone_use',\n",
       "       ...\n",
       "       'self rated health', 'self reported educational attainment',\n",
       "       'sleep duration', 'smoking behavior', 'smoking cessation',\n",
       "       'snoring measurement', 'tiredness measurement', 'varicose veins',\n",
       "       'wheezing', 'worry measurement'],\n",
       "      dtype='object', length=241)"
      ]
     },
     "metadata": {},
     "output_type": "display_data"
    },
    {
     "data": {
      "text/html": [
       "<h3>Cluster 40.15</h3>"
      ],
      "text/plain": [
       "<IPython.core.display.HTML object>"
      ]
     },
     "metadata": {},
     "output_type": "display_data"
    },
    {
     "data": {
      "text/plain": [
       "21"
      ]
     },
     "metadata": {},
     "output_type": "display_data"
    },
    {
     "data": {
      "text/plain": [
       "Index(['20003_2038460150-Treatmentmedication_code_paracetamol',\n",
       "       '20016_raw-Fluid_intelligence_score', '20022_raw-Birth_weight',\n",
       "       '20023_raw-Mean_time_to_correctly_identify_matches',\n",
       "       '20074_raw-Home_location_at_assessment_east_coordinate_rounded',\n",
       "       '20077-Number_of_diet_questionnaires_completed',\n",
       "       '20086_8-Type_of_special_diet_followed_Glutenfree',\n",
       "       '20107_1-Illnesses_of_father_Heart_disease',\n",
       "       '20107_100-Illnesses_of_father_None_of_the_above_group_1',\n",
       "       '20107_3-Illnesses_of_father_Lung_cancer',\n",
       "       '20107_8-Illnesses_of_father_High_blood_pressure',\n",
       "       '20107_9-Illnesses_of_father_Diabetes',\n",
       "       '20110_1-Illnesses_of_mother_Heart_disease',\n",
       "       '20110_10-Illnesses_of_mother_Alzheimers_diseasedementia',\n",
       "       '20110_100-Illnesses_of_mother_None_of_the_above_group_1',\n",
       "       '20110_8-Illnesses_of_mother_High_blood_pressure',\n",
       "       '20110_9-Illnesses_of_mother_Diabetes',\n",
       "       '20111_1-Illnesses_of_siblings_Heart_disease',\n",
       "       '20111_100-Illnesses_of_siblings_None_of_the_above_group_1',\n",
       "       '20111_8-Illnesses_of_siblings_High_blood_pressure',\n",
       "       '20111_9-Illnesses_of_siblings_Diabetes'],\n",
       "      dtype='object')"
      ]
     },
     "metadata": {},
     "output_type": "display_data"
    },
    {
     "data": {
      "text/html": [
       "<h3>Cluster 40.16</h3>"
      ],
      "text/plain": [
       "<IPython.core.display.HTML object>"
      ]
     },
     "metadata": {},
     "output_type": "display_data"
    },
    {
     "data": {
      "text/plain": [
       "7"
      ]
     },
     "metadata": {},
     "output_type": "display_data"
    },
    {
     "data": {
      "text/plain": [
       "Index(['1717-Skin_colour', '1727-Ease_of_skin_tanning',\n",
       "       '1747_1-Hair_colour_natural_before_greying_Blonde',\n",
       "       '1747_2-Hair_colour_natural_before_greying_Red',\n",
       "       '1747_3-Hair_colour_natural_before_greying_Light_brown',\n",
       "       '1747_4-Hair_colour_natural_before_greying_Dark_brown',\n",
       "       '1747_5-Hair_colour_natural_before_greying_Black'],\n",
       "      dtype='object')"
      ]
     },
     "metadata": {},
     "output_type": "display_data"
    },
    {
     "data": {
      "text/html": [
       "<h3>Cluster 40.17</h3>"
      ],
      "text/plain": [
       "<IPython.core.display.HTML object>"
      ]
     },
     "metadata": {},
     "output_type": "display_data"
    },
    {
     "data": {
      "text/plain": [
       "5"
      ]
     },
     "metadata": {},
     "output_type": "display_data"
    },
    {
     "data": {
      "text/plain": [
       "Index(['30080_raw-Platelet_count', '30090_raw-Platelet_crit',\n",
       "       '30100_raw-Mean_platelet_thrombocyte_volume',\n",
       "       '30110_raw-Platelet_distribution_width', 'platelet count'],\n",
       "      dtype='object')"
      ]
     },
     "metadata": {},
     "output_type": "display_data"
    },
    {
     "data": {
      "text/html": [
       "<h3>Cluster 40.18</h3>"
      ],
      "text/plain": [
       "<IPython.core.display.HTML object>"
      ]
     },
     "metadata": {},
     "output_type": "display_data"
    },
    {
     "data": {
      "text/plain": [
       "6"
      ]
     },
     "metadata": {},
     "output_type": "display_data"
    },
    {
     "data": {
      "text/plain": [
       "Index(['40001_C349-Underlying_primary_cause_of_death_ICD10_C349_Bronchus_or_lung_unspecified',\n",
       "       'C3_RESPIRATORY_INTRATHORACIC-Malignant_neoplasm_of_respiratory_system_and_intrathoracic_organs',\n",
       "       'C_BRONCHUS_LUNG-Malignant_neoplasm_of_bronchus_and_lung',\n",
       "       'C_RESPIRATORY_INTRATHORACIC',\n",
       "       'LUNG_CANCER_MESOT-Lung_cancer_and_mesothelioma', 'lung carcinoma'],\n",
       "      dtype='object')"
      ]
     },
     "metadata": {},
     "output_type": "display_data"
    },
    {
     "data": {
      "text/html": [
       "<h3>Cluster 40.19</h3>"
      ],
      "text/plain": [
       "<IPython.core.display.HTML object>"
      ]
     },
     "metadata": {},
     "output_type": "display_data"
    },
    {
     "data": {
      "text/plain": [
       "17"
      ]
     },
     "metadata": {},
     "output_type": "display_data"
    },
    {
     "data": {
      "text/plain": [
       "Index(['20003_1140883066-Treatmentmedication_code_insulin_product',\n",
       "       '20003_1141191044-Treatmentmedication_code_levothyroxine_sodium',\n",
       "       '2976_raw-Age_diabetes_diagnosed',\n",
       "       '2986-Started_insulin_within_one_year_diagnosis_of_diabetes',\n",
       "       '6144_3-Never_eat_eggs_dairy_wheat_sugar_Wheat_products',\n",
       "       '6153_3-Medication_for_cholesterol_blood_pressure_diabetes_or_take_exogenous_hormones_Insulin',\n",
       "       '6177_3-Medication_for_cholesterol_blood_pressure_or_diabetes_Insulin',\n",
       "       'K11_COELIAC-Coeliac_disease', 'celiac disease',\n",
       "       'hyperthyroidism AND thyrotoxicosis', 'hypothyroidism AND myxedema',\n",
       "       'malabsorption syndrome', 'psoriasis', 'rheumatoid arthritis',\n",
       "       'sarcoidosis', 'systemic lupus erythematosus',\n",
       "       'type i diabetes mellitus'],\n",
       "      dtype='object')"
      ]
     },
     "metadata": {},
     "output_type": "display_data"
    },
    {
     "data": {
      "text/html": [
       "<h3>Cluster 40.20</h3>"
      ],
      "text/plain": [
       "<IPython.core.display.HTML object>"
      ]
     },
     "metadata": {},
     "output_type": "display_data"
    },
    {
     "data": {
      "text/plain": [
       "3"
      ]
     },
     "metadata": {},
     "output_type": "display_data"
    },
    {
     "data": {
      "text/plain": [
       "Index(['M13_DUPUTRYEN-Palmar_fascial_fibromatosis_Dupuytren',\n",
       "       'M13_FIBROBLASTIC-Fibroblastic_disorders', 'fibroblastic disorder'],\n",
       "      dtype='object')"
      ]
     },
     "metadata": {},
     "output_type": "display_data"
    },
    {
     "data": {
      "text/html": [
       "<h3>Cluster 40.21</h3>"
      ],
      "text/plain": [
       "<IPython.core.display.HTML object>"
      ]
     },
     "metadata": {},
     "output_type": "display_data"
    },
    {
     "data": {
      "text/plain": [
       "2"
      ]
     },
     "metadata": {},
     "output_type": "display_data"
    },
    {
     "data": {
      "text/plain": [
       "Index(['46_raw-Hand_grip_strength_left', '47_raw-Hand_grip_strength_right'], dtype='object')"
      ]
     },
     "metadata": {},
     "output_type": "display_data"
    },
    {
     "data": {
      "text/html": [
       "<h3>Cluster 40.22</h3>"
      ],
      "text/plain": [
       "<IPython.core.display.HTML object>"
      ]
     },
     "metadata": {},
     "output_type": "display_data"
    },
    {
     "data": {
      "text/plain": [
       "8"
      ]
     },
     "metadata": {},
     "output_type": "display_data"
    },
    {
     "data": {
      "text/plain": [
       "Index(['24013-Total_traffic_load_on_major_roads', '24014-Close_to_major_road',\n",
       "       '24015-Sum_of_road_length_of_major_roads_within_100m',\n",
       "       '24020_raw-Average_daytime_sound_level_of_noise_pollution',\n",
       "       '24021_raw-Average_evening_sound_level_of_noise_pollution',\n",
       "       '24022_raw-Average_nighttime_sound_level_of_noise_pollution',\n",
       "       '24023_raw-Average_16hour_sound_level_of_noise_pollution',\n",
       "       '24024_raw-Average_24hour_sound_level_of_noise_pollution'],\n",
       "      dtype='object')"
      ]
     },
     "metadata": {},
     "output_type": "display_data"
    },
    {
     "data": {
      "text/html": [
       "<h3>Cluster 40.23</h3>"
      ],
      "text/plain": [
       "<IPython.core.display.HTML object>"
      ]
     },
     "metadata": {},
     "output_type": "display_data"
    },
    {
     "data": {
      "text/plain": [
       "5"
      ]
     },
     "metadata": {},
     "output_type": "display_data"
    },
    {
     "data": {
      "text/plain": [
       "Index(['F5_ALLANXIOUS-All_anxiety_disorders',\n",
       "       'F5_ANXIETY-Other_anxiety_disorders',\n",
       "       'KRA_PSY_ANXIETY-Anxiety_disorders',\n",
       "       'PULM_ANXIETY-Anxiety_asthmarelated_comorbidities', 'anxiety disorder'],\n",
       "      dtype='object')"
      ]
     },
     "metadata": {},
     "output_type": "display_data"
    },
    {
     "data": {
      "text/html": [
       "<h3>Cluster 40.24</h3>"
      ],
      "text/plain": [
       "<IPython.core.display.HTML object>"
      ]
     },
     "metadata": {},
     "output_type": "display_data"
    },
    {
     "data": {
      "text/plain": [
       "11"
      ]
     },
     "metadata": {},
     "output_type": "display_data"
    },
    {
     "data": {
      "text/plain": [
       "Index(['1707_1-Handedness_chiralitylaterality_Righthanded',\n",
       "       '20003_1140865634-Treatmentmedication_code_omeprazole',\n",
       "       'C3_SKIN-Malignant_neoplasm_of_skin',\n",
       "       'C_OTHER_SKIN-Other_malignant_neoplasms_of_skin', 'C_SKIN',\n",
       "       'KNEE_ARTHROSIS-Gonarthrosis_arthrosis_of_kneeFG',\n",
       "       'M13_ARTHROSIS-Arthrosis', 'depressive episode measurement',\n",
       "       'functional laterality', 'osteoarthritis, knee', 'skin neoplasm'],\n",
       "      dtype='object')"
      ]
     },
     "metadata": {},
     "output_type": "display_data"
    },
    {
     "data": {
      "text/html": [
       "<h3>Cluster 40.25</h3>"
      ],
      "text/plain": [
       "<IPython.core.display.HTML object>"
      ]
     },
     "metadata": {},
     "output_type": "display_data"
    },
    {
     "data": {
      "text/plain": [
       "18"
      ]
     },
     "metadata": {},
     "output_type": "display_data"
    },
    {
     "data": {
      "text/plain": [
       "Index(['100001_raw-Food_weight', '100002_raw-Energy', '100003_raw-Protein',\n",
       "       '100004_raw-Fat', '100005_raw-Carbohydrate', '100006_raw-Saturated_fat',\n",
       "       '100007_raw-Polyunsaturated_fat', '100008_raw-Total_sugars',\n",
       "       '100009_raw-Englyst_dietary_fibre', '100011_raw-Iron',\n",
       "       '100012_raw-Vitamin_B6', '100014_raw-Folate', '100015_raw-Vitamin_C',\n",
       "       '100016_raw-Potassium', '100017_raw-Magnesium', '100023_raw-Starch',\n",
       "       '100024_raw-Calcium', '100025_raw-Vitamin_E'],\n",
       "      dtype='object')"
      ]
     },
     "metadata": {},
     "output_type": "display_data"
    },
    {
     "data": {
      "text/html": [
       "<h3>Cluster 40.26</h3>"
      ],
      "text/plain": [
       "<IPython.core.display.HTML object>"
      ]
     },
     "metadata": {},
     "output_type": "display_data"
    },
    {
     "data": {
      "text/plain": [
       "7"
      ]
     },
     "metadata": {},
     "output_type": "display_data"
    },
    {
     "data": {
      "text/plain": [
       "Index(['5984_raw-ECG_load', '5986_raw-ECG_phase_time',\n",
       "       '5992-ECG_phase_duration', '5993-ECG_number_of_stages_in_a_phase',\n",
       "       '6032_raw-Maximum_workload_during_fitness_test',\n",
       "       '6038_raw-Number_of_trend_entries', '6039-Duration_of_fitness_test'],\n",
       "      dtype='object')"
      ]
     },
     "metadata": {},
     "output_type": "display_data"
    },
    {
     "data": {
      "text/html": [
       "<h3>Cluster 40.27</h3>"
      ],
      "text/plain": [
       "<IPython.core.display.HTML object>"
      ]
     },
     "metadata": {},
     "output_type": "display_data"
    },
    {
     "data": {
      "text/plain": [
       "15"
      ]
     },
     "metadata": {},
     "output_type": "display_data"
    },
    {
     "data": {
      "text/plain": [
       "Index(['20003_1140861958-Treatmentmedication_code_simvastatin',\n",
       "       '20003_1140879802-Treatmentmedication_code_amlodipine',\n",
       "       '20003_1141194794-Treatmentmedication_code_bendroflumethiazide',\n",
       "       '4079_raw-Diastolic_blood_pressure_automated_reading',\n",
       "       '4080_raw-Systolic_blood_pressure_automated_reading',\n",
       "       '6150_100-Vascularheart_problems_diagnosed_by_doctor_None_of_the_above',\n",
       "       '6150_4-Vascularheart_problems_diagnosed_by_doctor_High_blood_pressure',\n",
       "       '6153_1-Medication_for_cholesterol_blood_pressure_diabetes_or_take_exogenous_hormones_Cholesterol_lowering_medication',\n",
       "       '6153_100-Medication_for_cholesterol_blood_pressure_diabetes_or_take_exogenous_hormones_None_of_the_above',\n",
       "       '6153_2-Medication_for_cholesterol_blood_pressure_diabetes_or_take_exogenous_hormones_Blood_pressure_medication',\n",
       "       '6177_1-Medication_for_cholesterol_blood_pressure_or_diabetes_Cholesterol_lowering_medication',\n",
       "       '6177_100-Medication_for_cholesterol_blood_pressure_or_diabetes_None_of_the_above',\n",
       "       '6177_2-Medication_for_cholesterol_blood_pressure_or_diabetes_Blood_pressure_medication',\n",
       "       'hypercholesterolemia', 'hypertension'],\n",
       "      dtype='object')"
      ]
     },
     "metadata": {},
     "output_type": "display_data"
    },
    {
     "data": {
      "text/html": [
       "<h3>Cluster 40.28</h3>"
      ],
      "text/plain": [
       "<IPython.core.display.HTML object>"
      ]
     },
     "metadata": {},
     "output_type": "display_data"
    },
    {
     "data": {
      "text/plain": [
       "3"
      ]
     },
     "metadata": {},
     "output_type": "display_data"
    },
    {
     "data": {
      "text/plain": [
       "Index(['L12_ACTINKERA-Actinic_keratosis',\n",
       "       'L12_NONIONRADISKIN-Skin_changes_due_to_chronic_exposure_to_nonionizing_radiation',\n",
       "       'radiation-induced disorder'],\n",
       "      dtype='object')"
      ]
     },
     "metadata": {},
     "output_type": "display_data"
    },
    {
     "data": {
      "text/html": [
       "<h3>Cluster 40.29</h3>"
      ],
      "text/plain": [
       "<IPython.core.display.HTML object>"
      ]
     },
     "metadata": {},
     "output_type": "display_data"
    },
    {
     "data": {
      "text/plain": [
       "15"
      ]
     },
     "metadata": {},
     "output_type": "display_data"
    },
    {
     "data": {
      "text/plain": [
       "Index(['30010_raw-Red_blood_cell_erythrocyte_count',\n",
       "       '30020_raw-Haemoglobin_concentration',\n",
       "       '30030_raw-Haematocrit_percentage', '30040_raw-Mean_corpuscular_volume',\n",
       "       '30050_raw-Mean_corpuscular_haemoglobin',\n",
       "       '30070_raw-Red_blood_cell_erythrocyte_distribution_width',\n",
       "       '30240_raw-Reticulocyte_percentage', '30250_raw-Reticulocyte_count',\n",
       "       '30260_raw-Mean_reticulocyte_volume',\n",
       "       '30270_raw-Mean_sphered_cell_volume',\n",
       "       '30280_raw-Immature_reticulocyte_fraction',\n",
       "       '30290_raw-High_light_scatter_reticulocyte_percentage',\n",
       "       '30300_raw-High_light_scatter_reticulocyte_count', 'erythrocyte count',\n",
       "       'reticulocyte count'],\n",
       "      dtype='object')"
      ]
     },
     "metadata": {},
     "output_type": "display_data"
    },
    {
     "data": {
      "text/html": [
       "<h3>Cluster 40.30</h3>"
      ],
      "text/plain": [
       "<IPython.core.display.HTML object>"
      ]
     },
     "metadata": {},
     "output_type": "display_data"
    },
    {
     "data": {
      "text/plain": [
       "266"
      ]
     },
     "metadata": {},
     "output_type": "display_data"
    },
    {
     "data": {
      "text/plain": [
       "Index(['20111_101-Illnesses_of_siblings_None_of_the_above_group_2',\n",
       "       '20111_12-Illnesses_of_siblings_Severe_depression',\n",
       "       '20112_8-Illnesses_of_adopted_father_High_blood_pressure',\n",
       "       '20112_9-Illnesses_of_adopted_father_Diabetes',\n",
       "       '20113_10-Illnesses_of_adopted_mother_Alzheimers_diseasedementia',\n",
       "       '20113_101-Illnesses_of_adopted_mother_None_of_the_above_group_2',\n",
       "       '20113_2-Illnesses_of_adopted_mother_Stroke',\n",
       "       '20113_4-Illnesses_of_adopted_mother_Bowel_cancer',\n",
       "       '20113_5-Illnesses_of_adopted_mother_Breast_cancer',\n",
       "       '20113_8-Illnesses_of_adopted_mother_High_blood_pressure',\n",
       "       ...\n",
       "       '22601_31113086-Job_coding_laboratory_technician',\n",
       "       '22601_31122951-Job_coding_electricalelectronics_technician',\n",
       "       '22601_31153052-Job_coding_quality_assurance_technician_or_coordinator',\n",
       "       '22601_31193055-Job_coding_other_engineering_technician_including_materials_technician_technical_assistant_technical_officer',\n",
       "       '22601_32113077-Job_coding_health_visitor',\n",
       "       '22601_32323112-Job_coding_benefits_advisor_citizens_advice_bureau_adviser_debt_counsellor',\n",
       "       '22601_32323410-Job_coding_schoolstudent_counsellor_school_attendance_officer',\n",
       "       '22601_34333162-Job_coding_public_relations_officer_press_officer_information_officer',\n",
       "       '22601_35333266-Job_coding_insurance_underwriter_insurance_inspector_insurance_account_handler',\n",
       "       '22601_35623213-Job_coding_personnel_or_industrial_relations_officer_recruitment_consultant'],\n",
       "      dtype='object', length=266)"
      ]
     },
     "metadata": {},
     "output_type": "display_data"
    },
    {
     "data": {
      "text/html": [
       "<h3>Cluster 40.31</h3>"
      ],
      "text/plain": [
       "<IPython.core.display.HTML object>"
      ]
     },
     "metadata": {},
     "output_type": "display_data"
    },
    {
     "data": {
      "text/plain": [
       "1"
      ]
     },
     "metadata": {},
     "output_type": "display_data"
    },
    {
     "data": {
      "text/plain": [
       "Index(['30060_raw-Mean_corpuscular_haemoglobin_concentration'], dtype='object')"
      ]
     },
     "metadata": {},
     "output_type": "display_data"
    },
    {
     "data": {
      "text/html": [
       "<h3>Cluster 40.32</h3>"
      ],
      "text/plain": [
       "<IPython.core.display.HTML object>"
      ]
     },
     "metadata": {},
     "output_type": "display_data"
    },
    {
     "data": {
      "text/plain": [
       "8"
      ]
     },
     "metadata": {},
     "output_type": "display_data"
    },
    {
     "data": {
      "text/plain": [
       "Index(['24003_raw-Nitrogen_dioxide_air_pollution_2010',\n",
       "       '24004_raw-Nitrogen_oxides_air_pollution_2010',\n",
       "       '24006_raw-Particulate_matter_air_pollution_pm25_2010',\n",
       "       '24007_raw-Particulate_matter_air_pollution_pm25_absorbance_2010',\n",
       "       '24016_raw-Nitrogen_dioxide_air_pollution_2005',\n",
       "       '24017_raw-Nitrogen_dioxide_air_pollution_2006',\n",
       "       '24018_raw-Nitrogen_dioxide_air_pollution_2007',\n",
       "       '24019_raw-Particulate_matter_air_pollution_pm10_2007'],\n",
       "      dtype='object')"
      ]
     },
     "metadata": {},
     "output_type": "display_data"
    },
    {
     "data": {
      "text/html": [
       "<h3>Cluster 40.33</h3>"
      ],
      "text/plain": [
       "<IPython.core.display.HTML object>"
      ]
     },
     "metadata": {},
     "output_type": "display_data"
    },
    {
     "data": {
      "text/plain": [
       "8"
      ]
     },
     "metadata": {},
     "output_type": "display_data"
    },
    {
     "data": {
      "text/plain": [
       "Index(['5096_raw-3mm_weak_meridian_left', '5097_raw-6mm_weak_meridian_left',\n",
       "       '5098_raw-6mm_weak_meridian_right', '5099_raw-3mm_weak_meridian_right',\n",
       "       '5132_raw-3mm_strong_meridian_right',\n",
       "       '5133_raw-6mm_strong_meridian_right',\n",
       "       '5134_raw-6mm_strong_meridian_left',\n",
       "       '5135_raw-3mm_strong_meridian_left'],\n",
       "      dtype='object')"
      ]
     },
     "metadata": {},
     "output_type": "display_data"
    },
    {
     "data": {
      "text/html": [
       "<h3>Cluster 40.34</h3>"
      ],
      "text/plain": [
       "<IPython.core.display.HTML object>"
      ]
     },
     "metadata": {},
     "output_type": "display_data"
    },
    {
     "data": {
      "text/plain": [
       "1"
      ]
     },
     "metadata": {},
     "output_type": "display_data"
    },
    {
     "data": {
      "text/plain": [
       "Index(['mineral metabolism disease'], dtype='object')"
      ]
     },
     "metadata": {},
     "output_type": "display_data"
    },
    {
     "data": {
      "text/html": [
       "<h3>Cluster 40.35</h3>"
      ],
      "text/plain": [
       "<IPython.core.display.HTML object>"
      ]
     },
     "metadata": {},
     "output_type": "display_data"
    },
    {
     "data": {
      "text/plain": [
       "4"
      ]
     },
     "metadata": {},
     "output_type": "display_data"
    },
    {
     "data": {
      "text/plain": [
       "Index(['HEARTFAIL-Heart_failure', 'I9_HEARTFAIL-Heart_failurestrict',\n",
       "       'I9_HEARTFAIL_NS-Heart_failure_not_strict', 'heart failure'],\n",
       "      dtype='object')"
      ]
     },
     "metadata": {},
     "output_type": "display_data"
    },
    {
     "data": {
      "text/html": [
       "<h3>Cluster 40.36</h3>"
      ],
      "text/plain": [
       "<IPython.core.display.HTML object>"
      ]
     },
     "metadata": {},
     "output_type": "display_data"
    },
    {
     "data": {
      "text/plain": [
       "4"
      ]
     },
     "metadata": {},
     "output_type": "display_data"
    },
    {
     "data": {
      "text/plain": [
       "Index(['COPD_EXCL-COPD_differential_diagnosis',\n",
       "       'ILD_DIFF_DG-ILD_differential_diagnosis',\n",
       "       'PULMONARYDG-Other_pulmonary_diagnosis',\n",
       "       'X_RESPIRATORY-Diseases_of_the_respiratory_system'],\n",
       "      dtype='object')"
      ]
     },
     "metadata": {},
     "output_type": "display_data"
    },
    {
     "data": {
      "text/html": [
       "<h3>Cluster 40.37</h3>"
      ],
      "text/plain": [
       "<IPython.core.display.HTML object>"
      ]
     },
     "metadata": {},
     "output_type": "display_data"
    },
    {
     "data": {
      "text/plain": [
       "5"
      ]
     },
     "metadata": {},
     "output_type": "display_data"
    },
    {
     "data": {
      "text/plain": [
       "Index(['C_STROKE-STROKE', 'I9_STR-Stroke_excluding_SAH',\n",
       "       'I9_STR_EXH-Ischaemic_Stroke_excluding_all_haemorrhages',\n",
       "       'I9_STR_SAH-Stroke_including_SAH', 'brain infarction'],\n",
       "      dtype='object')"
      ]
     },
     "metadata": {},
     "output_type": "display_data"
    },
    {
     "data": {
      "text/html": [
       "<h3>Cluster 40.38</h3>"
      ],
      "text/plain": [
       "<IPython.core.display.HTML object>"
      ]
     },
     "metadata": {},
     "output_type": "display_data"
    },
    {
     "data": {
      "text/plain": [
       "1"
      ]
     },
     "metadata": {},
     "output_type": "display_data"
    },
    {
     "data": {
      "text/plain": [
       "Index(['1737-Childhood_sunburn_occasions'], dtype='object')"
      ]
     },
     "metadata": {},
     "output_type": "display_data"
    },
    {
     "data": {
      "text/html": [
       "<h3>Cluster 40.39</h3>"
      ],
      "text/plain": [
       "<IPython.core.display.HTML object>"
      ]
     },
     "metadata": {},
     "output_type": "display_data"
    },
    {
     "data": {
      "text/plain": [
       "12"
      ]
     },
     "metadata": {},
     "output_type": "display_data"
    },
    {
     "data": {
      "text/plain": [
       "Index(['3144_raw-Heel_Broadband_ultrasound_attenuation_direct_entry',\n",
       "       '3147_raw-Heel_quantitative_ultrasound_index_QUI_direct_entry',\n",
       "       '3148_raw-Heel_bone_mineral_density_BMD',\n",
       "       '4101_raw-Heel_broadband_ultrasound_attenuation_left',\n",
       "       '4104_raw-Heel_quantitative_ultrasound_index_QUI_direct_entry_left',\n",
       "       '4105_raw-Heel_bone_mineral_density_BMD_left',\n",
       "       '4106_raw-Heel_bone_mineral_density_BMD_Tscore_automated_left',\n",
       "       '4120_raw-Heel_broadband_ultrasound_attenuation_right',\n",
       "       '4123_raw-Heel_quantitative_ultrasound_index_QUI_direct_entry_right',\n",
       "       '4124_raw-Heel_bone_mineral_density_BMD_right',\n",
       "       '4125_raw-Heel_bone_mineral_density_BMD_Tscore_automated_right',\n",
       "       '78_raw-Heel_bone_mineral_density_BMD_Tscore_automated'],\n",
       "      dtype='object')"
      ]
     },
     "metadata": {},
     "output_type": "display_data"
    },
    {
     "data": {
      "text/html": [
       "<h2>Partition with k=41</h2>"
      ],
      "text/plain": [
       "<IPython.core.display.HTML object>"
      ]
     },
     "metadata": {},
     "output_type": "display_data"
    },
    {
     "data": {
      "text/plain": [
       "method                              eac_average_coassoc_matrix\n",
       "partition    [25, 25, 25, 25, 25, 25, 25, 25, 25, 11, 25, 2...\n",
       "ami_mean                                              0.286357\n",
       "selected                                                  True\n",
       "Name: 41, dtype: object"
      ]
     },
     "metadata": {},
     "output_type": "display_data"
    },
    {
     "data": {
      "text/plain": [
       "(3752,)"
      ]
     },
     "metadata": {},
     "output_type": "display_data"
    },
    {
     "data": {
      "text/plain": [
       "9     766\n",
       "1     715\n",
       "11    704\n",
       "4     453\n",
       "30    266\n",
       "14    241\n",
       "7     218\n",
       "13     49\n",
       "19     43\n",
       "0      24\n",
       "15     21\n",
       "3      19\n",
       "25     18\n",
       "12     17\n",
       "40     17\n",
       "29     15\n",
       "2      15\n",
       "10     15\n",
       "27     15\n",
       "39     12\n",
       "24     11\n",
       "5      10\n",
       "32      8\n",
       "33      8\n",
       "22      8\n",
       "16      7\n",
       "6       7\n",
       "26      7\n",
       "18      6\n",
       "23      5\n",
       "17      5\n",
       "37      5\n",
       "36      4\n",
       "35      4\n",
       "20      3\n",
       "28      3\n",
       "8       3\n",
       "21      2\n",
       "31      1\n",
       "34      1\n",
       "38      1\n",
       "dtype: int64"
      ]
     },
     "metadata": {},
     "output_type": "display_data"
    },
    {
     "data": {
      "text/html": [
       "<h3>Cluster 41.0</h3>"
      ],
      "text/plain": [
       "<IPython.core.display.HTML object>"
      ]
     },
     "metadata": {},
     "output_type": "display_data"
    },
    {
     "data": {
      "text/plain": [
       "24"
      ]
     },
     "metadata": {},
     "output_type": "display_data"
    },
    {
     "data": {
      "text/plain": [
       "Index(['20003_1140861998-Treatmentmedication_code_ventolin_100micrograms_inhaler',\n",
       "       '30000_raw-White_blood_cell_leukocyte_count',\n",
       "       '30120_raw-Lymphocyte_count', '30130_raw-Monocyte_count',\n",
       "       '30140_raw-Neutrophill_count', '30150-Eosinophill_count',\n",
       "       '30180_raw-Lymphocyte_percentage', '30190_raw-Monocyte_percentage',\n",
       "       '30200_raw-Neutrophill_percentage', '30210_raw-Eosinophill_percentage',\n",
       "       '6152_100-Blood_clot_DVT_bronchitis_emphysema_asthma_rhinitis_eczema_allergy_diagnosed_by_doctor_None_of_the_above',\n",
       "       '6152_8-Blood_clot_DVT_bronchitis_emphysema_asthma_rhinitis_eczema_allergy_diagnosed_by_doctor_Asthma',\n",
       "       '6152_9-Blood_clot_DVT_bronchitis_emphysema_asthma_rhinitis_eczema_allergy_diagnosed_by_doctor_Hayfever_allergic_rhinitis_or_eczema',\n",
       "       'asthma', 'eosinophil count', 'granulocyte count', 'leukocyte count',\n",
       "       'lymphocyte count', 'monocyte count', 'myeloid white cell count',\n",
       "       'neutrophil count', 'sum of basophil and neutrophil counts',\n",
       "       'sum of eosinophil and basophil counts',\n",
       "       'sum of neutrophil and eosinophil counts'],\n",
       "      dtype='object')"
      ]
     },
     "metadata": {},
     "output_type": "display_data"
    },
    {
     "data": {
      "text/html": [
       "<h3>Cluster 41.1</h3>"
      ],
      "text/plain": [
       "<IPython.core.display.HTML object>"
      ]
     },
     "metadata": {},
     "output_type": "display_data"
    },
    {
     "data": {
      "text/plain": [
       "715"
      ]
     },
     "metadata": {},
     "output_type": "display_data"
    },
    {
     "data": {
      "text/plain": [
       "Index(['40001_C719-Underlying_primary_cause_of_death_ICD10_C719_Brain_unspecified',\n",
       "       '40001_G122-Underlying_primary_cause_of_death_ICD10_G122_Motor_neuron_disease',\n",
       "       '6152_6-Blood_clot_DVT_bronchitis_emphysema_asthma_rhinitis_eczema_allergy_diagnosed_by_doctor_Emphysemachronic_bronchitis',\n",
       "       '6157_100-Why_stopped_smoking_None_of_the_above',\n",
       "       '6157_3-Why_stopped_smoking_Health_precaution',\n",
       "       '6157_4-Why_stopped_smoking_Financial_reasons',\n",
       "       '6160_5-Leisuresocial_activities_Other_group_activity',\n",
       "       '6162_3-Types_of_transport_used_excluding_work_Public_transport',\n",
       "       '6179_4-Mineral_and_other_dietary_supplements_Zinc',\n",
       "       '6179_5-Mineral_and_other_dietary_supplements_Iron',\n",
       "       ...\n",
       "       'pigmentation disease', 'polyneuropathy', 'purpura',\n",
       "       'retinal detachment', 'retinal vein occlusion',\n",
       "       'skeletal system disease', 'skin disease', 'suppurative otitis media',\n",
       "       'tenosynovitis', 'vasculitis'],\n",
       "      dtype='object', length=715)"
      ]
     },
     "metadata": {},
     "output_type": "display_data"
    },
    {
     "data": {
      "text/html": [
       "<h3>Cluster 41.2</h3>"
      ],
      "text/plain": [
       "<IPython.core.display.HTML object>"
      ]
     },
     "metadata": {},
     "output_type": "display_data"
    },
    {
     "data": {
      "text/plain": [
       "15"
      ]
     },
     "metadata": {},
     "output_type": "display_data"
    },
    {
     "data": {
      "text/plain": [
       "Index(['20003_1140884516-Treatmentmedication_code_thyroxine_product',\n",
       "       '6149_1-Mouthteeth_dental_problems_Mouth_ulcers',\n",
       "       'K11_OTHDIG-Other_diseases_of_the_digestive_system',\n",
       "       'M13_POLYARTHROPATHIES-Polyarthropathies',\n",
       "       'M13_RHEUMA-Rheumatoid_arthritis',\n",
       "       'RHEUMA_NOS-Otherunspecified_rheumatoid_arthritis',\n",
       "       'RHEUMA_SEROPOS-Seropositive_rheumatoid_arthritis',\n",
       "       'RHEUMA_SEROPOS_OTH-Otherunspecified_seropositiverheumatoid_arthritis',\n",
       "       'STILL_ADULT-Adultonset_Still_disease', 'adrenocortical insufficiency',\n",
       "       'ankylosing spondylitis', 'benign prostatic hyperplasia', 'hematuria',\n",
       "       'multiple sclerosis', 'psoriatic arthritis'],\n",
       "      dtype='object')"
      ]
     },
     "metadata": {},
     "output_type": "display_data"
    },
    {
     "data": {
      "text/html": [
       "<h3>Cluster 41.3</h3>"
      ],
      "text/plain": [
       "<IPython.core.display.HTML object>"
      ]
     },
     "metadata": {},
     "output_type": "display_data"
    },
    {
     "data": {
      "text/plain": [
       "19"
      ]
     },
     "metadata": {},
     "output_type": "display_data"
    },
    {
     "data": {
      "text/plain": [
       "Index(['EAGLE_Eczema', 'Jones_et_al_2016_Chronotype', 'MAGNETIC_CH2.DB.ratio',\n",
       "       'MAGNETIC_HDL.C', 'MAGNETIC_IDL.TG', 'MAGNETIC_LDL.C',\n",
       "       'SSGAC_Education_Years_Pooled', 'alzheimer's disease',\n",
       "       'attention deficit hyperactivity disorder', 'bone density',\n",
       "       'coronary artery disease', 'estrogen-receptor negative breast cancer',\n",
       "       'estrogen-receptor positive breast cancer',\n",
       "       'family history of breast cancer', 'fasting blood glucose measurement',\n",
       "       'fasting blood insulin measurement', 'inflammatory bowel disease',\n",
       "       'intracranial volume measurement', 'schizophrenia'],\n",
       "      dtype='object')"
      ]
     },
     "metadata": {},
     "output_type": "display_data"
    },
    {
     "data": {
      "text/html": [
       "<h3>Cluster 41.4</h3>"
      ],
      "text/plain": [
       "<IPython.core.display.HTML object>"
      ]
     },
     "metadata": {},
     "output_type": "display_data"
    },
    {
     "data": {
      "text/plain": [
       "453"
      ]
     },
     "metadata": {},
     "output_type": "display_data"
    },
    {
     "data": {
      "text/plain": [
       "Index(['20003_1140879616-Treatmentmedication_code_amitriptyline',\n",
       "       '20003_1140879630-Treatmentmedication_code_imipramine',\n",
       "       '20003_1140879634-Treatmentmedication_code_trazodone',\n",
       "       '20003_1140879762-Treatmentmedication_code_celiprolol',\n",
       "       '20003_1140879778-Treatmentmedication_code_doxazosin',\n",
       "       '20003_1140879792-Treatmentmedication_code_terbutaline',\n",
       "       '20003_1140879798-Treatmentmedication_code_terazosin',\n",
       "       '20003_1140879818-Treatmentmedication_code_metoprolol',\n",
       "       '20003_1140880086-Treatmentmedication_code_calcipotriol',\n",
       "       '20003_1140881446-Treatmentmedication_code_proctosedyl_ointment',\n",
       "       ...\n",
       "       '20112_13-Illnesses_of_adopted_father_Prostate_cancer',\n",
       "       '20112_2-Illnesses_of_adopted_father_Stroke',\n",
       "       '20112_3-Illnesses_of_adopted_father_Lung_cancer',\n",
       "       '20112_4-Illnesses_of_adopted_father_Bowel_cancer',\n",
       "       '20112_6-Illnesses_of_adopted_father_Chronic_bronchitisemphysema',\n",
       "       '20113_1-Illnesses_of_adopted_mother_Heart_disease',\n",
       "       '20113_100-Illnesses_of_adopted_mother_None_of_the_above_group_1',\n",
       "       '20113_12-Illnesses_of_adopted_mother_Severe_depression',\n",
       "       '20113_3-Illnesses_of_adopted_mother_Lung_cancer',\n",
       "       '20113_6-Illnesses_of_adopted_mother_Chronic_bronchitisemphysema'],\n",
       "      dtype='object', length=453)"
      ]
     },
     "metadata": {},
     "output_type": "display_data"
    },
    {
     "data": {
      "text/html": [
       "<h3>Cluster 41.5</h3>"
      ],
      "text/plain": [
       "<IPython.core.display.HTML object>"
      ]
     },
     "metadata": {},
     "output_type": "display_data"
    },
    {
     "data": {
      "text/plain": [
       "10"
      ]
     },
     "metadata": {},
     "output_type": "display_data"
    },
    {
     "data": {
      "text/plain": [
       "Index(['ASTHMA_MEDICATIO_COMORB-Medication_related_adverse_effects',\n",
       "       'C3_MALE_GENITAL-malignant_neoplasm_of_male_genital_organs',\n",
       "       'C_MALE_GENITAL', 'C_PROSTATE-Malignant_neoplasm_of_prostate',\n",
       "       'H7_LENS-Disorders_of_lens',\n",
       "       'PULM_MEDICATIO_COMORB-Medication_related_adverse_effects_AsthmaCOPD',\n",
       "       'VII_EYE_ADNEXA-Diseases_of_the_eye_and_adnexa', 'age-related cataract',\n",
       "       'cataract', 'prostate carcinoma'],\n",
       "      dtype='object')"
      ]
     },
     "metadata": {},
     "output_type": "display_data"
    },
    {
     "data": {
      "text/html": [
       "<h3>Cluster 41.6</h3>"
      ],
      "text/plain": [
       "<IPython.core.display.HTML object>"
      ]
     },
     "metadata": {},
     "output_type": "display_data"
    },
    {
     "data": {
      "text/plain": [
       "7"
      ]
     },
     "metadata": {},
     "output_type": "display_data"
    },
    {
     "data": {
      "text/plain": [
       "Index(['20003_1140860696-Treatmentmedication_code_lisinopril',\n",
       "       '20003_1140860806-Treatmentmedication_code_ramipril',\n",
       "       '20003_1140866738-Treatmentmedication_code_atenolol',\n",
       "       '20003_1140875408-Treatmentmedication_code_allopurinol',\n",
       "       '20003_1140884600-Treatmentmedication_code_metformin',\n",
       "       'diabetes mellitus', 'gout'],\n",
       "      dtype='object')"
      ]
     },
     "metadata": {},
     "output_type": "display_data"
    },
    {
     "data": {
      "text/html": [
       "<h3>Cluster 41.7</h3>"
      ],
      "text/plain": [
       "<IPython.core.display.HTML object>"
      ]
     },
     "metadata": {},
     "output_type": "display_data"
    },
    {
     "data": {
      "text/plain": [
       "218"
      ]
     },
     "metadata": {},
     "output_type": "display_data"
    },
    {
     "data": {
      "text/plain": [
       "Index(['40001_C259-Underlying_primary_cause_of_death_ICD10_C259_Pancreas_unspecified',\n",
       "       '40001_C459-Underlying_primary_cause_of_death_ICD10_C459_Mesothelioma_unspecified',\n",
       "       '41248_3001-Destinations_on_discharge_from_hospital_recoded_High_security_psychiatric_hospital_NHS',\n",
       "       '41248_5003-Destinations_on_discharge_from_hospital_recoded_Transfer_to_other_NHS_provider_Psychiatry_learning_disabilities',\n",
       "       '41248_6000-Destinations_on_discharge_from_hospital_recoded_Transfer_within_NHS_provider',\n",
       "       '4233_raw-Mean_signaltonoise_ratio_SNR_left',\n",
       "       '4244_raw-Mean_signaltonoise_ratio_SNR_right',\n",
       "       '4269-Number_of_triplets_attempted_left',\n",
       "       '4270-Volume_level_set_by_participant_left',\n",
       "       '4276-Number_of_triplets_attempted_right',\n",
       "       ...\n",
       "       '6158_1-Why_reduced_smoking_Illness_or_ill_health',\n",
       "       '6158_100-Why_reduced_smoking_None_of_the_above',\n",
       "       '6158_2-Why_reduced_smoking_Doctors_advice',\n",
       "       '6158_3-Why_reduced_smoking_Health_precaution',\n",
       "       '6158_4-Why_reduced_smoking_Financial_reasons',\n",
       "       '6159_2-Pain_types_experienced_in_last_month_Facial_pain',\n",
       "       '6159_8-Pain_types_experienced_in_last_month_Pain_all_over_the_body',\n",
       "       '6162_100-Types_of_transport_used_excluding_work_None_of_the_above',\n",
       "       '709-Number_in_household', 'C_PANCREAS-Malignant_neoplasm_of_pancreas'],\n",
       "      dtype='object', length=218)"
      ]
     },
     "metadata": {},
     "output_type": "display_data"
    },
    {
     "data": {
      "text/html": [
       "<h3>Cluster 41.8</h3>"
      ],
      "text/plain": [
       "<IPython.core.display.HTML object>"
      ]
     },
     "metadata": {},
     "output_type": "display_data"
    },
    {
     "data": {
      "text/plain": [
       "3"
      ]
     },
     "metadata": {},
     "output_type": "display_data"
    },
    {
     "data": {
      "text/plain": [
       "Index(['eczema', 'seasonal allergic rhinitis',\n",
       "       'seasonal allergic rhinitis AND allergic rhinitis'],\n",
       "      dtype='object')"
      ]
     },
     "metadata": {},
     "output_type": "display_data"
    },
    {
     "data": {
      "text/html": [
       "<h3>Cluster 41.9</h3>"
      ],
      "text/plain": [
       "<IPython.core.display.HTML object>"
      ]
     },
     "metadata": {},
     "output_type": "display_data"
    },
    {
     "data": {
      "text/plain": [
       "766"
      ]
     },
     "metadata": {},
     "output_type": "display_data"
    },
    {
     "data": {
      "text/plain": [
       "Index(['22601_11113200-Job_coding_senior_official_in_central_government_including_members_of_the_senior_civil_service_and_the_equivalent_in_the_diplomatic_service_mps_meps',\n",
       "       '22601_11123211-Job_coding_director_or_chief_executive_of_private_organisationcompany_company_chairman_or_president_general_manager',\n",
       "       '22601_11133201-Job_coding_senior_official_in_local_government_including_parish_or_town_or_county_chief_clerk_chief_or_superintendent_rate_collector_chief_executive_or_director_councillor',\n",
       "       '22601_11143212-Job_coding_senior_official_of_special_interest_organisation_including_general_manager_or_director_or_executive_or_general_secretary_of_charity_or_trade_unionassociation_or_religious_organisation',\n",
       "       '22601_11212692-Job_coding_production_works_or_maintenance_manager',\n",
       "       '22601_11222591-Job_coding_manager_in_construction_clerk_of_works_site_manager_contracts_manager_highways_manager',\n",
       "       '22601_11232861-Job_coding_manager_in_mining_energy_production_or_water_supply',\n",
       "       '22601_11313221-Job_coding_financial_services_manager_chartered_secretary_banker_merchant_or_investment_banker_finance_director_tax_manager',\n",
       "       '22601_11323222-Job_coding_sales_or_marketing_managerdirector_exportimport_manager_business_development_manager_advertisingcommercial_manager',\n",
       "       '22601_11333223-Job_coding_purchasing_managerdirector_not_retail_supplies_manager',\n",
       "       ...\n",
       "       '41248_6005-Destinations_on_discharge_from_hospital_recoded_Transfer_within_NHS_provider_Medical_specialty',\n",
       "       '41248_6007-Destinations_on_discharge_from_hospital_recoded_Transfer_within_NHS_provider_Geriatrics',\n",
       "       '41248_7001-Destinations_on_discharge_from_hospital_recoded_Nursing_residential_care_group_home_NHS',\n",
       "       '41248_7002-Destinations_on_discharge_from_hospital_recoded_Nursing_residential_care_group_home_Local_Authoritory',\n",
       "       '41248_7003-Destinations_on_discharge_from_hospital_recoded_Nursing_residential_care_group_home_NonNHS',\n",
       "       '41248_8002-Destinations_on_discharge_from_hospital_recoded_Other_hospital_NonNHS',\n",
       "       '4195_raw-Pulse_wave_reflection_index',\n",
       "       '4230_raw-Signaltonoiseratio_SNR_of_triplet_left',\n",
       "       '4241_raw-Signaltonoiseratio_SNR_of_triplet_right',\n",
       "       '4462-Average_monthly_intake_of_other_alcoholic_drinks'],\n",
       "      dtype='object', length=766)"
      ]
     },
     "metadata": {},
     "output_type": "display_data"
    },
    {
     "data": {
      "text/html": [
       "<h3>Cluster 41.10</h3>"
      ],
      "text/plain": [
       "<IPython.core.display.HTML object>"
      ]
     },
     "metadata": {},
     "output_type": "display_data"
    },
    {
     "data": {
      "text/plain": [
       "15"
      ]
     },
     "metadata": {},
     "output_type": "display_data"
    },
    {
     "data": {
      "text/plain": [
       "Index(['20003_1140868226-Treatmentmedication_code_aspirin',\n",
       "       '20003_1141146234-Treatmentmedication_code_atorvastatin',\n",
       "       '6150_1-Vascularheart_problems_diagnosed_by_doctor_Heart_attack',\n",
       "       '6150_2-Vascularheart_problems_diagnosed_by_doctor_Angina',\n",
       "       '6154_1-Medication_for_pain_relief_constipation_heartburn_Aspirin',\n",
       "       'I9_CHD-Major_coronary_heart_disease_event',\n",
       "       'I9_CHD_NOREV-Major_coronary_heart_disease_event_excluding_revascularizations',\n",
       "       'I9_CORATHER-Coronary_atherosclerosis',\n",
       "       'I9_IHD-Ischaemic_heart_disease_wide_definition',\n",
       "       'I9_MI-Myocardial_infarction',\n",
       "       'I9_MI_STRICT-Myocardial_infarction_strict',\n",
       "       'IX_CIRCULATORY-Diseases_of_the_circulatory_system',\n",
       "       'acute myocardial infarction', 'angina pectoris',\n",
       "       'myocardial infarction'],\n",
       "      dtype='object')"
      ]
     },
     "metadata": {},
     "output_type": "display_data"
    },
    {
     "data": {
      "text/html": [
       "<h3>Cluster 41.11</h3>"
      ],
      "text/plain": [
       "<IPython.core.display.HTML object>"
      ]
     },
     "metadata": {},
     "output_type": "display_data"
    },
    {
     "data": {
      "text/plain": [
       "704"
      ]
     },
     "metadata": {},
     "output_type": "display_data"
    },
    {
     "data": {
      "text/plain": [
       "Index(['100010-Portion_size', '100013_raw-Vitamin_B12', '100018_raw-Retinol',\n",
       "       '100019_raw-Carotene', '100021_raw-Vitamin_D', '100022-Alcohol',\n",
       "       '1001-Duration_of_strenuous_sports', '100150-Drinking_water_intake',\n",
       "       '100160-Low_calorie_drink_intake', '100170-Fizzy_drink_intake',\n",
       "       ...\n",
       "       'viral disease', 'viral human hepatitis infection', 'viral meningitis',\n",
       "       'visual impairment', 'vitiligo', 'vitreous body disease',\n",
       "       'vocal cord polyp', 'voice disorders',\n",
       "       'wellbeing measurement AND family relationship', 'whooping cough'],\n",
       "      dtype='object', length=704)"
      ]
     },
     "metadata": {},
     "output_type": "display_data"
    },
    {
     "data": {
      "text/html": [
       "<h3>Cluster 41.12</h3>"
      ],
      "text/plain": [
       "<IPython.core.display.HTML object>"
      ]
     },
     "metadata": {},
     "output_type": "display_data"
    },
    {
     "data": {
      "text/plain": [
       "17"
      ]
     },
     "metadata": {},
     "output_type": "display_data"
    },
    {
     "data": {
      "text/plain": [
       "Index(['6152_5-Blood_clot_DVT_bronchitis_emphysema_asthma_rhinitis_eczema_allergy_diagnosed_by_doctor_Blood_clot_in_the_leg_DVT',\n",
       "       'G6_CARPTU-Carpal_tunnel_syndrome',\n",
       "       'G6_NERPLEX-Nerve_nerve_root_and_plexus_disorders',\n",
       "       'I9_DVTANDPULM-DVT_of_lower_extremities_and_pulmonary_embolism',\n",
       "       'I9_PHLETHROMBDVTLOW-DVT_of_lower_extremities',\n",
       "       'I9_VTE-Venous_thromboembolism',\n",
       "       'K11_GALLBILPANC-Disorders_of_gallbladder_biliary_tract_and_pancreas',\n",
       "       'OTHER_ILD_CVD_COMORB-Other_ILDrelated_CVDcomorbidities',\n",
       "       'ULCERNAS-Ulcerative_colitis_NAS',\n",
       "       'VI_NERVOUS-Diseases_of_the_nervous_system',\n",
       "       'XII_SKIN_SUBCUTAN-Diseases_of_the_skin_and_subcutaneous_tissue',\n",
       "       'birth weight', 'cholelithiasis', 'deep vein thrombosis',\n",
       "       'mononeuropathy', 'phlebitis AND thrombophlebitis',\n",
       "       'pulmonary embolism'],\n",
       "      dtype='object')"
      ]
     },
     "metadata": {},
     "output_type": "display_data"
    },
    {
     "data": {
      "text/html": [
       "<h3>Cluster 41.13</h3>"
      ],
      "text/plain": [
       "<IPython.core.display.HTML object>"
      ]
     },
     "metadata": {},
     "output_type": "display_data"
    },
    {
     "data": {
      "text/plain": [
       "49"
      ]
     },
     "metadata": {},
     "output_type": "display_data"
    },
    {
     "data": {
      "text/plain": [
       "Index(['20015_raw-Sitting_height',\n",
       "       '20150_raw-Forced_expiratory_volume_in_1second_FEV1_Best_measure',\n",
       "       '20151_raw-Forced_vital_capacity_FVC_Best_measure',\n",
       "       '20153_raw-Forced_expiratory_volume_in_1second_FEV1_predicted',\n",
       "       '20154_raw-Forced_expiratory_volume_in_1second_FEV1_predicted_percentage',\n",
       "       '21001_raw-Body_mass_index_BMI', '21002_raw-Weight', '23098_raw-Weight',\n",
       "       '23099_raw-Body_fat_percentage', '23100_raw-Whole_body_fat_mass',\n",
       "       '23101_raw-Whole_body_fatfree_mass', '23102_raw-Whole_body_water_mass',\n",
       "       '23104_raw-Body_mass_index_BMI', '23105_raw-Basal_metabolic_rate',\n",
       "       '23106_raw-Impedance_of_whole_body', '23107_raw-Impedance_of_leg_right',\n",
       "       '23108_raw-Impedance_of_leg_left', '23109_raw-Impedance_of_arm_right',\n",
       "       '23110_raw-Impedance_of_arm_left', '23111_raw-Leg_fat_percentage_right',\n",
       "       '23112_raw-Leg_fat_mass_right', '23113_raw-Leg_fatfree_mass_right',\n",
       "       '23114_raw-Leg_predicted_mass_right',\n",
       "       '23115_raw-Leg_fat_percentage_left', '23116_raw-Leg_fat_mass_left',\n",
       "       '23117_raw-Leg_fatfree_mass_left', '23118_raw-Leg_predicted_mass_left',\n",
       "       '23119_raw-Arm_fat_percentage_right', '23120_raw-Arm_fat_mass_right',\n",
       "       '23121_raw-Arm_fatfree_mass_right',\n",
       "       '23122_raw-Arm_predicted_mass_right',\n",
       "       '23123_raw-Arm_fat_percentage_left', '23124_raw-Arm_fat_mass_left',\n",
       "       '23125_raw-Arm_fatfree_mass_left', '23126_raw-Arm_predicted_mass_left',\n",
       "       '23127_raw-Trunk_fat_percentage', '23128_raw-Trunk_fat_mass',\n",
       "       '23129_raw-Trunk_fatfree_mass', '23130_raw-Trunk_predicted_mass',\n",
       "       '3062_raw-Forced_vital_capacity_FVC',\n",
       "       '3063_raw-Forced_expiratory_volume_in_1second_FEV1',\n",
       "       '3064_raw-Peak_expiratory_flow_PEF', '3143_raw-Ankle_spacing_width',\n",
       "       '4100_raw-Ankle_spacing_width_left',\n",
       "       '4119_raw-Ankle_spacing_width_right', '48_raw-Waist_circumference',\n",
       "       '49_raw-Hip_circumference', '50_raw-Standing_height', 'body height'],\n",
       "      dtype='object')"
      ]
     },
     "metadata": {},
     "output_type": "display_data"
    },
    {
     "data": {
      "text/html": [
       "<h3>Cluster 41.14</h3>"
      ],
      "text/plain": [
       "<IPython.core.display.HTML object>"
      ]
     },
     "metadata": {},
     "output_type": "display_data"
    },
    {
     "data": {
      "text/plain": [
       "241"
      ]
     },
     "metadata": {},
     "output_type": "display_data"
    },
    {
     "data": {
      "text/plain": [
       "Index(['1021-Duration_of_light_DIY', '102_raw-Pulse_rate_automated_reading',\n",
       "       '1050-Time_spend_outdoors_in_summer',\n",
       "       '1060-Time_spent_outdoors_in_winter',\n",
       "       '1070-Time_spent_watching_television_TV',\n",
       "       '1080-Time_spent_using_computer', '1090-Time_spent_driving',\n",
       "       '1100-Drive_faster_than_motorway_speed_limit',\n",
       "       '110001-Invitation_to_complete_online_24hour_recall_dietary_questionnaire_acceptance',\n",
       "       '1110-Length_of_mobile_phone_use',\n",
       "       ...\n",
       "       'self rated health', 'self reported educational attainment',\n",
       "       'sleep duration', 'smoking behavior', 'smoking cessation',\n",
       "       'snoring measurement', 'tiredness measurement', 'varicose veins',\n",
       "       'wheezing', 'worry measurement'],\n",
       "      dtype='object', length=241)"
      ]
     },
     "metadata": {},
     "output_type": "display_data"
    },
    {
     "data": {
      "text/html": [
       "<h3>Cluster 41.15</h3>"
      ],
      "text/plain": [
       "<IPython.core.display.HTML object>"
      ]
     },
     "metadata": {},
     "output_type": "display_data"
    },
    {
     "data": {
      "text/plain": [
       "21"
      ]
     },
     "metadata": {},
     "output_type": "display_data"
    },
    {
     "data": {
      "text/plain": [
       "Index(['20003_2038460150-Treatmentmedication_code_paracetamol',\n",
       "       '20016_raw-Fluid_intelligence_score', '20022_raw-Birth_weight',\n",
       "       '20023_raw-Mean_time_to_correctly_identify_matches',\n",
       "       '20074_raw-Home_location_at_assessment_east_coordinate_rounded',\n",
       "       '20077-Number_of_diet_questionnaires_completed',\n",
       "       '20086_8-Type_of_special_diet_followed_Glutenfree',\n",
       "       '20107_1-Illnesses_of_father_Heart_disease',\n",
       "       '20107_100-Illnesses_of_father_None_of_the_above_group_1',\n",
       "       '20107_3-Illnesses_of_father_Lung_cancer',\n",
       "       '20107_8-Illnesses_of_father_High_blood_pressure',\n",
       "       '20107_9-Illnesses_of_father_Diabetes',\n",
       "       '20110_1-Illnesses_of_mother_Heart_disease',\n",
       "       '20110_10-Illnesses_of_mother_Alzheimers_diseasedementia',\n",
       "       '20110_100-Illnesses_of_mother_None_of_the_above_group_1',\n",
       "       '20110_8-Illnesses_of_mother_High_blood_pressure',\n",
       "       '20110_9-Illnesses_of_mother_Diabetes',\n",
       "       '20111_1-Illnesses_of_siblings_Heart_disease',\n",
       "       '20111_100-Illnesses_of_siblings_None_of_the_above_group_1',\n",
       "       '20111_8-Illnesses_of_siblings_High_blood_pressure',\n",
       "       '20111_9-Illnesses_of_siblings_Diabetes'],\n",
       "      dtype='object')"
      ]
     },
     "metadata": {},
     "output_type": "display_data"
    },
    {
     "data": {
      "text/html": [
       "<h3>Cluster 41.16</h3>"
      ],
      "text/plain": [
       "<IPython.core.display.HTML object>"
      ]
     },
     "metadata": {},
     "output_type": "display_data"
    },
    {
     "data": {
      "text/plain": [
       "7"
      ]
     },
     "metadata": {},
     "output_type": "display_data"
    },
    {
     "data": {
      "text/plain": [
       "Index(['1717-Skin_colour', '1727-Ease_of_skin_tanning',\n",
       "       '1747_1-Hair_colour_natural_before_greying_Blonde',\n",
       "       '1747_2-Hair_colour_natural_before_greying_Red',\n",
       "       '1747_3-Hair_colour_natural_before_greying_Light_brown',\n",
       "       '1747_4-Hair_colour_natural_before_greying_Dark_brown',\n",
       "       '1747_5-Hair_colour_natural_before_greying_Black'],\n",
       "      dtype='object')"
      ]
     },
     "metadata": {},
     "output_type": "display_data"
    },
    {
     "data": {
      "text/html": [
       "<h3>Cluster 41.17</h3>"
      ],
      "text/plain": [
       "<IPython.core.display.HTML object>"
      ]
     },
     "metadata": {},
     "output_type": "display_data"
    },
    {
     "data": {
      "text/plain": [
       "5"
      ]
     },
     "metadata": {},
     "output_type": "display_data"
    },
    {
     "data": {
      "text/plain": [
       "Index(['30080_raw-Platelet_count', '30090_raw-Platelet_crit',\n",
       "       '30100_raw-Mean_platelet_thrombocyte_volume',\n",
       "       '30110_raw-Platelet_distribution_width', 'platelet count'],\n",
       "      dtype='object')"
      ]
     },
     "metadata": {},
     "output_type": "display_data"
    },
    {
     "data": {
      "text/html": [
       "<h3>Cluster 41.18</h3>"
      ],
      "text/plain": [
       "<IPython.core.display.HTML object>"
      ]
     },
     "metadata": {},
     "output_type": "display_data"
    },
    {
     "data": {
      "text/plain": [
       "6"
      ]
     },
     "metadata": {},
     "output_type": "display_data"
    },
    {
     "data": {
      "text/plain": [
       "Index(['40001_C349-Underlying_primary_cause_of_death_ICD10_C349_Bronchus_or_lung_unspecified',\n",
       "       'C3_RESPIRATORY_INTRATHORACIC-Malignant_neoplasm_of_respiratory_system_and_intrathoracic_organs',\n",
       "       'C_BRONCHUS_LUNG-Malignant_neoplasm_of_bronchus_and_lung',\n",
       "       'C_RESPIRATORY_INTRATHORACIC',\n",
       "       'LUNG_CANCER_MESOT-Lung_cancer_and_mesothelioma', 'lung carcinoma'],\n",
       "      dtype='object')"
      ]
     },
     "metadata": {},
     "output_type": "display_data"
    },
    {
     "data": {
      "text/html": [
       "<h3>Cluster 41.19</h3>"
      ],
      "text/plain": [
       "<IPython.core.display.HTML object>"
      ]
     },
     "metadata": {},
     "output_type": "display_data"
    },
    {
     "data": {
      "text/plain": [
       "43"
      ]
     },
     "metadata": {},
     "output_type": "display_data"
    },
    {
     "data": {
      "text/plain": [
       "Index(['129_raw-Place_of_birth_in_UK_north_coordinate',\n",
       "       '20075_raw-Home_location_at_assessment_north_coordinate_rounded',\n",
       "       '22704_raw-Home_location_north_coordinate_rounded',\n",
       "       'ASTHMA_PNEUMONIA-Asthmarelated_pneumonia',\n",
       "       'G6_EPIPAROX-Episodal_and_paroxysmal_disorders',\n",
       "       'G6_SLEEPAPNO-Sleep_apnoea',\n",
       "       'L12_ATROPHICSKIN-Atrophic_disorders_of_skin',\n",
       "       'L12_SCARCONDITIONS-Scar_conditions_and_fibrosis_of_skin',\n",
       "       'M13_DORSOPATHYOTH-Other_dorsopathies_not_elsewhere_classified',\n",
       "       'M13_MUSCULOSKELEOTH-Other_disorders_of_the_musculoskeletal_system_and_connective_tissue',\n",
       "       'M13_SACROCOGG-Sacrococcygeal_disorders_not_elsewhere_classified',\n",
       "       'PNEUMONIA-Pneumonias_AsthmaCOPD_comorbidities',\n",
       "       'SLEEP-Sleep_disorders_combined', 'abdominal injury', 'bone disease',\n",
       "       'cardiac arrhythmia', 'checkup',\n",
       "       'chronic obstructive pulmonary disease', 'device complication',\n",
       "       'encounter with health service', 'female reproductive system disease',\n",
       "       'follow-up', 'head injury', 'headache', 'heart disease', 'injury',\n",
       "       'joint disease', 'kidney failure', 'leg injury', 'lower limb pain',\n",
       "       'mesothelioma', 'musculoskeletal system disease',\n",
       "       'musculoskeletal system disease AND connective tissue disease',\n",
       "       'nasal cavity polyp', 'pericarditis', 'pneumonia', 'poisoning',\n",
       "       'pregnancy disorder', 'skin atrophy', 'sleep disorder',\n",
       "       'soft tissue disease', 'urogenital neoplasm', 'wrist fracture'],\n",
       "      dtype='object')"
      ]
     },
     "metadata": {},
     "output_type": "display_data"
    },
    {
     "data": {
      "text/html": [
       "<h3>Cluster 41.20</h3>"
      ],
      "text/plain": [
       "<IPython.core.display.HTML object>"
      ]
     },
     "metadata": {},
     "output_type": "display_data"
    },
    {
     "data": {
      "text/plain": [
       "3"
      ]
     },
     "metadata": {},
     "output_type": "display_data"
    },
    {
     "data": {
      "text/plain": [
       "Index(['M13_DUPUTRYEN-Palmar_fascial_fibromatosis_Dupuytren',\n",
       "       'M13_FIBROBLASTIC-Fibroblastic_disorders', 'fibroblastic disorder'],\n",
       "      dtype='object')"
      ]
     },
     "metadata": {},
     "output_type": "display_data"
    },
    {
     "data": {
      "text/html": [
       "<h3>Cluster 41.21</h3>"
      ],
      "text/plain": [
       "<IPython.core.display.HTML object>"
      ]
     },
     "metadata": {},
     "output_type": "display_data"
    },
    {
     "data": {
      "text/plain": [
       "2"
      ]
     },
     "metadata": {},
     "output_type": "display_data"
    },
    {
     "data": {
      "text/plain": [
       "Index(['46_raw-Hand_grip_strength_left', '47_raw-Hand_grip_strength_right'], dtype='object')"
      ]
     },
     "metadata": {},
     "output_type": "display_data"
    },
    {
     "data": {
      "text/html": [
       "<h3>Cluster 41.22</h3>"
      ],
      "text/plain": [
       "<IPython.core.display.HTML object>"
      ]
     },
     "metadata": {},
     "output_type": "display_data"
    },
    {
     "data": {
      "text/plain": [
       "8"
      ]
     },
     "metadata": {},
     "output_type": "display_data"
    },
    {
     "data": {
      "text/plain": [
       "Index(['24013-Total_traffic_load_on_major_roads', '24014-Close_to_major_road',\n",
       "       '24015-Sum_of_road_length_of_major_roads_within_100m',\n",
       "       '24020_raw-Average_daytime_sound_level_of_noise_pollution',\n",
       "       '24021_raw-Average_evening_sound_level_of_noise_pollution',\n",
       "       '24022_raw-Average_nighttime_sound_level_of_noise_pollution',\n",
       "       '24023_raw-Average_16hour_sound_level_of_noise_pollution',\n",
       "       '24024_raw-Average_24hour_sound_level_of_noise_pollution'],\n",
       "      dtype='object')"
      ]
     },
     "metadata": {},
     "output_type": "display_data"
    },
    {
     "data": {
      "text/html": [
       "<h3>Cluster 41.23</h3>"
      ],
      "text/plain": [
       "<IPython.core.display.HTML object>"
      ]
     },
     "metadata": {},
     "output_type": "display_data"
    },
    {
     "data": {
      "text/plain": [
       "5"
      ]
     },
     "metadata": {},
     "output_type": "display_data"
    },
    {
     "data": {
      "text/plain": [
       "Index(['F5_ALLANXIOUS-All_anxiety_disorders',\n",
       "       'F5_ANXIETY-Other_anxiety_disorders',\n",
       "       'KRA_PSY_ANXIETY-Anxiety_disorders',\n",
       "       'PULM_ANXIETY-Anxiety_asthmarelated_comorbidities', 'anxiety disorder'],\n",
       "      dtype='object')"
      ]
     },
     "metadata": {},
     "output_type": "display_data"
    },
    {
     "data": {
      "text/html": [
       "<h3>Cluster 41.24</h3>"
      ],
      "text/plain": [
       "<IPython.core.display.HTML object>"
      ]
     },
     "metadata": {},
     "output_type": "display_data"
    },
    {
     "data": {
      "text/plain": [
       "11"
      ]
     },
     "metadata": {},
     "output_type": "display_data"
    },
    {
     "data": {
      "text/plain": [
       "Index(['1707_1-Handedness_chiralitylaterality_Righthanded',\n",
       "       '20003_1140865634-Treatmentmedication_code_omeprazole',\n",
       "       'C3_SKIN-Malignant_neoplasm_of_skin',\n",
       "       'C_OTHER_SKIN-Other_malignant_neoplasms_of_skin', 'C_SKIN',\n",
       "       'KNEE_ARTHROSIS-Gonarthrosis_arthrosis_of_kneeFG',\n",
       "       'M13_ARTHROSIS-Arthrosis', 'depressive episode measurement',\n",
       "       'functional laterality', 'osteoarthritis, knee', 'skin neoplasm'],\n",
       "      dtype='object')"
      ]
     },
     "metadata": {},
     "output_type": "display_data"
    },
    {
     "data": {
      "text/html": [
       "<h3>Cluster 41.25</h3>"
      ],
      "text/plain": [
       "<IPython.core.display.HTML object>"
      ]
     },
     "metadata": {},
     "output_type": "display_data"
    },
    {
     "data": {
      "text/plain": [
       "18"
      ]
     },
     "metadata": {},
     "output_type": "display_data"
    },
    {
     "data": {
      "text/plain": [
       "Index(['100001_raw-Food_weight', '100002_raw-Energy', '100003_raw-Protein',\n",
       "       '100004_raw-Fat', '100005_raw-Carbohydrate', '100006_raw-Saturated_fat',\n",
       "       '100007_raw-Polyunsaturated_fat', '100008_raw-Total_sugars',\n",
       "       '100009_raw-Englyst_dietary_fibre', '100011_raw-Iron',\n",
       "       '100012_raw-Vitamin_B6', '100014_raw-Folate', '100015_raw-Vitamin_C',\n",
       "       '100016_raw-Potassium', '100017_raw-Magnesium', '100023_raw-Starch',\n",
       "       '100024_raw-Calcium', '100025_raw-Vitamin_E'],\n",
       "      dtype='object')"
      ]
     },
     "metadata": {},
     "output_type": "display_data"
    },
    {
     "data": {
      "text/html": [
       "<h3>Cluster 41.26</h3>"
      ],
      "text/plain": [
       "<IPython.core.display.HTML object>"
      ]
     },
     "metadata": {},
     "output_type": "display_data"
    },
    {
     "data": {
      "text/plain": [
       "7"
      ]
     },
     "metadata": {},
     "output_type": "display_data"
    },
    {
     "data": {
      "text/plain": [
       "Index(['5984_raw-ECG_load', '5986_raw-ECG_phase_time',\n",
       "       '5992-ECG_phase_duration', '5993-ECG_number_of_stages_in_a_phase',\n",
       "       '6032_raw-Maximum_workload_during_fitness_test',\n",
       "       '6038_raw-Number_of_trend_entries', '6039-Duration_of_fitness_test'],\n",
       "      dtype='object')"
      ]
     },
     "metadata": {},
     "output_type": "display_data"
    },
    {
     "data": {
      "text/html": [
       "<h3>Cluster 41.27</h3>"
      ],
      "text/plain": [
       "<IPython.core.display.HTML object>"
      ]
     },
     "metadata": {},
     "output_type": "display_data"
    },
    {
     "data": {
      "text/plain": [
       "15"
      ]
     },
     "metadata": {},
     "output_type": "display_data"
    },
    {
     "data": {
      "text/plain": [
       "Index(['20003_1140861958-Treatmentmedication_code_simvastatin',\n",
       "       '20003_1140879802-Treatmentmedication_code_amlodipine',\n",
       "       '20003_1141194794-Treatmentmedication_code_bendroflumethiazide',\n",
       "       '4079_raw-Diastolic_blood_pressure_automated_reading',\n",
       "       '4080_raw-Systolic_blood_pressure_automated_reading',\n",
       "       '6150_100-Vascularheart_problems_diagnosed_by_doctor_None_of_the_above',\n",
       "       '6150_4-Vascularheart_problems_diagnosed_by_doctor_High_blood_pressure',\n",
       "       '6153_1-Medication_for_cholesterol_blood_pressure_diabetes_or_take_exogenous_hormones_Cholesterol_lowering_medication',\n",
       "       '6153_100-Medication_for_cholesterol_blood_pressure_diabetes_or_take_exogenous_hormones_None_of_the_above',\n",
       "       '6153_2-Medication_for_cholesterol_blood_pressure_diabetes_or_take_exogenous_hormones_Blood_pressure_medication',\n",
       "       '6177_1-Medication_for_cholesterol_blood_pressure_or_diabetes_Cholesterol_lowering_medication',\n",
       "       '6177_100-Medication_for_cholesterol_blood_pressure_or_diabetes_None_of_the_above',\n",
       "       '6177_2-Medication_for_cholesterol_blood_pressure_or_diabetes_Blood_pressure_medication',\n",
       "       'hypercholesterolemia', 'hypertension'],\n",
       "      dtype='object')"
      ]
     },
     "metadata": {},
     "output_type": "display_data"
    },
    {
     "data": {
      "text/html": [
       "<h3>Cluster 41.28</h3>"
      ],
      "text/plain": [
       "<IPython.core.display.HTML object>"
      ]
     },
     "metadata": {},
     "output_type": "display_data"
    },
    {
     "data": {
      "text/plain": [
       "3"
      ]
     },
     "metadata": {},
     "output_type": "display_data"
    },
    {
     "data": {
      "text/plain": [
       "Index(['L12_ACTINKERA-Actinic_keratosis',\n",
       "       'L12_NONIONRADISKIN-Skin_changes_due_to_chronic_exposure_to_nonionizing_radiation',\n",
       "       'radiation-induced disorder'],\n",
       "      dtype='object')"
      ]
     },
     "metadata": {},
     "output_type": "display_data"
    },
    {
     "data": {
      "text/html": [
       "<h3>Cluster 41.29</h3>"
      ],
      "text/plain": [
       "<IPython.core.display.HTML object>"
      ]
     },
     "metadata": {},
     "output_type": "display_data"
    },
    {
     "data": {
      "text/plain": [
       "15"
      ]
     },
     "metadata": {},
     "output_type": "display_data"
    },
    {
     "data": {
      "text/plain": [
       "Index(['30010_raw-Red_blood_cell_erythrocyte_count',\n",
       "       '30020_raw-Haemoglobin_concentration',\n",
       "       '30030_raw-Haematocrit_percentage', '30040_raw-Mean_corpuscular_volume',\n",
       "       '30050_raw-Mean_corpuscular_haemoglobin',\n",
       "       '30070_raw-Red_blood_cell_erythrocyte_distribution_width',\n",
       "       '30240_raw-Reticulocyte_percentage', '30250_raw-Reticulocyte_count',\n",
       "       '30260_raw-Mean_reticulocyte_volume',\n",
       "       '30270_raw-Mean_sphered_cell_volume',\n",
       "       '30280_raw-Immature_reticulocyte_fraction',\n",
       "       '30290_raw-High_light_scatter_reticulocyte_percentage',\n",
       "       '30300_raw-High_light_scatter_reticulocyte_count', 'erythrocyte count',\n",
       "       'reticulocyte count'],\n",
       "      dtype='object')"
      ]
     },
     "metadata": {},
     "output_type": "display_data"
    },
    {
     "data": {
      "text/html": [
       "<h3>Cluster 41.30</h3>"
      ],
      "text/plain": [
       "<IPython.core.display.HTML object>"
      ]
     },
     "metadata": {},
     "output_type": "display_data"
    },
    {
     "data": {
      "text/plain": [
       "266"
      ]
     },
     "metadata": {},
     "output_type": "display_data"
    },
    {
     "data": {
      "text/plain": [
       "Index(['20111_101-Illnesses_of_siblings_None_of_the_above_group_2',\n",
       "       '20111_12-Illnesses_of_siblings_Severe_depression',\n",
       "       '20112_8-Illnesses_of_adopted_father_High_blood_pressure',\n",
       "       '20112_9-Illnesses_of_adopted_father_Diabetes',\n",
       "       '20113_10-Illnesses_of_adopted_mother_Alzheimers_diseasedementia',\n",
       "       '20113_101-Illnesses_of_adopted_mother_None_of_the_above_group_2',\n",
       "       '20113_2-Illnesses_of_adopted_mother_Stroke',\n",
       "       '20113_4-Illnesses_of_adopted_mother_Bowel_cancer',\n",
       "       '20113_5-Illnesses_of_adopted_mother_Breast_cancer',\n",
       "       '20113_8-Illnesses_of_adopted_mother_High_blood_pressure',\n",
       "       ...\n",
       "       '22601_31113086-Job_coding_laboratory_technician',\n",
       "       '22601_31122951-Job_coding_electricalelectronics_technician',\n",
       "       '22601_31153052-Job_coding_quality_assurance_technician_or_coordinator',\n",
       "       '22601_31193055-Job_coding_other_engineering_technician_including_materials_technician_technical_assistant_technical_officer',\n",
       "       '22601_32113077-Job_coding_health_visitor',\n",
       "       '22601_32323112-Job_coding_benefits_advisor_citizens_advice_bureau_adviser_debt_counsellor',\n",
       "       '22601_32323410-Job_coding_schoolstudent_counsellor_school_attendance_officer',\n",
       "       '22601_34333162-Job_coding_public_relations_officer_press_officer_information_officer',\n",
       "       '22601_35333266-Job_coding_insurance_underwriter_insurance_inspector_insurance_account_handler',\n",
       "       '22601_35623213-Job_coding_personnel_or_industrial_relations_officer_recruitment_consultant'],\n",
       "      dtype='object', length=266)"
      ]
     },
     "metadata": {},
     "output_type": "display_data"
    },
    {
     "data": {
      "text/html": [
       "<h3>Cluster 41.31</h3>"
      ],
      "text/plain": [
       "<IPython.core.display.HTML object>"
      ]
     },
     "metadata": {},
     "output_type": "display_data"
    },
    {
     "data": {
      "text/plain": [
       "1"
      ]
     },
     "metadata": {},
     "output_type": "display_data"
    },
    {
     "data": {
      "text/plain": [
       "Index(['30060_raw-Mean_corpuscular_haemoglobin_concentration'], dtype='object')"
      ]
     },
     "metadata": {},
     "output_type": "display_data"
    },
    {
     "data": {
      "text/html": [
       "<h3>Cluster 41.32</h3>"
      ],
      "text/plain": [
       "<IPython.core.display.HTML object>"
      ]
     },
     "metadata": {},
     "output_type": "display_data"
    },
    {
     "data": {
      "text/plain": [
       "8"
      ]
     },
     "metadata": {},
     "output_type": "display_data"
    },
    {
     "data": {
      "text/plain": [
       "Index(['24003_raw-Nitrogen_dioxide_air_pollution_2010',\n",
       "       '24004_raw-Nitrogen_oxides_air_pollution_2010',\n",
       "       '24006_raw-Particulate_matter_air_pollution_pm25_2010',\n",
       "       '24007_raw-Particulate_matter_air_pollution_pm25_absorbance_2010',\n",
       "       '24016_raw-Nitrogen_dioxide_air_pollution_2005',\n",
       "       '24017_raw-Nitrogen_dioxide_air_pollution_2006',\n",
       "       '24018_raw-Nitrogen_dioxide_air_pollution_2007',\n",
       "       '24019_raw-Particulate_matter_air_pollution_pm10_2007'],\n",
       "      dtype='object')"
      ]
     },
     "metadata": {},
     "output_type": "display_data"
    },
    {
     "data": {
      "text/html": [
       "<h3>Cluster 41.33</h3>"
      ],
      "text/plain": [
       "<IPython.core.display.HTML object>"
      ]
     },
     "metadata": {},
     "output_type": "display_data"
    },
    {
     "data": {
      "text/plain": [
       "8"
      ]
     },
     "metadata": {},
     "output_type": "display_data"
    },
    {
     "data": {
      "text/plain": [
       "Index(['5096_raw-3mm_weak_meridian_left', '5097_raw-6mm_weak_meridian_left',\n",
       "       '5098_raw-6mm_weak_meridian_right', '5099_raw-3mm_weak_meridian_right',\n",
       "       '5132_raw-3mm_strong_meridian_right',\n",
       "       '5133_raw-6mm_strong_meridian_right',\n",
       "       '5134_raw-6mm_strong_meridian_left',\n",
       "       '5135_raw-3mm_strong_meridian_left'],\n",
       "      dtype='object')"
      ]
     },
     "metadata": {},
     "output_type": "display_data"
    },
    {
     "data": {
      "text/html": [
       "<h3>Cluster 41.34</h3>"
      ],
      "text/plain": [
       "<IPython.core.display.HTML object>"
      ]
     },
     "metadata": {},
     "output_type": "display_data"
    },
    {
     "data": {
      "text/plain": [
       "1"
      ]
     },
     "metadata": {},
     "output_type": "display_data"
    },
    {
     "data": {
      "text/plain": [
       "Index(['mineral metabolism disease'], dtype='object')"
      ]
     },
     "metadata": {},
     "output_type": "display_data"
    },
    {
     "data": {
      "text/html": [
       "<h3>Cluster 41.35</h3>"
      ],
      "text/plain": [
       "<IPython.core.display.HTML object>"
      ]
     },
     "metadata": {},
     "output_type": "display_data"
    },
    {
     "data": {
      "text/plain": [
       "4"
      ]
     },
     "metadata": {},
     "output_type": "display_data"
    },
    {
     "data": {
      "text/plain": [
       "Index(['HEARTFAIL-Heart_failure', 'I9_HEARTFAIL-Heart_failurestrict',\n",
       "       'I9_HEARTFAIL_NS-Heart_failure_not_strict', 'heart failure'],\n",
       "      dtype='object')"
      ]
     },
     "metadata": {},
     "output_type": "display_data"
    },
    {
     "data": {
      "text/html": [
       "<h3>Cluster 41.36</h3>"
      ],
      "text/plain": [
       "<IPython.core.display.HTML object>"
      ]
     },
     "metadata": {},
     "output_type": "display_data"
    },
    {
     "data": {
      "text/plain": [
       "4"
      ]
     },
     "metadata": {},
     "output_type": "display_data"
    },
    {
     "data": {
      "text/plain": [
       "Index(['COPD_EXCL-COPD_differential_diagnosis',\n",
       "       'ILD_DIFF_DG-ILD_differential_diagnosis',\n",
       "       'PULMONARYDG-Other_pulmonary_diagnosis',\n",
       "       'X_RESPIRATORY-Diseases_of_the_respiratory_system'],\n",
       "      dtype='object')"
      ]
     },
     "metadata": {},
     "output_type": "display_data"
    },
    {
     "data": {
      "text/html": [
       "<h3>Cluster 41.37</h3>"
      ],
      "text/plain": [
       "<IPython.core.display.HTML object>"
      ]
     },
     "metadata": {},
     "output_type": "display_data"
    },
    {
     "data": {
      "text/plain": [
       "5"
      ]
     },
     "metadata": {},
     "output_type": "display_data"
    },
    {
     "data": {
      "text/plain": [
       "Index(['C_STROKE-STROKE', 'I9_STR-Stroke_excluding_SAH',\n",
       "       'I9_STR_EXH-Ischaemic_Stroke_excluding_all_haemorrhages',\n",
       "       'I9_STR_SAH-Stroke_including_SAH', 'brain infarction'],\n",
       "      dtype='object')"
      ]
     },
     "metadata": {},
     "output_type": "display_data"
    },
    {
     "data": {
      "text/html": [
       "<h3>Cluster 41.38</h3>"
      ],
      "text/plain": [
       "<IPython.core.display.HTML object>"
      ]
     },
     "metadata": {},
     "output_type": "display_data"
    },
    {
     "data": {
      "text/plain": [
       "1"
      ]
     },
     "metadata": {},
     "output_type": "display_data"
    },
    {
     "data": {
      "text/plain": [
       "Index(['1737-Childhood_sunburn_occasions'], dtype='object')"
      ]
     },
     "metadata": {},
     "output_type": "display_data"
    },
    {
     "data": {
      "text/html": [
       "<h3>Cluster 41.39</h3>"
      ],
      "text/plain": [
       "<IPython.core.display.HTML object>"
      ]
     },
     "metadata": {},
     "output_type": "display_data"
    },
    {
     "data": {
      "text/plain": [
       "12"
      ]
     },
     "metadata": {},
     "output_type": "display_data"
    },
    {
     "data": {
      "text/plain": [
       "Index(['3144_raw-Heel_Broadband_ultrasound_attenuation_direct_entry',\n",
       "       '3147_raw-Heel_quantitative_ultrasound_index_QUI_direct_entry',\n",
       "       '3148_raw-Heel_bone_mineral_density_BMD',\n",
       "       '4101_raw-Heel_broadband_ultrasound_attenuation_left',\n",
       "       '4104_raw-Heel_quantitative_ultrasound_index_QUI_direct_entry_left',\n",
       "       '4105_raw-Heel_bone_mineral_density_BMD_left',\n",
       "       '4106_raw-Heel_bone_mineral_density_BMD_Tscore_automated_left',\n",
       "       '4120_raw-Heel_broadband_ultrasound_attenuation_right',\n",
       "       '4123_raw-Heel_quantitative_ultrasound_index_QUI_direct_entry_right',\n",
       "       '4124_raw-Heel_bone_mineral_density_BMD_right',\n",
       "       '4125_raw-Heel_bone_mineral_density_BMD_Tscore_automated_right',\n",
       "       '78_raw-Heel_bone_mineral_density_BMD_Tscore_automated'],\n",
       "      dtype='object')"
      ]
     },
     "metadata": {},
     "output_type": "display_data"
    },
    {
     "data": {
      "text/html": [
       "<h3>Cluster 41.40</h3>"
      ],
      "text/plain": [
       "<IPython.core.display.HTML object>"
      ]
     },
     "metadata": {},
     "output_type": "display_data"
    },
    {
     "data": {
      "text/plain": [
       "17"
      ]
     },
     "metadata": {},
     "output_type": "display_data"
    },
    {
     "data": {
      "text/plain": [
       "Index(['20003_1140883066-Treatmentmedication_code_insulin_product',\n",
       "       '20003_1141191044-Treatmentmedication_code_levothyroxine_sodium',\n",
       "       '2976_raw-Age_diabetes_diagnosed',\n",
       "       '2986-Started_insulin_within_one_year_diagnosis_of_diabetes',\n",
       "       '6144_3-Never_eat_eggs_dairy_wheat_sugar_Wheat_products',\n",
       "       '6153_3-Medication_for_cholesterol_blood_pressure_diabetes_or_take_exogenous_hormones_Insulin',\n",
       "       '6177_3-Medication_for_cholesterol_blood_pressure_or_diabetes_Insulin',\n",
       "       'K11_COELIAC-Coeliac_disease', 'celiac disease',\n",
       "       'hyperthyroidism AND thyrotoxicosis', 'hypothyroidism AND myxedema',\n",
       "       'malabsorption syndrome', 'psoriasis', 'rheumatoid arthritis',\n",
       "       'sarcoidosis', 'systemic lupus erythematosus',\n",
       "       'type i diabetes mellitus'],\n",
       "      dtype='object')"
      ]
     },
     "metadata": {},
     "output_type": "display_data"
    },
    {
     "data": {
      "text/html": [
       "<h2>Partition with k=42</h2>"
      ],
      "text/plain": [
       "<IPython.core.display.HTML object>"
      ]
     },
     "metadata": {},
     "output_type": "display_data"
    },
    {
     "data": {
      "text/plain": [
       "method                              eac_average_coassoc_matrix\n",
       "partition    [25, 25, 25, 25, 25, 25, 25, 25, 25, 11, 25, 2...\n",
       "ami_mean                                              0.286678\n",
       "selected                                                  True\n",
       "Name: 42, dtype: object"
      ]
     },
     "metadata": {},
     "output_type": "display_data"
    },
    {
     "data": {
      "text/plain": [
       "(3752,)"
      ]
     },
     "metadata": {},
     "output_type": "display_data"
    },
    {
     "data": {
      "text/plain": [
       "9     766\n",
       "0     715\n",
       "11    704\n",
       "4     453\n",
       "30    266\n",
       "14    241\n",
       "7     218\n",
       "13     49\n",
       "19     43\n",
       "15     21\n",
       "3      19\n",
       "1      18\n",
       "25     18\n",
       "12     17\n",
       "40     17\n",
       "2      15\n",
       "27     15\n",
       "29     15\n",
       "10     15\n",
       "39     12\n",
       "24     11\n",
       "5      10\n",
       "32      8\n",
       "33      8\n",
       "22      8\n",
       "26      7\n",
       "6       7\n",
       "16      7\n",
       "20      6\n",
       "18      6\n",
       "37      5\n",
       "17      5\n",
       "23      5\n",
       "35      4\n",
       "36      4\n",
       "28      3\n",
       "8       3\n",
       "41      3\n",
       "21      2\n",
       "31      1\n",
       "34      1\n",
       "38      1\n",
       "dtype: int64"
      ]
     },
     "metadata": {},
     "output_type": "display_data"
    },
    {
     "data": {
      "text/html": [
       "<h3>Cluster 42.0</h3>"
      ],
      "text/plain": [
       "<IPython.core.display.HTML object>"
      ]
     },
     "metadata": {},
     "output_type": "display_data"
    },
    {
     "data": {
      "text/plain": [
       "715"
      ]
     },
     "metadata": {},
     "output_type": "display_data"
    },
    {
     "data": {
      "text/plain": [
       "Index(['40001_C719-Underlying_primary_cause_of_death_ICD10_C719_Brain_unspecified',\n",
       "       '40001_G122-Underlying_primary_cause_of_death_ICD10_G122_Motor_neuron_disease',\n",
       "       '6152_6-Blood_clot_DVT_bronchitis_emphysema_asthma_rhinitis_eczema_allergy_diagnosed_by_doctor_Emphysemachronic_bronchitis',\n",
       "       '6157_100-Why_stopped_smoking_None_of_the_above',\n",
       "       '6157_3-Why_stopped_smoking_Health_precaution',\n",
       "       '6157_4-Why_stopped_smoking_Financial_reasons',\n",
       "       '6160_5-Leisuresocial_activities_Other_group_activity',\n",
       "       '6162_3-Types_of_transport_used_excluding_work_Public_transport',\n",
       "       '6179_4-Mineral_and_other_dietary_supplements_Zinc',\n",
       "       '6179_5-Mineral_and_other_dietary_supplements_Iron',\n",
       "       ...\n",
       "       'pigmentation disease', 'polyneuropathy', 'purpura',\n",
       "       'retinal detachment', 'retinal vein occlusion',\n",
       "       'skeletal system disease', 'skin disease', 'suppurative otitis media',\n",
       "       'tenosynovitis', 'vasculitis'],\n",
       "      dtype='object', length=715)"
      ]
     },
     "metadata": {},
     "output_type": "display_data"
    },
    {
     "data": {
      "text/html": [
       "<h3>Cluster 42.1</h3>"
      ],
      "text/plain": [
       "<IPython.core.display.HTML object>"
      ]
     },
     "metadata": {},
     "output_type": "display_data"
    },
    {
     "data": {
      "text/plain": [
       "18"
      ]
     },
     "metadata": {},
     "output_type": "display_data"
    },
    {
     "data": {
      "text/plain": [
       "Index(['30000_raw-White_blood_cell_leukocyte_count',\n",
       "       '30130_raw-Monocyte_count', '30140_raw-Neutrophill_count',\n",
       "       '30150-Eosinophill_count', '30180_raw-Lymphocyte_percentage',\n",
       "       '30190_raw-Monocyte_percentage', '30200_raw-Neutrophill_percentage',\n",
       "       '30210_raw-Eosinophill_percentage', 'eosinophil count',\n",
       "       'granulocyte count', 'leukocyte count', 'lymphocyte count',\n",
       "       'monocyte count', 'myeloid white cell count', 'neutrophil count',\n",
       "       'sum of basophil and neutrophil counts',\n",
       "       'sum of eosinophil and basophil counts',\n",
       "       'sum of neutrophil and eosinophil counts'],\n",
       "      dtype='object')"
      ]
     },
     "metadata": {},
     "output_type": "display_data"
    },
    {
     "data": {
      "text/html": [
       "<h3>Cluster 42.2</h3>"
      ],
      "text/plain": [
       "<IPython.core.display.HTML object>"
      ]
     },
     "metadata": {},
     "output_type": "display_data"
    },
    {
     "data": {
      "text/plain": [
       "15"
      ]
     },
     "metadata": {},
     "output_type": "display_data"
    },
    {
     "data": {
      "text/plain": [
       "Index(['20003_1140884516-Treatmentmedication_code_thyroxine_product',\n",
       "       '6149_1-Mouthteeth_dental_problems_Mouth_ulcers',\n",
       "       'K11_OTHDIG-Other_diseases_of_the_digestive_system',\n",
       "       'M13_POLYARTHROPATHIES-Polyarthropathies',\n",
       "       'M13_RHEUMA-Rheumatoid_arthritis',\n",
       "       'RHEUMA_NOS-Otherunspecified_rheumatoid_arthritis',\n",
       "       'RHEUMA_SEROPOS-Seropositive_rheumatoid_arthritis',\n",
       "       'RHEUMA_SEROPOS_OTH-Otherunspecified_seropositiverheumatoid_arthritis',\n",
       "       'STILL_ADULT-Adultonset_Still_disease', 'adrenocortical insufficiency',\n",
       "       'ankylosing spondylitis', 'benign prostatic hyperplasia', 'hematuria',\n",
       "       'multiple sclerosis', 'psoriatic arthritis'],\n",
       "      dtype='object')"
      ]
     },
     "metadata": {},
     "output_type": "display_data"
    },
    {
     "data": {
      "text/html": [
       "<h3>Cluster 42.3</h3>"
      ],
      "text/plain": [
       "<IPython.core.display.HTML object>"
      ]
     },
     "metadata": {},
     "output_type": "display_data"
    },
    {
     "data": {
      "text/plain": [
       "19"
      ]
     },
     "metadata": {},
     "output_type": "display_data"
    },
    {
     "data": {
      "text/plain": [
       "Index(['EAGLE_Eczema', 'Jones_et_al_2016_Chronotype', 'MAGNETIC_CH2.DB.ratio',\n",
       "       'MAGNETIC_HDL.C', 'MAGNETIC_IDL.TG', 'MAGNETIC_LDL.C',\n",
       "       'SSGAC_Education_Years_Pooled', 'alzheimer's disease',\n",
       "       'attention deficit hyperactivity disorder', 'bone density',\n",
       "       'coronary artery disease', 'estrogen-receptor negative breast cancer',\n",
       "       'estrogen-receptor positive breast cancer',\n",
       "       'family history of breast cancer', 'fasting blood glucose measurement',\n",
       "       'fasting blood insulin measurement', 'inflammatory bowel disease',\n",
       "       'intracranial volume measurement', 'schizophrenia'],\n",
       "      dtype='object')"
      ]
     },
     "metadata": {},
     "output_type": "display_data"
    },
    {
     "data": {
      "text/html": [
       "<h3>Cluster 42.4</h3>"
      ],
      "text/plain": [
       "<IPython.core.display.HTML object>"
      ]
     },
     "metadata": {},
     "output_type": "display_data"
    },
    {
     "data": {
      "text/plain": [
       "453"
      ]
     },
     "metadata": {},
     "output_type": "display_data"
    },
    {
     "data": {
      "text/plain": [
       "Index(['20003_1140879616-Treatmentmedication_code_amitriptyline',\n",
       "       '20003_1140879630-Treatmentmedication_code_imipramine',\n",
       "       '20003_1140879634-Treatmentmedication_code_trazodone',\n",
       "       '20003_1140879762-Treatmentmedication_code_celiprolol',\n",
       "       '20003_1140879778-Treatmentmedication_code_doxazosin',\n",
       "       '20003_1140879792-Treatmentmedication_code_terbutaline',\n",
       "       '20003_1140879798-Treatmentmedication_code_terazosin',\n",
       "       '20003_1140879818-Treatmentmedication_code_metoprolol',\n",
       "       '20003_1140880086-Treatmentmedication_code_calcipotriol',\n",
       "       '20003_1140881446-Treatmentmedication_code_proctosedyl_ointment',\n",
       "       ...\n",
       "       '20112_13-Illnesses_of_adopted_father_Prostate_cancer',\n",
       "       '20112_2-Illnesses_of_adopted_father_Stroke',\n",
       "       '20112_3-Illnesses_of_adopted_father_Lung_cancer',\n",
       "       '20112_4-Illnesses_of_adopted_father_Bowel_cancer',\n",
       "       '20112_6-Illnesses_of_adopted_father_Chronic_bronchitisemphysema',\n",
       "       '20113_1-Illnesses_of_adopted_mother_Heart_disease',\n",
       "       '20113_100-Illnesses_of_adopted_mother_None_of_the_above_group_1',\n",
       "       '20113_12-Illnesses_of_adopted_mother_Severe_depression',\n",
       "       '20113_3-Illnesses_of_adopted_mother_Lung_cancer',\n",
       "       '20113_6-Illnesses_of_adopted_mother_Chronic_bronchitisemphysema'],\n",
       "      dtype='object', length=453)"
      ]
     },
     "metadata": {},
     "output_type": "display_data"
    },
    {
     "data": {
      "text/html": [
       "<h3>Cluster 42.5</h3>"
      ],
      "text/plain": [
       "<IPython.core.display.HTML object>"
      ]
     },
     "metadata": {},
     "output_type": "display_data"
    },
    {
     "data": {
      "text/plain": [
       "10"
      ]
     },
     "metadata": {},
     "output_type": "display_data"
    },
    {
     "data": {
      "text/plain": [
       "Index(['ASTHMA_MEDICATIO_COMORB-Medication_related_adverse_effects',\n",
       "       'C3_MALE_GENITAL-malignant_neoplasm_of_male_genital_organs',\n",
       "       'C_MALE_GENITAL', 'C_PROSTATE-Malignant_neoplasm_of_prostate',\n",
       "       'H7_LENS-Disorders_of_lens',\n",
       "       'PULM_MEDICATIO_COMORB-Medication_related_adverse_effects_AsthmaCOPD',\n",
       "       'VII_EYE_ADNEXA-Diseases_of_the_eye_and_adnexa', 'age-related cataract',\n",
       "       'cataract', 'prostate carcinoma'],\n",
       "      dtype='object')"
      ]
     },
     "metadata": {},
     "output_type": "display_data"
    },
    {
     "data": {
      "text/html": [
       "<h3>Cluster 42.6</h3>"
      ],
      "text/plain": [
       "<IPython.core.display.HTML object>"
      ]
     },
     "metadata": {},
     "output_type": "display_data"
    },
    {
     "data": {
      "text/plain": [
       "7"
      ]
     },
     "metadata": {},
     "output_type": "display_data"
    },
    {
     "data": {
      "text/plain": [
       "Index(['20003_1140860696-Treatmentmedication_code_lisinopril',\n",
       "       '20003_1140860806-Treatmentmedication_code_ramipril',\n",
       "       '20003_1140866738-Treatmentmedication_code_atenolol',\n",
       "       '20003_1140875408-Treatmentmedication_code_allopurinol',\n",
       "       '20003_1140884600-Treatmentmedication_code_metformin',\n",
       "       'diabetes mellitus', 'gout'],\n",
       "      dtype='object')"
      ]
     },
     "metadata": {},
     "output_type": "display_data"
    },
    {
     "data": {
      "text/html": [
       "<h3>Cluster 42.7</h3>"
      ],
      "text/plain": [
       "<IPython.core.display.HTML object>"
      ]
     },
     "metadata": {},
     "output_type": "display_data"
    },
    {
     "data": {
      "text/plain": [
       "218"
      ]
     },
     "metadata": {},
     "output_type": "display_data"
    },
    {
     "data": {
      "text/plain": [
       "Index(['40001_C259-Underlying_primary_cause_of_death_ICD10_C259_Pancreas_unspecified',\n",
       "       '40001_C459-Underlying_primary_cause_of_death_ICD10_C459_Mesothelioma_unspecified',\n",
       "       '41248_3001-Destinations_on_discharge_from_hospital_recoded_High_security_psychiatric_hospital_NHS',\n",
       "       '41248_5003-Destinations_on_discharge_from_hospital_recoded_Transfer_to_other_NHS_provider_Psychiatry_learning_disabilities',\n",
       "       '41248_6000-Destinations_on_discharge_from_hospital_recoded_Transfer_within_NHS_provider',\n",
       "       '4233_raw-Mean_signaltonoise_ratio_SNR_left',\n",
       "       '4244_raw-Mean_signaltonoise_ratio_SNR_right',\n",
       "       '4269-Number_of_triplets_attempted_left',\n",
       "       '4270-Volume_level_set_by_participant_left',\n",
       "       '4276-Number_of_triplets_attempted_right',\n",
       "       ...\n",
       "       '6158_1-Why_reduced_smoking_Illness_or_ill_health',\n",
       "       '6158_100-Why_reduced_smoking_None_of_the_above',\n",
       "       '6158_2-Why_reduced_smoking_Doctors_advice',\n",
       "       '6158_3-Why_reduced_smoking_Health_precaution',\n",
       "       '6158_4-Why_reduced_smoking_Financial_reasons',\n",
       "       '6159_2-Pain_types_experienced_in_last_month_Facial_pain',\n",
       "       '6159_8-Pain_types_experienced_in_last_month_Pain_all_over_the_body',\n",
       "       '6162_100-Types_of_transport_used_excluding_work_None_of_the_above',\n",
       "       '709-Number_in_household', 'C_PANCREAS-Malignant_neoplasm_of_pancreas'],\n",
       "      dtype='object', length=218)"
      ]
     },
     "metadata": {},
     "output_type": "display_data"
    },
    {
     "data": {
      "text/html": [
       "<h3>Cluster 42.8</h3>"
      ],
      "text/plain": [
       "<IPython.core.display.HTML object>"
      ]
     },
     "metadata": {},
     "output_type": "display_data"
    },
    {
     "data": {
      "text/plain": [
       "3"
      ]
     },
     "metadata": {},
     "output_type": "display_data"
    },
    {
     "data": {
      "text/plain": [
       "Index(['eczema', 'seasonal allergic rhinitis',\n",
       "       'seasonal allergic rhinitis AND allergic rhinitis'],\n",
       "      dtype='object')"
      ]
     },
     "metadata": {},
     "output_type": "display_data"
    },
    {
     "data": {
      "text/html": [
       "<h3>Cluster 42.9</h3>"
      ],
      "text/plain": [
       "<IPython.core.display.HTML object>"
      ]
     },
     "metadata": {},
     "output_type": "display_data"
    },
    {
     "data": {
      "text/plain": [
       "766"
      ]
     },
     "metadata": {},
     "output_type": "display_data"
    },
    {
     "data": {
      "text/plain": [
       "Index(['22601_11113200-Job_coding_senior_official_in_central_government_including_members_of_the_senior_civil_service_and_the_equivalent_in_the_diplomatic_service_mps_meps',\n",
       "       '22601_11123211-Job_coding_director_or_chief_executive_of_private_organisationcompany_company_chairman_or_president_general_manager',\n",
       "       '22601_11133201-Job_coding_senior_official_in_local_government_including_parish_or_town_or_county_chief_clerk_chief_or_superintendent_rate_collector_chief_executive_or_director_councillor',\n",
       "       '22601_11143212-Job_coding_senior_official_of_special_interest_organisation_including_general_manager_or_director_or_executive_or_general_secretary_of_charity_or_trade_unionassociation_or_religious_organisation',\n",
       "       '22601_11212692-Job_coding_production_works_or_maintenance_manager',\n",
       "       '22601_11222591-Job_coding_manager_in_construction_clerk_of_works_site_manager_contracts_manager_highways_manager',\n",
       "       '22601_11232861-Job_coding_manager_in_mining_energy_production_or_water_supply',\n",
       "       '22601_11313221-Job_coding_financial_services_manager_chartered_secretary_banker_merchant_or_investment_banker_finance_director_tax_manager',\n",
       "       '22601_11323222-Job_coding_sales_or_marketing_managerdirector_exportimport_manager_business_development_manager_advertisingcommercial_manager',\n",
       "       '22601_11333223-Job_coding_purchasing_managerdirector_not_retail_supplies_manager',\n",
       "       ...\n",
       "       '41248_6005-Destinations_on_discharge_from_hospital_recoded_Transfer_within_NHS_provider_Medical_specialty',\n",
       "       '41248_6007-Destinations_on_discharge_from_hospital_recoded_Transfer_within_NHS_provider_Geriatrics',\n",
       "       '41248_7001-Destinations_on_discharge_from_hospital_recoded_Nursing_residential_care_group_home_NHS',\n",
       "       '41248_7002-Destinations_on_discharge_from_hospital_recoded_Nursing_residential_care_group_home_Local_Authoritory',\n",
       "       '41248_7003-Destinations_on_discharge_from_hospital_recoded_Nursing_residential_care_group_home_NonNHS',\n",
       "       '41248_8002-Destinations_on_discharge_from_hospital_recoded_Other_hospital_NonNHS',\n",
       "       '4195_raw-Pulse_wave_reflection_index',\n",
       "       '4230_raw-Signaltonoiseratio_SNR_of_triplet_left',\n",
       "       '4241_raw-Signaltonoiseratio_SNR_of_triplet_right',\n",
       "       '4462-Average_monthly_intake_of_other_alcoholic_drinks'],\n",
       "      dtype='object', length=766)"
      ]
     },
     "metadata": {},
     "output_type": "display_data"
    },
    {
     "data": {
      "text/html": [
       "<h3>Cluster 42.10</h3>"
      ],
      "text/plain": [
       "<IPython.core.display.HTML object>"
      ]
     },
     "metadata": {},
     "output_type": "display_data"
    },
    {
     "data": {
      "text/plain": [
       "15"
      ]
     },
     "metadata": {},
     "output_type": "display_data"
    },
    {
     "data": {
      "text/plain": [
       "Index(['20003_1140868226-Treatmentmedication_code_aspirin',\n",
       "       '20003_1141146234-Treatmentmedication_code_atorvastatin',\n",
       "       '6150_1-Vascularheart_problems_diagnosed_by_doctor_Heart_attack',\n",
       "       '6150_2-Vascularheart_problems_diagnosed_by_doctor_Angina',\n",
       "       '6154_1-Medication_for_pain_relief_constipation_heartburn_Aspirin',\n",
       "       'I9_CHD-Major_coronary_heart_disease_event',\n",
       "       'I9_CHD_NOREV-Major_coronary_heart_disease_event_excluding_revascularizations',\n",
       "       'I9_CORATHER-Coronary_atherosclerosis',\n",
       "       'I9_IHD-Ischaemic_heart_disease_wide_definition',\n",
       "       'I9_MI-Myocardial_infarction',\n",
       "       'I9_MI_STRICT-Myocardial_infarction_strict',\n",
       "       'IX_CIRCULATORY-Diseases_of_the_circulatory_system',\n",
       "       'acute myocardial infarction', 'angina pectoris',\n",
       "       'myocardial infarction'],\n",
       "      dtype='object')"
      ]
     },
     "metadata": {},
     "output_type": "display_data"
    },
    {
     "data": {
      "text/html": [
       "<h3>Cluster 42.11</h3>"
      ],
      "text/plain": [
       "<IPython.core.display.HTML object>"
      ]
     },
     "metadata": {},
     "output_type": "display_data"
    },
    {
     "data": {
      "text/plain": [
       "704"
      ]
     },
     "metadata": {},
     "output_type": "display_data"
    },
    {
     "data": {
      "text/plain": [
       "Index(['100010-Portion_size', '100013_raw-Vitamin_B12', '100018_raw-Retinol',\n",
       "       '100019_raw-Carotene', '100021_raw-Vitamin_D', '100022-Alcohol',\n",
       "       '1001-Duration_of_strenuous_sports', '100150-Drinking_water_intake',\n",
       "       '100160-Low_calorie_drink_intake', '100170-Fizzy_drink_intake',\n",
       "       ...\n",
       "       'viral disease', 'viral human hepatitis infection', 'viral meningitis',\n",
       "       'visual impairment', 'vitiligo', 'vitreous body disease',\n",
       "       'vocal cord polyp', 'voice disorders',\n",
       "       'wellbeing measurement AND family relationship', 'whooping cough'],\n",
       "      dtype='object', length=704)"
      ]
     },
     "metadata": {},
     "output_type": "display_data"
    },
    {
     "data": {
      "text/html": [
       "<h3>Cluster 42.12</h3>"
      ],
      "text/plain": [
       "<IPython.core.display.HTML object>"
      ]
     },
     "metadata": {},
     "output_type": "display_data"
    },
    {
     "data": {
      "text/plain": [
       "17"
      ]
     },
     "metadata": {},
     "output_type": "display_data"
    },
    {
     "data": {
      "text/plain": [
       "Index(['6152_5-Blood_clot_DVT_bronchitis_emphysema_asthma_rhinitis_eczema_allergy_diagnosed_by_doctor_Blood_clot_in_the_leg_DVT',\n",
       "       'G6_CARPTU-Carpal_tunnel_syndrome',\n",
       "       'G6_NERPLEX-Nerve_nerve_root_and_plexus_disorders',\n",
       "       'I9_DVTANDPULM-DVT_of_lower_extremities_and_pulmonary_embolism',\n",
       "       'I9_PHLETHROMBDVTLOW-DVT_of_lower_extremities',\n",
       "       'I9_VTE-Venous_thromboembolism',\n",
       "       'K11_GALLBILPANC-Disorders_of_gallbladder_biliary_tract_and_pancreas',\n",
       "       'OTHER_ILD_CVD_COMORB-Other_ILDrelated_CVDcomorbidities',\n",
       "       'ULCERNAS-Ulcerative_colitis_NAS',\n",
       "       'VI_NERVOUS-Diseases_of_the_nervous_system',\n",
       "       'XII_SKIN_SUBCUTAN-Diseases_of_the_skin_and_subcutaneous_tissue',\n",
       "       'birth weight', 'cholelithiasis', 'deep vein thrombosis',\n",
       "       'mononeuropathy', 'phlebitis AND thrombophlebitis',\n",
       "       'pulmonary embolism'],\n",
       "      dtype='object')"
      ]
     },
     "metadata": {},
     "output_type": "display_data"
    },
    {
     "data": {
      "text/html": [
       "<h3>Cluster 42.13</h3>"
      ],
      "text/plain": [
       "<IPython.core.display.HTML object>"
      ]
     },
     "metadata": {},
     "output_type": "display_data"
    },
    {
     "data": {
      "text/plain": [
       "49"
      ]
     },
     "metadata": {},
     "output_type": "display_data"
    },
    {
     "data": {
      "text/plain": [
       "Index(['20015_raw-Sitting_height',\n",
       "       '20150_raw-Forced_expiratory_volume_in_1second_FEV1_Best_measure',\n",
       "       '20151_raw-Forced_vital_capacity_FVC_Best_measure',\n",
       "       '20153_raw-Forced_expiratory_volume_in_1second_FEV1_predicted',\n",
       "       '20154_raw-Forced_expiratory_volume_in_1second_FEV1_predicted_percentage',\n",
       "       '21001_raw-Body_mass_index_BMI', '21002_raw-Weight', '23098_raw-Weight',\n",
       "       '23099_raw-Body_fat_percentage', '23100_raw-Whole_body_fat_mass',\n",
       "       '23101_raw-Whole_body_fatfree_mass', '23102_raw-Whole_body_water_mass',\n",
       "       '23104_raw-Body_mass_index_BMI', '23105_raw-Basal_metabolic_rate',\n",
       "       '23106_raw-Impedance_of_whole_body', '23107_raw-Impedance_of_leg_right',\n",
       "       '23108_raw-Impedance_of_leg_left', '23109_raw-Impedance_of_arm_right',\n",
       "       '23110_raw-Impedance_of_arm_left', '23111_raw-Leg_fat_percentage_right',\n",
       "       '23112_raw-Leg_fat_mass_right', '23113_raw-Leg_fatfree_mass_right',\n",
       "       '23114_raw-Leg_predicted_mass_right',\n",
       "       '23115_raw-Leg_fat_percentage_left', '23116_raw-Leg_fat_mass_left',\n",
       "       '23117_raw-Leg_fatfree_mass_left', '23118_raw-Leg_predicted_mass_left',\n",
       "       '23119_raw-Arm_fat_percentage_right', '23120_raw-Arm_fat_mass_right',\n",
       "       '23121_raw-Arm_fatfree_mass_right',\n",
       "       '23122_raw-Arm_predicted_mass_right',\n",
       "       '23123_raw-Arm_fat_percentage_left', '23124_raw-Arm_fat_mass_left',\n",
       "       '23125_raw-Arm_fatfree_mass_left', '23126_raw-Arm_predicted_mass_left',\n",
       "       '23127_raw-Trunk_fat_percentage', '23128_raw-Trunk_fat_mass',\n",
       "       '23129_raw-Trunk_fatfree_mass', '23130_raw-Trunk_predicted_mass',\n",
       "       '3062_raw-Forced_vital_capacity_FVC',\n",
       "       '3063_raw-Forced_expiratory_volume_in_1second_FEV1',\n",
       "       '3064_raw-Peak_expiratory_flow_PEF', '3143_raw-Ankle_spacing_width',\n",
       "       '4100_raw-Ankle_spacing_width_left',\n",
       "       '4119_raw-Ankle_spacing_width_right', '48_raw-Waist_circumference',\n",
       "       '49_raw-Hip_circumference', '50_raw-Standing_height', 'body height'],\n",
       "      dtype='object')"
      ]
     },
     "metadata": {},
     "output_type": "display_data"
    },
    {
     "data": {
      "text/html": [
       "<h3>Cluster 42.14</h3>"
      ],
      "text/plain": [
       "<IPython.core.display.HTML object>"
      ]
     },
     "metadata": {},
     "output_type": "display_data"
    },
    {
     "data": {
      "text/plain": [
       "241"
      ]
     },
     "metadata": {},
     "output_type": "display_data"
    },
    {
     "data": {
      "text/plain": [
       "Index(['1021-Duration_of_light_DIY', '102_raw-Pulse_rate_automated_reading',\n",
       "       '1050-Time_spend_outdoors_in_summer',\n",
       "       '1060-Time_spent_outdoors_in_winter',\n",
       "       '1070-Time_spent_watching_television_TV',\n",
       "       '1080-Time_spent_using_computer', '1090-Time_spent_driving',\n",
       "       '1100-Drive_faster_than_motorway_speed_limit',\n",
       "       '110001-Invitation_to_complete_online_24hour_recall_dietary_questionnaire_acceptance',\n",
       "       '1110-Length_of_mobile_phone_use',\n",
       "       ...\n",
       "       'self rated health', 'self reported educational attainment',\n",
       "       'sleep duration', 'smoking behavior', 'smoking cessation',\n",
       "       'snoring measurement', 'tiredness measurement', 'varicose veins',\n",
       "       'wheezing', 'worry measurement'],\n",
       "      dtype='object', length=241)"
      ]
     },
     "metadata": {},
     "output_type": "display_data"
    },
    {
     "data": {
      "text/html": [
       "<h3>Cluster 42.15</h3>"
      ],
      "text/plain": [
       "<IPython.core.display.HTML object>"
      ]
     },
     "metadata": {},
     "output_type": "display_data"
    },
    {
     "data": {
      "text/plain": [
       "21"
      ]
     },
     "metadata": {},
     "output_type": "display_data"
    },
    {
     "data": {
      "text/plain": [
       "Index(['20003_2038460150-Treatmentmedication_code_paracetamol',\n",
       "       '20016_raw-Fluid_intelligence_score', '20022_raw-Birth_weight',\n",
       "       '20023_raw-Mean_time_to_correctly_identify_matches',\n",
       "       '20074_raw-Home_location_at_assessment_east_coordinate_rounded',\n",
       "       '20077-Number_of_diet_questionnaires_completed',\n",
       "       '20086_8-Type_of_special_diet_followed_Glutenfree',\n",
       "       '20107_1-Illnesses_of_father_Heart_disease',\n",
       "       '20107_100-Illnesses_of_father_None_of_the_above_group_1',\n",
       "       '20107_3-Illnesses_of_father_Lung_cancer',\n",
       "       '20107_8-Illnesses_of_father_High_blood_pressure',\n",
       "       '20107_9-Illnesses_of_father_Diabetes',\n",
       "       '20110_1-Illnesses_of_mother_Heart_disease',\n",
       "       '20110_10-Illnesses_of_mother_Alzheimers_diseasedementia',\n",
       "       '20110_100-Illnesses_of_mother_None_of_the_above_group_1',\n",
       "       '20110_8-Illnesses_of_mother_High_blood_pressure',\n",
       "       '20110_9-Illnesses_of_mother_Diabetes',\n",
       "       '20111_1-Illnesses_of_siblings_Heart_disease',\n",
       "       '20111_100-Illnesses_of_siblings_None_of_the_above_group_1',\n",
       "       '20111_8-Illnesses_of_siblings_High_blood_pressure',\n",
       "       '20111_9-Illnesses_of_siblings_Diabetes'],\n",
       "      dtype='object')"
      ]
     },
     "metadata": {},
     "output_type": "display_data"
    },
    {
     "data": {
      "text/html": [
       "<h3>Cluster 42.16</h3>"
      ],
      "text/plain": [
       "<IPython.core.display.HTML object>"
      ]
     },
     "metadata": {},
     "output_type": "display_data"
    },
    {
     "data": {
      "text/plain": [
       "7"
      ]
     },
     "metadata": {},
     "output_type": "display_data"
    },
    {
     "data": {
      "text/plain": [
       "Index(['1717-Skin_colour', '1727-Ease_of_skin_tanning',\n",
       "       '1747_1-Hair_colour_natural_before_greying_Blonde',\n",
       "       '1747_2-Hair_colour_natural_before_greying_Red',\n",
       "       '1747_3-Hair_colour_natural_before_greying_Light_brown',\n",
       "       '1747_4-Hair_colour_natural_before_greying_Dark_brown',\n",
       "       '1747_5-Hair_colour_natural_before_greying_Black'],\n",
       "      dtype='object')"
      ]
     },
     "metadata": {},
     "output_type": "display_data"
    },
    {
     "data": {
      "text/html": [
       "<h3>Cluster 42.17</h3>"
      ],
      "text/plain": [
       "<IPython.core.display.HTML object>"
      ]
     },
     "metadata": {},
     "output_type": "display_data"
    },
    {
     "data": {
      "text/plain": [
       "5"
      ]
     },
     "metadata": {},
     "output_type": "display_data"
    },
    {
     "data": {
      "text/plain": [
       "Index(['30080_raw-Platelet_count', '30090_raw-Platelet_crit',\n",
       "       '30100_raw-Mean_platelet_thrombocyte_volume',\n",
       "       '30110_raw-Platelet_distribution_width', 'platelet count'],\n",
       "      dtype='object')"
      ]
     },
     "metadata": {},
     "output_type": "display_data"
    },
    {
     "data": {
      "text/html": [
       "<h3>Cluster 42.18</h3>"
      ],
      "text/plain": [
       "<IPython.core.display.HTML object>"
      ]
     },
     "metadata": {},
     "output_type": "display_data"
    },
    {
     "data": {
      "text/plain": [
       "6"
      ]
     },
     "metadata": {},
     "output_type": "display_data"
    },
    {
     "data": {
      "text/plain": [
       "Index(['40001_C349-Underlying_primary_cause_of_death_ICD10_C349_Bronchus_or_lung_unspecified',\n",
       "       'C3_RESPIRATORY_INTRATHORACIC-Malignant_neoplasm_of_respiratory_system_and_intrathoracic_organs',\n",
       "       'C_BRONCHUS_LUNG-Malignant_neoplasm_of_bronchus_and_lung',\n",
       "       'C_RESPIRATORY_INTRATHORACIC',\n",
       "       'LUNG_CANCER_MESOT-Lung_cancer_and_mesothelioma', 'lung carcinoma'],\n",
       "      dtype='object')"
      ]
     },
     "metadata": {},
     "output_type": "display_data"
    },
    {
     "data": {
      "text/html": [
       "<h3>Cluster 42.19</h3>"
      ],
      "text/plain": [
       "<IPython.core.display.HTML object>"
      ]
     },
     "metadata": {},
     "output_type": "display_data"
    },
    {
     "data": {
      "text/plain": [
       "43"
      ]
     },
     "metadata": {},
     "output_type": "display_data"
    },
    {
     "data": {
      "text/plain": [
       "Index(['129_raw-Place_of_birth_in_UK_north_coordinate',\n",
       "       '20075_raw-Home_location_at_assessment_north_coordinate_rounded',\n",
       "       '22704_raw-Home_location_north_coordinate_rounded',\n",
       "       'ASTHMA_PNEUMONIA-Asthmarelated_pneumonia',\n",
       "       'G6_EPIPAROX-Episodal_and_paroxysmal_disorders',\n",
       "       'G6_SLEEPAPNO-Sleep_apnoea',\n",
       "       'L12_ATROPHICSKIN-Atrophic_disorders_of_skin',\n",
       "       'L12_SCARCONDITIONS-Scar_conditions_and_fibrosis_of_skin',\n",
       "       'M13_DORSOPATHYOTH-Other_dorsopathies_not_elsewhere_classified',\n",
       "       'M13_MUSCULOSKELEOTH-Other_disorders_of_the_musculoskeletal_system_and_connective_tissue',\n",
       "       'M13_SACROCOGG-Sacrococcygeal_disorders_not_elsewhere_classified',\n",
       "       'PNEUMONIA-Pneumonias_AsthmaCOPD_comorbidities',\n",
       "       'SLEEP-Sleep_disorders_combined', 'abdominal injury', 'bone disease',\n",
       "       'cardiac arrhythmia', 'checkup',\n",
       "       'chronic obstructive pulmonary disease', 'device complication',\n",
       "       'encounter with health service', 'female reproductive system disease',\n",
       "       'follow-up', 'head injury', 'headache', 'heart disease', 'injury',\n",
       "       'joint disease', 'kidney failure', 'leg injury', 'lower limb pain',\n",
       "       'mesothelioma', 'musculoskeletal system disease',\n",
       "       'musculoskeletal system disease AND connective tissue disease',\n",
       "       'nasal cavity polyp', 'pericarditis', 'pneumonia', 'poisoning',\n",
       "       'pregnancy disorder', 'skin atrophy', 'sleep disorder',\n",
       "       'soft tissue disease', 'urogenital neoplasm', 'wrist fracture'],\n",
       "      dtype='object')"
      ]
     },
     "metadata": {},
     "output_type": "display_data"
    },
    {
     "data": {
      "text/html": [
       "<h3>Cluster 42.20</h3>"
      ],
      "text/plain": [
       "<IPython.core.display.HTML object>"
      ]
     },
     "metadata": {},
     "output_type": "display_data"
    },
    {
     "data": {
      "text/plain": [
       "6"
      ]
     },
     "metadata": {},
     "output_type": "display_data"
    },
    {
     "data": {
      "text/plain": [
       "Index(['20003_1140861998-Treatmentmedication_code_ventolin_100micrograms_inhaler',\n",
       "       '30120_raw-Lymphocyte_count',\n",
       "       '6152_100-Blood_clot_DVT_bronchitis_emphysema_asthma_rhinitis_eczema_allergy_diagnosed_by_doctor_None_of_the_above',\n",
       "       '6152_8-Blood_clot_DVT_bronchitis_emphysema_asthma_rhinitis_eczema_allergy_diagnosed_by_doctor_Asthma',\n",
       "       '6152_9-Blood_clot_DVT_bronchitis_emphysema_asthma_rhinitis_eczema_allergy_diagnosed_by_doctor_Hayfever_allergic_rhinitis_or_eczema',\n",
       "       'asthma'],\n",
       "      dtype='object')"
      ]
     },
     "metadata": {},
     "output_type": "display_data"
    },
    {
     "data": {
      "text/html": [
       "<h3>Cluster 42.21</h3>"
      ],
      "text/plain": [
       "<IPython.core.display.HTML object>"
      ]
     },
     "metadata": {},
     "output_type": "display_data"
    },
    {
     "data": {
      "text/plain": [
       "2"
      ]
     },
     "metadata": {},
     "output_type": "display_data"
    },
    {
     "data": {
      "text/plain": [
       "Index(['46_raw-Hand_grip_strength_left', '47_raw-Hand_grip_strength_right'], dtype='object')"
      ]
     },
     "metadata": {},
     "output_type": "display_data"
    },
    {
     "data": {
      "text/html": [
       "<h3>Cluster 42.22</h3>"
      ],
      "text/plain": [
       "<IPython.core.display.HTML object>"
      ]
     },
     "metadata": {},
     "output_type": "display_data"
    },
    {
     "data": {
      "text/plain": [
       "8"
      ]
     },
     "metadata": {},
     "output_type": "display_data"
    },
    {
     "data": {
      "text/plain": [
       "Index(['24013-Total_traffic_load_on_major_roads', '24014-Close_to_major_road',\n",
       "       '24015-Sum_of_road_length_of_major_roads_within_100m',\n",
       "       '24020_raw-Average_daytime_sound_level_of_noise_pollution',\n",
       "       '24021_raw-Average_evening_sound_level_of_noise_pollution',\n",
       "       '24022_raw-Average_nighttime_sound_level_of_noise_pollution',\n",
       "       '24023_raw-Average_16hour_sound_level_of_noise_pollution',\n",
       "       '24024_raw-Average_24hour_sound_level_of_noise_pollution'],\n",
       "      dtype='object')"
      ]
     },
     "metadata": {},
     "output_type": "display_data"
    },
    {
     "data": {
      "text/html": [
       "<h3>Cluster 42.23</h3>"
      ],
      "text/plain": [
       "<IPython.core.display.HTML object>"
      ]
     },
     "metadata": {},
     "output_type": "display_data"
    },
    {
     "data": {
      "text/plain": [
       "5"
      ]
     },
     "metadata": {},
     "output_type": "display_data"
    },
    {
     "data": {
      "text/plain": [
       "Index(['F5_ALLANXIOUS-All_anxiety_disorders',\n",
       "       'F5_ANXIETY-Other_anxiety_disorders',\n",
       "       'KRA_PSY_ANXIETY-Anxiety_disorders',\n",
       "       'PULM_ANXIETY-Anxiety_asthmarelated_comorbidities', 'anxiety disorder'],\n",
       "      dtype='object')"
      ]
     },
     "metadata": {},
     "output_type": "display_data"
    },
    {
     "data": {
      "text/html": [
       "<h3>Cluster 42.24</h3>"
      ],
      "text/plain": [
       "<IPython.core.display.HTML object>"
      ]
     },
     "metadata": {},
     "output_type": "display_data"
    },
    {
     "data": {
      "text/plain": [
       "11"
      ]
     },
     "metadata": {},
     "output_type": "display_data"
    },
    {
     "data": {
      "text/plain": [
       "Index(['1707_1-Handedness_chiralitylaterality_Righthanded',\n",
       "       '20003_1140865634-Treatmentmedication_code_omeprazole',\n",
       "       'C3_SKIN-Malignant_neoplasm_of_skin',\n",
       "       'C_OTHER_SKIN-Other_malignant_neoplasms_of_skin', 'C_SKIN',\n",
       "       'KNEE_ARTHROSIS-Gonarthrosis_arthrosis_of_kneeFG',\n",
       "       'M13_ARTHROSIS-Arthrosis', 'depressive episode measurement',\n",
       "       'functional laterality', 'osteoarthritis, knee', 'skin neoplasm'],\n",
       "      dtype='object')"
      ]
     },
     "metadata": {},
     "output_type": "display_data"
    },
    {
     "data": {
      "text/html": [
       "<h3>Cluster 42.25</h3>"
      ],
      "text/plain": [
       "<IPython.core.display.HTML object>"
      ]
     },
     "metadata": {},
     "output_type": "display_data"
    },
    {
     "data": {
      "text/plain": [
       "18"
      ]
     },
     "metadata": {},
     "output_type": "display_data"
    },
    {
     "data": {
      "text/plain": [
       "Index(['100001_raw-Food_weight', '100002_raw-Energy', '100003_raw-Protein',\n",
       "       '100004_raw-Fat', '100005_raw-Carbohydrate', '100006_raw-Saturated_fat',\n",
       "       '100007_raw-Polyunsaturated_fat', '100008_raw-Total_sugars',\n",
       "       '100009_raw-Englyst_dietary_fibre', '100011_raw-Iron',\n",
       "       '100012_raw-Vitamin_B6', '100014_raw-Folate', '100015_raw-Vitamin_C',\n",
       "       '100016_raw-Potassium', '100017_raw-Magnesium', '100023_raw-Starch',\n",
       "       '100024_raw-Calcium', '100025_raw-Vitamin_E'],\n",
       "      dtype='object')"
      ]
     },
     "metadata": {},
     "output_type": "display_data"
    },
    {
     "data": {
      "text/html": [
       "<h3>Cluster 42.26</h3>"
      ],
      "text/plain": [
       "<IPython.core.display.HTML object>"
      ]
     },
     "metadata": {},
     "output_type": "display_data"
    },
    {
     "data": {
      "text/plain": [
       "7"
      ]
     },
     "metadata": {},
     "output_type": "display_data"
    },
    {
     "data": {
      "text/plain": [
       "Index(['5984_raw-ECG_load', '5986_raw-ECG_phase_time',\n",
       "       '5992-ECG_phase_duration', '5993-ECG_number_of_stages_in_a_phase',\n",
       "       '6032_raw-Maximum_workload_during_fitness_test',\n",
       "       '6038_raw-Number_of_trend_entries', '6039-Duration_of_fitness_test'],\n",
       "      dtype='object')"
      ]
     },
     "metadata": {},
     "output_type": "display_data"
    },
    {
     "data": {
      "text/html": [
       "<h3>Cluster 42.27</h3>"
      ],
      "text/plain": [
       "<IPython.core.display.HTML object>"
      ]
     },
     "metadata": {},
     "output_type": "display_data"
    },
    {
     "data": {
      "text/plain": [
       "15"
      ]
     },
     "metadata": {},
     "output_type": "display_data"
    },
    {
     "data": {
      "text/plain": [
       "Index(['20003_1140861958-Treatmentmedication_code_simvastatin',\n",
       "       '20003_1140879802-Treatmentmedication_code_amlodipine',\n",
       "       '20003_1141194794-Treatmentmedication_code_bendroflumethiazide',\n",
       "       '4079_raw-Diastolic_blood_pressure_automated_reading',\n",
       "       '4080_raw-Systolic_blood_pressure_automated_reading',\n",
       "       '6150_100-Vascularheart_problems_diagnosed_by_doctor_None_of_the_above',\n",
       "       '6150_4-Vascularheart_problems_diagnosed_by_doctor_High_blood_pressure',\n",
       "       '6153_1-Medication_for_cholesterol_blood_pressure_diabetes_or_take_exogenous_hormones_Cholesterol_lowering_medication',\n",
       "       '6153_100-Medication_for_cholesterol_blood_pressure_diabetes_or_take_exogenous_hormones_None_of_the_above',\n",
       "       '6153_2-Medication_for_cholesterol_blood_pressure_diabetes_or_take_exogenous_hormones_Blood_pressure_medication',\n",
       "       '6177_1-Medication_for_cholesterol_blood_pressure_or_diabetes_Cholesterol_lowering_medication',\n",
       "       '6177_100-Medication_for_cholesterol_blood_pressure_or_diabetes_None_of_the_above',\n",
       "       '6177_2-Medication_for_cholesterol_blood_pressure_or_diabetes_Blood_pressure_medication',\n",
       "       'hypercholesterolemia', 'hypertension'],\n",
       "      dtype='object')"
      ]
     },
     "metadata": {},
     "output_type": "display_data"
    },
    {
     "data": {
      "text/html": [
       "<h3>Cluster 42.28</h3>"
      ],
      "text/plain": [
       "<IPython.core.display.HTML object>"
      ]
     },
     "metadata": {},
     "output_type": "display_data"
    },
    {
     "data": {
      "text/plain": [
       "3"
      ]
     },
     "metadata": {},
     "output_type": "display_data"
    },
    {
     "data": {
      "text/plain": [
       "Index(['L12_ACTINKERA-Actinic_keratosis',\n",
       "       'L12_NONIONRADISKIN-Skin_changes_due_to_chronic_exposure_to_nonionizing_radiation',\n",
       "       'radiation-induced disorder'],\n",
       "      dtype='object')"
      ]
     },
     "metadata": {},
     "output_type": "display_data"
    },
    {
     "data": {
      "text/html": [
       "<h3>Cluster 42.29</h3>"
      ],
      "text/plain": [
       "<IPython.core.display.HTML object>"
      ]
     },
     "metadata": {},
     "output_type": "display_data"
    },
    {
     "data": {
      "text/plain": [
       "15"
      ]
     },
     "metadata": {},
     "output_type": "display_data"
    },
    {
     "data": {
      "text/plain": [
       "Index(['30010_raw-Red_blood_cell_erythrocyte_count',\n",
       "       '30020_raw-Haemoglobin_concentration',\n",
       "       '30030_raw-Haematocrit_percentage', '30040_raw-Mean_corpuscular_volume',\n",
       "       '30050_raw-Mean_corpuscular_haemoglobin',\n",
       "       '30070_raw-Red_blood_cell_erythrocyte_distribution_width',\n",
       "       '30240_raw-Reticulocyte_percentage', '30250_raw-Reticulocyte_count',\n",
       "       '30260_raw-Mean_reticulocyte_volume',\n",
       "       '30270_raw-Mean_sphered_cell_volume',\n",
       "       '30280_raw-Immature_reticulocyte_fraction',\n",
       "       '30290_raw-High_light_scatter_reticulocyte_percentage',\n",
       "       '30300_raw-High_light_scatter_reticulocyte_count', 'erythrocyte count',\n",
       "       'reticulocyte count'],\n",
       "      dtype='object')"
      ]
     },
     "metadata": {},
     "output_type": "display_data"
    },
    {
     "data": {
      "text/html": [
       "<h3>Cluster 42.30</h3>"
      ],
      "text/plain": [
       "<IPython.core.display.HTML object>"
      ]
     },
     "metadata": {},
     "output_type": "display_data"
    },
    {
     "data": {
      "text/plain": [
       "266"
      ]
     },
     "metadata": {},
     "output_type": "display_data"
    },
    {
     "data": {
      "text/plain": [
       "Index(['20111_101-Illnesses_of_siblings_None_of_the_above_group_2',\n",
       "       '20111_12-Illnesses_of_siblings_Severe_depression',\n",
       "       '20112_8-Illnesses_of_adopted_father_High_blood_pressure',\n",
       "       '20112_9-Illnesses_of_adopted_father_Diabetes',\n",
       "       '20113_10-Illnesses_of_adopted_mother_Alzheimers_diseasedementia',\n",
       "       '20113_101-Illnesses_of_adopted_mother_None_of_the_above_group_2',\n",
       "       '20113_2-Illnesses_of_adopted_mother_Stroke',\n",
       "       '20113_4-Illnesses_of_adopted_mother_Bowel_cancer',\n",
       "       '20113_5-Illnesses_of_adopted_mother_Breast_cancer',\n",
       "       '20113_8-Illnesses_of_adopted_mother_High_blood_pressure',\n",
       "       ...\n",
       "       '22601_31113086-Job_coding_laboratory_technician',\n",
       "       '22601_31122951-Job_coding_electricalelectronics_technician',\n",
       "       '22601_31153052-Job_coding_quality_assurance_technician_or_coordinator',\n",
       "       '22601_31193055-Job_coding_other_engineering_technician_including_materials_technician_technical_assistant_technical_officer',\n",
       "       '22601_32113077-Job_coding_health_visitor',\n",
       "       '22601_32323112-Job_coding_benefits_advisor_citizens_advice_bureau_adviser_debt_counsellor',\n",
       "       '22601_32323410-Job_coding_schoolstudent_counsellor_school_attendance_officer',\n",
       "       '22601_34333162-Job_coding_public_relations_officer_press_officer_information_officer',\n",
       "       '22601_35333266-Job_coding_insurance_underwriter_insurance_inspector_insurance_account_handler',\n",
       "       '22601_35623213-Job_coding_personnel_or_industrial_relations_officer_recruitment_consultant'],\n",
       "      dtype='object', length=266)"
      ]
     },
     "metadata": {},
     "output_type": "display_data"
    },
    {
     "data": {
      "text/html": [
       "<h3>Cluster 42.31</h3>"
      ],
      "text/plain": [
       "<IPython.core.display.HTML object>"
      ]
     },
     "metadata": {},
     "output_type": "display_data"
    },
    {
     "data": {
      "text/plain": [
       "1"
      ]
     },
     "metadata": {},
     "output_type": "display_data"
    },
    {
     "data": {
      "text/plain": [
       "Index(['30060_raw-Mean_corpuscular_haemoglobin_concentration'], dtype='object')"
      ]
     },
     "metadata": {},
     "output_type": "display_data"
    },
    {
     "data": {
      "text/html": [
       "<h3>Cluster 42.32</h3>"
      ],
      "text/plain": [
       "<IPython.core.display.HTML object>"
      ]
     },
     "metadata": {},
     "output_type": "display_data"
    },
    {
     "data": {
      "text/plain": [
       "8"
      ]
     },
     "metadata": {},
     "output_type": "display_data"
    },
    {
     "data": {
      "text/plain": [
       "Index(['24003_raw-Nitrogen_dioxide_air_pollution_2010',\n",
       "       '24004_raw-Nitrogen_oxides_air_pollution_2010',\n",
       "       '24006_raw-Particulate_matter_air_pollution_pm25_2010',\n",
       "       '24007_raw-Particulate_matter_air_pollution_pm25_absorbance_2010',\n",
       "       '24016_raw-Nitrogen_dioxide_air_pollution_2005',\n",
       "       '24017_raw-Nitrogen_dioxide_air_pollution_2006',\n",
       "       '24018_raw-Nitrogen_dioxide_air_pollution_2007',\n",
       "       '24019_raw-Particulate_matter_air_pollution_pm10_2007'],\n",
       "      dtype='object')"
      ]
     },
     "metadata": {},
     "output_type": "display_data"
    },
    {
     "data": {
      "text/html": [
       "<h3>Cluster 42.33</h3>"
      ],
      "text/plain": [
       "<IPython.core.display.HTML object>"
      ]
     },
     "metadata": {},
     "output_type": "display_data"
    },
    {
     "data": {
      "text/plain": [
       "8"
      ]
     },
     "metadata": {},
     "output_type": "display_data"
    },
    {
     "data": {
      "text/plain": [
       "Index(['5096_raw-3mm_weak_meridian_left', '5097_raw-6mm_weak_meridian_left',\n",
       "       '5098_raw-6mm_weak_meridian_right', '5099_raw-3mm_weak_meridian_right',\n",
       "       '5132_raw-3mm_strong_meridian_right',\n",
       "       '5133_raw-6mm_strong_meridian_right',\n",
       "       '5134_raw-6mm_strong_meridian_left',\n",
       "       '5135_raw-3mm_strong_meridian_left'],\n",
       "      dtype='object')"
      ]
     },
     "metadata": {},
     "output_type": "display_data"
    },
    {
     "data": {
      "text/html": [
       "<h3>Cluster 42.34</h3>"
      ],
      "text/plain": [
       "<IPython.core.display.HTML object>"
      ]
     },
     "metadata": {},
     "output_type": "display_data"
    },
    {
     "data": {
      "text/plain": [
       "1"
      ]
     },
     "metadata": {},
     "output_type": "display_data"
    },
    {
     "data": {
      "text/plain": [
       "Index(['mineral metabolism disease'], dtype='object')"
      ]
     },
     "metadata": {},
     "output_type": "display_data"
    },
    {
     "data": {
      "text/html": [
       "<h3>Cluster 42.35</h3>"
      ],
      "text/plain": [
       "<IPython.core.display.HTML object>"
      ]
     },
     "metadata": {},
     "output_type": "display_data"
    },
    {
     "data": {
      "text/plain": [
       "4"
      ]
     },
     "metadata": {},
     "output_type": "display_data"
    },
    {
     "data": {
      "text/plain": [
       "Index(['HEARTFAIL-Heart_failure', 'I9_HEARTFAIL-Heart_failurestrict',\n",
       "       'I9_HEARTFAIL_NS-Heart_failure_not_strict', 'heart failure'],\n",
       "      dtype='object')"
      ]
     },
     "metadata": {},
     "output_type": "display_data"
    },
    {
     "data": {
      "text/html": [
       "<h3>Cluster 42.36</h3>"
      ],
      "text/plain": [
       "<IPython.core.display.HTML object>"
      ]
     },
     "metadata": {},
     "output_type": "display_data"
    },
    {
     "data": {
      "text/plain": [
       "4"
      ]
     },
     "metadata": {},
     "output_type": "display_data"
    },
    {
     "data": {
      "text/plain": [
       "Index(['COPD_EXCL-COPD_differential_diagnosis',\n",
       "       'ILD_DIFF_DG-ILD_differential_diagnosis',\n",
       "       'PULMONARYDG-Other_pulmonary_diagnosis',\n",
       "       'X_RESPIRATORY-Diseases_of_the_respiratory_system'],\n",
       "      dtype='object')"
      ]
     },
     "metadata": {},
     "output_type": "display_data"
    },
    {
     "data": {
      "text/html": [
       "<h3>Cluster 42.37</h3>"
      ],
      "text/plain": [
       "<IPython.core.display.HTML object>"
      ]
     },
     "metadata": {},
     "output_type": "display_data"
    },
    {
     "data": {
      "text/plain": [
       "5"
      ]
     },
     "metadata": {},
     "output_type": "display_data"
    },
    {
     "data": {
      "text/plain": [
       "Index(['C_STROKE-STROKE', 'I9_STR-Stroke_excluding_SAH',\n",
       "       'I9_STR_EXH-Ischaemic_Stroke_excluding_all_haemorrhages',\n",
       "       'I9_STR_SAH-Stroke_including_SAH', 'brain infarction'],\n",
       "      dtype='object')"
      ]
     },
     "metadata": {},
     "output_type": "display_data"
    },
    {
     "data": {
      "text/html": [
       "<h3>Cluster 42.38</h3>"
      ],
      "text/plain": [
       "<IPython.core.display.HTML object>"
      ]
     },
     "metadata": {},
     "output_type": "display_data"
    },
    {
     "data": {
      "text/plain": [
       "1"
      ]
     },
     "metadata": {},
     "output_type": "display_data"
    },
    {
     "data": {
      "text/plain": [
       "Index(['1737-Childhood_sunburn_occasions'], dtype='object')"
      ]
     },
     "metadata": {},
     "output_type": "display_data"
    },
    {
     "data": {
      "text/html": [
       "<h3>Cluster 42.39</h3>"
      ],
      "text/plain": [
       "<IPython.core.display.HTML object>"
      ]
     },
     "metadata": {},
     "output_type": "display_data"
    },
    {
     "data": {
      "text/plain": [
       "12"
      ]
     },
     "metadata": {},
     "output_type": "display_data"
    },
    {
     "data": {
      "text/plain": [
       "Index(['3144_raw-Heel_Broadband_ultrasound_attenuation_direct_entry',\n",
       "       '3147_raw-Heel_quantitative_ultrasound_index_QUI_direct_entry',\n",
       "       '3148_raw-Heel_bone_mineral_density_BMD',\n",
       "       '4101_raw-Heel_broadband_ultrasound_attenuation_left',\n",
       "       '4104_raw-Heel_quantitative_ultrasound_index_QUI_direct_entry_left',\n",
       "       '4105_raw-Heel_bone_mineral_density_BMD_left',\n",
       "       '4106_raw-Heel_bone_mineral_density_BMD_Tscore_automated_left',\n",
       "       '4120_raw-Heel_broadband_ultrasound_attenuation_right',\n",
       "       '4123_raw-Heel_quantitative_ultrasound_index_QUI_direct_entry_right',\n",
       "       '4124_raw-Heel_bone_mineral_density_BMD_right',\n",
       "       '4125_raw-Heel_bone_mineral_density_BMD_Tscore_automated_right',\n",
       "       '78_raw-Heel_bone_mineral_density_BMD_Tscore_automated'],\n",
       "      dtype='object')"
      ]
     },
     "metadata": {},
     "output_type": "display_data"
    },
    {
     "data": {
      "text/html": [
       "<h3>Cluster 42.40</h3>"
      ],
      "text/plain": [
       "<IPython.core.display.HTML object>"
      ]
     },
     "metadata": {},
     "output_type": "display_data"
    },
    {
     "data": {
      "text/plain": [
       "17"
      ]
     },
     "metadata": {},
     "output_type": "display_data"
    },
    {
     "data": {
      "text/plain": [
       "Index(['20003_1140883066-Treatmentmedication_code_insulin_product',\n",
       "       '20003_1141191044-Treatmentmedication_code_levothyroxine_sodium',\n",
       "       '2976_raw-Age_diabetes_diagnosed',\n",
       "       '2986-Started_insulin_within_one_year_diagnosis_of_diabetes',\n",
       "       '6144_3-Never_eat_eggs_dairy_wheat_sugar_Wheat_products',\n",
       "       '6153_3-Medication_for_cholesterol_blood_pressure_diabetes_or_take_exogenous_hormones_Insulin',\n",
       "       '6177_3-Medication_for_cholesterol_blood_pressure_or_diabetes_Insulin',\n",
       "       'K11_COELIAC-Coeliac_disease', 'celiac disease',\n",
       "       'hyperthyroidism AND thyrotoxicosis', 'hypothyroidism AND myxedema',\n",
       "       'malabsorption syndrome', 'psoriasis', 'rheumatoid arthritis',\n",
       "       'sarcoidosis', 'systemic lupus erythematosus',\n",
       "       'type i diabetes mellitus'],\n",
       "      dtype='object')"
      ]
     },
     "metadata": {},
     "output_type": "display_data"
    },
    {
     "data": {
      "text/html": [
       "<h3>Cluster 42.41</h3>"
      ],
      "text/plain": [
       "<IPython.core.display.HTML object>"
      ]
     },
     "metadata": {},
     "output_type": "display_data"
    },
    {
     "data": {
      "text/plain": [
       "3"
      ]
     },
     "metadata": {},
     "output_type": "display_data"
    },
    {
     "data": {
      "text/plain": [
       "Index(['M13_DUPUTRYEN-Palmar_fascial_fibromatosis_Dupuytren',\n",
       "       'M13_FIBROBLASTIC-Fibroblastic_disorders', 'fibroblastic disorder'],\n",
       "      dtype='object')"
      ]
     },
     "metadata": {},
     "output_type": "display_data"
    },
    {
     "data": {
      "text/html": [
       "<h2>Partition with k=43</h2>"
      ],
      "text/plain": [
       "<IPython.core.display.HTML object>"
      ]
     },
     "metadata": {},
     "output_type": "display_data"
    },
    {
     "data": {
      "text/plain": [
       "method                              eac_average_coassoc_matrix\n",
       "partition    [25, 25, 25, 25, 25, 25, 25, 25, 25, 5, 25, 25...\n",
       "ami_mean                                              0.285371\n",
       "selected                                                  True\n",
       "Name: 43, dtype: object"
      ]
     },
     "metadata": {},
     "output_type": "display_data"
    },
    {
     "data": {
      "text/plain": [
       "(3752,)"
      ]
     },
     "metadata": {},
     "output_type": "display_data"
    },
    {
     "data": {
      "text/plain": [
       "9     766\n",
       "5     704\n",
       "4     453\n",
       "11    394\n",
       "20    321\n",
       "30    266\n",
       "14    241\n",
       "7     218\n",
       "13     49\n",
       "19     43\n",
       "15     21\n",
       "3      19\n",
       "1      18\n",
       "25     18\n",
       "40     17\n",
       "12     17\n",
       "0      15\n",
       "10     15\n",
       "27     15\n",
       "29     15\n",
       "39     12\n",
       "24     11\n",
       "2      10\n",
       "33      8\n",
       "32      8\n",
       "22      8\n",
       "6       7\n",
       "16      7\n",
       "26      7\n",
       "18      6\n",
       "42      6\n",
       "17      5\n",
       "23      5\n",
       "37      5\n",
       "36      4\n",
       "35      4\n",
       "28      3\n",
       "8       3\n",
       "41      3\n",
       "21      2\n",
       "34      1\n",
       "38      1\n",
       "31      1\n",
       "dtype: int64"
      ]
     },
     "metadata": {},
     "output_type": "display_data"
    },
    {
     "data": {
      "text/html": [
       "<h3>Cluster 43.0</h3>"
      ],
      "text/plain": [
       "<IPython.core.display.HTML object>"
      ]
     },
     "metadata": {},
     "output_type": "display_data"
    },
    {
     "data": {
      "text/plain": [
       "15"
      ]
     },
     "metadata": {},
     "output_type": "display_data"
    },
    {
     "data": {
      "text/plain": [
       "Index(['20003_1140884516-Treatmentmedication_code_thyroxine_product',\n",
       "       '6149_1-Mouthteeth_dental_problems_Mouth_ulcers',\n",
       "       'K11_OTHDIG-Other_diseases_of_the_digestive_system',\n",
       "       'M13_POLYARTHROPATHIES-Polyarthropathies',\n",
       "       'M13_RHEUMA-Rheumatoid_arthritis',\n",
       "       'RHEUMA_NOS-Otherunspecified_rheumatoid_arthritis',\n",
       "       'RHEUMA_SEROPOS-Seropositive_rheumatoid_arthritis',\n",
       "       'RHEUMA_SEROPOS_OTH-Otherunspecified_seropositiverheumatoid_arthritis',\n",
       "       'STILL_ADULT-Adultonset_Still_disease', 'adrenocortical insufficiency',\n",
       "       'ankylosing spondylitis', 'benign prostatic hyperplasia', 'hematuria',\n",
       "       'multiple sclerosis', 'psoriatic arthritis'],\n",
       "      dtype='object')"
      ]
     },
     "metadata": {},
     "output_type": "display_data"
    },
    {
     "data": {
      "text/html": [
       "<h3>Cluster 43.1</h3>"
      ],
      "text/plain": [
       "<IPython.core.display.HTML object>"
      ]
     },
     "metadata": {},
     "output_type": "display_data"
    },
    {
     "data": {
      "text/plain": [
       "18"
      ]
     },
     "metadata": {},
     "output_type": "display_data"
    },
    {
     "data": {
      "text/plain": [
       "Index(['30000_raw-White_blood_cell_leukocyte_count',\n",
       "       '30130_raw-Monocyte_count', '30140_raw-Neutrophill_count',\n",
       "       '30150-Eosinophill_count', '30180_raw-Lymphocyte_percentage',\n",
       "       '30190_raw-Monocyte_percentage', '30200_raw-Neutrophill_percentage',\n",
       "       '30210_raw-Eosinophill_percentage', 'eosinophil count',\n",
       "       'granulocyte count', 'leukocyte count', 'lymphocyte count',\n",
       "       'monocyte count', 'myeloid white cell count', 'neutrophil count',\n",
       "       'sum of basophil and neutrophil counts',\n",
       "       'sum of eosinophil and basophil counts',\n",
       "       'sum of neutrophil and eosinophil counts'],\n",
       "      dtype='object')"
      ]
     },
     "metadata": {},
     "output_type": "display_data"
    },
    {
     "data": {
      "text/html": [
       "<h3>Cluster 43.2</h3>"
      ],
      "text/plain": [
       "<IPython.core.display.HTML object>"
      ]
     },
     "metadata": {},
     "output_type": "display_data"
    },
    {
     "data": {
      "text/plain": [
       "10"
      ]
     },
     "metadata": {},
     "output_type": "display_data"
    },
    {
     "data": {
      "text/plain": [
       "Index(['ASTHMA_MEDICATIO_COMORB-Medication_related_adverse_effects',\n",
       "       'C3_MALE_GENITAL-malignant_neoplasm_of_male_genital_organs',\n",
       "       'C_MALE_GENITAL', 'C_PROSTATE-Malignant_neoplasm_of_prostate',\n",
       "       'H7_LENS-Disorders_of_lens',\n",
       "       'PULM_MEDICATIO_COMORB-Medication_related_adverse_effects_AsthmaCOPD',\n",
       "       'VII_EYE_ADNEXA-Diseases_of_the_eye_and_adnexa', 'age-related cataract',\n",
       "       'cataract', 'prostate carcinoma'],\n",
       "      dtype='object')"
      ]
     },
     "metadata": {},
     "output_type": "display_data"
    },
    {
     "data": {
      "text/html": [
       "<h3>Cluster 43.3</h3>"
      ],
      "text/plain": [
       "<IPython.core.display.HTML object>"
      ]
     },
     "metadata": {},
     "output_type": "display_data"
    },
    {
     "data": {
      "text/plain": [
       "19"
      ]
     },
     "metadata": {},
     "output_type": "display_data"
    },
    {
     "data": {
      "text/plain": [
       "Index(['EAGLE_Eczema', 'Jones_et_al_2016_Chronotype', 'MAGNETIC_CH2.DB.ratio',\n",
       "       'MAGNETIC_HDL.C', 'MAGNETIC_IDL.TG', 'MAGNETIC_LDL.C',\n",
       "       'SSGAC_Education_Years_Pooled', 'alzheimer's disease',\n",
       "       'attention deficit hyperactivity disorder', 'bone density',\n",
       "       'coronary artery disease', 'estrogen-receptor negative breast cancer',\n",
       "       'estrogen-receptor positive breast cancer',\n",
       "       'family history of breast cancer', 'fasting blood glucose measurement',\n",
       "       'fasting blood insulin measurement', 'inflammatory bowel disease',\n",
       "       'intracranial volume measurement', 'schizophrenia'],\n",
       "      dtype='object')"
      ]
     },
     "metadata": {},
     "output_type": "display_data"
    },
    {
     "data": {
      "text/html": [
       "<h3>Cluster 43.4</h3>"
      ],
      "text/plain": [
       "<IPython.core.display.HTML object>"
      ]
     },
     "metadata": {},
     "output_type": "display_data"
    },
    {
     "data": {
      "text/plain": [
       "453"
      ]
     },
     "metadata": {},
     "output_type": "display_data"
    },
    {
     "data": {
      "text/plain": [
       "Index(['20003_1140879616-Treatmentmedication_code_amitriptyline',\n",
       "       '20003_1140879630-Treatmentmedication_code_imipramine',\n",
       "       '20003_1140879634-Treatmentmedication_code_trazodone',\n",
       "       '20003_1140879762-Treatmentmedication_code_celiprolol',\n",
       "       '20003_1140879778-Treatmentmedication_code_doxazosin',\n",
       "       '20003_1140879792-Treatmentmedication_code_terbutaline',\n",
       "       '20003_1140879798-Treatmentmedication_code_terazosin',\n",
       "       '20003_1140879818-Treatmentmedication_code_metoprolol',\n",
       "       '20003_1140880086-Treatmentmedication_code_calcipotriol',\n",
       "       '20003_1140881446-Treatmentmedication_code_proctosedyl_ointment',\n",
       "       ...\n",
       "       '20112_13-Illnesses_of_adopted_father_Prostate_cancer',\n",
       "       '20112_2-Illnesses_of_adopted_father_Stroke',\n",
       "       '20112_3-Illnesses_of_adopted_father_Lung_cancer',\n",
       "       '20112_4-Illnesses_of_adopted_father_Bowel_cancer',\n",
       "       '20112_6-Illnesses_of_adopted_father_Chronic_bronchitisemphysema',\n",
       "       '20113_1-Illnesses_of_adopted_mother_Heart_disease',\n",
       "       '20113_100-Illnesses_of_adopted_mother_None_of_the_above_group_1',\n",
       "       '20113_12-Illnesses_of_adopted_mother_Severe_depression',\n",
       "       '20113_3-Illnesses_of_adopted_mother_Lung_cancer',\n",
       "       '20113_6-Illnesses_of_adopted_mother_Chronic_bronchitisemphysema'],\n",
       "      dtype='object', length=453)"
      ]
     },
     "metadata": {},
     "output_type": "display_data"
    },
    {
     "data": {
      "text/html": [
       "<h3>Cluster 43.5</h3>"
      ],
      "text/plain": [
       "<IPython.core.display.HTML object>"
      ]
     },
     "metadata": {},
     "output_type": "display_data"
    },
    {
     "data": {
      "text/plain": [
       "704"
      ]
     },
     "metadata": {},
     "output_type": "display_data"
    },
    {
     "data": {
      "text/plain": [
       "Index(['100010-Portion_size', '100013_raw-Vitamin_B12', '100018_raw-Retinol',\n",
       "       '100019_raw-Carotene', '100021_raw-Vitamin_D', '100022-Alcohol',\n",
       "       '1001-Duration_of_strenuous_sports', '100150-Drinking_water_intake',\n",
       "       '100160-Low_calorie_drink_intake', '100170-Fizzy_drink_intake',\n",
       "       ...\n",
       "       'viral disease', 'viral human hepatitis infection', 'viral meningitis',\n",
       "       'visual impairment', 'vitiligo', 'vitreous body disease',\n",
       "       'vocal cord polyp', 'voice disorders',\n",
       "       'wellbeing measurement AND family relationship', 'whooping cough'],\n",
       "      dtype='object', length=704)"
      ]
     },
     "metadata": {},
     "output_type": "display_data"
    },
    {
     "data": {
      "text/html": [
       "<h3>Cluster 43.6</h3>"
      ],
      "text/plain": [
       "<IPython.core.display.HTML object>"
      ]
     },
     "metadata": {},
     "output_type": "display_data"
    },
    {
     "data": {
      "text/plain": [
       "7"
      ]
     },
     "metadata": {},
     "output_type": "display_data"
    },
    {
     "data": {
      "text/plain": [
       "Index(['20003_1140860696-Treatmentmedication_code_lisinopril',\n",
       "       '20003_1140860806-Treatmentmedication_code_ramipril',\n",
       "       '20003_1140866738-Treatmentmedication_code_atenolol',\n",
       "       '20003_1140875408-Treatmentmedication_code_allopurinol',\n",
       "       '20003_1140884600-Treatmentmedication_code_metformin',\n",
       "       'diabetes mellitus', 'gout'],\n",
       "      dtype='object')"
      ]
     },
     "metadata": {},
     "output_type": "display_data"
    },
    {
     "data": {
      "text/html": [
       "<h3>Cluster 43.7</h3>"
      ],
      "text/plain": [
       "<IPython.core.display.HTML object>"
      ]
     },
     "metadata": {},
     "output_type": "display_data"
    },
    {
     "data": {
      "text/plain": [
       "218"
      ]
     },
     "metadata": {},
     "output_type": "display_data"
    },
    {
     "data": {
      "text/plain": [
       "Index(['40001_C259-Underlying_primary_cause_of_death_ICD10_C259_Pancreas_unspecified',\n",
       "       '40001_C459-Underlying_primary_cause_of_death_ICD10_C459_Mesothelioma_unspecified',\n",
       "       '41248_3001-Destinations_on_discharge_from_hospital_recoded_High_security_psychiatric_hospital_NHS',\n",
       "       '41248_5003-Destinations_on_discharge_from_hospital_recoded_Transfer_to_other_NHS_provider_Psychiatry_learning_disabilities',\n",
       "       '41248_6000-Destinations_on_discharge_from_hospital_recoded_Transfer_within_NHS_provider',\n",
       "       '4233_raw-Mean_signaltonoise_ratio_SNR_left',\n",
       "       '4244_raw-Mean_signaltonoise_ratio_SNR_right',\n",
       "       '4269-Number_of_triplets_attempted_left',\n",
       "       '4270-Volume_level_set_by_participant_left',\n",
       "       '4276-Number_of_triplets_attempted_right',\n",
       "       ...\n",
       "       '6158_1-Why_reduced_smoking_Illness_or_ill_health',\n",
       "       '6158_100-Why_reduced_smoking_None_of_the_above',\n",
       "       '6158_2-Why_reduced_smoking_Doctors_advice',\n",
       "       '6158_3-Why_reduced_smoking_Health_precaution',\n",
       "       '6158_4-Why_reduced_smoking_Financial_reasons',\n",
       "       '6159_2-Pain_types_experienced_in_last_month_Facial_pain',\n",
       "       '6159_8-Pain_types_experienced_in_last_month_Pain_all_over_the_body',\n",
       "       '6162_100-Types_of_transport_used_excluding_work_None_of_the_above',\n",
       "       '709-Number_in_household', 'C_PANCREAS-Malignant_neoplasm_of_pancreas'],\n",
       "      dtype='object', length=218)"
      ]
     },
     "metadata": {},
     "output_type": "display_data"
    },
    {
     "data": {
      "text/html": [
       "<h3>Cluster 43.8</h3>"
      ],
      "text/plain": [
       "<IPython.core.display.HTML object>"
      ]
     },
     "metadata": {},
     "output_type": "display_data"
    },
    {
     "data": {
      "text/plain": [
       "3"
      ]
     },
     "metadata": {},
     "output_type": "display_data"
    },
    {
     "data": {
      "text/plain": [
       "Index(['eczema', 'seasonal allergic rhinitis',\n",
       "       'seasonal allergic rhinitis AND allergic rhinitis'],\n",
       "      dtype='object')"
      ]
     },
     "metadata": {},
     "output_type": "display_data"
    },
    {
     "data": {
      "text/html": [
       "<h3>Cluster 43.9</h3>"
      ],
      "text/plain": [
       "<IPython.core.display.HTML object>"
      ]
     },
     "metadata": {},
     "output_type": "display_data"
    },
    {
     "data": {
      "text/plain": [
       "766"
      ]
     },
     "metadata": {},
     "output_type": "display_data"
    },
    {
     "data": {
      "text/plain": [
       "Index(['22601_11113200-Job_coding_senior_official_in_central_government_including_members_of_the_senior_civil_service_and_the_equivalent_in_the_diplomatic_service_mps_meps',\n",
       "       '22601_11123211-Job_coding_director_or_chief_executive_of_private_organisationcompany_company_chairman_or_president_general_manager',\n",
       "       '22601_11133201-Job_coding_senior_official_in_local_government_including_parish_or_town_or_county_chief_clerk_chief_or_superintendent_rate_collector_chief_executive_or_director_councillor',\n",
       "       '22601_11143212-Job_coding_senior_official_of_special_interest_organisation_including_general_manager_or_director_or_executive_or_general_secretary_of_charity_or_trade_unionassociation_or_religious_organisation',\n",
       "       '22601_11212692-Job_coding_production_works_or_maintenance_manager',\n",
       "       '22601_11222591-Job_coding_manager_in_construction_clerk_of_works_site_manager_contracts_manager_highways_manager',\n",
       "       '22601_11232861-Job_coding_manager_in_mining_energy_production_or_water_supply',\n",
       "       '22601_11313221-Job_coding_financial_services_manager_chartered_secretary_banker_merchant_or_investment_banker_finance_director_tax_manager',\n",
       "       '22601_11323222-Job_coding_sales_or_marketing_managerdirector_exportimport_manager_business_development_manager_advertisingcommercial_manager',\n",
       "       '22601_11333223-Job_coding_purchasing_managerdirector_not_retail_supplies_manager',\n",
       "       ...\n",
       "       '41248_6005-Destinations_on_discharge_from_hospital_recoded_Transfer_within_NHS_provider_Medical_specialty',\n",
       "       '41248_6007-Destinations_on_discharge_from_hospital_recoded_Transfer_within_NHS_provider_Geriatrics',\n",
       "       '41248_7001-Destinations_on_discharge_from_hospital_recoded_Nursing_residential_care_group_home_NHS',\n",
       "       '41248_7002-Destinations_on_discharge_from_hospital_recoded_Nursing_residential_care_group_home_Local_Authoritory',\n",
       "       '41248_7003-Destinations_on_discharge_from_hospital_recoded_Nursing_residential_care_group_home_NonNHS',\n",
       "       '41248_8002-Destinations_on_discharge_from_hospital_recoded_Other_hospital_NonNHS',\n",
       "       '4195_raw-Pulse_wave_reflection_index',\n",
       "       '4230_raw-Signaltonoiseratio_SNR_of_triplet_left',\n",
       "       '4241_raw-Signaltonoiseratio_SNR_of_triplet_right',\n",
       "       '4462-Average_monthly_intake_of_other_alcoholic_drinks'],\n",
       "      dtype='object', length=766)"
      ]
     },
     "metadata": {},
     "output_type": "display_data"
    },
    {
     "data": {
      "text/html": [
       "<h3>Cluster 43.10</h3>"
      ],
      "text/plain": [
       "<IPython.core.display.HTML object>"
      ]
     },
     "metadata": {},
     "output_type": "display_data"
    },
    {
     "data": {
      "text/plain": [
       "15"
      ]
     },
     "metadata": {},
     "output_type": "display_data"
    },
    {
     "data": {
      "text/plain": [
       "Index(['20003_1140868226-Treatmentmedication_code_aspirin',\n",
       "       '20003_1141146234-Treatmentmedication_code_atorvastatin',\n",
       "       '6150_1-Vascularheart_problems_diagnosed_by_doctor_Heart_attack',\n",
       "       '6150_2-Vascularheart_problems_diagnosed_by_doctor_Angina',\n",
       "       '6154_1-Medication_for_pain_relief_constipation_heartburn_Aspirin',\n",
       "       'I9_CHD-Major_coronary_heart_disease_event',\n",
       "       'I9_CHD_NOREV-Major_coronary_heart_disease_event_excluding_revascularizations',\n",
       "       'I9_CORATHER-Coronary_atherosclerosis',\n",
       "       'I9_IHD-Ischaemic_heart_disease_wide_definition',\n",
       "       'I9_MI-Myocardial_infarction',\n",
       "       'I9_MI_STRICT-Myocardial_infarction_strict',\n",
       "       'IX_CIRCULATORY-Diseases_of_the_circulatory_system',\n",
       "       'acute myocardial infarction', 'angina pectoris',\n",
       "       'myocardial infarction'],\n",
       "      dtype='object')"
      ]
     },
     "metadata": {},
     "output_type": "display_data"
    },
    {
     "data": {
      "text/html": [
       "<h3>Cluster 43.11</h3>"
      ],
      "text/plain": [
       "<IPython.core.display.HTML object>"
      ]
     },
     "metadata": {},
     "output_type": "display_data"
    },
    {
     "data": {
      "text/plain": [
       "394"
      ]
     },
     "metadata": {},
     "output_type": "display_data"
    },
    {
     "data": {
      "text/plain": [
       "Index(['40001_G122-Underlying_primary_cause_of_death_ICD10_G122_Motor_neuron_disease',\n",
       "       '6152_6-Blood_clot_DVT_bronchitis_emphysema_asthma_rhinitis_eczema_allergy_diagnosed_by_doctor_Emphysemachronic_bronchitis',\n",
       "       '6157_100-Why_stopped_smoking_None_of_the_above',\n",
       "       '6157_3-Why_stopped_smoking_Health_precaution',\n",
       "       '6157_4-Why_stopped_smoking_Financial_reasons',\n",
       "       '6160_5-Leisuresocial_activities_Other_group_activity',\n",
       "       '6162_3-Types_of_transport_used_excluding_work_Public_transport',\n",
       "       '6179_4-Mineral_and_other_dietary_supplements_Zinc',\n",
       "       '6179_5-Mineral_and_other_dietary_supplements_Iron',\n",
       "       '6179_6-Mineral_and_other_dietary_supplements_Selenium',\n",
       "       ...\n",
       "       'immune system disease', 'inner ear disease', 'keratitis',\n",
       "       'lacrimal apparatus disease', 'obesity', 'paralytic strabismus',\n",
       "       'polyneuropathy', 'purpura', 'retinal detachment',\n",
       "       'retinal vein occlusion'],\n",
       "      dtype='object', length=394)"
      ]
     },
     "metadata": {},
     "output_type": "display_data"
    },
    {
     "data": {
      "text/html": [
       "<h3>Cluster 43.12</h3>"
      ],
      "text/plain": [
       "<IPython.core.display.HTML object>"
      ]
     },
     "metadata": {},
     "output_type": "display_data"
    },
    {
     "data": {
      "text/plain": [
       "17"
      ]
     },
     "metadata": {},
     "output_type": "display_data"
    },
    {
     "data": {
      "text/plain": [
       "Index(['6152_5-Blood_clot_DVT_bronchitis_emphysema_asthma_rhinitis_eczema_allergy_diagnosed_by_doctor_Blood_clot_in_the_leg_DVT',\n",
       "       'G6_CARPTU-Carpal_tunnel_syndrome',\n",
       "       'G6_NERPLEX-Nerve_nerve_root_and_plexus_disorders',\n",
       "       'I9_DVTANDPULM-DVT_of_lower_extremities_and_pulmonary_embolism',\n",
       "       'I9_PHLETHROMBDVTLOW-DVT_of_lower_extremities',\n",
       "       'I9_VTE-Venous_thromboembolism',\n",
       "       'K11_GALLBILPANC-Disorders_of_gallbladder_biliary_tract_and_pancreas',\n",
       "       'OTHER_ILD_CVD_COMORB-Other_ILDrelated_CVDcomorbidities',\n",
       "       'ULCERNAS-Ulcerative_colitis_NAS',\n",
       "       'VI_NERVOUS-Diseases_of_the_nervous_system',\n",
       "       'XII_SKIN_SUBCUTAN-Diseases_of_the_skin_and_subcutaneous_tissue',\n",
       "       'birth weight', 'cholelithiasis', 'deep vein thrombosis',\n",
       "       'mononeuropathy', 'phlebitis AND thrombophlebitis',\n",
       "       'pulmonary embolism'],\n",
       "      dtype='object')"
      ]
     },
     "metadata": {},
     "output_type": "display_data"
    },
    {
     "data": {
      "text/html": [
       "<h3>Cluster 43.13</h3>"
      ],
      "text/plain": [
       "<IPython.core.display.HTML object>"
      ]
     },
     "metadata": {},
     "output_type": "display_data"
    },
    {
     "data": {
      "text/plain": [
       "49"
      ]
     },
     "metadata": {},
     "output_type": "display_data"
    },
    {
     "data": {
      "text/plain": [
       "Index(['20015_raw-Sitting_height',\n",
       "       '20150_raw-Forced_expiratory_volume_in_1second_FEV1_Best_measure',\n",
       "       '20151_raw-Forced_vital_capacity_FVC_Best_measure',\n",
       "       '20153_raw-Forced_expiratory_volume_in_1second_FEV1_predicted',\n",
       "       '20154_raw-Forced_expiratory_volume_in_1second_FEV1_predicted_percentage',\n",
       "       '21001_raw-Body_mass_index_BMI', '21002_raw-Weight', '23098_raw-Weight',\n",
       "       '23099_raw-Body_fat_percentage', '23100_raw-Whole_body_fat_mass',\n",
       "       '23101_raw-Whole_body_fatfree_mass', '23102_raw-Whole_body_water_mass',\n",
       "       '23104_raw-Body_mass_index_BMI', '23105_raw-Basal_metabolic_rate',\n",
       "       '23106_raw-Impedance_of_whole_body', '23107_raw-Impedance_of_leg_right',\n",
       "       '23108_raw-Impedance_of_leg_left', '23109_raw-Impedance_of_arm_right',\n",
       "       '23110_raw-Impedance_of_arm_left', '23111_raw-Leg_fat_percentage_right',\n",
       "       '23112_raw-Leg_fat_mass_right', '23113_raw-Leg_fatfree_mass_right',\n",
       "       '23114_raw-Leg_predicted_mass_right',\n",
       "       '23115_raw-Leg_fat_percentage_left', '23116_raw-Leg_fat_mass_left',\n",
       "       '23117_raw-Leg_fatfree_mass_left', '23118_raw-Leg_predicted_mass_left',\n",
       "       '23119_raw-Arm_fat_percentage_right', '23120_raw-Arm_fat_mass_right',\n",
       "       '23121_raw-Arm_fatfree_mass_right',\n",
       "       '23122_raw-Arm_predicted_mass_right',\n",
       "       '23123_raw-Arm_fat_percentage_left', '23124_raw-Arm_fat_mass_left',\n",
       "       '23125_raw-Arm_fatfree_mass_left', '23126_raw-Arm_predicted_mass_left',\n",
       "       '23127_raw-Trunk_fat_percentage', '23128_raw-Trunk_fat_mass',\n",
       "       '23129_raw-Trunk_fatfree_mass', '23130_raw-Trunk_predicted_mass',\n",
       "       '3062_raw-Forced_vital_capacity_FVC',\n",
       "       '3063_raw-Forced_expiratory_volume_in_1second_FEV1',\n",
       "       '3064_raw-Peak_expiratory_flow_PEF', '3143_raw-Ankle_spacing_width',\n",
       "       '4100_raw-Ankle_spacing_width_left',\n",
       "       '4119_raw-Ankle_spacing_width_right', '48_raw-Waist_circumference',\n",
       "       '49_raw-Hip_circumference', '50_raw-Standing_height', 'body height'],\n",
       "      dtype='object')"
      ]
     },
     "metadata": {},
     "output_type": "display_data"
    },
    {
     "data": {
      "text/html": [
       "<h3>Cluster 43.14</h3>"
      ],
      "text/plain": [
       "<IPython.core.display.HTML object>"
      ]
     },
     "metadata": {},
     "output_type": "display_data"
    },
    {
     "data": {
      "text/plain": [
       "241"
      ]
     },
     "metadata": {},
     "output_type": "display_data"
    },
    {
     "data": {
      "text/plain": [
       "Index(['1021-Duration_of_light_DIY', '102_raw-Pulse_rate_automated_reading',\n",
       "       '1050-Time_spend_outdoors_in_summer',\n",
       "       '1060-Time_spent_outdoors_in_winter',\n",
       "       '1070-Time_spent_watching_television_TV',\n",
       "       '1080-Time_spent_using_computer', '1090-Time_spent_driving',\n",
       "       '1100-Drive_faster_than_motorway_speed_limit',\n",
       "       '110001-Invitation_to_complete_online_24hour_recall_dietary_questionnaire_acceptance',\n",
       "       '1110-Length_of_mobile_phone_use',\n",
       "       ...\n",
       "       'self rated health', 'self reported educational attainment',\n",
       "       'sleep duration', 'smoking behavior', 'smoking cessation',\n",
       "       'snoring measurement', 'tiredness measurement', 'varicose veins',\n",
       "       'wheezing', 'worry measurement'],\n",
       "      dtype='object', length=241)"
      ]
     },
     "metadata": {},
     "output_type": "display_data"
    },
    {
     "data": {
      "text/html": [
       "<h3>Cluster 43.15</h3>"
      ],
      "text/plain": [
       "<IPython.core.display.HTML object>"
      ]
     },
     "metadata": {},
     "output_type": "display_data"
    },
    {
     "data": {
      "text/plain": [
       "21"
      ]
     },
     "metadata": {},
     "output_type": "display_data"
    },
    {
     "data": {
      "text/plain": [
       "Index(['20003_2038460150-Treatmentmedication_code_paracetamol',\n",
       "       '20016_raw-Fluid_intelligence_score', '20022_raw-Birth_weight',\n",
       "       '20023_raw-Mean_time_to_correctly_identify_matches',\n",
       "       '20074_raw-Home_location_at_assessment_east_coordinate_rounded',\n",
       "       '20077-Number_of_diet_questionnaires_completed',\n",
       "       '20086_8-Type_of_special_diet_followed_Glutenfree',\n",
       "       '20107_1-Illnesses_of_father_Heart_disease',\n",
       "       '20107_100-Illnesses_of_father_None_of_the_above_group_1',\n",
       "       '20107_3-Illnesses_of_father_Lung_cancer',\n",
       "       '20107_8-Illnesses_of_father_High_blood_pressure',\n",
       "       '20107_9-Illnesses_of_father_Diabetes',\n",
       "       '20110_1-Illnesses_of_mother_Heart_disease',\n",
       "       '20110_10-Illnesses_of_mother_Alzheimers_diseasedementia',\n",
       "       '20110_100-Illnesses_of_mother_None_of_the_above_group_1',\n",
       "       '20110_8-Illnesses_of_mother_High_blood_pressure',\n",
       "       '20110_9-Illnesses_of_mother_Diabetes',\n",
       "       '20111_1-Illnesses_of_siblings_Heart_disease',\n",
       "       '20111_100-Illnesses_of_siblings_None_of_the_above_group_1',\n",
       "       '20111_8-Illnesses_of_siblings_High_blood_pressure',\n",
       "       '20111_9-Illnesses_of_siblings_Diabetes'],\n",
       "      dtype='object')"
      ]
     },
     "metadata": {},
     "output_type": "display_data"
    },
    {
     "data": {
      "text/html": [
       "<h3>Cluster 43.16</h3>"
      ],
      "text/plain": [
       "<IPython.core.display.HTML object>"
      ]
     },
     "metadata": {},
     "output_type": "display_data"
    },
    {
     "data": {
      "text/plain": [
       "7"
      ]
     },
     "metadata": {},
     "output_type": "display_data"
    },
    {
     "data": {
      "text/plain": [
       "Index(['1717-Skin_colour', '1727-Ease_of_skin_tanning',\n",
       "       '1747_1-Hair_colour_natural_before_greying_Blonde',\n",
       "       '1747_2-Hair_colour_natural_before_greying_Red',\n",
       "       '1747_3-Hair_colour_natural_before_greying_Light_brown',\n",
       "       '1747_4-Hair_colour_natural_before_greying_Dark_brown',\n",
       "       '1747_5-Hair_colour_natural_before_greying_Black'],\n",
       "      dtype='object')"
      ]
     },
     "metadata": {},
     "output_type": "display_data"
    },
    {
     "data": {
      "text/html": [
       "<h3>Cluster 43.17</h3>"
      ],
      "text/plain": [
       "<IPython.core.display.HTML object>"
      ]
     },
     "metadata": {},
     "output_type": "display_data"
    },
    {
     "data": {
      "text/plain": [
       "5"
      ]
     },
     "metadata": {},
     "output_type": "display_data"
    },
    {
     "data": {
      "text/plain": [
       "Index(['30080_raw-Platelet_count', '30090_raw-Platelet_crit',\n",
       "       '30100_raw-Mean_platelet_thrombocyte_volume',\n",
       "       '30110_raw-Platelet_distribution_width', 'platelet count'],\n",
       "      dtype='object')"
      ]
     },
     "metadata": {},
     "output_type": "display_data"
    },
    {
     "data": {
      "text/html": [
       "<h3>Cluster 43.18</h3>"
      ],
      "text/plain": [
       "<IPython.core.display.HTML object>"
      ]
     },
     "metadata": {},
     "output_type": "display_data"
    },
    {
     "data": {
      "text/plain": [
       "6"
      ]
     },
     "metadata": {},
     "output_type": "display_data"
    },
    {
     "data": {
      "text/plain": [
       "Index(['40001_C349-Underlying_primary_cause_of_death_ICD10_C349_Bronchus_or_lung_unspecified',\n",
       "       'C3_RESPIRATORY_INTRATHORACIC-Malignant_neoplasm_of_respiratory_system_and_intrathoracic_organs',\n",
       "       'C_BRONCHUS_LUNG-Malignant_neoplasm_of_bronchus_and_lung',\n",
       "       'C_RESPIRATORY_INTRATHORACIC',\n",
       "       'LUNG_CANCER_MESOT-Lung_cancer_and_mesothelioma', 'lung carcinoma'],\n",
       "      dtype='object')"
      ]
     },
     "metadata": {},
     "output_type": "display_data"
    },
    {
     "data": {
      "text/html": [
       "<h3>Cluster 43.19</h3>"
      ],
      "text/plain": [
       "<IPython.core.display.HTML object>"
      ]
     },
     "metadata": {},
     "output_type": "display_data"
    },
    {
     "data": {
      "text/plain": [
       "43"
      ]
     },
     "metadata": {},
     "output_type": "display_data"
    },
    {
     "data": {
      "text/plain": [
       "Index(['129_raw-Place_of_birth_in_UK_north_coordinate',\n",
       "       '20075_raw-Home_location_at_assessment_north_coordinate_rounded',\n",
       "       '22704_raw-Home_location_north_coordinate_rounded',\n",
       "       'ASTHMA_PNEUMONIA-Asthmarelated_pneumonia',\n",
       "       'G6_EPIPAROX-Episodal_and_paroxysmal_disorders',\n",
       "       'G6_SLEEPAPNO-Sleep_apnoea',\n",
       "       'L12_ATROPHICSKIN-Atrophic_disorders_of_skin',\n",
       "       'L12_SCARCONDITIONS-Scar_conditions_and_fibrosis_of_skin',\n",
       "       'M13_DORSOPATHYOTH-Other_dorsopathies_not_elsewhere_classified',\n",
       "       'M13_MUSCULOSKELEOTH-Other_disorders_of_the_musculoskeletal_system_and_connective_tissue',\n",
       "       'M13_SACROCOGG-Sacrococcygeal_disorders_not_elsewhere_classified',\n",
       "       'PNEUMONIA-Pneumonias_AsthmaCOPD_comorbidities',\n",
       "       'SLEEP-Sleep_disorders_combined', 'abdominal injury', 'bone disease',\n",
       "       'cardiac arrhythmia', 'checkup',\n",
       "       'chronic obstructive pulmonary disease', 'device complication',\n",
       "       'encounter with health service', 'female reproductive system disease',\n",
       "       'follow-up', 'head injury', 'headache', 'heart disease', 'injury',\n",
       "       'joint disease', 'kidney failure', 'leg injury', 'lower limb pain',\n",
       "       'mesothelioma', 'musculoskeletal system disease',\n",
       "       'musculoskeletal system disease AND connective tissue disease',\n",
       "       'nasal cavity polyp', 'pericarditis', 'pneumonia', 'poisoning',\n",
       "       'pregnancy disorder', 'skin atrophy', 'sleep disorder',\n",
       "       'soft tissue disease', 'urogenital neoplasm', 'wrist fracture'],\n",
       "      dtype='object')"
      ]
     },
     "metadata": {},
     "output_type": "display_data"
    },
    {
     "data": {
      "text/html": [
       "<h3>Cluster 43.20</h3>"
      ],
      "text/plain": [
       "<IPython.core.display.HTML object>"
      ]
     },
     "metadata": {},
     "output_type": "display_data"
    },
    {
     "data": {
      "text/plain": [
       "321"
      ]
     },
     "metadata": {},
     "output_type": "display_data"
    },
    {
     "data": {
      "text/plain": [
       "Index(['40001_C719-Underlying_primary_cause_of_death_ICD10_C719_Brain_unspecified',\n",
       "       'ASTHMA_CHILD-Childhood_asthma_age16',\n",
       "       'ASTHMA_HOSPITAL1-Asthma_hospital_admissions_1',\n",
       "       'BACT_INTEST_INFECTION_NOS-Other_specifiedunspecified_bacterial_intestinal_infections',\n",
       "       'C3_DIGESTIVE_ORGANS-Malignant_neoplasm_of_digestive_organs',\n",
       "       'C3_EYE_BRAIN_NEURO-Malignant_neoplasm_of_eye_brain_and_central_nervous_system',\n",
       "       'C3_URINARY_TRACT-Malignant_neoplasm_of_urinary_organs',\n",
       "       'C_BLADDER-Malignant_neoplasm_of_bladder',\n",
       "       'C_BRAIN-Malignant_neoplasm_of_brain',\n",
       "       'C_COLON-Malignant_neoplasm_of_colon',\n",
       "       ...\n",
       "       'iron deficiency anemia', 'kidney neoplasm', 'knee injury',\n",
       "       'muscular disease', 'pigmentation disease', 'skeletal system disease',\n",
       "       'skin disease', 'suppurative otitis media', 'tenosynovitis',\n",
       "       'vasculitis'],\n",
       "      dtype='object', length=321)"
      ]
     },
     "metadata": {},
     "output_type": "display_data"
    },
    {
     "data": {
      "text/html": [
       "<h3>Cluster 43.21</h3>"
      ],
      "text/plain": [
       "<IPython.core.display.HTML object>"
      ]
     },
     "metadata": {},
     "output_type": "display_data"
    },
    {
     "data": {
      "text/plain": [
       "2"
      ]
     },
     "metadata": {},
     "output_type": "display_data"
    },
    {
     "data": {
      "text/plain": [
       "Index(['46_raw-Hand_grip_strength_left', '47_raw-Hand_grip_strength_right'], dtype='object')"
      ]
     },
     "metadata": {},
     "output_type": "display_data"
    },
    {
     "data": {
      "text/html": [
       "<h3>Cluster 43.22</h3>"
      ],
      "text/plain": [
       "<IPython.core.display.HTML object>"
      ]
     },
     "metadata": {},
     "output_type": "display_data"
    },
    {
     "data": {
      "text/plain": [
       "8"
      ]
     },
     "metadata": {},
     "output_type": "display_data"
    },
    {
     "data": {
      "text/plain": [
       "Index(['24013-Total_traffic_load_on_major_roads', '24014-Close_to_major_road',\n",
       "       '24015-Sum_of_road_length_of_major_roads_within_100m',\n",
       "       '24020_raw-Average_daytime_sound_level_of_noise_pollution',\n",
       "       '24021_raw-Average_evening_sound_level_of_noise_pollution',\n",
       "       '24022_raw-Average_nighttime_sound_level_of_noise_pollution',\n",
       "       '24023_raw-Average_16hour_sound_level_of_noise_pollution',\n",
       "       '24024_raw-Average_24hour_sound_level_of_noise_pollution'],\n",
       "      dtype='object')"
      ]
     },
     "metadata": {},
     "output_type": "display_data"
    },
    {
     "data": {
      "text/html": [
       "<h3>Cluster 43.23</h3>"
      ],
      "text/plain": [
       "<IPython.core.display.HTML object>"
      ]
     },
     "metadata": {},
     "output_type": "display_data"
    },
    {
     "data": {
      "text/plain": [
       "5"
      ]
     },
     "metadata": {},
     "output_type": "display_data"
    },
    {
     "data": {
      "text/plain": [
       "Index(['F5_ALLANXIOUS-All_anxiety_disorders',\n",
       "       'F5_ANXIETY-Other_anxiety_disorders',\n",
       "       'KRA_PSY_ANXIETY-Anxiety_disorders',\n",
       "       'PULM_ANXIETY-Anxiety_asthmarelated_comorbidities', 'anxiety disorder'],\n",
       "      dtype='object')"
      ]
     },
     "metadata": {},
     "output_type": "display_data"
    },
    {
     "data": {
      "text/html": [
       "<h3>Cluster 43.24</h3>"
      ],
      "text/plain": [
       "<IPython.core.display.HTML object>"
      ]
     },
     "metadata": {},
     "output_type": "display_data"
    },
    {
     "data": {
      "text/plain": [
       "11"
      ]
     },
     "metadata": {},
     "output_type": "display_data"
    },
    {
     "data": {
      "text/plain": [
       "Index(['1707_1-Handedness_chiralitylaterality_Righthanded',\n",
       "       '20003_1140865634-Treatmentmedication_code_omeprazole',\n",
       "       'C3_SKIN-Malignant_neoplasm_of_skin',\n",
       "       'C_OTHER_SKIN-Other_malignant_neoplasms_of_skin', 'C_SKIN',\n",
       "       'KNEE_ARTHROSIS-Gonarthrosis_arthrosis_of_kneeFG',\n",
       "       'M13_ARTHROSIS-Arthrosis', 'depressive episode measurement',\n",
       "       'functional laterality', 'osteoarthritis, knee', 'skin neoplasm'],\n",
       "      dtype='object')"
      ]
     },
     "metadata": {},
     "output_type": "display_data"
    },
    {
     "data": {
      "text/html": [
       "<h3>Cluster 43.25</h3>"
      ],
      "text/plain": [
       "<IPython.core.display.HTML object>"
      ]
     },
     "metadata": {},
     "output_type": "display_data"
    },
    {
     "data": {
      "text/plain": [
       "18"
      ]
     },
     "metadata": {},
     "output_type": "display_data"
    },
    {
     "data": {
      "text/plain": [
       "Index(['100001_raw-Food_weight', '100002_raw-Energy', '100003_raw-Protein',\n",
       "       '100004_raw-Fat', '100005_raw-Carbohydrate', '100006_raw-Saturated_fat',\n",
       "       '100007_raw-Polyunsaturated_fat', '100008_raw-Total_sugars',\n",
       "       '100009_raw-Englyst_dietary_fibre', '100011_raw-Iron',\n",
       "       '100012_raw-Vitamin_B6', '100014_raw-Folate', '100015_raw-Vitamin_C',\n",
       "       '100016_raw-Potassium', '100017_raw-Magnesium', '100023_raw-Starch',\n",
       "       '100024_raw-Calcium', '100025_raw-Vitamin_E'],\n",
       "      dtype='object')"
      ]
     },
     "metadata": {},
     "output_type": "display_data"
    },
    {
     "data": {
      "text/html": [
       "<h3>Cluster 43.26</h3>"
      ],
      "text/plain": [
       "<IPython.core.display.HTML object>"
      ]
     },
     "metadata": {},
     "output_type": "display_data"
    },
    {
     "data": {
      "text/plain": [
       "7"
      ]
     },
     "metadata": {},
     "output_type": "display_data"
    },
    {
     "data": {
      "text/plain": [
       "Index(['5984_raw-ECG_load', '5986_raw-ECG_phase_time',\n",
       "       '5992-ECG_phase_duration', '5993-ECG_number_of_stages_in_a_phase',\n",
       "       '6032_raw-Maximum_workload_during_fitness_test',\n",
       "       '6038_raw-Number_of_trend_entries', '6039-Duration_of_fitness_test'],\n",
       "      dtype='object')"
      ]
     },
     "metadata": {},
     "output_type": "display_data"
    },
    {
     "data": {
      "text/html": [
       "<h3>Cluster 43.27</h3>"
      ],
      "text/plain": [
       "<IPython.core.display.HTML object>"
      ]
     },
     "metadata": {},
     "output_type": "display_data"
    },
    {
     "data": {
      "text/plain": [
       "15"
      ]
     },
     "metadata": {},
     "output_type": "display_data"
    },
    {
     "data": {
      "text/plain": [
       "Index(['20003_1140861958-Treatmentmedication_code_simvastatin',\n",
       "       '20003_1140879802-Treatmentmedication_code_amlodipine',\n",
       "       '20003_1141194794-Treatmentmedication_code_bendroflumethiazide',\n",
       "       '4079_raw-Diastolic_blood_pressure_automated_reading',\n",
       "       '4080_raw-Systolic_blood_pressure_automated_reading',\n",
       "       '6150_100-Vascularheart_problems_diagnosed_by_doctor_None_of_the_above',\n",
       "       '6150_4-Vascularheart_problems_diagnosed_by_doctor_High_blood_pressure',\n",
       "       '6153_1-Medication_for_cholesterol_blood_pressure_diabetes_or_take_exogenous_hormones_Cholesterol_lowering_medication',\n",
       "       '6153_100-Medication_for_cholesterol_blood_pressure_diabetes_or_take_exogenous_hormones_None_of_the_above',\n",
       "       '6153_2-Medication_for_cholesterol_blood_pressure_diabetes_or_take_exogenous_hormones_Blood_pressure_medication',\n",
       "       '6177_1-Medication_for_cholesterol_blood_pressure_or_diabetes_Cholesterol_lowering_medication',\n",
       "       '6177_100-Medication_for_cholesterol_blood_pressure_or_diabetes_None_of_the_above',\n",
       "       '6177_2-Medication_for_cholesterol_blood_pressure_or_diabetes_Blood_pressure_medication',\n",
       "       'hypercholesterolemia', 'hypertension'],\n",
       "      dtype='object')"
      ]
     },
     "metadata": {},
     "output_type": "display_data"
    },
    {
     "data": {
      "text/html": [
       "<h3>Cluster 43.28</h3>"
      ],
      "text/plain": [
       "<IPython.core.display.HTML object>"
      ]
     },
     "metadata": {},
     "output_type": "display_data"
    },
    {
     "data": {
      "text/plain": [
       "3"
      ]
     },
     "metadata": {},
     "output_type": "display_data"
    },
    {
     "data": {
      "text/plain": [
       "Index(['L12_ACTINKERA-Actinic_keratosis',\n",
       "       'L12_NONIONRADISKIN-Skin_changes_due_to_chronic_exposure_to_nonionizing_radiation',\n",
       "       'radiation-induced disorder'],\n",
       "      dtype='object')"
      ]
     },
     "metadata": {},
     "output_type": "display_data"
    },
    {
     "data": {
      "text/html": [
       "<h3>Cluster 43.29</h3>"
      ],
      "text/plain": [
       "<IPython.core.display.HTML object>"
      ]
     },
     "metadata": {},
     "output_type": "display_data"
    },
    {
     "data": {
      "text/plain": [
       "15"
      ]
     },
     "metadata": {},
     "output_type": "display_data"
    },
    {
     "data": {
      "text/plain": [
       "Index(['30010_raw-Red_blood_cell_erythrocyte_count',\n",
       "       '30020_raw-Haemoglobin_concentration',\n",
       "       '30030_raw-Haematocrit_percentage', '30040_raw-Mean_corpuscular_volume',\n",
       "       '30050_raw-Mean_corpuscular_haemoglobin',\n",
       "       '30070_raw-Red_blood_cell_erythrocyte_distribution_width',\n",
       "       '30240_raw-Reticulocyte_percentage', '30250_raw-Reticulocyte_count',\n",
       "       '30260_raw-Mean_reticulocyte_volume',\n",
       "       '30270_raw-Mean_sphered_cell_volume',\n",
       "       '30280_raw-Immature_reticulocyte_fraction',\n",
       "       '30290_raw-High_light_scatter_reticulocyte_percentage',\n",
       "       '30300_raw-High_light_scatter_reticulocyte_count', 'erythrocyte count',\n",
       "       'reticulocyte count'],\n",
       "      dtype='object')"
      ]
     },
     "metadata": {},
     "output_type": "display_data"
    },
    {
     "data": {
      "text/html": [
       "<h3>Cluster 43.30</h3>"
      ],
      "text/plain": [
       "<IPython.core.display.HTML object>"
      ]
     },
     "metadata": {},
     "output_type": "display_data"
    },
    {
     "data": {
      "text/plain": [
       "266"
      ]
     },
     "metadata": {},
     "output_type": "display_data"
    },
    {
     "data": {
      "text/plain": [
       "Index(['20111_101-Illnesses_of_siblings_None_of_the_above_group_2',\n",
       "       '20111_12-Illnesses_of_siblings_Severe_depression',\n",
       "       '20112_8-Illnesses_of_adopted_father_High_blood_pressure',\n",
       "       '20112_9-Illnesses_of_adopted_father_Diabetes',\n",
       "       '20113_10-Illnesses_of_adopted_mother_Alzheimers_diseasedementia',\n",
       "       '20113_101-Illnesses_of_adopted_mother_None_of_the_above_group_2',\n",
       "       '20113_2-Illnesses_of_adopted_mother_Stroke',\n",
       "       '20113_4-Illnesses_of_adopted_mother_Bowel_cancer',\n",
       "       '20113_5-Illnesses_of_adopted_mother_Breast_cancer',\n",
       "       '20113_8-Illnesses_of_adopted_mother_High_blood_pressure',\n",
       "       ...\n",
       "       '22601_31113086-Job_coding_laboratory_technician',\n",
       "       '22601_31122951-Job_coding_electricalelectronics_technician',\n",
       "       '22601_31153052-Job_coding_quality_assurance_technician_or_coordinator',\n",
       "       '22601_31193055-Job_coding_other_engineering_technician_including_materials_technician_technical_assistant_technical_officer',\n",
       "       '22601_32113077-Job_coding_health_visitor',\n",
       "       '22601_32323112-Job_coding_benefits_advisor_citizens_advice_bureau_adviser_debt_counsellor',\n",
       "       '22601_32323410-Job_coding_schoolstudent_counsellor_school_attendance_officer',\n",
       "       '22601_34333162-Job_coding_public_relations_officer_press_officer_information_officer',\n",
       "       '22601_35333266-Job_coding_insurance_underwriter_insurance_inspector_insurance_account_handler',\n",
       "       '22601_35623213-Job_coding_personnel_or_industrial_relations_officer_recruitment_consultant'],\n",
       "      dtype='object', length=266)"
      ]
     },
     "metadata": {},
     "output_type": "display_data"
    },
    {
     "data": {
      "text/html": [
       "<h3>Cluster 43.31</h3>"
      ],
      "text/plain": [
       "<IPython.core.display.HTML object>"
      ]
     },
     "metadata": {},
     "output_type": "display_data"
    },
    {
     "data": {
      "text/plain": [
       "1"
      ]
     },
     "metadata": {},
     "output_type": "display_data"
    },
    {
     "data": {
      "text/plain": [
       "Index(['30060_raw-Mean_corpuscular_haemoglobin_concentration'], dtype='object')"
      ]
     },
     "metadata": {},
     "output_type": "display_data"
    },
    {
     "data": {
      "text/html": [
       "<h3>Cluster 43.32</h3>"
      ],
      "text/plain": [
       "<IPython.core.display.HTML object>"
      ]
     },
     "metadata": {},
     "output_type": "display_data"
    },
    {
     "data": {
      "text/plain": [
       "8"
      ]
     },
     "metadata": {},
     "output_type": "display_data"
    },
    {
     "data": {
      "text/plain": [
       "Index(['24003_raw-Nitrogen_dioxide_air_pollution_2010',\n",
       "       '24004_raw-Nitrogen_oxides_air_pollution_2010',\n",
       "       '24006_raw-Particulate_matter_air_pollution_pm25_2010',\n",
       "       '24007_raw-Particulate_matter_air_pollution_pm25_absorbance_2010',\n",
       "       '24016_raw-Nitrogen_dioxide_air_pollution_2005',\n",
       "       '24017_raw-Nitrogen_dioxide_air_pollution_2006',\n",
       "       '24018_raw-Nitrogen_dioxide_air_pollution_2007',\n",
       "       '24019_raw-Particulate_matter_air_pollution_pm10_2007'],\n",
       "      dtype='object')"
      ]
     },
     "metadata": {},
     "output_type": "display_data"
    },
    {
     "data": {
      "text/html": [
       "<h3>Cluster 43.33</h3>"
      ],
      "text/plain": [
       "<IPython.core.display.HTML object>"
      ]
     },
     "metadata": {},
     "output_type": "display_data"
    },
    {
     "data": {
      "text/plain": [
       "8"
      ]
     },
     "metadata": {},
     "output_type": "display_data"
    },
    {
     "data": {
      "text/plain": [
       "Index(['5096_raw-3mm_weak_meridian_left', '5097_raw-6mm_weak_meridian_left',\n",
       "       '5098_raw-6mm_weak_meridian_right', '5099_raw-3mm_weak_meridian_right',\n",
       "       '5132_raw-3mm_strong_meridian_right',\n",
       "       '5133_raw-6mm_strong_meridian_right',\n",
       "       '5134_raw-6mm_strong_meridian_left',\n",
       "       '5135_raw-3mm_strong_meridian_left'],\n",
       "      dtype='object')"
      ]
     },
     "metadata": {},
     "output_type": "display_data"
    },
    {
     "data": {
      "text/html": [
       "<h3>Cluster 43.34</h3>"
      ],
      "text/plain": [
       "<IPython.core.display.HTML object>"
      ]
     },
     "metadata": {},
     "output_type": "display_data"
    },
    {
     "data": {
      "text/plain": [
       "1"
      ]
     },
     "metadata": {},
     "output_type": "display_data"
    },
    {
     "data": {
      "text/plain": [
       "Index(['mineral metabolism disease'], dtype='object')"
      ]
     },
     "metadata": {},
     "output_type": "display_data"
    },
    {
     "data": {
      "text/html": [
       "<h3>Cluster 43.35</h3>"
      ],
      "text/plain": [
       "<IPython.core.display.HTML object>"
      ]
     },
     "metadata": {},
     "output_type": "display_data"
    },
    {
     "data": {
      "text/plain": [
       "4"
      ]
     },
     "metadata": {},
     "output_type": "display_data"
    },
    {
     "data": {
      "text/plain": [
       "Index(['HEARTFAIL-Heart_failure', 'I9_HEARTFAIL-Heart_failurestrict',\n",
       "       'I9_HEARTFAIL_NS-Heart_failure_not_strict', 'heart failure'],\n",
       "      dtype='object')"
      ]
     },
     "metadata": {},
     "output_type": "display_data"
    },
    {
     "data": {
      "text/html": [
       "<h3>Cluster 43.36</h3>"
      ],
      "text/plain": [
       "<IPython.core.display.HTML object>"
      ]
     },
     "metadata": {},
     "output_type": "display_data"
    },
    {
     "data": {
      "text/plain": [
       "4"
      ]
     },
     "metadata": {},
     "output_type": "display_data"
    },
    {
     "data": {
      "text/plain": [
       "Index(['COPD_EXCL-COPD_differential_diagnosis',\n",
       "       'ILD_DIFF_DG-ILD_differential_diagnosis',\n",
       "       'PULMONARYDG-Other_pulmonary_diagnosis',\n",
       "       'X_RESPIRATORY-Diseases_of_the_respiratory_system'],\n",
       "      dtype='object')"
      ]
     },
     "metadata": {},
     "output_type": "display_data"
    },
    {
     "data": {
      "text/html": [
       "<h3>Cluster 43.37</h3>"
      ],
      "text/plain": [
       "<IPython.core.display.HTML object>"
      ]
     },
     "metadata": {},
     "output_type": "display_data"
    },
    {
     "data": {
      "text/plain": [
       "5"
      ]
     },
     "metadata": {},
     "output_type": "display_data"
    },
    {
     "data": {
      "text/plain": [
       "Index(['C_STROKE-STROKE', 'I9_STR-Stroke_excluding_SAH',\n",
       "       'I9_STR_EXH-Ischaemic_Stroke_excluding_all_haemorrhages',\n",
       "       'I9_STR_SAH-Stroke_including_SAH', 'brain infarction'],\n",
       "      dtype='object')"
      ]
     },
     "metadata": {},
     "output_type": "display_data"
    },
    {
     "data": {
      "text/html": [
       "<h3>Cluster 43.38</h3>"
      ],
      "text/plain": [
       "<IPython.core.display.HTML object>"
      ]
     },
     "metadata": {},
     "output_type": "display_data"
    },
    {
     "data": {
      "text/plain": [
       "1"
      ]
     },
     "metadata": {},
     "output_type": "display_data"
    },
    {
     "data": {
      "text/plain": [
       "Index(['1737-Childhood_sunburn_occasions'], dtype='object')"
      ]
     },
     "metadata": {},
     "output_type": "display_data"
    },
    {
     "data": {
      "text/html": [
       "<h3>Cluster 43.39</h3>"
      ],
      "text/plain": [
       "<IPython.core.display.HTML object>"
      ]
     },
     "metadata": {},
     "output_type": "display_data"
    },
    {
     "data": {
      "text/plain": [
       "12"
      ]
     },
     "metadata": {},
     "output_type": "display_data"
    },
    {
     "data": {
      "text/plain": [
       "Index(['3144_raw-Heel_Broadband_ultrasound_attenuation_direct_entry',\n",
       "       '3147_raw-Heel_quantitative_ultrasound_index_QUI_direct_entry',\n",
       "       '3148_raw-Heel_bone_mineral_density_BMD',\n",
       "       '4101_raw-Heel_broadband_ultrasound_attenuation_left',\n",
       "       '4104_raw-Heel_quantitative_ultrasound_index_QUI_direct_entry_left',\n",
       "       '4105_raw-Heel_bone_mineral_density_BMD_left',\n",
       "       '4106_raw-Heel_bone_mineral_density_BMD_Tscore_automated_left',\n",
       "       '4120_raw-Heel_broadband_ultrasound_attenuation_right',\n",
       "       '4123_raw-Heel_quantitative_ultrasound_index_QUI_direct_entry_right',\n",
       "       '4124_raw-Heel_bone_mineral_density_BMD_right',\n",
       "       '4125_raw-Heel_bone_mineral_density_BMD_Tscore_automated_right',\n",
       "       '78_raw-Heel_bone_mineral_density_BMD_Tscore_automated'],\n",
       "      dtype='object')"
      ]
     },
     "metadata": {},
     "output_type": "display_data"
    },
    {
     "data": {
      "text/html": [
       "<h3>Cluster 43.40</h3>"
      ],
      "text/plain": [
       "<IPython.core.display.HTML object>"
      ]
     },
     "metadata": {},
     "output_type": "display_data"
    },
    {
     "data": {
      "text/plain": [
       "17"
      ]
     },
     "metadata": {},
     "output_type": "display_data"
    },
    {
     "data": {
      "text/plain": [
       "Index(['20003_1140883066-Treatmentmedication_code_insulin_product',\n",
       "       '20003_1141191044-Treatmentmedication_code_levothyroxine_sodium',\n",
       "       '2976_raw-Age_diabetes_diagnosed',\n",
       "       '2986-Started_insulin_within_one_year_diagnosis_of_diabetes',\n",
       "       '6144_3-Never_eat_eggs_dairy_wheat_sugar_Wheat_products',\n",
       "       '6153_3-Medication_for_cholesterol_blood_pressure_diabetes_or_take_exogenous_hormones_Insulin',\n",
       "       '6177_3-Medication_for_cholesterol_blood_pressure_or_diabetes_Insulin',\n",
       "       'K11_COELIAC-Coeliac_disease', 'celiac disease',\n",
       "       'hyperthyroidism AND thyrotoxicosis', 'hypothyroidism AND myxedema',\n",
       "       'malabsorption syndrome', 'psoriasis', 'rheumatoid arthritis',\n",
       "       'sarcoidosis', 'systemic lupus erythematosus',\n",
       "       'type i diabetes mellitus'],\n",
       "      dtype='object')"
      ]
     },
     "metadata": {},
     "output_type": "display_data"
    },
    {
     "data": {
      "text/html": [
       "<h3>Cluster 43.41</h3>"
      ],
      "text/plain": [
       "<IPython.core.display.HTML object>"
      ]
     },
     "metadata": {},
     "output_type": "display_data"
    },
    {
     "data": {
      "text/plain": [
       "3"
      ]
     },
     "metadata": {},
     "output_type": "display_data"
    },
    {
     "data": {
      "text/plain": [
       "Index(['M13_DUPUTRYEN-Palmar_fascial_fibromatosis_Dupuytren',\n",
       "       'M13_FIBROBLASTIC-Fibroblastic_disorders', 'fibroblastic disorder'],\n",
       "      dtype='object')"
      ]
     },
     "metadata": {},
     "output_type": "display_data"
    },
    {
     "data": {
      "text/html": [
       "<h3>Cluster 43.42</h3>"
      ],
      "text/plain": [
       "<IPython.core.display.HTML object>"
      ]
     },
     "metadata": {},
     "output_type": "display_data"
    },
    {
     "data": {
      "text/plain": [
       "6"
      ]
     },
     "metadata": {},
     "output_type": "display_data"
    },
    {
     "data": {
      "text/plain": [
       "Index(['20003_1140861998-Treatmentmedication_code_ventolin_100micrograms_inhaler',\n",
       "       '30120_raw-Lymphocyte_count',\n",
       "       '6152_100-Blood_clot_DVT_bronchitis_emphysema_asthma_rhinitis_eczema_allergy_diagnosed_by_doctor_None_of_the_above',\n",
       "       '6152_8-Blood_clot_DVT_bronchitis_emphysema_asthma_rhinitis_eczema_allergy_diagnosed_by_doctor_Asthma',\n",
       "       '6152_9-Blood_clot_DVT_bronchitis_emphysema_asthma_rhinitis_eczema_allergy_diagnosed_by_doctor_Hayfever_allergic_rhinitis_or_eczema',\n",
       "       'asthma'],\n",
       "      dtype='object')"
      ]
     },
     "metadata": {},
     "output_type": "display_data"
    },
    {
     "data": {
      "text/html": [
       "<h2>Partition with k=44</h2>"
      ],
      "text/plain": [
       "<IPython.core.display.HTML object>"
      ]
     },
     "metadata": {},
     "output_type": "display_data"
    },
    {
     "data": {
      "text/plain": [
       "method                              eac_average_coassoc_matrix\n",
       "partition    [25, 25, 25, 25, 25, 25, 25, 25, 25, 5, 25, 25...\n",
       "ami_mean                                              0.285375\n",
       "selected                                                  True\n",
       "Name: 44, dtype: object"
      ]
     },
     "metadata": {},
     "output_type": "display_data"
    },
    {
     "data": {
      "text/plain": [
       "(3752,)"
      ]
     },
     "metadata": {},
     "output_type": "display_data"
    },
    {
     "data": {
      "text/plain": [
       "9     766\n",
       "5     704\n",
       "4     453\n",
       "11    394\n",
       "20    321\n",
       "14    266\n",
       "6     241\n",
       "7     218\n",
       "13     49\n",
       "19     43\n",
       "15     21\n",
       "3      19\n",
       "1      18\n",
       "25     18\n",
       "12     17\n",
       "40     17\n",
       "27     15\n",
       "29     15\n",
       "10     15\n",
       "30     14\n",
       "39     12\n",
       "24     11\n",
       "0      10\n",
       "33      8\n",
       "22      8\n",
       "32      8\n",
       "16      7\n",
       "26      7\n",
       "2       7\n",
       "18      6\n",
       "42      6\n",
       "17      5\n",
       "23      5\n",
       "37      5\n",
       "36      4\n",
       "35      4\n",
       "28      3\n",
       "41      3\n",
       "8       3\n",
       "21      2\n",
       "34      1\n",
       "38      1\n",
       "31      1\n",
       "43      1\n",
       "dtype: int64"
      ]
     },
     "metadata": {},
     "output_type": "display_data"
    },
    {
     "data": {
      "text/html": [
       "<h3>Cluster 44.0</h3>"
      ],
      "text/plain": [
       "<IPython.core.display.HTML object>"
      ]
     },
     "metadata": {},
     "output_type": "display_data"
    },
    {
     "data": {
      "text/plain": [
       "10"
      ]
     },
     "metadata": {},
     "output_type": "display_data"
    },
    {
     "data": {
      "text/plain": [
       "Index(['ASTHMA_MEDICATIO_COMORB-Medication_related_adverse_effects',\n",
       "       'C3_MALE_GENITAL-malignant_neoplasm_of_male_genital_organs',\n",
       "       'C_MALE_GENITAL', 'C_PROSTATE-Malignant_neoplasm_of_prostate',\n",
       "       'H7_LENS-Disorders_of_lens',\n",
       "       'PULM_MEDICATIO_COMORB-Medication_related_adverse_effects_AsthmaCOPD',\n",
       "       'VII_EYE_ADNEXA-Diseases_of_the_eye_and_adnexa', 'age-related cataract',\n",
       "       'cataract', 'prostate carcinoma'],\n",
       "      dtype='object')"
      ]
     },
     "metadata": {},
     "output_type": "display_data"
    },
    {
     "data": {
      "text/html": [
       "<h3>Cluster 44.1</h3>"
      ],
      "text/plain": [
       "<IPython.core.display.HTML object>"
      ]
     },
     "metadata": {},
     "output_type": "display_data"
    },
    {
     "data": {
      "text/plain": [
       "18"
      ]
     },
     "metadata": {},
     "output_type": "display_data"
    },
    {
     "data": {
      "text/plain": [
       "Index(['30000_raw-White_blood_cell_leukocyte_count',\n",
       "       '30130_raw-Monocyte_count', '30140_raw-Neutrophill_count',\n",
       "       '30150-Eosinophill_count', '30180_raw-Lymphocyte_percentage',\n",
       "       '30190_raw-Monocyte_percentage', '30200_raw-Neutrophill_percentage',\n",
       "       '30210_raw-Eosinophill_percentage', 'eosinophil count',\n",
       "       'granulocyte count', 'leukocyte count', 'lymphocyte count',\n",
       "       'monocyte count', 'myeloid white cell count', 'neutrophil count',\n",
       "       'sum of basophil and neutrophil counts',\n",
       "       'sum of eosinophil and basophil counts',\n",
       "       'sum of neutrophil and eosinophil counts'],\n",
       "      dtype='object')"
      ]
     },
     "metadata": {},
     "output_type": "display_data"
    },
    {
     "data": {
      "text/html": [
       "<h3>Cluster 44.2</h3>"
      ],
      "text/plain": [
       "<IPython.core.display.HTML object>"
      ]
     },
     "metadata": {},
     "output_type": "display_data"
    },
    {
     "data": {
      "text/plain": [
       "7"
      ]
     },
     "metadata": {},
     "output_type": "display_data"
    },
    {
     "data": {
      "text/plain": [
       "Index(['20003_1140860696-Treatmentmedication_code_lisinopril',\n",
       "       '20003_1140860806-Treatmentmedication_code_ramipril',\n",
       "       '20003_1140866738-Treatmentmedication_code_atenolol',\n",
       "       '20003_1140875408-Treatmentmedication_code_allopurinol',\n",
       "       '20003_1140884600-Treatmentmedication_code_metformin',\n",
       "       'diabetes mellitus', 'gout'],\n",
       "      dtype='object')"
      ]
     },
     "metadata": {},
     "output_type": "display_data"
    },
    {
     "data": {
      "text/html": [
       "<h3>Cluster 44.3</h3>"
      ],
      "text/plain": [
       "<IPython.core.display.HTML object>"
      ]
     },
     "metadata": {},
     "output_type": "display_data"
    },
    {
     "data": {
      "text/plain": [
       "19"
      ]
     },
     "metadata": {},
     "output_type": "display_data"
    },
    {
     "data": {
      "text/plain": [
       "Index(['EAGLE_Eczema', 'Jones_et_al_2016_Chronotype', 'MAGNETIC_CH2.DB.ratio',\n",
       "       'MAGNETIC_HDL.C', 'MAGNETIC_IDL.TG', 'MAGNETIC_LDL.C',\n",
       "       'SSGAC_Education_Years_Pooled', 'alzheimer's disease',\n",
       "       'attention deficit hyperactivity disorder', 'bone density',\n",
       "       'coronary artery disease', 'estrogen-receptor negative breast cancer',\n",
       "       'estrogen-receptor positive breast cancer',\n",
       "       'family history of breast cancer', 'fasting blood glucose measurement',\n",
       "       'fasting blood insulin measurement', 'inflammatory bowel disease',\n",
       "       'intracranial volume measurement', 'schizophrenia'],\n",
       "      dtype='object')"
      ]
     },
     "metadata": {},
     "output_type": "display_data"
    },
    {
     "data": {
      "text/html": [
       "<h3>Cluster 44.4</h3>"
      ],
      "text/plain": [
       "<IPython.core.display.HTML object>"
      ]
     },
     "metadata": {},
     "output_type": "display_data"
    },
    {
     "data": {
      "text/plain": [
       "453"
      ]
     },
     "metadata": {},
     "output_type": "display_data"
    },
    {
     "data": {
      "text/plain": [
       "Index(['20003_1140879616-Treatmentmedication_code_amitriptyline',\n",
       "       '20003_1140879630-Treatmentmedication_code_imipramine',\n",
       "       '20003_1140879634-Treatmentmedication_code_trazodone',\n",
       "       '20003_1140879762-Treatmentmedication_code_celiprolol',\n",
       "       '20003_1140879778-Treatmentmedication_code_doxazosin',\n",
       "       '20003_1140879792-Treatmentmedication_code_terbutaline',\n",
       "       '20003_1140879798-Treatmentmedication_code_terazosin',\n",
       "       '20003_1140879818-Treatmentmedication_code_metoprolol',\n",
       "       '20003_1140880086-Treatmentmedication_code_calcipotriol',\n",
       "       '20003_1140881446-Treatmentmedication_code_proctosedyl_ointment',\n",
       "       ...\n",
       "       '20112_13-Illnesses_of_adopted_father_Prostate_cancer',\n",
       "       '20112_2-Illnesses_of_adopted_father_Stroke',\n",
       "       '20112_3-Illnesses_of_adopted_father_Lung_cancer',\n",
       "       '20112_4-Illnesses_of_adopted_father_Bowel_cancer',\n",
       "       '20112_6-Illnesses_of_adopted_father_Chronic_bronchitisemphysema',\n",
       "       '20113_1-Illnesses_of_adopted_mother_Heart_disease',\n",
       "       '20113_100-Illnesses_of_adopted_mother_None_of_the_above_group_1',\n",
       "       '20113_12-Illnesses_of_adopted_mother_Severe_depression',\n",
       "       '20113_3-Illnesses_of_adopted_mother_Lung_cancer',\n",
       "       '20113_6-Illnesses_of_adopted_mother_Chronic_bronchitisemphysema'],\n",
       "      dtype='object', length=453)"
      ]
     },
     "metadata": {},
     "output_type": "display_data"
    },
    {
     "data": {
      "text/html": [
       "<h3>Cluster 44.5</h3>"
      ],
      "text/plain": [
       "<IPython.core.display.HTML object>"
      ]
     },
     "metadata": {},
     "output_type": "display_data"
    },
    {
     "data": {
      "text/plain": [
       "704"
      ]
     },
     "metadata": {},
     "output_type": "display_data"
    },
    {
     "data": {
      "text/plain": [
       "Index(['100010-Portion_size', '100013_raw-Vitamin_B12', '100018_raw-Retinol',\n",
       "       '100019_raw-Carotene', '100021_raw-Vitamin_D', '100022-Alcohol',\n",
       "       '1001-Duration_of_strenuous_sports', '100150-Drinking_water_intake',\n",
       "       '100160-Low_calorie_drink_intake', '100170-Fizzy_drink_intake',\n",
       "       ...\n",
       "       'viral disease', 'viral human hepatitis infection', 'viral meningitis',\n",
       "       'visual impairment', 'vitiligo', 'vitreous body disease',\n",
       "       'vocal cord polyp', 'voice disorders',\n",
       "       'wellbeing measurement AND family relationship', 'whooping cough'],\n",
       "      dtype='object', length=704)"
      ]
     },
     "metadata": {},
     "output_type": "display_data"
    },
    {
     "data": {
      "text/html": [
       "<h3>Cluster 44.6</h3>"
      ],
      "text/plain": [
       "<IPython.core.display.HTML object>"
      ]
     },
     "metadata": {},
     "output_type": "display_data"
    },
    {
     "data": {
      "text/plain": [
       "241"
      ]
     },
     "metadata": {},
     "output_type": "display_data"
    },
    {
     "data": {
      "text/plain": [
       "Index(['1021-Duration_of_light_DIY', '102_raw-Pulse_rate_automated_reading',\n",
       "       '1050-Time_spend_outdoors_in_summer',\n",
       "       '1060-Time_spent_outdoors_in_winter',\n",
       "       '1070-Time_spent_watching_television_TV',\n",
       "       '1080-Time_spent_using_computer', '1090-Time_spent_driving',\n",
       "       '1100-Drive_faster_than_motorway_speed_limit',\n",
       "       '110001-Invitation_to_complete_online_24hour_recall_dietary_questionnaire_acceptance',\n",
       "       '1110-Length_of_mobile_phone_use',\n",
       "       ...\n",
       "       'self rated health', 'self reported educational attainment',\n",
       "       'sleep duration', 'smoking behavior', 'smoking cessation',\n",
       "       'snoring measurement', 'tiredness measurement', 'varicose veins',\n",
       "       'wheezing', 'worry measurement'],\n",
       "      dtype='object', length=241)"
      ]
     },
     "metadata": {},
     "output_type": "display_data"
    },
    {
     "data": {
      "text/html": [
       "<h3>Cluster 44.7</h3>"
      ],
      "text/plain": [
       "<IPython.core.display.HTML object>"
      ]
     },
     "metadata": {},
     "output_type": "display_data"
    },
    {
     "data": {
      "text/plain": [
       "218"
      ]
     },
     "metadata": {},
     "output_type": "display_data"
    },
    {
     "data": {
      "text/plain": [
       "Index(['40001_C259-Underlying_primary_cause_of_death_ICD10_C259_Pancreas_unspecified',\n",
       "       '40001_C459-Underlying_primary_cause_of_death_ICD10_C459_Mesothelioma_unspecified',\n",
       "       '41248_3001-Destinations_on_discharge_from_hospital_recoded_High_security_psychiatric_hospital_NHS',\n",
       "       '41248_5003-Destinations_on_discharge_from_hospital_recoded_Transfer_to_other_NHS_provider_Psychiatry_learning_disabilities',\n",
       "       '41248_6000-Destinations_on_discharge_from_hospital_recoded_Transfer_within_NHS_provider',\n",
       "       '4233_raw-Mean_signaltonoise_ratio_SNR_left',\n",
       "       '4244_raw-Mean_signaltonoise_ratio_SNR_right',\n",
       "       '4269-Number_of_triplets_attempted_left',\n",
       "       '4270-Volume_level_set_by_participant_left',\n",
       "       '4276-Number_of_triplets_attempted_right',\n",
       "       ...\n",
       "       '6158_1-Why_reduced_smoking_Illness_or_ill_health',\n",
       "       '6158_100-Why_reduced_smoking_None_of_the_above',\n",
       "       '6158_2-Why_reduced_smoking_Doctors_advice',\n",
       "       '6158_3-Why_reduced_smoking_Health_precaution',\n",
       "       '6158_4-Why_reduced_smoking_Financial_reasons',\n",
       "       '6159_2-Pain_types_experienced_in_last_month_Facial_pain',\n",
       "       '6159_8-Pain_types_experienced_in_last_month_Pain_all_over_the_body',\n",
       "       '6162_100-Types_of_transport_used_excluding_work_None_of_the_above',\n",
       "       '709-Number_in_household', 'C_PANCREAS-Malignant_neoplasm_of_pancreas'],\n",
       "      dtype='object', length=218)"
      ]
     },
     "metadata": {},
     "output_type": "display_data"
    },
    {
     "data": {
      "text/html": [
       "<h3>Cluster 44.8</h3>"
      ],
      "text/plain": [
       "<IPython.core.display.HTML object>"
      ]
     },
     "metadata": {},
     "output_type": "display_data"
    },
    {
     "data": {
      "text/plain": [
       "3"
      ]
     },
     "metadata": {},
     "output_type": "display_data"
    },
    {
     "data": {
      "text/plain": [
       "Index(['eczema', 'seasonal allergic rhinitis',\n",
       "       'seasonal allergic rhinitis AND allergic rhinitis'],\n",
       "      dtype='object')"
      ]
     },
     "metadata": {},
     "output_type": "display_data"
    },
    {
     "data": {
      "text/html": [
       "<h3>Cluster 44.9</h3>"
      ],
      "text/plain": [
       "<IPython.core.display.HTML object>"
      ]
     },
     "metadata": {},
     "output_type": "display_data"
    },
    {
     "data": {
      "text/plain": [
       "766"
      ]
     },
     "metadata": {},
     "output_type": "display_data"
    },
    {
     "data": {
      "text/plain": [
       "Index(['22601_11113200-Job_coding_senior_official_in_central_government_including_members_of_the_senior_civil_service_and_the_equivalent_in_the_diplomatic_service_mps_meps',\n",
       "       '22601_11123211-Job_coding_director_or_chief_executive_of_private_organisationcompany_company_chairman_or_president_general_manager',\n",
       "       '22601_11133201-Job_coding_senior_official_in_local_government_including_parish_or_town_or_county_chief_clerk_chief_or_superintendent_rate_collector_chief_executive_or_director_councillor',\n",
       "       '22601_11143212-Job_coding_senior_official_of_special_interest_organisation_including_general_manager_or_director_or_executive_or_general_secretary_of_charity_or_trade_unionassociation_or_religious_organisation',\n",
       "       '22601_11212692-Job_coding_production_works_or_maintenance_manager',\n",
       "       '22601_11222591-Job_coding_manager_in_construction_clerk_of_works_site_manager_contracts_manager_highways_manager',\n",
       "       '22601_11232861-Job_coding_manager_in_mining_energy_production_or_water_supply',\n",
       "       '22601_11313221-Job_coding_financial_services_manager_chartered_secretary_banker_merchant_or_investment_banker_finance_director_tax_manager',\n",
       "       '22601_11323222-Job_coding_sales_or_marketing_managerdirector_exportimport_manager_business_development_manager_advertisingcommercial_manager',\n",
       "       '22601_11333223-Job_coding_purchasing_managerdirector_not_retail_supplies_manager',\n",
       "       ...\n",
       "       '41248_6005-Destinations_on_discharge_from_hospital_recoded_Transfer_within_NHS_provider_Medical_specialty',\n",
       "       '41248_6007-Destinations_on_discharge_from_hospital_recoded_Transfer_within_NHS_provider_Geriatrics',\n",
       "       '41248_7001-Destinations_on_discharge_from_hospital_recoded_Nursing_residential_care_group_home_NHS',\n",
       "       '41248_7002-Destinations_on_discharge_from_hospital_recoded_Nursing_residential_care_group_home_Local_Authoritory',\n",
       "       '41248_7003-Destinations_on_discharge_from_hospital_recoded_Nursing_residential_care_group_home_NonNHS',\n",
       "       '41248_8002-Destinations_on_discharge_from_hospital_recoded_Other_hospital_NonNHS',\n",
       "       '4195_raw-Pulse_wave_reflection_index',\n",
       "       '4230_raw-Signaltonoiseratio_SNR_of_triplet_left',\n",
       "       '4241_raw-Signaltonoiseratio_SNR_of_triplet_right',\n",
       "       '4462-Average_monthly_intake_of_other_alcoholic_drinks'],\n",
       "      dtype='object', length=766)"
      ]
     },
     "metadata": {},
     "output_type": "display_data"
    },
    {
     "data": {
      "text/html": [
       "<h3>Cluster 44.10</h3>"
      ],
      "text/plain": [
       "<IPython.core.display.HTML object>"
      ]
     },
     "metadata": {},
     "output_type": "display_data"
    },
    {
     "data": {
      "text/plain": [
       "15"
      ]
     },
     "metadata": {},
     "output_type": "display_data"
    },
    {
     "data": {
      "text/plain": [
       "Index(['20003_1140868226-Treatmentmedication_code_aspirin',\n",
       "       '20003_1141146234-Treatmentmedication_code_atorvastatin',\n",
       "       '6150_1-Vascularheart_problems_diagnosed_by_doctor_Heart_attack',\n",
       "       '6150_2-Vascularheart_problems_diagnosed_by_doctor_Angina',\n",
       "       '6154_1-Medication_for_pain_relief_constipation_heartburn_Aspirin',\n",
       "       'I9_CHD-Major_coronary_heart_disease_event',\n",
       "       'I9_CHD_NOREV-Major_coronary_heart_disease_event_excluding_revascularizations',\n",
       "       'I9_CORATHER-Coronary_atherosclerosis',\n",
       "       'I9_IHD-Ischaemic_heart_disease_wide_definition',\n",
       "       'I9_MI-Myocardial_infarction',\n",
       "       'I9_MI_STRICT-Myocardial_infarction_strict',\n",
       "       'IX_CIRCULATORY-Diseases_of_the_circulatory_system',\n",
       "       'acute myocardial infarction', 'angina pectoris',\n",
       "       'myocardial infarction'],\n",
       "      dtype='object')"
      ]
     },
     "metadata": {},
     "output_type": "display_data"
    },
    {
     "data": {
      "text/html": [
       "<h3>Cluster 44.11</h3>"
      ],
      "text/plain": [
       "<IPython.core.display.HTML object>"
      ]
     },
     "metadata": {},
     "output_type": "display_data"
    },
    {
     "data": {
      "text/plain": [
       "394"
      ]
     },
     "metadata": {},
     "output_type": "display_data"
    },
    {
     "data": {
      "text/plain": [
       "Index(['40001_G122-Underlying_primary_cause_of_death_ICD10_G122_Motor_neuron_disease',\n",
       "       '6152_6-Blood_clot_DVT_bronchitis_emphysema_asthma_rhinitis_eczema_allergy_diagnosed_by_doctor_Emphysemachronic_bronchitis',\n",
       "       '6157_100-Why_stopped_smoking_None_of_the_above',\n",
       "       '6157_3-Why_stopped_smoking_Health_precaution',\n",
       "       '6157_4-Why_stopped_smoking_Financial_reasons',\n",
       "       '6160_5-Leisuresocial_activities_Other_group_activity',\n",
       "       '6162_3-Types_of_transport_used_excluding_work_Public_transport',\n",
       "       '6179_4-Mineral_and_other_dietary_supplements_Zinc',\n",
       "       '6179_5-Mineral_and_other_dietary_supplements_Iron',\n",
       "       '6179_6-Mineral_and_other_dietary_supplements_Selenium',\n",
       "       ...\n",
       "       'immune system disease', 'inner ear disease', 'keratitis',\n",
       "       'lacrimal apparatus disease', 'obesity', 'paralytic strabismus',\n",
       "       'polyneuropathy', 'purpura', 'retinal detachment',\n",
       "       'retinal vein occlusion'],\n",
       "      dtype='object', length=394)"
      ]
     },
     "metadata": {},
     "output_type": "display_data"
    },
    {
     "data": {
      "text/html": [
       "<h3>Cluster 44.12</h3>"
      ],
      "text/plain": [
       "<IPython.core.display.HTML object>"
      ]
     },
     "metadata": {},
     "output_type": "display_data"
    },
    {
     "data": {
      "text/plain": [
       "17"
      ]
     },
     "metadata": {},
     "output_type": "display_data"
    },
    {
     "data": {
      "text/plain": [
       "Index(['6152_5-Blood_clot_DVT_bronchitis_emphysema_asthma_rhinitis_eczema_allergy_diagnosed_by_doctor_Blood_clot_in_the_leg_DVT',\n",
       "       'G6_CARPTU-Carpal_tunnel_syndrome',\n",
       "       'G6_NERPLEX-Nerve_nerve_root_and_plexus_disorders',\n",
       "       'I9_DVTANDPULM-DVT_of_lower_extremities_and_pulmonary_embolism',\n",
       "       'I9_PHLETHROMBDVTLOW-DVT_of_lower_extremities',\n",
       "       'I9_VTE-Venous_thromboembolism',\n",
       "       'K11_GALLBILPANC-Disorders_of_gallbladder_biliary_tract_and_pancreas',\n",
       "       'OTHER_ILD_CVD_COMORB-Other_ILDrelated_CVDcomorbidities',\n",
       "       'ULCERNAS-Ulcerative_colitis_NAS',\n",
       "       'VI_NERVOUS-Diseases_of_the_nervous_system',\n",
       "       'XII_SKIN_SUBCUTAN-Diseases_of_the_skin_and_subcutaneous_tissue',\n",
       "       'birth weight', 'cholelithiasis', 'deep vein thrombosis',\n",
       "       'mononeuropathy', 'phlebitis AND thrombophlebitis',\n",
       "       'pulmonary embolism'],\n",
       "      dtype='object')"
      ]
     },
     "metadata": {},
     "output_type": "display_data"
    },
    {
     "data": {
      "text/html": [
       "<h3>Cluster 44.13</h3>"
      ],
      "text/plain": [
       "<IPython.core.display.HTML object>"
      ]
     },
     "metadata": {},
     "output_type": "display_data"
    },
    {
     "data": {
      "text/plain": [
       "49"
      ]
     },
     "metadata": {},
     "output_type": "display_data"
    },
    {
     "data": {
      "text/plain": [
       "Index(['20015_raw-Sitting_height',\n",
       "       '20150_raw-Forced_expiratory_volume_in_1second_FEV1_Best_measure',\n",
       "       '20151_raw-Forced_vital_capacity_FVC_Best_measure',\n",
       "       '20153_raw-Forced_expiratory_volume_in_1second_FEV1_predicted',\n",
       "       '20154_raw-Forced_expiratory_volume_in_1second_FEV1_predicted_percentage',\n",
       "       '21001_raw-Body_mass_index_BMI', '21002_raw-Weight', '23098_raw-Weight',\n",
       "       '23099_raw-Body_fat_percentage', '23100_raw-Whole_body_fat_mass',\n",
       "       '23101_raw-Whole_body_fatfree_mass', '23102_raw-Whole_body_water_mass',\n",
       "       '23104_raw-Body_mass_index_BMI', '23105_raw-Basal_metabolic_rate',\n",
       "       '23106_raw-Impedance_of_whole_body', '23107_raw-Impedance_of_leg_right',\n",
       "       '23108_raw-Impedance_of_leg_left', '23109_raw-Impedance_of_arm_right',\n",
       "       '23110_raw-Impedance_of_arm_left', '23111_raw-Leg_fat_percentage_right',\n",
       "       '23112_raw-Leg_fat_mass_right', '23113_raw-Leg_fatfree_mass_right',\n",
       "       '23114_raw-Leg_predicted_mass_right',\n",
       "       '23115_raw-Leg_fat_percentage_left', '23116_raw-Leg_fat_mass_left',\n",
       "       '23117_raw-Leg_fatfree_mass_left', '23118_raw-Leg_predicted_mass_left',\n",
       "       '23119_raw-Arm_fat_percentage_right', '23120_raw-Arm_fat_mass_right',\n",
       "       '23121_raw-Arm_fatfree_mass_right',\n",
       "       '23122_raw-Arm_predicted_mass_right',\n",
       "       '23123_raw-Arm_fat_percentage_left', '23124_raw-Arm_fat_mass_left',\n",
       "       '23125_raw-Arm_fatfree_mass_left', '23126_raw-Arm_predicted_mass_left',\n",
       "       '23127_raw-Trunk_fat_percentage', '23128_raw-Trunk_fat_mass',\n",
       "       '23129_raw-Trunk_fatfree_mass', '23130_raw-Trunk_predicted_mass',\n",
       "       '3062_raw-Forced_vital_capacity_FVC',\n",
       "       '3063_raw-Forced_expiratory_volume_in_1second_FEV1',\n",
       "       '3064_raw-Peak_expiratory_flow_PEF', '3143_raw-Ankle_spacing_width',\n",
       "       '4100_raw-Ankle_spacing_width_left',\n",
       "       '4119_raw-Ankle_spacing_width_right', '48_raw-Waist_circumference',\n",
       "       '49_raw-Hip_circumference', '50_raw-Standing_height', 'body height'],\n",
       "      dtype='object')"
      ]
     },
     "metadata": {},
     "output_type": "display_data"
    },
    {
     "data": {
      "text/html": [
       "<h3>Cluster 44.14</h3>"
      ],
      "text/plain": [
       "<IPython.core.display.HTML object>"
      ]
     },
     "metadata": {},
     "output_type": "display_data"
    },
    {
     "data": {
      "text/plain": [
       "266"
      ]
     },
     "metadata": {},
     "output_type": "display_data"
    },
    {
     "data": {
      "text/plain": [
       "Index(['20111_101-Illnesses_of_siblings_None_of_the_above_group_2',\n",
       "       '20111_12-Illnesses_of_siblings_Severe_depression',\n",
       "       '20112_8-Illnesses_of_adopted_father_High_blood_pressure',\n",
       "       '20112_9-Illnesses_of_adopted_father_Diabetes',\n",
       "       '20113_10-Illnesses_of_adopted_mother_Alzheimers_diseasedementia',\n",
       "       '20113_101-Illnesses_of_adopted_mother_None_of_the_above_group_2',\n",
       "       '20113_2-Illnesses_of_adopted_mother_Stroke',\n",
       "       '20113_4-Illnesses_of_adopted_mother_Bowel_cancer',\n",
       "       '20113_5-Illnesses_of_adopted_mother_Breast_cancer',\n",
       "       '20113_8-Illnesses_of_adopted_mother_High_blood_pressure',\n",
       "       ...\n",
       "       '22601_31113086-Job_coding_laboratory_technician',\n",
       "       '22601_31122951-Job_coding_electricalelectronics_technician',\n",
       "       '22601_31153052-Job_coding_quality_assurance_technician_or_coordinator',\n",
       "       '22601_31193055-Job_coding_other_engineering_technician_including_materials_technician_technical_assistant_technical_officer',\n",
       "       '22601_32113077-Job_coding_health_visitor',\n",
       "       '22601_32323112-Job_coding_benefits_advisor_citizens_advice_bureau_adviser_debt_counsellor',\n",
       "       '22601_32323410-Job_coding_schoolstudent_counsellor_school_attendance_officer',\n",
       "       '22601_34333162-Job_coding_public_relations_officer_press_officer_information_officer',\n",
       "       '22601_35333266-Job_coding_insurance_underwriter_insurance_inspector_insurance_account_handler',\n",
       "       '22601_35623213-Job_coding_personnel_or_industrial_relations_officer_recruitment_consultant'],\n",
       "      dtype='object', length=266)"
      ]
     },
     "metadata": {},
     "output_type": "display_data"
    },
    {
     "data": {
      "text/html": [
       "<h3>Cluster 44.15</h3>"
      ],
      "text/plain": [
       "<IPython.core.display.HTML object>"
      ]
     },
     "metadata": {},
     "output_type": "display_data"
    },
    {
     "data": {
      "text/plain": [
       "21"
      ]
     },
     "metadata": {},
     "output_type": "display_data"
    },
    {
     "data": {
      "text/plain": [
       "Index(['20003_2038460150-Treatmentmedication_code_paracetamol',\n",
       "       '20016_raw-Fluid_intelligence_score', '20022_raw-Birth_weight',\n",
       "       '20023_raw-Mean_time_to_correctly_identify_matches',\n",
       "       '20074_raw-Home_location_at_assessment_east_coordinate_rounded',\n",
       "       '20077-Number_of_diet_questionnaires_completed',\n",
       "       '20086_8-Type_of_special_diet_followed_Glutenfree',\n",
       "       '20107_1-Illnesses_of_father_Heart_disease',\n",
       "       '20107_100-Illnesses_of_father_None_of_the_above_group_1',\n",
       "       '20107_3-Illnesses_of_father_Lung_cancer',\n",
       "       '20107_8-Illnesses_of_father_High_blood_pressure',\n",
       "       '20107_9-Illnesses_of_father_Diabetes',\n",
       "       '20110_1-Illnesses_of_mother_Heart_disease',\n",
       "       '20110_10-Illnesses_of_mother_Alzheimers_diseasedementia',\n",
       "       '20110_100-Illnesses_of_mother_None_of_the_above_group_1',\n",
       "       '20110_8-Illnesses_of_mother_High_blood_pressure',\n",
       "       '20110_9-Illnesses_of_mother_Diabetes',\n",
       "       '20111_1-Illnesses_of_siblings_Heart_disease',\n",
       "       '20111_100-Illnesses_of_siblings_None_of_the_above_group_1',\n",
       "       '20111_8-Illnesses_of_siblings_High_blood_pressure',\n",
       "       '20111_9-Illnesses_of_siblings_Diabetes'],\n",
       "      dtype='object')"
      ]
     },
     "metadata": {},
     "output_type": "display_data"
    },
    {
     "data": {
      "text/html": [
       "<h3>Cluster 44.16</h3>"
      ],
      "text/plain": [
       "<IPython.core.display.HTML object>"
      ]
     },
     "metadata": {},
     "output_type": "display_data"
    },
    {
     "data": {
      "text/plain": [
       "7"
      ]
     },
     "metadata": {},
     "output_type": "display_data"
    },
    {
     "data": {
      "text/plain": [
       "Index(['1717-Skin_colour', '1727-Ease_of_skin_tanning',\n",
       "       '1747_1-Hair_colour_natural_before_greying_Blonde',\n",
       "       '1747_2-Hair_colour_natural_before_greying_Red',\n",
       "       '1747_3-Hair_colour_natural_before_greying_Light_brown',\n",
       "       '1747_4-Hair_colour_natural_before_greying_Dark_brown',\n",
       "       '1747_5-Hair_colour_natural_before_greying_Black'],\n",
       "      dtype='object')"
      ]
     },
     "metadata": {},
     "output_type": "display_data"
    },
    {
     "data": {
      "text/html": [
       "<h3>Cluster 44.17</h3>"
      ],
      "text/plain": [
       "<IPython.core.display.HTML object>"
      ]
     },
     "metadata": {},
     "output_type": "display_data"
    },
    {
     "data": {
      "text/plain": [
       "5"
      ]
     },
     "metadata": {},
     "output_type": "display_data"
    },
    {
     "data": {
      "text/plain": [
       "Index(['30080_raw-Platelet_count', '30090_raw-Platelet_crit',\n",
       "       '30100_raw-Mean_platelet_thrombocyte_volume',\n",
       "       '30110_raw-Platelet_distribution_width', 'platelet count'],\n",
       "      dtype='object')"
      ]
     },
     "metadata": {},
     "output_type": "display_data"
    },
    {
     "data": {
      "text/html": [
       "<h3>Cluster 44.18</h3>"
      ],
      "text/plain": [
       "<IPython.core.display.HTML object>"
      ]
     },
     "metadata": {},
     "output_type": "display_data"
    },
    {
     "data": {
      "text/plain": [
       "6"
      ]
     },
     "metadata": {},
     "output_type": "display_data"
    },
    {
     "data": {
      "text/plain": [
       "Index(['40001_C349-Underlying_primary_cause_of_death_ICD10_C349_Bronchus_or_lung_unspecified',\n",
       "       'C3_RESPIRATORY_INTRATHORACIC-Malignant_neoplasm_of_respiratory_system_and_intrathoracic_organs',\n",
       "       'C_BRONCHUS_LUNG-Malignant_neoplasm_of_bronchus_and_lung',\n",
       "       'C_RESPIRATORY_INTRATHORACIC',\n",
       "       'LUNG_CANCER_MESOT-Lung_cancer_and_mesothelioma', 'lung carcinoma'],\n",
       "      dtype='object')"
      ]
     },
     "metadata": {},
     "output_type": "display_data"
    },
    {
     "data": {
      "text/html": [
       "<h3>Cluster 44.19</h3>"
      ],
      "text/plain": [
       "<IPython.core.display.HTML object>"
      ]
     },
     "metadata": {},
     "output_type": "display_data"
    },
    {
     "data": {
      "text/plain": [
       "43"
      ]
     },
     "metadata": {},
     "output_type": "display_data"
    },
    {
     "data": {
      "text/plain": [
       "Index(['129_raw-Place_of_birth_in_UK_north_coordinate',\n",
       "       '20075_raw-Home_location_at_assessment_north_coordinate_rounded',\n",
       "       '22704_raw-Home_location_north_coordinate_rounded',\n",
       "       'ASTHMA_PNEUMONIA-Asthmarelated_pneumonia',\n",
       "       'G6_EPIPAROX-Episodal_and_paroxysmal_disorders',\n",
       "       'G6_SLEEPAPNO-Sleep_apnoea',\n",
       "       'L12_ATROPHICSKIN-Atrophic_disorders_of_skin',\n",
       "       'L12_SCARCONDITIONS-Scar_conditions_and_fibrosis_of_skin',\n",
       "       'M13_DORSOPATHYOTH-Other_dorsopathies_not_elsewhere_classified',\n",
       "       'M13_MUSCULOSKELEOTH-Other_disorders_of_the_musculoskeletal_system_and_connective_tissue',\n",
       "       'M13_SACROCOGG-Sacrococcygeal_disorders_not_elsewhere_classified',\n",
       "       'PNEUMONIA-Pneumonias_AsthmaCOPD_comorbidities',\n",
       "       'SLEEP-Sleep_disorders_combined', 'abdominal injury', 'bone disease',\n",
       "       'cardiac arrhythmia', 'checkup',\n",
       "       'chronic obstructive pulmonary disease', 'device complication',\n",
       "       'encounter with health service', 'female reproductive system disease',\n",
       "       'follow-up', 'head injury', 'headache', 'heart disease', 'injury',\n",
       "       'joint disease', 'kidney failure', 'leg injury', 'lower limb pain',\n",
       "       'mesothelioma', 'musculoskeletal system disease',\n",
       "       'musculoskeletal system disease AND connective tissue disease',\n",
       "       'nasal cavity polyp', 'pericarditis', 'pneumonia', 'poisoning',\n",
       "       'pregnancy disorder', 'skin atrophy', 'sleep disorder',\n",
       "       'soft tissue disease', 'urogenital neoplasm', 'wrist fracture'],\n",
       "      dtype='object')"
      ]
     },
     "metadata": {},
     "output_type": "display_data"
    },
    {
     "data": {
      "text/html": [
       "<h3>Cluster 44.20</h3>"
      ],
      "text/plain": [
       "<IPython.core.display.HTML object>"
      ]
     },
     "metadata": {},
     "output_type": "display_data"
    },
    {
     "data": {
      "text/plain": [
       "321"
      ]
     },
     "metadata": {},
     "output_type": "display_data"
    },
    {
     "data": {
      "text/plain": [
       "Index(['40001_C719-Underlying_primary_cause_of_death_ICD10_C719_Brain_unspecified',\n",
       "       'ASTHMA_CHILD-Childhood_asthma_age16',\n",
       "       'ASTHMA_HOSPITAL1-Asthma_hospital_admissions_1',\n",
       "       'BACT_INTEST_INFECTION_NOS-Other_specifiedunspecified_bacterial_intestinal_infections',\n",
       "       'C3_DIGESTIVE_ORGANS-Malignant_neoplasm_of_digestive_organs',\n",
       "       'C3_EYE_BRAIN_NEURO-Malignant_neoplasm_of_eye_brain_and_central_nervous_system',\n",
       "       'C3_URINARY_TRACT-Malignant_neoplasm_of_urinary_organs',\n",
       "       'C_BLADDER-Malignant_neoplasm_of_bladder',\n",
       "       'C_BRAIN-Malignant_neoplasm_of_brain',\n",
       "       'C_COLON-Malignant_neoplasm_of_colon',\n",
       "       ...\n",
       "       'iron deficiency anemia', 'kidney neoplasm', 'knee injury',\n",
       "       'muscular disease', 'pigmentation disease', 'skeletal system disease',\n",
       "       'skin disease', 'suppurative otitis media', 'tenosynovitis',\n",
       "       'vasculitis'],\n",
       "      dtype='object', length=321)"
      ]
     },
     "metadata": {},
     "output_type": "display_data"
    },
    {
     "data": {
      "text/html": [
       "<h3>Cluster 44.21</h3>"
      ],
      "text/plain": [
       "<IPython.core.display.HTML object>"
      ]
     },
     "metadata": {},
     "output_type": "display_data"
    },
    {
     "data": {
      "text/plain": [
       "2"
      ]
     },
     "metadata": {},
     "output_type": "display_data"
    },
    {
     "data": {
      "text/plain": [
       "Index(['46_raw-Hand_grip_strength_left', '47_raw-Hand_grip_strength_right'], dtype='object')"
      ]
     },
     "metadata": {},
     "output_type": "display_data"
    },
    {
     "data": {
      "text/html": [
       "<h3>Cluster 44.22</h3>"
      ],
      "text/plain": [
       "<IPython.core.display.HTML object>"
      ]
     },
     "metadata": {},
     "output_type": "display_data"
    },
    {
     "data": {
      "text/plain": [
       "8"
      ]
     },
     "metadata": {},
     "output_type": "display_data"
    },
    {
     "data": {
      "text/plain": [
       "Index(['24013-Total_traffic_load_on_major_roads', '24014-Close_to_major_road',\n",
       "       '24015-Sum_of_road_length_of_major_roads_within_100m',\n",
       "       '24020_raw-Average_daytime_sound_level_of_noise_pollution',\n",
       "       '24021_raw-Average_evening_sound_level_of_noise_pollution',\n",
       "       '24022_raw-Average_nighttime_sound_level_of_noise_pollution',\n",
       "       '24023_raw-Average_16hour_sound_level_of_noise_pollution',\n",
       "       '24024_raw-Average_24hour_sound_level_of_noise_pollution'],\n",
       "      dtype='object')"
      ]
     },
     "metadata": {},
     "output_type": "display_data"
    },
    {
     "data": {
      "text/html": [
       "<h3>Cluster 44.23</h3>"
      ],
      "text/plain": [
       "<IPython.core.display.HTML object>"
      ]
     },
     "metadata": {},
     "output_type": "display_data"
    },
    {
     "data": {
      "text/plain": [
       "5"
      ]
     },
     "metadata": {},
     "output_type": "display_data"
    },
    {
     "data": {
      "text/plain": [
       "Index(['F5_ALLANXIOUS-All_anxiety_disorders',\n",
       "       'F5_ANXIETY-Other_anxiety_disorders',\n",
       "       'KRA_PSY_ANXIETY-Anxiety_disorders',\n",
       "       'PULM_ANXIETY-Anxiety_asthmarelated_comorbidities', 'anxiety disorder'],\n",
       "      dtype='object')"
      ]
     },
     "metadata": {},
     "output_type": "display_data"
    },
    {
     "data": {
      "text/html": [
       "<h3>Cluster 44.24</h3>"
      ],
      "text/plain": [
       "<IPython.core.display.HTML object>"
      ]
     },
     "metadata": {},
     "output_type": "display_data"
    },
    {
     "data": {
      "text/plain": [
       "11"
      ]
     },
     "metadata": {},
     "output_type": "display_data"
    },
    {
     "data": {
      "text/plain": [
       "Index(['1707_1-Handedness_chiralitylaterality_Righthanded',\n",
       "       '20003_1140865634-Treatmentmedication_code_omeprazole',\n",
       "       'C3_SKIN-Malignant_neoplasm_of_skin',\n",
       "       'C_OTHER_SKIN-Other_malignant_neoplasms_of_skin', 'C_SKIN',\n",
       "       'KNEE_ARTHROSIS-Gonarthrosis_arthrosis_of_kneeFG',\n",
       "       'M13_ARTHROSIS-Arthrosis', 'depressive episode measurement',\n",
       "       'functional laterality', 'osteoarthritis, knee', 'skin neoplasm'],\n",
       "      dtype='object')"
      ]
     },
     "metadata": {},
     "output_type": "display_data"
    },
    {
     "data": {
      "text/html": [
       "<h3>Cluster 44.25</h3>"
      ],
      "text/plain": [
       "<IPython.core.display.HTML object>"
      ]
     },
     "metadata": {},
     "output_type": "display_data"
    },
    {
     "data": {
      "text/plain": [
       "18"
      ]
     },
     "metadata": {},
     "output_type": "display_data"
    },
    {
     "data": {
      "text/plain": [
       "Index(['100001_raw-Food_weight', '100002_raw-Energy', '100003_raw-Protein',\n",
       "       '100004_raw-Fat', '100005_raw-Carbohydrate', '100006_raw-Saturated_fat',\n",
       "       '100007_raw-Polyunsaturated_fat', '100008_raw-Total_sugars',\n",
       "       '100009_raw-Englyst_dietary_fibre', '100011_raw-Iron',\n",
       "       '100012_raw-Vitamin_B6', '100014_raw-Folate', '100015_raw-Vitamin_C',\n",
       "       '100016_raw-Potassium', '100017_raw-Magnesium', '100023_raw-Starch',\n",
       "       '100024_raw-Calcium', '100025_raw-Vitamin_E'],\n",
       "      dtype='object')"
      ]
     },
     "metadata": {},
     "output_type": "display_data"
    },
    {
     "data": {
      "text/html": [
       "<h3>Cluster 44.26</h3>"
      ],
      "text/plain": [
       "<IPython.core.display.HTML object>"
      ]
     },
     "metadata": {},
     "output_type": "display_data"
    },
    {
     "data": {
      "text/plain": [
       "7"
      ]
     },
     "metadata": {},
     "output_type": "display_data"
    },
    {
     "data": {
      "text/plain": [
       "Index(['5984_raw-ECG_load', '5986_raw-ECG_phase_time',\n",
       "       '5992-ECG_phase_duration', '5993-ECG_number_of_stages_in_a_phase',\n",
       "       '6032_raw-Maximum_workload_during_fitness_test',\n",
       "       '6038_raw-Number_of_trend_entries', '6039-Duration_of_fitness_test'],\n",
       "      dtype='object')"
      ]
     },
     "metadata": {},
     "output_type": "display_data"
    },
    {
     "data": {
      "text/html": [
       "<h3>Cluster 44.27</h3>"
      ],
      "text/plain": [
       "<IPython.core.display.HTML object>"
      ]
     },
     "metadata": {},
     "output_type": "display_data"
    },
    {
     "data": {
      "text/plain": [
       "15"
      ]
     },
     "metadata": {},
     "output_type": "display_data"
    },
    {
     "data": {
      "text/plain": [
       "Index(['20003_1140861958-Treatmentmedication_code_simvastatin',\n",
       "       '20003_1140879802-Treatmentmedication_code_amlodipine',\n",
       "       '20003_1141194794-Treatmentmedication_code_bendroflumethiazide',\n",
       "       '4079_raw-Diastolic_blood_pressure_automated_reading',\n",
       "       '4080_raw-Systolic_blood_pressure_automated_reading',\n",
       "       '6150_100-Vascularheart_problems_diagnosed_by_doctor_None_of_the_above',\n",
       "       '6150_4-Vascularheart_problems_diagnosed_by_doctor_High_blood_pressure',\n",
       "       '6153_1-Medication_for_cholesterol_blood_pressure_diabetes_or_take_exogenous_hormones_Cholesterol_lowering_medication',\n",
       "       '6153_100-Medication_for_cholesterol_blood_pressure_diabetes_or_take_exogenous_hormones_None_of_the_above',\n",
       "       '6153_2-Medication_for_cholesterol_blood_pressure_diabetes_or_take_exogenous_hormones_Blood_pressure_medication',\n",
       "       '6177_1-Medication_for_cholesterol_blood_pressure_or_diabetes_Cholesterol_lowering_medication',\n",
       "       '6177_100-Medication_for_cholesterol_blood_pressure_or_diabetes_None_of_the_above',\n",
       "       '6177_2-Medication_for_cholesterol_blood_pressure_or_diabetes_Blood_pressure_medication',\n",
       "       'hypercholesterolemia', 'hypertension'],\n",
       "      dtype='object')"
      ]
     },
     "metadata": {},
     "output_type": "display_data"
    },
    {
     "data": {
      "text/html": [
       "<h3>Cluster 44.28</h3>"
      ],
      "text/plain": [
       "<IPython.core.display.HTML object>"
      ]
     },
     "metadata": {},
     "output_type": "display_data"
    },
    {
     "data": {
      "text/plain": [
       "3"
      ]
     },
     "metadata": {},
     "output_type": "display_data"
    },
    {
     "data": {
      "text/plain": [
       "Index(['L12_ACTINKERA-Actinic_keratosis',\n",
       "       'L12_NONIONRADISKIN-Skin_changes_due_to_chronic_exposure_to_nonionizing_radiation',\n",
       "       'radiation-induced disorder'],\n",
       "      dtype='object')"
      ]
     },
     "metadata": {},
     "output_type": "display_data"
    },
    {
     "data": {
      "text/html": [
       "<h3>Cluster 44.29</h3>"
      ],
      "text/plain": [
       "<IPython.core.display.HTML object>"
      ]
     },
     "metadata": {},
     "output_type": "display_data"
    },
    {
     "data": {
      "text/plain": [
       "15"
      ]
     },
     "metadata": {},
     "output_type": "display_data"
    },
    {
     "data": {
      "text/plain": [
       "Index(['30010_raw-Red_blood_cell_erythrocyte_count',\n",
       "       '30020_raw-Haemoglobin_concentration',\n",
       "       '30030_raw-Haematocrit_percentage', '30040_raw-Mean_corpuscular_volume',\n",
       "       '30050_raw-Mean_corpuscular_haemoglobin',\n",
       "       '30070_raw-Red_blood_cell_erythrocyte_distribution_width',\n",
       "       '30240_raw-Reticulocyte_percentage', '30250_raw-Reticulocyte_count',\n",
       "       '30260_raw-Mean_reticulocyte_volume',\n",
       "       '30270_raw-Mean_sphered_cell_volume',\n",
       "       '30280_raw-Immature_reticulocyte_fraction',\n",
       "       '30290_raw-High_light_scatter_reticulocyte_percentage',\n",
       "       '30300_raw-High_light_scatter_reticulocyte_count', 'erythrocyte count',\n",
       "       'reticulocyte count'],\n",
       "      dtype='object')"
      ]
     },
     "metadata": {},
     "output_type": "display_data"
    },
    {
     "data": {
      "text/html": [
       "<h3>Cluster 44.30</h3>"
      ],
      "text/plain": [
       "<IPython.core.display.HTML object>"
      ]
     },
     "metadata": {},
     "output_type": "display_data"
    },
    {
     "data": {
      "text/plain": [
       "14"
      ]
     },
     "metadata": {},
     "output_type": "display_data"
    },
    {
     "data": {
      "text/plain": [
       "Index(['20003_1140884516-Treatmentmedication_code_thyroxine_product',\n",
       "       'K11_OTHDIG-Other_diseases_of_the_digestive_system',\n",
       "       'M13_POLYARTHROPATHIES-Polyarthropathies',\n",
       "       'M13_RHEUMA-Rheumatoid_arthritis',\n",
       "       'RHEUMA_NOS-Otherunspecified_rheumatoid_arthritis',\n",
       "       'RHEUMA_SEROPOS-Seropositive_rheumatoid_arthritis',\n",
       "       'RHEUMA_SEROPOS_OTH-Otherunspecified_seropositiverheumatoid_arthritis',\n",
       "       'STILL_ADULT-Adultonset_Still_disease', 'adrenocortical insufficiency',\n",
       "       'ankylosing spondylitis', 'benign prostatic hyperplasia', 'hematuria',\n",
       "       'multiple sclerosis', 'psoriatic arthritis'],\n",
       "      dtype='object')"
      ]
     },
     "metadata": {},
     "output_type": "display_data"
    },
    {
     "data": {
      "text/html": [
       "<h3>Cluster 44.31</h3>"
      ],
      "text/plain": [
       "<IPython.core.display.HTML object>"
      ]
     },
     "metadata": {},
     "output_type": "display_data"
    },
    {
     "data": {
      "text/plain": [
       "1"
      ]
     },
     "metadata": {},
     "output_type": "display_data"
    },
    {
     "data": {
      "text/plain": [
       "Index(['30060_raw-Mean_corpuscular_haemoglobin_concentration'], dtype='object')"
      ]
     },
     "metadata": {},
     "output_type": "display_data"
    },
    {
     "data": {
      "text/html": [
       "<h3>Cluster 44.32</h3>"
      ],
      "text/plain": [
       "<IPython.core.display.HTML object>"
      ]
     },
     "metadata": {},
     "output_type": "display_data"
    },
    {
     "data": {
      "text/plain": [
       "8"
      ]
     },
     "metadata": {},
     "output_type": "display_data"
    },
    {
     "data": {
      "text/plain": [
       "Index(['24003_raw-Nitrogen_dioxide_air_pollution_2010',\n",
       "       '24004_raw-Nitrogen_oxides_air_pollution_2010',\n",
       "       '24006_raw-Particulate_matter_air_pollution_pm25_2010',\n",
       "       '24007_raw-Particulate_matter_air_pollution_pm25_absorbance_2010',\n",
       "       '24016_raw-Nitrogen_dioxide_air_pollution_2005',\n",
       "       '24017_raw-Nitrogen_dioxide_air_pollution_2006',\n",
       "       '24018_raw-Nitrogen_dioxide_air_pollution_2007',\n",
       "       '24019_raw-Particulate_matter_air_pollution_pm10_2007'],\n",
       "      dtype='object')"
      ]
     },
     "metadata": {},
     "output_type": "display_data"
    },
    {
     "data": {
      "text/html": [
       "<h3>Cluster 44.33</h3>"
      ],
      "text/plain": [
       "<IPython.core.display.HTML object>"
      ]
     },
     "metadata": {},
     "output_type": "display_data"
    },
    {
     "data": {
      "text/plain": [
       "8"
      ]
     },
     "metadata": {},
     "output_type": "display_data"
    },
    {
     "data": {
      "text/plain": [
       "Index(['5096_raw-3mm_weak_meridian_left', '5097_raw-6mm_weak_meridian_left',\n",
       "       '5098_raw-6mm_weak_meridian_right', '5099_raw-3mm_weak_meridian_right',\n",
       "       '5132_raw-3mm_strong_meridian_right',\n",
       "       '5133_raw-6mm_strong_meridian_right',\n",
       "       '5134_raw-6mm_strong_meridian_left',\n",
       "       '5135_raw-3mm_strong_meridian_left'],\n",
       "      dtype='object')"
      ]
     },
     "metadata": {},
     "output_type": "display_data"
    },
    {
     "data": {
      "text/html": [
       "<h3>Cluster 44.34</h3>"
      ],
      "text/plain": [
       "<IPython.core.display.HTML object>"
      ]
     },
     "metadata": {},
     "output_type": "display_data"
    },
    {
     "data": {
      "text/plain": [
       "1"
      ]
     },
     "metadata": {},
     "output_type": "display_data"
    },
    {
     "data": {
      "text/plain": [
       "Index(['mineral metabolism disease'], dtype='object')"
      ]
     },
     "metadata": {},
     "output_type": "display_data"
    },
    {
     "data": {
      "text/html": [
       "<h3>Cluster 44.35</h3>"
      ],
      "text/plain": [
       "<IPython.core.display.HTML object>"
      ]
     },
     "metadata": {},
     "output_type": "display_data"
    },
    {
     "data": {
      "text/plain": [
       "4"
      ]
     },
     "metadata": {},
     "output_type": "display_data"
    },
    {
     "data": {
      "text/plain": [
       "Index(['HEARTFAIL-Heart_failure', 'I9_HEARTFAIL-Heart_failurestrict',\n",
       "       'I9_HEARTFAIL_NS-Heart_failure_not_strict', 'heart failure'],\n",
       "      dtype='object')"
      ]
     },
     "metadata": {},
     "output_type": "display_data"
    },
    {
     "data": {
      "text/html": [
       "<h3>Cluster 44.36</h3>"
      ],
      "text/plain": [
       "<IPython.core.display.HTML object>"
      ]
     },
     "metadata": {},
     "output_type": "display_data"
    },
    {
     "data": {
      "text/plain": [
       "4"
      ]
     },
     "metadata": {},
     "output_type": "display_data"
    },
    {
     "data": {
      "text/plain": [
       "Index(['COPD_EXCL-COPD_differential_diagnosis',\n",
       "       'ILD_DIFF_DG-ILD_differential_diagnosis',\n",
       "       'PULMONARYDG-Other_pulmonary_diagnosis',\n",
       "       'X_RESPIRATORY-Diseases_of_the_respiratory_system'],\n",
       "      dtype='object')"
      ]
     },
     "metadata": {},
     "output_type": "display_data"
    },
    {
     "data": {
      "text/html": [
       "<h3>Cluster 44.37</h3>"
      ],
      "text/plain": [
       "<IPython.core.display.HTML object>"
      ]
     },
     "metadata": {},
     "output_type": "display_data"
    },
    {
     "data": {
      "text/plain": [
       "5"
      ]
     },
     "metadata": {},
     "output_type": "display_data"
    },
    {
     "data": {
      "text/plain": [
       "Index(['C_STROKE-STROKE', 'I9_STR-Stroke_excluding_SAH',\n",
       "       'I9_STR_EXH-Ischaemic_Stroke_excluding_all_haemorrhages',\n",
       "       'I9_STR_SAH-Stroke_including_SAH', 'brain infarction'],\n",
       "      dtype='object')"
      ]
     },
     "metadata": {},
     "output_type": "display_data"
    },
    {
     "data": {
      "text/html": [
       "<h3>Cluster 44.38</h3>"
      ],
      "text/plain": [
       "<IPython.core.display.HTML object>"
      ]
     },
     "metadata": {},
     "output_type": "display_data"
    },
    {
     "data": {
      "text/plain": [
       "1"
      ]
     },
     "metadata": {},
     "output_type": "display_data"
    },
    {
     "data": {
      "text/plain": [
       "Index(['1737-Childhood_sunburn_occasions'], dtype='object')"
      ]
     },
     "metadata": {},
     "output_type": "display_data"
    },
    {
     "data": {
      "text/html": [
       "<h3>Cluster 44.39</h3>"
      ],
      "text/plain": [
       "<IPython.core.display.HTML object>"
      ]
     },
     "metadata": {},
     "output_type": "display_data"
    },
    {
     "data": {
      "text/plain": [
       "12"
      ]
     },
     "metadata": {},
     "output_type": "display_data"
    },
    {
     "data": {
      "text/plain": [
       "Index(['3144_raw-Heel_Broadband_ultrasound_attenuation_direct_entry',\n",
       "       '3147_raw-Heel_quantitative_ultrasound_index_QUI_direct_entry',\n",
       "       '3148_raw-Heel_bone_mineral_density_BMD',\n",
       "       '4101_raw-Heel_broadband_ultrasound_attenuation_left',\n",
       "       '4104_raw-Heel_quantitative_ultrasound_index_QUI_direct_entry_left',\n",
       "       '4105_raw-Heel_bone_mineral_density_BMD_left',\n",
       "       '4106_raw-Heel_bone_mineral_density_BMD_Tscore_automated_left',\n",
       "       '4120_raw-Heel_broadband_ultrasound_attenuation_right',\n",
       "       '4123_raw-Heel_quantitative_ultrasound_index_QUI_direct_entry_right',\n",
       "       '4124_raw-Heel_bone_mineral_density_BMD_right',\n",
       "       '4125_raw-Heel_bone_mineral_density_BMD_Tscore_automated_right',\n",
       "       '78_raw-Heel_bone_mineral_density_BMD_Tscore_automated'],\n",
       "      dtype='object')"
      ]
     },
     "metadata": {},
     "output_type": "display_data"
    },
    {
     "data": {
      "text/html": [
       "<h3>Cluster 44.40</h3>"
      ],
      "text/plain": [
       "<IPython.core.display.HTML object>"
      ]
     },
     "metadata": {},
     "output_type": "display_data"
    },
    {
     "data": {
      "text/plain": [
       "17"
      ]
     },
     "metadata": {},
     "output_type": "display_data"
    },
    {
     "data": {
      "text/plain": [
       "Index(['20003_1140883066-Treatmentmedication_code_insulin_product',\n",
       "       '20003_1141191044-Treatmentmedication_code_levothyroxine_sodium',\n",
       "       '2976_raw-Age_diabetes_diagnosed',\n",
       "       '2986-Started_insulin_within_one_year_diagnosis_of_diabetes',\n",
       "       '6144_3-Never_eat_eggs_dairy_wheat_sugar_Wheat_products',\n",
       "       '6153_3-Medication_for_cholesterol_blood_pressure_diabetes_or_take_exogenous_hormones_Insulin',\n",
       "       '6177_3-Medication_for_cholesterol_blood_pressure_or_diabetes_Insulin',\n",
       "       'K11_COELIAC-Coeliac_disease', 'celiac disease',\n",
       "       'hyperthyroidism AND thyrotoxicosis', 'hypothyroidism AND myxedema',\n",
       "       'malabsorption syndrome', 'psoriasis', 'rheumatoid arthritis',\n",
       "       'sarcoidosis', 'systemic lupus erythematosus',\n",
       "       'type i diabetes mellitus'],\n",
       "      dtype='object')"
      ]
     },
     "metadata": {},
     "output_type": "display_data"
    },
    {
     "data": {
      "text/html": [
       "<h3>Cluster 44.41</h3>"
      ],
      "text/plain": [
       "<IPython.core.display.HTML object>"
      ]
     },
     "metadata": {},
     "output_type": "display_data"
    },
    {
     "data": {
      "text/plain": [
       "3"
      ]
     },
     "metadata": {},
     "output_type": "display_data"
    },
    {
     "data": {
      "text/plain": [
       "Index(['M13_DUPUTRYEN-Palmar_fascial_fibromatosis_Dupuytren',\n",
       "       'M13_FIBROBLASTIC-Fibroblastic_disorders', 'fibroblastic disorder'],\n",
       "      dtype='object')"
      ]
     },
     "metadata": {},
     "output_type": "display_data"
    },
    {
     "data": {
      "text/html": [
       "<h3>Cluster 44.42</h3>"
      ],
      "text/plain": [
       "<IPython.core.display.HTML object>"
      ]
     },
     "metadata": {},
     "output_type": "display_data"
    },
    {
     "data": {
      "text/plain": [
       "6"
      ]
     },
     "metadata": {},
     "output_type": "display_data"
    },
    {
     "data": {
      "text/plain": [
       "Index(['20003_1140861998-Treatmentmedication_code_ventolin_100micrograms_inhaler',\n",
       "       '30120_raw-Lymphocyte_count',\n",
       "       '6152_100-Blood_clot_DVT_bronchitis_emphysema_asthma_rhinitis_eczema_allergy_diagnosed_by_doctor_None_of_the_above',\n",
       "       '6152_8-Blood_clot_DVT_bronchitis_emphysema_asthma_rhinitis_eczema_allergy_diagnosed_by_doctor_Asthma',\n",
       "       '6152_9-Blood_clot_DVT_bronchitis_emphysema_asthma_rhinitis_eczema_allergy_diagnosed_by_doctor_Hayfever_allergic_rhinitis_or_eczema',\n",
       "       'asthma'],\n",
       "      dtype='object')"
      ]
     },
     "metadata": {},
     "output_type": "display_data"
    },
    {
     "data": {
      "text/html": [
       "<h3>Cluster 44.43</h3>"
      ],
      "text/plain": [
       "<IPython.core.display.HTML object>"
      ]
     },
     "metadata": {},
     "output_type": "display_data"
    },
    {
     "data": {
      "text/plain": [
       "1"
      ]
     },
     "metadata": {},
     "output_type": "display_data"
    },
    {
     "data": {
      "text/plain": [
       "Index(['6149_1-Mouthteeth_dental_problems_Mouth_ulcers'], dtype='object')"
      ]
     },
     "metadata": {},
     "output_type": "display_data"
    },
    {
     "data": {
      "text/html": [
       "<h2>Partition with k=45</h2>"
      ],
      "text/plain": [
       "<IPython.core.display.HTML object>"
      ]
     },
     "metadata": {},
     "output_type": "display_data"
    },
    {
     "data": {
      "text/plain": [
       "method                              eac_average_coassoc_matrix\n",
       "partition    [25, 25, 25, 25, 25, 25, 25, 25, 25, 2, 25, 25...\n",
       "ami_mean                                              0.285463\n",
       "selected                                                  True\n",
       "Name: 45, dtype: object"
      ]
     },
     "metadata": {},
     "output_type": "display_data"
    },
    {
     "data": {
      "text/plain": [
       "(3752,)"
      ]
     },
     "metadata": {},
     "output_type": "display_data"
    },
    {
     "data": {
      "text/plain": [
       "9     766\n",
       "2     704\n",
       "4     453\n",
       "5     394\n",
       "20    321\n",
       "14    266\n",
       "6     241\n",
       "7     218\n",
       "13     49\n",
       "19     43\n",
       "15     21\n",
       "3      19\n",
       "25     18\n",
       "1      18\n",
       "12     17\n",
       "40     17\n",
       "10     15\n",
       "27     15\n",
       "29     15\n",
       "30     14\n",
       "39     12\n",
       "11     11\n",
       "22      8\n",
       "33      8\n",
       "32      8\n",
       "26      7\n",
       "16      7\n",
       "0       7\n",
       "42      6\n",
       "24      6\n",
       "18      6\n",
       "17      5\n",
       "23      5\n",
       "37      5\n",
       "36      4\n",
       "35      4\n",
       "21      4\n",
       "41      3\n",
       "28      3\n",
       "8       3\n",
       "44      2\n",
       "34      1\n",
       "38      1\n",
       "31      1\n",
       "43      1\n",
       "dtype: int64"
      ]
     },
     "metadata": {},
     "output_type": "display_data"
    },
    {
     "data": {
      "text/html": [
       "<h3>Cluster 45.0</h3>"
      ],
      "text/plain": [
       "<IPython.core.display.HTML object>"
      ]
     },
     "metadata": {},
     "output_type": "display_data"
    },
    {
     "data": {
      "text/plain": [
       "7"
      ]
     },
     "metadata": {},
     "output_type": "display_data"
    },
    {
     "data": {
      "text/plain": [
       "Index(['20003_1140860696-Treatmentmedication_code_lisinopril',\n",
       "       '20003_1140860806-Treatmentmedication_code_ramipril',\n",
       "       '20003_1140866738-Treatmentmedication_code_atenolol',\n",
       "       '20003_1140875408-Treatmentmedication_code_allopurinol',\n",
       "       '20003_1140884600-Treatmentmedication_code_metformin',\n",
       "       'diabetes mellitus', 'gout'],\n",
       "      dtype='object')"
      ]
     },
     "metadata": {},
     "output_type": "display_data"
    },
    {
     "data": {
      "text/html": [
       "<h3>Cluster 45.1</h3>"
      ],
      "text/plain": [
       "<IPython.core.display.HTML object>"
      ]
     },
     "metadata": {},
     "output_type": "display_data"
    },
    {
     "data": {
      "text/plain": [
       "18"
      ]
     },
     "metadata": {},
     "output_type": "display_data"
    },
    {
     "data": {
      "text/plain": [
       "Index(['30000_raw-White_blood_cell_leukocyte_count',\n",
       "       '30130_raw-Monocyte_count', '30140_raw-Neutrophill_count',\n",
       "       '30150-Eosinophill_count', '30180_raw-Lymphocyte_percentage',\n",
       "       '30190_raw-Monocyte_percentage', '30200_raw-Neutrophill_percentage',\n",
       "       '30210_raw-Eosinophill_percentage', 'eosinophil count',\n",
       "       'granulocyte count', 'leukocyte count', 'lymphocyte count',\n",
       "       'monocyte count', 'myeloid white cell count', 'neutrophil count',\n",
       "       'sum of basophil and neutrophil counts',\n",
       "       'sum of eosinophil and basophil counts',\n",
       "       'sum of neutrophil and eosinophil counts'],\n",
       "      dtype='object')"
      ]
     },
     "metadata": {},
     "output_type": "display_data"
    },
    {
     "data": {
      "text/html": [
       "<h3>Cluster 45.2</h3>"
      ],
      "text/plain": [
       "<IPython.core.display.HTML object>"
      ]
     },
     "metadata": {},
     "output_type": "display_data"
    },
    {
     "data": {
      "text/plain": [
       "704"
      ]
     },
     "metadata": {},
     "output_type": "display_data"
    },
    {
     "data": {
      "text/plain": [
       "Index(['100010-Portion_size', '100013_raw-Vitamin_B12', '100018_raw-Retinol',\n",
       "       '100019_raw-Carotene', '100021_raw-Vitamin_D', '100022-Alcohol',\n",
       "       '1001-Duration_of_strenuous_sports', '100150-Drinking_water_intake',\n",
       "       '100160-Low_calorie_drink_intake', '100170-Fizzy_drink_intake',\n",
       "       ...\n",
       "       'viral disease', 'viral human hepatitis infection', 'viral meningitis',\n",
       "       'visual impairment', 'vitiligo', 'vitreous body disease',\n",
       "       'vocal cord polyp', 'voice disorders',\n",
       "       'wellbeing measurement AND family relationship', 'whooping cough'],\n",
       "      dtype='object', length=704)"
      ]
     },
     "metadata": {},
     "output_type": "display_data"
    },
    {
     "data": {
      "text/html": [
       "<h3>Cluster 45.3</h3>"
      ],
      "text/plain": [
       "<IPython.core.display.HTML object>"
      ]
     },
     "metadata": {},
     "output_type": "display_data"
    },
    {
     "data": {
      "text/plain": [
       "19"
      ]
     },
     "metadata": {},
     "output_type": "display_data"
    },
    {
     "data": {
      "text/plain": [
       "Index(['EAGLE_Eczema', 'Jones_et_al_2016_Chronotype', 'MAGNETIC_CH2.DB.ratio',\n",
       "       'MAGNETIC_HDL.C', 'MAGNETIC_IDL.TG', 'MAGNETIC_LDL.C',\n",
       "       'SSGAC_Education_Years_Pooled', 'alzheimer's disease',\n",
       "       'attention deficit hyperactivity disorder', 'bone density',\n",
       "       'coronary artery disease', 'estrogen-receptor negative breast cancer',\n",
       "       'estrogen-receptor positive breast cancer',\n",
       "       'family history of breast cancer', 'fasting blood glucose measurement',\n",
       "       'fasting blood insulin measurement', 'inflammatory bowel disease',\n",
       "       'intracranial volume measurement', 'schizophrenia'],\n",
       "      dtype='object')"
      ]
     },
     "metadata": {},
     "output_type": "display_data"
    },
    {
     "data": {
      "text/html": [
       "<h3>Cluster 45.4</h3>"
      ],
      "text/plain": [
       "<IPython.core.display.HTML object>"
      ]
     },
     "metadata": {},
     "output_type": "display_data"
    },
    {
     "data": {
      "text/plain": [
       "453"
      ]
     },
     "metadata": {},
     "output_type": "display_data"
    },
    {
     "data": {
      "text/plain": [
       "Index(['20003_1140879616-Treatmentmedication_code_amitriptyline',\n",
       "       '20003_1140879630-Treatmentmedication_code_imipramine',\n",
       "       '20003_1140879634-Treatmentmedication_code_trazodone',\n",
       "       '20003_1140879762-Treatmentmedication_code_celiprolol',\n",
       "       '20003_1140879778-Treatmentmedication_code_doxazosin',\n",
       "       '20003_1140879792-Treatmentmedication_code_terbutaline',\n",
       "       '20003_1140879798-Treatmentmedication_code_terazosin',\n",
       "       '20003_1140879818-Treatmentmedication_code_metoprolol',\n",
       "       '20003_1140880086-Treatmentmedication_code_calcipotriol',\n",
       "       '20003_1140881446-Treatmentmedication_code_proctosedyl_ointment',\n",
       "       ...\n",
       "       '20112_13-Illnesses_of_adopted_father_Prostate_cancer',\n",
       "       '20112_2-Illnesses_of_adopted_father_Stroke',\n",
       "       '20112_3-Illnesses_of_adopted_father_Lung_cancer',\n",
       "       '20112_4-Illnesses_of_adopted_father_Bowel_cancer',\n",
       "       '20112_6-Illnesses_of_adopted_father_Chronic_bronchitisemphysema',\n",
       "       '20113_1-Illnesses_of_adopted_mother_Heart_disease',\n",
       "       '20113_100-Illnesses_of_adopted_mother_None_of_the_above_group_1',\n",
       "       '20113_12-Illnesses_of_adopted_mother_Severe_depression',\n",
       "       '20113_3-Illnesses_of_adopted_mother_Lung_cancer',\n",
       "       '20113_6-Illnesses_of_adopted_mother_Chronic_bronchitisemphysema'],\n",
       "      dtype='object', length=453)"
      ]
     },
     "metadata": {},
     "output_type": "display_data"
    },
    {
     "data": {
      "text/html": [
       "<h3>Cluster 45.5</h3>"
      ],
      "text/plain": [
       "<IPython.core.display.HTML object>"
      ]
     },
     "metadata": {},
     "output_type": "display_data"
    },
    {
     "data": {
      "text/plain": [
       "394"
      ]
     },
     "metadata": {},
     "output_type": "display_data"
    },
    {
     "data": {
      "text/plain": [
       "Index(['40001_G122-Underlying_primary_cause_of_death_ICD10_G122_Motor_neuron_disease',\n",
       "       '6152_6-Blood_clot_DVT_bronchitis_emphysema_asthma_rhinitis_eczema_allergy_diagnosed_by_doctor_Emphysemachronic_bronchitis',\n",
       "       '6157_100-Why_stopped_smoking_None_of_the_above',\n",
       "       '6157_3-Why_stopped_smoking_Health_precaution',\n",
       "       '6157_4-Why_stopped_smoking_Financial_reasons',\n",
       "       '6160_5-Leisuresocial_activities_Other_group_activity',\n",
       "       '6162_3-Types_of_transport_used_excluding_work_Public_transport',\n",
       "       '6179_4-Mineral_and_other_dietary_supplements_Zinc',\n",
       "       '6179_5-Mineral_and_other_dietary_supplements_Iron',\n",
       "       '6179_6-Mineral_and_other_dietary_supplements_Selenium',\n",
       "       ...\n",
       "       'immune system disease', 'inner ear disease', 'keratitis',\n",
       "       'lacrimal apparatus disease', 'obesity', 'paralytic strabismus',\n",
       "       'polyneuropathy', 'purpura', 'retinal detachment',\n",
       "       'retinal vein occlusion'],\n",
       "      dtype='object', length=394)"
      ]
     },
     "metadata": {},
     "output_type": "display_data"
    },
    {
     "data": {
      "text/html": [
       "<h3>Cluster 45.6</h3>"
      ],
      "text/plain": [
       "<IPython.core.display.HTML object>"
      ]
     },
     "metadata": {},
     "output_type": "display_data"
    },
    {
     "data": {
      "text/plain": [
       "241"
      ]
     },
     "metadata": {},
     "output_type": "display_data"
    },
    {
     "data": {
      "text/plain": [
       "Index(['1021-Duration_of_light_DIY', '102_raw-Pulse_rate_automated_reading',\n",
       "       '1050-Time_spend_outdoors_in_summer',\n",
       "       '1060-Time_spent_outdoors_in_winter',\n",
       "       '1070-Time_spent_watching_television_TV',\n",
       "       '1080-Time_spent_using_computer', '1090-Time_spent_driving',\n",
       "       '1100-Drive_faster_than_motorway_speed_limit',\n",
       "       '110001-Invitation_to_complete_online_24hour_recall_dietary_questionnaire_acceptance',\n",
       "       '1110-Length_of_mobile_phone_use',\n",
       "       ...\n",
       "       'self rated health', 'self reported educational attainment',\n",
       "       'sleep duration', 'smoking behavior', 'smoking cessation',\n",
       "       'snoring measurement', 'tiredness measurement', 'varicose veins',\n",
       "       'wheezing', 'worry measurement'],\n",
       "      dtype='object', length=241)"
      ]
     },
     "metadata": {},
     "output_type": "display_data"
    },
    {
     "data": {
      "text/html": [
       "<h3>Cluster 45.7</h3>"
      ],
      "text/plain": [
       "<IPython.core.display.HTML object>"
      ]
     },
     "metadata": {},
     "output_type": "display_data"
    },
    {
     "data": {
      "text/plain": [
       "218"
      ]
     },
     "metadata": {},
     "output_type": "display_data"
    },
    {
     "data": {
      "text/plain": [
       "Index(['40001_C259-Underlying_primary_cause_of_death_ICD10_C259_Pancreas_unspecified',\n",
       "       '40001_C459-Underlying_primary_cause_of_death_ICD10_C459_Mesothelioma_unspecified',\n",
       "       '41248_3001-Destinations_on_discharge_from_hospital_recoded_High_security_psychiatric_hospital_NHS',\n",
       "       '41248_5003-Destinations_on_discharge_from_hospital_recoded_Transfer_to_other_NHS_provider_Psychiatry_learning_disabilities',\n",
       "       '41248_6000-Destinations_on_discharge_from_hospital_recoded_Transfer_within_NHS_provider',\n",
       "       '4233_raw-Mean_signaltonoise_ratio_SNR_left',\n",
       "       '4244_raw-Mean_signaltonoise_ratio_SNR_right',\n",
       "       '4269-Number_of_triplets_attempted_left',\n",
       "       '4270-Volume_level_set_by_participant_left',\n",
       "       '4276-Number_of_triplets_attempted_right',\n",
       "       ...\n",
       "       '6158_1-Why_reduced_smoking_Illness_or_ill_health',\n",
       "       '6158_100-Why_reduced_smoking_None_of_the_above',\n",
       "       '6158_2-Why_reduced_smoking_Doctors_advice',\n",
       "       '6158_3-Why_reduced_smoking_Health_precaution',\n",
       "       '6158_4-Why_reduced_smoking_Financial_reasons',\n",
       "       '6159_2-Pain_types_experienced_in_last_month_Facial_pain',\n",
       "       '6159_8-Pain_types_experienced_in_last_month_Pain_all_over_the_body',\n",
       "       '6162_100-Types_of_transport_used_excluding_work_None_of_the_above',\n",
       "       '709-Number_in_household', 'C_PANCREAS-Malignant_neoplasm_of_pancreas'],\n",
       "      dtype='object', length=218)"
      ]
     },
     "metadata": {},
     "output_type": "display_data"
    },
    {
     "data": {
      "text/html": [
       "<h3>Cluster 45.8</h3>"
      ],
      "text/plain": [
       "<IPython.core.display.HTML object>"
      ]
     },
     "metadata": {},
     "output_type": "display_data"
    },
    {
     "data": {
      "text/plain": [
       "3"
      ]
     },
     "metadata": {},
     "output_type": "display_data"
    },
    {
     "data": {
      "text/plain": [
       "Index(['eczema', 'seasonal allergic rhinitis',\n",
       "       'seasonal allergic rhinitis AND allergic rhinitis'],\n",
       "      dtype='object')"
      ]
     },
     "metadata": {},
     "output_type": "display_data"
    },
    {
     "data": {
      "text/html": [
       "<h3>Cluster 45.9</h3>"
      ],
      "text/plain": [
       "<IPython.core.display.HTML object>"
      ]
     },
     "metadata": {},
     "output_type": "display_data"
    },
    {
     "data": {
      "text/plain": [
       "766"
      ]
     },
     "metadata": {},
     "output_type": "display_data"
    },
    {
     "data": {
      "text/plain": [
       "Index(['22601_11113200-Job_coding_senior_official_in_central_government_including_members_of_the_senior_civil_service_and_the_equivalent_in_the_diplomatic_service_mps_meps',\n",
       "       '22601_11123211-Job_coding_director_or_chief_executive_of_private_organisationcompany_company_chairman_or_president_general_manager',\n",
       "       '22601_11133201-Job_coding_senior_official_in_local_government_including_parish_or_town_or_county_chief_clerk_chief_or_superintendent_rate_collector_chief_executive_or_director_councillor',\n",
       "       '22601_11143212-Job_coding_senior_official_of_special_interest_organisation_including_general_manager_or_director_or_executive_or_general_secretary_of_charity_or_trade_unionassociation_or_religious_organisation',\n",
       "       '22601_11212692-Job_coding_production_works_or_maintenance_manager',\n",
       "       '22601_11222591-Job_coding_manager_in_construction_clerk_of_works_site_manager_contracts_manager_highways_manager',\n",
       "       '22601_11232861-Job_coding_manager_in_mining_energy_production_or_water_supply',\n",
       "       '22601_11313221-Job_coding_financial_services_manager_chartered_secretary_banker_merchant_or_investment_banker_finance_director_tax_manager',\n",
       "       '22601_11323222-Job_coding_sales_or_marketing_managerdirector_exportimport_manager_business_development_manager_advertisingcommercial_manager',\n",
       "       '22601_11333223-Job_coding_purchasing_managerdirector_not_retail_supplies_manager',\n",
       "       ...\n",
       "       '41248_6005-Destinations_on_discharge_from_hospital_recoded_Transfer_within_NHS_provider_Medical_specialty',\n",
       "       '41248_6007-Destinations_on_discharge_from_hospital_recoded_Transfer_within_NHS_provider_Geriatrics',\n",
       "       '41248_7001-Destinations_on_discharge_from_hospital_recoded_Nursing_residential_care_group_home_NHS',\n",
       "       '41248_7002-Destinations_on_discharge_from_hospital_recoded_Nursing_residential_care_group_home_Local_Authoritory',\n",
       "       '41248_7003-Destinations_on_discharge_from_hospital_recoded_Nursing_residential_care_group_home_NonNHS',\n",
       "       '41248_8002-Destinations_on_discharge_from_hospital_recoded_Other_hospital_NonNHS',\n",
       "       '4195_raw-Pulse_wave_reflection_index',\n",
       "       '4230_raw-Signaltonoiseratio_SNR_of_triplet_left',\n",
       "       '4241_raw-Signaltonoiseratio_SNR_of_triplet_right',\n",
       "       '4462-Average_monthly_intake_of_other_alcoholic_drinks'],\n",
       "      dtype='object', length=766)"
      ]
     },
     "metadata": {},
     "output_type": "display_data"
    },
    {
     "data": {
      "text/html": [
       "<h3>Cluster 45.10</h3>"
      ],
      "text/plain": [
       "<IPython.core.display.HTML object>"
      ]
     },
     "metadata": {},
     "output_type": "display_data"
    },
    {
     "data": {
      "text/plain": [
       "15"
      ]
     },
     "metadata": {},
     "output_type": "display_data"
    },
    {
     "data": {
      "text/plain": [
       "Index(['20003_1140868226-Treatmentmedication_code_aspirin',\n",
       "       '20003_1141146234-Treatmentmedication_code_atorvastatin',\n",
       "       '6150_1-Vascularheart_problems_diagnosed_by_doctor_Heart_attack',\n",
       "       '6150_2-Vascularheart_problems_diagnosed_by_doctor_Angina',\n",
       "       '6154_1-Medication_for_pain_relief_constipation_heartburn_Aspirin',\n",
       "       'I9_CHD-Major_coronary_heart_disease_event',\n",
       "       'I9_CHD_NOREV-Major_coronary_heart_disease_event_excluding_revascularizations',\n",
       "       'I9_CORATHER-Coronary_atherosclerosis',\n",
       "       'I9_IHD-Ischaemic_heart_disease_wide_definition',\n",
       "       'I9_MI-Myocardial_infarction',\n",
       "       'I9_MI_STRICT-Myocardial_infarction_strict',\n",
       "       'IX_CIRCULATORY-Diseases_of_the_circulatory_system',\n",
       "       'acute myocardial infarction', 'angina pectoris',\n",
       "       'myocardial infarction'],\n",
       "      dtype='object')"
      ]
     },
     "metadata": {},
     "output_type": "display_data"
    },
    {
     "data": {
      "text/html": [
       "<h3>Cluster 45.11</h3>"
      ],
      "text/plain": [
       "<IPython.core.display.HTML object>"
      ]
     },
     "metadata": {},
     "output_type": "display_data"
    },
    {
     "data": {
      "text/plain": [
       "11"
      ]
     },
     "metadata": {},
     "output_type": "display_data"
    },
    {
     "data": {
      "text/plain": [
       "Index(['1707_1-Handedness_chiralitylaterality_Righthanded',\n",
       "       '20003_1140865634-Treatmentmedication_code_omeprazole',\n",
       "       'C3_SKIN-Malignant_neoplasm_of_skin',\n",
       "       'C_OTHER_SKIN-Other_malignant_neoplasms_of_skin', 'C_SKIN',\n",
       "       'KNEE_ARTHROSIS-Gonarthrosis_arthrosis_of_kneeFG',\n",
       "       'M13_ARTHROSIS-Arthrosis', 'depressive episode measurement',\n",
       "       'functional laterality', 'osteoarthritis, knee', 'skin neoplasm'],\n",
       "      dtype='object')"
      ]
     },
     "metadata": {},
     "output_type": "display_data"
    },
    {
     "data": {
      "text/html": [
       "<h3>Cluster 45.12</h3>"
      ],
      "text/plain": [
       "<IPython.core.display.HTML object>"
      ]
     },
     "metadata": {},
     "output_type": "display_data"
    },
    {
     "data": {
      "text/plain": [
       "17"
      ]
     },
     "metadata": {},
     "output_type": "display_data"
    },
    {
     "data": {
      "text/plain": [
       "Index(['6152_5-Blood_clot_DVT_bronchitis_emphysema_asthma_rhinitis_eczema_allergy_diagnosed_by_doctor_Blood_clot_in_the_leg_DVT',\n",
       "       'G6_CARPTU-Carpal_tunnel_syndrome',\n",
       "       'G6_NERPLEX-Nerve_nerve_root_and_plexus_disorders',\n",
       "       'I9_DVTANDPULM-DVT_of_lower_extremities_and_pulmonary_embolism',\n",
       "       'I9_PHLETHROMBDVTLOW-DVT_of_lower_extremities',\n",
       "       'I9_VTE-Venous_thromboembolism',\n",
       "       'K11_GALLBILPANC-Disorders_of_gallbladder_biliary_tract_and_pancreas',\n",
       "       'OTHER_ILD_CVD_COMORB-Other_ILDrelated_CVDcomorbidities',\n",
       "       'ULCERNAS-Ulcerative_colitis_NAS',\n",
       "       'VI_NERVOUS-Diseases_of_the_nervous_system',\n",
       "       'XII_SKIN_SUBCUTAN-Diseases_of_the_skin_and_subcutaneous_tissue',\n",
       "       'birth weight', 'cholelithiasis', 'deep vein thrombosis',\n",
       "       'mononeuropathy', 'phlebitis AND thrombophlebitis',\n",
       "       'pulmonary embolism'],\n",
       "      dtype='object')"
      ]
     },
     "metadata": {},
     "output_type": "display_data"
    },
    {
     "data": {
      "text/html": [
       "<h3>Cluster 45.13</h3>"
      ],
      "text/plain": [
       "<IPython.core.display.HTML object>"
      ]
     },
     "metadata": {},
     "output_type": "display_data"
    },
    {
     "data": {
      "text/plain": [
       "49"
      ]
     },
     "metadata": {},
     "output_type": "display_data"
    },
    {
     "data": {
      "text/plain": [
       "Index(['20015_raw-Sitting_height',\n",
       "       '20150_raw-Forced_expiratory_volume_in_1second_FEV1_Best_measure',\n",
       "       '20151_raw-Forced_vital_capacity_FVC_Best_measure',\n",
       "       '20153_raw-Forced_expiratory_volume_in_1second_FEV1_predicted',\n",
       "       '20154_raw-Forced_expiratory_volume_in_1second_FEV1_predicted_percentage',\n",
       "       '21001_raw-Body_mass_index_BMI', '21002_raw-Weight', '23098_raw-Weight',\n",
       "       '23099_raw-Body_fat_percentage', '23100_raw-Whole_body_fat_mass',\n",
       "       '23101_raw-Whole_body_fatfree_mass', '23102_raw-Whole_body_water_mass',\n",
       "       '23104_raw-Body_mass_index_BMI', '23105_raw-Basal_metabolic_rate',\n",
       "       '23106_raw-Impedance_of_whole_body', '23107_raw-Impedance_of_leg_right',\n",
       "       '23108_raw-Impedance_of_leg_left', '23109_raw-Impedance_of_arm_right',\n",
       "       '23110_raw-Impedance_of_arm_left', '23111_raw-Leg_fat_percentage_right',\n",
       "       '23112_raw-Leg_fat_mass_right', '23113_raw-Leg_fatfree_mass_right',\n",
       "       '23114_raw-Leg_predicted_mass_right',\n",
       "       '23115_raw-Leg_fat_percentage_left', '23116_raw-Leg_fat_mass_left',\n",
       "       '23117_raw-Leg_fatfree_mass_left', '23118_raw-Leg_predicted_mass_left',\n",
       "       '23119_raw-Arm_fat_percentage_right', '23120_raw-Arm_fat_mass_right',\n",
       "       '23121_raw-Arm_fatfree_mass_right',\n",
       "       '23122_raw-Arm_predicted_mass_right',\n",
       "       '23123_raw-Arm_fat_percentage_left', '23124_raw-Arm_fat_mass_left',\n",
       "       '23125_raw-Arm_fatfree_mass_left', '23126_raw-Arm_predicted_mass_left',\n",
       "       '23127_raw-Trunk_fat_percentage', '23128_raw-Trunk_fat_mass',\n",
       "       '23129_raw-Trunk_fatfree_mass', '23130_raw-Trunk_predicted_mass',\n",
       "       '3062_raw-Forced_vital_capacity_FVC',\n",
       "       '3063_raw-Forced_expiratory_volume_in_1second_FEV1',\n",
       "       '3064_raw-Peak_expiratory_flow_PEF', '3143_raw-Ankle_spacing_width',\n",
       "       '4100_raw-Ankle_spacing_width_left',\n",
       "       '4119_raw-Ankle_spacing_width_right', '48_raw-Waist_circumference',\n",
       "       '49_raw-Hip_circumference', '50_raw-Standing_height', 'body height'],\n",
       "      dtype='object')"
      ]
     },
     "metadata": {},
     "output_type": "display_data"
    },
    {
     "data": {
      "text/html": [
       "<h3>Cluster 45.14</h3>"
      ],
      "text/plain": [
       "<IPython.core.display.HTML object>"
      ]
     },
     "metadata": {},
     "output_type": "display_data"
    },
    {
     "data": {
      "text/plain": [
       "266"
      ]
     },
     "metadata": {},
     "output_type": "display_data"
    },
    {
     "data": {
      "text/plain": [
       "Index(['20111_101-Illnesses_of_siblings_None_of_the_above_group_2',\n",
       "       '20111_12-Illnesses_of_siblings_Severe_depression',\n",
       "       '20112_8-Illnesses_of_adopted_father_High_blood_pressure',\n",
       "       '20112_9-Illnesses_of_adopted_father_Diabetes',\n",
       "       '20113_10-Illnesses_of_adopted_mother_Alzheimers_diseasedementia',\n",
       "       '20113_101-Illnesses_of_adopted_mother_None_of_the_above_group_2',\n",
       "       '20113_2-Illnesses_of_adopted_mother_Stroke',\n",
       "       '20113_4-Illnesses_of_adopted_mother_Bowel_cancer',\n",
       "       '20113_5-Illnesses_of_adopted_mother_Breast_cancer',\n",
       "       '20113_8-Illnesses_of_adopted_mother_High_blood_pressure',\n",
       "       ...\n",
       "       '22601_31113086-Job_coding_laboratory_technician',\n",
       "       '22601_31122951-Job_coding_electricalelectronics_technician',\n",
       "       '22601_31153052-Job_coding_quality_assurance_technician_or_coordinator',\n",
       "       '22601_31193055-Job_coding_other_engineering_technician_including_materials_technician_technical_assistant_technical_officer',\n",
       "       '22601_32113077-Job_coding_health_visitor',\n",
       "       '22601_32323112-Job_coding_benefits_advisor_citizens_advice_bureau_adviser_debt_counsellor',\n",
       "       '22601_32323410-Job_coding_schoolstudent_counsellor_school_attendance_officer',\n",
       "       '22601_34333162-Job_coding_public_relations_officer_press_officer_information_officer',\n",
       "       '22601_35333266-Job_coding_insurance_underwriter_insurance_inspector_insurance_account_handler',\n",
       "       '22601_35623213-Job_coding_personnel_or_industrial_relations_officer_recruitment_consultant'],\n",
       "      dtype='object', length=266)"
      ]
     },
     "metadata": {},
     "output_type": "display_data"
    },
    {
     "data": {
      "text/html": [
       "<h3>Cluster 45.15</h3>"
      ],
      "text/plain": [
       "<IPython.core.display.HTML object>"
      ]
     },
     "metadata": {},
     "output_type": "display_data"
    },
    {
     "data": {
      "text/plain": [
       "21"
      ]
     },
     "metadata": {},
     "output_type": "display_data"
    },
    {
     "data": {
      "text/plain": [
       "Index(['20003_2038460150-Treatmentmedication_code_paracetamol',\n",
       "       '20016_raw-Fluid_intelligence_score', '20022_raw-Birth_weight',\n",
       "       '20023_raw-Mean_time_to_correctly_identify_matches',\n",
       "       '20074_raw-Home_location_at_assessment_east_coordinate_rounded',\n",
       "       '20077-Number_of_diet_questionnaires_completed',\n",
       "       '20086_8-Type_of_special_diet_followed_Glutenfree',\n",
       "       '20107_1-Illnesses_of_father_Heart_disease',\n",
       "       '20107_100-Illnesses_of_father_None_of_the_above_group_1',\n",
       "       '20107_3-Illnesses_of_father_Lung_cancer',\n",
       "       '20107_8-Illnesses_of_father_High_blood_pressure',\n",
       "       '20107_9-Illnesses_of_father_Diabetes',\n",
       "       '20110_1-Illnesses_of_mother_Heart_disease',\n",
       "       '20110_10-Illnesses_of_mother_Alzheimers_diseasedementia',\n",
       "       '20110_100-Illnesses_of_mother_None_of_the_above_group_1',\n",
       "       '20110_8-Illnesses_of_mother_High_blood_pressure',\n",
       "       '20110_9-Illnesses_of_mother_Diabetes',\n",
       "       '20111_1-Illnesses_of_siblings_Heart_disease',\n",
       "       '20111_100-Illnesses_of_siblings_None_of_the_above_group_1',\n",
       "       '20111_8-Illnesses_of_siblings_High_blood_pressure',\n",
       "       '20111_9-Illnesses_of_siblings_Diabetes'],\n",
       "      dtype='object')"
      ]
     },
     "metadata": {},
     "output_type": "display_data"
    },
    {
     "data": {
      "text/html": [
       "<h3>Cluster 45.16</h3>"
      ],
      "text/plain": [
       "<IPython.core.display.HTML object>"
      ]
     },
     "metadata": {},
     "output_type": "display_data"
    },
    {
     "data": {
      "text/plain": [
       "7"
      ]
     },
     "metadata": {},
     "output_type": "display_data"
    },
    {
     "data": {
      "text/plain": [
       "Index(['1717-Skin_colour', '1727-Ease_of_skin_tanning',\n",
       "       '1747_1-Hair_colour_natural_before_greying_Blonde',\n",
       "       '1747_2-Hair_colour_natural_before_greying_Red',\n",
       "       '1747_3-Hair_colour_natural_before_greying_Light_brown',\n",
       "       '1747_4-Hair_colour_natural_before_greying_Dark_brown',\n",
       "       '1747_5-Hair_colour_natural_before_greying_Black'],\n",
       "      dtype='object')"
      ]
     },
     "metadata": {},
     "output_type": "display_data"
    },
    {
     "data": {
      "text/html": [
       "<h3>Cluster 45.17</h3>"
      ],
      "text/plain": [
       "<IPython.core.display.HTML object>"
      ]
     },
     "metadata": {},
     "output_type": "display_data"
    },
    {
     "data": {
      "text/plain": [
       "5"
      ]
     },
     "metadata": {},
     "output_type": "display_data"
    },
    {
     "data": {
      "text/plain": [
       "Index(['30080_raw-Platelet_count', '30090_raw-Platelet_crit',\n",
       "       '30100_raw-Mean_platelet_thrombocyte_volume',\n",
       "       '30110_raw-Platelet_distribution_width', 'platelet count'],\n",
       "      dtype='object')"
      ]
     },
     "metadata": {},
     "output_type": "display_data"
    },
    {
     "data": {
      "text/html": [
       "<h3>Cluster 45.18</h3>"
      ],
      "text/plain": [
       "<IPython.core.display.HTML object>"
      ]
     },
     "metadata": {},
     "output_type": "display_data"
    },
    {
     "data": {
      "text/plain": [
       "6"
      ]
     },
     "metadata": {},
     "output_type": "display_data"
    },
    {
     "data": {
      "text/plain": [
       "Index(['40001_C349-Underlying_primary_cause_of_death_ICD10_C349_Bronchus_or_lung_unspecified',\n",
       "       'C3_RESPIRATORY_INTRATHORACIC-Malignant_neoplasm_of_respiratory_system_and_intrathoracic_organs',\n",
       "       'C_BRONCHUS_LUNG-Malignant_neoplasm_of_bronchus_and_lung',\n",
       "       'C_RESPIRATORY_INTRATHORACIC',\n",
       "       'LUNG_CANCER_MESOT-Lung_cancer_and_mesothelioma', 'lung carcinoma'],\n",
       "      dtype='object')"
      ]
     },
     "metadata": {},
     "output_type": "display_data"
    },
    {
     "data": {
      "text/html": [
       "<h3>Cluster 45.19</h3>"
      ],
      "text/plain": [
       "<IPython.core.display.HTML object>"
      ]
     },
     "metadata": {},
     "output_type": "display_data"
    },
    {
     "data": {
      "text/plain": [
       "43"
      ]
     },
     "metadata": {},
     "output_type": "display_data"
    },
    {
     "data": {
      "text/plain": [
       "Index(['129_raw-Place_of_birth_in_UK_north_coordinate',\n",
       "       '20075_raw-Home_location_at_assessment_north_coordinate_rounded',\n",
       "       '22704_raw-Home_location_north_coordinate_rounded',\n",
       "       'ASTHMA_PNEUMONIA-Asthmarelated_pneumonia',\n",
       "       'G6_EPIPAROX-Episodal_and_paroxysmal_disorders',\n",
       "       'G6_SLEEPAPNO-Sleep_apnoea',\n",
       "       'L12_ATROPHICSKIN-Atrophic_disorders_of_skin',\n",
       "       'L12_SCARCONDITIONS-Scar_conditions_and_fibrosis_of_skin',\n",
       "       'M13_DORSOPATHYOTH-Other_dorsopathies_not_elsewhere_classified',\n",
       "       'M13_MUSCULOSKELEOTH-Other_disorders_of_the_musculoskeletal_system_and_connective_tissue',\n",
       "       'M13_SACROCOGG-Sacrococcygeal_disorders_not_elsewhere_classified',\n",
       "       'PNEUMONIA-Pneumonias_AsthmaCOPD_comorbidities',\n",
       "       'SLEEP-Sleep_disorders_combined', 'abdominal injury', 'bone disease',\n",
       "       'cardiac arrhythmia', 'checkup',\n",
       "       'chronic obstructive pulmonary disease', 'device complication',\n",
       "       'encounter with health service', 'female reproductive system disease',\n",
       "       'follow-up', 'head injury', 'headache', 'heart disease', 'injury',\n",
       "       'joint disease', 'kidney failure', 'leg injury', 'lower limb pain',\n",
       "       'mesothelioma', 'musculoskeletal system disease',\n",
       "       'musculoskeletal system disease AND connective tissue disease',\n",
       "       'nasal cavity polyp', 'pericarditis', 'pneumonia', 'poisoning',\n",
       "       'pregnancy disorder', 'skin atrophy', 'sleep disorder',\n",
       "       'soft tissue disease', 'urogenital neoplasm', 'wrist fracture'],\n",
       "      dtype='object')"
      ]
     },
     "metadata": {},
     "output_type": "display_data"
    },
    {
     "data": {
      "text/html": [
       "<h3>Cluster 45.20</h3>"
      ],
      "text/plain": [
       "<IPython.core.display.HTML object>"
      ]
     },
     "metadata": {},
     "output_type": "display_data"
    },
    {
     "data": {
      "text/plain": [
       "321"
      ]
     },
     "metadata": {},
     "output_type": "display_data"
    },
    {
     "data": {
      "text/plain": [
       "Index(['40001_C719-Underlying_primary_cause_of_death_ICD10_C719_Brain_unspecified',\n",
       "       'ASTHMA_CHILD-Childhood_asthma_age16',\n",
       "       'ASTHMA_HOSPITAL1-Asthma_hospital_admissions_1',\n",
       "       'BACT_INTEST_INFECTION_NOS-Other_specifiedunspecified_bacterial_intestinal_infections',\n",
       "       'C3_DIGESTIVE_ORGANS-Malignant_neoplasm_of_digestive_organs',\n",
       "       'C3_EYE_BRAIN_NEURO-Malignant_neoplasm_of_eye_brain_and_central_nervous_system',\n",
       "       'C3_URINARY_TRACT-Malignant_neoplasm_of_urinary_organs',\n",
       "       'C_BLADDER-Malignant_neoplasm_of_bladder',\n",
       "       'C_BRAIN-Malignant_neoplasm_of_brain',\n",
       "       'C_COLON-Malignant_neoplasm_of_colon',\n",
       "       ...\n",
       "       'iron deficiency anemia', 'kidney neoplasm', 'knee injury',\n",
       "       'muscular disease', 'pigmentation disease', 'skeletal system disease',\n",
       "       'skin disease', 'suppurative otitis media', 'tenosynovitis',\n",
       "       'vasculitis'],\n",
       "      dtype='object', length=321)"
      ]
     },
     "metadata": {},
     "output_type": "display_data"
    },
    {
     "data": {
      "text/html": [
       "<h3>Cluster 45.21</h3>"
      ],
      "text/plain": [
       "<IPython.core.display.HTML object>"
      ]
     },
     "metadata": {},
     "output_type": "display_data"
    },
    {
     "data": {
      "text/plain": [
       "4"
      ]
     },
     "metadata": {},
     "output_type": "display_data"
    },
    {
     "data": {
      "text/plain": [
       "Index(['C3_MALE_GENITAL-malignant_neoplasm_of_male_genital_organs',\n",
       "       'C_MALE_GENITAL', 'C_PROSTATE-Malignant_neoplasm_of_prostate',\n",
       "       'prostate carcinoma'],\n",
       "      dtype='object')"
      ]
     },
     "metadata": {},
     "output_type": "display_data"
    },
    {
     "data": {
      "text/html": [
       "<h3>Cluster 45.22</h3>"
      ],
      "text/plain": [
       "<IPython.core.display.HTML object>"
      ]
     },
     "metadata": {},
     "output_type": "display_data"
    },
    {
     "data": {
      "text/plain": [
       "8"
      ]
     },
     "metadata": {},
     "output_type": "display_data"
    },
    {
     "data": {
      "text/plain": [
       "Index(['24013-Total_traffic_load_on_major_roads', '24014-Close_to_major_road',\n",
       "       '24015-Sum_of_road_length_of_major_roads_within_100m',\n",
       "       '24020_raw-Average_daytime_sound_level_of_noise_pollution',\n",
       "       '24021_raw-Average_evening_sound_level_of_noise_pollution',\n",
       "       '24022_raw-Average_nighttime_sound_level_of_noise_pollution',\n",
       "       '24023_raw-Average_16hour_sound_level_of_noise_pollution',\n",
       "       '24024_raw-Average_24hour_sound_level_of_noise_pollution'],\n",
       "      dtype='object')"
      ]
     },
     "metadata": {},
     "output_type": "display_data"
    },
    {
     "data": {
      "text/html": [
       "<h3>Cluster 45.23</h3>"
      ],
      "text/plain": [
       "<IPython.core.display.HTML object>"
      ]
     },
     "metadata": {},
     "output_type": "display_data"
    },
    {
     "data": {
      "text/plain": [
       "5"
      ]
     },
     "metadata": {},
     "output_type": "display_data"
    },
    {
     "data": {
      "text/plain": [
       "Index(['F5_ALLANXIOUS-All_anxiety_disorders',\n",
       "       'F5_ANXIETY-Other_anxiety_disorders',\n",
       "       'KRA_PSY_ANXIETY-Anxiety_disorders',\n",
       "       'PULM_ANXIETY-Anxiety_asthmarelated_comorbidities', 'anxiety disorder'],\n",
       "      dtype='object')"
      ]
     },
     "metadata": {},
     "output_type": "display_data"
    },
    {
     "data": {
      "text/html": [
       "<h3>Cluster 45.24</h3>"
      ],
      "text/plain": [
       "<IPython.core.display.HTML object>"
      ]
     },
     "metadata": {},
     "output_type": "display_data"
    },
    {
     "data": {
      "text/plain": [
       "6"
      ]
     },
     "metadata": {},
     "output_type": "display_data"
    },
    {
     "data": {
      "text/plain": [
       "Index(['ASTHMA_MEDICATIO_COMORB-Medication_related_adverse_effects',\n",
       "       'H7_LENS-Disorders_of_lens',\n",
       "       'PULM_MEDICATIO_COMORB-Medication_related_adverse_effects_AsthmaCOPD',\n",
       "       'VII_EYE_ADNEXA-Diseases_of_the_eye_and_adnexa', 'age-related cataract',\n",
       "       'cataract'],\n",
       "      dtype='object')"
      ]
     },
     "metadata": {},
     "output_type": "display_data"
    },
    {
     "data": {
      "text/html": [
       "<h3>Cluster 45.25</h3>"
      ],
      "text/plain": [
       "<IPython.core.display.HTML object>"
      ]
     },
     "metadata": {},
     "output_type": "display_data"
    },
    {
     "data": {
      "text/plain": [
       "18"
      ]
     },
     "metadata": {},
     "output_type": "display_data"
    },
    {
     "data": {
      "text/plain": [
       "Index(['100001_raw-Food_weight', '100002_raw-Energy', '100003_raw-Protein',\n",
       "       '100004_raw-Fat', '100005_raw-Carbohydrate', '100006_raw-Saturated_fat',\n",
       "       '100007_raw-Polyunsaturated_fat', '100008_raw-Total_sugars',\n",
       "       '100009_raw-Englyst_dietary_fibre', '100011_raw-Iron',\n",
       "       '100012_raw-Vitamin_B6', '100014_raw-Folate', '100015_raw-Vitamin_C',\n",
       "       '100016_raw-Potassium', '100017_raw-Magnesium', '100023_raw-Starch',\n",
       "       '100024_raw-Calcium', '100025_raw-Vitamin_E'],\n",
       "      dtype='object')"
      ]
     },
     "metadata": {},
     "output_type": "display_data"
    },
    {
     "data": {
      "text/html": [
       "<h3>Cluster 45.26</h3>"
      ],
      "text/plain": [
       "<IPython.core.display.HTML object>"
      ]
     },
     "metadata": {},
     "output_type": "display_data"
    },
    {
     "data": {
      "text/plain": [
       "7"
      ]
     },
     "metadata": {},
     "output_type": "display_data"
    },
    {
     "data": {
      "text/plain": [
       "Index(['5984_raw-ECG_load', '5986_raw-ECG_phase_time',\n",
       "       '5992-ECG_phase_duration', '5993-ECG_number_of_stages_in_a_phase',\n",
       "       '6032_raw-Maximum_workload_during_fitness_test',\n",
       "       '6038_raw-Number_of_trend_entries', '6039-Duration_of_fitness_test'],\n",
       "      dtype='object')"
      ]
     },
     "metadata": {},
     "output_type": "display_data"
    },
    {
     "data": {
      "text/html": [
       "<h3>Cluster 45.27</h3>"
      ],
      "text/plain": [
       "<IPython.core.display.HTML object>"
      ]
     },
     "metadata": {},
     "output_type": "display_data"
    },
    {
     "data": {
      "text/plain": [
       "15"
      ]
     },
     "metadata": {},
     "output_type": "display_data"
    },
    {
     "data": {
      "text/plain": [
       "Index(['20003_1140861958-Treatmentmedication_code_simvastatin',\n",
       "       '20003_1140879802-Treatmentmedication_code_amlodipine',\n",
       "       '20003_1141194794-Treatmentmedication_code_bendroflumethiazide',\n",
       "       '4079_raw-Diastolic_blood_pressure_automated_reading',\n",
       "       '4080_raw-Systolic_blood_pressure_automated_reading',\n",
       "       '6150_100-Vascularheart_problems_diagnosed_by_doctor_None_of_the_above',\n",
       "       '6150_4-Vascularheart_problems_diagnosed_by_doctor_High_blood_pressure',\n",
       "       '6153_1-Medication_for_cholesterol_blood_pressure_diabetes_or_take_exogenous_hormones_Cholesterol_lowering_medication',\n",
       "       '6153_100-Medication_for_cholesterol_blood_pressure_diabetes_or_take_exogenous_hormones_None_of_the_above',\n",
       "       '6153_2-Medication_for_cholesterol_blood_pressure_diabetes_or_take_exogenous_hormones_Blood_pressure_medication',\n",
       "       '6177_1-Medication_for_cholesterol_blood_pressure_or_diabetes_Cholesterol_lowering_medication',\n",
       "       '6177_100-Medication_for_cholesterol_blood_pressure_or_diabetes_None_of_the_above',\n",
       "       '6177_2-Medication_for_cholesterol_blood_pressure_or_diabetes_Blood_pressure_medication',\n",
       "       'hypercholesterolemia', 'hypertension'],\n",
       "      dtype='object')"
      ]
     },
     "metadata": {},
     "output_type": "display_data"
    },
    {
     "data": {
      "text/html": [
       "<h3>Cluster 45.28</h3>"
      ],
      "text/plain": [
       "<IPython.core.display.HTML object>"
      ]
     },
     "metadata": {},
     "output_type": "display_data"
    },
    {
     "data": {
      "text/plain": [
       "3"
      ]
     },
     "metadata": {},
     "output_type": "display_data"
    },
    {
     "data": {
      "text/plain": [
       "Index(['L12_ACTINKERA-Actinic_keratosis',\n",
       "       'L12_NONIONRADISKIN-Skin_changes_due_to_chronic_exposure_to_nonionizing_radiation',\n",
       "       'radiation-induced disorder'],\n",
       "      dtype='object')"
      ]
     },
     "metadata": {},
     "output_type": "display_data"
    },
    {
     "data": {
      "text/html": [
       "<h3>Cluster 45.29</h3>"
      ],
      "text/plain": [
       "<IPython.core.display.HTML object>"
      ]
     },
     "metadata": {},
     "output_type": "display_data"
    },
    {
     "data": {
      "text/plain": [
       "15"
      ]
     },
     "metadata": {},
     "output_type": "display_data"
    },
    {
     "data": {
      "text/plain": [
       "Index(['30010_raw-Red_blood_cell_erythrocyte_count',\n",
       "       '30020_raw-Haemoglobin_concentration',\n",
       "       '30030_raw-Haematocrit_percentage', '30040_raw-Mean_corpuscular_volume',\n",
       "       '30050_raw-Mean_corpuscular_haemoglobin',\n",
       "       '30070_raw-Red_blood_cell_erythrocyte_distribution_width',\n",
       "       '30240_raw-Reticulocyte_percentage', '30250_raw-Reticulocyte_count',\n",
       "       '30260_raw-Mean_reticulocyte_volume',\n",
       "       '30270_raw-Mean_sphered_cell_volume',\n",
       "       '30280_raw-Immature_reticulocyte_fraction',\n",
       "       '30290_raw-High_light_scatter_reticulocyte_percentage',\n",
       "       '30300_raw-High_light_scatter_reticulocyte_count', 'erythrocyte count',\n",
       "       'reticulocyte count'],\n",
       "      dtype='object')"
      ]
     },
     "metadata": {},
     "output_type": "display_data"
    },
    {
     "data": {
      "text/html": [
       "<h3>Cluster 45.30</h3>"
      ],
      "text/plain": [
       "<IPython.core.display.HTML object>"
      ]
     },
     "metadata": {},
     "output_type": "display_data"
    },
    {
     "data": {
      "text/plain": [
       "14"
      ]
     },
     "metadata": {},
     "output_type": "display_data"
    },
    {
     "data": {
      "text/plain": [
       "Index(['20003_1140884516-Treatmentmedication_code_thyroxine_product',\n",
       "       'K11_OTHDIG-Other_diseases_of_the_digestive_system',\n",
       "       'M13_POLYARTHROPATHIES-Polyarthropathies',\n",
       "       'M13_RHEUMA-Rheumatoid_arthritis',\n",
       "       'RHEUMA_NOS-Otherunspecified_rheumatoid_arthritis',\n",
       "       'RHEUMA_SEROPOS-Seropositive_rheumatoid_arthritis',\n",
       "       'RHEUMA_SEROPOS_OTH-Otherunspecified_seropositiverheumatoid_arthritis',\n",
       "       'STILL_ADULT-Adultonset_Still_disease', 'adrenocortical insufficiency',\n",
       "       'ankylosing spondylitis', 'benign prostatic hyperplasia', 'hematuria',\n",
       "       'multiple sclerosis', 'psoriatic arthritis'],\n",
       "      dtype='object')"
      ]
     },
     "metadata": {},
     "output_type": "display_data"
    },
    {
     "data": {
      "text/html": [
       "<h3>Cluster 45.31</h3>"
      ],
      "text/plain": [
       "<IPython.core.display.HTML object>"
      ]
     },
     "metadata": {},
     "output_type": "display_data"
    },
    {
     "data": {
      "text/plain": [
       "1"
      ]
     },
     "metadata": {},
     "output_type": "display_data"
    },
    {
     "data": {
      "text/plain": [
       "Index(['30060_raw-Mean_corpuscular_haemoglobin_concentration'], dtype='object')"
      ]
     },
     "metadata": {},
     "output_type": "display_data"
    },
    {
     "data": {
      "text/html": [
       "<h3>Cluster 45.32</h3>"
      ],
      "text/plain": [
       "<IPython.core.display.HTML object>"
      ]
     },
     "metadata": {},
     "output_type": "display_data"
    },
    {
     "data": {
      "text/plain": [
       "8"
      ]
     },
     "metadata": {},
     "output_type": "display_data"
    },
    {
     "data": {
      "text/plain": [
       "Index(['24003_raw-Nitrogen_dioxide_air_pollution_2010',\n",
       "       '24004_raw-Nitrogen_oxides_air_pollution_2010',\n",
       "       '24006_raw-Particulate_matter_air_pollution_pm25_2010',\n",
       "       '24007_raw-Particulate_matter_air_pollution_pm25_absorbance_2010',\n",
       "       '24016_raw-Nitrogen_dioxide_air_pollution_2005',\n",
       "       '24017_raw-Nitrogen_dioxide_air_pollution_2006',\n",
       "       '24018_raw-Nitrogen_dioxide_air_pollution_2007',\n",
       "       '24019_raw-Particulate_matter_air_pollution_pm10_2007'],\n",
       "      dtype='object')"
      ]
     },
     "metadata": {},
     "output_type": "display_data"
    },
    {
     "data": {
      "text/html": [
       "<h3>Cluster 45.33</h3>"
      ],
      "text/plain": [
       "<IPython.core.display.HTML object>"
      ]
     },
     "metadata": {},
     "output_type": "display_data"
    },
    {
     "data": {
      "text/plain": [
       "8"
      ]
     },
     "metadata": {},
     "output_type": "display_data"
    },
    {
     "data": {
      "text/plain": [
       "Index(['5096_raw-3mm_weak_meridian_left', '5097_raw-6mm_weak_meridian_left',\n",
       "       '5098_raw-6mm_weak_meridian_right', '5099_raw-3mm_weak_meridian_right',\n",
       "       '5132_raw-3mm_strong_meridian_right',\n",
       "       '5133_raw-6mm_strong_meridian_right',\n",
       "       '5134_raw-6mm_strong_meridian_left',\n",
       "       '5135_raw-3mm_strong_meridian_left'],\n",
       "      dtype='object')"
      ]
     },
     "metadata": {},
     "output_type": "display_data"
    },
    {
     "data": {
      "text/html": [
       "<h3>Cluster 45.34</h3>"
      ],
      "text/plain": [
       "<IPython.core.display.HTML object>"
      ]
     },
     "metadata": {},
     "output_type": "display_data"
    },
    {
     "data": {
      "text/plain": [
       "1"
      ]
     },
     "metadata": {},
     "output_type": "display_data"
    },
    {
     "data": {
      "text/plain": [
       "Index(['mineral metabolism disease'], dtype='object')"
      ]
     },
     "metadata": {},
     "output_type": "display_data"
    },
    {
     "data": {
      "text/html": [
       "<h3>Cluster 45.35</h3>"
      ],
      "text/plain": [
       "<IPython.core.display.HTML object>"
      ]
     },
     "metadata": {},
     "output_type": "display_data"
    },
    {
     "data": {
      "text/plain": [
       "4"
      ]
     },
     "metadata": {},
     "output_type": "display_data"
    },
    {
     "data": {
      "text/plain": [
       "Index(['HEARTFAIL-Heart_failure', 'I9_HEARTFAIL-Heart_failurestrict',\n",
       "       'I9_HEARTFAIL_NS-Heart_failure_not_strict', 'heart failure'],\n",
       "      dtype='object')"
      ]
     },
     "metadata": {},
     "output_type": "display_data"
    },
    {
     "data": {
      "text/html": [
       "<h3>Cluster 45.36</h3>"
      ],
      "text/plain": [
       "<IPython.core.display.HTML object>"
      ]
     },
     "metadata": {},
     "output_type": "display_data"
    },
    {
     "data": {
      "text/plain": [
       "4"
      ]
     },
     "metadata": {},
     "output_type": "display_data"
    },
    {
     "data": {
      "text/plain": [
       "Index(['COPD_EXCL-COPD_differential_diagnosis',\n",
       "       'ILD_DIFF_DG-ILD_differential_diagnosis',\n",
       "       'PULMONARYDG-Other_pulmonary_diagnosis',\n",
       "       'X_RESPIRATORY-Diseases_of_the_respiratory_system'],\n",
       "      dtype='object')"
      ]
     },
     "metadata": {},
     "output_type": "display_data"
    },
    {
     "data": {
      "text/html": [
       "<h3>Cluster 45.37</h3>"
      ],
      "text/plain": [
       "<IPython.core.display.HTML object>"
      ]
     },
     "metadata": {},
     "output_type": "display_data"
    },
    {
     "data": {
      "text/plain": [
       "5"
      ]
     },
     "metadata": {},
     "output_type": "display_data"
    },
    {
     "data": {
      "text/plain": [
       "Index(['C_STROKE-STROKE', 'I9_STR-Stroke_excluding_SAH',\n",
       "       'I9_STR_EXH-Ischaemic_Stroke_excluding_all_haemorrhages',\n",
       "       'I9_STR_SAH-Stroke_including_SAH', 'brain infarction'],\n",
       "      dtype='object')"
      ]
     },
     "metadata": {},
     "output_type": "display_data"
    },
    {
     "data": {
      "text/html": [
       "<h3>Cluster 45.38</h3>"
      ],
      "text/plain": [
       "<IPython.core.display.HTML object>"
      ]
     },
     "metadata": {},
     "output_type": "display_data"
    },
    {
     "data": {
      "text/plain": [
       "1"
      ]
     },
     "metadata": {},
     "output_type": "display_data"
    },
    {
     "data": {
      "text/plain": [
       "Index(['1737-Childhood_sunburn_occasions'], dtype='object')"
      ]
     },
     "metadata": {},
     "output_type": "display_data"
    },
    {
     "data": {
      "text/html": [
       "<h3>Cluster 45.39</h3>"
      ],
      "text/plain": [
       "<IPython.core.display.HTML object>"
      ]
     },
     "metadata": {},
     "output_type": "display_data"
    },
    {
     "data": {
      "text/plain": [
       "12"
      ]
     },
     "metadata": {},
     "output_type": "display_data"
    },
    {
     "data": {
      "text/plain": [
       "Index(['3144_raw-Heel_Broadband_ultrasound_attenuation_direct_entry',\n",
       "       '3147_raw-Heel_quantitative_ultrasound_index_QUI_direct_entry',\n",
       "       '3148_raw-Heel_bone_mineral_density_BMD',\n",
       "       '4101_raw-Heel_broadband_ultrasound_attenuation_left',\n",
       "       '4104_raw-Heel_quantitative_ultrasound_index_QUI_direct_entry_left',\n",
       "       '4105_raw-Heel_bone_mineral_density_BMD_left',\n",
       "       '4106_raw-Heel_bone_mineral_density_BMD_Tscore_automated_left',\n",
       "       '4120_raw-Heel_broadband_ultrasound_attenuation_right',\n",
       "       '4123_raw-Heel_quantitative_ultrasound_index_QUI_direct_entry_right',\n",
       "       '4124_raw-Heel_bone_mineral_density_BMD_right',\n",
       "       '4125_raw-Heel_bone_mineral_density_BMD_Tscore_automated_right',\n",
       "       '78_raw-Heel_bone_mineral_density_BMD_Tscore_automated'],\n",
       "      dtype='object')"
      ]
     },
     "metadata": {},
     "output_type": "display_data"
    },
    {
     "data": {
      "text/html": [
       "<h3>Cluster 45.40</h3>"
      ],
      "text/plain": [
       "<IPython.core.display.HTML object>"
      ]
     },
     "metadata": {},
     "output_type": "display_data"
    },
    {
     "data": {
      "text/plain": [
       "17"
      ]
     },
     "metadata": {},
     "output_type": "display_data"
    },
    {
     "data": {
      "text/plain": [
       "Index(['20003_1140883066-Treatmentmedication_code_insulin_product',\n",
       "       '20003_1141191044-Treatmentmedication_code_levothyroxine_sodium',\n",
       "       '2976_raw-Age_diabetes_diagnosed',\n",
       "       '2986-Started_insulin_within_one_year_diagnosis_of_diabetes',\n",
       "       '6144_3-Never_eat_eggs_dairy_wheat_sugar_Wheat_products',\n",
       "       '6153_3-Medication_for_cholesterol_blood_pressure_diabetes_or_take_exogenous_hormones_Insulin',\n",
       "       '6177_3-Medication_for_cholesterol_blood_pressure_or_diabetes_Insulin',\n",
       "       'K11_COELIAC-Coeliac_disease', 'celiac disease',\n",
       "       'hyperthyroidism AND thyrotoxicosis', 'hypothyroidism AND myxedema',\n",
       "       'malabsorption syndrome', 'psoriasis', 'rheumatoid arthritis',\n",
       "       'sarcoidosis', 'systemic lupus erythematosus',\n",
       "       'type i diabetes mellitus'],\n",
       "      dtype='object')"
      ]
     },
     "metadata": {},
     "output_type": "display_data"
    },
    {
     "data": {
      "text/html": [
       "<h3>Cluster 45.41</h3>"
      ],
      "text/plain": [
       "<IPython.core.display.HTML object>"
      ]
     },
     "metadata": {},
     "output_type": "display_data"
    },
    {
     "data": {
      "text/plain": [
       "3"
      ]
     },
     "metadata": {},
     "output_type": "display_data"
    },
    {
     "data": {
      "text/plain": [
       "Index(['M13_DUPUTRYEN-Palmar_fascial_fibromatosis_Dupuytren',\n",
       "       'M13_FIBROBLASTIC-Fibroblastic_disorders', 'fibroblastic disorder'],\n",
       "      dtype='object')"
      ]
     },
     "metadata": {},
     "output_type": "display_data"
    },
    {
     "data": {
      "text/html": [
       "<h3>Cluster 45.42</h3>"
      ],
      "text/plain": [
       "<IPython.core.display.HTML object>"
      ]
     },
     "metadata": {},
     "output_type": "display_data"
    },
    {
     "data": {
      "text/plain": [
       "6"
      ]
     },
     "metadata": {},
     "output_type": "display_data"
    },
    {
     "data": {
      "text/plain": [
       "Index(['20003_1140861998-Treatmentmedication_code_ventolin_100micrograms_inhaler',\n",
       "       '30120_raw-Lymphocyte_count',\n",
       "       '6152_100-Blood_clot_DVT_bronchitis_emphysema_asthma_rhinitis_eczema_allergy_diagnosed_by_doctor_None_of_the_above',\n",
       "       '6152_8-Blood_clot_DVT_bronchitis_emphysema_asthma_rhinitis_eczema_allergy_diagnosed_by_doctor_Asthma',\n",
       "       '6152_9-Blood_clot_DVT_bronchitis_emphysema_asthma_rhinitis_eczema_allergy_diagnosed_by_doctor_Hayfever_allergic_rhinitis_or_eczema',\n",
       "       'asthma'],\n",
       "      dtype='object')"
      ]
     },
     "metadata": {},
     "output_type": "display_data"
    },
    {
     "data": {
      "text/html": [
       "<h3>Cluster 45.43</h3>"
      ],
      "text/plain": [
       "<IPython.core.display.HTML object>"
      ]
     },
     "metadata": {},
     "output_type": "display_data"
    },
    {
     "data": {
      "text/plain": [
       "1"
      ]
     },
     "metadata": {},
     "output_type": "display_data"
    },
    {
     "data": {
      "text/plain": [
       "Index(['6149_1-Mouthteeth_dental_problems_Mouth_ulcers'], dtype='object')"
      ]
     },
     "metadata": {},
     "output_type": "display_data"
    },
    {
     "data": {
      "text/html": [
       "<h3>Cluster 45.44</h3>"
      ],
      "text/plain": [
       "<IPython.core.display.HTML object>"
      ]
     },
     "metadata": {},
     "output_type": "display_data"
    },
    {
     "data": {
      "text/plain": [
       "2"
      ]
     },
     "metadata": {},
     "output_type": "display_data"
    },
    {
     "data": {
      "text/plain": [
       "Index(['46_raw-Hand_grip_strength_left', '47_raw-Hand_grip_strength_right'], dtype='object')"
      ]
     },
     "metadata": {},
     "output_type": "display_data"
    },
    {
     "data": {
      "text/html": [
       "<h2>Partition with k=46</h2>"
      ],
      "text/plain": [
       "<IPython.core.display.HTML object>"
      ]
     },
     "metadata": {},
     "output_type": "display_data"
    },
    {
     "data": {
      "text/plain": [
       "method                              eac_average_coassoc_matrix\n",
       "partition    [25, 25, 25, 25, 25, 25, 25, 25, 25, 0, 25, 25...\n",
       "ami_mean                                               0.28545\n",
       "selected                                                  True\n",
       "Name: 46, dtype: object"
      ]
     },
     "metadata": {},
     "output_type": "display_data"
    },
    {
     "data": {
      "text/plain": [
       "(3752,)"
      ]
     },
     "metadata": {},
     "output_type": "display_data"
    },
    {
     "data": {
      "text/plain": [
       "9     766\n",
       "0     704\n",
       "4     453\n",
       "5     394\n",
       "20    321\n",
       "6     266\n",
       "2     241\n",
       "7     218\n",
       "13     49\n",
       "19     43\n",
       "15     21\n",
       "3      19\n",
       "1      18\n",
       "25     18\n",
       "40     17\n",
       "12     17\n",
       "10     15\n",
       "27     15\n",
       "29     15\n",
       "30     14\n",
       "39     12\n",
       "11     11\n",
       "32      8\n",
       "45      8\n",
       "33      8\n",
       "26      7\n",
       "16      7\n",
       "42      6\n",
       "18      6\n",
       "24      6\n",
       "37      5\n",
       "14      5\n",
       "23      5\n",
       "17      5\n",
       "21      4\n",
       "36      4\n",
       "35      4\n",
       "28      3\n",
       "8       3\n",
       "41      3\n",
       "22      2\n",
       "44      2\n",
       "43      1\n",
       "34      1\n",
       "31      1\n",
       "38      1\n",
       "dtype: int64"
      ]
     },
     "metadata": {},
     "output_type": "display_data"
    },
    {
     "data": {
      "text/html": [
       "<h3>Cluster 46.0</h3>"
      ],
      "text/plain": [
       "<IPython.core.display.HTML object>"
      ]
     },
     "metadata": {},
     "output_type": "display_data"
    },
    {
     "data": {
      "text/plain": [
       "704"
      ]
     },
     "metadata": {},
     "output_type": "display_data"
    },
    {
     "data": {
      "text/plain": [
       "Index(['100010-Portion_size', '100013_raw-Vitamin_B12', '100018_raw-Retinol',\n",
       "       '100019_raw-Carotene', '100021_raw-Vitamin_D', '100022-Alcohol',\n",
       "       '1001-Duration_of_strenuous_sports', '100150-Drinking_water_intake',\n",
       "       '100160-Low_calorie_drink_intake', '100170-Fizzy_drink_intake',\n",
       "       ...\n",
       "       'viral disease', 'viral human hepatitis infection', 'viral meningitis',\n",
       "       'visual impairment', 'vitiligo', 'vitreous body disease',\n",
       "       'vocal cord polyp', 'voice disorders',\n",
       "       'wellbeing measurement AND family relationship', 'whooping cough'],\n",
       "      dtype='object', length=704)"
      ]
     },
     "metadata": {},
     "output_type": "display_data"
    },
    {
     "data": {
      "text/html": [
       "<h3>Cluster 46.1</h3>"
      ],
      "text/plain": [
       "<IPython.core.display.HTML object>"
      ]
     },
     "metadata": {},
     "output_type": "display_data"
    },
    {
     "data": {
      "text/plain": [
       "18"
      ]
     },
     "metadata": {},
     "output_type": "display_data"
    },
    {
     "data": {
      "text/plain": [
       "Index(['30000_raw-White_blood_cell_leukocyte_count',\n",
       "       '30130_raw-Monocyte_count', '30140_raw-Neutrophill_count',\n",
       "       '30150-Eosinophill_count', '30180_raw-Lymphocyte_percentage',\n",
       "       '30190_raw-Monocyte_percentage', '30200_raw-Neutrophill_percentage',\n",
       "       '30210_raw-Eosinophill_percentage', 'eosinophil count',\n",
       "       'granulocyte count', 'leukocyte count', 'lymphocyte count',\n",
       "       'monocyte count', 'myeloid white cell count', 'neutrophil count',\n",
       "       'sum of basophil and neutrophil counts',\n",
       "       'sum of eosinophil and basophil counts',\n",
       "       'sum of neutrophil and eosinophil counts'],\n",
       "      dtype='object')"
      ]
     },
     "metadata": {},
     "output_type": "display_data"
    },
    {
     "data": {
      "text/html": [
       "<h3>Cluster 46.2</h3>"
      ],
      "text/plain": [
       "<IPython.core.display.HTML object>"
      ]
     },
     "metadata": {},
     "output_type": "display_data"
    },
    {
     "data": {
      "text/plain": [
       "241"
      ]
     },
     "metadata": {},
     "output_type": "display_data"
    },
    {
     "data": {
      "text/plain": [
       "Index(['1021-Duration_of_light_DIY', '102_raw-Pulse_rate_automated_reading',\n",
       "       '1050-Time_spend_outdoors_in_summer',\n",
       "       '1060-Time_spent_outdoors_in_winter',\n",
       "       '1070-Time_spent_watching_television_TV',\n",
       "       '1080-Time_spent_using_computer', '1090-Time_spent_driving',\n",
       "       '1100-Drive_faster_than_motorway_speed_limit',\n",
       "       '110001-Invitation_to_complete_online_24hour_recall_dietary_questionnaire_acceptance',\n",
       "       '1110-Length_of_mobile_phone_use',\n",
       "       ...\n",
       "       'self rated health', 'self reported educational attainment',\n",
       "       'sleep duration', 'smoking behavior', 'smoking cessation',\n",
       "       'snoring measurement', 'tiredness measurement', 'varicose veins',\n",
       "       'wheezing', 'worry measurement'],\n",
       "      dtype='object', length=241)"
      ]
     },
     "metadata": {},
     "output_type": "display_data"
    },
    {
     "data": {
      "text/html": [
       "<h3>Cluster 46.3</h3>"
      ],
      "text/plain": [
       "<IPython.core.display.HTML object>"
      ]
     },
     "metadata": {},
     "output_type": "display_data"
    },
    {
     "data": {
      "text/plain": [
       "19"
      ]
     },
     "metadata": {},
     "output_type": "display_data"
    },
    {
     "data": {
      "text/plain": [
       "Index(['EAGLE_Eczema', 'Jones_et_al_2016_Chronotype', 'MAGNETIC_CH2.DB.ratio',\n",
       "       'MAGNETIC_HDL.C', 'MAGNETIC_IDL.TG', 'MAGNETIC_LDL.C',\n",
       "       'SSGAC_Education_Years_Pooled', 'alzheimer's disease',\n",
       "       'attention deficit hyperactivity disorder', 'bone density',\n",
       "       'coronary artery disease', 'estrogen-receptor negative breast cancer',\n",
       "       'estrogen-receptor positive breast cancer',\n",
       "       'family history of breast cancer', 'fasting blood glucose measurement',\n",
       "       'fasting blood insulin measurement', 'inflammatory bowel disease',\n",
       "       'intracranial volume measurement', 'schizophrenia'],\n",
       "      dtype='object')"
      ]
     },
     "metadata": {},
     "output_type": "display_data"
    },
    {
     "data": {
      "text/html": [
       "<h3>Cluster 46.4</h3>"
      ],
      "text/plain": [
       "<IPython.core.display.HTML object>"
      ]
     },
     "metadata": {},
     "output_type": "display_data"
    },
    {
     "data": {
      "text/plain": [
       "453"
      ]
     },
     "metadata": {},
     "output_type": "display_data"
    },
    {
     "data": {
      "text/plain": [
       "Index(['20003_1140879616-Treatmentmedication_code_amitriptyline',\n",
       "       '20003_1140879630-Treatmentmedication_code_imipramine',\n",
       "       '20003_1140879634-Treatmentmedication_code_trazodone',\n",
       "       '20003_1140879762-Treatmentmedication_code_celiprolol',\n",
       "       '20003_1140879778-Treatmentmedication_code_doxazosin',\n",
       "       '20003_1140879792-Treatmentmedication_code_terbutaline',\n",
       "       '20003_1140879798-Treatmentmedication_code_terazosin',\n",
       "       '20003_1140879818-Treatmentmedication_code_metoprolol',\n",
       "       '20003_1140880086-Treatmentmedication_code_calcipotriol',\n",
       "       '20003_1140881446-Treatmentmedication_code_proctosedyl_ointment',\n",
       "       ...\n",
       "       '20112_13-Illnesses_of_adopted_father_Prostate_cancer',\n",
       "       '20112_2-Illnesses_of_adopted_father_Stroke',\n",
       "       '20112_3-Illnesses_of_adopted_father_Lung_cancer',\n",
       "       '20112_4-Illnesses_of_adopted_father_Bowel_cancer',\n",
       "       '20112_6-Illnesses_of_adopted_father_Chronic_bronchitisemphysema',\n",
       "       '20113_1-Illnesses_of_adopted_mother_Heart_disease',\n",
       "       '20113_100-Illnesses_of_adopted_mother_None_of_the_above_group_1',\n",
       "       '20113_12-Illnesses_of_adopted_mother_Severe_depression',\n",
       "       '20113_3-Illnesses_of_adopted_mother_Lung_cancer',\n",
       "       '20113_6-Illnesses_of_adopted_mother_Chronic_bronchitisemphysema'],\n",
       "      dtype='object', length=453)"
      ]
     },
     "metadata": {},
     "output_type": "display_data"
    },
    {
     "data": {
      "text/html": [
       "<h3>Cluster 46.5</h3>"
      ],
      "text/plain": [
       "<IPython.core.display.HTML object>"
      ]
     },
     "metadata": {},
     "output_type": "display_data"
    },
    {
     "data": {
      "text/plain": [
       "394"
      ]
     },
     "metadata": {},
     "output_type": "display_data"
    },
    {
     "data": {
      "text/plain": [
       "Index(['40001_G122-Underlying_primary_cause_of_death_ICD10_G122_Motor_neuron_disease',\n",
       "       '6152_6-Blood_clot_DVT_bronchitis_emphysema_asthma_rhinitis_eczema_allergy_diagnosed_by_doctor_Emphysemachronic_bronchitis',\n",
       "       '6157_100-Why_stopped_smoking_None_of_the_above',\n",
       "       '6157_3-Why_stopped_smoking_Health_precaution',\n",
       "       '6157_4-Why_stopped_smoking_Financial_reasons',\n",
       "       '6160_5-Leisuresocial_activities_Other_group_activity',\n",
       "       '6162_3-Types_of_transport_used_excluding_work_Public_transport',\n",
       "       '6179_4-Mineral_and_other_dietary_supplements_Zinc',\n",
       "       '6179_5-Mineral_and_other_dietary_supplements_Iron',\n",
       "       '6179_6-Mineral_and_other_dietary_supplements_Selenium',\n",
       "       ...\n",
       "       'immune system disease', 'inner ear disease', 'keratitis',\n",
       "       'lacrimal apparatus disease', 'obesity', 'paralytic strabismus',\n",
       "       'polyneuropathy', 'purpura', 'retinal detachment',\n",
       "       'retinal vein occlusion'],\n",
       "      dtype='object', length=394)"
      ]
     },
     "metadata": {},
     "output_type": "display_data"
    },
    {
     "data": {
      "text/html": [
       "<h3>Cluster 46.6</h3>"
      ],
      "text/plain": [
       "<IPython.core.display.HTML object>"
      ]
     },
     "metadata": {},
     "output_type": "display_data"
    },
    {
     "data": {
      "text/plain": [
       "266"
      ]
     },
     "metadata": {},
     "output_type": "display_data"
    },
    {
     "data": {
      "text/plain": [
       "Index(['20111_101-Illnesses_of_siblings_None_of_the_above_group_2',\n",
       "       '20111_12-Illnesses_of_siblings_Severe_depression',\n",
       "       '20112_8-Illnesses_of_adopted_father_High_blood_pressure',\n",
       "       '20112_9-Illnesses_of_adopted_father_Diabetes',\n",
       "       '20113_10-Illnesses_of_adopted_mother_Alzheimers_diseasedementia',\n",
       "       '20113_101-Illnesses_of_adopted_mother_None_of_the_above_group_2',\n",
       "       '20113_2-Illnesses_of_adopted_mother_Stroke',\n",
       "       '20113_4-Illnesses_of_adopted_mother_Bowel_cancer',\n",
       "       '20113_5-Illnesses_of_adopted_mother_Breast_cancer',\n",
       "       '20113_8-Illnesses_of_adopted_mother_High_blood_pressure',\n",
       "       ...\n",
       "       '22601_31113086-Job_coding_laboratory_technician',\n",
       "       '22601_31122951-Job_coding_electricalelectronics_technician',\n",
       "       '22601_31153052-Job_coding_quality_assurance_technician_or_coordinator',\n",
       "       '22601_31193055-Job_coding_other_engineering_technician_including_materials_technician_technical_assistant_technical_officer',\n",
       "       '22601_32113077-Job_coding_health_visitor',\n",
       "       '22601_32323112-Job_coding_benefits_advisor_citizens_advice_bureau_adviser_debt_counsellor',\n",
       "       '22601_32323410-Job_coding_schoolstudent_counsellor_school_attendance_officer',\n",
       "       '22601_34333162-Job_coding_public_relations_officer_press_officer_information_officer',\n",
       "       '22601_35333266-Job_coding_insurance_underwriter_insurance_inspector_insurance_account_handler',\n",
       "       '22601_35623213-Job_coding_personnel_or_industrial_relations_officer_recruitment_consultant'],\n",
       "      dtype='object', length=266)"
      ]
     },
     "metadata": {},
     "output_type": "display_data"
    },
    {
     "data": {
      "text/html": [
       "<h3>Cluster 46.7</h3>"
      ],
      "text/plain": [
       "<IPython.core.display.HTML object>"
      ]
     },
     "metadata": {},
     "output_type": "display_data"
    },
    {
     "data": {
      "text/plain": [
       "218"
      ]
     },
     "metadata": {},
     "output_type": "display_data"
    },
    {
     "data": {
      "text/plain": [
       "Index(['40001_C259-Underlying_primary_cause_of_death_ICD10_C259_Pancreas_unspecified',\n",
       "       '40001_C459-Underlying_primary_cause_of_death_ICD10_C459_Mesothelioma_unspecified',\n",
       "       '41248_3001-Destinations_on_discharge_from_hospital_recoded_High_security_psychiatric_hospital_NHS',\n",
       "       '41248_5003-Destinations_on_discharge_from_hospital_recoded_Transfer_to_other_NHS_provider_Psychiatry_learning_disabilities',\n",
       "       '41248_6000-Destinations_on_discharge_from_hospital_recoded_Transfer_within_NHS_provider',\n",
       "       '4233_raw-Mean_signaltonoise_ratio_SNR_left',\n",
       "       '4244_raw-Mean_signaltonoise_ratio_SNR_right',\n",
       "       '4269-Number_of_triplets_attempted_left',\n",
       "       '4270-Volume_level_set_by_participant_left',\n",
       "       '4276-Number_of_triplets_attempted_right',\n",
       "       ...\n",
       "       '6158_1-Why_reduced_smoking_Illness_or_ill_health',\n",
       "       '6158_100-Why_reduced_smoking_None_of_the_above',\n",
       "       '6158_2-Why_reduced_smoking_Doctors_advice',\n",
       "       '6158_3-Why_reduced_smoking_Health_precaution',\n",
       "       '6158_4-Why_reduced_smoking_Financial_reasons',\n",
       "       '6159_2-Pain_types_experienced_in_last_month_Facial_pain',\n",
       "       '6159_8-Pain_types_experienced_in_last_month_Pain_all_over_the_body',\n",
       "       '6162_100-Types_of_transport_used_excluding_work_None_of_the_above',\n",
       "       '709-Number_in_household', 'C_PANCREAS-Malignant_neoplasm_of_pancreas'],\n",
       "      dtype='object', length=218)"
      ]
     },
     "metadata": {},
     "output_type": "display_data"
    },
    {
     "data": {
      "text/html": [
       "<h3>Cluster 46.8</h3>"
      ],
      "text/plain": [
       "<IPython.core.display.HTML object>"
      ]
     },
     "metadata": {},
     "output_type": "display_data"
    },
    {
     "data": {
      "text/plain": [
       "3"
      ]
     },
     "metadata": {},
     "output_type": "display_data"
    },
    {
     "data": {
      "text/plain": [
       "Index(['eczema', 'seasonal allergic rhinitis',\n",
       "       'seasonal allergic rhinitis AND allergic rhinitis'],\n",
       "      dtype='object')"
      ]
     },
     "metadata": {},
     "output_type": "display_data"
    },
    {
     "data": {
      "text/html": [
       "<h3>Cluster 46.9</h3>"
      ],
      "text/plain": [
       "<IPython.core.display.HTML object>"
      ]
     },
     "metadata": {},
     "output_type": "display_data"
    },
    {
     "data": {
      "text/plain": [
       "766"
      ]
     },
     "metadata": {},
     "output_type": "display_data"
    },
    {
     "data": {
      "text/plain": [
       "Index(['22601_11113200-Job_coding_senior_official_in_central_government_including_members_of_the_senior_civil_service_and_the_equivalent_in_the_diplomatic_service_mps_meps',\n",
       "       '22601_11123211-Job_coding_director_or_chief_executive_of_private_organisationcompany_company_chairman_or_president_general_manager',\n",
       "       '22601_11133201-Job_coding_senior_official_in_local_government_including_parish_or_town_or_county_chief_clerk_chief_or_superintendent_rate_collector_chief_executive_or_director_councillor',\n",
       "       '22601_11143212-Job_coding_senior_official_of_special_interest_organisation_including_general_manager_or_director_or_executive_or_general_secretary_of_charity_or_trade_unionassociation_or_religious_organisation',\n",
       "       '22601_11212692-Job_coding_production_works_or_maintenance_manager',\n",
       "       '22601_11222591-Job_coding_manager_in_construction_clerk_of_works_site_manager_contracts_manager_highways_manager',\n",
       "       '22601_11232861-Job_coding_manager_in_mining_energy_production_or_water_supply',\n",
       "       '22601_11313221-Job_coding_financial_services_manager_chartered_secretary_banker_merchant_or_investment_banker_finance_director_tax_manager',\n",
       "       '22601_11323222-Job_coding_sales_or_marketing_managerdirector_exportimport_manager_business_development_manager_advertisingcommercial_manager',\n",
       "       '22601_11333223-Job_coding_purchasing_managerdirector_not_retail_supplies_manager',\n",
       "       ...\n",
       "       '41248_6005-Destinations_on_discharge_from_hospital_recoded_Transfer_within_NHS_provider_Medical_specialty',\n",
       "       '41248_6007-Destinations_on_discharge_from_hospital_recoded_Transfer_within_NHS_provider_Geriatrics',\n",
       "       '41248_7001-Destinations_on_discharge_from_hospital_recoded_Nursing_residential_care_group_home_NHS',\n",
       "       '41248_7002-Destinations_on_discharge_from_hospital_recoded_Nursing_residential_care_group_home_Local_Authoritory',\n",
       "       '41248_7003-Destinations_on_discharge_from_hospital_recoded_Nursing_residential_care_group_home_NonNHS',\n",
       "       '41248_8002-Destinations_on_discharge_from_hospital_recoded_Other_hospital_NonNHS',\n",
       "       '4195_raw-Pulse_wave_reflection_index',\n",
       "       '4230_raw-Signaltonoiseratio_SNR_of_triplet_left',\n",
       "       '4241_raw-Signaltonoiseratio_SNR_of_triplet_right',\n",
       "       '4462-Average_monthly_intake_of_other_alcoholic_drinks'],\n",
       "      dtype='object', length=766)"
      ]
     },
     "metadata": {},
     "output_type": "display_data"
    },
    {
     "data": {
      "text/html": [
       "<h3>Cluster 46.10</h3>"
      ],
      "text/plain": [
       "<IPython.core.display.HTML object>"
      ]
     },
     "metadata": {},
     "output_type": "display_data"
    },
    {
     "data": {
      "text/plain": [
       "15"
      ]
     },
     "metadata": {},
     "output_type": "display_data"
    },
    {
     "data": {
      "text/plain": [
       "Index(['20003_1140868226-Treatmentmedication_code_aspirin',\n",
       "       '20003_1141146234-Treatmentmedication_code_atorvastatin',\n",
       "       '6150_1-Vascularheart_problems_diagnosed_by_doctor_Heart_attack',\n",
       "       '6150_2-Vascularheart_problems_diagnosed_by_doctor_Angina',\n",
       "       '6154_1-Medication_for_pain_relief_constipation_heartburn_Aspirin',\n",
       "       'I9_CHD-Major_coronary_heart_disease_event',\n",
       "       'I9_CHD_NOREV-Major_coronary_heart_disease_event_excluding_revascularizations',\n",
       "       'I9_CORATHER-Coronary_atherosclerosis',\n",
       "       'I9_IHD-Ischaemic_heart_disease_wide_definition',\n",
       "       'I9_MI-Myocardial_infarction',\n",
       "       'I9_MI_STRICT-Myocardial_infarction_strict',\n",
       "       'IX_CIRCULATORY-Diseases_of_the_circulatory_system',\n",
       "       'acute myocardial infarction', 'angina pectoris',\n",
       "       'myocardial infarction'],\n",
       "      dtype='object')"
      ]
     },
     "metadata": {},
     "output_type": "display_data"
    },
    {
     "data": {
      "text/html": [
       "<h3>Cluster 46.11</h3>"
      ],
      "text/plain": [
       "<IPython.core.display.HTML object>"
      ]
     },
     "metadata": {},
     "output_type": "display_data"
    },
    {
     "data": {
      "text/plain": [
       "11"
      ]
     },
     "metadata": {},
     "output_type": "display_data"
    },
    {
     "data": {
      "text/plain": [
       "Index(['1707_1-Handedness_chiralitylaterality_Righthanded',\n",
       "       '20003_1140865634-Treatmentmedication_code_omeprazole',\n",
       "       'C3_SKIN-Malignant_neoplasm_of_skin',\n",
       "       'C_OTHER_SKIN-Other_malignant_neoplasms_of_skin', 'C_SKIN',\n",
       "       'KNEE_ARTHROSIS-Gonarthrosis_arthrosis_of_kneeFG',\n",
       "       'M13_ARTHROSIS-Arthrosis', 'depressive episode measurement',\n",
       "       'functional laterality', 'osteoarthritis, knee', 'skin neoplasm'],\n",
       "      dtype='object')"
      ]
     },
     "metadata": {},
     "output_type": "display_data"
    },
    {
     "data": {
      "text/html": [
       "<h3>Cluster 46.12</h3>"
      ],
      "text/plain": [
       "<IPython.core.display.HTML object>"
      ]
     },
     "metadata": {},
     "output_type": "display_data"
    },
    {
     "data": {
      "text/plain": [
       "17"
      ]
     },
     "metadata": {},
     "output_type": "display_data"
    },
    {
     "data": {
      "text/plain": [
       "Index(['6152_5-Blood_clot_DVT_bronchitis_emphysema_asthma_rhinitis_eczema_allergy_diagnosed_by_doctor_Blood_clot_in_the_leg_DVT',\n",
       "       'G6_CARPTU-Carpal_tunnel_syndrome',\n",
       "       'G6_NERPLEX-Nerve_nerve_root_and_plexus_disorders',\n",
       "       'I9_DVTANDPULM-DVT_of_lower_extremities_and_pulmonary_embolism',\n",
       "       'I9_PHLETHROMBDVTLOW-DVT_of_lower_extremities',\n",
       "       'I9_VTE-Venous_thromboembolism',\n",
       "       'K11_GALLBILPANC-Disorders_of_gallbladder_biliary_tract_and_pancreas',\n",
       "       'OTHER_ILD_CVD_COMORB-Other_ILDrelated_CVDcomorbidities',\n",
       "       'ULCERNAS-Ulcerative_colitis_NAS',\n",
       "       'VI_NERVOUS-Diseases_of_the_nervous_system',\n",
       "       'XII_SKIN_SUBCUTAN-Diseases_of_the_skin_and_subcutaneous_tissue',\n",
       "       'birth weight', 'cholelithiasis', 'deep vein thrombosis',\n",
       "       'mononeuropathy', 'phlebitis AND thrombophlebitis',\n",
       "       'pulmonary embolism'],\n",
       "      dtype='object')"
      ]
     },
     "metadata": {},
     "output_type": "display_data"
    },
    {
     "data": {
      "text/html": [
       "<h3>Cluster 46.13</h3>"
      ],
      "text/plain": [
       "<IPython.core.display.HTML object>"
      ]
     },
     "metadata": {},
     "output_type": "display_data"
    },
    {
     "data": {
      "text/plain": [
       "49"
      ]
     },
     "metadata": {},
     "output_type": "display_data"
    },
    {
     "data": {
      "text/plain": [
       "Index(['20015_raw-Sitting_height',\n",
       "       '20150_raw-Forced_expiratory_volume_in_1second_FEV1_Best_measure',\n",
       "       '20151_raw-Forced_vital_capacity_FVC_Best_measure',\n",
       "       '20153_raw-Forced_expiratory_volume_in_1second_FEV1_predicted',\n",
       "       '20154_raw-Forced_expiratory_volume_in_1second_FEV1_predicted_percentage',\n",
       "       '21001_raw-Body_mass_index_BMI', '21002_raw-Weight', '23098_raw-Weight',\n",
       "       '23099_raw-Body_fat_percentage', '23100_raw-Whole_body_fat_mass',\n",
       "       '23101_raw-Whole_body_fatfree_mass', '23102_raw-Whole_body_water_mass',\n",
       "       '23104_raw-Body_mass_index_BMI', '23105_raw-Basal_metabolic_rate',\n",
       "       '23106_raw-Impedance_of_whole_body', '23107_raw-Impedance_of_leg_right',\n",
       "       '23108_raw-Impedance_of_leg_left', '23109_raw-Impedance_of_arm_right',\n",
       "       '23110_raw-Impedance_of_arm_left', '23111_raw-Leg_fat_percentage_right',\n",
       "       '23112_raw-Leg_fat_mass_right', '23113_raw-Leg_fatfree_mass_right',\n",
       "       '23114_raw-Leg_predicted_mass_right',\n",
       "       '23115_raw-Leg_fat_percentage_left', '23116_raw-Leg_fat_mass_left',\n",
       "       '23117_raw-Leg_fatfree_mass_left', '23118_raw-Leg_predicted_mass_left',\n",
       "       '23119_raw-Arm_fat_percentage_right', '23120_raw-Arm_fat_mass_right',\n",
       "       '23121_raw-Arm_fatfree_mass_right',\n",
       "       '23122_raw-Arm_predicted_mass_right',\n",
       "       '23123_raw-Arm_fat_percentage_left', '23124_raw-Arm_fat_mass_left',\n",
       "       '23125_raw-Arm_fatfree_mass_left', '23126_raw-Arm_predicted_mass_left',\n",
       "       '23127_raw-Trunk_fat_percentage', '23128_raw-Trunk_fat_mass',\n",
       "       '23129_raw-Trunk_fatfree_mass', '23130_raw-Trunk_predicted_mass',\n",
       "       '3062_raw-Forced_vital_capacity_FVC',\n",
       "       '3063_raw-Forced_expiratory_volume_in_1second_FEV1',\n",
       "       '3064_raw-Peak_expiratory_flow_PEF', '3143_raw-Ankle_spacing_width',\n",
       "       '4100_raw-Ankle_spacing_width_left',\n",
       "       '4119_raw-Ankle_spacing_width_right', '48_raw-Waist_circumference',\n",
       "       '49_raw-Hip_circumference', '50_raw-Standing_height', 'body height'],\n",
       "      dtype='object')"
      ]
     },
     "metadata": {},
     "output_type": "display_data"
    },
    {
     "data": {
      "text/html": [
       "<h3>Cluster 46.14</h3>"
      ],
      "text/plain": [
       "<IPython.core.display.HTML object>"
      ]
     },
     "metadata": {},
     "output_type": "display_data"
    },
    {
     "data": {
      "text/plain": [
       "5"
      ]
     },
     "metadata": {},
     "output_type": "display_data"
    },
    {
     "data": {
      "text/plain": [
       "Index(['20003_1140860696-Treatmentmedication_code_lisinopril',\n",
       "       '20003_1140860806-Treatmentmedication_code_ramipril',\n",
       "       '20003_1140866738-Treatmentmedication_code_atenolol',\n",
       "       '20003_1140884600-Treatmentmedication_code_metformin',\n",
       "       'diabetes mellitus'],\n",
       "      dtype='object')"
      ]
     },
     "metadata": {},
     "output_type": "display_data"
    },
    {
     "data": {
      "text/html": [
       "<h3>Cluster 46.15</h3>"
      ],
      "text/plain": [
       "<IPython.core.display.HTML object>"
      ]
     },
     "metadata": {},
     "output_type": "display_data"
    },
    {
     "data": {
      "text/plain": [
       "21"
      ]
     },
     "metadata": {},
     "output_type": "display_data"
    },
    {
     "data": {
      "text/plain": [
       "Index(['20003_2038460150-Treatmentmedication_code_paracetamol',\n",
       "       '20016_raw-Fluid_intelligence_score', '20022_raw-Birth_weight',\n",
       "       '20023_raw-Mean_time_to_correctly_identify_matches',\n",
       "       '20074_raw-Home_location_at_assessment_east_coordinate_rounded',\n",
       "       '20077-Number_of_diet_questionnaires_completed',\n",
       "       '20086_8-Type_of_special_diet_followed_Glutenfree',\n",
       "       '20107_1-Illnesses_of_father_Heart_disease',\n",
       "       '20107_100-Illnesses_of_father_None_of_the_above_group_1',\n",
       "       '20107_3-Illnesses_of_father_Lung_cancer',\n",
       "       '20107_8-Illnesses_of_father_High_blood_pressure',\n",
       "       '20107_9-Illnesses_of_father_Diabetes',\n",
       "       '20110_1-Illnesses_of_mother_Heart_disease',\n",
       "       '20110_10-Illnesses_of_mother_Alzheimers_diseasedementia',\n",
       "       '20110_100-Illnesses_of_mother_None_of_the_above_group_1',\n",
       "       '20110_8-Illnesses_of_mother_High_blood_pressure',\n",
       "       '20110_9-Illnesses_of_mother_Diabetes',\n",
       "       '20111_1-Illnesses_of_siblings_Heart_disease',\n",
       "       '20111_100-Illnesses_of_siblings_None_of_the_above_group_1',\n",
       "       '20111_8-Illnesses_of_siblings_High_blood_pressure',\n",
       "       '20111_9-Illnesses_of_siblings_Diabetes'],\n",
       "      dtype='object')"
      ]
     },
     "metadata": {},
     "output_type": "display_data"
    },
    {
     "data": {
      "text/html": [
       "<h3>Cluster 46.16</h3>"
      ],
      "text/plain": [
       "<IPython.core.display.HTML object>"
      ]
     },
     "metadata": {},
     "output_type": "display_data"
    },
    {
     "data": {
      "text/plain": [
       "7"
      ]
     },
     "metadata": {},
     "output_type": "display_data"
    },
    {
     "data": {
      "text/plain": [
       "Index(['1717-Skin_colour', '1727-Ease_of_skin_tanning',\n",
       "       '1747_1-Hair_colour_natural_before_greying_Blonde',\n",
       "       '1747_2-Hair_colour_natural_before_greying_Red',\n",
       "       '1747_3-Hair_colour_natural_before_greying_Light_brown',\n",
       "       '1747_4-Hair_colour_natural_before_greying_Dark_brown',\n",
       "       '1747_5-Hair_colour_natural_before_greying_Black'],\n",
       "      dtype='object')"
      ]
     },
     "metadata": {},
     "output_type": "display_data"
    },
    {
     "data": {
      "text/html": [
       "<h3>Cluster 46.17</h3>"
      ],
      "text/plain": [
       "<IPython.core.display.HTML object>"
      ]
     },
     "metadata": {},
     "output_type": "display_data"
    },
    {
     "data": {
      "text/plain": [
       "5"
      ]
     },
     "metadata": {},
     "output_type": "display_data"
    },
    {
     "data": {
      "text/plain": [
       "Index(['30080_raw-Platelet_count', '30090_raw-Platelet_crit',\n",
       "       '30100_raw-Mean_platelet_thrombocyte_volume',\n",
       "       '30110_raw-Platelet_distribution_width', 'platelet count'],\n",
       "      dtype='object')"
      ]
     },
     "metadata": {},
     "output_type": "display_data"
    },
    {
     "data": {
      "text/html": [
       "<h3>Cluster 46.18</h3>"
      ],
      "text/plain": [
       "<IPython.core.display.HTML object>"
      ]
     },
     "metadata": {},
     "output_type": "display_data"
    },
    {
     "data": {
      "text/plain": [
       "6"
      ]
     },
     "metadata": {},
     "output_type": "display_data"
    },
    {
     "data": {
      "text/plain": [
       "Index(['40001_C349-Underlying_primary_cause_of_death_ICD10_C349_Bronchus_or_lung_unspecified',\n",
       "       'C3_RESPIRATORY_INTRATHORACIC-Malignant_neoplasm_of_respiratory_system_and_intrathoracic_organs',\n",
       "       'C_BRONCHUS_LUNG-Malignant_neoplasm_of_bronchus_and_lung',\n",
       "       'C_RESPIRATORY_INTRATHORACIC',\n",
       "       'LUNG_CANCER_MESOT-Lung_cancer_and_mesothelioma', 'lung carcinoma'],\n",
       "      dtype='object')"
      ]
     },
     "metadata": {},
     "output_type": "display_data"
    },
    {
     "data": {
      "text/html": [
       "<h3>Cluster 46.19</h3>"
      ],
      "text/plain": [
       "<IPython.core.display.HTML object>"
      ]
     },
     "metadata": {},
     "output_type": "display_data"
    },
    {
     "data": {
      "text/plain": [
       "43"
      ]
     },
     "metadata": {},
     "output_type": "display_data"
    },
    {
     "data": {
      "text/plain": [
       "Index(['129_raw-Place_of_birth_in_UK_north_coordinate',\n",
       "       '20075_raw-Home_location_at_assessment_north_coordinate_rounded',\n",
       "       '22704_raw-Home_location_north_coordinate_rounded',\n",
       "       'ASTHMA_PNEUMONIA-Asthmarelated_pneumonia',\n",
       "       'G6_EPIPAROX-Episodal_and_paroxysmal_disorders',\n",
       "       'G6_SLEEPAPNO-Sleep_apnoea',\n",
       "       'L12_ATROPHICSKIN-Atrophic_disorders_of_skin',\n",
       "       'L12_SCARCONDITIONS-Scar_conditions_and_fibrosis_of_skin',\n",
       "       'M13_DORSOPATHYOTH-Other_dorsopathies_not_elsewhere_classified',\n",
       "       'M13_MUSCULOSKELEOTH-Other_disorders_of_the_musculoskeletal_system_and_connective_tissue',\n",
       "       'M13_SACROCOGG-Sacrococcygeal_disorders_not_elsewhere_classified',\n",
       "       'PNEUMONIA-Pneumonias_AsthmaCOPD_comorbidities',\n",
       "       'SLEEP-Sleep_disorders_combined', 'abdominal injury', 'bone disease',\n",
       "       'cardiac arrhythmia', 'checkup',\n",
       "       'chronic obstructive pulmonary disease', 'device complication',\n",
       "       'encounter with health service', 'female reproductive system disease',\n",
       "       'follow-up', 'head injury', 'headache', 'heart disease', 'injury',\n",
       "       'joint disease', 'kidney failure', 'leg injury', 'lower limb pain',\n",
       "       'mesothelioma', 'musculoskeletal system disease',\n",
       "       'musculoskeletal system disease AND connective tissue disease',\n",
       "       'nasal cavity polyp', 'pericarditis', 'pneumonia', 'poisoning',\n",
       "       'pregnancy disorder', 'skin atrophy', 'sleep disorder',\n",
       "       'soft tissue disease', 'urogenital neoplasm', 'wrist fracture'],\n",
       "      dtype='object')"
      ]
     },
     "metadata": {},
     "output_type": "display_data"
    },
    {
     "data": {
      "text/html": [
       "<h3>Cluster 46.20</h3>"
      ],
      "text/plain": [
       "<IPython.core.display.HTML object>"
      ]
     },
     "metadata": {},
     "output_type": "display_data"
    },
    {
     "data": {
      "text/plain": [
       "321"
      ]
     },
     "metadata": {},
     "output_type": "display_data"
    },
    {
     "data": {
      "text/plain": [
       "Index(['40001_C719-Underlying_primary_cause_of_death_ICD10_C719_Brain_unspecified',\n",
       "       'ASTHMA_CHILD-Childhood_asthma_age16',\n",
       "       'ASTHMA_HOSPITAL1-Asthma_hospital_admissions_1',\n",
       "       'BACT_INTEST_INFECTION_NOS-Other_specifiedunspecified_bacterial_intestinal_infections',\n",
       "       'C3_DIGESTIVE_ORGANS-Malignant_neoplasm_of_digestive_organs',\n",
       "       'C3_EYE_BRAIN_NEURO-Malignant_neoplasm_of_eye_brain_and_central_nervous_system',\n",
       "       'C3_URINARY_TRACT-Malignant_neoplasm_of_urinary_organs',\n",
       "       'C_BLADDER-Malignant_neoplasm_of_bladder',\n",
       "       'C_BRAIN-Malignant_neoplasm_of_brain',\n",
       "       'C_COLON-Malignant_neoplasm_of_colon',\n",
       "       ...\n",
       "       'iron deficiency anemia', 'kidney neoplasm', 'knee injury',\n",
       "       'muscular disease', 'pigmentation disease', 'skeletal system disease',\n",
       "       'skin disease', 'suppurative otitis media', 'tenosynovitis',\n",
       "       'vasculitis'],\n",
       "      dtype='object', length=321)"
      ]
     },
     "metadata": {},
     "output_type": "display_data"
    },
    {
     "data": {
      "text/html": [
       "<h3>Cluster 46.21</h3>"
      ],
      "text/plain": [
       "<IPython.core.display.HTML object>"
      ]
     },
     "metadata": {},
     "output_type": "display_data"
    },
    {
     "data": {
      "text/plain": [
       "4"
      ]
     },
     "metadata": {},
     "output_type": "display_data"
    },
    {
     "data": {
      "text/plain": [
       "Index(['C3_MALE_GENITAL-malignant_neoplasm_of_male_genital_organs',\n",
       "       'C_MALE_GENITAL', 'C_PROSTATE-Malignant_neoplasm_of_prostate',\n",
       "       'prostate carcinoma'],\n",
       "      dtype='object')"
      ]
     },
     "metadata": {},
     "output_type": "display_data"
    },
    {
     "data": {
      "text/html": [
       "<h3>Cluster 46.22</h3>"
      ],
      "text/plain": [
       "<IPython.core.display.HTML object>"
      ]
     },
     "metadata": {},
     "output_type": "display_data"
    },
    {
     "data": {
      "text/plain": [
       "2"
      ]
     },
     "metadata": {},
     "output_type": "display_data"
    },
    {
     "data": {
      "text/plain": [
       "Index(['20003_1140875408-Treatmentmedication_code_allopurinol', 'gout'], dtype='object')"
      ]
     },
     "metadata": {},
     "output_type": "display_data"
    },
    {
     "data": {
      "text/html": [
       "<h3>Cluster 46.23</h3>"
      ],
      "text/plain": [
       "<IPython.core.display.HTML object>"
      ]
     },
     "metadata": {},
     "output_type": "display_data"
    },
    {
     "data": {
      "text/plain": [
       "5"
      ]
     },
     "metadata": {},
     "output_type": "display_data"
    },
    {
     "data": {
      "text/plain": [
       "Index(['F5_ALLANXIOUS-All_anxiety_disorders',\n",
       "       'F5_ANXIETY-Other_anxiety_disorders',\n",
       "       'KRA_PSY_ANXIETY-Anxiety_disorders',\n",
       "       'PULM_ANXIETY-Anxiety_asthmarelated_comorbidities', 'anxiety disorder'],\n",
       "      dtype='object')"
      ]
     },
     "metadata": {},
     "output_type": "display_data"
    },
    {
     "data": {
      "text/html": [
       "<h3>Cluster 46.24</h3>"
      ],
      "text/plain": [
       "<IPython.core.display.HTML object>"
      ]
     },
     "metadata": {},
     "output_type": "display_data"
    },
    {
     "data": {
      "text/plain": [
       "6"
      ]
     },
     "metadata": {},
     "output_type": "display_data"
    },
    {
     "data": {
      "text/plain": [
       "Index(['ASTHMA_MEDICATIO_COMORB-Medication_related_adverse_effects',\n",
       "       'H7_LENS-Disorders_of_lens',\n",
       "       'PULM_MEDICATIO_COMORB-Medication_related_adverse_effects_AsthmaCOPD',\n",
       "       'VII_EYE_ADNEXA-Diseases_of_the_eye_and_adnexa', 'age-related cataract',\n",
       "       'cataract'],\n",
       "      dtype='object')"
      ]
     },
     "metadata": {},
     "output_type": "display_data"
    },
    {
     "data": {
      "text/html": [
       "<h3>Cluster 46.25</h3>"
      ],
      "text/plain": [
       "<IPython.core.display.HTML object>"
      ]
     },
     "metadata": {},
     "output_type": "display_data"
    },
    {
     "data": {
      "text/plain": [
       "18"
      ]
     },
     "metadata": {},
     "output_type": "display_data"
    },
    {
     "data": {
      "text/plain": [
       "Index(['100001_raw-Food_weight', '100002_raw-Energy', '100003_raw-Protein',\n",
       "       '100004_raw-Fat', '100005_raw-Carbohydrate', '100006_raw-Saturated_fat',\n",
       "       '100007_raw-Polyunsaturated_fat', '100008_raw-Total_sugars',\n",
       "       '100009_raw-Englyst_dietary_fibre', '100011_raw-Iron',\n",
       "       '100012_raw-Vitamin_B6', '100014_raw-Folate', '100015_raw-Vitamin_C',\n",
       "       '100016_raw-Potassium', '100017_raw-Magnesium', '100023_raw-Starch',\n",
       "       '100024_raw-Calcium', '100025_raw-Vitamin_E'],\n",
       "      dtype='object')"
      ]
     },
     "metadata": {},
     "output_type": "display_data"
    },
    {
     "data": {
      "text/html": [
       "<h3>Cluster 46.26</h3>"
      ],
      "text/plain": [
       "<IPython.core.display.HTML object>"
      ]
     },
     "metadata": {},
     "output_type": "display_data"
    },
    {
     "data": {
      "text/plain": [
       "7"
      ]
     },
     "metadata": {},
     "output_type": "display_data"
    },
    {
     "data": {
      "text/plain": [
       "Index(['5984_raw-ECG_load', '5986_raw-ECG_phase_time',\n",
       "       '5992-ECG_phase_duration', '5993-ECG_number_of_stages_in_a_phase',\n",
       "       '6032_raw-Maximum_workload_during_fitness_test',\n",
       "       '6038_raw-Number_of_trend_entries', '6039-Duration_of_fitness_test'],\n",
       "      dtype='object')"
      ]
     },
     "metadata": {},
     "output_type": "display_data"
    },
    {
     "data": {
      "text/html": [
       "<h3>Cluster 46.27</h3>"
      ],
      "text/plain": [
       "<IPython.core.display.HTML object>"
      ]
     },
     "metadata": {},
     "output_type": "display_data"
    },
    {
     "data": {
      "text/plain": [
       "15"
      ]
     },
     "metadata": {},
     "output_type": "display_data"
    },
    {
     "data": {
      "text/plain": [
       "Index(['20003_1140861958-Treatmentmedication_code_simvastatin',\n",
       "       '20003_1140879802-Treatmentmedication_code_amlodipine',\n",
       "       '20003_1141194794-Treatmentmedication_code_bendroflumethiazide',\n",
       "       '4079_raw-Diastolic_blood_pressure_automated_reading',\n",
       "       '4080_raw-Systolic_blood_pressure_automated_reading',\n",
       "       '6150_100-Vascularheart_problems_diagnosed_by_doctor_None_of_the_above',\n",
       "       '6150_4-Vascularheart_problems_diagnosed_by_doctor_High_blood_pressure',\n",
       "       '6153_1-Medication_for_cholesterol_blood_pressure_diabetes_or_take_exogenous_hormones_Cholesterol_lowering_medication',\n",
       "       '6153_100-Medication_for_cholesterol_blood_pressure_diabetes_or_take_exogenous_hormones_None_of_the_above',\n",
       "       '6153_2-Medication_for_cholesterol_blood_pressure_diabetes_or_take_exogenous_hormones_Blood_pressure_medication',\n",
       "       '6177_1-Medication_for_cholesterol_blood_pressure_or_diabetes_Cholesterol_lowering_medication',\n",
       "       '6177_100-Medication_for_cholesterol_blood_pressure_or_diabetes_None_of_the_above',\n",
       "       '6177_2-Medication_for_cholesterol_blood_pressure_or_diabetes_Blood_pressure_medication',\n",
       "       'hypercholesterolemia', 'hypertension'],\n",
       "      dtype='object')"
      ]
     },
     "metadata": {},
     "output_type": "display_data"
    },
    {
     "data": {
      "text/html": [
       "<h3>Cluster 46.28</h3>"
      ],
      "text/plain": [
       "<IPython.core.display.HTML object>"
      ]
     },
     "metadata": {},
     "output_type": "display_data"
    },
    {
     "data": {
      "text/plain": [
       "3"
      ]
     },
     "metadata": {},
     "output_type": "display_data"
    },
    {
     "data": {
      "text/plain": [
       "Index(['L12_ACTINKERA-Actinic_keratosis',\n",
       "       'L12_NONIONRADISKIN-Skin_changes_due_to_chronic_exposure_to_nonionizing_radiation',\n",
       "       'radiation-induced disorder'],\n",
       "      dtype='object')"
      ]
     },
     "metadata": {},
     "output_type": "display_data"
    },
    {
     "data": {
      "text/html": [
       "<h3>Cluster 46.29</h3>"
      ],
      "text/plain": [
       "<IPython.core.display.HTML object>"
      ]
     },
     "metadata": {},
     "output_type": "display_data"
    },
    {
     "data": {
      "text/plain": [
       "15"
      ]
     },
     "metadata": {},
     "output_type": "display_data"
    },
    {
     "data": {
      "text/plain": [
       "Index(['30010_raw-Red_blood_cell_erythrocyte_count',\n",
       "       '30020_raw-Haemoglobin_concentration',\n",
       "       '30030_raw-Haematocrit_percentage', '30040_raw-Mean_corpuscular_volume',\n",
       "       '30050_raw-Mean_corpuscular_haemoglobin',\n",
       "       '30070_raw-Red_blood_cell_erythrocyte_distribution_width',\n",
       "       '30240_raw-Reticulocyte_percentage', '30250_raw-Reticulocyte_count',\n",
       "       '30260_raw-Mean_reticulocyte_volume',\n",
       "       '30270_raw-Mean_sphered_cell_volume',\n",
       "       '30280_raw-Immature_reticulocyte_fraction',\n",
       "       '30290_raw-High_light_scatter_reticulocyte_percentage',\n",
       "       '30300_raw-High_light_scatter_reticulocyte_count', 'erythrocyte count',\n",
       "       'reticulocyte count'],\n",
       "      dtype='object')"
      ]
     },
     "metadata": {},
     "output_type": "display_data"
    },
    {
     "data": {
      "text/html": [
       "<h3>Cluster 46.30</h3>"
      ],
      "text/plain": [
       "<IPython.core.display.HTML object>"
      ]
     },
     "metadata": {},
     "output_type": "display_data"
    },
    {
     "data": {
      "text/plain": [
       "14"
      ]
     },
     "metadata": {},
     "output_type": "display_data"
    },
    {
     "data": {
      "text/plain": [
       "Index(['20003_1140884516-Treatmentmedication_code_thyroxine_product',\n",
       "       'K11_OTHDIG-Other_diseases_of_the_digestive_system',\n",
       "       'M13_POLYARTHROPATHIES-Polyarthropathies',\n",
       "       'M13_RHEUMA-Rheumatoid_arthritis',\n",
       "       'RHEUMA_NOS-Otherunspecified_rheumatoid_arthritis',\n",
       "       'RHEUMA_SEROPOS-Seropositive_rheumatoid_arthritis',\n",
       "       'RHEUMA_SEROPOS_OTH-Otherunspecified_seropositiverheumatoid_arthritis',\n",
       "       'STILL_ADULT-Adultonset_Still_disease', 'adrenocortical insufficiency',\n",
       "       'ankylosing spondylitis', 'benign prostatic hyperplasia', 'hematuria',\n",
       "       'multiple sclerosis', 'psoriatic arthritis'],\n",
       "      dtype='object')"
      ]
     },
     "metadata": {},
     "output_type": "display_data"
    },
    {
     "data": {
      "text/html": [
       "<h3>Cluster 46.31</h3>"
      ],
      "text/plain": [
       "<IPython.core.display.HTML object>"
      ]
     },
     "metadata": {},
     "output_type": "display_data"
    },
    {
     "data": {
      "text/plain": [
       "1"
      ]
     },
     "metadata": {},
     "output_type": "display_data"
    },
    {
     "data": {
      "text/plain": [
       "Index(['30060_raw-Mean_corpuscular_haemoglobin_concentration'], dtype='object')"
      ]
     },
     "metadata": {},
     "output_type": "display_data"
    },
    {
     "data": {
      "text/html": [
       "<h3>Cluster 46.32</h3>"
      ],
      "text/plain": [
       "<IPython.core.display.HTML object>"
      ]
     },
     "metadata": {},
     "output_type": "display_data"
    },
    {
     "data": {
      "text/plain": [
       "8"
      ]
     },
     "metadata": {},
     "output_type": "display_data"
    },
    {
     "data": {
      "text/plain": [
       "Index(['24003_raw-Nitrogen_dioxide_air_pollution_2010',\n",
       "       '24004_raw-Nitrogen_oxides_air_pollution_2010',\n",
       "       '24006_raw-Particulate_matter_air_pollution_pm25_2010',\n",
       "       '24007_raw-Particulate_matter_air_pollution_pm25_absorbance_2010',\n",
       "       '24016_raw-Nitrogen_dioxide_air_pollution_2005',\n",
       "       '24017_raw-Nitrogen_dioxide_air_pollution_2006',\n",
       "       '24018_raw-Nitrogen_dioxide_air_pollution_2007',\n",
       "       '24019_raw-Particulate_matter_air_pollution_pm10_2007'],\n",
       "      dtype='object')"
      ]
     },
     "metadata": {},
     "output_type": "display_data"
    },
    {
     "data": {
      "text/html": [
       "<h3>Cluster 46.33</h3>"
      ],
      "text/plain": [
       "<IPython.core.display.HTML object>"
      ]
     },
     "metadata": {},
     "output_type": "display_data"
    },
    {
     "data": {
      "text/plain": [
       "8"
      ]
     },
     "metadata": {},
     "output_type": "display_data"
    },
    {
     "data": {
      "text/plain": [
       "Index(['5096_raw-3mm_weak_meridian_left', '5097_raw-6mm_weak_meridian_left',\n",
       "       '5098_raw-6mm_weak_meridian_right', '5099_raw-3mm_weak_meridian_right',\n",
       "       '5132_raw-3mm_strong_meridian_right',\n",
       "       '5133_raw-6mm_strong_meridian_right',\n",
       "       '5134_raw-6mm_strong_meridian_left',\n",
       "       '5135_raw-3mm_strong_meridian_left'],\n",
       "      dtype='object')"
      ]
     },
     "metadata": {},
     "output_type": "display_data"
    },
    {
     "data": {
      "text/html": [
       "<h3>Cluster 46.34</h3>"
      ],
      "text/plain": [
       "<IPython.core.display.HTML object>"
      ]
     },
     "metadata": {},
     "output_type": "display_data"
    },
    {
     "data": {
      "text/plain": [
       "1"
      ]
     },
     "metadata": {},
     "output_type": "display_data"
    },
    {
     "data": {
      "text/plain": [
       "Index(['mineral metabolism disease'], dtype='object')"
      ]
     },
     "metadata": {},
     "output_type": "display_data"
    },
    {
     "data": {
      "text/html": [
       "<h3>Cluster 46.35</h3>"
      ],
      "text/plain": [
       "<IPython.core.display.HTML object>"
      ]
     },
     "metadata": {},
     "output_type": "display_data"
    },
    {
     "data": {
      "text/plain": [
       "4"
      ]
     },
     "metadata": {},
     "output_type": "display_data"
    },
    {
     "data": {
      "text/plain": [
       "Index(['HEARTFAIL-Heart_failure', 'I9_HEARTFAIL-Heart_failurestrict',\n",
       "       'I9_HEARTFAIL_NS-Heart_failure_not_strict', 'heart failure'],\n",
       "      dtype='object')"
      ]
     },
     "metadata": {},
     "output_type": "display_data"
    },
    {
     "data": {
      "text/html": [
       "<h3>Cluster 46.36</h3>"
      ],
      "text/plain": [
       "<IPython.core.display.HTML object>"
      ]
     },
     "metadata": {},
     "output_type": "display_data"
    },
    {
     "data": {
      "text/plain": [
       "4"
      ]
     },
     "metadata": {},
     "output_type": "display_data"
    },
    {
     "data": {
      "text/plain": [
       "Index(['COPD_EXCL-COPD_differential_diagnosis',\n",
       "       'ILD_DIFF_DG-ILD_differential_diagnosis',\n",
       "       'PULMONARYDG-Other_pulmonary_diagnosis',\n",
       "       'X_RESPIRATORY-Diseases_of_the_respiratory_system'],\n",
       "      dtype='object')"
      ]
     },
     "metadata": {},
     "output_type": "display_data"
    },
    {
     "data": {
      "text/html": [
       "<h3>Cluster 46.37</h3>"
      ],
      "text/plain": [
       "<IPython.core.display.HTML object>"
      ]
     },
     "metadata": {},
     "output_type": "display_data"
    },
    {
     "data": {
      "text/plain": [
       "5"
      ]
     },
     "metadata": {},
     "output_type": "display_data"
    },
    {
     "data": {
      "text/plain": [
       "Index(['C_STROKE-STROKE', 'I9_STR-Stroke_excluding_SAH',\n",
       "       'I9_STR_EXH-Ischaemic_Stroke_excluding_all_haemorrhages',\n",
       "       'I9_STR_SAH-Stroke_including_SAH', 'brain infarction'],\n",
       "      dtype='object')"
      ]
     },
     "metadata": {},
     "output_type": "display_data"
    },
    {
     "data": {
      "text/html": [
       "<h3>Cluster 46.38</h3>"
      ],
      "text/plain": [
       "<IPython.core.display.HTML object>"
      ]
     },
     "metadata": {},
     "output_type": "display_data"
    },
    {
     "data": {
      "text/plain": [
       "1"
      ]
     },
     "metadata": {},
     "output_type": "display_data"
    },
    {
     "data": {
      "text/plain": [
       "Index(['1737-Childhood_sunburn_occasions'], dtype='object')"
      ]
     },
     "metadata": {},
     "output_type": "display_data"
    },
    {
     "data": {
      "text/html": [
       "<h3>Cluster 46.39</h3>"
      ],
      "text/plain": [
       "<IPython.core.display.HTML object>"
      ]
     },
     "metadata": {},
     "output_type": "display_data"
    },
    {
     "data": {
      "text/plain": [
       "12"
      ]
     },
     "metadata": {},
     "output_type": "display_data"
    },
    {
     "data": {
      "text/plain": [
       "Index(['3144_raw-Heel_Broadband_ultrasound_attenuation_direct_entry',\n",
       "       '3147_raw-Heel_quantitative_ultrasound_index_QUI_direct_entry',\n",
       "       '3148_raw-Heel_bone_mineral_density_BMD',\n",
       "       '4101_raw-Heel_broadband_ultrasound_attenuation_left',\n",
       "       '4104_raw-Heel_quantitative_ultrasound_index_QUI_direct_entry_left',\n",
       "       '4105_raw-Heel_bone_mineral_density_BMD_left',\n",
       "       '4106_raw-Heel_bone_mineral_density_BMD_Tscore_automated_left',\n",
       "       '4120_raw-Heel_broadband_ultrasound_attenuation_right',\n",
       "       '4123_raw-Heel_quantitative_ultrasound_index_QUI_direct_entry_right',\n",
       "       '4124_raw-Heel_bone_mineral_density_BMD_right',\n",
       "       '4125_raw-Heel_bone_mineral_density_BMD_Tscore_automated_right',\n",
       "       '78_raw-Heel_bone_mineral_density_BMD_Tscore_automated'],\n",
       "      dtype='object')"
      ]
     },
     "metadata": {},
     "output_type": "display_data"
    },
    {
     "data": {
      "text/html": [
       "<h3>Cluster 46.40</h3>"
      ],
      "text/plain": [
       "<IPython.core.display.HTML object>"
      ]
     },
     "metadata": {},
     "output_type": "display_data"
    },
    {
     "data": {
      "text/plain": [
       "17"
      ]
     },
     "metadata": {},
     "output_type": "display_data"
    },
    {
     "data": {
      "text/plain": [
       "Index(['20003_1140883066-Treatmentmedication_code_insulin_product',\n",
       "       '20003_1141191044-Treatmentmedication_code_levothyroxine_sodium',\n",
       "       '2976_raw-Age_diabetes_diagnosed',\n",
       "       '2986-Started_insulin_within_one_year_diagnosis_of_diabetes',\n",
       "       '6144_3-Never_eat_eggs_dairy_wheat_sugar_Wheat_products',\n",
       "       '6153_3-Medication_for_cholesterol_blood_pressure_diabetes_or_take_exogenous_hormones_Insulin',\n",
       "       '6177_3-Medication_for_cholesterol_blood_pressure_or_diabetes_Insulin',\n",
       "       'K11_COELIAC-Coeliac_disease', 'celiac disease',\n",
       "       'hyperthyroidism AND thyrotoxicosis', 'hypothyroidism AND myxedema',\n",
       "       'malabsorption syndrome', 'psoriasis', 'rheumatoid arthritis',\n",
       "       'sarcoidosis', 'systemic lupus erythematosus',\n",
       "       'type i diabetes mellitus'],\n",
       "      dtype='object')"
      ]
     },
     "metadata": {},
     "output_type": "display_data"
    },
    {
     "data": {
      "text/html": [
       "<h3>Cluster 46.41</h3>"
      ],
      "text/plain": [
       "<IPython.core.display.HTML object>"
      ]
     },
     "metadata": {},
     "output_type": "display_data"
    },
    {
     "data": {
      "text/plain": [
       "3"
      ]
     },
     "metadata": {},
     "output_type": "display_data"
    },
    {
     "data": {
      "text/plain": [
       "Index(['M13_DUPUTRYEN-Palmar_fascial_fibromatosis_Dupuytren',\n",
       "       'M13_FIBROBLASTIC-Fibroblastic_disorders', 'fibroblastic disorder'],\n",
       "      dtype='object')"
      ]
     },
     "metadata": {},
     "output_type": "display_data"
    },
    {
     "data": {
      "text/html": [
       "<h3>Cluster 46.42</h3>"
      ],
      "text/plain": [
       "<IPython.core.display.HTML object>"
      ]
     },
     "metadata": {},
     "output_type": "display_data"
    },
    {
     "data": {
      "text/plain": [
       "6"
      ]
     },
     "metadata": {},
     "output_type": "display_data"
    },
    {
     "data": {
      "text/plain": [
       "Index(['20003_1140861998-Treatmentmedication_code_ventolin_100micrograms_inhaler',\n",
       "       '30120_raw-Lymphocyte_count',\n",
       "       '6152_100-Blood_clot_DVT_bronchitis_emphysema_asthma_rhinitis_eczema_allergy_diagnosed_by_doctor_None_of_the_above',\n",
       "       '6152_8-Blood_clot_DVT_bronchitis_emphysema_asthma_rhinitis_eczema_allergy_diagnosed_by_doctor_Asthma',\n",
       "       '6152_9-Blood_clot_DVT_bronchitis_emphysema_asthma_rhinitis_eczema_allergy_diagnosed_by_doctor_Hayfever_allergic_rhinitis_or_eczema',\n",
       "       'asthma'],\n",
       "      dtype='object')"
      ]
     },
     "metadata": {},
     "output_type": "display_data"
    },
    {
     "data": {
      "text/html": [
       "<h3>Cluster 46.43</h3>"
      ],
      "text/plain": [
       "<IPython.core.display.HTML object>"
      ]
     },
     "metadata": {},
     "output_type": "display_data"
    },
    {
     "data": {
      "text/plain": [
       "1"
      ]
     },
     "metadata": {},
     "output_type": "display_data"
    },
    {
     "data": {
      "text/plain": [
       "Index(['6149_1-Mouthteeth_dental_problems_Mouth_ulcers'], dtype='object')"
      ]
     },
     "metadata": {},
     "output_type": "display_data"
    },
    {
     "data": {
      "text/html": [
       "<h3>Cluster 46.44</h3>"
      ],
      "text/plain": [
       "<IPython.core.display.HTML object>"
      ]
     },
     "metadata": {},
     "output_type": "display_data"
    },
    {
     "data": {
      "text/plain": [
       "2"
      ]
     },
     "metadata": {},
     "output_type": "display_data"
    },
    {
     "data": {
      "text/plain": [
       "Index(['46_raw-Hand_grip_strength_left', '47_raw-Hand_grip_strength_right'], dtype='object')"
      ]
     },
     "metadata": {},
     "output_type": "display_data"
    },
    {
     "data": {
      "text/html": [
       "<h3>Cluster 46.45</h3>"
      ],
      "text/plain": [
       "<IPython.core.display.HTML object>"
      ]
     },
     "metadata": {},
     "output_type": "display_data"
    },
    {
     "data": {
      "text/plain": [
       "8"
      ]
     },
     "metadata": {},
     "output_type": "display_data"
    },
    {
     "data": {
      "text/plain": [
       "Index(['24013-Total_traffic_load_on_major_roads', '24014-Close_to_major_road',\n",
       "       '24015-Sum_of_road_length_of_major_roads_within_100m',\n",
       "       '24020_raw-Average_daytime_sound_level_of_noise_pollution',\n",
       "       '24021_raw-Average_evening_sound_level_of_noise_pollution',\n",
       "       '24022_raw-Average_nighttime_sound_level_of_noise_pollution',\n",
       "       '24023_raw-Average_16hour_sound_level_of_noise_pollution',\n",
       "       '24024_raw-Average_24hour_sound_level_of_noise_pollution'],\n",
       "      dtype='object')"
      ]
     },
     "metadata": {},
     "output_type": "display_data"
    },
    {
     "data": {
      "text/html": [
       "<h2>Partition with k=47</h2>"
      ],
      "text/plain": [
       "<IPython.core.display.HTML object>"
      ]
     },
     "metadata": {},
     "output_type": "display_data"
    },
    {
     "data": {
      "text/plain": [
       "method                              eac_average_coassoc_matrix\n",
       "partition    [25, 25, 25, 25, 25, 25, 25, 25, 25, 6, 25, 25...\n",
       "ami_mean                                              0.285558\n",
       "selected                                                  True\n",
       "Name: 47, dtype: object"
      ]
     },
     "metadata": {},
     "output_type": "display_data"
    },
    {
     "data": {
      "text/plain": [
       "(3752,)"
      ]
     },
     "metadata": {},
     "output_type": "display_data"
    },
    {
     "data": {
      "text/plain": [
       "9     766\n",
       "4     453\n",
       "5     394\n",
       "6     390\n",
       "20    321\n",
       "10    314\n",
       "2     266\n",
       "0     241\n",
       "7     218\n",
       "13     49\n",
       "19     43\n",
       "15     21\n",
       "3      19\n",
       "25     18\n",
       "1      18\n",
       "12     17\n",
       "40     17\n",
       "22     15\n",
       "27     15\n",
       "29     15\n",
       "30     14\n",
       "39     12\n",
       "11     11\n",
       "32      8\n",
       "45      8\n",
       "33      8\n",
       "26      7\n",
       "16      7\n",
       "42      6\n",
       "18      6\n",
       "24      6\n",
       "37      5\n",
       "14      5\n",
       "23      5\n",
       "17      5\n",
       "21      4\n",
       "36      4\n",
       "35      4\n",
       "28      3\n",
       "8       3\n",
       "41      3\n",
       "44      2\n",
       "46      2\n",
       "43      1\n",
       "34      1\n",
       "31      1\n",
       "38      1\n",
       "dtype: int64"
      ]
     },
     "metadata": {},
     "output_type": "display_data"
    },
    {
     "data": {
      "text/html": [
       "<h3>Cluster 47.0</h3>"
      ],
      "text/plain": [
       "<IPython.core.display.HTML object>"
      ]
     },
     "metadata": {},
     "output_type": "display_data"
    },
    {
     "data": {
      "text/plain": [
       "241"
      ]
     },
     "metadata": {},
     "output_type": "display_data"
    },
    {
     "data": {
      "text/plain": [
       "Index(['1021-Duration_of_light_DIY', '102_raw-Pulse_rate_automated_reading',\n",
       "       '1050-Time_spend_outdoors_in_summer',\n",
       "       '1060-Time_spent_outdoors_in_winter',\n",
       "       '1070-Time_spent_watching_television_TV',\n",
       "       '1080-Time_spent_using_computer', '1090-Time_spent_driving',\n",
       "       '1100-Drive_faster_than_motorway_speed_limit',\n",
       "       '110001-Invitation_to_complete_online_24hour_recall_dietary_questionnaire_acceptance',\n",
       "       '1110-Length_of_mobile_phone_use',\n",
       "       ...\n",
       "       'self rated health', 'self reported educational attainment',\n",
       "       'sleep duration', 'smoking behavior', 'smoking cessation',\n",
       "       'snoring measurement', 'tiredness measurement', 'varicose veins',\n",
       "       'wheezing', 'worry measurement'],\n",
       "      dtype='object', length=241)"
      ]
     },
     "metadata": {},
     "output_type": "display_data"
    },
    {
     "data": {
      "text/html": [
       "<h3>Cluster 47.1</h3>"
      ],
      "text/plain": [
       "<IPython.core.display.HTML object>"
      ]
     },
     "metadata": {},
     "output_type": "display_data"
    },
    {
     "data": {
      "text/plain": [
       "18"
      ]
     },
     "metadata": {},
     "output_type": "display_data"
    },
    {
     "data": {
      "text/plain": [
       "Index(['30000_raw-White_blood_cell_leukocyte_count',\n",
       "       '30130_raw-Monocyte_count', '30140_raw-Neutrophill_count',\n",
       "       '30150-Eosinophill_count', '30180_raw-Lymphocyte_percentage',\n",
       "       '30190_raw-Monocyte_percentage', '30200_raw-Neutrophill_percentage',\n",
       "       '30210_raw-Eosinophill_percentage', 'eosinophil count',\n",
       "       'granulocyte count', 'leukocyte count', 'lymphocyte count',\n",
       "       'monocyte count', 'myeloid white cell count', 'neutrophil count',\n",
       "       'sum of basophil and neutrophil counts',\n",
       "       'sum of eosinophil and basophil counts',\n",
       "       'sum of neutrophil and eosinophil counts'],\n",
       "      dtype='object')"
      ]
     },
     "metadata": {},
     "output_type": "display_data"
    },
    {
     "data": {
      "text/html": [
       "<h3>Cluster 47.2</h3>"
      ],
      "text/plain": [
       "<IPython.core.display.HTML object>"
      ]
     },
     "metadata": {},
     "output_type": "display_data"
    },
    {
     "data": {
      "text/plain": [
       "266"
      ]
     },
     "metadata": {},
     "output_type": "display_data"
    },
    {
     "data": {
      "text/plain": [
       "Index(['20111_101-Illnesses_of_siblings_None_of_the_above_group_2',\n",
       "       '20111_12-Illnesses_of_siblings_Severe_depression',\n",
       "       '20112_8-Illnesses_of_adopted_father_High_blood_pressure',\n",
       "       '20112_9-Illnesses_of_adopted_father_Diabetes',\n",
       "       '20113_10-Illnesses_of_adopted_mother_Alzheimers_diseasedementia',\n",
       "       '20113_101-Illnesses_of_adopted_mother_None_of_the_above_group_2',\n",
       "       '20113_2-Illnesses_of_adopted_mother_Stroke',\n",
       "       '20113_4-Illnesses_of_adopted_mother_Bowel_cancer',\n",
       "       '20113_5-Illnesses_of_adopted_mother_Breast_cancer',\n",
       "       '20113_8-Illnesses_of_adopted_mother_High_blood_pressure',\n",
       "       ...\n",
       "       '22601_31113086-Job_coding_laboratory_technician',\n",
       "       '22601_31122951-Job_coding_electricalelectronics_technician',\n",
       "       '22601_31153052-Job_coding_quality_assurance_technician_or_coordinator',\n",
       "       '22601_31193055-Job_coding_other_engineering_technician_including_materials_technician_technical_assistant_technical_officer',\n",
       "       '22601_32113077-Job_coding_health_visitor',\n",
       "       '22601_32323112-Job_coding_benefits_advisor_citizens_advice_bureau_adviser_debt_counsellor',\n",
       "       '22601_32323410-Job_coding_schoolstudent_counsellor_school_attendance_officer',\n",
       "       '22601_34333162-Job_coding_public_relations_officer_press_officer_information_officer',\n",
       "       '22601_35333266-Job_coding_insurance_underwriter_insurance_inspector_insurance_account_handler',\n",
       "       '22601_35623213-Job_coding_personnel_or_industrial_relations_officer_recruitment_consultant'],\n",
       "      dtype='object', length=266)"
      ]
     },
     "metadata": {},
     "output_type": "display_data"
    },
    {
     "data": {
      "text/html": [
       "<h3>Cluster 47.3</h3>"
      ],
      "text/plain": [
       "<IPython.core.display.HTML object>"
      ]
     },
     "metadata": {},
     "output_type": "display_data"
    },
    {
     "data": {
      "text/plain": [
       "19"
      ]
     },
     "metadata": {},
     "output_type": "display_data"
    },
    {
     "data": {
      "text/plain": [
       "Index(['EAGLE_Eczema', 'Jones_et_al_2016_Chronotype', 'MAGNETIC_CH2.DB.ratio',\n",
       "       'MAGNETIC_HDL.C', 'MAGNETIC_IDL.TG', 'MAGNETIC_LDL.C',\n",
       "       'SSGAC_Education_Years_Pooled', 'alzheimer's disease',\n",
       "       'attention deficit hyperactivity disorder', 'bone density',\n",
       "       'coronary artery disease', 'estrogen-receptor negative breast cancer',\n",
       "       'estrogen-receptor positive breast cancer',\n",
       "       'family history of breast cancer', 'fasting blood glucose measurement',\n",
       "       'fasting blood insulin measurement', 'inflammatory bowel disease',\n",
       "       'intracranial volume measurement', 'schizophrenia'],\n",
       "      dtype='object')"
      ]
     },
     "metadata": {},
     "output_type": "display_data"
    },
    {
     "data": {
      "text/html": [
       "<h3>Cluster 47.4</h3>"
      ],
      "text/plain": [
       "<IPython.core.display.HTML object>"
      ]
     },
     "metadata": {},
     "output_type": "display_data"
    },
    {
     "data": {
      "text/plain": [
       "453"
      ]
     },
     "metadata": {},
     "output_type": "display_data"
    },
    {
     "data": {
      "text/plain": [
       "Index(['20003_1140879616-Treatmentmedication_code_amitriptyline',\n",
       "       '20003_1140879630-Treatmentmedication_code_imipramine',\n",
       "       '20003_1140879634-Treatmentmedication_code_trazodone',\n",
       "       '20003_1140879762-Treatmentmedication_code_celiprolol',\n",
       "       '20003_1140879778-Treatmentmedication_code_doxazosin',\n",
       "       '20003_1140879792-Treatmentmedication_code_terbutaline',\n",
       "       '20003_1140879798-Treatmentmedication_code_terazosin',\n",
       "       '20003_1140879818-Treatmentmedication_code_metoprolol',\n",
       "       '20003_1140880086-Treatmentmedication_code_calcipotriol',\n",
       "       '20003_1140881446-Treatmentmedication_code_proctosedyl_ointment',\n",
       "       ...\n",
       "       '20112_13-Illnesses_of_adopted_father_Prostate_cancer',\n",
       "       '20112_2-Illnesses_of_adopted_father_Stroke',\n",
       "       '20112_3-Illnesses_of_adopted_father_Lung_cancer',\n",
       "       '20112_4-Illnesses_of_adopted_father_Bowel_cancer',\n",
       "       '20112_6-Illnesses_of_adopted_father_Chronic_bronchitisemphysema',\n",
       "       '20113_1-Illnesses_of_adopted_mother_Heart_disease',\n",
       "       '20113_100-Illnesses_of_adopted_mother_None_of_the_above_group_1',\n",
       "       '20113_12-Illnesses_of_adopted_mother_Severe_depression',\n",
       "       '20113_3-Illnesses_of_adopted_mother_Lung_cancer',\n",
       "       '20113_6-Illnesses_of_adopted_mother_Chronic_bronchitisemphysema'],\n",
       "      dtype='object', length=453)"
      ]
     },
     "metadata": {},
     "output_type": "display_data"
    },
    {
     "data": {
      "text/html": [
       "<h3>Cluster 47.5</h3>"
      ],
      "text/plain": [
       "<IPython.core.display.HTML object>"
      ]
     },
     "metadata": {},
     "output_type": "display_data"
    },
    {
     "data": {
      "text/plain": [
       "394"
      ]
     },
     "metadata": {},
     "output_type": "display_data"
    },
    {
     "data": {
      "text/plain": [
       "Index(['40001_G122-Underlying_primary_cause_of_death_ICD10_G122_Motor_neuron_disease',\n",
       "       '6152_6-Blood_clot_DVT_bronchitis_emphysema_asthma_rhinitis_eczema_allergy_diagnosed_by_doctor_Emphysemachronic_bronchitis',\n",
       "       '6157_100-Why_stopped_smoking_None_of_the_above',\n",
       "       '6157_3-Why_stopped_smoking_Health_precaution',\n",
       "       '6157_4-Why_stopped_smoking_Financial_reasons',\n",
       "       '6160_5-Leisuresocial_activities_Other_group_activity',\n",
       "       '6162_3-Types_of_transport_used_excluding_work_Public_transport',\n",
       "       '6179_4-Mineral_and_other_dietary_supplements_Zinc',\n",
       "       '6179_5-Mineral_and_other_dietary_supplements_Iron',\n",
       "       '6179_6-Mineral_and_other_dietary_supplements_Selenium',\n",
       "       ...\n",
       "       'immune system disease', 'inner ear disease', 'keratitis',\n",
       "       'lacrimal apparatus disease', 'obesity', 'paralytic strabismus',\n",
       "       'polyneuropathy', 'purpura', 'retinal detachment',\n",
       "       'retinal vein occlusion'],\n",
       "      dtype='object', length=394)"
      ]
     },
     "metadata": {},
     "output_type": "display_data"
    },
    {
     "data": {
      "text/html": [
       "<h3>Cluster 47.6</h3>"
      ],
      "text/plain": [
       "<IPython.core.display.HTML object>"
      ]
     },
     "metadata": {},
     "output_type": "display_data"
    },
    {
     "data": {
      "text/plain": [
       "390"
      ]
     },
     "metadata": {},
     "output_type": "display_data"
    },
    {
     "data": {
      "text/plain": [
       "Index(['100010-Portion_size', '1001-Duration_of_strenuous_sports',\n",
       "       '100150-Drinking_water_intake', '100160-Low_calorie_drink_intake',\n",
       "       '100170-Fizzy_drink_intake', '100190-Orange_juice_intake',\n",
       "       '100360-Decaffeinated_coffee', '100370-Intake_of_sugar_added_to_coffee',\n",
       "       '100390-Tea_consumed', '100400-Standard_tea_intake',\n",
       "       ...\n",
       "       'viral disease', 'viral human hepatitis infection', 'viral meningitis',\n",
       "       'visual impairment', 'vitiligo', 'vitreous body disease',\n",
       "       'vocal cord polyp', 'voice disorders',\n",
       "       'wellbeing measurement AND family relationship', 'whooping cough'],\n",
       "      dtype='object', length=390)"
      ]
     },
     "metadata": {},
     "output_type": "display_data"
    },
    {
     "data": {
      "text/html": [
       "<h3>Cluster 47.7</h3>"
      ],
      "text/plain": [
       "<IPython.core.display.HTML object>"
      ]
     },
     "metadata": {},
     "output_type": "display_data"
    },
    {
     "data": {
      "text/plain": [
       "218"
      ]
     },
     "metadata": {},
     "output_type": "display_data"
    },
    {
     "data": {
      "text/plain": [
       "Index(['40001_C259-Underlying_primary_cause_of_death_ICD10_C259_Pancreas_unspecified',\n",
       "       '40001_C459-Underlying_primary_cause_of_death_ICD10_C459_Mesothelioma_unspecified',\n",
       "       '41248_3001-Destinations_on_discharge_from_hospital_recoded_High_security_psychiatric_hospital_NHS',\n",
       "       '41248_5003-Destinations_on_discharge_from_hospital_recoded_Transfer_to_other_NHS_provider_Psychiatry_learning_disabilities',\n",
       "       '41248_6000-Destinations_on_discharge_from_hospital_recoded_Transfer_within_NHS_provider',\n",
       "       '4233_raw-Mean_signaltonoise_ratio_SNR_left',\n",
       "       '4244_raw-Mean_signaltonoise_ratio_SNR_right',\n",
       "       '4269-Number_of_triplets_attempted_left',\n",
       "       '4270-Volume_level_set_by_participant_left',\n",
       "       '4276-Number_of_triplets_attempted_right',\n",
       "       ...\n",
       "       '6158_1-Why_reduced_smoking_Illness_or_ill_health',\n",
       "       '6158_100-Why_reduced_smoking_None_of_the_above',\n",
       "       '6158_2-Why_reduced_smoking_Doctors_advice',\n",
       "       '6158_3-Why_reduced_smoking_Health_precaution',\n",
       "       '6158_4-Why_reduced_smoking_Financial_reasons',\n",
       "       '6159_2-Pain_types_experienced_in_last_month_Facial_pain',\n",
       "       '6159_8-Pain_types_experienced_in_last_month_Pain_all_over_the_body',\n",
       "       '6162_100-Types_of_transport_used_excluding_work_None_of_the_above',\n",
       "       '709-Number_in_household', 'C_PANCREAS-Malignant_neoplasm_of_pancreas'],\n",
       "      dtype='object', length=218)"
      ]
     },
     "metadata": {},
     "output_type": "display_data"
    },
    {
     "data": {
      "text/html": [
       "<h3>Cluster 47.8</h3>"
      ],
      "text/plain": [
       "<IPython.core.display.HTML object>"
      ]
     },
     "metadata": {},
     "output_type": "display_data"
    },
    {
     "data": {
      "text/plain": [
       "3"
      ]
     },
     "metadata": {},
     "output_type": "display_data"
    },
    {
     "data": {
      "text/plain": [
       "Index(['eczema', 'seasonal allergic rhinitis',\n",
       "       'seasonal allergic rhinitis AND allergic rhinitis'],\n",
       "      dtype='object')"
      ]
     },
     "metadata": {},
     "output_type": "display_data"
    },
    {
     "data": {
      "text/html": [
       "<h3>Cluster 47.9</h3>"
      ],
      "text/plain": [
       "<IPython.core.display.HTML object>"
      ]
     },
     "metadata": {},
     "output_type": "display_data"
    },
    {
     "data": {
      "text/plain": [
       "766"
      ]
     },
     "metadata": {},
     "output_type": "display_data"
    },
    {
     "data": {
      "text/plain": [
       "Index(['22601_11113200-Job_coding_senior_official_in_central_government_including_members_of_the_senior_civil_service_and_the_equivalent_in_the_diplomatic_service_mps_meps',\n",
       "       '22601_11123211-Job_coding_director_or_chief_executive_of_private_organisationcompany_company_chairman_or_president_general_manager',\n",
       "       '22601_11133201-Job_coding_senior_official_in_local_government_including_parish_or_town_or_county_chief_clerk_chief_or_superintendent_rate_collector_chief_executive_or_director_councillor',\n",
       "       '22601_11143212-Job_coding_senior_official_of_special_interest_organisation_including_general_manager_or_director_or_executive_or_general_secretary_of_charity_or_trade_unionassociation_or_religious_organisation',\n",
       "       '22601_11212692-Job_coding_production_works_or_maintenance_manager',\n",
       "       '22601_11222591-Job_coding_manager_in_construction_clerk_of_works_site_manager_contracts_manager_highways_manager',\n",
       "       '22601_11232861-Job_coding_manager_in_mining_energy_production_or_water_supply',\n",
       "       '22601_11313221-Job_coding_financial_services_manager_chartered_secretary_banker_merchant_or_investment_banker_finance_director_tax_manager',\n",
       "       '22601_11323222-Job_coding_sales_or_marketing_managerdirector_exportimport_manager_business_development_manager_advertisingcommercial_manager',\n",
       "       '22601_11333223-Job_coding_purchasing_managerdirector_not_retail_supplies_manager',\n",
       "       ...\n",
       "       '41248_6005-Destinations_on_discharge_from_hospital_recoded_Transfer_within_NHS_provider_Medical_specialty',\n",
       "       '41248_6007-Destinations_on_discharge_from_hospital_recoded_Transfer_within_NHS_provider_Geriatrics',\n",
       "       '41248_7001-Destinations_on_discharge_from_hospital_recoded_Nursing_residential_care_group_home_NHS',\n",
       "       '41248_7002-Destinations_on_discharge_from_hospital_recoded_Nursing_residential_care_group_home_Local_Authoritory',\n",
       "       '41248_7003-Destinations_on_discharge_from_hospital_recoded_Nursing_residential_care_group_home_NonNHS',\n",
       "       '41248_8002-Destinations_on_discharge_from_hospital_recoded_Other_hospital_NonNHS',\n",
       "       '4195_raw-Pulse_wave_reflection_index',\n",
       "       '4230_raw-Signaltonoiseratio_SNR_of_triplet_left',\n",
       "       '4241_raw-Signaltonoiseratio_SNR_of_triplet_right',\n",
       "       '4462-Average_monthly_intake_of_other_alcoholic_drinks'],\n",
       "      dtype='object', length=766)"
      ]
     },
     "metadata": {},
     "output_type": "display_data"
    },
    {
     "data": {
      "text/html": [
       "<h3>Cluster 47.10</h3>"
      ],
      "text/plain": [
       "<IPython.core.display.HTML object>"
      ]
     },
     "metadata": {},
     "output_type": "display_data"
    },
    {
     "data": {
      "text/plain": [
       "314"
      ]
     },
     "metadata": {},
     "output_type": "display_data"
    },
    {
     "data": {
      "text/plain": [
       "Index(['100013_raw-Vitamin_B12', '100018_raw-Retinol', '100019_raw-Carotene',\n",
       "       '100021_raw-Vitamin_D', '100022-Alcohol', '100240-Coffee_consumed',\n",
       "       '100250-Instant_coffee_intake', '100260-Added_milk_to_instant_coffee',\n",
       "       '100270-Filtered_coffee_intake', '100280-Added_milk_to_filtered_coffee',\n",
       "       ...\n",
       "       '20003_1140879644-Treatmentmedication_code_amantadine',\n",
       "       '20003_1140879658-Treatmentmedication_code_chlorpromazine',\n",
       "       '20003_1140879760-Treatmentmedication_code_bisoprolol',\n",
       "       '20003_1140879806-Treatmentmedication_code_diltiazem',\n",
       "       '20003_1140879842-Treatmentmedication_code_propranolol',\n",
       "       '20003_1140879854-Treatmentmedication_code_sotalol',\n",
       "       '20003_1140879866-Treatmentmedication_code_timolol',\n",
       "       '20003_1140880072-Treatmentmedication_code_gamolenic_acid',\n",
       "       '20003_1140880956-Treatmentmedication_code_fentanyl',\n",
       "       '20003_1140881320-Treatmentmedication_code_magnesium_carbonate'],\n",
       "      dtype='object', length=314)"
      ]
     },
     "metadata": {},
     "output_type": "display_data"
    },
    {
     "data": {
      "text/html": [
       "<h3>Cluster 47.11</h3>"
      ],
      "text/plain": [
       "<IPython.core.display.HTML object>"
      ]
     },
     "metadata": {},
     "output_type": "display_data"
    },
    {
     "data": {
      "text/plain": [
       "11"
      ]
     },
     "metadata": {},
     "output_type": "display_data"
    },
    {
     "data": {
      "text/plain": [
       "Index(['1707_1-Handedness_chiralitylaterality_Righthanded',\n",
       "       '20003_1140865634-Treatmentmedication_code_omeprazole',\n",
       "       'C3_SKIN-Malignant_neoplasm_of_skin',\n",
       "       'C_OTHER_SKIN-Other_malignant_neoplasms_of_skin', 'C_SKIN',\n",
       "       'KNEE_ARTHROSIS-Gonarthrosis_arthrosis_of_kneeFG',\n",
       "       'M13_ARTHROSIS-Arthrosis', 'depressive episode measurement',\n",
       "       'functional laterality', 'osteoarthritis, knee', 'skin neoplasm'],\n",
       "      dtype='object')"
      ]
     },
     "metadata": {},
     "output_type": "display_data"
    },
    {
     "data": {
      "text/html": [
       "<h3>Cluster 47.12</h3>"
      ],
      "text/plain": [
       "<IPython.core.display.HTML object>"
      ]
     },
     "metadata": {},
     "output_type": "display_data"
    },
    {
     "data": {
      "text/plain": [
       "17"
      ]
     },
     "metadata": {},
     "output_type": "display_data"
    },
    {
     "data": {
      "text/plain": [
       "Index(['6152_5-Blood_clot_DVT_bronchitis_emphysema_asthma_rhinitis_eczema_allergy_diagnosed_by_doctor_Blood_clot_in_the_leg_DVT',\n",
       "       'G6_CARPTU-Carpal_tunnel_syndrome',\n",
       "       'G6_NERPLEX-Nerve_nerve_root_and_plexus_disorders',\n",
       "       'I9_DVTANDPULM-DVT_of_lower_extremities_and_pulmonary_embolism',\n",
       "       'I9_PHLETHROMBDVTLOW-DVT_of_lower_extremities',\n",
       "       'I9_VTE-Venous_thromboembolism',\n",
       "       'K11_GALLBILPANC-Disorders_of_gallbladder_biliary_tract_and_pancreas',\n",
       "       'OTHER_ILD_CVD_COMORB-Other_ILDrelated_CVDcomorbidities',\n",
       "       'ULCERNAS-Ulcerative_colitis_NAS',\n",
       "       'VI_NERVOUS-Diseases_of_the_nervous_system',\n",
       "       'XII_SKIN_SUBCUTAN-Diseases_of_the_skin_and_subcutaneous_tissue',\n",
       "       'birth weight', 'cholelithiasis', 'deep vein thrombosis',\n",
       "       'mononeuropathy', 'phlebitis AND thrombophlebitis',\n",
       "       'pulmonary embolism'],\n",
       "      dtype='object')"
      ]
     },
     "metadata": {},
     "output_type": "display_data"
    },
    {
     "data": {
      "text/html": [
       "<h3>Cluster 47.13</h3>"
      ],
      "text/plain": [
       "<IPython.core.display.HTML object>"
      ]
     },
     "metadata": {},
     "output_type": "display_data"
    },
    {
     "data": {
      "text/plain": [
       "49"
      ]
     },
     "metadata": {},
     "output_type": "display_data"
    },
    {
     "data": {
      "text/plain": [
       "Index(['20015_raw-Sitting_height',\n",
       "       '20150_raw-Forced_expiratory_volume_in_1second_FEV1_Best_measure',\n",
       "       '20151_raw-Forced_vital_capacity_FVC_Best_measure',\n",
       "       '20153_raw-Forced_expiratory_volume_in_1second_FEV1_predicted',\n",
       "       '20154_raw-Forced_expiratory_volume_in_1second_FEV1_predicted_percentage',\n",
       "       '21001_raw-Body_mass_index_BMI', '21002_raw-Weight', '23098_raw-Weight',\n",
       "       '23099_raw-Body_fat_percentage', '23100_raw-Whole_body_fat_mass',\n",
       "       '23101_raw-Whole_body_fatfree_mass', '23102_raw-Whole_body_water_mass',\n",
       "       '23104_raw-Body_mass_index_BMI', '23105_raw-Basal_metabolic_rate',\n",
       "       '23106_raw-Impedance_of_whole_body', '23107_raw-Impedance_of_leg_right',\n",
       "       '23108_raw-Impedance_of_leg_left', '23109_raw-Impedance_of_arm_right',\n",
       "       '23110_raw-Impedance_of_arm_left', '23111_raw-Leg_fat_percentage_right',\n",
       "       '23112_raw-Leg_fat_mass_right', '23113_raw-Leg_fatfree_mass_right',\n",
       "       '23114_raw-Leg_predicted_mass_right',\n",
       "       '23115_raw-Leg_fat_percentage_left', '23116_raw-Leg_fat_mass_left',\n",
       "       '23117_raw-Leg_fatfree_mass_left', '23118_raw-Leg_predicted_mass_left',\n",
       "       '23119_raw-Arm_fat_percentage_right', '23120_raw-Arm_fat_mass_right',\n",
       "       '23121_raw-Arm_fatfree_mass_right',\n",
       "       '23122_raw-Arm_predicted_mass_right',\n",
       "       '23123_raw-Arm_fat_percentage_left', '23124_raw-Arm_fat_mass_left',\n",
       "       '23125_raw-Arm_fatfree_mass_left', '23126_raw-Arm_predicted_mass_left',\n",
       "       '23127_raw-Trunk_fat_percentage', '23128_raw-Trunk_fat_mass',\n",
       "       '23129_raw-Trunk_fatfree_mass', '23130_raw-Trunk_predicted_mass',\n",
       "       '3062_raw-Forced_vital_capacity_FVC',\n",
       "       '3063_raw-Forced_expiratory_volume_in_1second_FEV1',\n",
       "       '3064_raw-Peak_expiratory_flow_PEF', '3143_raw-Ankle_spacing_width',\n",
       "       '4100_raw-Ankle_spacing_width_left',\n",
       "       '4119_raw-Ankle_spacing_width_right', '48_raw-Waist_circumference',\n",
       "       '49_raw-Hip_circumference', '50_raw-Standing_height', 'body height'],\n",
       "      dtype='object')"
      ]
     },
     "metadata": {},
     "output_type": "display_data"
    },
    {
     "data": {
      "text/html": [
       "<h3>Cluster 47.14</h3>"
      ],
      "text/plain": [
       "<IPython.core.display.HTML object>"
      ]
     },
     "metadata": {},
     "output_type": "display_data"
    },
    {
     "data": {
      "text/plain": [
       "5"
      ]
     },
     "metadata": {},
     "output_type": "display_data"
    },
    {
     "data": {
      "text/plain": [
       "Index(['20003_1140860696-Treatmentmedication_code_lisinopril',\n",
       "       '20003_1140860806-Treatmentmedication_code_ramipril',\n",
       "       '20003_1140866738-Treatmentmedication_code_atenolol',\n",
       "       '20003_1140884600-Treatmentmedication_code_metformin',\n",
       "       'diabetes mellitus'],\n",
       "      dtype='object')"
      ]
     },
     "metadata": {},
     "output_type": "display_data"
    },
    {
     "data": {
      "text/html": [
       "<h3>Cluster 47.15</h3>"
      ],
      "text/plain": [
       "<IPython.core.display.HTML object>"
      ]
     },
     "metadata": {},
     "output_type": "display_data"
    },
    {
     "data": {
      "text/plain": [
       "21"
      ]
     },
     "metadata": {},
     "output_type": "display_data"
    },
    {
     "data": {
      "text/plain": [
       "Index(['20003_2038460150-Treatmentmedication_code_paracetamol',\n",
       "       '20016_raw-Fluid_intelligence_score', '20022_raw-Birth_weight',\n",
       "       '20023_raw-Mean_time_to_correctly_identify_matches',\n",
       "       '20074_raw-Home_location_at_assessment_east_coordinate_rounded',\n",
       "       '20077-Number_of_diet_questionnaires_completed',\n",
       "       '20086_8-Type_of_special_diet_followed_Glutenfree',\n",
       "       '20107_1-Illnesses_of_father_Heart_disease',\n",
       "       '20107_100-Illnesses_of_father_None_of_the_above_group_1',\n",
       "       '20107_3-Illnesses_of_father_Lung_cancer',\n",
       "       '20107_8-Illnesses_of_father_High_blood_pressure',\n",
       "       '20107_9-Illnesses_of_father_Diabetes',\n",
       "       '20110_1-Illnesses_of_mother_Heart_disease',\n",
       "       '20110_10-Illnesses_of_mother_Alzheimers_diseasedementia',\n",
       "       '20110_100-Illnesses_of_mother_None_of_the_above_group_1',\n",
       "       '20110_8-Illnesses_of_mother_High_blood_pressure',\n",
       "       '20110_9-Illnesses_of_mother_Diabetes',\n",
       "       '20111_1-Illnesses_of_siblings_Heart_disease',\n",
       "       '20111_100-Illnesses_of_siblings_None_of_the_above_group_1',\n",
       "       '20111_8-Illnesses_of_siblings_High_blood_pressure',\n",
       "       '20111_9-Illnesses_of_siblings_Diabetes'],\n",
       "      dtype='object')"
      ]
     },
     "metadata": {},
     "output_type": "display_data"
    },
    {
     "data": {
      "text/html": [
       "<h3>Cluster 47.16</h3>"
      ],
      "text/plain": [
       "<IPython.core.display.HTML object>"
      ]
     },
     "metadata": {},
     "output_type": "display_data"
    },
    {
     "data": {
      "text/plain": [
       "7"
      ]
     },
     "metadata": {},
     "output_type": "display_data"
    },
    {
     "data": {
      "text/plain": [
       "Index(['1717-Skin_colour', '1727-Ease_of_skin_tanning',\n",
       "       '1747_1-Hair_colour_natural_before_greying_Blonde',\n",
       "       '1747_2-Hair_colour_natural_before_greying_Red',\n",
       "       '1747_3-Hair_colour_natural_before_greying_Light_brown',\n",
       "       '1747_4-Hair_colour_natural_before_greying_Dark_brown',\n",
       "       '1747_5-Hair_colour_natural_before_greying_Black'],\n",
       "      dtype='object')"
      ]
     },
     "metadata": {},
     "output_type": "display_data"
    },
    {
     "data": {
      "text/html": [
       "<h3>Cluster 47.17</h3>"
      ],
      "text/plain": [
       "<IPython.core.display.HTML object>"
      ]
     },
     "metadata": {},
     "output_type": "display_data"
    },
    {
     "data": {
      "text/plain": [
       "5"
      ]
     },
     "metadata": {},
     "output_type": "display_data"
    },
    {
     "data": {
      "text/plain": [
       "Index(['30080_raw-Platelet_count', '30090_raw-Platelet_crit',\n",
       "       '30100_raw-Mean_platelet_thrombocyte_volume',\n",
       "       '30110_raw-Platelet_distribution_width', 'platelet count'],\n",
       "      dtype='object')"
      ]
     },
     "metadata": {},
     "output_type": "display_data"
    },
    {
     "data": {
      "text/html": [
       "<h3>Cluster 47.18</h3>"
      ],
      "text/plain": [
       "<IPython.core.display.HTML object>"
      ]
     },
     "metadata": {},
     "output_type": "display_data"
    },
    {
     "data": {
      "text/plain": [
       "6"
      ]
     },
     "metadata": {},
     "output_type": "display_data"
    },
    {
     "data": {
      "text/plain": [
       "Index(['40001_C349-Underlying_primary_cause_of_death_ICD10_C349_Bronchus_or_lung_unspecified',\n",
       "       'C3_RESPIRATORY_INTRATHORACIC-Malignant_neoplasm_of_respiratory_system_and_intrathoracic_organs',\n",
       "       'C_BRONCHUS_LUNG-Malignant_neoplasm_of_bronchus_and_lung',\n",
       "       'C_RESPIRATORY_INTRATHORACIC',\n",
       "       'LUNG_CANCER_MESOT-Lung_cancer_and_mesothelioma', 'lung carcinoma'],\n",
       "      dtype='object')"
      ]
     },
     "metadata": {},
     "output_type": "display_data"
    },
    {
     "data": {
      "text/html": [
       "<h3>Cluster 47.19</h3>"
      ],
      "text/plain": [
       "<IPython.core.display.HTML object>"
      ]
     },
     "metadata": {},
     "output_type": "display_data"
    },
    {
     "data": {
      "text/plain": [
       "43"
      ]
     },
     "metadata": {},
     "output_type": "display_data"
    },
    {
     "data": {
      "text/plain": [
       "Index(['129_raw-Place_of_birth_in_UK_north_coordinate',\n",
       "       '20075_raw-Home_location_at_assessment_north_coordinate_rounded',\n",
       "       '22704_raw-Home_location_north_coordinate_rounded',\n",
       "       'ASTHMA_PNEUMONIA-Asthmarelated_pneumonia',\n",
       "       'G6_EPIPAROX-Episodal_and_paroxysmal_disorders',\n",
       "       'G6_SLEEPAPNO-Sleep_apnoea',\n",
       "       'L12_ATROPHICSKIN-Atrophic_disorders_of_skin',\n",
       "       'L12_SCARCONDITIONS-Scar_conditions_and_fibrosis_of_skin',\n",
       "       'M13_DORSOPATHYOTH-Other_dorsopathies_not_elsewhere_classified',\n",
       "       'M13_MUSCULOSKELEOTH-Other_disorders_of_the_musculoskeletal_system_and_connective_tissue',\n",
       "       'M13_SACROCOGG-Sacrococcygeal_disorders_not_elsewhere_classified',\n",
       "       'PNEUMONIA-Pneumonias_AsthmaCOPD_comorbidities',\n",
       "       'SLEEP-Sleep_disorders_combined', 'abdominal injury', 'bone disease',\n",
       "       'cardiac arrhythmia', 'checkup',\n",
       "       'chronic obstructive pulmonary disease', 'device complication',\n",
       "       'encounter with health service', 'female reproductive system disease',\n",
       "       'follow-up', 'head injury', 'headache', 'heart disease', 'injury',\n",
       "       'joint disease', 'kidney failure', 'leg injury', 'lower limb pain',\n",
       "       'mesothelioma', 'musculoskeletal system disease',\n",
       "       'musculoskeletal system disease AND connective tissue disease',\n",
       "       'nasal cavity polyp', 'pericarditis', 'pneumonia', 'poisoning',\n",
       "       'pregnancy disorder', 'skin atrophy', 'sleep disorder',\n",
       "       'soft tissue disease', 'urogenital neoplasm', 'wrist fracture'],\n",
       "      dtype='object')"
      ]
     },
     "metadata": {},
     "output_type": "display_data"
    },
    {
     "data": {
      "text/html": [
       "<h3>Cluster 47.20</h3>"
      ],
      "text/plain": [
       "<IPython.core.display.HTML object>"
      ]
     },
     "metadata": {},
     "output_type": "display_data"
    },
    {
     "data": {
      "text/plain": [
       "321"
      ]
     },
     "metadata": {},
     "output_type": "display_data"
    },
    {
     "data": {
      "text/plain": [
       "Index(['40001_C719-Underlying_primary_cause_of_death_ICD10_C719_Brain_unspecified',\n",
       "       'ASTHMA_CHILD-Childhood_asthma_age16',\n",
       "       'ASTHMA_HOSPITAL1-Asthma_hospital_admissions_1',\n",
       "       'BACT_INTEST_INFECTION_NOS-Other_specifiedunspecified_bacterial_intestinal_infections',\n",
       "       'C3_DIGESTIVE_ORGANS-Malignant_neoplasm_of_digestive_organs',\n",
       "       'C3_EYE_BRAIN_NEURO-Malignant_neoplasm_of_eye_brain_and_central_nervous_system',\n",
       "       'C3_URINARY_TRACT-Malignant_neoplasm_of_urinary_organs',\n",
       "       'C_BLADDER-Malignant_neoplasm_of_bladder',\n",
       "       'C_BRAIN-Malignant_neoplasm_of_brain',\n",
       "       'C_COLON-Malignant_neoplasm_of_colon',\n",
       "       ...\n",
       "       'iron deficiency anemia', 'kidney neoplasm', 'knee injury',\n",
       "       'muscular disease', 'pigmentation disease', 'skeletal system disease',\n",
       "       'skin disease', 'suppurative otitis media', 'tenosynovitis',\n",
       "       'vasculitis'],\n",
       "      dtype='object', length=321)"
      ]
     },
     "metadata": {},
     "output_type": "display_data"
    },
    {
     "data": {
      "text/html": [
       "<h3>Cluster 47.21</h3>"
      ],
      "text/plain": [
       "<IPython.core.display.HTML object>"
      ]
     },
     "metadata": {},
     "output_type": "display_data"
    },
    {
     "data": {
      "text/plain": [
       "4"
      ]
     },
     "metadata": {},
     "output_type": "display_data"
    },
    {
     "data": {
      "text/plain": [
       "Index(['C3_MALE_GENITAL-malignant_neoplasm_of_male_genital_organs',\n",
       "       'C_MALE_GENITAL', 'C_PROSTATE-Malignant_neoplasm_of_prostate',\n",
       "       'prostate carcinoma'],\n",
       "      dtype='object')"
      ]
     },
     "metadata": {},
     "output_type": "display_data"
    },
    {
     "data": {
      "text/html": [
       "<h3>Cluster 47.22</h3>"
      ],
      "text/plain": [
       "<IPython.core.display.HTML object>"
      ]
     },
     "metadata": {},
     "output_type": "display_data"
    },
    {
     "data": {
      "text/plain": [
       "15"
      ]
     },
     "metadata": {},
     "output_type": "display_data"
    },
    {
     "data": {
      "text/plain": [
       "Index(['20003_1140868226-Treatmentmedication_code_aspirin',\n",
       "       '20003_1141146234-Treatmentmedication_code_atorvastatin',\n",
       "       '6150_1-Vascularheart_problems_diagnosed_by_doctor_Heart_attack',\n",
       "       '6150_2-Vascularheart_problems_diagnosed_by_doctor_Angina',\n",
       "       '6154_1-Medication_for_pain_relief_constipation_heartburn_Aspirin',\n",
       "       'I9_CHD-Major_coronary_heart_disease_event',\n",
       "       'I9_CHD_NOREV-Major_coronary_heart_disease_event_excluding_revascularizations',\n",
       "       'I9_CORATHER-Coronary_atherosclerosis',\n",
       "       'I9_IHD-Ischaemic_heart_disease_wide_definition',\n",
       "       'I9_MI-Myocardial_infarction',\n",
       "       'I9_MI_STRICT-Myocardial_infarction_strict',\n",
       "       'IX_CIRCULATORY-Diseases_of_the_circulatory_system',\n",
       "       'acute myocardial infarction', 'angina pectoris',\n",
       "       'myocardial infarction'],\n",
       "      dtype='object')"
      ]
     },
     "metadata": {},
     "output_type": "display_data"
    },
    {
     "data": {
      "text/html": [
       "<h3>Cluster 47.23</h3>"
      ],
      "text/plain": [
       "<IPython.core.display.HTML object>"
      ]
     },
     "metadata": {},
     "output_type": "display_data"
    },
    {
     "data": {
      "text/plain": [
       "5"
      ]
     },
     "metadata": {},
     "output_type": "display_data"
    },
    {
     "data": {
      "text/plain": [
       "Index(['F5_ALLANXIOUS-All_anxiety_disorders',\n",
       "       'F5_ANXIETY-Other_anxiety_disorders',\n",
       "       'KRA_PSY_ANXIETY-Anxiety_disorders',\n",
       "       'PULM_ANXIETY-Anxiety_asthmarelated_comorbidities', 'anxiety disorder'],\n",
       "      dtype='object')"
      ]
     },
     "metadata": {},
     "output_type": "display_data"
    },
    {
     "data": {
      "text/html": [
       "<h3>Cluster 47.24</h3>"
      ],
      "text/plain": [
       "<IPython.core.display.HTML object>"
      ]
     },
     "metadata": {},
     "output_type": "display_data"
    },
    {
     "data": {
      "text/plain": [
       "6"
      ]
     },
     "metadata": {},
     "output_type": "display_data"
    },
    {
     "data": {
      "text/plain": [
       "Index(['ASTHMA_MEDICATIO_COMORB-Medication_related_adverse_effects',\n",
       "       'H7_LENS-Disorders_of_lens',\n",
       "       'PULM_MEDICATIO_COMORB-Medication_related_adverse_effects_AsthmaCOPD',\n",
       "       'VII_EYE_ADNEXA-Diseases_of_the_eye_and_adnexa', 'age-related cataract',\n",
       "       'cataract'],\n",
       "      dtype='object')"
      ]
     },
     "metadata": {},
     "output_type": "display_data"
    },
    {
     "data": {
      "text/html": [
       "<h3>Cluster 47.25</h3>"
      ],
      "text/plain": [
       "<IPython.core.display.HTML object>"
      ]
     },
     "metadata": {},
     "output_type": "display_data"
    },
    {
     "data": {
      "text/plain": [
       "18"
      ]
     },
     "metadata": {},
     "output_type": "display_data"
    },
    {
     "data": {
      "text/plain": [
       "Index(['100001_raw-Food_weight', '100002_raw-Energy', '100003_raw-Protein',\n",
       "       '100004_raw-Fat', '100005_raw-Carbohydrate', '100006_raw-Saturated_fat',\n",
       "       '100007_raw-Polyunsaturated_fat', '100008_raw-Total_sugars',\n",
       "       '100009_raw-Englyst_dietary_fibre', '100011_raw-Iron',\n",
       "       '100012_raw-Vitamin_B6', '100014_raw-Folate', '100015_raw-Vitamin_C',\n",
       "       '100016_raw-Potassium', '100017_raw-Magnesium', '100023_raw-Starch',\n",
       "       '100024_raw-Calcium', '100025_raw-Vitamin_E'],\n",
       "      dtype='object')"
      ]
     },
     "metadata": {},
     "output_type": "display_data"
    },
    {
     "data": {
      "text/html": [
       "<h3>Cluster 47.26</h3>"
      ],
      "text/plain": [
       "<IPython.core.display.HTML object>"
      ]
     },
     "metadata": {},
     "output_type": "display_data"
    },
    {
     "data": {
      "text/plain": [
       "7"
      ]
     },
     "metadata": {},
     "output_type": "display_data"
    },
    {
     "data": {
      "text/plain": [
       "Index(['5984_raw-ECG_load', '5986_raw-ECG_phase_time',\n",
       "       '5992-ECG_phase_duration', '5993-ECG_number_of_stages_in_a_phase',\n",
       "       '6032_raw-Maximum_workload_during_fitness_test',\n",
       "       '6038_raw-Number_of_trend_entries', '6039-Duration_of_fitness_test'],\n",
       "      dtype='object')"
      ]
     },
     "metadata": {},
     "output_type": "display_data"
    },
    {
     "data": {
      "text/html": [
       "<h3>Cluster 47.27</h3>"
      ],
      "text/plain": [
       "<IPython.core.display.HTML object>"
      ]
     },
     "metadata": {},
     "output_type": "display_data"
    },
    {
     "data": {
      "text/plain": [
       "15"
      ]
     },
     "metadata": {},
     "output_type": "display_data"
    },
    {
     "data": {
      "text/plain": [
       "Index(['20003_1140861958-Treatmentmedication_code_simvastatin',\n",
       "       '20003_1140879802-Treatmentmedication_code_amlodipine',\n",
       "       '20003_1141194794-Treatmentmedication_code_bendroflumethiazide',\n",
       "       '4079_raw-Diastolic_blood_pressure_automated_reading',\n",
       "       '4080_raw-Systolic_blood_pressure_automated_reading',\n",
       "       '6150_100-Vascularheart_problems_diagnosed_by_doctor_None_of_the_above',\n",
       "       '6150_4-Vascularheart_problems_diagnosed_by_doctor_High_blood_pressure',\n",
       "       '6153_1-Medication_for_cholesterol_blood_pressure_diabetes_or_take_exogenous_hormones_Cholesterol_lowering_medication',\n",
       "       '6153_100-Medication_for_cholesterol_blood_pressure_diabetes_or_take_exogenous_hormones_None_of_the_above',\n",
       "       '6153_2-Medication_for_cholesterol_blood_pressure_diabetes_or_take_exogenous_hormones_Blood_pressure_medication',\n",
       "       '6177_1-Medication_for_cholesterol_blood_pressure_or_diabetes_Cholesterol_lowering_medication',\n",
       "       '6177_100-Medication_for_cholesterol_blood_pressure_or_diabetes_None_of_the_above',\n",
       "       '6177_2-Medication_for_cholesterol_blood_pressure_or_diabetes_Blood_pressure_medication',\n",
       "       'hypercholesterolemia', 'hypertension'],\n",
       "      dtype='object')"
      ]
     },
     "metadata": {},
     "output_type": "display_data"
    },
    {
     "data": {
      "text/html": [
       "<h3>Cluster 47.28</h3>"
      ],
      "text/plain": [
       "<IPython.core.display.HTML object>"
      ]
     },
     "metadata": {},
     "output_type": "display_data"
    },
    {
     "data": {
      "text/plain": [
       "3"
      ]
     },
     "metadata": {},
     "output_type": "display_data"
    },
    {
     "data": {
      "text/plain": [
       "Index(['L12_ACTINKERA-Actinic_keratosis',\n",
       "       'L12_NONIONRADISKIN-Skin_changes_due_to_chronic_exposure_to_nonionizing_radiation',\n",
       "       'radiation-induced disorder'],\n",
       "      dtype='object')"
      ]
     },
     "metadata": {},
     "output_type": "display_data"
    },
    {
     "data": {
      "text/html": [
       "<h3>Cluster 47.29</h3>"
      ],
      "text/plain": [
       "<IPython.core.display.HTML object>"
      ]
     },
     "metadata": {},
     "output_type": "display_data"
    },
    {
     "data": {
      "text/plain": [
       "15"
      ]
     },
     "metadata": {},
     "output_type": "display_data"
    },
    {
     "data": {
      "text/plain": [
       "Index(['30010_raw-Red_blood_cell_erythrocyte_count',\n",
       "       '30020_raw-Haemoglobin_concentration',\n",
       "       '30030_raw-Haematocrit_percentage', '30040_raw-Mean_corpuscular_volume',\n",
       "       '30050_raw-Mean_corpuscular_haemoglobin',\n",
       "       '30070_raw-Red_blood_cell_erythrocyte_distribution_width',\n",
       "       '30240_raw-Reticulocyte_percentage', '30250_raw-Reticulocyte_count',\n",
       "       '30260_raw-Mean_reticulocyte_volume',\n",
       "       '30270_raw-Mean_sphered_cell_volume',\n",
       "       '30280_raw-Immature_reticulocyte_fraction',\n",
       "       '30290_raw-High_light_scatter_reticulocyte_percentage',\n",
       "       '30300_raw-High_light_scatter_reticulocyte_count', 'erythrocyte count',\n",
       "       'reticulocyte count'],\n",
       "      dtype='object')"
      ]
     },
     "metadata": {},
     "output_type": "display_data"
    },
    {
     "data": {
      "text/html": [
       "<h3>Cluster 47.30</h3>"
      ],
      "text/plain": [
       "<IPython.core.display.HTML object>"
      ]
     },
     "metadata": {},
     "output_type": "display_data"
    },
    {
     "data": {
      "text/plain": [
       "14"
      ]
     },
     "metadata": {},
     "output_type": "display_data"
    },
    {
     "data": {
      "text/plain": [
       "Index(['20003_1140884516-Treatmentmedication_code_thyroxine_product',\n",
       "       'K11_OTHDIG-Other_diseases_of_the_digestive_system',\n",
       "       'M13_POLYARTHROPATHIES-Polyarthropathies',\n",
       "       'M13_RHEUMA-Rheumatoid_arthritis',\n",
       "       'RHEUMA_NOS-Otherunspecified_rheumatoid_arthritis',\n",
       "       'RHEUMA_SEROPOS-Seropositive_rheumatoid_arthritis',\n",
       "       'RHEUMA_SEROPOS_OTH-Otherunspecified_seropositiverheumatoid_arthritis',\n",
       "       'STILL_ADULT-Adultonset_Still_disease', 'adrenocortical insufficiency',\n",
       "       'ankylosing spondylitis', 'benign prostatic hyperplasia', 'hematuria',\n",
       "       'multiple sclerosis', 'psoriatic arthritis'],\n",
       "      dtype='object')"
      ]
     },
     "metadata": {},
     "output_type": "display_data"
    },
    {
     "data": {
      "text/html": [
       "<h3>Cluster 47.31</h3>"
      ],
      "text/plain": [
       "<IPython.core.display.HTML object>"
      ]
     },
     "metadata": {},
     "output_type": "display_data"
    },
    {
     "data": {
      "text/plain": [
       "1"
      ]
     },
     "metadata": {},
     "output_type": "display_data"
    },
    {
     "data": {
      "text/plain": [
       "Index(['30060_raw-Mean_corpuscular_haemoglobin_concentration'], dtype='object')"
      ]
     },
     "metadata": {},
     "output_type": "display_data"
    },
    {
     "data": {
      "text/html": [
       "<h3>Cluster 47.32</h3>"
      ],
      "text/plain": [
       "<IPython.core.display.HTML object>"
      ]
     },
     "metadata": {},
     "output_type": "display_data"
    },
    {
     "data": {
      "text/plain": [
       "8"
      ]
     },
     "metadata": {},
     "output_type": "display_data"
    },
    {
     "data": {
      "text/plain": [
       "Index(['24003_raw-Nitrogen_dioxide_air_pollution_2010',\n",
       "       '24004_raw-Nitrogen_oxides_air_pollution_2010',\n",
       "       '24006_raw-Particulate_matter_air_pollution_pm25_2010',\n",
       "       '24007_raw-Particulate_matter_air_pollution_pm25_absorbance_2010',\n",
       "       '24016_raw-Nitrogen_dioxide_air_pollution_2005',\n",
       "       '24017_raw-Nitrogen_dioxide_air_pollution_2006',\n",
       "       '24018_raw-Nitrogen_dioxide_air_pollution_2007',\n",
       "       '24019_raw-Particulate_matter_air_pollution_pm10_2007'],\n",
       "      dtype='object')"
      ]
     },
     "metadata": {},
     "output_type": "display_data"
    },
    {
     "data": {
      "text/html": [
       "<h3>Cluster 47.33</h3>"
      ],
      "text/plain": [
       "<IPython.core.display.HTML object>"
      ]
     },
     "metadata": {},
     "output_type": "display_data"
    },
    {
     "data": {
      "text/plain": [
       "8"
      ]
     },
     "metadata": {},
     "output_type": "display_data"
    },
    {
     "data": {
      "text/plain": [
       "Index(['5096_raw-3mm_weak_meridian_left', '5097_raw-6mm_weak_meridian_left',\n",
       "       '5098_raw-6mm_weak_meridian_right', '5099_raw-3mm_weak_meridian_right',\n",
       "       '5132_raw-3mm_strong_meridian_right',\n",
       "       '5133_raw-6mm_strong_meridian_right',\n",
       "       '5134_raw-6mm_strong_meridian_left',\n",
       "       '5135_raw-3mm_strong_meridian_left'],\n",
       "      dtype='object')"
      ]
     },
     "metadata": {},
     "output_type": "display_data"
    },
    {
     "data": {
      "text/html": [
       "<h3>Cluster 47.34</h3>"
      ],
      "text/plain": [
       "<IPython.core.display.HTML object>"
      ]
     },
     "metadata": {},
     "output_type": "display_data"
    },
    {
     "data": {
      "text/plain": [
       "1"
      ]
     },
     "metadata": {},
     "output_type": "display_data"
    },
    {
     "data": {
      "text/plain": [
       "Index(['mineral metabolism disease'], dtype='object')"
      ]
     },
     "metadata": {},
     "output_type": "display_data"
    },
    {
     "data": {
      "text/html": [
       "<h3>Cluster 47.35</h3>"
      ],
      "text/plain": [
       "<IPython.core.display.HTML object>"
      ]
     },
     "metadata": {},
     "output_type": "display_data"
    },
    {
     "data": {
      "text/plain": [
       "4"
      ]
     },
     "metadata": {},
     "output_type": "display_data"
    },
    {
     "data": {
      "text/plain": [
       "Index(['HEARTFAIL-Heart_failure', 'I9_HEARTFAIL-Heart_failurestrict',\n",
       "       'I9_HEARTFAIL_NS-Heart_failure_not_strict', 'heart failure'],\n",
       "      dtype='object')"
      ]
     },
     "metadata": {},
     "output_type": "display_data"
    },
    {
     "data": {
      "text/html": [
       "<h3>Cluster 47.36</h3>"
      ],
      "text/plain": [
       "<IPython.core.display.HTML object>"
      ]
     },
     "metadata": {},
     "output_type": "display_data"
    },
    {
     "data": {
      "text/plain": [
       "4"
      ]
     },
     "metadata": {},
     "output_type": "display_data"
    },
    {
     "data": {
      "text/plain": [
       "Index(['COPD_EXCL-COPD_differential_diagnosis',\n",
       "       'ILD_DIFF_DG-ILD_differential_diagnosis',\n",
       "       'PULMONARYDG-Other_pulmonary_diagnosis',\n",
       "       'X_RESPIRATORY-Diseases_of_the_respiratory_system'],\n",
       "      dtype='object')"
      ]
     },
     "metadata": {},
     "output_type": "display_data"
    },
    {
     "data": {
      "text/html": [
       "<h3>Cluster 47.37</h3>"
      ],
      "text/plain": [
       "<IPython.core.display.HTML object>"
      ]
     },
     "metadata": {},
     "output_type": "display_data"
    },
    {
     "data": {
      "text/plain": [
       "5"
      ]
     },
     "metadata": {},
     "output_type": "display_data"
    },
    {
     "data": {
      "text/plain": [
       "Index(['C_STROKE-STROKE', 'I9_STR-Stroke_excluding_SAH',\n",
       "       'I9_STR_EXH-Ischaemic_Stroke_excluding_all_haemorrhages',\n",
       "       'I9_STR_SAH-Stroke_including_SAH', 'brain infarction'],\n",
       "      dtype='object')"
      ]
     },
     "metadata": {},
     "output_type": "display_data"
    },
    {
     "data": {
      "text/html": [
       "<h3>Cluster 47.38</h3>"
      ],
      "text/plain": [
       "<IPython.core.display.HTML object>"
      ]
     },
     "metadata": {},
     "output_type": "display_data"
    },
    {
     "data": {
      "text/plain": [
       "1"
      ]
     },
     "metadata": {},
     "output_type": "display_data"
    },
    {
     "data": {
      "text/plain": [
       "Index(['1737-Childhood_sunburn_occasions'], dtype='object')"
      ]
     },
     "metadata": {},
     "output_type": "display_data"
    },
    {
     "data": {
      "text/html": [
       "<h3>Cluster 47.39</h3>"
      ],
      "text/plain": [
       "<IPython.core.display.HTML object>"
      ]
     },
     "metadata": {},
     "output_type": "display_data"
    },
    {
     "data": {
      "text/plain": [
       "12"
      ]
     },
     "metadata": {},
     "output_type": "display_data"
    },
    {
     "data": {
      "text/plain": [
       "Index(['3144_raw-Heel_Broadband_ultrasound_attenuation_direct_entry',\n",
       "       '3147_raw-Heel_quantitative_ultrasound_index_QUI_direct_entry',\n",
       "       '3148_raw-Heel_bone_mineral_density_BMD',\n",
       "       '4101_raw-Heel_broadband_ultrasound_attenuation_left',\n",
       "       '4104_raw-Heel_quantitative_ultrasound_index_QUI_direct_entry_left',\n",
       "       '4105_raw-Heel_bone_mineral_density_BMD_left',\n",
       "       '4106_raw-Heel_bone_mineral_density_BMD_Tscore_automated_left',\n",
       "       '4120_raw-Heel_broadband_ultrasound_attenuation_right',\n",
       "       '4123_raw-Heel_quantitative_ultrasound_index_QUI_direct_entry_right',\n",
       "       '4124_raw-Heel_bone_mineral_density_BMD_right',\n",
       "       '4125_raw-Heel_bone_mineral_density_BMD_Tscore_automated_right',\n",
       "       '78_raw-Heel_bone_mineral_density_BMD_Tscore_automated'],\n",
       "      dtype='object')"
      ]
     },
     "metadata": {},
     "output_type": "display_data"
    },
    {
     "data": {
      "text/html": [
       "<h3>Cluster 47.40</h3>"
      ],
      "text/plain": [
       "<IPython.core.display.HTML object>"
      ]
     },
     "metadata": {},
     "output_type": "display_data"
    },
    {
     "data": {
      "text/plain": [
       "17"
      ]
     },
     "metadata": {},
     "output_type": "display_data"
    },
    {
     "data": {
      "text/plain": [
       "Index(['20003_1140883066-Treatmentmedication_code_insulin_product',\n",
       "       '20003_1141191044-Treatmentmedication_code_levothyroxine_sodium',\n",
       "       '2976_raw-Age_diabetes_diagnosed',\n",
       "       '2986-Started_insulin_within_one_year_diagnosis_of_diabetes',\n",
       "       '6144_3-Never_eat_eggs_dairy_wheat_sugar_Wheat_products',\n",
       "       '6153_3-Medication_for_cholesterol_blood_pressure_diabetes_or_take_exogenous_hormones_Insulin',\n",
       "       '6177_3-Medication_for_cholesterol_blood_pressure_or_diabetes_Insulin',\n",
       "       'K11_COELIAC-Coeliac_disease', 'celiac disease',\n",
       "       'hyperthyroidism AND thyrotoxicosis', 'hypothyroidism AND myxedema',\n",
       "       'malabsorption syndrome', 'psoriasis', 'rheumatoid arthritis',\n",
       "       'sarcoidosis', 'systemic lupus erythematosus',\n",
       "       'type i diabetes mellitus'],\n",
       "      dtype='object')"
      ]
     },
     "metadata": {},
     "output_type": "display_data"
    },
    {
     "data": {
      "text/html": [
       "<h3>Cluster 47.41</h3>"
      ],
      "text/plain": [
       "<IPython.core.display.HTML object>"
      ]
     },
     "metadata": {},
     "output_type": "display_data"
    },
    {
     "data": {
      "text/plain": [
       "3"
      ]
     },
     "metadata": {},
     "output_type": "display_data"
    },
    {
     "data": {
      "text/plain": [
       "Index(['M13_DUPUTRYEN-Palmar_fascial_fibromatosis_Dupuytren',\n",
       "       'M13_FIBROBLASTIC-Fibroblastic_disorders', 'fibroblastic disorder'],\n",
       "      dtype='object')"
      ]
     },
     "metadata": {},
     "output_type": "display_data"
    },
    {
     "data": {
      "text/html": [
       "<h3>Cluster 47.42</h3>"
      ],
      "text/plain": [
       "<IPython.core.display.HTML object>"
      ]
     },
     "metadata": {},
     "output_type": "display_data"
    },
    {
     "data": {
      "text/plain": [
       "6"
      ]
     },
     "metadata": {},
     "output_type": "display_data"
    },
    {
     "data": {
      "text/plain": [
       "Index(['20003_1140861998-Treatmentmedication_code_ventolin_100micrograms_inhaler',\n",
       "       '30120_raw-Lymphocyte_count',\n",
       "       '6152_100-Blood_clot_DVT_bronchitis_emphysema_asthma_rhinitis_eczema_allergy_diagnosed_by_doctor_None_of_the_above',\n",
       "       '6152_8-Blood_clot_DVT_bronchitis_emphysema_asthma_rhinitis_eczema_allergy_diagnosed_by_doctor_Asthma',\n",
       "       '6152_9-Blood_clot_DVT_bronchitis_emphysema_asthma_rhinitis_eczema_allergy_diagnosed_by_doctor_Hayfever_allergic_rhinitis_or_eczema',\n",
       "       'asthma'],\n",
       "      dtype='object')"
      ]
     },
     "metadata": {},
     "output_type": "display_data"
    },
    {
     "data": {
      "text/html": [
       "<h3>Cluster 47.43</h3>"
      ],
      "text/plain": [
       "<IPython.core.display.HTML object>"
      ]
     },
     "metadata": {},
     "output_type": "display_data"
    },
    {
     "data": {
      "text/plain": [
       "1"
      ]
     },
     "metadata": {},
     "output_type": "display_data"
    },
    {
     "data": {
      "text/plain": [
       "Index(['6149_1-Mouthteeth_dental_problems_Mouth_ulcers'], dtype='object')"
      ]
     },
     "metadata": {},
     "output_type": "display_data"
    },
    {
     "data": {
      "text/html": [
       "<h3>Cluster 47.44</h3>"
      ],
      "text/plain": [
       "<IPython.core.display.HTML object>"
      ]
     },
     "metadata": {},
     "output_type": "display_data"
    },
    {
     "data": {
      "text/plain": [
       "2"
      ]
     },
     "metadata": {},
     "output_type": "display_data"
    },
    {
     "data": {
      "text/plain": [
       "Index(['46_raw-Hand_grip_strength_left', '47_raw-Hand_grip_strength_right'], dtype='object')"
      ]
     },
     "metadata": {},
     "output_type": "display_data"
    },
    {
     "data": {
      "text/html": [
       "<h3>Cluster 47.45</h3>"
      ],
      "text/plain": [
       "<IPython.core.display.HTML object>"
      ]
     },
     "metadata": {},
     "output_type": "display_data"
    },
    {
     "data": {
      "text/plain": [
       "8"
      ]
     },
     "metadata": {},
     "output_type": "display_data"
    },
    {
     "data": {
      "text/plain": [
       "Index(['24013-Total_traffic_load_on_major_roads', '24014-Close_to_major_road',\n",
       "       '24015-Sum_of_road_length_of_major_roads_within_100m',\n",
       "       '24020_raw-Average_daytime_sound_level_of_noise_pollution',\n",
       "       '24021_raw-Average_evening_sound_level_of_noise_pollution',\n",
       "       '24022_raw-Average_nighttime_sound_level_of_noise_pollution',\n",
       "       '24023_raw-Average_16hour_sound_level_of_noise_pollution',\n",
       "       '24024_raw-Average_24hour_sound_level_of_noise_pollution'],\n",
       "      dtype='object')"
      ]
     },
     "metadata": {},
     "output_type": "display_data"
    },
    {
     "data": {
      "text/html": [
       "<h3>Cluster 47.46</h3>"
      ],
      "text/plain": [
       "<IPython.core.display.HTML object>"
      ]
     },
     "metadata": {},
     "output_type": "display_data"
    },
    {
     "data": {
      "text/plain": [
       "2"
      ]
     },
     "metadata": {},
     "output_type": "display_data"
    },
    {
     "data": {
      "text/plain": [
       "Index(['20003_1140875408-Treatmentmedication_code_allopurinol', 'gout'], dtype='object')"
      ]
     },
     "metadata": {},
     "output_type": "display_data"
    },
    {
     "data": {
      "text/html": [
       "<h2>Partition with k=48</h2>"
      ],
      "text/plain": [
       "<IPython.core.display.HTML object>"
      ]
     },
     "metadata": {},
     "output_type": "display_data"
    },
    {
     "data": {
      "text/plain": [
       "method                              eac_average_coassoc_matrix\n",
       "partition    [25, 25, 25, 25, 25, 25, 25, 25, 25, 6, 25, 25...\n",
       "ami_mean                                              0.286006\n",
       "selected                                                  True\n",
       "Name: 48, dtype: object"
      ]
     },
     "metadata": {},
     "output_type": "display_data"
    },
    {
     "data": {
      "text/plain": [
       "(3752,)"
      ]
     },
     "metadata": {},
     "output_type": "display_data"
    },
    {
     "data": {
      "text/plain": [
       "9     766\n",
       "4     453\n",
       "2     394\n",
       "6     390\n",
       "20    321\n",
       "10    314\n",
       "0     266\n",
       "7     218\n",
       "11    199\n",
       "13     49\n",
       "19     43\n",
       "23     42\n",
       "15     21\n",
       "3      19\n",
       "1      18\n",
       "25     18\n",
       "40     17\n",
       "12     17\n",
       "22     15\n",
       "27     15\n",
       "29     15\n",
       "30     14\n",
       "39     12\n",
       "5      11\n",
       "33      8\n",
       "45      8\n",
       "32      8\n",
       "26      7\n",
       "16      7\n",
       "18      6\n",
       "42      6\n",
       "24      6\n",
       "14      5\n",
       "47      5\n",
       "17      5\n",
       "37      5\n",
       "36      4\n",
       "21      4\n",
       "35      4\n",
       "28      3\n",
       "8       3\n",
       "41      3\n",
       "44      2\n",
       "46      2\n",
       "34      1\n",
       "38      1\n",
       "31      1\n",
       "43      1\n",
       "dtype: int64"
      ]
     },
     "metadata": {},
     "output_type": "display_data"
    },
    {
     "data": {
      "text/html": [
       "<h3>Cluster 48.0</h3>"
      ],
      "text/plain": [
       "<IPython.core.display.HTML object>"
      ]
     },
     "metadata": {},
     "output_type": "display_data"
    },
    {
     "data": {
      "text/plain": [
       "266"
      ]
     },
     "metadata": {},
     "output_type": "display_data"
    },
    {
     "data": {
      "text/plain": [
       "Index(['20111_101-Illnesses_of_siblings_None_of_the_above_group_2',\n",
       "       '20111_12-Illnesses_of_siblings_Severe_depression',\n",
       "       '20112_8-Illnesses_of_adopted_father_High_blood_pressure',\n",
       "       '20112_9-Illnesses_of_adopted_father_Diabetes',\n",
       "       '20113_10-Illnesses_of_adopted_mother_Alzheimers_diseasedementia',\n",
       "       '20113_101-Illnesses_of_adopted_mother_None_of_the_above_group_2',\n",
       "       '20113_2-Illnesses_of_adopted_mother_Stroke',\n",
       "       '20113_4-Illnesses_of_adopted_mother_Bowel_cancer',\n",
       "       '20113_5-Illnesses_of_adopted_mother_Breast_cancer',\n",
       "       '20113_8-Illnesses_of_adopted_mother_High_blood_pressure',\n",
       "       ...\n",
       "       '22601_31113086-Job_coding_laboratory_technician',\n",
       "       '22601_31122951-Job_coding_electricalelectronics_technician',\n",
       "       '22601_31153052-Job_coding_quality_assurance_technician_or_coordinator',\n",
       "       '22601_31193055-Job_coding_other_engineering_technician_including_materials_technician_technical_assistant_technical_officer',\n",
       "       '22601_32113077-Job_coding_health_visitor',\n",
       "       '22601_32323112-Job_coding_benefits_advisor_citizens_advice_bureau_adviser_debt_counsellor',\n",
       "       '22601_32323410-Job_coding_schoolstudent_counsellor_school_attendance_officer',\n",
       "       '22601_34333162-Job_coding_public_relations_officer_press_officer_information_officer',\n",
       "       '22601_35333266-Job_coding_insurance_underwriter_insurance_inspector_insurance_account_handler',\n",
       "       '22601_35623213-Job_coding_personnel_or_industrial_relations_officer_recruitment_consultant'],\n",
       "      dtype='object', length=266)"
      ]
     },
     "metadata": {},
     "output_type": "display_data"
    },
    {
     "data": {
      "text/html": [
       "<h3>Cluster 48.1</h3>"
      ],
      "text/plain": [
       "<IPython.core.display.HTML object>"
      ]
     },
     "metadata": {},
     "output_type": "display_data"
    },
    {
     "data": {
      "text/plain": [
       "18"
      ]
     },
     "metadata": {},
     "output_type": "display_data"
    },
    {
     "data": {
      "text/plain": [
       "Index(['30000_raw-White_blood_cell_leukocyte_count',\n",
       "       '30130_raw-Monocyte_count', '30140_raw-Neutrophill_count',\n",
       "       '30150-Eosinophill_count', '30180_raw-Lymphocyte_percentage',\n",
       "       '30190_raw-Monocyte_percentage', '30200_raw-Neutrophill_percentage',\n",
       "       '30210_raw-Eosinophill_percentage', 'eosinophil count',\n",
       "       'granulocyte count', 'leukocyte count', 'lymphocyte count',\n",
       "       'monocyte count', 'myeloid white cell count', 'neutrophil count',\n",
       "       'sum of basophil and neutrophil counts',\n",
       "       'sum of eosinophil and basophil counts',\n",
       "       'sum of neutrophil and eosinophil counts'],\n",
       "      dtype='object')"
      ]
     },
     "metadata": {},
     "output_type": "display_data"
    },
    {
     "data": {
      "text/html": [
       "<h3>Cluster 48.2</h3>"
      ],
      "text/plain": [
       "<IPython.core.display.HTML object>"
      ]
     },
     "metadata": {},
     "output_type": "display_data"
    },
    {
     "data": {
      "text/plain": [
       "394"
      ]
     },
     "metadata": {},
     "output_type": "display_data"
    },
    {
     "data": {
      "text/plain": [
       "Index(['40001_G122-Underlying_primary_cause_of_death_ICD10_G122_Motor_neuron_disease',\n",
       "       '6152_6-Blood_clot_DVT_bronchitis_emphysema_asthma_rhinitis_eczema_allergy_diagnosed_by_doctor_Emphysemachronic_bronchitis',\n",
       "       '6157_100-Why_stopped_smoking_None_of_the_above',\n",
       "       '6157_3-Why_stopped_smoking_Health_precaution',\n",
       "       '6157_4-Why_stopped_smoking_Financial_reasons',\n",
       "       '6160_5-Leisuresocial_activities_Other_group_activity',\n",
       "       '6162_3-Types_of_transport_used_excluding_work_Public_transport',\n",
       "       '6179_4-Mineral_and_other_dietary_supplements_Zinc',\n",
       "       '6179_5-Mineral_and_other_dietary_supplements_Iron',\n",
       "       '6179_6-Mineral_and_other_dietary_supplements_Selenium',\n",
       "       ...\n",
       "       'immune system disease', 'inner ear disease', 'keratitis',\n",
       "       'lacrimal apparatus disease', 'obesity', 'paralytic strabismus',\n",
       "       'polyneuropathy', 'purpura', 'retinal detachment',\n",
       "       'retinal vein occlusion'],\n",
       "      dtype='object', length=394)"
      ]
     },
     "metadata": {},
     "output_type": "display_data"
    },
    {
     "data": {
      "text/html": [
       "<h3>Cluster 48.3</h3>"
      ],
      "text/plain": [
       "<IPython.core.display.HTML object>"
      ]
     },
     "metadata": {},
     "output_type": "display_data"
    },
    {
     "data": {
      "text/plain": [
       "19"
      ]
     },
     "metadata": {},
     "output_type": "display_data"
    },
    {
     "data": {
      "text/plain": [
       "Index(['EAGLE_Eczema', 'Jones_et_al_2016_Chronotype', 'MAGNETIC_CH2.DB.ratio',\n",
       "       'MAGNETIC_HDL.C', 'MAGNETIC_IDL.TG', 'MAGNETIC_LDL.C',\n",
       "       'SSGAC_Education_Years_Pooled', 'alzheimer's disease',\n",
       "       'attention deficit hyperactivity disorder', 'bone density',\n",
       "       'coronary artery disease', 'estrogen-receptor negative breast cancer',\n",
       "       'estrogen-receptor positive breast cancer',\n",
       "       'family history of breast cancer', 'fasting blood glucose measurement',\n",
       "       'fasting blood insulin measurement', 'inflammatory bowel disease',\n",
       "       'intracranial volume measurement', 'schizophrenia'],\n",
       "      dtype='object')"
      ]
     },
     "metadata": {},
     "output_type": "display_data"
    },
    {
     "data": {
      "text/html": [
       "<h3>Cluster 48.4</h3>"
      ],
      "text/plain": [
       "<IPython.core.display.HTML object>"
      ]
     },
     "metadata": {},
     "output_type": "display_data"
    },
    {
     "data": {
      "text/plain": [
       "453"
      ]
     },
     "metadata": {},
     "output_type": "display_data"
    },
    {
     "data": {
      "text/plain": [
       "Index(['20003_1140879616-Treatmentmedication_code_amitriptyline',\n",
       "       '20003_1140879630-Treatmentmedication_code_imipramine',\n",
       "       '20003_1140879634-Treatmentmedication_code_trazodone',\n",
       "       '20003_1140879762-Treatmentmedication_code_celiprolol',\n",
       "       '20003_1140879778-Treatmentmedication_code_doxazosin',\n",
       "       '20003_1140879792-Treatmentmedication_code_terbutaline',\n",
       "       '20003_1140879798-Treatmentmedication_code_terazosin',\n",
       "       '20003_1140879818-Treatmentmedication_code_metoprolol',\n",
       "       '20003_1140880086-Treatmentmedication_code_calcipotriol',\n",
       "       '20003_1140881446-Treatmentmedication_code_proctosedyl_ointment',\n",
       "       ...\n",
       "       '20112_13-Illnesses_of_adopted_father_Prostate_cancer',\n",
       "       '20112_2-Illnesses_of_adopted_father_Stroke',\n",
       "       '20112_3-Illnesses_of_adopted_father_Lung_cancer',\n",
       "       '20112_4-Illnesses_of_adopted_father_Bowel_cancer',\n",
       "       '20112_6-Illnesses_of_adopted_father_Chronic_bronchitisemphysema',\n",
       "       '20113_1-Illnesses_of_adopted_mother_Heart_disease',\n",
       "       '20113_100-Illnesses_of_adopted_mother_None_of_the_above_group_1',\n",
       "       '20113_12-Illnesses_of_adopted_mother_Severe_depression',\n",
       "       '20113_3-Illnesses_of_adopted_mother_Lung_cancer',\n",
       "       '20113_6-Illnesses_of_adopted_mother_Chronic_bronchitisemphysema'],\n",
       "      dtype='object', length=453)"
      ]
     },
     "metadata": {},
     "output_type": "display_data"
    },
    {
     "data": {
      "text/html": [
       "<h3>Cluster 48.5</h3>"
      ],
      "text/plain": [
       "<IPython.core.display.HTML object>"
      ]
     },
     "metadata": {},
     "output_type": "display_data"
    },
    {
     "data": {
      "text/plain": [
       "11"
      ]
     },
     "metadata": {},
     "output_type": "display_data"
    },
    {
     "data": {
      "text/plain": [
       "Index(['1707_1-Handedness_chiralitylaterality_Righthanded',\n",
       "       '20003_1140865634-Treatmentmedication_code_omeprazole',\n",
       "       'C3_SKIN-Malignant_neoplasm_of_skin',\n",
       "       'C_OTHER_SKIN-Other_malignant_neoplasms_of_skin', 'C_SKIN',\n",
       "       'KNEE_ARTHROSIS-Gonarthrosis_arthrosis_of_kneeFG',\n",
       "       'M13_ARTHROSIS-Arthrosis', 'depressive episode measurement',\n",
       "       'functional laterality', 'osteoarthritis, knee', 'skin neoplasm'],\n",
       "      dtype='object')"
      ]
     },
     "metadata": {},
     "output_type": "display_data"
    },
    {
     "data": {
      "text/html": [
       "<h3>Cluster 48.6</h3>"
      ],
      "text/plain": [
       "<IPython.core.display.HTML object>"
      ]
     },
     "metadata": {},
     "output_type": "display_data"
    },
    {
     "data": {
      "text/plain": [
       "390"
      ]
     },
     "metadata": {},
     "output_type": "display_data"
    },
    {
     "data": {
      "text/plain": [
       "Index(['100010-Portion_size', '1001-Duration_of_strenuous_sports',\n",
       "       '100150-Drinking_water_intake', '100160-Low_calorie_drink_intake',\n",
       "       '100170-Fizzy_drink_intake', '100190-Orange_juice_intake',\n",
       "       '100360-Decaffeinated_coffee', '100370-Intake_of_sugar_added_to_coffee',\n",
       "       '100390-Tea_consumed', '100400-Standard_tea_intake',\n",
       "       ...\n",
       "       'viral disease', 'viral human hepatitis infection', 'viral meningitis',\n",
       "       'visual impairment', 'vitiligo', 'vitreous body disease',\n",
       "       'vocal cord polyp', 'voice disorders',\n",
       "       'wellbeing measurement AND family relationship', 'whooping cough'],\n",
       "      dtype='object', length=390)"
      ]
     },
     "metadata": {},
     "output_type": "display_data"
    },
    {
     "data": {
      "text/html": [
       "<h3>Cluster 48.7</h3>"
      ],
      "text/plain": [
       "<IPython.core.display.HTML object>"
      ]
     },
     "metadata": {},
     "output_type": "display_data"
    },
    {
     "data": {
      "text/plain": [
       "218"
      ]
     },
     "metadata": {},
     "output_type": "display_data"
    },
    {
     "data": {
      "text/plain": [
       "Index(['40001_C259-Underlying_primary_cause_of_death_ICD10_C259_Pancreas_unspecified',\n",
       "       '40001_C459-Underlying_primary_cause_of_death_ICD10_C459_Mesothelioma_unspecified',\n",
       "       '41248_3001-Destinations_on_discharge_from_hospital_recoded_High_security_psychiatric_hospital_NHS',\n",
       "       '41248_5003-Destinations_on_discharge_from_hospital_recoded_Transfer_to_other_NHS_provider_Psychiatry_learning_disabilities',\n",
       "       '41248_6000-Destinations_on_discharge_from_hospital_recoded_Transfer_within_NHS_provider',\n",
       "       '4233_raw-Mean_signaltonoise_ratio_SNR_left',\n",
       "       '4244_raw-Mean_signaltonoise_ratio_SNR_right',\n",
       "       '4269-Number_of_triplets_attempted_left',\n",
       "       '4270-Volume_level_set_by_participant_left',\n",
       "       '4276-Number_of_triplets_attempted_right',\n",
       "       ...\n",
       "       '6158_1-Why_reduced_smoking_Illness_or_ill_health',\n",
       "       '6158_100-Why_reduced_smoking_None_of_the_above',\n",
       "       '6158_2-Why_reduced_smoking_Doctors_advice',\n",
       "       '6158_3-Why_reduced_smoking_Health_precaution',\n",
       "       '6158_4-Why_reduced_smoking_Financial_reasons',\n",
       "       '6159_2-Pain_types_experienced_in_last_month_Facial_pain',\n",
       "       '6159_8-Pain_types_experienced_in_last_month_Pain_all_over_the_body',\n",
       "       '6162_100-Types_of_transport_used_excluding_work_None_of_the_above',\n",
       "       '709-Number_in_household', 'C_PANCREAS-Malignant_neoplasm_of_pancreas'],\n",
       "      dtype='object', length=218)"
      ]
     },
     "metadata": {},
     "output_type": "display_data"
    },
    {
     "data": {
      "text/html": [
       "<h3>Cluster 48.8</h3>"
      ],
      "text/plain": [
       "<IPython.core.display.HTML object>"
      ]
     },
     "metadata": {},
     "output_type": "display_data"
    },
    {
     "data": {
      "text/plain": [
       "3"
      ]
     },
     "metadata": {},
     "output_type": "display_data"
    },
    {
     "data": {
      "text/plain": [
       "Index(['eczema', 'seasonal allergic rhinitis',\n",
       "       'seasonal allergic rhinitis AND allergic rhinitis'],\n",
       "      dtype='object')"
      ]
     },
     "metadata": {},
     "output_type": "display_data"
    },
    {
     "data": {
      "text/html": [
       "<h3>Cluster 48.9</h3>"
      ],
      "text/plain": [
       "<IPython.core.display.HTML object>"
      ]
     },
     "metadata": {},
     "output_type": "display_data"
    },
    {
     "data": {
      "text/plain": [
       "766"
      ]
     },
     "metadata": {},
     "output_type": "display_data"
    },
    {
     "data": {
      "text/plain": [
       "Index(['22601_11113200-Job_coding_senior_official_in_central_government_including_members_of_the_senior_civil_service_and_the_equivalent_in_the_diplomatic_service_mps_meps',\n",
       "       '22601_11123211-Job_coding_director_or_chief_executive_of_private_organisationcompany_company_chairman_or_president_general_manager',\n",
       "       '22601_11133201-Job_coding_senior_official_in_local_government_including_parish_or_town_or_county_chief_clerk_chief_or_superintendent_rate_collector_chief_executive_or_director_councillor',\n",
       "       '22601_11143212-Job_coding_senior_official_of_special_interest_organisation_including_general_manager_or_director_or_executive_or_general_secretary_of_charity_or_trade_unionassociation_or_religious_organisation',\n",
       "       '22601_11212692-Job_coding_production_works_or_maintenance_manager',\n",
       "       '22601_11222591-Job_coding_manager_in_construction_clerk_of_works_site_manager_contracts_manager_highways_manager',\n",
       "       '22601_11232861-Job_coding_manager_in_mining_energy_production_or_water_supply',\n",
       "       '22601_11313221-Job_coding_financial_services_manager_chartered_secretary_banker_merchant_or_investment_banker_finance_director_tax_manager',\n",
       "       '22601_11323222-Job_coding_sales_or_marketing_managerdirector_exportimport_manager_business_development_manager_advertisingcommercial_manager',\n",
       "       '22601_11333223-Job_coding_purchasing_managerdirector_not_retail_supplies_manager',\n",
       "       ...\n",
       "       '41248_6005-Destinations_on_discharge_from_hospital_recoded_Transfer_within_NHS_provider_Medical_specialty',\n",
       "       '41248_6007-Destinations_on_discharge_from_hospital_recoded_Transfer_within_NHS_provider_Geriatrics',\n",
       "       '41248_7001-Destinations_on_discharge_from_hospital_recoded_Nursing_residential_care_group_home_NHS',\n",
       "       '41248_7002-Destinations_on_discharge_from_hospital_recoded_Nursing_residential_care_group_home_Local_Authoritory',\n",
       "       '41248_7003-Destinations_on_discharge_from_hospital_recoded_Nursing_residential_care_group_home_NonNHS',\n",
       "       '41248_8002-Destinations_on_discharge_from_hospital_recoded_Other_hospital_NonNHS',\n",
       "       '4195_raw-Pulse_wave_reflection_index',\n",
       "       '4230_raw-Signaltonoiseratio_SNR_of_triplet_left',\n",
       "       '4241_raw-Signaltonoiseratio_SNR_of_triplet_right',\n",
       "       '4462-Average_monthly_intake_of_other_alcoholic_drinks'],\n",
       "      dtype='object', length=766)"
      ]
     },
     "metadata": {},
     "output_type": "display_data"
    },
    {
     "data": {
      "text/html": [
       "<h3>Cluster 48.10</h3>"
      ],
      "text/plain": [
       "<IPython.core.display.HTML object>"
      ]
     },
     "metadata": {},
     "output_type": "display_data"
    },
    {
     "data": {
      "text/plain": [
       "314"
      ]
     },
     "metadata": {},
     "output_type": "display_data"
    },
    {
     "data": {
      "text/plain": [
       "Index(['100013_raw-Vitamin_B12', '100018_raw-Retinol', '100019_raw-Carotene',\n",
       "       '100021_raw-Vitamin_D', '100022-Alcohol', '100240-Coffee_consumed',\n",
       "       '100250-Instant_coffee_intake', '100260-Added_milk_to_instant_coffee',\n",
       "       '100270-Filtered_coffee_intake', '100280-Added_milk_to_filtered_coffee',\n",
       "       ...\n",
       "       '20003_1140879644-Treatmentmedication_code_amantadine',\n",
       "       '20003_1140879658-Treatmentmedication_code_chlorpromazine',\n",
       "       '20003_1140879760-Treatmentmedication_code_bisoprolol',\n",
       "       '20003_1140879806-Treatmentmedication_code_diltiazem',\n",
       "       '20003_1140879842-Treatmentmedication_code_propranolol',\n",
       "       '20003_1140879854-Treatmentmedication_code_sotalol',\n",
       "       '20003_1140879866-Treatmentmedication_code_timolol',\n",
       "       '20003_1140880072-Treatmentmedication_code_gamolenic_acid',\n",
       "       '20003_1140880956-Treatmentmedication_code_fentanyl',\n",
       "       '20003_1140881320-Treatmentmedication_code_magnesium_carbonate'],\n",
       "      dtype='object', length=314)"
      ]
     },
     "metadata": {},
     "output_type": "display_data"
    },
    {
     "data": {
      "text/html": [
       "<h3>Cluster 48.11</h3>"
      ],
      "text/plain": [
       "<IPython.core.display.HTML object>"
      ]
     },
     "metadata": {},
     "output_type": "display_data"
    },
    {
     "data": {
      "text/plain": [
       "199"
      ]
     },
     "metadata": {},
     "output_type": "display_data"
    },
    {
     "data": {
      "text/plain": [
       "Index(['1021-Duration_of_light_DIY', '102_raw-Pulse_rate_automated_reading',\n",
       "       '1050-Time_spend_outdoors_in_summer',\n",
       "       '1060-Time_spent_outdoors_in_winter',\n",
       "       '1070-Time_spent_watching_television_TV',\n",
       "       '1080-Time_spent_using_computer', '1090-Time_spent_driving',\n",
       "       '1100-Drive_faster_than_motorway_speed_limit',\n",
       "       '110001-Invitation_to_complete_online_24hour_recall_dietary_questionnaire_acceptance',\n",
       "       '1110-Length_of_mobile_phone_use',\n",
       "       ...\n",
       "       'self rated health', 'self reported educational attainment',\n",
       "       'sleep duration', 'smoking behavior', 'smoking cessation',\n",
       "       'snoring measurement', 'tiredness measurement', 'varicose veins',\n",
       "       'wheezing', 'worry measurement'],\n",
       "      dtype='object', length=199)"
      ]
     },
     "metadata": {},
     "output_type": "display_data"
    },
    {
     "data": {
      "text/html": [
       "<h3>Cluster 48.12</h3>"
      ],
      "text/plain": [
       "<IPython.core.display.HTML object>"
      ]
     },
     "metadata": {},
     "output_type": "display_data"
    },
    {
     "data": {
      "text/plain": [
       "17"
      ]
     },
     "metadata": {},
     "output_type": "display_data"
    },
    {
     "data": {
      "text/plain": [
       "Index(['6152_5-Blood_clot_DVT_bronchitis_emphysema_asthma_rhinitis_eczema_allergy_diagnosed_by_doctor_Blood_clot_in_the_leg_DVT',\n",
       "       'G6_CARPTU-Carpal_tunnel_syndrome',\n",
       "       'G6_NERPLEX-Nerve_nerve_root_and_plexus_disorders',\n",
       "       'I9_DVTANDPULM-DVT_of_lower_extremities_and_pulmonary_embolism',\n",
       "       'I9_PHLETHROMBDVTLOW-DVT_of_lower_extremities',\n",
       "       'I9_VTE-Venous_thromboembolism',\n",
       "       'K11_GALLBILPANC-Disorders_of_gallbladder_biliary_tract_and_pancreas',\n",
       "       'OTHER_ILD_CVD_COMORB-Other_ILDrelated_CVDcomorbidities',\n",
       "       'ULCERNAS-Ulcerative_colitis_NAS',\n",
       "       'VI_NERVOUS-Diseases_of_the_nervous_system',\n",
       "       'XII_SKIN_SUBCUTAN-Diseases_of_the_skin_and_subcutaneous_tissue',\n",
       "       'birth weight', 'cholelithiasis', 'deep vein thrombosis',\n",
       "       'mononeuropathy', 'phlebitis AND thrombophlebitis',\n",
       "       'pulmonary embolism'],\n",
       "      dtype='object')"
      ]
     },
     "metadata": {},
     "output_type": "display_data"
    },
    {
     "data": {
      "text/html": [
       "<h3>Cluster 48.13</h3>"
      ],
      "text/plain": [
       "<IPython.core.display.HTML object>"
      ]
     },
     "metadata": {},
     "output_type": "display_data"
    },
    {
     "data": {
      "text/plain": [
       "49"
      ]
     },
     "metadata": {},
     "output_type": "display_data"
    },
    {
     "data": {
      "text/plain": [
       "Index(['20015_raw-Sitting_height',\n",
       "       '20150_raw-Forced_expiratory_volume_in_1second_FEV1_Best_measure',\n",
       "       '20151_raw-Forced_vital_capacity_FVC_Best_measure',\n",
       "       '20153_raw-Forced_expiratory_volume_in_1second_FEV1_predicted',\n",
       "       '20154_raw-Forced_expiratory_volume_in_1second_FEV1_predicted_percentage',\n",
       "       '21001_raw-Body_mass_index_BMI', '21002_raw-Weight', '23098_raw-Weight',\n",
       "       '23099_raw-Body_fat_percentage', '23100_raw-Whole_body_fat_mass',\n",
       "       '23101_raw-Whole_body_fatfree_mass', '23102_raw-Whole_body_water_mass',\n",
       "       '23104_raw-Body_mass_index_BMI', '23105_raw-Basal_metabolic_rate',\n",
       "       '23106_raw-Impedance_of_whole_body', '23107_raw-Impedance_of_leg_right',\n",
       "       '23108_raw-Impedance_of_leg_left', '23109_raw-Impedance_of_arm_right',\n",
       "       '23110_raw-Impedance_of_arm_left', '23111_raw-Leg_fat_percentage_right',\n",
       "       '23112_raw-Leg_fat_mass_right', '23113_raw-Leg_fatfree_mass_right',\n",
       "       '23114_raw-Leg_predicted_mass_right',\n",
       "       '23115_raw-Leg_fat_percentage_left', '23116_raw-Leg_fat_mass_left',\n",
       "       '23117_raw-Leg_fatfree_mass_left', '23118_raw-Leg_predicted_mass_left',\n",
       "       '23119_raw-Arm_fat_percentage_right', '23120_raw-Arm_fat_mass_right',\n",
       "       '23121_raw-Arm_fatfree_mass_right',\n",
       "       '23122_raw-Arm_predicted_mass_right',\n",
       "       '23123_raw-Arm_fat_percentage_left', '23124_raw-Arm_fat_mass_left',\n",
       "       '23125_raw-Arm_fatfree_mass_left', '23126_raw-Arm_predicted_mass_left',\n",
       "       '23127_raw-Trunk_fat_percentage', '23128_raw-Trunk_fat_mass',\n",
       "       '23129_raw-Trunk_fatfree_mass', '23130_raw-Trunk_predicted_mass',\n",
       "       '3062_raw-Forced_vital_capacity_FVC',\n",
       "       '3063_raw-Forced_expiratory_volume_in_1second_FEV1',\n",
       "       '3064_raw-Peak_expiratory_flow_PEF', '3143_raw-Ankle_spacing_width',\n",
       "       '4100_raw-Ankle_spacing_width_left',\n",
       "       '4119_raw-Ankle_spacing_width_right', '48_raw-Waist_circumference',\n",
       "       '49_raw-Hip_circumference', '50_raw-Standing_height', 'body height'],\n",
       "      dtype='object')"
      ]
     },
     "metadata": {},
     "output_type": "display_data"
    },
    {
     "data": {
      "text/html": [
       "<h3>Cluster 48.14</h3>"
      ],
      "text/plain": [
       "<IPython.core.display.HTML object>"
      ]
     },
     "metadata": {},
     "output_type": "display_data"
    },
    {
     "data": {
      "text/plain": [
       "5"
      ]
     },
     "metadata": {},
     "output_type": "display_data"
    },
    {
     "data": {
      "text/plain": [
       "Index(['20003_1140860696-Treatmentmedication_code_lisinopril',\n",
       "       '20003_1140860806-Treatmentmedication_code_ramipril',\n",
       "       '20003_1140866738-Treatmentmedication_code_atenolol',\n",
       "       '20003_1140884600-Treatmentmedication_code_metformin',\n",
       "       'diabetes mellitus'],\n",
       "      dtype='object')"
      ]
     },
     "metadata": {},
     "output_type": "display_data"
    },
    {
     "data": {
      "text/html": [
       "<h3>Cluster 48.15</h3>"
      ],
      "text/plain": [
       "<IPython.core.display.HTML object>"
      ]
     },
     "metadata": {},
     "output_type": "display_data"
    },
    {
     "data": {
      "text/plain": [
       "21"
      ]
     },
     "metadata": {},
     "output_type": "display_data"
    },
    {
     "data": {
      "text/plain": [
       "Index(['20003_2038460150-Treatmentmedication_code_paracetamol',\n",
       "       '20016_raw-Fluid_intelligence_score', '20022_raw-Birth_weight',\n",
       "       '20023_raw-Mean_time_to_correctly_identify_matches',\n",
       "       '20074_raw-Home_location_at_assessment_east_coordinate_rounded',\n",
       "       '20077-Number_of_diet_questionnaires_completed',\n",
       "       '20086_8-Type_of_special_diet_followed_Glutenfree',\n",
       "       '20107_1-Illnesses_of_father_Heart_disease',\n",
       "       '20107_100-Illnesses_of_father_None_of_the_above_group_1',\n",
       "       '20107_3-Illnesses_of_father_Lung_cancer',\n",
       "       '20107_8-Illnesses_of_father_High_blood_pressure',\n",
       "       '20107_9-Illnesses_of_father_Diabetes',\n",
       "       '20110_1-Illnesses_of_mother_Heart_disease',\n",
       "       '20110_10-Illnesses_of_mother_Alzheimers_diseasedementia',\n",
       "       '20110_100-Illnesses_of_mother_None_of_the_above_group_1',\n",
       "       '20110_8-Illnesses_of_mother_High_blood_pressure',\n",
       "       '20110_9-Illnesses_of_mother_Diabetes',\n",
       "       '20111_1-Illnesses_of_siblings_Heart_disease',\n",
       "       '20111_100-Illnesses_of_siblings_None_of_the_above_group_1',\n",
       "       '20111_8-Illnesses_of_siblings_High_blood_pressure',\n",
       "       '20111_9-Illnesses_of_siblings_Diabetes'],\n",
       "      dtype='object')"
      ]
     },
     "metadata": {},
     "output_type": "display_data"
    },
    {
     "data": {
      "text/html": [
       "<h3>Cluster 48.16</h3>"
      ],
      "text/plain": [
       "<IPython.core.display.HTML object>"
      ]
     },
     "metadata": {},
     "output_type": "display_data"
    },
    {
     "data": {
      "text/plain": [
       "7"
      ]
     },
     "metadata": {},
     "output_type": "display_data"
    },
    {
     "data": {
      "text/plain": [
       "Index(['1717-Skin_colour', '1727-Ease_of_skin_tanning',\n",
       "       '1747_1-Hair_colour_natural_before_greying_Blonde',\n",
       "       '1747_2-Hair_colour_natural_before_greying_Red',\n",
       "       '1747_3-Hair_colour_natural_before_greying_Light_brown',\n",
       "       '1747_4-Hair_colour_natural_before_greying_Dark_brown',\n",
       "       '1747_5-Hair_colour_natural_before_greying_Black'],\n",
       "      dtype='object')"
      ]
     },
     "metadata": {},
     "output_type": "display_data"
    },
    {
     "data": {
      "text/html": [
       "<h3>Cluster 48.17</h3>"
      ],
      "text/plain": [
       "<IPython.core.display.HTML object>"
      ]
     },
     "metadata": {},
     "output_type": "display_data"
    },
    {
     "data": {
      "text/plain": [
       "5"
      ]
     },
     "metadata": {},
     "output_type": "display_data"
    },
    {
     "data": {
      "text/plain": [
       "Index(['30080_raw-Platelet_count', '30090_raw-Platelet_crit',\n",
       "       '30100_raw-Mean_platelet_thrombocyte_volume',\n",
       "       '30110_raw-Platelet_distribution_width', 'platelet count'],\n",
       "      dtype='object')"
      ]
     },
     "metadata": {},
     "output_type": "display_data"
    },
    {
     "data": {
      "text/html": [
       "<h3>Cluster 48.18</h3>"
      ],
      "text/plain": [
       "<IPython.core.display.HTML object>"
      ]
     },
     "metadata": {},
     "output_type": "display_data"
    },
    {
     "data": {
      "text/plain": [
       "6"
      ]
     },
     "metadata": {},
     "output_type": "display_data"
    },
    {
     "data": {
      "text/plain": [
       "Index(['40001_C349-Underlying_primary_cause_of_death_ICD10_C349_Bronchus_or_lung_unspecified',\n",
       "       'C3_RESPIRATORY_INTRATHORACIC-Malignant_neoplasm_of_respiratory_system_and_intrathoracic_organs',\n",
       "       'C_BRONCHUS_LUNG-Malignant_neoplasm_of_bronchus_and_lung',\n",
       "       'C_RESPIRATORY_INTRATHORACIC',\n",
       "       'LUNG_CANCER_MESOT-Lung_cancer_and_mesothelioma', 'lung carcinoma'],\n",
       "      dtype='object')"
      ]
     },
     "metadata": {},
     "output_type": "display_data"
    },
    {
     "data": {
      "text/html": [
       "<h3>Cluster 48.19</h3>"
      ],
      "text/plain": [
       "<IPython.core.display.HTML object>"
      ]
     },
     "metadata": {},
     "output_type": "display_data"
    },
    {
     "data": {
      "text/plain": [
       "43"
      ]
     },
     "metadata": {},
     "output_type": "display_data"
    },
    {
     "data": {
      "text/plain": [
       "Index(['129_raw-Place_of_birth_in_UK_north_coordinate',\n",
       "       '20075_raw-Home_location_at_assessment_north_coordinate_rounded',\n",
       "       '22704_raw-Home_location_north_coordinate_rounded',\n",
       "       'ASTHMA_PNEUMONIA-Asthmarelated_pneumonia',\n",
       "       'G6_EPIPAROX-Episodal_and_paroxysmal_disorders',\n",
       "       'G6_SLEEPAPNO-Sleep_apnoea',\n",
       "       'L12_ATROPHICSKIN-Atrophic_disorders_of_skin',\n",
       "       'L12_SCARCONDITIONS-Scar_conditions_and_fibrosis_of_skin',\n",
       "       'M13_DORSOPATHYOTH-Other_dorsopathies_not_elsewhere_classified',\n",
       "       'M13_MUSCULOSKELEOTH-Other_disorders_of_the_musculoskeletal_system_and_connective_tissue',\n",
       "       'M13_SACROCOGG-Sacrococcygeal_disorders_not_elsewhere_classified',\n",
       "       'PNEUMONIA-Pneumonias_AsthmaCOPD_comorbidities',\n",
       "       'SLEEP-Sleep_disorders_combined', 'abdominal injury', 'bone disease',\n",
       "       'cardiac arrhythmia', 'checkup',\n",
       "       'chronic obstructive pulmonary disease', 'device complication',\n",
       "       'encounter with health service', 'female reproductive system disease',\n",
       "       'follow-up', 'head injury', 'headache', 'heart disease', 'injury',\n",
       "       'joint disease', 'kidney failure', 'leg injury', 'lower limb pain',\n",
       "       'mesothelioma', 'musculoskeletal system disease',\n",
       "       'musculoskeletal system disease AND connective tissue disease',\n",
       "       'nasal cavity polyp', 'pericarditis', 'pneumonia', 'poisoning',\n",
       "       'pregnancy disorder', 'skin atrophy', 'sleep disorder',\n",
       "       'soft tissue disease', 'urogenital neoplasm', 'wrist fracture'],\n",
       "      dtype='object')"
      ]
     },
     "metadata": {},
     "output_type": "display_data"
    },
    {
     "data": {
      "text/html": [
       "<h3>Cluster 48.20</h3>"
      ],
      "text/plain": [
       "<IPython.core.display.HTML object>"
      ]
     },
     "metadata": {},
     "output_type": "display_data"
    },
    {
     "data": {
      "text/plain": [
       "321"
      ]
     },
     "metadata": {},
     "output_type": "display_data"
    },
    {
     "data": {
      "text/plain": [
       "Index(['40001_C719-Underlying_primary_cause_of_death_ICD10_C719_Brain_unspecified',\n",
       "       'ASTHMA_CHILD-Childhood_asthma_age16',\n",
       "       'ASTHMA_HOSPITAL1-Asthma_hospital_admissions_1',\n",
       "       'BACT_INTEST_INFECTION_NOS-Other_specifiedunspecified_bacterial_intestinal_infections',\n",
       "       'C3_DIGESTIVE_ORGANS-Malignant_neoplasm_of_digestive_organs',\n",
       "       'C3_EYE_BRAIN_NEURO-Malignant_neoplasm_of_eye_brain_and_central_nervous_system',\n",
       "       'C3_URINARY_TRACT-Malignant_neoplasm_of_urinary_organs',\n",
       "       'C_BLADDER-Malignant_neoplasm_of_bladder',\n",
       "       'C_BRAIN-Malignant_neoplasm_of_brain',\n",
       "       'C_COLON-Malignant_neoplasm_of_colon',\n",
       "       ...\n",
       "       'iron deficiency anemia', 'kidney neoplasm', 'knee injury',\n",
       "       'muscular disease', 'pigmentation disease', 'skeletal system disease',\n",
       "       'skin disease', 'suppurative otitis media', 'tenosynovitis',\n",
       "       'vasculitis'],\n",
       "      dtype='object', length=321)"
      ]
     },
     "metadata": {},
     "output_type": "display_data"
    },
    {
     "data": {
      "text/html": [
       "<h3>Cluster 48.21</h3>"
      ],
      "text/plain": [
       "<IPython.core.display.HTML object>"
      ]
     },
     "metadata": {},
     "output_type": "display_data"
    },
    {
     "data": {
      "text/plain": [
       "4"
      ]
     },
     "metadata": {},
     "output_type": "display_data"
    },
    {
     "data": {
      "text/plain": [
       "Index(['C3_MALE_GENITAL-malignant_neoplasm_of_male_genital_organs',\n",
       "       'C_MALE_GENITAL', 'C_PROSTATE-Malignant_neoplasm_of_prostate',\n",
       "       'prostate carcinoma'],\n",
       "      dtype='object')"
      ]
     },
     "metadata": {},
     "output_type": "display_data"
    },
    {
     "data": {
      "text/html": [
       "<h3>Cluster 48.22</h3>"
      ],
      "text/plain": [
       "<IPython.core.display.HTML object>"
      ]
     },
     "metadata": {},
     "output_type": "display_data"
    },
    {
     "data": {
      "text/plain": [
       "15"
      ]
     },
     "metadata": {},
     "output_type": "display_data"
    },
    {
     "data": {
      "text/plain": [
       "Index(['20003_1140868226-Treatmentmedication_code_aspirin',\n",
       "       '20003_1141146234-Treatmentmedication_code_atorvastatin',\n",
       "       '6150_1-Vascularheart_problems_diagnosed_by_doctor_Heart_attack',\n",
       "       '6150_2-Vascularheart_problems_diagnosed_by_doctor_Angina',\n",
       "       '6154_1-Medication_for_pain_relief_constipation_heartburn_Aspirin',\n",
       "       'I9_CHD-Major_coronary_heart_disease_event',\n",
       "       'I9_CHD_NOREV-Major_coronary_heart_disease_event_excluding_revascularizations',\n",
       "       'I9_CORATHER-Coronary_atherosclerosis',\n",
       "       'I9_IHD-Ischaemic_heart_disease_wide_definition',\n",
       "       'I9_MI-Myocardial_infarction',\n",
       "       'I9_MI_STRICT-Myocardial_infarction_strict',\n",
       "       'IX_CIRCULATORY-Diseases_of_the_circulatory_system',\n",
       "       'acute myocardial infarction', 'angina pectoris',\n",
       "       'myocardial infarction'],\n",
       "      dtype='object')"
      ]
     },
     "metadata": {},
     "output_type": "display_data"
    },
    {
     "data": {
      "text/html": [
       "<h3>Cluster 48.23</h3>"
      ],
      "text/plain": [
       "<IPython.core.display.HTML object>"
      ]
     },
     "metadata": {},
     "output_type": "display_data"
    },
    {
     "data": {
      "text/plain": [
       "42"
      ]
     },
     "metadata": {},
     "output_type": "display_data"
    },
    {
     "data": {
      "text/plain": [
       "Index(['41231_1-Hospital_episode_type_General_episode',\n",
       "       '41248_1000-Destinations_on_discharge_from_hospital_recoded_Usual_Place_of_residence',\n",
       "       '4194_raw-Pulse_rate', '4196_raw-Pulse_wave_peak_to_peak_time',\n",
       "       '4260-Round_of_numeric_memory_test',\n",
       "       '4282-Maximum_digits_remembered_correctly',\n",
       "       '4283-Number_of_rounds_of_numeric_memory_test_performed',\n",
       "       '4290_raw-Duration_screen_displayed', '4291-Number_of_attempts',\n",
       "       '4803_0-Tinnitus_No_never', '4825-Noisy_workplace',\n",
       "       '4957-FI3_word_interpolation', '4968-FI4_positional_arithmetic',\n",
       "       '4979-FI5_family_relationship_calculation',\n",
       "       '4990-FI6_conditional_arithmetic', '5001-FI7_synonym',\n",
       "       '5012-FI8_chained_arithmetic', '5084_raw-Spherical_power_right',\n",
       "       '5085_raw-Spherical_power_left',\n",
       "       '5254_raw-Intraocular_pressure_cornealcompensated_right',\n",
       "       '5255_raw-Intraocular_pressure_Goldmanncorrelated_right',\n",
       "       '5256_raw-Corneal_hysteresis_right',\n",
       "       '5257_raw-Corneal_resistance_factor_right',\n",
       "       '5262_raw-Intraocular_pressure_cornealcompensated_left',\n",
       "       '5263_raw-Intraocular_pressure_Goldmanncorrelated_left',\n",
       "       '5264_raw-Corneal_hysteresis_left',\n",
       "       '5265_raw-Corneal_resistance_factor_left',\n",
       "       '5556-FI9_concept_interpolation',\n",
       "       '6138_3-Qualifications_O_levelsGCSEs_or_equivalent',\n",
       "       '6138_4-Qualifications_CSEs_or_equivalent',\n",
       "       '6138_6-Qualifications_Other_professional_qualifications_eg_nursing_teaching',\n",
       "       '6139_3-Gas_or_solidfuel_cookingheating_An_open_solid_fuel_fire_that_you_use_regularly_in_winter_time',\n",
       "       '6141_1-How_are_people_in_household_related_to_participant_Husband_wife_or_partner',\n",
       "       '6142_4-Current_employment_status_Unable_to_work_because_of_sickness_or_disability',\n",
       "       '6143_3-Transport_type_for_commuting_to_job_workplace_Public_transport',\n",
       "       '6143_4-Transport_type_for_commuting_to_job_workplace_Cycle',\n",
       "       '6145_100-Illness_injury_bereavement_stress_in_last_2_years_None_of_the_above',\n",
       "       '6145_6-Illness_injury_bereavement_stress_in_last_2_years_Financial_difficulties',\n",
       "       '6146_1-Attendancedisabilitymobility_allowance_Attendance_allowance',\n",
       "       '6149_3-Mouthteeth_dental_problems_Bleeding_gums',\n",
       "       '6151_7-Fractured_bone_sites_Other_bones', 'episodic memory'],\n",
       "      dtype='object')"
      ]
     },
     "metadata": {},
     "output_type": "display_data"
    },
    {
     "data": {
      "text/html": [
       "<h3>Cluster 48.24</h3>"
      ],
      "text/plain": [
       "<IPython.core.display.HTML object>"
      ]
     },
     "metadata": {},
     "output_type": "display_data"
    },
    {
     "data": {
      "text/plain": [
       "6"
      ]
     },
     "metadata": {},
     "output_type": "display_data"
    },
    {
     "data": {
      "text/plain": [
       "Index(['ASTHMA_MEDICATIO_COMORB-Medication_related_adverse_effects',\n",
       "       'H7_LENS-Disorders_of_lens',\n",
       "       'PULM_MEDICATIO_COMORB-Medication_related_adverse_effects_AsthmaCOPD',\n",
       "       'VII_EYE_ADNEXA-Diseases_of_the_eye_and_adnexa', 'age-related cataract',\n",
       "       'cataract'],\n",
       "      dtype='object')"
      ]
     },
     "metadata": {},
     "output_type": "display_data"
    },
    {
     "data": {
      "text/html": [
       "<h3>Cluster 48.25</h3>"
      ],
      "text/plain": [
       "<IPython.core.display.HTML object>"
      ]
     },
     "metadata": {},
     "output_type": "display_data"
    },
    {
     "data": {
      "text/plain": [
       "18"
      ]
     },
     "metadata": {},
     "output_type": "display_data"
    },
    {
     "data": {
      "text/plain": [
       "Index(['100001_raw-Food_weight', '100002_raw-Energy', '100003_raw-Protein',\n",
       "       '100004_raw-Fat', '100005_raw-Carbohydrate', '100006_raw-Saturated_fat',\n",
       "       '100007_raw-Polyunsaturated_fat', '100008_raw-Total_sugars',\n",
       "       '100009_raw-Englyst_dietary_fibre', '100011_raw-Iron',\n",
       "       '100012_raw-Vitamin_B6', '100014_raw-Folate', '100015_raw-Vitamin_C',\n",
       "       '100016_raw-Potassium', '100017_raw-Magnesium', '100023_raw-Starch',\n",
       "       '100024_raw-Calcium', '100025_raw-Vitamin_E'],\n",
       "      dtype='object')"
      ]
     },
     "metadata": {},
     "output_type": "display_data"
    },
    {
     "data": {
      "text/html": [
       "<h3>Cluster 48.26</h3>"
      ],
      "text/plain": [
       "<IPython.core.display.HTML object>"
      ]
     },
     "metadata": {},
     "output_type": "display_data"
    },
    {
     "data": {
      "text/plain": [
       "7"
      ]
     },
     "metadata": {},
     "output_type": "display_data"
    },
    {
     "data": {
      "text/plain": [
       "Index(['5984_raw-ECG_load', '5986_raw-ECG_phase_time',\n",
       "       '5992-ECG_phase_duration', '5993-ECG_number_of_stages_in_a_phase',\n",
       "       '6032_raw-Maximum_workload_during_fitness_test',\n",
       "       '6038_raw-Number_of_trend_entries', '6039-Duration_of_fitness_test'],\n",
       "      dtype='object')"
      ]
     },
     "metadata": {},
     "output_type": "display_data"
    },
    {
     "data": {
      "text/html": [
       "<h3>Cluster 48.27</h3>"
      ],
      "text/plain": [
       "<IPython.core.display.HTML object>"
      ]
     },
     "metadata": {},
     "output_type": "display_data"
    },
    {
     "data": {
      "text/plain": [
       "15"
      ]
     },
     "metadata": {},
     "output_type": "display_data"
    },
    {
     "data": {
      "text/plain": [
       "Index(['20003_1140861958-Treatmentmedication_code_simvastatin',\n",
       "       '20003_1140879802-Treatmentmedication_code_amlodipine',\n",
       "       '20003_1141194794-Treatmentmedication_code_bendroflumethiazide',\n",
       "       '4079_raw-Diastolic_blood_pressure_automated_reading',\n",
       "       '4080_raw-Systolic_blood_pressure_automated_reading',\n",
       "       '6150_100-Vascularheart_problems_diagnosed_by_doctor_None_of_the_above',\n",
       "       '6150_4-Vascularheart_problems_diagnosed_by_doctor_High_blood_pressure',\n",
       "       '6153_1-Medication_for_cholesterol_blood_pressure_diabetes_or_take_exogenous_hormones_Cholesterol_lowering_medication',\n",
       "       '6153_100-Medication_for_cholesterol_blood_pressure_diabetes_or_take_exogenous_hormones_None_of_the_above',\n",
       "       '6153_2-Medication_for_cholesterol_blood_pressure_diabetes_or_take_exogenous_hormones_Blood_pressure_medication',\n",
       "       '6177_1-Medication_for_cholesterol_blood_pressure_or_diabetes_Cholesterol_lowering_medication',\n",
       "       '6177_100-Medication_for_cholesterol_blood_pressure_or_diabetes_None_of_the_above',\n",
       "       '6177_2-Medication_for_cholesterol_blood_pressure_or_diabetes_Blood_pressure_medication',\n",
       "       'hypercholesterolemia', 'hypertension'],\n",
       "      dtype='object')"
      ]
     },
     "metadata": {},
     "output_type": "display_data"
    },
    {
     "data": {
      "text/html": [
       "<h3>Cluster 48.28</h3>"
      ],
      "text/plain": [
       "<IPython.core.display.HTML object>"
      ]
     },
     "metadata": {},
     "output_type": "display_data"
    },
    {
     "data": {
      "text/plain": [
       "3"
      ]
     },
     "metadata": {},
     "output_type": "display_data"
    },
    {
     "data": {
      "text/plain": [
       "Index(['L12_ACTINKERA-Actinic_keratosis',\n",
       "       'L12_NONIONRADISKIN-Skin_changes_due_to_chronic_exposure_to_nonionizing_radiation',\n",
       "       'radiation-induced disorder'],\n",
       "      dtype='object')"
      ]
     },
     "metadata": {},
     "output_type": "display_data"
    },
    {
     "data": {
      "text/html": [
       "<h3>Cluster 48.29</h3>"
      ],
      "text/plain": [
       "<IPython.core.display.HTML object>"
      ]
     },
     "metadata": {},
     "output_type": "display_data"
    },
    {
     "data": {
      "text/plain": [
       "15"
      ]
     },
     "metadata": {},
     "output_type": "display_data"
    },
    {
     "data": {
      "text/plain": [
       "Index(['30010_raw-Red_blood_cell_erythrocyte_count',\n",
       "       '30020_raw-Haemoglobin_concentration',\n",
       "       '30030_raw-Haematocrit_percentage', '30040_raw-Mean_corpuscular_volume',\n",
       "       '30050_raw-Mean_corpuscular_haemoglobin',\n",
       "       '30070_raw-Red_blood_cell_erythrocyte_distribution_width',\n",
       "       '30240_raw-Reticulocyte_percentage', '30250_raw-Reticulocyte_count',\n",
       "       '30260_raw-Mean_reticulocyte_volume',\n",
       "       '30270_raw-Mean_sphered_cell_volume',\n",
       "       '30280_raw-Immature_reticulocyte_fraction',\n",
       "       '30290_raw-High_light_scatter_reticulocyte_percentage',\n",
       "       '30300_raw-High_light_scatter_reticulocyte_count', 'erythrocyte count',\n",
       "       'reticulocyte count'],\n",
       "      dtype='object')"
      ]
     },
     "metadata": {},
     "output_type": "display_data"
    },
    {
     "data": {
      "text/html": [
       "<h3>Cluster 48.30</h3>"
      ],
      "text/plain": [
       "<IPython.core.display.HTML object>"
      ]
     },
     "metadata": {},
     "output_type": "display_data"
    },
    {
     "data": {
      "text/plain": [
       "14"
      ]
     },
     "metadata": {},
     "output_type": "display_data"
    },
    {
     "data": {
      "text/plain": [
       "Index(['20003_1140884516-Treatmentmedication_code_thyroxine_product',\n",
       "       'K11_OTHDIG-Other_diseases_of_the_digestive_system',\n",
       "       'M13_POLYARTHROPATHIES-Polyarthropathies',\n",
       "       'M13_RHEUMA-Rheumatoid_arthritis',\n",
       "       'RHEUMA_NOS-Otherunspecified_rheumatoid_arthritis',\n",
       "       'RHEUMA_SEROPOS-Seropositive_rheumatoid_arthritis',\n",
       "       'RHEUMA_SEROPOS_OTH-Otherunspecified_seropositiverheumatoid_arthritis',\n",
       "       'STILL_ADULT-Adultonset_Still_disease', 'adrenocortical insufficiency',\n",
       "       'ankylosing spondylitis', 'benign prostatic hyperplasia', 'hematuria',\n",
       "       'multiple sclerosis', 'psoriatic arthritis'],\n",
       "      dtype='object')"
      ]
     },
     "metadata": {},
     "output_type": "display_data"
    },
    {
     "data": {
      "text/html": [
       "<h3>Cluster 48.31</h3>"
      ],
      "text/plain": [
       "<IPython.core.display.HTML object>"
      ]
     },
     "metadata": {},
     "output_type": "display_data"
    },
    {
     "data": {
      "text/plain": [
       "1"
      ]
     },
     "metadata": {},
     "output_type": "display_data"
    },
    {
     "data": {
      "text/plain": [
       "Index(['30060_raw-Mean_corpuscular_haemoglobin_concentration'], dtype='object')"
      ]
     },
     "metadata": {},
     "output_type": "display_data"
    },
    {
     "data": {
      "text/html": [
       "<h3>Cluster 48.32</h3>"
      ],
      "text/plain": [
       "<IPython.core.display.HTML object>"
      ]
     },
     "metadata": {},
     "output_type": "display_data"
    },
    {
     "data": {
      "text/plain": [
       "8"
      ]
     },
     "metadata": {},
     "output_type": "display_data"
    },
    {
     "data": {
      "text/plain": [
       "Index(['24003_raw-Nitrogen_dioxide_air_pollution_2010',\n",
       "       '24004_raw-Nitrogen_oxides_air_pollution_2010',\n",
       "       '24006_raw-Particulate_matter_air_pollution_pm25_2010',\n",
       "       '24007_raw-Particulate_matter_air_pollution_pm25_absorbance_2010',\n",
       "       '24016_raw-Nitrogen_dioxide_air_pollution_2005',\n",
       "       '24017_raw-Nitrogen_dioxide_air_pollution_2006',\n",
       "       '24018_raw-Nitrogen_dioxide_air_pollution_2007',\n",
       "       '24019_raw-Particulate_matter_air_pollution_pm10_2007'],\n",
       "      dtype='object')"
      ]
     },
     "metadata": {},
     "output_type": "display_data"
    },
    {
     "data": {
      "text/html": [
       "<h3>Cluster 48.33</h3>"
      ],
      "text/plain": [
       "<IPython.core.display.HTML object>"
      ]
     },
     "metadata": {},
     "output_type": "display_data"
    },
    {
     "data": {
      "text/plain": [
       "8"
      ]
     },
     "metadata": {},
     "output_type": "display_data"
    },
    {
     "data": {
      "text/plain": [
       "Index(['5096_raw-3mm_weak_meridian_left', '5097_raw-6mm_weak_meridian_left',\n",
       "       '5098_raw-6mm_weak_meridian_right', '5099_raw-3mm_weak_meridian_right',\n",
       "       '5132_raw-3mm_strong_meridian_right',\n",
       "       '5133_raw-6mm_strong_meridian_right',\n",
       "       '5134_raw-6mm_strong_meridian_left',\n",
       "       '5135_raw-3mm_strong_meridian_left'],\n",
       "      dtype='object')"
      ]
     },
     "metadata": {},
     "output_type": "display_data"
    },
    {
     "data": {
      "text/html": [
       "<h3>Cluster 48.34</h3>"
      ],
      "text/plain": [
       "<IPython.core.display.HTML object>"
      ]
     },
     "metadata": {},
     "output_type": "display_data"
    },
    {
     "data": {
      "text/plain": [
       "1"
      ]
     },
     "metadata": {},
     "output_type": "display_data"
    },
    {
     "data": {
      "text/plain": [
       "Index(['mineral metabolism disease'], dtype='object')"
      ]
     },
     "metadata": {},
     "output_type": "display_data"
    },
    {
     "data": {
      "text/html": [
       "<h3>Cluster 48.35</h3>"
      ],
      "text/plain": [
       "<IPython.core.display.HTML object>"
      ]
     },
     "metadata": {},
     "output_type": "display_data"
    },
    {
     "data": {
      "text/plain": [
       "4"
      ]
     },
     "metadata": {},
     "output_type": "display_data"
    },
    {
     "data": {
      "text/plain": [
       "Index(['HEARTFAIL-Heart_failure', 'I9_HEARTFAIL-Heart_failurestrict',\n",
       "       'I9_HEARTFAIL_NS-Heart_failure_not_strict', 'heart failure'],\n",
       "      dtype='object')"
      ]
     },
     "metadata": {},
     "output_type": "display_data"
    },
    {
     "data": {
      "text/html": [
       "<h3>Cluster 48.36</h3>"
      ],
      "text/plain": [
       "<IPython.core.display.HTML object>"
      ]
     },
     "metadata": {},
     "output_type": "display_data"
    },
    {
     "data": {
      "text/plain": [
       "4"
      ]
     },
     "metadata": {},
     "output_type": "display_data"
    },
    {
     "data": {
      "text/plain": [
       "Index(['COPD_EXCL-COPD_differential_diagnosis',\n",
       "       'ILD_DIFF_DG-ILD_differential_diagnosis',\n",
       "       'PULMONARYDG-Other_pulmonary_diagnosis',\n",
       "       'X_RESPIRATORY-Diseases_of_the_respiratory_system'],\n",
       "      dtype='object')"
      ]
     },
     "metadata": {},
     "output_type": "display_data"
    },
    {
     "data": {
      "text/html": [
       "<h3>Cluster 48.37</h3>"
      ],
      "text/plain": [
       "<IPython.core.display.HTML object>"
      ]
     },
     "metadata": {},
     "output_type": "display_data"
    },
    {
     "data": {
      "text/plain": [
       "5"
      ]
     },
     "metadata": {},
     "output_type": "display_data"
    },
    {
     "data": {
      "text/plain": [
       "Index(['C_STROKE-STROKE', 'I9_STR-Stroke_excluding_SAH',\n",
       "       'I9_STR_EXH-Ischaemic_Stroke_excluding_all_haemorrhages',\n",
       "       'I9_STR_SAH-Stroke_including_SAH', 'brain infarction'],\n",
       "      dtype='object')"
      ]
     },
     "metadata": {},
     "output_type": "display_data"
    },
    {
     "data": {
      "text/html": [
       "<h3>Cluster 48.38</h3>"
      ],
      "text/plain": [
       "<IPython.core.display.HTML object>"
      ]
     },
     "metadata": {},
     "output_type": "display_data"
    },
    {
     "data": {
      "text/plain": [
       "1"
      ]
     },
     "metadata": {},
     "output_type": "display_data"
    },
    {
     "data": {
      "text/plain": [
       "Index(['1737-Childhood_sunburn_occasions'], dtype='object')"
      ]
     },
     "metadata": {},
     "output_type": "display_data"
    },
    {
     "data": {
      "text/html": [
       "<h3>Cluster 48.39</h3>"
      ],
      "text/plain": [
       "<IPython.core.display.HTML object>"
      ]
     },
     "metadata": {},
     "output_type": "display_data"
    },
    {
     "data": {
      "text/plain": [
       "12"
      ]
     },
     "metadata": {},
     "output_type": "display_data"
    },
    {
     "data": {
      "text/plain": [
       "Index(['3144_raw-Heel_Broadband_ultrasound_attenuation_direct_entry',\n",
       "       '3147_raw-Heel_quantitative_ultrasound_index_QUI_direct_entry',\n",
       "       '3148_raw-Heel_bone_mineral_density_BMD',\n",
       "       '4101_raw-Heel_broadband_ultrasound_attenuation_left',\n",
       "       '4104_raw-Heel_quantitative_ultrasound_index_QUI_direct_entry_left',\n",
       "       '4105_raw-Heel_bone_mineral_density_BMD_left',\n",
       "       '4106_raw-Heel_bone_mineral_density_BMD_Tscore_automated_left',\n",
       "       '4120_raw-Heel_broadband_ultrasound_attenuation_right',\n",
       "       '4123_raw-Heel_quantitative_ultrasound_index_QUI_direct_entry_right',\n",
       "       '4124_raw-Heel_bone_mineral_density_BMD_right',\n",
       "       '4125_raw-Heel_bone_mineral_density_BMD_Tscore_automated_right',\n",
       "       '78_raw-Heel_bone_mineral_density_BMD_Tscore_automated'],\n",
       "      dtype='object')"
      ]
     },
     "metadata": {},
     "output_type": "display_data"
    },
    {
     "data": {
      "text/html": [
       "<h3>Cluster 48.40</h3>"
      ],
      "text/plain": [
       "<IPython.core.display.HTML object>"
      ]
     },
     "metadata": {},
     "output_type": "display_data"
    },
    {
     "data": {
      "text/plain": [
       "17"
      ]
     },
     "metadata": {},
     "output_type": "display_data"
    },
    {
     "data": {
      "text/plain": [
       "Index(['20003_1140883066-Treatmentmedication_code_insulin_product',\n",
       "       '20003_1141191044-Treatmentmedication_code_levothyroxine_sodium',\n",
       "       '2976_raw-Age_diabetes_diagnosed',\n",
       "       '2986-Started_insulin_within_one_year_diagnosis_of_diabetes',\n",
       "       '6144_3-Never_eat_eggs_dairy_wheat_sugar_Wheat_products',\n",
       "       '6153_3-Medication_for_cholesterol_blood_pressure_diabetes_or_take_exogenous_hormones_Insulin',\n",
       "       '6177_3-Medication_for_cholesterol_blood_pressure_or_diabetes_Insulin',\n",
       "       'K11_COELIAC-Coeliac_disease', 'celiac disease',\n",
       "       'hyperthyroidism AND thyrotoxicosis', 'hypothyroidism AND myxedema',\n",
       "       'malabsorption syndrome', 'psoriasis', 'rheumatoid arthritis',\n",
       "       'sarcoidosis', 'systemic lupus erythematosus',\n",
       "       'type i diabetes mellitus'],\n",
       "      dtype='object')"
      ]
     },
     "metadata": {},
     "output_type": "display_data"
    },
    {
     "data": {
      "text/html": [
       "<h3>Cluster 48.41</h3>"
      ],
      "text/plain": [
       "<IPython.core.display.HTML object>"
      ]
     },
     "metadata": {},
     "output_type": "display_data"
    },
    {
     "data": {
      "text/plain": [
       "3"
      ]
     },
     "metadata": {},
     "output_type": "display_data"
    },
    {
     "data": {
      "text/plain": [
       "Index(['M13_DUPUTRYEN-Palmar_fascial_fibromatosis_Dupuytren',\n",
       "       'M13_FIBROBLASTIC-Fibroblastic_disorders', 'fibroblastic disorder'],\n",
       "      dtype='object')"
      ]
     },
     "metadata": {},
     "output_type": "display_data"
    },
    {
     "data": {
      "text/html": [
       "<h3>Cluster 48.42</h3>"
      ],
      "text/plain": [
       "<IPython.core.display.HTML object>"
      ]
     },
     "metadata": {},
     "output_type": "display_data"
    },
    {
     "data": {
      "text/plain": [
       "6"
      ]
     },
     "metadata": {},
     "output_type": "display_data"
    },
    {
     "data": {
      "text/plain": [
       "Index(['20003_1140861998-Treatmentmedication_code_ventolin_100micrograms_inhaler',\n",
       "       '30120_raw-Lymphocyte_count',\n",
       "       '6152_100-Blood_clot_DVT_bronchitis_emphysema_asthma_rhinitis_eczema_allergy_diagnosed_by_doctor_None_of_the_above',\n",
       "       '6152_8-Blood_clot_DVT_bronchitis_emphysema_asthma_rhinitis_eczema_allergy_diagnosed_by_doctor_Asthma',\n",
       "       '6152_9-Blood_clot_DVT_bronchitis_emphysema_asthma_rhinitis_eczema_allergy_diagnosed_by_doctor_Hayfever_allergic_rhinitis_or_eczema',\n",
       "       'asthma'],\n",
       "      dtype='object')"
      ]
     },
     "metadata": {},
     "output_type": "display_data"
    },
    {
     "data": {
      "text/html": [
       "<h3>Cluster 48.43</h3>"
      ],
      "text/plain": [
       "<IPython.core.display.HTML object>"
      ]
     },
     "metadata": {},
     "output_type": "display_data"
    },
    {
     "data": {
      "text/plain": [
       "1"
      ]
     },
     "metadata": {},
     "output_type": "display_data"
    },
    {
     "data": {
      "text/plain": [
       "Index(['6149_1-Mouthteeth_dental_problems_Mouth_ulcers'], dtype='object')"
      ]
     },
     "metadata": {},
     "output_type": "display_data"
    },
    {
     "data": {
      "text/html": [
       "<h3>Cluster 48.44</h3>"
      ],
      "text/plain": [
       "<IPython.core.display.HTML object>"
      ]
     },
     "metadata": {},
     "output_type": "display_data"
    },
    {
     "data": {
      "text/plain": [
       "2"
      ]
     },
     "metadata": {},
     "output_type": "display_data"
    },
    {
     "data": {
      "text/plain": [
       "Index(['46_raw-Hand_grip_strength_left', '47_raw-Hand_grip_strength_right'], dtype='object')"
      ]
     },
     "metadata": {},
     "output_type": "display_data"
    },
    {
     "data": {
      "text/html": [
       "<h3>Cluster 48.45</h3>"
      ],
      "text/plain": [
       "<IPython.core.display.HTML object>"
      ]
     },
     "metadata": {},
     "output_type": "display_data"
    },
    {
     "data": {
      "text/plain": [
       "8"
      ]
     },
     "metadata": {},
     "output_type": "display_data"
    },
    {
     "data": {
      "text/plain": [
       "Index(['24013-Total_traffic_load_on_major_roads', '24014-Close_to_major_road',\n",
       "       '24015-Sum_of_road_length_of_major_roads_within_100m',\n",
       "       '24020_raw-Average_daytime_sound_level_of_noise_pollution',\n",
       "       '24021_raw-Average_evening_sound_level_of_noise_pollution',\n",
       "       '24022_raw-Average_nighttime_sound_level_of_noise_pollution',\n",
       "       '24023_raw-Average_16hour_sound_level_of_noise_pollution',\n",
       "       '24024_raw-Average_24hour_sound_level_of_noise_pollution'],\n",
       "      dtype='object')"
      ]
     },
     "metadata": {},
     "output_type": "display_data"
    },
    {
     "data": {
      "text/html": [
       "<h3>Cluster 48.46</h3>"
      ],
      "text/plain": [
       "<IPython.core.display.HTML object>"
      ]
     },
     "metadata": {},
     "output_type": "display_data"
    },
    {
     "data": {
      "text/plain": [
       "2"
      ]
     },
     "metadata": {},
     "output_type": "display_data"
    },
    {
     "data": {
      "text/plain": [
       "Index(['20003_1140875408-Treatmentmedication_code_allopurinol', 'gout'], dtype='object')"
      ]
     },
     "metadata": {},
     "output_type": "display_data"
    },
    {
     "data": {
      "text/html": [
       "<h3>Cluster 48.47</h3>"
      ],
      "text/plain": [
       "<IPython.core.display.HTML object>"
      ]
     },
     "metadata": {},
     "output_type": "display_data"
    },
    {
     "data": {
      "text/plain": [
       "5"
      ]
     },
     "metadata": {},
     "output_type": "display_data"
    },
    {
     "data": {
      "text/plain": [
       "Index(['F5_ALLANXIOUS-All_anxiety_disorders',\n",
       "       'F5_ANXIETY-Other_anxiety_disorders',\n",
       "       'KRA_PSY_ANXIETY-Anxiety_disorders',\n",
       "       'PULM_ANXIETY-Anxiety_asthmarelated_comorbidities', 'anxiety disorder'],\n",
       "      dtype='object')"
      ]
     },
     "metadata": {},
     "output_type": "display_data"
    },
    {
     "data": {
      "text/html": [
       "<h2>Partition with k=49</h2>"
      ],
      "text/plain": [
       "<IPython.core.display.HTML object>"
      ]
     },
     "metadata": {},
     "output_type": "display_data"
    },
    {
     "data": {
      "text/plain": [
       "method                              eac_average_coassoc_matrix\n",
       "partition    [25, 25, 25, 25, 25, 25, 25, 25, 25, 6, 25, 25...\n",
       "ami_mean                                              0.285172\n",
       "selected                                                  True\n",
       "Name: 49, dtype: object"
      ]
     },
     "metadata": {},
     "output_type": "display_data"
    },
    {
     "data": {
      "text/plain": [
       "(3752,)"
      ]
     },
     "metadata": {},
     "output_type": "display_data"
    },
    {
     "data": {
      "text/plain": [
       "9     766\n",
       "4     453\n",
       "0     394\n",
       "6     390\n",
       "20    321\n",
       "10    314\n",
       "7     218\n",
       "5     199\n",
       "11    176\n",
       "48     90\n",
       "13     49\n",
       "19     43\n",
       "23     42\n",
       "15     21\n",
       "3      19\n",
       "1      18\n",
       "25     18\n",
       "40     17\n",
       "12     17\n",
       "22     15\n",
       "27     15\n",
       "29     15\n",
       "30     14\n",
       "39     12\n",
       "2      11\n",
       "33      8\n",
       "45      8\n",
       "32      8\n",
       "26      7\n",
       "16      7\n",
       "18      6\n",
       "42      6\n",
       "24      6\n",
       "14      5\n",
       "37      5\n",
       "47      5\n",
       "17      5\n",
       "36      4\n",
       "35      4\n",
       "21      4\n",
       "28      3\n",
       "8       3\n",
       "41      3\n",
       "44      2\n",
       "46      2\n",
       "34      1\n",
       "31      1\n",
       "43      1\n",
       "38      1\n",
       "dtype: int64"
      ]
     },
     "metadata": {},
     "output_type": "display_data"
    },
    {
     "data": {
      "text/html": [
       "<h3>Cluster 49.0</h3>"
      ],
      "text/plain": [
       "<IPython.core.display.HTML object>"
      ]
     },
     "metadata": {},
     "output_type": "display_data"
    },
    {
     "data": {
      "text/plain": [
       "394"
      ]
     },
     "metadata": {},
     "output_type": "display_data"
    },
    {
     "data": {
      "text/plain": [
       "Index(['40001_G122-Underlying_primary_cause_of_death_ICD10_G122_Motor_neuron_disease',\n",
       "       '6152_6-Blood_clot_DVT_bronchitis_emphysema_asthma_rhinitis_eczema_allergy_diagnosed_by_doctor_Emphysemachronic_bronchitis',\n",
       "       '6157_100-Why_stopped_smoking_None_of_the_above',\n",
       "       '6157_3-Why_stopped_smoking_Health_precaution',\n",
       "       '6157_4-Why_stopped_smoking_Financial_reasons',\n",
       "       '6160_5-Leisuresocial_activities_Other_group_activity',\n",
       "       '6162_3-Types_of_transport_used_excluding_work_Public_transport',\n",
       "       '6179_4-Mineral_and_other_dietary_supplements_Zinc',\n",
       "       '6179_5-Mineral_and_other_dietary_supplements_Iron',\n",
       "       '6179_6-Mineral_and_other_dietary_supplements_Selenium',\n",
       "       ...\n",
       "       'immune system disease', 'inner ear disease', 'keratitis',\n",
       "       'lacrimal apparatus disease', 'obesity', 'paralytic strabismus',\n",
       "       'polyneuropathy', 'purpura', 'retinal detachment',\n",
       "       'retinal vein occlusion'],\n",
       "      dtype='object', length=394)"
      ]
     },
     "metadata": {},
     "output_type": "display_data"
    },
    {
     "data": {
      "text/html": [
       "<h3>Cluster 49.1</h3>"
      ],
      "text/plain": [
       "<IPython.core.display.HTML object>"
      ]
     },
     "metadata": {},
     "output_type": "display_data"
    },
    {
     "data": {
      "text/plain": [
       "18"
      ]
     },
     "metadata": {},
     "output_type": "display_data"
    },
    {
     "data": {
      "text/plain": [
       "Index(['30000_raw-White_blood_cell_leukocyte_count',\n",
       "       '30130_raw-Monocyte_count', '30140_raw-Neutrophill_count',\n",
       "       '30150-Eosinophill_count', '30180_raw-Lymphocyte_percentage',\n",
       "       '30190_raw-Monocyte_percentage', '30200_raw-Neutrophill_percentage',\n",
       "       '30210_raw-Eosinophill_percentage', 'eosinophil count',\n",
       "       'granulocyte count', 'leukocyte count', 'lymphocyte count',\n",
       "       'monocyte count', 'myeloid white cell count', 'neutrophil count',\n",
       "       'sum of basophil and neutrophil counts',\n",
       "       'sum of eosinophil and basophil counts',\n",
       "       'sum of neutrophil and eosinophil counts'],\n",
       "      dtype='object')"
      ]
     },
     "metadata": {},
     "output_type": "display_data"
    },
    {
     "data": {
      "text/html": [
       "<h3>Cluster 49.2</h3>"
      ],
      "text/plain": [
       "<IPython.core.display.HTML object>"
      ]
     },
     "metadata": {},
     "output_type": "display_data"
    },
    {
     "data": {
      "text/plain": [
       "11"
      ]
     },
     "metadata": {},
     "output_type": "display_data"
    },
    {
     "data": {
      "text/plain": [
       "Index(['1707_1-Handedness_chiralitylaterality_Righthanded',\n",
       "       '20003_1140865634-Treatmentmedication_code_omeprazole',\n",
       "       'C3_SKIN-Malignant_neoplasm_of_skin',\n",
       "       'C_OTHER_SKIN-Other_malignant_neoplasms_of_skin', 'C_SKIN',\n",
       "       'KNEE_ARTHROSIS-Gonarthrosis_arthrosis_of_kneeFG',\n",
       "       'M13_ARTHROSIS-Arthrosis', 'depressive episode measurement',\n",
       "       'functional laterality', 'osteoarthritis, knee', 'skin neoplasm'],\n",
       "      dtype='object')"
      ]
     },
     "metadata": {},
     "output_type": "display_data"
    },
    {
     "data": {
      "text/html": [
       "<h3>Cluster 49.3</h3>"
      ],
      "text/plain": [
       "<IPython.core.display.HTML object>"
      ]
     },
     "metadata": {},
     "output_type": "display_data"
    },
    {
     "data": {
      "text/plain": [
       "19"
      ]
     },
     "metadata": {},
     "output_type": "display_data"
    },
    {
     "data": {
      "text/plain": [
       "Index(['EAGLE_Eczema', 'Jones_et_al_2016_Chronotype', 'MAGNETIC_CH2.DB.ratio',\n",
       "       'MAGNETIC_HDL.C', 'MAGNETIC_IDL.TG', 'MAGNETIC_LDL.C',\n",
       "       'SSGAC_Education_Years_Pooled', 'alzheimer's disease',\n",
       "       'attention deficit hyperactivity disorder', 'bone density',\n",
       "       'coronary artery disease', 'estrogen-receptor negative breast cancer',\n",
       "       'estrogen-receptor positive breast cancer',\n",
       "       'family history of breast cancer', 'fasting blood glucose measurement',\n",
       "       'fasting blood insulin measurement', 'inflammatory bowel disease',\n",
       "       'intracranial volume measurement', 'schizophrenia'],\n",
       "      dtype='object')"
      ]
     },
     "metadata": {},
     "output_type": "display_data"
    },
    {
     "data": {
      "text/html": [
       "<h3>Cluster 49.4</h3>"
      ],
      "text/plain": [
       "<IPython.core.display.HTML object>"
      ]
     },
     "metadata": {},
     "output_type": "display_data"
    },
    {
     "data": {
      "text/plain": [
       "453"
      ]
     },
     "metadata": {},
     "output_type": "display_data"
    },
    {
     "data": {
      "text/plain": [
       "Index(['20003_1140879616-Treatmentmedication_code_amitriptyline',\n",
       "       '20003_1140879630-Treatmentmedication_code_imipramine',\n",
       "       '20003_1140879634-Treatmentmedication_code_trazodone',\n",
       "       '20003_1140879762-Treatmentmedication_code_celiprolol',\n",
       "       '20003_1140879778-Treatmentmedication_code_doxazosin',\n",
       "       '20003_1140879792-Treatmentmedication_code_terbutaline',\n",
       "       '20003_1140879798-Treatmentmedication_code_terazosin',\n",
       "       '20003_1140879818-Treatmentmedication_code_metoprolol',\n",
       "       '20003_1140880086-Treatmentmedication_code_calcipotriol',\n",
       "       '20003_1140881446-Treatmentmedication_code_proctosedyl_ointment',\n",
       "       ...\n",
       "       '20112_13-Illnesses_of_adopted_father_Prostate_cancer',\n",
       "       '20112_2-Illnesses_of_adopted_father_Stroke',\n",
       "       '20112_3-Illnesses_of_adopted_father_Lung_cancer',\n",
       "       '20112_4-Illnesses_of_adopted_father_Bowel_cancer',\n",
       "       '20112_6-Illnesses_of_adopted_father_Chronic_bronchitisemphysema',\n",
       "       '20113_1-Illnesses_of_adopted_mother_Heart_disease',\n",
       "       '20113_100-Illnesses_of_adopted_mother_None_of_the_above_group_1',\n",
       "       '20113_12-Illnesses_of_adopted_mother_Severe_depression',\n",
       "       '20113_3-Illnesses_of_adopted_mother_Lung_cancer',\n",
       "       '20113_6-Illnesses_of_adopted_mother_Chronic_bronchitisemphysema'],\n",
       "      dtype='object', length=453)"
      ]
     },
     "metadata": {},
     "output_type": "display_data"
    },
    {
     "data": {
      "text/html": [
       "<h3>Cluster 49.5</h3>"
      ],
      "text/plain": [
       "<IPython.core.display.HTML object>"
      ]
     },
     "metadata": {},
     "output_type": "display_data"
    },
    {
     "data": {
      "text/plain": [
       "199"
      ]
     },
     "metadata": {},
     "output_type": "display_data"
    },
    {
     "data": {
      "text/plain": [
       "Index(['1021-Duration_of_light_DIY', '102_raw-Pulse_rate_automated_reading',\n",
       "       '1050-Time_spend_outdoors_in_summer',\n",
       "       '1060-Time_spent_outdoors_in_winter',\n",
       "       '1070-Time_spent_watching_television_TV',\n",
       "       '1080-Time_spent_using_computer', '1090-Time_spent_driving',\n",
       "       '1100-Drive_faster_than_motorway_speed_limit',\n",
       "       '110001-Invitation_to_complete_online_24hour_recall_dietary_questionnaire_acceptance',\n",
       "       '1110-Length_of_mobile_phone_use',\n",
       "       ...\n",
       "       'self rated health', 'self reported educational attainment',\n",
       "       'sleep duration', 'smoking behavior', 'smoking cessation',\n",
       "       'snoring measurement', 'tiredness measurement', 'varicose veins',\n",
       "       'wheezing', 'worry measurement'],\n",
       "      dtype='object', length=199)"
      ]
     },
     "metadata": {},
     "output_type": "display_data"
    },
    {
     "data": {
      "text/html": [
       "<h3>Cluster 49.6</h3>"
      ],
      "text/plain": [
       "<IPython.core.display.HTML object>"
      ]
     },
     "metadata": {},
     "output_type": "display_data"
    },
    {
     "data": {
      "text/plain": [
       "390"
      ]
     },
     "metadata": {},
     "output_type": "display_data"
    },
    {
     "data": {
      "text/plain": [
       "Index(['100010-Portion_size', '1001-Duration_of_strenuous_sports',\n",
       "       '100150-Drinking_water_intake', '100160-Low_calorie_drink_intake',\n",
       "       '100170-Fizzy_drink_intake', '100190-Orange_juice_intake',\n",
       "       '100360-Decaffeinated_coffee', '100370-Intake_of_sugar_added_to_coffee',\n",
       "       '100390-Tea_consumed', '100400-Standard_tea_intake',\n",
       "       ...\n",
       "       'viral disease', 'viral human hepatitis infection', 'viral meningitis',\n",
       "       'visual impairment', 'vitiligo', 'vitreous body disease',\n",
       "       'vocal cord polyp', 'voice disorders',\n",
       "       'wellbeing measurement AND family relationship', 'whooping cough'],\n",
       "      dtype='object', length=390)"
      ]
     },
     "metadata": {},
     "output_type": "display_data"
    },
    {
     "data": {
      "text/html": [
       "<h3>Cluster 49.7</h3>"
      ],
      "text/plain": [
       "<IPython.core.display.HTML object>"
      ]
     },
     "metadata": {},
     "output_type": "display_data"
    },
    {
     "data": {
      "text/plain": [
       "218"
      ]
     },
     "metadata": {},
     "output_type": "display_data"
    },
    {
     "data": {
      "text/plain": [
       "Index(['40001_C259-Underlying_primary_cause_of_death_ICD10_C259_Pancreas_unspecified',\n",
       "       '40001_C459-Underlying_primary_cause_of_death_ICD10_C459_Mesothelioma_unspecified',\n",
       "       '41248_3001-Destinations_on_discharge_from_hospital_recoded_High_security_psychiatric_hospital_NHS',\n",
       "       '41248_5003-Destinations_on_discharge_from_hospital_recoded_Transfer_to_other_NHS_provider_Psychiatry_learning_disabilities',\n",
       "       '41248_6000-Destinations_on_discharge_from_hospital_recoded_Transfer_within_NHS_provider',\n",
       "       '4233_raw-Mean_signaltonoise_ratio_SNR_left',\n",
       "       '4244_raw-Mean_signaltonoise_ratio_SNR_right',\n",
       "       '4269-Number_of_triplets_attempted_left',\n",
       "       '4270-Volume_level_set_by_participant_left',\n",
       "       '4276-Number_of_triplets_attempted_right',\n",
       "       ...\n",
       "       '6158_1-Why_reduced_smoking_Illness_or_ill_health',\n",
       "       '6158_100-Why_reduced_smoking_None_of_the_above',\n",
       "       '6158_2-Why_reduced_smoking_Doctors_advice',\n",
       "       '6158_3-Why_reduced_smoking_Health_precaution',\n",
       "       '6158_4-Why_reduced_smoking_Financial_reasons',\n",
       "       '6159_2-Pain_types_experienced_in_last_month_Facial_pain',\n",
       "       '6159_8-Pain_types_experienced_in_last_month_Pain_all_over_the_body',\n",
       "       '6162_100-Types_of_transport_used_excluding_work_None_of_the_above',\n",
       "       '709-Number_in_household', 'C_PANCREAS-Malignant_neoplasm_of_pancreas'],\n",
       "      dtype='object', length=218)"
      ]
     },
     "metadata": {},
     "output_type": "display_data"
    },
    {
     "data": {
      "text/html": [
       "<h3>Cluster 49.8</h3>"
      ],
      "text/plain": [
       "<IPython.core.display.HTML object>"
      ]
     },
     "metadata": {},
     "output_type": "display_data"
    },
    {
     "data": {
      "text/plain": [
       "3"
      ]
     },
     "metadata": {},
     "output_type": "display_data"
    },
    {
     "data": {
      "text/plain": [
       "Index(['eczema', 'seasonal allergic rhinitis',\n",
       "       'seasonal allergic rhinitis AND allergic rhinitis'],\n",
       "      dtype='object')"
      ]
     },
     "metadata": {},
     "output_type": "display_data"
    },
    {
     "data": {
      "text/html": [
       "<h3>Cluster 49.9</h3>"
      ],
      "text/plain": [
       "<IPython.core.display.HTML object>"
      ]
     },
     "metadata": {},
     "output_type": "display_data"
    },
    {
     "data": {
      "text/plain": [
       "766"
      ]
     },
     "metadata": {},
     "output_type": "display_data"
    },
    {
     "data": {
      "text/plain": [
       "Index(['22601_11113200-Job_coding_senior_official_in_central_government_including_members_of_the_senior_civil_service_and_the_equivalent_in_the_diplomatic_service_mps_meps',\n",
       "       '22601_11123211-Job_coding_director_or_chief_executive_of_private_organisationcompany_company_chairman_or_president_general_manager',\n",
       "       '22601_11133201-Job_coding_senior_official_in_local_government_including_parish_or_town_or_county_chief_clerk_chief_or_superintendent_rate_collector_chief_executive_or_director_councillor',\n",
       "       '22601_11143212-Job_coding_senior_official_of_special_interest_organisation_including_general_manager_or_director_or_executive_or_general_secretary_of_charity_or_trade_unionassociation_or_religious_organisation',\n",
       "       '22601_11212692-Job_coding_production_works_or_maintenance_manager',\n",
       "       '22601_11222591-Job_coding_manager_in_construction_clerk_of_works_site_manager_contracts_manager_highways_manager',\n",
       "       '22601_11232861-Job_coding_manager_in_mining_energy_production_or_water_supply',\n",
       "       '22601_11313221-Job_coding_financial_services_manager_chartered_secretary_banker_merchant_or_investment_banker_finance_director_tax_manager',\n",
       "       '22601_11323222-Job_coding_sales_or_marketing_managerdirector_exportimport_manager_business_development_manager_advertisingcommercial_manager',\n",
       "       '22601_11333223-Job_coding_purchasing_managerdirector_not_retail_supplies_manager',\n",
       "       ...\n",
       "       '41248_6005-Destinations_on_discharge_from_hospital_recoded_Transfer_within_NHS_provider_Medical_specialty',\n",
       "       '41248_6007-Destinations_on_discharge_from_hospital_recoded_Transfer_within_NHS_provider_Geriatrics',\n",
       "       '41248_7001-Destinations_on_discharge_from_hospital_recoded_Nursing_residential_care_group_home_NHS',\n",
       "       '41248_7002-Destinations_on_discharge_from_hospital_recoded_Nursing_residential_care_group_home_Local_Authoritory',\n",
       "       '41248_7003-Destinations_on_discharge_from_hospital_recoded_Nursing_residential_care_group_home_NonNHS',\n",
       "       '41248_8002-Destinations_on_discharge_from_hospital_recoded_Other_hospital_NonNHS',\n",
       "       '4195_raw-Pulse_wave_reflection_index',\n",
       "       '4230_raw-Signaltonoiseratio_SNR_of_triplet_left',\n",
       "       '4241_raw-Signaltonoiseratio_SNR_of_triplet_right',\n",
       "       '4462-Average_monthly_intake_of_other_alcoholic_drinks'],\n",
       "      dtype='object', length=766)"
      ]
     },
     "metadata": {},
     "output_type": "display_data"
    },
    {
     "data": {
      "text/html": [
       "<h3>Cluster 49.10</h3>"
      ],
      "text/plain": [
       "<IPython.core.display.HTML object>"
      ]
     },
     "metadata": {},
     "output_type": "display_data"
    },
    {
     "data": {
      "text/plain": [
       "314"
      ]
     },
     "metadata": {},
     "output_type": "display_data"
    },
    {
     "data": {
      "text/plain": [
       "Index(['100013_raw-Vitamin_B12', '100018_raw-Retinol', '100019_raw-Carotene',\n",
       "       '100021_raw-Vitamin_D', '100022-Alcohol', '100240-Coffee_consumed',\n",
       "       '100250-Instant_coffee_intake', '100260-Added_milk_to_instant_coffee',\n",
       "       '100270-Filtered_coffee_intake', '100280-Added_milk_to_filtered_coffee',\n",
       "       ...\n",
       "       '20003_1140879644-Treatmentmedication_code_amantadine',\n",
       "       '20003_1140879658-Treatmentmedication_code_chlorpromazine',\n",
       "       '20003_1140879760-Treatmentmedication_code_bisoprolol',\n",
       "       '20003_1140879806-Treatmentmedication_code_diltiazem',\n",
       "       '20003_1140879842-Treatmentmedication_code_propranolol',\n",
       "       '20003_1140879854-Treatmentmedication_code_sotalol',\n",
       "       '20003_1140879866-Treatmentmedication_code_timolol',\n",
       "       '20003_1140880072-Treatmentmedication_code_gamolenic_acid',\n",
       "       '20003_1140880956-Treatmentmedication_code_fentanyl',\n",
       "       '20003_1140881320-Treatmentmedication_code_magnesium_carbonate'],\n",
       "      dtype='object', length=314)"
      ]
     },
     "metadata": {},
     "output_type": "display_data"
    },
    {
     "data": {
      "text/html": [
       "<h3>Cluster 49.11</h3>"
      ],
      "text/plain": [
       "<IPython.core.display.HTML object>"
      ]
     },
     "metadata": {},
     "output_type": "display_data"
    },
    {
     "data": {
      "text/plain": [
       "176"
      ]
     },
     "metadata": {},
     "output_type": "display_data"
    },
    {
     "data": {
      "text/plain": [
       "Index(['20111_101-Illnesses_of_siblings_None_of_the_above_group_2',\n",
       "       '20111_12-Illnesses_of_siblings_Severe_depression',\n",
       "       '20112_8-Illnesses_of_adopted_father_High_blood_pressure',\n",
       "       '20112_9-Illnesses_of_adopted_father_Diabetes',\n",
       "       '20113_10-Illnesses_of_adopted_mother_Alzheimers_diseasedementia',\n",
       "       '20113_101-Illnesses_of_adopted_mother_None_of_the_above_group_2',\n",
       "       '20113_2-Illnesses_of_adopted_mother_Stroke',\n",
       "       '20113_4-Illnesses_of_adopted_mother_Bowel_cancer',\n",
       "       '20113_5-Illnesses_of_adopted_mother_Breast_cancer',\n",
       "       '20113_8-Illnesses_of_adopted_mother_High_blood_pressure',\n",
       "       ...\n",
       "       '20544_14-Mental_health_problems_ever_diagnosed_by_a_professional_Autism_Aspergers_or_autistic_spectrum_disorder',\n",
       "       '20544_15-Mental_health_problems_ever_diagnosed_by_a_professional_Anxiety_nerves_or_generalized_anxiety_disorder',\n",
       "       '20544_16-Mental_health_problems_ever_diagnosed_by_a_professional_Anorexia_nervosa',\n",
       "       '20544_3-Mental_health_problems_ever_diagnosed_by_a_professional_Any_other_type_of_psychosis_or_psychotic_illness',\n",
       "       '20546_3-Substances_taken_for_depression_Medication_prescribed_to_you_for_at_least_two_weeks',\n",
       "       '20547_1-Activities_undertaken_to_treat_depression_Talking_therapies_such_as_psychotherapy_counselling_group_therapy_or_CBT',\n",
       "       '20548_3-Manifestations_of_mania_or_irritability_My_thoughts_were_racing',\n",
       "       '20549_3-Substances_taken_for_anxiety_Medication_prescribed_to_you_for_at_least_two_weeks',\n",
       "       '20550_1-Activities_undertaken_to_treat_anxiety_Talking_therapies_such_as_psychotherapy_counselling_group_therapy_or_CBT',\n",
       "       '2247_0-Hearing_difficultyproblems_No'],\n",
       "      dtype='object', length=176)"
      ]
     },
     "metadata": {},
     "output_type": "display_data"
    },
    {
     "data": {
      "text/html": [
       "<h3>Cluster 49.12</h3>"
      ],
      "text/plain": [
       "<IPython.core.display.HTML object>"
      ]
     },
     "metadata": {},
     "output_type": "display_data"
    },
    {
     "data": {
      "text/plain": [
       "17"
      ]
     },
     "metadata": {},
     "output_type": "display_data"
    },
    {
     "data": {
      "text/plain": [
       "Index(['6152_5-Blood_clot_DVT_bronchitis_emphysema_asthma_rhinitis_eczema_allergy_diagnosed_by_doctor_Blood_clot_in_the_leg_DVT',\n",
       "       'G6_CARPTU-Carpal_tunnel_syndrome',\n",
       "       'G6_NERPLEX-Nerve_nerve_root_and_plexus_disorders',\n",
       "       'I9_DVTANDPULM-DVT_of_lower_extremities_and_pulmonary_embolism',\n",
       "       'I9_PHLETHROMBDVTLOW-DVT_of_lower_extremities',\n",
       "       'I9_VTE-Venous_thromboembolism',\n",
       "       'K11_GALLBILPANC-Disorders_of_gallbladder_biliary_tract_and_pancreas',\n",
       "       'OTHER_ILD_CVD_COMORB-Other_ILDrelated_CVDcomorbidities',\n",
       "       'ULCERNAS-Ulcerative_colitis_NAS',\n",
       "       'VI_NERVOUS-Diseases_of_the_nervous_system',\n",
       "       'XII_SKIN_SUBCUTAN-Diseases_of_the_skin_and_subcutaneous_tissue',\n",
       "       'birth weight', 'cholelithiasis', 'deep vein thrombosis',\n",
       "       'mononeuropathy', 'phlebitis AND thrombophlebitis',\n",
       "       'pulmonary embolism'],\n",
       "      dtype='object')"
      ]
     },
     "metadata": {},
     "output_type": "display_data"
    },
    {
     "data": {
      "text/html": [
       "<h3>Cluster 49.13</h3>"
      ],
      "text/plain": [
       "<IPython.core.display.HTML object>"
      ]
     },
     "metadata": {},
     "output_type": "display_data"
    },
    {
     "data": {
      "text/plain": [
       "49"
      ]
     },
     "metadata": {},
     "output_type": "display_data"
    },
    {
     "data": {
      "text/plain": [
       "Index(['20015_raw-Sitting_height',\n",
       "       '20150_raw-Forced_expiratory_volume_in_1second_FEV1_Best_measure',\n",
       "       '20151_raw-Forced_vital_capacity_FVC_Best_measure',\n",
       "       '20153_raw-Forced_expiratory_volume_in_1second_FEV1_predicted',\n",
       "       '20154_raw-Forced_expiratory_volume_in_1second_FEV1_predicted_percentage',\n",
       "       '21001_raw-Body_mass_index_BMI', '21002_raw-Weight', '23098_raw-Weight',\n",
       "       '23099_raw-Body_fat_percentage', '23100_raw-Whole_body_fat_mass',\n",
       "       '23101_raw-Whole_body_fatfree_mass', '23102_raw-Whole_body_water_mass',\n",
       "       '23104_raw-Body_mass_index_BMI', '23105_raw-Basal_metabolic_rate',\n",
       "       '23106_raw-Impedance_of_whole_body', '23107_raw-Impedance_of_leg_right',\n",
       "       '23108_raw-Impedance_of_leg_left', '23109_raw-Impedance_of_arm_right',\n",
       "       '23110_raw-Impedance_of_arm_left', '23111_raw-Leg_fat_percentage_right',\n",
       "       '23112_raw-Leg_fat_mass_right', '23113_raw-Leg_fatfree_mass_right',\n",
       "       '23114_raw-Leg_predicted_mass_right',\n",
       "       '23115_raw-Leg_fat_percentage_left', '23116_raw-Leg_fat_mass_left',\n",
       "       '23117_raw-Leg_fatfree_mass_left', '23118_raw-Leg_predicted_mass_left',\n",
       "       '23119_raw-Arm_fat_percentage_right', '23120_raw-Arm_fat_mass_right',\n",
       "       '23121_raw-Arm_fatfree_mass_right',\n",
       "       '23122_raw-Arm_predicted_mass_right',\n",
       "       '23123_raw-Arm_fat_percentage_left', '23124_raw-Arm_fat_mass_left',\n",
       "       '23125_raw-Arm_fatfree_mass_left', '23126_raw-Arm_predicted_mass_left',\n",
       "       '23127_raw-Trunk_fat_percentage', '23128_raw-Trunk_fat_mass',\n",
       "       '23129_raw-Trunk_fatfree_mass', '23130_raw-Trunk_predicted_mass',\n",
       "       '3062_raw-Forced_vital_capacity_FVC',\n",
       "       '3063_raw-Forced_expiratory_volume_in_1second_FEV1',\n",
       "       '3064_raw-Peak_expiratory_flow_PEF', '3143_raw-Ankle_spacing_width',\n",
       "       '4100_raw-Ankle_spacing_width_left',\n",
       "       '4119_raw-Ankle_spacing_width_right', '48_raw-Waist_circumference',\n",
       "       '49_raw-Hip_circumference', '50_raw-Standing_height', 'body height'],\n",
       "      dtype='object')"
      ]
     },
     "metadata": {},
     "output_type": "display_data"
    },
    {
     "data": {
      "text/html": [
       "<h3>Cluster 49.14</h3>"
      ],
      "text/plain": [
       "<IPython.core.display.HTML object>"
      ]
     },
     "metadata": {},
     "output_type": "display_data"
    },
    {
     "data": {
      "text/plain": [
       "5"
      ]
     },
     "metadata": {},
     "output_type": "display_data"
    },
    {
     "data": {
      "text/plain": [
       "Index(['20003_1140860696-Treatmentmedication_code_lisinopril',\n",
       "       '20003_1140860806-Treatmentmedication_code_ramipril',\n",
       "       '20003_1140866738-Treatmentmedication_code_atenolol',\n",
       "       '20003_1140884600-Treatmentmedication_code_metformin',\n",
       "       'diabetes mellitus'],\n",
       "      dtype='object')"
      ]
     },
     "metadata": {},
     "output_type": "display_data"
    },
    {
     "data": {
      "text/html": [
       "<h3>Cluster 49.15</h3>"
      ],
      "text/plain": [
       "<IPython.core.display.HTML object>"
      ]
     },
     "metadata": {},
     "output_type": "display_data"
    },
    {
     "data": {
      "text/plain": [
       "21"
      ]
     },
     "metadata": {},
     "output_type": "display_data"
    },
    {
     "data": {
      "text/plain": [
       "Index(['20003_2038460150-Treatmentmedication_code_paracetamol',\n",
       "       '20016_raw-Fluid_intelligence_score', '20022_raw-Birth_weight',\n",
       "       '20023_raw-Mean_time_to_correctly_identify_matches',\n",
       "       '20074_raw-Home_location_at_assessment_east_coordinate_rounded',\n",
       "       '20077-Number_of_diet_questionnaires_completed',\n",
       "       '20086_8-Type_of_special_diet_followed_Glutenfree',\n",
       "       '20107_1-Illnesses_of_father_Heart_disease',\n",
       "       '20107_100-Illnesses_of_father_None_of_the_above_group_1',\n",
       "       '20107_3-Illnesses_of_father_Lung_cancer',\n",
       "       '20107_8-Illnesses_of_father_High_blood_pressure',\n",
       "       '20107_9-Illnesses_of_father_Diabetes',\n",
       "       '20110_1-Illnesses_of_mother_Heart_disease',\n",
       "       '20110_10-Illnesses_of_mother_Alzheimers_diseasedementia',\n",
       "       '20110_100-Illnesses_of_mother_None_of_the_above_group_1',\n",
       "       '20110_8-Illnesses_of_mother_High_blood_pressure',\n",
       "       '20110_9-Illnesses_of_mother_Diabetes',\n",
       "       '20111_1-Illnesses_of_siblings_Heart_disease',\n",
       "       '20111_100-Illnesses_of_siblings_None_of_the_above_group_1',\n",
       "       '20111_8-Illnesses_of_siblings_High_blood_pressure',\n",
       "       '20111_9-Illnesses_of_siblings_Diabetes'],\n",
       "      dtype='object')"
      ]
     },
     "metadata": {},
     "output_type": "display_data"
    },
    {
     "data": {
      "text/html": [
       "<h3>Cluster 49.16</h3>"
      ],
      "text/plain": [
       "<IPython.core.display.HTML object>"
      ]
     },
     "metadata": {},
     "output_type": "display_data"
    },
    {
     "data": {
      "text/plain": [
       "7"
      ]
     },
     "metadata": {},
     "output_type": "display_data"
    },
    {
     "data": {
      "text/plain": [
       "Index(['1717-Skin_colour', '1727-Ease_of_skin_tanning',\n",
       "       '1747_1-Hair_colour_natural_before_greying_Blonde',\n",
       "       '1747_2-Hair_colour_natural_before_greying_Red',\n",
       "       '1747_3-Hair_colour_natural_before_greying_Light_brown',\n",
       "       '1747_4-Hair_colour_natural_before_greying_Dark_brown',\n",
       "       '1747_5-Hair_colour_natural_before_greying_Black'],\n",
       "      dtype='object')"
      ]
     },
     "metadata": {},
     "output_type": "display_data"
    },
    {
     "data": {
      "text/html": [
       "<h3>Cluster 49.17</h3>"
      ],
      "text/plain": [
       "<IPython.core.display.HTML object>"
      ]
     },
     "metadata": {},
     "output_type": "display_data"
    },
    {
     "data": {
      "text/plain": [
       "5"
      ]
     },
     "metadata": {},
     "output_type": "display_data"
    },
    {
     "data": {
      "text/plain": [
       "Index(['30080_raw-Platelet_count', '30090_raw-Platelet_crit',\n",
       "       '30100_raw-Mean_platelet_thrombocyte_volume',\n",
       "       '30110_raw-Platelet_distribution_width', 'platelet count'],\n",
       "      dtype='object')"
      ]
     },
     "metadata": {},
     "output_type": "display_data"
    },
    {
     "data": {
      "text/html": [
       "<h3>Cluster 49.18</h3>"
      ],
      "text/plain": [
       "<IPython.core.display.HTML object>"
      ]
     },
     "metadata": {},
     "output_type": "display_data"
    },
    {
     "data": {
      "text/plain": [
       "6"
      ]
     },
     "metadata": {},
     "output_type": "display_data"
    },
    {
     "data": {
      "text/plain": [
       "Index(['40001_C349-Underlying_primary_cause_of_death_ICD10_C349_Bronchus_or_lung_unspecified',\n",
       "       'C3_RESPIRATORY_INTRATHORACIC-Malignant_neoplasm_of_respiratory_system_and_intrathoracic_organs',\n",
       "       'C_BRONCHUS_LUNG-Malignant_neoplasm_of_bronchus_and_lung',\n",
       "       'C_RESPIRATORY_INTRATHORACIC',\n",
       "       'LUNG_CANCER_MESOT-Lung_cancer_and_mesothelioma', 'lung carcinoma'],\n",
       "      dtype='object')"
      ]
     },
     "metadata": {},
     "output_type": "display_data"
    },
    {
     "data": {
      "text/html": [
       "<h3>Cluster 49.19</h3>"
      ],
      "text/plain": [
       "<IPython.core.display.HTML object>"
      ]
     },
     "metadata": {},
     "output_type": "display_data"
    },
    {
     "data": {
      "text/plain": [
       "43"
      ]
     },
     "metadata": {},
     "output_type": "display_data"
    },
    {
     "data": {
      "text/plain": [
       "Index(['129_raw-Place_of_birth_in_UK_north_coordinate',\n",
       "       '20075_raw-Home_location_at_assessment_north_coordinate_rounded',\n",
       "       '22704_raw-Home_location_north_coordinate_rounded',\n",
       "       'ASTHMA_PNEUMONIA-Asthmarelated_pneumonia',\n",
       "       'G6_EPIPAROX-Episodal_and_paroxysmal_disorders',\n",
       "       'G6_SLEEPAPNO-Sleep_apnoea',\n",
       "       'L12_ATROPHICSKIN-Atrophic_disorders_of_skin',\n",
       "       'L12_SCARCONDITIONS-Scar_conditions_and_fibrosis_of_skin',\n",
       "       'M13_DORSOPATHYOTH-Other_dorsopathies_not_elsewhere_classified',\n",
       "       'M13_MUSCULOSKELEOTH-Other_disorders_of_the_musculoskeletal_system_and_connective_tissue',\n",
       "       'M13_SACROCOGG-Sacrococcygeal_disorders_not_elsewhere_classified',\n",
       "       'PNEUMONIA-Pneumonias_AsthmaCOPD_comorbidities',\n",
       "       'SLEEP-Sleep_disorders_combined', 'abdominal injury', 'bone disease',\n",
       "       'cardiac arrhythmia', 'checkup',\n",
       "       'chronic obstructive pulmonary disease', 'device complication',\n",
       "       'encounter with health service', 'female reproductive system disease',\n",
       "       'follow-up', 'head injury', 'headache', 'heart disease', 'injury',\n",
       "       'joint disease', 'kidney failure', 'leg injury', 'lower limb pain',\n",
       "       'mesothelioma', 'musculoskeletal system disease',\n",
       "       'musculoskeletal system disease AND connective tissue disease',\n",
       "       'nasal cavity polyp', 'pericarditis', 'pneumonia', 'poisoning',\n",
       "       'pregnancy disorder', 'skin atrophy', 'sleep disorder',\n",
       "       'soft tissue disease', 'urogenital neoplasm', 'wrist fracture'],\n",
       "      dtype='object')"
      ]
     },
     "metadata": {},
     "output_type": "display_data"
    },
    {
     "data": {
      "text/html": [
       "<h3>Cluster 49.20</h3>"
      ],
      "text/plain": [
       "<IPython.core.display.HTML object>"
      ]
     },
     "metadata": {},
     "output_type": "display_data"
    },
    {
     "data": {
      "text/plain": [
       "321"
      ]
     },
     "metadata": {},
     "output_type": "display_data"
    },
    {
     "data": {
      "text/plain": [
       "Index(['40001_C719-Underlying_primary_cause_of_death_ICD10_C719_Brain_unspecified',\n",
       "       'ASTHMA_CHILD-Childhood_asthma_age16',\n",
       "       'ASTHMA_HOSPITAL1-Asthma_hospital_admissions_1',\n",
       "       'BACT_INTEST_INFECTION_NOS-Other_specifiedunspecified_bacterial_intestinal_infections',\n",
       "       'C3_DIGESTIVE_ORGANS-Malignant_neoplasm_of_digestive_organs',\n",
       "       'C3_EYE_BRAIN_NEURO-Malignant_neoplasm_of_eye_brain_and_central_nervous_system',\n",
       "       'C3_URINARY_TRACT-Malignant_neoplasm_of_urinary_organs',\n",
       "       'C_BLADDER-Malignant_neoplasm_of_bladder',\n",
       "       'C_BRAIN-Malignant_neoplasm_of_brain',\n",
       "       'C_COLON-Malignant_neoplasm_of_colon',\n",
       "       ...\n",
       "       'iron deficiency anemia', 'kidney neoplasm', 'knee injury',\n",
       "       'muscular disease', 'pigmentation disease', 'skeletal system disease',\n",
       "       'skin disease', 'suppurative otitis media', 'tenosynovitis',\n",
       "       'vasculitis'],\n",
       "      dtype='object', length=321)"
      ]
     },
     "metadata": {},
     "output_type": "display_data"
    },
    {
     "data": {
      "text/html": [
       "<h3>Cluster 49.21</h3>"
      ],
      "text/plain": [
       "<IPython.core.display.HTML object>"
      ]
     },
     "metadata": {},
     "output_type": "display_data"
    },
    {
     "data": {
      "text/plain": [
       "4"
      ]
     },
     "metadata": {},
     "output_type": "display_data"
    },
    {
     "data": {
      "text/plain": [
       "Index(['C3_MALE_GENITAL-malignant_neoplasm_of_male_genital_organs',\n",
       "       'C_MALE_GENITAL', 'C_PROSTATE-Malignant_neoplasm_of_prostate',\n",
       "       'prostate carcinoma'],\n",
       "      dtype='object')"
      ]
     },
     "metadata": {},
     "output_type": "display_data"
    },
    {
     "data": {
      "text/html": [
       "<h3>Cluster 49.22</h3>"
      ],
      "text/plain": [
       "<IPython.core.display.HTML object>"
      ]
     },
     "metadata": {},
     "output_type": "display_data"
    },
    {
     "data": {
      "text/plain": [
       "15"
      ]
     },
     "metadata": {},
     "output_type": "display_data"
    },
    {
     "data": {
      "text/plain": [
       "Index(['20003_1140868226-Treatmentmedication_code_aspirin',\n",
       "       '20003_1141146234-Treatmentmedication_code_atorvastatin',\n",
       "       '6150_1-Vascularheart_problems_diagnosed_by_doctor_Heart_attack',\n",
       "       '6150_2-Vascularheart_problems_diagnosed_by_doctor_Angina',\n",
       "       '6154_1-Medication_for_pain_relief_constipation_heartburn_Aspirin',\n",
       "       'I9_CHD-Major_coronary_heart_disease_event',\n",
       "       'I9_CHD_NOREV-Major_coronary_heart_disease_event_excluding_revascularizations',\n",
       "       'I9_CORATHER-Coronary_atherosclerosis',\n",
       "       'I9_IHD-Ischaemic_heart_disease_wide_definition',\n",
       "       'I9_MI-Myocardial_infarction',\n",
       "       'I9_MI_STRICT-Myocardial_infarction_strict',\n",
       "       'IX_CIRCULATORY-Diseases_of_the_circulatory_system',\n",
       "       'acute myocardial infarction', 'angina pectoris',\n",
       "       'myocardial infarction'],\n",
       "      dtype='object')"
      ]
     },
     "metadata": {},
     "output_type": "display_data"
    },
    {
     "data": {
      "text/html": [
       "<h3>Cluster 49.23</h3>"
      ],
      "text/plain": [
       "<IPython.core.display.HTML object>"
      ]
     },
     "metadata": {},
     "output_type": "display_data"
    },
    {
     "data": {
      "text/plain": [
       "42"
      ]
     },
     "metadata": {},
     "output_type": "display_data"
    },
    {
     "data": {
      "text/plain": [
       "Index(['41231_1-Hospital_episode_type_General_episode',\n",
       "       '41248_1000-Destinations_on_discharge_from_hospital_recoded_Usual_Place_of_residence',\n",
       "       '4194_raw-Pulse_rate', '4196_raw-Pulse_wave_peak_to_peak_time',\n",
       "       '4260-Round_of_numeric_memory_test',\n",
       "       '4282-Maximum_digits_remembered_correctly',\n",
       "       '4283-Number_of_rounds_of_numeric_memory_test_performed',\n",
       "       '4290_raw-Duration_screen_displayed', '4291-Number_of_attempts',\n",
       "       '4803_0-Tinnitus_No_never', '4825-Noisy_workplace',\n",
       "       '4957-FI3_word_interpolation', '4968-FI4_positional_arithmetic',\n",
       "       '4979-FI5_family_relationship_calculation',\n",
       "       '4990-FI6_conditional_arithmetic', '5001-FI7_synonym',\n",
       "       '5012-FI8_chained_arithmetic', '5084_raw-Spherical_power_right',\n",
       "       '5085_raw-Spherical_power_left',\n",
       "       '5254_raw-Intraocular_pressure_cornealcompensated_right',\n",
       "       '5255_raw-Intraocular_pressure_Goldmanncorrelated_right',\n",
       "       '5256_raw-Corneal_hysteresis_right',\n",
       "       '5257_raw-Corneal_resistance_factor_right',\n",
       "       '5262_raw-Intraocular_pressure_cornealcompensated_left',\n",
       "       '5263_raw-Intraocular_pressure_Goldmanncorrelated_left',\n",
       "       '5264_raw-Corneal_hysteresis_left',\n",
       "       '5265_raw-Corneal_resistance_factor_left',\n",
       "       '5556-FI9_concept_interpolation',\n",
       "       '6138_3-Qualifications_O_levelsGCSEs_or_equivalent',\n",
       "       '6138_4-Qualifications_CSEs_or_equivalent',\n",
       "       '6138_6-Qualifications_Other_professional_qualifications_eg_nursing_teaching',\n",
       "       '6139_3-Gas_or_solidfuel_cookingheating_An_open_solid_fuel_fire_that_you_use_regularly_in_winter_time',\n",
       "       '6141_1-How_are_people_in_household_related_to_participant_Husband_wife_or_partner',\n",
       "       '6142_4-Current_employment_status_Unable_to_work_because_of_sickness_or_disability',\n",
       "       '6143_3-Transport_type_for_commuting_to_job_workplace_Public_transport',\n",
       "       '6143_4-Transport_type_for_commuting_to_job_workplace_Cycle',\n",
       "       '6145_100-Illness_injury_bereavement_stress_in_last_2_years_None_of_the_above',\n",
       "       '6145_6-Illness_injury_bereavement_stress_in_last_2_years_Financial_difficulties',\n",
       "       '6146_1-Attendancedisabilitymobility_allowance_Attendance_allowance',\n",
       "       '6149_3-Mouthteeth_dental_problems_Bleeding_gums',\n",
       "       '6151_7-Fractured_bone_sites_Other_bones', 'episodic memory'],\n",
       "      dtype='object')"
      ]
     },
     "metadata": {},
     "output_type": "display_data"
    },
    {
     "data": {
      "text/html": [
       "<h3>Cluster 49.24</h3>"
      ],
      "text/plain": [
       "<IPython.core.display.HTML object>"
      ]
     },
     "metadata": {},
     "output_type": "display_data"
    },
    {
     "data": {
      "text/plain": [
       "6"
      ]
     },
     "metadata": {},
     "output_type": "display_data"
    },
    {
     "data": {
      "text/plain": [
       "Index(['ASTHMA_MEDICATIO_COMORB-Medication_related_adverse_effects',\n",
       "       'H7_LENS-Disorders_of_lens',\n",
       "       'PULM_MEDICATIO_COMORB-Medication_related_adverse_effects_AsthmaCOPD',\n",
       "       'VII_EYE_ADNEXA-Diseases_of_the_eye_and_adnexa', 'age-related cataract',\n",
       "       'cataract'],\n",
       "      dtype='object')"
      ]
     },
     "metadata": {},
     "output_type": "display_data"
    },
    {
     "data": {
      "text/html": [
       "<h3>Cluster 49.25</h3>"
      ],
      "text/plain": [
       "<IPython.core.display.HTML object>"
      ]
     },
     "metadata": {},
     "output_type": "display_data"
    },
    {
     "data": {
      "text/plain": [
       "18"
      ]
     },
     "metadata": {},
     "output_type": "display_data"
    },
    {
     "data": {
      "text/plain": [
       "Index(['100001_raw-Food_weight', '100002_raw-Energy', '100003_raw-Protein',\n",
       "       '100004_raw-Fat', '100005_raw-Carbohydrate', '100006_raw-Saturated_fat',\n",
       "       '100007_raw-Polyunsaturated_fat', '100008_raw-Total_sugars',\n",
       "       '100009_raw-Englyst_dietary_fibre', '100011_raw-Iron',\n",
       "       '100012_raw-Vitamin_B6', '100014_raw-Folate', '100015_raw-Vitamin_C',\n",
       "       '100016_raw-Potassium', '100017_raw-Magnesium', '100023_raw-Starch',\n",
       "       '100024_raw-Calcium', '100025_raw-Vitamin_E'],\n",
       "      dtype='object')"
      ]
     },
     "metadata": {},
     "output_type": "display_data"
    },
    {
     "data": {
      "text/html": [
       "<h3>Cluster 49.26</h3>"
      ],
      "text/plain": [
       "<IPython.core.display.HTML object>"
      ]
     },
     "metadata": {},
     "output_type": "display_data"
    },
    {
     "data": {
      "text/plain": [
       "7"
      ]
     },
     "metadata": {},
     "output_type": "display_data"
    },
    {
     "data": {
      "text/plain": [
       "Index(['5984_raw-ECG_load', '5986_raw-ECG_phase_time',\n",
       "       '5992-ECG_phase_duration', '5993-ECG_number_of_stages_in_a_phase',\n",
       "       '6032_raw-Maximum_workload_during_fitness_test',\n",
       "       '6038_raw-Number_of_trend_entries', '6039-Duration_of_fitness_test'],\n",
       "      dtype='object')"
      ]
     },
     "metadata": {},
     "output_type": "display_data"
    },
    {
     "data": {
      "text/html": [
       "<h3>Cluster 49.27</h3>"
      ],
      "text/plain": [
       "<IPython.core.display.HTML object>"
      ]
     },
     "metadata": {},
     "output_type": "display_data"
    },
    {
     "data": {
      "text/plain": [
       "15"
      ]
     },
     "metadata": {},
     "output_type": "display_data"
    },
    {
     "data": {
      "text/plain": [
       "Index(['20003_1140861958-Treatmentmedication_code_simvastatin',\n",
       "       '20003_1140879802-Treatmentmedication_code_amlodipine',\n",
       "       '20003_1141194794-Treatmentmedication_code_bendroflumethiazide',\n",
       "       '4079_raw-Diastolic_blood_pressure_automated_reading',\n",
       "       '4080_raw-Systolic_blood_pressure_automated_reading',\n",
       "       '6150_100-Vascularheart_problems_diagnosed_by_doctor_None_of_the_above',\n",
       "       '6150_4-Vascularheart_problems_diagnosed_by_doctor_High_blood_pressure',\n",
       "       '6153_1-Medication_for_cholesterol_blood_pressure_diabetes_or_take_exogenous_hormones_Cholesterol_lowering_medication',\n",
       "       '6153_100-Medication_for_cholesterol_blood_pressure_diabetes_or_take_exogenous_hormones_None_of_the_above',\n",
       "       '6153_2-Medication_for_cholesterol_blood_pressure_diabetes_or_take_exogenous_hormones_Blood_pressure_medication',\n",
       "       '6177_1-Medication_for_cholesterol_blood_pressure_or_diabetes_Cholesterol_lowering_medication',\n",
       "       '6177_100-Medication_for_cholesterol_blood_pressure_or_diabetes_None_of_the_above',\n",
       "       '6177_2-Medication_for_cholesterol_blood_pressure_or_diabetes_Blood_pressure_medication',\n",
       "       'hypercholesterolemia', 'hypertension'],\n",
       "      dtype='object')"
      ]
     },
     "metadata": {},
     "output_type": "display_data"
    },
    {
     "data": {
      "text/html": [
       "<h3>Cluster 49.28</h3>"
      ],
      "text/plain": [
       "<IPython.core.display.HTML object>"
      ]
     },
     "metadata": {},
     "output_type": "display_data"
    },
    {
     "data": {
      "text/plain": [
       "3"
      ]
     },
     "metadata": {},
     "output_type": "display_data"
    },
    {
     "data": {
      "text/plain": [
       "Index(['L12_ACTINKERA-Actinic_keratosis',\n",
       "       'L12_NONIONRADISKIN-Skin_changes_due_to_chronic_exposure_to_nonionizing_radiation',\n",
       "       'radiation-induced disorder'],\n",
       "      dtype='object')"
      ]
     },
     "metadata": {},
     "output_type": "display_data"
    },
    {
     "data": {
      "text/html": [
       "<h3>Cluster 49.29</h3>"
      ],
      "text/plain": [
       "<IPython.core.display.HTML object>"
      ]
     },
     "metadata": {},
     "output_type": "display_data"
    },
    {
     "data": {
      "text/plain": [
       "15"
      ]
     },
     "metadata": {},
     "output_type": "display_data"
    },
    {
     "data": {
      "text/plain": [
       "Index(['30010_raw-Red_blood_cell_erythrocyte_count',\n",
       "       '30020_raw-Haemoglobin_concentration',\n",
       "       '30030_raw-Haematocrit_percentage', '30040_raw-Mean_corpuscular_volume',\n",
       "       '30050_raw-Mean_corpuscular_haemoglobin',\n",
       "       '30070_raw-Red_blood_cell_erythrocyte_distribution_width',\n",
       "       '30240_raw-Reticulocyte_percentage', '30250_raw-Reticulocyte_count',\n",
       "       '30260_raw-Mean_reticulocyte_volume',\n",
       "       '30270_raw-Mean_sphered_cell_volume',\n",
       "       '30280_raw-Immature_reticulocyte_fraction',\n",
       "       '30290_raw-High_light_scatter_reticulocyte_percentage',\n",
       "       '30300_raw-High_light_scatter_reticulocyte_count', 'erythrocyte count',\n",
       "       'reticulocyte count'],\n",
       "      dtype='object')"
      ]
     },
     "metadata": {},
     "output_type": "display_data"
    },
    {
     "data": {
      "text/html": [
       "<h3>Cluster 49.30</h3>"
      ],
      "text/plain": [
       "<IPython.core.display.HTML object>"
      ]
     },
     "metadata": {},
     "output_type": "display_data"
    },
    {
     "data": {
      "text/plain": [
       "14"
      ]
     },
     "metadata": {},
     "output_type": "display_data"
    },
    {
     "data": {
      "text/plain": [
       "Index(['20003_1140884516-Treatmentmedication_code_thyroxine_product',\n",
       "       'K11_OTHDIG-Other_diseases_of_the_digestive_system',\n",
       "       'M13_POLYARTHROPATHIES-Polyarthropathies',\n",
       "       'M13_RHEUMA-Rheumatoid_arthritis',\n",
       "       'RHEUMA_NOS-Otherunspecified_rheumatoid_arthritis',\n",
       "       'RHEUMA_SEROPOS-Seropositive_rheumatoid_arthritis',\n",
       "       'RHEUMA_SEROPOS_OTH-Otherunspecified_seropositiverheumatoid_arthritis',\n",
       "       'STILL_ADULT-Adultonset_Still_disease', 'adrenocortical insufficiency',\n",
       "       'ankylosing spondylitis', 'benign prostatic hyperplasia', 'hematuria',\n",
       "       'multiple sclerosis', 'psoriatic arthritis'],\n",
       "      dtype='object')"
      ]
     },
     "metadata": {},
     "output_type": "display_data"
    },
    {
     "data": {
      "text/html": [
       "<h3>Cluster 49.31</h3>"
      ],
      "text/plain": [
       "<IPython.core.display.HTML object>"
      ]
     },
     "metadata": {},
     "output_type": "display_data"
    },
    {
     "data": {
      "text/plain": [
       "1"
      ]
     },
     "metadata": {},
     "output_type": "display_data"
    },
    {
     "data": {
      "text/plain": [
       "Index(['30060_raw-Mean_corpuscular_haemoglobin_concentration'], dtype='object')"
      ]
     },
     "metadata": {},
     "output_type": "display_data"
    },
    {
     "data": {
      "text/html": [
       "<h3>Cluster 49.32</h3>"
      ],
      "text/plain": [
       "<IPython.core.display.HTML object>"
      ]
     },
     "metadata": {},
     "output_type": "display_data"
    },
    {
     "data": {
      "text/plain": [
       "8"
      ]
     },
     "metadata": {},
     "output_type": "display_data"
    },
    {
     "data": {
      "text/plain": [
       "Index(['24003_raw-Nitrogen_dioxide_air_pollution_2010',\n",
       "       '24004_raw-Nitrogen_oxides_air_pollution_2010',\n",
       "       '24006_raw-Particulate_matter_air_pollution_pm25_2010',\n",
       "       '24007_raw-Particulate_matter_air_pollution_pm25_absorbance_2010',\n",
       "       '24016_raw-Nitrogen_dioxide_air_pollution_2005',\n",
       "       '24017_raw-Nitrogen_dioxide_air_pollution_2006',\n",
       "       '24018_raw-Nitrogen_dioxide_air_pollution_2007',\n",
       "       '24019_raw-Particulate_matter_air_pollution_pm10_2007'],\n",
       "      dtype='object')"
      ]
     },
     "metadata": {},
     "output_type": "display_data"
    },
    {
     "data": {
      "text/html": [
       "<h3>Cluster 49.33</h3>"
      ],
      "text/plain": [
       "<IPython.core.display.HTML object>"
      ]
     },
     "metadata": {},
     "output_type": "display_data"
    },
    {
     "data": {
      "text/plain": [
       "8"
      ]
     },
     "metadata": {},
     "output_type": "display_data"
    },
    {
     "data": {
      "text/plain": [
       "Index(['5096_raw-3mm_weak_meridian_left', '5097_raw-6mm_weak_meridian_left',\n",
       "       '5098_raw-6mm_weak_meridian_right', '5099_raw-3mm_weak_meridian_right',\n",
       "       '5132_raw-3mm_strong_meridian_right',\n",
       "       '5133_raw-6mm_strong_meridian_right',\n",
       "       '5134_raw-6mm_strong_meridian_left',\n",
       "       '5135_raw-3mm_strong_meridian_left'],\n",
       "      dtype='object')"
      ]
     },
     "metadata": {},
     "output_type": "display_data"
    },
    {
     "data": {
      "text/html": [
       "<h3>Cluster 49.34</h3>"
      ],
      "text/plain": [
       "<IPython.core.display.HTML object>"
      ]
     },
     "metadata": {},
     "output_type": "display_data"
    },
    {
     "data": {
      "text/plain": [
       "1"
      ]
     },
     "metadata": {},
     "output_type": "display_data"
    },
    {
     "data": {
      "text/plain": [
       "Index(['mineral metabolism disease'], dtype='object')"
      ]
     },
     "metadata": {},
     "output_type": "display_data"
    },
    {
     "data": {
      "text/html": [
       "<h3>Cluster 49.35</h3>"
      ],
      "text/plain": [
       "<IPython.core.display.HTML object>"
      ]
     },
     "metadata": {},
     "output_type": "display_data"
    },
    {
     "data": {
      "text/plain": [
       "4"
      ]
     },
     "metadata": {},
     "output_type": "display_data"
    },
    {
     "data": {
      "text/plain": [
       "Index(['HEARTFAIL-Heart_failure', 'I9_HEARTFAIL-Heart_failurestrict',\n",
       "       'I9_HEARTFAIL_NS-Heart_failure_not_strict', 'heart failure'],\n",
       "      dtype='object')"
      ]
     },
     "metadata": {},
     "output_type": "display_data"
    },
    {
     "data": {
      "text/html": [
       "<h3>Cluster 49.36</h3>"
      ],
      "text/plain": [
       "<IPython.core.display.HTML object>"
      ]
     },
     "metadata": {},
     "output_type": "display_data"
    },
    {
     "data": {
      "text/plain": [
       "4"
      ]
     },
     "metadata": {},
     "output_type": "display_data"
    },
    {
     "data": {
      "text/plain": [
       "Index(['COPD_EXCL-COPD_differential_diagnosis',\n",
       "       'ILD_DIFF_DG-ILD_differential_diagnosis',\n",
       "       'PULMONARYDG-Other_pulmonary_diagnosis',\n",
       "       'X_RESPIRATORY-Diseases_of_the_respiratory_system'],\n",
       "      dtype='object')"
      ]
     },
     "metadata": {},
     "output_type": "display_data"
    },
    {
     "data": {
      "text/html": [
       "<h3>Cluster 49.37</h3>"
      ],
      "text/plain": [
       "<IPython.core.display.HTML object>"
      ]
     },
     "metadata": {},
     "output_type": "display_data"
    },
    {
     "data": {
      "text/plain": [
       "5"
      ]
     },
     "metadata": {},
     "output_type": "display_data"
    },
    {
     "data": {
      "text/plain": [
       "Index(['C_STROKE-STROKE', 'I9_STR-Stroke_excluding_SAH',\n",
       "       'I9_STR_EXH-Ischaemic_Stroke_excluding_all_haemorrhages',\n",
       "       'I9_STR_SAH-Stroke_including_SAH', 'brain infarction'],\n",
       "      dtype='object')"
      ]
     },
     "metadata": {},
     "output_type": "display_data"
    },
    {
     "data": {
      "text/html": [
       "<h3>Cluster 49.38</h3>"
      ],
      "text/plain": [
       "<IPython.core.display.HTML object>"
      ]
     },
     "metadata": {},
     "output_type": "display_data"
    },
    {
     "data": {
      "text/plain": [
       "1"
      ]
     },
     "metadata": {},
     "output_type": "display_data"
    },
    {
     "data": {
      "text/plain": [
       "Index(['1737-Childhood_sunburn_occasions'], dtype='object')"
      ]
     },
     "metadata": {},
     "output_type": "display_data"
    },
    {
     "data": {
      "text/html": [
       "<h3>Cluster 49.39</h3>"
      ],
      "text/plain": [
       "<IPython.core.display.HTML object>"
      ]
     },
     "metadata": {},
     "output_type": "display_data"
    },
    {
     "data": {
      "text/plain": [
       "12"
      ]
     },
     "metadata": {},
     "output_type": "display_data"
    },
    {
     "data": {
      "text/plain": [
       "Index(['3144_raw-Heel_Broadband_ultrasound_attenuation_direct_entry',\n",
       "       '3147_raw-Heel_quantitative_ultrasound_index_QUI_direct_entry',\n",
       "       '3148_raw-Heel_bone_mineral_density_BMD',\n",
       "       '4101_raw-Heel_broadband_ultrasound_attenuation_left',\n",
       "       '4104_raw-Heel_quantitative_ultrasound_index_QUI_direct_entry_left',\n",
       "       '4105_raw-Heel_bone_mineral_density_BMD_left',\n",
       "       '4106_raw-Heel_bone_mineral_density_BMD_Tscore_automated_left',\n",
       "       '4120_raw-Heel_broadband_ultrasound_attenuation_right',\n",
       "       '4123_raw-Heel_quantitative_ultrasound_index_QUI_direct_entry_right',\n",
       "       '4124_raw-Heel_bone_mineral_density_BMD_right',\n",
       "       '4125_raw-Heel_bone_mineral_density_BMD_Tscore_automated_right',\n",
       "       '78_raw-Heel_bone_mineral_density_BMD_Tscore_automated'],\n",
       "      dtype='object')"
      ]
     },
     "metadata": {},
     "output_type": "display_data"
    },
    {
     "data": {
      "text/html": [
       "<h3>Cluster 49.40</h3>"
      ],
      "text/plain": [
       "<IPython.core.display.HTML object>"
      ]
     },
     "metadata": {},
     "output_type": "display_data"
    },
    {
     "data": {
      "text/plain": [
       "17"
      ]
     },
     "metadata": {},
     "output_type": "display_data"
    },
    {
     "data": {
      "text/plain": [
       "Index(['20003_1140883066-Treatmentmedication_code_insulin_product',\n",
       "       '20003_1141191044-Treatmentmedication_code_levothyroxine_sodium',\n",
       "       '2976_raw-Age_diabetes_diagnosed',\n",
       "       '2986-Started_insulin_within_one_year_diagnosis_of_diabetes',\n",
       "       '6144_3-Never_eat_eggs_dairy_wheat_sugar_Wheat_products',\n",
       "       '6153_3-Medication_for_cholesterol_blood_pressure_diabetes_or_take_exogenous_hormones_Insulin',\n",
       "       '6177_3-Medication_for_cholesterol_blood_pressure_or_diabetes_Insulin',\n",
       "       'K11_COELIAC-Coeliac_disease', 'celiac disease',\n",
       "       'hyperthyroidism AND thyrotoxicosis', 'hypothyroidism AND myxedema',\n",
       "       'malabsorption syndrome', 'psoriasis', 'rheumatoid arthritis',\n",
       "       'sarcoidosis', 'systemic lupus erythematosus',\n",
       "       'type i diabetes mellitus'],\n",
       "      dtype='object')"
      ]
     },
     "metadata": {},
     "output_type": "display_data"
    },
    {
     "data": {
      "text/html": [
       "<h3>Cluster 49.41</h3>"
      ],
      "text/plain": [
       "<IPython.core.display.HTML object>"
      ]
     },
     "metadata": {},
     "output_type": "display_data"
    },
    {
     "data": {
      "text/plain": [
       "3"
      ]
     },
     "metadata": {},
     "output_type": "display_data"
    },
    {
     "data": {
      "text/plain": [
       "Index(['M13_DUPUTRYEN-Palmar_fascial_fibromatosis_Dupuytren',\n",
       "       'M13_FIBROBLASTIC-Fibroblastic_disorders', 'fibroblastic disorder'],\n",
       "      dtype='object')"
      ]
     },
     "metadata": {},
     "output_type": "display_data"
    },
    {
     "data": {
      "text/html": [
       "<h3>Cluster 49.42</h3>"
      ],
      "text/plain": [
       "<IPython.core.display.HTML object>"
      ]
     },
     "metadata": {},
     "output_type": "display_data"
    },
    {
     "data": {
      "text/plain": [
       "6"
      ]
     },
     "metadata": {},
     "output_type": "display_data"
    },
    {
     "data": {
      "text/plain": [
       "Index(['20003_1140861998-Treatmentmedication_code_ventolin_100micrograms_inhaler',\n",
       "       '30120_raw-Lymphocyte_count',\n",
       "       '6152_100-Blood_clot_DVT_bronchitis_emphysema_asthma_rhinitis_eczema_allergy_diagnosed_by_doctor_None_of_the_above',\n",
       "       '6152_8-Blood_clot_DVT_bronchitis_emphysema_asthma_rhinitis_eczema_allergy_diagnosed_by_doctor_Asthma',\n",
       "       '6152_9-Blood_clot_DVT_bronchitis_emphysema_asthma_rhinitis_eczema_allergy_diagnosed_by_doctor_Hayfever_allergic_rhinitis_or_eczema',\n",
       "       'asthma'],\n",
       "      dtype='object')"
      ]
     },
     "metadata": {},
     "output_type": "display_data"
    },
    {
     "data": {
      "text/html": [
       "<h3>Cluster 49.43</h3>"
      ],
      "text/plain": [
       "<IPython.core.display.HTML object>"
      ]
     },
     "metadata": {},
     "output_type": "display_data"
    },
    {
     "data": {
      "text/plain": [
       "1"
      ]
     },
     "metadata": {},
     "output_type": "display_data"
    },
    {
     "data": {
      "text/plain": [
       "Index(['6149_1-Mouthteeth_dental_problems_Mouth_ulcers'], dtype='object')"
      ]
     },
     "metadata": {},
     "output_type": "display_data"
    },
    {
     "data": {
      "text/html": [
       "<h3>Cluster 49.44</h3>"
      ],
      "text/plain": [
       "<IPython.core.display.HTML object>"
      ]
     },
     "metadata": {},
     "output_type": "display_data"
    },
    {
     "data": {
      "text/plain": [
       "2"
      ]
     },
     "metadata": {},
     "output_type": "display_data"
    },
    {
     "data": {
      "text/plain": [
       "Index(['46_raw-Hand_grip_strength_left', '47_raw-Hand_grip_strength_right'], dtype='object')"
      ]
     },
     "metadata": {},
     "output_type": "display_data"
    },
    {
     "data": {
      "text/html": [
       "<h3>Cluster 49.45</h3>"
      ],
      "text/plain": [
       "<IPython.core.display.HTML object>"
      ]
     },
     "metadata": {},
     "output_type": "display_data"
    },
    {
     "data": {
      "text/plain": [
       "8"
      ]
     },
     "metadata": {},
     "output_type": "display_data"
    },
    {
     "data": {
      "text/plain": [
       "Index(['24013-Total_traffic_load_on_major_roads', '24014-Close_to_major_road',\n",
       "       '24015-Sum_of_road_length_of_major_roads_within_100m',\n",
       "       '24020_raw-Average_daytime_sound_level_of_noise_pollution',\n",
       "       '24021_raw-Average_evening_sound_level_of_noise_pollution',\n",
       "       '24022_raw-Average_nighttime_sound_level_of_noise_pollution',\n",
       "       '24023_raw-Average_16hour_sound_level_of_noise_pollution',\n",
       "       '24024_raw-Average_24hour_sound_level_of_noise_pollution'],\n",
       "      dtype='object')"
      ]
     },
     "metadata": {},
     "output_type": "display_data"
    },
    {
     "data": {
      "text/html": [
       "<h3>Cluster 49.46</h3>"
      ],
      "text/plain": [
       "<IPython.core.display.HTML object>"
      ]
     },
     "metadata": {},
     "output_type": "display_data"
    },
    {
     "data": {
      "text/plain": [
       "2"
      ]
     },
     "metadata": {},
     "output_type": "display_data"
    },
    {
     "data": {
      "text/plain": [
       "Index(['20003_1140875408-Treatmentmedication_code_allopurinol', 'gout'], dtype='object')"
      ]
     },
     "metadata": {},
     "output_type": "display_data"
    },
    {
     "data": {
      "text/html": [
       "<h3>Cluster 49.47</h3>"
      ],
      "text/plain": [
       "<IPython.core.display.HTML object>"
      ]
     },
     "metadata": {},
     "output_type": "display_data"
    },
    {
     "data": {
      "text/plain": [
       "5"
      ]
     },
     "metadata": {},
     "output_type": "display_data"
    },
    {
     "data": {
      "text/plain": [
       "Index(['F5_ALLANXIOUS-All_anxiety_disorders',\n",
       "       'F5_ANXIETY-Other_anxiety_disorders',\n",
       "       'KRA_PSY_ANXIETY-Anxiety_disorders',\n",
       "       'PULM_ANXIETY-Anxiety_asthmarelated_comorbidities', 'anxiety disorder'],\n",
       "      dtype='object')"
      ]
     },
     "metadata": {},
     "output_type": "display_data"
    },
    {
     "data": {
      "text/html": [
       "<h3>Cluster 49.48</h3>"
      ],
      "text/plain": [
       "<IPython.core.display.HTML object>"
      ]
     },
     "metadata": {},
     "output_type": "display_data"
    },
    {
     "data": {
      "text/plain": [
       "90"
      ]
     },
     "metadata": {},
     "output_type": "display_data"
    },
    {
     "data": {
      "text/plain": [
       "Index(['20431-Ever_addicted_to_a_behaviour_or_miscellanous',\n",
       "       '20480-Ever_selfharmed', '20528-Diagnosed_with_lifethreatening_illness',\n",
       "       '20537-Frequency_of_difficulty_controlling_worry_during_worst_period_of_anxiety',\n",
       "       '20539-Frequency_of_inability_to_stop_worrying_during_worst_period_of_anxiety',\n",
       "       '20542-Stronger_worrying_than_other_people_during_period_of_worst_anxiety',\n",
       "       '20544_17-Mental_health_problems_ever_diagnosed_by_a_professional_Agoraphobia',\n",
       "       '20544_2-Mental_health_problems_ever_diagnosed_by_a_professional_Schizophrenia',\n",
       "       '20544_4-Mental_health_problems_ever_diagnosed_by_a_professional_A_personality_disorder',\n",
       "       '20544_5-Mental_health_problems_ever_diagnosed_by_a_professional_Any_other_phobia_eg_disabling_fear_of_heights_or_spiders',\n",
       "       '20544_6-Mental_health_problems_ever_diagnosed_by_a_professional_Panic_attacks',\n",
       "       '20544_7-Mental_health_problems_ever_diagnosed_by_a_professional_Obsessive_compulsive_disorder_OCD',\n",
       "       '20546_1-Substances_taken_for_depression_Unprescribed_medication_more_than_once',\n",
       "       '20546_4-Substances_taken_for_depression_Drugs_or_alcohol_more_than_once',\n",
       "       '20547_3-Activities_undertaken_to_treat_depression_Other_therapeutic_activities_such_as_mindfulness_yoga_or_art_classes',\n",
       "       '20548_1-Manifestations_of_mania_or_irritability_I_was_more_talkative_than_usual',\n",
       "       '20548_2-Manifestations_of_mania_or_irritability_I_was_more_restless_than_usual',\n",
       "       '20548_5-Manifestations_of_mania_or_irritability_I_needed_less_sleep_than_usual',\n",
       "       '20548_6-Manifestations_of_mania_or_irritability_I_was_more_creative_or_had_more_ideas_than_usual',\n",
       "       '20548_7-Manifestations_of_mania_or_irritability_I_was_easily_distracted',\n",
       "       '20548_8-Manifestations_of_mania_or_irritability_I_was_more_confident_than_usual',\n",
       "       '20548_9-Manifestations_of_mania_or_irritability_I_was_more_active_than_usual',\n",
       "       '20549_1-Substances_taken_for_anxiety_Unprescribed_medication_more_than_once',\n",
       "       '20549_4-Substances_taken_for_anxiety_Drugs_or_alcohol_more_than_once',\n",
       "       '20550_3-Activities_undertaken_to_treat_anxiety_Other_therapeutic_activities_such_as_mindfulness_yoga_or_art_classes',\n",
       "       '20551_1-Substance_of_prescription_or_overthecounter_medication_addiction_A_sedative_benzodiazepine_or_sleeping_tablet',\n",
       "       '20551_2-Substance_of_prescription_or_overthecounter_medication_addiction_A_painkiller',\n",
       "       '20551_3-Substance_of_prescription_or_overthecounter_medication_addiction_Something_else',\n",
       "       '20552_1-Behavioural_and_miscellaneous_addictions_Something_else_not_mentioned',\n",
       "       '20552_2-Behavioural_and_miscellaneous_addictions_A_behaviour',\n",
       "       '20553_1-Methods_of_selfharm_used_Something_not_listed',\n",
       "       '20553_3-Methods_of_selfharm_used_Stopping_prescribed_medication',\n",
       "       '20553_4-Methods_of_selfharm_used_Ingesting_a_medication_in_excess_of_the_normal_dose',\n",
       "       '20553_5-Methods_of_selfharm_used_Selfinjury_such_as_selfcutting_scratching_or_hitting_etc',\n",
       "       '20553_6-Methods_of_selfharm_used_Ingesting_alcohol_or_a_recreational_or_illicit_drug',\n",
       "       '20554_1-Actions_taken_following_selfharm_See_anyone_from_psychiatric_or_mental_health_services_including_liaison_services',\n",
       "       '20554_3-Actions_taken_following_selfharm_Need_hospital_treatment_eg_AE',\n",
       "       '20554_4-Actions_taken_following_selfharm_Use_a_helpline_voluntary_organization',\n",
       "       '20554_5-Actions_taken_following_selfharm_See_own_GP',\n",
       "       '20554_6-Actions_taken_following_selfharm_Receive_help_from_friends_family_neighbours',\n",
       "       '21021_raw-Pulse_wave_Arterial_Stiffness_index',\n",
       "       '2159-Ever_had_samesex_intercourse',\n",
       "       '2207-Wears_glasses_or_contact_lenses',\n",
       "       '22146_raw-Age_hayfever_or_allergic_rhinitis_diagnosed_by_doctor',\n",
       "       '22147_raw-Age_asthma_diagnosed_by_doctor',\n",
       "       '22166-Recent_medication_for_hayfever_or_allergic_rhinitis',\n",
       "       '22167-Recent_medication_for_asthma',\n",
       "       '22169-Recent_medication_for_chronic_bronchitis',\n",
       "       '22170-Recent_medication_for_COPD_Chronic_Obstructive_Pulmonary_Disease',\n",
       "       '22174-Recent_medication_for_bronchiectasis', '2227-Other_eye_problems',\n",
       "       '22503_raw-Years_of_cough_on_most_days',\n",
       "       '22506_111-Tobacco_smoking_Smokes_on_most_or_all_days',\n",
       "       '22506_112-Tobacco_smoking_Occasionally',\n",
       "       '22506_113-Tobacco_smoking_Exsmoker',\n",
       "       '22506_114-Tobacco_smoking_Never_smoked',\n",
       "       '22507_raw-Age_of_stopping_smoking', '22599-Number_of_jobs_held',\n",
       "       '22601_11212693-Job_coding_factoryworks_manager_shift_manager',\n",
       "       '22601_11373228-Job_coding_research_and_development_manager',\n",
       "       '22601_11423324-Job_coding_customer_carerelations_manager_help_desk_manager',\n",
       "       '22601_12253140-Job_coding_sports_centre_manager_riding_school_owner_sports_ground_manager_baths_manager',\n",
       "       '22601_21123022-Job_coding_biochemist_medical_laboratory_scientific_officer',\n",
       "       '22601_21133024-Job_coding_mathematician',\n",
       "       '22601_21213038-Job_coding_civil_engineer_transport_engineer_structural_engineer_borough_surveyor',\n",
       "       '22601_21222679-Job_coding_mechanical_engineer',\n",
       "       '22601_21222865-Job_coding_mechanical_engineer',\n",
       "       '22601_21232866-Job_coding_electrical_engineer_generating_engineer_power_engineer_power_transmission_engineer',\n",
       "       '22601_21272684-Job_coding_production_and_process_engineer',\n",
       "       '22601_23113030-Job_coding_university_lecturerprofessor',\n",
       "       '22601_23133421-Job_coding_school_inspector_education_inspector',\n",
       "       '22601_23193429-Job_coding_day_nursery_manager_or_owner',\n",
       "       '22601_23293031-Job_coding_other_researchers_including_in_broadcasting_journalism_photography_printing_and_publishing',\n",
       "       '22601_23293164-Job_coding_researcher_in_broadcasting_journalism_photography_printing_and_publishing',\n",
       "       '22601_24233025-Job_coding_statistician',\n",
       "       '22601_24342599-Job_coding_chartered_surveyor_building_surveyor_land_surveyor',\n",
       "       '22601_24342600-Job_coding_riverwater_surveyor_surveyor_and_estimator_topographer_property_surveyor',\n",
       "       '22601_24343291-Job_coding_chartered_surveyor_building_surveyor_land_surveyor_miningminerals_surveyor_riverwater_surveyor_surveyor_and_estimator_topographer_property_surveyor',\n",
       "       '22601_24513035-Job_coding_librarian_assistant_librarian',\n",
       "       '22601_24513424-Job_coding_librarian_assistant_librarian',\n",
       "       '22601_31113086-Job_coding_laboratory_technician',\n",
       "       '22601_31122951-Job_coding_electricalelectronics_technician',\n",
       "       '22601_31153052-Job_coding_quality_assurance_technician_or_coordinator',\n",
       "       '22601_31193055-Job_coding_other_engineering_technician_including_materials_technician_technical_assistant_technical_officer',\n",
       "       '22601_32113077-Job_coding_health_visitor',\n",
       "       '22601_32323112-Job_coding_benefits_advisor_citizens_advice_bureau_adviser_debt_counsellor',\n",
       "       '22601_32323410-Job_coding_schoolstudent_counsellor_school_attendance_officer',\n",
       "       '22601_34333162-Job_coding_public_relations_officer_press_officer_information_officer',\n",
       "       '22601_35333266-Job_coding_insurance_underwriter_insurance_inspector_insurance_account_handler',\n",
       "       '22601_35623213-Job_coding_personnel_or_industrial_relations_officer_recruitment_consultant'],\n",
       "      dtype='object')"
      ]
     },
     "metadata": {},
     "output_type": "display_data"
    },
    {
     "data": {
      "text/html": [
       "<h2>Partition with k=52</h2>"
      ],
      "text/plain": [
       "<IPython.core.display.HTML object>"
      ]
     },
     "metadata": {},
     "output_type": "display_data"
    },
    {
     "data": {
      "text/plain": [
       "method                              eac_average_coassoc_matrix\n",
       "partition    [12, 12, 12, 12, 12, 12, 12, 12, 12, 6, 12, 12...\n",
       "ami_mean                                              0.284343\n",
       "selected                                                  True\n",
       "Name: 52, dtype: object"
      ]
     },
     "metadata": {},
     "output_type": "display_data"
    },
    {
     "data": {
      "text/plain": [
       "(3752,)"
      ]
     },
     "metadata": {},
     "output_type": "display_data"
    },
    {
     "data": {
      "text/plain": [
       "1     766\n",
       "0     453\n",
       "6     390\n",
       "4     321\n",
       "10    314\n",
       "20    223\n",
       "7     218\n",
       "2     199\n",
       "11    176\n",
       "24    171\n",
       "48     90\n",
       "13     49\n",
       "9      43\n",
       "23     42\n",
       "15     21\n",
       "3      19\n",
       "12     18\n",
       "40     17\n",
       "5      17\n",
       "27     15\n",
       "29     15\n",
       "22     15\n",
       "30     14\n",
       "25     14\n",
       "39     12\n",
       "32      8\n",
       "33      8\n",
       "45      8\n",
       "16      7\n",
       "26      7\n",
       "19      7\n",
       "42      6\n",
       "49      6\n",
       "18      6\n",
       "17      5\n",
       "14      5\n",
       "47      5\n",
       "37      5\n",
       "51      4\n",
       "36      4\n",
       "21      4\n",
       "35      4\n",
       "50      4\n",
       "28      3\n",
       "8       3\n",
       "41      3\n",
       "44      2\n",
       "46      2\n",
       "34      1\n",
       "38      1\n",
       "31      1\n",
       "43      1\n",
       "dtype: int64"
      ]
     },
     "metadata": {},
     "output_type": "display_data"
    },
    {
     "data": {
      "text/html": [
       "<h3>Cluster 52.0</h3>"
      ],
      "text/plain": [
       "<IPython.core.display.HTML object>"
      ]
     },
     "metadata": {},
     "output_type": "display_data"
    },
    {
     "data": {
      "text/plain": [
       "453"
      ]
     },
     "metadata": {},
     "output_type": "display_data"
    },
    {
     "data": {
      "text/plain": [
       "Index(['20003_1140879616-Treatmentmedication_code_amitriptyline',\n",
       "       '20003_1140879630-Treatmentmedication_code_imipramine',\n",
       "       '20003_1140879634-Treatmentmedication_code_trazodone',\n",
       "       '20003_1140879762-Treatmentmedication_code_celiprolol',\n",
       "       '20003_1140879778-Treatmentmedication_code_doxazosin',\n",
       "       '20003_1140879792-Treatmentmedication_code_terbutaline',\n",
       "       '20003_1140879798-Treatmentmedication_code_terazosin',\n",
       "       '20003_1140879818-Treatmentmedication_code_metoprolol',\n",
       "       '20003_1140880086-Treatmentmedication_code_calcipotriol',\n",
       "       '20003_1140881446-Treatmentmedication_code_proctosedyl_ointment',\n",
       "       ...\n",
       "       '20112_13-Illnesses_of_adopted_father_Prostate_cancer',\n",
       "       '20112_2-Illnesses_of_adopted_father_Stroke',\n",
       "       '20112_3-Illnesses_of_adopted_father_Lung_cancer',\n",
       "       '20112_4-Illnesses_of_adopted_father_Bowel_cancer',\n",
       "       '20112_6-Illnesses_of_adopted_father_Chronic_bronchitisemphysema',\n",
       "       '20113_1-Illnesses_of_adopted_mother_Heart_disease',\n",
       "       '20113_100-Illnesses_of_adopted_mother_None_of_the_above_group_1',\n",
       "       '20113_12-Illnesses_of_adopted_mother_Severe_depression',\n",
       "       '20113_3-Illnesses_of_adopted_mother_Lung_cancer',\n",
       "       '20113_6-Illnesses_of_adopted_mother_Chronic_bronchitisemphysema'],\n",
       "      dtype='object', length=453)"
      ]
     },
     "metadata": {},
     "output_type": "display_data"
    },
    {
     "data": {
      "text/html": [
       "<h3>Cluster 52.1</h3>"
      ],
      "text/plain": [
       "<IPython.core.display.HTML object>"
      ]
     },
     "metadata": {},
     "output_type": "display_data"
    },
    {
     "data": {
      "text/plain": [
       "766"
      ]
     },
     "metadata": {},
     "output_type": "display_data"
    },
    {
     "data": {
      "text/plain": [
       "Index(['22601_11113200-Job_coding_senior_official_in_central_government_including_members_of_the_senior_civil_service_and_the_equivalent_in_the_diplomatic_service_mps_meps',\n",
       "       '22601_11123211-Job_coding_director_or_chief_executive_of_private_organisationcompany_company_chairman_or_president_general_manager',\n",
       "       '22601_11133201-Job_coding_senior_official_in_local_government_including_parish_or_town_or_county_chief_clerk_chief_or_superintendent_rate_collector_chief_executive_or_director_councillor',\n",
       "       '22601_11143212-Job_coding_senior_official_of_special_interest_organisation_including_general_manager_or_director_or_executive_or_general_secretary_of_charity_or_trade_unionassociation_or_religious_organisation',\n",
       "       '22601_11212692-Job_coding_production_works_or_maintenance_manager',\n",
       "       '22601_11222591-Job_coding_manager_in_construction_clerk_of_works_site_manager_contracts_manager_highways_manager',\n",
       "       '22601_11232861-Job_coding_manager_in_mining_energy_production_or_water_supply',\n",
       "       '22601_11313221-Job_coding_financial_services_manager_chartered_secretary_banker_merchant_or_investment_banker_finance_director_tax_manager',\n",
       "       '22601_11323222-Job_coding_sales_or_marketing_managerdirector_exportimport_manager_business_development_manager_advertisingcommercial_manager',\n",
       "       '22601_11333223-Job_coding_purchasing_managerdirector_not_retail_supplies_manager',\n",
       "       ...\n",
       "       '41248_6005-Destinations_on_discharge_from_hospital_recoded_Transfer_within_NHS_provider_Medical_specialty',\n",
       "       '41248_6007-Destinations_on_discharge_from_hospital_recoded_Transfer_within_NHS_provider_Geriatrics',\n",
       "       '41248_7001-Destinations_on_discharge_from_hospital_recoded_Nursing_residential_care_group_home_NHS',\n",
       "       '41248_7002-Destinations_on_discharge_from_hospital_recoded_Nursing_residential_care_group_home_Local_Authoritory',\n",
       "       '41248_7003-Destinations_on_discharge_from_hospital_recoded_Nursing_residential_care_group_home_NonNHS',\n",
       "       '41248_8002-Destinations_on_discharge_from_hospital_recoded_Other_hospital_NonNHS',\n",
       "       '4195_raw-Pulse_wave_reflection_index',\n",
       "       '4230_raw-Signaltonoiseratio_SNR_of_triplet_left',\n",
       "       '4241_raw-Signaltonoiseratio_SNR_of_triplet_right',\n",
       "       '4462-Average_monthly_intake_of_other_alcoholic_drinks'],\n",
       "      dtype='object', length=766)"
      ]
     },
     "metadata": {},
     "output_type": "display_data"
    },
    {
     "data": {
      "text/html": [
       "<h3>Cluster 52.2</h3>"
      ],
      "text/plain": [
       "<IPython.core.display.HTML object>"
      ]
     },
     "metadata": {},
     "output_type": "display_data"
    },
    {
     "data": {
      "text/plain": [
       "199"
      ]
     },
     "metadata": {},
     "output_type": "display_data"
    },
    {
     "data": {
      "text/plain": [
       "Index(['1021-Duration_of_light_DIY', '102_raw-Pulse_rate_automated_reading',\n",
       "       '1050-Time_spend_outdoors_in_summer',\n",
       "       '1060-Time_spent_outdoors_in_winter',\n",
       "       '1070-Time_spent_watching_television_TV',\n",
       "       '1080-Time_spent_using_computer', '1090-Time_spent_driving',\n",
       "       '1100-Drive_faster_than_motorway_speed_limit',\n",
       "       '110001-Invitation_to_complete_online_24hour_recall_dietary_questionnaire_acceptance',\n",
       "       '1110-Length_of_mobile_phone_use',\n",
       "       ...\n",
       "       'self rated health', 'self reported educational attainment',\n",
       "       'sleep duration', 'smoking behavior', 'smoking cessation',\n",
       "       'snoring measurement', 'tiredness measurement', 'varicose veins',\n",
       "       'wheezing', 'worry measurement'],\n",
       "      dtype='object', length=199)"
      ]
     },
     "metadata": {},
     "output_type": "display_data"
    },
    {
     "data": {
      "text/html": [
       "<h3>Cluster 52.3</h3>"
      ],
      "text/plain": [
       "<IPython.core.display.HTML object>"
      ]
     },
     "metadata": {},
     "output_type": "display_data"
    },
    {
     "data": {
      "text/plain": [
       "19"
      ]
     },
     "metadata": {},
     "output_type": "display_data"
    },
    {
     "data": {
      "text/plain": [
       "Index(['EAGLE_Eczema', 'Jones_et_al_2016_Chronotype', 'MAGNETIC_CH2.DB.ratio',\n",
       "       'MAGNETIC_HDL.C', 'MAGNETIC_IDL.TG', 'MAGNETIC_LDL.C',\n",
       "       'SSGAC_Education_Years_Pooled', 'alzheimer's disease',\n",
       "       'attention deficit hyperactivity disorder', 'bone density',\n",
       "       'coronary artery disease', 'estrogen-receptor negative breast cancer',\n",
       "       'estrogen-receptor positive breast cancer',\n",
       "       'family history of breast cancer', 'fasting blood glucose measurement',\n",
       "       'fasting blood insulin measurement', 'inflammatory bowel disease',\n",
       "       'intracranial volume measurement', 'schizophrenia'],\n",
       "      dtype='object')"
      ]
     },
     "metadata": {},
     "output_type": "display_data"
    },
    {
     "data": {
      "text/html": [
       "<h3>Cluster 52.4</h3>"
      ],
      "text/plain": [
       "<IPython.core.display.HTML object>"
      ]
     },
     "metadata": {},
     "output_type": "display_data"
    },
    {
     "data": {
      "text/plain": [
       "321"
      ]
     },
     "metadata": {},
     "output_type": "display_data"
    },
    {
     "data": {
      "text/plain": [
       "Index(['40001_C719-Underlying_primary_cause_of_death_ICD10_C719_Brain_unspecified',\n",
       "       'ASTHMA_CHILD-Childhood_asthma_age16',\n",
       "       'ASTHMA_HOSPITAL1-Asthma_hospital_admissions_1',\n",
       "       'BACT_INTEST_INFECTION_NOS-Other_specifiedunspecified_bacterial_intestinal_infections',\n",
       "       'C3_DIGESTIVE_ORGANS-Malignant_neoplasm_of_digestive_organs',\n",
       "       'C3_EYE_BRAIN_NEURO-Malignant_neoplasm_of_eye_brain_and_central_nervous_system',\n",
       "       'C3_URINARY_TRACT-Malignant_neoplasm_of_urinary_organs',\n",
       "       'C_BLADDER-Malignant_neoplasm_of_bladder',\n",
       "       'C_BRAIN-Malignant_neoplasm_of_brain',\n",
       "       'C_COLON-Malignant_neoplasm_of_colon',\n",
       "       ...\n",
       "       'iron deficiency anemia', 'kidney neoplasm', 'knee injury',\n",
       "       'muscular disease', 'pigmentation disease', 'skeletal system disease',\n",
       "       'skin disease', 'suppurative otitis media', 'tenosynovitis',\n",
       "       'vasculitis'],\n",
       "      dtype='object', length=321)"
      ]
     },
     "metadata": {},
     "output_type": "display_data"
    },
    {
     "data": {
      "text/html": [
       "<h3>Cluster 52.5</h3>"
      ],
      "text/plain": [
       "<IPython.core.display.HTML object>"
      ]
     },
     "metadata": {},
     "output_type": "display_data"
    },
    {
     "data": {
      "text/plain": [
       "17"
      ]
     },
     "metadata": {},
     "output_type": "display_data"
    },
    {
     "data": {
      "text/plain": [
       "Index(['6152_5-Blood_clot_DVT_bronchitis_emphysema_asthma_rhinitis_eczema_allergy_diagnosed_by_doctor_Blood_clot_in_the_leg_DVT',\n",
       "       'G6_CARPTU-Carpal_tunnel_syndrome',\n",
       "       'G6_NERPLEX-Nerve_nerve_root_and_plexus_disorders',\n",
       "       'I9_DVTANDPULM-DVT_of_lower_extremities_and_pulmonary_embolism',\n",
       "       'I9_PHLETHROMBDVTLOW-DVT_of_lower_extremities',\n",
       "       'I9_VTE-Venous_thromboembolism',\n",
       "       'K11_GALLBILPANC-Disorders_of_gallbladder_biliary_tract_and_pancreas',\n",
       "       'OTHER_ILD_CVD_COMORB-Other_ILDrelated_CVDcomorbidities',\n",
       "       'ULCERNAS-Ulcerative_colitis_NAS',\n",
       "       'VI_NERVOUS-Diseases_of_the_nervous_system',\n",
       "       'XII_SKIN_SUBCUTAN-Diseases_of_the_skin_and_subcutaneous_tissue',\n",
       "       'birth weight', 'cholelithiasis', 'deep vein thrombosis',\n",
       "       'mononeuropathy', 'phlebitis AND thrombophlebitis',\n",
       "       'pulmonary embolism'],\n",
       "      dtype='object')"
      ]
     },
     "metadata": {},
     "output_type": "display_data"
    },
    {
     "data": {
      "text/html": [
       "<h3>Cluster 52.6</h3>"
      ],
      "text/plain": [
       "<IPython.core.display.HTML object>"
      ]
     },
     "metadata": {},
     "output_type": "display_data"
    },
    {
     "data": {
      "text/plain": [
       "390"
      ]
     },
     "metadata": {},
     "output_type": "display_data"
    },
    {
     "data": {
      "text/plain": [
       "Index(['100010-Portion_size', '1001-Duration_of_strenuous_sports',\n",
       "       '100150-Drinking_water_intake', '100160-Low_calorie_drink_intake',\n",
       "       '100170-Fizzy_drink_intake', '100190-Orange_juice_intake',\n",
       "       '100360-Decaffeinated_coffee', '100370-Intake_of_sugar_added_to_coffee',\n",
       "       '100390-Tea_consumed', '100400-Standard_tea_intake',\n",
       "       ...\n",
       "       'viral disease', 'viral human hepatitis infection', 'viral meningitis',\n",
       "       'visual impairment', 'vitiligo', 'vitreous body disease',\n",
       "       'vocal cord polyp', 'voice disorders',\n",
       "       'wellbeing measurement AND family relationship', 'whooping cough'],\n",
       "      dtype='object', length=390)"
      ]
     },
     "metadata": {},
     "output_type": "display_data"
    },
    {
     "data": {
      "text/html": [
       "<h3>Cluster 52.7</h3>"
      ],
      "text/plain": [
       "<IPython.core.display.HTML object>"
      ]
     },
     "metadata": {},
     "output_type": "display_data"
    },
    {
     "data": {
      "text/plain": [
       "218"
      ]
     },
     "metadata": {},
     "output_type": "display_data"
    },
    {
     "data": {
      "text/plain": [
       "Index(['40001_C259-Underlying_primary_cause_of_death_ICD10_C259_Pancreas_unspecified',\n",
       "       '40001_C459-Underlying_primary_cause_of_death_ICD10_C459_Mesothelioma_unspecified',\n",
       "       '41248_3001-Destinations_on_discharge_from_hospital_recoded_High_security_psychiatric_hospital_NHS',\n",
       "       '41248_5003-Destinations_on_discharge_from_hospital_recoded_Transfer_to_other_NHS_provider_Psychiatry_learning_disabilities',\n",
       "       '41248_6000-Destinations_on_discharge_from_hospital_recoded_Transfer_within_NHS_provider',\n",
       "       '4233_raw-Mean_signaltonoise_ratio_SNR_left',\n",
       "       '4244_raw-Mean_signaltonoise_ratio_SNR_right',\n",
       "       '4269-Number_of_triplets_attempted_left',\n",
       "       '4270-Volume_level_set_by_participant_left',\n",
       "       '4276-Number_of_triplets_attempted_right',\n",
       "       ...\n",
       "       '6158_1-Why_reduced_smoking_Illness_or_ill_health',\n",
       "       '6158_100-Why_reduced_smoking_None_of_the_above',\n",
       "       '6158_2-Why_reduced_smoking_Doctors_advice',\n",
       "       '6158_3-Why_reduced_smoking_Health_precaution',\n",
       "       '6158_4-Why_reduced_smoking_Financial_reasons',\n",
       "       '6159_2-Pain_types_experienced_in_last_month_Facial_pain',\n",
       "       '6159_8-Pain_types_experienced_in_last_month_Pain_all_over_the_body',\n",
       "       '6162_100-Types_of_transport_used_excluding_work_None_of_the_above',\n",
       "       '709-Number_in_household', 'C_PANCREAS-Malignant_neoplasm_of_pancreas'],\n",
       "      dtype='object', length=218)"
      ]
     },
     "metadata": {},
     "output_type": "display_data"
    },
    {
     "data": {
      "text/html": [
       "<h3>Cluster 52.8</h3>"
      ],
      "text/plain": [
       "<IPython.core.display.HTML object>"
      ]
     },
     "metadata": {},
     "output_type": "display_data"
    },
    {
     "data": {
      "text/plain": [
       "3"
      ]
     },
     "metadata": {},
     "output_type": "display_data"
    },
    {
     "data": {
      "text/plain": [
       "Index(['eczema', 'seasonal allergic rhinitis',\n",
       "       'seasonal allergic rhinitis AND allergic rhinitis'],\n",
       "      dtype='object')"
      ]
     },
     "metadata": {},
     "output_type": "display_data"
    },
    {
     "data": {
      "text/html": [
       "<h3>Cluster 52.9</h3>"
      ],
      "text/plain": [
       "<IPython.core.display.HTML object>"
      ]
     },
     "metadata": {},
     "output_type": "display_data"
    },
    {
     "data": {
      "text/plain": [
       "43"
      ]
     },
     "metadata": {},
     "output_type": "display_data"
    },
    {
     "data": {
      "text/plain": [
       "Index(['129_raw-Place_of_birth_in_UK_north_coordinate',\n",
       "       '20075_raw-Home_location_at_assessment_north_coordinate_rounded',\n",
       "       '22704_raw-Home_location_north_coordinate_rounded',\n",
       "       'ASTHMA_PNEUMONIA-Asthmarelated_pneumonia',\n",
       "       'G6_EPIPAROX-Episodal_and_paroxysmal_disorders',\n",
       "       'G6_SLEEPAPNO-Sleep_apnoea',\n",
       "       'L12_ATROPHICSKIN-Atrophic_disorders_of_skin',\n",
       "       'L12_SCARCONDITIONS-Scar_conditions_and_fibrosis_of_skin',\n",
       "       'M13_DORSOPATHYOTH-Other_dorsopathies_not_elsewhere_classified',\n",
       "       'M13_MUSCULOSKELEOTH-Other_disorders_of_the_musculoskeletal_system_and_connective_tissue',\n",
       "       'M13_SACROCOGG-Sacrococcygeal_disorders_not_elsewhere_classified',\n",
       "       'PNEUMONIA-Pneumonias_AsthmaCOPD_comorbidities',\n",
       "       'SLEEP-Sleep_disorders_combined', 'abdominal injury', 'bone disease',\n",
       "       'cardiac arrhythmia', 'checkup',\n",
       "       'chronic obstructive pulmonary disease', 'device complication',\n",
       "       'encounter with health service', 'female reproductive system disease',\n",
       "       'follow-up', 'head injury', 'headache', 'heart disease', 'injury',\n",
       "       'joint disease', 'kidney failure', 'leg injury', 'lower limb pain',\n",
       "       'mesothelioma', 'musculoskeletal system disease',\n",
       "       'musculoskeletal system disease AND connective tissue disease',\n",
       "       'nasal cavity polyp', 'pericarditis', 'pneumonia', 'poisoning',\n",
       "       'pregnancy disorder', 'skin atrophy', 'sleep disorder',\n",
       "       'soft tissue disease', 'urogenital neoplasm', 'wrist fracture'],\n",
       "      dtype='object')"
      ]
     },
     "metadata": {},
     "output_type": "display_data"
    },
    {
     "data": {
      "text/html": [
       "<h3>Cluster 52.10</h3>"
      ],
      "text/plain": [
       "<IPython.core.display.HTML object>"
      ]
     },
     "metadata": {},
     "output_type": "display_data"
    },
    {
     "data": {
      "text/plain": [
       "314"
      ]
     },
     "metadata": {},
     "output_type": "display_data"
    },
    {
     "data": {
      "text/plain": [
       "Index(['100013_raw-Vitamin_B12', '100018_raw-Retinol', '100019_raw-Carotene',\n",
       "       '100021_raw-Vitamin_D', '100022-Alcohol', '100240-Coffee_consumed',\n",
       "       '100250-Instant_coffee_intake', '100260-Added_milk_to_instant_coffee',\n",
       "       '100270-Filtered_coffee_intake', '100280-Added_milk_to_filtered_coffee',\n",
       "       ...\n",
       "       '20003_1140879644-Treatmentmedication_code_amantadine',\n",
       "       '20003_1140879658-Treatmentmedication_code_chlorpromazine',\n",
       "       '20003_1140879760-Treatmentmedication_code_bisoprolol',\n",
       "       '20003_1140879806-Treatmentmedication_code_diltiazem',\n",
       "       '20003_1140879842-Treatmentmedication_code_propranolol',\n",
       "       '20003_1140879854-Treatmentmedication_code_sotalol',\n",
       "       '20003_1140879866-Treatmentmedication_code_timolol',\n",
       "       '20003_1140880072-Treatmentmedication_code_gamolenic_acid',\n",
       "       '20003_1140880956-Treatmentmedication_code_fentanyl',\n",
       "       '20003_1140881320-Treatmentmedication_code_magnesium_carbonate'],\n",
       "      dtype='object', length=314)"
      ]
     },
     "metadata": {},
     "output_type": "display_data"
    },
    {
     "data": {
      "text/html": [
       "<h3>Cluster 52.11</h3>"
      ],
      "text/plain": [
       "<IPython.core.display.HTML object>"
      ]
     },
     "metadata": {},
     "output_type": "display_data"
    },
    {
     "data": {
      "text/plain": [
       "176"
      ]
     },
     "metadata": {},
     "output_type": "display_data"
    },
    {
     "data": {
      "text/plain": [
       "Index(['20111_101-Illnesses_of_siblings_None_of_the_above_group_2',\n",
       "       '20111_12-Illnesses_of_siblings_Severe_depression',\n",
       "       '20112_8-Illnesses_of_adopted_father_High_blood_pressure',\n",
       "       '20112_9-Illnesses_of_adopted_father_Diabetes',\n",
       "       '20113_10-Illnesses_of_adopted_mother_Alzheimers_diseasedementia',\n",
       "       '20113_101-Illnesses_of_adopted_mother_None_of_the_above_group_2',\n",
       "       '20113_2-Illnesses_of_adopted_mother_Stroke',\n",
       "       '20113_4-Illnesses_of_adopted_mother_Bowel_cancer',\n",
       "       '20113_5-Illnesses_of_adopted_mother_Breast_cancer',\n",
       "       '20113_8-Illnesses_of_adopted_mother_High_blood_pressure',\n",
       "       ...\n",
       "       '20544_14-Mental_health_problems_ever_diagnosed_by_a_professional_Autism_Aspergers_or_autistic_spectrum_disorder',\n",
       "       '20544_15-Mental_health_problems_ever_diagnosed_by_a_professional_Anxiety_nerves_or_generalized_anxiety_disorder',\n",
       "       '20544_16-Mental_health_problems_ever_diagnosed_by_a_professional_Anorexia_nervosa',\n",
       "       '20544_3-Mental_health_problems_ever_diagnosed_by_a_professional_Any_other_type_of_psychosis_or_psychotic_illness',\n",
       "       '20546_3-Substances_taken_for_depression_Medication_prescribed_to_you_for_at_least_two_weeks',\n",
       "       '20547_1-Activities_undertaken_to_treat_depression_Talking_therapies_such_as_psychotherapy_counselling_group_therapy_or_CBT',\n",
       "       '20548_3-Manifestations_of_mania_or_irritability_My_thoughts_were_racing',\n",
       "       '20549_3-Substances_taken_for_anxiety_Medication_prescribed_to_you_for_at_least_two_weeks',\n",
       "       '20550_1-Activities_undertaken_to_treat_anxiety_Talking_therapies_such_as_psychotherapy_counselling_group_therapy_or_CBT',\n",
       "       '2247_0-Hearing_difficultyproblems_No'],\n",
       "      dtype='object', length=176)"
      ]
     },
     "metadata": {},
     "output_type": "display_data"
    },
    {
     "data": {
      "text/html": [
       "<h3>Cluster 52.12</h3>"
      ],
      "text/plain": [
       "<IPython.core.display.HTML object>"
      ]
     },
     "metadata": {},
     "output_type": "display_data"
    },
    {
     "data": {
      "text/plain": [
       "18"
      ]
     },
     "metadata": {},
     "output_type": "display_data"
    },
    {
     "data": {
      "text/plain": [
       "Index(['100001_raw-Food_weight', '100002_raw-Energy', '100003_raw-Protein',\n",
       "       '100004_raw-Fat', '100005_raw-Carbohydrate', '100006_raw-Saturated_fat',\n",
       "       '100007_raw-Polyunsaturated_fat', '100008_raw-Total_sugars',\n",
       "       '100009_raw-Englyst_dietary_fibre', '100011_raw-Iron',\n",
       "       '100012_raw-Vitamin_B6', '100014_raw-Folate', '100015_raw-Vitamin_C',\n",
       "       '100016_raw-Potassium', '100017_raw-Magnesium', '100023_raw-Starch',\n",
       "       '100024_raw-Calcium', '100025_raw-Vitamin_E'],\n",
       "      dtype='object')"
      ]
     },
     "metadata": {},
     "output_type": "display_data"
    },
    {
     "data": {
      "text/html": [
       "<h3>Cluster 52.13</h3>"
      ],
      "text/plain": [
       "<IPython.core.display.HTML object>"
      ]
     },
     "metadata": {},
     "output_type": "display_data"
    },
    {
     "data": {
      "text/plain": [
       "49"
      ]
     },
     "metadata": {},
     "output_type": "display_data"
    },
    {
     "data": {
      "text/plain": [
       "Index(['20015_raw-Sitting_height',\n",
       "       '20150_raw-Forced_expiratory_volume_in_1second_FEV1_Best_measure',\n",
       "       '20151_raw-Forced_vital_capacity_FVC_Best_measure',\n",
       "       '20153_raw-Forced_expiratory_volume_in_1second_FEV1_predicted',\n",
       "       '20154_raw-Forced_expiratory_volume_in_1second_FEV1_predicted_percentage',\n",
       "       '21001_raw-Body_mass_index_BMI', '21002_raw-Weight', '23098_raw-Weight',\n",
       "       '23099_raw-Body_fat_percentage', '23100_raw-Whole_body_fat_mass',\n",
       "       '23101_raw-Whole_body_fatfree_mass', '23102_raw-Whole_body_water_mass',\n",
       "       '23104_raw-Body_mass_index_BMI', '23105_raw-Basal_metabolic_rate',\n",
       "       '23106_raw-Impedance_of_whole_body', '23107_raw-Impedance_of_leg_right',\n",
       "       '23108_raw-Impedance_of_leg_left', '23109_raw-Impedance_of_arm_right',\n",
       "       '23110_raw-Impedance_of_arm_left', '23111_raw-Leg_fat_percentage_right',\n",
       "       '23112_raw-Leg_fat_mass_right', '23113_raw-Leg_fatfree_mass_right',\n",
       "       '23114_raw-Leg_predicted_mass_right',\n",
       "       '23115_raw-Leg_fat_percentage_left', '23116_raw-Leg_fat_mass_left',\n",
       "       '23117_raw-Leg_fatfree_mass_left', '23118_raw-Leg_predicted_mass_left',\n",
       "       '23119_raw-Arm_fat_percentage_right', '23120_raw-Arm_fat_mass_right',\n",
       "       '23121_raw-Arm_fatfree_mass_right',\n",
       "       '23122_raw-Arm_predicted_mass_right',\n",
       "       '23123_raw-Arm_fat_percentage_left', '23124_raw-Arm_fat_mass_left',\n",
       "       '23125_raw-Arm_fatfree_mass_left', '23126_raw-Arm_predicted_mass_left',\n",
       "       '23127_raw-Trunk_fat_percentage', '23128_raw-Trunk_fat_mass',\n",
       "       '23129_raw-Trunk_fatfree_mass', '23130_raw-Trunk_predicted_mass',\n",
       "       '3062_raw-Forced_vital_capacity_FVC',\n",
       "       '3063_raw-Forced_expiratory_volume_in_1second_FEV1',\n",
       "       '3064_raw-Peak_expiratory_flow_PEF', '3143_raw-Ankle_spacing_width',\n",
       "       '4100_raw-Ankle_spacing_width_left',\n",
       "       '4119_raw-Ankle_spacing_width_right', '48_raw-Waist_circumference',\n",
       "       '49_raw-Hip_circumference', '50_raw-Standing_height', 'body height'],\n",
       "      dtype='object')"
      ]
     },
     "metadata": {},
     "output_type": "display_data"
    },
    {
     "data": {
      "text/html": [
       "<h3>Cluster 52.14</h3>"
      ],
      "text/plain": [
       "<IPython.core.display.HTML object>"
      ]
     },
     "metadata": {},
     "output_type": "display_data"
    },
    {
     "data": {
      "text/plain": [
       "5"
      ]
     },
     "metadata": {},
     "output_type": "display_data"
    },
    {
     "data": {
      "text/plain": [
       "Index(['20003_1140860696-Treatmentmedication_code_lisinopril',\n",
       "       '20003_1140860806-Treatmentmedication_code_ramipril',\n",
       "       '20003_1140866738-Treatmentmedication_code_atenolol',\n",
       "       '20003_1140884600-Treatmentmedication_code_metformin',\n",
       "       'diabetes mellitus'],\n",
       "      dtype='object')"
      ]
     },
     "metadata": {},
     "output_type": "display_data"
    },
    {
     "data": {
      "text/html": [
       "<h3>Cluster 52.15</h3>"
      ],
      "text/plain": [
       "<IPython.core.display.HTML object>"
      ]
     },
     "metadata": {},
     "output_type": "display_data"
    },
    {
     "data": {
      "text/plain": [
       "21"
      ]
     },
     "metadata": {},
     "output_type": "display_data"
    },
    {
     "data": {
      "text/plain": [
       "Index(['20003_2038460150-Treatmentmedication_code_paracetamol',\n",
       "       '20016_raw-Fluid_intelligence_score', '20022_raw-Birth_weight',\n",
       "       '20023_raw-Mean_time_to_correctly_identify_matches',\n",
       "       '20074_raw-Home_location_at_assessment_east_coordinate_rounded',\n",
       "       '20077-Number_of_diet_questionnaires_completed',\n",
       "       '20086_8-Type_of_special_diet_followed_Glutenfree',\n",
       "       '20107_1-Illnesses_of_father_Heart_disease',\n",
       "       '20107_100-Illnesses_of_father_None_of_the_above_group_1',\n",
       "       '20107_3-Illnesses_of_father_Lung_cancer',\n",
       "       '20107_8-Illnesses_of_father_High_blood_pressure',\n",
       "       '20107_9-Illnesses_of_father_Diabetes',\n",
       "       '20110_1-Illnesses_of_mother_Heart_disease',\n",
       "       '20110_10-Illnesses_of_mother_Alzheimers_diseasedementia',\n",
       "       '20110_100-Illnesses_of_mother_None_of_the_above_group_1',\n",
       "       '20110_8-Illnesses_of_mother_High_blood_pressure',\n",
       "       '20110_9-Illnesses_of_mother_Diabetes',\n",
       "       '20111_1-Illnesses_of_siblings_Heart_disease',\n",
       "       '20111_100-Illnesses_of_siblings_None_of_the_above_group_1',\n",
       "       '20111_8-Illnesses_of_siblings_High_blood_pressure',\n",
       "       '20111_9-Illnesses_of_siblings_Diabetes'],\n",
       "      dtype='object')"
      ]
     },
     "metadata": {},
     "output_type": "display_data"
    },
    {
     "data": {
      "text/html": [
       "<h3>Cluster 52.16</h3>"
      ],
      "text/plain": [
       "<IPython.core.display.HTML object>"
      ]
     },
     "metadata": {},
     "output_type": "display_data"
    },
    {
     "data": {
      "text/plain": [
       "7"
      ]
     },
     "metadata": {},
     "output_type": "display_data"
    },
    {
     "data": {
      "text/plain": [
       "Index(['1717-Skin_colour', '1727-Ease_of_skin_tanning',\n",
       "       '1747_1-Hair_colour_natural_before_greying_Blonde',\n",
       "       '1747_2-Hair_colour_natural_before_greying_Red',\n",
       "       '1747_3-Hair_colour_natural_before_greying_Light_brown',\n",
       "       '1747_4-Hair_colour_natural_before_greying_Dark_brown',\n",
       "       '1747_5-Hair_colour_natural_before_greying_Black'],\n",
       "      dtype='object')"
      ]
     },
     "metadata": {},
     "output_type": "display_data"
    },
    {
     "data": {
      "text/html": [
       "<h3>Cluster 52.17</h3>"
      ],
      "text/plain": [
       "<IPython.core.display.HTML object>"
      ]
     },
     "metadata": {},
     "output_type": "display_data"
    },
    {
     "data": {
      "text/plain": [
       "5"
      ]
     },
     "metadata": {},
     "output_type": "display_data"
    },
    {
     "data": {
      "text/plain": [
       "Index(['30080_raw-Platelet_count', '30090_raw-Platelet_crit',\n",
       "       '30100_raw-Mean_platelet_thrombocyte_volume',\n",
       "       '30110_raw-Platelet_distribution_width', 'platelet count'],\n",
       "      dtype='object')"
      ]
     },
     "metadata": {},
     "output_type": "display_data"
    },
    {
     "data": {
      "text/html": [
       "<h3>Cluster 52.18</h3>"
      ],
      "text/plain": [
       "<IPython.core.display.HTML object>"
      ]
     },
     "metadata": {},
     "output_type": "display_data"
    },
    {
     "data": {
      "text/plain": [
       "6"
      ]
     },
     "metadata": {},
     "output_type": "display_data"
    },
    {
     "data": {
      "text/plain": [
       "Index(['40001_C349-Underlying_primary_cause_of_death_ICD10_C349_Bronchus_or_lung_unspecified',\n",
       "       'C3_RESPIRATORY_INTRATHORACIC-Malignant_neoplasm_of_respiratory_system_and_intrathoracic_organs',\n",
       "       'C_BRONCHUS_LUNG-Malignant_neoplasm_of_bronchus_and_lung',\n",
       "       'C_RESPIRATORY_INTRATHORACIC',\n",
       "       'LUNG_CANCER_MESOT-Lung_cancer_and_mesothelioma', 'lung carcinoma'],\n",
       "      dtype='object')"
      ]
     },
     "metadata": {},
     "output_type": "display_data"
    },
    {
     "data": {
      "text/html": [
       "<h3>Cluster 52.19</h3>"
      ],
      "text/plain": [
       "<IPython.core.display.HTML object>"
      ]
     },
     "metadata": {},
     "output_type": "display_data"
    },
    {
     "data": {
      "text/plain": [
       "7"
      ]
     },
     "metadata": {},
     "output_type": "display_data"
    },
    {
     "data": {
      "text/plain": [
       "Index(['1707_1-Handedness_chiralitylaterality_Righthanded',\n",
       "       '20003_1140865634-Treatmentmedication_code_omeprazole',\n",
       "       'KNEE_ARTHROSIS-Gonarthrosis_arthrosis_of_kneeFG',\n",
       "       'M13_ARTHROSIS-Arthrosis', 'depressive episode measurement',\n",
       "       'functional laterality', 'osteoarthritis, knee'],\n",
       "      dtype='object')"
      ]
     },
     "metadata": {},
     "output_type": "display_data"
    },
    {
     "data": {
      "text/html": [
       "<h3>Cluster 52.20</h3>"
      ],
      "text/plain": [
       "<IPython.core.display.HTML object>"
      ]
     },
     "metadata": {},
     "output_type": "display_data"
    },
    {
     "data": {
      "text/plain": [
       "223"
      ]
     },
     "metadata": {},
     "output_type": "display_data"
    },
    {
     "data": {
      "text/plain": [
       "Index(['40001_G122-Underlying_primary_cause_of_death_ICD10_G122_Motor_neuron_disease',\n",
       "       'AB1_INFECTIONS-Certain_infectious_and_parasitic_diseases',\n",
       "       'AB1_INTESTINAL_INFECTIONS-Intestinal_infectious_diseases',\n",
       "       'AB1_VIRAL_HEPATITIS-Viral_hepatitis',\n",
       "       'C3_ENDOCRINE-Malignant_neoplasm_of_endocrine_gland',\n",
       "       'C3_FEMALE_GENITAL-malignant_neoplasm_of_female_genital_organs',\n",
       "       'C_CORPUS_UTERI-Malignant_neoplasm_of_corpus_uteri', 'C_ENDOCRINE',\n",
       "       'C_FEMALE_GENITAL', 'C_OVARY-Malignant_neoplasm_of_ovary',\n",
       "       ...\n",
       "       'immune system disease', 'inner ear disease', 'keratitis',\n",
       "       'lacrimal apparatus disease', 'obesity', 'paralytic strabismus',\n",
       "       'polyneuropathy', 'purpura', 'retinal detachment',\n",
       "       'retinal vein occlusion'],\n",
       "      dtype='object', length=223)"
      ]
     },
     "metadata": {},
     "output_type": "display_data"
    },
    {
     "data": {
      "text/html": [
       "<h3>Cluster 52.21</h3>"
      ],
      "text/plain": [
       "<IPython.core.display.HTML object>"
      ]
     },
     "metadata": {},
     "output_type": "display_data"
    },
    {
     "data": {
      "text/plain": [
       "4"
      ]
     },
     "metadata": {},
     "output_type": "display_data"
    },
    {
     "data": {
      "text/plain": [
       "Index(['C3_MALE_GENITAL-malignant_neoplasm_of_male_genital_organs',\n",
       "       'C_MALE_GENITAL', 'C_PROSTATE-Malignant_neoplasm_of_prostate',\n",
       "       'prostate carcinoma'],\n",
       "      dtype='object')"
      ]
     },
     "metadata": {},
     "output_type": "display_data"
    },
    {
     "data": {
      "text/html": [
       "<h3>Cluster 52.22</h3>"
      ],
      "text/plain": [
       "<IPython.core.display.HTML object>"
      ]
     },
     "metadata": {},
     "output_type": "display_data"
    },
    {
     "data": {
      "text/plain": [
       "15"
      ]
     },
     "metadata": {},
     "output_type": "display_data"
    },
    {
     "data": {
      "text/plain": [
       "Index(['20003_1140868226-Treatmentmedication_code_aspirin',\n",
       "       '20003_1141146234-Treatmentmedication_code_atorvastatin',\n",
       "       '6150_1-Vascularheart_problems_diagnosed_by_doctor_Heart_attack',\n",
       "       '6150_2-Vascularheart_problems_diagnosed_by_doctor_Angina',\n",
       "       '6154_1-Medication_for_pain_relief_constipation_heartburn_Aspirin',\n",
       "       'I9_CHD-Major_coronary_heart_disease_event',\n",
       "       'I9_CHD_NOREV-Major_coronary_heart_disease_event_excluding_revascularizations',\n",
       "       'I9_CORATHER-Coronary_atherosclerosis',\n",
       "       'I9_IHD-Ischaemic_heart_disease_wide_definition',\n",
       "       'I9_MI-Myocardial_infarction',\n",
       "       'I9_MI_STRICT-Myocardial_infarction_strict',\n",
       "       'IX_CIRCULATORY-Diseases_of_the_circulatory_system',\n",
       "       'acute myocardial infarction', 'angina pectoris',\n",
       "       'myocardial infarction'],\n",
       "      dtype='object')"
      ]
     },
     "metadata": {},
     "output_type": "display_data"
    },
    {
     "data": {
      "text/html": [
       "<h3>Cluster 52.23</h3>"
      ],
      "text/plain": [
       "<IPython.core.display.HTML object>"
      ]
     },
     "metadata": {},
     "output_type": "display_data"
    },
    {
     "data": {
      "text/plain": [
       "42"
      ]
     },
     "metadata": {},
     "output_type": "display_data"
    },
    {
     "data": {
      "text/plain": [
       "Index(['41231_1-Hospital_episode_type_General_episode',\n",
       "       '41248_1000-Destinations_on_discharge_from_hospital_recoded_Usual_Place_of_residence',\n",
       "       '4194_raw-Pulse_rate', '4196_raw-Pulse_wave_peak_to_peak_time',\n",
       "       '4260-Round_of_numeric_memory_test',\n",
       "       '4282-Maximum_digits_remembered_correctly',\n",
       "       '4283-Number_of_rounds_of_numeric_memory_test_performed',\n",
       "       '4290_raw-Duration_screen_displayed', '4291-Number_of_attempts',\n",
       "       '4803_0-Tinnitus_No_never', '4825-Noisy_workplace',\n",
       "       '4957-FI3_word_interpolation', '4968-FI4_positional_arithmetic',\n",
       "       '4979-FI5_family_relationship_calculation',\n",
       "       '4990-FI6_conditional_arithmetic', '5001-FI7_synonym',\n",
       "       '5012-FI8_chained_arithmetic', '5084_raw-Spherical_power_right',\n",
       "       '5085_raw-Spherical_power_left',\n",
       "       '5254_raw-Intraocular_pressure_cornealcompensated_right',\n",
       "       '5255_raw-Intraocular_pressure_Goldmanncorrelated_right',\n",
       "       '5256_raw-Corneal_hysteresis_right',\n",
       "       '5257_raw-Corneal_resistance_factor_right',\n",
       "       '5262_raw-Intraocular_pressure_cornealcompensated_left',\n",
       "       '5263_raw-Intraocular_pressure_Goldmanncorrelated_left',\n",
       "       '5264_raw-Corneal_hysteresis_left',\n",
       "       '5265_raw-Corneal_resistance_factor_left',\n",
       "       '5556-FI9_concept_interpolation',\n",
       "       '6138_3-Qualifications_O_levelsGCSEs_or_equivalent',\n",
       "       '6138_4-Qualifications_CSEs_or_equivalent',\n",
       "       '6138_6-Qualifications_Other_professional_qualifications_eg_nursing_teaching',\n",
       "       '6139_3-Gas_or_solidfuel_cookingheating_An_open_solid_fuel_fire_that_you_use_regularly_in_winter_time',\n",
       "       '6141_1-How_are_people_in_household_related_to_participant_Husband_wife_or_partner',\n",
       "       '6142_4-Current_employment_status_Unable_to_work_because_of_sickness_or_disability',\n",
       "       '6143_3-Transport_type_for_commuting_to_job_workplace_Public_transport',\n",
       "       '6143_4-Transport_type_for_commuting_to_job_workplace_Cycle',\n",
       "       '6145_100-Illness_injury_bereavement_stress_in_last_2_years_None_of_the_above',\n",
       "       '6145_6-Illness_injury_bereavement_stress_in_last_2_years_Financial_difficulties',\n",
       "       '6146_1-Attendancedisabilitymobility_allowance_Attendance_allowance',\n",
       "       '6149_3-Mouthteeth_dental_problems_Bleeding_gums',\n",
       "       '6151_7-Fractured_bone_sites_Other_bones', 'episodic memory'],\n",
       "      dtype='object')"
      ]
     },
     "metadata": {},
     "output_type": "display_data"
    },
    {
     "data": {
      "text/html": [
       "<h3>Cluster 52.24</h3>"
      ],
      "text/plain": [
       "<IPython.core.display.HTML object>"
      ]
     },
     "metadata": {},
     "output_type": "display_data"
    },
    {
     "data": {
      "text/plain": [
       "171"
      ]
     },
     "metadata": {},
     "output_type": "display_data"
    },
    {
     "data": {
      "text/plain": [
       "Index(['6152_6-Blood_clot_DVT_bronchitis_emphysema_asthma_rhinitis_eczema_allergy_diagnosed_by_doctor_Emphysemachronic_bronchitis',\n",
       "       '6157_100-Why_stopped_smoking_None_of_the_above',\n",
       "       '6157_3-Why_stopped_smoking_Health_precaution',\n",
       "       '6157_4-Why_stopped_smoking_Financial_reasons',\n",
       "       '6160_5-Leisuresocial_activities_Other_group_activity',\n",
       "       '6162_3-Types_of_transport_used_excluding_work_Public_transport',\n",
       "       '6179_4-Mineral_and_other_dietary_supplements_Zinc',\n",
       "       '6179_5-Mineral_and_other_dietary_supplements_Iron',\n",
       "       '6179_6-Mineral_and_other_dietary_supplements_Selenium',\n",
       "       '670_1-Type_of_accommodation_lived_in_A_house_or_bungalow',\n",
       "       ...\n",
       "       'H7_VITROTH-Other_and_unspecified_disorders_of_vitreous_body',\n",
       "       'H8_CERUMEN-Impacted_cerumen',\n",
       "       'IBD_ENDOMETRIOSIS-Endometriosis_IBD_comorbidity',\n",
       "       'II_NEOPLASM-Neoplasms',\n",
       "       'IV_ENDOCRIN_NUTRIT-Endocrine_nutritional_and_metabolic_diseases',\n",
       "       'abnormal cardiac septum morphology', 'corneal disease',\n",
       "       'endometriosis', 'esophageal carcinoma', 'gastroenteritis'],\n",
       "      dtype='object', length=171)"
      ]
     },
     "metadata": {},
     "output_type": "display_data"
    },
    {
     "data": {
      "text/html": [
       "<h3>Cluster 52.25</h3>"
      ],
      "text/plain": [
       "<IPython.core.display.HTML object>"
      ]
     },
     "metadata": {},
     "output_type": "display_data"
    },
    {
     "data": {
      "text/plain": [
       "14"
      ]
     },
     "metadata": {},
     "output_type": "display_data"
    },
    {
     "data": {
      "text/plain": [
       "Index(['30000_raw-White_blood_cell_leukocyte_count',\n",
       "       '30130_raw-Monocyte_count', '30140_raw-Neutrophill_count',\n",
       "       '30180_raw-Lymphocyte_percentage', '30190_raw-Monocyte_percentage',\n",
       "       '30200_raw-Neutrophill_percentage', 'granulocyte count',\n",
       "       'leukocyte count', 'lymphocyte count', 'monocyte count',\n",
       "       'myeloid white cell count', 'neutrophil count',\n",
       "       'sum of basophil and neutrophil counts',\n",
       "       'sum of neutrophil and eosinophil counts'],\n",
       "      dtype='object')"
      ]
     },
     "metadata": {},
     "output_type": "display_data"
    },
    {
     "data": {
      "text/html": [
       "<h3>Cluster 52.26</h3>"
      ],
      "text/plain": [
       "<IPython.core.display.HTML object>"
      ]
     },
     "metadata": {},
     "output_type": "display_data"
    },
    {
     "data": {
      "text/plain": [
       "7"
      ]
     },
     "metadata": {},
     "output_type": "display_data"
    },
    {
     "data": {
      "text/plain": [
       "Index(['5984_raw-ECG_load', '5986_raw-ECG_phase_time',\n",
       "       '5992-ECG_phase_duration', '5993-ECG_number_of_stages_in_a_phase',\n",
       "       '6032_raw-Maximum_workload_during_fitness_test',\n",
       "       '6038_raw-Number_of_trend_entries', '6039-Duration_of_fitness_test'],\n",
       "      dtype='object')"
      ]
     },
     "metadata": {},
     "output_type": "display_data"
    },
    {
     "data": {
      "text/html": [
       "<h3>Cluster 52.27</h3>"
      ],
      "text/plain": [
       "<IPython.core.display.HTML object>"
      ]
     },
     "metadata": {},
     "output_type": "display_data"
    },
    {
     "data": {
      "text/plain": [
       "15"
      ]
     },
     "metadata": {},
     "output_type": "display_data"
    },
    {
     "data": {
      "text/plain": [
       "Index(['20003_1140861958-Treatmentmedication_code_simvastatin',\n",
       "       '20003_1140879802-Treatmentmedication_code_amlodipine',\n",
       "       '20003_1141194794-Treatmentmedication_code_bendroflumethiazide',\n",
       "       '4079_raw-Diastolic_blood_pressure_automated_reading',\n",
       "       '4080_raw-Systolic_blood_pressure_automated_reading',\n",
       "       '6150_100-Vascularheart_problems_diagnosed_by_doctor_None_of_the_above',\n",
       "       '6150_4-Vascularheart_problems_diagnosed_by_doctor_High_blood_pressure',\n",
       "       '6153_1-Medication_for_cholesterol_blood_pressure_diabetes_or_take_exogenous_hormones_Cholesterol_lowering_medication',\n",
       "       '6153_100-Medication_for_cholesterol_blood_pressure_diabetes_or_take_exogenous_hormones_None_of_the_above',\n",
       "       '6153_2-Medication_for_cholesterol_blood_pressure_diabetes_or_take_exogenous_hormones_Blood_pressure_medication',\n",
       "       '6177_1-Medication_for_cholesterol_blood_pressure_or_diabetes_Cholesterol_lowering_medication',\n",
       "       '6177_100-Medication_for_cholesterol_blood_pressure_or_diabetes_None_of_the_above',\n",
       "       '6177_2-Medication_for_cholesterol_blood_pressure_or_diabetes_Blood_pressure_medication',\n",
       "       'hypercholesterolemia', 'hypertension'],\n",
       "      dtype='object')"
      ]
     },
     "metadata": {},
     "output_type": "display_data"
    },
    {
     "data": {
      "text/html": [
       "<h3>Cluster 52.28</h3>"
      ],
      "text/plain": [
       "<IPython.core.display.HTML object>"
      ]
     },
     "metadata": {},
     "output_type": "display_data"
    },
    {
     "data": {
      "text/plain": [
       "3"
      ]
     },
     "metadata": {},
     "output_type": "display_data"
    },
    {
     "data": {
      "text/plain": [
       "Index(['L12_ACTINKERA-Actinic_keratosis',\n",
       "       'L12_NONIONRADISKIN-Skin_changes_due_to_chronic_exposure_to_nonionizing_radiation',\n",
       "       'radiation-induced disorder'],\n",
       "      dtype='object')"
      ]
     },
     "metadata": {},
     "output_type": "display_data"
    },
    {
     "data": {
      "text/html": [
       "<h3>Cluster 52.29</h3>"
      ],
      "text/plain": [
       "<IPython.core.display.HTML object>"
      ]
     },
     "metadata": {},
     "output_type": "display_data"
    },
    {
     "data": {
      "text/plain": [
       "15"
      ]
     },
     "metadata": {},
     "output_type": "display_data"
    },
    {
     "data": {
      "text/plain": [
       "Index(['30010_raw-Red_blood_cell_erythrocyte_count',\n",
       "       '30020_raw-Haemoglobin_concentration',\n",
       "       '30030_raw-Haematocrit_percentage', '30040_raw-Mean_corpuscular_volume',\n",
       "       '30050_raw-Mean_corpuscular_haemoglobin',\n",
       "       '30070_raw-Red_blood_cell_erythrocyte_distribution_width',\n",
       "       '30240_raw-Reticulocyte_percentage', '30250_raw-Reticulocyte_count',\n",
       "       '30260_raw-Mean_reticulocyte_volume',\n",
       "       '30270_raw-Mean_sphered_cell_volume',\n",
       "       '30280_raw-Immature_reticulocyte_fraction',\n",
       "       '30290_raw-High_light_scatter_reticulocyte_percentage',\n",
       "       '30300_raw-High_light_scatter_reticulocyte_count', 'erythrocyte count',\n",
       "       'reticulocyte count'],\n",
       "      dtype='object')"
      ]
     },
     "metadata": {},
     "output_type": "display_data"
    },
    {
     "data": {
      "text/html": [
       "<h3>Cluster 52.30</h3>"
      ],
      "text/plain": [
       "<IPython.core.display.HTML object>"
      ]
     },
     "metadata": {},
     "output_type": "display_data"
    },
    {
     "data": {
      "text/plain": [
       "14"
      ]
     },
     "metadata": {},
     "output_type": "display_data"
    },
    {
     "data": {
      "text/plain": [
       "Index(['20003_1140884516-Treatmentmedication_code_thyroxine_product',\n",
       "       'K11_OTHDIG-Other_diseases_of_the_digestive_system',\n",
       "       'M13_POLYARTHROPATHIES-Polyarthropathies',\n",
       "       'M13_RHEUMA-Rheumatoid_arthritis',\n",
       "       'RHEUMA_NOS-Otherunspecified_rheumatoid_arthritis',\n",
       "       'RHEUMA_SEROPOS-Seropositive_rheumatoid_arthritis',\n",
       "       'RHEUMA_SEROPOS_OTH-Otherunspecified_seropositiverheumatoid_arthritis',\n",
       "       'STILL_ADULT-Adultonset_Still_disease', 'adrenocortical insufficiency',\n",
       "       'ankylosing spondylitis', 'benign prostatic hyperplasia', 'hematuria',\n",
       "       'multiple sclerosis', 'psoriatic arthritis'],\n",
       "      dtype='object')"
      ]
     },
     "metadata": {},
     "output_type": "display_data"
    },
    {
     "data": {
      "text/html": [
       "<h3>Cluster 52.31</h3>"
      ],
      "text/plain": [
       "<IPython.core.display.HTML object>"
      ]
     },
     "metadata": {},
     "output_type": "display_data"
    },
    {
     "data": {
      "text/plain": [
       "1"
      ]
     },
     "metadata": {},
     "output_type": "display_data"
    },
    {
     "data": {
      "text/plain": [
       "Index(['30060_raw-Mean_corpuscular_haemoglobin_concentration'], dtype='object')"
      ]
     },
     "metadata": {},
     "output_type": "display_data"
    },
    {
     "data": {
      "text/html": [
       "<h3>Cluster 52.32</h3>"
      ],
      "text/plain": [
       "<IPython.core.display.HTML object>"
      ]
     },
     "metadata": {},
     "output_type": "display_data"
    },
    {
     "data": {
      "text/plain": [
       "8"
      ]
     },
     "metadata": {},
     "output_type": "display_data"
    },
    {
     "data": {
      "text/plain": [
       "Index(['24003_raw-Nitrogen_dioxide_air_pollution_2010',\n",
       "       '24004_raw-Nitrogen_oxides_air_pollution_2010',\n",
       "       '24006_raw-Particulate_matter_air_pollution_pm25_2010',\n",
       "       '24007_raw-Particulate_matter_air_pollution_pm25_absorbance_2010',\n",
       "       '24016_raw-Nitrogen_dioxide_air_pollution_2005',\n",
       "       '24017_raw-Nitrogen_dioxide_air_pollution_2006',\n",
       "       '24018_raw-Nitrogen_dioxide_air_pollution_2007',\n",
       "       '24019_raw-Particulate_matter_air_pollution_pm10_2007'],\n",
       "      dtype='object')"
      ]
     },
     "metadata": {},
     "output_type": "display_data"
    },
    {
     "data": {
      "text/html": [
       "<h3>Cluster 52.33</h3>"
      ],
      "text/plain": [
       "<IPython.core.display.HTML object>"
      ]
     },
     "metadata": {},
     "output_type": "display_data"
    },
    {
     "data": {
      "text/plain": [
       "8"
      ]
     },
     "metadata": {},
     "output_type": "display_data"
    },
    {
     "data": {
      "text/plain": [
       "Index(['5096_raw-3mm_weak_meridian_left', '5097_raw-6mm_weak_meridian_left',\n",
       "       '5098_raw-6mm_weak_meridian_right', '5099_raw-3mm_weak_meridian_right',\n",
       "       '5132_raw-3mm_strong_meridian_right',\n",
       "       '5133_raw-6mm_strong_meridian_right',\n",
       "       '5134_raw-6mm_strong_meridian_left',\n",
       "       '5135_raw-3mm_strong_meridian_left'],\n",
       "      dtype='object')"
      ]
     },
     "metadata": {},
     "output_type": "display_data"
    },
    {
     "data": {
      "text/html": [
       "<h3>Cluster 52.34</h3>"
      ],
      "text/plain": [
       "<IPython.core.display.HTML object>"
      ]
     },
     "metadata": {},
     "output_type": "display_data"
    },
    {
     "data": {
      "text/plain": [
       "1"
      ]
     },
     "metadata": {},
     "output_type": "display_data"
    },
    {
     "data": {
      "text/plain": [
       "Index(['mineral metabolism disease'], dtype='object')"
      ]
     },
     "metadata": {},
     "output_type": "display_data"
    },
    {
     "data": {
      "text/html": [
       "<h3>Cluster 52.35</h3>"
      ],
      "text/plain": [
       "<IPython.core.display.HTML object>"
      ]
     },
     "metadata": {},
     "output_type": "display_data"
    },
    {
     "data": {
      "text/plain": [
       "4"
      ]
     },
     "metadata": {},
     "output_type": "display_data"
    },
    {
     "data": {
      "text/plain": [
       "Index(['HEARTFAIL-Heart_failure', 'I9_HEARTFAIL-Heart_failurestrict',\n",
       "       'I9_HEARTFAIL_NS-Heart_failure_not_strict', 'heart failure'],\n",
       "      dtype='object')"
      ]
     },
     "metadata": {},
     "output_type": "display_data"
    },
    {
     "data": {
      "text/html": [
       "<h3>Cluster 52.36</h3>"
      ],
      "text/plain": [
       "<IPython.core.display.HTML object>"
      ]
     },
     "metadata": {},
     "output_type": "display_data"
    },
    {
     "data": {
      "text/plain": [
       "4"
      ]
     },
     "metadata": {},
     "output_type": "display_data"
    },
    {
     "data": {
      "text/plain": [
       "Index(['COPD_EXCL-COPD_differential_diagnosis',\n",
       "       'ILD_DIFF_DG-ILD_differential_diagnosis',\n",
       "       'PULMONARYDG-Other_pulmonary_diagnosis',\n",
       "       'X_RESPIRATORY-Diseases_of_the_respiratory_system'],\n",
       "      dtype='object')"
      ]
     },
     "metadata": {},
     "output_type": "display_data"
    },
    {
     "data": {
      "text/html": [
       "<h3>Cluster 52.37</h3>"
      ],
      "text/plain": [
       "<IPython.core.display.HTML object>"
      ]
     },
     "metadata": {},
     "output_type": "display_data"
    },
    {
     "data": {
      "text/plain": [
       "5"
      ]
     },
     "metadata": {},
     "output_type": "display_data"
    },
    {
     "data": {
      "text/plain": [
       "Index(['C_STROKE-STROKE', 'I9_STR-Stroke_excluding_SAH',\n",
       "       'I9_STR_EXH-Ischaemic_Stroke_excluding_all_haemorrhages',\n",
       "       'I9_STR_SAH-Stroke_including_SAH', 'brain infarction'],\n",
       "      dtype='object')"
      ]
     },
     "metadata": {},
     "output_type": "display_data"
    },
    {
     "data": {
      "text/html": [
       "<h3>Cluster 52.38</h3>"
      ],
      "text/plain": [
       "<IPython.core.display.HTML object>"
      ]
     },
     "metadata": {},
     "output_type": "display_data"
    },
    {
     "data": {
      "text/plain": [
       "1"
      ]
     },
     "metadata": {},
     "output_type": "display_data"
    },
    {
     "data": {
      "text/plain": [
       "Index(['1737-Childhood_sunburn_occasions'], dtype='object')"
      ]
     },
     "metadata": {},
     "output_type": "display_data"
    },
    {
     "data": {
      "text/html": [
       "<h3>Cluster 52.39</h3>"
      ],
      "text/plain": [
       "<IPython.core.display.HTML object>"
      ]
     },
     "metadata": {},
     "output_type": "display_data"
    },
    {
     "data": {
      "text/plain": [
       "12"
      ]
     },
     "metadata": {},
     "output_type": "display_data"
    },
    {
     "data": {
      "text/plain": [
       "Index(['3144_raw-Heel_Broadband_ultrasound_attenuation_direct_entry',\n",
       "       '3147_raw-Heel_quantitative_ultrasound_index_QUI_direct_entry',\n",
       "       '3148_raw-Heel_bone_mineral_density_BMD',\n",
       "       '4101_raw-Heel_broadband_ultrasound_attenuation_left',\n",
       "       '4104_raw-Heel_quantitative_ultrasound_index_QUI_direct_entry_left',\n",
       "       '4105_raw-Heel_bone_mineral_density_BMD_left',\n",
       "       '4106_raw-Heel_bone_mineral_density_BMD_Tscore_automated_left',\n",
       "       '4120_raw-Heel_broadband_ultrasound_attenuation_right',\n",
       "       '4123_raw-Heel_quantitative_ultrasound_index_QUI_direct_entry_right',\n",
       "       '4124_raw-Heel_bone_mineral_density_BMD_right',\n",
       "       '4125_raw-Heel_bone_mineral_density_BMD_Tscore_automated_right',\n",
       "       '78_raw-Heel_bone_mineral_density_BMD_Tscore_automated'],\n",
       "      dtype='object')"
      ]
     },
     "metadata": {},
     "output_type": "display_data"
    },
    {
     "data": {
      "text/html": [
       "<h3>Cluster 52.40</h3>"
      ],
      "text/plain": [
       "<IPython.core.display.HTML object>"
      ]
     },
     "metadata": {},
     "output_type": "display_data"
    },
    {
     "data": {
      "text/plain": [
       "17"
      ]
     },
     "metadata": {},
     "output_type": "display_data"
    },
    {
     "data": {
      "text/plain": [
       "Index(['20003_1140883066-Treatmentmedication_code_insulin_product',\n",
       "       '20003_1141191044-Treatmentmedication_code_levothyroxine_sodium',\n",
       "       '2976_raw-Age_diabetes_diagnosed',\n",
       "       '2986-Started_insulin_within_one_year_diagnosis_of_diabetes',\n",
       "       '6144_3-Never_eat_eggs_dairy_wheat_sugar_Wheat_products',\n",
       "       '6153_3-Medication_for_cholesterol_blood_pressure_diabetes_or_take_exogenous_hormones_Insulin',\n",
       "       '6177_3-Medication_for_cholesterol_blood_pressure_or_diabetes_Insulin',\n",
       "       'K11_COELIAC-Coeliac_disease', 'celiac disease',\n",
       "       'hyperthyroidism AND thyrotoxicosis', 'hypothyroidism AND myxedema',\n",
       "       'malabsorption syndrome', 'psoriasis', 'rheumatoid arthritis',\n",
       "       'sarcoidosis', 'systemic lupus erythematosus',\n",
       "       'type i diabetes mellitus'],\n",
       "      dtype='object')"
      ]
     },
     "metadata": {},
     "output_type": "display_data"
    },
    {
     "data": {
      "text/html": [
       "<h3>Cluster 52.41</h3>"
      ],
      "text/plain": [
       "<IPython.core.display.HTML object>"
      ]
     },
     "metadata": {},
     "output_type": "display_data"
    },
    {
     "data": {
      "text/plain": [
       "3"
      ]
     },
     "metadata": {},
     "output_type": "display_data"
    },
    {
     "data": {
      "text/plain": [
       "Index(['M13_DUPUTRYEN-Palmar_fascial_fibromatosis_Dupuytren',\n",
       "       'M13_FIBROBLASTIC-Fibroblastic_disorders', 'fibroblastic disorder'],\n",
       "      dtype='object')"
      ]
     },
     "metadata": {},
     "output_type": "display_data"
    },
    {
     "data": {
      "text/html": [
       "<h3>Cluster 52.42</h3>"
      ],
      "text/plain": [
       "<IPython.core.display.HTML object>"
      ]
     },
     "metadata": {},
     "output_type": "display_data"
    },
    {
     "data": {
      "text/plain": [
       "6"
      ]
     },
     "metadata": {},
     "output_type": "display_data"
    },
    {
     "data": {
      "text/plain": [
       "Index(['20003_1140861998-Treatmentmedication_code_ventolin_100micrograms_inhaler',\n",
       "       '30120_raw-Lymphocyte_count',\n",
       "       '6152_100-Blood_clot_DVT_bronchitis_emphysema_asthma_rhinitis_eczema_allergy_diagnosed_by_doctor_None_of_the_above',\n",
       "       '6152_8-Blood_clot_DVT_bronchitis_emphysema_asthma_rhinitis_eczema_allergy_diagnosed_by_doctor_Asthma',\n",
       "       '6152_9-Blood_clot_DVT_bronchitis_emphysema_asthma_rhinitis_eczema_allergy_diagnosed_by_doctor_Hayfever_allergic_rhinitis_or_eczema',\n",
       "       'asthma'],\n",
       "      dtype='object')"
      ]
     },
     "metadata": {},
     "output_type": "display_data"
    },
    {
     "data": {
      "text/html": [
       "<h3>Cluster 52.43</h3>"
      ],
      "text/plain": [
       "<IPython.core.display.HTML object>"
      ]
     },
     "metadata": {},
     "output_type": "display_data"
    },
    {
     "data": {
      "text/plain": [
       "1"
      ]
     },
     "metadata": {},
     "output_type": "display_data"
    },
    {
     "data": {
      "text/plain": [
       "Index(['6149_1-Mouthteeth_dental_problems_Mouth_ulcers'], dtype='object')"
      ]
     },
     "metadata": {},
     "output_type": "display_data"
    },
    {
     "data": {
      "text/html": [
       "<h3>Cluster 52.44</h3>"
      ],
      "text/plain": [
       "<IPython.core.display.HTML object>"
      ]
     },
     "metadata": {},
     "output_type": "display_data"
    },
    {
     "data": {
      "text/plain": [
       "2"
      ]
     },
     "metadata": {},
     "output_type": "display_data"
    },
    {
     "data": {
      "text/plain": [
       "Index(['46_raw-Hand_grip_strength_left', '47_raw-Hand_grip_strength_right'], dtype='object')"
      ]
     },
     "metadata": {},
     "output_type": "display_data"
    },
    {
     "data": {
      "text/html": [
       "<h3>Cluster 52.45</h3>"
      ],
      "text/plain": [
       "<IPython.core.display.HTML object>"
      ]
     },
     "metadata": {},
     "output_type": "display_data"
    },
    {
     "data": {
      "text/plain": [
       "8"
      ]
     },
     "metadata": {},
     "output_type": "display_data"
    },
    {
     "data": {
      "text/plain": [
       "Index(['24013-Total_traffic_load_on_major_roads', '24014-Close_to_major_road',\n",
       "       '24015-Sum_of_road_length_of_major_roads_within_100m',\n",
       "       '24020_raw-Average_daytime_sound_level_of_noise_pollution',\n",
       "       '24021_raw-Average_evening_sound_level_of_noise_pollution',\n",
       "       '24022_raw-Average_nighttime_sound_level_of_noise_pollution',\n",
       "       '24023_raw-Average_16hour_sound_level_of_noise_pollution',\n",
       "       '24024_raw-Average_24hour_sound_level_of_noise_pollution'],\n",
       "      dtype='object')"
      ]
     },
     "metadata": {},
     "output_type": "display_data"
    },
    {
     "data": {
      "text/html": [
       "<h3>Cluster 52.46</h3>"
      ],
      "text/plain": [
       "<IPython.core.display.HTML object>"
      ]
     },
     "metadata": {},
     "output_type": "display_data"
    },
    {
     "data": {
      "text/plain": [
       "2"
      ]
     },
     "metadata": {},
     "output_type": "display_data"
    },
    {
     "data": {
      "text/plain": [
       "Index(['20003_1140875408-Treatmentmedication_code_allopurinol', 'gout'], dtype='object')"
      ]
     },
     "metadata": {},
     "output_type": "display_data"
    },
    {
     "data": {
      "text/html": [
       "<h3>Cluster 52.47</h3>"
      ],
      "text/plain": [
       "<IPython.core.display.HTML object>"
      ]
     },
     "metadata": {},
     "output_type": "display_data"
    },
    {
     "data": {
      "text/plain": [
       "5"
      ]
     },
     "metadata": {},
     "output_type": "display_data"
    },
    {
     "data": {
      "text/plain": [
       "Index(['F5_ALLANXIOUS-All_anxiety_disorders',\n",
       "       'F5_ANXIETY-Other_anxiety_disorders',\n",
       "       'KRA_PSY_ANXIETY-Anxiety_disorders',\n",
       "       'PULM_ANXIETY-Anxiety_asthmarelated_comorbidities', 'anxiety disorder'],\n",
       "      dtype='object')"
      ]
     },
     "metadata": {},
     "output_type": "display_data"
    },
    {
     "data": {
      "text/html": [
       "<h3>Cluster 52.48</h3>"
      ],
      "text/plain": [
       "<IPython.core.display.HTML object>"
      ]
     },
     "metadata": {},
     "output_type": "display_data"
    },
    {
     "data": {
      "text/plain": [
       "90"
      ]
     },
     "metadata": {},
     "output_type": "display_data"
    },
    {
     "data": {
      "text/plain": [
       "Index(['20431-Ever_addicted_to_a_behaviour_or_miscellanous',\n",
       "       '20480-Ever_selfharmed', '20528-Diagnosed_with_lifethreatening_illness',\n",
       "       '20537-Frequency_of_difficulty_controlling_worry_during_worst_period_of_anxiety',\n",
       "       '20539-Frequency_of_inability_to_stop_worrying_during_worst_period_of_anxiety',\n",
       "       '20542-Stronger_worrying_than_other_people_during_period_of_worst_anxiety',\n",
       "       '20544_17-Mental_health_problems_ever_diagnosed_by_a_professional_Agoraphobia',\n",
       "       '20544_2-Mental_health_problems_ever_diagnosed_by_a_professional_Schizophrenia',\n",
       "       '20544_4-Mental_health_problems_ever_diagnosed_by_a_professional_A_personality_disorder',\n",
       "       '20544_5-Mental_health_problems_ever_diagnosed_by_a_professional_Any_other_phobia_eg_disabling_fear_of_heights_or_spiders',\n",
       "       '20544_6-Mental_health_problems_ever_diagnosed_by_a_professional_Panic_attacks',\n",
       "       '20544_7-Mental_health_problems_ever_diagnosed_by_a_professional_Obsessive_compulsive_disorder_OCD',\n",
       "       '20546_1-Substances_taken_for_depression_Unprescribed_medication_more_than_once',\n",
       "       '20546_4-Substances_taken_for_depression_Drugs_or_alcohol_more_than_once',\n",
       "       '20547_3-Activities_undertaken_to_treat_depression_Other_therapeutic_activities_such_as_mindfulness_yoga_or_art_classes',\n",
       "       '20548_1-Manifestations_of_mania_or_irritability_I_was_more_talkative_than_usual',\n",
       "       '20548_2-Manifestations_of_mania_or_irritability_I_was_more_restless_than_usual',\n",
       "       '20548_5-Manifestations_of_mania_or_irritability_I_needed_less_sleep_than_usual',\n",
       "       '20548_6-Manifestations_of_mania_or_irritability_I_was_more_creative_or_had_more_ideas_than_usual',\n",
       "       '20548_7-Manifestations_of_mania_or_irritability_I_was_easily_distracted',\n",
       "       '20548_8-Manifestations_of_mania_or_irritability_I_was_more_confident_than_usual',\n",
       "       '20548_9-Manifestations_of_mania_or_irritability_I_was_more_active_than_usual',\n",
       "       '20549_1-Substances_taken_for_anxiety_Unprescribed_medication_more_than_once',\n",
       "       '20549_4-Substances_taken_for_anxiety_Drugs_or_alcohol_more_than_once',\n",
       "       '20550_3-Activities_undertaken_to_treat_anxiety_Other_therapeutic_activities_such_as_mindfulness_yoga_or_art_classes',\n",
       "       '20551_1-Substance_of_prescription_or_overthecounter_medication_addiction_A_sedative_benzodiazepine_or_sleeping_tablet',\n",
       "       '20551_2-Substance_of_prescription_or_overthecounter_medication_addiction_A_painkiller',\n",
       "       '20551_3-Substance_of_prescription_or_overthecounter_medication_addiction_Something_else',\n",
       "       '20552_1-Behavioural_and_miscellaneous_addictions_Something_else_not_mentioned',\n",
       "       '20552_2-Behavioural_and_miscellaneous_addictions_A_behaviour',\n",
       "       '20553_1-Methods_of_selfharm_used_Something_not_listed',\n",
       "       '20553_3-Methods_of_selfharm_used_Stopping_prescribed_medication',\n",
       "       '20553_4-Methods_of_selfharm_used_Ingesting_a_medication_in_excess_of_the_normal_dose',\n",
       "       '20553_5-Methods_of_selfharm_used_Selfinjury_such_as_selfcutting_scratching_or_hitting_etc',\n",
       "       '20553_6-Methods_of_selfharm_used_Ingesting_alcohol_or_a_recreational_or_illicit_drug',\n",
       "       '20554_1-Actions_taken_following_selfharm_See_anyone_from_psychiatric_or_mental_health_services_including_liaison_services',\n",
       "       '20554_3-Actions_taken_following_selfharm_Need_hospital_treatment_eg_AE',\n",
       "       '20554_4-Actions_taken_following_selfharm_Use_a_helpline_voluntary_organization',\n",
       "       '20554_5-Actions_taken_following_selfharm_See_own_GP',\n",
       "       '20554_6-Actions_taken_following_selfharm_Receive_help_from_friends_family_neighbours',\n",
       "       '21021_raw-Pulse_wave_Arterial_Stiffness_index',\n",
       "       '2159-Ever_had_samesex_intercourse',\n",
       "       '2207-Wears_glasses_or_contact_lenses',\n",
       "       '22146_raw-Age_hayfever_or_allergic_rhinitis_diagnosed_by_doctor',\n",
       "       '22147_raw-Age_asthma_diagnosed_by_doctor',\n",
       "       '22166-Recent_medication_for_hayfever_or_allergic_rhinitis',\n",
       "       '22167-Recent_medication_for_asthma',\n",
       "       '22169-Recent_medication_for_chronic_bronchitis',\n",
       "       '22170-Recent_medication_for_COPD_Chronic_Obstructive_Pulmonary_Disease',\n",
       "       '22174-Recent_medication_for_bronchiectasis', '2227-Other_eye_problems',\n",
       "       '22503_raw-Years_of_cough_on_most_days',\n",
       "       '22506_111-Tobacco_smoking_Smokes_on_most_or_all_days',\n",
       "       '22506_112-Tobacco_smoking_Occasionally',\n",
       "       '22506_113-Tobacco_smoking_Exsmoker',\n",
       "       '22506_114-Tobacco_smoking_Never_smoked',\n",
       "       '22507_raw-Age_of_stopping_smoking', '22599-Number_of_jobs_held',\n",
       "       '22601_11212693-Job_coding_factoryworks_manager_shift_manager',\n",
       "       '22601_11373228-Job_coding_research_and_development_manager',\n",
       "       '22601_11423324-Job_coding_customer_carerelations_manager_help_desk_manager',\n",
       "       '22601_12253140-Job_coding_sports_centre_manager_riding_school_owner_sports_ground_manager_baths_manager',\n",
       "       '22601_21123022-Job_coding_biochemist_medical_laboratory_scientific_officer',\n",
       "       '22601_21133024-Job_coding_mathematician',\n",
       "       '22601_21213038-Job_coding_civil_engineer_transport_engineer_structural_engineer_borough_surveyor',\n",
       "       '22601_21222679-Job_coding_mechanical_engineer',\n",
       "       '22601_21222865-Job_coding_mechanical_engineer',\n",
       "       '22601_21232866-Job_coding_electrical_engineer_generating_engineer_power_engineer_power_transmission_engineer',\n",
       "       '22601_21272684-Job_coding_production_and_process_engineer',\n",
       "       '22601_23113030-Job_coding_university_lecturerprofessor',\n",
       "       '22601_23133421-Job_coding_school_inspector_education_inspector',\n",
       "       '22601_23193429-Job_coding_day_nursery_manager_or_owner',\n",
       "       '22601_23293031-Job_coding_other_researchers_including_in_broadcasting_journalism_photography_printing_and_publishing',\n",
       "       '22601_23293164-Job_coding_researcher_in_broadcasting_journalism_photography_printing_and_publishing',\n",
       "       '22601_24233025-Job_coding_statistician',\n",
       "       '22601_24342599-Job_coding_chartered_surveyor_building_surveyor_land_surveyor',\n",
       "       '22601_24342600-Job_coding_riverwater_surveyor_surveyor_and_estimator_topographer_property_surveyor',\n",
       "       '22601_24343291-Job_coding_chartered_surveyor_building_surveyor_land_surveyor_miningminerals_surveyor_riverwater_surveyor_surveyor_and_estimator_topographer_property_surveyor',\n",
       "       '22601_24513035-Job_coding_librarian_assistant_librarian',\n",
       "       '22601_24513424-Job_coding_librarian_assistant_librarian',\n",
       "       '22601_31113086-Job_coding_laboratory_technician',\n",
       "       '22601_31122951-Job_coding_electricalelectronics_technician',\n",
       "       '22601_31153052-Job_coding_quality_assurance_technician_or_coordinator',\n",
       "       '22601_31193055-Job_coding_other_engineering_technician_including_materials_technician_technical_assistant_technical_officer',\n",
       "       '22601_32113077-Job_coding_health_visitor',\n",
       "       '22601_32323112-Job_coding_benefits_advisor_citizens_advice_bureau_adviser_debt_counsellor',\n",
       "       '22601_32323410-Job_coding_schoolstudent_counsellor_school_attendance_officer',\n",
       "       '22601_34333162-Job_coding_public_relations_officer_press_officer_information_officer',\n",
       "       '22601_35333266-Job_coding_insurance_underwriter_insurance_inspector_insurance_account_handler',\n",
       "       '22601_35623213-Job_coding_personnel_or_industrial_relations_officer_recruitment_consultant'],\n",
       "      dtype='object')"
      ]
     },
     "metadata": {},
     "output_type": "display_data"
    },
    {
     "data": {
      "text/html": [
       "<h3>Cluster 52.49</h3>"
      ],
      "text/plain": [
       "<IPython.core.display.HTML object>"
      ]
     },
     "metadata": {},
     "output_type": "display_data"
    },
    {
     "data": {
      "text/plain": [
       "6"
      ]
     },
     "metadata": {},
     "output_type": "display_data"
    },
    {
     "data": {
      "text/plain": [
       "Index(['ASTHMA_MEDICATIO_COMORB-Medication_related_adverse_effects',\n",
       "       'H7_LENS-Disorders_of_lens',\n",
       "       'PULM_MEDICATIO_COMORB-Medication_related_adverse_effects_AsthmaCOPD',\n",
       "       'VII_EYE_ADNEXA-Diseases_of_the_eye_and_adnexa', 'age-related cataract',\n",
       "       'cataract'],\n",
       "      dtype='object')"
      ]
     },
     "metadata": {},
     "output_type": "display_data"
    },
    {
     "data": {
      "text/html": [
       "<h3>Cluster 52.50</h3>"
      ],
      "text/plain": [
       "<IPython.core.display.HTML object>"
      ]
     },
     "metadata": {},
     "output_type": "display_data"
    },
    {
     "data": {
      "text/plain": [
       "4"
      ]
     },
     "metadata": {},
     "output_type": "display_data"
    },
    {
     "data": {
      "text/plain": [
       "Index(['30150-Eosinophill_count', '30210_raw-Eosinophill_percentage',\n",
       "       'eosinophil count', 'sum of eosinophil and basophil counts'],\n",
       "      dtype='object')"
      ]
     },
     "metadata": {},
     "output_type": "display_data"
    },
    {
     "data": {
      "text/html": [
       "<h3>Cluster 52.51</h3>"
      ],
      "text/plain": [
       "<IPython.core.display.HTML object>"
      ]
     },
     "metadata": {},
     "output_type": "display_data"
    },
    {
     "data": {
      "text/plain": [
       "4"
      ]
     },
     "metadata": {},
     "output_type": "display_data"
    },
    {
     "data": {
      "text/plain": [
       "Index(['C3_SKIN-Malignant_neoplasm_of_skin',\n",
       "       'C_OTHER_SKIN-Other_malignant_neoplasms_of_skin', 'C_SKIN',\n",
       "       'skin neoplasm'],\n",
       "      dtype='object')"
      ]
     },
     "metadata": {},
     "output_type": "display_data"
    },
    {
     "data": {
      "text/html": [
       "<h2>Partition with k=54</h2>"
      ],
      "text/plain": [
       "<IPython.core.display.HTML object>"
      ]
     },
     "metadata": {},
     "output_type": "display_data"
    },
    {
     "data": {
      "text/plain": [
       "method                              eac_average_coassoc_matrix\n",
       "partition    [25, 25, 25, 25, 25, 25, 25, 25, 25, 6, 25, 25...\n",
       "ami_mean                                              0.284523\n",
       "selected                                                  True\n",
       "Name: 54, dtype: object"
      ]
     },
     "metadata": {},
     "output_type": "display_data"
    },
    {
     "data": {
      "text/plain": [
       "(3752,)"
      ]
     },
     "metadata": {},
     "output_type": "display_data"
    },
    {
     "data": {
      "text/plain": [
       "0     766\n",
       "6     390\n",
       "1     321\n",
       "10    314\n",
       "24    245\n",
       "9     223\n",
       "7     218\n",
       "12    208\n",
       "5     176\n",
       "20    175\n",
       "11    171\n",
       "48     90\n",
       "13     49\n",
       "4      43\n",
       "23     42\n",
       "26     24\n",
       "15     21\n",
       "3      19\n",
       "25     18\n",
       "40     17\n",
       "2      17\n",
       "22     15\n",
       "27     15\n",
       "29     15\n",
       "30     14\n",
       "52     14\n",
       "39     12\n",
       "33      8\n",
       "32      8\n",
       "45      8\n",
       "16      7\n",
       "53      7\n",
       "19      7\n",
       "42      6\n",
       "49      6\n",
       "18      6\n",
       "37      5\n",
       "47      5\n",
       "14      5\n",
       "17      5\n",
       "51      4\n",
       "35      4\n",
       "21      4\n",
       "50      4\n",
       "36      4\n",
       "28      3\n",
       "41      3\n",
       "8       3\n",
       "44      2\n",
       "46      2\n",
       "31      1\n",
       "34      1\n",
       "43      1\n",
       "38      1\n",
       "dtype: int64"
      ]
     },
     "metadata": {},
     "output_type": "display_data"
    },
    {
     "data": {
      "text/html": [
       "<h3>Cluster 54.0</h3>"
      ],
      "text/plain": [
       "<IPython.core.display.HTML object>"
      ]
     },
     "metadata": {},
     "output_type": "display_data"
    },
    {
     "data": {
      "text/plain": [
       "766"
      ]
     },
     "metadata": {},
     "output_type": "display_data"
    },
    {
     "data": {
      "text/plain": [
       "Index(['22601_11113200-Job_coding_senior_official_in_central_government_including_members_of_the_senior_civil_service_and_the_equivalent_in_the_diplomatic_service_mps_meps',\n",
       "       '22601_11123211-Job_coding_director_or_chief_executive_of_private_organisationcompany_company_chairman_or_president_general_manager',\n",
       "       '22601_11133201-Job_coding_senior_official_in_local_government_including_parish_or_town_or_county_chief_clerk_chief_or_superintendent_rate_collector_chief_executive_or_director_councillor',\n",
       "       '22601_11143212-Job_coding_senior_official_of_special_interest_organisation_including_general_manager_or_director_or_executive_or_general_secretary_of_charity_or_trade_unionassociation_or_religious_organisation',\n",
       "       '22601_11212692-Job_coding_production_works_or_maintenance_manager',\n",
       "       '22601_11222591-Job_coding_manager_in_construction_clerk_of_works_site_manager_contracts_manager_highways_manager',\n",
       "       '22601_11232861-Job_coding_manager_in_mining_energy_production_or_water_supply',\n",
       "       '22601_11313221-Job_coding_financial_services_manager_chartered_secretary_banker_merchant_or_investment_banker_finance_director_tax_manager',\n",
       "       '22601_11323222-Job_coding_sales_or_marketing_managerdirector_exportimport_manager_business_development_manager_advertisingcommercial_manager',\n",
       "       '22601_11333223-Job_coding_purchasing_managerdirector_not_retail_supplies_manager',\n",
       "       ...\n",
       "       '41248_6005-Destinations_on_discharge_from_hospital_recoded_Transfer_within_NHS_provider_Medical_specialty',\n",
       "       '41248_6007-Destinations_on_discharge_from_hospital_recoded_Transfer_within_NHS_provider_Geriatrics',\n",
       "       '41248_7001-Destinations_on_discharge_from_hospital_recoded_Nursing_residential_care_group_home_NHS',\n",
       "       '41248_7002-Destinations_on_discharge_from_hospital_recoded_Nursing_residential_care_group_home_Local_Authoritory',\n",
       "       '41248_7003-Destinations_on_discharge_from_hospital_recoded_Nursing_residential_care_group_home_NonNHS',\n",
       "       '41248_8002-Destinations_on_discharge_from_hospital_recoded_Other_hospital_NonNHS',\n",
       "       '4195_raw-Pulse_wave_reflection_index',\n",
       "       '4230_raw-Signaltonoiseratio_SNR_of_triplet_left',\n",
       "       '4241_raw-Signaltonoiseratio_SNR_of_triplet_right',\n",
       "       '4462-Average_monthly_intake_of_other_alcoholic_drinks'],\n",
       "      dtype='object', length=766)"
      ]
     },
     "metadata": {},
     "output_type": "display_data"
    },
    {
     "data": {
      "text/html": [
       "<h3>Cluster 54.1</h3>"
      ],
      "text/plain": [
       "<IPython.core.display.HTML object>"
      ]
     },
     "metadata": {},
     "output_type": "display_data"
    },
    {
     "data": {
      "text/plain": [
       "321"
      ]
     },
     "metadata": {},
     "output_type": "display_data"
    },
    {
     "data": {
      "text/plain": [
       "Index(['40001_C719-Underlying_primary_cause_of_death_ICD10_C719_Brain_unspecified',\n",
       "       'ASTHMA_CHILD-Childhood_asthma_age16',\n",
       "       'ASTHMA_HOSPITAL1-Asthma_hospital_admissions_1',\n",
       "       'BACT_INTEST_INFECTION_NOS-Other_specifiedunspecified_bacterial_intestinal_infections',\n",
       "       'C3_DIGESTIVE_ORGANS-Malignant_neoplasm_of_digestive_organs',\n",
       "       'C3_EYE_BRAIN_NEURO-Malignant_neoplasm_of_eye_brain_and_central_nervous_system',\n",
       "       'C3_URINARY_TRACT-Malignant_neoplasm_of_urinary_organs',\n",
       "       'C_BLADDER-Malignant_neoplasm_of_bladder',\n",
       "       'C_BRAIN-Malignant_neoplasm_of_brain',\n",
       "       'C_COLON-Malignant_neoplasm_of_colon',\n",
       "       ...\n",
       "       'iron deficiency anemia', 'kidney neoplasm', 'knee injury',\n",
       "       'muscular disease', 'pigmentation disease', 'skeletal system disease',\n",
       "       'skin disease', 'suppurative otitis media', 'tenosynovitis',\n",
       "       'vasculitis'],\n",
       "      dtype='object', length=321)"
      ]
     },
     "metadata": {},
     "output_type": "display_data"
    },
    {
     "data": {
      "text/html": [
       "<h3>Cluster 54.2</h3>"
      ],
      "text/plain": [
       "<IPython.core.display.HTML object>"
      ]
     },
     "metadata": {},
     "output_type": "display_data"
    },
    {
     "data": {
      "text/plain": [
       "17"
      ]
     },
     "metadata": {},
     "output_type": "display_data"
    },
    {
     "data": {
      "text/plain": [
       "Index(['6152_5-Blood_clot_DVT_bronchitis_emphysema_asthma_rhinitis_eczema_allergy_diagnosed_by_doctor_Blood_clot_in_the_leg_DVT',\n",
       "       'G6_CARPTU-Carpal_tunnel_syndrome',\n",
       "       'G6_NERPLEX-Nerve_nerve_root_and_plexus_disorders',\n",
       "       'I9_DVTANDPULM-DVT_of_lower_extremities_and_pulmonary_embolism',\n",
       "       'I9_PHLETHROMBDVTLOW-DVT_of_lower_extremities',\n",
       "       'I9_VTE-Venous_thromboembolism',\n",
       "       'K11_GALLBILPANC-Disorders_of_gallbladder_biliary_tract_and_pancreas',\n",
       "       'OTHER_ILD_CVD_COMORB-Other_ILDrelated_CVDcomorbidities',\n",
       "       'ULCERNAS-Ulcerative_colitis_NAS',\n",
       "       'VI_NERVOUS-Diseases_of_the_nervous_system',\n",
       "       'XII_SKIN_SUBCUTAN-Diseases_of_the_skin_and_subcutaneous_tissue',\n",
       "       'birth weight', 'cholelithiasis', 'deep vein thrombosis',\n",
       "       'mononeuropathy', 'phlebitis AND thrombophlebitis',\n",
       "       'pulmonary embolism'],\n",
       "      dtype='object')"
      ]
     },
     "metadata": {},
     "output_type": "display_data"
    },
    {
     "data": {
      "text/html": [
       "<h3>Cluster 54.3</h3>"
      ],
      "text/plain": [
       "<IPython.core.display.HTML object>"
      ]
     },
     "metadata": {},
     "output_type": "display_data"
    },
    {
     "data": {
      "text/plain": [
       "19"
      ]
     },
     "metadata": {},
     "output_type": "display_data"
    },
    {
     "data": {
      "text/plain": [
       "Index(['EAGLE_Eczema', 'Jones_et_al_2016_Chronotype', 'MAGNETIC_CH2.DB.ratio',\n",
       "       'MAGNETIC_HDL.C', 'MAGNETIC_IDL.TG', 'MAGNETIC_LDL.C',\n",
       "       'SSGAC_Education_Years_Pooled', 'alzheimer's disease',\n",
       "       'attention deficit hyperactivity disorder', 'bone density',\n",
       "       'coronary artery disease', 'estrogen-receptor negative breast cancer',\n",
       "       'estrogen-receptor positive breast cancer',\n",
       "       'family history of breast cancer', 'fasting blood glucose measurement',\n",
       "       'fasting blood insulin measurement', 'inflammatory bowel disease',\n",
       "       'intracranial volume measurement', 'schizophrenia'],\n",
       "      dtype='object')"
      ]
     },
     "metadata": {},
     "output_type": "display_data"
    },
    {
     "data": {
      "text/html": [
       "<h3>Cluster 54.4</h3>"
      ],
      "text/plain": [
       "<IPython.core.display.HTML object>"
      ]
     },
     "metadata": {},
     "output_type": "display_data"
    },
    {
     "data": {
      "text/plain": [
       "43"
      ]
     },
     "metadata": {},
     "output_type": "display_data"
    },
    {
     "data": {
      "text/plain": [
       "Index(['129_raw-Place_of_birth_in_UK_north_coordinate',\n",
       "       '20075_raw-Home_location_at_assessment_north_coordinate_rounded',\n",
       "       '22704_raw-Home_location_north_coordinate_rounded',\n",
       "       'ASTHMA_PNEUMONIA-Asthmarelated_pneumonia',\n",
       "       'G6_EPIPAROX-Episodal_and_paroxysmal_disorders',\n",
       "       'G6_SLEEPAPNO-Sleep_apnoea',\n",
       "       'L12_ATROPHICSKIN-Atrophic_disorders_of_skin',\n",
       "       'L12_SCARCONDITIONS-Scar_conditions_and_fibrosis_of_skin',\n",
       "       'M13_DORSOPATHYOTH-Other_dorsopathies_not_elsewhere_classified',\n",
       "       'M13_MUSCULOSKELEOTH-Other_disorders_of_the_musculoskeletal_system_and_connective_tissue',\n",
       "       'M13_SACROCOGG-Sacrococcygeal_disorders_not_elsewhere_classified',\n",
       "       'PNEUMONIA-Pneumonias_AsthmaCOPD_comorbidities',\n",
       "       'SLEEP-Sleep_disorders_combined', 'abdominal injury', 'bone disease',\n",
       "       'cardiac arrhythmia', 'checkup',\n",
       "       'chronic obstructive pulmonary disease', 'device complication',\n",
       "       'encounter with health service', 'female reproductive system disease',\n",
       "       'follow-up', 'head injury', 'headache', 'heart disease', 'injury',\n",
       "       'joint disease', 'kidney failure', 'leg injury', 'lower limb pain',\n",
       "       'mesothelioma', 'musculoskeletal system disease',\n",
       "       'musculoskeletal system disease AND connective tissue disease',\n",
       "       'nasal cavity polyp', 'pericarditis', 'pneumonia', 'poisoning',\n",
       "       'pregnancy disorder', 'skin atrophy', 'sleep disorder',\n",
       "       'soft tissue disease', 'urogenital neoplasm', 'wrist fracture'],\n",
       "      dtype='object')"
      ]
     },
     "metadata": {},
     "output_type": "display_data"
    },
    {
     "data": {
      "text/html": [
       "<h3>Cluster 54.5</h3>"
      ],
      "text/plain": [
       "<IPython.core.display.HTML object>"
      ]
     },
     "metadata": {},
     "output_type": "display_data"
    },
    {
     "data": {
      "text/plain": [
       "176"
      ]
     },
     "metadata": {},
     "output_type": "display_data"
    },
    {
     "data": {
      "text/plain": [
       "Index(['20111_101-Illnesses_of_siblings_None_of_the_above_group_2',\n",
       "       '20111_12-Illnesses_of_siblings_Severe_depression',\n",
       "       '20112_8-Illnesses_of_adopted_father_High_blood_pressure',\n",
       "       '20112_9-Illnesses_of_adopted_father_Diabetes',\n",
       "       '20113_10-Illnesses_of_adopted_mother_Alzheimers_diseasedementia',\n",
       "       '20113_101-Illnesses_of_adopted_mother_None_of_the_above_group_2',\n",
       "       '20113_2-Illnesses_of_adopted_mother_Stroke',\n",
       "       '20113_4-Illnesses_of_adopted_mother_Bowel_cancer',\n",
       "       '20113_5-Illnesses_of_adopted_mother_Breast_cancer',\n",
       "       '20113_8-Illnesses_of_adopted_mother_High_blood_pressure',\n",
       "       ...\n",
       "       '20544_14-Mental_health_problems_ever_diagnosed_by_a_professional_Autism_Aspergers_or_autistic_spectrum_disorder',\n",
       "       '20544_15-Mental_health_problems_ever_diagnosed_by_a_professional_Anxiety_nerves_or_generalized_anxiety_disorder',\n",
       "       '20544_16-Mental_health_problems_ever_diagnosed_by_a_professional_Anorexia_nervosa',\n",
       "       '20544_3-Mental_health_problems_ever_diagnosed_by_a_professional_Any_other_type_of_psychosis_or_psychotic_illness',\n",
       "       '20546_3-Substances_taken_for_depression_Medication_prescribed_to_you_for_at_least_two_weeks',\n",
       "       '20547_1-Activities_undertaken_to_treat_depression_Talking_therapies_such_as_psychotherapy_counselling_group_therapy_or_CBT',\n",
       "       '20548_3-Manifestations_of_mania_or_irritability_My_thoughts_were_racing',\n",
       "       '20549_3-Substances_taken_for_anxiety_Medication_prescribed_to_you_for_at_least_two_weeks',\n",
       "       '20550_1-Activities_undertaken_to_treat_anxiety_Talking_therapies_such_as_psychotherapy_counselling_group_therapy_or_CBT',\n",
       "       '2247_0-Hearing_difficultyproblems_No'],\n",
       "      dtype='object', length=176)"
      ]
     },
     "metadata": {},
     "output_type": "display_data"
    },
    {
     "data": {
      "text/html": [
       "<h3>Cluster 54.6</h3>"
      ],
      "text/plain": [
       "<IPython.core.display.HTML object>"
      ]
     },
     "metadata": {},
     "output_type": "display_data"
    },
    {
     "data": {
      "text/plain": [
       "390"
      ]
     },
     "metadata": {},
     "output_type": "display_data"
    },
    {
     "data": {
      "text/plain": [
       "Index(['100010-Portion_size', '1001-Duration_of_strenuous_sports',\n",
       "       '100150-Drinking_water_intake', '100160-Low_calorie_drink_intake',\n",
       "       '100170-Fizzy_drink_intake', '100190-Orange_juice_intake',\n",
       "       '100360-Decaffeinated_coffee', '100370-Intake_of_sugar_added_to_coffee',\n",
       "       '100390-Tea_consumed', '100400-Standard_tea_intake',\n",
       "       ...\n",
       "       'viral disease', 'viral human hepatitis infection', 'viral meningitis',\n",
       "       'visual impairment', 'vitiligo', 'vitreous body disease',\n",
       "       'vocal cord polyp', 'voice disorders',\n",
       "       'wellbeing measurement AND family relationship', 'whooping cough'],\n",
       "      dtype='object', length=390)"
      ]
     },
     "metadata": {},
     "output_type": "display_data"
    },
    {
     "data": {
      "text/html": [
       "<h3>Cluster 54.7</h3>"
      ],
      "text/plain": [
       "<IPython.core.display.HTML object>"
      ]
     },
     "metadata": {},
     "output_type": "display_data"
    },
    {
     "data": {
      "text/plain": [
       "218"
      ]
     },
     "metadata": {},
     "output_type": "display_data"
    },
    {
     "data": {
      "text/plain": [
       "Index(['40001_C259-Underlying_primary_cause_of_death_ICD10_C259_Pancreas_unspecified',\n",
       "       '40001_C459-Underlying_primary_cause_of_death_ICD10_C459_Mesothelioma_unspecified',\n",
       "       '41248_3001-Destinations_on_discharge_from_hospital_recoded_High_security_psychiatric_hospital_NHS',\n",
       "       '41248_5003-Destinations_on_discharge_from_hospital_recoded_Transfer_to_other_NHS_provider_Psychiatry_learning_disabilities',\n",
       "       '41248_6000-Destinations_on_discharge_from_hospital_recoded_Transfer_within_NHS_provider',\n",
       "       '4233_raw-Mean_signaltonoise_ratio_SNR_left',\n",
       "       '4244_raw-Mean_signaltonoise_ratio_SNR_right',\n",
       "       '4269-Number_of_triplets_attempted_left',\n",
       "       '4270-Volume_level_set_by_participant_left',\n",
       "       '4276-Number_of_triplets_attempted_right',\n",
       "       ...\n",
       "       '6158_1-Why_reduced_smoking_Illness_or_ill_health',\n",
       "       '6158_100-Why_reduced_smoking_None_of_the_above',\n",
       "       '6158_2-Why_reduced_smoking_Doctors_advice',\n",
       "       '6158_3-Why_reduced_smoking_Health_precaution',\n",
       "       '6158_4-Why_reduced_smoking_Financial_reasons',\n",
       "       '6159_2-Pain_types_experienced_in_last_month_Facial_pain',\n",
       "       '6159_8-Pain_types_experienced_in_last_month_Pain_all_over_the_body',\n",
       "       '6162_100-Types_of_transport_used_excluding_work_None_of_the_above',\n",
       "       '709-Number_in_household', 'C_PANCREAS-Malignant_neoplasm_of_pancreas'],\n",
       "      dtype='object', length=218)"
      ]
     },
     "metadata": {},
     "output_type": "display_data"
    },
    {
     "data": {
      "text/html": [
       "<h3>Cluster 54.8</h3>"
      ],
      "text/plain": [
       "<IPython.core.display.HTML object>"
      ]
     },
     "metadata": {},
     "output_type": "display_data"
    },
    {
     "data": {
      "text/plain": [
       "3"
      ]
     },
     "metadata": {},
     "output_type": "display_data"
    },
    {
     "data": {
      "text/plain": [
       "Index(['eczema', 'seasonal allergic rhinitis',\n",
       "       'seasonal allergic rhinitis AND allergic rhinitis'],\n",
       "      dtype='object')"
      ]
     },
     "metadata": {},
     "output_type": "display_data"
    },
    {
     "data": {
      "text/html": [
       "<h3>Cluster 54.9</h3>"
      ],
      "text/plain": [
       "<IPython.core.display.HTML object>"
      ]
     },
     "metadata": {},
     "output_type": "display_data"
    },
    {
     "data": {
      "text/plain": [
       "223"
      ]
     },
     "metadata": {},
     "output_type": "display_data"
    },
    {
     "data": {
      "text/plain": [
       "Index(['40001_G122-Underlying_primary_cause_of_death_ICD10_G122_Motor_neuron_disease',\n",
       "       'AB1_INFECTIONS-Certain_infectious_and_parasitic_diseases',\n",
       "       'AB1_INTESTINAL_INFECTIONS-Intestinal_infectious_diseases',\n",
       "       'AB1_VIRAL_HEPATITIS-Viral_hepatitis',\n",
       "       'C3_ENDOCRINE-Malignant_neoplasm_of_endocrine_gland',\n",
       "       'C3_FEMALE_GENITAL-malignant_neoplasm_of_female_genital_organs',\n",
       "       'C_CORPUS_UTERI-Malignant_neoplasm_of_corpus_uteri', 'C_ENDOCRINE',\n",
       "       'C_FEMALE_GENITAL', 'C_OVARY-Malignant_neoplasm_of_ovary',\n",
       "       ...\n",
       "       'immune system disease', 'inner ear disease', 'keratitis',\n",
       "       'lacrimal apparatus disease', 'obesity', 'paralytic strabismus',\n",
       "       'polyneuropathy', 'purpura', 'retinal detachment',\n",
       "       'retinal vein occlusion'],\n",
       "      dtype='object', length=223)"
      ]
     },
     "metadata": {},
     "output_type": "display_data"
    },
    {
     "data": {
      "text/html": [
       "<h3>Cluster 54.10</h3>"
      ],
      "text/plain": [
       "<IPython.core.display.HTML object>"
      ]
     },
     "metadata": {},
     "output_type": "display_data"
    },
    {
     "data": {
      "text/plain": [
       "314"
      ]
     },
     "metadata": {},
     "output_type": "display_data"
    },
    {
     "data": {
      "text/plain": [
       "Index(['100013_raw-Vitamin_B12', '100018_raw-Retinol', '100019_raw-Carotene',\n",
       "       '100021_raw-Vitamin_D', '100022-Alcohol', '100240-Coffee_consumed',\n",
       "       '100250-Instant_coffee_intake', '100260-Added_milk_to_instant_coffee',\n",
       "       '100270-Filtered_coffee_intake', '100280-Added_milk_to_filtered_coffee',\n",
       "       ...\n",
       "       '20003_1140879644-Treatmentmedication_code_amantadine',\n",
       "       '20003_1140879658-Treatmentmedication_code_chlorpromazine',\n",
       "       '20003_1140879760-Treatmentmedication_code_bisoprolol',\n",
       "       '20003_1140879806-Treatmentmedication_code_diltiazem',\n",
       "       '20003_1140879842-Treatmentmedication_code_propranolol',\n",
       "       '20003_1140879854-Treatmentmedication_code_sotalol',\n",
       "       '20003_1140879866-Treatmentmedication_code_timolol',\n",
       "       '20003_1140880072-Treatmentmedication_code_gamolenic_acid',\n",
       "       '20003_1140880956-Treatmentmedication_code_fentanyl',\n",
       "       '20003_1140881320-Treatmentmedication_code_magnesium_carbonate'],\n",
       "      dtype='object', length=314)"
      ]
     },
     "metadata": {},
     "output_type": "display_data"
    },
    {
     "data": {
      "text/html": [
       "<h3>Cluster 54.11</h3>"
      ],
      "text/plain": [
       "<IPython.core.display.HTML object>"
      ]
     },
     "metadata": {},
     "output_type": "display_data"
    },
    {
     "data": {
      "text/plain": [
       "171"
      ]
     },
     "metadata": {},
     "output_type": "display_data"
    },
    {
     "data": {
      "text/plain": [
       "Index(['6152_6-Blood_clot_DVT_bronchitis_emphysema_asthma_rhinitis_eczema_allergy_diagnosed_by_doctor_Emphysemachronic_bronchitis',\n",
       "       '6157_100-Why_stopped_smoking_None_of_the_above',\n",
       "       '6157_3-Why_stopped_smoking_Health_precaution',\n",
       "       '6157_4-Why_stopped_smoking_Financial_reasons',\n",
       "       '6160_5-Leisuresocial_activities_Other_group_activity',\n",
       "       '6162_3-Types_of_transport_used_excluding_work_Public_transport',\n",
       "       '6179_4-Mineral_and_other_dietary_supplements_Zinc',\n",
       "       '6179_5-Mineral_and_other_dietary_supplements_Iron',\n",
       "       '6179_6-Mineral_and_other_dietary_supplements_Selenium',\n",
       "       '670_1-Type_of_accommodation_lived_in_A_house_or_bungalow',\n",
       "       ...\n",
       "       'H7_VITROTH-Other_and_unspecified_disorders_of_vitreous_body',\n",
       "       'H8_CERUMEN-Impacted_cerumen',\n",
       "       'IBD_ENDOMETRIOSIS-Endometriosis_IBD_comorbidity',\n",
       "       'II_NEOPLASM-Neoplasms',\n",
       "       'IV_ENDOCRIN_NUTRIT-Endocrine_nutritional_and_metabolic_diseases',\n",
       "       'abnormal cardiac septum morphology', 'corneal disease',\n",
       "       'endometriosis', 'esophageal carcinoma', 'gastroenteritis'],\n",
       "      dtype='object', length=171)"
      ]
     },
     "metadata": {},
     "output_type": "display_data"
    },
    {
     "data": {
      "text/html": [
       "<h3>Cluster 54.12</h3>"
      ],
      "text/plain": [
       "<IPython.core.display.HTML object>"
      ]
     },
     "metadata": {},
     "output_type": "display_data"
    },
    {
     "data": {
      "text/plain": [
       "208"
      ]
     },
     "metadata": {},
     "output_type": "display_data"
    },
    {
     "data": {
      "text/plain": [
       "Index(['20003_1140879616-Treatmentmedication_code_amitriptyline',\n",
       "       '20003_1140879630-Treatmentmedication_code_imipramine',\n",
       "       '20003_1140879634-Treatmentmedication_code_trazodone',\n",
       "       '20003_1140879762-Treatmentmedication_code_celiprolol',\n",
       "       '20003_1140879778-Treatmentmedication_code_doxazosin',\n",
       "       '20003_1140879792-Treatmentmedication_code_terbutaline',\n",
       "       '20003_1140879798-Treatmentmedication_code_terazosin',\n",
       "       '20003_1140879818-Treatmentmedication_code_metoprolol',\n",
       "       '20003_1140880086-Treatmentmedication_code_calcipotriol',\n",
       "       '20003_1140881446-Treatmentmedication_code_proctosedyl_ointment',\n",
       "       ...\n",
       "       '20003_1141168322-Treatmentmedication_code_plavix_75mg_tablet',\n",
       "       '20003_1141168554-Treatmentmedication_code_migraleve_tablet',\n",
       "       '20003_1141168590-Treatmentmedication_code_pariet_10mg_ec_tablet',\n",
       "       '20003_1141168684-Treatmentmedication_code_xenical_120mg_capsule',\n",
       "       '20003_1141168752-Treatmentmedication_code_peptac_liquid',\n",
       "       '20003_1141169844-Treatmentmedication_code_dexamethasonehypromellose_0105_eye_drops',\n",
       "       '20003_1141171038-Treatmentmedication_code_oxycodone_hydrochloride',\n",
       "       '20003_1141171646-Treatmentmedication_code_pioglitazone',\n",
       "       '20003_1141172698-Treatmentmedication_code_monomax_xl_60mg_mr_tablet',\n",
       "       '20003_1141172918-Treatmentmedication_code_celluvisc_1_singleuse_eye_drops'],\n",
       "      dtype='object', length=208)"
      ]
     },
     "metadata": {},
     "output_type": "display_data"
    },
    {
     "data": {
      "text/html": [
       "<h3>Cluster 54.13</h3>"
      ],
      "text/plain": [
       "<IPython.core.display.HTML object>"
      ]
     },
     "metadata": {},
     "output_type": "display_data"
    },
    {
     "data": {
      "text/plain": [
       "49"
      ]
     },
     "metadata": {},
     "output_type": "display_data"
    },
    {
     "data": {
      "text/plain": [
       "Index(['20015_raw-Sitting_height',\n",
       "       '20150_raw-Forced_expiratory_volume_in_1second_FEV1_Best_measure',\n",
       "       '20151_raw-Forced_vital_capacity_FVC_Best_measure',\n",
       "       '20153_raw-Forced_expiratory_volume_in_1second_FEV1_predicted',\n",
       "       '20154_raw-Forced_expiratory_volume_in_1second_FEV1_predicted_percentage',\n",
       "       '21001_raw-Body_mass_index_BMI', '21002_raw-Weight', '23098_raw-Weight',\n",
       "       '23099_raw-Body_fat_percentage', '23100_raw-Whole_body_fat_mass',\n",
       "       '23101_raw-Whole_body_fatfree_mass', '23102_raw-Whole_body_water_mass',\n",
       "       '23104_raw-Body_mass_index_BMI', '23105_raw-Basal_metabolic_rate',\n",
       "       '23106_raw-Impedance_of_whole_body', '23107_raw-Impedance_of_leg_right',\n",
       "       '23108_raw-Impedance_of_leg_left', '23109_raw-Impedance_of_arm_right',\n",
       "       '23110_raw-Impedance_of_arm_left', '23111_raw-Leg_fat_percentage_right',\n",
       "       '23112_raw-Leg_fat_mass_right', '23113_raw-Leg_fatfree_mass_right',\n",
       "       '23114_raw-Leg_predicted_mass_right',\n",
       "       '23115_raw-Leg_fat_percentage_left', '23116_raw-Leg_fat_mass_left',\n",
       "       '23117_raw-Leg_fatfree_mass_left', '23118_raw-Leg_predicted_mass_left',\n",
       "       '23119_raw-Arm_fat_percentage_right', '23120_raw-Arm_fat_mass_right',\n",
       "       '23121_raw-Arm_fatfree_mass_right',\n",
       "       '23122_raw-Arm_predicted_mass_right',\n",
       "       '23123_raw-Arm_fat_percentage_left', '23124_raw-Arm_fat_mass_left',\n",
       "       '23125_raw-Arm_fatfree_mass_left', '23126_raw-Arm_predicted_mass_left',\n",
       "       '23127_raw-Trunk_fat_percentage', '23128_raw-Trunk_fat_mass',\n",
       "       '23129_raw-Trunk_fatfree_mass', '23130_raw-Trunk_predicted_mass',\n",
       "       '3062_raw-Forced_vital_capacity_FVC',\n",
       "       '3063_raw-Forced_expiratory_volume_in_1second_FEV1',\n",
       "       '3064_raw-Peak_expiratory_flow_PEF', '3143_raw-Ankle_spacing_width',\n",
       "       '4100_raw-Ankle_spacing_width_left',\n",
       "       '4119_raw-Ankle_spacing_width_right', '48_raw-Waist_circumference',\n",
       "       '49_raw-Hip_circumference', '50_raw-Standing_height', 'body height'],\n",
       "      dtype='object')"
      ]
     },
     "metadata": {},
     "output_type": "display_data"
    },
    {
     "data": {
      "text/html": [
       "<h3>Cluster 54.14</h3>"
      ],
      "text/plain": [
       "<IPython.core.display.HTML object>"
      ]
     },
     "metadata": {},
     "output_type": "display_data"
    },
    {
     "data": {
      "text/plain": [
       "5"
      ]
     },
     "metadata": {},
     "output_type": "display_data"
    },
    {
     "data": {
      "text/plain": [
       "Index(['20003_1140860696-Treatmentmedication_code_lisinopril',\n",
       "       '20003_1140860806-Treatmentmedication_code_ramipril',\n",
       "       '20003_1140866738-Treatmentmedication_code_atenolol',\n",
       "       '20003_1140884600-Treatmentmedication_code_metformin',\n",
       "       'diabetes mellitus'],\n",
       "      dtype='object')"
      ]
     },
     "metadata": {},
     "output_type": "display_data"
    },
    {
     "data": {
      "text/html": [
       "<h3>Cluster 54.15</h3>"
      ],
      "text/plain": [
       "<IPython.core.display.HTML object>"
      ]
     },
     "metadata": {},
     "output_type": "display_data"
    },
    {
     "data": {
      "text/plain": [
       "21"
      ]
     },
     "metadata": {},
     "output_type": "display_data"
    },
    {
     "data": {
      "text/plain": [
       "Index(['20003_2038460150-Treatmentmedication_code_paracetamol',\n",
       "       '20016_raw-Fluid_intelligence_score', '20022_raw-Birth_weight',\n",
       "       '20023_raw-Mean_time_to_correctly_identify_matches',\n",
       "       '20074_raw-Home_location_at_assessment_east_coordinate_rounded',\n",
       "       '20077-Number_of_diet_questionnaires_completed',\n",
       "       '20086_8-Type_of_special_diet_followed_Glutenfree',\n",
       "       '20107_1-Illnesses_of_father_Heart_disease',\n",
       "       '20107_100-Illnesses_of_father_None_of_the_above_group_1',\n",
       "       '20107_3-Illnesses_of_father_Lung_cancer',\n",
       "       '20107_8-Illnesses_of_father_High_blood_pressure',\n",
       "       '20107_9-Illnesses_of_father_Diabetes',\n",
       "       '20110_1-Illnesses_of_mother_Heart_disease',\n",
       "       '20110_10-Illnesses_of_mother_Alzheimers_diseasedementia',\n",
       "       '20110_100-Illnesses_of_mother_None_of_the_above_group_1',\n",
       "       '20110_8-Illnesses_of_mother_High_blood_pressure',\n",
       "       '20110_9-Illnesses_of_mother_Diabetes',\n",
       "       '20111_1-Illnesses_of_siblings_Heart_disease',\n",
       "       '20111_100-Illnesses_of_siblings_None_of_the_above_group_1',\n",
       "       '20111_8-Illnesses_of_siblings_High_blood_pressure',\n",
       "       '20111_9-Illnesses_of_siblings_Diabetes'],\n",
       "      dtype='object')"
      ]
     },
     "metadata": {},
     "output_type": "display_data"
    },
    {
     "data": {
      "text/html": [
       "<h3>Cluster 54.16</h3>"
      ],
      "text/plain": [
       "<IPython.core.display.HTML object>"
      ]
     },
     "metadata": {},
     "output_type": "display_data"
    },
    {
     "data": {
      "text/plain": [
       "7"
      ]
     },
     "metadata": {},
     "output_type": "display_data"
    },
    {
     "data": {
      "text/plain": [
       "Index(['1717-Skin_colour', '1727-Ease_of_skin_tanning',\n",
       "       '1747_1-Hair_colour_natural_before_greying_Blonde',\n",
       "       '1747_2-Hair_colour_natural_before_greying_Red',\n",
       "       '1747_3-Hair_colour_natural_before_greying_Light_brown',\n",
       "       '1747_4-Hair_colour_natural_before_greying_Dark_brown',\n",
       "       '1747_5-Hair_colour_natural_before_greying_Black'],\n",
       "      dtype='object')"
      ]
     },
     "metadata": {},
     "output_type": "display_data"
    },
    {
     "data": {
      "text/html": [
       "<h3>Cluster 54.17</h3>"
      ],
      "text/plain": [
       "<IPython.core.display.HTML object>"
      ]
     },
     "metadata": {},
     "output_type": "display_data"
    },
    {
     "data": {
      "text/plain": [
       "5"
      ]
     },
     "metadata": {},
     "output_type": "display_data"
    },
    {
     "data": {
      "text/plain": [
       "Index(['30080_raw-Platelet_count', '30090_raw-Platelet_crit',\n",
       "       '30100_raw-Mean_platelet_thrombocyte_volume',\n",
       "       '30110_raw-Platelet_distribution_width', 'platelet count'],\n",
       "      dtype='object')"
      ]
     },
     "metadata": {},
     "output_type": "display_data"
    },
    {
     "data": {
      "text/html": [
       "<h3>Cluster 54.18</h3>"
      ],
      "text/plain": [
       "<IPython.core.display.HTML object>"
      ]
     },
     "metadata": {},
     "output_type": "display_data"
    },
    {
     "data": {
      "text/plain": [
       "6"
      ]
     },
     "metadata": {},
     "output_type": "display_data"
    },
    {
     "data": {
      "text/plain": [
       "Index(['40001_C349-Underlying_primary_cause_of_death_ICD10_C349_Bronchus_or_lung_unspecified',\n",
       "       'C3_RESPIRATORY_INTRATHORACIC-Malignant_neoplasm_of_respiratory_system_and_intrathoracic_organs',\n",
       "       'C_BRONCHUS_LUNG-Malignant_neoplasm_of_bronchus_and_lung',\n",
       "       'C_RESPIRATORY_INTRATHORACIC',\n",
       "       'LUNG_CANCER_MESOT-Lung_cancer_and_mesothelioma', 'lung carcinoma'],\n",
       "      dtype='object')"
      ]
     },
     "metadata": {},
     "output_type": "display_data"
    },
    {
     "data": {
      "text/html": [
       "<h3>Cluster 54.19</h3>"
      ],
      "text/plain": [
       "<IPython.core.display.HTML object>"
      ]
     },
     "metadata": {},
     "output_type": "display_data"
    },
    {
     "data": {
      "text/plain": [
       "7"
      ]
     },
     "metadata": {},
     "output_type": "display_data"
    },
    {
     "data": {
      "text/plain": [
       "Index(['1707_1-Handedness_chiralitylaterality_Righthanded',\n",
       "       '20003_1140865634-Treatmentmedication_code_omeprazole',\n",
       "       'KNEE_ARTHROSIS-Gonarthrosis_arthrosis_of_kneeFG',\n",
       "       'M13_ARTHROSIS-Arthrosis', 'depressive episode measurement',\n",
       "       'functional laterality', 'osteoarthritis, knee'],\n",
       "      dtype='object')"
      ]
     },
     "metadata": {},
     "output_type": "display_data"
    },
    {
     "data": {
      "text/html": [
       "<h3>Cluster 54.20</h3>"
      ],
      "text/plain": [
       "<IPython.core.display.HTML object>"
      ]
     },
     "metadata": {},
     "output_type": "display_data"
    },
    {
     "data": {
      "text/plain": [
       "175"
      ]
     },
     "metadata": {},
     "output_type": "display_data"
    },
    {
     "data": {
      "text/plain": [
       "Index(['1021-Duration_of_light_DIY', '102_raw-Pulse_rate_automated_reading',\n",
       "       '1050-Time_spend_outdoors_in_summer',\n",
       "       '1060-Time_spent_outdoors_in_winter',\n",
       "       '1070-Time_spent_watching_television_TV',\n",
       "       '1080-Time_spent_using_computer', '1090-Time_spent_driving',\n",
       "       '1100-Drive_faster_than_motorway_speed_limit',\n",
       "       '110001-Invitation_to_complete_online_24hour_recall_dietary_questionnaire_acceptance',\n",
       "       '1110-Length_of_mobile_phone_use',\n",
       "       ...\n",
       "       'self rated health', 'self reported educational attainment',\n",
       "       'sleep duration', 'smoking behavior', 'smoking cessation',\n",
       "       'snoring measurement', 'tiredness measurement', 'varicose veins',\n",
       "       'wheezing', 'worry measurement'],\n",
       "      dtype='object', length=175)"
      ]
     },
     "metadata": {},
     "output_type": "display_data"
    },
    {
     "data": {
      "text/html": [
       "<h3>Cluster 54.21</h3>"
      ],
      "text/plain": [
       "<IPython.core.display.HTML object>"
      ]
     },
     "metadata": {},
     "output_type": "display_data"
    },
    {
     "data": {
      "text/plain": [
       "4"
      ]
     },
     "metadata": {},
     "output_type": "display_data"
    },
    {
     "data": {
      "text/plain": [
       "Index(['C3_MALE_GENITAL-malignant_neoplasm_of_male_genital_organs',\n",
       "       'C_MALE_GENITAL', 'C_PROSTATE-Malignant_neoplasm_of_prostate',\n",
       "       'prostate carcinoma'],\n",
       "      dtype='object')"
      ]
     },
     "metadata": {},
     "output_type": "display_data"
    },
    {
     "data": {
      "text/html": [
       "<h3>Cluster 54.22</h3>"
      ],
      "text/plain": [
       "<IPython.core.display.HTML object>"
      ]
     },
     "metadata": {},
     "output_type": "display_data"
    },
    {
     "data": {
      "text/plain": [
       "15"
      ]
     },
     "metadata": {},
     "output_type": "display_data"
    },
    {
     "data": {
      "text/plain": [
       "Index(['20003_1140868226-Treatmentmedication_code_aspirin',\n",
       "       '20003_1141146234-Treatmentmedication_code_atorvastatin',\n",
       "       '6150_1-Vascularheart_problems_diagnosed_by_doctor_Heart_attack',\n",
       "       '6150_2-Vascularheart_problems_diagnosed_by_doctor_Angina',\n",
       "       '6154_1-Medication_for_pain_relief_constipation_heartburn_Aspirin',\n",
       "       'I9_CHD-Major_coronary_heart_disease_event',\n",
       "       'I9_CHD_NOREV-Major_coronary_heart_disease_event_excluding_revascularizations',\n",
       "       'I9_CORATHER-Coronary_atherosclerosis',\n",
       "       'I9_IHD-Ischaemic_heart_disease_wide_definition',\n",
       "       'I9_MI-Myocardial_infarction',\n",
       "       'I9_MI_STRICT-Myocardial_infarction_strict',\n",
       "       'IX_CIRCULATORY-Diseases_of_the_circulatory_system',\n",
       "       'acute myocardial infarction', 'angina pectoris',\n",
       "       'myocardial infarction'],\n",
       "      dtype='object')"
      ]
     },
     "metadata": {},
     "output_type": "display_data"
    },
    {
     "data": {
      "text/html": [
       "<h3>Cluster 54.23</h3>"
      ],
      "text/plain": [
       "<IPython.core.display.HTML object>"
      ]
     },
     "metadata": {},
     "output_type": "display_data"
    },
    {
     "data": {
      "text/plain": [
       "42"
      ]
     },
     "metadata": {},
     "output_type": "display_data"
    },
    {
     "data": {
      "text/plain": [
       "Index(['41231_1-Hospital_episode_type_General_episode',\n",
       "       '41248_1000-Destinations_on_discharge_from_hospital_recoded_Usual_Place_of_residence',\n",
       "       '4194_raw-Pulse_rate', '4196_raw-Pulse_wave_peak_to_peak_time',\n",
       "       '4260-Round_of_numeric_memory_test',\n",
       "       '4282-Maximum_digits_remembered_correctly',\n",
       "       '4283-Number_of_rounds_of_numeric_memory_test_performed',\n",
       "       '4290_raw-Duration_screen_displayed', '4291-Number_of_attempts',\n",
       "       '4803_0-Tinnitus_No_never', '4825-Noisy_workplace',\n",
       "       '4957-FI3_word_interpolation', '4968-FI4_positional_arithmetic',\n",
       "       '4979-FI5_family_relationship_calculation',\n",
       "       '4990-FI6_conditional_arithmetic', '5001-FI7_synonym',\n",
       "       '5012-FI8_chained_arithmetic', '5084_raw-Spherical_power_right',\n",
       "       '5085_raw-Spherical_power_left',\n",
       "       '5254_raw-Intraocular_pressure_cornealcompensated_right',\n",
       "       '5255_raw-Intraocular_pressure_Goldmanncorrelated_right',\n",
       "       '5256_raw-Corneal_hysteresis_right',\n",
       "       '5257_raw-Corneal_resistance_factor_right',\n",
       "       '5262_raw-Intraocular_pressure_cornealcompensated_left',\n",
       "       '5263_raw-Intraocular_pressure_Goldmanncorrelated_left',\n",
       "       '5264_raw-Corneal_hysteresis_left',\n",
       "       '5265_raw-Corneal_resistance_factor_left',\n",
       "       '5556-FI9_concept_interpolation',\n",
       "       '6138_3-Qualifications_O_levelsGCSEs_or_equivalent',\n",
       "       '6138_4-Qualifications_CSEs_or_equivalent',\n",
       "       '6138_6-Qualifications_Other_professional_qualifications_eg_nursing_teaching',\n",
       "       '6139_3-Gas_or_solidfuel_cookingheating_An_open_solid_fuel_fire_that_you_use_regularly_in_winter_time',\n",
       "       '6141_1-How_are_people_in_household_related_to_participant_Husband_wife_or_partner',\n",
       "       '6142_4-Current_employment_status_Unable_to_work_because_of_sickness_or_disability',\n",
       "       '6143_3-Transport_type_for_commuting_to_job_workplace_Public_transport',\n",
       "       '6143_4-Transport_type_for_commuting_to_job_workplace_Cycle',\n",
       "       '6145_100-Illness_injury_bereavement_stress_in_last_2_years_None_of_the_above',\n",
       "       '6145_6-Illness_injury_bereavement_stress_in_last_2_years_Financial_difficulties',\n",
       "       '6146_1-Attendancedisabilitymobility_allowance_Attendance_allowance',\n",
       "       '6149_3-Mouthteeth_dental_problems_Bleeding_gums',\n",
       "       '6151_7-Fractured_bone_sites_Other_bones', 'episodic memory'],\n",
       "      dtype='object')"
      ]
     },
     "metadata": {},
     "output_type": "display_data"
    },
    {
     "data": {
      "text/html": [
       "<h3>Cluster 54.24</h3>"
      ],
      "text/plain": [
       "<IPython.core.display.HTML object>"
      ]
     },
     "metadata": {},
     "output_type": "display_data"
    },
    {
     "data": {
      "text/plain": [
       "245"
      ]
     },
     "metadata": {},
     "output_type": "display_data"
    },
    {
     "data": {
      "text/plain": [
       "Index(['20003_1141167940-Treatmentmedication_code_maxalt_5mg_tablet',\n",
       "       '20003_1141168318-Treatmentmedication_code_clopidogrel',\n",
       "       '20003_1141168584-Treatmentmedication_code_rabeprazole_sodium',\n",
       "       '20003_1141168680-Treatmentmedication_code_orlistat',\n",
       "       '20003_1141169520-Treatmentmedication_code_cosopt_205_eye_drops',\n",
       "       '20003_1141171152-Treatmentmedication_code_cardicor_125mg_tablet',\n",
       "       '20003_1141171336-Treatmentmedication_code_eprosartan',\n",
       "       '20003_1141171496-Treatmentmedication_code_trospium',\n",
       "       '20003_1141171932-Treatmentmedication_code_levetiracetam',\n",
       "       '20003_1141171940-Treatmentmedication_code_keppra_250mg_tablet',\n",
       "       ...\n",
       "       '20112_13-Illnesses_of_adopted_father_Prostate_cancer',\n",
       "       '20112_2-Illnesses_of_adopted_father_Stroke',\n",
       "       '20112_3-Illnesses_of_adopted_father_Lung_cancer',\n",
       "       '20112_4-Illnesses_of_adopted_father_Bowel_cancer',\n",
       "       '20112_6-Illnesses_of_adopted_father_Chronic_bronchitisemphysema',\n",
       "       '20113_1-Illnesses_of_adopted_mother_Heart_disease',\n",
       "       '20113_100-Illnesses_of_adopted_mother_None_of_the_above_group_1',\n",
       "       '20113_12-Illnesses_of_adopted_mother_Severe_depression',\n",
       "       '20113_3-Illnesses_of_adopted_mother_Lung_cancer',\n",
       "       '20113_6-Illnesses_of_adopted_mother_Chronic_bronchitisemphysema'],\n",
       "      dtype='object', length=245)"
      ]
     },
     "metadata": {},
     "output_type": "display_data"
    },
    {
     "data": {
      "text/html": [
       "<h3>Cluster 54.25</h3>"
      ],
      "text/plain": [
       "<IPython.core.display.HTML object>"
      ]
     },
     "metadata": {},
     "output_type": "display_data"
    },
    {
     "data": {
      "text/plain": [
       "18"
      ]
     },
     "metadata": {},
     "output_type": "display_data"
    },
    {
     "data": {
      "text/plain": [
       "Index(['100001_raw-Food_weight', '100002_raw-Energy', '100003_raw-Protein',\n",
       "       '100004_raw-Fat', '100005_raw-Carbohydrate', '100006_raw-Saturated_fat',\n",
       "       '100007_raw-Polyunsaturated_fat', '100008_raw-Total_sugars',\n",
       "       '100009_raw-Englyst_dietary_fibre', '100011_raw-Iron',\n",
       "       '100012_raw-Vitamin_B6', '100014_raw-Folate', '100015_raw-Vitamin_C',\n",
       "       '100016_raw-Potassium', '100017_raw-Magnesium', '100023_raw-Starch',\n",
       "       '100024_raw-Calcium', '100025_raw-Vitamin_E'],\n",
       "      dtype='object')"
      ]
     },
     "metadata": {},
     "output_type": "display_data"
    },
    {
     "data": {
      "text/html": [
       "<h3>Cluster 54.26</h3>"
      ],
      "text/plain": [
       "<IPython.core.display.HTML object>"
      ]
     },
     "metadata": {},
     "output_type": "display_data"
    },
    {
     "data": {
      "text/plain": [
       "24"
      ]
     },
     "metadata": {},
     "output_type": "display_data"
    },
    {
     "data": {
      "text/plain": [
       "Index(['2267-Use_of_sunuv_protection',\n",
       "       '22702_raw-Home_location_east_coordinate_rounded',\n",
       "       '2395_1-Hairbalding_pattern_Pattern_1',\n",
       "       '2473-Other_serious_medical_conditiondisability_diagnosed_by_doctor',\n",
       "       '2492-Taking_other_prescription_medications',\n",
       "       '2634-Duration_of_heavy_DIY', '2754_raw-Age_at_first_live_birth',\n",
       "       '2764_raw-Age_at_last_live_birth',\n",
       "       '2794_raw-Age_started_oral_contraceptive_pill',\n",
       "       '2887-Number_of_cigarettes_previously_smoked_daily',\n",
       "       '30160-Basophill_count', '30220_raw-Basophill_percentage',\n",
       "       '30510_raw-Creatinine_enzymatic_in_urine',\n",
       "       '30520_raw-Potassium_in_urine', '30530_raw-Sodium_in_urine',\n",
       "       '3526_raw-Mothers_age_at_death',\n",
       "       '3536_raw-Age_started_hormonereplacement_therapy_HRT',\n",
       "       '3581_raw-Age_at_menopause_last_menstrual_period',\n",
       "       '3761_raw-Age_hay_fever_rhinitis_or_eczema_diagnosed',\n",
       "       '3786_raw-Age_asthma_diagnosed',\n",
       "       '399_raw-Number_of_incorrect_matches_in_round',\n",
       "       '400_raw-Time_to_complete_round',\n",
       "       '404_raw-Duration_to_first_press_of_snapbutton_in_each_round',\n",
       "       '41235-Spells_in_hospital'],\n",
       "      dtype='object')"
      ]
     },
     "metadata": {},
     "output_type": "display_data"
    },
    {
     "data": {
      "text/html": [
       "<h3>Cluster 54.27</h3>"
      ],
      "text/plain": [
       "<IPython.core.display.HTML object>"
      ]
     },
     "metadata": {},
     "output_type": "display_data"
    },
    {
     "data": {
      "text/plain": [
       "15"
      ]
     },
     "metadata": {},
     "output_type": "display_data"
    },
    {
     "data": {
      "text/plain": [
       "Index(['20003_1140861958-Treatmentmedication_code_simvastatin',\n",
       "       '20003_1140879802-Treatmentmedication_code_amlodipine',\n",
       "       '20003_1141194794-Treatmentmedication_code_bendroflumethiazide',\n",
       "       '4079_raw-Diastolic_blood_pressure_automated_reading',\n",
       "       '4080_raw-Systolic_blood_pressure_automated_reading',\n",
       "       '6150_100-Vascularheart_problems_diagnosed_by_doctor_None_of_the_above',\n",
       "       '6150_4-Vascularheart_problems_diagnosed_by_doctor_High_blood_pressure',\n",
       "       '6153_1-Medication_for_cholesterol_blood_pressure_diabetes_or_take_exogenous_hormones_Cholesterol_lowering_medication',\n",
       "       '6153_100-Medication_for_cholesterol_blood_pressure_diabetes_or_take_exogenous_hormones_None_of_the_above',\n",
       "       '6153_2-Medication_for_cholesterol_blood_pressure_diabetes_or_take_exogenous_hormones_Blood_pressure_medication',\n",
       "       '6177_1-Medication_for_cholesterol_blood_pressure_or_diabetes_Cholesterol_lowering_medication',\n",
       "       '6177_100-Medication_for_cholesterol_blood_pressure_or_diabetes_None_of_the_above',\n",
       "       '6177_2-Medication_for_cholesterol_blood_pressure_or_diabetes_Blood_pressure_medication',\n",
       "       'hypercholesterolemia', 'hypertension'],\n",
       "      dtype='object')"
      ]
     },
     "metadata": {},
     "output_type": "display_data"
    },
    {
     "data": {
      "text/html": [
       "<h3>Cluster 54.28</h3>"
      ],
      "text/plain": [
       "<IPython.core.display.HTML object>"
      ]
     },
     "metadata": {},
     "output_type": "display_data"
    },
    {
     "data": {
      "text/plain": [
       "3"
      ]
     },
     "metadata": {},
     "output_type": "display_data"
    },
    {
     "data": {
      "text/plain": [
       "Index(['L12_ACTINKERA-Actinic_keratosis',\n",
       "       'L12_NONIONRADISKIN-Skin_changes_due_to_chronic_exposure_to_nonionizing_radiation',\n",
       "       'radiation-induced disorder'],\n",
       "      dtype='object')"
      ]
     },
     "metadata": {},
     "output_type": "display_data"
    },
    {
     "data": {
      "text/html": [
       "<h3>Cluster 54.29</h3>"
      ],
      "text/plain": [
       "<IPython.core.display.HTML object>"
      ]
     },
     "metadata": {},
     "output_type": "display_data"
    },
    {
     "data": {
      "text/plain": [
       "15"
      ]
     },
     "metadata": {},
     "output_type": "display_data"
    },
    {
     "data": {
      "text/plain": [
       "Index(['30010_raw-Red_blood_cell_erythrocyte_count',\n",
       "       '30020_raw-Haemoglobin_concentration',\n",
       "       '30030_raw-Haematocrit_percentage', '30040_raw-Mean_corpuscular_volume',\n",
       "       '30050_raw-Mean_corpuscular_haemoglobin',\n",
       "       '30070_raw-Red_blood_cell_erythrocyte_distribution_width',\n",
       "       '30240_raw-Reticulocyte_percentage', '30250_raw-Reticulocyte_count',\n",
       "       '30260_raw-Mean_reticulocyte_volume',\n",
       "       '30270_raw-Mean_sphered_cell_volume',\n",
       "       '30280_raw-Immature_reticulocyte_fraction',\n",
       "       '30290_raw-High_light_scatter_reticulocyte_percentage',\n",
       "       '30300_raw-High_light_scatter_reticulocyte_count', 'erythrocyte count',\n",
       "       'reticulocyte count'],\n",
       "      dtype='object')"
      ]
     },
     "metadata": {},
     "output_type": "display_data"
    },
    {
     "data": {
      "text/html": [
       "<h3>Cluster 54.30</h3>"
      ],
      "text/plain": [
       "<IPython.core.display.HTML object>"
      ]
     },
     "metadata": {},
     "output_type": "display_data"
    },
    {
     "data": {
      "text/plain": [
       "14"
      ]
     },
     "metadata": {},
     "output_type": "display_data"
    },
    {
     "data": {
      "text/plain": [
       "Index(['20003_1140884516-Treatmentmedication_code_thyroxine_product',\n",
       "       'K11_OTHDIG-Other_diseases_of_the_digestive_system',\n",
       "       'M13_POLYARTHROPATHIES-Polyarthropathies',\n",
       "       'M13_RHEUMA-Rheumatoid_arthritis',\n",
       "       'RHEUMA_NOS-Otherunspecified_rheumatoid_arthritis',\n",
       "       'RHEUMA_SEROPOS-Seropositive_rheumatoid_arthritis',\n",
       "       'RHEUMA_SEROPOS_OTH-Otherunspecified_seropositiverheumatoid_arthritis',\n",
       "       'STILL_ADULT-Adultonset_Still_disease', 'adrenocortical insufficiency',\n",
       "       'ankylosing spondylitis', 'benign prostatic hyperplasia', 'hematuria',\n",
       "       'multiple sclerosis', 'psoriatic arthritis'],\n",
       "      dtype='object')"
      ]
     },
     "metadata": {},
     "output_type": "display_data"
    },
    {
     "data": {
      "text/html": [
       "<h3>Cluster 54.31</h3>"
      ],
      "text/plain": [
       "<IPython.core.display.HTML object>"
      ]
     },
     "metadata": {},
     "output_type": "display_data"
    },
    {
     "data": {
      "text/plain": [
       "1"
      ]
     },
     "metadata": {},
     "output_type": "display_data"
    },
    {
     "data": {
      "text/plain": [
       "Index(['30060_raw-Mean_corpuscular_haemoglobin_concentration'], dtype='object')"
      ]
     },
     "metadata": {},
     "output_type": "display_data"
    },
    {
     "data": {
      "text/html": [
       "<h3>Cluster 54.32</h3>"
      ],
      "text/plain": [
       "<IPython.core.display.HTML object>"
      ]
     },
     "metadata": {},
     "output_type": "display_data"
    },
    {
     "data": {
      "text/plain": [
       "8"
      ]
     },
     "metadata": {},
     "output_type": "display_data"
    },
    {
     "data": {
      "text/plain": [
       "Index(['24003_raw-Nitrogen_dioxide_air_pollution_2010',\n",
       "       '24004_raw-Nitrogen_oxides_air_pollution_2010',\n",
       "       '24006_raw-Particulate_matter_air_pollution_pm25_2010',\n",
       "       '24007_raw-Particulate_matter_air_pollution_pm25_absorbance_2010',\n",
       "       '24016_raw-Nitrogen_dioxide_air_pollution_2005',\n",
       "       '24017_raw-Nitrogen_dioxide_air_pollution_2006',\n",
       "       '24018_raw-Nitrogen_dioxide_air_pollution_2007',\n",
       "       '24019_raw-Particulate_matter_air_pollution_pm10_2007'],\n",
       "      dtype='object')"
      ]
     },
     "metadata": {},
     "output_type": "display_data"
    },
    {
     "data": {
      "text/html": [
       "<h3>Cluster 54.33</h3>"
      ],
      "text/plain": [
       "<IPython.core.display.HTML object>"
      ]
     },
     "metadata": {},
     "output_type": "display_data"
    },
    {
     "data": {
      "text/plain": [
       "8"
      ]
     },
     "metadata": {},
     "output_type": "display_data"
    },
    {
     "data": {
      "text/plain": [
       "Index(['5096_raw-3mm_weak_meridian_left', '5097_raw-6mm_weak_meridian_left',\n",
       "       '5098_raw-6mm_weak_meridian_right', '5099_raw-3mm_weak_meridian_right',\n",
       "       '5132_raw-3mm_strong_meridian_right',\n",
       "       '5133_raw-6mm_strong_meridian_right',\n",
       "       '5134_raw-6mm_strong_meridian_left',\n",
       "       '5135_raw-3mm_strong_meridian_left'],\n",
       "      dtype='object')"
      ]
     },
     "metadata": {},
     "output_type": "display_data"
    },
    {
     "data": {
      "text/html": [
       "<h3>Cluster 54.34</h3>"
      ],
      "text/plain": [
       "<IPython.core.display.HTML object>"
      ]
     },
     "metadata": {},
     "output_type": "display_data"
    },
    {
     "data": {
      "text/plain": [
       "1"
      ]
     },
     "metadata": {},
     "output_type": "display_data"
    },
    {
     "data": {
      "text/plain": [
       "Index(['mineral metabolism disease'], dtype='object')"
      ]
     },
     "metadata": {},
     "output_type": "display_data"
    },
    {
     "data": {
      "text/html": [
       "<h3>Cluster 54.35</h3>"
      ],
      "text/plain": [
       "<IPython.core.display.HTML object>"
      ]
     },
     "metadata": {},
     "output_type": "display_data"
    },
    {
     "data": {
      "text/plain": [
       "4"
      ]
     },
     "metadata": {},
     "output_type": "display_data"
    },
    {
     "data": {
      "text/plain": [
       "Index(['HEARTFAIL-Heart_failure', 'I9_HEARTFAIL-Heart_failurestrict',\n",
       "       'I9_HEARTFAIL_NS-Heart_failure_not_strict', 'heart failure'],\n",
       "      dtype='object')"
      ]
     },
     "metadata": {},
     "output_type": "display_data"
    },
    {
     "data": {
      "text/html": [
       "<h3>Cluster 54.36</h3>"
      ],
      "text/plain": [
       "<IPython.core.display.HTML object>"
      ]
     },
     "metadata": {},
     "output_type": "display_data"
    },
    {
     "data": {
      "text/plain": [
       "4"
      ]
     },
     "metadata": {},
     "output_type": "display_data"
    },
    {
     "data": {
      "text/plain": [
       "Index(['COPD_EXCL-COPD_differential_diagnosis',\n",
       "       'ILD_DIFF_DG-ILD_differential_diagnosis',\n",
       "       'PULMONARYDG-Other_pulmonary_diagnosis',\n",
       "       'X_RESPIRATORY-Diseases_of_the_respiratory_system'],\n",
       "      dtype='object')"
      ]
     },
     "metadata": {},
     "output_type": "display_data"
    },
    {
     "data": {
      "text/html": [
       "<h3>Cluster 54.37</h3>"
      ],
      "text/plain": [
       "<IPython.core.display.HTML object>"
      ]
     },
     "metadata": {},
     "output_type": "display_data"
    },
    {
     "data": {
      "text/plain": [
       "5"
      ]
     },
     "metadata": {},
     "output_type": "display_data"
    },
    {
     "data": {
      "text/plain": [
       "Index(['C_STROKE-STROKE', 'I9_STR-Stroke_excluding_SAH',\n",
       "       'I9_STR_EXH-Ischaemic_Stroke_excluding_all_haemorrhages',\n",
       "       'I9_STR_SAH-Stroke_including_SAH', 'brain infarction'],\n",
       "      dtype='object')"
      ]
     },
     "metadata": {},
     "output_type": "display_data"
    },
    {
     "data": {
      "text/html": [
       "<h3>Cluster 54.38</h3>"
      ],
      "text/plain": [
       "<IPython.core.display.HTML object>"
      ]
     },
     "metadata": {},
     "output_type": "display_data"
    },
    {
     "data": {
      "text/plain": [
       "1"
      ]
     },
     "metadata": {},
     "output_type": "display_data"
    },
    {
     "data": {
      "text/plain": [
       "Index(['1737-Childhood_sunburn_occasions'], dtype='object')"
      ]
     },
     "metadata": {},
     "output_type": "display_data"
    },
    {
     "data": {
      "text/html": [
       "<h3>Cluster 54.39</h3>"
      ],
      "text/plain": [
       "<IPython.core.display.HTML object>"
      ]
     },
     "metadata": {},
     "output_type": "display_data"
    },
    {
     "data": {
      "text/plain": [
       "12"
      ]
     },
     "metadata": {},
     "output_type": "display_data"
    },
    {
     "data": {
      "text/plain": [
       "Index(['3144_raw-Heel_Broadband_ultrasound_attenuation_direct_entry',\n",
       "       '3147_raw-Heel_quantitative_ultrasound_index_QUI_direct_entry',\n",
       "       '3148_raw-Heel_bone_mineral_density_BMD',\n",
       "       '4101_raw-Heel_broadband_ultrasound_attenuation_left',\n",
       "       '4104_raw-Heel_quantitative_ultrasound_index_QUI_direct_entry_left',\n",
       "       '4105_raw-Heel_bone_mineral_density_BMD_left',\n",
       "       '4106_raw-Heel_bone_mineral_density_BMD_Tscore_automated_left',\n",
       "       '4120_raw-Heel_broadband_ultrasound_attenuation_right',\n",
       "       '4123_raw-Heel_quantitative_ultrasound_index_QUI_direct_entry_right',\n",
       "       '4124_raw-Heel_bone_mineral_density_BMD_right',\n",
       "       '4125_raw-Heel_bone_mineral_density_BMD_Tscore_automated_right',\n",
       "       '78_raw-Heel_bone_mineral_density_BMD_Tscore_automated'],\n",
       "      dtype='object')"
      ]
     },
     "metadata": {},
     "output_type": "display_data"
    },
    {
     "data": {
      "text/html": [
       "<h3>Cluster 54.40</h3>"
      ],
      "text/plain": [
       "<IPython.core.display.HTML object>"
      ]
     },
     "metadata": {},
     "output_type": "display_data"
    },
    {
     "data": {
      "text/plain": [
       "17"
      ]
     },
     "metadata": {},
     "output_type": "display_data"
    },
    {
     "data": {
      "text/plain": [
       "Index(['20003_1140883066-Treatmentmedication_code_insulin_product',\n",
       "       '20003_1141191044-Treatmentmedication_code_levothyroxine_sodium',\n",
       "       '2976_raw-Age_diabetes_diagnosed',\n",
       "       '2986-Started_insulin_within_one_year_diagnosis_of_diabetes',\n",
       "       '6144_3-Never_eat_eggs_dairy_wheat_sugar_Wheat_products',\n",
       "       '6153_3-Medication_for_cholesterol_blood_pressure_diabetes_or_take_exogenous_hormones_Insulin',\n",
       "       '6177_3-Medication_for_cholesterol_blood_pressure_or_diabetes_Insulin',\n",
       "       'K11_COELIAC-Coeliac_disease', 'celiac disease',\n",
       "       'hyperthyroidism AND thyrotoxicosis', 'hypothyroidism AND myxedema',\n",
       "       'malabsorption syndrome', 'psoriasis', 'rheumatoid arthritis',\n",
       "       'sarcoidosis', 'systemic lupus erythematosus',\n",
       "       'type i diabetes mellitus'],\n",
       "      dtype='object')"
      ]
     },
     "metadata": {},
     "output_type": "display_data"
    },
    {
     "data": {
      "text/html": [
       "<h3>Cluster 54.41</h3>"
      ],
      "text/plain": [
       "<IPython.core.display.HTML object>"
      ]
     },
     "metadata": {},
     "output_type": "display_data"
    },
    {
     "data": {
      "text/plain": [
       "3"
      ]
     },
     "metadata": {},
     "output_type": "display_data"
    },
    {
     "data": {
      "text/plain": [
       "Index(['M13_DUPUTRYEN-Palmar_fascial_fibromatosis_Dupuytren',\n",
       "       'M13_FIBROBLASTIC-Fibroblastic_disorders', 'fibroblastic disorder'],\n",
       "      dtype='object')"
      ]
     },
     "metadata": {},
     "output_type": "display_data"
    },
    {
     "data": {
      "text/html": [
       "<h3>Cluster 54.42</h3>"
      ],
      "text/plain": [
       "<IPython.core.display.HTML object>"
      ]
     },
     "metadata": {},
     "output_type": "display_data"
    },
    {
     "data": {
      "text/plain": [
       "6"
      ]
     },
     "metadata": {},
     "output_type": "display_data"
    },
    {
     "data": {
      "text/plain": [
       "Index(['20003_1140861998-Treatmentmedication_code_ventolin_100micrograms_inhaler',\n",
       "       '30120_raw-Lymphocyte_count',\n",
       "       '6152_100-Blood_clot_DVT_bronchitis_emphysema_asthma_rhinitis_eczema_allergy_diagnosed_by_doctor_None_of_the_above',\n",
       "       '6152_8-Blood_clot_DVT_bronchitis_emphysema_asthma_rhinitis_eczema_allergy_diagnosed_by_doctor_Asthma',\n",
       "       '6152_9-Blood_clot_DVT_bronchitis_emphysema_asthma_rhinitis_eczema_allergy_diagnosed_by_doctor_Hayfever_allergic_rhinitis_or_eczema',\n",
       "       'asthma'],\n",
       "      dtype='object')"
      ]
     },
     "metadata": {},
     "output_type": "display_data"
    },
    {
     "data": {
      "text/html": [
       "<h3>Cluster 54.43</h3>"
      ],
      "text/plain": [
       "<IPython.core.display.HTML object>"
      ]
     },
     "metadata": {},
     "output_type": "display_data"
    },
    {
     "data": {
      "text/plain": [
       "1"
      ]
     },
     "metadata": {},
     "output_type": "display_data"
    },
    {
     "data": {
      "text/plain": [
       "Index(['6149_1-Mouthteeth_dental_problems_Mouth_ulcers'], dtype='object')"
      ]
     },
     "metadata": {},
     "output_type": "display_data"
    },
    {
     "data": {
      "text/html": [
       "<h3>Cluster 54.44</h3>"
      ],
      "text/plain": [
       "<IPython.core.display.HTML object>"
      ]
     },
     "metadata": {},
     "output_type": "display_data"
    },
    {
     "data": {
      "text/plain": [
       "2"
      ]
     },
     "metadata": {},
     "output_type": "display_data"
    },
    {
     "data": {
      "text/plain": [
       "Index(['46_raw-Hand_grip_strength_left', '47_raw-Hand_grip_strength_right'], dtype='object')"
      ]
     },
     "metadata": {},
     "output_type": "display_data"
    },
    {
     "data": {
      "text/html": [
       "<h3>Cluster 54.45</h3>"
      ],
      "text/plain": [
       "<IPython.core.display.HTML object>"
      ]
     },
     "metadata": {},
     "output_type": "display_data"
    },
    {
     "data": {
      "text/plain": [
       "8"
      ]
     },
     "metadata": {},
     "output_type": "display_data"
    },
    {
     "data": {
      "text/plain": [
       "Index(['24013-Total_traffic_load_on_major_roads', '24014-Close_to_major_road',\n",
       "       '24015-Sum_of_road_length_of_major_roads_within_100m',\n",
       "       '24020_raw-Average_daytime_sound_level_of_noise_pollution',\n",
       "       '24021_raw-Average_evening_sound_level_of_noise_pollution',\n",
       "       '24022_raw-Average_nighttime_sound_level_of_noise_pollution',\n",
       "       '24023_raw-Average_16hour_sound_level_of_noise_pollution',\n",
       "       '24024_raw-Average_24hour_sound_level_of_noise_pollution'],\n",
       "      dtype='object')"
      ]
     },
     "metadata": {},
     "output_type": "display_data"
    },
    {
     "data": {
      "text/html": [
       "<h3>Cluster 54.46</h3>"
      ],
      "text/plain": [
       "<IPython.core.display.HTML object>"
      ]
     },
     "metadata": {},
     "output_type": "display_data"
    },
    {
     "data": {
      "text/plain": [
       "2"
      ]
     },
     "metadata": {},
     "output_type": "display_data"
    },
    {
     "data": {
      "text/plain": [
       "Index(['20003_1140875408-Treatmentmedication_code_allopurinol', 'gout'], dtype='object')"
      ]
     },
     "metadata": {},
     "output_type": "display_data"
    },
    {
     "data": {
      "text/html": [
       "<h3>Cluster 54.47</h3>"
      ],
      "text/plain": [
       "<IPython.core.display.HTML object>"
      ]
     },
     "metadata": {},
     "output_type": "display_data"
    },
    {
     "data": {
      "text/plain": [
       "5"
      ]
     },
     "metadata": {},
     "output_type": "display_data"
    },
    {
     "data": {
      "text/plain": [
       "Index(['F5_ALLANXIOUS-All_anxiety_disorders',\n",
       "       'F5_ANXIETY-Other_anxiety_disorders',\n",
       "       'KRA_PSY_ANXIETY-Anxiety_disorders',\n",
       "       'PULM_ANXIETY-Anxiety_asthmarelated_comorbidities', 'anxiety disorder'],\n",
       "      dtype='object')"
      ]
     },
     "metadata": {},
     "output_type": "display_data"
    },
    {
     "data": {
      "text/html": [
       "<h3>Cluster 54.48</h3>"
      ],
      "text/plain": [
       "<IPython.core.display.HTML object>"
      ]
     },
     "metadata": {},
     "output_type": "display_data"
    },
    {
     "data": {
      "text/plain": [
       "90"
      ]
     },
     "metadata": {},
     "output_type": "display_data"
    },
    {
     "data": {
      "text/plain": [
       "Index(['20431-Ever_addicted_to_a_behaviour_or_miscellanous',\n",
       "       '20480-Ever_selfharmed', '20528-Diagnosed_with_lifethreatening_illness',\n",
       "       '20537-Frequency_of_difficulty_controlling_worry_during_worst_period_of_anxiety',\n",
       "       '20539-Frequency_of_inability_to_stop_worrying_during_worst_period_of_anxiety',\n",
       "       '20542-Stronger_worrying_than_other_people_during_period_of_worst_anxiety',\n",
       "       '20544_17-Mental_health_problems_ever_diagnosed_by_a_professional_Agoraphobia',\n",
       "       '20544_2-Mental_health_problems_ever_diagnosed_by_a_professional_Schizophrenia',\n",
       "       '20544_4-Mental_health_problems_ever_diagnosed_by_a_professional_A_personality_disorder',\n",
       "       '20544_5-Mental_health_problems_ever_diagnosed_by_a_professional_Any_other_phobia_eg_disabling_fear_of_heights_or_spiders',\n",
       "       '20544_6-Mental_health_problems_ever_diagnosed_by_a_professional_Panic_attacks',\n",
       "       '20544_7-Mental_health_problems_ever_diagnosed_by_a_professional_Obsessive_compulsive_disorder_OCD',\n",
       "       '20546_1-Substances_taken_for_depression_Unprescribed_medication_more_than_once',\n",
       "       '20546_4-Substances_taken_for_depression_Drugs_or_alcohol_more_than_once',\n",
       "       '20547_3-Activities_undertaken_to_treat_depression_Other_therapeutic_activities_such_as_mindfulness_yoga_or_art_classes',\n",
       "       '20548_1-Manifestations_of_mania_or_irritability_I_was_more_talkative_than_usual',\n",
       "       '20548_2-Manifestations_of_mania_or_irritability_I_was_more_restless_than_usual',\n",
       "       '20548_5-Manifestations_of_mania_or_irritability_I_needed_less_sleep_than_usual',\n",
       "       '20548_6-Manifestations_of_mania_or_irritability_I_was_more_creative_or_had_more_ideas_than_usual',\n",
       "       '20548_7-Manifestations_of_mania_or_irritability_I_was_easily_distracted',\n",
       "       '20548_8-Manifestations_of_mania_or_irritability_I_was_more_confident_than_usual',\n",
       "       '20548_9-Manifestations_of_mania_or_irritability_I_was_more_active_than_usual',\n",
       "       '20549_1-Substances_taken_for_anxiety_Unprescribed_medication_more_than_once',\n",
       "       '20549_4-Substances_taken_for_anxiety_Drugs_or_alcohol_more_than_once',\n",
       "       '20550_3-Activities_undertaken_to_treat_anxiety_Other_therapeutic_activities_such_as_mindfulness_yoga_or_art_classes',\n",
       "       '20551_1-Substance_of_prescription_or_overthecounter_medication_addiction_A_sedative_benzodiazepine_or_sleeping_tablet',\n",
       "       '20551_2-Substance_of_prescription_or_overthecounter_medication_addiction_A_painkiller',\n",
       "       '20551_3-Substance_of_prescription_or_overthecounter_medication_addiction_Something_else',\n",
       "       '20552_1-Behavioural_and_miscellaneous_addictions_Something_else_not_mentioned',\n",
       "       '20552_2-Behavioural_and_miscellaneous_addictions_A_behaviour',\n",
       "       '20553_1-Methods_of_selfharm_used_Something_not_listed',\n",
       "       '20553_3-Methods_of_selfharm_used_Stopping_prescribed_medication',\n",
       "       '20553_4-Methods_of_selfharm_used_Ingesting_a_medication_in_excess_of_the_normal_dose',\n",
       "       '20553_5-Methods_of_selfharm_used_Selfinjury_such_as_selfcutting_scratching_or_hitting_etc',\n",
       "       '20553_6-Methods_of_selfharm_used_Ingesting_alcohol_or_a_recreational_or_illicit_drug',\n",
       "       '20554_1-Actions_taken_following_selfharm_See_anyone_from_psychiatric_or_mental_health_services_including_liaison_services',\n",
       "       '20554_3-Actions_taken_following_selfharm_Need_hospital_treatment_eg_AE',\n",
       "       '20554_4-Actions_taken_following_selfharm_Use_a_helpline_voluntary_organization',\n",
       "       '20554_5-Actions_taken_following_selfharm_See_own_GP',\n",
       "       '20554_6-Actions_taken_following_selfharm_Receive_help_from_friends_family_neighbours',\n",
       "       '21021_raw-Pulse_wave_Arterial_Stiffness_index',\n",
       "       '2159-Ever_had_samesex_intercourse',\n",
       "       '2207-Wears_glasses_or_contact_lenses',\n",
       "       '22146_raw-Age_hayfever_or_allergic_rhinitis_diagnosed_by_doctor',\n",
       "       '22147_raw-Age_asthma_diagnosed_by_doctor',\n",
       "       '22166-Recent_medication_for_hayfever_or_allergic_rhinitis',\n",
       "       '22167-Recent_medication_for_asthma',\n",
       "       '22169-Recent_medication_for_chronic_bronchitis',\n",
       "       '22170-Recent_medication_for_COPD_Chronic_Obstructive_Pulmonary_Disease',\n",
       "       '22174-Recent_medication_for_bronchiectasis', '2227-Other_eye_problems',\n",
       "       '22503_raw-Years_of_cough_on_most_days',\n",
       "       '22506_111-Tobacco_smoking_Smokes_on_most_or_all_days',\n",
       "       '22506_112-Tobacco_smoking_Occasionally',\n",
       "       '22506_113-Tobacco_smoking_Exsmoker',\n",
       "       '22506_114-Tobacco_smoking_Never_smoked',\n",
       "       '22507_raw-Age_of_stopping_smoking', '22599-Number_of_jobs_held',\n",
       "       '22601_11212693-Job_coding_factoryworks_manager_shift_manager',\n",
       "       '22601_11373228-Job_coding_research_and_development_manager',\n",
       "       '22601_11423324-Job_coding_customer_carerelations_manager_help_desk_manager',\n",
       "       '22601_12253140-Job_coding_sports_centre_manager_riding_school_owner_sports_ground_manager_baths_manager',\n",
       "       '22601_21123022-Job_coding_biochemist_medical_laboratory_scientific_officer',\n",
       "       '22601_21133024-Job_coding_mathematician',\n",
       "       '22601_21213038-Job_coding_civil_engineer_transport_engineer_structural_engineer_borough_surveyor',\n",
       "       '22601_21222679-Job_coding_mechanical_engineer',\n",
       "       '22601_21222865-Job_coding_mechanical_engineer',\n",
       "       '22601_21232866-Job_coding_electrical_engineer_generating_engineer_power_engineer_power_transmission_engineer',\n",
       "       '22601_21272684-Job_coding_production_and_process_engineer',\n",
       "       '22601_23113030-Job_coding_university_lecturerprofessor',\n",
       "       '22601_23133421-Job_coding_school_inspector_education_inspector',\n",
       "       '22601_23193429-Job_coding_day_nursery_manager_or_owner',\n",
       "       '22601_23293031-Job_coding_other_researchers_including_in_broadcasting_journalism_photography_printing_and_publishing',\n",
       "       '22601_23293164-Job_coding_researcher_in_broadcasting_journalism_photography_printing_and_publishing',\n",
       "       '22601_24233025-Job_coding_statistician',\n",
       "       '22601_24342599-Job_coding_chartered_surveyor_building_surveyor_land_surveyor',\n",
       "       '22601_24342600-Job_coding_riverwater_surveyor_surveyor_and_estimator_topographer_property_surveyor',\n",
       "       '22601_24343291-Job_coding_chartered_surveyor_building_surveyor_land_surveyor_miningminerals_surveyor_riverwater_surveyor_surveyor_and_estimator_topographer_property_surveyor',\n",
       "       '22601_24513035-Job_coding_librarian_assistant_librarian',\n",
       "       '22601_24513424-Job_coding_librarian_assistant_librarian',\n",
       "       '22601_31113086-Job_coding_laboratory_technician',\n",
       "       '22601_31122951-Job_coding_electricalelectronics_technician',\n",
       "       '22601_31153052-Job_coding_quality_assurance_technician_or_coordinator',\n",
       "       '22601_31193055-Job_coding_other_engineering_technician_including_materials_technician_technical_assistant_technical_officer',\n",
       "       '22601_32113077-Job_coding_health_visitor',\n",
       "       '22601_32323112-Job_coding_benefits_advisor_citizens_advice_bureau_adviser_debt_counsellor',\n",
       "       '22601_32323410-Job_coding_schoolstudent_counsellor_school_attendance_officer',\n",
       "       '22601_34333162-Job_coding_public_relations_officer_press_officer_information_officer',\n",
       "       '22601_35333266-Job_coding_insurance_underwriter_insurance_inspector_insurance_account_handler',\n",
       "       '22601_35623213-Job_coding_personnel_or_industrial_relations_officer_recruitment_consultant'],\n",
       "      dtype='object')"
      ]
     },
     "metadata": {},
     "output_type": "display_data"
    },
    {
     "data": {
      "text/html": [
       "<h3>Cluster 54.49</h3>"
      ],
      "text/plain": [
       "<IPython.core.display.HTML object>"
      ]
     },
     "metadata": {},
     "output_type": "display_data"
    },
    {
     "data": {
      "text/plain": [
       "6"
      ]
     },
     "metadata": {},
     "output_type": "display_data"
    },
    {
     "data": {
      "text/plain": [
       "Index(['ASTHMA_MEDICATIO_COMORB-Medication_related_adverse_effects',\n",
       "       'H7_LENS-Disorders_of_lens',\n",
       "       'PULM_MEDICATIO_COMORB-Medication_related_adverse_effects_AsthmaCOPD',\n",
       "       'VII_EYE_ADNEXA-Diseases_of_the_eye_and_adnexa', 'age-related cataract',\n",
       "       'cataract'],\n",
       "      dtype='object')"
      ]
     },
     "metadata": {},
     "output_type": "display_data"
    },
    {
     "data": {
      "text/html": [
       "<h3>Cluster 54.50</h3>"
      ],
      "text/plain": [
       "<IPython.core.display.HTML object>"
      ]
     },
     "metadata": {},
     "output_type": "display_data"
    },
    {
     "data": {
      "text/plain": [
       "4"
      ]
     },
     "metadata": {},
     "output_type": "display_data"
    },
    {
     "data": {
      "text/plain": [
       "Index(['30150-Eosinophill_count', '30210_raw-Eosinophill_percentage',\n",
       "       'eosinophil count', 'sum of eosinophil and basophil counts'],\n",
       "      dtype='object')"
      ]
     },
     "metadata": {},
     "output_type": "display_data"
    },
    {
     "data": {
      "text/html": [
       "<h3>Cluster 54.51</h3>"
      ],
      "text/plain": [
       "<IPython.core.display.HTML object>"
      ]
     },
     "metadata": {},
     "output_type": "display_data"
    },
    {
     "data": {
      "text/plain": [
       "4"
      ]
     },
     "metadata": {},
     "output_type": "display_data"
    },
    {
     "data": {
      "text/plain": [
       "Index(['C3_SKIN-Malignant_neoplasm_of_skin',\n",
       "       'C_OTHER_SKIN-Other_malignant_neoplasms_of_skin', 'C_SKIN',\n",
       "       'skin neoplasm'],\n",
       "      dtype='object')"
      ]
     },
     "metadata": {},
     "output_type": "display_data"
    },
    {
     "data": {
      "text/html": [
       "<h3>Cluster 54.52</h3>"
      ],
      "text/plain": [
       "<IPython.core.display.HTML object>"
      ]
     },
     "metadata": {},
     "output_type": "display_data"
    },
    {
     "data": {
      "text/plain": [
       "14"
      ]
     },
     "metadata": {},
     "output_type": "display_data"
    },
    {
     "data": {
      "text/plain": [
       "Index(['30000_raw-White_blood_cell_leukocyte_count',\n",
       "       '30130_raw-Monocyte_count', '30140_raw-Neutrophill_count',\n",
       "       '30180_raw-Lymphocyte_percentage', '30190_raw-Monocyte_percentage',\n",
       "       '30200_raw-Neutrophill_percentage', 'granulocyte count',\n",
       "       'leukocyte count', 'lymphocyte count', 'monocyte count',\n",
       "       'myeloid white cell count', 'neutrophil count',\n",
       "       'sum of basophil and neutrophil counts',\n",
       "       'sum of neutrophil and eosinophil counts'],\n",
       "      dtype='object')"
      ]
     },
     "metadata": {},
     "output_type": "display_data"
    },
    {
     "data": {
      "text/html": [
       "<h3>Cluster 54.53</h3>"
      ],
      "text/plain": [
       "<IPython.core.display.HTML object>"
      ]
     },
     "metadata": {},
     "output_type": "display_data"
    },
    {
     "data": {
      "text/plain": [
       "7"
      ]
     },
     "metadata": {},
     "output_type": "display_data"
    },
    {
     "data": {
      "text/plain": [
       "Index(['5984_raw-ECG_load', '5986_raw-ECG_phase_time',\n",
       "       '5992-ECG_phase_duration', '5993-ECG_number_of_stages_in_a_phase',\n",
       "       '6032_raw-Maximum_workload_during_fitness_test',\n",
       "       '6038_raw-Number_of_trend_entries', '6039-Duration_of_fitness_test'],\n",
       "      dtype='object')"
      ]
     },
     "metadata": {},
     "output_type": "display_data"
    }
   ],
   "source": [
    "for k in selected_k_values:\n",
    "    display(HTML(f\"<h2>Partition with k={k}</h2>\"))\n",
    "    display(best_partitions.loc[k])\n",
    "\n",
    "    part = best_partitions.loc[k, \"partition\"]\n",
    "    display(part.shape)\n",
    "\n",
    "    part_stats = pd.Series(part).value_counts()\n",
    "    display(part_stats)\n",
    "\n",
    "    for cluster_number in part_stats.index.sort_values():\n",
    "        display(HTML(f\"<h3>Cluster {k}.{cluster_number}</h3>\"))\n",
    "\n",
    "        cluster_traits = data_umap[part == cluster_number].index\n",
    "        display(len(cluster_traits))\n",
    "        display(cluster_traits)"
   ]
  },
  {
   "cell_type": "code",
   "execution_count": null,
   "metadata": {
    "papermill": {
     "duration": 0.402609,
     "end_time": "2021-03-11T05:13:02.442143",
     "exception": false,
     "start_time": "2021-03-11T05:13:02.039534",
     "status": "completed"
    },
    "tags": []
   },
   "outputs": [],
   "source": []
  }
 ],
 "metadata": {
  "jupytext": {
   "cell_metadata_filter": "all,-execution,-papermill,-trusted",
   "formats": "ipynb,py//py:percent"
  },
  "kernelspec": {
   "display_name": "Python 3",
   "language": "python",
   "name": "python3"
  },
  "language_info": {
   "codemirror_mode": {
    "name": "ipython",
    "version": 3
   },
   "file_extension": ".py",
   "mimetype": "text/x-python",
   "name": "python",
   "nbconvert_exporter": "python",
   "pygments_lexer": "ipython3",
   "version": "3.8.8"
  },
  "papermill": {
   "default_parameters": {},
   "duration": 4.746819,
   "end_time": "2021-03-11T05:13:03.152845",
   "environment_variables": {},
   "exception": null,
   "input_path": "16_consensus_clustering/030_02-analysis-clusters.ipynb",
   "output_path": "16_consensus_clustering/030_02-analysis-clusters.run.ipynb",
   "parameters": {},
   "start_time": "2021-03-11T05:12:58.406026",
   "version": "2.2.2"
  },
  "toc-autonumbering": true,
  "toc-showcode": false,
  "toc-showmarkdowntxt": false,
  "toc-showtags": false
 },
 "nbformat": 4,
 "nbformat_minor": 4
}
